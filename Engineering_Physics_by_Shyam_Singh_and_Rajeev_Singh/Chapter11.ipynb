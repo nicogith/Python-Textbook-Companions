{
 "metadata": {
  "name": "",
  "signature": "sha256:4bb25a18af878dce815ea6fd0470757443fe2ad8404e54fa1bb8e38dd97cd417"
 },
 "nbformat": 3,
 "nbformat_minor": 0,
 "worksheets": [
  {
   "cells": [
    {
     "cell_type": "heading",
     "level": 1,
     "metadata": {},
     "source": [
      "11: Electrostatics and electromagnetic theory"
     ]
    },
    {
     "cell_type": "heading",
     "level": 2,
     "metadata": {},
     "source": [
      "Example number 11.1, Page number 279"
     ]
    },
    {
     "cell_type": "code",
     "collapsed": false,
     "input": [
      "#importing modules\n",
      "import math\n",
      "from __future__ import division\n",
      "\n",
      "#Variable declaration\n",
      "mew = 1;      #parameter of aluminium\n",
      "sigma = 3.54*10**7;      #conductivity(mho/m)\n",
      "delta = 0.01*10**-3;       #skin depth of aluminium(mm)\n",
      "\n",
      "#Calculation\n",
      "new = 1/((delta**2)*math.pi*mew*sigma);       #frequency(Hz)\n",
      "new = math.ceil(new*10**2)/10**2;   #rounding off to 2 decimals\n",
      "\n",
      "#Result\n",
      "print \"frequency is\",new,\"Hz\"\n",
      "print \"answer given in the book is wrong\""
     ],
     "language": "python",
     "metadata": {},
     "outputs": [
      {
       "output_type": "stream",
       "stream": "stdout",
       "text": [
        "frequency is 89.92 Hz\n",
        "answer given in the book is wrong\n"
       ]
      }
     ],
     "prompt_number": 2
    },
    {
     "cell_type": "heading",
     "level": 2,
     "metadata": {},
     "source": [
      "Example number 11.2, Page number 280"
     ]
    },
    {
     "cell_type": "code",
     "collapsed": false,
     "input": [
      "#importing modules\n",
      "import math\n",
      "from __future__ import division\n",
      "\n",
      "#Variable declaration\n",
      "se = 2;         #solar energy(cal /min /cm**2)\n",
      "j = (4.2*10**4)/60;       #conversion factor from cal /min /cm**2 to J /m**2 /sec)\n",
      "mew0 = 4*math.pi*10**-7;         #permeability of free space(H/m)\n",
      "epsilon0 = 8.854*10**-12;        #permittivity of free space(F/m)\n",
      "\n",
      "#Calculation\n",
      "EH = se*j;         #solar energy(J /m**2 /sec)\n",
      "EbyH = math.sqrt(mew0/epsilon0);\n",
      "EbyH = math.ceil(EbyH*10)/10;   #rounding off to 1 decimal\n",
      "H = math.sqrt(EH/EbyH);         #magnetic field of radiation\n",
      "E = EbyH*H;\n",
      "H = math.ceil(H*10**3)/10**3;   #rounding off to 3 decimals\n",
      "E = math.ceil(E*10)/10;   #rounding off to 1 decimal\n",
      "E0 = E*math.sqrt(2);        #electric field of radiation(volt/m)\n",
      "H0 = H*math.sqrt(2);        #magnetic field of radiation (amp-turn/m)\n",
      "H0 = math.ceil(H0*10**2)/10**2;   #rounding off to 2 decimals\n",
      "\n",
      "#Result\n",
      "print \"electric field of radiation is\",int(E0),\"volt/m\"\n",
      "print \"magnetic field of radiation is\",H0,\"amp-turn/m\""
     ],
     "language": "python",
     "metadata": {},
     "outputs": [
      {
       "output_type": "stream",
       "stream": "stdout",
       "text": [
        "electric field of radiation is 1027 volt/m\n",
        "magnetic field of radiation is 2.73 amp-turn/m\n"
       ]
      }
     ],
     "prompt_number": 14
    },
    {
     "cell_type": "heading",
     "level": 2,
     "metadata": {},
     "source": [
      "Example number 11.3, Page number 280"
     ]
    },
    {
     "cell_type": "code",
     "collapsed": false,
     "input": [
      "#importing modules\n",
      "import math\n",
      "from __future__ import division\n",
      "\n",
      "#Variable declaration\n",
      "p = 4.3*10**-8;         #polarization(C/m**2)\n",
      "E = 1000;              #electric field(V/m)\n",
      "epsilon0 = 8.85*10**-12;        #permittivity of free space(F/m)\n",
      "\n",
      "#Calculation\n",
      "epsilonr = 1+(p/(epsilon0*E));         #relative permittivity\n",
      "epsilonr = math.ceil(epsilonr*10**2)/10**2;   #rounding off to 2 decimals\n",
      "\n",
      "#Result\n",
      "print \"relative permittivity is\",epsilonr"
     ],
     "language": "python",
     "metadata": {},
     "outputs": [
      {
       "output_type": "stream",
       "stream": "stdout",
       "text": [
        "relative permittivity is 5.86\n"
       ]
      }
     ],
     "prompt_number": 16
    }
   ],
   "metadata": {}
  }
 ]
}