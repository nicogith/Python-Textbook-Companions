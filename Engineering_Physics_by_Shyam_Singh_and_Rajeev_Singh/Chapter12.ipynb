{
 "metadata": {
  "name": "",
  "signature": "sha256:85ef8262dd8d094957ce6eda00a743c757c0eaabccf750168045359d519c0a4b"
 },
 "nbformat": 3,
 "nbformat_minor": 0,
 "worksheets": [
  {
   "cells": [
    {
     "cell_type": "heading",
     "level": 1,
     "metadata": {},
     "source": [
      "12: Superconductivity"
     ]
    },
    {
     "cell_type": "heading",
     "level": 2,
     "metadata": {},
     "source": [
      "Example number 12.1, Page number 294"
     ]
    },
    {
     "cell_type": "code",
     "collapsed": false,
     "input": [
      "#importing modules\n",
      "import math\n",
      "from __future__ import division\n",
      "\n",
      "#Variable declaration\n",
      "Tc = 9.2;        #critical temperature of metal(K)\n",
      "Bc = 1.05*10**5;        #magnetic field(amp/m)\n",
      "B0 = 1.5*10**5;         #critical field(amp/m)\n",
      "\n",
      "#Calculation\n",
      "T = math.sqrt((Tc**2)*(1-(Bc/B0)));        #temperature of metal(K)\n",
      "T = math.ceil(T*10**4)/10**4;   #rounding off to 4 decimals\n",
      "\n",
      "#Result\n",
      "print \"temperature of the metal is\",T,\"K\""
     ],
     "language": "python",
     "metadata": {},
     "outputs": [
      {
       "output_type": "stream",
       "stream": "stdout",
       "text": [
        "temperature of the metal is 5.0391 K\n"
       ]
      }
     ],
     "prompt_number": 3
    },
    {
     "cell_type": "heading",
     "level": 2,
     "metadata": {},
     "source": [
      "Example number 12.2, Page number 295"
     ]
    },
    {
     "cell_type": "code",
     "collapsed": false,
     "input": [
      "#importing modules\n",
      "import math\n",
      "from __future__ import division\n",
      "\n",
      "#Variable declaration\n",
      "Tc1 = 4.185;        #critical temperature of Hg(K)\n",
      "M1 = 199.5;         #isotopic mass(gm)\n",
      "M2 = 203.4;         #changed isotopic mass(gm)\n",
      "\n",
      "#Calculation\n",
      "Tc2 = Tc1*math.sqrt(M1/M2);       #changed critical temperature(K)\n",
      "Tc2 = math.ceil(Tc2*10**3)/10**3;   #rounding off to 3 decimals\n",
      "\n",
      "#Result\n",
      "print \"changed critical temperature of Hg is\",Tc2,\"K\""
     ],
     "language": "python",
     "metadata": {},
     "outputs": [
      {
       "output_type": "stream",
       "stream": "stdout",
       "text": [
        "changed critical temperature of Hg is 4.145 K\n"
       ]
      }
     ],
     "prompt_number": 6
    }
   ],
   "metadata": {}
  }
 ]
}