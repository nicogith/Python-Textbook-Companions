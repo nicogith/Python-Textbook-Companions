{
 "metadata": {
  "name": "",
  "signature": "sha256:56795fefbe7b62ddb8818924d3943a71c60bd075d0e3f1778fec6ffb47c8906e"
 },
 "nbformat": 3,
 "nbformat_minor": 0,
 "worksheets": [
  {
   "cells": [
    {
     "cell_type": "heading",
     "level": 1,
     "metadata": {},
     "source": [
      "3: Polarization, Laser and Holography"
     ]
    },
    {
     "cell_type": "heading",
     "level": 2,
     "metadata": {},
     "source": [
      "Example number 3.1, Page number 103"
     ]
    },
    {
     "cell_type": "code",
     "collapsed": false,
     "input": [
      "#importing modules\n",
      "import math\n",
      "from __future__ import division\n",
      "\n",
      "#Variable declaration\n",
      "x = 5;        #distance of 1st minimum(mm)\n",
      "D = 2;        #distance between lens and screen(m)\n",
      "a = 0.2;      #width of slit(mm)\n",
      "\n",
      "#Calculation\n",
      "x = x*10**-3;        #distance of 1st minimum(m)\n",
      "a = a*10**-3;        #width of slit(m)\n",
      "lamda = a*x/D;         #wavelength of light(m)\n",
      "\n",
      "#Result\n",
      "print \"wavelength of light is\",lamda,\"m\""
     ],
     "language": "python",
     "metadata": {},
     "outputs": [
      {
       "output_type": "stream",
       "stream": "stdout",
       "text": [
        "wavelength of light is 5e-07 m\n"
       ]
      }
     ],
     "prompt_number": 1
    },
    {
     "cell_type": "heading",
     "level": 2,
     "metadata": {},
     "source": [
      "Example number 3.2, Page number 103"
     ]
    },
    {
     "cell_type": "code",
     "collapsed": false,
     "input": [
      "#importing modules\n",
      "import math\n",
      "from __future__ import division\n",
      "\n",
      "#Variable declaration\n",
      "a = 0.2;       #width of slit(mm)\n",
      "lamda = 5*10**-7;       #wavelength(m)\n",
      "f = 50;        #focal length(cm)\n",
      "\n",
      "#Calculation\n",
      "a = a*10**-3;        #width of slit(m)\n",
      "f = f*10**-2;        #focal length(m)\n",
      "theta_1 = lamda/a;        #angular diffraction correcponding to 1st minima(radian)\n",
      "theta_2 = 2*lamda/a;          #angular diffraction correcponding to 2nd minima(radian)\n",
      "x = f*(theta_2-theta_1);       #separation between 1st and second minima(m)\n",
      "x = x*10**2;\n",
      "\n",
      "#Result\n",
      "print \"distance between first two minima on the screen is\",x,\"*10**-3 m\""
     ],
     "language": "python",
     "metadata": {},
     "outputs": [
      {
       "output_type": "stream",
       "stream": "stdout",
       "text": [
        "distance between first two minima on the screen is 0.125 *10**-3 m\n"
       ]
      }
     ],
     "prompt_number": 8
    },
    {
     "cell_type": "heading",
     "level": 2,
     "metadata": {},
     "source": [
      "Example number 3.3, Page number 104"
     ]
    },
    {
     "cell_type": "code",
     "collapsed": false,
     "input": [
      "#importing modules\n",
      "import math\n",
      "from __future__ import division\n",
      "\n",
      "#Variable declaration\n",
      "a = 0.16;       #1st slit width(mm)\n",
      "b = 0.8;        #2nd slit width(mm)\n",
      "\n",
      "#Calculation\n",
      "nbym = (a+b)/a;       #condition for missing orders\n",
      "\n",
      "#Result\n",
      "print \"n = \",nbym,\"m\"\n",
      "print \"n = \",nbym,\",\",2*nbym,\",\",3*nbym,\"etc for m = 1,2,3...\""
     ],
     "language": "python",
     "metadata": {},
     "outputs": [
      {
       "output_type": "stream",
       "stream": "stdout",
       "text": [
        "n =  6.0 m\n",
        "n =  6.0 , 12.0 , 18.0 etc for m = 1,2,3...\n"
       ]
      }
     ],
     "prompt_number": 13
    },
    {
     "cell_type": "heading",
     "level": 2,
     "metadata": {},
     "source": [
      "Example number 3.4, Page number 104"
     ]
    },
    {
     "cell_type": "code",
     "collapsed": false,
     "input": [
      "#importing modules\n",
      "import math\n",
      "from __future__ import division\n",
      "\n",
      "#Variable declaration\n",
      "n = 2;      #second order\n",
      "theta = 30;     #angle of diffraction(degrees)\n",
      "lamda = 5*10**-5;      #wavelength(cm)\n",
      "\n",
      "#Calculation\n",
      "theta = theta*math.pi/180;      #angle of diffraction(radian)\n",
      "aplusb = n*lamda/math.sin(theta);\n",
      "N = 1/aplusb;        #number of lines(per cm)\n",
      "\n",
      "#Result\n",
      "print \"number of lines on the grating surface is\",N,\"per cm\""
     ],
     "language": "python",
     "metadata": {},
     "outputs": [
      {
       "output_type": "stream",
       "stream": "stdout",
       "text": [
        "number of lines on the grating surface is 5000.0 per cm\n"
       ]
      }
     ],
     "prompt_number": 14
    },
    {
     "cell_type": "heading",
     "level": 2,
     "metadata": {},
     "source": [
      "Example number 3.5, Page number 105"
     ]
    },
    {
     "cell_type": "code",
     "collapsed": false,
     "input": [
      "#importing modules\n",
      "import math\n",
      "from __future__ import division\n",
      "\n",
      "#Variable declaration\n",
      "aplusb = 1.5*10**-6;       #grating element(m)\n",
      "lamda = 550;         #wavelength(nm)\n",
      "\n",
      "#Calculation\n",
      "lamda = lamda*10**-9;        #wavelength(m)\n",
      "n = aplusb/lamda;         #maximum possible order\n",
      "n = math.ceil(n*10**3)/10**3;   #rounding off to 3 decimals\n",
      "\n",
      "\n",
      "#Result\n",
      "print \"maximum possible order is\",n,\". third and higher orders are not possible\""
     ],
     "language": "python",
     "metadata": {},
     "outputs": [
      {
       "output_type": "stream",
       "stream": "stdout",
       "text": [
        "maximum possible order is 2.728 . third and higher orders are not possible\n"
       ]
      }
     ],
     "prompt_number": 19
    },
    {
     "cell_type": "heading",
     "level": 2,
     "metadata": {},
     "source": [
      "Example number 3.6, Page number 105"
     ]
    },
    {
     "cell_type": "code",
     "collapsed": false,
     "input": [
      "#importing modules\n",
      "import math\n",
      "from __future__ import division\n",
      "\n",
      "#Variable declaration\n",
      "dlamda = 0.6;      #difference in wavelength(nm)\n",
      "lamda = 589.3;     #wavelength(nm)\n",
      "n = 1;         #first order\n",
      "\n",
      "#Calculation\n",
      "N = lamda/(n*dlamda);         #number of lines on grating\n",
      "\n",
      "#Result\n",
      "print \"number of lines on grating is\",int(N)"
     ],
     "language": "python",
     "metadata": {},
     "outputs": [
      {
       "output_type": "stream",
       "stream": "stdout",
       "text": [
        "number of lines on grating is 982\n"
       ]
      }
     ],
     "prompt_number": 21
    }
   ],
   "metadata": {}
  }
 ]
}