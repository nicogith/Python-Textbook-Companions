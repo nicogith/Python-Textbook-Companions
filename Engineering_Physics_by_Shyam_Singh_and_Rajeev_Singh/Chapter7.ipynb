{
 "metadata": {
  "name": "",
  "signature": "sha256:b66ce97b080f93d72d0e47d146c1f1e700139df6e3e90b6b5ae82aab3595beed"
 },
 "nbformat": 3,
 "nbformat_minor": 0,
 "worksheets": [
  {
   "cells": [
    {
     "cell_type": "heading",
     "level": 1,
     "metadata": {},
     "source": [
      "7: Wave and Quantum Mechanics"
     ]
    },
    {
     "cell_type": "heading",
     "level": 2,
     "metadata": {},
     "source": [
      "Example number 7.1, Page number 192"
     ]
    },
    {
     "cell_type": "code",
     "collapsed": false,
     "input": [
      "#importing modules\n",
      "import math\n",
      "from __future__ import division\n",
      "\n",
      "#Variable declaration\n",
      "h = 6.625*10**-34;          #planck's constant(J sec)\n",
      "m1 = 6*10**24;             #mass of earth(kg)\n",
      "v1 = 3*10**4;              #orbital speed(m/sec)\n",
      "m2 = 10**-30;              #mass of electron(kg)\n",
      "v2 = 10**6;                #velocity of electron(m/sec)\n",
      "\n",
      "#Calculation\n",
      "lamdaE = h/(m1*v1);       #wavelength of a wave(m)\n",
      "lamdae = h/(m2*v2);         #wavelength of electron(m)\n",
      "\n",
      "#Result\n",
      "print \"wavelength of a wave is\",round(lamdaE/1e-63,2),\"*10**-63 m\"\n",
      "print \"wavelength of electron is\",lamdae,\"m\""
     ],
     "language": "python",
     "metadata": {},
     "outputs": [
      {
       "output_type": "stream",
       "stream": "stdout",
       "text": [
        "wavelength of a wave is 3.68 *10**-63 m\n",
        "wavelength of electron is 6.625e-10 m\n"
       ]
      }
     ],
     "prompt_number": 3
    },
    {
     "cell_type": "heading",
     "level": 2,
     "metadata": {},
     "source": [
      "Example number 7.2, Page number 193"
     ]
    },
    {
     "cell_type": "code",
     "collapsed": false,
     "input": [
      "#importing modules\n",
      "import math\n",
      "from __future__ import division\n",
      "\n",
      "#Variable declaration\n",
      "m = 1;        #mass of particle(g)\n",
      "v = 100;       #velocity of particle(m/sec)\n",
      "h = 6.625*10**-34;          #planck's constant(J sec)\n",
      "\n",
      "#Calculation\n",
      "m = m*10**-3;        #mass of particle(kg)\n",
      "lamda = h/(m*v);      #wavelength of particle(m)\n",
      "\n",
      "#Result\n",
      "print \"wavelength of particle is\",lamda,\"m\""
     ],
     "language": "python",
     "metadata": {},
     "outputs": [
      {
       "output_type": "stream",
       "stream": "stdout",
       "text": [
        "wavelength of particle is 6.625e-33 m\n"
       ]
      }
     ],
     "prompt_number": 5
    },
    {
     "cell_type": "heading",
     "level": 2,
     "metadata": {},
     "source": [
      "Example number 7.3, Page number 193"
     ]
    },
    {
     "cell_type": "code",
     "collapsed": false,
     "input": [
      "#importing modules\n",
      "import math\n",
      "from __future__ import division\n",
      "\n",
      "#Variable declaration\n",
      "V = 200;      #potential difference(V)\n",
      "\n",
      "#Calculation\n",
      "lamda = 12.28/math.sqrt(V);       #de Broglie wavelength(angstrom)\n",
      "lamda = math.ceil(lamda*10**4)/10**4;   #rounding off to 4 decimals\n",
      "\n",
      "#Result\n",
      "print \"de Broglie wavelength of electron is\",lamda,\"angstrom\"\n",
      "print \"answer given in the book varies due to rounding off errors\""
     ],
     "language": "python",
     "metadata": {},
     "outputs": [
      {
       "output_type": "stream",
       "stream": "stdout",
       "text": [
        "de Broglie wavelength of electron is 0.8684 angstrom\n",
        "answer given in the book varies due to rounding off errors\n"
       ]
      }
     ],
     "prompt_number": 8
    },
    {
     "cell_type": "code",
     "collapsed": false,
     "input": [],
     "language": "python",
     "metadata": {},
     "outputs": []
    }
   ],
   "metadata": {}
  }
 ]
}