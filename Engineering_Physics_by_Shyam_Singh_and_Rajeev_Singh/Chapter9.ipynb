{
 "metadata": {
  "name": "",
  "signature": "sha256:e8e761ea4c766f0a738732d4994726c98969966c5d35a3277656198f5c5939ee"
 },
 "nbformat": 3,
 "nbformat_minor": 0,
 "worksheets": [
  {
   "cells": [
    {
     "cell_type": "heading",
     "level": 1,
     "metadata": {},
     "source": [
      "9: Dielectrics"
     ]
    },
    {
     "cell_type": "heading",
     "level": 2,
     "metadata": {},
     "source": [
      "Example number 9.1, Page number 223"
     ]
    },
    {
     "cell_type": "code",
     "collapsed": false,
     "input": [
      "#importing modules\n",
      "import math\n",
      "from __future__ import division\n",
      "\n",
      "#Variable declaration\n",
      "p = 4.3*10**-8;         #polarization(C/m**2)\n",
      "E = 1000;         #electric field(V/m)\n",
      "epsilon_0 = 8.85*10**-12;      #permittivity of free space(F/m)\n",
      "\n",
      "#Calculation\n",
      "epsilon_r = 1+(p/(epsilon_0*E));         #relative permittivity\n",
      "epsilon_r = math.ceil(epsilon_r*10**2)/10**2;   #rounding off to 2 decimals\n",
      "\n",
      "#Result\n",
      "print \"relative permittivity is\",epsilon_r"
     ],
     "language": "python",
     "metadata": {},
     "outputs": [
      {
       "output_type": "stream",
       "stream": "stdout",
       "text": [
        "relative permittivity is 5.86\n"
       ]
      }
     ],
     "prompt_number": 4
    }
   ],
   "metadata": {}
  }
 ]
}