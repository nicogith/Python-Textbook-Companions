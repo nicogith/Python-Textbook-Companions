{
 "cells": [
  {
   "cell_type": "markdown",
   "metadata": {},
   "source": [
    "# 5: Central Forces"
   ]
  },
  {
   "cell_type": "markdown",
   "metadata": {},
   "source": [
    "## Example number 4, Page number 200"
   ]
  },
  {
   "cell_type": "code",
   "execution_count": 5,
   "metadata": {
    "collapsed": false
   },
   "outputs": [
    {
     "name": "stdout",
     "output_type": "stream",
     "text": [
      "gravitational energy is 1.6675 *10**-10 J\n"
     ]
    }
   ],
   "source": [
    "#importing modules\n",
    "import math\n",
    "from __future__ import division\n",
    "\n",
    "#Variable declaration\n",
    "m1=m2=0.5;           #mass(kg)\n",
    "r2=0.1;              #distance(m)\n",
    "r1=float(\"inf\");     #distance(m)\n",
    "G=6.67*10**-11;      #gravitational constant\n",
    "\n",
    "#Calculation\n",
    "delta_U=G*m1*m2*((1/r2)-(1/r1));        #gravitational energy(J)\n",
    "\n",
    "#Result\n",
    "print \"gravitational energy is\",delta_U*10**10,\"*10**-10 J\""
   ]
  },
  {
   "cell_type": "markdown",
   "metadata": {},
   "source": [
    "## Example number 5, Page number 201"
   ]
  },
  {
   "cell_type": "code",
   "execution_count": 8,
   "metadata": {
    "collapsed": false
   },
   "outputs": [
    {
     "name": "stdout",
     "output_type": "stream",
     "text": [
      "net energy is -146.74 *10**-11 J\n",
      "answer given in the book is wrong\n"
     ]
    }
   ],
   "source": [
    "#importing modules\n",
    "import math\n",
    "from __future__ import division\n",
    "\n",
    "#Variable declaration\n",
    "m1=1;           #mass(kg)\n",
    "m2=2;           #mass(kg)\n",
    "m3=3;           #mass(kg)\n",
    "a=0.5;              #side(m)\n",
    "G=6.67*10**-11;      #gravitational constant\n",
    "\n",
    "#Calculation\n",
    "delta_U=-G*((m1*m2)+(m2*m3)+(m3*m1))/a;        #net energy(J)\n",
    "\n",
    "#Result\n",
    "print \"net energy is\",round(delta_U*10**11,2),\"*10**-11 J\"\n",
    "print \"answer given in the book is wrong\""
   ]
  },
  {
   "cell_type": "markdown",
   "metadata": {},
   "source": [
    "## Example number 8, Page number 203"
   ]
  },
  {
   "cell_type": "code",
   "execution_count": 12,
   "metadata": {
    "collapsed": false
   },
   "outputs": [
    {
     "name": "stdout",
     "output_type": "stream",
     "text": [
      "distance where potential becomes zero is 3.6 *10**8 m\n"
     ]
    }
   ],
   "source": [
    "#importing modules\n",
    "import math\n",
    "from __future__ import division\n",
    "\n",
    "#Variable declaration\n",
    "r=4*10**8;        #distance(m)\n",
    "M1=6*10**24;      #mass of earth(kg)\n",
    "M2=7.5*10**22;    #mass of moon(kg)\n",
    "\n",
    "#Calculation\n",
    "x=r/(1+math.sqrt(M2/M1));      #distance where potential becomes zero(m)\n",
    "\n",
    "#Result\n",
    "print \"distance where potential becomes zero is\",round(x/10**8,1),\"*10**8 m\""
   ]
  },
  {
   "cell_type": "markdown",
   "metadata": {},
   "source": [
    "## Example number 10, Page number 204"
   ]
  },
  {
   "cell_type": "code",
   "execution_count": 18,
   "metadata": {
    "collapsed": false
   },
   "outputs": [
    {
     "name": "stdout",
     "output_type": "stream",
     "text": [
      "initial velocity is 306.7 km/s\n",
      "answer given in the book is wrong\n"
     ]
    }
   ],
   "source": [
    "#importing modules\n",
    "import math\n",
    "from __future__ import division\n",
    "\n",
    "#Variable declaration\n",
    "g=9.8;            #acceleration due to gravity(m/s**2)\n",
    "R=6.4*10**3;      #radius(km)\n",
    "\n",
    "#Calculation\n",
    "v=math.sqrt(3*g*R/2);    #initial velocity(km/s)\n",
    "\n",
    "#Result\n",
    "print \"initial velocity is\",round(v,1),\"km/s\"\n",
    "print \"answer given in the book is wrong\""
   ]
  },
  {
   "cell_type": "markdown",
   "metadata": {},
   "source": [
    "## Example number 11, Page number 205"
   ]
  },
  {
   "cell_type": "code",
   "execution_count": 21,
   "metadata": {
    "collapsed": false
   },
   "outputs": [
    {
     "name": "stdout",
     "output_type": "stream",
     "text": [
      "velocity of particle is 5.77 *10**-14 m/s\n"
     ]
    }
   ],
   "source": [
    "#importing modules\n",
    "import math\n",
    "from __future__ import division\n",
    "\n",
    "#Variable declaration\n",
    "m=10**-26;           #mass(kg)\n",
    "R=0.5*10**-10;              #radius(m)\n",
    "G=6.67*10**-11;      #gravitational constant\n",
    "\n",
    "#Calculation\n",
    "V=math.sqrt(G*m/(4*R));     #velocity of particle(m/s)\n",
    "\n",
    "#Result\n",
    "print \"velocity of particle is\",round(V*10**14,2),\"*10**-14 m/s\""
   ]
  },
  {
   "cell_type": "markdown",
   "metadata": {},
   "source": [
    "## Example number 13, Page number 206"
   ]
  },
  {
   "cell_type": "code",
   "execution_count": 25,
   "metadata": {
    "collapsed": false
   },
   "outputs": [
    {
     "name": "stdout",
     "output_type": "stream",
     "text": [
      "gravitational potential is 6.67 *10**-10 J/kg\n"
     ]
    }
   ],
   "source": [
    "#importing modules\n",
    "import math\n",
    "from __future__ import division\n",
    "\n",
    "#Variable declaration\n",
    "m=1;           #mass(kg)\n",
    "r=0.1;              #radius(m)\n",
    "G=6.67*10**-11;      #gravitational constant\n",
    "\n",
    "#Calculation\n",
    "F=G*m/r**2;     #force(N/kg)\n",
    "U=F*r;          #gravitational potential(J/kg)\n",
    "\n",
    "#Result\n",
    "print \"gravitational potential is\",U*10**10,\"*10**-10 J/kg\""
   ]
  },
  {
   "cell_type": "markdown",
   "metadata": {},
   "source": [
    "## Example number 15, Page number 207"
   ]
  },
  {
   "cell_type": "code",
   "execution_count": 27,
   "metadata": {
    "collapsed": false
   },
   "outputs": [
    {
     "name": "stdout",
     "output_type": "stream",
     "text": [
      "eccentricity of orbit is 0.9\n"
     ]
    }
   ],
   "source": [
    "#importing modules\n",
    "import math\n",
    "from __future__ import division\n",
    "\n",
    "#Variable declaration\n",
    "rmax=1.2*10**12;      #semi minor axis(m)\n",
    "rmin=0.06*10**12;     #semi major axis(m)\n",
    "\n",
    "#Calculation\n",
    "e=(rmax-rmin)/(rmax+rmin);      #eccentricity of orbit\n",
    "\n",
    "#Result\n",
    "print \"eccentricity of orbit is\",round(e,1)"
   ]
  },
  {
   "cell_type": "markdown",
   "metadata": {},
   "source": [
    "## Example number 16, Page number 207"
   ]
  },
  {
   "cell_type": "code",
   "execution_count": 30,
   "metadata": {
    "collapsed": false
   },
   "outputs": [
    {
     "name": "stdout",
     "output_type": "stream",
     "text": [
      "maximum velocity is 525 km/sec\n"
     ]
    }
   ],
   "source": [
    "#importing modules\n",
    "import math\n",
    "from __future__ import division\n",
    "\n",
    "#Variable declaration\n",
    "Vmin=21;        #minimum velocity(km/sec)\n",
    "rmax=4*10**10;      #apogee position(m)\n",
    "rmin=1.6*10**9;     #perigee position(m)\n",
    "\n",
    "#Calculation\n",
    "Vmax=Vmin*rmax/rmin;    #maximum velocity(km/sec)\n",
    "\n",
    "#Result\n",
    "print \"maximum velocity is\",int(Vmax),\"km/sec\""
   ]
  },
  {
   "cell_type": "markdown",
   "metadata": {},
   "source": [
    "## Example number 17, Page number 208"
   ]
  },
  {
   "cell_type": "code",
   "execution_count": 36,
   "metadata": {
    "collapsed": false
   },
   "outputs": [
    {
     "name": "stdout",
     "output_type": "stream",
     "text": [
      "apogee position is 2.76 *10**10 m\n",
      "velocity at apogee point is 32.57 km/s\n"
     ]
    }
   ],
   "source": [
    "#importing modules\n",
    "import math\n",
    "from __future__ import division\n",
    "\n",
    "#Variable declaration\n",
    "e=0.05;      #eccentricity of orbit\n",
    "Vmin=36;        #minimum velocity(km/sec)\n",
    "rmin=2.5*10**10;     #perigee position(m)\n",
    "\n",
    "#Calculation\n",
    "rmax=rmin*((1+e)/(1-e));      #apogee position(m)\n",
    "Vmax=Vmin*rmin/rmax;          #velocity at apogee point(km/s) \n",
    "\n",
    "#Result\n",
    "print \"apogee position is\",round(rmax/10**10,2),\"*10**10 m\"\n",
    "print \"velocity at apogee point is\",round(Vmax,2),\"km/s\""
   ]
  },
  {
   "cell_type": "markdown",
   "metadata": {},
   "source": [
    "## Example number 18, Page number 208"
   ]
  },
  {
   "cell_type": "code",
   "execution_count": 38,
   "metadata": {
    "collapsed": false
   },
   "outputs": [
    {
     "name": "stdout",
     "output_type": "stream",
     "text": [
      "eccentricity of orbit is 0.0417\n"
     ]
    }
   ],
   "source": [
    "#importing modules\n",
    "import math\n",
    "from __future__ import division\n",
    "\n",
    "#Variable declaration\n",
    "Vmin=23;        #minimum velocity(km/sec)\n",
    "Vmax=25;          #velocity at apogee point(km/s) \n",
    "\n",
    "#Calculation\n",
    "e=(Vmax-Vmin)/(Vmax+Vmin);      #eccentricity of orbit\n",
    "\n",
    "#Result\n",
    "print \"eccentricity of orbit is\",round(e,4)"
   ]
  },
  {
   "cell_type": "markdown",
   "metadata": {},
   "source": [
    "## Example number 20, Page number 208"
   ]
  },
  {
   "cell_type": "code",
   "execution_count": 40,
   "metadata": {
    "collapsed": false
   },
   "outputs": [
    {
     "name": "stdout",
     "output_type": "stream",
     "text": [
      "mass of earth is 5.968 *10**24 kg\n"
     ]
    }
   ],
   "source": [
    "#importing modules\n",
    "import math\n",
    "from __future__ import division\n",
    "\n",
    "#Variable declaration\n",
    "r=3.8*10**8;       #radius(m)\n",
    "T=27*24*3600;      #time period(sec)\n",
    "G=6.67*10**-11;    #gravitational constant\n",
    "\n",
    "#Calculation\n",
    "M=4*math.pi**2*r**3/(G*T**2);     #mass of earth(kg)\n",
    "\n",
    "#Result\n",
    "print \"mass of earth is\",round(M/10**24,3),\"*10**24 kg\""
   ]
  },
  {
   "cell_type": "markdown",
   "metadata": {},
   "source": [
    "## Example number 21, Page number 209"
   ]
  },
  {
   "cell_type": "code",
   "execution_count": 43,
   "metadata": {
    "collapsed": false
   },
   "outputs": [
    {
     "name": "stdout",
     "output_type": "stream",
     "text": [
      "ratio of semi major axis is 0.724\n"
     ]
    }
   ],
   "source": [
    "#importing modules\n",
    "import math\n",
    "from __future__ import division\n",
    "\n",
    "#Variable declaration\n",
    "T1=225;          #time period of venus(days)\n",
    "T2=365;          #time period of earth(days)\n",
    "\n",
    "#Calculation\n",
    "a1bya2=(T1/T2)**(2/3);     #ratio of semi major axis\n",
    "\n",
    "#Result\n",
    "print \"ratio of semi major axis is\",round(a1bya2,3)"
   ]
  },
  {
   "cell_type": "markdown",
   "metadata": {},
   "source": [
    "## Example number 22, Page number 209"
   ]
  },
  {
   "cell_type": "code",
   "execution_count": 45,
   "metadata": {
    "collapsed": false
   },
   "outputs": [
    {
     "name": "stdout",
     "output_type": "stream",
     "text": [
      "time period of planet is 510 days\n"
     ]
    }
   ],
   "source": [
    "#importing modules\n",
    "import math\n",
    "from __future__ import division\n",
    "\n",
    "#Variable declaration\n",
    "a2=1;            #assume\n",
    "a1=1.25*a2;      #axis of planet\n",
    "T2=365;          #time period of earth(days)\n",
    "\n",
    "#Calculation\n",
    "T1=T2*math.sqrt((a1/a2)**3);          #time period of planet(days)\n",
    "\n",
    "#Result\n",
    "print \"time period of planet is\",int(T1),\"days\""
   ]
  },
  {
   "cell_type": "markdown",
   "metadata": {},
   "source": [
    "## Example number 23, Page number 209"
   ]
  },
  {
   "cell_type": "code",
   "execution_count": 47,
   "metadata": {
    "collapsed": false
   },
   "outputs": [
    {
     "name": "stdout",
     "output_type": "stream",
     "text": [
      "change in time period is 15.36 hours\n"
     ]
    }
   ],
   "source": [
    "#importing modules\n",
    "import math\n",
    "from __future__ import division\n",
    "\n",
    "#Variable declaration\n",
    "r1=1;               #assume\n",
    "r2=1-(40/100);      #radius of earth\n",
    "T1=24;          #time period of earth(hours)\n",
    "\n",
    "#Calculation\n",
    "T2=T1-(T1*((r2/r1)**2));          #change in time period(hours)\n",
    "\n",
    "#Result\n",
    "print \"change in time period is\",T2,\"hours\""
   ]
  },
  {
   "cell_type": "markdown",
   "metadata": {},
   "source": [
    "## Example number 24, Page number 210"
   ]
  },
  {
   "cell_type": "code",
   "execution_count": 50,
   "metadata": {
    "collapsed": false
   },
   "outputs": [
    {
     "name": "stdout",
     "output_type": "stream",
     "text": [
      "time interval to reach sun is 64.5 days\n"
     ]
    }
   ],
   "source": [
    "#importing modules\n",
    "import math\n",
    "from __future__ import division\n",
    "\n",
    "#Variable declaration\n",
    "R=1;       #assume\n",
    "a1=R/2;\n",
    "a=R;\n",
    "T=365;     #time period of earth(days)\n",
    "\n",
    "#Calculation\n",
    "T1=T*math.sqrt((a1/a)**3)/2;     #time interval to reach sun(days)\n",
    "\n",
    "#Result\n",
    "print \"time interval to reach sun is\",round(T1,1),\"days\""
   ]
  },
  {
   "cell_type": "markdown",
   "metadata": {},
   "source": [
    "## Example number 25, Page number 210"
   ]
  },
  {
   "cell_type": "code",
   "execution_count": 56,
   "metadata": {
    "collapsed": false
   },
   "outputs": [
    {
     "name": "stdout",
     "output_type": "stream",
     "text": [
      "mass of sun is 2 *10**30 kg\n"
     ]
    }
   ],
   "source": [
    "#importing modules\n",
    "import math\n",
    "from __future__ import division\n",
    "\n",
    "#Variable declaration\n",
    "R=1.5*10**11;       #radius(m)\n",
    "T=86400*365;      #time period(sec)\n",
    "G=6.67*10**-11;    #gravitational constant\n",
    "\n",
    "#Calculation\n",
    "M=4*math.pi**2*R**3/(G*T**2);     #mass of sun(kg)\n",
    "\n",
    "#Result\n",
    "print \"mass of sun is\",int(M/10**30),\"*10**30 kg\""
   ]
  }
 ],
 "metadata": {
  "kernelspec": {
   "display_name": "Python 2",
   "language": "python",
   "name": "python2"
  },
  "language_info": {
   "codemirror_mode": {
    "name": "ipython",
    "version": 2
   },
   "file_extension": ".py",
   "mimetype": "text/x-python",
   "name": "python",
   "nbconvert_exporter": "python",
   "pygments_lexer": "ipython2",
   "version": "2.7.11"
  }
 },
 "nbformat": 4,
 "nbformat_minor": 0
}
