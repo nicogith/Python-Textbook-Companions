{
 "cells": [
  {
   "cell_type": "markdown",
   "metadata": {},
   "source": [
    "# 3: Rigid Body Dynamics"
   ]
  },
  {
   "cell_type": "markdown",
   "metadata": {},
   "source": [
    "## Example number 1, Page number 116"
   ]
  },
  {
   "cell_type": "code",
   "execution_count": 2,
   "metadata": {
    "collapsed": false
   },
   "outputs": [
    {
     "name": "stdout",
     "output_type": "stream",
     "text": [
      "moment of inertia through centre is 5 kg m**2\n",
      "moment of inertia through length of rod is 10 kg m**2\n"
     ]
    }
   ],
   "source": [
    "#importing modules\n",
    "import math\n",
    "from __future__ import division\n",
    "\n",
    "#Variable declaration\n",
    "ma=mb=10;     #mass(kg)\n",
    "ra1=rb1=0.5;    #radius(m)\n",
    "ra2=1;          #radius(m)\n",
    "rb2=0;          #radius(m)\n",
    "    \n",
    "#Calculation\n",
    "I0=(ma*ra1**2)+(mb*rb1**2);       #moment of inertia through centre(kg m**2)\n",
    "IA=IB=(ma*ra2**2)+(mb*rb2**2);       #moment of inertia through length of rod(kg m**2)\n",
    "\n",
    "#Result\n",
    "print \"moment of inertia through centre is\",int(I0),\"kg m**2\"\n",
    "print \"moment of inertia through length of rod is\",IA,\"kg m**2\""
   ]
  },
  {
   "cell_type": "markdown",
   "metadata": {},
   "source": [
    "## Example number 3, Page number 117"
   ]
  },
  {
   "cell_type": "code",
   "execution_count": 17,
   "metadata": {
    "collapsed": false
   },
   "outputs": [
    {
     "name": "stdout",
     "output_type": "stream",
     "text": [
      "final angular velocity is 3 rev/sec\n",
      "increase in kinetic energy 237.0 J\n"
     ]
    }
   ],
   "source": [
    "#importing modules\n",
    "import math\n",
    "from __future__ import division\n",
    "\n",
    "#Variable declaration\n",
    "I0=6;             #initial moment of inertia(Kg m**2)\n",
    "omega0=1;         #initial angular velocity(rev/sec)\n",
    "I=2;              #final moment of inertia(Kg m**2)\n",
    "\n",
    "#Calculation\n",
    "omega=I0*omega0/I;                     #final angular velocity(rev/sec)\n",
    "K0=I0*(omega0*2*math.pi)**2/2;          #initial kinetic energy(J)\n",
    "K=I*(omega*2*math.pi)**2/2;            #final kinetic energy(J)\n",
    "deltaK=K-K0;                           #increase in kinetic energy(J)\n",
    "\n",
    "#Result\n",
    "print \"final angular velocity is\",int(omega),\"rev/sec\"\n",
    "print \"increase in kinetic energy\",round(deltaK),\"J\""
   ]
  },
  {
   "cell_type": "markdown",
   "metadata": {},
   "source": [
    "## Example number 4, Page number 118"
   ]
  },
  {
   "cell_type": "code",
   "execution_count": 18,
   "metadata": {
    "collapsed": false
   },
   "outputs": [
    {
     "name": "stdout",
     "output_type": "stream",
     "text": [
      "precessional angular velocity is 2 rad/sec in clockwise direction\n"
     ]
    }
   ],
   "source": [
    "#importing modules\n",
    "import math\n",
    "from __future__ import division\n",
    "\n",
    "#Variable declaration\n",
    "I=5*10**-4;             #moment of inertia(Kg m**2)\n",
    "omega=30*2*math.pi;     #angular velocity(rad/sec)\n",
    "m=0.5;                  #mass(Kg) \n",
    "g=9.8;                  #acceleration due to gravity(m/sec**2)\n",
    "r=0.04;                 #radius(m)\n",
    "\n",
    "#Calculation\n",
    "J=I*omega;              #angular momentum(Kg m**2/sec)\n",
    "tow=m*g*r;              #torque(Nm)\n",
    "omegap=tow/J;           #precessional angular velocity(rad/sec)\n",
    "\n",
    "#Result\n",
    "print \"precessional angular velocity is\",int(omegap),\"rad/sec in clockwise direction\""
   ]
  },
  {
   "cell_type": "markdown",
   "metadata": {},
   "source": [
    "## Example number 5, Page number 118"
   ]
  },
  {
   "cell_type": "code",
   "execution_count": 21,
   "metadata": {
    "collapsed": false
   },
   "outputs": [
    {
     "name": "stdout",
     "output_type": "stream",
     "text": [
      "common speed is 250 revolutions/min\n"
     ]
    }
   ],
   "source": [
    "#importing modules\n",
    "import math\n",
    "from __future__ import division\n",
    "\n",
    "#Variable declaration\n",
    "I1=I2=1;          #assume\n",
    "omega1=500;       #angular velocity(rev/min)\n",
    "omega2=0;         #angular velocity(rev/min)\n",
    "\n",
    "#Calculation\n",
    "omega=((I1*omega1)+(I2*omega2))/(I1+I2);       #common speed(revolutions/minute)\n",
    "\n",
    "#Result\n",
    "print \"common speed is\",int(omega),\"revolutions/min\""
   ]
  },
  {
   "cell_type": "markdown",
   "metadata": {},
   "source": [
    "## Example number 6, Page number 119"
   ]
  },
  {
   "cell_type": "code",
   "execution_count": 25,
   "metadata": {
    "collapsed": false
   },
   "outputs": [
    {
     "name": "stdout",
     "output_type": "stream",
     "text": [
      "precessional angular velocity is 12.19 rad/sec\n"
     ]
    }
   ],
   "source": [
    "#importing modules\n",
    "import math\n",
    "from __future__ import division\n",
    "\n",
    "#Variable declaration\n",
    "M=50;        #mass of sphere(g)\n",
    "g=980;       #acceleration due to gravity(gm/sec**2)\n",
    "r=0.02;        #radius(m)\n",
    "l=0.005;       #length(m)\n",
    "n=20;          #number of revolutions\n",
    "\n",
    "#Calculation\n",
    "I=2*M*r**2/5;     #moment of inertia of sphere(kg m**2)\n",
    "L=r+l;            #distance from pivot(m)\n",
    "omega=n*2*math.pi;      #angular velocity(rad/sec)\n",
    "omegap=M*g*L*100/(I*10**4*omega);     #precessional angular velocity(rad/sec)\n",
    "\n",
    "#Result\n",
    "print \"precessional angular velocity is\",round(omegap,2),\"rad/sec\""
   ]
  },
  {
   "cell_type": "markdown",
   "metadata": {},
   "source": [
    "## Example number 7, Page number 120"
   ]
  },
  {
   "cell_type": "code",
   "execution_count": 30,
   "metadata": {
    "collapsed": false
   },
   "outputs": [
    {
     "name": "stdout",
     "output_type": "stream",
     "text": [
      "moment of inertia of ring is 1 *10**4 gram cm**2\n",
      "angular momentum is 6.28 *10**5 erg sec\n",
      "torque is 1 *10**4 dyne cm\n"
     ]
    }
   ],
   "source": [
    "#importing modules\n",
    "import math\n",
    "from __future__ import division\n",
    "\n",
    "#Variable declaration\n",
    "M=100;     #mass(gm)\n",
    "R=10;      #radius(cm)\n",
    "omega=10*2*math.pi;      #angular velocity(rad/sec)\n",
    "t=10;        #time(sec)\n",
    "\n",
    "#Calculation\n",
    "I=M*R**2;        #moment of inertia of ring(gram cm**2)\n",
    "L=I*omega;       #angular momentum(erg sec)\n",
    "tow=L/(2*math.pi*t);       #torque(dyne cm)\n",
    "\n",
    "#Result\n",
    "print \"moment of inertia of ring is\",int(I/10**4),\"*10**4 gram cm**2\"\n",
    "print \"angular momentum is\",round(L/10**5,2),\"*10**5 erg sec\"\n",
    "print \"torque is\",int(tow/10**4),\"*10**4 dyne cm\""
   ]
  },
  {
   "cell_type": "markdown",
   "metadata": {},
   "source": [
    "## Example number 8, Page number 120"
   ]
  },
  {
   "cell_type": "code",
   "execution_count": 36,
   "metadata": {
    "collapsed": false
   },
   "outputs": [
    {
     "name": "stdout",
     "output_type": "stream",
     "text": [
      "precessional angular velocity is 1.2 radians/sec\n"
     ]
    }
   ],
   "source": [
    "#importing modules\n",
    "import math\n",
    "from __future__ import division\n",
    "\n",
    "#Variable declaration\n",
    "g=980;       #acceleration due to gravity(gm/sec**2)\n",
    "r=5;        #radius(cm)\n",
    "k=6;        #radius of gyration(cm)\n",
    "omega=2*math.pi*18;       #angular velocity(revolutions/sec)\n",
    "\n",
    "#Calculation\n",
    "omegap=g*r/(k**2*omega);     #precessional angular velocity(radians/sec)\n",
    "\n",
    "#Result\n",
    "print \"precessional angular velocity is\",round(omegap,1),\"radians/sec\""
   ]
  },
  {
   "cell_type": "markdown",
   "metadata": {},
   "source": [
    "## Example number 13, Page number 128"
   ]
  },
  {
   "cell_type": "code",
   "execution_count": 36,
   "metadata": {
    "collapsed": false
   },
   "outputs": [
    {
     "name": "stdout",
     "output_type": "stream",
     "text": [
      "torque acting on it is ( 9.6 i -7.2 j+ 0.0 k)*10**-4 Nm\n",
      "rate of change of kinetic energy is 0\n",
      "hence kinetic energy is constant\n"
     ]
    }
   ],
   "source": [
    "#importing modules\n",
    "import math\n",
    "from __future__ import division\n",
    "\n",
    "#Variable declaration\n",
    "M=0.1;        #mass(kg)\n",
    "R=0.04;       #radius(m)\n",
    "#omega=3i+4j+6k\n",
    "omegax=3;     #angular velocity(rad/s)\n",
    "omegay=4;     #angular velocity(rad/s)\n",
    "omegaz=6;     #angular velocity(rad/s)\n",
    "domegaxbydt=domegaybydt=domegazbydt=0;\n",
    "\n",
    "#Calculation\n",
    "Ixx=M*R**2/4;    #principal inertia element(kg m**2)\n",
    "Iyy=M*R**2/4;    #principal inertia element(kg m**2)\n",
    "Izz=M*R**2/2;    #principal inertia element(kg m**2)\n",
    "towx=(omegax*domegaxbydt)+(omegay*omegaz*(Izz-Iyy));       #torque on x(Nm)\n",
    "towy=(omegay*domegaybydt)+(omegaz*omegax*(Ixx-Izz));       #torque on y(Nm)\n",
    "towz=(omegaz*domegazbydt)+(omegax*omegay*(Iyy-Ixx));       #torque on x(Nm)\n",
    "dTbydt=(omegax*towx)+(omegay*towy)+(omegaz*towz);          #rate of change of kinetic energy\n",
    "\n",
    "#Result\n",
    "print \"torque acting on it is (\",towx*10**4,\"i\",towy*10**4,\"j+\",towz,\"k)*10**-4 Nm\"\n",
    "print \"rate of change of kinetic energy is\",int(dTbydt)\n",
    "print \"hence kinetic energy is constant\""
   ]
  },
  {
   "cell_type": "markdown",
   "metadata": {},
   "source": [
    "## Example number 14, Page number 130"
   ]
  },
  {
   "cell_type": "code",
   "execution_count": 41,
   "metadata": {
    "collapsed": false
   },
   "outputs": [
    {
     "name": "stdout",
     "output_type": "stream",
     "text": [
      "precessional angular velocity is 40 *math.pi rad/sec or 20 revolutions/sec\n"
     ]
    }
   ],
   "source": [
    "#importing modules\n",
    "import math\n",
    "from __future__ import division\n",
    "\n",
    "#Variable declaration\n",
    "M=1;       #assume\n",
    "R=1;       #assume\n",
    "omega=20*2*math.pi;     #angular velocity(rad/sec)\n",
    "\n",
    "#Calculation\n",
    "Ixx=Iyy=M*R**2/4;       #moment of inertia about diametrical axis\n",
    "Izz=M*R**2/2;       #moment of inertia about axis normal to plane\n",
    "omegap=(Izz-Ixx)*omega/Ixx;     #precessional angular velocity(radians/sec)\n",
    "\n",
    "#Result\n",
    "print \"precessional angular velocity is\",int(omegap/math.pi),\"*math.pi rad/sec or\",int(omegap/(2*math.pi)),\"revolutions/sec\""
   ]
  }
 ],
 "metadata": {
  "kernelspec": {
   "display_name": "Python 2",
   "language": "python",
   "name": "python2"
  },
  "language_info": {
   "codemirror_mode": {
    "name": "ipython",
    "version": 2
   },
   "file_extension": ".py",
   "mimetype": "text/x-python",
   "name": "python",
   "nbconvert_exporter": "python",
   "pygments_lexer": "ipython2",
   "version": "2.7.11"
  }
 },
 "nbformat": 4,
 "nbformat_minor": 0
}
