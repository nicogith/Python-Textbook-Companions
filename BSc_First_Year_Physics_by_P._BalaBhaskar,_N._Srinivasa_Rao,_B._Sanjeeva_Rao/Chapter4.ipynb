{
 "cells": [
  {
   "cell_type": "markdown",
   "metadata": {},
   "source": [
    "# 4: Mechanics of Continuous Media"
   ]
  },
  {
   "cell_type": "markdown",
   "metadata": {},
   "source": [
    "## Example number 1, Page number 162"
   ]
  },
  {
   "cell_type": "code",
   "execution_count": 3,
   "metadata": {
    "collapsed": false
   },
   "outputs": [
    {
     "name": "stdout",
     "output_type": "stream",
     "text": [
      "youngs modulus is 4.7 *10**12 N/m**2\n"
     ]
    }
   ],
   "source": [
    "#importing modules\n",
    "import math\n",
    "from __future__ import division\n",
    "\n",
    "#Variable declaration\n",
    "F=1200*9.8;           #tensile force(N)\n",
    "A=0.025*10**-4;       #area(m**2)\n",
    "delta_l=0.003;        #extension(m)\n",
    "l=3;                  #length(m)\n",
    "\n",
    "#Calculation\n",
    "Y=F*l/(A*delta_l);    #youngs modulus(N/m**2)\n",
    "\n",
    "#Result\n",
    "print \"youngs modulus is\",round(Y/10**12,1),\"*10**12 N/m**2\""
   ]
  },
  {
   "cell_type": "markdown",
   "metadata": {},
   "source": [
    "## Example number 2, Page number 162"
   ]
  },
  {
   "cell_type": "code",
   "execution_count": 37,
   "metadata": {
    "collapsed": false
   },
   "outputs": [
    {
     "name": "stdout",
     "output_type": "stream",
     "text": [
      "volume occupied at 25atm is 3499 cm**3\n",
      "answer given in the book is wrong\n"
     ]
    }
   ],
   "source": [
    "#importing modules\n",
    "import math\n",
    "from __future__ import division\n",
    "\n",
    "#Variable declaration\n",
    "v=3500;              #volume(cm**3)\n",
    "K=10*10**11;         #bulk modulus(dyne/cm**2)\n",
    "p=24*76*13.6*980;    #change in pressure(dyne/cm**2)\n",
    "\n",
    "#Calculation\n",
    "delta_v=p*v/K;       #volume occupied(cm**3)\n",
    "V=v-delta_v;         #volume occupied at 25atm(cm**3)\n",
    "\n",
    "#Result\n",
    "print \"volume occupied at 25atm is\",int(V),\"cm**3\"\n",
    "print \"answer given in the book is wrong\""
   ]
  },
  {
   "cell_type": "markdown",
   "metadata": {},
   "source": [
    "## Example number 3, Page number 163"
   ]
  },
  {
   "cell_type": "code",
   "execution_count": 36,
   "metadata": {
    "collapsed": false
   },
   "outputs": [
    {
     "name": "stdout",
     "output_type": "stream",
     "text": [
      "poissons ratio is 0.25\n"
     ]
    }
   ],
   "source": [
    "#importing modules\n",
    "import math\n",
    "from __future__ import division\n",
    "\n",
    "#Variable declaration\n",
    "eta=1;               #assume\n",
    "Y=2.5*eta;           #youngs modulus\n",
    "\n",
    "#Calculation\n",
    "sigma=Y/(2*eta)-1;   #poissons ratio\n",
    "\n",
    "#Result\n",
    "print \"poissons ratio is\",sigma"
   ]
  },
  {
   "cell_type": "markdown",
   "metadata": {},
   "source": [
    "## Example number 4, Page number 163"
   ]
  },
  {
   "cell_type": "code",
   "execution_count": 16,
   "metadata": {
    "collapsed": false
   },
   "outputs": [
    {
     "name": "stdout",
     "output_type": "stream",
     "text": [
      "bulk modulus is 1 *10**11 N/m**2\n"
     ]
    }
   ],
   "source": [
    "#importing modules\n",
    "import math\n",
    "from __future__ import division\n",
    "\n",
    "#Variable declaration\n",
    "l=0.1;           #side of cube(m)\n",
    "p=10**6;         #static pressure(pa)\n",
    "delta_v=10**-8;  #change in volume(m**3)\n",
    "\n",
    "#Calculation\n",
    "v=l**3;          #volume of cube(m**3)\n",
    "K=p*v/delta_v;   #bulk modulus(N/m**2)\n",
    "\n",
    "#Result\n",
    "print \"bulk modulus is\",int(K/10**11),\"*10**11 N/m**2\""
   ]
  },
  {
   "cell_type": "markdown",
   "metadata": {},
   "source": [
    "## Example number 5, Page number 163"
   ]
  },
  {
   "cell_type": "code",
   "execution_count": 38,
   "metadata": {
    "collapsed": false
   },
   "outputs": [
    {
     "name": "stdout",
     "output_type": "stream",
     "text": [
      "poissons ratio is 0.25\n",
      "bulk modulus is 1.33 *10**11 N/m**2\n"
     ]
    }
   ],
   "source": [
    "#importing modules\n",
    "import math\n",
    "from __future__ import division\n",
    "\n",
    "#Variable declaration\n",
    "Y=2*10**11;           #youngs modulus(N/m**2)\n",
    "eta=8*10**10;         #rigidity modulus(N/m**2)\n",
    "\n",
    "#Calculation\n",
    "sigma=Y/(2*eta)-1;    #poissons ratio\n",
    "K=Y/(3*(1-2*sigma));  #bulk modulus(N/m**2)\n",
    "\n",
    "#Result\n",
    "print \"poissons ratio is\",sigma\n",
    "print \"bulk modulus is\",round(K/10**11,2),\"*10**11 N/m**2\"\n"
   ]
  },
  {
   "cell_type": "markdown",
   "metadata": {},
   "source": [
    "## Example number 6, Page number 163"
   ]
  },
  {
   "cell_type": "code",
   "execution_count": 39,
   "metadata": {
    "collapsed": false
   },
   "outputs": [
    {
     "name": "stdout",
     "output_type": "stream",
     "text": [
      "increase in temperature is 0.01653 K\n"
     ]
    }
   ],
   "source": [
    "#importing modules\n",
    "import math\n",
    "from __future__ import division\n",
    "\n",
    "#Variable declaration\n",
    "l=2;               #length(m)\n",
    "A=2*10**-6;        #area(m**2)\n",
    "e=5*10**-3;        #elongation(m)\n",
    "rho=9000;          #density(Kg/m**3)\n",
    "C=4200;            #specific heat(J/Kg/K)\n",
    "F=1000;            #force(N)\n",
    "\n",
    "#Calculation\n",
    "v=l*A;             #volume(m**3)\n",
    "W=F*e*v/(2*A*l);   #work done(J)\n",
    "m=rho*v;           #mass(kg)\n",
    "delta_t=W/(m*C);   #increase in temperature(K)\n",
    "\n",
    "#Result\n",
    "print \"increase in temperature is\",round(delta_t,5),\"K\""
   ]
  },
  {
   "cell_type": "markdown",
   "metadata": {},
   "source": [
    "## Example number 7, Page number 164"
   ]
  },
  {
   "cell_type": "code",
   "execution_count": 40,
   "metadata": {
    "collapsed": false
   },
   "outputs": [
    {
     "name": "stdout",
     "output_type": "stream",
     "text": [
      "potential energy is 1.125 J\n",
      "answer given in the book is wrong\n"
     ]
    }
   ],
   "source": [
    "#importing modules\n",
    "import math\n",
    "from __future__ import division\n",
    "\n",
    "#Variable declaration\n",
    "l=3;                #length(m)\n",
    "A=2.5*10**-6;       #area(m**2)\n",
    "e=3*10**-3;         #elongation(m)\n",
    "F=750;              #force(N)\n",
    "\n",
    "#Calculation\n",
    "v=l*A;              #volume(m**3)\n",
    "E=F*e*v/(2*A*l);    #potential energy(J)\n",
    "\n",
    "#Result\n",
    "print \"potential energy is\",E,\"J\"\n",
    "print \"answer given in the book is wrong\""
   ]
  },
  {
   "cell_type": "markdown",
   "metadata": {},
   "source": [
    "## Example number 8, Page number 164"
   ]
  },
  {
   "cell_type": "code",
   "execution_count": 47,
   "metadata": {
    "collapsed": false
   },
   "outputs": [
    {
     "name": "stdout",
     "output_type": "stream",
     "text": [
      "depression of the rod from fixed end is 0.00648 m\n",
      "answer given in the book is wrong\n"
     ]
    }
   ],
   "source": [
    "#importing modules\n",
    "import math\n",
    "from __future__ import division\n",
    "\n",
    "#Variable declaration\n",
    "L=0.5;          #length(m)\n",
    "x=0.5;          #depression(m)\n",
    "y=15*10**-3;    #depression(m)\n",
    "x1=0.3;         #depression(m)\n",
    "\n",
    "#Calculation\n",
    "A=(L*x**2/2)-(x**3/6);            \n",
    "y1=y*((L*x1**2/2)-(x1**3/6))/A;   #depression of the rod from fixed end(m)\n",
    "\n",
    "#Result\n",
    "print \"depression of the rod from fixed end is\",y1,\"m\"\n",
    "print \"answer given in the book is wrong\""
   ]
  },
  {
   "cell_type": "markdown",
   "metadata": {},
   "source": [
    "## Example number 9, Page number 165"
   ]
  },
  {
   "cell_type": "code",
   "execution_count": 48,
   "metadata": {
    "collapsed": false
   },
   "outputs": [
    {
     "name": "stdout",
     "output_type": "stream",
     "text": [
      "deformation strain is 0.24\n"
     ]
    }
   ],
   "source": [
    "#importing modules\n",
    "import math\n",
    "from __future__ import division\n",
    "\n",
    "#Variable declaration\n",
    "r=0.4;          #radius(cm)\n",
    "l=100;          #length(cm)\n",
    "phi=60;         #twisting angle(degree)\n",
    "\n",
    "#Calculation\n",
    "theta=r*phi/l       #deformation strain\n",
    "\n",
    "#Result\n",
    "print \"deformation strain is\",theta"
   ]
  },
  {
   "cell_type": "markdown",
   "metadata": {},
   "source": [
    "## Example number 10, Page number 165"
   ]
  },
  {
   "cell_type": "code",
   "execution_count": 52,
   "metadata": {
    "collapsed": false
   },
   "outputs": [
    {
     "name": "stdout",
     "output_type": "stream",
     "text": [
      "depression at the mid point is 8.124 *10**-5 m\n",
      "answer given in the book is wrong\n"
     ]
    }
   ],
   "source": [
    "#importing modules\n",
    "import math\n",
    "from __future__ import division\n",
    "\n",
    "#Variable declaration\n",
    "m=0.1;       #mass(kg)\n",
    "g=9.8;       #acceleration due to gravity(m/sec**2)\n",
    "L=1;         #length(m)\n",
    "Y=10**10;    #youngs modulus(N/m**2)\n",
    "r=0.02;      #radius of wire(m)\n",
    "\n",
    "#Calculation\n",
    "y1=5*m*g*L**3/(12*Y*math.pi*r**4);       #depression at the mid point(m)\n",
    "\n",
    "#Result\n",
    "print \"depression at the mid point is\",round(y1*10**5,3),\"*10**-5 m\"\n",
    "print \"answer given in the book is wrong\""
   ]
  }
 ],
 "metadata": {
  "kernelspec": {
   "display_name": "Python 2",
   "language": "python",
   "name": "python2"
  },
  "language_info": {
   "codemirror_mode": {
    "name": "ipython",
    "version": 2
   },
   "file_extension": ".py",
   "mimetype": "text/x-python",
   "name": "python",
   "nbconvert_exporter": "python",
   "pygments_lexer": "ipython2",
   "version": "2.7.11"
  }
 },
 "nbformat": 4,
 "nbformat_minor": 0
}
