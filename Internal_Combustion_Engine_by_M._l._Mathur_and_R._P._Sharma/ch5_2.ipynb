{
 "metadata": {
  "name": "",
  "signature": "sha256:3a35710583d359739b87cc0f8a6ebf79a8d3da03b443ba0615c0757c022614e7"
 },
 "nbformat": 3,
 "nbformat_minor": 0,
 "worksheets": [
  {
   "cells": [
    {
     "cell_type": "heading",
     "level": 1,
     "metadata": {},
     "source": [
      "Chapter 5 : Combustion in SI Engines"
     ]
    },
    {
     "cell_type": "heading",
     "level": 2,
     "metadata": {},
     "source": [
      "Example 5.1  Page No : 178"
     ]
    },
    {
     "cell_type": "code",
     "collapsed": false,
     "input": [
      "\n",
      "\n",
      "#Given:\n",
      "theta_s = 25.      #Angle at which spark occured before top dead centre in degrees\n",
      "theta_d = 3.      #Angle at which delay ended before top dead centre in degrees\n",
      "theta_c = -12.      #Angle at which combustion finish after top dead centre in degrees\n",
      "p = 15.      #Percentage increase of delay period at half clomath.sing the throttle\n",
      "\n",
      "#Solution:\n",
      "DP = theta_s-theta_d      #Delay period in degrees\n",
      "CP = theta_d-theta_c      #Combustion period in degrees\n",
      "#(a)Full throttle, half speed\n",
      "DA1 = DP/2      #Delay angle in degrees\n",
      "TP1 = DA1+CP      #Total period in degrees\n",
      "TS1 = TP1+theta_c      #Time of spark before top dead centre in degrees\n",
      "#(b)Half throttle, half speed\n",
      "DA2 = (DP/2)+(DP/2)*p/100      #Delay angle in degrees\n",
      "TP2 = DA2+CP      #Total period in degrees\n",
      "TS2 = TP2+theta_c      #Time of spark before top dead centre in degrees\n",
      "\n",
      "#Results:\n",
      "print \" a)Full throttle, half speed\\t Time of spark before top dead centre is %d degree\"%(TS1)\n",
      "print \" a)Half throttle, half speed\\t Time of spark before top dead centre is %.2f degree\"%(TS2)\n"
     ],
     "language": "python",
     "metadata": {},
     "outputs": [
      {
       "output_type": "stream",
       "stream": "stdout",
       "text": [
        " a)Full throttle, half speed\t Time of spark before top dead centre is 14 degree\n",
        " a)Half throttle, half speed\t Time of spark before top dead centre is 15.65 degree\n"
       ]
      }
     ],
     "prompt_number": 1
    }
   ],
   "metadata": {}
  }
 ]
}