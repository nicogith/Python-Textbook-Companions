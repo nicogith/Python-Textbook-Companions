{
 "metadata": {
  "name": "",
  "signature": "sha256:4768c08ef04dc17712eafac8c566557a5e26cb1a0ebac877e9a166fe70982079"
 },
 "nbformat": 3,
 "nbformat_minor": 0,
 "worksheets": [
  {
   "cells": [
    {
     "cell_type": "heading",
     "level": 1,
     "metadata": {},
     "source": [
      "Chapter 14 : Engine Friction and Lubrication"
     ]
    },
    {
     "cell_type": "heading",
     "level": 2,
     "metadata": {},
     "source": [
      "Example 14.1  Page No : 313"
     ]
    },
    {
     "cell_type": "code",
     "collapsed": false,
     "input": [
      "\n",
      "#Given:\n",
      "bp  =  80.      #Brake power in kW\n",
      "eta_m  =  80.      #Mechanical efficiency in percent\n",
      "bsfc  =  258.      #Brake specific fuel consumption in gm/kWh\n",
      "Reduction  =  3.7      #Reduction in friction power in kW\n",
      "\n",
      "#Solution:\n",
      "ip1  =  bp*100/eta_m      #Initial indicated power in kW\n",
      "fp1  =  ip1-bp      #Initial friction power in kW\n",
      "fp2  =  fp1-Reduction      #Final friction power in kW\n",
      "ip2  =  bp+fp2      #Final indicated power in kW\n",
      "eta_m2  =  bp/ip2      #Final mechanical efficiency\n",
      "bsfc2  =  bsfc*(eta_m/(100*eta_m2))      #Final brake specific fuel consumption in gm/kWh\n",
      "Saving  =  bp*(bsfc-bsfc2)/1000      #Saving in fuel in kg/hr\n",
      "\n",
      "#Results:\n",
      "print \" a)The new mechanical efficiency, eta_m   =   %.3f\"%(eta_m2)\n",
      "print \" b)The new bsfc   =   %.1f gm/kWh\"%(bsfc2)\n",
      "print \" c)The saving in fuel per hour   =   %.2f kg/hr\"%(Saving)\n",
      "#Answers in the book are wrong\n"
     ],
     "language": "python",
     "metadata": {},
     "outputs": [
      {
       "output_type": "stream",
       "stream": "stdout",
       "text": [
        " a)The new mechanical efficiency, eta_m   =   0.831\n",
        " b)The new bsfc   =   248.5 gm/kWh\n",
        " c)The saving in fuel per hour   =   0.76 kg/hr\n"
       ]
      }
     ],
     "prompt_number": 1
    },
    {
     "cell_type": "heading",
     "level": 2,
     "metadata": {},
     "source": [
      "Example 14.2  Page No : 318"
     ]
    },
    {
     "cell_type": "code",
     "collapsed": false,
     "input": [
      "\n",
      "#Given:\n",
      "eta_it  =  30.      #Indicated thermal efficiency in percent\n",
      "fp_1500  =  18.      #Friction power at 1500 rpm in kW\n",
      "fp_2500  =  45.      #Friction power at 2500 rpm in kW\n",
      "bp  =  75.      #Brake power in kW\n",
      "CV  =  44000.      #Calorific value of fuel in kJ/kg\n",
      "\n",
      "#Solution:\n",
      "isfc  =  3600/(CV*eta_it/100)      #Indicated specific fuel consumption in kg/kWh\n",
      "eta_m_1500  =  bp/(bp+fp_1500)      #Mechanical efficiency at 1500 rpm\n",
      "bsfc_1500  =  isfc/eta_m_1500      #Brake specific fuel consumption at 1500 rpm in kg/kWh\n",
      "eta_m_2500  =  bp/(bp+fp_2500)      #Mechanical efficiency at 2500 rpm\n",
      "bsfc_2500  =  isfc/eta_m_2500      #Brake specific fuel consumption at 2500 rpm in kg/kWh\n",
      "\n",
      "#Results:\n",
      "print \" The brake specific fuel consumption\\tat 1500 rpm, bsfc_1500   =   %.3f kg/kWh\\tat 2500 rpm, bsfc_2500   =   %.3f kg/kWh\"%(bsfc_1500,bsfc_2500)\n"
     ],
     "language": "python",
     "metadata": {},
     "outputs": [
      {
       "output_type": "stream",
       "stream": "stdout",
       "text": [
        " The brake specific fuel consumption\tat 1500 rpm, bsfc_1500   =   0.338 kg/kWh\tat 2500 rpm, bsfc_2500   =   0.436 kg/kWh\n"
       ]
      }
     ],
     "prompt_number": 2
    }
   ],
   "metadata": {}
  }
 ]
}