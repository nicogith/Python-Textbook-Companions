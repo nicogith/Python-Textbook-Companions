{
 "metadata": {
  "name": "",
  "signature": "sha256:e9e136e6cd7b067b8f2b6c703dd856a477558871a3474aaeaaa197edd5a7b0af"
 },
 "nbformat": 3,
 "nbformat_minor": 0,
 "worksheets": [
  {
   "cells": [
    {
     "cell_type": "heading",
     "level": 1,
     "metadata": {},
     "source": [
      "Chapter 27 : Testing of Internal Combustion Engines According to Indian and International Standards"
     ]
    },
    {
     "cell_type": "heading",
     "level": 2,
     "metadata": {},
     "source": [
      "Example 27.1  Page No : 483"
     ]
    },
    {
     "cell_type": "code",
     "collapsed": false,
     "input": [
      "\n",
      "#Given:\n",
      "Pr  =  500.      #Smath.radians(numpy.arcmath.tan(ard reference brake power in kW\n",
      "eta_m  =  85.      #Mechanical efficiency in percent\n",
      "br  =  220.      #Smath.radians(numpy.arcmath.tan(ard specific fuel consumption in g/kWh\n",
      "px  =  87.      #Site ambient air pressure in kPa\n",
      "Tx  =  45.+273      #Site ambient temperature in K\n",
      "phix  =  80./100      #Relative humidity at site\n",
      "\n",
      "#Solution:\n",
      "#Refer table 27.1, 27.2 and 27.3\n",
      "a  =  1.      #Factor\n",
      "m  =  1.;n  =  0.75;q  =  0      #Exponents\n",
      "psx  =  9.6      #Saturation vapour pressure at site in kPa\n",
      "psr  =  3.2      #Smath.radians(numpy.arcmath.tan(ard saturation vapour pressure in kPa\n",
      "pr  =  100.      #Smath.radians(numpy.arcmath.tan(ard total barometric pressure in kPa\n",
      "Tr  =  298.      #Smath.radians(numpy.arcmath.tan(ard air temperature in K\n",
      "phir  =  0.3      #Smath.radians(numpy.arcmath.tan(ard relative humidity\n",
      "k  =  ((px-a*phix*psx)/(pr-a*phir*psr))**m*(Tr/Tx)**n      #The ratio of indicated power\n",
      "alpha  =  k-0.7*(1-k)*(100/eta_m-1)      #Power adjustment factor\n",
      "Beta  =  k/alpha      #Fuel consumption adjustment factor\n",
      "Px  =  alpha*Pr      #Brake power at site in kW\n",
      "bx  =  Beta*br      #Specific fuel consumption at site in g/kWh\n",
      "\n",
      "#Results:\n",
      "print \" The site continuous net brake power, Px   =   %.1f kW\"%(Px)\n",
      "print \" The site continuous specific fuel consumption, bx   =   %.1f g/kWh\"%(bx)\n"
     ],
     "language": "python",
     "metadata": {},
     "outputs": [
      {
       "output_type": "stream",
       "stream": "stdout",
       "text": [
        " The site continuous net brake power, Px   =   366.8 kW\n",
        " The site continuous specific fuel consumption, bx   =   228.8 g/kWh\n"
       ]
      }
     ],
     "prompt_number": 1
    },
    {
     "cell_type": "heading",
     "level": 2,
     "metadata": {},
     "source": [
      "Example 27.2  Page No : 488"
     ]
    },
    {
     "cell_type": "code",
     "collapsed": false,
     "input": [
      "\n",
      "#Given:\n",
      "Pr  =  1000.      #Smath.radians(numpy.arcmath.tan(ard reference brake power in kW\n",
      "eta_m  =  90.      #Mechanical efficiency in percent\n",
      "Pir  =  2.      #Boost pressure ratio\n",
      "Tra  =  313.      #Substitute reference air temperature in K\n",
      "Pimax  =  2.36      #Maximum boost pressure ratio\n",
      "h  =  4000.      #Altitude in m\n",
      "px  =  61.5      #Site ambient air pressure in kPa\n",
      "Tx  =  323.      #Site ambient temperature in K\n",
      "Tcx  =  310.      #Charge air coolent temperature at site in K\n",
      "\n",
      "#Solution:\n",
      "#Refer table 27.1, 27.2 and 27.3\n",
      "m  =  0.7\n",
      "n  =  1.2\n",
      "q  =  1.      #Exponents\n",
      "pr  =  100.      #Smath.radians(numpy.arcmath.tan(ard total barometric pressure in kPa\n",
      "Tcr  =  298.      #Smath.radians(numpy.arcmath.tan(ard charge air coolent temperature in K\n",
      "Tr  =  298.      #Smath.radians(numpy.arcmath.tan(ard air temperature in K\n",
      "pra  =  pr*Pir/Pimax      #Smath.radians(numpy.arcmath.tan(ard reference pressure in kPa\n",
      "pra  =  round(10*pra)/10\n",
      "k  =  (px/pra)**m*(Tra/Tx)**n*(Tcr/Tcx)**q      #The ratio of indicated power\n",
      "alpha  =  k-0.7*(1-k)*(100/eta_m-1)      #Power adjustment factor\n",
      "Px1  =  round(alpha*Pr)      #Brake power at site in kW\n",
      "#If reference conditions are not changed\n",
      "k  =  (px/pr)**m*(Tr/Tx)**n*(Tcr/Tcx)**q      #The ratio of indicated power\n",
      "alpha  =  k-0.7*(1-k)*(100/eta_m-1)      #Power adjustment factor\n",
      "Px2  =  round(alpha*Pr)      #Brake power at site in kW\n",
      "\n",
      "#Results:\n",
      "print \" Power available at an altitude of 4000m, Px   =   %d kW\"%(Px1)\n",
      "print \" Power available at an altitude of 4000m if reference conditions are not changed, Px   =   %d kW\"%(Px2)\n"
     ],
     "language": "python",
     "metadata": {},
     "outputs": [
      {
       "output_type": "stream",
       "stream": "stdout",
       "text": [
        " Power available at an altitude of 4000m, Px   =   720 kW\n",
        " Power available at an altitude of 4000m if reference conditions are not changed, Px   =   592 kW\n"
       ]
      }
     ],
     "prompt_number": 2
    },
    {
     "cell_type": "heading",
     "level": 2,
     "metadata": {},
     "source": [
      "Example 27.3  Page No : 493"
     ]
    },
    {
     "cell_type": "code",
     "collapsed": false,
     "input": [
      "from math import floor\n",
      "\n",
      "#Given:\n",
      "Px  =  640.      #Brake power at site in kW\n",
      "px  =  70.      #Site ambient air pressure in kPa\n",
      "Tx  =  330.      #Site ambient temperature in K\n",
      "Tcx  =  300.      #Charge air coolent temperature at site in K\n",
      "eta_m  =  85.      #Mechanical efficiency in percent\n",
      "py  =  100.      #Test ambient pressure in kPa\n",
      "Tcy  =  280.      #Charge air coolent temperature at test in K\n",
      "Ty  =  300.      #Test ambient temperature in K\n",
      "#Solution:\n",
      "#Refer table 27.1, 27.2 and 27.3\n",
      "m  =  0.7\n",
      "n  =  1.2\n",
      "q  =  1.      #Exponents\n",
      "pr  =  100.      #Smath.radians(numpy.arcmath.tan(ard total barometric pressure in kPa\n",
      "Tcr  =  298.      #Smath.radians(numpy.arcmath.tan(ard charge air coolent temperature in K\n",
      "Tr  =  298.      #Smath.radians(numpy.arcmath.tan(ard air temperature in K\n",
      "kr  =  (px/pr)**m*(Tr/Tx)**n*(Tcr/Tcx)**q      #The ratio of indicated power\n",
      "kr  =  floor(1000*kr)/1000\n",
      "alphar  =  kr-0.7*(1-kr)*(100/eta_m-1)      #Power adjustment factor\n",
      "Pr  =  Px/alphar      #Smath.radians(numpy.arcmath.tan(ard reference brake power in kW\n",
      "ky  =  (py/pr)**m*(Tr/Ty)**n*(Tcr/Tcy)**q      #The ratio of indicated power at test\n",
      "alphay  =  ky-0.7*(1-ky)*(100/eta_m-1)      #Power adjustment factor at test\n",
      "Py  =  Pr*alphay      #Brake power at test in kW (Round off error)\n",
      "\n",
      "#Results:\n",
      "print \" Power developed under test ambient conditions, Py   =   %.0f kW\"%(Py)\n",
      "#Round off error in the value of 'Py'\n"
     ],
     "language": "python",
     "metadata": {},
     "outputs": [
      {
       "output_type": "stream",
       "stream": "stdout",
       "text": [
        " Power developed under test ambient conditions, Py   =   1054 kW\n"
       ]
      }
     ],
     "prompt_number": 4
    },
    {
     "cell_type": "heading",
     "level": 2,
     "metadata": {},
     "source": [
      "Example 27.4  Page No : 498"
     ]
    },
    {
     "cell_type": "code",
     "collapsed": false,
     "input": [
      "\n",
      "#Given:\n",
      "#Datas are taken from Ex. 27.3\n",
      "Px  =  640.      #Brake power at site in kW\n",
      "eta_m  =  85.      #Mechanical efficiency in percent\n",
      "px  =  70.      #Site ambient air pressure in kPa\n",
      "py  =  100.      #Smath.radians(numpy.arcmath.tan(ard total barometric pressure in kPa\n",
      "Tx  =  330.      #Site ambient temperature in K\n",
      "Ty  =  300.      #Test ambient temperature in K\n",
      "p2_py  =  2.5      #Pressure ratio\n",
      "by  =  238.      #Specific fuel consumption at test in g/kWh\n",
      "\n",
      "#Solution:\n",
      "#Refer table 27.1, 27.2 and 27.3\n",
      "m  =  0.7\n",
      "n  =  1.2\n",
      "q  =  1.      #Exponents\n",
      "ky  =  (py/px)**m      #The ratio of indicated power at test\n",
      "alphay  =  ky-0.7*(1-ky)*(100/eta_m-1)      #Power adjustment factor at test\n",
      "Py  =  round(Px*alphay)      #Brake power at test in kW\n",
      "#From fig 27.1\n",
      "Tx_Ty  =  Tx/Ty      #Temperature ratio\n",
      "p1_py  =  0.925      #Ratio\n",
      "p1  =  p1_py*py      #Air pressure after throttle in kPa (printing error)\n",
      "Betay  =  ky/alphay      #Fuel consumption adjustment factor at test\n",
      "bx  =  by/Betay      #Specific fuel consumption at site in g/kWh\n",
      "\n",
      "#Results:\n",
      "print \" Power developed on the test bed, Py   =   %d kW\"%(Py)\n",
      "print \" The pressure behind the throttle plate, p1   =   %.1f kPa\"%(p1)\n",
      "print \" The fuel consumption adjusted to site ambient conditions, bx   =   %d g/kWh\"%(bx)\n",
      "\n",
      "#Answer in the book is printed wrong\n"
     ],
     "language": "python",
     "metadata": {},
     "outputs": [
      {
       "output_type": "stream",
       "stream": "stdout",
       "text": [
        " Power developed on the test bed, Py   =   844 kW\n",
        " The pressure behind the throttle plate, p1   =   92.5 kPa\n",
        " The fuel consumption adjusted to site ambient conditions, bx   =   244 g/kWh\n"
       ]
      }
     ],
     "prompt_number": 5
    },
    {
     "cell_type": "heading",
     "level": 2,
     "metadata": {},
     "source": [
      "Example 27.5  Page No : 503"
     ]
    },
    {
     "cell_type": "code",
     "collapsed": false,
     "input": [
      "\n",
      "#Given:\n",
      "Py = 640.      #Brake power at test in kW\n",
      "py = 98.      #Test ambient pressure in kPa\n",
      "Ty = 303.      #Test ambient temperature in K\n",
      "phiy = 0.8      #Relative humidity at test\n",
      "\n",
      "#Solution:\n",
      "#Refer table 27.1, 27.3\n",
      "psy = 4.2      #Saturation vapour pressure at test in kPa\n",
      "psr = 3.2      #Smath.radians(numpy.arcmath.tan(ard saturation vapour pressure in kPa\n",
      "pr = 100.      #Smath.radians(numpy.arcmath.tan(ard total barometric pressure in kPa\n",
      "Tr = 298.      #Smath.radians(numpy.arcmath.tan(ard air temperature in K\n",
      "phir = 0.3      #Smath.radians(numpy.arcmath.tan(ard relative humidity\n",
      "alpha_a = ((pr-phir*psr)/(py-phiy*psy))**1.2*(Ty/Tr)**0.6      #Correction factor for CI engine\n",
      "Pr = round(alpha_a*Py)      #Smath.radians(numpy.arcmath.tan(ard reference brake power in kW\n",
      "\n",
      "#Results:\n",
      "print \" The power at standard reference conditions, Pr  =  %d kW\"%(Pr)\n"
     ],
     "language": "python",
     "metadata": {},
     "outputs": [
      {
       "output_type": "stream",
       "stream": "stdout",
       "text": [
        " The power at standard reference conditions, Pr  =  683 kW\n"
       ]
      }
     ],
     "prompt_number": 6
    },
    {
     "cell_type": "heading",
     "level": 2,
     "metadata": {},
     "source": [
      "Example 27.6  Page No : 508"
     ]
    },
    {
     "cell_type": "code",
     "collapsed": false,
     "input": [
      "import math \n",
      "\n",
      "#Given:\n",
      "Py = 896.      #Brake power at test in kW\n",
      "py = 96.      #Test ambient pressure in kPa\n",
      "Ty = 302.      #Test ambient temperature in K\n",
      "phiy = 0.2      #Relative humidity at test\n",
      "px = 98.      #Site ambient air pressure in kPa\n",
      "Tx = 315.      #Site ambient temperature in K\n",
      "phix = 0.4      #Relative humidity at site\n",
      "N = 1800.      #Engine speed in rpm\n",
      "V_s = 51.8      #Swept volume in litres\n",
      "m_f = 54.5      #Fuel delivery in gm/s\n",
      "pi = 2.6      #Pressure ratio\n",
      "\n",
      "#Solution:\n",
      "#Refer table 27.1, 27.3\n",
      "psy = 4.8      #Saturation vapour pressure at test in kPa\n",
      "psx = 8.2      #Saturation vapour pressure at site in kPa\n",
      "q = m_f*1000/(N/(2*60)*V_s)      #Fuel delivery in mg/litrecycle\n",
      "qc = round(q/pi)      #Corrected fuel delivery inmg/litrecycle\n",
      "#Applying condition given in fig 27.2 for value of engine factor (fm)\n",
      "if (qc  <=  40):\n",
      "    fm = 0.3;\n",
      "elif (qc >=  65):\n",
      "    fm = 1.2;\n",
      "else:\n",
      "    fm = 0.036*qc-1.14;\n",
      "\n",
      "fa = ((px-phix*psx)/(py-phiy*psy))**0.7*(Ty/Tx)**1.5      #Atmospheric factor\n",
      "alpha_d = fa**fm      #Correction factor for CI engine\n",
      "Px = alpha_d*Py      #Brake power at site in kW\n",
      "\n",
      "#Results:\n",
      "print \" Power at site ambient conditions, Px  =  %d kW\"%(Px)\n"
     ],
     "language": "python",
     "metadata": {},
     "outputs": [
      {
       "output_type": "stream",
       "stream": "stdout",
       "text": [
        " Power at site ambient conditions, Px  =  878 kW\n"
       ]
      }
     ],
     "prompt_number": 7
    },
    {
     "cell_type": "heading",
     "level": 2,
     "metadata": {},
     "source": [
      "Example 27.7  Page No : 513"
     ]
    },
    {
     "cell_type": "code",
     "collapsed": false,
     "input": [
      "import math \n",
      "\n",
      "#Given:\n",
      "Py = 700.      #Brake power at test in kW\n",
      "py = 96.      #Test ambient pressure in kPa\n",
      "Ty = 302.      #Test ambient temperature in K\n",
      "phiy = 0.2      #Relative humidity at test\n",
      "px = 69.      #Site ambient air pressure in kPa\n",
      "Tx = 283.      #Site ambient temperature in K\n",
      "phix = 0.4      #Relative humidity at site\n",
      "N = 1200.      #Engine speed in rpm\n",
      "V_s = 45.      #Swept volume in litres\n",
      "m_f = 51.3      #Fuel delivery in gm/s\n",
      "pi = 2.0      #Pressure ratio\n",
      "eta_m = 85.      #Mechanical efficiency in percent\n",
      "\n",
      "#Solution:\n",
      "pr = 100.      #Smath.radians(numpy.arcmath.tan(ard total barometric pressure in kPa\n",
      "Tr = 298.      #Smath.radians(numpy.arcmath.tan(ard air temperature in K\n",
      "phir = 0.3      #Smath.radians(numpy.arcmath.tan(ard relative humidity\n",
      "#Refer table 27.1, 27.3\n",
      "psy = 4.1      #Saturation vapour pressure at test in kPa\n",
      "psx = 1.2      #Saturation vapour pressure at site in kPa\n",
      "psr = 3.2      #Smath.radians(numpy.arcmath.tan(ard saturation vapour pressure in kPa\n",
      "q = m_f*1000/(N/(2*60)*V_s)      #Fuel delivery in mg/litrecycle\n",
      "qc = round(q/pi)      #Corrected fuel delivery in mg/litrecycle\n",
      "#Applying condition given in fig 27.2 for value of engine factor (fm)\n",
      "if (qc <=  40):\n",
      "    fm = 0.3;   \n",
      "elif (qc >=  65):\n",
      "    fm = 1.2;\n",
      "else:\n",
      "    fm = 0.036*qc-1.14;\n",
      "\n",
      "fa = ((px-phix*psx)/(py-phiy*psy))**0.7*(Ty/Tx)**1.5      #Atmospheric factor\n",
      "alpha_d = fa**fm      #Correction factor for CI engine\n",
      "#Applying condition given in section 27.4.2\n",
      "if (alpha_d > 0.9) and (alpha_d < 1.1):\n",
      "    Px = alpha_d*Py\n",
      "else:\n",
      "    fa = ((pr-phir*psr)/(py-phiy*psy))**0.7*(Ty/Tr)**1.5      #Atmospheric factor\n",
      "    alpha_d = fa**fm      #Correction factor for CI engine\n",
      "    Pr = alpha_d*Py      #Smath.radians(numpy.arcmath.tan(ard reference brake power in kW\n",
      "    m = 0.7;n = 2      #Exponents\n",
      "    k = (px/pr)**m*(Tr/Tx)**n      #The ratio of indicated power\n",
      "    alpha = k-0.7*(1-k)*(100/eta_m-1)      #Power adjustment factor\n",
      "    Px = alpha*Pr      #Brake power at site in kW\n",
      "\n",
      "\n",
      "#Results:\n",
      "print \" Power at site ambient conditions, Px  =  %d kW\"%(Px)\n",
      "#Answer in the book is wrong\n"
     ],
     "language": "python",
     "metadata": {},
     "outputs": [
      {
       "output_type": "stream",
       "stream": "stdout",
       "text": [
        " Power at site ambient conditions, Px  =  612 kW\n"
       ]
      }
     ],
     "prompt_number": 8
    }
   ],
   "metadata": {}
  }
 ]
}