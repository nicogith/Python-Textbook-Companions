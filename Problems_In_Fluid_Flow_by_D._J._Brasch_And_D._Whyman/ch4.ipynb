{
 "metadata": {
  "name": "",
  "signature": "sha256:ffc24e4736ce76886d42f423c1c0ec0d6d6df9d9e5919471cf9355fdd075f7c0"
 },
 "nbformat": 3,
 "nbformat_minor": 0,
 "worksheets": [
  {
   "cells": [
    {
     "cell_type": "heading",
     "level": 1,
     "metadata": {},
     "source": [
      "Chapter 4 : Flow Measurement\n"
     ]
    },
    {
     "cell_type": "heading",
     "level": 3,
     "metadata": {},
     "source": [
      "example 4.1  page no : 65"
     ]
    },
    {
     "cell_type": "code",
     "collapsed": false,
     "input": [
      "\n",
      "\n",
      "import math \n",
      "\n",
      "# Initialization of Variable\n",
      "rho=998.\n",
      "rhom=1.354*10**4#density  of mercury\n",
      "M=2.83/100\n",
      "mu=1.001/1000\n",
      "mun=1.182/10**5#vicosity of natural gas\n",
      "R=8.314\n",
      "g=9.81\n",
      "h=28.6/100\n",
      "d=54./100\n",
      "\n",
      "#part1\n",
      "nu=1./rho\n",
      "delP=h*g*(rhom-rho)\n",
      "umax=math.sqrt(2.*nu*delP)\n",
      "umax=round(umax*10.)/10\n",
      "print \"maximum fluid velocity in (m/s)\",umax\n",
      "Re=umax*d*rho/mu\n",
      "print \"reynold no. is %.2e\"%(Re)\n",
      "\n",
      "#using chart\n",
      "u=0.81*umax\n",
      "G=rho*math.pi*d**2./4*u\n",
      "print \"mass flow rate in (kg/s): %.4f\"%G\n",
      "print \"Volumetric flow rate in (m**3/s): %.4f\"%(G/rho)\n",
      "\n",
      "#part2\n",
      "P1=689.*1000            #initial pressure\n",
      "T=273+21.\n",
      "nu1=R*T/M/P1\n",
      "nu1=round(nu1*10000)/10000.\n",
      "rhog=1./nu1              #density of gas\n",
      "h=17.4/100\n",
      "P2=P1+h*(rho-rhog)*g\n",
      "P2=round(P2/100)*100.\n",
      "umax2=math.sqrt(2*P1*nu1*math.log(P2/P1))\n",
      "print \"maximum fluid velocity in (m/s) %.4f\"%umax2\n",
      "Re=rhog*umax2*d/mun\n",
      "print \"reynold no. is %.3e\"%(Re)\n",
      "#from table\n",
      "u=0.81*umax2\n",
      "Q=math.pi*d**2/4*u\n",
      "print \"volumetric flow rate is (m**3/s): %.4f\"%Q\n",
      "print \"mass flow rate  in (kg/s): %.4f\"%(Q*rhog)\n",
      "\n",
      "\n"
     ],
     "language": "python",
     "metadata": {},
     "outputs": [
      {
       "output_type": "stream",
       "stream": "stdout",
       "text": [
        "maximum fluid velocity in (m/s) 8.4\n",
        "reynold no. is 4.52e+06\n",
        "mass flow rate in (kg/s): 1555.1499\n",
        "Volumetric flow rate in (m**3/s): 1.5583\n",
        "maximum fluid velocity in (m/s) 20.6358\n",
        "reynold no. is 7.518e+06\n",
        "volumetric flow rate is (m**3/s): 3.8281\n",
        "mass flow rate  in (kg/s): 30.5271\n"
       ]
      }
     ],
     "prompt_number": 1
    },
    {
     "cell_type": "heading",
     "level": 3,
     "metadata": {},
     "source": [
      "example 4.2 page no : 67"
     ]
    },
    {
     "cell_type": "code",
     "collapsed": false,
     "input": [
      "\n",
      "\n",
      "import math \n",
      "import numpy\n",
      "from matplotlib import pyplot as plt\n",
      "%matplotlib inline\n",
      "\n",
      "# Initialization of Variable\n",
      "rd = numpy.true_divide([0, 1, 2.5, 5 ,10, 15, 17.5],100)          #radial distance from pipe\n",
      "dlv = numpy.true_divide([0,0.2, 0.36, 0.54, 0.81, 0.98, 1],100)          #differnce in liquid levels\n",
      "r = [.175 ,.165, .150, .125 ,.075, .025, 0]\n",
      "g = 9.81\n",
      "R = 8.314\n",
      "rho = 999.\n",
      "temp = 289.\n",
      "P1 = 148 * 1000.\n",
      "M = 7.09 / 100.\n",
      "pi = 3.12\n",
      "rhoCl2 = P1 * M / R / temp              #density of Cl2\n",
      "nuCl2 = 1 / rhoCl2                  #specific volume of Cl2\n",
      "def P2(x):\n",
      "    return P1+x*(rho-rhoCl2)*g\n",
      "\n",
      "u = [0,0,0,0,0,0,0]\n",
      "a = [0,0,0,0,0,0,0]\n",
      "\n",
      "for i in range(7):\n",
      "    y = P2(dlv[i])\n",
      "    u[i] = math.sqrt(2.*P1*nuCl2*math.log(y/P1))\n",
      "    a[i] = u[i] * r[i]\n",
      "\n",
      "plt.plot(r,a)\n",
      "plt.xlabel(\"r (m)\")\n",
      "plt.ylabel(\"u*r (m**2/s)\")\n",
      "s=0\n",
      "for i in range(6):          #itegration of the plotted graph\n",
      "    s=abs((r[i]-r[i+1])*.5*(a[i]+a[1]))+s\n",
      "\n",
      "s=s-0.01\n",
      "Q=2*pi*s\n",
      "plt.show()\n",
      "#Result\n",
      "print \"volumetric flow rate (m**3/s):\",Q\n",
      "print \"mass flow rate of chlorine gas (kg/s)\",Q*rhoCl2\n",
      "\n"
     ],
     "language": "python",
     "metadata": {},
     "outputs": [
      {
       "output_type": "stream",
       "stream": "stdout",
       "text": [
        "Populating the interactive namespace from numpy and matplotlib\n"
       ]
      },
      {
       "output_type": "stream",
       "stream": "stderr",
       "text": [
        "WARNING: pylab import has clobbered these variables: ['pi']\n",
        "`%pylab --no-import-all` prevents importing * from pylab and numpy\n"
       ]
      },
      {
       "metadata": {},
       "output_type": "display_data",
       "png": "[encoded data removed]",
       "text": [
        "<matplotlib.figure.Figure at 0x27a1550>"
       ]
      },
      {
       "output_type": "stream",
       "stream": "stdout",
       "text": [
        "volumetric flow rate (m**3/s): 0.455983319661\n",
        "mass flow rate of chlorine gas (kg/s) 1.99135662691\n"
       ]
      }
     ],
     "prompt_number": 3
    },
    {
     "cell_type": "heading",
     "level": 3,
     "metadata": {},
     "source": [
      "example 4.3 page no : 70 "
     ]
    },
    {
     "cell_type": "code",
     "collapsed": false,
     "input": [
      "\n",
      "\n",
      "import math \n",
      "\n",
      "# Initialization of Variable\n",
      "pi = 3.14\n",
      "Cd = 0.61\n",
      "rho = 999.\n",
      "rhoo = 877.            #density of oil\n",
      "g = 9.81\n",
      "h = 75/100.\n",
      "d = 12.4/100.         #dia of orifice\n",
      "d1 = 15/100.          #inside diameter\n",
      "nuo = 1/rhoo          #specific volume of oil\n",
      "\n",
      "#calculation\n",
      "#part1\n",
      "delP = h*(rho-rhoo)*g\n",
      "A = pi*d**2./4\n",
      "G = Cd*A/nuo*math.sqrt(2*nuo*delP/(1-(d/d1)**4))\n",
      "print \"mass flow rate in (kg/s) %.4f\"%G\n",
      "\n",
      "#part2\n",
      "h = (1.+0.5)*d1\n",
      "delP = rhoo/2*(G*nuo/Cd/A)**2*(1-(d/d1)**4)+h*rhoo*g\n",
      "print \"pressuer differnce between tapping points %.4f\"%delP\n",
      "delh = (delP-h*rhoo*g)/(rho-rhoo)/g\n",
      "print \"difference in water levels in manometer i (cm) %.4f\"%delh\n"
     ],
     "language": "python",
     "metadata": {},
     "outputs": [
      {
       "output_type": "stream",
       "stream": "stdout",
       "text": [
        "mass flow rate in (kg/s) 12.6544\n",
        "pressuer differnce between tapping points 2833.3733\n",
        "difference in water levels in manometer i (cm) 0.7500\n"
       ]
      }
     ],
     "prompt_number": 2
    },
    {
     "cell_type": "heading",
     "level": 3,
     "metadata": {},
     "source": [
      "example 4.4 page no : 72"
     ]
    },
    {
     "cell_type": "code",
     "collapsed": false,
     "input": [
      "\n",
      "\n",
      "import math \n",
      "\n",
      "# Initialization of Variable\n",
      "rhom = 1.356*10**4              #density mercury\n",
      "rhon = 1266.                    #density NaOH\n",
      "Cd = 0.61\n",
      "g = 9.81\n",
      "Cdv = 0.98                      #coeff. of discharge of venturimeter\n",
      "Cdo = Cd                        #coeff. of discharge of orificemeter\n",
      "d = 6.5/100\n",
      "pi = 3.14\n",
      "A = pi*d**2/4.\n",
      "Q = 16.5/1000.\n",
      "h = 0.2                         #head differnce\n",
      "\n",
      "#calculation\n",
      "#part1\n",
      "delP = g*h*(rhom-rhon)\n",
      "G = rhon*Q\n",
      "nun = 1./rhon#specific volume of NaOH\n",
      "Ao = G*nun/Cd*math.sqrt(1./(2*nun*delP+(G*nun/Cd/A)**2))        #area of orifice\n",
      "d0 = math.sqrt(4.*Ao/pi)\n",
      "print \"diameter of orifice in (cm): %.4f\"%(d0*100)\n",
      "\n",
      "#part2\n",
      "a = (Cdv/Cdo)**2\n",
      "print \"ratio of pressure drop  %.4f\"%a\n"
     ],
     "language": "python",
     "metadata": {},
     "outputs": [
      {
       "output_type": "stream",
       "stream": "stdout",
       "text": [
        "diameter of orifice in (cm): 5.8041\n",
        "ratio of pressure drop  2.5810\n"
       ]
      }
     ],
     "prompt_number": 3
    },
    {
     "cell_type": "heading",
     "level": 3,
     "metadata": {},
     "source": [
      "example 4.5 page no : 74"
     ]
    },
    {
     "cell_type": "code",
     "collapsed": false,
     "input": [
      "\n",
      "import math \n",
      "\n",
      "# Initialization of Variable\n",
      "M = 3.995/100\n",
      "g = 9.81\n",
      "R = 8.314\n",
      "Cd = 0.94\n",
      "temp = 289.\n",
      "df = 9.5/1000           #diameter of float\n",
      "Af = math.pi*df**2/4.         #area of float\n",
      "P = 115.*10.**3.\n",
      "V = 0.92/10**6\n",
      "rhoc = 3778.            #density of ceramic\n",
      "\n",
      "#calculation\n",
      "rho = P*M/R/temp\n",
      "nu = 1/rho\n",
      "P = V*(rhoc-rho)*g/Af\n",
      "print  \"pressure drop over the float in (Pa): %.4f\"%P\n",
      "\n",
      "#part2\n",
      "x = .15/25.*(25-7.6)\n",
      "L = df*100.+2*x\n",
      "L = L/100.\n",
      "A1 = math.pi*L**2./4\n",
      "A0 = A1-Af\n",
      "G = Cd*A0*math.sqrt(2.*rho*P/(1-(A0/A1)**2))\n",
      "print \"mass flow rate in kg/s) is %.3e\"%(G)\n",
      "Q = G/rho\n",
      "print \"Volumetric flow rate in (m**3/s): %f\"%Q\n"
     ],
     "language": "python",
     "metadata": {},
     "outputs": [
      {
       "output_type": "stream",
       "stream": "stdout",
       "text": [
        "pressure drop over the float in (Pa): 480.7971\n",
        "mass flow rate in kg/s) is 1.475e-03\n",
        "Volumetric flow rate in (m**3/s): 0.000772\n"
       ]
      }
     ],
     "prompt_number": 5
    },
    {
     "cell_type": "heading",
     "level": 3,
     "metadata": {},
     "source": [
      "example 4.6 page no : 77"
     ]
    },
    {
     "cell_type": "code",
     "collapsed": false,
     "input": [
      "\n",
      "\n",
      "import math \n",
      "\n",
      "# Initialization of Variable\n",
      "rho = 999.\n",
      "rhos = 8020.            #density of steel\n",
      "g = 9.81\n",
      "math.pi = 3.14\n",
      "df = 14.2/1000          #dia of float\n",
      "Af = math.pi*df**2/4.        #area of float\n",
      "Cd = 0.97\n",
      "nu = 1./rho\n",
      "Q = 4./1000./60\n",
      "G = Q*rho\n",
      "\n",
      "#calculation\n",
      "x = 0.5*(18.8-df*1000)/280*(280-70)\n",
      "L = df*1000.+2*x\n",
      "L = L/1000.\n",
      "A1 = math.pi*L**2./4\n",
      "A0 = A1-Af\n",
      "Vf = Af/g/(rhos-rho)/2/nu*(G*nu/Cd/A0)**2*(1-(A0/A1)**2)\n",
      "m = Vf*rhos\n",
      "print \"mass of float equired in (g): %.4f\"%(m*1000)\n"
     ],
     "language": "python",
     "metadata": {},
     "outputs": [
      {
       "output_type": "stream",
       "stream": "stdout",
       "text": [
        "mass of float equired in (g): 5.1176\n"
       ]
      }
     ],
     "prompt_number": 6
    },
    {
     "cell_type": "code",
     "collapsed": false,
     "input": [],
     "language": "python",
     "metadata": {},
     "outputs": []
    }
   ],
   "metadata": {}
  }
 ]
}