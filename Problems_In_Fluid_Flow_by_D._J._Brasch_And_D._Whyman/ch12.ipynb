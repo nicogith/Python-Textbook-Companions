{
 "metadata": {
  "name": "",
  "signature": "sha256:8f1680a01385ff5949f5cb398f429f5e497854e1c9f1b526eeecdccb5f6a2e6a"
 },
 "nbformat": 3,
 "nbformat_minor": 0,
 "worksheets": [
  {
   "cells": [
    {
     "cell_type": "code",
     "collapsed": false,
     "input": [
      "Chapter 12 :  Pneumatic Conveying\n"
     ],
     "language": "python",
     "metadata": {},
     "outputs": []
    },
    {
     "cell_type": "heading",
     "level": 3,
     "metadata": {},
     "source": [
      "example 12.1  page no : 240"
     ]
    },
    {
     "cell_type": "code",
     "collapsed": false,
     "input": [
      "\n",
      "\n",
      "import math \n",
      "from numpy import *\n",
      "\n",
      "# Initialization of Variable\n",
      "rho = 1.22\n",
      "pi = 3.1428\n",
      "rhos = 518.\n",
      "rhoav = 321.\n",
      "mu = 1.73/10**5\n",
      "g = 9.81\n",
      "d = 0.65/1000\n",
      "d2 = 25.5/100           #dia of duct\n",
      "ms = 22.7/60            #mass flow rate\n",
      "\n",
      "#calculation\n",
      "e = (rhos-rhoav)/(rhos-rho)\n",
      "#coeff of quadratic eqn in U\n",
      "#a*x**2+b*x+c = 0\n",
      "c = -(1-e)*(rhos-rho)*g\n",
      "b = 150.*(1-e)**2*mu/d**2/e**3\n",
      "a = 1.75*(1.-e)*rho/d/e**3\n",
      "y = poly1d([a,b,c],False)\n",
      "U = roots(y)\n",
      "Us = ms*4/pi/d2**2/rhos         #superficial speed\n",
      "Ua = e/e*(U[1]/e+Us/(1-e))\n",
      "print \"the actual linear flow rate through duct in (m/s): %.4f\"%Ua\n"
     ],
     "language": "python",
     "metadata": {},
     "outputs": [
      {
       "output_type": "stream",
       "stream": "stdout",
       "text": [
        "the actual linear flow rate through duct in (m/s): 0.2059\n"
       ]
      }
     ],
     "prompt_number": 1
    },
    {
     "cell_type": "heading",
     "level": 3,
     "metadata": {},
     "source": [
      "example 12.2 page no : 243"
     ]
    },
    {
     "cell_type": "code",
     "collapsed": false,
     "input": [
      "\n",
      "\n",
      "import math \n",
      "\n",
      "# Initialization of Variable\n",
      "rho = 1.22          #density of air\n",
      "pi = 3.1428\n",
      "rhos = 910.         #density of polyethene\n",
      "d = 3.4/1000.       #dia of particles\n",
      "mu = 1.73/10**5.\n",
      "g = 9.81\n",
      "dt = 3.54/100.      #dia of duct\n",
      "\n",
      "#calculation\n",
      "a = 2.*d**3*rho*g*(rhos-rho)/3/mu**2\n",
      "print \"R/rho/U**2*(Re**2) = %.4f\"%a\n",
      "\n",
      "#using Chart\n",
      "Re = 2.*10**3\n",
      "U = mu*Re/d/rho\n",
      "b = U/(g*dt)**.5\n",
      "if b>0.35:\n",
      "    print \"choking can occur of this pipe system\"\n",
      "else:\n",
      "    print \"choking can not occur of this pipe system\"\n",
      "\n",
      "#part 2\n",
      "Uc = 15.            #actual gas velocity\n",
      "e = ((Uc-U)**2/2./g/dt/100.+1)**(1./-4.7)\n",
      "Usc = (Uc-U)*(1-e)      #superficial speed of solid\n",
      "Cmax = Usc*rhos*pi*dt**2./4\n",
      "print \"the maximum carrying capacity of polythene particles in (kg/s) %.4f\"%Cmax\n"
     ],
     "language": "python",
     "metadata": {},
     "outputs": [
      {
       "output_type": "stream",
       "stream": "stdout",
       "text": [
        "R/rho/U**2*(Re**2) = 952227.8618\n",
        "choking can occur of this pipe system\n",
        "the maximum carrying capacity of polythene particles in (kg/s) 0.5949\n"
       ]
      }
     ],
     "prompt_number": 2
    },
    {
     "cell_type": "heading",
     "level": 3,
     "metadata": {},
     "source": [
      "example 12.3 page no : 245"
     ]
    },
    {
     "cell_type": "code",
     "collapsed": false,
     "input": [
      "\n",
      "import math \n",
      "\n",
      "# Initialization of Variable\n",
      "rho = 1.22              #density of air\n",
      "pi = 3.1428\n",
      "rhos = 1400.            #density of coal\n",
      "mu = 1.73/10**5.\n",
      "g = 9.81\n",
      "U = 25.\n",
      "Ut = 2.80\n",
      "l = 50.\n",
      "ms = 1.2                #mass flow rate\n",
      "mg = ms/10.             #mass flow of gas\n",
      "\n",
      "#calculation\n",
      "Qs = ms/rhos            #flow of solid\n",
      "Qg = mg/rho             #flow of gas\n",
      "us = U-Ut               #actual linear velocity\n",
      "A = Qg/U\n",
      "Us = Qs/A               #solid velocity\n",
      "e = (us-Us)/us\n",
      "d = math.sqrt(4*A/pi)\n",
      "def fround(x,n):\n",
      "    # fround(x,n)\n",
      "    # Round the floating point numbers x to n decimal places\n",
      "    # x may be a vector or matrix# n is the integer number of places to round to\n",
      "    y = round(x*10**n)/10.**n\n",
      "    return y\n",
      "\n",
      "d = fround(d,4)\n",
      "Re = d*rho*U/mu\n",
      "\n",
      "#using moody's chart\n",
      "phi = 2.1/1000          #friction factor\n",
      "P1 = 2*phi*U**2*l*rho/d*2\n",
      "f = 0.05/us\n",
      "P2 = 2*l*f*(0.0098)*rhos*us**2/d\n",
      "P2 = fround(P2/1000,1)*1000\n",
      "delP = rho*e*U**2+rhos*(0.0098)*us**2+P1+P2\n",
      "#print (delP,\"the pressure difference in kN/m**2 \")\n",
      "print 'The Pressure value in kN/m**2 is %.1f'%(delP/1000)\n"
     ],
     "language": "python",
     "metadata": {},
     "outputs": [
      {
       "output_type": "stream",
       "stream": "stdout",
       "text": [
        "The Pressure value in kN/m**2 is 33.5\n"
       ]
      }
     ],
     "prompt_number": 4
    },
    {
     "cell_type": "heading",
     "level": 3,
     "metadata": {},
     "source": [
      "example 12.4 page no : 250"
     ]
    },
    {
     "cell_type": "code",
     "collapsed": false,
     "input": [
      "\n",
      "\n",
      "import math \n",
      "\n",
      "# Initialization of Variable\n",
      "rho = 1.22          #density of air\n",
      "pi = 3.1428\n",
      "rhos = 1090.        #density of steel\n",
      "mu = 1.73/10.**5\n",
      "g = 9.81\n",
      "d = 14.5/100.\n",
      "Qg = 0.4\n",
      "Qs = 5000./3600./1090.\n",
      "Ut = 6.5\n",
      "ar = 0.046/1000     #absolute roughness\n",
      "l = 18.5            #length\n",
      "\n",
      "#calculation\n",
      "def fround(x,n):\n",
      "    # fround(x,n)\n",
      "    # Round the floating point numbers x to n decimal places\n",
      "    # x may be a vector or matrix# n is the integer number of places to round to\n",
      "    y = round(x*10**n)/10**n\n",
      "    return y\n",
      "\n",
      "Us = Qs/pi/d**2*4       #solid velocity\n",
      "U = Qg/pi/d**2*4\n",
      "us = U-Ut               #actual linear velocity\n",
      "e = 1-Us/us\n",
      "e = fround(e,4)\n",
      "Re = rho*U*d/mu\n",
      "rr = ar/d               #relative roughness\n",
      "\n",
      "#using moody's diagram\n",
      "phi = 2.08/1000\n",
      "P1 = 2*phi*U**2*l*rho/d*2\n",
      "f = 0.05/us\n",
      "P2 = 2*l*f*(1-e)*rhos*us**2/d\n",
      "P2 = fround(P2/1000,2)*1000\n",
      "delP = rhos*(1-e)*us**2+rhos*(1-e)*g*l+P1+P2\n",
      "#print (delP,\"the pressure difference in kN/m**2 \")\n",
      "print 'The Pressure value in kN/m**2 is %.2f'%(delP/1000)\n"
     ],
     "language": "python",
     "metadata": {},
     "outputs": [
      {
       "output_type": "stream",
       "stream": "stdout",
       "text": [
        "The Pressure value in kN/m**2 is 4.21\n"
       ]
      }
     ],
     "prompt_number": 6
    },
    {
     "cell_type": "heading",
     "level": 3,
     "metadata": {},
     "source": [
      "example 12.5 pageno :254"
     ]
    },
    {
     "cell_type": "code",
     "collapsed": false,
     "input": [
      "\n",
      "\n",
      "import math \n",
      "\n",
      "# Initialization of Variable\n",
      "l = 25.\n",
      "pi = 3.1428\n",
      "rhos = 2690.        #density of ore\n",
      "emin = 0.6\n",
      "emax = 0.8\n",
      "g = 9.81\n",
      "\n",
      "#calculation\n",
      "Pmax = rhos*(1-emin)*g*l\n",
      "print \"The maximum pressure drop in (N/m**2):\",Pmax\n",
      "Pmin = rhos*(1-emax)*g*l\n",
      "print \"The minimum pressure drop in (N/m**2):\",Pmin\n"
     ],
     "language": "python",
     "metadata": {},
     "outputs": [
      {
       "output_type": "stream",
       "stream": "stdout",
       "text": [
        "The maximum pressure drop in (N/m**2): 263889.0\n",
        "The minimum pressure drop in (N/m**2): 131944.5\n"
       ]
      }
     ],
     "prompt_number": 7
    },
    {
     "cell_type": "code",
     "collapsed": false,
     "input": [],
     "language": "python",
     "metadata": {},
     "outputs": []
    }
   ],
   "metadata": {}
  }
 ]
}