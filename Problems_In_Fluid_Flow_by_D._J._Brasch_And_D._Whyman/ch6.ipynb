{
 "metadata": {
  "name": "",
  "signature": "sha256:0f5ebffba7421842791b4539c2f380869e20570438cc6f427747cc5e01bc6228"
 },
 "nbformat": 3,
 "nbformat_minor": 0,
 "worksheets": [
  {
   "cells": [
    {
     "cell_type": "heading",
     "level": 1,
     "metadata": {},
     "source": [
      "Chapter 6 : pumping of liquids\n"
     ]
    },
    {
     "cell_type": "heading",
     "level": 3,
     "metadata": {},
     "source": [
      "example 6.1 page no : 115"
     ]
    },
    {
     "cell_type": "code",
     "collapsed": false,
     "input": [
      "\n",
      "\n",
      "import math \n",
      "from numpy import *\n",
      "\n",
      "# Initialization of Variable\n",
      "atp = 100.2*1000.\n",
      "g = 9.81\n",
      "rho_w = 996.\n",
      "rho_toluene = 867.\n",
      "vap_pre_toluene = 4.535*1000\n",
      "viscosity_toluene = 5.26/10000\n",
      "\n",
      "#calculation\n",
      "m = (atp-vap_pre_toluene)/rho_toluene/g\n",
      "print \"Max. height of toluene supported by atm. pressure (in m): %.4f\"%m\n",
      "\n",
      "#part(1)\n",
      "hopw = 0.650           #head of pump in terms of water\n",
      "hopt = hopw*rho_w/rho_toluene           #head of pump in terms of toluene\n",
      "Q = 1.8*10**-3                          #flow in m**3/s\n",
      "d = 2.3*10**-2                          #diameter of pipe\n",
      "pi = 3.14127\n",
      "\n",
      "#u = 4*Q/pi/d**2\n",
      "#substituting this for reynolds no.\n",
      "Re = 4*Q*rho_toluene/pi/d/viscosity_toluene         #reynolds no.\n",
      "print \"reynolds no : %.4f\"%Re\n",
      "phi = 0.0396*Re**-0.25\n",
      "\n",
      "\n",
      "#since both LHS and RHS are function of x(max. ht. ab. toluene) \n",
      "#we define a new variable to solve the eqn\n",
      "#y = (atp/rho_toluene/g)-(vap_pre_toluene/rho_toluene/g)-(4*phi*16*Q**2*x/pi**2/d**5/g)-hopt\n",
      "#y = x \n",
      "#these are two equations\n",
      "\n",
      "b = array([0,((atp/rho_toluene/g)-(vap_pre_toluene/rho_toluene/g)-hopt)])\n",
      "A = array([[1, -1],[1, 4*phi*16*Q**2/pi**2/d**5/g]])\n",
      "x = linalg.solve(A ,b)\n",
      "print \"the maximum height above toulene in the tank the pump can be \\\n",
      "located without risk while flow rate is 1.80dm**3/s (in m): %.4f\"%x[0]\n",
      "\n",
      "#solution of part(2)\n",
      "l = 9.          #length \n",
      "u = math.sqrt(((atp/rho_toluene/g)-(vap_pre_toluene/rho_toluene/g)-hopt-l)*d*g/4/phi/l)     #fluid velocity in pipes\n",
      "Q = pi*d**2*u/4\n",
      "print \"Maximum delivery rate if pump is located 9m above toluene tank(in m**3/s) %.4f\"%Q\n",
      "\n",
      "#solution of part(3)\n",
      "#clubing d together we get\n",
      "Q = 1.8/1000.\n",
      "a = (atp/rho_toluene/g)-(vap_pre_toluene/rho_toluene/g)-hopt-l\n",
      "b = a*pi**2*g/4./9./16./Q**2/0.0396/(4*Q*rho_toluene/pi/viscosity_toluene)**-0.25\n",
      "d = (1./b)**(1./4.75)\n",
      "print \"minimum smooth diameter of suction pipe which will have flow \\\n",
      "rate as (1.8 dm**3/s) for pump kept at 9 m high (in m):\",d\n"
     ],
     "language": "python",
     "metadata": {},
     "outputs": [
      {
       "output_type": "stream",
       "stream": "stdout",
       "text": [
        "Max. height of toluene supported by atm. pressure (in m): 11.2477\n",
        "reynolds no : 164260.3512\n",
        "the maximum height above toulene in the tank the pump can be located without risk while flow rate is 1.80dm**3/s (in m): 6.3463\n",
        "Maximum delivery rate if pump is located 9m above toluene tank(in m**3/s) 0.0009\n",
        "minimum smooth diameter of suction pipe which will have flow rate as (1.8 dm**3/s) for pump kept at 9 m high (in m): 0.0306728431855\n"
       ]
      }
     ],
     "prompt_number": 2
    },
    {
     "cell_type": "heading",
     "level": 3,
     "metadata": {},
     "source": [
      "example 6.2 pageno : 118"
     ]
    },
    {
     "cell_type": "code",
     "collapsed": false,
     "input": [
      "\n",
      "\n",
      "import math \n",
      "# Initialization of Variable\n",
      "Q1 = 24.8/1000          #flow in pump 1\n",
      "d1 = 11.8/100           #diameter of impeller 1\n",
      "H1 = 14.7               #head of pump 1\n",
      "N1 = 1450.              #frequency of motor 1\n",
      "Q2 = 48/1000.           #flow in pump 2\n",
      "\n",
      "#calculation\n",
      "H2 = 1.15*H1            #head of pump 2\n",
      "specific_speed = N1*Q1**0.5/H1**0.75\n",
      "N2 = specific_speed*H2**0.75/Q2**0.5        #frequency of motor 2\n",
      "print \"frequency of motor 2 in rpm %.4f\"%N2 \n",
      "d2 = math.sqrt(N2**2*H1/H2/N1**2/d1**2)\n",
      "print  \"diametr of impeller 2 (in m) %.4f\"%(1/d2 )\n",
      "\n"
     ],
     "language": "python",
     "metadata": {},
     "outputs": [
      {
       "output_type": "stream",
       "stream": "stdout",
       "text": [
        "frequency of motor 2 in rpm 1157.4350\n",
        "diametr of impeller 2 (in m) 0.1585\n"
       ]
      }
     ],
     "prompt_number": 4
    },
    {
     "cell_type": "heading",
     "level": 3,
     "metadata": {},
     "source": [
      "example 6.3 page no : 120"
     ]
    },
    {
     "cell_type": "code",
     "collapsed": false,
     "input": [
      "\n",
      "\n",
      "from matplotlib.pyplot import *\n",
      "import math \n",
      "%matplotlib inline\n",
      "\n",
      "# Initialization of Variable\n",
      "Q = [0, 0.01, 0.02, 0.03 ,0.04, 0.05]           #discharge\n",
      "effi_hyd = [65.4 ,71, 71.9, 67.7, 57.5, 39.2]\n",
      "effi_over = [0 ,36.1, 56.0, 61.0, 54.1, 37.0]\n",
      "H_sys = [0 ,0, 0, 0, 0, 0]\n",
      "d = 0.114           #diameter of pipe\n",
      "d_o = 0.096         #diameter of impeller\n",
      "h = 8.75            #elevation\n",
      "g = 9.81            #acc. of gravity\n",
      "rho = 999.          #denisity of water\n",
      "l = 60.             #length of pipe\n",
      "theta = 0.611       #angle in radians\n",
      "B = 0.0125          #width of blades\n",
      "pi = 3.1412\n",
      "mu = 1.109/1000     #viscosity of water\n",
      "omega = 2*pi*1750/60.\n",
      "H_theor = []\n",
      "# calculation\n",
      "for i in range(6):\n",
      "    if i == 0:\n",
      "        H_sys[i] = h\n",
      "    else:\n",
      "        H_sys[i] = h+8.*Q[i]**2./pi**2/d**4/g*(1+8*l*0.0396/d*(4*rho*Q[i]/pi/d/mu)**-0.25)\n",
      "    H_theor.append(omega**2*d_o**2/g-omega*Q[i]/2/pi/g/B/math.tan(theta))\n",
      "\n",
      "#H_theor = omega**2*d_o**2/g-omega*Q/2/pi/g/B/math.tan(theta)\n",
      "#print (H_sys\"head of system (in m)\")\n",
      "#print (H_theor)\n",
      "H_eff = [0,0,0,0,0,0]\n",
      "for i in range(6):\n",
      "    H_eff[i] = effi_hyd[i]*H_theor[i]/100.\n",
      "\n",
      "#print (H_eff)\n",
      "plot(Q,effi_hyd, 'r--d')\n",
      "plot(Q,effi_over, 'g')\n",
      "plot(Q,H_eff,'k')\n",
      "plot(Q,H_theor)\n",
      "plot(Q,H_sys ,'c-')\n",
      "title('system characteritics')\n",
      "ylabel('Head(m)or Efficiency(%)')\n",
      "xlabel('volumetric flow rate(m**3/s)')\n",
      "show()\n",
      "\n",
      "#calculation of power\n",
      "#at intersecting point using datatrip b/w H_sys &H_eff\n",
      "Q = 0.0336\n",
      "effi_over = 59.9\n",
      "H_eff = 13.10\n",
      "P = H_eff*rho*g*Q/effi_over/10\n",
      "print \"Power required to pump fluid at this rate(in KW): %.4f\"%P \n",
      "\n"
     ],
     "language": "python",
     "metadata": {},
     "outputs": [
      {
       "output_type": "stream",
       "stream": "stdout",
       "text": [
        "Populating the interactive namespace from numpy and matplotlib\n"
       ]
      },
      {
       "output_type": "stream",
       "stream": "stderr",
       "text": [
        "WARNING: pylab import has clobbered these variables: ['draw_if_interactive', 'pi', 'new_figure_manager']\n",
        "`%pylab --no-import-all` prevents importing * from pylab and numpy\n"
       ]
      },
      {
       "metadata": {},
       "output_type": "display_data",
       "png": "[encoded data removed]",
       "text": [
        "<matplotlib.figure.Figure at 0x258a6d0>"
       ]
      },
      {
       "output_type": "stream",
       "stream": "stdout",
       "text": [
        "Power required to pump fluid at this rate(in KW): 7.2014\n"
       ]
      }
     ],
     "prompt_number": 5
    },
    {
     "cell_type": "heading",
     "level": 3,
     "metadata": {},
     "source": [
      "example 6.4 pageno : 123"
     ]
    },
    {
     "cell_type": "code",
     "collapsed": false,
     "input": [
      "\n",
      "import math \n",
      "from matplotlib.pyplot import *\n",
      "\n",
      "# Initialization of Variable\n",
      "#each is increased by five units to make each compatible for graph plotting\n",
      "Q = [0, 0.01, 0.02, 0.03, 0.04, 0.05, 0.06, 0.07, 0.08, 0.09, 0.1]      #flow rate\n",
      "HeffA = [20.63 ,19.99, 17.80, 14.46, 10.33, 5.71, 0, 0, 0, 0, 0 ]                 #Heff of pump A\n",
      "HeffB = [18 ,17, 14.95, 11.90, 8.10, 3.90, 0, 0, 0, 0, 0]                         #Heff of pump B\n",
      "alpha = 1.\n",
      "h = 10.4\n",
      "d = 0.14\n",
      "l = 98.\n",
      "pi = 3.1412\n",
      "g = 9.81\n",
      "rho = 999.\n",
      "mu = 0.001109\n",
      "H_sys = [0,0,0,0,0,0,0,0,0,0,0]\n",
      "for i in range(11):\n",
      "    if i == 0:\n",
      "        H_sys[i] = h\n",
      "    else:\n",
      "        H_sys[i] = h+8*Q[i]**2/pi**2/d**4/g*(1+8*l*0.0396/d*(4*rho*Q[i]/pi/d/mu)**-0.25)\n",
      "\n",
      "#H_sys is head of the system\n",
      "print  \"the head of system in terms of height of water : \",H_sys\n",
      "plot(Q,H_sys,'r--d')\n",
      "plot(Q,HeffA ,'-c')\n",
      "plot(Q,HeffB)\n",
      "show()\n",
      "\n",
      "#at intersecting point using datatrip b/w H_sys &H_effA\n",
      "print \"the flow rate at which H_sys takes over HeffA \",0.03339\n",
      "\n",
      "\n",
      "\n"
     ],
     "language": "python",
     "metadata": {},
     "outputs": [
      {
       "output_type": "stream",
       "stream": "stdout",
       "text": [
        "the head of system in terms of height of water :  [10.4, 10.703503558535079, 11.434551925145852, 12.522017190713953, 13.934570851357016, 15.652293146483034, 17.66081196342499, 19.949010875049055, 22.507899154909985, 25.329974605787854, 28.4088306047139]\n"
       ]
      },
      {
       "metadata": {},
       "output_type": "display_data",
       "png": "[encoded data removed]",
       "text": [
        "<matplotlib.figure.Figure at 0x3203e10>"
       ]
      },
      {
       "output_type": "stream",
       "stream": "stdout",
       "text": [
        "the flow rate at which H_sys takes over HeffA  0.03339\n"
       ]
      }
     ],
     "prompt_number": 7
    },
    {
     "cell_type": "heading",
     "level": 3,
     "metadata": {},
     "source": [
      "example 6.5 pageno : 126"
     ]
    },
    {
     "cell_type": "code",
     "collapsed": false,
     "input": [
      "\n",
      "\n",
      "import math\n",
      "from numpy import *\n",
      "\n",
      "# Initialization of Variable\n",
      "rho = 1000.\n",
      "dc = .15\n",
      "l = 7.8\n",
      "g = 9.81\n",
      "pi = 3.1428\n",
      "atp = 105.4*1000\n",
      "vap_pre = 10.85*1000\n",
      "sl = .22\n",
      "dp = 0.045\n",
      "h = 4.6\n",
      "\n",
      "#(\"x(t) = sl/2*cos(2*pi*N*t)\"  \"the function of print lcement\")\n",
      "#\"since we have to maximize the acceleration double derivate the terms\")\n",
      "#since double derivation have the term cos(kt) \n",
      "#finding it maxima\n",
      "t = linspace(0,5,100)\n",
      "k = 1.\n",
      "\n",
      "def  maximacheckerforcosine():\n",
      "    h = 0.00001\n",
      "    a = 0.00\n",
      "    for i in range(1,401): \n",
      "        if (math.cos(a+h)-math.cos(a-h))/2*h == 0 and math.cos(i-1)>0:\n",
      "            break\n",
      "        else:\n",
      "            a = 0.01+a\n",
      "    m = i-1\n",
      "    v = math.cos(i-1)\n",
      "    return m,v\n",
      "\n",
      "a, b =  maximacheckerforcosine()\n",
      "\n",
      "print \"time t when the acceleration will be maximum(s)\",a\n",
      "\n",
      "#double derivative will result in a square of value of N\n",
      "#lets consider its coefficient all will be devoid of N**2 \n",
      "k = sl/2*(2*pi)**2                      #accn max of piston\n",
      "kp = k*1./4*pi*dc**2/1.*4/pi/dp**2      #accn coeff. ofsuction pipe\n",
      "f = 1./4*pi*dp**2*l*rho*kp              #force exerted by piston\n",
      "p = f/1.*4./pi/dp**2                    #pressure exerted by piston\n",
      "\n",
      "#calculation\n",
      "o = atp-h*rho*g-vap_pre\n",
      "#constant term of quadratic eqn\n",
      "y = poly1d([-p, 0,o],False)\n",
      "a = roots(y)\n",
      "print \"Maximum frequency of oscillation if cavitation o be avoided(in Hz) %.4f\"%abs(a[0])\n"
     ],
     "language": "python",
     "metadata": {},
     "outputs": [
      {
       "output_type": "stream",
       "stream": "stdout",
       "text": [
        "time t when the acceleration will be maximum(s) 0\n",
        "Maximum frequency of oscillation if cavitation o be avoided(in Hz) 0.3622\n"
       ]
      }
     ],
     "prompt_number": 8
    },
    {
     "cell_type": "heading",
     "level": 3,
     "metadata": {},
     "source": [
      "example 6.6 pageno : 128"
     ]
    },
    {
     "cell_type": "code",
     "collapsed": false,
     "input": [
      "\n",
      "\n",
      "import math \n",
      "\n",
      "# Initialization of Variable\n",
      "rhos = 1830.            #density of acid\n",
      "atp = 104.2*1000        #atmospheric pressure\n",
      "temp = 11.+273          #temp in kelvin\n",
      "M = 28.8/1000           #molar mass of air\n",
      "R = 8.314               #universal gas constant\n",
      "g = 9.81                #acceleration of gravity\n",
      "pi = 3.14\n",
      "d = 2.45                #diameter of tank\n",
      "l = 10.5                #length of tank\n",
      "h_s = 1.65              #height of surface of acid from below\n",
      "effi = 0.93             #efficiency\n",
      "\n",
      "#calculation\n",
      "mliq = pi*d**2*l*rhos/4\n",
      "h_atm = atp/rhos/g      #height conversion of atp\n",
      "h_r = 4.3-1.65          #height difference\n",
      "mair = g*h_r*mliq*M/(effi*R*temp*math.log(h_atm/(h_atm+h_s)))       #mass of air\n",
      "print \"mass of air required to lift the sulphuric acid tank %.4f\"%mair\n",
      "print \"The negative sign indicates air is expanding & work done is magnitude of value in kg:\"\n",
      "m = abs(mair/mliq)\n",
      "print  \"The mass of air required for per kilo of acid transferred: %.4f\"%m\n",
      "\n"
     ],
     "language": "python",
     "metadata": {},
     "outputs": [
      {
       "output_type": "stream",
       "stream": "stdout",
       "text": [
        "mass of air required to lift the sulphuric acid tank -123.3851\n",
        "The negative sign indicates air is expanding & work done is magnitude of value in kg:\n",
        "The mass of air required for per kilo of acid transferred: 0.0014\n"
       ]
      }
     ],
     "prompt_number": 9
    },
    {
     "cell_type": "code",
     "collapsed": false,
     "input": [],
     "language": "python",
     "metadata": {},
     "outputs": []
    }
   ],
   "metadata": {}
  }
 ]
}