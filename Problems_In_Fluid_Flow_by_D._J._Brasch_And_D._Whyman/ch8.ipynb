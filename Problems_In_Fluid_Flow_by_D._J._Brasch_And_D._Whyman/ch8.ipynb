{
 "metadata": {
  "name": "",
  "signature": "sha256:00c3b1a67f83ca35bc811927488fe197c5bf1eb682a1e6ea0657f01c6f0d77b3"
 },
 "nbformat": 3,
 "nbformat_minor": 0,
 "worksheets": [
  {
   "cells": [
    {
     "cell_type": "heading",
     "level": 1,
     "metadata": {},
     "source": [
      "Chapter 8 : Filtration"
     ]
    },
    {
     "cell_type": "heading",
     "level": 3,
     "metadata": {},
     "source": [
      "example 8.1 page no : 145"
     ]
    },
    {
     "cell_type": "code",
     "collapsed": false,
     "input": [
      "\n",
      "\n",
      "import math \n",
      "from numpy import *\n",
      "\n",
      "# Initialization of Variable\n",
      "\n",
      "a = 78./1000                #dV/dt\n",
      "rho = 998.                  #density of water\n",
      "rhoc = 2230.                #density of china clay\n",
      "rhod = 1324.                #density of cowdung cake\n",
      "mu = 1.003/1000\n",
      "P2 = 3.23*1000              #pressure after 2 min.\n",
      "P5 = 6.53*1000              #pressure after 5 min.\n",
      "t = 30*60.\n",
      "b = array([[P2],[P5]])\n",
      "A = array([[(a**2)*120., a],[(a**2)*300., a]])\n",
      "x = linalg.solve(A, b)\n",
      "P = x[0]*a**2*t+x[1]*a\n",
      "print \"pressure drop at t = 30min in (kN/m**2):\",P/1000\n",
      "\n",
      "#part2\n",
      "J = 0.0278                  #mass fraction\n",
      "l = 1.25\n",
      "b1 = 0.7\n",
      "A1 = l*b1*17*2              #area of filtering\n",
      "V = a*30*60.                #volume of filterate\n",
      "e = 1-rhod/rhoc\n",
      "nu = J*rho/((1-J)*(1-e)*rhoc-J*e*rho)\n",
      "l1 = nu*V/A1\n",
      "print \"the thickness of filtercake formed after 30 min in (m): %.4f\"%l1\n",
      "\n",
      "#part3\n",
      "r = x[0][0]/mu/nu*A1**2\n",
      "L = x[1][0]*A1/r/mu\n",
      "print \"thickness of cake required in (m): %.4f\"%L\n",
      "\n",
      "#part 4\n",
      "S = math.sqrt(r*e**3./5/(1-e)**2)\n",
      "d = 6./S\n",
      "print \"average particle diameter in(10**-6m): %.4f\"%(d*10**6)\n"
     ],
     "language": "python",
     "metadata": {},
     "outputs": [
      {
       "output_type": "stream",
       "stream": "stdout",
       "text": [
        "pressure drop at t = 30min in (kN/m**2): [ 34.03]\n",
        "the thickness of filtercake formed after 30 min in (m): 0.1026\n",
        "thickness of cake required in (m): 0.0032\n",
        "average particle diameter in(10**-6m): 87.9625\n"
       ]
      }
     ],
     "prompt_number": 1
    },
    {
     "cell_type": "heading",
     "level": 3,
     "metadata": {},
     "source": [
      "example 8.2 pageno :148"
     ]
    },
    {
     "cell_type": "code",
     "collapsed": false,
     "input": [
      "\n",
      "\n",
      "import math \n",
      "from numpy import *\n",
      "\n",
      "\n",
      "# Initialization of Variable\n",
      "P1 = 5.34*1000                  #pressure after 3 min.\n",
      "P2 = 9.31*1000                  #pressure after 8 min.\n",
      "a = 240./1000000                 #dV/dt\n",
      "P3 = 15.*10**3                  #final pressure\n",
      "\n",
      "#calculation\n",
      "b = array([[P1],[P2]])\n",
      "A = array([[a**2*180, a],[a**2*480, a]])\n",
      "x = linalg.solve(A,b)\n",
      "\n",
      "#part1\n",
      "t = (P3-x[1][0]*a)/x[0][0]/a**2\n",
      "\n",
      "print \"time at which the required pressure drop have taken place in (s): %.4f\"%t\n",
      "\n",
      "#part 2\n",
      "V1 = a*t\n",
      "print \"volume of filterate in (m**3): %.4f\"%V1\n",
      "\n",
      "#part 3\n",
      "V2 = 0.75\n",
      "t2 = t+x[0][0]/2/P3*(V2**2-V1**2)+x[1][0]/P3*(V2-V1)\n",
      "print \"the time required to collect 750dm**3 of filterate in (s): %.4f\"%t2\n",
      "\n",
      "#part 4\n",
      "P4 = 12.*10**3\n",
      "a = P4/(x[0][0]*V2+x[1][0])\n",
      "t = 10./1000/a\n",
      "print \"time required to pass 10dm**3 volume in (s): %.4f\"%t\n",
      "\n"
     ],
     "language": "python",
     "metadata": {},
     "outputs": [
      {
       "output_type": "stream",
       "stream": "stdout",
       "text": [
        "time at which the required pressure drop have taken place in (s): 909.9748\n",
        "volume of filterate in (m**3): 0.2184\n",
        "the time required to collect 750dm**3 of filterate in (s): 5289.2396\n",
        "time required to pass 10dm**3 volume in (s): 153.8617\n"
       ]
      }
     ],
     "prompt_number": 15
    },
    {
     "cell_type": "heading",
     "level": 3,
     "metadata": {},
     "source": [
      "example 8.3 pageno : 150"
     ]
    },
    {
     "cell_type": "code",
     "collapsed": false,
     "input": [
      "\n",
      "\n",
      "import math \n",
      "from numpy import *\n",
      "\n",
      "# Initialization of Variable\n",
      "a = 16./1000            #dV/dt\n",
      "J = 0.0876              #mass fraction\n",
      "rho = 999.              #density of water\n",
      "rhoc = 3470.            #density of slurry\n",
      "mu = 1.12/1000\n",
      "rhos = 1922.            #density of dry filter cake\n",
      "t1 = 3*60.\n",
      "t2 = 8*60.\n",
      "V1 = 33.8/1000          #volume at t1\n",
      "V2 = 33.8/1000+23.25/1000               #volume at t2\n",
      "P = 12*1000.            #pressure difference\n",
      "Ap = 70.**2./10000*2*9\n",
      "As = 650/10000.\n",
      "\n",
      "#calculation\n",
      "\n",
      "b = array([t1,t2])\n",
      "A = array([[V1**2/2/P, V1/P],[V2**2/2/P, V2/P]])\n",
      "x = linalg.solve(A, b)\n",
      "K1p = x[0]*As**2/Ap**2\n",
      "K2p = x[1]*As/Ap\n",
      "P2 = 15*1000.               #final pressure drop\n",
      "t = (P2-K2p*a)/K1p/a**2     #time for filterate\n",
      "V = a*t                     #volume of filterate\n",
      "e = 1-rhos/rhoc\n",
      "nu = J*rho/((1-J)*(1-e)*rhoc-J*e*rho)\n",
      "l = (11.-1)/200.\n",
      "Vf = Ap*l/nu\n",
      "tf = t+K1p/2/P2*(Vf**2-V**2)+K2p/P2*(Vf-V)\n",
      "r = K1p/mu/nu*Ap**2\n",
      "L = K2p*Ap/r/mu\n",
      "print \"the thickness of filter which has resistance equal to resistance of filter medium in (m):%.5f\"%L\n"
     ],
     "language": "python",
     "metadata": {},
     "outputs": [
      {
       "output_type": "stream",
       "stream": "stdout",
       "text": [
        "the thickness of filter which has resistance equal to resistance of filter medium in (m):0.00247\n"
       ]
      }
     ],
     "prompt_number": 8
    },
    {
     "cell_type": "heading",
     "level": 3,
     "metadata": {},
     "source": [
      "example 8.4 page no : 154"
     ]
    },
    {
     "cell_type": "code",
     "collapsed": false,
     "input": [
      "\n",
      "\n",
      "import math \n",
      "from numpy import *\n",
      "\n",
      "# Initialization of Variable\n",
      "\n",
      "t1 = 3*60.          #time 3min\n",
      "t2 = 12*60.         #time 12min\n",
      "t3 = 5*60.          #time 5min\n",
      "P = 45*1000.        #pressure at t1&t2\n",
      "P2 = 85*1000.       #pres. at t3\n",
      "a = 1.86            #area\n",
      "mu = 1.29/1000.\n",
      "c = 11.8\n",
      "V1 = 5.21/1000      #volume at t1\n",
      "V2 = 17.84/1000     #volume at t2\n",
      "V3 = 10.57/1000     #volume at t3\n",
      "\n",
      "#calculation\n",
      "b = array([t1,t2])\n",
      "A = array([[mu*c/2/a**2/P*V1**2, V1/P],[mu*c/2/a**2/P*V2**2, V2/P]])\n",
      "x = linalg.solve(A,b)\n",
      "r45 = x[0]\n",
      "r85 = (t3-x[1]*V3/P2)*2*a**2*P2/V3**2/mu/c\n",
      "n = math.log(r45/r85)/math.log(45./85)\n",
      "rbar = r45/(1-n)/(45.*1000)**n\n",
      "r78 = rbar*(1-n)*(78.*1000)**n\n",
      "\n",
      "#part1\n",
      "#polynomial in V as a1x**2+bx+c1 = 0\n",
      "c1 = 90.*60         #time at 90 \n",
      "Pt = 78*1000.       #Pt = pressure at time t = 90\n",
      "r78 = round(r78/10.**12)*10.**12\n",
      "a1 = r78*mu/a**2/Pt*c/2.\n",
      "b = x[1]/Pt\n",
      "y = poly1d([a1,b,-c1],False)\n",
      "V1 = roots(y)\n",
      "print \"Volume at P = 90kPa in (m**3): %.4f\"%V1[1]\n",
      "\n",
      "#part2\n",
      "Pt = 45.*1000\n",
      "c1 = 90.*60\n",
      "a1 = r45*mu/a**2/Pt*c/2\n",
      "b = x[1]/Pt\n",
      "y = poly1d([a1,b,-c1],False)\n",
      "V1 = roots(y)\n",
      "print \"Volume at p = 45kPa in (m**3): %.4f\"%V1[1]\n",
      "\n"
     ],
     "language": "python",
     "metadata": {},
     "outputs": [
      {
       "output_type": "stream",
       "stream": "stdout",
       "text": [
        "Volume at P = 90kPa in (m**3): 0.0660\n",
        "Volume at p = 45kPa in (m**3): 0.0789\n"
       ]
      }
     ],
     "prompt_number": 5
    },
    {
     "cell_type": "heading",
     "level": 3,
     "metadata": {},
     "source": [
      "example 8.5 page no : 157"
     ]
    },
    {
     "cell_type": "code",
     "collapsed": false,
     "input": [
      "\n",
      "\n",
      "from numpy import *\n",
      "import math \n",
      "\n",
      "\n",
      "# Initialization of Variable\n",
      "t = 60*0.3/0.5          #time of 1 revollution\n",
      "d = 34/1000000.\n",
      "S = 6./d\n",
      "e = 0.415\n",
      "J = 0.154\n",
      "P = 34.8*1000\n",
      "mu = 1.17/1000\n",
      "L = 2.35/1000\n",
      "rho = 999.              #density of water\n",
      "rhos = 4430.            #density of barium carbonate\n",
      "\n",
      "#calculation\n",
      "#part1\n",
      "nu = J*rho/((1-J)*(1-e)*rhos-J*e*rho)\n",
      "r = 5*S**2*(1-e)**2/e**3\n",
      "\n",
      "#quadratic in l\n",
      "#in the form of ax**2+bx+c = 0\n",
      "c = -t\n",
      "b = r*mu*L/nu/P\n",
      "a = r*mu/2/nu/P\n",
      "y = poly1d([a,b,c],False)\n",
      "l = roots(y)\n",
      "print \"thickness of filter cake in (m): %.4f\"%l[1]\n",
      "\n",
      "#part2\n",
      "d = 1.2\n",
      "l1 = 2.6\n",
      "pi = 3.1428\n",
      "u = pi*d*0.5/60\n",
      "Q = u*l1*l[1]\n",
      "mnet = Q*(1-e)*rhos+Q*e*rho\n",
      "print \"rate at which wet cake will be scrapped in (kg/s): %.4f\"%mnet\n",
      "\n",
      "#part3\n",
      "md = Q*(1-e)*rhos       #rate at which solid scrapped from the drum\n",
      "r = md/0.154\n",
      "print \"rate of which slurry is treated is (kg/h): %.4f\"%(r*3600)\n"
     ],
     "language": "python",
     "metadata": {},
     "outputs": [
      {
       "output_type": "stream",
       "stream": "stdout",
       "text": [
        "thickness of filter cake in (m): 0.0122\n",
        "rate at which wet cake will be scrapped in (kg/s): 3.0088\n",
        "rate of which slurry is treated is (kg/h): 60635.4180\n"
       ]
      }
     ],
     "prompt_number": 7
    },
    {
     "cell_type": "heading",
     "level": 3,
     "metadata": {},
     "source": [
      "example 8.6 page no : 159"
     ]
    },
    {
     "cell_type": "code",
     "collapsed": false,
     "input": [
      "\n",
      "\n",
      "import math \n",
      "\n",
      "# Initialization of Variable\n",
      "mu = 0.224\n",
      "rho = 1328.\n",
      "K = 5.\n",
      "b = 3*.5        #radius\n",
      "h = 2.5\n",
      "pi = 3.1428\n",
      "x = 2.1*.5\n",
      "rhos = 1581.        #density of sucrose\n",
      "e = 0.435           #void ratio\n",
      "J = 0.097           #mass fraction\n",
      "m = 3500.           #mass flowing\n",
      "a = 85/10.**6       #side length\n",
      "L = 48./1000        #thickness\n",
      "omega = 2*pi*325./60.\n",
      "\n",
      "#calculation\n",
      "bi = b**2-m/pi/h/(1-e)/rhos     #inner radius\n",
      "bi = math.sqrt(bi)\n",
      "bi = round(bi*1000)/1000.\n",
      "nu = J*rho/((1-J)*(1-e)*rhos-J*e*rho)\n",
      "S = 6./a\n",
      "r = 5*S**2*(1-e)**2/e**3\n",
      "t = ((b**2-bi**2)*(1+2*L/b)+2*bi**2*math.log(bi/b))/(2*nu*rho*omega**2/r/mu*(b**2-x**2))\n",
      "print \"time taken to collect sucrose crystal in (s): %.4f\"%t\n",
      "\n",
      "#part2\n",
      "vl = pi*(b**2-bi**2)*h*e\n",
      "vs = pi*(b**2-bi**2)*h/nu-vl\n",
      "print \"volume of liquid separated as filterate i (m**3): %.4f\"%vs\n",
      "\n"
     ],
     "language": "python",
     "metadata": {},
     "outputs": [
      {
       "output_type": "stream",
       "stream": "stdout",
       "text": [
        "time taken to collect sucrose crystal in (s): 3287.3308\n",
        "volume of liquid separated as filterate i (m**3): 21.1677\n"
       ]
      }
     ],
     "prompt_number": 8
    },
    {
     "cell_type": "code",
     "collapsed": false,
     "input": [],
     "language": "python",
     "metadata": {},
     "outputs": []
    }
   ],
   "metadata": {}
  }
 ]
}