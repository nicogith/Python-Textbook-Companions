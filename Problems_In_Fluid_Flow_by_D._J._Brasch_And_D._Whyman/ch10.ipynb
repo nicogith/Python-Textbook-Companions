{
 "metadata": {
  "name": "",
  "signature": "sha256:88dad4167b8ab13af93e66ad11725020c7f1ec6496fdf0f78d38810f6f3baf41"
 },
 "nbformat": 3,
 "nbformat_minor": 0,
 "worksheets": [
  {
   "cells": [
    {
     "cell_type": "heading",
     "level": 1,
     "metadata": {},
     "source": [
      "Chapter 10 : SEdimentation and classification"
     ]
    },
    {
     "cell_type": "heading",
     "level": 3,
     "metadata": {},
     "source": [
      "example 10.1  pageno : 186"
     ]
    },
    {
     "cell_type": "code",
     "collapsed": false,
     "input": [
      "\n",
      "\n",
      "%matplotlib inline\n",
      "import math \n",
      "from matplotlib.pyplot import *\n",
      "#example 10.1\n",
      "# Initialization of Variable\n",
      "t = [0, 0.5, 1. ,2. ,3., 4., 5., 6., 7., 8., 9., 10.]             #time\n",
      "h = [1.10 ,1.03, .96, .82, .68, .54, .42, .35, .31, .28, .27, .27]\n",
      "Cl = [0 ,0, 0, 0, 0, 0, 0, 0, 0, 0, 0]\n",
      "m = 0.05\n",
      "V = 1/1000.             #volume\n",
      "v = [0,0,0,0,0,0,0,0,0,0,0]\n",
      "\n",
      "#calculations\n",
      "Co = m/V            #concentration at t = 0\n",
      "v[0] = (h[0]-h[1])/(t[1]-t[0])\n",
      "Cl[0] = Co\n",
      "for i in range(1,11):\n",
      "        v[i] = (h[i-1]-h[i+1])/(t[i+1]-t[i-1])          #slope or settling velocity\n",
      "        Cl[i] = Co*h[0]/(h[i]+v[i]*t[i])\n",
      "\n",
      "plot(t,h,'r--d')\n",
      "clf()\n",
      "plot(Cl,v,'r->')\n",
      "print Cl,v\n",
      "suptitle(\"Concentration vs Settling veocity\")\n",
      "xlabel(\"Concentration(kg/m**3)\")\n",
      "ylabel(\"Settling velocity (m/h)\")\n",
      "show()\n"
     ],
     "language": "python",
     "metadata": {},
     "outputs": [
      {
       "output_type": "stream",
       "stream": "stdout",
       "text": [
        "Populating the interactive namespace from numpy and matplotlib\n",
        "[50.0, 50.0, 50.0, 50.000000000000014, 50.000000000000014, 51.88679245283019, 61.452513966480446, 80.88235294117649, 99.09909909909915, 125.00000000000003, 174.60317460317458]"
       ]
      },
      {
       "output_type": "stream",
       "stream": "stdout",
       "text": [
        " [0.14000000000000012, 0.14000000000000012, 0.14000000000000004, 0.13999999999999996, 0.13999999999999996, 0.13000000000000003, 0.09500000000000003, 0.05499999999999999, 0.034999999999999976, 0.01999999999999999, 0.0050000000000000044]\n"
       ]
      },
      {
       "output_type": "stream",
       "stream": "stderr",
       "text": [
        "WARNING: pylab import has clobbered these variables: ['draw_if_interactive']\n",
        "`%pylab --no-import-all` prevents importing * from pylab and numpy\n"
       ]
      },
      {
       "metadata": {},
       "output_type": "display_data",
       "png": "[encoded data removed]",
       "text": [
        "<matplotlib.figure.Figure at 0x2d35450>"
       ]
      }
     ],
     "prompt_number": 5
    },
    {
     "cell_type": "heading",
     "level": 3,
     "metadata": {},
     "source": [
      "example 10.2 page no : 188"
     ]
    },
    {
     "cell_type": "code",
     "collapsed": false,
     "input": [
      "\n",
      "\n",
      "import math \n",
      "from numpy import linspace\n",
      "from matplotlib.pyplot import *\n",
      "\n",
      "# Initialization of Variable\n",
      "t = [0, 0.5, 1 ,2, 3, 4, 5, 6, 7, 8, 9, 10]         #time\n",
      "h = [1.10 ,1.03, .96, .82, .68, .54, .42, .35, .31, .28, .27, .27]\n",
      "Cl = linspace(50,100,5)\n",
      "U = [19.53, 17.71, 16.20, 14.92, 13.82, 12.87, 12.04, 11.31, 10.65, 9.55]           #mass ratio of liquid to solid\n",
      "v = [0.139, 0.115, 0.098, 0.083, 0.071, 0.062, 0.055, 0.049, 0.043, 0.034]                   #terminal velocity\n",
      "\n",
      "#above value taken from graph given with ques.\n",
      "C = 130.            #conc. of solids\n",
      "Q = 0.06            #slurry rate\n",
      "Cmax = 130.         #maximum solid conc.\n",
      "rhos = 2300.        #density of solid\n",
      "rho = 998.          #density of water\n",
      "V = rho*(1/C-1/rhos)\n",
      "F = Q*Cl[0]*3600.\n",
      "A = [0,0,0,0,0,0,0,0,0,0]\n",
      "for i in range(10):\n",
      "    A[i] = F*(U[i]-V)/rho/v[i]\n",
      "\n",
      "plot(v,A,'r-')\n",
      "xlabel(\"Settling Velocity(m/h)\")\n",
      "ylabel(\"Area(m**2)\")\n",
      "show()\n",
      "\n",
      "#maxima finding using datatraveller in the graph\n",
      "print \"the area for each settling velocity\",A\n",
      "print \"1005 m**2 is the maximum area found out from the plot\"\n",
      "\n",
      "Qu = Q-F/3600./Cmax\n",
      "print  \"Volumetric flow rate of clarified water in (m**3/s): %.4f\"%Qu\n",
      " \n"
     ],
     "language": "python",
     "metadata": {},
     "outputs": [
      {
       "metadata": {},
       "output_type": "display_data",
       "png": "[encoded data removed]",
       "text": [
        "<matplotlib.figure.Figure at 0x219ea90>"
       ]
      },
      {
       "output_type": "stream",
       "stream": "stdout",
       "text": [
        "the area for each settling velocity [956.58577326448562, 984.95679741043818, 989.07500346402981, 1000.9355052127868, 1002.4484410905754, 982.14964830945723, 943.84207758782964, 898.19417690065814, 857.42395579055744, 734.27713187539746]\n",
        "1005 m**2 is the maximum area found out from the plot\n",
        "Volumetric flow rate of clarified water in (m**3/s): 0.0369\n"
       ]
      }
     ],
     "prompt_number": 6
    },
    {
     "cell_type": "heading",
     "level": 3,
     "metadata": {},
     "source": [
      "example 10.3 pageno : 192"
     ]
    },
    {
     "cell_type": "code",
     "collapsed": false,
     "input": [
      "\n",
      "\n",
      "import math \n",
      "from numpy import linspace\n",
      "\n",
      "# Initialization of Variable\n",
      "rho1 = 2600.        #density lighter\n",
      "rho2 = 5100.        #density heavier\n",
      "pd1 = linspace(0.000015,0.000095,9)          #particle diameter lighter\n",
      "pd2 = linspace(0.000025,0.000095,8)           #particle diameter heavier\n",
      "wp1 = [0 ,22 ,35, 47, 59, 68, 75, 81 ,100]                  #weight distribution lighter\n",
      "wp2 = [0, 21, 33.5, 48, 57.5, 67 ,75, 100]                 #weight distribution heavier\n",
      "rho = 998.6                                         #density water\n",
      "mu = 1.03/1000                                      #viscosity water\n",
      "g = 9.81\n",
      "u = 0.004                                           #velocity of water\n",
      "d = 95/1000000.                                     #paeticle diameter maximum\n",
      "\n",
      "#calculation\n",
      "#part 1\n",
      "Re = d*u*rho/mu\n",
      "d1 = math.sqrt(18*mu*u/g/(rho1-rho))\n",
      "d2 = math.sqrt(18*mu*u/g/(rho2-rho))\n",
      "def inter(d,f,g,b):                                 #interpolation linear\n",
      "    for i in range(b):\n",
      "        if d <= f[i+1] and d>f[i]:\n",
      "            break\n",
      "        else: \n",
      "            continue\n",
      "    a = (d-f[i])/(f[i+1]-f[i])*(g[i+1]-g[i])+g[i]\n",
      "    return a\n",
      "\n",
      "a = inter(d1,pd1,wp1,9)\n",
      "b = inter(d2,pd2,wp2,8)\n",
      "v2 = 1./(1+5.)*100.-b/100.*1./(1+5)*100\n",
      "v1 = 5./(1+5.)*100.-a/100.*5./(1+5)*100\n",
      "pl2 = (v2)/(v2+v1)\n",
      "print  \"The fraction of heavy ore remained in bottom %.4f\"%pl2\n",
      " \n",
      "#part 2\n",
      "rho = 1500.\n",
      "mu = 6.25/10000\n",
      "a = math.log10(2*d**3*rho*g*(rho1-rho)*3*mu**2)     #math.log10(Re**2(R/rho/mu**2))\n",
      "\n",
      "#using value from chart(graph)\n",
      "Re = 10.**0.2136\n",
      "u = Re*mu/rho/d\n",
      "d2 = math.sqrt(18*mu*u/g/(rho1-rho))\n",
      "b = inter(d2,pd2,wp2,8)\n",
      "print \"The percentage of heavy ore left in this case %.4f\"%(100-b+3.5)\n",
      "\n",
      "#part 3\n",
      "a = 0.75                                        #% of heavy ore in overhead product\n",
      "s = 100.*5./6./(100*5./6+0.75*100./6)\n",
      "print \"the fraction of light ore in overhead product: %.4f\"%s\n",
      "\n",
      "#part 4\n",
      "da = pd2[0]\n",
      "db = pd1[8]\n",
      "rho = (da**2*rho2-db**2*rho1)/(-db**2+da**2)\n",
      "print \"The minimum density required to seperate 2 ores in kg/m**3: %.4f\"%rho\n"
     ],
     "language": "python",
     "metadata": {},
     "outputs": [
      {
       "output_type": "stream",
       "stream": "stdout",
       "text": [
        "The fraction of heavy ore remained in bottom 0.3197\n",
        "The percentage of heavy ore left in this case 24.8188\n",
        "the fraction of light ore in overhead product: 0.8696\n",
        "The minimum density required to seperate 2 ores in kg/m**3: 2413.9881\n"
       ]
      }
     ],
     "prompt_number": 8
    },
    {
     "cell_type": "heading",
     "level": 3,
     "metadata": {},
     "source": [
      "example 10.4 page no : 198"
     ]
    },
    {
     "cell_type": "code",
     "collapsed": false,
     "input": [
      "\n",
      "\n",
      "import math \n",
      "from numpy import true_divide\n",
      "\n",
      "# Initialization of Variable\n",
      "\n",
      "rho = 998.\n",
      "w0 = 40.            #density of slurry\n",
      "mu = 1.01/1000\n",
      "g = 9.81\n",
      "rho1 = 2660.        #density quartz\n",
      "h = 0.25\n",
      "t = 18.5*60\n",
      "mp = [5 ,11.8, 20.2, 24.2, 28.5, 37.6 ,61.8]\n",
      "d = true_divide([30.2, 21.4, 17.4, 16.2, 15.2, 12.3, 8.8],1000000)\n",
      "u = h/t\n",
      "d1 = math.sqrt(18*mu*u/g/(rho1-rho))\n",
      "def inter(d,f,g,b):            #interpolation linear\n",
      "    for i in range(b):\n",
      "        if d > f[i+1] and d <= f[i]:\n",
      "            break\n",
      "        else: \n",
      "            continue\n",
      "        break\n",
      "    \n",
      "    a = -(d-f[i+1])/(f[i]-f[i+1])*(g[i+1]-g[i])+g[i+1]\n",
      "    return a\n",
      "a = inter(d1,d,mp,6)\n",
      "phi = 1-a/100.\n",
      "rhot = phi*(rho1-rho)/rho1*w0+rho\n",
      "print \"the density of suspension at depth 25cm in kg/m**3 is %.4f\"%rhot\n"
     ],
     "language": "python",
     "metadata": {},
     "outputs": [
      {
       "output_type": "stream",
       "stream": "stdout",
       "text": [
        "the density of suspension at depth 25cm in kg/m**3 is 1016.5653\n"
       ]
      }
     ],
     "prompt_number": 9
    },
    {
     "cell_type": "heading",
     "level": 3,
     "metadata": {},
     "source": [
      "example 10.5 pag eno : 200"
     ]
    },
    {
     "cell_type": "code",
     "collapsed": false,
     "input": [
      "\n",
      "\n",
      "\n",
      "import math \n",
      "from matplotlib.pyplot import *\n",
      "\n",
      "# Initialization of Variable\n",
      "t = [0, 45, 135, 495, 1875, 6900, 66600, 86400]             #time\n",
      "m = [0.1911, 0.1586, 0.1388, 0.1109, 0.0805, 0.0568, 0.0372, 0.0359]        #mass total\n",
      "rho1 = 3100.                    #density of cement\n",
      "mu = 1.2/1000                   #viscosity of desperant liquid\n",
      "rho = 790.                      #density of desperant liquid\n",
      "h = 0.2\n",
      "V = 10.\n",
      "s = 0.\n",
      "g = 9.81\n",
      "d = [0,0,0,0,0,0,0,0]\n",
      "mc = [0,0,0,0,0,0,0,0]\n",
      "mp = [0,0,0,0,0,0,0,0]\n",
      "d[0] = 100./1000000             #assumed value\n",
      "\n",
      "for i in range(7):\n",
      "    d[i+1] = math.sqrt(18*mu*h/g/t[i+1]/(rho1-rho))         #dia of particles\n",
      "    mc[i+1] = m[i+1]-0.2/100*V                              #mass of cement\n",
      "    s = s+mc[i+1]  \n",
      "\n",
      "mc[0] = m[0]-0.2*V/100\n",
      "s = s+mc[0]\n",
      "mp[0] = 100.\n",
      "\n",
      "for i in range(7):\n",
      "    mp[i+1] = mc[i+1]/mc[0]*100.            #mass percent below size\n",
      "\n",
      "plot(mp,d)\n",
      "xlabel(\"%undersize\")\n",
      "ylabel(\"Particle Size(m)\")\n",
      "\n",
      "show()\n",
      "u = h/t[1]\n",
      "Re = d[1]*u*rho/mu\n",
      "if Re<2:\n",
      "    print \"since Re<2 for 81% of particles so settlement occurs mainly by stoke-s law\"\n"
     ],
     "language": "python",
     "metadata": {},
     "outputs": [
      {
       "metadata": {},
       "output_type": "display_data",
       "png": "[encoded data removed]",
       "text": [
        "<matplotlib.figure.Figure at 0x2c49850>"
       ]
      },
      {
       "output_type": "stream",
       "stream": "stdout",
       "text": [
        "since Re<2 for 81% of particles so settlement occurs mainly by stoke-s law\n"
       ]
      }
     ],
     "prompt_number": 6
    },
    {
     "cell_type": "heading",
     "level": 3,
     "metadata": {},
     "source": [
      "example 10.6 page no : 204"
     ]
    },
    {
     "cell_type": "code",
     "collapsed": false,
     "input": [
      "\n",
      "\n",
      "import math \n",
      "from matplotlib.pyplot import *\n",
      "\n",
      "# Initialization of Variable\n",
      "rho = 998.\n",
      "rho1 = 2398.            #density of ore\n",
      "mu = 1.01/1000.\n",
      "g = 9.81\n",
      "h = 25/100.\n",
      "t = [114. ,150., 185., 276., 338., 396., 456., 582., 714., 960.]\n",
      "m = [0.1429 ,0.2010, 0.2500, 0.3564, 0.4208, 0.4781, 0.5354 ,0.6139, 0.6563, 0.7277]\n",
      "d = [0,0,0,0,0,0,0,0,0,0]\n",
      "P = [0,0,0,0,0,0,0,0,0,0]\n",
      "\n",
      "for i in range(10):\n",
      "    ms = 0.0573+m[9]        #total mass setteled\n",
      "    d[i] = math.sqrt(18.*mu*h/g/(rho1-rho)/t[i])\n",
      "    P[i] = m[i]/ms*100      #mass percent of sample\n",
      "\n",
      "plot(t,P)\n",
      "xlabel(\"Settling time (s)\")\n",
      "ylabel(\"mass percent in (%)\")\n",
      "show()\n",
      "print \"& its percentage mass distribution respectively\" ,\"the particle size distribution in (m)\" ,P,d\n",
      "W = [0,0,0,0,0,0,0,0,0,0]\n",
      "de = [0,0,0,0,0,0,0,0,0,0]\n",
      "for i in range(9):\n",
      "    de[i] = (P[i+1]-P[i-1])/(t[i+1]-t[i-1])        #slope \n",
      "    W[i] = P[i]-t[i]*de[i]\n",
      "    W[0] = P[0]-P[0]\n",
      "\n",
      "W[9] = P[9]-t[9] * 0.025\n",
      "print \"mass and diameter(m)respectively with serial no:\"\n",
      "\n",
      "for i in range(4,10):\n",
      "    print i-4,\n",
      "    print \"mass, is\",\n",
      "    print \"for diameter in(m) of %f   %f\"%(W[i],d[i])\n"
     ],
     "language": "python",
     "metadata": {},
     "outputs": [
      {
       "metadata": {},
       "output_type": "display_data",
       "png": "[encoded data removed]",
       "text": [
        "<matplotlib.figure.Figure at 0x2fe4c90>"
       ]
      },
      {
       "output_type": "stream",
       "stream": "stdout",
       "text": [
        "& its percentage mass distribution respectively the particle size distribution in (m) [18.203821656050955, 25.605095541401273, 31.84713375796178, 45.40127388535032, 53.60509554140127, 60.904458598726116, 68.20382165605096, 78.20382165605095, 83.60509554140127, 92.70063694267515] [5.387856206749596e-05, 4.6970241455099756e-05, 4.229436978392301e-05, 3.4626921406038745e-05, 3.129032486308103e-05, 2.890818526183746e-05, 2.693928103374798e-05, 2.3845527268417837e-05, 2.1528774873471063e-05, 1.856661815577208e-05]\n",
        "mass and diameter(m)respectively with serial no:\n",
        "0 mass, is for diameter in(m) of 9.937792   0.000031\n",
        "1 mass, is for diameter in(m) of 11.912124   0.000029\n",
        "2 mass, is for diameter in(m) of 25.792480   0.000027\n",
        "3 mass, is for diameter in(m) of 43.461413   0.000024\n",
        "4 mass, is for diameter in(m) of 56.222222   0.000022\n",
        "5 mass, is for diameter in(m) of 68.700637   0.000019\n"
       ]
      }
     ],
     "prompt_number": 11
    },
    {
     "cell_type": "heading",
     "level": 3,
     "metadata": {},
     "source": [
      "example 10.7 page no : 208"
     ]
    },
    {
     "cell_type": "code",
     "collapsed": false,
     "input": [
      "\n",
      "\n",
      "import math \n",
      "\n",
      "# Initialization of Variable\n",
      "\n",
      "rho = 1002.             #density of print erant\n",
      "rho1 = 2240.            #density of kaolin\n",
      "mu = 1.01/1000          #viscosity\n",
      "g = 9.81\n",
      "t = 600.\n",
      "h2 = 0.2\n",
      "h1 = 0.4\n",
      "dg = 15.*10**-6         #particle size to be removed\n",
      "\n",
      "#calculations\n",
      "#part 1\n",
      "d = math.sqrt(18*mu*h2/g/(rho1-rho)/t)\n",
      "x = dg/d\n",
      "f = h2/h1*(1-x**2)      #fraction separated after first decanting\n",
      "g = f*(1-f)\n",
      "print \"fraction of particles separated after second decanting %.4f\"%g\n",
      "print \"total fraction of particles separated after decanting %.4f\"%(f+g)\n",
      "\n",
      "#part 2\n",
      "h = (1.-20/40.*(1-x**2))**6\n",
      "print \"fraction of particles separated after sixth decanting %.4f\"%h\n"
     ],
     "language": "python",
     "metadata": {},
     "outputs": [
      {
       "output_type": "stream",
       "stream": "stdout",
       "text": [
        "fraction of particles separated after second decanting 0.1992\n",
        "total fraction of particles separated after decanting 0.4737\n",
        "fraction of particles separated after sixth decanting 0.1458\n"
       ]
      }
     ],
     "prompt_number": 12
    },
    {
     "cell_type": "code",
     "collapsed": false,
     "input": [],
     "language": "python",
     "metadata": {},
     "outputs": []
    }
   ],
   "metadata": {}
  }
 ]
}