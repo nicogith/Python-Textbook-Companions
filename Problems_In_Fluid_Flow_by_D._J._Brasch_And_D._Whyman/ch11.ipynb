{
 "metadata": {
  "name": "",
  "signature": "sha256:c23ae85b629821355f70fc5abaa38e7f6336abdb19ba09fa0e8e1a4bdcd9679f"
 },
 "nbformat": 3,
 "nbformat_minor": 0,
 "worksheets": [
  {
   "cells": [
    {
     "cell_type": "heading",
     "level": 1,
     "metadata": {},
     "source": [
      "Chapter 11 :  Fluidisation\n"
     ]
    },
    {
     "cell_type": "heading",
     "level": 3,
     "metadata": {},
     "source": [
      "example 11.1 page no : 216"
     ]
    },
    {
     "cell_type": "code",
     "collapsed": false,
     "input": [
      "\n",
      "\n",
      "import math \n",
      "\n",
      "# Initialization of Variable\n",
      "pi = 3.1428\n",
      "d = 0.3/1000\n",
      "mu = 2.21/100000\n",
      "rho = 106.2             #density under operating condition\n",
      "u = 2.1/100\n",
      "rhos = 2600.            #density of particles\n",
      "l = 3.25\n",
      "g = 9.81\n",
      "dt = 0.95               #fluidising diameter\n",
      "\n",
      "\n",
      "#part 1\n",
      "#calculation\n",
      "a = u**2./d/g*d*rho*u/mu*(rhos-rho)/rho*l/dt\n",
      "if a>100 :\n",
      "    print \"Bubbling fluidisation will occur as value is %.4f\"%a\n",
      "\n",
      "#part 2\n",
      "Q = 2.04/100000\n",
      "rhos = 2510.\n",
      "rho = 800.\n",
      "mu = 2.85/1000\n",
      "l = 4.01\n",
      "dt = 0.63\n",
      "d = 0.1/1000\n",
      "u = Q*4/pi/dt**2\n",
      "a = u**2/d/g*d*rho*u/mu*(rhos-rho)/rho*l/dt\n",
      "if a<100*10**-4:        #compare as value of a is much less than 100\n",
      "    print \"fluidisation occur in smooth mode as value is: %.4e\"%a\n",
      "\n"
     ],
     "language": "python",
     "metadata": {},
     "outputs": [
      {
       "output_type": "stream",
       "stream": "stdout",
       "text": [
        "Bubbling fluidisation will occur as value is 364.4332\n",
        "fluidisation occur in smooth mode as value is: 1.0898e-07\n"
       ]
      }
     ],
     "prompt_number": 4
    },
    {
     "cell_type": "heading",
     "level": 3,
     "metadata": {},
     "source": [
      "example 11.2 page no ;218"
     ]
    },
    {
     "cell_type": "code",
     "collapsed": false,
     "input": [
      "\n",
      "\n",
      "import math \n",
      "\n",
      "# Initialization of Variable\n",
      "d = 50./1000000\n",
      "rhos = 1850.            #density of particle\n",
      "rho = 880.              #density of hydrocarbon\n",
      "mu = 2.75/1000          #viscosity of hydrocarbon\n",
      "e = 0.45                #void fraction coeff.\n",
      "g = 9.81\n",
      "h = 1.37                #flow depth\n",
      "c = 5.5/1000            #c = 1/K\n",
      "\n",
      "#calculation\n",
      "#part 1\n",
      "u = c*e**3*d**2*g*(rhos-rho)/mu/(1-e)\n",
      "print \"The superficial linear flow rate in (m/s): %.3e\"%u\n",
      "\n",
      "#part 2\n",
      "u = d**2*g*(rhos-rho)/18/mu\n",
      "print \"Terminal Settling Velocity in (m/s): %.4f\"%u\n",
      "Re = d*u*rho/mu\n",
      "if Re<2 :\n",
      "    print \"Stoke law assumption is sustained with this velocity\"\n",
      "\n",
      "#part 3\n",
      "P = g*(rhos-rho)*h*(1-e)\n",
      "print \"Pressure drop across fluidised bed in (N/m**2):\",P\n"
     ],
     "language": "python",
     "metadata": {},
     "outputs": [
      {
       "output_type": "stream",
       "stream": "stdout",
       "text": [
        "The superficial linear flow rate in (m/s): 7.883e-06\n",
        "Terminal Settling Velocity in (m/s): 0.0005\n",
        "Stoke law assumption is sustained with this velocity\n",
        "Pressure drop across fluidised bed in (N/m**2): 7170.07995\n"
       ]
      }
     ],
     "prompt_number": 5
    },
    {
     "cell_type": "heading",
     "level": 3,
     "metadata": {},
     "source": [
      "example 11.3 page no : 221"
     ]
    },
    {
     "cell_type": "code",
     "collapsed": false,
     "input": [
      "\n",
      "\n",
      "import math \n",
      "from numpy import *\n",
      "# Initialization of Variable\n",
      "g = 9.81\n",
      "rhos = 1980.            #density of ore\n",
      "rho = 1.218             #density of air\n",
      "e = 0.4\n",
      "mu = 1.73/10**5\n",
      "s = 0\n",
      "wp = array([0, .08, .20, .40, .60, .80, .90, 1.00])        #weight percent\n",
      "d = true_divide([0.4 ,0.5, 0.56, 0.62, 0.68, 0.76, 0.84, 0.94],1000)\n",
      "dav = [0,0,0,0,0,0,0]\n",
      "mf = [0,0,0,0,0,0,0]\n",
      "a = [0,0,0,0,0,0,0]\n",
      "#part 1\n",
      "for i in range(7):\n",
      "    dav[i] = d[i+1]/2+d[i]/2.                   #average dia\n",
      "    mf[i] = wp[i+1]-wp[i]                       #mass fraction\n",
      "    a[i] = mf[i]/dav[i]\n",
      "    s = s+a[i]\n",
      "\n",
      "db = 1/s                #d bar\n",
      "\n",
      "#quadratic coeff. ax**2 +bx +c = 0\n",
      "c = -(rhos-rho)*g\n",
      "b = 150.*(1-e)/e**3/db**2*mu\n",
      "a = 1.75*rho/e**3/db\n",
      "y = poly1d([a,b,c],False)\n",
      "U = roots(y)\n",
      "print  \"the linear air flow rate in (m/s): %.4f\"%(abs(U[1]))\n",
      "\n",
      "#part 2\n",
      "d = 0.4/1000\n",
      "a = 2*d**3/3/mu**2*rho*(rhos-rho)*g\n",
      "a = math.log10(a)\n",
      "print \"log10(Re**2/rho/U**2*R) =  %.4f\"%a\n",
      "\n",
      "#using chart\n",
      "Re = 10**1.853\n",
      "u = Re*mu/rho/d\n",
      "print  \"speed required for smallest particle in (m/s): %.4f\"%u\n"
     ],
     "language": "python",
     "metadata": {},
     "outputs": [
      {
       "output_type": "stream",
       "stream": "stdout",
       "text": [
        "the linear air flow rate in (m/s): 0.2643\n",
        "log10(Re**2/rho/U**2*R) =  3.5277\n",
        "speed required for smallest particle in (m/s): 2.5313\n"
       ]
      }
     ],
     "prompt_number": 6
    },
    {
     "cell_type": "heading",
     "level": 3,
     "metadata": {},
     "source": [
      "example 11.4 page no : 224"
     ]
    },
    {
     "cell_type": "code",
     "collapsed": false,
     "input": [
      "\n",
      "\n",
      "import math \n",
      "from numpy import *\n",
      "\n",
      "# Initialization of Variable\n",
      "U = 2.032/10**4\n",
      "pi = 3.1428\n",
      "rho = 852\n",
      "g = 9.81\n",
      "mu = 1.92/1000\n",
      "mf = 125/3600.          #mass flow rate\n",
      "\n",
      "#calculation\n",
      "#part 1\n",
      "G = U*rho\n",
      "A = mf/G\n",
      "d = math.sqrt(4*A/pi)\n",
      "print \"the diameter of vessel will be in(m): %.4f\"%d\n",
      "\n",
      "#part 2\n",
      "A = 0.201\n",
      "e = 0.43\n",
      "ms = 102.           #mass of solids\n",
      "rhos = 1500.        #density of solid\n",
      "L = ms/rhos/A\n",
      "Lmf = L/(1-e)\n",
      "print  \"depth of bed in (m): %.4f\"%Lmf \n",
      "\n",
      "#part 3\n",
      "d1 = 0.2/1000\n",
      "U = 2.*5.5/10**3*e**3*d1**2*(rhos-rho)*g/mu/(1-e)\n",
      "\n",
      "#now euating for e\n",
      "#a = e**3/(1-e)\n",
      "a = U/5.5*10**3/(d1**2*(rhos-rho)*g/mu)\n",
      "y = poly1d([1,0,a,-a],False)\n",
      "e2 = roots(y)\n",
      "L = Lmf*(1-e)/(1-e2[2])\n",
      "print \"depth of fluidised bed under operating condition in (m): %.4f\"%L\n"
     ],
     "language": "python",
     "metadata": {},
     "outputs": [
      {
       "output_type": "stream",
       "stream": "stdout",
       "text": [
        "the diameter of vessel will be in(m): 0.5052\n",
        "depth of bed in (m): 0.5935\n",
        "depth of fluidised bed under operating condition in (m): 0.6958\n"
       ]
      },
      {
       "output_type": "stream",
       "stream": "stderr",
       "text": [
        "-c:45: ComplexWarning: Casting complex values to real discards the imaginary part\n"
       ]
      }
     ],
     "prompt_number": 7
    },
    {
     "cell_type": "heading",
     "level": 3,
     "metadata": {},
     "source": [
      "example 11.5 page no : 227"
     ]
    },
    {
     "cell_type": "code",
     "collapsed": false,
     "input": [
      "\n",
      "\n",
      "import math \n",
      "\n",
      "# Initialization of Variable\n",
      "g = 9.81\n",
      "pi = 3.1428\n",
      "r = 0.51\n",
      "e = 0.48            #void ratio\n",
      "rhos = 2280.        #density of glass\n",
      "rho = 1.204         #density of air\n",
      "U = 0.015           #velocity of water entering bed\n",
      "L = 7.32\n",
      "gam = 1.4           #gamma\n",
      "neta = 0.7          #efficiency\n",
      "P4 = 1.013*10**5\n",
      "P1 = P4\n",
      "v1 = 1/1.204        #volume 1\n",
      "\n",
      "#calculation\n",
      "P3 = P4+g*(rhos-rho)*(1-e)*L\n",
      "P2 = P3+0.1*85090\n",
      "v2 = (P1*v1**gam/P2)**(1/gam)       #vlume 2\n",
      "W = 1/neta*gam/(gam-1)*(P2*v2-P1*v1)    #work done\n",
      "v3 = P2*v2/P3                       #volume 3\n",
      "M = U*pi*r**2/v3                    #mass flow rate\n",
      "P = M*W\n",
      "\n",
      "# Results\n",
      "print \"The power supplies to the blower in (W): %.4f\"%P\n"
     ],
     "language": "python",
     "metadata": {},
     "outputs": [
      {
       "output_type": "stream",
       "stream": "stdout",
       "text": [
        "The power supplies to the blower in (W): 1948.7509\n"
       ]
      }
     ],
     "prompt_number": 8
    },
    {
     "cell_type": "heading",
     "level": 3,
     "metadata": {},
     "source": [
      "example 11.6 page no : 230"
     ]
    },
    {
     "cell_type": "code",
     "collapsed": false,
     "input": [
      "\n",
      "\n",
      "import math \n",
      "\n",
      "# Initialization of Variable\n",
      "dt = 12.7/1000\n",
      "d = 1.8/1000\n",
      "Q = 2.306/10**6\n",
      "pi = 3.1428\n",
      "\n",
      "#calculation\n",
      "#part 1\n",
      "Sc = 4./dt\n",
      "S = 6./d\n",
      "f = (1+0.5*Sc/S)**2\n",
      "U = Q*4/pi/dt**2        #velocity\n",
      "Ua = f*U                #actual velocity\n",
      "print \"minimum fluidising velocity found using smaller glass column in (m/s): %.4f\"%Ua\n",
      "\n",
      "#part 2\n",
      "dt = 1.5\n",
      "Sc = 4./dt\n",
      "f = (1+0.5*Sc/S)**2\n",
      "Ua = f*U                #actual velocity\n",
      "print \"fluidising velocity found using larger glass column in (m/s): %.4f\"%Ua\n"
     ],
     "language": "python",
     "metadata": {},
     "outputs": [
      {
       "output_type": "stream",
       "stream": "stdout",
       "text": [
        "minimum fluidising velocity found using smaller glass column in (m/s): 0.0200\n",
        "fluidising velocity found using larger glass column in (m/s): 0.0182\n"
       ]
      }
     ],
     "prompt_number": 9
    },
    {
     "cell_type": "heading",
     "level": 3,
     "metadata": {},
     "source": [
      "example 11.7 page no : 232"
     ]
    },
    {
     "cell_type": "code",
     "collapsed": false,
     "input": [
      "\n",
      "\n",
      "import math \n",
      "\n",
      "# Initialization of Variable\n",
      "e = 0.4             #incipent to fluidisation\n",
      "\n",
      "#calculation\n",
      "#part 1\n",
      "print \"for Re<500\"\n",
      "print \"the ratio of terminal velocity & minimmum fluidising velocity is\"\n",
      "\n",
      "a = 3.1*1.75/e**3\n",
      "\n",
      "print math.sqrt(a)\n",
      "\n",
      "#part 2\n",
      "print \"for Re>500\"\n",
      "print \"the ratio of terminal velocity & minimmum fluidising velocity is\"\n",
      "a = 150.*(1-e)/18./e**3\n",
      "print a\n"
     ],
     "language": "python",
     "metadata": {},
     "outputs": [
      {
       "output_type": "stream",
       "stream": "stdout",
       "text": [
        "for Re<500\n",
        "the ratio of terminal velocity & minimmum fluidising velocity is\n",
        "9.20682491416\n",
        "for Re>500\n",
        "the ratio of terminal velocity & minimmum fluidising velocity is\n",
        "78.125\n"
       ]
      }
     ],
     "prompt_number": 9
    },
    {
     "cell_type": "code",
     "collapsed": false,
     "input": [],
     "language": "python",
     "metadata": {},
     "outputs": []
    }
   ],
   "metadata": {}
  }
 ]
}