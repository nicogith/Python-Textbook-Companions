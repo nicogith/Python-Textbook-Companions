{
 "metadata": {
  "name": "",
  "signature": "sha256:8de14a272a9bc06516758c82d47f7c6c131e878e1053a9679880c251e49e360a"
 },
 "nbformat": 3,
 "nbformat_minor": 0,
 "worksheets": [
  {
   "cells": [
    {
     "cell_type": "heading",
     "level": 1,
     "metadata": {},
     "source": [
      "Chapter 13 : Centrifugal Separation Operations\n"
     ]
    },
    {
     "cell_type": "heading",
     "level": 3,
     "metadata": {},
     "source": [
      "example 13.1  page no : 259"
     ]
    },
    {
     "cell_type": "code",
     "collapsed": false,
     "input": [
      "\n",
      "\n",
      "import math \n",
      "\n",
      "# Initialization of Variable\n",
      "rho = 998.\n",
      "g = 9.81\n",
      "pi = 3.1428\n",
      "omega = 2*pi*1055./60           #angular rotation\n",
      "r = 2.55/100                    #radius outer\n",
      "ld = 1.55/100.                   #liq. depth\n",
      "l = 10.25/100.\n",
      "\n",
      "#calculation\n",
      "#part1\n",
      "a = r*omega**2/g\n",
      "print \"ratio of cetrifugal force & gravitational force is: %.4f\"%a\n",
      "\n",
      "#part2\n",
      "ri = r-ld                       #radius internal\n",
      "V = pi*(r**2-ri**2)*l\n",
      "sigma = (omega**2*V)/(g*math.log(r/ri))\n",
      "print \"equivalent to gravity settling tank of crossectional area of in (m**2): %.4f\"%sigma\n"
     ],
     "language": "python",
     "metadata": {},
     "outputs": [
      {
       "output_type": "stream",
       "stream": "stdout",
       "text": [
        "ratio of cetrifugal force & gravitational force is: 31.7517\n",
        "equivalent to gravity settling tank of crossectional area of in (m**2): 0.2358\n"
       ]
      }
     ],
     "prompt_number": 1
    },
    {
     "cell_type": "heading",
     "level": 3,
     "metadata": {},
     "source": [
      "example 13.2 page no : 261"
     ]
    },
    {
     "cell_type": "code",
     "collapsed": false,
     "input": [
      "\n",
      "\n",
      "import math \n",
      "\n",
      "# Initialization of Variable\n",
      "sigma = 55.*10**6           #maximum stress\n",
      "d = 35.2/100\n",
      "rhos = 8890.                #density of bronze\n",
      "rho = 1105.                 #density of solution\n",
      "t = 80./1000                #thickness\n",
      "tau = 4.325/1000.\n",
      "pi = 3.1428\n",
      "\n",
      "#calculation\n",
      "#part1\n",
      "ri = d/2.-t                 #radius internal\n",
      "def fround(x,n):\n",
      "    # fround(x,n)\n",
      "    # Round the floating point numbers x to n decimal places\n",
      "    # x may be a vector or matrix# n is the integer number of places to round to\n",
      "    y = round(x*10**n)/10**n\n",
      "    return y\n",
      "\n",
      "omega = math.sqrt((sigma*tau*2/d)/(.5*rho*(d**2/4-ri**2)+rhos*tau*d/2))\n",
      "N = 60*omega/2/pi\n",
      "print \"The maximum safe speed allowed in rpm: %.4f\"%N\n",
      "\n",
      "#part2\n",
      "P = .5*rho*(d**2./4-ri**2)*omega**2\n",
      "P = fround(P/10**4,1)*10.**4\n",
      "#print (P,\"the power in N/m**2:\")\n",
      "print 'the power in N/m**2: %3.2e'%( P)\n",
      "a = rho*omega**2*d/2\n",
      "a = fround(a/10**6,1)*10**6\n",
      "#print (a,\"pressure gradient in radial direction in N/m**3:\")\n",
      "print 'pressure gradient in radial direction in N/m**3: %3.2e'%( a)\n"
     ],
     "language": "python",
     "metadata": {},
     "outputs": [
      {
       "output_type": "stream",
       "stream": "stdout",
       "text": [
        "The maximum safe speed allowed in rpm: 2560.1495\n",
        "the power in N/m**2: 8.65e+05\n",
        "pressure gradient in radial direction in N/m**3: 1.40e+07\n"
       ]
      }
     ],
     "prompt_number": 2
    },
    {
     "cell_type": "heading",
     "level": 3,
     "metadata": {},
     "source": [
      "example 13.3 page no : 262"
     ]
    },
    {
     "cell_type": "code",
     "collapsed": false,
     "input": [
      "\n",
      "\n",
      "import math \n",
      "\n",
      "# Initialization of Variable\n",
      "rhos = 1425.        #density of organic pigment\n",
      "rho = 998.          #density of water\n",
      "pi = 3.1428\n",
      "omega = 360*2*pi/60.\n",
      "mu = 1.25/1000.\n",
      "t = 360.\n",
      "r = 0.165+0.01\n",
      "ro = 0.165\n",
      "\n",
      "#calculation\n",
      "d = math.sqrt(18*mu*math.log(r/ro)/t/(rhos-rho)/omega**2)\n",
      "print 'the minimum diameter in organic pigment in m: %3.1e'%( d)\n"
     ],
     "language": "python",
     "metadata": {},
     "outputs": [
      {
       "output_type": "stream",
       "stream": "stdout",
       "text": [
        "the minimum diameter in organic pigment in m: 2.5e-06\n"
       ]
      }
     ],
     "prompt_number": 4
    },
    {
     "cell_type": "heading",
     "level": 3,
     "metadata": {},
     "source": [
      "example 13.4 page no : 263"
     ]
    },
    {
     "cell_type": "code",
     "collapsed": false,
     "input": [
      "\n",
      "\n",
      "import math \n",
      "\n",
      "# Initialization of Variable\n",
      "rhos = 1455.            #density of crystals\n",
      "rho = 998.              #density of wliquid\n",
      "g = 9.81\n",
      "pi = 3.1428\n",
      "mu = 1.013/1000\n",
      "omega = 2*pi*60000/60.\n",
      "l = 0.5\n",
      "d = 2*10.**-6.            #dia of particles\n",
      "r = 50.5/1000.              #radius\n",
      "t = 38.5/1000           #thickness of liquid\n",
      "\n",
      "#calculation\n",
      "ri = r-t\n",
      "V = pi*l*(r**2-ri**2)\n",
      "Q = d**2*(rhos-rho)/18/mu*omega**2*V/math.log(r/ri)\n",
      "print \"the maximum volumetric flow rate in (m**3/s): %.4f\"%Q\n"
     ],
     "language": "python",
     "metadata": {},
     "outputs": [
      {
       "output_type": "stream",
       "stream": "stdout",
       "text": [
        "the maximum volumetric flow rate in (m**3/s): 0.0104\n"
       ]
      }
     ],
     "prompt_number": 3
    },
    {
     "cell_type": "heading",
     "level": 3,
     "metadata": {},
     "source": [
      "example 13.5 pageno : 265"
     ]
    },
    {
     "cell_type": "code",
     "collapsed": false,
     "input": [
      "\n",
      "\n",
      "import math \n",
      "\n",
      "# Initialization of Variable\n",
      "rhoc = 867.         #density of cream\n",
      "rhom = 1034.        #density of skimmem milk\n",
      "rm = 78.2/1000.     #radius of skimmed milk\n",
      "rc = 65.5/1000.     #radius of cream\n",
      "\n",
      "#calculation\n",
      "r = math.sqrt((rhom*rm**2-rhoc*rc**2)/(rhom-rhoc))\n",
      "\n",
      "# results\n",
      "print \"distance of xis of rotation of cream milk interface in (m): %.4f\"%r\n"
     ],
     "language": "python",
     "metadata": {},
     "outputs": [
      {
       "output_type": "stream",
       "stream": "stdout",
       "text": [
        "distance of xis of rotation of cream milk interface in (m): 0.1249\n"
       ]
      }
     ],
     "prompt_number": 4
    },
    {
     "cell_type": "heading",
     "level": 3,
     "metadata": {},
     "source": [
      "example 13.6 page no : 266"
     ]
    },
    {
     "cell_type": "code",
     "collapsed": false,
     "input": [
      "\n",
      "\n",
      "import math \n",
      "\n",
      "# Initialization of Variable\n",
      "rho = 1.210             #density of air\n",
      "mu = 1.78/10**5\n",
      "g = 9.81\n",
      "rhos = 2655.            #density of ore\n",
      "pi = 3.1428\n",
      "d = 0.095\n",
      "dp = 2.*10**-6           #particle diameter\n",
      "dt = 0.333              #dia of cyclone separator\n",
      "h = 1.28\n",
      "\n",
      "#calculation\n",
      "U = dp**2*g*(rhos-rho)/18/mu\n",
      "Q = 0.2*(pi*d**2/4)**2*d*g/U/pi/h/dt\n",
      "print \"volumetric flow rate in(m**3/s): %.4f\"%Q\n"
     ],
     "language": "python",
     "metadata": {},
     "outputs": [
      {
       "output_type": "stream",
       "stream": "stdout",
       "text": [
        "volumetric flow rate in(m**3/s): 0.0215\n"
       ]
      }
     ],
     "prompt_number": 5
    },
    {
     "cell_type": "heading",
     "level": 3,
     "metadata": {},
     "source": [
      "example 13.7 page no : 268"
     ]
    },
    {
     "cell_type": "code",
     "collapsed": false,
     "input": [
      "\n",
      "import math \n",
      "from numpy import linspace\n",
      "# Initialization of Variable\n",
      "b = 4.46*10**4\n",
      "c = 1.98*10**4\n",
      "s = 0.\n",
      "def intregrate():\n",
      "    s = 0.\n",
      "    for i in range(10889):\n",
      "        d = linspace(0,10000,10889)\n",
      "        y = (1-math.exp(-b*d[i])*c*(1-math.exp(-c*d[i])))*0.69\n",
      "        s = s+y\n",
      "    a = y\n",
      "    return a\n",
      "\n",
      "a = intregrate()\n",
      "\n",
      "print \"overall efficiency of cyclone separator in %\",a*100\n"
     ],
     "language": "python",
     "metadata": {},
     "outputs": [
      {
       "output_type": "stream",
       "stream": "stdout",
       "text": [
        "overall efficiency of cyclone separator in % 69.0\n"
       ]
      }
     ],
     "prompt_number": 8
    },
    {
     "cell_type": "code",
     "collapsed": false,
     "input": [],
     "language": "python",
     "metadata": {},
     "outputs": []
    }
   ],
   "metadata": {}
  }
 ]
}