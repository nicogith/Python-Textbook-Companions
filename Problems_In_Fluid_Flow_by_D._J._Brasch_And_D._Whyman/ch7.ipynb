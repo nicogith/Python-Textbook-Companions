{
 "metadata": {
  "name": "",
  "signature": "sha256:2221589d3a230bd5e1c3d095a5ede0c1e2f30a613887d893f353723197c86dd5"
 },
 "nbformat": 3,
 "nbformat_minor": 0,
 "worksheets": [
  {
   "cells": [
    {
     "cell_type": "heading",
     "level": 1,
     "metadata": {},
     "source": [
      "Chapter 7 : Flow Through Packed Beds\n"
     ]
    },
    {
     "cell_type": "heading",
     "level": 3,
     "metadata": {},
     "source": [
      "\n",
      "example 7.1 page no : 136"
     ]
    },
    {
     "cell_type": "code",
     "collapsed": false,
     "input": [
      "\n",
      "\n",
      "import math \n",
      "\n",
      "# Initialization of Variable\n",
      "mu = 1.83/1000\n",
      "rhom = 1.355*10000              #density mercury\n",
      "K = 5.\n",
      "g = 9.81\n",
      "d = 2.5/100\n",
      "pi = 3.14\n",
      "thik = 2.73/100\n",
      "rho = 3100.                     #density of particles\n",
      "Q = 250./(12.*60+54)/10.**6\n",
      "\n",
      "#calculation\n",
      "A = pi*d**2./4.\n",
      "Vb = A*thik                     #volume of bed\n",
      "Vp = 25.4/rho/1000              #volume of particles\n",
      "e = 1-Vp/Vb\n",
      "u = Q/A\n",
      "delP = 12.5/100*rhom*g\n",
      "S = math.sqrt(e**3*delP/K/u/thik/mu/(1-e)**2)\n",
      "S = round(S/1000)*1000.\n",
      "d = 6./S\n",
      "print \"average particle diameter in (x10**-6m) %.4f\"%(d*10**6)\n",
      "A = pi*d**2./1000/(4./3*pi*d**3/8*rho)\n",
      "print \"surface area per gram of cement (cm**2): %.4f\"%(A*10**4)\n",
      "\n"
     ],
     "language": "python",
     "metadata": {},
     "outputs": [
      {
       "output_type": "stream",
       "stream": "stdout",
       "text": [
        "average particle diameter in (x10**-6m) 47.6190\n",
        "surface area per gram of cement (cm**2): 406.4516\n"
       ]
      }
     ],
     "prompt_number": 1
    },
    {
     "cell_type": "heading",
     "level": 3,
     "metadata": {},
     "source": [
      "example 7.2 page no : 138"
     ]
    },
    {
     "cell_type": "code",
     "collapsed": false,
     "input": [
      "\n",
      "\n",
      "import math \n",
      "\n",
      "# Initialization of Variable\n",
      "mu = 2.5/1000\n",
      "rho = 897.\n",
      "g = 9.81\n",
      "pi = 3.1414\n",
      "K = 5.1\n",
      "l = 6.35/1000\n",
      "d = l\n",
      "hei = 24.5+0.65\n",
      "len = 24.5\n",
      "dc = 2.65                           #dia of column\n",
      "thik = 0.76/1000\n",
      "Vs = pi*d**2/4*l-pi*l/4*(d-2*thik)**2           #volume of each ring\n",
      "n = 3.023*10**6\n",
      "e = 1-Vs*n\n",
      "e = round(e*1000)/1000.\n",
      "Surfacearea = pi*d*l+2*pi*d**2/4+pi*(d-2*thik)*l-2*pi*(d-2*thik)**2/4\n",
      "S = Surfacearea/Vs\n",
      "S = round(S)\n",
      "delP = hei*g*rho\n",
      "delP = round(delP/100.)*100.\n",
      "u = e**3*delP/K/S**2/mu/(1-e)**2/len\n",
      "Q = pi*dc**2/4*u\n",
      "print \"initial volumetric flow rate in (m**3/s): %.4f\"%Q\n"
     ],
     "language": "python",
     "metadata": {},
     "outputs": [
      {
       "output_type": "stream",
       "stream": "stdout",
       "text": [
        "initial volumetric flow rate in (m**3/s): 2.8271\n"
       ]
      }
     ],
     "prompt_number": 2
    },
    {
     "cell_type": "heading",
     "level": 3,
     "metadata": {},
     "source": [
      "example 7.3 page no : 140"
     ]
    },
    {
     "cell_type": "code",
     "collapsed": false,
     "input": [
      "\n",
      "\n",
      "import math \n",
      "\n",
      "# Initialization of Variable\n",
      "dr = 2.                     #dia of column\n",
      "mu = 2.02/10**5\n",
      "rho = 998.\n",
      "K = 5.1\n",
      "g = 9.81\n",
      "Q = 10000./3600\n",
      "l = 50.8/1000\n",
      "d = l\n",
      "n = 5790.\n",
      "len = 18.\n",
      "thik = 6.35/1000\n",
      "pi = 3.1414\n",
      "\n",
      "#part1\n",
      "#calculation\n",
      "\n",
      "CA = pi*dr**2./4            #cross sectional area\n",
      "u = Q/CA\n",
      "Vs = pi*d**2/4*l-pi*l/4*(d-2*thik)**2       #volume of each ring\n",
      "e = 1-Vs*n\n",
      "Surfacearea = pi*d*l+2*pi*d**2/4+pi*(d-2*thik)*l-2*pi*(d-2*thik)**2/4\n",
      "S = Surfacearea/Vs\n",
      "S = round(S*10)/10.\n",
      "delP = K*S**2/e**3*mu*len*u*(1-e)**2\n",
      "delh = delP/rho/g\n",
      "print \"pressure drop in terms of (cm of H20) %.4f\"%(delh*100)\n",
      "\n"
     ],
     "language": "python",
     "metadata": {},
     "outputs": [
      {
       "output_type": "stream",
       "stream": "stdout",
       "text": [
        "pressure drop in terms of (cm of H20) 0.3540\n"
       ]
      }
     ],
     "prompt_number": 3
    },
    {
     "cell_type": "code",
     "collapsed": false,
     "input": [],
     "language": "python",
     "metadata": {},
     "outputs": []
    }
   ],
   "metadata": {}
  }
 ]
}