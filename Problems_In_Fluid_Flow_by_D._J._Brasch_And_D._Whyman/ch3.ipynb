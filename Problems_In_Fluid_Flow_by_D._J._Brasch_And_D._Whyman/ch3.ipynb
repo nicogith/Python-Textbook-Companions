{
 "metadata": {
  "name": "",
  "signature": "sha256:8dba2b3d7cbaa7605bb6013111bd417249fb9e6e7f076f776b644ff232eb7675"
 },
 "nbformat": 3,
 "nbformat_minor": 0,
 "worksheets": [
  {
   "cells": [
    {
     "cell_type": "heading",
     "level": 1,
     "metadata": {},
     "source": [
      "Chapter 3 : velocity boundary layers\n"
     ]
    },
    {
     "cell_type": "heading",
     "level": 3,
     "metadata": {},
     "source": [
      "example 3.1 page no : 50"
     ]
    },
    {
     "cell_type": "code",
     "collapsed": false,
     "input": [
      "\n",
      "\n",
      "import math \n",
      "\n",
      "# Initialization of Variable\n",
      "rho=998.\n",
      "mu=1.002/1000\n",
      "x=48/100.\n",
      "u=19.6/100\n",
      "x1=30/100.\n",
      "b=2.6\n",
      "\n",
      "#calculation\n",
      "\n",
      "print \"fluid in boundary layer would be entirely in streamline motion \"\n",
      "Re=rho*x*u/mu\n",
      "print \"reynolds no is %.2e\"%(Re)\n",
      "\n",
      "#part 2\n",
      "Re1=rho*x1*u/mu\n",
      "delta=x1*4.64*Re1**-.5\n",
      "print \"boundary layer width in (mm): %.4f\"%(delta*1000)\n",
      "\n",
      "#part3\n",
      "y=0.5*delta           #middle of boundary layer\n",
      "ux=3/2*u*y/delta-.5*u*(y/delta)**3\n",
      "print \"velocity of water in (cm/s): %.4f\"%(ux*100)\n",
      "\n",
      "#part4\n",
      "R=0.323*rho*u**2*Re1**-0.5\n",
      "print \"shear stress at 30cm in (N/m**2): %.4f\"%R\n",
      "\n",
      "#part5\n",
      "Rms=0.646*rho*u**2*Re**-0.5\n",
      "print \"mean shear stress experienced over whole plate in (N/m**2) %.4f\"%Rms\n",
      "\n",
      "#part6\n",
      "F=Rms*x*b\n",
      "print \"total force experienced by the plate in (N) %.4f\"%F\n",
      "\n"
     ],
     "language": "python",
     "metadata": {},
     "outputs": [
      {
       "output_type": "stream",
       "stream": "stdout",
       "text": [
        "fluid in boundary layer would be entirely in streamline motion \n",
        "reynolds no is 9.37e+04\n",
        "boundary layer width in (mm): 5.7520\n",
        "velocity of water in (cm/s): 8.5750\n",
        "shear stress at 30cm in (N/m**2): 0.0512\n",
        "mean shear stress experienced over whole plate in (N/m**2) 0.0809\n",
        "total force experienced by the plate in (N) 0.1010\n"
       ]
      }
     ],
     "prompt_number": 2
    },
    {
     "cell_type": "heading",
     "level": 3,
     "metadata": {},
     "source": [
      "example 3.2 page no : 52"
     ]
    },
    {
     "cell_type": "code",
     "collapsed": false,
     "input": [
      "\n",
      "import math \n",
      "\n",
      "# Initialization of Variable\n",
      "P=102.7*1000\n",
      "M=28.8/1000\n",
      "R=8.314\n",
      "temp=273+18\n",
      "Recrit=10.**5\n",
      "u=18.4\n",
      "b=4.7#width\n",
      "x=1.3\n",
      "mu=1.827/100000\n",
      "\n",
      "#calculation\n",
      "#part1\n",
      "rho=P*M/R/temp\n",
      "xcrit=Recrit*mu/rho/u\n",
      "a=1-xcrit/1.65\n",
      "print \"%% of surface over which turbulent boundary layer exist is : %.4f\"%(a*100)\n",
      "\n",
      "#part2\n",
      "Rex=rho*u*x/mu\n",
      "thik=0.375*Rex**-.2*x\n",
      "print \"thickness of boundary layer in (cm): %.4f\"%(thik*100)\n",
      "\n",
      "y=0.5*thik\n",
      "ux=u*(y/thik)**(1./7)\n",
      "print \"velocity of air at mid point is (m/s): %.4f\"%ux\n",
      "\n",
      "#part4\n",
      "lthik=74.6*Rex**-.9*x\n",
      "print \"thickness of laminar boundary layer in (mm): %.4f\"%(lthik*1000)\n",
      "\n",
      "#part5\n",
      "ub=u*(lthik/thik)**(1./7)\n",
      "print \"velocity at outer edge of laminar sublayer in (m/s): %.4f\"%ub\n",
      "\n",
      "#part6\n",
      "R=0.0286*rho*u**2*Rex**-0.2\n",
      "print \"shearforce expericienced in (N/m**2) : %.4f\"%R\n",
      "\n",
      "#part7\n",
      "x1=1.65         #length of plate\n",
      "Rex1=rho*u*x1/mu\n",
      "Rms=0.0358*rho*u**2*Rex1**-0.2\n",
      "print \"mean shearforce in (N/m**2): %.4f\"%Rms\n",
      "\n",
      "#part8\n",
      "F=x1*Rms*b\n",
      "print \"total drag force expericienced by the plate is (N): %.4f\"%F\n",
      "\n"
     ],
     "language": "python",
     "metadata": {},
     "outputs": [
      {
       "output_type": "stream",
       "stream": "stdout",
       "text": [
        "% of surface over which turbulent boundary layer exist is : 95.0776\n",
        "thickness of boundary layer in (cm): 2.7997\n",
        "velocity of air at mid point is (m/s): 16.6653\n",
        "thickness of laminar boundary layer in (mm): 0.2528\n",
        "velocity at outer edge of laminar sublayer in (m/s): 9.3924\n",
        "shearforce expericienced in (N/m**2) : 0.6798\n",
        "mean shearforce in (N/m**2): 0.8114\n",
        "total drag force expericienced by the plate is (N): 6.2921\n"
       ]
      }
     ],
     "prompt_number": 5
    },
    {
     "cell_type": "heading",
     "level": 3,
     "metadata": {},
     "source": [
      "example 3.3 page no : 55"
     ]
    },
    {
     "cell_type": "code",
     "collapsed": false,
     "input": [
      "\n",
      "\n",
      "import math \n",
      "\n",
      "# Initialization of Variable\n",
      "Q=37.6/1000000\n",
      "d=3.2/100\n",
      "mu=1.002/1000\n",
      "rho=998.\n",
      "pi=3.14\n",
      "\n",
      "#calculation\n",
      "#part1\n",
      "u=4.*Q/pi/d**2.\n",
      "Re=rho*u*d/mu\n",
      "print \"pipe flow reynolds no : %.4f\"%Re\n",
      "print \"Water will be in streamline motion in the pipe\"\n",
      "\n",
      "#part2\n",
      "a=-8.*u/d\n",
      "print \"velocity gradient at the pipe wall is (s**-1): %.4f\"%a\n",
      "\n",
      "#part3\n",
      "Ro=-mu*a\n",
      "print \"Sherastress at pipe wall is N/m**2) %.2e\"%(Ro)\n",
      "\n",
      "#part4\n",
      "Q=2.10/1000\n",
      "u=4.*Q/pi/d**2\n",
      "u=round(u*1000.)/1000.\n",
      "print \"new av. fluid velocity is (m/s): %.4f\"%u\n",
      "\n",
      "Re=rho*u*d/mu\n",
      "phi=0.0396*Re**-0.25                #friction factor\n",
      "phi=round(phi*10**5)/10.**5\n",
      "delb=5*d*Re**-1*phi**-.5\n",
      "print \"thickness of laminar sublayer in (10**-6m): %.4f\"%(delb*10**6)\n",
      "\n",
      "#part5\n",
      "y=30.*d/phi**0.5/Re                 #thickness\n",
      "tbl=y-delb\n",
      "print \"thickness of buffer layer in (mm): %.4f\"%(tbl*1000)\n",
      "\n",
      "#part6\n",
      "A=pi*d**2./4                        #cross sectional area of pipe\n",
      "dc=d-2*y                            #dia of turbulent core\n",
      "Ac=pi*dc**2/4.\n",
      "p=(1-A/Ac)*100.\n",
      "print \"percentage of pipe-s core occupied by turbulent core is (%%): %.4f\"%p\n",
      "\n",
      "#part7\n",
      "uplus=5.                            #from reference\n",
      "ux=uplus*u*phi**0.5\n",
      "print \"velocity where sublayer and buffer layer meet is (m/s): %.4f\"%ux\n",
      "\n",
      "#part8\n",
      "yplus=30.                           #from reference\n",
      "ux2=u*phi**0.5*(2.5*math.log(yplus)+5.5)\n",
      "print \"velocity where turbulent core and buffer layer meet is (m/s): %.4f\"%ux2\n",
      "\n",
      "#part9\n",
      "us=u/0.81\n",
      "print \"fluid velocity along the pipe axis (m/s): %.4f\"%us\n",
      "\n",
      "#part10\n",
      "Ro=phi*rho*u**2\n",
      "print \"shearstress at pipe wall (N/m**2): %.4f\"%Ro\n"
     ],
     "language": "python",
     "metadata": {},
     "outputs": [
      {
       "output_type": "stream",
       "stream": "stdout",
       "text": [
        "pipe flow reynolds no : 1490.8400\n",
        "Water will be in streamline motion in the pipe\n",
        "velocity gradient at the pipe wall is (s**-1): -11.6939\n",
        "Sherastress at pipe wall is N/m**2) 1.17e-02\n",
        "new av. fluid velocity is (m/s): 2.6120\n",
        "thickness of laminar sublayer in (10**-6m): 39.8159\n",
        "thickness of buffer layer in (mm): 0.1991\n",
        "percentage of pipe-s core occupied by turbulent core is (%): -3.0544\n",
        "velocity where sublayer and buffer layer meet is (m/s): 0.6304\n",
        "velocity where turbulent core and buffer layer meet is (m/s): 1.7655\n",
        "fluid velocity along the pipe axis (m/s): 3.2247\n",
        "shearstress at pipe wall (N/m**2): 15.8647\n"
       ]
      }
     ],
     "prompt_number": 6
    },
    {
     "cell_type": "code",
     "collapsed": false,
     "input": [],
     "language": "python",
     "metadata": {},
     "outputs": []
    }
   ],
   "metadata": {}
  }
 ]
}