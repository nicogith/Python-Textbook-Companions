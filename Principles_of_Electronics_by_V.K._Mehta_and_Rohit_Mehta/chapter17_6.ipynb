{
 "metadata": {
  "name": "",
  "signature": "sha256:33d9a7285654630dd24f2d6229210244e78961e0605c11041ed1b2f130cb19a1"
 },
 "nbformat": 3,
 "nbformat_minor": 0,
 "worksheets": [
  {
   "cells": [
    {
     "cell_type": "heading",
     "level": 1,
     "metadata": {},
     "source": [
      "CHAPTER 17 : REGULATED D.C POWER SUPPLY"
     ]
    },
    {
     "cell_type": "heading",
     "level": 2,
     "metadata": {},
     "source": [
      "Example 17.1 : Page number 444\n"
     ]
    },
    {
     "cell_type": "code",
     "collapsed": false,
     "input": [
      "#Variable declaration\n",
      "V_NL=400.0;                 #Output voltage with no-load, V\n",
      "V_FL=300.0;                 #Output voltage with full-load, V\n",
      "\n",
      "\n",
      "#Calculation\n",
      "percentage_voltage_regulation=((V_NL-V_FL)/V_FL)*100;           #Percentage of voltage regulation\n",
      "\n",
      "#Result\n",
      "print(\"The percentage of voltage regulation=%.2f%%.\"%percentage_voltage_regulation);\n"
     ],
     "language": "python",
     "metadata": {},
     "outputs": [
      {
       "output_type": "stream",
       "stream": "stdout",
       "text": [
        "The percentage of voltage regulation=33.33%.\n"
       ]
      }
     ],
     "prompt_number": 1
    },
    {
     "cell_type": "heading",
     "level": 2,
     "metadata": {},
     "source": [
      "Example 17.2 : Page number 444\n"
     ]
    },
    {
     "cell_type": "code",
     "collapsed": false,
     "input": [
      "#Variable declaration\n",
      "V_regulation=1.0;               #%age voltage regulation\n",
      "V_NL=30.0;                      #Output voltage with no-load,V\n",
      "\n",
      "#Calculation\n",
      "#Since, %age_of_voltage_regulation=((V_NL-V_FL)/V_FL)*100\n",
      "V_FL=V_NL/(1+(V_regulation/100));                   #Output voltage with full-load, V\n",
      "\n",
      "#Result\n",
      "print(\"The full-load voltage=%.1fV.\"%V_FL);\n"
     ],
     "language": "python",
     "metadata": {},
     "outputs": [
      {
       "output_type": "stream",
       "stream": "stdout",
       "text": [
        "The full-load voltage=29.7V.\n"
       ]
      }
     ],
     "prompt_number": 2
    },
    {
     "cell_type": "heading",
     "level": 2,
     "metadata": {},
     "source": [
      "Example 17.3 : Page number 445\n"
     ]
    },
    {
     "cell_type": "code",
     "collapsed": false,
     "input": [
      "#Variable declaration\n",
      "V_NL_A=30.0;                #Output voltage of supply A with no-load, V\n",
      "V_FL_A=25.0;                #Output voltage of supply A with full-load, V\n",
      "V_NL_B=30.0;                #Output voltage of supply B with no-load, V\n",
      "V_FL_B=29.0;                #Output voltage of supply B with full-load, V\n",
      "\n",
      "\n",
      "#Calculation\n",
      "V_regulation_A=((V_NL_A-V_FL_A)/V_FL_A)*100;            #%age of voltage regulation in power supply A\n",
      "V_regulation_B=((V_NL_B-V_FL_B)/V_FL_B)*100;            #%age of voltage regulation in power supply B\n",
      "\n",
      "#Result\n",
      "if(V_regulation_A<V_regulation_B):\n",
      "    print(\"Power supply A is better than B.\");\n",
      "else :\n",
      "    print(\"Power supply B is better than A.\");\n"
     ],
     "language": "python",
     "metadata": {},
     "outputs": [
      {
       "output_type": "stream",
       "stream": "stdout",
       "text": [
        "Power supply B is better than A.\n"
       ]
      }
     ],
     "prompt_number": 3
    },
    {
     "cell_type": "heading",
     "level": 2,
     "metadata": {},
     "source": [
      "Example 17.4 : Page number 445\n"
     ]
    },
    {
     "cell_type": "code",
     "collapsed": false,
     "input": [
      "#Variable declaration\n",
      "V_NL=500.0;         #Output voltage with no-load, V\n",
      "V_FL=300.0;         #Output voltage with full-load, V\n",
      "I_FL=120.0;         #Output current with full-load, mA\n",
      "\n",
      "#Calculation\n",
      "#(i)\n",
      "Regulation=((V_NL-V_FL)/V_FL)*100;          #Voltage regulation percentage\n",
      "\n",
      "#(ii)\n",
      "RL_min=V_FL/I_FL;                       #Minimum load resistance, k\u03a9\n",
      "\n",
      "#Result\n",
      "print(\"(i) The voltage regulation=%.1f%%.\"%Regulation);\n",
      "print(\"(ii)The minimum load resistance=%.1fk\u03a9.\"%RL_min);\n"
     ],
     "language": "python",
     "metadata": {},
     "outputs": [
      {
       "output_type": "stream",
       "stream": "stdout",
       "text": [
        "(i) The voltage regulation=66.7%.\n",
        "(ii)The minimum load resistance=2.5k\u03a9.\n"
       ]
      }
     ],
     "prompt_number": 4
    },
    {
     "cell_type": "heading",
     "level": 2,
     "metadata": {},
     "source": [
      "Example 17.5 : Page number 445\n"
     ]
    },
    {
     "cell_type": "code",
     "collapsed": false,
     "input": [
      "#Variable declaration\n",
      "VL_1=10.5;              #Initial output voltage with load, V\n",
      "VL_2=10.0;              #Decreased output voltage with additional load, V\n",
      "IL_1=1.0;               #Initial load current, A\n",
      "IL_added=1.0;           #Added load current, A\n",
      "\n",
      "#Calculation\n",
      "delta_VL=VL_1-VL_2;                 #Change in output voltage, V\n",
      "delta_IL=IL_added;                  #Change in load current, A\n",
      "\n",
      "#(i)\n",
      "Zo=delta_VL/delta_IL;               #Output impedance of power supply, \u03a9 (OHM's LAW)\n",
      "\n",
      "#(ii)\n",
      "#Since, Output_impedance=change_in_output_voltage/change_in_output_current\n",
      "#Zo=(V_NL-VL_1)/delta_IL,\n",
      "delta_IL=IL_1;                          #Change in load current, A\n",
      "V_NL=VL_1+(delta_IL*Zo);                #Output voltage with no load, V\n",
      "\n",
      "#Result\n",
      "print(\"(i) The output impedance=%.1f\u03a9.\"%Zo);\n",
      "print(\"(ii) The output voltage with no-load=%dV.\"%V_NL);\n"
     ],
     "language": "python",
     "metadata": {},
     "outputs": [
      {
       "output_type": "stream",
       "stream": "stdout",
       "text": [
        "(i) The output impedance=0.5\u03a9.\n",
        "(ii) The output voltage with no-load=11V.\n"
       ]
      }
     ],
     "prompt_number": 5
    },
    {
     "cell_type": "heading",
     "level": 2,
     "metadata": {},
     "source": [
      "Example 17.6 : Page number 446\n"
     ]
    },
    {
     "cell_type": "code",
     "collapsed": false,
     "input": [
      "#Variable declaration\n",
      "Zo=0.01;                    #Output impedance, \u03a9\n",
      "IL_max=1.0;                 #Maximum output current, A\n",
      "IL_min=0.5                  #Minimum output current, A\n",
      "f=10.0;                     #Frequency, kHz\n",
      "\n",
      "#Calculation\n",
      "#Since, Zo=delta_VL/delta_IL\n",
      "delta_IL=IL_max-IL_min;                        #Maximum change in output current, A\n",
      "delta_VL=(Zo*delta_IL)*1000;                   #Fluctuations in output voltage, mV\n",
      "\n",
      "#Result\n",
      "print(\"The output voltage will have %dmV peak-to-peak fluctuation at a rate of %dkHz.\"%(delta_VL,f));\n"
     ],
     "language": "python",
     "metadata": {},
     "outputs": [
      {
       "output_type": "stream",
       "stream": "stdout",
       "text": [
        "The output voltage will have 5mV peak-to-peak fluctuation at a rate of 10kHz.\n"
       ]
      }
     ],
     "prompt_number": 6
    },
    {
     "cell_type": "heading",
     "level": 2,
     "metadata": {},
     "source": [
      "Example 17.7 : Page number 446\n"
     ]
    },
    {
     "cell_type": "code",
     "collapsed": false,
     "input": [
      "#Variable declaration\n",
      "delta_Vout=10.0;                    #Change in output voltage, \u03bcV\n",
      "delta_Vin=5.0;                      #Change in input voltage, V\n",
      "\n",
      "#Calculation\n",
      "Line_regulation=delta_Vout/delta_Vin;           #Line regulation, \u03bcV/V\n",
      "\n",
      "#Result\n",
      "print(\"The line regulation of the voltage regulator=%d\u03bcV/V.\"%Line_regulation);\n"
     ],
     "language": "python",
     "metadata": {},
     "outputs": [
      {
       "output_type": "stream",
       "stream": "stdout",
       "text": [
        "The line regulation of the voltage regulator=2\u03bcV/V.\n"
       ]
      }
     ],
     "prompt_number": 7
    },
    {
     "cell_type": "heading",
     "level": 2,
     "metadata": {},
     "source": [
      "Example 17.8 : Page number 449-450\n"
     ]
    },
    {
     "cell_type": "code",
     "collapsed": false,
     "input": [
      "#Variable declaration\n",
      "Vin=24.0;                   #Input voltage, V\n",
      "Vz=12.0;                    #Zener voltage, V\n",
      "Rs=160.0;                   #Series resistance, \u03a9\n",
      "RL_max=float('inf');        #Maximum load resistance, \u03a9\n",
      "RL_min=200.0;               #Minimum load resistance, \u03a9\n",
      "\n",
      "#Calculation\n",
      "#(i)\n",
      "Vout=Vz;                       #Output voltage,(equal to zener regulated voltage), V\n",
      "Is=((Vin-Vout)/Rs)*1000;       #Current through series resistance, mA\n",
      "\n",
      "#(ii)\n",
      "IL_min=Vout/RL_max;                    #Minimum load current, A\n",
      "IL_max=(Vout/RL_min)*1000;             #Maximum load current, mA\n",
      "\n",
      "#(iii)\n",
      "IZ_min=Is-IL_max;                       #Minimum zener current, mA\n",
      "IZ_max=Is-IL_min;                       #Maximum zener current, mA\n",
      "\n",
      "#Result\n",
      "print(\"(i)  The current through the series resistance=%dmA\"%Is);\n",
      "print(\"(ii) The minimum and maximum load currents are=%dA and %dmA\"%(IL_min,IL_max));\n",
      "print(\"(iii) The minimum and maximum zener currents are=%dmA and %dmA\"%(IZ_min,IZ_max));\n"
     ],
     "language": "python",
     "metadata": {},
     "outputs": [
      {
       "output_type": "stream",
       "stream": "stdout",
       "text": [
        "(i)  The current through the series resistance=75mA\n",
        "(ii) The minimum and maximum load currents are=0A and 60mA\n",
        "(iii) The minimum and maximum zener currents are=15mA and 75mA\n"
       ]
      }
     ],
     "prompt_number": 8
    },
    {
     "cell_type": "heading",
     "level": 2,
     "metadata": {},
     "source": [
      "Example 17.9 : Page number 450\n"
     ]
    },
    {
     "cell_type": "code",
     "collapsed": false,
     "input": [
      "#Variable declaration\n",
      "VZ=15.0;                #Zener voltage, V\n",
      "Vin_min=22.0            #Minimum input voltage, V\n",
      "Vin_max=40.0            #Maximum input voltage, V\n",
      "Vout=VZ;                #Regulated output voltage, V\n",
      "IL_max=100.0;           #Maximum load current, mA\n",
      "IL_min=20.0;            #Minimum load current, mA\n",
      "\n",
      "#Calculation\n",
      "RS_max=(Vin_min-Vout)/(IL_max/1000);               #Maximum value of series resistance, \u03a9 (OHM'S lAW)\n",
      "\n",
      "#Result\n",
      "print(\"The maximum load resistance to hold the voltage constant=%d\u03a9.\"%RS_max);\n"
     ],
     "language": "python",
     "metadata": {},
     "outputs": [
      {
       "output_type": "stream",
       "stream": "stdout",
       "text": [
        "The maximum load resistance to hold the voltage constant=70\u03a9.\n"
       ]
      }
     ],
     "prompt_number": 9
    },
    {
     "cell_type": "heading",
     "level": 2,
     "metadata": {},
     "source": [
      "Example 17.10 : Page number 450-451\n"
     ]
    },
    {
     "cell_type": "code",
     "collapsed": false,
     "input": [
      "#Variable declaration\n",
      "Vz=3.3;                     #Zener voltage, V\n",
      "Iz_min=3.0;                 #Minimum zener current, mA\n",
      "Iz_max=100.0;               #Maximum zener current, mA\n",
      "RL_max=2.0;                 #Maximum load resistance, k\u03a9\n",
      "RL_min=500.0;               #Minimum load resistance, \u03a9\n",
      "Vin=20.0;                   #Input voltage, V\n",
      "\n",
      "#Calculation\n",
      "Rs_min=(Vin-Vz)/(Iz_max/1000);             #Minimum series resistance required, \u03a9\n",
      "\n",
      "#Result\n",
      "print(\"The minimum series resistance required to limit the zener current=%.0f\u03a9.\"%Rs_min);\n"
     ],
     "language": "python",
     "metadata": {},
     "outputs": [
      {
       "output_type": "stream",
       "stream": "stdout",
       "text": [
        "The minimum series resistance required to limit the zener current=167\u03a9.\n"
       ]
      }
     ],
     "prompt_number": 10
    },
    {
     "cell_type": "heading",
     "level": 2,
     "metadata": {},
     "source": [
      "Example 17.11 : Page number 451\n"
     ]
    },
    {
     "cell_type": "code",
     "collapsed": false,
     "input": [
      "#Variable declaration\n",
      "Vz=3.3;                     #Zener voltage, V\n",
      "Iz_min=3.0;                 #Minimum zener current, mA\n",
      "Iz_max=100.0;               #Maximum zener current, mA\n",
      "RL_max=2.0;                 #Maximum load resistance, k\u03a9\n",
      "RL_min=500.0;               #Minimum load resistance, \u03a9\n",
      "Vin=20.0;                   #Input voltage, V\n",
      "\n",
      "\n",
      "#Calculation\n",
      "IL_max=(Vz/RL_min)*1000;                   #Maximum load current, mA\n",
      "Rs_max=((Vin-Vz)/(IL_max+Iz_min))*1000;    #Maximum series resistance, \u03a9\n",
      "\n",
      "#Result\n",
      "print(\"The maximum allowable value of series resistance=%d\u03a9.\"%Rs_max);\n"
     ],
     "language": "python",
     "metadata": {},
     "outputs": [
      {
       "output_type": "stream",
       "stream": "stdout",
       "text": [
        "The maximum allowable value of series resistance=1739\u03a9.\n"
       ]
      }
     ],
     "prompt_number": 11
    },
    {
     "cell_type": "heading",
     "level": 2,
     "metadata": {},
     "source": [
      "Example 17.12 : Page number 452\n"
     ]
    },
    {
     "cell_type": "code",
     "collapsed": false,
     "input": [
      "#Variable declaration\n",
      "Vz=10.0;                #Zener voltage, V\n",
      "beta=100.0;             #Base current amplification factor\n",
      "RL=1000.0;              #Load resistance, \u03a9\n",
      "VBE=0.5;                #Base-emitter voltage, V\n",
      "\n",
      "#Calculation\n",
      "Vout=Vz-VBE;                    #Output voltage, V\n",
      "IL=(Vout/RL)*1000;                     #Load current, mA\n",
      "\n",
      "#Result\n",
      "print(\"The output voltage=%.1fV.\"%Vout);\n",
      "print(\"The load current=%.1fmA\"%IL);\n"
     ],
     "language": "python",
     "metadata": {},
     "outputs": [
      {
       "output_type": "stream",
       "stream": "stdout",
       "text": [
        "The output voltage=9.5V.\n",
        "The load current=9.5mA\n"
       ]
      }
     ],
     "prompt_number": 12
    },
    {
     "cell_type": "heading",
     "level": 2,
     "metadata": {},
     "source": [
      "Example 17.3 : Page number 452\n"
     ]
    },
    {
     "cell_type": "code",
     "collapsed": false,
     "input": [
      "#Variable declaration\n",
      "IC=1.0;                     #Required current(collector current), A\n",
      "Vout=6.0;                   #Constant output voltage, V\n",
      "Vin=10.0;                   #Supply voltage, V\n",
      "beta=50.0;                  #Base current amplification factor\n",
      "VBE=0.5;                    #Base-emitter voltage, V\n",
      "Iz=10.0;                #Minimum zener current, mA\n",
      "\n",
      "#Calculation\n",
      "#(i)\n",
      "IB=(IC/beta)*1000;                 #Base current, mA\n",
      "\n",
      "#Since, Vout=Vz-VBE;\n",
      "Vz=Vout+VBE;                    #Zener breakdown voltage, V\n",
      "\n",
      "#(ii)\n",
      "V_Rs=Vin-Vz;                    #Voltage across series resistance Rs, V\n",
      "Rs=(V_Rs/(IB+Iz))*1000;                #Series resistance, \u03a9\n",
      "\n",
      "\n",
      "#Result\n",
      "print(\"(i) The zener breakdown voltage=%.1fV\"%Vz);\n",
      "print(\"(ii)The series resistance=%.0f\u03a9.\"%Rs);\n"
     ],
     "language": "python",
     "metadata": {},
     "outputs": [
      {
       "output_type": "stream",
       "stream": "stdout",
       "text": [
        "(i) The zener breakdown voltage=6.5V\n",
        "(ii)The series resistance=117\u03a9.\n"
       ]
      }
     ],
     "prompt_number": 13
    },
    {
     "cell_type": "heading",
     "level": 2,
     "metadata": {},
     "source": [
      "Example 17.14: Page number 452-453\n"
     ]
    },
    {
     "cell_type": "code",
     "collapsed": false,
     "input": [
      "#Variable declaration\n",
      "Vz=12.0;                    #Zener voltage, V\n",
      "VBE=0.7;                    #Base-emitter voltage, V\n",
      "Vin=20.0;                   #Input voltage, V\n",
      "RS=220.0;                   #Series resistance, \u03a9\n",
      "RL=1.0;                     #Load resistance, k\u03a9\n",
      "beta=50.0;                  #Base current amplification factor\n",
      "\n",
      "\n",
      "#Calculation\n",
      "#(i)\n",
      "Vout=Vz-VBE;                #Output voltage, V\n",
      "\n",
      "#(ii)\n",
      "V_RS=Vin-Vz;                       #Voltage across series resistance, RS, V\n",
      "IR=(V_RS/RS)*1000;                 #Current through series resistance, mA\n",
      "IL=Vout/RL;                        #Load current, mA\n",
      "\n",
      "#Since, IL is emitter current  and emitter current is approx. equal to collector current,\n",
      "IC=IL;                              #Collector current, mA\n",
      "IB=IC/beta;                         #Base current, mA\n",
      "Iz=IR-IB;                           #Zener current, mA\n",
      "\n",
      "#Result\n",
      "print(\"(i) The output voltage=%.1fV.\"%Vout);\n",
      "print(\"(ii) The zener current=%dmA\"%Iz);\n"
     ],
     "language": "python",
     "metadata": {},
     "outputs": [
      {
       "output_type": "stream",
       "stream": "stdout",
       "text": [
        "(i) The output voltage=11.3V.\n",
        "(ii) The zener current=36mA\n"
       ]
      }
     ],
     "prompt_number": 14
    },
    {
     "cell_type": "heading",
     "level": 2,
     "metadata": {},
     "source": [
      "Example 17.15 : Page number 453-454\n"
     ]
    },
    {
     "cell_type": "code",
     "collapsed": false,
     "input": [
      "from math import ceil\n",
      "from math import floor\n",
      "\n",
      "#Variable declaration\n",
      "IL_min=0;                   #Minimum load current, A\n",
      "IL_max=1.0;                 #Maximum load current, A\n",
      "Vin_min=12.0;               #Minimum input voltage, V\n",
      "Vin_max=18.0;               #Maximum input voltage, V\n",
      "Iz_min=1.0;                 #Minimum zener current, mA\n",
      "Vz=8.5;                     #Zener voltage, V\n",
      "beta=50.0;                  #Base current amplification factor\n",
      "\n",
      "\n",
      "#Calculation\n",
      "IB_max=(IL_max/beta)*1000;                  #Maximum base current, mA\n",
      "I_RS=Iz_min+IB_max;                         #Current through the series resistance, mA\n",
      "RS=((Vin_min-Vz)/I_RS)*1000;                #Series resistance, \u03a9\n",
      "\n",
      "#(ii)\n",
      "V_RS_max=Vin_max-Vz;                                      #Maximum voltage across series resistance, V\n",
      "P_max_RS=ceil((V_RS_max**2/RS)*1000)/1000;                #Maximum power dissipation in series resistance RS, W\n",
      "\n",
      "#(iii)\n",
      "I_RS_max=V_RS_max/floor(RS);                       #Maximum current through series resistance,mA\n",
      "Iz_max=I_RS_max;                            #Maximum zener current, mA\n",
      "P_z_max=Vz*Iz_max;                          #Maximum power dissipated in zener diode, W\n",
      "\n",
      "\n",
      "#Result\n",
      "print(\"(i)  The series resistance=%d\u03a9.\"%RS);\n",
      "print(\"(ii) The maximum power dissipated in series resistance=%.3fW.\"%P_max_RS);\n",
      "print(\"(iii)The maximum power dissipated in zener diode=%.3fW.\"%P_z_max);\n"
     ],
     "language": "python",
     "metadata": {},
     "outputs": [
      {
       "output_type": "stream",
       "stream": "stdout",
       "text": [
        "(i)  The series resistance=166\u03a9.\n",
        "(ii) The maximum power dissipated in series resistance=0.542W.\n",
        "(iii)The maximum power dissipated in zener diode=0.486W.\n"
       ]
      }
     ],
     "prompt_number": 15
    },
    {
     "cell_type": "heading",
     "level": 2,
     "metadata": {},
     "source": [
      "Example 17.16 : Page number 456\n"
     ]
    },
    {
     "cell_type": "code",
     "collapsed": false,
     "input": [
      "#Variable declaration\n",
      "R1=2.0;                     #Resistor R1, k\u03a9\n",
      "R2=1.0;                     #Resistor R2, k\u03a9\n",
      "Vz=6.0;                     #Zener voltage, V\n",
      "VBE=0.7;                    #Base-emitter voltage, V\n",
      "\n",
      "#Calculation\n",
      "m=R2/(R1+R2);                   #Feedback fraction\n",
      "A_CL=1/m;                       #Closed-loop voltage gain\n",
      "Vout=A_CL*(Vz+VBE);             #Regulated output voltage, V\n",
      "\n",
      "#Result\n",
      "print(\"The regulated output voltage=%.1fV\"%Vout);\n"
     ],
     "language": "python",
     "metadata": {},
     "outputs": [
      {
       "output_type": "stream",
       "stream": "stdout",
       "text": [
        "The regulated output voltage=20.1V\n"
       ]
      }
     ],
     "prompt_number": 16
    },
    {
     "cell_type": "heading",
     "level": 2,
     "metadata": {},
     "source": [
      "Example 17.17 : Page number 456\n"
     ]
    },
    {
     "cell_type": "code",
     "collapsed": false,
     "input": [
      "#Variable declaration\n",
      "R1=30.0;                     #Resistor R1, k\u03a9\n",
      "R2=10.0;                     #Resistor R2, k\u03a9\n",
      "\n",
      "#Calculation\n",
      "m=R2/(R1+R2);                   #Feedback fraction\n",
      "A_CL=1/m;                       #Closed-loop voltage gain\n",
      "\n",
      "\n",
      "#Result\n",
      "print(\"The closed-loop voltage gain=%d.\"%A_CL);\n"
     ],
     "language": "python",
     "metadata": {},
     "outputs": [
      {
       "output_type": "stream",
       "stream": "stdout",
       "text": [
        "The closed-loop voltage gain=4.\n"
       ]
      }
     ],
     "prompt_number": 17
    },
    {
     "cell_type": "heading",
     "level": 2,
     "metadata": {},
     "source": [
      "Example 17.18 : Page number 457\n"
     ]
    },
    {
     "cell_type": "code",
     "collapsed": false,
     "input": [
      "#Variable declaration\n",
      "Vin=22.0;               #Input voltage, V\n",
      "Rs=130.0;               #Series resistance, \u03a9\n",
      "Vz=8.3;                 #Zener voltage, V\n",
      "VBE=0.7;                #Base-emitter voltage, V\n",
      "RL=100.0;               #Load resistance, \u03a9\n",
      "\n",
      "#Calculation\n",
      "#(i)\n",
      "Vout=Vz+VBE;                #Output voltage, V\n",
      "\n",
      "#(ii)\n",
      "IL=(Vout/RL)*1000;                 #Load current, mA (OHM's LAW)\n",
      "IS=((Vin-Vout)/Rs)*1000;           #Current through series resistance, mA (OHM's LAW)\n",
      "IC=IS-IL;                          #Collector current, mA\n",
      "\n",
      "#Result\n",
      "print(\"(i) The regulated output voltage=%dV\"%Vout);\n",
      "print(\"(ii) Various currents for the shunt regulator are: IL=%dmA , IS=%dmA and IC=%dmA\"%(IL,IS,IC));\n"
     ],
     "language": "python",
     "metadata": {},
     "outputs": [
      {
       "output_type": "stream",
       "stream": "stdout",
       "text": [
        "(i) The regulated output voltage=9V\n",
        "(ii) Various currents for the shunt regulator are: IL=90mA , IS=100mA and IC=10mA\n"
       ]
      }
     ],
     "prompt_number": 18
    },
    {
     "cell_type": "heading",
     "level": 2,
     "metadata": {},
     "source": [
      "Example 17.20 : Page number 463\n"
     ]
    },
    {
     "cell_type": "code",
     "collapsed": false,
     "input": [
      "#Variable declaration\n",
      "R1=240.0;               #Resistor R1 of the regulator, \u03a9\n",
      "R2=2.4;                 #Variable resistance R2 of the regulator, k\u03a9\n",
      "\n",
      "#Calculation\n",
      "Vout=1.25*(R2*1000/R1 + 1);             #Regulated output voltage, V\n",
      "\n",
      "#Result\n",
      "print(\"The regulated output voltage=%.2fV.\"%Vout);\n"
     ],
     "language": "python",
     "metadata": {},
     "outputs": [
      {
       "output_type": "stream",
       "stream": "stdout",
       "text": [
        "The regulated output voltage=13.75V.\n"
       ]
      }
     ],
     "prompt_number": 19
    },
    {
     "cell_type": "heading",
     "level": 2,
     "metadata": {},
     "source": [
      "Example 17.21 : Page number 463\n"
     ]
    },
    {
     "cell_type": "code",
     "collapsed": false,
     "input": [
      "#Variable declaration\n",
      "Vout_adj=8.0;           #Output voltage (adjusted), V\n",
      "Vd=40.0;                #Input/output differential rating, V\n",
      "\n",
      "#Calculation\n",
      "Vin_max=Vout_adj+Vd;            #Maximum allowable input voltage, V\n",
      "\n",
      "\n",
      "#Result\n",
      "print(\"The maximum allowable input voltage=%dV.\"%Vin_max);\n"
     ],
     "language": "python",
     "metadata": {},
     "outputs": [
      {
       "output_type": "stream",
       "stream": "stdout",
       "text": [
        "The maximum allowable input voltage=48V.\n"
       ]
      }
     ],
     "prompt_number": 20
    },
    {
     "cell_type": "code",
     "collapsed": false,
     "input": [],
     "language": "python",
     "metadata": {},
     "outputs": []
    }
   ],
   "metadata": {}
  }
 ]
}