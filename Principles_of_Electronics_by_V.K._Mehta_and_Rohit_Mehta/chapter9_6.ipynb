{
 "cells": [
  {
   "cell_type": "markdown",
   "metadata": {},
   "source": [
    "# CHAPTER 9 : TRANSISTOR BIASING"
   ]
  },
  {
   "cell_type": "markdown",
   "metadata": {},
   "source": [
    "## Example 9.1: Page number 195-196"
   ]
  },
  {
   "cell_type": "code",
   "execution_count": 1,
   "metadata": {
    "collapsed": false
   },
   "outputs": [
    {
     "name": "stdout",
     "output_type": "stream",
     "text": [
      "The maximum allowed collector current during application of signal for faithful amplification = 2 mA.\n",
      "The minimum zero signal collector current required = 1 mA.\n"
     ]
    }
   ],
   "source": [
    "#Variable declaration\n",
    "V_CC=6.0;                     #Collector supply voltage\n",
    "R_C=2.5;                      #Collector load in kΩ\n",
    "\n",
    "#Calculations\n",
    "\n",
    "#(i)\n",
    "#For faithful amplification Vce (collector-emitter voltage)> 1V for Si transistor.\n",
    "V_CE_max=1;                                   #Maximum allowed collector-emitter voltage for faithful amplification, in V.\n",
    "V_Rc_max=V_CC-V_CE_max;                       #maximum voltage drop across collector load in V.\n",
    "I_C_max=V_Rc_max/R_C;                         #Maximum allowed collector current in mA\n",
    "\n",
    "#(ii)\n",
    "IC_min_zero_signal=I_C_max/2;                            #Minimum zero signal collector current in mA\n",
    "\n",
    "#Results\n",
    "print(\"The maximum allowed collector current during application of signal for faithful amplification = %d mA.\"%I_C_max);\n",
    "print(\"The minimum zero signal collector current required = %d mA.\"%IC_min_zero_signal);\n"
   ]
  },
  {
   "cell_type": "markdown",
   "metadata": {},
   "source": [
    "## Example 9.2: Page number 196"
   ]
  },
  {
   "cell_type": "code",
   "execution_count": 2,
   "metadata": {
    "collapsed": false
   },
   "outputs": [
    {
     "name": "stdout",
     "output_type": "stream",
     "text": [
      "Maximum base current =30 𝜇A.\n",
      "Maximum input signal voltage =600 mV.\n"
     ]
    }
   ],
   "source": [
    "#Variable declaration\n",
    "VCC=13.0;                     #Collector supply voltage in V\n",
    "V_knee=1.0;                   #Knee voltage in V\n",
    "R_C=4.0;                      #Collector load  in kΩ\n",
    "rate_IC_VBE=5.0;              #Rate of change of collector current IC with base-emitter voltage VBE in mA/V.\n",
    "beta=100.0;                   #base current amplification factor\n",
    "\n",
    "\n",
    "#Calculations\n",
    "V_Rc_max=VCC-V_knee;                    #Maximum allowed voltage across collector load in V\n",
    "I_C_max=V_Rc_max/R_C;                   #Maximum allowed collector current in mA\n",
    "I_B_max=I_C_max/beta;                   #Maximum base current in mA\n",
    "I_B_max=I_B_max*1000;                   #Maximum base current in 𝜇A\n",
    "\n",
    "V_B_max=I_C_max/rate_IC_VBE;            #Maximum base voltage signal in V\n",
    "V_B_max=V_B_max*1000;                   #Maximum base voltage signal in mV\n",
    "\n",
    "#Results\n",
    "print(\"Maximum base current =%d 𝜇A.\"%I_B_max);\n",
    "print(\"Maximum input signal voltage =%d mV.\"%V_B_max);\n"
   ]
  },
  {
   "cell_type": "markdown",
   "metadata": {},
   "source": [
    "## Example 9.3: Page number 200-201"
   ]
  },
  {
   "cell_type": "code",
   "execution_count": 3,
   "metadata": {
    "collapsed": false
   },
   "outputs": [
    {
     "name": "stdout",
     "output_type": "stream",
     "text": [
      "Collector current = 1mA\n",
      "Collector emitter voltage =7V.\n",
      "The new operating point for base resistor RB=50 kΩ is, VCE=5V and IC=2mA.\n"
     ]
    }
   ],
   "source": [
    "#Variable declaration\n",
    "VCC=9.0;                  #Colector supply voltage in V\n",
    "VBB=2.0;                  #Base supply voltage in V\n",
    "R_B=100.0;                #Base resistor's resistance in kΩ\n",
    "R_C=2.0;                  #Collector load in kΩ\n",
    "beta=50.0;                #base current amplification factor\n",
    "\n",
    "#Calculations\n",
    "\n",
    "#Case (i):\n",
    "\n",
    "#Applying Kirchhoff's law to the input circuit\n",
    "#We get, IB*RB +VBE =VBB.\n",
    "#Neglecting the small base-emitter voltage, we get:\n",
    "I_B=VBB/R_B;                #Base current in mA\n",
    "I_C=beta*I_B;               #Collector current in mA\n",
    "\n",
    "print(\"Collector current = %dmA\"%I_C);\n",
    "\n",
    "#Applying Kirchhoff's law to the output ciruit\n",
    "#We get, IC*RC + VCE= VCC.\n",
    "#From the above equation, we get:\n",
    "V_CE=VCC-I_C*R_C;               #Collector emitter voltage in V\n",
    "\n",
    "print(\"Collector emitter voltage =%dV.\"%V_CE);\n",
    "\n",
    "\n",
    "#Case (ii):\n",
    "\n",
    "R_B=50.0;\n",
    "I_B=VBB/R_B;\n",
    "I_C=beta*I_B;\n",
    "V_CE=VCC  - I_C*R_C;\n",
    "\n",
    "print(\"The new operating point for base resistor RB=50 kΩ is, VCE=%dV and IC=%dmA.\"%(V_CE,I_C));\n"
   ]
  },
  {
   "cell_type": "markdown",
   "metadata": {},
   "source": [
    "## Example 9.4: Page number  201-202"
   ]
  },
  {
   "cell_type": "code",
   "execution_count": 5,
   "metadata": {
    "collapsed": false
   },
   "outputs": [
    {
     "name": "stdout",
     "output_type": "stream",
     "text": [
      "Operating point: VCE= 4V and IC=1 mA\n",
      "Stability factor= 101.\n"
     ]
    },
    {
     "data": {
      "image/png": "[encoded data removed]",
      "text/plain": [
       "<matplotlib.figure.Figure at 0x7fddb80f7b38>"
      ]
     },
     "metadata": {},
     "output_type": "display_data"
    }
   ],
   "source": [
    "%matplotlib inline\n",
    "import matplotlib.pyplot as plt\n",
    "\n",
    "#variable declaration\n",
    "beta=100.0;               #base current amplification factor\n",
    "VCC=6.0;                  #Collector suply voltagein V\n",
    "VBE=0.7                   #Base emitter voltage in V\n",
    "R_B=530.0;                #Base resistor's resistance in kΩ .\n",
    "R_C=2.0;                  #Collector resistor's resistance in kΩ .\n",
    "\n",
    "#Calculation\n",
    "#D.C load line equation : VCE=VCC-IC*RC;\n",
    "#Calculating maximum VCE  ,by IC=0;\n",
    "I_C_Vce_max=0;                      #Collector current for maximum collector-emitter voltage, in mA\n",
    "VCE_max=VCC;-I_C_Vce_max*R_C;       #Maximum collector-emitter voltage in V\n",
    "\n",
    "\n",
    "#Calculating maximum collector current IC,by VCE=0;\n",
    "V_CE_IC_max=0;             #Collector-emitter voltage for maximum collector current, in V         \n",
    "I_C_max=(VCC-V_CE_IC_max)/R_C;        #Maximum collector current in mA\n",
    "\n",
    "\n",
    "#Operating point:\n",
    "#For input circuit, applying Kirchhoff's law, We get,\n",
    "#VCC=IB*RB  + VBE.\n",
    "#From the above equation,\n",
    "IB=(VCC-VBE)/R_B;                #Base current in mA\n",
    "IC=beta*IB;                    #Collector current\n",
    "\n",
    "#From the output circuit, applying Kirchhoff's law, we get:\n",
    "VCE=VCC-IC*R_C;                 #Collector-emitter voltage in V\n",
    "\n",
    "\n",
    "#Stability factor\n",
    "SF=beta+1;              \n",
    "\n",
    "#Result\n",
    "print(\"Operating point: VCE= %dV and IC=%d mA\"%(VCE,IC));\n",
    "print(\"Stability factor= %d.\"%SF);\n",
    "\n",
    "\n",
    "#plot\n",
    "limit = plt.gca()\n",
    "limit.set_xlim([0,10])\n",
    "limit.set_ylim([0,5])\n",
    "VCE=[i for i in range(0,(int)(VCC+1))];          #Plot variable for V_CE\n",
    "IC=[((VCC-i)/(R_C)) for i in (VCE[:])];      #Plot variable for I_C\n",
    "\n",
    "p=plt.plot(VCE,IC);\n",
    "plt.xlabel(\"VCE(V)\");\n",
    "plt.ylabel(\"IC(mA)\");\n",
    "plt.title(\"d.c load line\");\n",
    "plt.show(p);\n"
   ]
  },
  {
   "cell_type": "markdown",
   "metadata": {},
   "source": [
    "## Example 9.5: Page number 202"
   ]
  },
  {
   "cell_type": "code",
   "execution_count": 6,
   "metadata": {
    "collapsed": false
   },
   "outputs": [
    {
     "name": "stdout",
     "output_type": "stream",
     "text": [
      "Value of base resistor for operating the given Ge transistor at zero signal IC=1mA is = 1170 kΩ\n",
      "The new value of zero signal collector current =0.5mA\n"
     ]
    }
   ],
   "source": [
    "#Variable declaration\n",
    "VCC=12.0;                 #Collector supply voltage in V\n",
    "beta=100.0;              #base current amplification factor\n",
    "I_C_zero_signal=1.0;      #zero signal collector current in mA\n",
    "VBE=0.3;                  #Base-emitter voltage of Ge transistor in V\n",
    "\n",
    "#calculations\n",
    "\n",
    "#Case(i)\n",
    "I_B_zero_signal=I_C_zero_signal/beta;               #Zero signal base current in  mA\n",
    "\n",
    "#applying the Kirchhoff's law along input circuit:\n",
    "#We get, VCC=IB*RB +VBE\n",
    "#From the above equation we get,\n",
    "R_B=(VCC-VBE)/I_B_zero_signal;              #Required base resistor's resistance in kΩ\n",
    "\n",
    "print(\"Value of base resistor for operating the given Ge transistor at zero signal IC=1mA is = %d kΩ\"%R_B);\n",
    "\n",
    "\n",
    "\n",
    "#Case(ii)\n",
    "beta=50;\n",
    "I_B=(VCC-VBE)/R_B;                  #Base current of another transistor with beta=50, in mA\n",
    "I_C_zero_signal=beta*I_B;           #Zero signal collector current for beta=50 , in mA\n",
    "\n",
    "print(\"The new value of zero signal collector current =%.1fmA\"%I_C_zero_signal);\n"
   ]
  },
  {
   "cell_type": "markdown",
   "metadata": {},
   "source": [
    "## Example 9.6:Page number 202-203"
   ]
  },
  {
   "cell_type": "code",
   "execution_count": 8,
   "metadata": {
    "collapsed": false
   },
   "outputs": [
    {
     "name": "stdout",
     "output_type": "stream",
     "text": [
      "Base current =0.0091 mA\n",
      "Collector current =0.91 mA\n",
      "Emitter current =0.919 mA\n"
     ]
    }
   ],
   "source": [
    "#Variable declaration\n",
    "VCC=10.0;                     #Collector supply voltage in V\n",
    "VBE=0;                        #Base emitter voltage in V(considering itas zero due to it's small value)\n",
    "R_B=1.0;                      #Base resistor's resistance in MΩ\n",
    "R_C=2.0;                      #Collector resistor's resistance in kΩ                  \n",
    "R_E=1.0;                      #Emitter resistor's resistance in kΩ\n",
    "beta=100.0;                   #Base current amplification factor\n",
    "\n",
    "#Calculations\n",
    "#using Kirchhoff's law in the input circuit, we get:\n",
    "#VCC=IB*RB +VBE +IE*RE\n",
    "#Since, IE=(beta +1)*I_B\n",
    "#From the above equation we get:\n",
    "I_B=round((VCC-VBE)/((beta + 1)*R_E + R_B*1000),4);           #Base current in mA\n",
    "I_C=round(beta*I_B,2);                                   #Collector current in mA\n",
    "I_E=I_B+I_C;                                    #Emitter current in mA\n",
    "\n",
    "#Result\n",
    "print(\"Base current =%.4f mA\"%I_B);\n",
    "print(\"Collector current =%.2f mA\"%I_C);\n",
    "print(\"Emitter current =%.3f mA\"%I_E);\n"
   ]
  },
  {
   "cell_type": "markdown",
   "metadata": {},
   "source": [
    "## Example 9.7: Page number 203-204"
   ]
  },
  {
   "cell_type": "code",
   "execution_count": 9,
   "metadata": {
    "collapsed": false
   },
   "outputs": [
    {
     "name": "stdout",
     "output_type": "stream",
     "text": [
      "Collector load =3.5 kΩ .\n",
      "Base resistor=720 kΩ .\n"
     ]
    }
   ],
   "source": [
    "#Variable declaration\n",
    "VCE=8.0;                      #Collector-emitter voltage at operating point in V\n",
    "IC=2.0;                       #Colector current at operating point in mA\n",
    "VCC=15.0;                     #Collector supply voltagein V\n",
    "beta=100.0;                   #base current amplification factor\n",
    "VBE=0.6;                    #base emitter voltage in V\n",
    "\n",
    "#Calculations\n",
    "#Applying Kirchhoff's law along the output circuit,\n",
    "#we get, VCC=VCE+IC*RC.\n",
    "#So, from above equation we get:\n",
    "RC=(VCC-VCE)/IC;                 #Collector resistor's resistance in kΩ .\n",
    "IB=IC/beta;                      #Base current in mA\n",
    "\n",
    "#Applying Kirchhoff's law along the input circuit,\n",
    "#we get, VCC=IB*RB + VBE\n",
    "#So, from the above equation:\n",
    "RB=(VCC-VBE)/IB;                #Base resistor's resistance in kΩ .\n",
    "\n",
    "\n",
    "#Results\n",
    "print(\"Collector load =%.1f kΩ .\"%RC);\n",
    "print(\"Base resistor=%d kΩ .\"%RB);\n"
   ]
  },
  {
   "cell_type": "markdown",
   "metadata": {},
   "source": [
    "## Example 9.8: Page number 204"
   ]
  },
  {
   "cell_type": "code",
   "execution_count": 10,
   "metadata": {
    "collapsed": false
   },
   "outputs": [
    {
     "name": "stdout",
     "output_type": "stream",
     "text": [
      "The percentage change in collector current =50%\n",
      "The percentage change in collector-emitter voltage =-56.3%\n"
     ]
    }
   ],
   "source": [
    "#Variable declaration\n",
    "VCC=12.0;                #Collector supply voltage in V\n",
    "VBE=0.7;                 #Base-emitter voltage in V\n",
    "RB=100.0;                #Base resistor's resistance in kΩ\n",
    "RC=560.0;                #Collector resistor's resistance in Ω\n",
    "beta_25=100.0;           #base current amplification factor at 25 degree celsius\n",
    "beta_75=150.0;           #base current amplification factor at 25 degree celsius\n",
    "\n",
    "\n",
    "#Calculations\n",
    "\n",
    "\n",
    "#Applying Kirchhoff's law along input circuit, we get\n",
    "#VCC=IB*RB+VBE\n",
    "IB=(VCC-VBE)/RB;                #Base current at 25 degree celsius, in mA\n",
    "\n",
    "\n",
    "#For temperature 25 degree celsius\n",
    "IC_25=beta_25*IB;                  #Collector current at 25 degree celsius, in mA\n",
    "\n",
    "\n",
    "#Applying Kirchhoff's alw at the output circuit,\n",
    "#we get: VCC=IC*RC + VCE\n",
    "#From the above equation,\n",
    "VCE_25=round(VCC-(IC_25/1000)*RC,2);                #Collector emitter voltage  at 25 degree celsius, in V\n",
    "\n",
    "\n",
    "#For temperature 75 degree celsius\n",
    "IC_75=round(beta_75*IB,0);                  #Collector current at 75 degree celsius, in mA\n",
    "\n",
    "#Applying Kirchhoff's alw at the output circuit,\n",
    "#we get: VCC=IC*RC + VCE\n",
    "#From the above equation,\n",
    "VCE_75=round(VCC-(IC_75/1000)*RC,2);                #Collector emitter voltage at 75 degree celsius, in V\n",
    "\n",
    "\n",
    "change_IC=(IC_75-IC_25)*100.0/IC_25;        #percentage change in collector current\n",
    "change_VCE=(VCE_75-VCE_25)*100.0/VCE_25;    #Percentage change in collector-emitter voltage \n",
    "\n",
    "#Results\n",
    "print(\"The percentage change in collector current =%d%%\"%change_IC);\n",
    "print(\"The percentage change in collector-emitter voltage =%.1f%%\"%change_VCE);\n"
   ]
  },
  {
   "cell_type": "markdown",
   "metadata": {},
   "source": [
    "## Example 9.10: Page number 205"
   ]
  },
  {
   "cell_type": "code",
   "execution_count": 11,
   "metadata": {
    "collapsed": false
   },
   "outputs": [
    {
     "name": "stdout",
     "output_type": "stream",
     "text": [
      "Collector supply voltage = 20V\n",
      "Collector load=2.5 kΩ .\n",
      "Base resistor's resistance=482.5 kΩ .\n"
     ]
    }
   ],
   "source": [
    "#Variable declaration\n",
    "VCE_max=20.0;             #Maximum collector-emitter voltage in V\n",
    "VBE=0.7;                  #Base-emitter voltage in V\n",
    "IC_max=8.0;               #Maximum collector current in mA\n",
    "IB=40.0;                  #Base current in microampere\n",
    "\n",
    "#Calculations\n",
    "\n",
    "#During cut off state the collector-emitter voltage is maximum and equal to collector supply voltage\n",
    "VCC=VCE_max;                #Collector supply voltage in V\n",
    "\n",
    "#Maximum collector current IC_max=collector supply voltage(VCC)/collector load(RC)\n",
    "#Collector load(RC)=VCC*IC_max\n",
    "RC=VCC/IC_max;                  #Collector load in kΩ .\n",
    "\n",
    "#Applying Kirchhoff's law along input circuit,\n",
    "#we get, VCC=IB*RB +VBE.\n",
    "#From the above equation, we get:\n",
    "RB=(VCC-VBE)/(IB/1000);    #Base resistor's resistance in kΩ .\n",
    "\n",
    "#Results\n",
    "print(\"Collector supply voltage = %dV\"%VCC);\n",
    "print(\"Collector load=%.1f kΩ .\"%RC);\n",
    "print(\"Base resistor's resistance=%.1f kΩ .\"%RB);\n",
    "\n"
   ]
  },
  {
   "cell_type": "markdown",
   "metadata": {},
   "source": [
    "## Example 9.12: Page number 208"
   ]
  },
  {
   "cell_type": "code",
   "execution_count": 12,
   "metadata": {
    "collapsed": false
   },
   "outputs": [
    {
     "name": "stdout",
     "output_type": "stream",
     "text": [
      "The collector current = 1.73 mA\n",
      "The emitter current = 1.73 mA\n",
      "The voltage at collector terminal = 11.9 V\n",
      "The collector-emitter voltage = 14.6 V\n"
     ]
    }
   ],
   "source": [
    "#Variable declaration\n",
    "VCC=20.0;                     #Collector supply voltage in V\n",
    "VEE=-20.0;                     #Emitter supply voltage in V\n",
    "RB=100.0;                     #Base resistor's resistance in kΩ\n",
    "RC=4.7;                       #Collector resistor's resistance in kΩ\n",
    "RE=10.0;                      #Emitter resistor's resistance in kΩ\n",
    "VBE=0.7;                      #Base-emitter voltage in V\n",
    "beta=85.0;                    #Base current amplification factor\n",
    "\n",
    "\n",
    "#Calculations\n",
    "#Applying Kirchhoff's voltage law along the base-emitter circuit (input circuit),\n",
    "#we get,IB*RB  +IE*RE +VBE -VEE=0.\n",
    "#Since IB=IC/beta and IC~IE,\n",
    "#(IE/beta)*RB + IE*RE + VBE + VEE =0.\n",
    "IE=(-VEE-VBE)/(RE + RB/beta);                        #Emitter current in mA\n",
    "IC=IE;                                              #Collector current (approximately equal to emitter current) in mA\n",
    "\n",
    "#Applying Kirchhoff's law from VCC till collector terminal,\n",
    "#we get, VCC - IC*RC =VC\n",
    "VC=VCC-IC*RC;                               #voltage at collector terminal in V\n",
    "\n",
    "#Applying Kirchhoff's law from emitter terminal to VEE\n",
    "#we get, VE -IE*RE =VEE\n",
    "VE=VEE + IE*RE;                             #Voltage at emitter treminal in V\n",
    "\n",
    "VCE=VC-VE;                                  #Collector-emitter voltage in V\n",
    "\n",
    "#Results\n",
    "print(\"The collector current = %.2f mA\"%IC);\n",
    "print(\"The emitter current = %.2f mA\"%IE);\n",
    "print(\"The voltage at collector terminal = %.1f V\"%VC);\n",
    "print(\"The collector-emitter voltage = %.1f V\"%VCE);\n"
   ]
  },
  {
   "cell_type": "markdown",
   "metadata": {},
   "source": [
    "## Example 9.13: Page number 208-209"
   ]
  },
  {
   "cell_type": "code",
   "execution_count": 13,
   "metadata": {
    "collapsed": false
   },
   "outputs": [
    {
     "name": "stdout",
     "output_type": "stream",
     "text": [
      "Percentage change in collector current =1.7%\n",
      "Percentage change in collector-emitter voltage =-3.5%\n"
     ]
    }
   ],
   "source": [
    "#Variable declaration\n",
    "VCC=20.0;                     #Collector supply voltage in V\n",
    "VEE=-20.0;                     #Emitter supply voltage in V\n",
    "RB=100.0;                     #Base resistor's resistance in kΩ\n",
    "RC=4.7;                       #Collector resistor's resistance in kΩ\n",
    "RE=10.0;                      #Emitter resistor's resistance in kΩ\n",
    "beta1=85.0;                   #Base current amplification factor for case 1       \n",
    "beta2=100.0;                  #Base current amplification factor for case 1\n",
    "VBE_1=0.7;                    #Base emitter voltage for case 1 in V\n",
    "VBE_2=0.6;                    #Base emitter voltage for case 2 in V\n",
    "\n",
    "\n",
    "#Calculations\n",
    "#For beta=85 and VBE=0.7,\n",
    "#As calculated in the previous question,\n",
    "IC_1=1.73;                          #Collector current in mA.\n",
    "VCE_1=14.6;                           #Collector-emitter voltage in V.\n",
    "\n",
    "\n",
    "#For case (ii)\n",
    "#beta=100 and VBE=0.6\n",
    "\n",
    "#Applying Kirchhoff's voltage law along the base-emitter circuit (input circuit),\n",
    "#we get,IB*RB  +IE*RE +VBE -VEE=0.\n",
    "#Since IB=IC/beta and IC~IE,\n",
    "#(IE/beta)*RB + IE*RE + VBE +VEE =0.\n",
    "IE_2=round((-VEE-VBE_2)/(RE + RB/beta2),2);                        #Emitter current in mA\n",
    "IC_2=IE_2;                                                #Collector current (approximately equal to emitter current) in mA\n",
    "\n",
    "#Applying Kirchhoff's law from VCC till collector terminal,\n",
    "#we get, VCC - IC*RC =VC\n",
    "VC=round(VCC-IC_2*RC,1);                               #voltage at collector terminal in V\n",
    "\n",
    "#Applying Kirchhoff's law from emitter terminal to VEE\n",
    "#we get, VE -IE*RE =VEE\n",
    "VE=round(VEE + IE_2*RE,1);                             #Voltage at emitter treminal in V\n",
    "\n",
    "VCE_2=VC-VE;                                #Collector-emitter voltage in V\n",
    "\n",
    "\n",
    "change_IC= (IC_2-IC_1)*100/IC_1;                    #%age change in collector current\n",
    "\n",
    "change_VCE=(VCE_2-VCE_1)*100/VCE_2;                 #%age change in collector-emitter voltage\n",
    "\n",
    "\n",
    "\n",
    "#Results\n",
    "print(\"Percentage change in collector current =%.1f%%\"%change_IC);\n",
    "print(\"Percentage change in collector-emitter voltage =%.1f%%\"%change_VCE);"
   ]
  },
  {
   "cell_type": "markdown",
   "metadata": {},
   "source": [
    "## Example 9.14: Page number 210"
   ]
  },
  {
   "cell_type": "code",
   "execution_count": 14,
   "metadata": {
    "collapsed": false
   },
   "outputs": [
    {
     "name": "stdout",
     "output_type": "stream",
     "text": [
      "The operating point : VCE=10.35V and IC=9.65mA.\n"
     ]
    }
   ],
   "source": [
    "#Variable declaration\n",
    "VCC=20.0;                 #Collector supply voltage in V\n",
    "VBE=0.7                   #Base-emitter voltage in V\n",
    "RB=100.0;                 #Base resistor's resistance in kΩ\n",
    "RC=1.0;                   #Collector resistor's resistance in kΩ\n",
    "beta=100.0;               #base current amplification factor\n",
    "\n",
    "\n",
    "#Calculations\n",
    "#Applying Kirchhoff's law along input circuit,\n",
    "#we get, VCC -IC*RC -IB*RB -VBE=0.\n",
    "#since IC= beta*IB,\n",
    "#We get,\n",
    "IB=(VCC-VBE)/(RB + beta*RC);            #Base current in mA\n",
    "IC=beta*IB;                             #Collector current in mA\n",
    "\n",
    "#Applying Kirchhoff's law along the output circuit,\n",
    "#we get, VCC-VCE - IC*RC=0.\n",
    "#From the above equation,\n",
    "VCE=VCC-IC*RC;                          #Collector emitter voltage in V\n",
    "\n",
    "\n",
    "#Results\n",
    "print(\"The operating point : VCE=%.2fV and IC=%.2fmA.\"%(VCE,IC));\n",
    "\n",
    "\n"
   ]
  },
  {
   "cell_type": "markdown",
   "metadata": {},
   "source": [
    "## Example 9.15: Page number 210-211"
   ]
  },
  {
   "cell_type": "code",
   "execution_count": 15,
   "metadata": {
    "collapsed": false
   },
   "outputs": [
    {
     "name": "stdout",
     "output_type": "stream",
     "text": [
      "The resistance value of base resistor=770 kΩ and collector load= 4 kΩ.\n",
      "The operating point : VCE=9.6V and IC=0.6mA.\n"
     ]
    }
   ],
   "source": [
    "#Variable declaration\n",
    "VCC=12.0;                         #Collector supply voltage in V\n",
    "VBE=0.3;                          #Base emitter voltage in V\n",
    "IC=1.0;                           #Collector current in mA\n",
    "VCE=8.0;                          #Collector emitter voltage in V\n",
    "beta=100.0;                         #Base current amplification factor\n",
    "\n",
    "#Calculations\n",
    "\n",
    "#Case(i)\n",
    "\n",
    "#Applying Kirchhoff's law along the output circuit,\n",
    "#we get, VCC-IC*RC-VCE=0.\n",
    "#from the above equation we get,\n",
    "RC=(VCC-VCE)/IC;             #Collector load in kilo ohm\n",
    "IB=IC/beta;                  #Base current in mA\n",
    "\n",
    "#Applying Kirchhoff's law along input circuit\n",
    "#we get, VCC-VBE-(beta*IB*RC)-IB*RB=0.\n",
    "#From the above equation we get,\n",
    "RB=round((VCC-VBE-beta*IB*RC)/IB,0);         #Base resistor's resistance in kΩ\n",
    "\n",
    "#Results\n",
    "print(\"The resistance value of base resistor=%d kΩ and collector load= %d kΩ.\"%(RB,RC));\n",
    "\n",
    "#Case(ii)\n",
    "\n",
    "beta=50;\n",
    "\n",
    "#Applying Kirchhoff's law along input circuit,\n",
    "#we get, VCC -IC*RC -IB*RB -VBE=0.\n",
    "#since IC= beta*IB,\n",
    "#We get,\n",
    "IB=(VCC-VBE)/(RB + beta*RC);            #Base current in mA\n",
    "IC=beta*IB;                             #Collector current in mA\n",
    "\n",
    "#Applying Kirchhoff's law along the output circuit,\n",
    "#we get, VCC-VCE - IC*RC=0.\n",
    "#From the above equation,\n",
    "VCE=round(VCC-IC*RC,1);                          #Collector emitter voltage in V\n",
    "\n",
    "#Results\n",
    "print(\"The operating point : VCE=%.1fV and IC=%.1fmA.\"%(VCE,IC));\n",
    "\n",
    "\n"
   ]
  },
  {
   "cell_type": "markdown",
   "metadata": {},
   "source": [
    "## Example 9.16 : Page number 211"
   ]
  },
  {
   "cell_type": "code",
   "execution_count": 16,
   "metadata": {
    "collapsed": false
   },
   "outputs": [
    {
     "name": "stdout",
     "output_type": "stream",
     "text": [
      "Value of base resistor's resistance=130 kΩ.\n"
     ]
    }
   ],
   "source": [
    "#Variable declaration\n",
    "VCE=2.0;                      #Collector-emitter voltage at operating point in V\n",
    "VBE=0.7;                      #Base-emitter voltage in V            \n",
    "IC=1.0;                       #Collector current at operating point in mA\n",
    "beta=100.0;                   #Base current amplification factor\n",
    "\n",
    "#Calculations\n",
    "IB=IC/beta;                     #Base current in mA\n",
    "\n",
    "#As, VCE=VCB +VBE\n",
    "#we get,\n",
    "VCB=VCE-VBE;                    #Collector-base voltage in V\n",
    "RB=VCB/IB;                      #Base resistor's resistance in kΩ\n",
    "\n",
    "#Results\n",
    "print(\"Value of base resistor's resistance=%d kΩ.\"%RB);\n"
   ]
  },
  {
   "cell_type": "markdown",
   "metadata": {},
   "source": [
    "## Example 9.17 : Page number 211-212"
   ]
  },
  {
   "cell_type": "code",
   "execution_count": 17,
   "metadata": {
    "collapsed": false
   },
   "outputs": [
    {
     "name": "stdout",
     "output_type": "stream",
     "text": [
      "The operating point : VCE=5.7V and IC=1.26mA.\n"
     ]
    }
   ],
   "source": [
    "#Variable declaration\n",
    "VCC=12.0;                 #Collector supply voltage in V\n",
    "VBE=0.7                   #Base-emitter voltage in V\n",
    "RB=400.0;                 #Base resistor's resistance in kΩ\n",
    "RC=4.0;                   #Collector resistor's resistance in kΩ\n",
    "RE=1.0;                   #Emitter resistor's resistance in kΩ\n",
    "beta=100.0;               #Base current amplification factor\n",
    "\n",
    "\n",
    "#Calculations\n",
    "#Applying Kirchhoff's law along outut circuit,\n",
    "#we get, VCC -(IC+IB)*RC -IB*RB -VBE - IE*RE=0.\n",
    "#since IC= beta*IB, IC+IB ~ IC and IE~IC,\n",
    "#We get, VCC - IC*RC -(IC/beta)*RB -VBE - IE*RE\n",
    "IC=(VCC-VBE)/(RB/beta + RC + RE);       #Collector current current in mA.\n",
    "IE=IC;                                                #Emitter current in mA\n",
    "\n",
    "#Applying Kirchhoff's law along the output circuit,\n",
    "#we get, VCC-VCE - IC*RC -IE*RE=0. (IE~IC)\n",
    "#From the above equation,\n",
    "VCE=VCC-IC*(RC+RE);                          #Collector emitter voltage in V\n",
    "\n",
    "\n",
    "#Results\n",
    "print(\"The operating point : VCE=%.1fV and IC=%.2fmA.\"%(VCE,IC));\n",
    "\n",
    "\n"
   ]
  },
  {
   "cell_type": "markdown",
   "metadata": {},
   "source": [
    "## Example 9.18 : Page number 212"
   ]
  },
  {
   "cell_type": "code",
   "execution_count": 18,
   "metadata": {
    "collapsed": false
   },
   "outputs": [
    {
     "name": "stdout",
     "output_type": "stream",
     "text": [
      "The d.c bias values are: VCE=1.55V and IC=0.845mA\n"
     ]
    }
   ],
   "source": [
    "#Variable declaration\n",
    "VCC=10.0;                     #Collector supply voltage in V\n",
    "RB=100.0;                     #Base resistor's resistance in kΩ\n",
    "RC=10.0;                      #Collector resistor's resistance in kΩ\n",
    "RE=0;                         #Emitter resistor's  resistance in kΩ\n",
    "VBE=0.7;                      #Base-emitter voltage in V\n",
    "beta=100.0;                   #Base current amplification factor\n",
    "\n",
    "#Calculations\n",
    "#Applying Kirchhoff's law along outut circuit,\n",
    "#we get, VCC -(IC+IB)*RC -IB*RB -VBE - IE*RE=0.\n",
    "#since IC= beta*IB, IC+IB ~ IC and IE~IC,\n",
    "#We get, VCC - IC*RC -(IC/beta)*RB -VBE - IE*RE\n",
    "IC=(VCC-VBE)/(RC +RB/beta + RE);                #Collector current in mA\n",
    "\n",
    "#Applying Kirchhoff's law along the output circuit,\n",
    "#we get, VCC-VCE - IC*RC =0. (IE~IC)\n",
    "#From the above equation,\n",
    "VCE=VCC-IC*RC;                                  #Collector-emitter voltage in V\n",
    "\n",
    "#Results\n",
    "print(\"The d.c bias values are: VCE=%.2fV and IC=%.3fmA\"%(VCE,IC));\n"
   ]
  },
  {
   "cell_type": "markdown",
   "metadata": {},
   "source": [
    "## Example 9.19: Page number 214-215"
   ]
  },
  {
   "cell_type": "code",
   "execution_count": 19,
   "metadata": {
    "collapsed": false
   },
   "outputs": [
    {
     "name": "stdout",
     "output_type": "stream",
     "text": [
      "Collector-emitter voltage at operating point=8.55V\n",
      "Collector current at operating point = 2.15mA\n"
     ]
    },
    {
     "data": {
      "image/png": "[encoded data removed]",
      "text/plain": [
       "<matplotlib.figure.Figure at 0x7fddb98982b0>"
      ]
     },
     "metadata": {},
     "output_type": "display_data"
    }
   ],
   "source": [
    "%matplotlib inline\n",
    "import matplotlib.pyplot as plt\n",
    "\n",
    "#Variable declaration\n",
    "VCC=15.0;                           #Collector supply voltage in V\n",
    "R1=10.0;                            #Resistor R1's resistance in kΩ\n",
    "R2=5.0;                             #Resistor R2's resistance in kΩ\n",
    "RC=1.0;                             #Collector resistor's resistance in kΩ              \n",
    "RE=2.0;                             #Emitter resistor's resistance in kΩ\n",
    "VBE=0.7;                            #Base-emitter voltage in V\n",
    "\n",
    "#Calculations\n",
    "#Applying Kirchhoff's law along output circuit\n",
    "#VCE=VCC-IC*(RC+RE);\n",
    "#IC=0, for VCE_max\n",
    "VCE_max=VCC;                        #Maximum collector-emitter voltage in V\n",
    "#VCE=0, for IC_max\n",
    "IC_max=VCC/(RC+RE);                 #Maximum collector current in mA\n",
    "\n",
    "#Operating point\n",
    "V2=(VCC*R2)/(R1+R2);                #Voltage across R2 resistor V\n",
    "IE=(V2-VBE)/RE;                     #Emitter current in mA\n",
    "IC=IE;                              #Collector current(Approx. equal to emitter current) in mA\n",
    "VCE=VCC-IC*(RC+RE);                 #Collector-emitter voltage in V\n",
    "\n",
    "#Results\n",
    "print(\"Collector-emitter voltage at operating point=%.2fV\"%VCE);\n",
    "print(\"Collector current at operating point = %.2fmA\"%IC);\n",
    "\n",
    "#plot\n",
    "limit = plt.gca()\n",
    "limit.set_xlim([0,20])\n",
    "limit.set_ylim([0,6])\n",
    "VCE=[i for i in range(0,(int)(VCC+1))];          #Plot variable for V_CE\n",
    "IC=[((VCC-i)/(RC+RE)) for i in (VCE[:])];      #Plot variable for I_C\n",
    "\n",
    "p=plt.plot(VCE,IC);\n",
    "plt.xlabel(\"VCE(V)\");\n",
    "plt.ylabel(\"IC(mA)\");\n",
    "plt.title(\"d.c load line\");\n",
    "plt.show(p);\n"
   ]
  },
  {
   "cell_type": "markdown",
   "metadata": {},
   "source": [
    "## Example 9.20: Page number 215-216"
   ]
  },
  {
   "cell_type": "code",
   "execution_count": 20,
   "metadata": {
    "collapsed": false
   },
   "outputs": [
    {
     "name": "stdout",
     "output_type": "stream",
     "text": [
      "Collector-emitter voltage at operating point=8.55V\n",
      "Collector current at operating point = 2.15mA\n"
     ]
    }
   ],
   "source": [
    "#Variable declaration\n",
    "VCC=15.0;                           #Collector supply voltage in V\n",
    "R1=10.0;                            #Resistor R1's resistance in kΩ .\n",
    "R2=5.0;                             #Resistor R2's resistance in kΩ .\n",
    "RC=1.0;                             #Collector resistor's resistance in kΩ .              \n",
    "RE=2.0;                             #Emitter resistor's resistance in kΩ .\n",
    "VBE=0.7;                            #Base-emitter voltage in V\n",
    "\n",
    "#Calculations\n",
    "#Using Thevenin's Theorem for replacing circuit consisting of VCC,R1,R2\n",
    "E0=(VCC*R2)/(R1+R2);                #Thevenin's voltage in V\n",
    "R0=(R1*R2)/(R1+R2);                 #Thevenin's equivalent resistance in kΩ .\n",
    "\n",
    "#Applying Kirchhoff' law along thevenin's equivalent circuit,\n",
    "#E0=IB*R0+VBE+IE*RE;\n",
    "#Since IE~IC and IC=beta*IB\n",
    "#IC=(E0-VBE)/(R0/beta +RE);\n",
    "IC=(E0-VBE)/RE;                         #(Since R0/beta << RE) collector current in mA\n",
    "VCE=VCC-IC*(RC+RE);                     #Collector emitter voltage in V\n",
    "\n",
    "\n",
    "#Results\n",
    "print(\"Collector-emitter voltage at operating point=%.2fV\"%VCE);\n",
    "print(\"Collector current at operating point = %.2fmA\"%IC);\n"
   ]
  },
  {
   "cell_type": "markdown",
   "metadata": {},
   "source": [
    "## Example 9.21: Page number 216-217"
   ]
  },
  {
   "cell_type": "code",
   "execution_count": 21,
   "metadata": {
    "collapsed": false
   },
   "outputs": [
    {
     "name": "stdout",
     "output_type": "stream",
     "text": [
      "(i)Emitter current= 1.9mA\n",
      "(ii)Emitter current= 1.7mA\n"
     ]
    }
   ],
   "source": [
    "#Variable declaration\n",
    "VCC=12.0;                           #Collector  supply voltage in V\n",
    "RE=1.0;                             #Emitter resistor, kΩ .\n",
    "R1=50.0;                            #Resistor R1, kΩ .\n",
    "R2=10.0;                            #Resistor R2, kΩ .\n",
    "\n",
    "\n",
    "#Calculations\n",
    "\n",
    "#(i)\n",
    "VBE=0.1;                            #Base-emitter voltage in V\n",
    "V2=(VCC*R2)/(R1+R2);                #Voltage drop across resistor R2, V \n",
    "IE=(V2-VBE)/RE;                     #Emitter current in mA\n",
    "\n",
    "print(\"(i)Emitter current= %.1fmA\"%IE);\n",
    "\n",
    "#(ii)\n",
    "VBE=0.3;                            #Base-emitter voltage in V\n",
    "V2=(VCC*R2)/(R1+R2);                #Voltage drop across resistor R2, V\n",
    "IE=(V2-VBE)/RE;                     #Emitter current in mA\n",
    "\n",
    "print(\"(ii)Emitter current= %.1fmA\"%IE);\n"
   ]
  },
  {
   "cell_type": "markdown",
   "metadata": {},
   "source": [
    "## Example 9.22: Page number 217"
   ]
  },
  {
   "cell_type": "code",
   "execution_count": 22,
   "metadata": {
    "collapsed": false
   },
   "outputs": [
    {
     "name": "stdout",
     "output_type": "stream",
     "text": [
      "Emitter current =2mA\n",
      "Collector-emitter voltage=8V\n",
      "Collector terminal's voltage=18V\n"
     ]
    }
   ],
   "source": [
    "#Variable declaration\n",
    "VCC=20.0;                   #Collector supply voltage, V\n",
    "R1=10.0;                    #Resistor R1, kΩ\n",
    "R2=10.0;                    #Resistor R2, kΩ .\n",
    "RC=1.0;                     #Collector resistor, kΩ .\n",
    "RE=5.0;                     #Emitter resistor, kΩ .\n",
    "\n",
    "\n",
    "#Calculations\n",
    "V2=(VCC*R2)/(R1+R2);                #Voltage drop across resistor R2, V\n",
    "\n",
    "#Applying kirchhoff's law from base terminal to emitter resistor\n",
    "#V2=VBE+IE*RE\n",
    "#VBE is neglected due to its small value\n",
    "\n",
    "IE=V2/RE;                     #Emitter current in mA\n",
    "IC=IE;                              #Collector current (approx. equal to emitter current), mA\n",
    "\n",
    "#Applying Kirchhoff's law along output circuit\n",
    "VCE=VCC-IC*(RC+RE);                 #Collector-emitter voltage , V\n",
    "VC=VCC-IC*RC;                       #Voltage at collector terminal,V\n",
    "\n",
    "\n",
    "#Results\n",
    "print(\"Emitter current =%dmA\"%IE);\n",
    "print(\"Collector-emitter voltage=%dV\"%VCE);\n",
    "print(\"Collector terminal's voltage=%dV\"%VC);\n"
   ]
  },
  {
   "cell_type": "markdown",
   "metadata": {},
   "source": [
    "## Example 9.23: Page number 219-220"
   ]
  },
  {
   "cell_type": "code",
   "execution_count": 23,
   "metadata": {
    "collapsed": false
   },
   "outputs": [
    {
     "name": "stdout",
     "output_type": "stream",
     "text": [
      "Operating point : VCE= 3.72V and IC=1.2mA\n",
      "Stability factor=18.4\n"
     ]
    }
   ],
   "source": [
    "\n",
    "#Variable declaration\n",
    "VCC=12.0;                 #Collector supply voltage, V\n",
    "VBE=0.7;                  #Base-emitter voltage, V\n",
    "beta=50;                  #Base current amplification factor\n",
    "R1=150;                   #Resistor R1, kΩ .\n",
    "R2=100;                   #Resistor R2, kΩ .\n",
    "RC=4.7;                   #Collector resistor, kΩ .\n",
    "RE=2.2;                   #Emitter resistor, kΩ  .\n",
    "\n",
    "#Calculations\n",
    "#Using Thevenin's theorem, calculating Thevenin's voltage and resistance\n",
    "E0=(VCC*R2)/(R1+R2);        #Thevenin's voltage, V\n",
    "R0=(R1*R2)/(R1+R2);         #Thevenin's resistance, kΩ .\n",
    "\n",
    "#Applying Kirchhoff' law along thevenin's equivalent circuit,\n",
    "#E0=IB*R0+VBE+IE*RE;\n",
    "#Since IE~IC and IC=beta*IB\n",
    "IB=round((E0-VBE)/(R0+beta*RE),3);              #Base current in mA\n",
    "IC=round(beta*IB,1);                             #Collector current, mA\n",
    "\n",
    "#Applying Kirchhoff's law along the output circuit\n",
    "VCE=VCC-IC*(RC+RE);                     #Collector-emitter voltage, V\n",
    "\n",
    "S=(beta+1)*(1+R0/RE)/(beta +1+R0/RE);               #Stability factor\n",
    "\n",
    "\n",
    "#Results\n",
    "print(\"Operating point : VCE= %.2fV and IC=%.1fmA\"%(VCE,IC));\n",
    "print(\"Stability factor=%.1f\"%S);\n"
   ]
  },
  {
   "cell_type": "markdown",
   "metadata": {},
   "source": [
    "## Example 9.24 : Page number 220"
   ]
  },
  {
   "cell_type": "code",
   "execution_count": 24,
   "metadata": {
    "collapsed": false
   },
   "outputs": [
    {
     "name": "stdout",
     "output_type": "stream",
     "text": [
      "Operating point : VCE= 8.83V and IC=4.2mA\n",
      "Stability factor=2.94\n"
     ]
    }
   ],
   "source": [
    "\n",
    "#Variable declaration\n",
    "VCC=15.0;                 #Collector supply voltage, V\n",
    "VBE=0.7;                  #Base-emitter voltage , V\n",
    "beta=100.0;                 #Base current amplification factor\n",
    "R1=6.0;                     #Resistor R1, kΩ .\n",
    "R2=3.0;                     #Resistor R2, kΩ .\n",
    "RC=470.0;                   #Collector resistor, Ω.\n",
    "RE=1.0;                     #Emitter resistor, kΩ .\n",
    "\n",
    "#Calculations\n",
    "#Using Thevenin's theorem, calculating Thevenin's voltage and resistance\n",
    "E0=(VCC*R2)/(R1+R2);        #Thevenin's voltage, V\n",
    "R0=(R1*R2)/(R1+R2);         #Thevenin's resistance, kΩ .\n",
    "\n",
    "#Applying Kirchhoff' law along thevenin's equivalent circuit,\n",
    "#E0=IB*R0+VBE+IE*RE;\n",
    "#Since IE~IC and IC=beta*IB\n",
    "IB=round((E0-VBE)/(R0+beta*RE),3);              #Base current in mA\n",
    "IC=round(beta*IB,1);                             #Collector current, mA\n",
    "\n",
    "#Applying Kirchhoff's law along the output circuit\n",
    "VCE=VCC-IC*(RC/1000+RE);                     #Collector-emitter voltage, V\n",
    "\n",
    "S=(beta+1)*(1+R0/RE)/(beta +1+R0/RE);               #Stability factor\n",
    "\n",
    "#Results\n",
    "print(\"Operating point : VCE= %.2fV and IC=%.1fmA\"%(VCE,IC));\n",
    "print(\"Stability factor=%.2f\"%S);\n"
   ]
  },
  {
   "cell_type": "markdown",
   "metadata": {},
   "source": [
    "## Example 9.25 : Page number 221-222"
   ]
  },
  {
   "cell_type": "code",
   "execution_count": 25,
   "metadata": {
    "collapsed": false
   },
   "outputs": [
    {
     "name": "stdout",
     "output_type": "stream",
     "text": [
      "RE=800 Ω., R1=17.75 kΩ . and R2=4.75 kΩ .\n"
     ]
    }
   ],
   "source": [
    "\n",
    "#Varaible declaration\n",
    "VCC=9;                    #Collector supply voltage, V\n",
    "VCE=3;                    #Collector-emitter voltage, V\n",
    "VBE=0.3;                    #Base-emitter voltage in V\n",
    "RC=2.2;                     #Collector resistor , kΩ .\n",
    "IC=2;                     #Collector current, mA\n",
    "beta=50.0;                  #Base current amplification factor\n",
    "\n",
    "#Calculations\n",
    "IB=IC/beta;                 #Base current in mA\n",
    "\n",
    "#According to given relation, I1=10*IB\n",
    "I1=IB*10;                   #Current through the resistor R1, mA\n",
    "\n",
    "#I1=VCC/(R1+R2), .'s LAW\n",
    "R1_R2_sum=VCC/I1;               #Sum of the resistor's R1 and R2, kΩ (OHM'S LAW).\n",
    "\n",
    "#Applying Kirchhoff's law along the output circuit\n",
    "#VCC=IC*RC+VCE+IE*RE\n",
    "#IC~IE\n",
    "RE=(VCC-IC*RC-VCE)/IC;      #Emitter resistor, kΩ .\n",
    "RE=round(RE*1000,0);                 #Emittter resistor, Ω .\n",
    "\n",
    "IE=IC;                      #Emittter current(approximately equal to collector current), mA\n",
    "VE=IE*(RE/1000);                   #Voltage at emitter terminal (OHM's LAW), V\n",
    "V2=VBE+VE;                  #Voltage drop across resistor R2, V\n",
    "\n",
    "R2=V2/I1;                   #Resistor R2,(OHM's LAW), kΩ .\n",
    "R1=R1_R2_sum-R2;            #Resistor R1, kΩ .\n",
    "\n",
    "\n",
    "\n",
    "#Results\n",
    "print(\"RE=%d Ω., R1=%.2f kΩ . and R2=%.2f kΩ .\"%(RE,R1,R2));\n"
   ]
  },
  {
   "cell_type": "markdown",
   "metadata": {},
   "source": [
    "## Example 9.26 : Page number 222"
   ]
  },
  {
   "cell_type": "code",
   "execution_count": 26,
   "metadata": {
    "collapsed": false
   },
   "outputs": [
    {
     "name": "stdout",
     "output_type": "stream",
     "text": [
      "R1=54.4 kΩ and RC=3 kΩ.\n"
     ]
    }
   ],
   "source": [
    "#Variable declaration\n",
    "VCC=16.0;                     #Collector supply voltage, V\n",
    "R2=20.0;                      #Resistor R2, kΩ\n",
    "RE=2.0;                       #Emitter resistor, kΩ\n",
    "VCE=6.0;                      #Collector-emitter voltage, V\n",
    "IC=2.0;                       #Collector current , mA\n",
    "VBE=0.3;                      #Base-emitter voltage,V\n",
    "alpha=0.985;                  #Current amplification factor\n",
    "\n",
    "#Calculations\n",
    "beta=alpha/(1-alpha);               #Base current amplificatioon factor\n",
    "IE=IC;                              #Emitter current, mA\n",
    "IB=IC/beta;                         #Base current, mA\n",
    "VE=IE*RE;                           #Emitter voltage,(OHM's LAW) V\n",
    "V2=VBE+VE;                          #Voltage drop across resistor R2,(Kirchhoff's law) V\n",
    "V_R1=VCC-V2;                        #Voltage drop across resistor R1, V\n",
    "I1=V2/R2;                           #Current through resistor R2 an R1,(OHM's LAW) mA\n",
    "R1=V_R1/I1;                         #Resistor R1,(OHM's LAW) kΩ\n",
    "\n",
    "V_RC=(VCC-VCE-VE);                  #Voltage across collector resistor, V\n",
    "RC=V_RC/IC;                         #Collector resistor,(OHM's LAW) kΩ\n",
    "\n",
    "\n",
    "#Results\n",
    "print(\"R1=%.1f kΩ and RC=%d kΩ.\"%(R1,RC));\n"
   ]
  },
  {
   "cell_type": "markdown",
   "metadata": {},
   "source": [
    "## Example 9.27 :Page number 222-223"
   ]
  },
  {
   "cell_type": "code",
   "execution_count": 27,
   "metadata": {
    "collapsed": false
   },
   "outputs": [
    {
     "name": "stdout",
     "output_type": "stream",
     "text": [
      "The exact value of emitter current in the circuit = 2.11mA.\n"
     ]
    }
   ],
   "source": [
    "#Variable declaration\n",
    "VCC=15.0;                     #Collector supply voltage, V\n",
    "R1=10.0;                      #Resistor R1, kΩ \n",
    "R2=5.0;                       #Resistor R2, kΩ \n",
    "RC=1.0;                       #Collector resistor, kΩ \n",
    "RE=2.0;                       #Emitter resistor, kΩ \n",
    "VBE=0.7;                      #Base-emitter voltage, V\n",
    "beta=100;                     #Base current amplification factor\n",
    "\n",
    "#Calculations\n",
    "#Using Thevenin's theorem, calculating Thevenin's voltage and resistance\n",
    "E0=(VCC*R2)/(R1+R2);        #Thevenin's voltage, V\n",
    "R0=(R1*R2)/(R1+R2);         #Thevenin's resistance, kΩ \n",
    "\n",
    "#Applying Kirchhoff' law along Thevenin's equivalent circuit,\n",
    "#E0=IB*R0+VBE+IE*RE;\n",
    "#Since IE~IC and IB=IE/beta,\n",
    "IE=(E0-VBE)/(R0/beta + RE);                 #Emitter current , mA\n",
    "\n",
    "\n",
    "#Calculations\n",
    "print(\"The exact value of emitter current in the circuit = %.2fmA.\"%IE);\n"
   ]
  },
  {
   "cell_type": "markdown",
   "metadata": {},
   "source": [
    "## Example 2.28: Page number 223-224"
   ]
  },
  {
   "cell_type": "code",
   "execution_count": 28,
   "metadata": {
    "collapsed": false
   },
   "outputs": [
    {
     "name": "stdout",
     "output_type": "stream",
     "text": [
      "The value of the resistor R1=28.89 kΩ.\n"
     ]
    }
   ],
   "source": [
    "\n",
    "#Variable declaration\n",
    "IE=2.0;                     #Emitter current, mA\n",
    "IB=50.0;                    #Base current, mA\n",
    "VCC=10.0;                   #Collector supply voltage, V\n",
    "VBE=0.2;                    #Base-emitter voltage, V\n",
    "R2=10.0;                    #Resistor R2, kΩ\n",
    "RE=1.0;                     #Emitter resistance, kΩ\n",
    "\n",
    "#Calculations\n",
    "#Applying Kirchhoff's law from the base to the emitter resistor,\n",
    "V2=VBE+IE*RE;                   #Voltage at base terminal, V\n",
    "I2=V2/R2;                       #Current through the resistor R2, mA\n",
    "I1=I2+IB/1000;                  #Current through the resistor R2, mA\n",
    "V1=VCC-V2;                      #Voltage drop across the resistor R2\n",
    "R1=V1/I1;                       #Resistor R1, kΩ\n",
    "\n",
    "\n",
    "#Results\n",
    "print(\"The value of the resistor R1=%.2f kΩ.\"%R1);\n"
   ]
  },
  {
   "cell_type": "markdown",
   "metadata": {},
   "source": [
    "## Example 9.30 :Page number 225-226"
   ]
  },
  {
   "cell_type": "code",
   "execution_count": 29,
   "metadata": {
    "collapsed": false
   },
   "outputs": [
    {
     "name": "stdout",
     "output_type": "stream",
     "text": [
      "VCE=3.94V, is approximately half of VCC=8V \n",
      " therefore it is mid-point biased.\n"
     ]
    }
   ],
   "source": [
    "#Variable declaration\n",
    "VCC=8.0;                  #Collector supply voltage, V\n",
    "RB=360.0;                 #Base resistor, kΩ\n",
    "RC=2.0;                   #Collector resistor, kΩ\n",
    "VBE=0.7;                  #Base-emitter voltage, V\n",
    "beta=100.0;               #base current amplification factor\n",
    "\n",
    "\n",
    "#Calculations\n",
    "IC_max=VCC/RC;              #Maximum collector current, mA\n",
    "VCE_max=VCC;                #Maximum collector voltage, V\n",
    "\n",
    "#Operating point\n",
    "#Applying Kirchhoff's law along the input circuit\n",
    "IB=(VCC-VBE)/RB;                    #Base current, mA\n",
    "IC=beta*IB;                         #Collector current, mA\n",
    "\n",
    "#Kirchhoff' law along the output circuit\n",
    "VCE=VCC-IC*RC;                      #Collector-emitter voltage, V\n",
    "\n",
    "#Results\n",
    "print(\"VCE=%.2fV, is approximately half of VCC=%dV \\n therefore it is mid-point biased.\"%(VCE,VCC));\n"
   ]
  },
  {
   "cell_type": "markdown",
   "metadata": {},
   "source": [
    "## Example 9.31: page number 226"
   ]
  },
  {
   "cell_type": "code",
   "execution_count": 30,
   "metadata": {
    "collapsed": false
   },
   "outputs": [
    {
     "name": "stdout",
     "output_type": "stream",
     "text": [
      "IC~IE=6.33mA.\n",
      "VCE=4.94V, is approximately half of VCC=10V \n",
      " therefore it is mid-point biased.\n"
     ]
    }
   ],
   "source": [
    "#Variable declaration\n",
    "VCC=10.0;                     #Collector supply voltage, V\n",
    "VBE=0.7;                     #Base-emitter voltage, V\n",
    "beta=50.0;                     #Base current amplification factor\n",
    "R1=12.0;                     #Resistor R1, kΩ \n",
    "R2=2.7;                      #Resistor R2, kΩ \n",
    "RC=620.0;                    #Collector resistor, Ω \n",
    "RE=180.0;                    #Emitter resistor, Ω\n",
    "\n",
    "\n",
    "#Calculations\n",
    "#Voltage divder rule across R1 and R2\n",
    "V2=round((VCC*R2)/(R1+R2),2);            #Voltage drop across resistor R2, V\n",
    "IE=round(((V2-VBE)/RE)*1000,2);                 #Emitter current, mA\n",
    "IC=IE;                          #Collector current(Approximately equal to emitter current), mA\n",
    "print(\"IC~IE=%.2fmA.\"%IC);\n",
    "\n",
    "#Applying Kirchhoff's law along the output circuit\n",
    "VCE=VCC-(IC/1000)*(RC+RE);                 #Collector-emitter voltage, V\n",
    "\n",
    "#Results\n",
    "print(\"VCE=%.2fV, is approximately half of VCC=%dV \\n therefore it is mid-point biased.\"%(VCE,VCC));\n"
   ]
  },
  {
   "cell_type": "markdown",
   "metadata": {},
   "source": [
    "## Example 9.32 : Page number 227"
   ]
  },
  {
   "cell_type": "code",
   "execution_count": 31,
   "metadata": {
    "collapsed": false
   },
   "outputs": [
    {
     "name": "stdout",
     "output_type": "stream",
     "text": [
      "Base current= 49.75 𝜇A\n"
     ]
    }
   ],
   "source": [
    "from math import sqrt\n",
    "\n",
    "#Variable declaration\n",
    "VCC=10.0;                    #Collector supply voltage, V\n",
    "IC=10.0;                     #Collector  current, mA   \n",
    "VBE=0.7;                     #Base-emitter voltage, V\n",
    "R1=1.5;                      #Resistor R1, kΩ \n",
    "R2=680.0;                    #Resistor R2, Ω  \n",
    "RC=260.0;                    #Collector resistor, Ω \n",
    "RE=240.0;                    #Emitter resistor, Ω \n",
    "beta_min=100;                #Minimum value of base current amplification factor\n",
    "beta_max=400;                #Maximum value of base current amplification factor\n",
    "\n",
    "#Calculations\n",
    "#Voltage divder rule across R1 and R2\n",
    "V2=round((VCC*R2/1000)/(R1+R2/1000),2);               #Voltage drop across resistor R2, V\n",
    "IE=round((V2-VBE)/(RE/1000),0);                         #OHM' LAW, Emitter current, mA\n",
    "IC=IE;                                  #Collector current(approx. equal to emitter current),mA\n",
    "beta_avg=sqrt(beta_min*beta_max);       #Average value of base current amplification factor\n",
    "IB=IE/(beta_avg +1);                    #Base current, mA\n",
    "IB=IB*1000;                             #Base current, 𝜇A\n",
    "\n",
    "#Results\n",
    "print(\"Base current= %.2f 𝜇A\"%IB);\n"
   ]
  },
  {
   "cell_type": "markdown",
   "metadata": {},
   "source": [
    "## Example 9.33 : Page number 227-228"
   ]
  },
  {
   "cell_type": "code",
   "execution_count": 32,
   "metadata": {
    "collapsed": false
   },
   "outputs": [
    {
     "name": "stdout",
     "output_type": "stream",
     "text": [
      "Operating point : VCE= 2.96V and IC=4.5mA.\n"
     ]
    }
   ],
   "source": [
    "#Variable declaration\n",
    "VEE=12.0;                    #Emitter supply voltage, V\n",
    "RC=1.5;                     #Collector resistor, kΩ\n",
    "RB=120.0;                   #Base resistor kΩ\n",
    "RE=510.0;                   #Emitter resistor, Ω                 \n",
    "VBE=0.7;                    #Base-emitter voltage, V\n",
    "beta=60.0;                  #Base current amplification factor\n",
    "\n",
    "#Calculations\n",
    "#Applying Kirchhoff's voltage law,\n",
    "#IB*RB - VBE - IE*RE +VEE=0\n",
    "#Since IE~IC and IC=beta*IB,\n",
    "IB=(VEE-VBE)/(RB + beta*RE/1000);           #Base current , mA\n",
    "IC=round(beta*IB,1);                                 #Collector current, mA\n",
    "\n",
    "#Applying Kirchhoff's voltage law along output circuit,\n",
    "VCE=VEE-IC*(RC + RE/1000);                        #Collector-emitter voltage, V\n",
    "\n",
    "\n",
    "#Results\n",
    "print(\"Operating point : VCE= %.2fV and IC=%.1fmA.\"%(VCE,IC));\n"
   ]
  },
  {
   "cell_type": "markdown",
   "metadata": {},
   "source": [
    "## Example 9.34 : Page number 228-229"
   ]
  },
  {
   "cell_type": "code",
   "execution_count": 33,
   "metadata": {
    "collapsed": false
   },
   "outputs": [
    {
     "name": "stdout",
     "output_type": "stream",
     "text": [
      "Operating point : VCE= 4.52V and IC=3.73mA.\n"
     ]
    }
   ],
   "source": [
    "from math import floor\n",
    "\n",
    "#Variable declaration\n",
    "VEE=9.0;                    #Emitter supply voltage, V\n",
    "RC=1.2;                     #Collector resistor, kΩ\n",
    "RB=100.0;                   #Base resistor ,kΩ\n",
    "VBE=0.7;                    #Base-emitter voltage, V\n",
    "beta=45.0;                  #Base current amplification factor\n",
    "\n",
    "#Calculations\n",
    "#Applying Kirchhoff's voltage law,\n",
    "#IB*RB + VBE=VEE\n",
    "#Since IE~IC and IC=beta*IB,\n",
    "IB=round((VEE-VBE)/RB,3);           #Base current , mA\n",
    "IC=floor(beta*IB*100)/100;                                 #Collector current, mA\n",
    "\n",
    "#Applying Kirchhoff's voltage law along output circuit,\n",
    "VCE=VEE-IC*RC;                        #Collector-emitter voltage, V\n",
    "\n",
    "#Results\n",
    "print(\"Operating point : VCE= %.2fV and IC=%.2fmA.\"%(VCE,IC));\n"
   ]
  },
  {
   "cell_type": "markdown",
   "metadata": {},
   "source": [
    "## Example 9.35 : Page number 229"
   ]
  },
  {
   "cell_type": "code",
   "execution_count": 34,
   "metadata": {
    "collapsed": false
   },
   "outputs": [
    {
     "name": "stdout",
     "output_type": "stream",
     "text": [
      "RE=1.6 kΩ , RC=8.4 kΩ, R1=143 kΩ and R2=24 kΩ.\n"
     ]
    }
   ],
   "source": [
    "#Variable declaration\n",
    "VCC=16.0;                   #Collector supply voltage, V\n",
    "VBE=0.7;                    #Base-emitter voltage, V\n",
    "IC=1.0;                     #Collector current, mA\n",
    "VCE=6.0;                    #Collector-emitter voltage, V\n",
    "beta=150.0;                 #Base current amplification factor\n",
    "\n",
    "#Calculations\n",
    "#For a good design, VE=VCC/10;\n",
    "VE=VCC/10;                  #Emitter terminal's voltage, V\n",
    "#OHM's Law\n",
    "#And, taking IE~IC\n",
    "RE=VE/IC;                   #Emitter resistor, kΩ\n",
    "\n",
    "#Applying Kirchhoff's voltage law alog output circuit:\n",
    "#VCC=IC*RC + VCE + VE\n",
    "RC=(VCC-VCE-VE)/IC;                       #Collector resistor, kΩ\n",
    "V2=VE+VBE;                                #Voltage drop across resistor R2,V\n",
    "#From the relation I1=10*IB\n",
    "R2=(beta*RE)/10;                          #Resistor R2, kilo ohm\n",
    "\n",
    "#From voltage divider rule across R1 and R2,\n",
    "#V2=(VCC*R2)/(R1+R2)\n",
    "R1=(VCC-V2)*R2/V2;                          #Resistor R1, kΩ            \n",
    "\n",
    "#Results\n",
    "print(\"RE=%.1f kΩ , RC=%.1f kΩ, R1=%.0f kΩ and R2=%d kΩ.\"%(RE,RC,R1,R2));\n"
   ]
  },
  {
   "cell_type": "markdown",
   "metadata": {},
   "source": [
    "## Example 9.36 : Page number 230-231"
   ]
  },
  {
   "cell_type": "code",
   "execution_count": 35,
   "metadata": {
    "collapsed": false
   },
   "outputs": [
    {
     "name": "stdout",
     "output_type": "stream",
     "text": [
      "(i) The percentage change in the zero signal collector current=82%. \n",
      "(ii) The percentage change in the zero signal collector current=1.6%. \n"
     ]
    }
   ],
   "source": [
    "#Variable declaration\n",
    "ICBO=5.0;                          #Collector to base leakage current, microampere\n",
    "beta=40.0;                         #Base current amplification factor\n",
    "IC_zero_signal=2.0;                #Zero signal collector current, mA\n",
    "op_temp=25.0;                      #operating temperature, degree celsius\n",
    "temp_risen=55.0;                   #Temperature risen, degree celsius\n",
    "temp_ICBO_doubles=10.0;            #Temperature after which ICBO doubles, degree celsius\n",
    "\n",
    "#Calculations\n",
    "\n",
    "#(i)\n",
    "ICEO=(beta+1)*ICBO;                 #Collector to emitter leakage current, microampere\n",
    "\n",
    "#(ii)\n",
    "Number_of_times_ICBO_doubled=(temp_risen - op_temp)/temp_ICBO_doubles;  #Number of times ICBO doubles\n",
    "ICBO_final=ICBO*2**Number_of_times_ICBO_doubled;                        #Final value of collector to base leakage current, microampere\n",
    "ICEO_final=ICBO_final*(beta + 1);                                       #Final value of collector to emitter leakage current, microampere\n",
    "\n",
    "IC_zero_signal_55=(ICEO_final/1000) +IC_zero_signal;                    #Zero signal collector current at 55 degree celius\n",
    "change=(IC_zero_signal_55-IC_zero_signal)*100/IC_zero_signal;           #Percentage change in zero signal collector current\n",
    "\n",
    "#Result\n",
    "print(\"(i) The percentage change in the zero signal collector current=%.0f%%. \"%change)\n",
    "\n",
    "#(iii)\n",
    "#For the silicon transistor\n",
    "ICBO=0.1;                          #Collector to base leakage current, microampere\n",
    "\n",
    "ICEO=(beta+1)*ICBO;                 #Collector to emitter leakage current, microampere\n",
    "\n",
    "Number_of_times_ICBO_doubled=(temp_risen - op_temp)/temp_ICBO_doubles;  #Number of times ICBO doubles\n",
    "ICBO_final=ICBO*2**Number_of_times_ICBO_doubled;                        #Final value of collector to base leakage current, microampere\n",
    "ICEO_final=ICBO_final*(beta + 1);                                       #Final value of collector to emitter leakage current, microampere\n",
    "\n",
    "IC_zero_signal_55=(ICEO_final/1000) +IC_zero_signal;                    #Zero signal collector current at 55 degree celius\n",
    "change=(IC_zero_signal_55-IC_zero_signal)*100/IC_zero_signal;           #Percentage change in zero signal collector current\n",
    "\n",
    "\n",
    "#Result\n",
    "print(\"(ii) The percentage change in the zero signal collector current=%.1f%%. \"%change)\n"
   ]
  },
  {
   "cell_type": "markdown",
   "metadata": {},
   "source": [
    "## Example 9.37 : Page number 231"
   ]
  },
  {
   "cell_type": "code",
   "execution_count": 36,
   "metadata": {
    "collapsed": false
   },
   "outputs": [
    {
     "name": "stdout",
     "output_type": "stream",
     "text": [
      "Base current at 57 degree celsius=9.4 𝜇A \n"
     ]
    }
   ],
   "source": [
    "#Variable declaration\n",
    "ICBO=0.02                          #Collector to base leakage current, 𝜇A\n",
    "alpha=0.99;                        #Current amplification factor\n",
    "IE=1.0;                            #Emitter current, mA\n",
    "op_temp=27.0;                      #operating temperature, degree celsius\n",
    "temp_risen=57.0;                   #Temperature risen, degree celsius\n",
    "temp_ICBO_doubles=6.0;             #Temperature after which ICBO doubles, degree celsius\n",
    "\n",
    "#Calculations\n",
    "Number_of_times_ICBO_doubled=(temp_risen - op_temp)/temp_ICBO_doubles;       #Number of times ICBO doubles\n",
    "ICBO_55=ICBO*2**Number_of_times_ICBO_doubled;                                #collector to base leakage current at 55 degree celsius, 𝜇A\n",
    "IC=alpha*IE + ICBO_55/1000;                                                     #Collector current, mA\n",
    "IB=IE-IC;                                                                    #Base current, mA\n",
    "IB=IB*1000;                                                                  #Base current,𝜇A\n",
    "\n",
    "#Results\n",
    "print(\"Base current at 57 degree celsius=%.1f 𝜇A \"%IB);\n"
   ]
  }
 ],
 "metadata": {
  "kernelspec": {
   "display_name": "Python 3",
   "language": "python",
   "name": "python3"
  },
  "language_info": {
   "codemirror_mode": {
    "name": "ipython",
    "version": 3
   },
   "file_extension": ".py",
   "mimetype": "text/x-python",
   "name": "python",
   "nbconvert_exporter": "python",
   "pygments_lexer": "ipython3",
   "version": "3.5.1"
  }
 },
 "nbformat": 4,
 "nbformat_minor": 0
}
