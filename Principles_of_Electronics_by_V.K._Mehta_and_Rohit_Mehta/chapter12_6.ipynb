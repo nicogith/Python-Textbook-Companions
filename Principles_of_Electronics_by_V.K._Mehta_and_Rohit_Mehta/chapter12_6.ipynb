{
 "metadata": {
  "name": "",
  "signature": "sha256:1e9209171152811793fc18d1ee8c80ddcef574d69421ec87eeaa8fb87a304f6d"
 },
 "nbformat": 3,
 "nbformat_minor": 0,
 "worksheets": [
  {
   "cells": [
    {
     "cell_type": "heading",
     "level": 1,
     "metadata": {},
     "source": [
      "CHAPTER 12: TRANSISTOR AUDIO POWER AMPLIFIERS"
     ]
    },
    {
     "cell_type": "heading",
     "level": 2,
     "metadata": {},
     "source": [
      "Example 12.1 : Page number 308\n"
     ]
    },
    {
     "cell_type": "code",
     "collapsed": false,
     "input": [
      "#Variable declaration\n",
      "VCC=10.0;                               #Collector supply voltage, V\n",
      "R1=10.0;                                #Resistor R1, kilo ohm\n",
      "R2=2.2;                                 #Resistor R2, kilo ohm\n",
      "RC=3.6;                                 #Collector resistor, kilo ohm\n",
      "RE=1.1;                                 #Emitter resistor, kilo ohm\n",
      "VBE=0.7;                                #Base-emitter voltage, V\n",
      "\n",
      "#Calculation\n",
      "I1=VCC/(R1+R2);                     #Current through R1 and R2, mA (OHM's LAW)\n",
      "V2=I1*R2;                           #Voltage across R2 resistor, V (OHM's LAW)\n",
      "VE=V2-VBE;                          #Emitter voltage, V\n",
      "IE=VE/RE;                           #Emitter current, mA (OHM's LAW)\n",
      "IC=IE;                              #Collector current, mA (approximately equal to emitter current)\n",
      "I_T=I1+IC;                          #Total current drawn from the supply, mA\n",
      "P_dc=VCC*I_T;                       #Total power drawn from the supply, mW\n",
      "\n",
      "\n",
      "#Results\n",
      "print(\"The total power drawn from the supply=%.1fmW.\"%P_dc);\n"
     ],
     "language": "python",
     "metadata": {},
     "outputs": [
      {
       "output_type": "stream",
       "stream": "stdout",
       "text": [
        "The total power drawn from the supply=18.2mW.\n"
       ]
      }
     ],
     "prompt_number": 1
    },
    {
     "cell_type": "heading",
     "level": 2,
     "metadata": {},
     "source": [
      "Example 12.2 : Page number 309\n"
     ]
    },
    {
     "cell_type": "code",
     "collapsed": false,
     "input": [
      "#Variable declaration\n",
      "V_L=10.6;                       #Voltage across load, V.(from a.c voltmeter, therfore r.m.s value)\n",
      "R_L=200.0;                      #Load resistance, ohm\n",
      "\n",
      "#Calculation\n",
      "#Since, power =V**2/R,\n",
      "P_O=(V_L**2/R_L)*1000;                     #A.C output power, mW\n",
      "\n",
      "#Result\n",
      "print(\"The a.c output power = %.1fmW.\"%P_O);\n"
     ],
     "language": "python",
     "metadata": {},
     "outputs": [
      {
       "output_type": "stream",
       "stream": "stdout",
       "text": [
        "The a.c output power = 561.8mW.\n"
       ]
      }
     ],
     "prompt_number": 2
    },
    {
     "cell_type": "heading",
     "level": 2,
     "metadata": {},
     "source": [
      "Example 12.3 : Page number 309\n"
     ]
    },
    {
     "cell_type": "code",
     "collapsed": false,
     "input": [
      "#Variable declaration\n",
      "RL=100.0;                   #Load resistance, ohm\n",
      "V_PP=18.0;                  #Peak-to-peak a.c voltage, V\n",
      "\n",
      "#Calculation\n",
      "#Since, V(r.m.s)=(V(peak-to-peak)/2)/sqrt(2)\n",
      "VL=V_PP/(2*(2**0.5));                      #r.m.s value, V\n",
      "\n",
      "#Since, power=(square of voltage)/resistance\n",
      "P_O_max=(VL**2/RL)*1000;                   #Maximum possible a.c load power, mW\n",
      "\n",
      "#Result\n",
      "print(\"The maximum possible a.c load power=%dmW.\"%P_O_max);\n"
     ],
     "language": "python",
     "metadata": {},
     "outputs": [
      {
       "output_type": "stream",
       "stream": "stdout",
       "text": [
        "The maximum possible a.c load power=405mW.\n"
       ]
      }
     ],
     "prompt_number": 3
    },
    {
     "cell_type": "heading",
     "level": 2,
     "metadata": {},
     "source": [
      "Example 12.4 : Page number 310\n"
     ]
    },
    {
     "cell_type": "code",
     "collapsed": false,
     "input": [
      "#Variable declaration\n",
      "V_battery=12.0;                 #Battery voltage, V\n",
      "P_out=2.0;                      #Output power, W\n",
      "\n",
      "#Calculation\n",
      "#Since, Power=Current*Voltage\n",
      "IC=(P_out/V_battery)*1000;                 #Maximum collector current , mA\n",
      "\n",
      "#Result\n",
      "print(\"The maximum collector current=%.1fmA.\"%IC);\n"
     ],
     "language": "python",
     "metadata": {},
     "outputs": [
      {
       "output_type": "stream",
       "stream": "stdout",
       "text": [
        "The maximum collector current=166.7mA.\n"
       ]
      }
     ],
     "prompt_number": 4
    },
    {
     "cell_type": "heading",
     "level": 2,
     "metadata": {},
     "source": [
      "Example 12.5 : Page number 310\n"
     ]
    },
    {
     "cell_type": "code",
     "collapsed": false,
     "input": [
      "#Variable declaration\n",
      "V_battery=12.0;                     #Battery voltage, V\n",
      "RL=4.0;                             #Collector load, kilo ohm\n",
      "\n",
      "#Calculation\n",
      "IC_max=V_battery/RL;                #Maximum collector current, mA\n",
      "\n",
      "\n",
      "#Result\n",
      "print(\"The maximum collector current=%dmA.\"%IC_max);\n"
     ],
     "language": "python",
     "metadata": {},
     "outputs": [
      {
       "output_type": "stream",
       "stream": "stdout",
       "text": [
        "The maximum collector current=3mA.\n"
       ]
      }
     ],
     "prompt_number": 5
    },
    {
     "cell_type": "heading",
     "level": 2,
     "metadata": {},
     "source": [
      "Example 12.6 : Page number 310-311\n"
     ]
    },
    {
     "cell_type": "code",
     "collapsed": false,
     "input": [
      "#Variable declaration\n",
      "P=50.0;                     #Power supplied by power amplifier, W\n",
      "R=8.0;                      #Resistance of speaker, ohm\n",
      "\n",
      "#Calculation\n",
      "#(i)\n",
      "#Since, Power=Voltage _square/Resistance,\n",
      "V=(P*R)**0.5;               #a.c output voltage, V\n",
      "\n",
      "#(ii)\n",
      "I=V/R;                          #a.c output current, A (OHM's LAW)\n",
      "\n",
      "\n",
      "#Result\n",
      "print(\"(i) The a.c output voltage=%dV.\"%V);\n",
      "print(\"(ii) The a.c output current=%.1fA.\"%I);\n"
     ],
     "language": "python",
     "metadata": {},
     "outputs": [
      {
       "output_type": "stream",
       "stream": "stdout",
       "text": [
        "(i) The a.c output voltage=20V.\n",
        "(ii) The a.c output current=2.5A.\n"
       ]
      }
     ],
     "prompt_number": 6
    },
    {
     "cell_type": "heading",
     "level": 2,
     "metadata": {},
     "source": [
      "Example 12.7 : Page number 315\n"
     ]
    },
    {
     "cell_type": "code",
     "collapsed": false,
     "input": [
      "#Variable declaration\n",
      "VCC=20.0;                   #Collector supply voltage, V\n",
      "ib_peak=10.0;               #Base current(peak), mA\n",
      "RB=1.0;                     #Base resistance, kilo ohm\n",
      "RC=20.0;                    #Collector resistance, ohm\n",
      "beta=25.0;                  #Base current amplification factor\n",
      "VBE=0.7;                    #Base-emitter voltage, V\n",
      "\n",
      "#Calculation\n",
      "IB=round(VCC-VBE/RB,1);                         #Base current, mA (OHM's LAW)\n",
      "IC=int(beta*IB);                            #Collector current, mA\n",
      "VCE=VCC-(IC/1000)*RC;                  #Collector emitter voltage, V (KVL)\n",
      "\n",
      "#(i)\n",
      "ic_peak=beta*ib_peak;                          #Collector current(peak), mA\n",
      "P_o_ac=(ic_peak/1000)**2*RC/2;                 #Output power, W\n",
      "\n",
      "#(ii)\n",
      "P_dc=VCC*IC/1000;                                    #Input power, W\n",
      "\n",
      "#(iii)\n",
      "collector_efficiency=(P_o_ac/P_dc)*100;                   #Collector efficiency of the amplifier circuit,\n",
      "\n",
      "#Result\n",
      "print(\"(i) The output power=%.3fW.\"%P_o_ac);\n",
      "print(\"(ii) The input power=%.1fW.\"%P_dc);\n",
      "print(\"(iii) The collector efficiency=%.1f%%.\"%collector_efficiency);\n"
     ],
     "language": "python",
     "metadata": {},
     "outputs": [
      {
       "output_type": "stream",
       "stream": "stdout",
       "text": [
        "(i) The output power=0.625W.\n",
        "(ii) The input power=9.6W.\n",
        "(iii) The collector efficiency=6.5%.\n"
       ]
      }
     ],
     "prompt_number": 13
    },
    {
     "cell_type": "heading",
     "level": 2,
     "metadata": {},
     "source": [
      "Example 12.8 : Page number 317\n"
     ]
    },
    {
     "cell_type": "code",
     "collapsed": false,
     "input": [
      "#Variable declaration\n",
      "P_dc=10.0;                  #zero signal power dissipation, W\n",
      "P_o=4.0;                    #a.c output power, W\n",
      "\n",
      "#Calculation\n",
      "#(i)\n",
      "Collector_eff=(P_o/P_dc)*100;                 #collector efficiency\n",
      "\n",
      "#(ii)\n",
      "#Zero signal power is the maximum power dissipation in a transistor, therefore,\n",
      "Power_rating=P_dc;                  #Power rating of the transistor, W\n",
      "\n",
      "#Result\n",
      "print(\"(i) The collector efficiency=%d%%.\"%Collector_eff);\n",
      "print(\"(i) The power rating of the transistor=%dW.\"%Power_rating);\n"
     ],
     "language": "python",
     "metadata": {},
     "outputs": [
      {
       "output_type": "stream",
       "stream": "stdout",
       "text": [
        "(i) The collector efficiency=40%.\n",
        "(i) The power rating of the transistor=10W.\n"
       ]
      }
     ],
     "prompt_number": 14
    },
    {
     "cell_type": "heading",
     "level": 2,
     "metadata": {},
     "source": [
      "Example 12.9 : Page number 317-318\n"
     ]
    },
    {
     "cell_type": "code",
     "collapsed": false,
     "input": [
      "#Variable declaration\n",
      "RL=100.0;                   #Secondary load, ohm\n",
      "n=10.0;                     #Transformer turn ratio\n",
      "IC=100.0;                   #Zero signal collector current, mA\n",
      "\n",
      "#Calculation\n",
      "RL_reflected=n**2*RL;                        #Reflected load as seen by the primary of the transformer, ohm\n",
      "P_o_ac_max=(IC/1000)**2*RL_reflected/2;             #Maximum a.c power output, W      \n",
      "\n",
      "\n",
      "\n",
      "#Result\n",
      "print(\"The maximum a.c power output=%dW.\"%P_o_ac_max);\n"
     ],
     "language": "python",
     "metadata": {},
     "outputs": [
      {
       "output_type": "stream",
       "stream": "stdout",
       "text": [
        "The maximum a.c power output=50W.\n"
       ]
      }
     ],
     "prompt_number": 15
    },
    {
     "cell_type": "heading",
     "level": 2,
     "metadata": {},
     "source": [
      "Example 12.10 : Page number 318\n"
     ]
    },
    {
     "cell_type": "code",
     "collapsed": false,
     "input": [
      "#Variable declaration\n",
      "VCC=5.0;                    #Collector supply voltage, V\n",
      "IC=50.0;                    #Zero signal collector current, mA\n",
      "\n",
      "#Calculation\n",
      "#(i)\n",
      "P_o_max=VCC*IC/2;           #Maximum a.c output power, mW\n",
      "\n",
      "#(ii)\n",
      "P_dc=VCC*IC;                #D.C input power, mW\n",
      "#Since, maximum power is dissipated in the zero signal conditions\n",
      "Power_rating=P_dc;              #Power rating of transistor, mW\n",
      "\n",
      "#(iii)\n",
      "Max_collector_eff=(P_o_max/P_dc)*100;             #Maximum collector efficiency\n",
      "\n",
      "\n",
      "#Result\n",
      "print(\"(i) The maximum a.c output power=%dmW\"%P_o_max);\n",
      "print(\"(ii) The power rating of the transistor=%dmW.\"%Power_rating);\n",
      "print(\"(iii) The maximum collector efficiency =%d%%.\"%Max_collector_eff);\n"
     ],
     "language": "python",
     "metadata": {},
     "outputs": [
      {
       "output_type": "stream",
       "stream": "stdout",
       "text": [
        "(i) The maximum a.c output power=125mW\n",
        "(ii) The power rating of the transistor=250mW.\n",
        "(iii) The maximum collector efficiency =50%.\n"
       ]
      }
     ],
     "prompt_number": 16
    },
    {
     "cell_type": "heading",
     "level": 2,
     "metadata": {},
     "source": [
      "Example 12.11 : Page number 318\n"
     ]
    },
    {
     "cell_type": "code",
     "collapsed": false,
     "input": [
      "from math import sqrt\n",
      "\n",
      "#Variable declaration\n",
      "ic_max=160.0;               #Maximum a.c collector current, mA\n",
      "ic_min=10.0;                #Minimum a.c collector current, mA\n",
      "vce_max=12.0;               #Maximum collector-emitter voltage, V\n",
      "vce_min=2.0;                #Minimum collector-emitter voltage, V\n",
      "\n",
      "#Calculation\n",
      "vce_pp=vce_max-vce_min;                                #peak to peak collector emitter voltage, V\n",
      "ic_pp=ic_max-ic_min;                                   #peak to peak collector current, V\n",
      "P_o=(vce_pp/(2*sqrt(2)))*(ic_pp/(2*sqrt(2)));          #a.c output power, mW\n",
      "\n",
      "\n",
      "#Result\n",
      "print(\"The a.c output power=%.1fmW.\"%P_o);\n"
     ],
     "language": "python",
     "metadata": {},
     "outputs": [
      {
       "output_type": "stream",
       "stream": "stdout",
       "text": [
        "The a.c output power=187.5mW.\n"
       ]
      }
     ],
     "prompt_number": 17
    },
    {
     "cell_type": "heading",
     "level": 2,
     "metadata": {},
     "source": [
      "Example 12.12 : Page number 319-320\n"
     ]
    },
    {
     "cell_type": "code",
     "collapsed": false,
     "input": [
      "from math import sqrt \n",
      "\n",
      "#Variable declaration\n",
      "VCC=12.0;                           #Battey voltage, V\n",
      "IC_max_change=100.0;                #maximum collector current change, mA\n",
      "RL=5.0;                             #Loudspeaker resistance, ohm\n",
      "\n",
      "#Calculation\n",
      "VCE_max_change=VCC;                                         #Maximum collector-emitter voltage change\n",
      "#(i) Loud speaker directly connected in the collector\n",
      "Vmax_speaker=(IC_max_change/1000)*RL;                              #Maximum voltage across the loudspeaker, V\n",
      "P_speaker_directly_coupled=Vmax_speaker*IC_max_change;                       #Power developed in the loudspeaker,mW\n",
      "\n",
      "#(ii) Loudspeaker transformer coupled\n",
      "Z_out=(VCE_max_change/IC_max_change)*1000;                     #Output impedance of transistor, ohm\n",
      "\n",
      "#For max power transfer, primary impedance should be Z_out\n",
      "RL_reflected=Z_out;                                         #Load resistance as seen by primary, ohm\n",
      "n=sqrt(RL_reflected/RL);                                    #Turns ratio of transformer\n",
      "Vp=VCC;                                                     #Transformer primary voltage, V\n",
      "Vs=Vp/n;                                                    #Transformer secondary voltage, V\n",
      "IL=Vs/RL;                                                   #Load current, A\n",
      "P_speaker_transformer_coupled=IL**2*RL*1000;                #Power delivered to the speaker, mW\n",
      "\n",
      "\n",
      "#Result\n",
      "print(\"(i)  The power transferred to the speaker when directly coupled=%dmW.\"%P_speaker_directly_coupled);\n",
      "print(\"(ii) The power trasnferred to the speaker when transformer-coupled=%dmW.\"%P_speaker_transformer_coupled);\n",
      "print(\"     The turns ratio=%.1f.\"%n);\n"
     ],
     "language": "python",
     "metadata": {},
     "outputs": [
      {
       "output_type": "stream",
       "stream": "stdout",
       "text": [
        "(i)  The power transferred to the speaker when directly coupled=50mW.\n",
        "(ii) The power trasnferred to the speaker when transformer-coupled=1200mW.\n",
        "     The turns ratio=4.9.\n"
       ]
      }
     ],
     "prompt_number": 23
    },
    {
     "cell_type": "heading",
     "level": 2,
     "metadata": {},
     "source": [
      "Example 12.13 : Page number 320-321\n"
     ]
    },
    {
     "cell_type": "code",
     "collapsed": false,
     "input": [
      "from math import sqrt\n",
      "\n",
      "#Variable declaration\n",
      "beta=100.0;                                 #Base current amplification factor\n",
      "RL=81.6;                                    #Load resistance, ohm\n",
      "VCE_peak=30.0;                               #Peak value of collector voltage, V\n",
      "IC_peak=35.0;                               #Peak value of collector current, mA\n",
      "VCE_min=5.0;                                 #Minimum value of collector voltage, V\n",
      "IC_min=1.0;                                 #Minimum value of collector current, mA\n",
      "\n",
      "\n",
      "#Calculation\n",
      "#(i)\n",
      "IC_zero_signal=(IC_peak-IC_min)/2 +1;                  #Zero signal collector current, mA\n",
      "\n",
      "#(ii)\n",
      "IB_zero_signal=IC_zero_signal/beta;                 #Zero signal base current, mA\n",
      "\n",
      "#(iii)\n",
      "VCE_zero_signal=(VCE_peak-VCE_min)/2 +5;                    #Zero signal collector-emitter voltage, V\n",
      "VCC=VCE_zero_signal;                                    #Collector supply voltage,V (due to transformer coupling, aproximately equal to zero signal VCE)\n",
      "P_dc=VCC*IC_zero_signal;                                #d.c input power, mW\n",
      "VCE_ac=(VCE_peak-VCE_min)/(2*sqrt(2));                         #a.c output voltage, V\n",
      "IC_ac=(IC_peak-IC_min)/(2*sqrt(2));                           #a.c output  current, mA\n",
      "P_ac=VCE_ac*IC_ac;                                      #a.c output power, mW\n",
      "\n",
      "#(iv)\n",
      "collector_eff=(P_ac/P_dc)*100;                          #Collector efficiency\n",
      "\n",
      "#(v)\n",
      "#a.c resistance RL'=negative inverse of slope of the d.c load line\n",
      "slope=(IC_peak-IC_min)/(VCE_min-VCE_peak);                                  #Slope of he d.c load line, kilo mho\n",
      "RL_ac=-(1/slope)*1000;                                                     #a.c resistance, ohm\n",
      "n=sqrt(RL_ac/RL);                                                           #Transformer turn ratio\n",
      "\n",
      "\n",
      "#Result\n",
      "print(\"(i)   The approximate value of zero signal collector current=%dmA.\"%IC_zero_signal);\n",
      "print(\"(ii)  The zero signal base current=%.2fmA.\"%IB_zero_signal);\n",
      "print(\"(iii) The d.c input power= %dmW and a.c output power =%dmW.\"%(P_dc,P_ac));\n",
      "print(\"(iv)  The collector efficiency=%.1f%%.\"%collector_eff);\n",
      "print(\"(v)   The turn ratio of the transformer=%d.\"%n);\n"
     ],
     "language": "python",
     "metadata": {},
     "outputs": [
      {
       "output_type": "stream",
       "stream": "stdout",
       "text": [
        "(i)   The approximate value of zero signal collector current=18mA.\n",
        "(ii)  The zero signal base current=0.18mA.\n",
        "(iii) The d.c input power= 315mW and a.c output power =106mW.\n",
        "(iv)  The collector efficiency=33.7%.\n",
        "(v)   The turn ratio of the transformer=3.\n"
       ]
      }
     ],
     "prompt_number": 26
    },
    {
     "cell_type": "heading",
     "level": 2,
     "metadata": {},
     "source": [
      "Example 12.14 : Page number 321-322\n"
     ]
    },
    {
     "cell_type": "code",
     "collapsed": false,
     "input": [
      "from math import sqrt\n",
      "\n",
      "#Variable declaration\n",
      "RL=13.0;                        #Load resistance, ohm\n",
      "RL_reflected=325.0;             #Load resistance, when referred to primary, ohm\n",
      "VCC=20.0;                       #Supply voltage, V\n",
      "IC=58.0;                      #Quiscent value of collector current, mA\n",
      "\n",
      "#Calculation\n",
      "#(i)\n",
      "n=sqrt(RL_reflected/RL);                    #Transformer turn ratio\n",
      "\n",
      "#(ii)\n",
      "P_ac=(((IC/1000)**2)*RL_reflected/2)*1000;                   #A.C output power, mW\n",
      "\n",
      "#(iii)\n",
      "P_dc=VCC*IC;                                    #d.c input power, mW\n",
      "collector_eff=(P_ac/P_dc)*100;                        #Collector efficiency\n",
      "\n",
      "\n",
      "#Result\n",
      "print(\"(i)   Transformer turn ratio=%d.\"%n);\n",
      "print(\"(ii)  The a.c output power=%dmW.\"%P_ac);\n",
      "print(\"(iii) The collector efficiency=%d%%.\"%collector_eff);\n"
     ],
     "language": "python",
     "metadata": {},
     "outputs": [
      {
       "output_type": "stream",
       "stream": "stdout",
       "text": [
        "(i)   Transformer turn ratio=5.\n",
        "(ii)  The a.c output power=546mW.\n",
        "(iii) The collector efficiency=47%.\n"
       ]
      }
     ],
     "prompt_number": 20
    },
    {
     "cell_type": "heading",
     "level": 2,
     "metadata": {},
     "source": [
      "Example 12.15 : Page number 323\n"
     ]
    },
    {
     "cell_type": "code",
     "collapsed": false,
     "input": [
      "#Variable declaration\n",
      "P_total=4.0;                #Total power dissipated by the power transistor, W\n",
      "T_j_max=90.0;               #Maximum junction temperature, degree celsius\n",
      "theta=10.0;                 #Thermal resistance, degree celsius per watt\n",
      "\n",
      "#Calculation\n",
      "#Since, Total power dissipation=half of(max. junc. temp. - ambient temp.)\n",
      "T_amb=T_j_max-(P_total*theta);                      #Ambient temperature, degree celsius\n",
      "\n",
      "#Result\n",
      "print(\"The ambient temperature=%d degree celsius.\"%T_amb);\n"
     ],
     "language": "python",
     "metadata": {},
     "outputs": [
      {
       "output_type": "stream",
       "stream": "stdout",
       "text": [
        "The ambient temperature=50 degree celsius.\n"
       ]
      }
     ],
     "prompt_number": 27
    },
    {
     "cell_type": "heading",
     "level": 2,
     "metadata": {},
     "source": [
      "Example 12.16 : Page number 323-324\n"
     ]
    },
    {
     "cell_type": "code",
     "collapsed": false,
     "input": [
      "#Variable declaration\n",
      "theta=300.0;                #Thermal resistance, degree celsius per watt\n",
      "T_j_max=90.0;               #Maximum junction temperature, degree celsius\n",
      "T_amb=30.0;                 #Ambient temperature, degree celsius\n",
      "\n",
      "#Calculation\n",
      "#(i) Without heat sink\n",
      "P_total=((T_j_max-T_amb)/theta)*1000;              #Maximum permissible power dissipation without sink, mW\n",
      "\n",
      "print(\"(i)The maximum permissible power dissipation without heat sink=%dmW.\"%P_total);\n",
      "\n",
      "#(ii) With heat sink\n",
      "theta=60.0;                                    #reduced thermal resistance, degree celsius per watt\n",
      "P_total=((T_j_max-T_amb)/theta)*1000;          #Maximum permissible power dissipation with heat sink, mW\n",
      "\n",
      "print(\"(ii)The maximum permissible power dissipation with heat sink=%dmW.\"%P_total);\n"
     ],
     "language": "python",
     "metadata": {},
     "outputs": [
      {
       "output_type": "stream",
       "stream": "stdout",
       "text": [
        "(i)The maximum permissible power dissipation without heat sink=200mW.\n",
        "(ii)The maximum permissible power dissipation with heat sink=1000mW.\n"
       ]
      }
     ],
     "prompt_number": 28
    },
    {
     "cell_type": "heading",
     "level": 2,
     "metadata": {},
     "source": [
      "Example 12.17 : Page number 324\n"
     ]
    },
    {
     "cell_type": "code",
     "collapsed": false,
     "input": [
      "#Variable declaration\n",
      "theta=20.0;                         #Thermal resistance, degree celsius per watt\n",
      "T_j_max=200.0;                      #Maximum junction temperature, degree celsius\n",
      "T_amb=25.0;                         #Ambient temperature, degree celsius\n",
      "VCE=4.0;                            #Collector-emitter voltage, V\n",
      "\n",
      "#Calculation\n",
      "P_total=(T_j_max-T_amb)/theta;          #Maximum permissible power dissipation, W\n",
      "\n",
      "#since, the max. power dissipation=VCE_max*IC_max,therefore\n",
      "IC_max=P_total/VCE;                                             #Maximum collector current, A\n",
      "\n",
      "print(\"The maximum collector current that the transistor can carry without destruction=%.2fA.\"%IC_max);\n",
      "\n",
      "#The ambient temperature rises\n",
      "T_amb=75.0;                     #The risen ambibent temperature, degree celsius\n",
      "P_total=(T_j_max-T_amb)/theta;          #Maximum permissible power dissipation, W\n",
      "IC_max=P_total/VCE;                                             #Maximum collector current, A\n",
      "\n",
      "print(\"The maximum collector current for the risen ambient temperature=%.2fA.\"%IC_max);\n"
     ],
     "language": "python",
     "metadata": {},
     "outputs": [
      {
       "output_type": "stream",
       "stream": "stdout",
       "text": [
        "The maximum collector current that the transistor can carry without destruction=2.19A.\n",
        "The maximum collector current for the risen ambient temperature=1.56A.\n"
       ]
      }
     ],
     "prompt_number": 29
    },
    {
     "cell_type": "heading",
     "level": 2,
     "metadata": {},
     "source": [
      "Example 12.18 : Page  number 328-329\n"
     ]
    },
    {
     "cell_type": "code",
     "collapsed": false,
     "input": [
      "from math import pi\n",
      "\n",
      "#Variable declaration\n",
      "VCC=12.0;                   #Supply voltage, V\n",
      "RL=8.0;                     #Driving load, ohm\n",
      "\n",
      "#Calculation\n",
      "#(i)\n",
      "IC_sat=VCC/(2*RL);                  #Collector saturation current, A\n",
      "P_o_max=round(VCC*IC_sat*0.25,2);            #Maximum load power, W\n",
      "\n",
      "#(ii)\n",
      "P_dc=round(VCC*IC_sat/round(pi,2),2);                 #d.c input power, W\n",
      "\n",
      "#(iii)\n",
      "Collector_eff=(P_o_max/P_dc)*100;       #Collector efficiency\n",
      "\n",
      "#Result\n",
      "print(\"(i)   The maximum load power =%.2fW.\"%P_o_max);\n",
      "print(\"(ii)  The d.c input power=%.2fW.\"%P_dc);\n",
      "print(\"(iii) The collector efficiency=%.1f%%.\"%Collector_eff);\n"
     ],
     "language": "python",
     "metadata": {},
     "outputs": [
      {
       "output_type": "stream",
       "stream": "stdout",
       "text": [
        "(i)   The maximum load power =2.25W.\n",
        "(ii)  The d.c input power=2.87W.\n",
        "(iii) The collector efficiency=78.4%.\n"
       ]
      }
     ],
     "prompt_number": 30
    },
    {
     "cell_type": "heading",
     "level": 2,
     "metadata": {},
     "source": [
      "Example 12.19 : Page number 329\n"
     ]
    },
    {
     "cell_type": "code",
     "collapsed": false,
     "input": [
      "#Variable declaration\n",
      "P_T=10.0;                   #Power rating of each transistor, W\n",
      "max_eff=0.785;              #Maximum collector effciency\n",
      "\n",
      "#Calculation\n",
      "#Since, input power=max. a.c power + Power rating of transistor\n",
      "#And, max. efficiency=max. a.c power/input d.c power\n",
      "P_2T=2*P_T;                                   #Total power dissipation by two transistors\n",
      "P_o_max=(max_eff*P_2T)/(1-max_eff);           #Maximum output a.c power, W\n",
      "\n",
      "#result\n",
      "print(\"The maximum output power that can be obtained=%.2fW.\"%P_o_max);\n"
     ],
     "language": "python",
     "metadata": {},
     "outputs": [
      {
       "output_type": "stream",
       "stream": "stdout",
       "text": [
        "The maximum output power that can be obtained=73.02W.\n"
       ]
      }
     ],
     "prompt_number": 31
    },
    {
     "cell_type": "heading",
     "level": 2,
     "metadata": {},
     "source": [
      "Example 12.20 : Page number 329\n"
     ]
    },
    {
     "cell_type": "code",
     "collapsed": false,
     "input": [
      "#Variable declaration\n",
      "eff=60.0/100;                   #Efficiency of the amplifier\n",
      "P_T=2.5;                        #Power dissipated by each transistor, W\n",
      "\n",
      "#Calculation\n",
      "#Since, input power=max. a.c power + Power rating of transistor\n",
      "#And, max. efficiency=max. a.c power/input d.c power\n",
      "P_2T=2*P_T;                        #Total power dissipated by both transistors, W\n",
      "P_ac=(eff*P_2T)/(1-eff);           #Output a.c power, W\n",
      "P_dc=P_ac+P_2T;                    #Input d.c power, W\n",
      "\n",
      "#Result\n",
      "print(\"The a.c output power= %.1fW.\"%P_ac);\n",
      "print(\"The d.c input power= %.1fW.\"%P_dc);\n"
     ],
     "language": "python",
     "metadata": {},
     "outputs": [
      {
       "output_type": "stream",
       "stream": "stdout",
       "text": [
        "The a.c output power= 7.5W.\n",
        "The d.c input power= 12.5W.\n"
       ]
      }
     ],
     "prompt_number": 32
    },
    {
     "cell_type": "heading",
     "level": 2,
     "metadata": {},
     "source": [
      "Example 12.21 : Page number 329-330\n"
     ]
    },
    {
     "cell_type": "code",
     "collapsed": false,
     "input": [
      "#Variable declaration\n",
      "VCC=10.0;               #Supply voltage, V\n",
      "RL=10.0;                #Load resistance, ohm\n",
      "\n",
      "#Calculation\n",
      "IC_sat=(VCC/(2*RL))*1000;          #Saturated collector current, mA\n",
      "VCE_off=VCC/2;                     #Collector-emitter voltage in off state, V\n",
      "\n",
      "#Result\n",
      "print(\"1st end point of a.c load line, IC(sat)=%dmA.\"%IC_sat);\n",
      "print(\"2nd end point of a.c load line, VCE(off)=%dV.\"%VCE_off);\n"
     ],
     "language": "python",
     "metadata": {},
     "outputs": [
      {
       "output_type": "stream",
       "stream": "stdout",
       "text": [
        "1st end point of a.c load line, IC(sat)=500mA.\n",
        "2nd end point of a.c load line, VCE(off)=5V.\n"
       ]
      }
     ],
     "prompt_number": 33
    },
    {
     "cell_type": "code",
     "collapsed": false,
     "input": [],
     "language": "python",
     "metadata": {},
     "outputs": []
    }
   ],
   "metadata": {}
  }
 ]
}