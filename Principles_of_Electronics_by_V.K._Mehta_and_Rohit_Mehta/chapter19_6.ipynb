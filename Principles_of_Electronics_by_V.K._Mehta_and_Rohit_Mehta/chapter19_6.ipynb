{
 "cells": [
  {
   "cell_type": "markdown",
   "metadata": {},
   "source": [
    "# CHAPTER 19 : FIELD EFFECT TRANSISTORS"
   ]
  },
  {
   "cell_type": "markdown",
   "metadata": {},
   "source": [
    "## Example 19.1 : Page number 515"
   ]
  },
  {
   "cell_type": "code",
   "execution_count": 2,
   "metadata": {
    "collapsed": false
   },
   "outputs": [
    {
     "name": "stdout",
     "output_type": "stream",
     "text": [
      "ID=12[1 + VGS/5]²mA.\n"
     ]
    }
   ],
   "source": [
    "#Variable declaration\n",
    "I_DSS=12.0;                                 #Shorted gate drain current, mA\n",
    "V_GS_off=-5.0;                              #Gate-source cut-off voltage, V\n",
    "\n",
    "#Result\n",
    "print(\"ID=%d[1 + VGS/%d]²mA.\"%(I_DSS,abs(V_GS_off)));\n"
   ]
  },
  {
   "cell_type": "markdown",
   "metadata": {},
   "source": [
    "## Example 19.2 : Page number 515"
   ]
  },
  {
   "cell_type": "code",
   "execution_count": 3,
   "metadata": {
    "collapsed": false
   },
   "outputs": [
    {
     "name": "stdout",
     "output_type": "stream",
     "text": [
      "The drain current=6.12mA.\n"
     ]
    }
   ],
   "source": [
    "#Variable declaration\n",
    "I_DSS=32.0;                                 #Shorted gate drain current, mA\n",
    "V_GS_off=-8.0;                              #Gate-source cut-off voltage, V\n",
    "V_GS=-4.5;                                  #Gate-source voltage, V\n",
    "\n",
    "\n",
    "#Calculation\n",
    "I_D=I_DSS*(1-(V_GS/V_GS_off))**2;                    #Drain current mA\n",
    "\n",
    "#Result\n",
    "print(\"The drain current=%.2fmA.\"%I_D);\n"
   ]
  },
  {
   "cell_type": "markdown",
   "metadata": {},
   "source": [
    "## Example 19.3 : Page number  515"
   ]
  },
  {
   "cell_type": "code",
   "execution_count": 4,
   "metadata": {
    "collapsed": false
   },
   "outputs": [
    {
     "name": "stdout",
     "output_type": "stream",
     "text": [
      "(i) VGS=-1.76V.\n",
      "(ii) VP=6V\n"
     ]
    }
   ],
   "source": [
    "from math import sqrt\n",
    "\n",
    "#Variable declaration\n",
    "I_DSS=10.0;                                 #Shorted gate drain current, mA\n",
    "V_GS_off=-6.0;                              #Gate-source cut-off voltage, V\n",
    "I_D=5.0;                                    #Drain current mA\n",
    "\n",
    "\n",
    "#Calculation\n",
    "#(i)\n",
    "#Since, I_D=I_DSS*[1 - (V_GS/V_GS_off)]²\n",
    "V_GS=V_GS_off*(1-sqrt(I_D/I_DSS));              #Gate-source voltage, V\n",
    "\n",
    "#(ii)\n",
    "V_P=-V_GS_off;                                  #Pinch-off voltage, V        \n",
    "\n",
    "#Result\n",
    "print(\"(i) VGS=%.2fV.\"%V_GS);\n",
    "print(\"(ii) VP=%dV\"%V_P);\n"
   ]
  },
  {
   "cell_type": "markdown",
   "metadata": {},
   "source": [
    "## Example 19.4 : Page number 515-516"
   ]
  },
  {
   "cell_type": "code",
   "execution_count": 5,
   "metadata": {
    "collapsed": false
   },
   "outputs": [
    {
     "name": "stdout",
     "output_type": "stream",
     "text": [
      "The minimum value of VDD required =10.72V.\n"
     ]
    }
   ],
   "source": [
    "#Variable declaration\n",
    "V_GS_off=-4.0;                              #Gate-source cut-off voltage, V\n",
    "I_DSS=12.0;                                 #Shorted gate drain current, mA\n",
    "R_D=560.0;                                  #Drain resistor, Ω\n",
    "\n",
    "#Calculation\n",
    "V_P=-V_GS_off;          #Pinch-off voltage, V\n",
    "V_DS=V_P;               #Minimum drain-source voltage for JFET to be in constant current region, V\n",
    "I_D=I_DSS;              #Maximum drain current, mA (V_GS=0)\n",
    "V_RD=(I_D/1000)*R_D;    #Voltage across drain resistor, V (OHM's LAW)\n",
    "V_DD=V_DS+V_RD;         #Minimum value of supply voltage to drain, V\n",
    "\n",
    "#Result\n",
    "print(\"The minimum value of VDD required =%.2fV.\"%V_DD);\n"
   ]
  },
  {
   "cell_type": "markdown",
   "metadata": {},
   "source": [
    "## Example 19.5 : Page number 516"
   ]
  },
  {
   "cell_type": "code",
   "execution_count": 6,
   "metadata": {
    "collapsed": false
   },
   "outputs": [
    {
     "name": "stdout",
     "output_type": "stream",
     "text": [
      "The drain current=1.33mA.\n"
     ]
    }
   ],
   "source": [
    "#Variable declaration\n",
    "I_DSS=3.0;                                 #Shorted gate drain current, mA\n",
    "V_GS_off=-6.0;                              #Gate-source cut-off voltage, V\n",
    "V_GS=-2.0;                                  #Gate-source voltage, V\n",
    "\n",
    "\n",
    "#Calculation\n",
    "I_D=I_DSS*(1-(V_GS/V_GS_off))**2;                    #Drain current mA\n",
    "\n",
    "#Result\n",
    "print(\"The drain current=%.2fmA.\"%I_D);\n"
   ]
  },
  {
   "cell_type": "markdown",
   "metadata": {},
   "source": [
    "## Example 19.6 : Page number 516"
   ]
  },
  {
   "cell_type": "code",
   "execution_count": 7,
   "metadata": {
    "collapsed": false
   },
   "outputs": [
    {
     "name": "stdout",
     "output_type": "stream",
     "text": [
      "p-channel JFET requires a positive gate-to-source voltage to pass drain current.\n",
      "More positive voltage, the less the drain current. \n",
      "Any further increase in VGS keeps the JFET cut-off. Therefore, ID=0A.\n"
     ]
    }
   ],
   "source": [
    "#Variable declaration\n",
    "VGS_off=4;                #Gate-source cut-off voltage, V\n",
    "VGS=6;                    #Gate source voltage, V\n",
    "\n",
    "print(\"p-channel JFET requires a positive gate-to-source voltage to pass drain current.\");\n",
    "print(\"More positive voltage, the less the drain current. \");\n",
    "print(\"Any further increase in VGS keeps the JFET cut-off. Therefore, ID=0A.\");"
   ]
  },
  {
   "cell_type": "markdown",
   "metadata": {},
   "source": [
    "## Example 19.7 : Page number 517-518"
   ]
  },
  {
   "cell_type": "code",
   "execution_count": 8,
   "metadata": {
    "collapsed": false
   },
   "outputs": [
    {
     "name": "stdout",
     "output_type": "stream",
     "text": [
      "The gate to source resistance=15000MΩ.\n"
     ]
    }
   ],
   "source": [
    "#Variable declaration\n",
    "V_GS=15.0;              #Gate-source voltage, V\n",
    "I_G=1e-03;               #Gate current, μA\n",
    "\n",
    "#Calculation\n",
    "R_GS=(V_GS/(I_G*10**-6))/10**6;          #Gate to source resistance, MΩ (OHM's LAW)\n",
    "\n",
    "#Result\n",
    "print(\"The gate to source resistance=%dMΩ.\"%R_GS);\n"
   ]
  },
  {
   "cell_type": "markdown",
   "metadata": {},
   "source": [
    "## Example 19.8 : Page  number 518"
   ]
  },
  {
   "cell_type": "code",
   "execution_count": 9,
   "metadata": {
    "collapsed": false
   },
   "outputs": [
    {
     "name": "stdout",
     "output_type": "stream",
     "text": [
      "Transconductance=3000 μ mho\n"
     ]
    }
   ],
   "source": [
    "\n",
    "#Variable declaration\n",
    "V_GS_max=-3.1;                      #Maximum gate to source voltage, V\n",
    "V_GS_min=-3.0;                      #Minimum gate to source voltage, V\n",
    "I_D_max=1.3;                      #Maximum drain current, mA\n",
    "I_D_min=1.0;                      #Minimum drain current, mA\n",
    "\n",
    "\n",
    "#Calculation\n",
    "delta_V_GS=abs(V_GS_max-V_GS_min);              #Change in gate to source voltage, V\n",
    "delta_I_D=I_D_max-I_D_min;                      #Change in drain current, mA\n",
    "g_fs=(delta_I_D/delta_V_GS)*1000;               #Transconductance, μ mho\n",
    "\n",
    "\n",
    "#Result\n",
    "print(\"Transconductance=%.0f μ mho\"%g_fs);\n"
   ]
  },
  {
   "cell_type": "markdown",
   "metadata": {},
   "source": [
    "## Example 19.9 : Page number 518"
   ]
  },
  {
   "cell_type": "code",
   "execution_count": 10,
   "metadata": {
    "collapsed": false
   },
   "outputs": [
    {
     "name": "stdout",
     "output_type": "stream",
     "text": [
      "VGS= 0V     0V        -0.2V\n",
      "VDS= 7V     15V        15V\n",
      "ID = 10V    10.25V     9.65V\n",
      "(i)   The a.c drain resistance=32kΩ.\n",
      "(ii)  The transconductance=3000 μ mho.\n",
      "(iii) The amplification factor=96.\n"
     ]
    }
   ],
   "source": [
    "#Variable declaration\n",
    "V_GS=[0,0,-0.2];            #Readings of Gate-source voltage, V\n",
    "V_DS=[7,15,15];             #Readings of Drain-source voltage, V\n",
    "ID=[10,10.25,9.65];         #Readings of drain current, mA\n",
    "\n",
    "\n",
    "#Displaying the readings:\n",
    "print(\"VGS= %dV     %dV        %.1fV\"%(V_GS[0],V_GS[1],V_GS[2]));\n",
    "print(\"VDS= %dV     %dV        %dV\"%(V_DS[0],V_DS[1],V_DS[2]));\n",
    "print(\"ID = %dV    %.2fV     %.2fV\"%(ID[0],ID[1],ID[2]));\n",
    "\n",
    "#Calculations\n",
    "#(i)\n",
    "#V_GS constant at 0V,\n",
    "delta_VDS=V_DS[1]-V_DS[0];          #Change in drain-source voltage, V\n",
    "delta_ID=ID[1]-ID[0];               #Change in drain current, mA\n",
    "rd=delta_VDS/delta_ID;              #a.c drain resistance, kΩ\n",
    "\n",
    "#(ii)\n",
    "#V_DS constant at 15V,\n",
    "delta_VGS=V_GS[2]-V_GS[1];                  #Change in gate-source voltage, V\n",
    "delta_ID=ID[2]-ID[1];                       #Change in drain current, mA\n",
    "g_fs=round((delta_ID/delta_VGS)*1000,);     #Transconductance, μ mho\n",
    "\n",
    "#(iii)\n",
    "amplification_factor=rd*1000*g_fs*10**-6;                          #Amplification factor\n",
    "\n",
    "\n",
    "#Result\n",
    "print(\"(i)   The a.c drain resistance=%dkΩ.\"%rd);\n",
    "print(\"(ii)  The transconductance=%d μ mho.\"%g_fs);\n",
    "print(\"(iii) The amplification factor=%d.\"%amplification_factor );\n"
   ]
  },
  {
   "cell_type": "markdown",
   "metadata": {},
   "source": [
    "## Example 19.10 : Page number 519"
   ]
  },
  {
   "cell_type": "code",
   "execution_count": 11,
   "metadata": {
    "collapsed": false
   },
   "outputs": [
    {
     "name": "stdout",
     "output_type": "stream",
     "text": [
      "The transconductance=2500 μS.\n"
     ]
    }
   ],
   "source": [
    "#Variable declaration\n",
    "g_mo=4000.0;                        #Maximum transconductance, μS\n",
    "V_GS=-3.0;                          #Gate to source voltage, V\n",
    "V_GS_off=-8.0;                      #Gate-source cut-off voltage, V\n",
    "\n",
    "#Calculation\n",
    "g_m=g_mo*(1-(V_GS/V_GS_off));               #Transconductance, μS\n",
    "\n",
    "#Result\n",
    "print(\"The transconductance=%d μS.\"%g_m);\n"
   ]
  },
  {
   "cell_type": "markdown",
   "metadata": {},
   "source": [
    "## Example 19.11 : Page number 519"
   ]
  },
  {
   "cell_type": "code",
   "execution_count": 12,
   "metadata": {
    "collapsed": false
   },
   "outputs": [
    {
     "name": "stdout",
     "output_type": "stream",
     "text": [
      "The transconductance=1667 μS.\n",
      "The drain current=333 μA.\n"
     ]
    }
   ],
   "source": [
    "#Variable declaration\n",
    "g_mo=5000.0;                        #Maximum transconductance, μS\n",
    "V_GS=-4.0;                          #Gate to source voltage, V\n",
    "V_GS_off=-6.0;                      #Gate-source cut-off voltage, V\n",
    "I_DSS=3.0;                          #Shorted-gate drain current, mA\n",
    "\n",
    "#Calculation\n",
    "g_m=g_mo*(1-(V_GS/V_GS_off));               #Transconductance, μS\n",
    "I_D=(I_DSS*(1-(V_GS/V_GS_off))**2)*1000;                    #Drain current μA\n",
    "\n",
    "\n",
    "#Result\n",
    "print(\"The transconductance=%.0f μS.\"%g_m);\n",
    "print(\"The drain current=%d μA.\"%I_D);\n"
   ]
  },
  {
   "cell_type": "markdown",
   "metadata": {},
   "source": [
    "## Example 19.12 : Page number 520"
   ]
  },
  {
   "cell_type": "code",
   "execution_count": 13,
   "metadata": {
    "collapsed": false
   },
   "outputs": [
    {
     "name": "stdout",
     "output_type": "stream",
     "text": [
      "The gate-source voltage=-5V.\n",
      "The drain current=2.25mA.\n",
      "The drain-source voltage=5.05V.\n"
     ]
    }
   ],
   "source": [
    "#Variable declaration\n",
    "V_GS_off=-8.0;                      #Gate-source cut-off voltage, V\n",
    "I_DSS=16.0;                         #Shorted-gate drain current, mA\n",
    "R_D=2.2;                            #Drain resistor, kΩ\n",
    "R_G=1.0;                            #Gate resistor, MΩ\n",
    "V_DD=10.0;                          #Drain supply voltage, V\n",
    "V_GG=-5.0;                           #Gate supply voltage, V\n",
    "\n",
    "\n",
    "#Calculation\n",
    "V_GS=V_GG;                                           #Gate-source voltage, V\n",
    "I_D=I_DSS*(1-(V_GS/V_GS_off))**2;                    #Drain current μA\n",
    "V_DS=V_DD-I_D*R_D;                                   #Drain-source voltage, V (Kirchhoff's voltage law)\n",
    "\n",
    "#Result\n",
    "print(\"The gate-source voltage=%dV.\"%V_GS);\n",
    "print(\"The drain current=%.2fmA.\"%I_D);\n",
    "print(\"The drain-source voltage=%.2fV.\"%V_DS);\n"
   ]
  },
  {
   "cell_type": "markdown",
   "metadata": {},
   "source": [
    "## Example 19.13 : Page number 521"
   ]
  },
  {
   "cell_type": "code",
   "execution_count": 14,
   "metadata": {
    "collapsed": false
   },
   "outputs": [
    {
     "name": "stdout",
     "output_type": "stream",
     "text": [
      "The drain-source voltage=7.65V.\n",
      "The gate-source voltage=-2.35V.\n"
     ]
    }
   ],
   "source": [
    "#Variable declaration\n",
    "I_D=5.0;                   #Drain current mA\n",
    "V_DD=15.0;                 #Drain supply voltage, V\n",
    "V_G=0;                     #Gate voltage, V\n",
    "R_D=1.0;                   #Drain resistor, kΩ\n",
    "R_S=470.0;                 #Source resistor, Ω\n",
    "\n",
    "\n",
    "#Calculation\n",
    "V_S=(I_D/1000)*R_S;                 #Source voltage, V (OHM's LAW)\n",
    "V_D=V_DD-I_D*R_D;                   #Drain voltage, V (Kirchhoff's voltage law)\n",
    "V_DS=V_D-V_S;                       #Drain-source voltage, V\n",
    "V_GS=V_G-V_S;                       #Gate-source voltage, V\n",
    "\n",
    "#Result\n",
    "print(\"The drain-source voltage=%.2fV.\"%V_DS);\n",
    "print(\"The gate-source voltage=%.2fV.\"%V_GS);\n"
   ]
  },
  {
   "cell_type": "markdown",
   "metadata": {},
   "source": [
    "## Example 19.14 : Page number 521"
   ]
  },
  {
   "cell_type": "code",
   "execution_count": 15,
   "metadata": {
    "collapsed": false
   },
   "outputs": [
    {
     "name": "stdout",
     "output_type": "stream",
     "text": [
      "The required source resistor=800 Ω.\n"
     ]
    }
   ],
   "source": [
    "#Variable declaration\n",
    "V_GS=-5.0;                     #Gate-source voltage, V\n",
    "I_D=6.25;                      #Drain current mA\n",
    "\n",
    "\n",
    "#Calculation\n",
    "R_S=abs(V_GS/(I_D/1000));              #Required source resistor, Ω (OHM's LAW)\n",
    "\n",
    "#Result\n",
    "print(\"The required source resistor=%d Ω.\"%R_S);\n"
   ]
  },
  {
   "cell_type": "markdown",
   "metadata": {},
   "source": [
    "## Example 19.15 : Page number : 521"
   ]
  },
  {
   "cell_type": "code",
   "execution_count": 16,
   "metadata": {
    "collapsed": false
   },
   "outputs": [
    {
     "name": "stdout",
     "output_type": "stream",
     "text": [
      "The source resistance=450Ω.\n"
     ]
    }
   ],
   "source": [
    "#Variable declaration\n",
    "I_DSS=25.0;                                 #Shorted gate drain current, mA\n",
    "V_GS_off=15.0;                              #Gate-source cut-off voltage, V\n",
    "V_GS=5.0;                                   #Gate-source voltage, V\n",
    "\n",
    "\n",
    "#Calculation\n",
    "I_D=I_DSS*(1-(V_GS/V_GS_off))**2;               #Drain current mA\n",
    "R_S=V_GS/(I_D/1000);                            #Required source resistor, Ω (OHM's LAW)\n",
    "\n",
    "\n",
    "#Result\n",
    "print(\"The source resistance=%.0fΩ.\"%R_S);\n"
   ]
  },
  {
   "cell_type": "markdown",
   "metadata": {},
   "source": [
    "## Example 19.16 : Page number 522"
   ]
  },
  {
   "cell_type": "code",
   "execution_count": 17,
   "metadata": {
    "collapsed": false
   },
   "outputs": [
    {
     "name": "stdout",
     "output_type": "stream",
     "text": [
      " RS=313 Ω and RD=800 Ω.\n"
     ]
    }
   ],
   "source": [
    "#Variable declaration\n",
    "I_DSS=15.0;                                 #Shorted gate drain current, mA\n",
    "V_GS_off=-8.0;                              #Gate-source cut-off voltage, V\n",
    "V_DD=12.0;                                  #Drain supply voltage,V\n",
    "V_D=V_DD/2;                                 #Drain voltage(half of V_DD), V\n",
    "\n",
    "#Calculation\n",
    "I_D=I_DSS/2;                                #Drain current(approximately half of I_DSS), mA\n",
    "V_GS=V_GS_off/3.4;                          #Gate-source voltage, V\n",
    "R_S=abs(V_GS/(I_D/1000));                   #Source resistor, Ω (OHM's LAW)\n",
    "#Since,V_D=V_DD-I_D*R_D;                      \n",
    "R_D=(V_DD-V_D)/(I_D/1000);                         #Drain resistor, Ω (OHM's LAW)\n",
    "\n",
    "#Result\n",
    "print(\" RS=%d Ω and RD=%d Ω.\"%(R_S,R_D));\n"
   ]
  },
  {
   "cell_type": "markdown",
   "metadata": {},
   "source": [
    "## Example 19.17 : Page number 522"
   ]
  },
  {
   "cell_type": "code",
   "execution_count": 18,
   "metadata": {
    "collapsed": false
   },
   "outputs": [
    {
     "name": "stdout",
     "output_type": "stream",
     "text": [
      "The source resistance=0.6 kΩ\n",
      "The drain resistance=6 kΩ.\n"
     ]
    }
   ],
   "source": [
    "from math import sqrt\n",
    "\n",
    "#Variable declaration\n",
    "I_DSS=5.0;                       #Shorted gate drain current, mA\n",
    "V_GS_off=-2.0;                   #Gate-source cut-off voltage, V\n",
    "V_DS=10.0;                       #Drain-source voltage,V\n",
    "I_D=1.5;                         #Drain current, mA\n",
    "V_DD=20.0;                       #Drain supply voltage,V\n",
    "V_G=0;                           #Gate voltage, V\n",
    "\n",
    "\n",
    "#Calculation\n",
    "#Since,  Drain current, I_D=I_DSS*(1-(V_GS/V_GS_off))**2;                    \n",
    "V_GS=V_GS_off*(1-sqrt(I_D/I_DSS));              #Gate-source voltage, V\n",
    "\n",
    "#Since, V_GS=V_G-V_S,\n",
    "V_S=V_G-V_GS;                           #Source voltage, V\n",
    "\n",
    "R_S=V_S/I_D;                            #Source resistor, kΩ\n",
    "\n",
    "#Since, V_DD=I_D*R_D +V_DS+ I_D*R_S,\n",
    "R_D=(V_DD-I_D*R_S-V_DS)/I_D;                    #Drain resistor, kΩ\n",
    "\n",
    "#Calculation\n",
    "print(\"The source resistance=%.1f kΩ\"%R_S);\n",
    "print(\"The drain resistance=%d kΩ.\"%R_D);\n"
   ]
  },
  {
   "cell_type": "markdown",
   "metadata": {},
   "source": [
    "## Example 19.18 : Page number 522-523"
   ]
  },
  {
   "cell_type": "code",
   "execution_count": 19,
   "metadata": {
    "collapsed": false
   },
   "outputs": [
    {
     "name": "stdout",
     "output_type": "stream",
     "text": [
      "The drain-source voltage=17V.\n",
      "The gate-source voltage=-0.5V.\n"
     ]
    }
   ],
   "source": [
    "#Variable declaration\n",
    "V_DD=30.0;                  #Drain supply voltage, V\n",
    "R_D=5.0;                    #Drain resistor, kΩ\n",
    "I_D=2.5;                    #Drain current, mA\n",
    "R_S=200.0;                  #Source resistor, Ω\n",
    "\n",
    "#Calculation\n",
    "#(i)\n",
    "V_DS=V_DD-I_D*(R_D+(R_S/1000));                 #Drain-source voltage, V\n",
    "\n",
    "#(ii)\n",
    "V_GS=-(I_D/1000)*R_S;                          #Gate-source voltage, V\n",
    "\n",
    "#Result\n",
    "print(\"The drain-source voltage=%dV.\"%V_DS);\n",
    "print(\"The gate-source voltage=%.1fV.\"%V_GS);\n"
   ]
  },
  {
   "cell_type": "markdown",
   "metadata": {},
   "source": [
    "## Example 19.19 : Page number 523"
   ]
  },
  {
   "cell_type": "code",
   "execution_count": 20,
   "metadata": {
    "collapsed": false
   },
   "outputs": [
    {
     "name": "stdout",
     "output_type": "stream",
     "text": [
      "drain voltage of 1st stage=12.37V.\n",
      "Source voltage of 1st stage=1.46V.\n",
      "drain voltage of 2nd stage=11.7V.\n",
      "Source voltage of 2nd stage=2.01V.\n"
     ]
    }
   ],
   "source": [
    "#Variable declaration\n",
    "ID_1=2.15;                  #First stage drain current, mA\n",
    "ID_2=9.15;                  #Second stage drain current, mA\n",
    "VDD=30;                     #Drain supply voltage, V\n",
    "RS_1=0.68;                  #Source resistance of 1st stage, kΩ\n",
    "RS_2=0.22;                  #Source resistance of 2nd stage, kΩ\n",
    "RD_1=8.2;                   #Drain resistor of 1st stage, kΩ\n",
    "RD_2=2;                     #Drain resistor of 2nd stage, kΩ\n",
    "\n",
    "#Calculation\n",
    "V_RD1=ID_1*RD_1;                #Voltage drop across 8.2kΩ\n",
    "VD_1=VDD-V_RD1;                 #Drain voltage of 1st stage, V\n",
    "VS_1=ID_1*RS_1;                 #D.C potential of source of first stage, V\n",
    "V_RD2=ID_2*RD_2;                #Voltage drop across 2kΩ\n",
    "VD_2=VDD-V_RD2;                 #Drain voltage of 2nd stage, V\n",
    "VS_2=ID_2*RS_2;                 #D.C potential of source of 2nd stage, V\n",
    "\n",
    "\n",
    "#Result\n",
    "print(\"drain voltage of 1st stage=%.2fV.\"%VD_1);\n",
    "print(\"Source voltage of 1st stage=%.2fV.\"%VS_1);\n",
    "print(\"drain voltage of 2nd stage=%.1fV.\"%VD_2);\n",
    "print(\"Source voltage of 2nd stage=%.2fV.\"%VS_2);\n"
   ]
  },
  {
   "cell_type": "markdown",
   "metadata": {},
   "source": [
    "## Example 19.20 : Page number 524"
   ]
  },
  {
   "cell_type": "code",
   "execution_count": 21,
   "metadata": {
    "collapsed": false
   },
   "outputs": [
    {
     "name": "stdout",
     "output_type": "stream",
     "text": [
      "Drain current=1.52mA.\n",
      "Gate-source voltage=-1.2V.\n"
     ]
    }
   ],
   "source": [
    "#Variable declaration\n",
    "VDD=12;                     #Drain supply voltage, V\n",
    "VD=7;                       #Drain voltage, V\n",
    "R1=6.8;                     #Resistor R1, MΩ\n",
    "R2=1;                       #Resistor R2, MΩ\n",
    "RS=1.8;                     #Source resistance, kΩ\n",
    "RD=3.3;                     #Drain resistor, kΩ\n",
    "\n",
    "#Calculation\n",
    "ID=(VDD-VD)/RD;                  #Second stage drain current, mA\n",
    "VS=ID*RS;                        #Source voltage, V\n",
    "VG=VDD*R2/(R1+R2);               #Drain voltage, V\n",
    "VGS=VG-VS;                       #Drain-source voltage, V\n",
    "\n",
    "#Calculation\n",
    "print(\"Drain current=%.2fmA.\"%ID);\n",
    "print(\"Gate-source voltage=%.1fV.\"%VGS);\n"
   ]
  },
  {
   "cell_type": "markdown",
   "metadata": {},
   "source": [
    "## Example 19.21 : Page number 524-525"
   ]
  },
  {
   "cell_type": "code",
   "execution_count": 22,
   "metadata": {
    "collapsed": false
   },
   "outputs": [
    {
     "name": "stdout",
     "output_type": "stream",
     "text": [
      "Source resistor, RS=5kΩ.\n"
     ]
    }
   ],
   "source": [
    "from math import sqrt\n",
    "\n",
    "#Variable declaration\n",
    "VDD=30;                     #Drain supply voltage, V\n",
    "ID=2.5;                     #Drain current, mA\n",
    "VDS=8;                      #Drain-source voltage, V\n",
    "VGS_off=-5;                 #Gate-source cutoff voltage, V\n",
    "R1=1;                       #Resistor R1, MΩ\n",
    "R2=500;                     #Resistor R2, kΩ\n",
    "IDSS=10;                    #Shorted gate drain current, mA\n",
    "\n",
    "#Calculation\n",
    "#ID=IDSS*square_of(1-(VGS/VGS_off))\n",
    "VGS=VGS_off*(1-sqrt(ID/IDSS));           #Gate-source voltage, V\n",
    "V2=VDD*R2/(R1*1000+R2);                       #Voltage across R2, V\n",
    "\n",
    "\n",
    "#V2=VGS+ID*RS\n",
    "RS=(V2-VGS)/ID;                         #Source resistor, kΩ\n",
    "\n",
    "#Result\n",
    "print(\"Source resistor, RS=%dkΩ.\"%RS);\n"
   ]
  },
  {
   "cell_type": "markdown",
   "metadata": {},
   "source": [
    "##  Example 19.22 : Page number 528-529"
   ]
  },
  {
   "cell_type": "code",
   "execution_count": 23,
   "metadata": {
    "collapsed": false
   },
   "outputs": [
    {
     "data": {
      "image/png": "[encoded data removed]",
      "text/plain": [
       "<matplotlib.figure.Figure at 0x7f70cf070f28>"
      ]
     },
     "metadata": {},
     "output_type": "display_data"
    }
   ],
   "source": [
    "%matplotlib inline \n",
    "import matplotlib.pyplot as plt\n",
    "\n",
    "#Variable declaration\n",
    "VDD=20.0;                 #Drain supply voltage, V\n",
    "RS=50.0;                  #Source resistor, Ω\n",
    "RD=150.0;                 #Drain resistor, Ω\n",
    "\n",
    "#Calculation\n",
    "VDS_max=VDD;                           #Maximum drain source voltage, V\n",
    "ID_max=(VDD/(RD+RS))*1000;             #Maximum drain current, mA\n",
    "\n",
    "\n",
    "#plot\n",
    "x=[i for i in range(0,(int)(VDS_max+1))];          #Plot variable for V_DS\n",
    "y=[(i/(RD+RS))*1000 for i in reversed(x[:])];      #Plot variable for ID\n",
    "\n",
    "\n",
    "plt.plot(x,y);\n",
    "plt.xlabel(\"VDS(V)\");\n",
    "plt.ylabel(\"ID(mA)\");\n",
    "plt.title(\"d.c load line\");\n"
   ]
  },
  {
   "cell_type": "markdown",
   "metadata": {},
   "source": [
    "## Example 19.23 : Page number 529"
   ]
  },
  {
   "cell_type": "code",
   "execution_count": 24,
   "metadata": {
    "collapsed": false
   },
   "outputs": [
    {
     "data": {
      "image/png": "[encoded data removed]",
      "text/plain": [
       "<matplotlib.figure.Figure at 0x7f70cf06ab38>"
      ]
     },
     "metadata": {},
     "output_type": "display_data"
    }
   ],
   "source": [
    "%matplotlib inline \n",
    "import matplotlib.pyplot as plt\n",
    "\n",
    "#Variable declaration\n",
    "VDD=20;                 #Drain supply voltage, V\n",
    "RD=500.0;                 #Drain resistor, Ω\n",
    "\n",
    "#Calculation\n",
    "VDS_max=VDD;                           #Maximum drain source voltage, v \n",
    "ID_max=(VDD/RD)*1000;                  #Maximum drain current, mA\n",
    "\n",
    "#Plot\n",
    "x=[i for i in range(0,(int)(VDS_max+1))];          #Plot variable for V_DS\n",
    "y=[(i/RD)*1000 for i in reversed(x[:])];      #Plot variable for ID\n",
    "\n",
    "plt.plot(x,y);\n",
    "plt.xlabel(\"VDS(V)\");\n",
    "plt.ylabel(\"ID(mA)\");\n",
    "plt.title(\"d.c load line\");\n"
   ]
  },
  {
   "cell_type": "markdown",
   "metadata": {},
   "source": [
    "## Example 19.24 : Page number 530-531"
   ]
  },
  {
   "cell_type": "code",
   "execution_count": 25,
   "metadata": {
    "collapsed": false
   },
   "outputs": [
    {
     "name": "stdout",
     "output_type": "stream",
     "text": [
      "Voltage gain=4.8.\n"
     ]
    }
   ],
   "source": [
    "#Variable declaration\n",
    "VDD=20;                 #Drain supply voltage, V\n",
    "RD=12.0;                  #Drain resistor, kΩ\n",
    "RL=8.0;                   #Load resistor, kΩ\n",
    "RG=1.0;                   #Gate resistor, MΩ\n",
    "gm=1.0;                   #transconductance, mA/V\n",
    "\n",
    "#Calculation\n",
    "gm=gm*10**-3;                   #transconductance, mho\n",
    "RAC=(RD*RL)/(RD+RL);            #Total a.c load, kΩ\n",
    "Av=gm*RAC*1000;                 #Voltage gain\n",
    "\n",
    "\n",
    "#Result\n",
    "print(\"Voltage gain=%.1f.\"%Av);\n"
   ]
  },
  {
   "cell_type": "markdown",
   "metadata": {},
   "source": [
    "## Example 19.25 : Page number 531"
   ]
  },
  {
   "cell_type": "code",
   "execution_count": 26,
   "metadata": {
    "collapsed": false
   },
   "outputs": [
    {
     "name": "stdout",
     "output_type": "stream",
     "text": [
      "Voltage gain=30.\n"
     ]
    }
   ],
   "source": [
    "#Variable declaration\n",
    "gm=3000;                   #transconductance, μmho\n",
    "RD=10;                     #Drain resistance, kΩ\n",
    "\n",
    "#Calculation\n",
    "Av=gm*10**-6*RD*1000;       #Voltage gain\n",
    "\n",
    "#Result\n",
    "print(\"Voltage gain=%d.\"%Av);\n"
   ]
  },
  {
   "cell_type": "markdown",
   "metadata": {},
   "source": [
    "## Example 19.26 : Page number 531"
   ]
  },
  {
   "cell_type": "code",
   "execution_count": 27,
   "metadata": {
    "collapsed": false
   },
   "outputs": [
    {
     "name": "stdout",
     "output_type": "stream",
     "text": [
      "Output voltage=257mV(r.m.s).\n"
     ]
    }
   ],
   "source": [
    "#Variable declaration\n",
    "IDSS=8;                     #Shorted gate drain current, mA\n",
    "VGS_off=-10;                #Gate-source cut-off voltage, V\n",
    "ID=1.9;                     #Drain current, mA\n",
    "RD=3.3;                     #Drain resistance, kΩ\n",
    "RS=2.7;                     #Source resistor, kΩ\n",
    "vin=100;                    #Input voltage, mV\n",
    "\n",
    "#Calculation\n",
    "VGS=-ID*RS;                      #Gate-source voltage, V\n",
    "gmo=2*IDSS*10**-3/abs(VGS_off);  #Maximum transconductance, S\n",
    "gm=gmo*(1-(VGS/VGS_off));        #Transconductance, S\n",
    "Av=gm*RD*1000;                   #Voltage gain\n",
    "vout=Av*vin;                     #Output voltage, mA\n",
    "\n",
    "#Result\n",
    "print(\"Output voltage=%dmV(r.m.s).\"%vout);\n",
    "                \n"
   ]
  },
  {
   "cell_type": "markdown",
   "metadata": {},
   "source": [
    "## Example 19.27 : Page number 531-532"
   ]
  },
  {
   "cell_type": "code",
   "execution_count": 28,
   "metadata": {
    "collapsed": false
   },
   "outputs": [
    {
     "name": "stdout",
     "output_type": "stream",
     "text": [
      "Output voltage=151mV(r.m.s).\n"
     ]
    }
   ],
   "source": [
    "#Variable declaration\n",
    "RL=4.7;                    #Load resistor, Ω\n",
    "RD=3.3;                     #Drain resistance, kΩ\n",
    "gm=779*10**-6;              #Transconductance, S\n",
    "vin=100;                    #Input voltage, mV\n",
    "\n",
    "\n",
    "#Calculation\n",
    "RAC=RD*RL/(RD+RL);          #Total a.c drain resistance, kΩ\n",
    "Av=gm*RAC*1000;             #Voltage gain\n",
    "vout=Av*vin;                     #Output voltage, mA\n",
    "\n",
    "#Result\n",
    "print(\"Output voltage=%dmV(r.m.s).\"%vout);"
   ]
  },
  {
   "cell_type": "markdown",
   "metadata": {},
   "source": [
    "## Example 19.28 : Page number 532-533"
   ]
  },
  {
   "cell_type": "code",
   "execution_count": 29,
   "metadata": {
    "collapsed": false
   },
   "outputs": [
    {
     "name": "stdout",
     "output_type": "stream",
     "text": [
      "Voltage gain=1.85.\n",
      "Voltage gain, if RS resistor is bypassed=6.\n"
     ]
    }
   ],
   "source": [
    "#Variable declaration\n",
    "RD=1.5;            #Drain resistance, kΩ\n",
    "gm=4;              #Transconductance, mS\n",
    "RS=560;            #Source resistance, Ω\n",
    "\n",
    "#Calculation\n",
    "Av=gm*10**-3*RD*1000/(1+gm*10**-3*RS);\n",
    "print(\"Voltage gain=%.2f.\"%Av);\n",
    "\n",
    "#If RS is bypassed by a capacitor\n",
    "Av=gm*10**-3*RD*1000;\n",
    "print(\"Voltage gain, if RS resistor is bypassed=%d.\"%Av);"
   ]
  },
  {
   "cell_type": "markdown",
   "metadata": {},
   "source": [
    "## Example 19.29 : Page number 533"
   ]
  },
  {
   "cell_type": "code",
   "execution_count": 30,
   "metadata": {
    "collapsed": false
   },
   "outputs": [
    {
     "name": "stdout",
     "output_type": "stream",
     "text": [
      "(i) Voltage gain with RS bypassed=4.155.\n",
      "(ii) Voltage gain with RS unbypassed=1.35.\n"
     ]
    }
   ],
   "source": [
    "#Variable declaration\n",
    "from math import sqrt\n",
    "\n",
    "IDSS=10;                     #Shorted gate drain current, mA\n",
    "VGS_off=-3.5;                #Gate-source cut-off voltage, V\n",
    "RD=1.5;            #Drain resistance, kΩ\n",
    "RS=750;            #Source resistance, Ω\n",
    "\n",
    "\n",
    "#Calculation\n",
    "#From d.c biasing\n",
    "ID=2.3;                                     #Drain current, mA\n",
    "VGS=round(VGS_off*(1-sqrt(ID/IDSS)),1);              #Gate-source voltage, V\n",
    "gm=round(round((2*IDSS/abs(VGS_off)),1)*round((1-(VGS/VGS_off)),3),2);           #Transconductance, mS\n",
    "\n",
    "\n",
    "#(i)\n",
    "Av=gm*RD;                         #Voltage gain with RS resistor bypassed\n",
    "print(\"(i) Voltage gain with RS bypassed=%.3f.\"%Av);\n",
    "\n",
    "#(ii)\n",
    "Av=Av/(1+gm*(RS/1000.0));\n",
    "print(\"(ii) Voltage gain with RS unbypassed=%.2f.\"%Av);\n"
   ]
  },
  {
   "cell_type": "markdown",
   "metadata": {},
   "source": [
    "## Example 19.30 : Page number 539-540"
   ]
  },
  {
   "cell_type": "code",
   "execution_count": 31,
   "metadata": {
    "collapsed": false
   },
   "outputs": [
    {
     "name": "stdout",
     "output_type": "stream",
     "text": [
      "(i)  n-channel D-MOSFET\n",
      "(ii) Drain current=3.91mA\n",
      "(iii) Drain current=18.9mA\n"
     ]
    }
   ],
   "source": [
    "#Variable declaration\n",
    "IDSS=10.0;                     #Shorted gate drain current, mA\n",
    "VGS_off=-8.0;                  #Gate-source cut-off voltage, V\n",
    "\n",
    "#Calculation\n",
    "#(i)\n",
    "if(VGS_off<0):\n",
    "    print(\"(i)  n-channel D-MOSFET\");\n",
    "else:\n",
    "    print(\"(i)  p-channel D-MOSFET\");\n",
    "    \n",
    "\n",
    "#(ii)\n",
    "VGS=-3.0;                                #Gate-source voltage, V\n",
    "ID=IDSS*(1-(VGS/VGS_off))**2;          #Drain current mA\n",
    "print(\"(ii) Drain current=%.2fmA\"%ID);\n",
    "\n",
    "#(iii)\n",
    "VGS=3.0;                                #Gate-source voltage, V\n",
    "ID=IDSS*(1-(VGS/VGS_off))**2;          #Drain current mA\n",
    "print(\"(iii) Drain current=%.1fmA\"%ID);\n"
   ]
  },
  {
   "cell_type": "markdown",
   "metadata": {},
   "source": [
    "## Example 19.31 : Page number 540"
   ]
  },
  {
   "cell_type": "code",
   "execution_count": 32,
   "metadata": {
    "collapsed": false
   },
   "outputs": [
    {
     "name": "stdout",
     "output_type": "stream",
     "text": [
      "Point 1: VGS=0V and ID=1mA.\n",
      "Point 2: VGS=-6V and ID=0mA.\n",
      "Point 3: VGS=-3V and ID=0.25mA.\n",
      "Point 4: VGS=-1V and ID=0.694mA.\n",
      "Point 5: VGS=1V and ID=1.36mA.\n",
      "Point 6: VGS=3V and ID=2.25mA.\n"
     ]
    }
   ],
   "source": [
    "#Variable declaration\n",
    "IDSS=1.0;                     #Shorted gate drain current, mA\n",
    "VGS_off=-6.0;                  #Gate-source cut-off voltage, V\n",
    "\n",
    "\n",
    "#Calculation\n",
    "#Point 1\n",
    "VGS=0;                  #Gate source voltage, V               \n",
    "ID=IDSS;                #Drain current, mA\n",
    "print(\"Point 1: VGS=%dV and ID=%dmA.\"%(VGS,ID));\n",
    "\n",
    "#Point 2\n",
    "VGS=VGS_off;                  #Gate source voltage, V               \n",
    "ID=0;                        #Drain current, mA\n",
    "print(\"Point 2: VGS=%dV and ID=%dmA.\"%(VGS,ID));\n",
    "\n",
    "#locating more points by changing VG values\n",
    "VGS=-3;                  #Gate source voltage, V               \n",
    "ID=IDSS*(1-(VGS/VGS_off))**2;          #Drain current mA\n",
    "print(\"Point 3: VGS=%dV and ID=%.2fmA.\"%(VGS,ID));\n",
    "\n",
    "VGS=-1;                  #Gate source voltage, V               \n",
    "ID=IDSS*(1-(VGS/VGS_off))**2;          #Drain current mA\n",
    "print(\"Point 4: VGS=%dV and ID=%.3fmA.\"%(VGS,ID));\n",
    "\n",
    "VGS=1;                  #Gate source voltage, V               \n",
    "ID=IDSS*(1-(VGS/VGS_off))**2;          #Drain current mA\n",
    "print(\"Point 5: VGS=%dV and ID=%.2fmA.\"%(VGS,ID));\n",
    "\n",
    "VGS=3;                  #Gate source voltage, V               \n",
    "ID=IDSS*(1-(VGS/VGS_off))**2;          #Drain current mA\n",
    "print(\"Point 6: VGS=%dV and ID=%.2fmA.\"%(VGS,ID));"
   ]
  },
  {
   "cell_type": "markdown",
   "metadata": {},
   "source": [
    "## Example 19.32 : Page number 541"
   ]
  },
  {
   "cell_type": "code",
   "execution_count": 33,
   "metadata": {
    "collapsed": false
   },
   "outputs": [
    {
     "name": "stdout",
     "output_type": "stream",
     "text": [
      "Drain source voltage=10.6V.\n"
     ]
    }
   ],
   "source": [
    "#Variable declaration\n",
    "VDD=18;          #Drain supply voltage, V\n",
    "RD=620.0;           #Drain resistor, Ω\n",
    "IDSS=12.0;        #Shorted gate drain current, mA\n",
    "VGS_off=-8.0;      #Gate-source cut-off voltage, V\n",
    "\n",
    "\n",
    "#Calculation\n",
    "ID=IDSS;               #Drain current, mA\n",
    "VDS=VDD-IDSS*(RD/1000);       #Drain source voltage, V\n",
    "\n",
    "#Result\n",
    "print(\"Drain source voltage=%.1fV.\"%VDS);"
   ]
  },
  {
   "cell_type": "markdown",
   "metadata": {},
   "source": [
    "## Example 19.33 : Page number 542"
   ]
  },
  {
   "cell_type": "code",
   "execution_count": 34,
   "metadata": {
    "collapsed": false
   },
   "outputs": [
    {
     "name": "stdout",
     "output_type": "stream",
     "text": [
      "(i)  Drain source voltage=7.56V.\n",
      "(ii) Output voltage=922mV\n"
     ]
    }
   ],
   "source": [
    "#Variable declaration\n",
    "VDD=15;           #Drain supply voltage\n",
    "RD=620.0;          #Drain resistor, Ω\n",
    "RL=8.2;          #Load resistor, kΩ\n",
    "vin=500.0;         #Input voltage, V\n",
    "IDSS=12.0;        #Shorted gate drain current, mA\n",
    "gm=3.2;            #Transconductance, mS\n",
    "\n",
    "#Calculation\n",
    "#(i)\n",
    "VDS=VDD-IDSS*(RD/1000.0);       #Drain source voltage, V\n",
    "\n",
    "#(ii)\n",
    "RAC=RD*RL*1000/(RD+RL*1000);  #Total a.c drain resistace, Ω\n",
    "vout=(gm/1000.0)*RAC*vin;     #Output voltage, V\n",
    "\n",
    "#Result\n",
    "print(\"(i)  Drain source voltage=%.2fV.\"%VDS);\n",
    "print(\"(ii) Output voltage=%dmV\"%vout);"
   ]
  },
  {
   "cell_type": "markdown",
   "metadata": {},
   "source": [
    "## Example 19.34 : Page number 545"
   ]
  },
  {
   "cell_type": "code",
   "execution_count": 35,
   "metadata": {
    "collapsed": false
   },
   "outputs": [
    {
     "name": "stdout",
     "output_type": "stream",
     "text": [
      "Drain current=98.7mA\n"
     ]
    }
   ],
   "source": [
    "#Variable declaration\n",
    "ID_on=500.0;             #Drain current for MOSFET ON, mA\n",
    "VGS_on=10.0;             #Gate-source voltage for MOSFET ON, V\n",
    "VGS_th=1.0;              #Threshold value of gate-source voltage, V\n",
    "VGS=5;                 #Gate-source voltage, V\n",
    "\n",
    "#Calculation\n",
    "K=round(ID_on/(VGS_on-VGS_th)**2,2);   #Constant for a E-MOSFET, mA/V²\n",
    "ID=K*(VGS-VGS_th)**2;                  #Drain current, mA\n",
    "\n",
    "#Result\n",
    "print(\"Drain current=%.1fmA\"%ID);\n"
   ]
  },
  {
   "cell_type": "markdown",
   "metadata": {},
   "source": [
    "## Example 19.35 : Page number 545"
   ]
  },
  {
   "cell_type": "code",
   "execution_count": 36,
   "metadata": {
    "collapsed": false
   },
   "outputs": [
    {
     "name": "stdout",
     "output_type": "stream",
     "text": [
      "K=0.061e-03A/V².\n",
      "For VGS=5V, Drain current=0.244mA\n",
      "For VGS=8V, Drain current=1.525mA\n",
      "For VGS=10V, Drain current=2mA\n",
      "For VGS=12V, Drain current=4.94mA\n"
     ]
    }
   ],
   "source": [
    "#Variable declaration\n",
    "ID_on=3.0;             #Drain current for MOSFET ON, mA\n",
    "VGS_on=10.0;             #Gate-source voltage for MOSFET ON, V\n",
    "VGS_th=3.0;              #Threshold value of gate-source voltage, V\n",
    "\n",
    "#Calculation\n",
    "K=round((ID_on/(VGS_on-VGS_th)**2),3);   #Constant for a E-MOSFET, mA/V²\n",
    "print(\"K=%.3fe-03A/V².\"%K);\n",
    "\n",
    "#Determining different points for plotting\n",
    "VGS=5;                                 #Gate-source voltage, V\n",
    "ID=K*(VGS-VGS_th)**2;                  #Drain current, mA\n",
    "print(\"For VGS=5V, Drain current=%.3fmA\"%ID);\n",
    "VGS=8;                                 #Gate-source voltage, V\n",
    "ID=K*(VGS-VGS_th)**2;                  #Drain current, mA\n",
    "print(\"For VGS=8V, Drain current=%.3fmA\"%ID);\n",
    "VGS=10;                                 #Gate-source voltage, V\n",
    "ID=K*(VGS-VGS_th)**2;                  #Drain current, mA\n",
    "print(\"For VGS=10V, Drain current=%.dmA\"%ID);\n",
    "VGS=12;                                 #Gate-source voltage, V\n",
    "ID=K*(VGS-VGS_th)**2;                  #Drain current, mA\n",
    "print(\"For VGS=12V, Drain current=%.2fmA\"%ID);\n"
   ]
  },
  {
   "cell_type": "markdown",
   "metadata": {},
   "source": [
    "## Example 19.36 : Page number 546-547"
   ]
  },
  {
   "cell_type": "code",
   "execution_count": 37,
   "metadata": {
    "collapsed": false
   },
   "outputs": [
    {
     "name": "stdout",
     "output_type": "stream",
     "text": [
      "Drain-source voltage=10.8V.\n"
     ]
    }
   ],
   "source": [
    "#Variable declaration\n",
    "VDD=24.0;             #Drain supply voltage, V\n",
    "RD=470.0;             #Drain resistor, Ω\n",
    "R1=100.0;             #Resistor R1, kΩ\n",
    "R2=15.0;              #Resistor R2, kΩ\n",
    "ID_on=500.0;             #Drain current for MOSFET ON, mA\n",
    "VGS_on=10.0;             #Gate-source voltage for MOSFET ON, V\n",
    "VGS_th=1.0;              #Threshold value of gate-source voltage, V\n",
    "\n",
    "\n",
    "#Calculation\n",
    "VGS=VDD*R2/(R1+R2);                      #Gate-source voltage, V (Voltage divider rule)\n",
    "K=round((ID_on/(VGS_on-VGS_th)**2),2);   #Constant for a E-MOSFET, mA/V²\n",
    "ID=K*(VGS-VGS_th)**2;                    #Drain current, mA\n",
    "VDS=VDD-(ID/1000)*RD;                           #Drain-source voltage, V\n",
    "\n",
    "#Result\n",
    "print(\"Drain-source voltage=%.1fV.\"%VDS);\n",
    "\n"
   ]
  },
  {
   "cell_type": "markdown",
   "metadata": {},
   "source": [
    "## Example 19.37 : Page number 547"
   ]
  },
  {
   "cell_type": "code",
   "execution_count": 38,
   "metadata": {
    "collapsed": false
   },
   "outputs": [
    {
     "name": "stdout",
     "output_type": "stream",
     "text": [
      "Drain current=10mA.\n",
      "Drain-source voltage=10V.\n"
     ]
    }
   ],
   "source": [
    "#Variable declaration\n",
    "VDD=20.0;             #Drain supply voltage, V\n",
    "RD=1.0;               #Drain resistor, kΩ\n",
    "RG=5.0;               #Gate resistor , MΩ\n",
    "ID_on=10.0;             #Drain current for MOSFET ON, mA\n",
    "\n",
    "#Calculation\n",
    "#since, VGS=VDS\n",
    "ID=ID_on;              #Drain current, mA\n",
    "VDS=VDD-ID*RD;         #Drain-source voltage, V\n",
    "\n",
    "#Result\n",
    "print(\"Drain current=%dmA.\"%ID);\n",
    "print(\"Drain-source voltage=%dV.\"%VDS);\n"
   ]
  },
  {
   "cell_type": "markdown",
   "metadata": {},
   "source": [
    "## Example 19.38 : Page number 547-548"
   ]
  },
  {
   "cell_type": "code",
   "execution_count": 39,
   "metadata": {
    "collapsed": false
   },
   "outputs": [
    {
     "name": "stdout",
     "output_type": "stream",
     "text": [
      "Drain current=1.69mA.\n"
     ]
    }
   ],
   "source": [
    "#Variable declaration\n",
    "VDD=10.0;             #Drain supply voltage, V\n",
    "RD=3.0;             #Drain resistor, kΩ\n",
    "R1=1.0;             #Resistor R1, MΩ\n",
    "R2=1.0;              #Resistor R2, MΩ\n",
    "ID_on=10.0;             #Drain current for MOSFET ON, mA\n",
    "VGS_on=10.0;             #Gate-source voltage for MOSFET ON, V\n",
    "VGS_th=1.5;              #Threshold value of gate-source voltage, V\n",
    "\n",
    "#Calculation\n",
    "K=round((ID_on/(VGS_on-VGS_th)**2),3);   #Constant for a E-MOSFET, mA/V²\n",
    "VGS=VDD*R2/(R1+R2);                      #Gate-source voltage, V (Voltage divider rule)\n",
    "ID=K*(VGS-VGS_th)**2;                    #Drain current, mA\n",
    "\n",
    "#Result\n",
    "print(\"Drain current=%.2fmA.\"%ID);\n"
   ]
  },
  {
   "cell_type": "code",
   "execution_count": null,
   "metadata": {
    "collapsed": true
   },
   "outputs": [],
   "source": []
  }
 ],
 "metadata": {
  "kernelspec": {
   "display_name": "Python 3",
   "language": "python",
   "name": "python3"
  },
  "language_info": {
   "codemirror_mode": {
    "name": "ipython",
    "version": 3
   },
   "file_extension": ".py",
   "mimetype": "text/x-python",
   "name": "python",
   "nbconvert_exporter": "python",
   "pygments_lexer": "ipython3",
   "version": "3.5.1"
  },
  "widgets": {
   "state": {},
   "version": "1.1.2"
  }
 },
 "nbformat": 4,
 "nbformat_minor": 0
}
