{
 "metadata": {
  "name": "",
  "signature": "sha256:28fc7922ba91eac91816a02729f8986381706b8cffd1eaa9d68ce0cf435191aa"
 },
 "nbformat": 3,
 "nbformat_minor": 0,
 "worksheets": [
  {
   "cells": [
    {
     "cell_type": "heading",
     "level": 1,
     "metadata": {},
     "source": [
      "Chapter 5, Making Decisions in C"
     ]
    },
    {
     "cell_type": "heading",
     "level": 2,
     "metadata": {},
     "source": [
      "Program 5-2 , Page number: 65"
     ]
    },
    {
     "cell_type": "code",
     "collapsed": false,
     "input": [
      "# Using If command\n",
      "\n",
      "print \"Enter a positive integer under 10: \",\n",
      "n = 7\n",
      "print n\n",
      "\n",
      "if n == 7 :\t\t\t\t\t# In this case it is 7\n",
      "\tprint \"I knew you'd select 7!\"\n",
      "print \"Thank you for your cooperation.\""
     ],
     "language": "python",
     "metadata": {},
     "outputs": [
      {
       "output_type": "stream",
       "stream": "stdout",
       "text": [
        "Enter a positive integer under 10:  7\n",
        "I knew you'd select 7!\n",
        "Thank you for your cooperation.\n"
       ]
      }
     ],
     "prompt_number": 1
    },
    {
     "cell_type": "heading",
     "level": 2,
     "metadata": {},
     "source": [
      "Program 5-3 , Page number: 67"
     ]
    },
    {
     "cell_type": "code",
     "collapsed": false,
     "input": [
      "# Testing for leap years\n",
      "\n",
      "print \"Please enter a year:\",\n",
      "year = 1948\t\t\n",
      "print year\n",
      "# If \"year\" is divisble by 4 and not divisible by 100 or divisible by 400, \"year\" is a leap year\n",
      "\n",
      "if (year % 4 == 0 and year % 100 != 0) or (year % 400 == 0) :\n",
      "\tprint \"%d is a leap year.\"%year\n",
      "else :\n",
      "\tprint \"%d is not a leap year.\"%year"
     ],
     "language": "python",
     "metadata": {},
     "outputs": [
      {
       "output_type": "stream",
       "stream": "stdout",
       "text": [
        "Please enter a year: 1948\n",
        "1948 is a leap year.\n"
       ]
      }
     ],
     "prompt_number": 2
    },
    {
     "cell_type": "heading",
     "level": 2,
     "metadata": {},
     "source": [
      "Program 5-4 , Page number: 69"
     ]
    },
    {
     "cell_type": "code",
     "collapsed": false,
     "input": [
      "# Illustration of if...else clause\n",
      "# Program to tell if a number is odd or even\n",
      "\n",
      "print \"Please enter an integer:\",\n",
      "n = 13\n",
      "print n\n",
      "\n",
      "# A number is even if it is divisible by 2\n",
      "\n",
      "if n % 2 != 0:\n",
      "\tprint \"%d is odd\"%n\n",
      "else:\n",
      "\tprint \"%d is even\"%n"
     ],
     "language": "python",
     "metadata": {},
     "outputs": [
      {
       "output_type": "stream",
       "stream": "stdout",
       "text": [
        "Please enter an integer: 13\n",
        "13 is odd\n"
       ]
      }
     ],
     "prompt_number": 3
    },
    {
     "cell_type": "heading",
     "level": 2,
     "metadata": {},
     "source": [
      "Program 5-5 , Page number: 70"
     ]
    },
    {
     "cell_type": "code",
     "collapsed": false,
     "input": [
      "# Testing if a number is divisible by 7\n",
      "\n",
      "print \"Enter an integer:\",\n",
      "n = 13\n",
      "print n\n",
      "\n",
      "# A number is even if it is divisible by 2\n",
      "\n",
      "if n % 7 == 0:\n",
      "\tprint \"%d is divisible by 7\"%n\n",
      "else:\n",
      "\tprint \"%d is not divisible by 7\"%n"
     ],
     "language": "python",
     "metadata": {},
     "outputs": [
      {
       "output_type": "stream",
       "stream": "stdout",
       "text": [
        "Enter an integer: 13\n",
        "13 is not divisible by 7\n"
       ]
      }
     ],
     "prompt_number": 4
    },
    {
     "cell_type": "heading",
     "level": 2,
     "metadata": {},
     "source": [
      "Program 5-6 , Page number: 71"
     ]
    },
    {
     "cell_type": "code",
     "collapsed": false,
     "input": [
      "# Determining which of 2 numbers is larger\n",
      "\n",
      "print \"Enter an integer:\",\n",
      "a = 4\n",
      "print a\n",
      "print \"Enter another integer: \",\n",
      "b = 7\n",
      "print b\n",
      "\n",
      "if a > b :\n",
      "\tprint \"%d is greater than %d.\"%(a,b)\n",
      "else:\n",
      "\tprint \"%d is smaller than %d.\"%(a,b)"
     ],
     "language": "python",
     "metadata": {},
     "outputs": [
      {
       "output_type": "stream",
       "stream": "stdout",
       "text": [
        "Enter an integer: 4\n",
        "Enter another integer:  7\n",
        "4 is smaller than 7.\n"
       ]
      }
     ],
     "prompt_number": 5
    }
   ],
   "metadata": {}
  }
 ]
}