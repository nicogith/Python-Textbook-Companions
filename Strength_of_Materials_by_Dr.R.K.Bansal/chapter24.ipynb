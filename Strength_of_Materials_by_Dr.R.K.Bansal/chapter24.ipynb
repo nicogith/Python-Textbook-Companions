{
 "metadata": {
  "name": "",
  "signature": "sha256:087506e84c2c9ece60ca0c23e6e5e2f5e309357e67157657330423d5e748517d"
 },
 "nbformat": 3,
 "nbformat_minor": 0,
 "worksheets": [
  {
   "cells": [
    {
     "cell_type": "heading",
     "level": 1,
     "metadata": {},
     "source": [
      "Chapter 24 :Theories of Failure"
     ]
    },
    {
     "cell_type": "heading",
     "level": 2,
     "metadata": {},
     "source": [
      "Problem 24.10,page no.1019"
     ]
    },
    {
     "cell_type": "code",
     "collapsed": false,
     "input": [
      "from __future__ import division\n",
      "import math\n",
      "\n",
      "#Given\n",
      "#Variable declaration\n",
      "P=9*1000                   #Axial pull in N\n",
      "F=4.5*1000                 #Shear force in N  \n",
      "sigmat_star=225            #Elastic limit in tension in N/sq.mm\n",
      "Sf=3                       #Factor of safety \n",
      "mu=0.3                     #Poisson's ratio \n",
      "sigma3=0                   #third principle stress\n",
      "\n",
      "#Calculation\n",
      "sigmat=sigmat_star/Sf             \n",
      "sigma=(P/(math.pi/4))\n",
      "tau=float(str(F/(math.pi/4))[:6])\n",
      "sigma1=float(str((tau)+int(round(math.sqrt((sigma/2)**2+tau**2),0)))[:7])\n",
      "sigma2=float(str((tau)-int(round(math.sqrt((sigma/2)**2+tau**2),0)))[:8])\n",
      "d=round(((((sigma1-sigma2)**2+(sigma2-sigma3)**2+(sigma3-sigma1)**2)/(2*(sigmat**2)))**(1/4)),3)  \n",
      "\n",
      "#Result\n",
      "print\"Diameter of the bolt =\",d,\"mm\"\n"
     ],
     "language": "python",
     "metadata": {},
     "outputs": [
      {
       "output_type": "stream",
       "stream": "stdout",
       "text": [
        "Diameter of the bolt = 14.217 mm\n"
       ]
      }
     ],
     "prompt_number": 1
    },
    {
     "cell_type": "heading",
     "level": 2,
     "metadata": {},
     "source": [
      "Problem 24.12,page no.1027"
     ]
    },
    {
     "cell_type": "code",
     "collapsed": false,
     "input": [
      "from __future__ import division\n",
      "import math\n",
      "#Given\n",
      "#Variable declaration\n",
      "d=1.2               #Diameter in m\n",
      "p=1.5               #Internal pressure in MN/sq.m\n",
      "sigmat_star=200     #Yield stress in MN/sq.m\n",
      "Sf=3                #Factor of safety\n",
      "\n",
      "#Calculation\n",
      "sigmat=sigmat_star/Sf    #Permissible stress in simple tension in MN/sq.m\n",
      "\n",
      "#case(i):Thickness on the basis of Maximum principal stress theory\n",
      "t1=((p*d)/2)/sigmat*1e3\n",
      "\n",
      "#case(ii):Thickness on the basis of Maximum shear stress theory\n",
      "t2=((p*d)/2)/sigmat*1e3\n",
      "\n",
      "#case(iii):Thickness on the basis of Maximum shear strain energy theory\n",
      "t3=round(math.sqrt((((p*d/2)**2)+((p*d/4)**2)-((p*d/2)*(p*d/4)))/(sigmat**2)),4)\n",
      "\n",
      "#Result\n",
      "print \"Thickness of plate on the basis of maximum principal stress theory =\",\"%.1fmm\"%t1\n",
      "print \"Thickness of plate on the basis of maximum shear stress theory =\",\"%.1fmm\"%t2\n",
      "print \"Thickness of plate on the basis of maximum shear strain energy theory =\",\"%.4fmm\"%t3"
     ],
     "language": "python",
     "metadata": {},
     "outputs": [
      {
       "output_type": "stream",
       "stream": "stdout",
       "text": [
        "Thickness of plate on the basis of maximum principal stress theory = 13.5mm\n",
        "Thickness of plate on the basis of maximum shear stress theory = 13.5mm\n",
        "Thickness of plate on the basis of maximum shear strain energy theory = 0.0117mm\n"
       ]
      }
     ],
     "prompt_number": 2
    },
    {
     "cell_type": "code",
     "collapsed": false,
     "input": [],
     "language": "python",
     "metadata": {},
     "outputs": []
    }
   ],
   "metadata": {}
  }
 ]
}