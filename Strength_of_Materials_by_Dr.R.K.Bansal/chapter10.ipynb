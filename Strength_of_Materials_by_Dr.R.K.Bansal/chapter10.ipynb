{
 "metadata": {
  "name": "",
  "signature": "sha256:eb79edf44fe3869f7971ad4e31d339c536c40824da513e054e2534b46f2f0fbe"
 },
 "nbformat": 3,
 "nbformat_minor": 0,
 "worksheets": [
  {
   "cells": [
    {
     "cell_type": "heading",
     "level": 1,
     "metadata": {},
     "source": [
      "Chapter 10:Dams and Retaining Walls"
     ]
    },
    {
     "cell_type": "heading",
     "level": 2,
     "metadata": {},
     "source": [
      "Problem 10.19,page no.459"
     ]
    },
    {
     "cell_type": "code",
     "collapsed": false,
     "input": [
      "from __future__ import division\n",
      "import math\n",
      "#Given\n",
      "#Variable declaration\n",
      "h=20              #height in m\n",
      "D=4               #External diameter in m\n",
      "d=2               #Internal diameter in m\n",
      "p=1               #Horizontal wind pressure in kN/sq.m\n",
      "w=22              #specific weight in kN/m^3            \n",
      "K=2/3             #Co-efficient of wind resistance\n",
      "\n",
      "#Calculation\n",
      "A1=(math.pi/4)*(D**2-d**2)           #Area of cross-section\n",
      "W=w*A1*h                             #Weigth of the chimney in kN\n",
      "sigma0=W/A1                          #Direct stress in kN/sq.mm\n",
      "A2=D*h                               #Projected area of the surface exposed to wind in sq.m\n",
      "F=K*p*A2                             #Wind Force in kN\n",
      "M=F*h/2                              #Bending moment in kNm\n",
      "I=(math.pi/64)*(D**4-d**4)           #Moment of inertia\n",
      "y=D/2                                #Distance between C.G. of the base section and extreme edge of the base\n",
      "Z=I/y                                #Section modulus\n",
      "sigmab=M/Z                           #Bending stress                                                                                                                                                                                                                                                                                                                                                                                                                                                                                                                                                                                                                                                                                                                                                                                                                                                                                                                                                                                                                                                                                                                                                                                                                                                                                             \n",
      "sigma_max=round(sigma0+sigmab,2)     #Maximum stress in kN/sq.m\n",
      "sigma_min=round(sigma0-sigmab,2)     #Minimum stress in kN/sq.m\n",
      "\n",
      "#Result\n",
      "print\"Maximum stress =\",sigma_max,\"kN/m^2\"\n",
      "print\"Minimum stress =\",sigma_min,\"kN/m^2\"\n"
     ],
     "language": "python",
     "metadata": {},
     "outputs": [
      {
       "output_type": "stream",
       "stream": "stdout",
       "text": [
        "Maximum stress = 530.54 kN/m^2\n",
        "Minimum stress = 349.46 kN/m^2\n"
       ]
      }
     ],
     "prompt_number": 3
    },
    {
     "cell_type": "code",
     "collapsed": false,
     "input": [],
     "language": "python",
     "metadata": {},
     "outputs": []
    }
   ],
   "metadata": {}
  }
 ]
}