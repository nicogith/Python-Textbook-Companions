{
 "metadata": {
  "name": "",
  "signature": "sha256:5150ceeff814b37f327edfa239de19ec011af3bd135e00c577336409efc3a800"
 },
 "nbformat": 3,
 "nbformat_minor": 0,
 "worksheets": [
  {
   "cells": [
    {
     "cell_type": "heading",
     "level": 1,
     "metadata": {},
     "source": [
      "Chapter 16:Torsion of Shafts and Springs"
     ]
    },
    {
     "cell_type": "heading",
     "level": 2,
     "metadata": {},
     "source": [
      "Problem 16.1,page no.675"
     ]
    },
    {
     "cell_type": "code",
     "collapsed": false,
     "input": [
      "import math\n",
      "#Given\n",
      "#Variable declaration\n",
      "D=150                  #Diameter of the shaft in mm\n",
      "tau=45                 #Maximum shear stress in N/sq.mm\n",
      "\n",
      "#Calculation\n",
      "T=int(math.pi/16*tau*D**3)*1e-3  #Maximum torque transmitted by the shaft in N-m\n",
      "\n",
      "#Result\n",
      "print \"Maximum torque =\",T,\"N-m\""
     ],
     "language": "python",
     "metadata": {},
     "outputs": [
      {
       "output_type": "stream",
       "stream": "stdout",
       "text": [
        "Maximum torque = 29820.586 N-m\n"
       ]
      }
     ],
     "prompt_number": 1
    },
    {
     "cell_type": "heading",
     "level": 2,
     "metadata": {},
     "source": [
      "Problem 16.3,page no.677"
     ]
    },
    {
     "cell_type": "code",
     "collapsed": false,
     "input": [
      "import math\n",
      "\n",
      "#Given\n",
      "#Variable declaration\n",
      "Do=200     #Outer diameter in mm\n",
      "Di=100     #Inner diameter in mm\n",
      "tau=40     #Maximum shear stress in N/sq.mm\n",
      "\n",
      "#Calculation\n",
      "T=int(round((math.pi)/16*tau*((Do**4-Di**4)/Do),-1))*1e-3 #Maximum torque transmitted by the shaft in Nm\n",
      "\n",
      "#Result\n",
      "print \"Maximum torque transmitted by the shaft =\",T,\"Nm\""
     ],
     "language": "python",
     "metadata": {},
     "outputs": [
      {
       "output_type": "stream",
       "stream": "stdout",
       "text": [
        "Maximum torque transmitted by the shaft = 58904.86 Nm\n"
       ]
      }
     ],
     "prompt_number": 2
    },
    {
     "cell_type": "heading",
     "level": 2,
     "metadata": {},
     "source": [
      "Problem 16.7,page no.682"
     ]
    },
    {
     "cell_type": "code",
     "collapsed": false,
     "input": [
      "from __future__ import division\n",
      "import math\n",
      "\n",
      "#Given\n",
      "#Variable declaration\n",
      "Do=120          #External diameter in mm\n",
      "P=300*1000      #Power in W\n",
      "N=200           #Speed in r.p.m\n",
      "tau=60          #Maximum shear stress in N/sq.mm\n",
      "\n",
      "#Calculation\n",
      "T=round((P*60)/(2*math.pi*N),1)*1e3                         #Torque transmitted in Nmm   \n",
      "Di=round(((Do**4)-((T*16*Do)/(math.pi*tau)))**(1/4),1)      #Maximum internal diameter in mm\n",
      "\n",
      "#Result\n",
      "print \"Maximum Internal diameter =\",Di,\"mm\""
     ],
     "language": "python",
     "metadata": {},
     "outputs": [
      {
       "output_type": "stream",
       "stream": "stdout",
       "text": [
        "Maximum Internal diameter = 88.5 mm\n"
       ]
      }
     ],
     "prompt_number": 4
    },
    {
     "cell_type": "heading",
     "level": 2,
     "metadata": {},
     "source": [
      "Problem 16.8,page no.683"
     ]
    },
    {
     "cell_type": "code",
     "collapsed": false,
     "input": [
      "import math\n",
      "#Given\n",
      "#Variable declaration\n",
      "D=15*10        #Diameter of shaft in mm\n",
      "P=150*1e3      #Power transmitted in W\n",
      "N=180          #Speed of shaft in r.p.m\n",
      "\n",
      "#Calculation\n",
      "T=(P*60)/(2*math.pi*N)*1e3        #Torque transmitted in Nmm\n",
      "tau=int((16*T)/(math.pi*D**3))    #Maximum shear stress in N/sq.mm\n",
      "\n",
      "#Result\n",
      "print \"Maximum shear stress =\",tau,\"N/mm^2\""
     ],
     "language": "python",
     "metadata": {},
     "outputs": [
      {
       "output_type": "stream",
       "stream": "stdout",
       "text": [
        "Maximum shear stress = 12 N/mm^2\n"
       ]
      }
     ],
     "prompt_number": 4
    },
    {
     "cell_type": "heading",
     "level": 2,
     "metadata": {},
     "source": [
      "Problem 16.9,page no.683"
     ]
    },
    {
     "cell_type": "code",
     "collapsed": false,
     "input": [
      "from __future__ import division\n",
      "import math\n",
      "#Given\n",
      "#Variable declaration\n",
      "P=300*1000      #Power in W\n",
      "N=100           #Speed in r.p.m\n",
      "tau=80          #Maximum shear stress in N/sq.mm\n",
      "\n",
      "#Calculation\n",
      "#case(a):\n",
      "T=(P*60)/(2*math.pi*N)*1e3                              #Torque transmitted in Nmm\n",
      "D=round(((16*T)/(math.pi*tau))**(1/3),0)                #Diameter of solid shaft in mm\n",
      "#case(b):\n",
      "Do=round(((T*16)/(math.pi*tau*(1-0.6**4)))**(1/3),0)    #External diameter of hollow shaft in mm\n",
      "Di=0.6*Do                                               #Internal diameter of hollow shaft in mm\n",
      "Per=(D**2-(Do**2-Di**2))/(D**2)*100                     #Percentage saving in weight\n",
      "\n",
      "#Result\n",
      "print \"Diameter of solid shaft =\",D,\"mm\"\n",
      "print \"Percentage saving in weight = %.2f%%\"%Per"
     ],
     "language": "python",
     "metadata": {},
     "outputs": [
      {
       "output_type": "stream",
       "stream": "stdout",
       "text": [
        "Diameter of solid shaft = 122.0 mm\n",
        "Percentage saving in weight = 29.55%\n"
       ]
      }
     ],
     "prompt_number": 5
    },
    {
     "cell_type": "heading",
     "level": 2,
     "metadata": {},
     "source": [
      "Problem 16.10,page no.685"
     ]
    },
    {
     "cell_type": "code",
     "collapsed": false,
     "input": [
      "import math\n",
      "#Given\n",
      "#Variable declaration\n",
      "P=75e3      #Power transmitted in W\n",
      "N=200       #R.P.M of the shaft \n",
      "tau=70      #Shear stress in N/sq.mm\n",
      "\n",
      "#Calculation\n",
      "T=P*60/(math.pi*2*N)*1e3                        #Mean Torque transmitted in Nmm\n",
      "Tmax=1.3*T                                      #Maximum Torque transmitted in Nmm\n",
      "D=round((16*Tmax/(math.pi*tau))**(1/3),0)       #Suitable diameter of the shaft in mm\n",
      "\n",
      "#Result\n",
      "print \"Diameter of the shaft = %d mm\"%D"
     ],
     "language": "python",
     "metadata": {},
     "outputs": [
      {
       "output_type": "stream",
       "stream": "stdout",
       "text": [
        "Diameter of the shaft = 70 mm\n"
       ]
      }
     ],
     "prompt_number": 6
    },
    {
     "cell_type": "heading",
     "level": 2,
     "metadata": {},
     "source": [
      "Problem 16.11,page no.685"
     ]
    },
    {
     "cell_type": "code",
     "collapsed": false,
     "input": [
      "import math\n",
      "#Given\n",
      "#Variable declaration\n",
      "P=300e3     #Power transmitted in W\n",
      "N=80        #speed of the shaft in r.p.m\n",
      "tau=60      #Maximum shear stress in N/sq.mm\n",
      "\n",
      "#Calculation\n",
      "T=P*60/(math.pi*2*N)*1e3                                 #Mean Torque transmitted in Nmm\n",
      "Tmax=1.4*T                                               #Maximum Torque transmitted in Nmm\n",
      "D=round((16*Tmax/(math.pi*tau))**(1/3),0)                #Suitable diameter of the shaft in mm\n",
      "Do=round(((Tmax*16)/(math.pi*tau*(1-0.6**4)))**(1/3),0)  #External diameter of hollow shaft in mm\n",
      "Di=0.6*Do                                                #Internal diameter of hollow shaft in mm\n",
      "\n",
      "#Result\n",
      "print \"External diameter of hollow shaft = %d mm\"%Do\n",
      "print \"Internal diameter of hollow shaft = %d mm\"%Di"
     ],
     "language": "python",
     "metadata": {},
     "outputs": [
      {
       "output_type": "stream",
       "stream": "stdout",
       "text": [
        "External diameter of hollow shaft = 170 mm\n",
        "Internal diameter of hollow shaft = 102 mm\n"
       ]
      }
     ],
     "prompt_number": 7
    },
    {
     "cell_type": "code",
     "collapsed": false,
     "input": [],
     "language": "python",
     "metadata": {},
     "outputs": []
    }
   ],
   "metadata": {}
  }
 ]
}