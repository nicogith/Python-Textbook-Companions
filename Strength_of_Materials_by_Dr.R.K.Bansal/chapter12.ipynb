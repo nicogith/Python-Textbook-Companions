{
 "metadata": {
  "name": "",
  "signature": "sha256:ced402d1abd8ee6656b1d5779752e65300ae4ab42f06bdc7c60dba927fb54a5a"
 },
 "nbformat": 3,
 "nbformat_minor": 0,
 "worksheets": [
  {
   "cells": [
    {
     "cell_type": "heading",
     "level": 1,
     "metadata": {},
     "source": [
      "Chapter 12:Deflection of Beams"
     ]
    },
    {
     "cell_type": "heading",
     "level": 2,
     "metadata": {},
     "source": [
      "Problem 12.1,page no.518"
     ]
    },
    {
     "cell_type": "code",
     "collapsed": false,
     "input": [
      "import math\n",
      "\n",
      "#Given\n",
      "#Variable declaration\n",
      "L=6*1000        #Length in mm\n",
      "W=50*1000       #Point load in N\n",
      "I=78e6          #Moment of Inertia in mm^4\n",
      "E=2.1e5         #Young's modulus in N/sq.mm\n",
      "\n",
      "#Calculation\n",
      "yc=round((W*L**3)/(48*E*I),3)                      #The deflection at the centre in mm\n",
      "thetaB=round(math.degrees((W*L**2)/(16*E*I)),4)    #The slope at the supports\n",
      "\n",
      "#Result\n",
      "print \"Deflection at the centre =\",yc,\"mm\"\n",
      "print \"NOTE:The answer given for slope at the support is wrong.The correct answer is,\"\n",
      "print \"Slope at the support =\",thetaB,\"degree\"\n"
     ],
     "language": "python",
     "metadata": {},
     "outputs": [
      {
       "output_type": "stream",
       "stream": "stdout",
       "text": [
        "Deflection at the centre = 13.736 mm\n",
        "NOTE:The answer given for slope at the support is wrong.The correct answer is,\n",
        "Slope at the support = 0.3935 degree\n"
       ]
      }
     ],
     "prompt_number": 2
    },
    {
     "cell_type": "heading",
     "level": 2,
     "metadata": {},
     "source": [
      "Problem 12.2,page no.518"
     ]
    },
    {
     "cell_type": "code",
     "collapsed": false,
     "input": [
      "import math\n",
      "\n",
      "#Given\n",
      "#Variable declaration\n",
      "L=4*1000              #Length in mm\n",
      "\n",
      "#Calculation\n",
      "thetaA=round(math.radians(1),5)    #Slope at the ends in radians\n",
      "yc=float(str(thetaA*(L/3))[:5])    #Deflection at the centre in mm\n",
      "\n",
      "#Result\n",
      "print \"Deflection at the centre =\",yc,\"mm\"\n"
     ],
     "language": "python",
     "metadata": {},
     "outputs": [
      {
       "output_type": "stream",
       "stream": "stdout",
       "text": [
        "Deflection at the centre = 23.26 mm\n"
       ]
      }
     ],
     "prompt_number": 2
    },
    {
     "cell_type": "heading",
     "level": 2,
     "metadata": {},
     "source": [
      "Problem 12.3,page no.519"
     ]
    },
    {
     "cell_type": "code",
     "collapsed": false,
     "input": [
      "import math\n",
      "\n",
      "#Given\n",
      "#Variable declaration\n",
      "L=3*1000              #Length in mm\n",
      "\n",
      "#Calculation\n",
      "thetaA=round(math.radians(1),5)    #Slope at the ends in radians\n",
      "yc=float(str(thetaA*(L/3))[:5])    #Deflection at the centre in mm\n",
      "\n",
      "#Result\n",
      "print \"Deflection at the centre =\",yc,\"mm\"\n"
     ],
     "language": "python",
     "metadata": {},
     "outputs": [
      {
       "output_type": "stream",
       "stream": "stdout",
       "text": [
        "Deflection at the centre = 17.45 mm\n"
       ]
      }
     ],
     "prompt_number": 1
    },
    {
     "cell_type": "heading",
     "level": 2,
     "metadata": {},
     "source": [
      "Problem 12.4,page no.526"
     ]
    },
    {
     "cell_type": "code",
     "collapsed": false,
     "input": [
      "import math\n",
      "\n",
      "#Given\n",
      "#Variable declaration\n",
      "L=5*1000        #Length in mm\n",
      "W=5*1000        #Point load in N\n",
      "a=3*1000        #Distance between point load and left end in mm\n",
      "E=2e5           #Young's modulus in N/sq.mm\n",
      "I=1e8           #Moment of Inertia in mm^4\n",
      "\n",
      "#Calculation\n",
      "b=L-a           #Width in mm\n",
      "#case(i):The slope at the left support\n",
      "thetaA=-(W*a*b)/(6*E*I*L)*(a+2*b)\n",
      "#case(iii): The deflection under the load\n",
      "yc=(W*a**2*b**2)/(3*E*I*L)\n",
      "#case(iii):The maximum deflection\n",
      "y_max=round((W*b)/(9*math.sqrt(3)*E*I*L)*(((a**2)+(2*a*b))**(3/2)),4)\n",
      "\n",
      "#Result\n",
      "print\"slope at the left support =\",thetaA,\"radians\"\n",
      "print\"Deflection under the load =\",yc,\"mm\"\n",
      "print\"Maximum deflection =\",y_max,\"mm\""
     ],
     "language": "python",
     "metadata": {},
     "outputs": [
      {
       "output_type": "stream",
       "stream": "stdout",
       "text": [
        "slope at the left support = -0.00035 radians\n",
        "Deflection under the load = 0.6 mm\n",
        "Maximum deflection = 0.6173 mm\n"
       ]
      }
     ],
     "prompt_number": 6
    },
    {
     "cell_type": "heading",
     "level": 2,
     "metadata": {},
     "source": [
      "Problem 12.5,page no,529"
     ]
    },
    {
     "cell_type": "code",
     "collapsed": false,
     "input": [
      "from __future__ import division\n",
      "import math\n",
      "\n",
      "#Given\n",
      "#Variable declaration\n",
      "b=200                #Width in mm\n",
      "d=300                #Depth in mm\n",
      "L=5*1000             #Span in mm\n",
      "L_star=5             #Span in m\n",
      "w=9*1000             #Uniformly distributed load in N/m            \n",
      "E=1e4                #Young's modulus in N/sq.mm\n",
      "\n",
      "#Calculation\n",
      "W=w*L_star                                 #Total load in N\n",
      "I=b*d**3/12                                #Moment of Inertia in mm^4\n",
      "\n",
      "#case(i):the slope at the support\n",
      "thetaA=round(-(W*(L**2))/(24*E*I),4)\n",
      "\n",
      "#case(ii):maximum deflection\n",
      "yc=str((W*L**3)/(E*I)*(5/384))[:5]\n",
      "\n",
      "#Result\n",
      "print\"Slope at the support =\",-thetaA,\"radians\"\n",
      "print\"Maximum deflection =\",yc,\"mm\"\n"
     ],
     "language": "python",
     "metadata": {},
     "outputs": [
      {
       "output_type": "stream",
       "stream": "stdout",
       "text": [
        "Slope at the support = 0.0104 radians\n",
        "Maximum deflection = 16.27 mm\n"
       ]
      }
     ],
     "prompt_number": 5
    },
    {
     "cell_type": "heading",
     "level": 2,
     "metadata": {},
     "source": [
      "Problem 12.6,page no.529"
     ]
    },
    {
     "cell_type": "code",
     "collapsed": false,
     "input": [
      "#Given\n",
      "#Variable declaration\n",
      "L=5*1000      #Length in mm\n",
      "L_star=5      #Length in m\n",
      "w=9           #Uniformly distributed load in kN/m\n",
      "f=7           #Bending stress in N/sq.mm\n",
      "E=1e4         #Young's modulus in N/sq.mm\n",
      "yc=10         #Central deflection in mm\n",
      "\n",
      "#Calculation\n",
      "W=w*L_star*1e3                       #Total load in N               \n",
      "bd3=((W*(L**3)*12*5)/(E*yc*384))     #width X depth^3 in mm^4\n",
      "M=(W*L/8)                            #Maximum bending moment in Nmm \n",
      "bd2=round(M*12/(f*2),2)              #width X depth^2 in mm^3\n",
      "d=round(bd3/bd2,2)                   #Depth of beam in mm\n",
      "b=str(M*12/(f*2)/d**2)[:6]           #Width of beam in mm\n",
      "\n",
      "#Result\n",
      "print \"Depth of beam =\",d,\"mm\"\n",
      "print \"Width of beam =\",b,\"mm\""
     ],
     "language": "python",
     "metadata": {},
     "outputs": [
      {
       "output_type": "stream",
       "stream": "stdout",
       "text": [
        "Depth of beam = 364.58 mm\n",
        "Width of beam = 181.36 mm\n"
       ]
      }
     ],
     "prompt_number": 3
    },
    {
     "cell_type": "heading",
     "level": 2,
     "metadata": {},
     "source": [
      "Problem 12.7,page no.531"
     ]
    },
    {
     "cell_type": "code",
     "collapsed": false,
     "input": [
      "#Given \n",
      "#Variable declaration\n",
      "L=5*1000      #Length in mm\n",
      "f=8           #Bending stress in N/sq.mm\n",
      "yc=10         #Central deflection in mm\n",
      "E=1.2e4       #Young's modulus in N/sq.mm\n",
      "\n",
      "#Calculation\n",
      "d=round((5*L**2*(f*2*8))/(E*384*yc)*1e-1,2)  #Depth of beam in cm\n",
      "\n",
      "#Result\n",
      "print \"Depth of beam =\",d,\"cm\""
     ],
     "language": "python",
     "metadata": {},
     "outputs": [
      {
       "output_type": "stream",
       "stream": "stdout",
       "text": [
        "Depth of beam = 34.72 cm\n"
       ]
      }
     ],
     "prompt_number": 2
    },
    {
     "cell_type": "heading",
     "level": 2,
     "metadata": {},
     "source": [
      "Problem 12.8,page no.534"
     ]
    },
    {
     "cell_type": "code",
     "collapsed": false,
     "input": [
      "#Given\n",
      "#Variable declaration\n",
      "L=6*1000       #Length in mm\n",
      "W=40*1000      #Point load in N\n",
      "a=4*1000       #Distance of point load from left support in mm\n",
      "I=7.33e7       #Moment of Inertia in mm^4\n",
      "E=2e5          #Young's modulus in sq.mm\n",
      "\n",
      "#Calculation\n",
      "b=L-a                                 #Width of beam in mm\n",
      "yc=round(-(W*a**2*b**2)/(3*E*I*L),1)  #Deflection under the load in mm\n",
      "\n",
      "#Result\n",
      "print \"Deflection under the load =\",yc,\"mm\"\n"
     ],
     "language": "python",
     "metadata": {},
     "outputs": [
      {
       "output_type": "stream",
       "stream": "stdout",
       "text": [
        "Deflection under the load = -9.7 mm\n"
       ]
      }
     ],
     "prompt_number": 4
    },
    {
     "cell_type": "code",
     "collapsed": false,
     "input": [],
     "language": "python",
     "metadata": {},
     "outputs": []
    }
   ],
   "metadata": {}
  }
 ]
}