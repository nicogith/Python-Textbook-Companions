{
 "metadata": {
  "name": "",
  "signature": "sha256:645699e2826749157978cc3139b5b4362e98aa81aba9d727772115e7ecd189e3"
 },
 "nbformat": 3,
 "nbformat_minor": 0,
 "worksheets": [
  {
   "cells": [
    {
     "cell_type": "heading",
     "level": 1,
     "metadata": {},
     "source": [
      "Chapter 13:Deflection of Cantilevers"
     ]
    },
    {
     "cell_type": "heading",
     "level": 2,
     "metadata": {},
     "source": [
      "Problem 13.1,page no.557"
     ]
    },
    {
     "cell_type": "code",
     "collapsed": false,
     "input": [
      "import math\n",
      "\n",
      "#Given\n",
      "#Variable declaration\n",
      "L=3*1000           #Length in mm\n",
      "W=25*1000          #Point load in N\n",
      "I=1e8              #Moment of Inertia in mm^4\n",
      "E=2.1e5            #Young's modulus in N/sq.mm\n",
      "\n",
      "#Calculation\n",
      "#case(i):Slope of the cantilever at the free end\n",
      "thetaB=round((W*(L**2))/(2*E*I),6)\n",
      "#case(ii):Deflection at the free end\n",
      "yB=round((W*L**3)/(E*I*3),2)\n",
      "\n",
      "#Result\n",
      "print \"Slope at the free end =\",thetaB,\"rad\"\n",
      "print \"Deflection at the free end =\",yB,\"mm\""
     ],
     "language": "python",
     "metadata": {},
     "outputs": [
      {
       "output_type": "stream",
       "stream": "stdout",
       "text": [
        "Slope at the free end = 0.005357 rad\n",
        "Deflection at the free end = 10.71 mm\n"
       ]
      }
     ],
     "prompt_number": 1
    },
    {
     "cell_type": "heading",
     "level": 2,
     "metadata": {},
     "source": [
      "Problem 13.2,page no.557"
     ]
    },
    {
     "cell_type": "code",
     "collapsed": false,
     "input": [
      "import math\n",
      "\n",
      "#Given\n",
      "#Variable declaration\n",
      "L=3*1000           #Length in mm\n",
      "W=50*1000          #Point load in N\n",
      "a=2*1000           #Distance between the load and fixed end in mm\n",
      "I=1e8              #Moment of Inertia in mm^4\n",
      "E=2e5              #Young's modulus in N/sq.mm\n",
      "\n",
      "#Calculation\n",
      "#case(i):Slope at the free end\n",
      "thetaB=(W*(a**2))/(2*E*I)\n",
      "#case(ii):Deflection at the free end\n",
      "yB=round(((W*a**3)/(E*I*3))+((W*(a**2))/(2*E*I)*(L-a)),2)\n",
      "\n",
      "#Result\n",
      "print \"Slope at the free end =\",thetaB,\"rad\"\n",
      "print \"Deflection at the free end =\",yB,\"mm\""
     ],
     "language": "python",
     "metadata": {},
     "outputs": [
      {
       "output_type": "stream",
       "stream": "stdout",
       "text": [
        "Slope at the free end = 0.005 rad\n",
        "Deflection at the free end = 11.67 mm\n"
       ]
      }
     ],
     "prompt_number": 1
    },
    {
     "cell_type": "heading",
     "level": 2,
     "metadata": {},
     "source": [
      "Problem 13.3,page no.559"
     ]
    },
    {
     "cell_type": "code",
     "collapsed": false,
     "input": [
      "import math\n",
      "\n",
      "#Given\n",
      "#Variable declaration\n",
      "L=2.5*1000           #Length in mm\n",
      "w=16.4               #Uniformly distributed load in kN/m \n",
      "I=7.95e7             #Moment of Inertia in mm^4\n",
      "E=2e5                #Young's modulus in N/sq.mm\n",
      "\n",
      "#Calculation\n",
      "W=w*L                           #Total load in N\n",
      "yB=round((W*L**3)/(E*I*8),3)    #Deflection at the free end in mm\n",
      "\n",
      "#Result\n",
      "print \"Deflection at the free end =\",yB,\"mm\""
     ],
     "language": "python",
     "metadata": {},
     "outputs": [
      {
       "output_type": "stream",
       "stream": "stdout",
       "text": [
        "Deflection at the free end = 5.036 mm\n"
       ]
      }
     ],
     "prompt_number": 2
    },
    {
     "cell_type": "heading",
     "level": 2,
     "metadata": {},
     "source": [
      "Problem 13.4(A),page no.560"
     ]
    },
    {
     "cell_type": "code",
     "collapsed": false,
     "input": [
      "#Given\n",
      "#Variable declaration\n",
      "b=120          #Width in mm\n",
      "d=200          #Depth in mm\n",
      "L_star=2.5     #Length in m\n",
      "L=2.5*1000     #Length in mm\n",
      "yB=5           #Deflection at free end in mm\n",
      "E=2e5          #Young's modulus in N/sq.mm\n",
      "\n",
      "#Calculation\n",
      "I=(b*d**3)/12                        #Moment of Inertia in mm^4\n",
      "w=(yB*8*E*I)/(L**3*L_star)/1e3       #Uniformly distributed load in N/m\n",
      "\n",
      "#Result\n",
      "print \"Uniformly distributed load =\",w,\"kN/m\""
     ],
     "language": "python",
     "metadata": {},
     "outputs": [
      {
       "output_type": "stream",
       "stream": "stdout",
       "text": [
        "Uniformly distributed load = 16.384 kN/m\n"
       ]
      }
     ],
     "prompt_number": 3
    },
    {
     "cell_type": "heading",
     "level": 2,
     "metadata": {},
     "source": [
      "Problem 13.5,page no.563"
     ]
    },
    {
     "cell_type": "code",
     "collapsed": false,
     "input": [
      "import math\n",
      "\n",
      "#Given\n",
      "#Variable declaration\n",
      "L=3*1000           #Length in mm\n",
      "w=10               #Uniformly distributed load in N/mm\n",
      "a=2*1000           #Length of Uniformly distributed load from fixed end in mm\n",
      "I=1e8              #Moment of Inertia in mm^4\n",
      "E=2e5              #Young's modulus in N/sq.mm\n",
      "\n",
      "#Calculation\n",
      "#case(i):Slope at the free end\n",
      "thetaB=str((w*(a**3))/(6*E*I))[:7]\n",
      "#case(ii):Deflection at the free end\n",
      "yB=round(((w*a**4)/(E*I*8))+((w*(a**3))/(6*E*I)*(L-a)),2)\n",
      "\n",
      "#Result\n",
      "print \"Slope at the free end =\",thetaB,\"rad\"\n",
      "print \"Deflection at the free end =\",yB,\"mm\""
     ],
     "language": "python",
     "metadata": {},
     "outputs": [
      {
       "output_type": "stream",
       "stream": "stdout",
       "text": [
        "Slope at the free end = 0.00066 rad\n",
        "Deflection at the free end = 1.67 mm\n"
       ]
      }
     ],
     "prompt_number": 4
    },
    {
     "cell_type": "heading",
     "level": 2,
     "metadata": {},
     "source": [
      "Problem 13.6,page no.563"
     ]
    },
    {
     "cell_type": "code",
     "collapsed": false,
     "input": [
      "import math\n",
      "\n",
      "#Given\n",
      "#Variable declaration\n",
      "L=3*1000           #Length in mm\n",
      "w=10               #Uniformly distributed load in N/mm\n",
      "a=2*1000           #Length of Uniformly distributed load from fixed end in mm\n",
      "I=1e8              #Moment of Inertia in mm^4\n",
      "E=2e5              #Young's modulus in N/sq.mm\n",
      "\n",
      "#Calculation\n",
      "#case(i):Slope at the free end\n",
      "thetaB=round(((w*(L**3))/(6*E*I))-((w*((L-a)**3))/(6*E*I)),6)\n",
      "#case(ii):Deflection at the free end\n",
      "yB=round(((w*L**4)/(E*I*8))-(((w*(L-a)**4)/(8*E*I))+((w*(L-a)**3)/(6*E*I)*a)),4)\n",
      "\n",
      "#Result\n",
      "print \"Slope at the free end =\",thetaB,\"rad\"\n",
      "print \"Deflection at the free end =\",yB,\"mm\""
     ],
     "language": "python",
     "metadata": {},
     "outputs": [
      {
       "output_type": "stream",
       "stream": "stdout",
       "text": [
        "Slope at the free end = 0.002167 rad\n",
        "Deflection at the free end = 4.8333 mm\n"
       ]
      }
     ],
     "prompt_number": 5
    },
    {
     "cell_type": "heading",
     "level": 2,
     "metadata": {},
     "source": [
      "Problem 13.10,page no.569"
     ]
    },
    {
     "cell_type": "code",
     "collapsed": false,
     "input": [
      "import math\n",
      "\n",
      "#Given\n",
      "#Variable declaration\n",
      "L=4*1000           #Length in mm\n",
      "w=50               #load at fixed end in N/mm\n",
      "I=1e8              #Moment of Inertia in mm^4\n",
      "E=2e5              #Young's modulus in N/sq.mm\n",
      "\n",
      "#Calculation\n",
      "#case(i):Slope at the free end\n",
      "thetaB=round(-(w*(L**3))/(24*E*I),5)\n",
      "#case(ii):Deflection at the free end\n",
      "yB=round((w*L**4)/(E*I*30),2)\n",
      "\n",
      "#Result\n",
      "print \"Slope at the free end =\",-thetaB,\"rad\"\n",
      "print \"Deflection at the free end =\",yB,\"mm\""
     ],
     "language": "python",
     "metadata": {},
     "outputs": [
      {
       "output_type": "stream",
       "stream": "stdout",
       "text": [
        "Slope at the free end = 0.00667 rad\n",
        "Deflection at the free end = 21.33 mm\n"
       ]
      }
     ],
     "prompt_number": 6
    },
    {
     "cell_type": "code",
     "collapsed": false,
     "input": [],
     "language": "python",
     "metadata": {},
     "outputs": []
    }
   ],
   "metadata": {}
  }
 ]
}