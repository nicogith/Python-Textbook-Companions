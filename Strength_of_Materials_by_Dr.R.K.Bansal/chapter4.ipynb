{
 "metadata": {
  "name": "",
  "signature": "sha256:08a19915ea28ff1c8eacb09b86820e50e5a6bce0905af69520d3a90c0261cd74"
 },
 "nbformat": 3,
 "nbformat_minor": 0,
 "worksheets": [
  {
   "cells": [
    {
     "cell_type": "heading",
     "level": 1,
     "metadata": {},
     "source": [
      "Chapter 4:Strain Energy and Impact Loading"
     ]
    },
    {
     "cell_type": "heading",
     "level": 2,
     "metadata": {},
     "source": [
      "Problem 4.1,page no.145"
     ]
    },
    {
     "cell_type": "code",
     "collapsed": false,
     "input": [
      "import math\n",
      "\n",
      "#Given\n",
      "#Variable declaration\n",
      "P=60*10**3    #Load in N\n",
      "d=4*10        #diameter in mm\n",
      "L=5*10**3     #Length of rod in mm\n",
      "E=2e5         #Young's Modulus in N/sq.mm\n",
      "\n",
      "\n",
      "#Calculation\n",
      "A=(math.pi/4)*d**2           #Area in sq.mm\n",
      "V=int(A*L)                   #Volume of rod in cubic.mm\n",
      "#case (ii):stress in the rod\n",
      "sigma=round(P/A,3)           #stress in N/sq.mm\n",
      "\n",
      "#case (i):stretch in the rod\n",
      "x=round((sigma/E)*L,2)       #stretch or extension in mm\n",
      "\n",
      "#case (iii):strain energy absorbed by the rod\n",
      "U=round((sigma**2/(2*E)*V),-1)*1e-3     #strain energy absorbed by the rod in Nm\n",
      "\n",
      "\n",
      "#Result\n",
      "print \"stress in the rod =\",sigma,\"N/mm^2\"\n",
      "print \"stretch in the rod =\",x,\"mm\"\n",
      "print \"strain energy absorbed by the rod =\",U,\"N-m\""
     ],
     "language": "python",
     "metadata": {},
     "outputs": [
      {
       "output_type": "stream",
       "stream": "stdout",
       "text": [
        "stress in the rod = 47.746 N/mm^2\n",
        "stretch in the rod = 1.19 mm\n",
        "strain energy absorbed by the rod = 35.81 N-m\n"
       ]
      }
     ],
     "prompt_number": 1
    },
    {
     "cell_type": "heading",
     "level": 2,
     "metadata": {},
     "source": [
      "Problem 4.3,page no.146"
     ]
    },
    {
     "cell_type": "code",
     "collapsed": false,
     "input": [
      "#Given\n",
      "#Variable declaration\n",
      "A=10*10**2         #Area of bar in sq.mm\n",
      "L=3*10**3          #Length of bar in mm\n",
      "x=1.5              #Extension due to suddenly applied load in mm\n",
      "E=2e5              #Young's Modulus in N/sq.mm\n",
      "\n",
      "#Calculation\n",
      "sigma=int(x*E/L)            #Instantaneous stress due to sudden load in N/sq.mm     \n",
      "P=int((sigma*A)/2*1e-3)     #Suddenly applied load in kN\n",
      "\n",
      "#Result\n",
      "print \"Instantaneous stress produced by a sudden load =\",sigma,\"N/mm^2\"\n",
      "print \"Suddenly applied load =\",P,\"kN\" "
     ],
     "language": "python",
     "metadata": {},
     "outputs": [
      {
       "output_type": "stream",
       "stream": "stdout",
       "text": [
        "Instantaneous stress produced by a sudden load = 100 N/mm^2\n",
        "Suddenly applied load = 50 kN\n"
       ]
      }
     ],
     "prompt_number": 2
    },
    {
     "cell_type": "heading",
     "level": 2,
     "metadata": {},
     "source": [
      "Problem 4.4,page no.147"
     ]
    },
    {
     "cell_type": "code",
     "collapsed": false,
     "input": [
      "import math\n",
      "\n",
      "#Given\n",
      "#Variable declaration\n",
      "L=2*10**3            #Length in mm\n",
      "d=50                 #Diameter in mm\n",
      "P=100*10**3          #Suddenly applied load in N\n",
      "E=200e3              #Young's Modulus in N/sq.mm\n",
      "\n",
      "#Calculation\n",
      "A=(math.pi/4)*d**2        #Area in sq.mm\n",
      "sigma=round(2*P/A,2)      #Instantaneous stress induced in N/sq.mm\n",
      "dL=(sigma*L)/E            #Elongation in mm\n",
      "\n",
      "#Result\n",
      "print \"Instantaneous stress induced =\",sigma,\"N/mm^2\"\n",
      "print \"Instantaneous elongation =\",dL,\"mm\""
     ],
     "language": "python",
     "metadata": {},
     "outputs": [
      {
       "output_type": "stream",
       "stream": "stdout",
       "text": [
        "Instantaneous stress induced = 101.86 N/mm^2\n",
        "Instantaneous elongation = 1.0186 mm\n"
       ]
      }
     ],
     "prompt_number": 5
    },
    {
     "cell_type": "heading",
     "level": 2,
     "metadata": {},
     "source": [
      "Problem 4.5,page no.147"
     ]
    },
    {
     "cell_type": "code",
     "collapsed": false,
     "input": [
      "#Given\n",
      "#Variable declaration\n",
      "A=700              #Area in sq.mm\n",
      "L=1.5*10**3        #Length of a metal bar in mm\n",
      "sigma=160          #Stress at elastic limit in N/sq.mm\n",
      "E=2e5              #Young's Modulus in N/sq.mm\n",
      "\n",
      "\n",
      "#Calculation\n",
      "V=A*L                           #Volume of bar in sq.mm\n",
      "Pr=(sigma**2/(2*E)*V)*1e-3      #Proof resilience in N-m\n",
      "P=int(sigma*A/2*1e-3)           #Suddenly applied load in kN\n",
      "P1=int(sigma*A*1e-3)            #gradually applied load in kN\n",
      "\n",
      "#Result\n",
      "print \"Proof resilience =\",Pr,\"N-m\"\n",
      "print \"Suddenly applied load =\",P,\"kN\"\n",
      "print \"Gradually applied load =\",P1,\"kN\""
     ],
     "language": "python",
     "metadata": {},
     "outputs": [
      {
       "output_type": "stream",
       "stream": "stdout",
       "text": [
        "Proof resilience = 67.2 N-m\n",
        "Suddenly applied load = 56 kN\n",
        "Gradually applied load = 112 kN\n"
       ]
      }
     ],
     "prompt_number": 4
    },
    {
     "cell_type": "heading",
     "level": 2,
     "metadata": {},
     "source": [
      "Problem 4.9,page no.154"
     ]
    },
    {
     "cell_type": "code",
     "collapsed": false,
     "input": [
      "import math\n",
      "\n",
      "#Given\n",
      "#Variable declaration\n",
      "P=10*10**3             #Falling weight in N\n",
      "h=30                   #Falling height in mm\n",
      "L=4*10**3              #Length of bar in mm\n",
      "A=1000                 #Area of bar in sq.m\n",
      "E=2.1e5                #Young's modulus in N/sq.mm\n",
      "\n",
      "#Calculation\n",
      "sigma=float(str((P/A)*(1+(math.sqrt(1+((2*E*A*h)/(P*L))))))[:5])\n",
      "delL=round(sigma*L/E,3)\n",
      "\n",
      "#Result                           \n",
      "print \"Instantaneous elongation due to falling weight =\",delL,\"mm\"\n"
     ],
     "language": "python",
     "metadata": {},
     "outputs": [
      {
       "output_type": "stream",
       "stream": "stdout",
       "text": [
        "Instantaneous elongation due to falling weight = 3.575 mm\n"
       ]
      }
     ],
     "prompt_number": 7
    },
    {
     "cell_type": "heading",
     "level": 2,
     "metadata": {},
     "source": [
      "Problem 4.10,page no.155"
     ]
    },
    {
     "cell_type": "code",
     "collapsed": false,
     "input": [
      "import math\n",
      "#Given\n",
      "#Variable declaration\n",
      "P=100           #Impact load in N\n",
      "h=2*10          #Height in mm\n",
      "L=1.5*1000      #Length of bar in mm\n",
      "A=1.5*100       #Area of bar in sq.mm\n",
      "E=2e5           #Modulus of elasticity in N/sq.mm\n",
      "\n",
      "#Calculation\n",
      "V=A*L           #Volume in mm^3\n",
      "#case(i):Maximum instantaneous stress induced in the vertical bar\n",
      "sigma=round((P/A)*(1+(math.sqrt(1+((2*E*A*h)/(P*L))))),2)\n",
      "#case(ii):Maximum instantaneous elongation\n",
      "delL=round(sigma*L/E,3)\n",
      "#case(iii):Strain energy stored in the vertical rod\n",
      "U=round(sigma**2/(2*E)*V*1e-3,3)\n",
      "\n",
      "#Result\n",
      "print \"NOTE:The answer in the book for instantaneous stress is incorrect.The correct answer is,\"\n",
      "print \"Maximum instantaneous stress =\",sigma,\"N/mm^2\"\n",
      "print \"Maximum instantaneous elongation =\",delL,\"mm\"\n",
      "print \"Strain energy =\",U,\"N-m\""
     ],
     "language": "python",
     "metadata": {},
     "outputs": [
      {
       "output_type": "stream",
       "stream": "stdout",
       "text": [
        "NOTE:The answer in the book for instantaneous stress is incorrect.The correct answer is,\n",
        "Maximum instantaneous stress = 60.3 N/mm^2\n",
        "Maximum instantaneous elongation = 0.452 mm\n",
        "Strain energy = 2.045 N-m\n"
       ]
      }
     ],
     "prompt_number": 12
    },
    {
     "cell_type": "heading",
     "level": 2,
     "metadata": {},
     "source": [
      "Problem 4.11,page no.155"
     ]
    },
    {
     "cell_type": "code",
     "collapsed": false,
     "input": [
      "import math\n",
      "#Given\n",
      "#Variable declaration\n",
      "delL=2.1          #Instantaneous extension in mm\n",
      "L=3*10**3         #Length of bar in mm\n",
      "A=5*100           #Area of bar in mm\n",
      "h=4*10            #Height in mm\n",
      "E=2e5             #Modulus of elasticity in N/sq.mm\n",
      "\n",
      "#Calculation\n",
      "V=A*L                           #Volume of bar in mm^3\n",
      "\n",
      "#case(i):Instantaneous stress induced in the vertical bar\n",
      "sigma=int(E*delL/L)         \n",
      "\n",
      "#case(ii):Unknown weight\n",
      "P=round(((sigma**2)/(2*E)*V)/(h+delL),1)    \n",
      "\n",
      "#Result\n",
      "print\"Instantaneous stress =\",sigma,\"N/mm^2\"\n",
      "print\"Unknown weight =\",P,\"N\""
     ],
     "language": "python",
     "metadata": {},
     "outputs": [
      {
       "output_type": "stream",
       "stream": "stdout",
       "text": [
        "Instantaneous stress = 140 N/mm^2\n",
        "Unknown weight = 1745.8 N\n"
       ]
      }
     ],
     "prompt_number": 1
    },
    {
     "cell_type": "heading",
     "level": 2,
     "metadata": {},
     "source": [
      "Problem 4.13,page no.157"
     ]
    },
    {
     "cell_type": "code",
     "collapsed": false,
     "input": [
      "import math\n",
      "#Given\n",
      "#Variable declaration\n",
      "d=12        #Diameter of bar in mm              \n",
      "delL=3      #Increase in length in mm\n",
      "W=8000      #Steady load in N\n",
      "P=800       #Falling weight in N\n",
      "h=8*10      #Vertical distance in mm\n",
      "E=2e5       #Young's modulus in N/sq.mm\n",
      "\n",
      "#Calculation\n",
      "A=round((math.pi/4)*d**2,1)           #Area of bar in sq.mm\n",
      "L=round(E*A*delL/W,1)                 #Length of the bar in mm\n",
      "sigma=round(round(P/A,4)*float(str(1+(math.sqrt(1+round((2*E*A*h)/(P*L),2))))[:7]),4)  \n",
      "sigma=float(str(sigma)[:7])           #Stress produced by the falling weight in N/sq.mm\n",
      "\n",
      "#Result\n",
      "print \"Stress produced by the falling weight =\",sigma,\"N/mm^2\""
     ],
     "language": "python",
     "metadata": {},
     "outputs": [
      {
       "output_type": "stream",
       "stream": "stdout",
       "text": [
        "Stress produced by the falling weight = 170.578 N/mm^2\n"
       ]
      }
     ],
     "prompt_number": 9
    },
    {
     "cell_type": "heading",
     "level": 2,
     "metadata": {},
     "source": [
      "Problem 4.14,page no.158"
     ]
    },
    {
     "cell_type": "code",
     "collapsed": false,
     "input": [
      "import math\n",
      "#Given\n",
      "#Variable declaration\n",
      "d=12.5           #Diameter of the rod in mm\n",
      "delL=3.2         #Increase in length in mm\n",
      "W=10*1000        #Steady load in N\n",
      "P=700            #Falling load in N\n",
      "h=75             #Falling height in mm\n",
      "E=2.1e5          #Young's modulus in N/sq.mm\n",
      "\n",
      "#Calculation\n",
      "A=round((math.pi/4)*d**2,2)                                 #Area of rod in sq.mm   \n",
      "L=round(E*A*delL/W,1)                                       #Length of the rod in mm\n",
      "sigma=round((P/A)*(1+(math.sqrt(1+((2*E*A*h)/(P*L))))),2)   #Stress produced by the falling weight in N/mm^2\n",
      "\n",
      "#Result\n",
      "print \"NOTE:The given answer for stress is wrong.The correct answer is,\"\n",
      "print \"Stress = %.2f N/mm^2\"%sigma"
     ],
     "language": "python",
     "metadata": {},
     "outputs": [
      {
       "output_type": "stream",
       "stream": "stdout",
       "text": [
        "NOTE:The given answer for stress is wrong.The correct answer is,\n",
        "Stress = 153.42 N/mm^2\n"
       ]
      }
     ],
     "prompt_number": 10
    },
    {
     "cell_type": "heading",
     "level": 2,
     "metadata": {},
     "source": [
      "Problem 4.15,page no.159"
     ]
    },
    {
     "cell_type": "code",
     "collapsed": false,
     "input": [
      "import math\n",
      "\n",
      "#Given\n",
      "#Variable declaration\n",
      "L=1.82*1000      #Length of rod in mm\n",
      "h1=30            #Height through which load falls in mm\n",
      "h2=47.5          #Fallen height in mm\n",
      "sigma=157        #Maximum stress induced in N/sq.mm\n",
      "E=2.1e5          #Young's modulus in N/sq.mm\n",
      "\n",
      "#Calculation\n",
      "U=sigma**2/(2*E)      #Strain energy stored in the rod in N-m\n",
      "delL=sigma*L/E        #Extension of the rod in mm\n",
      "Tot_dist=h1+delL      #Total distance in mm\n",
      "\n",
      "#case(i):Stress induced in the rod if the load is applied gradually\n",
      "sigma1=round((U/Tot_dist)*L,1)\n",
      "\n",
      "#case(ii):Maximum stress if the load had fallen from a height of 47.5 mm\n",
      "sigma2=round((sigma1)*(1+(math.sqrt(1+((2*E*h2)/(sigma1*L))))),2)\n",
      "\n",
      "#Result\n",
      "print \"Stress induced in the rod = %.1f N/mm^2\"%sigma1\n",
      "print \"NOTE:The given answer for stress(2nd case) in the book is wrong.The correct answer is,\"\n",
      "print \"Maximum stress if the load has fallen = %.2f N/mm^2\"%sigma2"
     ],
     "language": "python",
     "metadata": {},
     "outputs": [
      {
       "output_type": "stream",
       "stream": "stdout",
       "text": [
        "Stress induced in the rod = 3.4 N/mm^2\n",
        "NOTE:The given answer for stress(2nd case) in the book is wrong.The correct answer is,\n",
        "Maximum stress if the load has fallen = 196.48 N/mm^2\n"
       ]
      }
     ],
     "prompt_number": 1
    },
    {
     "cell_type": "heading",
     "level": 2,
     "metadata": {},
     "source": [
      "Problem 4.17,page no.162"
     ]
    },
    {
     "cell_type": "code",
     "collapsed": false,
     "input": [
      "import math\n",
      "\n",
      "#Given\n",
      "#Variable declaration\n",
      "L=4*10**3     #Length of bar in mm\n",
      "A=2000        #Area of bar in sq.mm\n",
      "P1=3000       #Falling weight in N(for 1st case)\n",
      "h1=20*10      #Height in mm(for 1st case)\n",
      "P2=30*1000    #Falling weight in N(for 2nd case)\n",
      "h2=2*10       #Height in mm(for 2nd case)\n",
      "E=2e5         #Young's modulus in N/sq.mm\n",
      "\n",
      "#Calculation\n",
      "V=A*L             #Volume of bar in mm^3\n",
      "\n",
      "#case(i):Maximum stress when a 3000N weight falls through a height of 20cm\n",
      "sigma1=round(((math.sqrt((2*E*P1*h1)/(A*L)))),1)\n",
      "\n",
      "#case(ii):Maximum stress when a 30kN weight falls through a height of 2cm\n",
      "sigma2=round((P2/A)*(1+(math.sqrt(1+((2*E*A*h2)/(P2*L))))),2)\n",
      "\n",
      "#Result\n",
      "print\"Maximum stress induced(when a weight of 3000N falls through a height of 20cm)=\",sigma1,\"N/mm^2\"\n",
      "print\"Maximum stress induced(when a weight of 30kN falls through a height of 2cm)=\",sigma2,\"N/mm^2\""
     ],
     "language": "python",
     "metadata": {},
     "outputs": [
      {
       "output_type": "stream",
       "stream": "stdout",
       "text": [
        "Maximum stress induced(when a weight of 3000N falls through a height of 20cm)= 173.2 N/mm^2\n",
        "Maximum stress induced(when a weight of 30kN falls through a height of 2cm)= 188.85 N/mm^2\n"
       ]
      }
     ],
     "prompt_number": 2
    },
    {
     "cell_type": "heading",
     "level": 2,
     "metadata": {},
     "source": [
      "Problem 4.18,page no.163"
     ]
    },
    {
     "cell_type": "code",
     "collapsed": false,
     "input": [
      "from __future__ import division\n",
      "import math\n",
      "\n",
      "#Given \n",
      "#Variable declaration\n",
      "A=6.25*100     #Area in sq.mm\n",
      "W=10*10**3     #Load in N\n",
      "V=(40/60)      #Velocity in m/s\n",
      "L=10000        #Length of chain unwound in mm\n",
      "E=2.1e5        #Young's modulus in N/sq.mm\n",
      "g=9.81         #acceleration due to gravity\n",
      "\n",
      "#Calculation\n",
      "K_E=round(((W/g)*(V**2))/2,1)*1e3          #K.E of the crane in N mm\n",
      "sigma=round(math.sqrt(K_E*E*2/(A*L)),2)    #Stress induced in the chain in N/sq.mm\n",
      "\n",
      "#Result\n",
      "print \"Stress induced in the chain due to sudden stoppage =\",sigma,\"N/mm^2\""
     ],
     "language": "python",
     "metadata": {},
     "outputs": [
      {
       "output_type": "stream",
       "stream": "stdout",
       "text": [
        "Stress induced in the chain due to sudden stoppage = 123.37 N/mm^2\n"
       ]
      }
     ],
     "prompt_number": 3
    },
    {
     "cell_type": "heading",
     "level": 2,
     "metadata": {},
     "source": [
      "Problem 4.19,page no.164"
     ]
    },
    {
     "cell_type": "code",
     "collapsed": false,
     "input": [
      "import math\n",
      "\n",
      "#Given\n",
      "#Variable declaration\n",
      "W=60*10**3      #Weight in N\n",
      "V=1             #Velocity in m/s\n",
      "L=15*10**3      #Free length in mm\n",
      "A=25*100        #Area in sq.mm\n",
      "E=2e5           #Young's modulus in N/sq.mm\n",
      "g=9.81          #acceleration due to gravity\n",
      "\n",
      "#Calculation\n",
      "K_E=((W/g)*(V**2))/2*1e3                  #Kinetic Energy of the cage in N mm\n",
      "sigma=round(math.sqrt(K_E*E*2/(A*L)),2)   #Maximum stress in N/sq.mm\n",
      "\n",
      "#Result\n",
      "print\"Maximum stress produced in the rope =\",sigma,\"N/mm^2\""
     ],
     "language": "python",
     "metadata": {},
     "outputs": [
      {
       "output_type": "stream",
       "stream": "stdout",
       "text": [
        "Maximum stress produced in the rope = 180.61 N/mm^2\n"
       ]
      }
     ],
     "prompt_number": 4
    },
    {
     "cell_type": "heading",
     "level": 2,
     "metadata": {},
     "source": [
      "Problem 4.20,page no.166"
     ]
    },
    {
     "cell_type": "code",
     "collapsed": false,
     "input": [
      "#Given \n",
      "#Variable declaration\n",
      "tau=50       #Shear stress in N/sq.mm\n",
      "C=8e4        #Modulus of rigidity in N/sq.mm\n",
      "\n",
      "#Calculation\n",
      "ste=(tau**2)/(2*C)    #Strain energy per unit volume in N/sq.mm\n",
      "\n",
      "#Result\n",
      "print\"Strain energy per unit volume =\",ste,\"N/mm^2\""
     ],
     "language": "python",
     "metadata": {},
     "outputs": [
      {
       "output_type": "stream",
       "stream": "stdout",
       "text": [
        "Strain energy per unit volume = 0.015625 N/mm^2\n"
       ]
      }
     ],
     "prompt_number": 5
    },
    {
     "cell_type": "code",
     "collapsed": false,
     "input": [],
     "language": "python",
     "metadata": {},
     "outputs": []
    }
   ],
   "metadata": {}
  }
 ]
}