{
 "metadata": {
  "name": "",
  "signature": "sha256:a847652c7729f38097f73bfa8bb0c1fa136b92fa8a1c23926acab13f8bc56911"
 },
 "nbformat": 3,
 "nbformat_minor": 0,
 "worksheets": [
  {
   "cells": [
    {
     "cell_type": "heading",
     "level": 1,
     "metadata": {},
     "source": [
      "Chapter 2:Elastic Constants"
     ]
    },
    {
     "cell_type": "heading",
     "level": 2,
     "metadata": {},
     "source": [
      "Problem 2.1,page no.60"
     ]
    },
    {
     "cell_type": "code",
     "collapsed": false,
     "input": [
      "from __future__ import division\n",
      "import math\n",
      "\n",
      "#Given\n",
      "#Variable declaration\n",
      "L=4*(10**3)       #Length of the bar in mm\n",
      "b=30              #Breadth of the bar in mm\n",
      "t=20              #Thickness of the bar in mm\n",
      "P=30*(10**3)      #Axial pull in N\n",
      "E=2e5             #Young's modulus in N/sq.mm\n",
      "mu=0.3            #Poisson's ratio\n",
      "\n",
      "#Calculation\n",
      "A=b*t                        #Area of cross-section in sq.mm\n",
      "long_strain=P/(A*E)          #Longitudinal strain \n",
      "delL=long_strain*L           #Change in length in mm\n",
      "lat_strain=mu*long_strain    #Lateral strain\n",
      "delb=b*lat_strain            #Change in breadth in mm\n",
      "delt=t*lat_strain            #Change in thickness in mm\n",
      "\n",
      "#Result\n",
      "print \"change in length =\",delL,\"mm\"\n",
      "print \"change in breadth =\",delb,\"mm\"\n",
      "print \"change in thickness =\",delt,\"mm\"\n"
     ],
     "language": "python",
     "metadata": {},
     "outputs": [
      {
       "output_type": "stream",
       "stream": "stdout",
       "text": [
        "change in length = 1.0 mm\n",
        "change in breadth = 0.00225 mm\n",
        "change in thickness = 0.0015 mm\n"
       ]
      }
     ],
     "prompt_number": 2
    },
    {
     "cell_type": "heading",
     "level": 2,
     "metadata": {},
     "source": [
      "Problem 2.2,page no.61"
     ]
    },
    {
     "cell_type": "code",
     "collapsed": false,
     "input": [
      "#Given\n",
      "#Variable declaration\n",
      "L=30                #Length in cm\n",
      "b=4                 #Breadth in cm\n",
      "d=4                 #Depth in cm\n",
      "P=400*(10**3)       #Axial compressive load in N\n",
      "delL=0.075          #Decrease in length in cm\n",
      "delb=0.003          #Increase in breadth in cm\n",
      "\n",
      "#Calculation\n",
      "A=(b*d)*1e2                      #Area of cross-section in sq.mm\n",
      "long_strain=delL/L               #Longitudinal strain\n",
      "lat_strain=delb/b                #Lateral strain\n",
      "mu=lat_strain/long_strain        #Poisson's ratio\n",
      "E=int((P)/(A*long_strain))       #Young's modulus\n",
      "\n",
      "#Result\n",
      "print \"Poisson's ratio =\",mu\n",
      "print \"Young's modulus = %.e N/mm^2\"%E\n",
      "\n",
      "\n"
     ],
     "language": "python",
     "metadata": {},
     "outputs": [
      {
       "output_type": "stream",
       "stream": "stdout",
       "text": [
        "Poisson's ratio = 0.3\n",
        "Young's modulus = 1e+05 N/mm^2\n"
       ]
      }
     ],
     "prompt_number": 2
    },
    {
     "cell_type": "heading",
     "level": 2,
     "metadata": {},
     "source": [
      "Problem 2.3,page no.63"
     ]
    },
    {
     "cell_type": "code",
     "collapsed": false,
     "input": [
      "#Given\n",
      "#Variable declaration\n",
      "L=4000        #Length of the bar in mm\n",
      "b=30          #Breadth of the bar in mm\n",
      "t=20          #Thickness of the bar in mm\n",
      "mu=0.3        #Poisson's ratio\n",
      "delL=1.0      #delL from problem 2.1\n",
      "\n",
      "#Calculation\n",
      "ev=(delL/L)*(1-2*mu)         #Volumetric strain \n",
      "V=L*b*t                      #Original volume in mm^3\n",
      "delV=ev*V                    #Change in volume in mm^3\n",
      "F=int(V+delV)                #Final volume in mm^3\n",
      "\n",
      "#Result\n",
      "print \"Volumetric strain =\",ev\n",
      "print \"Final volume =\",F,\"mm^3\""
     ],
     "language": "python",
     "metadata": {},
     "outputs": [
      {
       "output_type": "stream",
       "stream": "stdout",
       "text": [
        "Volumetric strain = 0.0001\n",
        "Final volume = 2400240 mm^3\n"
       ]
      }
     ],
     "prompt_number": 3
    },
    {
     "cell_type": "heading",
     "level": 2,
     "metadata": {},
     "source": [
      "Problem 2.4,page no.63"
     ]
    },
    {
     "cell_type": "code",
     "collapsed": false,
     "input": [
      "from __future__ import division\n",
      "#Given\n",
      "#Variable declaration\n",
      "L=300              #Length in mm\n",
      "b=50               #Width in mm\n",
      "t=40               #Thickness in mm\n",
      "P=300*10**3        #Pull in N\n",
      "E=2*10**5          #Young's modulus in N/sq.mm\n",
      "mu=0.25            #Poisson's ratio\n",
      "\n",
      "#Calculation\n",
      "V=L*b*t                           #Original volume in mm^3\n",
      "Area=b*t                          #Area in sq.mm   \n",
      "stress=P/Area                     #Stress in N/sq.mm \n",
      "ev=(stress/E)*(1-2*mu)            #Volumetric strain \n",
      "delV=int(ev*V)                    #Change in volume in mm^3                     \n",
      "\n",
      "#Result\n",
      "print \"Change in volume =\",delV,\"mm^3\""
     ],
     "language": "python",
     "metadata": {},
     "outputs": [
      {
       "output_type": "stream",
       "stream": "stdout",
       "text": [
        " Change in volume = 225 mm^3\n"
       ]
      }
     ],
     "prompt_number": 5
    },
    {
     "cell_type": "heading",
     "level": 2,
     "metadata": {},
     "source": [
      "Problem 2.7,page no.69"
     ]
    },
    {
     "cell_type": "code",
     "collapsed": false,
     "input": [
      "import math\n",
      "\n",
      "#Given\n",
      "#Variable declaration\n",
      "L=5*10**3                #Length in mm\n",
      "d=30                     #Diameter in mm\n",
      "P=50*10**3               #Tensile load in N\n",
      "E=2e5                    #Young's modulus in N/sq.mm\n",
      "mu=0.25                  #Poisson's ratio\n",
      "\n",
      "#Calculation\n",
      "V=int(round((math.pi*d**2*L)/4,-2))        #Volume in mm^3 \n",
      "e=P*4/(math.pi*(d**2)*E)                   #Strain of length\n",
      "delL=round(e*L,3)                          #Change in length in mm\n",
      "lat_strain=round(mu*round(e,7),7)          #Lateral strain \n",
      "deld=lat_strain*d                          #Change in diameter in mm\n",
      "delV=round(V*(0.0003536-(2*lat_strain)),2) #Change in volume in mm^3\n",
      "\n",
      "#Result\n",
      "print \"Change in length =\",delL,\"mm\"\n",
      "print \"Change in diameter =\",deld,\"mm\"\n",
      "print \"Change in volume =\",delV,\"mm^3\"\n"
     ],
     "language": "python",
     "metadata": {},
     "outputs": [
      {
       "output_type": "stream",
       "stream": "stdout",
       "text": [
        "Change in length = 1.768 mm\n",
        "Change in diameter = 0.002652 mm\n",
        "Change in volume = 624.86 mm^3\n"
       ]
      }
     ],
     "prompt_number": 7
    },
    {
     "cell_type": "heading",
     "level": 2,
     "metadata": {},
     "source": [
      "Problem 2.10,page no.79"
     ]
    },
    {
     "cell_type": "code",
     "collapsed": false,
     "input": [
      "#Given\n",
      "#Variable declaration\n",
      "E=1.2e5                  #Young's modulus in N/sq.mm\n",
      "C=4.8e4                  #Modulus of rigidity in N/sq.mm\n",
      "\n",
      "#Calculation\n",
      "mu=(E/(2*C))-1           #Poisson's ratio \n",
      "K=int(E/(3*(1-2*mu)))    #Bulk modulus in N/sq.mm\n",
      "\n",
      "#Result\n",
      "print \"Poisson's ratio =\",mu\n",
      "print \"Bulk modulus = %.0e N/mm^2\"%K\n"
     ],
     "language": "python",
     "metadata": {},
     "outputs": [
      {
       "output_type": "stream",
       "stream": "stdout",
       "text": [
        "Poisson's ratio = 0.25\n",
        "Bulk modulus = 8e+04 N/mm^2\n"
       ]
      }
     ],
     "prompt_number": 8
    },
    {
     "cell_type": "heading",
     "level": 2,
     "metadata": {},
     "source": [
      "Problem 2.11,page no.79"
     ]
    },
    {
     "cell_type": "code",
     "collapsed": false,
     "input": [
      "#Given\n",
      "#Variable declaration\n",
      "A=8*8         #Area of section in sq.mm\n",
      "P=7000        #Axial pull in N\n",
      "Ldo=8         #Original Lateral dimension in mm\n",
      "Ldc=7.9985    #Changed Lateral dimension in mm\n",
      "C=0.8e5       #modulus of rigidity in N/sq.mm\n",
      "\n",
      "#Calculation\n",
      "lat_strain=(Ldo-Ldc)/Ldo                                        #Lateral strain\n",
      "sigma=P/A                                                       #Axial stress in N/sq.mm\n",
      "mu=round(1/((sigma/lat_strain)/(2*C)-1),3)                      #Poisson's ratio\n",
      "E=round((sigma/lat_strain)/((sigma/lat_strain)/(2*C)-1),-1)     #Modulus of elasticity in N/sq.mm\n",
      "\n",
      "#Result\n",
      "print \"Poisson's ratio =\",mu\n",
      "print \"Modulus of elasticity = %.4e N/mm^2\"%E\n",
      "\n"
     ],
     "language": "python",
     "metadata": {},
     "outputs": [
      {
       "output_type": "stream",
       "stream": "stdout",
       "text": [
        "Poisson's ratio = 0.378\n",
        "Modulus of elasticity = 2.2047e+05 N/mm^2\n"
       ]
      }
     ],
     "prompt_number": 9
    },
    {
     "cell_type": "code",
     "collapsed": false,
     "input": [],
     "language": "python",
     "metadata": {},
     "outputs": []
    }
   ],
   "metadata": {}
  }
 ]
}