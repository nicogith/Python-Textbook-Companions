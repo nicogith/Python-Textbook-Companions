{
 "metadata": {
  "name": "",
  "signature": "sha256:9a486aadfd6b9085cbabcb01b6c4b7704df2013ab12ac6b342be3bf11e26b98d"
 },
 "nbformat": 3,
 "nbformat_minor": 0,
 "worksheets": [
  {
   "cells": [
    {
     "cell_type": "heading",
     "level": 1,
     "metadata": {},
     "source": [
      "Chapter 7:Bending Stresses in Beams"
     ]
    },
    {
     "cell_type": "heading",
     "level": 2,
     "metadata": {},
     "source": [
      "Problem 7.1,page no.298"
     ]
    },
    {
     "cell_type": "code",
     "collapsed": false,
     "input": [
      "#Given\n",
      "#Variable declaration\n",
      "b=120             #Width of plate in mm\n",
      "t=20              #Thickness of plate in mm\n",
      "R=10*10**3        #Radius of curvature in mm\n",
      "E=2e5             #Young's modulus in N/sq.mm\n",
      "\n",
      "#Calculation\n",
      "I=b*t**3/12                    #Moment of inertia in mm^4\n",
      "y_max=t/2                      #Maximum distance in mm\n",
      "sigma_max=int((E/R)*y_max)     #Maximum stress in N/sq.mm\n",
      "M=round((E/R*I)*(10**-6),1)    #Bending moment in kNm\n",
      "\n",
      "#Result\n",
      "print \"Maximum stress =\",sigma_max,\"N/mm^2\"\n",
      "print \"Bending moment =\",M,\"kNm\"\n"
     ],
     "language": "python",
     "metadata": {},
     "outputs": [
      {
       "output_type": "stream",
       "stream": "stdout",
       "text": [
        "Maximum stress = 200 N/mm^2\n",
        "Bending moment = 1.6 kNm\n"
       ]
      }
     ],
     "prompt_number": 1
    },
    {
     "cell_type": "heading",
     "level": 2,
     "metadata": {},
     "source": [
      "Problem 7.8,page no.305"
     ]
    },
    {
     "cell_type": "code",
     "collapsed": false,
     "input": [
      "from __future__ import division\n",
      "import math\n",
      "\n",
      "#Given\n",
      "#Variable declaration\n",
      "W=20*1000        #Total load in N\n",
      "L=3.6            #Span in m\n",
      "sigma_max=7      #Maximum stress in N/sq.mm\n",
      "\n",
      "#Calculation\n",
      "M1=W*L/8*1e3                                             #Maximum Bending moment in Nmm\n",
      "b1=round((M1*3/(sigma_max*2))**(1/3),1)                  #Breadth of the beam in mm\n",
      "d1=int(round(2*b1,0))                                    #depth of the beam in mm\n",
      "M2=W*L/4*1e3                                             #Maximum Bending moment in Nmm\n",
      "b2=float(str(round((M2*3/(sigma_max*2))**(1/3),4))[:6])  #Breadth of the beam in mm\n",
      "d2=2*b2                                                  #depth of the beam in mm\n",
      "\n",
      "#Result\n",
      "print \"Dimensions of the cross-section:\"\n",
      "print \"Breadth of beam =\",b1,\"mm\"\n",
      "print \"Depth of beam\",d1,\"mm\"\n",
      "\n",
      "print \"Dimensions of the cross-section when the beam carries a point load at the centre:\"\n",
      "print \"Breadth of beam =\",b2,\"mm\"\n",
      "print \"Depth of beam\",d2,\"mm\"\n"
     ],
     "language": "python",
     "metadata": {},
     "outputs": [
      {
       "output_type": "stream",
       "stream": "stdout",
       "text": [
        "Dimensions of the cross-section:\n",
        "Breadth of beam = 124.5 mm\n",
        "Depth of beam 249 mm\n",
        "Dimensions of the cross-section when the beam carries a point load at the centre:\n",
        "Breadth of beam = 156.82 mm\n",
        "Depth of beam 313.64 mm\n"
       ]
      }
     ],
     "prompt_number": 3
    },
    {
     "cell_type": "code",
     "collapsed": false,
     "input": [],
     "language": "python",
     "metadata": {},
     "outputs": []
    }
   ],
   "metadata": {}
  }
 ]
}