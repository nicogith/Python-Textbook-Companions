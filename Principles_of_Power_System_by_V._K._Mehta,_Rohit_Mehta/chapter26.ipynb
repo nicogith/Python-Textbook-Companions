{
 "metadata": {
  "name": "",
  "signature": "sha256:260bb8beffe2e4d2155fdaec0c7462f8cf5127d60c79f0bddb469ea9aad62673"
 },
 "nbformat": 3,
 "nbformat_minor": 0,
 "worksheets": [
  {
   "cells": [
    {
     "cell_type": "heading",
     "level": 1,
     "metadata": {},
     "source": [
      "Chapter 26: Neutral Grounding"
     ]
    },
    {
     "cell_type": "heading",
     "level": 3,
     "metadata": {},
     "source": [
      "Example 26.1, Page Number: 599"
     ]
    },
    {
     "cell_type": "code",
     "collapsed": false,
     "input": [
      "from __future__ import division\n",
      "import math\n",
      "\n",
      "#Variable declaration:\n",
      "f = 50                    #Supply frequency(Hz)\n",
      "C = 4.5*10**-6              #Line to earth capacitance(F)\n",
      "\n",
      "\n",
      "#Calculation:\n",
      "XL = 1/(3*2*math.pi*f*C)                 #ohm\n",
      "\n",
      "\n",
      "#Result:\n",
      "print \"The reactance of Peterson coil is\",round(XL,1),\"ohm\""
     ],
     "language": "python",
     "metadata": {},
     "outputs": [
      {
       "output_type": "stream",
       "stream": "stdout",
       "text": [
        "The reactance of Peterson coil is 235.8 ohm\n"
       ]
      }
     ],
     "prompt_number": 1
    },
    {
     "cell_type": "heading",
     "level": 3,
     "metadata": {},
     "source": [
      "Example 26.2, Page Number: 599"
     ]
    },
    {
     "cell_type": "code",
     "collapsed": false,
     "input": [
      "from __future__ import division\n",
      "import math\n",
      "\n",
      "#Variable declaration:\n",
      "l = 200                    #length of transmission line(km)\n",
      "f = 50                    #Supply frequency(Hz)\n",
      "c = 0.02*10**-6              #Line to earth capacitance(F/km)\n",
      "V = 230                    #voltage rating of line(kV)\n",
      "\n",
      "\n",
      "#Calculation:\n",
      "C = c*l                    #capacitance of coil(F)\n",
      "L = round(1/(3*(2*3.14*f)**2*C),2)           #Required inductance of Peterson coil(H)\n",
      "Vph = round(V*1000/1.732)             #Voltage across Peterson coil(kV)\n",
      "IF = math.ceil(Vph/(2*3.13*f*L))              #Current through Peterson coil(A)\n",
      "kVA = Vph*IF/1000               #Rating of Peterson coil\n",
      "\n",
      "\n",
      "\n",
      "#Calculation:\n",
      "print \"Inductance of Peterson coil is\",L,\"H\"\n",
      "print \"Rating of Peterson coil is\",round(kVA),\"kVA\""
     ],
     "language": "python",
     "metadata": {},
     "outputs": [
      {
       "output_type": "stream",
       "stream": "stdout",
       "text": [
        "Inductance of Peterson coil is 0.85 H\n",
        "Rating of Peterson coil is 66397.0 kVA\n"
       ]
      }
     ],
     "prompt_number": 4
    },
    {
     "cell_type": "heading",
     "level": 3,
     "metadata": {},
     "source": [
      "Example 26.3, Page Number: 600"
     ]
    },
    {
     "cell_type": "code",
     "collapsed": false,
     "input": [
      "from __future__ import division\n",
      "import math\n",
      "\n",
      "#Variable declaration:\n",
      "f = 50                      #fequency of supply(Hz)\n",
      "C = 1.2*10**-6              #line-to-earth capacitance(F)\n",
      "\n",
      "\n",
      "#Calculation:\n",
      "#(i) To neutralize capacitance of 100% of the length of the line,\n",
      "#Inductive reactance of the coilis given by\n",
      "XL1 = 1/(3*2*math.pi*f*C)           #ohm\n",
      "\n",
      "#(ii)  To neutralize capacitance of 90% of the length of the line,\n",
      "#Inductive reactance of the coilis given by\n",
      "XL2 = 1/(3*2*math.pi*f*0.9*C)       #ohm\n",
      "\n",
      "\n",
      "#(iii) To neutralize capacitance of 80% of the length of the line,\n",
      "#Inductive reactance of the coilis given by\n",
      "XL3 = 1/(3*2*math.pi*f*0.8*C)       #ohm\n",
      "\n",
      "\n",
      "#Result:\n",
      "print \"(i)  Inductive reactance of the coil to neutralize capacitance\"\n",
      "print \"     of 100% of the length of the line is\",round(XL1,2),\"ohm\"\n",
      "print \"\\n(ii) Inductive reactance of the coil to neutralize capacitance\"\n",
      "print \"     of 100% of the length of 90% of the line is\",round(XL2,2),\"ohm\"\n",
      "print \"\\n(iii)Inductive reactance of the coil to neutralize capacitance\"\n",
      "print \"     of 100% of the length of 80% of the line is\",round(XL3,2),\"ohm\""
     ],
     "language": "python",
     "metadata": {},
     "outputs": [
      {
       "output_type": "stream",
       "stream": "stdout",
       "text": [
        "(i)  Inductive reactance of the coil to neutralize capacitance\n",
        "     of 100% of the length of the line is 884.19 ohm\n",
        "\n",
        "(ii) Inductive reactance of the coil to neutralize capacitance\n",
        "     of 100% of the length of 90% of the line is 982.44 ohm\n",
        "\n",
        "(iii)Inductive reactance of the coil to neutralize capacitance\n",
        "     of 100% of the length of 80% of the line is 1105.24 ohm\n"
       ]
      }
     ],
     "prompt_number": 5
    },
    {
     "cell_type": "heading",
     "level": 3,
     "metadata": {},
     "source": [
      "Example 26.4, Page Number: 600"
     ]
    },
    {
     "cell_type": "code",
     "collapsed": false,
     "input": [
      "from __future__ import division\n",
      "import math\n",
      "\n",
      "#Variable declaration:\n",
      "r = 0.01                          #radius of conductor(m)\n",
      "d = 4                             #conductor spacing(m)\n",
      "V = 132                           #voltage of the line(kV)\n",
      "f = 50                            #supply frequency(Hz)\n",
      "l = 200                           #line length(km)\n",
      "\n",
      "\n",
      "#Calculation:\n",
      "c = round(2*math.pi*8.885/math.log(d/r),1)*10**-12        #capacitance per unit length(F/m)\n",
      "C = c*l*1000                         #Capacitance between phase and earth for 200 km line(F)\n",
      "L = round(1/(3*(2*math.pi*f)**2*C),2)               #required inductance L of the arc suppression coil(H)\n",
      "IF = V*1000/(10*math.ceil(3**0.5*2*math.pi*f*L/10))          #Current through the coil(A)\n",
      "kVA = V/3**0.5*IF                     #kVA\n",
      "\n",
      "\n",
      "#Result:\n",
      "print \"The inductance of the coil is\",L,\"H\"\n",
      "print \"Rating of the coil is\",round(kVA),\"kVA\""
     ],
     "language": "python",
     "metadata": {},
     "outputs": [
      {
       "output_type": "stream",
       "stream": "stdout",
       "text": [
        "The inductance of the coil is 1.82 H\n",
        "Rating of the coil is 10060.0 kVA\n"
       ]
      }
     ],
     "prompt_number": 6
    }
   ],
   "metadata": {}
  }
 ]
}