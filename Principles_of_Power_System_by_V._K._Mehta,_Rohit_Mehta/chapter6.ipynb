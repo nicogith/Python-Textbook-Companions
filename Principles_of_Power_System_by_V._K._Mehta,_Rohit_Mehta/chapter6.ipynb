{
 "metadata": {
  "name": "",
  "signature": "sha256:357707f074867e12cc217076fc35399c9b1e6483f5b92a23e0c3be75457e81b5"
 },
 "nbformat": 3,
 "nbformat_minor": 0,
 "worksheets": [
  {
   "cells": [
    {
     "cell_type": "heading",
     "level": 1,
     "metadata": {},
     "source": [
      "Chapter 6: Power Factor Improvement"
     ]
    },
    {
     "cell_type": "heading",
     "level": 3,
     "metadata": {},
     "source": [
      "Example 6.1, Page Number: 108"
     ]
    },
    {
     "cell_type": "code",
     "collapsed": false,
     "input": [
      "#Variable declaration:\n",
      "kW1 = 300\n",
      "pf1 = 0.6                  #power factor\n",
      "pf2 = 1\n",
      "\n",
      "#Calculation:\n",
      "kVA = kW1/pf1\n",
      "kW2 = kVA*pf2\n",
      "kW = kW2-kW1\n",
      "\n",
      "#Result:\n",
      "print \"Increased power supplied by the alternator is\",kW,\"kW\""
     ],
     "language": "python",
     "metadata": {},
     "outputs": [
      {
       "output_type": "stream",
       "stream": "stdout",
       "text": [
        "Increased power supplied by the alternator is 200.0 kW\n"
       ]
      }
     ],
     "prompt_number": 1
    },
    {
     "cell_type": "heading",
     "level": 3,
     "metadata": {},
     "source": [
      "Example 6.2, Page Number: 109"
     ]
    },
    {
     "cell_type": "code",
     "collapsed": false,
     "input": [
      "import math\n",
      "\n",
      "#Variable declaration:\n",
      "V = 400                     #rated voltage(V)\n",
      "Im = 31.7                    #motor curtrent(A)\n",
      "pf1 = 0.7                    #initial power factor\n",
      "pf2 = 0.9                    #raised power factor\n",
      "f = 50                       #Hz\n",
      "\n",
      "\n",
      "#Calculation:\n",
      "#Referring to the phasor diagram,\n",
      "Ima = Im*pf1                #Active component of Im(A)\n",
      "I = Ima/pf2                 #total current(A)\n",
      "Imr = Im*math.sqrt(1-pf1**2)     #Reactive component of Im(A)\n",
      "Ir = I*math.sqrt(1-pf2**2)       #Reactive component of I(A)\n",
      "Ic = Imr-Ir                 #A\n",
      "\n",
      "C = Ic/(V*2*math.pi*f)\n",
      "\n",
      "\n",
      "\n",
      "#Result:\n",
      "print \"Required value of capacitor is\",round(C,7),\"uF\""
     ],
     "language": "python",
     "metadata": {},
     "outputs": [
      {
       "output_type": "stream",
       "stream": "stdout",
       "text": [
        "Required value of capacitor is 9.46e-05 uF\n"
       ]
      }
     ],
     "prompt_number": 1
    },
    {
     "cell_type": "heading",
     "level": 3,
     "metadata": {},
     "source": [
      "Example 6.3, Page Number: 110"
     ]
    },
    {
     "cell_type": "code",
     "collapsed": false,
     "input": [
      "from __future__ import division\n",
      "import math\n",
      "\n",
      "#Variable declaration:\n",
      "#(i):\n",
      "kW1 = 20\n",
      "pf1 = 1\n",
      "\n",
      "#(ii):\n",
      "kW2 = 100\n",
      "pf2 = 0.707\n",
      "\n",
      "#(iii):\n",
      "kW3 = 50\n",
      "pf3 = 0.9\n",
      "\n",
      "#Calculation:\n",
      "kVA1 = kW1/pf1\n",
      "kVA2 = kW2/pf2\n",
      "kVA3 = kW3/pf3\n",
      "\n",
      "kVAR1 = kVA1*0\n",
      "kVAR2 = -kVA2*math.sin(math.acos(0.707))\n",
      "kVAR3 = kVA3*math.sin(math.acos(0.9))\n",
      "\n",
      "kW = kW1+kW2+kW3\n",
      "kVAR = kVAR1+kVAR2+kVAR3\n",
      "kVA = math.sqrt(kW**2+kVAR**2)\n",
      "pf = kW/kVA\n",
      "\n",
      "#Result:\n",
      "print \"Total kW is\",kW\n",
      "print \"Total kVA is\",round(kVA)\n",
      "print \"Power factor is\",round(pf,3)"
     ],
     "language": "python",
     "metadata": {},
     "outputs": [
      {
       "output_type": "stream",
       "stream": "stdout",
       "text": [
        "Total kW is 170\n",
        "Total kVA is 186.0\n",
        "Power factor is 0.913\n"
       ]
      }
     ],
     "prompt_number": 5
    },
    {
     "cell_type": "heading",
     "level": 3,
     "metadata": {},
     "source": [
      "Example 6.4, Page Number: 111"
     ]
    },
    {
     "cell_type": "code",
     "collapsed": false,
     "input": [
      "from __future__ import division\n",
      "import math\n",
      "\n",
      "#Variable declaration:\n",
      "pf1 = 0.75                #Original p.f lag\n",
      "P = 5                     #motor input(kW)\n",
      "pf2 = 0.9                  #final p.f lag\n",
      "\n",
      "#Calculation:\n",
      "kVAR = P*(math.tan(math.acos(pf1))-math.tan(math.acos(pf2)))\n",
      "R = kVAR/3\n",
      "\n",
      "#Result:\n",
      "print \"Rating of capacitors is\",round(R,3),\"kVAR\""
     ],
     "language": "python",
     "metadata": {},
     "outputs": [
      {
       "output_type": "stream",
       "stream": "stdout",
       "text": [
        "Rating of capacitors is 0.663 kVAR\n"
       ]
      }
     ],
     "prompt_number": 2
    },
    {
     "cell_type": "heading",
     "level": 3,
     "metadata": {},
     "source": [
      "Example 6.5, Page Number: 111"
     ]
    },
    {
     "cell_type": "code",
     "collapsed": false,
     "input": [
      "from __future__ import division\n",
      "import math\n",
      "from sympy import *\n",
      "\n",
      "#Variable declaration:\n",
      "Vph = 400                  #rated voltage(V)\n",
      "n = .93                  #efficiency\n",
      "P = 74.6                  #power output(kW)\n",
      "pf1 = 0.75                #power faactor\n",
      "pf2 = 0.95               #raised power factor\n",
      "n1 = 4                  #no. of capacitors in each branch\n",
      "V1 = 100                 #rating of capacitors(V)\n",
      "f = 50                   #frequency(Hz)\n",
      "\n",
      "#Calculation:\n",
      "Pi = round(P/n)                    #motor input(kW)\n",
      "phy1 = math.acos(pf1)      \n",
      "phy2 = math.acos(pf2)\n",
      "#Leading kVAR taken by the condenser bank\n",
      "kVAR = round(Pi*(math.tan(phy1)-math.tan(phy2)),2)  \n",
      "kVAR1 = round(kVAR/3,2)             #Leading kVAR taken by each of three sets\n",
      "\n",
      "#Fig. above shows the delta* connected condenser bank.\n",
      "C = symbols('C')\n",
      "Icp = 2*math.pi*f*C*Vph           #Phase current of capacitor(A)\n",
      "\n",
      "c = solve(Vph*Icp/1000-kVAR1,C)[0]  #capacitance(F)\n",
      "\n",
      "#Result:\n",
      "print \"Capacitance of each capacitor is\",round(c*4*10**6,1),\"uF\""
     ],
     "language": "python",
     "metadata": {},
     "outputs": [
      {
       "output_type": "stream",
       "stream": "stdout",
       "text": [
        "Capacitance of each capacitor is 1173.8 uF\n"
       ]
      }
     ],
     "prompt_number": 6
    },
    {
     "cell_type": "heading",
     "level": 3,
     "metadata": {},
     "source": [
      "Example 6.6, Page Number: 112"
     ]
    },
    {
     "cell_type": "code",
     "collapsed": false,
     "input": [
      "from __future__ import division\n",
      "import math\n",
      "\n",
      "#Variable declaration:\n",
      "P = 800                  #load(kW)\n",
      "pf1 = 0.8                #initial power factor\n",
      "pf2 = 0.9                #improved power factor\n",
      "t = 3000                 #working hours\n",
      "c1 = 100                 #1st part tariff(Rs/kVA)\n",
      "c2 = 20                  #2nd part tariff(paise/kWh)\n",
      "c3 = 60                  #cost of capacitors(Rs/kVAR)\n",
      "n = 10                  #interest & depreciation on capacitors(%)\n",
      "\n",
      "#Calculation:\n",
      "phy1 = math.acos(pf1)\n",
      "phy2 = math.acos(pf2)\n",
      "#Leading kVAR taken by the capacitors:\n",
      "kVAR = P*(math.tan(phy1)-math.tan(phy2))\n",
      "\n",
      "#Annual cost before p.f. correction:\n",
      "kVAm1 = P/pf1                #max demand\n",
      "T1 = kVAm1*c1+P*t*c2/100      #total annual cost(Rs)\n",
      "\n",
      "#Annual cost after p.f. correction:\n",
      "kVAm2 = P/pf2               #max demand\n",
      "T2 = c1*kVAm2+P*t*c2/100+n*c3*kVAR/100\n",
      "\n",
      "T = T1-T2                #annual saving(Rs)\n",
      "\n",
      "#Result:\n",
      "print \"Annual saving is Rs\",round(T)"
     ],
     "language": "python",
     "metadata": {},
     "outputs": [
      {
       "output_type": "stream",
       "stream": "stdout",
       "text": [
        "Annual saving is Rs 9836.0\n"
       ]
      }
     ],
     "prompt_number": 3
    },
    {
     "cell_type": "heading",
     "level": 3,
     "metadata": {},
     "source": [
      "Example 6.7, Page Number: 112"
     ]
    },
    {
     "cell_type": "code",
     "collapsed": false,
     "input": [
      "from __future__ import division\n",
      "from sympy import *\n",
      "import math\n",
      "\n",
      "#Variable declaration:\n",
      "P1 = 200                  #factory load(kW)\n",
      "pf1 = 0.85               #initial power factor\n",
      "pf2 = 0.9                #improved power factor\n",
      "t = 2500                 #working hours\n",
      "c1 = 150                 #1st part tariff(Rs/kVA)\n",
      "c2 = 5                   #2nd part tariff(paise/kWh)\n",
      "c3 = 420                 #cost of capacitors(Rs/kVAR)\n",
      "Pcl = 100                #capacitor loss(W/kVAR)\n",
      "n = 10                   #interest & depreciation on capacitors(%)\n",
      "\n",
      "#Calculation:\n",
      "phy1 = math.acos(pf1)\n",
      "phy2 = math.acos(pf2)\n",
      "#suppose the leading kVAR taken by the capacitors is x:\n",
      "x = symbols('x')\n",
      "Pcl1 = Pcl*x/1000                #capacitor loss(kW)\n",
      "P2 = P1+Pcl1                     #total power(kW)\n",
      "x1 = solve((P1*math.tan(phy1)-P2*math.tan(phy2))-x,x)[0]\n",
      "\n",
      "\n",
      "#Annual cost before p.f. correction:\n",
      "kVAm1 = P1/pf1                #max demand\n",
      "T1 = kVAm1*c1+P1*t*c2/100      #total annual cost(Rs)\n",
      "\n",
      "\n",
      "#Annual cost after p.f. correction:\n",
      "kVAm2 = P1/pf2               #max demand\n",
      "T2 = c1*kVAm2+P1*t*c2/100+n*c3*x1/100+round(Pcl*x1*t*c2/100000)\n",
      "\n",
      "T = T1-T2                #annual saving(Rs)\n",
      "\n",
      "#Result:\n",
      "print \"Annual saving is Rs\",round(T)"
     ],
     "language": "python",
     "metadata": {},
     "outputs": [
      {
       "output_type": "stream",
       "stream": "stdout",
       "text": [
        "Annual saving is Rs 553.0\n"
       ]
      }
     ],
     "prompt_number": 6
    },
    {
     "cell_type": "heading",
     "level": 3,
     "metadata": {},
     "source": [
      "Example 6.8, Page Number: 113"
     ]
    },
    {
     "cell_type": "code",
     "collapsed": false,
     "input": [
      "from __future__ import division\n",
      "import math\n",
      "\n",
      "#Variable Declaration:\n",
      "pf = 0.8                           #power factor\n",
      "kVA = 750                          # monthly demand\n",
      "c1 = 8.50                          #monthly power rate(Rs/kVA per month)\n",
      "R = 250                            #rating of capacitors(kVA)\n",
      "C2 = 20000                        #installed cost of equipment(Rs)\n",
      "r = 10                            #fixed charge rate(%)\n",
      "\n",
      "\n",
      "#Calculation:\n",
      "phy = math.acos(pf)\n",
      "kW = kVA*math.cos(phy)             #kW component of demand\n",
      "kVAR = kVA*math.sin(phy)           #kVAR component of demand\n",
      "kVAR1 = kVAR-R                     #Leading kVAR taken by the capacitors\n",
      "kVA1 = math.sqrt(kVAR1**2+kW**2)        #kVA after p.f. improvement\n",
      "kVA11 = round(kVA-kVA1,1)                   #Reduction in kVA\n",
      "T1 = c1*kVA11*12                   #Yearly saving on kVA charges\n",
      "T2 = r*C2/100                      #Fixed charges/year(Rs)\n",
      "T = T1-T2                          #net saaving(Rs)\n",
      "\n",
      "#Result:\n",
      "print \"The annual saving is Rs\",T"
     ],
     "language": "python",
     "metadata": {},
     "outputs": [
      {
       "output_type": "stream",
       "stream": "stdout",
       "text": [
        "The annual saving is Rs 9985.0\n"
       ]
      }
     ],
     "prompt_number": 6
    },
    {
     "cell_type": "heading",
     "level": 3,
     "metadata": {},
     "source": [
      "Example 6.9, Page Number: 113"
     ]
    },
    {
     "cell_type": "code",
     "collapsed": false,
     "input": [
      "from __future__ import division\n",
      "import math\n",
      "\n",
      "#Variable declaration:\n",
      "pf1 = 0.8                    #initial power factor\n",
      "pf2 = 0.9                     #improved power factor\n",
      "L1 = 200                       #load(kW)\n",
      "L2 = 80                      #motor load(kW)\n",
      "\n",
      "#Calculation:\n",
      "phy1 = math.acos(pf1)\n",
      "phy2 = math.acos(pf2)\n",
      "L = L1+L2                    #combined load(kW)\n",
      "#In Fig. above, \u0394 OAB is the power triangle for load,\n",
      "#\u0394 ODC for combined load and \u0394 BEC for the motor.\n",
      "#(i):\n",
      "kVAR = L1*math.tan(phy1)-L*math.tan(phy2)   #Leading kVAR taken by the motor\n",
      "#(ii):\n",
      "kVArat = math.sqrt(L2**2+kVAR**2)          #kVA rating of motor\n",
      "#(iii):\n",
      "pf = L2/kVArat                        #p.f. of motor\n",
      "\n",
      "#Result:\n",
      "print \"The leading kVAR taken by the motor is\",round(kVAR,2)\n",
      "print \"kVA rating of the motor is\",round(kVArat,2)\n",
      "print \"Power factor at which the motor operates is\",round(pf,3),\"leading\""
     ],
     "language": "python",
     "metadata": {},
     "outputs": [
      {
       "output_type": "stream",
       "stream": "stdout",
       "text": [
        "The leading kVAR taken by the motor is 14.39\n",
        "kVA rating of the motor is 81.28\n",
        "Power factor at which the motor operates is 0.984 leading\n"
       ]
      }
     ],
     "prompt_number": 9
    },
    {
     "cell_type": "heading",
     "level": 3,
     "metadata": {},
     "source": [
      "Example 6.10, Page Number: 114"
     ]
    },
    {
     "cell_type": "code",
     "collapsed": false,
     "input": [
      "from __future__ import division\n",
      "import math\n",
      "\n",
      "#Variable declaration:\n",
      "#for induction motor:\n",
      "kW1 = 37.3                          \n",
      "pf1 = 0.8                           #lagging\n",
      "n1 = 0.85\n",
      "\n",
      "#for synchronous motor:\n",
      "kW2 = 18.65\n",
      "pf = 0.9                            #leading\n",
      "n2 = 0.9\n",
      "\n",
      "#for lighting load:\n",
      "kW3 = 10\n",
      "pf3 = 1\n",
      "c1 = 60                          #Rs/kVA of max demand\n",
      "c2 = 5                           #paie per kWh\n",
      "t = 2000                         #working hours\n",
      "\n",
      "\n",
      "#Calculation:\n",
      "P1 = kW1/n1                     #power input to induction motor(kW)\n",
      "Q1 = P1*math.tan(math.acos(pf1)) #Lagging kVAR taken by induction motor\n",
      "\n",
      "P2 = kW2/n2                      #Input power to synchronous motor(kW)\n",
      "Q2 = P2**math.tan(math.acos(pf1))  #Leading kVAR taken by synchronous motor\n",
      "\n",
      "#Since lighting load works at unity p.f., its lagging kVAR = 0.\n",
      "Q3 = 0                           \n",
      "\n",
      "kVAR = Q1-Q2                    #net kVAR\n",
      "kW = round(P1+P2+kW3,1)                      #total active power\n",
      "kVA = round(math.sqrt(kW**2+kVAR**2))\n",
      "\n",
      "T = c1*kVA+c2*kW*t/100\n",
      "\n",
      "#Result:\n",
      "print \"The annual electical charges is Rs\",round(T)"
     ],
     "language": "python",
     "metadata": {},
     "outputs": [
      {
       "output_type": "stream",
       "stream": "stdout",
       "text": [
        "The annual electical charges is Rs 12140.0\n"
       ]
      }
     ],
     "prompt_number": 10
    },
    {
     "cell_type": "heading",
     "level": 3,
     "metadata": {},
     "source": [
      "Example 6.11, Page Number: 114"
     ]
    },
    {
     "cell_type": "code",
     "collapsed": false,
     "input": [
      "from __future__ import division\n",
      "import math\n",
      "\n",
      "#Variable declaration:\n",
      "#(i)for a lighting load:\n",
      "P1 = 500                        #kW\n",
      "\n",
      "\n",
      "#(ii) for a load:\n",
      "P2 = 400                         #kW\n",
      "pf2 = 0.707                      #power factor lagging\n",
      "\n",
      "\n",
      "#(iii)for a load:\n",
      "P3 = 800                        #kW\n",
      "pf3 = 0.8                       #power factor leading\n",
      "\n",
      "#(iv)for a load:\n",
      "P4 = 500                        #kW\n",
      "pf4 = 0.6                       #power factor lagging\n",
      "\n",
      "\n",
      "#(v)a synchronous motor driving a d.c. generator:\n",
      "P5 = 540                        #power rated at generator(kW)\n",
      "n = 0.9                         #overall efficiency\n",
      "\n",
      "\n",
      "#Calculation:\n",
      "#Total lagging kVAR taken by loads (ii) and (iv)\n",
      "kVAR24 = P2*math.tan(math.acos(pf2))+P4*math.tan(math.acos(pf4))\n",
      "\n",
      "#Leading kVAR taken by the load (iii)\n",
      "kVAR3 = P3*math.tan(math.acos(pf3))\n",
      "\n",
      "#Leading kVAR to be taken by synchronous motor\n",
      "kVAR5 = kVAR24-kVAR3\n",
      "Pi = P5/n                       #motor input(kW)\n",
      "phy = math.atan(kVAR5/Pi)       #phase angle of synchronous motor\n",
      "pf = math.cos(phy)\n",
      "\n",
      "\n",
      "\n",
      "#Result:\n",
      "print \"The power factor of synchronous motor is\",round(pf,2,),\"leading\""
     ],
     "language": "python",
     "metadata": {},
     "outputs": [
      {
       "output_type": "stream",
       "stream": "stdout",
       "text": [
        "The power factor of synchronous motor is 0.79 leading\n"
       ]
      }
     ],
     "prompt_number": 19
    },
    {
     "cell_type": "heading",
     "level": 3,
     "metadata": {},
     "source": [
      "Example 6.12, Page Number: 115"
     ]
    },
    {
     "cell_type": "code",
     "collapsed": false,
     "input": [
      "from __future__ import division\n",
      "import math\n",
      "\n",
      "#Variable declaration:\n",
      "P1 = 100                        #power of synchronous motor(hp)\n",
      "P2 = 200                        #power aggregated by induction motor(hp)\n",
      "pf2 = 0.707                     #lagging power factor for induction motor\n",
      "n2 = 0.82                       #efficiency of induction motor\n",
      "P3 = 30                         #lighting load(kW)\n",
      "c1 = 100                        #1st part tariff(Rs per kVA per annum)\n",
      "c2 = 0.06                       #2nd part tariff Rs per kWh\n",
      "pfa = 0.8                       #power factor factor initially(lagging)\n",
      "na = 0.93                       #efficiency of synchronous motor initially\n",
      "pfb = 0.8                       #power factor factor changed later(leading)\n",
      "nb = 0.93                       #efficiency of synchronous motor changed later\n",
      "\n",
      "\n",
      "#Calculation:\n",
      "#(a) When synchronous motor runs at p.f. 0\u00b78 lagging.\n",
      "kW1 = round(P1*735.5/(na*1000))        #input to synchronous motor(kW)\n",
      "kVAR1 = round(kW1*math.tan(math.acos(pfa)),2)    #Lagging kVAR taken by the synchronous motor(kVAR)\n",
      "kW2 = round(P2*735.5/(n2*1000),1)        #input to induction motor(kW)\n",
      "kVAR2 = kW2*math.tan(math.acos(pf2))    #Lagging kVAR taken by the induction motor(kVAR) \n",
      "#Since lighting load works at unity p.f., its lagging kVAR is zero.\n",
      "kVARt = kVAR1+kVAR2                 #Total lagging kVAR\n",
      "kWt = kW1+kW2+P3                  #Total active power(kW)\n",
      "kVAt = round(math.sqrt(kWt**2+kVARt**2),1)          #total kVA\n",
      "C1 = kVAt*c1                       #annual kVA demand charges\n",
      "E1 = kWt*8760                     #Energy consumed/year(kWh)\n",
      "C2 = round(0.06*E1)                      #annual energy charges(Rs)\n",
      "T1 = C1+C2                        #total Annual bill(Rs)\n",
      "\n",
      "\n",
      "#(b) When synchronous motor runs at p.f. 0\u00b78 leading.\n",
      "kVARn = kVAR2-kVAR1            #Net lagging kVAR\n",
      "kWtt = kWt                      #total active power(kW)\n",
      "kVAtt = math.sqrt(kVARn**2+kWtt**2)     #total kVA\n",
      "C11 = c1*kVAtt                #annual kVA charges(Rs)\n",
      "C22 = C2                        #Annual energy charges(Rs)\n",
      "T2 = C11+C22                   #total annual bill(Rs)\n",
      "Ts = T1-T2                    #annual saving(Rs)\n",
      "\n",
      "\n",
      "\n",
      "#Result:\n",
      "print \"The annual saving is  Rs\",round(Ts/100)*100"
     ],
     "language": "python",
     "metadata": {},
     "outputs": [
      {
       "output_type": "stream",
       "stream": "stdout",
       "text": [
        "The annual saving is  Rs 6200.0\n"
       ]
      }
     ],
     "prompt_number": 4
    },
    {
     "cell_type": "heading",
     "level": 3,
     "metadata": {},
     "source": [
      "Example 6.13, Page Number: 118"
     ]
    },
    {
     "cell_type": "code",
     "collapsed": false,
     "input": [
      "from __future__ import division\n",
      "import math\n",
      "\n",
      "#Variable declaration:\n",
      "pf1 = 0.75                        #Power factor of the factory(lagging)\n",
      "x = 72                            #Max. demand charges(Rs per kVA per annum)\n",
      "d = 10                           #interest & depreciation of capital investment(%)\n",
      "M = 175                         #max. demand(kW)\n",
      "c2 = 120                          #cost of phase advancing equipment(Rs/kVAR)\n",
      "\n",
      "\n",
      "#Calculation:\n",
      "y = c2*d/100                    #Expenditure on phase advancing equipment(Rs/kVAR/annum)\n",
      "pf2 = math.sqrt(1-(y/x)**2)           #power factor\n",
      "\n",
      "\n",
      "#Result:\n",
      "print \"Most economical p.f. at which factory should operate is\",round(pf2,3),\"lagging\""
     ],
     "language": "python",
     "metadata": {},
     "outputs": [
      {
       "output_type": "stream",
       "stream": "stdout",
       "text": [
        "Most economical p.f. at which factory should operate is 0.986 lagging\n"
       ]
      }
     ],
     "prompt_number": 14
    },
    {
     "cell_type": "heading",
     "level": 3,
     "metadata": {},
     "source": [
      "Example 6.14, Page Number: 119"
     ]
    },
    {
     "cell_type": "code",
     "collapsed": false,
     "input": [
      "from __future__ import division\n",
      "import math\n",
      "\n",
      "#Variable declaration:\n",
      "L = 400                         #avg. demand(kW)\n",
      "pf1 = 0.8                        #original power factor(lagging)\n",
      "LF = 0.5                       #annual load factor\n",
      "c1 = 50                        #first part tariff(Rs/kVA per annum)\n",
      "c2 = 0.05                      #second part tariff(Rs/kWh)\n",
      "pf2 = 0.95                     #improved power factor\n",
      "c3 = 100                       #phase advancement equipment cost(Rs/kVAR)\n",
      "d = 10                        #annual interest and depreciation(%)\n",
      "\n",
      "\n",
      "#Calculation:\n",
      "M = L/LF                     #maximum demand(kW)\n",
      "#Leading kVAR taken by phase advancement equipment:\n",
      "kVAR1 = M*(math.tan(math.acos(pf1))-math.tan(math.acos(pf2)))\n",
      "y = d*c3/100               #Expenditure on phase advancing equipment(Rs/kVAR/annum)\n",
      "kVA1 = M/pf1                #Max. kVA demand at pf1 power fctor\n",
      "kVA2 = round(M/pf2)                #Max. kVA demand at pf2 power fctor\n",
      "Cs = c1*(kVA1-kVA2)           #Annual saving in maximum demand charges\n",
      "Ce = y*kVAR1                #Annual expenditure on phase advancing equipment\n",
      "NS = Cs-Ce                  #net annual saving\n",
      "\n",
      "\n",
      "#Result:\n",
      "print \"(i) The capacity of the phase advancing equipment is\",round(kVAR1),\"kVAR\"\n",
      "print \"(ii)The annual saving is  Rs\",round(NS)"
     ],
     "language": "python",
     "metadata": {},
     "outputs": [
      {
       "output_type": "stream",
       "stream": "stdout",
       "text": [
        "(i) The capacity of the phase advancing equipment is 337.0 kVAR\n",
        "(ii)The annual saving is  Rs 4529.0\n"
       ]
      }
     ],
     "prompt_number": 15
    },
    {
     "cell_type": "heading",
     "level": 3,
     "metadata": {},
     "source": [
      "Example 6.15, Page Number: 119"
     ]
    },
    {
     "cell_type": "code",
     "collapsed": false,
     "input": [
      "from __future__ import division\n",
      "import math\n",
      "\n",
      "#Variable declaration:\n",
      "L = 50                         #avg. demand(kW)\n",
      "pf1 = 0.75                        #original power factor(lagging)\n",
      "LF = 0.5                       #annual load factor\n",
      "c1 = 100                        #first part tariff(Rs/kVA of max demand per annum)\n",
      "c2 = 0.05                      #second part tariff(Rs/kWh)\n",
      "c3 = 600                       #cost of loss free capacitors(Rs/kVAR)\n",
      "d = 10                           #depreciation & interest(%)\n",
      "\n",
      "\n",
      "#Calculation:\n",
      "y = c3*d/100                #Expenditure on capacitors(Rs/kVAR/annum)\n",
      "pfe = math.sqrt(1-(y/c1)**2)      #Most economical power factor\n",
      "M = L/LF                     #Max kW demand\n",
      "kVAm1 = M/pf1                #The maximum kVA demand at pf1 power factor\n",
      "kVAm2 = M/pfe                #The maximum kVA demand at pfe power factor\n",
      "Cs = c1*(kVAm1-kVAm2)         #annual saving(Rs)\n",
      "\n",
      "\n",
      "#Result:\n",
      "print \"Most economical power factor is\",round(pfe,3),\"lagging\"\n",
      "print \"Annual saving is Rs\",round(Cs)"
     ],
     "language": "python",
     "metadata": {},
     "outputs": [
      {
       "output_type": "stream",
       "stream": "stdout",
       "text": [
        "Most economical power factor is 0.8 lagging\n",
        "Annual saving is Rs 833.0\n"
       ]
      }
     ],
     "prompt_number": 2
    },
    {
     "cell_type": "heading",
     "level": 3,
     "metadata": {},
     "source": [
      "Example 6.16, Page Number: 120"
     ]
    },
    {
     "cell_type": "code",
     "collapsed": false,
     "input": [
      "from __future__ import division\n",
      "import math\n",
      "\n",
      "#Variable declaration:\n",
      "L = 200                         #avg. demand(kW)\n",
      "pf1 = 0.8                        #original power factor(lagging)\n",
      "LF = 0.5                       #annual load factor\n",
      "c1 = 100                        #first part tariff(Rs/kVA of max demand per annum)\n",
      "c2 = 0.05                      #second part tariff(Rs/kWh)\n",
      "c3 = 500                       #cost of phase advancing plant(Rs/kVAR)\n",
      "d = 10                           #depreciation & interest(%)\n",
      "\n",
      "\n",
      "\n",
      "#Calculation:\n",
      "y = c3*d/100                #Expenditure on capacitors(Rs/kVAR/annum)\n",
      "pfe = math.sqrt(1-(y/c1)**2)      #Most economical power factor\n",
      "Pc = L*(math.tan(math.acos(pf1))-math.tan(math.acos(pfe))) #Capacity of phase advancing plant\n",
      "E = L*5000                    #units consumed per year(kWh)\n",
      "C2 = c2*E                     #annual energy charges(Rs)\n",
      "C1 = y*Pc                    #Annual cost of phase advancing plant(Rs)\n",
      "Cm = c1*L/pfe                #Max. demand charge(Rs)\n",
      "C = C2+C1+Cm                 #annual charge(Rs)\n",
      "\n",
      "\n",
      "#Result:\n",
      "print \"(i)  The value to which the power factor be improved is\",round(pfe,3),\"lagging\"\n",
      "print \"(ii) The capacity of the phase advancing plant is\",round(Pc,2),\"kVAR\"\n",
      "print \"(iii)The new bill for energy is  Rs\",round(C,1)"
     ],
     "language": "python",
     "metadata": {},
     "outputs": [
      {
       "output_type": "stream",
       "stream": "stdout",
       "text": [
        "(i)  The value to which the power factor be improved is 0.866 lagging\n",
        "(ii) The capacity of the phase advancing plant is 34.53 kVAR\n",
        "(iii)The new bill for energy is  Rs 74820.5\n"
       ]
      }
     ],
     "prompt_number": 3
    },
    {
     "cell_type": "heading",
     "level": 3,
     "metadata": {},
     "source": [
      "Example 6.17, Page Number: 120"
     ]
    },
    {
     "cell_type": "code",
     "collapsed": false,
     "input": [
      "from __future__ import division\n",
      "import math\n",
      "\n",
      "#Variable declaration:\n",
      "E = 80000               #units consumed per year\n",
      "kVAm1 = 500                #maximum kVA demand\n",
      "pf1 = 0.707             #initial power factor(lagging)\n",
      "c1 = 120                        #first part tariff(Rs/kVA of max demand per annum)\n",
      "c2 = 0.025                      #second part tariff(Rs/kWh)\n",
      "c3 = 50                #cost of phase advancing plant(Rs/kVAR)\n",
      "pf2 = 0.9              #increased powe factor(Rs)\n",
      "d = 10                  #depreciation on advancing plant(%)\n",
      "\n",
      "\n",
      "\n",
      "#Calculation:\n",
      "C1 = c1*kVAm1+c2*E         #annual cost of supply(Rs)\n",
      "P = kVAm1*pf1              #max. kW demand\n",
      "#Leading kVAR taken by phase advancing equipment:\n",
      "kVARe = P*(math.tan(math.acos(pf1))-math.tan(math.acos(pf2)))\n",
      "C2 = round(kVARe*c3*d/100)        #Annual cost of phase advancing equipment(Rs)\n",
      "#When p.f. is raised from 0\u00b7707 lag to 0\u00b79 lag\n",
      "kVAm2 = P/pf2               #new maximum kVA demand\n",
      "kVAr = kVAm1-kVAm2          #Reduction in kVA demand\n",
      "Cs = round(c1*kVAr)                #annual saving(Rs)\n",
      "#As the units consumed remain the same, therefore, saving will\n",
      "#be equal to saving in M.D. charges minus annual cost of \n",
      "#phase advancing plant.\n",
      "Cs2 = Cs-C2                #annual charges(Rs)\n",
      "\n",
      "\n",
      "#Result:\n",
      "print \"The annual cost of supply is   Rs\",C1\n",
      "print \"Annual saving is  Rs\",Cs2"
     ],
     "language": "python",
     "metadata": {},
     "outputs": [
      {
       "output_type": "stream",
       "stream": "stdout",
       "text": [
        "The annual cost of supply is   Rs 62000.0\n",
        "Annual saving is  Rs 11955.0\n"
       ]
      }
     ],
     "prompt_number": 18
    },
    {
     "cell_type": "heading",
     "level": 3,
     "metadata": {},
     "source": [
      "Example 6.18, Page Number: 123"
     ]
    },
    {
     "cell_type": "code",
     "collapsed": false,
     "input": [
      "from __future__ import division\n",
      "\n",
      "#Variable declaration:\n",
      "pf = 0.7           #power factor when plant working at its max. capacity(lagging)\n",
      "\n",
      "\n",
      "\n",
      "#Calculation:\n",
      "#For calculating the cost of increasing plant capacity. \n",
      "#We have, referring to Fig. 6.15, the increase in kVA capacity is BD.\n",
      "\n",
      "#Now  OE*cos phy2 = OD*cos phy1\n",
      "#or   OB*cos phy2 = OD*cos phy1        (Since OE = OB)\n",
      "#or            OD = OB * cos phy2/cos phy1 \n",
      "#                 = OB * 0\u00b785/0\u00b77\n",
      "#                 = 1\u00b72143 OB\n",
      "\n",
      "#Increase in the kVA capacity of the plant is\n",
      "#BD = OD \u2212 OB = 1\u00b72143 \u00d7 OB \u2212 OB = 0\u00b72143 OB\n",
      "#Total cost of increasing the plant capacity\n",
      "#                = Rs 800 \u00d7 0\u00b72143 \u00d7 OB\n",
      "#                = Rs 171\u00b744 \u00d7 OB                ...(i)\n",
      "\n",
      "cos_phy1 = 0.7;         sin_phy1 = 0.714\n",
      "cos_phy1 = 0.85;         sin_phy1 = 0.527\n",
      "\n",
      "#Leading kVAR taken by p.f. correction equipment is\n",
      "#  ED = CD \u2212 CE = OD*sin phy1 \u2212 OE*sin phy2\n",
      "#     = 1\u00b72143 * OB*sin phy1 \u2212 OB*sin phy2\n",
      "#     = OB*(1\u00b72143 * 0\u00b7714 \u2212 0\u00b7527) = 0\u00b734 * OB\n",
      "#Suppose the cost per kVAR of the equipment be Rs y.\n",
      "#So, total cost of p.f. correction equipment\n",
      "#                     = Rs 0\u00b734 \u00d7 OB \u00d7 y         ...(ii)\n",
      "#The cost per kVAR of the equipment that would justify its \n",
      "#installation is when exp. (i) = exp. (ii)\n",
      "#i.e.,\n",
      "#                     171\u00b744 \u00d7 OB = 0\u00b734 \u00d7 OB \u00d7 y\n",
      "y = 171.44/0.34                     #Rs/kVAR\n",
      "\n",
      "#If the losses in p.f. correction equipment are neglected, \n",
      "#then its kVAR = kVA.\n",
      "\n",
      "\n",
      "\n",
      "#Result:\n",
      "print \"The maximum cost per kVA of p.f. correction equipment\"\n",
      "print \"that can be paid is  Rs\",round(y,1)"
     ],
     "language": "python",
     "metadata": {},
     "outputs": [
      {
       "output_type": "stream",
       "stream": "stdout",
       "text": [
        "The maximum cost per kVA of p.f. correction equipment\n",
        "that can be paid is  Rs 504.2\n"
       ]
      }
     ],
     "prompt_number": 36
    },
    {
     "cell_type": "heading",
     "level": 3,
     "metadata": {},
     "source": [
      "Example 6.19, Page Number: 124"
     ]
    },
    {
     "cell_type": "code",
     "collapsed": false,
     "input": [
      "from __future__ import division\n",
      "\n",
      "#Variable declaration:\n",
      "pf = 0.7               #power factor when plant working at its max. capacity(lagging)\n",
      "\n",
      "#Calculation:\n",
      "#Cost of increasing plant capacity\n",
      "#      BD = OD \u2212 OB\n",
      "#        = OB * 0.866/0.70-OB\n",
      "#        = OB*(1\u00b7237 \u2212 1)\n",
      "#        = 0\u00b7237 * OB\n",
      "#\u2234 Annual cost of increasing the plant capacity\n",
      "#        = Rs 10 * 0\u00b7237 * OB\n",
      "#        = Rs. 2.37 * OB                             ...(i)\n",
      "\n",
      "#Cost of phase advancing equipment. Leading kVAR taken by\n",
      "#phase advancing equipment,\n",
      "#           ED = CD \u2212 CE\n",
      "#              = OD*sin phy1 \u2212 OE*sin phy2\n",
      "#              = 1.237 * OB * sin phy1 \u2212 OB*sin phy2\n",
      "#              = OB*(1\u00b7237 * 0\u00b7174 \u2212 0\u00b75) = 0\u00b7383 \u00d7 OB\n",
      "#Let the cost per kVAR of the equipment be Rs y.\n",
      "#Annual cost of phase advancing equipment\n",
      "#                  = Rs 0.1 * y * 0\u00b7383 * OB            ...(ii)\n",
      "#For economical use, the two costs should be equal i.e.,\n",
      "#                    exp. (i) = exp. (ii).\n",
      "#or      0\u00b71 * y * 0\u00b7383 * OB = 2\u00b737 * OB\n",
      "y = 2.37/(0.1*0.383)                 #Rs\n",
      "\n",
      "\n",
      "#If the losses in the phase advancing equipment are neglected,\n",
      "#then its kVAR = kVA.\n",
      "\n",
      "\n",
      "\n",
      "#Result:\n",
      "print \"The maximum cost per kVA of phase advancing equipment\"\n",
      "print \"that can be paid is  Rs\",round(y,2)"
     ],
     "language": "python",
     "metadata": {},
     "outputs": [
      {
       "output_type": "stream",
       "stream": "stdout",
       "text": [
        "The maximum cost per kVA of phase advancing equipment\n",
        "that can be paid is  Rs 61.88\n"
       ]
      }
     ],
     "prompt_number": 2
    }
   ],
   "metadata": {}
  }
 ]
}