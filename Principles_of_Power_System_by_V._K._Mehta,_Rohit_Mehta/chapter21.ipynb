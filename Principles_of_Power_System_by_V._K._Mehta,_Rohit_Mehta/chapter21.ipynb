{
 "metadata": {
  "name": "",
  "signature": "sha256:74ef32d0e67f3d77b60188556b39e6627674afc8f6e4feb1b0bbc3ae8dbaee2a"
 },
 "nbformat": 3,
 "nbformat_minor": 0,
 "worksheets": [
  {
   "cells": [
    {
     "cell_type": "heading",
     "level": 1,
     "metadata": {},
     "source": [
      "Chapter 21: Protective Relays"
     ]
    },
    {
     "cell_type": "heading",
     "level": 3,
     "metadata": {},
     "source": [
      "Example 21.1, Page Number: 507"
     ]
    },
    {
     "cell_type": "code",
     "collapsed": false,
     "input": [
      "from __future__ import division\n",
      "\n",
      "#Variable declaration:\n",
      "Is = 5                           #rated secondary current of C.T\n",
      "CS = 1.25                        #current setting\n",
      "TSM = 0.6                        #time setting multiplier\n",
      "IF = 4000                        #fault current(A)\n",
      "CR = 400/5                       #current ratio of CT\n",
      "\n",
      "#Calculation:\n",
      "Ipc = Is*CS                     #pick-up current(A)\n",
      "If = IF*CR                      #Fault current in relay coil(A)\n",
      "PSM = If/Ipc                    #plug setting multiplier\n",
      "#Corresponding to the plug-setting multiplier of 8 given in fig.21.16,\n",
      "#the time of operation is 3.5 seconds.\n",
      "top = 3.5*TSM                   #Actual relay operating time(s)\n",
      "\n",
      "\n",
      "#Result:\n",
      "print \"The relay operating time is\",top,\"seconds\""
     ],
     "language": "python",
     "metadata": {},
     "outputs": [
      {
       "output_type": "stream",
       "stream": "stdout",
       "text": [
        "The relay operating time is 2.1 seconds\n"
       ]
      }
     ],
     "prompt_number": 2
    }
   ],
   "metadata": {}
  }
 ]
}