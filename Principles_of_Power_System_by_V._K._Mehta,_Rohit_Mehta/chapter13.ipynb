{
 "metadata": {
  "name": "",
  "signature": "sha256:9a20e0c71265585c31a8df4c18dfac853044b054341d1794943bfacb3c219678"
 },
 "nbformat": 3,
 "nbformat_minor": 0,
 "worksheets": [
  {
   "cells": [
    {
     "cell_type": "heading",
     "level": 1,
     "metadata": {},
     "source": [
      "Chapter 13: D.C. Distribution"
     ]
    },
    {
     "cell_type": "heading",
     "level": 3,
     "metadata": {},
     "source": [
      "Example 13.1, Page number: 313"
     ]
    },
    {
     "cell_type": "code",
     "collapsed": false,
     "input": [
      "#Variable Declaration:\n",
      "#given a 2-wire d.c. distributor cable AB\n",
      "\n",
      "r = 0.01*2                 #Resistance per 1000m of distributor\n",
      "Va = 300                  #p.d at point A(V)\n",
      "AC = 500                      #m\n",
      "CD = 500                      #m\n",
      "DE = 600                      #m\n",
      "EB = 400                     #m\n",
      "\n",
      "\n",
      "#Calculation:\n",
      "Rac = r*AC/1000            #Resistance of section AC\n",
      "Rcd = r*CD/1000            #Resistance of section CD\n",
      "Rde = r*DE/1000            #Resistance of section DE\n",
      "Reb = r*EB/1000            #Resistance of section EB\n",
      "Ieb = 50                    #current in branch EB(A)\n",
      "Ide = Ieb+200               #current in branch DE(A)\n",
      "Icd = Ide+150               #current in branch CD(A)\n",
      "Iac = Icd+100               #current in branch AC(A)\n",
      "Vc = Va - Iac*Rac            #P.D. at load point C(V)\n",
      "Vd = Vc - Icd*Rcd            #P.D. at load point D(V)\n",
      "Ve = Vd - Ide*Rde            #P.D. at load point E(V)\n",
      "Vb = Ve - Ieb*Reb            #P.D. at load point B(V)\n",
      "\n",
      "#Result:\n",
      "print \"P.D. at load point C is\",Vc,\"V\"\n",
      "print \"P.D. at load point D is\",Vd,\"V\"\n",
      "print \"P.D. at load point E is\",Ve,\"V\"\n",
      "print \"P.D. at load point B is\",Vb,\"V\""
     ],
     "language": "python",
     "metadata": {},
     "outputs": [
      {
       "output_type": "stream",
       "stream": "stdout",
       "text": [
        "P.D. at load point C is 295.0 V\n",
        "P.D. at load point D is 291.0 V\n",
        "P.D. at load point E is 288.0 V\n",
        "P.D. at load point B is 287.6 V\n"
       ]
      }
     ],
     "prompt_number": 8
    },
    {
     "cell_type": "heading",
     "level": 3,
     "metadata": {},
     "source": [
      "Example 13.2, Page number: 314"
     ]
    },
    {
     "cell_type": "code",
     "collapsed": false,
     "input": [
      "from sympy import *\n",
      "\n",
      "\n",
      "#Variable declaration:\n",
      "AB = 300                 #m\n",
      "AC = 40                   #m\n",
      "CD = 60                  #m\n",
      "DE = 50                    #m\n",
      "EF = 100                 #m\n",
      "FB = 50                   #m\n",
      "Vm = 10                  #max. permissible volatge(V)\n",
      "rho = 1.78*10**-8            #resistivity of cable(ohm)\n",
      "\n",
      "\n",
      "#Calculation:\n",
      "Iac = 220                #A\n",
      "Icd = 190                #A\n",
      "Ide = 150                #A\n",
      "Ief = 50                 #A\n",
      "#Suppose that resistance of 100m length of the distributor is r ohms.\n",
      "l = 100                  #m\n",
      "r = symbols('r')\n",
      "Rac = AC*r/100            #ohm\n",
      "Rcd = CD*r/100            #ohm\n",
      "Rde = DE*r/100            #ohm\n",
      "Ref = EF*r/100            #ohm\n",
      "\n",
      "Vt = Iac*Rac+Icd*Rcd+Ide*Rde+Ief*Ref\n",
      "r1 = solve(Vt-Vm,r)[0]\n",
      "a = float(rho*l/(r1/2))            #cm**2\n",
      "\n",
      "\n",
      "#Result:\n",
      "print \"X-sectional area of conductor is\",round(a*10**4,3),\"cm**2\""
     ],
     "language": "python",
     "metadata": {},
     "outputs": [
      {
       "output_type": "stream",
       "stream": "stdout",
       "text": [
        "X-sectional area of conductor is 1.164 cm**2\n"
       ]
      }
     ],
     "prompt_number": 9
    },
    {
     "cell_type": "heading",
     "level": 3,
     "metadata": {},
     "source": [
      "Example 13.3, Page number: 315"
     ]
    },
    {
     "cell_type": "code",
     "collapsed": false,
     "input": [
      "#Variable Declaration:\n",
      "r1 = 0.25                #resistance of trolley wire(ohm/km)\n",
      "r2 = 0.03                #resistance of of track(ohm/km)\n",
      "V = 600                  #sub-station voltage(V)\n",
      "SA = 2                    #km\n",
      "AB = 4                     #km\n",
      "\n",
      "#Calculation:\n",
      "R = r1+r2                #ohm/km\n",
      "Isa = 40+20                #A\n",
      "Iab = 20                   #A\n",
      "Vsa = Isa*R*SA            #V\n",
      "Vab = Iab*R*AB              #V\n",
      "Va = V-Vsa                #Voltage across tram A\n",
      "Vb = Va-Vab                #Voltage across tram A\n",
      "\n",
      "\n",
      "#Result:\n",
      "print \"Voltage across tram A is\",Va,\"V\"\n",
      "print \"Voltage across tram B is\",Vb,\"V\""
     ],
     "language": "python",
     "metadata": {},
     "outputs": [
      {
       "output_type": "stream",
       "stream": "stdout",
       "text": [
        "Voltage across tram A is 566.4 V\n",
        "Voltage across tram B is 544.0 V\n"
       ]
      }
     ],
     "prompt_number": 10
    },
    {
     "cell_type": "heading",
     "level": 3,
     "metadata": {},
     "source": [
      "Example 13.4, Page number: 315"
     ]
    },
    {
     "cell_type": "code",
     "collapsed": false,
     "input": [
      "from __future__ import division\n",
      "\n",
      "#Variable Declaration:\n",
      "a = 0.27                    #cross-sectional area of each conductor(cm**2)\n",
      "V = 250                     #supply voltage at point A(V)\n",
      "rho = 1.78*10**-6           #Resistivity of the wire(ohm-cm)\n",
      "AB = 75                      #m\n",
      "BC = 100                    #m\n",
      "CD = 50                      #m\n",
      "\n",
      "\n",
      "\n",
      "#Calculation:\n",
      "Icd = 20                  #curent in CD(A)\n",
      "Ibc = 20+15                 #current in BC(A)\n",
      "Iab = 20+15+12            #current in AB(A)\n",
      "R = round(rho*BC*100/a,3)       #Single-core resistance of the section of 100 m length(ohm)\n",
      "Rab = R*AB/100*2        #ohm\n",
      "Rbc = R*BC/100*2        #ohm\n",
      "Rcd = R*CD/100*2        #ohm\n",
      "Vb = V-Iab*Rab                #Voltage at tapping point B(V)\n",
      "Vc = Vb-Ibc*Rbc                #Voltage at tapping point C(V)\n",
      "Vd = Vc-Icd*Rcd                #Voltage at tapping point D(V)\n",
      "\n",
      "\n",
      "#Result:\n",
      "print \"(i)The current in various sections of the conductor are:\"\n",
      "print \"\\tIcd =\",Icd,\"A  \\tIbc =\",Ibc,\"A\\tIab =\",Iab,\"A\"\n",
      "print \"\\n(ii)The resistances of the various sections are :\"\n",
      "print \"\\tRab =\",Rab,\"ohm\\tRbc =\",Rbc,\"ohm\\t\",Rcd,\"ohm\"\n",
      "print \"\\n(iii)Voltage at tapping point B is\",round(Vb,2),\"V\"\n",
      "print \"     Voltage at tapping point C is\",round(Vc,2),\"V\"\n",
      "print \"     Voltage at tapping point D is\",round(Vd,2),\"V\""
     ],
     "language": "python",
     "metadata": {},
     "outputs": [
      {
       "output_type": "stream",
       "stream": "stdout",
       "text": [
        "(i)The current in various sections of the conductor are:\n",
        "\tIcd = 20 A  \tIbc = 35 A\tIab = 47 A\n",
        "\n",
        "(ii)The resistances of the various sections are :\n",
        "\tRab = 0.099 ohm\tRbc = 0.132 ohm\t0.066 ohm\n",
        "\n",
        "(iii)Voltage at tapping point B is 245.35 V\n",
        "     Voltage at tapping point C is 240.73 V\n",
        "     Voltage at tapping point D is 239.41 V\n"
       ]
      }
     ],
     "prompt_number": 11
    },
    {
     "cell_type": "heading",
     "level": 3,
     "metadata": {},
     "source": [
      "Example 13.5, Page number: 317"
     ]
    },
    {
     "cell_type": "code",
     "collapsed": false,
     "input": [
      "from __future__ import division\n",
      "\n",
      "\n",
      "#Variable declaration:\n",
      "i = 2                        #A/m\n",
      "l = 200                      #length of distributor(m)\n",
      "r1 = 0.3                     #Resistance of single wire is 0\u00b73 ohm/km.\n",
      "x = 150                       #m\n",
      "\n",
      "#Calculation:\n",
      "r = 2*r1/1000                #Resistance of distributor per metre run(ohm)\n",
      "V = i*r*(l*x-x**2/2)           #volt\n",
      "I = i*l                      #Total current entering the distributor(A)\n",
      "R = r*l                      #Total resistance of the distributor(ohm)\n",
      "V1 = 1/2*I*R                 #Total drop over the distributor(V)\n",
      "\n",
      "\n",
      "#Result:\n",
      "print \"(i)The voltage drop upto a distance of 150m from \"\n",
      "print \"\\tthe feeding point is\",V,\"V\"\n",
      "print \"(ii)The maximum voltage drop is\",V1,\"V\""
     ],
     "language": "python",
     "metadata": {},
     "outputs": [
      {
       "output_type": "stream",
       "stream": "stdout",
       "text": [
        "(i)The voltage drop upto a distance of 150m from \n",
        "\tthe feeding point is 22.5 V\n",
        "(ii)The maximum voltage drop is 24.0 V\n"
       ]
      }
     ],
     "prompt_number": 12
    },
    {
     "cell_type": "heading",
     "level": 3,
     "metadata": {},
     "source": [
      "Example 13.6, Page number: 317"
     ]
    },
    {
     "cell_type": "code",
     "collapsed": false,
     "input": [
      "#Variable declaration:\n",
      "i = 0.4                        #A/m\n",
      "l = 500                      #length of distributor(m)\n",
      "Vm = 10                       #maximum permissible voltage drop(V)\n",
      "rho = 1.7*10**-6             #ohm-cm\n",
      "\n",
      "\n",
      "#Calculation:\n",
      "I = i*l                   #Current entering the distributor(A)\n",
      "#Let r ohm be the resistance per metre length of the distributor (both wires).\n",
      "r = 2*Vm/(I*l)            #resistance per metre length(ohm)\n",
      "a = rho*100/(r/2)           #Area of cross-section of the distributor conductor(ohm)\n",
      "\n",
      "\n",
      "#Result:\n",
      "print \"The cross-sectional area of the distributor conductor is\",a,\"cm**2\""
     ],
     "language": "python",
     "metadata": {},
     "outputs": [
      {
       "output_type": "stream",
       "stream": "stdout",
       "text": [
        "The cross-sectional area of the distributor conductor is 1.7 cm**2\n"
       ]
      }
     ],
     "prompt_number": 13
    },
    {
     "cell_type": "heading",
     "level": 3,
     "metadata": {},
     "source": [
      "Example 13.7, Page number: 318"
     ]
    },
    {
     "cell_type": "code",
     "collapsed": false,
     "input": [
      "#Variable declaration:\n",
      "i = 1.6                        #A/m\n",
      "l = 250                      #length of distributor(m)\n",
      "r1 = 0.0002                     #Resistance of single wire is 0\u00b73 ohm/m.\n",
      "x = 150                       #m\n",
      "\n",
      "\n",
      "#Calculation:\n",
      "I = i*l                    #Current entering the distributor(A)\n",
      "r = 2*r1             #Resistance of the distributor per metre run\n",
      "R = r*l                    #Total resistance of distributor(ohm)\n",
      "V1 = 1/2*I*R            #Voltage drop over the entire distributor(ohm)\n",
      "#the voltage necessary at feed point to maintain 250 V at the far end\n",
      "V2 = V1+250               #Voltage at feeding point(V)\n",
      "#Voltage drop upto a distance of 150 metres from feeding point\n",
      "V3 = i*r*(l*125-125**2/2)          #Volt\n",
      "##Voltage necessary to maintain 250V at the mid-point of the distributor.\n",
      "V4 = 250+V3\n",
      "\n",
      "#Result:\n",
      "print \"(i) Voltage drop over the entire distributor is\",V2,\"V\"\n",
      "print \"(ii)The necessary voltage is\",V4,\"V\""
     ],
     "language": "python",
     "metadata": {},
     "outputs": [
      {
       "output_type": "stream",
       "stream": "stdout",
       "text": [
        "(i) Voltage drop over the entire distributor is 270.0 V\n",
        "(ii)The necessary voltage is 265.0 V\n"
       ]
      }
     ],
     "prompt_number": 14
    },
    {
     "cell_type": "heading",
     "level": 3,
     "metadata": {},
     "source": [
      "Example 13.9, Page number: 319"
     ]
    },
    {
     "cell_type": "code",
     "collapsed": false,
     "input": [
      "#Variable declaration:\n",
      "i = 0.75                  #current loading(A/m)\n",
      "l = 300                   #distributor length(m)\n",
      "x = 200                    #m\n",
      "r = 0.00018             #resistance of distributor(go and return)(ohm/m)\n",
      "V = 250                  #voltage fed at 1 end(V)\n",
      "\n",
      "#Calculation:\n",
      "V1 = i*r*(l*x-x**2/2)            #Voltage drop(V)\n",
      "#Voltage at a distance of 200 m from supply end\n",
      "V2 = V-V1              #V\n",
      "P = i**2*r*l**3/3            #Power loss in the distributor(W)\n",
      "\n",
      "\n",
      "#Result:\n",
      "print \"Volatage at a distance of 200m is\",V2,\"V\"\n",
      "print \"Power loss in the distributor is\",P,\"W\""
     ],
     "language": "python",
     "metadata": {},
     "outputs": [
      {
       "output_type": "stream",
       "stream": "stdout",
       "text": [
        "Volatage at a distance of 200m is 244.6 V\n",
        "Power loss in the distributor is 911.25 W\n"
       ]
      }
     ],
     "prompt_number": 15
    },
    {
     "cell_type": "heading",
     "level": 3,
     "metadata": {},
     "source": [
      "Example 13.10, Page number: 321"
     ]
    },
    {
     "cell_type": "code",
     "collapsed": false,
     "input": [
      "from sympy import *\n",
      "\n",
      "\n",
      "#Variable declaration:\n",
      "AB = 600                 #m\n",
      "Va = 220                 #end voltage(V)\n",
      "a = 1                   #cross-section of conductor(cm**2)\n",
      "rho = 1.7*10**-6         #resistvity of conductor(ohm-cm)\n",
      "\n",
      "#Calculation:\n",
      "\n",
      "#Let Ia amperes be the current supplied from the feeding\n",
      "#end A.\n",
      "r = 2*rho*100/a             #ohm\n",
      "Rac = r*100               #ohm\n",
      "Rcd = r*150               #ohm\n",
      "Rde = r*150               #ohm\n",
      "Ref = r*100               #ohm\n",
      "Rfb = r*100               #ohm\n",
      "#Voltage at B = Voltage at A \u2212 Drop over length AB\n",
      "Ia = symbols('Ia')\n",
      "Ia1 = solve(Va-(Ia*Rac+(Ia-20)*Rcd+(Ia-60)*Rde+(Ia-110)*Ref+(Ia-140)*Rfb)-Va,Ia)[0]\n",
      "#We can see that currents are coming to load point E from \n",
      "#both sides i.e. from point D and point F. \n",
      "#So, E will be the point of minimum potential.\n",
      "\n",
      "Ve = Va-(61.7*Rac+41.7*Rcd+1.7*Rde)        #Minimum consumer voltage(V)\n",
      "\n",
      "#Result:\n",
      "print \"Minimum consumer voltage is\",round(Ve,2),\"V\""
     ],
     "language": "python",
     "metadata": {},
     "outputs": [
      {
       "output_type": "stream",
       "stream": "stdout",
       "text": [
        "Minimum consumer voltage is 215.69 V\n"
       ]
      }
     ],
     "prompt_number": 16
    },
    {
     "cell_type": "heading",
     "level": 3,
     "metadata": {},
     "source": [
      "Example 13.11, Page number: 322"
     ]
    },
    {
     "cell_type": "code",
     "collapsed": false,
     "input": [
      "from __future__ import division\n",
      "from sympy import *\n",
      "\n",
      "#Variable declaration:\n",
      "AB = 200                 #m\n",
      "Va = 230                 #1 end voltage(V)\n",
      "Vb = 235                 #2 end voltage(V)\n",
      "r1 = 0.3                #The resistance per km of one conductor(ohm)\n",
      "\n",
      "\n",
      "#Calculation:\n",
      "#Let Ia amperes be the current supplied from the feeding\n",
      "#end A.\n",
      "r = 2*r1                #Resistance of 1000m length of distributor(both wires)\n",
      "Rac = r*50/1000               #ohm\n",
      "Rcd = r*25/1000               #ohm\n",
      "Rde = r*25/1000              #ohm\n",
      "Ref = r*50/1000               #ohm\n",
      "Rfb = r*50/1000             #ohm\n",
      "Ia = symbols('Ia')\n",
      "Ia1 = round(solve(Va-(Ia*Rac+(Ia-25)*Rcd+(Ia-75)*Rde+(Ia-105)*Ref+(Ia-145)*Rfb)-Vb,Ia)[0],2)\n",
      "Iac = Ia1                     #Current in section AC(A)\n",
      "Icd = Ia1-25                  #Current in section CD(A)\n",
      "Ide = Ia1-75                  #Current in section DE(A)\n",
      "Ief = Ia1-105                  #Current in section EF(A)\n",
      "Ifb = Ia1 -145                 #Current in section FB(A)\n",
      "#The currents are coming to load point D from both sides of \n",
      "#the distributor. Therefore, load point D is the point of minimum potential.\n",
      "Vd = Va-(Iac*Rac+Icd*Rcd)         #volt\n",
      "\n",
      "\n",
      "#Result:\n",
      "print \"(i) Currents in various sections of the distributor are:\"\n",
      "print \"\\tCurrent in section AC is\",Iac,\"A\"\n",
      "print \"\\tCurrent in section AC is\",Icd,\"A\"\n",
      "print \"\\tCurrent in section AC is\",Ide,\"A\"\n",
      "print \"\\tCurrent in section AC is\",Ief,\"A\"\n",
      "print \"\\tCurrent in section AC is\",Ifb,\"A\"\n",
      "print \"\\n(ii)Voltage at D is\",round(Vd,3),\"V\""
     ],
     "language": "python",
     "metadata": {},
     "outputs": [
      {
       "output_type": "stream",
       "stream": "stdout",
       "text": [
        "(i) Currents in various sections of the distributor are:\n",
        "\tCurrent in section AC is 33.33 A\n",
        "\tCurrent in section AC is 8.33 A\n",
        "\tCurrent in section AC is -41.67 A\n",
        "\tCurrent in section AC is -71.67 A\n",
        "\tCurrent in section AC is -111.67 A\n",
        "\n",
        "(ii)Voltage at D is 228.875 V\n"
       ]
      }
     ],
     "prompt_number": 17
    },
    {
     "cell_type": "heading",
     "level": 3,
     "metadata": {},
     "source": [
      "Example 13.12, Page number: 323"
     ]
    },
    {
     "cell_type": "code",
     "collapsed": false,
     "input": [
      "from __future__ import division\n",
      "from sympy import *\n",
      "\n",
      "\n",
      "#Variable declaration:\n",
      "AB = 600                 #m\n",
      "Va = 440                 #1 end voltage(V)\n",
      "Vb = 430                 #2 end voltage(V)\n",
      "r1 = 0.01                #The resistance per 100m of one conductor(ohm)\n",
      "\n",
      "\n",
      "#Calculation:\n",
      "#Let Ia amperes be the current supplied from the feeding\n",
      "#end A.\n",
      "r = 2*r1                #Resistance of 1000m length of distributor(both wires)\n",
      "Rac = r*150/100               #ohm\n",
      "Rcd = r*150/100               #ohm\n",
      "Rde = r*50/100              #ohm\n",
      "Ref = r*100/100               #ohm\n",
      "Rfb = r*150/100             #ohm\n",
      "Ia = symbols('Ia')\n",
      "Ia1 = round(solve(Va-(Ia*Rac+(Ia-100)*Rcd+(Ia-300)*Rde+(Ia-550)*Ref+(Ia-850)*Rfb)-Vb,Ia)[0],2)\n",
      "Iac = Ia1                     #Current in section AC(A)\n",
      "Icd = Ia1-100                  #Current in section CD(A)\n",
      "Ide = Ia1-300                  #Current in section DE(A)\n",
      "Ief = Ia1-550                  #Current in section EF(A)\n",
      "Ifb = Ia1-850                 #Current in section FB(A)\n",
      "Pl = Iac**2*Rac+Icd**2*Rcd+Ide**2*Rde+Ief**2*Ref+Ifb**2*Rfb  #power loss(W)\n",
      "\n",
      "\n",
      "\n",
      "#Result:\n",
      "print \"(i) The currents supplied from A to B are:\\n\\tIa =\",Ia1,\"A\\tIb =\",abs(Ifb),\"A\" \n",
      "print  \"(ii) The power dissipated in the distributor is\",round(Pl/1000,3),\"kW\""
     ],
     "language": "python",
     "metadata": {},
     "outputs": [
      {
       "output_type": "stream",
       "stream": "stdout",
       "text": [
        "(i) The currents supplied from A to B are:\n",
        "\tIa = 437.5 A\tIb = 412.5 A\n",
        "(ii) The power dissipated in the distributor is 14.706 kW\n"
       ]
      }
     ],
     "prompt_number": 18
    },
    {
     "cell_type": "heading",
     "level": 3,
     "metadata": {},
     "source": [
      "Example 13.13, Page number: 325"
     ]
    },
    {
     "cell_type": "code",
     "collapsed": false,
     "input": [
      "from __future__ import division\n",
      "from sympy import *\n",
      "\n",
      "#Variable declaration:\n",
      "Va = 600                      #V\n",
      "Vb = 590                      #V\n",
      "r = 0.04         #track resistance of go and return path(ohm/km)\n",
      "AB = 6                        #distance b/w the sub-stations(km)\n",
      "\n",
      "\n",
      "#Calculation:\n",
      "#Let min. potential occurs at point M at a distance x km from the substation A.\n",
      "\n",
      "\n",
      "Ia,x = symbols('Ia x')      #Ia is current supplied by the sub-station A\n",
      "Ram = r*x                   #Track resistance for section AM(ohm)\n",
      "Rmb = r*(AB-x)             #Track resistance for section MB(ohm)\n",
      "Vm = Va-Ia*Ram              #Potential at M(V)       ...(i)\n",
      "Vm1 = Vb-(300-Ia)*Rmb       #also,Potential at M(V)  ...(ii)\n",
      "\n",
      "#from (i) & (ii):\n",
      "Ia = 341.7-50*x\n",
      "Vm = Va-(341.7 - 50*x)*0.04*x\n",
      "Vm2 = diff(Vm,x)\n",
      "x1 = round(solve(Vm2,x)[0],2)\n",
      "Ia1 = 341.7-50*x1             #A\n",
      "Ib = 300-Ia1                   #A\n",
      "\n",
      "#Result:\n",
      "print \"(i) The point along the track where minimum potential occurs is\",x1,\"km\"\n",
      "print \"(ii)Current supplied by sub-ation A is\",Ia1,\"A\"\n",
      "print \"    Current supplied by sub-station B is\",Ib,\"A\""
     ],
     "language": "python",
     "metadata": {},
     "outputs": [
      {
       "output_type": "stream",
       "stream": "stdout",
       "text": [
        "(i) The point along the track where minimum potential occurs is 3.42 km\n",
        "(ii)Current supplied by sub-ation A is 170.7 A\n",
        "    Current supplied by sub-station B is 129.3 A\n"
       ]
      }
     ],
     "prompt_number": 19
    },
    {
     "cell_type": "heading",
     "level": 3,
     "metadata": {},
     "source": [
      "Example 13.14, Page number: 327"
     ]
    },
    {
     "cell_type": "code",
     "collapsed": false,
     "input": [
      "from __future__ import division\n",
      "\n",
      "\n",
      "#Variable declaration:\n",
      "i = 0.5                     #current loading(A/m)\n",
      "l = 1000                     #cable length(m)\n",
      "V = 220                      #end voltages(V)\n",
      "r1 = 0.05                     #Resistance of each of 2 conductors(ohm/km)\n",
      "\n",
      "#Calculation:\n",
      "r = 2*r1/1000             #ohm/m\n",
      "I = i*l                     #A\n",
      "R = r*l                   #ohm\n",
      "Vm = I*R/8               #Max. voltage drop(V)\n",
      "#Minimum voltage will occur at the mid-point of the distributor & its value is\n",
      "Vmin = V-Vm            #V\n",
      "\n",
      "\n",
      "#Result:\n",
      "print \"The maximum voltage drop is\",Vm,\"V\"\n",
      "print \"The minimum voltage is\",Vmin,\"V at the midpoint of the distributor.\""
     ],
     "language": "python",
     "metadata": {},
     "outputs": [
      {
       "output_type": "stream",
       "stream": "stdout",
       "text": [
        "The maximum voltage drop is 6.25 V\n",
        "The minimum voltage is 213.75 V at the midpoint of the distributor.\n"
       ]
      }
     ],
     "prompt_number": 20
    },
    {
     "cell_type": "heading",
     "level": 3,
     "metadata": {},
     "source": [
      "Example 13.15, Page number: 327"
     ]
    },
    {
     "cell_type": "code",
     "collapsed": false,
     "input": [
      "from __future__ import division\n",
      "\n",
      "#Variable declaration:\n",
      "Va = 255                    #Voltage at feeding point A(V)\n",
      "Vb = 250                    #Voltage at feeding point B(V)\n",
      "l = 500                     #Length of distributor(m)\n",
      "i = 1                        #Current loading(A/m)\n",
      "r1 = 0.1                    #resistance of each conductor(ohm/km)\n",
      "\n",
      "#Calculation:\n",
      "r = 2*r1/1000\n",
      "#(i) Let the minimum potential occur at a point C distant x \n",
      "#    metres from the feeding point A.\n",
      "\n",
      "x = (Va-Vb)/(i*r*l)+l/2            #m\n",
      "Vc = Va-i*r*x**2/2               #minimum voltage(V)\n",
      "\n",
      "\n",
      "#(ii)\n",
      "ia = i*x                         #Current supplied from A(A)\n",
      "ib = i*(l-x)                      #Current supplied from B(A)\n",
      "\n",
      "\n",
      "#Result:\n",
      "print \"(i) The minimum voltage is\",Vc,\"V at\",x,\"m from point A\"\n",
      "print \"(ii)Current supplied from A is\",ia,\"A\"\n",
      "print \"    Current supplied from B is\",ib,\"A\""
     ],
     "language": "python",
     "metadata": {},
     "outputs": [
      {
       "output_type": "stream",
       "stream": "stdout",
       "text": [
        "(i) The minimum voltage is 246.0 V at 300.0 m from point A\n",
        "(ii)Current supplied from A is 300.0 A\n",
        "    Current supplied from B is 200.0 A\n"
       ]
      }
     ],
     "prompt_number": 21
    },
    {
     "cell_type": "heading",
     "level": 3,
     "metadata": {},
     "source": [
      "Example 13.16, Page number: 328"
     ]
    },
    {
     "cell_type": "code",
     "collapsed": false,
     "input": [
      "from __future__ import division\n",
      "\n",
      "#Variable declaration:\n",
      "l = 800                     #Length of distributor(m)\n",
      "i = 1.25                       #Current loading(A/m)\n",
      "r1 = 0.05                   #resistance of each conductor(ohm/km)\n",
      "Vc = 220                    #minimum voltage(V)\n",
      "x = 450                     #Distance of point C from A(m)\n",
      "\n",
      "#Calculation:\n",
      "r = 2*r1/1000\n",
      "Vac = i*r*x**2/2           #Voltage drop in section AC(V)\n",
      "Va = Vac+Vc                #Voltage at feeding point A(V)\n",
      "Vbc = i*r*(l-x)**2/2         #Voltage drop in section BC(V)\n",
      "Vb = Vc+Vbc                #Voltage at feeding point B(V)\n",
      "\n",
      "\n",
      "#Result:\n",
      "print \"Voltage at feeding point A is\",round(Va,2),\"V\"\n",
      "print \"Voltage at feeding point B is\",round(Vb,2),\"V\""
     ],
     "language": "python",
     "metadata": {},
     "outputs": [
      {
       "output_type": "stream",
       "stream": "stdout",
       "text": [
        "Voltage at feeding point A is 232.66 V\n",
        "Voltage at feeding point B is 227.66 V\n"
       ]
      }
     ],
     "prompt_number": 22
    },
    {
     "cell_type": "heading",
     "level": 3,
     "metadata": {},
     "source": [
      "Example 13.17, Page number: 329"
     ]
    },
    {
     "cell_type": "code",
     "collapsed": false,
     "input": [
      "from __future__ import division\n",
      "\n",
      "#Variable declaration:\n",
      "i = 1.25                   #current loading (A/m)\n",
      "l = 1000                   #length of distributor(m)\n",
      "r1 = 0.05                  #resistance of each conductor(ohm/km)\n",
      "\n",
      "\n",
      "\n",
      "#Calculation:\n",
      "I = i*l                    #Total current fed to the distributor(A)\n",
      "R = r*l                    #Total resistance of the distributor(ohm)\n",
      "V = I*R/8                  #Max. voltage drop(V)\n",
      "\n",
      "\n",
      "#Result:\n",
      "print \"Maximum voltage drop in the distributor is\",round(V,2),\"V\""
     ],
     "language": "python",
     "metadata": {},
     "outputs": [
      {
       "output_type": "stream",
       "stream": "stdout",
       "text": [
        "Maximum voltage drop in the distributor is 15.63 V\n"
       ]
      }
     ],
     "prompt_number": 23
    },
    {
     "cell_type": "heading",
     "level": 3,
     "metadata": {},
     "source": [
      "Example 13.19, Page number: 330"
     ]
    },
    {
     "cell_type": "code",
     "collapsed": false,
     "input": [
      "from __future__ import division\n",
      "\n",
      "#Variable declaration:\n",
      "l = 900                   #distributor length(m)\n",
      "Va = 400                  #voltage fed at a A(V)\n",
      "i = 0.5                   #current loading(A/m)\n",
      "r = 0.0001                #resistance of distributor per m (go and return)(ohm)\n",
      "x = 500                   #length AD(m)\n",
      "\n",
      "#Calculation:\n",
      "#Drops due to concentrated loads.\n",
      "Iac = 300                #A\n",
      "Icd = 250                #A\n",
      "Ide = 150                #A\n",
      "Vac = Iac*200*r            #Drop in section AC(V)\n",
      "Vcd = Icd*300*r             #Drop in section CD(V)\n",
      "Vde = Ide*300*r             #Drop in section DE(V)\n",
      "Vab1 = Vac+Vcd+Vde           #Total drop over AB(V)\n",
      "\n",
      "\n",
      "#Drops due to uniform loading:\n",
      "Vab2 = i*r*l**2/2             #V\n",
      "Vad = i*r*(l*x-x**2/2)        #V\n",
      "Vb = Va-(Vab1+Vab2)          #V\n",
      "Vd = Va-(Vac+Vcd+Vad)         #V\n",
      "\n",
      "\n",
      "\n",
      "#Result:\n",
      "print \"(i) Voltage at point B is\",Vb,\"V\"\n",
      "print \"(ii)Voltage at point D is\",Vd,\"V\""
     ],
     "language": "python",
     "metadata": {},
     "outputs": [
      {
       "output_type": "stream",
       "stream": "stdout",
       "text": [
        "(i) Voltage at point B is 361.75 V\n",
        "(ii)Voltage at point D is 370.25 V\n"
       ]
      }
     ],
     "prompt_number": 24
    },
    {
     "cell_type": "heading",
     "level": 3,
     "metadata": {},
     "source": [
      "Example 13.20, Page number: 331"
     ]
    },
    {
     "cell_type": "code",
     "collapsed": false,
     "input": [
      "from __future__ import division\n",
      "from sympy import *\n",
      "\n",
      "#Variable declaration:\n",
      "r = 0.1*10**-3              #Distributor resistance per metre length\n",
      "i = 0.5                     #uniform current loading(A/m)\n",
      "Va = 240                    #end voltage at A(V)\n",
      "Vb = 240                    #end voltage at B(V)\n",
      "l = 1000                    #length of distributor(m)\n",
      "\n",
      "\n",
      "#Calculation:\n",
      "#(i) Point of minimum potential:\n",
      "#We know that, the point of minimum potential is not affected\n",
      "#by the uniform loading of the distributor. \n",
      "#Considering the concentrated loads first as shown below:\n",
      "\n",
      "I = symbols('I')\n",
      "Iac = I\n",
      "Icd = I-120\n",
      "Ide = I-180\n",
      "Ief = I-280\n",
      "Ifb = I-320\n",
      "I1 = solve((Iac*200+Icd*200+Ide*300+Ief*200+Ifb*100)*10**-4-Va+Vb,I)[0]\n",
      "\n",
      "#Showing the current distributions, we can see that D is \n",
      "#the point of minimum potential.\n",
      "\n",
      "#(ii) The feeding point A will supply I1 A due to concentrated\n",
      "#     loading plus 0\u00b75 \u00d7 400 = 200 A due to uniform loading.\n",
      "\n",
      "Ia = I1+200             #Current supplied by A(A)\n",
      "\n",
      "#The feeding point B will supply a current of 154 A due to \n",
      "#concentrated loading plus 0\u00b75 \u00d7 600 = 300 A due to uniform loading.\n",
      "\n",
      "Ib = 320-I1+300           #Current supplied byB(A)\n",
      "\n",
      "\n",
      "\n",
      "#(iii) We got that D is the point of minimum potential.\n",
      "Iac = I1;       Icd = I1-120        #ampere\n",
      "Vad1 = Iac*200*10**-4+Icd*200*10**-4         #Drop in AD due to conc. loading(V)\n",
      "AD = 400                        #for uniform loading(V)\n",
      "Vad2 = i*r*AD**2/2              #Drop in AD due to uniform. loading(V)\n",
      "Vd = 240-Vad1-Vad2              #Minimum potential(V)\n",
      "\n",
      "\n",
      "#Result:\n",
      "print \"(i)  The point of minimum potential is D\"\n",
      "print \"(ii) Current supplied by A is\",round(Ia),\"A\"\n",
      "print \"     Current supplied by B is\",round(Ib),\"A\"\n",
      "print \"(iii)The value of minimum potential is\",round(Vd,2),\"V\""
     ],
     "language": "python",
     "metadata": {},
     "outputs": [
      {
       "output_type": "stream",
       "stream": "stdout",
       "text": [
        "(i)  The point of minimum potential is D\n",
        "(ii) Current supplied by A is 366.0 A\n",
        "     Current supplied by B is 454.0 A\n",
        "(iii)The value of minimum potential is 231.76 V\n"
       ]
      }
     ],
     "prompt_number": 25
    },
    {
     "cell_type": "heading",
     "level": 3,
     "metadata": {},
     "source": [
      "Example 13.21, Page number: 332"
     ]
    },
    {
     "cell_type": "code",
     "collapsed": false,
     "input": [
      "from __future__ import division\n",
      "from sympy import *\n",
      "\n",
      "\n",
      "#Variable declaration:\n",
      "l = 500                     #distributor length(m)\n",
      "Va = 240                    #voltage at end A(V)\n",
      "Vb = 240                    #voltage at end B(V)\n",
      "R = 0.001                   #resistance of the distributor(ohm/m)\n",
      "i = 1                        #current loading(A/m)\n",
      "\n",
      "#Calculation:\n",
      "#Let D be the point of minimum potential\n",
      "x = symbols('x')                   #x is current flowing in section CD(A)\n",
      "\n",
      "#(i) If r is the resistance of the distributor (go and return)\n",
      "#per metre,\n",
      "r = symbols('r')\n",
      "Vad = (100+x)*100*r+x*150*r         #Voltage drop in length AD\n",
      "Vbd = 1*r*200**2/2+(60-x)*250*r       #Voltage drop in length BD\n",
      "x1 = solve(Vad-Vbd,x)[0]           #A\n",
      "\n",
      "#(ii)\n",
      "I = 60+1*200            #Total current(A)\n",
      "Ia = 100+x1             #Current supplied by A(A)\n",
      "Ib = 360-150              #Current supplied by B(V)\n",
      "Vd = Va - Ia*100*0.001-50*150*0.001        #Minimum potential(V)\n",
      "\n",
      "\n",
      "#Result:\n",
      "print \"(i) The point of minimum voltage is D.\"\n",
      "print \"(ii)The value of minimum voltage is\",round(Vd,1),\"V\""
     ],
     "language": "python",
     "metadata": {},
     "outputs": [
      {
       "output_type": "stream",
       "stream": "stdout",
       "text": [
        "(i) The point of minimum voltage is D.\n",
        "(ii)The value of minimum voltage is 217.5 V\n"
       ]
      }
     ],
     "prompt_number": 26
    },
    {
     "cell_type": "heading",
     "level": 3,
     "metadata": {},
     "source": [
      "Example 13.22, Page number: 334"
     ]
    },
    {
     "cell_type": "code",
     "collapsed": false,
     "input": [
      "from __future__ import division\n",
      "from sympy import *\n",
      "\n",
      "#Variable declaration:\n",
      "l = 300                           #distributor length(m)\n",
      "r1 = 0.03/100               #resistance of single conductor(ohm/m)\n",
      "Va = 240                        #volt\n",
      "\n",
      "#Calculation:\n",
      "r = 2*r1                      #resistance of both wires(ohm/m)\n",
      "Rab = r*150                   #ohm\n",
      "Rbc = r*50                    #ohm\n",
      "Rca = r*100                    #ohm\n",
      "#suppose a current IA flows in section AB of the distributor.\n",
      "#currents in sections BC and CA will be (Ia \u2212 120) & (Ia \u2212 200)\n",
      "Ia = symbols('Ia')\n",
      "Ia1 = solve(0.09*Ia+0.03*(Ia-120)+0.06*(Ia-200),Ia)[0]\n",
      "\n",
      "#The actual distribution of currents ca be drawn easily\n",
      "#from where it is seen that B is the point of min. potential.\n",
      "Iab = Ia1                    #Current in section AB(A)\n",
      "Ibc = Ia1-120                #Current in section BC(A)\n",
      "Ica = Ia1-200                 #current in section CA(A)\n",
      "Vb = Va-Iab*Rab              #Voltage at point B(V)\n",
      "Vc = Vb-Ibc*Rbc              #Voltage at point C(V)\n",
      "\n",
      "\n",
      "#Result:\n",
      "print \"(i) Current in section AB is\",round(Iab,2),\"A from A to B\"\n",
      "print \"    Current in section BC is\",round(abs(Ibc),2),\"A from C to B\"\n",
      "print \"    Current in section ca is\",round(abs(Ica),2),\"A from A to C\"\n",
      "print \"(ii)Voltage at point B is\",round(Vb,1),\"V\"\n",
      "print \"    Voltage at point C is\",round(Vc,1),\"V\""
     ],
     "language": "python",
     "metadata": {},
     "outputs": [
      {
       "output_type": "stream",
       "stream": "stdout",
       "text": [
        "(i) Current in section AB is 86.67 A from A to B\n",
        "    Current in section BC is 33.33 A from C to B\n",
        "    Current in section ca is 113.33 A from A to C\n",
        "(ii)Voltage at point B is 232.2 V\n",
        "    Voltage at point C is 233.2 V\n"
       ]
      }
     ],
     "prompt_number": 27
    },
    {
     "cell_type": "heading",
     "level": 3,
     "metadata": {},
     "source": [
      "Example 13.23, Page number: 335"
     ]
    },
    {
     "cell_type": "code",
     "collapsed": false,
     "input": [
      "from __future__ import division\n",
      "from sympy import *\n",
      "\n",
      "#Variable declaration:\n",
      "Va = 220                 #voltage at point A(V)\n",
      "Rab = 0.1                 #ohm\n",
      "Rbc = 0.05                #ohm\n",
      "Rcd = 0.01               #ohm\n",
      "Rde = 0.025             #ohm\n",
      "Rea = 0.075              #ohm\n",
      "\n",
      "\n",
      "\n",
      "#Calculation:\n",
      "#(i)\n",
      "I1 = solve(0.1*I+0.05*(I-10)+0.01*(I-30)+0.025*(I-60)+0.075*(I-70),I)[0]\n",
      "\n",
      "#(ii)\n",
      "Iab = I1                    #A\n",
      "Ibc = I1-10                 #A\n",
      "Icd = I1-30                 #A\n",
      "Ide = I1-60                 #A\n",
      "Iea = I1-70                 #A\n",
      "\n",
      "\n",
      "#Result:\n",
      "print \"(i) C is the point of minimum potential.\"\n",
      "print \"(ii)Current in section AB is\",round(Iab,2),\"A  from A to B\"\n",
      "print \"    Current in section BC is\",round(Ibc,2),\"A  from B to C\"\n",
      "print \"    Current in section CD is\",round(abs(Icd),2),\"A  from D to C\"\n",
      "print \"    Current in section DE is\",round(abs(Ide),2),\"A  from E to D\"\n",
      "print \"    Current in section EA is\",round(abs(Iea),2),\"A  from A to E\""
     ],
     "language": "python",
     "metadata": {},
     "outputs": [
      {
       "output_type": "stream",
       "stream": "stdout",
       "text": [
        "(i) C is the point of minimum potential.\n",
        "(ii)Current in section AB is 29.04 A  from A to B\n",
        "    Current in section BC is 19.04 A  from B to C\n",
        "    Current in section CD is 0.96 A  from D to C\n",
        "    Current in section DE is 30.96 A  from E to D\n",
        "    Current in section EA is 40.96 A  from A to E\n"
       ]
      }
     ],
     "prompt_number": 28
    },
    {
     "cell_type": "heading",
     "level": 3,
     "metadata": {},
     "source": [
      "Example 13.24, Page number: 336"
     ]
    },
    {
     "cell_type": "code",
     "collapsed": false,
     "input": [
      "from __future__ import division\n",
      "from sympy import *\n",
      "\n",
      "#Variable declaration:\n",
      "Rab = 0.02                     #ohm\n",
      "Rbc = 0.018                     #ohm\n",
      "Rcd = 0.025                    #ohm\n",
      "Rda = 0.02                     #ohm\n",
      "Va = 250                       #voltage ate point A(V)\n",
      "\n",
      "\n",
      "\n",
      "\n",
      "#Calculation:\n",
      "I = symbols('I')\n",
      "I1 = solve(0.02*I+0.018*(I-150)+0.025*(I-450)+0.02*(I-700),I)[0]\n",
      "Vab = 336.75*0.02              #V\n",
      "Vbc = 186.75*0.018             #V\n",
      "Vcd = 113.25*0.025             #V\n",
      "Vda = 363.25*0.02              #V\n",
      "Vb = Va-Vab                    #V\n",
      "Vc = Vb-Vbc                    #V\n",
      "Vd = Vc+Vcd                    #V\n",
      "\n",
      "#With interconnector\n",
      "Eo = Va-Vc                    #Voltage between points A and C(V)\n",
      "Ro = (Rab+Rbc)*(Rcd+Rda)/((Rab+Rbc)+(Rcd+Rda))   #Resistance viewed from points A & C(ohm)\n",
      "Rac = 0.02                 #Resistance of interconnector(ohm)\n",
      "Iac = Eo/(Ro+Rac)             #Current in interconnector AC(A)\n",
      "\n",
      "#Let ABCD be the ring distribution system.\n",
      "#Let the current in section AB is I1. Then,\n",
      "#current in section BC will be I1 \u2212 150. \n",
      "#As the voltage drop round the closed mesh ABCA is zero.\n",
      "I11 = symbols('I11')\n",
      "I2 = solve(0.02*I11+0.018*(I11-150)-0.02*252.4,I11)[0]\n",
      "\n",
      "Vab1 = I2*0.02                 #V\n",
      "Vbc1 = 53.15*0.018              #V\n",
      "Vad1 = 244.45*0.02               #V\n",
      "Vb1 = Va-Vab1                  #V\n",
      "Vc1 = Vb1-Vbc1                  #V\n",
      "Vd1 = Va-Vad1                  #V\n",
      "\n",
      "\n",
      "\n",
      "#Result:\n",
      "print \"Before adding interconnector,\"\n",
      "print \"\\tVoltage at point B is\",Vb,\"V\"\n",
      "print \"\\tVoltage at point C is\",round(Vc,3),\"V\"\n",
      "print \"\\tVoltage at point D is\",round(Vd,3),\"V\"\n",
      "print \"After adding interconnector,\"\n",
      "print \"\\tPotential of B is\",round(Vb1,2),\"V\"\n",
      "print \"\\tPotential of C is\",round(Vc1,2),\"V\"\n",
      "print \"\\tPotential of D is\",round(Vd1,2),\"V\""
     ],
     "language": "python",
     "metadata": {},
     "outputs": [
      {
       "output_type": "stream",
       "stream": "stdout",
       "text": [
        "Before adding interconnector,\n",
        "\tVoltage at point B is 243.265 V\n",
        "\tVoltage at point C is 239.903 V\n",
        "\tVoltage at point D is 242.735 V\n",
        "After adding interconnector,\n",
        "\tPotential of B is 245.92 V\n",
        "\tPotential of C is 244.97 V\n",
        "\tPotential of D is 245.11 V\n"
       ]
      }
     ],
     "prompt_number": 29
    },
    {
     "cell_type": "heading",
     "level": 3,
     "metadata": {},
     "source": [
      "Example 13.25, Page number: 338"
     ]
    },
    {
     "cell_type": "code",
     "collapsed": false,
     "input": [
      "from __future__ import division\n",
      "from sympy import *\n",
      "\n",
      "\n",
      "#Variable Declaration:\n",
      "Rbd = 0.05                    #resistance of interconnector(ohm)\n",
      "Rab = 0.075                   #resistance of branch AB(ohm)\n",
      "Rbc = 0.025                   #resistance of branch BC(ohm)\n",
      "Rcd = 0.01                    #resistance of branch CD(ohm)\n",
      "Rde = 0.05                    #resistance of branch DE(ohm)\n",
      "Rea = 0.1                     #resistance of branch EA(ohm)\n",
      "\n",
      "#Calculation:\n",
      "#Let ABCDE be the ring distribution system.\n",
      "#When interconnector BD is removed, let the current in branch \n",
      "#AB be I.\n",
      "# Current in BC = I-10;\n",
      "# Current in CD = I-40;\n",
      "# Current in DE = I-60;\n",
      "# Current in EA = I-70;\n",
      "\n",
      "\n",
      "#As the total drop round the ring ABCDEA is zero.\n",
      "I = symbols('I')\n",
      "\n",
      "I1 = solve(Rab*I+Rbc*(I-10)+Rcd*(I-40)+Rde*(I-60)+Rea*(I-70),I)[0]\n",
      "\n",
      "#The actual distribution of currents will be as shown in Fig.(ii) above.\n",
      "Vbcd = 30.96*0.025+0.96*0.01              #V\n",
      "Eo = 0.7836                            #V\n",
      "Ro = (0.075+0.1+0.05)*(0.025+0.01)/((0.075+0.1+0.05)+(0.025+0.01))\n",
      "\n",
      "#(i)\n",
      "Ibd = Eo/(Ro+Rbd)                 #A\n",
      "Vbd = Ibd*0.05                    #V\n",
      "\n",
      "\n",
      "#Result:\n",
      "print \"(i) Current in interconnector BD is\",round(Ibd,1),\"A\"\n",
      "print \"(ii)Voltage drop along interconnector BD is\",round(Vbd,2),\"A\""
     ],
     "language": "python",
     "metadata": {},
     "outputs": [
      {
       "output_type": "stream",
       "stream": "stdout",
       "text": [
        "(i) Current in interconnector BD is 9.8 A\n",
        "(ii)Voltage drop along interconnector BD is 0.49 A\n"
       ]
      }
     ],
     "prompt_number": 30
    },
    {
     "cell_type": "heading",
     "level": 3,
     "metadata": {},
     "source": [
      "Example 13.26, Page number: 341"
     ]
    },
    {
     "cell_type": "code",
     "collapsed": false,
     "input": [
      "from __future__ import division\n",
      "\n",
      "#Variable declaration:\n",
      "I1 = 50                    #current on +ve side(A)\n",
      "I2 = 40                    #current on -ve side(A)\n",
      "Rae = 0.1                    #resistance of outer wire(ohm)\n",
      "Rbg = 0.1                   \n",
      "Vab = 500                  #V\n",
      "Van = 250                 #V\n",
      "Vbn = 250                  #V\n",
      "\n",
      "\n",
      "#Calculation:\n",
      "I3 = I1-I2                #current in the neutral wire(A)\n",
      "Rnl = 2*Rae               #resistance of neutral wire(ohm)\n",
      "Vel = Van-I1*Rae-(I1-I2)*Rnl           #V\n",
      "Vlg = Vbn+(I1-I2)*Rnl-I2*Rbg            #V\n",
      "\n",
      "\n",
      "#Result:\n",
      "print \"Voltage at the load end on the positive side is\",Vel,\"V\"\n",
      "print \"Voltage at the load end on the negative side is\",Vlg,\"V\""
     ],
     "language": "python",
     "metadata": {},
     "outputs": [
      {
       "output_type": "stream",
       "stream": "stdout",
       "text": [
        "Voltage at the load end on the positive side is 243.0 V\n",
        "Voltage at the load end on the negative side is 248.0 V\n"
       ]
      }
     ],
     "prompt_number": 31
    },
    {
     "cell_type": "heading",
     "level": 3,
     "metadata": {},
     "source": [
      "Example 13.27, Page number: 342"
     ]
    },
    {
     "cell_type": "code",
     "collapsed": false,
     "input": [
      "from __future__ import division\n",
      "\n",
      "#Vairable declaration:\n",
      "r = 0.1                      #resistance of each conductor(ohm)\n",
      "Rel = 5                      #ohm\n",
      "Rcl = 6                      #ohm\n",
      "Vel = 240                    #line to neutral voltage(V)\n",
      "Vlc = 240                   #line to neutral voltage(V)\n",
      "\n",
      "\n",
      "#Calculation:\n",
      "I1 = Vel/5                     #Current on +ve outer(A)\n",
      "I2 = Vlc/6                      #Current on \u2212ve outer(A)\n",
      "In = I1-I2                     #current in neutral(A)\n",
      "V1 = Vel+I1*r+(I1-I2)*r         #V\n",
      "V2 = Vlc-(I1-I2)*r+I2*r        #V\n",
      "\n",
      "\n",
      "\n",
      "#Result:\n",
      "print \"Voltage between +ve outer and neutral at feeding end is\",V1,\"V\"\n",
      "print \"Voltage between -ve outer and neutral at feeding end is\",V2,\"V\""
     ],
     "language": "python",
     "metadata": {},
     "outputs": [
      {
       "output_type": "stream",
       "stream": "stdout",
       "text": [
        "Voltage between +ve outer and neutral at feeding end is 245.6 V\n",
        "Voltage between -ve outer and neutral at feeding end is 243.2 V\n"
       ]
      }
     ],
     "prompt_number": 32
    },
    {
     "cell_type": "heading",
     "level": 3,
     "metadata": {},
     "source": [
      "Example 13.28, Page number: 343"
     ]
    },
    {
     "cell_type": "code",
     "collapsed": false,
     "input": [
      "from __future__ import division\n",
      "\n",
      "#Variable declaration:\n",
      "V = 250                      #voltage on the two sides of the middle wire(V)\n",
      "P1 = 35                       #power of load 1(kW)\n",
      "P2 = 20                      #power of load 2(kW)\n",
      "\n",
      "\n",
      "#Calculation:\n",
      "R1 = V**2/(P1*1000)            #resistance of load 1(ohm)\n",
      "R2 = V**2/(P2*1000)            #resistance of load 2(ohm)\n",
      "#After breaking of neutral wire,\n",
      "I = 2*V/(R1+R2)                #Circuit current(A)\n",
      "V1 = I*R1                      #V\n",
      "V2 = I*R2                        #V\n",
      "\n",
      "\n",
      "#Result:\n",
      "print \"Voltage across +ve outer and middle wire is\",round(V1,1),\"V\"\n",
      "print \"Voltage across -ve outer and middle wire is\",round(V2,1),\"V\""
     ],
     "language": "python",
     "metadata": {},
     "outputs": [
      {
       "output_type": "stream",
       "stream": "stdout",
       "text": [
        "Voltage across +ve outer and middle wire is 181.8 V\n",
        "Voltage across -ve outer and middle wire is 318.2 V\n"
       ]
      }
     ],
     "prompt_number": 33
    },
    {
     "cell_type": "heading",
     "level": 3,
     "metadata": {},
     "source": [
      "Example 13.29, Page number: 343"
     ]
    },
    {
     "cell_type": "code",
     "collapsed": false,
     "input": [
      "from __future__ import division\n",
      "\n",
      "#Calculation:\n",
      "Vck = 250-0.75-0.28+0.2            #V\n",
      "Vdm = Vck-0.3-0.18+0.084           #V\n",
      "Vjg = 250-0.2-1.2                  #V\n",
      "Vlh = Vjg+0.28-0.084-0.864         #V\n",
      "\n",
      "\n",
      "#Result:\n",
      "print \"Voltage across load CK is\",Vck,\"V\"\n",
      "print \"Voltage across load DM is\",Vdm,\"V\"\n",
      "print \"Voltage across load JG is\",Vjg,\"V\"\n",
      "print \"Voltage across load LH is\",Vlh,\"V\""
     ],
     "language": "python",
     "metadata": {},
     "outputs": [
      {
       "output_type": "stream",
       "stream": "stdout",
       "text": [
        "Voltage across load CK is 249.17 V\n",
        "Voltage across load DM is 248.774 V\n",
        "Voltage across load JG is 248.6 V\n",
        "Voltage across load LH is 247.932 V\n"
       ]
      }
     ],
     "prompt_number": 43
    },
    {
     "cell_type": "heading",
     "level": 3,
     "metadata": {},
     "source": [
      "Example 13.30, Page number: 344"
     ]
    },
    {
     "cell_type": "code",
     "collapsed": false,
     "input": [
      "#Variable declaration:\n",
      "Vab = 500                    #volts\n",
      "Van = 250                     #volts\n",
      "Vnb = 250                     #volts\n",
      "\n",
      "\n",
      "#Calculation:\n",
      "#Voltage across CK = 250 \u2212 Drop in AC \u2212 Drop in KJ \u2212 Drop in JN\n",
      "Vck = Van-4-0.5-0.1               #volts\n",
      "\n",
      "#Voltage across DM = 245\u00b74 \u2212 Drop in CD \u2212 Drop in ML + Drop in KL\n",
      "Vdm = Vck-1.28-0.5+0.42           #volts\n",
      "\n",
      "#Voltage across JG = 250 + Drop in JN \u2212 Drop in GB\n",
      "Vjg = Van+0.1-1.9                 #volts\n",
      "\n",
      "#Voltage across LH = 248\u00b72 + Drop in KJ \u2212 Drop in KL \u2212 Drop in HG\n",
      "Vlh = Vjg+0.5-0.42-2.4              #volts\n",
      "\n",
      "#Voltage across PF = 245\u00b788 + Drop in ML \u2212 Drop in MP \u2212 Drop in FH\n",
      "Vpf = Vlh+0.5-0.72-1.02          #volts\n",
      "\n",
      "#Result:\n",
      "print \"Voltage across CK is\",Vck,\"V\"\n",
      "print \"Voltage across DM is\",Vdm,\"V\"\n",
      "print \"Voltage across JG is\",Vjg,\"V\"\n",
      "print \"Voltage across LH is\",Vlh,\"V\"\n",
      "print \"Voltage across PF is\",Vpf,\"V\""
     ],
     "language": "python",
     "metadata": {},
     "outputs": [
      {
       "output_type": "stream",
       "stream": "stdout",
       "text": [
        "Voltage across CK is 245.4 V\n",
        "Voltage across DM is 244.04 V\n",
        "Voltage across JG is 248.2 V\n",
        "Voltage across LH is 245.88 V\n",
        "Voltage across PF is 244.64 V\n"
       ]
      }
     ],
     "prompt_number": 42
    },
    {
     "cell_type": "heading",
     "level": 3,
     "metadata": {},
     "source": [
      "Example 13.31, Page number: 346"
     ]
    },
    {
     "cell_type": "code",
     "collapsed": false,
     "input": [
      "from __future__ import division\n",
      "\n",
      "#Variable declaration:\n",
      "Vel = 240               #volt\n",
      "Vlc = 240               #volt\n",
      "Rel = 4                 #ohm\n",
      "Rlc = 6                 #ohm\n",
      "r = 0.15                #resistance of each conductor(ohm)\n",
      "\n",
      "\n",
      "#Calculation:\n",
      "I1 = Vel/Rel                     #Current in the positive outer(A)\n",
      "I2 = Vlc/Rlc                     #current in the negative outer(A)\n",
      "In = I1-I2                       #current in the neutral wire(ohm)\n",
      "V1 = Vel+I1*r+In*r        #Voltage between +ve outer and neutral at feeding point(V)\n",
      "V2 = Vlc-In*r+I2*r        #Voltage between -ve outer and neutral at feeding point(V)\n",
      "\n",
      "\n",
      "#(i)When neutral breaks,\n",
      "#When there is a break in the neutral, the system\n",
      "#is equivalent to 2- wire d.c. system.Now,\n",
      "R1 = Rel+Rlc+2*r                  #ohm\n",
      "Vt1 = V1+V2                     #voltage at the feeding end(V)\n",
      "I11 = Vt1/R1                    #Load current(A)\n",
      "Vl1 = I11*Rel                   #Voltage across 4 ohm resistance(V)\n",
      "Vl2 = I11*Rlc                   #voltage across 6 ohm resistance(V)\n",
      "\n",
      "\n",
      "#(ii) When +ve outer breaks,\n",
      "#When there is a break in the +ve outer, there will be\n",
      "#no current in 4 ohm load.\n",
      "R2 = Rlc+2*r                      #Total circuit resistance(ohm)\n",
      "Vt2 = V2                       #volt\n",
      "I22 = Vt2/R2                     #load current(A)\n",
      "VR2 = I22*Rlc                   #volt\n",
      "\n",
      "\n",
      "#(iii)When \u2212ve outer breaks,\n",
      "#When there is a break in the negative outer, there will be no\n",
      "#current in 6 \u03a9 load.\n",
      "R3 = 4+2*r                      #Total circuit resistance(ohm)\n",
      "Vt3 = V1                       #volt\n",
      "I33 = Vt3/R3                     #load current(A)\n",
      "VR3 = I33*Rel                   #volt\n",
      "\n",
      "\n",
      "\n",
      "#Result:\n",
      "print \"When there is a break in the:\"\n",
      "print \"(i)  neutral wire, current is\",round(I11,2),\"A\" \n",
      "print \"     & voltage is\",round(Vl1,2),\"V and\",round(Vl2,2),\"V\"\n",
      "print \"     across 6 ohm & 4 ohm loads respectively.\"\n",
      "print \"(ii) positive outer, current is\",round(I22,2),\"A\"\n",
      "print \"     and voltage is\",round(VR2,2),\"V\"\n",
      "print \"(iii)negative outer, current is\",round(I33,2),\"A\"\n",
      "print \"     and voltage is\",round(VR3,2),\"V\""
     ],
     "language": "python",
     "metadata": {},
     "outputs": [
      {
       "output_type": "stream",
       "stream": "stdout",
       "text": [
        "When there is a break in the:\n",
        "(i)  neutral wire, current is 48.06 A\n",
        "     & voltage is 192.23 V and 288.35 V\n",
        "     across 6 ohm & 4 ohm loads respectively.\n",
        "(ii) positive outer, current is 38.57 A\n",
        "     and voltage is 231.43 V\n",
        "(iii)negative outer, current is 58.6 A\n",
        "     and voltage is 234.42 V\n"
       ]
      }
     ],
     "prompt_number": 36
    },
    {
     "cell_type": "heading",
     "level": 3,
     "metadata": {},
     "source": [
      "Example 13.32, Page number: 348"
     ]
    },
    {
     "cell_type": "code",
     "collapsed": false,
     "input": [
      "from __future__ import division\n",
      "\n",
      "#Variable Declaration:\n",
      "V = 500               #voltage b/w the outer supplies(V)\n",
      "P1 = 1500                   #load(kW)\n",
      "P2 = 2000                   #load(kW)\n",
      "Vn = 250                    #outer to neutral voltage(V)\n",
      "\n",
      "#Calculation:\n",
      "I1 = P1*1000/Vn              #Load current on +ve outer(A)\n",
      "I2 = P2*1000/Vn              #Load current on -ve outer(A)\n",
      "In = I2-I1                   #A\n",
      "Pl = P1+P2                   #kW\n",
      "Ig = Pl*1000/V                   #Current supplied by main generator(A)\n",
      "Ia = Ig-I1                  #A\n",
      "Ib = I2-Ig                  #A\n",
      "\n",
      "\n",
      "\n",
      "#Result:\n",
      "print \"(i)  Current in the neutral is\",In,\"A\"\n",
      "print \"(ii) total current supplied by main generator is\",Ig,\"A\"\n",
      "print \"(iii)Current in machine A is\",Ia,\"A\"\n",
      "print \"     Current in machine B\",Ib,\"A\""
     ],
     "language": "python",
     "metadata": {},
     "outputs": [
      {
       "output_type": "stream",
       "stream": "stdout",
       "text": [
        "(i)  Current in the neutral is 2000.0 A\n",
        "(ii) total current supplied by main generator is 7000.0 A\n",
        "(iii)Current in machine A is 1000.0 A\n",
        "     Current in machine B 1000.0 A\n"
       ]
      }
     ],
     "prompt_number": 37
    },
    {
     "cell_type": "heading",
     "level": 3,
     "metadata": {},
     "source": [
      "Example 13.33, Page number: 349"
     ]
    },
    {
     "cell_type": "code",
     "collapsed": false,
     "input": [
      "from __future__ import division\n",
      "\n",
      "#Variable declaration:\n",
      "V = 500                   #volt\n",
      "Vn = 250                  #volt\n",
      "P1 = 150                   #load(kW)\n",
      "P2 = 100                   #load(kW)\n",
      "Pl = 3                     #loss in each balancer machine(kW)\n",
      "\n",
      "\n",
      "\n",
      "#Calculation:\n",
      "Pt = P1+P2+2*Pl               #Total load on the main generator(kW)\n",
      "Ig = Pt*1000/V             #Current supplied by the main generator(A)\n",
      "I1 = P1*1000/Vn            #Load current on +ve side(A)\n",
      "I2 = P2*1000/Vn            #Load current on -ve side(A)\n",
      "In = I1-I2                 #Current in neutral wire(A)\n",
      "Ia = I1-Ig                 #Current through machine A(A)\n",
      "Ib = Ig-I2                 #Current through machine B(A)\n",
      "Pa = Ia*Vn/1000              #Load on machine A(kW)\n",
      "Pb = Ib*Vn/1000              #Load on machine B(kW)\n",
      "\n",
      "\n",
      "\n",
      "#Result:\n",
      "print \"(i) Total load on the main generator is\",Pt,\"kW\"\n",
      "print \"(ii)Load on machine A is\",Pa,\"kW\"\n",
      "print \"    Load on machine B is\",Pb,\"kW\""
     ],
     "language": "python",
     "metadata": {},
     "outputs": [
      {
       "output_type": "stream",
       "stream": "stdout",
       "text": [
        "(i) Total load on the main generator is 256 kW\n",
        "(ii)Load on machine A is 22.0 kW\n",
        "    Load on machine B is 28.0 kW\n"
       ]
      }
     ],
     "prompt_number": 38
    },
    {
     "cell_type": "heading",
     "level": 3,
     "metadata": {},
     "source": [
      "Example 13.34, Page number: 350"
     ]
    },
    {
     "cell_type": "code",
     "collapsed": false,
     "input": [
      "from __future__ import division\n",
      "\n",
      "#Variable declaration:\n",
      "I1 = 1200                #current on +ve side(A)\n",
      "I2 = 1000                #current on -ve side(A)\n",
      "Pm = 200                   #motor load acoss outer(kW)\n",
      "Pl = 5                     #loss in balancer machine(kW)\n",
      "V = 500                   #voltage across the outers(V)\n",
      "Vn = 250                #voltage across the outer and the neutral(V)\n",
      "\n",
      "#Calculation:\n",
      "#Since the positive side is more heavily loaded, \n",
      "#so, machine A acts as a generator and machine B as a motor.\n",
      "P1 = Vn*I1/1000          #Load on +ve side(kW)\n",
      "P2 = Vn*I2/1000          #Load on -ve side(kW)\n",
      "P3 = 200                 #load on outers(kW)\n",
      "Pt = P1+P2+P3+2*Pl                 #total load(kW)\n",
      "Ig = Pt*1000/500                  #Current of main generator(A)\n",
      "In = I1-I2                       #Current in neutral(A)\n",
      "Ia = 1600-Ig                  #Current through machine A(A)\n",
      "Ib = Ig-1400                  #Current through machine B(A)\n",
      "Pa = Vn*Ia/1000                #Load on machine A(kW)\n",
      "Pb = Vn*Ib/1000                #Load on machine B(kW)\n",
      "\n",
      "\n",
      "#Result:\n",
      "print \"(i) Current of the main generator is\",Ig,\"A\"\n",
      "print \"(ii)Load on balancer machines: Pa =\",Pa,\"kW & Pb =\",Pb,\"kW\""
     ],
     "language": "python",
     "metadata": {},
     "outputs": [
      {
       "output_type": "stream",
       "stream": "stdout",
       "text": [
        "(i) Current of the main generator is 1520.0 A\n",
        "(ii)Load on balancer machines: Pa = 20.0 kW & Pb = 30.0 kW\n"
       ]
      }
     ],
     "prompt_number": 39
    },
    {
     "cell_type": "heading",
     "level": 3,
     "metadata": {},
     "source": [
      "Example 13.35, Page number: 350"
     ]
    },
    {
     "cell_type": "code",
     "collapsed": false,
     "input": [
      "from __future__ import division\n",
      "from sympy import *\n",
      "\n",
      "#Variable declaration:\n",
      "Ipos = 800                #current on on the positive side(A)\n",
      "Ineg = 550                 #current on the negative side(A)\n",
      "I = 1500                  #curent across the outers(A)\n",
      "Ra = 0.2              #resistance of each arotary balancer's armature(ohm)\n",
      "Io = 5                    #no load current(A)\n",
      "Vn = 500                       #supply voltage\n",
      "\n",
      "\n",
      "#Calculation:\n",
      "I1 = Ipos+I                   #Total current on +ve side(A)\n",
      "I2 = Ineg+I                   #Total current on \u2212ve side(A)\n",
      "In = Ipos-Ineg                  #Current in neutral wire(A)\n",
      "\n",
      "#Let the current through machines A and B be Ia and Ib  \n",
      "Ib = symbols('Ib')\n",
      "Ia = In-Ib\n",
      "#Each machine has same value of back e.m.f. E as their field\n",
      "#currents & speeds are the same.\n",
      "E = Vn/2-Ra*Io                   #Back e.m.f(V)\n",
      "Va = E-Ia*Ra                    #Terminal p.d. across A(V)\n",
      "Vb = E+Ib*Ra                    #Terminal p.d. across B(V)\n",
      "Ib1 = round(solve(Va*Ia+Vn*Io+Ia**2*Ra+Ib**2*Ra-Vb*Ib,Ib)[0])\n",
      "Ia1 = In-Ib1\n",
      "Va1 = E-Ia1*Ra\n",
      "Vb1 = E+Ib1*Ra\n",
      "Ig = 2300-Ia1                  #Load on main generator(A)\n",
      "\n",
      "#Result:\n",
      "print \"(i)Current loading of each balancer machine: Ia =\",Ia1,\"A & Ib =\",Ib1,\"A\"\n",
      "print \"(ii)Voltage across machine A is\",Va1,\"V\"\n",
      "print \"    Voltage across machine B is\",Vb1,\"V\"\n",
      "print \"(iii)Load on main generator is\",Ig,\"A\""
     ],
     "language": "python",
     "metadata": {},
     "outputs": [
      {
       "output_type": "stream",
       "stream": "stdout",
       "text": [
        "(i)Current loading of each balancer machine: Ia = 120.0 A & Ib = 130.0 A\n",
        "(ii)Voltage across machine A is 225.0 V\n",
        "    Voltage across machine B is 275.0 V\n",
        "(iii)Load on main generator is 2180.0 A\n"
       ]
      }
     ],
     "prompt_number": 40
    },
    {
     "cell_type": "heading",
     "level": 3,
     "metadata": {},
     "source": [
      "Example 13.36, Page number: 352"
     ]
    },
    {
     "cell_type": "code",
     "collapsed": false,
     "input": [
      "from __future__ import division\n",
      "\n",
      "#Variable declaration:\n",
      "V = 500                      #voltage at supply end(v)\n",
      "l = 3                        #line length(km)\n",
      "Ifl = 120                     #full loag current(A)\n",
      "r = 0.5                       #resistance of cable(ohm/km)\n",
      "\n",
      "#Calculation:\n",
      "R = r*l                        #total resistance of the line(ohm)\n",
      "Vl = R*Ifl                    #F.L. voltage drop in the line(V)\n",
      "Vb = Vl                        #Terminal voltage of booster(V)\n",
      "Po = Vb*Ifl/1000             #Output of booster(kW)\n",
      "\n",
      "\n",
      "#Result:\n",
      "print \"Booster Voltage is\",Vl,\"V\"\n",
      "print \"Output of booster is\",Po,\"kW\""
     ],
     "language": "python",
     "metadata": {},
     "outputs": [
      {
       "output_type": "stream",
       "stream": "stdout",
       "text": [
        "Booster Voltage is 180.0 V\n",
        "Output of booster is 21.6 kW\n"
       ]
      }
     ],
     "prompt_number": 41
    }
   ],
   "metadata": {}
  }
 ]
}