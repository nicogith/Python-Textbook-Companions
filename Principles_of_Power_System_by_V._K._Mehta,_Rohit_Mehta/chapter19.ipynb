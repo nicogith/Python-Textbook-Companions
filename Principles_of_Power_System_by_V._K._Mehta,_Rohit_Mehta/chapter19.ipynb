{
 "metadata": {
  "name": "",
  "signature": "sha256:34f21e34d56021d11e412854716405b885521e02b7e263afa0b62d127f14da0d"
 },
 "nbformat": 3,
 "nbformat_minor": 0,
 "worksheets": [
  {
   "cells": [
    {
     "cell_type": "heading",
     "level": 1,
     "metadata": {},
     "source": [
      "Chapter 19: Circuit Breakers"
     ]
    },
    {
     "cell_type": "heading",
     "level": 3,
     "metadata": {},
     "source": [
      "Example 19.1, Page Number: 483"
     ]
    },
    {
     "cell_type": "code",
     "collapsed": false,
     "input": [
      "from __future__ import division\n",
      "\n",
      "#Variable declaration:\n",
      "I = 1500                      #rated current of circuit breaker(A)\n",
      "MVA = 1000                    #MVA rating of CB\n",
      "V = 33                        #voltage rating of circuit breaker(kV)\n",
      "\n",
      "\n",
      "\n",
      "#Calculation:\n",
      "Is = MVA*10**6/(3**0.5*33*1000)    #Rated symmetrical breaking current(A,rms)\n",
      "Im = 2.55*Is                   #Rated making current(A,peak)\n",
      "\n",
      "\n",
      "#Result:\n",
      "print \"(i) Rated normal current is\",I,\"A\"\n",
      "print \"(ii) Breaking capacity is\",MVA,\"MVA\"\n",
      "print \"(iii) Rated symmetrical breaking current is\",round(Is),\"A  (peak)\"\n",
      "print \"(iv) Rated making current is\",round(Im),\"A  (peak)\"\n",
      "print \"(v) Short-time rating is\",round(Is),\"for 3 seconds\"\n",
      "print \"(vi) Rated service voltage is\",V,\"kV (r.m.s)\""
     ],
     "language": "python",
     "metadata": {},
     "outputs": [
      {
       "output_type": "stream",
       "stream": "stdout",
       "text": [
        "(i) Rated normal current is 1500 A\n",
        "(ii) Breaking capacity is 1000 MVA\n",
        "(iii) Rated symmetrical breaking current is 17495.0 A  (peak)\n",
        "(iv) Rated making current is 44613.0 A  (peak)\n",
        "(v) Short-time rating is 17495.0 for 3 seconds\n",
        "(vi) Rated service voltage is 33 kV (r.m.s)\n"
       ]
      }
     ],
     "prompt_number": 1
    },
    {
     "cell_type": "heading",
     "level": 3,
     "metadata": {},
     "source": [
      "Example 19.2, Page Number: 484"
     ]
    },
    {
     "cell_type": "code",
     "collapsed": false,
     "input": [
      "from __future__ import division\n",
      "import math\n",
      "\n",
      "#Variable declaration:\n",
      "f = 50                     #supply frequency(Hz)\n",
      "V = 11                      #voltage rating of generator(V)\n",
      "C = 0.01         #distributed capacitance upto ckt breaker b/w phase and neutral(uF)\n",
      "XL = 5                   #reactance of neatral to earth(ohm)\n",
      "\n",
      "\n",
      "#Calculation:\n",
      "L = round(XL/(2*math.pi*f),4)            #Inductance per phase(H)\n",
      "Emax = round(2**0.5*V/3**0.5,2)     #Maximum value of recovery voltage (phase to neutral)(V\n",
      "E = 2*Emax                          #Peak re-striking voltage(kV)\n",
      "fn = 1/(2*3.14*(L*C*10**-6)**0.5)     #frequency of oscillations(Hz)\n",
      "\n",
      "#Since peak re-striking voltage occurs at a time t given by\n",
      "t = 1/(2*fn)                        #s\n",
      "r = E/t                             #kV/sec\n",
      "\n",
      "\n",
      "\n",
      "#Result:\n",
      "print \"(i)  Peak re-striking voltage is\",round(E,2),\"kV\"\n",
      "print \"(ii) Frequency of oscillations is\",round(fn),\"Hz\"\n",
      "print \"(iii)The average rate of rise of re-striking voltage\"\n",
      "print \"     upto the first peak is\",math.floor(r/1000),\"*10**3   kV/sec\""
     ],
     "language": "python",
     "metadata": {},
     "outputs": [
      {
       "output_type": "stream",
       "stream": "stdout",
       "text": [
        "(i)  Peak re-striking voltage is 17.96 kV\n",
        "(ii) Frequency of oscillations is 12628.0 Hz\n",
        "(iii)The average rate of rise of re-striking voltage\n",
        "     upto the first peak is 453.0 *10**3   kV/sec\n"
       ]
      }
     ],
     "prompt_number": 1
    },
    {
     "cell_type": "heading",
     "level": 3,
     "metadata": {},
     "source": [
      "Example 19.3, Page Number: 484"
     ]
    },
    {
     "cell_type": "code",
     "collapsed": false,
     "input": [
      "#Variable delaration:\n",
      "t = 50*10**-6              #time to reach the peak re-striking voltage(s)\n",
      "Vp = 100                    #the peak re-striking voltage(kV)\n",
      "\n",
      "\n",
      "#Calculation:\n",
      "R = Vp/t                  #Average RRRV(kV/sec)\n",
      "fn = 1/(2*t)                 #Natural frequency of oscillations(Hz)\n",
      "\n",
      "\n",
      "#Result:\n",
      "print \"Average RRRV is\",R/10**6,\"* 10**6   kV/sec\"\n",
      "print \"Natural frequency of oscillations is\",fn,\"Hz\""
     ],
     "language": "python",
     "metadata": {},
     "outputs": [
      {
       "output_type": "stream",
       "stream": "stdout",
       "text": [
        "Average RRRV is 2.0 * 10**6   kV/sec\n",
        "Natural frequency of oscillations is 10000.0 Hz\n"
       ]
      }
     ],
     "prompt_number": 3
    },
    {
     "cell_type": "heading",
     "level": 3,
     "metadata": {},
     "source": [
      "Example 19.4, Page Number: 485"
     ]
    },
    {
     "cell_type": "code",
     "collapsed": false,
     "input": [
      "from __future__ import division\n",
      "\n",
      "#Variable declaration:\n",
      "Im = 11                   #magnetising current of transformer(A)\n",
      "Ic = 7                    #chopped instantaneous value of current(A)\n",
      "L = 35.2                  #inductance (H)\n",
      "C = 0.0023                #capacitance(uF)\n",
      "\n",
      "\n",
      "#Result:\n",
      "e = Ic*(L/(C*10**-6))**0.5         #Voltage across breaker contacts at chopping(V)\n",
      "\n",
      "\n",
      "#Result:\n",
      "print \"Voltage across breaker contacts at chopping is\",round(e/1000),\"kV\""
     ],
     "language": "python",
     "metadata": {},
     "outputs": [
      {
       "output_type": "stream",
       "stream": "stdout",
       "text": [
        "Voltage across breaker contacts at chopping is 866.0 kV\n"
       ]
      }
     ],
     "prompt_number": 10
    }
   ],
   "metadata": {}
  }
 ]
}