{
 "metadata": {
  "name": "",
  "signature": "sha256:99f2463b3650514f9c88ec63c2c7f7ef832ae42348e5f3fe2b1b870ab9434349"
 },
 "nbformat": 3,
 "nbformat_minor": 0,
 "worksheets": [
  {
   "cells": [
    {
     "cell_type": "heading",
     "level": 1,
     "metadata": {},
     "source": [
      "Chapter 15: Voltage Control"
     ]
    },
    {
     "cell_type": "heading",
     "level": 3,
     "metadata": {},
     "source": [
      "Example 15.1, Page Number: 384"
     ]
    },
    {
     "cell_type": "code",
     "collapsed": false,
     "input": [
      "from __future__ import division\n",
      "from sympy import *\n",
      "import math\n",
      "\n",
      "#Variable declaration:\n",
      "Pl = 10000                      #load(kW)\n",
      "pf = 0.8                        #power factor(lag)\n",
      "Vl = 33000                      #receiving end line voltage(V)\n",
      "R = 5                           #line resistance(ohm)\n",
      "X = 10                          #line reactance(ohm)\n",
      "\n",
      "\n",
      "\n",
      "#Calculation:\n",
      "I2 = math.floor(Pl*1000/(3**0.5*Vl*0.8))        #load current(A)\n",
      "Ip = I2*pf                        #A\n",
      "Iq = I2*math.sin(math.acos(pf))     #A\n",
      "V1 = round(Vl/3**0.5)                      #sending end voltage(V)\n",
      "#Let Im be the current taken by the synchronous condenser.\n",
      "Im = symbols('Im')                   #A\n",
      "Im1 = solve((V1+Ip*R-X*(Im-Iq))**2+(Ip*X+(Im-Iq)*R)**2-V1**2,Im)[0]\n",
      "C = 3*V1*round(Im1)/1000                   #kVAR\n",
      "\n",
      "\n",
      "#Result:\n",
      "print \"Capacity of synchronous condenser is\",math.floor(C),\"kVAR\""
     ],
     "language": "python",
     "metadata": {},
     "outputs": [
      {
       "output_type": "stream",
       "stream": "stdout",
       "text": [
        "Capacity of synchronous condenser is 13203.0 kVAR\n"
       ]
      }
     ],
     "prompt_number": 13
    },
    {
     "cell_type": "heading",
     "level": 3,
     "metadata": {},
     "source": [
      "Example 15.2 Page Number: 385"
     ]
    },
    {
     "cell_type": "code",
     "collapsed": false,
     "input": [
      "from __future__ import division\n",
      "import math\n",
      "\n",
      "#Variable declaration:\n",
      "Pl = 25000                      #load(kW)\n",
      "pf = 0.8                        #power factor(lag)\n",
      "Vl = 33000                      #receiving end line voltage(V)\n",
      "R = 5                           #line resistance(ohm)\n",
      "X = 20                          #line reactance(ohm)\n",
      "\n",
      "\n",
      "\n",
      "#Calculation:\n",
      "I2 = round(Pl*1000/(3**0.5*Vl*pf),1)        #load current(A)\n",
      "Ip = I2*pf                        #A\n",
      "Iq = I2*math.sin(math.acos(pf))     #A\n",
      "V1 = Vl/3**0.5                      #sending end voltage(V)\n",
      "#Let Im be the current taken by the synchronous condenser.\n",
      "Im = symbols('Im')                   #A\n",
      "Im1 = solve((V1+Ip*R-X*(Im-Iq))**2+(Ip*X+(Im-Iq)*R)**2-V1**2,Im)[0]\n",
      "C = 3*V1*Im1/1000                   #kVAR\n",
      "\n",
      "\n",
      "#Result:\n",
      "print \"Capacity of synchronous condenser is\",round(C/1000,2),\"MVAR\""
     ],
     "language": "python",
     "metadata": {},
     "outputs": [
      {
       "output_type": "stream",
       "stream": "stdout",
       "text": [
        "Capacity of synchronous condenser is 33.11 MVAR\n"
       ]
      }
     ],
     "prompt_number": 2
    }
   ],
   "metadata": {}
  }
 ]
}