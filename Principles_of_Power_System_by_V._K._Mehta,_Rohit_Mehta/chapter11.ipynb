{
 "metadata": {
  "name": "",
  "signature": "sha256:1fe403fe815d4353da157ba9f671fac5bd27f5ac7842de08db777bc86330d8e5"
 },
 "nbformat": 3,
 "nbformat_minor": 0,
 "worksheets": [
  {
   "cells": [
    {
     "cell_type": "heading",
     "level": 1,
     "metadata": {},
     "source": [
      "Chapter 11: Underground Cables"
     ]
    },
    {
     "cell_type": "heading",
     "level": 3,
     "metadata": {},
     "source": [
      "Example 11.1, Page Number: 273"
     ]
    },
    {
     "cell_type": "code",
     "collapsed": false,
     "input": [
      "from __future__ import division\n",
      "import math\n",
      "\n",
      "#Variable declaration:\n",
      "r1 = 0.5                       #conductor radius(cm)\n",
      "l = 2000                       #conductor length(m)\n",
      "rho = 5*10**12                 #Resistivity of insulation(ohm-m)\n",
      "t = 0.4                        #insulation thickness(cm)\n",
      "\n",
      "\n",
      "#Calculation:\n",
      "r2 = r1+t                      #Internal sheath radius(cm)\n",
      "R = rho*math.log(r2/r1)/(2*math.pi*l)      #Insulation resistance of cable(ohm)\n",
      "\n",
      "\n",
      "#Result:\n",
      "print \"Insulation resistance of cable is\",round(R/10**6),\"Mohm\""
     ],
     "language": "python",
     "metadata": {},
     "outputs": [
      {
       "output_type": "stream",
       "stream": "stdout",
       "text": [
        "Insulation resistance of cable is 234.0 Mohm\n"
       ]
      }
     ],
     "prompt_number": 1
    },
    {
     "cell_type": "heading",
     "level": 3,
     "metadata": {},
     "source": [
      "Example 11.2, Page Number: 274"
     ]
    },
    {
     "cell_type": "code",
     "collapsed": false,
     "input": [
      "from __future__ import division\n",
      "import math\n",
      "\n",
      "\n",
      "#Variable declaration:\n",
      "r1 = 1.25                      #conductor radius(cm)\n",
      "l = 1000                       #conductor length(m)\n",
      "rho = 4.5*10**12                 #Resistivity of insulation(ohm-m)\n",
      "R = 495*10**6                 #Cable insulation resistance(ohm)\n",
      "\n",
      "\n",
      "#Calculation:\n",
      "#Let r2 cm be the internal sheath radius,\n",
      "\n",
      "r2 = r1*math.exp(R*2*math.pi*l/rho)\n",
      "\n",
      "#Result:\n",
      "print \"Insulation thickness is\",round(r2-r1,2),\"cm\""
     ],
     "language": "python",
     "metadata": {},
     "outputs": [
      {
       "output_type": "stream",
       "stream": "stdout",
       "text": [
        "Insulation thickness is 1.25 cm\n"
       ]
      }
     ],
     "prompt_number": 2
    },
    {
     "cell_type": "heading",
     "level": 3,
     "metadata": {},
     "source": [
      "Example 11.3, Page Number: 274"
     ]
    },
    {
     "cell_type": "code",
     "collapsed": false,
     "input": [
      "from __future__ import division\n",
      "import math\n",
      "\n",
      "\n",
      "#Variable declaration:\n",
      "r1 = .10                      #conductor radius(cm)\n",
      "l = 5000                       #conductor length(m)\n",
      "r2 = 0.25                      #Internal sheath radius(cm)\n",
      "R = 0.4*10**6                 #Cable insulation resistance(ohm)\n",
      "\n",
      "\n",
      "\n",
      "#Calculation:\n",
      "rho = R*2*3.14*l/(math.log(r2/r1)*10**9)    #resistivity(ohm-m)\n",
      "\n",
      "\n",
      "\n",
      "#Result:\n",
      "print \"Resistivity of the insulating material is\",round(rho,2),\"* 10**9  ohm-m\""
     ],
     "language": "python",
     "metadata": {},
     "outputs": [
      {
       "output_type": "stream",
       "stream": "stdout",
       "text": [
        "Resistivity of the insulating material is 13.71 * 10**9  ohm-m\n"
       ]
      }
     ],
     "prompt_number": 3
    },
    {
     "cell_type": "heading",
     "level": 3,
     "metadata": {},
     "source": [
      "Example 11.4, Page Number: 275"
     ]
    },
    {
     "cell_type": "code",
     "collapsed": false,
     "input": [
      "from __future__ import division\n",
      "import math\n",
      "\n",
      "\n",
      "#Calculation:\n",
      "er = 4                       #relative permittivity\n",
      "D = 1.8                       #internal sheath diameter(cm)\n",
      "l = 1000                      #cable length(m)\n",
      "d = 1                         #conductor diameter(cm)\n",
      "\n",
      "\n",
      "#Calculation:\n",
      "C = er*l/(41.4*math.log10(D/d))*10**-9     #Capacitance(F)\n",
      "\n",
      "\n",
      "\n",
      "#Result:\n",
      "print \"The capacitance of the cable is\",round(C*10**6,3),\"uF\""
     ],
     "language": "python",
     "metadata": {},
     "outputs": [
      {
       "output_type": "stream",
       "stream": "stdout",
       "text": [
        "The capacitance of the cable is 0.378 uF\n"
       ]
      }
     ],
     "prompt_number": 4
    },
    {
     "cell_type": "heading",
     "level": 3,
     "metadata": {},
     "source": [
      "Example 11.5, Page Number: 276"
     ]
    },
    {
     "cell_type": "code",
     "collapsed": false,
     "input": [
      "from __future__ import division\n",
      "import math\n",
      "\n",
      "#Variable declaration:\n",
      "er = 4                       #relative permittivity\n",
      "d = 10                       #core diameter(cm)\n",
      "l = 1000                      #cable length(m)\n",
      "t = 7                         #insulation thickness(cm)\n",
      "Vl = 66000                     #line voltage(V)\n",
      "f = 50                       #frequency(Hz)\n",
      "\n",
      "\n",
      "#Calculation:\n",
      "D = d+2*t                         #conductor diameter(cm)\n",
      "C = 4*1000/(41.4*math.log10(D/d))*10**-3     #Capacitance(uF)\n",
      "\n",
      "Vp = Vl/3**0.5\n",
      "I = 2*3.14*f*C*Vp*10**-6                   #Carging current(A)\n",
      "\n",
      "\n",
      "#Result:\n",
      "print \"The capacitance is\",round(C,3),\"uF\"\n",
      "print \"Charging current of a single core cable is\",round(I,2),\"A\""
     ],
     "language": "python",
     "metadata": {},
     "outputs": [
      {
       "output_type": "stream",
       "stream": "stdout",
       "text": [
        "The capacitance is 0.254 uF\n",
        "Charging current of a single core cable is 3.04 A\n"
       ]
      }
     ],
     "prompt_number": 5
    },
    {
     "cell_type": "heading",
     "level": 3,
     "metadata": {},
     "source": [
      "Example 11.6, Page Number: 276"
     ]
    },
    {
     "cell_type": "code",
     "collapsed": false,
     "input": [
      "from __future__ import division\n",
      "import math\n",
      "\n",
      "#Calculation:\n",
      "er = 3                       #relative permittivity\n",
      "d = 2.5                       #core diameter(cm)\n",
      "l = 4000                      #cable length(m)\n",
      "t = 0.5                         #insulation thickness(cm)\n",
      "Vl = 33000                     #line voltage(V)\n",
      "f = 50                       #frequency(Hz)\n",
      "\n",
      "\n",
      "#Calculation:\n",
      "D = d+2*t                         #conductor diameter(cm)\n",
      "C = er*l/(41.4*math.log10(D/d))*10**-3    #Capacitance(uF)\n",
      "Vp = Vl/3**0.5\n",
      "I = 2*3.14*f*C*Vp*10**-6                   #Carging current(A)\n",
      "kVAR = 3*Vp*I                    #Total charging kVAR\n",
      "\n",
      "\n",
      "#Result:\n",
      "print \"(i)  The capacitance is\",round(C*10**3),\"* 10**-9 F\"\n",
      "print \"(ii) Charging current of a single core cable is\",round(I,2),\"A\"\n",
      "print \"(iii)Total charging kVAR is\",round(kVAR/1000,1),\"* 10**3 kVAR\""
     ],
     "language": "python",
     "metadata": {},
     "outputs": [
      {
       "output_type": "stream",
       "stream": "stdout",
       "text": [
        "(i)  The capacitance is 1984.0 * 10**-9 F\n",
        "(ii) Charging current of a single core cable is 11.87 A\n",
        "(iii)Total charging kVAR is 678.3 * 10**3 kVAR\n"
       ]
      }
     ],
     "prompt_number": 6
    },
    {
     "cell_type": "heading",
     "level": 3,
     "metadata": {},
     "source": [
      "Example 11.7, Page Number: 278"
     ]
    },
    {
     "cell_type": "code",
     "collapsed": false,
     "input": [
      "from __future__ import division\n",
      "import math\n",
      "\n",
      "\n",
      "#Variable Declaration:\n",
      "V = 33                      #voltage of cable(V)\n",
      "d = 1                          #conductor diameter(cm)\n",
      "D = 4                          #sheath diameter(cm)\n",
      "\n",
      "\n",
      "#Calculation:\n",
      "gmax = 2*V/(d*math.log(D/d))         #maximum stress,rms(kV/cm)\n",
      "gmin = gmax*d/D                      #minimum stress,rms(kV/cm)\n",
      "\n",
      "#Result:\n",
      "print \"The maximum and minimum stress in the insulation are\"\n",
      "print \"gmax =\",round(gmax,2),\"kV/cm rms & gmin =\",round(gmin,2),\"kV/cm rms\""
     ],
     "language": "python",
     "metadata": {},
     "outputs": [
      {
       "output_type": "stream",
       "stream": "stdout",
       "text": [
        "The maximum and minimum stress in the insulation are\n",
        "gmax = 47.61 kV/cm rms & gmin = 11.9 kV/cm rms\n"
       ]
      }
     ],
     "prompt_number": 7
    },
    {
     "cell_type": "heading",
     "level": 3,
     "metadata": {},
     "source": [
      "Example 11.8, Page Number: 278"
     ]
    },
    {
     "cell_type": "code",
     "collapsed": false,
     "input": [
      "from __future__ import division\n",
      "import math\n",
      "\n",
      "\n",
      "#Variable declaration:\n",
      "gmax = 40                    #kV/cm\n",
      "gmin = 10                    #kV/cm\n",
      "d = 2                        #conductor diameter(cm)\n",
      "\n",
      "\n",
      "#Calculation:\n",
      "D = gmax/gmin*d              #cm\n",
      "t = (D-d)/2                  #thickness of insulation(cm)\n",
      "V = gmax*d*math.log(D/d)/2\n",
      "\n",
      "#Result:\n",
      "print \"(i) Thickness of insulation is\",t,\"cm\"\n",
      "print \"(ii)Operating voltage is\",round(V,2),\"kV rms\""
     ],
     "language": "python",
     "metadata": {},
     "outputs": [
      {
       "output_type": "stream",
       "stream": "stdout",
       "text": [
        "(i) Thickness of insulation is 3.0 cm\n",
        "(ii)Operating voltage is 55.45 kV rms\n"
       ]
      }
     ],
     "prompt_number": 8
    },
    {
     "cell_type": "heading",
     "level": 3,
     "metadata": {},
     "source": [
      "Example 11.9, Page Number: 279"
     ]
    },
    {
     "cell_type": "code",
     "collapsed": false,
     "input": [
      "from __future__ import division\n",
      "import math\n",
      "\n",
      "#Variable declaration:\n",
      "V = 11                         #voltage of cable(V)\n",
      "a = 0.645                         #conductor area(cm**2)\n",
      "D = 2.18                          #internal diameter of sheath(cm)\n",
      "er = 3.5                           #relative permitivity\n",
      "l = 1000                          #conductor length(m)\n",
      "\n",
      "\n",
      "\n",
      "#Calculation:\n",
      "d = (4*a/3.14)**0.5                      #Diameter of the conductor(cm)\n",
      "gmax = 2*V/(d*math.log(D/d))         #Maximum electrostatic stress(kV/cm rms)\n",
      "gmin = 2*V/(D*math.log(D/d))         #Minimum electrostatic stress(kV/cm rms)\n",
      "C = er*l/(41.4*math.log10(D/d))*10**-9         #Capacitance of cable(F)\n",
      "I = 2*3.14*f*C*V*1000                   #Carging current(A)\n",
      "\n",
      "\n",
      "#Result:\n",
      "print \"(i)  Maximum electrostatic stress in the cable is\",round(gmax,2),\"kV/cm rms\"\n",
      "print \"(ii) Minimum electrostatic stress in the cable is\",round(gmin,2),\"kV/cm rms\"\n",
      "print \"(iii)Capacitance of the cable per km length is\",round(C*10**6,2),\"* 10**-6 F\"\n",
      "print \"(iv) Charging current is\",round(I,3),\"A\""
     ],
     "language": "python",
     "metadata": {},
     "outputs": [
      {
       "output_type": "stream",
       "stream": "stdout",
       "text": [
        "(i)  Maximum electrostatic stress in the cable is 27.66 kV/cm rms\n",
        "(ii) Minimum electrostatic stress in the cable is 11.5 kV/cm rms\n",
        "(iii)Capacitance of the cable per km length is 0.22 * 10**-6 F\n",
        "(iv) Charging current is 0.766 A\n"
       ]
      }
     ],
     "prompt_number": 9
    },
    {
     "cell_type": "heading",
     "level": 3,
     "metadata": {},
     "source": [
      "Example 11.10, Page Number: 280"
     ]
    },
    {
     "cell_type": "code",
     "collapsed": false,
     "input": [
      "from __future__ import division\n",
      "\n",
      "\n",
      "#Variable declaration:\n",
      "V = 50                       #Cable voltage(kV)\n",
      "gmax = 40                    #Maximum permissible stress(kV/cm)\n",
      "\n",
      "\n",
      "#Calculation:\n",
      "Vp = V*2**0.5                 #Peak value of cable voltage(kV)\n",
      "d = 2*Vp/gmax                 #Most economical conductor diameter(cm)\n",
      "\n",
      "\n",
      "#Result:\n",
      "print \"The most economical value of diameter is\",round(d,2),\"cm\""
     ],
     "language": "python",
     "metadata": {},
     "outputs": [
      {
       "output_type": "stream",
       "stream": "stdout",
       "text": [
        "The most economical value of diameter is 3.54 cm\n"
       ]
      }
     ],
     "prompt_number": 11
    },
    {
     "cell_type": "heading",
     "level": 3,
     "metadata": {},
     "source": [
      "Example 11.11, Page Number: 280"
     ]
    },
    {
     "cell_type": "code",
     "collapsed": false,
     "input": [
      "from __future__ import division\n",
      "\n",
      "\n",
      "#Variable declaration:\n",
      "Vl = 132                       #Cable voltage(kV)\n",
      "gmax = 60                    #Maximum permissible stress(kV/cm)\n",
      "\n",
      "\n",
      "#Calculation:\n",
      "Vph = Vl/3**0.5                #phase voltage(kV)\n",
      "Vp = Vph*2**0.5                 #Peak value of cable voltage(kV)\n",
      "d = 2*Vp/gmax                 #Most economical conductor diameter(cm)\n",
      "D = 2.718*d                      #Internal diameter of sheath(cm)\n",
      "\n",
      "#Result:\n",
      "print \"Most economical conductor diameter is\",round(d,1),\"cm\"\n",
      "print \"Internal diameter of sheath, D is\",round(D,2),\"cm\""
     ],
     "language": "python",
     "metadata": {},
     "outputs": [
      {
       "output_type": "stream",
       "stream": "stdout",
       "text": [
        "Most economical conductor diameter is 3.6 cm\n",
        "Internal diameter of sheath, D is 9.76 cm\n"
       ]
      }
     ],
     "prompt_number": 12
    },
    {
     "cell_type": "heading",
     "level": 3,
     "metadata": {},
     "source": [
      "Example 11.12, Page Number: 282"
     ]
    },
    {
     "cell_type": "code",
     "collapsed": false,
     "input": [
      "from __future__ import division\n",
      "import math\n",
      "\n",
      "\n",
      "#Variable declaration:\n",
      "d = 2                            #conductor diameter(cm)\n",
      "e3 = 3                             #relative permittivity\n",
      "e2 = 4\n",
      "e1 = 5\n",
      "D = 8                              #overall diameter(cm)\n",
      "gmax = 40                           #kV/cm\n",
      "\n",
      "#Calculation:\n",
      "#Graded cable: As the maximum stress in the three dielectrics is the same,\n",
      "d1 = e1*d/e2                      #diameter of 1st layer(cm)\n",
      "d2 = e1*d/e3                      #diameter of 2nd layer(cm)\n",
      "#Permissible peak voltage for the cable:\n",
      "Vp1 = gmax/2*(d*math.log(d1/d)+d1*math.log(d2/d1)+d2*math.log(D/d2))  #kV\n",
      "Vs1 = Vp1/2**0.5                   #Safe working voltage (r.m.s.) for cable(kV)\n",
      "\n",
      "#Ungraded cable:\n",
      "Vp2 = gmax/2*d*log(D/d)             #kV\n",
      "Vs2 = Vp2/(2**0.5)                 #kV\n",
      "\n",
      "\n",
      "#Result:\n",
      "print \"For Graded cable, safe working voltage is\",round(Vs1,2),\"kV\"\n",
      "print \"For Ungraded cable, safe working voltage is\",round(Vs2,1),\"kV\""
     ],
     "language": "python",
     "metadata": {},
     "outputs": [
      {
       "output_type": "stream",
       "stream": "stdout",
       "text": [
        "For Graded cable, safe working voltage is 57.75 kV\n",
        "For Ungraded cable, safe working voltage is 39.2 kV\n"
       ]
      }
     ],
     "prompt_number": 13
    },
    {
     "cell_type": "heading",
     "level": 3,
     "metadata": {},
     "source": [
      "Example 11.13, Page Number: 283"
     ]
    },
    {
     "cell_type": "code",
     "collapsed": false,
     "input": [
      "from __future__ import division\n",
      "import math\n",
      "\n",
      "\n",
      "#Variable declaration:\n",
      "d = 3                            #conductor diameter(cm)\n",
      "e2 = 4                       #relative permittivity\n",
      "e1 = 5\n",
      "D = 9                              #overall diameter(cm)\n",
      "g1max = 30                           #kV/cm\n",
      "g2max = 20                         #kV/cm\n",
      "\n",
      "\n",
      "#Calculation:\n",
      "d1 = g1max/g2max*e1*d/e2              #cm\n",
      "t1 = (d1-d)/2                   #Radial thickness of inner dielectric(cm)\n",
      "t2 = (D-d1)/2                   #Radial thickness of outer dielectric(cm)\n",
      "Vp = g1max/2*d*math.log(d1/d)+g2max/2*d1*math.log(D/d1)\n",
      "Vsf = Vp/2**0.5                   #Safe working voltage(r.m.s.)for the cable(kV)\n",
      "\n",
      "\n",
      "#Result:\n",
      "print \"Radial thickness of inner dielectric is\",round(t1,3),\"cm\"\n",
      "print \"Radial thickness of outer dielectric is\",round(t2,2),\"cm\"\n",
      "print \"Safe working voltage (r.m.s.) for the cable is\",round(Vsf,2),\"kV\""
     ],
     "language": "python",
     "metadata": {},
     "outputs": [
      {
       "output_type": "stream",
       "stream": "stdout",
       "text": [
        "Radial thickness of inner dielectric is 1.313 cm\n",
        "Radial thickness of outer dielectric is 1.69 cm\n",
        "Safe working voltage (r.m.s.) for the cable is 38.7 kV\n"
       ]
      }
     ],
     "prompt_number": 14
    },
    {
     "cell_type": "heading",
     "level": 3,
     "metadata": {},
     "source": [
      "Example 11.14, Page Number: 284"
     ]
    },
    {
     "cell_type": "code",
     "collapsed": false,
     "input": [
      "from __future__ import division\n",
      "import math\n",
      "\n",
      "#Variable Declaration:\n",
      "e1 = 5                          #relative permittivity\n",
      "e2 = 3\n",
      "t = 1                          #thickness(cm)\n",
      "d = 2                          #core diameter(cm)\n",
      "V = 66                         #cable voltage(kV)\n",
      "\n",
      "#Calculation:\n",
      "d1 = d+2*t\n",
      "D = d+4*t                     #total diameter of cable(cm)\n",
      "Vpk = V/3**0.5*2**0.5            #Peak voltage per phase(kV)\n",
      "g1max = 2*Vpk/(d*(math.log(d1/d)+e1/e2*math.log(D/d1)))      #kV/cm\n",
      "g2max = 2*Vpk/(d1*(e2/e1*math.log(d1/d)+math.log(D/d1)))      #kV/cm\n",
      "\n",
      "#Result:\n",
      "print \"Maximum stresses in two dielectrics are:\"\n",
      "print \"g1max =\",round(g1max,2),\"kV/cm     g2max =\",round(g2max,2),\"kV/cm\""
     ],
     "language": "python",
     "metadata": {},
     "outputs": [
      {
       "output_type": "stream",
       "stream": "stdout",
       "text": [
        "Maximum stresses in two dielectrics are:\n",
        "g1max = 39.37 kV/cm     g2max = 32.8 kV/cm\n"
       ]
      }
     ],
     "prompt_number": 16
    },
    {
     "cell_type": "heading",
     "level": 3,
     "metadata": {},
     "source": [
      "Example 11.15, Page Number: 285"
     ]
    },
    {
     "cell_type": "code",
     "collapsed": false,
     "input": [
      "from __future__ import division\n",
      "import math\n",
      "from sympy import *\n",
      "\n",
      "#Variable declaration:\n",
      "d = 2                           #cm\n",
      "d1 = 3.1                        #cm\n",
      "d2 = 4.2                        #cm\n",
      "D = 5.3                         #cm\n",
      "V = 66                          #cable voltage(kV)\n",
      "\n",
      "\n",
      "#Calculation:\n",
      "Vpk = V/3**0.5*2**0.5           #peak voltage/phase(kV)\n",
      "#let V1,V2 & V3 are the voltages at different grades.\n",
      "V1,V2,V3 = symbols('V1 V2 V3')\n",
      "g1max = V1/(d/2*math.log(d1,d))\n",
      "g2max = V2/(d1/2*math.log(d2,d1))\n",
      "g3max = V3/(d2/2*math.log(D,d2))\n",
      "\n",
      "#As the maximum stress in the layers is the same,\n",
      "#\u2234     g1max = g2max = g3max\n",
      "#or    2\u00b728 V1 = 2\u00b712 V2 = 2\u00b704 V3\n",
      "#\u2234     V2 = (2\u00b728/2\u00b712) V1 = 1\u00b7075 V1\n",
      "#and   V3 = (2\u00b728/2\u00b704) V1 = 1\u00b7117 V1\n",
      "#Now   V1 + V2 + V3 = Vpk\n",
      "#or    V1 + 1\u00b7075 V1 + 1\u00b7117 V1 = 53\u00b79\n",
      "V1 = 53.9/3.192\n",
      "V2 = 1.075*V1\n",
      "V1s = Vpk-V1                   #Voltage on first intersheath(near to core)(kV)\n",
      "V2s = Vpk-V1-V2                #Voltage on second intersheath(kV)\n",
      "\n",
      "\n",
      "#Result:\n",
      "print \"Voltage on first intersheath is\",round(V1s,2),\"kV\"\n",
      "print \"Voltage on second intersheath is\",round(V2s,2),\"kV\""
     ],
     "language": "python",
     "metadata": {},
     "outputs": [
      {
       "output_type": "stream",
       "stream": "stdout",
       "text": [
        "Voltage on first intersheath is 37.0 kV\n",
        "Voltage on second intersheath is 18.85 kV\n"
       ]
      }
     ],
     "prompt_number": 18
    },
    {
     "cell_type": "heading",
     "level": 3,
     "metadata": {},
     "source": [
      "Example 11.16, Page Number: 286"
     ]
    },
    {
     "cell_type": "code",
     "collapsed": false,
     "input": [
      "from __future__ import division\n",
      "import math\n",
      "\n",
      "\n",
      "#Variable declaration:\n",
      "d = 2                       #core diameter(cm)\n",
      "D = 5.3                       #cm\n",
      "V = 66                      #cable voltage(kV)\n",
      "\n",
      "\n",
      "\n",
      "#Calculation:\n",
      "Vpk = V/3**0.5*2**0.5           #peak voltage/phase(kV)\n",
      "#(i) Positions of intersheaths.\n",
      "\n",
      "#Let the diameters of intersheaths are d1 and d2 cm respectively.\n",
      "#Let V1 = voltage b/w conductor & intersheath 1\n",
      "#    V2 = voltage b/w intersheaths 1 and 2\n",
      "#    V3 = voltage b/w intersheath 2 & outer lead sheath\n",
      "\n",
      "\n",
      "#Given the maximum stress in the three layers is the same,\n",
      "#we get the relation as given below:\n",
      "#            d1**2 = d * d2 = 2*d2      [\u2235 d = 2 cm]\n",
      "#or          d2 = d1**2/2\n",
      "#and         d1*d2 = D * d = 5\u00b73 \u00d7 2 = 10.6 cm\n",
      "#or          d1 * d1**2/2 = 10\u00b76\n",
      "d1 = 21.2**(1/3)                       #cm\n",
      "d2 = d1**2/2                           #cm\n",
      "\n",
      "\n",
      "#(ii) Voltage on intersheaths,\n",
      "#        V = V1 + V2 + V3\n",
      "#or      53\u00b79 = V1+d1/d*V1+d2/d*V1\n",
      "#             = 4.28*V1\n",
      "V1 = 53.9/4.28                        #kV\n",
      "V2 = d1/d*V1                          #kV\n",
      "\n",
      "#(iii) Stresses in dielectrics,\n",
      "gmax = V1/(d/2*math.log(d1/d))            #max stress(kV/cm)\n",
      "gmin = V1/(d1/2*math.log(d1/d))            #min stress(kV/cm\n",
      "\n",
      "#Result:\n",
      "print \"(i) Positions of intersheaths are:\"\n",
      "print \"\\td1 =\",round(d1,2),\"cm d2 =\",round(d2,1),\"cm\"\n",
      "print \"(ii) Voltage on the intersheaths are:\"\n",
      "print \"\\tVoltage on first intersheath is\",round(Vpk-V1,2),\"kV\"\n",
      "print \"\\tVoltage on second intersheath is\",round(Vpk-V1-V2,1),\"kV\"\n",
      "print \"(iii) Maximum and minimum stress are:\"\n",
      "print \"\\tgmax =\",round(gmax),\"kV/cm\\tgmin =\",round(gmin,2),\"kV/cm\""
     ],
     "language": "python",
     "metadata": {},
     "outputs": [
      {
       "output_type": "stream",
       "stream": "stdout",
       "text": [
        "(i) Positions of intersheaths are:\n",
        "\td1 = 2.77 cm d2 = 3.8 cm\n",
        "(ii) Voltage on the intersheaths are:\n",
        "\tVoltage on first intersheath is 41.3 kV\n",
        "\tVoltage on second intersheath is 23.9 kV\n",
        "(iii) Maximum and minimum stress are:\n",
        "\tgmax = 39.0 kV/cm\tgmin = 28.01 kV/cm\n"
       ]
      }
     ],
     "prompt_number": 1
    },
    {
     "cell_type": "heading",
     "level": 3,
     "metadata": {},
     "source": [
      "Example 11.17, Page Number: 289"
     ]
    },
    {
     "cell_type": "code",
     "collapsed": false,
     "input": [
      "from __future__ import division\n",
      "import math\n",
      "\n",
      "#Variable Declaration:\n",
      "c = 0.3                          #capacitance per kilometre(uF/km)\n",
      "V = 11                           #line voltage(kV)\n",
      "l = 5                            #length of the cable(km)\n",
      "f = 50                           #Hz\n",
      "\n",
      "#Calculation:\n",
      "C3 = c*l                         #capacitance between a pair of cores with third core\n",
      "                                 #earthed for a length of 5 km (uF)\n",
      "Vph = V*1000/3**0.5              #phase voltage(V)\n",
      "#core to neutral capacitance Cn of this cable is given by :\n",
      "Cn = 2*C3                        #uF\n",
      "Ic = 2*math.pi*f*Vph*Cn*10**-6\n",
      "\n",
      "\n",
      "#Result:\n",
      "print \" The charging current is\",round(Ic,2),\"A\""
     ],
     "language": "python",
     "metadata": {},
     "outputs": [
      {
       "output_type": "stream",
       "stream": "stdout",
       "text": [
        " The charging current is 5.99 A\n"
       ]
      }
     ],
     "prompt_number": 3
    },
    {
     "cell_type": "heading",
     "level": 3,
     "metadata": {},
     "source": [
      "Example 11.18, Page Number: 290"
     ]
    },
    {
     "cell_type": "code",
     "collapsed": false,
     "input": [
      "from __future__ import division\n",
      "import math\n",
      "\n",
      "#Variable Declaration:\n",
      "V = 66                           #line voltage(kV)\n",
      "C1 = 12.6                         #uF\n",
      "C2 = 7.4                          #uF\n",
      "f = 50                           #Hz\n",
      "\n",
      "#Calculation:\n",
      "Vph = V*1000/3**0.5               #phase voltage(V)\n",
      "Ce = C1/3                         #core-earth capacitances(uF)\n",
      "Cc = (C2-Ce)/2                    #core-core capacitances(uF)\n",
      "Cn = Ce+3*Cc                      #Core to neutral capacitance(uF)\n",
      "Ic = 2*math.pi*f*Vph*Cn*10**-6\n",
      "\n",
      "\n",
      "#Result:\n",
      "print \"The charging current is\",round(Ic,2),\"A\""
     ],
     "language": "python",
     "metadata": {},
     "outputs": [
      {
       "output_type": "stream",
       "stream": "stdout",
       "text": [
        "The charging current is 107.74 A\n"
       ]
      }
     ],
     "prompt_number": 4
    },
    {
     "cell_type": "heading",
     "level": 3,
     "metadata": {},
     "source": [
      "Example 11.19, Page Number: 290"
     ]
    },
    {
     "cell_type": "code",
     "collapsed": false,
     "input": [
      "from __future__ import division\n",
      "import math\n",
      "\n",
      "#Variable Declaration:\n",
      "c = 0.18                          #capacitance per kilometre(uF/km)\n",
      "V = 3300                           #line voltage(V)\n",
      "l = 20                            #length of the cable(km)\n",
      "f = 50                           #Hz\n",
      "\n",
      "\n",
      "\n",
      "#Calculation:\n",
      "C3 = c*l                         #capacitance between a pair of cores with third core\n",
      "                                 #earthed for a length of 20 km (uF)\n",
      "Vph = V/3**0.5                  #phase voltage(V)\n",
      "Cn = 2*C3                       #Core to neutral capacitance(uF)\n",
      "Ic = 2*math.pi*f*Cn*Vph*10**-6                   #charging current(A)\n",
      "kVA = 3*Vph*Ic/1000                    #kVA taken by the cable\n",
      "\n",
      "\n",
      "#Result:\n",
      "print \"The kVA taken by 20 km long cable is\",round(kVA,2),\"kVA\""
     ],
     "language": "python",
     "metadata": {},
     "outputs": [
      {
       "output_type": "stream",
       "stream": "stdout",
       "text": [
        "The kVA taken by 20 km long cable is 24.63 kVA\n"
       ]
      }
     ],
     "prompt_number": 5
    },
    {
     "cell_type": "heading",
     "level": 3,
     "metadata": {},
     "source": [
      "Example 11.20, Page Number: 292"
     ]
    },
    {
     "cell_type": "code",
     "collapsed": false,
     "input": [
      "from __future__ import division\n",
      "import math\n",
      "\n",
      "#Variable declaration:\n",
      "k = 5                #thermal resistivity of the dielectric(ohm-m)\n",
      "S2 = 0.45        #thermal resistance b/w the sheath and the ground surface\n",
      "R = 110           #electrical resistance of the cable(u-ohm)\n",
      "r = 15                #core radius(mm)\n",
      "t = 40                #dielectric thickness(mm)\n",
      "T = 55                  #temperature(deg. C)\n",
      "n = 1                   #no. of conductors\n",
      "\n",
      "#Calculation:\n",
      "r1 = r+t                  #mm\n",
      "S1 = k/(2*math.pi)*math.log(r1/r)         #ohm/m\n",
      "S = S1+S2                          #ohm/m\n",
      "I = (T/(n*R*10**-6*S))**0.5               #current loading(A)\n",
      "\n",
      "\n",
      "\n",
      "#Result:\n",
      "print \"Maximum permissible current loading is\",round(I,1),\"A\""
     ],
     "language": "python",
     "metadata": {},
     "outputs": [
      {
       "output_type": "stream",
       "stream": "stdout",
       "text": [
        "Maximum permissible current loading is 580.5 A\n"
       ]
      }
     ],
     "prompt_number": 6
    },
    {
     "cell_type": "heading",
     "level": 3,
     "metadata": {},
     "source": [
      "Example 11.21, Page Number: 296"
     ]
    },
    {
     "cell_type": "code",
     "collapsed": false,
     "input": [
      "from __future__ import division\n",
      "\n",
      "#Variable declaration:\n",
      "Q = 15                            #ohm\n",
      "P = 45                             #ohm\n",
      "l = 300                           #length of faulty cable(m)\n",
      "\n",
      "\n",
      "#Calculation:\n",
      "L = 2*l                         #loop length(m)\n",
      "d = Q/(P+Q)*L             #Distance of the fault point from test end(m)\n",
      "\n",
      "#Result:\n",
      "print \" The distance of the fault point from the test end is\",d,\"m\""
     ],
     "language": "python",
     "metadata": {},
     "outputs": [
      {
       "output_type": "stream",
       "stream": "stdout",
       "text": [
        " The distance of the fault point from the test end is 150.0 m\n"
       ]
      }
     ],
     "prompt_number": 23
    },
    {
     "cell_type": "heading",
     "level": 3,
     "metadata": {},
     "source": [
      " Example 11.22, Page Number: 297"
     ]
    },
    {
     "cell_type": "code",
     "collapsed": false,
     "input": [
      "from __future__ import division\n",
      "\n",
      "\n",
      "#Variable declaration:\n",
      "l = 500                           #length of faulty cable(m)\n",
      "#P:Q = 3\n",
      "\n",
      "#Calculation:\n",
      "#Let:\n",
      "P = 3;                  Q = 1            #ohm\n",
      "#then,\n",
      "d = Q/(P+Q)*2*l             #Distance of the fault point from test end(m)\n",
      "\n",
      "#Result:\n",
      "print \"The distance of the fault from the testing end of cables\",d,\"m\""
     ],
     "language": "python",
     "metadata": {},
     "outputs": [
      {
       "output_type": "stream",
       "stream": "stdout",
       "text": [
        "The distance of the fault from the testing end of cables 250.0 m\n"
       ]
      }
     ],
     "prompt_number": 24
    },
    {
     "cell_type": "heading",
     "level": 3,
     "metadata": {},
     "source": [
      "Example 11.23, Page Number: 297"
     ]
    },
    {
     "cell_type": "code",
     "collapsed": false,
     "input": [
      "from __future__ import division\n",
      "\n",
      "#Variable declaration:\n",
      "l = 500                           #length of faulty cable(m)\n",
      "rp = 0.001                        #resistance of cable(ohm/m)\n",
      "rq = 0.00225                      #resistance of sound cable(ohm/m)\n",
      "#P:Q = 2.75:1\n",
      "\n",
      "#Calculation:\n",
      "#Let:\n",
      "P = 2.75;                  Q = 1            #ohm\n",
      "#then,\n",
      "R = rp*l+rq*l                    #Resistance of loop(ohm)\n",
      "X = Q/(P+Q)*R       #Resistance of faulty cable from test end upto fault point(ohm)\n",
      "d = X/rp            #Distance of the fault point from test end(m)\n",
      "\n",
      "#Result:\n",
      "print \"The distance of the fault from the testing end of cables\",round(d),\"m\""
     ],
     "language": "python",
     "metadata": {},
     "outputs": [
      {
       "output_type": "stream",
       "stream": "stdout",
       "text": [
        "The distance of the fault from the testing end of cables 433.0 m\n"
       ]
      }
     ],
     "prompt_number": 32
    },
    {
     "cell_type": "heading",
     "level": 3,
     "metadata": {},
     "source": [
      "Example 11.24, Page Number: 297"
     ]
    },
    {
     "cell_type": "code",
     "collapsed": false,
     "input": [
      "from __future__ import division\n",
      "\n",
      "#Variable declaration:\n",
      "S = 200                        #ohm\n",
      "r = 20                         #resistance per km(ohm)\n",
      "l = 20                         #length of cable(km)\n",
      "\n",
      "\n",
      "\n",
      "#Calculation:\n",
      "#       R+X = 20*(20+20)        #ohm\n",
      "#         P = Q\n",
      "X = (800-200)/2                 #ohm\n",
      "d = X/r                         #m\n",
      "\n",
      "\n",
      "#Result:\n",
      "print \"The distance of the fault from the test end is\",d,\"km\""
     ],
     "language": "python",
     "metadata": {},
     "outputs": [
      {
       "output_type": "stream",
       "stream": "stdout",
       "text": [
        "The distance of the fault from the test end is 15.0 km\n"
       ]
      }
     ],
     "prompt_number": 33
    }
   ],
   "metadata": {}
  }
 ]
}