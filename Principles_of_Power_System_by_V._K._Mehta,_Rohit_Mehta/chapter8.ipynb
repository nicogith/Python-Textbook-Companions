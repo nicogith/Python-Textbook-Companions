{
 "metadata": {
  "name": "",
  "signature": "sha256:9774a5727e94c3e9d7f6de1d46ee1710f0f45bee5b4624a7cce654515da8e820"
 },
 "nbformat": 3,
 "nbformat_minor": 0,
 "worksheets": [
  {
   "cells": [
    {
     "cell_type": "heading",
     "level": 1,
     "metadata": {},
     "source": [
      "Chapter 8: Mechanical Design of Overhead Lines"
     ]
    },
    {
     "cell_type": "heading",
     "level": 3,
     "metadata": {},
     "source": [
      "Example 8.1, Page Number: 171"
     ]
    },
    {
     "cell_type": "code",
     "collapsed": false,
     "input": [
      "import math\n",
      "\n",
      "#Variable declaration:\n",
      "k = 0.11                        #ratio of shunt-capatance to self capacitance\n",
      "V = 33/math.sqrt(3)                  #Voltage across string(kV)\n",
      "n = 3                           #no. of insulators\n",
      "\n",
      "#Calculation:\n",
      "\n",
      "#  At Junction A\n",
      "#        I2 = I1 + i1\n",
      "# or V2*w*C = V1*w*C + V1*K*\u03c9*C\n",
      "# or     V2 = V1*(1 + K) = V1*(1 + 0\u00b711)\n",
      "# or     V2 = 1\u00b711*V1                     ...(i)\n",
      "\n",
      "#  At Junction B\n",
      "#          I3 = I2 + i2\n",
      "#  or  V3*w*C = V2*w*C + (V1 + V2) K*w*C\n",
      "#  or      V3 = V2 + (V1 + V2)*K\n",
      "#             = 1\u00b711*V1 + (V1 + 1\u00b711*V1)*0\u00b711\n",
      "#          V3 = 1\u00b7342 V1\n",
      "#  Voltage across whole unit,\n",
      "#    V = V1+V2+V3\n",
      "# or V = V1+1.11*V1+1.342*V1\n",
      "\n",
      "V1 = V/3.452                    #Voltage across top unit(V)\n",
      "V2 = 1.11*V1                    #Voltage across top unit(V)\n",
      "V3 = 1.342*V1                   #Voltage across top unit(V)\n",
      "\n",
      "e = V/(n*V3)*100               #string efficiency\n",
      "\n",
      "#Result:\n",
      "print \"(i)\\tVoltage across top unit,V1 is\",round(V1,2),\"kV\"\n",
      "print \"   \\tVoltage across middle unit, V2 is\",round(V2,2),\"kV\"\n",
      "print \"   \\tVoltage across bottom unit, V3 is\",round(V3,1),\"kV\"\n",
      "print \"(ii)\\tThe string efficiency is \",round(e,1),\"%\""
     ],
     "language": "python",
     "metadata": {},
     "outputs": [
      {
       "output_type": "stream",
       "stream": "stdout",
       "text": [
        "(i)\tVoltage across top unit,V1 is 5.52 kV\n",
        "   \tVoltage across middle unit, V2 is 6.13 kV\n",
        "   \tVoltage across bottom unit, V3 is 7.4 kV\n",
        "(ii)\tThe string efficiency is  85.7 %\n"
       ]
      }
     ],
     "prompt_number": 1
    },
    {
     "cell_type": "heading",
     "level": 3,
     "metadata": {},
     "source": [
      "Example 8.2, Page Number: 172"
     ]
    },
    {
     "cell_type": "code",
     "collapsed": false,
     "input": [
      "from __future__ import division\n",
      "import math\n",
      "\n",
      "#Variable declaration:\n",
      "V1 = 8                        #voltage across top unit(kV)\n",
      "V2 = 11                       #voltage across middle unit(kV)\n",
      "n = 3                         #no. of insulators\n",
      "#Calculation:\n",
      "\n",
      "#(i)\n",
      "# Let K be the ratio of capacitance between pin and the earth\n",
      "# to self capacitance. \n",
      "# Let C farad be the self capacitance of each unit, \n",
      "# then, capacitance between pin and earth = K*C.\n",
      "# Applying Kirchoff\u2019s current law to Junction A,\n",
      "#        I2 = I1 + i1\n",
      "# or V2*w*C = V1*w*C + V1*K*w*C\n",
      "# or     V2 = V1 (1 + K)\n",
      "\n",
      "k = (V2-V1)/V1\n",
      "\n",
      "#(ii)\n",
      "# Applying Kirchoff\u2019s current law to Junction B,\n",
      "#          I3 = I2 + i2\n",
      "#  or  V3*w*C = V2*w*C + (V1 + V2)*K*w*C\n",
      "#  or      V3 = V2 + (V1 + V2)*K = 11 + (8 + 11) * 0\u00b7375\n",
      "V3 = 18.12                        #kV\n",
      "V = V1 + V2+ V3                   #kV\n",
      "Vl = math.sqrt(3)*V                    #line voltage(kV)\n",
      "\n",
      "#(iii)\n",
      "e = V/(n*V3)*100                     #stirng efficiency(%)\n",
      "\n",
      "\n",
      "#Result:\n",
      "print \"(i)  Ratio of capacitance b/w pin & earth is\",k\n",
      "print \"(ii) The line voltage is\",round(Vl,2),\"kV\"\n",
      "print \"(iii)String efficiency is\",round(e,2),\"%\""
     ],
     "language": "python",
     "metadata": {},
     "outputs": [
      {
       "output_type": "stream",
       "stream": "stdout",
       "text": [
        "(i)  Ratio of capacitance b/w pin & earth is 0.375\n",
        "(ii) The line voltage is 64.29 kV\n",
        "(iii)String efficiency is 68.29 %\n"
       ]
      }
     ],
     "prompt_number": 2
    },
    {
     "cell_type": "heading",
     "level": 3,
     "metadata": {},
     "source": [
      "Example 8.3, Page Number: 172"
     ]
    },
    {
     "cell_type": "code",
     "collapsed": false,
     "input": [
      "from __future__ import division\n",
      "\n",
      "#Variable declaration:\n",
      "n = 3                            #no. of insulators\n",
      "V3 = 17.5                        #voltage across the line unit(V)\n",
      "\n",
      "#  At Junction A\n",
      "#   I2 = I1 + i1\n",
      "#   V2 \u03c9 C = V1 \u03c9 C + V1 K \u03c9 C\n",
      "# or V2 = V1 (1 + K) = V1 (1 + 0.125)\n",
      "#  \u2234 V2 = 1\u00b7125 V1\n",
      "\n",
      "#  At Junction B\n",
      "#    I3 = I2 + i2\n",
      "# or  V3 \u03c9 C = V2 \u03c9 C + (V1 + V2) K \u03c9 C\n",
      "# or      V3 = V2 + (V1 + V2) K\n",
      "#            = 1\u00b7125 V1 + (V1 + 1\u00b7125 V1) \u00d7 0.125\n",
      "#       \u2234 V3 = 1\u00b739 V1\n",
      "\n",
      "V1 = V3/1.39                     #Voltage across top unit(kV)\n",
      "V2 = 1.125*V1                    #Voltage across middle unit(kV)\n",
      "\n",
      "V = V1+V2+V3                     #voltage across line unit(kV)\n",
      "e = V/(n*V3)*100                     #string efficiency(%)\n",
      "\n",
      "\n",
      "#Result:\n",
      "print \"Line to neutral voltage is\",round(V,2),\"kV\"\n",
      "print \"String efficiency is\",round(e,2),\"%\""
     ],
     "language": "python",
     "metadata": {},
     "outputs": [
      {
       "output_type": "stream",
       "stream": "stdout",
       "text": [
        "Line to neutral voltage is 44.25 kV\n",
        "String efficiency is 84.29 %\n"
       ]
      }
     ],
     "prompt_number": 36
    },
    {
     "cell_type": "heading",
     "level": 3,
     "metadata": {},
     "source": [
      "Example 8.4, Page Number: 173"
     ]
    },
    {
     "cell_type": "code",
     "collapsed": false,
     "input": [
      "from __future__ import division\n",
      "from pylab import *\n",
      "from sympy import *\n",
      "\n",
      "#Variable declaration:\n",
      "V3 = 13.1                      #voltage across the lowest insulator(kV)\n",
      "V2 = 11                        #voltage across the middle insulator(kV)\n",
      "K = symbols('K')\n",
      "#  Applying Kirchhoff\u2019s current law to Junctions A and B, we can easily\n",
      "#  derive the following equations:\n",
      "\n",
      "#     V2 = V1 (1 + K)\n",
      "#  or V1 =  V2/(1 + K)                   ...(i)\n",
      "# and V3 = V2 + (V1 + V2)*K           ...(ii)\n",
      "#  Putting the value of V1 = V2/(1 + K) in eq. (ii), we get,\n",
      "\n",
      "#V3 = V2 + (V2/(1+k)+ V2)*K\n",
      "K1 = solve(V3-(V2 + (V2/(1+K)+ V2)*K),K)[1]\n",
      "\n",
      "V1 = V2/(1+K1)\n",
      "V = V1+V2+V3                  #kV\n",
      "\n",
      "#Result:\n",
      "print \"The voltage b/w the bus bars is\",round(float(math.sqrt(3)*V)),\"kV\""
     ],
     "language": "python",
     "metadata": {},
     "outputs": [
      {
       "output_type": "stream",
       "stream": "stdout",
       "text": [
        "The voltage b/w the bus bars is 59.0 kV\n"
       ]
      }
     ],
     "prompt_number": 6
    },
    {
     "cell_type": "heading",
     "level": 3,
     "metadata": {},
     "source": [
      "Example 8.5, Page Number: 173"
     ]
    },
    {
     "cell_type": "code",
     "collapsed": false,
     "input": [
      "from __future__ import division\n",
      "\n",
      "\n",
      "#Variable declaration:\n",
      "n = 3                         #no.of insulators\n",
      "k = 1/8                 #ratio of self-capacitance to shunt capacitance\n",
      "V3 = 15                    #safe working voltage of each insulator(kV)\n",
      "\n",
      "#  Applying Kirchhoff\u2019s current law to junction A, we get,\n",
      "#     V2 = V1*(1 + K)\n",
      "#  or V1 = V2/(1 + K) = V2/(1 + 0\u00b7125) = 0\u00b789*V2\n",
      "\n",
      "#  Applying Kirchhoff\u2019s current law to Junction B, we get,\n",
      "#  V3 = V2 + (V1 + V2)*K = V2 + (0.89*V2 + V2) * 0.125\n",
      "#  V3 = 1.236*V2                                       \n",
      "V2 = V3/1.236                     #kV\n",
      "V1 = 0.89*V2                       #kV\n",
      "V = V1+V2+V3                      #voltage across the string(kV)\n",
      "e = V/(n*V3) *100                     #string efficiency(%)\n",
      "\n",
      "#Result:\n",
      "print \"Voltage across the string is\",round(V,3),\"kV\"\n",
      "print \"The string efficiency is\",round(e,2),\"%\""
     ],
     "language": "python",
     "metadata": {},
     "outputs": [
      {
       "output_type": "stream",
       "stream": "stdout",
       "text": [
        "Voltage across the string is 37.937 kV\n",
        "The string efficiency is 84.3 %\n"
       ]
      }
     ],
     "prompt_number": 1
    },
    {
     "cell_type": "heading",
     "level": 3,
     "metadata": {},
     "source": [
      "Example 8.6, Page Number: 174"
     ]
    },
    {
     "cell_type": "code",
     "collapsed": false,
     "input": [
      "from __future__ import division\n",
      "\n",
      "#Variable declaration:\n",
      "n = 4                        #no. of unit\n",
      "\n",
      "\n",
      "#Calculation:\n",
      "# Suppose Xc = 1 \u03a9. Given, the ratio of self-capacitance to shunt\n",
      "# capacitance is 10, so, Xc1 = 10 \u03a9 .\n",
      "# Suppose that potential V across the string is such that 1 A current \n",
      "# flows in the top insulator.\n",
      "#Thus,\n",
      "V1 = 1*1                          #Voltage across top unit(V)\n",
      "V2 = 1*1.1                        #Voltage across 2nd unit(V)\n",
      "V3 = 1*1.31                       #Voltage across 3rd unit(V)\n",
      "V4 = 1*1.65                       #Voltage across 4th unit(V)\n",
      "V = V1+V2+V3+V4                   #Voltage obtained across the string(V)\n",
      "\n",
      "#The voltage across each unit expressed as a % of V becomes:\n",
      "f1 = V1/V*100\n",
      "f2 = V2/V*100\n",
      "f3 = V3/V*100\n",
      "f4 = V4/V*100\n",
      "\n",
      "e = V/(n*V4)*100                    #string efficiency(%)\n",
      "\n",
      "#Result:\n",
      "print \"(i) The voltage distributation from top unit is \"\n",
      "print \"\\t\",round(f1,2),\"%\\t\",round(f2,2),\"%\\t\",round(f3,1),\"%\\t\",round(f4,1),\"%\"\n",
      "print \"\\n(ii)String efficiency is\",round(e,1),\"%\""
     ],
     "language": "python",
     "metadata": {},
     "outputs": [
      {
       "output_type": "stream",
       "stream": "stdout",
       "text": [
        "(i) The voltage distributation from top unit is \n",
        "\t19.76 %\t21.74 %\t25.9 %\t32.6 %\n",
        "\n",
        "(ii)String efficiency is 76.7 %\n"
       ]
      }
     ],
     "prompt_number": 6
    },
    {
     "cell_type": "heading",
     "level": 3,
     "metadata": {},
     "source": [
      "Example 8.7, Page Number: 175"
     ]
    },
    {
     "cell_type": "code",
     "collapsed": false,
     "input": [
      "from __future__ import division\n",
      "import math\n",
      "\n",
      "#Variable declaration:\n",
      "n = 5                       #no.os insulators\n",
      "Vl = 100                    #line voltage(kV)\n",
      "\n",
      "#Suppose Xc = 1 \u03a9.\n",
      "#Ratio of self capacitance to shunt capacitance is 10, so, Xc1 = 10 \u03a9. \n",
      "#Let V be the voltage s.t 1A current flows in top insulator.\n",
      "\n",
      "#Calculation:\n",
      "#calculation for fraction of voltage drop:\n",
      "v1 = 1*1                          #Voltage across top unit(V)\n",
      "v2 = 1*1.1                        #Voltage across 2nd unit(V)\n",
      "v3 = 1*1.31                       #Voltage across 3rd unit(V)\n",
      "v4 = 1*1.65                       #Voltage across 4th unit(V)\n",
      "v5 = 1*2.16                       #voltage across 5th unit(V)\n",
      "v = v1+v2+v3+v4+v5                #total voltage(V)\n",
      "V = 100/math.sqrt(3)                   #string voltage(V)\n",
      "V1 = round(v1/v*V,3)                       #kV\n",
      "V2 = v2/v*V                       #kV\n",
      "V3 = v3/v*V                       #kV\n",
      "V4 = v4/v*V                       #kV\n",
      "V5 = v5/v*V                       #kV\n",
      "e = V/(n*V5)*100                      #string efficiency(%)\n",
      "\n",
      "\n",
      "#Result:\n",
      "print \"(i)The distribution of voltage on the insulator discs are\"\n",
      "print \"V1 = \",round(V1,3),\"kV \",\"\\tV2 =\",round(V2,2),\"kV \\n\",\n",
      "print \"V3 =\",round(V3,1),\"kV\",\"\\t\\tV4 =\",round(V4,2),\"kV\",\n",
      "print \"\\nV5 =\",round(V5,1),\"kV\"\n",
      "print \"\\n(ii)The string efficiency\",round(e,1),\"%\""
     ],
     "language": "python",
     "metadata": {},
     "outputs": [
      {
       "output_type": "stream",
       "stream": "stdout",
       "text": [
        "(i)The distribution of voltage on the insulator discs are\n",
        "V1 =  7.997 kV  \tV2 = 8.8 kV \n",
        "V3 = 10.5 kV \t\tV4 = 13.19 kV \n",
        "V5 = 17.3 kV\n",
        "\n",
        "(ii)The string efficiency 66.9 %\n"
       ]
      }
     ],
     "prompt_number": 3
    },
    {
     "cell_type": "heading",
     "level": 3,
     "metadata": {},
     "source": [
      "Example 8.8, Page Number: 176"
     ]
    },
    {
     "cell_type": "code",
     "collapsed": false,
     "input": [
      "from __future__ import division\n",
      "import math\n",
      "from sympy import *\n",
      "\n",
      "#Variable declaration:\n",
      "n = 4                       #no.os insulators\n",
      "V2 = 13.2                   #Voltage across 2th unit\n",
      "V3 = 18                     #Voltage across 3th unit\n",
      "#Suppose K is the ratio of shunt-capacitance to self-capacitance\n",
      "k = symbols('k')\n",
      "\n",
      "# Referring to Fig.(ii), we have,\n",
      "# V2/V1 = ( 1 + K)/1\n",
      "# V2 = V1 (1 + K)\n",
      "# V3/V1 = (1 + 3K + K2)/1\n",
      "# V3 = V1 (1 + 3K + K2)\n",
      "# putting values of V2 & V3\n",
      "\n",
      "k1 = solve(13.2*k**2+21.6*k-4.8,k)[1]\n",
      "V1 = V2/(1+k1)\n",
      "V4 = V1*(1 + k1**33 + 5*k1**2 + 6*k1)\n",
      "V = V1+V2+V3+V4                   #Voltage between line and earth(kV)\n",
      "Vl = math.sqrt(3)*V                    #Voltage between conductors(kV)\n",
      "\n",
      "#Result:\n",
      "print \"Voltage between conductors is\",round(float(Vl)),\"kV\""
     ],
     "language": "python",
     "metadata": {},
     "outputs": [
      {
       "output_type": "stream",
       "stream": "stdout",
       "text": [
        "Voltage between conductors is 119.0 kV\n"
       ]
      }
     ],
     "prompt_number": 4
    },
    {
     "cell_type": "heading",
     "level": 3,
     "metadata": {},
     "source": [
      "Example 8.9, Page Number: 177"
     ]
    },
    {
     "cell_type": "code",
     "collapsed": false,
     "input": [
      "from __future__ import division\n",
      "\n",
      "\n",
      "#Variable declaration:\n",
      "k = 5               #ratio of self-capacitance(C) to pin-earth capacitance(C1)\n",
      "V = 1+1.2+1.64+2.408                  #voltage obtained across the string(V)\n",
      "\n",
      "\n",
      "#Calculation:\n",
      "#(i) The voltage across each unit expressed as a % of V\n",
      "v1 = 1/V*100\n",
      "v2 = 1.2/V*100\n",
      "v3 = 1.6/V*100\n",
      "v4 = 2.408/V*100\n",
      "\n",
      "#(ii)String efficiency\n",
      "e = V/(4*2.408)*100\n",
      "\n",
      "#Result:\n",
      "print \"(i) The voltage across each unit expressed as a % of V are:\"\n",
      "print \"\\tTop Unit: \",round(v1),\"%\"\n",
      "print \"\\tSecond from top: \",round(v2,1),\"%\"\n",
      "print \"\\tThird from top: \",round(v3),\"%\"\n",
      "print \"\\tFourth from top: \",round(v4,1),\"%\"\n",
      "print \"(ii)String efficiency is\",round(e,2),\"%\""
     ],
     "language": "python",
     "metadata": {},
     "outputs": [
      {
       "output_type": "stream",
       "stream": "stdout",
       "text": [
        "(i) The voltage across each unit expressed as a % of V are:\n",
        "\tTop Unit:  16.0 %\n",
        "\tSecond from top:  19.2 %\n",
        "\tThird from top:  26.0 %\n",
        "\tFourth from top:  38.5 %\n",
        "(ii)String efficiency is 64.87 %\n"
       ]
      }
     ],
     "prompt_number": 54
    },
    {
     "cell_type": "heading",
     "level": 3,
     "metadata": {},
     "source": [
      "Example 8.10, Page Number: 177"
     ]
    },
    {
     "cell_type": "code",
     "collapsed": false,
     "input": [
      "from __future__ import division\n",
      "from sympy import *\n",
      "\n",
      "#Variable declaration:\n",
      "V1,V2,V3,V= symbols('V1 V2 V3 V')          #volts (shown in fig(ii))\n",
      "\n",
      "\n",
      "#Calculation:\n",
      "\n",
      "#We know that in an actual string of insulators, 3 capacitances\n",
      "#exist i.e, self-capacitance of each insulator, shunt capacitance \n",
      "#and capacitance of each unit to line.\n",
      "#But, capacitance of each unit to line is very small and\n",
      "#can be neglected.\n",
      "\n",
      "#At Junction A\n",
      "#     I2 + i1 = I1 + i1\n",
      "#or   V2*w*C + (V2 + V3)*0\u00b71*w*C = V1*\u03c9*C + 0\u00b715*C*V1*w\n",
      "#or   0\u00b71*V3 = 1\u00b715*V1 \u2212 1\u00b71*V2\n",
      "#     V3 = 11\u00b75*V1 \u2212 11*V2                     ...(i)\n",
      "\n",
      "#At Junction B\n",
      "#     I3 + i\u20322 = I2 + i2\n",
      "#or   V3*w*C + V3*0\u00b71*C*w = V2*w*C + (V1 + V2)*w*0\u00b715 C\n",
      "#or   1\u00b71*V3 = 1\u00b715*V2 + 0\u00b715*V1                ...(ii)\n",
      "#Putting the value of V3 from exp (i). into exp. (ii), we get,\n",
      "#     1\u00b71*(11\u00b75*V1 \u2212 11*V2) = 1\u00b715*V2 + 0\u00b715*V1\n",
      "#or   13\u00b725*V2 = 12\u00b75*V1\n",
      "#    V2 = 12.5/13.25*V1\n",
      "#    V3 = 11.5*V1-11*V2\n",
      "#    V = V1+V2+V3\n",
      "#    V  = 40.55/13.25*V1\n",
      "V1 = 13.25/40.55*V\n",
      "V2 = 12.5/13.25*V1\n",
      "V3 = 14.8/13.25*V1\n",
      "\n",
      "#The voltage across each unit expressed as a % of V becomes:\n",
      "p1 = V1/V*100\n",
      "p2 = V2/V*100\n",
      "p3 = V3/V*100\n",
      "\n",
      "\n",
      "#Results:\n",
      "print \"The voltage across each unit expressed as a % of V becomes:\"\n",
      "print \"for top unit, v1 =\",round(p1,1),\"%\",\n",
      "print \"\\nfor middle unit, v2 =\",round(p2,1),\"%\"\n",
      "print \"for 3rd unit, v3 =\",round(p3,1),\"%\"\n",
      "\n",
      "print \"String efficiency is\",round(V/(3*V3)*100,1),\"%\""
     ],
     "language": "python",
     "metadata": {},
     "outputs": [
      {
       "output_type": "stream",
       "stream": "stdout",
       "text": [
        "The voltage across each unit expressed as a % of V becomes:\n",
        "for top unit, v1 = 32.7 % \n",
        "for middle unit, v2 = 30.8 %\n",
        "for 3rd unit, v3 = 36.5 %\n",
        "String efficiency is 91.3 %\n"
       ]
      }
     ],
     "prompt_number": 7
    },
    {
     "cell_type": "heading",
     "level": 3,
     "metadata": {},
     "source": [
      "Example 8.11, Page Number: 179"
     ]
    },
    {
     "cell_type": "code",
     "collapsed": false,
     "input": [
      "from __future__ import division\n",
      "from sympy import *\n",
      "\n",
      "#Variable Declaration:\n",
      "V1,V2,V3,V= symbols('V1 V2 V3 V')          #volts (shown in fig(i))\n",
      "\n",
      "#Calculation:\n",
      "\n",
      "#At Junction A\n",
      "#    I2 + i\u20321 = I1 + i1\n",
      "#or  V2*w*C + (V2+V3)*w*0\u00b71*C  = V1*w*C+V1*0\u00b72*C*\u03c9   \n",
      "#   V3 = 12 V1 \u2212 11 V2                                  # ...(i)\n",
      "\n",
      "#At Junction B\n",
      "#      I3 + i\u20322 = I2 + i2\n",
      "#or    V3 \u03c9 C + V3 \u00d7 0\u00b73 C \u00d7 \u03c9 =V2 \u03c9 C + (V1 + V2) \u03c9 \u00d7 0\u00b72 C\n",
      "#or    1\u00b73 V3 = 1\u00b72 V2 + 0\u00b72 V1 ...(ii)\n",
      "#Substituting the value of V3 from exp. (i) into exp. (ii), we get,\n",
      "#      1\u00b73*(12*V1 \u2212 11*V2) = 1\u00b72*V2 + 0\u00b72*V1\n",
      "#or    15\u00b75*V2 = 15\u00b74*V1\n",
      "V2 = 15.4*V1/15.5                     #...(iii)\n",
      "V2 =  0.993*V1\n",
      "\n",
      "#Substituting the value of V2 from exp. (iii) into exp. (i), we get,\n",
      "V3 = 12*V1 - 11*0.993*V1\n",
      "V3 = 1.077*V1\n",
      "\n",
      "#Voltage between conductor and earth (i.e. phase voltage)\n",
      "V = V1+V2+V3\n",
      "n = V/(3*V3)*100\n",
      "\n",
      "#Result:\n",
      "print \"String efficiency is\",round(n),\"%\""
     ],
     "language": "python",
     "metadata": {},
     "outputs": [
      {
       "output_type": "stream",
       "stream": "stdout",
       "text": [
        "String efficiency is 95.0 %\n"
       ]
      }
     ],
     "prompt_number": 55
    },
    {
     "cell_type": "heading",
     "level": 3,
     "metadata": {},
     "source": [
      "Example 8.13, Page Number: 184"
     ]
    },
    {
     "cell_type": "code",
     "collapsed": false,
     "input": [
      "from __future__ import division\n",
      "from pylab import *\n",
      "import math\n",
      "\n",
      "#Variable declaration:\n",
      "r = 1                         #conductor radius(cm)\n",
      "d = 100                       #conductor spacing(cm)\n",
      "go = 30/math.sqrt(2)               #Dielectric strength of air,(rms)(kV/cm)\n",
      "dl = 0.952                    #air density factor\n",
      "mo = 0.9                      #irregularity factor\n",
      "\n",
      "#Calculation:\n",
      "Vc = mo*go*dl*r*math.log(d/r)     #kV/phase\n",
      "Vl = Vc*3**0.5                   #kV/line\n",
      "\n",
      "#Result:\n",
      "print \"The disruptive critical voltage for the line is\",round(float(Vl),2),\"kV\""
     ],
     "language": "python",
     "metadata": {},
     "outputs": [
      {
       "output_type": "stream",
       "stream": "stdout",
       "text": [
        "The disruptive critical voltage for the line is 144.97 kV\n"
       ]
      }
     ],
     "prompt_number": 5
    },
    {
     "cell_type": "heading",
     "level": 3,
     "metadata": {},
     "source": [
      "Example 8.14, Page Number: 184"
     ]
    },
    {
     "cell_type": "code",
     "collapsed": false,
     "input": [
      "from __future__ import division\n",
      "from pylab import *\n",
      "\n",
      "#Variable declaration:\n",
      "r = 0.978                       #conductor radius(cm)\n",
      "go = round(30/2**0.5,1)                  #Dielectric strength of air,rms(kV/cm)\n",
      "Vc = 210/3**0.5                 #Disruptive voltage/phase(kV)\n",
      "mo = 1                          #irregularity factor(for smooth conductor)\n",
      "dl = 1              #air density factor(at std pressure and temperature)\n",
      "\n",
      "#Calculation:\n",
      "d = r*10**(Vc/(2.3*mo*go*dl*r))\n",
      "\n",
      "#Result:\n",
      "print \"The spacing between the conductors is\",round(d),\"cm\""
     ],
     "language": "python",
     "metadata": {},
     "outputs": [
      {
       "output_type": "stream",
       "stream": "stdout",
       "text": [
        "The spacing between the conductors is 341.0 cm\n"
       ]
      }
     ],
     "prompt_number": 16
    },
    {
     "cell_type": "heading",
     "level": 3,
     "metadata": {},
     "source": [
      "Example 8.15, Page Number: 185"
     ]
    },
    {
     "cell_type": "code",
     "collapsed": false,
     "input": [
      "from __future__ import division\n",
      "from pylab import *\n",
      "import math\n",
      "\n",
      "#Variable declaration:\n",
      "r = 1.5                          #conductor radius(cm)\n",
      "t = 40                            #temperature(deg C)\n",
      "b = 76                           #atmospheric pressure(cm)\n",
      "mo = 0.85                        #irregularity factor\n",
      "f = 50                           #Hz\n",
      "d = 200                         #conductor spacing(cm)\n",
      "go = 30/2**0.5                  #Dielectric strength of air,rms(kV/cm)\n",
      "Vl = 220                        #line voltage(kV)\n",
      "\n",
      "#Calculation:\n",
      "dl = round(3.92*b/(273+t),3)\n",
      "\n",
      "Vc = round(mo*go*dl*r*round(math.log(d/r),2),1)  #Critical disruptive voltage per phase(kV)\n",
      "V = round(Vl/3**0.5)                    #kV/phase\n",
      "P = 242.2/dl*(f+25)*(r/d)**0.5*(V-Vc)**2*10**-5      #kW/km/phase\n",
      "Pl = 3*P                       #corona loss(kW)\n",
      "\n",
      "#Result:\n",
      "print \"Total corona loss per km for three phases is\",round(Pl,5),\"kW\""
     ],
     "language": "python",
     "metadata": {},
     "outputs": [
      {
       "output_type": "stream",
       "stream": "stdout",
       "text": [
        "Total corona loss per km for three phases is 0.05998 kW\n"
       ]
      }
     ],
     "prompt_number": 6
    },
    {
     "cell_type": "heading",
     "level": 3,
     "metadata": {},
     "source": [
      "Example 8.16, Page Number: 185"
     ]
    },
    {
     "cell_type": "code",
     "collapsed": false,
     "input": [
      "from __future__ import division\n",
      "from sympy import *\n",
      "\n",
      "#Variable declaration:\n",
      "P1 = 53                    #corona loss(kW)\n",
      "V1 = 106                   #operating voltage(kV)\n",
      "P2 = 98                   #corona loss(kW)\n",
      "V2 = 110.9                #operating voltage(kV)\n",
      "V3 = 113                  #opeating voltage(kV)\n",
      "\n",
      "\n",
      "#Calculation:\n",
      "#As f, \u03b4, r and d are the same for the two cases,\n",
      "#therfore, P \u221d (V \u2212 Vc)**2\n",
      "k,Vc = symbols('k Vc')           #k = proportionality constant\n",
      "                              #Vc = critical disuptive voltage(kV)\n",
      "#for 1st case,\n",
      "#    V1/3**0.5 = k*(64 - Vc)**2\n",
      "#    V2/3**0.5 = k*(61\u00b72 - Vc)**2\n",
      "# Dividing above equations & solving,\n",
      "Vc1 = round(solve(((64-Vc)/(61.2-Vc))-math.sqrt(98/53),Vc)[0],2)\n",
      "Vc1 = 54\n",
      "#Let W kilowatt be the power loss at 113 kV.\n",
      "#W = k*(113/3**0.5-Vc1)**2\n",
      "W = P1*((65.2-Vc1)/(61.2-Vc1))**2\n",
      "\n",
      "\n",
      "\n",
      "#Result:\n",
      "print \"The disruptive critical voltage at 113 kV is\",Vc1,\"kV\"\n",
      "print \"The corona loss at 113 kV is\",round(W),\"kW\""
     ],
     "language": "python",
     "metadata": {},
     "outputs": [
      {
       "output_type": "stream",
       "stream": "stdout",
       "text": [
        "The disruptive critical voltage at 113 kV is 54 kV\n",
        "The corona loss at 113 kV is 128.0 kW\n"
       ]
      }
     ],
     "prompt_number": 2
    },
    {
     "cell_type": "heading",
     "level": 3,
     "metadata": {},
     "source": [
      "Example 8.17, Page Number: 190"
     ]
    },
    {
     "cell_type": "code",
     "collapsed": false,
     "input": [
      "from __future__ import division\n",
      "\n",
      "#Variable declaration:\n",
      "w = 680                        #weigth of conductor(kg/km)\n",
      "l = 260                        #length ofspan(m)\n",
      "u = 3100                       #ultimate strength(kg)\n",
      "sf = 2                          #safety factor\n",
      "h = 10                         #ground clearance(m)\n",
      "\n",
      "\n",
      "#Calculation:\n",
      "T = u/sf                        #working tension(kg)\n",
      "s = w*l**2/(8*T*1000)            #span(m)\n",
      "H = h+s\n",
      "\n",
      "\n",
      "#Result:\n",
      "print \"Conductor should be supported at a height of \",round(H,1),\"m\"\n"
     ],
     "language": "python",
     "metadata": {},
     "outputs": [
      {
       "output_type": "stream",
       "stream": "stdout",
       "text": [
        "Conductor should be supported at a height of  13.7 m\n"
       ]
      }
     ],
     "prompt_number": 56
    },
    {
     "cell_type": "heading",
     "level": 3,
     "metadata": {},
     "source": [
      "Example 8.18, Page Number: 190"
     ]
    },
    {
     "cell_type": "code",
     "collapsed": false,
     "input": [
      "from __future__ import division\n",
      "import math\n",
      "\n",
      "#Variable declaration:\n",
      "l = 150                        #length ofspan(m)\n",
      "a = 2                          #conductor cross-section(cm**2)\n",
      "go = 9.9                      #specific gravity of conductor(gm/cm**3)\n",
      "ww = 1.5                      #Wind force/m length of conductor(kg)\n",
      "T = 2000                       #working tension(kg)\n",
      "\n",
      "#Calculation:\n",
      "w = go*a*1/10              #Wt. of conductor/m length(kg)\n",
      "wt = round((w**2+ww**2)**0.5,2)      #Total wt of 1m length of conductor(kg)\n",
      "s = wt*l**2/(8*T)              #sag(m)\n",
      "#This is the value of slant sag in a direction making \n",
      "#an angle theta with the vertical\n",
      "\n",
      "theta = math.atan(ww/w)\n",
      "Vs = s*math.cos(theta)\n",
      "\n",
      "#Result:\n",
      "print \"The sag is\",round(s,2),\"m\"\n",
      "print \"The vertical sag is\",round(Vs,2),\"m\""
     ],
     "language": "python",
     "metadata": {},
     "outputs": [
      {
       "output_type": "stream",
       "stream": "stdout",
       "text": [
        "The sag is 3.49 m\n",
        "The vertical sag is 2.78 m\n"
       ]
      }
     ],
     "prompt_number": 7
    },
    {
     "cell_type": "heading",
     "level": 3,
     "metadata": {},
     "source": [
      "Example 8.19, Page Number: 191"
     ]
    },
    {
     "cell_type": "code",
     "collapsed": false,
     "input": [
      "from __future__ import division\n",
      "import math\n",
      "\n",
      "#Variable declaration:\n",
      "l = 200                     #span length(m)\n",
      "w = 1170/1000                #weigth of conductor(kg)\n",
      "u = 4218                    #Ultimate Strength(kg/cm**2)\n",
      "sf = 5                      #safety factor\n",
      "a = 1.29                    #cross-section of conductor(cm**2)\n",
      "P = 122                        #wind pressure(kg/m**2)\n",
      "\n",
      "#Calculation:\n",
      "T = u/sf*a                   #working tension(kg)\n",
      "d = round((4*a/math.pi)**0.5,2)            #diameter of conductor(cm)\n",
      "ww = P*d*10**-2             #Wind force/m length,\n",
      "wt = (ww**2+w**2)**0.5          #total wt of conductor per metre length\n",
      "S = wt*l**2/(8*T)\n",
      "theta = math.atan(ww/w)\n",
      "VS = S*math.cos(theta)\n",
      "\n",
      "#Result:\n",
      "print \"The sag is\",round(S,2),\"m\"\n",
      "print \"The vertical sag is\",round(VS,2),\"m\""
     ],
     "language": "python",
     "metadata": {},
     "outputs": [
      {
       "output_type": "stream",
       "stream": "stdout",
       "text": [
        "The sag is 8.97 m\n",
        "The vertical sag is 5.38 m\n"
       ]
      }
     ],
     "prompt_number": 1
    },
    {
     "cell_type": "heading",
     "level": 3,
     "metadata": {},
     "source": [
      "Example 8.20, Page Number: 191"
     ]
    },
    {
     "cell_type": "code",
     "collapsed": false,
     "input": [
      "from __future__ import division\n",
      "\n",
      "#Variable declaration:\n",
      "l = 275                    #span length(m)\n",
      "w = 0.865                 #weigth of conductor/m(kg)\n",
      "d = 1.96                    #conductor diameter(cm)\n",
      "t = 1.27                    #ice coating thickness(cm)\n",
      "u = 8060                    #Ultimate Strength(kg)\n",
      "sf = 2                      #safety factor\n",
      "a = 1.29                    #cross-section of conductor(cm**2)\n",
      "wo = 0.91                   #Weight of 1 c.c. of ice(gm)\n",
      "P = 3.9                      #wind pressure(gm/cm**2)\n",
      "\n",
      "#Calculation:\n",
      "T = u/sf                    #working tension(kg)\n",
      "v = 3.14*t*(d+t)*100            #Volume of ice per metre(cm**3)\n",
      "wi = v*wo/1000                   #kg\n",
      "ww = P*(d+2*t)*100/1000          #kg\n",
      "wt = ((w+wi)**2+ww**2)**0.5       #total weight(kg)\n",
      "S = wt*l**2/(8*T)                  #sag(m)\n",
      "\n",
      "\n",
      "#Result:\n",
      "print \"Sag is\",round(S,1),\"m\""
     ],
     "language": "python",
     "metadata": {},
     "outputs": [
      {
       "output_type": "stream",
       "stream": "stdout",
       "text": [
        "Sag is 6.3 m\n"
       ]
      }
     ],
     "prompt_number": 60
    },
    {
     "cell_type": "heading",
     "level": 3,
     "metadata": {},
     "source": [
      "Example 8.21, Page Number: 192"
     ]
    },
    {
     "cell_type": "code",
     "collapsed": false,
     "input": [
      "from __future__ import division\n",
      "from sympy import *\n",
      "\n",
      "#Variable declaration:\n",
      "Sv = 2.35                    #vertical sag(m)\n",
      "P = 1.5                      #wind pressure(kg/m)\n",
      "B = 2540                       #breaking stress(kg/cm**2)\n",
      "w = 1.125                   #wt of conductor(kg/m)\n",
      "l = 214                     #length of conductor(m)\n",
      "a = 3.225                    #conductor cross-section\n",
      "\n",
      "\n",
      "#Calculation:\n",
      "f = symbols('f')             #safety factor\n",
      "wt = (w**2+P**2)**0.5              #Total wt. of one m length of conductor\n",
      "T = B*a/f                   #working stress(kg)\n",
      "cos_theta = w/wt\n",
      "S = Sv/cos_theta            #slant sag\n",
      "T1 =  wt*l**2/(8*S)          \n",
      "f1 = solve(T-T1,f)[0]           #safety factor\n",
      "\n",
      "\n",
      "#Result:\n",
      "print \"Safety factor is\",round(f1)"
     ],
     "language": "python",
     "metadata": {},
     "outputs": [
      {
       "output_type": "stream",
       "stream": "stdout",
       "text": [
        "Safety factor is 3.0\n"
       ]
      }
     ],
     "prompt_number": 61
    },
    {
     "cell_type": "heading",
     "level": 3,
     "metadata": {},
     "source": [
      "Example 8.22, Page Number: 192"
     ]
    },
    {
     "cell_type": "code",
     "collapsed": false,
     "input": [
      "from __future__ import division\n",
      "\n",
      "#Variable declaration:\n",
      "l = 150                         #span length(m)\n",
      "u = 5000                       #ultimate strength(kg/cm**2)\n",
      "go = 8.9                       #specific gravity of material(gm/cc)\n",
      "P = 1.5                        #wind pressure(kg/m)\n",
      "sf = 5                         #safety factor\n",
      "a = 2                           #cross-section of conductor(cm**2)\n",
      "h = 7                          #ground clearance(m)\n",
      "\n",
      "#Calculation:\n",
      "w = a*go*100/1000                  #weight of conductor per m(kg)\n",
      "T = u*a/sf                    #working stress per m(kg)\n",
      "wt = (w**2+P**2)**0.5         #Total wt of 1 m length of conductor(kg)\n",
      "S = wt*l**2/(8*T)               #slant sag(m)\n",
      "Sv = S*w/wt                   #conductor vertical sag(m)\n",
      "H = h+Sv                     #m\n",
      "\n",
      "#Result:\n",
      "print \"Conductor should be supported at a height of\",round(H,1),\"m\""
     ],
     "language": "python",
     "metadata": {},
     "outputs": [
      {
       "output_type": "stream",
       "stream": "stdout",
       "text": [
        "Conductor should be supported at a height of 9.5 m\n"
       ]
      }
     ],
     "prompt_number": 8
    },
    {
     "cell_type": "heading",
     "level": 3,
     "metadata": {},
     "source": [
      "Example 8.23, Page Number: 193"
     ]
    },
    {
     "cell_type": "code",
     "collapsed": false,
     "input": [
      "from __future__ import division\n",
      "from sympy import *\n",
      "\n",
      "#Variable declaration:\n",
      "l = 500                                #distance b/w the two towers(m)\n",
      "T = 1600                               #tension in the conductor(kg)\n",
      "w = 1.5                                 #weight of the conductor(kg/m)\n",
      "h1 = 30                                #height of 1st tower(m)\n",
      "h2 = 90                                #height of 2nd tower(m)\n",
      "\n",
      "\n",
      "\n",
      "#Calculation:\n",
      "h = h2-h1                            #difference in levels(m)\n",
      "x1,x2 = symbols('x1 x2')\n",
      "x2 = l-x1\n",
      "S1 = w*x1**2/(2*T)                   #m\n",
      "S2 = w*x2**2/(2*T)                    #m\n",
      "x11 = solve(S2-S1-h,x1)[0]\n",
      "S1 = w*x11**2/(2*T)                   #m\n",
      "#Let the mid-point P be at a distance x from the lowest point O\n",
      "x = l/2-x11\n",
      "Smid = w*x**2/(2*T)                  #m\n",
      "\n",
      "\n",
      "#Result:\n",
      "print \"The min. clearance of the conductor and water is \",round(h1-S1),\"m\"\n",
      "print \"The clearance mid-way b/w the supports is\",round(Smid+h1-S1,2),\"m\""
     ],
     "language": "python",
     "metadata": {},
     "outputs": [
      {
       "output_type": "stream",
       "stream": "stdout",
       "text": [
        "The min. clearance of the conductor and water is  23.0 m\n",
        "The clearance mid-way b/w the supports is 30.7 m\n"
       ]
      }
     ],
     "prompt_number": 62
    },
    {
     "cell_type": "heading",
     "level": 3,
     "metadata": {},
     "source": [
      "Example 8.24, Page Number: 194"
     ]
    },
    {
     "cell_type": "code",
     "collapsed": false,
     "input": [
      "from __future__ import division\n",
      "from sympy import *\n",
      "\n",
      "#Variable declaration:\n",
      "l = 600                                #distance b/w the two towers(m)\n",
      "f = 5                                  #safety factor\n",
      "U = 8000                               #kg/cm**2\n",
      "a = 2.2                                #area of cross-section(cm**2)\n",
      "w = 1.925                              #weight of the conductor(kg/m)\n",
      "h = 15                                  #difference in towers levels(m)\n",
      "wi = 1                                 #ice weight(kg)\n",
      "\n",
      "#Calculation:\n",
      "T = U*a/f                              #tension in the conductor(kg)\n",
      "wt = wi+w                              #total weight of conductor(kg)\n",
      "x1,x2 = symbols('x1 x2')\n",
      "x2 = l-x1\n",
      "S1 = wt*x1**2/(2*T)                   #m\n",
      "S2 = wt*x2**2/(2*T)                    #m\n",
      "x11 = solve(S2-S1-h,x1)[0]\n",
      "x22 = l-x11\n",
      "S22 = wt*x22**2/(2*T)                   #m\n",
      "\n",
      "\n",
      "#Result:\n",
      "print \"The sag from the taller of the two supports is\",round(S22,2),\"m\""
     ],
     "language": "python",
     "metadata": {},
     "outputs": [
      {
       "output_type": "stream",
       "stream": "stdout",
       "text": [
        "The sag from the taller of the two supports is 45.27 m\n"
       ]
      }
     ],
     "prompt_number": 63
    },
    {
     "cell_type": "heading",
     "level": 3,
     "metadata": {},
     "source": [
      "Example 8.25, Page Number: 195"
     ]
    },
    {
     "cell_type": "code",
     "collapsed": false,
     "input": [
      "from __future__ import division\n",
      "from sympy import *\n",
      "\n",
      "#Variable declaration:\n",
      "l = 400                                #distance b/w the two towers(m)\n",
      "T = 2000                               #tension in the conductor(kg)\n",
      "w = 1                                 #weight of the conductor(kg/m)\n",
      "h1 = 40                                #height of 1st tower(m)\n",
      "h2 = 90                                #height of 2nd tower(m)\n",
      "\n",
      "#Calculation:\n",
      "h = h2-h1                            #difference in levels(m)\n",
      "x1,x2 = symbols('x1 x2')\n",
      "x2 = l-x1\n",
      "S1 = w*x1**2/(2*T)                   #m\n",
      "S2 = w*x2**2/(2*T)                    #m\n",
      "x11 = solve(S2-S1-h,x1)[0]\n",
      "S1 = w*x11**2/(2*T)                   #m\n",
      "x_mid = 50+400/2           #Horizontal distance of mid-point P from lowest point O\n",
      "Sp = w*x_mid**2/(2*T)                      #SAg at P(m)\n",
      "S2 = w*(l-x11)**2/(2*T)                   #m\n",
      "hc = h2-S2+Sp                       #Clearance of mid-point P above water level(m)\n",
      "\n",
      "\n",
      "\n",
      "#Result:\n",
      "print \"Clearance of mid-point P above water level is\",round(hc),\"m\""
     ],
     "language": "python",
     "metadata": {},
     "outputs": [
      {
       "output_type": "stream",
       "stream": "stdout",
       "text": [
        "Clearance of mid-point P above water level is 55.0 m\n"
       ]
      }
     ],
     "prompt_number": 127
    },
    {
     "cell_type": "heading",
     "level": 3,
     "metadata": {},
     "source": [
      "Example 8.26, Page Number: 195"
     ]
    },
    {
     "cell_type": "code",
     "collapsed": false,
     "input": [
      "from __future__ import division\n",
      "from pylab import *\n",
      "from sympy import *\n",
      "import math\n",
      "\n",
      "#Variable declaration:\n",
      "T = 1500                             #tension in the conductor(kg)\n",
      "w = 1                                #weight of the conductor(kg/m)\n",
      "DE = 300                              #distance b/w tower's top(m)\n",
      "H = 22                               #height of each tower(m)\n",
      "\n",
      "#Calculation:\n",
      "# Suppose, the conductors are supported between towers AD and BE over\n",
      "# a hillside having gradient of 1 : 20.\n",
      "# Let the lowest point on the conductor is O and\n",
      "# sin(theta) = 1/20.\n",
      "# since, the lowest conductor is fixed 2m below the top of each tower.\n",
      "theta = math.asin(1/20)\n",
      "BE = H-2                          #Effective height of each tower(m)\n",
      "EC = DE*1/20\n",
      "x1,x2 = symbols('x1 x2')\n",
      "DC = (DE**2-EC**2)**0.5                  #Horizontal distance b/w two towers(m)\n",
      "x2 = DC-x1\n",
      "S1 = w*x1**2/(2*T)                    #m\n",
      "S2 = w*x2**2/(2*T)                    #m\n",
      "x11 = solve(S2-S1-EC,x1)[0]\n",
      "S2 = w*(DC-x11)**2/(2*T)               #m\n",
      "BC = BE+EC\n",
      "OG = BC-S2-x11*math.tan(theta)\n",
      "\n",
      "#Result:\n",
      "print \"Clearance of the lowest point O from the ground is\",round(OG,2),\"m\""
     ],
     "language": "python",
     "metadata": {},
     "outputs": [
      {
       "output_type": "stream",
       "stream": "stdout",
       "text": [
        "Clearance of the lowest point O from the ground is 14.4 m\n"
       ]
      }
     ],
     "prompt_number": 9
    },
    {
     "cell_type": "heading",
     "level": 3,
     "metadata": {},
     "source": [
      "Example 8.27, Page Number: 196"
     ]
    },
    {
     "cell_type": "code",
     "collapsed": false,
     "input": [
      "from __future__ import division\n",
      "from sympy import *\n",
      "\n",
      "\n",
      "#Variable declaration:\n",
      "l = 300                     #distance b/w tower(m)\n",
      "S = 10                        #span(m)\n",
      "h = 8                      #clearance(m)\n",
      "\n",
      "\n",
      "#Calculation:\n",
      "#On level ground:\n",
      "r = 8*S/l**2              #ratio w/T\n",
      "\n",
      "\n",
      "#On sloping ground:\n",
      "#The conductors are supported between towers AD and BE \n",
      "#over a sloping ground having a gradient 1 in 15 as shown above.\n",
      "\n",
      "DE = 300\n",
      "sin_theta = 1/15\n",
      "\n",
      "h = DE*sin_theta             #Vertical distance b/w the two towers(m)\n",
      "BE = S+h                      #height of tower(m)\n",
      "x1,x2,x = symbols('x1 x2 x')\n",
      "x2 = l-x1\n",
      "S1 = r*x1**2/2                   #m\n",
      "S2 = r*x2**2/2                   #m\n",
      "x11 = solve(S2-S1-h,x1)[0]\n",
      "S11 = r*x11**2/(2)                   #m\n",
      "x22 = l-x11\n",
      "S22 = r*x22**2/(2)                   #m\n",
      "tan_theta = 1/15\n",
      "GF = x11*tan_theta\n",
      "BC = h-S22-GF\n",
      "#Since O is the origin, the equation of slope of ground is given by :\n",
      "y = x/15-10.5\n",
      "#C = Equation of conductor curve \u2212 y\n",
      "C = r*x**2/2-y\n",
      "C1 = diff(C,x)\n",
      "xm = solve(C1,x)[0]\n",
      "#putting values of xm in above equations,\n",
      "ym = xm/15-10.5\n",
      "Cm = C = r*xm**2/2-ym\n",
      "\n",
      "\n",
      "#Result:\n",
      "print \"Required minimum clearance is\",round(Cm),\"m\""
     ],
     "language": "python",
     "metadata": {},
     "outputs": [
      {
       "output_type": "stream",
       "stream": "stdout",
       "text": [
        "Required minimum clearance is 8.0 m\n"
       ]
      }
     ],
     "prompt_number": 129
    }
   ],
   "metadata": {}
  }
 ]
}