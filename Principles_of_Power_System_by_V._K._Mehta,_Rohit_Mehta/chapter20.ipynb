{
 "metadata": {
  "name": "",
  "signature": "sha256:37bb87f048a2d4a670b09cf05bff6f5c622ef838c4da8caa7225a316e1b26b5e"
 },
 "nbformat": 3,
 "nbformat_minor": 0,
 "worksheets": [
  {
   "cells": [
    {
     "cell_type": "heading",
     "level": 1,
     "metadata": {},
     "source": [
      "Chapter 20: Fuses"
     ]
    },
    {
     "cell_type": "heading",
     "level": 3,
     "metadata": {},
     "source": [
      "Example 20.1, Page Number: 495"
     ]
    },
    {
     "cell_type": "code",
     "collapsed": false,
     "input": [
      "from __future__ import division\n",
      "\n",
      "#Variable declaration:\n",
      "r1 = 0.8                   #radius of fuse wire(mm)\n",
      "I1 = 8                     #blow current at r1 radius(A)\n",
      "I2 = 1                     #blow current(A)\n",
      "\n",
      "\n",
      "#Calculation:\n",
      "r2 = r1*(I2/I1)**(2/3)       #radius for bearing 1 A of blow current(mm)\n",
      "\n",
      "\n",
      "\n",
      "#Result:\n",
      "print \"The radius of the wire that will blow off at a current of 1A is\",r2,\"mm\""
     ],
     "language": "python",
     "metadata": {},
     "outputs": [
      {
       "output_type": "stream",
       "stream": "stdout",
       "text": [
        "The radius of the wire that will blow off at a current of 1A is 0.2 mm\n"
       ]
      }
     ],
     "prompt_number": 1
    }
   ],
   "metadata": {}
  }
 ]
}