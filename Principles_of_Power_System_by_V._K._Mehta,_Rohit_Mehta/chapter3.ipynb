{
 "metadata": {
  "name": "",
  "signature": "sha256:c36425eab1371d7c77f7bd1775095f254e3df888559e80a11117b968dfc1b5b4"
 },
 "nbformat": 3,
 "nbformat_minor": 0,
 "worksheets": [
  {
   "cells": [
    {
     "cell_type": "heading",
     "level": 1,
     "metadata": {},
     "source": [
      "Chapter 3: Principles of Power System"
     ]
    },
    {
     "cell_type": "heading",
     "level": 3,
     "metadata": {},
     "source": [
      "Example 3.1, Page Number: 50"
     ]
    },
    {
     "cell_type": "code",
     "collapsed": false,
     "input": [
      "#Variable declaration:\n",
      "M = 100                          #Maximum demand on power station(MW)\n",
      "L = 0.40                         #annual load factor\n",
      "\n",
      "#Calculation:\n",
      "E = M*L*8760*10**6              #Energy generated in a year(kWh)\n",
      "\n",
      "#Results:\n",
      "print \"Energy generated in a year is (\",E/10**8,\"* 10^5) kWh\" "
     ],
     "language": "python",
     "metadata": {},
     "outputs": [
      {
       "output_type": "stream",
       "stream": "stdout",
       "text": [
        "Energy generated in a year is ( 3504.0 * 10^5) kWh\n"
       ]
      }
     ],
     "prompt_number": 1
    },
    {
     "cell_type": "heading",
     "level": 3,
     "metadata": {},
     "source": [
      "Example 3.2, Page Number: 50"
     ]
    },
    {
     "cell_type": "code",
     "collapsed": false,
     "input": [
      "from __future__ import division\n",
      "\n",
      "#Variable declaration:\n",
      "L = 43                      #connected load(MW)\n",
      "M = 20                      #Maximum demand(MW)\n",
      "E = 61.5*10**6              #Units genearted per annum(kWh)\n",
      "\n",
      "#calculation:\n",
      "DF = M/L                    #demand factor\n",
      "LF = E/(M*8760*1000)          #load factor\n",
      "\n",
      "#Results:\n",
      "print \"The demand factor is\",round(DF,3)\n",
      "print \"Load factor is \",round(LF*100,1),\"%\""
     ],
     "language": "python",
     "metadata": {},
     "outputs": [
      {
       "output_type": "stream",
       "stream": "stdout",
       "text": [
        "The demand factor is 0.465\n",
        "Load factor is  35.1 %\n"
       ]
      }
     ],
     "prompt_number": 2
    },
    {
     "cell_type": "heading",
     "level": 3,
     "metadata": {},
     "source": [
      "Example 3.3, Page Number: 50"
     ]
    },
    {
     "cell_type": "code",
     "collapsed": false,
     "input": [
      "from __future__ import division\n",
      "\n",
      "\n",
      "#variable declaration:\n",
      "\n",
      "#power station delivers 100 MW for 2 hours, \n",
      "#50 MW for 6 hours and is shut down for the rest\n",
      "#of each day.\n",
      "M = 100                       #Maximum capacity of station(MW)\n",
      "\n",
      "\n",
      "#Calculation:\n",
      "E1 = 100*2+50*6                #Energy supplied per day(MWh)\n",
      "n = 365-45                     #No.of working days\n",
      "LF = E1*320/(M*n*24)               #load factor\n",
      "\n",
      "print \"Annual load factor is\",round(LF*100,1),\"%\""
     ],
     "language": "python",
     "metadata": {},
     "outputs": [
      {
       "output_type": "stream",
       "stream": "stdout",
       "text": [
        "Annual load factor is 20.8 %\n"
       ]
      }
     ],
     "prompt_number": 3
    },
    {
     "cell_type": "heading",
     "level": 3,
     "metadata": {},
     "source": [
      "Example 3.4, Page Number: 50"
     ]
    },
    {
     "cell_type": "code",
     "collapsed": false,
     "input": [
      "from __future__ import division\n",
      "\n",
      "#Variable declaration:\n",
      "M = 25                      #Maximum demand(MW)\n",
      "LF = 0.60                   #Load factor\n",
      "PCF = 0.50                  #plant capacity factor\n",
      "PUF = 0.72                  #plant use factor\n",
      "\n",
      "\n",
      "#Calculations:\n",
      "L = LF*M                    #Average load(MW)\n",
      "PC = L/PCF                  #Plant gapacity(MW)\n",
      "R = PC-M                    #Reserve capacity(MW)\n",
      "E = L*24                    #daily energy produced(MWh)\n",
      "ME = E/PUF                  #Maximum energy produced(MWh/day)\n",
      "\n",
      "#Results:\n",
      "print \"Reserve capacity is \",R,\"MW\"\n",
      "print \"Daily energy produced is\",E,\"MWh\"\n",
      "print \"Maximum energy that could be produced dauly is \",ME,\"MWh/day\""
     ],
     "language": "python",
     "metadata": {},
     "outputs": [
      {
       "output_type": "stream",
       "stream": "stdout",
       "text": [
        "Reserve capacity is  5.0 MW\n",
        "Daily energy produced is 360.0 MWh\n",
        "Maximum energy that could be produced dauly is  500.0 MWh/day\n"
       ]
      }
     ],
     "prompt_number": 4
    },
    {
     "cell_type": "heading",
     "level": 3,
     "metadata": {},
     "source": [
      "Example 3.5, Page Number: 51"
     ]
    },
    {
     "cell_type": "code",
     "collapsed": false,
     "input": [
      "from __future__ import division\n",
      "\n",
      "#Variable declaration:\n",
      "M = 2500                 #Maximum demand(kW)\n",
      "E = 45*10**5             #kWh/year\n",
      "\n",
      "#Calculation:\n",
      "D = (1500+750+100+450)/M    #diversity factor\n",
      "LF = E/(M*8760)              #Annual load factor\n",
      "\n",
      "#Results:\n",
      "print \"Diversity factor is\",D\n",
      "print \"Annual load factor is\",round(LF*100,1),\"%\""
     ],
     "language": "python",
     "metadata": {},
     "outputs": [
      {
       "output_type": "stream",
       "stream": "stdout",
       "text": [
        "Diversity factor is 1.12\n",
        "Annual load factor is 20.5 %\n"
       ]
      }
     ],
     "prompt_number": 5
    },
    {
     "cell_type": "heading",
     "level": 3,
     "metadata": {},
     "source": [
      "Example 3.6, Page Number: 51"
     ]
    },
    {
     "cell_type": "code",
     "collapsed": false,
     "input": [
      "from __future__ import division\n",
      "\n",
      "#Variable declaration:\n",
      "M = 15000              #Max demand(kW)\n",
      "LF = 0.50              #Annual load factor\n",
      "PCF = 0.4              #Plant capacity factor\n",
      "\n",
      "\n",
      "#Calculations:\n",
      "L = LF*M               #load factor(kW)\n",
      "PC = L/PCF             #plant capacity(kW)\n",
      "R = PC-M               #Reserve capacity(kW)\n",
      "\n",
      "#Results:\n",
      "print \"The reserve capacity is \",R,\"kW\""
     ],
     "language": "python",
     "metadata": {},
     "outputs": [
      {
       "output_type": "stream",
       "stream": "stdout",
       "text": [
        "The reserve capacity is  3750.0 kW\n"
       ]
      }
     ],
     "prompt_number": 6
    },
    {
     "cell_type": "heading",
     "level": 3,
     "metadata": {},
     "source": [
      "Example 3.7, Page Number: 51"
     ]
    },
    {
     "cell_type": "code",
     "collapsed": false,
     "input": [
      "from __future__ import division\n",
      "\n",
      "#Variable declaration:\n",
      "DFo = 1.35              #Overall diversity factor of system\n",
      "\n",
      "\n",
      "\n",
      "#Calculations:\n",
      "M = (1500+2000+10000)/DFo    #max demand(kW)\n",
      "#for domestic load:\n",
      "CL1 = (1500*1.2)/0.8          #kW\n",
      "\n",
      "#for Commercial load:\n",
      "CL2 = 2000*1.1/0.9             #kW\n",
      "\n",
      "#for Industrial load:\n",
      "CL3 = 10000*1.25/1             #kW\n",
      "\n",
      "\n",
      "#Results:\n",
      "print \"Maximum demand is \",M,\"kW\"\n",
      "print \"Connected loads for each type are:\"\n",
      "print CL1,\"kW \",round(CL2),\"kW \",CL3,\"kW\""
     ],
     "language": "python",
     "metadata": {},
     "outputs": [
      {
       "output_type": "stream",
       "stream": "stdout",
       "text": [
        "Maximum demand is  10000.0 kW\n",
        "Connected loads for each type are:\n",
        "2250.0 kW  2444.0 kW  12500.0 kW\n"
       ]
      }
     ],
     "prompt_number": 7
    },
    {
     "cell_type": "heading",
     "level": 3,
     "metadata": {},
     "source": [
      "Example 3.8, Page Number: 52"
     ]
    },
    {
     "cell_type": "code",
     "collapsed": false,
     "input": [
      "#Variable declaration:\n",
      "Dt = 1.3             #Diversity among transformers\n",
      "\n",
      "\n",
      "#Calculation:\n",
      "#for transformer 1:\n",
      "M1 = (10*0.65)/1.5            #Max demand (kW)\n",
      "\n",
      "#for transformer 2:\n",
      "M2 = (12*0.6)/3.5            #max demand(kW)\n",
      "\n",
      "#for transformer:\n",
      "M3 = (15*0.7)/1.5             #max demand(kW)\n",
      "\n",
      "Mf = (M1+M2+M3)/Dt           #Maximum demand on feeder(kW)\n",
      "\n",
      "#Results:\n",
      "print \"Maximum load on the feeder is \",round(Mf,1),\"kW\"\n"
     ],
     "language": "python",
     "metadata": {},
     "outputs": [
      {
       "output_type": "stream",
       "stream": "stdout",
       "text": [
        "Maximum load on the feeder is  10.3 kW\n"
       ]
      }
     ],
     "prompt_number": 8
    },
    {
     "cell_type": "heading",
     "level": 3,
     "metadata": {},
     "source": [
      "Example 3.9, Page Number: 52"
     ]
    },
    {
     "cell_type": "code",
     "collapsed": false,
     "input": [
      "#Variable declaration:\n",
      "n1 = 1000               #No of houses\n",
      "CL1 = 1.5               #Avg connected load in each house(kW)\n",
      "DF1 = 0.4                #Demand factor\n",
      "DvF = 2.5               #Diversity factor\n",
      "\n",
      "n2 = 10                  #no. of factories\n",
      "M2 = 90                 #factory overall max demand(kW)\n",
      "\n",
      "n3 = 7                  #no of tubewells\n",
      "C3 = 7                  #capacity of tubewells(kW)\n",
      "\n",
      "DF = 1.2                #Diversity factor among above types of consumers\n",
      "\n",
      "#Calculations:\n",
      "Ms = ((DF1*n1*CL1)/DvF)+M2+n3*C3      #Sum of maximum demand on the station(kW)\n",
      "M = Ms/DF                             #maximum demand on the station(kW)\n",
      "\n",
      "#Results:\n",
      "print \"Minimum capacity on the power station is\",round(M),\"kW\""
     ],
     "language": "python",
     "metadata": {},
     "outputs": [
      {
       "output_type": "stream",
       "stream": "stdout",
       "text": [
        "Minimum capacity on the power station is 316.0 kW\n"
       ]
      }
     ],
     "prompt_number": 9
    },
    {
     "cell_type": "heading",
     "level": 3,
     "metadata": {},
     "source": [
      "Example 3.10, Page Number: 53"
     ]
    },
    {
     "cell_type": "code",
     "collapsed": false,
     "input": [
      "from __future__ import division\n",
      "%matplotlib inline\n",
      "\n",
      "\n",
      "#Calculations:\n",
      "M = 70.0                      #Max demand, from load curve(MW)\n",
      "E = 40*6+50*4+60*2+50*4+70*4+40*4        #Units generated per day(MWh)\n",
      "L = E/24                     #Avg load(MW)\n",
      "LF = L/M                     #Load factor\n",
      "\n",
      "n1 = linspace(0,6,10);\n",
      "M1 = linspace(40,40,10);\n",
      "plot(n1,M1);\n",
      "hold(True);\n",
      "\n",
      "n2 = linspace(6,10,10);\n",
      "M2 = linspace(50,50,10);\n",
      "plot(n2,M2,'b');\n",
      "\n",
      "n3 = linspace(10,12,10);\n",
      "M3 = linspace(60,60,10);\n",
      "plot(n3,M3,'b');\n",
      "\n",
      "n4 = linspace(12,16,10);\n",
      "M4 = linspace(50,50,10);\n",
      "plot(n4,M4,'b');\n",
      "\n",
      "n5 = linspace(16,20,10);\n",
      "M5 = linspace(70,70,10);\n",
      "plot(n5,M5,'b');\n",
      "\n",
      "n6 = linspace(20,24,10);\n",
      "M6 = linspace(40,40,10);\n",
      "plot(n6,M6,'b');\n",
      "\n",
      "ylim(0,100);\n",
      "xlim(0,24);\n",
      "grid(1,linewidth=0.5);\n",
      "ylabel(\"Load in MW  ------>\");\n",
      "xlabel(\"Time in hours   ----->\");\n",
      "title(\"Daily Load Curve\")\n",
      "\n",
      "#Results:\n",
      "print \"Maximum demand is \",M,\"MW\"\n",
      "print \"Units generated per day is (\",E/100,\"* 10^5)  kWh\"\n",
      "print \"Average load is\",L*1000,\"kW\"\n",
      "print \"Load factor is \",round(LF*100,1),\"%\"\n",
      "print \"The Daily load curve is shown below:\""
     ],
     "language": "python",
     "metadata": {},
     "outputs": [
      {
       "output_type": "stream",
       "stream": "stdout",
       "text": [
        "Populating the interactive namespace from numpy and matplotlib\n",
        "Maximum demand is "
       ]
      },
      {
       "output_type": "stream",
       "stream": "stdout",
       "text": [
        " 70.0 MW\n",
        "Units generated per day is ( 12.0 * 10^5)  kWh\n",
        "Average load is 50000.0 kW\n",
        "Load factor is  71.4 %\n",
        "The Daily load curve is shown below:\n"
       ]
      },
      {
       "metadata": {},
       "output_type": "display_data",
       "png": "[encoded data removed]",
       "text": [
        "<matplotlib.figure.Figure at 0x4a7dfb0>"
       ]
      }
     ],
     "prompt_number": 31
    },
    {
     "cell_type": "heading",
     "level": 3,
     "metadata": {},
     "source": [
      "Example 3.11, Page Number: 54"
     ]
    },
    {
     "cell_type": "code",
     "collapsed": false,
     "input": [
      "from __future__ import division\n",
      "%matplotlib inline\n",
      "\n",
      "#Calculation:\n",
      "M = 350.0                             #Maximum demand(kW)\n",
      "DF = (200+100+50+100)/M        #Diversity factor\n",
      "E = 100*6+(100+50)*2+(200+100+50)*2+(200+100)*8+100*6    #kWh/day\n",
      "LF = E/(24*M)                           #load factor\n",
      "\n",
      "n1 = linspace(0,6,10);\n",
      "M1 = linspace(100,100,10);\n",
      "plot(n1,M1);\n",
      "\n",
      "\n",
      "hold(True);\n",
      "\n",
      "n2 = linspace(6,8,10);\n",
      "M2 = linspace(150,150,10);\n",
      "plot(n2,M2,'b');\n",
      "\n",
      "n3 = linspace(8,10,10);\n",
      "M3 = linspace(350,350,10);\n",
      "plot(n3,M3,'b');\n",
      "\n",
      "n4 = linspace(10,18,10);\n",
      "M4 = linspace(300,300,10);\n",
      "plot(n4,M4,'b');\n",
      "\n",
      "n5 = linspace(18,24,10);\n",
      "M5 = linspace(100,100,10);\n",
      "plot(n5,M5,'b');\n",
      "\n",
      "ylim(0,400);\n",
      "xlim(0,24);\n",
      "grid(linewidth=0.5);\n",
      "ylabel(\"Load in kW  ------>\");\n",
      "xlabel(\"Time in hours   ----->\");\n",
      "title(\"Daily Load Curve\")\n",
      "\n",
      "#Results:\n",
      "print \"Diversity factor is \",round(DF,3)\n",
      "print \"Unis generated per day is \",E,\"kWh\"\n",
      "print \"Load factor is \",round(LF*100,1),\"%\"\n",
      "print \"The daily load curve is shown below:\""
     ],
     "language": "python",
     "metadata": {},
     "outputs": [
      {
       "output_type": "stream",
       "stream": "stdout",
       "text": [
        "Populating the interactive namespace from numpy and matplotlib\n",
        "Diversity factor is "
       ]
      },
      {
       "output_type": "stream",
       "stream": "stdout",
       "text": [
        " 1.286\n",
        "Unis generated per day is  4600 kWh\n",
        "Load factor is  54.8 %\n",
        "The daily load curve is shown below:\n"
       ]
      },
      {
       "metadata": {},
       "output_type": "display_data",
       "png": "[encoded data removed]",
       "text": [
        "<matplotlib.figure.Figure at 0x49b18b0>"
       ]
      }
     ],
     "prompt_number": 30
    },
    {
     "cell_type": "heading",
     "level": 3,
     "metadata": {},
     "source": [
      "Example 3.12, Page Number: 54"
     ]
    },
    {
     "cell_type": "code",
     "collapsed": false,
     "input": [
      "from __future__ import division\n",
      "%matplotlib inline\n",
      "\n",
      "\n",
      "#Calculation:\n",
      "M1 = 800                     #max demand of consumer 1(Watts)\n",
      "M2 = 1000                    #max demand of consumer 2(Watts)\n",
      "M3 = 1200                    #max demand of consumer 3(Watts)\n",
      "\n",
      "n1 = linspace(0,8,10);\n",
      "m1 = linspace(200,200,10);\n",
      "plot(n1,m1);\n",
      "\n",
      "hold(True);\n",
      "n2 = linspace(8,14,10);\n",
      "m2 = linspace(800,800,10);\n",
      "plot(n2,m2,'b');\n",
      "\n",
      "n3 = linspace(14,16,10);\n",
      "m3 = linspace(2400,2400,10);\n",
      "plot(n3,m3,'b');\n",
      "\n",
      "n4 = linspace(16,22,10);\n",
      "m4 = linspace(800,800,10);\n",
      "plot(n4,m4,'b');\n",
      "\n",
      "n5 = linspace(22,24,10);\n",
      "m5 = linspace(400,400,10);\n",
      "plot(n5,m5,'b');\n",
      "\n",
      "ylim(0,2500);\n",
      "xlim(0,24);\n",
      "grid(linewidth=0.5);\n",
      "ylabel(\"Load in Watts  ------>\");\n",
      "xlabel(\"Time in hours   ----->\");\n",
      "title(\"Daily Load Curve\");\n",
      "annotate(\"(Midnight)\",xy=(0,0));\n",
      "annotate(\"(Midnight)\",xy=(24,0));\n",
      "annotate(\"(Noon)\",xy=(12,0));\n",
      "\n",
      "#load factors of each consumers:\n",
      "LF1 = (600*6+200*2+800*6)/(24*M1)\n",
      "LF2 = (200*8+1000*2+200*2)/(24*M2)\n",
      "LF3 = (200*6+1200*2+200*2)/(24*M3)\n",
      "#The simultaneous maximum demand on the station is 200 + 1000 + 1200 = 2400 W\n",
      "#and occurs from 2 P.M. to 4 P.M.\n",
      "DF = (M1+M2+M3)/2400.0           #Diversity factor\n",
      "LF = (200*8+800*6+2400*2+800*6+400*2)/(24*2400.0)         #load factor\n",
      "\n",
      "#Results:\n",
      "print \"(i)  The maximum demand of individual consumers are:\"\n",
      "print \"\\tConsumer 1 =\",M1,\"W, Consumer 2 =\",M2,\"W, Consumer 3 =\",M3,\"W\"\n",
      "print \"\\n(ii)Load Factors of individual consumers are:\"\n",
      "print \"\\tConsumer 1 =\",round(LF1*100,1),\"%, Consumer 2 =\",round(LF2*100,1),\"\"\"%,\n",
      "\\tConsumer 3 =\"\"\",round(LF3*100,1),\"%\"\n",
      "print \"\\n(iii)Diversity factor is \",DF\n",
      "print \"\\n(iv) Load factor of the station is\",round(LF*100,1),\"%\"\n",
      "print \"\\n   The load curve is shown below:\""
     ],
     "language": "python",
     "metadata": {},
     "outputs": [
      {
       "output_type": "stream",
       "stream": "stdout",
       "text": [
        "Populating the interactive namespace from numpy and matplotlib\n",
        "(i)  The maximum demand of individual consumers are:"
       ]
      },
      {
       "output_type": "stream",
       "stream": "stdout",
       "text": [
        "\n",
        "\tConsumer 1 = 800 W, Consumer 2 = 1000 W, Consumer 3 = 1200 W\n",
        "\n",
        "(ii)Load Factors of individual consumers are:\n",
        "\tConsumer 1 = 45.8 %, Consumer 2 = 16.7 %,\n",
        "\tConsumer 3 = 13.9 %\n",
        "\n",
        "(iii)Diversity factor is  1.25\n",
        "\n",
        "(iv) Load factor of the station is 29.2 %\n",
        "\n",
        "   The load curve is shown below:\n"
       ]
      },
      {
       "metadata": {},
       "output_type": "display_data",
       "png": "[encoded data removed]",
       "text": [
        "<matplotlib.figure.Figure at 0x49b1ed0>"
       ]
      }
     ],
     "prompt_number": 29
    },
    {
     "cell_type": "heading",
     "level": 3,
     "metadata": {},
     "source": [
      "Example 3.13, Page Number: 55"
     ]
    },
    {
     "cell_type": "code",
     "collapsed": false,
     "input": [
      "from __future__ import division\n",
      "\n",
      "\n",
      "#Variable declaration:\n",
      "A = 12                     #Area of load curve(cm**2)\n",
      "Lo = 1000                  #load under 1cm length(kW)\n",
      "To = 2                     #time under 1cm length(hr)\n",
      "M = 3000                   #maximum demand(kW)\n",
      "\n",
      "#Calculation:\n",
      "L = Lo*To*A/24             #Average load(kW)\n",
      "LF = L/M                   #load factor\n",
      "\n",
      "\n",
      "#Results:\n",
      "print \"Load factor is\",round(LF*100,1),\"%\""
     ],
     "language": "python",
     "metadata": {},
     "outputs": [
      {
       "output_type": "stream",
       "stream": "stdout",
       "text": [
        "Load factor is 33.3 %\n"
       ]
      }
     ],
     "prompt_number": 13
    },
    {
     "cell_type": "heading",
     "level": 3,
     "metadata": {},
     "source": [
      "Example 3.14, Page Number: 56"
     ]
    },
    {
     "cell_type": "code",
     "collapsed": false,
     "input": [
      "from __future__ import division\n",
      "\n",
      "#Variable declaration:\n",
      "C = 75                      #Capacity of each generator(MW)\n",
      "n = 4                       #No. of generators\n",
      "CV = 10000                  #Calorific value of oil used(kcal/kg)\n",
      "H = 2860                    #Avg heat rate(kcal/kWh)\n",
      "\n",
      "\n",
      "#Calculation:\n",
      "E = (260*6+200*8+160*4+100*6)            #Units generated per day(MWh)\n",
      "L = E/24                    #Avg load(MW)\n",
      "LF  =L/260                  #Load factor\n",
      "PCF = L/(n*C)               #Plant capacity\n",
      "TH = H*E*10**3              #heat generated per day(kcal)\n",
      "w = TH/CV                   #daily fuel requirement(kg)\n",
      "\n",
      "print \"Daily load factor is\",round(LF*100,1),\"%\"\n",
      "print \"Plant capacity factor is\",round(PCF*100,1),\"%\"\n",
      "print \"Daily fuel requirement is (\",w/1000,\"* 10^3)  kg\""
     ],
     "language": "python",
     "metadata": {},
     "outputs": [
      {
       "output_type": "stream",
       "stream": "stdout",
       "text": [
        "Daily load factor is 70.5 %\n",
        "Plant capacity factor is 61.1 %\n",
        "Daily fuel requirement is ( 1258.4 * 10^3)  kg\n"
       ]
      }
     ],
     "prompt_number": 14
    },
    {
     "cell_type": "heading",
     "level": 3,
     "metadata": {},
     "source": [
      "Example 3.15, Page Number: 56"
     ]
    },
    {
     "cell_type": "code",
     "collapsed": false,
     "input": [
      "from __future__ import division\n",
      "%matplotlib inline\n",
      "\n",
      "#Calculations:\n",
      "E = 20*2+40*4+60*4+20*4+50*4+20*6    #Units generated per day(MWh)\n",
      "\n",
      "#1st plot\n",
      "subplot(1,3,1)\n",
      "n1 = linspace(0,8,10);\n",
      "m1 = linspace(20,20,10);\n",
      "plot(n1,m1);\n",
      "\n",
      "hold(True);\n",
      "n2 = linspace(8,12,10);\n",
      "m2 = linspace(40,40,10);\n",
      "plot(n2,m2,'b');\n",
      "\n",
      "n3 = linspace(12,16,10);\n",
      "m3 = linspace(60,60,10);\n",
      "plot(n3,m3,'b');\n",
      "\n",
      "n4 = linspace(16,20,10);\n",
      "m4 = linspace(20,20,10);\n",
      "plot(n4,m4,'b');\n",
      "\n",
      "n5 = linspace(20,24,10);\n",
      "m5 = linspace(40,40,10);\n",
      "plot(n5,m5,'b');\n",
      "\n",
      "ylim(0,100);\n",
      "xlim(0,24);\n",
      "grid(linewidth=0.5);\n",
      "ylabel(\"Load in MW  ------>\");\n",
      "xlabel(\"Time in hours   ----->\");\n",
      "title(\"$(i)$ Daily Load Curve\");\n",
      "\n",
      "#next plot\n",
      "subplot(1,3,3)\n",
      "n1 = linspace(0,4,10);\n",
      "m1 = linspace(60,60,10);\n",
      "plot(n1,m1);\n",
      "\n",
      "hold(True);\n",
      "n2 = linspace(4,8,10);\n",
      "m2 = linspace(50,50,10);\n",
      "plot(n2,m2,'b');\n",
      "\n",
      "n3 = linspace(8,12,10);\n",
      "m3 = linspace(40,40,10);\n",
      "plot(n3,m3,'b');\n",
      "\n",
      "n4 = linspace(12,24,10);\n",
      "m4 = linspace(20,20,10);\n",
      "plot(n4,m4,'b');\n",
      "\n",
      "ylim(0,100);\n",
      "xlim(0,24);\n",
      "grid(linewidth=0.5);\n",
      "ylabel(\"Load in MW  ------>\");\n",
      "xlabel(\"Hours duration  ----->\");\n",
      "title(\"$(ii)$ Load Duration Curve\");\n",
      "\n",
      "\n",
      "#Results:\n",
      "print \"Energy generated per day is (\",E,\"* 10^3)  kWh\"\n",
      "print \"\\nThe daily load curve and load duration curves are shown below:\""
     ],
     "language": "python",
     "metadata": {},
     "outputs": [
      {
       "output_type": "stream",
       "stream": "stdout",
       "text": [
        "Populating the interactive namespace from numpy and matplotlib\n",
        "Energy generated per day is ("
       ]
      },
      {
       "output_type": "stream",
       "stream": "stdout",
       "text": [
        " 840 * 10^3)  kWh\n",
        "\n",
        "The daily load curve and load duration curves are shown below:\n"
       ]
      },
      {
       "metadata": {},
       "output_type": "display_data",
       "png": "[encoded data removed]",
       "text": [
        "<matplotlib.figure.Figure at 0x49c3450>"
       ]
      }
     ],
     "prompt_number": 28
    },
    {
     "cell_type": "heading",
     "level": 3,
     "metadata": {},
     "source": [
      "Example 3.16, Page Number: 57"
     ]
    },
    {
     "cell_type": "code",
     "collapsed": false,
     "input": [
      "from __future__ import division\n",
      "\n",
      "#Variable declaration:\n",
      "c1 = 10                  #Capacity of each of 2 generators(MW)\n",
      "c2 = 5                   #Capacity of 3rd generator(MW)\n",
      "\n",
      "#Calculation:\n",
      "C = 2*c1+c2              #Installed capacity(MW)\n",
      "A = (1/2)*(20+4)         #Avg load, seen from the curve(MW)\n",
      "PF = A/C                  #plant factor\n",
      "E = 8760*A               #Units generated per annum(MWh)\n",
      "LF = A/20                #Load factor\n",
      "PUF = 20/C               #Plant capacity factor\n",
      "\n",
      "#Results:\n",
      "print \"(i) Installed capacity is \",C,\"MW\"\n",
      "print \"(ii) Plant factor is \",round(PF*100,1),\"%\"\n",
      "print \"(iii) Units generated per annum is \",(E/1000),\"* 10^3  kWh\"\n",
      "print \"(iv) Load factor is \",round(LF*100,1),\"%\"\n",
      "print \"(V) Utilisation factor is \",round(PUF*100,1),\"%\""
     ],
     "language": "python",
     "metadata": {},
     "outputs": [
      {
       "output_type": "stream",
       "stream": "stdout",
       "text": [
        "(i) Installed capacity is  25 MW\n",
        "(ii) Plant factor is  48.0 %\n",
        "(iii) Units generated per annum is  105.12 * 10^3  kWh\n",
        "(iv) Load factor is  60.0 %\n",
        "(V) Utilisation factor is  80.0 %\n"
       ]
      }
     ],
     "prompt_number": 16
    },
    {
     "cell_type": "heading",
     "level": 3,
     "metadata": {},
     "source": [
      "Example 3.17, Page Number: 57 "
     ]
    },
    {
     "cell_type": "code",
     "collapsed": false,
     "input": [
      "#Variable declaration:\n",
      "n = 0.72                      #efficiency of the load\n",
      "\n",
      "#Calculation:\n",
      "Ma = (10*0.746/0.72)* 0.65 + 5 * 0.60       #kW\n",
      "Mb = (7.5*0.746/0.72)*0.75+4*0.60           #kW\n",
      "Mc = (15*0.746/0.72)*0.65                    #kW\n",
      "Md = (5*0.746/0.72)*0.75+2*0.60              #kW\n",
      "\n",
      "SM = Ma+Mb+Mc+Md                            #Sum of maximum demands(kW)\n",
      "\n",
      "#The diversity factor between consumers of this type of service is 1\u00b75 from above table.\n",
      "M1 = SM/1.5                                  #Maximum demand on transformer 1(kW)\n",
      "\n",
      "#In a similar manner, the other transformer loads are determined to be\n",
      "#                Total       Simultaneous\n",
      "#Transformer 2   26 kW        7\u00b743 kW\n",
      "#Transformer 3   29\u00b713 kW    19\u00b740 kW\n",
      "\n",
      "#The diversity factor between transformers is 1\u00b73\n",
      "M2 = 7.43; M3 = 19.40\n",
      "MF = (M1+M2+M3)/1.3                     #Maximum load on feeder(kW)\n",
      "\n",
      "\n",
      "#Results:\n",
      "print \"The maximum load on the feeder is \",round(MF,2),\"kW\""
     ],
     "language": "python",
     "metadata": {},
     "outputs": [
      {
       "output_type": "stream",
       "stream": "stdout",
       "text": [
        "The maximum load on the feeder is  37.64 kW\n"
       ]
      }
     ],
     "prompt_number": 1
    },
    {
     "cell_type": "heading",
     "level": 3,
     "metadata": {},
     "source": [
      "Example 3.18, Page Number: 61"
     ]
    },
    {
     "cell_type": "code",
     "collapsed": false,
     "input": [
      "from __future__ import division\n",
      "%matplotlib inline\n",
      "\n",
      "\n",
      "#Calculation:\n",
      "E = 10**3*(20*2+40*3+50*5+35*3+70*3+40*2+20*6)       #Units generated per day(kWh)\n",
      "A = E/24                                 #Average load(kW)\n",
      "LF = A/(70*10**3)                        #Load factor\n",
      "\n",
      "n1 = linspace(0,8,10);\n",
      "m1 = linspace(20,20,10);\n",
      "plot(n1,m1);\n",
      "\n",
      "hold(True);\n",
      "n2 = linspace(8,11,10);\n",
      "m2 = linspace(40,40,10);\n",
      "plot(n2,m2,'b');\n",
      "\n",
      "n3 = linspace(11,16,10);\n",
      "m3 = linspace(50,50,10);\n",
      "plot(n3,m3,'b');\n",
      "\n",
      "n4 = linspace(16,19,10);\n",
      "m4 = linspace(35,35,10);\n",
      "plot(n4,m4,'b');\n",
      "\n",
      "n5 = linspace(19,22,10);\n",
      "m5 = linspace(70,70,10);\n",
      "plot(n5,m5,'b');\n",
      "\n",
      "n6 = linspace(22,24,10);\n",
      "m6 = linspace(40,40,10);\n",
      "plot(n6,m6,'b');\n",
      "\n",
      "\n",
      "ylim(0,100);\n",
      "xlim(0,24);\n",
      "grid(linewidth=0.5);\n",
      "ylabel(\"Load in MW  ------>\");\n",
      "xlabel(\"Time in hours   ----->\");\n",
      "title(\"Daily Load Curve\");\n",
      "\n",
      "#Results:\n",
      "print \"Load factor is \",round(LF*100,2),\"%\"\n",
      "print \"\"\"\\nOperational schedule: Referring to the load curve shown\n",
      "below, the operational schedule will be as under :\n",
      " (i)  Set No. 1 will run for 24 hours.\n",
      " (ii) Set No. 2 will run from 8.00 hours to midnight.\n",
      " (iii)Set No. 3 will run from 11.00 hours to 16 hours and \n",
      "      again from 19 hours to 22 hours.\"\"\"\n",
      "print \"\\nThe Load curve is shown below:\""
     ],
     "language": "python",
     "metadata": {},
     "outputs": [
      {
       "output_type": "stream",
       "stream": "stdout",
       "text": [
        "Populating the interactive namespace from numpy and matplotlib\n",
        "Load factor is "
       ]
      },
      {
       "output_type": "stream",
       "stream": "stdout",
       "text": [
        " 55.06 %\n",
        "\n",
        "Operational schedule: Referring to the load curve shown\n",
        "below, the operational schedule will be as under :\n",
        " (i)  Set No. 1 will run for 24 hours.\n",
        " (ii) Set No. 2 will run from 8.00 hours to midnight.\n",
        " (iii)Set No. 3 will run from 11.00 hours to 16 hours and \n",
        "      again from 19 hours to 22 hours.\n",
        "\n",
        "The Load curve is shown below:\n"
       ]
      },
      {
       "output_type": "stream",
       "stream": "stderr",
       "text": [
        "WARNING: pylab import has clobbered these variables: ['tri', 'axes', 'legend', 'stackplot', 'figure', 'rc_context', 'quiver', 'streamplot', 'rc', 'text', 'colors', 'contour', 'axis', 'colorbar', 'test', 'rcdefaults', 'table']\n",
        "`%pylab --no-import-all` prevents importing * from pylab and numpy\n"
       ]
      },
      {
       "metadata": {},
       "output_type": "display_data",
       "png": "[encoded data removed]",
       "text": [
        "<matplotlib.figure.Figure at 0x4c39f30>"
       ]
      }
     ],
     "prompt_number": 27
    },
    {
     "cell_type": "heading",
     "level": 3,
     "metadata": {},
     "source": [
      " Example 3.19, Page Number: 61"
     ]
    },
    {
     "cell_type": "code",
     "collapsed": false,
     "input": [
      "#Variable declaration:\n",
      "#peak loads(MW) are:\n",
      "P1 = 10\n",
      "P2 = 5\n",
      "P3 = 8\n",
      "P4 = 7\n",
      "\n",
      "DF = 1.5                   #Diversity factor\n",
      "LF = 0.60                  #Avg annual load factor\n",
      "\n",
      "#Calculation:\n",
      "M = (P1+P2+P3+P4)/DF        #Max demand on the station(MW)\n",
      "E = (LF*M)*8760             #Annual energy supplied(MWh)\n",
      "#the installed capacity should be 15% to 20% more than the\n",
      "#maximum demand to meet the future needs.\n",
      "#Taking Installed capacity to be 20% more than the maximum demand,\n",
      "IC = 1.2*M                  #MW\n",
      "\n",
      "\n",
      "#Results:\n",
      "print \"(i)  The maximum demand on the station is\",M,\"MW\"\n",
      "print \"(ii) Annual energy supplied by the station is (\",E/1000,\"* 10^6)  kWh\"\n",
      "print \"(iii)Installed capacity is\",IC,\"MW\"\n",
      "print \"     Suitable unit sizes are 4, each of 6 MW capacity.\""
     ],
     "language": "python",
     "metadata": {},
     "outputs": [
      {
       "output_type": "stream",
       "stream": "stdout",
       "text": [
        "(i)  The maximum demand on the station is 20.0 MW\n",
        "(ii) Annual energy supplied by the station is ( 105.12 * 10^6)  kWh\n",
        "(iii)Installed capacity is 24.0 MW\n",
        "     Suitable unit sizes are 4, each of 6 MW capacity.\n"
       ]
      }
     ],
     "prompt_number": 2
    },
    {
     "cell_type": "heading",
     "level": 3,
     "metadata": {},
     "source": [
      "Example 3.20, Page Number: 64"
     ]
    },
    {
     "cell_type": "code",
     "collapsed": false,
     "input": [
      "from __future__ import division\n",
      "\n",
      "#Variable declaration:\n",
      "c1 = 20                   #capacity of standby station(MW)\n",
      "c2 = 18                   #Capacity of base load station(MW)\n",
      "E1 = 7.35*10**6            #Annual standby output(kWh)\n",
      "E2 = 101.35*10**6          #Annual base load station output(kWh)\n",
      "P3 = 12                     #peak load on standby station(MW)\n",
      "t = 2190                  #hours of use by standby station/year\n",
      "\n",
      "\n",
      "#Calculation:\n",
      "LF1 = E1/(t*P3*10**3)          #Annual load factor of standby station\n",
      "PCF1 = E1/(8760*c1*10**3)      #Plant capacity factor of standby station\n",
      "LF2 = E2/(8760*c2*10**3)        #Annual load factor of base load station\n",
      "#for base load station,\n",
      "PCF2 = LF2                      #Plant capacity factor of base load station\n",
      "\n",
      "#Results:\n",
      "print \"Annual load factor of standby station is\",round(LF1*100,1),\"%\"\n",
      "print \"Plant capacity factor of standby station is\",round(PCF1*100,1),\"%\"\n",
      "print \"Annual load factor of base load station is\",round(LF2*100,1),\"%\"\n",
      "print \"Plant capacity factor of base load station is\",round(PCF2*100,1),\"%\""
     ],
     "language": "python",
     "metadata": {},
     "outputs": [
      {
       "output_type": "stream",
       "stream": "stdout",
       "text": [
        "Annual load factor of standby station is 28.0 %\n",
        "Plant capacity factor of standby station is 4.2 %\n",
        "Annual load factor of base load station is 64.3 %\n",
        "Plant capacity factor of base load station is 64.3 %\n"
       ]
      }
     ],
     "prompt_number": 20
    },
    {
     "cell_type": "heading",
     "level": 3,
     "metadata": {},
     "source": [
      "Example 3.21, Page Number: 64"
     ]
    },
    {
     "cell_type": "code",
     "collapsed": false,
     "input": [
      "from sympy import *\n",
      "\n",
      "#Variable declaration:\n",
      "M = 60000                   #maximum load of hydro plant(kW)\n",
      "m = 20000                   #minimum load of hydro pland(kW)\n",
      "P = 50000                    #peak load of plant per day(kW)\n",
      "\n",
      "\n",
      "#Calculation:\n",
      "#Let OE = Capacity of steam plant\n",
      "#EC = Capacity of hydro plant\n",
      "x,y = symbols('x,y')            #two variables as indicated in given curve\n",
      "# As steam electric conversion is 60%,\n",
      "#\u2234 Area HEFI = 0\u00b76 \u00d7 Area FGB                            ... (i)\n",
      "#But Area HEFI = Area CFE \u2212 Area CHI\n",
      "#              = 1/2*(x*y-50000)\n",
      "#  Now Area FGB = 1/2*(FG*GB) = 1/2*(24-x)*(40000-y)\n",
      "#  or 0.2*x*y + 12000*x + 7.2*y \u2212 338000 = 0\n",
      "#Also from similar triangles CEF and CDB, we get,\n",
      "#     y/40000 = x/24\n",
      "y = x/24*40000\n",
      "x1 = round(solve(0.2*x*y + 12000*x + 7.2*y-338000,x)[1])\n",
      "y1 = x1/24*40000\n",
      "\n",
      "\n",
      "\n",
      "#Result:\n",
      "print \"Capacity of the hydro plant is\",y1,\"kW\"\n",
      "print \"Capacity of the steam plant is\",60000-y1,\"kW\""
     ],
     "language": "python",
     "metadata": {},
     "outputs": [
      {
       "output_type": "stream",
       "stream": "stdout",
       "text": [
        "Capacity of the hydro plant is 20000.0 kW\n",
        "Capacity of the steam plant is 40000.0 kW\n"
       ]
      }
     ],
     "prompt_number": 32
    },
    {
     "cell_type": "heading",
     "level": 3,
     "metadata": {},
     "source": [
      "Example 3.22, Page Number: 65"
     ]
    },
    {
     "cell_type": "code",
     "collapsed": false,
     "input": [
      "from __future__ import division\n",
      "from sympy import *\n",
      "\n",
      "#Variable declaration:\n",
      "#Suppose the maximum demand of reservoir plant is y MW and it \n",
      "#operates for x hours\n",
      "x,y = symbols('x y')\n",
      "\n",
      "\n",
      "#Calculation:\n",
      "E = 10**3*(1/2*(320+160)*8760)            #Units generated/annum\n",
      "#As the steam plant, run-of-river plant and hydro plant generate \n",
      "#units in the ratio of 7 : 4 : 1, so, units generated by \n",
      "#each plant are:\n",
      "\n",
      "E1 = E*7/12                    #by steam plant\n",
      "E2 = E*4/12                    #by run-of-river plant\n",
      "E3 = E/1/12                    #by reservoir plant\n",
      "\n",
      "#(i) Maximum demand on run-of-river plant = Area OEBA/OA\n",
      "M2 = 700.8*10**6/8760           #kW\n",
      "\n",
      "#Now,\n",
      "x = 8760*y/160\n",
      "E33 = 10**3*1/2*(x*y)\n",
      "#But the units generated by reservoir plant are E3 kWh\n",
      "y1 = solve(E33-E3,y)[1]\n",
      "M3 = y1                    #maximum demand on reservoir station(MW)\n",
      "M1 = 320-80-M2/1000              #Maximum demand on steam station(MW)\n",
      "LF2 = 100            #load factor of river plant(%), because it acts \n",
      "                        #as a base station.\n",
      "\n",
      "LF1 = E1*100/(M1*1000*8760)         #load factor of of run-of-river plant(%)\n",
      "LF3 = E3*100/(M3*1000*8760)           #load factor of reservoir plant(%)\n",
      "\n",
      "    \n",
      "\n",
      "#Result:\n",
      "print \"(i)Maximum demand on run-of-river plant is\",round(M1),\"MW\"\n",
      "print \"   Maximum demand on steam station is\",round(M2),\"MW\"\n",
      "print \"   Maximum demand on reservoir station is\",round(y1),\"MW\"\n",
      "print \"\\n(ii)Load factor of steam plant plant is\",LF1,\"%\"\n",
      "print \"    Load factor of of run-of-river plant is\",LF2,\"%\"\n",
      "print \"    Load factor of of reservoir plant is\",round(LF3),\"%\""
     ],
     "language": "python",
     "metadata": {},
     "outputs": [
      {
       "output_type": "stream",
       "stream": "stdout",
       "text": [
        "(i)Maximum demand on run-of-river plant is 160.0 MW\n",
        "   Maximum demand on steam station is 80000.0 MW\n",
        "   Maximum demand on reservoir station is 80.0 MW\n",
        "\n",
        "(ii)Load factor of steam plant plant is 87.5 %\n",
        "    Load factor of of run-of-river plant is 100 %\n",
        "    Load factor of of reservoir plant is 25.0 %\n"
       ]
      }
     ],
     "prompt_number": 5
    }
   ],
   "metadata": {}
  }
 ]
}