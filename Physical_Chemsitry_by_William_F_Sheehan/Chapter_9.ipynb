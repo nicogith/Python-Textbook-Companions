{
 "metadata": {
  "name": "",
  "signature": "sha256:39eab768daff11aebdd87a93356bef21d5d2b1bdfeb10c1efcd7ba6d3163e0fd"
 },
 "nbformat": 3,
 "nbformat_minor": 0,
 "worksheets": [
  {
   "cells": [
    {
     "cell_type": "heading",
     "level": 1,
     "metadata": {},
     "source": [
      "Chapter 9 - Statistical Mechanics"
     ]
    },
    {
     "cell_type": "heading",
     "level": 2,
     "metadata": {},
     "source": [
      "Example 2 - pg 525"
     ]
    },
    {
     "cell_type": "code",
     "collapsed": false,
     "input": [
      "#calculate the Absolute Entropy\n",
      "#initialisation of variables\n",
      "import math\n",
      "T= 298.16 #K\n",
      "M= 4.003 #gm\n",
      "S= 2.3151 #cal mol^-1 deg^-1\n",
      "R= 1.987 #cal/molK\n",
      "#CALCULATIONS\n",
      "S1= 2.5*R*math.log(T)+1.5*R*math.log(M)-S\n",
      "#RESULTS\n",
      "print '%s %.3f %s' % (' Absolute Entropy=',S1,'cal mol^-1 deg^-1')\n"
     ],
     "language": "python",
     "metadata": {},
     "outputs": [
      {
       "output_type": "stream",
       "stream": "stdout",
       "text": [
        " Absolute Entropy= 30.122 cal mol^-1 deg^-1\n"
       ]
      }
     ],
     "prompt_number": 1
    },
    {
     "cell_type": "heading",
     "level": 2,
     "metadata": {},
     "source": [
      "Example 3 - pg 528"
     ]
    },
    {
     "cell_type": "code",
     "collapsed": false,
     "input": [
      "#calculate the heat required\n",
      "#initialisation of variables\n",
      "h= 6.624*10**-27#erg/sec\n",
      "N= 6.023*10**23\n",
      "c= 3*10**10 #m/sec\n",
      "w= 2359.6 #cm**-1\n",
      "T= 2000 #K\n",
      "K= 1.380*10**-16\n",
      "R= 1.987 #cal mol**-1 k**-1\n",
      "#CALCULATIONS\n",
      "x= h*c*w/(K*T)\n",
      "y= 2.71**x\n",
      "H= 3.5*R+(N*h*c*w/(T*4.184*10**7*(y-1)))\n",
      "#RESULTS\n",
      "print '%s %.3f %s' % (' Heat=',H,'cal mol**-1 deg**-1')\n"
     ],
     "language": "python",
     "metadata": {},
     "outputs": [
      {
       "output_type": "stream",
       "stream": "stdout",
       "text": [
        " Heat= 7.715 cal mol**-1 deg**-1\n"
       ]
      }
     ],
     "prompt_number": 2
    }
   ],
   "metadata": {}
  }
 ]
}