{
 "metadata": {
  "name": "",
  "signature": "sha256:3529f6dd0800b2bdaab8573a3a6af2c519dc83ab93935a987777c3348bc812ea"
 },
 "nbformat": 3,
 "nbformat_minor": 0,
 "worksheets": [
  {
   "cells": [
    {
     "cell_type": "heading",
     "level": 1,
     "metadata": {},
     "source": [
      "Chapter 7 - Electrochemistry"
     ]
    },
    {
     "cell_type": "heading",
     "level": 2,
     "metadata": {},
     "source": [
      "Example 1 - pg 391"
     ]
    },
    {
     "cell_type": "code",
     "collapsed": false,
     "input": [
      "#calculate the Avagadro number\n",
      "#initialisation of variables\n",
      "e= 1.6016*10**-19 #coloumb\n",
      "F= 96493 #\n",
      "#CALCULATIONS\n",
      "N= F/e\n",
      "#RESULTS\n",
      "print '%s %.4e %s' % (' Avagadro number = ',N,'molecules/mol')\n"
     ],
     "language": "python",
     "metadata": {},
     "outputs": [
      {
       "output_type": "stream",
       "stream": "stdout",
       "text": [
        " Avagadro number =  6.0248e+23 molecules/mol\n"
       ]
      }
     ],
     "prompt_number": 1
    },
    {
     "cell_type": "heading",
     "level": 2,
     "metadata": {},
     "source": [
      "Example 2 - pg 391"
     ]
    },
    {
     "cell_type": "code",
     "collapsed": false,
     "input": [
      "#calculate the Time required\n",
      "#initialisation of variables\n",
      "m= 1 #gms\n",
      "M= 63.54 #gms\n",
      "e= 2 #farady\n",
      "F= 96493\n",
      "n= 3\n",
      "#CALCULATIONS\n",
      "t= (m/M)*(e*F/n)\n",
      "#RESULTS\n",
      "print '%s %d %s' % (' Time =',t,'sec')\n"
     ],
     "language": "python",
     "metadata": {},
     "outputs": [
      {
       "output_type": "stream",
       "stream": "stdout",
       "text": [
        " Time = 1012 sec\n"
       ]
      }
     ],
     "prompt_number": 2
    },
    {
     "cell_type": "heading",
     "level": 2,
     "metadata": {},
     "source": [
      "Example 3 - pg 396"
     ]
    },
    {
     "cell_type": "code",
     "collapsed": false,
     "input": [
      "#calculate the transference number\n",
      "#initialisation of variables\n",
      "M= 25.01 #gms\n",
      "n= 1.0053 #moles\n",
      "n1= 6.6*10**-5 #moles\n",
      "e= 1.350*10**-3 #coloumbs\n",
      "#CALCULATIONS\n",
      "x= M/n\n",
      "y= n1*x\n",
      "nm= y*10**3+e*10**3-(x/10)\n",
      "t= nm/(e*10**3)\n",
      "#CALCULATIONS\n",
      "print '%s %.3f' % (' transference number = ',t)"
     ],
     "language": "python",
     "metadata": {},
     "outputs": [
      {
       "output_type": "stream",
       "stream": "stdout",
       "text": [
        " transference number =  0.373\n"
       ]
      }
     ],
     "prompt_number": 3
    },
    {
     "cell_type": "heading",
     "level": 2,
     "metadata": {},
     "source": [
      "Example 5 - pg 404"
     ]
    },
    {
     "cell_type": "code",
     "collapsed": false,
     "input": [
      "#calculate the electrokinetic potential\n",
      "#initialisation of variables\n",
      "import math\n",
      "x= 0.033 #cm\n",
      "t= 38.2 #sec\n",
      "e= 3.2 #v\n",
      "V= 9*10**-3 #dyne sec cm**-2\n",
      "k= 78\n",
      "#CALCULATIONS\n",
      "v= x/t\n",
      "u= v/e\n",
      "S= -300**2*u*V*4*math.pi/k\n",
      "#RESULTS\n",
      "print '%s %.3f %s' % (' electrokinetic potential =',S,' volt ')\n"
     ],
     "language": "python",
     "metadata": {},
     "outputs": [
      {
       "output_type": "stream",
       "stream": "stdout",
       "text": [
        " electrokinetic potential = -0.035  volt \n"
       ]
      }
     ],
     "prompt_number": 4
    },
    {
     "cell_type": "heading",
     "level": 2,
     "metadata": {},
     "source": [
      "Example 6 - pg 406"
     ]
    },
    {
     "cell_type": "code",
     "collapsed": false,
     "input": [
      "#calculate the specific conductivity\n",
      "#initialisation of variables\n",
      "o= 0.999505 #mho cm^-1\n",
      "k= 0.0128560\n",
      "i= 97.36 #ohms\n",
      "I= 117.18 #ohms\n",
      "#CALCULATIONS\n",
      "Lsp= k*o\n",
      "L1sp= k*i/I\n",
      "#RESULTS\n",
      "print '%s %.6f %s' % (' specific conductivity =',L1sp,'mho cm^-1 ')\n"
     ],
     "language": "python",
     "metadata": {},
     "outputs": [
      {
       "output_type": "stream",
       "stream": "stdout",
       "text": [
        " specific conductivity = 0.010682 mho cm^-1 \n"
       ]
      }
     ],
     "prompt_number": 5
    },
    {
     "cell_type": "heading",
     "level": 2,
     "metadata": {},
     "source": [
      "Example 7 - pg 410"
     ]
    },
    {
     "cell_type": "code",
     "collapsed": false,
     "input": [
      "#calculate the equivalent conductance of the anion at infinite dilution\n",
      "#initialisation of variables\n",
      "A= 388.5\n",
      "l= 349.8\n",
      "a= 0.61\n",
      "m= 0.1 #M\n",
      "#CALCULATIONS\n",
      "L= A-l\n",
      "A1= a*A\n",
      "Lsp= m*A1/1000.\n",
      "#RESULTS\n",
      "print '%s %.2e %s' % (' equivalent conductance of the anion at infinite dilution =',Lsp,' mho cm^-1 ')\n"
     ],
     "language": "python",
     "metadata": {},
     "outputs": [
      {
       "output_type": "stream",
       "stream": "stdout",
       "text": [
        " equivalent conductance of the anion at infinite dilution = 2.37e-02  mho cm^-1 \n"
       ]
      }
     ],
     "prompt_number": 6
    },
    {
     "cell_type": "heading",
     "level": 2,
     "metadata": {},
     "source": [
      "Example 8 - pg 410"
     ]
    },
    {
     "cell_type": "code",
     "collapsed": false,
     "input": [
      "#calculate the effective mobility\n",
      "#initialisation of variables\n",
      "l= 349.82 \n",
      "F= 96493.1 #coloumb\n",
      "#CALCULATIONS\n",
      "u= l/F\n",
      "#RESULTS\n",
      "print '%s %.3e %s' % (' effective mobility =',u,'cm^2 volt sec^-1  ')\n"
     ],
     "language": "python",
     "metadata": {},
     "outputs": [
      {
       "output_type": "stream",
       "stream": "stdout",
       "text": [
        " effective mobility = 3.625e-03 cm^2 volt sec^-1  \n"
       ]
      }
     ],
     "prompt_number": 7
    },
    {
     "cell_type": "heading",
     "level": 2,
     "metadata": {},
     "source": [
      "Example 9 - pg 413"
     ]
    },
    {
     "cell_type": "code",
     "collapsed": false,
     "input": [
      "#calculate the solubility product constant\n",
      "#initialisation of variables\n",
      "G1= -7800 #cal\n",
      "G2= -24600 #cal\n",
      "G3= -39700 #cal\n",
      "R= 1.987 #cal/mol K\n",
      "T= 25 #C\n",
      "#CALCULATIONS\n",
      "G= G1+G2-G3\n",
      "Ksp= 10**(-G/(2.303*R*(273.2+T)))\n",
      "#RESULTS\n",
      "print '%s %.1e' % (' solubility product constant = ',Ksp)\n"
     ],
     "language": "python",
     "metadata": {},
     "outputs": [
      {
       "output_type": "stream",
       "stream": "stdout",
       "text": [
        " solubility product constant =  4.5e-06\n"
       ]
      }
     ],
     "prompt_number": 8
    },
    {
     "cell_type": "heading",
     "level": 2,
     "metadata": {},
     "source": [
      "Example 11 - pg 417"
     ]
    },
    {
     "cell_type": "code",
     "collapsed": false,
     "input": [
      "#calculate the concentration of hydrogen ion\n",
      "#initialisation of variables\n",
      "import math\n",
      "Ka= 6*10**-10\n",
      "C= 10**-1 #moles l^-1\n",
      "#CALCULATIONS\n",
      "C1= math.sqrt(Ka*C)\n",
      "#RESULTS\n",
      "print '%s %.1e %s' % (' concentration of hydrogen ion =',C1,'moles l^-1 ')\n"
     ],
     "language": "python",
     "metadata": {},
     "outputs": [
      {
       "output_type": "stream",
       "stream": "stdout",
       "text": [
        " concentration of hydrogen ion = 7.7e-06 moles l^-1 \n"
       ]
      }
     ],
     "prompt_number": 9
    },
    {
     "cell_type": "heading",
     "level": 2,
     "metadata": {},
     "source": [
      "Example 13 - pg 419"
     ]
    },
    {
     "cell_type": "code",
     "collapsed": false,
     "input": [
      "#calculate the concentration of hydrogen ion\n",
      "#initialisation of variables\n",
      "Ka= 1.8*10**-5 \n",
      "n= 2 #milli moles\n",
      "v= 45 #ml\n",
      "n1= 0.5#milli moles\n",
      "#CALCULATIONS\n",
      "x= Ka*v*n1/n\n",
      "C= x/v\n",
      "#RESULTS\n",
      "print '%s %.1e %s' % (' concentration of hydrogen ion =',C,' moles l^-1 ')\n"
     ],
     "language": "python",
     "metadata": {},
     "outputs": [
      {
       "output_type": "stream",
       "stream": "stdout",
       "text": [
        " concentration of hydrogen ion = 4.5e-06  moles l^-1 \n"
       ]
      }
     ],
     "prompt_number": 10
    },
    {
     "cell_type": "heading",
     "level": 2,
     "metadata": {},
     "source": [
      "Example 14 - pg 421"
     ]
    },
    {
     "cell_type": "code",
     "collapsed": false,
     "input": [
      "#calculate the pH of the solution and activity coefficient\n",
      "#initialisation of variables\n",
      "import math\n",
      "a= 2.4*10**-4\n",
      "Ph= 11.54\n",
      "#CALCULATIONS\n",
      "Ph1= -math.log10(a)\n",
      "a= 10**(-Ph)\n",
      "#RESULTS\n",
      "print '%s %.2f' % (' pH of solution = ',Ph1)\n",
      "print '%s %.1e' % (' \\n activity coefficient = ',a)\n"
     ],
     "language": "python",
     "metadata": {},
     "outputs": [
      {
       "output_type": "stream",
       "stream": "stdout",
       "text": [
        " pH of solution =  3.62\n",
        " \n",
        " activity coefficient =  2.9e-12\n"
       ]
      }
     ],
     "prompt_number": 11
    },
    {
     "cell_type": "heading",
     "level": 2,
     "metadata": {},
     "source": [
      "Example 15 - pg 426"
     ]
    },
    {
     "cell_type": "code",
     "collapsed": false,
     "input": [
      "#calculate the Gibbs free energy\n",
      "#initialisation of variables\n",
      "E= 0.35240 #volts\n",
      "F= 96493.1 #coloumb\n",
      "n= 2 #electrons\n",
      "#CALCULATIONS\n",
      "G= -n*F*E\n",
      "#RESULTS\n",
      "print '%s %d %s' % (' Gibbs free energy =',G,' absolute joules ')\n",
      "print 'The answer is a bit different due to rounding off error in textbook'"
     ],
     "language": "python",
     "metadata": {},
     "outputs": [
      {
       "output_type": "stream",
       "stream": "stdout",
       "text": [
        " Gibbs free energy = -68008  absolute joules \n",
        "The answer is a bit different due to rounding off error in textbook\n"
       ]
      }
     ],
     "prompt_number": 12
    },
    {
     "cell_type": "heading",
     "level": 2,
     "metadata": {},
     "source": [
      "Example 16 - pg 428"
     ]
    },
    {
     "cell_type": "code",
     "collapsed": false,
     "input": [
      "#calculate the Entropy and Enthalpy of the mixture\n",
      "#initialisation of variables\n",
      "E= 0.35240 #volts\n",
      "E1= 0.35321 #volts\n",
      "E2= 0.35140 #volts\n",
      "E3=.35252\n",
      "T= 25. #C\n",
      "T1= 20. #C\n",
      "T2= 30. #C\n",
      "n= 2. #electrons\n",
      "F= 96493.1 #coloumb\n",
      "#CALCULATIONS\n",
      "r= (E-E1)/(T-T1)\n",
      "r1= (E2-E)/(T2-T)\n",
      "R= (r+r1)/2\n",
      "S= n*F*R\n",
      "H= n*F*((273.16+T)*R-E3)\n",
      "#RESULTS\n",
      "print '%s %.1f %s' % (' Entropy =',S,'joules deg^-1')\n",
      "print '%s %.1f %s' % (' \\n Enthalpy =',H,'joules')\n",
      "print 'The answer is a bit different due to rounding off error in textbook'"
     ],
     "language": "python",
     "metadata": {},
     "outputs": [
      {
       "output_type": "stream",
       "stream": "stdout",
       "text": [
        " Entropy = -34.9 joules deg^-1\n",
        " \n",
        " Enthalpy = -78446.4 joules\n",
        "The answer is a bit different due to rounding off error in textbook\n"
       ]
      }
     ],
     "prompt_number": 13
    },
    {
     "cell_type": "heading",
     "level": 2,
     "metadata": {},
     "source": [
      "Example 18 - pg 431"
     ]
    },
    {
     "cell_type": "code",
     "collapsed": false,
     "input": [
      "#calculate the Gibbs free energy\n",
      "#initialisation of variables\n",
      "import math\n",
      "v= 0.11834 #volt\n",
      "F= 96493.1 #coloumb\n",
      "n= 1 #electron\n",
      "R= 8.3144 #J/mol K\n",
      "T= 25 #C\n",
      "m= 0.1\n",
      "m1= 0.9862\n",
      "#CALCULATIONS\n",
      "G= -n*F*v\n",
      "G1= 2*R*(273.16+T)*math.log(m/m1)\n",
      "#RESULTS\n",
      "print '%s %.1f %s' % (' Gibbs free energy =',G,'joules')\n",
      "print '%s %d %s' % (' \\n Gibbs free energy =',G1,'joules')\n"
     ],
     "language": "python",
     "metadata": {},
     "outputs": [
      {
       "output_type": "stream",
       "stream": "stdout",
       "text": [
        " Gibbs free energy = -11419.0 joules\n",
        " \n",
        " Gibbs free energy = -11347 joules\n"
       ]
      }
     ],
     "prompt_number": 14
    },
    {
     "cell_type": "heading",
     "level": 2,
     "metadata": {},
     "source": [
      "Example 19 - pg 432"
     ]
    },
    {
     "cell_type": "code",
     "collapsed": false,
     "input": [
      "#calculate the potential difference\n",
      "#initialisation of variables\n",
      "import math\n",
      "n= 2 #electrons\n",
      "R= 8.314 #bJ/mol K\n",
      "F= 96493 #coloumb\n",
      "T= 25 #C\n",
      "N2= 3.17*10**-6\n",
      "N1= 6.13*10**-3\n",
      "#CALCULATIONS\n",
      "E= -(R*(273.16+T)*2.3026/(n*F))*math.log10(N2/N1)\n",
      "#RESULTS\n",
      "print '%s %.5f %s' % (' potential difference =',E,' volt')\n"
     ],
     "language": "python",
     "metadata": {},
     "outputs": [
      {
       "output_type": "stream",
       "stream": "stdout",
       "text": [
        " potential difference = 0.09720  volt\n"
       ]
      }
     ],
     "prompt_number": 15
    },
    {
     "cell_type": "heading",
     "level": 2,
     "metadata": {},
     "source": [
      "Example 20 - pg 432"
     ]
    },
    {
     "cell_type": "code",
     "collapsed": false,
     "input": [
      "#calculate the Equilibrium constant\n",
      "#initialisation of variables\n",
      "import math\n",
      "E= 0.84 #volts\n",
      "n= 1 #electron\n",
      "F= 96500 #coloumb\n",
      "R= 8.314 #J/mol K\n",
      "T= 25 #C\n",
      "#CALCULATIONS\n",
      "K= math.e**(E*n*F/(R*(273+T)))\n",
      "#RESULTS\n",
      "print '%s %.1e' % (' Equilibrium constant =',K)\n"
     ],
     "language": "python",
     "metadata": {},
     "outputs": [
      {
       "output_type": "stream",
       "stream": "stdout",
       "text": [
        " Equilibrium constant = 1.6e+14\n"
       ]
      }
     ],
     "prompt_number": 16
    },
    {
     "cell_type": "heading",
     "level": 2,
     "metadata": {},
     "source": [
      "Example 21 - pg 432"
     ]
    },
    {
     "cell_type": "code",
     "collapsed": false,
     "input": [
      "#calculate the Equilibrium constant\n",
      "#initialisation of variables\n",
      "import math\n",
      "E= -0.0029 #volts\n",
      "V= 0.1 #volts\n",
      "V1= 0.05 #volts\n",
      "f= 0.05916 #J/mol coloumb\n",
      "T= 25. #C\n",
      "F= 96500 #coloumb\n",
      "R= 8.314 #J/mol K\n",
      "#CALCULATIONS  \n",
      "e= E+f*math.log10(V*V1/V1)\n",
      "K= math.e**(e*F/(R*(273+T)))\n",
      "#RESULTS\n",
      "print '%s %.1e' % (' Equilibrium constant =',K)\n"
     ],
     "language": "python",
     "metadata": {},
     "outputs": [
      {
       "output_type": "stream",
       "stream": "stdout",
       "text": [
        " Equilibrium constant = 8.9e-02\n"
       ]
      }
     ],
     "prompt_number": 17
    },
    {
     "cell_type": "heading",
     "level": 2,
     "metadata": {},
     "source": [
      "Example 22 - pg 438"
     ]
    },
    {
     "cell_type": "code",
     "collapsed": false,
     "input": [
      "#calculate the Standard electrode potential\n",
      "#initialisation of variables\n",
      "import math\n",
      "E= 1.0508 #volts\n",
      "V= 0.3338 #volts\n",
      "a= 0.0796 \n",
      "a1= math.sqrt(0.0490)\n",
      "f= 0.05916 #J/mol coloumb\n",
      "#CALCULATIONS\n",
      "V= E+V+f*math.log10(a/a1)\n",
      "#RESULTS\n",
      "print '%s %.4f %s' % (' Standard electrode potential =',V,'volts')\n"
     ],
     "language": "python",
     "metadata": {},
     "outputs": [
      {
       "output_type": "stream",
       "stream": "stdout",
       "text": [
        " Standard electrode potential = 1.3583 volts\n"
       ]
      }
     ],
     "prompt_number": 18
    },
    {
     "cell_type": "heading",
     "level": 2,
     "metadata": {},
     "source": [
      "Example 23 - pg 438"
     ]
    },
    {
     "cell_type": "code",
     "collapsed": false,
     "input": [
      "#calculate the Standard molar free energy\n",
      "#initialisation of variables\n",
      "V= 1.3595 #volts\n",
      "n= 1 #electron\n",
      "F= 96493 #coloumb\n",
      "#CALCULATIONS\n",
      "G= -n*F*V/4.28\n",
      "#RESULTS\n",
      "print '%s %.1f %s' % (' Standard molar free energy =',G,'cal')\n",
      "print 'The answer is a bit different due to rounding off error in textbook'"
     ],
     "language": "python",
     "metadata": {},
     "outputs": [
      {
       "output_type": "stream",
       "stream": "stdout",
       "text": [
        " Standard molar free energy = -30650.1 cal\n",
        "The answer is a bit different due to rounding off error in textbook\n"
       ]
      }
     ],
     "prompt_number": 19
    },
    {
     "cell_type": "heading",
     "level": 2,
     "metadata": {},
     "source": [
      "Example 24 - pg 439"
     ]
    },
    {
     "cell_type": "code",
     "collapsed": false,
     "input": [
      "#calculate the ion product\n",
      "#Initialization of variables\n",
      "import math\n",
      "I=0.0050\n",
      "E0=.22619\n",
      "con=.0602\n",
      "E2=1.05080\n",
      "R=8.3144\n",
      "T=298.16 #K\n",
      "#calculations\n",
      "E1=E0-con*math.sqrt(I)\n",
      "E3=-E2+E1\n",
      "Kw=10**(E3*96493/2.3026/R/T)\n",
      "#results\n",
      "print '%s %.3e' %(\"Ion product = \",Kw)\n",
      "print 'The answer is a bit different due to rounding off error in textbook'"
     ],
     "language": "python",
     "metadata": {},
     "outputs": [
      {
       "output_type": "stream",
       "stream": "stdout",
       "text": [
        "Ion product =  9.741e-15\n",
        "The answer is a bit different due to rounding off error in textbook\n"
       ]
      }
     ],
     "prompt_number": 20
    },
    {
     "cell_type": "heading",
     "level": 2,
     "metadata": {},
     "source": [
      "Example 25 - pg 440"
     ]
    },
    {
     "cell_type": "code",
     "collapsed": false,
     "input": [
      "#calculate the Solubility constant\n",
      "#initialisation of variables\n",
      "V= -0.658 #volt\n",
      "V1= -0.3363 #volt\n",
      "n= 1 #electron\n",
      "F= 96438 #coloumb\n",
      "R= 8.314 #j/mol K\n",
      "T= 25 #C\n",
      "#CLACULATIONS\n",
      "V2= V-V1\n",
      "Ksp= 10**(V2*n*F/(2.303*R*(273.2+T)))\n",
      "#RESULTS\n",
      "print '%s %.1e %s' % (' Solubility constant =',Ksp,' volt')\n"
     ],
     "language": "python",
     "metadata": {},
     "outputs": [
      {
       "output_type": "stream",
       "stream": "stdout",
       "text": [
        " Solubility constant = 3.7e-06  volt\n"
       ]
      }
     ],
     "prompt_number": 21
    },
    {
     "cell_type": "heading",
     "level": 2,
     "metadata": {},
     "source": [
      "Example 26 - pg 440"
     ]
    },
    {
     "cell_type": "code",
     "collapsed": false,
     "input": [
      "#calculate the cell potential\n",
      "#initialisation of variables\n",
      "import math\n",
      "e= 0\n",
      "e1= -0.37\n",
      "k= -0.05916 #j/mol\n",
      "a= 0.02\n",
      "a1= 0.01\n",
      "a3=.2\n",
      "p= 730. #mm of Hg\n",
      "#CALCULATIONS\n",
      "E= (e-e1)+k*math.log10(a*math.sqrt(p/760.) /a1/a3)\n",
      "#RESULTS\n",
      "print '%s %.2f %s' % (' cell potential =',E,'volt') \n"
     ],
     "language": "python",
     "metadata": {},
     "outputs": [
      {
       "output_type": "stream",
       "stream": "stdout",
       "text": [
        " cell potential = 0.31 volt\n"
       ]
      }
     ],
     "prompt_number": 22
    },
    {
     "cell_type": "heading",
     "level": 2,
     "metadata": {},
     "source": [
      "Example 27 - pg 440"
     ]
    },
    {
     "cell_type": "code",
     "collapsed": false,
     "input": [
      "#calculate the cell potential\n",
      "#initialisation of variables\n",
      "V= -0.440 #volt\n",
      "V1= 0.771 #volt\n",
      "F= 96500 #coloumb\n",
      "n=2 #electrons\n",
      "n1= 1 #electrons\n",
      "n2= 3 #electrons\n",
      "#CALCULATIONS\n",
      "G= -n*F*V\n",
      "G1= -n1*F*V1\n",
      "G2= G+G1\n",
      "V= G2/(n2*F)\n",
      "#RESULTS\n",
      "print '%s %.4f %s' % (' cell potential =',-V,'volt') \n"
     ],
     "language": "python",
     "metadata": {},
     "outputs": [
      {
       "output_type": "stream",
       "stream": "stdout",
       "text": [
        " cell potential = -0.0363 volt\n"
       ]
      }
     ],
     "prompt_number": 23
    },
    {
     "cell_type": "heading",
     "level": 2,
     "metadata": {},
     "source": [
      "Example 28 - pg 444"
     ]
    },
    {
     "cell_type": "code",
     "collapsed": false,
     "input": [
      "#calculate the cell potential\n",
      "#initialisation of variables\n",
      "import math\n",
      "p1=386.6 #atm\n",
      "p2=1 #atm\n",
      "f= 2\n",
      "k= -0.05916 #j/mol\n",
      "#CALCULATIONS\n",
      "E= (k/f)*math.log10(p1/p2)\n",
      "#RESULTS\n",
      "print '%s %.4f %s' % (' cell potential =',E,'volt')\n"
     ],
     "language": "python",
     "metadata": {},
     "outputs": [
      {
       "output_type": "stream",
       "stream": "stdout",
       "text": [
        " cell potential = -0.0765 volt\n"
       ]
      }
     ],
     "prompt_number": 24
    },
    {
     "cell_type": "heading",
     "level": 2,
     "metadata": {},
     "source": [
      "Example 29 - pg 445"
     ]
    },
    {
     "cell_type": "code",
     "collapsed": false,
     "input": [
      "#calculate the cell potential\n",
      "#initialisation of variables\n",
      "import math\n",
      "c= 10**-7\n",
      "c1= 1\n",
      "f= 1\n",
      "k= -0.05915 #j/mol\n",
      "#CALCULATIONS\n",
      "E= (k/f)*math.log10(c/c1)\n",
      "#RESULTS\n",
      "print '%s %.5f %s' % (' cell potential =',E,' volt')\n"
     ],
     "language": "python",
     "metadata": {},
     "outputs": [
      {
       "output_type": "stream",
       "stream": "stdout",
       "text": [
        " cell potential = 0.41405  volt\n"
       ]
      }
     ],
     "prompt_number": 25
    },
    {
     "cell_type": "heading",
     "level": 2,
     "metadata": {},
     "source": [
      "Example 30 - pg 448"
     ]
    },
    {
     "cell_type": "code",
     "collapsed": false,
     "input": [
      "#calculate the junction potential\n",
      "#initialisation of variables\n",
      "import math\n",
      "c= 391.\n",
      "c1= 129.\n",
      "f= 1.\n",
      "k= -0.05915 #j/mol\n",
      "#CALCULATIONS\n",
      "E= (k/f)*math.log10(c1/c)\n",
      "#RESULS\n",
      "print '%s %.4f %s' % (' junction potential =',E,'volt')\n"
     ],
     "language": "python",
     "metadata": {},
     "outputs": [
      {
       "output_type": "stream",
       "stream": "stdout",
       "text": [
        " junction potential = 0.0285 volt\n"
       ]
      }
     ],
     "prompt_number": 26
    }
   ],
   "metadata": {}
  }
 ]
}