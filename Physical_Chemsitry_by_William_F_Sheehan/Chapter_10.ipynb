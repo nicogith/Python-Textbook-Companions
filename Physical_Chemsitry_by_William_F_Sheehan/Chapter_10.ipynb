{
 "metadata": {
  "name": "",
  "signature": "sha256:a8663b753e53365cf46aa7f5948fd23b365bccc405a9c5b9305fa79e49b0f6dc"
 },
 "nbformat": 3,
 "nbformat_minor": 0,
 "worksheets": [
  {
   "cells": [
    {
     "cell_type": "heading",
     "level": 1,
     "metadata": {},
     "source": [
      "Chapter 10 - Chemical Kinetics"
     ]
    },
    {
     "cell_type": "heading",
     "level": 2,
     "metadata": {},
     "source": [
      "Example 1 - pg 543"
     ]
    },
    {
     "cell_type": "code",
     "collapsed": false,
     "input": [
      "#calculate the Pressure \n",
      "#initialisation of variables\n",
      "t= 3 #sec\n",
      "P0= 200 #mm\n",
      "k= 17.3 #mm/sec\n",
      "P1= 104 #mm\n",
      "#CALCULATIONS\n",
      "P= P0-k*t\n",
      "P2= P+P1\n",
      "#RESULTS\n",
      "print '%s %d %s' % (' Pressure=',P2,' mm of Hg')\n"
     ],
     "language": "python",
     "metadata": {},
     "outputs": [
      {
       "output_type": "stream",
       "stream": "stdout",
       "text": [
        " Pressure= 252  mm of Hg\n"
       ]
      }
     ],
     "prompt_number": 1
    },
    {
     "cell_type": "heading",
     "level": 2,
     "metadata": {},
     "source": [
      "Example 2 - pg 545"
     ]
    },
    {
     "cell_type": "code",
     "collapsed": false,
     "input": [
      "#calculate the Half time\n",
      "#initialisation of variables\n",
      "k= 2.63*10**-3 #min^-1\n",
      "#CALCULATIONS\n",
      "t1= 0.693/k\n",
      "#RESULTS\n",
      "print '%s %.1f %s' % (' Half time=',t1,'min')\n"
     ],
     "language": "python",
     "metadata": {},
     "outputs": [
      {
       "output_type": "stream",
       "stream": "stdout",
       "text": [
        " Half time= 263.5 min\n"
       ]
      }
     ],
     "prompt_number": 2
    },
    {
     "cell_type": "heading",
     "level": 2,
     "metadata": {},
     "source": [
      "Example 3 - pg 546"
     ]
    },
    {
     "cell_type": "code",
     "collapsed": false,
     "input": [
      "#calculate the Partial Pressure of the reactant\n",
      "#initialisation of variables\n",
      "P= 200. #mm\n",
      "t= 30. #min\n",
      "k= 2.5*10**-4 #sec^-1\n",
      "#CALCULATIONS\n",
      "P0= P/(10**(k*t*60/2.303))\n",
      "P1= P-P0\n",
      "#RESULTS\n",
      "print '%s %d %s' % (' Partial Pressure of reactant=',P1,'mm of Hg')\n"
     ],
     "language": "python",
     "metadata": {},
     "outputs": [
      {
       "output_type": "stream",
       "stream": "stdout",
       "text": [
        " Partial Pressure of reactant= 72 mm of Hg\n"
       ]
      }
     ],
     "prompt_number": 4
    },
    {
     "cell_type": "heading",
     "level": 2,
     "metadata": {},
     "source": [
      "Example 4 - pg 548"
     ]
    },
    {
     "cell_type": "code",
     "collapsed": false,
     "input": [
      "#calculate the no of atoms\n",
      "#initialisation of variables\n",
      "t= 5600*365*24*60.\n",
      "x= 5 #atoms\n",
      "#CALCULATIONS\n",
      "k= 0.693/t\n",
      "N= x/k\n",
      "#RESULTS\n",
      "print '%s %.2e %s' % (' No of atoms=',N, 'atoms')\n"
     ],
     "language": "python",
     "metadata": {},
     "outputs": [
      {
       "output_type": "stream",
       "stream": "stdout",
       "text": [
        " No of atoms= 2.12e+10 atoms\n"
       ]
      }
     ],
     "prompt_number": 6
    },
    {
     "cell_type": "heading",
     "level": 2,
     "metadata": {},
     "source": [
      "Example 5 - pg 548"
     ]
    },
    {
     "cell_type": "code",
     "collapsed": false,
     "input": [
      "#calculate the time passed\n",
      "#initialisation of variables\n",
      "import math\n",
      "t= 5600 #sec\n",
      "r= 0.256\n",
      "#CALCULATIONS\n",
      "t1= (t/0.693)*2.303*math.log10(1/r)\n",
      "#RESULTS\n",
      "print '%s %d %s' % (' Time=',t1,'years ago')\n",
      "print 'The answer is a bit different due to rounding off error in textbook'"
     ],
     "language": "python",
     "metadata": {},
     "outputs": [
      {
       "output_type": "stream",
       "stream": "stdout",
       "text": [
        " Time= 11012 years ago\n",
        "The answer is a bit different due to rounding off error in textbook\n"
       ]
      }
     ],
     "prompt_number": 7
    },
    {
     "cell_type": "heading",
     "level": 2,
     "metadata": {},
     "source": [
      "Example 6 - pg 549"
     ]
    },
    {
     "cell_type": "code",
     "collapsed": false,
     "input": [
      "#calculate the first order rate constant and half life\n",
      "#initialisation of variables\n",
      "import math\n",
      "t= 25.1 #hr\n",
      "C= 0.004366 \n",
      "C1= 0.002192\n",
      "C2= 0.006649\n",
      "#CALCULATIONS\n",
      "r= (C-C1)/(C2-C1)\n",
      "k= 2.303*math.log10(1/r)/t\n",
      "t1= 0.693/k\n",
      "#RESULTS\n",
      "print '%s %.1f %s' %(' Time=',t1,' hr')\n",
      "print '%s %.2e %s' %(' Time=',k,' hr')\n"
     ],
     "language": "python",
     "metadata": {},
     "outputs": [
      {
       "output_type": "stream",
       "stream": "stdout",
       "text": [
        " Time= 24.2  hr\n",
        " Time= 2.86e-02  hr\n"
       ]
      }
     ],
     "prompt_number": 8
    },
    {
     "cell_type": "heading",
     "level": 2,
     "metadata": {},
     "source": [
      "Example 7 - pg 552"
     ]
    },
    {
     "cell_type": "code",
     "collapsed": false,
     "input": [
      "#calculate the Rate constant\n",
      "#initialisation of variables\n",
      "s= 18.6*10**4 #mm of hg\n",
      "#CALCULATIONS\n",
      "k= 1./s\n",
      "#RESULTS\n",
      "print '%s %.2e %s' % (' Rate constant=',k,' (mm Hg)^-1 sec^-1')\n"
     ],
     "language": "python",
     "metadata": {},
     "outputs": [
      {
       "output_type": "stream",
       "stream": "stdout",
       "text": [
        " Rate constant= 5.38e-06  (mm Hg)^-1 sec^-1\n"
       ]
      }
     ],
     "prompt_number": 9
    },
    {
     "cell_type": "heading",
     "level": 2,
     "metadata": {},
     "source": [
      "Example 8 - pg 552"
     ]
    },
    {
     "cell_type": "code",
     "collapsed": false,
     "input": [
      "#calculate the requried Pressure\n",
      "#initialisation of variables\n",
      "k= 1.14*10**-4 #sec^-1\n",
      "k1= 5.38*10**-6 #sec^-1\n",
      "#CALCULATIONS\n",
      "P= k/k1\n",
      "P2=0.01*P\n",
      "#RESULTS\n",
      "print '%s %.3f %s' % (' Pressure=',P2,'mm of Hg')\n"
     ],
     "language": "python",
     "metadata": {},
     "outputs": [
      {
       "output_type": "stream",
       "stream": "stdout",
       "text": [
        " Pressure= 0.212 mm of Hg\n"
       ]
      }
     ],
     "prompt_number": 10
    },
    {
     "cell_type": "heading",
     "level": 2,
     "metadata": {},
     "source": [
      "Example 9 - pg 555"
     ]
    },
    {
     "cell_type": "code",
     "collapsed": false,
     "input": [
      "#calculate the no of molecules\n",
      "#initialisation of variables\n",
      "T= 600 #K\n",
      "P= 1 #atm\n",
      "R= 0.082 #atm lit/mol K\n",
      "#CALCULATIONS\n",
      "C= P/(R*T)\n",
      "r= C**2*4*10**-6 \n",
      "r1= 6*10**23*r\n",
      "#RESULTS\n",
      "print '%s %.1e %s' % (' No of molecules=',r1,'molecules l^-1 sec^-1')\n"
     ],
     "language": "python",
     "metadata": {},
     "outputs": [
      {
       "output_type": "stream",
       "stream": "stdout",
       "text": [
        " No of molecules= 9.9e+14 molecules l^-1 sec^-1\n"
       ]
      }
     ],
     "prompt_number": 11
    },
    {
     "cell_type": "heading",
     "level": 2,
     "metadata": {},
     "source": [
      "Example 10 - pg 555"
     ]
    },
    {
     "cell_type": "code",
     "collapsed": false,
     "input": [
      "#calculate the time required\n",
      "#initialisation of variables\n",
      "k= 6.3*10**2 #ml mole^-1 sec^-1\n",
      "P= 400. #mm\n",
      "T= 600. #K\n",
      "R= 82.06\n",
      "#CALCULATIONS\n",
      "C= (P/760.)/(R*T)\n",
      "t= 1/(9.*C*k)\n",
      "#RESULTS\n",
      "print '%s %.1f %s' % (' time=',t,' sec')\n"
     ],
     "language": "python",
     "metadata": {},
     "outputs": [
      {
       "output_type": "stream",
       "stream": "stdout",
       "text": [
        " time= 16.5  sec\n"
       ]
      }
     ],
     "prompt_number": 12
    },
    {
     "cell_type": "heading",
     "level": 2,
     "metadata": {},
     "source": [
      "Example 11 - pg 556"
     ]
    },
    {
     "cell_type": "code",
     "collapsed": false,
     "input": [
      "#calculate the pressure of No2 in both cases\n",
      "#initialisation of variables\n",
      "pf2= 2.00 #mm Hg\n",
      "y= 0.96 #mm Hg\n",
      "Pn= 5 #mm Hg\n",
      "#CALCULATIONS\n",
      "pF2= pf2-y\n",
      "pNO2= Pn-2*y\n",
      "pNO2F= 2*y\n",
      "#RESULTS\n",
      "print '%s %.2f %s' % (' pressure of NO2=',pNO2,'mm of Hg')\n",
      "print '%s %.2f %s' % (' \\n pressure of NO2 after 30 sec=',pNO2F,'mm of Hg')\n"
     ],
     "language": "python",
     "metadata": {},
     "outputs": [
      {
       "output_type": "stream",
       "stream": "stdout",
       "text": [
        " pressure of NO2= 3.08 mm of Hg\n",
        " \n",
        " pressure of NO2 after 30 sec= 1.92 mm of Hg\n"
       ]
      }
     ],
     "prompt_number": 13
    },
    {
     "cell_type": "heading",
     "level": 2,
     "metadata": {},
     "source": [
      "Example 13 - pg 561"
     ]
    },
    {
     "cell_type": "code",
     "collapsed": false,
     "input": [
      "#calculate the Rate constant\n",
      "#initialisation of variables\n",
      "k= 4*10**-6 #mol^-1 sec^-1\n",
      "Kc= 73\n",
      "#CALCULATIONS\n",
      "K1= k*Kc/2\n",
      "#RESULTS\n",
      "print '%s %.2e %s' % (' Rate constant=',K1,'l mol^-1 sec^-1')\n"
     ],
     "language": "python",
     "metadata": {},
     "outputs": [
      {
       "output_type": "stream",
       "stream": "stdout",
       "text": [
        " Rate constant= 1.46e-04 l mol^-1 sec^-1\n"
       ]
      }
     ],
     "prompt_number": 14
    },
    {
     "cell_type": "heading",
     "level": 2,
     "metadata": {},
     "source": [
      "Example 14 - pg 568"
     ]
    },
    {
     "cell_type": "code",
     "collapsed": false,
     "input": [
      "#calculate the activation energy\n",
      "#initialisation of variables\n",
      "import math\n",
      "R= 1.987 #atm lit/mol K\n",
      "T= 573.2 #K\n",
      "T1= 594.6 #K\n",
      "k= 3.95*10**-6 #mol^-1 sec^-1\n",
      "k1= 1.07*10**-6 #mol^-1 sec^-1\n",
      "#CALCULATIONS\n",
      "H= R*T*T1*2.303*math.log10((k/k1))/(T1-T)\n",
      "#RESULTS\n",
      "print '%s %d %s' %(' activation energy=',H,'calmol^-1')\n",
      "print 'The answers in the texbook are a bit different due to rounding off error'"
     ],
     "language": "python",
     "metadata": {},
     "outputs": [
      {
       "output_type": "stream",
       "stream": "stdout",
       "text": [
        " activation energy= 41338 calmol^-1\n",
        "The answers in the texbook are a bit different due to rounding off error\n"
       ]
      }
     ],
     "prompt_number": 15
    },
    {
     "cell_type": "heading",
     "level": 2,
     "metadata": {},
     "source": [
      "Example 15 - pg 568"
     ]
    },
    {
     "cell_type": "code",
     "collapsed": false,
     "input": [
      "#calculate the time required\n",
      "#initialisation of variables\n",
      "import math\n",
      "H= 41300. #cal\n",
      "T= 673. #K\n",
      "T1= 595. #K\n",
      "R= 1.987 #cal/mol K\n",
      "K= 3.95*10**-6\n",
      "P= 1 #atm\n",
      "R1= 0.08205 #j/mol K\n",
      "#CALCULATIONS\n",
      "k2= math.e**(H*(T-T1)/(R*T*T1))*K\n",
      "C= P/(R1*T)\n",
      "t= 44.8/C\n",
      "t2=R1*T*10**-2 /k2\n",
      "#RESULTS\n",
      "print '%s %d %s' %(' time =',t,'sec')\n",
      "print '%s %d %s' %('Time required in case 2 = ',t2,'sec')\n",
      "print 'The answers in the texbook are a bit different due to rounding off error'"
     ],
     "language": "python",
     "metadata": {},
     "outputs": [
      {
       "output_type": "stream",
       "stream": "stdout",
       "text": [
        " time = 2473 sec\n",
        "Time required in case 2 =  2438 sec\n",
        "The answers in the texbook are a bit different due to rounding off error\n"
       ]
      }
     ],
     "prompt_number": 16
    },
    {
     "cell_type": "heading",
     "level": 2,
     "metadata": {},
     "source": [
      "Example 16 - pg 569"
     ]
    },
    {
     "cell_type": "code",
     "collapsed": false,
     "input": [
      "#calculate the collision diameter\n",
      "#initialisation of variables\n",
      "import math\n",
      "H= 41300.\n",
      "R= 1.987 #atm lit/mol K\n",
      "T= 595. #K\n",
      "M= 128. #gm\n",
      "R1= 8.314*10**7 #atm lit/mol K\n",
      "N= 6.02*10**23 #moleccules\n",
      "k= 3.95*10**-6 #sec**-1\n",
      "#CALCULATIONS\n",
      "s= math.sqrt((k*10**3/(4*N))*(128/(math.pi*R1*T))**0.5*math.e**(H/(R*T)))\n",
      "#RESULTS\n",
      "print '%s %.3e %s' % (' collision diameter=',s,' cm')\n"
     ],
     "language": "python",
     "metadata": {},
     "outputs": [
      {
       "output_type": "stream",
       "stream": "stdout",
       "text": [
        " collision diameter= 8.356e-09  cm\n"
       ]
      }
     ],
     "prompt_number": 17
    },
    {
     "cell_type": "heading",
     "level": 2,
     "metadata": {},
     "source": [
      "Example 18 - pg 577"
     ]
    },
    {
     "cell_type": "code",
     "collapsed": false,
     "input": [
      "#calculate the Concentration of A and B\n",
      "#initialisation of variables\n",
      "import math\n",
      "import numpy\n",
      "from numpy import linalg\n",
      "p= 20.3 #percent\n",
      "p1= 1.77 #percent\n",
      "I= 100.\n",
      "n= 2.\n",
      "l= 300. #l mol^-1 cm^-1\n",
      "l1= 30. #l mol^-1 cm^-1\n",
      "l2= 10. #l mol^-1 cm^-1\n",
      "l3= 200. #l mol^-1 cm^-1\n",
      "#CALCULATIONS\n",
      "A= ([[n*l, n*l1],[n*l2, n*l3]])\n",
      "b= ([[math.log10(I/p1)],[math.log10(I/p)]])\n",
      "c= numpy.dot(numpy.linalg.inv(A),b)\n",
      "R1=c[0]\n",
      "R2=c[1]\n",
      "#RESULTS\n",
      "print '%s %.2e %s' % (' Concentration of A =',R1,' mole l^-1')\n",
      "print '%s %.2e %s' % (' \\n Concentration of B =',R2,' mole l^-1')\n"
     ],
     "language": "python",
     "metadata": {},
     "outputs": [
      {
       "output_type": "stream",
       "stream": "stdout",
       "text": [
        " Concentration of A = 2.76e-03  mole l^-1\n",
        " \n",
        " Concentration of B = 1.59e-03  mole l^-1\n"
       ]
      }
     ],
     "prompt_number": 18
    }
   ],
   "metadata": {}
  }
 ]
}