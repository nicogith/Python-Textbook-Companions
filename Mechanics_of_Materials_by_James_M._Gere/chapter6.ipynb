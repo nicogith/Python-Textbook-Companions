{
 "metadata": {
  "name": "",
  "signature": "sha256:6b805af6437b1e35c2a86410c53cf433b859c30c76e14feb211f91f3f6b4d2d7"
 },
 "nbformat": 3,
 "nbformat_minor": 0,
 "worksheets": [
  {
   "cells": [
    {
     "cell_type": "heading",
     "level": 1,
     "metadata": {},
     "source": [
      "Chapter 6: Stresses in Beams Advanced Topics"
     ]
    },
    {
     "cell_type": "heading",
     "level": 2,
     "metadata": {},
     "source": [
      "Example 6.1, page no. 400"
     ]
    },
    {
     "cell_type": "code",
     "collapsed": false,
     "input": [
      "\n",
      "import math \n",
      "\n",
      "\n",
      "M = 60.0                          # Moment in k-in\n",
      "E1 = 1500.                       # in Ksi\n",
      "E2 = 30000.0                      # in Ksi\n",
      "h1 = 5.031                      # Distance between top surface and neutral axis of the beam in inch by solving 1500*(h1-3)*24 + 30000*(h1-6.25)*2 = 0\n",
      "\n",
      "#calculation\n",
      "h2 = 6.5 - h1 \n",
      "I1 = (1.0/12.0)*(4*6**3) + (4*6)*(h1-3)**2              # Momeny of inertia of the wooden cross section\n",
      "I2 = (1.0/12.0)*(4*0.5**3) + (4*0.5)*(h2-0.25)**2       # Momeny of inertia of the steel cross section\n",
      "I = I1 + I2                                             # Moment of inertia of whole cross section\n",
      "\n",
      "# Material 1\n",
      "s1a = -(M*h1*E1)/((E1*I1)+(E2*I2))                      # Maximum compressive stress in ksi where y = h1\n",
      "s1c = -(M*(-(h2-0.5))*E1)/((E1*I1)+(E2*I2))             # Maximum tensile stress in ksi where y = -(h2-0.5)\n",
      "print \"Maximum compressive stress in wood is\", round(s1a,3)*1000, \"psi\"\n",
      "print \"Maximum tensile stress in wood is\", round(s1c,3)*1000, \"psi\"\n",
      "\n",
      "# Material 2\n",
      "s2a = -(M*(-h2)*E2)/((E1*I1)+(E2*I2))                   # Maximum tensile stress in ksi where y = -h2\n",
      "s2c = -(M*(-(h2-0.5))*E2)/((E1*I1)+(E2*I2))             # Minimum tensile stress in ksi where y = -(h2-0.5)\n",
      "print \"Maximum tensile stress in steel is\", round(s2a,3)*1000, \"psi\"\n",
      "print \"Minimum tensile stress in steel is\", round(s2c,3)*1000, \"psi\""
     ],
     "language": "python",
     "metadata": {},
     "outputs": [
      {
       "output_type": "stream",
       "stream": "stdout",
       "text": [
        "Maximum compressive stress in wood is -1305.0 psi\n",
        "Maximum tensile stress in wood is 251.0 psi\n",
        "Maximum tensile stress in steel is 7622.0 psi\n",
        "Minimum tensile stress in steel is 5028.0 psi\n"
       ]
      }
     ],
     "prompt_number": 3
    },
    {
     "cell_type": "heading",
     "level": 2,
     "metadata": {},
     "source": [
      "Example 6.2, page no. 402"
     ]
    },
    {
     "cell_type": "code",
     "collapsed": false,
     "input": [
      "\n",
      "\n",
      "import math \n",
      "\n",
      "#initialisation\n",
      "\n",
      "M = 3000                        # moment in N-m\n",
      "t = 0.005                       # thickness of alluminiun in m\n",
      "E1 = 72e09                      # Modulus of elasticity of alluminium in Pa\n",
      "E2 = 800e06                     # Modulus of elasticity of Plastic core in Pa\n",
      "b = 0.2                         # Width of cross section in m\n",
      "h = 0.160                       # Height of cross section in m\n",
      "hc = 0.150                      # Height of Plastic core cross section in m\n",
      "\n",
      "#calculation\n",
      "I1 = (b/12.0)*(h**3 - hc**3)    # Moment of inertia of alluminium cross section\n",
      "I2 = (b/12.0)*(hc**3)           # Moment of inertia of Plastic core cross section\n",
      "f = (E1*I1) + (E2*I2)           # Flexural rigidity of the cross section\n",
      "s1_max = (M*(h/2.0)*E1)/f \n",
      "s1c = -s1_max                   # Maximum compressive stress in alluminium core in Pa\n",
      "s1t = s1_max                    # Maximum tensile stress in alluminium core in Pa\n",
      "print \"Maximum compressive stress on alluminium face by the general theory for composite beams is\", s1c, \"Pa\"\n",
      "print \"Maximum tensile stress on alluminium face by the general theory for composite beams is\", s1t, \"Pa\"\n",
      "s2_max = (M*(hc/2.0)*E2)/f \n",
      "s2c = -s2_max                   # Maximum compressive stress in Plastic core in Pa\n",
      "s2t = s2_max                    # Maximum tensile stress in Plastic core in Pa\n",
      "print \"Maximum compressive stress in plastic core by the general theory for composite beams is\", s2c, \"Pa\"\n",
      "print \"Maximum tensile stress in plastic core by the general theory for composite beams is\", s2t, \"Pa\"\n",
      "\n",
      "# Part (b) : Calculation from approximate theory of sandwitch\n",
      "s1_max1 = (M*h)/(2*I1) \n",
      "s1c1 = -s1_max1                 # Maximum compressive stress in alluminium core in Pa\n",
      "s1t1 = s1_max1                  # Maximum tensile stress in alluminium core in Pa\n",
      "print \"Maximum compressive stress on alluminium core by approximate theory of sandwitch is\", s1c1, \"Pa\"\n",
      "print \"Maximum tensile stress on alluminium core by approximate theory of sandwitch is\", s1t1, \"Pa\""
     ],
     "language": "python",
     "metadata": {},
     "outputs": [
      {
       "output_type": "stream",
       "stream": "stdout",
       "text": [
        "Maximum compressive stress on alluminium face by the general theory for composite beams is -18984838.497 Pa\n",
        "Maximum tensile stress on alluminium face by the general theory for composite beams is 18984838.497 Pa\n",
        "Maximum compressive stress in plastic core by the general theory for composite beams is -197758.734344 Pa\n",
        "Maximum tensile stress in plastic core by the general theory for composite beams is 197758.734344 Pa\n",
        "Maximum compressive stress on alluminium core by approximate theory of sandwitch is -19972260.749 Pa\n",
        "Maximum tensile stress on alluminium core by approximate theory of sandwitch is 19972260.749 Pa\n"
       ]
      }
     ],
     "prompt_number": 5
    },
    {
     "cell_type": "heading",
     "level": 2,
     "metadata": {},
     "source": [
      "Example 6.3, page no. 407"
     ]
    },
    {
     "cell_type": "code",
     "collapsed": false,
     "input": [
      "\n",
      "\n",
      "import math \n",
      "\n",
      "M = 60.0                      # Moment in k-in\n",
      "E1 = 1500.0                   # in Ksi\n",
      "E2 = 30000.0                  # in Ksi\n",
      "b = 4.0                       # width of crosssection in inch\n",
      "\n",
      "#calculation\n",
      "# Transformed Section\n",
      "n = E2/E1                   # Modular ratio\n",
      "b1 = n*4                    # Increased width of transformed cross section\n",
      "\n",
      "# Neutral axis\n",
      "h1 = ((3*4*6)+(80*0.5*6.25))/((4*6)+(80*0.5)) # Dismath.tance between top surface and neutral axis of the beam in inch\n",
      "h2 = 6.5 - h1  # in inch\n",
      "\n",
      "# Moment of inertia\n",
      "It = (1.0/12.0)*(4*6**3) + (4*6)*(h1-3)**2 + (1.0/12.0)*(80*0.5**3) + (80*0.5)*(h2-0.25)**2  # Moment of inertia of transformed cross section\n",
      "\n",
      "# Material 1\n",
      "s1a = -(M*h1)/It  # Maximum tensile stress in ksi where y = h1\n",
      "s1c = -(M*(-(h2-0.5)))/It  # Maximum compressive stress in ksi where y = -(h2-0.5)\n",
      "print \"Maximum tensile stress in wood is\", s1a*1000, \"psi\"\n",
      "print \"Maximum compressive stress in wood is\", s1c*1000, \"psi\"\n",
      "\n",
      "# Material 2\n",
      "s2a = -(M*(-h2)*n)/It  # Maximum tensile stress in ksi where y = -h2\n",
      "s2c = -(M*(-(h2-0.5)*n))/It  # Minimum tensile stress in ksi where y = -(h2-0.5)\n",
      "print \"Maximum tensile stress in steel\", s2a*1000, \"psi\"\n",
      "print \"Minimum tensile stress in steel\", s2c*1000, \"psi\""
     ],
     "language": "python",
     "metadata": {},
     "outputs": [
      {
       "output_type": "stream",
       "stream": "stdout",
       "text": [
        "Maximum tensile stress in wood is -1305.28781191 psi\n",
        "Maximum compressive stress in wood is 251.328709125 psi\n",
        "Maximum tensile stress in steel 7620.9350509 psi\n",
        "Minimum tensile stress in steel 5026.57418251 psi\n"
       ]
      }
     ],
     "prompt_number": 3
    },
    {
     "cell_type": "heading",
     "level": 2,
     "metadata": {},
     "source": [
      "Example 6.4,page no. 412"
     ]
    },
    {
     "cell_type": "code",
     "collapsed": false,
     "input": [
      "\n",
      "import math\n",
      "import numpy\n",
      "\n",
      "#initialisation\n",
      "\n",
      "q = 3000.0                    # Uniform load intensity in N/m\n",
      "a = 26.57                   # tilt of the beam in degree\n",
      "b = 0.1                     # width of the beam\n",
      "h = 0.15                    # height of the beam\n",
      "L = 1.6                     # Span of the beam\n",
      "\n",
      "#calculation\n",
      "qy = q*math.cos(math.radians(a))  # Component of q in y direction\n",
      "qz = q*math.sin(math.radians(a))  # Component of q in z direction\n",
      "My = (qz*L**2.0)/8.0                      # Maximum bending moment in y direction\n",
      "Mz = (qy*L**2.0)/8.0                      # Maximum bending moment in z direction\n",
      "Iy = (h*b**3.0)/12.0                      # Moment of inertia along y\n",
      "Iz = (b*h**3.0)/12.0                      # Moment of inertia alon z\n",
      "s = ((3*q*L**2)/(4*b*h))*((math.sin(math.radians(a))/b)+(math.cos(math.radians(a))/h))\n",
      "sc = -s  # Maximum compressive stress\n",
      "st = s # Maximum tensile stress\n",
      "print \"Maximum compressive stress in the beam is\", sc, \"Pa\"\n",
      "print \"Maximum tensile stress in the beam is\", st, \"Pa\"\n",
      "\n",
      "# Neutral axis\n",
      "l = (h/b)**2\n",
      "t = math.sin(math.radians(a)/math.cos(math.radians(a)))\n",
      "j = l*(math.sin(math.radians(a)/math.cos(math.radians(a))))\n",
      "be = math.degrees((numpy.arctan((j))))  # Inclination of Neutral axis to z axis\n",
      "print \"Inclination of Neutral axis to z axis is\", round(be,2), \"degree\""
     ],
     "language": "python",
     "metadata": {},
     "outputs": [
      {
       "output_type": "stream",
       "stream": "stdout",
       "text": [
        "Maximum compressive stress in the beam is -4007231.57248 Pa\n",
        "Maximum tensile stress in the beam is 4007231.57248 Pa\n",
        "Inclination of Neutral axis to z axis is 48.11 degree\n"
       ]
      }
     ],
     "prompt_number": 3
    },
    {
     "cell_type": "heading",
     "level": 2,
     "metadata": {},
     "source": [
      "Example 6.5, page no. 414"
     ]
    },
    {
     "cell_type": "code",
     "collapsed": false,
     "input": [
      "\n",
      "\n",
      "import math\n",
      "import numpy \n",
      "\n",
      "#initialisation\n",
      "L = 12.0                          # Length of the beam in ft\n",
      "P = 10.0                          # Load in k acting in vertical direction\n",
      "\n",
      "#Part (a)\n",
      "h = 24.0                          # Height of beam in inch\n",
      "Iz = 2100                         # Moment of inertia along z axis in in4\n",
      "Iy = 42.2                         # Moment of inertia along y axis in in4\n",
      "\n",
      "#calculation\n",
      "s_max = (P*(h/2.0)*L*12)/Iz       # Maximum stress in Ksi\n",
      "print \"Maximum tensile stress in the beam at the top of the beam\", round(s_max*1000), \"psi\"\n",
      "print \"Maximum compressive stress in the beam at the bottom of the beam\", round(-s_max*1000), \"psi\"\n",
      "\n",
      "#Part (b)\n",
      "a = 1                                     # Angle between y axis and the load\n",
      "My = -(P*math.sin(math.radians(a)))*L*12  # Moment along y-axis in K-in\n",
      "Mz = -(P*math.cos(math.radians(a)))*L*12  # Moment along z-axis in K-in\n",
      "ba = math.radians(numpy.arctan(((My*Iz)/(Mz*Iy)))) # Orientation of neutral axis\n",
      "z = -3.5\n",
      "y = 12.0                                  # Coordinates of the point A and B where maximum stress occur\n",
      "s = ((My*z)/Iy)-((Mz*y)/Iz)               # Stress in Ksi\n",
      "sa = s                                    # Tensile stress at A\n",
      "sb = -s                                   # Compressive stress in B\n",
      "print \"The tensile stress at A is\", round(sa*1000), \"psi\"\n",
      "print \"The compressive stress at B is\", round(sb*1000), \"psi\""
     ],
     "language": "python",
     "metadata": {},
     "outputs": [
      {
       "output_type": "stream",
       "stream": "stdout",
       "text": [
        "Maximum tensile stress in the beam at the top of the beam 8229.0 psi\n",
        "Maximum compressive stress in the beam at the bottom of the beam -8229.0 psi\n",
        "The tensile stress at A is 10312.0 psi\n",
        "The compressive stress at B is -10312.0 psi\n"
       ]
      }
     ],
     "prompt_number": 5
    },
    {
     "cell_type": "heading",
     "level": 2,
     "metadata": {},
     "source": [
      "Example 6.6, page no. 420"
     ]
    },
    {
     "cell_type": "code",
     "collapsed": false,
     "input": [
      "\n",
      "\n",
      "import math \n",
      "import numpy\n",
      "\n",
      "#initialisation\n",
      "M = 15                              # Bending moment in k-in\n",
      "t = 10                              # Angle between line of action of moment and z-axis\n",
      "\n",
      "# Properties of cross section\n",
      "c = 0.634                            # Location of centroid on the axis of symmetry\n",
      "Iy = 2.28                            # Moment of inertia in y-direction in in4\n",
      "Iz = 67.4                            # Moment of inertia in z-direction in in4\n",
      "ya = 5\n",
      "za = -2.6+0.634              # Coordinates of point A\n",
      "yb = -5\n",
      "zb = 0.634                  # Coordinates of point B\n",
      "My = M*math.sin(math.radians(t))     # Moment along y-axis\n",
      "Mz = M*math.cos(math.radians(t))     # Moment along z-axis\n",
      "sa = ((My*za)/Iy)-((Mz*ya)/Iz)       # Bending stress at point A in ksi\n",
      "sb = ((My*zb)/Iy)-((Mz*yb)/Iz)       # Bending stress at point B in ksi\n",
      "print \"The bending stress at point A is\", round(sa*1000), \"psi\"\n",
      "print \"The bending stress at point B is\", round(sb*1000), \"psi\"\n",
      "\n",
      "# Neutral axis\n",
      "j = (Iz/Iy)*(math.sin(math.radians(t)/math.cos(math.radians(t))))\n",
      "be = numpy.degrees(numpy.arctan((j)))        # Inclination of neutral axis to z-axis in degree\n",
      "print \"Inclination of neutral axis to z-axis is\", round(be,1), \"degree\""
     ],
     "language": "python",
     "metadata": {},
     "outputs": [
      {
       "output_type": "stream",
       "stream": "stdout",
       "text": [
        "The bending stress at point A is -3342.0 psi\n",
        "The bending stress at point B is 1820.0 psi\n",
        "Inclination of neutral axis to z-axis is 79.1 degree\n"
       ]
      }
     ],
     "prompt_number": 16
    },
    {
     "cell_type": "heading",
     "level": 2,
     "metadata": {},
     "source": [
      "Example 6.9, page no. 448"
     ]
    },
    {
     "cell_type": "code",
     "collapsed": false,
     "input": [
      "\n",
      "\n",
      "import math \n",
      "\n",
      "#initialization\n",
      "b = 5                   # in inch\n",
      "b1 = 4                  # in inch\n",
      "h = 9                   # in inch\n",
      "h1 = 7.5                # in inch\n",
      "sy = 33                 # stress along y axis in ksi\n",
      "\n",
      "#Calculations\n",
      "M = (sy/12.0)*((3*b*h**2)-(b+(2*b1))*(h1**2))  # Bending moment acting in k-in\n",
      "\n",
      "#Result\n",
      "print \"the magnitude of the moment M is\", round(M), \"k-in\""
     ],
     "language": "python",
     "metadata": {},
     "outputs": [
      {
       "output_type": "stream",
       "stream": "stdout",
       "text": [
        "the magnitude of the moment M is 1330.0 k-in\n"
       ]
      }
     ],
     "prompt_number": 7
    }
   ],
   "metadata": {}
  }
 ]
}