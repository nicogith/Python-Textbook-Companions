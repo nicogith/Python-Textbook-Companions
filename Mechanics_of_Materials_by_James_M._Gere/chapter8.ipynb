{
 "metadata": {
  "name": "",
  "signature": "sha256:0d2067363679e9ceade333ea9bc4385c2fb9b29e28a336c6f2561c38a5e262ab"
 },
 "nbformat": 3,
 "nbformat_minor": 0,
 "worksheets": [
  {
   "cells": [
    {
     "cell_type": "heading",
     "level": 1,
     "metadata": {},
     "source": [
      "Chapter 8: Applications of Plane Stress Pressure Vessels Beams and Combined Loadings"
     ]
    },
    {
     "cell_type": "heading",
     "level": 2,
     "metadata": {},
     "source": [
      "Example 8.1, page no. 546"
     ]
    },
    {
     "cell_type": "code",
     "collapsed": false,
     "input": [
      "\n",
      "\n",
      "import math \n",
      "\n",
      "#initialisation\n",
      "d = 18                                  # inner idameter of the hemisphere in inch\n",
      "t = 1.0/4.0                                 # thickness of the hemisphere in inch\n",
      "\n",
      "\n",
      "#calculation\n",
      "# Part (a)\n",
      "sa = 14000                                # Allowable tensile stress in Psi\n",
      "Pa = (2*t*sa)/(d/2.0)                     # Maximum permissible air pressure in Psi\n",
      "print \"Maximum permissible air pressure in the tank (Part(a)) is\", round(Pa,1), \"psi\"\n",
      "\n",
      "# Part (b)\n",
      "sb = 6000                                  # Allowable shear stress in Psi\n",
      "Pb = (4*t*sb)/(d/2.0)                      # Maximum permissible air pressure in Psi\n",
      "print \"Maximum permissible air pressure in the tank (Part(b)) is\", round(Pb,1), \"psi\"\n",
      "\n",
      "# Part (c)\n",
      "e = 0.0003                                # Allowable Strain in Outer sufrface of the hemisphere\n",
      "E = 29e06                                 # Modulus of epasticity of the steel in Psi\n",
      "v = 0.28                                  # Poissions's ratio of the steel\n",
      "Pc = (2*t*E*e)/((d/2.0)*(1-v))            # Maximum permissible air pressure in Psi\n",
      "print \"Maximum permissible air pressure in the tank (Part(c)) is\", round(Pc,1), \"psi\"\n",
      "\n",
      "# Part (d)\n",
      "Tf = 8100                                 # failure tensile load in lb/in \n",
      "n = 2.5                                   # Required factor of safetty against failure of the weld\n",
      "Ta = Tf / n                               # Allowable load in ld/in \n",
      "sd = (Ta*(1))/(t*(1))                     # Allowable tensile stress in Psi\n",
      "Pd = (2*t*sd)/(d/2.0)                       # Maximum permissible air pressure in Psi\n",
      "print \"Maximum permissible air pressure in the tank (Part(d)) is\", round(Pd,1), \"psi\"\n",
      "\n",
      "# Part (e)\n",
      "Pallow = Pb  \n",
      "print \"Maximum permissible air pressure in the tank (Part(e)) is\", round(Pb,1) ,\"psi\""
     ],
     "language": "python",
     "metadata": {},
     "outputs": [
      {
       "output_type": "stream",
       "stream": "stdout",
       "text": [
        "Maximum permissible air pressure in the tank (Part(a)) is 777.8 psi\n",
        "Maximum permissible air pressure in the tank (Part(b)) is 666.7 psi\n",
        "Maximum permissible air pressure in the tank (Part(c)) is 671.3 psi\n",
        "Maximum permissible air pressure in the tank (Part(d)) is 720.0 psi\n",
        "Maximum permissible air pressure in the tank (Part(e)) is 666.7 psi\n"
       ]
      }
     ],
     "prompt_number": 2
    },
    {
     "cell_type": "heading",
     "level": 2,
     "metadata": {},
     "source": [
      "Example 8.2, page no. 552"
     ]
    },
    {
     "cell_type": "code",
     "collapsed": false,
     "input": [
      "\n",
      "\n",
      "import math \n",
      "\n",
      "#initialisation\n",
      "a = 55                              # Angle made by helix with longitudinal axis in degree\n",
      "r = 1.8                             # Inner radius of vessel in m\n",
      "t = 0.02                            # thickness of vessel in m\n",
      "E = 200e09                          # Modulus of ealsticity of steel in Pa\n",
      "v = 0.3                             # Poission's ratio of steel \n",
      "P = 800e03                          # Pressure inside the tank in Pa\n",
      "\n",
      "\n",
      "#calculation\n",
      "# Part (a)\n",
      "s1 = (P*r)/t                        # Circumferential stress in Pa\n",
      "s2 = (P*r)/(2*t)                    # Longitudinal stress in Pa\n",
      "\n",
      "print \"Circumferential stress is \", s1, \"Pa\"\n",
      "print \"Longitudinal stress is \", s2, \"Pa\"\n",
      "\n",
      "# Part (b)\n",
      "t_max_z = (s1-s2)/2.0               # Maximum inplane shear stress in Pa\n",
      "t_max = s1/2.0                      # Maximum out of plane shear stress in Pa\n",
      "\n",
      "print \"Maximum inplane shear stress is \", t_max_z, \"Pa\"\n",
      "print \"Maximum inplane shear stress is \", t_max, \"Pa\"\n",
      "\n",
      "# Part (c)\n",
      "e1 = (s1/(2*E))*(2-v)               # Strain in circumferential direction \n",
      "e2 = (s2/E)*(1-(2*v))               # Strain in longitudinal direction\n",
      "\n",
      "print \"Strain in circumferential direction is %e\"%(e1)\n",
      "print \"Strain in longitudinal direction is \", e2\n",
      "\n",
      "# Part (d)\n",
      "# x1 is the direction along the helix\n",
      "theta = 90 - a  \n",
      "sx1 = ((P*r)/(4*t))*(3-math.cos(math.radians(2*theta))) # Stress along x1 direction\n",
      "tx1y1 = ((P*r)/(4*t))*(math.sin(math.radians(2*theta))) # Shear stress in x1y1 plane\n",
      "sy1 = s1+s2-sx1  # Stress along y1 direction\n",
      "\n",
      "print \"Stress along y1 direction is \", sy1\n",
      "\n",
      "# Mohr Circle Method\n",
      "savg = (s1+s2)/2.0                    # Average stress in Pa\n",
      "R = (s1 - s2 )/2.0                    # Radius of Mohr's Circle in Pa\n",
      "sx1_ = savg - R*math.cos(math.radians(2*theta))             # Stress along x1 direction\n",
      "tx1y1_ = R*math.sin(math.radians(2*theta))                  # Shear stress in x1y1 plane\n",
      "print \"Stress along x1 direction is \", sx1_, \"Pa\"\n"
     ],
     "language": "python",
     "metadata": {},
     "outputs": [
      {
       "output_type": "stream",
       "stream": "stdout",
       "text": [
        "Circumferential stress is  72000000.0 Pa\n",
        "Longitudinal stress is  36000000.0 Pa\n",
        "Maximum inplane shear stress is  18000000.0 Pa\n",
        "Maximum inplane shear stress is  36000000.0 Pa\n",
        "Strain in circumferential direction is 3.060000e-04\n",
        "Strain in longitudinal direction is  7.2e-05\n",
        "Stress along y1 direction is  60156362.5799\n",
        "Stress along x1 direction is  47843637.4201 Pa\n"
       ]
      }
     ],
     "prompt_number": 13
    },
    {
     "cell_type": "heading",
     "level": 2,
     "metadata": {},
     "source": [
      "Example 8.3, page no. 562"
     ]
    },
    {
     "cell_type": "code",
     "collapsed": false,
     "input": [
      "\n",
      "\n",
      "%matplotlib inline\n",
      "from matplotlib import *\n",
      "from pylab import *\n",
      "import numpy\n",
      "\n",
      "#initialisation\n",
      "L = 6.0                               # Span of the beam in ft\n",
      "P = 10800                             # Pressure acting in lb\n",
      "c = 2.0                               # in ft\n",
      "b = 2.0                               # Width of cross section of the beam in inch\n",
      "h = 6.0                               # Height of the cross section of the beam in inch\n",
      "x = 9.0                               # in inch\n",
      "\n",
      "#calculation\n",
      "Ra = P/3.0                                          # Reaction at point at A\n",
      "V = Ra                                              # Shear force at section mn \n",
      "M = Ra*x                                            # Bending moment at the section mn\n",
      "I = (b*h**3)/12.0                                   # Moment of inertia in in4\n",
      "y = linspace(-3, 3, 61)\n",
      "sx = -(M/I)*y                                       # Normal stress on  crossection  mn\n",
      "Q = (b*(h/2-y))*(y+((((h/2.0)-y)/2.0)))               # First moment of recmath.tangular cross section\n",
      "txy = (V*Q)/(I*b)                                   # Shear stress acting on x face of the stress element\n",
      "s1 = (sx/2.0)+numpy.sqrt((sx/2.0)**2+(txy)**2)       # Principal Tesile stress on the cross section\n",
      "s2 = (sx/2.0)-numpy.sqrt((sx/2.0)**2+(txy)**2)       # Principal Compressive stress on the cross section\n",
      "tmax = numpy.sqrt((sx/2)**2+(txy)**2)                # Maximum shear stress on the cross section\n",
      "plot(sx,y,'o',color='c')\n",
      "plot(txy,y,'+',color='m')\n",
      "plot(s1,y,'--',color='y')\n",
      "plot(s2,y,'<',color='k')\n",
      "plot(tmax,y,label=\"Maximum shear stress on cross section\")\n",
      "legend()\n",
      "show()\n",
      "#print \"Principal Tesile stress on the cross section\", s1, \"psi\"\n",
      "#print \"Principal Compressive stress on the cross section\", s2, \"psi\"\n",
      "\n",
      "# Conclusions \n",
      "s1_max = 14400.0                            # Maximum tensile stress in Psi\n",
      "txy_max = 900.0                             # Maximum shear stress in Psi\n",
      "t_max = 14400.0/2.0                         # Largest shear stress at 45 degree plane"
     ],
     "language": "python",
     "metadata": {},
     "outputs": [
      {
       "output_type": "stream",
       "stream": "stdout",
       "text": [
        "Populating the interactive namespace from numpy and matplotlib\n"
       ]
      },
      {
       "metadata": {},
       "output_type": "display_data",
       "png": "[encoded data removed]",
       "text": [
        "<matplotlib.figure.Figure at 0x263ff90>"
       ]
      }
     ],
     "prompt_number": 1
    },
    {
     "cell_type": "heading",
     "level": 2,
     "metadata": {},
     "source": [
      "Example 8.4, page no. 570"
     ]
    },
    {
     "cell_type": "code",
     "collapsed": false,
     "input": [
      "\n",
      "import math \n",
      "\n",
      "#initialisation\n",
      "d = 0.05                                # Diameter of shaft in m\n",
      "T = 2400                                # Torque transmitted by the shaft in N-m\n",
      "P = 125000                              # Tensile force\n",
      "\n",
      "#calculation\n",
      "s0 = (4*P)/(math.pi*d**2)               # Tensile stress in\n",
      "t0 = (16*T)/(math.pi*d**3)              # Shear force \n",
      "# Stresses along x and y direction\n",
      "sx = 0 \n",
      "sy = s0 \n",
      "txy = -t0  \n",
      "s1 = (sx+sy)/2.0 + math.sqrt(((sx-sy)/2.0)**2 + (txy)**2)   # Maximum tensile stress \n",
      "s2 = (sx+sy)/2.0 - math.sqrt(((sx-sy)/2.0)**2 + (txy)**2)   # Maximum compressive stress \n",
      "tmax =  math.sqrt(((sx-sy)/2)**2 + (txy)**2)            # Maximum in plane shear stress \n",
      "print \"Maximum tensile stress %e\" %s1, \"Pa\"\n",
      "print \"Maximum compressive stress %e\" %s2, \"Pa\"\n",
      "print \"Maximum in plane shear stress %e \" %tmax, \"Pa\""
     ],
     "language": "python",
     "metadata": {},
     "outputs": [
      {
       "output_type": "stream",
       "stream": "stdout",
       "text": [
        "Maximum tensile stress 1.346662e+08 Pa\n",
        "Maximum compressive stress -7.100421e+07 Pa\n",
        "Maximum in plane shear stress 1.028352e+08  Pa\n"
       ]
      }
     ],
     "prompt_number": 5
    },
    {
     "cell_type": "heading",
     "level": 2,
     "metadata": {},
     "source": [
      "Example 8.5, page no. 573"
     ]
    },
    {
     "cell_type": "code",
     "collapsed": false,
     "input": [
      "\n",
      "\n",
      "import math \n",
      "\n",
      "\n",
      "#initialisation\n",
      "P = 12                              # Axial load in K\n",
      "r = 2.1                             # Inner radius of the cylinder in inch\n",
      "t = 0.15                            # Thickness of the cylinder in inch\n",
      "ta = 6500                           # Allowable shear stress in Psi\n",
      "\n",
      "#calculation\n",
      "p1 = (ta - 3032)/3.5                # allowable internal pressure\n",
      "p2 = (ta + 3032)/3.5                # allowable internal pressure\n",
      "p3 = 6500/7.0                       # allowable internal pressure\n",
      "\n",
      "prs_allowable = min(p1,p2,p3)              # Minimum pressure would govern the design\n",
      "print \"Maximum allowable internal pressure \", round(prs_allowable), \"psi\""
     ],
     "language": "python",
     "metadata": {},
     "outputs": [
      {
       "output_type": "stream",
       "stream": "stdout",
       "text": [
        "Maximum allowable internal pressure  929.0 psi\n"
       ]
      }
     ],
     "prompt_number": 3
    },
    {
     "cell_type": "heading",
     "level": 2,
     "metadata": {},
     "source": [
      "Example 8.6, page no. 574"
     ]
    },
    {
     "cell_type": "code",
     "collapsed": false,
     "input": [
      "\n",
      "\n",
      "import math \n",
      "\n",
      "#initialisation\n",
      "d1 = 0.18                                   # Inner diameter of circular pole in m\n",
      "d2 = 0.22                                   # Outer diameter of circular pole in m\n",
      "P = 2000                                    # Pressure of wind in Pa\n",
      "b = 1.5                                     # Distance between centre line of pole and board in m\n",
      "h = 6.6                                     # Distance between centre line of board and bottom of the ploe in m\n",
      "\n",
      "#calculation\n",
      "W = P*(2*1.2)                               # Force at the midpoint of sign \n",
      "V = W                                       # Load\n",
      "T = W*b                                     # Torque acting on the pole\n",
      "M = W*h                                     # Moment at the bottom of the pole\n",
      "I = (math.pi/64.0)*(d2**4-d1**4)            # Momet of inertia of cross section of the pole\n",
      "sa = (M*d2)/(2*I)                           # Tensile stress at A \n",
      "Ip = (math.pi/32.0)*(d2**4-d1**4)           # Polar momet of inertia of cross section of the pole\n",
      "t1 = (T*d2)/(2*Ip)                          # Shear stress at A and B\n",
      "r1 = d1/2.0                                 # Inner radius of circular pole in m\n",
      "r2 = d2/2.0                                 # Outer radius of circular pole in m\n",
      "A = math.pi*(r2**2-r1**2)                   # Area of the cross section\n",
      "t2 = ((4*V)/(3*A))*((r2**2 + r1*r2 +r1**2)/(r2**2+r1**2))  # Shear stress at point B \n",
      "\n",
      "# Principle stresses \n",
      "sxa = 0\n",
      "sya = sa\n",
      "txya = t1\n",
      "sxb = 0\n",
      "syb = 0\n",
      "txyb = t1+t2 \n",
      "\n",
      "# Stresses at A\n",
      "s1a = (sxa+sya)/2.0 + math.sqrt(((sxa-sya)/2)**2 + (txya)**2)                 # Maximum tensile stress \n",
      "s2a = (sxa+sya)/2.0 - math.sqrt(((sxa-sya)/2)**2 + (txya)**2)                 # Maximum compressive stress \n",
      "tmaxa =  math.sqrt(((sxa-sya)/2)**2 + (txya)**2)                            # Maximum in plane shear stress\n",
      "\n",
      "print \"Maximum tensile stress at point A is\", s1a, \"Pa\"\n",
      "print \"Maximum compressive stress at point A is\", s2a, \"Pa\"\n",
      "print \"Maximum in plane shear stress at point A is\", tmaxa, \"Pa\"\n",
      "\n",
      "# Stress at B \n",
      "s1b = (sxb+syb)/2.0 + math.sqrt(((sxb-syb)/2)**2 + (txyb)**2)                 # Maximum tensile stress \n",
      "s2b = (sxb+syb)/2.0 - math.sqrt(((sxb-syb)/2)**2 + (txyb)**2)                 # Maximum compressive stress \n",
      "tmaxb =  math.sqrt(((sxb-syb)/2.0)**2 + (txyb)**2)                            # Maximum in plane shear stress \n",
      "print \"Maximum tensile stress at point B is\", s1b, \"Pa\"\n",
      "print \"Maximum compressive stress at point B is\", s2b, \"Pa\"\n",
      "print \"Maximum in plane shear stress at point B is\", tmaxb, \"Pa\""
     ],
     "language": "python",
     "metadata": {},
     "outputs": [
      {
       "output_type": "stream",
       "stream": "stdout",
       "text": [
        "Maximum tensile stress at point A is 55613361.197 Pa\n",
        "Maximum compressive stress at point A is -700178.455718 Pa\n",
        "Maximum in plane shear stress at point A is 28156769.8263 Pa\n",
        "Maximum tensile stress at point B is 6999035.59641 Pa\n",
        "Maximum compressive stress at point B is -6999035.59641 Pa\n",
        "Maximum in plane shear stress at point B is 6999035.59641 Pa\n"
       ]
      }
     ],
     "prompt_number": 8
    },
    {
     "cell_type": "heading",
     "level": 2,
     "metadata": {},
     "source": [
      "Example 8.7, page no. 578"
     ]
    },
    {
     "cell_type": "code",
     "collapsed": false,
     "input": [
      "\n",
      "\n",
      "import math \n",
      "\n",
      "#initialisation\n",
      "b = 6                           # Outer dimension of the pole in inch\n",
      "t = 0.5                         # thickness of the pole\n",
      "P1 = 20*(6.75*24)               # Load acting at the midpoint of the platform\n",
      "d = 9                           # Distance between longitudinal axis of the post and midpoint of platform\n",
      "P2 = 800                        # Load in lb\n",
      "h = 52                          # Distance between base and point of action of P2\n",
      "\n",
      "#calculation\n",
      "M1 = P1*d                       # Moment due to P1\n",
      "M2 = P2*h                       # Moment due to P2\n",
      "A = b**2 - (b-2*t)**2           # Area of the cross section\n",
      "sp1 = P1/A                      # Comoressive stress due to P1 at A and B\n",
      "I = (1.0/12.0)*(b**4 - (b-2*t)**4)  # Moment of inertia of the cross section\n",
      "sm1 = (M1*b)/(2*I)              # Comoressive stress due to M1 at A and B\n",
      "Aweb = (2*t)*(b-(2*t))          # Area of the web\n",
      "tp2 = P2/Aweb                   # Shear stress at point B by lpad P2\n",
      "sm2 = (M2*b)/(2*I)              # Comoressive stress due to M2 at A \n",
      "sa = sp1+sm1+sm2                # Total Compressive stress at point A\n",
      "sb = sp1+sm1                    # Total compressive at point B \n",
      "tb = tp2                        # Shear stress at point B\n",
      "\n",
      "# Principle stresses \n",
      "sxa = 0\n",
      "sya = -sa\n",
      "txya = 0\n",
      "sxb = 0\n",
      "syb = -sb\n",
      "txyb = tp2 \n",
      "\n",
      "# Stresses at A\n",
      "s1a = (sxa+sya)/2 + math.sqrt(((sxa-sya)/2)**2 + (txya)**2)             # Maximum tensile stress \n",
      "s2a = (sxa+sya)/2 - math.sqrt(((sxa-sya)/2)**2 + (txya)**2)             # Maximum compressive stress \n",
      "tmaxa =  math.sqrt(((sxa-sya)/2)**2 + (txya)**2)                        # Maximum in plane shear stress\n",
      "print \"Maximum tensile stress at point A is\", s1a,\"Psi\"\n",
      "print \"Maximum compressive stress at point A is\", round(s2a,2), \"Psi\"\n",
      "print \"Maximum in plane shear stress at point A is\", round(tmaxa,2), \"Psi\"\n",
      "\n",
      "# Stress at B \n",
      "s1b = (sxb+syb)/2 + math.sqrt(((sxb-syb)/2)**2 + (txyb)**2)             # Maximum tensile stress \n",
      "s2b = (sxb+syb)/2 - math.sqrt(((sxb-syb)/2)**2 + (txyb)**2)             # Maximum compressive stress \n",
      "tmaxb =  math.sqrt(((sxb-syb)/2)**2 + (txyb)**2)                        # Maximum in plane shear stress\n",
      "print \"Maximum tensile stress at point B is\", round(s1b,2), \"Psi\"\n",
      "print \"Maximum compressive stress at point B is\", round(s2b,2), \"Psi\"\n",
      "print \"Maximum in plane shear stress at point B is\", round(tmaxb,2), \"Psi\""
     ],
     "language": "python",
     "metadata": {},
     "outputs": [
      {
       "output_type": "stream",
       "stream": "stdout",
       "text": [
        "Maximum tensile stress at point A is 0.0 Psi\n",
        "Maximum compressive stress at point A is -4090.91 Psi\n",
        "Maximum in plane shear stress at point A is 2045.45 Psi\n",
        "Maximum tensile stress at point B is 13.67 Psi\n",
        "Maximum compressive stress at point B is -1872.69 Psi\n",
        "Maximum in plane shear stress at point B is 943.18 Psi\n"
       ]
      }
     ],
     "prompt_number": 5
    }
   ],
   "metadata": {}
  }
 ]
}