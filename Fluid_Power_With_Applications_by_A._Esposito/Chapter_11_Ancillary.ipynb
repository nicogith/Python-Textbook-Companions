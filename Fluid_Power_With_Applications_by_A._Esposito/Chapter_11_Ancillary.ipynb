{
 "cells": [
  {
   "cell_type": "markdown",
   "metadata": {},
   "source": [
    "# Chapter 11: Ancillary Hydraulic Devices"
   ]
  },
  {
   "cell_type": "markdown",
   "metadata": {},
   "source": [
    "## Example 11.1 pgno:409"
   ]
  },
  {
   "cell_type": "code",
   "execution_count": 1,
   "metadata": {
    "collapsed": false
   },
   "outputs": [
    {
     "name": "stdout",
     "output_type": "stream",
     "text": [
      "\n",
      "  Results:  \n",
      "\n",
      " The high discharge pressure is  psi. 2500.0\n",
      "\n",
      " The low discharge flow-rate is  gpm. 4.0\n"
     ]
    }
   ],
   "source": [
    "# Aim:To find the discharge flow and pressure \n",
    "# Given:\n",
    "# high inlet flow-rate:\n",
    "Q_high_inlet=20.0; #gpm\n",
    "# low inlet pressure:\n",
    "p_low_inlet=500.0; #psi\n",
    "# Ratio of piston area to rod area:\n",
    "Ratio=5/1;\n",
    "\n",
    "\n",
    "\n",
    "\n",
    "# Solution:\n",
    "# high discharge pressure,\n",
    "p_high_discharge=Ratio*p_low_inlet; #psi\n",
    "# low discharge flow-rate,\n",
    "Q_low_discharge=Q_high_inlet/Ratio; #gpm\n",
    "\n",
    "# Results:\n",
    "print\"\\n  Results:  \" \n",
    "print\"\\n The high discharge pressure is  psi.\",p_high_discharge\n",
    "print\"\\n The low discharge flow-rate is  gpm.\",Q_low_discharge\n"
   ]
  },
  {
   "cell_type": "markdown",
   "metadata": {},
   "source": [
    "## Example 11.2 pgno:424"
   ]
  },
  {
   "cell_type": "code",
   "execution_count": 2,
   "metadata": {
    "collapsed": false
   },
   "outputs": [
    {
     "name": "stdout",
     "output_type": "stream",
     "text": [
      "\n",
      "  Results:  \n",
      "\n",
      " The downstream oil temperature is  deg F. 127.9\n"
     ]
    }
   ],
   "source": [
    "# Aim:To find the downstream oil temperature\n",
    "# Given:\n",
    "# temperature of oil flowing through pressure relief valve:\n",
    "T_oil=120.0; #deg F\n",
    "# pressure of oil flowing through pressure relief valve:\n",
    "p=1000.0; #psi\n",
    "# oil flow through pressure relief valve:\n",
    "Q_gpm=10.0; #gpm\n",
    "# Solution:\n",
    "# heat generation rate,\n",
    "HP=(p*Q_gpm)/1714; #HP\n",
    "# heat generation rate in Btu/min,\n",
    "HP_btu=HP*42.4; #Btu/min\n",
    "# oil flow-rate in lb/min,\n",
    "Q_lb=7.42*Q_gpm; #lb/min\n",
    "# temperature increase,\n",
    "T_increase=HP_btu/(0.42*Q_lb); #deg F\n",
    "# downward oil temperature,\n",
    "T_downward=T_oil+T_increase; #deg F\n",
    "\n",
    "# Results:\n",
    "print \"\\n  Results:  \" \n",
    "print \"\\n The downstream oil temperature is  deg F.\",round(T_downward,1)\n"
   ]
  },
  {
   "cell_type": "markdown",
   "metadata": {},
   "source": [
    "## Example 11.3 pgno:424"
   ]
  },
  {
   "cell_type": "code",
   "execution_count": 3,
   "metadata": {
    "collapsed": false
   },
   "outputs": [
    {
     "name": "stdout",
     "output_type": "stream",
     "text": [
      "\n",
      "  Results:  \n",
      "\n",
      " The downstream oil temperature is  deg C. 54.3\n"
     ]
    }
   ],
   "source": [
    "# Aim:To find the downstream oil temperature in SI Unit\n",
    "# Given:\n",
    "# temperature of oil flowing through pressure relief valve:\n",
    "T_oil=50.0; #deg C\n",
    "# pressure of oil flowing through pressure relief valve:\n",
    "p=70.0; #bar\n",
    "# oil flow through pressure relief valve:\n",
    "Q=0.000632; #m**3/s\n",
    "# Solution:\n",
    "# heat generation rate,\n",
    "kW=((p*10**5)*Q)/1000; #kW\n",
    "# oil flow-rate,\n",
    "Q_kg_s=895*Q; #kg/s\n",
    "# temperature increase,\n",
    "T_increase=kW/(1.8*Q_kg_s); #deg C\n",
    "# downward oil temperature,\n",
    "T_downward=T_oil+T_increase; #deg C\n",
    "\n",
    "# Results:\n",
    "print \"\\n  Results:  \"   \n",
    "print \"\\n The downstream oil temperature is  deg C.\",round(T_downward,1)\n"
   ]
  },
  {
   "cell_type": "markdown",
   "metadata": {},
   "source": [
    "## Example 11.4 pgno:425"
   ]
  },
  {
   "cell_type": "code",
   "execution_count": 4,
   "metadata": {
    "collapsed": false
   },
   "outputs": [
    {
     "name": "stdout",
     "output_type": "stream",
     "text": [
      "\n",
      "  Results:  \n",
      "\n",
      " The heat exchanger rating is  Btu/hr. 21565.0\n",
      "\n",
      " The answer in the program does not match with that in the textbook due to roundoff error (standard ratings) in textbook\n"
     ]
    }
   ],
   "source": [
    "# Aim:To find the rating of heat exchanger required to dissipate generated heat\n",
    "# Given:\n",
    "# oil flow-rate:\n",
    "Q=20.0; #gpm\n",
    "# operating pressure:\n",
    "p=1000.0; #psi\n",
    "# overall efficiency of pump:\n",
    "eff_overall=85.0; #%\n",
    "# power lost due to friction:\n",
    "HP_frict=10.0; #%\n",
    "\n",
    "# Solution:\n",
    "# pump power loss,\n",
    "pump_HP_loss=((1/(eff_overall/100))-1)*((p*Q)/1714); #HP\n",
    "# PRV average HP loss,\n",
    "PRV_loss=0.5*((p*Q)/1714); #HP\n",
    "# line average HP loss,\n",
    "line_loss=(HP_frict/100)*PRV_loss; #HP\n",
    "# total average loss,\n",
    "total_loss=pump_HP_loss+PRV_loss+line_loss; #HP\n",
    "# heat exchanger rating,\n",
    "HEx_rating=total_loss*2544; #Btu/hr\n",
    "\n",
    "# Results:\n",
    "print\"\\n  Results:  \"   \n",
    "print\"\\n The heat exchanger rating is  Btu/hr.\",round(HEx_rating)\n",
    "print\"\\n The answer in the program does not match with that in the textbook due to roundoff error (standard ratings) in textbook\"\n"
   ]
  },
  {
   "cell_type": "markdown",
   "metadata": {},
   "source": [
    "## Example 11.5 pgno:426"
   ]
  },
  {
   "cell_type": "code",
   "execution_count": 5,
   "metadata": {
    "collapsed": false
   },
   "outputs": [
    {
     "name": "stdout",
     "output_type": "stream",
     "text": [
      "\n",
      "  Results:  \n",
      "\n",
      " The heat exchanger rating is  kW. 6.41\n"
     ]
    }
   ],
   "source": [
    "# Aim:To find the rating of heat exchanger required to dissipate generated heat in SI unit\n",
    "# Given:\n",
    "# oil flow-rate:\n",
    "Q=0.00126; #m**3/s\n",
    "# operating pressure:\n",
    "p=70.0; #bar\n",
    "# overall efficiency of pump:\n",
    "eff_overall=85.0; #%\n",
    "# power lost due to friction:\n",
    "HP_frict=10.0; #%\n",
    "\n",
    "# Solution:\n",
    "# pump power loss,\n",
    "pump_loss=((1/(eff_overall/100))-1)*((p*10**5*Q)/1000); #kW\n",
    "# PRV average HP loss,\n",
    "PRV_loss=0.5*((p*10**5*Q)/1000); #kW\n",
    "# line average HP loss,\n",
    "line_loss=(HP_frict/100)*PRV_loss; #kW\n",
    "# total average loss,\n",
    "HEx_rating=pump_loss+PRV_loss+line_loss; #kW\n",
    "\n",
    "# Results:\n",
    "print\"\\n  Results:  \"  \n",
    "print\"\\n The heat exchanger rating is  kW.\",round(HEx_rating,2)\n"
   ]
  },
  {
   "cell_type": "code",
   "execution_count": null,
   "metadata": {
    "collapsed": true
   },
   "outputs": [],
   "source": []
  }
 ],
 "metadata": {
  "kernelspec": {
   "display_name": "Python 2",
   "language": "python",
   "name": "python2"
  },
  "language_info": {
   "codemirror_mode": {
    "name": "ipython",
    "version": 2
   },
   "file_extension": ".py",
   "mimetype": "text/x-python",
   "name": "python",
   "nbconvert_exporter": "python",
   "pygments_lexer": "ipython2",
   "version": "2.7.9"
  }
 },
 "nbformat": 4,
 "nbformat_minor": 0
}
