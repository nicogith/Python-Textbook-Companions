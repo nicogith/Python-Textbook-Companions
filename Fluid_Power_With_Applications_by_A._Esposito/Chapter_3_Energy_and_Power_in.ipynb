{
 "cells": [
  {
   "cell_type": "markdown",
   "metadata": {},
   "source": [
    "# Chapter 3 :Energy and Power in Hydraulic Systems"
   ]
  },
  {
   "cell_type": "markdown",
   "metadata": {},
   "source": [
    "## Example 3.1 pgno:77"
   ]
  },
  {
   "cell_type": "code",
   "execution_count": 4,
   "metadata": {
    "collapsed": false
   },
   "outputs": [
    {
     "name": "stdout",
     "output_type": "stream",
     "text": [
      " Results:  \n",
      "The work done by the person is  ft.lb 3000.0\n",
      "The power delivered by the person is  HP 0.091\n"
     ]
    }
   ],
   "source": [
    "# Aim:To find work done and power deliver\n",
    "# Given:\n",
    "# Force excerted by the person:\n",
    "F=30.; #lb\n",
    "# Distance moved by hand truck: \n",
    "S=100.; #ft\n",
    "# time taken:\n",
    "t=60.; #s\n",
    "\n",
    "\n",
    "# Solution:\n",
    "# we know,Work done=Force * Displacement,\n",
    "W=F*S; #ft.lb\n",
    "# Now,Power,\n",
    "P=W/t; #(ft.lb/s)\n",
    "P=round(P/550,4); #HP\n",
    "   \n",
    "# Results:\n",
    "print \" Results:  \"\n",
    "print \"The work done by the person is  ft.lb\",W\n",
    "print \"The power delivered by the person is  HP\",round(P,3)\n"
   ]
  },
  {
   "cell_type": "markdown",
   "metadata": {},
   "source": [
    "## Example 3.2 pgno:79"
   ]
  },
  {
   "cell_type": "code",
   "execution_count": 5,
   "metadata": {
    "collapsed": false
   },
   "outputs": [
    {
     "name": "stdout",
     "output_type": "stream",
     "text": [
      "  Results:  \n",
      " The Torque delivered by Hydraulic motor is in.lb 70\n"
     ]
    }
   ],
   "source": [
    "# Aim:To determine torque required by hydraulic motor\n",
    "# Given:\n",
    "# Power Supplied:\n",
    "HP=2; #HP\n",
    "# Speed of the Hydraulic motor: \n",
    "N=1800; #rpm\n",
    "\n",
    "\n",
    "# Solution:\n",
    "# Power (HP)=(Torque*Speed)/63000\n",
    "# Therefore,Torque\n",
    "T=(HP*63000)/N; #in.lb\n",
    "   \n",
    "# Results:\n",
    "print \"  Results:  \"\n",
    "print \" The Torque delivered by Hydraulic motor is in.lb\",T\n"
   ]
  },
  {
   "cell_type": "markdown",
   "metadata": {},
   "source": [
    "## Example 3.3 pgno:80"
   ]
  },
  {
   "cell_type": "markdown",
   "metadata": {},
   "source": [
    "\n"
   ]
  },
  {
   "cell_type": "code",
   "execution_count": 6,
   "metadata": {
    "collapsed": false
   },
   "outputs": [
    {
     "name": "stdout",
     "output_type": "stream",
     "text": [
      "  Results:  \n",
      " The Input Horsepower required by elevator hoist motor is  HP 34.1\n"
     ]
    }
   ],
   "source": [
    "# Aim: Refer Example 3-3 for Problem Description\n",
    "# Given:\n",
    "# Load to be raised:\n",
    "F=3000.; #lb\n",
    "# Distance: \n",
    "S=50.; #ft\n",
    "# time required:\n",
    "t=10.; #s\n",
    "#efficiency of the system:\n",
    "eta=80.; #%\n",
    "\n",
    "\n",
    "# Solution:\n",
    "# we know,output power=(Force * Displacement)/time,\n",
    "outpw=(F*S)/t; #ft.lb/s\n",
    "outpw_HP=outpw/550; #HP\n",
    "# Efficiency=output power/input power\n",
    "inpw=outpw_HP/(eta*0.01); #HP\n",
    "   \n",
    "# Results:\n",
    "print \"  Results:  \"\n",
    "print \" The Input Horsepower required by elevator hoist motor is  HP\",round(inpw,1)\n"
   ]
  },
  {
   "cell_type": "markdown",
   "metadata": {},
   "source": [
    "## Example 3.4 pgno:85"
   ]
  },
  {
   "cell_type": "code",
   "execution_count": 7,
   "metadata": {
    "collapsed": false
   },
   "outputs": [
    {
     "name": "stdout",
     "output_type": "stream",
     "text": [
      " Results:  \n",
      " The Output force upward is lb 1000.0\n",
      " The upward movement of piston 2 is  in 0.1\n",
      " The Energy Input is  in.lb 100.0\n",
      " The Energy Output is  in.lb 100.0\n"
     ]
    }
   ],
   "source": [
    "# Aim:Refer Example 3-4 for Problem Description\n",
    "# Given:For the Hydraulic Jack,\n",
    "# Area of Piston 1:\n",
    "A1=2.0; #in^2\n",
    "# Area of Piston 2:\n",
    "A2=20.0; #in^2\n",
    "# Input force downward:\n",
    "F1=100.0; #lb\n",
    "# downward movement of piston 1:\n",
    "S1=1.0; #in\n",
    "\n",
    "\n",
    "# Solution:\n",
    "# Pascal law states, (F1*A1 = F2*A2) \n",
    "# Similarly, (S1*A1 = S2*A2)\n",
    "# Output force upward,\n",
    "F2=(A2/A1)*F1; #lb\n",
    "# upward movement of piston 2,\n",
    "S2=((A1/A2)); #in\n",
    "# Energy Input,\n",
    "E1=F1*S1; #in.lb\n",
    "# Energy Output,\n",
    "E2=F2*S2; #in.lb\n",
    "\n",
    "# Results:\n",
    "print\" Results:  \"\n",
    "print\" The Output force upward is lb\",F2\n",
    "print\" The upward movement of piston 2 is  in\",S2\n",
    "print\" The Energy Input is  in.lb\",E1\n",
    "print\" The Energy Output is  in.lb\",E2\n",
    "\n"
   ]
  },
  {
   "cell_type": "markdown",
   "metadata": {},
   "source": [
    "## Example 3.5 pgno:88"
   ]
  },
  {
   "cell_type": "code",
   "execution_count": 8,
   "metadata": {
    "collapsed": false
   },
   "outputs": [
    {
     "name": "stdout",
     "output_type": "stream",
     "text": [
      "  Results:  \n",
      " Therefore  lb of load can be lifted 1053.0\n",
      " The answer in the program is different than that in textbook. It may be due to no.s of significant digit in data and calculation\n",
      " Therefore  no.s of cycles are required to lift the load 10 in. 52.8\n",
      " The answer in the program is different than that in textbook. It may be due to no.s of significant digit in data and calculation\n",
      " Input power when efficiency is 100 percent is  HP 0.03\n",
      " Input power when efficiency is 80 percent is  HP 0.024\n"
     ]
    }
   ],
   "source": [
    "# Aim:Refer Example 3-5 for Problem Description. \n",
    "# Given:\n",
    "# Diameter of piston of pump cylinder:\n",
    "Dp=1.0; #in\n",
    "# Diameter of piston of load cylinder:\n",
    "Dl=3.25; #in\n",
    "# Average hand force:\n",
    "Fh=25.0; #lb\n",
    "# Load piston stroke:\n",
    "Sl=10.0; #in\n",
    "# Pump piston stroke:\n",
    "Sp=2.0; #in\n",
    "pi=3.14;\n",
    "# Solution:\n",
    "# Therfore, Force acting on rod of pump cylinder,\n",
    "F_rod=(8/2)*Fh; #lb\n",
    "# Area of piston of pump cylinder,\n",
    "Ap=(pi/4)*Dp**2;#in**2\n",
    "# Area of piston of load cylinder,\n",
    "Al=(pi/4)*Dl**2; #in**2\n",
    "# Pump cylinder discharge pressure,\n",
    "p=round(F_rod/Ap); #psi\n",
    "# Load carrying capacity,\n",
    "F_load=p*Al; #lb\n",
    "# Therefore, No.s of Cycles,\n",
    "Noc=(Al*Sl)/(Ap*Sp);\n",
    "# Output power,\n",
    "outpw=((F_load*(Sl/12))/Noc); #ft.lb/s\n",
    "outpw_HP=outpw/550; #HP\n",
    "# Assuming efficiency 80 %\n",
    "eta=0.8;\n",
    "outpw_HP2=eta*outpw_HP; #HP\n",
    "\n",
    "# Results:\n",
    "print\"  Results:  \"\n",
    "print\" Therefore  lb of load can be lifted\",round(F_load)\n",
    "print\" The answer in the program is different than that in textbook. It may be due to no.s of significant digit in data and calculation\"\n",
    "print\" Therefore  no.s of cycles are required to lift the load 10 in.\",round(Noc,1)\n",
    "print\" The answer in the program is different than that in textbook. It may be due to no.s of significant digit in data and calculation\"\n",
    "print\" Input power when efficiency is 100 percent is  HP\",round(outpw_HP,3)\n",
    "print\" Input power when efficiency is 80 percent is  HP\",round(outpw_HP2,3)\n"
   ]
  },
  {
   "cell_type": "markdown",
   "metadata": {},
   "source": [
    "## Example 3.6 pgno:91"
   ]
  },
  {
   "cell_type": "code",
   "execution_count": 9,
   "metadata": {
    "collapsed": false
   },
   "outputs": [
    {
     "name": "stdout",
     "output_type": "stream",
     "text": [
      "\n",
      "  Results:  \n",
      "\n",
      " The load carrying capacity of system is  lb. 50000\n"
     ]
    }
   ],
   "source": [
    "# Aim:Refer Example 3-6 for Problem Description. \n",
    "# Given:\n",
    "# inlet air pressure:\n",
    "p1=100; #psi\n",
    "# air piston area:\n",
    "A1=20; #in^2\n",
    "# oil piston area:\n",
    "A2=1; #in^2\n",
    "# load piston area:\n",
    "A3=25; #in^2\n",
    "# load piston diameter:\n",
    "d3=5.64; #in\n",
    "\n",
    "\n",
    "# Solution:\n",
    "# booster input force = booster output force\n",
    "# p1*A1 = p2*A2\n",
    "p2=(A1/A2)*p1; #psi\n",
    "# As per pascal law,\n",
    "p3=p2; # where p3=outlet pressure\n",
    "# Therefore load carrying capacity of system,\n",
    "F=p3*A3; #lb\n",
    "\n",
    "# Results:\n",
    "print\"\\n  Results:  \"\t \n",
    "print\"\\n The load carrying capacity of system is  lb.\",F\n",
    "\n",
    "\n"
   ]
  },
  {
   "cell_type": "markdown",
   "metadata": {},
   "source": [
    "## Example 3.7 pgno:95"
   ]
  },
  {
   "cell_type": "code",
   "execution_count": 10,
   "metadata": {
    "collapsed": false
   },
   "outputs": [
    {
     "name": "stdout",
     "output_type": "stream",
     "text": [
      "\n",
      "  Results:  \n",
      "\n",
      " The Volume flow rate of the system is  ft**3/s. 0.349\n",
      "\n",
      " The fluid velocity at station 2 is  ft/s. 16.0\n"
     ]
    }
   ],
   "source": [
    "# Aim:Refer Example 3-7 for Problem Description. \n",
    "# Given:\n",
    "# inlet diameter:\n",
    "D1=4.0; #in\n",
    "# outlet diameter:\n",
    "D2=2.0; #in\n",
    "# inlet velocity:\n",
    "v1=4.0; #ft/s\n",
    "pi=3.14\n",
    "\n",
    "# Solution:\n",
    "# we know, Discharge=Area*Velocity\n",
    "A1=(pi/4)*(D1/12)**2; #ft**2\n",
    "Q=A1*v1; #ft**3/s\n",
    "# Since, for hydraulic system, volume flow rate is always constant\n",
    "# we get,outlet velocity,\n",
    "v2=((D1/D2)**2)*v1; #ft/s\n",
    "\n",
    "# Results:\n",
    "print\"\\n  Results:  \"\n",
    "print\"\\n The Volume flow rate of the system is  ft**3/s.\",round(Q,3)\n",
    "print\"\\n The fluid velocity at station 2 is  ft/s.\",v2"
   ]
  },
  {
   "cell_type": "markdown",
   "metadata": {},
   "source": [
    "## Example 3.8 pgno:99"
   ]
  },
  {
   "cell_type": "code",
   "execution_count": 11,
   "metadata": {
    "collapsed": false
   },
   "outputs": [
    {
     "name": "stdout",
     "output_type": "stream",
     "text": [
      "\n",
      "  Results:  \n",
      "\n",
      " The Required piston area is  in**2. 8.0\n",
      "\n",
      " The necessary pump flow rate is gpm. 24.9\n",
      "\n",
      " The Hydraulic Horsepower delivered to cylinder is HP. 14.5\n",
      "\n",
      " The output horsepower delivered by cylinder to load is  HP. 14.5\n"
     ]
    }
   ],
   "source": [
    "# Aim:Refer Example 3-8 for Problem Description. \n",
    "# Given:\n",
    "# Time period of operations:\n",
    "t=10; #s\n",
    "# Stroke of hydraulic cylinder:\n",
    "S=10; #ft\n",
    "# Load required to compress car:\n",
    "F_load=8000; #lb\n",
    "# Pump pressure:\n",
    "p=1000; #psi\n",
    "# Efficiency of cylinder:100 %\n",
    "eta=1;\n",
    "\n",
    "\n",
    "\n",
    "\n",
    "# Solution:\n",
    "from math import floor\n",
    "# The required piston area,\n",
    "A=round(F_load/p); #in**2\n",
    "# The necessary pump flow rate,\n",
    "Q=((A/144)*S)/t; #ft**3/s\n",
    "Q_gpm=Q*449; #gpm\n",
    "# The Hydraulic Horsepower delivered to cylinder,\n",
    "HHP=(p*Q_gpm)/1714; #HP\n",
    "# rounding off the above answer\n",
    "HHP=round(HHP)+(round(floor((HHP-round(HHP))*10))/10); #HP\n",
    "# The output horsepower delivered by cylinder to load,\n",
    "OHP=HHP*eta; #HP\n",
    "\n",
    "# Results:\n",
    "print\"\\n  Results:  \" \n",
    "print\"\\n The Required piston area is  in**2.\",A\n",
    "print\"\\n The necessary pump flow rate is gpm.\",round(Q_gpm,1)\n",
    "print\"\\n The Hydraulic Horsepower delivered to cylinder is HP.\",HHP\n",
    "print\"\\n The output horsepower delivered by cylinder to load is  HP.\",OHP\n",
    "\n"
   ]
  },
  {
   "cell_type": "markdown",
   "metadata": {},
   "source": [
    "## Example 3.9 pgno:100"
   ]
  },
  {
   "cell_type": "code",
   "execution_count": 12,
   "metadata": {
    "collapsed": false
   },
   "outputs": [
    {
     "name": "stdout",
     "output_type": "stream",
     "text": [
      "\n",
      "  Results:  \n",
      "\n",
      " The Required piston area is  in^2. 8.1\n",
      "\n",
      " The necessary pump flow rate is gpm. 25.4\n",
      "\n",
      " The Hydraulic Horsepower delivered to cylinder is  HP. 14.8\n",
      "\n",
      " The output horsepower delivered by cylinder to load is  HP. 14.5\n",
      "\n",
      " The Efficiency is 0.98\n"
     ]
    }
   ],
   "source": [
    "# Aim:Refer Example 3-9 for Problem Description. \n",
    "# Given:\n",
    "# Time period of operations:\n",
    "t=10.0; #s\n",
    "# Stroke of hydraulic cylinder:\n",
    "S=10.0; #ft\n",
    "# Load required to compress car:\n",
    "F_load=8000.0; #lb\n",
    "# Pump pressure:\n",
    "p=1000.0; #psi\n",
    "# Frictional Force:\n",
    "F_fric=100.0; #lb\n",
    "# Leakage:\n",
    "Q_leak=0.2; #gpm\n",
    "import math\n",
    "from math import ceil\n",
    "from math import floor\n",
    "\n",
    "# Solution:\n",
    "# The required piston area,\n",
    "A=(F_load+F_fric)/p; #in^2\n",
    "# The Theoretical pump flow rate,\n",
    "Q_theo=((A/144)*S)/t; #ft^3/s\n",
    "Q_gpm=(Q_theo*449); #gpm\n",
    "# The Actual pump flow rate,\n",
    "Q_act=Q_gpm+Q_leak; #gpm\n",
    "# rounding off the above answer\n",
    "Q_act=round(Q_act)+(round(math.floor((Q_act-round(Q_act))*10))/10); #gpm\n",
    "# The Hydraulic Horsepower delivered to cylinder,\n",
    "HHP=(p*Q_gpm)/1714; #HP\n",
    "# rounding off the above answer\n",
    "HHP=round(HHP)+(round(math.ceil((HHP-round(HHP))*10))/10); #HP\n",
    "# The output horsepower delivered by cylinder to load,\n",
    "OHP=(F_load*(S/t))/550; #HP\n",
    "# The Efficiency of System,\n",
    "eta=math.floor((OHP/HHP)*100); #\n",
    "\n",
    "\n",
    "\n",
    "# Results:\n",
    "print\"\\n  Results:  \"   \n",
    "print\"\\n The Required piston area is  in^2.\",A\n",
    "print\"\\n The necessary pump flow rate is gpm.\",Q_act\n",
    "print\"\\n The Hydraulic Horsepower delivered to cylinder is  HP.\",HHP\n",
    "print\"\\n The output horsepower delivered by cylinder to load is  HP.\",round(OHP,1)\n",
    "print\"\\n The Efficiency is\",round(OHP/HHP,2)\n",
    "\n",
    "\n",
    "\n",
    "\n"
   ]
  },
  {
   "cell_type": "markdown",
   "metadata": {},
   "source": [
    "## Example 3.10 pgno:104"
   ]
  },
  {
   "cell_type": "code",
   "execution_count": 13,
   "metadata": {
    "collapsed": false
   },
   "outputs": [
    {
     "name": "stdout",
     "output_type": "stream",
     "text": [
      "\n",
      "  Results:  \n",
      "\n",
      " The Pressure available at inlet of hydraulic motor at Station 2 is  psig. 265.0\n"
     ]
    }
   ],
   "source": [
    "# Aim:Refer Example 3-10 for Problem Description. \n",
    "# Given:\n",
    "# Pump Power:\n",
    "HHP=5.0; #HP\n",
    "# Pump flow:\n",
    "Q=30.0; #gpm\n",
    "# Pipe Diameter:\n",
    "D=1.0; #in\n",
    "# specific gravity of oil:\n",
    "SG=0.9;\n",
    "# Pressure at Station 1:\n",
    "p1=0.0; #psig (It is atmospheric pressure.)\n",
    "# Head Loss due to friction between Station 1 and 2 of oil:\n",
    "Hl=30.0; #ft\n",
    "import math\n",
    "from math import pi\n",
    "from math import ceil\n",
    "from math import floor\n",
    "\n",
    "\n",
    "\n",
    "# Solution:\n",
    "# Acceleration due to gravity,\n",
    "g=32.2; #ft/s**2\n",
    "# Energy Equation between Station 1 and Station 2 is given by,\n",
    "# (Z1+P1+K1+Hp-Hm-Hl)=(Z2+P2+K2)\n",
    "# since, There is no Hydraulic motor between Station 1 and 2,\n",
    "# Therefore Motor Head,\n",
    "Hm=0; #ft\n",
    "# also, cross section of oil tank is very large, as a result oil is at rest,\n",
    "v1=0; #ft/s\n",
    "# Kinetic Energy Head at inlet,\n",
    "K1=(v1**2)/(2*g); #ft\n",
    "# Height of Station 1 from Datum,\n",
    "Z1=0; #ft\n",
    "# Height of Station 2 from Datum,\n",
    "Z2=20; #ft\n",
    "# Pressure Head at inlet,\n",
    "P1=p1/SG; #ft\n",
    "# Pump Head,\n",
    "Hp=ceil((3950*HHP)/(Q*SG)); #ft\n",
    "# Pump flow,\n",
    "Q_1=Q/449; #ft**3/s\n",
    "# Area of pipe,\n",
    "A=((pi)*((D/12)**2))/4; #ft**2\n",
    "# Therefore, velocity in pipe,\n",
    "v2=Q_1/A; #ft/s\n",
    "# Kinetic Energy head at Station 2,\n",
    "K2=(v2**2)/(2*g); #ft\n",
    "# Therefore, Pressure Head at outlet,\n",
    "P2=Z1+P1+K1+Hp-Hm-Hl-Z2-K2; #ft\n",
    "# specific weight of oil,\n",
    "gamma1=SG*62.4; #lb/ft**3\n",
    "# Pressure available at inlet of hydraulic motor at station 2,\n",
    "p2=P2*gamma1; # lb/ft**2\n",
    "p2=floor(p2/144); #psi\n",
    "\n",
    "# Results:\n",
    "print\"\\n  Results:  \" \n",
    "print\"\\n The Pressure available at inlet of hydraulic motor at Station 2 is  psig.\",p2\n",
    "\n",
    "\n",
    "\n",
    "\n",
    "\n"
   ]
  },
  {
   "cell_type": "markdown",
   "metadata": {},
   "source": [
    "## Example 3.11 pgno:108"
   ]
  },
  {
   "cell_type": "code",
   "execution_count": 14,
   "metadata": {
    "collapsed": false
   },
   "outputs": [
    {
     "name": "stdout",
     "output_type": "stream",
     "text": [
      "\n",
      "  Results:  \n",
      "\n",
      " The Jet velocity is  ft/s. 48.1\n",
      "\n",
      " The answer in the program is different than that in textbook. It may be due to no.s of significant digit in data and calculation\n",
      "\n",
      " The Flow rate is  gpm. 471.0\n",
      "\n",
      " The Jet velocity considering friction losses is ft/s. 40.9\n",
      "\n",
      " The Flow rate considering friction losses is  gpm. 400.0\n",
      "\n",
      " The answer in the program is different than that in textbook. It may be due to no.s of significant digit in data and calculation\n"
     ]
    }
   ],
   "source": [
    "# Aim:Refer Example 3-11 for Problem Description. \n",
    "# Given:\n",
    "# Fluid Head:\n",
    "h=36.0; #ft\n",
    "# Diameter of opening:\n",
    "d=2.0; #in\n",
    "# Frictional Head Losses:\n",
    "Hl=10.0; #ft\n",
    "import math \n",
    "from math import pi\n",
    "from math import floor\n",
    "\n",
    "\n",
    "# Solution:\n",
    "# Acceleration due to gravity,\n",
    "g=32.2; #ft/s**2\n",
    "# Assuming ideal fluid, Jet velocity,\n",
    "v2=(2*g*h)**0.5 #ft/s\n",
    "# Area of the opening,\n",
    "A=(pi/4)*((d/12)**2); #ft**2\n",
    "# flow rate,\n",
    "Q=A*v2; #ft**3/s\n",
    "Q_gpm=floor(449*Q); #gpm\n",
    "# Jet velocity considering friction losses,\n",
    "v2l=(64.4*(h-Hl))**0.5; #ft/s\n",
    "# since, flow rate is proportional to velocity,\n",
    "Ql=((v2l/v2)*Q_gpm); #gpm\n",
    "\n",
    "# Results:\n",
    "print\"\\n  Results:  \"  \n",
    "print\"\\n The Jet velocity is  ft/s.\",round(v2,1)\n",
    "print\"\\n The answer in the program is different than that in textbook. It may be due to no.s of significant digit in data and calculation\"\n",
    "print\"\\n The Flow rate is  gpm.\",Q_gpm\n",
    "print\"\\n The Jet velocity considering friction losses is ft/s.\",round(v2l,1)\n",
    "print\"\\n The Flow rate considering friction losses is  gpm.\",round(Ql)\n",
    "print\"\\n The answer in the program is different than that in textbook. It may be due to no.s of significant digit in data and calculation\"\n"
   ]
  },
  {
   "cell_type": "markdown",
   "metadata": {},
   "source": [
    "## Example 3.12 pgno:110"
   ]
  },
  {
   "cell_type": "code",
   "execution_count": 15,
   "metadata": {
    "collapsed": false
   },
   "outputs": [
    {
     "name": "stdout",
     "output_type": "stream",
     "text": [
      "\n",
      "  Results:  \n",
      "\n",
      " The velocity through siphon is  ft/s. 35.8\n",
      "\n",
      " The Flow rate through siphon is  gpm. 87.6\n"
     ]
    }
   ],
   "source": [
    "# Aim:Refer Example 3-12 for Problem Description. \n",
    "# Given:\n",
    "# Fluid Head:\n",
    "h=30.0; #ft\n",
    "# Frictional Head Losses:\n",
    "Hl=10.; #ft\n",
    "# U-tube inside diameter:\n",
    "d=1.; #in\n",
    "import math \n",
    "from math import floor,pi\n",
    "# Solution:\n",
    "# Acceleration due to gravity,\n",
    "g=32.2; #ft/s**2\n",
    "# Jet velocity through siphon,\n",
    "v2=((2*g*(h-Hl))**0.5); #ft/s\n",
    "# rounding off the above answer\n",
    "v2=round(v2)+(round(floor((v2-round(v2))*10))/10); #ft/s\n",
    "# Area of the U tube,\n",
    "A=(pi/4)*((d/12)**2); #ft**2\n",
    "# flow rate through siphon,\n",
    "Q=A*v2; #ft**3/s\n",
    "Q_gpm=449*Q; #gpm\n",
    "# rounding off the above answer\n",
    "Q_gpm=round(Q_gpm)+(round(floor((Q_gpm-round(Q_gpm))*10))/10); #gpm\n",
    "\n",
    "# Results:\n",
    "print\"\\n  Results:  \"\n",
    "print\"\\n The velocity through siphon is  ft/s.\",v2\n",
    "print\"\\n The Flow rate through siphon is  gpm.\",Q_gpm\n"
   ]
  },
  {
   "cell_type": "markdown",
   "metadata": {},
   "source": [
    "## Example 3.13 pgno:112"
   ]
  },
  {
   "cell_type": "code",
   "execution_count": 16,
   "metadata": {
    "collapsed": false
   },
   "outputs": [
    {
     "name": "stdout",
     "output_type": "stream",
     "text": [
      "\n",
      "  Results:  \n",
      "\n",
      " The Output force upward is  N 800.0\n",
      "\n",
      " The upward movement of piston 2 is  cm 1.25\n"
     ]
    }
   ],
   "source": [
    "# Aim:Refer Example 3-13 for Problem Description\n",
    "# Given:For the Hydraulic Jack,\n",
    "# Area of Piston 1:\n",
    "A1=25.0; #cm**2\n",
    "# Area of Piston 2:\n",
    "A2=100.0; #cm**2\n",
    "# Input force downward:\n",
    "F1=200.0; #N\n",
    "# downward movement of piston 1:\n",
    "S1=5.0; #cm\n",
    "\n",
    "\n",
    "# Solution:\n",
    "# Pascal law states, (F1*A1 = F2*A2) \n",
    "# Similarly, (S1*A1 = S2*A2)\n",
    "# Output force upward,\n",
    "F2=(A2/A1)*F1; #N\n",
    "# upward movement of piston 2,\n",
    "S2=(A1/A2)*S1; #cm\n",
    "\n",
    "# Results:\n",
    "print\"\\n  Results:  \"\n",
    "print\"\\n The Output force upward is  N\",F2\n",
    "print\"\\n The upward movement of piston 2 is  cm\",S2\n"
   ]
  },
  {
   "cell_type": "markdown",
   "metadata": {},
   "source": [
    "## Example 3.14 pgno:113"
   ]
  },
  {
   "cell_type": "code",
   "execution_count": 17,
   "metadata": {
    "collapsed": false
   },
   "outputs": [
    {
     "name": "stdout",
     "output_type": "stream",
     "text": [
      "\n",
      "  Results:  \n",
      "\n",
      " The velocity through pipe is  m/s. 1.41\n"
     ]
    }
   ],
   "source": [
    "# Aim:To Determine velocity through pipe. \n",
    "# Given:\n",
    "# Diameter of pipe:\n",
    "D=30.0; #mm\n",
    "# Flow through pipe:\n",
    "Q=60.0; #lpm\n",
    "import math\n",
    "from math import pi\n",
    "from math import floor\n",
    "\n",
    "# Solution:\n",
    "# Pump flow in m**3/s,\n",
    "Q_si=0.0000167*Q; #m**3/s\n",
    "# Diameter of pipe,\n",
    "D_m=D/1000; #m\n",
    "# Area of pipe,\n",
    "A=(pi*(D_m**2))/4; #m**2\n",
    "# velocity,\n",
    "v=Q_si/A; #m/s\n",
    "# rounding off the above answer\n",
    "v=round(v)+(round(floor((v-round(v))*100))/100); #m/s\n",
    "\n",
    "# Results:\n",
    "print\"\\n  Results:  \"   \n",
    "print\"\\n The velocity through pipe is  m/s.\",v\n"
   ]
  },
  {
   "cell_type": "markdown",
   "metadata": {},
   "source": [
    "## Example3.15 pgno:113"
   ]
  },
  {
   "cell_type": "code",
   "execution_count": 18,
   "metadata": {
    "collapsed": false
   },
   "outputs": [
    {
     "name": "stdout",
     "output_type": "stream",
     "text": [
      "\n",
      "  Results:  \n",
      "\n",
      " The Hydraulic power delivered by pump is  kW 8.35\n"
     ]
    }
   ],
   "source": [
    "# Aim:To Determine Hydraulic power delivered by pump. \n",
    "# Given:\n",
    "# Pump flow:\n",
    "Q=50; #lpm\n",
    "# Pressure delivered by pump:\n",
    "p=10000; #kPa\n",
    "\n",
    "# Solution:\n",
    "# Pump flow in m^3/s,\n",
    "Q_si=0.0000167*Q; #m^3/s\n",
    "# Hydraulic Power,\n",
    "HP=p*Q_si; #kW\n",
    "\n",
    "# Results:\n",
    "print\"\\n  Results:  \"\n",
    "print\"\\n The Hydraulic power delivered by pump is  kW\",HP\n"
   ]
  },
  {
   "cell_type": "markdown",
   "metadata": {},
   "source": [
    "## Example 3.16 pgno:114"
   ]
  },
  {
   "cell_type": "code",
   "execution_count": 19,
   "metadata": {
    "collapsed": false
   },
   "outputs": [
    {
     "name": "stdout",
     "output_type": "stream",
     "text": [
      "\n",
      "  Results:  \n",
      "\n",
      " The Torque delivered by Hydraulic motor is  Nm. 65.9\n"
     ]
    }
   ],
   "source": [
    "# Aim:To determine torque delivered by hydraulic motor\n",
    "# Given:\n",
    "# Mechanical Output Power:\n",
    "OP=10.0; #kW\n",
    "# Speed of the Hydraulic motor: \n",
    "N=1450.0; #rpm\n",
    "\n",
    "# Solution:\n",
    "# Power(kW)=(Torque*Speed)/9550\n",
    "# Therefore,Torque\n",
    "T=(OP*9550)/N; #Nm\n",
    "   \n",
    "# Results:\n",
    "print\"\\n  Results:  \"\n",
    "print\"\\n The Torque delivered by Hydraulic motor is  Nm.\",round(T,1)"
   ]
  },
  {
   "cell_type": "markdown",
   "metadata": {},
   "source": [
    "## Example 3.17 pgno:114"
   ]
  },
  {
   "cell_type": "code",
   "execution_count": 20,
   "metadata": {
    "collapsed": false
   },
   "outputs": [
    {
     "name": "stdout",
     "output_type": "stream",
     "text": [
      "\n",
      "  Results:  \n",
      "\n",
      " The Pressure available at inlet of hydraulic motor at Station 2 is  kPa gage. 1826.0\n"
     ]
    }
   ],
   "source": [
    "# Aim:Refer Example 3-17 for Problem Description. \n",
    "# Given:\n",
    "# Pump Power:\n",
    "HHP=3.73; #kW\n",
    "# Pump flow:\n",
    "Q=0.001896; #m**3/s\n",
    "# Pipe Diameter:\n",
    "D=0.0254; #m\n",
    "# specific gravity of oil:\n",
    "SG=0.9;\n",
    "# Pressure at Station 1:\n",
    "p1=0; #Pa (It is atmospheric pressure.)\n",
    "# Elevation Between Station 1 and 2:\n",
    "# Z=Z1-Z2\n",
    "Z=-6.096; #m   -ve sign indicates Station 2 is above Station 1\n",
    "# Head Loss due to friction between Station 1 and 2 of oil:\n",
    "Hl=9.144; #m\n",
    "\n",
    "import math \n",
    "from math import pi\n",
    "from math import floor\n",
    "\n",
    "\n",
    "# Solution:\n",
    "# Acceleration due to gravity,\n",
    "g=9.81; #m/s**2\n",
    "# Energy Equation between Station 1 and Station 2 is given by,\n",
    "# (Z+P1+K1+Hp-Hm-Hl)=(P2+K2)\n",
    "# since, There is no Hydraulic motor between Station 1 and 2,\n",
    "# Therefore Motor Head,\n",
    "Hm=0; #m\n",
    "# also, cross section of oil tank is very large, as a result oil is at rest,\n",
    "v1=0; #m/s\n",
    "# Kinetic Energy Head at inlet,\n",
    "K1=(v1**2)/(2*g); #m\n",
    "# Pressure Head at inlet,\n",
    "P1=p1/SG; #m\n",
    "# specific weight of oil,\n",
    "gamma1=round(SG*9797); #N/m**3\n",
    "# Pump Power,\n",
    "W=HHP*1000; #W\n",
    "# Pump Head,\n",
    "Hp=(W/(Q*gamma1)); #m\n",
    "# Area of pipe,\n",
    "A=((pi)*(D**2))/4; #m**2\n",
    "# Therefore, velocity in pipe,\n",
    "v2=Q/A; #m/s\n",
    "# Kinetic Energy head at Station 2,\n",
    "K2=(v2**2)/(2*g); #m\n",
    "# Therefore, Pressure Head at outlet,\n",
    "P2=Z+P1+K1+Hp-Hm-Hl-K2; #m\n",
    "# Pressure available at inlet of hydraulic motor at station 2,\n",
    "p2=floor((P2*gamma1)/1000); # kPa gage\n",
    "\n",
    "# Results:\n",
    "print\"\\n  Results:  \"  \n",
    "print\"\\n The Pressure available at inlet of hydraulic motor at Station 2 is  kPa gage.\",p2\n",
    "\n"
   ]
  },
  {
   "cell_type": "code",
   "execution_count": null,
   "metadata": {
    "collapsed": true
   },
   "outputs": [],
   "source": []
  },
  {
   "cell_type": "code",
   "execution_count": null,
   "metadata": {
    "collapsed": true
   },
   "outputs": [],
   "source": []
  }
 ],
 "metadata": {
  "kernelspec": {
   "display_name": "Python 2",
   "language": "python",
   "name": "python2"
  },
  "language_info": {
   "codemirror_mode": {
    "name": "ipython",
    "version": 2
   },
   "file_extension": ".py",
   "mimetype": "text/x-python",
   "name": "python",
   "nbconvert_exporter": "python",
   "pygments_lexer": "ipython2",
   "version": "2.7.9"
  }
 },
 "nbformat": 4,
 "nbformat_minor": 0
}
