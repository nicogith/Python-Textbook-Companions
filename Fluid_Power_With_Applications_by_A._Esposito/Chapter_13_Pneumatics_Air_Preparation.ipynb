{
 "cells": [
  {
   "cell_type": "markdown",
   "metadata": {},
   "source": [
    "# Chapter 13 :Pneumatics: Air Preparation and components"
   ]
  },
  {
   "cell_type": "markdown",
   "metadata": {},
   "source": [
    "## Example 13.1 pgno:471"
   ]
  },
  {
   "cell_type": "code",
   "execution_count": 1,
   "metadata": {
    "collapsed": false
   },
   "outputs": [
    {
     "name": "stdout",
     "output_type": "stream",
     "text": [
      "\n",
      "  Results:  \n",
      "\n",
      " The new pressure when blank side port is blocked is  psig. 78.7\n"
     ]
    }
   ],
   "source": [
    "# Aim:To find new pressure in cylinder when its blank end is blocked\n",
    "# Given:\n",
    "# diameter of pneumatic piston:\n",
    "D=2; #in\n",
    "# length of retraction of piston:\n",
    "l_ret=4; #in\n",
    "# blank side pressure:\n",
    "p1=20; #psig\n",
    "# volume of cylinder for extension stroke:\n",
    "V1=20; #in**3\n",
    "from math import pi\n",
    "# Solution:\n",
    "# volume of cylinder during retraction stroke,\n",
    "V2=(V1-((pi * D**2 * l_ret)/4)); #in**3\n",
    "# absolute pressure on blank side,\n",
    "p1=p1+14.7; #psia\n",
    "# new pressure when blank side port is blocked,\n",
    "# Boyle's Law,\n",
    "p2=(p1*V1)/V2; #psia\n",
    "p2=p2-14.7; #psig\n",
    "\n",
    "# Results:\n",
    "print\"\\n  Results:  \" \n",
    "print\"\\n The new pressure when blank side port is blocked is  psig.\",round(p2,1)\n"
   ]
  },
  {
   "cell_type": "markdown",
   "metadata": {},
   "source": [
    "## Example 13.2 pgno:472"
   ]
  },
  {
   "cell_type": "code",
   "execution_count": 2,
   "metadata": {
    "collapsed": false
   },
   "outputs": [
    {
     "name": "stdout",
     "output_type": "stream",
     "text": [
      "\n",
      "  Results:  \n",
      "\n",
      " The final volume of air is  in^3. 22.3\n"
     ]
    }
   ],
   "source": [
    "# Aim:To find new volume of air at the blank end of cylinder\n",
    "# Given:\n",
    "# initial volume:\n",
    "V1=20.0; #in^3\n",
    "# constant load:\n",
    "p=20.0; #psi\n",
    "# initial temperature of air:\n",
    "T1=60.0; #deg F\n",
    "# final temperature of air:\n",
    "T2=120.0; #degF\n",
    "\n",
    "# Solution:\n",
    "# initial temperature of air in Rankine,\n",
    "T1=T1+460; #deg R\n",
    "# final temperature of air in Rankine,\n",
    "T2=T2+460; #deg R\n",
    "# final volume of air,\n",
    "# Charle's Law,\n",
    "V2=(T2/T1)*V1; #in^3\n",
    "\n",
    "# Results:\n",
    "print\"\\n  Results:  \"   \n",
    "print\"\\n The final volume of air is  in^3.\",round(V2,1)\n"
   ]
  },
  {
   "cell_type": "markdown",
   "metadata": {},
   "source": [
    "## Exmaple 13.3 pgno:473"
   ]
  },
  {
   "cell_type": "code",
   "execution_count": 3,
   "metadata": {
    "collapsed": false
   },
   "outputs": [
    {
     "name": "stdout",
     "output_type": "stream",
     "text": [
      "\n",
      "  Results:  \n",
      "\n",
      " The final pressure of air at constant volume is  psig. 26.7\n"
     ]
    }
   ],
   "source": [
    "# Aim:To find new pressure in cylinder when it is at locked position\n",
    "# Given:\n",
    "# initial pressure:\n",
    "p1=20; #psig\n",
    "# initial temperature of air:\n",
    "T1=60; #deg F\n",
    "# final temperature of air:\n",
    "T2=160; #degF\n",
    "# Solution:\n",
    "# initial temperature of air in Rankine,\n",
    "T1=T1+460; #deg R\n",
    "# final temperature of air in Rankine,\n",
    "T2=T2+460; #deg R\n",
    "# absolute initial pressure,\n",
    "p1=p1+20.8; #psia\n",
    "# final pressure of air,\n",
    "# Gay-Lussac's Law,\n",
    "p2=(T2/T1)*p1; #psia\n",
    "p2=p2-14.1; #psig\n",
    "\n",
    "# Results:\n",
    "print\"\\n  Results:  \"  \n",
    "print\"\\n The final pressure of air at constant volume is  psig.\",p2\n"
   ]
  },
  {
   "cell_type": "markdown",
   "metadata": {},
   "source": [
    "## Chapter 13.4 pgno:475"
   ]
  },
  {
   "cell_type": "code",
   "execution_count": 4,
   "metadata": {
    "collapsed": false
   },
   "outputs": [
    {
     "name": "stdout",
     "output_type": "stream",
     "text": [
      "\n",
      "  Results:  \n",
      "\n",
      " The final pressure in the cylinder is psig. 1579.8\n"
     ]
    }
   ],
   "source": [
    "# Aim:To find final pressure in the cylinder\n",
    "# Given:\n",
    "# initial gas pressure:\n",
    "p1=1000; #psig\n",
    "# initial volume of cylinder:\n",
    "V1=2000; #in^3\n",
    "# initial temperature of cylinder:\n",
    "T1=100; #deg F\n",
    "# final volume of cylinder:\n",
    "V2=1500; #in^3\n",
    "# final temperature of cylinder:\n",
    "T2=200; #deg F\n",
    "# Solution:\n",
    "# final pressure in the cylinder,\n",
    "# General Gas Law, \n",
    "p2=((p1+14.7)*V1*(T2+460))/(V2*(T1+460))-14.7; #psig\n",
    "\n",
    "# Results:\n",
    "print\"\\n  Results:  \"  \n",
    "print\"\\n The final pressure in the cylinder is psig.\",round(p2,1)\n",
    "\n"
   ]
  },
  {
   "cell_type": "markdown",
   "metadata": {},
   "source": [
    "## Example 13.5 pgno:475"
   ]
  },
  {
   "cell_type": "code",
   "execution_count": 5,
   "metadata": {
    "collapsed": false
   },
   "outputs": [
    {
     "name": "stdout",
     "output_type": "stream",
     "text": [
      "\n",
      "  Results:  \n",
      "\n",
      " The final pressure in the cylinder is  bars absolute. 111.5\n"
     ]
    }
   ],
   "source": [
    "# Aim:To find final pressure in the cylinder in SI units\n",
    "# Given:\n",
    "# initial gas pressure:\n",
    "p1=70; #bar\n",
    "# initial volume of cylinder:\n",
    "V1=12900; #cm**3\n",
    "# initial temperature of cylinder:\n",
    "T1=37.8; #deg C\n",
    "# final volume of cylinder:\n",
    "V2=9680; #cm**3\n",
    "# final temperature of cylinder:\n",
    "T2=93.3; #deg C\n",
    "\n",
    "# Solution:\n",
    "# final pressure in the cylinder in absolute units,\n",
    "# General Gas Law, \n",
    "p2=(((p1+1)*10**5*V1*(T2+273))/(V2*(T1+273)))/10**5; #bars\n",
    "\n",
    "# Results:\n",
    "print\"\\n  Results:  \" \n",
    "print\"\\n The final pressure in the cylinder is  bars absolute.\",round(p2,1)\n"
   ]
  },
  {
   "cell_type": "markdown",
   "metadata": {},
   "source": [
    "## Example 13.6 pgno:483"
   ]
  },
  {
   "cell_type": "code",
   "execution_count": 6,
   "metadata": {
    "collapsed": false
   },
   "outputs": [
    {
     "name": "stdout",
     "output_type": "stream",
     "text": [
      "\n",
      "  Results:  \n",
      "\n",
      " The cfm of free air compressor must be provided is  cfm of free air. 275.0\n"
     ]
    }
   ],
   "source": [
    "# Aim:To find how many cfm of free air compressor must be provided\n",
    "# Given:\n",
    "# flow-rate of air from receiver:\n",
    "Q2=30.0; #cfm\n",
    "# temperature of air from receiver:\n",
    "T2=90.0; #deg F\n",
    "# pressure of air coming from receiver:\n",
    "p2=125.0; #psig\n",
    "# atmospheric temperature:\n",
    "T1=70.00; #deg F\n",
    "# atmospheric pressure:\n",
    "p1=14.7; #psig \n",
    "\n",
    "# Solution:\n",
    "# cfm of free air compressor must be provided,\n",
    "Q1=Q2*((p2+14.7)/14.7)*((T1+460)/(T2+460)); #cfm\n",
    "\n",
    "# Results:\n",
    "print\"\\n  Results:  \"  \n",
    "print\"\\n The cfm of free air compressor must be provided is  cfm of free air.\",round(Q1,0)"
   ]
  },
  {
   "cell_type": "markdown",
   "metadata": {},
   "source": [
    "## Example 13.7 pgno:484"
   ]
  },
  {
   "cell_type": "code",
   "execution_count": 7,
   "metadata": {
    "collapsed": false
   },
   "outputs": [
    {
     "name": "stdout",
     "output_type": "stream",
     "text": [
      "\n",
      "  Results:  \n",
      "\n",
      " The required size of a receiver before compressor resumes operation is  gal. 659.7\n",
      "\n",
      " The required size of a receiver when compressor is running  gal. 494.8\n"
     ]
    }
   ],
   "source": [
    "# Aim:Refer Example 13-7 for Problem Description\n",
    "# Given:\n",
    "# maximum pressure level in receiver:\n",
    "p_max=100; #psi\n",
    "# minimum pressure level in receiver:\n",
    "p_min=80; #psi\n",
    "# time that receiver can supply required amount of air:\n",
    "t=6; #min\n",
    "# consumption rate of pneumatic system:\n",
    "Qr=20; #scfm\n",
    "# output flow-rate of compressor:\n",
    "Qc=5; #scfm\n",
    "# Solution:\n",
    "# required size of a receiver before compressor resumes operation,\n",
    "Vr=((14.7*t*(Qr-0))/(p_max-p_min))*7.48; #gal\n",
    "# required size of a receiver when compressor is running,\n",
    "Vr_run=((14.7*t*(Qr-Qc))/(p_max-p_min))*7.48; #gal\n",
    "\n",
    "# Results:\n",
    "print\"\\n  Results:  \"   \n",
    "print\"\\n The required size of a receiver before compressor resumes operation is  gal.\",round(Vr,1)\n",
    "print\"\\n The required size of a receiver when compressor is running  gal.\",round(Vr_run,1)\n"
   ]
  },
  {
   "cell_type": "markdown",
   "metadata": {},
   "source": [
    "## Example 13.8 pgno:485"
   ]
  },
  {
   "cell_type": "code",
   "execution_count": 8,
   "metadata": {
    "collapsed": false
   },
   "outputs": [
    {
     "name": "stdout",
     "output_type": "stream",
     "text": [
      "\n",
      "  Results:  \n",
      "\n",
      " The actual power required to drive a compressor is  HP. 24.0\n"
     ]
    }
   ],
   "source": [
    "# Aim:To determine actual power required to drive a compressor\n",
    "# Given:\n",
    "# input flow-rate of air through compressor:\n",
    "Q=100.0; #scfm\n",
    "# inlet atmospheric pressure:\n",
    "p_in=14.7; #psig\n",
    "# outlet pressure:\n",
    "p_out=114.7; #psig\n",
    "# overall efficiency of compressor:\n",
    "eff=75.0; #%\n",
    "\n",
    "# Solution:\n",
    "# theoretical horsepower,\n",
    "HP_theo=((p_in*Q)/65.4)*((p_out/p_in)**0.286-1); #HP\n",
    "# actual horsepower,\n",
    "HP_act=HP_theo/(eff/100); #HP\n",
    "\n",
    "\n",
    "# Results:\n",
    "print\"\\n  Results:  \"   \n",
    "print\"\\n The actual power required to drive a compressor is  HP.\",round(HP_act)\n"
   ]
  },
  {
   "cell_type": "markdown",
   "metadata": {},
   "source": [
    "## Example 13.9 pgno:495"
   ]
  },
  {
   "cell_type": "code",
   "execution_count": 9,
   "metadata": {
    "collapsed": false
   },
   "outputs": [
    {
     "name": "stdout",
     "output_type": "stream",
     "text": [
      "\n",
      "  Results:  \n",
      "\n",
      " The number of gallons/day received by pneumatic system is  gal/day 9.09\n",
      "\n",
      " The moisture received by pneumatic system if aftercooler is installed is  gal/day 1.15\n",
      "\n",
      " The moisture received by pneumatic system if air dryer is installed is  gal/day 0.29\n"
     ]
    }
   ],
   "source": [
    "# Aim:Refer Example 13-9 for Problem Description\n",
    "# Given:\n",
    "# output flow-rate of compressor:\n",
    "Qc=100.0; #scfm\n",
    "# pressure at compressor outlet:\n",
    "p_out=100.0; #psig\n",
    "# temperature of saturated air at compressor inlet:\n",
    "T_in=80.0; #deg F\n",
    "# operation time of compressor per day:\n",
    "t=8.0; #hr/day\n",
    "\n",
    "# Solution:\n",
    "# from fig 13-29,\n",
    "# entering moistue content at 80 deg F,\n",
    "moist_in=1.58/1000; #lb/ft**3\n",
    "# moisture rate which enters the compressor,\n",
    "moist_rate=moist_in*Qc; #lb/min\n",
    "# number of gallons/day received by pneumatic system,\n",
    "gal_per_day=(moist_rate*60*t)/8.34; #gal/day\n",
    "# moisture received by pneumatic system if aftercooler is installed,\n",
    "# from fig 13-29,\n",
    "moist_after=(1-((1.58-0.2)/1.58))*gal_per_day; #gal/day\n",
    "# moisture received by pneumatic system if air dryer is installed,\n",
    "# from fig 13-29,\n",
    "moist_air_dryer=(1-((1.58-0.05)/1.58))*gal_per_day; #gal/day\n",
    "\n",
    "# Results:\n",
    "print\"\\n  Results:  \"\n",
    "print\"\\n The number of gallons/day received by pneumatic system is  gal/day\",round(gal_per_day,2)\n",
    "print\"\\n The moisture received by pneumatic system if aftercooler is installed is  gal/day\",round(moist_after,2)\n",
    "print\"\\n The moisture received by pneumatic system if air dryer is installed is  gal/day\",round(moist_air_dryer,2)"
   ]
  },
  {
   "cell_type": "markdown",
   "metadata": {},
   "source": [
    "## Example 13.10 pgno:498"
   ]
  },
  {
   "cell_type": "code",
   "execution_count": 10,
   "metadata": {
    "collapsed": false
   },
   "outputs": [
    {
     "name": "stdout",
     "output_type": "stream",
     "text": [
      "\n",
      "  Results:  \n",
      "\n",
      " The maximum flow-rate is scfm of air 341.0\n"
     ]
    }
   ],
   "source": [
    "# Aim:To determine maximum flow-rate in units of scfm of air\n",
    "# Given:\n",
    "# upstream temperature:\n",
    "T1=80.0; #deg F\n",
    "# upstream pressure:\n",
    "p1=80.0; #psi\n",
    "# flow capacity constant:\n",
    "Cv=7.4; \n",
    "# diameter of orifice:\n",
    "d=0.5; #in\n",
    "from math import floor\n",
    "\n",
    "\n",
    "# Solution:\n",
    "# upstream temperature in Rankine,\n",
    "T1=T1+460; #deg R\n",
    "# absolute upstream pressure,\n",
    "p1=p1+14.7; #psia\n",
    "# for maximum flow-rate,\n",
    "# absolute downstream pressure,\n",
    "p2=0.53*p1; #psia\n",
    "# volume flow-rate,\n",
    "Q=floor(22.7*Cv*(((p1-p2)*p2)/T1)**0.5); #scfm\n",
    "\n",
    "# Results:\n",
    "print\"\\n  Results:  \"\n",
    "print\"\\n The maximum flow-rate is scfm of air\",Q\n",
    "\n"
   ]
  },
  {
   "cell_type": "markdown",
   "metadata": {},
   "source": [
    "## Example 13.11 pgno:506"
   ]
  },
  {
   "cell_type": "code",
   "execution_count": 11,
   "metadata": {
    "collapsed": false
   },
   "outputs": [
    {
     "name": "stdout",
     "output_type": "stream",
     "text": [
      "\n",
      "  Results:  \n",
      "\n",
      " The flow capacity constant is  1.38\n"
     ]
    }
   ],
   "source": [
    "# Aim:To determine size valve (Cv) for pneumatically powered impact tool\n",
    "# Given:\n",
    "# volume flow-rate of air:\n",
    "Q=50; #scfm\n",
    "# downstream pressure:\n",
    "p2=100; #psi\n",
    "# pressure drop across valve:\n",
    "del_p=12; #psi\n",
    "# upstream air temperature:\n",
    "T1=80; #deg F\n",
    "\n",
    "# Solution:\n",
    "# upstream temperature in Rankine,\n",
    "T1=T1+460; #deg R\n",
    "# absolute downstream pressure,\n",
    "p2=p2+14.7; #psia\n",
    "# flow capacity constant,\n",
    "Cv=(Q/22.7)*((T1/(p2*del_p))**0.5);\n",
    "\n",
    "# Results:\n",
    "print\"\\n  Results:  \"   \n",
    "print\"\\n The flow capacity constant is \",round(Cv,2)\n"
   ]
  },
  {
   "cell_type": "markdown",
   "metadata": {},
   "source": [
    "## Example 13.12 pgno:511"
   ]
  },
  {
   "cell_type": "code",
   "execution_count": 12,
   "metadata": {
    "collapsed": false
   },
   "outputs": [
    {
     "name": "stdout",
     "output_type": "stream",
     "text": [
      "\n",
      "  Results:  \n",
      "\n",
      " The air consumption rate in scfm is  2.0\n"
     ]
    }
   ],
   "source": [
    "# Aim:To determine the air-consumption rate in scfm\n",
    "# Given:\n",
    "# piston diameter of pneumatic cylinder:\n",
    "d=1.75; #in\n",
    "# stroke length of cylinder:\n",
    "L=6.0; #in\n",
    "# number of cycles per minute:\n",
    "N=30.0; #cycles/min\n",
    "# atmospheric temperature:\n",
    "T1=68.0; #deg F\n",
    "# atmospheric pressure:\n",
    "p1=14.7; #psia\n",
    "# temperature of air in pneumatic cylinder:\n",
    "T2=80.0; #deg F\n",
    "# pneumatic cylinder pressure:\n",
    "p2=100.0; #psig\n",
    "from math import pi\n",
    "# Solution:\n",
    "# atmospheric temperature in deg Rankine,\n",
    "T1=T1+460; #deg R\n",
    "# temperature of air in deg Rankine in pneumatic cylinder,\n",
    "T2=T2+460; #deg R\n",
    "# absolute pneumatic cylinder pressure,\n",
    "p2=p2+14.7; #psia\n",
    "# the volume per minute of air consumed by cylinder,\n",
    "Q2=(pi/4)*(d/12)**2*(L/12)*N; #ft**3/min\n",
    "# air consumption rate,\n",
    "Q1=Q2*(p2/p1)*(T1/T2); #scfm\n",
    "\n",
    "# Results:\n",
    "print\"\\n  Results:  \"\n",
    "print\"\\n The air consumption rate in scfm is \",round(Q1,0)\n"
   ]
  },
  {
   "cell_type": "markdown",
   "metadata": {},
   "source": [
    "## Example 13.3 pgno:513"
   ]
  },
  {
   "cell_type": "code",
   "execution_count": 13,
   "metadata": {
    "collapsed": false
   },
   "outputs": [
    {
     "name": "stdout",
     "output_type": "stream",
     "text": [
      "\n",
      "  Results:  \n",
      "\n",
      " The reciprocation rate of piston is  cycles/min. 30.0\n"
     ]
    }
   ],
   "source": [
    "# Aim:To determine the piston reciprocation rate\n",
    "# Given:\n",
    "# piston diameter of pneumatic cylinder:\n",
    "d=44.5; #mm\n",
    "# stroke length of cylinder:\n",
    "L=152.0; #mm\n",
    "# atmospheric temperature:\n",
    "T1=20.0; #deg C\n",
    "# atmospheric pressure:\n",
    "p1=101.0; #kPa\n",
    "# temperature of air in pneumatic cylinder:\n",
    "T2=27.0; #deg C\n",
    "# pneumatic cylinder pressure:\n",
    "p2=687.0; #kPa\n",
    "# air consumption rate:\n",
    "Q1=0.0555; #m**3/min\n",
    "from math import floor\n",
    "from math import pi\n",
    "# Solution:\n",
    "# atmospheric temperature in kelvin,\n",
    "T1=T1+273; #K\n",
    "# temperature of air in kelvin in pneumatic cylinder,\n",
    "T2=T2+273; #K\n",
    "# absolute pneumatic cylinder pressure,\n",
    "p2=p2+101; #kPa abs\n",
    "# flow-rate of air consumed by cylinder,\n",
    "Q2=Q1*(p1/p2)*(T2/T1); #m**3/min\n",
    "# reciprocation rate of piston,\n",
    "N=floor(Q2/((pi/4)*(d/1000)**2*(L/1000))); #cycles/min\n",
    "\n",
    "# Results:\n",
    "print\"\\n  Results:  \"   \n",
    "print\"\\n The reciprocation rate of piston is  cycles/min.\",N\n"
   ]
  },
  {
   "cell_type": "code",
   "execution_count": null,
   "metadata": {
    "collapsed": true
   },
   "outputs": [],
   "source": []
  }
 ],
 "metadata": {
  "kernelspec": {
   "display_name": "Python 2",
   "language": "python",
   "name": "python2"
  },
  "language_info": {
   "codemirror_mode": {
    "name": "ipython",
    "version": 2
   },
   "file_extension": ".py",
   "mimetype": "text/x-python",
   "name": "python",
   "nbconvert_exporter": "python",
   "pygments_lexer": "ipython2",
   "version": "2.7.9"
  }
 },
 "nbformat": 4,
 "nbformat_minor": 0
}
