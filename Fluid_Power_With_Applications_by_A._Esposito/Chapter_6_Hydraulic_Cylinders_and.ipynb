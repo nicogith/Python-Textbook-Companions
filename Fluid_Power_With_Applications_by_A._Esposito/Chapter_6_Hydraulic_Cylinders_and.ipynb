{
 "cells": [
  {
   "cell_type": "markdown",
   "metadata": {},
   "source": [
    "# Chapter 6: Hydraulic Cylinders and Cushioning Devices"
   ]
  },
  {
   "cell_type": "markdown",
   "metadata": {},
   "source": [
    "## Example 6.1 pgno:219"
   ]
  },
  {
   "cell_type": "code",
   "execution_count": 2,
   "metadata": {
    "collapsed": false
   },
   "outputs": [
    {
     "name": "stdout",
     "output_type": "stream",
     "text": [
      "\n",
      "  Results:  \n",
      "\n",
      " The hydraulic pressure during the extending stroke is  psi. 318.0\n",
      "\n",
      " The piston velocity during the extending stroke is  ft/s. 2.05\n",
      "\n",
      " The cylinder horsepower during the extending stroke is  HP. 3.72\n",
      "\n",
      " The hydraulic pressure during the retraction stroke is  psi. 425.0\n",
      "\n",
      " The piston velocity during the retraction stroke is  ft/s. 2.73\n",
      "\n",
      " The cylinder horsepower during the retraction stroke is  HP. 4.96\n"
     ]
    }
   ],
   "source": [
    "# Aim:Refer Example 6-1 for Problem Description \n",
    "# Given:\n",
    "# Flow rate of pump:\n",
    "Q_in=20.0; #gpm\n",
    "# Bore diameter of Cylinder:\n",
    "D=2.0; #in\n",
    "# Load during extending and retracting:\n",
    "F_ext=1000.0; #lb\n",
    "F_ret=1000.0; #lb\n",
    "# Rod diameter of cylinder:\n",
    "d=1.0; #in\n",
    "import math \n",
    "from math import pi\n",
    "from math import floor\n",
    "from math import ceil\n",
    "\n",
    "\n",
    "# Solution:\n",
    "# Area of blank end of piston,\n",
    "Ap=(pi/4)*(D**2); #in**2\n",
    "# Area of rod end of piston,\n",
    "Ar=(pi/4)*(d**2); #in**2\n",
    "# hydraulic pressure during the extending stroke,\n",
    "p_ext=F_ext/Ap; #psi\n",
    "# piston velocity during the extending stroke,\n",
    "v_ext=(Q_in/449)/(Ap/144); #ft/s\n",
    "# rounding off the above answer\n",
    "v_ext=round(v_ext)+(round(ceil((v_ext-round(v_ext))*100))/100); #ft/s\n",
    "# cylinder horsepower during the extending stroke,\n",
    "HP_ext=(v_ext*F_ext)/550; #HP\n",
    "# rounding off the above answer\n",
    "HP_ext=round(HP_ext)+(round(floor((HP_ext-round(HP_ext))*100))/100); #HP\n",
    "# hydraulic pressure during the retraction stroke,\n",
    "p_ret=ceil(F_ret/(Ap-Ar)); #psi\n",
    "# piston velocity during the retraction stroke,\n",
    "v_ret=(Q_in/449)/((Ap-Ar)/144); #ft/s;\n",
    "# rounding off the above answer\n",
    "v_ret=round(v_ret)+(round(ceil((v_ret-round(v_ret))*100))/100); #ft/s\n",
    "# cylinder horsepower during the retraction stroke,\n",
    "HP_ret=(v_ret*F_ret)/550; #HP\n",
    "\n",
    "# Results:\n",
    "print\"\\n  Results:  \"   \n",
    "print\"\\n The hydraulic pressure during the extending stroke is  psi.\",round(p_ext)\n",
    "print\"\\n The piston velocity during the extending stroke is  ft/s.\",v_ext\n",
    "print\"\\n The cylinder horsepower during the extending stroke is  HP.\",HP_ext\n",
    "print\"\\n The hydraulic pressure during the retraction stroke is  psi.\",p_ret\n",
    "print\"\\n The piston velocity during the retraction stroke is  ft/s.\",v_ret\n",
    "print\"\\n The cylinder horsepower during the retraction stroke is  HP.\",round(HP_ret,2)\n"
   ]
  },
  {
   "cell_type": "markdown",
   "metadata": {},
   "source": [
    "## Example 6.2 pgno:221"
   ]
  },
  {
   "cell_type": "code",
   "execution_count": 3,
   "metadata": {
    "collapsed": false
   },
   "outputs": [
    {
     "name": "stdout",
     "output_type": "stream",
     "text": [
      "\n",
      "  Results:  \n",
      "\n",
      " The Cylinder Force at constant velocity is  lb. 840.0\n"
     ]
    }
   ],
   "source": [
    "# Aim:Refer Example 6-2 for Problem Description \n",
    "# Given:\n",
    "# Weight of Body:\n",
    "W=6000; #lb\n",
    "# coefficient of friction between weight and horizontal support:\n",
    "CF=0.14; \n",
    "\n",
    "\n",
    "  \t# Solution:\n",
    "# Cylinder Force,\n",
    "F=CF*W; #lb\n",
    "\n",
    "# Results:\n",
    "print\"\\n  Results:  \"   \n",
    "print\"\\n The Cylinder Force at constant velocity is  lb.\",F\n",
    "\n"
   ]
  },
  {
   "cell_type": "markdown",
   "metadata": {},
   "source": [
    "## Example 6.3 pgno:221"
   ]
  },
  {
   "cell_type": "code",
   "execution_count": 4,
   "metadata": {
    "collapsed": false
   },
   "outputs": [
    {
     "name": "stdout",
     "output_type": "stream",
     "text": [
      "\n",
      "  Results:  \n",
      "\n",
      " The Cylinder Force at constant velocity is  lb. 3000.0\n"
     ]
    }
   ],
   "source": [
    "# Aim:Refer Example 6-3 for Problem Description \n",
    "# Given:\n",
    "# Weight of Body:\n",
    "W=6000; #lb\n",
    "# Inclination of Weight:\n",
    "theta=30; #deg\n",
    "import math\n",
    "from math import pi\n",
    "from math import sin\n",
    "\n",
    "\n",
    "\n",
    "\n",
    "# Solution:\n",
    "# Inclination of Weight,\n",
    "theta=(theta*pi)/180; #rad\n",
    "# Cylinder Force,\n",
    "F=W*sin(theta); #lb\n",
    "\n",
    "# Results:\n",
    "print\"\\n  Results:  \"   \n",
    "print\"\\n The Cylinder Force at constant velocity is  lb.\",F\n"
   ]
  },
  {
   "cell_type": "markdown",
   "metadata": {},
   "source": [
    "## Example6.4  pgno:222"
   ]
  },
  {
   "cell_type": "code",
   "execution_count": 5,
   "metadata": {
    "collapsed": false
   },
   "outputs": [
    {
     "name": "stdout",
     "output_type": "stream",
     "text": [
      "\n",
      "  Results:  \n",
      "\n",
      " The Cylinder Force at constant velocity is  lb. 6000.0\n",
      "\n",
      " The Cylinder Force required to accelerate the Body is  lb. 8981.0\n",
      "\n",
      " The answer in the program is different than that in textbook. It may be due to no.s of significant digit in data and calculation\n"
     ]
    }
   ],
   "source": [
    "# Aim:Refer Example 6-4 for Problem Description \n",
    "# Given:\n",
    "# Weight of Body:\n",
    "W=6000.0; #lb\n",
    "# initial velocity:\n",
    "u=0; #ft/s\n",
    "# final velocity:\n",
    "v=8.0; #ft/s\n",
    "# Time taken:\n",
    "t=0.5; #s\n",
    "\n",
    "\n",
    "\n",
    "\n",
    "# Solution:\n",
    "# For constant velocity,Cylinder Force,\n",
    "F=W; #lb\n",
    "# Rate of change of velocity,\n",
    "a=(v-u)/t; #ft/s^2\n",
    "# Force required to accelerate the weight,\n",
    "F_acc=(F/32.2)*a; #lb\n",
    "# Therefore, Cylinder Force,\n",
    "F_cyl=(F+F_acc); #lb\n",
    "\n",
    "# Results:\n",
    "print\"\\n  Results:  \"  \n",
    "print\"\\n The Cylinder Force at constant velocity is  lb.\",F\n",
    "print\"\\n The Cylinder Force required to accelerate the Body is  lb.\",round(F_cyl)\n",
    "print\"\\n The answer in the program is different than that in textbook. It may be due to no.s of significant digit in data and calculation\"\n"
   ]
  },
  {
   "cell_type": "markdown",
   "metadata": {},
   "source": [
    "## Example 6.5 pgno:227"
   ]
  },
  {
   "cell_type": "code",
   "execution_count": 6,
   "metadata": {
    "collapsed": false
   },
   "outputs": [
    {
     "name": "stdout",
     "output_type": "stream",
     "text": [
      "\n",
      "  Results:  \n",
      "\n",
      " The Cylinder Force using First Class lever System is  lb. 1000.0\n",
      "\n",
      " The Cylinder Force using Second Class lever System is  lb. 500.0\n",
      "\n",
      " The Cylinder Force using Third Class lever System is  lb. 2000.0\n"
     ]
    }
   ],
   "source": [
    "# Aim:Refer Example 6-5 for Problem Description\n",
    "# Given:\n",
    "L1=10; #in\n",
    "L2=10; #in\n",
    "# Inclination of cylinder axis with vertical axis:\n",
    "phi=0; #deg\n",
    "# cylinder load:\n",
    "F_load=1000; #lb\n",
    "import math\n",
    "from math import pi\n",
    "from math import cos\n",
    "\n",
    "# Solution:\n",
    "# Inclination of cylinder axis with vertical axis,\n",
    "phi=(phi*pi)/180; #rad\n",
    "# cylinder force required to overcome load using First Class Lever Sytem,\n",
    "F_cyl_1=(L2*F_load)/(L1*cos(phi)); #lb\n",
    "# cylinder force required to overcome load using Second Class Lever Sytem,\n",
    "F_cyl_2=(L2*F_load)/((L1+L2)*cos(phi)); #lb\n",
    "# cylinder force required to overcome load using Third Class Lever Sytem,\n",
    "F_cyl_3=((L1+L2)*F_load)/(L2*cos(phi)); #lb\n",
    "\n",
    "# Results:\n",
    "print\"\\n  Results:  \"  \n",
    "print\"\\n The Cylinder Force using First Class lever System is  lb.\",F_cyl_1\n",
    "print\"\\n The Cylinder Force using Second Class lever System is  lb.\",F_cyl_2\n",
    "print\"\\n The Cylinder Force using Third Class lever System is  lb.\",F_cyl_3\n",
    "\n"
   ]
  },
  {
   "cell_type": "markdown",
   "metadata": {},
   "source": [
    "## Example 6.6 pgno:230"
   ]
  },
  {
   "cell_type": "code",
   "execution_count": 7,
   "metadata": {
    "collapsed": false
   },
   "outputs": [
    {
     "name": "stdout",
     "output_type": "stream",
     "text": [
      "\n",
      "  Results:  \n",
      "\n",
      " The maximum pressure developed by the cushion is  psi. 856.0\n"
     ]
    }
   ],
   "source": [
    "# Aim:Refer Example 6-6 for Problem Description \n",
    "# Given:\n",
    "# Flow rate of pump:\n",
    "Q_pump=18.2; #gpm\n",
    "# Diameter of blank end of piston:\n",
    "D=3.0; #in\n",
    "# Diameter of cushion plunger:\n",
    "D_cush=1.0; #in\n",
    "# Stroke of cushion plunger:\n",
    "L_cush=0.75; #in\n",
    "# Distance Piston decelerates at the end of extending stroke:\n",
    "L=0.75; #in\n",
    "# Weight of Body:\n",
    "W=1500.0; #lb\n",
    "# coefficient of friction:\n",
    "CF=0.12;\n",
    "# Pressure relief valve settings:\n",
    "p_relf=750.0; #psi\n",
    "# maximum pressure at the Blank end:\n",
    "p1=750.0; #psi\n",
    "\n",
    "\n",
    "from math import pi\n",
    "\n",
    "\n",
    "\n",
    "\n",
    "\n",
    "# Solution:\n",
    "# Area of blank end of piston,\n",
    "A_piston=(pi/4)*(D**2); #in**2\n",
    "# piston velocity prior to deceleration,\n",
    "v=(Q_pump/449)/(A_piston/144); #ft/s\n",
    "# deceleration of piston at the end of extending stroke,\n",
    "a=(v**2)/(2*(L/12)); #ft/s**2\n",
    "# Area of cushion plunger,\n",
    "A_cush=(pi/4)*(D_cush**2); #in**2\n",
    "# maximum pressure developed by the cushion,\n",
    "p2=(((W*a)/32.2)+(p1*A_piston)-(CF*W))/(A_piston-A_cush); #psi\n",
    "\n",
    "# Results:\n",
    "print\"\\n  Results:  \"   \n",
    "print\"\\n The maximum pressure developed by the cushion is  psi.\",round(p2)\n",
    "\n"
   ]
  },
  {
   "cell_type": "code",
   "execution_count": null,
   "metadata": {
    "collapsed": true
   },
   "outputs": [],
   "source": []
  }
 ],
 "metadata": {
  "kernelspec": {
   "display_name": "Python 2",
   "language": "python",
   "name": "python2"
  },
  "language_info": {
   "codemirror_mode": {
    "name": "ipython",
    "version": 2
   },
   "file_extension": ".py",
   "mimetype": "text/x-python",
   "name": "python",
   "nbconvert_exporter": "python",
   "pygments_lexer": "ipython2",
   "version": "2.7.9"
  }
 },
 "nbformat": 4,
 "nbformat_minor": 0
}
