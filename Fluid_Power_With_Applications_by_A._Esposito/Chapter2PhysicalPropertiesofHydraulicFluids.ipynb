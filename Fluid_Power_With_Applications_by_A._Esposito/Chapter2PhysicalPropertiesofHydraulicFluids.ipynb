{
 "cells": [
  {
   "cell_type": "markdown",
   "metadata": {},
   "source": [
    "# Chapter 2:Physical Properties of Hydraulic Fluids "
   ]
  },
  {
   "cell_type": "markdown",
   "metadata": {},
   "source": [
    "## Example 2.1 pgno:42"
   ]
  },
  {
   "cell_type": "code",
   "execution_count": 21,
   "metadata": {
    "collapsed": false
   },
   "outputs": [
    {
     "name": "stdout",
     "output_type": "stream",
     "text": [
      "the weight is 129.0\n"
     ]
    }
   ],
   "source": [
    "# Aim:To Find Weight of Body\n",
    "# Given:\n",
    "# Mass of the Body:\n",
    "m=4; #slugs\n",
    "\n",
    "# Solutions:\n",
    "# we know acceleration due to gravity,\n",
    "g=32.2; #ft/s**2\n",
    "W=(m*g);\n",
    "\n",
    "# Results:\n",
    "print  \"the weight is\",round(W)\n"
   ]
  },
  {
   "cell_type": "markdown",
   "metadata": {},
   "source": [
    "## Example 2.2 pgno:43"
   ]
  },
  {
   "cell_type": "code",
   "execution_count": 3,
   "metadata": {
    "collapsed": false
   },
   "outputs": [
    {
     "name": "stdout",
     "output_type": "stream",
     "text": [
      " Results:  \n",
      " The specific weight of Body is lb/ft**3. 71.7\n"
     ]
    }
   ],
   "source": [
    "# Aim:To find the specific weight of a body\n",
    "# Given:\n",
    "# Weigth of the Body:\n",
    "W=129; #lb\n",
    "# Volume of the Body:\n",
    "V=1.8; #ft**3\n",
    "\n",
    "# Solution:\n",
    "# we know specific weight,\n",
    "# gamma=(Weigth of the Body/Volume of the Body)\n",
    "gamma1=(W/V); #lb/ft^3\n",
    "# rounding off the above answer\n",
    "#gamma1=round(gamma1)+(round((gamma1-round(gamma1))*10)/10); #lb/ft^3\n",
    "   \n",
    "# Results:\n",
    "print \" Results:  \"\n",
    "print \" The specific weight of Body is lb/ft**3.\",round(gamma1,1)\n"
   ]
  },
  {
   "cell_type": "markdown",
   "metadata": {},
   "source": [
    "## Example 2.3 pgno:44"
   ]
  },
  {
   "cell_type": "code",
   "execution_count": 4,
   "metadata": {
    "collapsed": false
   },
   "outputs": [
    {
     "name": "stdout",
     "output_type": "stream",
     "text": [
      "Results:  \n",
      "The specific gravity of air  0.00121\n"
     ]
    }
   ],
   "source": [
    "# Aim:To find the specific gravity of air at 68 degF\n",
    "# Given:\n",
    "# specific weight of air at 68 degF:\n",
    "gamma_air=0.0752; #lb/ft**3\n",
    "\n",
    "\n",
    "# Solution:\n",
    "# we know,\n",
    "# specific gravity of air=(specific weight of air/specific weight of water)\n",
    "# also we know,specific weight of water at 68 degF,\n",
    "gamma_water=62.4; #lb/ft**3\n",
    "SG_air=gamma_air/gamma_water;\n",
    "\n",
    "# Results:\n",
    "print  \"Results:  \"\n",
    "print  \"The specific gravity of air \",round(SG_air,5) \n",
    "\n"
   ]
  },
  {
   "cell_type": "markdown",
   "metadata": {},
   "source": [
    "## Example 2.4 pgno:45"
   ]
  },
  {
   "cell_type": "code",
   "execution_count": 5,
   "metadata": {
    "collapsed": false
   },
   "outputs": [
    {
     "name": "stdout",
     "output_type": "stream",
     "text": [
      "  Results:  \n",
      "The Density of Body is  slugs/ft**3. 2.22\n",
      " The Density of Body is  slugs/ft**3. 2.22\n"
     ]
    }
   ],
   "source": [
    "# Aim:To find Density of body of Example 2-1 and 2-2\n",
    "# Given:\n",
    "# mass of the Body:\n",
    "m=4; #slugs\n",
    "# Volume of the Body:\n",
    "V=1.8; #ft**3\n",
    "\n",
    "# Solution:\n",
    "# we know density,\n",
    "# rho1=(mass of the Body/Volume of the Body)\n",
    "rho1=(m/V); #slugs/ft**3\n",
    "# also density,rho2=(specific weight/acceleration due to gravity)\n",
    "g=32.2; #ft/s**2\n",
    "gamma1=71.6; #lb/ft**3\n",
    "rho2=(gamma1/g); #slugs/ft**3\n",
    "\n",
    "# Results:\n",
    "print \"  Results:  \"\n",
    "print  \"The Density of Body is  slugs/ft**3.\",round(rho1,2)\n",
    "print \" The Density of Body is  slugs/ft**3.\",round(rho2,2)\n"
   ]
  },
  {
   "cell_type": "markdown",
   "metadata": {},
   "source": [
    "## Example 2.5 pgno:48"
   ]
  },
  {
   "cell_type": "code",
   "execution_count": 6,
   "metadata": {
    "collapsed": false
   },
   "outputs": [
    {
     "name": "stdout",
     "output_type": "stream",
     "text": [
      "  Results:  \n",
      " The pressure on skin diver is  psi. 26.0\n"
     ]
    }
   ],
   "source": [
    "# Aim:To find pressure on the skin diver\n",
    "# Given:\n",
    "# Depth of Water Body:\n",
    "H=60; #ft\n",
    "\n",
    "# Solution:\n",
    "# specific Weight of water,\n",
    "gamma1=0.0361; #lb/in**3 \n",
    "# Conversion: \n",
    "# 1 feet = 12 inches\n",
    "# 1 lb/in**2 = 1 psi            \n",
    "# we know pressure,\n",
    "# p=(specific weight of liquid * liquid column height)\n",
    "p=(gamma1*H*12); #psi\n",
    "\n",
    "# Results:\n",
    "print \"  Results:  \"\n",
    "print \" The pressure on skin diver is  psi.\",round(p)\n"
   ]
  },
  {
   "cell_type": "markdown",
   "metadata": {},
   "source": [
    "## Example 2.6 pgno:50"
   ]
  },
  {
   "cell_type": "code",
   "execution_count": 7,
   "metadata": {
    "collapsed": false
   },
   "outputs": [
    {
     "name": "stdout",
     "output_type": "stream",
     "text": [
      " Results:  \n",
      " The Height of water column is  ft. 34.0\n"
     ]
    }
   ],
   "source": [
    "# Aim:To find tube height of a Barometer\n",
    "# Given:\n",
    "# liquid used is Water instead of Mercury.\n",
    "\n",
    "# Solution:\n",
    "# specific Weight of water,\n",
    "gamma1=0.0361; #lb/in**3 \n",
    "# We also knows Atmospheric Pressure,\n",
    "p=14.7; #psi\n",
    "# Conversion: \n",
    "# 1 feet = 12 inches\n",
    "# 1 lb/in**2 = 1 psi            \n",
    "# we know pressure,\n",
    "# p=(specific weight of liquid * liquid column height)\n",
    "# Therefore,\n",
    "H=(p/gamma1); #in\n",
    "# He=Height in Feet.\n",
    "He=H*0.083; #ft\n",
    "\n",
    "# Results:\n",
    "print \" Results:  \"\n",
    "print \" The Height of water column is  ft.\",round(He,0)\n"
   ]
  },
  {
   "cell_type": "markdown",
   "metadata": {},
   "source": []
  },
  {
   "cell_type": "markdown",
   "metadata": {},
   "source": [
    "\n",
    "\n"
   ]
  },
  {
   "cell_type": "markdown",
   "metadata": {},
   "source": [
    "## Example 2.7 pgno:51"
   ]
  },
  {
   "cell_type": "code",
   "execution_count": 8,
   "metadata": {
    "collapsed": false
   },
   "outputs": [
    {
     "name": "stdout",
     "output_type": "stream",
     "text": [
      "  Results:  \n",
      " The Absolute Pressure is  psi. 9.7\n"
     ]
    }
   ],
   "source": [
    "# Aim:To convert given pressure into absolute pressure\n",
    "# Given:\n",
    "# Gage Pressure:\n",
    "Pg=-5; #psi\n",
    "\n",
    "# Solution:\n",
    "# Atmospheric Pressure,\n",
    "Po=14.7; #psi           \n",
    "# Absolute Pressure(Pa) =Gage Pressure + Atmospheric Pressure\n",
    "Pa=Pg+Po;\n",
    "\n",
    "# Results:\n",
    "print \"  Results:  \"\n",
    "print \" The Absolute Pressure is  psi.\",Pa\n"
   ]
  },
  {
   "cell_type": "markdown",
   "metadata": {},
   "source": [
    "## example 2.8 pgno:51"
   ]
  },
  {
   "cell_type": "code",
   "execution_count": 9,
   "metadata": {
    "collapsed": false
   },
   "outputs": [
    {
     "name": "stdout",
     "output_type": "stream",
     "text": [
      "  Results:  \n",
      "The Absolute Pressure is  psi. 40.7\n"
     ]
    }
   ],
   "source": [
    "# Aim:To find absolute pressure on skin diver of Example 2-5\n",
    "# Given:\n",
    "# Gage Pressure:\n",
    "Pg=26; #psi\n",
    "\n",
    "# Solution:\n",
    "# Atmospheric Pressure,\n",
    "Po=14.7; #psi           \n",
    "# Absolute Pressure(Pa) =Gage Pressure + Atmospheric Pressure\n",
    "Pa=Pg+Po; #psi\n",
    "\n",
    "# Results:\n",
    "print \"  Results:  \"\n",
    "print \"The Absolute Pressure is  psi.\",Pa\n"
   ]
  },
  {
   "cell_type": "markdown",
   "metadata": {},
   "source": [
    "## Example 2.9 pgno:56"
   ]
  },
  {
   "cell_type": "code",
   "execution_count": 11,
   "metadata": {
    "collapsed": false
   },
   "outputs": [
    {
     "name": "stdout",
     "output_type": "stream",
     "text": [
      "  Results:  \n",
      "The specific weights is  N/m**3. 8792\n",
      " The answer in the program is different than that in textbook. It may be due to no.s of significant digit in data and calculation\n"
     ]
    }
   ],
   "source": [
    "# Aim:To Determine specific weights in N/m**3\n",
    "# Given:\n",
    "# specific weight:\n",
    "gamma1=56; #lb/ft**3\n",
    "\n",
    "\n",
    "# Solution:\n",
    "# We know,\n",
    "# 1 N/m**3 = 157 lb/ft**3\n",
    "gamma2=157*gamma1; #N/m**3\n",
    "\n",
    "# Results:\n",
    "print \"  Results:  \"\n",
    "print \"The specific weights is  N/m**3.\",gamma2\n",
    "print \" The answer in the program is different than that in textbook. It may be due to no.s of significant digit in data and calculation\"\n"
   ]
  },
  {
   "cell_type": "markdown",
   "metadata": {},
   "source": [
    "## Example 2.10 pgno:56"
   ]
  },
  {
   "cell_type": "code",
   "execution_count": 10,
   "metadata": {
    "collapsed": false
   },
   "outputs": [
    {
     "name": "stdout",
     "output_type": "stream",
     "text": [
      " Results:  \n",
      " The temp at which Fahrenheit and Celsius values are equal is  deg. -40.0\n"
     ]
    }
   ],
   "source": [
    " # Aim:To find Temperature at which Fahrenheit and Celsius values are equal \n",
    "# Given:\n",
    "# T(degF) = T(degC)  #Eqn - 1\n",
    "\n",
    "# Solution:\n",
    "# We know that,\n",
    "# T(degF)=((1.8*T(degC))+32)  #Eqn - 2         \n",
    "# From Eqn 1 and 2\n",
    "# ((1.8*T(degC))+32)= T(degC)\n",
    "# (1-1.8)*T(degC)=32\n",
    "# -0.8*T(degC)=32\n",
    "TdegC=-32/0.8;\n",
    "\n",
    "# Results:\n",
    "print \" Results:  \"\n",
    "print \" The temp at which Fahrenheit and Celsius values are equal is  deg.\",TdegC\n"
   ]
  },
  {
   "cell_type": "markdown",
   "metadata": {},
   "source": [
    "## Example 2.11 pgno:57"
   ]
  },
  {
   "cell_type": "code",
   "execution_count": 12,
   "metadata": {
    "collapsed": false
   },
   "outputs": [
    {
     "name": "stdout",
     "output_type": "stream",
     "text": [
      " Results:  \n",
      " The change in volume of oil is  in^3. -0.076\n"
     ]
    }
   ],
   "source": [
    "# Aim:To find change in volume of the oil\n",
    "# Given:\n",
    "# Volume of original oil:\n",
    "V=10.0; #in^3\n",
    "# Initial Pressure:\n",
    "P1=100.0; #psi\n",
    "# Final pressure:\n",
    "P2=2000.0; #psi\n",
    "# Bulk Modullus:\n",
    "betaa=250000.0; #psi\n",
    "\n",
    "\n",
    "\n",
    "# Solution:\n",
    "# Change in pressure,\n",
    "delP=P2-P1; #psi\n",
    "# Change in volume,\n",
    "delV=-((V*delP)/betaa); #in^3 ,- sign indicates oil is being compressed\n",
    "\n",
    "# Results:\n",
    "print \" Results:  \"\n",
    "print \" The change in volume of oil is  in^3.\",delV\n",
    "\n"
   ]
  },
  {
   "cell_type": "markdown",
   "metadata": {},
   "source": [
    "## Example2.12 pgno:62"
   ]
  },
  {
   "cell_type": "code",
   "execution_count": 14,
   "metadata": {
    "collapsed": false
   },
   "outputs": [
    {
     "name": "stdout",
     "output_type": "stream",
     "text": [
      "  Results:  \n",
      " The viscosity of oil in centistokes is  cS. 50.0\n",
      " The viscosity of oil in centipoise is  cP. 45.0\n"
     ]
    }
   ],
   "source": [
    "# Aim:To find viscosity of oil in centistokes and centipoise\n",
    "# Given:\n",
    "# viscosity of oil:\n",
    "nu=230; #SUS at\n",
    "t=150; #degF.\n",
    "# specific gravity of oil:\n",
    "gamma1=0.9;\n",
    "# Solution:\n",
    "# kinematic viscosity of oil in centistokes,\n",
    "nu_cs=((0.220*nu)-(135/230)); #centistokes\n",
    "# absolute viscosity of oil in centipoise,\n",
    "mu_cp=(gamma1*nu_cs); #centipoise\n",
    "from math import floor\n",
    "# Results:\n",
    "print \"  Results:  \"\n",
    "print \" The viscosity of oil in centistokes is  cS.\",floor(nu_cs)\n",
    "print \" The viscosity of oil in centipoise is  cP.\",floor(mu_cp)\n"
   ]
  },
  {
   "cell_type": "markdown",
   "metadata": {},
   "source": [
    "## Example 2.13 pgno:62"
   ]
  },
  {
   "cell_type": "code",
   "execution_count": 15,
   "metadata": {
    "collapsed": false
   },
   "outputs": [
    {
     "name": "stdout",
     "output_type": "stream",
     "text": [
      " Results:  \n",
      " The viscosity of oil in centistokes is  cS. 25.0\n",
      " The viscosity of oil in centipoise is cP. 22.3\n"
     ]
    }
   ],
   "source": [
    "# Aim:To find kinematic and absolute viscosity of oil in cS and cP respectively\n",
    "# Given:\n",
    "# Density of oil:\n",
    "Den=0.89; #g/cm^3\n",
    "# Time flow:\n",
    "t=250; #s\n",
    "# Calibration constant:\n",
    "cc=0.100;\n",
    "\n",
    "# Solution:\n",
    "# kinematic viscosity of oil in centistokes,\n",
    "nu_cs=(t*cc); #centistokes\n",
    "# absolute viscosity of oil in centipoise,\n",
    "SG=Den;\n",
    "mu_cp=(SG*nu_cs); #centipoise\n",
    "# rounding off the above answer\n",
    "mu_cp=round(mu_cp)+(round(round((mu_cp-round(mu_cp))*10))/10); #centipoise\n",
    "\n",
    "# Results:\n",
    "print \" Results:  \"\n",
    "print \" The viscosity of oil in centistokes is  cS.\",nu_cs\n",
    "print \" The viscosity of oil in centipoise is cP.\",mu_cp\n",
    "\n"
   ]
  },
  {
   "cell_type": "markdown",
   "metadata": {},
   "source": [
    "## Example 2.14 pgno:65"
   ]
  },
  {
   "cell_type": "code",
   "execution_count": 16,
   "metadata": {
    "collapsed": false
   },
   "outputs": [
    {
     "name": "stdout",
     "output_type": "stream",
     "text": [
      "  Results:  \n",
      " The viscosity of sample oil at 100 degF is  SUS. 200\n"
     ]
    }
   ],
   "source": [
    "# Aim:To find viscosity of oil at 100 degF in SUS\n",
    "# Given:\n",
    "# Viscosity Index:\n",
    "VI=80;\n",
    "# viscosity of O-VI oil at 100 degF:\n",
    "L=400; #SUS\n",
    "# viscosity of 100-VI oil at 100 degF:\n",
    "H=150; #SUS\n",
    "\n",
    "\n",
    "\n",
    "# Solution:\n",
    "# viscosity of sample oil at 100 degF,\n",
    "U=L-(((L-H)*VI)/100); #SUS\n",
    "\n",
    "# Results:\n",
    "print \"  Results:  \"\n",
    "print \" The viscosity of sample oil at 100 degF is  SUS.\",U\n"
   ]
  },
  {
   "cell_type": "markdown",
   "metadata": {},
   "source": [
    "## Example 2.15 pgno:67"
   ]
  },
  {
   "cell_type": "code",
   "execution_count": 17,
   "metadata": {
    "collapsed": false
   },
   "outputs": [
    {
     "name": "stdout",
     "output_type": "stream",
     "text": [
      "  Results:  \n",
      " The pressure on skin diver is  kPa. 179.0\n"
     ]
    }
   ],
   "source": [
    "# Aim:To find pressure on the skin diver in SI units\n",
    "# Given:\n",
    "# Depth of Water Body:\n",
    "H=18.3; #m\n",
    "\n",
    "# Solution:\n",
    "# specific Weight of water,\n",
    "gamma1=9800; #N/m^3        \n",
    "# we know pressure,\n",
    "# p=(specific weight of liquid * liquid column height)\n",
    "p=(gamma1*H); #Pa\n",
    "pK=p/1000; #kPa\n",
    "\n",
    "# Results:\n",
    "print \"  Results:  \"\n",
    "print \" The pressure on skin diver is  kPa.\",round(pK)\n"
   ]
  },
  {
   "cell_type": "markdown",
   "metadata": {},
   "source": [
    "## Example 2.16 pgno:67"
   ]
  },
  {
   "cell_type": "code",
   "execution_count": 18,
   "metadata": {
    "collapsed": false
   },
   "outputs": [
    {
     "name": "stdout",
     "output_type": "stream",
     "text": [
      "  Results:  \n",
      " The Absolute Pressure is  Pa. 67000\n"
     ]
    }
   ],
   "source": [
    "# Aim:To convert given pressure into absolute pressure\n",
    "# Given:\n",
    "# Gage Pressure:\n",
    "Pg=-34000; #Pa\n",
    "\n",
    "\n",
    "# Solution:\n",
    "# Atmospheric Pressure,\n",
    "Po=101000; #Pa           \n",
    "# Absolute Pressure(Pa) =Gage Pressure + Atmospheric Pressure\n",
    "Pa=Pg+Po; #Pa\n",
    "\n",
    "# Results:\n",
    "print \"  Results:  \"\n",
    "print \" The Absolute Pressure is  Pa.\",Pa\n"
   ]
  },
  {
   "cell_type": "markdown",
   "metadata": {},
   "source": [
    "## Example 2.17 pgno:67"
   ]
  },
  {
   "cell_type": "code",
   "execution_count": 19,
   "metadata": {
    "collapsed": false
   },
   "outputs": [
    {
     "name": "stdout",
     "output_type": "stream",
     "text": [
      "  Results:  \n",
      " The Percentage change in volume of oil is  -0.76\n"
     ]
    }
   ],
   "source": [
    "# Aim:To find % change in volume of the oil\n",
    "# Given:\n",
    "# Volume of original oil:V=164 #cm^3\n",
    "# Initial Pressure:\n",
    "P1=687.0; #kPa\n",
    "# Final pressure:\n",
    "P2=13740.0; #kPa\n",
    "# Bulk Modullus:\n",
    "betaa=1718.0; #MPa\n",
    "\n",
    "\n",
    "# Solution:\n",
    "# Change in pressure,\n",
    "delP=P2-P1; #kPa \n",
    "betaa=betaa*1000; #kPA\n",
    "# % Change in volume,\n",
    "delV=-(delP/betaa)*100; #% ,- sign indicates oil is being compressed\n",
    "\n",
    "# Results:\n",
    "print \"  Results:  \"\n",
    "print \" The Percentage change in volume of oil is \",round(delV,2)\n",
    "\n"
   ]
  },
  {
   "cell_type": "markdown",
   "metadata": {},
   "source": [
    "## Example 2.18pgno:68"
   ]
  },
  {
   "cell_type": "code",
   "execution_count": 20,
   "metadata": {
    "collapsed": false
   },
   "outputs": [
    {
     "name": "stdout",
     "output_type": "stream",
     "text": [
      " Results:  \n",
      " The viscosity of oil is  Ns/m**2. 0.05\n",
      " The viscosity of oil is  cP. 50.0\n"
     ]
    }
   ],
   "source": [
    "# Aim:To find absolute viscosity of oil in Ns/m**2 and cP\n",
    "# Given:\n",
    "# Area of moving plate surface in contact with oil:\n",
    "A=1; #m**2\n",
    "# Force applied to the moving plate:\n",
    "F=10; #N \n",
    "# velocity of the moving plate:\n",
    "v=1; #m/s\n",
    "# oil film thickness:\n",
    "y=5; #mm\n",
    "y=5*0.001; #m\n",
    "\n",
    "\n",
    "# Solution:\n",
    "# absolute viscosity of oil,\n",
    "mu=(F/A)/(v/y); #Ns/m**2\n",
    "# absolute viscosity of oil in cP,\n",
    "mu_P=(F*100000*y*100)/(v*100*A*10000); #poise\n",
    "mu_cP=mu_P*100; #centipoise\n",
    "\n",
    "# Results:\n",
    "print \" Results:  \"\n",
    "print \" The viscosity of oil is  Ns/m**2.\",mu\n",
    "print \" The viscosity of oil is  cP.\",mu_cP\n",
    "\n",
    "\n"
   ]
  },
  {
   "cell_type": "code",
   "execution_count": null,
   "metadata": {
    "collapsed": true
   },
   "outputs": [],
   "source": []
  }
 ],
 "metadata": {
  "kernelspec": {
   "display_name": "Python 2",
   "language": "python",
   "name": "python2"
  },
  "language_info": {
   "codemirror_mode": {
    "name": "ipython",
    "version": 2
   },
   "file_extension": ".py",
   "mimetype": "text/x-python",
   "name": "python",
   "nbconvert_exporter": "python",
   "pygments_lexer": "ipython2",
   "version": "2.7.9"
  }
 },
 "nbformat": 4,
 "nbformat_minor": 0
}
