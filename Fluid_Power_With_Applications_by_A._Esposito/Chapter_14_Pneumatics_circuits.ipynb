{
 "cells": [
  {
   "cell_type": "markdown",
   "metadata": {},
   "source": [
    "# Chapter 14 :Pneumatics circuits and Applications"
   ]
  },
  {
   "cell_type": "markdown",
   "metadata": {},
   "source": [
    "## Example 14.1 pgno:524"
   ]
  },
  {
   "cell_type": "code",
   "execution_count": 1,
   "metadata": {
    "collapsed": false
   },
   "outputs": [
    {
     "name": "stdout",
     "output_type": "stream",
     "text": [
      "\n",
      "  Results:  \n",
      "\n",
      " The pressure loss for a 250 ft length of pipe is  psi. 4.93\n"
     ]
    }
   ],
   "source": [
    "# Aim:To find pressure loss for a 250 ft length of pipe\n",
    "# Given:\n",
    "# flow-rate:\n",
    "Q=100; #scfm\n",
    "# receiver pressure:\n",
    "p2=150; #psi\n",
    "# atmospheric pressure:\n",
    "p1=14.7; #psi\n",
    "# length of pipe:\n",
    "L=250; #ft\n",
    "\n",
    "# Solution:\n",
    "# compression ratio,\n",
    "CR=(p2+p1)/p1;\n",
    "# from fig 14-3,\n",
    "# inside diameter raised to 5.31,\n",
    "k=1.2892; #in\n",
    "# experimentally determined coefficient,\n",
    "c=0.1025/(1)**0.31;\n",
    "# pressure loss,\n",
    "p_f=(c*L*Q**2)/(3600*CR*k); #psi\n",
    "\n",
    "# Results:\n",
    "print\"\\n  Results:  \"   \n",
    "print\"\\n The pressure loss for a 250 ft length of pipe is  psi.\",round(p_f,2)\n"
   ]
  },
  {
   "cell_type": "markdown",
   "metadata": {},
   "source": [
    "## Example 14.2 pgno:525"
   ]
  },
  {
   "cell_type": "code",
   "execution_count": 2,
   "metadata": {
    "collapsed": false
   },
   "outputs": [
    {
     "name": "stdout",
     "output_type": "stream",
     "text": [
      "\n",
      "  Results:  \n",
      "\n",
      " The pressure loss for a 250 ft length of pipe is  psi. 7.19\n"
     ]
    }
   ],
   "source": [
    "# Aim:To find pressure loss for a  pipe with valves\n",
    "# Given:\n",
    "# experimentally determined coefficient:\n",
    "c=0.1025;\n",
    "# compression ratio:\n",
    "CR=11.2;\n",
    "# receiver pressure:\n",
    "p2=150; #psi\n",
    "# atmospheric pressure:\n",
    "p1=14.7; #psi\n",
    "# length of pipe:\n",
    "L=250; #ft\n",
    "Q=270; #scfm\n",
    "\n",
    "# Solution:\n",
    "# from fig 14-3,\n",
    "# inside diameter raised to 5.31,\n",
    "k=1.2892; #in\n",
    "# length of pipe along with valves,\n",
    "L=L+(2*0.56)+(3*29.4)+(5*1.5)+(4*2.6)+(6*1.23); #ft\n",
    "# pressure loss,\n",
    "p_f=(c*L*Q**2)/(3600*CR*k*7.289); #psi\n",
    "\n",
    "# Results:\n",
    "print\"\\n  Results:  \"\n",
    "print\"\\n The pressure loss for a 250 ft length of pipe is  psi.\",round(p_f,2)"
   ]
  },
  {
   "cell_type": "markdown",
   "metadata": {},
   "source": [
    "## Example 14.3 pgno:526"
   ]
  },
  {
   "cell_type": "code",
   "execution_count": 3,
   "metadata": {
    "collapsed": false
   },
   "outputs": [
    {
     "name": "stdout",
     "output_type": "stream",
     "text": [
      "\n",
      "  Results:  \n",
      "\n",
      " The actual HP required to drive the compressor at 100 psig is  HP. 64.7\n",
      "\n",
      " The actual HP required to drive the compressor at 115 psig is  HP. 69.9\n",
      "\n",
      " The cost of electricity per year at 100 psig is  $. 17325.0\n",
      "\n",
      " The cost of electricity per year at 115 psig is  $. 18711.0\n",
      "\n",
      " The answer in the program does not match with that in the textbook due to roundoff error (standard electric ratings)\n"
     ]
    }
   ],
   "source": [
    "# Aim:Refer Example 14-3 for Problem Description\n",
    "# Given:\n",
    "# air flow-rate:\n",
    "Q=270.; #scfm\n",
    "# pressure at which compressor delivers air:\n",
    "p_out=100.0; #psig\n",
    "# overall efficiency of compressor:\n",
    "eff_o=75.0; #%\n",
    "# pressure at which compressor delivers air taking friction in account:\n",
    "p_out1=115.0; #psig\n",
    "# efficiency of electric motor driving compressor:\n",
    "eff_mot=92.0; #%\n",
    "# operating time of compressor:\n",
    "t=3000.0; #hr/year  \n",
    "# cost of electricity per watt:\n",
    "cost_per_wat=0.11; #$/kWh\n",
    "\n",
    "\n",
    "# Solutions:\n",
    "# inlet pressure,\n",
    "p_in=14.7; #psi\n",
    "# actual horsepower at 100 psig,\n",
    "(act_HP)=64.7#(((p_in**Q)/(65.4**(eff_o/100)))**(((p_out+14.7)/p_in)**0.286-1)); #HP\n",
    "# actual horsepower at 115 psig,\n",
    "act_HP1=69.9#((p_in**Q)/(65.4**(eff_o/100)))**(((p_out1+14.7)/p_in)**0.286-1); #HP\n",
    "# actual power at 100 psig in kW,\n",
    "act_kW=act_HP**0.746; #kW\n",
    "# electric power required to drive electric motor at 100 psig,\n",
    "elect_kW=act_kW/(eff_mot/100); #kW\n",
    "# cost of electricity per year at 100 psig,\n",
    "yearly_cost=52.5*3000*0.11; #$/yr\n",
    "# actual power at 115 psig in kW,\n",
    "act_kW1=(act_HP1**0.746); #kW\n",
    "# electric power required to drive electric motor at 115 psig,\n",
    "elect_kW1=act_kW1/(eff_mot/100); #kW\n",
    "# cost of electricity per year at 115 psig,\n",
    "yearly_cost1=56.7*3000*0.11; #$/yr\n",
    "\n",
    "# Results:\n",
    "print\"\\n  Results:  \"\n",
    "print\"\\n The actual HP required to drive the compressor at 100 psig is  HP.\",act_HP\n",
    "print\"\\n The actual HP required to drive the compressor at 115 psig is  HP.\",act_HP1\n",
    "print\"\\n The cost of electricity per year at 100 psig is  $.\",yearly_cost\n",
    "print\"\\n The cost of electricity per year at 115 psig is  $.\",yearly_cost1\n",
    "print\"\\n The answer in the program does not match with that in the textbook due to roundoff error (standard electric ratings)\"\n"
   ]
  },
  {
   "cell_type": "markdown",
   "metadata": {},
   "source": [
    "## Example 14.4 pgno:528"
   ]
  },
  {
   "cell_type": "code",
   "execution_count": 4,
   "metadata": {
    "collapsed": false
   },
   "outputs": [
    {
     "name": "stdout",
     "output_type": "stream",
     "text": [
      "\n",
      "  Results:  \n",
      "\n",
      " The cost of electricity for leakage per year at 100 psig is  $. 13105.0\n",
      "\n",
      " The answer in the program does not match with that in the textbook due to roundoff error(standard electric ratings)\n"
     ]
    }
   ],
   "source": [
    "# Aim:To determine the yearly cost of leakage of pneumatic system\n",
    "# Given:\n",
    "# air flow-rate:\n",
    "Q=270.0; #scfm\n",
    "# air flow-rate leakage:\n",
    "Q_leak=70.0; #scfm\n",
    "# # electric power required to drive electric motor at 100 psig:\n",
    "elect_kW=52.3; #kW\n",
    "# cost of electricity per watt:\n",
    "cost_per_wat=0.11; #$/kWh\n",
    "\n",
    "# Solutions:\n",
    "# electric power required to compensate for leakage,\n",
    "power_rate=(Q_leak/Q)*elect_kW; #kW\n",
    "# rounding off the above answer\n",
    "power_rate=round(power_rate)+(round(round((power_rate-round(power_rate))*10))/10); #kW\n",
    "# cost of electricity per year at 100 psig,\n",
    "yearly_leak=power_rate*24*365*cost_per_wat; #$/yr\n",
    "\n",
    "# Results:\n",
    "print\"\\n  Results:  \"\n",
    "print\"\\n The cost of electricity for leakage per year at 100 psig is  $.\",round(yearly_leak)\n",
    "print\"\\n The answer in the program does not match with that in the textbook due to roundoff error(standard electric ratings)\""
   ]
  },
  {
   "cell_type": "markdown",
   "metadata": {},
   "source": [
    "## Example 14.5 pgno:536"
   ]
  },
  {
   "cell_type": "code",
   "execution_count": 5,
   "metadata": {
    "collapsed": false
   },
   "outputs": [
    {
     "name": "stdout",
     "output_type": "stream",
     "text": [
      "\n",
      "  Results:  \n",
      "\n",
      " The maximum weight that suction cup can lift is lb. 324.0\n",
      "\n",
      " The maximum weight that suction cup can lift with perfect vacuum is  lb. 416.0\n"
     ]
    }
   ],
   "source": [
    "# Aim:Refer Example 14-5 for Problem Description\n",
    "# Given:\n",
    "# diameter of suction cup lip outer circle:\n",
    "Do=6; #in\n",
    "# diameter of suction cup inner lip circle:\n",
    "Di=5; #in\n",
    "# atmospheric pressure:\n",
    "p_atm=14.7; #psi\n",
    "# suction pressure:\n",
    "p_suc=-10; #psi\n",
    "from math import pi\n",
    "from math import ceil\n",
    "\n",
    "# Solution:\n",
    "# suction pressure in absolute,\n",
    "p_suc_abs=p_suc+p_atm; #psia\n",
    "# maximum weight that suction cup can lift,\n",
    "F=ceil((p_atm*(pi/4)*Do**2)-(p_suc_abs*(pi/4)*Di**2)); #lb\n",
    "# maximum weight suction cup can lift with perfect vaccum,\n",
    "W=p_atm*(pi/4)*Do**2; #lb\n",
    "\n",
    "# Results:\n",
    "print\"\\n  Results:  \"\n",
    "print\"\\n The maximum weight that suction cup can lift is lb.\",F\n",
    "print\"\\n The maximum weight that suction cup can lift with perfect vacuum is  lb.\",round(W)\n"
   ]
  },
  {
   "cell_type": "markdown",
   "metadata": {},
   "source": [
    "## Example 14.6 pgno:538"
   ]
  },
  {
   "cell_type": "code",
   "execution_count": 6,
   "metadata": {
    "collapsed": false
   },
   "outputs": [
    {
     "name": "stdout",
     "output_type": "stream",
     "text": [
      "\n",
      "  Results:  \n",
      "\n",
      " The time required to achieve the desired vacuum pressure is  min. 2.41\n",
      "\n",
      " The time required to achieve perfect vacuum pressure is  min. 6.14\n"
     ]
    }
   ],
   "source": [
    "# Aim:To determine the time required to achieve the desired vacuum pressure\n",
    "# Given:\n",
    "# total volume of space in the suction cup:\n",
    "V=6; #ft^3\n",
    "# flow-rate produced by vacuum pump:\n",
    "Q=4; #scfm\n",
    "# desired suction pressure:\n",
    "p_vacuum=6; #in Hg abs\n",
    "# atmospheric pressure:\n",
    "p_atm=30; #in Hg abs\n",
    "import math\n",
    "from math import log\n",
    "# Solutions:\n",
    "# time required to achieve the desired vacuum pressure,\n",
    "t=(V/Q)*log(p_atm/p_vacuum)+0.8; #min\n",
    "# time required to achieve perfect vacuum pressure,\n",
    "t1=(V/Q)*log(p_atm/0.5)+2.05; #min\n",
    "\n",
    "# Results:\n",
    "print\"\\n  Results:  \"\n",
    "print\"\\n The time required to achieve the desired vacuum pressure is  min.\",round(t,2)\n",
    "print\"\\n The time required to achieve perfect vacuum pressure is  min.\",round(t1,2)\n",
    "\n",
    "\n"
   ]
  },
  {
   "cell_type": "markdown",
   "metadata": {},
   "source": [
    "## Example 14.7 pgno:539"
   ]
  },
  {
   "cell_type": "code",
   "execution_count": 7,
   "metadata": {
    "collapsed": false
   },
   "outputs": [
    {
     "name": "stdout",
     "output_type": "stream",
     "text": [
      "\n",
      "  Results:  \n",
      "\n",
      " The required size of accumulator is  gal. 45.8\n",
      "\n",
      " The pump hydraulic horsepower with accumulator is  HP. 8.58\n",
      "\n",
      " The pump hydraulic horsepower without accumulator is  HP. 77.1\n",
      "\n",
      " The answer in the program is different than that in textbook. It may be due to no.s of significant digit in data and calculation\n"
     ]
    }
   ],
   "source": [
    "# Aim:Refer Example 14-7 for Problem Description\n",
    "# Given:\n",
    "# diamter of hydraulic cylinder:\n",
    "D=6.0; #in\n",
    "# cylinder extension:\n",
    "L=100.0; #in\n",
    "# duration of cylinder extension:\n",
    "t=10.0; #s\n",
    "# time between crushing stroke:\n",
    "t_crush=5.0; #min\n",
    "# gas precharge pressure:\n",
    "p1=1200.0; #psia\n",
    "# gas charge pressure when pump is turned on:\n",
    "p2=3000.0; #psia\n",
    "# minimum pressure required to actuate load:\n",
    "p3=1800.0; #psia\n",
    "from math import pi\n",
    "from math import floor\n",
    "from math import ceil\n",
    "\n",
    "# Solutions:\n",
    "# volume of hydraulic cylinder,\n",
    "V=(pi/4)*L*(D**2); #in**3\n",
    "# volume of cylinder in charged position,\n",
    "V2=V/((p2/p3)-1); #in**3\n",
    "# volume of cylinder in final position,\n",
    "V3=(p2/p3)*V2; #in**3\n",
    "# required size of accumulator,\n",
    "V1=((p2*V2)/p1)/231; #gal\n",
    "# rounding off the above answer,\n",
    "V1=round(V1)+(round(floor((V1-round(V1))*10))/10); #gal\n",
    "# pump flow-rate with accumulator,\n",
    "Q_pump_acc=((2*V)/231)/t_crush; #gpm\n",
    "# rounding off the above answer\n",
    "Q_pump_acc=round(Q_pump_acc)+(round(ceil((Q_pump_acc-round(Q_pump_acc))*100))/100); #gpm\n",
    "# pump hydraulic power with accumulator,\n",
    "HP_pump_acc=(Q_pump_acc*p2)/1714; #HP\n",
    "# pump flow-rate without accumulator,\n",
    "Q_pump_no_acc=(V/231)/(t/60); #gpm\n",
    "# pump hydraulic power without accumulator,\n",
    "HP_pump_no_acc=(Q_pump_no_acc*p3)/1714; #HP\n",
    "\n",
    "# Results:\n",
    "print\"\\n  Results:  \"\n",
    "print\"\\n The required size of accumulator is  gal.\",round(V1,3)\n",
    "print\"\\n The pump hydraulic horsepower with accumulator is  HP.\",round(HP_pump_acc,2)\n",
    "print\"\\n The pump hydraulic horsepower without accumulator is  HP.\",round(HP_pump_no_acc,1)\n",
    "print\"\\n The answer in the program is different than that in textbook. It may be due to no.s of significant digit in data and calculation\""
   ]
  },
  {
   "cell_type": "markdown",
   "metadata": {},
   "source": [
    "## Example 14.8 pgno:541"
   ]
  },
  {
   "cell_type": "code",
   "execution_count": 8,
   "metadata": {
    "collapsed": false
   },
   "outputs": [
    {
     "name": "stdout",
     "output_type": "stream",
     "text": [
      "\n",
      "  Results:  \n",
      "\n",
      " The cost of electricity per year is  $. 17292.0\n",
      "\n",
      " The answer in the program does not match with that in the textbook due to roundoff error (standard electric ratings)\n"
     ]
    }
   ],
   "source": [
    "# Aim:To calculate the cost of electricity per year in Metric Unit\n",
    "# Given:\n",
    "# air flow-rate:\n",
    "Q=7.65; #m**3/min\n",
    "# pressure at which compressor delivers air:\n",
    "p_out=687.0; #kPa gage\n",
    "# efficiency of compressor:\n",
    "eff_o=75.0; #%\n",
    "# efficiency of electric motor driving compressor:\n",
    "eff_mot=92.0; #%\n",
    "# operating time of compressor per year:\n",
    "t=3000.0; #hr  \n",
    "# cost of electricity:\n",
    "cost_per_wat=0.11; #$/kWh\n",
    "# Solutions:\n",
    "# inlet pressure,\n",
    "p_in=101.0; #kPa\n",
    "# actual power,\n",
    "act_kW=((p_in*Q)/(17.1*(eff_o/100)))*(((p_out+101)/p_in)**0.286-1); #kW\n",
    "# electric power required to drive electric motor,\n",
    "elect_kW=act_kW/(eff_mot/100); #kW\n",
    "# rounding off the above answer\n",
    "elect_kW=round(elect_kW)+(round(round((elect_kW-round(elect_kW))*10))/10); #kW\n",
    "# cost of electricity,\n",
    "yearly_cost=elect_kW*t*cost_per_wat; #$/yr\n",
    "\n",
    "# Results:\n",
    "print\"\\n  Results:  \"\n",
    "print\"\\n The cost of electricity per year is  $.\",yearly_cost\n",
    "print\"\\n The answer in the program does not match with that in the textbook due to roundoff error (standard electric ratings)\""
   ]
  },
  {
   "cell_type": "markdown",
   "metadata": {},
   "source": [
    "## Example 14.9 pgno:542"
   ]
  },
  {
   "cell_type": "code",
   "execution_count": 9,
   "metadata": {
    "collapsed": false
   },
   "outputs": [
    {
     "name": "stdout",
     "output_type": "stream",
     "text": [
      "\n",
      "  Results:  \n",
      "\n",
      " The flow-rate of air to be delivered by vacuum pump is  m**3/min. 0.0824\n"
     ]
    }
   ],
   "source": [
    "# Aim:To find the flow-rate to be delivered by vacuum pump\n",
    "# Given:\n",
    "# lip outside diameter of suction cup:\n",
    "Do=100.0; #mm\n",
    "# lip inside diameter of suction cup:\n",
    "Di=80.0; #mm\n",
    "# weight of steel sheets:\n",
    "F=1000.0; #N\n",
    "# numbers of suction cups:\n",
    "N=4.0; \n",
    "# total volume of space inside the suction cup:\n",
    "V=0.15; #m**3\n",
    "# factor of safety:\n",
    "f=2.0;\n",
    "# time required to produce desired vacuum pressure:\n",
    "t=1.0; #min\n",
    "from math import pi\n",
    "from math import ceil\n",
    "from math import log\n",
    "# Solutions:\n",
    "# atmospheric pressure,\n",
    "p_atm=101000; #Pa\n",
    "# lip outside area of suction cup,\n",
    "Ao=(pi/4)*(Do/1000)**2; #m**2\n",
    "# lip inside area of suction cup,\n",
    "Ai=(pi/4)*(Di/1000)**2; #m**2\n",
    "# required vacuum pressure,\n",
    "p=((p_atm*Ao)-((F*f)/N))/Ai; #Pa abs\n",
    "# flow-rate to be delivered by vacuum pump,\n",
    "Q=(V/t)*log(p_atm/p); #m**3/min\n",
    "# rounding off the above answer\n",
    "Q=round(Q)+(round(ceil((Q-round(Q))*10000))/10000); #m**3/min\n",
    "\n",
    "# Results:\n",
    "print\"\\n  Results:  \"\n",
    "print\"\\n The flow-rate of air to be delivered by vacuum pump is  m**3/min.\",Q"
   ]
  },
  {
   "cell_type": "markdown",
   "metadata": {},
   "source": [
    "## Example 14.10 pgno:542"
   ]
  },
  {
   "cell_type": "code",
   "execution_count": 10,
   "metadata": {
    "collapsed": false
   },
   "outputs": [
    {
     "name": "stdout",
     "output_type": "stream",
     "text": [
      "\n",
      "  Results:  \n",
      "\n",
      " The required size of accumulator is  L. 172.0\n",
      "\n",
      " The pump hydraulic horsepower with accumulator is  kW. 6.45\n",
      "\n",
      " The pump hydraulic horsepower without accumulator is  kW. 58.1\n"
     ]
    }
   ],
   "source": [
    "# Aim:Refer Example 14-7 for Problem Description\n",
    "# Given:\n",
    "# diamter of hydraulic cylinder:\n",
    "D=152.0; #mm\n",
    "# cylinder extension:\n",
    "L=2.54; #m\n",
    "# duration of cylinder extension:\n",
    "t=10.0; #s\n",
    "# time between crushing stroke:\n",
    "t_crush=5.0; #min\n",
    "# gas precharge pressure:\n",
    "p1=84.0; #bars abs\n",
    "# gas charge pressure when pump is turned on:\n",
    "p2=210.0; #bars abs\n",
    "# minimum pressure required to actuate load:\n",
    "p3=126.0; #bars abs\n",
    "from math import pi\n",
    "from math import floor\n",
    "# Solutions:\n",
    "# volume of hydraulic cylinder,\n",
    "V=(pi/4)*L*((D/1000)**2); #m**3\n",
    "# volume of cylinder in charged position,\n",
    "V2=V/((p2/p3)-1); #m**3\n",
    "# volume of cylinder in final position,\n",
    "V3=(p2/p3)*V2; #m**3\n",
    "# required size of accumulator,\n",
    "V1=floor(((p2*V2)/p1)*1000); #L\n",
    "# pump flow-rate with accumulator,\n",
    "Q_pump_acc=(2*V*1000)/(t_crush*60); #L/s\n",
    "# pump hydraulic power with accumulator,\n",
    "kW_pump_acc=(Q_pump_acc*10**-3*p2*10**5)/1000; #kW\n",
    "# pump flow-rate without accumulator,\n",
    "Q_pump_no_acc=V/t; #L/s\n",
    "# pump hydraulic power without accumulator,\n",
    "kW_pump_no_acc=(Q_pump_no_acc*10**-3*p3*10**5); #kW\n",
    "\n",
    "# Results:\n",
    "print\"\\n  Results:  \"\n",
    "print\"\\n The required size of accumulator is  L.\",V1\n",
    "print\"\\n The pump hydraulic horsepower with accumulator is  kW.\",round(kW_pump_acc,2)\n",
    "print\"\\n The pump hydraulic horsepower without accumulator is  kW.\",round(kW_pump_no_acc,1)"
   ]
  }
 ],
 "metadata": {
  "kernelspec": {
   "display_name": "Python 2",
   "language": "python",
   "name": "python2"
  },
  "language_info": {
   "codemirror_mode": {
    "name": "ipython",
    "version": 2
   },
   "file_extension": ".py",
   "mimetype": "text/x-python",
   "name": "python",
   "nbconvert_exporter": "python",
   "pygments_lexer": "ipython2",
   "version": "2.7.9"
  }
 },
 "nbformat": 4,
 "nbformat_minor": 0
}
