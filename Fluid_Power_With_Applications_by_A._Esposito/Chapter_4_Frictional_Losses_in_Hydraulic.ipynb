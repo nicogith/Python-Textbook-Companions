{
 "cells": [
  {
   "cell_type": "markdown",
   "metadata": {},
   "source": [
    "# Chapter 4 Frictional Losses in Hydraulic Piplines"
   ]
  },
  {
   "cell_type": "markdown",
   "metadata": {},
   "source": [
    "## Example 4.1 pgno:132"
   ]
  },
  {
   "cell_type": "code",
   "execution_count": 1,
   "metadata": {
    "collapsed": false
   },
   "outputs": [
    {
     "name": "stdout",
     "output_type": "stream",
     "text": [
      "\n",
      "  Results:  \n",
      "\n",
      " The Reynolds number of given oil is . 774.0\n"
     ]
    }
   ],
   "source": [
    "# Aim:To Find Reynolds number of oil \n",
    "# Given:\n",
    "# Kinematic viscosity of oil:\n",
    "nu=100.0; #cS\n",
    "# velocity of oil:\n",
    "v=10.0; #ft/s\n",
    "# Pipe diameter:\n",
    "D=1.0; #in\n",
    "\n",
    "\n",
    "\n",
    "\n",
    "\n",
    "# Solution:\n",
    "# Reynolds Number,\n",
    "N_R=(7740*v*D)/nu;\n",
    "\n",
    "# Results:\n",
    "print\"\\n  Results:  \"\n",
    "print\"\\n The Reynolds number of given oil is .\",N_R\n"
   ]
  },
  {
   "cell_type": "markdown",
   "metadata": {},
   "source": [
    "## Example 4.2 pgno:132"
   ]
  },
  {
   "cell_type": "code",
   "execution_count": 2,
   "metadata": {
    "collapsed": false
   },
   "outputs": [
    {
     "name": "stdout",
     "output_type": "stream",
     "text": [
      "\n",
      "  Results:  \n",
      "\n",
      " The Reynolds number of given oil is . 250.0\n"
     ]
    }
   ],
   "source": [
    "\n",
    "# Aim:To Find Reynolds number of oil \n",
    "# Given:\n",
    "# Kinematic viscosity of oil:\n",
    "nu=0.001; #m^2/s\n",
    "# velocity of oil:\n",
    "v=5.0; #m/s\n",
    "# Pipe diameter:\n",
    "D=50.0; #mm\n",
    "\n",
    "# Solution:\n",
    "# Reynolds Number,\n",
    "N_R=(v*(D/1000))/nu;\n",
    "\n",
    "# Results:\n",
    "print\"\\n  Results:  \"\n",
    "print\"\\n The Reynolds number of given oil is .\",N_R\n",
    "\n",
    "\n",
    "\n"
   ]
  },
  {
   "cell_type": "markdown",
   "metadata": {},
   "source": [
    "## Example 4.3 pgno:134"
   ]
  },
  {
   "cell_type": "code",
   "execution_count": 3,
   "metadata": {
    "collapsed": false
   },
   "outputs": [
    {
     "name": "stdout",
     "output_type": "stream",
     "text": [
      "\n",
      "  Results:  \n",
      "\n",
      " The Head Loss due to friction in pipe is  psi. 60.0\n"
     ]
    }
   ],
   "source": [
    "# Aim:Refer Example 4-3 for Problem Description \n",
    "# Given:\n",
    "# Kinematic viscosity of oil:\n",
    "nu=100.0; #cS\n",
    "# velocity of oil:\n",
    "v=10.0; #ft/s\n",
    "# Pipe diameter:\n",
    "D=1.0; #in\n",
    "# Length of pipe:\n",
    "L=100.0; #ft\n",
    "# specific gravity of oil:\n",
    "SG_oil=0.9;\n",
    "\n",
    "\n",
    "# Solution:\n",
    "# acceleration due to gravity,\n",
    "g=32.2; #ft/s**2\n",
    "# Reynolds Number,\n",
    "N_R=(7740*v*D)/nu;\n",
    "# Head loss in pipe,\n",
    "H_L=round((64*L*(v**2))/(N_R*(D/12)*2*g)); #ft ,Hagen-Poiseuille Equation\n",
    "# Head loss in terms of psi,\n",
    "H_L=SG_oil*0.0361*12*H_L; #psi\n",
    "\n",
    "# Results:\n",
    "print \"\\n  Results:  \"\n",
    "print \"\\n The Head Loss due to friction in pipe is  psi.\",round(H_L)\n",
    "\n",
    "\n",
    "\n",
    "\n",
    "\n",
    "\n"
   ]
  },
  {
   "cell_type": "markdown",
   "metadata": {},
   "source": [
    "## Example 4.4 pgno:132"
   ]
  },
  {
   "cell_type": "code",
   "execution_count": 4,
   "metadata": {
    "collapsed": false
   },
   "outputs": [
    {
     "name": "stdout",
     "output_type": "stream",
     "text": [
      "\n",
      "  Results:  \n",
      "\n",
      " The Head Loss due to friction in pipe is  m of oil. 326.0\n",
      "\n",
      " The pressure drop Kpa 28.7\n"
     ]
    }
   ],
   "source": [
    "# Aim:Refer Example 4-4 for Problem Description \n",
    "# Given:\n",
    "# Kinematic viscosity of oil:\n",
    "nu=0.001; #m**2/s\n",
    "# velocity of oil:\n",
    "v=5.0; #m/s\n",
    "# Pipe diameter:\n",
    "D=50.0; #mm\n",
    "# Length of pipe:\n",
    "L=50.0; #m\n",
    "# specific weigth of oil:\n",
    "gamma1=8800.0; #N/m**2\n",
    "import math \n",
    "from math import floor\n",
    "\n",
    "\n",
    "# Solution:\n",
    "# acceleration due to gravity,\n",
    "g=9.80; #m/s**2\n",
    "# Reynolds Number,\n",
    "N_R=(v*(D/1000))/nu;\n",
    "# Head loss in pipe,\n",
    "H_L=floor((64*L*(v**2))/(N_R*(D/1000)*2*g)); #m ,Hagen-Poiseuille Equation\n",
    "# Head loss in terms of kPa,\n",
    "H_L1=(gamma1*H_L)/1000; #kPa\n",
    "delp=H_L*gamma1/100000;\n",
    "\n",
    "# Results:\n",
    "print \"\\n  Results:  \"\n",
    "print \"\\n The Head Loss due to friction in pipe is  m of oil.\",H_L\n",
    "print\"\\n The pressure drop Kpa\",round(delp,1)\n"
   ]
  },
  {
   "cell_type": "markdown",
   "metadata": {},
   "source": [
    "## Example 4.5 pgno:137"
   ]
  },
  {
   "cell_type": "code",
   "execution_count": 5,
   "metadata": {
    "collapsed": false
   },
   "outputs": [
    {
     "name": "stdout",
     "output_type": "stream",
     "text": [
      "\n",
      "  Results:  \n",
      "\n",
      " The friction factor in 1st case is . 0.042\n",
      "\n",
      " The friction factor in 2nd case is . 0.0018\n"
     ]
    }
   ],
   "source": [
    "# Aim:Refer Example 4-5 for Problem Description \n",
    "# Given:\n",
    "# Kinematic viscosity of oil:\n",
    "nu=50.0; #cS\n",
    "# Pipe diameter:\n",
    "D=1.0; #in\n",
    "# velocity of oil:\n",
    "v1=10.0; #ft/s\n",
    "v2=40.0; #ft/s\n",
    "\n",
    "# Solution:\n",
    "# Reynolds Number in 1st case,\n",
    "N_R1=(7740*v1*D)/nu;\n",
    "# Using Moody diagram from fig 4-9,\n",
    "f1=0.042 ;\n",
    "# Reynolds Number in 2nd case,\n",
    "N_R2=(7740*v2*D)/nu;\n",
    "# relative roughness,\n",
    "rr=0.0018/D;\n",
    "# Using Moody diagram from fig 4-9,\n",
    "f2=0.036;\n",
    "\n",
    "# Results:\n",
    "print\"\\n  Results:  \"\n",
    "print\"\\n The friction factor in 1st case is .\",f1\n",
    "print\"\\n The friction factor in 2nd case is .\",rr\n"
   ]
  },
  {
   "cell_type": "markdown",
   "metadata": {},
   "source": [
    "## Example 4.6 pgno:142"
   ]
  },
  {
   "cell_type": "code",
   "execution_count": 6,
   "metadata": {
    "collapsed": false
   },
   "outputs": [
    {
     "name": "stdout",
     "output_type": "stream",
     "text": [
      "\n",
      "  Results:  \n",
      "\n",
      " The head loss across globe valve is  ft of oil. 23.1\n"
     ]
    }
   ],
   "source": [
    "# Aim:To Find Head Loss across valve \n",
    "# Given:\n",
    "# Diameter of globe valve:\n",
    "D=1.0; #in\n",
    "# specific gravity of oil:\n",
    "SG_oil=0.9;\n",
    "# flow rate:\n",
    "Q=30.0; #gpm\n",
    "import math\n",
    "from math import floor\n",
    "from math import pi\n",
    "\n",
    "\n",
    "# Solution:\n",
    "# fluid velocity,\n",
    "v=(Q/449)/((pi*((D/12)**2))/4); #ft/s\n",
    "# rounding off the above answer\n",
    "v=round(v)+(round(floor((v-round(v))*10))/10); #ft/s\n",
    "# From table of \"K factors of common valves and fittings\",\n",
    "K=10;\n",
    "# acceleration due to gravity,\n",
    "g=32.2; #ft/s**2\n",
    "# Head Loss across globe valve,\n",
    "H_L=(K*(v**2))/(2*g); #ft\n",
    "# Pressure drop across Valve,\n",
    "delp=SG_oil*0.0361*12*H_L; #psi\n",
    "\n",
    "# Results:\n",
    "print\"\\n  Results:  \"\n",
    "print\"\\n The head loss across globe valve is  ft of oil.\",round(H_L,1)\n",
    "\n"
   ]
  },
  {
   "cell_type": "markdown",
   "metadata": {},
   "source": [
    "## Example 4.7 pgno:142"
   ]
  },
  {
   "cell_type": "code",
   "execution_count": 7,
   "metadata": {
    "collapsed": false
   },
   "outputs": [
    {
     "name": "stdout",
     "output_type": "stream",
     "text": [
      "\n",
      "  Results:  \n",
      "\n",
      " The head loss across globe valve is  m of oil. 1.01\n"
     ]
    }
   ],
   "source": [
    "# Aim:To Find Head Loss across valve \n",
    "# Given:\n",
    "# Diameter of gate valve:\n",
    "D=50.0; #mm\n",
    "# specific weight of oil:\n",
    "gamma1=8800.0; #N/m**2\n",
    "# kinemativ viscosity of oil:\n",
    "nu=0.001; #m**2/s\n",
    "# flow rate:\n",
    "Q=0.02; #m**3/s\n",
    "import math \n",
    "from math import pi\n",
    "\n",
    "\n",
    "# Solution:\n",
    "# fluid velocity,\n",
    "v=Q/((pi*((D/1000)**2))/4); #m/s\n",
    "# rounding off the above answer\n",
    "v=round(v)+(round(round((v-round(v))*10))/10); #m/s\n",
    "# From table of \"K factors of common valves and fittings\",\n",
    "K=0.19;\n",
    "# acceleration due to gravity,\n",
    "g=9.80; #m/s**2\n",
    "# Head Loss across globe valve,\n",
    "H_L=(K*(v**2))/(2*g); #m\n",
    "# Pressure drop across Valve,\n",
    "delp=(gamma1*H_L)/1000; #kPa\n",
    "\n",
    "# Results:\n",
    "print\"\\n  Results:  \"\n",
    "print\"\\n The head loss across globe valve is  m of oil.\",round(H_L,2)\n",
    "\n"
   ]
  },
  {
   "cell_type": "markdown",
   "metadata": {},
   "source": [
    "## Example 4.8 pgno:143"
   ]
  },
  {
   "cell_type": "code",
   "execution_count": 8,
   "metadata": {
    "collapsed": false
   },
   "outputs": [
    {
     "name": "stdout",
     "output_type": "stream",
     "text": [
      "\n",
      "  Results:  \n",
      "\n",
      " The Equivalent Length of Globe valve is  ft. 12.3\n"
     ]
    }
   ],
   "source": [
    "# Aim:Refer Example 4-8 for Problem Description\n",
    "# Given:\n",
    "# Kinematic viscosity of oil:\n",
    "nu=100.0; #cS\n",
    "# Diameter of steel pipe:\n",
    "D=1.0; #in\n",
    "# flow rate:\n",
    "Q=30.0; #gpm\n",
    "# Diameter of wide open globe valve:\n",
    "D_l=1.0; #in\n",
    "import math\n",
    "from math import pi\n",
    "from math import floor\n",
    "\n",
    "# Solution:\n",
    "# velocity through steel pipes,\n",
    "v=(Q/449)/((pi*((D/12)**2))/4); #ft/s\n",
    "# rounding off the above answer\n",
    "v=round(v)+(round(floor((v-round(v))*10))/10); #ft/s\n",
    "# Reynolds Number,\n",
    "N_R=(7740*v*D)/nu;\n",
    "# friction factor,\n",
    "f=64/N_R;\n",
    "# From table of \"K factors of common valves and fittings\",\n",
    "K=10;\n",
    "# Equivalent Length,\n",
    "Le=(K*(D_l/12))/f; #ft\n",
    "\n",
    "# Results:\n",
    "print\"\\n  Results:  \"\n",
    "print\"\\n The Equivalent Length of Globe valve is  ft.\",round(Le,2)\n"
   ]
  },
  {
   "cell_type": "markdown",
   "metadata": {},
   "source": [
    "## Example 4.9 pgno:144"
   ]
  },
  {
   "cell_type": "code",
   "execution_count": 9,
   "metadata": {
    "collapsed": false
   },
   "outputs": [
    {
     "name": "stdout",
     "output_type": "stream",
     "text": [
      "\n",
      "  Results:  \n",
      "\n",
      " The Pressure available at the inlet to hydraulic motor is  psi. 260.0\n"
     ]
    }
   ],
   "source": [
    "# Aim:Refer Example 4-9 for Problem Description\n",
    "# Given:\n",
    "# Pump hydraulic power:\n",
    "HHP=5.0; #HP\n",
    "# Pump flow:\n",
    "Q=30.0; #gpm\n",
    "# Inside Diameter of pipe:\n",
    "D=1.0; #in\n",
    "# specific gravity of oil:\n",
    "SG_oil=0.9;\n",
    "# Kinematic viscosity of oil:\n",
    "nu=100.0; #cS\n",
    "# elevation between station 1 and 2:\n",
    "Z=-20.0; #ft ,-ve sign indicates station 2 is above Station 1\n",
    "# Pressure at oil top surface level in hydraulic tank:\n",
    "p1=0.0; #psig\n",
    "import math \n",
    "from math import pi\n",
    "from math import floor\n",
    "from math import ceil\n",
    "\n",
    "\n",
    "# Solution:\n",
    "# specific weight of oil,\n",
    "gamma1=SG_oil*62.4; #lb/ft**3\n",
    "# acceleration due to gravity,\n",
    "g=32.2; #ft/s**2\n",
    "# Since, There is no hydraulic motor,\n",
    "Hm=0; #ft\n",
    "# oil in tank is at rest,\n",
    "v1=0; #ft/s\n",
    "# velocity head at station 1,\n",
    "K1=(v1**2)/(2*g); #ft\n",
    "# velocity through pipe,\n",
    "v2=(Q/449)/((pi*((D/12)**2))/4); #ft/s\n",
    "v2=round(v2)+(round(floor((v2-round(v2))*10))/10); #ft/s ,rounding off the answer\n",
    "# velocity head at station 2,\n",
    "K2=(v2**2)/(2*g); #ft\n",
    "K2=round(K2)+(round(ceil((K2-round(K2))*10))/10); #ft ,rounding off the answer\n",
    "# Reynolds Number,\n",
    "N_R=round((7740*v2*D)/nu);\n",
    "# friction factor,\n",
    "f=64/N_R;\n",
    "# From table of \"K factors of common valves and fittings\",\n",
    "K=0.9;\n",
    "# equivalent length of standard elbow,\n",
    "Le_std_elbow=((K*(D/12))/f); #ft\n",
    "# Total equivalent length,\n",
    "Le_tot=21+Le_std_elbow; #ft\n",
    "# head loss due to friction between Station 1 and 2,\n",
    "H_L=round((f*Le_tot*K2)/(D/12)); #ft\n",
    "# Pump head,\n",
    "Hp=ceil((3950*HHP)/(Q*SG_oil)); #ft\n",
    "# Pressure at station 2,\n",
    "p2=round(Z+(p1/gamma1)+K1+Hp-Hm-H_L-K2); #ft ,Modified Bernoulli equation\n",
    "p2=round((p2*gamma1)/144); #psi\n",
    "# Pressure increase across the pump,\n",
    "delp=ceil((gamma1*Hp)/144); \n",
    "\n",
    "# Results:\n",
    "print\"\\n  Results:  \"\n",
    "print\"\\n The Pressure available at the inlet to hydraulic motor is  psi.\",p2\n"
   ]
  },
  {
   "cell_type": "markdown",
   "metadata": {},
   "source": [
    "## Example 4.10 pgno:147"
   ]
  },
  {
   "cell_type": "code",
   "execution_count": 10,
   "metadata": {
    "collapsed": false
   },
   "outputs": [
    {
     "name": "stdout",
     "output_type": "stream",
     "text": [
      "\n",
      "  Results:  \n",
      "\n",
      " The Pressure available at the inlet to hydraulic motor is  kPa. 1795.0\n",
      "\n",
      " The answer in the program is different than that in textbook. It may be due to no.s of significant digit in data and calculation\n"
     ]
    }
   ],
   "source": [
    "# Aim:Refer Example 4-10 for Problem Description\n",
    "# Given:\n",
    "# Pump hydraulic power:\n",
    "HHP=3.73; #kW\n",
    "# Pump flow:\n",
    "Q=0.00190; #m**3/s\n",
    "# Inside Diameter of pipe:\n",
    "D=0.0254; #m\n",
    "# specific gravity of oil:\n",
    "SG_oil=0.9;\n",
    "# Kinematic viscosity of oil:\n",
    "nu=100.0; #cS\n",
    "# elevation between station 1 and 2:\n",
    "Z=-6.10; #m ,-ve sign indicates station 2 is above Station 1\n",
    "# Pressure at oil top surface level in hydraulic tank:\n",
    "p1=0.0; #Pa  Pump inlet pipe length:\n",
    "L1=1.53; #m\n",
    "# Pump outlet pipe length up to hydraulic motor:\n",
    "L2=4.88; #m\n",
    "import math\n",
    "from math import pi\n",
    "\n",
    "# Solution:\n",
    "# specific weight of oil,\n",
    "gamma1=SG_oil*9800; #N/m**3\n",
    "# acceleration due to gravity,\n",
    "g=9.80; #m/s**2\n",
    "# Since, There is no hydraulic motor,\n",
    "Hm=0; #m\n",
    "# oil in tank is at rest,\n",
    "v1=0; #m/s\n",
    "# velocity head at station 1,\n",
    "K1=(v1**2)/(2*g); #m\n",
    "# velocity through pipe,\n",
    "v2=Q/((pi*(D**2))/4); #m/s\n",
    "# velocity head at station 2,\n",
    "K2=(v2**2)/(2*g); #m\n",
    "# Reynolds Number,\n",
    "N_R=((v2*D)/(nu/1000000));\n",
    "# friction factor,\n",
    "f=64/N_R;\n",
    "# From table of \"K factors of common valves and fittings\",\n",
    "K=0.9;\n",
    "# equivalent length of standard elbow,\n",
    "Le_std_elbow=((K*(D/12))/f); #m\n",
    "# Total equivalent length,\n",
    "Le_tot=L1+L2+Le_std_elbow; #m\n",
    "# head loss due to friction between Station 1 and 2,\n",
    "H_L=((f*Le_tot*K2)/D); #m\n",
    "# Pump head,\n",
    "Hp=((1000*HHP)/(Q*gamma1)); #m\n",
    "# Pressure at station 2,\n",
    "p2=(Z+(p1/gamma1)+K1+Hp-Hm-H_L-K2); #m ,Modified Bernoulli equation\n",
    "p2=((p2*gamma1)/1000); #kPa\n",
    "\n",
    "# Results:\n",
    "print\"\\n  Results:  \"\n",
    "print\"\\n The Pressure available at the inlet to hydraulic motor is  kPa.\",round(p2)\n",
    "print\"\\n The answer in the program is different than that in textbook. It may be due to no.s of significant digit in data and calculation\"\n",
    "\n",
    "\n"
   ]
  },
  {
   "cell_type": "code",
   "execution_count": null,
   "metadata": {
    "collapsed": true
   },
   "outputs": [],
   "source": []
  }
 ],
 "metadata": {
  "kernelspec": {
   "display_name": "Python 2",
   "language": "python",
   "name": "python2"
  },
  "language_info": {
   "codemirror_mode": {
    "name": "ipython",
    "version": 2
   },
   "file_extension": ".py",
   "mimetype": "text/x-python",
   "name": "python",
   "nbconvert_exporter": "python",
   "pygments_lexer": "ipython2",
   "version": "2.7.9"
  }
 },
 "nbformat": 4,
 "nbformat_minor": 0
}
