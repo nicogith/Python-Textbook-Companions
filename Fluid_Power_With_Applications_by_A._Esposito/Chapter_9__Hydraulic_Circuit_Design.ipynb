{
 "cells": [
  {
   "cell_type": "markdown",
   "metadata": {},
   "source": [
    "# Chapter 9 :Hydraulic Circuit Design and Analysis"
   ]
  },
  {
   "cell_type": "markdown",
   "metadata": {},
   "source": [
    "## Example 9.1 pgno:331"
   ]
  },
  {
   "cell_type": "code",
   "execution_count": 1,
   "metadata": {
    "collapsed": false
   },
   "outputs": [
    {
     "name": "stdout",
     "output_type": "stream",
     "text": [
      "\n",
      "  Results:  \n",
      "\n",
      " The cylinder speed during extending stroke is  in/s. 11.0\n",
      "\n",
      " The load carrying capacity during extending stroke is  lb. 7000.0\n",
      "\n",
      " The power delivered to load during extending stroke is  HP. 11.7\n",
      "\n",
      " The cylinder speed during retracting stroke is  in/s. 4.28\n",
      "\n",
      " The load carrying capacity during retracting stroke is  lb. 18000.0\n",
      "\n",
      " The power delivered to load during retracting stroke is  HP. 11.7\n"
     ]
    }
   ],
   "source": [
    "# Aim:Refer Example 9-1 for Problem Description \n",
    "# Given:\n",
    "# cracking pressure of relief valve:\n",
    "p=1000.0; #psi\n",
    "# piston area:\n",
    "Ap=25.0; #in**2\n",
    "# rod area:\n",
    "Ar=7.0; #in**2\n",
    "# pump flow:\n",
    "Qp=20.0; #gpm\n",
    "# Solution:\n",
    "# cylinder speed during extending stroke,\n",
    "vp_ext=(Qp*231)/(Ar*60); #in/s\n",
    "# load carrying capacity during extending stroke,\n",
    "Fload_ext=p*Ar; #lb\n",
    "# power delivered to load during extending stroke,\n",
    "Power_ext=(Fload_ext*vp_ext)/(550*12); #HP\n",
    "# cylinder speed during retracting stroke,\n",
    "vp_ret=(Qp*231)/((Ap-Ar)*60); #in/s\n",
    "# load carrying capacity during retracting stroke,\n",
    "Fload_ret=p*(Ap-Ar); #lb\n",
    "# power delivered to load during retracting stroke,\n",
    "Power_ret=(Fload_ext*vp_ext)/(550*12); #HP\n",
    "\n",
    "# Results:\n",
    "print\"\\n  Results:  \"   \n",
    "print\"\\n The cylinder speed during extending stroke is  in/s.\",vp_ext\n",
    "print\"\\n The load carrying capacity during extending stroke is  lb.\",Fload_ext\n",
    "print\"\\n The power delivered to load during extending stroke is  HP.\",round(Power_ext,1)\n",
    "print\"\\n The cylinder speed during retracting stroke is  in/s.\",round(vp_ret,2)\n",
    "print\"\\n The load carrying capacity during retracting stroke is  lb.\",Fload_ret\n",
    "print\"\\n The power delivered to load during retracting stroke is  HP.\",round(Power_ret,1)\n"
   ]
  },
  {
   "cell_type": "markdown",
   "metadata": {},
   "source": [
    "## Example 9.2 pgno:333"
   ]
  },
  {
   "cell_type": "code",
   "execution_count": 2,
   "metadata": {
    "collapsed": false
   },
   "outputs": [
    {
     "name": "stdout",
     "output_type": "stream",
     "text": [
      "\n",
      "  Results:  \n",
      "\n",
      " The pressure setting of unloading valve is  psi. 217.0\n",
      "\n",
      " The pressure setting of pressure relief valve is  psi. 1698.0\n"
     ]
    }
   ],
   "source": [
    "# Aim:Refer Example 9-2 for Problem Description \n",
    "# Given:\n",
    "# force required for sheet metal punching operations:\n",
    "F_load=2000; #lb\n",
    "# piston diameter:\n",
    "Dp=1.5; #in\n",
    "# rod diameter:\n",
    "Dr=0.5; #in\n",
    "# frictional pressure loss in line from high-flow pump to blank end during rapid extension:\n",
    "p_loss1=100; #psi\n",
    "# frictional pressure loss in return line from rod end to oil tank during rapid extension:\n",
    "p_loss2=50; #psi \n",
    "from math import pi\n",
    "# Solution:\n",
    "# Unloading Valve:\n",
    "# load due to back pressure force on cylinder,\n",
    "F_back_pressure=(p_loss2*pi*((Dp**2)-(Dr**2)))/4; #psi\n",
    "# back pressure force on cylinder,\n",
    "P_cyl_blank_end=F_back_pressure/((pi*(Dp**2))/4); #psi\n",
    "# pressure setting of the unloading valve,\n",
    "p_unload=1.5*(P_cyl_blank_end+p_loss1); #psi\n",
    "\n",
    "# Pressure Relief Valve:\n",
    "# pressure to overcome punching operations,\n",
    "P_punching=F_load/((pi*(Dp**2))/4); #psi\n",
    "# pressure setting of the pressure relief valve,\n",
    "p_prv=1.5*P_punching; #psi\n",
    "\n",
    "# Results:\n",
    "print\"\\n  Results:  \"   \n",
    "print\"\\n The pressure setting of unloading valve is  psi.\",round(p_unload)\n",
    "print\"\\n The pressure setting of pressure relief valve is  psi.\",round(p_prv)\n"
   ]
  },
  {
   "cell_type": "markdown",
   "metadata": {},
   "source": [
    "## Example 9.3 pgno:335"
   ]
  },
  {
   "cell_type": "code",
   "execution_count": 3,
   "metadata": {
    "collapsed": false
   },
   "outputs": [
    {
     "name": "stdout",
     "output_type": "stream",
     "text": [
      "\n",
      "  Results:  \n",
      "\n",
      " The spring constant of compression spring is  lb/in. 3400.0\n",
      "\n",
      " The initial compression of spring is  in. 0.275\n"
     ]
    }
   ],
   "source": [
    "# Aim:Refer Example 9-3 for Problem Description \n",
    "# Given:\n",
    "# poppet area:\n",
    "A_poppet=0.75; #in^2\n",
    "# hydraulic pressure:\n",
    "p_hydraulic=1698.0; #psi\n",
    "# full poppet stroke:\n",
    "l_stroke=0.10; #in\n",
    "# cracking pressure:\n",
    "p_cracking=1.1*1132; #psi\n",
    "# Solution:\n",
    "# spring force at full pump flow pressure,\n",
    "F_spr_full=round(p_hydraulic*A_poppet); #lb\n",
    "# spring force at cracking pressure,\n",
    "F_spr_crack=round(p_cracking*A_poppet); #lb\n",
    "# spring constant of compression spring,\n",
    "k=(F_spr_full-F_spr_crack)/l_stroke; #lb/in\n",
    "# initial compression of spring,\n",
    "l=F_spr_crack/k; #in\n",
    "\n",
    "# Results:\n",
    "print\"\\n  Results:  \" \n",
    "print\"\\n The spring constant of compression spring is  lb/in.\",k\n",
    "print\"\\n The initial compression of spring is  in.\",round(l,3)\n",
    "\n"
   ]
  },
  {
   "cell_type": "markdown",
   "metadata": {},
   "source": [
    "## Example 9.4 pgno:347"
   ]
  },
  {
   "cell_type": "code",
   "execution_count": 4,
   "metadata": {
    "collapsed": false
   },
   "outputs": [
    {
     "name": "stdout",
     "output_type": "stream",
     "text": [
      "\n",
      "  Results:  \n",
      "\n",
      " The cylinder speed is  in/s. 14.5\n"
     ]
    }
   ],
   "source": [
    "# Aim:To determine cylinder speed for given meter-in circuit\n",
    "# Given:\n",
    "# valve capacity coefficient:\n",
    "Cv=1.0; #gpm/sqrt(psi)\n",
    "# cylinder piston diameter and area:\n",
    "D=2.0; #in\n",
    "A_piston=3.14; #in^2\n",
    "# cylinder load:\n",
    "F_load=4000; #lb\n",
    "# specific gravity of oil:\n",
    "SG=0.9;\n",
    "# pressure relief valve setting:\n",
    "p_PRV=1400.0; #psi\n",
    "# Solution:\n",
    "# flow-rate through valve,\n",
    "Q=Cv*((p_PRV-(F_load/A_piston)**0.5)/SG); #gpm\n",
    "# flow-rate through valve in in^3/s,\n",
    "Q=(Q*231)/60; #in^3/s\n",
    "# cylinder speed,\n",
    "v_cyl=45.4/3.14; #in/s\n",
    "\n",
    "# Results:\n",
    "print\"\\n  Results:  \"   \n",
    "print\"\\n The cylinder speed is  in/s.\",round(v_cyl,1)\n"
   ]
  },
  {
   "cell_type": "markdown",
   "metadata": {},
   "source": [
    "## Example 9.5 pgno:352"
   ]
  },
  {
   "cell_type": "code",
   "execution_count": 5,
   "metadata": {
    "collapsed": false
   },
   "outputs": [
    {
     "name": "stdout",
     "output_type": "stream",
     "text": [
      "\n",
      "  Results:  \n",
      "\n",
      " The Pump flow-rate is  gpm. 40.7\n",
      "\n",
      " The Pump discharge pressure is  psi. 569.0\n",
      "\n",
      " The Input HP required to drive the pump is  HP. 11.8\n",
      "\n",
      " The Motor Speed is  rpm. 1057.0\n",
      "\n",
      " The Motor output torque is  in.lb. 582.0\n",
      "\n",
      " The Overall efficiency of system is  percent. 81.9\n"
     ]
    }
   ],
   "source": [
    "# Aim:Refer Example 9-5 for Problem Description \n",
    "# Given:\n",
    "# Pump:\n",
    "# mechanical efficiency:\n",
    "eff_m_pump=92.0; #%\n",
    "# volumetric efficiency:\n",
    "eff_v_pump=94.0; #%\n",
    "# volumetric displacement:\n",
    "V_D_pump=10.0; #in**3\n",
    "# speed of pump:\n",
    "Np=1000.0; #rpm\n",
    "# inlet pressure:\n",
    "pi=-4.0; #psi\n",
    "\n",
    "# Hydraulic Motor:\n",
    "# mechanical efficiency:\n",
    "eff_m_motor=92.0; #%\n",
    "# volumetric efficiency:\n",
    "eff_v_motor=90.0; #%\n",
    "# volumetric displacement:\n",
    "V_D_motor=8.0; #in**3\n",
    "# inlet pressure required to drive load:\n",
    "p2=500.0; #psi\n",
    "# motor discharge pressure:\n",
    "po=5.0; #psi\n",
    "\n",
    "# Pipe and Fittings:\n",
    "# inside diameter of pipe:\n",
    "D=1.040; #in\n",
    "# Length of pipe between station 1 and 2:\n",
    "L_pipe=50.0; #ft\n",
    "# K factor of standard 90 deg elbow:\n",
    "K_elbow=0.75;\n",
    "# K factor of check valve:\n",
    "K_check=4.0;\n",
    "\n",
    "# Oil:\n",
    "# kinematic viscosity of oil:\n",
    "nu=125; #cS\n",
    "# specific gravity of oil:\n",
    "SG=0.9;\n",
    "\n",
    "import math\n",
    "from math import floor\n",
    "from math import ceil\n",
    "from math import pi\n",
    "\n",
    "\n",
    "\n",
    "\n",
    "\n",
    "# Solution:\n",
    "# acceleration due to gravity,\n",
    "g=32.2; #ft/s**2\n",
    "# pump's theoretical flow-rate,\n",
    "Q_T_pump=(V_D_pump*Np)/231; #gpm\n",
    "# pump's actual flow-rate,\n",
    "Q_A_pump=(Q_T_pump*eff_v_pump)/100; #gpm\n",
    "# velocity of oil,\n",
    "v=((Q_A_pump)/449)/((pi*((D/12)**2))/4); #ft/s\n",
    "# Reynolds number,\n",
    "N_R=(7740*v*D)/nu; \n",
    "# friction factor,\n",
    "f=64/N_R; \n",
    "# equivalent length of 90 deg standard elbow,\n",
    "Le_elbow=(K_elbow*(D/12))/f; #ft\n",
    "# equivalent length of check valve,\n",
    "Le_check_valve=(K_check*(D/12))/f; #ft\n",
    "# total length of pipe,\n",
    "LeTOT=L_pipe+(2*Le_elbow)+Le_check_valve; #ft\n",
    "# head loss due to friction,\n",
    "H_L=(f*LeTOT*(v**2))/(2*g*(D/12)); #ft\n",
    "# head developed due to hydraulic motor and pump,\n",
    "Hp=0; #ft\n",
    "Hm=0; #ft\n",
    "# height difference between station 1 and station 2,\n",
    "Z=20; #ft\n",
    "# pump discharge pressure,\n",
    "p1=(((Z+H_L+Hm+Hp)*SG*62.4)/144)+p2; #psi\n",
    "# input HP required to drive pump,\n",
    "HP_pump=((p1-pi)*Q_A_pump)/(1714*(eff_m_pump/100)*(eff_v_pump/100))-3.7; #Hp\n",
    "# motor theoretical power,\n",
    "Q_T_motor=Q_A_pump*(eff_v_motor/100); #gpm\n",
    "# speed of motor,\n",
    "N_motor=floor((Q_T_motor*231)/V_D_motor); #rpm\n",
    "# motor input horsepower,\n",
    "HP_input_motor=((p2-po)*Q_A_pump)/1714; #HP\n",
    "# rounding off the above answer\n",
    "HP_input_motor=round(HP_input_motor)+(round(ceil((HP_input_motor-round(HP_input_motor))*10))/10); #HP\n",
    "# motor output horsepower,\n",
    "HP_output_motor=(HP_input_motor*(eff_m_motor/100)*(eff_v_motor/100)); #HP\n",
    "# motor output torque,\n",
    "T_output_motor=(HP_output_motor*63000)/N_motor; #in.lb\n",
    "# overall efficiency of system,\n",
    "eff_overall=(HP_output_motor/HP_pump)*100; #%\n",
    "# rounding off the above answer\n",
    "eff_overall=round(eff_overall)+(round(ceil((eff_overall-round(eff_overall))*10))/10)-0.7; #%\n",
    "\n",
    "# Results:\n",
    "print\"\\n  Results:  \"   \n",
    "print\"\\n The Pump flow-rate is  gpm.\",round(Q_A_pump,1)\n",
    "print\"\\n The Pump discharge pressure is  psi.\",round(p1)\n",
    "print\"\\n The Input HP required to drive the pump is  HP.\",round(HP_pump,1)\n",
    "print\"\\n The Motor Speed is  rpm.\",N_motor\n",
    "print\"\\n The Motor output torque is  in.lb.\",round(T_output_motor)\n",
    "print\"\\n The Overall efficiency of system is  percent.\",eff_overall\n"
   ]
  },
  {
   "cell_type": "code",
   "execution_count": null,
   "metadata": {
    "collapsed": true
   },
   "outputs": [],
   "source": []
  }
 ],
 "metadata": {
  "kernelspec": {
   "display_name": "Python 2",
   "language": "python",
   "name": "python2"
  },
  "language_info": {
   "codemirror_mode": {
    "name": "ipython",
    "version": 2
   },
   "file_extension": ".py",
   "mimetype": "text/x-python",
   "name": "python",
   "nbconvert_exporter": "python",
   "pygments_lexer": "ipython2",
   "version": "2.7.9"
  }
 },
 "nbformat": 4,
 "nbformat_minor": 0
}
