{
 "cells": [
  {
   "cell_type": "markdown",
   "metadata": {},
   "source": [
    "# Chapter 10: Hydraulic Conductors and Fittings"
   ]
  },
  {
   "cell_type": "markdown",
   "metadata": {},
   "source": [
    "## Example 10.1 pgno:367"
   ]
  },
  {
   "cell_type": "code",
   "execution_count": 1,
   "metadata": {
    "collapsed": false
   },
   "outputs": [
    {
     "name": "stdout",
     "output_type": "stream",
     "text": [
      "\n",
      "  Results:  \n",
      "\n",
      " The minimum inside diameter of pipe is in. 0.783\n"
     ]
    }
   ],
   "source": [
    "# Aim:To find minimum inside diameter of pipe  \n",
    "# Given:\n",
    "# flow-rate through pipe:\n",
    "Q=30.0; #gpm\n",
    "# average fluid velocity:\n",
    "v=20.0; #ft/s\n",
    " \n",
    "import math \n",
    "from math import pi\n",
    "\n",
    "\n",
    "\n",
    "\n",
    "# Solution:\n",
    "# flow-rate in ft**3/s,\n",
    "Q_fps=Q/449; #ft**3/s\n",
    "# minimum required pipe flow area,\n",
    "A=(Q_fps/v)*144; #in**2\n",
    "# minimum inside diameter,\n",
    "D=((4*A)/(pi))**0.5; #in\n",
    "\n",
    "# Results:\n",
    "print\"\\n  Results:  \"   \n",
    "print\"\\n The minimum inside diameter of pipe is in.\",round(D,3)"
   ]
  },
  {
   "cell_type": "markdown",
   "metadata": {},
   "source": [
    "## Example 10.2 pgno:368"
   ]
  },
  {
   "cell_type": "code",
   "execution_count": 2,
   "metadata": {
    "collapsed": false
   },
   "outputs": [
    {
     "name": "stdout",
     "output_type": "stream",
     "text": [
      "\n",
      "  Results:  \n",
      "\n",
      " The minimum inside diameter of pipe is  mm. 20.4\n"
     ]
    }
   ],
   "source": [
    "# Aim:To find minimum inside diameter of pipe in Metric units  \n",
    "# Given:\n",
    "# flow-rate through pipe:\n",
    "Q=0.002; #m^3/s\n",
    "# average fluid velocity:\n",
    "v=6.1; #m/s\n",
    "\n",
    "from math import pi\n",
    "\n",
    "\n",
    "\n",
    "# Solution:\n",
    "# minimum required pipe flow area,\n",
    "A=(Q/v); #m^2\n",
    "# minimum inside diameter,\n",
    "D=(((4*A)/(pi))**0.5)*1000; #mm\n",
    "\n",
    "# Results:\n",
    "print\"\\n  Results:  \"   \n",
    "print\"\\n The minimum inside diameter of pipe is  mm.\",round(D,1)\n"
   ]
  },
  {
   "cell_type": "markdown",
   "metadata": {},
   "source": [
    "## Example 10.3 pgno:371"
   ]
  },
  {
   "cell_type": "code",
   "execution_count": 3,
   "metadata": {
    "collapsed": false
   },
   "outputs": [
    {
     "name": "stdout",
     "output_type": "stream",
     "text": [
      "\n",
      "  Results:  \n",
      "\n",
      " The working pressure of steel tube is  psi. 1.232\n",
      "\n",
      " The answer in the program is different than that in textbook. It may be due to no.s of significant digit in data and calculation\n"
     ]
    }
   ],
   "source": [
    "# Aim:To find safe working pressure for the tube \n",
    "# Given:\n",
    "# outside diameter of steel tube:\n",
    "Do=1.250; #in\n",
    "# inside diameter of steel tube:\n",
    "Di=1.060; #in\n",
    "# tensile strength of steel tube:\n",
    "S=55000.0; #psi\n",
    "# factor of safety:\n",
    "FS=8.0;\n",
    "\n",
    "# Solution:\n",
    "# wall thickness,\n",
    "t=(Do-Di)/2; #in\n",
    "# burst pressure,\n",
    "BP=(2*t*S)/Di; #psi\n",
    "# working pressure,\n",
    "WP=BP/FS/1000; #psi\n",
    "\n",
    "# Results:\n",
    "print\"\\n  Results:  \"   \n",
    "print\"\\n The working pressure of steel tube is  psi.\",round(WP,3)\n",
    "print\"\\n The answer in the program is different than that in textbook. It may be due to no.s of significant digit in data and calculation\"\n",
    "\n"
   ]
  },
  {
   "cell_type": "markdown",
   "metadata": {},
   "source": [
    "## Example 10.4 pgno:380"
   ]
  },
  {
   "cell_type": "code",
   "execution_count": 4,
   "metadata": {
    "collapsed": false
   },
   "outputs": [
    {
     "name": "stdout",
     "output_type": "stream",
     "text": [
      " \n",
      " The working pressure  psi is not adequate (less than  psi) so next case is considered, 746.951219512 1000\n",
      " \n",
      " The working pressure  psi is greater than  psi) , 1027.29885057 1000\n",
      "\n",
      "  Results:  \n",
      "\n",
      " The ratio of inner diameter to length is . 13.4\n",
      "\n",
      " The answer in the program is different than that in textbook. It may be due to no.s of significant digit in data and calculation\n"
     ]
    }
   ],
   "source": [
    "# Aim:Refer Example 10-4 for Problem Description\n",
    "# Given:\n",
    "# flow-rate:\n",
    "Q=30; #gpm\n",
    "# operating pressure:\n",
    "p=1000; #psi\n",
    "# maximum velocity:\n",
    "v=20; #ft/s\n",
    "# tensile strength of material:\n",
    "S=55000; #psi\n",
    "# factor of safety:\n",
    "FS=8;\n",
    "from math import pi\n",
    "# Solutions:\n",
    "# flow-rate,\n",
    "Q=Q/449; #ft^3/s\n",
    "# minimum required pipe flow area,\n",
    "Ai=(Q/v)*144; #in^2\n",
    "# minimum inside diameter,\n",
    "Di=((4*Ai)/(pi))**0.5; #in\n",
    "# wall thickness,\n",
    "t1=0.049; t2=0.065; #in\n",
    "# tube inside diameter,\n",
    "D1=0.902; D2=0.870; #in\n",
    "# burst pressure,\n",
    "BP1=(2*t1*S)/D1; #psi\n",
    "# working pressure,\n",
    "WP1=BP1/FS; #psi\n",
    "print\" \\n The working pressure  psi is not adequate (less than  psi) so next case is considered,\",WP1,p\n",
    "# burst pressure,\n",
    "BP2=(2*t2*S)/D2; #psi\n",
    "# working pressure,\n",
    "WP2=BP2/FS; #psi\n",
    "# ratio of inner diameter to thickness,\n",
    "r2=D2/t2;\n",
    "print\" \\n The working pressure  psi is greater than  psi) ,\",WP2,p\n",
    "\n",
    "# Results:\n",
    "print\"\\n  Results:  \"\n",
    "print\"\\n The ratio of inner diameter to length is .\",round(r2,1)\n",
    "print\"\\n The answer in the program is different than that in textbook. It may be due to no.s of significant digit in data and calculation\"\n"
   ]
  },
  {
   "cell_type": "markdown",
   "metadata": {},
   "source": [
    "## Example 10.5 pgno:389"
   ]
  },
  {
   "cell_type": "code",
   "execution_count": 5,
   "metadata": {
    "collapsed": false
   },
   "outputs": [
    {
     "name": "stdout",
     "output_type": "stream",
     "text": [
      " \n",
      " The working pressure bars is not adequate (less than bars) so next case is considered, 47.4\n",
      " \n",
      " The working pressure  bars is greater than bars) , 79.0\n",
      "\n",
      "  Results:  \n",
      "\n",
      " The ratio of inner diameter to length is  12.0\n"
     ]
    }
   ],
   "source": [
    "#Aim:Refer Example 10-5 for Problem Description\n",
    "# Given:\n",
    "# flow-rate:\n",
    "Q=0.00190; #m^3/s\n",
    "# operating pressure:\n",
    "p=70.00000000000; #bars\n",
    "# maximum velocity:\n",
    "v=6.10000000000; #m/s\n",
    "# tensile strength of material:\n",
    "S=379.0000000; #MPa\n",
    "# factor of safety:\n",
    "FS=8.0000000;\n",
    "from math import pi\n",
    "\n",
    "# Solutions:\n",
    "# minimum required pipe flow area,\n",
    "A=(Q/v); #m^2\n",
    "# minimum inside diameter,\n",
    "ID=(((4*A)/(pi))**0.5)*1000; #mm\n",
    "# wall thickness,\n",
    "t1=1.; t2=2.; #mm\n",
    "# tube inside diameter,\n",
    "D1=20.; D2=24.0; #mm\n",
    "# burst pressure,\n",
    "BP1=(2*(t1/1000)*S)/(D1/1000); #MPa\n",
    "# working pressure,\n",
    "WP1=(BP1/FS)*10; #bars\n",
    "print\" \\n The working pressure bars is not adequate (less than bars) so next case is considered,\",round(WP1,1)\n",
    "# burst pressure,\n",
    "BP2=(2*(t2/1000)*S)/(D2/1000); #MPa\n",
    "# working pressure,\n",
    "WP2=(BP2/FS)*10; #MPa\n",
    "# ratio of inner diameter to thickness,\n",
    "r2=D2/t2;\n",
    "print\" \\n The working pressure  bars is greater than bars) ,\",round(WP2)\n",
    "\n",
    "\n",
    "# Results:\n",
    "print\"\\n  Results:  \"\n",
    "print\"\\n The ratio of inner diameter to length is \",r2"
   ]
  }
 ],
 "metadata": {
  "kernelspec": {
   "display_name": "Python 2",
   "language": "python",
   "name": "python2"
  },
  "language_info": {
   "codemirror_mode": {
    "name": "ipython",
    "version": 2
   },
   "file_extension": ".py",
   "mimetype": "text/x-python",
   "name": "python",
   "nbconvert_exporter": "python",
   "pygments_lexer": "ipython2",
   "version": "2.7.9"
  }
 },
 "nbformat": 4,
 "nbformat_minor": 0
}
