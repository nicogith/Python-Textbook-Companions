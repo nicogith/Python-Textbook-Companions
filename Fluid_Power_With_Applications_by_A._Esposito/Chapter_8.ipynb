{
 "cells": [
  {
   "cell_type": "markdown",
   "metadata": {},
   "source": [
    "# Chapter 8 :Hydraulic Valves"
   ]
  },
  {
   "cell_type": "markdown",
   "metadata": {},
   "source": [
    "## Example 8.1 pgno:293"
   ]
  },
  {
   "cell_type": "code",
   "execution_count": 1,
   "metadata": {
    "collapsed": false
   },
   "outputs": [
    {
     "name": "stdout",
     "output_type": "stream",
     "text": [
      "\n",
      "  Results:  \n",
      "\n",
      " The Cracking pressure is  psi. 667.0\n",
      "\n",
      " The Full pump flow pressure  is  psi. 1000.0\n"
     ]
    }
   ],
   "source": [
    "# Aim:Refer Example 8-1 for Problem Description \n",
    "# Given:\n",
    "# area of relief valve:\n",
    "A=0.75; #in**2\n",
    "# spring constant:\n",
    "k=2500.0; #lb/in\n",
    "# initial compressed length of spring:\n",
    "S=0.20; #in\n",
    "# poppet displacement to pass full pump flow:\n",
    "L=0.10; #in\n",
    "\n",
    "\n",
    "\n",
    "\n",
    "\n",
    "\n",
    "# Solution:\n",
    "# spring force excerted on poppet when it is fully closed,\n",
    "F=k*S; #lb\n",
    "# Cracking pressure,\n",
    "p_crack=F/A; #psi\n",
    "# spring force when poppet moves 0.10 in from its fully closed position,\n",
    "F_new=k*(L+S); #lb\n",
    "# Full pump flow pressure,\n",
    "p_ful_pump_flow=F_new/A; #psi\n",
    "  \n",
    "# Results:\n",
    "print\"\\n  Results:  \"   \n",
    "print\"\\n The Cracking pressure is  psi.\",round(p_crack)\n",
    "print\"\\n The Full pump flow pressure  is  psi.\",p_ful_pump_flow\n",
    "\n",
    "\n",
    "\n",
    "\n"
   ]
  },
  {
   "cell_type": "markdown",
   "metadata": {},
   "source": [
    "## Example 8.2 pgno:299"
   ]
  },
  {
   "cell_type": "code",
   "execution_count": 2,
   "metadata": {
    "collapsed": false
   },
   "outputs": [
    {
     "name": "stdout",
     "output_type": "stream",
     "text": [
      "\n",
      "  Results:  \n",
      "\n",
      " The Horsepower across the pressure relief valve is  HP. 11.7\n"
     ]
    }
   ],
   "source": [
    "# Aim:To compute horsepower across the pressure relief valve\n",
    "# Given:\n",
    "# pressure relief valve setting:\n",
    "p=1000.0; #psi\n",
    "# pump flow to the tank:\n",
    "Q=20.0; #gpm\n",
    "\n",
    "\n",
    "\n",
    "# Solution:\n",
    "# Horsepower across the valve,\n",
    "HP=((p*Q)/1714); #HP\n",
    " \n",
    "# Results:\n",
    "print\"\\n  Results:  \"  \n",
    "print\"\\n The Horsepower across the pressure relief valve is  HP.\",round(HP,1)\n",
    "\n"
   ]
  },
  {
   "cell_type": "markdown",
   "metadata": {},
   "source": [
    "## Example 8.3 pgno:299"
   ]
  },
  {
   "cell_type": "code",
   "execution_count": 3,
   "metadata": {
    "collapsed": false
   },
   "outputs": [
    {
     "name": "stdout",
     "output_type": "stream",
     "text": [
      "\n",
      "  Results:  \n",
      "\n",
      " The Horsepower across the unloading valve is  HP. 0.29\n"
     ]
    }
   ],
   "source": [
    "# Aim:To compute horsepower across the unloading valve\n",
    "# Given:\n",
    "# pump pressure during unloading:\n",
    "p=25.0; #psi\n",
    "# pump flow to the tank:\n",
    "Q=20.0; #gpm\n",
    "\n",
    "\n",
    "\n",
    "\n",
    "# Solution:\n",
    "# Horsepower across the valve,\n",
    "HP=((p*Q)/1714); #HP\n",
    " \n",
    "# Results:\n",
    "print\"\\n  Results:  \"   \n",
    "print\"\\n The Horsepower across the unloading valve is  HP.\",round(HP,2)\n",
    "\n",
    "\n"
   ]
  },
  {
   "cell_type": "markdown",
   "metadata": {},
   "source": [
    "## Example 8.4 pgno:302"
   ]
  },
  {
   "cell_type": "code",
   "execution_count": 4,
   "metadata": {
    "collapsed": false
   },
   "outputs": [
    {
     "name": "stdout",
     "output_type": "stream",
     "text": [
      "\n",
      "  Results:  \n",
      "\n",
      " The flow-rate through orifice is gpm. 252.0\n"
     ]
    }
   ],
   "source": [
    "# Aim:To find flow-rate through given orifice\n",
    "# Given:\n",
    "# pressure drop across orifice:\n",
    "del_p=100.0; #psi\n",
    "# orifice diameter:\n",
    "D=1.0; #in\n",
    "# specific gravity of oil:\n",
    "SG_oil=0.9;\n",
    "# flow coefficient for sharp edge orifice:\n",
    "C=0.80;\n",
    "import math \n",
    "from math import pi\n",
    "\n",
    "# Solution:\n",
    "# flow-rate through orifice,\n",
    "Q=38.1*C*((pi*(D**2))/4)*(del_p/SG_oil)**0.5; #gpm\n",
    "\n",
    "# Results:\n",
    "print\"\\n  Results:  \"  \n",
    "print\"\\n The flow-rate through orifice is gpm.\",round(Q)\n"
   ]
  },
  {
   "cell_type": "markdown",
   "metadata": {},
   "source": [
    "## Example 8.5 pgno:304"
   ]
  },
  {
   "cell_type": "code",
   "execution_count": 5,
   "metadata": {
    "collapsed": false
   },
   "outputs": [
    {
     "name": "stdout",
     "output_type": "stream",
     "text": [
      "\n",
      "  Results:  \n",
      "\n",
      " The capacity coefficient in English unit is  gpm/sqrt(psi). 2.37\n",
      "\n",
      " The capacity coefficient in Metric unit is  Lpm/sqrt(kPa). 3.43\n"
     ]
    }
   ],
   "source": [
    "# Aim:To determine the capacity coefficient of flow control valve \n",
    "# Given:\n",
    "# pressure drop across flow control valve:\n",
    "del_p=100.0; #psi\n",
    "del_p1=687.0; #kPa\n",
    "# flow-rate across valve:\n",
    "Q=25.0; #gpm\n",
    "Q1=94.8; #Lpm\n",
    "# specific gravity of oil:\n",
    "SG_oil=0.9; \n",
    "\n",
    "\n",
    "\n",
    "\n",
    "\n",
    "# Solution:\n",
    "# capacity coefficient in English Units,\n",
    "Cv=Q/((del_p/SG_oil)**0.5); #gpm/sqrt(psi)\n",
    "# capacity coefficient in Metric Units,\n",
    "Cv1=Q1/((del_p1/SG_oil)**0.5); #Lpm/sqrt(kPA)\n",
    "\n",
    "# Results:\n",
    "print\"\\n  Results:  \"   \n",
    "print\"\\n The capacity coefficient in English unit is  gpm/sqrt(psi).\",round(Cv,2)\n",
    "print\"\\n The capacity coefficient in Metric unit is  Lpm/sqrt(kPa).\",round(Cv1,2)\n",
    "\n",
    "\n",
    "\n"
   ]
  },
  {
   "cell_type": "markdown",
   "metadata": {},
   "source": [
    "## Example 8.6 pgno:304"
   ]
  },
  {
   "cell_type": "code",
   "execution_count": 6,
   "metadata": {
    "collapsed": false
   },
   "outputs": [
    {
     "name": "stdout",
     "output_type": "stream",
     "text": [
      "\n",
      "  Results:  \n",
      "\n",
      " The capacity coefficient of needle valve is  gpm/sqrt(psi). 0.37\n"
     ]
    }
   ],
   "source": [
    "# Aim:To determine the capacity coefficient of needle valve \n",
    "# Given:\n",
    "# Desired cylinder speed:\n",
    "v2=10.0; #in/s\n",
    "# Cylinder piston area:\n",
    "A1=3.14; #in^2\n",
    "# Cylinder rod area:\n",
    "Ar=0.79; #in^2\n",
    "# Cylinder load:\n",
    "F_load=1000.0; #lb\n",
    "# Specific gravity of oil:\n",
    "SG_oil=0.9;\n",
    "# Pressure relief valve setting:\n",
    "p1=500.0; #psi\n",
    "\n",
    "\n",
    "\n",
    "\n",
    "\n",
    "# Solution:\n",
    "# annular area of cylinder,\n",
    "A2=A1-Ar; #in^2\n",
    "# back pressure in the rod end,\n",
    "p2=((p1*A1)-F_load)/A2; #psi\n",
    "# flow rate through needle valve based on desired cylinder speed,\n",
    "Q=(A2*v2*60)/231; #gpm\n",
    "# capacity coefficient of needle valve,\n",
    "Cv=Q/((p2/SG_oil)**0.5); #gpm/sqrt(psi)\n",
    "\n",
    "# Results:\n",
    "print\"\\n  Results:  \"\n",
    "print\"\\n The capacity coefficient of needle valve is  gpm/sqrt(psi).\",round(Cv,2)\n",
    "\n"
   ]
  },
  {
   "cell_type": "code",
   "execution_count": null,
   "metadata": {
    "collapsed": true
   },
   "outputs": [],
   "source": []
  }
 ],
 "metadata": {
  "kernelspec": {
   "display_name": "Python 2",
   "language": "python",
   "name": "python2"
  },
  "language_info": {
   "codemirror_mode": {
    "name": "ipython",
    "version": 2
   },
   "file_extension": ".py",
   "mimetype": "text/x-python",
   "name": "python",
   "nbconvert_exporter": "python",
   "pygments_lexer": "ipython2",
   "version": "2.7.9"
  }
 },
 "nbformat": 4,
 "nbformat_minor": 0
}
