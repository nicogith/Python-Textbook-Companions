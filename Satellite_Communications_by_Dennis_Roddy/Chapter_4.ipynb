{
 "metadata": {
  "name": "",
  "signature": "sha256:3889f080e541059ccdb3a0ca28e3a8926a614c5d9e6ab3f2de315570240fb716"
 },
 "nbformat": 3,
 "nbformat_minor": 0,
 "worksheets": [
  {
   "cells": [
    {
     "cell_type": "heading",
     "level": 1,
     "metadata": {},
     "source": [
      "Chapter 4: Radio Wave Propagation"
     ]
    },
    {
     "cell_type": "heading",
     "level": 2,
     "metadata": {},
     "source": [
      "Example 4.1, Page 97"
     ]
    },
    {
     "cell_type": "code",
     "collapsed": false,
     "input": [
      "import math\n",
      "#Variable Declaration\n",
      "\n",
      "El=50  #Elevation Angle(degrees)\n",
      "h0=0.6 #Earth station altitude(km)\n",
      "hr=3   #Rain height(km)\n",
      "R01=10 #Point Rain Rate(mm/hr)\n",
      "f=12   #frequency(GHz)\n",
      "ah=0.0188\n",
      "bh=1.217\n",
      "av=0.0168\n",
      "bv=1.2\n",
      "#Calculation\n",
      "Ls=(hr-h0)/math.sin(El*3.142/180) #Slant path length(km)\n",
      "LG=Ls*math.cos(El*3.142/180)      #Horizontal projection(km)\n",
      "r01=90/(90+4*LG)      #Reduction factor\n",
      "L=Ls*r01              #Effective path length(km)\n",
      "alphah=ah*R01**bh     #Specific Attenuation\n",
      "AdBh=round(alphah*L,2)#Rain Attenuation for horizontal polarization\n",
      "alphav=av*R01**bv   #Specific Attenuation\n",
      "AdBv=round(alphav*L,2)#Rain Attenuation for vertical polarization\n",
      "\n",
      "#Results\n",
      "\n",
      "print\"Rain Attenuation for given conditions and horizontal polarization is\",AdBh,\"dB\"\n",
      "print\"Rain Attenuation for given conditions and vertical polarization is\",AdBv,\"dB\"\n"
     ],
     "language": "python",
     "metadata": {},
     "outputs": [
      {
       "output_type": "stream",
       "stream": "stdout",
       "text": [
        "Rain Attenuation for given conditions and horizontal polarization is 0.89 dB\n",
        "Rain Attenuation for given conditions and vertical polarization is 0.77 dB\n"
       ]
      }
     ],
     "prompt_number": 1
    },
    {
     "cell_type": "heading",
     "level": 2,
     "metadata": {},
     "source": [
      "Example 4.2, Page 99"
     ]
    },
    {
     "cell_type": "code",
     "collapsed": false,
     "input": [
      "import math\n",
      "#Variable Declaration\n",
      "ah=0.0188\n",
      "bh=1.217\n",
      "av=0.0168\n",
      "bv=1.2\n",
      "R01=10  #Point Rain Rate(mm/hr)\n",
      "L=2.8753812  #Effective path length calculated in Example 4.1(km)\n",
      "\n",
      "#Calculation\n",
      "\n",
      "#Factors depending on frequency and polarization\n",
      "ac=(ah+av)/2 #a for circular polarization\n",
      "bc=(ah*bh+av*bv)/(2*ac) #b for circular polarization\n",
      "\n",
      "alpha=ac*R01**bc  #Specific Attenuation(dB)\n",
      "AdB=round(alpha*L,2)  #Rain Attenuation(dB)\n",
      "\n",
      "\n",
      "#Results\n",
      "\n",
      "print \"The Rain Attenuation for circular polarization is\",AdB,\"dB\""
     ],
     "language": "python",
     "metadata": {},
     "outputs": [
      {
       "output_type": "stream",
       "stream": "stdout",
       "text": [
        "The Rain Attenuation for circular polarization is 0.83 dB\n"
       ]
      }
     ],
     "prompt_number": 2
    }
   ],
   "metadata": {}
  }
 ]
}