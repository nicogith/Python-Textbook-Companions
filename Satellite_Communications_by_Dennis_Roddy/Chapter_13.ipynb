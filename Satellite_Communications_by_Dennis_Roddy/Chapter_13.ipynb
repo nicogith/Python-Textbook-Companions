{
 "metadata": {
  "name": "",
  "signature": "sha256:15f18d4eac7b181ba51c6696eba06fa436baa89f07a517b2b2096748a0e3b407"
 },
 "nbformat": 3,
 "nbformat_minor": 0,
 "worksheets": [
  {
   "cells": [
    {
     "cell_type": "heading",
     "level": 1,
     "metadata": {},
     "source": [
      "Chapter 13: Interference"
     ]
    },
    {
     "cell_type": "heading",
     "level": 2,
     "metadata": {},
     "source": [
      "Example 13.1, Page 350"
     ]
    },
    {
     "cell_type": "code",
     "collapsed": false,
     "input": [
      "#Variable Declaration\n",
      "EIRP1=34     #desired carrier EIRP from satellite(dB)\n",
      "G1=44    # ground station receiving antenna gain(dB)\n",
      "G2=24.47 #Gain in desired direction(dB)\n",
      "EIRP2=34  #EIRP by interfering satellite(dB)\n",
      "PD=4      #Polarization discrimination(dB)\n",
      "\n",
      "#Calculation\n",
      "\n",
      "CIR=EIRP1-EIRP2+G1-G2+PD  #Carrier to Interference ratio(dB)\n",
      "\n",
      "#Result\n",
      "\n",
      "print \"The Carrier to interfernce ratio at the ground receiving antenna is\",CIR,\"dB\""
     ],
     "language": "python",
     "metadata": {},
     "outputs": [
      {
       "output_type": "stream",
       "stream": "stdout",
       "text": [
        "The Carrier to interfernce ratio at the ground receiving antenna is 23.53 dB\n"
       ]
      }
     ],
     "prompt_number": 1
    },
    {
     "cell_type": "heading",
     "level": 2,
     "metadata": {},
     "source": [
      "Example 13.2, Page 350"
     ]
    },
    {
     "cell_type": "code",
     "collapsed": false,
     "input": [
      "#Variable Decalration\n",
      "\n",
      "PA=24   #Transmit power by station A(dBW)\n",
      "G1=54   #Antenna Gain(dB)\n",
      "PC=30   #Transmit power by station C(dBW)\n",
      "G2=24.47#off-axis gain in the S1 direction(dB)\n",
      "PD=4      #Polarization discrimination(dB)\n",
      "\n",
      "#Calculation\n",
      "\n",
      "CIR=PA-PC+G1-G2+PD   #Carrier to Interference ratio(dB)\n",
      "\n",
      "#Result\n",
      "\n",
      "print \"The Carrier to interfernce ratio on uplink is\",CIR,\"dB\""
     ],
     "language": "python",
     "metadata": {},
     "outputs": [
      {
       "output_type": "stream",
       "stream": "stdout",
       "text": [
        "The Carrier to interfernce ratio on uplink is 27.53 dB\n"
       ]
      }
     ],
     "prompt_number": 2
    },
    {
     "cell_type": "heading",
     "level": 2,
     "metadata": {},
     "source": [
      "Example 13.3, Page 351"
     ]
    },
    {
     "cell_type": "code",
     "collapsed": false,
     "input": [
      "import math\n",
      "#Variable Declaration\n",
      "\n",
      "CIR1=27.53   #Carrier to interference ratio from Example 13.1(dB)\n",
      "CIR2=23.53   #Carrier to interference ratio from Example 13.2(dB)\n",
      "\n",
      "#Calculation\n",
      "\n",
      "ICRu=10**(-CIR1/10)  #Interferece to carrier ratio for uplink\n",
      "ICRd=10**(-CIR2/10)  #Interferece to carrier ratio for downlink\n",
      "\n",
      "ICRant=ICRu+ICRd   #Overall Interferece to carrier ratio\n",
      "CIRant=-10*math.log10(ICRant)#Overall Carrier to interference ratio (dB)\n",
      "CIRant=round(CIRant,2)\n",
      "#Result\n",
      "\n",
      "print \"The overall carrier to interference ratio is\",CIRant,\"dB\""
     ],
     "language": "python",
     "metadata": {},
     "outputs": [
      {
       "output_type": "stream",
       "stream": "stdout",
       "text": [
        "The overall carrier to interference ratio is 22.07 dB\n"
       ]
      }
     ],
     "prompt_number": 3
    },
    {
     "cell_type": "heading",
     "level": 2,
     "metadata": {},
     "source": [
      "Example 13.4, Page 352"
     ]
    },
    {
     "cell_type": "code",
     "collapsed": false,
     "input": [
      "import math\n",
      "#Variable Declaration\n",
      "\n",
      "SSi=4 #Initial satellite spacing(degrees)\n",
      "SSl=2 #Later Satellite spacing(degrees)\n",
      "\n",
      "#Calculation\n",
      "\n",
      "IIR=(29-25*math.log10(SSl))-(29-25*math.log10(SSi))  #Increase in Interference(dB)\n",
      "IIR=round(IIR,1)\n",
      "#Result\n",
      "\n",
      "print \"The degradation in downlink C/I is\",IIR,\"dB\""
     ],
     "language": "python",
     "metadata": {},
     "outputs": [
      {
       "output_type": "stream",
       "stream": "stdout",
       "text": [
        "The degradation in downlink C/I is 7.5 dB\n"
       ]
      }
     ],
     "prompt_number": 4
    },
    {
     "cell_type": "heading",
     "level": 2,
     "metadata": {},
     "source": [
      "Example 13.5, Page 356"
     ]
    },
    {
     "cell_type": "code",
     "collapsed": false,
     "input": [
      "#Variable Declaration\n",
      "\n",
      "f=4.2  #modualating frequency(MHz)\n",
      "m=2.571 #Modulation index\n",
      "QIF1=4.2   #Quality Impairment factor(a)\n",
      "QIF2=4.5  #Quality Impairment factor(b)\n",
      "\n",
      "#Calculation\n",
      "\n",
      "Dv=2*m*f  #Peak to peak deviation(MHz)\n",
      "\n",
      "PR1=12.5-20*math.log10(Dv/12)-QIF1+1.1*QIF1**2 #Protection ratio for case(a)\n",
      "PR1=round(PR1,1)\n",
      "PR2=12.5-20*math.log10(Dv/12)-QIF2+1.1*QIF2**2 #Protection ratio for case(b)\n",
      "PR2=round(PR2,1)\n",
      "#Results\n",
      "\n",
      "print \"The protection ratio for quality impairment factor of 4.2 is\",PR1,\"dB\"\n",
      "\n",
      "print \"The protection ratio for quality impairment factor of 4.5 is\",PR2,\"dB\""
     ],
     "language": "python",
     "metadata": {},
     "outputs": [
      {
       "output_type": "stream",
       "stream": "stdout",
       "text": [
        "The protection ratio for quality impairment factor of 4.2 is 22.6 dB\n",
        "The protection ratio for quality impairment factor of 4.5 is 25.2 dB\n"
       ]
      }
     ],
     "prompt_number": 5
    },
    {
     "cell_type": "heading",
     "level": 2,
     "metadata": {},
     "source": [
      "Example 13.6, Page 363"
     ]
    },
    {
     "cell_type": "code",
     "collapsed": false,
     "input": [
      "#Variable Decalration\n",
      "LU=200   #Uplink propogation loss(dB)\n",
      "LD=196   #Downlink propogation loss(dB)\n",
      "GE=25    #Receiving gain of earth station(dB)\n",
      "GE1=25   #Transmit gain of E1 in the direction of S(dB)\n",
      "GS=9     #receive gain of S in the direction of E1(dB)\n",
      "GS1=9   #Transmit gain of satellite S1 in the direction of E(dB)\n",
      "GTE=48  #Transmit gain of E(dB)\n",
      "GRE=48  #Receive gain of E(dB)\n",
      "GRS=19  #Receive gain of S(dB)\n",
      "GTS=19  #Transmit gain of S(dB)\n",
      "US=-60    #Maximum power spectral density(dBJ)\n",
      "US1=1   #Maximum power spectral density(uJ)\n",
      "UE1=10  #Maximum power spectral density transmitted by earth station(uJ)\n",
      "UE=-50  #Maximum power spectral density transmitted by earth station(dBJ)\n",
      "k=-228.6\n",
      "#Calculation\n",
      "\n",
      "URS=UE+GTE+GRS-LU#Received power spectral density at satellite S(dB)\n",
      "URE=US+GTS+GRE-LD#Received power spectral density at satellite E(dB)\n",
      "y=URE-URS    #Transmission gain for network R(dB)\n",
      "\n",
      "I1=US+GS1+GE-LD  #Interference received by earth station(dB)\n",
      "I2=UE+GE1+GS-LU  #Uplink Interference(dB)\n",
      "\n",
      "delTE=I1-k   #Earth station receiver input(dBK)\n",
      "delTE=10**(delTE/float(10))  #Earth station receiver input(K)\n",
      "delTS=I2-k   #Noise temperature at satellite receiver input(dBK)\n",
      "\n",
      "delTSE=y+delTS  #Noise Temperature rise(dBKelvin)\n",
      "delTSE=10**(delTSE/10)  #Noise Temperature rise(Kelvin)\n",
      "delT=delTSE+delTE  #Equivalent noise temperature rise\n",
      "delT=round(delT,2)\n",
      "\n",
      "print URE,URS\n",
      "#Results\n",
      "\n",
      "print \"The transmission gain is\",y,\"dB\"\n",
      "print \"The interference levels I1 an I2 are\",I1,I2,\"dBJ respectively\"\n",
      "print \"The equivalent temperature rise overall is\",delT,\"Kelvin\""
     ],
     "language": "python",
     "metadata": {},
     "outputs": [
      {
       "output_type": "stream",
       "stream": "stdout",
       "text": [
        "-189 -183\n",
        "The transmission gain is -6 dB\n",
        "The interference levels I1 an I2 are -222 -216 dBJ respectively\n",
        "The equivalent temperature rise overall is 9.14 Kelvin\n"
       ]
      }
     ],
     "prompt_number": 6
    }
   ],
   "metadata": {}
  }
 ]
}