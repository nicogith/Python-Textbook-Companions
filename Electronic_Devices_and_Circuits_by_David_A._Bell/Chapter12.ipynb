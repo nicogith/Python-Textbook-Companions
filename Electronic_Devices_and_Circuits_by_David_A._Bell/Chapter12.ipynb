{
 "metadata": {
  "name": ""
 },
 "nbformat": 3,
 "nbformat_minor": 0,
 "worksheets": [
  {
   "cells": [
    {
     "cell_type": "heading",
     "level": 1,
     "metadata": {},
     "source": [
      "Chapter 12 : Small signal Amplifiers"
     ]
    },
    {
     "cell_type": "heading",
     "level": 2,
     "metadata": {},
     "source": [
      "Example 12.1, Page No 474"
     ]
    },
    {
     "cell_type": "code",
     "collapsed": false,
     "input": [
      "import math\n",
      "#initialisation of variables\n",
      "\n",
      "hfe=50.0\n",
      "hie=1.0*10**3\n",
      "hib=20.0\n",
      "f1=100.0\n",
      "Rc=3.3*10**3\n",
      "\n",
      "#Calculations\n",
      "Re=Rc\n",
      "print(\" required capacitance\")\n",
      "Xc2=hib\n",
      "C2=1/(2*3.14*f1*Xc2)\n",
      "print(\" voltage gain with emitter terminal completely bypassed to ground\")\n",
      "Av=-(hfe*Rc)/hie\n",
      "print(\"voltage gain  when f=100\")\n",
      "Av=-(hfe*Rc)/math.sqrt(((hie**2)+((1+hfe)*Xc2)**2))\n",
      "\n",
      "#Results\n",
      "print(\" voltage gain when C2 is incorrectly selected as Xc2=Re/10\")\n",
      "Avx=-(hfe*Rc)/math.sqrt(((hie**2)+((1+hfe)*(Re/10))**2))\n",
      "print('The value of Avx= %.2f ' %(Avx))"
     ],
     "language": "python",
     "metadata": {},
     "outputs": [
      {
       "output_type": "stream",
       "stream": "stdout",
       "text": [
        " required capacitance\n",
        " voltage gain with emitter terminal completely bypassed to ground\n",
        "voltage gain  when f=100\n",
        " voltage gain when C2 is incorrectly selected as Xc2=Re/10\n",
        "The value of Avx= -9.79 \n"
       ]
      }
     ],
     "prompt_number": 1
    },
    {
     "cell_type": "heading",
     "level": 2,
     "metadata": {},
     "source": [
      "Example 12.2, Page No 477"
     ]
    },
    {
     "cell_type": "code",
     "collapsed": false,
     "input": [
      "import math\n",
      "\n",
      "#initialisation of variables\n",
      "\n",
      "Vcc=24.0\n",
      "Ve=5.0\n",
      "Vce=3.0\n",
      "Rl=120.0*10**3\n",
      "Vbe=0.7\n",
      "Rc=Rl/10.0\n",
      "\n",
      "#Calculations\n",
      "Vrc=Vcc-Vce-Ve\n",
      "Ic=Vrc/Rc\n",
      "Re=Ve/Ic#use 3.9Kohm standard value to make Ic littel less than design level\n",
      "Re=3.9*10**3\n",
      "R2=10*Re\n",
      "I2=(Ve+Vbe)/R2\n",
      "R1=(Vcc-Ve-Vbe)/I2\n",
      "\n",
      "#Results\n",
      "print('The value of R1= %.2f ' %(R1/10**3))"
     ],
     "language": "python",
     "metadata": {},
     "outputs": [
      {
       "output_type": "stream",
       "stream": "stdout",
       "text": [
        "The value of R1= 125.21 \n"
       ]
      }
     ],
     "prompt_number": 2
    },
    {
     "cell_type": "heading",
     "level": 2,
     "metadata": {},
     "source": [
      "Example 12.3 Page No 477"
     ]
    },
    {
     "cell_type": "code",
     "collapsed": false,
     "input": [
      "import math\n",
      "\n",
      "#initialisation of variables\n",
      "\n",
      "hfe=100.0\n",
      "Ie=1.3*10**-3\n",
      "f1=100.0\n",
      "R1=120.0*10**3\n",
      "R2=39.0*10**3\n",
      "rs=600.0\n",
      "\n",
      "#Calculations\n",
      "Rl=R1\n",
      "re=(26*10**-3)/Ie\n",
      "Xc2=re\n",
      "C2=1/(2*3.14*f1*Xc2)\n",
      "hie=(1+hfe)*re\n",
      "Zi=(R1*R2*hie)/(R1*R2+R1*hie+R2*hie)\n",
      "C1=1/((2*3.14*f1*((Zi+rs)/10)))\n",
      "C3=1/(2*3.14*f1*((Rc+Rl)/10))\n",
      "\n",
      "#Results\n",
      "print('The value of C3= %.2f mf ' %(C3*10**6))"
     ],
     "language": "python",
     "metadata": {},
     "outputs": [
      {
       "output_type": "stream",
       "stream": "stdout",
       "text": [
        "The value of C3= 0.12 mf \n"
       ]
      }
     ],
     "prompt_number": 3
    },
    {
     "cell_type": "heading",
     "level": 2,
     "metadata": {},
     "source": [
      "Example 12.5, Page No 484"
     ]
    },
    {
     "cell_type": "code",
     "collapsed": false,
     "input": [
      "import math\n",
      "#initialisation of variables\n",
      "rs=600.0\n",
      "f1=100.0\n",
      "Yfs=6000.0*10**-6\n",
      "R1=4.7*10**6\n",
      "R2=1.0*10**6\n",
      "Rd=6.8*10**3\n",
      "Rl=120*10**3\n",
      "\n",
      "#Calculations\n",
      "Xc2=1/Yfs\n",
      "C2=1/(2*3.14*f1*Xc2)\n",
      "Zi=(R1*R2)/(R1+R2)\n",
      "C1=1/(2*3.14*f1*(Zi+rs)/10)\n",
      "C3=1/(2*3.14*f1*(Rd+Rl)/10)\n",
      "\n",
      "#Calculations\n",
      "print('The value of C3= %.2f mF' %(C3*10**6))"
     ],
     "language": "python",
     "metadata": {},
     "outputs": [
      {
       "output_type": "stream",
       "stream": "stdout",
       "text": [
        "The value of C3= 0.13 mF\n"
       ]
      }
     ],
     "prompt_number": 4
    },
    {
     "cell_type": "heading",
     "level": 2,
     "metadata": {},
     "source": [
      "Example 12.7 Page No 489"
     ]
    },
    {
     "cell_type": "code",
     "collapsed": false,
     "input": [
      "import math\n",
      "#initialisation of variables\n",
      "\n",
      "R1=120.0*10**3\n",
      "R2=39.0*10**3\n",
      "hie=2.0*10**3\n",
      "R7=12.0*10**3\n",
      "Zo=R7\n",
      "R5=R1\n",
      "R6=R2\n",
      "hfe=100.0\n",
      "\n",
      "#Calculations\n",
      "R3=R7\n",
      "Zl=R1\n",
      "Zi=(R1*R2*hie)/(R1*R2+R1*hie+R2*hie)\n",
      "Zi2=(R1*R2*hie)/(R1*R2+R1*hie+R2*hie)\n",
      "Av1=-(hfe*((R3*Zi2)/(R3+Zi2)))/hie\n",
      "Av2=-(hfe*((R7*Zl)/(R7+Zl)))/hie\n",
      "Av=Av1*Av2\n",
      "\n",
      "#Results\n",
      "print('The value of Av= %.2f ' %(Av))"
     ],
     "language": "python",
     "metadata": {},
     "outputs": [
      {
       "output_type": "stream",
       "stream": "stdout",
       "text": [
        "The value of Av= 44180.12 \n"
       ]
      }
     ],
     "prompt_number": 5
    },
    {
     "cell_type": "heading",
     "level": 2,
     "metadata": {},
     "source": [
      "Example 12.8 Page No 491"
     ]
    },
    {
     "cell_type": "code",
     "collapsed": false,
     "input": [
      "import math\n",
      "\n",
      "#initialisation of variables\n",
      "\n",
      "Ve1=5.0\n",
      "Vce1=3.0\n",
      "Vce2=3.0\n",
      "Vbe=0.7\n",
      "Vcc=14.0\n",
      "Rl=40.0*10**3\n",
      "\n",
      "#Calculations\n",
      "Vb2=Ve1+Vce1\n",
      "Vc1=Vb2\n",
      "Ve2=Vb2-Vbe\n",
      "Vr5=Vcc-Ve2-Vce2\n",
      "R5=Rl/10#use 3.9Kohm satandard value\n",
      "R5=3.9*10**3\n",
      "Ic2=Vr5/R5\n",
      "R6=Ve2/Ic2#use 8.2Kohm as standard and recalculate\n",
      "R6=8.2*10**3\n",
      "Ic2=Ve2/R6\n",
      "Vr3=Vcc-Vc1\n",
      "print(\" Ic1>>Ib2 %select Ic1=1mA\")\n",
      "Ic1=1*10**-3\n",
      "R3=Vr3/Ic1#use standard value as 5.6Kohm and recalculate Ic1 in order ti keep Vb2=8V\n",
      "R3=5.6*10**3\n",
      "Ic1=Vr3/R3\n",
      "R4=Ve1/Ic1\n",
      "Vr2=Ve1+Vbe\n",
      "Vr1=Vcc-Ve1-Vbe\n",
      "R2=10*R4\n",
      "I2=(Ve1+Vbe)/R2\n",
      "R1=(Vr1*R2)/Vr2\n",
      "\n",
      "#Results\n",
      "print('The value of R1= %.2f kohm' %(R1/10**3))"
     ],
     "language": "python",
     "metadata": {},
     "outputs": [
      {
       "output_type": "stream",
       "stream": "stdout",
       "text": [
        " Ic1>>Ib2 %select Ic1=1mA\n",
        "The value of R1= 67.95 kohm\n"
       ]
      }
     ],
     "prompt_number": 6
    },
    {
     "cell_type": "heading",
     "level": 2,
     "metadata": {},
     "source": [
      "Example 12.9, Page No 493"
     ]
    },
    {
     "cell_type": "code",
     "collapsed": false,
     "input": [
      "import math\n",
      "#initialisation of variables\n",
      "\n",
      "hfe=50.0\n",
      "re=26.0\n",
      "R1=68.0*10**3\n",
      "R2=47.0*10**3\n",
      "rs=600.0\n",
      "f1=75.0\n",
      "R5=3.9*10**3\n",
      "Rl=40.0*10**3\n",
      "\n",
      "#Calculations\n",
      "hie=(1+hfe)*re\n",
      "Zi=(R1*R2*hie)/(R1*R2+R1*hie+R2*hie)\n",
      "Xc1=(Zi+rs)/10\n",
      "C1=1/(2*3.14*f1*Xc1)\n",
      "Xc2=.65*re\n",
      "Xc3=Xc2\n",
      "C2=1/(2*3.14*f1*Xc2)\n",
      "C3=C2\n",
      "Xc4=(R5+Rl)/10\n",
      "C4=1/(2*3.14*f1*Xc4)\n",
      "\n",
      "#Results\n",
      "print('The value of C4= %.2f mf' %(C4*10**6))"
     ],
     "language": "python",
     "metadata": {},
     "outputs": [
      {
       "output_type": "stream",
       "stream": "stdout",
       "text": [
        "The value of C4= 0.48 mf\n"
       ]
      }
     ],
     "prompt_number": 7
    },
    {
     "cell_type": "heading",
     "level": 2,
     "metadata": {},
     "source": [
      "Example 12.10, Page No 494"
     ]
    },
    {
     "cell_type": "code",
     "collapsed": false,
     "input": [
      "import math\n",
      "#initialisation of variables\n",
      "\n",
      "hfe=50.0\n",
      "hie=1.3*10**3\n",
      "R3=5.6*10**3\n",
      "R5=3.9*10**3\n",
      "Rl=40.0*10**3\n",
      "\n",
      "#Calculations\n",
      "Av1=-(hfe*((R3*hie)/(R3+hie)))/hie\n",
      "Av2=-(hfe*((R5*Rl)/(R5+Rl)))/hie\n",
      "\n",
      "#Results\n",
      "print(\" overall voltage gain is Av=Av1*Av2\")\n",
      "Av=Av1*Av2\n",
      "print('The value of Av= %.2f ' %(Av))"
     ],
     "language": "python",
     "metadata": {},
     "outputs": [
      {
       "output_type": "stream",
       "stream": "stdout",
       "text": [
        " overall voltage gain is Av=Av1*Av2\n",
        "The value of Av= 5546.20 \n"
       ]
      }
     ],
     "prompt_number": 8
    },
    {
     "cell_type": "heading",
     "level": 2,
     "metadata": {},
     "source": [
      "Example 12.11 Page No 497"
     ]
    },
    {
     "cell_type": "code",
     "collapsed": false,
     "input": [
      "import math \n",
      "\n",
      "#initialisation of variables\n",
      "\n",
      "Vp=100.0*10**-3\n",
      "Rl=100.0\n",
      "Vbe=0.7\n",
      "Vcc=20.0\n",
      "\n",
      "#Calculations\n",
      "ip=Vp/Rl\n",
      "print(\"select Ie2>ip\")\n",
      "Ie2=2.0*10**-3\n",
      "Ve1=5.0\n",
      "Vce1=3.0\n",
      "Vb2=Ve1+Vce1\n",
      "Vc1=Vb2\n",
      "Ve2=Vb2-Vbe\n",
      "R5=Ve2/Ie2#use 3.3Kohm standard value\n",
      "R5=3.3*10**3\n",
      "Ic1=1*10**-3\n",
      "Vr3=Vcc-Vb2\n",
      "R3=Vr3/Ic1\n",
      "R4=Ve1/Ic1#use 4.7Kohm standard value\n",
      "R4=4.7*10**3\n",
      "Vb1=Ic1*R4+Vbe\n",
      "R2=10*R4\n",
      "R1=((Vcc-Vb1)*R2)/Vr2\n",
      "\n",
      "#Results\n",
      "print('The value of R1= %.2f kohm ' %(R1/10**3))"
     ],
     "language": "python",
     "metadata": {},
     "outputs": [
      {
       "output_type": "stream",
       "stream": "stdout",
       "text": [
        "select Ie2>ip\n",
        "The value of R1= 120.39 kohm \n"
       ]
      }
     ],
     "prompt_number": 9
    },
    {
     "cell_type": "heading",
     "level": 2,
     "metadata": {},
     "source": [
      "Example 12.12 Page No 498"
     ]
    },
    {
     "cell_type": "code",
     "collapsed": false,
     "input": [
      "import math\n",
      "#initialisation of variables\n",
      "\n",
      "rs=600.0\n",
      "Ie1=1.0*10**-3\n",
      "hfe=50.0\n",
      "R1=120.0*10**3\n",
      "R2=47.0*10**3\n",
      "f1=150.0\n",
      "Ie2=2.0*10**-3\n",
      "R5=3.3*10**3\n",
      "R3=12.0*10**3\n",
      "Rl=100.0\n",
      "\n",
      "#Calculations\n",
      "re=26*10**-3/Ie1\n",
      "hie=(1+hfe)*re\n",
      "Zi=(R1*R2*hie)/(R1*R2+R1*hie+R2*hie)\n",
      "Xc1=(Zi+rs)/10\n",
      "C1=1/(2*3.14*f1*Xc1)#use 6*10**-6 as standard value\n",
      "Xc2=.65*re\n",
      "C2=1/(2*3.14*f1*Xc2)\n",
      "re2=26*10**-3/Ie2\n",
      "Zo=(R5*(re2+R3/hfe))/(R5+(re2+R3/hfe))\n",
      "Xc3=.65*(Rl+Zo)\n",
      "C3=1/(2*3.14*f1*Xc3)\n",
      "\n",
      "#Results\n",
      "print('The value of C3= %.2f mf' %(C3*10**6))"
     ],
     "language": "python",
     "metadata": {},
     "outputs": [
      {
       "output_type": "stream",
       "stream": "stdout",
       "text": [
        "The value of C3= 4.88 mf\n"
       ]
      }
     ],
     "prompt_number": 10
    },
    {
     "cell_type": "heading",
     "level": 2,
     "metadata": {},
     "source": [
      "Example 12.13 Page No 499"
     ]
    },
    {
     "cell_type": "code",
     "collapsed": false,
     "input": [
      "import math\n",
      "\n",
      "#initialisation of variables\n",
      "\n",
      "Ie2=2.0*10**-3\n",
      "hfe=50.0\n",
      "R5=3.3*10**3\n",
      "Rl=100.0\n",
      "hfc2=51.0\n",
      "R3=12.0*10**3\n",
      "\n",
      "#Calculations\n",
      "re=26*10**-3/Ie2\n",
      "hic=hfe*re\n",
      "Zi2=hic+hfc2*((Rl*R5)/(Rl+R5))\n",
      "Av1=-(hfe*((R3*Zi2)/(R3+Zi2)))/hie\n",
      "Av2=1.0\n",
      "\n",
      "#Results\n",
      "print(\"overall voltage gain is Av=Av1*Av2\")\n",
      "Av=Av1*Av2\n",
      "print('The value of Av= %.2f ' %(Av))"
     ],
     "language": "python",
     "metadata": {},
     "outputs": [
      {
       "output_type": "stream",
       "stream": "stdout",
       "text": [
        "overall voltage gain is Av=Av1*Av2\n",
        "The value of Av= -143.97 \n"
       ]
      }
     ],
     "prompt_number": 11
    },
    {
     "cell_type": "heading",
     "level": 2,
     "metadata": {},
     "source": [
      "Example 12.14, Page No 503"
     ]
    },
    {
     "cell_type": "code",
     "collapsed": false,
     "input": [
      "import math\n",
      "\n",
      "#initialisation of variables\n",
      "\n",
      "vp=50.0*10**-3\n",
      "Rl=50.0\n",
      "Ve2=5.0\n",
      "Vcc=12.0\n",
      "Vbe=0.7\n",
      "hFE=70.0\n",
      "hfe=100.0\n",
      "R2=120.0*10**3\n",
      "f1=150.0\n",
      "R3=150.0*10**3\n",
      "R1=5.6*10**3\n",
      "R4=2.2*10**3\n",
      "\n",
      "#Calculations\n",
      "ip=vp/Rl\n",
      "print(\"select Ie2>ip\")\n",
      "Ie2=2*10**-3\n",
      "R4=Ve2/Ie2#use standard 2.2Kohm\n",
      "R4=2.2*10**3\n",
      "Ie2=Ve2/R4\n",
      "Ic1=1*10**-3\n",
      "Vr1=Vcc-(Vbe+Ve2)\n",
      "R1=Vr1/Ic1#use 5.6kohm and recalculate\n",
      "R1=5.6*10**3\n",
      "Ic1=Vr1/R1\n",
      "Ib1=Ic1/hFE\n",
      "hie=hfe*(26*10**-3/Ic1)\n",
      "hie2=hfe*((26*10**-3)/(2.27*10**-3))\n",
      "Zi1=(R2*hie)/(R2+hie)\n",
      "Xc1=Zi1/10\n",
      "C1=1/(2*3.14*f1*Xc1)\n",
      "Xc2=R3/100\n",
      "C2=1/(2*3.14*f1*Xc2)\n",
      "Zo=(((hie2+R1)/hfe)*R4)/(((hie2+R1)/hfe)+R4)\n",
      "Xc3=Rl+Zo\n",
      "C3=1/(2*3.14*f1*Xc3)\n",
      "\n",
      "#Results\n",
      "print('The value of C3= %.2f mf' %(C3*10**6))"
     ],
     "language": "python",
     "metadata": {},
     "outputs": [
      {
       "output_type": "stream",
       "stream": "stdout",
       "text": [
        "select Ie2>ip\n",
        "The value of C3= 9.20 mf\n"
       ]
      }
     ],
     "prompt_number": 12
    },
    {
     "cell_type": "heading",
     "level": 2,
     "metadata": {},
     "source": [
      "Example 12.15, Page No 407"
     ]
    },
    {
     "cell_type": "code",
     "collapsed": false,
     "input": [
      "import math\n",
      "#initialisation of variables\n",
      "\n",
      "Vgsoff=-6.0\n",
      "Idss=20.0*10**-3\n",
      "Yfs=4000.0*10**-6\n",
      "Id=2.0*10**-3\n",
      "Vcc=20.0\n",
      "Zi=500.0*10**3\n",
      "R2=560.0*10**3\n",
      "Rl=80.0*10**3\n",
      "Vbe=0.7\n",
      "Vce=3.0\n",
      "\n",
      "#Calculations\n",
      "Vgs=Vgsoff*(1-math.sqrt(Id/Idss))\n",
      "Vds=(-Vgsoff)+1-(-Vgs)\n",
      "Vr3=(Vcc-Vds)/2\n",
      "Vr4=Vr3\n",
      "R3=Vr4/Id#use 3.9kohm as standard and recalculate Vr3 and Vr4\n",
      "R4=R3\n",
      "R4=3.9*10**3\n",
      "Vr3=Id*R4\n",
      "Vr4=Vr3\n",
      "Vr2=Vr4-(-Vgs)\n",
      "Vr1=Vcc-Vr2\n",
      "R1=(Vr1*R2)/Vr2\n",
      "R6=Rl/10\n",
      "Vr5=Vr3-Vbe\n",
      "Vr6=Vcc-Vr5-Vce\n",
      "Ic2=Vr6/R6\n",
      "R5=Vr5/Ic2\n",
      "\n",
      "#Results\n",
      "print('The value of R5= %.2f kohm' %(R5/10**3))"
     ],
     "language": "python",
     "metadata": {},
     "outputs": [
      {
       "output_type": "stream",
       "stream": "stdout",
       "text": [
        "The value of R5= 5.74 kohm\n"
       ]
      }
     ],
     "prompt_number": 13
    },
    {
     "cell_type": "heading",
     "level": 2,
     "metadata": {},
     "source": [
      "Example 12.16, Page No 508"
     ]
    },
    {
     "cell_type": "code",
     "collapsed": false,
     "input": [
      "import math\n",
      "#initialisation of variables\n",
      "\n",
      "R1=2.7*10**6\n",
      "R2=560.0*10**3\n",
      "f1=150.0\n",
      "Yfs=8000.0*10**-6\n",
      "Ie=1.2*10**-3\n",
      "Rl=80.0*10**3\n",
      "R6=8.2*10**3\n",
      "\n",
      "#Calculations\n",
      "Zi=(R1*R2)/(R1+R2)\n",
      "Xc1=Zi/10\n",
      "C1=1/(2*3.14*f1*Xc1)\n",
      "Xc2=.65/Yfs\n",
      "C2=1/(2*3.14*f1*Xc2)#use 15pF as standard value\n",
      "re=26*10**-3/Ie\n",
      "Xc3=.65*re\n",
      "C3=1/(2*3.14*f1*Xc3)\n",
      "Xc4=(R6+Rl)/10\n",
      "C4=1/(2*3.14*f1*Xc4)\n",
      "\n",
      "#Results\n",
      "print('The value of C4= %.2f mf' %(C4*10**6))"
     ],
     "language": "python",
     "metadata": {},
     "outputs": [
      {
       "output_type": "stream",
       "stream": "stdout",
       "text": [
        "The value of C4= 0.12 mf\n"
       ]
      }
     ],
     "prompt_number": 14
    },
    {
     "cell_type": "heading",
     "level": 2,
     "metadata": {},
     "source": [
      "Example 12.17, Page No 509"
     ]
    },
    {
     "cell_type": "code",
     "collapsed": false,
     "input": [
      "import math\n",
      "#initialisation of variables\n",
      "\n",
      "re=22.0\n",
      "hfe=100.0\n",
      "R3=3.9*10**3\n",
      "Yfs=4000*10**-6\n",
      "R6=8.2*10**3\n",
      "Rl=80.*10**3\n",
      "\n",
      "#Calculations\n",
      "Zi2=hfe*re\n",
      "Av1=-Yfs*((R3*Zi2)/(R3+Zi2))\n",
      "Av2=-(hfe*((R6*Rl)/(R6+Rl)))/Zi2\n",
      "\n",
      "#Results\n",
      "print(\"overall voltage is Av=Av1*Av2\")\n",
      "Av=Av1*Av2\n",
      "print('The value of Av= %.2f ' %(Av))"
     ],
     "language": "python",
     "metadata": {},
     "outputs": [
      {
       "output_type": "stream",
       "stream": "stdout",
       "text": [
        "overall voltage is Av=Av1*Av2\n",
        "The value of Av= 1902.09 \n"
       ]
      }
     ],
     "prompt_number": 15
    },
    {
     "cell_type": "heading",
     "level": 2,
     "metadata": {},
     "source": [
      "Example 12.18, Page No 516"
     ]
    },
    {
     "cell_type": "code",
     "collapsed": false,
     "input": [
      "import math\n",
      "#initialisation of variables\n",
      "\n",
      "hFE=60.0\n",
      "hfe=60.0\n",
      "hie=1.4*10**3\n",
      "Rl=70.0*10**3\n",
      "Vce=3.0\n",
      "Vbe=.7\n",
      "Vcc=10.0\n",
      "\n",
      "#Calculations\n",
      "Rc2=Rl/10#use 6.8Kohm as standard value\n",
      "Vrc2=Vcc+Vbe-Vce\n",
      "Ic=Vrc2/Rc2\n",
      "Ie=Ic\n",
      "Re=(Vcc-Vbe)/(2*Ie)#use 4.7 as standard value\n",
      "Re=4.7*10**3\n",
      "Rb=Vbe/(10*(Ic/hFE))\n",
      "Rb1=Rb\n",
      "\n",
      "#Results\n",
      "print('The value of Rb= %.2f kohm ' %(Rb/1000))"
     ],
     "language": "python",
     "metadata": {},
     "outputs": [
      {
       "output_type": "stream",
       "stream": "stdout",
       "text": [
        "The value of Rb= 3.82 kohm \n"
       ]
      }
     ],
     "prompt_number": 16
    },
    {
     "cell_type": "heading",
     "level": 2,
     "metadata": {},
     "source": [
      "Example 12.19, Page No 517"
     ]
    },
    {
     "cell_type": "code",
     "collapsed": false,
     "input": [
      "import math\n",
      "#initialisation of variables\n",
      "\n",
      "f1=60.0\n",
      "Ie=1.13*10**-3\n",
      "hfe=60.0\n",
      "Rb=3.9*10**3\n",
      "Rl=70.0*10**3\n",
      "Rc=6.8*10**3\n",
      "\n",
      "#Calculations\n",
      "re=26*10**-3/Ie#use 20 as standard value\n",
      "re=20\n",
      "hie=hfe*re\n",
      "Zb=2*hie\n",
      "Zi=(Rb*Zb)/(Rb+Zb)\n",
      "C1=1/(2*3.14*f1*Zi)\n",
      "C2=1/(2*3.14*f1*(Rl/10))\n",
      "Av=(hfe*((Rc*Rl)/(Rc+Rl)))/(2*hie)\n",
      "\n",
      "#Results\n",
      "print('The value of Av= %.2f ' %(Av))"
     ],
     "language": "python",
     "metadata": {},
     "outputs": [
      {
       "output_type": "stream",
       "stream": "stdout",
       "text": [
        "The value of Av= 154.95 \n"
       ]
      }
     ],
     "prompt_number": 17
    },
    {
     "cell_type": "heading",
     "level": 2,
     "metadata": {},
     "source": [
      "Example 12.20, Page No 521"
     ]
    },
    {
     "cell_type": "code",
     "collapsed": false,
     "input": [
      "import math\n",
      "#initialisation of variables\n",
      "\n",
      "Vcc=20.0\n",
      "Rl=90.0*10**3\n",
      "hfe=50.0\n",
      "hie=1.2*10**3\n",
      "hib=24.0\n",
      "Vce=3\n",
      "Vce1=Vce\n",
      "Ve=5.0\n",
      "Vbe=0.7\n",
      "\n",
      "#Calculations\n",
      "Rc=Rl/10#use 8.2kohm as standard value\n",
      "Rc=8.2*10**3\n",
      "Vrc=Vcc-Vce-Vce1-Ve\n",
      "Ic=Vrc/Rc\n",
      "Re=Ve/Ic\n",
      "Re=4.7*10**3#use 4.7 as standard value\n",
      "R3=10*Re\n",
      "Vb1=Ve+Vbe\n",
      "I3=Vb1/R3\n",
      "Vb2=Ve+Vce+Vbe\n",
      "Vr2=Vb2-Vb1\n",
      "R2=Vr2/I3\n",
      "R1=(Vcc-Vb2)/I3\n",
      "\n",
      "#Results\n",
      "print('The value of R1= %.2f kohm ' %(R1/1000))"
     ],
     "language": "python",
     "metadata": {},
     "outputs": [
      {
       "output_type": "stream",
       "stream": "stdout",
       "text": [
        "The value of R1= 93.18 kohm \n"
       ]
      }
     ],
     "prompt_number": 18
    },
    {
     "cell_type": "heading",
     "level": 2,
     "metadata": {},
     "source": [
      "Example 12.21, Page No 522"
     ]
    },
    {
     "cell_type": "code",
     "collapsed": false,
     "input": [
      "import math\n",
      "#initialisation of variables\n",
      "\n",
      "f1=25.0\n",
      "R2=24.7*10**3\n",
      "R3=47.0*10**3\n",
      "hie=1.2*10**3\n",
      "hib=24.0\n",
      "Rc=9.0*10**3\n",
      "Rl=90*10**3\n",
      "\n",
      "#Calculations\n",
      "Zi=(R2*R3*hie)/(R2*R3+R2*hie+R3*hie)\n",
      "C1=1/(2*3.14*f1*(Zi/10))\n",
      "C2=1/(2*3.14*f1*(hie/10))\n",
      "C3=1/(2*3.14*f1*hib)\n",
      "C4=1/(2*3.14*f1*((Rc+Rl)/10))\n",
      "\n",
      "#Results\n",
      "print('The value of C4= %.2f mF' %(C4*10**6))"
     ],
     "language": "python",
     "metadata": {},
     "outputs": [
      {
       "output_type": "stream",
       "stream": "stdout",
       "text": [
        "The value of C4= 0.64 mF\n"
       ]
      }
     ],
     "prompt_number": 19
    },
    {
     "cell_type": "heading",
     "level": 2,
     "metadata": {},
     "source": [
      "Example 12.22, Page No 525"
     ]
    },
    {
     "cell_type": "code",
     "collapsed": false,
     "input": [
      "import math\n",
      "#initialisation of variables\n",
      "\n",
      "hie=1.0\n",
      "hfe=50.0\n",
      "hoe=10.0*10**-6\n",
      "Cc=5*10**-12\n",
      "Cp=330*10**-12\n",
      "Lp=75*10**-6\n",
      "Rw=1.0\n",
      "Rl=5.0\n",
      "hfb=50.0\n",
      "fo=1.0*10**6\n",
      "\n",
      "#Calculations\n",
      "fo=1.0/(2.0*3.14*math.sqrt(Lp*(Cp+Cc)))\n",
      "print(\"resonance frequency is %3fHz \" %fo)\n",
      "Zp=Lp/((Cp+Cc)*Rw)\n",
      "Rc=(1.0/hoe)/1000\n",
      "RL=(Zp*Rc*Rl)/(Rl*Rc+Rc*Zp+Rl*Zp)\n",
      "RL1=4.7    #as standard value\n",
      "Av=(hfb*RL1)/hie\n",
      "print(\" voltage gain is %d \" %Av)\n",
      "Qp=7.6\n",
      "QL=(2*3.14*fo*Lp)/Rw\n",
      "print(\"since QL>Qp\")\n",
      "fo=1\n",
      "B=fo/Qp\n",
      "\n",
      "#Results\n",
      "print(\"bandwidth is %.2f kHz \" %(B*10**3))\n"
     ],
     "language": "python",
     "metadata": {},
     "outputs": [
      {
       "output_type": "stream",
       "stream": "stdout",
       "text": [
        "resonance frequency is 1004586.461587Hz \n",
        " voltage gain is 235 \n",
        "since QL>Qp\n",
        "bandwidth is 131.58 kHz \n"
       ]
      }
     ],
     "prompt_number": 20
    },
    {
     "cell_type": "heading",
     "level": 2,
     "metadata": {},
     "source": [
      "Example 12.23, Page No 528"
     ]
    },
    {
     "cell_type": "code",
     "collapsed": false,
     "input": [
      "import math\n",
      "#initialisation of variables\n",
      "hie=1.0*10**3\n",
      "hfe=50.0\n",
      "hoe=10.0*10**-6\n",
      "Cc=5.0*10**-12\n",
      "Cp=330.0*10**-12\n",
      "Lp=75.0*10**-6\n",
      "Rw=1.0\n",
      "Rl=5.0*10**3\n",
      "fo=1.0*10**6\n",
      "zP=224.0*10**3\n",
      "rC=100.0*10**3\n",
      "K=0.015\n",
      "Ls=50.0*10**-6\n",
      "\n",
      "\n",
      "#Calculations\n",
      "RL=(Zp*Rc)/(Rc+Zp)\n",
      "print(\"voltage gain from the input to the primary memory winding\")\n",
      "Avp=(hfe*RL)/hie\n",
      "Vsp=K*math.sqrt(Ls/Lp)\n",
      "print(\"overall voltage gain from the input to teh secondary winding\")\n",
      "Av=Avp*Vsp\n",
      "Qp=Rc/(2*3.14*fo*Lp)\n",
      "Ql=471\n",
      "Q=(Ql*Qp)/(Ql+Qp)\n",
      "B=fo/Q\n",
      "\n",
      "\n",
      "#Results\n",
      "print(\"bandwidth is %.2f kHz \" %(B/10**5))"
     ],
     "language": "python",
     "metadata": {},
     "outputs": [
      {
       "output_type": "stream",
       "stream": "stdout",
       "text": [
        "voltage gain from the input to the primary memory winding\n",
        "overall voltage gain from the input to teh secondary winding\n",
        "bandwidth is 47.12 kHz \n"
       ]
      }
     ],
     "prompt_number": 21
    },
    {
     "cell_type": "heading",
     "level": 2,
     "metadata": {},
     "source": [
      "Example 12.24, Page No 530"
     ]
    },
    {
     "cell_type": "code",
     "collapsed": false,
     "input": [
      "import math\n",
      "#initialisation of variables\n",
      "\n",
      "f=1.0*10**6\n",
      "L2=50.0*10**-6\n",
      "K=0.015\n",
      "L1=75*10**-6\n",
      "rs=5.0\n",
      "Rw=1.0\n",
      "Lp=100.0*10**-6\n",
      "Cp=330.0*10**-12\n",
      "Cc=5.0*10**-12\n",
      "Rc=100.0*10**3\n",
      "hfe=50.0\n",
      "hie=1.0*10**3\n",
      "\n",
      "\n",
      "#Calculations\n",
      "C2=1/(((2*3.14*f)**2)*L2)\n",
      "M=K*math.sqrt(L1*L2)\n",
      "Rs=(((2*3.14*f)**2)*(M)**2)/rs\n",
      "Rp=Rs+Rw\n",
      "Zp=Lp/((Cp+Cc)*Rp)\n",
      "Rl=(Zp*Rc)/(Zp+Rc)\n",
      "print(\"voltage gain from the input to primary winding\")\n",
      "Avp=(hfe*Rl)/hie\n",
      "Vsp=12.2*10**-3\n",
      "Vos=((2*3.14*f)*L2)/rs\n",
      "\n",
      "#Results\n",
      "print(\"overall voltage gain from the input to secondary winding \")\n",
      "Av=Avp*Vos*Vsp\n",
      "print('The value of Av= %.2f ' %(Av))"
     ],
     "language": "python",
     "metadata": {},
     "outputs": [
      {
       "output_type": "stream",
       "stream": "stdout",
       "text": [
        "voltage gain from the input to primary winding\n",
        "overall voltage gain from the input to secondary winding \n",
        "The value of Av= 1074.71 \n"
       ]
      }
     ],
     "prompt_number": 22
    }
   ],
   "metadata": {}
  }
 ]
}