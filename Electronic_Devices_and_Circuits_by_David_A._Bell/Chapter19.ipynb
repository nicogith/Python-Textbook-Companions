{
 "metadata": {
  "name": ""
 },
 "nbformat": 3,
 "nbformat_minor": 0,
 "worksheets": [
  {
   "cells": [
    {
     "cell_type": "heading",
     "level": 1,
     "metadata": {},
     "source": [
      "Chapter 19 : Power amplifiers"
     ]
    },
    {
     "cell_type": "heading",
     "level": 2,
     "metadata": {},
     "source": [
      "Example 19.1, Page No 810"
     ]
    },
    {
     "cell_type": "code",
     "collapsed": false,
     "input": [
      "import math\n",
      "\n",
      "Rpy=40.0\n",
      "N1=74.0\n",
      "N2=14.0\n",
      "R2=3.7*10**3\n",
      "R1=4.7*10**3\n",
      "Vbe=0.7\n",
      "Re=1.0*10**3\n",
      "Vcc=13.0\n",
      "Rl=56.0\n",
      "\n",
      "#Calculations\n",
      "print(\"Q-point\")\n",
      "Vb=Vcc*(R2/(R1+R2))\n",
      "Ic=(Vb-Vbe)/Re\n",
      "Ie=Ic\n",
      "Vce=Vcc-Ic*(Rpy+Re)\n",
      "rl=(N1/N2)**2 *Rl\n",
      "rl=rl+Rpy\n",
      "Ic=5*10**-3\n",
      "Vce=Ic*rl\n",
      "\n",
      "#Results\n",
      "print(\"The value of Vce is %.2f v \" %Vce)"
     ],
     "language": "python",
     "metadata": {},
     "outputs": [
      {
       "output_type": "stream",
       "stream": "stdout",
       "text": [
        "Q-point\n",
        "The value of Vce is 8.02 v \n"
       ]
      }
     ],
     "prompt_number": 44
    },
    {
     "cell_type": "heading",
     "level": 2,
     "metadata": {},
     "source": [
      "Example 19.2, Page No 814"
     ]
    },
    {
     "cell_type": "code",
     "collapsed": false,
     "input": [
      "import math\n",
      "\n",
      "#initialisation of variables\n",
      "\n",
      "Vcc=13.0\n",
      "Icq=5.0*10**-3\n",
      "Vceq=8.0\n",
      "Vp=Vceq\n",
      "Ip=Icq\n",
      "nt=0.8\n",
      "\n",
      "#Calculations\n",
      "Pi=Vcc*Icq\n",
      "Po=.5*Vp*Ip\n",
      "P0=nt*Po\n",
      "n=(P0/Pi)*100.0\n",
      "\n",
      "#Results\n",
      "print(\" maximum efficiency is %3.2f percentage \" %n)"
     ],
     "language": "python",
     "metadata": {},
     "outputs": [
      {
       "output_type": "stream",
       "stream": "stdout",
       "text": [
        " maximum efficiency is 24.62 percentage \n"
       ]
      }
     ],
     "prompt_number": 45
    },
    {
     "cell_type": "heading",
     "level": 2,
     "metadata": {},
     "source": [
      "Example 19.4 Page No 821"
     ]
    },
    {
     "cell_type": "code",
     "collapsed": false,
     "input": [
      "import math\n",
      "\n",
      "#initialisation of variables\n",
      "N1=60.0\n",
      "N2=10.0\n",
      "Rl=16.0\n",
      "Rpy=0\n",
      "R6=56.0\n",
      "Vcc=27.0\n",
      "Vce=0.5\n",
      "n=0.79\n",
      "\n",
      "#Calculations\n",
      "print(\" Referred laod\")\n",
      "rl=(N1/N2)**2 *Rl\n",
      "print(\" tatol ac load line in series with each of Q2 and Q3\")\n",
      "Rl=rl+R6+Rpy\n",
      "print(\" peak primary current\")\n",
      "Ip=(Vcc-Vce)/Rl\n",
      "print(\"peak primary voltage\")\n",
      "Vp=Vcc-Vce-(Ip*R6)\n",
      "print(\"power delivered to primary\")\n",
      "Po=.5*Vp*Ip\n",
      "\n",
      "#Calculations\n",
      "Po=Po*n#n is power efficiency\n",
      "print(\"power delivered  to the load %.2f W \" %Po)\n"
     ],
     "language": "python",
     "metadata": {},
     "outputs": [
      {
       "output_type": "stream",
       "stream": "stdout",
       "text": [
        " Referred laod\n",
        " tatol ac load line in series with each of Q2 and Q3\n",
        " peak primary current\n",
        "peak primary voltage\n",
        "power delivered to primary\n",
        "power delivered  to the load 0.40 W \n"
       ]
      }
     ],
     "prompt_number": 46
    },
    {
     "cell_type": "heading",
     "level": 2,
     "metadata": {},
     "source": [
      "Example 19.5, Page No 824"
     ]
    },
    {
     "cell_type": "code",
     "collapsed": false,
     "input": [
      "import math\n",
      "#initialisation of variables\n",
      "\n",
      "Po=4.0\n",
      "nt=0.8\n",
      "Vcc=30.0\n",
      "Vp=Vcc\n",
      "Rl=16.0\n",
      "\n",
      "#Calculations\n",
      "P0=Po/nt\n",
      "rl=(Vp)**2 /(2*P0)\n",
      "rl=4*rl\n",
      "print(\"transformer specification Po=4  %Rl=16 rl=360\")\n",
      "Vce=2.0*Vcc\n",
      "Ip=(2.0*P0)/Vp\n",
      "Pi=Vcc*.636*Ip\n",
      "Pt=0.5*(Pi-P0)\n",
      "\n",
      "#Results\n",
      "print(\" transistor specification is Py=.68W  Vce=60 Ip=333mA\")\n",
      "print(\"power delivered  to the load Pi = %.2f W \" %Pi)\n",
      "print(\"power delivered  to the load Pt = %.2f W \" %Pt)"
     ],
     "language": "python",
     "metadata": {},
     "outputs": [
      {
       "output_type": "stream",
       "stream": "stdout",
       "text": [
        "transformer specification Po=4  %Rl=16 rl=360\n",
        " transistor specification is Py=.68W  Vce=60 Ip=333mA\n",
        "power delivered  to the load Pi = 6.36 W \n",
        "power delivered  to the load Pt = 0.68 W \n"
       ]
      }
     ],
     "prompt_number": 47
    },
    {
     "cell_type": "heading",
     "level": 2,
     "metadata": {},
     "source": [
      "Example 19.6 Page No 830"
     ]
    },
    {
     "cell_type": "code",
     "collapsed": false,
     "input": [
      "import math\n",
      "#initialisation of variables\n",
      "Rl=50.0\n",
      "Po=1.0\n",
      "hFE=50.0\n",
      "Vbe=0.7\n",
      "Vrc=4.0\n",
      "Vre=1.0\n",
      "Vd1=0.7\n",
      "\n",
      "#Calculations\n",
      "Vd2=Vd1\n",
      "Vp=math.sqrt(2*Rl*Po)\n",
      "Ip=Vp/Rl\n",
      "Re3=.1*Rl\n",
      "Re2=4.7#use stabdard value\n",
      "Re2=Re3\n",
      "Icq=.1*Ip\n",
      "Vb=Vbe+Icq*(Re2+Re3)+Vbe\n",
      "Vc1=Vrc\n",
      "Ib2=Ip/hFE\n",
      "Irc=Ib2+1*10**-3\n",
      "Rc=Vrc/Irc\n",
      "Rc=680.0    #use standard value\n",
      "Vcc=2.0*(Vp+Vre+Vbe+Vrc)\n",
      "Vcc=32#use standard value\n",
      "Vrcdc=.5*(Vcc-Vb)\n",
      "Ic1=Vrcdc/Rc\n",
      "Rb=(Vb-Vd1-Vd2)/Ic1\n",
      "\n",
      "#Results\n",
      "print(\"The value of Rb is %.2f kOhm \" %Rb)"
     ],
     "language": "python",
     "metadata": {},
     "outputs": [
      {
       "output_type": "stream",
       "stream": "stdout",
       "text": [
        "The value of Rb is 8.95 kOhm \n"
       ]
      }
     ],
     "prompt_number": 48
    },
    {
     "cell_type": "heading",
     "level": 2,
     "metadata": {},
     "source": [
      "Example 19.7 Page No 832"
     ]
    },
    {
     "cell_type": "code",
     "collapsed": false,
     "input": [
      "import math\n",
      "\n",
      "#initialisation of variables\n",
      "\n",
      "Vcc=32.0\n",
      "Vce=32.0\n",
      "Ip=200.0*10**-3\n",
      "Po=1.0\n",
      "\n",
      "#Calculations\n",
      "Ic=1.1*Ip\n",
      "Pi=0.35*Vcc*Ip\n",
      "Pt=0.5*(Pi-Po)\n",
      "\n",
      "#Results\n",
      "print(\"power delivered  to the load Pi = %.2f  \" %Pi)\n",
      "print(\"power delivered  to the load Pt = %.2f  \" %Pt)"
     ],
     "language": "python",
     "metadata": {},
     "outputs": [
      {
       "output_type": "stream",
       "stream": "stdout",
       "text": [
        "power delivered  to the load Pi = 2.24  \n",
        "power delivered  to the load Pt = 0.62  \n"
       ]
      }
     ],
     "prompt_number": 49
    },
    {
     "cell_type": "heading",
     "level": 2,
     "metadata": {},
     "source": [
      "Example 19.8, Page No 832"
     ]
    },
    {
     "cell_type": "code",
     "collapsed": false,
     "input": [
      "import math\n",
      "#initialisation of variables\n",
      "f=50.0\n",
      "hib=2.0\n",
      "Rl=50.0\n",
      "\n",
      "#Calculations\n",
      "Ce=1.0/(2*3.14*f*hib)\n",
      "Co=1.0/(2*3.14*50*.1*Rl)\n",
      "\n",
      "#Results\n",
      "print(\"The value of Ce is %.2f  pF \" %(Ce*10**3))\n",
      "print(\"The value of Co is %.2f  pF \" %(Co*10**3))"
     ],
     "language": "python",
     "metadata": {},
     "outputs": [
      {
       "output_type": "stream",
       "stream": "stdout",
       "text": [
        "The value of Ce is 1.59  pF \n",
        "The value of Co is 0.64  pF \n"
       ]
      }
     ],
     "prompt_number": 50
    },
    {
     "cell_type": "heading",
     "level": 2,
     "metadata": {},
     "source": [
      "Example 19.9 Page No 834"
     ]
    },
    {
     "cell_type": "code",
     "collapsed": false,
     "input": [
      "import math \n",
      "\n",
      "#initialisation of variables\n",
      "hFE=2000.0\n",
      "Vbe=1.4\n",
      "Vp=10.0\n",
      "Ip=200.0*10**-3\n",
      "Icq2=20.0*10**-3\n",
      "Re3=4.7\n",
      "Re2=4.7\n",
      "Vd=0.7\n",
      "Ve1=3.0\n",
      "Vc1=15.2\n",
      "\n",
      "#Calculations\n",
      "Vrc=Vc1\n",
      "Vb=Vbe+Icq*(Re2+Re3)+Vbe\n",
      "Vcc=Vrc+Vc1+Vb\n",
      "Ib2=Ip/hFE\n",
      "Irc=1.0*10**-3\n",
      "Vrcac=4.0\n",
      "Rc=Vrcac/Irc\n",
      "Ic1=Vrc/Rc\n",
      "Rb=(Vb-(4*Vd))/Ic1\n",
      "\n",
      "#Results\n",
      "print(\"The value of Rb is %.2f kohm \" %Rb)"
     ],
     "language": "python",
     "metadata": {},
     "outputs": [
      {
       "output_type": "stream",
       "stream": "stdout",
       "text": [
        "The value of Rb is 49.47 kohm \n"
       ]
      }
     ],
     "prompt_number": 51
    },
    {
     "cell_type": "heading",
     "level": 2,
     "metadata": {},
     "source": [
      "Example 19.10 Page No 838"
     ]
    },
    {
     "cell_type": "code",
     "collapsed": false,
     "input": [
      "import math\n",
      "#initialisation of variables\n",
      "Vb=3.2\n",
      "Ic1=5*10**-3\n",
      "Vce=3.2\n",
      "Vbe=0.7\n",
      "\n",
      "#Calculations\n",
      "Vbmin=Vb-0.5\n",
      "Vbmax=Vb+0.5\n",
      "I10=.1*Ic1\n",
      "R10=(Vce-Vbe)/I10\n",
      "R10=4.7*10**3#use standard value\n",
      "print(\" for Vce=3.7\")\n",
      "Vce=3.7\n",
      "I10max=(Vce-Vbe)/R10\n",
      "print(\"Vce=2.7V\")\n",
      "Vce=2.7\n",
      "I10min=(Vce-Vbe)/R10\n",
      "R=Vbe/I10min\n",
      "R11=Vbe/I10max\n",
      "R12=R-R11\n",
      "\n",
      "#Results\n",
      "print(\"The value of R12 is %.2f kohm \" %R12)"
     ],
     "language": "python",
     "metadata": {},
     "outputs": [
      {
       "output_type": "stream",
       "stream": "stdout",
       "text": [
        " for Vce=3.7\n",
        "Vce=2.7V\n",
        "The value of R12 is 548.33 kohm \n"
       ]
      }
     ],
     "prompt_number": 52
    },
    {
     "cell_type": "heading",
     "level": 2,
     "metadata": {},
     "source": [
      "Example 19.11 Page No 843"
     ]
    },
    {
     "cell_type": "code",
     "collapsed": false,
     "input": [
      "import math\n",
      "\n",
      "#initialisation of variables\n",
      "\n",
      "Rl=16.0\n",
      "Po=6.0\n",
      "Vbe=0.7\n",
      "\n",
      "#Calculations\n",
      "Vp=math.sqrt(2.0*Rl*Po)\n",
      "Vr14=0.1*Vp\n",
      "Vr15=Vr14\n",
      "R14=0.1*Rl\n",
      "R15=R14\n",
      "Vce3=1.0\n",
      "Vce4=Vce3\n",
      "Vr9=3.0\n",
      "Vr11=Vr9\n",
      "Vcc=(Vp+Vr14+Vbe+Vce3+Vr9)\n",
      "Vee=-Vcc\n",
      "Ip=Vp/Rl\n",
      "print(\" DC power inpit from supply line\")\n",
      "Pi=(Vcc-Vee)*.35*Ip\n",
      "Pt=.5*(Pi-Po)\n",
      "Vce=2*Vcc\n",
      "Ic=1.1*Ip\n",
      "\n",
      "#Results\n",
      "print(\" output  transistor specification %.2f mA\" %Ic)"
     ],
     "language": "python",
     "metadata": {},
     "outputs": [
      {
       "output_type": "stream",
       "stream": "stdout",
       "text": [
        " DC power inpit from supply line\n",
        " output  transistor specification 0.95 mA\n"
       ]
      }
     ],
     "prompt_number": 53
    },
    {
     "cell_type": "heading",
     "level": 2,
     "metadata": {},
     "source": [
      "Example 19.12, Page No 844"
     ]
    },
    {
     "cell_type": "code",
     "collapsed": false,
     "input": [
      "import math\n",
      "\n",
      "#initialisation of variables\n",
      "\n",
      "hFE7=20.0\n",
      "Icbo=50.0*10**-6\n",
      "hFE5=70.0\n",
      "Vr9=3.0\n",
      "Ip=869.0*10**-3\n",
      "R15=1.5\n",
      "R8=15.0*10**3\n",
      "Vbe=0.7\n",
      "Vr11=3.0\n",
      "Vee=20.0\n",
      "\n",
      "#Calculations\n",
      "R12=0.01/Icbo\n",
      "R12=220#use standard value\n",
      "R13=R12\n",
      "Ib5=Ip/(hFE7*hFE5)\n",
      "Ic3=2.0*10**-3\n",
      "R9=Vr9/Ic3\n",
      "R11=R9\n",
      "Iq78=0.1*Ip\n",
      "Vr14=Iq78*R15\n",
      "Vr15=Vr14\n",
      "Vr10=(Vr14+Vr15)+(Vr14+Vr15)/2\n",
      "R10=Vr10/Ic3\n",
      "Ir8=(Vr11+Vbe)/R8\n",
      "R7=(Vee-(Vr11+Vbe))/Ir8\n",
      "\n",
      "#Results\n",
      "print(\"The value of R7 is %.2f kohm \" %(R7/1000))"
     ],
     "language": "python",
     "metadata": {},
     "outputs": [
      {
       "output_type": "stream",
       "stream": "stdout",
       "text": [
        "The value of R7 is 66.08 kohm \n"
       ]
      }
     ],
     "prompt_number": 54
    },
    {
     "cell_type": "heading",
     "level": 2,
     "metadata": {},
     "source": [
      "Example 19.13, Page No 848"
     ]
    },
    {
     "cell_type": "code",
     "collapsed": false,
     "input": [
      "import math\n",
      "#initialisation of variables\n",
      "\n",
      "Rl=20.0\n",
      "Po=2.5\n",
      "Rd=4.0\n",
      "Vr6=1.0\n",
      "Vr9=Vr6\n",
      "Vth=1.0\n",
      "gFS=250.0*10**-3\n",
      "Vbe=0.7\n",
      "\n",
      "#Calculations\n",
      "Vp=math.sqrt(2*Rl*Po)\n",
      "Ip=Vp/Rl\n",
      "Vcc=(Vp+Ip*Rd)\n",
      "vr6=Ip/gFS\n",
      "Vr2=vr6+1\n",
      "Vce=Vr2\n",
      "Vce3=1.0\n",
      "Vr2=Vcc-Vce\n",
      "Vee=Vcc\n",
      "Vr3=Vee-Vbe\n",
      "Vr7=Vr2-Vr6\n",
      "Vr8=Vcc-(-Vee)-Vr6-Vr7-Vr9\n",
      "\n",
      "#Results\n",
      "print(\"The value of Vr8 is %.2f V \" %Vr8)"
     ],
     "language": "python",
     "metadata": {},
     "outputs": [
      {
       "output_type": "stream",
       "stream": "stdout",
       "text": [
        "The value of Vr8 is 14.00 V \n"
       ]
      }
     ],
     "prompt_number": 55
    },
    {
     "cell_type": "heading",
     "level": 2,
     "metadata": {},
     "source": [
      "Example 19.14, Page No 849"
     ]
    },
    {
     "cell_type": "code",
     "collapsed": false,
     "input": [
      "import math\n",
      "#initialisation of variables\n",
      "\n",
      "R6=100.0*10**3\n",
      "R9=R6\n",
      "Vth=1.0\n",
      "Vr7=8.0\n",
      "Vr8=14.0\n",
      "Vr3=11.3\n",
      "Vpout=10.0\n",
      "Vpin=800.0*10**-3\n",
      "\n",
      "#Calculations\n",
      "I6=Vth/R6\n",
      "R7=Vr7/I6\n",
      "R8=Vr8/I6\n",
      "Ic1=1*10**-4\n",
      "Ic2=Ic1\n",
      "Vr2=9\n",
      "R2=Vr2/Ic1\n",
      "R3=Vr3/(Ic1+Ic2)\n",
      "R5=4.7*10**3\n",
      "Acl=Vpout/Vpin\n",
      "R4=R5/(Acl-1.0)\n",
      "\n",
      "#Results\n",
      "print(\"The value of R4 is %.2f kohm \" %(R4/1000))"
     ],
     "language": "python",
     "metadata": {},
     "outputs": [
      {
       "output_type": "stream",
       "stream": "stdout",
       "text": [
        "The value of R4 is 0.41 kohm \n"
       ]
      }
     ],
     "prompt_number": 56
    },
    {
     "cell_type": "heading",
     "level": 2,
     "metadata": {},
     "source": [
      "Example 19.15, Page No 854"
     ]
    },
    {
     "cell_type": "code",
     "collapsed": false,
     "input": [
      "import math\n",
      "#initialisation of variables\n",
      "\n",
      "Vce=1.5\n",
      "Vcc=17.0\n",
      "Vd1=0.7\n",
      "R8=1.5*10**3\n",
      "R9=R8\n",
      "Rl=100.0\n",
      "R6=8.2\n",
      "\n",
      "#Calculations\n",
      "I4=(Vcc-Vd1)/(R8+R9)\n",
      "Vc3=Vcc-(I4*R8)\n",
      "print(\" bootstrap capacitance terminal voltage is %3.1fV \" %Vc3)\n",
      "V=Vcc-Vce#V=Vp+Vr6\n",
      "Ip=V/(Rl+R6)\n",
      "Vp=Ip*Rl\n",
      "print(\" peak output voltage is %3.1fV \" %Vp)\n",
      "Po=(Vp)**2.0/(2.0*Rl)\n",
      "\n",
      "#Results\n",
      "print(\" peak output power is %dW \" %Po)"
     ],
     "language": "python",
     "metadata": {},
     "outputs": [
      {
       "output_type": "stream",
       "stream": "stdout",
       "text": [
        " bootstrap capacitance terminal voltage is 8.8V \n",
        " peak output voltage is 14.3V \n",
        " peak output power is 1W \n"
       ]
      }
     ],
     "prompt_number": 57
    },
    {
     "cell_type": "heading",
     "level": 2,
     "metadata": {},
     "source": [
      "Example 19.16, Page No 856"
     ]
    },
    {
     "cell_type": "code",
     "collapsed": false,
     "input": [
      "import math\n",
      "#initialisation of variables\n",
      "\n",
      "Rl=8.0\n",
      "Po=6.0\n",
      "vs=0.1\n",
      "hFE=1000.0\n",
      "Vce=2.0\n",
      "f=50.0*10**3\n",
      "Vd1=0.7\n",
      "\n",
      "#Calculations\n",
      "Vp=math.sqrt(2*Rl*Po)\n",
      "Ip=Vp/Rl\n",
      "R6=.1*Rl\n",
      "R7=R6\n",
      "Vcc=Vp+Ip*R6+Vce\n",
      "Ib=Ip/hFE\n",
      "I4=2*10**-3\n",
      "R4=(Vcc-Vd1-Vd1)/I4\n",
      "R8=.5*R4\n",
      "Acl=Vp/vs\n",
      "R3=100*10**3\n",
      "R2=R3/(Acl-1)\n",
      "SR=(2*3.14*f*Vp)*10**-6\n",
      "\n",
      "#Results\n",
      "print(\" slew rate is %.2f V/us \" %SR)\n"
     ],
     "language": "python",
     "metadata": {},
     "outputs": [
      {
       "output_type": "stream",
       "stream": "stdout",
       "text": [
        " slew rate is 3.08 V/us \n"
       ]
      }
     ],
     "prompt_number": 58
    },
    {
     "cell_type": "heading",
     "level": 2,
     "metadata": {},
     "source": [
      "Example 19.17, Page No 856"
     ]
    },
    {
     "cell_type": "code",
     "collapsed": false,
     "input": [
      "import math\n",
      "#initialisation of variables\n",
      "\n",
      "f=50.0\n",
      "R1=100.0*10**3\n",
      "R2=1.0*10**3\n",
      "R8=2.7*10**3\n",
      "\n",
      "#Calculations\n",
      "R9=R8\n",
      "C1=1/(2*3.14*f*.1*R1)\n",
      "C2=1/(2*3.14*f*R2)\n",
      "Xc3=.1*((R8*R9)/(R8+R9))\n",
      "C3=1/(2*3.14*f*Xc3)\n",
      "C4=C3\n",
      "\n",
      "#Results\n",
      "print(\"The value of C4 is %.2f pF \" %(C4*10**6))"
     ],
     "language": "python",
     "metadata": {},
     "outputs": [
      {
       "output_type": "stream",
       "stream": "stdout",
       "text": [
        "The value of C4 is 23.59 pF \n"
       ]
      }
     ],
     "prompt_number": 59
    },
    {
     "cell_type": "heading",
     "level": 2,
     "metadata": {},
     "source": [
      "Example 19.18, Page No 860"
     ]
    },
    {
     "cell_type": "code",
     "collapsed": false,
     "input": [
      "import math\n",
      "#initialisation of variables\n",
      "\n",
      "Ismin=1.8*10**-3\n",
      "Ismax=3.4*10**-3\n",
      "R7=820.0\n",
      "R5=390.0\n",
      "R6=18.0*10**3\n",
      "Vi=100.0*10**-3\n",
      "Rl=10.0\n",
      "\n",
      "#Calculations\n",
      "Vgsmin=Ismin*R7\n",
      "Vgsmax=Ismax*R7\n",
      "Acl=(R5+R6)/R5\n",
      "Vp=Acl*Vi\n",
      "Ip=Vp/Rl\n",
      "print(\"peak output current is %3.3fA \" %Ip)\n",
      "Po=(Vp*Ip)/2.0\n",
      "\n",
      "#Results\n",
      "print(\"peak output power is %3.2fW \" %Po)"
     ],
     "language": "python",
     "metadata": {},
     "outputs": [
      {
       "output_type": "stream",
       "stream": "stdout",
       "text": [
        "peak output current is 0.472A \n",
        "peak output power is 1.11W \n"
       ]
      }
     ],
     "prompt_number": 60
    },
    {
     "cell_type": "heading",
     "level": 2,
     "metadata": {},
     "source": [
      "Example 19.19, Page No 862"
     ]
    },
    {
     "cell_type": "code",
     "collapsed": false,
     "input": [
      "import math\n",
      "#initialisation of variables\n",
      "\n",
      "Vbe=0.7\n",
      "R2=560.0\n",
      "R3min=0\n",
      "R3max=1.0*10**3\n",
      "Is=2.0*10**-3\n",
      "\n",
      "#Calculations\n",
      "Ic2max=Vbe/(R2+R3min)\n",
      "Ic2min=Vbe/(R2+R3max)\n",
      "Vgsmin=(Is+Ic2min)*820.0\n",
      "Vgsmax=(Is+Ic2max)*820.0\n",
      "\n",
      "#Results\n",
      "print(\"The value of Vgsmax is %.2f v \" %Vgsmax)"
     ],
     "language": "python",
     "metadata": {},
     "outputs": [
      {
       "output_type": "stream",
       "stream": "stdout",
       "text": [
        "The value of Vgsmax is 2.67 v \n"
       ]
      }
     ],
     "prompt_number": 61
    },
    {
     "cell_type": "heading",
     "level": 2,
     "metadata": {},
     "source": [
      "Example 19.20, Page No 865"
     ]
    },
    {
     "cell_type": "code",
     "collapsed": false,
     "input": [
      "import math\n",
      "#initialisation of variables\n",
      "\n",
      "Vcc=12.0\n",
      "Rl=10.0\n",
      "Rd=0.5\n",
      "gfs=2.5\n",
      "R7=820.0\n",
      "V9=1.0*10**3\n",
      "\n",
      "#Calculations\n",
      "R10=R9\n",
      "Vp=(Vcc*Rl)/(Rd+Rl)\n",
      "Ip=Vp/Rl\n",
      "Vgs=Ip/gfs\n",
      "Vr7=Is*R7\n",
      "Vs=Vcc-Vr7-Vgs\n",
      "Vr9=(Vp*R9)/(R9+R10)\n",
      "\n",
      "#Results\n",
      "print(\"op-amp peak output voltage is %.2f v \" %Vr9)"
     ],
     "language": "python",
     "metadata": {},
     "outputs": [
      {
       "output_type": "stream",
       "stream": "stdout",
       "text": [
        "op-amp peak output voltage is 5.71 v \n"
       ]
      }
     ],
     "prompt_number": 62
    },
    {
     "cell_type": "heading",
     "level": 2,
     "metadata": {},
     "source": [
      "Example 19.21, Page No 867"
     ]
    },
    {
     "cell_type": "code",
     "collapsed": false,
     "input": [
      "import math\n",
      "#initialisation of variables\n",
      "Vbe=0.7\n",
      "R2=470.0\n",
      "R3=1.0*10**3\n",
      "Is=0.5*10**-3\n",
      "R7=1.5*10**3\n",
      "Vcc=15\n",
      "\n",
      "#Calculations\n",
      "Ic2max=Vbe/R2\n",
      "Ic2min=Vbe/(R2+R3)\n",
      "Vgs=(Is+Ic2max)*R7\n",
      "print(\" MOSFET maximum gate source voltage is %.1fV \" %Vgs)\n",
      "Vs=Vcc-Vgs\n",
      "\n",
      "#Results\n",
      "print(\" op-amp minimum suppy is %.2fV \" %Vs)"
     ],
     "language": "python",
     "metadata": {},
     "outputs": [
      {
       "output_type": "stream",
       "stream": "stdout",
       "text": [
        " MOSFET maximum gate source voltage is 3.0V \n",
        " op-amp minimum suppy is 12.02V \n"
       ]
      }
     ],
     "prompt_number": 63
    },
    {
     "cell_type": "heading",
     "level": 2,
     "metadata": {},
     "source": [
      "Example 19.22, Page No 868"
     ]
    },
    {
     "cell_type": "code",
     "collapsed": false,
     "input": [
      "import math\n",
      "#initialisation of variables\n",
      "Vcc=15.0\n",
      "Rl=15.0\n",
      "Rd=0.3\n",
      "R5=2.2*10**3\n",
      "R6=33.0*10**3\n",
      "C2=3.9*10**-6\n",
      "C4=100.0*10**-12\n",
      "\n",
      "#Calculations\n",
      "print(\" power output\")\n",
      "Vp=(Vcc*Rl)/(Rd+Rl)\n",
      "Ip=Vp/Rl\n",
      "Po=(Vp*Ip)/2.0\n",
      "print(\" voltage gain\")\n",
      "Av=(R5+R6)/R5\n",
      "print(\"cutoff frequency\")\n",
      "f1=1.0/(2*3.14*C2*R5)\n",
      "f2=1.0/(2*3.14*C4*R6)\n",
      "\n",
      "#Results\n",
      "print(\" cutoff frequency f1 %.2f \" %f1)\n",
      "print(\" cutoff frequency f2 %.2f \" %f2)"
     ],
     "language": "python",
     "metadata": {},
     "outputs": [
      {
       "output_type": "stream",
       "stream": "stdout",
       "text": [
        " power output\n",
        " voltage gain\n",
        "cutoff frequency\n",
        " cutoff frequency f1 18.56 \n",
        " cutoff frequency f2 48253.23 \n"
       ]
      }
     ],
     "prompt_number": 64
    },
    {
     "cell_type": "heading",
     "level": 2,
     "metadata": {},
     "source": [
      "Example 19.23, Page No 871"
     ]
    },
    {
     "cell_type": "code",
     "collapsed": false,
     "input": [
      "import math\n",
      "#initialisation of variables\n",
      "Vcc=23.0\n",
      "Rl=8.0\n",
      "Rf2=100.0*10**3\n",
      "Rf1=5.6*10**3\n",
      "Cf=1.0*10**-6\n",
      "Vp=Vcc-5\n",
      "\n",
      "#Calculations\n",
      "Po=(Vp)**2/(2*Rl)\n",
      "print(\"maximum output power is %3.2fW \" %Po)\n",
      "Acl=(Rf1+Rf2)/Rf1\n",
      "print(\" voltage gain %3.1f \" %Acl)\n",
      "f=1/(2*3.14*Cf*Rf1)\n",
      "\n",
      "#Results\n",
      "print(\"lower cutoff frequency is %dHz \" %f)"
     ],
     "language": "python",
     "metadata": {},
     "outputs": [
      {
       "output_type": "stream",
       "stream": "stdout",
       "text": [
        "maximum output power is 20.25W \n",
        " voltage gain 18.9 \n",
        "lower cutoff frequency is 28Hz \n"
       ]
      }
     ],
     "prompt_number": 65
    },
    {
     "cell_type": "heading",
     "level": 2,
     "metadata": {},
     "source": [
      "Example 19.24, Page No 875"
     ]
    },
    {
     "cell_type": "code",
     "collapsed": false,
     "input": [
      "import math\n",
      "#initialisation of variables\n",
      "Rf=15.0*10**3\n",
      "R1=5.6*10**3\n",
      "vs=0.5\n",
      "Vp=2.7\n",
      "\n",
      "#Calculations\n",
      "Acl=(2.0*Rf)/R1\n",
      "Vo=Acl*vs\n",
      "Po=(Vp)**2.0/(2.0*Rl)\n",
      "\n",
      "#Results\n",
      "print(\"load power dissipation is %.2fW \" %Po)"
     ],
     "language": "python",
     "metadata": {},
     "outputs": [
      {
       "output_type": "stream",
       "stream": "stdout",
       "text": [
        "load power dissipation is 0.46W \n"
       ]
      }
     ],
     "prompt_number": 66
    },
    {
     "cell_type": "heading",
     "level": 2,
     "metadata": {},
     "source": [
      "Example 19.24, Page No 875"
     ]
    },
    {
     "cell_type": "code",
     "collapsed": false,
     "input": [
      "import math\n",
      "#initialisation of variables\n",
      "Vcc=10.0\n",
      "Rl=1.0*10**3\n",
      "f=3.0*10**6\n",
      "Ip=25.0*10**-3\n",
      "Vce=0.3\n",
      "\n",
      "#Calculations\n",
      "Vp=Vcc-Vce\n",
      "Po=(Vp)**2 /(2*Rl)\n",
      "T=1.0/f\n",
      "t=(Po*T)/(Ip*Vp)\n",
      "angle=(t/T)*360\n",
      "print(\" conduction angle is %3.1fdegree \" %angle)\n",
      "Idc=Po/Vp\n",
      "Pi=Vcc*Idc\n",
      "print( \"dc input power is %3.4fW \" %Pi)\n",
      "n=(Po/Pi)*100#efficiency\n",
      "\n",
      "#Results\n",
      "print(\" maximum efficiency is %3.2f percentage \" %n)"
     ],
     "language": "python",
     "metadata": {},
     "outputs": [
      {
       "output_type": "stream",
       "stream": "stdout",
       "text": [
        " conduction angle is 69.8degree \n",
        "dc input power is 0.0485W \n",
        " maximum efficiency is 97.00 percentage \n"
       ]
      }
     ],
     "prompt_number": 67
    },
    {
     "cell_type": "heading",
     "level": 2,
     "metadata": {},
     "source": [
      "Example 19.26, Page No 882"
     ]
    },
    {
     "cell_type": "code",
     "collapsed": false,
     "input": [
      "import math\n",
      "#initialisation of variables\n",
      "f=1.0*10**6\n",
      "Xc=120.0\n",
      "Vce=0.5\n",
      "Vcc=30.0\n",
      "Rl=1.2*10**3\n",
      "O=100.0\n",
      "\n",
      "#Calculations\n",
      "Cp=1.0/(2*3.14*f*Xc)\n",
      "Cp=1300*10**-12#use standard value\n",
      "Lp=1/(((2*3.14*f)**2)*Cp)\n",
      "Vp=Vcc-Vce\n",
      "Po=((Vp)**2) /(2*Rl)\n",
      "Idc=Po/Vp\n",
      "T=1.0/f\n",
      "t=(O*T)/360.0\n",
      "Ip=(Idc*T)/t\n",
      "\n",
      "#Results\n",
      "print(\"The value of Ip is %.2f mA \" %(Ip*10**3))"
     ],
     "language": "python",
     "metadata": {},
     "outputs": [
      {
       "output_type": "stream",
       "stream": "stdout",
       "text": [
        "The value of Ip is 44.25 mA \n"
       ]
      }
     ],
     "prompt_number": 68
    },
    {
     "cell_type": "heading",
     "level": 2,
     "metadata": {},
     "source": [
      "Example 19.27, Page No 883"
     ]
    },
    {
     "cell_type": "code",
     "collapsed": false,
     "input": [
      "import math\n",
      "#initialisation of variables\n",
      "Rw=0.1\n",
      "f=1.0*10**6\n",
      "Lp=19.5*10**-6\n",
      "Rl=1.2*10**3\n",
      "Vcc=30.0\n",
      "\n",
      "#Calculations\n",
      "Idc=12.3*10**-3\n",
      "QL=(2*3.14*f*Lp)/Rw\n",
      "Qp=Rl/(2*3.14*f*Lp)\n",
      "B=f/Qp\n",
      "Il=(.707*Vp)/(2*3.14*f*Lp)\n",
      "Pl=(Il)**2 *Rw\n",
      "Pi=(Vcc*Idc)+Pl\n",
      "n=(Po/Pi)*100.0\n",
      "\n",
      "#Results\n",
      "print(\" maximum efficiency is %3.2f percentage \" %n)"
     ],
     "language": "python",
     "metadata": {},
     "outputs": [
      {
       "output_type": "stream",
       "stream": "stdout",
       "text": [
        " maximum efficiency is 97.50 percentage \n"
       ]
      }
     ],
     "prompt_number": 69
    }
   ],
   "metadata": {}
  }
 ]
}