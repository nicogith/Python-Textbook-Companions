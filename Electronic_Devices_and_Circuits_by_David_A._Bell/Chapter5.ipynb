{
 "metadata": {
  "name": ""
 },
 "nbformat": 3,
 "nbformat_minor": 0,
 "worksheets": [
  {
   "cells": [
    {
     "cell_type": "heading",
     "level": 1,
     "metadata": {},
     "source": [
      "Chapter 05 : BJT biasing"
     ]
    },
    {
     "cell_type": "heading",
     "level": 2,
     "metadata": {},
     "source": [
      "Example 5.1, Page No 182"
     ]
    },
    {
     "cell_type": "code",
     "collapsed": false,
     "input": [
      "import math\n",
      "#initialisation of variables\n",
      "Rc=12.0*10**3\n",
      "Vcc=20.0\n",
      "print(\" When Ic=0\")\n",
      "Ic=0\n",
      "\n",
      "#Calculations\n",
      "Vce=Vcc-Ic*Rc\n",
      "print(\" At point A Ic=0 nad Vce=20\")\n",
      "print(\"When Vce=0\")\n",
      "Vce=0\n",
      "Ic=Vcc/Rc\n",
      "\n",
      "#Results\n",
      "print(\" At point B Ic=1.7mA and Vce=0\")\n",
      "print(\"Ic is %.1f mA \" %(Ic*10**3))"
     ],
     "language": "python",
     "metadata": {},
     "outputs": [
      {
       "output_type": "stream",
       "stream": "stdout",
       "text": [
        " When Ic=0\n",
        " At point A Ic=0 nad Vce=20\n",
        "When Vce=0\n",
        " At point B Ic=1.7mA and Vce=0\n",
        "Ic is 1.7 mA \n"
       ]
      }
     ],
     "prompt_number": 1
    },
    {
     "cell_type": "heading",
     "level": 2,
     "metadata": {},
     "source": [
      "Example 5.2 Page No 186"
     ]
    },
    {
     "cell_type": "code",
     "collapsed": false,
     "input": [
      "import math\n",
      "\n",
      "#initialisation of variables\n",
      "Vcc=18.0\n",
      "Rc=2.2*10**3\n",
      "Ib=40.0*10**-6\n",
      "\n",
      "#Calculations\n",
      "print(\"when Ic=0\")\n",
      "Ic=0\n",
      "Vce=Vcc-Ic*Rc\n",
      "print(\"At point A Ic=0 and Vce=18\")\n",
      "print(\"when Vce=0\")\n",
      "Ic=Vcc/Rc\n",
      "\n",
      "#Results\n",
      "print(\" at point B Ic=8.2mA and Vce=0\")\n",
      "print(\"Ic = %.1f mA \" %(Ic*10**3))"
     ],
     "language": "python",
     "metadata": {},
     "outputs": [
      {
       "output_type": "stream",
       "stream": "stdout",
       "text": [
        "when Ic=0\n",
        "At point A Ic=0 and Vce=18\n",
        "when Vce=0\n",
        " at point B Ic=8.2mA and Vce=0\n",
        "Ic = 8.2 mA \n"
       ]
      }
     ],
     "prompt_number": 2
    },
    {
     "cell_type": "heading",
     "level": 2,
     "metadata": {},
     "source": [
      "Example 5.3 Page No 189"
     ]
    },
    {
     "cell_type": "code",
     "collapsed": false,
     "input": [
      "import math\n",
      "\n",
      "#initialisation of variables\n",
      "Rb=470*10**3\n",
      "Rc=2.2*10**3\n",
      "Vcc=18.0\n",
      "hfe=100\n",
      "Vee=.7\n",
      "\n",
      "#Calculations\n",
      "Ib=(Vcc-Vee)/Rb\n",
      "Ic=hfe*Ib\n",
      "Vce=Vcc-Ic*Rc\n",
      "\n",
      "#Results\n",
      "print(\"Current voltage is %.1f V \" %(Vce))"
     ],
     "language": "python",
     "metadata": {},
     "outputs": [
      {
       "output_type": "stream",
       "stream": "stdout",
       "text": [
        "Current voltage is 9.9 V \n"
       ]
      }
     ],
     "prompt_number": 3
    },
    {
     "cell_type": "heading",
     "level": 2,
     "metadata": {},
     "source": [
      "Example 5.4, Page No 189"
     ]
    },
    {
     "cell_type": "code",
     "collapsed": false,
     "input": [
      "import math\n",
      "#initialisation of variables\n",
      "hFEmin=50.0\n",
      "hFEmax=200.0\n",
      "Vcc=18.0\n",
      "Vbe=0.7\n",
      "Rb=470.0*10**3\n",
      "\n",
      "#Calculations\n",
      "Ib=(Vcc-Vbe)/Rb\n",
      "Ic=hFEmin*Ib\n",
      "Vce=Vcc-Ic*Rc\n",
      "Ic=hFEmax*Ib\n",
      "Vce=Vcc-Ic*Rc\n",
      "\n",
      "#Results\n",
      "print(\"Current voltage is %.1f V \" %(Vce))"
     ],
     "language": "python",
     "metadata": {},
     "outputs": [
      {
       "output_type": "stream",
       "stream": "stdout",
       "text": [
        "Current voltage is 1.8 V \n"
       ]
      }
     ],
     "prompt_number": 4
    },
    {
     "cell_type": "heading",
     "level": 2,
     "metadata": {},
     "source": [
      "Example 5.5 Page No 193"
     ]
    },
    {
     "cell_type": "code",
     "collapsed": false,
     "input": [
      "import math\n",
      "#initialisation of variables\n",
      "\n",
      "Rb=270*10**3\n",
      "Rc=2.2*10**3\n",
      "Vcc=18.0\n",
      "hFE=100\n",
      "Vbe=.7\n",
      "\n",
      "#Calculations\n",
      "Ib=(Vcc-Vbe)/(Rb+Rc*(hFE+1))\n",
      "Ic=hFE*Ib\n",
      "Vce=Vcc-Rc*(Ic+Ib)\n",
      "\n",
      "#Results\n",
      "print(\"Current voltage is %.1f V \" %(Vce))"
     ],
     "language": "python",
     "metadata": {},
     "outputs": [
      {
       "output_type": "stream",
       "stream": "stdout",
       "text": [
        "Current voltage is 10.2 V \n"
       ]
      }
     ],
     "prompt_number": 5
    },
    {
     "cell_type": "heading",
     "level": 2,
     "metadata": {},
     "source": [
      "Example 5.7 Page No 197"
     ]
    },
    {
     "cell_type": "code",
     "collapsed": false,
     "input": [
      "import math\n",
      "\n",
      "#initialisation of variables\n",
      "R1=33.0*10**3\n",
      "R2=12.0*10**3\n",
      "Rc=1.2*10**3\n",
      "Re=1*10**3\n",
      "Vcc=18.0\n",
      "Vbe=.7\n",
      "\n",
      "#Calculations\n",
      "Vb=(Vcc*R2)/(R1+R2)\n",
      "Ve=Vb-Vbe\n",
      "Ie=(Vb-Vbe)/Re\n",
      "Ic=Ie\n",
      "Vc=Vcc-(Ic*Rc)\n",
      "Vce=Vc-Ve\n",
      "\n",
      "#Results\n",
      "print(\"Current voltage is %.1f V \" %(Vce))"
     ],
     "language": "python",
     "metadata": {},
     "outputs": [
      {
       "output_type": "stream",
       "stream": "stdout",
       "text": [
        "Current voltage is 9.0 V \n"
       ]
      }
     ],
     "prompt_number": 6
    },
    {
     "cell_type": "heading",
     "level": 2,
     "metadata": {},
     "source": [
      "Example 5.8, Page No 199"
     ]
    },
    {
     "cell_type": "code",
     "collapsed": false,
     "input": [
      "import math\n",
      "#initialisation of variables\n",
      "Vcc=18.0\n",
      "Vbe=.7\n",
      "hfe=100.0\n",
      "R1=33*10**3\n",
      "R2=12.0*10**3\n",
      "Re=1.0*10**3\n",
      "\n",
      "#Calculations\n",
      "Vt=(Vcc*R2)/(R1+R2)\n",
      "Rt=(R1*R2)/(R1+R2)\n",
      "Ib=(Vt-Vbe)/(Rt+Re*(1+hfe))\n",
      "Ic=hfe*Ib\n",
      "Ie=Ib+Ic\n",
      "Ve=Ie*Re\n",
      "Vc=Vcc-(Ic*Rc)\n",
      "Vce=Vc-Ve\n",
      "\n",
      "#Results\n",
      "print(\"Current voltage is %.1f V \" %(Vce))"
     ],
     "language": "python",
     "metadata": {},
     "outputs": [
      {
       "output_type": "stream",
       "stream": "stdout",
       "text": [
        "Current voltage is 9.7 V \n"
       ]
      }
     ],
     "prompt_number": 7
    },
    {
     "cell_type": "heading",
     "level": 2,
     "metadata": {},
     "source": [
      "Example 5.9 Page No 200"
     ]
    },
    {
     "cell_type": "code",
     "collapsed": false,
     "input": [
      "import math \n",
      "\n",
      "#initialisation of variables\n",
      "hfe=50.0\n",
      "Vt=4.8\n",
      "Rt=8.8*10**3#from example 5.7\n",
      "Re=1.0*10**3\n",
      "Vbe=.7\n",
      "\n",
      "#Calculations\n",
      "Ib=(Vt-Vbe)/(Rt+Re*(1+hfe))\n",
      "Ic=hfe*Ib\n",
      "Ie=Ib+Ic\n",
      "Ve=Ie*Re\n",
      "Vc=Vcc-(Ic*Rc)\n",
      "Vce=Vc-Ve\n",
      "\n",
      "#Results\n",
      "print(\"Current voltage is %.1f V \" %(Vce))"
     ],
     "language": "python",
     "metadata": {},
     "outputs": [
      {
       "output_type": "stream",
       "stream": "stdout",
       "text": [
        "Current voltage is 10.4 V \n"
       ]
      }
     ],
     "prompt_number": 8
    },
    {
     "cell_type": "heading",
     "level": 2,
     "metadata": {},
     "source": [
      "Example 5.10 Page No 201"
     ]
    },
    {
     "cell_type": "code",
     "collapsed": false,
     "input": [
      "import math\n",
      "#initialisation of variables\n",
      "Vt=4.8\n",
      "Rt=8.8*10**3#from example 5.8\n",
      "Re=1*10**3\n",
      "Vbe=.7\n",
      "hfe=200.0\n",
      "\n",
      "#Calculations\n",
      "Ib=(Vt-Vbe)/(Rt+Re*(1+hfe))\n",
      "Ic=hfe*Ib\n",
      "Ie=Ib+Ic\n",
      "Ve=Ie*Re\n",
      "Vc=Vcc-(Ic*Rc)\n",
      "Vce=Vc-Ve\n",
      "\n",
      "#Results\n",
      "print(\"Current voltage is %.1f V \" %(Vce))"
     ],
     "language": "python",
     "metadata": {},
     "outputs": [
      {
       "output_type": "stream",
       "stream": "stdout",
       "text": [
        "Current voltage is 9.4 V \n"
       ]
      }
     ],
     "prompt_number": 9
    },
    {
     "cell_type": "heading",
     "level": 2,
     "metadata": {},
     "source": [
      "Example 5.11 Page No 208"
     ]
    },
    {
     "cell_type": "code",
     "collapsed": false,
     "input": [
      "import math\n",
      "\n",
      "#initialisation of variables\n",
      "Vce=5.0\n",
      "Ic=5*10**-3\n",
      "Vcc=15.0\n",
      "hfe=100.0\n",
      "\n",
      "#Calculations\n",
      "Rc=(Vcc-Vce)/Ic\n",
      "Ib=Ic/hfe\n",
      "Rb=(Vcc-Vbe)/Ib\n",
      "\n",
      "#Results\n",
      "print(\"The value of Rv is %.1f kohm \" %(Rb/1000))"
     ],
     "language": "python",
     "metadata": {},
     "outputs": [
      {
       "output_type": "stream",
       "stream": "stdout",
       "text": [
        "The value of Rv is 286.0 kohm \n"
       ]
      }
     ],
     "prompt_number": 10
    },
    {
     "cell_type": "heading",
     "level": 2,
     "metadata": {},
     "source": [
      "Example 5.12, Page No 209"
     ]
    },
    {
     "cell_type": "code",
     "collapsed": false,
     "input": [
      "import math\n",
      "\n",
      "#initialisation of variables\n",
      "Vce=5.0\n",
      "Ic=5*10**-3\n",
      "Vcc=15.0\n",
      "hfe=100.0\n",
      "\n",
      "#Calculations\n",
      "Ib=Ic/hfe\n",
      "Rc=(Vcc-Vce)/(Ic+Ib)\n",
      "Rb=(Vce-Vbe)/Ib\n",
      "\n",
      "#Results\n",
      "print(\"The value of Rb is %.1f kohm \" %(Rb/1000))"
     ],
     "language": "python",
     "metadata": {},
     "outputs": [
      {
       "output_type": "stream",
       "stream": "stdout",
       "text": [
        "The value of Rb is 86.0 kohm \n"
       ]
      }
     ],
     "prompt_number": 11
    },
    {
     "cell_type": "heading",
     "level": 2,
     "metadata": {},
     "source": [
      "Example 5.13, Page No 211"
     ]
    },
    {
     "cell_type": "code",
     "collapsed": false,
     "input": [
      "import math\n",
      "#initialisation of variables\n",
      "Vce=5.0\n",
      "Ve=Vce\n",
      "Ic=5.0*10**-3\n",
      "hFE=100.0\n",
      "Vcc=15.0\n",
      "Vbe=0.7\n",
      "\n",
      "#Calculations\n",
      "Ie=Ic\n",
      "Re=Ve/Ie\n",
      "Rc=(Vcc-Vce-Ve)/Ic\n",
      "I2=Ic/10\n",
      "Vb=Ve+Vbe\n",
      "R2=Vb/I2\n",
      "R1=(Vcc-Vb)/I2\n",
      "\n",
      "#Results\n",
      "print(\"The value of Rb is %.1f kOhm \" %(R1/1000))"
     ],
     "language": "python",
     "metadata": {},
     "outputs": [
      {
       "output_type": "stream",
       "stream": "stdout",
       "text": [
        "The value of Rb is 18.6 kOhm \n"
       ]
      }
     ],
     "prompt_number": 12
    },
    {
     "cell_type": "heading",
     "level": 2,
     "metadata": {},
     "source": [
      "Example 5.14, Page No 212"
     ]
    },
    {
     "cell_type": "code",
     "collapsed": false,
     "input": [
      "import math\n",
      "#initialisation of variables\n",
      "Vce=3.0\n",
      "Ve=5.0\n",
      "Ic=1*10**-3\n",
      "Vcc=12.0\n",
      "\n",
      "#Calculations\n",
      "Ie=Ic\n",
      "R4=Ve/Ie\n",
      "print(\" with Ic=1mA and R4=4.7Kohm\")\n",
      "R4=4.7*10**3\n",
      "Ve=Ic*R4\n",
      "Vc=Ve+Vce\n",
      "Vr3=Vcc-Vc\n",
      "R3=Vr3/Ic\n",
      "Vb=Ve+Vbe\n",
      "I2=Ic/10\n",
      "R2=Vb/I2\n",
      "print(\" with R2=56Kohm and Vb=5.4V\")\n",
      "R2=56*10**3\n",
      "I2=Vb/R2\n",
      "R1=(Vcc-Vb)/I2\n",
      "\n",
      "#Results\n",
      "print(\"The value of R1 is %.1f V \" %(R1/1000))"
     ],
     "language": "python",
     "metadata": {},
     "outputs": [
      {
       "output_type": "stream",
       "stream": "stdout",
       "text": [
        " with Ic=1mA and R4=4.7Kohm\n",
        " with R2=56Kohm and Vb=5.4V\n",
        "The value of R1 is 68.4 V \n"
       ]
      }
     ],
     "prompt_number": 13
    },
    {
     "cell_type": "heading",
     "level": 2,
     "metadata": {},
     "source": [
      "Example 5.15, Page No 214"
     ]
    },
    {
     "cell_type": "code",
     "collapsed": false,
     "input": [
      "import math\n",
      "#initialisation of variables\n",
      "Vce=9.0\n",
      "Ve=4.0\n",
      "Ic=4*10**-3\n",
      "Vcc=18.0\n",
      "\n",
      "#Calculations\n",
      "Ie=Ic\n",
      "R4=Ve/Ie\n",
      "Vb=Ve+Vbe\n",
      "I2=Ic/10\n",
      "R2=Vb/I2\n",
      "print(\" with R2=12Kohm standard\")\n",
      "R2=12*10**3\n",
      "I2=Vb/R2\n",
      "R1=(Vce+Ve-Vb)/I2\n",
      "print(\" with R1=22kohm standard\")\n",
      "R1=22*10**3\n",
      "Vr3=Vcc-Vce-Ve\n",
      "R3=Vr3/(Ic+I2)\n",
      "\n",
      "#Results\n",
      "print(\"The value of R3 %.2f V \" %(R3/1000))"
     ],
     "language": "python",
     "metadata": {},
     "outputs": [
      {
       "output_type": "stream",
       "stream": "stdout",
       "text": [
        " with R2=12Kohm standard\n",
        " with R1=22kohm standard\n",
        "The value of R3 1.14 V \n"
       ]
      }
     ],
     "prompt_number": 14
    },
    {
     "cell_type": "heading",
     "level": 2,
     "metadata": {},
     "source": [
      "Example 5.16, Page No 216"
     ]
    },
    {
     "cell_type": "code",
     "collapsed": false,
     "input": [
      "import math\n",
      "#initialisation of variables\n",
      "Vc=5.0\n",
      "Ic=1.0*10**-3\n",
      "hFE=70.0\n",
      "Vbe=.7\n",
      "Vee=9.0\n",
      "Vcc=Vee\n",
      "Re=8.2*10**3\n",
      "\n",
      "#Calculations\n",
      "Ve=Vee-Vbe\n",
      "Ie=Ic\n",
      "R3=Ve/Ie\n",
      "print(\" with R3=8.2kohm standard value\")\n",
      "R3=8.2*10**3\n",
      "Ie=Ve/R3\n",
      "Vr2=Vcc-Vc\n",
      "R2=Vr2/Ic\n",
      "Ib=Ic/hFE\n",
      "Vr1=Vbe/10\n",
      "R1=Vr1/Ib\n",
      "print(\" use 4.7Kohm as standard\")\n",
      "#the transistor emitter terminal is .7 below ground and voltage across Re is\n",
      "Ve=Vee-Vbe\n",
      "Ie=Ve/Re\n",
      "Vc=Vcc-(Ie*3.9*10**3)\n",
      "\n",
      "#Results\n",
      "print(\"Current voltage is %.1f V \" %(Vc))"
     ],
     "language": "python",
     "metadata": {},
     "outputs": [
      {
       "output_type": "stream",
       "stream": "stdout",
       "text": [
        " with R3=8.2kohm standard value\n",
        " use 4.7Kohm as standard\n",
        "Current voltage is 5.1 V \n"
       ]
      }
     ],
     "prompt_number": 15
    },
    {
     "cell_type": "heading",
     "level": 2,
     "metadata": {},
     "source": [
      "Example 5.17, Page No 220"
     ]
    },
    {
     "cell_type": "code",
     "collapsed": false,
     "input": [
      "import math\n",
      "#initialisation of variables\n",
      "hFE=100.0\n",
      "Rc=2.2*10**3\n",
      "Rb=270.0*10**3\n",
      "Re=1.0*10**3\n",
      "R1=33.0*10**3\n",
      "R2=12*10**3\n",
      "\n",
      "#Calculations\n",
      "S=1+hFE\n",
      "print(\"for collector to base bias\")\n",
      "S=(1+hFE)/(1+(hFE*Rc)/(Rc+Rb))\n",
      "print(\" for voltage divider bias\")\n",
      "print(\"S=(1+hFE)/(1+hFE*Re(Re+R1||R2))\")\n",
      "S=(1+hFE)/(1+(hFE*Re)/(Re+(R1*R2)/(R1+R2)))\n",
      "\n",
      "#Results\n",
      "print(\"Voltage-divider bias is %.2f  \" %(S))"
     ],
     "language": "python",
     "metadata": {},
     "outputs": [
      {
       "output_type": "stream",
       "stream": "stdout",
       "text": [
        "for collector to base bias\n",
        " for voltage divider bias\n",
        "S=(1+hFE)/(1+hFE*Re(Re+R1||R2))\n",
        "Voltage-divider bias is 9.01  \n"
       ]
      }
     ],
     "prompt_number": 16
    },
    {
     "cell_type": "heading",
     "level": 2,
     "metadata": {},
     "source": [
      "Example 5.18, Page No 221"
     ]
    },
    {
     "cell_type": "code",
     "collapsed": false,
     "input": [
      "import math\n",
      "#initialisation of variables\n",
      "Icbo1=15.0*10**-9# at 25C\n",
      "S=101.0\n",
      "print(\"chnage in temp\")\n",
      "T=105-25\n",
      "print(\" n=T in 10 step\")\n",
      "n=T/10.0\n",
      "\n",
      "#Calculations\n",
      "Icbo2=Icbo1*2**n\n",
      "Icbo=Icbo2-Icbo1\n",
      "print(\" for base bais\")\n",
      "Ic=S*Icbo\n",
      "print(\"  for collector to base bais\")\n",
      "S=56\n",
      "Ic=S*Icbo\n",
      "print(\" for voltage divider bais\")\n",
      "S=8.2\n",
      "Ic=S*Icbo\n",
      "\n",
      "#Results\n",
      "print(\"The value of Ic is %.1f mA \" %(Ic*10**6))"
     ],
     "language": "python",
     "metadata": {},
     "outputs": [
      {
       "output_type": "stream",
       "stream": "stdout",
       "text": [
        "chnage in temp\n",
        " n=T in 10 step\n",
        " for base bais\n",
        "  for collector to base bais\n",
        " for voltage divider bais\n",
        "The value of Ic is 31.4 mA \n"
       ]
      }
     ],
     "prompt_number": 17
    },
    {
     "cell_type": "heading",
     "level": 2,
     "metadata": {},
     "source": [
      "Example 5.19, Page No 223"
     ]
    },
    {
     "cell_type": "code",
     "collapsed": false,
     "input": [
      "import math\n",
      "#initialisation of variables\n",
      "Re=4.7*10**3\n",
      "T=125-25\n",
      "\n",
      "#Calculations\n",
      "Vbe=T*(1.8*10**-3)\n",
      "Ie=Vbe/Re\n",
      "\n",
      "#Results\n",
      "print(\"The value of Ie is %.1f V \" %(Ie*10**6))"
     ],
     "language": "python",
     "metadata": {},
     "outputs": [
      {
       "output_type": "stream",
       "stream": "stdout",
       "text": [
        "The value of Ie is 38.3 V \n"
       ]
      }
     ],
     "prompt_number": 18
    },
    {
     "cell_type": "heading",
     "level": 2,
     "metadata": {},
     "source": [
      "Example 5.20, Page No 223"
     ]
    },
    {
     "cell_type": "code",
     "collapsed": false,
     "input": [
      "import math\n",
      "#initialisation of variables\n",
      "Vcc=10.0\n",
      "Rc=1.0*10**3\n",
      "Rb=6.8*10**3\n",
      "Vs=5.0\n",
      "\n",
      "#Calculations\n",
      "print(\" hFE calculation\")\n",
      "Ic=Vcc/Rc\n",
      "Ib=(Vs-Vbe)/Rb\n",
      "hFE=Ic/Ib\n",
      "print(\"when hFE=10\")\n",
      "hFE=10\n",
      "Ic=hFE*Ib\n",
      "Vce=Vcc-(Ic*Rc)\n",
      "\n",
      "#Results\n",
      "print(\"Current voltage is %.1f V \" %(Vce))"
     ],
     "language": "python",
     "metadata": {},
     "outputs": [
      {
       "output_type": "stream",
       "stream": "stdout",
       "text": [
        " hFE calculation\n",
        "when hFE=10\n",
        "Current voltage is 2.9 V \n"
       ]
      }
     ],
     "prompt_number": 19
    },
    {
     "cell_type": "heading",
     "level": 2,
     "metadata": {},
     "source": [
      "Example 5.21, Page No 227"
     ]
    },
    {
     "cell_type": "code",
     "collapsed": false,
     "input": [
      "#initialisation of variables\n",
      "Vcc=15.0\n",
      "Rc=3.3*10**3\n",
      "Vbe=.7\n",
      "Rb=56.0*10**3\n",
      "\n",
      "#Calculations\n",
      "Ic=Vcc/Rc\n",
      "Ib=(Vcc-Vbe)/Rb\n",
      "hFE=Ic/Ib\n",
      "\n",
      "#Results\n",
      "print(\" minimum hFE is %3.2f \" %hFE)"
     ],
     "language": "python",
     "metadata": {},
     "outputs": [
      {
       "output_type": "stream",
       "stream": "stdout",
       "text": [
        " minimum hFE is 17.80 \n"
       ]
      }
     ],
     "prompt_number": 20
    },
    {
     "cell_type": "heading",
     "level": 2,
     "metadata": {},
     "source": [
      "Example 5.22, Page No 229"
     ]
    },
    {
     "cell_type": "code",
     "collapsed": false,
     "input": [
      "#initialisation of variables\n",
      "Vcc=12.0\n",
      "Ic=1.5*10**-3\n",
      "Vs=5.0\n",
      "hFE=10.0\n",
      "Vbe=.7\n",
      "\n",
      "#Calculations\n",
      "Rc=Vcc/Ic\n",
      "Ib=Ic/hFE\n",
      "Rb=(Vs-Vbe)/Ib\n",
      "\n",
      "#Results\n",
      "print(\"The value of Rb is %.1f kohm \" %(Rb/1000))"
     ],
     "language": "python",
     "metadata": {},
     "outputs": [
      {
       "output_type": "stream",
       "stream": "stdout",
       "text": [
        "The value of Rb is 28.7 kohm \n"
       ]
      }
     ],
     "prompt_number": 21
    },
    {
     "cell_type": "heading",
     "level": 2,
     "metadata": {},
     "source": [
      "Example 5.23, Page No 229"
     ]
    },
    {
     "cell_type": "code",
     "collapsed": false,
     "input": [
      "#Calculations\n",
      "Vcc=9.0\n",
      "Ic=2*10**-3\n",
      "hFE=10.0\n",
      "Vbe=.7\n",
      "\n",
      "#Calculations\n",
      "Rc=Vcc/Ic\n",
      "Ib=Ic/hFE\n",
      "Rb=(Vcc-Vbe)/Ib\n",
      "\n",
      "#Results\n",
      "print(\"The value of Rb is %.2f kohm \" %(Rb/1000))"
     ],
     "language": "python",
     "metadata": {},
     "outputs": [
      {
       "output_type": "stream",
       "stream": "stdout",
       "text": [
        "The value of Rb is 41.50 kohm \n"
       ]
      }
     ],
     "prompt_number": 22
    }
   ],
   "metadata": {}
  }
 ]
}