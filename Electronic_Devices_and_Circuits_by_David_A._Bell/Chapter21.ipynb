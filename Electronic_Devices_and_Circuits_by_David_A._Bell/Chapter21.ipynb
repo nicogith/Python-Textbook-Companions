{
 "metadata": {
  "name": ""
 },
 "nbformat": 3,
 "nbformat_minor": 0,
 "worksheets": [
  {
   "cells": [
    {
     "cell_type": "heading",
     "level": 1,
     "metadata": {},
     "source": [
      "Chapter 21 : Optoelectronic Devices"
     ]
    },
    {
     "cell_type": "heading",
     "level": 2,
     "metadata": {},
     "source": [
      "Example 21.1, Page No 947"
     ]
    },
    {
     "cell_type": "code",
     "collapsed": false,
     "input": [
      "import math\n",
      "\n",
      "#initialisation of variables\n",
      "r=3.0\n",
      "Os=25.0\n",
      "area=0.25\n",
      "\n",
      "#Calculations\n",
      "Ea=Os/(4.0*3.14*(r)**2)\n",
      "Tf=Ea*area\n",
      "\n",
      "#Results\n",
      "print(\" total flux is %3.3fW \" %Tf)"
     ],
     "language": "python",
     "metadata": {},
     "outputs": [
      {
       "output_type": "stream",
       "stream": "stdout",
       "text": [
        " total flux is 0.055W \n"
       ]
      }
     ],
     "prompt_number": 13
    },
    {
     "cell_type": "heading",
     "level": 2,
     "metadata": {},
     "source": [
      "Example 21.3, Page No 951"
     ]
    },
    {
     "cell_type": "code",
     "collapsed": false,
     "input": [
      "import math\n",
      "\n",
      "#initialisation of variables\n",
      "Vcc=9.0\n",
      "Vf=1.6\n",
      "Vb=7.0\n",
      "hFE=100.0\n",
      "Vce=0.2\n",
      "Ic=10.0*10**-3\n",
      "Vbe=0.7\n",
      "\n",
      "#Calculations\n",
      "R2=(Vcc-Vf-Vce)/Ic\n",
      "R2=680#use standard value\n",
      "Ic=(Vcc-Vf-Vce)/R2\n",
      "Ib=Ic/hFE\n",
      "Rb=(Vb-Vbe)/Ib\n",
      "\n",
      "#Results\n",
      "print(\"The value of Rb is %d kohm\" %(Rb/1000))"
     ],
     "language": "python",
     "metadata": {},
     "outputs": [
      {
       "output_type": "stream",
       "stream": "stdout",
       "text": [
        "The value of Rb is 59 kohm\n"
       ]
      }
     ],
     "prompt_number": 14
    },
    {
     "cell_type": "heading",
     "level": 2,
     "metadata": {},
     "source": [
      "Example 21.4 Page No 952"
     ]
    },
    {
     "cell_type": "code",
     "collapsed": false,
     "input": [
      "import math\n",
      "\n",
      "#initialisation of variables\n",
      "Vcc=5.0\n",
      "N=(3*7.0)+(1.0*2)\n",
      "\n",
      "#Calculations\n",
      "It=N*10.0*10**-3\n",
      "P=It*Vcc\n",
      "\n",
      "#Results\n",
      "print(\"The value of power is %.2f W\" %P)"
     ],
     "language": "python",
     "metadata": {},
     "outputs": [
      {
       "output_type": "stream",
       "stream": "stdout",
       "text": [
        "The value of power is 1.15 W\n"
       ]
      }
     ],
     "prompt_number": 15
    },
    {
     "cell_type": "heading",
     "level": 2,
     "metadata": {},
     "source": [
      "Example 21.5, Page No 957"
     ]
    },
    {
     "cell_type": "code",
     "collapsed": false,
     "input": [
      "import math\n",
      "#initialisation of variables\n",
      "Rc=1.0*10**3\n",
      "I=10.0*10**-3\n",
      "E=30.0\n",
      "\n",
      "#Calculations\n",
      "R1=E/I -Rc\n",
      "R1=1.8*10**3#use standard value\n",
      "print(\" when dark Rc=100Kohm\")\n",
      "Rc=100*10**3\n",
      "I=E/(R1+Rc)\n",
      "\n",
      "#Results\n",
      "print(\"The value of I is %.2f mA\" %(I*10**3))"
     ],
     "language": "python",
     "metadata": {},
     "outputs": [
      {
       "output_type": "stream",
       "stream": "stdout",
       "text": [
        " when dark Rc=100Kohm\n",
        "The value of I is 0.29 mA\n"
       ]
      }
     ],
     "prompt_number": 16
    },
    {
     "cell_type": "heading",
     "level": 2,
     "metadata": {},
     "source": [
      "Example 21.6 Page No 958"
     ]
    },
    {
     "cell_type": "code",
     "collapsed": false,
     "input": [
      "import math\n",
      "#initialisation of variables\n",
      "\n",
      "Vee=6.0\n",
      "Vbe=0.7\n",
      "Ib=200.0*10**-6\n",
      "Vb=0.7\n",
      "Vcc=6.0\n",
      "\n",
      "#Calculations\n",
      "print(\"when cell is dark Rc=100Kohm\")\n",
      "Rc=100.0*10**3\n",
      "Vrc=Vee+Vbe\n",
      "Irc=Vrc/Rc\n",
      "Ir1=Irc+Ib\n",
      "Vr1=Vcc-Vb\n",
      "R1=Vr1/Ir1\n",
      "R1=18.0*10**3#use standard value\n",
      "print(\" when Q1 is off\")\n",
      "Vr1=6.0\n",
      "Vrc=6.0\n",
      "Ir1=Vr1/R1\n",
      "Rc=Vrc/Ir1\n",
      "\n",
      "#Results\n",
      "print(\"The value of Rc is %d kohm\" %(Rc/1000))"
     ],
     "language": "python",
     "metadata": {},
     "outputs": [
      {
       "output_type": "stream",
       "stream": "stdout",
       "text": [
        "when cell is dark Rc=100Kohm\n",
        " when Q1 is off\n",
        "The value of Rc is 18 kohm\n"
       ]
      }
     ],
     "prompt_number": 17
    }
   ],
   "metadata": {}
  }
 ]
}