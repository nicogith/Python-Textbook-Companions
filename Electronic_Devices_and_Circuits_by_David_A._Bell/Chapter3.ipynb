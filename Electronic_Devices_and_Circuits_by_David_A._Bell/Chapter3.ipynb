{
 "metadata": {
  "name": ""
 },
 "nbformat": 3,
 "nbformat_minor": 0,
 "worksheets": [
  {
   "cells": [
    {
     "cell_type": "heading",
     "level": 1,
     "metadata": {},
     "source": [
      "Chapter 03 : Diode applications"
     ]
    },
    {
     "cell_type": "heading",
     "level": 2,
     "metadata": {},
     "source": [
      "Example 3.1, Page No 73"
     ]
    },
    {
     "cell_type": "code",
     "collapsed": false,
     "input": [
      "import math\n",
      "#initialisation of variables\n",
      "Vf=.7\n",
      "Rl=500.0\n",
      "Vi=22.0\n",
      "Vpi=1.414*Vi\n",
      "\n",
      "#Calculations\n",
      "Vpo=Vpi-Vf\n",
      "print(\" peak vouput voltage is %3.2fV \" %Vpo)\n",
      "Ip=Vpo/Rl\n",
      "\n",
      "#Results\n",
      "print(\"peak load current is %3.4fA \" %Ip)\n",
      "PIV=Vpi\n",
      "print(\"diode paek reverse voltage %3.2fV \" %PIV)"
     ],
     "language": "python",
     "metadata": {},
     "outputs": [
      {
       "output_type": "stream",
       "stream": "stdout",
       "text": [
        " peak vouput voltage is 30.41V \n",
        "peak load current is 0.0608A \n",
        "diode paek reverse voltage 31.11V \n"
       ]
      }
     ],
     "prompt_number": 1
    },
    {
     "cell_type": "heading",
     "level": 2,
     "metadata": {},
     "source": [
      "Example 3.2, Page No 79"
     ]
    },
    {
     "cell_type": "code",
     "collapsed": false,
     "input": [
      "import math\n",
      "\n",
      "#initialisation of variables\n",
      "Vi=30.0\n",
      "Rl=300.0\n",
      "Vf=0.7\n",
      "\n",
      "#Calculations\n",
      "Vpi=1.414*Vi\n",
      "Vpo=Vpi-2*Vf\n",
      "print(\" peak output voltage %.3f V \" %Vpo)\n",
      "Ip=Vpo/Rl\n",
      "\n",
      "#Results\n",
      "print(\" current bridge is %.1f mA \" %(Ip*1000))"
     ],
     "language": "python",
     "metadata": {},
     "outputs": [
      {
       "output_type": "stream",
       "stream": "stdout",
       "text": [
        " peak output voltage 41.020 V \n",
        " current bridge is 136.7 mA \n"
       ]
      }
     ],
     "prompt_number": 2
    },
    {
     "cell_type": "heading",
     "level": 2,
     "metadata": {},
     "source": [
      "Example 3.3 Page No 83"
     ]
    },
    {
     "cell_type": "code",
     "collapsed": false,
     "input": [
      "import math\n",
      "\n",
      "#initialisation of variables\n",
      "C1=680.0*10**-6\n",
      "Eo=28.0\n",
      "Rl=200.0\n",
      "f=60.0\n",
      "\n",
      "#Calculations\n",
      "Il=Eo/Rl\n",
      "T=1/f\n",
      "t1=T\n",
      "Vr=(Il*t1)/C1\n",
      "\n",
      "#Results\n",
      "print(\"peak to peak ripple voltage is %.2f V \" %Vr)"
     ],
     "language": "python",
     "metadata": {},
     "outputs": [
      {
       "output_type": "stream",
       "stream": "stdout",
       "text": [
        "peak to peak ripple voltage is 3.43 V \n"
       ]
      }
     ],
     "prompt_number": 3
    },
    {
     "cell_type": "heading",
     "level": 2,
     "metadata": {},
     "source": [
      "Example 3.4, Page No 84"
     ]
    },
    {
     "cell_type": "code",
     "collapsed": false,
     "input": [
      "import math\n",
      "#initialisation of variables\n",
      "Eo=20.0\n",
      "Rl=500.0\n",
      "f=60.0\n",
      "\n",
      "#Calculations\n",
      "Vr=(10*Eo)/100#10% of Eo\n",
      "Il=Eo/Rl\n",
      "T=1/f\n",
      "t1=T\n",
      "C1=((Il*t1)/Vr)*10**6\n",
      "\n",
      "#Results\n",
      "print(\"Reservior capacitance is %.2f uF \" %C1)"
     ],
     "language": "python",
     "metadata": {},
     "outputs": [
      {
       "output_type": "stream",
       "stream": "stdout",
       "text": [
        "Reservior capacitance is 333.33 uF \n"
       ]
      }
     ],
     "prompt_number": 4
    },
    {
     "cell_type": "heading",
     "level": 2,
     "metadata": {},
     "source": [
      "Example 3.5 Page No 85"
     ]
    },
    {
     "cell_type": "code",
     "collapsed": false,
     "input": [
      "import math\n",
      "#initialisation of variables\n",
      "Eo=20.0\n",
      "f=60.0\n",
      "Rl=500.0\n",
      "Il=Eo/Rl\n",
      "\n",
      "#Calculations\n",
      "Vr=(10.0*Eo)/100\n",
      "print(\"10percent of Eo is %.2f V \" %Vr)\n",
      "Eomin=Eo-0.5*Vr\n",
      "Eomax=Eo+0.5*Vr\n",
      "Q1=math.asin(Eomin/Eomax)\n",
      "Q1=65\n",
      "Q2=90-Q1\n",
      "T=1/f\n",
      "t2=(Q2*T)/360\n",
      "print(\" charging time is %.2fs \" %t2)\n",
      "t1=T-t2\n",
      "print(\"discharging time is %.2fs \" %t1)\n",
      "C1=((Il*t1)/Vr)*10**6\n",
      "\n",
      "#Results\n",
      "print(\"reservior capacitance is %.2f uF \" %C1)"
     ],
     "language": "python",
     "metadata": {},
     "outputs": [
      {
       "output_type": "stream",
       "stream": "stdout",
       "text": [
        "10percent of Eo is 2.00 V \n",
        " charging time is 0.00s \n",
        "discharging time is 0.02s \n",
        "reservior capacitance is 310.19 uF \n"
       ]
      }
     ],
     "prompt_number": 5
    },
    {
     "cell_type": "heading",
     "level": 2,
     "metadata": {},
     "source": [
      "Example 3.6 Page No 88"
     ]
    },
    {
     "cell_type": "code",
     "collapsed": false,
     "input": [
      "import math\n",
      "\n",
      "#initialisation of variables\n",
      "Eo=21.0\n",
      "Vf=0.7\n",
      "\n",
      "#Calculations\n",
      "t1=1.16*10**-3\n",
      "t2=15.54*10**-3\n",
      "Vp=Eo+Vf\n",
      "Vr=2*Vp\n",
      "Il=40*10**-4\n",
      "Ifrm=(Il*(t1+t2))/t2\n",
      "Ifsm=30.0\n",
      "Rs=Vp/Ifsm\n",
      "\n",
      "#Results\n",
      "print(\" surge limiting resistance is %3.2fohm \" %Rs)"
     ],
     "language": "python",
     "metadata": {},
     "outputs": [
      {
       "output_type": "stream",
       "stream": "stdout",
       "text": [
        " surge limiting resistance is 0.72ohm \n"
       ]
      }
     ],
     "prompt_number": 6
    },
    {
     "cell_type": "heading",
     "level": 2,
     "metadata": {},
     "source": [
      "Example 3.7, Page No 89 "
     ]
    },
    {
     "cell_type": "code",
     "collapsed": false,
     "input": [
      "import math\n",
      "#initialisation of variables\n",
      "Vf=.7\n",
      "Eo=21.0\n",
      "\n",
      "#Calculations\n",
      "Il=40*10**-3\n",
      "Vp=115.0\n",
      "Vs=.707*(Vf+Eo)\n",
      "print(\" Vrms voltage is %3.3fV \" %Vs)\n",
      "Is=3.6*Il\n",
      "print(\" rms current is %.2f mA \" %(Is*1000))\n",
      "Ip=(Vs*Is)/Vp\n",
      "\n",
      "#Results\n",
      "print(\"primary current is %.2f mA \" %(Ip*1000))"
     ],
     "language": "python",
     "metadata": {},
     "outputs": [
      {
       "output_type": "stream",
       "stream": "stdout",
       "text": [
        " Vrms voltage is 15.342V \n",
        " rms current is 144.00 mA \n",
        "primary current is 19.21 mA \n"
       ]
      }
     ],
     "prompt_number": 7
    },
    {
     "cell_type": "heading",
     "level": 2,
     "metadata": {},
     "source": [
      "Example 3.8 Page No 92"
     ]
    },
    {
     "cell_type": "code",
     "collapsed": false,
     "input": [
      "import math \n",
      "\n",
      "#initialisation of variables\n",
      "Vr=2.0\n",
      "T=16.7*10**-3\n",
      "t2=1.16*10**-3\n",
      "\n",
      "#Calculations\n",
      "Il=40.0*10**-3#from example 3.5\n",
      "t1=(T/2.0)-t2\n",
      "C1=(Il*t1)/Vr\n",
      "\n",
      "#Results\n",
      "print(\" resrvior capacitor is %.2f mF \" %(C1*10**6))"
     ],
     "language": "python",
     "metadata": {},
     "outputs": [
      {
       "output_type": "stream",
       "stream": "stdout",
       "text": [
        " resrvior capacitor is 143.80 mF \n"
       ]
      }
     ],
     "prompt_number": 8
    },
    {
     "cell_type": "heading",
     "level": 2,
     "metadata": {},
     "source": [
      "Example 3.9 Page No 93"
     ]
    },
    {
     "cell_type": "code",
     "collapsed": false,
     "input": [
      "import math\n",
      "#initialisation of variables\n",
      "Vr=2.0\n",
      "T=16.7*10**-3\n",
      "Il=40.0*10**-3\n",
      "\n",
      "#Calculations\n",
      "t1=T/2\n",
      "C1=(Il*t1)/Vr\n",
      "\n",
      "#Results\n",
      "print(\" reservior capacitance is %.1fF \" %(C1*10**6))"
     ],
     "language": "python",
     "metadata": {},
     "outputs": [
      {
       "output_type": "stream",
       "stream": "stdout",
       "text": [
        " reservior capacitance is 167.0F \n"
       ]
      }
     ],
     "prompt_number": 9
    },
    {
     "cell_type": "heading",
     "level": 2,
     "metadata": {},
     "source": [
      "Example 3.10 Page No 93"
     ]
    },
    {
     "cell_type": "code",
     "collapsed": false,
     "input": [
      "import math\n",
      "\n",
      "#initialisation of variables\n",
      "Eo=21.0\n",
      "Vf=0.7\n",
      "Il=40.0*10**-3\n",
      "t1=7.19*10**-3\n",
      "t2=1.16*10**-3\n",
      "\n",
      "#Calculations\n",
      "Vp=Eo+(2*Vf)\n",
      "Vr=Vp\n",
      "If=Il/2\n",
      "Ifrm=Il*(t1+t2)/t2\n",
      "Ifsm=30\n",
      "Rs=Vp/Ifsm\n",
      "\n",
      "#Results\n",
      "print(\"surge limiting resistance is %.3fohm \" %Rs)"
     ],
     "language": "python",
     "metadata": {},
     "outputs": [
      {
       "output_type": "stream",
       "stream": "stdout",
       "text": [
        "surge limiting resistance is 0.747ohm \n"
       ]
      }
     ],
     "prompt_number": 10
    },
    {
     "cell_type": "heading",
     "level": 2,
     "metadata": {},
     "source": [
      "Example 3.11, Page No 93"
     ]
    },
    {
     "cell_type": "code",
     "collapsed": false,
     "input": [
      "import math\n",
      "\n",
      "#initialisation of variables\n",
      "Eo=21.0\n",
      "Vf=0.7\n",
      "Il=40*10**-3\n",
      "Vp=115.0\n",
      "\n",
      "#Calculations\n",
      "Vs=0.707*(Eo+2*Vf)\n",
      "Is=1.6*Il\n",
      "Ip=(Vs*Is)/Vp\n",
      "\n",
      "#Results\n",
      "print(\" supply current is %.1f mA \" %(Ip*10**3))"
     ],
     "language": "python",
     "metadata": {},
     "outputs": [
      {
       "output_type": "stream",
       "stream": "stdout",
       "text": [
        " supply current is 8.8 mA \n"
       ]
      }
     ],
     "prompt_number": 11
    },
    {
     "cell_type": "heading",
     "level": 2,
     "metadata": {},
     "source": [
      "Example 3.12, Page No 97"
     ]
    },
    {
     "cell_type": "code",
     "collapsed": false,
     "input": [
      "import math\n",
      "#initialisation of variables\n",
      "Eo=20.0\n",
      "Il=40.0*10**-3\n",
      "R1=22.0\n",
      "Vr=2.0\n",
      "C1=150*10**-6\n",
      "C2=C1\n",
      "fr=120\n",
      "\n",
      "#Calculations\n",
      "Vo=Eo-Il*R1\n",
      "vi=Vr/3.14\n",
      "Xc2=1/(2*3.14*fr*C2)\n",
      "vo=(vi*Xc2)/math.sqrt((R1**2) + (Xc2**2))\n",
      "print(\" dc output voltage is %.3fV \" %vo)\n",
      "Vpp=2*vo\n",
      "\n",
      "#Results\n",
      "print(\" peak to peak voltage is %.1fV \" %(Vpp*10**3))"
     ],
     "language": "python",
     "metadata": {},
     "outputs": [
      {
       "output_type": "stream",
       "stream": "stdout",
       "text": [
        " dc output voltage is 0.238V \n",
        " peak to peak voltage is 475.3V \n"
       ]
      }
     ],
     "prompt_number": 12
    },
    {
     "cell_type": "heading",
     "level": 2,
     "metadata": {},
     "source": [
      "Example 3.13, Page No 98"
     ]
    },
    {
     "cell_type": "code",
     "collapsed": false,
     "input": [
      "import math\n",
      "#initialisation of variables\n",
      "C1=150*10**-6\n",
      "C2=C1\n",
      "vi=4.0\n",
      "vo=1.0\n",
      "f=120.0\n",
      "\n",
      "#Calculations\n",
      "Xc2=8.84           #FROM EXAMPLE 3.12\n",
      "Xl=Xc2*((vi/vo)+1)\n",
      "L1=Xl/(2*3.14*f)\n",
      "\n",
      "#Results\n",
      "print(\" suitable value of L1 is %.3fH \" %(L1*10**3))"
     ],
     "language": "python",
     "metadata": {},
     "outputs": [
      {
       "output_type": "stream",
       "stream": "stdout",
       "text": [
        " suitable value of L1 is 58.652H \n"
       ]
      }
     ],
     "prompt_number": 13
    },
    {
     "cell_type": "heading",
     "level": 2,
     "metadata": {},
     "source": [
      "Example 3.14, Page No 101"
     ]
    },
    {
     "cell_type": "code",
     "collapsed": false,
     "input": [
      "import math\n",
      "#initialisation of variables\n",
      "Edc=20.0\n",
      "vo=0.24\n",
      "Vo=20.0\n",
      "Il=40*10**-3\n",
      "fr=120.0\n",
      "\n",
      "#Calculations\n",
      "Eomax=(3.14*Edc)/2\n",
      "Epeak=(4*Eomax)/(3*3.14)\n",
      "vi=Epeak\n",
      "Rl=Vo/Il\n",
      "Xlc=(2*Rl)/3\n",
      "Lc=Xlc/(2*3.14*fr)\n",
      "L=1.25*Lc\n",
      "Xl=2*3.14*fr*L\n",
      "Xc=Xl/((vi/vo)+1)\n",
      "C1=1/(2*3.14*fr*Xc)\n",
      "\n",
      "#Results\n",
      "print(\"The value of c1 = %.2f mF \" %(C1*10**6))"
     ],
     "language": "python",
     "metadata": {},
     "outputs": [
      {
       "output_type": "stream",
       "stream": "stdout",
       "text": [
        "The value of c1 = 180.11 mF \n"
       ]
      }
     ],
     "prompt_number": 14
    },
    {
     "cell_type": "heading",
     "level": 2,
     "metadata": {},
     "source": [
      "Example 3.15, Page No 105"
     ]
    },
    {
     "cell_type": "code",
     "collapsed": false,
     "input": [
      "import math\n",
      "#initialisation of variables\n",
      "Eo=20.0\n",
      "E0=20-19.7                #load effect\n",
      "\n",
      "#Calculations\n",
      "loadregulation =(E0*100)/Eo#percentage\n",
      "sourceeffect=20.2-20\n",
      "lineregulation =(sourceeffect*100)/Eo\n",
      "\n",
      "#Results\n",
      "print(\"Line regulation = %.1f percent \" %lineregulation)"
     ],
     "language": "python",
     "metadata": {},
     "outputs": [
      {
       "output_type": "stream",
       "stream": "stdout",
       "text": [
        "Line regulation = 1.0 percent \n"
       ]
      }
     ],
     "prompt_number": 15
    },
    {
     "cell_type": "heading",
     "level": 2,
     "metadata": {},
     "source": [
      "Example 3.16, Page No 108"
     ]
    },
    {
     "cell_type": "code",
     "collapsed": false,
     "input": [
      "import math\n",
      "#initialisation of variables\n",
      "Vz=9.1\n",
      "Izt=20*10**-3\n",
      "Es=30.0\n",
      "\n",
      "#Calculations\n",
      "R1=(Es-Vz)/Izt\n",
      "Pr1=(Izt**2)*R1\n",
      "Es=27\n",
      "Iz=(Es-Vz)/R1\n",
      "\n",
      "#Results\n",
      "print(\"The circuit current is %.2f mA \" %(Iz*10**3))"
     ],
     "language": "python",
     "metadata": {},
     "outputs": [
      {
       "output_type": "stream",
       "stream": "stdout",
       "text": [
        "The circuit current is 17.13 mA \n"
       ]
      }
     ],
     "prompt_number": 16
    },
    {
     "cell_type": "heading",
     "level": 2,
     "metadata": {},
     "source": [
      "Example 3.17, Page No 110"
     ]
    },
    {
     "cell_type": "code",
     "collapsed": false,
     "input": [
      "import math\n",
      "#initialisation of variables\n",
      "Vz=6.2\n",
      "Pd=400.0*10**-3\n",
      "Es=16.0\n",
      "\n",
      "#Calculations\n",
      "Izm=Pd/Vz\n",
      "R1=(Es-Vz)/Izm\n",
      "Pr1=(Izm**2)*R1\n",
      "Izmin=5.0*10**-3\n",
      "Izmax=Izm-Izmin\n",
      "\n",
      "#Results\n",
      "print(\"maximum current is %3.2f mA \" %(Izmax*10**3))"
     ],
     "language": "python",
     "metadata": {},
     "outputs": [
      {
       "output_type": "stream",
       "stream": "stdout",
       "text": [
        "maximum current is 59.52 mA \n"
       ]
      }
     ],
     "prompt_number": 17
    },
    {
     "cell_type": "heading",
     "level": 2,
     "metadata": {},
     "source": [
      "Example 3.18, Page No 112"
     ]
    },
    {
     "cell_type": "code",
     "collapsed": false,
     "input": [
      "import math\n",
      "#initialisation of variables\n",
      "Zz=7.0\n",
      "Es=16.0\n",
      "Vo=6.2\n",
      "Il=59.5*10**-3\n",
      "\n",
      "#Calculations\n",
      "es=(10*Es)/100.0                #10% os Es\n",
      "Rl=Vo/Il\n",
      "print(\"es*Zz||Rl/R1+Zz||Rl\")\n",
      "V0=es*((Zz*Rl)/(Zz+Rl))/(R1+((Zz*Rl)/(Zz+Rl)))\n",
      "lineregulation=(V0*100)/Vo\n",
      "print(\"line regulation voltage is %3.3fpercentage \" %lineregulation)\n",
      "V0=Il*((Zz*R1)/(Zz+R1))\n",
      "loadregulation=(V0*100)/Vo\n",
      "print(\"loadregulation voltage is %3.3fpercentage \" %loadregulation)\n",
      "Rr=((Zz*Rl)/(Zz+Rl))/(R1+(Zz*Rl)/(Zz+Rl))\n",
      "\n",
      "#Results\n",
      "print(\"ripple rejection is %3.2f X 10^-2 \" %(Rr*10**2))"
     ],
     "language": "python",
     "metadata": {},
     "outputs": [
      {
       "output_type": "stream",
       "stream": "stdout",
       "text": [
        "es*Zz||Rl/R1+Zz||Rl\n",
        "line regulation voltage is 1.068percentage \n",
        "loadregulation voltage is 6.422percentage \n",
        "ripple rejection is 4.14 X 10^-2 \n"
       ]
      }
     ],
     "prompt_number": 18
    },
    {
     "cell_type": "heading",
     "level": 2,
     "metadata": {},
     "source": [
      "Example 3.19, Page No 114"
     ]
    },
    {
     "cell_type": "code",
     "collapsed": false,
     "input": [
      "import math\n",
      "#initialisation of variables\n",
      "\n",
      "E=9.0\n",
      "Vf=.7\n",
      "\n",
      "#Calculations\n",
      "If=1.0*10**-3\n",
      "Vo=E-Vf\n",
      "R1=Vo/If\n",
      "Vr=E\n",
      "\n",
      "#Results\n",
      "print(\"diode forward voltage is %3.2fohm \" %Vr)\n",
      "print(\"diode forward current is %3.1fA \" %(If*10**3))"
     ],
     "language": "python",
     "metadata": {},
     "outputs": [
      {
       "output_type": "stream",
       "stream": "stdout",
       "text": [
        "diode forward voltage is 9.00ohm \n",
        "diode forward current is 1.0A \n"
       ]
      }
     ],
     "prompt_number": 19
    },
    {
     "cell_type": "heading",
     "level": 2,
     "metadata": {},
     "source": [
      "Example 3.20, Page No 117"
     ]
    },
    {
     "cell_type": "code",
     "collapsed": false,
     "input": [
      "import math\n",
      "#initialisation of variables\n",
      "E=5.0\n",
      "Vo=4.5\n",
      "Il=2.0*10**-3\n",
      "\n",
      "#Calculations\n",
      "R1=(E-Vo)/Il\n",
      "print(\" suitable resistance is %dohm \" %R1)\n",
      "Vr=E\n",
      "print(\"when diode is forward baised\")\n",
      "If=(E-Vf)/R1\n",
      "\n",
      "#Results\n",
      "print(\" diode forward current is %3.2fA \" %(If*10**3))"
     ],
     "language": "python",
     "metadata": {},
     "outputs": [
      {
       "output_type": "stream",
       "stream": "stdout",
       "text": [
        " suitable resistance is 250ohm \n",
        "when diode is forward baised\n",
        " diode forward current is 17.20A \n"
       ]
      }
     ],
     "prompt_number": 20
    },
    {
     "cell_type": "heading",
     "level": 2,
     "metadata": {},
     "source": [
      "Example 3.21, Page No 119"
     ]
    },
    {
     "cell_type": "code",
     "collapsed": false,
     "input": [
      "import math\n",
      "#initialisation of variables\n",
      "Vo=2.7\n",
      "Vf=.7\n",
      "E=9.0\n",
      "If=1*10**-3\n",
      "\n",
      "#Calculations\n",
      "Il=If\n",
      "Vb=Vo-Vf\n",
      "R1=(E-Vo)/(Il+If)\n",
      "\n",
      "#Results\n",
      "print(\"resistance is %.2f kOhm \" %(R1/10**3))"
     ],
     "language": "python",
     "metadata": {},
     "outputs": [
      {
       "output_type": "stream",
       "stream": "stdout",
       "text": [
        "resistance is 3.15 kOhm \n"
       ]
      }
     ],
     "prompt_number": 21
    },
    {
     "cell_type": "heading",
     "level": 2,
     "metadata": {},
     "source": [
      "Example 3.22, Page No 120"
     ]
    },
    {
     "cell_type": "code",
     "collapsed": false,
     "input": [
      "import math\n",
      "#initialisation of variables\n",
      "Vo=5.0\n",
      "Vf=0.7\n",
      "Iz=5.0\n",
      "Il=1.0\n",
      "E=20.0\n",
      "\n",
      "#Calculations\n",
      "Vz=Vo-Vf\n",
      "R1=(E-Vo)/(Il+Iz)\n",
      "\n",
      "#Results\n",
      "print(\"zener diode resistance si %.2f ohm \" %R1)\n",
      "#Answer in the book is wrong"
     ],
     "language": "python",
     "metadata": {},
     "outputs": [
      {
       "output_type": "stream",
       "stream": "stdout",
       "text": [
        "zener diode resistance si 2.50 ohm \n"
       ]
      }
     ],
     "prompt_number": 22
    },
    {
     "cell_type": "heading",
     "level": 2,
     "metadata": {},
     "source": [
      "Example 3.23, Page No 122"
     ]
    },
    {
     "cell_type": "code",
     "collapsed": false,
     "input": [
      "import math\n",
      "#initialisation of variables\n",
      "E=10.0\n",
      "R1=56.0*10**3\n",
      "f=1000.0\n",
      "C1=1.0*10**-6\n",
      "\n",
      "#Calculations\n",
      "Vo=2*E\n",
      "Ic=Vo/R1\n",
      "t=1/(2*f)\n",
      "Vc=(Ic*t)/C1\n",
      "\n",
      "#Results\n",
      "print(\" tilt output voltage is %3.2fV \" %(Vc*10**3))"
     ],
     "language": "python",
     "metadata": {},
     "outputs": [
      {
       "output_type": "stream",
       "stream": "stdout",
       "text": [
        " tilt output voltage is 178.57V \n"
       ]
      }
     ],
     "prompt_number": 23
    },
    {
     "cell_type": "heading",
     "level": 2,
     "metadata": {},
     "source": [
      "Example 3.24, Page No 124"
     ]
    },
    {
     "cell_type": "code",
     "collapsed": false,
     "input": [
      "import math\n",
      "#initialisation of variables\n",
      "f=500.0\n",
      "Rs=600.0\n",
      "E=8.0\n",
      "\n",
      "#Calculations\n",
      "t=1.0/(2*f)\n",
      "PW=t\n",
      "C1=PW/Rs\n",
      "Vo=2.0*E\n",
      "Vc=(1*Vo)/100#1% of  the Vo\n",
      "Ic=(Vc*C1)/t\n",
      "R1=(2*E)/(Ic*1000)\n",
      "\n",
      "#Results\n",
      "print(\"suitable value of R1 is %.2f ohm \" %R1)"
     ],
     "language": "python",
     "metadata": {},
     "outputs": [
      {
       "output_type": "stream",
       "stream": "stdout",
       "text": [
        "suitable value of R1 is 60.00 ohm \n"
       ]
      }
     ],
     "prompt_number": 24
    },
    {
     "cell_type": "heading",
     "level": 2,
     "metadata": {},
     "source": [
      "Example 3.25, Page No 125"
     ]
    },
    {
     "cell_type": "code",
     "collapsed": false,
     "input": [
      "import math\n",
      "#initialisation of variables\n",
      "Vf=0.7\n",
      "E=6.0\n",
      "Vb1=3.0\n",
      "\n",
      "#Calculations\n",
      "Vc=Vb1-Vf-(-E)\n",
      "Vo=Vb1-Vf\n",
      "print(\"when input is -E\")\n",
      "Vo=E+Vc\n",
      "Vo=Vb1+Vf\n",
      "print(\"Capicitor voltage is %.2f ohm \" %Vc)\n",
      "print(\"when input is +E\")\n",
      "Vo=E+(Vc)\n",
      "\n",
      "#Results\n",
      "print(\"Capicitor voltage is %.2f ohm \" %Vo)"
     ],
     "language": "python",
     "metadata": {},
     "outputs": [
      {
       "output_type": "stream",
       "stream": "stdout",
       "text": [
        "when input is -E\n",
        "Capicitor voltage is 8.30 ohm \n",
        "when input is +E\n",
        "Capicitor voltage is 14.30 ohm \n"
       ]
      }
     ],
     "prompt_number": 25
    },
    {
     "cell_type": "heading",
     "level": 2,
     "metadata": {},
     "source": [
      "Example 3.26, Page No 130"
     ]
    },
    {
     "cell_type": "code",
     "collapsed": false,
     "input": [
      "import math\n",
      "#initialisation of variables\n",
      "E=12.0\n",
      "Vf=0.7\n",
      "Rl=47*10**3\n",
      "f=5000.0\n",
      "\n",
      "#Calculations\n",
      "Vo=2*(E-Vf)\n",
      "Il=Vo/Rl\n",
      "print(\" capacitor discharge time\")\n",
      "t=1.0/(2*f)\n",
      "print(\" for 1% ripple allow .5% due to discharge of C2  %.5%due to discharge of C1\")\n",
      "Vc=(.5*Vo)/100\n",
      "C2=((Il*t)/Vc)*10**6\n",
      "print(\" value of capacitor C2 is %3.2fuF \" %C2)\n",
      "C1=2*C2\n",
      "\n",
      "#Results\n",
      "print(\"value of capacitor C1 is %3.2fuF \" %C1)"
     ],
     "language": "python",
     "metadata": {},
     "outputs": [
      {
       "output_type": "stream",
       "stream": "stdout",
       "text": [
        " capacitor discharge time\n",
        " for 1% ripple allow .5% due to discharge of C2  %.5%due to discharge of C1\n",
        " value of capacitor C2 is 0.43uF \n",
        "value of capacitor C1 is 0.85uF \n"
       ]
      }
     ],
     "prompt_number": 26
    },
    {
     "cell_type": "heading",
     "level": 2,
     "metadata": {},
     "source": [
      "Example 3.27, Page No 133"
     ]
    },
    {
     "cell_type": "code",
     "collapsed": false,
     "input": [
      "import math\n",
      "#initialisation of variables\n",
      "\n",
      "Vcc=5.0\n",
      "Vf=.7\n",
      "R1=3.3*10**3\n",
      "\n",
      "#Calculations\n",
      "print(\"A)\")\n",
      "Ir1=(Vcc-Vf)/R1\n",
      "print(\"diode forward current when all input are low is %3.4fA \" %Ir1)\n",
      "print(\"for each diode\")\n",
      "If=Ir1/3\n",
      "print(\"B)\")\n",
      "If2=Ir1/2\n",
      "If3=If2\n",
      "print(\" forward current when input A is high is %3.5fA \" %If3)\n",
      "print(\"C)\")\n",
      "If3=Ir1\n",
      "\n",
      "#Results\n",
      "print(\" forward current when input A and B are high and C is low %3.2fA \" %(If3*10**3))"
     ],
     "language": "python",
     "metadata": {},
     "outputs": [
      {
       "output_type": "stream",
       "stream": "stdout",
       "text": [
        "A)\n",
        "diode forward current when all input are low is 0.0013A \n",
        "for each diode\n",
        "B)\n",
        " forward current when input A is high is 0.00065A \n",
        "C)\n",
        " forward current when input A and B are high and C is low 1.30A \n"
       ]
      }
     ],
     "prompt_number": 27
    }
   ],
   "metadata": {}
  }
 ]
}