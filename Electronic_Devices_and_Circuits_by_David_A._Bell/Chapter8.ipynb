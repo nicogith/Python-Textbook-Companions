{
 "metadata": {
  "name": ""
 },
 "nbformat": 3,
 "nbformat_minor": 0,
 "worksheets": [
  {
   "cells": [
    {
     "cell_type": "heading",
     "level": 1,
     "metadata": {},
     "source": [
      "Chapter 08 : BJT specifications and performance"
     ]
    },
    {
     "cell_type": "heading",
     "level": 2,
     "metadata": {},
     "source": [
      "Example 8.2, Page No 313"
     ]
    },
    {
     "cell_type": "code",
     "collapsed": false,
     "input": [
      "import math\n",
      "#initialisation of variables\n",
      "P2=25.0*10**-3#when frequency increase to 20KHz\n",
      "P1=50.0*10**-3#when signal frequency is 5KHz\n",
      "\n",
      "#Calculations\n",
      "Po=10*math.log((P2/P1),10)\n",
      "\n",
      "#Results\n",
      "print(\" output power change in decibels is %.2f dB \" %Po)"
     ],
     "language": "python",
     "metadata": {},
     "outputs": [
      {
       "output_type": "stream",
       "stream": "stdout",
       "text": [
        " output power change in decibels is -3.01 dB \n"
       ]
      }
     ],
     "prompt_number": 1
    },
    {
     "cell_type": "heading",
     "level": 2,
     "metadata": {},
     "source": [
      "Example 8.3, Page No 314"
     ]
    },
    {
     "cell_type": "code",
     "collapsed": false,
     "input": [
      "import math\n",
      "\n",
      "#initialisation of variables\n",
      "v1=1# output voltage measured at 5KHz\n",
      "v2=.707# output voltage measure at 20kHz\n",
      "\n",
      "#Calculations\n",
      "Po=20*math.log((v2/v1),10)\n",
      "\n",
      "#Results\n",
      "print(\" output power change is %.2f dB \" %Po)"
     ],
     "language": "python",
     "metadata": {},
     "outputs": [
      {
       "output_type": "stream",
       "stream": "stdout",
       "text": [
        " output power change is -3.01 dB \n"
       ]
      }
     ],
     "prompt_number": 2
    },
    {
     "cell_type": "heading",
     "level": 2,
     "metadata": {},
     "source": [
      "Example 8.4 Page No 317"
     ]
    },
    {
     "cell_type": "code",
     "collapsed": false,
     "input": [
      "import math\n",
      "\n",
      "#initialisation of variables\n",
      "Ic=1.0*10**-3\n",
      "hfe=50.0\n",
      "hie=1.3*10**3\n",
      "fT=250.0*10**6\n",
      "Cbc=5.0*10**-12\n",
      "Rc=8.2*10**3\n",
      "Rl=100.0*10**3\n",
      "\n",
      "#Calculations\n",
      "Ie=Ic\n",
      "Av=(hfe*((Rc*Rl)/(Rc+Rl)))/hie\n",
      "Cbe=(6.1*Ie)/fT\n",
      "Cin=(Cbe+(1+Av)*Cbc)*10**9\n",
      "\n",
      "#Results\n",
      "print(\" input capacitance when the circuit operated as CE is %.2fnF \"%Cin)"
     ],
     "language": "python",
     "metadata": {},
     "outputs": [
      {
       "output_type": "stream",
       "stream": "stdout",
       "text": [
        " input capacitance when the circuit operated as CE is 1.49nF \n"
       ]
      }
     ],
     "prompt_number": 3
    },
    {
     "cell_type": "heading",
     "level": 2,
     "metadata": {},
     "source": [
      "Example 8.5, Page No 319"
     ]
    },
    {
     "cell_type": "code",
     "collapsed": false,
     "input": [
      "import math\n",
      "#initialisation of variables\n",
      "R1=100*10**3\n",
      "R2=47.0*10**3\n",
      "Re=4.7*10**3\n",
      "Cbc=5.0*10**-12\n",
      "Cbe=24.4*10**-12\n",
      "hfe=50\n",
      "hie=1.3*10**3\n",
      "hib=24.5\n",
      "rs=hib\n",
      "rs=600.0\n",
      "\n",
      "#Calculations\n",
      "print(\" common emitter circuit\")\n",
      "Rb=(R1*R2)/(R1+R2)\n",
      "Zi=(Rb*hie)/(Rb+hie)\n",
      "Cin=1.48*10**-9\n",
      "f2=1/(2*3.14*Cin*((rs*Zi)/(rs+Zi)))\n",
      "print(\"input-capacitance upper cutoff frequency is %dHz \" %f2)\n",
      "print(\"common base circuit\")\n",
      "Zi=(Re*hib)/(Re+hib)\n",
      "Cin=(Cbe+Cbc)\n",
      "f2=(1/(2*3.14*Cin*((rs*Zi)/(rs+Zi))))*10**-6\n",
      "\n",
      "#Results\n",
      "print(\" input capacitance upper cutoff when operating as CB circuit with base bypassed to ground is %.2f MHz \" %f2)"
     ],
     "language": "python",
     "metadata": {},
     "outputs": [
      {
       "output_type": "stream",
       "stream": "stdout",
       "text": [
        " common emitter circuit\n",
        "input-capacitance upper cutoff frequency is 265447Hz \n",
        "common base circuit\n",
        " input capacitance upper cutoff when operating as CB circuit with base bypassed to ground is 231.25 MHz \n"
       ]
      }
     ],
     "prompt_number": 4
    },
    {
     "cell_type": "heading",
     "level": 2,
     "metadata": {},
     "source": [
      "Example 8.6 Page No 322"
     ]
    },
    {
     "cell_type": "code",
     "collapsed": false,
     "input": [
      "import math\n",
      "#initialisation of variables\n",
      "fT=50.0*10**6\n",
      "hfe=50.0\n",
      "f2o=60.0*10**3\n",
      "Rc=10.0*10**3\n",
      "\n",
      "#Calculations\n",
      "fae=fT/hfe\n",
      "C4=(1.0/(2*3.14*f2o*Rc))*10**12\n",
      "\n",
      "#Results\n",
      "print(\"capacitance required for C4 to give 60kHz upper cutoff frequency is %.2f pF \" %C4)"
     ],
     "language": "python",
     "metadata": {},
     "outputs": [
      {
       "output_type": "stream",
       "stream": "stdout",
       "text": [
        "capacitance required for C4 to give 60kHz upper cutoff frequency is 265.39 pF \n"
       ]
      }
     ],
     "prompt_number": 5
    },
    {
     "cell_type": "heading",
     "level": 2,
     "metadata": {},
     "source": [
      "Example 8.8 Page No 326"
     ]
    },
    {
     "cell_type": "code",
     "collapsed": false,
     "input": [
      "import math\n",
      "\n",
      "#initialisation of variables\n",
      "ton=100.0*10**-9\n",
      "Rs=600.0\n",
      "Rb=4.7*10**3\n",
      "\n",
      "#Calculations\n",
      "C1=(ton/Rs)*10**12\n",
      "print(\" suitable speed up capacitor is %dpF \" %C1)\n",
      "C1=160*10**-12#standard value\n",
      "PWmin=(5*Rs*C1)\n",
      "SWmin=5*Rb*C1\n",
      "fmax=1/(PWmin+SWmin)\n",
      "\n",
      "#Results\n",
      "print(\"maximum signal frequency is %.2f Hz \" %(fmax/1000))"
     ],
     "language": "python",
     "metadata": {},
     "outputs": [
      {
       "output_type": "stream",
       "stream": "stdout",
       "text": [
        " suitable speed up capacitor is 166pF \n",
        "maximum signal frequency is 235.85 Hz \n"
       ]
      }
     ],
     "prompt_number": 6
    },
    {
     "cell_type": "heading",
     "level": 2,
     "metadata": {},
     "source": [
      "Example 8.9, Page No 330"
     ]
    },
    {
     "cell_type": "code",
     "collapsed": false,
     "input": [
      "import math\n",
      "#initialisation of variables\n",
      "R1=30.0*10**3\n",
      "R2=30.0*10**3\n",
      "rs=30.0*10**3\n",
      "f2=40.0*10**3\n",
      "f1=100.0\n",
      "k=1.37*10**-23\n",
      "R=10.0*10**3\n",
      "Av=600.0\n",
      "Ri=3.0*10**3\n",
      "\n",
      "#Calculations\n",
      "Rb=(R1*R2)/(R1+R2)\n",
      "Rg=(rs*Rb)/(rs+Rb)\n",
      "T=(273+25)\n",
      "B=f2-f1\n",
      "en=math.sqrt(4*k*T*B*R)\n",
      "eni=en*((Ri/(Ri+Rg)))\n",
      "eno=(Av*eni)*10**6\n",
      "\n",
      "#Results\n",
      "print(\"noise output voltage is %.2f uV \" %eno)"
     ],
     "language": "python",
     "metadata": {},
     "outputs": [
      {
       "output_type": "stream",
       "stream": "stdout",
       "text": [
        "noise output voltage is 353.44 uV \n"
       ]
      }
     ],
     "prompt_number": 7
    },
    {
     "cell_type": "heading",
     "level": 2,
     "metadata": {},
     "source": [
      "Example 8.10 Page No 331"
     ]
    },
    {
     "cell_type": "code",
     "collapsed": false,
     "input": [
      "import math \n",
      "\n",
      "#initialisation of variables\n",
      "Ic=30.0*10**-6\n",
      "Vce=5.0\n",
      "eno=354.0*10**-6\n",
      "NF=10.0\n",
      "F=2.51#F=antilog(NF/10)\n",
      "\n",
      "#Calculations\n",
      "Vn=((math.sqrt(F))*eno)*10**6\n",
      "\n",
      "#Results\n",
      "print(\"total noise output volateg for amplifier is %.2f uV \" %Vn)"
     ],
     "language": "python",
     "metadata": {},
     "outputs": [
      {
       "output_type": "stream",
       "stream": "stdout",
       "text": [
        "total noise output volateg for amplifier is 560.84 uV \n"
       ]
      }
     ],
     "prompt_number": 8
    },
    {
     "cell_type": "heading",
     "level": 2,
     "metadata": {},
     "source": [
      "Example 8.11 Page No 333"
     ]
    },
    {
     "cell_type": "code",
     "collapsed": false,
     "input": [
      "import math\n",
      "#initialisation of variables\n",
      "Pd25=625.0*10**-3\n",
      "D=5.0*10**-3\n",
      "Vce=10.0\n",
      "T2=55.0\n",
      "\n",
      "#Calculations\n",
      "Pdt2=Pd25-D*(T2-25)\n",
      "Pd=Pdt2\n",
      "Ic=Pd/Vce\n",
      "\n",
      "#Results\n",
      "print(\" maximum Ic level is %.2fA \" %(Ic*1000))\n"
     ],
     "language": "python",
     "metadata": {},
     "outputs": [
      {
       "output_type": "stream",
       "stream": "stdout",
       "text": [
        " maximum Ic level is 47.50A \n"
       ]
      }
     ],
     "prompt_number": 9
    },
    {
     "cell_type": "heading",
     "level": 2,
     "metadata": {},
     "source": [
      "Example 8.13 Page No 335"
     ]
    },
    {
     "cell_type": "code",
     "collapsed": false,
     "input": [
      "import math\n",
      "\n",
      "#initialisation of variables\n",
      "Pd=80.0\n",
      "Vce=60.0\n",
      "\n",
      "#Calculations\n",
      "Ic=Pd/Vce\n",
      "print(\"point 1 Vce=60 and Ic= %.2f A\" %Ic)\n",
      "Vce=40.0\n",
      "Ic=Pd/Vce\n",
      "print(\"point 2 Vce=40 and  Ic= %.2f A\" %Ic)\n",
      "Vce=20.0\n",
      "Ic=Pd/Vce\n",
      "print(\" point 3 Vce=20 and  Ic= %.2f A\" %Ic)\n",
      "Vce=10.0\n",
      "Ic=Pd/Vce\n",
      "\n",
      "#Results\n",
      "print(\" point 4 Vce=10 and  Ic= %.2f A\" %Ic)\n"
     ],
     "language": "python",
     "metadata": {},
     "outputs": [
      {
       "output_type": "stream",
       "stream": "stdout",
       "text": [
        "point 1 Vce=60 and Ic= 1.33 A\n",
        "point 2 Vce=40 and  Ic= 2.00 A\n",
        " point 3 Vce=20 and  Ic= 4.00 A\n",
        " point 4 Vce=10 and  Ic= 8.00 A\n"
       ]
      }
     ],
     "prompt_number": 10
    },
    {
     "cell_type": "heading",
     "level": 2,
     "metadata": {},
     "source": [
      "Example 8.14, Page No 339"
     ]
    },
    {
     "cell_type": "code",
     "collapsed": false,
     "input": [
      "import math\n",
      "\n",
      "#initialisation of variables\n",
      "Vce=20.0\n",
      "Ic=1.0\n",
      "T2=90.0\n",
      "T1=25.0\n",
      "\n",
      "#Calculations\n",
      "Q=Vce*Ic\n",
      "Qcs=.4\n",
      "Qjc=1#from table\n",
      "Qsa=((T2-T1)/Q)-(Qjc+Qcs)\n",
      "\n",
      "#Results\n",
      "print(\"Qsa= %.2f \" %Qsa)"
     ],
     "language": "python",
     "metadata": {},
     "outputs": [
      {
       "output_type": "stream",
       "stream": "stdout",
       "text": [
        "Qsa= 1.85 \n"
       ]
      }
     ],
     "prompt_number": 11
    }
   ],
   "metadata": {}
  }
 ]
}