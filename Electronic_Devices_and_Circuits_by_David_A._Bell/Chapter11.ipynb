{
 "metadata": {
  "name": ""
 },
 "nbformat": 3,
 "nbformat_minor": 0,
 "worksheets": [
  {
   "cells": [
    {
     "cell_type": "heading",
     "level": 1,
     "metadata": {},
     "source": [
      "Chapter 11 : Ac analysis of FEt circuits"
     ]
    },
    {
     "cell_type": "heading",
     "level": 2,
     "metadata": {},
     "source": [
      "Example 11.2, Page No 443"
     ]
    },
    {
     "cell_type": "code",
     "collapsed": false,
     "input": [
      "import math\n",
      "#initialisation of variables\n",
      "\n",
      "Yos=10.0*10**-6\n",
      "Yfs=3000.0*10**-6\n",
      "R1=1.0*10**6\n",
      "R2=5.6*10**6\n",
      "Rd=2.7*10**3\n",
      "Rl=Rd\n",
      "\n",
      "#Calculations\n",
      "rd=1.0/Yos\n",
      "Zi=((R1*R2)/(R1+R2))*10**-3\n",
      "print(\"input impedance is %dKohm \" %Zi)\n",
      "Zo=(Rd*rd)/(Rd+rd)\n",
      "print(\" output inpedance is %dohm \" %Zo)\n",
      "Av=-Yfs*((Rl*rd)/(Rl+rd))\n",
      "\n",
      "#Results\n",
      "print('The value of Av= %.2f ' %(Av))"
     ],
     "language": "python",
     "metadata": {},
     "outputs": [
      {
       "output_type": "stream",
       "stream": "stdout",
       "text": [
        "input impedance is 848Kohm \n",
        " output inpedance is 2629ohm \n",
        "The value of Av= -7.89 \n"
       ]
      }
     ],
     "prompt_number": 1
    },
    {
     "cell_type": "heading",
     "level": 2,
     "metadata": {},
     "source": [
      "Example 11.03, Page No 447"
     ]
    },
    {
     "cell_type": "code",
     "collapsed": false,
     "input": [
      "import math\n",
      "\n",
      "#initialisation of variables\n",
      "\n",
      "Yos=10.0*10**-6\n",
      "Yfs=4000.0*10**-6\n",
      "Ig=1.0*10**-9\n",
      "Vgs=15.0\n",
      "Rs=3.3*10**3\n",
      "Rg=1.0*10**6\n",
      "Rd=4.7*10**3\n",
      "Rl=33*10**3\n",
      "\n",
      "#Calculations\n",
      "rd=1.0/Yos\n",
      "Rgs=(Vgs/Ig)\n",
      "Zg=(Rgs*(1+Yfs*Rs))\n",
      "Zi=Rg\n",
      "Zd=rd+Rs+(Yfs*Rs*rd)\n",
      "Zo=(Rd*Zd)/(Rd+Zd)\n",
      "Av=-(Yfs*((Rd*Rl)/(Rd+Rl)))/(1+Yfs*Rs)\n",
      "Av=-((Rd*Rl)/(Rd+Rl))/Rs\n",
      "\n",
      "#Results\n",
      "print('The value of Av= %.2f ' %(Av))"
     ],
     "language": "python",
     "metadata": {},
     "outputs": [
      {
       "output_type": "stream",
       "stream": "stdout",
       "text": [
        "The value of Av= -1.25 \n"
       ]
      }
     ],
     "prompt_number": 2
    },
    {
     "cell_type": "heading",
     "level": 2,
     "metadata": {},
     "source": [
      "Example 11.4 Page No 451"
     ]
    },
    {
     "cell_type": "code",
     "collapsed": false,
     "input": [
      "import math\n",
      "\n",
      "#initialisation of variables\n",
      "\n",
      "Yfs=3000.0*10**-6\n",
      "Rgs=100.0*10**6\n",
      "rd=50.0*10**3\n",
      "Rs=5.6*10**3\n",
      "Rl=12.0*10**3\n",
      "R1=1.5*10**6\n",
      "R2=1.0*10**6\n",
      "\n",
      "#Calculations\n",
      "Zg=Rgs*(1+Yfs*((Rs*Rl)/(Rs+Rl)))\n",
      "Zi=(R1*R2)/(R1+R2)\n",
      "Zs=((1/Yfs)*rd)/((1/Yfs)+rd)\n",
      "Zo=(Rs*Rl*(1/Yfs))/(Rs*Rl+Rs*(1/Yfs)+Rl*(1/Yfs))\n",
      "Av=-(Yfs*((Rs*Rl)/(Rs+Rl)))/(1+Yfs*((Rs*Rl)/(Rs+Rl)))\n",
      "\n",
      "#Results\n",
      "print('The value of Av= %.2f ' %(Av))"
     ],
     "language": "python",
     "metadata": {},
     "outputs": [
      {
       "output_type": "stream",
       "stream": "stdout",
       "text": [
        "The value of Av= -0.92 \n"
       ]
      }
     ],
     "prompt_number": 3
    },
    {
     "cell_type": "heading",
     "level": 2,
     "metadata": {},
     "source": [
      "Example 11.5, Page No 456"
     ]
    },
    {
     "cell_type": "code",
     "collapsed": false,
     "input": [
      "import math\n",
      "#initialisation of variables\n",
      "\n",
      "Yfs=3000.0*10**-6\n",
      "rd=50.0*10**3\n",
      "Rs=3.3*10**3\n",
      "Rd=4.7*10**3\n",
      "Rl=50.0*10**3\n",
      "rs=600.0\n",
      "\n",
      "#Calculations\n",
      "Zs=1/Yfs\n",
      "Zi=((1/Yfs)*Rs)/((1/Yfs)+Rs)\n",
      "Zd=rd\n",
      "Zo=(Rd*rd)/(Rd+rd)\n",
      "Av=Yfs*((Rd*Rl)/(Rd+Rl))\n",
      "print(\"overall volateg gain\")\n",
      "Av=(Yfs*((Rd*Rl)/(Rd+Rl))*Zi)/(rs+Zi)\n",
      "\n",
      "#Results\n",
      "print('The value of Av= %.2f ' %(Av))"
     ],
     "language": "python",
     "metadata": {},
     "outputs": [
      {
       "output_type": "stream",
       "stream": "stdout",
       "text": [
        "overall volateg gain\n",
        "The value of Av= 4.32 \n"
       ]
      }
     ],
     "prompt_number": 4
    },
    {
     "cell_type": "heading",
     "level": 2,
     "metadata": {},
     "source": [
      "Example 11.6 Page No 459"
     ]
    },
    {
     "cell_type": "code",
     "collapsed": false,
     "input": [
      "import math\n",
      "#initialisation of variables\n",
      "Id=3.0*10**-3\n",
      "Vds=10.0\n",
      "Vdd=25.0\n",
      "Vgs=2.3\n",
      "\n",
      "#Calculations\n",
      "Rs=Vgs/Id\n",
      "Rd=((Vdd-Vds)/Id)-Rs\n",
      "\n",
      "#Results\n",
      "print('The value of Rd= %.2f ' %(Rd))"
     ],
     "language": "python",
     "metadata": {},
     "outputs": [
      {
       "output_type": "stream",
       "stream": "stdout",
       "text": [
        "The value of Rd= 4233.33 \n"
       ]
      }
     ],
     "prompt_number": 5
    },
    {
     "cell_type": "heading",
     "level": 2,
     "metadata": {},
     "source": [
      "Example 11.7 Page No 462"
     ]
    },
    {
     "cell_type": "code",
     "collapsed": false,
     "input": [
      "import math\n",
      "\n",
      "#initialisation of variables\n",
      "\n",
      "Crss=1.0*10**-12\n",
      "Ciss=5.0*10**-12\n",
      "Yfs=2500.0*10**-6\n",
      "Yos=75.0*10**-6\n",
      "Rd=5.6*10**3\n",
      "Rl=100.0*10**3\n",
      "R1=3.3*10**6\n",
      "R2=1.0*10**6\n",
      "rs=600.0\n",
      "\n",
      "#Calculations\n",
      "Cgd=Crss\n",
      "Cgs=Ciss-Crss\n",
      "Av=Yfs*(((1/Yos)*Rd*Rl))/((Rd*Rl+(1/Yos)*Rd+(1/Yos)*Rl))\n",
      "Cin=Cgs+(1+Av)*Cgd\n",
      "Zi=(R1*R2)/(R1+R2)\n",
      "f2=1/(2*3.14*Cin*((rs*Zi)/(rs+Zi)))\n",
      "\n",
      "#Results\n",
      "print('The input capicitance limited = %.2f ' %(f2/10**6))"
     ],
     "language": "python",
     "metadata": {},
     "outputs": [
      {
       "output_type": "stream",
       "stream": "stdout",
       "text": [
        "The input capicitance limited = 18.34 \n"
       ]
      }
     ],
     "prompt_number": 6
    }
   ],
   "metadata": {}
  }
 ]
}