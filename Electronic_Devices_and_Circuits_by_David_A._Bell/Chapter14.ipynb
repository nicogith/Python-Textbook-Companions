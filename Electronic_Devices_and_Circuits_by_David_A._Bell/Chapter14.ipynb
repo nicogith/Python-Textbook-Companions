{
 "metadata": {
  "name": ""
 },
 "nbformat": 3,
 "nbformat_minor": 0,
 "worksheets": [
  {
   "cells": [
    {
     "cell_type": "heading",
     "level": 1,
     "metadata": {},
     "source": [
      "Chapter 14 : Ic operational Amplifier and basic Op amp circuits"
     ]
    },
    {
     "cell_type": "heading",
     "level": 2,
     "metadata": {},
     "source": [
      "Example 14.1, Page No 597"
     ]
    },
    {
     "cell_type": "code",
     "collapsed": false,
     "input": [
      "import math\n",
      "#initialisation of variables\n",
      "Vbe=0.7\n",
      "Ib=500.0*10**-9\n",
      "\n",
      "#Calculations\n",
      "R1=Vbe/(10.0*Ib)\n",
      "R1=120.0*10**3#use standard value\n",
      "R2=R1\n",
      "I2=100.0*Ib\n",
      "Vr1=15.0\n",
      "Vr2=Vr1\n",
      "R1=Vr1/I2\n",
      "R1=270.0*10**3#use satndard value\n",
      "R2=R1\n",
      "R3=(R1*R2)/(R1+R2)\n",
      "\n",
      "#Results\n",
      "print('The value of R3= %.2f kohm ' %(R3/1000))"
     ],
     "language": "python",
     "metadata": {},
     "outputs": [
      {
       "output_type": "stream",
       "stream": "stdout",
       "text": [
        "The value of R3= 135.00 kohm \n"
       ]
      }
     ],
     "prompt_number": 1
    },
    {
     "cell_type": "heading",
     "level": 2,
     "metadata": {},
     "source": [
      "Example 14.2, Page No 599"
     ]
    },
    {
     "cell_type": "code",
     "collapsed": false,
     "input": [
      "import math\n",
      "\n",
      "#initialisation of variables\n",
      "\n",
      "R2=1.0*10**6\n",
      "Vb=3.0\n",
      "Vo=3.0\n",
      "Vee=9.0\n",
      "\n",
      "#Calculations\n",
      "Vr2=Vb-(-Vee)\n",
      "Vr1=Vee-Vb\n",
      "I2=Vr2/R2\n",
      "R1=Vr1/I2\n",
      "R3=0\n",
      "\n",
      "#Results\n",
      "print('The value of R1= %.2f kohm ' %(R1/1000))"
     ],
     "language": "python",
     "metadata": {},
     "outputs": [
      {
       "output_type": "stream",
       "stream": "stdout",
       "text": [
        "The value of R1= 500.00 kohm \n"
       ]
      }
     ],
     "prompt_number": 2
    },
    {
     "cell_type": "heading",
     "level": 2,
     "metadata": {},
     "source": [
      "Example 14.3 Page No 601"
     ]
    },
    {
     "cell_type": "code",
     "collapsed": false,
     "input": [
      "import math\n",
      "\n",
      "#initialisation of variables\n",
      "\n",
      "Av=200000.0\n",
      "ri=2.0*10**6\n",
      "ro=75.0\n",
      "Vo=1.0\n",
      "B=1.0\n",
      "\n",
      "#Calculations\n",
      "Vd=Vo/Av\n",
      "Zi=(1+Av*B)*ri\n",
      "Zo=ro/(1+Av*B)\n",
      "\n",
      "#Results\n",
      "print('The value of Zo= %.2f X 10^-3 kohm ' %(Zo*10**3))"
     ],
     "language": "python",
     "metadata": {},
     "outputs": [
      {
       "output_type": "stream",
       "stream": "stdout",
       "text": [
        "The value of Zo= 0.37 X 10^-3 kohm \n"
       ]
      }
     ],
     "prompt_number": 3
    },
    {
     "cell_type": "heading",
     "level": 2,
     "metadata": {},
     "source": [
      "Example 14.4, Page No 603"
     ]
    },
    {
     "cell_type": "code",
     "collapsed": false,
     "input": [
      "import math\n",
      "#initialisation of variables\n",
      "\n",
      "f=70.0\n",
      "Rl=4.0*10**3\n",
      "Ib=500.0*10**-9\n",
      "Vbe=0.7\n",
      "\n",
      "#Calculations\n",
      "R1=Vbe/(10*Ib)\n",
      "R1=120*10**3#use standard value\n",
      "R2=R1\n",
      "print(\" desire value of capacitor is C=1/2*3.14*f*R\")\n",
      "C2=1/(2*3.14*f*Rl)\n",
      "C1=1/(2*3.14*f*(R1/10))\n",
      "\n",
      "#Results\n",
      "print('The value of C1= %.2f mF ' %(C1*10**6))"
     ],
     "language": "python",
     "metadata": {},
     "outputs": [
      {
       "output_type": "stream",
       "stream": "stdout",
       "text": [
        " desire value of capacitor is C=1/2*3.14*f*R\n",
        "The value of C1= 0.19 mF \n"
       ]
      }
     ],
     "prompt_number": 4
    },
    {
     "cell_type": "heading",
     "level": 2,
     "metadata": {},
     "source": [
      "Example 14.5 Page No 605"
     ]
    },
    {
     "cell_type": "code",
     "collapsed": false,
     "input": [
      "import math\n",
      "#initialisation of variables\n",
      "\n",
      "Ib=500.0*10**-9\n",
      "Vi=50.0*10**-3\n",
      "Vo=2.0\n",
      "\n",
      "#Calculations\n",
      "I2=100.0*Ib\n",
      "R3=Vi/I2\n",
      "R2=(Vo/I2)-R3\n",
      "R1=(R2*R3)/(R2+R3)\n",
      "\n",
      "#Results\n",
      "print('The value of R1= %.2f kohm ' %(R1/1000))"
     ],
     "language": "python",
     "metadata": {},
     "outputs": [
      {
       "output_type": "stream",
       "stream": "stdout",
       "text": [
        "The value of R1= 0.97 kohm \n"
       ]
      }
     ],
     "prompt_number": 5
    },
    {
     "cell_type": "heading",
     "level": 2,
     "metadata": {},
     "source": [
      "Example 14.6 Page No 606"
     ]
    },
    {
     "cell_type": "code",
     "collapsed": false,
     "input": [
      "import math\n",
      "\n",
      "#initialisation of variables\n",
      "\n",
      "Av=200000.0\n",
      "ri=2.0*10**6\n",
      "ro=75.0\n",
      "R3=1.0*10**3\n",
      "R2=39*10**3\n",
      "\n",
      "#Calculations\n",
      "B=R3/(R2+R3)\n",
      "Zi=(1+Av*B)*ri\n",
      "\n",
      "#Results\n",
      "print(\" typical input impedance for non-inverting amplifier is %.2f ohm \" %Zi)\n",
      "Zo=ro/(1+Av*B)\n",
      "print('The value of Zo= %.2f kohm ' %(Zo*10))"
     ],
     "language": "python",
     "metadata": {},
     "outputs": [
      {
       "output_type": "stream",
       "stream": "stdout",
       "text": [
        " typical input impedance for non-inverting amplifier is 10002000000.00 ohm \n",
        "The value of Zo= 0.15 kohm \n"
       ]
      }
     ],
     "prompt_number": 6
    },
    {
     "cell_type": "heading",
     "level": 2,
     "metadata": {},
     "source": [
      "Example 14.7, Page No 607"
     ]
    },
    {
     "cell_type": "code",
     "collapsed": false,
     "input": [
      "import math\n",
      "#initialisation of variables\n",
      "\n",
      "R2=50.0*10**3\n",
      "R3=2.2*10**3\n",
      "C2=8.2*10**-6\n",
      "Rl=600.0\n",
      "\n",
      "#Calculations\n",
      "print(\"voltage gain \")\n",
      "Acl=(R3+R2)/R3\n",
      "\n",
      "#Results\n",
      "print(\"lower cuttoff frequency \")\n",
      "f=1/(2*3.14*C2*Rl)\n",
      "print('The value of f= %.2f kohm ' %(f))"
     ],
     "language": "python",
     "metadata": {},
     "outputs": [
      {
       "output_type": "stream",
       "stream": "stdout",
       "text": [
        "voltage gain \n",
        "lower cuttoff frequency \n",
        "The value of f= 32.36 kohm \n"
       ]
      }
     ],
     "prompt_number": 7
    },
    {
     "cell_type": "heading",
     "level": 2,
     "metadata": {},
     "source": [
      "Example 14.8 Page No 610"
     ]
    },
    {
     "cell_type": "code",
     "collapsed": false,
     "input": [
      "import math \n",
      "\n",
      "#initialisation of variables\n",
      "\n",
      "Acl=144.0\n",
      "Vi=20.0*10**-3\n",
      "Ib=500.0*10**-9\n",
      "\n",
      "#Calculations\n",
      "I1=100.0*Ib\n",
      "R1=Vi/I1\n",
      "R1=390.0   #use standard value\n",
      "R2=Acl*R1\n",
      "R3=(R1*R2)/(R1+R2)\n",
      "\n",
      "#Results\n",
      "print('The value of R3= %.2f kohm ' %(R3))"
     ],
     "language": "python",
     "metadata": {},
     "outputs": [
      {
       "output_type": "stream",
       "stream": "stdout",
       "text": [
        "The value of R3= 387.31 kohm \n"
       ]
      }
     ],
     "prompt_number": 8
    },
    {
     "cell_type": "heading",
     "level": 2,
     "metadata": {},
     "source": [
      "Example 14.9 Page No 612"
     ]
    },
    {
     "cell_type": "code",
     "collapsed": false,
     "input": [
      "import math\n",
      "#initialisation of variables\n",
      "Acl=3.0\n",
      "R4=1.0*10**6\n",
      "Vi=1.0\n",
      "\n",
      "#Calculations\n",
      "R1=R4/Acl\n",
      "R1=330.0*10**3#use standard value \n",
      "R2=R1\n",
      "R3=R1\n",
      "I1=Vi/R1\n",
      "I2=I1\n",
      "I3=I1\n",
      "I4=I1+I2+I3\n",
      "Vo=-I4*R4\n",
      "\n",
      "#Results\n",
      "print('The value of Vo= %.2f v ' %(Vo))"
     ],
     "language": "python",
     "metadata": {},
     "outputs": [
      {
       "output_type": "stream",
       "stream": "stdout",
       "text": [
        "The value of Vo= -9.09 v \n"
       ]
      }
     ],
     "prompt_number": 9
    },
    {
     "cell_type": "heading",
     "level": 2,
     "metadata": {},
     "source": [
      "Example 14.10 Page No 615"
     ]
    },
    {
     "cell_type": "code",
     "collapsed": false,
     "input": [
      "import math\n",
      "\n",
      "#initialisation of variables\n",
      "\n",
      "Ib=500.0*10**-9\n",
      "Vi=1.0\n",
      "Acl=10.0\n",
      "\n",
      "#Calculations\n",
      "I1=100*Ib\n",
      "R1=Vi/I1\n",
      "R1=18*10**3#use standard value\n",
      "R2=Acl*R1\n",
      "R4=R1\n",
      "R3=R1/Acl\n",
      "\n",
      "#Results\n",
      "print('The value of R3= %.2f kohm ' %(R3/1000))"
     ],
     "language": "python",
     "metadata": {},
     "outputs": [
      {
       "output_type": "stream",
       "stream": "stdout",
       "text": [
        "The value of R3= 1.80 kohm \n"
       ]
      }
     ],
     "prompt_number": 10
    },
    {
     "cell_type": "heading",
     "level": 2,
     "metadata": {},
     "source": [
      "Example 14.11, Page No 619"
     ]
    },
    {
     "cell_type": "code",
     "collapsed": false,
     "input": [
      "import math\n",
      "\n",
      "#initialisation of variables\n",
      "\n",
      "Vi=10*10**-3\n",
      "Vn=1.0\n",
      "R1=33.0*10**3\n",
      "R2=300.0\n",
      "R5=15.0*10**3\n",
      "R4=15.0*10**3\n",
      "Vi2=-10.0*10**-3\n",
      "R3=R1\n",
      "R6=15.0*10**3\n",
      "\n",
      "#Calculations\n",
      "R7=R6\n",
      "Acl=((2*R1+R2)/R2)*(R5/R4)\n",
      "print(\"at junction of R1 and R2\")\n",
      "Vb=Vi+Vn\n",
      "print(\"at junction of R2 and R3\")\n",
      "Vc=Vi2+Vn\n",
      "print(\" current through R2\")\n",
      "I2=(Vb-Vc)/R2\n",
      "print(\"at the output of A1\")\n",
      "Va=Vb+(I2*R1)\n",
      "print(\"at output of A2\")\n",
      "Vd=Vc-(I2*R3)\n",
      "print(\"at junction of R6 and R7\")\n",
      "Vf=Vd*(R7/(R6+R7))\n",
      "print(\"at junction of R4 and R5\")\n",
      "Ve=Vf\n",
      "print(\"current through R4\")\n",
      "I4=(Va-Ve)/R4\n",
      "\n",
      "#Results\n",
      "print(\"at output of A3\")\n",
      "Vg=Ve-(I4*R5)\n",
      "print('The value of Vg= %.2f kohm ' %(Vg))"
     ],
     "language": "python",
     "metadata": {},
     "outputs": [
      {
       "output_type": "stream",
       "stream": "stdout",
       "text": [
        "at junction of R1 and R2\n",
        "at junction of R2 and R3\n",
        " current through R2\n",
        "at the output of A1\n",
        "at output of A2\n",
        "at junction of R6 and R7\n",
        "at junction of R4 and R5\n",
        "current through R4\n",
        "at output of A3\n",
        "The value of Vg= -4.42 kohm \n"
       ]
      }
     ],
     "prompt_number": 11
    },
    {
     "cell_type": "heading",
     "level": 2,
     "metadata": {},
     "source": [
      "Example 14.12, Page No 623"
     ]
    },
    {
     "cell_type": "code",
     "collapsed": false,
     "input": [
      "import math\n",
      "#initialisation of variables\n",
      "\n",
      "Vcc=15.0\n",
      "Vee=-15.0\n",
      "Av=200000.0\n",
      "SR=0.5/10**-6\n",
      "Vo=14.0\n",
      "\n",
      "#Calculations\n",
      "V=(Vcc-1)-(Vee+1)\n",
      "Vi=Vo/Av\n",
      "print(\"rise time of output is \")\n",
      "t=(V/SR)*10**6\n",
      "\n",
      "#Results\n",
      "print(\"rise time of output is %d ms \" %t)"
     ],
     "language": "python",
     "metadata": {},
     "outputs": [
      {
       "output_type": "stream",
       "stream": "stdout",
       "text": [
        "rise time of output is \n",
        "rise time of output is 56 ms \n"
       ]
      }
     ],
     "prompt_number": 12
    },
    {
     "cell_type": "heading",
     "level": 2,
     "metadata": {},
     "source": [
      "Example 14.13, Page No 627"
     ]
    },
    {
     "cell_type": "code",
     "collapsed": false,
     "input": [
      "#initialisation of variables\n",
      "Ib=500.0*10**-9\n",
      "UTP=5.0\n",
      "Vcc=15.0\n",
      "\n",
      "#Calculations\n",
      "I1=100.0*Ib\n",
      "R2=UTP/I1\n",
      "R1=((Vcc-1)-5)/I1\n",
      "\n",
      "#Results\n",
      "print('The value of R1= %.2f kohm ' %(R1/1000))"
     ],
     "language": "python",
     "metadata": {},
     "outputs": [
      {
       "output_type": "stream",
       "stream": "stdout",
       "text": [
        "The value of R1= 180.00 kohm \n"
       ]
      }
     ],
     "prompt_number": 13
    },
    {
     "cell_type": "heading",
     "level": 2,
     "metadata": {},
     "source": [
      "Example 14.14, Page No 630"
     ]
    },
    {
     "cell_type": "code",
     "collapsed": false,
     "input": [
      "import math\n",
      "#initialisation of variables\n",
      "\n",
      "Vcc=15.0\n",
      "Vsat=Vcc\n",
      "R2=150.0*10**3\n",
      "Vf=0.7\n",
      "R1=27.0*10**3\n",
      "R3=120.0*10**3\n",
      "\n",
      "#Calculations\n",
      "I2=(Vsat-Vf)/R2\n",
      "UTP=I2*R1\n",
      "\n",
      "#Results\n",
      "print(\" LTP calculation including Vf\")\n",
      "I3=(Vsat-Vf)/R3\n",
      "LTP=-I3*R1\n",
      "print('The value of LTP= %.2f kohm ' %(LTP))"
     ],
     "language": "python",
     "metadata": {},
     "outputs": [
      {
       "output_type": "stream",
       "stream": "stdout",
       "text": [
        " LTP calculation including Vf\n",
        "The value of LTP= -3.22 kohm \n"
       ]
      }
     ],
     "prompt_number": 14
    }
   ],
   "metadata": {}
  }
 ]
}