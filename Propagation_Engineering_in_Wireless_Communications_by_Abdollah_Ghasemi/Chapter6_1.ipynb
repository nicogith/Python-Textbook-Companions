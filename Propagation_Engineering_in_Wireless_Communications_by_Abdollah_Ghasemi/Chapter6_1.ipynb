{
 "metadata": {
  "name": "",
  "signature": "sha256:8f3ee9f7b4691e445d9dade84d186c7759365eaecbb8fa9528ad0dda0d38c771"
 },
 "nbformat": 3,
 "nbformat_minor": 0,
 "worksheets": [
  {
   "cells": [
    {
     "cell_type": "heading",
     "level": 1,
     "metadata": {},
     "source": [
      "Chapter 6: Terrestrial Mobile Radio Propagation"
     ]
    },
    {
     "cell_type": "heading",
     "level": 2,
     "metadata": {},
     "source": [
      "Example 6.1, page 186"
     ]
    },
    {
     "cell_type": "code",
     "collapsed": false,
     "input": [
      "import math\n",
      "\n",
      "#Initialisation\n",
      "c=3*10**8                                   #speed of light\n",
      "f=400*10**6                                 #frequency in Hz\n",
      "l1=15*10**3                                 #distance in m\n",
      "l2=15*10**3                                #distance in m\n",
      "l=30*10**3                                 #distance in m\n",
      "k=1.33                                     #k factor\n",
      "d1=15                                      #distance in Km\n",
      "d2=15                                      #distance in Km\n",
      "re=6370                                    #distance in Km\n",
      "\n",
      "#Calculation\n",
      "h=c*f**-1                                  #wavelength in m\n",
      "r1=math.sqrt(l1*l2*h/l)                    #Fresnel radius\n",
      "ho=(500*d1*d2)/(k*re)                      #Earth bulge\n",
      "\n",
      "#Results\n",
      "print'(1) Fresnel radius, r1 = %d m'%r1\n",
      "print'(2) h0 = %.2f m'%ho"
     ],
     "language": "python",
     "metadata": {},
     "outputs": [
      {
       "output_type": "stream",
       "stream": "stdout",
       "text": [
        "(1) Fresnel radius, r1 = 75 m\n",
        "(2) h0 = 13.28 m\n"
       ]
      }
     ],
     "prompt_number": 11
    },
    {
     "cell_type": "heading",
     "level": 2,
     "metadata": {},
     "source": [
      "Example 6.2, page 223"
     ]
    },
    {
     "cell_type": "code",
     "collapsed": false,
     "input": [
      "import math\n",
      "\n",
      "#Initialisation\n",
      "f=400                                       #frequency in MHz\n",
      "k=1.33                                       #k factor\n",
      "er=3                                         #dielectric conductivity\n",
      "sg=10**-4                                    #Earth effective conductivity\n",
      "eo=8.85*10**-12                              #permittivity of free space\n",
      "re1=8500                                     #Effective Earth radius in Km\n",
      "c=3*10**8                                    #speed of light\n",
      "B=1\n",
      "d=50\n",
      "\n",
      "\n",
      "#Calculation\n",
      "kh=1.6*10**-3                               #horizontal polarization using Fig. 6.2\n",
      "kv=5*10**-3                                 #vertical polarization using Fig. 6.2\n",
      "X=2.2*B*f**(1*3**-1)*re1**(-2*3**-1)*d      #normalized length of the path\n",
      "FX=11+10*math.log10(X)-17.6*X               #distance attenuation value\n",
      "\n",
      "#Results\n",
      "print'(1) Kh = %.1f x 10**-3'%(kh*10**3)\n",
      "print'    Kv = %.1f x 10**-3'%(kv*10**3)\n",
      "print'(2) F(X) = %.2f dB'%FX\n",
      "\n",
      "\n"
     ],
     "language": "python",
     "metadata": {},
     "outputs": [
      {
       "output_type": "stream",
       "stream": "stdout",
       "text": [
        "(1) Kh = 1.6 x 10**-3\n",
        "    Kv = 5.0 x 10**-3\n",
        "(2) F(X) = -20.36 dB\n"
       ]
      }
     ],
     "prompt_number": 103
    },
    {
     "cell_type": "heading",
     "level": 2,
     "metadata": {},
     "source": [
      "Example 6.3, page 228"
     ]
    },
    {
     "cell_type": "code",
     "collapsed": false,
     "input": [
      "import math\n",
      "\n",
      "#Initialisation\n",
      "f=300*10**6                              #frequency in Hz\n",
      "l1=4*10**3                               #distance in m\n",
      "l2=6*10**3                               #distance in m\n",
      "h1=20                                    #height in m\n",
      "c=3*10**8                                #speed of light\n",
      "d1=4                                     #distance in km\n",
      "d2=6                                     #distance in km\n",
      "R=10                                     #radius in km\n",
      "m=0.13\n",
      "n=1.99\n",
      "\n",
      "\n",
      "#Calculation\n",
      "h=c*f**-1                                 #wavelength\n",
      "l=l1+l2\n",
      "r1=math.sqrt(l1*l2*h/l)\n",
      "rat=h1/r1                                 #ratio\n",
      "a=math.sqrt((2*(d1+d2))/(h*d1*d2))\n",
      "v=0.0316*h1*a\n",
      "jv=6.9+20*math.log10(1.585)              #knife-edge obstacle loss\n",
      "k=8.2+12*n\n",
      "Tmn=k*m\n",
      "A=jv+Tmn                                 #rounded obstacle loss\n",
      "\n",
      "#Results\n",
      "print'(1) Ratio = %f'%rat\n",
      "print'(2) Loss J(v) = %.1f dB'%jv\n",
      "print'(3) Loss A = %.2f dB'%A"
     ],
     "language": "python",
     "metadata": {},
     "outputs": [
      {
       "output_type": "stream",
       "stream": "stdout",
       "text": [
        "(1) Ratio = 0.408248\n",
        "(2) Loss J(v) = 10.9 dB\n",
        "(3) Loss A = 15.07 dB\n"
       ]
      }
     ],
     "prompt_number": 17
    },
    {
     "cell_type": "heading",
     "level": 2,
     "metadata": {},
     "source": [
      "Example 6.4, page 233"
     ]
    },
    {
     "cell_type": "code",
     "collapsed": false,
     "input": [
      "import math\n",
      "\n",
      "#Initialisation\n",
      "f=150*10**6                             #frequency in Hz\n",
      "c1=3*10**8                              #speed of light\n",
      "h11=60                                  #in metre\n",
      "d11=2000                                  #in metre\n",
      "d1=259.6                                  #in metre\n",
      "b=2000                                  #in metre\n",
      "a=250                                  #in metre\n",
      "h21=80                                  #in metre\n",
      "d21=7259                                  #in metre\n",
      "c=7250                                  #in metre\n",
      "\n",
      "#Calculation\n",
      "h=c1*f**-1                                                #wavelength\n",
      "v1=h11*math.sqrt((2*(h*d1)**-1)+(1*d11**-1))\n",
      "L1=6.9+20*math.log10(math.sqrt((v1-0.1)**2+1)+v1-0.1)     #path diffraction loss\n",
      "v2=h21*math.sqrt((2*(h*d11)**-1)+(1*d21**-1))\n",
      "L2=6.9+20*math.log10(math.sqrt((v2-0.1)**2+1)+v2-0.1)     #path diffraction loss\n",
      "\n",
      "#Results\n",
      "print'Diffraction loss L1 = %.2f dB'%L1\n",
      "print'                 L2 = %.2f dB'%L2\n",
      "\n"
     ],
     "language": "python",
     "metadata": {},
     "outputs": [
      {
       "output_type": "stream",
       "stream": "stdout",
       "text": [
        "Diffraction loss L1 = 24.79 dB\n",
        "                 L2 = 19.12 dB\n"
       ]
      }
     ],
     "prompt_number": 115
    },
    {
     "cell_type": "heading",
     "level": 2,
     "metadata": {},
     "source": [
      "Example 6.5, page 239"
     ]
    },
    {
     "cell_type": "code",
     "collapsed": false,
     "input": [
      "import math\n",
      "\n",
      "#Initialisation\n",
      "f=450*10**6                                 #frequency in Hz\n",
      "q1=1.282                                    #cumulative distribution value\n",
      "q2=1.645                                    #cumulative distribution value\n",
      "\n",
      "#Calculation\n",
      "sg=3.8+1.6*math.log10(450)                  #standard deviation\n",
      "fm1=q1*sg                                   #fade margin\n",
      "fm2=q2*sg                                  #fade margin\n",
      "fm=fm2-fm1                                 #gain\n",
      "#Results\n",
      "print'Antenna gain = %.2f dB'%fm"
     ],
     "language": "python",
     "metadata": {},
     "outputs": [
      {
       "output_type": "stream",
       "stream": "stdout",
       "text": [
        "Antenna gain = 2.92 dB\n"
       ]
      }
     ],
     "prompt_number": 19
    },
    {
     "cell_type": "heading",
     "level": 2,
     "metadata": {},
     "source": [
      "Example 6.6, page 240"
     ]
    },
    {
     "cell_type": "code",
     "collapsed": false,
     "input": [
      "import math\n",
      "\n",
      "#Initialisation\n",
      "q90=1.282                              #cumulative distribution value of 90%\n",
      "sl=8                                   #standard deviation\n",
      "q97=1.881                              #cumulative distribution value of 97%\n",
      "pt=5                                   #transmitter power\n",
      "\n",
      "#Calculation\n",
      "fm=q90*sl                             #fade margin\n",
      "fm1=q97*sl                             #fade margin\n",
      "p=fm1-fm                               #power in dB\n",
      "p1=pt*10**(p/10)                       #power in watt\n",
      "\n",
      "#Results\n",
      "print'(1) Fade margin for received signal = %.3f dB'%fm\n",
      "print'(2) New transmitter power = %d W'%p1"
     ],
     "language": "python",
     "metadata": {},
     "outputs": [
      {
       "output_type": "stream",
       "stream": "stdout",
       "text": [
        "(1) Fade margin for received signal = 10.256 dB\n",
        "(2) New transmitter power = 15 W\n"
       ]
      }
     ],
     "prompt_number": 24
    },
    {
     "cell_type": "heading",
     "level": 2,
     "metadata": {},
     "source": [
      "Example 6.7, page 241"
     ]
    },
    {
     "cell_type": "code",
     "collapsed": false,
     "input": [
      "import math\n",
      "\n",
      "#Initialisation\n",
      "d= 50*10**3                                       #distance in m\n",
      "\n",
      "#Calculation\n",
      "sl1=5.3                                           #location standard deviation\n",
      "st1=3                                             #time standard deviation\n",
      "sl2=6.2                                           #location standard deviation\n",
      "st2=2                                             #time standard deviation\n",
      "sv=math.sqrt(sl1**2+st1**2)                      #total standard deviation of VHF\n",
      "su=math.sqrt(sl2**2+st2**2)                      #total standard deviation of UHF\n",
      "\n",
      "\n",
      "#Results\n",
      "print'(1)for VHF, sigmaL = %.1f dB '%sl1\n",
      "print'            sigmaT = %.1f dB '%st1\n",
      "print'   for UHF, sigmaL = %.1f dB '%sl2\n",
      "print'            sigmaT = %.1f dB '%st2\n",
      "print'(3) Standard deviation values, sigmaVHF = %.1f dB'%sv\n",
      "print'                               sigmaUHF = %.1f dB'%su"
     ],
     "language": "python",
     "metadata": {},
     "outputs": [
      {
       "output_type": "stream",
       "stream": "stdout",
       "text": [
        "(1)for VHF, sigmaL = 5.3 dB \n",
        "            sigmaT = 3.0 dB \n",
        "   for UHF, sigmaL = 6.2 dB \n",
        "            sigmaT = 2.0 dB \n",
        "(3) Standard deviation values, sigmaVHF = 6.1 dB\n",
        "                               sigmaUHF = 6.5 dB\n"
       ]
      }
     ],
     "prompt_number": 25
    },
    {
     "cell_type": "heading",
     "level": 2,
     "metadata": {},
     "source": [
      "Example 6.9, page 245"
     ]
    },
    {
     "cell_type": "code",
     "collapsed": false,
     "input": [
      "import math\n",
      "\n",
      "#Initialisation\n",
      "d=5                                       #in dB\n",
      "h=20                                      #Transmitter initial height\n",
      "\n",
      "#Calculation\n",
      "ht=h*10**(0.25)                           #Transmitter ultimate antenna height\n",
      "\n",
      "#Results\n",
      "print'(1) Antenna Height = %.2f m'%round(ht)"
     ],
     "language": "python",
     "metadata": {},
     "outputs": [
      {
       "output_type": "stream",
       "stream": "stdout",
       "text": [
        "(1) Antenna Height = 36.00 m\n"
       ]
      }
     ],
     "prompt_number": 27
    },
    {
     "cell_type": "heading",
     "level": 2,
     "metadata": {},
     "source": [
      "Example 6.10, page 246"
     ]
    },
    {
     "cell_type": "code",
     "collapsed": false,
     "input": [
      "import math\n",
      "\n",
      "#Initialisation\n",
      "f=1800*10**6                                 #frequency in Hz\n",
      "c=3*10**8                                    #speed of light\n",
      "\n",
      "#Calculation\n",
      "h=c*f**-1                                  #wavelength\n",
      "hv=20*h                                    #in metre\n",
      "dh=10*h                                    #in metre\n",
      "\n",
      "#Results\n",
      "print'hv = %.2f m '%hv\n",
      "print'dh = %.2f m '%dh"
     ],
     "language": "python",
     "metadata": {},
     "outputs": [
      {
       "output_type": "stream",
       "stream": "stdout",
       "text": [
        "hv = 3.33 m \n",
        "dh = 1.67 m \n"
       ]
      }
     ],
     "prompt_number": 28
    },
    {
     "cell_type": "heading",
     "level": 2,
     "metadata": {},
     "source": [
      "Example 6.11, page 262"
     ]
    },
    {
     "cell_type": "code",
     "collapsed": false,
     "input": [
      "import math\n",
      "\n",
      "#Initialisation\n",
      "p1=20                                    #transmitter power\n",
      "g=6                                       #gain\n",
      "h1=20                                    #height in metre\n",
      "\n",
      "#Calculation\n",
      "ct=p1/10                                  #Power gain\n",
      "ch=(h1*30**-1)**2                         #height gain\n",
      "cg=g*4**-1                                #antenna gain\n",
      "co=10*math.log10(ct*ch*cg)                #Total effects\n",
      "\n",
      "#Results\n",
      "print'(1) Power gain, Ct = %.f'%ct\n",
      "print'    Height gain = %.2f'%ch\n",
      "print'    Antenna gain = %.1f'%cg\n",
      "print'(2) Total effects = %.2f dB'%co"
     ],
     "language": "python",
     "metadata": {},
     "outputs": [
      {
       "output_type": "stream",
       "stream": "stdout",
       "text": [
        "(1) Power gain, Ct = 2\n",
        "    Height gain = 0.44\n",
        "    Antenna gain = 1.5\n",
        "(2) Total effects = 1.25 dB\n"
       ]
      }
     ],
     "prompt_number": 44
    },
    {
     "cell_type": "heading",
     "level": 2,
     "metadata": {},
     "source": [
      "Example 6.12, page 262"
     ]
    },
    {
     "cell_type": "code",
     "collapsed": false,
     "input": [
      "import math\n",
      "\n",
      "#Initialisation\n",
      "g1=10                                    #transmitter gain\n",
      "ct=15                                    #power in watt\n",
      " \n",
      "\n",
      "#Calculation\n",
      "g2=g1-2.2                                #gain in dBd\n",
      "cg=g2-6                                  #Antenna gain\n",
      "ct1=ct*10**-1\n",
      "ct2=10*math.log10(ct1)                   #Power gain\n",
      "ch=(ct*30**-1)**2          \n",
      "ch1=10*math.log10(ch)                     #Height gain\n",
      "ct3=ct1*0.5\n",
      "ct4=10*math.log10(ct3)\n",
      "co=ct4+cg+ch1                              #Total effects\n",
      "\n",
      "#Results\n",
      "print'(1) Power gain, Ct = %.2f'%ct2\n",
      "print'    Height gain = %.2f'%ch1\n",
      "print'    Antenna gain = %.1f'%cg\n",
      "print'(2) Total effects = %.2f dB'%co\n"
     ],
     "language": "python",
     "metadata": {},
     "outputs": [
      {
       "output_type": "stream",
       "stream": "stdout",
       "text": [
        "(1) Power gain, Ct = 1.76\n",
        "    Height gain = -6.02\n",
        "    Antenna gain = 1.8\n",
        "(2) Total effects = -5.47 dB\n"
       ]
      }
     ],
     "prompt_number": 52
    },
    {
     "cell_type": "heading",
     "level": 2,
     "metadata": {},
     "source": [
      "Example 6.13, page 265"
     ]
    },
    {
     "cell_type": "code",
     "collapsed": false,
     "input": [
      "import math\n",
      "\n",
      "#Initialisation\n",
      "sr=-106                                         #Receiver sensitivity\n",
      "f=8                                             #Fade margin\n",
      "cl=6                                            #Coupler loss\n",
      "dl=1                                            #Duplexer Loss\n",
      "bf=6.5                                          #BTS feeder loss\n",
      "ba=12                                           #BTS antenna gain\n",
      "pl=138                                          #Path loss\n",
      "pg=15                                          #Pathlength in km\n",
      "ta=2                                           #Terminal antenna gain\n",
      "tf=0.5                                          #Terminal feeder loss\n",
      "\n",
      "#Calculation\n",
      "prm=sr+f                                         #minimum received power\n",
      "ptb=prm+cl+dl+bf-ba+pl-ta+tf                    #BTS transmitter power in dbBm\n",
      "pw=10**((ptb-30)/10)\n",
      "\n",
      "#Results\n",
      "print'BTS transmitter power = %.2f dBm'%ptb\n",
      "print'                      = %d W'%pw\n"
     ],
     "language": "python",
     "metadata": {},
     "outputs": [
      {
       "output_type": "stream",
       "stream": "stdout",
       "text": [
        "BTS transmitter power = 40.00 dBm\n",
        "                      = 10 W\n"
       ]
      }
     ],
     "prompt_number": 59
    },
    {
     "cell_type": "heading",
     "level": 2,
     "metadata": {},
     "source": [
      "Example 6.14, page 265"
     ]
    },
    {
     "cell_type": "code",
     "collapsed": false,
     "input": [
      "import math\n",
      "\n",
      "#Initialisation\n",
      "pm=2                                    #transmitter power\n",
      "ld=1                                    #Duplexer losses\n",
      "lp=138                                  #Path loss\n",
      "lfm=0.5                                 #terminal feeder losses\n",
      "lfb=6.5                                 #transmitter feeder losses\n",
      "gt=12                                   #BTS transmitter antenna gain\n",
      "gr=2                                    #BTS receiver antenna gain\n",
      "i=3\n",
      "bs=-110                                 #BTS receiver sensitivity\n",
      "\n",
      "#Calculation\n",
      "ptm=10*math.log10(pm*10**3)\n",
      "prb=ptm-ld-lp-lfm-lfb+gt+gr\n",
      "pr=prb+i                                #BTS received power\n",
      "fm=pr-bs                                #fade margin\n",
      "\n",
      "#Results\n",
      "print'BTS received power = %.1f dBm'%pr\n",
      "print'Fade margin = %.1f dB'%fm"
     ],
     "language": "python",
     "metadata": {},
     "outputs": [
      {
       "output_type": "stream",
       "stream": "stdout",
       "text": [
        "BTS received power = -96.0 dBm\n",
        "Fade margin = 14.0 dB\n"
       ]
      }
     ],
     "prompt_number": 4
    },
    {
     "cell_type": "heading",
     "level": 2,
     "metadata": {},
     "source": [
      "Example 6.15, page 265"
     ]
    },
    {
     "cell_type": "code",
     "collapsed": false,
     "input": [
      "import math\n",
      "\n",
      "#Initialisation\n",
      "t1=25                                 #terminal transmitter power \n",
      "t2=2                                  #terminal transmitter power \n",
      "gd=3                                  #correction factor of receiver antennas\n",
      "lc=5                                  #coupler loss\n",
      "prm=-105                              #receiver sensitivity\n",
      "prb=-110                              #receiver sensitivity\n",
      "\n",
      "#Calculation\n",
      "ptb=10*math.log10(t1*10**3)\n",
      "ptm=10*math.log10(t2*10**3)\n",
      "p=ptb-ptm                              #Transmitting gain in downlink\n",
      "ga=prm-prb                            #Receiving gain in uplink\n",
      "tg=gd+ga+lc                            #total gain on the uplink \n",
      "\n",
      "\n",
      "#Results\n",
      "print'Transmitting gain in downlink = %.1f dBm'%p\n",
      "print'Receiving gain in uplink = %.1f dBm'%ga\n",
      "print'total gain on the uplink = %.1f dBm'%tg"
     ],
     "language": "python",
     "metadata": {},
     "outputs": [
      {
       "output_type": "stream",
       "stream": "stdout",
       "text": [
        "Transmitting gain in downlink = 11.0 dBm\n",
        "Receiving gain in uplink = 5.0 dBm\n",
        "total gain on the uplink = 13.0 dBm\n"
       ]
      }
     ],
     "prompt_number": 61
    },
    {
     "cell_type": "heading",
     "level": 2,
     "metadata": {},
     "source": [
      "Example 6.16, page 269"
     ]
    },
    {
     "cell_type": "code",
     "collapsed": false,
     "input": [
      "import math\n",
      "\n",
      "#Initialisation\n",
      "f=450                                                     #frequency in MHz\n",
      "d=25                                                      #distance in m\n",
      "hb=30\n",
      "hm=5\n",
      "\n",
      "#Calculation\n",
      "fsl=32.4+(20*math.log10(f))+(20*math.log10(d))           #free space loss\n",
      "lp=120+(40*math.log10(d))-(20*math.log10(hb))-(20*math.log10(hm))    #path loss\n",
      "lm=76.3-10*math.log10(hm)\n",
      "l=(40*math.log10(25))+(20*math.log10(f))-(20*math.log10(hb))+lm   #path loss based on the clutter factor model\n",
      "\n",
      "\n",
      "#Results\n",
      "print'(1) Free space loss = %.1f dB'%fsl\n",
      "print'(2) Loss = %.1f dB'%lp\n",
      "print'(3) Loss based on clutter factor = %.1f dB'%l\n",
      "\n"
     ],
     "language": "python",
     "metadata": {},
     "outputs": [
      {
       "output_type": "stream",
       "stream": "stdout",
       "text": [
        "(1) Free space loss = 113.4 dB\n",
        "(2) Loss = 132.4 dB\n",
        "(3) Loss based on clutter factor = 148.7 dB\n"
       ]
      }
     ],
     "prompt_number": 62
    },
    {
     "cell_type": "heading",
     "level": 2,
     "metadata": {},
     "source": [
      "Example 6.17, page 271"
     ]
    },
    {
     "cell_type": "code",
     "collapsed": false,
     "input": [
      "import math\n",
      "\n",
      "#Initialisation\n",
      "pt=30                                      #transmitter power in watt\n",
      "d=15                                      #distance in km\n",
      "gt=3                                       #transmitter gain\n",
      "ht=30                                       #transmitter height in m\n",
      "hr=4                                       #receiver height in m\n",
      "no=3.77*10**14\n",
      "\n",
      "#Calculation\n",
      "gt1=10**(gt*10**-1)\n",
      "pt1=gt1*pt\n",
      "e=88*math.sqrt(pt1)*pt*hr/(2*d**2)           #Field strength\n",
      "pr1=(e**2)/(2*no)                            #Recieved power\n",
      "\n",
      "#Results\n",
      "print'Field strength = %f V/m'%e\n",
      "print'Recieved power = %.2f pW'%(pr1*10**12)\n"
     ],
     "language": "python",
     "metadata": {},
     "outputs": [
      {
       "output_type": "stream",
       "stream": "stdout",
       "text": [
        "Field strength = 181.556596 V/m\n",
        "Recieved power = 43.72 pW\n"
       ]
      }
     ],
     "prompt_number": 63
    },
    {
     "cell_type": "heading",
     "level": 2,
     "metadata": {},
     "source": [
      "Example 6.18, page 274"
     ]
    },
    {
     "cell_type": "code",
     "collapsed": false,
     "input": [
      "import math\n",
      "\n",
      "#Initialisation\n",
      "f=420                                         #frequency in Hz\n",
      "h1=40                                         #height in m\n",
      "h2=5                                         #height in m\n",
      "d=15                                         #distance in km\n",
      "\n",
      "#Calculation\n",
      "A=69.55+26.16*math.log10(f)-13.82*math.log10(h1)        #Hata parameters\n",
      "B=44.9-6.55*math.log10(h1)\n",
      "C=2*(math.log10(f*28**-1))**2+5.4\n",
      "D=4.78*(math.log10(420))**2-18.33*math.log10(f)+40.94\n",
      "E1=3.2*(math.log10(11.75*h2))**2-4.97\n",
      "E2=(((1.1*math.log10(f))-0.7)*h2)-((1.56*math.log10(f))-0.8)\n",
      "L3=A+B*math.log10(d)-D                                  #in open area;\n",
      "L2=A+B*math.log10(d)-C                                 #in suburban area;\n",
      "L1=A+B*math.log10(d)-E1                                 #in large cities;\n",
      "L11=A+B*math.log10(d)-E2                                #in small cities;\n",
      "\n",
      "#Results\n",
      "print'In large cities L1 = %.2f dB'%L1\n",
      "print'In small cities L1 = %.2f dB'%L11\n",
      "print'In suburban area L2 = %.2f dB'%L2\n",
      "print'In open area L2 = %.2f dB'%L3"
     ],
     "language": "python",
     "metadata": {},
     "outputs": [
      {
       "output_type": "stream",
       "stream": "stdout",
       "text": [
        "In large cities L1 = 151.45 dB\n",
        "In small cities L1 = 148.86 dB\n",
        "In suburban area L2 = 148.33 dB\n",
        "In open area L2 = 130.75 dB\n"
       ]
      }
     ],
     "prompt_number": 76
    },
    {
     "cell_type": "heading",
     "level": 2,
     "metadata": {},
     "source": [
      "Example 6.19, page 275"
     ]
    },
    {
     "cell_type": "code",
     "collapsed": false,
     "input": [
      "import math\n",
      "\n",
      "#Initialisation\n",
      "f=1800                                                     #frequency in MHz\n",
      "d=10                                                      #distance in m\n",
      "hb=40\n",
      "hm=3\n",
      "A=132.57                                                 #Hata model data\n",
      "B=34.4                                                  #Hata model data\n",
      "\n",
      "#Calculation\n",
      "E2=(((1.1*math.log10(f))-0.7)*hm)-((1.56*math.log10(f))-0.8)\n",
      "lp=46.3+33.9*math.log10(f)-13.82*math.log10(hb)+(44.9-6.55*math.log10(hb)-E2+hm)\n",
      "L=A+B+-E2\n",
      "\n",
      "\n",
      "#Results\n",
      "print'Path loss based on COST\u2013Hata model,'\n",
      "print'         Lp = %.2f dB'%lp\n",
      "print'Path loss based on Hata model,'\n",
      "print'         Lp = %.2f dB'%L"
     ],
     "language": "python",
     "metadata": {},
     "outputs": [
      {
       "output_type": "stream",
       "stream": "stdout",
       "text": [
        "Path loss based on COST\u2013Hata model,\n",
        "         Lp = 167.56 dB\n",
        "Path loss based on Hata model,\n",
        "         Lp = 162.61 dB\n"
       ]
      }
     ],
     "prompt_number": 79
    },
    {
     "cell_type": "heading",
     "level": 2,
     "metadata": {},
     "source": [
      "Example 6.20, page 277"
     ]
    },
    {
     "cell_type": "code",
     "collapsed": false,
     "input": [
      "import math\n",
      "\n",
      "#Initialisation\n",
      "pt=20                           #transmitter power in watt\n",
      "Hb=30                           #in metre\n",
      "Hm=3                           #in metre\n",
      "gt=14.2                          #trasmitter gain in dB\n",
      "gr=0.2                            #receiver gain in dB\n",
      "f=450                             #frequency in MHz\n",
      "gm=-2                            #in dBd\n",
      "gr2=-2.2                         #in dBi\n",
      "r1=10                             \n",
      "n=20\n",
      "hb=10\n",
      "hm=10\n",
      "\n",
      "\n",
      "#Calculation\n",
      "gt1=gt+gr2\n",
      "pr1=-62-38*math.log10(r1)-20*math.log10(f*900**-1)+7          #received signal level in suburban\n",
      "pr2=-64-43*math.log10(r1)-20*math.log10(f*900**-1)+7          #received signal level in urban\n",
      "ao=10*math.log10(2)+(gr2-6)                                   #in dB (wrong value calculated in textbook)\n",
      "pr11=-62-38*math.log10(r1)-20*math.log10(f*900**-1)+ao        #received signal level in rural\n",
      "pr22=-64-43*math.log10(r1)-20*math.log10(f*900**-1)+ao        #received signal level in cities\n",
      "ptd=10*math.log10(pt*10**3)                                   #in dBm\n",
      "lp1=ptd-pr11                                                  #Path loss in rural area\n",
      "lp2=ptd-pr22                                                  #Path loss in cities area\n",
      "\n",
      "#Results\n",
      "print'(2) In the suburban area, Pr = %.1f dBm'%pr1\n",
      "print'    In the urban area, Pr = %.1f dBm'%pr2\n",
      "print'(3) Path loss in rural area Lp = %.1f dB'%lp1           #(wrong value calculated in textbook)\n",
      "print'    Path loss in cities area Lp = %.1f dB'%lp2          #(wrong value calculated in textbook)"
     ],
     "language": "python",
     "metadata": {},
     "outputs": [
      {
       "output_type": "stream",
       "stream": "stdout",
       "text": [
        "(2) In the suburban area, Pr = -87.0 dBm\n",
        "    In the urban area, Pr = -94.0 dBm\n",
        "(3) Path loss in rural area Lp = 142.2 dB\n",
        "    Path loss in cities area Lp = 149.2 dB\n"
       ]
      }
     ],
     "prompt_number": 93
    }
   ],
   "metadata": {}
  }
 ]
}