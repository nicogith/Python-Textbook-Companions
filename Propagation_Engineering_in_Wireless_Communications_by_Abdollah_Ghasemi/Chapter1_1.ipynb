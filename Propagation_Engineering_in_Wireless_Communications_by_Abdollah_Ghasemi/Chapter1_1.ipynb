{
 "metadata": {
  "name": "",
  "signature": "sha256:210d4209b2bf5bb89dd881d85f3fd691c9eeb52914bb6a1ab12008858853aedb"
 },
 "nbformat": 3,
 "nbformat_minor": 0,
 "worksheets": [
  {
   "cells": [
    {
     "cell_type": "heading",
     "level": 1,
     "metadata": {},
     "source": [
      "Chapter 1 : Introduction to Radiowaves"
     ]
    },
    {
     "cell_type": "heading",
     "level": 2,
     "metadata": {},
     "source": [
      "Example 1.1, page 13"
     ]
    },
    {
     "cell_type": "code",
     "collapsed": false,
     "input": [
      "#Initialisation\n",
      "fo=8387.5                                                 #frequency in MHz\n",
      "\n",
      "#Calculation\n",
      "\n",
      "#defining a function for 6 MHZ channels with 14 MHz separation\n",
      "def F(n):\n",
      "    fn=fo-108.5+(14*n);\n",
      "    return (fn)\n",
      "\n",
      "def F1(n):\n",
      "    fn=fo+10.5+(14*n);\n",
      "    return (fn)\n",
      "\n",
      "#defining a function for 12 MHZ channels with 7 MHz separation\n",
      "def F2(n):\n",
      "    fn=fo-108.5+(7*n);\n",
      "    return (fn)\n",
      "\n",
      "def F3(n):\n",
      "    fn=fo+17.5+(7*n);\n",
      "    return (fn)\n",
      "\n",
      "\n",
      "#Results\n",
      "print'(1) 6-RF channels with 14 MHz separation'\n",
      "print'    f1 = %d'%F(1)\n",
      "print'    f11 = %d'%F1(1)\n",
      "print'    f2 = %d'%F(2)\n",
      "print'    f21 = %d'%F1(2)\n",
      "print'    f3 = %d'%F(3)\n",
      "print'    f31 = %d'%F1(3)\n",
      "print'(2) 12-RF channels with 7 MHz separation'\n",
      "print'    f1 = %d'%F2(1)\n",
      "print'    f11 = %d'%F3(1)\n",
      "print'    f2 = %d'%F2(2)\n",
      "print'    f21 = %d'%F3(2)\n",
      "print'    f3 = %d'%F2(3)                                    #wrong value calculated in textbook\n",
      "print'    f31 = %d'%F3(3)                                    #wrong value calculated in textbook"
     ],
     "language": "python",
     "metadata": {},
     "outputs": [
      {
       "output_type": "stream",
       "stream": "stdout",
       "text": [
        "(1) 6-RF channels with 14 MHz separation\n",
        "    f1 = 8293\n",
        "    f11 = 8412\n",
        "    f2 = 8307\n",
        "    f21 = 8426\n",
        "    f3 = 8321\n",
        "    f31 = 8440\n",
        "(2) 12-RF channels with 7 MHz separation\n",
        "    f1 = 8286\n",
        "    f11 = 8412\n",
        "    f2 = 8293\n",
        "    f21 = 8419\n",
        "    f3 = 8300\n",
        "    f31 = 8426\n"
       ]
      }
     ],
     "prompt_number": 30
    },
    {
     "cell_type": "code",
     "collapsed": false,
     "input": [],
     "language": "python",
     "metadata": {},
     "outputs": []
    }
   ],
   "metadata": {}
  }
 ]
}