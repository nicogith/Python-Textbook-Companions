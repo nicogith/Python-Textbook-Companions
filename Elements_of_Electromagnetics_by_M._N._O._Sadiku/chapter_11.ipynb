{
 "metadata": {
  "name": "",
  "signature": "sha256:b3709cc764fd68911c53d14fdc3847f8e66fbdd5fcd89885b01f065610802430"
 },
 "nbformat": 3,
 "nbformat_minor": 0,
 "worksheets": [
  {
   "cells": [
    {
     "cell_type": "markdown",
     "metadata": {},
     "source": [
      "<h1>Chapter 11: Transmission Lines<h1>"
     ]
    },
    {
     "cell_type": "markdown",
     "metadata": {},
     "source": [
      "<h3>Example 11.1, Page number: 482<h3>"
     ]
    },
    {
     "cell_type": "code",
     "collapsed": false,
     "input": [
      " \n",
      "\n",
      "import scipy\n",
      "\n",
      "#Variable Declaration\n",
      "\n",
      "R=0\n",
      "G=0\n",
      "a=0\n",
      "Ro=70            #characteristic impedence in ohms\n",
      "B=3              #phase constant in rad/sec\n",
      "f=100*10**6      #frequency in Hz\n",
      "w=2*scipy.pi*f   #omega in rad/sec\n",
      "\n",
      "#Calculations\n",
      "\n",
      "C=B/(w*Ro)       #capacitance in F/m\n",
      "L=Ro*Ro*C        #inductance in H/m\n",
      "\n",
      "#Results\n",
      "\n",
      "print 'inductance per meter =',round(L*10**9,1),'nH/m'\n",
      "print 'capacitance per meter =',round(C*10**12,1),'pF/m'\n"
     ],
     "language": "python",
     "metadata": {},
     "outputs": [
      {
       "output_type": "stream",
       "stream": "stdout",
       "text": [
        "inductance per meter = 334.2 nH/m\n",
        "capacitance per meter = 68.2 pF/m\n"
       ]
      }
     ],
     "prompt_number": 1
    },
    {
     "cell_type": "markdown",
     "metadata": {},
     "source": [
      "<h3>Example 11.2, Page number: 483<h3>"
     ]
    },
    {
     "cell_type": "code",
     "collapsed": false,
     "input": [
      " \n",
      "#Variable Declaration\n",
      "\n",
      "Zo=60           #in ohms\n",
      "a=20*10**-3     #in Np/m\n",
      "u=0.6*3*10**8   #in m/sec\n",
      "f=100*10**6     #in Hz\n",
      "\n",
      "#Calculations\n",
      "\n",
      "R=a*Zo          #resistance in ohms/m\n",
      "L=Zo/u          #inductance in H/m\n",
      "G=a*a/R         #conductivity in S/m\n",
      "C=1/(u*Zo)      #capacitance in F/m\n",
      "lam=u/f         #wavelentgh in m\n",
      "\n",
      "#Results\n",
      "\n",
      "print 'R =',R,'ohm/m'\n",
      "print 'L =',round(L*10**9,0),'nH/m'\n",
      "print 'G =',round(G*10**6,0),'micro S/m'\n",
      "print 'C =',round(C*10**12,2),'pF/m'\n",
      "print 'lambda =',lam,'m'"
     ],
     "language": "python",
     "metadata": {},
     "outputs": [
      {
       "output_type": "stream",
       "stream": "stdout",
       "text": [
        "R = 1.2 ohm/m\n",
        "L = 333.0 nH/m\n",
        "G = 333.0 micro S/m\n",
        "C = 92.59 pF/m\n",
        "lambda = 1.8 m\n"
       ]
      }
     ],
     "prompt_number": 2
    },
    {
     "cell_type": "markdown",
     "metadata": {},
     "source": [
      "<h3>Example 11.3, Page number: 490<h3>"
     ]
    },
    {
     "cell_type": "code",
     "collapsed": false,
     "input": [
      " \n",
      "import scipy\n",
      "import cmath\n",
      "from numpy import *\n",
      "\n",
      "#Variable Declaration\n",
      "\n",
      "w=10**6                     #omega in rad/sec\n",
      "B=1                         #phase factor in rad/m\n",
      "a=8.0/8.686                 #alpha in Np/m\n",
      "Y=a+1j                      #in m^-1\n",
      "l=2                         #length in m\n",
      "Vg=10                       #source voltage in volts\n",
      "Zo=60+40j                   #in ohms\n",
      "Zg=40                       #in ohms\n",
      "Zl=20+50j                   #load impedance in ohms\n",
      "\n",
      "#Calculations\n",
      "\n",
      "s=scipy.tanh(Y*l)\n",
      "Zin=Zo*(Zl+Zo*s)/(Zo+Zl*s)  #input impedance in ohms\n",
      "Zinr=round(Zin.real,2)      #real part of Zin rounded to 2 decimal places\n",
      "Zini=round(Zin.imag,2)      #imaginary part of Zin rounded to 2 decimal places\n",
      "Io=Vg/(Zin+Zg)              #in A\n",
      "absIo=round(abs(Io),6)      #absolute value of Io rounded to 6 decimal place\n",
      "Ior=Io.real                 #real part of Io\n",
      "Ioi=Io.imag                 #imaginary part of Io\n",
      "angIo=scipy.arctan(Ioi/Ior)*180/scipy.pi \n",
      "                            #in degrees\n",
      "Vo=Zin*Io\n",
      "Vop=(Vo+Zo*Io)/2\n",
      "Vom =(Vo-Zo*Io)/2\n",
      "Im=((Vop*scipy.e**(-Y)/Zo))-((Vom*scipy.e**Y)/Zo)\n",
      "                            #current at the middle in A\n",
      "absIm=round(abs(Im),5)      #absolute value of Im rounded to 6 decimal place\n",
      "Imr=Im.real                 #real part of Im \n",
      "Imi=Im.imag                 #imaginary part of Im\n",
      "angIm=360+scipy.arctan(Imi/Imr)*180/scipy.pi \n",
      "                            #in degrees\n",
      "\n",
      "#Results\n",
      "\n",
      "print 'The input impedance  =',Zinr,'+',Zini,'j ohms'\n",
      "print 'The sending-end current  is'\n",
      "print 'mod =',absIo*10**3,'mA, angle =',round(angIo,2),'degrees'\n",
      "print 'The current at the middle is'\n",
      "print 'mod =',absIm*10**3,'mA, angle =',round(angIm,0),'degrees'"
     ],
     "language": "python",
     "metadata": {},
     "outputs": [
      {
       "output_type": "stream",
       "stream": "stdout",
       "text": [
        "The input impedance  = 60.25 + 38.79 j ohms\n",
        "The sending-end current  is\n",
        "mod = 93.03 mA, angle = -21.15 degrees\n",
        "The current at the middle is\n",
        "mod = 34.92 mA, angle = 281.0 degrees\n"
       ]
      }
     ],
     "prompt_number": 3
    },
    {
     "cell_type": "markdown",
     "metadata": {},
     "source": [
      "<h3>Example 11.4, Page number: 499<h3>"
     ]
    },
    {
     "cell_type": "code",
     "collapsed": false,
     "input": [
      " \n",
      "import scipy\n",
      "import cmath\n",
      "from numpy import *\n",
      "\n",
      "#Variable Declaration\n",
      "\n",
      "l=30                #length in m\n",
      "Zo=50               #in ohms\n",
      "f=2*10**6           #frequency in Hz\n",
      "Zl=60+40j           #load impedence in ohms\n",
      "u=0.6*3*10**8       #in m/s\n",
      "w=2*scipy.pi*f      #omega in rad/sec\n",
      "\n",
      "#Calculations\n",
      "\n",
      "T=(Zl-Zo)/(Zl+Zo)                             #reflection coefficient\n",
      "ang=scipy.arctan(T.imag/T.real)*180/scipy.pi  #argument of T is degrees\n",
      "s=(1+abs(T))/(1-abs(T))                       #standing wave ratio \n",
      "B=w/u                                         #propogation vector in m^-1\n",
      "Zin=Zo*(Zl+Zo*scipy.tan(B*l)*1j)/(Zo+Zl*scipy.tan(B*l)*1j)\n",
      "Zinr=round(Zin.real,2)      #real part of Zin rounded to 2 decimal places\n",
      "Zini=round(Zin.imag,2)      #imaginary part of Zin rounded to 2 decimal places\n",
      "\n",
      "#Results\n",
      "\n",
      "print 'The reflection coefficient is'\n",
      "print 'mod =',round(abs(T),4),'angle =',round(ang,0),'degrees'\n",
      "print 'The standing wave ratio s =',round(s,3)\n",
      "print 'The input impedance  =',Zinr,'+',Zini,'j ohms'"
     ],
     "language": "python",
     "metadata": {},
     "outputs": [
      {
       "output_type": "stream",
       "stream": "stdout",
       "text": [
        "The reflection coefficient is\n",
        "mod = 0.3523 angle = 56.0 degrees\n",
        "The standing wave ratio s = 2.088\n",
        "The input impedance  = 23.97 + 1.35 j ohms\n"
       ]
      }
     ],
     "prompt_number": 4
    },
    {
     "cell_type": "markdown",
     "metadata": {},
     "source": [
      "<h3>Example 11.5, Page number: 501<h3>"
     ]
    },
    {
     "cell_type": "code",
     "collapsed": false,
     "input": [
      " \n",
      "\n",
      "import scipy\n",
      "import cmath\n",
      "from numpy import *\n",
      "\n",
      "#Variable Declaration\n",
      "\n",
      "Zl=100+150j                #load impedance in ohms\n",
      "Zo=75                      #impedance of line in ohms\n",
      "B=2*scipy.pi \n",
      "\n",
      "#Calculations\n",
      "\n",
      "T=(Zl-Zo)/(Zl+Zo)\n",
      "angT=scipy.arctan(T.imag/T.real)*180/scipy.pi \n",
      "s=(1+abs(T))/(1-abs(T))\n",
      "Yl=(1/Zl)*10**3             #admittance in mS\n",
      "Ylr=round(Yl.real,2)        #real part of Yl rounded to 2 decimal places\n",
      "Yli=round(Yl.imag,2)        #imaginary part of Yl rounded to 2 decimal places\n",
      "l1=0.4\n",
      "Zin=Zo*(Zl+Zo*scipy.tan(B*l1)*1j)/(Zo+Zl*scipy.tan(B*l1)*1j)\n",
      "Zinr=round(Zin.real,2)      #real part of Zin rounded to 2 decimal places\n",
      "Zini=round(Zin.imag,2)      #imaginary part of Zin rounded to 2 decimal places\n",
      "\n",
      "\n",
      "#Results\n",
      "\n",
      "print 'r is mod =',round(abs(T),3),',angle =',round(angT,0),'degrees'\n",
      "print 's =',round(s,2)\n",
      "print 'The load admittance Yl =',Ylr,'+',Yli,'j mS'\n",
      "print 'Zin at O.4 lambda from the load =',Zinr,'+',Zini,'j ohms'\n",
      "#part (e) and (f) don't require computations"
     ],
     "language": "python",
     "metadata": {},
     "outputs": [
      {
       "output_type": "stream",
       "stream": "stdout",
       "text": [
        "r is mod = 0.66 ,angle = 40.0 degrees\n",
        "s = 4.88\n",
        "The load admittance Yl = 3.08 + -4.62 j mS\n",
        "Zin at O.4 lambda from the load = 21.96 + 47.61 j ohms\n"
       ]
      }
     ],
     "prompt_number": 5
    },
    {
     "cell_type": "markdown",
     "metadata": {},
     "source": [
      "<h3>Example 11.6, Page number: 509<h3>"
     ]
    },
    {
     "cell_type": "code",
     "collapsed": false,
     "input": [
      " \n",
      "import scipy\n",
      "import cmath\n",
      "from numpy import *\n",
      "\n",
      "#Variable Declaration\n",
      "\n",
      "s=2\n",
      "l1=11 \n",
      "l2=19\n",
      "ma=24 \n",
      "mi=16\n",
      "u=3*10**8        #speed of wave in m/s\n",
      "Zo=50            #in ohms\n",
      "\n",
      "#Calculations\n",
      "\n",
      "l=(l2-l1)*2      #lambda in cm\n",
      "f=(u/l)*10**-7   #frequency in GHz\n",
      "L=(24-19)/l      #Let us assume load is at 24cm\n",
      "zl=1.4+0.75j     # by smith chart\n",
      "Zl=Zo*zl         #ZL in ohms\n",
      "\n",
      "#Results\n",
      "\n",
      "print 'lambda =',l,'cm'\n",
      "print 'f =',f,'GHz'\n",
      "print 'ZL =',Zl,'ohms'"
     ],
     "language": "python",
     "metadata": {},
     "outputs": [
      {
       "output_type": "stream",
       "stream": "stdout",
       "text": [
        "lambda = 16 cm\n",
        "f = 1.875 GHz\n",
        "ZL = (70+37.5j) ohms\n"
       ]
      }
     ],
     "prompt_number": 6
    },
    {
     "cell_type": "markdown",
     "metadata": {},
     "source": [
      "<h3>Example 11.7, Page number: 510<h3>"
     ]
    },
    {
     "cell_type": "code",
     "collapsed": false,
     "input": [
      " \n",
      "import scipy\n",
      "import cmath\n",
      "from numpy import *\n",
      "\n",
      "#Variable Declaration\n",
      "\n",
      "Zo=100      #in ohms\n",
      "Zl=40+30j   #in ohms\n",
      "\n",
      "#Calculations\n",
      "\n",
      "Yo=1.0/Zo                          #in S\n",
      "yl=Zo/Zl\n",
      "ys1=1.04j                          #By smith chart\n",
      "ys2=-1.04j                         #By smith chart\n",
      "Ys1=Yo*ys1                         #in S\n",
      "Ys2=Yo*ys2                         #in S\n",
      "la=round(0.5-(62-(-39))/720.0,2)   #in units of lambda\n",
      "lb=round((62-39)/720.0,3)          #in units of lambda\n",
      "da=round(88/720.0,4)               #in units of lambda\n",
      "db=round(272/720.0,4)              #in units of lambda\n",
      "\n",
      "#Results\n",
      "\n",
      "print 'The required stub admittance values in mS are',Ys1*1000,'and',Ys2*1000\n",
      "print 'The distance between stub and antenna at A =',la,'in units of lambda'\n",
      "print 'The distance between stub and antenna at B =',lb,'in units of lambda'\n",
      "print 'The stub lengths =',da,'and',db,'in units of lambda'\n",
      "print 'Part (d) is done using smith chart'"
     ],
     "language": "python",
     "metadata": {},
     "outputs": [
      {
       "output_type": "stream",
       "stream": "stdout",
       "text": [
        "The required stub admittance values in mS are 10.4j and -10.4j\n",
        "The distance between stub and antenna at A = 0.36 in units of lambda\n",
        "The distance between stub and antenna at B = 0.032 in units of lambda\n",
        "The stub lengths = 0.1222 and 0.3778 in units of lambda\n",
        "Part (d) is done using smith chart\n"
       ]
      }
     ],
     "prompt_number": 7
    },
    {
     "cell_type": "heading",
     "level": 3,
     "metadata": {},
     "source": [
      "Example 11.9, Page number: 521"
     ]
    },
    {
     "cell_type": "code",
     "collapsed": false,
     "input": [
      " \n",
      "import scipy\n",
      "import matplotlib.pyplot as plt\n",
      "\n",
      "#Variable Declarataion\n",
      "\n",
      "zo=75     #in ohms\n",
      "zg=25     #in ohms\n",
      "zl=100    #in ohms\n",
      "vg=4      #in volts\n",
      "l=60      #in m\n",
      "c=3*10**8 #speed of light in m/s\n",
      "u=0.1*c   #in m/s\n",
      "\n",
      "#Calculations\n",
      "\n",
      "gammag=(zg-zo)/(zg+zo)\n",
      "gammal=(zl-zo)/(zl+zo)\n",
      "Vo=zo*vg/(zo+zg)        #in V\n",
      "t1=l/u                  #in micro sec\n",
      "Io=vg/(zo+zg)           #in mA\n",
      "\n",
      "#Results\n",
      "\n",
      "t1=[0,4,5,8,9,12,13,15]\n",
      "I1=[40,31.43,-8.571,-7.959,0.6123,0.5685,-0.0438,-0.438]\n",
      "fig = plt.figure()\n",
      "ax = fig.add_subplot(111)\n",
      "ax.step(t1,I1,where='post')\n",
      "ax.set_xlabel('Time (micro s)')\n",
      "ax.set_ylabel(r'I(0,t) in mA')\n",
      "plt.show()\n",
      "\n",
      "t2=[0,2,6,7,10,11,14]\n",
      "I2=[0,34.3,31.9,-2.46,-2.28,0.176,0.176]\n",
      "fig = plt.figure()\n",
      "ax = fig.add_subplot(111)\n",
      "ax.step(t2,I2,where='post')\n",
      "ax.set_xlabel('Time (micro s)')\n",
      "ax.set_ylabel(r'I(l,t) in mA')\n",
      "plt.show()\n",
      "\n",
      "\n"
     ],
     "language": "python",
     "metadata": {},
     "outputs": [
      {
       "metadata": {},
       "output_type": "display_data",
       "png": "[encoded data removed]",
       "text": [
        "<matplotlib.figure.Figure at 0x5f89c90>"
       ]
      },
      {
       "metadata": {},
       "output_type": "display_data",
       "png": "[encoded data removed]",
       "text": [
        "<matplotlib.figure.Figure at 0x6342070>"
       ]
      }
     ],
     "prompt_number": 15
    },
    {
     "cell_type": "markdown",
     "metadata": {},
     "source": [
      "<h3>Example 11.10, Page number: 527<h3>"
     ]
    },
    {
     "cell_type": "code",
     "collapsed": false,
     "input": [
      " \n",
      "import scipy\n",
      "\n",
      "#Variable Declaration\n",
      "\n",
      "Er=3.8          #relative permittivity\n",
      "c=3*10**8       #speed of wave in m/s\n",
      "r=4.5           #ratio of line width to substrate thickness\n",
      "\n",
      "#Calculations\n",
      "\n",
      "Eeff=((Er+1)/2)+((Er-1)/(2*(1+12/r)**0.5))\n",
      "Zo=(120*scipy.pi)/((r+1.393+(0.667*scipy.log(r+1.444)))*((Eeff)**0.5))\n",
      "f=10**10\n",
      "l=c/(f*scipy.sqrt(Eeff))\n",
      "\n",
      "#Results\n",
      "\n",
      "print 'The effective relative permittivity of the substrate =',round(Eeff,3)\n",
      "print 'The characteristic impedance of the line =',round(Zo,2),'ohms'\n",
      "print 'The wavelength of the line at 10 GHz =',round(l*1000,2),'mm'"
     ],
     "language": "python",
     "metadata": {},
     "outputs": [
      {
       "output_type": "stream",
       "stream": "stdout",
       "text": [
        "The effective relative permittivity of the substrate = 3.131\n",
        "The characteristic impedance of the line = 30.08 ohms\n",
        "The wavelength of the line at 10 GHz = 16.95 mm\n"
       ]
      }
     ],
     "prompt_number": 8
    },
    {
     "cell_type": "markdown",
     "metadata": {},
     "source": [
      "<h3>Example 11.11, Page number: 527<h3>"
     ]
    },
    {
     "cell_type": "code",
     "collapsed": false,
     "input": [
      " \n",
      "\n",
      "import scipy\n",
      "\n",
      "#Variable Declaration\n",
      "\n",
      "h=1                     #in mm\n",
      "w=0.8                   #in mm\n",
      "Er=6.6                  #relative permittivity\n",
      "P=scipy.arctan(0.0001)  \n",
      "c=5.8*10**7             #conductivity in S/m\n",
      "f=10**10                #frequency in Hz\n",
      "mu=4*scipy.pi*10**-7    #permeability of free space\n",
      "C=3*10**8               #speed of wave in m/s\n",
      "r=w/h\n",
      "\n",
      "#Calculations\n",
      "\n",
      "Ee=((Er+1)/2.0)+((Er-1)/(2.0*(1+12/r)**0.5))\n",
      "Zo=(120.0*scipy.pi)/((r+1.393+(0.667*scipy.log(r+1.444)))*((Ee)**0.5))\n",
      "Rs=scipy.sqrt((scipy.pi*f*mu)/c)\n",
      "ac=8.686*Rs/(w*(10**-3)*Zo)\n",
      "l=C/(f*(Ee)**0.5)\n",
      "ad=27.3*(Ee-1)*Er*scipy.tan(P)/((Er-1)*Ee*l)\n",
      "\n",
      "#Results\n",
      "\n",
      "print 'attenuation due to conduction loss =',round(ac,2),'dB/m'\n",
      "print 'attenuation due to dielectric loss =',round(ad,3),'dB/m'"
     ],
     "language": "python",
     "metadata": {},
     "outputs": [
      {
       "output_type": "stream",
       "stream": "stdout",
       "text": [
        "attenuation due to conduction loss = 4.35 dB/m\n",
        "attenuation due to dielectric loss = 0.177 dB/m\n"
       ]
      }
     ],
     "prompt_number": 9
    }
   ],
   "metadata": {}
  }
 ]
}