{
 "metadata": {
  "name": "",
  "signature": "sha256:cdf18287acc82150753d10351b24abe70a503e3715e5a7f68621619ab02a6a02"
 },
 "nbformat": 3,
 "nbformat_minor": 0,
 "worksheets": [
  {
   "cells": [
    {
     "cell_type": "markdown",
     "metadata": {},
     "source": [
      "<h1>Chapter 10: Electromagnetic Wave Propagation<h1>"
     ]
    },
    {
     "cell_type": "markdown",
     "metadata": {},
     "source": [
      "<h3>Example 10.1, Page number: 416<h3>"
     ]
    },
    {
     "cell_type": "code",
     "collapsed": false,
     "input": [
      " \n",
      "\n",
      "import scipy\n",
      "from pylab import *\n",
      "\n",
      "#Variable Declaration\n",
      "\n",
      "w=10**8 \n",
      "c=3.0*10**8\n",
      "\n",
      "#Calculations\n",
      "\n",
      "T=2*scipy.pi/w            #timeperiod of the wave in sec\n",
      "B=(w/c)                   #in rad/m\n",
      "lam=2*scipy.pi/B          #wavelength in m\n",
      "t1=lam*10**9/(2*c)        #time taken to travel half the wavelength in ns \n",
      "\n",
      "x=arange(-6*scipy.pi,6*scipy.pi,0.1)\n",
      "\n",
      "t=0\n",
      "E=50*scipy.cos(10**8*t+x*w/c)\n",
      "\n",
      "subplot(3,1,1)\n",
      "xlabel(\"x\")\n",
      "ylabel(\"E for t=0\")\n",
      "plot(x,E,'r')\n",
      "\n",
      "subplot(3,1,2)\n",
      "t=T/4\n",
      "E=50*scipy.cos(10**8*t+x*w/c)\n",
      "xlabel(\"x\")\n",
      "ylabel(\"E for t=T/4\")\n",
      "plot(x,E)\n",
      "\n",
      "subplot(3,1,3)\n",
      "t=T/2\n",
      "E=50*scipy.cos(10**8*t+x*w/c)\n",
      "xlabel(\"x\")\n",
      "ylabel(\"E for t=T/2\")\n",
      "plot(x,E,'g')\n",
      "show()\n",
      "\n",
      "#Results\n",
      "\n",
      "print 'Since the argument of cosine function is positive, '\n",
      "print 'the wave is propagating in the negative x direction.'\n",
      "print' B =',round(B,4),'rad/m'\n",
      "print 'Time taken to travel a distance of lambda/2 =',round(t1,2),'n sec'"
     ],
     "language": "python",
     "metadata": {},
     "outputs": [
      {
       "metadata": {},
       "output_type": "display_data",
       "png": "[encoded data removed]",
       "text": [
        "<matplotlib.figure.Figure at 0x60587d0>"
       ]
      },
      {
       "output_type": "stream",
       "stream": "stdout",
       "text": [
        "Since the argument of cosine function is positive, \n",
        "the wave is propagating in the negative x direction.\n",
        " B = 0.3333 rad/m\n",
        "Time taken to travel a distance of lambda/2 = 31.42 n sec\n"
       ]
      }
     ],
     "prompt_number": 1
    },
    {
     "cell_type": "markdown",
     "metadata": {},
     "source": [
      "<h3>Example 10.2, Page number: 428<h3>"
     ]
    },
    {
     "cell_type": "code",
     "collapsed": false,
     "input": [
      " \n",
      "import cmath\n",
      "import scipy\n",
      "\n",
      "#Variable Declaration\n",
      "\n",
      "Ho=10 \n",
      "n=200*scipy.exp(1)**(1j*scipy.pi/6) \n",
      "b=0.5\n",
      "\n",
      "#Calclations\n",
      "\n",
      "Eo=n*Ho                         #amplitude of electric field in kV/m\n",
      "P=scipy.arctan(scipy.sqrt(3)) \n",
      "a=b*((scipy.sqrt(((1+(scipy.tan(P))**2)**0.5)-1))/(scipy.sqrt(((1+(scipy.tan(P)\n",
      ")**2)**0.5)+1)))\n",
      "delta=1/a\n",
      "\n",
      "#Results\n",
      "\n",
      "print 'E has the same form as H except for amplitude and phase.'\n",
      "print 'The amplitude and phase of E =',Eo,'kV/m'\n",
      "print '= magnitude of 2000 and angle of pi/6'\n",
      "print 'a =',round(a,4),'Np/m'\n",
      "print 'Skin depth =',round(delta,3),'m'\n",
      "print 'The polarization of wave is in z direction since it has an z component.'\n"
     ],
     "language": "python",
     "metadata": {},
     "outputs": [
      {
       "output_type": "stream",
       "stream": "stdout",
       "text": [
        "E has the same form as H except for amplitude and phase.\n",
        "The amplitude and phase of E = (1732.05080757+1000j) kV/m\n",
        "= magnitude of 2000 and angle of pi/6\n",
        "a = 0.2887 Np/m\n",
        "Skin depth = 3.464 m\n",
        "The polarization of wave is in z direction since it has an z component.\n"
       ]
      }
     ],
     "prompt_number": 2
    },
    {
     "cell_type": "markdown",
     "metadata": {},
     "source": [
      "<h3>Example 10.3, Page number: 430<h3>"
     ]
    },
    {
     "cell_type": "code",
     "collapsed": false,
     "input": [
      " \n",
      "\n",
      "import scipy\n",
      "\n",
      "#Variable Declaration\n",
      "\n",
      "B=1\n",
      "n=60*scipy.pi \n",
      "Ur=1                     #relative permeability\n",
      "Eo=10**-9/(36*scipy.pi)  #permittivity of free space\n",
      "Uo=4*scipy.pi*10**-7     #permeability of free space\n",
      "\n",
      "#Calculations\n",
      "\n",
      "Er=Uo*Ur/(n**2*Eo)           #relative permittivity\n",
      "w=B/scipy.sqrt(Eo*Er*Uo*Ur)  #in rad/sec\n",
      "eps=Eo*Er                    #permittivity of the medium in Farad/m\n",
      "H1o=-0.1\n",
      "H2o=0.5\n",
      "Ex=H2o/(eps*w)           #amplitude of x component of E in V/m\n",
      "Ey=H1o/(eps*w)           #amplitude of y component of E in V/m\n",
      "\n",
      "\n",
      "#Results\n",
      "\n",
      "print 'er =',Er\n",
      "print 'w =',w,'rad/sec'\n",
      "print 'E =',round(Ex,2),'sin(wt-z)ax +',round(-Ey,2),'cos(wt-z)ay V/m'"
     ],
     "language": "python",
     "metadata": {},
     "outputs": [
      {
       "output_type": "stream",
       "stream": "stdout",
       "text": [
        "er = 4.0\n",
        "w = 150000000.0 rad/sec\n",
        "E = 94.25 sin(wt-z)ax + 18.85 cos(wt-z)ay V/m\n"
       ]
      }
     ],
     "prompt_number": 3
    },
    {
     "cell_type": "markdown",
     "metadata": {},
     "source": [
      "<h3>Example 10.4, Page number: 432<h3>"
     ]
    },
    {
     "cell_type": "code",
     "collapsed": false,
     "input": [
      " \n",
      "import scipy\n",
      "\n",
      "#Variable Declaration\n",
      "\n",
      "E=2                         #amplitude of E in V/m\n",
      "sigma=3                     #in mhos/m\n",
      "w=10**8                     #in rad/sec\n",
      "Ur=20                       #relative permeability\n",
      "Eo=10**-9/(36*scipy.pi)     #permittivity of free space in Farad/m\n",
      "Er=1                        #relative permittivity\n",
      "Uo=4*scipy.pi*10**-7        #permeability of free space\n",
      "\n",
      "#Calculations\n",
      "\n",
      "a=round(scipy.sqrt(Uo*Ur*w*sigma/2),1)  #in Np/m\n",
      "B=a                                     #rad/m\n",
      "theta=scipy.arctan(sigma/(w*Eo*Er))*0.5 #in radians\n",
      "thetad=round(theta*180/scipy.pi,0)      #in degrees\n",
      "H=E/(scipy.sqrt(Uo*Ur*w/sigma))*10**3   #amplitude of H in mA/m\n",
      "\n",
      "#Results\n",
      "\n",
      "print 'alpha =',a,'Np/m'\n",
      "print 'beta =',B,'rad/m'\n",
      "print 'H =',round(H,1),'e^ (',a,'z ) sin(wt - Bz -',thetad,') mA/m'"
     ],
     "language": "python",
     "metadata": {},
     "outputs": [
      {
       "output_type": "stream",
       "stream": "stdout",
       "text": [
        "alpha = 61.4 Np/m\n",
        "beta = 61.4 rad/m\n",
        "H = 69.1 e^ ( 61.4 z ) sin(wt - Bz - 45.0 ) mA/m\n"
       ]
      }
     ],
     "prompt_number": 4
    },
    {
     "cell_type": "markdown",
     "metadata": {},
     "source": [
      "<h3>Example 10.6, Page number: 434<h3>"
     ]
    },
    {
     "cell_type": "code",
     "collapsed": false,
     "input": [
      " \n",
      "import scipy\n",
      "\n",
      "#Variable Declaration\n",
      " \n",
      "a=2*10**-3              #in m\n",
      "b=6*10**-3              #in m \n",
      "t=10**-3                #in m\n",
      "l=2                     #in m\n",
      "c=5.8*10**7             #conductivity in seimens\n",
      "f=100*10**6             #frequency in Hz\n",
      "mu=4*scipy.pi*10**-7    #permeability of free space\n",
      "\n",
      "#Calculations\n",
      "\n",
      "Ri=l/(c*scipy.pi*a*a)               #dc resistance of inner cable in ohms\n",
      "Ro=l/(c*scipy.pi*((b+t)**2-b**2))   #dc resistance of outer cable in ohms\n",
      "Rdc=Ro+Ri                           #total dc resistance in ohms\n",
      "\n",
      "Ria=round(l/(2*scipy.pi*a)*scipy.sqrt(scipy.pi*f*mu/c),1)\n",
      "Roa=round(l/(2*scipy.pi*b)*scipy.sqrt(scipy.pi*f*mu/c),4)\n",
      "Rac=Ria+Roa                         #ac resistance in ohms\n",
      "\n",
      "#Results\n",
      "\n",
      "print 'Rdc =',round(Rdc*10**3,3),'m ohms'\n",
      "print 'Rac =',round(Rac,4),'ohms'\n"
     ],
     "language": "python",
     "metadata": {},
     "outputs": [
      {
       "output_type": "stream",
       "stream": "stdout",
       "text": [
        "Rdc = 3.588 m ohms\n",
        "Rac = 0.5384 ohms\n"
       ]
      }
     ],
     "prompt_number": 5
    },
    {
     "cell_type": "markdown",
     "metadata": {},
     "source": [
      "<h3>Example 10.7, Page number: 439<h3>"
     ]
    },
    {
     "cell_type": "code",
     "collapsed": false,
     "input": [
      " \n",
      "\n",
      "import scipy\n",
      "from numpy import *\n",
      "\n",
      "#Variable Declaration\n",
      "\n",
      "ax=array([1,0,0])               #Unit vector along x direction\n",
      "ay=array([0,1,0])               #Unit vector along y direction\n",
      "az=array([0,0,1])               #Unit vector along z direction\n",
      "a=0                             #alpha in m^-1\n",
      "b=0.8                           #beta in m^-1\n",
      "Eo=10**-9/(36*scipy.pi)         #permittivity of free space in farad/m\n",
      "Uo=4*scipy.pi*10**-7            #permeability of free space\n",
      "Ur=1                            #relative permeability of medium\n",
      "w=2*scipy.pi*10**7              #omega in rad/s\n",
      "Eamp=4                          #amplitude of the field in V/m\n",
      "\n",
      "#Calculations\n",
      "\n",
      "Er=b**2/(Uo*Eo*w*w)             #relative permittivity of the medium\n",
      "n=scipy.sqrt(Uo/(Eo*Er))        #eta in ohms\n",
      "Pav=Eamp**2/(2*n)*ax            #average power in W/m^2\n",
      "an=(2*ax+ay)/scipy.sqrt(5)      #normal to the plane\n",
      "S=100*10**-4*an                 #area in m^2\n",
      "P=dot(Pav,S)*10**6              #power through the plane in micro W\n",
      "\n",
      "#Results\n",
      "\n",
      "print 'Er=',round(Er,2)\n",
      "print 'eta= ',round(n,1),'ohms'\n",
      "print 'The time-average power =',round(dot(Pav,ax)*10**3,0),'ax mW/m^2'\n",
      "print 'The total power crossing 100 cm^2 of the plane =',round(P,2),'micro W'\n"
     ],
     "language": "python",
     "metadata": {},
     "outputs": [
      {
       "output_type": "stream",
       "stream": "stdout",
       "text": [
        "Er= 14.59\n",
        "eta=  98.7 ohms\n",
        "The time-average power = 81.0 ax mW/m^2\n",
        "The total power crossing 100 cm^2 of the plane = 725.0 micro W\n"
       ]
      }
     ],
     "prompt_number": 6
    },
    {
     "cell_type": "markdown",
     "metadata": {},
     "source": [
      "<h3>Example 10.10, Page number: 458<h3>"
     ]
    },
    {
     "cell_type": "code",
     "collapsed": false,
     "input": [
      " \n",
      "import scipy \n",
      "from numpy import *\n",
      "\n",
      "#Variable Declaration\n",
      "\n",
      "ax=array([1,0,0])               #Unit vector along x direction\n",
      "ay=array([0,1,0])               #Unit vector along y direction\n",
      "az=array([0,0,1])               #Unit vector along z direction\n",
      "kx=0                            #in m^-1\n",
      "ky=0.866                        #in m^-1\n",
      "kz=0.5                          #in m^-1\n",
      "Eo=10**-9/(36*scipy.pi)         #permittivity of free space in farad/m\n",
      "Uo=4*scipy.pi*10**-7            #permeability of free space\n",
      "c=1/(scipy.sqrt(Uo*Eo))         #speed of light in m/s\n",
      "kvect=kx*ax+ky*ay+kz*az         #propogation vector in m^-1\n",
      "Eo=100                          #amplitude of electric field\n",
      "\n",
      "#Calculations\n",
      "\n",
      "k=round(scipy.sqrt(kx*kx+ky*ky+kz*kz),0)  #magnitude of k in m^-1\n",
      "w=k*c                                     #omega in rad/sec\n",
      "lam=2*scipy.pi/k                          #wavelength in m\n",
      "Ho=cross(kvect,Eo*ax*10)/(Uo*w)           #amplitude of magnetic field in mA/m\n",
      "Hoy=round(dot(Ho,ay),2)                   #y component of Ho\n",
      "Hoz=round(dot(Ho,az),1)                   #z component of Ho\n",
      "Hr=array([0,Hoy,Hoz])                     #Ho with components rounded off\n",
      "P=Eo**2/(2*120*scipy.pi)*kvect            #average power in W/m^2\n",
      "Py=round(dot(P,ay),2)                     #y component of P\n",
      "Pz=round(dot(P,az),3)                     #z component of P\n",
      "Pr=array([0,Py,Pz])                       #P with components rounded off\n",
      "\n",
      "#Results\n",
      "\n",
      "print 'w =',w,'rad/sec'\n",
      "print 'lambda =',round(lam,3),'m'\n",
      "print 'The magnetic field component =',Hr,'e^j(0.866x-0.5z) mA/m'\n",
      "print 'The time average power in the wave =',Pr,'W/m^2'"
     ],
     "language": "python",
     "metadata": {},
     "outputs": [
      {
       "output_type": "stream",
       "stream": "stdout",
       "text": [
        "w = 300000000.0 rad/sec\n",
        "lambda = 6.283 m\n",
        "The magnetic field component = [ 0.    1.33 -2.3 ] e^j(0.866x-0.5z) mA/m\n",
        "The time average power in the wave = [  0.     11.49    6.631] W/m^2\n"
       ]
      }
     ],
     "prompt_number": 7
    },
    {
     "cell_type": "heading",
     "level": 3,
     "metadata": {},
     "source": [
      "Example 10.11, Page number: 459"
     ]
    },
    {
     "cell_type": "code",
     "collapsed": false,
     "input": [
      " \n",
      "import scipy\n",
      "\n",
      "#Variable Declaration\n",
      "\n",
      "ax=array([1,0,0])               #Unit vector along x direction\n",
      "ay=array([0,1,0])               #Unit vector along y direction\n",
      "az=array([0,0,1])               #Unit vector along z direction\n",
      "Ei=8                            #incident wave amplitude\n",
      "k=5                             #propogation constant\n",
      "Eo=10**-9/36*scipy.pi           #permittivity of free space\n",
      "Erel=2.5                        #relative permittivity\n",
      "muo=4*scipy.pi*10**-7           #permeability of free space\n",
      "mur=1                           #relative permeability\n",
      "c=3*10**8                       #speed of light\n",
      "etao=377\n",
      "\n",
      "#Calculations\n",
      "\n",
      "w=k*c                           #frequency in rad\n",
      "theta=scipy.arctan(4/3.0)       #angle of incidence in rad\n",
      "eta1=etao\n",
      "eta2=377/scipy.sqrt(2.5)\n",
      "thetai=scipy.arcsin(sin(theta)/scipy.sqrt(2.5))\n",
      "gamm=(eta2*cos(theta)-eta1*cos(thetai))/(eta2*cos(theta)+eta1*cos(thetai))\n",
      "Er=Ei*gamm                      #reflected E field amplitude in V/m\n",
      "kt=w*scipy.sqrt(mur*Erel)/c\n",
      "tao=2*eta2*cos(theta)/((eta2*cos(theta)+eta1*cos(thetai)))\n",
      "Et=tao*Ei*ay\n",
      "Ht=cross((4*ax+6.819*az)/(eta2*kt),Et)*10**3\n",
      "Htx=round(dot(Ht,ax),2)\n",
      "Hty=round(dot(Ht,ay),2)\n",
      "Htz=round(dot(Ht,az),2)\n",
      "Htc=array([Htx,Hty,Htz])        #transmitted H field amplitude\n",
      "\n",
      "#Results\n",
      "\n",
      "print 'Polarisation is perpendicular polarization'\n",
      "print 'Angle of incidence is ',round(180*theta/scipy.pi,2),'degrees'\n",
      "print 'Er =',round(Er,3),'cos(',w,'t - 4x + 3z) V/m'\n",
      "print 'Ht =',Htc,'cos(',w,'t - 4x - 6.819z) mA/m'\n",
      "\n"
     ],
     "language": "python",
     "metadata": {},
     "outputs": [
      {
       "output_type": "stream",
       "stream": "stdout",
       "text": [
        "Polarisation is perpendicular polarization\n",
        "Angle of incidence is  53.13 degrees\n",
        "Er = -3.112 cos( 1500000000 t - 4x + 3z) V/m\n",
        "Ht = [-17.68   0.    10.37] cos( 1500000000 t - 4x - 6.819z) mA/m\n"
       ]
      }
     ],
     "prompt_number": 25
    }
   ],
   "metadata": {}
  }
 ]
}