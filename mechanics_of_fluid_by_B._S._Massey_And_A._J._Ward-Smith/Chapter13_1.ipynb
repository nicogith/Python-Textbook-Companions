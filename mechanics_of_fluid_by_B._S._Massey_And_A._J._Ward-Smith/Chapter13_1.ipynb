{
 "metadata": {
  "name": "",
  "signature": "sha256:6ab6ca7ec50b12b4ad5664b1412855d8b1bafd30fee8faf6c1773c772ff215d4"
 },
 "nbformat": 3,
 "nbformat_minor": 0,
 "worksheets": [
  {
   "cells": [
    {
     "cell_type": "heading",
     "level": 2,
     "metadata": {},
     "source": [
      "Chapter13-Fluid Machines"
     ]
    },
    {
     "cell_type": "heading",
     "level": 2,
     "metadata": {},
     "source": [
      "Ex1-pg618"
     ]
    },
    {
     "cell_type": "code",
     "collapsed": false,
     "input": [
      "import math\n",
      "#calculate Hydraulic Efficiency and  Overall Efficiency and Outlet angles of the guide vanes and Rotor blade angle at inlet and oulet\n",
      "\n",
      "## Maximum hydraulic efficiency occurs for minimum pressure loss, that is, when\n",
      "\n",
      "## dp1/dQ=2.38Q-1.43=0\n",
      "\n",
      "Q_opt=1.43/2.38;\n",
      "\n",
      "p1_min=1.19*Q_opt**2-1.43*Q_opt+0.47; ## MPa\n",
      "\n",
      "rho=1000.; ## kg/m**3\n",
      "g=9.81; ## m/s**2\n",
      "w=69.1; ## rad/s\n",
      "P=200.*10.**3.; ## W\n",
      "Ohm_P=0.565; ## rad\n",
      "d=0.5; ## m\n",
      "h=0.06; ## m\n",
      "\n",
      "p1=p1_min*10.**6./(rho*g); ## mH2O, coversion of units\n",
      "\n",
      "H=(w*P**(1/2.)/(rho**(1/2.)*Ohm_P))**(4/5.)/g;\n",
      "\n",
      "Hydraulic_efficiency=(H-p1)/H;\n",
      "print'%s %.3f %s'%(\"Hydraulic Efficiency =\",Hydraulic_efficiency,\"\")\n",
      "\n",
      "\n",
      "Overall_efficiency=P/(Q_opt*rho*g*H);\n",
      "print'%s %.3f %s'%(\"Overall Efficiency =\",Overall_efficiency,\"\")\n",
      "\n",
      "\n",
      "H_Euler=H-p1;\n",
      "\n",
      "u1=w*0.25;\n",
      "v_w1=g*H_Euler/u1;\n",
      "A=math.pi*d*h*0.95; \n",
      "v_r=Q_opt/A;\n",
      "\n",
      "alpha1=math.atan(v_r/v_w1);\n",
      "print'%s %.3f %s'%(\"Outlet angles of the guide vanes =\",alpha1,\"degrees\")\n",
      "\n",
      "beta1=math.atan(v_r/(v_w1-u1));\n",
      "print'%s %.2f %s'%(\"Rotor blade angle at inlet =\",beta1,\"degrees\")\n",
      "\n",
      "u2=w*0.325/2;\n",
      "beta2=math.atan(v_r/u2);\n",
      "print'%s %.3f %s'%(\"Rotor blade angle at outlet =\",beta2,\"degrees\")\n",
      "\n"
     ],
     "language": "python",
     "metadata": {},
     "outputs": [
      {
       "output_type": "stream",
       "stream": "stdout",
       "text": [
        "Hydraulic Efficiency = 0.896 \n",
        "Overall Efficiency = 0.855 \n",
        "Outlet angles of the guide vanes = 0.321 degrees\n",
        "Rotor blade angle at inlet = 1.16 degrees\n",
        "Rotor blade angle at outlet = 0.539 degrees\n"
       ]
      }
     ],
     "prompt_number": 1
    },
    {
     "cell_type": "heading",
     "level": 2,
     "metadata": {},
     "source": [
      "Ex2-pg622"
     ]
    },
    {
     "cell_type": "code",
     "collapsed": false,
     "input": [
      "import math\n",
      "#calculate Overall efficiency and Limiting value for the height of the draft tube above\n",
      "w=6.25;\n",
      "D=0.75; ## m\n",
      "gv_angle=15; ## guide vane angle in degrees\n",
      "g=9.81; ## m/s^2\n",
      "H=27.5; ## m\n",
      "A1=0.2; ## m^2\n",
      "rho=1000.; ## kg/m^3\n",
      "p_atm=101.3*10**3.;\n",
      "p_min=35.*10.**3.;\n",
      "\n",
      "u1=math.pi*w*D;\n",
      "v1=u1*math.sin(105.)/math.sin(60.);\n",
      "v_r1=v1*math.sin(gv_angle);\n",
      "v_w1=v1*math.cos(gv_angle);\n",
      "v_w2=0.;\n",
      "\n",
      "n_hydraulic=u1*v_w1/g/H;\n",
      "\n",
      "n_overall=0.97*n_hydraulic;\n",
      "print'%s %.1f %s'%(\"Overall efficiency =\",n_overall,\"\")\n",
      "\n",
      "\n",
      "Q=A1*v_r1;\n",
      "\n",
      "P=n_overall*Q*rho*g*H;\n",
      "Ohm_P=w*2.*math.pi/(g*H)**(5/4)*(P/rho)**(1/2);\n",
      "\n",
      "## sigma > 0.119*(0.5)^(1.84) = 0.0331\n",
      "\n",
      "sigma=0.0331;\n",
      "\n",
      "##((p_atm-p_min)/(rho*g)-z0)/H > 0.0331\n",
      "\n",
      "z0=((p_atm-p_min)/(rho*g))-sigma*H;\n",
      "print'%s %.2f %s'%(\"Limiting value for the height of the draft tube above =\",z0,\"m\")\n",
      "\n"
     ],
     "language": "python",
     "metadata": {},
     "outputs": [
      {
       "output_type": "stream",
       "stream": "stdout",
       "text": [
        "Overall efficiency = -1.9 \n",
        "Limiting value for the height of the draft tube above = 5.85 m\n"
       ]
      }
     ],
     "prompt_number": 2
    }
   ],
   "metadata": {}
  }
 ]
}