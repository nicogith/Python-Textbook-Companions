{
 "metadata": {
  "name": "Chapter11"
 },
 "nbformat": 3,
 "nbformat_minor": 0,
 "worksheets": [
  {
   "cells": [
    {
     "cell_type": "heading",
     "level": 1,
     "metadata": {},
     "source": "Chapter 11:SOLVED EXAMPLES"
    },
    {
     "cell_type": "heading",
     "level": 2,
     "metadata": {},
     "source": "Example 1, Page No:404"
    },
    {
     "cell_type": "code",
     "collapsed": false,
     "input": "import math\n\n# variable declaration\nF          = 10*10**9;      # radar operating frequency in Hz\nVo         = 3*10**8;       # vel in m/s\nG          = 20;            # antenna gain in dBi\nR          = 20*10**3;      # distance of radar reflected signal from target\nPt         = 10*10**3       # Tx power in watts\nCS         = 10;            # cross sectional area in m^2\n\n# Calculations\n\nGain      = 10**(G/10)      # G = 10log(Gain) ==>gain - antilog(20/10)\nGr        = Gain;           # gain of tx antenna and Rx antenna\nGt        = Gain;\nlamda     = float(Vo)/F;\nPr        = (lamda*lamda*Pt*Gt*Gr*CS)/((4*4*4*math.pi*math.pi*math.pi)*(R**4));   #received power in watts\n\n# result\n\nprint'Received signal Power is %3.5g' %Pr;\nprint'Note : Calculation error in Textbook';\n\n\n",
     "language": "python",
     "metadata": {},
     "outputs": [
      {
       "output_type": "stream",
       "stream": "stdout",
       "text": "Received signal Power is 2.8346e-15\nNote : Calculation error in Textbook\n"
      }
     ],
     "prompt_number": 4
    },
    {
     "cell_type": "heading",
     "level": 2,
     "metadata": {},
     "source": "Example 2, Page No:405"
    },
    {
     "cell_type": "code",
     "collapsed": false,
     "input": "import math\n\n#variable declaration\nVo       = 3*10**8;      #velocity of EM wave in m/s\nt        = 20*10**-6;    #echo time in sec\n\n# calculations\n\nR = (Vo*t)/2;            #distance b/n target and Radar in m\n\n# Output\nprint'Distance of Target from the Radar is ', R/1000,'km' ;\n",
     "language": "python",
     "metadata": {},
     "outputs": [
      {
       "output_type": "stream",
       "stream": "stdout",
       "text": "Distance of Target from the Radar is  3.0 km\n"
      }
     ],
     "prompt_number": 18
    },
    {
     "cell_type": "heading",
     "level": 2,
     "metadata": {},
     "source": "Example 3,Page No:405"
    },
    {
     "cell_type": "code",
     "collapsed": false,
     "input": "import math\n\n# variable declaration\n\nVo       = 3*10**8;         #velocity of EM wave in m/s\nF        = 0.8*10**3;       #pulse repetitive frequency\nTp       = 1.2*10**-6;      #pulse width in sec\n\n# calculations\nRmax = Vo/(2*F);             # maximum Range of Radar in m\nRmin = (Vo*Tp)/2;            # minimum Range of radar in m\n\n# Output\n\nprint'Maximum Range of Radar is ',Rmax/1000,'Km';\nprint'Minimum Range of the Radar is',Rmin,'m';\n",
     "language": "python",
     "metadata": {},
     "outputs": [
      {
       "output_type": "stream",
       "stream": "stdout",
       "text": "Maximum Range of Radar is  187.5 Km\nMinimum Range of the Radar is 180.0 m\n"
      }
     ],
     "prompt_number": 5
    },
    {
     "cell_type": "heading",
     "level": 2,
     "metadata": {},
     "source": "Example 4,Page No:405"
    },
    {
     "cell_type": "code",
     "collapsed": false,
     "input": "import math\n\n# variable declaration\n\nPW     = 1.5*10**-6;      #pulse width in sec\nPRF    = 2000;           #per second\n\n# calculations\nDc = PW*PRF;             #duty cycle\n\n# Output\nprint'Duty Cycle is  %3.4e' %Dc; ",
     "language": "python",
     "metadata": {},
     "outputs": [
      {
       "output_type": "stream",
       "stream": "stdout",
       "text": "Duty Cycle is  3.0000e-03\n"
      }
     ],
     "prompt_number": 6
    },
    {
     "cell_type": "heading",
     "level": 2,
     "metadata": {},
     "source": "Example 5,Page No:406"
    },
    {
     "cell_type": "code",
     "collapsed": false,
     "input": "import math\n\n# variable declaration\n\nPW  =  2*10**-6;        #pulse width in sec\nPRF =  1000;           #pulse repetitive frequency \nPp  = 1*10**6;          #peak power in watts\n\n# Calculations\nDc        =  PW*PRF;        # duty cycle\nAvgTp     = Pp*Dc;          # average transmitted power in watts\n\n# Output\nprint'Average Transmitted power is ',AvgTp/1000,'KW';\n",
     "language": "python",
     "metadata": {},
     "outputs": [
      {
       "output_type": "stream",
       "stream": "stdout",
       "text": "Average Transmitted power is  2.0 KW\n"
      }
     ],
     "prompt_number": 38
    },
    {
     "cell_type": "heading",
     "level": 2,
     "metadata": {},
     "source": "Example 6,Page No:406"
    },
    {
     "cell_type": "code",
     "collapsed": false,
     "input": "import math \n\n#variable declaration\n\nPW  = 2*10**-6;      #pulse width in sec\nVo  = 3*10**8;       #velocity of EM wave in m/s\n\n#Calculations\n\nRR  = (Vo*PW)/2;    #Range Resolution in m\n\n# result\nprint'Range Resolution is ',RR,'m';",
     "language": "python",
     "metadata": {},
     "outputs": [
      {
       "output_type": "stream",
       "stream": "stdout",
       "text": "Range Resolution is  300.0 m\n"
      }
     ],
     "prompt_number": 41
    },
    {
     "cell_type": "heading",
     "level": 2,
     "metadata": {},
     "source": "Example 7,Page No:406"
    },
    {
     "cell_type": "code",
     "collapsed": false,
     "input": "import math\n\n# variable declaration\n\nt   = 50*10**-6;    #echo time in sec\nVo  = 3*10**8;      #velocity of EM wave in m/s\n\n# Calculations\n\nR  = (Vo*t)/2;      #Range in m\n\n# result\n\nprint'Target Range is ',R/1000,'Kms';",
     "language": "python",
     "metadata": {},
     "outputs": [
      {
       "output_type": "stream",
       "stream": "stdout",
       "text": "Target Range is  7.5 Kms\n"
      }
     ],
     "prompt_number": 44
    },
    {
     "cell_type": "heading",
     "level": 2,
     "metadata": {},
     "source": "Example 8,Page No:406"
    },
    {
     "cell_type": "code",
     "collapsed": false,
     "input": "import math\n\n# variable declaration\n\nTvel  = 1000;        #target speed in kmph\nF     = float(10*10**9);     #radar operating frequency in hz\nVo    = 3*10**8;      #velocity of EM wave in m/s\n\n#Calculations\n\nVr    = 1000*(5/float(18));      #target speed in m/s\nFd    = float(2*Vr*F)/float(Vo);      #Doppler Frequency shift in Hz\n\n#result\nprint'Doppler Frequency shift Caused by aircraft is %g' %(Fd/1000),'KHz';",
     "language": "python",
     "metadata": {},
     "outputs": [
      {
       "output_type": "stream",
       "stream": "stdout",
       "text": "Doppler Frequency shift Caused by aircraft is 18.5185 KHz\n"
      }
     ],
     "prompt_number": 178
    },
    {
     "cell_type": "heading",
     "level": 2,
     "metadata": {},
     "source": "Example 9,Page No:407"
    },
    {
     "cell_type": "code",
     "collapsed": false,
     "input": "import math\n\n# variable declaration\n\nF  = 6*10**9;       # Transmitting Frequency of Radar\nVr = 250;          # velocity of automobile in Kmph\nVo    = 3*10**8;    #velocity of EM wave in m/s\n\n#Calculations\n\nVa    = Vr*(5/float(18));      #velocity of automobile in m/s\nFd    = (2*Va*F)/float(Vo);    #Doppler Frequency shift in Hz\n\n#result\nprint'Doppler Frequency shift is %3.3f ' %(Fd/10**3),'KHz';",
     "language": "python",
     "metadata": {},
     "outputs": [
      {
       "output_type": "stream",
       "stream": "stdout",
       "text": "Doppler Frequency shift is 2.778  KHz\n"
      }
     ],
     "prompt_number": 196
    },
    {
     "cell_type": "heading",
     "level": 2,
     "metadata": {},
     "source": "Example 10,Page No:407"
    },
    {
     "cell_type": "code",
     "collapsed": false,
     "input": "import math\n\n# variable declaration\n\nF  = 9*10**9;        #Transmitting Frequency of Radar\nVr = 800;            #velocity of aircraft in Kmph\nVo = 3*10**8;       #velocity of EM wave in m/s\n\n#Calculations\n\nVa    = Vr*(5/float(18));     #velocity of aircraft in m/s\nFd    = (2*Va*F)/float(Vo);   #Doppler Frequency shift in Hz\nFr    = F+Fd;         #frequency of reflected echo in Hz\n\n#result\nprint'Doppler Frequency shift is %3.2e'%Fd,'Hz';\nprint'frequency of reflectedecho is %4e'%(Fr/1000),'Khz';\nprint'Note: doppler frequency shift wrongly printed in Text Book as 1333.3 Hz';",
     "language": "python",
     "metadata": {},
     "outputs": [
      {
       "output_type": "stream",
       "stream": "stdout",
       "text": "Doppler Frequency shift is 1.33e+04 Hz\nfrequency of reflectedecho is 9.000013e+06 Khz\nNote: doppler frequency shift wrongly printed in Text Book as 1333.3 Hz\n"
      }
     ],
     "prompt_number": 7
    },
    {
     "cell_type": "heading",
     "level": 2,
     "metadata": {},
     "source": "Example 11,Page No:407"
    },
    {
     "cell_type": "code",
     "collapsed": false,
     "input": "import math\n\n#variable declaration\n\nF  = 2*10**9;        #Transmitting Frequency of Radar\nVr = 350;            #velocity of sports Car in Kmph\nVo = 3*10**8;         #velocity of EM wave in m/s\n\n#Calculations\n\nVa    = Vr*(5/float(18));    #velocity of aircraft in m/s\nFd    = (2*Va*F)/float(Vo);  #Doppler Frequency shift in Hz\n#Car moving away from Radar\n\nFr    = F-Fd;       #frequency of reflected signal in Hz\n\n#result\n\nprint'Doppler Frequency shift is %g'%Fd,'Hz';\nprint'frequency of reflected echo is %3.3g'%(Fr/10**9),'GHz','-',Fd,'Hz';\nprint'Note: doppler frequency shift wrongly printed in Text Book as 129.6 Hz\\nVr is printed as 9.72 m/s instead of 97.2 m/s';",
     "language": "python",
     "metadata": {},
     "outputs": [
      {
       "output_type": "stream",
       "stream": "stdout",
       "text": "Doppler Frequency shift is 1296.3 Hz\nfrequency of reflected echo is   2 GHz - 1296.2962963 Hz\nNote: doppler frequency shift wrongly printed in Text Book as 129.6 Hz\nVr is printed as 9.72 m/s instead of 97.2 m/s\n"
      }
     ],
     "prompt_number": 9
    },
    {
     "cell_type": "heading",
     "level": 2,
     "metadata": {},
     "source": "Example 12,Page No:408"
    },
    {
     "cell_type": "code",
     "collapsed": false,
     "input": "import math\n\n#variable declaration\nPRF   =  2000;      #pulse repetition frequency per second\nPW    =  1*10**-6;  #pulse width in sec\nPp    =  500*10**3;  #Peak power in watts\n\n#Calculations\n\nDc    =  PW*PRF;      #Duty Cycle\nPav   =  Pp*Dc;       #average power in watts\npavdB = 10*math.log10(Pav);\n\n#result\n\nprint'Average power is ',Pav/1000,'KW';\nprint'Average Power is ',pavdB,'dB';\n",
     "language": "python",
     "metadata": {},
     "outputs": [
      {
       "output_type": "stream",
       "stream": "stdout",
       "text": "Average power is  1.0 KW\nAverage Power is  30.0 dB\n"
      }
     ],
     "prompt_number": 10
    },
    {
     "cell_type": "heading",
     "level": 2,
     "metadata": {},
     "source": "Example 13,Page No:408"
    },
    {
     "cell_type": "code",
     "collapsed": false,
     "input": "import math\n\n#variable declaration\n\nPRF   =  1000;      #pulse repetition frequency per second\nPW    =  0.8*10**-6;    #pulse width in sec\nPp    =  10*10**6;  #Peak power in watts\nVo    =  3*10**8;    #velocity of EM wave in m/s;\n\n#Calculations\n\nDc    =  PW*PRF;     #Duty Cycle\nPav   =  Pp*Dc;  #average power in watts\nRmax  =  Vo/(2*PRF);\n\n\n#result\nprint'Average power is ',Pav/1000,' KW';\nprint'Maximum Radar Range is ',Rmax/1000,'Km';\n",
     "language": "python",
     "metadata": {},
     "outputs": [
      {
       "output_type": "stream",
       "stream": "stdout",
       "text": "Average power is  8.0  KW\nMaximum Radar Range is  150 Km\n"
      }
     ],
     "prompt_number": 11
    },
    {
     "cell_type": "heading",
     "level": 2,
     "metadata": {},
     "source": "Example 14,Page No:409"
    },
    {
     "cell_type": "code",
     "collapsed": false,
     "input": "import math\n\n# variable declaration\n\nRmax  =  500*10**3; #maximum Range of Radar in ms\nVo    =  3*10**8;     #Velocity of EM wave in m/s\n\n#Calculations\n\nPRF   = Vo/(2*Rmax);     #pulse repetitive frequency in Hz\n\n#result\n\nprint'Pulse repetive frequency required for the range of 500km is ',PRF,'Hz';\n",
     "language": "python",
     "metadata": {},
     "outputs": [
      {
       "output_type": "stream",
       "stream": "stdout",
       "text": "Pulse repetive frequency required for the range of 500km is  300 Hz\n"
      }
     ],
     "prompt_number": 37
    },
    {
     "cell_type": "heading",
     "level": 2,
     "metadata": {},
     "source": "Example 15,Page No:409"
    },
    {
     "cell_type": "code",
     "collapsed": false,
     "input": "import math\n\n#variable declaration\n\nTe    =  0.2*10**-3;    #echo time in sec\nPRF   =  1000;         #pulse repetitive Frequency in Hz\nVo    =  3*10**8;      #Velocity of EM wave in m/s\n\n#Calculations\n\nR     =  (Vo*Te)/2;       #Range of the target in m\nRunamb  =  (Vo/(2*PRF));  #Maximum unambiguous Range in m\n\n#result\n\nprint'Target range is ',R/1000,' Km';\nprint'Maximum Unambiguous Range is  ',Runamb/1000,'Km';",
     "language": "python",
     "metadata": {},
     "outputs": [
      {
       "output_type": "stream",
       "stream": "stdout",
       "text": "Target range is  30.0  Km\nMaximum Unambiguous Range is   150 Km\n"
      }
     ],
     "prompt_number": 12
    },
    {
     "cell_type": "heading",
     "level": 2,
     "metadata": {},
     "source": "Example 16,Page No:409"
    },
    {
     "cell_type": "code",
     "collapsed": false,
     "input": "import math\n\n#variable declaration\n\nF     = 10*10**9;      #operating frequency of radar in Hz\nVo    =  3*10**8;       #Velocity of EM wave in m/s\nVr    =  100;           #velocity of car in kmph\n\n#Calculations\n\nlamda = Vo/float(F);         #wavelength in m\nVc    = Vr*(5/float(18));    #velocity of car in m/s\nFd    = (2*Vc)/float(lamda);  #doppler shift in Hz\n\n#result\n\nprint'Doppler Shift is %3.2f '%(Fd/1000),' KHz';\nprint'Frequency of the Received echo when car is approaching radar is %g'%(F/10^9),'Ghz','+',Fd/1000,' Khz';\nprint'Frequency of the Received echo when car is moving away from radar is %g '%(F/10^9),'Ghz','-',Fd/1000,'Khz';",
     "language": "python",
     "metadata": {},
     "outputs": [
      {
       "output_type": "stream",
       "stream": "stdout",
       "text": "Doppler Shift is 1.85   KHz\nFrequency of the Received echo when car is approaching radar is 1e+09 Ghz + 1.85185185185  Khz\nFrequency of the Received echo when car is moving away from radar is 1e+09  Ghz - 1.85185185185 Khz\n"
      }
     ],
     "prompt_number": 13
    },
    {
     "cell_type": "heading",
     "level": 2,
     "metadata": {},
     "source": "Example 17,Page No:410"
    },
    {
     "cell_type": "code",
     "collapsed": false,
     "input": "import math\n\n#variable declaration\n\nD   =  200;   #azimuth distance between two radars\nR   =  10*10**3;    #Range of radar\n\n\n#Calculations\nBWdB = (float(D)/R)*(180/math.pi);   #3dB beam width in degrees\n\n#result\nprint'Maximum 3db beamwidth of radar resolving the target is %3.3f'%BWdB, 'degrees';\n",
     "language": "python",
     "metadata": {},
     "outputs": [
      {
       "output_type": "stream",
       "stream": "stdout",
       "text": "Maximum 3db beamwidth of radar resolving the target is 1.146 degrees\n"
      }
     ],
     "prompt_number": 18
    },
    {
     "cell_type": "heading",
     "level": 2,
     "metadata": {},
     "source": "Example 18,Page No:410"
    },
    {
     "cell_type": "code",
     "collapsed": false,
     "input": "import math\n\n#variable declaration\n\nF     = 10*10**9;    #operating frequency of radar in Hz\nVo    =  3*10**8;    #Velocity of EM wave in m/s\nVr1    =  100;       #velocity of one aircraft in m/s\ntheta  = 45;         #angle b/n velocity vector and radar axis for second aircraft\nVr     = 200;        #vel in m/s\n\n#Calculations\n\nlamda = Vo/float(F);                #wavelength in m\nFd1   = (2*Vr1)/float(lamda);       #doppler shift due to 1st aircraft\nVr2   = Vr*math.cos(45*math.pi/180);  #radial velocity of the second aircraft\nFd2   = (2*Vr2)/float(lamda);       #doppler shift due to 2nd aircraft\nFd    = Fd2-Fd1;             #difference in doppler shift in Hz\nT     = 1/float(Fd);                #time required to resolve the aircraft in sec\n\n#result\nprint'Minimum time required to resolve the aircrafts is %g'%(T*10**6),'usec';\nprint'Note: in textbook there is a mistake in the calculation of doppler shift Fd1';",
     "language": "python",
     "metadata": {},
     "outputs": [
      {
       "output_type": "stream",
       "stream": "stdout",
       "text": "Minimum time required to resolve the aircrafts is 362.132 usec\nNote: in textbook there is a mistake in the calculation of doppler shift Fd1\n"
      }
     ],
     "prompt_number": 19
    },
    {
     "cell_type": "heading",
     "level": 2,
     "metadata": {},
     "source": "Example 19,Page No:410"
    },
    {
     "cell_type": "code",
     "collapsed": false,
     "input": "import math\n\n#variable declareation\n\nPp  = 100*10**3;  #peak power in watts\nPav = 100;        #average power in watts\n\n#Calculations\n\nPdB = 10*math.log10(Pp);      #peak power in dB\nPavdB = 10*math.log10(Pav);    #average power in dB;\nDCC  = PdB-PavdB;        #Duty Cycle Correction factor\n\n#result\nprint'Duty Cycle Correction Factor is ',DCC, 'dB';\nprint'Note: In question given peak power  is 100KW but while solving 1KW is taken instead of 100KW';",
     "language": "python",
     "metadata": {},
     "outputs": [
      {
       "output_type": "stream",
       "stream": "stdout",
       "text": "Duty Cycle Correction Factor is  30.0 dB\nNote: In question given peak power  is 100KW but while solving 1KW is taken instead of 100KW\n"
      }
     ],
     "prompt_number": 22
    },
    {
     "cell_type": "heading",
     "level": 2,
     "metadata": {},
     "source": "Example 20,Page No:411"
    },
    {
     "cell_type": "code",
     "collapsed": false,
     "input": "import math\n\n#variable declaration\nPp   = 1*10**6;   #peak power in watts\nPW   = 1*10**-6;   #pulse width in sec\nNPd   = 20;      #pulses in one dwell period\nPRF  = 1000;      #pulse repetitive frequency\n\n#calculations\nPE   = Pp*PW;     #pulse energy in joule\nPED  = NPd*PE;      #pulse energy in one dwell period\nD    = PW*PRF;     #Duty cycle\nPav  = Pp*D;      #average power in watts\n\n#output\nprint'Average Power is ',Pav,'watts';\nprint'Duty Cycle is %2.2e'%D;\nprint'Pulse Energy is ',PE,' Joules';\nprint'Pulse Energy in one Dwell Period is  ',PED,'Joules';\nprint'Note: In textbook Values of PRF and pulses in one dwell period are varied from given values in question while solving ' ;",
     "language": "python",
     "metadata": {},
     "outputs": [
      {
       "output_type": "stream",
       "stream": "stdout",
       "text": "Average Power is  1000.0 watts\nDuty Cycle is 1.00e-03\nPulse Energy is  1.0  Joules\nPulse Energy in one Dwell Period is   20.0 Joules\nNote: In textbook Values of PRF and pulses in one dwell period are varied from given values in question while solving \n"
      }
     ],
     "prompt_number": 25
    },
    {
     "cell_type": "heading",
     "level": 2,
     "metadata": {},
     "source": "Example 21,Page No:411"
    },
    {
     "cell_type": "code",
     "collapsed": false,
     "input": "import math\n\n#variable declaration\nNoise_power = -50;      #noise power in dBm\nFl = 1*10**6;#lower cutoff frequency in Hz\nFh = 21*10**6;#upper cutoff frequency in Hz\n\n#calculation\nBW = Fh-Fl;#bandwidth\nNP =10**-8;#noise power in watts; -50dBm = 10log10(NP) =>10^-5 mwatts\nNPSD = NP/BW;#noise power spectral density in W/Hz\n\n#result\nprint'Noise Power Spectral Density is %3.0e'%NPSD,' W/Hz';\n",
     "language": "python",
     "metadata": {},
     "outputs": [
      {
       "output_type": "stream",
       "stream": "stdout",
       "text": "Noise Power Spectral Density is 5e-16  W/Hz\n"
      }
     ],
     "prompt_number": 23
    },
    {
     "cell_type": "heading",
     "level": 2,
     "metadata": {},
     "source": "Example 22,Page No: 411"
    },
    {
     "cell_type": "code",
     "collapsed": false,
     "input": "import math\n\n#variable declaration\n\nRa = 1000;    #Range of target A in Kms\n\n#Calculations\nRb =Ra*math.cos(45*math.pi/180);      #range of target B in kms\n\n#result\nprint'Range of target B is %g '%Rb,'Kms';\nprint'Note:value of cos(45) is incorrectly taken as 1/2 in textbook';",
     "language": "python",
     "metadata": {},
     "outputs": [
      {
       "output_type": "stream",
       "stream": "stdout",
       "text": "Range of target B is 707.107  Kms\nNote:value of cos(45) is incorrectly taken as 1/2 in textbook\n"
      }
     ],
     "prompt_number": 26
    },
    {
     "cell_type": "heading",
     "level": 2,
     "metadata": {},
     "source": "Example 23,Page No:412"
    },
    {
     "cell_type": "code",
     "collapsed": false,
     "input": "import math\n\n#variable declaration\n\nAz      = 60;   #azimuth angle of the target in degrees\nHeight  = 10;#height of target in kms\n\n#Calculations\nR      = 10/math.sin(Az*math.pi/180);\n\n#result\n\nprint'Range of the Target is %g '%R,'Kms';\n",
     "language": "python",
     "metadata": {},
     "outputs": [
      {
       "output_type": "stream",
       "stream": "stdout",
       "text": "Range of the Target is 11.547  Kms\n"
      }
     ],
     "prompt_number": 35
    },
    {
     "cell_type": "heading",
     "level": 2,
     "metadata": {},
     "source": "Example 24,Page No:412"
    },
    {
     "cell_type": "code",
     "collapsed": false,
     "input": "import math\n\n#variable declaration\nF = 10*10**9;     #MTI radar operating Frequency\nVo = 3*10**8;      #velocity of EM wave in m/s;\nPRF = 2*10**3;     #pulse repetitive frequency in hz\nn=1;               #for lowest blind speed\n\n#Calculations\n\nlamda = Vo/float(F);                #wavelength in m\nBS   =((n*lamda)/float(2))*PRF;     #blind speed\n\n#result\nprint'Lowest Blind Speed is ',BS,'m/s';",
     "language": "python",
     "metadata": {},
     "outputs": [
      {
       "output_type": "stream",
       "stream": "stdout",
       "text": "Lowest Blind Speed is  30.0 m/s\n"
      }
     ],
     "prompt_number": 210
    },
    {
     "cell_type": "heading",
     "level": 2,
     "metadata": {},
     "source": "Example 25,Page No:412"
    },
    {
     "cell_type": "code",
     "collapsed": false,
     "input": "import math\n\n# variable declaration\n\nPRF = 2*10**3; # pulse repetitive frequency in Hz\nVo  = 3*10**8;   #velocity of EM wave in m/s\nprint'f1 = first operating frequency of MTI Radar\\n';\nprint' f2 = second operating frequency of MTI Radar\\n';\nprint' 2nd blind speed of 1st radar = (2Vo/2f1)*PRF\\n 5th blind speed of 2nd radar = (5Vo/2f2)*PRF\\n';\nprint' PRF(V0/f1) = (5/2)*(Vo/f2)*PRF\\n';\nprint' (f2/f1) = 5/2\\n';",
     "language": "python",
     "metadata": {},
     "outputs": [
      {
       "output_type": "stream",
       "stream": "stdout",
       "text": "f1 = first operating frequency of MTI Radar\n\n f2 = second operating frequency of MTI Radar\n\n 2nd blind speed of 1st radar = (2Vo/2f1)*PRF\n 5th blind speed of 2nd radar = (5Vo/2f2)*PRF\n\n PRF(V0/f1) = (5/2)*(Vo/f2)*PRF\n\n (f2/f1) = 5/2\n\n"
      }
     ],
     "prompt_number": 58
    },
    {
     "cell_type": "heading",
     "level": 2,
     "metadata": {},
     "source": "Example 26,Page No:413"
    },
    {
     "cell_type": "code",
     "collapsed": false,
     "input": "import math\n\n\nprint'(PRF1)  =  2(PRF2)\\n';\nprint' Vb3 = 4Vb5\\n';\nprint' (3Vo/2F1)(PRF1)) = 4(5Vo/2F2)(2PRF2)\\n';\nprint' 3/2F1  =  20/F2\\n';\nprint' Ratio of operating frequencies is F2/F1  =  40/3\\n';\n\n",
     "language": "python",
     "metadata": {},
     "outputs": [
      {
       "output_type": "stream",
       "stream": "stdout",
       "text": "(PRF1)  =  2(PRF2)\n\n Vb3 = 4Vb5\n\n (3Vo/2F1)(PRF1)) = 4(5Vo/2F2)(2PRF2)\n\n 3/2F1  =  20/F2\n\n Ratio of operating frequencies is F2/F1  =  40/3\n\n"
      }
     ],
     "prompt_number": 59
    },
    {
     "cell_type": "heading",
     "level": 2,
     "metadata": {},
     "source": "Example 27,Page No:413"
    },
    {
     "cell_type": "code",
     "collapsed": false,
     "input": "import math\n\n#variable declaration\nPW  = 5;    #FM pulse width before compression in us\nFl  = 40;    #lower cut off Frequency in Mhz\nFh  = 60;    #upper cut off Frequency in Mhz\n\n#Calculations\nBW   = Fh-Fl;       #bandwidth of signal in Mhz\nCPW  = 1/float(BW);        #Compression pulse width in us\nCR   = PW/float(CPW);     #compression ratio\n\n#result\nprint'Compression ratio is %g'%CR;\nprint'Compression Pulse Width is %g'%CPW,'us';",
     "language": "python",
     "metadata": {},
     "outputs": [
      {
       "output_type": "stream",
       "stream": "stdout",
       "text": "Compression ratio is 100\nCompression Pulse Width is 0.05 us\n"
      }
     ],
     "prompt_number": 27
    },
    {
     "cell_type": "heading",
     "level": 2,
     "metadata": {},
     "source": "Example 28,Page No:413"
    },
    {
     "cell_type": "code",
     "collapsed": false,
     "input": "import math\n\n#variable declaration\nBW = 100;   #band width in Mhz\nPW = 4;     #pulse width in us\n\n#Calculations\n\nCPW  = 1/float(BW);      #compressed pulse width in us\nCR   = PW/float(CPW);    #compression ratio\n\n#result\nprint'compressed pulse width is %g'%CPW,' us';\nprint'compression ratio is %g'%CR;\nprint'Note: In textbook compression ratio is wrongly printed as 40';\n",
     "language": "python",
     "metadata": {},
     "outputs": [
      {
       "output_type": "stream",
       "stream": "stdout",
       "text": "compressed pulse width is 0.01  us\ncompression ratio is 400\nNote: In textbook compression ratio is wrongly printed as 40\n"
      }
     ],
     "prompt_number": 28
    },
    {
     "cell_type": "heading",
     "level": 2,
     "metadata": {},
     "source": "Example 29,Page No:414"
    },
    {
     "cell_type": "code",
     "collapsed": false,
     "input": "import math\n\n#variable declaration\n\nCR = 50;      #compression ratio\nPW = 2;       #pulse width in us\n\n#Calculations\n\nCPW = PW/float(CR);    #compression pulse width in us\nBW  = 1/float(CPW);     # compression band width in Mhz\n\n#result\nprint'compressed pulse width is %g'%CPW,'us';\nprint'compression Bandwidth is %g'%BW,'MHz'",
     "language": "python",
     "metadata": {},
     "outputs": [
      {
       "output_type": "stream",
       "stream": "stdout",
       "text": "compressed pulse width is 0.04 us\ncompression Bandwidth is 25 MHz\n"
      }
     ],
     "prompt_number": 29
    },
    {
     "cell_type": "heading",
     "level": 2,
     "metadata": {},
     "source": "Example 30,Page No:414"
    },
    {
     "cell_type": "code",
     "collapsed": false,
     "input": "import math\n\n#variable declaration\nPW  = 1*10**-6;    #transmitted pulse width in sec\nVo  = 3*10**8;     #velocity of EM wave in m/s\n\n#Calculations\nRR  = (Vo*PW)/2;\n#result\nprint'Range Resolution is ',RR,' m';\nprint'As the targets are separated by 100m it is possible to resolve';",
     "language": "python",
     "metadata": {},
     "outputs": [
      {
       "output_type": "stream",
       "stream": "stdout",
       "text": "Range Resolution is  150.0  m\nAs the targets are separated by 100m it is possible to resolve\n"
      }
     ],
     "prompt_number": 30
    },
    {
     "cell_type": "heading",
     "level": 2,
     "metadata": {},
     "source": "Example 31,Page No:414"
    },
    {
     "cell_type": "code",
     "collapsed": false,
     "input": "import math\n\n# variable declaration\nF = 10*10**9;    #operating frequency in Hz\nPRF = 1000;   #pulse repetitive frequency in Hz\nFm  = PRF;    #modulating frequency\n#Calculations\nFc1  = float(F+Fm);    #closest frequency in Hz\nFc2  = float(F-Fm); #closest frequency in Hz\n#result\nprint'Closest Frequencies are %3.3f'%(Fc1/10**6),' Mhz';\nprint'Closest Frequencies are %3.3f'%(Fc2/10**6),' Mhz';\n",
     "language": "python",
     "metadata": {},
     "outputs": [
      {
       "output_type": "stream",
       "stream": "stdout",
       "text": "Closest Frequencies are 10000.001  Mhz\nClosest Frequencies are 9999.999  Mhz\n"
      }
     ],
     "prompt_number": 33
    },
    {
     "cell_type": "heading",
     "level": 2,
     "metadata": {},
     "source": "Example 32,Page No:414"
    },
    {
     "cell_type": "code",
     "collapsed": false,
     "input": "import math\n\n#variable declaration\nF1  = 490;   #freq shift lower limit in Mhz\nF2  = 510;   #freq shift upper limit in Mhz\n\n#calculations\n\nSC = (F1+F2)/2;    #Spectrum Centre in Mhz\nBW = F2-F1;   #bandwidth in Mhz\nCPW = float(1)/BW;   #compressed bandwidth in us\n\n#result\nprint'Spectrum centre is %g'%SC,' MHz';\nprint'BandWidth is %g'%BW,' MHz';\nprint'Compressed pulse Width is %3.2f'%CPW,'us';\n",
     "language": "python",
     "metadata": {},
     "outputs": [
      {
       "output_type": "stream",
       "stream": "stdout",
       "text": "Spectrum centre is 500  MHz\nBandWidth is 20  MHz\nCompressed pulse Width is 0.05 us\n"
      }
     ],
     "prompt_number": 36
    },
    {
     "cell_type": "heading",
     "level": 2,
     "metadata": {},
     "source": "Example 33,Page No:415"
    },
    {
     "cell_type": "code",
     "collapsed": false,
     "input": "import math\n\n#variable declaration\nF          = 9;                #Noise figure in dB\nBW         = 2*10**6;          # Bandwidth\nTo         = 300;              # Temperature in kelvin\nK          = 1.38*10**-23;     # Boltzman constant\n\n#Calculations\n\nF1         = 10**(F/float(10));         #antilog calculation\nPmin       = (K*To*BW)*(F1-1);   #minimum receivable power\n\n#result\nprint'Minimum receivable power Pmin  %3.3e'%Pmin,' W';",
     "language": "python",
     "metadata": {},
     "outputs": [
      {
       "output_type": "stream",
       "stream": "stdout",
       "text": "Minimum receivable power Pmin  5.749e-14  W\n"
      }
     ],
     "prompt_number": 217
    },
    {
     "cell_type": "heading",
     "level": 2,
     "metadata": {},
     "source": "Example 34,Page No:415"
    },
    {
     "cell_type": "code",
     "collapsed": false,
     "input": "import math\n\n#variable declaration\nPt = 500*10**3;    #peal pulse power in watts\nPmin = 1*10**-12;   #minimum receivable power\nAc   = 5;           #area of capture in m^s\nRCS  = 16;         #radar cross sectional area in m^2\nF    = 10*10**9;    #radar operating frequency\nVo   = 3*10**8;   #vel of Em wave in m/s;\n\n#calculations\nlamda = Vo/float(F);    #wavelength\n\nRmax = ((Pt*Ac*Ac*RCS)/float((4*math.pi*lamda*lamda*Pmin)))**0.25;\n\n#result\nprint'Maximum Radar range of the Radar system is %g'%(Rmax/1000),' Kms';\nprint'Note:Calculation mistake in textbook instead of RCS,RCS^2 is calculated';",
     "language": "python",
     "metadata": {},
     "outputs": [
      {
       "output_type": "stream",
       "stream": "stdout",
       "text": "Maximum Radar range of the Radar system is 364.665  Kms\nNote:Calculation mistake in textbook instead of RCS,RCS^2 is calculated\n"
      }
     ],
     "prompt_number": 38
    },
    {
     "cell_type": "heading",
     "level": 2,
     "metadata": {},
     "source": "Example 35,Page No:415"
    },
    {
     "cell_type": "code",
     "collapsed": false,
     "input": "import math\n\n#variable declaration\n\nlamda         = 0.03;           #wavelength in m\nRCS           = 5;              # Radar cross section in m^2\nD             = 1;              #  antenna diameter in m\nF             = 5;              # noise figure in dB\nRmax          = 10*10**3         # Radar range\nBW            = 500*10**3;      # bandwidth\n\n#Calculation\nF1            = 10**(F/float(10));       # antilog calculation\n\n#Rmax        = 48*((Pt*D**(4*RCS))/float((BW*lamda*lamda(F-1))))**(0.25);\n\nPt            = ((Rmax/float(48))**(4))*((BW*lamda*lamda*(F1-1))/float(((D**4)*RCS)));\n\n#result\nprint'Peak Transmitted Power is %e' %Pt;\nprint'Note: Antilog Calculation error in textbook at F'",
     "language": "python",
     "metadata": {},
     "outputs": [
      {
       "output_type": "stream",
       "stream": "stdout",
       "text": "Peak Transmitted Power is 3.665971e+11\nNote: Antilog Calculation error in textbook at F\n"
      }
     ],
     "prompt_number": 42
    },
    {
     "cell_type": "heading",
     "level": 2,
     "metadata": {},
     "source": "Example 36,Page No:416"
    },
    {
     "cell_type": "code",
     "collapsed": false,
     "input": "import math;\n\n# variable Declaration\nPt = float(20*10**6);     #peak pulse power in watts\nRCS  = 1;           # radar cross sectional area in m^2\nf   = 3*(10**9);    #radar operating frequency\nVo   = 3*(10**8);   #vel of Em wave in m/s;\nD    = 50;          #diameter of antenna in m\nF    = 2;           #receiver noise figure \nBW   = 5000;        #receiver bandwidth\n\n# calculations\n\nlamda = float(Vo)/float(f)        # wavelength in m\nRmax = 48*((Pt*(D**4)*RCS)/(BW*lamda*lamda*(F-1)))**0.25;\n\n\n# output\nprint 'Maximum Radar range of the Radar system is %f kms' %(Rmax/1000);\nprint 'Note:In textbook All values are correctly substituted in calculating Rmax but incorrect final answer is printed in the book'\n",
     "language": "python",
     "metadata": {},
     "outputs": [
      {
       "output_type": "stream",
       "stream": "stdout",
       "text": "Maximum Radar range of the Radar system is 60.356805 kms\nNote:In textbook All values are correctly substituted in calculating Rmax but incorrect final answer is printed in the book\n"
      }
     ],
     "prompt_number": 60
    },
    {
     "cell_type": "heading",
     "level": 2,
     "metadata": {},
     "source": "Example 37,Page No:417"
    },
    {
     "cell_type": "code",
     "collapsed": false,
     "input": "import math\n\n#variable declaration\nlamda     = 6*10**-2;    #Wavelength in m\nPRF       = 800;        #Pulse Repetitive frequency in Hz\nn1        = 1 ;         #n value for first blind speed\nn2        = 2 ;         #n value for first blind speed\nn3        = 3 ;         #n value for first blind speed\n\n#Calculations\n\n#Vb      = (n*lamda/2)*PRF;  Blind speed of the Radar\n\n#For n = 1\n\nVb1       = ((n1*lamda)/float(2))*PRF;   #Blind speed of the Radar in m/s\nVb2       = ((n2*lamda)/float(2))*PRF;   #Blind speed of the Radar in m/s\nVb3       = ((n3*lamda)/float(2))*PRF;   #Blind speed of the Radar in m/s\n\n#multiply by 18/5 to convert from m/s to kmph\n\n#result\nprint'The lowest Blind speeds are %3.1f' %(Vb1*(18/float(5))),'Km/hr';\nprint'The lowest Blind speeds are %3.2f' %(Vb2*(18/float(5))),'Km/hr';\nprint'The lowest Blind speeds are %3.2f' %(Vb3*(18/float(5))),'Km/hr';",
     "language": "python",
     "metadata": {},
     "outputs": [
      {
       "output_type": "stream",
       "stream": "stdout",
       "text": "The lowest Blind speeds are 86.4 Km/hr\nThe lowest Blind speeds are 172.80 Km/hr\nThe lowest Blind speeds are 259.20 Km/hr\n"
      }
     ],
     "prompt_number": 61
    },
    {
     "cell_type": "heading",
     "level": 2,
     "metadata": {},
     "source": "Example  38,Page No:417"
    },
    {
     "cell_type": "code",
     "collapsed": false,
     "input": "import math\n\n# variable declaration\n\nPt        = 500*10**3;   # Peak pulse power in Watts\npt        = 50;         # peak power transmitted by beacon in watts\nf         = 2500*10**6;  # Radar Operating frequency in Hz\nlamda     = 0.12;       # wavelength in m\nD         = 64;         # antenna diameter in m\nBW        = 5000;       # Radar Bandwidth\nAb        = 0.51;\nk         =  1.38*10**-23;  # Boltzmann constant\nF         = 20             # Noise figure \nFb        = 1.1            # Noise figure of beacon\nTo        = 290;           # Temperature in kelvin\n \n#Calculations\n\nAr        = (0.65*math.pi*D*D)/float(4);\nRmax      = math.sqrt((Ar*Pt*Ab)/float((lamda*lamda*k*To*BW*(F-1))));  # Max tracking range of radar\n\nRmax1      = math.sqrt((Ar*pt*Ab)/float((lamda*lamda*k*To*BW*(Fb-1)))); # Max tracking range of radar if Fb = 1.1\n\n#result\nprint'Maximum Tracking Range of Radar is %3.3e'%(Rmax/1000),' Km';\nprint'Range of beacon if noise figure is 1.1  %3.3e'%(Rmax1/1000),'Km';\nprint'Note: Calculation mistake in textbook in calculating Range of beacon instead of 1.36*10^9 km range is wrongly printed as 136*10^6 km';\n",
     "language": "python",
     "metadata": {},
     "outputs": [
      {
       "output_type": "stream",
       "stream": "stdout",
       "text": "Maximum Tracking Range of Radar is 9.869e+09  Km\nRange of beacon if noise figure is 1.1  1.360e+09 Km\nNote: Calculation mistake in textbook in calculating Range of beacon instead of 1.36*10^9 km range is wrongly printed as 136*10^6 km\n"
      }
     ],
     "prompt_number": 62
    },
    {
     "cell_type": "heading",
     "level": 2,
     "metadata": {},
     "source": "Example 39,Page No:417"
    },
    {
     "cell_type": "code",
     "collapsed": false,
     "input": "import math;\n\n# Variable Declaration\nlamda     = 0.06;       # wavelength in m\nVr        = 100 ;       # Radial velocity of target in kmph\n\n#Calculations\nVr1       = Vr*(float(5)/18);  #Radial vel. in m/s\nfd        = (2*Vr1)/lamda; #doppler shift\n\n#Output\n\nprint 'Doppler Shift is %3.3f Khz' %(fd/1000);",
     "language": "python",
     "metadata": {},
     "outputs": [
      {
       "output_type": "stream",
       "stream": "stdout",
       "text": "Doppler Shift is 0.926 Khz\n"
      }
     ],
     "prompt_number": 63
    },
    {
     "cell_type": "heading",
     "level": 2,
     "metadata": {},
     "source": "Example 40,Page No:418"
    },
    {
     "cell_type": "code",
     "collapsed": false,
     "input": "import math\n\n#variable declaration\nF  = 9.5*10**9;      #radar operating frequency in Hz\nVo = 3*10**8;        #vel in m/s;\nG  = 20;            #antenna gain in dBi;\nR  = 50*10**3;       #distance of radar reflected signal from target\nPt = 10*10**3        #Tx power in watts\nCS = 10;            #cross sectional area in m^2\n\n#Calculations\nGain  = 10**(G/float(10));  #G = 10log(Gain) ==>gain - antilog(20/10);\nGr    = Gain;       #gain of tx antenna and Rx antenna\nGt    = Gain\nlamda = float(Vo)/F\nPr= (lamda*lamda*Pt*Gt*Gr*CS)/((4*4*4*math.pi*math.pi*math.pi)*(R**4))\n#result\nprint'Received signal Power is %g'%Pr,' Watts';",
     "language": "python",
     "metadata": {},
     "outputs": [
      {
       "output_type": "stream",
       "stream": "stdout",
       "text": "Received signal Power is 8.04055e-17  Watts\n"
      }
     ],
     "prompt_number": 65
    },
    {
     "cell_type": "heading",
     "level": 2,
     "metadata": {},
     "source": "Example 41,Page No:418"
    },
    {
     "cell_type": "code",
     "collapsed": false,
     "input": "import math\n\n#variable declaration\n\nVo    = 3*10**8;        #vel of EM wave m/s;\nt     = 10*10**-6;      # time taken to rx echo\n\n#Calculations\n\nR     = (Vo*t)/2;      #Distance of the Target\n\n#result\n\nprint'Distance of the target is ',R/1000,' Km';",
     "language": "python",
     "metadata": {},
     "outputs": [
      {
       "output_type": "stream",
       "stream": "stdout",
       "text": "Distance of the target is  1.5  Km\n"
      }
     ],
     "prompt_number": 60
    },
    {
     "cell_type": "heading",
     "level": 2,
     "metadata": {},
     "source": "Example 42,Page No:419"
    },
    {
     "cell_type": "code",
     "collapsed": false,
     "input": "import math\n\n# variable declaration\nPW    = 10**-6;        # Pulse Width in sec\nPRF   = 1000;          #Pulse Repetitive Freq in Hz \nVo    = 3*10**8;      # vel of EM wave m/s;\n\n#Calculations\n\nRmax  = Vo/(2*PRF);    #max range of radar\nRmin  = (Vo*PW)/2 ;    # min range of radar\n\n#result\nprint'Maximum Range of radar is %e'%Rmax,' m';\nprint'Minimum Range of radar is ',Rmin,'m';\n",
     "language": "python",
     "metadata": {},
     "outputs": [
      {
       "output_type": "stream",
       "stream": "stdout",
       "text": "Maximum Range of radar is 1.500000e+05  m\nMinimum Range of radar is  150.0 m\n"
      }
     ],
     "prompt_number": 66
    },
    {
     "cell_type": "heading",
     "level": 2,
     "metadata": {},
     "source": "Example 43,Page No:419"
    },
    {
     "cell_type": "code",
     "collapsed": false,
     "input": "import math\n\n#variable declaration\nVr         = 100;      # speed of car in kmph\nf          = 10*10**9;  # Radar operating frequency\nVo         = 3*10**8;  # vel. of EM wave\n\n#Calculations\n\nVr1        = Vr*(5/float(18));      # kmph to m/s conversion\nfd         = (2*Vr1*f)/float(Vo);   # Doppler shift in Hz\n\n#result\nprint'Doppler shift %3.3g'%(fd/1000),'Khz';",
     "language": "python",
     "metadata": {},
     "outputs": [
      {
       "output_type": "stream",
       "stream": "stdout",
       "text": "Doppler shift 1.85 Khz\n"
      }
     ],
     "prompt_number": 68
    },
    {
     "cell_type": "heading",
     "level": 2,
     "metadata": {},
     "source": "Example 44,Page No:420"
    },
    {
     "cell_type": "code",
     "collapsed": false,
     "input": "import math\n\n#variable declaration\nVo    = 3*10**8;        # vel of EM wave m/s;\nt     = 200*10**-6;    # time taken to rx echo\n\n#Calculations\n\nR     = (Vo*t)/2;      # Distance of the Target\n\n\n#result\nprint'Distance of the target is ',R/1000,'Km';\n",
     "language": "python",
     "metadata": {},
     "outputs": [
      {
       "output_type": "stream",
       "stream": "stdout",
       "text": "Distance of the target is  30.0  Km\n"
      }
     ],
     "prompt_number": 235
    },
    {
     "cell_type": "heading",
     "level": 2,
     "metadata": {},
     "source": "Example 45,Page No:420"
    },
    {
     "cell_type": "code",
     "collapsed": false,
     "input": "import math\n\n#variable declaration\nPt      = 100*10**3;         # Peak tx. power \nPRF     = 1000;             # pulse repetitive freq. in Hz\nPW      = 1.2*10**-6;        # Pulse Width in sec\n\n#Calculations\nDC      = PRF*PW            # Duty cycle\nPav     = Pt*DC             # Avg. power\n\n#Output\nprint'Duty cycle is ',DC;\nprint'Average power is ',Pav,' Watts';\n",
     "language": "python",
     "metadata": {},
     "outputs": [
      {
       "output_type": "stream",
       "stream": "stdout",
       "text": "Duty cycle is  0.0012\nAverage power is  120.0  Watts\n"
      }
     ],
     "prompt_number": 69
    },
    {
     "cell_type": "heading",
     "level": 2,
     "metadata": {},
     "source": "Example 46,Page No:420"
    },
    {
     "cell_type": "code",
     "collapsed": false,
     "input": "import math\n\n#variable declaration\nRunamb      = 300*10**3;     # unambiguous range in m\nVo          = 3*10**8;       # Vel. of EM wave in m/s\n\n#Calculations\n\nPRF         = Vo/(2*(Runamb)); # Pulse repetitive freq.\n\n#result\n\nprint'Pulse repetitive frequency ',PRF,'Hz';",
     "language": "python",
     "metadata": {},
     "outputs": [
      {
       "output_type": "stream",
       "stream": "stdout",
       "text": "Pulse repetitive frequency  500 Hz\n"
      }
     ],
     "prompt_number": 80
    },
    {
     "cell_type": "heading",
     "level": 2,
     "metadata": {},
     "source": "Example 47,Page No:420"
    },
    {
     "cell_type": "code",
     "collapsed": false,
     "input": "import math\n\n#variable declartation\nVo    = 3*10**8;         #vel of EM wave m/s;\nPRF   = 1000;          # pulse repetitive freq. in Hz\nPW    = 10**-6;         # Pulse width in sec\n\n#Calculations\n\nDC      = PRF*PW;         # Duty cycle\n\nRunamb  = Vo/(2*PRF);      # Distance of the Target\n\n#result\n\nprint'Duty cycle  ',DC;\nprint'Maximum unambiguous range', Runamb/1000,'Km' ;",
     "language": "python",
     "metadata": {},
     "outputs": [
      {
       "output_type": "stream",
       "stream": "stdout",
       "text": "Duty cycle   0.001\nMaximum unambiguous range 150 Km\n"
      }
     ],
     "prompt_number": 70
    },
    {
     "cell_type": "heading",
     "level": 2,
     "metadata": {},
     "source": "Example 48,Page No:421"
    },
    {
     "cell_type": "code",
     "collapsed": false,
     "input": "import math\n\n#variable declaration\nVo    = 3*10**8;        # vel of EM wave m/s;\nPRF   = 1000;          # pulse repetitive freq. in Hz\nPW    = 4*10**-6;       # Pulse width in sec\n\n#Calculations\n\nRunamb  = Vo/(2*PRF);      # Distance of the Target\nRR      = (Vo*PW)/2;       # Range Resolution\n\n#result\n\nprint'Maximum unambiguous range ',Runamb/1000,' Km';\nprint'Range Resolution ',RR,'m';\n",
     "language": "python",
     "metadata": {},
     "outputs": [
      {
       "output_type": "stream",
       "stream": "stdout",
       "text": "Maximum unambiguous range  150  Km\nRange Resolution  600.0 m\n"
      }
     ],
     "prompt_number": 71
    },
    {
     "cell_type": "heading",
     "level": 2,
     "metadata": {},
     "source": "Example 49,Page No:421"
    },
    {
     "cell_type": "code",
     "collapsed": false,
     "input": "import math\n\n# variable declaration\nf     = 6*10**9;        # Radar operating freq. in Hz\nVo    = 3*10**8;        # vel of EM wave m/s;\nPRF   = 1000;          # pulse repetitive freq. in Hz\nPW    = 1.2*10**-6;     # Pulse width in sec\nDC    = 10**-3;         # Duty Cycle\nSmin  = 5*10**-12;      # min. detectable signal\nR     = 60*10**3;       # Max. Range in m\nG     = 4000;          #power gain of antenna\nAe    = 1              #  effective area in m*2\nRCS   = 2              # Radar cross sec. in m*2\n\n#Calculations\n\nlamda   = Vo/float(f);            # Wavelength in m\nPRT     = PW/float(DC);           # pulse repetitive time\nPRF     = 1/float(PRT);           # Pulse repetitive freq.\nPt      = ((Smin*(4*math.pi*R*R)**2))/(float((Ae*G*RCS)));  #Peak power\nPav     = Pt*DC;           # average power\n\nRunamb  = Vo/float((2*PRF));      # Distance of the Target\nRR      = (Vo*PW)/float(2);       # Range Resolution\n\n#result\n\nprint' Operating Wavelength = %g'%lamda,' m';\nprint'\\n PRT  %3.2f'%(PRT*1000),' ms';\nprint'\\n PRF  %3.1f'%PRF,'Hz';\nprint'\\n Peak power  %3.3f'%(Pt/1000),' KW';\nprint'\\n Average power  %3.3f'%Pav,' Watts';\nprint'\\n unambiguous range %g'%(Runamb/1000),' Km';\nprint'\\n Range Resolution %g'%RR ,'m';\nprint '\\n Note: Calculation error in textbook for Pt and Pav';",
     "language": "python",
     "metadata": {},
     "outputs": [
      {
       "output_type": "stream",
       "stream": "stdout",
       "text": " Operating Wavelength = 0.05  m\n\n PRT  1.20  ms\n\n PRF  833.3 Hz\n\n Peak power  1279.101  KW\n\n Average power  1279.101  Watts\n\n unambiguous range 180  Km\n\n Range Resolution 180 m\n\n Note: Calculation error in textbook for Pt and Pav\n"
      }
     ],
     "prompt_number": 75
    },
    {
     "cell_type": "heading",
     "level": 2,
     "metadata": {},
     "source": "Example 50,Page No:423"
    },
    {
     "cell_type": "code",
     "collapsed": false,
     "input": "import math\n\n#variable declaration\nVo    = 3*10**8;          # vel of EM wave m/s;\nPRT   = 1.4*10**-3;       # pulse repetitive time. in sec\nPW    = 5 *10**-6;        # Pulse width in sec\nPt    = 1000*10**3;       #Peak power in watts\n\n#Calculations\n\nDC      = PW/float(PRT);           # Duty cycle\nPav     = Pt*DC            # avg. power in W\n\n#result\n\nprint'Duty cycle  %3.3e'%DC;\nprint'Average power %g '%Pav,'W' ;",
     "language": "python",
     "metadata": {},
     "outputs": [
      {
       "output_type": "stream",
       "stream": "stdout",
       "text": "Duty cycle  3.571e-03\nAverage power 3571.43  W\n"
      }
     ],
     "prompt_number": 76
    },
    {
     "cell_type": "heading",
     "level": 2,
     "metadata": {},
     "source": "Example 51,Page No:423"
    },
    {
     "cell_type": "code",
     "collapsed": false,
     "input": "import math\n\n#variable declaration\nF       = 5;            # Noise Figure in dB\nBW      = 1.2*10**6;     # Bandwidth in Hz\nT       = 290;          # Ambient temp in kelvin\nK       = 1.38*10**-23;  # boltzmann constant\n\n#Calculations\nF1      = 10**(5/float(10)) ;    # antilog calc of noise figure\nPrmin   = K*(F1-1)*T*BW;  # min. rx. signal\n\n#result\nprint'Minimum Receivable signal  %3.4e'%Prmin,' W\\n ';\nprint'Note:In textbook All values are correctly substituted in calculating Prmin.\\nbut incorrect final answer is printed in the book';\n",
     "language": "python",
     "metadata": {},
     "outputs": [
      {
       "output_type": "stream",
       "stream": "stdout",
       "text": "Minimum Receivable signal  1.0384e-14  W\n \nNote:In textbook All values are correctly substituted in calculating Prmin.\nbut incorrect final answer is printed in the book\n"
      }
     ],
     "prompt_number": 77
    },
    {
     "cell_type": "heading",
     "level": 2,
     "metadata": {},
     "source": "Example 52,Page No:423"
    },
    {
     "cell_type": "code",
     "collapsed": false,
     "input": "import math\n\n#variable declaration\nPt   = 1*10**6;         #peak pulse power in watts\nPmin = 1*10**-12;       #minimum receivable power\nAe   = 16;             #effective area in m^s\nRCS  = 4;              #radar cross sectional area in m^2\nF    = 9*10**9;         #radar operating frequency\nVo   = 3*10**8;         #vel of Em wave in m/s;\nG    = 5000;           #Power gain of antenna\n\n#calculations\n\nRmax = ((Pt*G*Ae*RCS)/(16*math.pi*math.pi*Pmin))**(0.25);\n\n#result\nprint'Maximum Radar range of the Radar  is %g'%(Rmax/1000),'Kms';",
     "language": "python",
     "metadata": {},
     "outputs": [
      {
       "output_type": "stream",
       "stream": "stdout",
       "text": "Maximum Radar range of the Radar  is 212.169 Kms\n"
      }
     ],
     "prompt_number": 98
    },
    {
     "cell_type": "heading",
     "level": 2,
     "metadata": {},
     "source": "Example 53,Page No:424"
    },
    {
     "cell_type": "code",
     "collapsed": false,
     "input": "import math\n\n#variable declaration\nPt   = 500*10**3;     #peal pulse power in watts\nPmin = 1*10**-12;     #minimum receivable power\nAc   = 5;             #area of capture in m^s\nRCS  = 20;            #radar cross sectional area in m^2\nF    = 10*10**9;      #radar operating frequency\nVo   = 3*10**8;       #vel of Em wave in m/s;\nlamda = 3*10**-2;     # wavelength in cms\n\n#calculations\n\nRmax = ((Pt*Ac*Ac*RCS)/(4*math.pi*lamda*lamda*Pmin))**(0.25);\n\n#result\nprint'Maximum Radar range of the Radar system is %g'%(Rmax/1000),' Kms';\n",
     "language": "python",
     "metadata": {},
     "outputs": [
      {
       "output_type": "stream",
       "stream": "stdout",
       "text": "Maximum Radar range of the Radar system is 385.587  Kms\n"
      }
     ],
     "prompt_number": 102
    },
    {
     "cell_type": "heading",
     "level": 2,
     "metadata": {},
     "source": "Example 54,Page no:425"
    },
    {
     "cell_type": "code",
     "collapsed": false,
     "input": "import math\n\n#variable declaration\nf       = 10*10**9;      # operating freq. of radar in Hz\nVo      = 3*10**8;       #vel of Em wave in m/s;\nD       = 5;            #Diameter of antenna in m\n\n#calculations\nlamda   = Vo/float(f);         # wavelength in m\nBW      = 70*(lamda/float(D));  # BeamWidth in degrees\n\n#result\nprint'Beamwidth  = %3.3g'%BW,' degrees';",
     "language": "python",
     "metadata": {},
     "outputs": [
      {
       "output_type": "stream",
       "stream": "stdout",
       "text": "Beamwidth  = 0.42  degrees\n"
      }
     ],
     "prompt_number": 242
    },
    {
     "cell_type": "heading",
     "level": 2,
     "metadata": {},
     "source": "Example 55,Page No:425"
    },
    {
     "cell_type": "code",
     "collapsed": false,
     "input": "import math\n\n#variable declaration\nPav  = 200;     #average power in watts\nPRF  = 1000;    #pulse repetitive frequency in Hz\nPW   = 1*10**-6;  #pulse width in sec\nPmin = 1*10**-12;   #minimum receivable power\nAc   = 10;          #area of capture in m^s\nRCS  = 2;           #radar cross sectional area in m^2\nVo   = 3*10**8;      #vel of Em wave in m/s;\nlamda = 0.1;         #wavelength in cms\n\n#calculations\nF    = Vo/float(lamda);    #operating frequency in hz\nPt   = Pav/float(PRF*PW);\n\nRmax = ((Pt*Ac*Ac*RCS)/float((4*math.pi*lamda*lamda*Pmin)))**(0.25);\n\n#result\nprint'Operating frequency is %g'%(F/10**9),'Ghz';\nprint'Radar peak power is %g'%(Pt/1000),'KW';\nprint'Maximum Radar range of the Radar system is %g'%(Rmax/1000),' Km';",
     "language": "python",
     "metadata": {},
     "outputs": [
      {
       "output_type": "stream",
       "stream": "stdout",
       "text": "Operating frequency is 3 Ghz\nRadar peak power is 200 KW\nMaximum Radar range of the Radar system is 133.571  Km\n"
      }
     ],
     "prompt_number": 78
    },
    {
     "cell_type": "heading",
     "level": 2,
     "metadata": {},
     "source": "Example 56,Page No:426"
    },
    {
     "cell_type": "code",
     "collapsed": false,
     "input": "import math\n\n#variable declaration\nf       = 9*10**9;       # operating freq. of radar in Hz\nVo      = 3*10**8;       # vel of Em wave in m/s;\nfd      = 1000;         #doppler shift freq. in Hz\n\n#Calculations\nlamda   = Vo/float(f);        # Wavelength in m\nVr      = lamda*fd/float(2);  # radial velocity of target\n\n#result\nprint'Radial velocity of target Vr %g'%Vr,' m/s';\n",
     "language": "python",
     "metadata": {},
     "outputs": [
      {
       "output_type": "stream",
       "stream": "stdout",
       "text": "Radial velocity of target Vr 16.6667  m/s\n"
      }
     ],
     "prompt_number": 245
    },
    {
     "cell_type": "heading",
     "level": 2,
     "metadata": {},
     "source": "Example 57,Page No:426"
    },
    {
     "cell_type": "code",
     "collapsed": false,
     "input": "import math\n\n#variable declaration\nf       = 10*10**9;       # operating freq. of radar in Hz\nVr      = 800;            # radial ve. of of aircraft in kmph\nVo      = 3*10**8;         #vel of Em wave in m/s;\n\n#calculations\n\nlamda   = Vo/float(f);        # Wavelength in m\nVr1     = Vr*5/float(18);      # kmph to m/s conversion\nfd      = 2*Vr1/float(lamda);  # Doppler shift freq, in Hz\n\n#result\nprint'Doppler shift frequency fd = %3.2e'%fd,' Hz';",
     "language": "python",
     "metadata": {},
     "outputs": [
      {
       "output_type": "stream",
       "stream": "stdout",
       "text": "Doppler shift frequency fd = 1.48e+04  Hz\n"
      }
     ],
     "prompt_number": 250
    },
    {
     "cell_type": "heading",
     "level": 2,
     "metadata": {},
     "source": "Example 58,Page No:426"
    },
    {
     "cell_type": "code",
     "collapsed": false,
     "input": "import math\n\n#variable declaration\nf       = 6*10**9;       # operating freq. of radar in Hz\nVr      = 600;           # radial ve. of of aircraft in kmph\nVo      = 3*10**8;       #vel of Em wave in m/s;\n\n#calculations\n\nlamda   = Vo/float(f);        # Wavelength in m\nVr1     = Vr*5/float(18);      # kmph to m/s conversion\nfd      = 2*Vr1/float(lamda);  # Doppler shift freq, in Hz\n\nV       = Vr1*math.cos((45*math.pi/float(180))); # vel in direction of radar if  target direction changes by 45 deg\nfd1     = 2*V/float(lamda);   #doppler shift freq. in Hz\n\n\n#result\nprint'Doppler shift frequency fd = %3.3g'%(fd/1000),'KHz';\nprint'Doppler shift frequency if the target changes its direction by 45deg %3.2f'%(fd1/1000),'KHz';\n",
     "language": "python",
     "metadata": {},
     "outputs": [
      {
       "output_type": "stream",
       "stream": "stdout",
       "text": "Doppler shift frequency fd = 6.67 KHz\nDoppler shift frequency if the target changes its direction by 45deg 4.71 KHz\n"
      }
     ],
     "prompt_number": 80
    },
    {
     "cell_type": "heading",
     "level": 2,
     "metadata": {},
     "source": "Example 59,Page No:427"
    },
    {
     "cell_type": "code",
     "collapsed": false,
     "input": "import math\n\n#variable declaration\nlamda     = 3*10**-2;    #Wavelength in m\nPRF       = 1000;       # Pulse Repetitive frequency in Hz\nn         = 1;          # n value for lowest blind speed\n\n#Calculations\nVb        = (n*lamda/float(2))*PRF;   #Blind speed of the Radar in m/s\n\n#result\nprint'Lowet blind speed  %g'%Vb,'m/s';",
     "language": "python",
     "metadata": {},
     "outputs": [
      {
       "output_type": "stream",
       "stream": "stdout",
       "text": "Lowet blind speed  15 m/s\n"
      }
     ],
     "prompt_number": 254
    },
    {
     "cell_type": "heading",
     "level": 2,
     "metadata": {},
     "source": "Example 60,Page No:427"
    },
    {
     "cell_type": "code",
     "collapsed": false,
     "input": "import math\n\n#variable declaration\nPRF         = 1000;                  # pulse repetitive frequency\nprint'V1b1  = (1* \u03bb1*PRF1)/2';      \nprint'V1b1  = (Vo*PRF1)/(2*f1)';\nprint'V2b3  = (3* \u03bb1*PRF2)/2'; \nprint'V2b3  = (3*Vo*PRF2)/(2*f2)';\nprint'But PRF1 = PRF2 and V1b1 = V2b3';\nprint'(Vo*PRF)/(2*f1) = (3*Vo*PRF)/(2*f2)' ;\nprint'f1/f2 = 1/3';\n",
     "language": "python",
     "metadata": {},
     "outputs": [
      {
       "output_type": "stream",
       "stream": "stdout",
       "text": "V1b1  = (1* \u03bb1*PRF1)/2\nV1b1  = (Vo*PRF1)/(2*f1)\nV2b3  = (3* \u03bb1*PRF2)/2\nV2b3  = (3*Vo*PRF2)/(2*f2)\nBut PRF1 = PRF2 and V1b1 = V2b3\n(Vo*PRF)/(2*f1) = (3*Vo*PRF)/(2*f2)\nf1/f2 = 1/3\n"
      }
     ],
     "prompt_number": 123
    },
    {
     "cell_type": "heading",
     "level": 2,
     "metadata": {},
     "source": "Example 61,Page No:428"
    },
    {
     "cell_type": "code",
     "collapsed": false,
     "input": "import math\n\n#variable declaration\nPRF1        = 10*10**3;         #pulse repetitive freq.1 \nPRF2        = 20*10**3;          #pulse repetitive freq.2\nPav         = 1000;             # average tx. power\nPt          = 10*10**3;          # peak power\n\n#Calculations\nPRT1        = 1/float(PRF1);           # pulse repetitive interval in sec\nPRT2        = 1/float(PRF2);           # pulse repetitive interval in sec\nDC          = Pav/float(Pt);           # duty cycle\nPW1         = DC*PRT1           # pulse width for freq1\nPW2         = DC*PRT2           # pulse width for freq2\nE1          = Pt*PW1;           # energy of first pulse\nE2          = Pt*PW2;           # energy of second pulse\n\n#result\nprint'PW1 = ',PW1*1000,' ms';\nprint'PW2 =',PW2*1000,' ms';\nprint'Pulse Energy for PRF 10KHz is ',E1,' Joules';\nprint'Pulse Energy for PRF  20KHz is ',E2 ,' Joules';",
     "language": "python",
     "metadata": {},
     "outputs": [
      {
       "output_type": "stream",
       "stream": "stdout",
       "text": "PW1 =  0.01  ms\nPW2 = 0.005  ms\nPulse Energy for PRF 10KHz is  0.1  Joules\nPulse Energy for PRF  20KHz is  0.05  Joules\n"
      }
     ],
     "prompt_number": 81
    },
    {
     "cell_type": "heading",
     "level": 2,
     "metadata": {},
     "source": "Example 62,Page No:428"
    },
    {
     "cell_type": "code",
     "collapsed": false,
     "input": "import math\n\n#variable declaration\nRunamb     = 150*10**3;      # unambigiuous range in m\nBW         = 10**6;          # bandwidth in Hz\nVo         = 3*10**8;        #vel of Em wave in m/s;\n\n#Calculations\nPRF         = Vo/float((2*Runamb)) ;   #pulse repetitive freq. in Hz \nPRT         = 1/float(PRF);            # pulse repetition interval\nRR          = Vo/float((2*BW));        # Range Resolution\nPW          = (2*RR)/float(Vo);        #Pulse width in sec\n\n#result\nprint'PRF = %3.2f' %PRF,'Hz';\nprint'pulse repetition interval %3.3g'%(PRT*1000),' ms';\nprint'Range Resolution = %d' %RR,'m';\nprint'PulseWidth = %3.2f' %(PW*10**6),'us';",
     "language": "python",
     "metadata": {},
     "outputs": [
      {
       "output_type": "stream",
       "stream": "stdout",
       "text": "PRF = 1000.00 Hz\npulse repetition interval   1  ms\nRange Resolution = 150 m\nPulseWidth = 1.00 us\n"
      }
     ],
     "prompt_number": 84
    },
    {
     "cell_type": "heading",
     "level": 2,
     "metadata": {},
     "source": "Example 63,Page No:429"
    },
    {
     "cell_type": "code",
     "collapsed": false,
     "input": "import math\n\n#variable declaration\nVr      = 300;           # Velocity of radar in m/s\nVair    = 200;           # velocty of aircraft in m/s\nf       = 10*10**9;      # Radar operating frequency\nVo      = 3*10**8;       # vel of Em wave in m/s;\n\n#Calculations\n\nlamda   = Vo/float(f);            # wavelength in m\nVrel    = Vr+Vair;         #relative radial vel. b/w radar and aircraft when approaching each other\nfd      = (2*Vrel)/float(lamda);  #Doppler frequency\n\n#result\nprint'Doppler frequency = %3.2f'%(fd/1000),'KHz';",
     "language": "python",
     "metadata": {},
     "outputs": [
      {
       "output_type": "stream",
       "stream": "stdout",
       "text": "Doppler frequency = 33.33 KHz\n"
      }
     ],
     "prompt_number": 259
    },
    {
     "cell_type": "heading",
     "level": 2,
     "metadata": {},
     "source": "Example 64,Page No:429"
    },
    {
     "cell_type": "code",
     "collapsed": false,
     "input": "import math\n\n#variable declaration\nPt      = 2*10**6;      # Peak power in Watts\nG       = 45;          # antenna gain in dB\nf       = 6*10**9;      # operating frequency \nTe      = 290;          # effective temp in kelvin\nSNRmin  = 20;           # min SNR in dB\nPW      = 0.2*10**-3     # pulse width in sec\nF       = 3;            # Noise Figure\nB       = 10*10**3;      # bandwidth in KHz\nRCS     = 0.1;          # Radar cross section in m^2\nK       = 1.38*10**-23;  # boltzman constant\nVo      = 3*10**8;       #vel of Em wave in m/s;\n\n#antilog acalculations\nG1     = 10**(45/float(10));    # antilog conversion of gain\nSNR    = 10**(20/float(10));    # antilog conversion of SNRmin\nF1     = 10**(3/float(10));     # antilog conversion of Noise Figure\n\nlamda  = Vo/float(f);          #wavelength in m\nRmax   = ((Pt*G1*G1*lamda*lamda*RCS)/float(((64*math.pi*math.pi*math.pi)*(K*Te*B*F1*SNR))))**(0.25);\n#pt1    = 10*log10(Pt)\n#lamda1 = 10*log10(lamda^2)\n#G2     = 2*G\n#KTB    = 10*log10(K*Te*B)\n#RCS1   = 10*log10(RCS)\n#p      = 10*log10((4*%pi)^3)\n#R4max  = [pt1+G1+lamda1+RCS1-p-KTB-F-SNRmin];\n\n#result\nprint'Maximum Range of the Radar is %3.2f'%(Rmax/100),'Km';\nprint'\\n Note: Calculation error is Textbook in multiplying K*Te*B';\n",
     "language": "python",
     "metadata": {},
     "outputs": [
      {
       "output_type": "stream",
       "stream": "stdout",
       "text": "Maximum Range of the Radar is 4214.69 Km\n\n Note: Calculation error is Textbook in multiplying K*Te*B\n"
      }
     ],
     "prompt_number": 262
    },
    {
     "cell_type": "heading",
     "level": 2,
     "metadata": {},
     "source": "Example 65,Page No:430"
    },
    {
     "cell_type": "code",
     "collapsed": false,
     "input": "import math\n\n#variable declaration\nG       = 50;           # antenna gain in dB\nf       = 6*10**9;       # operating frequency \nTe      = 1000;         # Noise temp in kelvin\nSNR     = 20;           # min SNR in dB\nL       = 10;           # Losses in dB\nF       = 3;            # Noise Figure in dB\nRCS     = -10;          # Radar cross section in dB\nK       = 1.38*10**-23;  # boltzman constant\nVo      = 3*10**8;       # vel of Em wave in m/s;\nDC      = 0.3;          # Duty cycle\nR       = 300*10**3;     # Range in kms\nPav     = 1000;         # Average power in watts\nSV      = 20;           # search volume\nTs      = 3;            # Scan time\n\n#calculations\n\nPav1    = 10*math.log10(Pav)             #conversion to dB\nKT       = 10*math.log10(Te*K)             #conversion to dB\nR4      = 10*math.log10(R**4)             #conversion to dB\nTs1     = 10*math.log10(Ts)               #conversion to dB\n#SNR   = (Pav*A*RCS*Ts)/(16*R**(4)*KT*L*F*SV));\nA       = (SNR-Pav1-Ts-RCS+16+R4+KT+L+F+SV); #aperture\nPt      = Pav/DC;                   #peak ower in watts\n#A1      =10^(A/10);                 # antilog calculation\n\n#result\nprint'A = %3.4g' %A,'dB';\nprint'Peak power Pt = %3.2f'%(Pt/1000),'KW';\nprint'Note: calculation error in textbook at KT';",
     "language": "python",
     "metadata": {},
     "outputs": [
      {
       "output_type": "stream",
       "stream": "stdout",
       "text": "A = 66.48 dB\nPeak power Pt = 3.33 KW\nNote: calculation error in textbook at KT\n"
      }
     ],
     "prompt_number": 90
    },
    {
     "cell_type": "code",
     "collapsed": false,
     "input": "",
     "language": "python",
     "metadata": {},
     "outputs": [],
     "prompt_number": 147
    },
    {
     "cell_type": "code",
     "collapsed": false,
     "input": "",
     "language": "python",
     "metadata": {},
     "outputs": []
    }
   ],
   "metadata": {}
  }
 ]
}