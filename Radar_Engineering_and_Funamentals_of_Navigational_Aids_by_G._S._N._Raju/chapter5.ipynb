{
 "metadata": {
  "name": "raju Chapter 5"
 },
 "nbformat": 3,
 "nbformat_minor": 0,
 "worksheets": [
  {
   "cells": [
    {
     "cell_type": "heading",
     "level": 1,
     "metadata": {},
     "source": "Chapter 5: FACTORS AFFECTING RADAR OPERATION AND RADAR LOSSES"
    },
    {
     "cell_type": "heading",
     "level": 2,
     "metadata": {},
     "source": "Example 1,Page No:162"
    },
    {
     "cell_type": "code",
     "collapsed": false,
     "input": "import math\n\n#variable declaration\nprint'mathematically ellipsoid is represented by \\n((x/a)**2)+((y/b)**2)+((z/c)**2) = 1\\n ';\nprint'\\nThe approximate expression for ellipsoid backscattered RCS is given by\\n ';\nprint'\\n\u03c3 =(\u03c0*a**2 b**2 c**2)/[ a**2 (sin\u03b8)**2 (cos\u0278)**+ b**2 (sin\u03b8)**2 (sin\u0278)^2+c**2 (cos\u03b8)**2 ]**2\\n';\nprint'\\nif a = b ,the ellipsoid becomes Roll symmetric,above eqn becomes\\n';\nprint'\\n\u03c3 = (\u03c0* b**4 c**2)/[ a**2 (sin\u03b8)**2 + c**2 (cos\u03b8)**2 ]**2\\n';",
     "language": "python",
     "metadata": {},
     "outputs": [
      {
       "output_type": "stream",
       "stream": "stdout",
       "text": "mathematically ellipsoid is represented by \n((x/a)**2)+((y/b)**2)+((z/c)**2) = 1\n \n\nThe approximate expression for ellipsoid backscattered RCS is given by\n \n\n\u03c3 =(\u03c0*a**2 b**2 c**2)/[ a**2 (sin\u03b8)**2 (cos\u0278)**+ b**2 (sin\u03b8)**2 (sin\u0278)^2+c**2 (cos\u03b8)**2 ]**2\n\n\nif a = b ,the ellipsoid becomes Roll symmetric,above eqn becomes\n\n\n\u03c3 = (\u03c0* b**4 c**2)/[ a**2 (sin\u03b8)**2 + c**2 (cos\u03b8)**2 ]**2\n\n"
      }
     ],
     "prompt_number": 1
    },
    {
     "cell_type": "heading",
     "level": 2,
     "metadata": {},
     "source": "Example 2,Page No:162"
    },
    {
     "cell_type": "code",
     "collapsed": false,
     "input": "import math\n\n#variable declaration\nprint'mathematically ellipsoid is represented by \\n((x/a)**2)+((y/b)**2)+((z/c)**2) = 1\\n ';\nprint'\\nThe approximate expression for ellipsoid backscattered RCS is given by\\n ';\nprint'\\n\u03c3 =(\u03c0*a**2 b**2 c**2)/[ a**2 (sin\u03b8)**2 (cos\u0278)**2+ b**2 (sin\u03b8)**2 (sin\u0278)**+c**2 (cos\u03b8)**2 ]**2\\n';\nprint'\\nif a = b = c ,the ellipsoid becomes a sphere,above eqn becomes\\n';\nprint'\\n\u03c3 = (\u03c0* a**6)/[ a**2 (sin\u03b8)**2 + a**2 (cos\u03b8)**2 ]**2\\n';\nprint'\\n\u03c3 = (\u03c0* a**6)/[ a**4]\\n';\nprint'\\n\u03c3 of sphere is \u03c0*a**2 ' ;",
     "language": "python",
     "metadata": {},
     "outputs": [
      {
       "output_type": "stream",
       "stream": "stdout",
       "text": "mathematically ellipsoid is represented by \n((x/a)**2)+((y/b)**2)+((z/c)**2) = 1\n \n\nThe approximate expression for ellipsoid backscattered RCS is given by\n \n\n\u03c3 =(\u03c0*a**2 b**2 c**2)/[ a**2 (sin\u03b8)**2 (cos\u0278)**2+ b**2 (sin\u03b8)**2 (sin\u0278)**+c**2 (cos\u03b8)**2 ]**2\n\n\nif a = b = c ,the ellipsoid becomes a sphere,above eqn becomes\n\n\n\u03c3 = (\u03c0* a**6)/[ a**2 (sin\u03b8)**2 + a**2 (cos\u03b8)**2 ]**2\n\n\n\u03c3 = (\u03c0* a**6)/[ a**4]\n\n\n\u03c3 of sphere is \u03c0*a**2 \n"
      }
     ],
     "prompt_number": 2
    },
    {
     "cell_type": "heading",
     "level": 2,
     "metadata": {},
     "source": "Example 3,Page No:163"
    },
    {
     "cell_type": "code",
     "collapsed": false,
     "input": "import math\n\n#variable declaration\nprint'As it has Circular symmetry ,RCS of circular flat plate is independent \\n of \u0278 ,RCS depends on aspect angle.\\n';\nprint'\\nFor normal incidence \u03b8 = 0,then\\n';\nprint'\\n\u03c3 = (4*\u03c0**3*r**4)/(\u03bb**2)\\n';\nprint'\\nif r = 1 m  then\\n';\nprint'\u03c3 = (4*\u03c0**3)/(\u03bb**2)' ;",
     "language": "python",
     "metadata": {},
     "outputs": [
      {
       "output_type": "stream",
       "stream": "stdout",
       "text": "As it has Circular symmetry ,RCS of circular flat plate is independent \n of \u0278 ,RCS depends on aspect angle.\n\n\nFor normal incidence \u03b8 = 0,then\n\n\n\u03c3 = (4*\u03c0**3*r**4)/(\u03bb**2)\n\n\nif r = 1 m  then\n\n\u03c3 = (4*\u03c0**3)/(\u03bb**2)\n"
      }
     ],
     "prompt_number": 3
    },
    {
     "cell_type": "heading",
     "level": 2,
     "metadata": {},
     "source": "Example 4, Page No:163"
    },
    {
     "cell_type": "code",
     "collapsed": false,
     "input": "import math\n\n# Variable Declaration\n\nlamda  = 0.03;                # wavelength in m\nPt     = 250*10**3;            # transmitter power\nG      = 2000;                # antenna gain\nR      = 50*10**3;             # maximum range\nPr     = 10*10**-12;           # minimum detectable power\n\n# Calculations\nAe     = (lamda*lamda*G)/(4*math.pi);       # effective aperture area\nRCS    = (Pr*(4*math.pi*R*R)**2)/(Pt*G*Ae);  # Radar cross section of the target\n\n# Output\nprint 'Radar cross section of the target is %3.2f'%RCS,'m^2';\n",
     "language": "python",
     "metadata": {},
     "outputs": [
      {
       "output_type": "stream",
       "stream": "stdout",
       "text": "Radar cross section of the target is 137.81 m^2\n"
      }
     ],
     "prompt_number": 6
    }
   ],
   "metadata": {}
  }
 ]
}