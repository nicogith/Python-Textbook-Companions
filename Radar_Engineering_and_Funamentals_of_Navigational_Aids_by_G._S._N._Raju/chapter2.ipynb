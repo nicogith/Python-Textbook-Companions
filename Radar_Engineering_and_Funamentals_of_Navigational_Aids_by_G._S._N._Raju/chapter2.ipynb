{
 "metadata": {
  "name": "raju chapter2"
 },
 "nbformat": 3,
 "nbformat_minor": 0,
 "worksheets": [
  {
   "cells": [
    {
     "cell_type": "heading",
     "level": 1,
     "metadata": {},
     "source": "Chapter 2:Basic Radars"
    },
    {
     "cell_type": "heading",
     "level": 2,
     "metadata": {},
     "source": "Example 1,Page No:74"
    },
    {
     "cell_type": "code",
     "collapsed": false,
     "input": "import math\n\n#variable declaration\n\nTdelay      = 200*10**-6;       #time delay in sec\nVo          = 3*10**8;          #velocity in m/s\n\n#Calculations\n\nR           = (Vo*Tdelay)/float(2);        #Range of the target in kms\n\n\n#result\n\nprint'Range of the target is %g'%(R/1000),'Kms';",
     "language": "python",
     "metadata": {},
     "outputs": [
      {
       "output_type": "stream",
       "stream": "stdout",
       "text": "Range of the target is 30 Kms\n"
      }
     ],
     "prompt_number": 4
    },
    {
     "cell_type": "heading",
     "level": 2,
     "metadata": {},
     "source": "Example 2,Page No:74"
    },
    {
     "cell_type": "code",
     "collapsed": false,
     "input": "import math\n\n#variable declaration\nPt      = 5000;         #Peak tx power in watts\nPav     = 1000;         #Average Power\nPRF1    = 10;           #Pulse repetition frequency in khz\nPRF2    = 20;           #Pulse repetition frequency in khz\n\n#Calculations\n\nD      = Pav/float(Pt);        #Duty cycle\nPRI1   = 1/float(PRF1);        #Pulse repetitive interval in  msec\nPRI2   = 1/float(PRF2);        #Pulse repetitive interval in  msec\nPW1    = D*PRI1;               #Pulse Width in msec\nPW2    = D*PRI2;               #Pulse Width in msec\nPE1    = Pt*PW1;               #Pulse Energy in joules\nPE2    = Pt*PW2;               #Pulse Energy in joules\n\n#result\nprint'Duty cycle is ',D; \nprint'pulse repetition interval 1 is ',PRI1,'msec';\nprint'pulse repetition interval 2 is ',PRI2,'msec';\nprint'Pulse Width1 is ',PW1*1000,'usec';\nprint'Pulse Width2 is ',PW2*1000,'usec';\nprint'Pulse Energy1 is ',PE1/1000,'J';\nprint'Pulse Energy2 is ',PE2/1000,'J';\n",
     "language": "python",
     "metadata": {},
     "outputs": [
      {
       "output_type": "stream",
       "stream": "stdout",
       "text": "Duty cycle is  0.2\npulse repetition interval 1 is  0.1 msec\npulse repetition interval 2 is  0.05 msec\nPulse Width1 is  20.0 usec\nPulse Width2 is  10.0 usec\nPulse Energy1 is  0.1 J\nPulse Energy2 is  0.05 J\n"
      }
     ],
     "prompt_number": 2
    },
    {
     "cell_type": "heading",
     "level": 2,
     "metadata": {},
     "source": "Example 3,Page No:75"
    },
    {
     "cell_type": "code",
     "collapsed": false,
     "input": "import math\n\n#variable declaration\nUR    = 200;                 #unambiguous range in kms\nBW   = 1*10**6;                  #bandwidth in hz\nV0   = 3*10**8;                  #velocity in m/s\n\n#Calculations\n\nPRF    = V0/float((2*UR*10**3));          #pulse repetition frequency in hz\nPRI    = 1/float(PRF);                    #pulse repetition interval in sec\nRR     = V0/float((2*BW));                #Range Resolution in mts\nPW     = float(2*RR)/float((V0));              #pulse width\n\n#Calculations\n\nprint'pulse repetition frequency is ',PRF ,'Hz';\nprint'pulse repetition interval is %3.3g'%(PRI*1000),'msec';\nprint'Range Resolution is ',RR,'m';\nprint'pulse width is %3.1f'%(PW*10**6),'usec';\n",
     "language": "python",
     "metadata": {},
     "outputs": [
      {
       "output_type": "stream",
       "stream": "stdout",
       "text": "pulse repetition frequency is  750.0 Hz\npulse repetition interval is 1.33 msec\nRange Resolution is  150.0 m\npulse width is 1.0 usec\n"
      }
     ],
     "prompt_number": 4
    },
    {
     "cell_type": "heading",
     "level": 2,
     "metadata": {},
     "source": "Example 4,Page No:76"
    },
    {
     "cell_type": "code",
     "collapsed": false,
     "input": "import math\n\n#variable declaration\nPt     =50000;             #peal power in watts\nPRF    =1000;              #pulse repetitive frequency in hz\nPW     =0.8;               #pulse width in usec\n \n#Calculations\n\nD     = PW*PRF*10**-6;          #duty cycle \nPav   = Pt*D;                   #average power\n\n#result\nprint'Duty cycle is %g'%D;\nprint'Average power is %g'%Pav,' Watts';\n",
     "language": "python",
     "metadata": {},
     "outputs": [
      {
       "output_type": "stream",
       "stream": "stdout",
       "text": "Duty cycle is 0.0008\nAverage power is 40  Watts\n"
      }
     ],
     "prompt_number": 5
    },
    {
     "cell_type": "heading",
     "level": 2,
     "metadata": {},
     "source": "Example 5,Page No:76"
    },
    {
     "cell_type": "code",
     "collapsed": false,
     "input": "import math\n\n#variable declaration\nVo    = 3*10**8;              #velocity in m/s\nPt    = 1*10**6;              #peak power in watts\nPW    = 1.2*10**-6;           #pulse width in sec\nPRI   = 1*10**-3;             #pulse repetition interval in sec\n\n#Calculations\n\nPRF    = 1/float(PRI);               #pulse repetition frequency in hz\nPav    = Pt*PW*PRF;           #average power in watts\nD      = Pav/float(Pt);              #Duty cycle;\nRmax   = Vo/float(2*PRF);          #maximum range of the radar in m\n\n#result\n\nprint'pulse repetition frequency is %g'%(PRF/1000),' KHz';\nprint'average power is %g'%(Pav/1000),'KW';\nprint'Duty cycle = %3.2e'%D;\nprint'Maximum range of the radar is %g '%(Rmax/1000),'Km';\n",
     "language": "python",
     "metadata": {},
     "outputs": [
      {
       "output_type": "stream",
       "stream": "stdout",
       "text": "pulse repetition frequency is 1  KHz\naverage power is 1.2 KW\nDuty cycle = 1.20e-03\nMaximum range of the radar is 150  Km\n"
      }
     ],
     "prompt_number": 7
    },
    {
     "cell_type": "heading",
     "level": 2,
     "metadata": {},
     "source": "Example 6,Page No:77"
    },
    {
     "cell_type": "code",
     "collapsed": false,
     "input": "import math\n\n#variable declaration\nPW     = 2*10**-6;          #pulse width in sec\nPRF    = 800;               #pulse repetition frequency in KHz\nV0     = 3*10**8;          #velocity in m/s\n\n#Calculations\n\nRu    = V0/float(2*PRF);      #unambigious range in mts\nRR    =(V0*PW)/float(2);             #Range resolution in m\n\n#result\nprint'unambigious range is %g'%(Ru/1000),'Km';\nprint'Range resolution is %g '%RR,'m';\n   ",
     "language": "python",
     "metadata": {},
     "outputs": [
      {
       "output_type": "stream",
       "stream": "stdout",
       "text": "unambigious range is 187.5 Km\n\n Range resolution is 300  m\n"
      }
     ],
     "prompt_number": 27
    },
    {
     "cell_type": "heading",
     "level": 2,
     "metadata": {},
     "source": "Example 7,Page No:77"
    },
    {
     "cell_type": "code",
     "collapsed": false,
     "input": "import math\n\n#variable declaration\nRmax     =  500;             #maximum range in kms\nV0       =  3*10**8;         #velocity in m/s;\n\n#calculations\n\nPRF     = (V0/float(2*Rmax*10**3));     #pulse repetitive frequency in Hz\n\n\n#result\nprint'pulse repetitive frequency is %g'%PRF,'Hz';\n",
     "language": "python",
     "metadata": {},
     "outputs": [
      {
       "output_type": "stream",
       "stream": "stdout",
       "text": "pulse repetitive frequency is 300 Hz\n"
      }
     ],
     "prompt_number": 28
    },
    {
     "cell_type": "heading",
     "level": 2,
     "metadata": {},
     "source": "Example 8,Page No:77"
    },
    {
     "cell_type": "code",
     "collapsed": false,
     "input": "import math\n\n#variable declaration\nF          = 9;              # Noise figure in dB\nBW         = 3*10**6;        # Bandwidth\nTo         = 290;            # Temperature in kelvin\nK          = 1.38*10**-23;   # Boltzman constant\n\n#Calculations\n\nF1         = 10**(F/float(10));    #antilog calculation\nPmin       = (K*To*BW)*(F1-1);     #minimum receivable power\n\n#result\n\nprint'Minimum receivable power Pmin = %3.3g'%(Pmin*10**12),'pW';\nprint'Note: Calculation error at Pmin in textbook';\n",
     "language": "python",
     "metadata": {},
     "outputs": [
      {
       "output_type": "stream",
       "stream": "stdout",
       "text": "Minimum receivable power Pmin = 0.0834 pW\nNote: Calculation error at Pmin in textbook\n"
      }
     ],
     "prompt_number": 9
    },
    {
     "cell_type": "heading",
     "level": 2,
     "metadata": {},
     "source": "Example 9,Page No:77"
    },
    {
     "cell_type": "code",
     "collapsed": false,
     "input": "import math\n\n#variable declaration\n\nPt      = 500000;            #peal power in watts\nF       = 10*10**9;          #operating frequency in hz\nMRP     = 0.1*10**-12;       #minimum receivable power in pico watts\nAc      = 5;                 #capture area of antenna in m^2;\nRCS     = 20;                #radar cross sectional area in m^2;\nVo      = 3*10**8;           #velocity in m/s\n\n# calculations\n\nlamda =Vo/float(F);\nRmax=((Pt*Ac*Ac*RCS)/float((4*math.pi*lamda*lamda*MRP)))**float(0.25);\n\n#result\n\nprint'Maximum Radar Range is %g '%(Rmax/1000),'kms';",
     "language": "python",
     "metadata": {},
     "outputs": [
      {
       "output_type": "stream",
       "stream": "stdout",
       "text": "Maximum Radar Range is 685.681  kms\n"
      }
     ],
     "prompt_number": 12
    }
   ],
   "metadata": {}
  }
 ]
}