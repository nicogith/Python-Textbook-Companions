{
 "metadata": {
  "name": "raju Chapter4"
 },
 "nbformat": 3,
 "nbformat_minor": 0,
 "worksheets": [
  {
   "cells": [
    {
     "cell_type": "heading",
     "level": 1,
     "metadata": {},
     "source": "Chapter 4: TRACKING RADAR"
    },
    {
     "cell_type": "heading",
     "level": 2,
     "metadata": {},
     "source": "Example 1, Page No 129"
    },
    {
     "cell_type": "code",
     "collapsed": false,
     "input": "\nimport math;\n\n# Variable Declaration\n\n# d = lamda/2\ntheta_d = 5                            # angle blw los and perpendicular bisector of line joining two antennas\n\n# Calculations\n\n#PD  = (2*%pi/lamda)*(d*sin(theta));\n#PD  = (2*%pi/lamda)*(lamda/2*sin(theta));\ntheta_r   = theta_d*(math.pi/180)\nPD_r      = (2*math.pi)*((math.sin(theta_r))/2);   # phase difference in radians\nPD_d      = PD_r*(180/math.pi);               # phase difference in radians\n\n\n# Result\nprint 'Phase difference b/w two echo signals is %0.2f'%(PD_d),'degrees',\" OR  %0.2f \" %PD_r,'radians';",
     "language": "python",
     "metadata": {},
     "outputs": [
      {
       "output_type": "stream",
       "stream": "stdout",
       "text": "Phase difference b/w two echo signals is 15.69 degrees  OR  0.27  radians\n"
      }
     ],
     "prompt_number": 22
    },
    {
     "cell_type": "heading",
     "level": 2,
     "metadata": {},
     "source": "Example 2, Page No 130"
    },
    {
     "cell_type": "code",
     "collapsed": false,
     "input": "# import math\n\n# Variable Declaration\nF         = 1*10**9;       # operating frequency of monopulse radar in Hz\nVo        = float(3*10**8);       # velocity of EM wave in m/s\ntheta_d   = 10             # angle blw los and perpendicular bisector of line joining two antennas\nPD_d      = 20;            # phase difference in degrees\n\n# Calculations\nlamda = Vo/F              # wavelength in m\n# PD  = (2*%pi/lamda)*(d*sin(theta));\ntheta_r   = theta_d*(math.pi/180)   # degree to radian conversion\nPD_r      = PD_d*(math.pi/180)      # degree to radian conversion\nd         = (PD_r*lamda)/(2*math.pi*math.sin(theta_r));\n\n# Output\nprint 'Spacing between the antennas is %0.2f'%(d*100),'Cms';",
     "language": "python",
     "metadata": {},
     "outputs": [
      {
       "output_type": "stream",
       "stream": "stdout",
       "text": "Spacing between the antennas is 9.60 Cms\n"
      }
     ],
     "prompt_number": 41
    }
   ],
   "metadata": {}
  }
 ]
}