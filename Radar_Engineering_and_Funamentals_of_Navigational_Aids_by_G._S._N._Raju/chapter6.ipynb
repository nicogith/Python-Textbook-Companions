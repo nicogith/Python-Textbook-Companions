{
 "metadata": {
  "name": "raju chapter 6"
 },
 "nbformat": 3,
 "nbformat_minor": 0,
 "worksheets": [
  {
   "cells": [
    {
     "cell_type": "heading",
     "level": 1,
     "metadata": {},
     "source": "Chapter 6: Radar Transmitters"
    },
    {
     "cell_type": "heading",
     "level": 2,
     "metadata": {},
     "source": "Example 1,Page No:231"
    },
    {
     "cell_type": "code",
     "collapsed": false,
     "input": "import math\n\n#variable declaration\nF     = 9*10**9;               #Reflex Klystron operating frequency in hz\nVa    = 300;                #beam voltage in volts\nI     = 20;                 #Beam current in mA\nn     = 1;                  # for 7/4 mode\n\n#Calculations\n#transit time for reflector space = n+3/4\n\nI1        = I*10**-3;                                  #beam current in mA\nPrfmax    =(0.3986*I1*Va)/float(n+3/float(4));         #maximum RF power\n\n#result\n\nprint'Maximum R-F power is %3.3f'%(Prfmax),'Watts';\n",
     "language": "python",
     "metadata": {},
     "outputs": [
      {
       "output_type": "stream",
       "stream": "stdout",
       "text": "Maximum R-F power is 1.367 Watts\n"
      }
     ],
     "prompt_number": 1
    },
    {
     "cell_type": "heading",
     "level": 2,
     "metadata": {},
     "source": "Example 2,Page No:231"
    },
    {
     "cell_type": "code",
     "collapsed": false,
     "input": "import math\n\n#variable declaration\nVdc   = 2.5*10**3;         #Beam voltage\nIdc   = 25*10**-3;          #beam current in A;\nZo    = 10;                #charecteristic impedance \nF     = 9.5*10**9;          #TWT operating frequency in hz\nN     = 40;                #circuit\n\n#Calculations\n\nC     = ((Idc*Zo)/float((4*Vdc)))**(1/float(3));       #gain parameter\nAp     = (-9.54)+(47.3*N*C);                            #Output power gain of twt\nw     = 2*math.pi*F;\nvdc   = 0.593*10**6*math.sqrt(Vdc);\nBe    = w/float(vdc);\n\n#result\n\nprint'Gain parameter is %3.3g'%C;\nprint'Output Power gain is %3.3f'%Ap,' dB';\nprint'phase constant of electron beam is %e'%Be,' rad/m';\n",
     "language": "python",
     "metadata": {},
     "outputs": [
      {
       "output_type": "stream",
       "stream": "stdout",
       "text": "Gain parameter is 0.0292\nOutput Power gain is 45.782  dB\nphase constant of electron beam is 2.013162e+03  rad/m\n"
      }
     ],
     "prompt_number": 2
    },
    {
     "cell_type": "heading",
     "level": 2,
     "metadata": {},
     "source": "Example 3,Page No:232"
    },
    {
     "cell_type": "code",
     "collapsed": false,
     "input": "import math\n\n#variable declaration\n\ne   = 1.609*10**-19;                       #charge of electron\nme  = 9.109*10**-31;                       #mass of electron in kg\nB   = 0.40;                                 #magnetic flux density\nb   = 10*10**-2;                           #Radius of vane edge from the centre\na   = 4*10**-2;                           #radius of cathode\n\n\n#Calculations\n\nWc  = (e/me)*B;             #cyclotron angular frequency in radians\nVc  = (e/(8*me))*(B**2)*(b**2)*(1-(a/float(b))**2)**2;   #cut-off voltage\n\n#result\nprint'Cyclotron Angular Frequency is %g'%Wc,'rad';\nprint'Cut-off voltage is %g'%Vc,'V';\nprint'Note:Cut-off voltage obtained in textbook is wrongly calculated.Instead of (a/b)**2 ,(a/b) is calculated';",
     "language": "python",
     "metadata": {},
     "outputs": [
      {
       "output_type": "stream",
       "stream": "stdout",
       "text": "Cyclotron Angular Frequency is 7.06554e+10 rad\nCut-off voltage is 2.49272e+07 V\nNote:Cut-off voltage obtained in textbook is wrongly calculated.Instead of (a/b)**2 ,(a/b) is calculated\n"
      }
     ],
     "prompt_number": 3
    },
    {
     "cell_type": "heading",
     "level": 2,
     "metadata": {},
     "source": "Example 4,Page No:232"
    },
    {
     "cell_type": "code",
     "collapsed": false,
     "input": "import math\n\n#variable declaration\nVa  = 900 ;                  #Accelarating voltage in volts\nF   = 3.2*10**9;              #operating frequency\nd   = 10**-3;\n\n#Calculations\n\nVe       = (0.593*10**6)*math.sqrt(Va);             #electron velocity\nw        = 2*math.pi*F;\ntheta    = w*(d/float(Ve));                        #transit angle in radians\nBe       = math.sin(theta/float(2))/(theta/float(2));    #Beam Coupling Co-efficient\n\n\n#result\n\nprint'Electron Velocity is %3.3e'%Ve,'m/s';\nprint'Transit Angle is %g'%theta,'rad';\nprint'Beam Coupling Co-efficient is %3.3f '%Be; ",
     "language": "python",
     "metadata": {},
     "outputs": [
      {
       "output_type": "stream",
       "stream": "stdout",
       "text": "Electron Velocity is 1.779e+07 m/s\nTransit Angle is 1.1302 rad\nBeam Coupling Co-efficient is 0.948 \n"
      }
     ],
     "prompt_number": 2
    },
    {
     "cell_type": "heading",
     "level": 2,
     "metadata": {},
     "source": "Example 5,Page No:233"
    },
    {
     "cell_type": "code",
     "collapsed": false,
     "input": "import math\n\n#variable declaration\nI2  = 28*10**-3 ;            #induced current in amperes\nV2  = 850;                   #fundamental component of catcher-gap voltage\nVb  = 900;                  #beam voltage\nIb  = 26*10**-3;            #beam current\nBc  = 0.946;              #beam coupling coefficient of catcher gap\n\n#Calculations\n\nn   = ((Bc*I2*V2)/(2*Ib*Vb))*100;      #efficiency of klystron\n\n\n#result\nprint'Efficiency of the klystron is %g'%n;\nprint'Note:In textbook Bc value is taken as 0.946 in calculation';",
     "language": "python",
     "metadata": {},
     "outputs": [
      {
       "output_type": "stream",
       "stream": "stdout",
       "text": "Efficiency of the klystron is 48.1085\nNote:In textbook Bc value is taken as 0.946 in calculation\n"
      }
     ],
     "prompt_number": 3
    },
    {
     "cell_type": "heading",
     "level": 2,
     "metadata": {},
     "source": "Example 6,Page No:233"
    },
    {
     "cell_type": "code",
     "collapsed": false,
     "input": "import math\n\n#variable declaration\nVd   = 2.2*10**5;           #carrier Drift Velocity in m/s\nl    = 5*10**-6;          #drift region length\n\n#Calculations\n\nF    = Vd/float((2*l));           #frequency of IMPATT Diode\n\n#result\nprint'Frequency of IMPATT Diode is %g'%(F/10**9),' Ghz';",
     "language": "python",
     "metadata": {},
     "outputs": [
      {
       "output_type": "stream",
       "stream": "stdout",
       "text": "Frequency of IMPATT Diode is 22  Ghz\n"
      }
     ],
     "prompt_number": 23
    },
    {
     "cell_type": "heading",
     "level": 2,
     "metadata": {},
     "source": "Example 7,Page No:233"
    },
    {
     "cell_type": "code",
     "collapsed": false,
     "input": "import math\n\n#variable declaration\nVd   = 3*10**5;            #Carrier Drift Velocity in m/s\nl    = 7*10**-6;           #drift region length\n\n#Calculations\n\nF    = Vd/float(2*l);       #frequency of IMPATT Diode\n\n#result\nprint'Frequency of IMPATT Diode is %3.2f'%(F/float(10**9)),' Ghz';",
     "language": "python",
     "metadata": {},
     "outputs": [
      {
       "output_type": "stream",
       "stream": "stdout",
       "text": "Frequency of IMPATT Diode is 21.43  Ghz\n"
      }
     ],
     "prompt_number": 25
    },
    {
     "cell_type": "heading",
     "level": 2,
     "metadata": {},
     "source": "Example 8,Page No:233"
    },
    {
     "cell_type": "code",
     "collapsed": false,
     "input": "import math\n\n#variable declaration\nNa   = 1.8*10**15;              #Doping Concentration \nJ    = 25*10**3;                #current density in A/cm^2\nq    = 1.6*10**-19;             #charge of electron\n\n#Calculations\n\nVaz  = J/float(q*Na);            #Avalanche Zone Velocity\n\n#result\nprint'Avalanche Zone Velocity of TRAPATT is %g'%(Vaz);\nprint'Note: wrong calculation done in Textbook';",
     "language": "python",
     "metadata": {},
     "outputs": [
      {
       "output_type": "stream",
       "stream": "stdout",
       "text": "Avalanche Zone Velocity of TRAPATT is 8.68056e+07\nNote: wrong calculation done in Textbook\n"
      }
     ],
     "prompt_number": 6
    },
    {
     "cell_type": "heading",
     "level": 2,
     "metadata": {},
     "source": "Example 9,Page No:234"
    },
    {
     "cell_type": "code",
     "collapsed": false,
     "input": "import math\n\n#variable declaration\nl  = 12*10**-3;            #gunn diode oscillator length in m\nVd = 2*10**8;               #Drift velocity in gunn diode\n\n#Calculations\n\nF  = Vd/float(l);                #Frequency of Gunn Diode Oscillator\n\n#result\nprint'Frequency of Gunn Diode Oscillator is %3.3g'%(F/10**9),' Ghz';\n",
     "language": "python",
     "metadata": {},
     "outputs": [
      {
       "output_type": "stream",
       "stream": "stdout",
       "text": "Frequency of Gunn Diode Oscillator is 16.7  Ghz\n"
      }
     ],
     "prompt_number": 7
    },
    {
     "cell_type": "heading",
     "level": 2,
     "metadata": {},
     "source": "Example 10,Page No:234"
    },
    {
     "cell_type": "code",
     "collapsed": false,
     "input": "import math\n\n#variable declaration\n\nl      = 2.5*10**-6;         #Drift length of gunn diode in m\nVd     = 2*10**8;             #Drift velocity in gun diode\nVgmin   = 3.3*10**3;          #minimum voltage gradient required to start the diode\n\n#Calculations\n\nVmin  = Vgmin*l;\n\n#result\nprint'Minimum Voltage required to operate gunn diode is %g'%(Vmin*10**3),' mV';",
     "language": "python",
     "metadata": {},
     "outputs": [
      {
       "output_type": "stream",
       "stream": "stdout",
       "text": "Minimum Voltage required to operate gunn diode is 8.25  mV\n"
      }
     ],
     "prompt_number": 8
    },
    {
     "cell_type": "code",
     "collapsed": false,
     "input": "",
     "language": "python",
     "metadata": {},
     "outputs": []
    }
   ],
   "metadata": {}
  }
 ]
}