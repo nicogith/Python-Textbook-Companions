{
 "metadata": {
  "name": "raju chapter 1"
 },
 "nbformat": 3,
 "nbformat_minor": 0,
 "worksheets": [
  {
   "cells": [
    {
     "cell_type": "heading",
     "level": 1,
     "metadata": {},
     "source": "Chapter 1:Introduction to Radar, Radar Parameters and their Definitions"
    },
    {
     "cell_type": "heading",
     "level": 2,
     "metadata": {},
     "source": "Example 1, Page No:34"
    },
    {
     "cell_type": "code",
     "collapsed": false,
     "input": "import math\n\n#variable declaration\nPRF= 1000;           #pulse repetitive frequency in Hz\nPW = 2*10**-6;         #pulse width 2us\nPav=100;              #average power in watts\n\n#Calculations\n\nPpeak = (Pav)/float((PW*PRF));         #Peak power in watts\nD     = Pav/float(Ppeak);             #Duty cycle\n\n#result\nprint' Peak power is ',Ppeak/1000,' KW';\nprint' Duty cycle is %3.1e'%D;\n\n",
     "language": "python",
     "metadata": {},
     "outputs": [
      {
       "output_type": "stream",
       "stream": "stdout",
       "text": " Peak power is  50.0  KW\n Duty cycle is 2.0e-03\n"
      }
     ],
     "prompt_number": 6
    },
    {
     "cell_type": "heading",
     "level": 2,
     "metadata": {},
     "source": "Example 2, Page No:35"
    },
    {
     "cell_type": "code",
     "collapsed": false,
     "input": "import math\n\n#variable declaration\nPRF           = 1.2*10**3;                 #pulse repetitive frequency in Hz\nPI            = 0.6*10**-3;                #pulse interval in sec\n\n#Calculations\n\nPRT            = 1/float(PRF);                     #pulse repetition frequency in Hz\nPW             = PRT-PI;                    #pulse width in sec;\n\n#result\nprint'Pulse repetitive time is %2.3g'%(PRT*1000),'ms';\nprint'Pulse width is %2.3g'%(PW*1000),'ms';\n",
     "language": "python",
     "metadata": {},
     "outputs": [
      {
       "output_type": "stream",
       "stream": "stdout",
       "text": "Pulse repetitive time is 0.833 ms\nPulse width is 0.233 ms\n"
      }
     ],
     "prompt_number": 5
    },
    {
     "cell_type": "heading",
     "level": 2,
     "metadata": {},
     "source": "Example 3,Page No:35"
    },
    {
     "cell_type": "code",
     "collapsed": false,
     "input": "import math\n\n#variable declaration\nD           = float(0.001);              #Duty Cycle\nPpeak       =500*10**3;           #Peak Power in Watts\n\n#Calculations\n\nPav          = D * Ppeak;                  # D=averagepower/Peakpower;\n\n#result\nprint'Average power is %g'%Pav,' Watts';\n",
     "language": "python",
     "metadata": {},
     "outputs": [
      {
       "output_type": "stream",
       "stream": "stdout",
       "text": "Average power is 500  Watts\n"
      }
     ],
     "prompt_number": 10
    },
    {
     "cell_type": "heading",
     "level": 2,
     "metadata": {},
     "source": "Example 4:Page No:35"
    },
    {
     "cell_type": "code",
     "collapsed": false,
     "input": "import math\n\n#variable declaration\n\nPRF          = 1000;              # pulse repetitive frequency in Hz\nPpeak        = 10*10**6;          # peak power in watts\nPav          = 100*10**3;         # average power in watts\n\n#Calculations\n\nD     = Pav/float(Ppeak);          #Duty cycle\nPRT   = 1/float(PRF);              #pulse repetitive time;\n\n#result\n\nprint'Duty cycle is %g'%D;\nprint'Repetitive time is %g'%(PRT*1000),'ms';\n",
     "language": "python",
     "metadata": {},
     "outputs": [
      {
       "output_type": "stream",
       "stream": "stdout",
       "text": "Duty cycle is 0.01\nRepetitive time is 1 ms\n"
      }
     ],
     "prompt_number": 4
    },
    {
     "cell_type": "heading",
     "level": 2,
     "metadata": {},
     "source": "Example 5, Page No:36"
    },
    {
     "cell_type": "code",
     "collapsed": false,
     "input": "import math\n\n#variable declaration\nF      = 6*10**9;              #frequency in Hz\nVo     = 3*10**8;              #velocity in m/s;\nVr     = 200;                 #Radial velocity in kmph\n\n#Calculations\n\nlamda   = Vo/float(F);                        #wavelength = vel/freq;\nFd      = (2*Vr/float(lamda))*(5/float(18));         #doppler frequency in Hz\n\n#5/18 is multiplied to convert kmph to m/s\n\n#result\nprint'Doppler Frequency is %3.3g'%(Fd/1000),'KHz';\n",
     "language": "python",
     "metadata": {},
     "outputs": [
      {
       "output_type": "stream",
       "stream": "stdout",
       "text": "Doppler Frequency is 2.22 KHz\n"
      }
     ],
     "prompt_number": 15
    }
   ],
   "metadata": {}
  }
 ]
}