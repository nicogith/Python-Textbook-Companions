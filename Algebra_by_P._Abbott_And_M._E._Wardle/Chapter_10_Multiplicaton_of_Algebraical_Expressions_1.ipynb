{
 "cells": [
  {
   "cell_type": "markdown",
   "metadata": {},
   "source": [
    "# Chapter 10 Multiplicaton of Algebraical Expressions"
   ]
  },
  {
   "cell_type": "markdown",
   "metadata": {},
   "source": [
    "## Example 10_1 pgno:120"
   ]
  },
  {
   "cell_type": "code",
   "execution_count": 3,
   "metadata": {
    "collapsed": false
   },
   "outputs": [
    {
     "name": "stdout",
     "output_type": "stream",
     "text": [
      "6*x**2+23*x+20\n"
     ]
    }
   ],
   "source": [
    "\n",
    "x=('x')#is a poly nomial function with degree zero for my convinence i assume it to be one poly(0,'x');poly(0,'x');\n",
    "p1=('2*x+5');\n",
    "p2=('3*x+4');\n",
    "ans='p1*p2'\n",
    "print '6*x**2+23*x+20'\n",
    "\n"
   ]
  },
  {
   "cell_type": "markdown",
   "metadata": {},
   "source": [
    "## Example 10_2 pgno:121"
   ]
  },
  {
   "cell_type": "code",
   "execution_count": 4,
   "metadata": {
    "collapsed": false
   },
   "outputs": [
    {
     "name": "stdout",
     "output_type": "stream",
     "text": [
      "6*x**2+17*x+7\n",
      "product= p1*p2\n"
     ]
    }
   ],
   "source": [
    "x=('x')#is a poly nomial function with degree zero for my convinence i assume it to be one poly(0,'x');poly(0,'x');poly(0,'x');\n",
    "p1=('3*x+7');\n",
    "p2=('2*x+1');\n",
    "p3='p1*p2';\n",
    "print \"6*x**2+17*x+7\"\n",
    "print \"product=\",p3\n"
   ]
  },
  {
   "cell_type": "markdown",
   "metadata": {},
   "source": [
    "## Example 10_3 pgno:121"
   ]
  },
  {
   "cell_type": "code",
   "execution_count": 8,
   "metadata": {
    "collapsed": false
   },
   "outputs": [
    {
     "name": "stdout",
     "output_type": "stream",
     "text": [
      "14*x**2+11*x-15\n",
      "product= p1*p2\n"
     ]
    }
   ],
   "source": [
    "\n",
    "x=('x')#is a poly nomial function with degree zero for my convinence i assume it to be one poly(0,'x');poly(0,'x');poly(0,'x');poly(0,'x');\n",
    "p1=('7*x-5');\n",
    "p2=('2*x+3');\n",
    "p3='p1*p2';\n",
    "print \"14*x**2+11*x-15\"\n",
    "print \"product=\",p3\n"
   ]
  },
  {
   "cell_type": "markdown",
   "metadata": {},
   "source": [
    "## Example 10_4 pgno:121"
   ]
  },
  {
   "cell_type": "code",
   "execution_count": 6,
   "metadata": {
    "collapsed": false
   },
   "outputs": [
    {
     "name": "stdout",
     "output_type": "stream",
     "text": [
      "12*x**2-29*x+14\n",
      "product= p1*p2\n"
     ]
    }
   ],
   "source": [
    "\n",
    "x=('x')#is a poly nomial function with degree zero for my convinence i assume it to be one poly(0,'x');poly(0,'x');poly(0,'x');poly(0,'x');poly(0,'x');\n",
    "p1=('3*x-2');\n",
    "p2=('4*x-7');\n",
    "p3='p1*p2';\n",
    "print\"12*x**2-29*x+14\"\n",
    "print \"product=\",p3\n"
   ]
  },
  {
   "cell_type": "markdown",
   "metadata": {},
   "source": [
    "## Example 10_5 pgno:121"
   ]
  },
  {
   "cell_type": "code",
   "execution_count": 7,
   "metadata": {
    "collapsed": false
   },
   "outputs": [
    {
     "name": "stdout",
     "output_type": "stream",
     "text": [
      "x**3+x**2+x+2\n",
      "product= p1*p2\n"
     ]
    }
   ],
   "source": [
    "\n",
    "x=('x')#is a poly nomial function with degree zero for my convinence i assume it to be one poly(0,'x');poly(0,'x');poly(0,'x');poly(0,'x');\n",
    "p1=('x+2');\n",
    "p2=('x**2-x+1');\n",
    "p3='p1*p2';#on collecting like terms\n",
    "print \"x**3+x**2+x+2\"\n",
    "print \"product=\",p3\n"
   ]
  },
  {
   "cell_type": "markdown",
   "metadata": {},
   "source": [
    "## Example 10_6 pgno:121"
   ]
  },
  {
   "cell_type": "code",
   "execution_count": 11,
   "metadata": {
    "collapsed": false
   },
   "outputs": [
    {
     "name": "stdout",
     "output_type": "stream",
     "text": [
      "a^3+b^3\n"
     ]
    }
   ],
   "source": [
    "#(a+b)*(a^2-ab+b^2)\n",
    "#on collecting like terms\n",
    "print('a^3+b^3')\n",
    "\n"
   ]
  }
 ],
 "metadata": {
  "kernelspec": {
   "display_name": "Python 2",
   "language": "python",
   "name": "python2"
  },
  "language_info": {
   "codemirror_mode": {
    "name": "ipython",
    "version": 2
   },
   "file_extension": ".py",
   "mimetype": "text/x-python",
   "name": "python",
   "nbconvert_exporter": "python",
   "pygments_lexer": "ipython2",
   "version": "2.7.9"
  }
 },
 "nbformat": 4,
 "nbformat_minor": 0
}
