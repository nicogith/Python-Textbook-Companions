{
 "metadata": {
  "name": "",
  "signature": "sha256:b6d6dfa593701249cd6d305eb45cecde030c3502c19d325045b7e05cf46a035c"
 },
 "nbformat": 3,
 "nbformat_minor": 0,
 "worksheets": [
  {
   "cells": [
    {
     "cell_type": "heading",
     "level": 1,
     "metadata": {},
     "source": [
      "3: Atomic models"
     ]
    },
    {
     "cell_type": "heading",
     "level": 2,
     "metadata": {},
     "source": [
      "Example number 3.1, Page number 45"
     ]
    },
    {
     "cell_type": "code",
     "collapsed": false,
     "input": [
      "#importing modules\n",
      "import math\n",
      "from __future__ import division\n",
      "\n",
      "#Variable declaration\n",
      "N=6.02*10**23;    #avagadro number(atoms/mole)\n",
      "rho=19.3;   #density(g/cc)\n",
      "A=197;   #atomic weight(g)\n",
      "k=8.984*10**9;  #value of k(Nm**2/C**2)\n",
      "Z=79;\n",
      "Zdash=2;\n",
      "e=1.6*10**-19;   #conversion factor from J to eV\n",
      "m=2;\n",
      "v0=8*10**6;  \n",
      "t=2*10**-6;   #thickness(m)\n",
      "\n",
      "#Calculation\n",
      "n=N*rho*10**6/A;    #number of atoms(per m**3)\n",
      "b=k*Z*Zdash*e/(m*v0);   #impact parameter(m)\n",
      "f=math.pi*b**2*n*t;    #fraction of particles scattered\n",
      "\n",
      "#Result\n",
      "print \"fraction of particles scattered is\",round(f*10**5,1),\"*10**-5\""
     ],
     "language": "python",
     "metadata": {},
     "outputs": [
      {
       "output_type": "stream",
       "stream": "stdout",
       "text": [
        "fraction of particles scattered is 7.5 *10**-5\n"
       ]
      }
     ],
     "prompt_number": 7
    },
    {
     "cell_type": "heading",
     "level": 2,
     "metadata": {},
     "source": [
      "Example number 3.3, Page number 48"
     ]
    },
    {
     "cell_type": "code",
     "collapsed": false,
     "input": [
      "#importing modules\n",
      "import math\n",
      "from __future__ import division\n",
      "\n",
      "#Variable declaration\n",
      "h=6.626*10**-34;    #planck's constant(Js)\n",
      "c=3*10**8;    #velocity of light(m/sec)\n",
      "e=1.6*10**-19;   #conversion factor from J to eV\n",
      "E=10.5;   #energy(eV)\n",
      "\n",
      "#Calculation\n",
      "E=(13.6+E)*e;   #energy of photon(J)\n",
      "lamda=h*c/E;   #wavelength(m)\n",
      "\n",
      "#Result\n",
      "print \"wavelength of photon is\",round(lamda*10**9,2),\"nm\""
     ],
     "language": "python",
     "metadata": {},
     "outputs": [
      {
       "output_type": "stream",
       "stream": "stdout",
       "text": [
        "wavelength of photon is 51.55 nm\n"
       ]
      }
     ],
     "prompt_number": 9
    },
    {
     "cell_type": "heading",
     "level": 2,
     "metadata": {},
     "source": [
      "Example number 3.4, Page number 49"
     ]
    },
    {
     "cell_type": "code",
     "collapsed": false,
     "input": [
      "#importing modules\n",
      "import math\n",
      "from __future__ import division\n",
      "\n",
      "#Variable declaration\n",
      "k=8.98*10**9;  #value of k(Nm**2/C**2)\n",
      "e=1.6*10**-19;   #conversion factor from J to eV\n",
      "n=1;  #assume\n",
      "a0=0.53*10**-10;    #radius of orbit(m)\n",
      "\n",
      "#Calculation\n",
      "PE=-k*(e**2)/(a0*e*n**2);   #potential energy(eV)\n",
      "E=-13.6/n**2;   #energy(eV)\n",
      "KE=E-PE;   #kinetic energy(eV)\n",
      "\n",
      "#Result\n",
      "print \"kinetic energy is\",round(KE,1),\"/n**2 eV\""
     ],
     "language": "python",
     "metadata": {},
     "outputs": [
      {
       "output_type": "stream",
       "stream": "stdout",
       "text": [
        "kinetic energy is 13.5 /n**2 eV\n"
       ]
      }
     ],
     "prompt_number": 11
    },
    {
     "cell_type": "heading",
     "level": 2,
     "metadata": {},
     "source": [
      "Example number 3.6, Page number 51"
     ]
    },
    {
     "cell_type": "code",
     "collapsed": false,
     "input": [
      "#importing modules\n",
      "import math\n",
      "from __future__ import division\n",
      "\n",
      "#Variable declaration\n",
      "Mbyme=1836;    \n",
      "lamda=6562.8;    #wavelength for hydrogen(angstrom)\n",
      "\n",
      "#Calculation\n",
      "mew_dashbymew=2*(1+Mbyme)/(1+(2*Mbyme));\n",
      "lamda_dash=lamda/mew_dashbymew;    #wavelength for deuterium(angstrom)\n",
      "\n",
      "#Result\n",
      "print \"wavelength for deuterium is\",int(lamda_dash),\"angstrom\""
     ],
     "language": "python",
     "metadata": {},
     "outputs": [
      {
       "output_type": "stream",
       "stream": "stdout",
       "text": [
        "wavelength for deuterium is 6561 angstrom\n"
       ]
      }
     ],
     "prompt_number": 14
    }
   ],
   "metadata": {}
  }
 ]
}