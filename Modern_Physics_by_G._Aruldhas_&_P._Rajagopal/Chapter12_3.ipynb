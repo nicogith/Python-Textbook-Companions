{
 "metadata": {
  "name": "",
  "signature": "sha256:881432a5cd98267b92bdfa11e021925fdef61ae98abdadccafbf254c6f9ca038"
 },
 "nbformat": 3,
 "nbformat_minor": 0,
 "worksheets": [
  {
   "cells": [
    {
     "cell_type": "heading",
     "level": 1,
     "metadata": {},
     "source": [
      "12: Band theory of solids"
     ]
    },
    {
     "cell_type": "heading",
     "level": 2,
     "metadata": {},
     "source": [
      "Example number 12.1, Page number 243"
     ]
    },
    {
     "cell_type": "code",
     "collapsed": false,
     "input": [
      "#importing modules\n",
      "import math\n",
      "from __future__ import division\n",
      "\n",
      "#Variable declaration\n",
      "EF=8;     #fermi energy(eV)\n",
      "e=1.6*10**-19;   #conversion factor from J to eV\n",
      "m=9.1*10**-31;    #mass of electron(kg)\n",
      "\n",
      "#Calculation\n",
      "E0bar=3*EF/5;   \n",
      "v=math.sqrt(2*E0bar*e/m);     #speed of electron(m/s)\n",
      "\n",
      "#Result\n",
      "print \"speed of electron is\",round(v/10**6,1),\"*10**6 m/s\""
     ],
     "language": "python",
     "metadata": {},
     "outputs": [
      {
       "output_type": "stream",
       "stream": "stdout",
       "text": [
        "speed of electron is 1.3 *10**6 m/s\n"
       ]
      }
     ],
     "prompt_number": 3
    },
    {
     "cell_type": "heading",
     "level": 2,
     "metadata": {},
     "source": [
      "Example number 12.2, Page number 244"
     ]
    },
    {
     "cell_type": "code",
     "collapsed": false,
     "input": [
      "#importing modules\n",
      "import math\n",
      "from __future__ import division\n",
      "\n",
      "#Variable declaration\n",
      "I=8;    #current(ampere)\n",
      "r=9*10**-4;   #radius(m)\n",
      "V=5;   #potential difference(V)\n",
      "L=1;   #length(m)\n",
      "\n",
      "#Calculation\n",
      "A=math.pi*r**2;    #area of wire(m**2)\n",
      "E=V/L;\n",
      "J=I/A;   #current density(V/m)\n",
      "rho=E/J;    #resistivity(ohm m)\n",
      "\n",
      "#Result\n",
      "print \"current density is\",round(J/10**6,3),\"*10**6 V/m\"\n",
      "print \"resistivity is\",round(rho*10**6,2),\"*10**-6 ohm m\""
     ],
     "language": "python",
     "metadata": {},
     "outputs": [
      {
       "output_type": "stream",
       "stream": "stdout",
       "text": [
        "current density is 3.144 *10**6 V/m\n",
        "resistivity is 1.59 *10**-6 ohm m\n"
       ]
      }
     ],
     "prompt_number": 6
    },
    {
     "cell_type": "heading",
     "level": 2,
     "metadata": {},
     "source": [
      "Example number 12.3, Page number 245"
     ]
    },
    {
     "cell_type": "code",
     "collapsed": false,
     "input": [
      "#importing modules\n",
      "import math\n",
      "from __future__ import division\n",
      "\n",
      "#Variable declaration\n",
      "n=1;\n",
      "a=4*10**-10;   #lattice parameter(m)\n",
      "N=1.56*10**28;  \n",
      "e=1.6*10**-19;   #conversion factor from J to eV\n",
      "tow=10**-15;    #collision time(s)\n",
      "m=9.1*10**-31;    #mass of electron(kg)\n",
      "\n",
      "#Calculation\n",
      "N=n/(a**3);    #number of electrons per unit volume(per m**3)\n",
      "sigma=N*e**2*tow/m;   #conductivity(per ohm m)\n",
      "rho=1/sigma;   #resistivity(ohm m)\n",
      "\n",
      "#Result\n",
      "print \"conductivity is\",round(sigma/10**6,2),\"*10**6 ohm m\"\n",
      "print \"resistivity is\",rho,\"ohm m\""
     ],
     "language": "python",
     "metadata": {},
     "outputs": [
      {
       "output_type": "stream",
       "stream": "stdout",
       "text": [
        "conductivity is 0.44 *10**6 ohm m\n",
        "resistivity is 2.275e-06 ohm m\n"
       ]
      }
     ],
     "prompt_number": 8
    },
    {
     "cell_type": "heading",
     "level": 2,
     "metadata": {},
     "source": [
      "Example number 12.4, Page number 247"
     ]
    },
    {
     "cell_type": "code",
     "collapsed": false,
     "input": [
      "#importing modules\n",
      "import math\n",
      "from __future__ import division\n",
      "\n",
      "#Variable declaration\n",
      "k=1.38*10**-23;   #boltzmann constant(J/K)\n",
      "NA=6.02*10**26;   #avagadro number(k/mole)\n",
      "T=300;     #temperature(K)\n",
      "EF=2;   #fermi energy(eV)\n",
      "e=1.6*10**-19;   #conversion factor from J to eV\n",
      "\n",
      "#Calculation\n",
      "C=math.pi**2*k**2*NA*T/(2*EF*e);    #electronic specific heat(J/kmol/K)\n",
      "\n",
      "#Result\n",
      "print \"electronic specific heat is\",int(C),\"J/kmol/K\""
     ],
     "language": "python",
     "metadata": {},
     "outputs": [
      {
       "output_type": "stream",
       "stream": "stdout",
       "text": [
        "electronic specific heat is 530 J/kmol/K\n"
       ]
      }
     ],
     "prompt_number": 10
    },
    {
     "cell_type": "heading",
     "level": 2,
     "metadata": {},
     "source": [
      "Example number 12.5, Page number 247"
     ]
    },
    {
     "cell_type": "code",
     "collapsed": false,
     "input": [
      "#importing modules\n",
      "import math\n",
      "from __future__ import division\n",
      "\n",
      "#Variable declaration\n",
      "K=327;    #thermal conductivity(W/mK)\n",
      "T=300;   #temperature(K)\n",
      "rho=7.13*10**3;    #density(kg/m**3)\n",
      "NA=6.02*10**26;   #avagadro number(k/mole)\n",
      "w=65.38;   #atomic weight\n",
      "e=1.6*10**-19;   #conversion factor from J to eV\n",
      "tow=2.5*10**-14;   #relaxation time(s)\n",
      "m=9.1*10**-31;    #mass of electron(kg)\n",
      "\n",
      "#Calculation\n",
      "N=2*rho*NA/w;     #number of electrons per unit volume(per m**3)\n",
      "sigma=N*e**2*tow/m;   #conductivity(per ohm m)\n",
      "L=K/(sigma*T);    #lorentz number(W ohm/K**2)\n",
      "\n",
      "#Result\n",
      "print \"lorentz number is\",round(L*10**8,4),\"*10**-8 W ohm/K**2\""
     ],
     "language": "python",
     "metadata": {},
     "outputs": [
      {
       "output_type": "stream",
       "stream": "stdout",
       "text": [
        "lorentz number is 1.1804 *10**-8 W ohm/K**2\n"
       ]
      }
     ],
     "prompt_number": 12
    },
    {
     "cell_type": "heading",
     "level": 2,
     "metadata": {},
     "source": [
      "Example number 12.6, Page number 248"
     ]
    },
    {
     "cell_type": "code",
     "collapsed": false,
     "input": [
      "#importing modules\n",
      "import math\n",
      "from __future__ import division\n",
      "\n",
      "#Variable declaration\n",
      "e=1.6*10**-19;   #conversion factor from J to eV\n",
      "n=5*10**28;    #number of atoms(/m**3)\n",
      "\n",
      "#Calculation\n",
      "RH=-1/(n*e);    #hall coefficient(m**3/C)\n",
      "\n",
      "#Result\n",
      "print \"hall coefficient is\",round(RH*10**9,3),\"*10**-9 m**3/C\""
     ],
     "language": "python",
     "metadata": {},
     "outputs": [
      {
       "output_type": "stream",
       "stream": "stdout",
       "text": [
        "hall coefficient is -0.125 *10**-9 m**3/C\n"
       ]
      }
     ],
     "prompt_number": 14
    }
   ],
   "metadata": {}
  }
 ]
}