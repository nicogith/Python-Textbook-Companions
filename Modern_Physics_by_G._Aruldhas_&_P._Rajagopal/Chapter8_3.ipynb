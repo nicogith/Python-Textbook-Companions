{
 "metadata": {
  "name": "",
  "signature": "sha256:3bf1b2120b5dacb9d86b4fa6efbc4300ebec3d48ce95ec80e2e6a8f936088a09"
 },
 "nbformat": 3,
 "nbformat_minor": 0,
 "worksheets": [
  {
   "cells": [
    {
     "cell_type": "heading",
     "level": 1,
     "metadata": {},
     "source": [
      "8: Statistical physics"
     ]
    },
    {
     "cell_type": "heading",
     "level": 2,
     "metadata": {},
     "source": [
      "Example number 8.2, Page number 164"
     ]
    },
    {
     "cell_type": "code",
     "collapsed": false,
     "input": [
      "#importing modules\n",
      "import math\n",
      "from __future__ import division\n",
      "\n",
      "#Variable declaration\n",
      "rho=10.5;    #density of silver(g/cc)\n",
      "M=108;    #atomic weight(g/mole)\n",
      "NA=6.02*10**23;   #avagadro number(atoms/mole)\n",
      "h=6.626*10**-34;    #planck's constant(Js)\n",
      "m=9.1*10**-31;    #mass of electron(kg)\n",
      "e=1.6*10**-19;   #conversion factor from J to eV\n",
      "\n",
      "#Calculation\n",
      "NbyV=rho*NA/M;    #number density of conduction electrons(per cc)\n",
      "NbyV=NbyV*10**6;   #number density of conduction electrons(per m**3)\n",
      "EF=(h**2/(8*m))*(3*NbyV/math.pi)**(2/3);   #fermi energy(J)\n",
      "EF=EF/e;   #fermi energy(eV)\n",
      "E=3*EF/5;    #mean energy of electron(eV)\n",
      "\n",
      "#Result\n",
      "print \"number density of conduction electrons is\",round(NbyV/10**28,2),\"*10**28 per m**3\"\n",
      "print \"fermi energy is\",round(EF,2),\"eV\"\n",
      "print \"mean energy of electron is\",round(E,2),\"eV\""
     ],
     "language": "python",
     "metadata": {},
     "outputs": [
      {
       "output_type": "stream",
       "stream": "stdout",
       "text": [
        "number density of conduction electrons is 5.85 *10**28 per m**3\n",
        "fermi energy is 5.51 eV\n",
        "mean energy of electron is 3.31 eV\n"
       ]
      }
     ],
     "prompt_number": 5
    },
    {
     "cell_type": "heading",
     "level": 2,
     "metadata": {},
     "source": [
      "Example number 8.3, Page number 164"
     ]
    },
    {
     "cell_type": "code",
     "collapsed": false,
     "input": [
      "#importing modules\n",
      "import math\n",
      "from __future__ import division\n",
      "\n",
      "#Variable declaration\n",
      "T=300;    #temperature(K)\n",
      "k=1.38*10**-23;   #boltzmann constant(J/K)\n",
      "EF=5.49;    #fermi energy(eV)\n",
      "e=1.6*10**-19;   #conversion factor from J to eV\n",
      "R=1;   #assume\n",
      "\n",
      "#Calculation\n",
      "CV=math.pi**2*k*T*R/(2*EF*e);    #electronic contribution of Silver(R)\n",
      "\n",
      "#Result\n",
      "print \"electronic contribution of Silver is\",round(CV,5),\"R\""
     ],
     "language": "python",
     "metadata": {},
     "outputs": [
      {
       "output_type": "stream",
       "stream": "stdout",
       "text": [
        "electronic contribution of Silver is 0.02326 R\n"
       ]
      }
     ],
     "prompt_number": 9
    }
   ],
   "metadata": {}
  }
 ]
}