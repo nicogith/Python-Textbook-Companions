{
 "metadata": {
  "name": "",
  "signature": "sha256:eeb1c8da856a86d3cb60a72e738f1fe4c7b2d7aaa546df7d68c6871754268745"
 },
 "nbformat": 3,
 "nbformat_minor": 0,
 "worksheets": [
  {
   "cells": [
    {
     "cell_type": "heading",
     "level": 1,
     "metadata": {},
     "source": [
      "Chapter 15 : Real Gases Equations of State"
     ]
    },
    {
     "cell_type": "heading",
     "level": 3,
     "metadata": {},
     "source": [
      " Example 15.1 Page No. 464\n"
     ]
    },
    {
     "cell_type": "code",
     "collapsed": false,
     "input": [
      "\n",
      "# variables\n",
      "R = 82.06             # gas constant-[(cm**3 *atm)/(g mol *K)]\n",
      "a = 9.24 *10**(6) ;   #(atm) *(cm**3/g mol)**2\n",
      "b = 90.7 ;            # (cm**3)/(g mol)\n",
      "m_C3H8 = 22.7         # Mass of propane-[kg]\n",
      "mw_C3H8 =  44. ;      # Mol. wt. of  1kmol propane-[kg]\n",
      "V = 0.15 *10**(6) ;   # Volume of cylinder -[cm**3]\n",
      "pg = 4790.            # Gauge pressure -[kPa]\n",
      "\n",
      "# Calculations\n",
      "P = (pg +101.3)/101.3         # Pressure absolute-[atm abs]\n",
      "n = (m_C3H8/mw_C3H8) *10**3 ; # Moles of propane\n",
      "# Get T using Van der Waal's eqn. \n",
      "T = ((P +((n**(2) *a/(V**(2))))) *(V-n *b))/(R *n) ;# Temperature of propane-[K]\n",
      "\n",
      "# Result\n",
      "print 'Temperature of propane is %.0f K.'%T"
     ],
     "language": "python",
     "metadata": {},
     "outputs": [
      {
       "output_type": "stream",
       "stream": "stdout",
       "text": [
        "Temperature of propane is 384 K.\n"
       ]
      }
     ],
     "prompt_number": 1
    },
    {
     "cell_type": "code",
     "collapsed": true,
     "input": [],
     "language": "python",
     "metadata": {},
     "outputs": []
    }
   ],
   "metadata": {}
  }
 ]
}