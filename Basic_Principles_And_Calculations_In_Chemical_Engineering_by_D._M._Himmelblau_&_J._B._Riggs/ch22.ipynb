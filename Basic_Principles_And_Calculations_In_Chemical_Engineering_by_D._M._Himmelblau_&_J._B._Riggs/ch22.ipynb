{
 "metadata": {
  "name": "",
  "signature": "sha256:378027dede13493be733241ad48420c91ebbcd1218fa032fc3c46fa099a45a58"
 },
 "nbformat": 3,
 "nbformat_minor": 0,
 "worksheets": [
  {
   "cells": [
    {
     "cell_type": "heading",
     "level": 1,
     "metadata": {},
     "source": [
      "Chapter 22 : Introduction to Energy Balances for Process without Reaction"
     ]
    },
    {
     "cell_type": "heading",
     "level": 3,
     "metadata": {},
     "source": [
      " Example 22.1  page no. 651\n"
     ]
    },
    {
     "cell_type": "code",
     "collapsed": false,
     "input": [
      "\n",
      "\n",
      "# Variables\n",
      "#Assume that properties of water can be used to substitute properties of solution\n",
      "# Given\n",
      "V = 1.673 ;\t\t\t# Volume of closed vessel-[cubic metre]\n",
      "m = 1. ;\t\t\t# mass of saturated liquid vaporized-[kg]\n",
      "Pi = 1. ;\t\t\t# Initial pressure -[atm]\n",
      "Ti = 10. ;\t\t\t# Initial temperature -[degree C]\n",
      "Pf = 1. ;\t\t\t# final pressure -[atm]\n",
      "Tf = 100. ;\t\t\t# final temperature -[degree C]\n",
      "\n",
      "# Use steam table to obtain additional information at given condition\n",
      "Ui = 35. ;\t\t\t# Initial enthalpy-[kJ/kg]\n",
      "Uf = 2506.0 ;\t\t\t# Final enthalpy -[kJ/kg]\n",
      "\n",
      "# Calculations\n",
      "# Use eqn. 22.2 after modifiying it using given conditions(W = 0,del_KE = 0 and del_PE = 0 )\n",
      "Q = m*(Uf - Ui) ;\t\t\t# Heat transferred to  the vessel - [kJ]\n",
      "\n",
      "# Results\n",
      "print 'Heat transferred to  the vessel is %.1f kJ . '%Q\n"
     ],
     "language": "python",
     "metadata": {},
     "outputs": [
      {
       "output_type": "stream",
       "stream": "stdout",
       "text": [
        "Heat transferred to  the vessel is 2471.0 kJ . \n"
       ]
      }
     ],
     "prompt_number": 1
    },
    {
     "cell_type": "heading",
     "level": 3,
     "metadata": {},
     "source": [
      "Example 22.2 page no. 652\n"
     ]
    },
    {
     "cell_type": "code",
     "collapsed": false,
     "input": [
      "\n",
      "\n",
      "# Variables\n",
      "# Given\n",
      "T1 = 80. ;\t\t\t# Initial temperature -[degree F]\n",
      "T1 = 40. ;\t\t\t# final temperature -[degree F]\n",
      "\n",
      "# Additional data obtained from steam table at given temperatures and corresponding vapour pressures\n",
      "p1 = 0.5067 ;\t\t\t# Initial saturation pressure-[psia]\n",
      "p2 = 0.1217 ;\t\t\t# Final saturation pressure-[psia]\n",
      "V1 = 0.01607 ;\t\t\t# Initial specific volume - [cubic feet/lb]\n",
      "V2 = 0.01602 ;\t\t\t# Final specific volume - [cubic feet/lb]\n",
      "H1 = 48.02 ;\t\t\t#Initial specific enthalpy -[Btu/lb]\n",
      "H2 = 8.05 ;\t\t\t# Final specific  enthalpy -[Btu/lb]\n",
      "\n",
      "# Calculations\n",
      "del_P = p2 - p1 ;\t\t\t# Change in pressure -[psia]\n",
      "del_V = V2 - V1 ;\t\t\t# Change in specific volume -[cubic feet/lb]\n",
      "del_H = H2 - H1 ;\t\t\t# Change in specific enthalpy -[Btu/lb]\n",
      "del_pV = p2*144*V2/778. - p1*144*V1/778. ;\t\t\t# Change in pv-[Btu]\n",
      "del_U = del_H - del_pV ;\t\t\t# Change in specific internal energy - [Btu/lb]\n",
      "del_E = del_U ;\t\t\t# Change in specific total energy(since KE=0,PE=0 and W=0) -[Btu/lb]\n",
      "\n",
      "# Results\n",
      "print 'Change in pressure is %.3f psia . '%del_P\n",
      "print 'Change in specific volume is %.5f cubic feet/lb (negligible value) . '%del_V\n",
      "print 'Change in specific enthalpy is %.2f Btu/lb . '%del_H\n",
      "print 'Change in specific internal energy is %.2f Btu/lb . '%del_U\n",
      "print 'Change in specific total energy is %.2f Btu/lb . '%del_E\n"
     ],
     "language": "python",
     "metadata": {},
     "outputs": [
      {
       "output_type": "stream",
       "stream": "stdout",
       "text": [
        "Change in pressure is -0.385 psia . \n",
        "Change in specific volume is -0.00005 cubic feet/lb (negligible value) . \n",
        "Change in specific enthalpy is -39.97 Btu/lb . \n",
        "Change in specific internal energy is -39.97 Btu/lb . \n",
        "Change in specific total energy is -39.97 Btu/lb . \n"
       ]
      }
     ],
     "prompt_number": 2
    },
    {
     "cell_type": "heading",
     "level": 3,
     "metadata": {},
     "source": [
      " Example 22.3  page no. 662\n"
     ]
    },
    {
     "cell_type": "code",
     "collapsed": false,
     "input": [
      "\n",
      "\n",
      "# Variables\n",
      "#Lets take tank to be system\n",
      "# Given\n",
      "T = 600. ; \t\t\t# Temperature of steam  -[K]\n",
      "P = 1000. ;\t\t\t# Pressure of steam -[kPa]\n",
      "\n",
      "# Calculations\n",
      "# Additional data for steam obtained from CD database at T and P\n",
      "U = 2837.73 ;\t\t\t# Specific internal energy-[kJ/kg]\n",
      "H = 3109.44 ;\t\t\t# Specific enthalpy -[kJ/kg]\n",
      "V = 0.271 ;\t\t\t# Specific volume -[cubic metre/kg]\n",
      "# By the reduced equation \n",
      "Ut2 = H ;\t\t\t# Internal energy at final temperature-[kJ/kg]\n",
      "\n",
      "# Results\n",
      "print 'The specific internal energy at final temperature is %.2f kJ/kg. Now use two properties\\\n",
      "of the steam (P = %i kPa and Ut2 = %.2f kJ/kg) to find final temperature (T) from steam table. \\\n",
      "From steam table we get T = 764 K.'%(Ut2,P,Ut2)\n"
     ],
     "language": "python",
     "metadata": {},
     "outputs": [
      {
       "output_type": "stream",
       "stream": "stdout",
       "text": [
        "The specific internal energy at final temperature is 3109.44 kJ/kg. Now use two propertiesof the steam (P = 1000 kPa and Ut2 = 3109.44 kJ/kg) to find final temperature (T) from steam table. From steam table we get T = 764 K.\n"
       ]
      }
     ],
     "prompt_number": 3
    },
    {
     "cell_type": "heading",
     "level": 3,
     "metadata": {},
     "source": [
      " Example 22.4 page no. 669\n"
     ]
    },
    {
     "cell_type": "code",
     "collapsed": false,
     "input": [
      "\n",
      "\n",
      "# Variables\n",
      "# Take milk plus water in tank to be system\n",
      "# Given\n",
      "T1_water = 70.  ;\t\t\t# Temperature of entering water  -[degree C]\n",
      "T2_water = 35. ;\t\t\t# Temperature of exiting water  -[degree C]\n",
      "T1_milk = 15. ;\t\t\t#Temperature of entering milk  -[degree C]\n",
      "T2_milk = 25. ;\t\t\t#Temperature of exiting milk  -[degree C]\n",
      "\n",
      "# Get additional data from steam table for water and milk,assuming milk to have same properties as that of water.\n",
      "H_15 = 62.01 ;\t\t\t#Change in specific internal energy-[kJ/kg]\n",
      "H_25 = 103.86  ;\t\t\t#Change in specific internal energy-[kJ/kg]\n",
      "H_35 = 146.69  ;\t\t\t#Change in specific internal energy-[kJ/kg]\n",
      "H_70 = 293.10  ;\t\t\t#Change in specific internal energy-[kJ/kg]\n",
      "\n",
      "# Assumptions to simplify Equation 22.8 are:\n",
      "print 'Assumptions to simplify Equation 22.8 are:'\n",
      "print '1. Change in KE and PE of system = 0.'\n",
      "print '2. Q = 0 ,because of way we picked the system,it is is well insulated.'\n",
      "print '3. W = 0,work done by or on the system.'\n",
      "\n",
      "# Calculations\n",
      "#Basis m_milk = 1 kg/min , to directly get the answer  .\n",
      "m_milk = 1 ;\t\t\t# Mass flow rate of milk-[kg/min]\n",
      "# By applying above assumtions eqn. 22.8 reduces to del_H = 0 .Using it get m_water-\n",
      "m_water = (m_milk*(H_15 - H_25))/(H_35 - H_70) ; \t\t\t# Mass flow rate of water-[kg/min]\n",
      "m_ratio = m_water/m_milk ;\t\t\t# Mass flow rate of water per kg/min of milk-[kg/min]\n",
      "\n",
      "# Results\n",
      "print 'Mass flow rate of water per kg/min of milk is %.2f (kg water/min )/(kg milk/min).'%m_ratio\n"
     ],
     "language": "python",
     "metadata": {},
     "outputs": [
      {
       "output_type": "stream",
       "stream": "stdout",
       "text": [
        "Assumptions to simplify Equation 22.8 are:\n",
        "1. Change in KE and PE of system = 0.\n",
        "2. Q = 0 ,because of way we picked the system,it is is well insulated.\n",
        "3. W = 0,work done by or on the system.\n",
        "Mass flow rate of water per kg/min of milk is 0.29 (kg water/min )/(kg milk/min).\n"
       ]
      }
     ],
     "prompt_number": 4
    },
    {
     "cell_type": "heading",
     "level": 3,
     "metadata": {},
     "source": [
      " Example 22.5  page no. 670\n"
     ]
    },
    {
     "cell_type": "code",
     "collapsed": false,
     "input": [
      "\n",
      "\n",
      "# Variables\n",
      "# Take pipe between initial and final level of water\n",
      "# Given\n",
      "h_in = -20. ;\t\t\t# Depth of water below ground-[ft]\n",
      "h_out = 5. ;\t\t\t# Height of water level above ground-[ft]\n",
      "h = h_out - h_in ;\t\t\t# Total height to which water is pumped-[ft]\n",
      "V = 0.50 ;\t\t\t# Volume flow rate of water - [cubic feet/s]\n",
      "ef = 100.; \t\t\t# Efficiency of pump - [%] \n",
      "g = 32.2; \t\t\t# Acceleration due to gravity -[ft/square second] \n",
      "gc = 32.2 ;\t\t\t#[(ft*lbm)/(second square*lbf)]\n",
      "\n",
      "M = V * 62.4 ;\t\t\t# mass flow rate - [lbm/s]\n",
      "PE_in = 0 ;\t\t\t# Treating initial water level to be reference level\n",
      "\n",
      "# Calculations\n",
      "PE_out = (M*g*h*1.055)/(gc*778.2) ;\t\t\t# PE of discharged water -[lbm*(square feet/square second)]\n",
      "W = PE_out - PE_in ;\t\t\t#Work done on system = power delivered by pump, (since we are using mass flow rate and pump efficiency is 100 % , so W = Power) -[kW]\n",
      "\n",
      "# Results\n",
      "print 'The electric power required by the pump is %.2f kW. '%W\n"
     ],
     "language": "python",
     "metadata": {},
     "outputs": [
      {
       "output_type": "stream",
       "stream": "stdout",
       "text": [
        "The electric power required by the pump is 1.06 kW. \n"
       ]
      }
     ],
     "prompt_number": 5
    },
    {
     "cell_type": "code",
     "collapsed": true,
     "input": [],
     "language": "python",
     "metadata": {},
     "outputs": []
    }
   ],
   "metadata": {}
  }
 ]
}