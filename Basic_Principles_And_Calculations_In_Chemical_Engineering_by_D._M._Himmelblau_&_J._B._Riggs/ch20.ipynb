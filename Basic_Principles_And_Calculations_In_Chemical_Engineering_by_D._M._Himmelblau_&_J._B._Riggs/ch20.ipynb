{
 "metadata": {
  "name": "",
  "signature": "sha256:160cdac5d7f0b7135dad8dda86f1147a9289b5d9942c1ebb05ca32b461c42f4f"
 },
 "nbformat": 3,
 "nbformat_minor": 0,
 "worksheets": [
  {
   "cells": [
    {
     "cell_type": "heading",
     "level": 1,
     "metadata": {},
     "source": [
      "Chapter 20 : Liquid and Gases in Equilibrium with Solids"
     ]
    },
    {
     "cell_type": "heading",
     "level": 3,
     "metadata": {},
     "source": [
      " Example 20.1   Page no. 594\n"
     ]
    },
    {
     "cell_type": "code",
     "collapsed": false,
     "input": [
      "\n",
      "%matplotlib inline\n",
      "\n",
      "from matplotlib import pyplot as plt\n",
      "\n",
      "# Variables\n",
      "p_CO2 = [0,25,50,100,200,400,760] ;\t\t\t# Values of partial pressure of CO2 - [mm Hg]\n",
      "y = [0,6.69*10**-2,9.24*10**-2,0.108,0.114,0.127,0.137] ;\t\t\t# adsorption of CO2 -[g adorbed / g seives]\n",
      "\n",
      "# Results\n",
      "plt.plot(p_CO2,y);\n",
      "plt.title('Figure E20.1 The Freundlich and Langmuir iotherms coincide for the adsorption of CO2 on 5A molecular seives');\n",
      "plt.show()\n"
     ],
     "language": "python",
     "metadata": {},
     "outputs": [
      {
       "output_type": "stream",
       "stream": "stdout",
       "text": [
        "Populating the interactive namespace from numpy and matplotlib\n"
       ]
      },
      {
       "metadata": {},
       "output_type": "display_data",
       "png": "[encoded data removed]",
       "text": [
        "<matplotlib.figure.Figure at 0x1c0f410>"
       ]
      }
     ],
     "prompt_number": 1
    },
    {
     "cell_type": "heading",
     "level": 3,
     "metadata": {},
     "source": [
      " Example 20.2  page no. 596\n"
     ]
    },
    {
     "cell_type": "code",
     "collapsed": false,
     "input": [
      "\n",
      "\n",
      "# Variables\n",
      "G = 1000.0 ;\t\t\t# Volume of solution - [L]\n",
      "S_ad = 1.56 ;\t\t\t# amount of Steptomycin adsorbed per gram resin-[g strep./g resin]\n",
      "cn_S = 6. ;\t\t\t# Concentration of streptomycin solution-[g/L]\n",
      "\n",
      "# Calculations\n",
      "# Assume equilibrium occurs so that total(max) amount of streptomycin is adsorbed \n",
      "max_S = cn_S*G ;\t\t\t# Maximum streptomycin adsorbed-[g]\n",
      "#Use streptomycin balance to get amount of resin required \n",
      "R = max_S/S_ad ;\t\t\t#Amount of resin required to adsorb required amount of streptomycin\n",
      "\n",
      "# Results\n",
      "print 'Amount of resin required to adsorb required amount of streptomycin is %.0f g . '%R\n"
     ],
     "language": "python",
     "metadata": {},
     "outputs": [
      {
       "output_type": "stream",
       "stream": "stdout",
       "text": [
        "Amount of resin required to adsorb required amount of streptomycin is 3846 g . \n"
       ]
      }
     ],
     "prompt_number": 2
    },
    {
     "cell_type": "heading",
     "level": 3,
     "metadata": {},
     "source": [
      " Example 20.3  page no. 596\n"
     ]
    },
    {
     "cell_type": "code",
     "collapsed": false,
     "input": [
      "\n",
      "# Variables\n",
      "G = 1000. ;\t\t\t# Volume of solution - [L]\n",
      "x = [19.2,17.2,12.6,8.6,3.4,1.4]  ;\t\t\t# concentration of solute- [g/L] \n",
      "ac = [0,0.01,0.04,0.08,0.20,0.40]  ;\t\t\t# Activated charcoal added-[g/1000g sol] \n",
      "# Assume all concentration can be treated as g solute/1000 g sol.\n",
      "\n",
      "# Calculations\n",
      "y2 = (x[0]-x[1])/ac[1]  ;\t\t\t# -[ g solute/g carbon]\n",
      "y3 = (x[0]-x[2])/ac[2]  ;\t\t\t# -[ g solute/g carbon]\n",
      "y4 = (x[0]-x[3])/ac[3]  ;\t\t\t# -[ g solute/g carbon]\n",
      "y5 = (x[0]-x[4])/ac[4]  ;\t\t\t# -[ g solute/g carbon]\n",
      "y6 = (x[0]-x[5])/ac[5]  ;\t\t\t# -[ g solute/g carbon]\n",
      "\n",
      "# Use polymath to get Freundlich isotherm to bo y= 37.919*x**(0.583)\n",
      "y = 37.919*x[5]**(0.583) ;\t\t\t#From Freundlich isotherm\n",
      "A_by_G = (x[0]-x[5])/y ;\t\t\t#Minimum mss of activated carbon required- [g carbon/1000 g sol.]\n",
      "\n",
      "# Results\n",
      "print 'Minimum mass of activated carbon required is %.2f g carbon/1000 g sol.  '%A_by_G\n"
     ],
     "language": "python",
     "metadata": {},
     "outputs": [
      {
       "output_type": "stream",
       "stream": "stdout",
       "text": [
        "Minimum mass of activated carbon required is 0.39 g carbon/1000 g sol.  \n"
       ]
      }
     ],
     "prompt_number": 3
    },
    {
     "cell_type": "code",
     "collapsed": true,
     "input": [],
     "language": "python",
     "metadata": {},
     "outputs": []
    }
   ],
   "metadata": {}
  }
 ]
}