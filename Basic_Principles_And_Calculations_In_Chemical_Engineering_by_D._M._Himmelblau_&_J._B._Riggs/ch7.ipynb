{
 "metadata": {
  "name": "",
  "signature": "sha256:702f6d54433444391f54642fccdef71d5ded6c19433d61198181ed7204437113"
 },
 "nbformat": 3,
 "nbformat_minor": 0,
 "worksheets": [
  {
   "cells": [
    {
     "cell_type": "heading",
     "level": 1,
     "metadata": {},
     "source": [
      "Chapter 7 : A General Strategy for Solving Material Balance Problems"
     ]
    },
    {
     "cell_type": "heading",
     "level": 3,
     "metadata": {},
     "source": [
      " Example 7.1 Page no.169\n"
     ]
    },
    {
     "cell_type": "code",
     "collapsed": false,
     "input": [
      "\n",
      "\n",
      "# Variables\n",
      "v_ts = 105.0 ;          # velocity of train wrt station-[cm/s]\n",
      "v_mt = 30.0 ;           # velocity of man wrt train-[cm/s]\n",
      "v_hm = 2.0 ;            # velocity of hot dough wrt man-[cm/s]\n",
      "v_am = 1.0 ;            # velocity of ant wrt man- [cm/s]\n",
      "# By careful reading of problem you can see that ant is moving away from man's mouth at 1 cm/s , so ant's velocity wrt station \n",
      "#is say v_as\n",
      "\n",
      "# Calculation\n",
      "v_as  =  v_ts + v_mt + v_am;\n",
      "\n",
      "# Results\n",
      "print ' The ant is moving towards station at the rate of %.1f cm/s.'%v_as"
     ],
     "language": "python",
     "metadata": {},
     "outputs": [
      {
       "output_type": "stream",
       "stream": "stdout",
       "text": [
        " The ant is moving towards station at the rate of 136.0 cm/s.\n"
       ]
      }
     ],
     "prompt_number": 1
    },
    {
     "cell_type": "heading",
     "level": 3,
     "metadata": {},
     "source": [
      " Example 7.4 Page no. 180\n"
     ]
    },
    {
     "cell_type": "code",
     "collapsed": false,
     "input": [
      "\n",
      "\n",
      "# Variables\n",
      "n_un= 7 ;            # Number of unknowns in the given problem- 3 values of xi and 4 values Fi\n",
      "n_ie = 5 ;           # Number of independent equations\n",
      "\n",
      "# Calculations\n",
      "d_o_f = n_un-n_ie ;  # No. of degree of freedom\n",
      "\n",
      "# Results\n",
      "print 'Number of degree of freedom for the given system is  %i .'%d_o_f"
     ],
     "language": "python",
     "metadata": {},
     "outputs": [
      {
       "output_type": "stream",
       "stream": "stdout",
       "text": [
        "Number of degree of freedom for the given system is  2 .\n"
       ]
      }
     ],
     "prompt_number": 2
    },
    {
     "cell_type": "heading",
     "level": 3,
     "metadata": {},
     "source": [
      " Example 7.5  Page no. 182\n"
     ]
    },
    {
     "cell_type": "code",
     "collapsed": false,
     "input": [
      "\n",
      "# variables\n",
      "n_un=8 ;          # Number of unknowns in the given problem- 8 values of mole fractions\n",
      "n_ie =6 ;         # Number of independent equations- six elemental balances \n",
      "\n",
      "# Calculation\n",
      "d_o_f= n_un-n_ie ;# Number of degree of freedom\n",
      "\n",
      "# Results\n",
      "print 'Number of degree of freedom for the given system is %i .'%d_o_f\n",
      "#Note: Experiments show that the change in CH1.8O.5N.16S.0045P.0055 and the change in C(alpha)H(beta)O(gamma) prove to be \n",
      "#related by amount of biomass present and the maintenance coefficient(the moles of substrate per mole of biomass per second) \n",
      "#so the respective quantities cannot be chosen independently.Consequently with this extra constraint,only one degree of freedom \n",
      "#remains to be specified, the basis"
     ],
     "language": "python",
     "metadata": {},
     "outputs": [
      {
       "output_type": "stream",
       "stream": "stdout",
       "text": [
        "Number of degree of freedom for the given system is 2 .\n"
       ]
      }
     ],
     "prompt_number": 3
    },
    {
     "cell_type": "code",
     "collapsed": true,
     "input": [],
     "language": "python",
     "metadata": {},
     "outputs": []
    }
   ],
   "metadata": {}
  }
 ]
}