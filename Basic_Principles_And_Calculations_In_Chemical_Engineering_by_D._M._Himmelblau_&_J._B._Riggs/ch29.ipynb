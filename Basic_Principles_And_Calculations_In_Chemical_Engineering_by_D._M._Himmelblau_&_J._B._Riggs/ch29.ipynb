{
 "metadata": {
  "name": "",
  "signature": "sha256:b5b2fcf9bb3d537cea245cafaa4a19d4d1dc42af6ab432d7e1ef22a8e48ae245"
 },
 "nbformat": 3,
 "nbformat_minor": 0,
 "worksheets": [
  {
   "cells": [
    {
     "cell_type": "heading",
     "level": 1,
     "metadata": {},
     "source": [
      "Chapter 29 :  Humidity Charts and their Uses"
     ]
    },
    {
     "cell_type": "heading",
     "level": 3,
     "metadata": {},
     "source": [
      "Example 29.1  page no. 895\n"
     ]
    },
    {
     "cell_type": "code",
     "collapsed": false,
     "input": [
      "\n",
      "DBT = 90. ;\t\t\t# Dry bulb temperature - [degree F]\n",
      "WBT = 70. ;\t\t\t# Wet bulb temperature - [degree F]\n",
      "\n",
      "#Get point A using DBT & WBT. Following information is obtained from humidity chart, fig. E29.1\n",
      "# Results\n",
      "print '(a) The Dew point is located at point B or about 60 degree F, using constant humidity line.'\n",
      "print ' (b) By interpolation between 40%% and 30%% RH , you can find point A is at 37%% relative humidity .'\n",
      "print ' (c) You can read humidity from the righthand ordinate as 0.0112 lb H2O/lb dry air .'\n",
      "print ' (d) By interpolation again between 14.0 cubic feet/lb and 14.5 cubic feet/lb lines , you can find humid volume to be 14.1 cubic feet/lb dry air.'\n",
      "print ' (e) The enthalpy value of saturated air with WBT 70 degree F is 34.1 Btu/lb dry air .'\n"
     ],
     "language": "python",
     "metadata": {},
     "outputs": [
      {
       "output_type": "stream",
       "stream": "stdout",
       "text": [
        "(a) The Dew point is located at point B or about 60 degree F, using constant humidity line.\n",
        " (b) By interpolation between 40%% and 30%% RH , you can find point A is at 37%% relative humidity .\n",
        " (c) You can read humidity from the righthand ordinate as 0.0112 lb H2O/lb dry air .\n",
        " (d) By interpolation again between 14.0 cubic feet/lb and 14.5 cubic feet/lb lines , you can find humid volume to be 14.1 cubic feet/lb dry air.\n",
        " (e) The enthalpy value of saturated air with WBT 70 degree F is 34.1 Btu/lb dry air .\n"
       ]
      }
     ],
     "prompt_number": 1
    },
    {
     "cell_type": "heading",
     "level": 3,
     "metadata": {},
     "source": [
      " Example 29.2  page no. 897\n"
     ]
    },
    {
     "cell_type": "code",
     "collapsed": false,
     "input": [
      "\n",
      "\n",
      "# Variables\n",
      "DBT1 = 38 ;\t\t\t# Initial dry bulb temperature - [degree C]\n",
      "DBT2 = 86 ;\t\t\t# Final dry bulb temperature - [degree C]\n",
      "RH1 = 49 ;\t\t\t# Relative humidity - [%]\n",
      "\n",
      "#A is initial and B is final  point , see fig. E29.2 . Dew point is obtained graphically and it is 24.8 degree C,therefore\n",
      "print 'The Dew point is unchanged in the process because humidity is unchanged, and it is located at 24.8 degree C.'\n",
      "\n",
      "# Calculations\n",
      "# Additional data is obtained from humidity chart , according to book data is as follows\n",
      "A_Hsat = 90.0 ;\t\t\t# Enthalpy of saturation at point A- [kJ/kg]\n",
      "A_dH = -0.5 ;\t\t\t#Enthalpy deviation-[kJ/kg]\n",
      "A_Hact = A_Hsat + A_dH ;\t\t\t# Actual enthalpy at point A -[kJ/kg]\n",
      "B_Hsat = 143.3 ;\t\t\t# Enthalpy of saturation at point B- [kJ/kg]\n",
      "B_dH = -3.3 ;\t\t\t#Enthalpy deviation -[kJ/kg]\n",
      "B_Hact = B_Hsat + B_dH ;\t\t\t# Actual enthalpy at point B -[kJ/kg]\n",
      "\n",
      "\t\t\t# Energy balance reduces to Q = del_H \n",
      "del_H = B_Hact - A_Hact ;\t\t\t# Total change in enthalpy - [kJ/kg]\n",
      "v = 0.91 ;\t\t\t# Specific volume of moist air at point A -[cubic metre / kg]\n",
      "Q = del_H/v ;\t\t\t# Heat added per cubic metre of inital moist air -[kJ]\n",
      "\n",
      "# Results\n",
      "print ' Heat added per cubic metre of inital moist air is %.1f kJ.'%Q\n"
     ],
     "language": "python",
     "metadata": {},
     "outputs": [
      {
       "output_type": "stream",
       "stream": "stdout",
       "text": [
        "The Dew point is unchanged in the process because humidity is unchanged, and it is located at 24.8 degree C.\n",
        " Heat added per cubic metre of inital moist air is 55.5 kJ.\n"
       ]
      }
     ],
     "prompt_number": 2
    },
    {
     "cell_type": "heading",
     "level": 3,
     "metadata": {},
     "source": [
      " Example 29.3  page no. 898\n"
     ]
    },
    {
     "cell_type": "code",
     "collapsed": false,
     "input": [
      "\n",
      "\n",
      "# Variables\n",
      "DBT1 = 40 ;\t\t\t# Initial dry bulb temperature - [degree C]\n",
      "DBT2 = 27 ;\t\t\t# Final dry bulb temperature - [degree C]\n",
      "\n",
      "# Process is assumed to be adiabatic, therefore  wet bulb temperature is constant\n",
      "WBT1 = 22 ;\t\t\t# Initial wet bulb temperature - [degree C]\n",
      "WBT2 = WBT1 ;\t\t\t# Final wet bulb temperature - [degree C]\n",
      "\n",
      "# Calculations\n",
      "#A is initial and B is final  point , see fig. E29.3b . Humidity is obtained from humidity chart, according to book the respective humidities are as follows\n",
      "H_B = 0.0145 ;\t\t\t# Humidity at point B -[kg H2O/kg dry air]\n",
      "H_A = 0.0093 ;\t\t\t# Humidity at point A -[kg H2O/kg dry air]\n",
      "Diff = H_B - H_A ;\t\t\t# Moisture added in kg per kilogram of dry air going through humidifier -[kg H2O/kg dry air] \n",
      "\n",
      "# Results\n",
      "print 'Moisture added per kilogram of dry air going through humidifier is %.4f kg H2O.'%Diff\n"
     ],
     "language": "python",
     "metadata": {},
     "outputs": [
      {
       "output_type": "stream",
       "stream": "stdout",
       "text": [
        "Moisture added per kilogram of dry air going through humidifier is 0.0052 kg H2O.\n"
       ]
      }
     ],
     "prompt_number": 3
    },
    {
     "cell_type": "heading",
     "level": 3,
     "metadata": {},
     "source": [
      " Example 29.4  page no. 900\n"
     ]
    },
    {
     "cell_type": "code",
     "collapsed": false,
     "input": [
      "\n",
      "# Variables\n",
      "c_bl = 8.30 * 10**6 ;\t\t\t# Capacity of blower - [cubic feet/hr]\n",
      "DBT_A = 80 ;\t\t\t# Initial dry bulb temperature of moist air - [degree F]\n",
      "DBT_B = 95 ;\t\t\t# Final dry bulb temperature of exit air - [degree F]\n",
      "WBT_A = 65 ;\t\t\t# Initial wet bulb temperature of moist air - [degree F]\n",
      "WBT_B = 90 ;\t\t\t# Final wet bulb temperature of exit air - [degree F]\n",
      "T1_H2O = 120 ;\t\t\t# Initial temperature of water - [degree F]\n",
      "T2_H2O = 90 ;\t\t\t# Final temperature of water - [degree F]\n",
      "\n",
      "#A is initial and B is final  point , see fig. E29.4 . Humidity is obtained from humidity chart, according to book the respective humidities are as follows\n",
      "H_A = 0.0098; \t\t\t# Humidity of air at A - [lb H2O / lb dry air]\n",
      "H1_A = 69 ;\t\t\t# Humidity of air at A - [grains H2O / lb dry air]\n",
      "\n",
      "# Calculations\n",
      "delH_A = 30.05 - 0.12; \t\t\t# Enthalpy of entering air -[Btu/lb dry air]\n",
      "v_A = 13.82 ;\t\t\t# Specific volume of entering air -[cubic feet/lb dry air]\n",
      "H_B = 0.0297;\t\t\t# Humidity of air at B - [lb H2O / lb dry air]\n",
      "H1_B = 208 ;\t\t\t# Humidity of air at B - [grains H2O / lb dry air]\n",
      "delH_B = 55.93 - 0.10  ;\t\t\t# Enthalpy of exit air -[Btu/lb dry air]\n",
      "v_B = 14.65 ;\t\t\t# Specific volume of exit air -[cubic feet/lb dry air]\n",
      "Eq_A = c_bl /v_A ;\t\t\t# Entering dry air equivalent of capacity of blower -[lb dry air]\n",
      "\n",
      "# Reference temperature for water stream is 32 degree F \n",
      "del_H1_H2O = 1*(T1_H2O - 32) ;\t\t\t#Enthalpy of entering water -[Btu/lb H2O]\n",
      "del_H2_H2O = 1*(T2_H2O - 32) ;\t\t\t#Enthalpy of exit water -[Btu/lb H2O]\n",
      "tr_H2O = H_B - H_A ;\t\t\t# Transfer of water to air -[lb H2O / lb dry air] \n",
      "\n",
      "# Energy balance around the entire process yields W -\n",
      "W = (delH_B - del_H2_H2O*tr_H2O - delH_A)/(del_H1_H2O - del_H2_H2O) ;\t\t\t# Water entering tower - [lb H2O/lb dry air]\n",
      "W1 = W - tr_H2O ;\t\t\t# Water leaving tower -[lb H2O/lb dry air]\n",
      "Total_W1 = W1* Eq_A ;\t\t\t# Total water leaving tower -[lb/hr]\n",
      "\n",
      "# Results\n",
      "print 'Amount of water cooled per hour is %.2e lb/hr .'%Total_W1\n"
     ],
     "language": "python",
     "metadata": {},
     "outputs": [
      {
       "output_type": "stream",
       "stream": "stdout",
       "text": [
        "Amount of water cooled per hour is 4.83e+05 lb/hr .\n"
       ]
      }
     ],
     "prompt_number": 4
    },
    {
     "cell_type": "heading",
     "level": 3,
     "metadata": {},
     "source": [
      " Example 29.5  page no. 902\n"
     ]
    },
    {
     "cell_type": "code",
     "collapsed": false,
     "input": [
      "\n",
      "\n",
      "# Variables\n",
      "W = 100 ;\t\t\t# Amount of entering water -[lb/hr]\n",
      "H1 = .020 ;\t\t\t# Humidity of entering air -[lb H2O / lb dry air]\n",
      "T1 = 155 ;\t\t\t#Temperature of entering air -[degree F]\n",
      "DTB = 110 ;\t\t\t# Dry bulb temperature of exit air -[degree F]\n",
      "WTB = 100 ;\t\t\t# Wet bulb temperature of exit air -[degree F]\n",
      "\n",
      "# Additional data is obtained from humidity chart, it is as follows\n",
      "H2 = .0405 ;\t\t\t#Humidity of exit air -[lb H2O / lb dry air]\n",
      "\n",
      "# Calculations\n",
      "del_H = H2 - H1 ;\t\t\t# Change in humidity betwween two states -[lb H2O / lb dry air]\n",
      "air_in = (W*1.02)/(del_H * 1)   ;\t\t\t# Amount of wet air entering -[lb]\n",
      "\n",
      "mol_air = 29. ;\t\t\t# Molecular wt. of air -[lb]\n",
      "Ref_T = 32 + 460. ;\t\t\t# Reference temperature - [ degree R]\n",
      "gi_T = 90 + 460.; \t\t\t# Given temperature on which calculation is based - [degree R] \n",
      "air = (air_in *359*gi_T)/( mol_air*Ref_T) ;\t\t\t# Air consumption of dryer at 90 degree F and 1 atm -[cubic feet]\n",
      "\n",
      "# Results\n",
      "print 'Air consumption of dryer at 90 degree F and 1 atm  is %.2e cubic feet .'%air\n"
     ],
     "language": "python",
     "metadata": {},
     "outputs": [
      {
       "output_type": "stream",
       "stream": "stdout",
       "text": [
        "Air consumption of dryer at 90 degree F and 1 atm  is 6.89e+04 cubic feet .\n"
       ]
      }
     ],
     "prompt_number": 5
    },
    {
     "cell_type": "code",
     "collapsed": true,
     "input": [],
     "language": "python",
     "metadata": {},
     "outputs": [],
     "prompt_number": 5
    }
   ],
   "metadata": {}
  }
 ]
}