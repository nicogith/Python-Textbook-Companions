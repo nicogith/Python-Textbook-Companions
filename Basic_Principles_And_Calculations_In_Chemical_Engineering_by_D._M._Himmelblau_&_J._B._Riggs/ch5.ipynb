{
 "metadata": {
  "name": "",
  "signature": "sha256:17452ca2e9b7dcffa8d444e8e6e3bb3b7f47f9f947558729a784ae56a1f45de2"
 },
 "nbformat": 3,
 "nbformat_minor": 0,
 "worksheets": [
  {
   "cells": [
    {
     "cell_type": "heading",
     "level": 3,
     "metadata": {},
     "source": [
      "Chapter 5 : Pressure"
     ]
    },
    {
     "cell_type": "heading",
     "level": 3,
     "metadata": {},
     "source": [
      "Example 5.1 Page no.109\n"
     ]
    },
    {
     "cell_type": "code",
     "collapsed": false,
     "input": [
      "\n",
      "# Variables\n",
      "P = 60 ;         #[Gpa]\n",
      "\n",
      "# Calculation and Results\n",
      "#(a)\n",
      "p_atm = (P*(10**6))/101.3 ;           #[atm]\n",
      "print '(a) Pressure in atmospheres is %.2e atm'%p_atm\n",
      "\n",
      "#(b)\n",
      "p_s = (P*(10**6)*14.696)/101.3 ;      #[psia]\n",
      "print ' (b) Pressure in psia is %.2e psia'%p_s\n",
      "\n",
      "# (c)\n",
      "p_in = (P*(10**6)*29.92)/101.3 ;      #[inches of Hg]\n",
      "print ' (c) Pressure in inches of Hg is %.2e in. Hg'%p_in\n",
      "\n",
      "# (d)\n",
      "p_mm = (P*(10**6)*760)/101.3 ;        #[mm of Hg]\n",
      "print ' (d) Pressure in mm of Hg is %.2e mm Hg'%p_mm"
     ],
     "language": "python",
     "metadata": {},
     "outputs": [
      {
       "output_type": "stream",
       "stream": "stdout",
       "text": [
        "(a) Pressure in atmospheres is 5.92e+05 atm\n",
        " (b) Pressure in psia is 8.70e+06 psia\n",
        " (c) Pressure in inches of Hg is 1.77e+07 in. Hg\n",
        " (d) Pressure in mm of Hg is 4.50e+08 mm Hg"
       ]
      }
     ],
     "prompt_number": 6
    },
    {
     "cell_type": "heading",
     "level": 3,
     "metadata": {},
     "source": [
      " Example 5.2 Page no. 110\n"
     ]
    },
    {
     "cell_type": "code",
     "collapsed": false,
     "input": [
      "\n",
      "\n",
      "# Variable\n",
      "b_rd = 28.0 ;       #[in. Hg]\n",
      "p_rd = 51.0 ;       #[psia]\n",
      "\n",
      "# calculation\n",
      "p_atm = b_rd*14.7/29.92 ;       # [psia]\n",
      "p_tnk  =  p_atm+p_rd ;          #[psia]\n",
      "\n",
      "# Result\n",
      "print ' Pressure in tank in psia is %.1f psia'%p_tnk"
     ],
     "language": "python",
     "metadata": {},
     "outputs": [
      {
       "output_type": "stream",
       "stream": "stdout",
       "text": [
        " Pressure in tank in psia is 64.8 psia\n"
       ]
      }
     ],
     "prompt_number": 1
    },
    {
     "cell_type": "heading",
     "level": 3,
     "metadata": {},
     "source": [
      " Example 5.3 Page no. 111\n"
     ]
    },
    {
     "cell_type": "code",
     "collapsed": false,
     "input": [
      "\n",
      "# Variables\n",
      "b_rd = 100.0 ;             #[kPa]\n",
      "gp =  64.5*101.3/76.0 ;    #[kPa]\n",
      "\n",
      "# Calculations\n",
      "p_tnk = b_rd-gp ;          #[kPa]\n",
      "\n",
      "# Results\n",
      "print ' Absolute Pressure in tank in is %.1f kPa'%p_tnk\n",
      "print '  Since absolute pressure in tank(%.1f kPa) is less than 20 kPa , the \\\n",
      " mice probably will not survive. '%p_tnk"
     ],
     "language": "python",
     "metadata": {},
     "outputs": [
      {
       "output_type": "stream",
       "stream": "stdout",
       "text": [
        " Absolute Pressure in tank in is 14.0 kPa\n",
        "  Since absolute pressure in tank(14.0 kPa) is less than 20 kPa , the  mice probably will not survive. \n"
       ]
      }
     ],
     "prompt_number": 2
    },
    {
     "cell_type": "heading",
     "level": 3,
     "metadata": {},
     "source": [
      " Example 5.4 Page no. 115\n"
     ]
    },
    {
     "cell_type": "code",
     "collapsed": false,
     "input": [
      "\n",
      "\n",
      "# Variables\n",
      "df = 1.10*10**3 ;              #[kg/m**3]\n",
      "d = 1.0*10**3 ;                #[kg/m**3]\n",
      "g = 9.8 ;                      #[m/s**2]\n",
      "h = 22.0 ;                     #[mm]\n",
      "\n",
      "# Calculation\n",
      "dP = (df-d)*g*(h*10**(-3)) ;   #[Pa]\n",
      "\n",
      "# Result\n",
      "print 'Pressure difference across the orifice plate is %.1f Pa.'%dP"
     ],
     "language": "python",
     "metadata": {},
     "outputs": [
      {
       "output_type": "stream",
       "stream": "stdout",
       "text": [
        "Pressure difference across the orifice plate is 21.6 Pa.\n"
       ]
      }
     ],
     "prompt_number": 3
    },
    {
     "cell_type": "heading",
     "level": 3,
     "metadata": {},
     "source": [
      " Example 5.5 Page no. 117\n"
     ]
    },
    {
     "cell_type": "code",
     "collapsed": false,
     "input": [
      "\n",
      "\n",
      "# Variables\n",
      "p_atm=730.0*29.92/760.0 ;            #[in. Hg]\n",
      "gp= (4.0*29.92)/(2.54*12*33.91) ;    #[in. Hg]\n",
      "\n",
      "# Calculation\n",
      "p_air=p_atm-gp ;                     #[in. Hg]\n",
      "\n",
      "# Result\n",
      "print ' Pressure of the air is %.1f in. Hg.'%p_air"
     ],
     "language": "python",
     "metadata": {},
     "outputs": [
      {
       "output_type": "stream",
       "stream": "stdout",
       "text": [
        " Pressure of the air is 28.6 in. Hg.\n"
       ]
      }
     ],
     "prompt_number": 4
    },
    {
     "cell_type": "code",
     "collapsed": true,
     "input": [],
     "language": "python",
     "metadata": {},
     "outputs": []
    }
   ],
   "metadata": {}
  }
 ]
}