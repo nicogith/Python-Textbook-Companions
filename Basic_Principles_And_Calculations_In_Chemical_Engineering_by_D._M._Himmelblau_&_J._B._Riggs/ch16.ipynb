{
 "metadata": {
  "name": ""
 },
 "nbformat": 3,
 "nbformat_minor": 0,
 "worksheets": [
  {
   "cells": [
    {
     "cell_type": "heading",
     "level": 1,
     "metadata": {},
     "source": [
      "Chapter 16 : Single Component Two Phase Systems"
     ]
    },
    {
     "cell_type": "heading",
     "level": 3,
     "metadata": {},
     "source": [
      "Example 16.1   Page no. 486"
     ]
    },
    {
     "cell_type": "code",
     "collapsed": false,
     "input": [
      "import math\n",
      "\n",
      "# Variables\n",
      "Tc =  972. ;\t\t\t#[degree C]\n",
      "T = 273.+Tc ;\t\t\t#[K]\n",
      "A = 8.799;\n",
      "B = 1.615 * 10**4;\n",
      "C = 0.;\n",
      "mw = 26.98;\n",
      "\n",
      "# Calculations\n",
      "# Use Antoine eqn. to get vapour pressure at 972 degree C\n",
      "vP = math.exp(A-(B/(C+T))) ;\t\t\t# vapour pressure at 972 degree C-[mm Hg]\n",
      "P = vP * 101.325/760 ;\t\t\t#[kPa]\n",
      "# Use rate of vapourization(m) by given formula\n",
      "m = 0.437 * (P * (mw**.5)/(T**0.5)) ;\t\t\t# Vapourization rate at 972 degree C-[g/(square centimetre * s)]\n",
      "\n",
      "# Results\n",
      "print ' Vapourization rate at 972 degree C is %.1e g/(square centimetre)(s).'%m\n"
     ],
     "language": "python",
     "metadata": {},
     "outputs": [
      {
       "output_type": "stream",
       "stream": "stdout",
       "text": [
        " Vapourization rate at 972 degree C is 1.3e-04 g/(square centimetre)(s).\n"
       ]
      }
     ],
     "prompt_number": 3
    },
    {
     "cell_type": "heading",
     "level": 3,
     "metadata": {},
     "source": [
      " Example 16.3  Page no. 494\n"
     ]
    },
    {
     "cell_type": "code",
     "collapsed": false,
     "input": [
      "# Variables\n",
      "T1 = 110. ;\t\t\t# Temperature of chlorobenzene - [degree C] \n",
      "T1F = (9*T1)/(5) + 32 ;\t\t\t# Temperature of chlorobenzene - [degree F] \n",
      "P1 = 400. ;\t\t\t#Pressure of chlorobenzene - [mm of Hg]\n",
      "P1_psia = P1*14.7/760 ;\t\t\t#Pressure of chlorobenzene - [psia]\n",
      "T2 = 205. ;\t\t\t# Temperature of chlorobenzene - [degree C] \n",
      "T2F = (9.*T2)/(5) + 32 ;\t\t\t# Temperature of chlorobenzene - [degree F] \n",
      "P2 = 5. ;\t\t\t#Pressure of chlorobenzene - [atm]\n",
      "\n",
      "# Calculations\n",
      "P2_psia = P2*14.7 ;\t\t\t#Pressure of chlorobenzene - [psia]\n",
      "\n",
      "# Data from steam table\n",
      "x1 = [.9487,3.72,11.525,29.8,67,247,680,1543,3094];\n",
      "y1 = [100,150,200,250,300,400,500,600,700];\n",
      "\n",
      "x2 = [P1_psia,P2_psia];\n",
      "y2 = [T1F,T2F];\n",
      "import matplotlib.pyplot as plt\n",
      "\n",
      "# Results\n",
      "plt.plot(x1,y1);\n",
      "plt.plot(x2,y2);\n",
      "plt.plot(x1,y1);\n",
      "plt.plot(x2,y2);\n",
      "plt.show()\n",
      "vp1 = 150. ;\t\t\t# vapour pressure of chlorobenzene from cox chart prepared at 245 degree C\n",
      "vp2 = 700. ;\t\t\t# vapour pressure of chlorobenzene from cox chart prepared at 359 degree C\n",
      "\n",
      "print 'Temperature             Estimated vapour pressure of chlorobenzene from cox chart'\n",
      "print ' 245 degree C            %i psia'%vp1\n",
      "print ' 359 degree C            %i psia'%vp2\n"
     ],
     "language": "python",
     "metadata": {},
     "outputs": [
      {
       "metadata": {},
       "output_type": "display_data",
       "png": "[encoded data removed]",
       "text": [
        "<matplotlib.figure.Figure at 0x2d83e10>"
       ]
      },
      {
       "output_type": "stream",
       "stream": "stdout",
       "text": [
        "Temperature             Estimated vapour pressure of chlorobenzene from cox chart\n",
        " 245 degree C            150 psia\n",
        " 359 degree C            700 psia\n"
       ]
      }
     ],
     "prompt_number": 4
    },
    {
     "cell_type": "heading",
     "level": 3,
     "metadata": {},
     "source": [
      " Example 16.4  Page no. 495\n"
     ]
    },
    {
     "cell_type": "code",
     "collapsed": false,
     "input": [
      "# Variables\n",
      "OP_Et = 400. ;\t\t\t#OSHA PEL of ethyl acetate -[ppm by volume]\n",
      "OP_Mek = 200. ;\t\t\t#OSHA PEL of  Methyl ethyl ketone [ppm by volume]\n",
      "OP_Nba = 1.3 ;\t\t\t#OSHA PEL of n-butyl acetate [ppm by volume]\n",
      "vp_Et =   96.9 ;\t\t\t# Vapour pressure of ethyl acetate obtained from CD-[mm of Hg]\n",
      "vp_Mek =   94.8 ;\t\t\t# Vapour pressure of Methyl ethyl ketone obtained from CD-[mm of Hg]\n",
      "vp_Nba =   20. ;\t\t\t# Vapour pressure of n-butyl acetate obtained from Perry-[mm of Hg]\n",
      "\n",
      "# Calculations\n",
      "Chz_Et = vp_Et/OP_Et ;\t\t\t#  Combined hazard criterion of ethyl acetate\n",
      "Chz_Mek = vp_Mek/OP_Mek ;\t\t\t#  Combined hazard criterion of Methyl ethyl ketone \n",
      "Chz_Nba = vp_Nba/OP_Nba ;\t\t\t#  Combined hazard criterion of n-butyl acetate\n",
      "\n",
      "# Results\n",
      "print 'Combined hazard criterion of solvents in increasing order are :'\n",
      "print 'Ethyl acetate :              %.2f'%Chz_Et\n",
      "print 'Methyl ethyl ketone :        %.2f'%Chz_Mek\n",
      "print 'n-butyl acetate :            %.2f'%Chz_Nba\n"
     ],
     "language": "python",
     "metadata": {},
     "outputs": [
      {
       "output_type": "stream",
       "stream": "stdout",
       "text": [
        "Combined hazard criterion of solvents in increasing order are :\n",
        "Ethyl acetate :              0.24\n",
        "Methyl ethyl ketone :        0.47\n",
        "n-butyl acetate :            15.38\n"
       ]
      }
     ],
     "prompt_number": 5
    },
    {
     "cell_type": "code",
     "collapsed": true,
     "input": [],
     "language": "python",
     "metadata": {},
     "outputs": []
    }
   ],
   "metadata": {}
  }
 ]
}