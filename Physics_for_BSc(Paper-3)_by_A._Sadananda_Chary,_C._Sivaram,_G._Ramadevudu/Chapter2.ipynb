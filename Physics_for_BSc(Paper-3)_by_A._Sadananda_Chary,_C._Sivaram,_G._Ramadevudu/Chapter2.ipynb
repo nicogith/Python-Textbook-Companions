{
 "metadata": {
  "name": "",
  "signature": "sha256:ff31365c358b779c99b024fa56a9beb40a0947b196550247c290e3f8ef54a35f"
 },
 "nbformat": 3,
 "nbformat_minor": 0,
 "worksheets": [
  {
   "cells": [
    {
     "cell_type": "heading",
     "level": 1,
     "metadata": {},
     "source": [
      "2: Electrostatics-II"
     ]
    },
    {
     "cell_type": "heading",
     "level": 2,
     "metadata": {},
     "source": [
      "Example number 2.1, Page number 47"
     ]
    },
    {
     "cell_type": "code",
     "collapsed": false,
     "input": [
      "#importing modules\n",
      "import math\n",
      "from __future__ import division\n",
      "\n",
      "#Variable declaration\n",
      "dV=8*10**7;      #potential on cloud(V)\n",
      "dx=500;    #height(m)\n",
      "\n",
      "#Calculation\n",
      "E=dV/dx;     #electric field intensity(V/m)\n",
      "\n",
      "#Result\n",
      "print \"electric field intensity is\",E/10**4,\"*10**4 V/m\""
     ],
     "language": "python",
     "metadata": {},
     "outputs": [
      {
       "output_type": "stream",
       "stream": "stdout",
       "text": [
        "electric field intensity is 16.0 *10**4 V/m\n"
       ]
      }
     ],
     "prompt_number": 2
    },
    {
     "cell_type": "heading",
     "level": 2,
     "metadata": {},
     "source": [
      "Example number 2.2, Page number 47"
     ]
    },
    {
     "cell_type": "code",
     "collapsed": false,
     "input": [
      "#importing modules\n",
      "import math\n",
      "from __future__ import division\n",
      "\n",
      "#Variable declaration\n",
      "dV=8000;      #potential difference(V)\n",
      "dx=0.2;    #height(m)\n",
      "q=5*10**-9;    #positive charge(C)\n",
      "\n",
      "#Calculation\n",
      "E=dV/dx;     #electric field intensity(V/m)\n",
      "F=q*E;    #force acting(N)\n",
      "\n",
      "#Result\n",
      "print \"force acting is\",F*10**4,\"*10**-4 N\""
     ],
     "language": "python",
     "metadata": {},
     "outputs": [
      {
       "output_type": "stream",
       "stream": "stdout",
       "text": [
        "force acting is 2.0 *10**-4 N\n"
       ]
      }
     ],
     "prompt_number": 4
    },
    {
     "cell_type": "heading",
     "level": 2,
     "metadata": {},
     "source": [
      "Example number 2.3, Page number 47"
     ]
    },
    {
     "cell_type": "code",
     "collapsed": false,
     "input": [
      "#importing modules\n",
      "import math\n",
      "from __future__ import division\n",
      "\n",
      "#Variable declaration\n",
      "e=1.6*10**-19;     #charge on proton(C)\n",
      "z=79;    #atomic number of gold\n",
      "#let x=1/(4*pi*epsilon0)\n",
      "x=9*10**9;\n",
      "r=6.6*10**-15;   #radius(m)\n",
      "\n",
      "#Calculation\n",
      "q=z*e;    #charge on gold nucleus(C)\n",
      "V=x*q/r;   #potential(V)\n",
      "\n",
      "#Result\n",
      "print \"potential is\",round(V/10**6,1),\"*10**6 V\""
     ],
     "language": "python",
     "metadata": {},
     "outputs": [
      {
       "output_type": "stream",
       "stream": "stdout",
       "text": [
        "potential is 17.2 *10**6 V\n"
       ]
      }
     ],
     "prompt_number": 8
    },
    {
     "cell_type": "heading",
     "level": 2,
     "metadata": {},
     "source": [
      "Example number 2.4, Page number 47"
     ]
    },
    {
     "cell_type": "code",
     "collapsed": false,
     "input": [
      "#importing modules\n",
      "import math\n",
      "from __future__ import division\n",
      "\n",
      "#Variable declaration\n",
      "theta1=0;    #angle on axis(radian)\n",
      "theta2=90;   #angle on perpendicular bisector(degree)\n",
      "r=1;   #distance(m)\n",
      "p=4.5*10**-10;   #dipole moment(C/m)\n",
      "#let x=1/(4*pi*epsilon0)\n",
      "x=9*10**9;\n",
      "\n",
      "#Calculation\n",
      "theta2=theta2*math.pi/180;     #angle on perpendicular bisector(radian)\n",
      "V1=x*p*math.cos(theta1)/(r**2);    #electric potential on axis(V)\n",
      "\n",
      "#Result\n",
      "print \"electric potential on axis is\",V1,\"V\"\n",
      "print \"electric potential on perpendicular bisector is 0 V\""
     ],
     "language": "python",
     "metadata": {},
     "outputs": [
      {
       "output_type": "stream",
       "stream": "stdout",
       "text": [
        "electric potential on axis is 4.05 V\n",
        "electric potential on perpendicular bisector is 0 V\n"
       ]
      }
     ],
     "prompt_number": 19
    }
   ],
   "metadata": {}
  }
 ]
}