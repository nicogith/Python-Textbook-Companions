{
 "metadata": {
  "name": "",
  "signature": "sha256:4564535166c2472d72e2dcbe6fdb282dd0ebdfe6b75d04aed6f0238329c6aca1"
 },
 "nbformat": 3,
 "nbformat_minor": 0,
 "worksheets": [
  {
   "cells": [
    {
     "cell_type": "heading",
     "level": 1,
     "metadata": {},
     "source": [
      "5: Magnetostatics"
     ]
    },
    {
     "cell_type": "heading",
     "level": 2,
     "metadata": {},
     "source": [
      "Example number 5.1, Page number 118"
     ]
    },
    {
     "cell_type": "code",
     "collapsed": false,
     "input": [
      "#importing modules\n",
      "import math\n",
      "from __future__ import division\n",
      "\n",
      "#Variable declaration\n",
      "m=1.7*10**-27;     #mass of proton(kg)\n",
      "q=1.6*10**-19;   #charge of proton(C)\n",
      "KE=6*10**6*q;   #kinetic energy of proton(J) \n",
      "B=2;   #intensity of magnetic field(Wb/m**2)\n",
      "theta=90*math.pi/180;   #angle(radian)\n",
      "\n",
      "#Calculation\n",
      "v=math.sqrt(2*KE/m);    #velocity(m/s)\n",
      "Fb=q*v*B*math.sin(theta);   #force acting on proton(N)\n",
      "\n",
      "#Result\n",
      "print \"force acting on proton is\",round(Fb*10**11,3),\"*10**-11 N\"\n",
      "print \"answer given in the book is wrong\""
     ],
     "language": "python",
     "metadata": {},
     "outputs": [
      {
       "output_type": "stream",
       "stream": "stdout",
       "text": [
        "force acting on proton is 1.075 *10**-11 N\n",
        "answer given in the book is wrong\n"
       ]
      }
     ],
     "prompt_number": 12
    },
    {
     "cell_type": "heading",
     "level": 2,
     "metadata": {},
     "source": [
      "Example number 5.2, Page number 119"
     ]
    },
    {
     "cell_type": "code",
     "collapsed": false,
     "input": [
      "#importing modules\n",
      "import math\n",
      "from __future__ import division\n",
      "\n",
      "#Variable declaration\n",
      "r=6.4*10**6;    #radius of earth(m)\n",
      "P=6.4*10**21;    #magnetic moment(Amp m**2)\n",
      "\n",
      "#Calculation\n",
      "A=math.pi*(r**2);    #area(m**2)\n",
      "i=P/A;    #current(amp)\n",
      "\n",
      "#Result\n",
      "print \"current is\",round(i/10**7),\"*10**7 Amp\""
     ],
     "language": "python",
     "metadata": {},
     "outputs": [
      {
       "output_type": "stream",
       "stream": "stdout",
       "text": [
        "current is 5.0 *10**7 Amp\n"
       ]
      }
     ],
     "prompt_number": 13
    },
    {
     "cell_type": "heading",
     "level": 2,
     "metadata": {},
     "source": [
      "Example number 5.3, Page number 119"
     ]
    },
    {
     "cell_type": "code",
     "collapsed": false,
     "input": [
      "#importing modules\n",
      "import math\n",
      "from __future__ import division\n",
      "\n",
      "#Variable declaration\n",
      "B0=1.7*10**-5;    #magnetic flux density(Wb/m**2)\n",
      "mew0=4*math.pi*10**-7;   \n",
      "\n",
      "#Calculation\n",
      "H=B0/mew0;    #magnetic intensity(Amp/m)\n",
      "\n",
      "#Result\n",
      "print \"magnetic intensity is\",round(H,1),\"Amp/m\""
     ],
     "language": "python",
     "metadata": {},
     "outputs": [
      {
       "output_type": "stream",
       "stream": "stdout",
       "text": [
        "magnetic intensity is 13.5 Amp/m\n"
       ]
      }
     ],
     "prompt_number": 14
    },
    {
     "cell_type": "heading",
     "level": 2,
     "metadata": {},
     "source": [
      "Example number 5.4, Page number 119"
     ]
    },
    {
     "cell_type": "code",
     "collapsed": false,
     "input": [
      "#importing modules\n",
      "import math\n",
      "from __future__ import division\n",
      "\n",
      "#Variable declaration\n",
      "l=30*10**-2;   #length(m)\n",
      "A=10**-4;    #area(m**2)\n",
      "N=300;    #number of turns\n",
      "i=0.032;   #current(ampere)\n",
      "phi=2*10**-6;   #magnetic flux(Wb)\n",
      "mew0=4*math.pi*10**-7;   \n",
      "\n",
      "#Calculation\n",
      "B=phi/A;    #magnetic flux density(wb/m**2)\n",
      "H=N*i/l;    #magnetising force(amp turns/m)\n",
      "mew=B/H;    #permeability of ion(Wb/Amp m)\n",
      "mewr=mew/mew0;   #relative permeability\n",
      "\n",
      "#Result\n",
      "print \"magnetic flux density is\",B*10**2,\"*10**-2 wb/m**2\"\n",
      "print \"magnetising force is\",H,\"amp turns/m\"\n",
      "print \"permeability of ion is\",mew*10**4,\"*10**-4 Wb/Amp m\"\n",
      "print \"relative permeability is\",round(mewr)\n",
      "print \"answer for relative permeability differs due to round off errors\""
     ],
     "language": "python",
     "metadata": {},
     "outputs": [
      {
       "output_type": "stream",
       "stream": "stdout",
       "text": [
        "magnetic flux density is 2.0 *10**-2 wb/m**2\n",
        "magnetising force is 32.0 amp turns/m\n",
        "permeability of ion is 6.25 *10**-4 Wb/Amp m\n",
        "relative permeability is 497.0\n",
        "answer for relative permeability differs due to round off errors\n"
       ]
      }
     ],
     "prompt_number": 20
    },
    {
     "cell_type": "heading",
     "level": 2,
     "metadata": {},
     "source": [
      "Example number 5.5, Page number 120"
     ]
    },
    {
     "cell_type": "code",
     "collapsed": false,
     "input": [
      "#importing modules\n",
      "import math\n",
      "from __future__ import division\n",
      "\n",
      "#Variable declaration\n",
      "M=600;   #magnetic moment(cgs units)\n",
      "V=20;    #volume(cm**3)\n",
      "H=50;    #magnetic field(oersteds)\n",
      "\n",
      "#Calculation\n",
      "I=M/V;   #intensity of magnetisation(cgs units)\n",
      "B=H+(4*math.pi*I);   #flux density(guass)\n",
      "\n",
      "#Result\n",
      "print \"flux density is\",round(B),\"guass\"\n",
      "print \"answer given in the book is wrong\""
     ],
     "language": "python",
     "metadata": {},
     "outputs": [
      {
       "output_type": "stream",
       "stream": "stdout",
       "text": [
        "flux density is 427.0 guass\n",
        "answer given in the book is wrong\n"
       ]
      }
     ],
     "prompt_number": 23
    },
    {
     "cell_type": "heading",
     "level": 2,
     "metadata": {},
     "source": [
      "Example number 5.6, Page number 120"
     ]
    },
    {
     "cell_type": "code",
     "collapsed": false,
     "input": [
      "#importing modules\n",
      "import math\n",
      "from __future__ import division\n",
      "\n",
      "#Variable declaration\n",
      "m=12000;   #mass(gm)\n",
      "d=7.5;   #density(g/cm**3)\n",
      "new=50;   #frequency(Hz)\n",
      "a=3000;   #area of hysterisis curve(erg/cm**3)\n",
      "\n",
      "#Calculation\n",
      "V=m/d;   #volume of core(cm**3)\n",
      "El=a*V;  #energy loss in 1 cycle(erg)\n",
      "n=new*60*60;   #number of cycles per hour\n",
      "EL=El*n/10**7;   #energy loss per hour(J)\n",
      "\n",
      "#Result\n",
      "print \"energy loss per hour is\",EL/10**4,\"*10**4 J\""
     ],
     "language": "python",
     "metadata": {},
     "outputs": [
      {
       "output_type": "stream",
       "stream": "stdout",
       "text": [
        "energy loss per hour is 8.64 *10**4 J\n"
       ]
      }
     ],
     "prompt_number": 24
    },
    {
     "cell_type": "heading",
     "level": 2,
     "metadata": {},
     "source": [
      "Example number 5.7, Page number 121"
     ]
    },
    {
     "cell_type": "code",
     "collapsed": false,
     "input": [
      "#importing modules\n",
      "import math\n",
      "from __future__ import division\n",
      "\n",
      "#Variable declaration\n",
      "B=8*math.pi;    #magnetic flux density(wb/m**2)\n",
      "H=2000;   #magnetic field(amp turn/m)\n",
      "mew0=4*math.pi*10**-7;   \n",
      "\n",
      "#Calculation\n",
      "mewr=B/(mew0*H);     #relative permeability\n",
      "chi=mewr-1;    #susceptibility\n",
      "\n",
      "#Result\n",
      "print \"susceptibility is\",chi"
     ],
     "language": "python",
     "metadata": {},
     "outputs": [
      {
       "output_type": "stream",
       "stream": "stdout",
       "text": [
        "susceptibility is 9999.0\n"
       ]
      }
     ],
     "prompt_number": 25
    },
    {
     "cell_type": "heading",
     "level": 2,
     "metadata": {},
     "source": [
      "Example number 5.8, Page number 121"
     ]
    },
    {
     "cell_type": "code",
     "collapsed": false,
     "input": [
      "#importing modules\n",
      "import math\n",
      "from __future__ import division\n",
      "\n",
      "#Variable declaration\n",
      "q=1.6*10**-19;     #charge on electron(C)\n",
      "i1=3;\n",
      "j1=2;\n",
      "k1=3;    #components of vector\n",
      "i2=3;\n",
      "j2=4;   \n",
      "k2=0;    #components of vector\n",
      "i3=0;\n",
      "j3=4;\n",
      "k3=1;    #components of vector\n",
      "\n",
      "#Calculation\n",
      "i4=(j2*k3)-(j3*k2);\n",
      "j4=(i2*k3)-(i3*k2);\n",
      "k4=(i2*j3)-(i3*j2);    #components of derived vector\n",
      "i5=i1+i4;\n",
      "j5=j1+j4;\n",
      "k5=k1+k4;\n",
      "F=q*math.sqrt((i5**2)+(j5**2)+(k5**2));    #Lorentz force(N)\n",
      "\n",
      "#Result\n",
      "print \"Lorentz force is\",round(F*10**19,2),\"*10**-19 N\"\n",
      "print \"answer given in the book is wrong\""
     ],
     "language": "python",
     "metadata": {},
     "outputs": [
      {
       "output_type": "stream",
       "stream": "stdout",
       "text": [
        "Lorentz force is 27.67 *10**-19 N\n",
        "answer given in the book is wrong\n"
       ]
      }
     ],
     "prompt_number": 29
    }
   ],
   "metadata": {}
  }
 ]
}