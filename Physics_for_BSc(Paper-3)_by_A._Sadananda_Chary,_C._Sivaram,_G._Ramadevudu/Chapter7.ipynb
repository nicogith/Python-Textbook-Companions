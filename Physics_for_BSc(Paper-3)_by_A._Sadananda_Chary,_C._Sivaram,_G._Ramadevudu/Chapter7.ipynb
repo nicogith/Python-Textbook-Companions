{
 "metadata": {
  "name": "",
  "signature": "sha256:df8ccdc39cf4228aa502def88be8b0eaa1a1170d675814e78e23ede418957e6f"
 },
 "nbformat": 3,
 "nbformat_minor": 0,
 "worksheets": [
  {
   "cells": [
    {
     "cell_type": "heading",
     "level": 1,
     "metadata": {},
     "source": [
      "7: Electromagnetic Induction"
     ]
    },
    {
     "cell_type": "heading",
     "level": 2,
     "metadata": {},
     "source": [
      "Example number 7.1, Page number 204"
     ]
    },
    {
     "cell_type": "code",
     "collapsed": false,
     "input": [
      "#importing modules\n",
      "import math\n",
      "from __future__ import division\n",
      "\n",
      "#Variable declaration\n",
      "R=125;     #resistance(ohm)\n",
      "V=3*10**-4;    #potential difference(V)\n",
      "T=10;   #time period(sec)\n",
      "theta1=16*10**-2;    #deflection(m)\n",
      "theta=5*10**-2;    #deflection(m)\n",
      "\n",
      "#Calculation\n",
      "i=V/R;     #current(A)\n",
      "q=T*i*theta/(2*math.pi*theta1);    #charge(C)\n",
      "\n",
      "#Result\n",
      "print \"charge is\",round(q*10**6,3),\"*10**-6 C\""
     ],
     "language": "python",
     "metadata": {},
     "outputs": [
      {
       "output_type": "stream",
       "stream": "stdout",
       "text": [
        "charge is 1.194 *10**-6 C\n"
       ]
      }
     ],
     "prompt_number": 13
    },
    {
     "cell_type": "heading",
     "level": 2,
     "metadata": {},
     "source": [
      "Example number 7.2, Page number 205"
     ]
    },
    {
     "cell_type": "code",
     "collapsed": false,
     "input": [
      "#importing modules\n",
      "import math\n",
      "from __future__ import division\n",
      "\n",
      "#Variable declaration\n",
      "T=8;     #time period(s)\n",
      "i=2*10**-6;    #current(A)\n",
      "theta1=1;\n",
      "theta=1;\n",
      "\n",
      "#Calculation\n",
      "q=T*i*theta/(2*math.pi*theta1);    #charge(C)\n",
      "\n",
      "#Result\n",
      "print \"charge is\",round(q*10**6,3),\"*10**-6 C\"\n",
      "print \"answer varies due to rounding off errors\""
     ],
     "language": "python",
     "metadata": {},
     "outputs": [
      {
       "output_type": "stream",
       "stream": "stdout",
       "text": [
        "charge is 2.546 *10**-6 C\n",
        "answer varies due to rounding off errors\n"
       ]
      }
     ],
     "prompt_number": 15
    },
    {
     "cell_type": "heading",
     "level": 2,
     "metadata": {},
     "source": [
      "Example number 7.3, Page number 205"
     ]
    },
    {
     "cell_type": "code",
     "collapsed": false,
     "input": [
      "#importing modules\n",
      "import math\n",
      "from __future__ import division\n",
      "\n",
      "#Variable declaration\n",
      "l=1.8*10**-2;    #length(m)\n",
      "B=0.5;   #magnitude of field(Wb/m**2)\n",
      "N=200;   #number of turns\n",
      "t=0.8;   #time period(sec)\n",
      "R=12;    #resistance(ohm)\n",
      "\n",
      "#Calculation\n",
      "A=l**2;    #area of coil(m**2)\n",
      "phiB=B*A;   #magnetic flux in coil(Wb)\n",
      "e=N*(phiB-0)/t;    #induced emf(V)\n",
      "i=e/R;    #current(A)\n",
      "\n",
      "#Result\n",
      "print \"induced emf is\",e,\"V\"\n",
      "print \"current is\",i*10**4,\"*10**-4 A\"\n",
      "print \"answers given in the book are wrong\""
     ],
     "language": "python",
     "metadata": {},
     "outputs": [
      {
       "output_type": "stream",
       "stream": "stdout",
       "text": [
        "induced emf is 0.0405 V\n",
        "current is 33.75 *10**-4 A\n",
        "answers given in the book are wrong\n"
       ]
      }
     ],
     "prompt_number": 22
    },
    {
     "cell_type": "heading",
     "level": 2,
     "metadata": {},
     "source": [
      "Example number 7.6, Page number 207"
     ]
    },
    {
     "cell_type": "code",
     "collapsed": false,
     "input": [
      "#importing modules\n",
      "import math\n",
      "from __future__ import division\n",
      "\n",
      "#Variable declaration\n",
      "B=100*10**-4;    #magnetic field(Wb/m**2)\n",
      "d=20*10**-2;    #diameter(m)\n",
      "n=10;   #number of rotations\n",
      "\n",
      "#Calculation\n",
      "r=d/2;   #radius(m)\n",
      "dAbydt=math.pi*n*(r**2);   #area(turns m**2/s)\n",
      "e=B*dAbydt;     #potential difference(V)\n",
      "\n",
      "#Result\n",
      "print \"potential difference is\",round(e*10**3,3),\"mV\""
     ],
     "language": "python",
     "metadata": {},
     "outputs": [
      {
       "output_type": "stream",
       "stream": "stdout",
       "text": [
        "potential difference is 3.142 mV\n"
       ]
      }
     ],
     "prompt_number": 24
    },
    {
     "cell_type": "heading",
     "level": 2,
     "metadata": {},
     "source": [
      "Example number 7.7, Page number 207"
     ]
    },
    {
     "cell_type": "code",
     "collapsed": false,
     "input": [
      "#importing modules\n",
      "import math\n",
      "from __future__ import division\n",
      "\n",
      "#Variable declaration\n",
      "l=1;    #length(m)\n",
      "B=0.2;   #magnetic field(Wb/m**2)\n",
      "v=0.8;   #velocity(m/s)\n",
      "theta1=60*math.pi/180;   #angle(radian)\n",
      "theta2=45*math.pi/180;   #angle(radian)\n",
      "theta3=30*math.pi/180;   #angle(radian)\n",
      "\n",
      "#Calculation\n",
      "e1=B*l*v*math.sin(theta1);    #induced emf when B and v are perpendicular(V)\n",
      "e2=B*l*v*math.sin(theta1)*math.sin(theta2);   #induced emf with angle 45 degrees(V)\n",
      "e3=B*l*v*math.sin(theta1)*math.sin(theta2)*math.sin(theta3);    #induced emf with angle 30 degrees(V)\n",
      "\n",
      "#Result\n",
      "print \"induced emf when B and v are perpendicular is\",round(e1,4),\"V\"\n",
      "print \"induced emf with angle 45 degrees is\",round(e2,3),\"V\"\n",
      "print \"induced emf with angle 30 degrees is\",round(e3,3),\"V\""
     ],
     "language": "python",
     "metadata": {},
     "outputs": [
      {
       "output_type": "stream",
       "stream": "stdout",
       "text": [
        "induced emf when B and v are perpendicular is 0.1386 V\n",
        "induced emf with angle 45 degrees is 0.098 V\n",
        "induced emf with angle 30 degrees is 0.049 V\n"
       ]
      }
     ],
     "prompt_number": 25
    },
    {
     "cell_type": "heading",
     "level": 2,
     "metadata": {},
     "source": [
      "Example number 7.8, Page number 208"
     ]
    },
    {
     "cell_type": "code",
     "collapsed": false,
     "input": [
      "#importing modules\n",
      "import math\n",
      "from __future__ import division\n",
      "\n",
      "#Variable declaration\n",
      "L=20;   #inductance(H)\n",
      "i=0.1;   #current(A)\n",
      "\n",
      "#Calculation\n",
      "Ub=(1/2)*L*(i**2);    #energy stored in inductor(J)\n",
      "\n",
      "#Result\n",
      "print \"energy stored in inductor is\",Ub,\"J\""
     ],
     "language": "python",
     "metadata": {},
     "outputs": [
      {
       "output_type": "stream",
       "stream": "stdout",
       "text": [
        "energy stored in inductor is 0.1 J\n"
       ]
      }
     ],
     "prompt_number": 26
    },
    {
     "cell_type": "heading",
     "level": 2,
     "metadata": {},
     "source": [
      "Example number 7.9, Page number 209"
     ]
    },
    {
     "cell_type": "code",
     "collapsed": false,
     "input": [
      "#importing modules\n",
      "import math\n",
      "from __future__ import division\n",
      "\n",
      "#Variable declaration\n",
      "e=12;    #induced emf(V)\n",
      "L=53*10**-3;   #inductance(H)\n",
      "R=0.35;   #resistance(ohm)\n",
      "\n",
      "#Calculation\n",
      "i=e/R;    #current(A)\n",
      "Ub=(1/2)*L*(i**2);    #energy stored in inductor(J)\n",
      "\n",
      "#Result\n",
      "print \"energy stored in inductor is\",round(Ub,1),\"J\""
     ],
     "language": "python",
     "metadata": {},
     "outputs": [
      {
       "output_type": "stream",
       "stream": "stdout",
       "text": [
        "energy stored in inductor is 31.2 J\n"
       ]
      }
     ],
     "prompt_number": 27
    },
    {
     "cell_type": "heading",
     "level": 2,
     "metadata": {},
     "source": [
      "Example number 7.10, Page number 209"
     ]
    },
    {
     "cell_type": "code",
     "collapsed": false,
     "input": [
      "#importing modules\n",
      "import math\n",
      "from __future__ import division\n",
      "\n",
      "#Variable declaration\n",
      "N=1250;    #number of turns\n",
      "a=5.2*10**-2;     #length(m)\n",
      "b=9.5*10**-2;     #breadth(m)\n",
      "h=1.3*10**-2;     #height(m)\n",
      "mew0=4*math.pi*10**-7;  \n",
      "\n",
      "#Calculation\n",
      "L=(mew0*(N**2)*h*math.log(b/a))/(2*math.pi);     #inductance(H)\n",
      "\n",
      "#Result\n",
      "print \"inductance is\",round(L*10**3,1),\"mH\""
     ],
     "language": "python",
     "metadata": {},
     "outputs": [
      {
       "output_type": "stream",
       "stream": "stdout",
       "text": [
        "inductance is 2.4 mH\n"
       ]
      }
     ],
     "prompt_number": 28
    },
    {
     "cell_type": "heading",
     "level": 2,
     "metadata": {},
     "source": [
      "Example number 7.11, Page number 209"
     ]
    },
    {
     "cell_type": "code",
     "collapsed": false,
     "input": [
      "#importing modules\n",
      "import math\n",
      "from __future__ import division\n",
      "\n",
      "#Variable declaration\n",
      "N1=500;    #number of turns\n",
      "A=3*10**-3;    #area(m**2)\n",
      "l=0.5;   #length(m)\n",
      "mew0=4*math.pi*10**-7;  \n",
      "N2=8;    #number of turns\n",
      "\n",
      "#Calculation\n",
      "M=mew0*N1*N2*A/l;   #coefficient of mutual induction(H)\n",
      "\n",
      "#Result\n",
      "print \"coefficient of mutual induction is\",round(M*10**6),\"micro H\""
     ],
     "language": "python",
     "metadata": {},
     "outputs": [
      {
       "output_type": "stream",
       "stream": "stdout",
       "text": [
        "coefficient of mutual induction is 30.0 micro H\n"
       ]
      }
     ],
     "prompt_number": 29
    }
   ],
   "metadata": {}
  }
 ]
}