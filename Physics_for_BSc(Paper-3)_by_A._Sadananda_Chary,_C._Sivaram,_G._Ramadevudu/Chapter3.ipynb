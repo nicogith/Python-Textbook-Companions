{
 "metadata": {
  "name": "",
  "signature": "sha256:59e0fed0245970f183161b17c490835692a2ba1742a8550242f21d13537b7e5e"
 },
 "nbformat": 3,
 "nbformat_minor": 0,
 "worksheets": [
  {
   "cells": [
    {
     "cell_type": "heading",
     "level": 1,
     "metadata": {},
     "source": [
      "3: Dielectrics"
     ]
    },
    {
     "cell_type": "heading",
     "level": 2,
     "metadata": {},
     "source": [
      "Example number 3.1, Page number 68"
     ]
    },
    {
     "cell_type": "code",
     "collapsed": false,
     "input": [
      "#importing modules\n",
      "import math\n",
      "from __future__ import division\n",
      "\n",
      "#Variable declaration\n",
      "k=78;   #dielectric constant of water\n",
      "epsilon0=8.9*10**-12;   #dielectric permittivity of free space\n",
      "\n",
      "#Calculation\n",
      "epsilon=k*epsilon0;    #dielectric permittivity(C**2/Nm2)\n",
      "chi=epsilon-epsilon0;    #dielectric susceptibility(C**2/Nm2)\n",
      "\n",
      "#Result\n",
      "print \"dielectric permittivity is\",epsilon,\"C**2/Nm2\"\n",
      "print \"dielectric susceptibility is\",chi,\"C**2/Nm2\""
     ],
     "language": "python",
     "metadata": {},
     "outputs": [
      {
       "output_type": "stream",
       "stream": "stdout",
       "text": [
        "dielectric permittivity is 6.942e-10 C**2/Nm2\n",
        "dielectric susceptibility is 6.853e-10 C**2/Nm2\n"
       ]
      }
     ],
     "prompt_number": 1
    },
    {
     "cell_type": "heading",
     "level": 2,
     "metadata": {},
     "source": [
      "Example number 3.2, Page number 68"
     ]
    },
    {
     "cell_type": "code",
     "collapsed": false,
     "input": [
      "#importing modules\n",
      "import math\n",
      "from __future__ import division\n",
      "\n",
      "#Variable declaration\n",
      "epsilon=15*10**-12;   #dielectric permittivity(C**2/Nm2)\n",
      "A=1;    #area of plates(m**2)\n",
      "q=60*10**-6;    #charge(C)\n",
      "epsilon0=8.9*10**-12;   #dielectric permittivity of free space\n",
      "\n",
      "#Calculation\n",
      "sigma=q/A;    #surface charge density(C/m**2)\n",
      "chi=epsilon-epsilon0;    #dielectric susceptibility(C**2/Nm2)\n",
      "E=sigma/epsilon;   #electric field intensity(N/C)\n",
      "P=chi*E;    #polarization(C/m**2)\n",
      "\n",
      "#Result\n",
      "print \"electric field intensity is\",E/10**6,\"*10**6 N/C\"\n",
      "print \"polarization is\",P*10**6,\"*10**-6 C/m**2\"\n",
      "print \"susceptibility is\",chi,\"C**2/Nm2\""
     ],
     "language": "python",
     "metadata": {},
     "outputs": [
      {
       "output_type": "stream",
       "stream": "stdout",
       "text": [
        "electric field intensity is 4.0 *10**6 N/C\n",
        "polarization is 24.4 *10**-6 C/m**2\n",
        "susceptibility is 6.1e-12 C**2/Nm2\n"
       ]
      }
     ],
     "prompt_number": 4
    },
    {
     "cell_type": "heading",
     "level": 2,
     "metadata": {},
     "source": [
      "Example number 3.3, Page number 69"
     ]
    },
    {
     "cell_type": "code",
     "collapsed": false,
     "input": [
      "#importing modules\n",
      "import math\n",
      "from __future__ import division\n",
      "\n",
      "#Variable declaration\n",
      "k=5.4;     #dielectric constant\n",
      "E=10**6;    #electric field intensity(N/C)\n",
      "epsilon0=8.9*10**-12;   #dielectric permittivity of free space\n",
      "\n",
      "#Calculation\n",
      "D=k*epsilon0*E;     #electric displacement(C/m**2)\n",
      "Ed=(1/2)*k*epsilon0*(E**2);     #energy density in dielectric(J/m**2)\n",
      "\n",
      "#Result\n",
      "print \"electric displacement is\",D,\"C/m**2\"\n",
      "print \"answer given in the book is wrong\"\n",
      "print \"energy density in dielectric is\",Ed,\"J/m**2\""
     ],
     "language": "python",
     "metadata": {},
     "outputs": [
      {
       "output_type": "stream",
       "stream": "stdout",
       "text": [
        "electric displacement is 4.806e-05 C/m**2\n",
        "answer given in the book is wrong\n",
        "energy density in dielectric is 24.03 J/m**2\n"
       ]
      }
     ],
     "prompt_number": 6
    },
    {
     "cell_type": "heading",
     "level": 2,
     "metadata": {},
     "source": [
      "Example number 3.4, Page number 69"
     ]
    },
    {
     "cell_type": "code",
     "collapsed": false,
     "input": [
      "#importing modules\n",
      "import math\n",
      "from __future__ import division\n",
      "\n",
      "#Variable declaration\n",
      "chi=35.4*10**-12;    #susceptibility(C**2/Nm2)\n",
      "epsilon0=8.85*10**-12;   #dielectric permittivity of free space\n",
      "\n",
      "#Calculation\n",
      "k=1+(chi/epsilon0);       #dielectric constant\n",
      "epsilon=epsilon0*k;     #permittivity(C/Nm**2)\n",
      "\n",
      "#Result\n",
      "print \"dielectric constant is\",k\n",
      "print \"permittivity is\",epsilon,\"C/Nm**2\"\n",
      "print \"answer given in the book is wrong\""
     ],
     "language": "python",
     "metadata": {},
     "outputs": [
      {
       "output_type": "stream",
       "stream": "stdout",
       "text": [
        "dielectric constant is 5.0\n",
        "permittivity is 4.425e-11 C/Nm**2\n",
        "answer given in the book is wrong\n"
       ]
      }
     ],
     "prompt_number": 8
    }
   ],
   "metadata": {}
  }
 ]
}