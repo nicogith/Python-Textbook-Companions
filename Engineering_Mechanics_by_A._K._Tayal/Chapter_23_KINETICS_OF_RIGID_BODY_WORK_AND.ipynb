{
 "cells": [
  {
   "cell_type": "markdown",
   "metadata": {},
   "source": [
    "# Chapter 23 Kinetics of Rigid Body Work and Energy"
   ]
  },
  {
   "cell_type": "markdown",
   "metadata": {},
   "source": [
    "# Example 23.2 Principle of work and energy for a rigid body"
   ]
  },
  {
   "cell_type": "code",
   "execution_count": 1,
   "metadata": {
    "collapsed": false
   },
   "outputs": [
    {
     "name": "stdout",
     "output_type": "stream",
     "text": [
      "The distance required to be rolled is 5.501808 m\n"
     ]
    }
   ],
   "source": [
    "import math\n",
    "# Initilization of variables\n",
    "m=600 # kg # mass of the roller\n",
    "r=0.25 # m # radius of the roller\n",
    "P=850 # N # Force\n",
    "v=3 # m/s # velocity to be acquired\n",
    "theta=30 # degree # angle made by v with the force P\n",
    "# Calculations\n",
    "# The distance required to be rolled is given by equating the Work done between positions 1 & 2 as,\n",
    "x=((3/4)*m*v**2)/(P*math.cos(theta*math.pi/180)) # m\n",
    "# Results\n",
    "print('The distance required to be rolled is %f m'%x)"
   ]
  }
 ],
 "metadata": {
  "kernelspec": {
   "display_name": "Python 3",
   "language": "python",
   "name": "python3"
  },
  "language_info": {
   "codemirror_mode": {
    "name": "ipython",
    "version": 3
   },
   "file_extension": ".py",
   "mimetype": "text/x-python",
   "name": "python",
   "nbconvert_exporter": "python",
   "pygments_lexer": "ipython3",
   "version": "3.5.1"
  },
  "widgets": {
   "state": {},
   "version": "1.1.2"
  }
 },
 "nbformat": 4,
 "nbformat_minor": 0
}
