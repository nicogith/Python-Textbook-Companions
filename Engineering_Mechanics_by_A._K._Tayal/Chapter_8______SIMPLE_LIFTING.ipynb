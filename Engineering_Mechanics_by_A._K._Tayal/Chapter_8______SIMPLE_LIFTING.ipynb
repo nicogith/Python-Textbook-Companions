{
 "cells": [
  {
   "cell_type": "markdown",
   "metadata": {},
   "source": [
    "# Chapter 8 Simple Lifting Machines"
   ]
  },
  {
   "cell_type": "markdown",
   "metadata": {},
   "source": [
    "# Example 8.1 Simple Machine"
   ]
  },
  {
   "cell_type": "code",
   "execution_count": 2,
   "metadata": {
    "collapsed": false
   },
   "outputs": [
    {
     "name": "stdout",
     "output_type": "stream",
     "text": [
      "(a) The efficiency of the machine is 83.333333 percent\n",
      "(b) The effort loss in friction of the machine is 3.333333 N\n",
      "(c) The Frictional load of the machine is 20 N\n"
     ]
    }
   ],
   "source": [
    "# Initilization of variables\n",
    "VR=6 # Velocity ratio\n",
    "P=20 #N # Effort\n",
    "W=100 #N # Load lifted\n",
    "# Calculations\n",
    "#(a)\n",
    "P_actual=P #N\n",
    "W_actual=W #N\n",
    "MA=W/P # where, M.A= Mechanical advantage\n",
    "E=(MA/VR)*100 #% # Where E= efficiency\n",
    "#(b)\n",
    "# Now ideal effort required is,\n",
    "P_ideal=W/VR #N\n",
    "# Effort loss in friction is, (Le)\n",
    "Le=P_actual-P_ideal #N # Effort loss in friction\n",
    "#(c)\n",
    "# Ideal load lifted is,(W_ideal)\n",
    "W_ideal=P*VR #N \n",
    "# Frictional load/resistance,\n",
    "F=W_ideal-W_actual # N\n",
    "# Results\n",
    "print('(a) The efficiency of the machine is %f percent'%E)\n",
    "print('(b) The effort loss in friction of the machine is %f N'%Le)\n",
    "print('(c) The Frictional load of the machine is %d N'%F)"
   ]
  },
  {
   "cell_type": "markdown",
   "metadata": {},
   "source": [
    "# Example 8.2 Simple machines performance"
   ]
  },
  {
   "cell_type": "code",
   "execution_count": 17,
   "metadata": {
    "collapsed": false
   },
   "outputs": [
    {
     "name": "stdout",
     "output_type": "stream",
     "text": [
      "The graph is the solution\n"
     ]
    },
    {
     "data": {
      "image/png": "[encoded data removed]",
      "text/plain": [
       "<matplotlib.figure.Figure at 0x7f3cdf1b6be0>"
      ]
     },
     "metadata": {},
     "output_type": "display_data"
    }
   ],
   "source": [
    "%matplotlib inline\n",
    "from matplotlib.pyplot import plot,subplot,xlabel,ylabel,text,show\n",
    "import math\n",
    "import numpy as np\n",
    "\n",
    "# Initilization of variables\n",
    "V_r=20 # Velocity ratio\n",
    "# Values from the table # Variables have been assumed\n",
    "# Values of W in N\n",
    "W=[30,40,50,60,70,80,90,100]\n",
    "# P in N\n",
    "P=[7,8.5,10,11.5,13.5,14.5,16,17.5]\n",
    "MA=[]\n",
    "MA[:]=[W[i]/P[i] for i in range(0,8)]\n",
    "# Efficiency (n)\n",
    "n = np.asarray(MA) * (V_r** -1) * 100\n",
    "# Calculations\n",
    "# Part (a)- Realtionship between W & P\n",
    "# Here part a cannot be solved as it has variables which cannot be defined in Scilab. Ref.textbook for the solution\n",
    "# Part (b)- Graph between W & efficiency n(eta)\n",
    "x=[0,W[0],W[1],W[2],W[3],W[4],W[5],W[6],W[7]] # values for W # N\n",
    "y=[0,n[0],n[1],n[2],n[3],n[4],n[5],n[6],n[7]] # values for efficiency n (eta) # %\n",
    "subplot(221)\n",
    "xlabel(\"W (N)\")\n",
    "ylabel(\"efficiency n (%)\")\n",
    "plot(x,y)\n",
    "# Results\n",
    "print('The graph is the solution')\n",
    "# The value of m is found by drawing a straight line in the graph and by taking its slope\n",
    "# The curve of the graph may differ from textbook because of the graphical calculation."
   ]
  },
  {
   "cell_type": "markdown",
   "metadata": {},
   "source": [
    "# Example 8.3 Performance of Machine"
   ]
  },
  {
   "cell_type": "code",
   "execution_count": 20,
   "metadata": {
    "collapsed": false
   },
   "outputs": [
    {
     "name": "stdout",
     "output_type": "stream",
     "text": [
      "(a) The effort wasted in friction is 15 N\n",
      "(b) The load wasted in friction is 240 N\n"
     ]
    }
   ],
   "source": [
    "# Calculations\n",
    "W_actual=1360 #N #Load lifted\n",
    "P_actual=100 #N # Effort\n",
    "n=4 # no of pulleys\n",
    "# Calculations\n",
    "# for 1st system of pulleys having 4 movable pulleys, Velocity ratio is\n",
    "VR=2**(n) # Velocity Ratio\n",
    "# If the machine were to be ideal(frictionless)\n",
    "MA=VR # Here, M.A= mechanical advantage \n",
    "# For a load of 1360 N, ideal effort required is\n",
    "P_ideal=W_actual/VR #N\n",
    "# Effort loss in friction is,\n",
    "P_friction=P_actual-P_ideal #N\n",
    "# For a effort of 100 N, ideal load lifted is,\n",
    "W_ideal=VR*100 #N \n",
    "# Load lost in friction is,\n",
    "W_friction=W_ideal-W_actual # N \n",
    "# Results\n",
    "print('(a) The effort wasted in friction is %d N'%P_friction)\n",
    "print('(b) The load wasted in friction is %d N'%W_friction)"
   ]
  },
  {
   "cell_type": "markdown",
   "metadata": {},
   "source": [
    "# Example 8.4 Performance of a machine"
   ]
  },
  {
   "cell_type": "code",
   "execution_count": 21,
   "metadata": {
    "collapsed": false
   },
   "outputs": [
    {
     "name": "stdout",
     "output_type": "stream",
     "text": [
      "The effort required to lift the load of 1000 N is 266.666667 N\n"
     ]
    }
   ],
   "source": [
    "# Initilization of variables\n",
    "W=1000 #N # Load to be lifted\n",
    "n=5 # no. of pulleys\n",
    "E=75 #% # Efficiency\n",
    "# Calculations\n",
    "# Velocity Ratio is given as,\n",
    "VR=n \n",
    "# Mechanical Advantage (M.A) is,\n",
    "MA=(E/100)*VR # from formulae, Efficiency=E=M.A/V.R\n",
    "P=W/MA #N # Effort required\n",
    "# Results\n",
    "print('The effort required to lift the load of 1000 N is %f N'%P)"
   ]
  },
  {
   "cell_type": "markdown",
   "metadata": {},
   "source": [
    "# Example 8.5 Simple screw jack"
   ]
  },
  {
   "cell_type": "code",
   "execution_count": 30,
   "metadata": {
    "collapsed": false
   },
   "outputs": [
    {
     "name": "stdout",
     "output_type": "stream",
     "text": [
      "The force required at the end of the handle is 15.408712 N\n",
      "The force required if the screw jack is considered to be an ideal machine is 4.547284 N\n"
     ]
    }
   ],
   "source": [
    "# Initilization of variables\n",
    "W=2000 #N # Load to be raised\n",
    "l=0.70 #m # length of the handle\n",
    "d=0.05 #m # diameter of the screw\n",
    "p=0.01 #m # pitch of the screw\n",
    "mu=0.15 # coefficient of friction at the screw thread\n",
    "E=1 # efficiency\n",
    "# Calculations\n",
    "phi=math.degrees(math.atan(mu)) #degree\n",
    "theta=math.degrees(math.atan(p/(math.pi*d))) #degree # where theta is the Helix angle\n",
    "# Force required at the circumference of the screw is,\n",
    "P=W*(math.tan((theta+phi)*math.pi/180)) # N #\n",
    "# Force required at the end of the handle is,\n",
    "F=(P*(d/2))/l #N \n",
    "# Force required (Ideal case)\n",
    "VR=2*math.pi*l/p\n",
    "MA=E*VR # from formulae E=M.A/V,R\n",
    "P_ideal=W/MA #N # From formulae, M.A=W/P\n",
    "# Results\n",
    "print('The force required at the end of the handle is %f N'%F)\n",
    "print('The force required if the screw jack is considered to be an ideal machine is %f N'%P_ideal)"
   ]
  }
 ],
 "metadata": {
  "kernelspec": {
   "display_name": "Python 3",
   "language": "python",
   "name": "python3"
  },
  "language_info": {
   "codemirror_mode": {
    "name": "ipython",
    "version": 3
   },
   "file_extension": ".py",
   "mimetype": "text/x-python",
   "name": "python",
   "nbconvert_exporter": "python",
   "pygments_lexer": "ipython3",
   "version": "3.5.1"
  },
  "widgets": {
   "state": {},
   "version": "1.1.2"
  }
 },
 "nbformat": 4,
 "nbformat_minor": 0
}
