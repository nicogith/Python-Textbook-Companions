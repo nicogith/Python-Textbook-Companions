{
 "cells": [
  {
   "cell_type": "markdown",
   "metadata": {},
   "source": [
    "# Chapter 7 Application of friction"
   ]
  },
  {
   "cell_type": "markdown",
   "metadata": {},
   "source": [
    "# Example 7.1 Application of Friction"
   ]
  },
  {
   "cell_type": "code",
   "execution_count": 1,
   "metadata": {
    "collapsed": false
   },
   "outputs": [
    {
     "name": "stdout",
     "output_type": "stream",
     "text": [
      "The angle of lap for the larger pulley is 203.073918 degree\n",
      "The angle of lap for the smaller pulley is 156.926082 degree\n",
      "The length of pulley required is 117.748668 cm\n"
     ]
    }
   ],
   "source": [
    "import math\n",
    "# Initilization of variables\n",
    "d1=24 # cm # diameter of larger pulley\n",
    "d2=12 # cm # diameter of smaller pulley\n",
    "d=30 #cm # seperation betweem 1st & the 2nd pulley\n",
    "# Calcuations\n",
    "r1=d1/2 #cm # radius of 1st pulley\n",
    "r2=d2/2 #cm # radius of 2nd pulley\n",
    "theta=math.degrees(math.asin((r1-r2)/d)) #degrees \n",
    "# Angle of lap\n",
    "beta_1=180+(2*theta) #degree # for larger pulley\n",
    "beta_2=180-(2*theta) #degree #for smaller pulley\n",
    "L=math.pi*(r1+r2)+(2*d)+((r1-r2)**2/d) #cm # Length of the belt\n",
    "# Results\n",
    "print('The angle of lap for the larger pulley is %f degree'%beta_1)\n",
    "print('The angle of lap for the smaller pulley is %f degree'%beta_2)\n",
    "print('The length of pulley required is %f cm'%L)"
   ]
  },
  {
   "cell_type": "markdown",
   "metadata": {},
   "source": [
    "# Example 7.2 Application of Friction"
   ]
  },
  {
   "cell_type": "code",
   "execution_count": 2,
   "metadata": {
    "collapsed": false
   },
   "outputs": [
    {
     "name": "stdout",
     "output_type": "stream",
     "text": [
      "The angle of lap for the pulley is 194.774097 degree\n",
      "The length of pulley required is 8.420145 m\n"
     ]
    }
   ],
   "source": [
    "from __future__ import division\n",
    "import math\n",
    "# Initilization of variables\n",
    "d1=0.6 #m # diameter of larger pulley\n",
    "d2=0.3 #m # diameter of smaller pulley\n",
    "d=3.5 #m # separation between the pulleys\n",
    "# Calculations\n",
    "r1=d1/2 #m # radius of larger pulley\n",
    "r2=d2/2 #m # radius of smaller pulley\n",
    "theta=math.degrees(math.asin((r1+r2)/d)) #degree\n",
    "# Angle of lap for both the pulleys is same, i.e\n",
    "beta=180+(2*theta) # degree\n",
    "L=((math.pi*(r1+r2))+(2*d)+((r1-r2)**2/d)) #cm # Length of the belt\n",
    "# Results\n",
    "print('The angle of lap for the pulley is %f degree'%beta)\n",
    "print('The length of pulley required is %f m'%L)"
   ]
  },
  {
   "cell_type": "markdown",
   "metadata": {},
   "source": [
    "# Example 7.4 Belt friction"
   ]
  },
  {
   "cell_type": "code",
   "execution_count": 5,
   "metadata": {
    "collapsed": false
   },
   "outputs": [
    {
     "name": "stdout",
     "output_type": "stream",
     "text": [
      "The minimum weight W2 to keep W1 in equilibrium is 455.975258 N\n"
     ]
    }
   ],
   "source": [
    "from __future__ import division\n",
    "import math\n",
    "# Initilization of variables\n",
    "W1=1000 #N\n",
    "mu=0.25 #coefficient of friction\n",
    "T1=W1 # Tension in the 1st belt carrying W1\n",
    "e=2.718 #constant\n",
    "# Calculations\n",
    "T2=T1/(e**(mu*math.pi)) #N # Tension in the 2nd belt\n",
    "W2=T2 #N\n",
    "# Results\n",
    "print('The minimum weight W2 to keep W1 in equilibrium is %f N'%W2)"
   ]
  },
  {
   "cell_type": "markdown",
   "metadata": {},
   "source": [
    "# Example 7.5 Belt friction"
   ]
  },
  {
   "cell_type": "code",
   "execution_count": 6,
   "metadata": {
    "collapsed": false
   },
   "outputs": [
    {
     "name": "stdout",
     "output_type": "stream",
     "text": [
      "The braking moment (M) exerted by the vertical weight W is 42.980225 N-m\n"
     ]
    }
   ],
   "source": [
    "from __future__ import division\n",
    "import math\n",
    "# Initilization of variables\n",
    "mu=0.5 # coefficient of friction between the belt and the wheel\n",
    "W=100 #N\n",
    "theta=45 #degree\n",
    "e=2.718\n",
    "Lac=0.75 #m # ength of the lever\n",
    "Lab=0.25 #m\n",
    "Lbc=0.50 #m\n",
    "r=0.25 #m\n",
    "# Calculations\n",
    "beta=((180+theta)*math.pi)/180 # radian # angle of lap\n",
    "# from eq'n 2\n",
    "T1=(W*Lbc)/Lab #N \n",
    "T2=T1/(e**(mu*beta)) #N # from eq'n 1\n",
    "# consider the F.B.D of the pulley and take moment about its center, we get Braking Moment (M)\n",
    "M=r*(T1-T2) #N-m\n",
    "# Results\n",
    "print('The braking moment (M) exerted by the vertical weight W is %f N-m'%M)"
   ]
  },
  {
   "cell_type": "markdown",
   "metadata": {},
   "source": [
    "# Example 7.6 Belt friction"
   ]
  },
  {
   "cell_type": "code",
   "execution_count": 8,
   "metadata": {
    "collapsed": false
   },
   "outputs": [
    {
     "name": "stdout",
     "output_type": "stream",
     "text": [
      "The  force required to suport the weight of 1000 N i.e 1kN is 3.502492 N\n"
     ]
    }
   ],
   "source": [
    "from __future__ import division\n",
    "import math\n",
    "# Initiization of variables\n",
    "W= 1000 #N # or 1kN\n",
    "mu=0.3 # coefficient of friction between the rope and the cylinder\n",
    "e=2.718 # constant\n",
    "alpha=90 # degree # since 2*alpha=180 egree\n",
    "# Calculations\n",
    "beta=2*math.pi*3 # radian # for 3 turn of the rope\n",
    "# Here T1 is the larger tension in that section of the rope which is about to slip\n",
    "T1=W #N\n",
    "F=W/e**(mu*(1/(math.sin(alpha*math.pi/180)))*(beta)) #N  Here T2=F\n",
    "# Results\n",
    "print('The  force required to suport the weight of 1000 N i.e 1kN is %f N'%F)"
   ]
  },
  {
   "cell_type": "markdown",
   "metadata": {},
   "source": [
    "# Example 7.7 Belt friction"
   ]
  },
  {
   "cell_type": "code",
   "execution_count": 13,
   "metadata": {
    "collapsed": false
   },
   "outputs": [
    {
     "name": "stdout",
     "output_type": "stream",
     "text": [
      "The number of ropes required to transmit 50 kW is 4.789906 or ~ 5\n"
     ]
    }
   ],
   "source": [
    "from __future__ import division\n",
    "import math\n",
    "# Initilization of variables\n",
    "Pw=50 #kW\n",
    "T_max=1500 #N\n",
    "v=10 # m/s # velocity of rope\n",
    "w=4 # N/m # weight of rope\n",
    "mu=0.2 # coefficient of friction \n",
    "g=9.81 # m/s**2 # acceleration due to gravity\n",
    "e=2.718 # constant\n",
    "alpha=30 # degree # since 2*alpha=60 \n",
    "# Calcuations\n",
    "T_e=(w*v**2)/g # N # where T_e is the centrifugal tension\n",
    "T1=(T_max)-(T_e) #N\n",
    "T2=T1/(e**(mu*(1/math.sin(alpha*math.pi/180))*(math.pi))) #N # From eq'n T1/T2=e^(mu*cosec(alpha)*beta)\n",
    "P=(T1-T2)*v*(10**-3) #kW # power transmitted by a single rope\n",
    "N=Pw/P # Number of ropes required\n",
    "# Results\n",
    "print('The number of ropes required to transmit 50 kW is %f or ~ %.0f'%(N,N))"
   ]
  },
  {
   "cell_type": "markdown",
   "metadata": {},
   "source": [
    "# Example 7.8 Belt friction"
   ]
  },
  {
   "cell_type": "code",
   "execution_count": 14,
   "metadata": {
    "collapsed": false
   },
   "outputs": [
    {
     "name": "stdout",
     "output_type": "stream",
     "text": [
      "The power transmitted by the cross belt drive is 1.180543 kW\n"
     ]
    }
   ],
   "source": [
    "from __future__ import division\n",
    "import math\n",
    "# Initilization of variables\n",
    "d1=0.45 #m # diameter of larger pulley\n",
    "d2=0.20 #m # diameter of smaller pulley\n",
    "d=1.95 #m # separation between the pulley's\n",
    "T_max=1000 #N # or 1kN which is the maximum permissible tension\n",
    "mu=0.20 # coefficient of friction\n",
    "N=100 # r.p.m # speed of larger pulley\n",
    "e=2.718 # constant\n",
    "T_e=0 #N # as the data for calculating T_e is not given we assume T_e=0\n",
    "# Calculations\n",
    "r1=d1/2 #m # radius of larger pulley\n",
    "r2=d2/2 #m # radius of smaller pulley\n",
    "theta=math.degrees(math.asin((r1+r2)/d)) # degree\n",
    "# for cross drive the angle of lap for both the pulleys is same\n",
    "beta=((180+(2*(theta)))*math.pi)/180 #radian\n",
    "T1=T_max-T_e #N\n",
    "T2=T1/(e**(mu*(beta))) #N # from formulae, T1/T2=e**(mu*beta)\n",
    "v=((2*math.pi)*N*r1)/60 # m/s # where v=velocity of belt which is given as, v=wr=2*pie*N*r/60\n",
    "P=(T1-T2)*v*(10**-3) #kW # Power\n",
    "# Results\n",
    "print('The power transmitted by the cross belt drive is %f kW'%P)\n",
    "#answer given in the textbook is incorrect"
   ]
  },
  {
   "cell_type": "markdown",
   "metadata": {},
   "source": [
    "# Example 7.9 Belt friction"
   ]
  },
  {
   "cell_type": "code",
   "execution_count": 16,
   "metadata": {
    "collapsed": false
   },
   "outputs": [
    {
     "name": "stdout",
     "output_type": "stream",
     "text": [
      "The initial power transmitted is 14.808043 kW\n",
      "The initial tension in the belt is 682.223893 N\n",
      "The maximum power that can be transmitted is 15.020439 kW\n",
      "The maximum power is transmitted at a belt speed of 24.343225 m/s\n"
     ]
    }
   ],
   "source": [
    "from __future__ import division\n",
    "import math\n",
    "# Initilization of variabes\n",
    "b=0.1 #m #width of the belt\n",
    "t=0.008 #m #thickness of the belt\n",
    "v=26.67 # m/s # belt speed\n",
    "beta=165 # radian # angle of lap for the smaller belt\n",
    "mu=0.3 # coefficient of friction\n",
    "sigma_max=2 # MN/m**2 # maximum permissible stress in the belt\n",
    "m=0.9 # kg/m # mass of the belt\n",
    "g=9.81 # m/s**2\n",
    "e=2.718 # constant\n",
    "# Calculations\n",
    "A=b*t # m**2 # cross-sectional area of the belt\n",
    "T_e=m*v**2 # N # where T_e is the Centrifugal tension\n",
    "T_max=(sigma_max)*(A)*(10**6) # N # maximum tension in the belt\n",
    "T1=(T_max)-(T_e) # N \n",
    "T2=T1/(e**((mu*math.pi*beta)/180)) #N # from formulae T1/T2=e**(mu*beta)\n",
    "P=(T1-T2)*v*(10**-3) #kW # Power transmitted\n",
    "T_o=(T1+T2)/2 # N # Initial tension\n",
    "# Now calculations to transmit maximum power\n",
    "Te=T_max/3 # N # max tension\n",
    "u=math.sqrt(T_max/(3*m)) # m/s # belt speed for max power\n",
    "T_1=T_max-Te # N # T1 for case 2\n",
    "T_2=T_1/(e**((mu*math.pi*beta)/180)) # N \n",
    "P_max=(T_1-T_2)*u*(10**-3) # kW # Max power transmitted\n",
    "# Results\n",
    "print('The initial power transmitted is %f kW'%P)\n",
    "print('The initial tension in the belt is %f N'%T_o)\n",
    "print('The maximum power that can be transmitted is %f kW'%P_max)\n",
    "print('The maximum power is transmitted at a belt speed of %f m/s'%u)"
   ]
  },
  {
   "cell_type": "markdown",
   "metadata": {},
   "source": [
    "# Example 7.10 Friction in a square threaded screw"
   ]
  },
  {
   "cell_type": "code",
   "execution_count": 30,
   "metadata": {
    "collapsed": false
   },
   "outputs": [
    {
     "name": "stdout",
     "output_type": "stream",
     "text": [
      "The force required (i.e F1) to raise the weight is 1.208561 kN\n",
      "The force required (i.e F2) to lower the weight is -0.794732 kN\n",
      "The efficiency of the jack is 16.461202 percent\n"
     ]
    }
   ],
   "source": [
    "from __future__ import division\n",
    "import math\n",
    "# Initilization of variables\n",
    "p=0.0125 # m # pitch of screw\n",
    "d=0.1 #m # diameter of the screw\n",
    "r=0.05 #m # radius of the screw\n",
    "l=0.5 #m # length of the lever\n",
    "W=50 #kN # load on the lever\n",
    "mu=0.20 # coefficient of friction \n",
    "# Calculations\n",
    "theta=math.degrees(math.atan(p/(2*math.pi*r))) #degree # theta is the Helix angle\n",
    "phi=math.degrees(math.atan(mu)) # degree # phi is the angle of friction\n",
    "# Taking the leverage due to handle into account,force F1 required is,\n",
    "a=theta+phi\n",
    "b=theta-phi\n",
    "F1=(W*(math.tan(a*math.pi/180)))*(r/l) #kN\n",
    "# To lower the load\n",
    "F2=(W*(math.tan(b*math.pi/180)))*(r/l) #kN # -ve sign of F2 indicates force required is in opposite sense\n",
    "E=(math.tan(theta*math.pi/180)/math.tan((theta+phi)*math.pi/180))*100 # % # here E=eata=efficiency in %\n",
    "# Results\n",
    "print('The force required (i.e F1) to raise the weight is %f kN'%F1)\n",
    "print('The force required (i.e F2) to lower the weight is %f kN'%F2)\n",
    "print('The efficiency of the jack is %f percent'%E)"
   ]
  },
  {
   "cell_type": "markdown",
   "metadata": {},
   "source": [
    "# Example 7.11 Application of Friction"
   ]
  },
  {
   "cell_type": "code",
   "execution_count": 33,
   "metadata": {
    "collapsed": false
   },
   "outputs": [
    {
     "name": "stdout",
     "output_type": "stream",
     "text": [
      "The frictional torque is 240.000000 N-m\n"
     ]
    }
   ],
   "source": [
    "from __future__ import division\n",
    "import math\n",
    "# Initilization of variabes\n",
    "P=20000 #N #Weight of the shaft\n",
    "D=0.30 #m #diameter of the shaft\n",
    "R=0.15 #m #radius of the shaft\n",
    "mu=0.12 # coefficient of friction\n",
    "# Calculations\n",
    "# Friction torque T is given by formulae,\n",
    "T=(2/3)*P*R*mu #N-m\n",
    "M=T #N-m\n",
    "# Results\n",
    "print('The frictional torque is %f N-m'%M)"
   ]
  }
 ],
 "metadata": {
  "kernelspec": {
   "display_name": "Python [Root]",
   "language": "python",
   "name": "Python [Root]"
  },
  "language_info": {
   "codemirror_mode": {
    "name": "ipython",
    "version": 2
   },
   "file_extension": ".py",
   "mimetype": "text/x-python",
   "name": "python",
   "nbconvert_exporter": "python",
   "pygments_lexer": "ipython2",
   "version": "2.7.12"
  },
  "widgets": {
   "state": {},
   "version": "1.1.2"
  }
 },
 "nbformat": 4,
 "nbformat_minor": 0
}
