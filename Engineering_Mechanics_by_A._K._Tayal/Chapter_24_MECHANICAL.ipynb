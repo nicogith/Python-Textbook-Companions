{
 "cells": [
  {
   "cell_type": "markdown",
   "metadata": {},
   "source": [
    "# Chapter 24 Mechanical Vibrations"
   ]
  },
  {
   "cell_type": "markdown",
   "metadata": {},
   "source": [
    "# Example 24.1 Simple Harmonic Motion"
   ]
  },
  {
   "cell_type": "code",
   "execution_count": 2,
   "metadata": {
    "collapsed": false
   },
   "outputs": [
    {
     "name": "stdout",
     "output_type": "stream",
     "text": [
      "(a) The amplitude of oscillation is 10 cm\n",
      "(b) The maximum acceleration is 10.966227 cm/s**2\n",
      "(c) The velocity of the particle at 5 cm from mean position  is 9.068997 cm/s\n"
     ]
    }
   ],
   "source": [
    "import math\n",
    "# Initilization of variables\n",
    "f=1/6 # oscillations/second\n",
    "x=8 # cm # distance from the mean position\n",
    "# Calculations\n",
    "omega=2*math.pi*f\n",
    "# Amplitude is given by eq'n \n",
    "r=math.sqrt((25*x**2)/16) # cm\n",
    "# Maximum acceleration is given as,\n",
    "a_max=(math.pi/3)**2*10 # cm/s^2\n",
    "# Velocity when it is at a dist of 5 cm (assume s=5 cm) is given by\n",
    "s=5 # cm\n",
    "v=omega*math.sqrt(r**2-s**2) # cm/s\n",
    "# Results\n",
    "print('(a) The amplitude of oscillation is %d cm'%r)\n",
    "print('(b) The maximum acceleration is %f cm/s**2'%a_max)\n",
    "print('(c) The velocity of the particle at 5 cm from mean position  is %f cm/s'%v)"
   ]
  },
  {
   "cell_type": "markdown",
   "metadata": {},
   "source": [
    "# Example 24.2 Simple Harmonic Motion"
   ]
  },
  {
   "cell_type": "code",
   "execution_count": 3,
   "metadata": {
    "collapsed": false
   },
   "outputs": [
    {
     "name": "stdout",
     "output_type": "stream",
     "text": [
      "(a) The amplitude of oscillations is 0.252982 m\n",
      "(b) The time period of oscillations is 1.216734 seconds\n",
      "(c) The maximum velocity is 1.306395 m/s\n",
      "(d) The maximum acceleration is 6.746192 m/s**2\n"
     ]
    }
   ],
   "source": [
    "# Initilization of variables\n",
    "x_1=0.1 # m # assume the distance of the particle from mean position as (x_1 & x_2)\n",
    "x_2=0.2# m \n",
    "# assume velocities as v_1 & v_2\n",
    "v_1=1.2 # m/s\n",
    "v_2=0.8 # m/s\n",
    "# Calculations\n",
    "# The amplitude of oscillations is given by dividing eq'n 1 by 2 as,\n",
    "r=math.sqrt(0.32/5) # m\n",
    "omega=v_1/(math.sqrt(r**2-x_1**2)) # radians/second\n",
    "t=(2*math.pi)/omega # seconds\n",
    "v_max=r*omega # m/s\n",
    "# let the max acceleration be a which is given as,\n",
    "a=r*omega**2 # m/s**2 \n",
    "# Results\n",
    "print('(a) The amplitude of oscillations is %f m'%r)\n",
    "print('(b) The time period of oscillations is %f seconds'%t)\n",
    "print('(c) The maximum velocity is %f m/s'%v_max)\n",
    "print('(d) The maximum acceleration is %f m/s**2'%a) # the value of max acc is incorrect in the textbook\n",
    "# NOTE: the value of t is incorrect in the text book\n",
    "# The values may differ slightly due to decimal point accuracy"
   ]
  },
  {
   "cell_type": "markdown",
   "metadata": {},
   "source": [
    "# Example 24.5 Equivalent spring constant"
   ]
  },
  {
   "cell_type": "code",
   "execution_count": 5,
   "metadata": {
    "collapsed": false
   },
   "outputs": [
    {
     "name": "stdout",
     "output_type": "stream",
     "text": [
      "(a) The stiffness of the spring is 2.012152 N/cm\n",
      "(b) The maximum Tension in the spring is 65.091138 N\n",
      "(c) The maximum velocity is 0.471239 m/s\n"
     ]
    }
   ],
   "source": [
    "# Initilization of variabes\n",
    "W=50 # N # weight\n",
    "x_0=0.075 # m # amplitude\n",
    "f=1 # oscillation/sec # frequency\n",
    "g=9.81 \n",
    "# Calculations\n",
    "omega=2*math.pi*f\n",
    "K=(((2*math.pi)**2*W)/g)*(10**-2) # N/cm\n",
    "# let the total extension of the string be delta which is given as,\n",
    "delta=(W/K)+(x_0*10**2) # cm\n",
    "T=K*delta # N # Max Tension\n",
    "v=omega*x_0 #m/s # max velocity\n",
    "# Results\n",
    "print('(a) The stiffness of the spring is %f N/cm'%K)\n",
    "print('(b) The maximum Tension in the spring is %f N'%T)\n",
    "print('(c) The maximum velocity is %f m/s'%v)"
   ]
  },
  {
   "cell_type": "markdown",
   "metadata": {},
   "source": [
    "# Example 24.10 Pendulum Motion"
   ]
  },
  {
   "cell_type": "code",
   "execution_count": 6,
   "metadata": {
    "collapsed": false
   },
   "outputs": [
    {
     "name": "stdout",
     "output_type": "stream",
     "text": [
      "The time period of oscillation of the pendulum for upward acc of the elevator is 1.912710 seconds\n",
      "The time period of oscillation of the pendulum for downward acc of the elevator is 2.114580 seconds\n"
     ]
    }
   ],
   "source": [
    "# Initilization of variables\n",
    "l=1 # m # length of the simple pendulum\n",
    "g=9.81 # m/s^2\n",
    "# Calculations\n",
    "# Let t_s be the time period when the elevator is stationary\n",
    "t_s=2*math.pi*math.sqrt(l/g) #/ seconds\n",
    "# Let t_u be the time period when the elevator moves upwards. Then from eqn 1\n",
    "t_u=2*math.pi*math.sqrt((l)/(g+(g/10))) # seconds\n",
    "# Let t_d be the time period when the elevator moves downwards.\n",
    "t_d=2*math.pi*math.sqrt(l/(g-(g/10))) # seconds\n",
    "# Results\n",
    "print('The time period of oscillation of the pendulum for upward acc of the elevator is %f seconds'%t_u)\n",
    "print('The time period of oscillation of the pendulum for downward acc of the elevator is %f seconds'%t_d)"
   ]
  },
  {
   "cell_type": "markdown",
   "metadata": {},
   "source": [
    "# Example 24.11 Pendulum Motion"
   ]
  },
  {
   "cell_type": "code",
   "execution_count": 7,
   "metadata": {
    "collapsed": false
   },
   "outputs": [
    {
     "name": "stdout",
     "output_type": "stream",
     "text": [
      "The time period of oscillation of the pendulum for upward acc of the elevator is 0.953463 seconds\n",
      "The time period of oscillation of the pendulum for downward acc of the elevator is 1.054093 seconds\n"
     ]
    }
   ],
   "source": [
    "# Initilization of variables\n",
    "t=1 # second # time period of the simple pendulum\n",
    "g=9.81 # m/s^2\n",
    "# Calculations\n",
    "# Length of pendulum is given as,\n",
    "l=(t/(2*math.pi)**2)*g # m\n",
    "# Let t_u be the time period when the elevator moves upwards. Then the time period is given as,\n",
    "t_u=2*math.pi*math.sqrt((l)/(g+(g/10))) # seconds\n",
    "# Let t_d be the time period when the elevator moves downwards.\n",
    "t_d=2*math.pi*math.sqrt(l/(g-(g/10))) # seconds\n",
    "# Results\n",
    "print('The time period of oscillation of the pendulum for upward acc of the elevator is %f seconds'%t_u)\n",
    "print('The time period of oscillation of the pendulum for downward acc of the elevator is %f seconds'%t_d)"
   ]
  },
  {
   "cell_type": "markdown",
   "metadata": {},
   "source": [
    "# Example 24.12 Pendulum Motion"
   ]
  },
  {
   "cell_type": "code",
   "execution_count": 8,
   "metadata": {
    "collapsed": false
   },
   "outputs": [
    {
     "name": "stdout",
     "output_type": "stream",
     "text": [
      "The time period of oscillations of the disc is 0.475599 seconds\n"
     ]
    }
   ],
   "source": [
    "# Initilization of variables\n",
    "m=15 # kg # mass of the disc\n",
    "D=0.3 # m # diameter of the disc\n",
    "R=0.15 # m # radius\n",
    "l=1 # m # length of the shaft\n",
    "d=0.01 # m # diameter of the shaft\n",
    "G=30*10**9 # N-m**2 # modulus of rigidity\n",
    "# Calculations\n",
    "# M.I of the disc about the axis of rotation is given as,\n",
    "I=(m*R**2)/2 # kg-m**2\n",
    "# Stiffness of the shaft\n",
    "k_t=(math.pi*d**4*G)/(32*l) # N-m/radian\n",
    "t=2*math.pi*math.sqrt(I/k_t) # seconds\n",
    "# Results\n",
    "print('The time period of oscillations of the disc is %f seconds'%t)"
   ]
  }
 ],
 "metadata": {
  "kernelspec": {
   "display_name": "Python 3",
   "language": "python",
   "name": "python3"
  },
  "language_info": {
   "codemirror_mode": {
    "name": "ipython",
    "version": 3
   },
   "file_extension": ".py",
   "mimetype": "text/x-python",
   "name": "python",
   "nbconvert_exporter": "python",
   "pygments_lexer": "ipython3",
   "version": "3.5.1"
  },
  "widgets": {
   "state": {},
   "version": "1.1.2"
  }
 },
 "nbformat": 4,
 "nbformat_minor": 0
}
