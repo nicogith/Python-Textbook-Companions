{
 "cells": [
  {
   "cell_type": "markdown",
   "metadata": {},
   "source": [
    "# Chapter 22 Kinetics of Rigid Body Force and Acceleration"
   ]
  },
  {
   "cell_type": "markdown",
   "metadata": {},
   "source": [
    "# Example 22.1 Relation between the translatory motion and rotary motion of a body in plane motion"
   ]
  },
  {
   "cell_type": "code",
   "execution_count": 3,
   "metadata": {
    "collapsed": false
   },
   "outputs": [
    {
     "name": "stdout",
     "output_type": "stream",
     "text": [
      "(a) The no of revolutions executed by the disc before coming to rest is 1500\n",
      "(b) The frictional torque is -5.003811 N-m\n"
     ]
    }
   ],
   "source": [
    "import math\n",
    "#Initialization of variables\n",
    "N=1500 # r.p.m\n",
    "r=0.5 # m , radius of the disc\n",
    "m=300 # N , weight of the disc\n",
    "t=120 #seconds , time in which the disc comes to rest\n",
    "omega=0 \n",
    "g=9.81 #m/s**2\n",
    "#Calculations\n",
    "omega_0=(2*math.pi*N)/60 #rad/s\n",
    "#angular deceleration is given as,\n",
    "alpha=-(omega_0/t) #radian/second**2\n",
    "theta=(omega_0**2)/(2*(-alpha)) #radian\n",
    "#Let n be the no of revolutions taken by the disc before it comes to rest, then\n",
    "n=theta/(2*math.pi)\n",
    "#Now,\n",
    "I_G=((1/2)*m*r**2)/g\n",
    "#The frictional torque is given as,\n",
    "M=I_G*alpha #N-m\n",
    "#Results\n",
    "print('(a) The no of revolutions executed by the disc before coming to rest is %d'%n)\n",
    "print('(b) The frictional torque is %f N-m'%M)"
   ]
  },
  {
   "cell_type": "markdown",
   "metadata": {},
   "source": [
    "# Example 22.2 Relation between the translatory motion and rotary motion of a body in plane motion"
   ]
  },
  {
   "cell_type": "code",
   "execution_count": 5,
   "metadata": {
    "collapsed": false
   },
   "outputs": [
    {
     "name": "stdout",
     "output_type": "stream",
     "text": [
      "(a) The acceleration at the centre is 4.896389 m/s**2\n",
      "(b) The maximum angle of the inclined plane is 29.941943 degree\n"
     ]
    }
   ],
   "source": [
    "# Initilization of variables\n",
    "s=1 # m\n",
    "mu=0.192 # coefficient of static friction\n",
    "g=9.81 # m/s**2\n",
    "# Calculations\n",
    "# The maximum angle of the inclined plane is given as,\n",
    "theta=math.degrees(math.atan(3*mu)) # degree\n",
    "a=(2/3)*g*math.sin(theta*180/math.pi) # m/s**2 # by solving eq'n 4\n",
    "v=math.sqrt(2*a*s) # m/s\n",
    "# Let the acceleration at the centre be A which is given as,\n",
    "A=g*math.sin(theta*math.pi/180) # m/s**2 # from eq'n 1\n",
    "# Results\n",
    "print('(a) The acceleration at the centre is %f m/s**2'%A)\n",
    "print('(b) The maximum angle of the inclined plane is %f degree'%theta)"
   ]
  },
  {
   "cell_type": "markdown",
   "metadata": {},
   "source": [
    "# Example 22.5 Relation between the translatory motion and rotary motion of a body in plane motion"
   ]
  },
  {
   "cell_type": "code",
   "execution_count": 6,
   "metadata": {
    "collapsed": false
   },
   "outputs": [
    {
     "name": "stdout",
     "output_type": "stream",
     "text": [
      "The acceleration of weight A is 1.081102 m/s**2\n"
     ]
    }
   ],
   "source": [
    "# Initilization of variables\n",
    "W_a=25 # N \n",
    "W_b=25 # N \n",
    "W=200 # N # weight of the pulley\n",
    "i_g=0.2 # m # radius of gyration\n",
    "g=9.81 # m/s^2\n",
    "# Calculations\n",
    "# Solving eqn's 1 & 2 for acceleration of weight A (assume a)\n",
    "a=(0.15*W_a*g)/(((W*i_g**2)/(0.45))+(0.45*W_a)+((0.6*W_b)/(3))) # m/s^2\n",
    "# Results\n",
    "print('The acceleration of weight A is %f m/s**2'%a)"
   ]
  },
  {
   "cell_type": "markdown",
   "metadata": {},
   "source": [
    "# Example 22.8 Relation between the translatory motion and rotary motion of a body in plane motion"
   ]
  },
  {
   "cell_type": "code",
   "execution_count": 8,
   "metadata": {
    "collapsed": false
   },
   "outputs": [
    {
     "name": "stdout",
     "output_type": "stream",
     "text": [
      "The acceleration of the pool is 1.615819 m/s**2\n"
     ]
    }
   ],
   "source": [
    "# Initilization of variables\n",
    "r_1=0.075 # m\n",
    "r_2=0.15 # m\n",
    "P=50 # N\n",
    "W=100 # N\n",
    "i_g=0.05 # m\n",
    "theta=30 # degree\n",
    "g=9.81 # m/s^2\n",
    "# Calculations\n",
    "# The eq'n for acceleration of the pool is given by solving eqn's 1,2 &3 as,\n",
    "a=(50*g*(r_2*math.cos(theta*math.pi/180)-r_1))/(100*((i_g**2/r_2)+r_2)) # m/s**2\n",
    "# Results\n",
    "print('The acceleration of the pool is %f m/s**2'%a)"
   ]
  },
  {
   "cell_type": "markdown",
   "metadata": {},
   "source": [
    "# Example 22.10 Relation between the translatory motion and rotary motion of a body in plane motion"
   ]
  },
  {
   "cell_type": "code",
   "execution_count": 10,
   "metadata": {
    "collapsed": false
   },
   "outputs": [
    {
     "name": "stdout",
     "output_type": "stream",
     "text": [
      "(a) The angular velocity of the rod is 4.101219 rad/sec\n",
      "(b) The reaction at the hinge is 103.227964 N\n"
     ]
    }
   ],
   "source": [
    "# Initilization of variables\n",
    "L=1 # m # length of rod AB\n",
    "m=10 # kg # mass of the rod\n",
    "g=9.81 \n",
    "theta=30 # degree\n",
    "# Calculations\n",
    "# solving eq'n 4 for omega we get,\n",
    "omega=math.sqrt(2*16.82*math.sin(theta*math.pi/180)) # rad/s\n",
    "# Now solving eq'ns 1 &3 for alpha we get,\n",
    "alpha=(12/7)*g*math.cos(theta*math.pi/180) # rad/s\n",
    "# Components of reaction are given as,\n",
    "R_t=((m*g*math.cos(theta*math.pi/180))-((m*alpha*L)/4)) # N\n",
    "R_n=((m*omega**2*L)/(4))+(m*g*math.sin(theta*math.pi/180)) # N\n",
    "R=math.sqrt(R_t**2+R_n**2) # N \n",
    "# Results\n",
    "print('(a) The angular velocity of the rod is %f rad/sec'%omega)\n",
    "print('(b) The reaction at the hinge is %f N'%R)"
   ]
  }
 ],
 "metadata": {
  "kernelspec": {
   "display_name": "Python 3",
   "language": "python",
   "name": "python3"
  },
  "language_info": {
   "codemirror_mode": {
    "name": "ipython",
    "version": 3
   },
   "file_extension": ".py",
   "mimetype": "text/x-python",
   "name": "python",
   "nbconvert_exporter": "python",
   "pygments_lexer": "ipython3",
   "version": "3.5.1"
  },
  "widgets": {
   "state": {},
   "version": "1.1.2"
  }
 },
 "nbformat": 4,
 "nbformat_minor": 0
}
