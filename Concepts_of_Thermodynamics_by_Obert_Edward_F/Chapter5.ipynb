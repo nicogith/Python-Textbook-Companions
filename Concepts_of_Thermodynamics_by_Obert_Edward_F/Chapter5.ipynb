{
 "metadata": {
  "name": ""
 },
 "nbformat": 3,
 "nbformat_minor": 0,
 "worksheets": [
  {
   "cells": [
    {
     "cell_type": "heading",
     "level": 1,
     "metadata": {},
     "source": [
      "Chapter 5 - The first law and the dynamic open system"
     ]
    },
    {
     "cell_type": "heading",
     "level": 2,
     "metadata": {},
     "source": [
      "Example 2 - Pg 86"
     ]
    },
    {
     "cell_type": "code",
     "collapsed": false,
     "input": [
      "#Calculate the work done and power of the system\n",
      "#Initialization of variables\n",
      "rate= 5 #lbm/sec\n",
      "Q=50. #Btu/s\n",
      "h2=1020. #Btu/lbm\n",
      "h1=1000. #Btu/lbm\n",
      "V2=50. #ft/s\n",
      "V1=100. #ft/s\n",
      "J=778.\n",
      "g=32.2 #ft/s^2\n",
      "gc=g\n",
      "Z2=0\n",
      "Z1=100. #ft\n",
      "#calculations\n",
      "dw=Q/rate -(h2-h1) -(V2*V2- V1*V1)/(2*gc*J) -g/gc *(Z2-Z1)/J\n",
      "power=dw*rate\n",
      "#results\n",
      "print '%s %.1f %s' %(\"work done by the system =\",dw,\"Btu/lbm\")\n",
      "print '%s %.1f %s' %(\"\\n Power =\",power,\"Btu/s\")\n"
     ],
     "language": "python",
     "metadata": {},
     "outputs": [
      {
       "output_type": "stream",
       "stream": "stdout",
       "text": [
        "work done by the system = -9.7 Btu/lbm\n",
        "\n",
        " Power = -48.6 Btu/s\n"
       ]
      }
     ],
     "prompt_number": 1
    },
    {
     "cell_type": "heading",
     "level": 2,
     "metadata": {},
     "source": [
      "Example 3 - Pg 87"
     ]
    },
    {
     "cell_type": "code",
     "collapsed": false,
     "input": [
      "#calculate the area of the inlet pipe\n",
      "#Initialization of variables\n",
      "V=100. #ft/s\n",
      "v=15. #lbm/ft^3\n",
      "m=5. #lbm/s\n",
      "#calculations\n",
      "A=m*v/V\n",
      "#results\n",
      "print '%s %.2f %s' %(\"Area of inlet pipe =\",A,\"ft^2\")\n"
     ],
     "language": "python",
     "metadata": {},
     "outputs": [
      {
       "output_type": "stream",
       "stream": "stdout",
       "text": [
        "Area of inlet pipe = 0.75 ft^2\n"
       ]
      }
     ],
     "prompt_number": 2
    }
   ],
   "metadata": {}
  }
 ]
}