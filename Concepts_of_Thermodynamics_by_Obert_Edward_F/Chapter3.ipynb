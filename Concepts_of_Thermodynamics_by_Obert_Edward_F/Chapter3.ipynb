{
 "metadata": {
  "name": ""
 },
 "nbformat": 3,
 "nbformat_minor": 0,
 "worksheets": [
  {
   "cells": [
    {
     "cell_type": "heading",
     "level": 1,
     "metadata": {},
     "source": [
      "Chapter 3 - Temperature and the ideal gas"
     ]
    },
    {
     "cell_type": "heading",
     "level": 2,
     "metadata": {},
     "source": [
      "Example 2 - Pg 48"
     ]
    },
    {
     "cell_type": "code",
     "collapsed": false,
     "input": [
      "#calculate the volume of the gas\n",
      "#Initialization of variables\n",
      "p=14.7 #psia\n",
      "R0=1545 \n",
      "t=460 +60. #R\n",
      "#calculations\n",
      "v=R0*t/(p*144.)\n",
      "#results\n",
      "print '%s %.1f %s' %(\"Volume =\",v,\"ft^3/mol\")\n"
     ],
     "language": "python",
     "metadata": {},
     "outputs": [
      {
       "output_type": "stream",
       "stream": "stdout",
       "text": [
        "Volume = 379.5 ft^3/mol\n"
       ]
      }
     ],
     "prompt_number": 1
    },
    {
     "cell_type": "heading",
     "level": 2,
     "metadata": {},
     "source": [
      "Example 3 - Pg 48"
     ]
    },
    {
     "cell_type": "code",
     "collapsed": false,
     "input": [
      "#calculate the density of nitrogen\n",
      "#Initialization of variables\n",
      "p=20 #psia\n",
      "R0=1545. \n",
      "t=460. +100 #R\n",
      "M=28.\n",
      "#calculations\n",
      "v=R0*t/(p*144*M)\n",
      "rho=1/v\n",
      "#results\n",
      "print '%s %.4f %s' %(\"density of nitrogen =\",rho,\"lbm/ft^3\")\n"
     ],
     "language": "python",
     "metadata": {},
     "outputs": [
      {
       "output_type": "stream",
       "stream": "stdout",
       "text": [
        "density of nitrogen = 0.0932 lbm/ft^3\n"
       ]
      }
     ],
     "prompt_number": 2
    }
   ],
   "metadata": {}
  }
 ]
}