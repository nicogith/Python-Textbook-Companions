{
 "metadata": {
  "name": "",
  "signature": "sha256:9e27d5dc9ee72aa8af2a87478e959a0f346f3cc04c2f1acb86835886294034d4"
 },
 "nbformat": 3,
 "nbformat_minor": 0,
 "worksheets": [
  {
   "cells": [
    {
     "cell_type": "heading",
     "level": 1,
     "metadata": {},
     "source": [
      "Chapter 4: Special Purpose Machines"
     ]
    },
    {
     "cell_type": "heading",
     "level": 2,
     "metadata": {},
     "source": [
      "Example 4.1, Page 281"
     ]
    },
    {
     "cell_type": "code",
     "collapsed": false,
     "input": [
      "\n",
      "#Given data :\n",
      "P=8;#no. of poles\n",
      "T=5;#no. of teeteh in each pole\n",
      "Nr=50.;#no. of teeth in rotor\n",
      "\n",
      "#Calculations\n",
      "Ns=P*T;#no. of teeth\n",
      "Beta=(Nr-Ns)*360/(Nr*Ns);#in degree\n",
      "\n",
      "#Result\n",
      "print \"Stepping Angle(in degree) : = \",Beta;"
     ],
     "language": "python",
     "metadata": {},
     "outputs": [
      {
       "output_type": "stream",
       "stream": "stdout",
       "text": [
        "Stepping Angle(in degree) : =  1.8\n"
       ]
      }
     ],
     "prompt_number": 6
    },
    {
     "cell_type": "heading",
     "level": 2,
     "metadata": {},
     "source": [
      "Example 4.2, Page 282"
     ]
    },
    {
     "cell_type": "code",
     "collapsed": false,
     "input": [
      "\n",
      "#Given data :\n",
      "Beta=2.5;#in degree\n",
      "f=3600;#in PPs\n",
      "Resolution=360;#in degree\n",
      "\n",
      "#Calculations&Results\n",
      "print \"Resolution : \",Resolution;\n",
      "Beta1=Resolution/Beta;#steps/revolution\n",
      "print \"Steps per revolution : \",Beta1;\n",
      "n=Beta*f/360;#in rps\n",
      "print \"Steps required for making 25 revolution(in rps) : \",n;"
     ],
     "language": "python",
     "metadata": {},
     "outputs": [
      {
       "output_type": "stream",
       "stream": "stdout",
       "text": [
        "Resolution :  360\n",
        "Steps per revolution :  144.0\n",
        "Steps required for making 25 revolution(in rps) :  25.0\n"
       ]
      }
     ],
     "prompt_number": 3
    },
    {
     "cell_type": "heading",
     "level": 2,
     "metadata": {},
     "source": [
      "Example 4.3, Page 282"
     ]
    },
    {
     "cell_type": "code",
     "collapsed": false,
     "input": [
      "\n",
      "#Given data :\n",
      "Beta=15;#in degree\n",
      "Phase=3;#no. of phase\n",
      "\n",
      "#Calculations&Results\n",
      "#Formula : Beta*Nr=(360/phase)\n",
      "Nr=(360./Phase)/Beta;#unitless\n",
      "print \"No. of rotor :\",Nr;\n",
      "#Case (i) : when Ns>Nr : Formula : Beta=(Ns-Nr)*360/(Ns*Nr)\n",
      "Ns=Nr/(1-Beta*Nr/360);\n",
      "print \"No. of stator poles if Ns>Nr :\",Ns;\n",
      "#Case (ii) : when Nr>Ns : Formula : Beta=(Nr-Ns)*360/(Ns*Nr)\n",
      "Ns=Nr/(1+Beta*Nr/360);\n",
      "print \"No. of stator poles if Nr>Ns :\",Ns;"
     ],
     "language": "python",
     "metadata": {},
     "outputs": [
      {
       "output_type": "stream",
       "stream": "stdout",
       "text": [
        "No. of rotor : 8.0\n",
        "No. of stator poles if Ns>Nr : 12.0\n",
        "No. of stator poles if Nr>Ns : 6.0\n"
       ]
      }
     ],
     "prompt_number": 7
    },
    {
     "cell_type": "heading",
     "level": 2,
     "metadata": {},
     "source": [
      "Example 4.4, Page 282"
     ]
    },
    {
     "cell_type": "code",
     "collapsed": false,
     "input": [
      "\n",
      "#Given data :\n",
      "Beta=1.8;#in degree\n",
      "m=4;#no. of phases\n",
      "\n",
      "#Calculations\n",
      "#Formula : Beta*Nr=(360/m)\n",
      "Nr=(360/m)/Beta;#unitless\n",
      "\n",
      "#Results\n",
      "print \"No. of rotor teeth : = \",Nr;\n",
      "print \"In multi stack motor rotor teeth equals to stator teeth equals to : \",Nr;"
     ],
     "language": "python",
     "metadata": {},
     "outputs": [
      {
       "output_type": "stream",
       "stream": "stdout",
       "text": [
        "No. of rotor teeth : =  50.0\n",
        "In multi stack motor rotor teeth equals to stator teeth equals to :  50.0\n"
       ]
      }
     ],
     "prompt_number": 5
    }
   ],
   "metadata": {}
  }
 ]
}