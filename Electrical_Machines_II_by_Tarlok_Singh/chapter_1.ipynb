{
 "metadata": {
  "name": "",
  "signature": "sha256:71f7bb8af90f7646594735a45487d4bfd13546103b9649bd9552504ec18c8029"
 },
 "nbformat": 3,
 "nbformat_minor": 0,
 "worksheets": [
  {
   "cells": [
    {
     "cell_type": "heading",
     "level": 1,
     "metadata": {},
     "source": [
      "Chapter 1: Synchronous Machines\n"
     ]
    },
    {
     "cell_type": "heading",
     "level": 2,
     "metadata": {},
     "source": [
      "Example 1.1, Page 24"
     ]
    },
    {
     "cell_type": "code",
     "collapsed": false,
     "input": [
      "\n",
      "#given data\n",
      "slots=24;#no. of slotes\n",
      "NoOfPhase=3;#no of phase\n",
      "MotorSpeed=1450;#in rpm\n",
      "N=1500;#Synchonous Speed in rpm\n",
      "f=50;#in Hz\n",
      "\n",
      "#Calculations&Results\n",
      "print \"As the winding is in single layer, each slot contains one coil slide only.\";\n",
      "CoilSlidePerSlot=1;#coil slide per slot\n",
      "CoilSlidePerCoil=2;#coil slide per Coil\n",
      "TotalCoils=slots*CoilSlidePerSlot/CoilSlidePerCoil;#no. of coils\n",
      "print \"Total no. of Coils : \",TotalCoils;\n",
      "P=120*f/N;#no. of poles\n",
      "print \"No. of poles : \",P;\n",
      "PolesPitch=slots/P;#unitless\n",
      "print \"Poles Pitch = \",PolesPitch;\n",
      "print \"In case of single layer winding, the pole ppitch is generally taken in odd numbers only\"\n",
      "print \"let pole pitch = 5(for short pitch winding)\";\n",
      "PolesPitch=5;#for short pitch winding\n",
      "print \"Coil Span or coil through = 1-6\";\n",
      "CoilsPerPolePerPhase=TotalCoils/(P*NoOfPhase);#No. of Coils/Pole/Phase\n",
      "print \"No. of Coils/Pole/Phase = \",CoilsPerPolePerPhase;\n",
      "pair_of_poles=2;#no. of pair of poles\n",
      "TotalElectricalDegree=360*pair_of_poles;#in degree \n",
      "ElectricalDegreesPerSlot=TotalElectricalDegree/slots;#in degree electrical\n",
      "print \"Electrical Degrees/Slot = \",ElectricalDegreesPerSlot;\n",
      "Slots_required=120/ElectricalDegreesPerSlot;#No. of slotes required for proper phase displacement\n",
      "print \"No. of slotes required for proper phase displacement = \",Slots_required;\n",
      "print \"Winding Table is as follows :\";\n",
      "print \"Coil No.     Connection Lead from     Coil Span     Phase and Group No.\";\n",
      "print \"   1                   A1               1-6                  A1\";\n",
      "print \"   2                                    3-8                  C4\";\n",
      "print \"   3                   B1               5-10                 B1\";\n",
      "print \"   4                                    7-12                 A2\";\n",
      "print \"   5                   C1               9-14                 C1\";\n",
      "print \"   6                                   11-16                 B2\";\n",
      "print \"   7                                   13-18                 A3\";\n",
      "print \"   8                                   15-20                 C2\";\n",
      "print \"   9                                   17-22                 B3\";\n",
      "print \"  10                                   19-24                 A4\";\n",
      "print \"  11                                   21-2                  C3\";\n",
      "print \"  12                                   23-4                  B4\";"
     ],
     "language": "python",
     "metadata": {},
     "outputs": [
      {
       "output_type": "stream",
       "stream": "stdout",
       "text": [
        "As the winding is in single layer, each slot contains one coil slide only.\n",
        "Total no. of Coils :  12\n",
        "No. of poles :  4\n",
        "Poles Pitch =  6\n",
        "In case of single layer winding, the pole ppitch is generally taken in odd numbers only\n",
        "let pole pitch = 5(for short pitch winding)\n",
        "Coil Span or coil through = 1-6\n",
        "No. of Coils/Pole/Phase =  1\n",
        "Electrical Degrees/Slot =  30\n",
        "No. of slotes required for proper phase displacement =  4\n",
        "Winding Table is as follows :\n",
        "Coil No.     Connection Lead from     Coil Span     Phase and Group No.\n",
        "   1                   A1               1-6                  A1\n",
        "   2                                    3-8                  C4\n",
        "   3                   B1               5-10                 B1\n",
        "   4                                    7-12                 A2\n",
        "   5                   C1               9-14                 C1\n",
        "   6                                   11-16                 B2\n",
        "   7                                   13-18                 A3\n",
        "   8                                   15-20                 C2\n",
        "   9                                   17-22                 B3\n",
        "  10                                   19-24                 A4\n",
        "  11                                   21-2                  C3\n",
        "  12                                   23-4                  B4\n"
       ]
      }
     ],
     "prompt_number": 52
    },
    {
     "cell_type": "heading",
     "level": 2,
     "metadata": {},
     "source": [
      "Example 1.2, Page 28"
     ]
    },
    {
     "cell_type": "code",
     "collapsed": false,
     "input": [
      "\n",
      "#given data\n",
      "slots=24;#no. of slotes\n",
      "P=4;#no. of poles\n",
      "CoilPitch=5;#unitless\n",
      "NoOfPhase=3;#no of phase\n",
      "\n",
      "#Calculations&Results\n",
      "print \"As the winding is in double layer, each slot contains 2 coils per slide.\";\n",
      "CoilSlidePerSlot=2;#coil slide per slot\n",
      "CoilSlidePerCoil=2;#coil slide per Coil\n",
      "TotalCoils=slots*CoilSlidePerSlot/CoilSlidePerCoil;#no. of coils\n",
      "print \"Total no. of Coils : \",TotalCoils;\n",
      "PolesPitch=slots/P;#unitless\n",
      "print \"Pole Pitch = \",PolesPitch;\n",
      "CoilsPerPolePerPhase=TotalCoils/(P*NoOfPhase);#No. of Coils/Pole/Phase\n",
      "print \"No. of Coils/Pole/Phase = \",CoilsPerPolePerPhase;\n",
      "pair_of_poles=2;#no. of pair of poles\n",
      "TotalElectricalDegree=360*pair_of_poles;#in degree \n",
      "ElectricalDegreesPerSlot=TotalElectricalDegree/slots;#in degree electrical\n",
      "print \"Electrical Degrees/Slot = \",ElectricalDegreesPerSlot;\n",
      "Slots_required=120/ElectricalDegreesPerSlot;#No. of slotes required for proper phase displacement\n",
      "print \"No. of slots required for proper phase displacement = \",Slots_required;\n",
      "print \"ie. Phase A1 is brought out from slot no. = 1\";\n",
      "print \"Phase B1 at slot no. = 1+4 = 5\";\n",
      "print \"Phase C1 at slot no. = 5+4 = 9\";\n",
      "print \"Col Connection - end to start to start\";\n",
      "print \"Winding Table is as follows :\";\n",
      "print \"Coil No.     Connection Lead from     Coil Span     Phase and Group No.\";\n",
      "print \"   1                   A1               1-6                  A1\";\n",
      "print \"   2                                    2-7                    \";\n",
      "print \"   3                                    3-8                  C4\";\n",
      "print \"   4                                    4-9                    \";\n",
      "print \"   5                   B1               5-10                 B1\";\n",
      "print \"   6                                    6-11                   \";\n",
      "print \"   7                                    7-12                 A2\";\n",
      "print \"   8                                    8-13                   \";\n",
      "print \"   9                   C1               9-14                 C1\";\n",
      "print \"  10                                   10-15                   \";\n",
      "print \"  11                                   11-16                 B2\";\n",
      "print \"  12                                   12-17                   \";\n",
      "print \"  13                                   13-18                 A3\";\n",
      "print \"  14                                   14-19                   \";\n",
      "print \"  15                                   15-20                 C2\";\n",
      "print \"  16                                   16-21                   \";\n",
      "print \"  17                                   17-22                 B3\";\n",
      "print \"  18                                   18-23                   \";\n",
      "print \"  19                                   19-24                 A4\";\n",
      "print \"  20                                   20-1                    \";\n",
      "print \"  21                                   21-2                  C3\";\n",
      "print \"  22                                   22-3                    \";\n",
      "print \"  23                                   23-4                    \";\n",
      "print \"  24                                   24-5                  B4\";"
     ],
     "language": "python",
     "metadata": {},
     "outputs": [
      {
       "output_type": "stream",
       "stream": "stdout",
       "text": [
        "As the winding is in double layer, each slot contains 2 coils per slide.\n",
        "Total no. of Coils :  24\n",
        "Pole Pitch =  6\n",
        "No. of Coils/Pole/Phase =  2\n",
        "Electrical Degrees/Slot =  30\n",
        "No. of slots required for proper phase displacement =  4\n",
        "ie. Phase A1 is brought out from slot no. = 1\n",
        "Phase B1 at slot no. = 1+4 = 5\n",
        "Phase C1 at slot no. = 5+4 = 9\n",
        "Col Connection - end to start to start\n",
        "Winding Table is as follows :\n",
        "Coil No.     Connection Lead from     Coil Span     Phase and Group No.\n",
        "   1                   A1               1-6                  A1\n",
        "   2                                    2-7                    \n",
        "   3                                    3-8                  C4\n",
        "   4                                    4-9                    \n",
        "   5                   B1               5-10                 B1\n",
        "   6                                    6-11                   \n",
        "   7                                    7-12                 A2\n",
        "   8                                    8-13                   \n",
        "   9                   C1               9-14                 C1\n",
        "  10                                   10-15                   \n",
        "  11                                   11-16                 B2\n",
        "  12                                   12-17                   \n",
        "  13                                   13-18                 A3\n",
        "  14                                   14-19                   \n",
        "  15                                   15-20                 C2\n",
        "  16                                   16-21                   \n",
        "  17                                   17-22                 B3\n",
        "  18                                   18-23                   \n",
        "  19                                   19-24                 A4\n",
        "  20                                   20-1                    \n",
        "  21                                   21-2                  C3\n",
        "  22                                   22-3                    \n",
        "  23                                   23-4                    \n",
        "  24                                   24-5                  B4\n"
       ]
      }
     ],
     "prompt_number": 53
    },
    {
     "cell_type": "heading",
     "level": 2,
     "metadata": {},
     "source": [
      "Example 1.3, Page 35"
     ]
    },
    {
     "cell_type": "code",
     "collapsed": false,
     "input": [
      "from math import pi, sqrt, sin, cos\n",
      "\n",
      "#given data\n",
      "StatorSlots=36;#No. of stator slots\n",
      "Poles=4;#No. of poles\n",
      "#coilSpan=1:8;#unitless\n",
      "\n",
      "#Calculations&Results\n",
      "SlotsPerPole=StatorSlots/Poles;# no. of slots per pole\n",
      "print \"Slots/Pole = \",SlotsPerPole;\n",
      "print \"Here the coil span falls short by, \",((2./9)*180),\" Degree\";\n",
      "alfa=40*pi/180;#short pitch angle in degree\n",
      "Kp=cos(alfa/2);#Coil span Factor\n",
      "print \"Pitch Factor or coil span factor : \",round(Kp,1);"
     ],
     "language": "python",
     "metadata": {},
     "outputs": [
      {
       "output_type": "stream",
       "stream": "stdout",
       "text": [
        "Slots/Pole =  9\n",
        "Here the coil span falls short by,  40.0  Degree\n",
        "Pitch Factor or coil span factor :  0.9\n"
       ]
      }
     ],
     "prompt_number": 2
    },
    {
     "cell_type": "heading",
     "level": 2,
     "metadata": {},
     "source": [
      "Example 1.4, Page 38"
     ]
    },
    {
     "cell_type": "code",
     "collapsed": false,
     "input": [
      "from math import pi, sqrt, sin, cos\n",
      "\n",
      "#given data\n",
      "NoOfPhase=3;#no of phase\n",
      "P=16;#No. of pole alternator\n",
      "Slots=144;#No. of slots\n",
      "Conductors=10;#per slot\n",
      "fi=0.03;#in Weber\n",
      "N=375;#machine speed in rpm\n",
      "\n",
      "#Calculations\n",
      "f=P*N/120;#in Hz\n",
      "SlotsPerPole=Slots/P;#unitless\n",
      "m=Slots/(P*NoOfPhase);#unitless\n",
      "Beta=180/(SlotsPerPole);#in Degree\n",
      "Kd=sin(m*Beta/2*pi/180)/(m*sin(Beta/2*pi/180));#unitless\n",
      "TotalConductors=Conductors*Slots;#no. of conductors\n",
      "TotalConductorsPerPhase=Conductors*Slots/NoOfPhase;#no. of conductors/phase\n",
      "TurnsPerPhase=TotalConductorsPerPhase/2;#No. of turns per phase\n",
      "EMFPerPhase=4.44*Kd*fi*f*TurnsPerPhase;#in Volt\n",
      "LineVoltage=sqrt(3)*EMFPerPhase;#in Volt\n",
      "\n",
      "#Results\n",
      "print \"Frequency in Hz : \",f;\n",
      "print \"Phase Electromotive force in Volt : \",round(EMFPerPhase,1);\n",
      "print \"Line Electromotive force in Volt : \",round(LineVoltage,3);"
     ],
     "language": "python",
     "metadata": {},
     "outputs": [
      {
       "output_type": "stream",
       "stream": "stdout",
       "text": [
        "Frequency in Hz :  50\n",
        "Phase Electromotive force in Volt :  1534.1\n",
        "Line Electromotive force in Volt :  2657.202\n"
       ]
      }
     ],
     "prompt_number": 6
    },
    {
     "cell_type": "heading",
     "level": 2,
     "metadata": {},
     "source": [
      "Example 1.5, Page 39"
     ]
    },
    {
     "cell_type": "code",
     "collapsed": false,
     "input": [
      "from math import pi, sqrt, sin, cos\n",
      "\n",
      "#given data\n",
      "NoOfPhase=3;#no of phase\n",
      "SlotsPerPhase=3;#o. of slots\n",
      "\n",
      "#Calculations&Results\n",
      "m=SlotsPerPhase;#no. of slots\n",
      "SlotsPerPolePerPhase=SlotsPerPhase*NoOfPhase;#unitless\n",
      "Beta=180./SlotsPerPolePerPhase;#in degree\n",
      "print \"The phase difference between the induced emf in two coils lying in adjacent slots = \",(Beta),\" degree\";\n",
      "Kb=sin((m*Beta*pi)/(2*180))/(m*sin((Beta*pi)/(2*180)));#unitless\n",
      "print \"The breadth factor :  \",round(Kb,3);"
     ],
     "language": "python",
     "metadata": {},
     "outputs": [
      {
       "output_type": "stream",
       "stream": "stdout",
       "text": [
        "The phase difference between the induced emf in two coils lying in adjacent slots =  20.0  degree\n",
        "The breadth factor :   0.96\n"
       ]
      }
     ],
     "prompt_number": 7
    },
    {
     "cell_type": "heading",
     "level": 2,
     "metadata": {},
     "source": [
      "Example 1.6, Page 39"
     ]
    },
    {
     "cell_type": "code",
     "collapsed": false,
     "input": [
      "from math import pi, sqrt, sin, cos\n",
      "\n",
      "#given data\n",
      "StatorSlots=24#No. of stator slots\n",
      "Poles=4;#No. of poles\n",
      "SlotsPerPole=StatorSlots/Poles;# no. of slots per pole\n",
      "#coilSpan=1:6;#unitless\n",
      "\n",
      "#Calculations&Results\n",
      "print \"If the sides of the coil are placed in slots 1 and 7, then it is full pitched, \\nIf the coil slides are placed\" \\\n",
      "       + \" in 1 and 6 then it is short pitched and the distance equal to 5/6th of pole-pitch.\";\n",
      "print \"Since it falls short by 1/6th of the pole-pitch, hence it is short by :\"\n",
      "theta=180/SlotsPerPole;#in Degree\n",
      "print (theta),\" Degree.\"\n",
      "Kp=cos(theta/2*pi/180);#unitless\n",
      "print \"Pitch-factor Kp : \",round(Kp,4);"
     ],
     "language": "python",
     "metadata": {},
     "outputs": [
      {
       "output_type": "stream",
       "stream": "stdout",
       "text": [
        "If the sides of the coil are placed in slots 1 and 7, then it is full pitched, \n",
        "If the coil slides are placed in 1 and 6 then it is short pitched and the distance equal to 5/6th of pole-pitch.\n",
        "Since it falls short by 1/6th of the pole-pitch, hence it is short by :\n",
        "30  Degree.\n",
        "Pitch-factor Kp :  0.9659\n"
       ]
      }
     ],
     "prompt_number": 9
    },
    {
     "cell_type": "heading",
     "level": 2,
     "metadata": {},
     "source": [
      "Example 1.7, Page 40"
     ]
    },
    {
     "cell_type": "code",
     "collapsed": false,
     "input": [
      "from math import pi, sqrt, sin, cos\n",
      "#given data\n",
      "NoOfPhase=3;#no of phase\n",
      "Eph=3300/sqrt(3);#in Volts\n",
      "f=50;#in Hz\n",
      "Poles=12;#No. of poles\n",
      "StatorSlots=144#No. of stator slots\n",
      "\n",
      "#Calculations\n",
      "SlotsPerPhase=StatorSlots/NoOfPhase;#no. of slots/phase\n",
      "Conductors=5;#per slot\n",
      "ConductorsPerphase=SlotsPerPhase*Conductors;#Conductors/Phase\n",
      "S=ConductorsPerphase;#Conductors/phase\n",
      "SlotsPerPolePerPhase=SlotsPerPhase/Poles;#no. of slots/phase\n",
      "Kf=1.11;#Form Factor\n",
      "Kb=0.96;#Breadth Factor\n",
      "Kp=1;#For concentric winding\n",
      "fi=Eph/(2*Kf*Kb*Kp*S*f);#in weber\n",
      "\n",
      "#Result\n",
      "print \"The Flux per pole in weber : \",round(fi,4);"
     ],
     "language": "python",
     "metadata": {},
     "outputs": [
      {
       "output_type": "stream",
       "stream": "stdout",
       "text": [
        "The Flux per pole in weber :  0.0745\n"
       ]
      }
     ],
     "prompt_number": 10
    },
    {
     "cell_type": "heading",
     "level": 2,
     "metadata": {},
     "source": [
      "Example 1.8, Page 41"
     ]
    },
    {
     "cell_type": "code",
     "collapsed": false,
     "input": [
      "from math import pi, sqrt, sin, cos\n",
      "\n",
      "#given data\n",
      "Phase=3;#no. of phase\n",
      "f=50;#in Hz\n",
      "P=16;#No. of pole alternator\n",
      "Slots=144.;#No. of slots\n",
      "conductors=10;#conductors per slot\n",
      "\n",
      "#Calculations&Results\n",
      "fi=2.48*10**-2;#in weber\n",
      "n=Slots/P;#No. of slots/pole\n",
      "Zr=Slots*conductors/Phase;#No. of conductors/Phase\n",
      "T=Zr/2;#N. of turns/phase\n",
      "Beta=180/n;#Angular displacement between slots in degree\n",
      "m=n/Phase;#No. of slots/pole/Phase\n",
      "Kd=sin(m*Beta/2*pi/180)/(m*sin(Beta/2*pi/180));#Distribution factor :unitless \n",
      "print \"The coil span falls short of 2 slots i.e. \",(2*180/9),\" degree.\";\n",
      "alfa=40;#short pitch angle in degree\n",
      "Kp=(cos(alfa/2*pi/180));#Unitless\n",
      "#Formula : f=P*N/120;#in Hz\n",
      "N=120*f/P;#in rpm\n",
      "Ep=4.44*Kd*Kp*fi*f*T;#in Volts\n",
      "LineVoltage=sqrt(3)*Ep;#in Volts\n",
      "print \"The speed is \",(N),\" in rpm\";\n",
      "print \"The line emf is \",round(LineVoltage,2),\" Volts\";\n",
      "#Note : Answer in the book is not accurate for last part due to rounding off errors"
     ],
     "language": "python",
     "metadata": {},
     "outputs": [
      {
       "output_type": "stream",
       "stream": "stdout",
       "text": [
        "The coil span falls short of 2 slots i.e.  40  degree.\n",
        "The speed is  375  in rpm\n",
        "The line emf is  2064.15  Volts\n"
       ]
      }
     ],
     "prompt_number": 12
    },
    {
     "cell_type": "heading",
     "level": 2,
     "metadata": {},
     "source": [
      "Example 1.9, Page 58"
     ]
    },
    {
     "cell_type": "code",
     "collapsed": false,
     "input": [
      "from math import pi, sqrt, sin, cos\n",
      "\n",
      "#given data\n",
      "RatedPower=100;#in KVA\n",
      "RatedPower=100*1000;#in VA\n",
      "VL=1040;#in Volt\n",
      "Phase=3;#Machine phase\n",
      "If=40;#in Ampere\n",
      "Isc=200;#in Ampere\n",
      "EL=1040;#in Volt\n",
      "\n",
      "#Calculations&Results\n",
      "Eph=EL/sqrt(3);#in Volt\n",
      "Zs=Eph/Isc;#in Ohm\n",
      "Rs=0.2;#in Ohm\n",
      "Xs=sqrt(Zs**2-Rs**2);#in Ohm\n",
      "IL=19.25;#in Ampere\n",
      "V=3000/sqrt(3);#in Volt\n",
      "#At 0.8 power factor lagging\n",
      "IRa=IL*0.2;#in Volt\n",
      "IXs=IL*Xs;#in Volt\n",
      "Vsin_fi=V*0.6;#in Volt\n",
      "Vcos_fi=V*0.8;#in Volt\n",
      "Eo=sqrt((Vcos_fi+IRa)**2+(Vsin_fi+IXs)**2);#in Volts\n",
      "Regulation=((Eo-V)/V)*100;#in %\n",
      "print \"Full load percentage regulation at a power factor of 0.8 lagging : \",round(Regulation,1);\n",
      "\n",
      "#At 0.8 power factor leading\n",
      "Eo=sqrt((Vcos_fi+IRa)**2+(Vsin_fi-IXs)**2);#in Volts\n",
      "Regulation=((Eo-V)/V)*100;#in %\n",
      "print \"Full load percentage regulation at a power factor of 0.8 leading : \",round(Regulation,2);\n",
      "print \"Negative regulation due to leading power factor.\";"
     ],
     "language": "python",
     "metadata": {},
     "outputs": [
      {
       "output_type": "stream",
       "stream": "stdout",
       "text": [
        "Full load percentage regulation at a power factor of 0.8 lagging :  2.2\n",
        "Full load percentage regulation at a power factor of 0.8 leading :  -1.78\n",
        "Negative regulation due to leading power factor.\n"
       ]
      }
     ],
     "prompt_number": 14
    },
    {
     "cell_type": "heading",
     "level": 2,
     "metadata": {},
     "source": [
      "Example 1.10, Page 60"
     ]
    },
    {
     "cell_type": "code",
     "collapsed": false,
     "input": [
      "from math import pi, sqrt, sin, cos\n",
      "\n",
      "#given data\n",
      "RatedPower=50;#in KVA\n",
      "RatedPower=50*1000;#in VA\n",
      "VL=173;#in Volts\n",
      "Ra=0.1;#in Ohm\n",
      "\n",
      "#Calculations&Results\n",
      "VP=VL/sqrt(3);#in Volts\n",
      "print \"Some exciting curent on short circuit produces a current of 100 A.\";\n",
      "OC_PhaseVoltage=100;#in Volt\n",
      "SC_Current=100;#in Ampere\n",
      "Zs=OC_PhaseVoltage/SC_Current;#n ohm\n",
      "Xs=sqrt(Zs**2-Ra**2);#in Ohm\n",
      "print \"Impedence of the alternator in Ohm : \",round(Xs,2);\n",
      "V=400;#in Volts\n",
      "I_FL=RatedPower/(sqrt(3)*V);#in Ampere\n",
      "V=400/sqrt(3);#in Volts\n",
      "Eo=sqrt((V+I_FL*Ra)**2+(I_FL*Xs)**2);#in Volts\n",
      "Regulation=(Eo-V)*100/V;#in %\n",
      "print \"Regulation at U.P.F. in % :\",round(Regulation,2);"
     ],
     "language": "python",
     "metadata": {},
     "outputs": [
      {
       "output_type": "stream",
       "stream": "stdout",
       "text": [
        "Some exciting curent on short circuit produces a current of 100 A.\n",
        "Impedence of the alternator in Ohm :  0.99\n",
        "Regulation at U.P.F. in % : 7.71\n"
       ]
      }
     ],
     "prompt_number": 16
    },
    {
     "cell_type": "heading",
     "level": 2,
     "metadata": {},
     "source": [
      "Example 1.11, Page 61"
     ]
    },
    {
     "cell_type": "code",
     "collapsed": false,
     "input": [
      "from math import pi, sqrt, cos, sin\n",
      "\n",
      "#given data\n",
      "OutputPower=500;#in KVA\n",
      "OutputPower=500*1000;#in VA\n",
      "VL=3300;#in Volts\n",
      "Ra=0.3;#in Ohm\n",
      "Xs=4;#in Ohm\n",
      "PF=0.8;#Lagging Power factor\n",
      "\n",
      "#Calculations&Results\n",
      "#Formula : outputPower=sqrt(3)*VL*IL\n",
      "IL=OutputPower/(sqrt(3)*VL);#in Ampere\n",
      "print \"For a star connected alternator, line current is equal to phase current. Therefore Ia=IL\";\n",
      "Ia=IL;#in Ampere\n",
      "#PF=cosd(fi)=0.8 and sind(fi)=0.6\n",
      "cos_fi=0.8;#Power factor\n",
      "sin_fi=0.6;#Unitless\n",
      "VPerPhase=VL/sqrt(3);#in Volts\n",
      "E=sqrt((VPerPhase*cos_fi+Ia*Ra)**2+(VPerPhase*sin_fi+Ia*Xs)**2);#in Volts/Phase\n",
      "Regulation=(E-VPerPhase)*100/VPerPhase;#in %\n",
      "print \"Voltage Regulation at Full Load in % :\",round(Regulation,2);"
     ],
     "language": "python",
     "metadata": {},
     "outputs": [
      {
       "output_type": "stream",
       "stream": "stdout",
       "text": [
        "For a star connected alternator, line current is equal to phase current. Therefore Ia=IL\n",
        "Voltage Regulation at Full Load in % : 12.98\n"
       ]
      }
     ],
     "prompt_number": 20
    },
    {
     "cell_type": "heading",
     "level": 2,
     "metadata": {},
     "source": [
      "Example 1.12, Page 62"
     ]
    },
    {
     "cell_type": "code",
     "collapsed": false,
     "input": [
      "from math import pi, sqrt, sin, cos\n",
      "\n",
      "#given data\n",
      "V=2000;#in Volt\n",
      "Ia=100;#in Ampere\n",
      "OC_Voltage=500;#in Volt\n",
      "SC_Current=100;#in Ampere\n",
      "\n",
      "#Calculations&Results\n",
      "Zs=OC_Voltage/SC_Current;#in ohm\n",
      "Ra=0.8;#in Ohm\n",
      "Xs=sqrt(Zs**2-Ra**2);#in Ohm\n",
      "#formula : Induced EMF, E=sqrt((V*cos_fi+Ia*Ra)^2+(V*sin_fi+Ia*Xs)^2)\n",
      "#Part (a)  : at unity pf\n",
      "cos_fi=1;#Unitless\n",
      "sin_fi=0;#Unitless\n",
      "E=sqrt((V*cos_fi+Ia*Ra)**2+(V*sin_fi+Ia*Xs)**2)\n",
      "Regulation=(E-V)*100/V;#in %\n",
      "print \"Regulation at U.P.F. in % :\",round(Regulation,2);\n",
      "\n",
      "#Part (b)  : at 0.71 pf lagging\n",
      "cos_fi=0.71;#Unitless\n",
      "sin_fi=0.704;#Unitless\n",
      "E=sqrt((V*cos_fi+Ia*Ra)**2+(V*sin_fi+Ia*Xs)**2)\n",
      "Regulation=(E-V)*100/V;#in %\n",
      "print \"Regulation at 0.71 pf lagging in % :\",round(Regulation,2);\n",
      "\n",
      "#Part (c)  : at 0.8 pf leading\n",
      "cos_fi=0.8;#Unitless\n",
      "sin_fi=0.6;#Unitless\n",
      "E=sqrt((V*cos_fi+Ia*Ra)**2+(V*sin_fi-Ia*Xs)**2)\n",
      "Regulation=(E-V)*100/V;#in %\n",
      "print \"Regulation at 0.8 pf leading in % :\",round(Regulation,2);"
     ],
     "language": "python",
     "metadata": {},
     "outputs": [
      {
       "output_type": "stream",
       "stream": "stdout",
       "text": [
        "Regulation at U.P.F. in % : 6.89\n",
        "Regulation at 0.71 pf lagging in % : 21.1\n",
        "Regulation at 0.8 pf leading in % : -8.88\n"
       ]
      }
     ],
     "prompt_number": 21
    },
    {
     "cell_type": "heading",
     "level": 2,
     "metadata": {},
     "source": [
      "Example 1.13, Page 63"
     ]
    },
    {
     "cell_type": "code",
     "collapsed": false,
     "input": [
      "\n",
      "#given data\n",
      "Ia=60;#in Ampere\n",
      "\n",
      "#Calculations&Results\n",
      "print \"The value of synchronous impedence at this excitation :\" ;\n",
      "OC_Voltage=900;#in Volt\n",
      "SC_Current=150;#in Ampere\n",
      "Zs=OC_Voltage/SC_Current;#in ohm\n",
      "print \"Zs equals to \",(Zs),\" Ohm\";\n",
      "print \"Internal Voltage drop when tthe load current is 60A=Ia*Zs=\",(Ia*Zs),\" Volts\";"
     ],
     "language": "python",
     "metadata": {},
     "outputs": [
      {
       "output_type": "stream",
       "stream": "stdout",
       "text": [
        "The value of synchronous impedence at this excitation :\n",
        "Zs equals to  6  Ohm\n",
        "Internal Voltage drop when tthe load current is 60A=Ia*Zs= 360  Volts\n"
       ]
      }
     ],
     "prompt_number": 118
    },
    {
     "cell_type": "heading",
     "level": 2,
     "metadata": {},
     "source": [
      "Example 1.14, Page 63"
     ]
    },
    {
     "cell_type": "code",
     "collapsed": false,
     "input": [
      "from math import pi, sqrt, sin, cos\n",
      "\n",
      "#given data\n",
      "V=6600;#in Volts\n",
      "OutputPower=2000;#in KVA\n",
      "\n",
      "#Calculations\n",
      "OutputPower=2000*1000;#in VA\n",
      "#Formula : outputPower=sqrt(3)*VL*IL\n",
      "IL=OutputPower/(sqrt(3)*V);#in Ampere\n",
      "Ia=IL;#in Ampere\n",
      "Ra=0.4;#in Ohm\n",
      "Xs=4.5;#in Ohm\n",
      "#PF=cosd(fi)=0.8 and sind(fi)=0.6\n",
      "cos_fi=0.8;#Power factor\n",
      "sin_fi=0.6;#Unitless\n",
      "VPerPhase=V/sqrt(3);#in Volts\n",
      "E=sqrt((VPerPhase*cos_fi+Ia*Ra)**2+(VPerPhase*sin_fi+Ia*Xs)**2);#in Volts/Phase\n",
      "Regulation=(E-VPerPhase)*100/VPerPhase;#in %\n",
      "\n",
      "#Result\n",
      "print \"Percentage Change in Terminal Voltage :\",round(Regulation,1);"
     ],
     "language": "python",
     "metadata": {},
     "outputs": [
      {
       "output_type": "stream",
       "stream": "stdout",
       "text": [
        "Percentage Change in Terminal Voltage : 14.9\n"
       ]
      }
     ],
     "prompt_number": 119
    },
    {
     "cell_type": "heading",
     "level": 2,
     "metadata": {},
     "source": [
      "Example 1.15, Page 63"
     ]
    },
    {
     "cell_type": "code",
     "collapsed": false,
     "input": [
      "from math import pi, sqrt, sin, cos\n",
      "\n",
      "#given data\n",
      "OutputPower=1200;#in KVA\n",
      "OutputPower=1200*1000;#in VA\n",
      "V=3300;#in Volt\n",
      "Ra=0.25;#in Ohm\n",
      "\n",
      "#Calculations&Results\n",
      "#Formula : outputPower=sqrt(3)*VL*IL\n",
      "IL=OutputPower/(sqrt(3)*V);#in Ampere\n",
      "Ia=IL;#in Ampere\n",
      "VPerPhase=V/sqrt(3);#in Volts\n",
      "OC_Voltage=1100;#in Volt\n",
      "SC_Current=200;#in Ampere\n",
      "Zs=OC_Voltage/(sqrt(3)*SC_Current);#in ohmRa\n",
      "Xs=sqrt(Zs**2-Ra**2);#in Ohm\n",
      "#formula : Induced EMF, E=sqrt((V*cos_fi+Ia*Ra)^2+(V*sin_fi+Ia*Xs)^2)\n",
      "\n",
      "#Part (a)  : For lagging pf load\n",
      "cos_fi=0.8;#Unitless\n",
      "sin_fi=0.6;#Unitless\n",
      "E=sqrt((VPerPhase*cos_fi+Ia*Ra)**2+(VPerPhase*sin_fi+Ia*Xs)**2);\n",
      "Regulation=(E-VPerPhase)*100/VPerPhase;#in %\n",
      "print \"Regulation at U.P.F. in % :\",round(Regulation,2);\n",
      "\n",
      "#Part (b)  : For leading pf load\n",
      "cos_fi=0.8;#Unitless\n",
      "sin_fi=0.6;#Unitless\n",
      "E=sqrt((VPerPhase*cos_fi+Ia*Ra)**2+(VPerPhase*sin_fi-Ia*Xs)**2)\n",
      "Regulation=(E-VPerPhase)*100/VPerPhase;#in %\n",
      "print \"Regulation at 0.71 pf lagging in % :\",round(Regulation,2);\n",
      "#Note: For leading power factor load, the regulation s negative. "
     ],
     "language": "python",
     "metadata": {},
     "outputs": [
      {
       "output_type": "stream",
       "stream": "stdout",
       "text": [
        "Regulation at U.P.F. in % : 25.9\n",
        "Regulation at 0.71 pf lagging in % : -13.52\n"
       ]
      }
     ],
     "prompt_number": 120
    },
    {
     "cell_type": "heading",
     "level": 2,
     "metadata": {},
     "source": [
      "Example 1.16, Page 64"
     ]
    },
    {
     "cell_type": "code",
     "collapsed": false,
     "input": [
      "from math import pi, sqrt, sin, cos\n",
      "\n",
      "#given data\n",
      "OutputPower=1500;#in KVA\n",
      "OutputPower=1500*1000;#in VA\n",
      "V=6600;#in Volt\n",
      "Ra=0.4;#in Ohm\n",
      "Xs=6;#in Ohm per phase\n",
      "pf=0.8;#lagging power factor\n",
      "\n",
      "#Calculations&Results\n",
      "#Formula : outputPower=sqrt(3)*VL*IL\n",
      "Ia=OutputPower/(sqrt(3)*V);#in Ampere\n",
      "VPerPhase=V/sqrt(3);#in Volts\n",
      "#formula : Induced EMF, E=sqrt((V*cos_fi+Ia*Ra)^2+(V*sin_fi+Ia*Xs)^2)\n",
      "cos_fi=0.8;#Unitless\n",
      "sin_fi=0.6;#Unitless\n",
      "E=sqrt((VPerPhase*cos_fi+Ia*Ra)**2+(VPerPhase*sin_fi+Ia*Xs)**2);#in volt\n",
      "print \"Induced emf in volt : \",round(E,2);\n",
      "print \"As excitation remains constant, E at 4364 volt remains constant.\";\n",
      "E=4364;#in Volt\n",
      "V=4743;#in Volts\n",
      "TerminalVoltage=sqrt(3)*V;#in Volts\n",
      "print \"Terminal voltage line to line in Volts : \",round(TerminalVoltage);\n",
      "#Note ans of 1st part is wrong in the books"
     ],
     "language": "python",
     "metadata": {},
     "outputs": [
      {
       "output_type": "stream",
       "stream": "stdout",
       "text": [
        "Induced emf in volt :  4366.07\n",
        "As excitation remains constant, E at 4364 volt remains constant.\n",
        "Terminal voltage line to line in Volts :  8215.0\n"
       ]
      }
     ],
     "prompt_number": 123
    },
    {
     "cell_type": "heading",
     "level": 2,
     "metadata": {},
     "source": [
      "Example 1.17, Page 81"
     ]
    },
    {
     "cell_type": "code",
     "collapsed": false,
     "input": [
      "from math import pi, sqrt, sin, cos, atan, tan\n",
      "\n",
      "#given data\n",
      "OutputPower=2500;#in KVA\n",
      "OutputPower=2500*1000;#in VA\n",
      "V=6600;#in Volt\n",
      "  \n",
      "#Calculations\n",
      "#For first load i.e. Lighting load : \n",
      "KW1=2500;#in KWatts\n",
      "KVAR1=0;#Kwatts\n",
      "#For second load i.e. Motor load : \n",
      "KW2=5000;#in KWatts\n",
      "cos_fi=0.707;#unitless\n",
      "sin_fi=0.707;#unitless\n",
      "KVAR2=KW2*sin_fi/cos_fi;#Kwatts\n",
      "#For total load\n",
      "TotalKW=KW1+KW2;#in KWatts\n",
      "TotalKVAR=KVAR1+KVAR2;#Kwatts   \n",
      "#For first Machine\n",
      "KWm=4000;#in KWatts\n",
      "cos_fi=0.8;#unitless\n",
      "sin_fi=0.6;#unitless\n",
      "KVARm=KWm*sin_fi/cos_fi;#Kwatts\n",
      "#so, second machine will be supplying\n",
      "KW=TotalKW-KWm;#in Kwatts\n",
      "print \"KW output of second machine : \",KW;\n",
      "KVAR=TotalKVAR-KVARm;#in KWatts\n",
      "tan_fi=KVAR/KW;#unitless\n",
      "fi=atan(tan_fi);#ib degree\n",
      "#Power factor of other machine\n",
      "pf=cos(fi);#unitless\n",
      "\n",
      "#Result\n",
      "print \"Power factor of other machine : \",round(pf,4),\" lagging\";"
     ],
     "language": "python",
     "metadata": {},
     "outputs": [
      {
       "output_type": "stream",
       "stream": "stdout",
       "text": [
        "KW output of second machine :  3500\n",
        "Power factor of other machine :  0.8682  lagging\n"
       ]
      }
     ],
     "prompt_number": 32
    },
    {
     "cell_type": "heading",
     "level": 2,
     "metadata": {},
     "source": [
      "Example 1.18, Page 82"
     ]
    },
    {
     "cell_type": "code",
     "collapsed": false,
     "input": [
      "from math import pi, sqrt, sin, cos\n",
      "\n",
      "#given data\n",
      "\n",
      "#Load1 : \n",
      "KW1=500;#in KWatts\n",
      "KVAR1=0;#Kwatts\n",
      "\n",
      "#Load2 : \n",
      "KW2=1000;#in KWatts\n",
      "pf=0.9;#lagging\n",
      "cos_fi=0.9;#unitless\n",
      "fi=acos(pf);\n",
      "sin_fi=sin(fi);#unitless\n",
      "KVAR2=KW2*sin_fi/cos_fi;#Kwatts\n",
      "\n",
      "#Load3 : \n",
      "KW3=800;#in KWatts\n",
      "pf=0.8;#lagging\n",
      "cos_fi=0.8;#unitless\n",
      "fi=acos(pf);\n",
      "sin_fi=sin(fi);#unitless\n",
      "KVAR3=KW3*sin_fi/cos_fi;#Kwatts\n",
      "\n",
      "#Load4 : \n",
      "KW4=500;#in KWatts\n",
      "pf=0.9;#lagging\n",
      "cos_fi=0.9;#unitless\n",
      "fi=acos(pf);\n",
      "sin_fi=sin(fi);#unitless\n",
      "KVAR4=-KW4*sin_fi/cos_fi;#Kwatts\n",
      "#TOtalKW and TotalKVAR\n",
      "TotalKW=KW1+KW2+KW3+KW4;#in KWatts\n",
      "TotalKVAR=KVAR1+KVAR2+KVAR3+KVAR4;#in KWAtts\n",
      "#For the first Machine :\n",
      "KW=1500;#n Kwatts\n",
      "cos_fi=0.95;#unitless\n",
      "sin_fi=0.3123;#unitless\n",
      "KVAR=KW*sin_fi/cos_fi;#Kwatts\n",
      "\n",
      "KW1=TotalKW-KW;#in KWatts\n",
      "KVAR1=TotalKVAR-KVAR;#in Volts\n",
      "print \"KW supplied by other machine : \",(TotalKW-KW);\n",
      "print \"KVAR supplied by other machine : \",round(TotalKVAR-KVAR);  #answer differs due to rounding off the digits\n",
      "tan_fi=KVAR1/KW1;#unitless\n",
      "#fi=atand(tan_fi);#in degree\n",
      "cos_fi=cos(atan(tan_fi));#unitless\n",
      "\n",
      "#Result\n",
      "print \"Power factor of the other machine : \",round(cos_fi,3);"
     ],
     "language": "python",
     "metadata": {},
     "outputs": [
      {
       "output_type": "stream",
       "stream": "stdout",
       "text": [
        "KW supplied by other machine :  1300\n",
        "KVAR supplied by other machine :  349.0\n",
        "Power factor of the other machine :  0.966\n"
       ]
      }
     ],
     "prompt_number": 26
    },
    {
     "cell_type": "heading",
     "level": 2,
     "metadata": {},
     "source": [
      "Example 1.19, Page 82"
     ]
    },
    {
     "cell_type": "code",
     "collapsed": false,
     "input": [
      "from math import pi, sqrt, sin, cos, acos, tan, atan\n",
      "#given data\n",
      "\n",
      "#Lighting Load : \n",
      "MW1=20;#load in Mwatts\n",
      "KW1=MW1*1000;#in KWatts\n",
      "KVAR1=0;#Kwatts\n",
      "\n",
      "#Motor Load : \n",
      "MW2=40;#load in Mwatts\n",
      "KW2=MW2*1000;#in KWatts\n",
      "pf=0.8;#unitless\n",
      "cos_fi=0.8\n",
      "fi=acos(pf);\n",
      "sin_fi=sin(fi);#unitless\n",
      "KVAR2=KW2*sin_fi/cos_fi;#Kwatts\n",
      "\n",
      "#For Total Load : \n",
      "TotalKW=KW1+KW2;#load in Mwatts\n",
      "TotalKVAR=KVAR1+KVAR2;#in KWatts\n",
      "#For first machine : \n",
      "MWm=32;#load in Mwatts\n",
      "KWm=MWm*1000;#in KWatts\n",
      "cos_fi=0.866;#unitless\n",
      "fi=acos(cos_fi);\n",
      "tan_fi=tan(fi);#unitless\n",
      "KVARm=KWm*tan_fi;#in KWatts\n",
      "#so, load supplied by the second machine\n",
      "KW2=TotalKW-KWm;#in Kwatts\n",
      "print \"Load of other machine,KW : \",(KW2);\n",
      "KVAR2=TotalKVAR-KVARm;#in Kwatts\n",
      "tan_fi=KVAR2/KW2;#unitless\n",
      "fi=atan(tan_fi);#in degree\n",
      "cos_fi=cos(atan(tan_fi));#unitless\n",
      "\n",
      "#Result\n",
      "print \"Power factor of the other machine : \",round(cos_fi,3);"
     ],
     "language": "python",
     "metadata": {},
     "outputs": [
      {
       "output_type": "stream",
       "stream": "stdout",
       "text": [
        "Load of other machine,KW :  28000\n",
        "Power factor of the other machine :  0.925\n"
       ]
      }
     ],
     "prompt_number": 25
    },
    {
     "cell_type": "heading",
     "level": 2,
     "metadata": {},
     "source": [
      "Example 1.20, Page 84"
     ]
    },
    {
     "cell_type": "code",
     "collapsed": false,
     "input": [
      "from math import pi, sqrt, sin, cos, atan, tan, acos\n",
      "\n",
      "#given data\n",
      "cos_fi=0.8;#unitless\n",
      "fi=acos(cos_fi);\n",
      "tan_fi=tan(fi);#unitless\n",
      "\n",
      "#For Alternator A : \n",
      "cos_fi_A=0.9;#unitless\n",
      "fi_A=acos(cos_fi_A);\n",
      "tan_fi_A=tan(fi_A);#unitless\n",
      "#Formula : Active load, KW=V*I*cos_fi\n",
      "#Formula : Reactive load, KVAR=V*I*sin_fi\n",
      "ActiveLoad=8000;#in KW\n",
      "ReactiveLoad=ActiveLoad*tan_fi;#in KVAR\n",
      "\n",
      "#For A:\n",
      "ActiveLoadA=5000;#in KW\n",
      "ReactiveLoadA=ActiveLoadA*tan_fi_A;#in KVAR\n",
      "\n",
      "#For B :\n",
      "ActiveLoadB=ActiveLoad-ActiveLoadA;#in KW\n",
      "ReactiveLoadB=ReactiveLoad-ReactiveLoadA;#in KVAR\n",
      "tan_fi_B=ReactiveLoadB/ActiveLoadB;#unitless\n",
      "fi_B=atan(tan_fi_B);#in degree\n",
      "cos_fi=cos(atan(tan_fi_B));#unitless\n",
      "\n",
      "#Result\n",
      "print \"Power factor of the other machine : \",round(cos_fi,3);"
     ],
     "language": "python",
     "metadata": {},
     "outputs": [
      {
       "output_type": "stream",
       "stream": "stdout",
       "text": [
        "Power factor of the other machine :  0.642\n"
       ]
      }
     ],
     "prompt_number": 29
    },
    {
     "cell_type": "heading",
     "level": 2,
     "metadata": {},
     "source": [
      "Example 1.21, Page 97"
     ]
    },
    {
     "cell_type": "code",
     "collapsed": false,
     "input": [
      "from math import pi, sqrt, sin, cos\n",
      "\n",
      "#given data\n",
      "V=6600;#in Volts\n",
      "KW=6000.;#in KWatts\n",
      "pf=0.8;#unitless\n",
      "cos_fi=pf;#unitless\n",
      "Eff=90.;#in %\n",
      "\n",
      "#Calculations&Results\n",
      "#Part (a) : \n",
      "KVA=KW/cos_fi;#in KVAR\n",
      "print \"KVA rating of the alternator : \",(KVA),\" KVA\";\n",
      "#Part (b) : \n",
      "TotalRating=KVA;#in KVA\n",
      "VA=TotalRating*1000;#in VA\n",
      "I=VA/(sqrt(3)*KW);#in Ampere\n",
      "print \"Current Rating in Ampere : \",round(I,2);\n",
      "#Part (c) :\n",
      "Input=KW/(Eff/100);#in KW\n",
      "print \"Power Input(in KW) :\",round(Input,2);\n",
      "Input=Input*1000/735.5;#in hp\n",
      "print \"Power Input(in hp) :\",round(Input,2);"
     ],
     "language": "python",
     "metadata": {},
     "outputs": [
      {
       "output_type": "stream",
       "stream": "stdout",
       "text": [
        "KVA rating of the alternator :  7500.0  KVA\n",
        "Current Rating in Ampere :  721.69\n",
        "Power Input(in KW) : 6666.67\n",
        "Power Input(in hp) : 9064.13\n"
       ]
      }
     ],
     "prompt_number": 30
    },
    {
     "cell_type": "heading",
     "level": 2,
     "metadata": {},
     "source": [
      "Example 1.22, Page 97"
     ]
    },
    {
     "cell_type": "code",
     "collapsed": false,
     "input": [
      "from math import pi, sqrt, sin, cos\n",
      "\n",
      "#given data\n",
      "Ecoil=8000;#in Volts\n",
      "Icoil=418;#in Ampere\n",
      "pf=80.;#in % lgging\n",
      "\n",
      "#Calculations&Results\n",
      "pf=pf/100;#in fraction\n",
      "cos_fi=pf;#unitless\n",
      "#Part (i) : \n",
      "EL=sqrt(3)*Ecoil;#in volt\n",
      "print \"Line volts(in V): \",round(EL);\n",
      "#Part (ii) : \n",
      "IL=Icoil;#in Ampere\n",
      "print \"Line Current in Ampere : \",IL;\n",
      "#Part (iii) :\n",
      "Rating=sqrt(3)*EL*IL/1000;#in KVA\n",
      "print \"Rating (in KVA) :\",Rating;\n",
      "#Part (iv) :\n",
      "FullLoadPower=sqrt(3)*EL*IL*cos_fi/1000;#in KW\n",
      "print \"Full Load Power in KW :\",FullLoadPower;"
     ],
     "language": "python",
     "metadata": {},
     "outputs": [
      {
       "output_type": "stream",
       "stream": "stdout",
       "text": [
        "Line volts(in V):  13856.0\n",
        "Line Current in Ampere :  418\n",
        "Rating (in KVA) : 10032.0\n",
        "Full Load Power in KW : 8025.6\n"
       ]
      }
     ],
     "prompt_number": 31
    }
   ],
   "metadata": {}
  }
 ]
}