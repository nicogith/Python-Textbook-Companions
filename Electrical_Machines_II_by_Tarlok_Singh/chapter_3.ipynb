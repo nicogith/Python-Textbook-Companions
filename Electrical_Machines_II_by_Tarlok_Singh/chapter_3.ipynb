{
 "metadata": {
  "name": "",
  "signature": "sha256:ee219f57423897626f36b1403a7ddfed52f292b3adbd144afa54ccec5692e036"
 },
 "nbformat": 3,
 "nbformat_minor": 0,
 "worksheets": [
  {
   "cells": [
    {
     "cell_type": "heading",
     "level": 1,
     "metadata": {},
     "source": [
      "Chapter 3: Fractional K.W. \n",
      "(FKW) Motors"
     ]
    },
    {
     "cell_type": "heading",
     "level": 2,
     "metadata": {},
     "source": [
      "Example 3.1, Page 242"
     ]
    },
    {
     "cell_type": "code",
     "collapsed": false,
     "input": [
      "from math import pi, tan\n",
      "\n",
      "\n",
      "#Given data :\n",
      "Za=complex(3,3);#in ohm\n",
      "Zm=complex(6,3);#in ohm\n",
      "\n",
      "#Calculations\n",
      "#Phase difference 90 degree : so angle between Im and  V is 90-45 degree\n",
      "theta=90-45;#in degree\n",
      "f=50;#in Hz\n",
      "#Formula : tand(theta)=(Xc-Xl)/R\n",
      "Xl=3;#in ohm and Xc=1/(2*%pi*C)\n",
      "R=6;#in ohm\n",
      "C=1./(2*pi*f*(tan(theta*pi/180)*R+Xl));\n",
      "\n",
      "#Result\n",
      "print \"Capacitance(in micro Farad) :\",(C*10**6);"
     ],
     "language": "python",
     "metadata": {},
     "outputs": [
      {
       "output_type": "stream",
       "stream": "stdout",
       "text": [
        "Capacitance(in micro Farad) : 353.677651315\n"
       ]
      }
     ],
     "prompt_number": 3
    }
   ],
   "metadata": {}
  }
 ]
}