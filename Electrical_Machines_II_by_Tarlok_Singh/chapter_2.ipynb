{
 "metadata": {
  "name": "",
  "signature": "sha256:0e3f32e542105b85338ffef953c9f9ed43138aa30c5d9cb997a0731312a71a64"
 },
 "nbformat": 3,
 "nbformat_minor": 0,
 "worksheets": [
  {
   "cells": [
    {
     "cell_type": "heading",
     "level": 1,
     "metadata": {},
     "source": [
      "Chapter 2: Induction Motors"
     ]
    },
    {
     "cell_type": "heading",
     "level": 2,
     "metadata": {},
     "source": [
      "Example 2.1, Page 130"
     ]
    },
    {
     "cell_type": "code",
     "collapsed": false,
     "input": [
      "\n",
      "#Given data : \n",
      "P=2;#no. of poles\n",
      "f=60;#in Hz\n",
      "N=3460.;#in rpm\n",
      "\n",
      "#Calculations\n",
      "Ns=120*f/P;#in rpm\n",
      "Slip=Ns-N;#in rpm\n",
      "PercentageSlip=((Ns-N)/Ns)*100;#in %\n",
      "\n",
      "#Results\n",
      "print \"Synchronous speed in rpm : \",Ns;\n",
      "print \"Percentage Slip : \",round(PercentageSlip,2);"
     ],
     "language": "python",
     "metadata": {},
     "outputs": [
      {
       "output_type": "stream",
       "stream": "stdout",
       "text": [
        "Synchronous speed in rpm :  3600\n",
        "Percentage Slip :  3.89\n"
       ]
      }
     ],
     "prompt_number": 124
    },
    {
     "cell_type": "heading",
     "level": 2,
     "metadata": {},
     "source": [
      "Example 2.2, Page 131"
     ]
    },
    {
     "cell_type": "code",
     "collapsed": false,
     "input": [
      "\n",
      "#Given data : \n",
      "P=8.;#no. of poles\n",
      "f=50.;#in Hz\n",
      "N=700.;#in rpm\n",
      "\n",
      "#Calculations&Results\n",
      "#Part (a) :\n",
      "Ns=120*f/P;#in rpm\n",
      "print \"Synchronous speed in rpm : \",Ns;\n",
      "#Part (b) :\n",
      "S=(Ns-N)*100/Ns;#in %\n",
      "print \"Slip(in %) : \",round(S,2);\n",
      "#Part (c) :\n",
      "#At the time of stsrt S=1;\n",
      "fdash=f;#in Hz\n",
      "print \"Rotor frequeny at the time of starting(in Hz) : \",fdash;\n",
      "#Part (d) :\n",
      "fdash=(S/100)*f;#in Hz\n",
      "print \"Rotor frequeny at the given speed(in Hz) : \",round(fdash,1);"
     ],
     "language": "python",
     "metadata": {},
     "outputs": [
      {
       "output_type": "stream",
       "stream": "stdout",
       "text": [
        "Synchronous speed in rpm :  750.0\n",
        "Slip(in %) :  6.67\n",
        "Rotor frequeny at the time of starting(in Hz) :  50.0\n",
        "Rotor frequeny at the given speed(in Hz) :  3.3\n"
       ]
      }
     ],
     "prompt_number": 125
    },
    {
     "cell_type": "heading",
     "level": 2,
     "metadata": {},
     "source": [
      "Example 2.3, Page 131"
     ]
    },
    {
     "cell_type": "code",
     "collapsed": false,
     "input": [
      "\n",
      "#Given data : \n",
      "P=10;#no. of poles\n",
      "f=50;#in Hz\n",
      "N=600;#in rpm\n",
      "Nr=1440;#in rpm\n",
      "\n",
      "#Calculations&Results\n",
      "f=P*N/120;#in Hz\n",
      "#When P=2\n",
      "P=2;#no. of poles\n",
      "Ns=120*f/P;#in rpm\n",
      "#When P=4\n",
      "P=4;#no. of poles\n",
      "Ns=120*f/P;#in rpm\n",
      "S=(Ns-Nr)*100/Ns;#Slip in %\n",
      "print \"Percentage Slip(in %) : \",(S);\n",
      "print \"No. of poles : \",(S);"
     ],
     "language": "python",
     "metadata": {},
     "outputs": [
      {
       "output_type": "stream",
       "stream": "stdout",
       "text": [
        "Percentage Slip(in %) :  4\n",
        "No. of poles :  4\n"
       ]
      }
     ],
     "prompt_number": 126
    },
    {
     "cell_type": "heading",
     "level": 2,
     "metadata": {},
     "source": [
      "Example 2.4, Page 132"
     ]
    },
    {
     "cell_type": "code",
     "collapsed": false,
     "input": [
      "\n",
      "#Given data : \n",
      "P=8;#no. of poles\n",
      "f=50;#in Hz\n",
      "fr=1.5;#in Hz\n",
      "\n",
      "#Calculations\n",
      "#Formula : fr=S*f\n",
      "S=fr/f;#slip(unitless)\n",
      "Ns=120*f/P;#in rpm\n",
      "#Formula : S=(Ns-Nr)/Ns\n",
      "Nr=Ns-S*Ns;#in rpm\n",
      "\n",
      "#Results\n",
      "print \"Motor running speed in rpm : \",round(Nr);\n",
      "print \"Slip(in %):\",(S*100);"
     ],
     "language": "python",
     "metadata": {},
     "outputs": [
      {
       "output_type": "stream",
       "stream": "stdout",
       "text": [
        "Motor running speed in rpm :  728.0\n",
        "Slip(in %): 3.0\n"
       ]
      }
     ],
     "prompt_number": 8
    },
    {
     "cell_type": "heading",
     "level": 2,
     "metadata": {},
     "source": [
      "Example 2.5, Page 133"
     ]
    },
    {
     "cell_type": "code",
     "collapsed": false,
     "input": [
      "\n",
      "#Given data : \n",
      "P=2;#no. of poles\n",
      "f=50;#in Hz\n",
      "S=4.;#in %\n",
      "\n",
      "#Calculations&Results\n",
      "#Part (i) : \n",
      "Ns=f/P;#in rps\n",
      "Ns=Ns*60;#in rpm\n",
      "print \"Synchronous speed in rpm : \",Ns;\n",
      "#Part (ii) :\n",
      "print \"Slip = \",(S),\"% or \",(S/100);\n",
      "#Part (iii) :\n",
      "N=Ns*(1-S/100);#in rpm\n",
      "print \"Actual speed in rpm :\",N;"
     ],
     "language": "python",
     "metadata": {},
     "outputs": [
      {
       "output_type": "stream",
       "stream": "stdout",
       "text": [
        "Synchronous speed in rpm :  1500\n",
        "Slip =  4.0 % or  0.04\n",
        "Actual speed in rpm : 1440.0\n"
       ]
      }
     ],
     "prompt_number": 10
    },
    {
     "cell_type": "heading",
     "level": 2,
     "metadata": {},
     "source": [
      "Example 2.6, Page 133"
     ]
    },
    {
     "cell_type": "code",
     "collapsed": false,
     "input": [
      "\n",
      "#Given data : \n",
      "P=4;#no. of poles\n",
      "f1=50;#in Hz\n",
      "fdash=1.5;#in Hz\n",
      "\n",
      "#Calculations\n",
      "S=fdash/f1;#unitless\n",
      "print \"Slip : \",S;\n",
      "Ns=120*f1/P;#in rpm\n",
      "N=Ns*(1-S);#in rpm\n",
      "\n",
      "#Result\n",
      "print \"Speed of motor in rpm :\",N;"
     ],
     "language": "python",
     "metadata": {},
     "outputs": [
      {
       "output_type": "stream",
       "stream": "stdout",
       "text": [
        "Slip :  0.03\n",
        "Speed of motor in rpm : 1455.0\n"
       ]
      }
     ],
     "prompt_number": 11
    },
    {
     "cell_type": "heading",
     "level": 2,
     "metadata": {},
     "source": [
      "Example 2.7, Page 138"
     ]
    },
    {
     "cell_type": "code",
     "collapsed": false,
     "input": [
      "\n",
      "#Given data : \n",
      "N=1440;#in rpm\n",
      "\n",
      "#Calculations&Results\n",
      "f=50;#in Hz\n",
      "print \"For this speed of 1440 rpm the synchronous speed may be either 1500 rpm or 3000 rpm.\";\n",
      "Ns=1500;#in rpm\n",
      "P=4;#no. of poles\n",
      "print \"No. of poles : \",P;\n",
      "Slip=(Ns-N)*100/Ns;#in %\n",
      "print Slip,\"Slip(in %) : \",Slip;\n",
      "speed1=Ns-N;#Speed of rotor flux with respect to rotor\n",
      "print \"Speed of rotor flux with respect to rotor in rpm : \",speed1;\n",
      "speed2=(speed1)+N;#Speed of rotor flux with respect to stator\n",
      "print \"Speed of rotor flux with respect to stator in rpm :\",speed2;"
     ],
     "language": "python",
     "metadata": {},
     "outputs": [
      {
       "output_type": "stream",
       "stream": "stdout",
       "text": [
        "For this speed of 1440 rpm the synchronous speed may be either 1500 rpm or 3000 rpm.\n",
        "No. of poles :  4\n",
        "4 Slip(in %) :  4\n",
        "Speed of rotor flux with respect to rotor in rpm :  60\n",
        "Speed of rotor flux with respect to stator in rpm : 1500\n"
       ]
      }
     ],
     "prompt_number": 12
    },
    {
     "cell_type": "heading",
     "level": 2,
     "metadata": {},
     "source": [
      "Example 2.8, Page 140"
     ]
    },
    {
     "cell_type": "code",
     "collapsed": false,
     "input": [
      "from math import pi, sqrt, sin, cos, acos, tan, atan, degrees\n",
      "\n",
      "#Given data : \n",
      "E2=100;#in volt\n",
      "R2=0.05;#in ohm\n",
      "X2=0.1;#im ohm\n",
      "\n",
      "#Calculations&Results\n",
      "E2perphase=E2/sqrt(3);#in volt\n",
      "#part (a) : \n",
      "S=0.04;#slip\n",
      "I2=S*E2perphase/sqrt(R2**2+(S*X2)**2);#in Ampere\n",
      "print \"At 4% slip, Rotor current in Ampere : \",round(I2,2);\n",
      "fi2=degrees(acos(R2/sqrt(R2**2+(S*X2)**2)));#in degree\n",
      "print \"At 4% slip, Phase angle between rotor voltage and rotor current in degree :\",round(fi2,2);\n",
      "#part (b) : \n",
      "S=1;#slip\n",
      "I2=S*E2perphase/sqrt(R2**2+(S*X2)**2);#in Ampere\n",
      "print \"At 100% slip, Rotor current in Ampere : \",round(I2,2);\n",
      "fi2=degrees(acos(R2/sqrt(R2**2+(S*X2)**2)));#in degree\n",
      "print \"At 100% slip, Phase angle between rotor voltage and rotor current in degree :\",round(fi2,2);"
     ],
     "language": "python",
     "metadata": {},
     "outputs": [
      {
       "output_type": "stream",
       "stream": "stdout",
       "text": [
        "At 4% slip, Rotor current in Ampere :  46.04\n",
        "At 4% slip, Phase angle between rotor voltage and rotor current in degree : 4.57\n",
        "At 100% slip, Rotor current in Ampere :  516.4\n",
        "At 100% slip, Phase angle between rotor voltage and rotor current in degree : 63.43\n"
       ]
      }
     ],
     "prompt_number": 2
    },
    {
     "cell_type": "heading",
     "level": 2,
     "metadata": {},
     "source": [
      "Example 2.9, Page 141"
     ]
    },
    {
     "cell_type": "code",
     "collapsed": false,
     "input": [
      "from math import sqrt\n",
      "\n",
      "#Given data : \n",
      "E2=100.;#in volt\n",
      "R2=0.4;#in ohm\n",
      "X2=2.25;#im ohm\n",
      "\n",
      "#Calculations\n",
      "E2perphase=E2/sqrt(3);#in volt\n",
      "S=4.;#in %\n",
      "E=(S/100)*E2perphase;#rotor induced emf at a slip=4% in volt\n",
      "Z2=sqrt(R2**2+((S/100)*X2)**2);\n",
      "I2=E/Z2;#in Ampere\n",
      "\n",
      "#Result\n",
      "print \"Rotor current in Ampere : \",round(I2,2);"
     ],
     "language": "python",
     "metadata": {},
     "outputs": [
      {
       "output_type": "stream",
       "stream": "stdout",
       "text": [
        "Rotor current in Ampere :  5.63\n"
       ]
      }
     ],
     "prompt_number": 3
    },
    {
     "cell_type": "heading",
     "level": 2,
     "metadata": {},
     "source": [
      "Example 2.10, Page 141"
     ]
    },
    {
     "cell_type": "code",
     "collapsed": false,
     "input": [
      "from math import pi, sqrt, sin, cos\n",
      "\n",
      "#Given data : \n",
      "f=50;#in Hz\n",
      "R2=0.2;#in ohm\n",
      "X2=2;#im ohm\n",
      "E2=60;#in volt\n",
      "\n",
      "#Calculations&Results\n",
      "E2perphase=E2/sqrt(3);#in volt\n",
      "#case (i) : S=1 \n",
      "S=1;#unitless\n",
      "Z2=sqrt(R2**2+(S*X2)**2);\n",
      "I2=E2perphase*S/Z2;#in Ampere\n",
      "print \"At standstill : Rotor current in Ampere : \",round(I2,2);\n",
      "#case (ii) : S=0.1 \n",
      "S=0.1;#unitless\n",
      "Z2=sqrt(R2**2+(S*X2)**2);\n",
      "I2=E2perphase*S/Z2;#in Ampere\n",
      "print \"for 10% slip : Rotor current in Ampere : \",round(I2,2);\n",
      "#case (iii) : S=0.05 \n",
      "S=0.05;#unitless\n",
      "Z2=sqrt(R2**2+(S*X2)**2);\n",
      "I2=E2perphase*S/Z2;#in Ampere\n",
      "print \"for 5% slip : Rotor current in Ampere : \",round(I2,2);\n",
      "#case (iv) : S=0.01 \n",
      "S=0.01;#unitless\n",
      "Z2=sqrt(R2**2+(S*X2)**2);\n",
      "I2=E2perphase*S/Z2;#in Ampere\n",
      "print \"for 1% slip : Rotor current in Ampere : \",round(I2,2);\n",
      "#Note : Answer in the book is wrong for S=0.05 and S=0.01"
     ],
     "language": "python",
     "metadata": {},
     "outputs": [
      {
       "output_type": "stream",
       "stream": "stdout",
       "text": [
        "At standstill : Rotor current in Ampere :  17.23\n",
        "for 10% slip : Rotor current in Ampere :  12.25\n",
        "for 5% slip : Rotor current in Ampere :  7.75\n",
        "for 1% slip : Rotor current in Ampere :  1.72\n"
       ]
      }
     ],
     "prompt_number": 1
    },
    {
     "cell_type": "heading",
     "level": 2,
     "metadata": {},
     "source": [
      "Example 2.11, Page 142"
     ]
    },
    {
     "cell_type": "code",
     "collapsed": false,
     "input": [
      "from math import pi, sqrt, sin, cos\n",
      "\n",
      "#Given data : \n",
      "R2=0.5;#in ohm\n",
      "X=4.5;#im ohm\n",
      "E=50;#line voltage in volt\n",
      "\n",
      "#Calculations&Results\n",
      "Eperphase=E/sqrt(3);#in volt\n",
      "#part (a) : Sliprings are short circuited\n",
      "Z2=sqrt(R2**2+X**2);#in ohm\n",
      "I2=Eperphase/Z2;#in Ampere\n",
      "print \"Sliprings are short circuited, Rotor current in Ampere : \",round(I2,2);\n",
      "cosfi2=R2/Z2;#unitless\n",
      "print \"Power factor : \",round(cosfi2,2);\n",
      "#part (b) : Sliprings are connected \n",
      "R2=0.4;#in ohm\n",
      "Z2=sqrt(R2**2+X**2);#in ohm\n",
      "I2=Eperphase/Z2;#in Ampere\n",
      "print \"Sliprings are short circuited, Rotor current in Ampere : \",round(I2,2);\n",
      "cosfi2=R2/Z2;#unitless\n",
      "print \"Power factor : \",round(cosfi2,2);\n",
      "#Note : answer of part (a) I2 is not curate in the book."
     ],
     "language": "python",
     "metadata": {},
     "outputs": [
      {
       "output_type": "stream",
       "stream": "stdout",
       "text": [
        "Sliprings are short circuited, Rotor current in Ampere :  6.38\n",
        "Power factor :  0.11\n",
        "Sliprings are short circuited, Rotor current in Ampere :  6.39\n",
        "Power factor :  0.09\n"
       ]
      }
     ],
     "prompt_number": 5
    },
    {
     "cell_type": "heading",
     "level": 2,
     "metadata": {},
     "source": [
      "Example 2.12, Page 146"
     ]
    },
    {
     "cell_type": "code",
     "collapsed": false,
     "input": [
      "\n",
      "#Given data : \n",
      "R2=0.02;#in ohm\n",
      "X2=0.1;#im ohm\n",
      "\n",
      "#Calculations&Results\n",
      "#let external resistance per phase = r then R2=R2+r ohm\n",
      "S=1;#slip at starting\n",
      "print \"Since at start speed is zero and slip is, therefore, unity or R2=X2\";\n",
      "r=X2-R2;#in ohm\n",
      "print \"External resistance per phase added to the rotor circuit in ohms : \",r;"
     ],
     "language": "python",
     "metadata": {},
     "outputs": [
      {
       "output_type": "stream",
       "stream": "stdout",
       "text": [
        "Since at start speed is zero and slip is, therefore, unity or R2=X2\n",
        "External resistance per phase added to the rotor circuit in ohms :  0.08\n"
       ]
      }
     ],
     "prompt_number": 22
    },
    {
     "cell_type": "heading",
     "level": 2,
     "metadata": {},
     "source": [
      "Example 2.13, Page 147"
     ]
    },
    {
     "cell_type": "code",
     "collapsed": false,
     "input": [
      "from math import pi, sqrt, sin, cos\n",
      "\n",
      "#Given data : \n",
      "P=4;#no. of poles\n",
      "f=50;#in Hz\n",
      "R2=0.03;#in ohm\n",
      "X2=0.12;#im ohm\n",
      "\n",
      "#Calculations&Results\n",
      "Smax=R2/X2;#unitless\n",
      "Ns=120*f/P;#in rpm\n",
      "N=Ns*(1-Smax);#in rpm\n",
      "print \"Speed corresponding to maximum torque(in rpm) :\",N;\n",
      "#alfa=(R2+r)/X2\n",
      "#Ratio of starting torque to max torque=75/100=2*alfa/(alfa^2+1)\n",
      "#It gives : 3*alfa^2-8*alfa+3=0\n",
      "#coefficients :\n",
      "a=3;b=-8;c=3;\n",
      "alfa1=(-b+sqrt(b**2-4*a*c))/(2*a);alfa2=(-b-sqrt(b**2-4*a*c))/(2*a);\n",
      "print \"rejecting higher values, alfa = \",round(alfa2,4);\n",
      "fdash=1.5;#in Hz\n",
      "r=alfa2*X2-R2;#in ohm;\n",
      "print \"External rotor resistance per phase(in ohm) : \",round(r,4);"
     ],
     "language": "python",
     "metadata": {},
     "outputs": [
      {
       "output_type": "stream",
       "stream": "stdout",
       "text": [
        "Speed corresponding to maximum torque(in rpm) : 1125.0\n",
        "rejecting higher values, alfa =  0.4514\n",
        "External rotor resistance per phase(in ohm) :  0.0242\n"
       ]
      }
     ],
     "prompt_number": 6
    },
    {
     "cell_type": "heading",
     "level": 2,
     "metadata": {},
     "source": [
      "Example 2.14, Page 147"
     ]
    },
    {
     "cell_type": "code",
     "collapsed": false,
     "input": [
      "\n",
      "#Given data :\n",
      "P=4;#no. of poles\n",
      "f=50;#in Hz\n",
      "R2=0.024;#in ohm\n",
      "X2=0.6;#in ohm \n",
      "\n",
      "#Calculations&Results\n",
      "Sm=R2/X2;#slip corresponding to max torque\n",
      "Ns=120*f/P;#in rpm\n",
      "N=Ns*(1-Sm);#in rpm\n",
      "print \"Speed corresponding to maximum torque in rpm : \",N;"
     ],
     "language": "python",
     "metadata": {},
     "outputs": [
      {
       "output_type": "stream",
       "stream": "stdout",
       "text": [
        "Speed corresponding to maximum torque in rpm :  1440.0\n"
       ]
      }
     ],
     "prompt_number": 26
    },
    {
     "cell_type": "heading",
     "level": 2,
     "metadata": {},
     "source": [
      "Example 2.15, Page 148"
     ]
    },
    {
     "cell_type": "code",
     "collapsed": false,
     "input": [
      "\n",
      "#Given data :\n",
      "P=6;#no. of poles\n",
      "f=50;#in Hz\n",
      "Sf=4.;#in %\n",
      "R2=0.01;#in ohm\n",
      "X2=0.05;#im \n",
      "\n",
      "#Calculations&Results\n",
      "Ratio=((R2/X2)**2+(Sf/100)**2)/(2*R2*(Sf/100)/X2);#ratio of max torque to full load torque\n",
      "print \"Maximum torque, Tmax=\",(Ratio),\"Tf\";\n",
      "Sm=R2/X2;#slip corresponding to max torque\n",
      "Ns=120*f/P;#in rpm\n",
      "N=Ns*(1-Sm);#in rpm\n",
      "print \"Speed corresponding to maximum torque in rpm : \",N;"
     ],
     "language": "python",
     "metadata": {},
     "outputs": [
      {
       "output_type": "stream",
       "stream": "stdout",
       "text": [
        "Maximum torque, Tmax= 2.6 Tf\n",
        "Speed corresponding to maximum torque in rpm :  800.0\n"
       ]
      }
     ],
     "prompt_number": 28
    },
    {
     "cell_type": "heading",
     "level": 2,
     "metadata": {},
     "source": [
      "Example 2.16, Page 149"
     ]
    },
    {
     "cell_type": "code",
     "collapsed": false,
     "input": [
      "\n",
      "#Given data :\n",
      "P=12;#no. of poles\n",
      "f=50.;#in Hz\n",
      "R2=0.03;#in ohm\n",
      "X2=0.5;#im \n",
      "\n",
      "#Calculations&Results\n",
      "S=R2/X2;#unitless\n",
      "Ns=120*f/P;#in rpm\n",
      "N=Ns*(1-S);#in rpm\n",
      "print \"Speed at maximum torque in rpm : \",N;\n",
      "S=(Ns-495)/Ns;#slip at 495 rpm speed\n",
      "Ratio=(2*R2*S/X2)/((R2/X2)**2+S**2);#ratio of max torque to full load torque\n",
      "print \"Ratio of full load torque to max torque(in %) :\",round((Ratio*100),1);"
     ],
     "language": "python",
     "metadata": {},
     "outputs": [
      {
       "output_type": "stream",
       "stream": "stdout",
       "text": [
        "Speed at maximum torque in rpm :  470.0\n",
        "Ratio of full load torque to max torque(in %) : 32.4\n"
       ]
      }
     ],
     "prompt_number": 142
    },
    {
     "cell_type": "heading",
     "level": 2,
     "metadata": {},
     "source": [
      "Example 2.17, Page 149"
     ]
    },
    {
     "cell_type": "code",
     "collapsed": false,
     "input": [
      "from math import pi, sqrt, sin, cos\n",
      "\n",
      "#Given data :\n",
      "P=12;#no. of poles\n",
      "f=50;#in Hz\n",
      "R2=0.5;#in ohm\n",
      "N=475.;#in rpm\n",
      "\n",
      "#Calculations&Results\n",
      "Ns=120*f/P;#in rpm\n",
      "S=(Ns-N)/Ns;#unitless\n",
      "X2=R2/S;#in ohm\n",
      "#\"At maximum torque, Tmax is proportional to 1/2*X2 or 1/20\";\n",
      "# \"Ts is proportional to (R2+R)/((R2+R)^2+X2^2)\";\n",
      "# \"Also, Ts is proportional to 1(20*3)\";\n",
      "# \"Equating the two eqn we have : (0.5*R)/(R2+R)^2+X2^2\";\n",
      "#R^2-59R+70.25=0 : \n",
      "#coefficients :\n",
      "a=1;b=-59;c=70.25;\n",
      "R=(-b-sqrt(b**2-4*a*c))/(2*a);\n",
      "print \"Resistance R to be inserted in series (in ohm) :\",round(R,1);\n",
      "#Note : answer in the book is wrong."
     ],
     "language": "python",
     "metadata": {},
     "outputs": [
      {
       "output_type": "stream",
       "stream": "stdout",
       "text": [
        "Resistance R to be inserted in series (in ohm) : 1.2\n"
       ]
      }
     ],
     "prompt_number": 7
    },
    {
     "cell_type": "heading",
     "level": 2,
     "metadata": {},
     "source": [
      "Example 2.18, Page 150"
     ]
    },
    {
     "cell_type": "code",
     "collapsed": false,
     "input": [
      "\n",
      "#Given data :\n",
      "P=4;#no. of poles\n",
      "f=50;#in Hz\n",
      "R2=0.04;#in ohm\n",
      "N=1200.;#in rpm(speed at max torque)\n",
      "\n",
      "#Calculations\n",
      "Ns=120*f/P;#in rpm(synchronous speed)\n",
      "S=(Ns-N)/Ns;#unitless\n",
      "X2=R2/S;#in ohm\n",
      "#Starting torque is the torque devloped when S=1: Tst=K*R2/(R2^2+X2^2)\n",
      "#Let say, m=R2/(R2^2+X2^2) then Tst=K*m\n",
      "m=R2/(R2**2+X2**2);#assumed\n",
      "\n",
      "#Results\n",
      "print \"Starting torque, Tst=\",round(m,2),\"k\";\n",
      "print \"Maximum torque, Tm=K/\",(2*X2);\n",
      "print \"Thus, Tst in terms of Tm can be expressed as : \";\n",
      "print \"Tst/Tm=\",(0.96*0.4),\" or Tst=\",(0.96*0.4),\"Tm\";\n",
      "print \"Therefore, staring torque is \",(0.96*0.4*100),\"% of maximum torque.\";"
     ],
     "language": "python",
     "metadata": {},
     "outputs": [
      {
       "output_type": "stream",
       "stream": "stdout",
       "text": [
        "Starting torque, Tst= 0.96 k\n",
        "Maximum torque, Tm=K/ 0.4\n",
        "Thus, Tst in terms of Tm can be expressed as : \n",
        "Tst/Tm= 0.384  or Tst= 0.384 Tm\n",
        "Therefore, staring torque is  38.4 % of maximum torque.\n"
       ]
      }
     ],
     "prompt_number": 144
    },
    {
     "cell_type": "heading",
     "level": 2,
     "metadata": {},
     "source": [
      "Example 2.19, Page 155"
     ]
    },
    {
     "cell_type": "code",
     "collapsed": false,
     "input": [
      "\n",
      "#Given data :\n",
      "P=6;#no. of poles\n",
      "f=50;#in Hz\n",
      "fr=3.;#in Hz\n",
      "R2=0.5;#in ohm\n",
      "N=475;#in rpm\n",
      "RotorInput=111.9;#in KW\n",
      "\n",
      "#Calculations&Results\n",
      "Ns=120*f/P;#in rpm\n",
      "S=fr*100/f;#unitless\n",
      "print \"% Slip : \",S;\n",
      "N=Ns*(1-S/100);#in rpm\n",
      "print \"Speed of motor in rpm : \",N;\n",
      "RotorCopperLoss=RotorInput*S/100;#in KW\n",
      "RotorCopperLoss=RotorCopperLoss/3;#in KW/Phase\n",
      "print \"Rotor Copper Loss per phase(in KW) : \",RotorCopperLoss;"
     ],
     "language": "python",
     "metadata": {},
     "outputs": [
      {
       "output_type": "stream",
       "stream": "stdout",
       "text": [
        "% Slip :  6.0\n",
        "Speed of motor in rpm :  940.0\n",
        "Rotor Copper Loss per phase(in KW) :  2.238\n"
       ]
      }
     ],
     "prompt_number": 146
    },
    {
     "cell_type": "heading",
     "level": 2,
     "metadata": {},
     "source": [
      "Example 2.20, Page 156"
     ]
    },
    {
     "cell_type": "code",
     "collapsed": false,
     "input": [
      "\n",
      "#Given data :\n",
      "phase=3.;#no. of phase\n",
      "Pin_stator=60.;#Power input of stator in KW\n",
      "TotalStatorLosses=1.;#in KW\n",
      "\n",
      "#Calculations&Results\n",
      "Pin_rotor=Pin_stator-TotalStatorLosses;#Power input of rotor in KW\n",
      "S=3.;#slip in %\n",
      "RotorCopperLosses=(S/100)*Pin_rotor;#in KW\n",
      "RotorCopperLosses=RotorCopperLosses/phase;#in KW per phase\n",
      "print \"Rotor Copper Losses per phase(in watts) : \",(RotorCopperLosses*10**3);\n",
      "TotalMechPowerDev=Pin_rotor*(1-S/100);#in KW\n",
      "print \"Total mechanial power developed(in KW) : \",TotalMechPowerDev;"
     ],
     "language": "python",
     "metadata": {},
     "outputs": [
      {
       "output_type": "stream",
       "stream": "stdout",
       "text": [
        "Rotor Copper Losses per phase(in watts) :  590.0\n",
        "Total mechanial power developed(in KW) :  57.23\n"
       ]
      }
     ],
     "prompt_number": 40
    },
    {
     "cell_type": "heading",
     "level": 2,
     "metadata": {},
     "source": [
      "Example 2.21, Page 156"
     ]
    },
    {
     "cell_type": "code",
     "collapsed": false,
     "input": [
      "\n",
      "#Given data :\n",
      "P=6;#no. of poles\n",
      "S=4.;#slip in %\n",
      "Output=20;#in KW\n",
      "\n",
      "#Calculations&Results\n",
      "FrictionalLoss=250;#in watts\n",
      "f=50;#in Hz\n",
      "Ns=120*f/P;#in rpm\n",
      "N=Ns-Ns*(S/100);#in rpm\n",
      "print \"Speed of motor(in rpm) : \",N;\n",
      "MechPowerDeveloped=Output*10**3+FrictionalLoss;#in Watts\n",
      "S=S/100;#unitless\n",
      "RotorCopperLoss=(S/(1-S))*MechPowerDeveloped;#in watts\n",
      "print \"Rotor Copper Loss(in watts) : \",RotorCopperLoss;"
     ],
     "language": "python",
     "metadata": {},
     "outputs": [
      {
       "output_type": "stream",
       "stream": "stdout",
       "text": [
        "Speed of motor(in rpm) :  960.0\n",
        "Rotor Copper Loss(in watts) :  843.75\n"
       ]
      }
     ],
     "prompt_number": 147
    },
    {
     "cell_type": "heading",
     "level": 2,
     "metadata": {},
     "source": [
      "Example 2.22, Page 157"
     ]
    },
    {
     "cell_type": "code",
     "collapsed": false,
     "input": [
      "\n",
      "#Given data :\n",
      "phase=3;#no. of phase\n",
      "P=6;#no. of poles\n",
      "Pin_rotor=80;#Power input of rotor in KW\n",
      "f=50;#in Hz\n",
      "fdash=100;#alternations per minute\n",
      "\n",
      "#Calculations&Results\n",
      "fdash=100./60;#in Hz\n",
      "S=fdash/f;#unitless\n",
      "print \"Slip : \",round(S,4);\n",
      "Ns=120*f/P;#synchronous speed in rpm\n",
      "N=Ns-Ns*S;#in rpm\n",
      "print \"Rotor Speed(in rpm) : \",round(N);\n",
      "MechPowerDev=Pin_rotor*(1-S)*10**3/735.5;#in H.P.\n",
      "print \"Total mechanial power developed(in KW) : \",round(MechPowerDev,2);\n",
      "RotorCopperLoss=S*Pin_rotor*10**3;#in watts\n",
      "print \"Rotor Copper Loss(in watts) : \",RotorCopperLoss;\n",
      "CopperLoss=RotorCopperLoss/phase;#in watts/phase\n",
      "print \"Copper Loss per phase(in watts) : \",round(CopperLoss);\n",
      "I2=60;#in Ampere\n",
      "R2=CopperLoss/I2**2;#in ohm\n",
      "print \"Rotor resistance per phase(in ohm) : \",round(R2,3);\n",
      "#Note : Some answers are not accurate in the book."
     ],
     "language": "python",
     "metadata": {},
     "outputs": [
      {
       "output_type": "stream",
       "stream": "stdout",
       "text": [
        "Slip :  0.0333\n",
        "Rotor Speed(in rpm) :  967.0\n",
        "Total mechanial power developed(in KW) :  105.14\n",
        "Rotor Copper Loss(in watts) :  2666.66666667\n",
        "Copper Loss per phase(in watts) :  889.0\n",
        "Rotor resistance per phase(in ohm) :  0.247\n"
       ]
      }
     ],
     "prompt_number": 148
    },
    {
     "cell_type": "heading",
     "level": 2,
     "metadata": {},
     "source": [
      "Example 2.23, Page 158"
     ]
    },
    {
     "cell_type": "code",
     "collapsed": false,
     "input": [
      "\n",
      "#Given data :\n",
      "UsefulOutput=55;#in H.P.\n",
      "MechLosses=2;#in H.P.\n",
      "Stator_Losses=13.5;#in KW\n",
      "\n",
      "#Calculations&Results\n",
      "MechPowerDev=UsefulOutput+MechLosses;#in H.P.\n",
      "MechPowerDev=MechPowerDev*735.5/1000;#in KW\n",
      "S=50.;#in %\n",
      "Pin_Rotor=MechPowerDev/(1-S/100);#in KW\n",
      "RotorCopperLoss=(S/100)*Pin_Rotor;#in KW\n",
      "print \"Rotor Copper Loss(in KW) : \",round(RotorCopperLoss,2);\n",
      "Pin_Motor=Pin_Rotor+Stator_Losses;#in KW\n",
      "Efficiency=UsefulOutput*0.7355/Pin_Motor;#/unitless\n",
      "print \"Effiiency(in %) :\",round((Efficiency*100),1);"
     ],
     "language": "python",
     "metadata": {},
     "outputs": [
      {
       "output_type": "stream",
       "stream": "stdout",
       "text": [
        "Rotor Copper Loss(in KW) :  41.92\n",
        "Effiiency(in %) : 41.6\n"
       ]
      }
     ],
     "prompt_number": 149
    },
    {
     "cell_type": "heading",
     "level": 2,
     "metadata": {},
     "source": [
      "Example 2.24, Page 159"
     ]
    },
    {
     "cell_type": "code",
     "collapsed": false,
     "input": [
      "\n",
      "#Given data :\n",
      "phase=3;#no. of phase\n",
      "P=6;#no. of poles\n",
      "Pin_rotor=80;#Power input of rotor in KW\n",
      "f=50;#in Hz\n",
      "fdash=100;#alternations per minute\n",
      "\n",
      "#Calculations&Results\n",
      "fdash=100./60;#in Hz\n",
      "S=fdash/f;#unitless\n",
      "print \"Slip : \",round(S,3);\n",
      "Ns=120*f/P;#synchronous speed in rpm\n",
      "N=Ns-Ns*S;#in rpm\n",
      "print \"Rotor Speed(in rpm) : \",round(N);\n",
      "RotorCopperLoss=S*Pin_rotor*10**3;#in watts\n",
      "#print \"Rotor Copper Loss(in watts) : \",RotorCopperLoss;\n",
      "CopperLoss=RotorCopperLoss/phase;#in watts/phase\n",
      "print \"Copper Loss per phase(in watts) : \",round(CopperLoss);\n",
      "I2=60;#in Ampere\n",
      "R2=CopperLoss/I2**2;#in ohm\n",
      "print \"Rotorresistance per phase(in ohm) : \",round(R2,3);\n",
      "MechPowerDev=Pin_rotor*(1-S)*10**3/735.5;#in H.P.\n",
      "print \"Total mechanial power developed(in H.P.) : \",round(MechPowerDev,1);\n",
      "#Note : Some answers are not accurate in the book."
     ],
     "language": "python",
     "metadata": {},
     "outputs": [
      {
       "output_type": "stream",
       "stream": "stdout",
       "text": [
        "Slip :  0.033\n",
        "Rotor Speed(in rpm) :  967.0\n",
        "Copper Loss per phase(in watts) :  889.0\n",
        "Rotorresistance per phase(in ohm) :  0.247\n",
        "Total mechanial power developed(in H.P.) :  105.1\n"
       ]
      }
     ],
     "prompt_number": 150
    },
    {
     "cell_type": "heading",
     "level": 2,
     "metadata": {},
     "source": [
      "Example 2.25, Page 160"
     ]
    },
    {
     "cell_type": "code",
     "collapsed": false,
     "input": [
      "\n",
      "#Given data :\n",
      "Efficiency=0.9;#unitless\n",
      "Output=50;#in H.P.\n",
      "\n",
      "#Calculations\n",
      "#formula : Efficiency=Output/(Output+Losses) \n",
      "Losses=((1-Efficiency)/Efficiency)*Output*735.5;#in watts\n",
      "Losses=round(Losses);#round\n",
      "#Let, Ststor Cu loss = Rotor Cu los = Iron loss=K\n",
      "#Mechanical Loss = Iron Loss/3 = K/3\n",
      "#TotalLosses=k+K+K+K/3\n",
      "K=Losses*3/10;#in watts\n",
      "Pin_rotor=Output*735.5+Losses;#in watts\n",
      "Slip=K/Pin_rotor;#unitless\n",
      "\n",
      "#Results\n",
      "print \"Slip :\",round(Slip,3);\n",
      "print \"or \",round((Slip*100)),\"%\";  #answer differes due to rouding"
     ],
     "language": "python",
     "metadata": {},
     "outputs": [
      {
       "output_type": "stream",
       "stream": "stdout",
       "text": [
        "Slip : 0.03\n",
        "or  3.0 %\n"
       ]
      }
     ],
     "prompt_number": 154
    },
    {
     "cell_type": "heading",
     "level": 2,
     "metadata": {},
     "source": [
      "Example 2.26, Page 160"
     ]
    },
    {
     "cell_type": "code",
     "collapsed": false,
     "input": [
      "\n",
      "#Given data :\n",
      "Pin_rotor=20;#Power input of rotor in KW\n",
      "phase=3;#no. of phase\n",
      "P=6;#no. of poles\n",
      "f=50.;#in Hz\n",
      "N=960;#in rpm(Actual speed of motor)\n",
      "\n",
      "#Calculations\n",
      "Ns=120*f/P;#synchronous speed in rpm\n",
      "S=(Ns-N)/Ns;#unitless\n",
      "RotorCuLoss=S*Pin_rotor*10**3;#in watts\n",
      "RotorCuLoss=RotorCuLoss/phase;#in watts/phase\n",
      "R2=1./3;#in ohm(Rotor resistance per phase)\n",
      "I2=sqrt(RotorCuLoss/R2);#in Ampere\n",
      "\n",
      "#Result\n",
      "print \"Motor current per phase(in Ampere) :\",round(I2,1);"
     ],
     "language": "python",
     "metadata": {},
     "outputs": [
      {
       "output_type": "stream",
       "stream": "stdout",
       "text": [
        "Motor current per phase(in Ampere) : 28.3\n"
       ]
      }
     ],
     "prompt_number": 155
    },
    {
     "cell_type": "heading",
     "level": 2,
     "metadata": {},
     "source": [
      "Example 2.27, Page 161"
     ]
    },
    {
     "cell_type": "code",
     "collapsed": false,
     "input": [
      "\n",
      "#Given data :\n",
      "V=500;#in volt\n",
      "Pout_rotor=20;#Power output of rotor in H.P.\n",
      "phase=3;#no. of phase\n",
      "P=6;#no. of poles\n",
      "f=50;#in Hz\n",
      "N=995.;#in rpm(Actual speed of motor)\n",
      "cosfi=0.87;#powerfactor(unitless)\n",
      "\n",
      "#Calculations&Results\n",
      "Ns=120*f/P;#synchronous speed in rpm\n",
      "S=(Ns-N)/Ns;#unitless\n",
      "print \"Slip : \",S;\n",
      "RotorCuLoss=(S/(1-S))*Pout_rotor*735.5;#in watts\n",
      "print \"Rotor Cu Loss(in watts) : \",round(RotorCuLoss,2);\n",
      "Pin_rotor=RotorCuLoss/S;#in watts\n",
      "print \"Power input to rotor(in KW) :\",round((Pin_rotor/10**3),2);\n",
      "LineCurrent=Pin_rotor/(sqrt(3)*V*cosfi);#in Ampere\n",
      "print \"Line Current(in A) :\",round(LineCurrent,2);\n",
      "RotorFreq=S*f;#in Hz\n",
      "print \"Rotor Frequency(in Hz) :\",RotorFreq;"
     ],
     "language": "python",
     "metadata": {},
     "outputs": [
      {
       "output_type": "stream",
       "stream": "stdout",
       "text": [
        "Slip :  0.005\n",
        "Rotor Cu Loss(in watts) :  73.92\n",
        "Power input to rotor(in KW) : 14.78\n",
        "Line Current(in A) : 19.62\n",
        "Rotor Frequency(in Hz) : 0.25\n"
       ]
      }
     ],
     "prompt_number": 156
    },
    {
     "cell_type": "heading",
     "level": 2,
     "metadata": {},
     "source": [
      "Example 2.28, Page 162"
     ]
    },
    {
     "cell_type": "code",
     "collapsed": false,
     "input": [
      "\n",
      "#Given data :\n",
      "phase=3;#no. of phase\n",
      "Efficiency=90;#in %\n",
      "Speed=480;#in rpm\n",
      "VL=400;#in volt\n",
      "IL=75;#in Ampere\n",
      "cosfi=0.77;#powerfactor(unitless)\n",
      "d=0.75;#diameter of pulley in meter\n",
      "\n",
      "#Calculations\n",
      "Pin_motor=sqrt(3)*VL*IL*cosfi;#Power input of motor in watts\n",
      "OutputPower=Pin_motor*Efficiency/100;#in watts\n",
      "Omega=Speed*2*pi/60;#angular speed in radians/sec\n",
      "Torque=OutputPower/Omega;#in N-meter\n",
      "Torque=Torque/9.81;#in Kg-meter\n",
      "PullOnBelt=Torque/(d/2);#in Kg\n",
      "\n",
      "#Result\n",
      "print \"Pull On Belt(in Kg.) : \",round(PullOnBelt,2);"
     ],
     "language": "python",
     "metadata": {},
     "outputs": [
      {
       "output_type": "stream",
       "stream": "stdout",
       "text": [
        "Pull On Belt(in Kg.) :  194.74\n"
       ]
      }
     ],
     "prompt_number": 157
    },
    {
     "cell_type": "heading",
     "level": 2,
     "metadata": {},
     "source": [
      "Example 2.29, Page 162"
     ]
    },
    {
     "cell_type": "code",
     "collapsed": false,
     "input": [
      "\n",
      "#Given data :\n",
      "#At 3% slip\n",
      "OutputPower=24;#in KW(At 3% slip)\n",
      "S=3.;#in %\n",
      "\n",
      "#Calculations\n",
      "Efficiency=(1-S/100);#unitless\n",
      "InputPower=OutputPower/Efficiency;#in KW\n",
      "#At 5% slip\n",
      "S=5;#in %\n",
      "Efficiency=(1-S/100);#unitless\n",
      "OutputPower=InputPower*Efficiency;#in KW\n",
      "\n",
      "#Result\n",
      "print \"Mechanical power output at a slip of 5%(in KW) : \",round(OutputPower,1);\n",
      "#answer differs due to rounding"
     ],
     "language": "python",
     "metadata": {},
     "outputs": [
      {
       "output_type": "stream",
       "stream": "stdout",
       "text": [
        "Mechanical power output at a slip of 5%(in KW) :  24.7\n"
       ]
      }
     ],
     "prompt_number": 158
    },
    {
     "cell_type": "heading",
     "level": 2,
     "metadata": {},
     "source": [
      "Example 2.30, Page 162"
     ]
    },
    {
     "cell_type": "code",
     "collapsed": false,
     "input": [
      "\n",
      "#Given data :\n",
      "#At 50% speed of synchronous speed\n",
      "S=50.;#in %\n",
      "UsefulOutput=55;#in H.P.\n",
      "MechLoss=2;#in H.P.\n",
      "StatorLoss=13.5;#in KW\n",
      "\n",
      "#Calculations&Results\n",
      "Pout_rotor=UsefulOutput+MechLoss;#in H.P.\n",
      "Pout_rotor=Pout_rotor*0.7355;#in KW\n",
      "Efficiency=(1-S/100);#unitless\n",
      "RotorInputPower=Pout_rotor/Efficiency;#in KW\n",
      "RotorCuLoss=RotorInputPower-Pout_rotor;#in KW\n",
      "print \"Cu Loss in the rotor circuit(in KW) :\",round(RotorCuLoss,2);\n",
      "TotalLosses=StatorLoss+RotorCuLoss+MechLoss*0.7355;#in KW\n",
      "MotorEfficiency=UsefulOutput*0.7355/(UsefulOutput*0.7355+TotalLosses);\n",
      "print \"Motor Efficiency(in %) : \",round((MotorEfficiency*100),1);"
     ],
     "language": "python",
     "metadata": {},
     "outputs": [
      {
       "output_type": "stream",
       "stream": "stdout",
       "text": [
        "Cu Loss in the rotor circuit(in KW) : 41.92\n",
        "Motor Efficiency(in %) :  41.6\n"
       ]
      }
     ],
     "prompt_number": 159
    },
    {
     "cell_type": "heading",
     "level": 2,
     "metadata": {},
     "source": [
      "Example 2.31, Page 163"
     ]
    },
    {
     "cell_type": "code",
     "collapsed": false,
     "input": [
      "from math import pi, sqrt, sin, cos\n",
      "\n",
      "#Given data :\n",
      "P=4;#no. of poles\n",
      "phase=3;#no. of phase\n",
      "N=1440.;#in rpm(Actual speed of motor)\n",
      "Power_dev=10;#Power developed in H.P.\n",
      "VL=400;#in volt\n",
      "cosfi=0.8;#powerfactor(unitless)\n",
      "f=50;#in Hz\n",
      "\n",
      "#Calculations&Results\n",
      "Ns=120*f/P;#in rpm\n",
      "S=(Ns-N)/Ns;#fractional slip(unitless)\n",
      "print \"Slip :\",S;\n",
      "Omega=N*2*pi/60;#angular speed in radians/sec\n",
      "Torque=Power_dev*735.5/Omega;#in N-meter\n",
      "Torque=Torque/9.81;#in Kg-meter\n",
      "print \"Torque(in Kg-meter) :\",round(Torque,2);\n",
      "RotorCuLoss=(S/(1-S))*Power_dev*735.5;#in watts\n",
      "print \"Rotor Cu Loss per phase(in watts) : \",round((RotorCuLoss/3),1);\n",
      "Pin_rotor=RotorCuLoss/S;#in watts\n",
      "print \"Power input to rotor(in KW) :\",round((Pin_rotor/10**3),2);\n",
      "LineCurrent=Pin_rotor/(sqrt(3)*VL*cosfi);#in Ampere\n",
      "print \"Line Current(in A) :\",round(LineCurrent,2);"
     ],
     "language": "python",
     "metadata": {},
     "outputs": [
      {
       "output_type": "stream",
       "stream": "stdout",
       "text": [
        "Slip : 0.04\n",
        "Torque(in Kg-meter) : 4.97\n",
        "Rotor Cu Loss per phase(in watts) :  102.2\n",
        "Power input to rotor(in KW) : 7.66\n",
        "Line Current(in A) : 13.82\n"
       ]
      }
     ],
     "prompt_number": 8
    },
    {
     "cell_type": "heading",
     "level": 2,
     "metadata": {},
     "source": [
      "Example 2.32, Page 164"
     ]
    },
    {
     "cell_type": "code",
     "collapsed": false,
     "input": [
      "\n",
      "#Given data :\n",
      "VL=440;#in volt\n",
      "f=50;#in Hz\n",
      "P=6;#no. of poles\n",
      "phase=3;#no. of phase\n",
      "Pin_rotor=80;#in KW\n",
      "fr=100;#revolutions/min\n",
      "\n",
      "#Calculations&Results\n",
      "fr=100./60;#in Hz\n",
      "S=fr/f;#slip(unitless)\n",
      "print \"Slip : \",round(S,3);\n",
      "Ns=120*f/P;#in rpm\n",
      "N=Ns*(1-S);#in rpm(Speed of Rotor)\n",
      "print \"Rotor speed(in rpm) : \",round(N);\n",
      "RotorCuLoss=S*Pin_rotor*10**3;#in watts\n",
      "print \"Rotor Cu Loss per phase(in watts) : \",round(RotorCuLoss/phase);\n",
      "I2=65;#in Ampere\n",
      "R2=(RotorCuLoss/phase)/I2**2;#in ohm\n",
      "print \"Rotor resistance per phase(in ohm) : \",round(R2,2);\n",
      "Pout_rotor=Pin_rotor-RotorCuLoss/10**3;#in KW\n",
      "print \"Output power of rotor(in H.P.) : \",round((Pout_rotor/0.735),1);\n",
      "#Note : answers of few part are not accurate in the book."
     ],
     "language": "python",
     "metadata": {},
     "outputs": [
      {
       "output_type": "stream",
       "stream": "stdout",
       "text": [
        "Slip :  0.033\n",
        "Rotor speed(in rpm) :  967.0\n",
        "Rotor Cu Loss per phase(in watts) :  889.0\n",
        "Rotor resistance per phase(in ohm) :  0.21\n",
        "Output power of rotor(in H.P.) :  105.2\n"
       ]
      }
     ],
     "prompt_number": 161
    },
    {
     "cell_type": "heading",
     "level": 2,
     "metadata": {},
     "source": [
      "Example 2.33, Page 165"
     ]
    },
    {
     "cell_type": "code",
     "collapsed": false,
     "input": [
      "\n",
      "#Given data :\n",
      "VL=440;#in volt\n",
      "f=50.;#in Hz\n",
      "P=6;#no. of poles\n",
      "phase=3;#no. of phase\n",
      "Pin_rotor=20;#in KW\n",
      "N=960.;#in rpm(Speed of Motor)\n",
      "\n",
      "#Calculations\n",
      "Ns=120*f/P;#in rpm\n",
      "S=(Ns-N)/Ns;#slip(unitless)\n",
      "RotorCuLoss=S*Pin_rotor*10**3;#in watts\n",
      "RotorCuLoss=RotorCuLoss/phase;#in watts/phase\n",
      "R2=1./3;#Rotor Resistance in ohm per phase\n",
      "I2=sqrt(RotorCuLoss/R2)\n",
      "\n",
      "#Result\n",
      "print \"Motor current per phase(in Ampere) :\",round(I2,2);"
     ],
     "language": "python",
     "metadata": {},
     "outputs": [
      {
       "output_type": "stream",
       "stream": "stdout",
       "text": [
        "Motor current per phase(in Ampere) : 28.28\n"
       ]
      }
     ],
     "prompt_number": 162
    },
    {
     "cell_type": "heading",
     "level": 2,
     "metadata": {},
     "source": [
      "Example 2.34, Page 166"
     ]
    },
    {
     "cell_type": "code",
     "collapsed": false,
     "input": [
      "from math import pi, sqrt, sin, cos\n",
      "\n",
      "#Given data :\n",
      "VL=500;#in volt\n",
      "f=50;#in Hz\n",
      "P=6;#no. of poles\n",
      "phase=3;#no. of phase\n",
      "Pout_rotor=20;#in H.P.\n",
      "cosfi=0.87;#power factor\n",
      "N=995.;#in rpm(Speed of Motor)\n",
      "\n",
      "#Calculations&Results\n",
      "Ns=120*f/P;#in rpm\n",
      "S=(Ns-N)/Ns;#slip(unitless)\n",
      "print \"Slip : \",S;\n",
      "RotorCuLoss=(S/(1-S))*Pout_rotor*735.5;#in watts\n",
      "print \"Rotor Cu Loss(in watts) :\",round(RotorCuLoss,2);\n",
      "Pin_rotor=RotorCuLoss/S;#in watts\n",
      "print \"Power input to rotor(in KW) :\",round((Pin_rotor/10**3),3);\n",
      "IL=Pin_rotor/(sqrt(3)*VL*cosfi);#in Ampere\n",
      "print \"Line current (in Ampere) :\",round(IL,2);\n",
      "Rotorfreq=S*f;#in Hz\n",
      "print \"Rotor frequency(in Hz) :\",round(Rotorfreq,2);"
     ],
     "language": "python",
     "metadata": {},
     "outputs": [
      {
       "output_type": "stream",
       "stream": "stdout",
       "text": [
        "Slip :  0.005\n",
        "Rotor Cu Loss(in watts) : 73.92\n",
        "Power input to rotor(in KW) : 14.784\n",
        "Line current (in Ampere) : 19.62\n",
        "Rotor frequency(in Hz) : 0.25\n"
       ]
      }
     ],
     "prompt_number": 9
    },
    {
     "cell_type": "heading",
     "level": 2,
     "metadata": {},
     "source": [
      "Example 2.35, Page 166"
     ]
    },
    {
     "cell_type": "code",
     "collapsed": false,
     "input": [
      "\n",
      "#Given data :\n",
      "f=50;#in Hz\n",
      "P=4;#no. of poles\n",
      "phase=3;#no. of phase\n",
      "Efficiency=85.;#in %\n",
      "OutputPower=17.;#in KW\n",
      "OutputPower=17*10**3;#in watts\n",
      "StatorLosses=900.;#in watt\n",
      "MechLosses=1100;#in watt\n",
      "\n",
      "#Calculations&Results\n",
      "Pin=OutputPower/(Efficiency/100);#in watts\n",
      "#Stator input or rotor input :\n",
      "Pin_rotor=Pin-StatorLosses;#in watts\n",
      "P_MechDev=OutputPower+MechLosses;#in watts\n",
      "RotorCuLosses=Pin_rotor-P_MechDev;#in watts\n",
      "S=RotorCuLosses/Pin_rotor;#slip(unitless)\n",
      "print \"Slip :\",round(S,3);\n",
      "Ns=120*f/P\n",
      "N=Ns*(1-S);#in rpm(Speed of Motor)\n",
      "Omega=2*pi*N/60;#angular speed in rad/sec\n",
      "Torque=P_MechDev/Omega;#in Nm\n",
      "print \"Torque developed(in Nm) :\",round(Torque,1);\n",
      "Tm=OutputPower/Omega;#in Nm\n",
      "Tm=Tm/9.81;#in Kg-meter\n",
      "print \"Torque at the shaft(in Kg-meter) :\",round(Tm,2);"
     ],
     "language": "python",
     "metadata": {},
     "outputs": [
      {
       "output_type": "stream",
       "stream": "stdout",
       "text": [
        "Slip : 0.052\n",
        "Torque developed(in Nm) : 121.6\n",
        "Torque at the shaft(in Kg-meter) : 11.64\n"
       ]
      }
     ],
     "prompt_number": 164
    },
    {
     "cell_type": "heading",
     "level": 2,
     "metadata": {},
     "source": [
      "Example 2.36, Page 168"
     ]
    },
    {
     "cell_type": "code",
     "collapsed": false,
     "input": [
      "\n",
      "#Given data :\n",
      "VL=500;#in volt\n",
      "f=50;#in Hz\n",
      "P=6;#no. of poles\n",
      "phase=3;#no. of phase\n",
      "Pin_stator=50;#in KW\n",
      "Statorlosses=2;#in KW\n",
      "MechLosses=1;#in KW\n",
      "\n",
      "#Calculations&Results\n",
      "Pin_rotor=Pin_stator-Statorlosses;#in KW\n",
      "S=3.;#in %\n",
      "RotorI2RLoss=(S/100)*Pin_rotor;#in KW\n",
      "print \"Rotor I2R Loss(in KW) :\",RotorI2RLoss;\n",
      "print \"Rotor core loss at 3% slip is very less and can be neglected.\";\n",
      "Power_dev=Pin_rotor-RotorI2RLoss;#in KW\n",
      "print \"Power developed by the rotor(in H.P.) : \",round((Power_dev/0.7355),1);\n",
      "Outputpower=Power_dev-MechLosses;#in KW\n",
      "Efficiency=Outputpower/Pin_stator;#unitless\n",
      "print \"Efficiency of the motor(in %) :\",(Efficiency*100);"
     ],
     "language": "python",
     "metadata": {},
     "outputs": [
      {
       "output_type": "stream",
       "stream": "stdout",
       "text": [
        "Rotor I2R Loss(in KW) : 1.44\n",
        "Rotor core loss at 3% slip is very less and can be neglected.\n",
        "Power developed by the rotor(in H.P.) :  63.3\n",
        "Efficiency of the motor(in %) : 91.12\n"
       ]
      }
     ],
     "prompt_number": 165
    },
    {
     "cell_type": "heading",
     "level": 2,
     "metadata": {},
     "source": [
      "Example 2.37, Page 168"
     ]
    },
    {
     "cell_type": "code",
     "collapsed": false,
     "input": [
      "\n",
      "#Given data :\n",
      "f=50;#in Hz\n",
      "P=4;#no. of poles\n",
      "phase=3;#no. of phase\n",
      "MotorOutput=20;#in H.P.\n",
      "MotorOutput=20*735.5;#in watts\n",
      "S=4.;#full load slip in %\n",
      "MechLosses=500;#in watts\n",
      "\n",
      "#Calculations&Results\n",
      "Pdev_rotor=MotorOutput+MechLosses;#in watts\n",
      "S=S/100;#fractional slip\n",
      "RotorI2RLoss=(S/(1-S))*Pdev_rotor;#in watts\n",
      "print \"Rotor I2R Loss(in watts) :\",RotorI2RLoss;\n",
      "Ns=120*f/P;#in rpm\n",
      "Nr=Ns-Ns*S;#in rpm\n",
      "print \"Rotor speed(in rpm) :\",Nr;"
     ],
     "language": "python",
     "metadata": {},
     "outputs": [
      {
       "output_type": "stream",
       "stream": "stdout",
       "text": [
        "Rotor I2R Loss(in watts) : 633.75\n",
        "Rotor speed(in rpm) : 1440.0\n"
       ]
      }
     ],
     "prompt_number": 80
    },
    {
     "cell_type": "heading",
     "level": 2,
     "metadata": {},
     "source": [
      "Example 2.38, Page 169"
     ]
    },
    {
     "cell_type": "code",
     "collapsed": false,
     "input": [
      "from math import pi, sqrt, sin, cos\n",
      "\n",
      "#Given data :\n",
      "f=50;#in Hz\n",
      "P=6;#no. of poles\n",
      "phase=3;#no. of phase\n",
      "R2=0.02;#in ohm\n",
      "X2=0.1;#in ohm\n",
      "\n",
      "#Calculations\n",
      "S=R2/X2;#slip(unitless)\n",
      "Ns=120*f/P;#in rpm\n",
      "Nr=Ns-Ns*S;#in rpm\n",
      "#At starting S=1\n",
      "S=1;#slip\n",
      "#Formula : T=K*S*R2/(R2^2+X2^2)\n",
      "#Starting torque, Tst=K*R2/(R2^2+S^2*X2^2)\n",
      "#Maximum torque, Tm=K/(2*X2)\n",
      "#Tst=(2/3)*Tm : gives a equation\n",
      "#100*R2^2-30*R2+1=0\n",
      "a=100;b=-30;c=1;\n",
      "R21=(-b+sqrt(b**2-4*a*c))/(2*a);#in ohm\n",
      "R22=(-b-sqrt(b**2-4*a*c))/(2*a);#in ohm\n",
      "#This R2 is the value of rotor circuit resistance.\n",
      "RotWinResistance=0.02;#in ohm per phase\n",
      "Extra_R1=R21-RotWinResistance;#in ohm\n",
      "Extra_R2=R22-RotWinResistance;#in ohm\n",
      "\n",
      "#Result\n",
      "print \"Extra Resistance(in ohm) : \",round(Extra_R1,3),\" ohm or \",round((Extra_R2),3),\" ohm.\";"
     ],
     "language": "python",
     "metadata": {},
     "outputs": [
      {
       "output_type": "stream",
       "stream": "stdout",
       "text": [
        "Extra Resistance(in ohm) :  0.242  ohm or  0.018  ohm.\n"
       ]
      }
     ],
     "prompt_number": 166
    },
    {
     "cell_type": "heading",
     "level": 2,
     "metadata": {},
     "source": [
      "Example 2.39, Page 170"
     ]
    },
    {
     "cell_type": "code",
     "collapsed": false,
     "input": [
      "\n",
      "#Given data :\n",
      "f=50;#in Hz\n",
      "P=4;#no. of poles\n",
      "phase=3;#no. of phase\n",
      "MotorShaftOutput=20;#in H.P.\n",
      "\n",
      "#Calculations&Results\n",
      "MotorShaftOutput=20*735.5;#in watts\n",
      "MechLosses=MotorShaftOutput*2/100;#in watts(2% of the output)\n",
      "Pdev_rotor=MotorShaftOutput+MechLosses;#in watts\n",
      "S=3.;#slip in %\n",
      "S=S/100;#fractional slip\n",
      "RotorI2RLoss=(S/(1-S))*Pdev_rotor;#in watts\n",
      "print \"Rotor I2R Loss(in watts) :\",round(RotorI2RLoss);\n",
      "print \"Rotor iron loss at 3% slip is very small and can be neglected.\";\n",
      "RotorInput=Pdev_rotor+RotorI2RLoss;#in watts\n",
      "print \"Rotor Input(in Watts) :\",round(RotorInput,1);\n",
      "Ns=120*f/P;#in rpm\n",
      "Nr=Ns-Ns*S;#in rpm\n",
      "Nr=Nr/60;#in rps\n",
      "T=MotorShaftOutput/(2*pi*Nr);#in Nm\n",
      "print \"Output torque(in Nm) : \",round(T,2);"
     ],
     "language": "python",
     "metadata": {},
     "outputs": [
      {
       "output_type": "stream",
       "stream": "stdout",
       "text": [
        "Rotor I2R Loss(in watts) : 464.0\n",
        "Rotor iron loss at 3% slip is very small and can be neglected.\n",
        "Rotor Input(in Watts) : 15468.2\n",
        "Output torque(in Nm) :  96.54\n"
       ]
      }
     ],
     "prompt_number": 167
    },
    {
     "cell_type": "heading",
     "level": 2,
     "metadata": {},
     "source": [
      "Example 2.40, Page 171"
     ]
    },
    {
     "cell_type": "code",
     "collapsed": false,
     "input": [
      "\n",
      "#Given data :\n",
      "VL=500;#in volt\n",
      "f=50;#in Hz\n",
      "P=6;#no. of poles\n",
      "phase=3;#no. of phase\n",
      "Nr=975.;#in rpm\n",
      "\n",
      "#Calculations&Results\n",
      "Ns=120*f/P;#in rpm\n",
      "S=(Ns-Nr)/Ns;#slip\n",
      "print \"Slip :\",S;\n",
      "Pin_stator=40;#in KW\n",
      "StatorLosses=1;#in KW\n",
      "Pin_rotor=Pin_stator-StatorLosses;#in KW\n",
      "RotorCuLosses=S*Pin_rotor;#in KW\n",
      "print \"Rotor Cu Losses(in KW) :\",RotorCuLosses;\n",
      "RotorOutput=Pin_rotor-RotorCuLosses;#in KW\n",
      "OutputHP=RotorOutput/0.735;#in H.P.\n",
      "print \"Output Horse Power : \",round(OutputHP,2);\n",
      "Efficiency=RotorOutput/Pin_stator;#unitless\n",
      "print \"Efficiency(in %) :\",round(Efficiency*100);"
     ],
     "language": "python",
     "metadata": {},
     "outputs": [
      {
       "output_type": "stream",
       "stream": "stdout",
       "text": [
        "Slip : 0.025\n",
        "Rotor Cu Losses(in KW) : 0.975\n",
        "Output Horse Power :  51.73\n",
        "Efficiency(in %) : 95.0\n"
       ]
      }
     ],
     "prompt_number": 168
    },
    {
     "cell_type": "heading",
     "level": 2,
     "metadata": {},
     "source": [
      "Example 2.41, Page 172"
     ]
    },
    {
     "cell_type": "code",
     "collapsed": false,
     "input": [
      "\n",
      "#Given data :\n",
      "VL=440;#in volt\n",
      "f=50.;#in Hz\n",
      "P=6;#no. of poles\n",
      "phase=3.;#no. of phase\n",
      "\n",
      "#Calculations&Results\n",
      "Ns=120*f/P;#in rpm\n",
      "fr=120;#alternations per minute\n",
      "fr=fr/60;#in Hz\n",
      "S=fr/f;#slip\n",
      "print \"Slip : \",S;\n",
      "Nr=Ns-S*Ns;#in rpm\n",
      "print \"Rotor speed(in rpm) :\",Nr;\n",
      "Rotor_input=80;#in KW\n",
      "RotorCuLoss=S*Rotor_input;#in KW\n",
      "print \"Rotor Cu Loss per phase(in watts) :\",round((RotorCuLoss*10**3)/phase);\n",
      "P_Mechdev=Rotor_input*10**3-RotorCuLoss*10**3;#in watts\n",
      "P_Mechdev=P_Mechdev/735.5;#in H.P.\n",
      "print \"Mechanical power devloped(in H.P.) :\",round(P_Mechdev,1);\n",
      "Ir=60;#in Ampere\n",
      "R2=(RotorCuLoss*10**3/phase)/Ir**2;#in ohm\n",
      "print \"Rotor resistance per phase(in ohm) :\",round(R2,3);"
     ],
     "language": "python",
     "metadata": {},
     "outputs": [
      {
       "output_type": "stream",
       "stream": "stdout",
       "text": [
        "Slip :  0.04\n",
        "Rotor speed(in rpm) : 960.0\n",
        "Rotor Cu Loss per phase(in watts) : 1067.0\n",
        "Mechanical power devloped(in H.P.) : 104.4\n",
        "Rotor resistance per phase(in ohm) : 0.296\n"
       ]
      }
     ],
     "prompt_number": 169
    },
    {
     "cell_type": "heading",
     "level": 2,
     "metadata": {},
     "source": [
      "Example 2.43, Page 175 "
     ]
    },
    {
     "cell_type": "code",
     "collapsed": false,
     "input": [
      "\n",
      "#Given data :\n",
      "f=50.;#in Hz\n",
      "P=6;#no. of poles\n",
      "R2=0.2;#rotor resistance per phase in ohm\n",
      "Nr=960;#in rpm\n",
      "Nr_dash=600;#in rpm\n",
      "\n",
      "#Calculations\n",
      "Ns=120*f/P;#in rpm\n",
      "S=(Ns-Nr)/Ns;#slip(unitless)\n",
      "Sdash=(Ns-Nr_dash)/Ns;#slip(unitless)\n",
      "#Let the new value of resistance is R2dash=(R+0.2)\n",
      "R=R2*(Sdash/S)-R2;#Resistance to be added in ohm\n",
      "\n",
      "#Result\n",
      "print \"Resistance to be added(in ohm) : \",R;"
     ],
     "language": "python",
     "metadata": {},
     "outputs": [
      {
       "output_type": "stream",
       "stream": "stdout",
       "text": [
        "Resistance to be added(in ohm) :  1.8\n"
       ]
      }
     ],
     "prompt_number": 91
    },
    {
     "cell_type": "heading",
     "level": 2,
     "metadata": {},
     "source": [
      "Example 2.44, Page 176"
     ]
    },
    {
     "cell_type": "code",
     "collapsed": false,
     "input": [
      "\n",
      "#Given data :\n",
      "f=50;#in Hz\n",
      "P=6;#no. of poles\n",
      "phase=3;#no. of phase\n",
      "RotorIntResistance=0.1;#in ohm per phase\n",
      "X2=1;#in ohm/phase\n",
      "\n",
      "#Calculation\n",
      "Rext=X2-RotorIntResistance;#in ohm\n",
      "\n",
      "#Result\n",
      "print \"External resistance to be included(in ohm/phase) : \",Rext;"
     ],
     "language": "python",
     "metadata": {},
     "outputs": [
      {
       "output_type": "stream",
       "stream": "stdout",
       "text": [
        "External resistance to be included(in ohm/phase) :  0.9\n"
       ]
      }
     ],
     "prompt_number": 92
    },
    {
     "cell_type": "heading",
     "level": 2,
     "metadata": {},
     "source": [
      "Example 2.45, Page 176"
     ]
    },
    {
     "cell_type": "code",
     "collapsed": false,
     "input": [
      "\n",
      "#Given data :\n",
      "f=50.;#in Hz\n",
      "P=6.;#no. of poles\n",
      "phase=3.;#no. of phase\n",
      "R2=0.2;#rotor resistance per phase in ohm\n",
      "N1=960.;#Full load speed in rpm\n",
      "\n",
      "#Calculations\n",
      "Ns=120*f/P;#in rpm\n",
      "S1=(Ns-N1)/Ns;#Full load slip(unitless)\n",
      "N2=N1*(1-10./100);#New speed in rpm(reduced 10%)\n",
      "S2=(Ns-N2)/Ns;#New slip(unitless)\n",
      "#Formula : S=RotorCuLoss/Pin_rotor=3*I2^2*R2/Pin_rotor\n",
      "#Let the additional resistance is R\n",
      "R=R2*S2/S1-R2;#Resistance to be added in ohm\n",
      "\n",
      "#Result\n",
      "print \"Additional Rotor Resistance(in ohm) : \",R;"
     ],
     "language": "python",
     "metadata": {},
     "outputs": [
      {
       "output_type": "stream",
       "stream": "stdout",
       "text": [
        "Additional Rotor Resistance(in ohm) :  0.48\n"
       ]
      }
     ],
     "prompt_number": 97
    },
    {
     "cell_type": "heading",
     "level": 2,
     "metadata": {},
     "source": [
      "Example 2.46, Page 180"
     ]
    },
    {
     "cell_type": "code",
     "collapsed": false,
     "input": [
      "\n",
      "#Given data :\n",
      "R2inner=0.4;#in ohm\n",
      "X2inner=2;#in ohm \n",
      "R2outer=2;#in ohm\n",
      "X2outer=0.4;#in ohm \n",
      "#At standstill :\n",
      "S=1;#unitless\n",
      "\n",
      "#Calculations&Results\n",
      "Ratio=(R2outer*S/(R2outer**2+S**2*X2outer**2))/(R2inner*S/(R2inner**2+S**2*X2inner**2));#unitless\n",
      "print \"Ratio of torque produced by two cages at standstill : \",Ratio;\n",
      "#At Full load :\n",
      "S=5;#in %\n",
      "S=5./100;#fractional\n",
      "Ratio=(R2outer*S/(R2outer**2+S**2*X2outer**2))/(R2inner*S/(R2inner**2+S**2*X2inner**2));#unitless\n",
      "print \"Ratio of torque produced by two cages at full load(slip=5%) : \",round(Ratio,2);"
     ],
     "language": "python",
     "metadata": {},
     "outputs": [
      {
       "output_type": "stream",
       "stream": "stdout",
       "text": [
        "Ratio of torque produced by two cages at standstill :  5.0\n",
        "Ratio of torque produced by two cages at full load(slip=5%) :  0.21\n"
       ]
      }
     ],
     "prompt_number": 171
    },
    {
     "cell_type": "heading",
     "level": 2,
     "metadata": {},
     "source": [
      "Example 2.47, Page 187"
     ]
    },
    {
     "cell_type": "code",
     "collapsed": false,
     "input": [
      "from math import sqrt\n",
      "\n",
      "#Given data :\n",
      "Output=10;#in H.P.\n",
      "Output=Output*735.5;#in watts\n",
      "cosfi=0.8;#unitless\n",
      "ETA=0.83;#unitless\n",
      "ISCbyIFL=3.5;#ratio of SC current to full load current\n",
      "VL=500;#in volt\n",
      "\n",
      "#Calculations\n",
      "Input=Output/ETA;#in watts\n",
      "IFL=Input/(sqrt(3)*VL*cosfi);#in Ampere\n",
      "ISC=IFL*ISCbyIFL;#in Ampere\n",
      "Is=ISC/3;#in Ampere\n",
      "\n",
      "#Result\n",
      "print \"Strting current(in Ampere) :\",round(Is,2);"
     ],
     "language": "python",
     "metadata": {},
     "outputs": [
      {
       "output_type": "stream",
       "stream": "stdout",
       "text": [
        "Strting current(in Ampere) : 14.92\n"
       ]
      }
     ],
     "prompt_number": 10
    },
    {
     "cell_type": "heading",
     "level": 2,
     "metadata": {},
     "source": [
      "Example 2.48, Page 187"
     ]
    },
    {
     "cell_type": "code",
     "collapsed": false,
     "input": [
      "\n",
      "#Given data :\n",
      "ISCbyIFL=5;#ratio of SC current to full load current\n",
      "S=0.04;#Full load slip\n",
      "\n",
      "#Calculations&Results\n",
      "#(i) for star delta starter : \n",
      "print \"for star delta starter : \";\n",
      "Ratio=(1./3)*(ISCbyIFL)**2*S;#Ratio of starting torque to full load torque\n",
      "print \"Starting torque is \",round((Ratio*100),2),\"% of full load torque.\";\n",
      "#(i) for auto transformer starter :\n",
      "print \"for auto transformer starter : \";\n",
      "K=50./100;#tappings\n",
      "Ratio=K**2*(ISCbyIFL)**2*S;#Ratio of starting torque to full load torque\n",
      "print \"Starting torque is \",(Ratio*100),\"% of full load torque.\";"
     ],
     "language": "python",
     "metadata": {},
     "outputs": [
      {
       "output_type": "stream",
       "stream": "stdout",
       "text": [
        "for star delta starter : \n",
        "Starting torque is  33.33 % of full load torque.\n",
        "for auto transformer starter : \n",
        "Starting torque is  25.0 % of full load torque.\n"
       ]
      }
     ],
     "prompt_number": 173
    },
    {
     "cell_type": "heading",
     "level": 2,
     "metadata": {},
     "source": [
      "Example 2.49, Page 188"
     ]
    },
    {
     "cell_type": "code",
     "collapsed": false,
     "input": [
      "\n",
      "#Given data :\n",
      "ISCbyIFL=4;#ratio of SC current to full load current\n",
      "TsBYTf=1./4;#ratio of atarting torque to full load torque\n",
      "Slip=3;#in %\n",
      "Slip=3./100;#in fraction\n",
      "\n",
      "#Calculations\n",
      "#Formula : TsBYTf=Percent_Tapping^2*ISCbyIFL^2*Slip\n",
      "tapping=sqrt(TsBYTf/(Slip*ISCbyIFL**2));#in %\n",
      "\n",
      "#Result\n",
      "print \"Tapping(in %) :\",round((tapping*100),1);"
     ],
     "language": "python",
     "metadata": {},
     "outputs": [
      {
       "output_type": "stream",
       "stream": "stdout",
       "text": [
        "Tapping(in %) : 72.2\n"
       ]
      }
     ],
     "prompt_number": 174
    },
    {
     "cell_type": "heading",
     "level": 2,
     "metadata": {},
     "source": [
      "Example 2.50, Page 189"
     ]
    },
    {
     "cell_type": "code",
     "collapsed": false,
     "input": [
      "\n",
      "#Given data :\n",
      "ISCbyIFL=5.;#ratio of SC current to full load current\n",
      "Slip=5;#in %\n",
      "Slip=5./100;#in fraction\n",
      "\n",
      "#Calculations\n",
      "#Formula : 3*IFL=K^2*ISC\n",
      "K=sqrt(1./(ISCbyIFL/3));#unitless\n",
      "TsBYTfl=K**2*(ISCbyIFL)**2*Slip;#ratio of starting torque to full load torque\n",
      "\n",
      "#Result\n",
      "print \"Starting torque is \",(TsBYTfl*100),\"% of full load torque.\";"
     ],
     "language": "python",
     "metadata": {},
     "outputs": [
      {
       "output_type": "stream",
       "stream": "stdout",
       "text": [
        "Starting torque is  75.0 % of full load torque.\n"
       ]
      }
     ],
     "prompt_number": 175
    },
    {
     "cell_type": "heading",
     "level": 2,
     "metadata": {},
     "source": [
      "Example 2.51, Page 189"
     ]
    },
    {
     "cell_type": "code",
     "collapsed": false,
     "input": [
      "\n",
      "#Given data :\n",
      "print \"Star delta starter :\";\n",
      "ISCbyIFL=6;#ratio of SC current to full load current\n",
      "Slip=4;#in %\n",
      "Slip=4./100;#in fraction\n",
      "\n",
      "#Calculations&Results\n",
      "TsBYTfl=(1./3)*(ISCbyIFL)**2*Slip;#ratio of starting torque to full load torque\n",
      "print \"Starting torque is \",(TsBYTfl*100),\"% of full load value.\";\n",
      "print \"For an auto transformer :\";\n",
      "K=70.70;#in %\n",
      "K=70.70/100;#in fraction\n",
      "TsBYTfl=K**2*(ISCbyIFL)**2*Slip;#ratio of starting torque to full load torque\n",
      "print \"Starting torque is \",round(TsBYTfl*100),\"% of full load torque.\";"
     ],
     "language": "python",
     "metadata": {},
     "outputs": [
      {
       "output_type": "stream",
       "stream": "stdout",
       "text": [
        "Star delta starter :\n",
        "Starting torque is  48.0 % of full load value.\n",
        "For an auto transformer :\n",
        "Starting torque is  72.0 % of full load torque.\n"
       ]
      }
     ],
     "prompt_number": 176
    },
    {
     "cell_type": "heading",
     "level": 2,
     "metadata": {},
     "source": [
      "Example 2.52, Page 190"
     ]
    },
    {
     "cell_type": "code",
     "collapsed": false,
     "input": [
      "\n",
      "#Given data :\n",
      "V=400.;#in volt\n",
      "S=3.5;#in %\n",
      "S=3.5/100;#in fraction\n",
      "VL=92;#in volts\n",
      "\n",
      "#Calculations&Results\n",
      "#ISC=(V/VL)*IFL;#in Ampere\n",
      "ISCbyIFL=V/VL;#ratio of SC current to full load current\n",
      "#2*IFL=K^2*ISC imples that 2*IFL=K^2*(V/VL)*IFL\n",
      "K=sqrt(2./(V/VL));#in fraction\n",
      "print \"Necessary tapping(in %) :\",round((K*100),1);\n",
      "TsBYTfl=K**2*(ISCbyIFL)**2*S;#ratio of starting torque to full load torque\n",
      "print \"Starting torque is \",round((TsBYTfl*100),1),\"% of full load value.\";"
     ],
     "language": "python",
     "metadata": {},
     "outputs": [
      {
       "output_type": "stream",
       "stream": "stdout",
       "text": [
        "Necessary tapping(in %) : 67.8\n",
        "Starting torque is  30.4 % of full load value.\n"
       ]
      }
     ],
     "prompt_number": 179
    },
    {
     "cell_type": "heading",
     "level": 2,
     "metadata": {},
     "source": [
      "Example 2.53, Page 190"
     ]
    },
    {
     "cell_type": "code",
     "collapsed": false,
     "input": [
      "\n",
      "#Given data :\n",
      "ISCbyIFL=4;#ratio of SC current to full load current\n",
      "ISbyIFL=2;#ratio of Supply current to full load current\n",
      "S=2.5;#in %\n",
      "S=2.5/100;#in fraction\n",
      "\n",
      "#Calculations\n",
      "#Formula : ISbyIFL=(1/K^2)*ISCbyIFL\n",
      "K=sqrt(ISCbyIFL/ISbyIFL);#in fraction\n",
      "print \"Auto Transormation ratio :\",round(K,2);\n",
      "TsBYTfl=(1./K**2)*(ISCbyIFL)**2*S;#ratio of starting torque to full load torque\n",
      "\n",
      "#Results\n",
      "print \"Ratio of starting torque to full load torque :\",TsBYTfl;\n",
      "print \"or Starting torque is \",(TsBYTfl*100),\"% of full load value.\";"
     ],
     "language": "python",
     "metadata": {},
     "outputs": [
      {
       "output_type": "stream",
       "stream": "stdout",
       "text": [
        "Auto Transormation ratio : 1.41\n",
        "Ratio of starting torque to full load torque : 0.2\n",
        "or Starting torque is  20.0 % of full load value.\n"
       ]
      }
     ],
     "prompt_number": 180
    },
    {
     "cell_type": "heading",
     "level": 2,
     "metadata": {},
     "source": [
      "Example 2.54, Page 191"
     ]
    },
    {
     "cell_type": "code",
     "collapsed": false,
     "input": [
      "\n",
      "#Given data :\n",
      "ISCbyIFL=4;#ratio of SC current to full load current\n",
      "S=3;#in %\n",
      "S=3./100;#in fraction\n",
      "TsBYTfl=1./4;#ratio of starting torque to full load torque\n",
      "\n",
      "#Calculations\n",
      "#Formula : TsBYTfl=ISCbyIFL^2*K^2*S\n",
      "K=sqrt(TsBYTfl/(ISCbyIFL**2*S));#in fraction\n",
      "\n",
      "#Result\n",
      "print \"Auto Transormation ratio(in %) :\",round((K*100),2);"
     ],
     "language": "python",
     "metadata": {},
     "outputs": [
      {
       "output_type": "stream",
       "stream": "stdout",
       "text": [
        "Auto Transormation ratio(in %) : 72.17\n"
       ]
      }
     ],
     "prompt_number": 181
    },
    {
     "cell_type": "heading",
     "level": 2,
     "metadata": {},
     "source": [
      "Example 2.55, Page 191"
     ]
    },
    {
     "cell_type": "code",
     "collapsed": false,
     "input": [
      "from math import sqrt\n",
      "\n",
      "#Given data :\n",
      "Output=3;#in H.P.\n",
      "Output=3*735.5;#in watts\n",
      "Efficiency=0.83;#unitless\n",
      "cosfi=0.8;#power factor\n",
      "\n",
      "#Calculations\n",
      "Vl=500;#in volt\n",
      "Input=Output/Efficiency;#in watts\n",
      "#Formula : Input=sqrt(3)*Vl*Il*cosfi\n",
      "Il=Input/(sqrt(3)*Vl*cosfi);#in Ampere\n",
      "ISCbyIFL=3.5;#ratio of SC current to full load current\n",
      "ISC=ISCbyIFL*Il;#in Ampere\n",
      "LineCurrent=ISC/3;#in Ampere(for star delta starter)\n",
      "\n",
      "#Result\n",
      "print \"Line Current(in Ampere) :\",round(LineCurrent,2);\n",
      "#Note : Ans in the book is not accurate."
     ],
     "language": "python",
     "metadata": {},
     "outputs": [
      {
       "output_type": "stream",
       "stream": "stdout",
       "text": [
        "Line Current(in Ampere) : 4.48\n"
       ]
      }
     ],
     "prompt_number": 11
    },
    {
     "cell_type": "heading",
     "level": 2,
     "metadata": {},
     "source": [
      "Example 2.56, Page 192"
     ]
    },
    {
     "cell_type": "code",
     "collapsed": false,
     "input": [
      "from math import sqrt\n",
      "\n",
      "#Given data :\n",
      "Output=15;#in H.P.\n",
      "Output=15*735.5;#in watts\n",
      "Vl=400;#in volt\n",
      "ISCat200=40;#in Ampere(at 200 volt)\n",
      "Efficiency=0.88;#unitless\n",
      "cosfi=0.85;#power factor\n",
      "\n",
      "#Calculations\n",
      "ISCat400=ISCat200*(400./200);#in Ampere(at 400 volt)\n",
      "Input=Output/Efficiency;#in watts\n",
      "Ifl=Input/(sqrt(3)*Vl*cosfi);#in Ampere\n",
      "#starting line current with star delta starter\n",
      "Is=ISCat400/3;#in Ampere\n",
      "Ratio=Is/Ifl;#ratio of starting current to full load current\n",
      "\n",
      "#Result\n",
      "print \"Ratio of line current at starting to full load current :\",round(Ratio,2);"
     ],
     "language": "python",
     "metadata": {},
     "outputs": [
      {
       "output_type": "stream",
       "stream": "stdout",
       "text": [
        "Ratio of line current at starting to full load current : 1.25\n"
       ]
      }
     ],
     "prompt_number": 12
    },
    {
     "cell_type": "heading",
     "level": 2,
     "metadata": {},
     "source": [
      "Example 2.57, Page 192"
     ]
    },
    {
     "cell_type": "code",
     "collapsed": false,
     "input": [
      "from math import sqrt\n",
      "\n",
      "#Given data :\n",
      "#With star delta starter : \n",
      "TstBYTfl=0.35;#ratio of starting torque to full load torque\n",
      "IstBYIfl=1.75;#ratio of starting current to full load current\n",
      "\n",
      "#Calculations&Results\n",
      "ISCBYIs=sqrt(3);#ratio of SC current to starting current\n",
      "ISCBYIfl=sqrt(3)*IstBYIfl;#ratio of SC current to full load current\n",
      "#Formula : TstBYTfl=(ISCBYIfl)^2*S\n",
      "S=TstBYTfl/(ISCBYIfl)**2;#in fraction\n",
      "print \"Full load Slip : \",round(S,3);\n",
      "#With auto transformer with winding in delta : \n",
      "Ip=sqrt(3)*1.750*0.8;#full voltage phase current in Ampere\n",
      "IlBYIf=4.2;#ratio of Line current to full load current\n",
      "Ratio=IlBYIf**2*S;#ratio of starting current to full load current\n",
      "print \"Ratio of line current at starting to full load current :\",round(Ratio,2);"
     ],
     "language": "python",
     "metadata": {},
     "outputs": [
      {
       "output_type": "stream",
       "stream": "stdout",
       "text": [
        "Full load Slip :  0.038\n",
        "Ratio of line current at starting to full load current : 0.67\n"
       ]
      }
     ],
     "prompt_number": 13
    },
    {
     "cell_type": "heading",
     "level": 2,
     "metadata": {},
     "source": [
      "Example 2.58, Page 196"
     ]
    },
    {
     "cell_type": "code",
     "collapsed": false,
     "input": [
      "\n",
      "#Given data :\n",
      "f=50;#in Hz\n",
      "P=4;#no. of poles\n",
      "phase=3;#no. of phase\n",
      "R2=0.25;#in ohm per phase\n",
      "S=2;#in %\n",
      "S=2./100;#in fraction\n",
      "\n",
      "#Calculations\n",
      "Ns=120*f/P;#in rpm\n",
      "Nr=Ns-Ns*S;#in rpm\n",
      "#When speed reduced to 10%\n",
      "NewSpeed=Nr*90/100;#in rpm\n",
      "Sdash=(Ns-NewSpeed)/Ns;#in fraction\n",
      "R2dash=(Sdash/S)*R2;#in ohm per phase\n",
      "R=R2dash-R2;#in ohm\n",
      "\n",
      "#Result\n",
      "print \"Value of resistance to be added(in ohm) :\",R;"
     ],
     "language": "python",
     "metadata": {},
     "outputs": [
      {
       "output_type": "stream",
       "stream": "stdout",
       "text": [
        "Value of resistance to be added(in ohm) : 1.225\n"
       ]
      }
     ],
     "prompt_number": 114
    },
    {
     "cell_type": "heading",
     "level": 2,
     "metadata": {},
     "source": [
      "Example 2.59, Page 197"
     ]
    },
    {
     "cell_type": "code",
     "collapsed": false,
     "input": [
      "\n",
      "#Given data :\n",
      "f=50;#in Hz\n",
      "P=4;#no. of poles\n",
      "R2=0.25;#in ohm per phase\n",
      "N=1440.;#in rpm at full load\n",
      "NewSpeed=1200;#in rpm\n",
      "\n",
      "#Calculations&Results\n",
      "Ns=120*f/P;#in rpm\n",
      "S=(Ns-N)/Ns;#in %\n",
      "NewS=(Ns-NewSpeed)/Ns;#in fraction\n",
      "S1=S;S2=NewS;#slip new and old\n",
      "#Torque remaining same : S1/R2=S2/(R2+R)\n",
      "R=S2*R2/S1-R2;#in ohm\n",
      "print \"External resistance per phase(in ohm) :\",R;  #incorrect answer in textbook\n",
      "Nr=Ns-Ns*S;#in rpm\n",
      "#If S1 is taken as 0.03 and S2 as 0.127\n",
      "S1=0.03;#slip in fraction\n",
      "S2=0.127;#slip in fraction\n",
      "R=S2*R2/S1-R2;#in ohm\n",
      "print \"External resistance per phase(in ohm) :\",round(R,3);"
     ],
     "language": "python",
     "metadata": {},
     "outputs": [
      {
       "output_type": "stream",
       "stream": "stdout",
       "text": [
        "External resistance per phase(in ohm) : -0.25\n",
        "External resistance per phase(in ohm) : 0.808\n"
       ]
      }
     ],
     "prompt_number": 194
    },
    {
     "cell_type": "heading",
     "level": 2,
     "metadata": {},
     "source": [
      "Example 2.60, Page 198"
     ]
    },
    {
     "cell_type": "code",
     "collapsed": false,
     "input": [
      "\n",
      "#Given data :\n",
      "f=50;#in Hz\n",
      "P=4;#no. of poles\n",
      "phase=3;#no. of phase\n",
      "S=4;#in %\n",
      "S=4./100;#in fraction\n",
      "\n",
      "#Calculations&Results\n",
      "Ns=120*f/P;#in rpm\n",
      "N1=Ns-Ns*S;#in rpm\n",
      "#When speed reduced to 10%\n",
      "N2=N1*85/100;#in rpm(NewSpeed)\n",
      "print \"New speed(in rpm) :\",N2;\n",
      "#New speed is reduced by 15 %\n",
      "Sdash=(Ns-N2)/Ns;#in fraction\n",
      "print \"New Slip : \",Sdash;"
     ],
     "language": "python",
     "metadata": {},
     "outputs": [
      {
       "output_type": "stream",
       "stream": "stdout",
       "text": [
        "New speed(in rpm) : 1224.0\n",
        "New Slip :  0.184\n"
       ]
      }
     ],
     "prompt_number": 118
    },
    {
     "cell_type": "heading",
     "level": 2,
     "metadata": {},
     "source": [
      "Example 2.61, Page 202"
     ]
    },
    {
     "cell_type": "code",
     "collapsed": false,
     "input": [
      "\n",
      "#Given data :\n",
      "f=50;#in Hz\n",
      "P=4;#no. of poles\n",
      "phase=3;#no. of phase\n",
      "Pin=60;#in KW\n",
      "StatorLoss=1.2;#in KW\n",
      "WindingLoss=1.8;#in KW\n",
      "S=4;#in %\n",
      "S=4./100;#in fraction\n",
      "\n",
      "#Calculations&Results\n",
      "Ns=120*f/P;#in rpm\n",
      "Nr=Ns-Ns*S;#in rpm\n",
      "print \"Rotor speed(in rpm) :\",Nr;\n",
      "Pin_rotor=Pin-StatorLoss;#in KW\n",
      "RotorCuLoss=S*Pin_rotor;#in KW\n",
      "print \"Rotor Cu Loss(in KW) : \",RotorCuLoss;\n",
      "Pout_rotor=Pin_rotor-WindingLoss-RotorCuLoss;#in KW\n",
      "Efficiency=(Pout_rotor/Pin)*100;#in %\n",
      "print \"Efficiency(in %) :\",round(Efficiency);\n",
      "HP=Pout_rotor*10**3/735.5;#in H.P.\n",
      "print \"Horse Power(inH.P.) :\",round(HP,2);"
     ],
     "language": "python",
     "metadata": {},
     "outputs": [
      {
       "output_type": "stream",
       "stream": "stdout",
       "text": [
        "Rotor speed(in rpm) : 1440.0\n",
        "Rotor Cu Loss(in KW) :  2.352\n",
        "Efficiency(in %) : 91.0\n",
        "Horse Power(inH.P.) : 74.3\n"
       ]
      }
     ],
     "prompt_number": 195
    }
   ],
   "metadata": {}
  }
 ]
}