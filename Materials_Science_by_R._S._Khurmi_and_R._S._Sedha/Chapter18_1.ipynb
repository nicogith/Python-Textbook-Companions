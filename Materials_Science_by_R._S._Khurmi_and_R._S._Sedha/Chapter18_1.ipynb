{
 "metadata": {
  "name": "",
  "signature": "sha256:bc4f145530554f550ad02c41bb92fc1d8f9fdac80b4d0ae7b519b9e02a3d9b4f"
 },
 "nbformat": 3,
 "nbformat_minor": 0,
 "worksheets": [
  {
   "cells": [
    {
     "cell_type": "heading",
     "level": 1,
     "metadata": {},
     "source": [
      "Chapter18:Magnetic Materials"
     ]
    },
    {
     "cell_type": "heading",
     "level": 2,
     "metadata": {},
     "source": [
      "Ex18.1:pg-346"
     ]
    },
    {
     "cell_type": "code",
     "collapsed": false,
     "input": [
      "#Example 18.1 : magnetization and flux density\n",
      "import math\n",
      "#given data :\n",
      "mu0=4*math.pi*10**-7;\n",
      "H=10**4;# in A/m\n",
      "Xm=3.7*10**-3;# room temperature\n",
      "mu_r=1+Xm;\n",
      "B=mu0*mu_r*H;\n",
      "M=Xm*H;\n",
      "print \"{:.2e}\".format(B),\"= the flux density,B(Wb/m**2) \"\n",
      "print M,\"= magnetization,M(A/m) \"\n"
     ],
     "language": "python",
     "metadata": {},
     "outputs": [
      {
       "output_type": "stream",
       "stream": "stdout",
       "text": [
        "1.26e-02 = the flux density,B(Wb/m**2) \n",
        "37.0 = magnetization,M(A/m) \n"
       ]
      }
     ],
     "prompt_number": 1
    },
    {
     "cell_type": "heading",
     "level": 2,
     "metadata": {},
     "source": [
      "Ex18.2a:pg-350"
     ]
    },
    {
     "cell_type": "code",
     "collapsed": false,
     "input": [
      "#Example 18.2.a : saturation magnetization\n",
      " \n",
      "#given data :\n",
      "mu_b=9.27*10**-24;# A.m**2\n",
      "p=8.9; # in g/cm**3\n",
      "Na=6.023*10**23;# avogadro's number\n",
      "A=58.71; # in g/mol\n",
      "n=((p*Na)/A)*10**6;\n",
      "Ms=0.60*mu_b*n;\n",
      "print \"{:.1e}\".format(Ms),\"= saturation magnetization,Ms(A/m) \"\n",
      "# the answe ris slightly different in textbook due to approximation"
     ],
     "language": "python",
     "metadata": {},
     "outputs": [
      {
       "output_type": "stream",
       "stream": "stdout",
       "text": [
        "5.1e+05 = saturation magnetization,Ms(A/m) \n"
       ]
      }
     ],
     "prompt_number": 3
    },
    {
     "cell_type": "heading",
     "level": 2,
     "metadata": {},
     "source": [
      "Ex18.2b:pg-350"
     ]
    },
    {
     "cell_type": "code",
     "collapsed": false,
     "input": [
      "#Example 18.2.b : saturation flux density\n",
      "import math\n",
      "#given data :\n",
      "\n",
      "mu0=4*math.pi*10**-7;\n",
      "mu_b=9.27*10**-24;# A.m**2\n",
      "p=8.9; # in g/cm**3\n",
      "Na=6.023*10**23;# avogadro's number\n",
      "A=58.71; # in g/mol\n",
      "n=((p*Na)/A)*10**6;\n",
      "Ms=0.60*mu_b*n;\n",
      "Bs=mu0*Ms;\n",
      "print round(Bs,2),\"= saturation flux density,Bs(tesla) \"\n"
     ],
     "language": "python",
     "metadata": {},
     "outputs": [
      {
       "output_type": "stream",
       "stream": "stdout",
       "text": [
        "0.64 = saturation flux density,Bs(tesla) \n"
       ]
      }
     ],
     "prompt_number": 4
    },
    {
     "cell_type": "heading",
     "level": 2,
     "metadata": {},
     "source": [
      "Ex18.3:pg-351"
     ]
    },
    {
     "cell_type": "code",
     "collapsed": false,
     "input": [
      "#Example 18.3 : magnetic moment\n",
      "import math \n",
      "#given data :\n",
      "\n",
      "mu0=4*math.pi*10**-7;\n",
      "mu_b=9.27*10**-24;# A.m**2\n",
      "p=8.9; # in g/cm**3\n",
      "Na=6.023*10**23;# avogadro's number\n",
      "A=58.71; # in g/mol\n",
      "n=((p*Na)/A)*10**6;\n",
      "Bs=0.65;#in Wb/m**2\n",
      "Ms=Bs/mu0;\n",
      "m_mu_b=Ms/n;\n",
      "print round(m_mu_b,26),\" is saturation magnetisation,m_mu_b(A.m**2) \"\n"
     ],
     "language": "python",
     "metadata": {},
     "outputs": [
      {
       "output_type": "stream",
       "stream": "stdout",
       "text": [
        "5.67e-24  is saturation magnetisation,m_mu_b(A.m**2) \n"
       ]
      }
     ],
     "prompt_number": 11
    },
    {
     "cell_type": "heading",
     "level": 2,
     "metadata": {},
     "source": [
      "Ex18.4:pg-355"
     ]
    },
    {
     "cell_type": "code",
     "collapsed": false,
     "input": [
      "#Example 18.4 : power loss\n",
      " \n",
      "#given data :\n",
      "V=0.01;#in m**3\n",
      "f=50;# in Hz\n",
      "area=600;#in jm**-1\n",
      "Wh=area*V*f;\n",
      "print Wh,\"= power loss,Wh(watts) \"\n"
     ],
     "language": "python",
     "metadata": {},
     "outputs": [
      {
       "output_type": "stream",
       "stream": "stdout",
       "text": [
        "300.0 = power loss,Wh(watts) \n"
       ]
      }
     ],
     "prompt_number": 12
    },
    {
     "cell_type": "heading",
     "level": 2,
     "metadata": {},
     "source": [
      "Ex18.5:pg-355"
     ]
    },
    {
     "cell_type": "code",
     "collapsed": false,
     "input": [
      "#Example 18.4 : los of energy\n",
      " \n",
      "#given data :\n",
      "mass=10.0;# in kg\n",
      "energy_loss=250.0;# in J/m**2\n",
      "#energy loss at the rate of 50 cycles/s\n",
      "E=energy_loss*50.0;# in J/m**3\n",
      "E_loss=E*3600.0;#in J/m**3\n",
      "D=7500.0;#density in kg/m**3\n",
      "Volume=mass/D;\n",
      "energy_loss_per_hour=E_loss/Volume;\n",
      "print \"{:.1e}\".format(energy_loss_per_hour),\"= energy_loss_per_hour(J/hour) \"\n",
      "\n",
      "# answer is incorrect in textbook"
     ],
     "language": "python",
     "metadata": {},
     "outputs": [
      {
       "output_type": "stream",
       "stream": "stdout",
       "text": [
        "3.4e+10 = energy_loss_per_hour(J/hour) \n"
       ]
      }
     ],
     "prompt_number": 5
    }
   ],
   "metadata": {}
  }
 ]
}