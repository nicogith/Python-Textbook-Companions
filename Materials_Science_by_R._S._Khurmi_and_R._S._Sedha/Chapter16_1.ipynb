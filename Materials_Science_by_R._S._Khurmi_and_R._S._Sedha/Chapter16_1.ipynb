{
 "metadata": {
  "name": "",
  "signature": "sha256:7de7bac9701b444eddc88961b7eb9eeb7cb67a83da1ca69ef2052c0cb80692d5"
 },
 "nbformat": 3,
 "nbformat_minor": 0,
 "worksheets": [
  {
   "cells": [
    {
     "cell_type": "heading",
     "level": 1,
     "metadata": {},
     "source": [
      "Chapter16:Semiconductors"
     ]
    },
    {
     "cell_type": "heading",
     "level": 2,
     "metadata": {},
     "source": [
      "Ex16.1:pg-315"
     ]
    },
    {
     "cell_type": "code",
     "collapsed": false,
     "input": [
      "#Example 16.1 : concentration\n",
      "\n",
      "#given data :\n",
      "e=1.602*10**-19;# Coulomb\n",
      "sigma_i=5*10**-4;# in ohm/m\n",
      "mu_n=0.14;# in m**2/V-sec\n",
      "mu_p=0.05;# in m**2/V-sec\n",
      "n_i=sigma_i/(e*(mu_n+mu_p));\n",
      "print round(n_i*10**6,-20),\"= the concentration,n_i(/cm**3)  \"\n"
     ],
     "language": "python",
     "metadata": {},
     "outputs": [
      {
       "output_type": "stream",
       "stream": "stdout",
       "text": [
        "1.64e+22 = the concentration,n_i(/cm**3)  \n"
       ]
      }
     ],
     "prompt_number": 27
    },
    {
     "cell_type": "heading",
     "level": 2,
     "metadata": {},
     "source": [
      "Ex16.2:pg-315"
     ]
    },
    {
     "cell_type": "code",
     "collapsed": false,
     "input": [
      "#Example 16.2 : intrinsic carrier\n",
      " \n",
      "\n",
      "#given data :\n",
      "e=1.602*10**-19; # Coulomb\n",
      "p_i=2*10**-4;# in ohm-m\n",
      "mu_n=6;# in m**2/V-sec\n",
      "mu_p=0.2;# in m**2/V-sec\n",
      "n_i=1/(e*(mu_n+mu_p)*p_i);\n",
      "print round(n_i,-19),\"= the intrinsic carrier,n_i(/m**3) \"\n"
     ],
     "language": "python",
     "metadata": {},
     "outputs": [
      {
       "output_type": "stream",
       "stream": "stdout",
       "text": [
        "5.03e+21 = the intrinsic carrier,n_i(/m**3) \n"
       ]
      }
     ],
     "prompt_number": 28
    },
    {
     "cell_type": "heading",
     "level": 2,
     "metadata": {},
     "source": [
      "Ex16.3:pg-315"
     ]
    },
    {
     "cell_type": "code",
     "collapsed": false,
     "input": [
      "#Example 16.3 : neglect the intrinsic conductivity\n",
      " \n",
      "\n",
      "#given data :\n",
      "e=1.6*10**-19; # Coulomb\n",
      "sigma=10**-12;# in mhos/m\n",
      "mu_n=0.18;# in m**2/V-sec\n",
      "n=sigma/(e*mu_n);\n",
      "N=n; # amount of n type impurity\n",
      "print \"{:.2e}\".format(N),\"in(/m**3)  \"\n",
      "# The answer is slightly different in textbook due to approximation"
     ],
     "language": "python",
     "metadata": {},
     "outputs": [
      {
       "output_type": "stream",
       "stream": "stdout",
       "text": [
        "3.47e+07 in(/m**3)  \n"
       ]
      }
     ],
     "prompt_number": 1
    },
    {
     "cell_type": "heading",
     "level": 2,
     "metadata": {},
     "source": [
      "Ex16.4:pg-315"
     ]
    },
    {
     "cell_type": "code",
     "collapsed": false,
     "input": [
      "#Example 16.4 : number of electron carriers\n",
      " \n",
      "\n",
      "#given data :\n",
      "e=1.6*10**-19; # Coulomb\n",
      "p=20*10**-2;# in ohm-m\n",
      "mu_n=100*10**-4;# in m**2/V-sec\n",
      "n=1/(e*mu_n*p);\n",
      "print round(n,-19),\"= number of electrons carrier,n(/m**3)  \"\n"
     ],
     "language": "python",
     "metadata": {},
     "outputs": [
      {
       "output_type": "stream",
       "stream": "stdout",
       "text": [
        "3.12e+21 = number of electrons carrier,n(/m**3)  \n"
       ]
      }
     ],
     "prompt_number": 30
    },
    {
     "cell_type": "heading",
     "level": 2,
     "metadata": {},
     "source": [
      "Ex16.5:pg-316"
     ]
    },
    {
     "cell_type": "code",
     "collapsed": false,
     "input": [
      "#Example 16.5 : concentration of impurity\n",
      "import math\n",
      "e=1.6*10**-19;# Coulomb\n",
      "l=10;#in mm\n",
      "d=1;#in mm\n",
      "r=100;#in ohms\n",
      "up=0.19;#mobilty of electrons in V-sec\n",
      "a=(math.pi*((d*10**-3)**2))/4;#area in m**2\n",
      "p=((r*a))/(l*10**-3);#resistivity in Ohm-cm\n",
      "n=((1/(p*e*up)));#concentration in per m**3\n",
      "print round(n,-19),\"is impurity concentration is in per m**3\"\n"
     ],
     "language": "python",
     "metadata": {},
     "outputs": [
      {
       "output_type": "stream",
       "stream": "stdout",
       "text": [
        "4.19e+21 is impurity concentration is in per m**3\n"
       ]
      }
     ],
     "prompt_number": 32
    },
    {
     "cell_type": "heading",
     "level": 2,
     "metadata": {},
     "source": [
      "Ex16.6:pg-316"
     ]
    },
    {
     "cell_type": "code",
     "collapsed": false,
     "input": [
      "#Example 16.6 : intrinsic carrier density\n",
      " \n",
      "#given data :\n",
      "\n",
      "e=1.602*10**-19; # in coulomb\n",
      "p=3000.0;# in ohm/m\n",
      "sigma=1/p;# in ohm/m\n",
      "mu_n=0.14;# in m**2/V-sec\n",
      "mu_p=0.05;# in m**2/V-sec\n",
      "n_i=sigma/(e*(mu_n+mu_p));\n",
      "print round(n_i,-13),\"is the concentration,n_i(/m**3) \"\n"
     ],
     "language": "python",
     "metadata": {},
     "outputs": [
      {
       "output_type": "stream",
       "stream": "stdout",
       "text": [
        "1.095e+16 is the concentration,n_i(/m**3) \n"
       ]
      }
     ],
     "prompt_number": 39
    },
    {
     "cell_type": "heading",
     "level": 2,
     "metadata": {},
     "source": [
      "Ex16.7:pg-317"
     ]
    },
    {
     "cell_type": "code",
     "collapsed": false,
     "input": [
      "#Example 16.7 : conductivity\n",
      " \n",
      "#given data :\n",
      "e=1.602*10**-19; # in coulomb\n",
      "n_i=5.021*10**15; # in m**-3\n",
      "mu_n=0.48;# in m**2/V-sec\n",
      "mu_p=0.013;# in m**2/V-sec\n",
      "sigma=n_i*(e*(mu_n+mu_p));\n",
      "print \"{:.3e}\".format(sigma),\"= the conductivity,sigma(ohm**-1 m**-1)  \"\n"
     ],
     "language": "python",
     "metadata": {},
     "outputs": [
      {
       "output_type": "stream",
       "stream": "stdout",
       "text": [
        "3.966e-04 = the conductivity,sigma(ohm**-1 m**-1)  \n"
       ]
      }
     ],
     "prompt_number": 4
    }
   ],
   "metadata": {}
  }
 ]
}