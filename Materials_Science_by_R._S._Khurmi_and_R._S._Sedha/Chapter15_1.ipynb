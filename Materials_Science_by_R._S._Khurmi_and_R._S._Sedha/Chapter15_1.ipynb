{
 "metadata": {
  "name": "",
  "signature": "sha256:7315f4cd0dbe1ea8c121564011c9ce9945618f308024d617157c5ed6076bc7d9"
 },
 "nbformat": 3,
 "nbformat_minor": 0,
 "worksheets": [
  {
   "cells": [
    {
     "cell_type": "heading",
     "level": 1,
     "metadata": {},
     "source": [
      "Chapter15:Composite Materials and Ceramics"
     ]
    },
    {
     "cell_type": "heading",
     "level": 2,
     "metadata": {},
     "source": [
      "Ex15.1:pg-299"
     ]
    },
    {
     "cell_type": "code",
     "collapsed": false,
     "input": [
      "#Example 15.1 : colume ratio of aluminium and boron\n",
      " \n",
      "import numpy.linalg as lin\n",
      "yal=715;# in GN/,**2\n",
      "yfe=210;# in GN/,**2\n",
      "yb=440;# in GN/,**2\n",
      "A=numpy.array([[71, 71],[71, 440]]);#\n",
      "B=numpy.array([71,210]);#\n",
      "X=lin.solve(A,B)\n",
      "print round(X[0],3),\"is volume ratio of aluminium \"\n",
      "print round(X[1],3),\"is volume ratio of boron \"\n"
     ],
     "language": "python",
     "metadata": {},
     "outputs": [
      {
       "output_type": "stream",
       "stream": "stdout",
       "text": [
        "0.623 is volume ratio of aluminium \n",
        "0.377 is volume ratio of boron \n"
       ]
      }
     ],
     "prompt_number": 5
    }
   ],
   "metadata": {}
  }
 ]
}