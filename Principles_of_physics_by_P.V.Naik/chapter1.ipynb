{
 "metadata": {
  "name": "",
  "signature": "sha256:aa8849d14e0b72277789cfe0c1cc3e7e66ca9061ac47dccbae27561c50c68d32"
 },
 "nbformat": 3,
 "nbformat_minor": 0,
 "worksheets": [
  {
   "cells": [
    {
     "cell_type": "heading",
     "level": 1,
     "metadata": {},
     "source": [
      "Chapter 1 Motion"
     ]
    },
    {
     "cell_type": "heading",
     "level": 2,
     "metadata": {},
     "source": [
      "Example 1.1 Page no 17"
     ]
    },
    {
     "cell_type": "code",
     "collapsed": false,
     "input": [
      "#given\n",
      "d=180                              #Distance of satellite above the surface of earth in km\n",
      "t=90                               #Time taken to complete one revolution of the earth in minutes\n",
      "r=6400                             #Radius of the earth in kms\n",
      "\n",
      "#Calculations\n",
      "R=(r+d)*1000\n",
      "T=t*60\n",
      "v=(2*3.14*R)/T\n",
      "a=(v**2/R)\n",
      "\n",
      "#Output\n",
      "print\"Orbital speed is \",round(v,0),\"m/s\"  \n",
      "print\"Centripetal acceleration is \",round(a,1),\"m/s**2\"\n"
     ],
     "language": "python",
     "metadata": {},
     "outputs": [
      {
       "output_type": "stream",
       "stream": "stdout",
       "text": [
        "Orbital speed is  7652.0 m/s\n",
        "Centripetal acceleration is  8.9 m/s**2\n"
       ]
      }
     ],
     "prompt_number": 3
    },
    {
     "cell_type": "heading",
     "level": 2,
     "metadata": {},
     "source": [
      "Example 1.2 Page no 17"
     ]
    },
    {
     "cell_type": "code",
     "collapsed": false,
     "input": [
      "#given\n",
      "m=0.05                           #Mass of the stone in kg\n",
      "r=0.4                            #Radius of the string in m\n",
      "\n",
      "#Calculations\n",
      "import math\n",
      "vh=math.sqrt(9.8*r)\n",
      "vl=math.sqrt((2/m)*(((1/2.0)*m*vh**2)+(m*9.8*2*r)))\n",
      "\n",
      "#Output\n",
      "print\"Minimum speed when the stone is at the top of the circle is \",round(vh,2),\"m/s\" \n",
      "print\"Minimum speed when the stone is at the bottom of the circle is \",round(vl,2),\"m/s\"\n"
     ],
     "language": "python",
     "metadata": {},
     "outputs": [
      {
       "output_type": "stream",
       "stream": "stdout",
       "text": [
        "Minimum speed when the stone is at the top of the circle is  1.98 m/s\n",
        "Minimum speed when the stone is at the bottom of the circle is  4.43 m/s\n"
       ]
      }
     ],
     "prompt_number": 7
    },
    {
     "cell_type": "heading",
     "level": 2,
     "metadata": {},
     "source": [
      "Example 1.3 Page no 17"
     ]
    },
    {
     "cell_type": "code",
     "collapsed": false,
     "input": [
      "#given\n",
      "m=0.2                             #Mass of the ball in kg\n",
      "r=1.5                             #Radius of vertical circle in m\n",
      "q=35                              #Angle made by the ball in degrees\n",
      "v=6                               #Velocity of the ball in m/s\n",
      "\n",
      "#Calculations\n",
      "import math\n",
      "T=(m*((v**2/r)+(9.8*math.cos(q*3.14/180.0))))\n",
      "at=9.8*math.sin(q*3.14/180.0)\n",
      "ar=(v**2/r)\n",
      "a=math.sqrt(at**2+ar**2)\n",
      "\n",
      "#Output\n",
      "print\"Tension in the string is \",round(T,1),\"N\" \n",
      "print\"Tangential acceleration is \",round(at,2),\"m/s**2\"  \n",
      "print\"Radial acceleration is \",ar,\"m/s**2\"\n"
     ],
     "language": "python",
     "metadata": {},
     "outputs": [
      {
       "output_type": "stream",
       "stream": "stdout",
       "text": [
        "Tension in the string is  6.4 N\n",
        "Tangential acceleration is  5.62 m/s**2\n",
        "Radial acceleration is  24.0 m/s**2\n"
       ]
      }
     ],
     "prompt_number": 14
    },
    {
     "cell_type": "heading",
     "level": 2,
     "metadata": {},
     "source": [
      "Example 1.4 Page no 17"
     ]
    },
    {
     "cell_type": "code",
     "collapsed": false,
     "input": [
      "#given\n",
      "#A small ball is released from height of 4r measured from the bottom of the loop, where r is the radius of the loop\n",
      "\n",
      "#Calculations\n",
      "import math\n",
      "ar=(6*9.8)\n",
      "at=(9.8*math.sin(90*3.14/180.0))\n",
      "\n",
      "#Output\n",
      "print\"Radial acceleration is \",ar,\"m/s**2\"\n",
      "print\"Tangential acceleration is \",round(at,1),\"m/s**2\"\n"
     ],
     "language": "python",
     "metadata": {},
     "outputs": [
      {
       "output_type": "stream",
       "stream": "stdout",
       "text": [
        "Radial acceleration is  58.8 m/s**2\n",
        "Tangential acceleration is  9.8 m/s**2\n"
       ]
      }
     ],
     "prompt_number": 18
    },
    {
     "cell_type": "heading",
     "level": 2,
     "metadata": {},
     "source": [
      "Example 1.5 Page no 18"
     ]
    },
    {
     "cell_type": "code",
     "collapsed": false,
     "input": [
      "#given\n",
      "l=0.95                                  #Length of the strring in m\n",
      "m=0.15                                  #Mass of the bob in kg\n",
      "r=0.25                                  #Radius of the circle in m\n",
      "\n",
      "#Calculations\n",
      "import math\n",
      "h=math.sqrt(l**2-r**2)\n",
      "t=2*3.14*math.sqrt(h/9.8)\n",
      "\n",
      "#Output\n",
      "print\"The period of rotation is \",round(t,2),\"s\"\n"
     ],
     "language": "python",
     "metadata": {},
     "outputs": [
      {
       "output_type": "stream",
       "stream": "stdout",
       "text": [
        "The period of rotation is  1.92 s\n"
       ]
      }
     ],
     "prompt_number": 21
    },
    {
     "cell_type": "heading",
     "level": 2,
     "metadata": {},
     "source": [
      "Example 1.6 Page no 18"
     ]
    },
    {
     "cell_type": "code",
     "collapsed": false,
     "input": [
      "#given\n",
      "N=40.0                                  #Minimum speed of rotor in rpm\n",
      "r=2.5                                   #Radius of rotor in m\n",
      "\n",
      "#Calculations\n",
      "t=60/N\n",
      "u=(9.8*t**2)/(4.0*3.14**2*r)\n",
      "\n",
      "#Output\n",
      "print\"The coefficient of limiting friction between the object and the wall of the rotor is \",round(u,3)\n"
     ],
     "language": "python",
     "metadata": {},
     "outputs": [
      {
       "output_type": "stream",
       "stream": "stdout",
       "text": [
        "The coefficient of limiting friction between the object and the wall of the rotor is  0.224\n"
       ]
      }
     ],
     "prompt_number": 3
    },
    {
     "cell_type": "heading",
     "level": 2,
     "metadata": {},
     "source": [
      "Example 1.7 Page no 18"
     ]
    },
    {
     "cell_type": "code",
     "collapsed": false,
     "input": [
      "#given\n",
      "a=30                                  #Angle of inclination in degrees\n",
      "t=3                                   #Time in s\n",
      "\n",
      "#Calculations\n",
      "import math\n",
      "a=(9.8*math.sin(a*3.14/180.0))\n",
      "v=(0+a*t)\n",
      "\n",
      "#Output\n",
      "print\"Speed of the block after \",t,\"s is \",round(v,1),\"m/s\"\n"
     ],
     "language": "python",
     "metadata": {},
     "outputs": [
      {
       "output_type": "stream",
       "stream": "stdout",
       "text": [
        "Speed of the block after  3 s is  14.7 m/s\n"
       ]
      }
     ],
     "prompt_number": 27
    },
    {
     "cell_type": "heading",
     "level": 2,
     "metadata": {},
     "source": [
      "Example 1.8 Page no 19"
     ]
    },
    {
     "cell_type": "code",
     "collapsed": false,
     "input": [
      "#given\n",
      "m=10.0                            #Mass of the block in kg\n",
      "F1=40                            #Horizontal force to start moving in N\n",
      "F2=32                            #Horizontal force to move with constant velocity in N\n",
      "\n",
      "#Calculations\n",
      "u1=(F1/(m*9.8))\n",
      "u2=(F2/(m*9.8))\n",
      "\n",
      "#Output\n",
      "print\"Coefficient of static friction is \",round(u1,3)\n",
      "print\"Coefficient of kinetic friction is \",round(u2,4)\n"
     ],
     "language": "python",
     "metadata": {},
     "outputs": [
      {
       "output_type": "stream",
       "stream": "stdout",
       "text": [
        "Coefficient of static friction is  0.408\n",
        "Coefficient of kinetic friction is  0.3265\n"
       ]
      }
     ],
     "prompt_number": 6
    },
    {
     "cell_type": "heading",
     "level": 2,
     "metadata": {},
     "source": [
      "Example 1.9 Page no 19"
     ]
    },
    {
     "cell_type": "code",
     "collapsed": false,
     "input": [
      "#given\n",
      "m=(3,12)                               #Masses of the blocks in kg\n",
      "q=50                                   #Angle made by the string in degrees\n",
      "a=3                                    #Acceleration of 12kg block in m/s^2\n",
      "\n",
      "#Calculations\n",
      "import math\n",
      "T=m[0]*(9.8+a)\n",
      "u=(m[1]*(9.8*math.sin(q*3.14/180.0)-a)-T)/(m[1]*9.8*math.cos(q*3.14/180.0))\n",
      "\n",
      "#Output\n",
      "print\"Tension in the string is \",T,\"N\"  \n",
      "print\"The coefficient of kinetic friction is \",round(u,3)\n"
     ],
     "language": "python",
     "metadata": {},
     "outputs": [
      {
       "output_type": "stream",
       "stream": "stdout",
       "text": [
        "Tension in the string is  38.4 N\n",
        "The coefficient of kinetic friction is  0.207\n"
       ]
      }
     ],
     "prompt_number": 54
    },
    {
     "cell_type": "heading",
     "level": 2,
     "metadata": {},
     "source": [
      "Example 1.e.1 Page no 9"
     ]
    },
    {
     "cell_type": "code",
     "collapsed": false,
     "input": [
      "#given\n",
      "w=50                                           #Weight in N\n",
      "a=(40,50)                                      #Angles made by two cables in degrees\n",
      "\n",
      "#Calculations\n",
      "#Solving two equations obtained from fig. 1.10 on page no.10\n",
      "#-T1cos40+T2cos50=0\n",
      "#T1sin40+T2sin50=50\n",
      "import math\n",
      "A = array([[math.cos(a[1]*3.14/180.0),-math.cos(a[0]*3.14/180.0)], \n",
      "           [math.sin(a[0]*3.14/180.0),math.sin(a[1]*3.14/180.0)]])\n",
      "b = array([0,50])\n",
      "X = solve(A, b)\n",
      "T2=X[1]\n",
      "print \"T2=\",round(T2,1),\"N\"\n",
      "T1=(math.cos(a[1]*3.14/180.0)/math.cos(a[0]*3.14/180.0))*T2\n",
      "print \"T1\",round(T1,1),\"N\""
     ],
     "language": "python",
     "metadata": {},
     "outputs": [
      {
       "output_type": "stream",
       "stream": "stdout",
       "text": [
        "T2= 32.7 N\n",
        "T1 27.4 N\n"
       ]
      }
     ],
     "prompt_number": 10
    },
    {
     "cell_type": "heading",
     "level": 2,
     "metadata": {},
     "source": [
      "Example 1.e.5 Page no 13"
     ]
    },
    {
     "cell_type": "code",
     "collapsed": false,
     "input": [
      "#given\n",
      "m=100.0                                    #Mass of block in kg\n",
      "F=500                                      #Force in N\n",
      "q=30                                       #Angle made with the horizontal in degrees\n",
      "u=0.4                                      #Coefficient of sliding friction\n",
      "\n",
      "#Calculations\n",
      "R=m*9.8\n",
      "f=(u*R)\n",
      "a=(F*math.cos(q*3.14/180.0)-f)/m\n",
      "\n",
      "#Output\n",
      "print\"The acceleration of the block is \",round(a,2),\"m/s**2\"\n"
     ],
     "language": "python",
     "metadata": {},
     "outputs": [
      {
       "output_type": "stream",
       "stream": "stdout",
       "text": [
        "The acceleration of the block is  0.41 m/s**2\n"
       ]
      }
     ],
     "prompt_number": 56
    },
    {
     "cell_type": "heading",
     "level": 2,
     "metadata": {},
     "source": [
      "Example 1.e.6 Page no 14"
     ]
    },
    {
     "cell_type": "code",
     "collapsed": false,
     "input": [
      "#given\n",
      "m=(20.0,80.0)                               #Masses of blocks in kg\n",
      "F=1000                                  #Force with which 20kg block is pulled in N\n",
      "\n",
      "#Calculations\n",
      "a=F/(m[0]+m[1])\n",
      "T=F-(m[0]*a)\n",
      "\n",
      "#Output\n",
      "print\"The acceleration produced is \",a,\"m/s^2\" \n",
      "print\"The tension in the string connecting the blocks is \",T,\"N\"\n"
     ],
     "language": "python",
     "metadata": {},
     "outputs": [
      {
       "output_type": "stream",
       "stream": "stdout",
       "text": [
        "The acceleration produced is  10.0 m/s^2\n",
        "The tension in the string connecting the blocks is  800.0 N\n"
       ]
      }
     ],
     "prompt_number": 1
    },
    {
     "cell_type": "heading",
     "level": 2,
     "metadata": {},
     "source": [
      "Example 1.e.8 Page no 15"
     ]
    },
    {
     "cell_type": "code",
     "collapsed": false,
     "input": [
      "#given\n",
      "w=588                                 #Weight of the person in N\n",
      "a=3                                   #Acceleration in m/s^2\n",
      "b=180\n",
      "\n",
      "#Calculations\n",
      "m=(w/9.8)\n",
      "P=(w+(m*a))\n",
      "p=w-b\n",
      "\n",
      "#Output\n",
      "print\"Weight of the person when the elevator is accelerated upwards is \",P,\"N\"\n",
      "print\"Weight of the person when the elevator is accelerated upwards is \",p,\"N\"\n"
     ],
     "language": "python",
     "metadata": {},
     "outputs": [
      {
       "output_type": "stream",
       "stream": "stdout",
       "text": [
        "Weight of the person when the elevator is accelerated upwards is  768.0 N\n",
        "Weight of the person when the elevator is accelerated upwards is  408 N\n"
       ]
      }
     ],
     "prompt_number": 1
    }
   ],
   "metadata": {}
  }
 ]
}