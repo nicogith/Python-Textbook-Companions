{
 "metadata": {
  "name": "",
  "signature": "sha256:3f76c4dafe83129bfa41f6667339b27d23cec6e550015e787119c4ce10873761"
 },
 "nbformat": 3,
 "nbformat_minor": 0,
 "worksheets": [
  {
   "cells": [
    {
     "cell_type": "heading",
     "level": 1,
     "metadata": {},
     "source": [
      "Chapter 10 Difraction"
     ]
    },
    {
     "cell_type": "heading",
     "level": 2,
     "metadata": {},
     "source": [
      "Example 10.1 Page no 154"
     ]
    },
    {
     "cell_type": "code",
     "collapsed": false,
     "input": [
      "#given\n",
      "D=1                                   #Distance of screen from the slit in m\n",
      "w=6000                                #Wavelength in Angstrom\n",
      "w1=0.6                                #Slit width in mm\n",
      "\n",
      "#Calculations\n",
      "x=((2*D*w*10**-10)/(w1*10**-3))*1000\n",
      "\n",
      "#Output\n",
      "print\"Width of central band is \",x,\"mm\"\n"
     ],
     "language": "python",
     "metadata": {},
     "outputs": [
      {
       "output_type": "stream",
       "stream": "stdout",
       "text": [
        "Width of central band is  2.0 mm\n"
       ]
      }
     ],
     "prompt_number": 1
    },
    {
     "cell_type": "heading",
     "level": 2,
     "metadata": {},
     "source": [
      "Example 10.2 Page no 155"
     ]
    },
    {
     "cell_type": "code",
     "collapsed": false,
     "input": [
      "#given\n",
      "d1=6000.0                             #Diffraction grating have number of lines per cm\n",
      "q=50                                  #Diffracted second order spectral line observed in degrees\n",
      "n=2                                   #Second order\n",
      "\n",
      "#Calculations\n",
      "import math\n",
      "w=(math.sin(q*3.14/180.0)/(d1*n))*10**8\n",
      "\n",
      "#Output\n",
      "print\"Wavelength of radiation is \",round(w,1),\"Angstrom\"\n"
     ],
     "language": "python",
     "metadata": {},
     "outputs": [
      {
       "output_type": "stream",
       "stream": "stdout",
       "text": [
        "Wavelength of radiation is  6381.3 Angstrom\n"
       ]
      }
     ],
     "prompt_number": 1
    },
    {
     "cell_type": "heading",
     "level": 2,
     "metadata": {},
     "source": [
      "Example 10.3 Page no 155"
     ]
    },
    {
     "cell_type": "code",
     "collapsed": false,
     "input": [
      "#given\n",
      "d1=6000                      #Diffraction grating have number of lines per cm\n",
      "w=6000                       #Wavelength in Angstrom\n",
      "\n",
      "#Calculations\n",
      "n=(1/(d1*w*10**-8))\n",
      "\n",
      "#Output\n",
      "print\"Maximum order of diffraction that can be observed is \",round(n,2)\n"
     ],
     "language": "python",
     "metadata": {},
     "outputs": [
      {
       "output_type": "stream",
       "stream": "stdout",
       "text": [
        "Maximum order of diffraction that can be observed is  2.78\n"
       ]
      }
     ],
     "prompt_number": 5
    },
    {
     "cell_type": "heading",
     "level": 2,
     "metadata": {},
     "source": [
      "Example 10.4 Page no 155"
     ]
    },
    {
     "cell_type": "code",
     "collapsed": false,
     "input": [
      "#given\n",
      "B=(3*3.14)/2                           #First secondary maxima at B\n",
      "\n",
      "#Calculations\n",
      "import math\n",
      "I=(math.sin(B)/B)**2\n",
      "\n",
      "#Output\n",
      "print\"Ratio of intensity of central maxima to first secondary maxima is \",round(I,3)\n"
     ],
     "language": "python",
     "metadata": {},
     "outputs": [
      {
       "output_type": "stream",
       "stream": "stdout",
       "text": [
        "Ratio of intensity of central maxima to first secondary maxima is  0.045\n"
       ]
      }
     ],
     "prompt_number": 7
    },
    {
     "cell_type": "heading",
     "level": 2,
     "metadata": {},
     "source": [
      "Example 10.5 Page no 155"
     ]
    },
    {
     "cell_type": "code",
     "collapsed": false,
     "input": [
      "#given\n",
      "w=6400                                        #Wave length of light in Angstrom\n",
      "w1=0.3                                        #Slit width in mm\n",
      "d=110                                         #Distance of screen from the slit in cm\n",
      "n=3                                           #order\n",
      "\n",
      "#Calculations\n",
      "x=((n*w*10**-10*(d/100.0))/(w1*10**-3))*1000\n",
      "\n",
      "#Output\n",
      "print\"Distance between the centre of the central maximum and the third dark fringe is \",x,\"mm\"\n"
     ],
     "language": "python",
     "metadata": {},
     "outputs": [
      {
       "output_type": "stream",
       "stream": "stdout",
       "text": [
        "Distance between the centre of the central maximum and the third dark fringe is  7.04 mm\n"
       ]
      }
     ],
     "prompt_number": 8
    }
   ],
   "metadata": {}
  }
 ]
}