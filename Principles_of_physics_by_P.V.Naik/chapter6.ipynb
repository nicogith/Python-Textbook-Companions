{
 "metadata": {
  "name": "",
  "signature": "sha256:07e7b9e13f5186e21c37c016dc92fe3d2ec9f35cd561874f30d6be57401876f8"
 },
 "nbformat": 3,
 "nbformat_minor": 0,
 "worksheets": [
  {
   "cells": [
    {
     "cell_type": "heading",
     "level": 1,
     "metadata": {},
     "source": [
      "Chapter 6 Real Gas and Transport Processes in gas"
     ]
    },
    {
     "cell_type": "heading",
     "level": 2,
     "metadata": {},
     "source": [
      "EXample 6.1 Page no 89"
     ]
    },
    {
     "cell_type": "code",
     "collapsed": false,
     "input": [
      "#given\n",
      "a=(2.1*10**-2)                                          #Vanderwaals constant a for neon gas in Nm^4/mol^2\n",
      "b=(1.71*10**-5)                                         #Vanderwaals constant b for neon gas in m^3/mol\n",
      "R=8.314                                                 #Gas constant in J/mol.K\n",
      "\n",
      "#Calculations\n",
      "Tc=(8*a)/(27*b*R)\n",
      "Vc=(3*b)/10.0**-5\n",
      "Pc=(a/(27*b**2))/10.0**6\n",
      "\n",
      "#Output \n",
      "print\"Critical temperature is \",round(Tc,2),\"K\" \n",
      "print\"Critical volume is \",round(Vc,2),\"* 10**-5 m**3/mol\"\n",
      "print\"Critical pressure is \",round(Pc,3),\"* 10**6 N/m**2\"\n"
     ],
     "language": "python",
     "metadata": {},
     "outputs": [
      {
       "output_type": "stream",
       "stream": "stdout",
       "text": [
        "Critical temperature is  43.77 K\n",
        "Critical volume is  5.13 * 10**-5 m**3/mol\n",
        "Critical pressure is  2.66 * 10**6 N/m**2\n"
       ]
      }
     ],
     "prompt_number": 2
    },
    {
     "cell_type": "heading",
     "level": 2,
     "metadata": {},
     "source": [
      "Example 6.2 Page no 89"
     ]
    },
    {
     "cell_type": "code",
     "collapsed": false,
     "input": [
      "#given\n",
      "n=181*10**-6                                           #Coefficient of viscosity of a gas in p\n",
      "v=3*10**4                                              #Average speed of molecules in cm/s\n",
      "d=1.2929*10**-3                                        #Density in g/cm^3\n",
      "\n",
      "#Calculations\n",
      "lembda=((3*n)/(d*v))/10**-6\n",
      "\n",
      "#Output\n",
      "print\"Mean free path is \",round(lembda,0),\"* 10^-6 cm\"\n"
     ],
     "language": "python",
     "metadata": {},
     "outputs": [
      {
       "output_type": "stream",
       "stream": "stdout",
       "text": [
        "Mean free path is  14.0 * 10^-6 cm\n"
       ]
      }
     ],
     "prompt_number": 3
    },
    {
     "cell_type": "heading",
     "level": 2,
     "metadata": {},
     "source": [
      "Example 6.3 Page no 89"
     ]
    },
    {
     "cell_type": "code",
     "collapsed": false,
     "input": [
      "#given\n",
      "m=(28*1.66*10**-27)                                     #Molecular mass of a gas in kg\n",
      "d=(3.48*10**-10)                                        #Diameter in m\n",
      "k=(1.38*10**-23)                                        #Boltzmans constant in J/K\n",
      "P=1.01*10**5                                            #Pressure at STP in N/m^2\n",
      "T=273                                                   #Temperature at STP in K\n",
      "\n",
      "#Calculations\n",
      "import math\n",
      "D=((1/(P*3*d**2*math.sqrt(m)))*((2*k*T)/3.14)**(3/2.0))/10.0**-5\n",
      "\n",
      "#Output\n",
      "print\"Diffusion coefficient of a gas at STP is \",round(D,2),\"* 10**-5 m^2/s\"\n"
     ],
     "language": "python",
     "metadata": {},
     "outputs": [
      {
       "output_type": "stream",
       "stream": "stdout",
       "text": [
        "Diffusion coefficient of a gas at STP is  1.49 * 10**-5 m^2/s\n"
       ]
      }
     ],
     "prompt_number": 5
    },
    {
     "cell_type": "heading",
     "level": 2,
     "metadata": {},
     "source": [
      "Example 6.4 Page no 89"
     ]
    },
    {
     "cell_type": "code",
     "collapsed": false,
     "input": [
      "#given\n",
      "m=(32*1.66*10**-27)                                      #Molecular mass of a gas in kg\n",
      "d=(3.65*10**-10)                                         #Diameter in m\n",
      "k=(1.38*10**-23)                                         #Boltzmans constant in J/K\n",
      "P=1.01*10**5                                             #Pressure at STP in N/m^2\n",
      "T=273                                                    #Temperature at STP in K\n",
      "\n",
      "#Calculations\n",
      "import math\n",
      "n=((1/(3.14*d**2))*math.sqrt((8*k*T*m)/(9*3.14)))/10**-5\n",
      "\n",
      "#Output\n",
      "print\"Viscosity of a gas at STP is \",round(n,3),\"*10^-5 N.s/m^2\"\n"
     ],
     "language": "python",
     "metadata": {},
     "outputs": [
      {
       "output_type": "stream",
       "stream": "stdout",
       "text": [
        "Viscosity of a gas at STP is  1.799 *10^-5 N.s/m^2\n"
       ]
      }
     ],
     "prompt_number": 7
    },
    {
     "cell_type": "heading",
     "level": 2,
     "metadata": {},
     "source": [
      "Example 6.5 Page no 89"
     ]
    },
    {
     "cell_type": "code",
     "collapsed": false,
     "input": [
      "#given\n",
      "v=460                                                #Average speed of molecules in m/s\n",
      "l=(720*10**-10)                                      #Mean free path in m\n",
      "Cv=21.06                                             #Specific heat at constant volume in J/K.mol\n",
      "k=(1.38*10**-23)                                     #Boltzmans constant in J/K\n",
      "P=1.01*10**5                                         #Pressure at STP in N/m^2\n",
      "T=273                                                #Temperature at STP in K\n",
      "N=6.022*10**23                                       #Avagadro constant\n",
      "\n",
      "#Calculations\n",
      "K=((1/3.0)*(Cv/N)*(P/(k*T))*v*l)/10.0**-2\n",
      "\n",
      "#Output\n",
      "print\"Thermal conductivity of the gas at STP is \",round(K,5),\"*10**-2 W/m-K\"\n"
     ],
     "language": "python",
     "metadata": {},
     "outputs": [
      {
       "output_type": "stream",
       "stream": "stdout",
       "text": [
        "Thermal conductivity of the gas at STP is  1.03506 *10**-2 W/m-K\n"
       ]
      }
     ],
     "prompt_number": 10
    }
   ],
   "metadata": {}
  }
 ]
}