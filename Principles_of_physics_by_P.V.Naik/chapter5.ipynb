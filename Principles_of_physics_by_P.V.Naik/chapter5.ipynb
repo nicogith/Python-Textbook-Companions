{
 "metadata": {
  "name": "",
  "signature": "sha256:8d1a6e24325b21ce86c3b6da78ff6614496eb66a81611477ea9a7b9f8a72ae03"
 },
 "nbformat": 3,
 "nbformat_minor": 0,
 "worksheets": [
  {
   "cells": [
    {
     "cell_type": "heading",
     "level": 1,
     "metadata": {},
     "source": [
      "Chapter 5 Properties of matter"
     ]
    },
    {
     "cell_type": "heading",
     "level": 2,
     "metadata": {},
     "source": [
      "Example 5.1 Page no 76"
     ]
    },
    {
     "cell_type": "code",
     "collapsed": false,
     "input": [
      "#given\n",
      "m=1                                  #Mass of torsional pendulum in kg\n",
      "R=0.06                               #Radius of torsional pendulum in m\n",
      "l=1.2                                #Length of the wire in m\n",
      "r=0.0008                             #Radius of wire in m\n",
      "S=(9*10**9)                          #Modulus of rigidity of the material in N/m^2\n",
      "\n",
      "#Calculations\n",
      "import math\n",
      "I=(1/2.0)*m*R**2\n",
      "C=(3.14*S*r**4)/(2*l)\n",
      "T=2*3.14*math.sqrt(I/C)\n",
      "\n",
      "#Output\n",
      "print\"Period of pendulum is \",round(T,1),\"s\"\n"
     ],
     "language": "python",
     "metadata": {},
     "outputs": [
      {
       "output_type": "stream",
       "stream": "stdout",
       "text": [
        "Period of pendulum is  3.8 s\n"
       ]
      }
     ],
     "prompt_number": 1
    },
    {
     "cell_type": "heading",
     "level": 2,
     "metadata": {},
     "source": [
      "Example 5.2 Page no 76"
     ]
    },
    {
     "cell_type": "code",
     "collapsed": false,
     "input": [
      "#given\n",
      "l=0.8                                          #Length of the wire in m\n",
      "d=(1.8*10**-3)                                 #Diameter of the wire in m\n",
      "a=1.5                                          #Angle of twist in degrees\n",
      "S=(1.8*10**11)                                 #Modulus of rigidity of the material in N/m^2\n",
      "\n",
      "#Calculations\n",
      "r=(a*3.14)/180.0\n",
      "W=((3.14*S*(d/2.0)**4*r**2)/(4*l))/10.0**-5\n",
      "\n",
      "#Output\n",
      "print\"Work required to twist the wire is \",round(W,2),\"*10^-5 J\"\n"
     ],
     "language": "python",
     "metadata": {},
     "outputs": [
      {
       "output_type": "stream",
       "stream": "stdout",
       "text": [
        "Work required to twist the wire is  7.93 *10^-5 J\n"
       ]
      }
     ],
     "prompt_number": 4
    },
    {
     "cell_type": "heading",
     "level": 2,
     "metadata": {},
     "source": [
      "Example 5.3 Page no 76"
     ]
    },
    {
     "cell_type": "code",
     "collapsed": false,
     "input": [
      "#given\n",
      "l=2                                                   #Length of wire in m\n",
      "d=(0.4*10**-3)                                        #Diameter of the wire in m\n",
      "x=(1.03*10**-3)                                       #Extension in length in m\n",
      "L=2                                                   #Load in kg\n",
      "C=(4.52*10**-6)                                       #Couple in N/m\n",
      "a=0.03                                                #Twist angle in radians\n",
      "\n",
      "#Calculations\n",
      "Y=((L*9.8*l)/(x*3.14*(d/2.0)**2))/10**11\n",
      "S=((C*2*l)/(3.14*(d/2.0)**4*a))/10**11\n",
      "s=(Y/(2*S))-1\n",
      "\n",
      "#Output\n",
      "print\"Youngs modulus is \",round(Y,2),\"*10**11 N/m^2\"\n",
      "print\"Modulus of rigidity is \",round(S,2),\"*10**11 N/m^2\"\n",
      "print\"Poissons ratio is \",round(s,2)\n"
     ],
     "language": "python",
     "metadata": {},
     "outputs": [
      {
       "output_type": "stream",
       "stream": "stdout",
       "text": [
        "Youngs modulus is  3.03 *10**11 N/m^2\n",
        "Modulus of rigidity is  1.2 *10**11 N/m^2\n",
        "Poissons ratio is  0.26\n"
       ]
      }
     ],
     "prompt_number": 7
    },
    {
     "cell_type": "heading",
     "level": 2,
     "metadata": {},
     "source": [
      "Example 5.4 Page no 76"
     ]
    },
    {
     "cell_type": "code",
     "collapsed": false,
     "input": [
      "#given\n",
      "r=0.003                                            #Radius of drop of glycerine in m\n",
      "T=(63.1*10**-3)                                    #Surface tension of glycerine in N/m\n",
      "\n",
      "#Calculations\n",
      "P=((2*T)/r)\n",
      "\n",
      "#Output\n",
      "print\"Excess pressure inside the drop of glycerine is \",round(P,2),\"N/m^2\"\n"
     ],
     "language": "python",
     "metadata": {},
     "outputs": [
      {
       "output_type": "stream",
       "stream": "stdout",
       "text": [
        "Excess pressure inside the drop of glycerine is  42.07 N/m^2\n"
       ]
      }
     ],
     "prompt_number": 8
    },
    {
     "cell_type": "heading",
     "level": 2,
     "metadata": {},
     "source": [
      "Example 5.5 Page no 76"
     ]
    },
    {
     "cell_type": "code",
     "collapsed": false,
     "input": [
      "#given\n",
      "r1=0.001                                            #Initial radius in m\n",
      "r2=0.004                                            #Final radius in m\n",
      "t=2*10**-3                                          #Time in s\n",
      "s=(7*10**-2)                                        #Surface tension of water in N/m\n",
      "\n",
      "#Calculations\n",
      "P=((2*s)*((1/r2)-(1/r1)))/(t*10**4)\n",
      "\n",
      "#Output\n",
      "print\"Rate of change of pressure is \",P,\"*10**4 N/m**2 s\"\n"
     ],
     "language": "python",
     "metadata": {},
     "outputs": [
      {
       "output_type": "stream",
       "stream": "stdout",
       "text": [
        "Rate of change of pressure is  -5.25 *10**4 N/m**2 s\n"
       ]
      }
     ],
     "prompt_number": 5
    },
    {
     "cell_type": "heading",
     "level": 2,
     "metadata": {},
     "source": [
      "Example 5.6 Page no 77"
     ]
    },
    {
     "cell_type": "code",
     "collapsed": false,
     "input": [
      "#given\n",
      "d=0.02                                            #Diamter of soap bubble in m\n",
      "s=(25*10**-3)                                     #Surface tension in N/m\n",
      "#Initial surface area of the bubble is zero and final area is 2*4*pie*r^2 where r is the radius of the bubble\n",
      "\n",
      "#Calculations\n",
      "W=(s*2*4*3.14*(d/2.0)**2)/10.0**-5\n",
      "\n",
      "#Output\n",
      "print\"Work done in blowing a soap bubble is \",W,\"*10**-5 J\"\n"
     ],
     "language": "python",
     "metadata": {},
     "outputs": [
      {
       "output_type": "stream",
       "stream": "stdout",
       "text": [
        "Work done in blowing a soap bubble is  6.28 *10**-5 J\n"
       ]
      }
     ],
     "prompt_number": 9
    },
    {
     "cell_type": "heading",
     "level": 2,
     "metadata": {},
     "source": [
      "Example 5.7 Page no 77"
     ]
    },
    {
     "cell_type": "code",
     "collapsed": false,
     "input": [
      "#given\n",
      "r=0.01                                                 #Radius of liquid drop in m\n",
      "n=500                                                  #Number of drops\n",
      "s=(63*10**-3)                                          #Surface tension in N/m\n",
      "\n",
      "#Calculations\n",
      "r1=(((4*3.14*r**3)/3.0)/((n*4*3.14)/3.0))**(1/3.0)\n",
      "As=(n*4*3.14*r1**2)\n",
      "A=4*3.14*r**2\n",
      "W=(s*(As-A))/10.0**-4\n",
      "\n",
      "#Output\n",
      "print\"Energy required to break up a drop of a liquid is \",round(W,1),\"*10**-4 J\"\n"
     ],
     "language": "python",
     "metadata": {},
     "outputs": [
      {
       "output_type": "stream",
       "stream": "stdout",
       "text": [
        "Energy required to break up a drop of a liquid is  5.5 *10**-4 J\n"
       ]
      }
     ],
     "prompt_number": 8
    },
    {
     "cell_type": "heading",
     "level": 2,
     "metadata": {},
     "source": [
      "Example 5.8 Page no 77"
     ]
    },
    {
     "cell_type": "code",
     "collapsed": false,
     "input": [
      "#given\n",
      "d=0.04                                        #Inside diameter of garden hose in m\n",
      "D=0.01                                        #Diamter of nozzle opening in m\n",
      "v1=0.6                                        #speed of flow of water in the hose in m/s\n",
      "\n",
      "#calculations\n",
      "a=3.14*(d/2.0)**2\n",
      "A=3.14*(D/2.0)**2\n",
      "v2=(v1*a)/A\n",
      "\n",
      "#Output\n",
      "print\"Speed of flow through the nozzle is \",v2,\"m/s\"\n"
     ],
     "language": "python",
     "metadata": {},
     "outputs": [
      {
       "output_type": "stream",
       "stream": "stdout",
       "text": [
        "Speed of flow through the nozzle is  9.6 m/s\n"
       ]
      }
     ],
     "prompt_number": 10
    }
   ],
   "metadata": {}
  }
 ]
}