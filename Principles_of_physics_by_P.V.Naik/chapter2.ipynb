{
 "metadata": {
  "name": "",
  "signature": "sha256:1378ee9b7b5e64639ff100ad2dca16b71e72eadb106daabd3ad20e87834e8b65"
 },
 "nbformat": 3,
 "nbformat_minor": 0,
 "worksheets": [
  {
   "cells": [
    {
     "cell_type": "heading",
     "level": 1,
     "metadata": {},
     "source": [
      "Chapter 2 Work, Energy and Power"
     ]
    },
    {
     "cell_type": "heading",
     "level": 2,
     "metadata": {},
     "source": [
      "Example 2.1 Page no 26"
     ]
    },
    {
     "cell_type": "code",
     "collapsed": false,
     "input": [
      "#given\n",
      "F=(6,2)                                          #Constant force in vector form 6i+2j in N\n",
      "s=(3,5)                                          #Displacement in vector form 3i+5j in N\n",
      "\n",
      "#Calculations\n",
      "import math\n",
      "W=(F[0]*s[0])+(F[1]*s[1])\n",
      "q=math.acos(W/(math.sqrt(F[0]**2+F[1]**2)*math.sqrt(s[0]**2+s[1]**2)))*180/3.14\n",
      "\n",
      "#Output\n",
      "print\"Workdone by the force is \",W,\"J\" \n",
      "print\"Angle between Force and displacement is \",round(q,1),\"degrees\"\n"
     ],
     "language": "python",
     "metadata": {},
     "outputs": [
      {
       "output_type": "stream",
       "stream": "stdout",
       "text": [
        "Workdone by the force is  28 J\n",
        "Angle between Force and displacement is  40.6 degrees\n"
       ]
      }
     ],
     "prompt_number": 3
    },
    {
     "cell_type": "heading",
     "level": 2,
     "metadata": {},
     "source": [
      "Example 2.2 Page no 26"
     ]
    },
    {
     "cell_type": "code",
     "collapsed": false,
     "input": [
      "#given\n",
      "m=10                                       #Mass of block in kg\n",
      "q=40                                       #Angle made by the force with horizontal in degrees\n",
      "s=5                                        #Horizontal displacement of the block in m\n",
      "u=0.3                                      #Coefficient of kinematic friction \n",
      "\n",
      "#Calculations\n",
      "import math\n",
      "F=(u*m*9.8)/(math.cos(q*3.14/180.0)+(u*math.sin(q*3.14/180.0)))\n",
      "W=(F*math.cos(q*3.14/180.0))*s\n",
      "\n",
      "#Output\n",
      "print\"Workdone by the pulling force is \",round(W,1),\"J\"\n"
     ],
     "language": "python",
     "metadata": {},
     "outputs": [
      {
       "output_type": "stream",
       "stream": "stdout",
       "text": [
        "Workdone by the pulling force is  117.5 J\n"
       ]
      }
     ],
     "prompt_number": 4
    },
    {
     "cell_type": "heading",
     "level": 2,
     "metadata": {},
     "source": [
      "Example 2.3 Page no 27"
     ]
    },
    {
     "cell_type": "code",
     "collapsed": false,
     "input": [
      "#plot\n",
      "import matplotlib.pyplot as plt\n",
      "fig = plt.figure()\n",
      "x=[0,1,2,3,4,5]\n",
      "F=[0,6,6,12,12,0]\n",
      "xlabel(\"x  (m)\") \n",
      "ylabel(\"F  (N)\") \n",
      "plt.xlim((0,5))\n",
      "plt.ylim((0,14))\n",
      "a=plot(x,F)\n",
      "show(a)"
     ],
     "language": "python",
     "metadata": {},
     "outputs": [
      {
       "metadata": {},
       "output_type": "display_data",
       "png": "[encoded data removed]",
       "text": [
        "<matplotlib.figure.Figure at 0x883ac30>"
       ]
      }
     ],
     "prompt_number": 4
    },
    {
     "cell_type": "heading",
     "level": 2,
     "metadata": {},
     "source": [
      "Example 2.4 Page no 27"
     ]
    },
    {
     "cell_type": "code",
     "collapsed": false,
     "input": [
      "#given\n",
      "m=0.05                                                 #Mass of the body in kg\n",
      "v=(3,5)                                                #Velocity in vector form 3i+4j in m/s\n",
      "\n",
      "#Calculations\n",
      "ke=(1/2.0)*m*(v[0]**2+v[1]**2)\n",
      "\n",
      "#Output\n",
      "print\"Kinetic energy is \",ke,\"J\"\n"
     ],
     "language": "python",
     "metadata": {},
     "outputs": [
      {
       "output_type": "stream",
       "stream": "stdout",
       "text": [
        "Kinetic energy is  0.85 J\n"
       ]
      }
     ],
     "prompt_number": 3
    },
    {
     "cell_type": "heading",
     "level": 2,
     "metadata": {},
     "source": [
      "Example 2.5 Page no 27"
     ]
    },
    {
     "cell_type": "code",
     "collapsed": false,
     "input": [
      "#given\n",
      "k=50                                  #Spring force constant in N/m\n",
      "x=-0.02                               #Length of compression in m\n",
      "\n",
      "#Calculations\n",
      "W=(1/2.0)*k*(x)**2\n",
      "\n",
      "#Output\n",
      "print\"Work done by the spring when the block comes from the compressed position to the equilibrium position is \",W,\"J\"\n"
     ],
     "language": "python",
     "metadata": {},
     "outputs": [
      {
       "output_type": "stream",
       "stream": "stdout",
       "text": [
        "Work done by the spring when the block comes from the compressed position to the equilibrium position is  0.01 J\n"
       ]
      }
     ],
     "prompt_number": 4
    },
    {
     "cell_type": "heading",
     "level": 2,
     "metadata": {},
     "source": [
      "Example 2.6 Page no 27"
     ]
    },
    {
     "cell_type": "code",
     "collapsed": false,
     "input": [
      "#given\n",
      "x=0.03                                                 #Length stretched by the spring in m\n",
      "m=0.25                                                 #Mass of the body in kg\n",
      "\n",
      "#Calculations\n",
      "k=(m*9.8)/x\n",
      "\n",
      "#Output\n",
      "print\"Force constant of the spring is \",round(k,3),\"N/m\"\n"
     ],
     "language": "python",
     "metadata": {},
     "outputs": [
      {
       "output_type": "stream",
       "stream": "stdout",
       "text": [
        " Force constant of the spring is  81.667 N/m\n"
       ]
      }
     ],
     "prompt_number": 6
    },
    {
     "cell_type": "heading",
     "level": 2,
     "metadata": {},
     "source": [
      "Example 2.7 Page no 27"
     ]
    },
    {
     "cell_type": "code",
     "collapsed": false,
     "input": [
      "#given\n",
      "m=5                                              #Mass of block in kg\n",
      "F=20                                             #Constant force in N\n",
      "x=6                                              #Distance moved by the block in m\n",
      "\n",
      "#Calculations\n",
      "import math\n",
      "W=(F*x)\n",
      "v=math.sqrt((2*W)/m)\n",
      "\n",
      "#Output\n",
      "print\"Speed of the block when it moves through a distance of \",x,\"m is\",round(v,2),\"m/s\"\n"
     ],
     "language": "python",
     "metadata": {},
     "outputs": [
      {
       "output_type": "stream",
       "stream": "stdout",
       "text": [
        "Speed of the block when it moves through a distance of  6 m is 6.93 m/s\n"
       ]
      }
     ],
     "prompt_number": 7
    },
    {
     "cell_type": "heading",
     "level": 2,
     "metadata": {},
     "source": [
      "Example 2.8 Page no 28"
     ]
    },
    {
     "cell_type": "code",
     "collapsed": false,
     "input": [
      "#given\n",
      "m=50                                     #Mass of the object in kg\n",
      "v=8                                      #Speed in m/s\n",
      "t=4                                      #Time taken in s\n",
      "\n",
      "#Calculations\n",
      "a=(v-0)/t\n",
      "s=(v**2/(2.0*a))\n",
      "W=(m*a*s)\n",
      "P=(W/t)\n",
      "\n",
      "#Output\n",
      "print\"Workdone on the object is \",W,\"J\" \n",
      "print\"The average power delivered by the force in the first \",t,\"s is \",P,\"watt\"\n"
     ],
     "language": "python",
     "metadata": {},
     "outputs": [
      {
       "output_type": "stream",
       "stream": "stdout",
       "text": [
        "Workdone on the object is  1600.0 J\n",
        "The average power delivered by the force in the first  4 s is  400.0 watt\n"
       ]
      }
     ],
     "prompt_number": 8
    }
   ],
   "metadata": {}
  }
 ]
}