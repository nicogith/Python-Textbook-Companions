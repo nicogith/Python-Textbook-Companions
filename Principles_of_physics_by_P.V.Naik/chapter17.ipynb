{
 "metadata": {
  "name": "",
  "signature": "sha256:57d22a7adb4054841cc52259e77089014f3c25ca9c50bc1dab4a74d78f09ccf3"
 },
 "nbformat": 3,
 "nbformat_minor": 0,
 "worksheets": [
  {
   "cells": [
    {
     "cell_type": "heading",
     "level": 1,
     "metadata": {},
     "source": [
      "Chapter 17 Quantum theory"
     ]
    },
    {
     "cell_type": "heading",
     "level": 2,
     "metadata": {},
     "source": [
      "Example 17.1 Page no 284"
     ]
    },
    {
     "cell_type": "code",
     "collapsed": false,
     "input": [
      "#given\n",
      "w=4000.0                                       #Wavelength of the light in Angstrom units\n",
      "wf=2.25                                      #Work function of potassium in eV\n",
      "m=(9.1*10**-31)                              #Mass of the electron in kg\n",
      "v=(3*10**8)                                  #Velocity of light in m/s\n",
      "c=(1.6*10**-19)                              #Charge of the electron in coloumbs\n",
      "h=6.626*10**-34                              #Plancks constant in Js\n",
      "\n",
      "#Calculations\n",
      "E=(h*v)/(w*10**-10*c)\n",
      "KE=(E-wf)\n",
      "\n",
      "#Output\n",
      "print\"Maximum kinetic energy of photoelectron is \",round(KE,3),\"eV\"\n"
     ],
     "language": "python",
     "metadata": {},
     "outputs": [
      {
       "output_type": "stream",
       "stream": "stdout",
       "text": [
        "Maximum kinetic energy of photoelectron is  0.856 eV\n"
       ]
      }
     ],
     "prompt_number": 1
    },
    {
     "cell_type": "heading",
     "level": 2,
     "metadata": {},
     "source": [
      "Example 17.2 Page no 284"
     ]
    },
    {
     "cell_type": "code",
     "collapsed": false,
     "input": [
      "#given\n",
      "wf=1.9                                                 #Workfunction of the material in eV\n",
      "w=3000                                                 #Wavelength of the light in Angstrom units\n",
      "v=(3*10**8)                                            #Velocity of light in m/s\n",
      "c=(1.6*10**-19)                                        #Charge of the electron in coloumbs\n",
      "h=6.626*10**-34                                        #Plancks constant in Js\n",
      "\n",
      "#Calculations\n",
      "V=(1/c)*(((h*v)/(w*10**-10))-(wf*c))\n",
      "\n",
      "#Output\n",
      "print\"Stopping potential is \",round(V,2),\"V\"\n"
     ],
     "language": "python",
     "metadata": {},
     "outputs": [
      {
       "output_type": "stream",
       "stream": "stdout",
       "text": [
        "Stopping potential is  2.24 V\n"
       ]
      }
     ],
     "prompt_number": 2
    },
    {
     "cell_type": "heading",
     "level": 2,
     "metadata": {},
     "source": [
      "Example 17.3 Page no 284"
     ]
    },
    {
     "cell_type": "code",
     "collapsed": false,
     "input": [
      "#given\n",
      "V=(70*10**3)                                          #Accelerating potential in V\n",
      "v=(3*10**8)                                           #Velocity of light in m/s\n",
      "c=(1.6*10**-19)                                       #Charge of the electron in coloumbs\n",
      "h=6.626*10**-34                                       #Plancks constant in Js\n",
      "\n",
      "#Calculations\n",
      "lmin=((h*v)/(c*V))/10**-9\n",
      "\n",
      "#Output\n",
      "print\"Shortest wavelength of X-rays produced is \",round(lmin,4),\"mm\"\n"
     ],
     "language": "python",
     "metadata": {},
     "outputs": [
      {
       "output_type": "stream",
       "stream": "stdout",
       "text": [
        "Shortest wavelength of X-rays produced is  0.0177 mm\n"
       ]
      }
     ],
     "prompt_number": 3
    },
    {
     "cell_type": "heading",
     "level": 2,
     "metadata": {},
     "source": [
      "Example 17.4 Page no 284"
     ]
    },
    {
     "cell_type": "code",
     "collapsed": false,
     "input": [
      "#given\n",
      "w1=2                                      #Wavelength in Angstrom \n",
      "Z1=24                                     #Target one\n",
      "Z2=42.0                                   #Target two\n",
      "a=1                                       #Constant value\n",
      "\n",
      "#Calculations\n",
      "w2=w1*(Z1-a)**2/(Z2-a)**2\n",
      "\n",
      "#Output\n",
      "print\"Wavelength is \",round(w2,2),\"Angstrom\"\n"
     ],
     "language": "python",
     "metadata": {},
     "outputs": [
      {
       "output_type": "stream",
       "stream": "stdout",
       "text": [
        "Wavelength is  0.63 Angstrom\n"
       ]
      }
     ],
     "prompt_number": 11
    },
    {
     "cell_type": "heading",
     "level": 2,
     "metadata": {},
     "source": [
      "Example 17.5 Page no 284"
     ]
    },
    {
     "cell_type": "code",
     "collapsed": false,
     "input": [
      "#given\n",
      "w=3                                              #Wavelength of the light in Angstrom\n",
      "v=(3*10**8)                                      #Velocity of light in m/s\n",
      "h=6.626*10**-34                                  #Plancks constant in Js\n",
      "q=40                                             #Scattering angle in degrees\n",
      "m=(9.11*10**-31)                                 #Mass of electron in kg\n",
      "c=(1.6*10**-19)                                  #Charge of the electron in coloumbs\n",
      "\n",
      "#Calculations\n",
      "import math\n",
      "dl=(h/(m*v))*(1-math.cos(q*3.14/180.0))/10.0**-10\n",
      "l=(w+dl)\n",
      "\n",
      "#Output\n",
      "print\"Wavelength of scattered X-rays is \",round(l,4),\"Angstrom\"\n"
     ],
     "language": "python",
     "metadata": {},
     "outputs": [
      {
       "output_type": "stream",
       "stream": "stdout",
       "text": [
        "Wavelength of scattered X-rays is  3.0057 Angstrom\n"
       ]
      }
     ],
     "prompt_number": 1
    }
   ],
   "metadata": {}
  }
 ]
}