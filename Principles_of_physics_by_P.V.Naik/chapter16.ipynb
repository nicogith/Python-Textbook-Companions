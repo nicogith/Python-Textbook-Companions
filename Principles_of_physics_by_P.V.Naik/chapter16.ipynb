{
 "metadata": {
  "name": "",
  "signature": "sha256:15ba15ce3635a11f8889cf96adb08a8de4e1e5c63e5f5177ed54dd77e97a3365"
 },
 "nbformat": 3,
 "nbformat_minor": 0,
 "worksheets": [
  {
   "cells": [
    {
     "cell_type": "heading",
     "level": 1,
     "metadata": {},
     "source": [
      "Chapter 16 Electrons, Ions, Isotopes and nucleus"
     ]
    },
    {
     "cell_type": "heading",
     "level": 2,
     "metadata": {},
     "source": [
      "Example 16.1 Page no 268"
     ]
    },
    {
     "cell_type": "code",
     "collapsed": false,
     "input": [
      "#given\n",
      "E=(200*100)                                      #Electric field in V/m\n",
      "B=0.2                                            #Magnetic field in T\n",
      "B1=0.3                                           #Magnetic field in the main chamber in T\n",
      "q=(1.6*10**-19)                                  #Charge of the electron in coloumbs\n",
      "m=(12,13)                                        #Carbon isotopes C12 and C13\n",
      "M=(1.67*10**-27)                                 #AMU(Atomic Mass Unit) in kg\n",
      "\n",
      "#Calculations\n",
      "v=(E/B)\n",
      "s=(2*v*(m[1]-m[0])*M*100)/(q*B1)\n",
      "\n",
      "#Output\n",
      "print\"Seperation on photographic plate is \",round(s,4),\"cm\"\n"
     ],
     "language": "python",
     "metadata": {},
     "outputs": [
      {
       "output_type": "stream",
       "stream": "stdout",
       "text": [
        "Seperation on photographic plate is  0.6958 cm\n"
       ]
      }
     ],
     "prompt_number": 3
    },
    {
     "cell_type": "heading",
     "level": 2,
     "metadata": {},
     "source": [
      "Example 16.2 Page no 268"
     ]
    },
    {
     "cell_type": "code",
     "collapsed": false,
     "input": [
      "#given\n",
      "a=20                                              #Atomic number of Ca\n",
      "m=40.0                                            #mass number of Ca\n",
      "M=39.962591                                       #Mass of Ca nucleus in u\n",
      "mp=1.007276                                       #Mass of proton in AMU\n",
      "mn=1.008665                                       #Mass of neutron in AMU\n",
      "\n",
      "#Calculations\n",
      "BE=(1/m)*((a*mp)+(a*mn)-M)*1000\n",
      "\n",
      "#Output\n",
      "print\"BE per nucleon is \",round(BE,1),\"MeV\"\n"
     ],
     "language": "python",
     "metadata": {},
     "outputs": [
      {
       "output_type": "stream",
       "stream": "stdout",
       "text": [
        "BE per nucleon is  8.9 MeV\n"
       ]
      }
     ],
     "prompt_number": 9
    }
   ],
   "metadata": {}
  }
 ]
}