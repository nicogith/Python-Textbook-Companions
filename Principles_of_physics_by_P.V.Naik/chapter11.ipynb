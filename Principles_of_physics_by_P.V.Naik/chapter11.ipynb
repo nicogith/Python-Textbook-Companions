{
 "metadata": {
  "name": "",
  "signature": "sha256:f15639ca9ab333759d79a28745654a5d04bddafc03a306e9cfbbbfeaf4928ceb"
 },
 "nbformat": 3,
 "nbformat_minor": 0,
 "worksheets": [
  {
   "cells": [
    {
     "cell_type": "heading",
     "level": 1,
     "metadata": {},
     "source": [
      "Chapter 11 Polarization"
     ]
    },
    {
     "cell_type": "heading",
     "level": 2,
     "metadata": {},
     "source": [
      "Example 11.1 Page no 169"
     ]
    },
    {
     "cell_type": "code",
     "collapsed": false,
     "input": [
      "#given\n",
      "r1=1.538                                #Refractive index of the crown glass for violet\n",
      "r2=1.52                                 #Refractive index of the crown glass for red\n",
      "\n",
      "#Calculations\n",
      "import math\n",
      "ip1=math.atan(r1)*180/3.14\n",
      "ip2=math.atan(r2)*180/3.14\n",
      "\n",
      "#Output\n",
      "print\"Polarizing angles for violet and red are \",round(ip1,3),\"degrees and\",round(ip2,3),\"degrees\"\n"
     ],
     "language": "python",
     "metadata": {},
     "outputs": [
      {
       "output_type": "stream",
       "stream": "stdout",
       "text": [
        "Polarizing angles for violet and red are  56.997 degrees and 56.688 degrees\n"
       ]
      }
     ],
     "prompt_number": 15
    },
    {
     "cell_type": "heading",
     "level": 2,
     "metadata": {},
     "source": [
      "Example 11.2 Page no 169"
     ]
    },
    {
     "cell_type": "code",
     "collapsed": false,
     "input": [
      "#given\n",
      "I=0.09\n",
      "I0=1\n",
      "\n",
      "#calculation\n",
      "import math\n",
      "X=math.sqrt(I/I0)\n",
      "x=math.acos(X)*180/3.14\n",
      "print\"angle is \",round(x,2)"
     ],
     "language": "python",
     "metadata": {},
     "outputs": [
      {
       "output_type": "stream",
       "stream": "stdout",
       "text": [
        "angle is  72.58\n"
       ]
      }
     ],
     "prompt_number": 22
    }
   ],
   "metadata": {}
  }
 ]
}