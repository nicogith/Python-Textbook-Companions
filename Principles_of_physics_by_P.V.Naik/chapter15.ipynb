{
 "metadata": {
  "name": "",
  "signature": "sha256:59edd30f642482e981d4bbdb68206500dec6663b6b414fcdfbc2ce9fb1f1258c"
 },
 "nbformat": 3,
 "nbformat_minor": 0,
 "worksheets": [
  {
   "cells": [
    {
     "cell_type": "heading",
     "level": 1,
     "metadata": {},
     "source": [
      "Chapter 15 Motion of a charged particle"
     ]
    },
    {
     "cell_type": "heading",
     "level": 2,
     "metadata": {},
     "source": [
      "Example 15.1 Page no 254"
     ]
    },
    {
     "cell_type": "code",
     "collapsed": false,
     "input": [
      "#given\n",
      "E=5000                                        #Intensity of electric field in N/C\n",
      "d=0.02                                        #Distance in m\n",
      "e=(1.6*10**-19)                               #Charge of the electron in C\n",
      "m=(9.1*10**-31)                               #Mass of the electron in kg\n",
      "\n",
      "#Calculations\n",
      "import math\n",
      "v=math.sqrt(2*e*E*d/m)/10**6\n",
      "\n",
      "#Output\n",
      "print\"Speed of the electron is \",round(v,2),\"*10**6 m/s\"\n"
     ],
     "language": "python",
     "metadata": {},
     "outputs": [
      {
       "output_type": "stream",
       "stream": "stdout",
       "text": [
        "Speed of the electron is  5.93 *10**6 m/s\n"
       ]
      }
     ],
     "prompt_number": 1
    },
    {
     "cell_type": "heading",
     "level": 2,
     "metadata": {},
     "source": [
      "Example 15.2 Page no 255"
     ]
    },
    {
     "cell_type": "code",
     "collapsed": false,
     "input": [
      "#given\n",
      "v=(5*10**6)                                      #Velocity of the electron in m/s\n",
      "E=2000                                           #Intensity of electric field in N/C\n",
      "d=0.06                                           #Distance in m\n",
      "e=(1.6*10**-19)                                  #Charge of the electron in C\n",
      "m=(9.1*10**-31)                                  #Mass of the electron in kg\n",
      "\n",
      "\n",
      "#Calculations\n",
      "y=((-e*E*d**2)/(2*m*v**2))*100\n",
      "\n",
      "#Output\n",
      "print\"Vertical displacement of the electron when it just leaves the electric field is \",round(y,2),\"cm\"\n"
     ],
     "language": "python",
     "metadata": {},
     "outputs": [
      {
       "output_type": "stream",
       "stream": "stdout",
       "text": [
        "Vertical displacement of the electron when it just leaves the electric field is  -2.53 cm\n"
       ]
      }
     ],
     "prompt_number": 2
    },
    {
     "cell_type": "heading",
     "level": 2,
     "metadata": {},
     "source": [
      "Example 15.3 Page no 255"
     ]
    },
    {
     "cell_type": "code",
     "collapsed": false,
     "input": [
      "#given\n",
      "v=(4*10**5)                                    #Velocity of the positively charged particle in m/s\n",
      "E=300                                          #Intensity of electric field in N/C\n",
      "e=(1.6*10**-19)                                #Charge of the positively charged particle in C\n",
      "m=(1.67*10**-27)                               #Mass of the positively charged particle in kg\n",
      "q=35                                           #Angle made by the particle in degrees\n",
      "\n",
      "#Calculations\n",
      "import math\n",
      "t=((v*math.sin(q*3.14/180.0)*m)/(e*E))/10**-6\n",
      "\n",
      "#Output\n",
      "print\"Time required by the particle to reach the maximum height in the electric field is \",round(t,2),\"micro s\"\n"
     ],
     "language": "python",
     "metadata": {},
     "outputs": [
      {
       "output_type": "stream",
       "stream": "stdout",
       "text": [
        "Time required by the particle to reach the maximum height in the electric field is  7.98 micro s\n"
       ]
      }
     ],
     "prompt_number": 4
    },
    {
     "cell_type": "heading",
     "level": 2,
     "metadata": {},
     "source": [
      "Example 15.4 Page no 255"
     ]
    },
    {
     "cell_type": "code",
     "collapsed": false,
     "input": [
      "#given\n",
      "r=0.3                                    #Radius of circular orbit in m\n",
      "B=0.38                                   #Magnetic field strength in T\n",
      "e=(1.6*10**-19)                          #Charge of the proton in C\n",
      "m=(1.672*10**-27)                        #Mass of the proton in kg\n",
      "\n",
      "#Calculations\n",
      "v=((e*B*r)/m)/10**6\n",
      "\n",
      "#Output\n",
      "print\"Orbital speed of the proton is \",round(v,0),\"*10**6 m/s\"\n"
     ],
     "language": "python",
     "metadata": {},
     "outputs": [
      {
       "output_type": "stream",
       "stream": "stdout",
       "text": [
        "Orbital speed of the proton is  11.0 *10**6 m/s\n"
       ]
      }
     ],
     "prompt_number": 6
    },
    {
     "cell_type": "heading",
     "level": 2,
     "metadata": {},
     "source": [
      "Example 15.5 Page no 255"
     ]
    },
    {
     "cell_type": "code",
     "collapsed": false,
     "input": [
      "#given\n",
      "e=(1.6*10**-19)                                      #Charge of the proton in C\n",
      "m=(1.67*10**-27)                                     #Mass of the proton in kg\n",
      "B=0.8                                                #Magnetic field strength in T\n",
      "v=(4*10**6,3*10**6)                                  #Velocity of charged particle in vxi+vyj form in m/s\n",
      "\n",
      "#Calculations\n",
      "p=(v[0]*2*3.14*m)/(e*B)\n",
      "R=(m*v[1])/(e*B)\n",
      "\n",
      "#Output\n",
      "print\"The pitch of the helix is \",round(p,3),\"m\" \n",
      "print\"Radius of the trajectory is \",round(R,3),\"m\"\n"
     ],
     "language": "python",
     "metadata": {},
     "outputs": [
      {
       "output_type": "stream",
       "stream": "stdout",
       "text": [
        "The pitch of the helix is  0.328 m\n",
        "Radius of the trajectory is  0.039 m\n"
       ]
      }
     ],
     "prompt_number": 2
    }
   ],
   "metadata": {}
  }
 ]
}