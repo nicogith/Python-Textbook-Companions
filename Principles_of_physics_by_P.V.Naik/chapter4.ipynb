{
 "metadata": {
  "name": "",
  "signature": "sha256:b7bd6954751643f92d25f5c6d00ec1b3a41e28e3d14c6105ad117f2707f6395b"
 },
 "nbformat": 3,
 "nbformat_minor": 0,
 "worksheets": [
  {
   "cells": [
    {
     "cell_type": "heading",
     "level": 1,
     "metadata": {},
     "source": [
      "Chapter 4 Rotational motion of Rigid objects"
     ]
    },
    {
     "cell_type": "heading",
     "level": 2,
     "metadata": {},
     "source": [
      "Example 4.1 Page no 54"
     ]
    },
    {
     "cell_type": "code",
     "collapsed": false,
     "input": [
      "#given\n",
      "w=4                                       #Angular velocity in rad/s\n",
      "m=(1,2,3,4)                               #Masses in kg from the figure 4.17 on page no.54 \n",
      "r=(2.5,1.5)                               #Centre position in m\n",
      "\n",
      "#Calculations\n",
      "I=(m[0]+m[1]+m[2]+m[3])*(r[0]**2+r[1]**2)\n",
      "KE=(1/2.0)*I*w**2\n",
      "\n",
      "#Output\n",
      "print\"The moment of inertia is \",I,\"kg.m**2\" \n",
      "print\"Kinetic energy of the system is \",KE,\"J\"\n"
     ],
     "language": "python",
     "metadata": {},
     "outputs": [
      {
       "output_type": "stream",
       "stream": "stdout",
       "text": [
        "The moment of inertia is  85.0 kg.m**2\n",
        "Kinetic energy of the system is  680.0 J\n"
       ]
      }
     ],
     "prompt_number": 1
    },
    {
     "cell_type": "heading",
     "level": 2,
     "metadata": {},
     "source": [
      "Example 4.2 Page no 55"
     ]
    },
    {
     "cell_type": "code",
     "collapsed": false,
     "input": [
      "#given\n",
      "q=30                                        #Angle of inclination in degrees\n",
      "h=1                                         #Height in m\n",
      "\n",
      "#Calculations\n",
      "import math\n",
      "v=math.sqrt((10/7.0)*9.8*h)\n",
      "a=(5/7.0)*9.8*math.sin(q*3.14/180.0)\n",
      "\n",
      "#Output\n",
      "print\"Velocity and acceleration of the centre of mass of the sphere is \",round(v,2),\"m/s and \",round(a,1),\"m/s**2\"\n"
     ],
     "language": "python",
     "metadata": {},
     "outputs": [
      {
       "output_type": "stream",
       "stream": "stdout",
       "text": [
        "Velocity and acceleration of the centre of mass of the sphere is  3.74 m/s and  3.5 m/s**2\n"
       ]
      }
     ],
     "prompt_number": 3
    },
    {
     "cell_type": "heading",
     "level": 2,
     "metadata": {},
     "source": [
      "Example 4.3 Page no 55"
     ]
    },
    {
     "cell_type": "code",
     "collapsed": false,
     "input": [
      "#given\n",
      "m=1.2                                       #Mass of the rod in kg\n",
      "l=0.8                                       #Length of the rod in m\n",
      "\n",
      "#Calculations\n",
      "import math\n",
      "T=2*3.14*math.sqrt((2*l)/(3.0*9.8))\n",
      "\n",
      "#Output\n",
      "print\"Period of oscillation is \",round(T,2),\"s\"\n"
     ],
     "language": "python",
     "metadata": {},
     "outputs": [
      {
       "output_type": "stream",
       "stream": "stdout",
       "text": [
        "Period of oscillation is  1.47 s\n"
       ]
      }
     ],
     "prompt_number": 4
    },
    {
     "cell_type": "heading",
     "level": 2,
     "metadata": {},
     "source": [
      "Example 4.4 Page no 55"
     ]
    },
    {
     "cell_type": "code",
     "collapsed": false,
     "input": [
      "#given\n",
      "r=0.2                                             #Radius of uniform disc in m\n",
      "d=0.15                                            #Distance from the centre in m\n",
      "\n",
      "#Calculations\n",
      "import math\n",
      "T=2*3.14*math.sqrt((17*r)/(12.0*9.8))\n",
      "\n",
      "#Output\n",
      "print\"The period of oscillation is \",round(T,3),\"s\"\n"
     ],
     "language": "python",
     "metadata": {},
     "outputs": [
      {
       "output_type": "stream",
       "stream": "stdout",
       "text": [
        "The period of oscillation is  1.068 s\n"
       ]
      }
     ],
     "prompt_number": 5
    },
    {
     "cell_type": "heading",
     "level": 2,
     "metadata": {},
     "source": [
      "Example 4.5 Page no 55"
     ]
    },
    {
     "cell_type": "code",
     "collapsed": false,
     "input": [
      "#given\n",
      "m=3                                                #Mass of the rotor in kg\n",
      "I=0.03                                             #Moment of inertia in kg.m^2\n",
      "d=0.25                                             #Distance of pivot from the centre in m\n",
      "p=30                                               #Precession in rpm\n",
      "\n",
      "#Calculations\n",
      "T=m*9.8*d\n",
      "w=(p*2*3.14)/60.0\n",
      "w1=(T/(I*w))\n",
      "\n",
      "#Output\n",
      "print\"Angular speed of rotation of the rotor is \",round(w1,0),\"rpm\"\n"
     ],
     "language": "python",
     "metadata": {},
     "outputs": [
      {
       "output_type": "stream",
       "stream": "stdout",
       "text": [
        "Angular speed of rotation of the rotor is  78.0 rpm\n"
       ]
      }
     ],
     "prompt_number": 6
    }
   ],
   "metadata": {}
  }
 ]
}