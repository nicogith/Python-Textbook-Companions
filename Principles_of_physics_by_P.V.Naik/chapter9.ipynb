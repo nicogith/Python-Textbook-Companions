{
 "metadata": {
  "name": "",
  "signature": "sha256:483ac761a0ac81598a32958276222effb2c60791a86a62e2445fc0aaf9c0e97b"
 },
 "nbformat": 3,
 "nbformat_minor": 0,
 "worksheets": [
  {
   "cells": [
    {
     "cell_type": "heading",
     "level": 1,
     "metadata": {},
     "source": [
      "Chapter 9 Interference"
     ]
    },
    {
     "cell_type": "heading",
     "level": 2,
     "metadata": {},
     "source": [
      "Example 9.1 Page no 136"
     ]
    },
    {
     "cell_type": "code",
     "collapsed": false,
     "input": [
      "#given\n",
      "t=0.2                                     #Thickness of film in micro m\n",
      "r=1.25                                    #Refractive index of liquid\n",
      "w=(4000,5000)                             #Range of wavelength in Angstrom\n",
      "q=35                                      #Angle observed in degrees\n",
      "\n",
      "#Calculations\n",
      "import math\n",
      "u=math.asin(math.sin(q*3.14/180.0)/r)*180/3.14\n",
      "w1=(2*t*10**-6*r*math.cos(u*3.14/180.0))/10**-10\n",
      "w2=w1/2.0                        \n",
      "\n",
      "#Output\n",
      "print\"Wavelength absent in reflected light is \",round(w2,0),\"Angstrom\"\n"
     ],
     "language": "python",
     "metadata": {},
     "outputs": [
      {
       "output_type": "stream",
       "stream": "stdout",
       "text": [
        "Wavelength absent in reflected light is  2222.0 Angstrom\n"
       ]
      }
     ],
     "prompt_number": 4
    },
    {
     "cell_type": "heading",
     "level": 2,
     "metadata": {},
     "source": [
      "Example 9.2 Page no 136"
     ]
    },
    {
     "cell_type": "code",
     "collapsed": false,
     "input": [
      "#given\n",
      "r=1.39                                                #Refractive index of the film \n",
      "q=30                                                  #Angle observed in degrees\n",
      "w=(5125,5000)                                         #Wavelengths of two consecutive dark bands in Angstrom\n",
      "\n",
      "#Calculations\n",
      "import math\n",
      "r1=math.asin(math.sin(q*3.14/180.0)/r)*180/3.14\n",
      "n=w[1]/(w[0]-w[1])\n",
      "t=((n*w[0]*10**-8)/(2.0*r*math.cos(r1*3.14/180.0)))/10**-4\n",
      "\n",
      "#Output\n",
      "print\"Thickness of the film is \",round(t,4),\"*10**-4 cm\"\n"
     ],
     "language": "python",
     "metadata": {},
     "outputs": [
      {
       "output_type": "stream",
       "stream": "stdout",
       "text": [
        "Thickness of the film is  7.9026 *10**-4 cm\n"
       ]
      }
     ],
     "prompt_number": 1
    },
    {
     "cell_type": "heading",
     "level": 2,
     "metadata": {},
     "source": [
      "Example 9.3 Page no 137"
     ]
    },
    {
     "cell_type": "code",
     "collapsed": false,
     "input": [
      "#given\n",
      "r=1.4                                            #Refractive index of the material\n",
      "w=5893                                           #Wavelength of yellow light in Angstrom\n",
      "n=10                                             #Number of bands\n",
      "w1=0.009                                         #Width of band in m\n",
      "\n",
      "#Calculations\n",
      "import math\n",
      "b=math.asin((w*10**-8)*180/3.14/(2.0*r*n*w1))\n",
      "\n",
      "#Output\n",
      "print\"Angle of wedge is \",round(b,4),\"degrees\"\n"
     ],
     "language": "python",
     "metadata": {},
     "outputs": [
      {
       "output_type": "stream",
       "stream": "stdout",
       "text": [
        "Angle of wedge is  0.0134 degrees\n"
       ]
      }
     ],
     "prompt_number": 10
    },
    {
     "cell_type": "heading",
     "level": 2,
     "metadata": {},
     "source": [
      "Example 9.4 Page no 137"
     ]
    },
    {
     "cell_type": "code",
     "collapsed": false,
     "input": [
      "#given\n",
      "r=1.0                                              #Refractive index\n",
      "n=4                                                #Number of bands\n",
      "w=6500                                             #Wavelength in Angstrom\n",
      "\n",
      "#Calculations\n",
      "t=(((n+(1/2.0))*w*10**-8)/(2*r))/10.0**-4\n",
      "\n",
      "#Output\n",
      "print\"Thickness of wedge shaped air film is \",t,\"*10**-4 cm\"\n"
     ],
     "language": "python",
     "metadata": {},
     "outputs": [
      {
       "output_type": "stream",
       "stream": "stdout",
       "text": [
        "Thickness of wedge shaped air film is  1.4625 *10**-4 cm\n"
       ]
      }
     ],
     "prompt_number": 2
    },
    {
     "cell_type": "heading",
     "level": 2,
     "metadata": {},
     "source": [
      "Example 9.5 Page no 137"
     ]
    },
    {
     "cell_type": "code",
     "collapsed": false,
     "input": [
      "#given\n",
      "d=0.5                                          #Diameter of the ring in cm\n",
      "n=4                                            #number of bands\n",
      "w=5893                                         #Wavelength of light in Angstrom\n",
      "q=30                                           #Angle at which light enters in degrees\n",
      "\n",
      "#Calculations\n",
      "import math\n",
      "R=((d**2*math.cos(q*3.14/180.0))/(2.0*(2*n+1)*w*10**-8))\n",
      "\n",
      "#Output\n",
      "print\"Radius of curvature of lens is \",round(R,1),\"cm\"\n"
     ],
     "language": "python",
     "metadata": {},
     "outputs": [
      {
       "output_type": "stream",
       "stream": "stdout",
       "text": [
        "Radius of curvature of lens is  204.1 cm\n"
       ]
      }
     ],
     "prompt_number": 11
    }
   ],
   "metadata": {}
  }
 ]
}