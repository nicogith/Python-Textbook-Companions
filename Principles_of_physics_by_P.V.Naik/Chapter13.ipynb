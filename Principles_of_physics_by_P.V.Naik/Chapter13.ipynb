{
 "metadata": {
  "name": "",
  "signature": "sha256:a93967e9e262485d7a93dbdce7f33a1a65f797a1b1bf83e41cb800f1ff62d528"
 },
 "nbformat": 3,
 "nbformat_minor": 0,
 "worksheets": [
  {
   "cells": [
    {
     "cell_type": "heading",
     "level": 1,
     "metadata": {},
     "source": [
      "Chapter 13 Alternating current circuits"
     ]
    },
    {
     "cell_type": "heading",
     "level": 2,
     "metadata": {},
     "source": [
      "Example 13.1 page no 217"
     ]
    },
    {
     "cell_type": "code",
     "collapsed": false,
     "input": [
      "#given\n",
      "Vm=100                           #Maximum voltage in V\n",
      "R=50                             #resitance in ohms\n",
      "\n",
      "#Calculations\n",
      "import math\n",
      "Vrms=(Vm/math.sqrt(2))\n",
      "Irms=(Vrms/R)\n",
      "Im=(Vm/R)\n",
      "\n",
      "#Output\n",
      "print\"rms current is \",round(Irms,2),\"A and maximum current is \",Im,\"A\"\n"
     ],
     "language": "python",
     "metadata": {},
     "outputs": [
      {
       "output_type": "stream",
       "stream": "stdout",
       "text": [
        "rms current is  1.41 A and maximum current is  2 A\n"
       ]
      }
     ],
     "prompt_number": 1
    },
    {
     "cell_type": "heading",
     "level": 2,
     "metadata": {},
     "source": [
      "Example 13.2 page no 218"
     ]
    },
    {
     "cell_type": "code",
     "collapsed": false,
     "input": [
      "#given\n",
      "c=50                                  #Capacitor in micro F\n",
      "Vm=220                                #Maximum voltage in V\n",
      "f=50                                  #Frequency in Hz\n",
      "\n",
      "#Calculations\n",
      "import math\n",
      "Xc=(1/(2.0*3.14*c*10**-6*f))\n",
      "I=(Vm/Xc)\n",
      "Irms=I/math.sqrt(2)\n",
      "\n",
      "#Output\n",
      "print\"rms current is \",round(Irms,2),\"A\"\n"
     ],
     "language": "python",
     "metadata": {},
     "outputs": [
      {
       "output_type": "stream",
       "stream": "stdout",
       "text": [
        "rms current is  2.44 A\n"
       ]
      }
     ],
     "prompt_number": 2
    },
    {
     "cell_type": "heading",
     "level": 2,
     "metadata": {},
     "source": [
      "Example 13.3 page no 218"
     ]
    },
    {
     "cell_type": "code",
     "collapsed": false,
     "input": [
      "#given\n",
      "L=2                                       #Inductance in H\n",
      "Vrms=220                                  #rms voltage in V\n",
      "f=50                                      #Frequency in Hz\n",
      "\n",
      "#Calculations\n",
      "Xl=(2*3.14*f*L)\n",
      "Irms=(Vrms/Xl)\n",
      "\n",
      "#Output\n",
      "print\"rms current is \",round(Irms,3),\"A\"\n"
     ],
     "language": "python",
     "metadata": {},
     "outputs": [
      {
       "output_type": "stream",
       "stream": "stdout",
       "text": [
        "rms current is  0.35 A\n"
       ]
      }
     ],
     "prompt_number": 3
    },
    {
     "cell_type": "heading",
     "level": 2,
     "metadata": {},
     "source": [
      "Example 13.4 page no 218"
     ]
    },
    {
     "cell_type": "code",
     "collapsed": false,
     "input": [
      "#given\n",
      "Vm=220                          #Maximum voltage in V\n",
      "f=50                            #frequency in Hz\n",
      "R=2000                          #Resistance in ohms\n",
      "C=5*10**-6                      #Capacitor in F\n",
      "\n",
      "#Calculations\n",
      "import math\n",
      "Xc=(1/(2*3.14*f*C))\n",
      "Z=math.sqrt(R**2+Xc**2)\n",
      "Vc=(Vm*Xc)/Z\n",
      "\n",
      "#Output\n",
      "print\"Maximum potential difference across the capacitor is \",round(Vc,1),\"V\"\n"
     ],
     "language": "python",
     "metadata": {},
     "outputs": [
      {
       "output_type": "stream",
       "stream": "stdout",
       "text": [
        "Maximum potential difference across the capacitor is  66.8 V\n"
       ]
      }
     ],
     "prompt_number": 4
    },
    {
     "cell_type": "heading",
     "level": 2,
     "metadata": {},
     "source": [
      "Example 13.5 page no 218"
     ]
    },
    {
     "cell_type": "code",
     "collapsed": false,
     "input": [
      "#given\n",
      "R=5000                                   #Resistance in ohms\n",
      "L=2                                      #Inductance in H\n",
      "Vrms=200                                 #rms Voltage in V\n",
      "f=50                                     #Frequency in Hz\n",
      "\n",
      "#Calculations\n",
      "import math\n",
      "Xl=(2*3.14*f*L)\n",
      "Z=math.sqrt(R**2+Xl**2)\n",
      "Vl=(Vrms*Xl)/Z\n",
      "\n",
      "#Output\n",
      "print\"rms potential difference across the inductor is \",round(Vl,2),\"V\"\n"
     ],
     "language": "python",
     "metadata": {},
     "outputs": [
      {
       "output_type": "stream",
       "stream": "stdout",
       "text": [
        "rms potential difference across the inductor is  24.92 V\n"
       ]
      }
     ],
     "prompt_number": 1
    },
    {
     "cell_type": "heading",
     "level": 2,
     "metadata": {},
     "source": [
      "Example 13.6 page no 218"
     ]
    },
    {
     "cell_type": "code",
     "collapsed": false,
     "input": [
      "#given\n",
      "R=10.0                                        #Resistance in ohms\n",
      "L=5*10**-3                                  #Inductance in H\n",
      "C=10.0*10**-6                                 #Capacitance in F\n",
      "V=100                                       #Voltage in V\n",
      "f=50.0                                       #Frequency in Hz\n",
      "\n",
      "#Calculations\n",
      "import math\n",
      "Xc=1/(2.0*3.14*f*C)\n",
      "Xl=(2*3.14*f*L)\n",
      "Z=math.sqrt(R**2+(Xl-Xc)**2)\n",
      "I=(V/Z)\n",
      "q=math.atan((Xl-Xc)/R)*180/3.14\n",
      "Vr=(I*R)\n",
      "Vc=(I*Xc)\n",
      "Vl=(I*Xl)\n",
      "\n",
      "#Output\n",
      "print\"Total impedence is \",round(Z,1),\"ohms\" \n",
      "print\"Current is \",round(I,2),\"A\" \n",
      "print\"Phase angle is \",round(q,1),\"degrees\" \n",
      "print\"Voltage across resistor is \",round(Vr,2),\"V\" \n",
      "print\"Voltage across capacitor is \",round(Vc,0),\"V\" \n",
      "print\"Voltage across inductor is \",round(Vl,3),\"V\"\n"
     ],
     "language": "python",
     "metadata": {},
     "outputs": [
      {
       "output_type": "stream",
       "stream": "stdout",
       "text": [
        "Total impedence is  317.1 ohms\n",
        "Current is  0.32 A\n",
        "Phase angle is  -88.2 degrees\n",
        "Voltage across resistor is  3.15 V\n",
        "Voltage across capacitor is  100.0 V\n",
        "Voltage across inductor is  0.495 V\n"
       ]
      }
     ],
     "prompt_number": 5
    },
    {
     "cell_type": "heading",
     "level": 2,
     "metadata": {},
     "source": [
      "Example 13.7 page no 219"
     ]
    },
    {
     "cell_type": "code",
     "collapsed": false,
     "input": [
      "#given\n",
      "R=5.0                                       #Resistance in ohms\n",
      "L=2.0*10**-3                                #Inductance in H\n",
      "C=25.0*10**-6                               #Capacitance in F\n",
      "V=50                                      #Voltage in V\n",
      "\n",
      "#Calculations\n",
      "import math\n",
      "w=1/math.sqrt(L*C)\n",
      "f=(w/(2.0*3.14))\n",
      "Q=(w*L)/R \n",
      "\n",
      "#Output \n",
      "print\"Resonating frequency is \",round(f,0),\"Hz\" \n",
      "print\"Q factor is \",round(Q,2)\n"
     ],
     "language": "python",
     "metadata": {},
     "outputs": [
      {
       "output_type": "stream",
       "stream": "stdout",
       "text": [
        "Resonating frequency is  712.0 Hz\n",
        "Q factor is  1.79\n"
       ]
      }
     ],
     "prompt_number": 6
    },
    {
     "cell_type": "heading",
     "level": 2,
     "metadata": {},
     "source": [
      "Example 13.8 page no 219"
     ]
    },
    {
     "cell_type": "code",
     "collapsed": false,
     "input": [
      "#given\n",
      "L=(20*10**-3)                                    #Inductance in H\n",
      "Q=8.0                                            #Q factor\n",
      "f=1000                                           #Frequency in Hz\n",
      "\n",
      "#Calculations\n",
      "R=(2*3.14*f*L)/Q\n",
      "C=(1/((2.0*3.14*f)**2*L))/10**-6\n",
      "\n",
      "#Output\n",
      "print\"Capacitance and resistance of coil is \",round(C,2),\"micro F and\",R,\"ohms respectively\"\n"
     ],
     "language": "python",
     "metadata": {},
     "outputs": [
      {
       "output_type": "stream",
       "stream": "stdout",
       "text": [
        "Capacitance and resistance of coil is  1.27 micro F and 15.7 ohms respectively\n"
       ]
      }
     ],
     "prompt_number": 26
    }
   ],
   "metadata": {}
  }
 ]
}