{
 "metadata": {
  "name": " Chapter 14 Air Standard Cycles"
 },
 "nbformat": 3,
 "nbformat_minor": 0,
 "worksheets": [
  {
   "cells": [
    {
     "cell_type": "heading",
     "level": 2,
     "metadata": {},
     "source": "Example 1 Page No:302"
    },
    {
     "cell_type": "code",
     "collapsed": false,
     "input": "#Input data\nTmax=477+273        #Temperature limits for the engine 477 degree celcius\nTmin=27+273         #Temperature limits for the engine 27 degree celcius\nwd=150              #Carnot cycle produce in KJ\n\n#Calculatkion\neta=(1-(Tmin/Tmax)) #Thermal efficiency of the carnot cycle in %\nQs=(wd/eta)         #Added during the process in Kj\n\n\n#Output\nprint(\"thermal efficiency of the carnot cycle eta=\",100*(eta),\"%\")\nprint(\"added during the process Qs=\",Qs,\"KJ\")",
     "language": "python",
     "metadata": {},
     "outputs": [
      {
       "output_type": "stream",
       "stream": "stdout",
       "text": "thermal efficiency of the carnot cycle eta= 60.0 %\nadded during the process Qs= 250.0 KJ\n"
      }
     ],
     "prompt_number": 1
    },
    {
     "cell_type": "heading",
     "level": 2,
     "metadata": {},
     "source": "Example 2 Page No:302"
    },
    {
     "cell_type": "code",
     "collapsed": false,
     "input": "#Input data\nQR=1.5                 #tau=QS-QR\n                       #T=Tmax-Tmin\nT=300                  #temperature limit of the cycle in degree celsius\n\n\n#Calculation\n#QR=1.5*(QS-QR)\nQR=(1.5/2.5)           #Engin work on carnot cycle\neta=(1-QR)             #Thermal effeciency\nTmax=(T/eta)-273.15    #Maximum temperataure\nTmin=(Tmax-T)          #Minimum temperataure\n\n\n#Output\nprint(\"Engin work on carnot cycle=\",QR,\"QS\")\nprint(\"Thermal effeciency=\",100*(eta),\"%\")\nprint(\"Maximum temperataure=\",round(Tmax,),\"degree celsius\")\nprint(\"Minimum temperataure=\",round(Tmin,),\"degree celsius\")\n\n\n",
     "language": "python",
     "metadata": {},
     "outputs": [
      {
       "output_type": "stream",
       "stream": "stdout",
       "text": "Engin work on carnot cycle= 0.6 QS\nThermal effeciency= 40.0 %\nMaximum temperataure= 477 degree celsius\nMinimum temperataure= 177 degree celsius\n"
      }
     ],
     "prompt_number": 3
    },
    {
     "cell_type": "heading",
     "level": 2,
     "metadata": {},
     "source": "Example 3 Page No:303"
    },
    {
     "cell_type": "code",
     "collapsed": false,
     "input": "#Input data\n#Refer figure\nimport math\nT1=300                   #Carnot engine work in minimum temperature in kelvin\nT2=750                   #Carnot engine work in maximum temperature kelvin\nP2=50                    #pressure of carnot engine N/m**2\nP4=1                     #pressure of carnot engine N/m**\n#considering air as the working fluid therefore \nR=0.287                  #Air as the working fluid in KJ/Kg K\nCp=1.005                 #KJ/Kg K\nCv=0.718                 #KJ/Kg K\nK=1.4\ngamma=1.4\n\n#Calculation\n#T2/T1=(P2/P1)**(gamma-1)/gamma\nP1=P2*(T1/T2)**(gamma/(gamma-1)) #Pressure at intermediate salient points(1-2) in bar\nP3=P4*(T2/T1)**(gamma/(gamma-1)) #Pressure at intermediate salient points(3-4) in bar\nQS=R*T2*math.log(P2/P3 )         #Heat supplied and rejected per Kg of air  in KJ/Kg\nQR=R*T1*math.log(P1/P4 )         #Heat supplied and rejected per Kg of air  in KJ/Kg\nW=QS-QR                          #Work done in KJ/Kg\neta=(1-(T1/T2))                  #Thermal  of the carnot cycle\n\n#Output\nprint(\"pressure at intermediate salient points(1-2)=\",round(P1,2),\"bar\")\nprint(\"pressure at intermediate salient points(3-4)=\",round(P3,1),\"bar\")\nprint(\"heat supplied and rejected per Kg of air(2-3)=\",round(QS,1),\"KJ/Kg\")\nprint(\"heat supplied and rejected per Kg of air(4-1)=\",round(QR,2),\"KJ/Kg\")\nprint(\"work done=\",round(W,1),\"KJ/Kg\")\nprint(\"thermal  of the carnot cycle=\",100*(eta),\"%\")\n",
     "language": "python",
     "metadata": {},
     "outputs": [
      {
       "output_type": "stream",
       "stream": "stdout",
       "text": "pressure at intermediate salient points(1-2)= 2.02 bar\npressure at intermediate salient points(3-4)= 24.7 bar\nheat supplied and rejected per Kg of air(2-3)= 151.8 KJ/Kg\nheat supplied and rejected per Kg of air(4-1)= 60.7 KJ/Kg\nwork done= 91.1 KJ/Kg\nthermal  of the carnot cycle= 60.0 %\n"
      }
     ],
     "prompt_number": 3
    },
    {
     "cell_type": "heading",
     "level": 2,
     "metadata": {},
     "source": "Example 4 Page No:304"
    },
    {
     "cell_type": "code",
     "collapsed": false,
     "input": "#input data \nimport math\nT2=377+273                  #Carnot cycle temperature in bar      \nP2=20*10**5                 #Carnot cycle pressure in bar\nV2=1\nV1=5\nV3=2\n#consider air as the working fluid therefore\nR=0.287                     #In KJ/Kg K\nCp=1.005                    #In KJ/Kg K\nCv=0.718                    #In KJ/Kg K\nK=1.4\ngamma=1.4\n\n#calculation\nT1=T2*((v2/v1)**(gamma-1))                #Minimum temp in degree celsius\nQs=R*T2*math.log(V3/V2)                   #Heat supplied process in KJ/Kg\nQR=R*T1*math.log((V1/V2)*(V2/V3)*((T2/T1)**(1/(gamma-1)))) #Heat Rejected Process in KJ/Kg\netath=(1-(T1/T2))*100                           #Thermal Effeiciency of the carnot cycle in %\n\n\n\n#output\nprint(\"Minimum temp= \",round(T1,1),\"degree celsius\")\nprint(\"Heat supplied process= \",round(Qs,1),\"KJ/Kg\")\nprint(\"Heat Rejected Process= \",round(QR,1),\"KJ/Kg\")\nprint(\"Thermal Effeiciency of the carnot cycle= \",round(etath,1),\" %\")\n",
     "language": "python",
     "metadata": {},
     "outputs": [
      {
       "output_type": "stream",
       "stream": "stdout",
       "text": "Minimum temp=  341.4 degree celsius\nHeat supplied process=  129.3 KJ/Kg\nHeat Rejected Process=  247.5 KJ/Kg\nThermal Effeiciency of the carnot cycle=  47.5  %\n"
      }
     ],
     "prompt_number": 13
    },
    {
     "cell_type": "heading",
     "level": 2,
     "metadata": {},
     "source": "Example 5 Page No:308 "
    },
    {
     "cell_type": "code",
     "collapsed": false,
     "input": "#Input data\nP1=1                          #Isentropic Compression in bar\nP2=20                         #Isentropic Compression in bar\n#consider air as the working fluid therefore\ngamma=1.4\n\n\n#Calculation\nr=(P2/P1)**(1/gamma)          #Isentropic process        \neta=100*(1-(1/(r**(gamma-1))))#Otto cycle air standard effeciency in %\n\n\n#Output\nprint(\"compression ratio=\",round(r,2),)\nprint(\"standard efficiency=\",round(eta,1),\"%\")\n",
     "language": "python",
     "metadata": {},
     "outputs": [
      {
       "output_type": "stream",
       "stream": "stdout",
       "text": "compression ratio= 8.5\nstandard efficiency= 57.5 %\n"
      }
     ],
     "prompt_number": 1
    },
    {
     "cell_type": "heading",
     "level": 2,
     "metadata": {},
     "source": "Example 6 Page No:308"
    },
    {
     "cell_type": "code",
     "collapsed": false,
     "input": "#Input data\nT1=27+273                      #Initial temp in degree celsius                        \nT2=450+273                     #Final temp in degree celsius      \n\n#calculation\nr=(T2/T1)**(1/(gamma-1))       #Isentropic process \neta=100*(1-(1/(r**(gamma-1)))) #Otto cycle air standard effeciency in %\n\n#output\nprint(\"compression ratio=\",round(r),)\nprint(\"standard efficiency=\",round(eta,1),\"%\")",
     "language": "python",
     "metadata": {},
     "outputs": [
      {
       "output_type": "stream",
       "stream": "stdout",
       "text": "compression ratio= 9\nstandard efficiency= 58.5 %\n"
      }
     ],
     "prompt_number": 2
    },
    {
     "cell_type": "heading",
     "level": 2,
     "metadata": {},
     "source": "Example 7 Page No:309"
    },
    {
     "cell_type": "code",
     "collapsed": false,
     "input": "#Input data\nD=200*10**-3                   #Otto cycle cylindrical bore in mm\nL=450*10**-3                   #Otto cycle Stroke in mm\nvc=2*10**-3                    #Clearance volume in mm**3\ngamma=1.4\npi=3.142\n\n#calculation\nvs=(pi/4)*(D**2*L)             #Swept volume\nr=((vs+vc)/vc)                 #Compression ratio\neta=100*(1-(1/(r**(gamma-1)))) #Standard efficiency\n\n#output\nprint(\"Swept volume=\",round(vs,6),\"m**3\")\nprint(\"compression ratio=\",round(r,3),)\nprint(\"standard efficiency=\",round(eta,1),\"%\")\n\n",
     "language": "python",
     "metadata": {},
     "outputs": [
      {
       "output_type": "stream",
       "stream": "stdout",
       "text": "Swept volume= 0.014139 m**3\ncompression ratio= 8.07\nstandard efficiency= 56.6 %\n"
      }
     ],
     "prompt_number": 5
    },
    {
     "cell_type": "heading",
     "level": 2,
     "metadata": {},
     "source": "Example 8 Page No:309"
    },
    {
     "cell_type": "code",
     "collapsed": false,
     "input": "#Input data\nP1=0.1*10**6                 #Otto cycle air\nT1=35+273                    #Otto cycle temp degree celsius\nr=9                          #Compression ratio\nQs=1800                      #Supplied heat in kJ/kg\nv1=9                                                 \nv2=1\nR=0.287*10**3\ngamma=1.4\nCv=0.718\n\n\n\n#calculation\nT2=(T1*((v1/v2)**(gamma-1))) #Temperature at point 2 in K\nP2=(P1*((v1/v2)**1.4))*10**-6         #pressure at point 2 in MPa \nT3=((Qs/Cv)+(T2))            #Max temp of cycle in degree celsius\nP3=(T3/T2*P2)        #Max pressure of cycle in MPa\neta=100*(1-(1/(r**(gamma-1))))#Otto cycle thermal efficiency in %\nWD=(Qs*eta)*10**-2           #Work done during the cycle in KJ/Kg\nv1=((R*T1)/P1)               #Char gass equation in m**3/Kg\nv2=v1/r                      #Char gass equation in m**3/Kg\nSv=v1-v2                     #Swept volume in m**3/Kg\nPme=(WD/Sv)*10**-3           #Mean effective pressure in MPa\nalpha=P3/P2                  #Explosion ratio\nPm=(((P1*r)/((r-1)*(gamma-1)))*(((r**(gamma-1))-1)*(alpha-1)))*10**-6#Mean effective pressure in MPa\n\n\n#Output\nprint(\"Temperature at point=\",round(T2,1),\"K\")\nprint(\"pressure at point=\",round(P2,3),\"MPa\")\nprint(\"Max temp of cycle=\",round(T3,3),\"K\")\nprint(\"Max pressure= \",round(P3,1),\"MPa\")\nprint(\"Otto cycle thermal efficiency=\",round(eta,1),\"%\")\nprint(\"Work done during the cycle=\",round(WD,),\"J/Kg\")\nprint(\"Char gass equation=\",round(v1,3),\"m**3/Kg\")\nprint(\"Char gass equation=\",round(v2,4),\"m**3/Kg\")\nprint(\"Swept volume=\",round(Sv,4),\"m**3/Kg\")\nprint(\"Mean effective pressure=\",round(Pme,2),\"MPa\")\nprint(\"Explosion ratio=\",round(alpha,2))\nprint(\"Mean effective pressure=\",round(Pm,2),\"MPa\")\n\n\n",
     "language": "python",
     "metadata": {},
     "outputs": [
      {
       "output_type": "stream",
       "stream": "stdout",
       "text": "Temperature at point= 741.7 K\npressure at point= 2.167 MPa\nMax temp of cycle= 3248.697 K\nMax pressure=  9.5 MPa\nOtto cycle thermal efficiency= 58.5 %\nWork done during the cycle= 1053 J/Kg\nChar gass equation= 0.884 m**3/Kg\nChar gass equation= 0.0982 m**3/Kg\nSwept volume= 0.7857 m**3/Kg\nMean effective pressure= 1.34 MPa\nExplosion ratio= 4.38\nMean effective pressure= 1.34 MPa\n"
      }
     ],
     "prompt_number": 165
    },
    {
     "cell_type": "heading",
     "level": 2,
     "metadata": {},
     "source": "Example 9 Page No:311"
    },
    {
     "cell_type": "code",
     "collapsed": false,
     "input": "#Input data\nP1=0.1                    #Beginning compression in MPa\nT1=40+273                 #Beginning temp in degree celsius\neta=0.55                  #Standard effeciency in %\nQR=540                    #Rejected heat in KJ/Kg\nr=7.36                    #Compression ratio\n\n\n#calculation\n#eta=(1-(1/(r**(gamma-1))))\nQS=(-QR/(eta-1))          #Heat supplied/unit mass in KJ/Kg\nWD=QS-QR                  #Work done per Kg of air in KJ/Kg\nT2=T1*(r**(gamma-1))      #Temp at end of compression in K\nP2=P1*((r)**gamma)        #pressure at point 2 in MPa\nT3=(QS/Cv)+T2             #max temp of the cycle in K\nP3=(T3/T2)*P2             #max pressure of the cycle in MPa\n\n#output\nprint(\"Heat supplied/unit mass=\",round(QS,),\"KJ/Kg\")\nprint(\"Work done per Kg of air= \",round(WD,),\"KJ/Kg\")\nprint(\"Temp at end of compression=\",round(T2,1),\"K\")\nprint(\"pressure at point two=\",round(P2,3),\" MPa\")\nprint(\"max temp of the cycle=\",round(T3,1),\"K\")\nprint(\"max pressure of the cycle=\",round(P3,3),\" MPa\")\n",
     "language": "python",
     "metadata": {},
     "outputs": [
      {
       "output_type": "stream",
       "stream": "stdout",
       "text": "Heat supplied/unit mass= 1200 KJ/Kg\nWork done per Kg of air=  660 KJ/Kg\nTemp at end of compression= 695.5 K\npressure at point two= 1.635  MPa\nmax temp of the cycle= 2366.8 K\nmax pressure of the cycle= 5.565  MPa\n"
      }
     ],
     "prompt_number": 64
    },
    {
     "cell_type": "heading",
     "level": 2,
     "metadata": {},
     "source": "Example 10 Page No:312"
    },
    {
     "cell_type": "code",
     "collapsed": false,
     "input": "#Input data\nT1=300                            #Initial temp in K\nT3=2500                           #Final temp in K\nP1=1                              #Initial pressure in N/m**2\nP3=50                             #Final pressure in N/m**2\ngamma=1.4\nCv=0.718\n\n#calculation\nr=(P3*T1)/(P1*T3)                    #Compression ratio\neta=(1-(1/r**(gamma-1)))             #Standard effeciency in %\nT2=T1*((P3/P1)**((gamma-1)/gamma))   #Middle temperature in K\nQs=Cv*(T3-T2)                        #Heat supplied in KJ/Kg\nWD=eta*Qs                            #Work done KJ/Kg\n\n#output\nprint(\"Compression ratio=\",r,\"\")\nprint(\"Standard effeciency=\",round(eta,4),\"%\")\nprint(\"Middle temperature=\",round(T2,2),\"K\")\nprint(\"Heat supplied=\",round(Qs,2),\"KJ/Kg\")\nprint(\"Work done=\",round(WD,1),\"KJ/Kg\")",
     "language": "python",
     "metadata": {},
     "outputs": [
      {
       "output_type": "stream",
       "stream": "stdout",
       "text": "Compression ratio= 6.0 \nStandard effeciency= 0.5116 %\nMiddle temperature= 917.36 K\nHeat supplied= 1136.33 KJ/Kg\nWork done= 581.4 KJ/Kg\n"
      }
     ],
     "prompt_number": 84
    },
    {
     "cell_type": "heading",
     "level": 2,
     "metadata": {},
     "source": "Example 11 Page No:316"
    },
    {
     "cell_type": "code",
     "collapsed": false,
     "input": "#input data\nr=18   #compression ratio of diesel engine\nK=6    #cut-off ratio of the stroke in%\nrho=2.02 \n\n#calculation\n#diesel engine air standard efficiency\neta=100*((1-(1/r**(gamma-1)))*(1/gamma*(rho**(gamma-1)/(rho-1))))\n\n#output\nprint(\"diesel engine air standard efficiency\",round(eta,1),\"%\")\n",
     "language": "python",
     "metadata": {},
     "outputs": [
      {
       "output_type": "stream",
       "stream": "stdout",
       "text": "diesel engine air standard efficiency 63.6 %\n"
      }
     ],
     "prompt_number": 87
    },
    {
     "cell_type": "heading",
     "level": 2,
     "metadata": {},
     "source": "Example 12 Page No:317"
    },
    {
     "cell_type": "code",
     "collapsed": false,
     "input": "#Input Data\nr=22              #compression ratio of diesel engine r=v1/v2\nr1=11             #expansion ratio r1=v4/v3\ngamma=1.4\nrho=1.4\n\n#calculation\nrho=r/r1          #cut-off ratio\n#diesel engine air standard efficiency \neta=100*((1-(1/r**(gamma-1)))*(1/gamma*(rho**(gamma-1)/(rho-1))))\n\n#output\nprint(\"cut-off ratio=\",rho,)\nprint(\"diesel engine air standard efficiency=\",round(eta,2),\"%\")",
     "language": "python",
     "metadata": {},
     "outputs": [
      {
       "output_type": "stream",
       "stream": "stdout",
       "text": "cut-off ratio= 2.0\ndiesel engine air standard efficiency= 66.88 %\n"
      }
     ],
     "prompt_number": 88
    },
    {
     "cell_type": "heading",
     "level": 2,
     "metadata": {},
     "source": "Example 13 Page No:317"
    },
    {
     "cell_type": "code",
     "collapsed": false,
     "input": "#Input data\nVc=10/100              #Clearance volume in %          \nVs=Vc/0.1              \nK=0.05                 #Cut-off of the strok in \ngamma=1.4\n\n#Calculation\nr=((Vs+Vc)/(Vc))       #Compression ratio\nrho=1+K*(r-1)          #Cut-off ratio\n#Effeciency in %\neta=(1-(1/r**(gamma-1))*((1/gamma)*(((rho**(gamma))-1)/(rho-1))))*100\n\n#output\nprint(\"Compression ratio=\",r,\"Vs\")\nprint(\"Cut-off ratio=\",rho,)\nprint(\"Effeciency=\",round(eta,2),\"%\")",
     "language": "python",
     "metadata": {},
     "outputs": [
      {
       "output_type": "stream",
       "stream": "stdout",
       "text": "Compression ratio= 11.0 Vs\nCut-off ratio= 1.5\nEffeciency= 58.17 %\n"
      }
     ],
     "prompt_number": 107
    },
    {
     "cell_type": "heading",
     "level": 2,
     "metadata": {},
     "source": "Example 14 Page No:"
    },
    {
     "cell_type": "code",
     "collapsed": false,
     "input": "#Input data\nT1=50+273          #Temperature at the beginning of the compression\nT2=700+273         #Temperature at the end of the compression\nT3=2000+273        #Temperature at the beginning of the expansion\n\n\n#Calculation\nr=((T2/T1)**(1/(gamma-1))) #Compression ratio \nrho=(T3/T2)                #Cut-off ratio\nK=((rho-1)/(r-1))          #Also cut-off ratio\n#Air standard efficiency\neta=(1-(1/r**(gamma-1))*((1/gamma)*(((rho**(gamma))-1)/(rho-1))))*100\n\n#Output\nprint(\"compression ratio=\",round(r,2),\"\")\nprint(\"cut-off ratio=\",round(rho,3),)\nprint(\"also cut-off ratio=\",round(K,2),\"\")\nprint(\"air standard efficiency=\",round(eta,2),\"%\")",
     "language": "python",
     "metadata": {},
     "outputs": [
      {
       "output_type": "stream",
       "stream": "stdout",
       "text": "compression ratio= 15.75 \ncut-off ratio= 2.336\nalso cut-off ratio= 0.09 \nair standard efficiency= 59.54 %\n"
      }
     ],
     "prompt_number": 122
    },
    {
     "cell_type": "heading",
     "level": 2,
     "metadata": {},
     "source": "Example 15 Page No:317"
    },
    {
     "cell_type": "code",
     "collapsed": false,
     "input": "#Input data\nP1=0.1            #Diesel cycle is supplied# with air in MPa\nT1=40+273         #Diesel cycle is supplied with temperature in degree celsius \nr=18              #Compression ratio\nQs=1500           #Heat supplied\nv1=18\nv2=1\nCp=1.005\n\n\n#Calculation\nT2=T1*((v1/v2)**(gamma-1)) #For isentropic process the temperature is\nP2=P1*((v1/v2)**(gamma))   #For isentropic process the pressure is\nT3=(Qs/Cp)+T2              #Maximum temperatureof the cycle\nrho=T3/T2                  #Cut-off ratio\n#Air standard efficiency\neta=(1-(1/r**(gamma-1))*((1/gamma)*(((rho**(gamma))-1)/(rho-1))))*100\nNWD=(Qs*eta)*10**-2                  #Net work done\n\n#Output\nprint(\"for isentropic process the temperature=\",round(T2,1),\"K\")\nprint(\"for isentropic process the pressure=\",round(P2,2),\"MPa\")\nprint(\"maximum temperatureof the cycle=\",round(T3,2),\"K\")\nprint(\"cut-off ratio=\",round(rho,1),\"MPa\")\nprint(\"air standard efficiency=\",round(eta,2),\"%\")\nprint(\"net work done=\",round(NWD,),\"KJ/Kg\")\n\n",
     "language": "python",
     "metadata": {},
     "outputs": [
      {
       "output_type": "stream",
       "stream": "stdout",
       "text": "for isentropic process the temperature= 994.6 K\nfor isentropic process the pressure= 5.72 MPa\nmaximum temperatureof the cycle= 2487.15 K\ncut-off ratio= 2.5 MPa\nair standard efficiency= 60.93 %\nnet work done= 914 KJ/Kg\n"
      }
     ],
     "prompt_number": 130
    },
    {
     "cell_type": "heading",
     "level": 2,
     "metadata": {},
     "source": "Example 16 Page No:317"
    },
    {
     "cell_type": "code",
     "collapsed": false,
     "input": "#Input data\nr=14               #compression ratio of standard diesel cycle\nP1=1               #compression stroke in bar\nT1=300             #temperature of air in k\nT3=2774            #temperature rises in k\nCP=1.005\nv1=14\nv2=1\ngamma=1.4\nQs=1921.43\nR=0.287*10**3\n\n\n#calculation\nT2=T1*((v1/v2)**(gamma-1))      #constant pressure\nrho=T3/T2                       #cut-off ratio\neta=(1-(1/r**(gamma-1))*((1/gamma)*(((rho**(gamma))-1)/(rho-1))))*100 #air standard efficiency\nHS=(CP*(T3-T2))                 #heat supplied\nWD=(Qs*eta)*10**-2                     #Net work done\nv1=(R*T1/P1) *10**-5                     #characteristics gas equation\nv2=(v1/r )                       #characteristics gas equation\nSv=(v1-v2)                       #Swept volume\nPme=(WD/Sv )*10**-2                     #Mean effective pressur\nPm=((P1*r)/((r-1)*(gamma-1)))*((gamma*(r**(gamma-1)))*(rho-1)-((rho**(gamma))-1))# mean effective pressure \n\n\n#output\nprint(\"constant pressure=\",round(T2,2),\"K\")\nprint(\"cut-off ratio= \",round(rho,2),)\nprint(\"air standard efficiency=\",round(eta,2),\"%\")\nprint(\"heat supplied= \",round(HS,2),\"KJ/Kg\")\nprint(\"Net work done= \",round(WD,2),\"KJ/Kg\")\nprint(\"characteristics gas equation= \",round(v1,3),\"m**3/Kg\")\nprint(\"characteristics gas equation= \",round(v2,4),\"m**3/Kg\")\nprint(\"Swept volume= \",round(Sv,4),\"m**3/Kg\")\nprint(\"Mean effective pressure= \",round(Pme,1),\"bar\")\nprint(\"Mean effective pressure= \",round(Pm,1),\"bar\")\n",
     "language": "python",
     "metadata": {},
     "outputs": [
      {
       "output_type": "stream",
       "stream": "stdout",
       "text": "constant pressure= 862.13 K\ncut-off ratio=  3.22\nair standard efficiency= 53.65 %\nheat supplied=  1921.43 KJ/Kg\nNet work done=  1030.91 KJ/Kg\ncharacteristics gas equation=  0.861 m**3/Kg\ncharacteristics gas equation=  0.0615 m**3/Kg\nSwept volume=  0.7995 m**3/Kg\nMean effective pressure=  12.9 bar\nMean effective pressure=  12.9 bar\n"
      }
     ],
     "prompt_number": 155
    },
    {
     "cell_type": "code",
     "collapsed": false,
     "input": "",
     "language": "python",
     "metadata": {},
     "outputs": []
    }
   ],
   "metadata": {}
  }
 ]
}