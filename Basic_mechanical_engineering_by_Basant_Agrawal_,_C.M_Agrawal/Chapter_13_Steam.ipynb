{
 "metadata": {
  "name": "Chapter 13 Steam Engines"
 },
 "nbformat": 3,
 "nbformat_minor": 0,
 "worksheets": [
  {
   "cells": [
    {
     "cell_type": "heading",
     "level": 2,
     "metadata": {},
     "source": "Example 1 Page No:281"
    },
    {
     "cell_type": "code",
     "collapsed": false,
     "input": "#Input data\nimport math\nPa=10                            #Single cylinder double acting steam engine pressure in bar \nPb=1.5                           #Single cylinder double acting steam engine pressure in bar\nrc=100/35                        #Cut-off of the stroke in %\n\n\n#Calculation\nPm=((Pa/rc)*(1+math.log(rc))-Pb) #Therotical mean effective pressure\n\n#Output\nprint(\"Therotical mean effective pressure=\",round(Pm,2),\"bar\")",
     "language": "python",
     "metadata": {},
     "outputs": [
      {
       "output_type": "stream",
       "stream": "stdout",
       "text": "Therotical mean effective pressure= 5.67 bar\n"
      }
     ],
     "prompt_number": 1
    },
    {
     "cell_type": "heading",
     "level": 2,
     "metadata": {},
     "source": "Example 2 Page No:283"
    },
    {
     "cell_type": "code",
     "collapsed": false,
     "input": "#Input data\n\na=5/100     #Engine cylinder of the stroke valume in %\nP1=12       #Pressure of the stream\nrc=3        #Cut-off is one-third\nPb=1.1      #Constant the back pressure in bar\n\n#Calulation\n#Therotical mean effective pressure Pm\nPm=P1*(1/rc+((1/rc)+a)*math.log((1+a)/((1/rc)+a)))-Pb \n\n#Output\nprint(\"#Therotical mean effective pressure=\",round(Pm,2),\"N/m**2\")",
     "language": "python",
     "metadata": {},
     "outputs": [
      {
       "output_type": "stream",
       "stream": "stdout",
       "text": "#Therotical mean effective pressure= 7.54 N/m**2\n"
      }
     ],
     "prompt_number": 2
    },
    {
     "cell_type": "heading",
     "level": 2,
     "metadata": {},
     "source": "Example 3 Page No:285"
    },
    {
     "cell_type": "code",
     "collapsed": false,
     "input": "#Input data\nimport math\nP1=14           #Steam is ssupplied in bar          \nP6=6            #Pressure at the end in bar\nPb=1.2          #Pressure at back in bar\na=0.1           \nre=4 \n#From hyperbolic process \nb=0.4\n\n#Calculation\n#Mean Effective pressure in N/m**2 \nPm=P1*((1/re)+((1/re)+a)*math.log((1+a)/((1+re)+a)))-Pb*((1+b)+(a+b)*math.log((a+b)/a))\n\n\n#Output\nprint(\"Mean Effective pressure=\",round(-Pm,3),\"N/m**2\")\n",
     "language": "python",
     "metadata": {},
     "outputs": [
      {
       "output_type": "stream",
       "stream": "stdout",
       "text": "Mean Effective pressure= 6.662 N/m**2\n"
      }
     ],
     "prompt_number": 3
    },
    {
     "cell_type": "heading",
     "level": 2,
     "metadata": {},
     "source": "Example 4 Page No:286"
    },
    {
     "cell_type": "code",
     "collapsed": false,
     "input": "#Input data\nCover=1200                       #Area of the indicator diagram for cover \nCrank=1100                       #Area of the indicator diagram for crank\nID=75\nPS=0.15\n\n\n#Calculation\nCoverMEP=Cover/ID*PS             #Cover end mean effective pressure\nCrankMEP=Crank/ID*PS             #Crank end mean effective pressure\nAverageMEP=(CoverMEP+CrankMEP)/2 #Average end mean effective pressure\n\n\n#Output\nprint(\"Cover end mean effective pressure=\",CoverMEP,\"bar\")\nprint(\"Crank end mean effective pressure=\",round(CrankMEP,2),\"bar\")\nprint(\"Average end mean effective pressure=\",AverageMEP,\"bar\")\n\n",
     "language": "python",
     "metadata": {},
     "outputs": [
      {
       "output_type": "stream",
       "stream": "stdout",
       "text": "Cover end mean effective pressure= 2.4 bar\nCrank end mean effective pressure= 2.2 bar\nAverage end mean effective pressure= 2.3 bar\n"
      }
     ],
     "prompt_number": 4
    },
    {
     "cell_type": "heading",
     "level": 2,
     "metadata": {},
     "source": "Example 5 Page No:286"
    },
    {
     "cell_type": "code",
     "collapsed": false,
     "input": "#Input data\na=25                  #Area of indicator diagram cm**2\nVs=0.15               #swept volume m**2\nS=1                   #Scale in cm \ncm=0.02               #pressure axis m**3\n\n\n#Calculation\nb=Vs/cm               #Base length of diagram \nPm=a/b*S              #Mean effective pressure\n\n#Output\nprint(\"Base length of diagram=\",b,\"bar\")\nprint(\"Mean effective pressure=\",round(Pm,2),\"bar\")\n\n",
     "language": "python",
     "metadata": {},
     "outputs": [
      {
       "output_type": "stream",
       "stream": "stdout",
       "text": "Base length of diagram= 7.5 bar\nMean effective pressure= 3.33 bar\n"
      }
     ],
     "prompt_number": 5
    },
    {
     "cell_type": "heading",
     "level": 2,
     "metadata": {},
     "source": "Example 6 Page No:287"
    },
    {
     "cell_type": "code",
     "collapsed": false,
     "input": "#Input data\nimport math\nP1=14                            #Steam Engine pressure in bar\nPb=0.15                          #Back pressure in bar\nK=0.72                           #Diagram factor\nrc=100/20 \n\n#Calculation\nPm=((P1/rc)*(1+math.log(rc))-Pb) #Therotical mean effective pressure Pm\nPma=Pm*K                         #Actual mean effective pressure Pma\n\n#Output\nprint(\"Therotical mean effective pressure=\",round(Pm,3),\"bar\")\nprint(\"Actual mean effective pressure=\",round(Pma,2),\"bar\")\n\n",
     "language": "python",
     "metadata": {},
     "outputs": [
      {
       "output_type": "stream",
       "stream": "stdout",
       "text": "Therotical mean effective pressure= 7.156 bar\nActual mean effective pressure= 5.15 bar\n"
      }
     ],
     "prompt_number": 6
    },
    {
     "cell_type": "heading",
     "level": 2,
     "metadata": {},
     "source": "Example 7 Page No:287"
    },
    {
     "cell_type": "code",
     "collapsed": false,
     "input": "#Input data\nimport math\nP1=9                         #Reciprocating engine pressure in bar\nPb=1.5                       #Back pressure in bar\nrc=100/25                    #Cut-off \nK=0.8                        #Diagram factor\n\n#Calculation\nPm=((P1/rc)*(1+math.log(rc))-Pb) #Therotical mean effective pressure Pm\nPma=Pm*K                         #Actual mean effective pressure Pma\n\n#Output\nprint(\"Therotical mean effective pressure= \",round(Pm,2),\"bar\")\nprint(\"Actual mean effective pressure=\",round(Pma,2),\"bar\")\n\n\n\n",
     "language": "python",
     "metadata": {},
     "outputs": [
      {
       "output_type": "stream",
       "stream": "stdout",
       "text": "Therotical mean effective pressure=  3.87 bar\nActual mean effective pressure= 3.1 bar\n"
      }
     ],
     "prompt_number": 7
    },
    {
     "cell_type": "heading",
     "level": 2,
     "metadata": {},
     "source": "Example 8 Page No:288"
    },
    {
     "cell_type": "code",
     "collapsed": false,
     "input": "#Input data\nimport math\nP1=10                   #Inlet pressure\nPb=1                    #Back pressure\nrc=3                    #Expansion ratio\na=12.1                  #Area of indicator diagram\nb=7.5                   #Length of indicator diagram \nS=3                     #Pressure scale\n\n\n#calculation\nPm=((P1/rc)*(1+math.log(rc))-Pb )#Therotical mean effective pressure Pm\nPma=a/b*S                        #Actual mean effective pressure Pma\nK=Pma/Pm                         #diagram factor \n\n#Output\nprint(\"Therotical mean effective pressure=\",round(Pm,2),\"bar\")\nprint(\"Actual mean effective pressure=\",round(Pma,2),\"bar\")\nprint(\"Diagram factor=\",round(K,3),)\n\n",
     "language": "python",
     "metadata": {},
     "outputs": [
      {
       "output_type": "stream",
       "stream": "stdout",
       "text": "Therotical mean effective pressure= 6.0 bar\nActual mean effective pressure= 4.84 bar\nDiagram factor= 0.807\n"
      }
     ],
     "prompt_number": 8
    },
    {
     "cell_type": "heading",
     "level": 2,
     "metadata": {},
     "source": "Example 9 Page No:289"
    },
    {
     "cell_type": "code",
     "collapsed": false,
     "input": "#Input data\nD=200*10**-3                     #Steam engine cylinder in mm  \nL=300*10**-3                     #Bore of steam engine cylinder in mm  \nrc=100/40                        #Cut-off of the sroke\nP1=7                             #Admission pressure of steam in bar\nPb=0.38                          #Exhaust pressure of steam in bar\nK=0.8                            #Diagram factor\nN=200                            #Indicator factor of engine\npi=3.142                         #Constant value\n#Indicated power of the engine  in rpm\nA=pi*(200*10**-3)**2/4\n\n\n#Calculation\nPm=((P1/rc)*(1+math.log(rc))-Pb)  #Therotical mean effective pressure Pm\nPma=Pm*K                          #Actual mean effective pressure Pma\nIP=(2*Pma*L*A*N/60000)*10**5      #Indicated power of steam engine in Kw\n\n\n#Output\nprint(\"Therotical mean effective pressure= \",round(Pm,3),\"bar\")\nprint(\"Actual mean effective pressure=\",round(Pma,),\"bar\")\nprint(\"Indicated power of steam engine=\",round(IP,2),\"Kw\")\n\n",
     "language": "python",
     "metadata": {},
     "outputs": [
      {
       "output_type": "stream",
       "stream": "stdout",
       "text": "Therotical mean effective pressure=  4.986 bar\nActual mean effective pressure= 4 bar\nIndicated power of steam engine= 25.06 Kw\n"
      }
     ],
     "prompt_number": 9
    },
    {
     "cell_type": "heading",
     "level": 2,
     "metadata": {},
     "source": "Example 10 Page No:290"
    },
    {
     "cell_type": "code",
     "collapsed": false,
     "input": "#Input data\nimport math\nIP=343                  #Steam engine develop indicated power in Kw\nN=180                   #power In rpm\nP1=15                   #Steam supplied i bar                   \nPb=1.25                 #Steam is exhausted in bar\nrc=100/25               #Cut-off take place of stroke\nK=0.78                  #Diagram factor\n#x=L/D=4/3\nx=4/3                   #Stroke to bore ratio\npi=3.142\nA=((pi/4)*(D**2))\n\n#calculation\nPm=((P1/rc)*(1+math.log(rc))-Pb)    #Therotical mean effective pressure Pm\nPma=Pm*K                            #Actual mean effective pressure Pma\nD=(((60000*IP)/(2*(Pma*10**5)*(4/3)*N))/(pi/4))**(1/3)#Indicated power of steam engine\nL=(x)*D\n\n\n#Output\nprint(\"Therotical mean effective pressure=\",round(Pm,2),\"bar\")\nprint(\"Actual mean effective pressure=\",round(Pma,2),\"bar\")\nprint(\"Indicated power of steam engine=\",round(D,3),\"mm\")\nprint(\"Indicated power of steam engine=\",round(L,1),\"mm\")\n\n",
     "language": "python",
     "metadata": {},
     "outputs": [
      {
       "output_type": "stream",
       "stream": "stdout",
       "text": "Therotical mean effective pressure= 7.7 bar\nActual mean effective pressure= 6.0 bar\nIndicated power of steam engine= 0.45 mm\nIndicated power of steam engine= 0.6 mm\n"
      }
     ],
     "prompt_number": 10
    },
    {
     "cell_type": "heading",
     "level": 2,
     "metadata": {},
     "source": "Example 11 Page No:290"
    },
    {
     "cell_type": "code",
     "collapsed": false,
     "input": "#Input data\nimport math\nD=240*10**-3  #Steam engine bor\nL=300*10**-3  #Stroke of engine\nN=220         #Speed of engine 220 in rpm      \nIP=36         #Indicated power in Kw\nPb=1.3        #Exhaust pressure in bar\nre=2.5        #Expansion ratio\nK=0.8         #Diagram factor\nA=((pi/4)*(D**2))\n\n\n#Calculation\nPma=((IP*60000)/(2*10**5*L*A*N))  #Indicated power of steam engine in bar\nPm=Pma/K                          #Actual mean effective pressure in bar\nP1=((Pm+Pb)*re)/(1+math.log(re))  #Theoretical mean effective pressure in bar\n\n#Output\nprint(\"Indicated power of steam engine=\",round(Pma,3),\"bar\")\nprint(\"Actual mean effective pressure=\",round(Pm,3),\"bar\")\nprint(\"theoretical mean effective pressure=\",round(P1,1),\"bar\")\n\n",
     "language": "python",
     "metadata": {},
     "outputs": [
      {
       "output_type": "stream",
       "stream": "stdout",
       "text": "Indicated power of steam engine= 3.617 bar\nActual mean effective pressure= 4.521 bar\ntheoretical mean effective pressure= 7.6 bar\n"
      }
     ],
     "prompt_number": 11
    },
    {
     "cell_type": "heading",
     "level": 2,
     "metadata": {},
     "source": "Example 12 Page No:291"
    },
    {
     "cell_type": "code",
     "collapsed": false,
     "input": "#Input data\nimport math\nD=700*10**-3             #Steam engine diameter in mm\nL=900*10**-3             #Steam engine diameter in mm\nIp=450                   #Develop indicated power Kw\nN=90                     #Speed of steam engine in rpm\nP2=12                    #Pressure at cut-off in bar\nP1=12                    #Pressure at cut-off in bar\nPb=1.3                   #Back pressure in bar\nK=0.76                   #Diameter factor\npi=3.142\nA=((pi/4)*0.7**2)\n\n#Calculation\nPma=(Ip*60000)/(2*10**5*L*A*90) #Indicated power of steam engine in bar\nPm=Pma/K                        #Theoretical mean effective pressure in bar\n#using trial and error method\nre=1/0.241                             #Expansion ratio\n#Output\nprint(\"Indicated power of steam engine=\",round(Pma,2),\"bar\")\nprint(\"Theoretical mean effective pressure=\",round(Pm,1),\"bar\")\nprint(\"Expansion ratio=\",round(re,2),)",
     "language": "python",
     "metadata": {},
     "outputs": [
      {
       "output_type": "stream",
       "stream": "stdout",
       "text": "Indicated power of steam engine= 4.33 bar\nTheoretical mean effective pressure= 5.7 bar\nExpansion ratio= 4.15\n"
      }
     ],
     "prompt_number": 12
    },
    {
     "cell_type": "heading",
     "level": 2,
     "metadata": {},
     "source": "Example 13 Page No:293"
    },
    {
     "cell_type": "code",
     "collapsed": false,
     "input": "#Input data\nDb=900*10**-3      #Diameter of break drum in mm\ndr=50*10**-3       #Diameter of rope in mm\nW=105*9.81         #dead weight on the tight side of the rope in Kg\nS=7*9.81           #Spring balance of the rope in N\nN=240              #Speed of the engine in rpm\n\n#Calculation\nT=(W-S)*((Db+dr)/2) #Torque Nm\nBp=2*pi*N*T/ 60000  #Brake Power in Kw\n\n#Output\nprint(\"Torque= \",round(T,2),\"Nm\")\nprint(\"Brake Power=\",round(Bp,2),\"Kw\")\n\n",
     "language": "python",
     "metadata": {},
     "outputs": [
      {
       "output_type": "stream",
       "stream": "stdout",
       "text": "Torque=  456.66 Nm\nBrake Power= 11.48 Kw\n"
      }
     ],
     "prompt_number": 13
    },
    {
     "cell_type": "heading",
     "level": 2,
     "metadata": {},
     "source": "Example 14 Page No:294"
    },
    {
     "cell_type": "code",
     "collapsed": false,
     "input": "#Input data\nD=300*10**-3                #steam engine bor\nL=400*10**-3                #stroke \nDb=1.5                      #effective brake diameter\nW=6.2*10**3                 #net load on the brake\nN=180                       #speed of engine in rpm\nPma=6.5*10**3               #mean effective pressure in bar\nA=((pi/4)*0.3**2) \ndr=0\nS=0\n\n#Calculation\nIp=((2*Pma*L*A*N)/60000)*100 #Indicated power of steam engine in Kw\nT=(W-S)*((Db+dr)/2)          #Torque in Nm\nBp=2*pi*N*T/ 60000           #Break power Kw\neta=(Bp/Ip)*100              #Mechanical efficiency in%\n\n\n#Output\nprint(\"Indicated power of steam engine=\",round(Ip,2),\"Kw\")\nprint(\"Torque=\",T,\"Nm\")\nprint(\"Break power=\",round(Bp,2),\"Kw\")\nprint(\"Mechanical efficiency=\",round(eta,1),\"%\")",
     "language": "python",
     "metadata": {},
     "outputs": [
      {
       "output_type": "stream",
       "stream": "stdout",
       "text": "Indicated power of steam engine= 110.28 Kw\nTorque= 4650.0 Nm\nBreak power= 87.66 Kw\nMechanical efficiency= 79.5 %\n"
      }
     ],
     "prompt_number": 14
    }
   ],
   "metadata": {}
  }
 ]
}