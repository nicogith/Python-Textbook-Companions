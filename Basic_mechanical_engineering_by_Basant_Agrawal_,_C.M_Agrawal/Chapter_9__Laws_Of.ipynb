{
 "metadata": {
  "name": "Chapter 9  Laws Of Thermodynamics"
 },
 "nbformat": 3,
 "nbformat_minor": 0,
 "worksheets": [
  {
   "cells": [
    {
     "cell_type": "heading",
     "level": 1,
     "metadata": {},
     "source": " Chapter 9 Law Of Thermodynamics"
    },
    {
     "cell_type": "heading",
     "level": 2,
     "metadata": {},
     "source": "Example 1 Page No:165"
    },
    {
     "cell_type": "code",
     "collapsed": false,
     "input": "#Input data\nQab=720   #Heat transfer of 1st processes in KJ \nQbc=-80   #Heat transfer of 2nd processes in KJ\nQcd=40    #Heat transfer of 3rd processes in KJ\nQda=-640  #Heat transfer of 4th processes in KJ\nWab=-90   #Work transfer of 1st processes in KJ\nWbc=-50   #Work transfer of 2nd processes in KJ\nWcd=130   #Work transfer of 3rd processes in KJ\n\n\n#Calculation\n#From the 1st law of thermodynamic for close system undergoing a cycle.\n\n#Work interaction during the 4th processes \nWda=((Qab+Qbc+Qcd+Qda)-(Wab+Wbc+Wcd)) \n\n#Output\nprint(\"Work interaction during the 4th processes=\",Wda,\"KJ\")\n",
     "language": "python",
     "metadata": {},
     "outputs": [
      {
       "output_type": "stream",
       "stream": "stdout",
       "text": "Work interaction during the 4th processes= 50 KJ\n"
      }
     ],
     "prompt_number": 5
    },
    {
     "cell_type": "heading",
     "level": 2,
     "metadata": {},
     "source": "Example 2 Page No:166"
    },
    {
     "cell_type": "code",
     "collapsed": false,
     "input": "#Input data\n                      #During compression\nW1=-9200              #Stroke work done by the piston in Nm\nNm1=-9.2              #Nm of work done\nQ1=-50                #Heat rejected during copression in KJ\n                      #During expansion\nW2=8400               #Stroke work done by the piston in Nm\nNm2=8.4               #Nm of work done\n\n#Calculation\n                      #Quantity of heat transferred\nQ2=-((Nm1+Nm2)+Q1)    #-sign for indicate heat is transferred\n\n\n#Output\nprint(\"Quantity of heat transferred=\",Q2,\"KJ\")",
     "language": "python",
     "metadata": {},
     "outputs": [
      {
       "output_type": "stream",
       "stream": "stdout",
       "text": "Quantity of heat transferred= 50.8 KJ\n"
      }
     ],
     "prompt_number": 3
    },
    {
     "cell_type": "heading",
     "level": 2,
     "metadata": {},
     "source": "Example 3 Page No:166"
    },
    {
     "cell_type": "code",
     "collapsed": false,
     "input": "#input data\nW1=-20                  #Work interaction to the fluid in KJ\nW2=42                   #Work interaction from the fluid in KJ\nQ1=85                   #Heat interaction to the fluid in KJ\nQ2=85                   #Heat interaction to the fluid in KJ\nQ3=-50                  #Heat interaction from the fluid in KJ\n\n#calculation\nW3=((Q1+Q2+Q3)-(W1+W2)) #Magnitude and direction of the third heat interation\n\n\n#output\nprint(\"Magnitude and direction of the third heat interation=\",W3,\"KJ\")",
     "language": "python",
     "metadata": {},
     "outputs": [
      {
       "output_type": "stream",
       "stream": "stdout",
       "text": "Magnitude and direction of the third heat interation= 98 KJ\n"
      }
     ],
     "prompt_number": 51
    },
    {
     "cell_type": "heading",
     "level": 2,
     "metadata": {},
     "source": "Example 4 Page No:168"
    },
    {
     "cell_type": "code",
     "collapsed": false,
     "input": "#Input data\nQ=-2100         #Non flow process losses heat in KJ\ndeltaU=420      #Gain heat\n\n#Calculation\nW=Q-deltaU      #Work done and compression process in KJ\n\n#Output\nprint(\"Work done and compression process=\",W,\"KJ\")",
     "language": "python",
     "metadata": {},
     "outputs": [
      {
       "output_type": "stream",
       "stream": "stdout",
       "text": "Work done and compression process= -2520 KJ\n"
      }
     ],
     "prompt_number": 52
    },
    {
     "cell_type": "heading",
     "level": 2,
     "metadata": {},
     "source": "Example 5 Page No:168"
    },
    {
     "cell_type": "code",
     "collapsed": false,
     "input": "#Input data\nW=-2000      #Work input of panddle wheel in KJ\nQ=-6000      #Heat transferred to the surrounding from tank\n\n#Calculation\ndeltaU=Q-W   #Change in interval energy\n\n#Output\nprint(\"change in interval energy drop=\",deltaU,\"KJ\")",
     "language": "python",
     "metadata": {},
     "outputs": [
      {
       "output_type": "stream",
       "stream": "stdout",
       "text": "change in interval energy drop= -4000 KJ\n"
      }
     ],
     "prompt_number": 9
    },
    {
     "cell_type": "heading",
     "level": 2,
     "metadata": {},
     "source": "Example 6 Page No:169"
    },
    {
     "cell_type": "code",
     "collapsed": false,
     "input": "#Input data\nU1=520       #internal energy in KJ/Kg\nU2=350       #internal energy in KJ/Kg\nW=-80        #work done by the air in the cylinder KJ/kg\n\n#Calculation\ndeltaU=U2-U1\nQ=deltaU+W   #Heat transferred during the process\n\n#Output\nprint(\"Heat transferred during the process=\",Q,\"KJ\")\n    ",
     "language": "python",
     "metadata": {},
     "outputs": [
      {
       "output_type": "stream",
       "stream": "stdout",
       "text": "Heat transferred during the process= -250 KJ\n"
      }
     ],
     "prompt_number": 12
    },
    {
     "cell_type": "heading",
     "level": 2,
     "metadata": {},
     "source": "Example 7 Page No:169"
    },
    {
     "cell_type": "code",
     "collapsed": false,
     "input": "#Input data\nW1=800              #Power of turbine shaft Kw\nW2=-5               #Work pump to feed in Kw  \nQ1=2700             #Heat for steam generation KJ/Kg\nQ2=-1800            #Condenser rejected heat KJ/Kg\n\n#Calculation\nm=((W1+W2)/(Q1+Q2)) #Steam flow rate in Kg/h\n\n\n#Output\nprint(\"Steam flow rate=\",round(m,4),\"Kg/s\")\n",
     "language": "python",
     "metadata": {},
     "outputs": [
      {
       "output_type": "stream",
       "stream": "stdout",
       "text": "Steam flow rate= 0.8833 Kg/s\n"
      }
     ],
     "prompt_number": 13
    },
    {
     "cell_type": "heading",
     "level": 2,
     "metadata": {},
     "source": "Example 8 Page No:170"
    },
    {
     "cell_type": "code",
     "collapsed": false,
     "input": "#input data\n#Data consistent with first law pf thermodynamics\nQabcd=-22                    #In KJ\nN=150                        #In Cycles/min\nQab=17580                    #In KJ/min\nQbc=0 \nQcd=-3660                    #In KJ/min\nWab=-8160                    #In KJ/min\nWbc=4170                    #In KJ/min \nDeltaUcd=-21630              #In KJ/min\n\n\n#calculation\nDeltaUab=Qab-Wab              #In KJ/min\nDeltaUbc=Qbc-Wbc              #In KJ/min \nWcd=Qcd-DeltaUcd              #In KJ/min\nQabcd1=-220*150               #In KJ/min\nQda=((Qabcd1)-(Qab+Qbc+Qcd))  #In KJ/min\nWda=((Qabcd1)-(Wab+Wbc+Wcd))     #In KJ/min\nDeltaUabcd=0\nDeltaUda=((DeltaUabcd)-(DeltaUab+DeltaUbc+DeltaUcd)) #In KJ/min\nNWO=Qabcd1/60                   #In KW\n\n\n#output\nprint(\"DeltaUab= \",DeltaUab,\"KJ/min\")\nprint(\"DeltaUbc= \",DeltaUbc,\"KJ/min\")\nprint(\"Wcd= \",Wcd,\"KJ/min\")\nprint(\"Qabcd1= \",Qabcd1,\"KJ/min\")\nprint(\"Qda= \",Qda,\"KJ/min\")\nprint(\"Wda= \",Wda,\"KJ/min\")\nprint(\"DeltaUabcd= \",DeltaUabcd,\"KJ/min\")\nprint(\"DeltaUda= \",DeltaUda,\"KJ/min\")\nprint(\"NWO=\",NWO,\"Kw\")\n",
     "language": "python",
     "metadata": {},
     "outputs": [
      {
       "output_type": "stream",
       "stream": "stdout",
       "text": "DeltaUab=  25740 KJ/min\nDeltaUbc=  -4170 KJ/min\nWcd=  17970 KJ/min\nQabcd1=  -33000 KJ/min\nQda=  -46920 KJ/min\nWda=  -46980 KJ/min\nDeltaUabcd=  0 KJ/min\nDeltaUda=  60 KJ/min\nNWO= -550.0 Kw\n"
      }
     ],
     "prompt_number": 47
    },
    {
     "cell_type": "heading",
     "level": 2,
     "metadata": {},
     "source": "Example 9 Page No:171"
    },
    {
     "cell_type": "code",
     "collapsed": false,
     "input": "#Input data\nQab=-6500  #Heat transferred in 1st process KJ/min\nQbc=0      #Heat transferred in 2nd process \nQcd=-10200 #Heat transferred in 3rd process KJ/min\nQda=32600  #Heat transferred in 4th process KJ/min\nWab=-1050  #Heat transferred in 1st process KJ\nWbc=-3450  #Heat transferred in 2nd process KJ\nWcd=20400  #Heat transferred in 3rd process KJ\nWda=0      #Heat transferred in 4th process\n\n#Calculator\ndQ=Qab+Qbc+Qcd+Qda #Net heat transfer in 1st cycle\ndW=Wab+Wbc+Wcd+Wda #Net work done in 1st cycle\ndW1=dW/60          #Net work done in 1st cycle\nDeltaUab=Qab-Wab   #ab process\nDeltaUbc=Qbc-Wbc   #bc processes\nDeltaUcd=Qcd-Wcd   #cd processes\nDeltaUda=Qda-Wda   #dc processes\n\n#Output\nprint(\"Net heat transfer in 1st cycle= \",dQ,\"KJ/min\")\nprint(\"Net work done in 1st cycle= \",dW,\"KJ/min\")\nprint(\"Net work done in 1st cycle= \",dW1,\"KW\")\nprint(\"ab process= \",DeltaUab,\"KJ/min\")\nprint(\"bc processes= \",DeltaUbc,\"KJ/min\")\nprint(\"cd processes= \",DeltaUcd,\"KJ/min\")\nprint(\"dc processes= \",DeltaUda,\"KJ/min\")\n\n",
     "language": "python",
     "metadata": {},
     "outputs": [
      {
       "output_type": "stream",
       "stream": "stdout",
       "text": "Net heat transfer in 1st cycle=  15900 KJ/min\nNet work done in 1st cycle=  15900 KJ/min\nNet work done in 1st cycle=  265.0 KW\nab process=  -5450 KJ/min\nbc processes=  3450 KJ/min\ncd processes=  -30600 KJ/min\ndc processes=  32600 KJ/min\n"
      }
     ],
     "prompt_number": 50
    }
   ],
   "metadata": {}
  }
 ]
}