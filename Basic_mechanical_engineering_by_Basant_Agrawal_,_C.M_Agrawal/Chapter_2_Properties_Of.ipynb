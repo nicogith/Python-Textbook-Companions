{
 "metadata": {
  "name": "Chapter 2 Properties Of Material"
 },
 "nbformat": 3,
 "nbformat_minor": 0,
 "worksheets": [
  {
   "cells": [
    {
     "cell_type": "heading",
     "level": 1,
     "metadata": {},
     "source": "Chapter 2 Properties Of Material"
    },
    {
     "cell_type": "heading",
     "level": 2,
     "metadata": {},
     "source": "Example 1 Page No:19"
    },
    {
     "cell_type": "code",
     "collapsed": false,
     "input": "#Input data\nL=5                       #Length of steel bar in m\nd=25*10**-3               #Diametr of steel bar in mm\ndeltaLt=25*10**-3         #Steel \npt=800\npi=3.142                  #Power load of steel bar in N\n\n#Calculation\nA=(((pi/4)*((deltaLt)**2))) #Cross-section area\nsigmat=(pt)/(A)           #Stress in  steel bar\net=(deltaLt)/L            #Strain in steel bar\nE=((sigmat)/(et))         #Young's modulus\n\n#Output\nprint(\"value of Cross-section area=\",round(A,8),\"m**2\")\nprint(\"value of tress in  steel bar=\",round(sigmat,),\"MN/m**2\")\nprint(\"value of strain in steel bar=\",et)\nprint(\"value of Young's modulus=\",round(E,),\"N/m**2\")\n",
     "language": "python",
     "metadata": {},
     "outputs": [
      {
       "output_type": "stream",
       "stream": "stdout",
       "text": "value of Cross-section area= 0.00049094 m**2\nvalue of tress in  steel bar= 1629535 MN/m**2\nvalue of strain in steel bar= 0.005\nvalue of Young's modulus= 325907066 N/m**2\n"
      }
     ],
     "prompt_number": 16
    },
    {
     "cell_type": "heading",
     "level": 2,
     "metadata": {},
     "source": "Example 2 Page No:20\n"
    },
    {
     "cell_type": "code",
     "collapsed": false,
     "input": "#Input data\nL=300*10**-3        #Length of hexagonal prismatic steel bar in mm\nA=500*10**-6        #Area of cross section of steel bar mm**2\nPt=500*10**3        #Load of steel bar in KN\nE=210*10**9         #Modulus of elasticity GN/m**2\n\n#Calculation\nsigmat=((Pt)/(A))   #Stress in steel bar\net=((sigmat)/(E))   #Strain steel bar is\ndeltaLt=((et)*(L))  #Therefore,elongation of the steel bar is given by\n\n#Output\nprint('stress in steel bar=',sigmat,\"N/m**2\")\nprint('therefore,strain steel bar is given by=',round(et,6),)\nprint('therefore,elongation of the steel bar is given by=',round(deltaLt,7),\"m\")\n\n\n",
     "language": "python",
     "metadata": {},
     "outputs": [
      {
       "output_type": "stream",
       "stream": "stdout",
       "text": "stress in steel bar= 1000000000.0 N/m**2\ntherefore,strain steel bar is given by= 0.004762\ntherefore,elongation of the steel bar is given by= 0.0014286 m\n"
      }
     ],
     "prompt_number": 21
    },
    {
     "cell_type": "heading",
     "level": 2,
     "metadata": {},
     "source": "Example 3 Page No:21\n"
    },
    {
     "cell_type": "code",
     "collapsed": false,
     "input": "#Input Data\nPt=600                  #Tensils force in N\nd=2*10**-3              #Diameter of steel wire in mm\nL=15                    #Length of wire in m\nE=210*10**9             #Modulus of elasticity of the material in GN/M**2\npi=3.1482\n\n\n#Calculation\nA=((pi/4)*((d)**2))     #(1)cross section area\nsigmat=(Pt)/(A)         #stress in the steel wire \net=((sigmat)/(E))       #(2)Therefore, strain in steel wire is given by\ndeltaLt=et*L            #(3)Enlongation of the steel wire is given by \npe=((deltaLt/L)*100)    #(4)Percentage elongation\n\n\n#Output\nprint(\"cross section area= \",A,\"m**2\")\nprint(\"stress in the steel wire=\",round(sigmat,),\"GN/m**2\")\nprint(\"modulus of elasticity=\",round(et,5),)\nprint(\"strain in steel wire=\",round(deltaLt,4),\"mm\")\nprint(\"percentage elongation= \",round(pe,3),\"%\")\n\n\n\n",
     "language": "python",
     "metadata": {},
     "outputs": [
      {
       "output_type": "stream",
       "stream": "stdout",
       "text": "cross section area=  3.1481999999999998e-06 m**2\nstress in the steel wire= 190585096 GN/m**2\nmodulus of elasticity= 0.00091\nstrain in steel wire= 0.0136 mm\npercentage elongation=  0.091 %\n"
      }
     ],
     "prompt_number": 31
    },
    {
     "cell_type": "heading",
     "level": 2,
     "metadata": {},
     "source": "Example 4 Page No:22\n"
    },
    {
     "cell_type": "code",
     "collapsed": false,
     "input": "#Input data\nA=30*30*10**-6      #Area of square rod in mm**2\nL=5                 #Length of square rod in m\nPc=150*10**3        #Axial comperessive load of a rod  in kN\nE=215*10**9         #Modulus of elasticity in GN/m**2\n\n\n#Calculation\nsigmac=((Pc)/(A))   #Stress in square rod\nec=((sigmac)/(E))   #Modulusof elasticity is E=sigmac/ec ,therefore strain in square rod is\ndeltaLc=ec*5        #Therefore shortening of length of the rod \n\n\n#Output\nprint (\"stress in square rod\",sigmac,\"N/m**2\")\nprint(\"strain in square rod ec=\",round(ec,6),)\nprint(\"shortening of length of the rod=\",round(deltaLc,6),\"m\")",
     "language": "python",
     "metadata": {},
     "outputs": [
      {
       "output_type": "stream",
       "stream": "stdout",
       "text": "stress in square rod 166666666.66666666 N/m**2\nstrain in square rod ec= 0.000775\nshortening of length of the rod= 0.003876 m\n"
      }
     ],
     "prompt_number": 33
    },
    {
     "cell_type": "heading",
     "level": 2,
     "metadata": {},
     "source": "Example 5 Page No:23"
    },
    {
     "cell_type": "code",
     "collapsed": false,
     "input": "#input data\nd=50*10**-6                #Diameter of metalic rod in mm**2\nL=220*10**-3               #Length of metalic rod in mm\nPt=40*10**3                #Load of metalic rod in KN\ndeltaLt=0.03*10**-3        #Elastic enlongation in mm\nypl=160*10**3              #Yield point load in KN\nml=250*10**3               #Maximum load in KN\nlsf=270*10**-3             #Length of specimen at fracture in mm\npi=3.1482\n\n#calculation\nA=(((pi)/(4)*((d)**2)))   #(1)Cross section area\nsigmat=(Pt/A)              #Stress in metallic rod\net=(deltaLt/L)             #Strain n metallic rod\nE=(sigmat/et)              #Young's modulus\nys=(ypl/A)                 #(2)Yeild strength\nuts=(ml/A)                 #(3)Ultimate tensile strength\nPebf=((lsf-L)/L)*100       #Percentage elongation before fracture \n\n\n\n#output\nprint(\"cross section area\",A,\"m**2\")\nprint(\"stress in metallic rod\",round(sigmat,),\"N/m**2\")\nprint(\"strain n metallic rod\",round(et,6),)\nprint(\"young's modulus\",round(E,8),\"GN/m**2\")\nprint(\"yeild strength\",ys,\"MN/m**2\")\nprint(\"ultimate tensile strength\",uts,\"MN/m**2\")\nprint(\"percentage elongation before fracture\",round(Pebf,3),\"%\")\n",
     "language": "python",
     "metadata": {},
     "outputs": [
      {
       "output_type": "stream",
       "stream": "stdout",
       "text": "cross section area 1.967625e-09 m**2\nstress in metallic rod 20329076932851 N/m**2\nstrain n metallic rod 0.000136\nyoung's modulus 1.4907989750757046e+17 GN/m**2\nyeild strength 81316307731402.08 MN/m**2\nultimate tensile strength 127056730830315.75 MN/m**2\npercentage elongation before fracture 22.727 %\n"
      }
     ],
     "prompt_number": 48
    },
    {
     "cell_type": "heading",
     "level": 2,
     "metadata": {},
     "source": "Example 6 Page No:24\n"
    },
    {
     "cell_type": "code",
     "collapsed": false,
     "input": "#Input data\nA=50*50*10**-6                 #Area ofsquare metal bar in mm**2\nPc=600*10**3                   #Axial compress laod in KN\nL=200*10**-3                   #Gauge length of metal bar in mm\ndeltaLc=0.4*10**-3             #Contraction length of metal bar in mm\ndeltaLlateral=0.05*10**-3      #Lateral length of metal bar in mm\n\n#Calculation\nsigmac=((Pc)/(A))              #Stress in square metal bar \nec=((deltaLc)/(L))             #Longitudinal or linear strain in square metal bar\nE =((sigmac)/(ec))             #Smodule of elasticity\nelateral=((deltaLlateral)/(L)) #Lateral strain in square metal bar\npoissonsratio=(elateral)/(ec)\n\n\n#Output\nprint(\"stress in bar=\",sigmac,\"n/m**2\")\nprint(\"longitudinal or linear strain in square metal bar=\",ec,)\nprint(\"module of elasticity=\",E,\"N/m**2\")\nprint(\"lateral strain in square metal bar=\",elateral,)\nprint(\"poissons ratio=\",poissonsratio,)\n\n",
     "language": "python",
     "metadata": {},
     "outputs": [
      {
       "output_type": "stream",
       "stream": "stdout",
       "text": "stress in bar= 240000000.0 n/m**2\nlongitudinal or linear strain in square metal bar= 0.002\nmodule of elasticity= 120000000000.0 N/m**2\nlateral strain in square metal bar= 0.00025\npoissons ratio= 0.125\n"
      }
     ],
     "prompt_number": 41
    }
   ],
   "metadata": {}
  }
 ]
}