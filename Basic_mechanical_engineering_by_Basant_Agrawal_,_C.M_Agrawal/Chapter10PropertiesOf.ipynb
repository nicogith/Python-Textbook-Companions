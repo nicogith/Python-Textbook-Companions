{
 "metadata": {
  "name": "Chapter 10 Properties Of Steam"
 },
 "nbformat": 3,
 "nbformat_minor": 0,
 "worksheets": [
  {
   "cells": [
    {
     "cell_type": "heading",
     "level": 1,
     "metadata": {},
     "source": "\nChapter 10 Properties Of Steam"
    },
    {
     "cell_type": "heading",
     "level": 2,
     "metadata": {},
     "source": "Example 1 Page No:183"
    },
    {
     "cell_type": "code",
     "collapsed": false,
     "input": "#Input data\nmw=15      #Water steam\nms=185     #Dry steam\n\n#Calculation\nx=((ms)/(ms+mw))*100 #Dryness fuction of steam in %\n\n#Output\nprint(\"Dryness fuction of steam=\",x,\"%\")\n",
     "language": "python",
     "metadata": {},
     "outputs": [
      {
       "output_type": "stream",
       "stream": "stdout",
       "text": "Dryness fuction of steam= 92.5 %\n"
      }
     ],
     "prompt_number": 2
    },
    {
     "cell_type": "heading",
     "level": 2,
     "metadata": {},
     "source": "Example 2 Page No:183"
    },
    {
     "cell_type": "code",
     "collapsed": false,
     "input": "#Input data\nsps=150 #saturation pressure of the steam in degree celsius\n\n#Output\nP=4.76 #From steam table\nprint(\"saturation pressure=\",P,\"bar\")\n\n\n\n",
     "language": "python",
     "metadata": {},
     "outputs": [
      {
       "output_type": "stream",
       "stream": "stdout",
       "text": "saturation pressure= 4.76 bar\n"
      }
     ],
     "prompt_number": 3
    },
    {
     "cell_type": "heading",
     "level": 2,
     "metadata": {},
     "source": "Example 3 Page No:184"
    },
    {
     "cell_type": "code",
     "collapsed": false,
     "input": "#Input data\nP1=28      #Absolute pressure in bar\nP2=5.5     #Absolute pressure in MPa\nP3=77      #Absolute pressure in mm of Hg\n\n#Calcutation\nts1=230.05 #Saturation temperature in degree celsius\nts2=269.93 #Saturation temperature in degree celsius\nts3=45.83  #Saturation temperature in degree celsius\n\n#Output\nprint(\"Saturation temperature= \",ts1,\"degree celsius\")\nprint(\"Saturation temperature= \",ts2,\"degree celsius\")\nprint(\"Saturation temperature= \",ts3,\"degree celsius\")",
     "language": "python",
     "metadata": {},
     "outputs": [
      {
       "output_type": "stream",
       "stream": "stdout",
       "text": "Saturation temperature=  230.05 degree celsius\nSaturation temperature=  269.93 degree celsius\nSaturation temperature=  45.83 degree celsius\n"
      }
     ],
     "prompt_number": 4
    },
    {
     "cell_type": "heading",
     "level": 2,
     "metadata": {},
     "source": "Example 4 Page No:185"
    },
    {
     "cell_type": "code",
     "collapsed": false,
     "input": "#Input data\nP=15              #Absolute pressure in bar\n#From steam table (pressure basis at 15 bar)\nts=198.3          #In degree celsius  \nhf=844.7          #In KJ/Kg\nhfg=1945.2        #In KJ/Kg\nhg=2789.9         #In KJ/Kg\ntsup=300          #In degree celsius \nx=0.8\nCps=2.3\nhg=2789.9\n\n#Calculation\nh1=hf+x*hfg        #Enthalpy of wet steam in KJ/KG\nh=hg               #Enthalpy of dry and saturated steam in KJ/KG\nh2=hg+Cps*(tsup-ts)#Enthalpy of superheated steam in KJ/KG\n\n\n#Output\nprint(\"Enthalpy of wet steam= \",h1,\"KJ/Kg\")\nprint(\"Enthalpy of dry and saturated steam= \",h,\"KJ/KG\")\nprint(\"Enthalpy of superheated steam= \",h2,\"KJ/Kg\")",
     "language": "python",
     "metadata": {},
     "outputs": [
      {
       "output_type": "stream",
       "stream": "stdout",
       "text": "Enthalpy of wet steam=  2400.86 KJ/Kg\nEnthalpy of dry and saturated steam=  2789.9 KJ/KG\nEnthalpy of superheated steam=  3023.81 KJ/Kg\n"
      }
     ],
     "prompt_number": 12
    },
    {
     "cell_type": "heading",
     "level": 2,
     "metadata": {},
     "source": "Example 5 Page No:186"
    },
    {
     "cell_type": "code",
     "collapsed": false,
     "input": "#Input data\nti=30         #Temperature in degree celsius\nm=2           #Water in Kg\npf=8          #Steam at 8 bar\nx=0.9         #Water to dry \ntb=30\n#From steam table at 30 degree celsius\nhf=125.7\n#h1=hf initial enthalpy of water\n#From steam table at 8 bar\nts=170.4      #In degree celsius    \nhf1=720.9     #In KJ/KG\nhfg=2046.6    #In KJ/KG\nhg=2767.5     #In KJ/KG\n\n#Calculation\nh=hf1+(x*hfg) #Final Enthalpy of the steam in KJ/Kg\nQha=m*(h-hf)  #Quantity of the heat in KJ/Kg              #Calculation mistake m is not multiplied by (h-hf) in book\n\n#Output\nprint(\"Final Enthalpy of the steam= \",h,\"KJ/Kg\")\nprint(\"Quantity of the heat= \",round(Qha,1),\"KJ/Kg\")\n\n\n",
     "language": "python",
     "metadata": {},
     "outputs": [
      {
       "output_type": "stream",
       "stream": "stdout",
       "text": "Final Enthalpy of the steam=  2562.84 KJ/Kg\nQuantity of the heat=  4874.3 KJ/Kg\n"
      }
     ],
     "prompt_number": 1
    },
    {
     "cell_type": "heading",
     "level": 2,
     "metadata": {},
     "source": "Example 6 Page No:186"
    },
    {
     "cell_type": "code",
     "collapsed": false,
     "input": "#Input data\nIT=25               #Initial temperature\nm=5                 #Heat required to generate steam in kg\npf=10               #Final pressure in bar\ntsup=250            #Water temperature\n#From steam table (temp basis)at 25degree celsius \n#and at 10 bar(pressure basis)\nhf=104.8            #In KJ/KG\nh1=104.8            #In KJ/KG\nts=179.9            #In degree celsius   \nhf1=792.6           #In KJ/KG\nhfg=2013.6          #In KJ/KG\nhg=2776.2           #In KJ/KG\nCps=2.1\n\n#Calculation\nh=hg+Cps*(tsup-ts) #Enthalpy of superheated steam in KJ/Kg\nH=m*(h-h1)         #Quantity of heat added in KJ/Kg\n\n#Output\nprint(\"Enthalpy of superheated steam= \",h,\"KJ/Kg\")\nprint(\"Quantity of heat added= \",round(H,),\"KJ/Kg\")\n\n\n",
     "language": "python",
     "metadata": {},
     "outputs": [
      {
       "output_type": "stream",
       "stream": "stdout",
       "text": "Enthalpy of superheated steam=  2923.41 KJ/Kg\nQuantity of heat added=  14093 KJ/Kg\n"
      }
     ],
     "prompt_number": 5
    },
    {
     "cell_type": "heading",
     "level": 2,
     "metadata": {},
     "source": "Example 7 Page No:188"
    },
    {
     "cell_type": "code",
     "collapsed": false,
     "input": "#Input data\nP=15               #Absolute pressure in bar\n#From steam table (pressure basis at 15 bar)\nts=198.3+273       #In degree celsius\nvg=0.1317          #In m**3/Kg \nvf=0.001154        #In m**3/Kg \nx=0.8        \nTsup=300+273       #Degree celsius\n\n\n#Calculation\nv=(1-x)*vf+x*vg    #Volume of wet steam in m**3/Kg\nvg=0.1317          #Dry and saturated steam in m**3/Kg\nvsup=vg*(Tsup/ts)  #Volume of superheated steam m**3/Kg \n\n\n#Output\nprint(\"Volume of wet steam= \",round(v,4),\"m**3/Kg\")\nprint(\"Dry and Saturated Steam= \",vg,\"m**3/Kg\")  \nprint(\"volume of superheated steam= \",round(vsup,4),\"m**3/Kg\")\n \n\n\n\n",
     "language": "python",
     "metadata": {},
     "outputs": [
      {
       "output_type": "stream",
       "stream": "stdout",
       "text": "Volume of wet steam=  0.1056 m**3/Kg\nDry and Saturated Steam=  0.1317 m**3/Kg\nvolume of superheated steam=  0.1601 m**3/Kg\n"
      }
     ],
     "prompt_number": 6
    },
    {
     "cell_type": "heading",
     "level": 2,
     "metadata": {},
     "source": "Example 8 Page No:188"
    },
    {
     "cell_type": "code",
     "collapsed": false,
     "input": "#Input data\nP=25           #Absolute pressure\nts=223.9       #Volume\n#Frome steam table (pressure basis at 25 bar) \nvf=0.001197    #In m**3/Kg  \nvg=0.0799      #In m**3/Kg \nv=8            #In m**3/Kg \n\n\n#Calculation\nm=v/vg         #Mass of steam in Kg   \n\n#Output\nprint(\"Mass of steam= \",round(m,3),\"Kg\")",
     "language": "python",
     "metadata": {},
     "outputs": [
      {
       "output_type": "stream",
       "stream": "stdout",
       "text": "Mass of steam=  100.125 Kg\n"
      }
     ],
     "prompt_number": 21
    },
    {
     "cell_type": "heading",
     "level": 2,
     "metadata": {},
     "source": "Example 9 Page No:190"
    },
    {
     "cell_type": "code",
     "collapsed": false,
     "input": "#Input data\nP=12*10**5             #Absolute pressure\n#From steam table (pressure basis at 12 bar)\nts=188+273             #In degree celsius\nvf=0.001139            #In m**3/Kg \nvg=0.1632              #In m**3/Kg \nhf=798.4               #In KJ/Kg\nhfg=1984.3             #In KJ/Kg\nhg=2782.7              #In KJ/Kg\nx=0.94\nCps=2.3\ntsup=350+273           #In degree celsius\n\n#Calcuation\nh=hf+x*hfg             #Enthalpy of wet steam in KJ/Kg\nv=(1-x)*vf+x*vg        #Volume of wet steam m**3/Kg\nu=h-((P*v)/10**3)      #Internal Energy in KJ/Kg\nhg=2782.7              #Enthalpy of dry & saturated steam in KJ/Kg\nv1=vg                  #Volume of dry & saturated steam  m**3/Kg\nu1=hg-((P*vg)/10**3)   #Internal Energy in KJ/Kg       \nh1=hg+Cps*(tsup-ts)    #Enthalpy of superheated steam in KJ/Kg\nvsup=vg*(tsup/ts)      #Volume of superheated steam in m**3/Kg\nu2=h1-((P*v)/10**3)    #Internal Energy in KJ/Kg\n\n\n#Output\nprint(\"Enthalpy of wet steam= \",h,\"KJ/Kg\")\nprint(\"Volume of wet steam= \",round(v,5),\"m**3/Kg\")\nprint(\"Internal Energy= \",round(u,2),\"KJ/Kg\")\nprint(\"Enthalpy of dry & saturated steam= \",hg,\"KJ/Kg\")\nprint(\"Volume of dry & saturated steam= \",v1,\"m**3/Kg\")\nprint(\"Internal Energy= \",u1,\"KJ/Kg\")\nprint(\"Enthalpy of superheated steam= \",round(h1,1),\"KJ/Kg\")\nprint(\"Volume of superheated steam= \",round(vsup,3),\"m**3/Kg\")\nprint(\"Internal Energy= \",round(u2,1),\"KJ/Kg\")\n\n",
     "language": "python",
     "metadata": {},
     "outputs": [
      {
       "output_type": "stream",
       "stream": "stdout",
       "text": "Enthalpy of wet steam=  2663.642 KJ/Kg\nVolume of wet steam=  0.15348 m**3/Kg\nInternal Energy=  2479.47 KJ/Kg\nEnthalpy of dry & saturated steam=  2782.7 KJ/Kg\nVolume of dry & saturated steam=  0.1632 m**3/Kg\nInternal Energy=  2586.8599999999997 KJ/Kg\nEnthalpy of superheated steam=  3155.3 KJ/Kg\nVolume of superheated steam=  0.221 m**3/Kg\nInternal Energy=  2971.1 KJ/Kg\n"
      }
     ],
     "prompt_number": 12
    },
    {
     "cell_type": "heading",
     "level": 2,
     "metadata": {},
     "source": "Example 10 Page No:191"
    },
    {
     "cell_type": "code",
     "collapsed": false,
     "input": "#Input data\nP1=10*10**5                  #Pressure of steam in bar\ntsup1=300+273                #Temperature of steam n degree celsius   \nP2=1.4*10**5                 #Internal energy of steam\nx2=0.8                       #Dryness fraction\nCps=2.3\n#from steam table properties of saturated steam (temp basis) \n#at 25 degree celsius and at 10 bar(pressure basis)\nts1=179.9+273\nvf=0.001127                  #In m**3/Kg \nvg=0.1943                    #In m**3/Kg \nhf=762.6                     #In KJ/Kg\nhfg=2013.6                   #In KJ/Kg\nhg1=2776.2                   #In KJ/Kg\n#at 1.4 bar\nts=109.3                     #In degree celsius\nvf1=0.001051                 #In m**3/Kg \nvg1=1.2363                   #In m**3/Kg \nhf1=458.4                    #In KJ/Kg\nhfg1=2231.9                  #In KJ/Kg\nhg=2690.3                    #In KJ/Kg\n\n#calculation\nh1=hg1+Cps*(tsup1-ts1)       #Enthalpy of superheated steam in KJ/Kg\nv1=vg*(tsup1/ts1)            #Volume of superheated steam in m**3/Kg\nu1=h1-((P1*v1)/10**3)        #Internal energy in KJ/Kg\nh2=hf1+x2*hfg1               #Enthalpy of wet steam in KJ/Kg\nVwet=(1-x2)*vf1+x2*vg1       #Volume of wet steam in m**3/Kg\nu2=h2-((P2*Vwet)/10**3)      #Internal energy in KJ/Kg\nDeltaU=u1-u2                 #Change of Internal energy in KJ/Kg\n\n\n#Output\nprint(\"Enthalpy of superheated steam= \",h1,\"KJ/Kg\")\nprint(\"Volume of superheated steam= \",round(v1,4),\"m**3/Kg\")\nprint(\"Internal energy= \",round(u1,1),\"KJ/Kg\")\nprint(\"Enthalpy of wet steam= \",h2,\"KJ/Kg\")\nprint(\"Volume of wet steam= \",round(Vwet,5),\"m**3/Kg\")\nprint(\"Internal energy= \",round(u2,1),\"KJ/Kg\")\nprint(\"Change of Internal energy= \",round(DeltaU,1),\"KJ/Kg\")\n",
     "language": "python",
     "metadata": {},
     "outputs": [
      {
       "output_type": "stream",
       "stream": "stdout",
       "text": "Enthalpy of superheated steam=  3052.43 KJ/Kg\nVolume of superheated steam=  0.2458 m**3/Kg\nInternal energy=  2806.6 KJ/Kg\nEnthalpy of wet steam=  2243.92 KJ/Kg\nVolume of wet steam=  0.98925 m**3/Kg\nInternal energy=  2105.4 KJ/Kg\nChange of Internal energy=  701.2 KJ/Kg\n"
      }
     ],
     "prompt_number": 23
    },
    {
     "cell_type": "heading",
     "level": 2,
     "metadata": {},
     "source": "Example 11 Page No:193"
    },
    {
     "cell_type": "code",
     "collapsed": false,
     "input": "#Input data\nimport math\nP=15                         #Absolute pressure\n#From steam table (pressure basis at 15 bar)\nts=198.3+273                 #In degree celsius   \nSf=2.3145                    #In KJ/KgK\nSfg=4.1261                   #In KJ/KgK\nSg=6.4406                    #In KJ/KgK\ntsup=300+273\nCps=2.3\nx=0.8\n\n#calculation\nS=Sf+x*Sfg                    #Entropy of wet steam in KJ/Kg\nS1=Sg                         #Entropy of superheated steam in KJ/Kg\nS2=Sg+Cps*(math.log(tsup/ts)) #Entropy of superheated steam in  KJ/Kg\n\n#Output\nprint(\"Entropy of wet steam\",round(S,3),\" KJ/Kg\")\nprint(\"Entropy of dry and saturated steam\",S1,\" KJ/Kg\")\nprint(\"Entropy of superheated steam\",round(S2,2),\" KJ/Kg\")\n\n",
     "language": "python",
     "metadata": {},
     "outputs": [
      {
       "output_type": "stream",
       "stream": "stdout",
       "text": "Entropy of wet steam 5.615  KJ/Kg\nEntropy of dry and saturated steam 6.4406  KJ/Kg\nEntropy of superheated steam 6.89  KJ/Kg\n"
      }
     ],
     "prompt_number": 26
    },
    {
     "cell_type": "heading",
     "level": 2,
     "metadata": {},
     "source": "Example 12 Page No:194"
    },
    {
     "cell_type": "code",
     "collapsed": false,
     "input": "#Input data\n#Input data\nimport math\nm=1.5                  #Entropy of the steam\nP=10*10**5             #Absolute pressure in bar\n#From steam table properties of saturated steam \n#(pressure basis)at 10 bar\nts=179.9+273           #Indegree celsius\nvf=0.001127            #In m**3/Kg\nvg=0.1943              #In m**3/Kg\nhf=762.6               #In KJ/Kg\nhfg=2013.6             #In KJ/Kg\nhg=2776.2              #In KJ/Kg\nSf=2.1382              #In KJ/KgK\nSfg=4.4446             #In KJ/KgK\nSg=6.5828              #In KJ/Kg\nCps=2.3\ntsup=250+273\n\n\n#Calculation\n#(1)Enthalpy of dry and saturated steam \n\nh=hg                   #Enthalpy of dry and saturated steam \nEODS=hg*m              #Enthalpy of 1.5Kg of dry and saturated steam \nv=vg                   #volume of dry and saturated steam\nu=h-((P*v)/10**3)      #Internal Energy\nIES=u*m                #Internal energy of the steam\ns=6.5858               #Entropy of dry and saturated steam\nEODSS=s*m              #Entropy of 1.5Kg dry and saturated steam\nx=0.75\n#(2)Enthalpy of wet steam\nh1=hf+x*hfg            #Enthalpy of wet steam\nEWS=h1*m               #Enthalpy of1.5Kg of wet steam\nVwet=x*vg              #Volume of steam\nu1=h1-((P*Vwet)/10**3) #Internal energy \nIES1=u1*m              #Internal energy of1.5Kg of the steam\ns1=Sf+x*Sfg            #Entropy of wet steam\nEWS1=s1*m              #Entropy of1.5Kg of wet steam\n\n#(3)Enthalpy of superheated steam\nh2=hg+Cps*(tsup-ts)    #Enthalpy of superheated steam\nEOSHS=h2*m             #Enthalpy of 1.5Kg of superheated steam\nVsup=vg*(tsup/ts)      #Volume of superheated steam\nu2=h2-((P*Vsup)/10**3) #Internal energy\nIES2=u2*m              #Internal energy of 1.5Kg of the steam\ns2=Sg+Cps*(math.log(tsup/ts))#Entropy of superheated steam\nEOSHS1=s2*m            #Entropy of 1.5Kg of superheated steam\n\n#Output\nprint(\"Enthalpy of dry and saturated steam=  \",h,\"KJ/Kg\")\nprint(\"Enthalpy of 1.5Kg of dry and saturated steam=  \",round(EODS,2),\"KJ\")\nprint(\"volume of dry and saturated steam=  \",v,\"m**3/kg\")\nprint(\"Internal Energy=  \",round(u,2),\"KJ/Kg\")\nprint(\"Internal energy of the steam=  \",round(IES,2),\"kJ\")\nprint(\"Entropy of dry and saturated steam = \",s,\"KJ/KgK\")\nprint(\"Entropy of 1.5kg of dry and saturated steam=  \",EODSS,\"KJ/K\")\n\nprint(\"Enthalpy of wet steam=  \",round(h1,2),\"KJ/Kg\")\nprint(\"Enthalpy of1.5Kg of wet steam=  \",EWS,\"KJ\")\nprint(\"Volume of steam= \",Vwet,\"m**3/Kg\")\nprint(\"Internal energy=   \",u1,\"KJ/Kg\")\nprint(\"Internal energy of1.5Kg of the steam=  \",round(IES1,2),\"KJ\")\nprint(\"Entropy of wet steam=  \",round(s1,2),\"KJ/KgK\")\nprint(\"Entropy of 1.5Kg of wet steam=  \",EWS1,\"KJ/K\")\n\nprint(\"Enthalpy of superheated steam=  \",h2,\"KJ/Kg\")\nprint(\"Enthalpy of 1.5Kg of superheated steam=  \",round(EOSHS,1),\"KJ\")\nprint(\"Volume of superheated steam= \",round(Vsup,4),\"m**3/Kg\")\nprint(\"Internal energy=  \",round(u2,4),\"\")\nprint(\"Internal energy of1.5Kg of the steam=  \",round(IES2,1),\"KJ\")\nprint(\"Entropy of superheated steam=  \",round(s2,4),\"KJ/KgK\")\nprint(\"Entropy of 1.5Kg of superheated steam=  \",round(EOSHS1,2),\"KJ/K\")\n",
     "language": "python",
     "metadata": {},
     "outputs": [
      {
       "output_type": "stream",
       "stream": "stdout",
       "text": "Enthalpy of dry and saturated steam=   2776.2 KJ/Kg\nEnthalpy of 1.5Kg of dry and saturated steam=   4164.3 KJ\nvolume of dry and saturated steam=   0.1943 m**3/kg\nInternal Energy=   2581.9 KJ/Kg\nInternal energy of the steam=   3872.85 kJ\nEntropy of dry and saturated steam =  6.5858 KJ/KgK\nEntropy of 1.5kg of dry and saturated steam=   9.8787 KJ/K\nEnthalpy of wet steam=   2272.8 KJ/Kg\nEnthalpy of1.5Kg of wet steam=   3409.2 KJ\nVolume of steam=  0.145725 m**3/Kg\nInternal energy=    2127.075 KJ/Kg\nInternal energy of1.5Kg of the steam=   3190.61 KJ\nEntropy of wet steam=   5.47 KJ/KgK\nEntropy of 1.5Kg of wet steam=   8.207475 KJ/K\nEnthalpy of superheated steam=   2937.43 KJ/Kg\nEnthalpy of 1.5Kg of superheated steam=   4406.1 KJ\nVolume of superheated steam=  0.2244 m**3/Kg\ninternal energy=   2713.0562 \nInternal energy of1.5Kg of the steam=   4069.6 KJ\nEntropy of superheated steam=   6.9138 KJ/KgK\nEntropy of 1.5Kg of superheated steam=   10.37 KJ/K\n"
      }
     ],
     "prompt_number": 31
    },
    {
     "cell_type": "heading",
     "level": 2,
     "metadata": {},
     "source": "Example 13 Page No:196"
    },
    {
     "cell_type": "code",
     "collapsed": false,
     "input": "#Input data\nV=0.04                  #Volume of vessel in m**3 \nx=1\nt=250+273               #Saturated steam temp in degree celsius\nmw=9                    #Mass of liquid in Kg\n#From steam table(temp basis,at t=250)\nP=39.78*10**5               #in bar\nVf=0.001251             #In m**3/kg\nVg=0.05004              #In m**3/Kg\nhf=1085.7               #KJ/Kg\nhfg=2800.4              #KJ/Kg\nhg=1714.7               #KJ/Kg\n\n#Calculation\nVw=mw*Vf                #Volume occupied by water in m**3\nVs=V-Vw                 #Volume of waterin m**3\nms=Vs/Vg                #Volume of dry and saturated steam in Kg \nm=mw+ms                 #Total mass of steam in Kg\nx=ms/(ms+mw)            #Dryness fraction of steam \nVwet=(1-x)*Vf+x*Vg      #Specific volume of steam in m**3/Kg\nh=hf+x*hfg              #Enthalpy of wet steam in KJ/Kg\nEOWS=h*m                #Enthalpy of 9.574 Kg of wet steam KJ\nu=h-((P*Vwet)/10**3)    #Internal Energy in KJ/Kg\nIEOS=u*m                #Internal energy of 9.574 Kg of steam in KJ\n\n\n#Output\nprint(\"Volume occupied by water= \",round(Vw,5),\"m**3\")\nprint(\"Volume of water= \",round(Vs,5),\"m**3\")\nprint(\"Volume of dry and saturated steam=  \",round(ms,3),\"Kg \")\nprint(\"Total mass of steam= \",round(m,3),\"Kg\")\nprint(\"Dryness fraction of steam= \",round(x,2),)\nprint(\"Specific volume of steam= \",round(Vwet,6),\" m**3/Kg\")\nprint(\"Enthalpy of wet steam= \",round(h,1),\"KJ/Kg\")\nprint(\"Enthalpy of 9.574 Kg of wet steam= \",round(EOWS,),\"KJ\")\nprint(\"Internal Energy= \",round(u,1),\"KJ/Kg\")\nprint(\"Internal energy of 9.574 Kg of steam= \",round(IEOS),\"KJ\")\n\n",
     "language": "python",
     "metadata": {},
     "outputs": [
      {
       "output_type": "stream",
       "stream": "stdout",
       "text": "Volume occupied by water=  0.01126 m**3\nVolume of water=  0.02874 m**3\nVolume of dry and saturated steam=   0.574 Kg \nTotal mass of steam=  9.574 Kg\nDryness fraction of steam=  0.06\nSpecific volume of steam=  0.004178  m**3/Kg\nEnthalpy of wet steam=  1253.7 KJ/Kg\nEnthalpy of 9.574 Kg of wet steam=  12003 KJ\nInternal Energy=  1237.1 KJ/Kg\nInternal energy of 9.574 Kg of steam=  11844 KJ\n"
      }
     ],
     "prompt_number": 40
    },
    {
     "cell_type": "heading",
     "level": 2,
     "metadata": {},
     "source": "Example 14 Page No:197"
    },
    {
     "cell_type": "code",
     "collapsed": false,
     "input": "#Input Data\nP=7                 #Absolute pressure in bar\nt=200               #Absolute temperature\nts=165              #In degree celsius from steam table\n\n#Calculation\ndos=t-ts            #Degree of superheat in degree celcius\n\n#Output\nprint(\"Degree of superheat= \",dos,\"degree celcius\")",
     "language": "python",
     "metadata": {},
     "outputs": [
      {
       "output_type": "stream",
       "stream": "stdout",
       "text": "Degree of superheat=  35 degree celcius\n"
      }
     ],
     "prompt_number": 7
    },
    {
     "cell_type": "heading",
     "level": 2,
     "metadata": {},
     "source": "Example 15 Page No:197"
    },
    {
     "cell_type": "code",
     "collapsed": false,
     "input": "#Input data\nP=15          #Absolute pressure in bar\n#From steam table (pressure basis at 15 bar)\nh=1950       #In KJ/Kg\nts=198.3     #In degreee celsius\nhf=844.7     #In KJ/Kg\nhfg=1945.2   #In KJ/Kg\nhg=2789.9    #In KJ/Kg\n\n#calculation\nx=((h-hf)/hfg)  #Enthalpy of wet steam\n\n#Output\nprint(\"Enthalpy of wet steam= \",round(x,3),\"\")\n",
     "language": "python",
     "metadata": {},
     "outputs": [
      {
       "output_type": "stream",
       "stream": "stdout",
       "text": "Enthalpy of wet steam=  0.568 \n"
      }
     ],
     "prompt_number": 8
    },
    {
     "cell_type": "heading",
     "level": 2,
     "metadata": {},
     "source": "Example 16 Page No:197"
    },
    {
     "cell_type": "code",
     "collapsed": false,
     "input": "#Input data\nP=15                      #Absolute pressure in bar\n#From steam table (pressure basis at 15 bar)\nh=3250                    #In KJ/Kg\nts=198.3                  #In degree celsius   \nhf=844.7                  #In KJ/Kg\nhfg=1945.2                #In KJ/Kg\nhg=2789.9                 #In KJ/Kg\nCps=2.3\n\n#Calculation\ntsup=(h-hg+(Cps*ts))/2.3 #Enthalpy of superheated steam in degree celsius\ndos=tsup-ts              #Degree of superheated in degree celsius          \n                         ##The value of ts in not used according to data in book instead of ts=198.3 author used ts=165\n\n#Output\nprint(\"Enthalpy of superheated steam=  \",round(tsup,2),\"degree celcius\")\nprint(\"Degree of superheated=  \",round(dos,2),\"degree celcius\")",
     "language": "python",
     "metadata": {},
     "outputs": [
      {
       "output_type": "stream",
       "stream": "stdout",
       "text": "Enthalpy of superheated steam=   398.34 degree celcius\nDegree of superheated=   200.04 degree celcius\n"
      }
     ],
     "prompt_number": 9
    },
    {
     "cell_type": "heading",
     "level": 2,
     "metadata": {},
     "source": "Example 17 Page No:198"
    },
    {
     "cell_type": "code",
     "collapsed": false,
     "input": "#Input data\nP=7                  #Absolute pressure in bar\nv=0.2                #Specific volume in m**3/Kg\n#from steam table (pressure basis at 7 bar) \nts=165               #In degree celsius\nvf=0.001108          #In m**3/Kg\nvg=0.2727            #In m**3/Kg\n\n#calculation\nx=v/vg               #Volume of steam dryness fraction\n\n#Output\nprint(\"Volume of steam dryness fraction= \",round(x,3),)",
     "language": "python",
     "metadata": {},
     "outputs": [
      {
       "output_type": "stream",
       "stream": "stdout",
       "text": "Volume of steam dryness fraction=  0.733\n"
      }
     ],
     "prompt_number": 10
    },
    {
     "cell_type": "heading",
     "level": 2,
     "metadata": {},
     "source": "Example 18 Page No:198"
    },
    {
     "cell_type": "code",
     "collapsed": false,
     "input": "#Input data\nP=7                             #Absolute pressure in bar\nv=0.3                           #Specific volume in m**3/Kg\n#From steam table (pressure basis at 7 bar)\nts=165+273                      #In degree celsius\nvf=0.001108                     #In m**3/Kg\nvg=0.2727                       #In m**3/Kg\n\n#Calculation\n#v=vg*tsup/ts\ntsup=((v/vg)*ts)-273            #Temp of superheated steam  in degree celsius\nDOS=tsup+273-ts                 #Degree of superheated  in degree celsius\n\n#Output\nprint(\"Temp of superheated steam= \",round(tsup,2),\"degree celsius\")\nprint(\"Degree of superheated=  \",round(DOS,2),\"degree celsius\")\n",
     "language": "python",
     "metadata": {},
     "outputs": [
      {
       "output_type": "stream",
       "stream": "stdout",
       "text": "Temp of superheated steam=  208.85 degree celsius\nDegree of superheated=   43.85 degree celsius\n"
      }
     ],
     "prompt_number": 11
    },
    {
     "cell_type": "heading",
     "level": 2,
     "metadata": {},
     "source": "Example 19 Page No:198"
    },
    {
     "cell_type": "code",
     "collapsed": false,
     "input": "#Input data\nm=2        #steam of vessel in Kg\nV=0.1598   #volume of vessel in M**3\nP=25       #Absolute pressure of vessel in bar\n\n#Calculation\nv=V/m      #Quality of steam in m**3/Kg\n\n#Output\nprint(\"Quality of steam\",v,\" m**3/Kg\")",
     "language": "python",
     "metadata": {},
     "outputs": [
      {
       "output_type": "stream",
       "stream": "stdout",
       "text": "Quality of steam 0.0799  m**3/Kg\n"
      }
     ],
     "prompt_number": 12
    },
    {
     "cell_type": "heading",
     "level": 2,
     "metadata": {},
     "source": "Example 20 Page No:200"
    },
    {
     "cell_type": "code",
     "collapsed": false,
     "input": "#Input data\nP=10*10**2                #Absolute pressure in bar\nx1=0.9                    #Dryness enters\ntsup2=300+273             #Temperature in degree celsius \n#From steam table at 10 bar\nts=179.9+273              #In degree celsius\nVg=0.1943                 #In m**3/Kg\nhf=762.6                  #In KJ/Kg\nhfg=2013.6                #InK/Kg\nhg=2776.2                 #In KJ/Kg\n\n#Calculation\nh1=hf+x1*hfg              #Initial enthalpy of steam in KJ/Kg\nV1=x1*Vg                  #Initial specific volume of steam\nu1=h1-P*V1                #Initial internal energy of steam in KJ/Kg\nh2=hg+Cps*(tsup2-ts)      #Final enthalpy of steam in KJ/Kg\nV2=Vg*(tsup2/ts)          #Final specific volume of steam in m**3/Kg\nu2=h2-P*V2                #Final internal energy of steam in KJ/K\ndeltah=h2-h1              #Heat gained by steam in KJ/Kg\ndeltaU=(u2-u1)            #Change in internal energy in KJ/Kg\n\n#Output\nprint(\"Initial enthalpy of steam= \",h1,\"KJ/Kg\")\nprint(\"Initial specific volume of steam= \",V1,)\nprint(\"Initial internal energy of steam= \",round(u1,2),\"KJ/Kg\")\nprint(\"Final enthalpy of steam= \",h2,\"KJ/Kg\")\nprint(\"Final specific volume of steam= \",round(V2,4),\"m**3/Kg\")\nprint(\"Final internal energy of steam= \",round(u2,3),\"KJ/Kg\")\nprint(\"Heat gained by steam= \",round(deltah,2),\"KJ/Kg\")\nprint(\"Change in internal energy=  \",round(deltaU,2),\"KJ/Kg\")\n\n\n",
     "language": "python",
     "metadata": {},
     "outputs": [
      {
       "output_type": "stream",
       "stream": "stdout",
       "text": "Initial enthalpy of steam=  2574.84 KJ/Kg\nInitial specific volume of steam=  0.17487\nInitial internal energy of steam=  2399.97 KJ/Kg\nFinal enthalpy of steam=  3052.43 KJ/Kg\nFinal specific volume of steam=  0.2458 m**3/Kg\nFinal internal energy of steam=  2806.606 KJ/Kg\nHeat gained by steam=  477.59 KJ/Kg\nChange in internal energy=   406.64 KJ/Kg\n"
      }
     ],
     "prompt_number": 13
    },
    {
     "cell_type": "heading",
     "level": 2,
     "metadata": {},
     "source": "Example 21 Page No:201"
    },
    {
     "cell_type": "code",
     "collapsed": false,
     "input": "#Input data\nm=4                        #Steam in Kg\nP=13                       #Absolute pressure in bar\ntsup1=450                  #Absolute temp in degree celsius \ndeltaH=2.8*10**3           #loses in MJ\n#from steam table at 13 bar\nts=191.6                   #In degree celsius\nVg=0.1511                  #In m**3/Kg\nhf=814.7                   #In m**3/Kg\nhfg=1970.7                 #In  KJ/Kg\nhg=2785.4                  #In KJ/Kg\n\n#Calculation\nh1=hg+Cps*(tsup1-ts)       #Initial enthalpy of steam in KJ/Kg\nDeltah=deltaH/m            #Change in enthalpy/unit mass in KJ/Kg\nh2=h1-Deltah               #Final enthalpy of steam in KJ/Kg\nx2=(h2-hf)/hfg             #wet & dryness fraction\n\n#Output\nprint(\"Initial enthalpy of steam= \",round(h1,2),\" KJ/Kg\")\nprint(\"Change in enthalpy/unit mass= \",Deltah,\"KJ/Kg\")\nprint(\"Final enthalpy of steam= \",round(h2,2),\"KJ/Kg\")\nprint(\"wet & dryness fraction= \",round(x2,4),)",
     "language": "python",
     "metadata": {},
     "outputs": [
      {
       "output_type": "stream",
       "stream": "stdout",
       "text": "Initial enthalpy of steam=  3379.72  KJ/Kg\nChange in enthalpy/unit mass=  700.0 KJ/Kg\nFinal enthalpy of steam=  2679.72 KJ/Kg\nwet & dryness fraction=  0.9464\n"
      }
     ],
     "prompt_number": 14
    },
    {
     "cell_type": "heading",
     "level": 2,
     "metadata": {},
     "source": "Example 22 Page No:202"
    },
    {
     "cell_type": "code",
     "collapsed": false,
     "input": "#Input data\nm=2                           #Steam in Kg\nx=0.7                         #Initial dryness \nP=15                          #Constant pressure in bar\n#V2=2V1\n#from steam table properties of\n#saturated steam(pressure basis) at 15 bar\nTs=198.3+273                  #In degree celsius \nVg=0.1317                     #In m**3/Kg\nhf=844.7                      #In KJ/Kg\nhfg=1945.2                    #In KJ/Kg\nhg=2789.9                     #In KJ/Kg\nCps=2.3\n\n#Calculation\nV1=x*Vg                       #Initial specific volume of steam in m**3/Kg\nV2=2*V1                       #Final specific volume of steam in m**3/Kg\nTsup=(V2/Vg)*Ts               #Steam is superheated in degree celsius \nFSS=Tsup-Ts                   #Degree of superheated in degree celsius\nh1=hf+x*hfg                   #Initial enthalpy of steam in KJ/Kg\nh2=hg+Cps*(Tsup-Ts)           #Final enthalpy of steam in KJ/Kg \nQ=(h2-h1)*m                   #Heat transferred in the process in KJ\nW1=P*(m*V2-m*V1)              #Work transferred in the process in KJ\n\n#Output\nprint(\"Initial specific volume of steam= \",round(V1,4),\"m**3/Kg\")\nprint(\"Final specific volume of steam= \",round(V2,4),\"m**3/Kg\")\nprint(\"Steam is superheated=  \",round(Tsup,2),\"K\")\nprint(\"Degree of superheated= \",round(FSS,2),\"degree celsius\")\nprint(\"Initial enthalpy of steam= \",h1,\"KJ/Kg\")\nprint(\"Final enthalpy of steam= \",round(h2,2),\"KJ/Kg\")\nprint(\"Heat transferred in the process= \",round(Q,2),\"KJ\")\nprint(\"Work transferred in the process= \",round(W1,3),\"KJ\")\n\n",
     "language": "python",
     "metadata": {},
     "outputs": [
      {
       "output_type": "stream",
       "stream": "stdout",
       "text": "Initial specific volume of steam=  0.0922 m**3/Kg\nFinal specific volume of steam=  0.1844 m**3/Kg\nSteam is superheated=   659.82 K\nDegree of superheated=  188.52 degree celsius\nInitial enthalpy of steam=  2206.34 KJ/Kg\nFinal enthalpy of steam=  3223.5 KJ/Kg\nHeat transferred in the process=  2034.31 KJ\nWork transferred in the process=  2.766 KJ\n"
      }
     ],
     "prompt_number": 15
    },
    {
     "cell_type": "heading",
     "level": 2,
     "metadata": {},
     "source": "Example 23 Page No:203"
    },
    {
     "cell_type": "code",
     "collapsed": false,
     "input": "#Input data\nms=1000                      #Steam in Kg/h       \nP=16                         #Absolute pressure in bar\nx2=0.9                       #Steam is dry \nt1=30+273                    #temperature in degree celsius\ntsup=380                     #tmperature rised in degree celsius                                                            \n                    \n#from steam table(pressure basis at 16 bar)\nh1=125.7                     #in KJ/Kg\nts=201.4                     #In degree celsius\nhf=858.5                     #in kJ/Kg\nhfg=1933.2                   #in kJ/Kg\nhg=2791.7                    #in kJ/Kg\nCps=2.3\n\n#Calculation       \nh2=hf+x2*hfg                 #Final enthalpy of wet steam in KJ/Kg \nQ1=(ms*(h2-h1))*10**-3       #Constant pressure process in KJ/h \nh3=hg+Cps*(tsup-ts)          #Final enthalpy of superheated steam in KJ/g\nQ2=(ms*(h3-h2))*10**-3       #Suprheated steam in KJ/h\n\n#Output\nprint(\"Final enthalpy of wet steam= \",round(h2,1),\"KJ/Kg \")\nprint(\"Constant pressure process= \",round(Q1,1),\" KJ/h \")\nprint(\"Final enthalpy of superheated steam= \",round(h3,1),\" KJ/g\")\nprint(\"Suprheated steam= \",round(Q2,1),\"KJ/h\")",
     "language": "python",
     "metadata": {},
     "outputs": [
      {
       "output_type": "stream",
       "stream": "stdout",
       "text": "Final enthalpy of wet steam=  2598.4 KJ/Kg \nConstant pressure process=  2472.7  KJ/h \nFinal enthalpy of superheated steam=  3202.5  KJ/g\nSuprheated steam=  604.1 KJ/h\n"
      }
     ],
     "prompt_number": 16
    },
    {
     "cell_type": "heading",
     "level": 2,
     "metadata": {},
     "source": "Example 24 Page No:204"
    },
    {
     "cell_type": "code",
     "collapsed": false,
     "input": "#Input data\nFB=15                    #First boiler in bar\nSB=15                    #Second boiler in bar\ntsup1=300                #Temperature of the steam in degree celsius\ntsup2=200                #Temperature of the steam in degree celsius\n#From steam table (pressure basis at 15 bar )\nts=198.3                 #In degree celsius                \nhf=844.7                 #In KJ/Kg\nhfg=1945.2               #In KJ/Kg\nhg=2789.9                #In KJ/I\nCps=2.3\n\n#Calculation\nh1=hg+Cps*(tsup1-ts)     #Enthalpy of steam of first boiler in KJ/Kg \nh3=hg+Cps*(tsup2-ts)     #Enthalpy of steam in steam main in KJ/Kg\nh2=2*h3-h1               #Energy balance in KJ/Kg\nx2=(h2-hf)/hfg           #Enthalpy of wet steam\n\n#OUTPUT\nprint(\"Enthalpy of steam of first boiler= \",round(h1,1),\"KJ/Kg\")\nprint(\"Enthalpy of steam in steam main= \",round(h3,1),\"KJ/Kg\")\nprint(\"Energy balance= \",round(h2,1),\"KJ/Kg\")\nprint(\"Enthalpy of wet steam= \",round(x2,3),)\n",
     "language": "python",
     "metadata": {},
     "outputs": [
      {
       "output_type": "stream",
       "stream": "stdout",
       "text": "Enthalpy of steam of first boiler=  3023.8 KJ/Kg\nEnthalpy of steam in steam main=  2793.8 KJ/Kg\nEnergy balance=  2563.8 KJ/Kg\nEnthalpy of wet steam=  0.884\n"
      }
     ],
     "prompt_number": 1
    },
    {
     "cell_type": "heading",
     "level": 2,
     "metadata": {},
     "source": "Example 25 Page No:205"
    },
    {
     "cell_type": "code",
     "collapsed": false,
     "input": "#Input data\nV=0.35                     #Capacity of vessel in m**3\nP1=10*10**2                #Absolute pressure in bar\ntsup1=250+273              #Absolute temperature in degree celsius \nP2=2.5*102                 #Absolute pressure in the vessel fall in bar\n\n#From steam table (pressure basis at 10 bar)\nts1=179.9+273              #In degree celsius \nVg1=0.1943                 #In m**3/Kg\nhf1=762.6                  #In KJ/Kg\nhfg1=2013.6                #In KJ/Kg\nhg1=2776.2                 #In KJ/Kg\n\n#From steam table(pressure basis at 2.5 bar)\nV2=0.2247                  #In m**3/Kg\nts2=127.4                  #In degree celsius\nVg2=0.7184                 #In m**3/Kg\nhf2=535.3                  #In KJ/Kg\nhfg2=2181.0                #In KJ/Kg\nhg2=2716.4                 #In KJ/Kg\n\n#Calculation\nV1=Vg1*(tsup1/ts1)         #Initial specific volume of steam in m**3/Kg\nm=V/V1                     #Initial mass of steam in Kg\nx2=V2/Vg2                  #Final condition of wet steam\nh1=hg1+Cps*(tsup1-ts1)     #Initial enthalpy of steam in KJ/Kg\nu1=h1-P1*V1                #Initial internal energy of steam in KJ/Kg\nh2=hf2+x2*hfg2             #Final enthalpy of steam in KJ/Kg\nu2=h2-P2*V2                #Final internal energy of steam in KJ/Kg\ndeltaU=(u2-u1)*m           #Change in internal energy in KJ\n\n#Output\nprint(\"Initial specific volume of steam= \",round(V1,4),\"m**3/Kg\")\nprint(\"Initial mass of steam= \",round(m,4),\"Kg\")\nprint(\"Final condition of wet steam= \",round(x2,4),)\nprint(\"Initial enthalpy of steam= \",h1,\"KJ/Kg\")\nprint(\"Initial internal energy of steam= \",round(u1,2),\"KJ/Kg\")\nprint(\"Final enthalpy of steam= \",round(h2,1),\" KJ/Kg\")\nprint(\"Final internal energy of steam= \",round(u2,3),\"KJ/Kg\")\nprint(\"Change in internal energy= \",round(deltaU,1),\"KJ\")\n\n",
     "language": "python",
     "metadata": {},
     "outputs": [
      {
       "output_type": "stream",
       "stream": "stdout",
       "text": "Initial specific volume of steam=  0.2244 m**3/Kg\nInitial mass of steam=  1.5599 Kg\nFinal condition of wet steam=  0.3128\nInitial enthalpy of steam=  2937.43 KJ/Kg\nInitial internal energy of steam=  2713.06 KJ/Kg\nFinal enthalpy of steam=  1217.5  KJ/Kg\nFinal internal energy of steam=  1160.171 KJ/Kg\nChange in internal energy=  -2422.3 KJ\n"
      }
     ],
     "prompt_number": 2
    },
    {
     "cell_type": "heading",
     "level": 2,
     "metadata": {},
     "source": "Example 26 Page No:207"
    },
    {
     "cell_type": "code",
     "collapsed": false,
     "input": "#Input data\nm=1.5                          #Saturated steam in Kg\nx1=1                           \nx2=0.6  \nP1=5*10**5                     #Absolute  pressure in bar\n#From steam table at pressure basis 5 bar\nhg1=2747.5                     #In KJ/Kg\nVg1=0.3747                     #In m**3/Kg\nV1=0.3747                      #In m**3/Kg\nV2=0.3747                      #In m**3/Kg\n#From steam table at Vg2 is 2.9 bar\nP2=2.9*10**5                   #Absolute pressure in bar \nt2=132.4                       #In degree celsius \nhf2=556.5                      #In KJ/Kg\nhfg2=2166.6                    #In KJ/Kg\n\n\n    \n#Calculation\nVg2=V2/x2                       #Constant volume process in m**3/Kg\nu1=hg1-((P1*Vg1)/1000)          #Initial internal energy in KJ/Kg\nu2=(hf2+x2*hfg2)-((P2*V2)/1000) #Final internal energy in KJ\ndeltaU=(u1-u2)*m                #Heat supplied in KJ\n\n#Output\nprint(\"Constant volume process= \",round(Vg2,4),\"m**3/Kg\")\nprint(\"Initial internal energy= \",u1,\"KJ/Kg\")\nprint(\"Final internal energy= \",round(u2,1),\"KJ\")\nprint(\"Heat supplied= \",round(deltaU,2),\"KJ\")\n\n",
     "language": "python",
     "metadata": {},
     "outputs": [
      {
       "output_type": "stream",
       "stream": "stdout",
       "text": "Constant volume process=  0.6245 m**3/Kg\nInitial internal energy=  2560.15 KJ/Kg\nFinal internal energy=  1747.8 KJ\nHeat supplied=  1218.53 KJ\n"
      }
     ],
     "prompt_number": 3
    },
    {
     "cell_type": "heading",
     "level": 2,
     "metadata": {},
     "source": "Example 27 Page No:208"
    },
    {
     "cell_type": "code",
     "collapsed": false,
     "input": "#Input data\nP1=20            #Initial steam in bar\nx1=0.95          #dryness throttled\nP2=1.2           #Absolute pressure in bar\n\n#From steam table (pressure basis at 20 bar)\nts=212.4         #In degree celsius\nhf=908.6         #In KJ/Kg\nhfg=1888.6       #In KJ/Kg\nhg=2797.2        #In KJ/Kg\n#From steam table (pressure basis at 1.2 bar)\nh2=h1            #In KJ/Kg\nts2=104.8        #In degree celsius\nhf2=439.3        #In KJ/Kg\nhfg2=2244.1      #In KJ/Kg\nhg2=2683.4       #In KJ/Kg\nCps=2.3\n\n\n#Calculation\nh1=hf+x1*hfg     #Enthalpy of steam in KJ/Kg\ntsup2=((h1-hg2)/Cps)+ts2 #Enthalpy of wet steam in degree celsius\nDOS=tsup2-ts2    #Degree of superheat in degree celsius\n\n\n#Output\nprint(\"Enthalpy of steam= \",h1,\"KJ/Kg\")\nprint(\"Enthalpy of wet steam= \",round(tsup2,2),\"degree celsius\")\nprint(\"Degree of superheat= \",round(DOS,2),\"degree celsius\")",
     "language": "python",
     "metadata": {},
     "outputs": [
      {
       "output_type": "stream",
       "stream": "stdout",
       "text": "Enthalpy of steam=  2702.77 KJ/Kg\nEnthalpy of wet steam=  113.22 degree celsius\nDegree of superheat=  8.42 degree celsius\n"
      }
     ],
     "prompt_number": 4
    },
    {
     "cell_type": "heading",
     "level": 2,
     "metadata": {},
     "source": "Example 28 Page No:209"
    },
    {
     "cell_type": "code",
     "collapsed": false,
     "input": "#Input data\nP1=12           #Throttled steam\nx1=0.96         #Dryness is brottled\nx2=1            #Constant enthalpy process\n#From steam table at12 bar\nts=188          #In degree celsius\nhf=798.4        #In KJ/Kg\nhfg=1984.3      #In KJ/Kg\nhg=2782.7       #In KJ/Kg\n\n\n#Calculation\nh1=hf+x1*hfg    #Enthalpy of the steam  in KJ/Kg    \nh2=h1           #Enthalpy after throttling in KJ/Kg   \n\n#Output\nprint(\"Enthalpy of the steam=  \",round(h1,2),\"KJ/Kg \")\nprint(\"Enthalpy after throttlin= \",round(h2,2),\"KJ/Kg \")\n",
     "language": "python",
     "metadata": {},
     "outputs": [
      {
       "output_type": "stream",
       "stream": "stdout",
       "text": "Enthalpy of the steam=   2703.33 KJ/Kg \nEnthalpy after throttlin=  2703.33 KJ/Kg \n"
      }
     ],
     "prompt_number": 5
    },
    {
     "cell_type": "heading",
     "level": 2,
     "metadata": {},
     "source": "Example 29 Page No:210"
    },
    {
     "cell_type": "code",
     "collapsed": false,
     "input": "#Input data\nimport math\nP1=15                         #Initial steam in bar\ntsup1=250+273                 #Temperature of steam in degree celsius\nP2=0.5                        #Steam turbine in bar\n\n#From steam table at 15 bar\nts1=198.3+273                 #In degree celsius \nhg1=2789.9                    #In KJ/Kg\nsf1=2.3145                    #In KJ/KgK\nsfg1=4.1261                   #In KJ/KgK\nsg1=6.4406                    #In KJ/KgK\n#From steam table at 0.5 bar\nts2=81.53                     #In degree celsius \nsf2=1.0912                    #In KJ/Kg\nsfg2=6.5035                   #In KJ/Kg\nsg2=7.5947                    #In KJ/Kg\nhf2=340.6\nCps=2.3\nhfg2=2646\n\n#Calculation\nS1=sg1+Cps*(math.log(tsup1/ts1)) #Entropy  of superheated steam in KJ/KgK\nS2=S1                            #Entropy after isentropic processes in KJ/KgK\nx2=(S2-sf2)/sfg2                 #Enthalpy of wet steam \nh1=hg1+Cps*(tsup1-ts1)           #Enthalpy of steam at 15 bar\nh2=hf2+x2*hfg2                   #Enthalpy of wet steam at 0.5 bar\nWOT=h1-h2                        #Work output of the turbine\n\n#OUTPUT\nprint(\"Entropy  of superheated steam=  \",round(S1,2),\"KJ/KgK\")\nprint(\"Entropy after isentropic processes= \",round(S2,2),\"KJ/KgK\")\nprint(\"Enthalpy of wet steam= \",round(x2,2),\"\")\nprint(\"Enthalpy of steam= \",h1,\"KJ/Kg\")\nprint(\"Enthalpy of wet steam= \",round(h2,2),\"KJ/Kg\")\nprint(\"Work output of the turbine= \",round(WOT,2),\"KJ/Kg\")\n\n\n",
     "language": "python",
     "metadata": {},
     "outputs": [
      {
       "output_type": "stream",
       "stream": "stdout",
       "text": "Entropy  of superheated steam=   6.68 KJ/KgK\nEntropy after isentropic processes=  6.68 KJ/KgK\nEnthalpy of wet steam=  0.86 \nEnthalpy of steam=  2908.81 KJ/Kg\nEnthalpy of wet steam=  2614.45 KJ/Kg\nWork output of the turbine=  294.36 KJ/Kg\n"
      }
     ],
     "prompt_number": 6
    }
   ],
   "metadata": {}
  }
 ]
}