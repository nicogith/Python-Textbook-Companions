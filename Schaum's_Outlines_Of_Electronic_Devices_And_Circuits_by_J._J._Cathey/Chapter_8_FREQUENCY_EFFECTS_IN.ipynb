{
 "metadata": {
  "name": "",
  "signature": "sha256:8ef023228932ba7c44f0f72b79793f31a32f8ea67eae875510cf71ee015fc22c"
 },
 "nbformat": 3,
 "nbformat_minor": 0,
 "worksheets": [
  {
   "cells": [
    {
     "cell_type": "heading",
     "level": 1,
     "metadata": {},
     "source": [
      "Chapter 8 FREQUENCY EFFECTS IN AMPLIFIERS"
     ]
    },
    {
     "cell_type": "heading",
     "level": 2,
     "metadata": {},
     "source": [
      "Example 8.6 , Page no:242"
     ]
    },
    {
     "cell_type": "code",
     "collapsed": false,
     "input": [
      "import math\n",
      "from __future__ import division\n",
      "\n",
      "#initialisation of variables\n",
      "hie=1000 #\u2126\n",
      "hfe=75 #\u2126\n",
      "Av=50\n",
      "Rl=10000 #k\u2126\n",
      "hie2=300 #\u2126\n",
      "hfe2=100 #\u2126\n",
      "Re=1000 #k\u2126\n",
      "\n",
      "#CALCULATIONS\n",
      "Req=Av*(hie/hfe)     #\u2126\n",
      "Rc=Req*Rl/(Rl-Req)  #k\u2126\n",
      "wL=2*3.14*200\n",
      "Ce=(hie2+(hfe2+1)*Re)/(wL*Re*hie2)*10**6\n",
      "Av1=(hfe*Req)/(hie+(hfe+1)*Re)\n",
      "\n",
      "#RESULTS\n",
      "print\"The value of Req=\",round(Req,3),\"Ohm\";\n",
      "print\"The value of Rc=\",round(Rc,3),\"Ohm\";\n",
      "print\"The value of Ce=\",round(Ce,3),\"mF\";\n",
      "print\"The value of Av=\",round(Av1,3);"
     ],
     "language": "python",
     "metadata": {},
     "outputs": [
      {
       "output_type": "stream",
       "stream": "stdout",
       "text": [
        "The value of Req= 666.667 Ohm\n",
        "The value of Rc= 714.286 Ohm\n",
        "The value of Ce= 268.843 mF\n",
        "The value of Av= 0.649\n"
       ]
      }
     ],
     "prompt_number": 1
    },
    {
     "cell_type": "heading",
     "level": 2,
     "metadata": {},
     "source": [
      "Example 8.8 , Page no:244"
     ]
    },
    {
     "cell_type": "code",
     "collapsed": false,
     "input": [
      "import math\n",
      "from __future__ import division\n",
      "\n",
      "#initialisation of variables\n",
      "hie2=1500    #\u2126\n",
      "Rb2=5000    #k\u2126\n",
      "Z01=10\n",
      "Av=7881.3\n",
      "\n",
      "#CALCULATIONS\n",
      "C2=1*10**-6   \n",
      "Zin2=(hie2*Rb2/(hie2+Rb2))\n",
      "fl=1/(2*3.14*C2*(Zin2+Z01*10**3))\n",
      "\n",
      "#RESULTS\n",
      "print\"The value of Zin2=\",round(Zin2,3),\"Ohm\";\n",
      "print\"The value of fl=\",round(fl,3),\"Hz\";"
     ],
     "language": "python",
     "metadata": {},
     "outputs": [
      {
       "output_type": "stream",
       "stream": "stdout",
       "text": [
        "The value of Zin2= 1153.846 Ohm\n",
        "The value of fl= 14.276 Hz\n"
       ]
      }
     ],
     "prompt_number": 2
    }
   ],
   "metadata": {}
  }
 ]
}