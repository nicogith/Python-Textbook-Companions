{
 "metadata": {
  "name": "",
  "signature": "sha256:31241e97ce14e23180452a4f4c4d016f2cce3d819dc07ea36253a26d0cb306d3"
 },
 "nbformat": 3,
 "nbformat_minor": 0,
 "worksheets": [
  {
   "cells": [
    {
     "cell_type": "heading",
     "level": 1,
     "metadata": {},
     "source": [
      "Chapter 3 CHARACTERISTICS OF BIPOLAR JUNCTION TRANSISTORS"
     ]
    },
    {
     "cell_type": "heading",
     "level": 2,
     "metadata": {},
     "source": [
      "Example 3.1 , Page no:81"
     ]
    },
    {
     "cell_type": "code",
     "collapsed": false,
     "input": [
      "import math\n",
      "from __future__ import division\n",
      "\n",
      "#initialisation of variables\n",
      "betaa=50\n",
      "Ic=1.2 #mA\n",
      "\n",
      "#CALCULATIONS\n",
      "Iceo=3*10**-3 #mA\n",
      "Ib=((Ic-Iceo)/betaa)*1000 #mA\n",
      "IE=(Ic)-(Ib*10**-3)\n",
      "\n",
      "#RESULTS\n",
      "print\"Ib =\",round(Ib,2),\"X 10^-3 mA\";\n",
      "print\"IE =\",round(IE,2),\"m\";"
     ],
     "language": "python",
     "metadata": {},
     "outputs": [
      {
       "output_type": "stream",
       "stream": "stdout",
       "text": [
        "Ib = 23.94 X 10^-3 mA\n",
        "IE = 1.18 m\n"
       ]
      }
     ],
     "prompt_number": 1
    },
    {
     "cell_type": "heading",
     "level": 2,
     "metadata": {},
     "source": [
      "Example 3.2 , Page no:83"
     ]
    },
    {
     "cell_type": "code",
     "collapsed": false,
     "input": [
      "import math\n",
      "from __future__ import division\n",
      "\n",
      "#initialisation of variables\n",
      "betaa=100\n",
      "Ib=0 #mA\n",
      "Icbo=5 #V  #mA\n",
      "Ib=40\n",
      "\n",
      "#CALCULATIONS\n",
      "Iceo=(betaa+1)*Icbo #mA\n",
      "Ic=((betaa*Ib)+(betaa+1)*Icbo)/1000\n",
      "\n",
      "#RESULTS\n",
      "print\"When Ib =0 Iceo =\",round(Iceo,3),\"mA\";\n",
      "print\"When Ib =40 Ic =\",round(Ic,3),\"mA\";"
     ],
     "language": "python",
     "metadata": {},
     "outputs": [
      {
       "output_type": "stream",
       "stream": "stdout",
       "text": [
        "When Ib =0 Iceo = 505.0 mA\n",
        "When Ib =40 Ic = 4.505 mA\n"
       ]
      }
     ],
     "prompt_number": 2
    },
    {
     "cell_type": "heading",
     "level": 2,
     "metadata": {},
     "source": [
      "Example 3.3 , Page no:83"
     ]
    },
    {
     "cell_type": "code",
     "collapsed": false,
     "input": [
      "import math\n",
      "from __future__ import division\n",
      "\n",
      "#initialisation of variables\n",
      "alpha=0.98\n",
      "\n",
      "#CALCULATIONS\n",
      "betaa=alpha/(1-alpha)\n",
      "Icbo=(5*10**-3) #mA\n",
      "Iceo=(betaa+1)*Icbo #mA\n",
      "Ibq=100*10**-3\n",
      "Icq=(betaa*Ibq)+Iceo\n",
      "Ieq=Icq+Ibq\n",
      "\n",
      "#RESULTS\n",
      "print\"Iceo =\",round(Iceo,3),\"mA\";\n",
      "print\"Icq =\",round(Icq,3),\"mA\";\n",
      "print\"Ieq =\",round(Ieq,3),\"mA\";"
     ],
     "language": "python",
     "metadata": {},
     "outputs": [
      {
       "output_type": "stream",
       "stream": "stdout",
       "text": [
        "Iceo = 0.25 mA\n",
        "Icq = 5.15 mA\n",
        "Ieq = 5.25 mA\n"
       ]
      }
     ],
     "prompt_number": 3
    },
    {
     "cell_type": "heading",
     "level": 2,
     "metadata": {},
     "source": [
      "Example 3.4 , Page no:83"
     ]
    },
    {
     "cell_type": "code",
     "collapsed": false,
     "input": [
      "import math\n",
      "from __future__ import division\n",
      "\n",
      "#initialisation of variables\n",
      "alpha=0.98\n",
      "\n",
      "#CALCULATIONS\n",
      "betaa=alpha/(1-alpha)\n",
      "Icq=1.47 #mA\n",
      "Ieq=Icq/alpha #mA\n",
      "\n",
      "#RESULTS\n",
      "print\"Beta =\",round(betaa,3);\n",
      "print\"Ieq =\",round(Ieq,3),\"mA\";"
     ],
     "language": "python",
     "metadata": {},
     "outputs": [
      {
       "output_type": "stream",
       "stream": "stdout",
       "text": [
        "Beta = 49.0\n",
        "Ieq = 1.5 mA\n"
       ]
      }
     ],
     "prompt_number": 4
    },
    {
     "cell_type": "heading",
     "level": 2,
     "metadata": {},
     "source": [
      "Example 3.5 , Page no:84"
     ]
    },
    {
     "cell_type": "code",
     "collapsed": false,
     "input": [
      "import math\n",
      "from __future__ import division\n",
      "\n",
      "#initialisation of variables\n",
      "Vbb=6 #V\n",
      "Vbeq=0.7 #V\n",
      "Ibq=40 #10^-6\n",
      "\n",
      "#CALCULATIONS\n",
      "Rb=((Vbb-Vbeq)/Ibq)*1000\n",
      "\n",
      "#RESULTS\n",
      "print\"Rb =\",round(Rb,3),\"k ohm\";"
     ],
     "language": "python",
     "metadata": {},
     "outputs": [
      {
       "output_type": "stream",
       "stream": "stdout",
       "text": [
        "Rb = 132.5 k ohm\n"
       ]
      }
     ],
     "prompt_number": 5
    },
    {
     "cell_type": "heading",
     "level": 2,
     "metadata": {},
     "source": [
      "Example 3.6 , Page no:84"
     ]
    },
    {
     "cell_type": "code",
     "collapsed": false,
     "input": [
      "import math\n",
      "from __future__ import division\n",
      "\n",
      "#initialisation of variables\n",
      "b=100\n",
      "\n",
      "#CALCULATIONS\n",
      "a=b/(b+1)\n",
      "Ibq=20 #10**-6 #mA\n",
      "Icq=(b*Ibq)/1000 #mA\n",
      "Ieq=Icq/a #mA\n",
      "\n",
      "#RESULTS\n",
      "print\"Icq =\",round(Icq,3),\"mA\";\n",
      "print\"Ieq =\",round(Ieq,3),\"mA\";"
     ],
     "language": "python",
     "metadata": {},
     "outputs": [
      {
       "output_type": "stream",
       "stream": "stdout",
       "text": [
        "Icq = 2.0 mA\n",
        "Ieq = 2.02 mA\n"
       ]
      }
     ],
     "prompt_number": 6
    },
    {
     "cell_type": "heading",
     "level": 2,
     "metadata": {},
     "source": [
      "Example 3.7 , Page no:85"
     ]
    },
    {
     "cell_type": "code",
     "collapsed": false,
     "input": [
      "import math\n",
      "from __future__ import division\n",
      "\n",
      "#initialisation of variables\n",
      "b=80\n",
      "\n",
      "#CALCULATIONS\n",
      "a=b/(b+1)\n",
      "Ibq=40 #10**-6 #mA\n",
      "Ieq=(Ibq/(1-a))/1000 #mA\n",
      "Icq=(b*Ibq)/1000\n",
      "\n",
      "#RESULTS\n",
      "print\"Ieq =\",round(Ieq,3),\"mA\";\n",
      "print\"Icq =\",round(Icq,3),\"mA\";"
     ],
     "language": "python",
     "metadata": {},
     "outputs": [
      {
       "output_type": "stream",
       "stream": "stdout",
       "text": [
        "Ieq = 3.24 mA\n",
        "Icq = 3.2 mA\n"
       ]
      }
     ],
     "prompt_number": 7
    },
    {
     "cell_type": "heading",
     "level": 2,
     "metadata": {},
     "source": [
      "Example 3.8 , Page no:85"
     ]
    },
    {
     "cell_type": "code",
     "collapsed": false,
     "input": [
      "import math\n",
      "from __future__ import division\n",
      "\n",
      "#initialisation of variables\n",
      "Vcc=14 #V\n",
      "Icq=2.25 #mA\n",
      "\n",
      "#CALCULATIONS\n",
      "Rc=(14/(6.5*10**-3))/1000 #k\u2126\n",
      "Ibq=20*10**-3 #mA\n",
      "Ieq=Icq+Ibq #mA\n",
      "b=Icq/Ibq\n",
      "\n",
      "#RESULTS\n",
      "print\"Ieq =\",round(Ieq,3),\"mA\";\n",
      "print\"Beta =\",round(b,3),\"mA\";"
     ],
     "language": "python",
     "metadata": {},
     "outputs": [
      {
       "output_type": "stream",
       "stream": "stdout",
       "text": [
        "Ieq = 2.27 mA\n",
        "Beta = 112.5 mA\n"
       ]
      }
     ],
     "prompt_number": 8
    },
    {
     "cell_type": "heading",
     "level": 2,
     "metadata": {},
     "source": [
      "Example 3.9 , Page no:85"
     ]
    },
    {
     "cell_type": "code",
     "collapsed": false,
     "input": [
      "import math\n",
      "from __future__ import division\n",
      "\n",
      "#initialisation of variables\n",
      "b=70\n",
      "Vcc=15 #V\n",
      "Vbeq=0.7 #V\n",
      "Iceo=1.42 #mA\n",
      "Rb=500 #*10^3   #k\u2126\n",
      "\n",
      "#CALCULATIONS\n",
      "Ibq=((Vcc-Vbeq)/Rb)*1000\n",
      "Icq=((b*Ibq/1000)+Iceo)\n",
      "\n",
      "#RESULTS\n",
      "print\"Ibq =\",round(Ibq,3),\"mA\";\n",
      "print\"Icq =\",round(Icq,3),\"mA\";"
     ],
     "language": "python",
     "metadata": {},
     "outputs": [
      {
       "output_type": "stream",
       "stream": "stdout",
       "text": [
        "Ibq = 28.6 mA\n",
        "Icq = 3.422 mA\n"
       ]
      }
     ],
     "prompt_number": 9
    },
    {
     "cell_type": "heading",
     "level": 2,
     "metadata": {},
     "source": [
      "Example 3.12 , Page no:87"
     ]
    },
    {
     "cell_type": "code",
     "collapsed": false,
     "input": [
      "import math\n",
      "from __future__ import division\n",
      "\n",
      "#initialisation of variables\n",
      "Vceq=-6.4 #V\n",
      "Vbeq=-0.3 #V\n",
      "Vee=2\n",
      "Ieq=3\n",
      "\n",
      "#CALCULATIONS\n",
      "Vcbq=Vceq-Vbeq #V\n",
      "Re=((Vee+Vbeq)/Ieq)*1000\n",
      "\n",
      "#RESULTS\n",
      "print\"Vcbq =\",round(Vcbq,3),\"V\";\n",
      "print\"Re =\",round(Re,3),\"Ohm\";"
     ],
     "language": "python",
     "metadata": {},
     "outputs": [
      {
       "output_type": "stream",
       "stream": "stdout",
       "text": [
        "Vcbq = -6.1 V\n",
        "Re = 566.667 Ohm\n"
       ]
      }
     ],
     "prompt_number": 10
    },
    {
     "cell_type": "heading",
     "level": 2,
     "metadata": {},
     "source": [
      "Example 3.13 , Page no:88"
     ]
    },
    {
     "cell_type": "code",
     "collapsed": false,
     "input": [
      "import math\n",
      "from __future__ import division\n",
      "\n",
      "#initialisation of variables\n",
      "Vcc=12 #V\n",
      "Vceq=6 #V\n",
      "hf=100\n",
      "Rc=2 #*10^3     #k\u2126\n",
      "Vbeq=0.7\n",
      "\n",
      "#CALCULATIONS\n",
      "Ibq=((Vcc-Vceq)/((hf+1)*Rc))*1000\n",
      "Rf=((Vceq-Vbeq)/Ibq)*1000\n",
      "\n",
      "#RESULTS\n",
      "print\"Ibq =\",round(Ibq,3),\"mA\";\n",
      "print\"Rf =\",round(Rf,3),\"Ohm\";"
     ],
     "language": "python",
     "metadata": {},
     "outputs": [
      {
       "output_type": "stream",
       "stream": "stdout",
       "text": [
        "Ibq = 29.703 mA\n",
        "Rf = 178.433 Ohm\n"
       ]
      }
     ],
     "prompt_number": 11
    },
    {
     "cell_type": "heading",
     "level": 2,
     "metadata": {},
     "source": [
      "Example 3.16 , Page no:89"
     ]
    },
    {
     "cell_type": "code",
     "collapsed": false,
     "input": [
      "import math\n",
      "from __future__ import division\n",
      "\n",
      "#initialisation of variables\n",
      "b=80\n",
      "Ibq=30\n",
      "\n",
      "#CALCULATIONS\n",
      "a=(b/(b+1))\n",
      "Icq=Ibq*b/1000\n",
      "Ieq=(Icq/a)\n",
      "\n",
      "#RESULTS\n",
      "print\"Icq =\",round(Icq,3),\"mA\";\n",
      "print\"Ieq =\",round(Ieq,3),\"mA\";"
     ],
     "language": "python",
     "metadata": {},
     "outputs": [
      {
       "output_type": "stream",
       "stream": "stdout",
       "text": [
        "Icq = 2.4 mA\n",
        "Ieq = 2.43 mA\n"
       ]
      }
     ],
     "prompt_number": 12
    },
    {
     "cell_type": "heading",
     "level": 2,
     "metadata": {},
     "source": [
      "Example 3.19 , Page no:91"
     ]
    },
    {
     "cell_type": "code",
     "collapsed": false,
     "input": [
      "import math\n",
      "from __future__ import division\n",
      "\n",
      "#initialisation of variables\n",
      "b=50\n",
      "Vbeq=0.3 #V\n",
      "Vcc=12 #v\n",
      "Vs=2 #v\n",
      "Rc=4 #Kohm\n",
      "Rs=100 #Kohm\n",
      "Vce=0.2\n",
      "\n",
      "#CALCULATIONS\n",
      "Icq=(Vcc-Vce)/Rc\n",
      "Rb=((Vcc-Vbeq)/(Icq/b))\n",
      "\n",
      "#RESULTS\n",
      "print\"Icq =\",round(Icq,3),\"mA\";\n",
      "print\"Rb =\",round(Rb,3),\"Ohm\";"
     ],
     "language": "python",
     "metadata": {},
     "outputs": [
      {
       "output_type": "stream",
       "stream": "stdout",
       "text": [
        "Icq = 2.95 mA\n",
        "Rb = 198.305 Ohm\n"
       ]
      }
     ],
     "prompt_number": 13
    },
    {
     "cell_type": "heading",
     "level": 2,
     "metadata": {},
     "source": [
      "Example 3.20 , Page no:91"
     ]
    },
    {
     "cell_type": "code",
     "collapsed": false,
     "input": [
      "import math\n",
      "from __future__ import division\n",
      "\n",
      "#initialisation of variables\n",
      "b=50\n",
      "b2=50\n",
      "Vce=6 #V\n",
      "Re=1 #k\u2126\n",
      "Vcc=12 #v   #V\n",
      "\n",
      "#CALCULATIONS\n",
      "Ieq2=(Vcc-Vce)/Re\n",
      "Ibq2=(Ieq2/((b+1)*(b2+1)))*1000\n",
      "\n",
      "#RESULTS\n",
      "print\"Ieq2 =\",round(Ieq2,3),\"mA\";\n",
      "print\"Ibq2 =\",round(Ibq2,3),\"mA\";"
     ],
     "language": "python",
     "metadata": {},
     "outputs": [
      {
       "output_type": "stream",
       "stream": "stdout",
       "text": [
        "Ieq2 = 6.0 mA\n",
        "Ibq2 = 2.307 mA\n"
       ]
      }
     ],
     "prompt_number": 14
    },
    {
     "cell_type": "heading",
     "level": 2,
     "metadata": {},
     "source": [
      "Example 3.23 , Page no:94"
     ]
    },
    {
     "cell_type": "code",
     "collapsed": false,
     "input": [
      "import math\n",
      "from __future__ import division\n",
      "\n",
      "#initialisation of variables\n",
      "b=80\n",
      "Ibq=30 #mA\n",
      "\n",
      "#CALCULATIONS\n",
      "a=(b/(b+1))\n",
      "Icq=Ibq*b/1000 #mA\n",
      "Ieq=(Icq/a)\n",
      "\n",
      "#RESULTS\n",
      "print\"Icq =\",round(Icq,3),\"mA\";\n",
      "print\"Ieq =\",round(Ieq,3),\"OmA\";"
     ],
     "language": "python",
     "metadata": {},
     "outputs": [
      {
       "output_type": "stream",
       "stream": "stdout",
       "text": [
        "Icq = 2.4 mA\n",
        "Ieq = 2.43 OmA\n"
       ]
      }
     ],
     "prompt_number": 15
    },
    {
     "cell_type": "heading",
     "level": 2,
     "metadata": {},
     "source": [
      "Example 3.26 , Page no:96"
     ]
    },
    {
     "cell_type": "code",
     "collapsed": false,
     "input": [
      "import math\n",
      "from __future__ import division\n",
      "\n",
      "#initialisation of variables\n",
      "b=100\n",
      "Vbeq=0.7 #V\n",
      "Vcc=15 #V\n",
      "Re=300 #k\u2126\n",
      "Rc=500 #k\u2126\n",
      "\n",
      "#CALCULATIONS\n",
      "Icq=((Vcc)/(2*(Re+Rc)))*1000\n",
      "Rb=(b*Re/10)/1000\n",
      "Vbb=Vbeq+Icq*(1.1*Re)/1000\n",
      "R1=Rb/(1-Vbb/Vcc)\n",
      "R2=Rb*(Vcc/Vbb)\n",
      "\n",
      "#RESULTS\n",
      "print\"Icq =\",round(Icq,3),\"mA\";\n",
      "print\"Rb =\",round(Rb,3),\"Kohm\";\n",
      "print\"Vbb =\",round(Vbb,3),\"V\";\n",
      "print\"R1 =\",round(R1,3),\"Kohm\";\n",
      "print\"R2 =\",round(R2,3),\"Kohm\";"
     ],
     "language": "python",
     "metadata": {},
     "outputs": [
      {
       "output_type": "stream",
       "stream": "stdout",
       "text": [
        "Icq = 9.375 mA\n",
        "Rb = 3.0 Kohm\n",
        "Vbb = 3.794 V\n",
        "R1 = 4.016 Kohm\n",
        "R2 = 11.862 Kohm\n"
       ]
      }
     ],
     "prompt_number": 16
    },
    {
     "cell_type": "heading",
     "level": 2,
     "metadata": {},
     "source": [
      "Example 3.32 , Page no:99"
     ]
    },
    {
     "cell_type": "code",
     "collapsed": false,
     "input": [
      "import math\n",
      "from __future__ import division\n",
      "\n",
      "#initialisation of variables\n",
      "Vcc=12 #v\n",
      "Vbeq=0.7 #v\n",
      "\n",
      "#CALCULATIONS\n",
      "Re=1*10**3 #k\u2126\n",
      "Icq=6*10**3 #mA\n",
      "Ibq=50*10**-3 #mA\n",
      "b=Icq/Ibq\n",
      "\n",
      "#RESULTS\n",
      "print\"B =\",round(b,3),\"mA\";"
     ],
     "language": "python",
     "metadata": {},
     "outputs": [
      {
       "output_type": "stream",
       "stream": "stdout",
       "text": [
        "B = 120000.0 mA\n"
       ]
      }
     ],
     "prompt_number": 17
    }
   ],
   "metadata": {}
  }
 ]
}