{
 "metadata": {
  "name": "",
  "signature": "sha256:4a2bdc59cefb570f070b4e46397463b62f539d8dbd0974151af906b662d822fd"
 },
 "nbformat": 3,
 "nbformat_minor": 0,
 "worksheets": [
  {
   "cells": [
    {
     "cell_type": "heading",
     "level": 1,
     "metadata": {},
     "source": [
      "Chapter 4 CHARACTERISTICS OF FIELD EFFECT TRANSISTORS AND TRIODES"
     ]
    },
    {
     "cell_type": "heading",
     "level": 2,
     "metadata": {},
     "source": [
      "Example 4.2 , Page no:118"
     ]
    },
    {
     "cell_type": "code",
     "collapsed": false,
     "input": [
      "import math\n",
      "from __future__ import division\n",
      "\n",
      "#initialisation of variables\n",
      "Idon=5 #*10^-3       #mA\n",
      "Vgsq=6.90 #V\n",
      "Vt=4 #V\n",
      "\n",
      "#CALCULATIONS\n",
      "Idq=Idon*((1-(Vgsq/Vt))**2)\n",
      "\n",
      "#RESULTS\n",
      "print\"Idq =\",round(Idq,3),\"mA\";"
     ],
     "language": "python",
     "metadata": {},
     "outputs": [
      {
       "output_type": "stream",
       "stream": "stdout",
       "text": [
        "Idq = 2.628 mA\n"
       ]
      }
     ],
     "prompt_number": 1
    },
    {
     "cell_type": "heading",
     "level": 2,
     "metadata": {},
     "source": [
      "Example 4.5 , Page no:118"
     ]
    },
    {
     "cell_type": "code",
     "collapsed": false,
     "input": [
      "import math\n",
      "from __future__ import division\n",
      "\n",
      "#initialisation of variables\n",
      "Vgg=10 #V\n",
      "Vgsq=8 #V\n",
      "Vdd=16 #V\n",
      "Vdsq=12 #V\n",
      "Idq=1\n",
      "\n",
      "#CALCULATIONS\n",
      "Idq1=1*10**-3 #mA\n",
      "Rs=((Vgg-Vgsq)/Idq1)/1000 #k\u2126\n",
      "Rd=((Vdd-Vdsq-(Idq1*Rs))/Idq)\n",
      "\n",
      "#RESULTS\n",
      "print\"Rs =\",round(Rs,3),\"K ohm\";\n",
      "print\"Rd =\",round(Rd),\"K ohm\";"
     ],
     "language": "python",
     "metadata": {},
     "outputs": [
      {
       "output_type": "stream",
       "stream": "stdout",
       "text": [
        "Rs = 2.0 K ohm\n",
        "Rd = 4.0 K ohm\n"
       ]
      }
     ],
     "prompt_number": 2
    },
    {
     "cell_type": "heading",
     "level": 2,
     "metadata": {},
     "source": [
      "Example 4.8 , Page no:120"
     ]
    },
    {
     "cell_type": "code",
     "collapsed": false,
     "input": [
      "import math\n",
      "from __future__ import division\n",
      "\n",
      "#initialisation of variables\n",
      "Rs=750 #k\u2126\n",
      "Vdd=24 #V\n",
      "Vdsq=15 #V\n",
      "Idq=0.002 #mA\n",
      "\n",
      "#CALCULATIONS\n",
      "Rd=((Vdd-Vdsq-(Idq*Rs))/Idq)/1000\n",
      "\n",
      "#RESULTS\n",
      "print\"Rs =\",round(Rs,3),\"K ohm\";\n",
      "print\"Rd =\",round(Rd,3),\"K ohm\";"
     ],
     "language": "python",
     "metadata": {},
     "outputs": [
      {
       "output_type": "stream",
       "stream": "stdout",
       "text": [
        "Rs = 750.0 K ohm\n",
        "Rd = 3.75 K ohm\n"
       ]
      }
     ],
     "prompt_number": 3
    },
    {
     "cell_type": "heading",
     "level": 2,
     "metadata": {},
     "source": [
      "Example 4.10 , Page no:121"
     ]
    },
    {
     "cell_type": "code",
     "collapsed": false,
     "input": [
      "import math\n",
      "from __future__ import division\n",
      "\n",
      "#initialisation of variables\n",
      "Idq=-8 #mA\n",
      "Idss=-10 #mA\n",
      "Vp0=-4 #V\n",
      "Vdd=-20\n",
      "Rd=1.5\n",
      "\n",
      "#CALCULATIONS\n",
      "Vgsq=Vp0*(((Idq/Idss)**(1/2))-1)\n",
      "Vdsq1=Vdd-Idq*Rd\n",
      "\n",
      "#RESULTS\n",
      "print\"Vgsq =\",round(Vgsq,3),\"v\";\n",
      "print\"Vdsq =\",round(Vdsq1,3),\"v\";"
     ],
     "language": "python",
     "metadata": {},
     "outputs": [
      {
       "output_type": "stream",
       "stream": "stdout",
       "text": [
        "Vgsq = 0.422 v\n",
        "Vdsq = -8.0 v\n"
       ]
      }
     ],
     "prompt_number": 4
    },
    {
     "cell_type": "heading",
     "level": 2,
     "metadata": {},
     "source": [
      "Example 4.11 , Page no:121"
     ]
    },
    {
     "cell_type": "code",
     "collapsed": false,
     "input": [
      "import math\n",
      "from __future__ import division\n",
      "\n",
      "#initialisation of variables\n",
      "Vt=4 #V\n",
      "R1=50 #k ohm\n",
      "R2=0.4 #M ohm\n",
      "Rs=0\n",
      "Rd=2 #k ohm\n",
      "Vdd=15 #V\n",
      "Idon=10 #*10^-3\n",
      "\n",
      "#CALCULATIONS\n",
      "Vgsq=(R1/(R1+R2*10**3))*Vdd\n",
      "Idq=Idon*((1-(Vgsq/Vt))**2)\n",
      "Vdsq=Vdd-(Idq*Rd)\n",
      "\n",
      "#RESULTS\n",
      "print\"Vgsq =\",round(Vgsq,3),\"V\";\n",
      "print\"Idq =\",round(Idq,3),\"mA\";\n",
      "print\"Vdsq =\",round(Vdsq,3),\"V\";"
     ],
     "language": "python",
     "metadata": {},
     "outputs": [
      {
       "output_type": "stream",
       "stream": "stdout",
       "text": [
        "Vgsq = 1.667 V\n",
        "Idq = 3.403 mA\n",
        "Vdsq = 8.194 V\n"
       ]
      }
     ],
     "prompt_number": 5
    },
    {
     "cell_type": "heading",
     "level": 2,
     "metadata": {},
     "source": [
      "Example 4.13 , Page no:123"
     ]
    },
    {
     "cell_type": "code",
     "collapsed": false,
     "input": [
      "import math\n",
      "from __future__ import division\n",
      "\n",
      "#initialisation of variables\n",
      "Vgsq=-4.5 #V\n",
      "Idq=-8 #mA\n",
      "VT=-3 #V\n",
      "Idq=-16\n",
      "Vgsq=-5\n",
      "\n",
      "#CALCULATIONS\n",
      "Idon=(Idq/(1-Vgsq/VT)**2)\n",
      "Vgsq1=VT*(1-(Idq/Idon)**(1/2))\n",
      "\n",
      "#RESULTS\n",
      "print\"Idon=\",round(Idon,3),\"mA\";\n",
      "print\"Vgsq=\",round(Vgsq1,2),\"V\";"
     ],
     "language": "python",
     "metadata": {},
     "outputs": [
      {
       "output_type": "stream",
       "stream": "stdout",
       "text": [
        "Idon= -36.0 mA\n",
        "Vgsq= -1.0 V\n"
       ]
      }
     ],
     "prompt_number": 6
    },
    {
     "cell_type": "heading",
     "level": 2,
     "metadata": {},
     "source": [
      "Example 4.14 , Page no:123"
     ]
    },
    {
     "cell_type": "code",
     "collapsed": false,
     "input": [
      "import math\n",
      "from __future__ import division\n",
      "\n",
      "#initialisation of variables\n",
      "Vdd=15 #v\n",
      "Vdsq=7 #v \n",
      "Rs=3 #k\u2126\n",
      "Rd=1 #k\u2126\n",
      "\n",
      "#CALCULATIONS\n",
      "Idq=((Vdd-Vdsq)/(Rs+Rd))\n",
      "Vgsq=-(Idq*Rd)\n",
      "\n",
      "#RESULTS\n",
      "print\"Idq=\",round(Idq,3),\"mA\";\n",
      "print\"Vgsq=\",round(Vgsq,3),\"V\";"
     ],
     "language": "python",
     "metadata": {},
     "outputs": [
      {
       "output_type": "stream",
       "stream": "stdout",
       "text": [
        "Idq= 2.0 mA\n",
        "Vgsq= -2.0 V\n"
       ]
      }
     ],
     "prompt_number": 7
    },
    {
     "cell_type": "heading",
     "level": 2,
     "metadata": {},
     "source": [
      "Example 4.18 , Page no:126"
     ]
    },
    {
     "cell_type": "code",
     "collapsed": false,
     "input": [
      "import math\n",
      "from __future__ import division\n",
      "\n",
      "#initialisation of variables\n",
      "Idq1=1.22 #mA\n",
      "Vdsq1=0 #V\n",
      "Vdd=15 #V\n",
      "Rs=2 #k\u2126\n",
      "Rd=5 #k\u2126\n",
      "\n",
      "#CALCULATIONS\n",
      "Vgsq1=-(Idq1*Rs)\n",
      "Vdsq2=Vdd-Vdsq1-Idq1*(Rs+Rd)\n",
      "\n",
      "#RESULTS\n",
      "print\"Vgsq=\",round(Vgsq1,3),\"V\";\n",
      "print\"Vdsq2=\",round(Vdsq2,3),\"V\";"
     ],
     "language": "python",
     "metadata": {},
     "outputs": [
      {
       "output_type": "stream",
       "stream": "stdout",
       "text": [
        "Vgsq= -2.44 V\n",
        "Vdsq2= 6.46 V\n"
       ]
      }
     ],
     "prompt_number": 8
    },
    {
     "cell_type": "heading",
     "level": 2,
     "metadata": {},
     "source": [
      "Example 4.19 , Page no:127"
     ]
    },
    {
     "cell_type": "code",
     "collapsed": false,
     "input": [
      "import math\n",
      "from __future__ import division\n",
      "\n",
      "#initialisation of variables\n",
      "Idq1=0 #mA\n",
      "Idq2=2.92 #mA\n",
      "Vdd=15 #V\n",
      "Vgsq1=-4 #V\n",
      "Rs=2 #k\u2126\n",
      "Rd=1 #k\u2126\n",
      "Rd1=1\n",
      "Idq12=0\n",
      "\n",
      "#CALCULATIONS\n",
      "Vgsq2=-Vgsq1-Idq2*Rs\n",
      "Vdsq1=Vdd-(Idq1+Idq2)*Rd-Idq2*Rs-Vgsq2\n",
      "Vdsq2=Vdd-(Idq12+Idq2)*Rd1-Idq2*Rs\n",
      "\n",
      "#RESULTS\n",
      "print\"Vgsq2=\",round(Vgsq2,3),\"V\";\n",
      "print\"Vdsq1=\",round(Vdsq1,3),\"V\";\n",
      "print\"Vdsq2=\",round(Vdsq2,3),\"V\";"
     ],
     "language": "python",
     "metadata": {},
     "outputs": [
      {
       "output_type": "stream",
       "stream": "stdout",
       "text": [
        "Vgsq2= -1.84 V\n",
        "Vdsq1= 8.08 V\n",
        "Vdsq2= 6.24 V\n"
       ]
      }
     ],
     "prompt_number": 9
    },
    {
     "cell_type": "heading",
     "level": 2,
     "metadata": {},
     "source": [
      "Example 4.20 , Page no:128"
     ]
    },
    {
     "cell_type": "code",
     "collapsed": false,
     "input": [
      "import math\n",
      "from __future__ import division\n",
      "\n",
      "#initialisation of variables\n",
      "Vdd=15 #V\n",
      "R2=40 #k\u2126\n",
      "R1=60 #k\u2126\n",
      "\n",
      "#CALCULATIONS\n",
      "Vgsq=(R2/(R2+R1))*Vdd\n",
      "\n",
      "#RESULTS\n",
      "print\"Vgsq=\",round(Vgsq,3),\"V\";"
     ],
     "language": "python",
     "metadata": {},
     "outputs": [
      {
       "output_type": "stream",
       "stream": "stdout",
       "text": [
        "Vgsq= 6.0 V\n"
       ]
      }
     ],
     "prompt_number": 10
    },
    {
     "cell_type": "heading",
     "level": 2,
     "metadata": {},
     "source": [
      "Example 4.23 , Page no:130"
     ]
    },
    {
     "cell_type": "code",
     "collapsed": false,
     "input": [
      "import math\n",
      "from __future__ import division\n",
      "\n",
      "#initialisation of variables\n",
      "Idss=10 #mA\n",
      "Vgsq=-1.34 #V\n",
      "Vp0=4 #V\n",
      "Rs=2 #k\u2126\n",
      "Vdd=15 #V\n",
      "Rd=500 #k\u2126\n",
      "\n",
      "#CALCULATIONS\n",
      "Idq=Idss*((1+(Vgsq/Vp0))**2)\n",
      "Vdsq=Vdd-Idq*10**-3*(Rs*10**3+Rd)\n",
      "\n",
      "#RESULTS\n",
      "print\"Idq=\",round(Idq,3),\"mA\";\n",
      "print\"Vdsq=\",round(Vdsq,3),\"V\";"
     ],
     "language": "python",
     "metadata": {},
     "outputs": [
      {
       "output_type": "stream",
       "stream": "stdout",
       "text": [
        "Idq= 4.422 mA\n",
        "Vdsq= 3.944 V\n"
       ]
      }
     ],
     "prompt_number": 11
    },
    {
     "cell_type": "heading",
     "level": 2,
     "metadata": {},
     "source": [
      "Example 4.24 , Page no:130"
     ]
    },
    {
     "cell_type": "code",
     "collapsed": false,
     "input": [
      "import math\n",
      "from __future__ import division\n",
      "\n",
      "#initialisation of variables\n",
      "Ip=15 #mA\n",
      "Vp=100 #v\n",
      "Vp0=4 #v\n",
      "Vg=-4 #v\n",
      "\n",
      "#CALCULATIONS\n",
      "k=(Ip/(Vp**(3/2)))*1000\n",
      "m=-(Vp/Vg)\n",
      "\n",
      "#RESULTS\n",
      "print\"the perveance k=\",round(k,3),\"mA/V^3/2\";\n",
      "print\"the amplification factor  m=\",round(m,3),\"mA\";"
     ],
     "language": "python",
     "metadata": {},
     "outputs": [
      {
       "output_type": "stream",
       "stream": "stdout",
       "text": [
        "the perveance k= 15.0 mA/V^3/2\n",
        "the amplification factor  m= 25.0 mA\n"
       ]
      }
     ],
     "prompt_number": 12
    },
    {
     "cell_type": "heading",
     "level": 2,
     "metadata": {},
     "source": [
      "Example 4.26 , Page no:130"
     ]
    },
    {
     "cell_type": "code",
     "collapsed": false,
     "input": [
      "import math\n",
      "from __future__ import division\n",
      "\n",
      "#initialisation of variables\n",
      "Rl=10 #k\u2126\n",
      "Vpp=2.4 #v\n",
      "\n",
      "#CALCULATIONS\n",
      "Ip=(1/20) #mA\n",
      "n=(((Ip)*Rl)/Vpp)\n",
      "\n",
      "#RESULTS\n",
      "print\"the perveance  n=\",round(n,3),\"percent\";"
     ],
     "language": "python",
     "metadata": {},
     "outputs": [
      {
       "output_type": "stream",
       "stream": "stdout",
       "text": [
        "the perveance  n= 0.208 percent\n"
       ]
      }
     ],
     "prompt_number": 13
    }
   ],
   "metadata": {}
  }
 ]
}