{
 "metadata": {
  "name": "",
  "signature": "sha256:7a853a0620a80cdb4199c91f9765c840bb9db9aa63bef6a370cd0920f8e7be42"
 },
 "nbformat": 3,
 "nbformat_minor": 0,
 "worksheets": [
  {
   "cells": [
    {
     "cell_type": "heading",
     "level": 1,
     "metadata": {},
     "source": [
      "Chapter 7 Small Signal Midfrequency Fet And Triode Amplifiers"
     ]
    },
    {
     "cell_type": "heading",
     "level": 2,
     "metadata": {},
     "source": [
      "Example 7.1 , Page no:207"
     ]
    },
    {
     "cell_type": "code",
     "collapsed": false,
     "input": [
      "import math\n",
      "from __future__ import division\n",
      "\n",
      "#initialisation of variables\n",
      "Vgs=2\n",
      "\n",
      "#CALCULATIONS\n",
      "Did=(3.3-0.3)*10**-3\n",
      "gm=Did/Vgs*1000\n",
      "Dvds=20-5\n",
      "Did1=(1.6-1.4)*10**-3\n",
      "rds=Dvds/Did1/1000\n",
      "Did2=(2-1)*10**-3\n",
      "Dvgs=-1.75-(-2.4)\n",
      "gm1=Did2/Dvgs*1000  \n",
      "\n",
      "#RESULTS\n",
      "print\"The value of gm=\",round(gm,3),\"mS\";\n",
      "print\"The value of rds=\",round(rds,3),\"kOhm\";\n",
      "print\"The value of gm=\",round(gm1,3),\"mS\";"
     ],
     "language": "python",
     "metadata": {},
     "outputs": [
      {
       "output_type": "stream",
       "stream": "stdout",
       "text": [
        "The value of gm= 1.5 mS\n",
        "The value of rds= 75.0 kOhm\n",
        "The value of gm= 1.538 mS\n"
       ]
      }
     ],
     "prompt_number": 1
    },
    {
     "cell_type": "heading",
     "level": 2,
     "metadata": {},
     "source": [
      "Example 7.3 , Page no:208"
     ]
    },
    {
     "cell_type": "code",
     "collapsed": false,
     "input": [
      "import math\n",
      "from __future__ import division\n",
      "\n",
      "#initialisation of variables\n",
      "Rl=14*10**3\n",
      "rds=40*10**3\n",
      "Rf=5*10**6\n",
      "gm=1*10**-3\n",
      "\n",
      "#CALCULATIONS\n",
      "Av=((Rl*rds*(1-Rf*gm))/(Rf*rds+Rl*rds+Rl*Rf))\n",
      "Zin=(Rf/(1-Av))/1000\n",
      "Ai=(Av*Zin)/Rl*1000\n",
      "\n",
      "#RESULTS\n",
      "print\"The value of Av=\",round(Av,3);\n",
      "print\"The value of Zin=\",round(Zin,3),\"kOhm\";\n",
      "print\"The value of Ai=\",round(Ai,3);"
     ],
     "language": "python",
     "metadata": {},
     "outputs": [
      {
       "output_type": "stream",
       "stream": "stdout",
       "text": [
        "The value of Av= -10.347\n",
        "The value of Zin= 440.651 kOhm\n",
        "The value of Ai= -325.668\n"
       ]
      }
     ],
     "prompt_number": 2
    },
    {
     "cell_type": "heading",
     "level": 2,
     "metadata": {},
     "source": [
      "Example 7.4 , Page no:209"
     ]
    },
    {
     "cell_type": "code",
     "collapsed": false,
     "input": [
      "import math\n",
      "from __future__ import division\n",
      "\n",
      "#initialisation of variables\n",
      "R1=200*10**3\n",
      "R2=800*10**3\n",
      "Rg=160*10**3\n",
      "r1=5*10**3\n",
      "Av=-1.88\n",
      "Rl=2*10**3\n",
      "\n",
      "#CALCULATIONS\n",
      "Zin=(R1*R2/(R1+R2))/1000\n",
      "vgs=Rg/(Rg+r1)\n",
      "Ai=(Av*(Rg+r1))/Rl\n",
      "\n",
      "#RESULTS\n",
      "print\"The value of Zin=\",round(Zin,3),\"Kohm\";\n",
      "print\"The value of vgs=\",round(vgs,3),\"vi\";\n",
      "print\"The value of ai=\",round(Ai,3),\"vi\";"
     ],
     "language": "python",
     "metadata": {},
     "outputs": [
      {
       "output_type": "stream",
       "stream": "stdout",
       "text": [
        "The value of Zin= 160.0 Kohm\n",
        "The value of vgs= 0.97 vi\n",
        "The value of ai= -155.1 vi\n"
       ]
      }
     ],
     "prompt_number": 3
    },
    {
     "cell_type": "heading",
     "level": 2,
     "metadata": {},
     "source": [
      "Example 7.7 , Page no:211"
     ]
    },
    {
     "cell_type": "code",
     "collapsed": false,
     "input": [
      "import math\n",
      "from __future__ import division\n",
      "\n",
      "#initialisation of variables\n",
      "Rd=2\n",
      "Rl=4\n",
      "Rg=160\n",
      "r1=5\n",
      "rds=30\n",
      "Rs=3\n",
      "\n",
      "#CALCULATIONS\n",
      "m=2*10**-3\n",
      "Rg1=30*10**3\n",
      "Av=(-m*Rg*Rd*Rl)/((Rg+r1)*((Rd+Rl)*(rds+(m+1)*Rs+Rd*Rl)))*1000\n",
      "\n",
      "#RESULTS\n",
      "print\"The value of Av=\",round(Av,3);"
     ],
     "language": "python",
     "metadata": {},
     "outputs": [
      {
       "output_type": "stream",
       "stream": "stdout",
       "text": [
        "The value of Av= -0.063\n"
       ]
      }
     ],
     "prompt_number": 4
    },
    {
     "cell_type": "heading",
     "level": 2,
     "metadata": {},
     "source": [
      "Example 7.10 , Page no:213"
     ]
    },
    {
     "cell_type": "code",
     "collapsed": false,
     "input": [
      "import math\n",
      "from __future__ import division\n",
      "\n",
      "#initialisation of variables\n",
      "Rg=100 #k\u2126\n",
      "ri=5\n",
      "gm=0.0025\n",
      "rds=25\n",
      "Rd=2 #k\u2126\n",
      "Rl=2 #k\u2126\n",
      "\n",
      "#CALCULATIONS\n",
      "vgs=(Rg/(Rg+ri))\n",
      "Req=(rds*Rd*Rl*10**3)/(2*Rl*Rd+rds*(Rl+Rd))\n",
      "Av=-2*gm*vgs*Req\n",
      "Ai=((Av*(Rg+ri))/Rl)\n",
      "R0=(Rd*rds)/(2*Rd+rds)\n",
      "\n",
      "#RESULTS\n",
      "print\"The value of vgs=\",round(vgs,3),\"vi\";\n",
      "print\"The value of Req=\",round(Req,3),\"Kohm\";\n",
      "print\"The value of Av=\",round(Av,3)\n",
      "print\"The value of Ai=\",round(Ai,3)\n",
      "print\"The value of R0=\",round(R0,3),\"Kohm\";"
     ],
     "language": "python",
     "metadata": {},
     "outputs": [
      {
       "output_type": "stream",
       "stream": "stdout",
       "text": [
        "The value of vgs= 0.952 vi\n",
        "The value of Req= 925.926 Kohm\n",
        "The value of Av= -4.409\n",
        "The value of Ai= -231.481\n",
        "The value of R0= 1.724 Kohm\n"
       ]
      }
     ],
     "prompt_number": 5
    },
    {
     "cell_type": "heading",
     "level": 2,
     "metadata": {},
     "source": [
      "Example 7.11 , Page no:214"
     ]
    },
    {
     "cell_type": "code",
     "collapsed": false,
     "input": [
      "import math\n",
      "from __future__ import division\n",
      "\n",
      "#initialisation of variables\n",
      "gm=0.002\n",
      "\n",
      "#CALCULATIONS\n",
      "rds=30*10**3\n",
      "Rs2=1.2*10**3\n",
      "Rl=1*10**3 #k\u2126\n",
      "Rg=1*10**6 #k\u2126\n",
      "Req=1/((1/rds)+(1/Rs2)+(1/Rl))\n",
      "Av=((gm*Rg+1)*Req)/(Rg+(gm*Rg+1)*Req)\n",
      "Ai=(Av*Rg/((1-Av)*Rl))\n",
      "Rin=Rg/(1-Av)/10**6\n",
      "R0=1/(1/Rs2+1/rds+1/Rg+gm)\n",
      "\n",
      "#RESULTS\n",
      "print\"The value of Req=\",round(Req,3)\n",
      "print\"The value of Av=\",round(Av,3)\n",
      "print\"The value of Ai=\",round(Ai,3)\n",
      "print\"The value of Rin=\",round(Rin,3),\"mOhm\";\n",
      "print\"The value of R0=\",round(R0,3),\"Ohm\";"
     ],
     "language": "python",
     "metadata": {},
     "outputs": [
      {
       "output_type": "stream",
       "stream": "stdout",
       "text": [
        "The value of Req= 535.714\n",
        "The value of Av= 0.517\n",
        "The value of Ai= 1071.964\n",
        "The value of Rin= 2.072 mOhm\n",
        "The value of R0= 348.716 Ohm\n"
       ]
      }
     ],
     "prompt_number": 6
    },
    {
     "cell_type": "heading",
     "level": 2,
     "metadata": {},
     "source": [
      "Example 7.12 , Page no:215"
     ]
    },
    {
     "cell_type": "code",
     "collapsed": false,
     "input": [
      "import math\n",
      "from __future__ import division\n",
      "\n",
      "#initialisation of variables\n",
      "gm=1.5*10**-3\n",
      "rds=75*10**3\n",
      "Rd=3*10**3 #k\u2126\n",
      "rds=75*10**3\n",
      "\n",
      "#CALCULATIONS\n",
      "vds=-(gm*rds*Rd)/(rds+Rd)\n",
      "Vdsm=-1*vds #V\n",
      "idm=(gm+(Vdsm/rds))*1000   \n",
      "\n",
      "#RESULTS\n",
      "print\"The value of vds=\",round(vds,3),\"vgs\";\n",
      "print\"The value of idm=\",round(idm,3),\"mA\";"
     ],
     "language": "python",
     "metadata": {},
     "outputs": [
      {
       "output_type": "stream",
       "stream": "stdout",
       "text": [
        "The value of vds= -4.327 vgs\n",
        "The value of idm= 1.558 mA\n"
       ]
      }
     ],
     "prompt_number": 7
    },
    {
     "cell_type": "heading",
     "level": 2,
     "metadata": {},
     "source": [
      "Example 7.18 , Page no:219"
     ]
    },
    {
     "cell_type": "code",
     "collapsed": false,
     "input": [
      "import math\n",
      "from __future__ import division\n",
      "\n",
      "#initialisation of variables\n",
      "vp=100 #v\n",
      "vg=-4\n",
      "\n",
      "#CALCULATIONS\n",
      "ip=15*10**-3 #mA\n",
      "k=(ip/(vp**(3/2)))*10**6\n",
      "m=-(vp/vg)\n",
      "\n",
      "#RESULTS\n",
      "print\"The value of k=\",round(k,3),\"mA/v^3/2\";\n",
      "print\"The value of m=\",round(m,3);"
     ],
     "language": "python",
     "metadata": {},
     "outputs": [
      {
       "output_type": "stream",
       "stream": "stdout",
       "text": [
        "The value of k= 15.0 mA/v^3/2\n",
        "The value of m= 25.0\n"
       ]
      }
     ],
     "prompt_number": 8
    },
    {
     "cell_type": "heading",
     "level": 2,
     "metadata": {},
     "source": [
      "Example 7.20 , Page no:219"
     ]
    },
    {
     "cell_type": "code",
     "collapsed": false,
     "input": [
      "import math\n",
      "from __future__ import division\n",
      "\n",
      "#initialisation of variables\n",
      "dvp=218-152\n",
      "dip=(14.7-8.1)*10**-3\n",
      "\n",
      "#CALCULATIONS\n",
      "rp=dvp/dip/1000 #k\u2126\n",
      "dvg=-2-(-6)\n",
      "gm=dip/dvg*1000 #mS\n",
      "\n",
      "#RESULTS\n",
      "print\"The value of rp=\",round(rp,3),\"kOhm\";\n",
      "print\"The value of gm=\",round(gm,3),\"mS\";"
     ],
     "language": "python",
     "metadata": {},
     "outputs": [
      {
       "output_type": "stream",
       "stream": "stdout",
       "text": [
        "The value of rp= 10.0 kOhm\n",
        "The value of gm= 1.65 mS\n"
       ]
      }
     ],
     "prompt_number": 9
    },
    {
     "cell_type": "heading",
     "level": 2,
     "metadata": {},
     "source": [
      "Example 7.22 , Page no:220"
     ]
    },
    {
     "cell_type": "code",
     "collapsed": false,
     "input": [
      "import math\n",
      "from __future__ import division\n",
      "\n",
      "#initialisation of variables\n",
      "Vpp=300 #V\n",
      "Vgq=4 #V\n",
      "Rl=11.6*10**3 #\u2126\n",
      "Vpm=34 #V\n",
      "Vgm=2\n",
      "\n",
      "#CALCULATIONS\n",
      "Av=-(2*Vpm/2*Vgm)\n",
      "dvp=202-168\n",
      "dip=(15-8)*10**-3\n",
      "rp=dvp/dip/1000 #k\u2126\n",
      "dip1=(15.5-6.5)*10**-3\n",
      "dvg=-3-(-5)\n",
      "gm=dip1/dvg*1000 #ms\n",
      "m=21.87\n",
      "Rl=11.6 #\u2126\n",
      "Av=-(m*Rl*10**3)/((Rl+rp)*10**3) #Voltage gain\n",
      "\n",
      "#RESULTS\n",
      "print\"The value of rp=\",round(rp,3),\"kOhm\";\n",
      "print\"The value of gm=\",round(gm,3),\"ms\";\n",
      "print\"The value of Av=\",round(Av,3);"
     ],
     "language": "python",
     "metadata": {},
     "outputs": [
      {
       "output_type": "stream",
       "stream": "stdout",
       "text": [
        "The value of rp= 4.857 kOhm\n",
        "The value of gm= 4.5 ms\n",
        "The value of Av= -15.415\n"
       ]
      }
     ],
     "prompt_number": 10
    }
   ],
   "metadata": {}
  }
 ]
}