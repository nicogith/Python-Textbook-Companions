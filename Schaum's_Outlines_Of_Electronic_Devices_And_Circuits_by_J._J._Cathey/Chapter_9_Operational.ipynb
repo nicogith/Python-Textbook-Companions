{
 "metadata": {
  "name": "",
  "signature": "sha256:bd39876304663cf24b291325d3ff0e166ccf766db8e59c188cbbc3d2cc2c0ade"
 },
 "nbformat": 3,
 "nbformat_minor": 0,
 "worksheets": [
  {
   "cells": [
    {
     "cell_type": "heading",
     "level": 1,
     "metadata": {},
     "source": [
      "Chapter 9 Operational Amplifiers"
     ]
    },
    {
     "cell_type": "heading",
     "level": 2,
     "metadata": {},
     "source": [
      "Example 9.2 , Page no:268"
     ]
    },
    {
     "cell_type": "code",
     "collapsed": false,
     "input": [
      "import math\n",
      "from __future__ import division\n",
      "\n",
      "#initialisation of variables\n",
      "Rl=1 #k\u2126\n",
      "Rf=10 #k\u2126\n",
      "Rd=1 #k\u2126\n",
      "\n",
      "#CALCULATIONS\n",
      "Aol=-10**4\n",
      "Av=(Aol/(1+(Rl/Rf)*(1-Aol)+(Rl/Rd)))\n",
      "\n",
      "#RESULTS\n",
      "print\"The value of Av=\",round(Av,3);"
     ],
     "language": "python",
     "metadata": {},
     "outputs": [
      {
       "output_type": "stream",
       "stream": "stdout",
       "text": [
        "The value of Av= -9.979\n"
       ]
      }
     ],
     "prompt_number": 1
    },
    {
     "cell_type": "heading",
     "level": 2,
     "metadata": {},
     "source": [
      "Example 9.9 , Page no:272"
     ]
    },
    {
     "cell_type": "code",
     "collapsed": false,
     "input": [
      "import math\n",
      "from __future__ import division\n",
      "\n",
      "#initialisation of variables\n",
      "Rl=1\n",
      "Rf=10\n",
      "Rd=1\n",
      "\n",
      "#CALCULATIONS\n",
      "Aol=-10**4\n",
      "Av=(Aol/(1+(Rl/Rf)*(1-Aol)+(Rl/Rd)))\n",
      "\n",
      "#RESULTS\n",
      "print\"The value of Av=\",round(Av,3);"
     ],
     "language": "python",
     "metadata": {},
     "outputs": [
      {
       "output_type": "stream",
       "stream": "stdout",
       "text": [
        "The value of Av= -9.979\n"
       ]
      }
     ],
     "prompt_number": 2
    },
    {
     "cell_type": "heading",
     "level": 2,
     "metadata": {},
     "source": [
      "Example 9.12 , Page no:274"
     ]
    },
    {
     "cell_type": "code",
     "collapsed": false,
     "input": [
      "import math\n",
      "from __future__ import division\n",
      "\n",
      "#initialisation of variables\n",
      "f=100 #Hz\n",
      "\n",
      "#CALCULATIONS\n",
      "R=10*10**3 #\u2126\n",
      "C=(0.1/(2*3.14*f*R))*10**9 #Capicitor\n",
      "\n",
      "#RESULTS\n",
      "print\"The value of C=\",round(C,3),\"nF\";"
     ],
     "language": "python",
     "metadata": {},
     "outputs": [
      {
       "output_type": "stream",
       "stream": "stdout",
       "text": [
        "The value of C= 15.924 nF\n"
       ]
      }
     ],
     "prompt_number": 3
    },
    {
     "cell_type": "heading",
     "level": 2,
     "metadata": {},
     "source": [
      "Example 9.25 , Page no:281"
     ]
    },
    {
     "cell_type": "code",
     "collapsed": false,
     "input": [
      "import math\n",
      "from __future__ import division\n",
      "\n",
      "#initialisation of variables\n",
      "R1=10*10**3 #\u2126\n",
      "R2=20*10**3 #\u2126\n",
      "R3=20*10**3 #\u2126\n",
      "\n",
      "#CALCULATIONS\n",
      "Av=-((R2*R3)/(R1*(R2+R3)))\n",
      "\n",
      "#RESULTS\n",
      "print\"The value of Av=\",round(Av,3);"
     ],
     "language": "python",
     "metadata": {},
     "outputs": [
      {
       "output_type": "stream",
       "stream": "stdout",
       "text": [
        "The value of Av= -1.0\n"
       ]
      }
     ],
     "prompt_number": 4
    }
   ],
   "metadata": {}
  }
 ]
}