{
 "metadata": {
  "name": "",
  "signature": "sha256:a3821b1a930b1eb1f30ee642e353c215625afffb07115c2496db315e51860a64"
 },
 "nbformat": 3,
 "nbformat_minor": 0,
 "worksheets": [
  {
   "cells": [
    {
     "cell_type": "heading",
     "level": 1,
     "metadata": {},
     "source": [
      "Chapter 5 Transistor Bias Considerations"
     ]
    },
    {
     "cell_type": "heading",
     "level": 2,
     "metadata": {},
     "source": [
      "Example 5.1 , Page no:143"
     ]
    },
    {
     "cell_type": "code",
     "collapsed": false,
     "input": [
      "import math\n",
      "from __future__ import division\n",
      "\n",
      "#CALCULATIONS\n",
      "Icbo=(500*(2**((90-25)/10)))/1000\n",
      "\n",
      "#RESULTS\n",
      "print\"The value of Icbo=\",round(Icbo,3),\"mA\";"
     ],
     "language": "python",
     "metadata": {},
     "outputs": [
      {
       "output_type": "stream",
       "stream": "stdout",
       "text": [
        "The value of Icbo= 45.255 mA\n"
       ]
      }
     ],
     "prompt_number": 1
    },
    {
     "cell_type": "heading",
     "level": 2,
     "metadata": {},
     "source": [
      "Example 5.6 , Page no:145"
     ]
    },
    {
     "cell_type": "code",
     "collapsed": false,
     "input": [
      "import math\n",
      "from __future__ import division\n",
      "\n",
      "#initialisation of variables\n",
      "Vee=4 #v\n",
      "Vbeq=0.7 #v\n",
      "b=50 #Beta\n",
      "Vcc=18 #v\n",
      "Rc=6 #k\u2126\n",
      "Re=2*10**3     #k\u2126\n",
      "b1=100\n",
      "Re1=2 #*10^3     //k\u2126\n",
      "\n",
      "#CALCULATIONS\n",
      "Rb=25*10**3 #k\u2126\n",
      "Icq=((Vee-Vbeq)/((Rb/b)+((b+1)/b)*Re))*1000\n",
      "Vceq=Vcc+Vee-(Rc+((b+1)/b)*Re1)*Icq  \n",
      "Icq1=((Vee-Vbeq)/((Rb/b1)+((b1+1)/b1)*Re))*1000\n",
      "Vceq1=Vcc+Vee-(Rc+((b1+1)/b1)*Re1)*Icq1\n",
      "\n",
      "#RESULTS\n",
      "print\"The value of Icq=\",round(Icq,3),\"mA\";\n",
      "print\"For beta=100\";\n",
      "print\"The value of Vceq=\",round(Vceq,3),\"V\";\n",
      "print\"For beta=100\";\n",
      "print\"The value of Icq=\",round(Icq1,3),\"mA\";\n",
      "print\"The value of Vceq=\",round(Vceq1,3),\"V\";"
     ],
     "language": "python",
     "metadata": {},
     "outputs": [
      {
       "output_type": "stream",
       "stream": "stdout",
       "text": [
        "The value of Icq= 1.299 mA\n",
        "For beta=100\n",
        "The value of Vceq= 11.554 V\n",
        "For beta=100\n",
        "The value of Icq= 1.454 mA\n",
        "The value of Vceq= 10.341 V\n"
       ]
      }
     ],
     "prompt_number": 2
    },
    {
     "cell_type": "heading",
     "level": 2,
     "metadata": {},
     "source": [
      "Example 5.8 , Page no:146"
     ]
    },
    {
     "cell_type": "code",
     "collapsed": false,
     "input": [
      "import math\n",
      "from __future__ import division\n",
      "\n",
      "#initialisation of variables\n",
      "Vcc=15 #v\n",
      "Vee=4 #v \n",
      "Vbeq=0.7 #v\n",
      "b=50 #Beta\n",
      "Re=3*10**3 #k\u2126\n",
      "Rc=7 #k\u2126\n",
      "Vee1=5\n",
      "Re1=3 #*10^3\n",
      "b1=100\n",
      "Vee2=5\n",
      "Re2=3 #*10^3\n",
      "\n",
      "#CALCULATIONS\n",
      "Ieq=(Vee-Vbeq)/Re*1000\n",
      "Icq=(b/(b+1))*Ieq\n",
      "Ibq=Icq/b\n",
      "Vceq=Vcc+Vee1-(Ieq*Re1)-(Icq*Rc)\n",
      "Icq1=(b1/(b1+1))*Ieq\n",
      "Ibq1=Icq/b1\n",
      "Vceq1=Vcc+Vee2-(Ieq*Re2)-(Icq1*Rc)\n",
      "\n",
      "#RESULTS\n",
      "print\"For beta=50\";\n",
      "print\"The value of Ieq=\",round(Ieq,3),\"mA\";\n",
      "print\"The value of Icq=\",round(Icq,3),\"mA\";\n",
      "print\"The value of Ibq=\",round(Ibq,3),\"mA\";\n",
      "print\"The value of Vceq=\",round(Vceq,3),\"V\";\n",
      "print\"For beta=100\";\n",
      "print\"The value of Ieq=\",round(Ieq,3),\"mA\";\n",
      "print\"The value of Icq=\",round(Icq1,3),\"mA\";\n",
      "print\"The value of Ibq=\",round(Ibq1,3),\"mA\";\n",
      "print\"The value of Vceq=\",round(Vceq1,3),\"V\";"
     ],
     "language": "python",
     "metadata": {},
     "outputs": [
      {
       "output_type": "stream",
       "stream": "stdout",
       "text": [
        "For beta=50\n",
        "The value of Ieq= 1.1 mA\n",
        "The value of Icq= 1.078 mA\n",
        "The value of Ibq= 0.022 mA\n",
        "The value of Vceq= 9.151 V\n",
        "For beta=100\n",
        "The value of Ieq= 1.1 mA\n",
        "The value of Icq= 1.089 mA\n",
        "The value of Ibq= 0.011 mA\n",
        "The value of Vceq= 9.076 V\n"
       ]
      }
     ],
     "prompt_number": 3
    },
    {
     "cell_type": "heading",
     "level": 2,
     "metadata": {},
     "source": [
      "Example 5.9 , Page no:147"
     ]
    },
    {
     "cell_type": "code",
     "collapsed": false,
     "input": [
      "import math\n",
      "from __future__ import division\n",
      "\n",
      "#initialisation of variables\n",
      "Vcc=15\n",
      "Vee=4\n",
      "Vbeq=0.7\n",
      "Rb=500\n",
      "\n",
      "#CALCULATIONS\n",
      "Sb=((Vcc-Vbeq)/Rb)*10**3\n",
      "Icq=(Sb*(100-50))/1000\n",
      "\n",
      "#RESULTS\n",
      "print\"The value of Sb=\",round(Sb,3);\n",
      "print\"The value of Icq=\",round(Icq,3),\"mA\";"
     ],
     "language": "python",
     "metadata": {},
     "outputs": [
      {
       "output_type": "stream",
       "stream": "stdout",
       "text": [
        "The value of Sb= 28.6\n",
        "The value of Icq= 1.43 mA\n"
       ]
      }
     ],
     "prompt_number": 4
    },
    {
     "cell_type": "heading",
     "level": 2,
     "metadata": {},
     "source": [
      "Example 5.11 , Page no:148"
     ]
    },
    {
     "cell_type": "code",
     "collapsed": false,
     "input": [
      "import math\n",
      "from __future__ import division\n",
      "\n",
      "#initialisation of variables\n",
      "Vbb=6\n",
      "Vbeq1=0.7\n",
      "Icbo1=0.5\n",
      "Rb=50\n",
      "Re=1\n",
      "B=75 #Beta\n",
      "\n",
      "#CALCULATIONS\n",
      "Icq1=((Vbb-Vbeq1+Icbo1*(0.5*51*10**-3))/((Rb*10**3/B)+Re*10**3))*10**3\n",
      "Icbo2=(Icbo1*10**-6*2**2)*10**6\n",
      "Vbeq=(-2*10**-3)*20\n",
      "Vbeq2=Vbeq1+Vbeq\n",
      "Icq2=((Vbb-Vbeq2+Icbo2*(2*51*10**-3))/((Rb*10**3/B)+Re*10**3))*10**3\n",
      "\n",
      "#RESULTS\n",
      "print\"The value of Icq1=\",round(Icq1,3),\"mA\";\n",
      "print\"The value of Icbo=\",round(Icbo2,3),\"mA\";\n",
      "print\"The value of Vbeq=\",round(Vbeq,3),\"V\";\n",
      "print\"The value of Vbeq2=\",round(Vbeq2,3),\"V\";\n",
      "print\"The value of Icq2=\",round(Icq2,3),\"mA\";"
     ],
     "language": "python",
     "metadata": {},
     "outputs": [
      {
       "output_type": "stream",
       "stream": "stdout",
       "text": [
        "The value of Icq1= 3.188 mA\n",
        "The value of Icbo= 2.0 mA\n",
        "The value of Vbeq= -0.04 V\n",
        "The value of Vbeq2= 0.66 V\n",
        "The value of Icq2= 3.326 mA\n"
       ]
      }
     ],
     "prompt_number": 5
    },
    {
     "cell_type": "heading",
     "level": 2,
     "metadata": {},
     "source": [
      "Example 5.16 , Page no:150"
     ]
    },
    {
     "cell_type": "code",
     "collapsed": false,
     "input": [
      "import math\n",
      "from __future__ import division\n",
      "\n",
      "#initialisation of variables\n",
      "B=50 #beta\n",
      "Vee=5\n",
      "Vbeq1=0.7\n",
      "T2=125\n",
      "Re=3*10**3\n",
      "Icbo1=0.5 #*10^-6\n",
      "\n",
      "#CALCULATIONS\n",
      "Icq2=(((B+1)/B)*((Vee-Vbeq1+0.002*(T2-25))/Re)+(2**((T2-25)/10))*Icbo1*10**-6)*10**3\n",
      "\n",
      "#RESULTS\n",
      "print\"The value of Icq2=\",round(Icq2,3),\"mA\";"
     ],
     "language": "python",
     "metadata": {},
     "outputs": [
      {
       "output_type": "stream",
       "stream": "stdout",
       "text": [
        "The value of Icq2= 2.042 mA\n"
       ]
      }
     ],
     "prompt_number": 6
    },
    {
     "cell_type": "heading",
     "level": 2,
     "metadata": {},
     "source": [
      "Example 5.19 , Page no:152"
     ]
    },
    {
     "cell_type": "code",
     "collapsed": false,
     "input": [
      "import math\n",
      "from __future__ import division\n",
      "\n",
      "#initialisation of variables\n",
      "B=75 #beta\n",
      "Rb=454.5 #k\u2126\n",
      "Vbb=1.818\n",
      "Vbeq=0.7\n",
      "Re=90\n",
      "\n",
      "#CALCULATIONS\n",
      "Icbo=0.2*10**-6\n",
      "deltaRe=110-90\n",
      "Sre=((B*Rb*Icbo-B**2*(Vbb-Vbeq+Icbo*Rb))/((Rb+B*Re)**2))*10**4\n",
      "Icq=(Sre*deltaRe)/10\n",
      "\n",
      "#RESULTS\n",
      "print\"The value of Sre=\",round(Sre,3),\"* 10^-4 A/Ohm\";\n",
      "print\"The value of Icq=\",round(Icq,3),\"* 10^-4 mA\";"
     ],
     "language": "python",
     "metadata": {},
     "outputs": [
      {
       "output_type": "stream",
       "stream": "stdout",
       "text": [
        "The value of Sre= -1.212 * 10^-4 A/Ohm\n",
        "The value of Icq= -2.423 * 10^-4 mA\n"
       ]
      }
     ],
     "prompt_number": 7
    },
    {
     "cell_type": "heading",
     "level": 2,
     "metadata": {},
     "source": [
      "Example 5.25 , Page no:156"
     ]
    },
    {
     "cell_type": "code",
     "collapsed": false,
     "input": [
      "import math\n",
      "from __future__ import division\n",
      "\n",
      "#initialisation of variables\n",
      "Vdd=15\n",
      "Idqmax=5.5\n",
      "Idqmin=1.3\n",
      "Rd=2.5 #k\u2126\n",
      "\n",
      "#CALCULATIONS\n",
      "Vdsqmax=Vdd-Idqmax*Rd\n",
      "Vdsqmin=Vdd-Idqmin*Rd\n",
      "\n",
      "#RESULTS\n",
      "print\"The value of Vdsqmax=\",round(Vdsqmax,3),\"V\";\n",
      "print\"The value of Vdsqmin=\",round(Vdsqmin,3),\"V\";"
     ],
     "language": "python",
     "metadata": {},
     "outputs": [
      {
       "output_type": "stream",
       "stream": "stdout",
       "text": [
        "The value of Vdsqmax= 1.25 V\n",
        "The value of Vdsqmin= 11.75 V\n"
       ]
      }
     ],
     "prompt_number": 8
    },
    {
     "cell_type": "heading",
     "level": 2,
     "metadata": {},
     "source": [
      "Example 5.26 , Page no:157"
     ]
    },
    {
     "cell_type": "code",
     "collapsed": false,
     "input": [
      "import math\n",
      "from __future__ import division\n",
      "\n",
      "#initialisation of variables\n",
      "Vdd=24 #V\n",
      "Idqmax=2.5\n",
      "Idqmin=1.2\n",
      "Rs=1 #k\u2126\n",
      "Rd=3 #k\u2126\n",
      "\n",
      "#CALCULATIONS\n",
      "Vdsqmax=Vdd-Idqmax*(Rs+Rd)\n",
      "Vdsqmin=Vdd-Idqmin*(Rs+Rd)\n",
      "\n",
      "#RESULTS\n",
      "print\"The value of Vdsqmax=\",round(Vdsqmax,3),\"V\";\n",
      "print\"The value of Vdsqmin=\",round(Vdsqmin,3),\"V\";"
     ],
     "language": "python",
     "metadata": {},
     "outputs": [
      {
       "output_type": "stream",
       "stream": "stdout",
       "text": [
        "The value of Vdsqmax= 14.0 V\n",
        "The value of Vdsqmin= 19.2 V\n"
       ]
      }
     ],
     "prompt_number": 9
    },
    {
     "cell_type": "heading",
     "level": 2,
     "metadata": {},
     "source": [
      "Example 5.28 , Page no:159"
     ]
    },
    {
     "cell_type": "code",
     "collapsed": false,
     "input": [
      "import math\n",
      "from __future__ import division\n",
      "\n",
      "#initialisation of variables\n",
      "Vdd=24\n",
      "Idqmax=4\n",
      "Idqmin=2.8\n",
      "Rs=2 #M\u2126\n",
      "Rd=1 #M\u2126\n",
      "\n",
      "#CALCULATIONS\n",
      "Vdsqmax=Vdd-Idqmax*(Rs+Rd)\n",
      "Vdsqmin=Vdd-Idqmin*(Rs+Rd)\n",
      "\n",
      "#RESULTS\n",
      "print\"The value of Vdsqmax=\",round(Vdsqmax,3),\"V\";\n",
      "print\"The value of Vdsqmin=\",round(Vdsqmin,3),\"V\";"
     ],
     "language": "python",
     "metadata": {},
     "outputs": [
      {
       "output_type": "stream",
       "stream": "stdout",
       "text": [
        "The value of Vdsqmax= 12.0 V\n",
        "The value of Vdsqmin= 15.6 V\n"
       ]
      }
     ],
     "prompt_number": 10
    }
   ],
   "metadata": {}
  }
 ]
}