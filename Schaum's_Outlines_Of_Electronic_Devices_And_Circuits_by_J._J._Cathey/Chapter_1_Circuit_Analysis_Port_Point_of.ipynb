{
 "metadata": {
  "name": "",
  "signature": "sha256:cf20ba46b51c9494db0e034252830864abb092d034eb15c0b909a6034baa1c14"
 },
 "nbformat": 3,
 "nbformat_minor": 0,
 "worksheets": [
  {
   "cells": [
    {
     "cell_type": "heading",
     "level": 1,
     "metadata": {},
     "source": [
      "Chapter 1 Circuit Analysis Port Point of View"
     ]
    },
    {
     "cell_type": "heading",
     "level": 2,
     "metadata": {},
     "source": [
      "Example 1.2 , Page no:4"
     ]
    },
    {
     "cell_type": "code",
     "collapsed": false,
     "input": [
      "import math\n",
      "from __future__ import division\n",
      "\n",
      "#initialisation of variables\n",
      "R1=1 #ohm\n",
      "R2=1 #ohm\n",
      "R3=1 #ohm\n",
      "Vs=10 #simWtv\n",
      "Vb=10 #v\n",
      "a=0\n",
      "Is=3 #A\n",
      "\n",
      "#CALCULATIONS\n",
      "V21=1/3*Vs #simWtv\n",
      "i21=V21/R2\n",
      "temp=R1*R2/(R1+R2) #Temp=R1||R2\n",
      "i32=Vb/(R3+temp)\n",
      "i22=(R1/(R1+R2))*i32\n",
      "i2=i21+i22\n",
      "i1=(Vs/(R1+R2))\n",
      "\n",
      "#RESULTS\n",
      "print\"Find the current i2 by superposition theorem\";\n",
      "print\"the current i2 by superposition theorem =\",round(i2,3),\"A\";"
     ],
     "language": "python",
     "metadata": {},
     "outputs": [
      {
       "output_type": "stream",
       "stream": "stdout",
       "text": [
        "Find the current i2 by superposition theorem\n",
        "the current i2 by superposition theorem = 6.667 A\n"
       ]
      }
     ],
     "prompt_number": 1
    },
    {
     "cell_type": "heading",
     "level": 2,
     "metadata": {},
     "source": [
      "Example 1.3 , Page no:5"
     ]
    },
    {
     "cell_type": "code",
     "collapsed": false,
     "input": [
      "import math\n",
      "from __future__ import division\n",
      "\n",
      "#initialisation of variables\n",
      "Va=4 #V\n",
      "Ia=2 #A\n",
      "R1=2 #ohm\n",
      "R2=3 #ohm\n",
      "\n",
      "#CALCULATIONS\n",
      "Vth=Va+Ia*R1\n",
      "Zth=R1+R2\n",
      "\n",
      "#RESULTS\n",
      "print\"Find the Thevenin equivalent voltage VTh and impedance ZTh\";\n",
      "print\"Thevenin equivalent voltage VTh  is =\",round(Vth),\"V\";\n",
      "print\"Impedance ZTh is =\",round(Zth,3),\"Ohm\";"
     ],
     "language": "python",
     "metadata": {},
     "outputs": [
      {
       "output_type": "stream",
       "stream": "stdout",
       "text": [
        "Find the Thevenin equivalent voltage VTh and impedance ZTh\n",
        "Thevenin equivalent voltage VTh  is = 8.0 V\n",
        "Impedance ZTh is = 5.0 Ohm\n"
       ]
      }
     ],
     "prompt_number": 2
    },
    {
     "cell_type": "heading",
     "level": 2,
     "metadata": {},
     "source": [
      "Example 1.4 , Page no:6"
     ]
    },
    {
     "cell_type": "code",
     "collapsed": false,
     "input": [
      "import math\n",
      "from __future__ import division\n",
      "\n",
      "#initialisation of variables\n",
      "Va=4 #V\n",
      "a=0.25 #A/V\n",
      "R1=2 #ohm\n",
      "R2=3 #ohm\n",
      "\n",
      "#CALCULATIONS\n",
      "Vth=Va/(1-a*R1)\n",
      "Vdp=R1+R2\n",
      "Idp=1-a*R1\n",
      "Zth=Vdp/Idp\n",
      "\n",
      "#RESULTS\n",
      "print\"Find the Thevenin equivalent voltage VTh and impedance ZTh\";\n",
      "print\"Thevenin equivalent voltage VTh  is =\",round(Vth,3),\"V\";\n",
      "print\"Impedance ZTh is =\",round(Zth,3),\"Ohm\";"
     ],
     "language": "python",
     "metadata": {},
     "outputs": [
      {
       "output_type": "stream",
       "stream": "stdout",
       "text": [
        "Find the Thevenin equivalent voltage VTh and impedance ZTh\n",
        "Thevenin equivalent voltage VTh  is = 8.0 V\n",
        "Impedance ZTh is = 10.0 Ohm\n"
       ]
      }
     ],
     "prompt_number": 3
    },
    {
     "cell_type": "heading",
     "level": 2,
     "metadata": {},
     "source": [
      "Example 1.6 , Page no:17"
     ]
    },
    {
     "cell_type": "code",
     "collapsed": false,
     "input": [
      "import math\n",
      "from __future__ import division\n",
      "\n",
      "#initialisation of variables\n",
      "Va=4.0 #V\n",
      "a=0.25 #A/V\n",
      "R1=2 #ohm\n",
      "R2=3 #ohm\n",
      "I=2\n",
      "Zth=5\n",
      "\n",
      "#CALCULATIONS\n",
      "Ia=(Va/(R1+R2))+((R1*I)/(R1+R2))\n",
      "Yn=1/Zth\n",
      "\n",
      "#RESULTS\n",
      "print\"Find the Norton equivalent current IN and admittance YN\";\n",
      "print\"Norton equivalent current IN  is =\",round(Ia,2),\"V\";\n",
      "print\"Admittance YN is =\",round(Yn,2),\"Ohm\";"
     ],
     "language": "python",
     "metadata": {},
     "outputs": [
      {
       "output_type": "stream",
       "stream": "stdout",
       "text": [
        "Find the Norton equivalent current IN and admittance YN\n",
        "Norton equivalent current IN  is = 1.6 V\n",
        "Admittance YN is = 0.2 Ohm\n"
       ]
      }
     ],
     "prompt_number": 4
    },
    {
     "cell_type": "heading",
     "level": 2,
     "metadata": {},
     "source": [
      "Example 1.7 , Page no:19"
     ]
    },
    {
     "cell_type": "code",
     "collapsed": false,
     "input": [
      "import math\n",
      "from __future__ import division\n",
      "\n",
      "#initialisation of variables\n",
      "V1=10 #V\n",
      "V2=15 #V\n",
      "R1=4 #ohm\n",
      "R2=6 #ohm\n",
      "\n",
      "#CALCULATIONS\n",
      "I=(V1-V2)/(R1+R2)\n",
      "Vth=V1-I*R1\n",
      "Zth=(R1*R2)/(R1+R2)\n",
      "\n",
      "#RESULTS\n",
      "print\"Find the The\u00b4venin equivalent for the network to the left of terminals a; b.\";\n",
      "print\"The value of I is =\",round(I,3),\"A\";\n",
      "print\"The value of Thevenin Equivalent voltage=\",round(Vth,3),\"V\";\n",
      "print\"The value of Thevenin Impedance =\",round(Zth,3),\"ohm\";"
     ],
     "language": "python",
     "metadata": {},
     "outputs": [
      {
       "output_type": "stream",
       "stream": "stdout",
       "text": [
        "Find the The\u00b4venin equivalent for the network to the left of terminals a; b.\n",
        "The value of I is = -0.5 A\n",
        "The value of Thevenin Equivalent voltage= 12.0 V\n",
        "The value of Thevenin Impedance = 2.4 ohm\n"
       ]
      }
     ],
     "prompt_number": 5
    },
    {
     "cell_type": "heading",
     "level": 2,
     "metadata": {},
     "source": [
      "Example 1.8 , Page no:19"
     ]
    },
    {
     "cell_type": "code",
     "collapsed": false,
     "input": [
      "import math\n",
      "from __future__ import division\n",
      "\n",
      "#initialisation of variables\n",
      "V1=10 #V\n",
      "V2=15 #V\n",
      "R1=4 #ohm\n",
      "R2=6 #ohm\n",
      "\n",
      "#CALCULATIONS\n",
      "Iab1=V1/R1\n",
      "Iab2=V2/R2\n",
      "In=Iab1+Iab2\n",
      "Zth=(R1*R2)/(R1+R2)\n",
      "Yn=1/Zth #Rth=Zth\n",
      "\n",
      "#RESULTS\n",
      "print\"Find the Norton equivalent for the network to the left of termin\";\n",
      "print\"Then by superpostion\";\n",
      "print\"The value of In =\",round(In,3),\"A and Yn=\",round(Yn,3),\"A\";"
     ],
     "language": "python",
     "metadata": {},
     "outputs": [
      {
       "output_type": "stream",
       "stream": "stdout",
       "text": [
        "Find the Norton equivalent for the network to the left of termin\n",
        "Then by superpostion\n",
        "The value of In = 5.0 A and Yn= 0.417 A\n"
       ]
      }
     ],
     "prompt_number": 6
    },
    {
     "cell_type": "heading",
     "level": 2,
     "metadata": {},
     "source": [
      "Example 1.9 , Page no:20"
     ]
    },
    {
     "cell_type": "code",
     "collapsed": false,
     "input": [
      "import math\n",
      "from __future__ import division\n",
      "\n",
      "#initialisation of variables\n",
      "V1=10 #V\n",
      "V2=15 #V\n",
      "R1=4 #ohm\n",
      "R2=6 #ohm\n",
      "\n",
      "#CALCULATIONS\n",
      "I=(V1-V2)/(R1+R2)\n",
      "Vth=V1-I*R1\n",
      "Iab1=V1/R1\n",
      "Iab2=V2/R2\n",
      "In=Iab1+Iab2\n",
      "Zth=Vth/In\n",
      "\n",
      "#RESULTS\n",
      "print\"Find the The\u00b4venin impedance as the ratio of open-circuit voltage to short-circuit current\";\n",
      "print\"The value of I is =\",round(I,3),\"A\";\n",
      "print\"Then by superpostion\"\n",
      "print\"The value of Zth is =\",round(Zth,3),\"ohm\";"
     ],
     "language": "python",
     "metadata": {},
     "outputs": [
      {
       "output_type": "stream",
       "stream": "stdout",
       "text": [
        "Find the The\u00b4venin impedance as the ratio of open-circuit voltage to short-circuit current\n",
        "The value of I is = -0.5 A\n",
        "Then by superpostion\n",
        "The value of Zth is = 2.4 ohm\n"
       ]
      }
     ],
     "prompt_number": 7
    },
    {
     "cell_type": "heading",
     "level": 2,
     "metadata": {},
     "source": [
      "Example 1.11 , Page no:20"
     ]
    },
    {
     "cell_type": "code",
     "collapsed": false,
     "input": [
      "import math\n",
      "from __future__ import division\n",
      "\n",
      "#initialisation of variables\n",
      "Va=4.0 #V\n",
      "a=0.25 #A/V\n",
      "R1=2 #ohm\n",
      "R2=3 #ohm\n",
      "I=2\n",
      "Zth=5\n",
      "\n",
      "#CALCULATIONS\n",
      "Ia=(Va/(R1+R2))+((R1*I)/(R1+R2))\n",
      "Yn=1/Zth\n",
      "\n",
      "#RESULTS\n",
      "print\"Find the Norton equivalent current IN and admittance YN\";\n",
      "print\"Norton equivalent current IN  is =\",round(Ia,3),\"V\";\n",
      "print\"admittance YN is =\",round(Yn,3),\"Ohm\";"
     ],
     "language": "python",
     "metadata": {},
     "outputs": [
      {
       "output_type": "stream",
       "stream": "stdout",
       "text": [
        "Find the Norton equivalent current IN and admittance YN\n",
        "Norton equivalent current IN  is = 1.6 V\n",
        "admittance YN is = 0.2 Ohm\n"
       ]
      }
     ],
     "prompt_number": 8
    },
    {
     "cell_type": "heading",
     "level": 2,
     "metadata": {},
     "source": [
      "Example 1.12 , Page no:21"
     ]
    },
    {
     "cell_type": "code",
     "collapsed": false,
     "input": [
      "import math\n",
      "from __future__ import division\n",
      "\n",
      "#initialisation of variables\n",
      "Va=4.0 #V\n",
      "a=0.25 #A/V\n",
      "R1=2 #ohm\n",
      "R2=3 #ohm\n",
      "I=2\n",
      "Zth=5\n",
      "\n",
      "#CALCULATIONS\n",
      "V1=1.231*(10**-2) #V\n",
      "I1=1*(10**-3) #A\n",
      "Z11=V1/I1 #Ohm\n",
      "V2=2.308*(10**-3) #V\n",
      "I2=1*(10**-3) #A\n",
      "Z12=V2/I2 #Ohm\n",
      "V3=4.615*(10**-3) #V\n",
      "I3=1*(10**-3) #A\n",
      "Z21=V3/I3 #Ohm\n",
      "V4=4.615*(10**-3) #V\n",
      "I4=1*(10**-3) #A\n",
      "Z22=V4/I4 #Ohm\n",
      "\n",
      "#RESULTS\n",
      "print\"Solve Problem 1.11 using a SPICE method\";\n",
      "print\"The value of Z11=\",round(Z11,3),\"Ohm\";\n",
      "print\"The value of Z12=\",round(Z12,3),\"Ohm\";\n",
      "print\"The value of Z21=\",round(Z21,3),\"Ohm\";\n",
      "print\"The value of Z22=\",round(Z22,3),\"Ohm\";"
     ],
     "language": "python",
     "metadata": {},
     "outputs": [
      {
       "output_type": "stream",
       "stream": "stdout",
       "text": [
        "Solve Problem 1.11 using a SPICE method\n",
        "The value of Z11= 12.31 Ohm\n",
        "The value of Z12= 2.308 Ohm\n",
        "The value of Z21= 4.615 Ohm\n",
        "The value of Z22= 4.615 Ohm\n"
       ]
      }
     ],
     "prompt_number": 9
    },
    {
     "cell_type": "heading",
     "level": 2,
     "metadata": {},
     "source": [
      "Example 1.13 , Page no:22"
     ]
    },
    {
     "cell_type": "code",
     "collapsed": false,
     "input": [
      "import math\n",
      "from __future__ import division\n",
      "\n",
      "#initialisation of variables\n",
      "V2=0 #V\n",
      "Ia=0 #A\n",
      "#h11=V1/I1\n",
      "h11=10 #ohm\n",
      "#Here I2=-I1\n",
      "#Therefor h21=I2/I1 h21=-1\n",
      "h21=-1 #ohm\n",
      "I1=0 #A\n",
      "h12=0.5 #Ohm\n",
      "I2=1.3 #A\n",
      "V2=6 #V\n",
      "\n",
      "#CALCULATIONS\n",
      "Ia=V2/6 #A\n",
      "V1=V2-10*(0.3) #V\n",
      "h22=I2/V2 #Ohm\n",
      "\n",
      "#RESULTS\n",
      "print\"Determine the h parameters for the two-port network\";\n",
      "print\"The value of h11=10.000 ohm h21=\",round(h11,3),\"ohm h12=\",round(h21,3),\"ohm h12=\",round(h12,3),\"ohm h22=\",round(h22,3),\"ohm\";"
     ],
     "language": "python",
     "metadata": {},
     "outputs": [
      {
       "output_type": "stream",
       "stream": "stdout",
       "text": [
        "Determine the h parameters for the two-port network\n",
        "The value of h11=10.000 ohm h21= 10.0 ohm h12= -1.0 ohm h12= 0.5 ohm h22= 0.217 ohm\n"
       ]
      }
     ],
     "prompt_number": 10
    },
    {
     "cell_type": "heading",
     "level": 2,
     "metadata": {},
     "source": [
      "Example 1.15 , Page no:23"
     ]
    },
    {
     "cell_type": "code",
     "collapsed": false,
     "input": [
      "import math\n",
      "from __future__ import division\n",
      "\n",
      "#initialisation of variables\n",
      "#Let V=V2/V1\n",
      "RL=2000\n",
      "h11=100 #ohm\n",
      "h12=0.0025 #ohm\n",
      "h21=20 #ohm\n",
      "h22=0.001 #mS\n",
      "\n",
      "#CALCULATIONS\n",
      "V=1/(h12-(h11/h21)*((1/RL)+h22))\n",
      "\n",
      "#RESULTS\n",
      "print\"Find the voltage-gain ratio V2/V1\";\n",
      "print\"The value of V2/V1=\",round(V,3);"
     ],
     "language": "python",
     "metadata": {},
     "outputs": [
      {
       "output_type": "stream",
       "stream": "stdout",
       "text": [
        "Find the voltage-gain ratio V2/V1\n",
        "The value of V2/V1= -200.0\n"
       ]
      }
     ],
     "prompt_number": 11
    },
    {
     "cell_type": "heading",
     "level": 2,
     "metadata": {},
     "source": [
      "Example 1.19 , Page no:25"
     ]
    },
    {
     "cell_type": "code",
     "collapsed": false,
     "input": [
      "import math\n",
      "from __future__ import division\n",
      "\n",
      "#initialisation of variables\n",
      "T=1\n",
      "\n",
      "#CALCULATIONS\n",
      "I0=(1/T)*(4*(T/2)+1*(T/2)) #A\n",
      "I=(2*(1/T)*((4**2)*(T/2)+(1**2)*(T/2)))**(1/2) #A\n",
      "\n",
      "#RESULTS\n",
      "print\"Find (a) the average value of the current and (b) the rms value of the current.\";\n",
      "print\"I0=\",round(I0,3),\"A\";\n",
      "print\"I=\",round(I,3),\"A\";"
     ],
     "language": "python",
     "metadata": {},
     "outputs": [
      {
       "output_type": "stream",
       "stream": "stdout",
       "text": [
        "Find (a) the average value of the current and (b) the rms value of the current.\n",
        "I0= 2.5 A\n",
        "I= 4.123 A\n"
       ]
      }
     ],
     "prompt_number": 12
    }
   ],
   "metadata": {}
  }
 ]
}