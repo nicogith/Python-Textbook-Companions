{
 "metadata": {
  "name": "",
  "signature": "sha256:618b68a86275823e4078854d5ea9e0d35a338cbe18b228497e7755b18923bfda"
 },
 "nbformat": 3,
 "nbformat_minor": 0,
 "worksheets": [
  {
   "cells": [
    {
     "cell_type": "heading",
     "level": 1,
     "metadata": {},
     "source": [
      "Chapter 6 Small Signal Midfrequency Bjt Amplifiers"
     ]
    },
    {
     "cell_type": "heading",
     "level": 2,
     "metadata": {},
     "source": [
      "Example 6.2 , Page no:175"
     ]
    },
    {
     "cell_type": "code",
     "collapsed": false,
     "input": [
      "import math\n",
      "from __future__ import division\n",
      "\n",
      "#initialisation of variables\n",
      "a=0.99 #alpha\n",
      "Rc=4*10**3 #k\u2126\n",
      "Rl=4*10**3 #k\u2126\n",
      "Re=5*10**3 #k\u2126\n",
      "re=30 #\u2126\n",
      "rb=300 #\u2126\n",
      "\n",
      "#CALCULATIONS\n",
      "Ai=(a*Rc*Re)/((Rc+Rl)*(Re+re+(1-a)*rb))\n",
      "\n",
      "#RESULTS\n",
      "print\"The value of Ai=\",round(Ai,3);"
     ],
     "language": "python",
     "metadata": {},
     "outputs": [
      {
       "output_type": "stream",
       "stream": "stdout",
       "text": [
        "The value of Ai= 0.492\n"
       ]
      }
     ],
     "prompt_number": 1
    },
    {
     "cell_type": "heading",
     "level": 2,
     "metadata": {},
     "source": [
      "Example 6.7 , Page no:178"
     ]
    },
    {
     "cell_type": "code",
     "collapsed": false,
     "input": [
      "import math\n",
      "from __future__ import division\n",
      "\n",
      "#initialisation of variables\n",
      "hfe=90\n",
      "Rl=800 #\u2126\n",
      "Rc=800 #\u2126\n",
      "Rb=831 #k\u2126\n",
      "hie=200\n",
      "\n",
      "#CALCULATIONS\n",
      "hoe=100*10**-6\n",
      "Av=-((hfe*Rl*Rc)/(hie*(Rc+Rl+hoe*Rl*Rc))) #voltage gain Av\n",
      "Ai=((Rb*hie)/(Rl*(Rb+hie)))*Av #current gain Ai\n",
      "\n",
      "#RESULTS\n",
      "print\"The value of Av=\",round(Av,3);\n",
      "print\"The value of Ai=\",round(Ai,3);"
     ],
     "language": "python",
     "metadata": {},
     "outputs": [
      {
       "output_type": "stream",
       "stream": "stdout",
       "text": [
        "The value of Av= -173.077\n",
        "The value of Ai= -34.876\n"
       ]
      }
     ],
     "prompt_number": 2
    },
    {
     "cell_type": "heading",
     "level": 2,
     "metadata": {},
     "source": [
      "Example 6.8 , Page no:179"
     ]
    },
    {
     "cell_type": "code",
     "collapsed": false,
     "input": [
      "import math\n",
      "from __future__ import division\n",
      "\n",
      "#initialisation of variables\n",
      "vl=1.1528 #output voltage\n",
      "vi=0.250 #input voltage\n",
      "\n",
      "#CALCULATIONS\n",
      "Av=-(vl/vi) #voltage gain \n",
      "\n",
      "#RESULTS\n",
      "print\"The value of Av=\",round(Av,3);"
     ],
     "language": "python",
     "metadata": {},
     "outputs": [
      {
       "output_type": "stream",
       "stream": "stdout",
       "text": [
        "The value of Av= -4.611\n"
       ]
      }
     ],
     "prompt_number": 3
    },
    {
     "cell_type": "heading",
     "level": 2,
     "metadata": {},
     "source": [
      "Example 6.18 , Page no:185"
     ]
    },
    {
     "cell_type": "code",
     "collapsed": false,
     "input": [
      "import math\n",
      "from __future__ import division\n",
      "\n",
      "#initialisation of variables\n",
      "Rs=5 #k\u2126\n",
      "Rf=100 #k\u2126\n",
      "hie=1.1\n",
      "Rc=10 #k\u2126\n",
      "Rl=10 #k\u2126\n",
      "hfe=50\n",
      "\n",
      "#CALCULATIONS\n",
      "d=((1/Rs)+(1/Rf)+(1/hie))*((1/Rf)+((Rc+Rl)/(Rc*Rl)))+((1/Rf)*((hfe/hie)-(1/Rf)))\n",
      "\n",
      "#RESULTS\n",
      "print\"The value of d=\",round(d,3);"
     ],
     "language": "python",
     "metadata": {},
     "outputs": [
      {
       "output_type": "stream",
       "stream": "stdout",
       "text": [
        "The value of d= 0.689\n"
       ]
      }
     ],
     "prompt_number": 4
    },
    {
     "cell_type": "heading",
     "level": 2,
     "metadata": {},
     "source": [
      "Example 6.19 , Page no:186"
     ]
    },
    {
     "cell_type": "code",
     "collapsed": false,
     "input": [
      "import math\n",
      "from __future__ import division\n",
      "\n",
      "#initialisation of variables\n",
      "hfb=-0.99\n",
      "hib=25\n",
      "\n",
      "#CALCULATIONS\n",
      "Rc=2.2*10**3\n",
      "Rl=1.1*10**3\n",
      "Re=3.3*10**3\n",
      "hob=10**-6\n",
      "Av=((Rc*Rl*hfb)/(hib*(Rc+Rl+hob*(Rc*Rl))))\n",
      "Ai=-((Re*Rc*hfb)/((Re+hib)+(Rc+Rl+hob*Rl*Rc)))\n",
      "\n",
      "#RESULTS\n",
      "print\"The value of Av=\",round(Av,3);\n",
      "print\"The value of Ai=\",round(Ai,3);"
     ],
     "language": "python",
     "metadata": {},
     "outputs": [
      {
       "output_type": "stream",
       "stream": "stdout",
       "text": [
        "The value of Av= -29.019\n",
        "The value of Ai= 1084.494\n"
       ]
      }
     ],
     "prompt_number": 5
    },
    {
     "cell_type": "heading",
     "level": 2,
     "metadata": {},
     "source": [
      "Example 6.22 , Page no:189"
     ]
    },
    {
     "cell_type": "code",
     "collapsed": false,
     "input": [
      "import math\n",
      "from __future__ import division\n",
      "\n",
      "#initialisation of variables\n",
      "hfe=40\n",
      "hie=1500\n",
      "\n",
      "#CALCULATIONS\n",
      "Rc2=20*10**3 #\u2126\n",
      "Rc1=10**4 #\u2126\n",
      "hoe=30*10**-6\n",
      "Av2=-((hfe*Rc2)/(hie*(1+hoe*Rc2))) #final-stage voltage gain\n",
      "Rb2=5*10**3 #\u2126\n",
      "Zin2=(((Rb2*hie)/(Rb2+hie)))/1000 #final-stage input impedance Zin2\n",
      "Zin21=Zin2*1000\n",
      "Av1=-((hfe*Zin21*Rc1)/(hie*(Rc1+Zin21+hoe*Zin21*Rc1))) #initial-stage voltage gain\n",
      "\n",
      "#RESULTS\n",
      "print\"The value of Av2=\",round(Av2,3)\n",
      "print\"The value of Zin2=\",round(Zin2,3),\"Kohm\";\n",
      "print\"The value of Av1=\",round(Av1,3)"
     ],
     "language": "python",
     "metadata": {},
     "outputs": [
      {
       "output_type": "stream",
       "stream": "stdout",
       "text": [
        "The value of Av2= -333.333\n",
        "The value of Zin2= 1.154 Kohm\n",
        "The value of Av1= -26.756\n"
       ]
      }
     ],
     "prompt_number": 6
    },
    {
     "cell_type": "heading",
     "level": 2,
     "metadata": {},
     "source": [
      "Example 6.24 , Page no:191"
     ]
    },
    {
     "cell_type": "code",
     "collapsed": false,
     "input": [
      "import math\n",
      "from __future__ import division\n",
      "\n",
      "#initialisation of variables\n",
      "Av1=0.9879\n",
      "hfe=100\n",
      "\n",
      "#CALCULATIONS\n",
      "R11=90*10**3\n",
      "R12=100*10**3\n",
      "R22=90*10**3\n",
      "R21=10*10**3\n",
      "Rl=5*10**3\n",
      "Rc=5*10**3\n",
      "hie=1*10**3\n",
      "Rb1=((R11*R12)/(R11+R12))/1000\n",
      "Rb2=((R22*R21)/(R22+R21))/1000\n",
      "Av2=-((hfe*Rl*Rc)/(hie*(Rl+Rc)))\n",
      "Av=Av1*Av2\n",
      "\n",
      "#RESULTS\n",
      "print\"The value of Rb1=\",round(Rb1,3),\"Kohm\";\n",
      "print\"The value of Rb2=\",round(Rb2,3),\"Kohm\";\n",
      "print\"The value of Av2=\",round(Av2,3)\n",
      "print\"The value of Av=\",round(Av,3),\"Kohm\";"
     ],
     "language": "python",
     "metadata": {},
     "outputs": [
      {
       "output_type": "stream",
       "stream": "stdout",
       "text": [
        "The value of Rb1= 47.368 Kohm\n",
        "The value of Rb2= 9.0 Kohm\n",
        "The value of Av2= -250.0\n",
        "The value of Av= -246.975 Kohm\n"
       ]
      }
     ],
     "prompt_number": 7
    },
    {
     "cell_type": "heading",
     "level": 2,
     "metadata": {},
     "source": [
      "Example 6.26 , Page no:193"
     ]
    },
    {
     "cell_type": "code",
     "collapsed": false,
     "input": [
      "import math\n",
      "from __future__ import division\n",
      "\n",
      "#initialisation of variables\n",
      "hfe=100\n",
      "\n",
      "#CALCULATIONS\n",
      "Rl=3*10**3 #k\u2126\n",
      "Rc=3*10**3 #k\u2126\n",
      "hie=1*10**3\n",
      "Av2=-((hfe*Rl*Rc)/(hie*(Rl+Rc)))\n",
      "Rc1=10*10**3 #k\u2126\n",
      "Re1=1*10**3 #k\u2126\n",
      "Av1=-((hfe*Rc1*hie)/((Rc1+hie)*((hfe+1)*Re1+hie)))\n",
      "Av=Av1*Av2\n",
      "Ai1=-((hfe*Rc1)/(Rc1+hie))\n",
      "Rc2=3*10**3 #k\u2126\n",
      "Ai2=-((hfe*Rc2)/(Rc2+Rl))\n",
      "Ai=Ai1*Ai2\n",
      "\n",
      "#RESULTS\n",
      "print\"The value of Av2=\",round(Av2,3);\n",
      "print\"The value of Av1=\",round(Av1,3);\n",
      "print\"The value of Av=\",round(Av,3);\n",
      "print\"The value of Ai1=\",round(Ai1,3);\n",
      "print\"The value of Ai2=\",round(Ai2,3);\n",
      "print\"The value of Ai=\",round(Ai,3);"
     ],
     "language": "python",
     "metadata": {},
     "outputs": [
      {
       "output_type": "stream",
       "stream": "stdout",
       "text": [
        "The value of Av2= -150.0\n",
        "The value of Av1= -0.891\n",
        "The value of Av= 133.69\n",
        "The value of Ai1= -90.909\n",
        "The value of Ai2= -50.0\n",
        "The value of Ai= 4545.455\n"
       ]
      }
     ],
     "prompt_number": 8
    },
    {
     "cell_type": "heading",
     "level": 2,
     "metadata": {},
     "source": [
      "Example 6.27 , Page no:194"
     ]
    },
    {
     "cell_type": "code",
     "collapsed": false,
     "input": [
      "import math\n",
      "from __future__ import division\n",
      "\n",
      "#initialisation of variables\n",
      "hfb1=-0.99\n",
      "hfc2=-100\n",
      "hic2=500\n",
      "hib1=50\n",
      "hic2=500\n",
      "Av2=0.995\n",
      "\n",
      "#CALCULATIONS\n",
      "Rb=33.3*10**3\n",
      "Re1=5*10**3\n",
      "Re2=2*10**3\n",
      "Rl=2*10**3\n",
      "Av1=-((hfb1*Rb*hic2)/(hib1*(Rb+hic2)))\n",
      "Av=Av1*Av2\n",
      "Ai1=-((hfb1*Re1*Rb)/((Re1+hib1)*(Rb+hic2)))\n",
      "Ai2=-((hfc2*Re2)/(Re2+Rl))\n",
      "Ai=Ai1*Ai2\n",
      "\n",
      "#RESULTS\n",
      "print\"The value of Av1=\",round(Av1,3);\n",
      "print\"The value of Av1=\",round(Av,3);\n",
      "print\"The value of Ai1=\",round(Ai1);\n",
      "print\"The value of Ai2=\",round(Ai2,3);\n",
      "print\"The value of Ai=\",round(Ai,3);"
     ],
     "language": "python",
     "metadata": {},
     "outputs": [
      {
       "output_type": "stream",
       "stream": "stdout",
       "text": [
        "The value of Av1= 9.754\n",
        "The value of Av1= 9.705\n",
        "The value of Ai1= 1.0\n",
        "The value of Ai2= 50.0\n",
        "The value of Ai= 48.285\n"
       ]
      }
     ],
     "prompt_number": 9
    }
   ],
   "metadata": {}
  }
 ]
}