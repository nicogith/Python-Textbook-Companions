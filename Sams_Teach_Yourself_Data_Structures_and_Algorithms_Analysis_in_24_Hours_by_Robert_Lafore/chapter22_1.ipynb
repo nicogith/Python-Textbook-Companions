{
 "metadata": {
  "name": ""
 },
 "nbformat": 3,
 "nbformat_minor": 0,
 "worksheets": [
  {
   "cells": [
    {
     "cell_type": "heading",
     "level": 1,
     "metadata": {},
     "source": [
      "22: Quadratic Probing"
     ]
    },
    {
     "cell_type": "heading",
     "level": 2,
     "metadata": {},
     "source": [
      "Example 1: Page 446"
     ]
    },
    {
     "cell_type": "code",
     "collapsed": false,
     "input": [
      "#demonstrates hash table with double hashing\n",
      "from random import randrange\t#for random numbers\n",
      "\n",
      "class DataItem:\t#(could have more items)\n",
      "\tdef __init__(self, ii):\t#special method to create objects\n",
      "\t#with instances customized to a specific initial state\n",
      "\t\tself.iData = ii#data item (key)\n",
      "#end class DataItem\n",
      "\n",
      "class HashTable:\n",
      "\t#as private instance variables don't exist in Python,\n",
      "\t#hence using a convention: name prefixed with an underscore, to treat them as non-public part\n",
      "\t_pNonItem = DataItem(-1)\t#for deleted items\n",
      "\n",
      "\tdef __init__(self, size):\t#special method to create objects\n",
      "\t#with instances customized to a specific initial state\n",
      "\t\tself._arraySize = size\n",
      "\t\tself._hashArray = [None] * size#list holds hash table#initialize elements\n",
      "\n",
      "\tdef displayTable(self):\n",
      "\t\tprint 'Table:',\n",
      "\t\tfor j in xrange(self._arraySize):\n",
      "\t\t\tif self._hashArray[j]:\n",
      "\t\t\t\tprint self._hashArray[j].iData,\n",
      "\t\t\telse:\n",
      "\t\t\t\tprint '**',\n",
      "\t\tprint\n",
      "\n",
      "\tdef hashFunc1(self, key):\n",
      "\t\treturn key % self._arraySize\n",
      "\n",
      "\tdef hashFunc2(self, key):\n",
      "\t\t#non-zero, less than array size, different from hF1\n",
      "\t\t#array size must be relatively prime to 5, 4, 3, and 2\n",
      "\t\treturn 5 - key % 5\n",
      "\n",
      "\tdef insert(self, key, pItem):\t#insert a DataItem\n",
      "\t\t#assumes table not full\n",
      "\t\thashVal = self.hashFunc1(key)\t#hash the key\n",
      "\t\tstepSize = self.hashFunc2(key)\t#get step size\n",
      "\t\t#until empty cell or -1\n",
      "\t\twhile self._hashArray[hashVal] and self._hashArray[hashVal].iData != -1:\n",
      "\t\t\thashVal += stepSize#add the step\n",
      "\t\t\thashVal %= self._arraySize\t#for wraparound\n",
      "\t\tself._hashArray[hashVal] = pItem#insert item\n",
      "\t#end insert()\n",
      "\n",
      "\tdef remove(self, key):\t#delete a DataItem\n",
      "\t\thashVal = self.hashFunc1(key)\t#hash the key\n",
      "\t\tstepSize = self.hashFunc2(key)\t#get step size\n",
      "\t\t\n",
      "\t\twhile self._hashArray[hashVal]:\t#until empty cell,\n",
      "\t\t\tif self._hashArray[hashVal].iData == key:\t#is correct hashVal?\n",
      "\t\t\t\tpTemp = self._hashArray[hashVal]\t#save item\n",
      "\t\t\t\tself._hashArray[hashVal] = self._pNonItem\t#delete item\n",
      "\t\t\t\treturn pTemp\t#return item\n",
      "\t\t\thashVal += stepSize#add the step\n",
      "\t\t\thashVal %= self._arraySize\t#for wraparound\n",
      "\t\treturn None#can't find item\n",
      "\t#end remove()\n",
      "\n",
      "\tdef find(self, key):\t#find item with key\n",
      "\t\thashVal = self.hashFunc1(key)\t#hash the key\n",
      "\t\tstepSize = self.hashFunc2(key)\t#get step size\n",
      "\n",
      "\t\twhile self._hashArray[hashVal]:\t#until empty cell,\n",
      "\t\t\tif self._hashArray[hashVal].iData == key:\t#is correct hashVal?\n",
      "\t\t\t\treturn self._hashArray[hashVal]\t#yes, return item\n",
      "\t\t\thashVal += stepSize#add the step\n",
      "\t\t\thashVal %= self._arraySize\t#for wraparound\n",
      "\t\treturn None#can't find item\n",
      "\n",
      "#end class HashTable\n",
      "\n",
      "\t#get sizes\n",
      "size = int(raw_input('Enter size of hash table (use prime number): '))\n",
      "n = int(raw_input('Enter initial number of items: '))\n",
      "\t#make table\n",
      "theHashTable = HashTable(size)\n",
      "for j in xrange(n):\t#insert data\n",
      "\taKey = randrange(0, 2*size)\n",
      "\tpDataItem = DataItem(aKey)\n",
      "\ttheHashTable.insert(aKey, pDataItem)\n",
      "\n",
      "#as switch is not available in Python, hence using dictionaries and functions instead\n",
      "def show():\n",
      "\ttheHashTable.displayTable()\n",
      "\n",
      "def insert():\n",
      "\taKey = int(raw_input('Enter key value to insert: '))\n",
      "\tpDataItem = DataItem(aKey)\n",
      "\ttheHashTable.insert(aKey, pDataItem)\n",
      "\n",
      "def delete():\n",
      "\taKey = int(raw_input('Enter key value to delete: '))\n",
      "\ttheHashTable.remove(aKey)\n",
      "\n",
      "def find():\n",
      "\taKey = int(raw_input('Enter key value to find: '))\n",
      "\tpDataItem = theHashTable.find(aKey)\n",
      "\tif pDataItem:\n",
      "\t\tprint 'Found', aKey\n",
      "\telse:\n",
      "\t\tprint 'Coud not find', aKey\n",
      "\n",
      "case = {'s' : show,\n",
      "\t'i' : insert,\n",
      "\t'd' : delete,\n",
      "\t'f' : find}\n",
      "#dictionaries and functions set for using\n",
      "\n",
      "while True:\t#interact with user\n",
      "\tprint\n",
      "\tchoice = raw_input('Enter first letter of show, insert, delete, or find: ')\n",
      "\tif case.get(choice, None):\n",
      "\t\tcase[choice]()\n",
      "\telse:\n",
      "\t\tprint 'Invalid Entry'\n",
      "#end while\n",
      "#end"
     ],
     "language": "python",
     "metadata": {},
     "outputs": [
      {
       "name": "stdout",
       "output_type": "stream",
       "stream": "stdout",
       "text": [
        "Enter size of hash table (use prime number): 23\n"
       ]
      },
      {
       "name": "stdout",
       "output_type": "stream",
       "stream": "stdout",
       "text": [
        "Enter initial number of items: 0\n"
       ]
      },
      {
       "output_type": "stream",
       "stream": "stdout",
       "text": [
        "\n"
       ]
      },
      {
       "name": "stdout",
       "output_type": "stream",
       "stream": "stdout",
       "text": [
        "Enter first letter of show, insert, delete, or find: i\n"
       ]
      },
      {
       "name": "stdout",
       "output_type": "stream",
       "stream": "stdout",
       "text": [
        "Enter key value to insert: 1\n"
       ]
      },
      {
       "output_type": "stream",
       "stream": "stdout",
       "text": [
        "\n"
       ]
      },
      {
       "name": "stdout",
       "output_type": "stream",
       "stream": "stdout",
       "text": [
        "Enter first letter of show, insert, delete, or find: i\n"
       ]
      },
      {
       "name": "stdout",
       "output_type": "stream",
       "stream": "stdout",
       "text": [
        "Enter key value to insert: 38\n"
       ]
      },
      {
       "output_type": "stream",
       "stream": "stdout",
       "text": [
        "\n"
       ]
      },
      {
       "name": "stdout",
       "output_type": "stream",
       "stream": "stdout",
       "text": [
        "Enter first letter of show, insert, delete, or find: i\n"
       ]
      },
      {
       "name": "stdout",
       "output_type": "stream",
       "stream": "stdout",
       "text": [
        "Enter key value to insert: 37\n"
       ]
      },
      {
       "output_type": "stream",
       "stream": "stdout",
       "text": [
        "\n"
       ]
      },
      {
       "name": "stdout",
       "output_type": "stream",
       "stream": "stdout",
       "text": [
        "Enter first letter of show, insert, delete, or find: i\n"
       ]
      },
      {
       "name": "stdout",
       "output_type": "stream",
       "stream": "stdout",
       "text": [
        "Enter key value to insert: 16\n"
       ]
      },
      {
       "output_type": "stream",
       "stream": "stdout",
       "text": [
        "\n"
       ]
      },
      {
       "name": "stdout",
       "output_type": "stream",
       "stream": "stdout",
       "text": [
        "Enter first letter of show, insert, delete, or find: i\n"
       ]
      },
      {
       "name": "stdout",
       "output_type": "stream",
       "stream": "stdout",
       "text": [
        "Enter key value to insert: 20\n"
       ]
      },
      {
       "output_type": "stream",
       "stream": "stdout",
       "text": [
        "\n"
       ]
      },
      {
       "name": "stdout",
       "output_type": "stream",
       "stream": "stdout",
       "text": [
        "Enter first letter of show, insert, delete, or find: i\n"
       ]
      },
      {
       "name": "stdout",
       "output_type": "stream",
       "stream": "stdout",
       "text": [
        "Enter key value to insert: 3\n"
       ]
      },
      {
       "output_type": "stream",
       "stream": "stdout",
       "text": [
        "\n"
       ]
      },
      {
       "name": "stdout",
       "output_type": "stream",
       "stream": "stdout",
       "text": [
        "Enter first letter of show, insert, delete, or find: i\n"
       ]
      },
      {
       "name": "stdout",
       "output_type": "stream",
       "stream": "stdout",
       "text": [
        "Enter key value to insert: 11\n"
       ]
      },
      {
       "output_type": "stream",
       "stream": "stdout",
       "text": [
        "\n"
       ]
      },
      {
       "name": "stdout",
       "output_type": "stream",
       "stream": "stdout",
       "text": [
        "Enter first letter of show, insert, delete, or find: i\n"
       ]
      },
      {
       "name": "stdout",
       "output_type": "stream",
       "stream": "stdout",
       "text": [
        "Enter key value to insert: 24\n"
       ]
      },
      {
       "output_type": "stream",
       "stream": "stdout",
       "text": [
        "\n"
       ]
      },
      {
       "name": "stdout",
       "output_type": "stream",
       "stream": "stdout",
       "text": [
        "Enter first letter of show, insert, delete, or find: i\n"
       ]
      },
      {
       "name": "stdout",
       "output_type": "stream",
       "stream": "stdout",
       "text": [
        "Enter key value to insert: 5\n"
       ]
      },
      {
       "output_type": "stream",
       "stream": "stdout",
       "text": [
        "\n"
       ]
      },
      {
       "name": "stdout",
       "output_type": "stream",
       "stream": "stdout",
       "text": [
        "Enter first letter of show, insert, delete, or find: i\n"
       ]
      },
      {
       "name": "stdout",
       "output_type": "stream",
       "stream": "stdout",
       "text": [
        "Enter key value to insert: 16\n"
       ]
      },
      {
       "output_type": "stream",
       "stream": "stdout",
       "text": [
        "\n"
       ]
      },
      {
       "name": "stdout",
       "output_type": "stream",
       "stream": "stdout",
       "text": [
        "Enter first letter of show, insert, delete, or find: i\n"
       ]
      },
      {
       "name": "stdout",
       "output_type": "stream",
       "stream": "stdout",
       "text": [
        "Enter key value to insert: 10\n"
       ]
      },
      {
       "output_type": "stream",
       "stream": "stdout",
       "text": [
        "\n"
       ]
      },
      {
       "name": "stdout",
       "output_type": "stream",
       "stream": "stdout",
       "text": [
        "Enter first letter of show, insert, delete, or find: i\n"
       ]
      },
      {
       "name": "stdout",
       "output_type": "stream",
       "stream": "stdout",
       "text": [
        "Enter key value to insert: 31\n"
       ]
      },
      {
       "output_type": "stream",
       "stream": "stdout",
       "text": [
        "\n"
       ]
      },
      {
       "name": "stdout",
       "output_type": "stream",
       "stream": "stdout",
       "text": [
        "Enter first letter of show, insert, delete, or find: i\n"
       ]
      },
      {
       "name": "stdout",
       "output_type": "stream",
       "stream": "stdout",
       "text": [
        "Enter key value to insert: 18\n"
       ]
      },
      {
       "output_type": "stream",
       "stream": "stdout",
       "text": [
        "\n"
       ]
      },
      {
       "name": "stdout",
       "output_type": "stream",
       "stream": "stdout",
       "text": [
        "Enter first letter of show, insert, delete, or find: i\n"
       ]
      },
      {
       "name": "stdout",
       "output_type": "stream",
       "stream": "stdout",
       "text": [
        "Enter key value to insert: 12\n"
       ]
      },
      {
       "output_type": "stream",
       "stream": "stdout",
       "text": [
        "\n"
       ]
      },
      {
       "name": "stdout",
       "output_type": "stream",
       "stream": "stdout",
       "text": [
        "Enter first letter of show, insert, delete, or find: i\n"
       ]
      },
      {
       "name": "stdout",
       "output_type": "stream",
       "stream": "stdout",
       "text": [
        "Enter key value to insert: 30\n"
       ]
      },
      {
       "output_type": "stream",
       "stream": "stdout",
       "text": [
        "\n"
       ]
      },
      {
       "name": "stdout",
       "output_type": "stream",
       "stream": "stdout",
       "text": [
        "Enter first letter of show, insert, delete, or find: i\n"
       ]
      },
      {
       "name": "stdout",
       "output_type": "stream",
       "stream": "stdout",
       "text": [
        "Enter key value to insert: 1\n"
       ]
      },
      {
       "output_type": "stream",
       "stream": "stdout",
       "text": [
        "\n"
       ]
      },
      {
       "name": "stdout",
       "output_type": "stream",
       "stream": "stdout",
       "text": [
        "Enter first letter of show, insert, delete, or find: i\n"
       ]
      },
      {
       "name": "stdout",
       "output_type": "stream",
       "stream": "stdout",
       "text": [
        "Enter key value to insert: 19\n"
       ]
      },
      {
       "output_type": "stream",
       "stream": "stdout",
       "text": [
        "\n"
       ]
      },
      {
       "name": "stdout",
       "output_type": "stream",
       "stream": "stdout",
       "text": [
        "Enter first letter of show, insert, delete, or find: i\n"
       ]
      },
      {
       "name": "stdout",
       "output_type": "stream",
       "stream": "stdout",
       "text": [
        "Enter key value to insert: 36\n"
       ]
      },
      {
       "output_type": "stream",
       "stream": "stdout",
       "text": [
        "\n"
       ]
      },
      {
       "name": "stdout",
       "output_type": "stream",
       "stream": "stdout",
       "text": [
        "Enter first letter of show, insert, delete, or find: i\n"
       ]
      },
      {
       "name": "stdout",
       "output_type": "stream",
       "stream": "stdout",
       "text": [
        "Enter key value to insert: 41\n"
       ]
      },
      {
       "output_type": "stream",
       "stream": "stdout",
       "text": [
        "\n"
       ]
      },
      {
       "name": "stdout",
       "output_type": "stream",
       "stream": "stdout",
       "text": [
        "Enter first letter of show, insert, delete, or find: i\n"
       ]
      },
      {
       "name": "stdout",
       "output_type": "stream",
       "stream": "stdout",
       "text": [
        "Enter key value to insert: 15\n"
       ]
      },
      {
       "output_type": "stream",
       "stream": "stdout",
       "text": [
        "\n"
       ]
      },
      {
       "name": "stdout",
       "output_type": "stream",
       "stream": "stdout",
       "text": [
        "Enter first letter of show, insert, delete, or find: i\n"
       ]
      },
      {
       "name": "stdout",
       "output_type": "stream",
       "stream": "stdout",
       "text": [
        "Enter key value to insert: 25\n"
       ]
      },
      {
       "output_type": "stream",
       "stream": "stdout",
       "text": [
        "\n"
       ]
      },
      {
       "name": "stdout",
       "output_type": "stream",
       "stream": "stdout",
       "text": [
        "Enter first letter of show, insert, delete, or find: s\n"
       ]
      },
      {
       "output_type": "stream",
       "stream": "stdout",
       "text": [
        "Table: ** 1 24 3 15 5 25 30 31 16 10 11 12 1 37 38 16 36 18 19 20 ** 41\n",
        "\n"
       ]
      }
     ],
     "prompt_number": "*"
    },
    {
     "cell_type": "code",
     "collapsed": false,
     "input": [],
     "language": "python",
     "metadata": {},
     "outputs": []
    }
   ],
   "metadata": {}
  }
 ]
}