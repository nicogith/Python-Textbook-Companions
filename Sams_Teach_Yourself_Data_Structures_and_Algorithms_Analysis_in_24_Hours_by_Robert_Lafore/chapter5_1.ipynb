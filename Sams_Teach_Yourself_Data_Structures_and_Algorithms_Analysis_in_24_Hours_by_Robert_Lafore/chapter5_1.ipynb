{
 "metadata": {
  "name": ""
 },
 "nbformat": 3,
 "nbformat_minor": 0,
 "worksheets": [
  {
   "cells": [
    {
     "cell_type": "heading",
     "level": 1,
     "metadata": {},
     "source": [
      "5: The Insertion Sort"
     ]
    },
    {
     "cell_type": "heading",
     "level": 2,
     "metadata": {},
     "source": [
      "Example 1: Page 94"
     ]
    },
    {
     "cell_type": "code",
     "collapsed": false,
     "input": [
      "def insertionSort():\n",
      "\tfor out in range(1, nElems):\t#out is dividing line\n",
      "\t\ttemp = v[out]\t#remove marked item\n",
      "\t\t#using In as in is reserved in Python\n",
      "\t\tIn = out\t#start shifts at out\n",
      "\t\twhile (In > 0) and (v[In-1] > temp):\t#until one is smaller\n",
      "\t\t\tv[In] = v[In -1]\t#shift item to right\n",
      "\t\t\tIn -= In-1#go left one position\n",
      "\t\tv[In] = temp\t#insert marked item\n",
      "\t#end for\n",
      "#end insertionSort()"
     ],
     "language": "python",
     "metadata": {},
     "outputs": [],
     "prompt_number": 1
    },
    {
     "cell_type": "heading",
     "level": 2,
     "metadata": {},
     "source": [
      "Example 2: Page 96"
     ]
    },
    {
     "cell_type": "code",
     "collapsed": false,
     "input": [
      "#demonstrates insertion sort\n",
      "class ArrayIns:\n",
      "\tdef __init__(self):\t#special method to create objects\n",
      "\t#with instances customized to a specific initial state\n",
      "\n",
      "\t\t#since private instance variables don't exist in Python,\n",
      "\t\t#hence using a convention: name prefixed with an underscore, to treat them as non-public part\n",
      "\t\tself._v = []\t#list _v\n",
      "\n",
      "\tdef insert(self, value):\t#put element into array\n",
      "\t\tself._v.append(value)\t#insert it\n",
      "\n",
      "\tdef display(self):\t#displays array contents\n",
      "\t\tprint self._v\t#display it\n",
      "\n",
      "\tdef insertionSort(self):\n",
      "\t\tfor out in range(1, len(self._v)):\t#out is dividing line\n",
      "\t\t\ttemp = self._v[out]\t#remove marked item\n",
      "\t\t\t#using In as in is reserved in Python\n",
      "\t\t\tIn = out\t#start shifts at out\n",
      "\t\t\twhile (In > 0) and (self._v[In-1] > temp):\t#until one is smaller\n",
      "\t\t\t\tself._v[In] = self._v[In -1]\t#shift item to right\n",
      "\t\t\t\tIn -= 1#go left one position\n",
      "\t\t\tself._v[In] = temp\t#insert marked item\n",
      "\t\t#end for\n",
      "\t#end insertionSort()\n",
      "#end class ArrayIns\n",
      "\n",
      "arr = ArrayIns()\t#create array\n",
      "\n",
      "arr.insert(77)\t#insert 10 items\n",
      "arr.insert(99)\n",
      "arr.insert(44)\n",
      "arr.insert(55)\n",
      "arr.insert(22)\n",
      "arr.insert(88)\n",
      "arr.insert(11)\n",
      "arr.insert(00)\n",
      "arr.insert(66)\n",
      "arr.insert(33)\n",
      "\n",
      "arr.display()\t#display items\n",
      "arr.insertionSort()\t#insertion-sort them\n",
      "arr.display()\t#display them again\n",
      "#end"
     ],
     "language": "python",
     "metadata": {},
     "outputs": [
      {
       "output_type": "stream",
       "stream": "stdout",
       "text": [
        "[77, 99, 44, 55, 22, 88, 11, 0, 66, 33]\n",
        "[0, 11, 22, 33, 44, 55, 66, 77, 88, 99]\n"
       ]
      }
     ],
     "prompt_number": 2
    },
    {
     "cell_type": "heading",
     "level": 2,
     "metadata": {},
     "source": [
      "Example 3: Page 98"
     ]
    },
    {
     "cell_type": "code",
     "collapsed": false,
     "input": [
      "#demonstrates sorting objects (uses insertion sort)\n",
      "class Person:\n",
      "\t\"\"\"A simple person class\"\"\"\n",
      "\tdef __init__(self, last, first, a):\t#special method to create objects\n",
      "\t#with instances customized to a specific initial state\n",
      "\t\t\n",
      "\t\t#since private instance variables don't exist in Python,\n",
      "\t\t#hence using a convention: name prefixed with an underscore, to treat them as non-public part\n",
      "\t\tself._lastName = last\n",
      "\t\tself._firstName = first\n",
      "\t\tself._age = a\n",
      "\n",
      "\tdef displayPerson(self):\n",
      "\t\tprint '\tLast name:', self._lastName, ', First name:', self._firstName, ', Age:', self._age\n",
      "\n",
      "\tdef getLast(self):\t#get last name\n",
      "\t\treturn self._lastName\t#get last name\n",
      "#end class Person\n",
      "\n",
      "class ArrayInOb:\n",
      "\t#since private instance variables don't exist in Python,\n",
      "\t#hence using a convention: name prefixed with an underscore, to treat them as non-public part\n",
      "\tdef __init__(self):\n",
      "\t\tself._v = []\t#list to store Person type items\n",
      "\n",
      "\tdef insert(self, last, first, age):\t#put person into array\n",
      "\t\tself._v.append(Person(last, first, age))\n",
      "\n",
      "\tdef display(self):\t#displays array contents\n",
      "\t\tfor j in self._v:\t#for each element,\n",
      "\t\t\tj.displayPerson()\t#display it\n",
      "\n",
      "\tdef insertionSort(self):\n",
      "\t\tfor out in range(1, len(self._v)):\t\n",
      "\t\t\ttemp = self._v[out]\t#out is dividing line\n",
      "\t\t\t#using In as in is reserved in Python\n",
      "\t\t\tIn = out\t#start shifting at out\n",
      "\t\t\twhile (In > 0) and (self._v[In-1].getLast() > temp.getLast()):\t#until smaller one found,\n",
      "\t\t\t\tself._v[In] = self._v[In -1]\t#shift item to the right\n",
      "\t\t\t\tIn -= 1#go left one position\n",
      "\t\t\tself._v[In] = temp\t#insert marked item\n",
      "\t\t#end for\n",
      "\t#end insertionSort()\n",
      "#end class ArrayInOb\n",
      "\n",
      "arr = ArrayInOb()\t#create array\n",
      "\n",
      "arr.insert('Evans', 'Patty', 24)\n",
      "arr.insert('Smith', 'Doc', 59)\n",
      "arr.insert('Smith', 'Lorraine', 37)\n",
      "arr.insert('Smith', 'Paul', 37)\n",
      "arr.insert('Yee', 'Tom', 43)\n",
      "arr.insert('Hashimoto', 'Sato', 21)\n",
      "arr.insert('Stimson', 'Henry', 29)\n",
      "arr.insert('Velasquez', 'Jose', 72)\n",
      "arr.insert('Vang', 'Minh', 22)\n",
      "arr.insert('Creswell', 'Lucinda', 18)\n",
      "\n",
      "print 'Before sorting:'\n",
      "arr.display()\t#display items\n",
      "\n",
      "arr.insertionSort()\t#insertion-sort them\n",
      "\n",
      "print 'After sorting:'\n",
      "arr.display()\t#display them again\n",
      "#end"
     ],
     "language": "python",
     "metadata": {},
     "outputs": [
      {
       "output_type": "stream",
       "stream": "stdout",
       "text": [
        "Before sorting:\n",
        "\tLast name: Evans , First name: Patty , Age: 24\n",
        "\tLast name: Smith , First name: Doc , Age: 59\n",
        "\tLast name: Smith , First name: Lorraine , Age: 37\n",
        "\tLast name: Smith , First name: Paul , Age: 37\n",
        "\tLast name: Yee , First name: Tom , Age: 43\n",
        "\tLast name: Hashimoto , First name: Sato , Age: 21\n",
        "\tLast name: Stimson , First name: Henry , Age: 29\n",
        "\tLast name: Velasquez , First name: Jose , Age: 72\n",
        "\tLast name: Vang , First name: Minh , Age: 22\n",
        "\tLast name: Creswell , First name: Lucinda , Age: 18\n",
        "After sorting:\n",
        "\tLast name: Creswell , First name: Lucinda , Age: 18\n",
        "\tLast name: Evans , First name: Patty , Age: 24\n",
        "\tLast name: Hashimoto , First name: Sato , Age: 21\n",
        "\tLast name: Smith , First name: Doc , Age: 59\n",
        "\tLast name: Smith , First name: Lorraine , Age: 37\n",
        "\tLast name: Smith , First name: Paul , Age: 37\n",
        "\tLast name: Stimson , First name: Henry , Age: 29\n",
        "\tLast name: Vang , First name: Minh , Age: 22\n",
        "\tLast name: Velasquez , First name: Jose , Age: 72\n",
        "\tLast name: Yee , First name: Tom , Age: 43\n"
       ]
      }
     ],
     "prompt_number": 1
    }
   ],
   "metadata": {}
  }
 ]
}