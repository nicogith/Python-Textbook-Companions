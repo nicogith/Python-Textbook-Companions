{
 "metadata": {
  "name": ""
 },
 "nbformat": 3,
 "nbformat_minor": 0,
 "worksheets": [
  {
   "cells": [
    {
     "cell_type": "heading",
     "level": 1,
     "metadata": {},
     "source": [
      "16: Traversing Binary Trees"
     ]
    },
    {
     "cell_type": "heading",
     "level": 2,
     "metadata": {},
     "source": [
      "Example 1: Page 318"
     ]
    },
    {
     "cell_type": "code",
     "collapsed": false,
     "input": [
      "def inOrder(pLocalRoot):\n",
      "\tif pLocalRoot:\n",
      "\t\tinOrder(pLocalRoot.pLeftChild)\t#left child\n",
      "\t\tprint pLocalRoot.iData,\t#display node\n",
      "\t\tinOrder(pLocalRoot.pRightChild)\t#right child"
     ],
     "language": "python",
     "metadata": {},
     "outputs": [],
     "prompt_number": 1
    },
    {
     "cell_type": "heading",
     "level": 2,
     "metadata": {},
     "source": [
      "Example 2: Page 325"
     ]
    },
    {
     "cell_type": "code",
     "collapsed": false,
     "input": [
      "def minimum():\t#returns node with minimum key value\n",
      "\tpCurrent = pRoot\t#start at root\n",
      "\twhile pCurrent:\t#until the bottom,\n",
      "\t\tpLast = pCurrent\t#remember node\n",
      "\t\tpCurrent = pCurrent.pLeftChild\t#go to left child\n",
      "\treturn pLast"
     ],
     "language": "python",
     "metadata": {},
     "outputs": [],
     "prompt_number": 2
    },
    {
     "cell_type": "heading",
     "level": 2,
     "metadata": {},
     "source": [
      "Example 3: Page 329"
     ]
    },
    {
     "cell_type": "code",
     "collapsed": false,
     "input": [
      "#demonstrates binary tree\n",
      "\n",
      "class Node:\n",
      "\tdef __init__(self):\t#special method to create objects\n",
      "\t#with instances customized to a specific initial state\n",
      "\t\tself.iData = 0\t#data item (key)\n",
      "\t\tself.dData = 0.0\t#data item\n",
      "\t\tself.pLeftChild = None\t#this node's left child\n",
      "\t\tself.pRightChild = None\t#this node's right child\n",
      "\n",
      "\tdef __del__(self):\t#destructor\n",
      "\t\tprint 'X-', self.iData,\n",
      "\n",
      "\tdef displayNode(self):\t#display ourself\n",
      "\t\tprint '{', self.iData, ',', self.dData, '}'\n",
      "#end class Node\n",
      "\n",
      "class Tree:\n",
      "\t#as private instance variables don't exist in Python,\n",
      "\t#hence using a convention: name prefixed with an underscore, to treat them as non-public part\n",
      "\tdef __init__(self):\n",
      "\t\tself._pRoot  = None\t#first node of tree\n",
      "\n",
      "\tdef find(self, key):\t#find node with given key\n",
      "\t\t#(assumes non-empty tree)\n",
      "\t\tpCurrent = self._pRoot\t#start at root\n",
      "\t\twhile pCurrent.iData != key:\t#while no match,\n",
      "\t\t\tif key < pCurrent.iData:\t#go left?\n",
      "\t\t\t\tpCurrent = pCurrent.pLeftChild\n",
      "\t\t\telse:\t#or go right?\n",
      "\t\t\t\tpCurrent = pCurrent.pRightChild\n",
      "\t\t\tif not pCurrent:\t#if no child,\n",
      "\t\t\t\treturn None#didn't find it\n",
      "\t\treturn pCurrent\t#found it\n",
      "\t#end find()\n",
      "\n",
      "\tdef insert(self, Id, dd):\t#insert new node\n",
      "\t\tpNewNode = Node()\t#make new node\n",
      "\t\tpNewNode.iData = Id#insert data\n",
      "\t\tpNewNode.dData = dd\n",
      "\t\tif not self._pRoot:\t#no node in root\n",
      "\t\t\tself._pRoot = pNewNode\n",
      "\t\telse:\t#root occupied\n",
      "\t\t\tpCurrent = self._pRoot\t#start at root\n",
      "\t\t\twhile True:\t#(exits internally)\n",
      "\t\t\t\tpParent = pCurrent\n",
      "\t\t\t\tif Id < pCurrent.iData:\t#go left?\n",
      "\t\t\t\t\tpCurrent = pCurrent.pLeftChild\n",
      "\t\t\t\t\tif not pCurrent:\t#if end of the line,\n",
      "\t\t\t\t\t\tpParent.pLeftChild = pNewNode\t#insert on left\n",
      "\t\t\t\t\t\treturn\n",
      "\t\t\t\t#end if go left\n",
      "\t\t\t\telse:\t#or go right?\n",
      "\t\t\t\t\tpCurrent = pCurrent.pRightChild\n",
      "\t\t\t\t\tif not pCurrent:\t#if end of the line\n",
      "\t\t\t\t\t\tpParent.pRightChild = pNewNode\t#insert on right\n",
      "\t\t\t\t\t\treturn\n",
      "\t\t\t\t#end else go right\n",
      "\t\t\t#end while\n",
      "\t\t#end else not root\n",
      "\t#end insert()\n",
      "\n",
      "\tdef traverse(self, traverseType):\n",
      "\t\t#as Python does not support switch, hence using dictionaries and functions instead\n",
      "\t\tcase = {1 : self.preOrder,\n",
      "\t\t2 : self.inOrder,\n",
      "\t\t3 : self.postOrder\n",
      "\t\t}\n",
      "\t\tcase[traverseType](self._pRoot)\t#performing respective operation using dictionary lookup\n",
      "\n",
      "\tdef preOrder(self, pLocalRoot):\n",
      "\t\tif pLocalRoot:\n",
      "\t\t\tprint pLocalRoot.iData,\t#display node\n",
      "\t\t\tself.preOrder(pLocalRoot.pLeftChild)\t#left child\n",
      "\t\t\tself.preOrder(pLocalRoot.pRightChild)\t#right child\n",
      "\n",
      "\tdef inOrder(self, pLocalRoot):\n",
      "\t\tif pLocalRoot:\n",
      "\t\t\tself.inOrder(pLocalRoot.pLeftChild)\t#left child\n",
      "\t\t\tprint pLocalRoot.iData,\t#display node\n",
      "\t\t\tself.inOrder(pLocalRoot.pRightChild)\t#right child\n",
      "\n",
      "\tdef postOrder(self, pLocalRoot):\n",
      "\t\tif pLocalRoot:\n",
      "\t\t\tself.postOrder(pLocalRoot.pLeftChild)\t#left child\n",
      "\t\t\tself.postOrder(pLocalRoot.pRightChild)\t#right child\n",
      "\t\t\tprint pLocalRoot.iData,\t#display node\n",
      "\n",
      "\tdef displayTree(self):\n",
      "\t\tglobalStack = []\n",
      "\t\tglobalStack.append(self._pRoot)\n",
      "\t\tnBlanks = 32\n",
      "\t\tisRowEmpty = False\n",
      "\n",
      "\t\tprint '......................................................'\n",
      "\t\twhile not isRowEmpty:\n",
      "\t\t\tlocalStack = []\n",
      "\t\t\tisRowEmpty = True\n",
      "\n",
      "\t\t\tfor j in xrange(nBlanks - 1):\n",
      "\t\t\t\tprint '',\n",
      "\n",
      "\t\t\twhile globalStack:\n",
      "\t\t\t\ttemp = globalStack.pop()\n",
      "\t\t\t\tif temp:\n",
      "\t\t\t\t\tprint temp.iData,\n",
      "\t\t\t\t\tlocalStack.append(temp.pLeftChild)\n",
      "\t\t\t\t\tlocalStack.append(temp.pRightChild)\n",
      "\n",
      "\t\t\t\t\tif temp.pLeftChild or temp.pRightChild:\n",
      "\t\t\t\t\t\tisRowEmpty = False\n",
      "\t\t\t\telse:\n",
      "\t\t\t\t\tprint '--',\n",
      "\t\t\t\t\tlocalStack.append(None)\n",
      "\t\t\t\t\tlocalStack.append(None)\n",
      "\t\t\t\tfor j in xrange(nBlanks*2-3):\n",
      "\t\t\t\t\tprint '',\n",
      "\t\t\t#end while globalStack not empty\n",
      "\t\t\tprint\n",
      "\t\t\tprint\n",
      "\t\t\tnBlanks /= 2\n",
      "\t\t\twhile localStack:\n",
      "\t\t\t\tglobalStack.append(localStack.pop())\n",
      "\t\t#end while isRowEmpty is False\n",
      "\t\tprint '......................................................'\n",
      "\t#end displayTree()\n",
      "\n",
      "\tdef destroy(self):\t#deletes tree\n",
      "\t\tdel self._pRoot\n",
      "#end class Tree\n",
      "\n",
      "choice = None\n",
      "theTree = Tree()\t#create tree\n",
      "\n",
      "theTree.insert(50, 5.0)\t#insert nodes\n",
      "theTree.insert(25, 2.5)\n",
      "theTree.insert(75, 7.5)\n",
      "theTree.insert(12, 1.2)\n",
      "theTree.insert(37, 3.7)\n",
      "theTree.insert(43, 4.3)\n",
      "theTree.insert(30, 3.0)\n",
      "theTree.insert(33, 3.3)\n",
      "theTree.insert(87, 8.7)\n",
      "theTree.insert(93, 9.3)\n",
      "theTree.insert(97, 9.7)\n",
      "\n",
      "#as Python does not support switch, hence using functions and dictionaries instead\n",
      "def show():\t#show the tree\n",
      "\ttheTree.displayTree()\n",
      "\n",
      "def insert():\t#insert a node\n",
      "\tvalue = int(raw_input('Enter value to insert: '))\n",
      "\ttheTree.insert(value, value + 0.9)\n",
      "\n",
      "def find():\t#find a node\n",
      "\tvalue = int(raw_input('Enter value to find: '))\n",
      "\tfound = theTree.find(value)\n",
      "\tif found:\n",
      "\t\tprint 'Found:',\n",
      "\t\tfound.displayNode()\n",
      "\telse:\n",
      "\t\tprint 'Could not find', value\n",
      "\n",
      "def traverse():\t#traverse the tree\n",
      "\tvalue = int(raw_input('Enter traverse type (1=preorder, 2=inorder, 3=postorder): '))\n",
      "\ttheTree.traverse(value)\n",
      "\n",
      "def quit():\t#quit the program\n",
      "\ttheTree.destroy()\n",
      "\n",
      "case = {'s' : show,\n",
      "\t'i': insert,\n",
      "\t'f' : find,\n",
      "\t't' : traverse,\n",
      "\t'q' : quit}\n",
      "#functions and dictionaries ready\n",
      "\n",
      "while choice != 'q':\t#interact with user until user types 'q'\n",
      "\tchoice = raw_input('\\nEnter first letter of show, insert, find, traverse or quit: ')\n",
      "\tif case.get(choice, None):\n",
      "\t\tcase[choice]()\t#performing user's choice by dictionary lookup\n",
      "\telse:\n",
      "\t\tprint 'Invalid entry'\n",
      "#end while\n",
      "#end"
     ],
     "language": "python",
     "metadata": {},
     "outputs": [
      {
       "name": "stdout",
       "output_type": "stream",
       "stream": "stdout",
       "text": [
        "\n",
        "Enter first letter of show, insert, find, traverse or quit: s\n"
       ]
      },
      {
       "output_type": "stream",
       "stream": "stdout",
       "text": [
        "......................................................\n",
        "                               50                                                             \n",
        "\n",
        "               25                              75                             \n",
        "\n",
        "       12              37              --              87             \n",
        "\n",
        "   --      --      30      43      --      --      --      93     \n",
        "\n",
        " --  --  --  --  --  33  --  --  --  --  --  --  --  --  --  97 \n",
        "\n",
        "......................................................\n"
       ]
      },
      {
       "name": "stdout",
       "output_type": "stream",
       "stream": "stdout",
       "text": [
        "\n",
        "Enter first letter of show, insert, find, traverse or quit: i\n"
       ]
      },
      {
       "name": "stdout",
       "output_type": "stream",
       "stream": "stdout",
       "text": [
        "Enter value to insert: 48\n"
       ]
      },
      {
       "name": "stdout",
       "output_type": "stream",
       "stream": "stdout",
       "text": [
        "\n",
        "Enter first letter of show, insert, find, traverse or quit: s\n"
       ]
      },
      {
       "output_type": "stream",
       "stream": "stdout",
       "text": [
        "......................................................\n",
        "                               50                                                             \n",
        "\n",
        "               25                              75                             \n",
        "\n",
        "       12              37              --              87             \n",
        "\n",
        "   --      --      30      43      --      --      --      93     \n",
        "\n",
        " --  --  --  --  --  33  --  48  --  --  --  --  --  --  --  97 \n",
        "\n",
        "......................................................\n"
       ]
      },
      {
       "name": "stdout",
       "output_type": "stream",
       "stream": "stdout",
       "text": [
        "\n",
        "Enter first letter of show, insert, find, traverse or quit: f\n"
       ]
      },
      {
       "name": "stdout",
       "output_type": "stream",
       "stream": "stdout",
       "text": [
        "Enter value to find: 43\n"
       ]
      },
      {
       "output_type": "stream",
       "stream": "stdout",
       "text": [
        "Found: { 43 , 4.3 }\n"
       ]
      },
      {
       "name": "stdout",
       "output_type": "stream",
       "stream": "stdout",
       "text": [
        "\n",
        "Enter first letter of show, insert, find, traverse or quit: t\n"
       ]
      },
      {
       "name": "stdout",
       "output_type": "stream",
       "stream": "stdout",
       "text": [
        "Enter traverse type (1=preorder, 2=inorder, 3=postorder): 2\n"
       ]
      },
      {
       "output_type": "stream",
       "stream": "stdout",
       "text": [
        "12 25 30 33 37 43 48 50 75 87 93 97"
       ]
      },
      {
       "name": "stdout",
       "output_type": "stream",
       "stream": "stdout",
       "text": [
        "\n",
        "Enter first letter of show, insert, find, traverse or quit: q\n"
       ]
      },
      {
       "output_type": "stream",
       "stream": "stdout",
       "text": [
        " X- 50 X- 75 X- 87 X- 93 X- 97 X- 25 X- 37 X- 43 X- 48 X- 30 X- 33 X- 12\n"
       ]
      }
     ],
     "prompt_number": 1
    }
   ],
   "metadata": {}
  }
 ]
}