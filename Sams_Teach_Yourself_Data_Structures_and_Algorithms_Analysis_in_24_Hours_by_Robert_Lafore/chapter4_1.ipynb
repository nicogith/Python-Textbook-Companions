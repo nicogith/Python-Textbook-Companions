{
 "metadata": {
  "name": ""
 },
 "nbformat": 3,
 "nbformat_minor": 0,
 "worksheets": [
  {
   "cells": [
    {
     "cell_type": "heading",
     "level": 1,
     "metadata": {},
     "source": [
      "4: The Bubble Sort"
     ]
    },
    {
     "cell_type": "heading",
     "level": 2,
     "metadata": {},
     "source": [
      "Example 1: Page 83"
     ]
    },
    {
     "cell_type": "code",
     "collapsed": false,
     "input": [
      "#demonstrates bubble sort\n",
      "\n",
      "class ArrayBub:\n",
      "\tdef __init__(self):\t#special method to create objects\n",
      "\t#with instances customized to a specific initial state\n",
      "\n",
      "\t\t#since private instance variables don't exist in Python,\n",
      "\t\t#hence using a convention: name prefixed with an underscore, to treat them as non-public part\n",
      "\t\tself._v = []\t#list _v\n",
      "\n",
      "\tdef _swap(self, one, two):\t#private method\n",
      "\t\tself._v[one], self._v[two] = self._v[two], self._v[one]\n",
      "\n",
      "\tdef insert(self, value):\t#put element into array\n",
      "\t\tself._v.append(value)\t#insert it\n",
      "\n",
      "\tdef display(self):\t#display array contents\n",
      "\t\tprint self._v\t#display it\n",
      "\n",
      "\tdef bubbleSort(self):\t#sorts the array\n",
      "\t\tfor out in reversed(range(2, 10)):\t#outer loop (backward)\n",
      "\t\t\tfor In in xrange(out):\t#inner loop (forward)\n",
      "\t\t\t#using In as inner loop variable as in is reserved in Python\n",
      "\t\t\t\tif self._v[In] > self._v[In + 1]:\t#out of order?\n",
      "\t\t\t\t\tself._swap(In, In + 1)\t#swap them\n",
      "\t#end bubbleSort()\n",
      "#end class ArrayBub\n",
      "\n",
      "arr = ArrayBub()\t#create the array\n",
      "\n",
      "arr.insert(77)\t#insert 10 items\n",
      "arr.insert(99)\n",
      "arr.insert(44)\n",
      "arr.insert(55)\n",
      "arr.insert(22)\n",
      "arr.insert(88)\n",
      "arr.insert(11)\n",
      "arr.insert(00)\n",
      "arr.insert(66)\n",
      "arr.insert(33)\n",
      "\n",
      "arr.display()\t#display items\n",
      "arr.bubbleSort()\t#bubble sort them\n",
      "arr.display()\t#display them again\n",
      "#end"
     ],
     "language": "python",
     "metadata": {},
     "outputs": [
      {
       "output_type": "stream",
       "stream": "stdout",
       "text": [
        "[77, 99, 44, 55, 22, 88, 11, 0, 66, 33]\n",
        "[0, 11, 22, 33, 44, 55, 66, 77, 88, 99]\n"
       ]
      }
     ],
     "prompt_number": 1
    },
    {
     "cell_type": "heading",
     "level": 2,
     "metadata": {},
     "source": [
      "Example 2: Page 85"
     ]
    },
    {
     "cell_type": "code",
     "collapsed": false,
     "input": [
      "def bubbleSort(self):\t#sorts the array\n",
      "\t\tfor out in reversed(range(2, 10)):\t#outer loop (backward)\n",
      "\t\t\tfor In in xrange(out):\t#inner loop (forward)\n",
      "\t\t\t#using In as inner loop variable as in is reserved in Python\n",
      "\t\t\t\tif self._v[In] > self._v[In + 1]:\t#out of order?\n",
      "\t\t\t\t\tself._swap(In, In + 1)\t#swap them\n",
      "#end bubbleSort()"
     ],
     "language": "python",
     "metadata": {},
     "outputs": [],
     "prompt_number": 2
    }
   ],
   "metadata": {}
  }
 ]
}