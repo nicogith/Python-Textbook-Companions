{
 "metadata": {
  "name": ""
 },
 "nbformat": 3,
 "nbformat_minor": 0,
 "worksheets": [
  {
   "cells": [
    {
     "cell_type": "heading",
     "level": 1,
     "metadata": {},
     "source": [
      "23: Separate Chaining"
     ]
    },
    {
     "cell_type": "heading",
     "level": 2,
     "metadata": {},
     "source": [
      "Example 1: Page 462"
     ]
    },
    {
     "cell_type": "code",
     "collapsed": false,
     "input": [
      "#demonstrates hash table with separate chaining\n",
      "from random import randrange\t#for random numbers\n",
      "\n",
      "class Link:\n",
      "\n",
      "\tdef __init__(self, it):\t#special method to create objects\n",
      "\t#with instances customized to a specific initial state\n",
      "\t\t#(could be other items)\n",
      "\t\tself.iData = it\t#data item\n",
      "\t\tself.pNext = None\t#next link in list\n",
      "\t\t\n",
      "\tdef displayLink(self):\t#display this link\n",
      "\t\tprint self.iData,\n",
      "#end class Link\n",
      "\n",
      "class SortedList:\n",
      "\n",
      "\tdef __init__(self):\t#special method to create objects\n",
      "\t#with instances customized to a specific initial state\n",
      "\n",
      "\t\t#as private instance variables don't exist in Python,\n",
      "\t\t#hence using a convention: name prefixed with an underscore, to treat them as non-public part\n",
      "\t\tself._pFirst = None\t#refer to first list item\n",
      "\n",
      "\tdef insert(self, pLink):\t#insert link, in order\n",
      "\t\tkey = pLink.iData\n",
      "\t\tpPrevious = None\t#start at first\n",
      "\t\tpCurrent = self._pFirst\n",
      "\t\t#until end of list,\n",
      "\t\twhile pCurrent and key > pCurrent.iData:\t#or pCurrent > key,\n",
      "\t\t\tpPrevious = pCurrent\n",
      "\t\t\tpCurrent = pCurrent.pNext\t#go to next item\n",
      "\t\tif not pPrevious:\t#if beginning of list,\n",
      "\t\t\tself._pFirst = pLink\t#first --> newlink\n",
      "\t\telse:\t#not at beginning,\n",
      "\t\t\tpPrevious.pNext = pLink\t#prev --> new link\n",
      "\t\tpLink.pNext = pCurrent\t#new link --> current\n",
      "\t#end insert()\n",
      "\n",
      "\tdef remove(self, key):\t#delete link\n",
      "\t\t#(assumes non-empty list)\n",
      "\t\tpPrevious = None#start at first\n",
      "\t\tpCurrent = self._pFirst\n",
      "\t\t#until end of list,\n",
      "\t\twhile pCurrent and key != pCurrent.iData:\n",
      "\t\t\tpPrevious = pCurrent\t#or key == current,\n",
      "\t\t\tpCurrent = pCurrent.pNext\t#go to next link\n",
      "\t\t\t#disconnect link\n",
      "\n",
      "\t\tif not pCurrent:\t#if item not present in list\n",
      "\t\t\tprint 'Item does not exist'\n",
      "\t\t\treturn\n",
      "\n",
      "\t\tif not pPrevious:\t#if beginning of list\n",
      "\t\t\tself._pFirst = self._pFirst.pNext\t#delete first link\n",
      "\t\telse:\t#not at beginning\n",
      "\n",
      "\t\t\tpPrevious.pNext = pCurrent.pNext\t#delete current link\n",
      "\t#end remove()\n",
      "\n",
      "\tdef find(self, key):\t#find link\n",
      "\t\tpCurrent = self._pFirst\t#start at first\n",
      "\t\t#until end of list,\n",
      "\t\twhile pCurrent and pCurrent.iData <= key:\t#or key too small,\n",
      "\t\t\tif pCurrent.iData == key:\t#if this the link?\n",
      "\t\t\t\treturn pCurrent\t#found it, return link\n",
      "\t\t\tpCurrent = pCurrent.pNext\t#go to next item\n",
      "\t\treturn None#didn't find it\n",
      "\t#end find()\n",
      "\t\t\n",
      "\tdef displayList(self):\n",
      "\t\tprint 'List (first-->last):',\n",
      "\t\tpCurrent = self._pFirst\t#start at beginning of list\n",
      "\t\twhile pCurrent:\t#until end of list,\n",
      "\t\t\tpCurrent.displayLink()\t#print data\n",
      "\t\t\tpCurrent = pCurrent.pNext\t#move to next link\n",
      "\t\tprint\n",
      "#end class SortedList\n",
      "\n",
      "\n",
      "class HashTable:\n",
      "\t\n",
      "\tdef __init__(self, size):\t#special method to create objects\n",
      "\t#with instances customized to a specific initial state\n",
      "\n",
      "\t\t#as private instance variables don't exist in Python,\n",
      "\t\t#hence using a convention: name prefixed with an underscore, to treat them as non-public part\n",
      "\t\tself._hashArray = []\t#list of lists\n",
      "\t\tself._arraySize = size\n",
      "\t\tfor j in xrange(self._arraySize):\t#fill list\n",
      "\t\t\tself._hashArray.append(SortedList())\t#with lists\n",
      "\n",
      "\tdef displayTable(self):\n",
      "\t\tfor j, val in enumerate(self._hashArray):\t#for each cell,\n",
      "\t\t\tprint j, '.',\t#display cell number\n",
      "\t\t\tval.displayList()\t#display list\n",
      "\n",
      "\tdef hashFunc(self, key):\t#hash function\n",
      "\t\treturn key % self._arraySize\n",
      "\n",
      "\tdef insert(self, pLink):\t#insert a link\n",
      "\t\tkey = pLink.iData\n",
      "\t\thashVal = self.hashFunc(key)\t#hash the key\n",
      "\t\tself._hashArray[hashVal].insert(pLink)#insert at hashVal\n",
      "\t#end insert()\n",
      "\n",
      "\tdef remove(self, key):\t#delete a Link\n",
      "\t\thashVal = self.hashFunc(key)\t#hash the key\n",
      "\t\tself._hashArray[hashVal].remove(key)\t#delete link\n",
      "\t#end remove()\n",
      "\n",
      "\tdef find(self, key):\t#find link\n",
      "\t\thashVal = self.hashFunc(key)\t#hash the key\n",
      "\t\tpLink = self._hashArray[hashVal].find(key)\t#get link\n",
      "\t\treturn pLink\t#return link\n",
      "\n",
      "#end class HashTable\n",
      "\n",
      "choice = 'b'\n",
      "\t#get sizes\n",
      "size = int(raw_input('Enter size of hash table: '))\n",
      "n = int(raw_input('Enter initial number of items: '))\n",
      "keysPerCell = 100\n",
      "\n",
      "\t#make table\n",
      "theHashTable = HashTable(size)\n",
      "\n",
      "for j in xrange(n):\t#insert data\n",
      "\taKey = randrange(0, keysPerCell*size)\n",
      "\tpDataItem = Link(aKey)\n",
      "\ttheHashTable.insert(pDataItem)\n",
      "\n",
      "#as switch is not available in Python, hence using dictionaries and functions instead\n",
      "def show():\n",
      "\ttheHashTable.displayTable()\n",
      "\n",
      "def insert():\n",
      "\taKey = int(raw_input('Enter key value to insert: '))\n",
      "\tpDataItem = Link(aKey)\n",
      "\ttheHashTable.insert(pDataItem)\n",
      "\n",
      "def delete():\n",
      "\taKey = int(raw_input('Enter key value to delete: '))\n",
      "\ttheHashTable.remove(aKey)\n",
      "\n",
      "def find():\n",
      "\taKey = int(raw_input('Enter key value to find: '))\n",
      "\tpDataItem = theHashTable.find(aKey)\n",
      "\tif pDataItem:\n",
      "\t\tprint 'Found', aKey\n",
      "\telse:\n",
      "\t\tprint 'Coud not find', aKey\n",
      "\n",
      "case = {'s' : show,\n",
      "\t'i' : insert,\n",
      "\t'd' : delete,\n",
      "\t'f' : find}\n",
      "#dictionaries and functions set for using\n",
      "\n",
      "while choice != 'x':\t#interact with user\n",
      "\tprint\n",
      "\tchoice = raw_input('Enter first letter of show, insert, delete, or find: ')\n",
      "\tif case.get(choice, None):\n",
      "\t\tcase[choice]()\n",
      "\telse:\n",
      "\t\tprint 'Invalid Entry'\n",
      "#end while\n",
      "#end"
     ],
     "language": "python",
     "metadata": {},
     "outputs": [
      {
       "name": "stdout",
       "output_type": "stream",
       "stream": "stdout",
       "text": [
        "Enter size of hash table: 20\n"
       ]
      },
      {
       "name": "stdout",
       "output_type": "stream",
       "stream": "stdout",
       "text": [
        "Enter initial number of items: 20\n"
       ]
      },
      {
       "output_type": "stream",
       "stream": "stdout",
       "text": [
        "\n"
       ]
      },
      {
       "name": "stdout",
       "output_type": "stream",
       "stream": "stdout",
       "text": [
        "Enter first letter of show, insert, delete, or find: s\n"
       ]
      },
      {
       "output_type": "stream",
       "stream": "stdout",
       "text": [
        "0 . List (first-->last): 40 1600\n",
        "1 . List (first-->last): 101 301\n",
        "2 . List (first-->last): 802\n",
        "3 . List (first-->last): 743 1243\n",
        "4 . List (first-->last):\n",
        "5 . List (first-->last): 185 1385\n",
        "6 . List (first-->last):\n",
        "7 . List (first-->last): 1967\n",
        "8 . List (first-->last): 568 1088\n",
        "9 . List (first-->last): 1749\n",
        "10 . List (first-->last): 750\n",
        "11 . List (first-->last): 851\n",
        "12 . List (first-->last): 1092\n",
        "13 . List (first-->last): 113 1393 1773\n",
        "14 . List (first-->last):\n",
        "15 . List (first-->last):\n",
        "16 . List (first-->last):\n",
        "17 . List (first-->last):\n",
        "18 . List (first-->last): 1538\n",
        "19 . List (first-->last):\n",
        "\n"
       ]
      },
      {
       "name": "stdout",
       "output_type": "stream",
       "stream": "stdout",
       "text": [
        "Enter first letter of show, insert, delete, or find: x\n"
       ]
      },
      {
       "output_type": "stream",
       "stream": "stdout",
       "text": [
        "Invalid Entry\n"
       ]
      }
     ],
     "prompt_number": 1
    },
    {
     "cell_type": "heading",
     "level": 2,
     "metadata": {},
     "source": [
      "Example 2: Page 471"
     ]
    },
    {
     "cell_type": "code",
     "collapsed": false,
     "input": [
      "def hashFunc1(key):\n",
      "\thashVal = 0\n",
      "\tpow27 = 1\t#1, 27, 27*27, etc\n",
      "\n",
      "\tfor j in reversed(xrange(0, len(key))):\t#right to left\n",
      "\t\tletter = ord(key[j]) - 96\t#get char code\n",
      "\t\thashVal += pow27 * letter\t#times power of 27\n",
      "\t\tpow27 *= 27\t#next power of 27\n",
      "\treturn hashVal % arraySize\n",
      "#end hashFunc1()"
     ],
     "language": "python",
     "metadata": {},
     "outputs": [],
     "prompt_number": 2
    },
    {
     "cell_type": "heading",
     "level": 2,
     "metadata": {},
     "source": [
      "Example 3: Page 472"
     ]
    },
    {
     "cell_type": "code",
     "collapsed": false,
     "input": [
      "def hashFunc2(key):\n",
      "\thashVal = 0\n",
      "\tfor j in xrange(0, len(key)):\t#left to right\n",
      "\t\tletter = ord(key[j]) - 96\t#get char code\n",
      "\t\thashVal = hashVal * 27 + letter\t#multiply and add\n",
      "\treturn hashVal % arraySize\t#mod\n",
      "#end hashFunc2()"
     ],
     "language": "python",
     "metadata": {},
     "outputs": [],
     "prompt_number": 3
    },
    {
     "cell_type": "heading",
     "level": 2,
     "metadata": {},
     "source": [
      "Example 4: Page 473"
     ]
    },
    {
     "cell_type": "code",
     "collapsed": false,
     "input": [
      "def hashFunc3(key):\n",
      "\thashVal = 0\n",
      "\tfor j in xrange(0, len(key)):\t#left to right\n",
      "\t\tletter = ord(key[j]) - 96\t#get char code\n",
      "\t\thashVal = (hashVal * 27 + letter) % arraySize\t#mod\n",
      "\treturn hashVal\t#no mod\n",
      "#end hashFunc3()"
     ],
     "language": "python",
     "metadata": {},
     "outputs": [],
     "prompt_number": 4
    }
   ],
   "metadata": {}
  }
 ]
}