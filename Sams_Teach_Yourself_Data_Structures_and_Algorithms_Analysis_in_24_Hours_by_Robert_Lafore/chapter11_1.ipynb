{
 "metadata": {
  "name": ""
 },
 "nbformat": 3,
 "nbformat_minor": 0,
 "worksheets": [
  {
   "cells": [
    {
     "cell_type": "heading",
     "level": 1,
     "metadata": {},
     "source": [
      "11: Recursion"
     ]
    },
    {
     "cell_type": "heading",
     "level": 2,
     "metadata": {},
     "source": [
      "Example 1: Page 209"
     ]
    },
    {
     "cell_type": "code",
     "collapsed": false,
     "input": [
      "def triangle(n):\n",
      "\ttotal = 0\n",
      "\twhile n > 0:\t#until n is 1\n",
      "\t\ttotal = total + n\t#add n (column height) to total\n",
      "\t \tn -= 1\t#decrement column height\n",
      "\treturn total"
     ],
     "language": "python",
     "metadata": {},
     "outputs": [],
     "prompt_number": 1
    },
    {
     "cell_type": "heading",
     "level": 2,
     "metadata": {},
     "source": [
      "Example 2: Page 211"
     ]
    },
    {
     "cell_type": "code",
     "collapsed": false,
     "input": [
      "def triangle(n):\n",
      "\tif n == 1:\n",
      "\t\treturn 1\n",
      "\telse:\n",
      "\t\treturn n + triangle(n-1)"
     ],
     "language": "python",
     "metadata": {},
     "outputs": [],
     "prompt_number": 2
    },
    {
     "cell_type": "heading",
     "level": 2,
     "metadata": {},
     "source": [
      "Example 3: Page 212"
     ]
    },
    {
     "cell_type": "code",
     "collapsed": false,
     "input": [
      "#evaluates triangular numbers\n",
      "from sys import setrecursionlimit\n",
      "\n",
      "def triangle(n):\n",
      "\tif n == 1:\n",
      "\t\treturn 1\n",
      "\telse:\n",
      "\t\treturn n + triangle(n-1)\n",
      "\n",
      "theNumber = int(raw_input('Enter a number: '))\n",
      "setrecursionlimit(1030)\n",
      "theAnswer = triangle(theNumber)\n",
      "print 'Triangle=',theAnswer"
     ],
     "language": "python",
     "metadata": {},
     "outputs": [
      {
       "name": "stdout",
       "output_type": "stream",
       "stream": "stdout",
       "text": [
        "Enter a number: 1000\n"
       ]
      },
      {
       "output_type": "stream",
       "stream": "stdout",
       "text": [
        "Triangle= 500500\n"
       ]
      }
     ],
     "prompt_number": 3
    },
    {
     "cell_type": "heading",
     "level": 2,
     "metadata": {},
     "source": [
      "Example 4: Page 213"
     ]
    },
    {
     "cell_type": "code",
     "collapsed": false,
     "input": [
      "#evaluates triangular numbers\n",
      "\n",
      "def triangle(n):\n",
      "\tprint 'Entering: n=', n\n",
      "\tif n == 1:\n",
      "\t\tprint 'Returning 1'\n",
      "\t\treturn 1\n",
      "\telse:\n",
      "\t\ttemp = n + triangle(n-1)\n",
      "\t\tprint 'Returning', temp\n",
      "\t\treturn temp\n",
      "\n",
      "theNumber = int(raw_input('Enter a number: '))\n",
      "\n",
      "theAnswer = triangle(theNumber)\n",
      "print 'Triangle=',theAnswer"
     ],
     "language": "python",
     "metadata": {},
     "outputs": [
      {
       "name": "stdout",
       "output_type": "stream",
       "stream": "stdout",
       "text": [
        "Enter a number: 5\n"
       ]
      },
      {
       "output_type": "stream",
       "stream": "stdout",
       "text": [
        "Entering: n= 5\n",
        "Entering: n= 4\n",
        "Entering: n= 3\n",
        "Entering: n= 2\n",
        "Entering: n= 1\n",
        "Returning 1\n",
        "Returning 3\n",
        "Returning 6\n",
        "Returning 10\n",
        "Returning 15\n",
        "Triangle= 15\n"
       ]
      }
     ],
     "prompt_number": 4
    },
    {
     "cell_type": "heading",
     "level": 2,
     "metadata": {},
     "source": [
      "Example 5: Page 220"
     ]
    },
    {
     "cell_type": "code",
     "collapsed": false,
     "input": [
      "def anagram(newSize):\n",
      "\tif newSize == 1:\n",
      "\t\treturn\n",
      "\n",
      "\tfor j in xrange(newSize):\n",
      "\t\tanagram(newSize - 1)\n",
      "\t\tif newSize == 2:\n",
      "\t\t\tdisplayWord()\n",
      "\t\trotate(newSize)"
     ],
     "language": "python",
     "metadata": {},
     "outputs": [],
     "prompt_number": 5
    },
    {
     "cell_type": "heading",
     "level": 2,
     "metadata": {},
     "source": [
      "Example 6: Page 221"
     ]
    },
    {
     "cell_type": "code",
     "collapsed": false,
     "input": [
      "#creates anagrams\n",
      "\n",
      "class word:\n",
      "\tdef __init__(self, inpStr):\t#special method to create objects\n",
      "\t#with instances customized to a specific initial state\n",
      "\n",
      "\t\t#as private instance variables don't exist in Python,\n",
      "\t\t#hence using a convention: name prefixed with an underscore, to treat them as non-public part\n",
      "\t\tself._size = len(inpStr)\t#length of input word (number of characters)\n",
      "\t\tself._count = 0\t#numbers in display\n",
      "\t\tself._workStr = inpStr\t#workspace (initialize workStr)\n",
      "\n",
      "\tdef anagram(self, newSize):\t#anagram ourselves\n",
      "\t\tif newSize == 1:\t#if too small\n",
      "\t\t\treturn\t#go no further\n",
      "\n",
      "\t\tfor j in xrange(newSize):\t#for each position,\n",
      "\t\t\tself.anagram(newSize - 1)\t#anagram remaining\n",
      "\t\t\tif newSize == 2:\t#if innermost,\n",
      "\t\t\t\tself._displayWord()\t#\tdisplay it\n",
      "\t\t\tself._rotate(newSize)\t#rotate word\n",
      "\n",
      "\t#rotate left all chars from position to end\n",
      "\tdef _rotate(self, newSize):\t#rotate part of workStr\n",
      "\t\tposition = self._size - newSize\n",
      "\t\t#logic changed here as, Python strings are immutable\n",
      "\t\tstr2 = self._workStr[position + 1 :] + self._workStr[position]\t#shifted substring from position till end\n",
      "\n",
      "\t\tstr1 = self._workStr[: position]\t#substring from start till position(position non included)\n",
      "\n",
      "\t\tself._workStr = str1 + str2\t#complete shifted string\n",
      "\n",
      "\tdef _displayWord(self):\t#display workStr\n",
      "\t\tif self._count < 99:\t#spaces before one-\n",
      "\t\t\tprint '',\t\t\t#or two-digit numbers\n",
      "\t\tif self._count < 9:\n",
      "\t\t\tprint '',\n",
      "\t\tself._count += 1\n",
      "\t\tprint self._count, self._workStr,\t#number\n",
      "\t\tif not self._count%6:\n",
      "\t\t\tprint\n",
      "\n",
      "Input = raw_input('Enter a word: ')\t#get word\n",
      "length = len(Input)\t#get its length\n",
      "\n",
      "theWord = word(Input)\t#make a word object\n",
      "theWord.anagram(length)\t#anagram it\n",
      "#end"
     ],
     "language": "python",
     "metadata": {},
     "outputs": [
      {
       "name": "stdout",
       "output_type": "stream",
       "stream": "stdout",
       "text": [
        "Enter a word: cats\n"
       ]
      },
      {
       "output_type": "stream",
       "stream": "stdout",
       "text": [
        "  1 cats   2 cast   3 ctsa   4 ctas   5 csat   6 csta\n",
        "  7 atsc   8 atcs   9 asct  10 astc  11 acts  12 acst\n",
        " 13 tsca  14 tsac  15 tcas  16 tcsa  17 tasc  18 tacs\n",
        " 19 scat  20 scta  21 satc  22 sact  23 stca  24 stac\n"
       ]
      }
     ],
     "prompt_number": 6
    },
    {
     "cell_type": "heading",
     "level": 2,
     "metadata": {},
     "source": [
      "Example 7: Page 223"
     ]
    },
    {
     "cell_type": "code",
     "collapsed": false,
     "input": [
      "def find(searchKey):\n",
      "\tlowerBound = 0\n",
      "\tupperBound = nElems - 1\n",
      "\n",
      "\twhile(True):\n",
      "\t\tcurIn = (lowerBound + upperBound) / 2\n",
      "\t\tif v[curIn] == searchKey:\n",
      "\t\t\treturn curIn\t#found it\n",
      "\t\telif lowerBound > upperBound:\n",
      "\t\t\treturn nElems\t#can't find it\n",
      "\t\telse:\t#divide range\n",
      "\t\t\tif v[curIn] < searchKey:\n",
      "\t\t\t\tlowerBound = curIn + 1\t#it's in upper half\n",
      "\t\t\telse:\n",
      "\t\t\t\tupperBound = curIn - 1\t#it's in lower half\n",
      "\t\t#end else divide range\n",
      "\t#end while\n",
      "#end find()"
     ],
     "language": "python",
     "metadata": {},
     "outputs": [],
     "prompt_number": 7
    },
    {
     "cell_type": "heading",
     "level": 2,
     "metadata": {},
     "source": [
      "Example 8: Page 223"
     ]
    },
    {
     "cell_type": "code",
     "collapsed": false,
     "input": [
      "def recFind(searchKey, lowerBound, upperBound):\n",
      "\n",
      "\tcurIn = (lowerBound + upperBound) / 2\n",
      "\n",
      "\tif v[curIn] == searchKey:\n",
      "\t\treturn curIn\t#found it\n",
      "\telif lowerBound > upperBound:\n",
      "\t\treturn nElems\t#can't find it\n",
      "\telse:\t#divide range\n",
      "\t\tif v[curIn] < searchKey:\t#it's in upper half\n",
      "\t\t\trecFind(searchKey, curIn + 1, upperBound)\n",
      "\t\telse:\t#it's in lower half\n",
      "\t\t\trecFind(searchKey, lowerBound, curIn - 1)\n",
      "\t\t#end else divide range\n",
      "#end recFind()"
     ],
     "language": "python",
     "metadata": {},
     "outputs": [],
     "prompt_number": 8
    },
    {
     "cell_type": "heading",
     "level": 2,
     "metadata": {},
     "source": [
      "Example 9: Page 224"
     ]
    },
    {
     "cell_type": "code",
     "collapsed": false,
     "input": [
      "def find(searchKey):\n",
      "\treturn recFind(searchKey, 0, nElems-1)"
     ],
     "language": "python",
     "metadata": {},
     "outputs": [],
     "prompt_number": 9
    },
    {
     "cell_type": "heading",
     "level": 2,
     "metadata": {},
     "source": [
      "Example 10: Page 224"
     ]
    },
    {
     "cell_type": "code",
     "collapsed": false,
     "input": [
      "#demonstrates recursive binary search\n",
      "\n",
      "class OrdArray:\n",
      "\tdef __init__(self):\t#special method to create objects\n",
      "\t#with instances customized to a specific initial state\n",
      "\n",
      "\t\t#since private instance variables don't exist in Python,\n",
      "\t\t#hence using a convention: name prefixed with an underscore, to treat them as non-public part\n",
      "\t\tself._v = []\t#list _v\n",
      "\n",
      "\tdef getSize(self):\t#return # of elements\n",
      "\t\treturn len(self._v)\n",
      "\n",
      "\tdef find(self, searchKey):\t#initial find()\n",
      "\t\treturn self.recFind(searchKey, 0, len(self._v)-1)\n",
      "\n",
      "\t\t#recursive find()\n",
      "\tdef recFind(self, searchKey, lowerBound, upperBound):\n",
      "\n",
      "\t\tcurIn = (lowerBound + upperBound) / 2\n",
      "\n",
      "\t\tif self._v[curIn] == searchKey:\n",
      "\t\t\treturn curIn\t#found it\n",
      "\t\telif lowerBound > upperBound:\n",
      "\t\t\treturn nElems\t#can't find it\n",
      "\t\telse:\t#divide range\n",
      "\t\t\tif self._v[curIn] < searchKey:\t#it's in upper half\n",
      "\t\t\t\tself.recFind(searchKey, curIn + 1, upperBound)\n",
      "\t\t\telse:\t#it's in lower half\n",
      "\t\t\t\tself.recFind(searchKey, lowerBound, curIn - 1)\n",
      "\t\t\t#end else divide range\n",
      "\t#end recFind()\n",
      "\n",
      "\tdef insert(self, value):\t#put element into array\n",
      "\t\tj = 0\n",
      "\t\tfor j, val in enumerate(self._v):\t#find where it goes\n",
      "\t\t\tif val > value:\t#(linear search)\n",
      "\t\t\t\tbreak\n",
      "\t\telse:\n",
      "\t\t\tj += 1\n",
      "\n",
      "\t\tself._v.insert(j, value)\t#insert it\n",
      "\n",
      "\tdef display(self):\t#display array contents\n",
      "\t\tprint self._v\t#display it\n",
      "#end class OrdArray\n",
      "\n",
      "arr = OrdArray()\t#ordered array\n",
      "\n",
      "arr.insert(72)\t#insert items\n",
      "arr.insert(90)\n",
      "arr.insert(45)\n",
      "arr.insert(126)\n",
      "arr.insert(54)\n",
      "arr.insert(99)\n",
      "arr.insert(144)\n",
      "arr.insert(27)\n",
      "arr.insert(135)\n",
      "arr.insert(81)\n",
      "arr.insert(18)\n",
      "arr.insert(108)\n",
      "arr.insert(9)\n",
      "arr.insert(117)\n",
      "arr.insert(63)\n",
      "arr.insert(36)\n",
      "\n",
      "arr.display()\t#display array\n",
      "\n",
      "searchKey = 27\t#search for item\n",
      "if arr.find(searchKey) != arr.getSize():\n",
      "\tprint 'Found', searchKey\n",
      "else:\n",
      "\tprint \"Can't Find\", searchKey\n",
      "#end"
     ],
     "language": "python",
     "metadata": {},
     "outputs": [
      {
       "output_type": "stream",
       "stream": "stdout",
       "text": [
        "[9, 18, 27, 36, 45, 54, 63, 72, 81, 90, 99, 108, 117, 126, 135, 144]\n",
        "Found 27\n"
       ]
      }
     ],
     "prompt_number": 10
    },
    {
     "cell_type": "heading",
     "level": 2,
     "metadata": {},
     "source": [
      "Example 11: Page 229"
     ]
    },
    {
     "cell_type": "code",
     "collapsed": false,
     "input": [
      "#evaluates triangular numbers, stack replaces recursion\n",
      "\n",
      "class StackX:\n",
      "\tdef __init__(self):\t#special method to create objects\n",
      "\t#with instances customized to a specific initial state\n",
      "\n",
      "\t\t#since private instance variables don't exist in Python,\n",
      "\t\t#hence using a convention: name prefixed with an underscore, to treat them as non-public part\n",
      "\t\tself._stackVect = []\t#list used as stack\n",
      "\n",
      "\tdef push(self, j):\t#put item on top of stack\n",
      "\t\tself._stackVect.append(j)\n",
      "\n",
      "\tdef pop(self):\t#take item from top of stack\n",
      "\t\treturn self._stackVect.pop()\n",
      "\n",
      "\tdef peek(self):\t#peek at top of stack\n",
      "\t\treturn self._stackVect[-1]\n",
      "\n",
      "\tdef isEmpty(self):\t#true if stack is empty\n",
      "\t\treturn not self._stackVect\n",
      "#end class StackX\n",
      "\n",
      "def stackTriangle(number):\n",
      "\ttheStack = StackX()\n",
      "\tanswer = 0\n",
      "\n",
      "\twhile number > 0:\n",
      "\t\ttheStack.push(number)\n",
      "\t\tnumber -= 1\n",
      "\twhile not theStack.isEmpty():\n",
      "\t\tnewN = theStack.pop()\n",
      "\t\tanswer += newN\n",
      "\treturn answer\n",
      "\n",
      "theNumber = int(raw_input('Enter a number: '))\n",
      "theAnswer = stackTriangle(theNumber)\n",
      "print 'Triangle=',theAnswer\n",
      "#end"
     ],
     "language": "python",
     "metadata": {},
     "outputs": [
      {
       "name": "stdout",
       "output_type": "stream",
       "stream": "stdout",
       "text": [
        "Enter a number: 5\n"
       ]
      },
      {
       "output_type": "stream",
       "stream": "stdout",
       "text": [
        "Triangle= 15\n"
       ]
      }
     ],
     "prompt_number": 2
    }
   ],
   "metadata": {}
  }
 ]
}