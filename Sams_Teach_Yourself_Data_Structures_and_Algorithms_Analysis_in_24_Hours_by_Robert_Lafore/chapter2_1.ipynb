{
 "metadata": {
  "name": ""
 },
 "nbformat": 3,
 "nbformat_minor": 0,
 "worksheets": [
  {
   "cells": [
    {
     "cell_type": "heading",
     "level": 1,
     "metadata": {},
     "source": [
      "2: Arrays"
     ]
    },
    {
     "cell_type": "heading",
     "level": 2,
     "metadata": {},
     "source": [
      "Example 1: Page 38"
     ]
    },
    {
     "cell_type": "code",
     "collapsed": false,
     "input": [
      "#demonstrates arrays\n",
      "from pylab import array#importing necessary modules\n",
      "\n",
      "arr = array([77, 99, 44, 55, 22, 88, 11, 00, 66, 33])\t#insert 10 items in array\n",
      "nElems = 10\t#10 items in array\n",
      "\n",
      "for j in arr:\t#display items\n",
      "\tprint j,\n",
      "print\n",
      "\n",
      "searchKey = 66\t#find item with key 66\n",
      "for j, val in enumerate(arr):\t#for each element\n",
      "\tif val == searchKey:\t#found item?\n",
      "\t\tbreak\t#yes, exit before end\n",
      "if j == nElems:\t#at the end?\n",
      "\tprint \"Can't find \", searchKey\t#yes\n",
      "else:\n",
      "\tprint 'Found', searchKey\t#no\n",
      "\n",
      "searchKey = 55\t#delete item with key 55\n",
      "print 'Deleting', searchKey\n",
      "for j, val in enumerate(arr):\t#look for it\n",
      "\tif val == searchKey:\n",
      "\t\tbreak\n",
      "k = j\n",
      "while k < nElems - 1:\t#move higher ones down\n",
      "\tarr[k] = arr[k+1]\n",
      "\tk += 1\n",
      "nElems -= 1\t#decrement size\n",
      "\n",
      "j = 0\t#display items\n",
      "while j < nElems:\n",
      "\tprint arr[j],\n",
      "\tj += 1\n",
      "#end"
     ],
     "language": "python",
     "metadata": {},
     "outputs": [
      {
       "output_type": "stream",
       "stream": "stdout",
       "text": [
        "77 99 44 55 22 88 11 0 66 33\n",
        "Found 66\n",
        "Deleting 55\n",
        "77 99 44 22 88 11 0 66 33\n"
       ]
      }
     ],
     "prompt_number": 1
    },
    {
     "cell_type": "heading",
     "level": 2,
     "metadata": {},
     "source": [
      "Example 2: Page 40"
     ]
    },
    {
     "cell_type": "code",
     "collapsed": false,
     "input": [
      "#demonstrates array class with low-level interface\n",
      "\n",
      "class LowArray:\n",
      "\tdef __init__(self):\t#special method to cerate objects\n",
      "\t#with instances customized to a specific initial state\n",
      "\t\t\n",
      "\t\t#since private instance variables don't exist in Python,\n",
      "\t\t#hence using a convention: name prefixed with an underscore, to treat them as non-public part\n",
      "\t\tself._v = []\t#using list as an array\n",
      "\n",
      "\tdef setElem(self, index, value):\t#put element into array, at index\n",
      "\t\tif index < len(self._v):\n",
      "\t\t\tself._v[index] = value\n",
      "\t\telse:\n",
      "\t\t\tself._v.append(value)\n",
      "\n",
      "\tdef getElem(self, index):\t#get element from array, at index\n",
      "\t\treturn self._v[index]\n",
      "#end class LowArray\n",
      "\n",
      "arr = LowArray()\t#create a LowArray\n",
      "nElems = 0\t#number of items\n",
      "\n",
      "arr.setElem(0, 77)\t#insert 10 items\n",
      "arr.setElem(1, 99)\n",
      "arr.setElem(2, 44)\n",
      "arr.setElem(3, 55)\n",
      "arr.setElem(4, 22)\n",
      "arr.setElem(5, 88)\n",
      "arr.setElem(6, 11)\n",
      "arr.setElem(7, 00)\n",
      "arr.setElem(8, 66)\n",
      "arr.setElem(9, 33)\n",
      "nElems = 10\t#now 10 items in array\n",
      "\n",
      "for j in xrange(nElems):\t#display items\n",
      "\tprint arr.getElem(j),\n",
      "print\n",
      "\n",
      "searchKey = 26\t#search for item\n",
      "j = 0\n",
      "while j < nElems:\t#for each element,\n",
      "\tif arr.getElem(j) == searchKey:\t#found item?\n",
      "\t\tbreak\n",
      "\tj += 1\n",
      "if j == nElems:\t#no\n",
      "\tprint \"Can't find\", searchKey\n",
      "else:\t#yes\n",
      "\tprint 'Found', searchKey\n",
      "\n",
      "deleteKey = 55\t#delete value 55\n",
      "print 'Deleting element',deleteKey\n",
      "for j in xrange(nElems):\t#look for it\n",
      "\tif arr.getElem(j) == deleteKey:\n",
      "\t\tbreak\n",
      "k = j\n",
      "while k < nElems - 1:\t#higher ones down\n",
      "\tarr.setElem(k, arr.getElem(k+1))\n",
      "\tk += 1\n",
      "nElems -= 1#decrement size\n",
      "\n",
      "for j in xrange(nElems):\t#display items\n",
      "\tprint arr.getElem(j),\n",
      "#end"
     ],
     "language": "python",
     "metadata": {},
     "outputs": [
      {
       "output_type": "stream",
       "stream": "stdout",
       "text": [
        "77 99 44 55 22 88 11 0 66 33\n",
        "Can't find 26\n",
        "Deleting element 55\n",
        "77 99 44 22 88 11 0 66 33\n"
       ]
      }
     ],
     "prompt_number": 2
    },
    {
     "cell_type": "heading",
     "level": 2,
     "metadata": {},
     "source": [
      "Example 3: Page 45"
     ]
    },
    {
     "cell_type": "code",
     "collapsed": false,
     "input": [
      "#demonstratres array class with high-level interface\n",
      "class HighArray:\n",
      "\tdef __init__(self):\t#special method to create objects\n",
      "\t#with instances customized to a specific initial state\n",
      "\n",
      "\t\t#since private instance variables don't exist in Python,\n",
      "\t\t#hence using a convention: name prefixed with an underscore, to treat them as non-public part\n",
      "\t\tself._v = []\t#list _v\n",
      "\n",
      "\tdef find(self, searchKey):\t#find specified value\n",
      "\t\treturn searchKey in self._v\n",
      "\n",
      "\tdef insert(self, value):\t#put element into array\n",
      "\t\tself._v.append(value)\t#insert it\n",
      "\n",
      "\tdef remove(self, value):\t#remove element from array\n",
      "\t\ttry:\n",
      "\t\t\tself._v.remove(value)\n",
      "\t\t\treturn True\t#found it\n",
      "\t\texcept ValueError:\n",
      "\t\t\treturn False\t#can't find it\n",
      "\n",
      "\tdef display(self):\t#display array contents\n",
      "\t\tprint self._v\t#display it\n",
      "#end class HighArray\n",
      "\n",
      "arr = HighArray()\t#list\n",
      "\n",
      "arr.insert(77)\t#insert 10 items\n",
      "arr.insert(99)\n",
      "arr.insert(44)\n",
      "arr.insert(55)\n",
      "arr.insert(22)\n",
      "arr.insert(88)\n",
      "arr.insert(11)\n",
      "arr.insert(0)\n",
      "arr.insert(66)\n",
      "arr.insert(33)\n",
      "\n",
      "arr.display()\t#display items\n",
      "\n",
      "searchKey = 35\t#search for item\n",
      "if arr.find(searchKey):\n",
      "\tprint 'Found', searchKey\n",
      "else:\n",
      "\tprint \"Can't Find\", searchKey\n",
      "\n",
      "print 'Deleting 0, 55, and 99'\n",
      "arr.remove(0)\t#delete 3 items\n",
      "arr.remove(55)\n",
      "arr.remove(99)\n",
      "\n",
      "arr.display()\t#display items again\n",
      "#end"
     ],
     "language": "python",
     "metadata": {},
     "outputs": [
      {
       "output_type": "stream",
       "stream": "stdout",
       "text": [
        "[77, 99, 44, 55, 22, 88, 11, 0, 66, 33]\n",
        "Can't Find 35\n",
        "Deleting 0, 55, and 99\n",
        "[77, 44, 22, 88, 11, 66, 33]\n"
       ]
      }
     ],
     "prompt_number": 3
    }
   ],
   "metadata": {}
  }
 ]
}