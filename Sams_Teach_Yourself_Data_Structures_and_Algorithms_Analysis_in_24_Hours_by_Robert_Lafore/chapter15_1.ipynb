{
 "metadata": {
  "name": ""
 },
 "nbformat": 3,
 "nbformat_minor": 0,
 "worksheets": [
  {
   "cells": [
    {
     "cell_type": "heading",
     "level": 1,
     "metadata": {},
     "source": [
      "15: Binary Trees"
     ]
    },
    {
     "cell_type": "heading",
     "level": 2,
     "metadata": {},
     "source": [
      "Example 1: Page 306"
     ]
    },
    {
     "cell_type": "code",
     "collapsed": false,
     "input": [
      "class Node:\n",
      "\tdef __init__(self):\t#special method to create objects\n",
      "\t#with instances customized to a specific initial state\n",
      "\t\tself.iData = 0\t#data item (key)\n",
      "\t\tself.dData = 0\t#data item\n",
      "\t\tself.pLeftChild = None\t#this node's left child\n",
      "\t\tself.pRightChild = None\t#this node's right child\n",
      "\n",
      "\tdef displayNode(self):\t#display ourself\n",
      "\t\tprint '{', self.iData, ',', self.dData, '}'\n",
      "#\tend class Node"
     ],
     "language": "python",
     "metadata": {},
     "outputs": [],
     "prompt_number": 1
    },
    {
     "cell_type": "heading",
     "level": 2,
     "metadata": {},
     "source": [
      "Example 2: Page 307"
     ]
    },
    {
     "cell_type": "code",
     "collapsed": false,
     "input": [
      "class Node:\n",
      "\tdef __init__(self):\n",
      "\t\tself._p1\t#points to Person object\n",
      "\t\tself._pLeftChild\t#points to left child\n",
      "\t\tself._pRightChild\t#points to right child"
     ],
     "language": "python",
     "metadata": {},
     "outputs": [],
     "prompt_number": 2
    },
    {
     "cell_type": "heading",
     "level": 2,
     "metadata": {},
     "source": [
      "Example 3: Page 307"
     ]
    },
    {
     "cell_type": "code",
     "collapsed": false,
     "input": [
      "class Tree:\n",
      "\t#as private instance variables don't exist in Python,\n",
      "\t#hence using a convention: name prefixed with an underscore, to treat them as non-public part\n",
      "\tdef __init__(self):\n",
      "\t\tself._pRoot  = None\t#first node of tree\n",
      "\n",
      "\tdef find(self, key):\t#find node with given key\n",
      "\t\tpass\n",
      "\n",
      "#using Id as id reserved in Python\n",
      "\tdef insert(self, Id, dd):\t#insert new node\n",
      "\t\tpass\n",
      "\n",
      "\tdef traverse(self, traverseType):\n",
      "\t\tpass\n",
      "\n",
      "\tdef displayTree(self):\n",
      "\t\tpass\n",
      "#end class Tree"
     ],
     "language": "python",
     "metadata": {},
     "outputs": [],
     "prompt_number": 1
    },
    {
     "cell_type": "heading",
     "level": 2,
     "metadata": {},
     "source": [
      "Example 4: Page 310"
     ]
    },
    {
     "cell_type": "code",
     "collapsed": false,
     "input": [
      "def find(key):\t#find node with given key\n",
      "\t#(assumes non-empty tree)\n",
      "\tpCurrent = pRoot\t#start at root,\n",
      "\twhile pCurrent.iData != key:\t#while no match,\n",
      "\t\tif key < pCurrent.iData:\t#go left?\n",
      "\t\t\tpCurrent = pCurrent.pLeftChild\n",
      "\t\telse:\t#or go right?\n",
      "\t\t\tpCurrent = pCurrent.pRightChild\n",
      "\t\tif not pCurrent:\t#if no child,\n",
      "\t\t\treturn None#didn't find it\n",
      "\treturn pCurrent\t#found it\n",
      "#end find"
     ],
     "language": "python",
     "metadata": {},
     "outputs": [],
     "prompt_number": 4
    },
    {
     "cell_type": "heading",
     "level": 2,
     "metadata": {},
     "source": [
      "Example 5: Page 313"
     ]
    },
    {
     "cell_type": "code",
     "collapsed": false,
     "input": [
      "#using Id as id is reserved in Python\n",
      "def insert(Id, dd):\t#insert new node\n",
      "\tpNewNode = Node()\t#make new node\n",
      "\tpNewNode.iData = Id#insert data\n",
      "\tpNewNode.dData = dd\n",
      "\tif not pRoot:\t#no node in root\n",
      "\t\tpRoot = pNewNode\n",
      "\telse:\t#root occupied\n",
      "\t\tpCurrent = pRoot\t#start at root\n",
      "\t\twhile True:\t#(exits internally)\n",
      "\t\t\tpParent = pCurrent\n",
      "\t\t\tif Id < pCurrent.iData:\t#go left?\n",
      "\t\t\t\tpCurrent = pCurrent.pLeftChild\n",
      "\t\t\t\tif not pCurrent:\t#if end of the line,\n",
      "\t\t\t\t\tpParent.pLeftChild = pNewNode\t#insert on left\n",
      "\t\t\t\t\treturn\n",
      "\t\t\telse:\t#or go right?\n",
      "\t\t\t\tpCurrent = pCurrent.pRightChild\n",
      "\t\t\t\tif not pCurrent:\t#if end of the line\n",
      "\t\t\t\t\tpParent.pRightChild = pNewNode\t#insert on right\n",
      "\t\t\t\t\treturn\n",
      "\t\t\t#end else go right\n",
      "\t#end else not root\n",
      "#end insert()"
     ],
     "language": "python",
     "metadata": {},
     "outputs": [],
     "prompt_number": 5
    }
   ],
   "metadata": {}
  }
 ]
}