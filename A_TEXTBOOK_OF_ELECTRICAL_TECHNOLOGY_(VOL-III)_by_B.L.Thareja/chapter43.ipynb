{
 "cells": [
  {
   "cell_type": "markdown",
   "metadata": {},
   "source": [
    "# CHAPTER 43: ELECTRIC TRACTION"
   ]
  },
  {
   "cell_type": "markdown",
   "metadata": {},
   "source": [
    "## EXAMPLE 43.1 , PAGE NO :- 1716"
   ]
  },
  {
   "cell_type": "code",
   "execution_count": 1,
   "metadata": {
    "collapsed": false
   },
   "outputs": [
    {
     "name": "stdout",
     "output_type": "stream",
     "text": [
      "Max speed of train is =  39.2 km/h.\n"
     ]
    }
   ],
   "source": [
    "#A suburban train runs with an average speed of 36 km/h between two stations 2 km apart.Values of acceleration\n",
    "#and retardation are 1.8 km/h/s and 3.6 km/h/s.Compute the maximum speed of the train assuming trapezoidal\n",
    "#speed/time curve\n",
    "################################################################################################################\n",
    "import math\n",
    "\n",
    "#Given\n",
    "\n",
    "Va = 36.0*5/18.0     #m/s   (average speed)\n",
    "alpha = 1.8*5/18.0   #m/s^2 (acc.)\n",
    "beta = 3.6*5/18.0   #m/s^2  (ret.)\n",
    "D = 2000.0            #m      (distance )\n",
    "t = D/Va              #s      (time)\n",
    "K = (alpha + beta)/(2*alpha*beta)  #(constant)\n",
    "Vm = (t-math.sqrt(t*t-4*K*D))/(2*K)    #m/s   (max speed)\n",
    "Vm = Vm*18/5.0         #km/h\n",
    "print \"Max speed of train is = \",round(Vm,2),\"km/h.\""
   ]
  },
  {
   "cell_type": "markdown",
   "metadata": {},
   "source": [
    "## EXAMPLE 43.2 , PAGE NO :- 1716"
   ]
  },
  {
   "cell_type": "code",
   "execution_count": 2,
   "metadata": {
    "collapsed": false
   },
   "outputs": [
    {
     "name": "stdout",
     "output_type": "stream",
     "text": [
      "The acceleration is = 1.7 km/h/s.\n"
     ]
    }
   ],
   "source": [
    "#A train is required to run between two stations 1.5 km apart at a schedule speed of 36 km/h,the duration of stops being\n",
    "#25 seconds.The braking retardation is 3 km/h/s.Assuming a trapezoidal speed/time curve,calculate the acceleration if the\n",
    "#ratio of maximum speed to average speed is to be 1.25\n",
    "##########################################################################################################################\n",
    "\n",
    "#Given\n",
    "D = 1500.0          #m      (distance)\n",
    "Vsch = 36.0*5/18.0  #m/s    (scheduled speed)\n",
    "beta = 3.0*5/18.0   #km/h/s (ret.)\n",
    "\n",
    "time = D/Vsch       #s      (scheduled time)\n",
    "t_stop = 25.0       #s      (stopping time)\n",
    "t = time-t_stop     #s      (actual time of run)\n",
    "Va = D/t            #m/s    (average speed)\n",
    "Vm = 1.25*Va        #m/s    (max speed)\n",
    "\n",
    "#The value of K is\n",
    "K = (D/(Vm*Vm))*(Vm/Va-1)\n",
    "#We know that K = 1/2*(1/alpha + 1/beta).Therefore,value of alpha is\n",
    "alpha = beta/(2*K*beta-1)       #m/s^2\n",
    "alpha = alpha*18/5.0            #km/h/s\n",
    "print \"The acceleration is =\",round(alpha,1),\"km/h/s.\""
   ]
  },
  {
   "cell_type": "markdown",
   "metadata": {},
   "source": [
    "## EXAMPLE 43.3 , PAGE NO :- 1716"
   ]
  },
  {
   "cell_type": "code",
   "execution_count": 3,
   "metadata": {
    "collapsed": false
   },
   "outputs": [
    {
     "name": "stdout",
     "output_type": "stream",
     "text": [
      "Schedule speed of train is 38.7 Km/h.\n"
     ]
    }
   ],
   "source": [
    "#Find the scheduled speed of an electric train for a run of 1.5km if the ratio of its maximum to average speed is\n",
    "#1.25.It has a braking retardation of 3.6 km/h/s,acceleration of 1.8km/h/s and stop time of 21 seconds.Assume\n",
    "#trapezoidal speed/time curve.\n",
    "##################################################################################################################\n",
    "import math\n",
    "\n",
    "#Given\n",
    "alpha = 1.8*5/18.0    #m/s^2  (acceleration)\n",
    "beta  = 3.6*5/18.0    #m/s^2  (retardation)\n",
    "D = 1500.0            #m      (distance)\n",
    "ratio = 1.25                  #(Vm/Va)     \n",
    "t_stop = 21           #s       (stopping time)    \n",
    "K = 0.5*(1/alpha + 1/beta)\n",
    "\n",
    "#Also constant K = (D/Vm^2)*(Vm/Va-1)\n",
    "#Therefore Vm^2 = (D/K)*((Vm/Va)-1).\n",
    "Vm = math.sqrt(D/K*(ratio-1))     #m/s   (Max. speed)\n",
    "Va = Vm/ratio                     #m/s   (Avg. speed) \n",
    "t = D/Va                          #s     (travel time)\n",
    "\n",
    "tsch = t + t_stop                 #s     (schedule time)\n",
    "Vsch = D/tsch                     #m/s   (scheduled speed)\n",
    "Vsch = Vsch*18/5.0                #km/h\n",
    "print \"Schedule speed of train is\",round(Vsch,1),\"Km/h.\""
   ]
  },
  {
   "cell_type": "markdown",
   "metadata": {},
   "source": [
    "## EXAMPLE 43.4 , PAGE NO :- 1717"
   ]
  },
  {
   "cell_type": "code",
   "execution_count": 19,
   "metadata": {
    "collapsed": false,
    "scrolled": true
   },
   "outputs": [
    {
     "name": "stdout",
     "output_type": "stream",
     "text": [
      "Duration of acceleration  =  26.7 s.\n",
      "Duration of coasting      =  119.3 s.\n",
      "Duration of braking       =  14.0 s.\n",
      "Total duration            =  160.0 s.\n"
     ]
    }
   ],
   "source": [
    "#A train runs between two stations 1.6km apart at an average speed of 36 km/h.If the maximum speed is to be limited\n",
    "#to 72km/h,acceleration to 2.7km/h/s,coasting retardation to 0.18 km/h/s and braking retardation to 3.2 km/h/s,compute\n",
    "#the duration of acceleration,coasting and braking periods.Assume a simplified speed/time curve.\n",
    "########################################################################################################################\n",
    "\n",
    "from sympy import Eq,Symbol, solve\n",
    "#Given\n",
    "D = 1600          #m      (distance)\n",
    "Va = 36.0*5/18.0  #m/s    (avg speed)\n",
    "V1 = 72.0*5/18.0  #m/s    (max speed)\n",
    "alpha = 2.7*5/18.0       #m/s^2 (acceleration)\n",
    "beta =  3.6*5/18.0       #m/s^2 (braking retardation)\n",
    "beta_c = 0.18*5/18.0      #m/s^2 (coasting retardation)\n",
    "#Duration of acceleration\n",
    "t1 = V1/alpha    #s\n",
    "\n",
    "#Actual time of run\n",
    "t = D/Va         #s\n",
    "#Let us assume V2 be the speed at start of braking.\n",
    "\n",
    "V2 = Symbol('V2')\n",
    "t3 = V2/beta         #(braking period)\n",
    "t2 = (V1-V2)/beta_c  #(coasting period)\n",
    "\n",
    "eq = Eq(t1+t2+t3,t)\n",
    "V2 =  solve(eq)\n",
    "Ve2 = V2[0]\n",
    "\n",
    "#Now we know the value of V2 that is Ve2.\n",
    "t3 = Ve2/beta         #(braking period)\n",
    "t2 = (V1-Ve2)/beta_c  #(coasting period)\n",
    "print \"Duration of acceleration  = \",round(t1,1),\"s.\"\n",
    "print \"Duration of coasting      = \",round(t2,1),\"s.\"\n",
    "print \"Duration of braking       = \",round(t3,1),\"s.\"\n",
    "print \"Total duration            = \",round(t,0),\"s.\"\n",
    "\n",
    "\n",
    "\n"
   ]
  },
  {
   "cell_type": "markdown",
   "metadata": {},
   "source": [
    "## EXAMPLE 43.5 , PAGE NO :- 1724"
   ]
  },
  {
   "cell_type": "code",
   "execution_count": 4,
   "metadata": {
    "collapsed": false
   },
   "outputs": [
    {
     "name": "stdout",
     "output_type": "stream",
     "text": [
      "The limiting value of train speed =  82.0 km/h.\n"
     ]
    }
   ],
   "source": [
    "#The peripheral speed of a railway traction motor cannot be allowed to exceed 44m/s.If gear ratio is 18/75,motor armature\n",
    "#diameter 42cm and wheel diameter 91cm,calculate the limiting value of the train speed.\n",
    "###########################################################################################################################\n",
    "\n",
    "#Given\n",
    "gratio = 18/75.0           #(gear ratio)\n",
    "Vmot = 44.0          #m/s    (speed of traction motor)\n",
    "wdia = 0.91          #m     (wheel diameter)\n",
    "mdia = 0.42          #m      (motor armature diameter)\n",
    "\n",
    "#Maximum number of revolutions by armature (in 1s)\n",
    "mrev = Vmot/(3.14*mdia)    #rps\n",
    "#Maximum number of revolutions by driving wheel(in 1s)\n",
    "wrev = mrev*gratio         #rps\n",
    "#Maximum distance travelled by driving wheel (in 1s)\n",
    "dist = wrev*(3.14*wdia)    #m\n",
    "#Therefore,limiting speed is\n",
    "vel = dist*18/5.0            #km/h\n",
    "print \"The limiting value of train speed = \",round(vel),\"km/h.\""
   ]
  },
  {
   "cell_type": "markdown",
   "metadata": {},
   "source": [
    "## EXAMPLE 43.6 , PAGE NO :- 1724"
   ]
  },
  {
   "cell_type": "code",
   "execution_count": 5,
   "metadata": {
    "collapsed": false
   },
   "outputs": [
    {
     "name": "stdout",
     "output_type": "stream",
     "text": [
      "Torque developed by each motor =  7181.0 N-m.\n"
     ]
    }
   ],
   "source": [
    "#A 250-tonne motor coach driven by four motors takes 20 seconds to attain a speed of 42 km/h,starting from rest on an ascending\n",
    "#gradient of 1 in 80.The gear ratio is 3.5,gear efficiency 92%,wheel diameter 92cm train resistance 40N/t and rotational inertia\n",
    "#10 percent of the dead weight.Find the torque developed by each motor.\n",
    "##################################################################################################################################\n",
    "\n",
    "#Given\n",
    "M = 250.0        #tonne  (mass of motor)\n",
    "Me = 1.1*250.0   #tonne  (mass of rotating motor)\n",
    "Vm = 42.0        #km/h   (speed)\n",
    "t1 = 20.0        #s      (time)\n",
    "G = 1/80.0*100       #       (% gradient)\n",
    "r = 40.0         #N/tonne(train reistance)\n",
    "D = 0.92         #m      (wheel diameter)\n",
    "gratio = 3.5     #       (gear ratio)\n",
    "geff = 0.92      #       (gear efficiency)\n",
    "\n",
    "a = Vm/t1        #        (acceleration)    \n",
    "#Now,tractive force is given by\n",
    "Ft =  277.8*Me*a + 98*M*G + M*r   #N\n",
    "#Now Ft = 2*gratio*geff*T/D.Therefore torque 'T' is\n",
    "T = Ft*D/(2*gratio*geff)     #N-m\n",
    "#There are  motors.so,torque by each motor is\n",
    "torque = T/4      #N-m\n",
    "print \"Torque developed by each motor = \",round(torque),\"N-m.\""
   ]
  },
  {
   "cell_type": "markdown",
   "metadata": {},
   "source": [
    "## EXAMPLE 43.7 , PAGE NO :- 1724"
   ]
  },
  {
   "cell_type": "code",
   "execution_count": 6,
   "metadata": {
    "collapsed": false
   },
   "outputs": [
    {
     "name": "stdout",
     "output_type": "stream",
     "text": [
      "Time taken to achieve speed of 80km/h is = 44.3 s.\n",
      "Current drawn per motor is 488.0 A.\n"
     ]
    }
   ],
   "source": [
    "#A 250-tonne motor coach having 4 motors,each developing a torque of 8000 N-m during acceleration,starts from rest.If\n",
    "#up-gradient is 30 in 1000,gear ratio 3.5,gear transmission efficiency 90%,wheel diameter 90cm,train resistance 50N/t,\n",
    "#rotational inertia effect 10%,compute the time taken by the coach to attain a speed of 80km/h.\n",
    "#If supply voltage is 3000V and motor efficiency 85%,calculate the current taken during the acceleration period.\n",
    "#########################################################################################################################\n",
    "\n",
    "#Given\n",
    "M = 250.0    #tonne (mass of motor)\n",
    "Me = 1.1*250 #tonne (mass of rotating motor)\n",
    "r = 50.0     #N/t   (train resistance)\n",
    "G = 30.0/1000*100  #  (% gradient)\n",
    "torque = 8000 #N-m  (torque of each motor)\n",
    "D = 0.90     #m     (wheel diameter)\n",
    "gratio = 3.5 #      (gear ratio)\n",
    "geff = 0.90  #      (gear efficiency)\n",
    "Vm = 80      #km/h  (speed)\n",
    "meff = 0.85  #      (Motor efficiency)\n",
    "V = 3000.0   #      (Voltage)\n",
    "\n",
    "T = 4*torque #      (total torque)\n",
    "#Now,we Know that\n",
    "Ft = 2*gratio*geff*T/D     #N\n",
    "#Also,we know that Ft = 277.8*Me*a + 98MG + Mr\n",
    "a = (Ft-98*M*G-M*r)/(277.8*Me)    #km/h/s(acceleration)\n",
    "#Time taken to attain the speed\n",
    "t1 = Vm/a       #s\n",
    "#Power taken by motor is given by\n",
    "Power = Ft*(5.0/18*Vm)/meff   #W\n",
    "#Total current drawn is (using P = VI)\n",
    "I = Power/V     #A\n",
    "#Current drawn/motor is\n",
    "cur = I/4       #A\n",
    "\n",
    "print \"Time taken to achieve speed of 80km/h is =\",round(t1,1),\"s.\"\n",
    "print \"Current drawn per motor is\",round(cur,1),\"A.\""
   ]
  },
  {
   "cell_type": "markdown",
   "metadata": {
    "collapsed": true
   },
   "source": [
    "## EXAMPLE 43.8 , PAGE NO :- 1725"
   ]
  },
  {
   "cell_type": "code",
   "execution_count": 3,
   "metadata": {
    "collapsed": false
   },
   "outputs": [
    {
     "name": "stdout",
     "output_type": "stream",
     "text": [
      "Weight of locomotive is = 142.0 tonne.\n",
      "Number of axles required are =  7.0\n"
     ]
    }
   ],
   "source": [
    "#A goods train weighing 500 tonne is to be hauled by a locomotive up an ascending gradient of 2% with an\n",
    "#acceleation of 1 km/h/s.If the coefficient of adhesion is 0.25,train resistance 40N/t and effect of rotational\n",
    "#inertia 10%,find the weight of locomotive and number of axles if load is not to increase beyond 21 tonne/axle.\n",
    "###############################################################################################################\n",
    "\n",
    "from sympy import Eq,Symbol, solve\n",
    "#Given\n",
    "mass = 500.0  #tonne      (mass of goods train)\n",
    "a = 1         #km/h/s     (acceleration)\n",
    "coef_ad = 0.25           #(coefficient of adhesion)\n",
    "r = 40.0      #N/t        (train resistance)\n",
    "G = 2.0       #           (% gradient)\n",
    "w_axle = 21.0 #tonne/axle (weight per axle)\n",
    "#Let Ml be  mass of locomotive\n",
    "Ml = Symbol('Ml')\n",
    "#Total mass is given by\n",
    "M = mass + Ml\n",
    "#Now,tractive force is given by\n",
    "Ft1 = M*(277.8*1.1*a + 98*G + r)        #N\n",
    "#Also,Maximum tractive force is given by\n",
    "Ft2 = 1000*coef_ad*Ml*9.8\n",
    "#As both Ft1 and Ft2 are same, therefore equating\n",
    "eq = Eq(Ft1,Ft2)\n",
    "Ml = solve(eq)\n",
    "#Mass of locomotive 'M_l' is\n",
    "M_l = Ml[0]\n",
    "#No of axles required are\n",
    "no_axle = round(M_l)/w_axle\n",
    "print \"Weight of locomotive is =\",round(M_l),\"tonne.\"\n",
    "print \"Number of axles required are = \",round(no_axle)\n",
    "\n"
   ]
  },
  {
   "cell_type": "markdown",
   "metadata": {},
   "source": [
    "## EXAMPLE 43.9 , PAGE NO :- 1725"
   ]
  },
  {
   "cell_type": "code",
   "execution_count": 7,
   "metadata": {
    "collapsed": false
   },
   "outputs": [
    {
     "name": "stdout",
     "output_type": "stream",
     "text": [
      "The trailing weight that can now be hauled up = 1100.0 tonne.\n"
     ]
    }
   ],
   "source": [
    "#An electric locomotive weighing 100 tonne can just accelerate a train of 500 tonne(trailing weight) with an acceleration of \n",
    "#1 km/h/s on an up-gradient of 0.1%.Train resistance is 45N/t and rotational inertia is 10%.If this locomotive is helped by another\n",
    "#locomotive of 120 tonne,find:\n",
    "#(i)the trailing weight that can now be hauled up the same gradient under the same conditions.\n",
    "#(ii)the maximum gradient,if the trailing hauled load remains unchanged.\n",
    "#Assume adhesive weight expressed as percentage of total dead weight as 0.8 for both locomotives.'''\n",
    "#############################################################################################################################\n",
    "\n",
    "#Given\n",
    "Ml1 = 100.0  #tonne  (locomotive 1)\n",
    "Ml2 = Ml1 + 120.0  #tonne  (locomotive 1&2)\n",
    "mass = 500.0 #tonne  (trailing part)\n",
    "r = 45.0     #N/t    (train resistance)\n",
    "G = 0.1      #       (% gradient)\n",
    "a = 1.0      #km/h/s (acceleration)\n",
    "\n",
    "#Total mass of train and locomotive\n",
    "M = Ml1 + mass   #tonne\n",
    "Me = 1.1*M       #tonne \n",
    "#Traction Force is\n",
    "Ft = 277.8*Me*a + 98*M*G + M*r     #N\n",
    "#Let coefficient_of_adhesion be 'ua'.Then the maximium tractive effort by locomotive 1 is Ft = 1000*ua*Ml1*9.8\n",
    "ua = Ft/(1000*9.8*Ml1)\n",
    "\n",
    "#Maximum tractive effort by locomotive 1&2 is\n",
    "Ft2 = 1000*ua*Ml2*9.8           #N\n",
    "#Also,Ft2 = M2*(277.8*1.1*a + G + r).Therefore,\n",
    "M2 = Ft2/(277.8*1.1*a + 98*G + r)     #tonne\n",
    "#(i)The trailing weight that can be hauled up is\n",
    "wtrail = M2-Ml2   #tonne\n",
    "#(ii)Now, in this case the total weight of train & locomotive is\n",
    "M3 = mass + Ml2\n",
    "#Tractive force Ft2 = M3*(277.8*1.1*a + 98G2 + r).Therefore,for max gradient 'G2'\n",
    "G2 = (Ft2/M3-277.8*1.1*a-r)/98\n",
    "\n",
    "print \"The trailing weight that can now be hauled up =\",round(wtrail,2),\"tonne.\""
   ]
  },
  {
   "cell_type": "markdown",
   "metadata": {},
   "source": [
    "## EXAMPLE 43.10 , PAGE NO :- 1726"
   ]
  },
  {
   "cell_type": "code",
   "execution_count": 8,
   "metadata": {
    "collapsed": false
   },
   "outputs": [
    {
     "name": "stdout",
     "output_type": "stream",
     "text": [
      "Max speed =  44.32 km/h.\n",
      "Specific energy output =  30.18  Wh/t-km.\n"
     ]
    }
   ],
   "source": [
    "#The average distance between stops on a level section of a railway is 1.25km.Motor-coach train weighing 200 tonne has a\n",
    "#schedule speed of 30 km/h,the duration of stops being 30 seconds.The acceleration is 1.9 km/h/s and the braking retardation\n",
    "#is 3.2 km/h/s.Train resistance to traction is 45 N/t.Allowance for rotational inertia is 10%.Calculate the specific energy\n",
    "#output in Wh/t-km.Assume a trapezoidal speed/time curve.\n",
    "##############################################################################################################################\n",
    "import math as m\n",
    "#Given\n",
    "alpha = 1.9*5/18.0      #km/h/s    (acceleration)\n",
    "beta = 3.2*5/18.0       #km/h/s    (retardation)\n",
    "D = 1.25*1000.0         #m         (distance)\n",
    "tstop = 30.0            #s         (stop time)\n",
    "Vsch = 30*5/18.0        #m/s       (schedule speed) \n",
    "r = 45.0                #N/t       (train resistance) \n",
    "K = round((alpha + beta)/(2*alpha*beta),1)  #(constant K)\n",
    "\n",
    "tsch = D/Vsch           #s          (schedule time)\n",
    "t = tsch-tstop          #s          (running time)\n",
    "#Now,max speed is given by\n",
    "Vm = (t - m.sqrt(t*t-4*K*D))/(2*K)   #m/s\n",
    "#Braking distance is given by(using newton's III equation of motion)\n",
    "dist = Vm*Vm/(2*beta)   #m\n",
    "#Therefore non-braking distance\n",
    "D2 = (D - dist)/1000                 #km\n",
    "Vm = Vm*18/5.0                     #km/h\n",
    "D = D/1000                         #km\n",
    "#Specific energy output is\n",
    "spengy = 0.01072*(Vm*Vm/D)*1.1 + 0.2778*r*(D2/D)\n",
    "\n",
    "print \"Max speed = \",round(Vm,2),\"km/h.\"\n",
    "print \"Specific energy output = \",round(spengy,2),\" Wh/t-km.\""
   ]
  },
  {
   "cell_type": "markdown",
   "metadata": {},
   "source": [
    "## EXAMPLE 43.11 , PAGE NO :- 1726"
   ]
  },
  {
   "cell_type": "code",
   "execution_count": 9,
   "metadata": {
    "collapsed": false
   },
   "outputs": [
    {
     "name": "stdout",
     "output_type": "stream",
     "text": [
      "The value of specific energy consumption is 21.6 Wh/t-km.\n"
     ]
    }
   ],
   "source": [
    "#A 300-tonne EMU is started with a uniform acceleration and reaches a speed of 40 Km/h in 24 seconds on a level track.\n",
    "#Assuming trapezoidal speed/time curve,find specific energy consumption if rotational inertia is 8%,retardation is 3 km/h/s,\n",
    "#distance between stops is 3 km,motor efficiency is 0.9 and train resistance is 49N/tonne.\n",
    "#############################################################################################################################\n",
    "\n",
    "#Given\n",
    "M = 300.0     #tonne     (mass of train)\n",
    "Mratio = 1.08 #          (Me/M)\n",
    "Vm = 40.0     #km/h      (speed)\n",
    "beta = 3.0    #km/h/s    (retardation)\n",
    "r = 49.0      #N/t       (train resistance)\n",
    "meff = 0.9    #          (motor efficiency)\n",
    "D = 3.0       #km        (distance)\n",
    "\n",
    "#Braking time is(using Newton's Ist eqn)\n",
    "t3 = Vm/beta\n",
    "#Distance travelled in braking time(using Newton's IInd eqn)\n",
    "dist = 0.5*beta*t3*t3/3600   #km\n",
    "#Non braking distance D2 is\n",
    "D2 = D - dist    #km\n",
    "#Specific energy consumption is given by,\n",
    "spengy = 0.01072*(Vm*Vm/(meff*D))*Mratio + 0.2778*r/meff*(D2/D)   #Wh/t-km\n",
    "print \"The value of specific energy consumption is\",round(spengy,1),\"Wh/t-km.\""
   ]
  },
  {
   "cell_type": "markdown",
   "metadata": {},
   "source": [
    "## EXAMPLE 43.12 , PAGE NO :- 1726"
   ]
  },
  {
   "cell_type": "code",
   "execution_count": 10,
   "metadata": {
    "collapsed": false
   },
   "outputs": [
    {
     "name": "stdout",
     "output_type": "stream",
     "text": [
      "acceleration =  2.0 km/h/s.\n",
      "coasting retardation =  0.2 km/h/s.\n",
      "The schedule speed =  30.3 km/h.\n",
      "The new schedule speed =  31.6 km/h.\n"
     ]
    }
   ],
   "source": [
    "#An electric train accelerates uniformly from rest to a speed of 50km/h in 25 seconds.It then coasts for 70 seconds\n",
    "#against a constant resistance of 60N/t and is then braked to rest with uniform retardation of 3.0km/h/s in 12 seconds.\n",
    "#Compute :-      (i)uniform acceleration                         (ii)coasting retardation\n",
    "#(iii)schedule speed if station stops are of 20-second duration\n",
    "#Allow 10% for rotational inertia.How will the scedule speed be affected if duration of stops is reduced to 15 seconds,\n",
    "#other factors remaining the same?\n",
    "##########################################################################################################################\n",
    "\n",
    "#Given\n",
    "V1 = 50.0    #km/h    (Max speed)\n",
    "t1 = 25.0    #s       (accelerating time)\n",
    "t2 = 70.0    #s       (coasting time)\n",
    "r = 60.0     #N/t     (train resistance)\n",
    "beta = 3.0   #km/h/s  (retardation)\n",
    "t3 = 12.0    #s       (braking time)\n",
    "\n",
    "#(i) Uniform acceleration is (using Newton's 1st eqn.)\n",
    "alpha = V1/t1           #km/h/s\n",
    "print \"acceleration = \",round(alpha,1),\"km/h/s.\"\n",
    "#Now in braking period (using Newton's 1st eqn.)-> 0 = V2 - beta*t3\n",
    "V2 = beta*t3            #km/h\n",
    "#(ii)Now in coasting period (using Newton's 1st eqn.)-> V2 = V1 - beta_c*t2\n",
    "beta_c = (V1-V2)/t2     #km/h/s\n",
    "print \"coasting retardation = \",round(beta_c,1),\"km/h/s.\"\n",
    "#distance travelled in accelerating period (using Newton's 2nd eqn.)\n",
    "dis1 = 0.5*alpha*t1*t1/3600      #km\n",
    "#distance travelled in coasting period (using Newton's 3rd eqn.)\n",
    "dis2 = -(V2*V2 - V1*V1)/(2*beta_c*3600) #km\n",
    "#distance travelled in braking period (using Newton's 2nd eqn.)\n",
    "dis3 = 0.5*beta*t3*t3/3600       #km\n",
    "#Total distance\n",
    "D = dis1 + dis2 + dis3        #km\n",
    "#Total time\n",
    "T = t1 + t2 + t3 + 20.0       #s\n",
    "#Scheduled Speed Vsch is\n",
    "Vsch = D/T*3600      #km/h\n",
    "print \"The schedule speed = \",round(Vsch,1),\"km/h.\"\n",
    "#New Total time\n",
    "T = t1 + t2 + t3 + 15.0\n",
    "#New scheduled speed is\n",
    "Vsch = D/T*3600      #km/h\n",
    "print \"The new schedule speed = \",round(Vsch,1),\"km/h.\""
   ]
  },
  {
   "cell_type": "markdown",
   "metadata": {},
   "source": [
    "## EXAMPLE 43.13 , PAGE NO :- 1727"
   ]
  },
  {
   "cell_type": "code",
   "execution_count": 1,
   "metadata": {
    "collapsed": false
   },
   "outputs": [
    {
     "name": "stdout",
     "output_type": "stream",
     "text": [
      "The specific energy consumption is = 63.1 Wh/t-km.\n"
     ]
    }
   ],
   "source": [
    "#A 350-tonne electric train runs up an ascending gradient of 1% with the following speed/time curves:\n",
    "# 1.uniform acceleration of 1.6km/h/s for 25 seconds                 2.constant speed for 50 seconds\n",
    "# 3.coasting for 30 seconds                                          4.braking at 2.56 km/h/s to rest.\n",
    "#Compute the specific energy consumption if train resistance is 50N/t,effect of rotational inertia 10%,overall efficiency of\n",
    "#transmission gear and motor,75%.\n",
    "#############################################################################################################################\n",
    "\n",
    "#Given\n",
    "M = 350.0   #tonne      (weight of train)\n",
    "Me = 1.1*M  #tonne      (effect of rot. inertia)\n",
    "G = 1.0     #           (% gradient)\n",
    "alpha = 1.6 #km/h/s     (acceleration)\n",
    "t1 = 25.0   #s          (acceleration time)\n",
    "t2 = 50     #s          (constant speed time)\n",
    "t3 = 30     #s          (coasting time)\n",
    "beta = 2.56 #km/h/s     (braking retardation)\n",
    "r = 50.0    #N/t        (train resistance)\n",
    "meff = 0.75 #           (motor efficiency)\n",
    "\n",
    "V1 = alpha*t1  #km/h    (Max speed attained)\n",
    "#Tractive force during coasting is\n",
    "Ft = 98*M*G + M*r        #N\n",
    "#Also,Tractive force during coasting is given by\n",
    "#Ft = 277.8*Me*beta_c . Therefore beta_c is\n",
    "beta_c = Ft/(277.8*Me)   #km/h/s\n",
    "\n",
    "#During Coasting period.(Using Newton's 1st eqn.) . \"V2\" is given by\n",
    "V2 = V1 - beta_c*t3      #km/h\n",
    "t4 = V2/beta             #s    (braking time) \n",
    "\n",
    "#Distance travelled during acceleration period.\n",
    "dis1 = 0.5*alpha*t1*t1/3600     #km\n",
    "#Distance travelled during constant speed period.\n",
    "dis2 = V1*t2/3600      #km\n",
    "#Distance travelled during coasting period.\n",
    "dis3 = (V1+V2)/2*t3/3600    #km\n",
    "#Distance travelled during braking period.\n",
    "dis4 = 0.5*V2*t4/3600       #km\n",
    "#Total distance between stops\n",
    "D = dis1 + dis2 + dis3 + dis4     #km\n",
    "#Distance travelled during acceleration and constant speed period\n",
    "D2 = dis1 + dis2                  #km\n",
    "#Specific energy consumption is given by\n",
    "spengy = (0.01072*(V1*V1/D)*(Me/M) + 27.25*G*(D2/D) + 0.2778*r*(D2/D))/meff #Wh/t-km\n",
    "\n",
    "print \"The specific energy consumption is =\",round(spengy,1),\"Wh/t-km.\""
   ]
  },
  {
   "cell_type": "markdown",
   "metadata": {},
   "source": [
    "## EXAMPLE 43.14 , PAGE NO :- 1728"
   ]
  },
  {
   "cell_type": "code",
   "execution_count": 12,
   "metadata": {
    "collapsed": false
   },
   "outputs": [
    {
     "name": "stdout",
     "output_type": "stream",
     "text": [
      "Total number of locomotives required are =  4.0\n"
     ]
    }
   ],
   "source": [
    "#An ore-carrying train weighing 5000 tonne is to be hauled down a gradient of 1:50 at a maximum speed of 30km/h\n",
    "#and started on a level track at an acceleration of 0.29 km/h/s.How many locomotives,each weighing 75 tonne,will\n",
    "#have to be employed?\n",
    "#Train resistance during starting = 29.4 N,Train resistance at 30km/h = 49N/t,Coefficient of adhesion = 0.3\n",
    "#Rotational inertia = 10%\n",
    "################################################################################################################################\n",
    "\n",
    "#Given\n",
    "M = 5000.0       #tonne         (Mass of train)\n",
    "Ml = 75.0        #tonne         (Mass of locomotive)  \n",
    "G = 1.0/50       #              (gradient)\n",
    "Vm = 30.0        #km/h          (Max speed)\n",
    "a = 0.29         #km/h/s        (acceleration)     \n",
    "r1 = 49.0        #              (Train resistance at 30km/h)\n",
    "r2 = 29.4        #              (Train resistance at starting)\n",
    "ua = 0.3         #              (coefficient of adhesion)\n",
    "\n",
    "#Downward force due to gravity\n",
    "F = M*G*9.8*1000     #N\n",
    "#Train resistance\n",
    "Fres = r1*M          #N\n",
    "#Braking force required is\n",
    "Fbrk = F-Fres        #N\n",
    "#Max. braking force which one locomotive can produce.\n",
    "#F = 1000*ua*M*g\n",
    "Fbrk_1 = 1000*ua*Ml*9.8   #N\n",
    "#Therefore, Number of locomotives required for braking\n",
    "num1 = Fbrk/Fbrk_1\n",
    "num1 = round(num1)+ 1\n",
    "#Considering the starting case.Tractive force required is\n",
    "Ft = 277.8*a*M*1.1 + M*r2\n",
    "#Therefore, Number of locomotives required for starting\n",
    "num2 = Ft/Fbrk_1\n",
    "#Number of locomotives required\n",
    "if num1>num2:\n",
    "    num = num1\n",
    "else:\n",
    "    num = num2\n",
    "print \"Total number of locomotives required are = \",round(num)"
   ]
  },
  {
   "cell_type": "markdown",
   "metadata": {},
   "source": [
    "## EXAMPLE 43.15 , PAGE NO :- 1729"
   ]
  },
  {
   "cell_type": "code",
   "execution_count": 13,
   "metadata": {
    "collapsed": false
   },
   "outputs": [
    {
     "name": "stdout",
     "output_type": "stream",
     "text": [
      "Scheduled speed =  32.9 Km/h.\n",
      "Specific energy consumption for up-gradient is =  69.08 Wh/t-km.\n",
      "Specific energy consumption for down-gradient is =  39.58 Wh/t-km\n"
     ]
    }
   ],
   "source": [
    "#A 200-tonne electric train runs according to the following quadrilateral speed/time curve:\n",
    "# 1. uniform acceleration from rest at 2 km/h/s for 30 seconds.\n",
    "# 2. coasting for 50 seconds\n",
    "# 3. duration of braking:15 seconds\n",
    "#If up-gradient is =1%,train resistance = 40N/t,rotational inertia effect = 10%,duration of stops = 15s and overall\n",
    "#efficiency of gear and motor = 75%,find\n",
    "#(i)schedule speed (ii)specific energy consumption (iii)how will the value of specific energy consumption change if\n",
    "#there is a down-gradient of 1% rather than the up-gradient ?\n",
    "########################################################################################################################\n",
    "\n",
    "#Given\n",
    "M = 200.0    #tonne   (Mass of train)\n",
    "Me = 1.1*200.0    #tonne   (rotational inertia effect on mass)\n",
    "alpha = 2.0  #km/h/s  (acceleration)\n",
    "t1 = 30.0    #s       (acceleration time)\n",
    "t2 = 50.0    #s       (coasting time)\n",
    "t3 = 15.0    #s       (braking time)\n",
    "G = 1.0      #        (% gradient)\n",
    "r = 40.0     #N/t     (train resistance)\n",
    "tstop = 15.0 #s       (stop time)\n",
    "meff = 0.75  #        (motor efficiency)\n",
    "\n",
    "V1 = alpha*t1   #km/h  (Max speed)\n",
    "#During coasting retardation force is\n",
    "Fr = 98*M*G + M*r      #N\n",
    "#Also this retardation force in terms of coasting retardation beta_c is\n",
    "#Fr = 277.8*Me*beta_c.Therefore,\n",
    "beta_c = Fr/(277.8*Me) #km/h/s\n",
    "#Using newton's Ist eqn in coasting period\n",
    "V2 = V1-beta_c*t2      #km/h\n",
    "\n",
    "#Braking retardation is\n",
    "beta = V2/t3\n",
    "#Distance travelled during acceleration\n",
    "dist1 = 0.5*alpha*t1*t1/3600    #m\n",
    "#Distance travelled during coasting\n",
    "dist2 =  (V1+V2)/2*t2/3600  #m\n",
    "#Distance travelled during braking\n",
    "dist3 = 0.5*beta*t3*t3/3600    #m\n",
    "#Total distance travelled\n",
    "D = dist1 + dist2 + dist3      #km\n",
    "#Total schedule time\n",
    "T = t1 + t2 + t3 + tstop       #s\n",
    "#(i)Schedule speed\n",
    "Vsch = D/T*3600                     #km/h\n",
    "print \"Scheduled speed = \",round(Vsch,1),\"Km/h.\"\n",
    "#(ii)Specific energy consumption is given by\n",
    "spengy = (0.01072*(V1*V1/D)*(Me/M) + 27.25*G*(dist1/D)+ 0.2778*r*(dist1/D))/meff  #Wh/t-km\n",
    "print  \"Specific energy consumption for up-gradient is = \",round(spengy,2),\"Wh/t-km.\"\n",
    "#If there is a down gradient then during coasting accelerative force is\n",
    "Fa = 98*M*(-G) + M*r\n",
    "#Also this accelerative force in terms of coasting acceleration alpha_c is\n",
    "#Fa = 277.8*Me*alpha_c.Therefore,\n",
    "alpha_c = Fa/(277.8*Me) #km/h/s\n",
    "#Using newton's Ist eqn in coasting period\n",
    "V2 = V1 - alpha_c*t2      #km/h\n",
    "#Braking retardation is\n",
    "beta = V2/t3\n",
    "#Distance travelled during acceleration\n",
    "dist1 = 0.5*alpha*t1*t1/3600    #m\n",
    "#Distance travelled during coasting\n",
    "dist2 =  (V1+V2)/2*t2/3600  #m\n",
    "#Distance travelled during braking\n",
    "dist3 = 0.5*beta*t3*t3/3600    #m\n",
    "#Total distance travelled\n",
    "D = dist1 + dist2 + dist3      #km\n",
    "#(iii)Specific energy consumption is given by\n",
    "spengy = (0.01072*(V1*V1/D)*(Me/M) - 27.25*G*(dist1/D)+ 0.2778*r*(dist1/D))/meff  #Wh/t-km\n",
    "print  \"Specific energy consumption for down-gradient is = \",round(spengy,2),\"Wh/t-km\""
   ]
  },
  {
   "cell_type": "markdown",
   "metadata": {},
   "source": [
    "## EXAMPLE 43.16 , PAGE NO :- 1730"
   ]
  },
  {
   "cell_type": "code",
   "execution_count": 4,
   "metadata": {
    "collapsed": false
   },
   "outputs": [
    {
     "data": {
      "image/png": "[encoded data removed]",
      "text/plain": [
       "<matplotlib.figure.Figure at 0x600a6b0>"
      ]
     },
     "metadata": {},
     "output_type": "display_data"
    }
   ],
   "source": [
    "#An electric train has an average speed of 45 kmph on a level track between stops 1500m apart.It is accelerated at\n",
    "#1.8km/h/s and is braked at 3 km/h/s.Draw the speed-time curve for the run.\n",
    "####################################################################################################################\n",
    "\n",
    "import math as m\n",
    "import matplotlib.pyplot as plt\n",
    "%matplotlib inline \n",
    "\n",
    "#Given\n",
    "alpha = 1.8         #km/h/s   (acceleration)\n",
    "beta  = 3.0         #km/h/s   (retardation)\n",
    "S = 1.5             #km       (Distance of run)\n",
    "Va = 45.0           #km/h     (Average speed)\n",
    "\n",
    "T = S/Va*3600       #s        (Time of run)\n",
    "\n",
    "#Constant K is given by\n",
    "K = 0.5*(1/alpha + 1/beta)\n",
    "#Max speed is given by\n",
    "Vm = T/(2*K)-m.sqrt(T*T/(4*K*K) - 3600*S/K)    #km/h\n",
    "#Acceleration time\n",
    "t1 = Vm/alpha       #s\n",
    "#Braking time\n",
    "t3 = Vm/beta       #s\n",
    "#Free running time\n",
    "t2 = T - (t1+t3)       #s\n",
    "\n",
    "#SPEED TIME CURVE\n",
    "\n",
    "plt.plot([0,t1,t1+t2,t1+t2+t3], [0,Vm,Vm,0])\n",
    "plt.ylabel('Speed(in km/h)')\n",
    "plt.xlabel('Time(in seconds)')\n",
    "plt.show()"
   ]
  },
  {
   "cell_type": "markdown",
   "metadata": {},
   "source": [
    "## EXAMPLE 43.17 , PAGE NO :- 1731"
   ]
  },
  {
   "cell_type": "code",
   "execution_count": 2,
   "metadata": {
    "collapsed": false
   },
   "outputs": [
    {
     "name": "stdout",
     "output_type": "stream",
     "text": [
      "Maximum Speed is 72.85 Km/h.\n"
     ]
    }
   ],
   "source": [
    "#A train has schedule speed of 60 km per hour between the stops which are 9 km apart.Determine the crest speed over\n",
    "#the run,assuming trapezoidal speed-time curve.The train accelerates at 3km/h/s and retards at 4.5 km/h/s.Duration\n",
    "#of stops is 75 seconds.\n",
    "#########################################################################################################################\n",
    "import math as m\n",
    "\n",
    "#Given\n",
    "alpha = 3.0    #km/h/s    (acceleration)\n",
    "beta = 4.5     #Km/h/s    (retardation)\n",
    "S = 9.0        #km        (distance)\n",
    "Vsch = 60.0    #km/h      (schedule speed)\n",
    "\n",
    "Tsch = S/Vsch*3600  #s         (schedule time)\n",
    "T = Tsch - 75.0     #s         (time of run)\n",
    "#Constant K is\n",
    "K = 0.5*(1/alpha + 1/beta)\n",
    "\n",
    "#Maximum speed Vm is\n",
    "Vm = (T/(2*K)) - m.sqrt(T*T/(4*K*K) - 3600*S/K)\n",
    "\n",
    "print \"Maximum Speed is\",round(Vm,2),\"Km/h.\""
   ]
  },
  {
   "cell_type": "markdown",
   "metadata": {},
   "source": [
    "## EXAMPLE 43.18 , PAGE NO :- 1732"
   ]
  },
  {
   "cell_type": "code",
   "execution_count": 3,
   "metadata": {
    "collapsed": false
   },
   "outputs": [
    {
     "name": "stdout",
     "output_type": "stream",
     "text": [
      "Schedule speed is 60.0 km/h.\n"
     ]
    }
   ],
   "source": [
    "#An electric train is to have acceleration and braking retardation of 1.2 km/h/s and 4.8 km/h/s respectively.If the ratio of\n",
    "#maximum to average speed is 1.6 and time for stop is 35 seconds,find schedule speed for a run of 3km.Assume simplified\n",
    "#trapezoidal speed-time curve.\n",
    "#############################################################################################################################\n",
    "import math as m\n",
    "alpha = 1.2    #km/h/s       (acceleration)\n",
    "beta =  4.8    #km/h/s       (retardation)\n",
    "S = 3.0        #km           (distance)\n",
    "\n",
    "#Constant K is\n",
    "K = 0.5*(1/alpha + 1/beta)\n",
    "\n",
    "#The average speed is Va  = S/T . Therefore Va*T = S*3600\n",
    "Va_T = S*3600       \n",
    "#Now Vm/Va = 1.6 .Therefore,\n",
    "Vm_T = Va_T*1.6\n",
    "\n",
    "#Since, Vm^2*K - Vm*T + 3600*S = 0, Therefore\n",
    "#Vm^2 = Vm*T - 3600*S\n",
    "Vm = m.sqrt((Vm_T - 3600*S)/K)   #km/h\n",
    "#Average Speed is\n",
    "Va = Vm/1.5                  #km/h\n",
    "#Actual Time of Run\n",
    "T = 3600*S/Va              #s\n",
    "#Schedule Time\n",
    "Tsch = T + 35.0              #s\n",
    "#Schedule Speed\n",
    "Vsch = S/Tsch*3600                #km/h\n",
    "print \"Schedule speed is\",round(Vsch),\"km/h.\" "
   ]
  },
  {
   "cell_type": "markdown",
   "metadata": {},
   "source": [
    "## EXAMPLE 43.19 , PAGE NO :- 1732"
   ]
  },
  {
   "cell_type": "code",
   "execution_count": 3,
   "metadata": {
    "collapsed": false
   },
   "outputs": [
    {
     "name": "stdout",
     "output_type": "stream",
     "text": [
      "The rate of acceleration required to operate this service = 1.85 km/h/s.\n"
     ]
    }
   ],
   "source": [
    "#An electric train has a schedule speed of 25 kmph between stations 800m apart.The duration of stop is 20 seconds,the\n",
    "#maximum speed is 20 percent higher than the average running speed and the braking retardation is 3 km/h/s.Calculate\n",
    "#the rate of acceleration required to operate this service.\n",
    "###################################################################################################################\n",
    "\n",
    "#Given\n",
    "Vsch = 25.0  #km/h       (Schedule speed)\n",
    "S = 0.8      #km         (Distance)\n",
    "beta = 3.0   #km/h/s     (Retardation)\n",
    "\n",
    "Tsch = S/Vsch*3600 #s\n",
    "\n",
    "#Actual time of run = Tsch - (time of stop)\n",
    "T = Tsch - 20.0  #s\n",
    "Va = S/T*3600    #km/h   (Average speed)\n",
    "Vm = 1.2*Va     #km/h   (Maximum speed)\n",
    "\n",
    "#Since, Vm^2*K -Vm*T + 3600*S = 0\n",
    "#Constant K = (Vm*T - 3600*S)/(Vm^2)\n",
    "K = (Vm*T - 3600*S)/(Vm*Vm)\n",
    "\n",
    "#Also,K = 0.5*(1/alpha + 1/beta).Therefore,\n",
    "alpha = 1/(2*K - 1/beta)     #km/h/s\n",
    "\n",
    "print \"The rate of acceleration required to operate this service =\",round(alpha,2),\"km/h/s.\""
   ]
  },
  {
   "cell_type": "markdown",
   "metadata": {},
   "source": [
    "## EXAMPLE 43.20 , PAGE NO :- 1733"
   ]
  },
  {
   "cell_type": "code",
   "execution_count": 4,
   "metadata": {
    "collapsed": false
   },
   "outputs": [
    {
     "name": "stdout",
     "output_type": "stream",
     "text": [
      "Retardation = 0.51 km/h/s.\n"
     ]
    }
   ],
   "source": [
    "#A suburban electric train has a maximum speed of 80 kmph.The schedule speed including a station stop of 35 seconds is 50kmph.\n",
    "#If the acceleration is 1.5 km/h/s,find the value of retardation when the average distance between stops is 5 km.\n",
    "################################################################################################################################\n",
    "\n",
    "#Given\n",
    "Vsch = 50.0    #km/h       (schedule speed)\n",
    "S = 5.0        #km         (distance)\n",
    "alpha = 1.5    #km/h/s     (acceleration) \n",
    "Vm = 80.0      #km/h       (Max speed)\n",
    "tstop = 30.0   #s          (Time of stop)\n",
    "\n",
    "\n",
    "Tsch = S/Vsch*3600    #s   (Schedule time)\n",
    "T = Tsch - tstop      #s   (Actual time of run)\n",
    "\n",
    "#Since, Vm^2*K -Vm*T + 3600*S = 0\n",
    "#Constant K = (Vm*T - 3600*S)/(Vm^2)\n",
    "K = (Vm*T - 3600*S)/(Vm*Vm)\n",
    "\n",
    "#Also,K = 0.5*(1/alpha + 1/beta).Therefore,\n",
    "beta = 1/(2*K - 1/alpha)     #km/h/s\n",
    "\n",
    "print \"Retardation =\",round(beta,2),\"km/h/s.\""
   ]
  },
  {
   "cell_type": "markdown",
   "metadata": {
    "collapsed": true
   },
   "source": [
    "## EXAMPLE 43.21 , PAGE NO :- 1733"
   ]
  },
  {
   "cell_type": "code",
   "execution_count": 11,
   "metadata": {
    "collapsed": false
   },
   "outputs": [
    {
     "name": "stdout",
     "output_type": "stream",
     "text": [
      "Duration of acceleration =  32.0 s.\n",
      "Duration of coasting retardation =  96.84 s.\n",
      "Duration of braking retardation =  15.16 s.\n"
     ]
    }
   ],
   "source": [
    "#A train is required to run between two stations 1.6 km apart at the average speed of 40 kmph.The run is to be made to a\n",
    "#simplified quadrilateral speed-time curve.If the maximum speed is to be limited to 64 kmph,accelerating to 2 km/h/s and\n",
    "#coasting and braking retardation to 0.16 km/h/s and 3.2 km/h/s respectively,determine the duration of acceleration,coasting\n",
    "#and braking periods.\n",
    "#################################################################################################################################\n",
    "from sympy import Eq,Symbol,solve\n",
    "#Given\n",
    "S = 1.6       #km         (Distance)\n",
    "Va = 40.0     #km/h       (Average speed)\n",
    "Vm = 64.0     #km/h       (Maximum speed)\n",
    "alpha = 2.0   #km/h/s     (Acceleration)\n",
    "beta_c = 0.16 #km/h/s     (Coasting retardation)\n",
    "beta = 3.2    #km/h/s     (braking retardation)\n",
    "\n",
    "T = S/Va*3600      #s          (Actual time of run)\n",
    "t1 = Vm/alpha #s          (acceleration time)\n",
    "#Let us assume the speed at starting of braking be V2\n",
    "V2 = Symbol('V2')\n",
    "t2 = (Vm-V2)/beta_c    #s   (coasting period)\n",
    "t3 = V2/beta           #s   (braking period)\n",
    "eq = Eq(t1+t2+t3,T)\n",
    "V2 = solve(eq)\n",
    "Ve2 = V2[0]\n",
    "#Therfore coasting and braking periods are\n",
    "t2 = (Vm-Ve2)/beta_c    #s   (coasting period)\n",
    "t3 = Ve2/beta           #s   (braking period)\n",
    "\n",
    "print \"Duration of acceleration = \",round(t1,2),\"s.\"\n",
    "print \"Duration of coasting retardation = \",round(t2,2),\"s.\"\n",
    "print \"Duration of braking retardation = \",round(t3,2),\"s.\""
   ]
  },
  {
   "cell_type": "markdown",
   "metadata": {},
   "source": [
    "## EXAMPLE 43.22 , PAGE NO :- 1737"
   ]
  },
  {
   "cell_type": "code",
   "execution_count": 9,
   "metadata": {
    "collapsed": false
   },
   "outputs": [
    {
     "name": "stdout",
     "output_type": "stream",
     "text": [
      "Speed-Armature current graph\n"
     ]
    },
    {
     "data": {
      "image/png": "[encoded data removed]",
      "text/plain": [
       "<matplotlib.figure.Figure at 0x6499410>"
      ]
     },
     "metadata": {},
     "output_type": "display_data"
    }
   ],
   "source": [
    "#The torque-armature current characteristics of a series traction motor are given as:\n",
    "#Armature Current(amp): 5        10          15         20        25        30        35        40\n",
    "#Torque(N-m):           20       50          100        155       215       290       360       430\n",
    "#The motor resistance is 0.3 ohm.If this motor is connected across 230V,deduce the speed armature current characteristics.\n",
    "############################################################################################################################\n",
    "\n",
    "import matplotlib.pyplot as plt\n",
    "%matplotlib inline\n",
    "#Given\n",
    "V = 230    #V          (Supply voltage)\n",
    "r = 0.3   #ohm         (Motor resistance)\n",
    "\n",
    "#Current Data Ia\n",
    "i1 = 5.0   #A\n",
    "i2 = 10.0   #A\n",
    "i3 = 15.0   #A\n",
    "i4 = 20.0   #A\n",
    "i5 = 25.0   #A\n",
    "i6 = 30.0   #A\n",
    "i7 = 35.0   #A\n",
    "i8 = 40.0   #A\n",
    "\n",
    "#Torque Data  \n",
    "tau1 = 20.0   #N-m\n",
    "tau2 = 50.0   #N-m\n",
    "tau3 = 100.0  #N-m\n",
    "tau4 = 155.0  #N-m\n",
    "tau5 = 215.0  #N-m\n",
    "tau6 = 290.0  #N-m\n",
    "tau7 = 360.0  #N-m\n",
    "tau8 = 430.0  #N-m\n",
    "\n",
    "#Back EMF Eb = V - Ia*r\n",
    "e1 = V - i1*r        #V\n",
    "e2 = V - i2*r        #V\n",
    "e3 = V - i3*r        #V\n",
    "e4 = V - i4*r        #V\n",
    "e5 = V - i5*r        #V\n",
    "e6 = V - i6*r        #V\n",
    "e7 = V - i7*r        #V\n",
    "e8 = V - i8*r        #V\n",
    "\n",
    "\n",
    "#Speed Na = 9.55*Eb*Ia/T\n",
    "N1 = 9.55*e1*i1/tau1      #rpm\n",
    "N2 = 9.55*e2*i2/tau2      #rpm\n",
    "N3 = 9.55*e3*i3/tau3      #rpm\n",
    "N4 = 9.55*e4*i4/tau4      #rpm\n",
    "N5 = 9.55*e5*i5/tau5      #rpm\n",
    "N6 = 9.55*e6*i6/tau6      #rpm\n",
    "N7 = 9.55*e7*i7/tau7      #rpm\n",
    "N8 = 9.55*e8*i8/tau8      #rpm\n",
    "\n",
    "print \"Speed-Armature current graph\"\n",
    "\n",
    "plt.plot([i1,i2,i3,i4,i5,i6,i7,i8], [N1,N2,N3,N4,N5,N6,N7,N8])\n",
    "plt.axis([0,40,0,600])\n",
    "plt.ylabel('Speed(in r.p.m)')\n",
    "plt.xlabel('Armature current Ia(in A)')\n",
    "plt.show()"
   ]
  },
  {
   "cell_type": "markdown",
   "metadata": {},
   "source": [
    "## EXAMPLE 43.23 , PAGE NO :- 1737"
   ]
  },
  {
   "cell_type": "code",
   "execution_count": 12,
   "metadata": {
    "collapsed": false
   },
   "outputs": [
    {
     "name": "stdout",
     "output_type": "stream",
     "text": [
      "Speed - Torque Curve\n"
     ]
    },
    {
     "data": {
      "image/png": "[encoded data removed]",
      "text/plain": [
       "<matplotlib.figure.Figure at 0x61bc230>"
      ]
     },
     "metadata": {},
     "output_type": "display_data"
    }
   ],
   "source": [
    "#The following figures give the magnetization curve of d.c. series motor when working as a seperately excited generator at 600 rpm.\n",
    "#Field Current(amperes) :   20          40         60         80\n",
    "#E.M.F(volts):              215         381        485        550\n",
    "#The total resistance of the motor is 0.8 ohm.Deduce the speed-torque curve for this motor when operating at a constant voltage of\n",
    "#600 volts.\n",
    "################################################################################################################################\n",
    "\n",
    "#Given\n",
    "V = 600.0   #V       (Supply voltage)\n",
    "r = 0.8     #ohm     (total motor resistance)\n",
    "\n",
    "#Field Current Data(If=Ia)\n",
    "i1 = 20.0    #A\n",
    "i2 = 40.0    #A\n",
    "i3 = 60.0    #A\n",
    "i4 = 80.0    #A\n",
    "\n",
    "#E.M.F data at 600 rpm(E)\n",
    "e1 = 215.0    #V\n",
    "e2 = 381.0    #V\n",
    "e3 = 485.0    #V\n",
    "e4 = 550.0    #V\n",
    "\n",
    "#At constant voltage of 600V. EMF are Eb = V - Ia*Rm\n",
    "eb1 = V - i1*r   #V\n",
    "eb2 = V - i2*r   #V\n",
    "eb3 = V - i3*r   #V\n",
    "eb4 = V - i4*r   #V\n",
    "\n",
    "#For DC series motor  N1/E1 = N2/E2 . Therefore N2 = N/E*Eb\n",
    "n1 = 600/e1*eb1     #rpm\n",
    "n2 = 600/e2*eb2     #rpm\n",
    "n3 = 600/e3*eb3     #rpm\n",
    "n4 = 600/e4*eb4     #rpm\n",
    "\n",
    "#Now, Torque T = 9.55*Eb*Ia/N2\n",
    "tau1 = 9.55*eb1*i1/n1    #N-m\n",
    "tau2 = 9.55*eb2*i2/n2    #N-m\n",
    "tau3 = 9.55*eb3*i3/n3    #N-m\n",
    "tau4 = 9.55*eb4*i4/n4    #N-m\n",
    "\n",
    "print \"Speed - Torque Curve\"\n",
    "\n",
    "plt.plot([tau1,tau2,tau3,tau4], [n1,n2,n3,n4])\n",
    "#plt.axis([0,40,0,600])\n",
    "plt.ylabel('Speed(in r.p.m)')\n",
    "plt.xlabel('Torque T(in N-m)')\n",
    "plt.show()"
   ]
  },
  {
   "cell_type": "markdown",
   "metadata": {
    "collapsed": true
   },
   "source": [
    "## EXAMPLE 43.24 , PAGE NO :- 1738"
   ]
  },
  {
   "cell_type": "code",
   "execution_count": 2,
   "metadata": {
    "collapsed": false
   },
   "outputs": [
    {
     "name": "stdout",
     "output_type": "stream",
     "text": [
      "Speed of both motors is =  447.87 rpm.\n",
      "Voltage across motor A is =  256.35 V.\n",
      "Voltage across motor B is =  243.65 V.\n"
     ]
    }
   ],
   "source": [
    "#Two d.c. traction motors run at a speed of 900 r.p.m and 950 r.p.m respectively when each takes a current of 50A from 500V mains.\n",
    "#Each motor has an effective resistance of 0.3 ohm . Calculate the speed and voltage across each machine when mechanically coupled\n",
    "#and electrically connected in series and taking a current of 50A from 500V mains,the resistance of each motor being unchanged.\n",
    "#################################################################################################################################\n",
    "from sympy import Eq,Symbol,solve\n",
    "#Let the two motors be A and B .\n",
    "Na = 900.0    #rpm       (speed of motor A)\n",
    "Nb = 950.0    #rpm       (speed of motor B)\n",
    "r =  0.3      #ohm       (resistance of each motor)\n",
    "V = 500.0     #V         (applied voltage)\n",
    "I = 50.0     #A         (current)\n",
    "\n",
    "#Back emf of motor A when taking current of 50A,\n",
    "Eb_a = V - I*r      #V\n",
    "#Back emf of motor B when taking current of 50A,\n",
    "Eb_b = V - I*r      #V\n",
    "\n",
    "#As the machines are mechanically coupled and are connected in series. Therefore,\n",
    "#speed will be same. Say 'N'\n",
    "#current will be same and equal to 50A\n",
    "#summation of voltage drop is 500V\n",
    "\n",
    "N = Symbol('N')    #rpm\n",
    "#Let the voltage drop across motors be Va & Vb .Therefore,for Va & Vb we will find back emf of both motors\n",
    "eb_A = Eb_a*N/Na           #V            (using  N1/N2 = E1/E2)\n",
    "eb_B= Eb_b*N/Nb            #V            (using  N1/N2 = E1/E2)\n",
    "\n",
    "#For Va & Vb \n",
    "Va =  eb_A + I*r          #V            (using Eb = V - Ia*r)\n",
    "Vb =  eb_B + I*r          #V            (using Eb = V - Ia*r)\n",
    "\n",
    "#We know that Va + Vb = 500 . Therefore,\n",
    "eq = Eq(Va+Vb,V)\n",
    "N = solve(eq)\n",
    "Ne = N[0]\n",
    "\n",
    "#As we know the speed N . Therefore, Va & Vb are\n",
    "eb_A = Eb_a*Ne/Na           #V            (using  N1/N2 = E1/E2)\n",
    "eb_B= Eb_b*Ne/Nb            #V            (using  N1/N2 = E1/E2)\n",
    "\n",
    "Va =  eb_A + I*r          #V            (using Eb = V - Ia*r)\n",
    "Vb =  eb_B + I*r          #V            (using Eb = V - Ia*r)\n",
    "\n",
    "print \"Speed of both motors is = \",round(Ne,2),\"rpm.\"\n",
    "print \"Voltage across motor A is = \",round(Va,2),\"V.\"\n",
    "print \"Voltage across motor B is = \",round(Vb,2),\"V.\""
   ]
  },
  {
   "cell_type": "markdown",
   "metadata": {},
   "source": [
    "## EXAMPLE 43.25 , PAGE NO :- 1739"
   ]
  },
  {
   "cell_type": "code",
   "execution_count": 5,
   "metadata": {
    "collapsed": false
   },
   "outputs": [
    {
     "name": "stdout",
     "output_type": "stream",
     "text": [
      "Current drawn by supply mains is = 138.32 A.\n"
     ]
    }
   ],
   "source": [
    "#A tram  car is equipped with two motors which are operating in parallel.Calculate the current drawn from the supply main at 500 V\n",
    "#when the car is running at steady speed of 50kmph and each motor is developing a tractive effort of 2100 N.The resistance of each \n",
    "#motor is 0.4 ohm.The friction,windage and other losses may be assumed as 3500 watts per motor.\n",
    "#################################################################################################################################\n",
    "from sympy import Eq,Symbol,solve\n",
    "\n",
    "V = 500.0      #V         (applied voltage)\n",
    "Vm = 50.0      #km/h      (max. speed)\n",
    "Ft = 2100      #N         (tractive effort)\n",
    "Rm = 0.4       #ohm       (motor resistance)\n",
    "mloss = 3500.0 #W       (losses per motor)\n",
    "\n",
    "#Power output of each motor\n",
    "Pout = Ft*Vm*5.0/18  #W\n",
    "#Copper loss = I^2*Rm\n",
    "I = Symbol('I')\n",
    "cu_loss = (I*I)*Rm   #W\n",
    "#Input power = Output power + constant losses + Copper losses\n",
    "Pin = V*I            #W\n",
    "eq = Eq(Pin,Pout+mloss+cu_loss)\n",
    "I = solve(eq)        #A\n",
    "#current drawn by motor is\n",
    "Ie = I[0]            #A\n",
    "#Therefore,current drawn by supply mains\n",
    "Ie = 2*Ie            #A\n",
    "print \"Current drawn by supply mains is =\",round(Ie,2),\"A.\""
   ]
  },
  {
   "cell_type": "markdown",
   "metadata": {},
   "source": [
    "## EXAMPLE 43.26 , PAGE NO :- 1740"
   ]
  },
  {
   "cell_type": "code",
   "execution_count": 8,
   "metadata": {
    "collapsed": false
   },
   "outputs": [
    {
     "name": "stdout",
     "output_type": "stream",
     "text": [
      "Speed of first motor is = 217.17 rpm.\n",
      "Speed of second motor is = 227.27 rpm.\n"
     ]
    }
   ],
   "source": [
    "#A motor coach is being driven by two identical d.c. series motors.First motor is geared to driving wheel having diameter of 90cm and\n",
    "#other motor to driving wheel having diameter of 86cm.The speed of the first motor is 500 rpm when connected in parallel with the other\n",
    "#across 600V supply.Find the motor speeds when connected in series across the same supply.Assume armature current to remain same and\n",
    "#armature voltage drop of 10% at this current.\n",
    "###############################################################################################################################\n",
    "from sympy import Eq,Symbol,solve\n",
    "#Given\n",
    "V = 600.0     #V         (applied voltage)\n",
    "d1= 0.90      #m         (diameter 1) \n",
    "d2 = 0.86     #m         (diameter 2) \n",
    "N1 = 500.0    #rpm       (Speed of first motor)\n",
    "\n",
    "Eb1 = V-0.1*V #V         (Back emf)\n",
    "\n",
    "#Let the supply voltage across motor 1 & 2 be V1 and V2 respectively\n",
    "#Therefore, V1 + V2 = 600\n",
    "V1 = Symbol('V1')        #V\n",
    "V2 = V - V1              #V\n",
    "\n",
    "#Now , N is directly propotional to (V - IR).Therefore, ratio (N1/N2) is\n",
    "\n",
    "Nratio1 = (V1 - 0.1*V)/(V2 - 0.1*V)\n",
    "\n",
    "#Also, we know that N1*d1 = N2*d2 . Therefore (N1/N2) is\n",
    "Nratio2 = d2/d1\n",
    "\n",
    "#As, N1/N2 = Nratio1 = Nratio2\n",
    "eq = Eq(Nratio1,Nratio2)\n",
    "V1 = solve(eq)\n",
    "Ve1 = V1[0]            #V\n",
    "Ve2 = V - Ve1           #V\n",
    "#Now , for the speed of motor 1, we know that for N1 ,back emf is Eb1 and for Ne1 ,back emf is (Ve1-0.1*Ve1)\n",
    "Ne1 = N1*(Ve1 - 0.1*V)/Eb1         #rpm     (using N1/N2 = E1/E2)\n",
    "#Nratio is Ne1/Ne2 .Therefore,\n",
    "Ne2 = Ne1/Nratio2                    #rpm\n",
    "\n",
    "print \"Speed of first motor is =\",round(Ne1,2),\"rpm.\"\n",
    "print \"Speed of second motor is =\",round(Ne2,2),\"rpm.\""
   ]
  },
  {
   "cell_type": "markdown",
   "metadata": {
    "collapsed": true
   },
   "source": [
    "## EXAMPLE 43.27 , PAGE NO :- 1741"
   ]
  },
  {
   "cell_type": "code",
   "execution_count": 7,
   "metadata": {
    "collapsed": false
   },
   "outputs": [
    {
     "name": "stdout",
     "output_type": "stream",
     "text": [
      "Speed of first motor is = 173.74 rpm.\n",
      "Speed of second motor is = 181.82 rpm.\n"
     ]
    }
   ],
   "source": [
    "#Two similar series type motors are used to drive a locomotive.The supply fed to their parallel connection is 650V.If the first \n",
    "#motor 'A' is geared to drive wheels of radius 45 cms and other motor 'B' to 43 cms.And if the speed of first motor 'A' when\n",
    "#connected in parallel to 2nd motor 'B' across the main supply lines is 400 rpm,find voltages and speeds of motors when connected\n",
    "#in series.Assume Ia to be constant and armature voltage drop of 10% at this current.\n",
    "################################################################################################################################\n",
    "\n",
    "from sympy import Eq,Symbol,solve\n",
    "#Given\n",
    "V  = 650.0     #V         (applied voltage)\n",
    "r1 = 0.45      #m         (radius 1) \n",
    "r2 = 0.43      #m         (radius 2) \n",
    "Na = 400.0     #rpm       (Speed of first motor)\n",
    "\n",
    "Eb_a = V-0.1*V #V         (Back emf)\n",
    "\n",
    "#Let the supply voltage across motor A & B be Va and Vb respectively\n",
    "#Therefore, Va + Vb = 650.0 V\n",
    "Va = Symbol('Va')        #V\n",
    "Vb = V - Va              #V\n",
    "\n",
    "#Now , N is directly propotional to (V - IR).Therefore, ratio (N1/N2) is\n",
    "\n",
    "Nratio1 = (Va - 0.1*V)/(Vb - 0.1*V)\n",
    "\n",
    "#Also, we know that N1*r1 = N2*r2 . Therefore (N1/N2) is\n",
    "Nratio2 = r2/r1\n",
    "\n",
    "#As, N1/N2 = Nratio1 = Nratio2\n",
    "eq = Eq(Nratio1,Nratio2)\n",
    "Va = solve(eq)\n",
    "Vea = Va[0]            #V\n",
    "Veb = V - Vea           #V\n",
    "\n",
    "#Now , for the speed of motor A, we know that for Na ,back emf is Eb_a and for Nea ,back emf is (Vea-0.1*Vea)\n",
    "Nea = Na*(Vea - 0.1*V)/Eb_a         #rpm     (using N1/N2 = E1/E2)\n",
    "#Nratio is Ne1/Ne2 .Therefore,\n",
    "Neb = Nea/Nratio2                    #rpm\n",
    "\n",
    "print \"Speed of first motor is =\",round(Nea,2),\"rpm.\"\n",
    "print \"Speed of second motor is =\",round(Neb,2),\"rpm.\""
   ]
  },
  {
   "cell_type": "markdown",
   "metadata": {
    "collapsed": true
   },
   "source": [
    "## EXAMPLE 43.28 , PAGE NO :- 1744"
   ]
  },
  {
   "cell_type": "code",
   "execution_count": 9,
   "metadata": {
    "collapsed": false
   },
   "outputs": [
    {
     "name": "stdout",
     "output_type": "stream",
     "text": [
      "Time for which motors are operated in series =  8.44 s.\n",
      "Energy loss during starting period =  480.01 W-h.\n"
     ]
    }
   ],
   "source": [
    "#Two motors of a motor coach are started on series-parallel system,the current per motor being 350A during the starting period\n",
    "#which is 18 sec.If the acceleration during starting period is uniform,the line voltage is 600V and resistance of each motor is\n",
    "#0.1W.Find (a)the time during which the motors are operated in series. (b)the energy loss in the rheostat during starting period.\n",
    "#####################################################################################################################################\n",
    "\n",
    "#Given\n",
    "V = 600.0    #V     (line voltage)\n",
    "I = 350.0    #A     (current)\n",
    "R = 0.1      #ohm   (resistance)\n",
    "T = 18.0     #s     (starting period)\n",
    "\n",
    "#time for which motors are in series\n",
    "ts = 0.5*(V-2*I*R)/(V-I*R)*T   #s\n",
    "\n",
    "#time for which motors are in parallel\n",
    "tp = T - ts                    #s\n",
    "\n",
    "#back emf of 1 motor during series operation\n",
    "Eb_s = V/2 - I*R               #V\n",
    "#total back emf\n",
    "Eb_s = 2*Eb_s                  #V\n",
    "#Emf during parallel operation\n",
    "Eb_p = V - I*R              #V\n",
    "\n",
    "#Energy lost during series connection\n",
    "enrgy_s = 0.5*(Eb_s)*I*ts/3600          #W-h\n",
    "#Energy lost during parallel connection\n",
    "enrgy_p = 0.5*(Eb_p/2)*(2*I)*tp/3600    #W-h\n",
    "\n",
    "#Total energy lost\n",
    "enrgy_t = enrgy_s + enrgy_p        #W-h\n",
    "\n",
    "print \"Time for which motors are operated in series = \",round(ts,2),\"s.\"\n",
    "print \"Energy loss during starting period = \",round(enrgy_t,2),\"W-h.\""
   ]
  },
  {
   "cell_type": "markdown",
   "metadata": {},
   "source": [
    "## EXAMPLE 43.29 , PAGE NO :- 1749"
   ]
  },
  {
   "cell_type": "code",
   "execution_count": 1,
   "metadata": {
    "collapsed": false
   },
   "outputs": [
    {
     "name": "stdout",
     "output_type": "stream",
     "text": [
      "Energy lost in rheostat =  441.02 W-h.\n",
      "Energy lost in motor =  75.0 W-h.\n",
      "Motor output = 909.77 W-h.\n",
      "Efficiency at starting = 69.07 %.\n",
      "Train speed at which transition from series to parallel =  11.98 km/h.\n"
     ]
    }
   ],
   "source": [
    "#Two 750V D.C. series motors each having a resistance of 0.1 ohm are started on series-parallel system.Mean current through-out \n",
    "#the starting period is 300A.Starting period is 15 sec. and train speed at the end of this period is 25 km/hr.Calculate\n",
    "#(i)Rheostatic losses during series and parallel combination of motors\n",
    "#(ii)Energy lost in motor\n",
    "#(iii)Motor output\n",
    "#(iv)Starting eff\n",
    "#(v)Train speed at which transition from series to parallel must be made.\n",
    "##############################################################################################################################\n",
    "\n",
    "V = 750.0           #V   (applied voltage)\n",
    "R = 0.1             #ohm (resistance)\n",
    "I = 300.0           #A   (current) \n",
    "T = 15.0            #s   (starting time)\n",
    "S = 25.0            #km/h(speed after staring period)\n",
    "\n",
    "#Time when motors are in series\n",
    "ts = 0.5*(V-2*I*R)/(V-I*R)*T          #s\n",
    "#Time when motors are in parallel\n",
    "tp = T - ts                           #s\n",
    "\n",
    "#(i)Energy lost in rheostat\n",
    "enrgy_lostr = 0.5*(2*(V/2-I*R))*I*ts + 0.5*(V-I*R)/2*2*I*tp       #W-s\n",
    "enrgy_lostr = enrgy_lostr/3600                                          #W-h\n",
    "\n",
    "#(ii)Total energy supplied\n",
    "enrgy_supp = V*I*ts + 2*V*I*tp     #W-s\n",
    "enrgy_supp = enrgy_supp/3600       #W-h\n",
    "\n",
    "#Energy lost in armature of 2 motors\n",
    "enrgy_losta = 2*(I*I*R)*T\n",
    "enrgy_losta = enrgy_losta/3600      #W-h\n",
    "\n",
    "#Motor output is\n",
    "outp = enrgy_supp - enrgy_lostr - enrgy_losta    #W-h\n",
    "\n",
    "#Efficiency at starting\n",
    "eff_s = (enrgy_supp-enrgy_lostr)/(enrgy_supp)*100\n",
    "\n",
    "#Acceleraton is uniform during starting period .Therefore,\n",
    "speed = S/T*ts                 #km/h\n",
    "print \"Energy lost in rheostat = \",round(enrgy_lostr,2),\"W-h.\"\n",
    "print \"Energy lost in motor = \",round(enrgy_losta,2),\"W-h.\"\n",
    "print \"Motor output =\",round(outp,2),\"W-h.\"\n",
    "print \"Efficiency at starting =\",round(eff_s,2),\"%.\"\n",
    "print \"Train speed at which transition from series to parallel = \",round(speed,2),\"km/h.\""
   ]
  },
  {
   "cell_type": "markdown",
   "metadata": {},
   "source": [
    "## EXAMPLE 43.30 , PAGE NO :- 1750"
   ]
  },
  {
   "cell_type": "code",
   "execution_count": 2,
   "metadata": {
    "collapsed": false
   },
   "outputs": [
    {
     "name": "stdout",
     "output_type": "stream",
     "text": [
      "Energy loss in series = 213.16 W-h.\n",
      "Energy loss in parallel = 263.16 W-h.\n",
      "The transition speed =  14.21 km/h.\n"
     ]
    }
   ],
   "source": [
    "#Two 600V motors each having a resistance of 0.1 ohm are started on the series-parallel system,the mean current per motor throughout\n",
    "#the starting period being 300A.The starting period is 20 seconds and the train speed at the end of this period is 30km per hour.\n",
    "Calculate\n",
    "#(i)the rheostatic losses during (a)the series and (b) the parallel combination of motors\n",
    "#(ii)the train speed at which transition from series to parallel must be made.\n",
    "###############################################################################################################################\n",
    "\n",
    "num_m = 2          #            (number of motors)\n",
    "V = 600.0          #V           (line voltage)\n",
    "I = 300.0          #A           (current per motor)\n",
    "Ts = 20.0          #s           (starting period)\n",
    "R = 0.1            #ohm         (motor resistance)\n",
    "Vm = 30.0          #km/h        (maximum speed)\n",
    "\n",
    "#Back emf of each motor in series position,\n",
    "Eb_s = V/2 - I*R   #V\n",
    "#Back emf of each motor in parallel position,\n",
    "Eb_p = V - I*R     #V\n",
    "#time for which motors were in series\n",
    "ts = Ts*Eb_s/Eb_p  #s\n",
    "#time for which motors are in parallel\n",
    "tp = Ts - ts       #s\n",
    "\n",
    "#(a) Voltage drop in the starting rheostat in series combination\n",
    "V_s = V - 2*I*R                  #V\n",
    "#Energy loss in  series is\n",
    "enrgy_s = (V_s/2)*I*(ts/3600)      #W-h\n",
    "#(b) Voltage drop in the starting rheostat in parallel combination\n",
    "V_p = V/2                        #V\n",
    "#Energy loss in  parallel is\n",
    "enrgy_p = (V_p/2)*(2*I)*(tp/3600)\n",
    "\n",
    "#Acceleration is\n",
    "acc = Vm/Ts                #km/h/s\n",
    "#Speed at the end of series period\n",
    "speed = acc*ts             #km/h\n",
    "\n",
    "print \"Energy loss in series =\",round(enrgy_s,2),\"W-h.\"\n",
    "print \"Energy loss in parallel =\",round(enrgy_p,2),\"W-h.\"\n",
    "print \"The transition speed = \",round(speed,2),\"km/h.\""
   ]
  },
  {
   "cell_type": "markdown",
   "metadata": {},
   "source": [
    "## EXAMPLE 43.31 , PAGE NO :- 1751"
   ]
  },
  {
   "cell_type": "code",
   "execution_count": 3,
   "metadata": {
    "collapsed": false
   },
   "outputs": [
    {
     "name": "stdout",
     "output_type": "stream",
     "text": [
      "Period of series operation =  11.36 s.\n",
      "Period of parallel operation =  13.64 s.\n",
      "Speed at which series connection are to be changed =  36.36 km/h.\n"
     ]
    }
   ],
   "source": [
    "#Two d.c. series motors of a motor coach have resistance of 0.1ohm each.These motors draw a current of 500A from 600V mains during\n",
    "#series-parallel starting period of 25 seconds.If the acceleration during starting period remains uniform,determine:\n",
    "#(i)time during which the motors operate in (a)series (b)parallel.\n",
    "#(ii)the speed at which the series connections are to be changed if the speed just after starting period is 80kmph.\n",
    "####################################################################################################################################\n",
    "\n",
    "\n",
    "num_m = 2          #            (number of motors)\n",
    "V = 600.0          #V           (line voltage)\n",
    "I = 500.0          #A           (current per motor)\n",
    "Ts = 25.0          #s           (starting period)\n",
    "R = 0.1            #ohm         (motor resistance)\n",
    "Vm = 80.0          #km/h        (maximum speed)\n",
    "\n",
    "#Back emf of each motor in series position,\n",
    "Eb_s = V/2 - I*R   #V\n",
    "#Back emf of each motor in parallel position,\n",
    "Eb_p = V - I*R     #V\n",
    "#time for which motors were in series\n",
    "ts = Ts*Eb_s/Eb_p  #s\n",
    "#time for which motors are in parallel\n",
    "tp = Ts - ts       #s\n",
    "\n",
    "#(ii) Speed at which series connection are to be changed = acc*ts and acc = Vm/Ts.Therefore,\n",
    "speed = Vm/Ts*ts   #km/h\n",
    "\n",
    "print \"Period of series operation = \",round(ts,2),\"s.\"\n",
    "print \"Period of parallel operation = \",round(tp,2),\"s.\"\n",
    "print \"Speed at which series connection are to be changed = \",round(speed,2),\"km/h.\""
   ]
  },
  {
   "cell_type": "markdown",
   "metadata": {},
   "source": [
    "## EXAMPLE 43.32 , PAGE NO :- 1751"
   ]
  },
  {
   "cell_type": "code",
   "execution_count": 6,
   "metadata": {
    "collapsed": false
   },
   "outputs": [
    {
     "name": "stdout",
     "output_type": "stream",
     "text": [
      "Braking torque =  930.0 N-m.\n"
     ]
    }
   ],
   "source": [
    "#The following figures refer to the speed-current and torque-current characteristics of a 600V d.c. series traction motor.\n",
    "#Current(A) : 50        100        150        200        250\n",
    "#Speed(Kmph): 73.6      48         41.1       37.3       35.2\n",
    "#Torque(N-m): 150       525        930        1335       1750\n",
    "#Determine the braking torque at a speed of 48kmph when operating as self excited d.c. generator.Assume resistance of motor and\n",
    "#braking rheostat to be 0.6 ohm and 3.0 ohm respectively.\n",
    "#############################################################################################################################\n",
    "\n",
    "Rm = 0.6          #ohm(resistance of motor)\n",
    "Rrh = 3.0         #ohm(braking rheostat)\n",
    "\n",
    "#As a motor\n",
    "V = 600.0         #V  (terminal voltage)\n",
    "#From speed-current characteristics . For a speed of 48kmph,\n",
    "I = 100.0         #A  (current)\n",
    "Eb = V - I*Rm     #V  (back emf)\n",
    "\n",
    "#As a generator\n",
    "\n",
    "#At instant of applying rheostatic braking ,the terminal voltage will be equal to emf developed by  machine i.e\n",
    "V2 = Eb           #V\n",
    "Rt = Rm + Rrh     #ohm     (total resistance)\n",
    "\n",
    "#Using V=IR\n",
    "I2 = V2/Rt          #A     (current)\n",
    "\n",
    "if (I2==50):\n",
    "    tau = 150.0     #N-m\n",
    "elif (I2==100):\n",
    "    tau = 525.0     #N-m\n",
    "elif (I2==150):\n",
    "    tau = 930.0     #N-m\n",
    "elif (I2==200):\n",
    "    tau = 1335.0     #N-m\n",
    "elif (I2==250):\n",
    "    tau = 1750.0     #N-m\n",
    "\n",
    "print \"Braking torque = \",round(tau,2),\"N-m.\"    "
   ]
  }
 ],
 "metadata": {
  "kernelspec": {
   "display_name": "Python 2",
   "language": "python",
   "name": "python2"
  },
  "language_info": {
   "codemirror_mode": {
    "name": "ipython",
    "version": 2
   },
   "file_extension": ".py",
   "mimetype": "text/x-python",
   "name": "python",
   "nbconvert_exporter": "python",
   "pygments_lexer": "ipython2",
   "version": "2.7.11"
  }
 },
 "nbformat": 4,
 "nbformat_minor": 0
}
