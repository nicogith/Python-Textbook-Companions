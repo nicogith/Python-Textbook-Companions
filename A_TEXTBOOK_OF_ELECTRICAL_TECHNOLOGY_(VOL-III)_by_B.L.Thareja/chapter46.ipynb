{
 "cells": [
  {
   "cell_type": "markdown",
   "metadata": {},
   "source": [
    "# CHAPTER 46 : ELECTRONIC CONTROL OF A.C MOTORS"
   ]
  },
  {
   "cell_type": "markdown",
   "metadata": {},
   "source": [
    "## EXAMPLE 46.1 , PAGE NO :- 1827"
   ]
  },
  {
   "cell_type": "code",
   "execution_count": 3,
   "metadata": {
    "collapsed": false
   },
   "outputs": [
    {
     "name": "stdout",
     "output_type": "stream",
     "text": [
      "Ton =  1.89 ms.\n",
      "magnitude of the current pulse I0 = 102.31 A.\n"
     ]
    }
   ],
   "source": [
    "'''The wound-rotor induction motor of Fig.43.5 is rated at 30-kW,975 rpm,440-V,50 Hz.The open-circuit line voltage is 400V and the load\n",
    "resistance is 0.5 ohm.If chopper frequency is 200 Hz,calculate Ton so that the motor develops a gross torque of 200 N-m at 750 rpm.Also,\n",
    "calculate the magnitude of the current pulses drawn from the capacitor.'''\n",
    "\n",
    "import math as m\n",
    "Ns = 1000.0   #rpm       (Synchronus speed)\n",
    "N1 = 750.0    #rpm       (rotating speed)\n",
    "E2 = 400.0    #V         (OC line voltage)\n",
    "Tg = 200.0    #N-m       (gross torque)\n",
    "R0 = 0.5      #ohm       (load resistance)\n",
    "f = 200.0     #Hz        (chopper frequency)\n",
    "s = (Ns-N1)/Ns   # slip\n",
    "Vrl = s*E2       #V       (rotor line voltage)\n",
    "Vdc = 135.0      #V       (DC voltage of 3-phase bridge rectifier)\n",
    "#Now, Tg = P^2/(2*3.14*Ns).Therefore,\n",
    "P2 = Tg*2*3.14*Ns/60           #W\n",
    "#Power dissipated as heat\n",
    "sP2 = s*P2                      #W\n",
    "#Power is actually dissipated in R and is equal to rectifier output Vdc*Idc.Therefore,\n",
    "Idc =  sP2/Vdc         #A\n",
    "#The apparent resistance at the input of chopper is\n",
    "Ra = Vdc/Idc                     #ohm\n",
    "#Now, Ra = Ro/(f*Ton)^2 .Therefore,\n",
    "Ton = m.sqrt(R0/(f*f*Ra))*1000           #ms\n",
    "#Current in R0 can be found from relation,I0^2*R0 = sP2\n",
    "I0 = m.sqrt(sP2/R0)               #A\n",
    "print \"Ton = \",round(Ton,2),\"ms.\"\n",
    "print \"magnitude of the current pulse I0 =\",round(I0,2),\"A.\""
   ]
  },
  {
   "cell_type": "code",
   "execution_count": null,
   "metadata": {
    "collapsed": true
   },
   "outputs": [],
   "source": []
  }
 ],
 "metadata": {
  "kernelspec": {
   "display_name": "Python 2",
   "language": "python",
   "name": "python2"
  },
  "language_info": {
   "codemirror_mode": {
    "name": "ipython",
    "version": 2
   },
   "file_extension": ".py",
   "mimetype": "text/x-python",
   "name": "python",
   "nbconvert_exporter": "python",
   "pygments_lexer": "ipython2",
   "version": "2.7.11"
  }
 },
 "nbformat": 4,
 "nbformat_minor": 0
}
