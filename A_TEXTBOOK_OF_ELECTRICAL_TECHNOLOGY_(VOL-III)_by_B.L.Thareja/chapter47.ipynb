{
 "cells": [
  {
   "cell_type": "markdown",
   "metadata": {},
   "source": [
    "# CHAPTER 47 : ELECTRIC HEATING\n"
   ]
  },
  {
   "cell_type": "markdown",
   "metadata": {},
   "source": [
    "## EXAMPLE 47.1 , PAGE NO :- 1841"
   ]
  },
  {
   "cell_type": "code",
   "execution_count": 17,
   "metadata": {
    "collapsed": false
   },
   "outputs": [
    {
     "name": "stdout",
     "output_type": "stream",
     "text": [
      "Length of wire = 16.07 m.\n",
      "Diameter of wire = 2.72 mm.\n"
     ]
    }
   ],
   "source": [
    "'''A resistance oven employing nichrome wire is to be operated from 220 V single-phase supply and is to be rated at 16 kW.\n",
    "If the temperature of the element is to be limited to 1,170°C and average temperature of the charge is 500°C, find the\n",
    "diameter and length of the element wire.\n",
    "Radiating efficiency = 0.57, Emmissivity=0.9, Specific resistance of nichrome=(109e–8)ohm-m.'''\n",
    "\n",
    "\n",
    "P = 16000.0         #W     (output power)\n",
    "V = 220.0           #V     (applied voltage)\n",
    "rho = 109.0e-8      #ohm-m (resistivity)\n",
    "e = 0.9             #      (Emmisivity)\n",
    "K = 0.57            #      (Radiating efficiency)\n",
    "T1 = 1170.0 + 273.0 #K     (Temp of hot body)\n",
    "T2 = 500.0 + 273.0  #K     (Temp of cold body)\n",
    "\n",
    "#Now , l/d^2 = pi*V^2/4*rho*P = a .Therefore a is\n",
    "a = 3.14*(V**2)/(4*rho*P)        # (a = l/d^2) ------ 1\n",
    " \n",
    "#Using Stefan's law of radiation \n",
    "H = 5.72*e*K*((T1/100)**4-(T2/100)**4)    #W/m^2\n",
    "\n",
    "#Total heat dissipated = electrical power input\n",
    "# (pi*d)*l*H = P . Therefore ,let b = l*d. So,\n",
    "b = P/(H*3.14)\n",
    "b2 = b**2      #(b2 = l^2*d^2)------------------------ 2\n",
    "\n",
    "#Multiplying 1 and 2.\n",
    "l3 = a*b2    # ( = l^3)\n",
    "l = l3**(1/3.0)    #m   (length)\n",
    "d = b/l*1000            #mm   (diameter)\n",
    "\n",
    "print \"Length of wire =\",round(l,2),\"m.\"\n",
    "print \"Diameter of wire =\",round(d,2),\"mm.\""
   ]
  },
  {
   "cell_type": "markdown",
   "metadata": {},
   "source": [
    "## EXAMPLE 47.2 , PAGE NO :- 1841"
   ]
  },
  {
   "cell_type": "code",
   "execution_count": 18,
   "metadata": {
    "collapsed": false
   },
   "outputs": [
    {
     "name": "stdout",
     "output_type": "stream",
     "text": [
      "Width of strip = 7.4 mm.\n"
     ]
    }
   ],
   "source": [
    "'''A 30-kW, 3-phase, 400-V resistance oven is to employ nickel-chrome strip 0.254 mm thick for the three star-connected heating\n",
    "elements.If the wire temperature is to be 1,100°C and that of the charge to be 700°C, estimate a suitable width for the strip.\n",
    "Assume emissivity = 0.9 and radiating efficiency to be 0.5 and resistivity of the strip material is 101.6e-8 ohm- m.What would be\n",
    "the temperature of the wire if the charge were cold ?'''\n",
    "\n",
    "import math as m\n",
    "\n",
    "P = 30.0*1000 *(1/3.0)     #W      (Power/phase)\n",
    "V = 400.0/m.sqrt(3)        #V      (Phase voltage)\n",
    "rho = 101.6e-8             #ohm-m  (resistivity)\n",
    "e = 0.9                    #       (emmisivity)\n",
    "K = 0.5                    #       (radiating efficiency)\n",
    "t = 0.254e-3               #m      (thickness of strip)\n",
    "T1 = 1100.0 + 273          #K      (Temp. of hot wire)\n",
    "T2 = 700.0 + 273           #K      (Temp. of charge)   \n",
    "R = V*V/P     #ohm       (Resistance  =>    P = V^2/R)\n",
    "\n",
    "# R = rho*l/(w*t)   l/w = R*t/rho = a.Therefore a is\n",
    "a = R*t/rho      #(=l/w)------------------------------------ 1\n",
    "\n",
    "#Using stefan's law\n",
    "H = 5.72*e*K*((T1/100)**4-(T2/100)**4)    #W/m^2\n",
    "\n",
    "#Surface area of strip = 2*w*l .\n",
    "#Total Heat dissipated = electrical power => wl*2H = P . Let b = wl\n",
    "b = P/(2*H)   #(=wl)----------------------------------------- 2\n",
    "\n",
    "#Dividing 1 by 2\n",
    "w2 = b/a      #(=w*w)\n",
    "w = m.sqrt(w2)*1000    #mm     (width)\n",
    "print \"Width of strip =\",round(w,2),\"mm.\""
   ]
  },
  {
   "cell_type": "markdown",
   "metadata": {},
   "source": [
    "## EXAMPLE 47.3 , PAGE NO :- 1842"
   ]
  },
  {
   "cell_type": "code",
   "execution_count": 19,
   "metadata": {
    "collapsed": false
   },
   "outputs": [
    {
     "name": "stdout",
     "output_type": "stream",
     "text": [
      "Loading in kW =  13.51 kW.\n",
      "Efficency of Tank = 87.41 %\n"
     ]
    }
   ],
   "source": [
    "'''A cubic water tank has surface area of 6.0 m^2 and is filled to 90% capacity six times daily. The water is heated from 20°C \n",
    "to 65°C.The losses per square metre of tank surface per 1°C temperature difference are 6.3 W. Find the loading in kW and the\n",
    "efficiency of the tank.Assume specific heat of water = 4,200 J/kg/°C and one kWh = 3.6 MJ.'''\n",
    "\n",
    "import math as m\n",
    "sa = 6.0           #m^2      (surface area)\n",
    "T2 = 65.0          #*C       (final temp)\n",
    "T1 = 20.0          #*C       (initial temp)\n",
    "loss = 6.3         #W/*C/m^2 (loss per square metre per 1*C)\n",
    "s = 4200.0         #J/Kg/*C  (Specific heat)\n",
    "\n",
    "#Now, sa = 6*l^2\n",
    "l = m.sqrt(sa/6)   #m\n",
    "\n",
    "#Volume = l^3\n",
    "V = l**3           #m^3\n",
    "\n",
    "#Volume of water to be heated daily is\n",
    "V2 = 6*V*0.9       #m^3\n",
    "\n",
    "#Since 1m^3 = 1000 kg  =>   mass of water to be heated is\n",
    "mass = V2*1000.0   #kg\n",
    "\n",
    "#Heat required to raise temp =\n",
    "H = mass*s*(T2-T1)  #MJ\n",
    "H = H/(3.6*10e+5)           #kWh\n",
    "\n",
    "#Daily loss from surface\n",
    "L = 6*loss*(T2-T1)*(24.0/1000)    #kWh\n",
    "\n",
    "#Total energy required\n",
    "Tot = L + H        #kWh    \n",
    "#(i) Loading in KW is\n",
    "load = Tot/24      #kW\n",
    "\n",
    "#(ii)Efficiency of tank is\n",
    "eff = (H/Tot)*100.0    #     (% efficency)\n",
    "print \"Loading in kW = \",round(load,2),\"kW.\"\n",
    "print \"Efficency of Tank =\",round(eff,2),\"%\""
   ]
  },
  {
   "cell_type": "markdown",
   "metadata": {},
   "source": [
    "## EXAMPLE 47.4 , PAGE NO :- 1844"
   ]
  },
  {
   "cell_type": "code",
   "execution_count": 20,
   "metadata": {
    "collapsed": false
   },
   "outputs": [
    {
     "name": "stdout",
     "output_type": "stream",
     "text": [
      "Power factor = 0.9487\n",
      "Power drawn from supply = 900.0 kW.\n",
      "Time required for melting steel = 40.0 minutes. and  46.0 seconds.\n"
     ]
    }
   ],
   "source": [
    "'''A 4-phase electric arc furnace has the following data :\n",
    "Current drawn = 5000 A ; Arc voltage = 50 V\n",
    "Resistance of transformer referred to secondary = 0.002 ohm\n",
    "Resistance of transformer referred to secondary = 0.004 ohm\n",
    "(i) Calculate the power factor and kW drawn from the supply.\n",
    "(ii) If the overall efficiency of the furnace is 65%, find the time required to melt 2 tonnes of steel if\n",
    "latent heat of steel = 8.89 kcal/kg, specific heat of steel = 0.12, melting point of steel = 1370°C and\n",
    "initial temperature of steel = 20°C.'''\n",
    "\n",
    "import math as m\n",
    "\n",
    "I = 5000.0        #A       (current drawn)\n",
    "V = 50.0          #V       (Arc Voltage) \n",
    "Rs = 0.002        #ohm     (transformer resistance on secondary)\n",
    "Xs = 0.004        #ohm     (transformer reactance on secondary)\n",
    "T2 = 1370.0       #*C      (final temp)\n",
    "T1 = 20.0         #*C      (initial temp)\n",
    "\n",
    "# Voltage drop due to resistance =\n",
    "Vr = I*Rs         #V\n",
    "\n",
    "# Voltage drop due to reactance =\n",
    "Vx = I*Xs         #V\n",
    "\n",
    "#Total Voltage is (Using vector sum)\n",
    "V_tot = m.sqrt((V+Vr)**2 + Vx**2)       #V\n",
    "\n",
    "#(i) Supply power factor is\n",
    "pf = (V+Vr)/V_tot\n",
    "\n",
    "#Total Power drawn =>  P = 3*VI*(power factor)\n",
    "P = 3*V_tot*I*pf/1000        #kW\n",
    "\n",
    "print \"Power factor =\",round(pf,4)\n",
    "print \"Power drawn from supply =\",round(P,2),\"kW.\"\n",
    "#Energy required to melt 2 tonnes of steel\n",
    "m = 2000.0     #kg\n",
    "s = 0.12       #           (specific heat of steel)\n",
    "L = 8.89       #kcal/kg    (latent heat of steel)\n",
    "\n",
    "enrgy = m*s*(T2-T1) + m*L      #kcal\n",
    "enrgy = enrgy/860.0            #kWh\n",
    "\n",
    "#Utilised power\n",
    "P = 0.65*P               #kW\n",
    "\n",
    "#Time required for melting steel\n",
    "Time = enrgy/P           #hr\n",
    "Time = Time*60           #min\n",
    "Sec = (round(Time,2) - round(Time,-1) )*60  #sec\n",
    "\n",
    "print \"Time required for melting steel =\",round(Time,-1),\"minutes. and \",round(Sec),\"seconds.\""
   ]
  },
  {
   "cell_type": "markdown",
   "metadata": {},
   "source": [
    "## EXAMPLE 47.5 , PAGE  NO :- 1845"
   ]
  },
  {
   "cell_type": "code",
   "execution_count": 16,
   "metadata": {
    "collapsed": false
   },
   "outputs": [
    {
     "name": "stdout",
     "output_type": "stream",
     "text": [
      "#Total KVA taken from supply line = 2145.63 KVA .\n"
     ]
    }
   ],
   "source": [
    "'''If a 3-phase arc furnace is to melt 10 tonne steel in 2 hours, estimate the average input to the furnace if overall\n",
    "efficiency is 50%. If the current input is 9,000 A with the above kW input and the resistance and reactance of furnace leads\n",
    "(including transformer) are 0.003 ohm and 0.005 ohm respectively, estimate the arc voltage and total kVA taken from the supply\n",
    "Specific heat of steel = 444 J /kg/°C ,Latent heat of fusion of steel = 37.25 kJ/kg , Melting point of steel = 1,370 °C.'''\n",
    "\n",
    "from sympy import Symbol,solve,Eq,sqrt\n",
    "import math as m\n",
    "\n",
    "mass = 10000.0        #kg       (mass in kg)\n",
    "t = 2.0               #hr       (time taken to melt)\n",
    "eff = 50.0            #%        (overall efficiency)\n",
    "I = 9000.0            #A        (current input)\n",
    "Rs = 0.003            #ohm      (secondary resistance)\n",
    "Xs = 0.005            #ohm      (secondary reactance)\n",
    "s = 444.0             #J/kg/*C  (specific heat of steel)\n",
    "L = 37250             #J/kg    (latent heat of fusion)\n",
    "T2 = 1370.0           #*C       (final temp)\n",
    "T1 = 20.0             #*C       (initial temp)\n",
    "\n",
    "#Energy required to melt 10 tonnes of steel\n",
    "\n",
    "enrgy = mass*s*(T2-T1) + mass*L   #J\n",
    "enrgy = enrgy/(1000*3600)     #kWh\n",
    "\n",
    "#Avg output power = energy/time\n",
    "P = enrgy/t        #kW\n",
    "#Avg input power =\n",
    "Pin = P/eff*100\n",
    "\n",
    "#Voltage drop due to resistance\n",
    "Vr = I*Rs          #V\n",
    "#Voltage drop due to reactance\n",
    "Vx = I*Xs          #V\n",
    "\n",
    "#Now,Let Va is arc drop voltage\n",
    "Va = Symbol('Va')    #V\n",
    "Vt = sqrt((Va+Vr)**2 + Vx**2)  \n",
    "pf = (Va+Vr)/Vt     \n",
    "#Total power input  = 3*(Vt*It*pf)\n",
    "\n",
    "eq = Eq(Pin*1000,3*Vt*I*pf)\n",
    "Va = solve(eq)     #V\n",
    "\n",
    "Va1 = Va[0]\n",
    "Vt = sqrt((Va1+Vr)**2 + Vx**2)\n",
    "\n",
    "#Total KVA taken from supply line =\n",
    "power = 3*Vt*I/1000\n",
    "\n",
    "print \"#Total KVA taken from supply line =\",round(power,2),\"KVA .\""
   ]
  },
  {
   "cell_type": "markdown",
   "metadata": {
    "collapsed": true
   },
   "source": [
    "## EXAMPLE 47.6 , PAGE NO :- 1850"
   ]
  },
  {
   "cell_type": "code",
   "execution_count": 27,
   "metadata": {
    "collapsed": false
   },
   "outputs": [
    {
     "name": "stdout",
     "output_type": "stream",
     "text": [
      "Efficiency of induction furnace =  59.35 %.\n"
     ]
    }
   ],
   "source": [
    "'''Determine the efficiency of a high-frequency induction furnace which takes 10 minutes to melt 2 kg of a aluminium initially \n",
    "at a temperature of 20°C. The power drawn by the furnace is 5 kW, specific heat of aluminium = 0.212, melting point of \n",
    "aluminium = 660° C and latent heat of fusion of aluminium. = 77 kcal/kg.'''\n",
    "\n",
    "m = 2.0     #kg                (mass of alluminium)\n",
    "L = 77.0    #kcal/kg           (Latent heat of fusion)\n",
    "T2 = 660.0  #*C              (final temp)\n",
    "T1 = 20.0   #*C              (initial temp)\n",
    "s = 0.212   #                (specific heat of alluminium)\n",
    "Pin = 5.0   #kW              (input power)\n",
    "#Heat required to melt alluminium\n",
    "H1 = m*L     #kcal\n",
    "#Heat required to raise the temperature\n",
    "H2 = m*s*(T2 - T1)   #kcal\n",
    "#Total heat\n",
    "heat_tot = H1 + H2   #kcal\n",
    "#Heat required per hour\n",
    "enrgy = heat_tot/(10.0/60)  #kcal\n",
    "#Power delivered to alluminium\n",
    "Power = enrgy/860     #kW\n",
    "\n",
    "eff = Power/Pin*100   #(% efficiency)\n",
    "\n",
    "print \"Efficiency of induction furnace = \",round(eff,2),\"%.\""
   ]
  },
  {
   "cell_type": "markdown",
   "metadata": {},
   "source": [
    "## EXAMPLE 47.7 , PAGE NO :- 1850"
   ]
  },
  {
   "cell_type": "code",
   "execution_count": 21,
   "metadata": {
    "collapsed": false
   },
   "outputs": [
    {
     "name": "stdout",
     "output_type": "stream",
     "text": [
      "Power absorbed = 577.0 kW.\n",
      "power factor = 0.83\n"
     ]
    }
   ],
   "source": [
    "'''A low-frequency induction furnace has a secondary voltage of 20V and takes 600 kW at 0.6 p.f. when the hearth is full. If the\n",
    "secondary voltage is kept constant, determine the power absorbed and the p.f. when the hearth is half-full. Assume that the\n",
    "resistance of the secondary circuit is doubled but the reactance remains the same.'''\n",
    "\n",
    "import math as m\n",
    "\n",
    "V = 20.0      #V   (secondary voltage)\n",
    "P = 600*1000  #W   (Input Power)\n",
    "pf = 0.6      #    (power factor)\n",
    "\n",
    "#Inital secondary current using P = VI*pf\n",
    "I = P/(V*pf)  #A   (secondary current)\n",
    "\n",
    "#Now, pf = cosQ , .'. sinQ = sqrt(1-pf^2)\n",
    "Vr = V*pf              #V   (Voltage across resistance)\n",
    "Vx = V*m.sqrt(1-pf**2) #V   (Voltage across reactance)\n",
    "\n",
    "#As, Vr = I*R and Vx = I*X\n",
    "\n",
    "R = Vr/I    #ohm\n",
    "X = Vx/I    #ohm\n",
    "\n",
    "#When hearth is half-full\n",
    "R2 = 2*R\n",
    "X2 = X\n",
    "pf = R2/m.sqrt(R2**2 + X2**2)  #(new power factor)\n",
    "\n",
    "Vr = V*pf      #V   (Voltage across resistance)\n",
    "#As, Vr = I*R\n",
    "I = Vr/R2       #A\n",
    "\n",
    "power = V*I*pf/1000       #kW\n",
    "\n",
    "print \"Power absorbed =\",round(power),\"kW.\"\n",
    "print \"power factor =\",round(pf,2)"
   ]
  },
  {
   "cell_type": "markdown",
   "metadata": {},
   "source": [
    "## EXAMPLE 47.8 , PAGE NO :- 1851"
   ]
  },
  {
   "cell_type": "code",
   "execution_count": 22,
   "metadata": {
    "collapsed": false
   },
   "outputs": [
    {
     "name": "stdout",
     "output_type": "stream",
     "text": [
      "Total furnace input = 119.37 kWh .\n"
     ]
    }
   ],
   "source": [
    "'''Estimate the energy required to melt 0.5 tonne of brass in a single-phase induction furnace. If the melt is to be carried out\n",
    "in 0.5 hour, what must be the average power input to the furnace?\n",
    "Specific heat of brass = 0.094\n",
    "Latent heat of fusion of brass = 39 kilocal/kg\n",
    "Melting point of brass = 920°C\n",
    "Furnace efficiency = 60.2%\n",
    "The temperature of the cold charge may be taken as 20°C.'''\n",
    "\n",
    "m = 0.5*1000      #kg    (mass of brass)\n",
    "s = 0.094    #      (specific heat)\n",
    "T2 = 920.0   #*C    (final temp)\n",
    "T1 = 20.0    #*C    (initial temp)\n",
    "L = 39.0     #kcal/kg(Latent heat of fusion)\n",
    "eff = 60.2   #       (% efficiency)\n",
    "\n",
    "#Total amount of heat req to melt 0.5 kg brass\n",
    "H = m*L + m*s*(T2-T1)    #kcal\n",
    "H = H/860    #kWh\n",
    "H_tot = H/(eff)*100    #kWh   (input energy required)\n",
    "\n",
    "print \"Total furnace input =\",round(H_tot,2),\"kWh .\""
   ]
  },
  {
   "cell_type": "markdown",
   "metadata": {},
   "source": [
    "## EXAMPLE 47.9 , PAGE NO :- 1851"
   ]
  },
  {
   "cell_type": "code",
   "execution_count": 23,
   "metadata": {
    "collapsed": false
   },
   "outputs": [
    {
     "name": "stdout",
     "output_type": "stream",
     "text": [
      "height for maximum heat =  0.75 *H.\n"
     ]
    }
   ],
   "source": [
    "'''A low-frequency induction furnace whose secondary voltage is maintained constant at 10 V, takes 400 kW at 0.6 p.f. when the\n",
    "hearth is full.Assuming the resistance of the secondary circuit to vary inversely as the height of the charge and reactance to \n",
    "remain constant,find the height upto which the hearth should be filled to obtain maximum heat.'''\n",
    "\n",
    "\n",
    "import math as m\n",
    "V2 = 10.0    #V       (secondary voltage)\n",
    "P = 400.0*1000 #kW    (power)\n",
    "pf = 0.6       #      (power factor)\n",
    "\n",
    "\n",
    "#Secondary current is (Using P = VI*cosQ)\n",
    "I = P/(V2*pf)    #A\n",
    "\n",
    "#Impedance of secondary circuit is\n",
    "Z = V2/I        #ohm\n",
    "#Now, R = Z*cosQ    X = Z*sinQ\n",
    "R = Z*pf                    #ohm   (resistance)\n",
    "X = Z*m.sqrt(1-pf**2)       #ohm   (reactance)\n",
    "\n",
    "#Let height of charge be 'x' times of the full hearth h = x*H\n",
    "#Resistance varies inersely as height .Therefore,\n",
    "# R' = R/x\n",
    "\n",
    "#Now ,for max heat resistance should be equal to reactance.Therefore,\n",
    "x = R/X\n",
    "\n",
    "print \"height for maximum heat = \",round(x,2),\"*H.\""
   ]
  },
  {
   "cell_type": "markdown",
   "metadata": {},
   "source": [
    "## EXAMPLE 47.10 , PAGE NO :- 1853"
   ]
  },
  {
   "cell_type": "code",
   "execution_count": 24,
   "metadata": {
    "collapsed": false
   },
   "outputs": [
    {
     "name": "stdout",
     "output_type": "stream",
     "text": [
      "Voltage = 798.04 V.\n"
     ]
    }
   ],
   "source": [
    "'''A slab of insulating material 150 cm^2 in area and 1 cm thick is to be heated by dielectric heating. The power required is \n",
    "400 W at 30 MHz.Material has relative permittivity of 5 and p.f. of 0.05. Determine the necessary voltage. Absolute\n",
    "permittivity = 8.854e - 12 F/m.'''\n",
    "\n",
    "import math as m\n",
    "\n",
    "P = 400.0    #W         (power)\n",
    "f = 30.0e+6  #Hz        (frequency)\n",
    "A = 150.0e-4 #m^2       (area)\n",
    "d = 1.0e-2   #m         (thickness)\n",
    "er = 5.0     #          (relative permitivity)\n",
    "e0 = 8.89e-12#F/m       (absolute permitivity)\n",
    "pf = 0.05    #          (power factor) \n",
    "#Capacitance\n",
    "C = (A/d)*(er*e0)     #F\n",
    "\n",
    "#Now,   P = (2*pi*f)*(C*V^2)*pf .Therefore V is\n",
    "V = m.sqrt(P/(2*3.14*f*C*pf))    #V\n",
    "print \"Voltage =\",round(V,2),\"V.\""
   ]
  },
  {
   "cell_type": "markdown",
   "metadata": {},
   "source": [
    "## EXAMPLE 47.11 , PAGE NO :- 1853"
   ]
  },
  {
   "cell_type": "code",
   "execution_count": 25,
   "metadata": {
    "collapsed": false
   },
   "outputs": [
    {
     "name": "stdout",
     "output_type": "stream",
     "text": [
      "Voltage =  846.45 V.\n",
      "Current through material = 9.45 A.\n",
      "Frequency =  58.49 MHz.\n"
     ]
    }
   ],
   "source": [
    "'''An insulating material 2 cm thick and 200 cm^2 in area is to be heated by dielectric heating. The material has relative \n",
    "permitivity of 5 and power factor of 0.05.Power required is 400 W and frequency of 40 MHz is to be used. Determine the necessary\n",
    "voltage and the current that will flow through the material.If the voltage were to be limited to 700 V, what will be the \n",
    "frequency to get the same loss? '''\n",
    "\n",
    "import math as m\n",
    "\n",
    "d = 2.0e-2      #m      (Thickness)\n",
    "A = 200e-4      #m^2    (Area)\n",
    "er = 5          #       (relative permitivity)\n",
    "pf = 0.05       #       (power factor)\n",
    "f = 40.0e+6     #Hz     (frequency)\n",
    "P = 400.0       #W      (power)\n",
    "e0 = 8.89e-12   #       (absolute permitivity)\n",
    "\n",
    "C = (A/d)*(e0*er)   #F   (Capacitance)\n",
    "\n",
    "#Now,  P = 2*pi*f*C*V^2*pf\n",
    "V = m.sqrt(P/(2*3.14*f*C*pf))     #V\n",
    "\n",
    "#Also, P = VI*cosQ .Therefore,current through material\n",
    "I = P/(V*pf)           #A\n",
    "\n",
    "#Heat produced is propotional to V^2*f.  (V2/V1)^2 = (f1/f2)\n",
    "f2 = f*(V/700)**2   #Hz\n",
    "f2 = f2/(10e+5)     #MHz \n",
    "\n",
    "print \"Voltage = \",round(V,2),\"V.\"\n",
    "print \"Current through material =\",round(I,2),\"A.\"\n",
    "print \"Frequency = \",round(f2,2),\"MHz.\""
   ]
  },
  {
   "cell_type": "markdown",
   "metadata": {},
   "source": [
    "## EXAMPLE 47.12 , PAGE NO :- 1853"
   ]
  },
  {
   "cell_type": "code",
   "execution_count": 26,
   "metadata": {
    "collapsed": false
   },
   "outputs": [
    {
     "name": "stdout",
     "output_type": "stream",
     "text": [
      "Power input = 750.0 W .\n"
     ]
    }
   ],
   "source": [
    "'''A plywood board of 0.5*0.25*0.02 metre is to be heated from 25 to 125°C in 10 minutes by dielectric heating employing a\n",
    "frequency of 30 MHz. Determine the power required in this heating process. Assume specific heat of wood 1500/J/kg/°C; \n",
    "weight of wood 600 kg/m3 and efficiency of process 50%.'''\n",
    "\n",
    "\n",
    "Vol = 0.5*0.25*0.02    #m^3      (Volume of plywood to be heated)\n",
    "f = 30.0e+6            #Hz       (frequency)\n",
    "t = 10.0               #minutes  (time)\n",
    "T2 = 125.0             #*C       (final temperature)\n",
    "T1 = 25.0              #*C       (initial temperature)\n",
    "s = 1500.0             #J/kg/*C  (specific heat of wood)\n",
    "den = 600.0            #kg/m^3   (weight of wood)\n",
    "eff = 50.0             #%         (efficiency of process)\n",
    "\n",
    "wt = den*Vol          #kg   (weight of plywood)\n",
    "#Heat required to raise the temp is\n",
    "H = wt*s*(T2-T1)     #J\n",
    "H = H/3600           #Wh\n",
    "\n",
    "#As  P = H/t .Therfore power required for heating\n",
    "P = H/(10.0/60)      #W\n",
    "\n",
    "#As efficiency is 50%\n",
    "Pin = P/eff*100      #W\n",
    "\n",
    "print \"Power input =\",round(Pin,2),\"W .\""
   ]
  },
  {
   "cell_type": "code",
   "execution_count": null,
   "metadata": {
    "collapsed": true
   },
   "outputs": [],
   "source": []
  }
 ],
 "metadata": {
  "kernelspec": {
   "display_name": "Python 2",
   "language": "python",
   "name": "python2"
  },
  "language_info": {
   "codemirror_mode": {
    "name": "ipython",
    "version": 2
   },
   "file_extension": ".py",
   "mimetype": "text/x-python",
   "name": "python",
   "nbconvert_exporter": "python",
   "pygments_lexer": "ipython2",
   "version": "2.7.11"
  }
 },
 "nbformat": 4,
 "nbformat_minor": 0
}
