{
 "metadata": {
  "name": "",
  "signature": "sha256:e134d729844fc5fc379f513b7f1e5b167020e513591a6ab49b7a3de0e1f6059e"
 },
 "nbformat": 3,
 "nbformat_minor": 0,
 "worksheets": [
  {
   "cells": [
    {
     "cell_type": "heading",
     "level": 1,
     "metadata": {},
     "source": [
      "Chapter 15 :  Fuel Cells"
     ]
    },
    {
     "cell_type": "heading",
     "level": 2,
     "metadata": {},
     "source": [
      "Example 15.1  Page No : 321"
     ]
    },
    {
     "cell_type": "code",
     "collapsed": false,
     "input": [
      "#Given\n",
      "del_F = -56.29;#Smath.radians(numpy.arcmath.tan(ard free energy change in Kcal/Kgmole\n",
      "del_H = -68.317;#Smath.radians(numpy.arcmath.tan(ard heat of reaction in Kcal/kgmole\n",
      "F = 23.06;#Electro-chemical equivalent in Kcal/volt\n",
      "J = 2.0;#Valance for H2\n",
      "\n",
      "#To Calculate the emf of the cell, cell efficiency and heat to be removed to maintain isothermal conditions\n",
      "#Basis: 1 Kgmole of H2\n",
      "#From equation 15.4 (page no 355)\n",
      "E = -del_F/(F*J);\n",
      "print '1.The emf of the cell is %f volt.'%(E);\n",
      "n = del_F/del_H*100;\n",
      "print ' 2.The cell efficiency is %f percent.'%(n);\n",
      "Q = del_H-del_F;\n",
      "print ' 3.The heat to be removed is %f Kcal to maintain the temperature at 25 degree celsius.'%(Q);\n",
      "#end\n"
     ],
     "language": "python",
     "metadata": {},
     "outputs": [
      {
       "output_type": "stream",
       "stream": "stdout",
       "text": [
        "1.The emf of the cell is 1.220512 volt.\n",
        " 2.The cell efficiency is 82.395304 percent.\n",
        " 3.The heat to be removed is -12.027000 Kcal to maintain the temperature at 25 degree celsius.\n"
       ]
      }
     ],
     "prompt_number": 1
    }
   ],
   "metadata": {}
  }
 ]
}