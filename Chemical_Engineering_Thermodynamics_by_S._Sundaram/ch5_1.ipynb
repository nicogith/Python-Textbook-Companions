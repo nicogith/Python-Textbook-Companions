{
 "metadata": {
  "name": "",
  "signature": "sha256:3e5d8c28d726b79a2c86b3cf54d87d3c39d0c9ab36d48d833fe93313ec8fd001"
 },
 "nbformat": 3,
 "nbformat_minor": 0,
 "worksheets": [
  {
   "cells": [
    {
     "cell_type": "heading",
     "level": 1,
     "metadata": {},
     "source": [
      "Chapter 5 : Thermodynamic Potentials and Maxwell Relation"
     ]
    },
    {
     "cell_type": "heading",
     "level": 2,
     "metadata": {},
     "source": [
      "Example 5.1  Page No : 119"
     ]
    },
    {
     "cell_type": "code",
     "collapsed": false,
     "input": [
      "import math \n",
      "\n",
      "#Given\n",
      "T = 293.0;#Consmath.tant temperature in K\n",
      "w_NH3 = 20/100.0;#weight of NH3 in an aqueous solution in Kg\n",
      "w_H2O = 80/100.0;#weight of H2O in an aqueous solution in Kg\n",
      "V = 40.0;#feed rate in Kg/min\n",
      "M_NH3 = 17.0;#Molecular weight of NH3\n",
      "M_H2O = 18.0;#Molecular weight of H20\n",
      "R = 1.98;#gas consmath.tant in Kcl/Kg mole K\n",
      "V_s = 62.0;#Rate of heating steam in Kg/min\n",
      "P1_H2O = 11.6;#Vapour pressure of water in feed in  mm Hg\n",
      "P2_H2O = 17.5;#Vapour pressure of pure water in mm Hg\n",
      "P1_NH3 = 227.0;#Vapour pressure of NH3 in feed in mm Hg\n",
      "P2_NH3 = 6350.0;#Vapor pressure of  pure NH3 in mm Hg\n",
      "#From steam tables:\n",
      "Hs = 666.4;#Enthalpy of steam at 160 deg celsius & 2Kgf/cm**2 in Kcal /Kg \n",
      "Ss = 1.75;#Entropy of steam at 160 deg celsius & 2Kgf/cm**2V in Kcal/Kg K\n",
      "Hl = 20.03;#Enthalpy of liquid water at 20 deg celsius in Kcal/Kg\n",
      "Sl = 0.0612;#Entropy of liquid water at 20 deg celsius in Kcal/Kg K\n",
      "\n",
      "#To Calculate the efficiency of the separation process \n",
      "#Material Balance:\n",
      "n_NH3 = (V*w_NH3)/M_NH3;#Kg moles of NH3 in feed(tops)\n",
      "n_H2O = (V*w_H2O)/M_H2O;#Kg moles of H20 in feed(bottoms)\n",
      "#del_F = del_F_NH3 +del_F_H2O;\n",
      "del_F = (R*T*n_NH3*math.log(P2_NH3/P1_NH3))+(R*T*n_H2O*math.log(P2_H2O/P1_H2O));#Theoretical minimum work done in Kcal\n",
      "#The available energy of the steam can be calculated from equation 4.14(page no 110)\n",
      "del_B = -V_s*((Hl-Hs)-T*(Sl-Ss));#Available energy of the steam in Kcal\n",
      "E = (del_F/del_B)*100;\n",
      "print \"The efficiency of the separation process is %f percent\"%(E);\n",
      "#end\n",
      "\n"
     ],
     "language": "python",
     "metadata": {},
     "outputs": [
      {
       "output_type": "stream",
       "stream": "stdout",
       "text": [
        "The efficiency of the separation process is 14.192424 percent\n"
       ]
      }
     ],
     "prompt_number": 2
    }
   ],
   "metadata": {}
  }
 ]
}