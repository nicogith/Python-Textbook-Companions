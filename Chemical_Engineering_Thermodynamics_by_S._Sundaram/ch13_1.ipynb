{
 "metadata": {
  "name": "",
  "signature": "sha256:98e5c2c383a1a1550ca177061033a45bcfa7bc464bb9def6e21c0e4e3bbd4374"
 },
 "nbformat": 3,
 "nbformat_minor": 0,
 "worksheets": [
  {
   "cells": [
    {
     "cell_type": "heading",
     "level": 1,
     "metadata": {},
     "source": [
      "Chapter 13 : Thermodynamics in Phase Equilibria"
     ]
    },
    {
     "cell_type": "heading",
     "level": 2,
     "metadata": {},
     "source": [
      "Example 13.1  Page No : 238"
     ]
    },
    {
     "cell_type": "code",
     "collapsed": false,
     "input": [
      "import math \n",
      "\n",
      "#Given\n",
      "#N2 obeys the relation : Z = 1+(2.11*10**-4*P)\n",
      "Tc = 126;#Critical temperature in K\n",
      "Pc = 33.5;#Critical pressure in atm\n",
      "T = 373;#in K\n",
      "P = 100;#in atm\n",
      "\n",
      "#To Calculate the fugacity of N2 at 373K and 100 atm\n",
      "#(i)Umath.sing the Z relation given above\n",
      "#From equation 13.12 (page no 239)\n",
      "phi = math.e**(2.11*10**-4*(P-0));#fugacity coefficient\n",
      "f = phi*P;\n",
      "print \"i)The fugacity of N2 umath.sing the given Z relation is %f atm\"%(f);\n",
      "\n",
      "#(ii)Umath.sing the fugacity chart given in figure A.2.9\n",
      "Pr = P/Pc;#Reduced pressure in atm\n",
      "Tr = T/Tc;#Reduced temperature in K\n",
      "#From figure A.2.9,\n",
      "phi = 1.04\n",
      "f = phi*P;\n",
      "print \" ii)The fugacity of N2 umath.sing the fugacity chart is %f atm\"%(f);\n",
      "#end\n"
     ],
     "language": "python",
     "metadata": {},
     "outputs": [
      {
       "output_type": "stream",
       "stream": "stdout",
       "text": [
        "i)The fugacity of N2 umath.sing the given Z relation is 102.132418 atm\n",
        " ii)The fugacity of N2 umath.sing the fugacity chart is 104.000000 atm\n"
       ]
      }
     ],
     "prompt_number": 1
    },
    {
     "cell_type": "heading",
     "level": 2,
     "metadata": {},
     "source": [
      "Example 13.2  Page No : 241"
     ]
    },
    {
     "cell_type": "code",
     "collapsed": false,
     "input": [
      "import math \n",
      "\n",
      "#Given\n",
      "P1 = 50*1.03*10**4;#Initial pressure in Kgf/sq m\n",
      "T = 373.0;#Temperature in K\n",
      "P2 = 1.03*10**4;#Final pressure in Kgf/sq m\n",
      "V = 0.001*18;#Volume in cubic meter\n",
      "R = 848.0;#gas consmath.tant in m Kgf/Kgmole K\n",
      "\n",
      "#To Calculate the fugacity of liquid water\n",
      "#From equation 13.13(page no 240)\n",
      "del_u = (V/(R*T))*(P2-P1);#del_u = ln(f2/f1); Change in chemical potential\n",
      "f1 = P2;#in Kgf/sq m\n",
      "f2 = f1*(math.e**del_u);\n",
      "print \"The fugacity of the liquid water at 50 atm is %4.2e Kgf/sq m\"%(f2);\n",
      "#end\n"
     ],
     "language": "python",
     "metadata": {},
     "outputs": [
      {
       "output_type": "stream",
       "stream": "stdout",
       "text": [
        "The fugacity of the liquid water at 50 atm is 1.00e+04 Kgf/sq m\n"
       ]
      }
     ],
     "prompt_number": 2
    },
    {
     "cell_type": "heading",
     "level": 2,
     "metadata": {},
     "source": [
      "Example 13.3  Page No : 242"
     ]
    },
    {
     "cell_type": "code",
     "collapsed": false,
     "input": [
      "%matplotlib inline\n",
      "import math\n",
      "import matplotlib.pyplot as plt\n",
      "import numpy\n",
      "\n",
      "#Given\n",
      "x1 = 0.1;#mole fraction of methane\n",
      "x2 = 0.9;#mole fraction of propane\n",
      "P = [28.1,31.6,35.1];#Pressure in Kgf/sq cm are\n",
      "K1 = [5.8,5.10,4.36];#Vapourisation consmath.tants of methane at the corresponding presssures\n",
      "K2 = [0.61,0.58,0.56];#Vapourisation consmath.tants of propane at the correspondig pressures\n",
      "\n",
      "#To Calculate the bubble point pressure of the solution\n",
      "#From equation 13.27 (page no 245)\n",
      "y1 = []\n",
      "y2 = []\n",
      "y = []\n",
      "for i in range(0,3):\n",
      "    y1.append(K1[i]*x1);#mole fraction of methane in the vapour phase\n",
      "    y2.append(K2[i]*x2);#mole fraction of propane in the vapour phase\n",
      "    y.append(y1[i]+y2[i]);#sum of the mole fraction in the vapour phase\n",
      "    \n",
      "\n",
      "plt.plot(P,y)\n",
      "plt.title(\"y vs pressure\")\n",
      "plt.xlabel(\"P\")\n",
      "plt.ylabel(\"y\")\n",
      "plt.show()\n",
      "P1 = numpy.interp(1,y,P)\n",
      "print \"The bubble point pressure of the solution is %f Kgf/sq cm\"%(P1);\n",
      "#end\n"
     ],
     "language": "python",
     "metadata": {},
     "outputs": [
      {
       "metadata": {},
       "output_type": "display_data",
       "png": "[encoded data removed]",
       "text": [
        "<matplotlib.figure.Figure at 0x10643f210>"
       ]
      },
      {
       "output_type": "stream",
       "stream": "stdout",
       "text": [
        "The bubble point pressure of the solution is 35.100000 Kgf/sq cm\n"
       ]
      }
     ],
     "prompt_number": 3
    },
    {
     "cell_type": "heading",
     "level": 2,
     "metadata": {},
     "source": [
      "Example 13.4  Page No : 244"
     ]
    },
    {
     "cell_type": "code",
     "collapsed": false,
     "input": [
      "import math \n",
      "\n",
      "#Given\n",
      "T = [80.6,79.0,77.3,61.4];#Various temperature in deg cel\n",
      "x1 = [0.0,15.0,29.0,100.0];#mole fraction of CHCl3 in liquid phase\n",
      "y1 = [0.0,20.0,40.0,100.0];#mole fraction of CHCl3 in vapour phase\n",
      "P1 = [1370,1310,1230,700];#Vapour pressure of CHCl3 in mm Hg\n",
      "P = 760.0;#Total pressure in mm Hg\n",
      "\n",
      "#To Calculate the equilibrium data i.e y/x and compare with the experimental values\n",
      "#From equation 13.27 (page no 245);K = y1/x1 = Pi/P\n",
      "print \"Temperature    Experimental   Calculated\";\n",
      "Ke_x = []\n",
      "K_c = []\n",
      "for i in range(0,4):\n",
      "    print \" %f\"%(T[i]),\n",
      "    if x1[i] == 0 :\n",
      "        print \"     Not defined\",\n",
      "        Ke_x.append(0)\n",
      "    else:\n",
      "        Ke_x.append(y1[i]/x1[i]);\n",
      "        print \"        %f\"%(Ke_x[i]),\n",
      "    K_c.append(P1[i]/P);\n",
      "    print \"      %f\"%(K_c[i])\n",
      "\n",
      "if Ke_x[i] == K_c[i]:\n",
      "    print ' The liquid solution is perfect';\n",
      "else:\n",
      "    print \" The liquid solution is imperfect\";\n",
      "#end\n"
     ],
     "language": "python",
     "metadata": {},
     "outputs": [
      {
       "output_type": "stream",
       "stream": "stdout",
       "text": [
        "Temperature    Experimental   Calculated\n",
        " 80.600000      Not defined       1.802632\n",
        " 79.000000         1.333333       1.723684\n",
        " 77.300000         1.379310       1.618421\n",
        " 61.400000         1.000000       0.921053\n",
        " The liquid solution is imperfect\n"
       ]
      }
     ],
     "prompt_number": 4
    },
    {
     "cell_type": "heading",
     "level": 2,
     "metadata": {},
     "source": [
      "Example 13.6  Page No : 246"
     ]
    },
    {
     "cell_type": "code",
     "collapsed": false,
     "input": [
      "#Given\n",
      "x1 = 0.1;#Mole fraction of dichloromethane (CCl2H2)\n",
      "x2 = 0.9;#Mole fraction of methyl acetate (C3H6O2)\n",
      "M1 = 85.0;#Molecular weight of CCl2H2\n",
      "M2 = 74.0;#Molecular weight of C3H602\n",
      "D1 = 1.3163;#Density of CCl2H2 in gm/cc\n",
      "D2 = 0.9279;#Density of C3H6O2 in gm/cc\n",
      "\n",
      "#To Calculate the volume of 10% dichloromethane solution\n",
      "V1 = M1/D1;#Specific volume of pure CCL2H2 in cc/gmole\n",
      "V2 = M2/D2;#Specific volume of C3H6O2 in cc/gmole\n",
      "#From equation 13.62(page no 256)& 13.78 (page no 257)\n",
      "V_e = x1*x2*(1.2672-0.771*x1);#excess volume in cc/gmole\n",
      "V = V1*x1+V2*x2+V_e;\n",
      "print \"The volume of 10 percent dichloromethane is %f cc/gmole\"%(V);\n",
      "#end\n"
     ],
     "language": "python",
     "metadata": {},
     "outputs": [
      {
       "output_type": "stream",
       "stream": "stdout",
       "text": [
        "The volume of 10 percent dichloromethane is 78.339579 cc/gmole\n"
       ]
      }
     ],
     "prompt_number": 5
    },
    {
     "cell_type": "heading",
     "level": 2,
     "metadata": {},
     "source": [
      "Example 13.7  Page No : 249"
     ]
    },
    {
     "cell_type": "code",
     "collapsed": false,
     "input": [
      "%matplotlib inline\n",
      "import math\n",
      "import matplotlib.pyplot as plt\n",
      "import numpy\n",
      "\n",
      "#Given\n",
      "x_T = 0.957;#mole fraction of Toluene\n",
      "x_D = 0.043;#mole fraction of 1,2-dichloroethane\n",
      "t = [90, 100, 110];#temperature in deg cel\n",
      "R = 1.98;#gas consmath.tant in Kcal/Kgmole K\n",
      "\n",
      "#To Calculate the vapour pressure of the solution, bubble point at 686 mm Hg and the vapour composition at equilibrium,\n",
      "#compare the experimental value of 91.2% toluene in vapour with the calculated value & calculate the free energy of mixing\n",
      "#(1)Calculation of vapour pressure\n",
      "print \"1Tempdeg cel    P_TmmHg          P_DmmHg           P_smmHg\";\n",
      "P_T = []\n",
      "P_D = []\n",
      "P_s = []\n",
      "for i in range(0,3):\n",
      "    P_T.append(10**(6.95464-(1344.8/(219.482+t[i]))));#Given as equation(a)(page no 260)\n",
      "    P_D.append(10**(7.03993-(1274.079/(223+t[i]))));#Given as equation(b)(page no 260)\n",
      "    P_s.append(x_T*P_T[i]+x_D*P_D[i]);#pressure of the solution in mm Hg\n",
      "    print '   %f'%(t[i]),\n",
      "    print '          %f'%(P_T[i]),\n",
      "    print '        %f'%(P_D[i]),\n",
      "    print '         %f'%(P_s[i])\n",
      "\n",
      "#(2)Calculation of bubble point and comparison of values\n",
      "plt.plot(t,P_s)\n",
      "plt.title(\"t vs P_s\")\n",
      "plt.xlabel(\"t\")\n",
      "plt.ylabel(\"P_s\")\n",
      "plt.show()\n",
      "T = numpy.interp(686,P_s,t)\n",
      "P = 686.0;#pressure of solution in mm Hg\n",
      "y_T_e = 0.912;#experimental value of mole fraction of toluene\n",
      "#From the graph we found that the temperature at P = 686 mm Hg is\n",
      "#t = 105.3;#in deg cel\n",
      "print '2)The bubble point is %f deg cel'%(T);\n",
      "#From equation (a)(page no 260)\n",
      "P_T = 10**(6.95464-(1344.8/(219.482+T)));#vapour pressure of Toluene in mmHg\n",
      "#From equation 13.27 (page no 245)\n",
      "y_T_c = (x_T*P_T)/P;\n",
      "y_D_c = 1-y_T_c;\n",
      "print '  The vapour composition of toluene is %f'%(y_T_c);\n",
      "print '  The vapour composition of 1,(2-dichloroethane is %f'%(y_D_c);\n",
      "e = ((y_T_e-y_T_c)/y_T_e)*100;\n",
      "print ' The percentage error is %f percent'%(e);\n",
      "\n",
      "#(3)Calculation of free energy\n",
      "del_F = R*(T+273)*((x_T*math.log(x_T))+(x_D*math.log(x_D)));\n",
      "print '3)The free energy of mixing is %f Kcal/Kgmole'%(del_F);\n",
      "#end\n"
     ],
     "language": "python",
     "metadata": {},
     "outputs": [
      {
       "output_type": "stream",
       "stream": "stdout",
       "text": [
        "1Tempdeg cel    P_TmmHg          P_DmmHg           P_smmHg\n",
        "   90.000000           406.737847         931.944531          429.321734\n",
        "   100.000000           556.321921         1245.698588          585.965118\n",
        "   110.000000           746.589152         1636.315096          784.847367\n"
       ]
      },
      {
       "metadata": {},
       "output_type": "display_data",
       "png": "[encoded data removed]",
       "text": [
        "<matplotlib.figure.Figure at 0x1057dc4d0>"
       ]
      },
      {
       "output_type": "stream",
       "stream": "stdout",
       "text": [
        "2)The bubble point is 105.029855 deg cel\n",
        "  The vapour composition of toluene is 0.901898\n",
        "  The vapour composition of 1,(2-dichloroethane is 0.098102\n",
        " The percentage error is 1.107696 percent\n",
        "3)The free energy of mixing is -132.756668 Kcal/Kgmole\n"
       ]
      }
     ],
     "prompt_number": 6
    },
    {
     "cell_type": "heading",
     "level": 2,
     "metadata": {},
     "source": [
      "Example 13.8  Page No : 252"
     ]
    },
    {
     "cell_type": "code",
     "collapsed": false,
     "input": [
      "import math \n",
      "\n",
      "#Given\n",
      "#Consider the diagram shown in page no 263\n",
      "w1 = 100.0;#weight of LiBr entered as feed in the evaporator per hour in Kg\n",
      "x1 = 0.45;#weight  fraction of LiBr entered as feed\n",
      "x2 = 0.0;#weight fraction of steam in the LiBr soln\n",
      "x3 = 0.65;#weight fraction of LiBr formed as product\n",
      "H1 = -39.0;#Enthalpy of 45% solution at 25 deg cel in Kcal/Kg\n",
      "H3 = -4.15;#Enthalpy of 65% solution at 114.4 deg cel in Kcal/Kg\n",
      "H2 = 649.0;#Enthalpy of superheated steam at 100 mmHg and 114.4 deg cel in Kcal/Kg\n",
      "\n",
      "#To Calculate the heating load required for the process\n",
      "#According to material balance\n",
      "w3 = (w1*x1)/x3;#weight of LiBr solution formed after evaporation per hour in Kg\n",
      "w2 = w1-w3;# weight of steam formed in Kg/hr\n",
      "#According to energy balance\n",
      "Q = (w2*H2)+(w3*H3)-(w1*H1);\n",
      "print 'The heat that has to be supplied for this concentration process is %f Kcal/hr'%(Q);\n",
      "#end\n"
     ],
     "language": "python",
     "metadata": {},
     "outputs": [
      {
       "output_type": "stream",
       "stream": "stdout",
       "text": [
        "The heat that has to be supplied for this concentration process is 23581.923077 Kcal/hr\n"
       ]
      }
     ],
     "prompt_number": 7
    },
    {
     "cell_type": "heading",
     "level": 2,
     "metadata": {},
     "source": [
      "Example 13.12  Page No : 253"
     ]
    },
    {
     "cell_type": "code",
     "collapsed": false,
     "input": [
      "%matplotlib inline\n",
      "import math\n",
      "import matplotlib.pyplot as plt\n",
      "import numpy\n",
      "\n",
      "#Given\n",
      "x_A = [0.0, 0.0435, 0.0942, 0.1711, 0.2403, 0.3380, 0.5981];#mole fraction of acetic acid\n",
      "p_A = [0.0, 17.2, 30.5, 46.5, 57.8, 69.3, 95.7];#partial pressure of acetic acid in mmHg\n",
      "P_T1 = 202.0;#vapour pressure of toulene in mmHg\n",
      "P_T2_ex = 167.3;#experimental partial pressure in mmmHg\n",
      "\n",
      "#To Calculate the partial pressure of toulene in the solution and check with the experimental value\n",
      "#From the equation 13.95,\n",
      "#ln(P_T2/P_T1) = -intg(x_A/((1-x_A)*p_A))\n",
      "x = []\n",
      "for i in range(0,7):\n",
      "    if (p_A[i] != 0):\n",
      "        x.append((x_A[i]/((1-x_A[i])*p_A[i]))*10**4)\n",
      "    else:\n",
      "        x.append(0)\n",
      "\n",
      "\n",
      "plt.plot(x,p_A)\n",
      "plt.title(\" \")\n",
      "plt.xlabel(\"(x_A/((1-x_A)*p_A))*10**4\")\n",
      "plt.ylabel(\"p_A\")\n",
      "plt.show()\n",
      "      \n",
      "#Area of the graph drawn is\n",
      "A = -0.138;\n",
      "P_T2 = (math.e**A)*P_T1;\n",
      "e = ((P_T2-P_T2_ex)*100)/P_T2_ex;\n",
      "print 'The partial pressure of toulene is %f mmHg'%(P_T2);\n",
      "print ' This deviates %i percent from the reported value'%(e);\n",
      "#end\n"
     ],
     "language": "python",
     "metadata": {},
     "outputs": [
      {
       "metadata": {},
       "output_type": "display_data",
       "png": "[encoded data removed]",
       "text": [
        "<matplotlib.figure.Figure at 0x10654c750>"
       ]
      },
      {
       "output_type": "stream",
       "stream": "stdout",
       "text": [
        "The partial pressure of toulene is 175.961936 mmHg\n",
        " This deviates 5 percent from the reported value\n"
       ]
      }
     ],
     "prompt_number": 8
    },
    {
     "cell_type": "heading",
     "level": 2,
     "metadata": {},
     "source": [
      "Example 13.13  Page No : 254"
     ]
    },
    {
     "cell_type": "code",
     "collapsed": false,
     "input": [
      "%matplotlib inline\n",
      "\n",
      "import math\n",
      "import matplotlib.pyplot as plt\n",
      "import numpy\n",
      "from numpy.linalg import solve\n",
      "\n",
      "#Given\n",
      "P = 760.0;#pressure at maximum boiling azeotrope of A and B in mmHg\n",
      "x_A = 0.6;#mole fraction of A in liquid phase\n",
      "x_B = 0.4;#mole fraction of B in liquid phase\n",
      "p_A = 600.0;#vapour pressure of A at 90 deg cel\n",
      "p_B = 300.0;#vapour pressure of B at 90 deg cel\n",
      "\n",
      "#To Check whether the activity coefficient of the solution can be represented by the Margules equation\n",
      "y_A = P/p_A;#Activity coefficient of A\n",
      "y_B = P/p_B;#Activity coefficient of B\n",
      "#From the Margules equation or equation (a) & (b)\n",
      "U = [[((x_B**2)-(2*(x_B**2)*x_A)), (2*(x_B**2)*x_A)], [(2*(x_A**2)*x_B), ((x_A**2)-(2*(x_A**2)*x_B))]];\n",
      "V = [math.log(y_A), math.log(y_B)];\n",
      "W = solve(U,V);\n",
      "#Now the value of consmath.tants A and B in equations(a)&(b) are given as\n",
      "\n",
      "A = W[0];\n",
      "B = W[1];\n",
      "#let us assume \n",
      "x_A = [0.0,0.2,0.4,0.6,0.8,1.0];\n",
      "x_B = [1.0,0.8,0.6,0.4,0.2,0.0];\n",
      "#C = lny_A; D = lny_B; E = ln(y_A/y_B)\n",
      "C = []\n",
      "D = []\n",
      "E = []\n",
      "for i in range(6):\n",
      "    C.append((x_B[i]**2)*(2*(B-A)*x_A[i]+A));\n",
      "    D.append((x_A[i]**2)*(2*(A-B)*x_B[i]+B));\n",
      "    E.append(C[i]-D[i]);\n",
      "    \n",
      "plt.plot(x_A,E)\n",
      "plt.title(\" \")\n",
      "plt.xlabel(\"x_A\")\n",
      "plt.ylabel(\"ln(y_A/y_B)\")\n",
      "plt.show()\n",
      "#Since the graph drawn is approximately symmetrical.Thus it satisfies the Redlich-Kister Test\n",
      "print 'The actvity coefficients of the system can be represented by Margules equation';\n",
      "#end\n",
      "\n"
     ],
     "language": "python",
     "metadata": {},
     "outputs": [
      {
       "metadata": {},
       "output_type": "display_data",
       "png": "[encoded data removed]",
       "text": [
        "<matplotlib.figure.Figure at 0x10654cdd0>"
       ]
      },
      {
       "output_type": "stream",
       "stream": "stdout",
       "text": [
        "The actvity coefficients of the system can be represented by Margules equation\n"
       ]
      }
     ],
     "prompt_number": 16
    },
    {
     "cell_type": "heading",
     "level": 2,
     "metadata": {},
     "source": [
      "Example 13.14  Page No : 259"
     ]
    },
    {
     "cell_type": "code",
     "collapsed": false,
     "input": [
      "%matplotlib inline\n",
      "import math\n",
      "import matplotlib.pyplot as plt\n",
      "import numpy\n",
      "\n",
      "#Given\n",
      "P = 760.0#Total pressure of the mixture in mmHg\n",
      "T = [80, 90, 95, 100];#Temperature in deg celsius\n",
      "P1 = [87.4, 129.0, 162.0, 187.0];#vapour pressure of 1,1,2,2-tetrachloroethane in mmHg\n",
      "P2 = [356, 526, 648, 760];#Vapour pressure of water in mmHg\n",
      "\n",
      "#To Calculate the composition of the vapour evolved\n",
      "plt.plot(T,P1,\"green\",T,P2,\"red\")\n",
      "plt.title(\" \")\n",
      "plt.xlabel(\"Temp in deg cel\")\n",
      "plt.ylabel(\"Vapour pressure in mmHg\")\n",
      "plt.show()\n",
      "#From the graph we conclude that at 93.8 deg cel\n",
      "P1 = 155.0;#in mm Hg\n",
      "P2 = 605.0;#in mm Hg\n",
      "y_1 = P1/P;\n",
      "y_2 = P2/P;\n",
      "print 'Mole fraction of 1,(1,(2,(2-tetrachloroethane in vapour is %f'%(y_1);\n",
      "print ' Mole fraction of water in vapour is %f'%(y_2);\n",
      "#end\n"
     ],
     "language": "python",
     "metadata": {},
     "outputs": [
      {
       "metadata": {},
       "output_type": "display_data",
       "png": "[encoded data removed]",
       "text": [
        "<matplotlib.figure.Figure at 0x106604950>"
       ]
      },
      {
       "output_type": "stream",
       "stream": "stdout",
       "text": [
        "Mole fraction of 1,(1,(2,(2-tetrachloroethane in vapour is 0.203947\n",
        " Mole fraction of water in vapour is 0.796053\n"
       ]
      }
     ],
     "prompt_number": 17
    },
    {
     "cell_type": "heading",
     "level": 2,
     "metadata": {},
     "source": [
      "Example 13.15  Page No : 263"
     ]
    },
    {
     "cell_type": "code",
     "collapsed": false,
     "input": [
      "%matplotlib inline\n",
      "import math\n",
      "import matplotlib.pyplot as plt\n",
      "import numpy\n",
      "\n",
      "#Given\n",
      "T = [146.2, 142.3, 126.1, 115.9, 95.0, 98.0, 100.0];#Temperature in deg cel\n",
      "P1 = [760.0, 685.0, 450.3, 313.0];#Vapour pressure of 1,1,2,2-tetrachloroethane at the coressponding temperature in mm Hg\n",
      "P2_5 = 648.0;#Vapour pressure of water at 95 deg cel in mm Hg\n",
      "P2_6 = 711.0;#Vapour pressure of water at 98 deg cel in mm Hg\n",
      "P = 760.0;#Total pressure of mixture in mm Hg\n",
      "\n",
      "x1 = [0, 0, 0, 0, 0, 0, 0];\n",
      "#To plot a graph between temperature and vapour phase composition\n",
      "for i in range(0,4):\n",
      "    x1[i] = P1[i]/P;#mole fraction of 1,1,2,2-tetrachloroethane\n",
      "x2_5 = P2_5/P;#mole fraction of water at 95 deg cel\n",
      "x2_6 = P2_6/P;#mole fraction of water at 98 deg cel\n",
      "x1[4] = 1-x2_5;\n",
      "x1[5] = 1-x2_6;\n",
      "\n",
      "plt.plot(x1,T)\n",
      "plt.title(\"\")\n",
      "plt.xlabel(\"mole fraction of 1,1,2,2-tetrachloroethane\")\n",
      "plt.ylabel(\"Temperature in deg cel\")\n",
      "plt.show()\n",
      "print 'The required graph has been ploted in the graphic window';\n",
      "#end\n"
     ],
     "language": "python",
     "metadata": {},
     "outputs": [
      {
       "metadata": {},
       "output_type": "display_data",
       "png": "[encoded data removed]",
       "text": [
        "<matplotlib.figure.Figure at 0x1064ce750>"
       ]
      },
      {
       "output_type": "stream",
       "stream": "stdout",
       "text": [
        "The required graph has been ploted in the graphic window\n"
       ]
      }
     ],
     "prompt_number": 18
    },
    {
     "cell_type": "heading",
     "level": 2,
     "metadata": {},
     "source": [
      "Example 13.16  Page No : 266"
     ]
    },
    {
     "cell_type": "code",
     "collapsed": false,
     "input": [
      "import math \n",
      "\n",
      "#Given\n",
      "#B = -(1.203*10**10)*(T**2.7); second virial coefficient, T is in K\n",
      "#math.log P = 6.95464-(1344.8/(219.482+t))...(a);Vapour pressure of toulene\n",
      "t = 107.2;#Temperature in deg cel\n",
      "T = t+273.16;#in K\n",
      "H_ex = 7964.0;#experimental value of heat of vapourisation in Kcal/Kgmole\n",
      "d = 800.0;#density of liquid toulene in Kg/cubic meter\n",
      "R = 1.98;#gas consmath.tant in Kcal/Kgmole K\n",
      "M = 92.14;#molecular weight of toulene\n",
      "\n",
      "#To Calculate the heat of vapourization of toulene by umath.sing ideal gas law, second virial coefficient but neglecting vl and including vl\n",
      "#From equation (a), let K = dmath.logP/dT\n",
      "K = 1344.8/(219.482+t)**2;\n",
      "#(i)Umath.sing ideal gas behaviour\n",
      "#From equation 13.112(page no 286)\n",
      "H_c = (2.303*R*(T**2))*K;\n",
      "print 'i)The heat of vapourization  umath.sing ideal gas behaviour is %f Kcal/Kgmole'%(H_c);\n",
      "D = ((H_c-H_ex)/H_c)*100;\n",
      "print '    The deviation is %f percent'%(D);\n",
      "\n",
      "#(ii)Umath.sing second virial coeff but neglecting vl\n",
      "#From equation(a)\n",
      "P = 10**(6.95464-1344.8/(219.482+t));#in mm Hg\n",
      "P1 = P*1.033*10**4/760;#in Kgf/sq m\n",
      "B = -((1.203*10**10)/(T**2.7))*10**-3;#in cubic meter/Kgmole\n",
      "#From equation 13.111 (page no 286) neglecting vl,\n",
      "l = (R*T)+((B*P1)/427);#in Kcal/Kgmole\n",
      "H_c = K*2.303*T*l;\n",
      "print 'ii)The heat of vapourisation umath.sing second virial coefficient but neglecting vl is %f Kcal/Kgmole'%(H_c);\n",
      "D = ((H_c-H_ex)/H_c)*100;\n",
      "print '    The deviation in this case is %f percent'%(D);\n",
      "\n",
      "#(iii)Umath.sing second virial coeff including vl\n",
      "vl = M/d;#Liquid specific volume in cubic meter/Kgmole\n",
      "n = P1*vl/427;#in Kcal/Kgmole\n",
      "H_c = K*2.303*T*(l-n);\n",
      "print 'iii)The heat of vapourisation umath.sing second virial coefficient including vl is %f Kcal/Kgmole'%(H_c);\n",
      "D = ((H_c-H_ex)/H_c)*100;\n",
      "print '     The deviation in this case is %f'%(D);\n",
      "#end\n"
     ],
     "language": "python",
     "metadata": {},
     "outputs": [
      {
       "output_type": "stream",
       "stream": "stdout",
       "text": [
        "i)The heat of vapourization  umath.sing ideal gas behaviour is 8312.967730 Kcal/Kgmole\n",
        "    The deviation is 4.197872 percent\n",
        "ii)The heat of vapourisation umath.sing second virial coefficient but neglecting vl is 7998.487742 Kcal/Kgmole\n",
        "    The deviation in this case is 0.431178 percent\n",
        "iii)The heat of vapourisation umath.sing second virial coefficient including vl is 7970.612948 Kcal/Kgmole\n",
        "     The deviation in this case is 0.082967\n"
       ]
      }
     ],
     "prompt_number": 19
    },
    {
     "cell_type": "heading",
     "level": 2,
     "metadata": {},
     "source": [
      "Example 13.17  Page No : 269"
     ]
    },
    {
     "cell_type": "code",
     "collapsed": false,
     "input": [
      "import math \n",
      "\n",
      "#Given\n",
      "H_ex = 539.0;#Heat of vapoization of water in Kcal/Kg\n",
      "Tc = 647.0;#Critical temperature in K\n",
      "Pc = 218.0;#Critical pressure in atm\n",
      "Tb = 373.0;#Boiling point of water in K\n",
      "t = 100.0;#temperature in deg cel\n",
      "M = 18.0;#Molecular weight of water\n",
      "P = 1.0;#pressure at boiling point in atm\n",
      "P1 = 1.033*10**4;#pressure in Kgf/sq m\n",
      "\n",
      "#To Calculate the heat of vapourisation of water by Vishwanath and Kuloor method and by Riedel's method and compare with the experimental value\n",
      "#(i) Umath.sing Vishwanath and Kuloor method\n",
      "H_c = (4.7*Tc*((1-(P/Pc))**0.69)*math.log(P/Pc))/((1-(Tc/Tb))*18);\n",
      "print 'i)The heat of vapourisation of water umath.sing Vishwanath and Kuloor method is %f Kcal/Kg'%(H_c);\n",
      "D = (H_c-H_ex)*100/H_c;\n",
      "print '    The deviation occurs umath.sing this method is %f percent'%(D);\n",
      "\n",
      "#(ii)Umath.sing Riedel's method\n",
      "H_c = (Tb*2.17*(math.log(218)-1))/((0.93-(Tb/Tc))*18);\n",
      "print 'ii)The heat of vapourisation of water umath.sing Riedel method is %f Kcal/Kg'%(H_c);\n",
      "D = (H_c-H_ex)*100/H_c;\n",
      "print '    The deviation occurs umath.sing this method is %f percent'%(D);\n",
      "\n",
      "#(iii)By umath.sing given vapour equation; math.logP = 8.2157-(2218.8537/(273.16+t)), t is in deg cel\n",
      "#From steam table,\n",
      "Vv = 1.673;#in cubic meter/Kg\n",
      "Vl = 0.001;#in cubic meter/Kg\n",
      "H_c = (2218.8/(273.16+t)**2)*(2.3*Tb*P1*(Vv-Vl)/427);\n",
      "print 'iii)The heat of vapourisation umath.sing the given vapour equation is %f Kcal/Kg'%(H_c);\n",
      "D = (H_c-H_ex)*100/H_c;\n",
      "print '    The deviation occurs umath.sing this method is %f percent'%(D);\n",
      "#end\n"
     ],
     "language": "python",
     "metadata": {},
     "outputs": [
      {
       "output_type": "stream",
       "stream": "stdout",
       "text": [
        "i)The heat of vapourisation of water umath.sing Vishwanath and Kuloor method is 1234.397750 Kcal/Kg\n",
        "    The deviation occurs umath.sing this method is 56.334982 percent\n",
        "ii)The heat of vapourisation of water umath.sing Riedel method is 557.743828 Kcal/Kg\n",
        "    The deviation occurs umath.sing this method is 3.360652 percent\n",
        "iii)The heat of vapourisation umath.sing the given vapour equation is 552.934102 Kcal/Kg\n",
        "    The deviation occurs umath.sing this method is 2.520029 percent\n"
       ]
      }
     ],
     "prompt_number": 20
    },
    {
     "cell_type": "heading",
     "level": 2,
     "metadata": {},
     "source": [
      "Example 13.18  Page No : 270"
     ]
    },
    {
     "cell_type": "code",
     "collapsed": false,
     "input": [
      "import math \n",
      "\n",
      "#Given\n",
      "T1 = 273-87.0;#temp in K\n",
      "T2 = 273.0;#temp in K\n",
      "H1 = 115.0;#Latent heat of saturated ethane at 1 atm and -87 deg cel in Kcal/Kg\n",
      "H2_ex = 72.44;#Experimental value of latent heat at 0 deg cel in Kcal/Kg\n",
      "Tc = 306.0;#Critical temperature in K\n",
      "M = 30.0;#Molecular weight of ethane\n",
      "\n",
      "#To Calculate the latent heat of saturated ethane at 0 deg cel\n",
      "Tr1 = T1/Tc;#reduced temp in K\n",
      "Tr2 = T2/Tc;#reduced temp in K\n",
      "#(i)Umath.sing Waton's method:\n",
      "H2_c = H1*((1-Tr2)/(1-Tr1))**0.38;\n",
      "print 'i)The latent heat of saturated ethane at 0 deg cel umath.sing Waton method is %f Kcal/Kg'%(H2_c);\n",
      "D = (H2_ex-H2_c)*100/H2_ex;\n",
      "print '   The deviation occurs umath.sing this method is %f percent'%(D);\n",
      "\n",
      "#(ii)Umath.sing Vishwanath and Kuloor method\n",
      "#From equation 13.117 (page no 289)\n",
      "n = (0.00133*(H1*M/T1)+0.8794)**(1/0.1);\n",
      "H2_c = H1*((1-Tr2)/(1-Tr1))**n;\n",
      "print 'ii)The latent heat of saturated ethane at 0 deg cel umath.sing Vishwanath and Kuloor method is %f Kcal/Kg'%(H2_c);\n",
      "D = (H2_ex-H2_c)*100/H2_ex;\n",
      "print '   The deviation occurs umath.sing this method is %f percent'%(D);\n",
      "#end\n"
     ],
     "language": "python",
     "metadata": {},
     "outputs": [
      {
       "output_type": "stream",
       "stream": "stdout",
       "text": [
        "i)The latent heat of saturated ethane at 0 deg cel umath.sing Waton method is 70.411608 Kcal/Kg\n",
        "   The deviation occurs umath.sing this method is 2.800099 percent\n",
        "ii)The latent heat of saturated ethane at 0 deg cel umath.sing Vishwanath and Kuloor method is 71.809846 Kcal/Kg\n",
        "   The deviation occurs umath.sing this method is 0.869898 percent\n"
       ]
      }
     ],
     "prompt_number": 21
    },
    {
     "cell_type": "heading",
     "level": 2,
     "metadata": {},
     "source": [
      "Example 13.19  Page No : 272"
     ]
    },
    {
     "cell_type": "code",
     "collapsed": false,
     "input": [
      "import math \n",
      "\n",
      "#Given\n",
      "H_s_ex = 32.7;#experimental value of latent heat of the solution in KJ/mole\n",
      "x1 = 0.536;#mole percent of toulene in the solution\n",
      "x2 = 1-0.536;#mole percent of 1,1,1-trichloroethane in the solution\n",
      "H1 = 33.34;#Latent heat of toulene in KJ/gmole\n",
      "H2 = 29.72;#Latent heat of 1,1,1-trichloroethane in KJ/gmole\n",
      "He = 0.0;#excess enthalpy is neglected\n",
      "Cp1 = 39.55;#Specific heat of toulene in cal/gmole deg cel\n",
      "Cp2 = 24.62;#Specific heat of 1,1,1-trichloroethane in cal/gmole deg cel\n",
      "T_D = 100.0;#dew point temperature in deg cel\n",
      "T_B = 92.6;#bubble point temperature in deg cel\n",
      "\n",
      "#To calculate the latent heat of the solution and compare it with the one which calculated from the given vapour pressure equation\n",
      "#(i)Calculation of latent heat of the solution\n",
      "#From equation 13.118 (page no 291)\n",
      "H_s = H1*x1+H2*x2+He+(Cp1*x1+Cp2*x2)*10**-3*4.17*(T_D-T_B);\n",
      "print 'i)The latent heat of the solution is %f KJ/gmole'%(H_s);\n",
      "D = ((H_s_ex-H_s)*100)/H_s_ex;\n",
      "print '    The deviation occurs using this method is %f percent'%(D);\n",
      "\n",
      "#(ii)Calculation of latent heat from the vapour pressure equation\n",
      "#From equation (a) (page no 291)\n",
      "K = 1657.599/((273.16+5)**2);\n",
      "H_s = (K*2.303*8.314*(273.16+5)**2)*10**-3;\n",
      "print 'ii)The latent heat of the solution is %f KJ/gmole'%(H_s);\n",
      "D = ((H_s_ex-H_s)*100)/H_s_ex;\n",
      "print '    The deviation occurs using this method is %f percent'%(D);\n",
      "#end\n"
     ],
     "language": "python",
     "metadata": {},
     "outputs": [
      {
       "output_type": "stream",
       "stream": "stdout",
       "text": [
        "i)The latent heat of the solution is 32.666984 KJ/gmole\n",
        "    The deviation occurs using this method is 0.100965 percent\n",
        "ii)The latent heat of the solution is 31.738283 KJ/gmole\n",
        "    The deviation occurs using this method is 2.941029 percent\n"
       ]
      }
     ],
     "prompt_number": 23
    }
   ],
   "metadata": {}
  }
 ]
}