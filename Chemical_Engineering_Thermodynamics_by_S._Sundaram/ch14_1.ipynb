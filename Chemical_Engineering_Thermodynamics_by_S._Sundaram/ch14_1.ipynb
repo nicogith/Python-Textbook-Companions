{
 "metadata": {
  "name": "",
  "signature": "sha256:1e67847320cea04698ca89c9f40ead4304c8c00593843ef51265231f33b2b44d"
 },
 "nbformat": 3,
 "nbformat_minor": 0,
 "worksheets": [
  {
   "cells": [
    {
     "cell_type": "heading",
     "level": 1,
     "metadata": {},
     "source": [
      "Chapter 14 : Thermodynamics of Chemical Reactions"
     ]
    },
    {
     "cell_type": "heading",
     "level": 2,
     "metadata": {},
     "source": [
      "Example 14.1  Page No : 282"
     ]
    },
    {
     "cell_type": "code",
     "collapsed": false,
     "input": [
      "#Given\n",
      "H_f_C2H4 = 12500.0;#Smath.radians(numpy.arcmath.tan(ard heat of formation of ethylene at 25 deg cel in Kcal/Kgmole\n",
      "H_f_C2H4O = -11667.0;#Smath.radians(numpy.arcmath.tan(ard heat of formation of ethylene oxide at 25 deg cel in Kcal/Kgmole\n",
      "\n",
      "#To Calculate the smath.radians(numpy.arcmath.tan(ard heats of reaction at 25 deg celsius\n",
      "#The reaction is: C2H4 + (1/2)O2 - C2H4O\n",
      "del_H_rxn = H_f_C2H4O-H_f_C2H4;#Since, Smath.radians(numpy.arcmath.tan(ard heat of formation of O2 is zero\n",
      "print 'The standard heats of reaction at 25 deg celsius is %d Kcal/Kgmole'%(del_H_rxn);\n",
      "#end\n"
     ],
     "language": "python",
     "metadata": {},
     "outputs": [
      {
       "output_type": "stream",
       "stream": "stdout",
       "text": [
        "The standard heats of reaction at 25 deg celsius is -24167 Kcal/Kgmole\n"
       ]
      }
     ],
     "prompt_number": 1
    },
    {
     "cell_type": "heading",
     "level": 2,
     "metadata": {},
     "source": [
      "Example 14.2  Page No : 284"
     ]
    },
    {
     "cell_type": "code",
     "collapsed": false,
     "input": [
      "#Given\n",
      "T1 = 25+273.0;#Initial temperature in K\n",
      "T2 = 450+273.0;#Final temperature in K\n",
      "#Specific heat of sulphur dioxide is given by the relation:\n",
      "#Cp = 7.116+9.512*10**-3*T+(3.511*10**-6)*T**2\n",
      "\n",
      "#To Calculate the sensible heat required\n",
      "#Basis: 1 Kgmole of sulphur dioxide\n",
      "Q = 7.116*(T2-T1)+(9.512*10**-3*(T2**2-T1**2)/2)+((3.51*10**-6)*(T2**3-T1**3)/3);\n",
      "print 'Sensible heat required is %d Kcal/Kgmole'%(Q);\n",
      "#end\n"
     ],
     "language": "python",
     "metadata": {},
     "outputs": [
      {
       "output_type": "stream",
       "stream": "stdout",
       "text": [
        "Sensible heat required is 5499 Kcal/Kgmole\n"
       ]
      }
     ],
     "prompt_number": 2
    },
    {
     "cell_type": "heading",
     "level": 2,
     "metadata": {},
     "source": [
      "Example 14.3  Page No : 289"
     ]
    },
    {
     "cell_type": "code",
     "collapsed": false,
     "input": [
      "#Given\n",
      "H_C2H4 = 12500;#Smath.radians(numpy.arcmath.tan(ard heat of formation  of ethylene at 25 de cel\n",
      "H_C2H4O = -12190;#Smath.radians(numpy.arcmath.tan(ard heat of formation of ethylene oxide at 25 deg cel\n",
      "H_CO2 = -94052;#Smath.radians(numpy.arcmath.tan(ard heat of formation of CO2 at 25 deg cel\n",
      "H_H2O = -57798;#Smath.radians(numpy.arcmath.tan(ard heat of formation of H2O at 25 deg cel\n",
      "T1 = 200;#temperature at which mixture entered in deg cel\n",
      "Ti = 25;#intermediate temperature in deg cel\n",
      "T2 = 260;#product temperature in deg cel\n",
      "Cp_air_a = 7;#Mean specific heat for 25 to 200 deg cel in Kcal/Kgmole\n",
      "Cp_C2H4_a = 18;#Mean specific heat for 25 to 200 deg cel in Kcal/Kgmole\n",
      "#Mean specific heat for 25 to 260 deg cel in Kcal/Kgmole are given as:\n",
      "Cp_C2H4_b = 19;\n",
      "Cp_C2H4O_b = 21;\n",
      "Cp_O2_b = 7.30;\n",
      "Cp_N2_b = 7.00;\n",
      "Cp_CO2_b = 10.00;\n",
      "Cp_H2O_b = 8.25;\n",
      "#Basis: 1 Kgmole of ethylene as feed\n",
      "n_air = 9;#Kgmoles\n",
      "n_C2H4 =1;#Kgmoles\n",
      "n_C2H4_1 = 0.6#ethylene consumed while converting in C2H4O in Kgmoles (Rxn 1)\n",
      "n_C2H4_2 = 0.3;#ethylene burnt completely to CO2 in Kgmoles (Rxn 2)\n",
      "\n",
      "#To Calculate the heat must be removed if the product temperature should not exceed 260 deg cel\n",
      "n_O2 = n_air*0.21;#Kgmoles of O2 fed\n",
      "n_N2 = n_air-n_O2;#Kgmoles of N2 fed\n",
      "#Rxn 1: (0.6)C2H4 + (0.3)O2 - (0.6)C2H4O;...(i) 60% of C2H4 is converted to C2H4O\n",
      "n_O2_1 = n_C2H4_1/2;#Kgmoles of oxygen consumed\n",
      "n_C2H4O_1 = n_C2H4_1;#C2H4O formed in Kgmoles\n",
      "#Rxn 2: (0.3)C2H4 + (0.9)O2 - (0.6)CO2+ (0.6)H20;...(ii) 30%conversion\n",
      "n_O2_2 = 3*n_C2H4_2;#Kgmoles of O2 reacted\n",
      "n_CO2_2 = 2*n_C2H4_2;#Kgmoles of CO2 formed\n",
      "n_H2O_2 = 2*n_C2H4_2;#Kgmoles of H2O formed\n",
      "n_C2H4_r = n_C2H4 - n_C2H4_1 - n_C2H4_2;#unreacted ethylene in Kgmoles\n",
      "n_O2_r = n_O2 - n_O2_1-n_O2_2;#unreacted O2 in Kgmoles\n",
      "#The overall rxn is given by (i)&(ii),\n",
      "#(0.9)C2H4 + (1.2)O2 - (0.6)C2H4O + (0.6)CO2 + (0.6)H2O...(iii)\n",
      "del_H = (0.6*H_C2H4O)+(0.6*H_CO2)+(0.6*H_H2O)-(0.9*H_C2H4);#math.since,smath.radians(numpy.arcmath.tan(ard enthalpy of O2 is zero; Smath.radians(numpy.arcmath.tan(ard heat of rxn in Kcal/Kgmole\n",
      "Q1 = (n_C2H4*Cp_C2H4_a + n_air*Cp_air_a)*(Ti-T1);#Sensible heat in feed in Kcal\n",
      "Q2 = (n_C2H4_r*Cp_C2H4_b + n_C2H4O_1*Cp_C2H4O_b + n_CO2_2*Cp_CO2_b + n_H2O_2*Cp_H2O_b + n_O2_r*Cp_O2_b + n_N2*Cp_N2_b)*(T2-Ti);#Sensible heat in product in Kcal\n",
      "Q = Q1+Q2+del_H;\n",
      "print 'The heat to be removed is %f Kcal so that the product temperature is 260 deg celsius'%(-Q);\n",
      "#end\n"
     ],
     "language": "python",
     "metadata": {},
     "outputs": [
      {
       "output_type": "stream",
       "stream": "stdout",
       "text": [
        "The heat to be removed is 104988.605000 Kcal so that the product temperature is 260 deg celsius\n"
       ]
      }
     ],
     "prompt_number": 3
    },
    {
     "cell_type": "heading",
     "level": 2,
     "metadata": {},
     "source": [
      "Example 14.4  Page No : 293"
     ]
    },
    {
     "cell_type": "code",
     "collapsed": false,
     "input": [
      "%matplotlib inline\n",
      "import math\n",
      "\n",
      "import matplotlib.pyplot as plt\n",
      "import numpy\n",
      "\n",
      "#Given\n",
      "#Basis: 1Kgmole of C0\n",
      "#CO + (1/2)O2 - CO2\n",
      "#Whem mixture entered,their compositions are given as:\n",
      "n_CO = 1.0;#Kgmole\n",
      "del_H = -67636.0;#Smath.radians(numpy.arcmath.tan(ard heat of reaction in Kcal/Kgmole at 25 deg cel\n",
      "T1 = 95.0;#Temperature at which mixture entered in deg celsius\n",
      "T2 = 25.0;#Intermediate temperature in deg celsius\n",
      "#Mean specific heat values for the temperature between 25 and 95 deg celsius in Kcal/Kgmole are given as (from figure 14.4)(page no 303)\n",
      "Cpm_CO = 6.95;\n",
      "Cpm_O2 = 7.1;\n",
      "Cpm_N2 = 6.95;\n",
      "\n",
      "#To Calculate the theoretical flame temperature when both air and CO2 enter at 95 deg celsius\n",
      "n_O2 = 1.0;#Kgmole, as 100% excess air is given\n",
      "n_N2 = n_O2*(0.79/0.21);#Kgmole\n",
      "#After the rxn:\n",
      "n_CO2 = n_CO;#Kgmole\n",
      "n_O2_r = n_O2-(n_CO/2);#remaining Kgmole of O2\n",
      "#In equation 14.18 (page no 307) say: H_2-H_R = Ha, H_P-H_3 = Hb, Hc = del_H+Ha & Ht = Hc+Hb\n",
      "Ha = (n_CO*Cpm_CO + n_O2*Cpm_O2 + n_N2*Cpm_N2)*(T2-T1);#in Kcal/Kgmole\n",
      "Hc = del_H+Ha;#in Kcal/Kgmole\n",
      "#For calculating Hb let us assume the temperature as\n",
      "T = [530, 1000, 1650];#in deg celsius\n",
      "Cpm_CO2 = [10.85, 12, 12.75];#Mean specific heat of CO2 at the coresspondig temperature (from figure 14.4)\n",
      "Cpm_O2 = [7.55, 7.8, 8.3];#Mean specific heat of O2 at the coresspondig temperature (from figure 14.4)\n",
      "Cpm_N2 = [7.15, 7.5, 7.85];#Mean specific heat of N2 at the coresspondig temperature (from figure 14.4)\n",
      "Hb = []\n",
      "Ht = []\n",
      "for i in range(0,3):\n",
      "    Hb.append((n_CO2*Cpm_CO2[i]+n_O2_r*Cpm_O2[i]+n_N2*Cpm_N2[i])*(T[i]-T2));#in Kcal/Kgmole\n",
      "    Ht.append(Hc+Hb[i]);#in Kcal/Kgmole\n",
      "\n",
      "plt.plot(T,Ht)\n",
      "plt.title(\"\")\n",
      "plt.xlabel(\"Temperature, deg celsius\")\n",
      "plt.ylabel(\"Ht in Kcal/Kgmole\")\n",
      "plt.show()\n",
      "Tf = numpy.interp(0,Ht,T)              \n",
      "print 'The adiabatic temperature is read as %d degree celsius'%(Tf);\n",
      "#end\n"
     ],
     "language": "python",
     "metadata": {},
     "outputs": [
      {
       "metadata": {},
       "output_type": "display_data",
       "png": "[encoded data removed]",
       "text": [
        "<matplotlib.figure.Figure at 0x10ee76150>"
       ]
      },
      {
       "output_type": "stream",
       "stream": "stdout",
       "text": [
        "The adiabatic temperature is read as 1549 degree celsius\n"
       ]
      }
     ],
     "prompt_number": 4
    },
    {
     "cell_type": "heading",
     "level": 2,
     "metadata": {},
     "source": [
      "Example 14.5  Page No : 294"
     ]
    },
    {
     "cell_type": "code",
     "collapsed": false,
     "input": [
      "\n",
      "#Given\n",
      "T = 298.0;#Temperature in Kelvin\n",
      "#standard enthalpy in Kcal/Kgmole of the following components at 298 K are given as\n",
      "H_SO2 = -70960;\n",
      "H_SO3 = -94450;\n",
      "H_O2 = 0;\n",
      "#standard entropy in Kcal/Kgmole K of the following components at 298 K are given as\n",
      "S_SO2 = 2.48;\n",
      "S_SO3 = -19.7\n",
      "S_O2 = 0;\n",
      "#Basis: 1 Kgmole of SO2\n",
      "#SO2 +(1/2)O2 - SO3\n",
      "\n",
      "#To Calculate the standard free energy for the reaction\n",
      "n_SO2 = 1;#Kgmole of SO2 fed\n",
      "n_O2 = (1/2)*2;#Kgmole of O2  fed as 100% excess O2 is given\n",
      "n_SO3 = n_SO2;#Kgmole of SO3 formed\n",
      "#From equation 14.38 (page no 312)\n",
      "del_F = (H_SO3-(T*S_SO3))-(H_SO2-(T*S_SO2))-(H_O2-(T*S_O2));\n",
      "print 'The standard free energy for the reaction at 25 degree celsius is %f Kcal/Kgmole'%(del_F);\n",
      "#end\n"
     ],
     "language": "python",
     "metadata": {},
     "outputs": [
      {
       "output_type": "stream",
       "stream": "stdout",
       "text": [
        "The standard free energy for the reaction at 25 degree celsius is -16880.360000 Kcal/Kgmole\n"
       ]
      }
     ],
     "prompt_number": 5
    },
    {
     "cell_type": "heading",
     "level": 2,
     "metadata": {},
     "source": [
      "Example 14.6  Page No : 299"
     ]
    },
    {
     "cell_type": "code",
     "collapsed": false,
     "input": [
      "%matplotlib inline\n",
      "import math\n",
      "import matplotlib.pyplot as plt\n",
      "import numpy\n",
      "\n",
      "#Given\n",
      "#SO2 + (1/2)O2 - SO3\n",
      "#Basis: 1 Kgmole of SO2\n",
      "n_SO2 = 1.0;# SO2 fed in Kgmole\n",
      "#From table 14.1 (page no 301)\n",
      "#alpha values for the following components are given as\n",
      "a_SO2 = 7.116;\n",
      "a_O2 = 6.148;\n",
      "a_SO3 = 6.077;\n",
      "#beta values for the following components are given as\n",
      "b_SO2 = 9.512*10**-3;\n",
      "b_O2 = 3.102*10**-3;\n",
      "b_SO3 = 25.537*10**-3;\n",
      "#standard enthalpy of the following components at 25 deg cel in Kcal/Kgmole are given as\n",
      "H_SO2 = -70960.0;\n",
      "H_O2 = 0.0;\n",
      "H_SO3 = -94450;\n",
      "#standard free energy of the following components at 25 deg cel in Kcal/Kgmole K are given as\n",
      "F_SO2 = -71680.0;\n",
      "F_O2 = 0.0;\n",
      "F_SO3 = -88590.08;\n",
      "n_O2 = n_SO2;#O2 fed in Kgmole; math.since 50 mole percent mixture of SO2 & O2 is fed\n",
      "n_SO3 = n_SO2;#SO3 formed in Kgmole\n",
      "n_O2_e = n_O2-(n_O2/2);#Kgmoles of O2 in exit gas\n",
      "n_O2_r = n_O2/2;#Kgmoles of O2 reacted\n",
      "R = 1.98;#gas consmath.tant in Kcal/Kgmole K\n",
      "\n",
      "#To show  the variation of the standard heats of reaction with temperature and the equilibrium consmath.tant with temperature graphically in the  given temperature range\n",
      "#(i)Variation of the standard heats of reaction with temperature\n",
      "del_H = (n_SO3*H_SO3)-(n_O2_r*H_O2)-(n_SO2*H_SO2);# in Kcal/Kgmole\n",
      "del_F = (n_SO3*F_SO3)-(n_O2_r*F_O2)-(n_SO2*F_SO2);# in Kcal/Kgmole\n",
      "#From equation 14.10 (page no 301)\n",
      "del_a = (n_SO3*a_SO3)-(n_O2_r*a_O2)-(n_SO2*a_SO2);\n",
      "del_b = (n_SO3*b_SO3)-(n_O2_r*b_O2)-(n_SO2*b_SO2);\n",
      "#In equation 14.11 (page no 302), substituting del_H at\n",
      "T = 298;#in deg cel\n",
      "I = del_H - del_a*T - (del_b*(T**2)/2);# integrating consmath.tant\n",
      "print 'iThe standard heat of reaction at any tempperature can be calculated by the relation:';\n",
      "print '    del_Ht = %fT'%del_a,\n",
      "print ' + %fT**2 '%(del_b/2),\n",
      "print '%f'%I\n",
      "\n",
      "#(ii)Variation of the equilibrium consmath.tant with temperature\n",
      "#K1 = lnKa (say)\n",
      "K1 = -del_F/(R*T);\n",
      "#From equation 14.42 (page no 316); M1 = M/R (say)\n",
      "M1 = K1-(del_a/R)*math.log(T)-(del_b/(2*R))*T+(I/(T*R));\n",
      "#Let us assume the temperature in the range 800K to 1500K as\n",
      "Ta = [700, 800, 825, 850, 900, 1000, 1100, 1300, 1500];\n",
      "Ka = []\n",
      "for i in range(0,9):\n",
      "    Ka.append(math.e**((del_a/R)*math.log(Ta[i])+(del_b*Ta[i]/(2*R))-(I/(Ta[i]*R))+M1));\n",
      "\n",
      "\n",
      "plt.plot(Ta,Ka);\n",
      "plt.title(\"\" )\n",
      "plt.xlabel(\"Temperatur in K\")\n",
      "plt.ylabel(\"equilibrum constant K\")\n",
      "plt.show()\n",
      "                                                                                                                                                                       \n",
      "print 'ii)From the graph it can be seen that as temperature increases Ka decreases exponentially,(so the reaction is exothermic.';\n",
      "#end\n"
     ],
     "language": "python",
     "metadata": {},
     "outputs": [
      {
       "output_type": "stream",
       "stream": "stdout",
       "text": [
        "iThe standard heat of reaction at any tempperature can be calculated by the relation:\n",
        "    del_Ht = -4.113000T  + 0.007237T**2  -22907.000548\n"
       ]
      },
      {
       "metadata": {},
       "output_type": "display_data",
       "png": "[encoded data removed]",
       "text": [
        "<matplotlib.figure.Figure at 0x10b2ade10>"
       ]
      },
      {
       "output_type": "stream",
       "stream": "stdout",
       "text": [
        "ii)From the graph it can be seen that as temperature increases Ka decreases exponentially,(so the reaction is exothermic.\n"
       ]
      }
     ],
     "prompt_number": 1
    },
    {
     "cell_type": "heading",
     "level": 2,
     "metadata": {},
     "source": [
      "Example 14.7  Page No : 300"
     ]
    },
    {
     "cell_type": "code",
     "collapsed": false,
     "input": [
      "%matplotlib inline\n",
      "import math\n",
      "import matplotlib.pyplot as plt\n",
      "import numpy\n",
      "\n",
      "#Given\n",
      "#SO2 + (1/2)O2 - SO3\n",
      "#Basis: 1 Kgmole of SO2\n",
      "n_SO2 = 1.0;# SO2 fed in Kgmole\n",
      "n_O2 = n_SO2;#O2 fed in kgmole\n",
      "\n",
      "#To Calculate the conversion of SO2 to SO3 at 1atm and at various temperature\n",
      "#(1)Calculate the conversion of SO2 to SO3 \n",
      "P = 1.0;#Pressure in atm\n",
      "T = 850.0;#Temperature in K\n",
      "m = 1-1-(1/2.0);\n",
      "#From example 14.6\n",
      "Ta = [700.0, 800.0, 825.0, 850.0, 900.0, 1000.0, 1100.0, 1300.0, 1500.0];\n",
      "Ka = [395.40, 52.51, 34.60, 23.44, 11.59, 3.527, 1.48, 0.398, 0.0016];\n",
      "\n",
      "\n",
      "\n",
      "plt.plot(Ta,Ka)\n",
      "plt.title(\"Equilibrium consmath.tant vs Temperature\")\n",
      "plt.xlabel(\"Temperature in K\")\n",
      "plt.ylabel(\"Ka\")\n",
      "plt.show()\n",
      "Ka1 = numpy.interp(850,Ta,Ka)\n",
      "\n",
      "\n",
      "#Let Nc be the moles of SO3 at equilibrium\n",
      "Nc = [0.1, 0.2, 0.3, 0.4, 0.5, 0.7, 0.8, 0.9, 0.930, 0.95, 0.98, 0.988, 0.989, 0.9895, 0.9897, 0.9899, 0.9900];\n",
      "#From equation 14.49 (page no 320) and umath.sing the given data ,we got equation (b) (page no 323)\n",
      "Ka = []\n",
      "for i in range (0,17):\n",
      "    Ka.append((((n_SO2+n_O2-0.5*Nc[i])/(n_O2-0.5*Nc[i]))**(1/2.0))*(Nc[i]/(n_SO2-Nc[i])));\n",
      "\n",
      "    \n",
      "\n",
      "\n",
      "plt.plot(Nc,Ka)\n",
      "plt.title(\"Equilibrium consmath.tant vs Kgmoles of SO3\")\n",
      "plt.xlabel(\"Kg moles of SO3\")\n",
      "plt.ylabel(\"Ka\")\n",
      "Nc1 = numpy.interp(Ka1,Ka,Nc)\n",
      "\n",
      "\n",
      "C = Nc1*100.0/n_SO2;\n",
      "print '1)The conversion of SO2 to SO3 at 1atm and 850K is %f percent'%C;\n",
      "\n",
      "#(2)Calculation of conversion at 1 atm and 850 K under the following conditions\n",
      "#(i) Given:\n",
      "n_N2 = 3.75;#Kgmoles of N2 fed\n",
      "#Let Nc be the moles of SO3 at equilibrium\n",
      "Nc = [0.85, 0.87, 0.90];\n",
      "#From equation 14.49 (page no 320) and umath.sing the given data ,we got equation (c) (page no 324)\n",
      "Ka2 = []\n",
      "for i in range(0,3):\n",
      "    Ka2.append((((+n_N2+n_SO2+n_O2-0.5*Nc[i])/(n_O2-0.5*Nc[i]))**(1/2.0))*(Nc[i]/(n_SO2-Nc[i])));\n",
      "\n",
      "\n",
      "\n",
      "plt.plot(Nc,Ka2)\n",
      "Nc2 = numpy.interp(Ka1,numpy.transpose(Ka2),Nc)\n",
      "\n",
      "                \n",
      "C2 = Nc2*100.0/n_SO2;\n",
      "print ' 2)i)The conversion of SO2 to SO3 at 1 atm and 850 K when inert gas is also added is %f percent'%C2;\n",
      "\n",
      "\n",
      "\n",
      "                \n",
      "\n",
      "#(ii)SO3 is also sent along the original feed\n",
      "n_SO3 = 1.0;#Kgmoles of SO3 fed\n",
      "#Let Nc be the moles of SO3 at equilibrium\n",
      "Nc = [0.80, 0.86, 0.92];\n",
      "#From equation 14.49 (page no 320) and umath.sing the given data ,we got equation (d) (page no 326)\n",
      "Ka3 = []\n",
      "for i in range(0,3):\n",
      "    Ka3.append((((+n_SO3+n_SO2+n_O2-0.5*Nc[i])/(n_O2-0.5*Nc[i]))**(1/2.0))*((n_SO3+Nc[i])/(n_SO2-Nc[i])));\n",
      "\n",
      "\n",
      "plt.plot(Nc,Ka3)\n",
      "Nc3 = numpy.interp(Ka1,Ka3,Nc)\n",
      "\n",
      "\n",
      "C3 = Nc3*100.0/n_SO2;\n",
      "print '   ii)The conversion of SO2 to SO3 at 1 atm and 850 K when SO3 is also added along the original feed is %f percent'%C3;\n",
      "\n",
      "#(iii)Variation of SO2 to O2 ratio:\n",
      "#(a)SO2:O2 = 1:1 ; This has been worked out in part 1\n",
      "print '   iii)a)The conversion of SO2 to SO3 at 1atm and 850K when SO2:O2 = 1:1 is %f percent'%(C);\n",
      "Xc = Nc1/(n_SO2+n_O2-0.5*Nc1);\n",
      "\n",
      "#(b)SO2:O2 = 1.1:0.5,Now\n",
      "n_SO2 = 1.1;#Kgmoles of SO2 fed\n",
      "n_O2 = 0.5;#Kgmoles of O2 fed\n",
      "#Let Nc be the moles of SO3 at equilibrium\n",
      "Nc = [0.9, 0.91, 0.92];\n",
      "#From equation 14.49 (page no 320) and umath.sing the given data ,we got equation (e) (page no 327)\n",
      "Ka4 = []\n",
      "for i in range(0,3):\n",
      "        Ka4.append((((n_SO2+n_O2-0.5*Nc[i])/(n_O2-0.5*Nc[i]))**(1/2.0))*(Nc[i]/(n_SO2-Nc[i])));\n",
      "\n",
      "\n",
      "plt.plot(Nc,Ka4)\n",
      "Nc4 = numpy.interp(Ka1,Ka4,Nc)\n",
      "\n",
      "\n",
      "\n",
      "\n",
      "C4 = Nc4*100.0/n_SO2;\n",
      "print '   iii)b)The conversion of SO2 to SO3 at 1atm and 850K when SO2:O2 = 1.1:0.5 is %f percent'%C4;\n",
      "Xc1 = Nc4/(n_SO2+n_O2-0.5*Nc4);\n",
      "\n",
      "#(c)SO2:O2 = 1:0.5\n",
      "n_SO2 = 1.0;#Kgmoles of SO2 fed\n",
      "n_O2 = 0.5;#Kgmoles of O2 fed\n",
      "#Let Nc be the moles of SO3 at equilibrium\n",
      "Nc = [0.8, 0.85, 0.86, 0.87];\n",
      "#From equation (a)\n",
      "Ka5 = []\n",
      "for i in range(0,4):\n",
      "    Ka5.append((((n_SO2+n_O2-0.5*Nc[i])/(n_O2-0.5*Nc[i]))**(1/2.0))*(Nc[i]/(n_SO2-Nc[i])));\n",
      "\n",
      "\n",
      "\n",
      "plt.plot(Nc,Ka5)\n",
      "Nc5 = numpy.interp(Ka1,Ka5,Nc)\n",
      "\n",
      "    \n",
      "C5 = Nc5*100.0/n_SO2;\n",
      "print '   iii)c)The conversion of SO2 to SO3 at 1atm and 850K when SO2:O2 = 1:0.5 is %f percent'%(C5);\n",
      "Xc2 = Nc5/(n_SO2+n_O2-0.5*Nc5);\n",
      "\n",
      "if(Xc2>Xc) and (Xc2>Xc1):\n",
      "    print '        SO2:O2 = 1:0.5 gives the maximum concentration of SO3 at equilibrium.';\n",
      "else:\n",
      "    if(Xc1>Xc) and (Xc1>Xc2):\n",
      "        print '        SO2:O2 = 1.1:0.5 gives the maximum concentration of SO3 at equilibrium';\n",
      "    else:\n",
      "        if(Xc>Xc1) and (Xc>Xc2):\n",
      "            print '        SO2:O2 = 1:1 gives the maximum concentration of SO3 at equilibrium';\n",
      "\n",
      "\n",
      "\n",
      "#(3)Conversion of SO2 to SO3 at 50 atm and 850 K when SO2:O2 = 1:1\n",
      "n_SO2 = 1.0;#Kgmole of SO2 fed\n",
      "n_O2 = 1.0;#Kgmoles of O2 fed\n",
      "P = 50.0;#Pressure in atm\n",
      "#From figure A.2.9\n",
      "phi_SO2 = 0.99;\n",
      "phi_SO3 = 0.972;\n",
      "phi_O2 = 1.0;\n",
      "#From equation 14.48 (page no320), Ka = Ky*(P**m)*K_phi\n",
      "K_phi = phi_SO3/(phi_SO2*(phi_O2**2));\n",
      "#Let Nc be the moles of SO3 at equilibrium\n",
      "Nc = [0.99, 0.985, 0.97, 0.96];\n",
      "Ka6 = []\n",
      "for i in range(0,4):\n",
      "    Ka6.append(K_phi*(P**m)*((((n_SO2+n_O2-0.5*Nc[i])/(n_O2-0.5*Nc[i]))**(1/2.0))*(Nc[i]/(n_SO2-Nc[i]))));\n",
      "\n",
      "\n",
      "plt.plot(Nc,Ka6)\n",
      "plt.legend(['1 part', '2.(i) part', '2.(ii) part', '2.(iii).(b) part', '2.(iii).(c) part', '3 part'])\n",
      "plt.show()\n",
      "Nc6 = numpy.interp(Ka1,Ka6,Nc)\n",
      "\n",
      "\n",
      "C = Nc6*100.0/n_SO2;\n",
      "print ' 3)The conversion of SO2 to SO3 at 50atm and 850K  when SO2:O2 = 1:1 is %f percent'%(C);\n",
      "#legend(\"1 part\",\"2.(i) part\",\"2.(ii)part\",\"2.(iii).(b)part\",\"2.(iii).(c)part\",\"3 part\");\n",
      "\n",
      "\n",
      "\n",
      "#end\n"
     ],
     "language": "python",
     "metadata": {},
     "outputs": [
      {
       "metadata": {},
       "output_type": "display_data",
       "png": "[encoded data removed]",
       "text": [
        "<matplotlib.figure.Figure at 0x10fc16a50>"
       ]
      },
      {
       "output_type": "stream",
       "stream": "stdout",
       "text": [
        "1)The conversion of SO2 to SO3 at 1atm and 850K is 93.189481 percent\n",
        " 2)i)The conversion of SO2 to SO3 at 1 atm and 850 K when inert gas is also added is 88.179412 percent\n",
        "   ii)The conversion of SO2 to SO3 at 1 atm and 850 K when SO3 is also added along the original feed is 82.979198 percent\n",
        "   iii)a)The conversion of SO2 to SO3 at 1atm and 850K when SO2:O2 = 1:1 is 93.189481 percent\n",
        "   iii)b)The conversion of SO2 to SO3 at 1atm and 850K when SO2:O2 = 1.1:0.5 is 82.473630 percent\n",
        "   iii)c)The conversion of SO2 to SO3 at 1atm and 850K when SO2:O2 = 1:0.5 is 85.774995 percent\n",
        "        SO2:O2 = 1:0.5 gives the maximum concentration of SO3 at equilibrium.\n"
       ]
      },
      {
       "metadata": {},
       "output_type": "display_data",
       "png": "[encoded data removed]",
       "text": [
        "<matplotlib.figure.Figure at 0x10fccd5d0>"
       ]
      },
      {
       "output_type": "stream",
       "stream": "stdout",
       "text": [
        " 3)The conversion of SO2 to SO3 at 50atm and 850K  when SO2:O2 = 1:1 is 96.000000 percent\n"
       ]
      }
     ],
     "prompt_number": 3
    },
    {
     "cell_type": "heading",
     "level": 2,
     "metadata": {},
     "source": [
      "Example 14.9  Page No : 305"
     ]
    },
    {
     "cell_type": "code",
     "collapsed": false,
     "input": [
      "import math \n",
      "\n",
      "#Given\n",
      "#2A(g) - B(g)+C(g)\n",
      "T = 400.0;#Temperature in Kelvin\n",
      "P = 1.0;#Pressure in atm\n",
      "R = 1.98;#gas consmath.tant in Kcal/Kgmole K\n",
      "del_Fo = 3000.0;#standard free energy of the reaction in Kcal/Kgmole\n",
      "n_A = 1.0;#Kgmoles of A\n",
      "n_B = 0.1;#Kgmoles of B\n",
      "n_C = 0.1;#Kgmoles of C\n",
      "\n",
      "#To find out the equilibrium has been attained or not. If not then calculate the equilibrium composition and also find out whether the equilibrium composition  will change or not if pressure were increased to 3 atm.\n",
      "#(1)To find out the equilibrium has been attained or not. If not then calculate the equilibrium composition\n",
      "#P_B/P_C = 1 (Given)\n",
      "n_T = n_A+n_B+n_C;#Total Kgmoles of the component\n",
      "p_A = (n_A/n_T)*P;#Partial pressure of A\n",
      "p_B = (n_B/n_T)*P;#Partial pressure of B\n",
      "p_C = (n_C/n_T)*P;#Partial pressure of C\n",
      "#Umath.sing the relation 14.36 (page no 312)\n",
      "del_F = del_Fo + (R*T)*math.log((p_B*p_C)/(p_A**2));\n",
      "if del_F == 0:\n",
      "    print '1.Equilibrium has been attained.';\n",
      "else:\n",
      "    print '1.Equilibrium has not been attained.';\n",
      "#Equilibrium composition\n",
      "#At equilibrium del_F = 0\n",
      "#From equations 14.35(page no 312) and 14.49(page no 320), we got the relations (a),(b)(page no 331) &(c)(page no 332) and\n",
      "#ln(p_C**2/(P-(2*p_C**2)))= -del_Fo/(R*T); \n",
      "Kp = math.e**(-del_Fo/(R*T))#equilibrium consmath.tant in terms of pressure\n",
      "p_C = (Kp**(1/2))/(1+2*(Kp**(1/2)));#Partial pressure of C at equilibrium in atm\n",
      "p_B = p_C;#as p_B/p_C = 1\n",
      "p_A = P-(2*p_C);#Partial pressure of A at equilibrium in atm\n",
      "N_A = p_A*P*100.0;\n",
      "N_B = p_B*P*100.0;\n",
      "N_C = p_C*P*100.0;\n",
      "print '   Equilibrium composition of A,(B and C are %f'%N_A,\n",
      "print '(%f and '%N_B,\n",
      "print '%f mole percent respectively.'%N_C\n",
      "#2.Calculation of composition at 400 K and 3 atm and vapour pressure of C at 400 K is 0.3 atm\n",
      "P = 3.0;#Pressure in atm\n",
      "P_C = 0.3;#Vapour pressure of C in atm\n",
      "#Since m=0,pressure will not have an effect on equilibrium compositions.\n",
      "print ' 2.The compositions will be the same as above on increamath.sing the pressure.';\n",
      "p_B1 = p_B*P;#Partial pressure of B in atm\n",
      "p_C1 = p_B1;#Partial pressure of C in atm\n",
      "p_A1 = p_A*P;#Partial pressure of A in atm\n",
      "if P_C < p_C1:\n",
      "    p_A2 = ((p_B1*P_C)/Kp)**(1/2.0);#decreased partial pressure of A in atm\n",
      "print '   The partial pressure of A drops from %f'%p_A1,\n",
      "print ' to %f to compensate for the amount of C condensed.'%p_A2;\n",
      "#end\n"
     ],
     "language": "python",
     "metadata": {},
     "outputs": [
      {
       "output_type": "stream",
       "stream": "stdout",
       "text": [
        "1.Equilibrium has not been attained.\n",
        "   Equilibrium composition of A,(B and C are 33.333333 (33.333333 and  33.333333 mole percent respectively.\n",
        " 2.The compositions will be the same as above on increamath.sing the pressure.\n",
        "   The partial pressure of A drops from 1.000000  to 3.639888 to compensate for the amount of C condensed.\n"
       ]
      }
     ],
     "prompt_number": 8
    },
    {
     "cell_type": "heading",
     "level": 2,
     "metadata": {},
     "source": [
      "Example 14.10  Page No : 307"
     ]
    },
    {
     "cell_type": "code",
     "collapsed": false,
     "input": [
      "%matplotlib inline\n",
      "import math\n",
      "import matplotlib.pyplot as plt\n",
      "import numpy\n",
      "\n",
      "#Given\n",
      "#SO2(A) + (1/2)O2 (B) - SO3(C)\n",
      "#Basis: 1 Kgmole SO2\n",
      "n_A = 1.0;#Kgmole of SO2 fed\n",
      "n_B = n_A;#Kgmole of O2 fed\n",
      "T1 = 273+400.0;#Temperature in K at which reacmath.tants enter\n",
      "To = 298.0;#room temperature in K\n",
      "del_H = -23490.0;#Smath.radians(numpy.arcmath.tan(ar heat of reaction at 25 deg cel from example 14.6 in Kcal/Kgmole\n",
      "\n",
      "#At T1,\n",
      "C_A_T1 = 11.0;\n",
      "C_B_T1 = 7.4;#in Kcal/Kgmole\n",
      "#Assume the various temperature be\n",
      "T = [913.0, 1073.0, 1373.0, 1573.0];#in K\n",
      "#Mean specific heats of the components A,B & C at various temperature are given below in Kcal/Kgmole K\n",
      "C_A = [11.6, 11.8, 12.3, 12.5];\n",
      "C_B = [7.7, 7.8, 8.0, 8.2];\n",
      "C_C = [16.6, 17.2, 18.2, 18.6];\n",
      "\n",
      "#To Calculate the final temperature for various conversions and the maximum conversion that can be attained in a math.single reactor operating adiabatically\n",
      "#In equation 14.18 (page no 307), H2-Hr = K  & (Hp-H3)= L(say)\n",
      "K = ((n_A*C_A_T1)+(n_B*C_B_T1))*(To-T1);#in Kcal/Kgmole\n",
      "print 'Adiabatic reaction temp in K             pecentage conversion of SO2';\n",
      "n_C = []\n",
      "for i in range(0,4):\n",
      "    n_C.append((-K-(C_A[i]*(T[i]-To))-(C_B[i]*(T[i]-To)))/((T[i]-To)*(C_C[i]-C_A[i]-0.5*C_B[i])+del_H));\n",
      "    n_C[i] *= 100\n",
      "    print '   %d'%T[i];\n",
      "    print '                                              %f'%(n_C[i]*100);\n",
      "\n",
      "\n",
      "plt.plot(T,n_C)\n",
      "\n",
      "#Now equilibrium conversion at various temperature taken from figure 14.7 (page no 325) are given as\n",
      "Ta = [850.0, 900.0, 1000.0, 1100.0, 1200.0, 1300.0, 1400.0,];\n",
      "n_C1 = [93.5, 88.2, 69.0, 49.0, 37.0, 21.5, 6.25];\n",
      "\n",
      "plt.plot(Ta,n_C1)\n",
      "plt.title(\"Temperature vs Percentage Conversion\")\n",
      "plt.xlabel(\"Temperature in K\")\n",
      "plt.ylabel(\"% Conversion\")\n",
      "plt.show()\n",
      "\n",
      "#From the graph,it can be seen that the curve cut each other approximately at the temp\n",
      "T1 = 1140.0;#in Kelvin\n",
      "C = numpy.interp(T1,Ta,n_C1)\n",
      "\n",
      "print ' The maximum conversion that can be attained is %d percent'%C;\n",
      "#end\n"
     ],
     "language": "python",
     "metadata": {},
     "outputs": [
      {
       "output_type": "stream",
       "stream": "stdout",
       "text": [
        "Adiabatic reaction temp in K             pecentage conversion of SO2\n",
        "   913\n",
        "                                              2181.255555\n",
        "   1073\n",
        "                                              3712.910088\n",
        "   1373\n",
        "                                              6957.687376\n",
        "   1573\n",
        "                                              9308.739255\n"
       ]
      },
      {
       "metadata": {},
       "output_type": "display_data",
       "png": "[encoded data removed]",
       "text": [
        "<matplotlib.figure.Figure at 0x10fc6d310>"
       ]
      },
      {
       "output_type": "stream",
       "stream": "stdout",
       "text": [
        " The maximum conversion that can be attained is 44 percent\n"
       ]
      }
     ],
     "prompt_number": 2
    },
    {
     "cell_type": "heading",
     "level": 2,
     "metadata": {},
     "source": [
      "Example 14.11  Page No : 309"
     ]
    },
    {
     "cell_type": "code",
     "collapsed": false,
     "input": [
      "#Given\n",
      "#Basis: 1 Kgmole of benzene\n",
      "#C6H6 (A) + HNO3 (B) - C6H5NO2 (C) + H2O (D)\n",
      "T = 298.0;#Temperature in K\n",
      "R = 1.98;#gas consmath.tant in Kcal/Kgmole K\n",
      "#standard enthalpy in Kcal/Kgmole at 25 deg celsius of the above components are given as\n",
      "H_A = 11718.0;\n",
      "H_B = -41404.0;\n",
      "H_C = -68371.0;\n",
      "H_D = 3800.0;\n",
      "#standard entropy in Kcal/Kgmole K at 25 deg celsius of the above components are given as\n",
      "S_A = 41.30;\n",
      "S_B = 37.19;\n",
      "S_C = 16.72;\n",
      "S_D = 53.60;\n",
      "\n",
      "#To Calculate the conversion of benzene at 25 degree celsius and 1 atm\n",
      "del_F = (H_C+H_D-(T*(S_C+S_D)))-(H_A+H_B-(T*(S_A+S_B)));\n",
      "Ka = math.e**(-del_F/(R*T));#Equilibrium consmath.tant\n",
      "x = (Ka**(1/2.0)/(1+(Ka**(1/2.0))));\n",
      "print 'The conversion is almost %f percent for this reaction.'%(x*100);\n",
      "#end\n"
     ],
     "language": "python",
     "metadata": {},
     "outputs": [
      {
       "output_type": "stream",
       "stream": "stdout",
       "text": [
        "The conversion is almost 100.000000 percent for this reaction.\n"
       ]
      }
     ],
     "prompt_number": 10
    },
    {
     "cell_type": "heading",
     "level": 2,
     "metadata": {},
     "source": [
      "Example 14.12  Page No : 311"
     ]
    },
    {
     "cell_type": "code",
     "collapsed": false,
     "input": [
      "import math \n",
      "from sympy import Symbol\n",
      "import numpy\n",
      "\n",
      "#Given\n",
      "#C + 2H2 - CH4\n",
      "#Basis: 1 Kgmole of C fed\n",
      "T = 1000.0;#Temperature in K\n",
      "P1 = 2.0;#Pressure in atm\n",
      "del_F = 4580.0;#standard free energy in Kcal/Kgmole\n",
      "\n",
      "\n",
      "#To Calculate the maximum CH4 concentration under the condition of 2 atm and the  quantity of methane obtained if pressure is 1 atm\n",
      "Ka = math.e**(-del_F/(R*T));#Equilibrium consmath.tant\n",
      "#In relation (d) (page no 339) p_H2 = p (say)\n",
      "p = Symbol('p');\n",
      "q = [Ka,1,-P1]#*(p**2)+p-P1;\n",
      "r = numpy.roots(q);\n",
      "p_H2 = r[1];#partial pressure of H2\n",
      "p_CH4 = P1-p_H2;#partial pressure of CH4\n",
      "X_H2 = p_H2*100/P1;#mole percent of H2\n",
      "X_CH4 = p_CH4*100/P1;#mole percent of CH4\n",
      "print 'Under the conditions of 2 atm and 1000 K, the maximum CH4 concentration is %f percent and further increase is not pssible'%(X_CH4);\n",
      "#Now.pressure has become\n",
      "P2 = 1;#in atm\n",
      "q = Ka*(p**2)+p-P2;\n",
      "r = [Ka,1,-P2]#numpy.roots(q);\n",
      "p_H2 = r[1];#partial pressure of H2\n",
      "p_CH4 = P2-p_H2;#partial pressure of CH4\n",
      "X_H2 = p_H2*100/P2;#mole percent of H2\n",
      "X_CH4 = p_CH4*100/P2;#mole percent of CH4\n",
      "print ' Under the conditions of 1 atm and 1000 K,Methane = %f percent and Hydrogen = %f percent'%(X_CH4,X_H2);\n",
      "#end\n"
     ],
     "language": "python",
     "metadata": {},
     "outputs": [
      {
       "output_type": "stream",
       "stream": "stdout",
       "text": [
        "Under the conditions of 2 atm and 1000 K, the maximum CH4 concentration is 14.475434 percent and further increase is not pssible\n",
        " Under the conditions of 1 atm and 1000 K,Methane = 0.000000 percent and Hydrogen = 100.000000 percent\n"
       ]
      }
     ],
     "prompt_number": 19
    },
    {
     "cell_type": "heading",
     "level": 2,
     "metadata": {},
     "source": [
      "Example 14.13  Page No : 312"
     ]
    },
    {
     "cell_type": "code",
     "collapsed": false,
     "input": [
      "import math \n",
      "\n",
      "#Given\n",
      "T1 = 273+110;#Temperature in K\n",
      "T = 298.0;#Room temperature in K\n",
      "P = 1.0;#Pressure in atm\n",
      "R = 1.98;#gas consmath.tant in Kcal/Kgmole\n",
      "#Ag2CO3(s) (A) = Ag2O(s) (B) + CO2(g) (C)\n",
      "a = 1.0;#Stoichiometry coefficient of A\n",
      "b = 1.0;#Stoichiometry coefficient of B\n",
      "c = 1.0;#Stoichiometry coefficient of C\n",
      "#standard entropy of the above components in Kcal/Kgmole K at 25 deg cel are given as\n",
      "S_A = 40.17;\n",
      "S_B = 29.09;\n",
      "S_C = 51.08;\n",
      "#standard enthalpy of the above components in Kcal/Kgmole at 25 deg cel are given as\n",
      "H_A = -119900.0;\n",
      "H_B = -6950.0;\n",
      "H_C = -94036.0;\n",
      "#Specific heat (assumed consmath.tant) of the above components in Kcal/Kgmole K are given as\n",
      "C_A = 26.1;\n",
      "C_B = 16.5;\n",
      "C_C = 9.6;\n",
      "\n",
      "#To Calculate the partial pressure of CO2 required for decomposition and thus determine whether Ag2CO3 will decomposes or not at the given pressure and temperature\n",
      "del_H = H_C+H_B-H_A;#standard heat of reaction  at 25 deg cel in Kcal/Kgmole\n",
      "del_C = b*C_B+c*C_C-a*C_A;\n",
      "#From equation 14.15 (page no 340)\n",
      "del_Ht = del_H +del_C*(T1-T);\n",
      "del_F = del_H-(T*(S_B+S_C-S_A));#standard free energy in Kcal/Kgmole\n",
      "Ka1 = math.e**(-del_F/(R*T));#Equilibrium consmath.tant at temperature T\n",
      "#Since del_Ht is consmath.tant(as del_C = 0),Ka2 can be calculated by equation 14.43 (page no 316)\n",
      "Ka2 = Ka1* math.e**((del_Ht/R)*(1/T1-1/T));\n",
      "p_CO2 = Ka2;\n",
      "print 'The partial pressure of CO2 required for decomposition is %4.3e atm'%(p_CO2);\n",
      "if p_CO2 < P :\n",
      "    print ' Silver carbonate will not decompose at 110 deg celsius as the pressure given is 1 atm';\n",
      "else:\n",
      "    print ' Silver carbonate will decompose at 110 deg celsius';\n",
      "#end\n"
     ],
     "language": "python",
     "metadata": {},
     "outputs": [
      {
       "output_type": "stream",
       "stream": "stdout",
       "text": [
        "The partial pressure of CO2 required for decomposition is 8.523e-20 atm\n",
        " Silver carbonate will not decompose at 110 deg celsius as the pressure given is 1 atm\n"
       ]
      }
     ],
     "prompt_number": 20
    },
    {
     "cell_type": "heading",
     "level": 2,
     "metadata": {},
     "source": [
      "Example 14.15  Page No : 314"
     ]
    },
    {
     "cell_type": "code",
     "collapsed": false,
     "input": [
      "from numpy import poly1d,roots\n",
      "#Given\n",
      "#C3H8 = C3H6 + H2... (i)\n",
      "#C3H8 = C2H4 +CH4...(ii)\n",
      "Kp1 = 7.88;#Equilibrium consmath.tant of equation (i)\n",
      "Kp2 = 775.0;#Equilibrium consmath.tant of equation (ii)\n",
      "T = 760+273;#Temperature in K\n",
      "\n",
      "#To Calculate the equilibrium composition of the mixture\n",
      "#Basis: 1 mole of C3H8 in feed\n",
      "#From the equations (a) &(b) (page no 343); y/x = z (say)\n",
      "z = (Kp2/Kp1)**(1/2);\n",
      "#Substituting y = z*x in equation(a), we got the equation p:\n",
      "\n",
      "#x = poly(0,'x')\n",
      "p = poly1d([1+Kp1+Kp1*(z**2)+2*Kp1,0,-Kp1])\n",
      "q = roots(p);\n",
      "\n",
      "x = q[0];\n",
      "y = z*x;\n",
      "print 'Moles of H2, C3H6, C2H4 and CH4 formed at equilibrium are %f %f %f %f respectively.'%(x,x,y,y);\n",
      "#end\n"
     ],
     "language": "python",
     "metadata": {},
     "outputs": [
      {
       "output_type": "stream",
       "stream": "stdout",
       "text": [
        "Moles of H2, C3H6, C2H4 and CH4 formed at equilibrium are 0.492252 0.492252 0.492252 0.492252 respectively.\n"
       ]
      }
     ],
     "prompt_number": 23
    }
   ],
   "metadata": {}
  }
 ]
}