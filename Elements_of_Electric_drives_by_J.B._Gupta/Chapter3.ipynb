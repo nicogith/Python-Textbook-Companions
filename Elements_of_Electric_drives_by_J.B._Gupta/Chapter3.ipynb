{
 "metadata": {
  "name": "",
  "signature": "sha256:d7bcb2cff24daf3bf697643c2949d172c753aada733ca26e5769ceae0bfe8259"
 },
 "nbformat": 3,
 "nbformat_minor": 0,
 "worksheets": [
  {
   "cells": [
    {
     "cell_type": "heading",
     "level": 1,
     "metadata": {},
     "source": [
      "Chapter 3 - Thyristor control of electric motors"
     ]
    },
    {
     "cell_type": "heading",
     "level": 2,
     "metadata": {},
     "source": [
      "Example 1 - pg 215"
     ]
    },
    {
     "cell_type": "code",
     "collapsed": false,
     "input": [
      "#calculate the Efficiency, Form Factor, Ripple Factor, Transformer Utilisation Factor and Peak Inverse Voltage\n",
      "#Initialization of variables\n",
      "import math\n",
      "from math import sqrt\n",
      "V=120.;#in Volts\n",
      "V_dc=40.5;#in volts\n",
      "V_rms=76.1;#in volts\n",
      "R=10.;#in ohms\n",
      "#Calculations\n",
      "I_dc=V_dc/R;#in Amperes\n",
      "I_rms=V_rms/R;#in Amperes\n",
      "P_dc=V_dc*I_dc;#in watts\n",
      "P_ac=V_rms*I_rms;#in watts\n",
      "Eff=P_dc/P_ac;#in per unit\n",
      "K_f=V_rms/V_dc;#in per unit\n",
      "Y=sqrt(K_f**2-1);\n",
      "T_f=P_dc/(V*I_rms);\n",
      "P_iv=sqrt(2)*V;\n",
      "#Results\n",
      "print '(a) Efficiency (in Per Unit=)',round(Eff,3)\n",
      "print '(b) Form Factor (in Per Unit=)',round(K_f,3)\n",
      "print '(c) Ripple Factor (in Per Unit=)',round(Y,2)\n",
      "print'(d) Transformer Utilisation Factor=',round(T_f,2)\n",
      "print '(e) Peak Inverse Voltage (in volts)=',round(P_iv,1)"
     ],
     "language": "python",
     "metadata": {},
     "outputs": [
      {
       "output_type": "stream",
       "stream": "stdout",
       "text": [
        "(a) Efficiency (in Per Unit=) 0.283\n",
        "(b) Form Factor (in Per Unit=) 1.879\n",
        "(c) Ripple Factor (in Per Unit=) 1.59\n",
        "(d) Transformer Utilisation Factor= 0.18\n",
        "(e) Peak Inverse Voltage (in volts)= 169.7\n"
       ]
      }
     ],
     "prompt_number": 1
    },
    {
     "cell_type": "heading",
     "level": 2,
     "metadata": {},
     "source": [
      "Example 2 - pg 216"
     ]
    },
    {
     "cell_type": "code",
     "collapsed": false,
     "input": [
      "#calculate the field current, firing angle and power factor of the converter\n",
      "#Initialization of variables\n",
      "import math\n",
      "from math import sqrt\n",
      "alpha_f=0;\n",
      "R_f=250.;#in ohms\n",
      "K_f=0.8;#torque constant\n",
      "R_a=0.2;#in ohms\n",
      "V_const=0.8;#in volt/Amperes-radian/sec\n",
      "N=1000.;# in rpm\n",
      "T_d=50.;#In Newton-meter\n",
      "V_rms=220.;#in volts\n",
      "#Calculations\n",
      "V_f=int(V_rms*sqrt(2.)*(1+math.cos(alpha_f*math.pi/180.))/math.pi);# Feild Circuit Voltage (in volts)\n",
      "I_f=V_f/R_f;#in Amperes\n",
      "I_a=T_d/(K_f*I_f);#in amperes\n",
      "w=2*N*math.pi/60;# in radian/sec\n",
      "E_b=V_const*w*I_f;#Back emf (in volts)\n",
      "V_a=E_b+(I_a*R_a);#armature voltage (in volts)\n",
      "alpha_a=math.acos(((V_a*math.pi/(V_rms*sqrt(2))))-1)*180/math.pi;\n",
      "P_o=int(V_a*I_a);#in watts\n",
      "I=52.66;#in amperes\n",
      "pf=P_o/(V_rms*I);\n",
      "#Results\n",
      "print '(a) Field Current (in Amperes)=',I_f\n",
      "print '(b) Firing angle of the converter (in degrees)=',round(alpha_a,2)\n",
      "print '(c) Power factor of the converter=',round(pf,2)\n"
     ],
     "language": "python",
     "metadata": {},
     "outputs": [
      {
       "output_type": "stream",
       "stream": "stdout",
       "text": [
        "(a) Field Current (in Amperes)= 0.792\n",
        "(b) Firing angle of the converter (in degrees)= 99.83\n",
        "(c) Power factor of the converter= 0.56\n"
       ]
      }
     ],
     "prompt_number": 30
    },
    {
     "cell_type": "heading",
     "level": 2,
     "metadata": {},
     "source": [
      "Example 3 - pg 217"
     ]
    },
    {
     "cell_type": "code",
     "collapsed": false,
     "input": [
      "#calculate the Speed of Motor and Motor Torque\n",
      "#Initialization of variables\n",
      "import math\n",
      "from math import sqrt\n",
      "alpha_a=45.;#in degrees\n",
      "V=230.;#in volts\n",
      "K=1.668;#K_a*Phy (in volt/radian/second)\n",
      "R_a=0.2;#in ohms\n",
      "I_a=30.;#in amperes\n",
      "#Calculations\n",
      "V_a=2*V*math.sqrt(2)*math.cos(alpha_a*math.pi/180.)/math.pi;#in volts\n",
      "E_b=V_a-(I_a*R_a);# in volts\n",
      "w=E_b/K;#in radian/seconds\n",
      "N=math.ceil(w*60./(2*math.pi));\n",
      "T=K*I_a;\n",
      "#Results\n",
      "print '(a) Speed Of Motor (in rpm)=',N\n",
      "print '(b) Motor Torque (in Newton-meter)=',T"
     ],
     "language": "python",
     "metadata": {},
     "outputs": [
      {
       "output_type": "stream",
       "stream": "stdout",
       "text": [
        "(a) Speed Of Motor (in rpm)= 804.0\n",
        "(b) Motor Torque (in Newton-meter)= 50.04\n"
       ]
      }
     ],
     "prompt_number": 3
    },
    {
     "cell_type": "heading",
     "level": 2,
     "metadata": {},
     "source": [
      "Example 4 - pg 217"
     ]
    },
    {
     "cell_type": "code",
     "collapsed": false,
     "input": [
      "#calculate the Firing angle\n",
      "#Initialization of variables\n",
      "import math\n",
      "R_a=0.06;#in ohms\n",
      "N1=875.;# in rpm\n",
      "N2=750.;#in rpm\n",
      "V_rms=220.;#in volts\n",
      "V_dc=200.;#in volts\n",
      "I_a=150.;#in amperes\n",
      "#Calculations\n",
      "E_b1=V_dc-(I_a*R_a);#Back emf (in volts)\n",
      "E_b2=E_b1*(N2/N1);# in volts\n",
      "V_a=E_b2+(I_a*R_a);#armature voltage (in volts)\n",
      "alpha_a=math.acos((V_a*math.pi/(2*V_rms*math.sqrt(2))))/math.pi*180.;\n",
      "#Results\n",
      "print 'Firing angle (in degrees)=',round(alpha_a,2)"
     ],
     "language": "python",
     "metadata": {},
     "outputs": [
      {
       "output_type": "stream",
       "stream": "stdout",
       "text": [
        "Firing angle (in degrees)= 29.31\n"
       ]
      }
     ],
     "prompt_number": 4
    },
    {
     "cell_type": "heading",
     "level": 2,
     "metadata": {},
     "source": [
      "Example 5 - pg 217"
     ]
    },
    {
     "cell_type": "code",
     "collapsed": false,
     "input": [
      "#calculate the Average Load Voltage, Current and Input Power Factor\n",
      "#Initialization of variables\n",
      "import math\n",
      "alpha=30.;#in degrees\n",
      "V=230.;#in volts\n",
      "R=2.;#in ohms\n",
      "#Calculations\n",
      "V_avg=2*V*math.sqrt(2)*math.cos(alpha*math.pi/180.)/math.pi;#in volts\n",
      "I_avg=V_avg/R;#in amperes\n",
      "I_rms=I_avg;#in amperes (as ripple free)\n",
      "P=V_avg*I_avg;#in watts\n",
      "Q=2*V*math.sqrt(2)*I_avg*math.sin(alpha*math.pi/180.)/math.pi;# in VAR\n",
      "pf=math.cos(math.atan(Q/P));\n",
      "#Results\n",
      "print '(a) Average Load Voltage (in Volts)=',round(V_avg,2)\n",
      "print '(b) Average Load Current (in Amperes)=',round(I_avg,3)\n",
      "print '(c) Input Power Factor (lagging)=',round(pf,3)"
     ],
     "language": "python",
     "metadata": {},
     "outputs": [
      {
       "output_type": "stream",
       "stream": "stdout",
       "text": [
        "(a) Average Load Voltage (in Volts)= 179.33\n",
        "(b) Average Load Current (in Amperes)= 89.665\n",
        "(c) Input Power Factor (lagging)= 0.866\n"
       ]
      }
     ],
     "prompt_number": 6
    },
    {
     "cell_type": "heading",
     "level": 2,
     "metadata": {},
     "source": [
      "Example 6 - pg 218"
     ]
    },
    {
     "cell_type": "code",
     "collapsed": false,
     "input": [
      "#calculate the motor Armature Current and motor Speed\n",
      "#Initialization of variables\n",
      "import math\n",
      "alpha=60.;#in degrees\n",
      "V=250.;#in volts\n",
      "T=140.;#in Newton-Meter\n",
      "K_a=2.5;#motor voltage constant (in Volt/radian/sec)\n",
      "R_a=0.2;#in ohms\n",
      "#Calculations\n",
      "V_a=2*V*math.sqrt(2)*math.cos(alpha*math.pi/180.)/math.pi;#in volts\n",
      "I_a=T/K_a;#in amperes\n",
      "E_b=V_a-(I_a*R_a);#in volts\n",
      "w=E_b*I_a/T;\n",
      "#Results\n",
      "print '(a) Motor Armature Current (in amperes)=',I_a\n",
      "print '(b) Motor Speed (in radian/sec)=',round(w,3)"
     ],
     "language": "python",
     "metadata": {},
     "outputs": [
      {
       "output_type": "stream",
       "stream": "stdout",
       "text": [
        "(a) Motor Armature Current (in amperes)= 56.0\n",
        "(b) Motor Speed (in radian/sec)= 40.536\n"
       ]
      }
     ],
     "prompt_number": 7
    },
    {
     "cell_type": "heading",
     "level": 2,
     "metadata": {},
     "source": [
      "Example 7 - pg 218"
     ]
    },
    {
     "cell_type": "code",
     "collapsed": false,
     "input": [
      "#calculate the firing angle in both cases\n",
      "#Initialization of variables\n",
      "import math\n",
      "V_dc=220.;#in volts\n",
      "V=230.;#in volts\n",
      "I_a1=10.;#in amperes\n",
      "N1=1500.;#in rpm\n",
      "N2=500.;#in rpm\n",
      "N3=-1000.;#in rpm\n",
      "R_a=2.;#in ohms\t\n",
      "#Calculations\n",
      "E_b1=V_dc-(I_a1*R_a);#in volts\n",
      "E_b2=E_b1*(N2/N1);#in volts\n",
      "I_a2=I_a1/2;#in amperes\n",
      "V_a1=E_b2+(I_a2*R_a);#in volts\n",
      "alpha_a1=math.acos((V_a1*math.pi/(2*V*math.sqrt(2))))*180/math.pi;\n",
      "E_b3=E_b1*(N3/N1);#in volts\n",
      "I_a3=I_a1;#in amperes\n",
      "V_a2=E_b3+(I_a3*R_a);#in volts\n",
      "alpha_a2=math.acos((V_a2*math.pi/(2*V*math.sqrt(2))))*180/math.pi;\n",
      "#Results\n",
      "print '(a) Firing angle (in degrees) at half the rated torque=',round(alpha_a1,2)\n",
      "print '(b) Firing angle (in degrees) at rated motor torque=',round(alpha_a2,2)"
     ],
     "language": "python",
     "metadata": {},
     "outputs": [
      {
       "output_type": "stream",
       "stream": "stdout",
       "text": [
        "(a) Firing angle (in degrees) at half the rated torque= 68.27\n",
        "(b) Firing angle (in degrees) at rated motor torque= 123.18\n"
       ]
      }
     ],
     "prompt_number": 8
    },
    {
     "cell_type": "heading",
     "level": 2,
     "metadata": {},
     "source": [
      "Example 8 - pg 219"
     ]
    },
    {
     "cell_type": "code",
     "collapsed": false,
     "input": [
      "#calculate the Torque developed and motor Speed\n",
      "#Initialization of variables\n",
      "import math\n",
      "alpha_f=0;#in degrees\n",
      "alpha_a=30.;#in degrees\n",
      "V=220.;#in volts\n",
      "I_a=40.;#in amperes\n",
      "R_a=0.2;#in amperes\n",
      "K_t=1.12;#motor voltage constant (in Volt/radian/sec)\n",
      "R_f=200.;#in ohms\n",
      "#Calculations\n",
      "V_f=2*V*math.sqrt(2)*math.cos(alpha_f*math.pi/180.)/math.pi;#in volts\n",
      "I_f=V_f/R_f;#in amperes\n",
      "V_a=2*V*math.sqrt(2)*math.cos(alpha_a*math.pi/180.)/math.pi;#in volts\n",
      "E_b=V_a-(I_a*R_a);#in volts\n",
      "T_d=K_t*I_a*I_f;\n",
      "N=E_b*60/(2*math.pi*K_t*I_f);\n",
      "#Results\n",
      "print '(a) Torque developed (in N-m)=',round(T_d,3)\n",
      "print '(b) Motor Speed (in rpm)=',math.ceil(N)"
     ],
     "language": "python",
     "metadata": {},
     "outputs": [
      {
       "output_type": "stream",
       "stream": "stdout",
       "text": [
        "(a) Torque developed (in N-m)= 44.368\n",
        "(b) Motor Speed (in rpm)= 1408.0\n"
       ]
      }
     ],
     "prompt_number": 9
    },
    {
     "cell_type": "heading",
     "level": 2,
     "metadata": {},
     "source": [
      "Example 9 - pg 221"
     ]
    },
    {
     "cell_type": "code",
     "collapsed": false,
     "input": [
      "#calculate the Firing Angle\n",
      "#Initialization of variables\n",
      "import math\n",
      "from math import sqrt\n",
      "R_a=0.2;#in ohms\n",
      "alpha_f=0;#in degrees\n",
      "V=400.;#in volts\n",
      "R_f=250.;#in ohms\n",
      "K=1.3;#Volts/Ampere-radian/second\n",
      "N=1200.;#in rpm\n",
      "I_a=60.;#in amperes\n",
      "#Calculations\n",
      "V_f=3*sqrt(3)*V*sqrt(2)/(sqrt(3)*math.pi);#in volts\n",
      "I_f=V_f/R_f;#in amperes\n",
      "E_b=K*I_f*2*math.pi*N/60;#in volts\n",
      "V_a=E_b+(I_a*R_a);#in volts\n",
      "alpha_a=math.acos((V_a*math.pi)/(3*V*sqrt(2)))*180/math.pi;\n",
      "#Results\n",
      "print'Firing Angle (in degrees)=',round(alpha_a,2)"
     ],
     "language": "python",
     "metadata": {},
     "outputs": [
      {
       "output_type": "stream",
       "stream": "stdout",
       "text": [
        "Firing Angle (in degrees)= 47.49\n"
       ]
      }
     ],
     "prompt_number": 10
    },
    {
     "cell_type": "heading",
     "level": 2,
     "metadata": {},
     "source": [
      "Example 10 - pg 221"
     ]
    },
    {
     "cell_type": "code",
     "collapsed": false,
     "input": [
      "#calculate the No-Load Speed and Firing Angle\n",
      "#Initialization of variables\n",
      "import math\n",
      "from math import sqrt\n",
      "alpha_a=45.;#in degrees\n",
      "R_a=0.2;#in ohms\n",
      "K=0.25;#in volts/rpm\n",
      "V=400.;#in volts\n",
      "I_ao=5.;#in amperes (no load armature current)\n",
      "N=1500.;#in rpm\n",
      "I_a=100.;#in amperes\n",
      "#Calculations\n",
      "V_ao=3*sqrt(3)*V*sqrt(2)*(1+math.cos(180/math.pi*alpha_a))/(sqrt(3)*math.pi*2);#in volts\n",
      "E_bo=V_ao-(I_ao*R_a);#in volts\n",
      "N_o=E_bo/K;\n",
      "E_b=N*K;#in volts\n",
      "V_a=E_b+(I_a*R_a);#in volts\n",
      "alpha_ao=math.acos(((V_a*math.pi*2)/(3*V*sqrt(2)))-1)*180/math.pi;\n",
      "#Results\n",
      "print'No-Load Speed (in rpm)=',int(N_o)\n",
      "print 'Firing Angle (in degrees)=',round(alpha_ao,2)"
     ],
     "language": "python",
     "metadata": {},
     "outputs": [
      {
       "output_type": "stream",
       "stream": "stdout",
       "text": [
        "No-Load Speed (in rpm)= 436\n",
        "Firing Angle (in degrees)= 62.45\n"
       ]
      }
     ],
     "prompt_number": 12
    },
    {
     "cell_type": "heading",
     "level": 2,
     "metadata": {},
     "source": [
      "Example 11 - pg 222"
     ]
    },
    {
     "cell_type": "code",
     "collapsed": false,
     "input": [
      "#calculate the speed-torque characteristics\n",
      "#Initialization of variables\n",
      "import warnings\n",
      "warnings.filterwarnings(\"ignore\")\n",
      "import math\n",
      "import numpy\n",
      "import matplotlib\n",
      "from matplotlib import pyplot\n",
      "Vm=400. #V\n",
      "alp=90 #degrees\n",
      "Ia=([5,10,20,30,40])\n",
      "Ra=0.8\n",
      "Kt=2.\n",
      "n=len(Ia)\n",
      "Ta=numpy.zeros(n)\n",
      "Eb=numpy.zeros(n)\n",
      "RPM=numpy.zeros(n)\n",
      "#Calculations\n",
      "Va=3*math.sqrt(2)/2./math.pi *Vm*(1+math.cos(alp*math.pi/180.))\n",
      "for i in range (0,n):\n",
      "\tTa[i] = 2*Ia[i]\n",
      "\tEb[i] = Va-Ia[i]*Ra\n",
      "\tRPM[i] = round(Eb[i] /Kt *60./2/math.pi,0)\n",
      "\n",
      "#Results\n",
      "print RPM\n",
      "pyplot.plot(Ta,RPM)\n",
      "pyplot.xlabel('Ta')\n",
      "pyplot.ylabel('RPM')\n",
      "pyplot.title('speed-torque characteristic curve')\n",
      "pyplot.show()"
     ],
     "language": "python",
     "metadata": {},
     "outputs": [
      {
       "output_type": "stream",
       "stream": "stdout",
       "text": [
        "[ 1271.  1251.  1213.  1175.  1137.]\n"
       ]
      },
      {
       "metadata": {},
       "output_type": "display_data",
       "png": "[encoded data removed]",
       "text": [
        "<matplotlib.figure.Figure at 0x312a450>"
       ]
      }
     ],
     "prompt_number": 15
    },
    {
     "cell_type": "heading",
     "level": 2,
     "metadata": {},
     "source": [
      "Example 12 - pg 226"
     ]
    },
    {
     "cell_type": "code",
     "collapsed": false,
     "input": [
      "#calculate the Average Load Voltage, thyristor current, Diode current, Effective input resistance\n",
      "#Initialization of variables\n",
      "alpha=0.4;#duty cycle\n",
      "V_dc=200.;#in volts\n",
      "R=10;#in ohms\n",
      "#Calculations\n",
      "V_a=alpha*V_dc;\n",
      "I=V_a/R;\n",
      "I_d=0;\n",
      "R_eff=R/alpha;\n",
      "#Results\n",
      "print '(a) Average Load Voltage (in volts)=',V_a\n",
      "print '(b) Average thyristor current (in amperes)=',I\n",
      "print '(c) Diode Current (in amperes)=',I_d\n",
      "print '(d) Effective input resistance (in ohms)=',R_eff"
     ],
     "language": "python",
     "metadata": {},
     "outputs": [
      {
       "output_type": "stream",
       "stream": "stdout",
       "text": [
        "(a) Average Load Voltage (in volts)= 80.0\n",
        "(b) Average thyristor current (in amperes)= 8.0\n",
        "(c) Diode Current (in amperes)= 0\n",
        "(d) Effective input resistance (in ohms)= 25.0\n"
       ]
      }
     ],
     "prompt_number": 16
    },
    {
     "cell_type": "heading",
     "level": 2,
     "metadata": {},
     "source": [
      "Example 13 - pg 228"
     ]
    },
    {
     "cell_type": "code",
     "collapsed": false,
     "input": [
      "#calculate the average load Current and Firing Angle\n",
      "#Initialization of variables\n",
      "V_dc=220.;#in volts\n",
      "V_a=250.;#average load voltage (in volts)\n",
      "R=10.;#in ohms\n",
      "#Calculations\n",
      "alpha=1.-(V_dc/V_a);\n",
      "I=V_a/R;\n",
      "#Results\n",
      "print 'Average Load Current (in amperes)=',I\n",
      "print 'Firing Angle (in degrees)=',alpha"
     ],
     "language": "python",
     "metadata": {},
     "outputs": [
      {
       "output_type": "stream",
       "stream": "stdout",
       "text": [
        "Average Load Current (in amperes)= 25.0\n",
        "Firing Angle (in degrees)= 0.12\n"
       ]
      }
     ],
     "prompt_number": 17
    },
    {
     "cell_type": "heading",
     "level": 2,
     "metadata": {},
     "source": [
      "Example 14 - pg 229"
     ]
    },
    {
     "cell_type": "code",
     "collapsed": false,
     "input": [
      "#calculate the Frequency of Switching pulse\n",
      "#Initialization of variables\n",
      "V_dc=125.;#in volts\n",
      "V_a=200.;#average output voltage (in volts)\n",
      "T_on=1*10**-3;#in seconds\n",
      "#Calculations\n",
      "alpha=V_a/(V_a+V_dc);#duty cycle\n",
      "f=alpha/T_on;\n",
      "#Results\n",
      "print'Frequency Of Switching pulse (in hertz)=',round(f,1)"
     ],
     "language": "python",
     "metadata": {},
     "outputs": [
      {
       "output_type": "stream",
       "stream": "stdout",
       "text": [
        "Frequency Of Switching pulse (in hertz)= 615.4\n"
       ]
      }
     ],
     "prompt_number": 18
    },
    {
     "cell_type": "heading",
     "level": 2,
     "metadata": {},
     "source": [
      "Example 15 - pg 234"
     ]
    },
    {
     "cell_type": "code",
     "collapsed": false,
     "input": [
      "#calculate the Frequency\n",
      "#Initialization of variables\n",
      "alpha=0.25;#duty cycle\n",
      "V=400;#in volts\n",
      "L=0.5;#in henery\n",
      "I=10;#ripple current (in amperes)\n",
      "#Calculations\n",
      "V_a=alpha*V;#in volts\n",
      "T_on=L*I/(V-V_a);#in seconds\n",
      "T=T_on/alpha;#in seconds\n",
      "f=1./T;\n",
      "#Results\n",
      "print 'Frequency (in hertzs)=',f"
     ],
     "language": "python",
     "metadata": {},
     "outputs": [
      {
       "output_type": "stream",
       "stream": "stdout",
       "text": [
        "Frequency (in hertzs)= 15.0\n"
       ]
      }
     ],
     "prompt_number": 19
    },
    {
     "cell_type": "heading",
     "level": 2,
     "metadata": {},
     "source": [
      "Example 16 - pg 234"
     ]
    },
    {
     "cell_type": "code",
     "collapsed": false,
     "input": [
      "#calculate the Range of Speed Control and duty cycle\n",
      "#Initialization of variables\n",
      "V_a=120.;#in volts\n",
      "I_a=20.;#in amperes\n",
      "R_a=0.5;#in ohms\n",
      "K=0.05;#Motor constant (in volts/rpm)\n",
      "#Calculations\n",
      "E_b=V_a-(I_a*R_a);#in volts\n",
      "N=E_b/K;#in rpm\n",
      "E_bo=0;#in volts\n",
      "V_a1=E_bo+(I_a*R_a);#in volts\n",
      "alpha=V_a1/V_a;\n",
      "#Results\n",
      "print 'Range of Speed Control is :'\n",
      "print 'Lowest Speed (in rpm) = 0'\n",
      "print 'Highest Speed (in rpm)=',N\n",
      "print 'Range of duty cycle is :'\n",
      "print 'lowest value of duty cycle=',round(alpha,3)\n",
      "print 'Highest value of duty cycle= 1'"
     ],
     "language": "python",
     "metadata": {},
     "outputs": [
      {
       "output_type": "stream",
       "stream": "stdout",
       "text": [
        "Range of Speed Control is :\n",
        "Lowest Speed (in rpm) = 0\n",
        "Highest Speed (in rpm)= 2200.0\n",
        "Range of duty cycle is :\n",
        "lowest value of duty cycle= 0.083\n",
        "Highest value of duty cycle= 1\n"
       ]
      }
     ],
     "prompt_number": 21
    },
    {
     "cell_type": "heading",
     "level": 2,
     "metadata": {},
     "source": [
      "Example 17 - pg 235"
     ]
    },
    {
     "cell_type": "code",
     "collapsed": false,
     "input": [
      "#calculate the Duty Cycle of the Chopper\n",
      "#Initialization of variables\n",
      "V=200;#in volts\n",
      "I_a=100;#in amperes\n",
      "R_a=0.02;#in ohms\n",
      "N1=940;#in rpm\n",
      "N2=500;#in rpm\n",
      "#Calculations\n",
      "E_b1=V-(I_a*R_a);#in volts\n",
      "E_b2=E_b1*N2/N1;#in volts\n",
      "V_a=E_b2+(I_a*R_a);#in volts\n",
      "alpha=V_a/V;\n",
      "#Results\n",
      "print 'Duty Cycle Of The Chopper=',round(alpha,4)"
     ],
     "language": "python",
     "metadata": {},
     "outputs": [
      {
       "output_type": "stream",
       "stream": "stdout",
       "text": [
        "Duty Cycle Of The Chopper= 0.5366\n"
       ]
      }
     ],
     "prompt_number": 22
    },
    {
     "cell_type": "heading",
     "level": 2,
     "metadata": {},
     "source": [
      "Example 18 - pg 235"
     ]
    },
    {
     "cell_type": "code",
     "collapsed": false,
     "input": [
      "#calculate the power input, motor speed, Torque developed, Minimum and Maximum speed\n",
      "#Initialization of variables\n",
      "import math\n",
      "alpha=0.6;#duty cycle\n",
      "alpha1=0.1;#duty cycle\n",
      "alpha2=0.9;#duty cycle\n",
      "V=400.;#in volts\n",
      "R_a=0.1;#in ohms\n",
      "K=4;#Motor Constant (in Volts/radians)\n",
      "I_a=150.;#in Amperes\n",
      "#Calculations\n",
      "P_in=alpha*V*I_a/1000;\n",
      "V_a=alpha*V;#in volts\n",
      "E_b=V_a-(I_a*R_a);#in volts\n",
      "N=60*E_b/(2*math.pi*K);\n",
      "T=E_b*I_a*60/(2*math.pi*N);\n",
      "E_b1=(alpha1*V)-(I_a*R_a);#in volts\n",
      "N1=60*E_b1/(2*math.pi*K);\n",
      "E_b2=(alpha2*V)-(I_a*R_a);#in volts\n",
      "N2=60*E_b2/(2*math.pi*K);\n",
      "#Results\n",
      "print '(a) Power input (in Kilo-Watts)=',P_in\n",
      "print '(b) Motor Speed (in rpm)=',int(N)\n",
      "print '(c) Torque developed (in Newton-meter)=',T\n",
      "print '(d) Minimum Speed (in rpm)=',math.ceil(N1)\n",
      "print '    Maximum Speed (in rpm)=',math.ceil(N2)"
     ],
     "language": "python",
     "metadata": {},
     "outputs": [
      {
       "output_type": "stream",
       "stream": "stdout",
       "text": [
        "(a) Power input (in Kilo-Watts)= 36.0\n",
        "(b) Motor Speed (in rpm)= 537\n",
        "(c) Torque developed (in Newton-meter)= 600.0\n",
        "(d) Minimum Speed (in rpm)= 60.0\n",
        "    Maximum Speed (in rpm)= 824.0\n"
       ]
      }
     ],
     "prompt_number": 23
    },
    {
     "cell_type": "heading",
     "level": 2,
     "metadata": {},
     "source": [
      "Example 19 - pg 236"
     ]
    },
    {
     "cell_type": "code",
     "collapsed": false,
     "input": [
      "#calculate the Average Voltage, Power Dissipated and Speed\n",
      "#Initialization of variables\n",
      "import math\n",
      "alpha=0.4;#duty cycle\n",
      "R_b=7.5;#in ohms\n",
      "R_a=0.1;#in ohms\n",
      "I_f=1.5;#in amperes\n",
      "K=1.6;#Voltage Constant (in V/A-rad/sec)\n",
      "I_a=150;#in amperes\n",
      "#Calculations\n",
      "V_b=(1-alpha)*R_b*I_a;\n",
      "P_b=I_a**2*R_b*(1-alpha);\n",
      "E_g=V_b+(I_a*R_a);#in volts\n",
      "N=60*E_g/(K*I_f*2*math.pi);\n",
      "#Results\n",
      "print'(a) Average Voltage (in volts)=',V_b\n",
      "print'(b) Power Dissipated (in kilo-watts)=',P_b/1000.\n",
      "print'(c) Speed (in rpm)=',int(N)"
     ],
     "language": "python",
     "metadata": {},
     "outputs": [
      {
       "output_type": "stream",
       "stream": "stdout",
       "text": [
        "(a) Average Voltage (in volts)= 675.0\n",
        "(b) Power Dissipated (in kilo-watts)= 101.25\n",
        "(c) Speed (in rpm)= 2745\n"
       ]
      }
     ],
     "prompt_number": 24
    },
    {
     "cell_type": "heading",
     "level": 2,
     "metadata": {},
     "source": [
      "Example 20 - pg 236"
     ]
    },
    {
     "cell_type": "code",
     "collapsed": false,
     "input": [
      "#calculate the Firing Angle and Power Supplied\n",
      "#Initialization of variables\n",
      "import math\n",
      "E_g=-163.53;#in volts\n",
      "I_a=40.;#in amperes\n",
      "R_a=0.2;#in ohms\n",
      "V=220.;#in volts\n",
      "#Calculations\n",
      "V_a=E_g+(I_a*R_a);#in volts\n",
      "alpha_a=math.acos(V_a*math.pi/(2*V*math.sqrt(2)))*180/math.pi;\n",
      "P=V_a*I_a*(-1);\n",
      "#Results\n",
      "print 'Firing Angle (in degrees)=',round(alpha_a,2)\n",
      "print 'Power Supplied (in Kilo-Watts)=',P/1000."
     ],
     "language": "python",
     "metadata": {},
     "outputs": [
      {
       "output_type": "stream",
       "stream": "stdout",
       "text": [
        "Firing Angle (in degrees)= 141.74\n",
        "Power Supplied (in Kilo-Watts)= 6.2212\n"
       ]
      }
     ],
     "prompt_number": 25
    },
    {
     "cell_type": "heading",
     "level": 2,
     "metadata": {},
     "source": [
      "Example 21 - pg 236"
     ]
    },
    {
     "cell_type": "code",
     "collapsed": false,
     "input": [
      "#calculate the Pulse Width\n",
      "#Initialization of variables\n",
      "E_b=100;#in volts\n",
      "I_a=25;#in amperes\n",
      "R=0.2;#(R_a+R_se) in ohms\n",
      "V=220.;#in volts\n",
      "f=200.;#in hertz\n",
      "#Calculations\n",
      "V_a=E_b+(I_a*R);#in volts\n",
      "T_on=V_a/(V*f);\n",
      "#Results\n",
      "print ' Pulse Width (in mili-seconds)',round(T_on*1000,2)"
     ],
     "language": "python",
     "metadata": {},
     "outputs": [
      {
       "output_type": "stream",
       "stream": "stdout",
       "text": [
        " Pulse Width (in mili-seconds) 2.39\n"
       ]
      }
     ],
     "prompt_number": 26
    },
    {
     "cell_type": "heading",
     "level": 2,
     "metadata": {},
     "source": [
      "Example 22 - pg 244"
     ]
    },
    {
     "cell_type": "code",
     "collapsed": false,
     "input": [
      "#calculate the Armature Current and Motor Torque\n",
      "#Initialization of variables\n",
      "import math\n",
      "N=1000.;#in rpm\n",
      "V=240.;#in volts\n",
      "w=2*math.pi*N/60.;#in rad/sec\n",
      "alpha=30*math.pi/180.;#in radians\n",
      "R=0.25;#in ohms\n",
      "K=0.025;#in Nm/A**2\n",
      "#Calculations\n",
      "V_a1=math.sqrt(2)*V*(1+math.cos(alpha))/math.pi;#in volts\n",
      "I_a1=V_a1/(R+(K*w));\n",
      "T_1=K*I_a1**2;\n",
      "V_a2=2*math.sqrt(2)*V*math.cos(alpha)/math.pi;#in volts\n",
      "I_a2=V_a2/(R+(K*w));\n",
      "T_2=K*I_a2**2;\n",
      "#Results\n",
      "print 'When controlled through semiconverter'\n",
      "print 'Armature Current (in Amperes)=',round(I_a1,1)\n",
      "print 'Motor Torque (in N-m)=',round(T_1,2)\n",
      "print 'When controlled through full converter'\n",
      "print 'Armature Current (in Amperes)=',round(I_a2,2)\n",
      "print 'Motor Torque (in N-m)=',round(T_2,2)"
     ],
     "language": "python",
     "metadata": {},
     "outputs": [
      {
       "output_type": "stream",
       "stream": "stdout",
       "text": [
        "When controlled through semiconverter\n",
        "Armature Current (in Amperes)= 70.3\n",
        "Motor Torque (in N-m)= 123.53\n",
        "When controlled through full converter\n",
        "Armature Current (in Amperes)= 65.25\n",
        "Motor Torque (in N-m)= 106.43\n"
       ]
      }
     ],
     "prompt_number": 27
    },
    {
     "cell_type": "heading",
     "level": 2,
     "metadata": {},
     "source": [
      "Example 23 - pg 244"
     ]
    },
    {
     "cell_type": "code",
     "collapsed": false,
     "input": [
      "#calculate the Average Motor Current and Speed\n",
      "#Initialization of variables\n",
      "import math\n",
      "from math import sqrt\n",
      "V=230.;#in volts\n",
      "K_t=0.3;#torque constant (in N-m/A^2)\n",
      "T_L=30.;#in N-m\n",
      "#Calculations\n",
      "V_dc=sqrt(2)*V*2/math.pi;#in volts\n",
      "I_a=sqrt(T_L/K_t);\n",
      "w=(207.-I_a)/(K_t*I_a);# in rad/sec\n",
      "N=w*60./(2*math.pi);\n",
      "#Results\n",
      "print 'Average Motor Current (in Amperes)=',I_a\n",
      "print 'Speed (in rpm)=',round(N,0)"
     ],
     "language": "python",
     "metadata": {},
     "outputs": [
      {
       "output_type": "stream",
       "stream": "stdout",
       "text": [
        "Average Motor Current (in Amperes)= 10.0\n",
        "Speed (in rpm)= 627.0\n"
       ]
      }
     ],
     "prompt_number": 28
    },
    {
     "cell_type": "heading",
     "level": 2,
     "metadata": {},
     "source": [
      "Example 24 - pg 245"
     ]
    },
    {
     "cell_type": "code",
     "collapsed": false,
     "input": [
      "#calculate the Armature current and Firing angle\n",
      "#Initialization of variables\n",
      "import math\n",
      "from math import sqrt\n",
      "I_a1=36;#in amperes\n",
      "N1=400;#in amperes\n",
      "N2=600;#in amperes\n",
      "alpha_1=100*math.pi/180.;#in radians\n",
      "V=675;#in volts\n",
      "R=0.4;#in ohms\n",
      "#Calculations\n",
      "V_a1=sqrt(2)*V*(1+math.cos(alpha_1))/math.pi;#in volts\n",
      "E_b1=V_a1-I_a1*R;#in volts\n",
      "I_a2=I_a1*N2/N1;#in amperes\n",
      "E_b2=E_b1*I_a2*N2/(I_a1*N1);#in volts\n",
      "V_a2=E_b2+21.6;#/in volts\n",
      "alpha=math.acos((V_a2*math.pi/(sqrt(2)*V))-1)*180/math.pi;\n",
      "#Results\n",
      "print 'Armature current (in Amperes)=',I_a2\n",
      "print 'Firing angle (in degrees)=',round(alpha,2)"
     ],
     "language": "python",
     "metadata": {},
     "outputs": [
      {
       "output_type": "stream",
       "stream": "stdout",
       "text": [
        "Armature current (in Amperes)= 54\n",
        "Firing angle (in degrees)= 34.54\n"
       ]
      }
     ],
     "prompt_number": 29
    }
   ],
   "metadata": {}
  }
 ]
}