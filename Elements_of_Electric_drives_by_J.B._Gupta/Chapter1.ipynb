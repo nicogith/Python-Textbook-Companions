{
 "metadata": {
  "name": "",
  "signature": "sha256:8bd4989c6c6e6f6efd1cf72e88cf69a0617a89e6bfdc01e162aefc837909aa37"
 },
 "nbformat": 3,
 "nbformat_minor": 0,
 "worksheets": [
  {
   "cells": [
    {
     "cell_type": "heading",
     "level": 1,
     "metadata": {},
     "source": [
      "Chapter 1 - Electric drives"
     ]
    },
    {
     "cell_type": "heading",
     "level": 2,
     "metadata": {},
     "source": [
      "Example 1 - pg 6"
     ]
    },
    {
     "cell_type": "code",
     "collapsed": false,
     "input": [
      "#calculate the Total annual cost in both cases\n",
      "#Initialization of variables\n",
      "C_g=60000.;#in Rs\n",
      "C_id=18750*10;#in Rs\n",
      "E_c=75000;#in kWh\n",
      "E_a=60000;#in kWh\n",
      "#Calculations\n",
      "D=0.12*C_g;#in Rs\n",
      "C_e=4*E_c;#in Rs\n",
      "C_t=D+C_e;#in Rs\n",
      "AD=0.15*C_id;#in Rs\n",
      "C_ea=4*E_a;#in Rs\n",
      "C_total=AD+C_ea;#in Rs\n",
      "#Results\n",
      "print 'Total annual cost in case of group drive (in Rs)=',C_t\n",
      "print 'Total annual cost in case of individual drive (in Rs)=',C_total"
     ],
     "language": "python",
     "metadata": {},
     "outputs": [
      {
       "output_type": "stream",
       "stream": "stdout",
       "text": [
        "Total annual cost in case of group drive (in Rs)= 307200.0\n",
        "Total annual cost in case of individual drive (in Rs)= 268125.0\n"
       ]
      }
     ],
     "prompt_number": 1
    },
    {
     "cell_type": "heading",
     "level": 2,
     "metadata": {},
     "source": [
      "Example 2 - pg 17"
     ]
    },
    {
     "cell_type": "code",
     "collapsed": false,
     "input": [
      "#calculate the stable operating point\n",
      "import math\n",
      "#Initialization of variables\n",
      "a=1;\n",
      "b=1;\n",
      "c=-30;\n",
      "#Calculations\n",
      "w_m=(-b+math.sqrt((b**2)-4*a*c))/(2*a);#speed of the drive\n",
      "t_l=0.5*(w_m**2);#motoring torqe \n",
      "#Results\n",
      "print 'stable operating point=',w_m,t_l"
     ],
     "language": "python",
     "metadata": {},
     "outputs": [
      {
       "output_type": "stream",
       "stream": "stdout",
       "text": [
        "stable operating point= 5.0 12.5\n"
       ]
      }
     ],
     "prompt_number": 2
    },
    {
     "cell_type": "heading",
     "level": 2,
     "metadata": {},
     "source": [
      "Example 3 - pg 18"
     ]
    },
    {
     "cell_type": "code",
     "collapsed": false,
     "input": [
      "#calculate the power developed by the motor\n",
      "#Initialization of variables\n",
      "import math\n",
      "J_m=0.4;#motor inertia(in Kg-m2)\n",
      "J_l=10.;#load inertia(in Kg-m2)\n",
      "a=0.1;#Teeth ratio of gear\n",
      "i=1./a;\n",
      "N=1400.;\n",
      "pi=22./7.;\n",
      "n=0.90;#efficency of motor\n",
      "T_l=50.;#Torque(N-m)\n",
      "#Calculations\n",
      "J=J_m+J_l/(i**2);#Total moment of inertia referred to the motor shaft\n",
      "T_L=T_l/(i*n);#total equivalent torque referref to motor shaft\n",
      "P=T_L*2*pi*N/60.;#power developed by motor\n",
      "#Results\n",
      "print 'power developed by motor(in Watt)=',math.ceil(P)"
     ],
     "language": "python",
     "metadata": {},
     "outputs": [
      {
       "output_type": "stream",
       "stream": "stdout",
       "text": [
        "power developed by motor(in Watt)= 815.0\n"
       ]
      }
     ],
     "prompt_number": 3
    },
    {
     "cell_type": "heading",
     "level": 2,
     "metadata": {},
     "source": [
      "Example 4 - pg 19"
     ]
    },
    {
     "cell_type": "code",
     "collapsed": false,
     "input": [
      "#calculate the total torque and power developed\n",
      "#Initialization of variables\n",
      "import math\n",
      "J_m=0.4;#motor inertia(in Kg-m2)\n",
      "J_l=10;#load inertia(in Kg-m2)\n",
      "a=0.1;#Teeth ratio of gear\n",
      "N=1500.;\n",
      "n_t=0.88;\n",
      "m=600.;#weight\n",
      "g=9.81;\n",
      "#Calculations\n",
      "f_r=m*g;#force\n",
      "w_m=2*math.pi*N/60.;#motor speed\n",
      "w=2.;#uniform speed of weight lifting\n",
      "n=0.9;#efficency of motor\n",
      "T_l=50;#Torque(N-m)\n",
      "J=J_m+(a**2)*J_l+m*((w/w_m)**2);#Total moment of inertia referred to the motor shaft\n",
      "T_L=(a*T_l/n)+f_r*w/(n_t*w_m) ;#total equivalent torque referred to motor shaft\n",
      "p=T_L*w_m;#power developed by motor(in Watt)\n",
      "P=p/1000.;#power developed by motor(in kWatt)\n",
      "#Results\n",
      "print 'Total torque referred to motor shaft(in kg-m2)=',round(J,2)\n",
      "print 'Total equivalent Torque referred to motor shaft(in N-m)=',round(T_L,2)\n",
      "print 'power developed by motor(in kWatt)=',round(P,2)\n",
      "print 'The answers are a bit different from textbook due to rounding off error'"
     ],
     "language": "python",
     "metadata": {},
     "outputs": [
      {
       "output_type": "stream",
       "stream": "stdout",
       "text": [
        "Total torque referred to motor shaft(in kg-m2)= 0.6\n",
        "Total equivalent Torque referred to motor shaft(in N-m)= 90.72\n",
        "power developed by motor(in kWatt)= 14.25\n",
        "The answers are a bit different from textbook due to rounding off error\n"
       ]
      }
     ],
     "prompt_number": 4
    },
    {
     "cell_type": "heading",
     "level": 2,
     "metadata": {},
     "source": [
      "Example 5 - pg 50"
     ]
    },
    {
     "cell_type": "code",
     "collapsed": false,
     "input": [
      "#calculate the Motor Speed\n",
      "#Initialization of variables\n",
      "import math\n",
      "from math import ceil\n",
      "V=220.;#in volts\n",
      "V_1=200.;#in volts\n",
      "N=1000.;#in rpm\n",
      "I=100.;#in amperes\n",
      "R_a=0.1;#in ohms\n",
      "#Calculations\n",
      "E_b=V-I*R_a;#in volts\n",
      "I_1=I;#in amperes\n",
      "E_b1=V_1-I_1*R_a;#in volts\n",
      "N_1=N*E_b1/E_b;\n",
      "#Results\n",
      "print 'Motor Speed (in rpm)=',ceil(N_1)"
     ],
     "language": "python",
     "metadata": {},
     "outputs": [
      {
       "output_type": "stream",
       "stream": "stdout",
       "text": [
        "Motor Speed (in rpm)= 905.0\n"
       ]
      }
     ],
     "prompt_number": 5
    },
    {
     "cell_type": "heading",
     "level": 2,
     "metadata": {},
     "source": [
      "Example 6 - pg 50"
     ]
    },
    {
     "cell_type": "code",
     "collapsed": false,
     "input": [
      "#calculate the full load Speed and Torque\n",
      "#Initialization of variables\n",
      "import math\n",
      "from math import ceil\n",
      "V=230;#in volts\n",
      "R_sh=230;#in ohms\n",
      "R_a=0.5;#in ohms\n",
      "I_sh=V/R_sh;#in amperes\n",
      "#Calculations\n",
      "I_lo=3;#in amperes\n",
      "I_ao=I_lo-I_sh;#in amperes\n",
      "E_bo=V-I_ao*R_a;#in volts\n",
      "N_o=1000;#in rpm\n",
      "I_lf=23;#in amperes\n",
      "I_af=I_lf-I_sh;#in amperes\n",
      "E_bf=V-I_af*R_a;#in volts\n",
      "Phy_ratio=0.98;\n",
      "N_f=N_o*(E_bf/E_bo)/Phy_ratio;\n",
      "T_f=9.55*E_bf*I_af/N_f;\n",
      "#Results\n",
      "print 'Full Load Speed (in rpm)=',ceil(N_f)\n",
      "print 'Full load Torque (in Newton-meter)=',round(T_f,2)"
     ],
     "language": "python",
     "metadata": {},
     "outputs": [
      {
       "output_type": "stream",
       "stream": "stdout",
       "text": [
        "Full Load Speed (in rpm)= 976.0\n",
        "Full load Torque (in Newton-meter)= 47.15\n"
       ]
      }
     ],
     "prompt_number": 6
    },
    {
     "cell_type": "heading",
     "level": 2,
     "metadata": {},
     "source": [
      "Example 7 - pg 51"
     ]
    },
    {
     "cell_type": "code",
     "collapsed": false,
     "input": [
      "#calculate the Armature voltage drop at full load\n",
      "#Initialization of variables\n",
      "V=440.;#in volts\n",
      "N_o=2000.;#in rpm\n",
      "E_bo=440.;#in volts\n",
      "N_f=1000.;#in rpm\n",
      "N_h=1050.;#in rpm\n",
      "#Calculations\n",
      "E_bf=E_bo*N_f/N_o#in volts\n",
      "E_b=E_bo*N_h/N_o;#in volts\n",
      "v=(E_b-E_bf)*2;\n",
      "#Results\n",
      "print 'Armature voltage drop at full load (in volts)=',v"
     ],
     "language": "python",
     "metadata": {},
     "outputs": [
      {
       "output_type": "stream",
       "stream": "stdout",
       "text": [
        "Armature voltage drop at full load (in volts)= 22.0\n"
       ]
      }
     ],
     "prompt_number": 7
    },
    {
     "cell_type": "heading",
     "level": 2,
     "metadata": {},
     "source": [
      "Example 8 - pg 51"
     ]
    },
    {
     "cell_type": "code",
     "collapsed": false,
     "input": [
      "#calculate the Speed\n",
      "#Initialization of variables\n",
      "V=230.;#in volts\n",
      "N1=750.;#in rpm\n",
      "R=10.;#in ohms\n",
      "I_a=30.;#in amperes\n",
      "#Calculations\n",
      "N2=N1*((V+I_a*R)/V)**-1;\n",
      "#Results\n",
      "print'Speed (in rpm)=',int(N2)"
     ],
     "language": "python",
     "metadata": {},
     "outputs": [
      {
       "output_type": "stream",
       "stream": "stdout",
       "text": [
        "Speed (in rpm)= 325\n"
       ]
      }
     ],
     "prompt_number": 9
    },
    {
     "cell_type": "heading",
     "level": 2,
     "metadata": {},
     "source": [
      "Example 9 - pg 52"
     ]
    },
    {
     "cell_type": "code",
     "collapsed": false,
     "input": [
      "#calculate the Speed in both cases\n",
      "import math\n",
      "from math import ceil\n",
      "#Initialization of variables\n",
      "V=200.;#in volts\n",
      "I_1=20.#in amperes\n",
      "R_a=0.5;#in ohms\n",
      "#Calculations\n",
      "E_b1=V-I_1*R_a;#in volts\n",
      "N1=700;#in rpm\n",
      "I_2=math.sqrt(1.44)*I_1;#in amperes\n",
      "E_b2=V-I_2*R_a;#in volts\n",
      "N2=N1*(E_b2/E_b1)*(I_1/I_2);\n",
      "I_3=10;#in amperes\n",
      "E_b3=V-I_3*R_a;#in volts\n",
      "N3=N1*(E_b3/E_b1)*(I_1/I_3);\n",
      "#Results\n",
      "print '(a) Speed (in rpm)=',round(N2,1)\n",
      "print '(b) Speed (in rpm)=',ceil(N3)"
     ],
     "language": "python",
     "metadata": {},
     "outputs": [
      {
       "output_type": "stream",
       "stream": "stdout",
       "text": [
        "(a) Speed (in rpm)= 577.2\n",
        "(b) Speed (in rpm)= 1437.0\n"
       ]
      }
     ],
     "prompt_number": 10
    },
    {
     "cell_type": "heading",
     "level": 2,
     "metadata": {},
     "source": [
      "Example 10 - pg 52"
     ]
    },
    {
     "cell_type": "code",
     "collapsed": false,
     "input": [
      "#calculate the Torque and Speed\n",
      "#Initialization of variables\n",
      "import math\n",
      "from math import ceil\n",
      "V=230.;#in volts\n",
      "I_1=90.;#in amperes\n",
      "R_a=0.08;#in ohms\n",
      "R_se=0.05;#in ohms\n",
      "E_2=180.;#in volts\n",
      "N2=700.;#in rpm\n",
      "R=1.5;#in ohms\n",
      "#Calculations\n",
      "R_m=R_a+R_se;#in ohms\n",
      "E_b1=V-I_1*(R_m+R);#in volts\n",
      "N1=N2*(E_b1/E_2);\n",
      "T=9.55*E_b1*I_1/N1;\n",
      "#Results\n",
      "print 'Speed (in rpm)=',ceil(N1)\n",
      "print 'Torque (in Newton-meter)=',round(T,0)"
     ],
     "language": "python",
     "metadata": {},
     "outputs": [
      {
       "output_type": "stream",
       "stream": "stdout",
       "text": [
        "Speed (in rpm)= 324.0\n",
        "Torque (in Newton-meter)= 221.0\n"
       ]
      }
     ],
     "prompt_number": 11
    },
    {
     "cell_type": "heading",
     "level": 2,
     "metadata": {},
     "source": [
      "Example 12 - pg 54"
     ]
    },
    {
     "cell_type": "code",
     "collapsed": false,
     "input": [
      "#calculate the torque developed and Terminal Voltage\n",
      "#Initialization of variables\n",
      "import math\n",
      "P=4.;#no. of poles\n",
      "f=50.;#in hertz\n",
      "N_s=120.*f/P;#in rpm\n",
      "V=400/math.sqrt(3.);#in volts\n",
      "R2=4;#in ohms\n",
      "R1=1.5;#in ohms\n",
      "X1=4.;#in ohms\n",
      "X2=4.;#in ohms\n",
      "N=1350.;#in rpm\n",
      "#Calculations\n",
      "s=(N_s-N)/N_s;#slip\n",
      "T=(3*V**2*4./s)/((((R1+(R2/s))**2)+((X1+X2)**2))*(2*math.pi*N_s/60.));#in newton-meter\n",
      "N1=900.;#in rpm\n",
      "s1=(N_s-N1)/N_s;#slip\n",
      "T1=T*(N1/N)**2;\n",
      "V1=V*math.sqrt((N1/N)**2*(s1/s)*((((R1+(R2/s1))**2)+((X1+X2)**2)))/(((R1+(R2/s))**2)+((X1+X2)**2)));\n",
      "#Results\n",
      "print 'Torque developed (in Newton-meter)=',round(T1,2)\n",
      "print 'Terminal Voltage (in volts)=',round(V1,2)\n",
      "print 'Answer given in the textbook is worng as the torque equation is not multiplied by R2'"
     ],
     "language": "python",
     "metadata": {},
     "outputs": [
      {
       "output_type": "stream",
       "stream": "stdout",
       "text": [
        "Torque developed (in Newton-meter)= 10.14\n",
        "Terminal Voltage (in volts)= 102.06\n",
        "Answer given in the textbook is worng as the torque equation is not multiplied by R2\n"
       ]
      }
     ],
     "prompt_number": 1
    },
    {
     "cell_type": "heading",
     "level": 2,
     "metadata": {},
     "source": [
      "Example 13 - pg 55"
     ]
    },
    {
     "cell_type": "code",
     "collapsed": false,
     "input": [
      "#calculate the RMS Voltage\n",
      "#Initialization of variables\n",
      "import math\n",
      "P=4.;#no. of poles\n",
      "f=50.;#in hertz\n",
      "N_s=120.*f/P;#in rpm\n",
      "s_f=0.05;#slip\n",
      "V=415;#in volts\n",
      "s_m=0.1;#slip corresponding to maximum slip\n",
      "N1=1350.;#in rpm\n",
      "#Calculations\n",
      "N=N_s*(1-s_f);#in rpm\n",
      "s_fn=(N_s-N1)/N_s;#full load slip\n",
      "V1=V*math.sqrt((N1/N)*(s_f/s_m)*(8./5.));\n",
      "#Results\n",
      "print ' RMS Voltage (in volts)=',round(V1,1)"
     ],
     "language": "python",
     "metadata": {},
     "outputs": [
      {
       "output_type": "stream",
       "stream": "stdout",
       "text": [
        " RMS Voltage (in volts)= 361.3\n"
       ]
      }
     ],
     "prompt_number": 2
    },
    {
     "cell_type": "heading",
     "level": 2,
     "metadata": {},
     "source": [
      "Example 14 - pg 56"
     ]
    },
    {
     "cell_type": "code",
     "collapsed": false,
     "input": [
      "#calculate the slip Frequency\n",
      "#Initialization of variables\n",
      "import math\n",
      "f1=2;#in hertz\n",
      "f=50;#in hertz\n",
      "s_m=0.1;\n",
      "V=400;#in volts\n",
      "s1=0.04;#slip\n",
      "#Calculations\n",
      "s2=(0.2095-math.sqrt((0.2095)**2-s1))/2.;\n",
      "f_n=s2*40;\n",
      "#Results\n",
      "print 'Slip Frequency (in Hertz)=',round(f_n,2)"
     ],
     "language": "python",
     "metadata": {},
     "outputs": [
      {
       "output_type": "stream",
       "stream": "stdout",
       "text": [
        "Slip Frequency (in Hertz)= 2.94\n"
       ]
      }
     ],
     "prompt_number": 3
    },
    {
     "cell_type": "heading",
     "level": 2,
     "metadata": {},
     "source": [
      "Example 15 - pg 57"
     ]
    },
    {
     "cell_type": "code",
     "collapsed": false,
     "input": [
      "#calculate the maximum torque\n",
      "#Initialization of variables\n",
      "import math\n",
      "R1=0.02;#in ohms\n",
      "X1=0.1;#in ohms\n",
      "X2=X1;#in ohms\n",
      "#T_ratio is defined as the ratio of maximum torque at one-half load and 25Hz frequency to maximum torque at rated voltage and frequency\n",
      "#Calculations\n",
      "T_ratio=(R1+math.sqrt(R1**2+(X1+X2)**2))/(2*(R1+math.sqrt(R1**2+((X1+X2)**2)/4)));\n",
      "#Results\n",
      "print '   maximum torque at one-half load and 25Hz frequency =',round(T_ratio,4)\n",
      "print'   times the maximum torque at rated voltage and frequency (T_max)'"
     ],
     "language": "python",
     "metadata": {},
     "outputs": [
      {
       "output_type": "stream",
       "stream": "stdout",
       "text": [
        "   maximum torque at one-half load and 25Hz frequency = 0.9059\n",
        "   times the maximum torque at rated voltage and frequency (T_max)\n"
       ]
      }
     ],
     "prompt_number": 4
    },
    {
     "cell_type": "heading",
     "level": 2,
     "metadata": {},
     "source": [
      "Example 16 - pg 77"
     ]
    },
    {
     "cell_type": "code",
     "collapsed": false,
     "input": [
      "#calculate the starting torque, slip and ratio\n",
      "#Initialization of variables\n",
      "import math\n",
      "s_f=0.04;#full load slip\n",
      "I_ratio=6.;#Ratio of Starting current to full load current\n",
      "#Calculations\n",
      "T_ratio=I_ratio**2*s_f;#Ratio of Starting torque to full load torque\n",
      "s_max=math.sqrt((I_ratio**2-1)/(625.-I_ratio**2.));\n",
      "T_rm=(1./2.)*((s_f/s_max)+(s_max/s_f));\n",
      "#Results\n",
      "print '(a) Starting Torque =',T_ratio\n",
      "print '   times the full load torque (T_f)'\n",
      "print'(b) Slip at which Maximum torque occurs=',round(s_max,3)\n",
      "print'(c) Ratio of maximum torque to full load torque=',round(T_rm,3)"
     ],
     "language": "python",
     "metadata": {},
     "outputs": [
      {
       "output_type": "stream",
       "stream": "stdout",
       "text": [
        "(a) Starting Torque = 1.44\n",
        "   times the full load torque (T_f)\n",
        "(b) Slip at which Maximum torque occurs= 0.244\n",
        "(c) Ratio of maximum torque to full load torque= 3.129\n"
       ]
      }
     ],
     "prompt_number": 1
    },
    {
     "cell_type": "heading",
     "level": 2,
     "metadata": {},
     "source": [
      "Example 17 - pg 78"
     ]
    },
    {
     "cell_type": "code",
     "collapsed": false,
     "input": [
      "#calculate the starting torque in all cases\n",
      "#Initialization of variables\n",
      "import math\n",
      "I_ratio=8.;#Ratio of short circuit current to full load current\n",
      "s_f=0.04;#full load slip\n",
      "#Calculations\n",
      "T_r1=I_ratio**2*s_f;\n",
      "T_r2=I_ratio**2*s_f/3.;\n",
      "K=math.sqrt(3./8.);# transformation ratio of transformer\n",
      "T_st=K**2*I_ratio**2*s_f;\n",
      "#Results\n",
      "print '(a) Starting Torque when started by means of direct switching=',T_r1\n",
      "print('   times the full load torque');\n",
      "print '(b) Starting Torque when started by star-delta starter=',round(T_r2,3)\n",
      "print('   times the full load torque');\n",
      "print '(C) Starting Torque =',T_st\n",
      "print('   times the full load torque');"
     ],
     "language": "python",
     "metadata": {},
     "outputs": [
      {
       "output_type": "stream",
       "stream": "stdout",
       "text": [
        "(a) Starting Torque when started by means of direct switching= 2.56\n",
        "   times the full load torque\n",
        "(b) Starting Torque when started by star-delta starter= 0.853\n",
        "   times the full load torque\n",
        "(C) Starting Torque = 0.96\n",
        "   times the full load torque\n"
       ]
      }
     ],
     "prompt_number": 2
    },
    {
     "cell_type": "heading",
     "level": 2,
     "metadata": {},
     "source": [
      "Example 18 - pg 78"
     ]
    },
    {
     "cell_type": "code",
     "collapsed": false,
     "input": [
      "#calculate the Ratio of starting current to full load current\n",
      "#Initialization of variables\n",
      "import math\n",
      "P=10.*7355;#in watts\n",
      "V=400.;#in volts\n",
      "pf=0.8#power factor\n",
      "Eff=0.9;#efficiency in per unit\n",
      "#Calculations\n",
      "I_f=P/(math.sqrt(3.)*V*pf*Eff);#in amperes\n",
      "I_sc=7.2;#in amperes\n",
      "I_sc1=I_sc*400./160;#in amperes\n",
      "I_st=I_sc1/3.;#Starting current (in amperes)\n",
      "I_r=I_st/I_f;\n",
      "#Results\n",
      "print'Ratio of starting current to full load current=',round(I_r,4)"
     ],
     "language": "python",
     "metadata": {},
     "outputs": [
      {
       "output_type": "stream",
       "stream": "stdout",
       "text": [
        "Ratio of starting current to full load current= 0.0407\n"
       ]
      }
     ],
     "prompt_number": 3
    },
    {
     "cell_type": "heading",
     "level": 2,
     "metadata": {},
     "source": [
      "Example 19 - pg 78"
     ]
    },
    {
     "cell_type": "code",
     "collapsed": false,
     "input": [
      "#calculate the tap Position of auto transformer and Ratio of Starting torque to full load torque\n",
      "#Initialization of variables\n",
      "import math\n",
      "P_o=50.*1000;#in VA\n",
      "s_f=0.05;#slip\n",
      "V=400.;#in volts\n",
      "#Calculations\n",
      "I_f=P_o/(math.sqrt(3.)*V);#in amperes\n",
      "Z=0.866;#in ohms/phase\n",
      "I_sc=V/(math.sqrt(3)*Z);#Short Circuit current (in amperes)\n",
      "I_st=100;#Supply current at start (in amperes)\n",
      "K=math.sqrt(I_st/I_sc);\n",
      "I_ratio=I_sc/I_f;\n",
      "T_r=K**2*I_ratio**2*s_f;\n",
      "#Results\n",
      "print 'Tap Position of auto transformer(in %)=',round(K*100,2)\n",
      "print 'Ratio of Starting torque to full load torque =',round(T_r,3)"
     ],
     "language": "python",
     "metadata": {},
     "outputs": [
      {
       "output_type": "stream",
       "stream": "stdout",
       "text": [
        "Tap Position of auto transformer(in %)= 61.24\n",
        "Ratio of Starting torque to full load torque = 0.256\n"
       ]
      }
     ],
     "prompt_number": 4
    },
    {
     "cell_type": "heading",
     "level": 2,
     "metadata": {},
     "source": [
      "Example 20 - pg 79"
     ]
    },
    {
     "cell_type": "code",
     "collapsed": false,
     "input": [
      "#calculate the Starting current and Torque of the motor\n",
      "#Initialization of variables\n",
      "import math\n",
      "from math import sqrt\n",
      "V=440./sqrt(3);#in volts\n",
      "R_s=2.;#in ohms\n",
      "R_r=2.;#in ohms\n",
      "f=50.;#in hertz\n",
      "X_s=3.;#in ohms\n",
      "P=4.;#no. of poles\n",
      "X_r=3.;#in ohms\n",
      "#Calculations\n",
      "R_o1=R_s+R_r;#Equivalent resistance of motor as referred to stator (in ohms)\n",
      "X_o1=X_s+X_r;##Equivalent reactance of motor as referred to stator (in ohms)\n",
      "I_st=V/(sqrt(R_o1**2+X_o1**2));#Starting current (in amperes)\n",
      "P_cu=3*I_st**2*R_r;#Copper loss (in watts)\n",
      "P2=7446;#in watts\n",
      "N_s=120*f/P;#Synchronous Speed (in rpm)\n",
      "T_st=9.55*P2/N_s;#Starting Torque (in Newton-meter)\n",
      "V1=V*10/50;#in volts\n",
      "X_o2=X_o1*10/50;#in ohms\n",
      "I_st1=V1/(sqrt(R_o1**2+X_o2**2));#Starting current (in amperes)\n",
      "P_2=3*I_st1**2*R_r;#Copper loss (in watts)\n",
      "N_s1=120*10./P;#Synchronous Speed (in rpm)\n",
      "T_st2=9.55*P_2/N_s1;#Starting Torque (in Newton-meter)\n",
      "#Results\n",
      "print'Starting Current of motor at 50 Hertz (in amperes)=',round(I_st,2)\n",
      "print 'Starting Torque of motor at 50 hertz (in Newton-meters)=',round(T_st,2)\n",
      "print 'Starting Current of motor at 10 Hertz (in amperes)=',round(I_st1,3)\n",
      "print 'Starting Torque of motor at 10 hertz (in Newton-meters)=',round(T_st2,3)"
     ],
     "language": "python",
     "metadata": {},
     "outputs": [
      {
       "output_type": "stream",
       "stream": "stdout",
       "text": [
        "Starting Current of motor at 50 Hertz (in amperes)= 35.23\n",
        "Starting Torque of motor at 50 hertz (in Newton-meters)= 47.41\n",
        "Starting Current of motor at 10 Hertz (in amperes)= 12.166\n",
        "Starting Torque of motor at 10 hertz (in Newton-meters)= 28.27\n"
       ]
      }
     ],
     "prompt_number": 5
    },
    {
     "cell_type": "heading",
     "level": 2,
     "metadata": {},
     "source": [
      "Example 21 - pg 80"
     ]
    },
    {
     "cell_type": "code",
     "collapsed": false,
     "input": [
      "#calculate the Moment of inertia of drive\n",
      "import math\n",
      "#Initialization of variables\n",
      "T_m=100;#Motor Torque (in Newton-meter)\n",
      "T_l=30;#Load Torque (in Newton-meter)\n",
      "#Calculations\n",
      "alpha=2*math.pi*10;#in angular acceleration (in rad/sec**2)\n",
      "J=(T_m-T_l)/alpha;\n",
      "#Results\n",
      "print'Moment of inertia of drive (in Kg-m^2)',round(J,3)"
     ],
     "language": "python",
     "metadata": {},
     "outputs": [
      {
       "output_type": "stream",
       "stream": "stdout",
       "text": [
        "Moment of inertia of drive (in Kg-m^2) 1.114\n"
       ]
      }
     ],
     "prompt_number": 6
    },
    {
     "cell_type": "heading",
     "level": 2,
     "metadata": {},
     "source": [
      "Example 22 - pg 80"
     ]
    },
    {
     "cell_type": "code",
     "collapsed": false,
     "input": [
      "#calculate the time required\n",
      "#Initialization of variables\n",
      "import math\n",
      "P_o=37.5*1000;#in watts\n",
      "N=500.;#in rpm\n",
      "#Calculations\n",
      "T_l=P_o*60/(2*math.pi*N);#Full load  torque (in Newton-meter)\n",
      "T_st=(1.1+1.4)*T_l/2;# Average Starting Torque (in Newton-meters)\n",
      "T_a=T_st-T_l;#total available torque for acceleration\n",
      "J=20;#Moment of Inertia (in Kg-m**2)\n",
      "t1=J*2*math.pi*N/(60*T_a);\n",
      "#Results\n",
      "print 'Time in attaining full load speed (in seconds)=',round(t1,2)"
     ],
     "language": "python",
     "metadata": {},
     "outputs": [
      {
       "output_type": "stream",
       "stream": "stdout",
       "text": [
        "Time in attaining full load speed (in seconds)= 5.85\n"
       ]
      }
     ],
     "prompt_number": 7
    },
    {
     "cell_type": "heading",
     "level": 2,
     "metadata": {},
     "source": [
      "Example 23 - pg 80"
     ]
    },
    {
     "cell_type": "code",
     "collapsed": false,
     "input": [
      "#calculate the starting Period\n",
      "#Initialization of variables\n",
      "import math\n",
      "P_o=37.5*1000.;#in watts\n",
      "N=500.;#in rpm\n",
      "#Calculations\n",
      "T_l=P_o*60/(2*math.pi*N);#Full load  torque (in Newton-meter)\n",
      "T_m=2*T_l;# Torque developed by motor during starting\n",
      "T_a=T_m-T_l;#total available torque for acceleration\n",
      "E=37.5*660*9.81;#Stored energy of machine\n",
      "J=E*2/(2*math.pi*N/60)**2;#Moment of inertia (in Kg-m**2)\n",
      "alpha=T_a/J;#angular acceleration (in rad/sec**2)\n",
      "t=(2*math.pi*N/60)/alpha;\n",
      "#Results\n",
      "print 'Starting Period (in seconds)=',round(t,2)"
     ],
     "language": "python",
     "metadata": {},
     "outputs": [
      {
       "output_type": "stream",
       "stream": "stdout",
       "text": [
        "Starting Period (in seconds)= 12.95\n"
       ]
      }
     ],
     "prompt_number": 8
    },
    {
     "cell_type": "heading",
     "level": 2,
     "metadata": {},
     "source": [
      "Example 24 - pg 81"
     ]
    },
    {
     "cell_type": "code",
     "collapsed": false,
     "input": [
      "#calculate the Energy Dissipated\n",
      "#Initialization of variables\n",
      "V=220.;#in volts\n",
      "I=20.;#in ampers\n",
      "R=1;#in ohms\n",
      "#Calculations\n",
      "P_o=V*I-I**2*R;#Motor Output (in watts)\n",
      "w=200;#in radians/second\n",
      "T_l=P_o/w;#Load Torque (in N-m)\n",
      "J=5;#kg-m**2\n",
      "t_st=2.5;#in seconds\n",
      "alpha=w/t_st;#angular acceleration (in rad/second**2)\n",
      "K=(J*alpha+T_l)/I**2;\n",
      "W_st=(J*R*w/K)+(T_l*R*t_st/K);\n",
      "#Results\n",
      "print 'Energy Dissipated (in watts)=',W_st"
     ],
     "language": "python",
     "metadata": {},
     "outputs": [
      {
       "output_type": "stream",
       "stream": "stdout",
       "text": [
        "Energy Dissipated (in watts)= 1000.0\n"
       ]
      }
     ],
     "prompt_number": 9
    },
    {
     "cell_type": "heading",
     "level": 2,
     "metadata": {},
     "source": [
      "Example 25 - pg 97"
     ]
    },
    {
     "cell_type": "code",
     "collapsed": false,
     "input": [
      "#calculate the Value of additional resistance\n",
      "#Initialization of variables\n",
      "I_l1=22.;#in amperes\n",
      "V=220.;#in volts\n",
      "R_sh=100.;#in ohms\n",
      "R_a=0.1;#in ohms\n",
      "#Calculations\n",
      "I_sh=V/R_sh;#in amperes\n",
      "I_a1=I_l1-I_sh;#armatur current (in amperes)\n",
      "E_b1=V-I_a1*R_a;#Back Emf (in volts)\n",
      "N1=1000;#in rpm\n",
      "I_a2=0.8*19.8;#in amperes\n",
      "R=(218.416-(800*218.02/1000))/I_a2;\n",
      "I_a3=0.64*I_a1;#in amperes\n",
      "R3=(218.7328-(800*218.02/1000))/I_a3;\n",
      "#Results\n",
      "print 'Value of additional resistance (in ohms)=',round(R,3)\n",
      "print 'Value of additional resistance (in ohms)=',round(R3,3)"
     ],
     "language": "python",
     "metadata": {},
     "outputs": [
      {
       "output_type": "stream",
       "stream": "stdout",
       "text": [
        "Value of additional resistance (in ohms)= 2.778\n",
        "Value of additional resistance (in ohms)= 3.497\n"
       ]
      }
     ],
     "prompt_number": 10
    },
    {
     "cell_type": "heading",
     "level": 2,
     "metadata": {},
     "source": [
      "Example 26 - pg 97"
     ]
    },
    {
     "cell_type": "code",
     "collapsed": false,
     "input": [
      "#calculate the Value of additional resistance\n",
      "#Initialization of variables\n",
      "import math\n",
      "I_1=50;#in amperes\n",
      "V=500;#in volts\n",
      "N_ratio=0.5;#Speed Ratio\n",
      "#Calculations\n",
      "E_b1=V;#Back Emf (in volts)\n",
      "T_ratio=N_ratio**3;#Torque ratio\n",
      "I_2=I_1*math.sqrt(T_ratio);#in amperes\n",
      "R=(E_b1-(I_2*N_ratio*E_b1/I_1))/I_2;\n",
      "#Results\n",
      "print 'Value of additional resistance (in ohms)=',round(R,3)"
     ],
     "language": "python",
     "metadata": {},
     "outputs": [
      {
       "output_type": "stream",
       "stream": "stdout",
       "text": [
        "Value of additional resistance (in ohms)= 23.284\n"
       ]
      }
     ],
     "prompt_number": 11
    },
    {
     "cell_type": "heading",
     "level": 2,
     "metadata": {},
     "source": [
      "Example 27 - pg 98"
     ]
    },
    {
     "cell_type": "code",
     "collapsed": false,
     "input": [
      "#calculate the value of Diverter resistance and Series field resistance\n",
      "#Initialization of variables\n",
      "#Calculations\n",
      "#Results\n",
      "N_ratio=1.2;#Speed Ratio\n",
      "#From Saturation Curve\n",
      "I_ratio=0.65;#feild current ratio corresponding to 83.3% of full load value of flux to 65% of full load value of flux\n",
      "I_a_ratio=N_ratio;#Armature current ratio corresponding to 83.3% of full load value of flux to 65% of full load value of flux\n",
      "R_ratio=I_ratio/(I_a_ratio-I_ratio);\n",
      "print 'Value of Diverter resistance (in ohms)=',round(R_ratio,3)\n",
      "print '   times the Series Field Resistance (R_se)'"
     ],
     "language": "python",
     "metadata": {},
     "outputs": [
      {
       "output_type": "stream",
       "stream": "stdout",
       "text": [
        "Value of Diverter resistance (in ohms)= 1.182\n",
        "   times the Series Field Resistance (R_se)\n"
       ]
      }
     ],
     "prompt_number": 12
    },
    {
     "cell_type": "heading",
     "level": 2,
     "metadata": {},
     "source": [
      "Example 28 - pg 99"
     ]
    },
    {
     "cell_type": "code",
     "collapsed": false,
     "input": [
      "#calculate the Armature current\n",
      "#Initialization of variables\n",
      "I_ab=800;#Armature current (in amperes)\n",
      "N1=1000;#in rpm\n",
      "N2=500.;#in rpm\n",
      "#Calculations\n",
      "I=I_ab*N1/N2;\n",
      "#Results\n",
      "print ' Armature Current at 1000 rpm (in amperes)=',I"
     ],
     "language": "python",
     "metadata": {},
     "outputs": [
      {
       "output_type": "stream",
       "stream": "stdout",
       "text": [
        " Armature Current at 1000 rpm (in amperes)= 1600.0\n"
       ]
      }
     ],
     "prompt_number": 13
    },
    {
     "cell_type": "heading",
     "level": 2,
     "metadata": {},
     "source": [
      "Example 29 - pg 99"
     ]
    },
    {
     "cell_type": "code",
     "collapsed": false,
     "input": [
      "#calculate the Value of additional resistance\n",
      "#Initialization of variables\n",
      "f=50;#in hertz\n",
      "P=4.;#No.of poles\n",
      "N_s=120*f/P;#Synchronous Speed (in rpm)\n",
      "N=1440;#Full load speed (in rpm)\n",
      "#Calculations\n",
      "s1=(N_s-N)/N_s;#Full load Slip\n",
      "N2=1200;#in rpm\n",
      "s2=(N_s-N2)/N_s;#slip\n",
      "R2=0.25;#ohms per phase\n",
      "R=(s2*R2/s1)-R2;\n",
      "#Results\n",
      "print 'Value of additional resistance (in ohms)=',R"
     ],
     "language": "python",
     "metadata": {},
     "outputs": [
      {
       "output_type": "stream",
       "stream": "stdout",
       "text": [
        "Value of additional resistance (in ohms)= 1.0\n"
       ]
      }
     ],
     "prompt_number": 14
    },
    {
     "cell_type": "heading",
     "level": 2,
     "metadata": {},
     "source": [
      "Example 30 - pg 100"
     ]
    },
    {
     "cell_type": "code",
     "collapsed": false,
     "input": [
      "#calculate the Frequency of rotor current of 6-pole and 4 pole motor and slip referred\n",
      "#Initialization of variables\n",
      "f=50.;#in hertz\n",
      "P1=6.;#No. of poles\n",
      "P2=4.;#No.of poles\n",
      "#Calculations\n",
      "N_sc=120*f/(P1+P2);#Synchronous Speed (in rpm)\n",
      "s=0.02;#slip\n",
      "N=N_sc*(1-s);#Actual Speed (in rpm)\n",
      "N_s=120*f/P1;#Synchronous Speed of 6-pole motor\n",
      "s1=(N_s-N)/N_s;\n",
      "f1=s1*f;\n",
      "N_s2=120*f1/P2;#Synchronous Speed of 4-pole motor\n",
      "s2=(N_s2-N)/N_s2;\n",
      "f2=s2*f1;\n",
      "#Results\n",
      "print 'Frequency of rotor current of 6-pole motor (in Hertz)=',f1\n",
      "print 'Slip referred to 6-pole stator field=',s1\n",
      "print 'Frequency of rotor current of 4-pole motor (in Hertz)=',f2\n",
      "print 'Slip referred to 4-pole stator field=',round(s2,4)"
     ],
     "language": "python",
     "metadata": {},
     "outputs": [
      {
       "output_type": "stream",
       "stream": "stdout",
       "text": [
        "Frequency of rotor current of 6-pole motor (in Hertz)= 20.6\n",
        "Slip referred to 6-pole stator field= 0.412\n",
        "Frequency of rotor current of 4-pole motor (in Hertz)= 1.0\n",
        "Slip referred to 4-pole stator field= 0.0485\n"
       ]
      }
     ],
     "prompt_number": 15
    },
    {
     "cell_type": "heading",
     "level": 2,
     "metadata": {},
     "source": [
      "Example 31 - pg 100"
     ]
    },
    {
     "cell_type": "code",
     "collapsed": false,
     "input": [
      "#calculate the Available speeds and Maximum load which can be delievered\n",
      "#Initialization of variables\n",
      "f=50.;#in hertz\n",
      "P1=6.;#No. of poles\n",
      "P2=4.;#No.of poles\n",
      "P_o=15.;#in HP\n",
      "#Calculations\n",
      "N_s1=120*f/P1;#Synchronous Speed of 6-pole motor\n",
      "N_s2=120*f/P2;#Synchronous Speed of 4-pole motor\n",
      "N_sc1=120*f/(P1+P2);#Concantenated Speed of set when cumulatively compounded (in rpm)\n",
      "N_sc2=120*f/(P1-P2);#Concantenated Speed of set when differentially compounded (in rpm)\n",
      "r=P1/P2;\n",
      "#Results\n",
      "print(' Available Speeds (in rpm) are :');\n",
      "print N_s1,N_s2,N_sc1,N_sc2\n",
      "print 'Maximum Load which can be delievered (in HP)=',P_o\n",
      "print 'Ratio of Mechanical Power Output',r"
     ],
     "language": "python",
     "metadata": {},
     "outputs": [
      {
       "output_type": "stream",
       "stream": "stdout",
       "text": [
        " Available Speeds (in rpm) are :\n",
        "1000.0 1500.0 600.0 3000.0\n",
        "Maximum Load which can be delievered (in HP)= 15.0\n",
        "Ratio of Mechanical Power Output 1.5\n"
       ]
      }
     ],
     "prompt_number": 16
    },
    {
     "cell_type": "heading",
     "level": 2,
     "metadata": {},
     "source": [
      "Example 32 - pg 101"
     ]
    },
    {
     "cell_type": "code",
     "collapsed": false,
     "input": [
      "#calculate the resistance to be added\n",
      "#Initialization of variables\n",
      "import math\n",
      "from math import sqrt\n",
      "f=50.;#in hertz\n",
      "V=440.;#in volts\n",
      "P_o=110.*1000;#in watts\n",
      "P=24.;#No.Of Poles\n",
      "#Calculations\n",
      "N_s=120*f/P;#Synchronous Speed (in rpm)\n",
      "N=245;#in rpm\n",
      "s_f=(N_s-N)/N_s;#Full load Speed\n",
      "T_f=P_o/(2*math.pi*N/60);#Full load Torque (in N-m)\n",
      "R=0.04;#in ohms\n",
      "R2=R/2;#Rotor resistance per phase (in ohms)\n",
      "K=1.25;# ratio of stator turns to rotor turns\n",
      "R_2=R2*K**2;#Rotor resistance reffered to stator (in ohms)\n",
      "X_2=sqrt(((V**2*R_2*1.2/(T_f*500*math.pi))-R_2**2)*(1/R2)**2);#in ohms\n",
      "s=(N_s-175)/N_s;#slip at 175 rpm\n",
      "T=T_f*175**2/N**2;#Torque at 175 rpm (in N-m)\n",
      "b=-(V**2*s*60/(T*2*math.pi*N_s));\n",
      "a=1;\n",
      "c=(s*X_2)**2;\n",
      "R_n=(-b+sqrt(b**2-4*a*c))/(2*a)\n",
      "R_ext=(R_n-R_2)/K**2;\n",
      "#Results\n",
      "print'Resistance to be added to each slip ring (in ohms)=',round(R_ext,4)"
     ],
     "language": "python",
     "metadata": {},
     "outputs": [
      {
       "output_type": "stream",
       "stream": "stdout",
       "text": [
        "Resistance to be added to each slip ring (in ohms)= 0.6143\n"
       ]
      }
     ],
     "prompt_number": 20
    },
    {
     "cell_type": "heading",
     "level": 2,
     "metadata": {},
     "source": [
      "Example 33 - pg 111"
     ]
    },
    {
     "cell_type": "code",
     "collapsed": false,
     "input": [
      "#calculate the value of external resistance and Initial braking torque \n",
      "#Initialization of variables\n",
      "import math\n",
      "I_f=100.;#in amperes\n",
      "V=220.;#in volts\n",
      "N=1000.;#in rpm\n",
      "#Calculations\n",
      "T_f=V*I_f/(2*math.pi*N/60);#Full load torque (N-m)\n",
      "E_bf=V;#Back emf (in volts)\n",
      "V_a=V+E_bf;# Voltage across armature (in volts)\n",
      "I_b=2*I_f;#braking current\n",
      "R=(V_a/I_b);#in ohms\n",
      "T_b=T_f*I_b/I_f;\n",
      "E_b1=E_bf*500/N;#in volts\n",
      "I_b1=(V+E_b1)/R;#in amperes\n",
      "T_b1=T_f*I_b1/I_f;\n",
      "#Results\n",
      "print 'Value of external resistance (in ohms)=',R\n",
      "print 'Initial Braking Torque (in N-m)=',round(T_b,0)\n",
      "print 'Braking Torque when speed reduced to 500 rpm (in N-m)=',round(T_b1,0)"
     ],
     "language": "python",
     "metadata": {},
     "outputs": [
      {
       "output_type": "stream",
       "stream": "stdout",
       "text": [
        "Value of external resistance (in ohms)= 2.2\n",
        "Initial Braking Torque (in N-m)= 420.0\n",
        "Braking Torque when speed reduced to 500 rpm (in N-m)= 315.0\n"
       ]
      }
     ],
     "prompt_number": 21
    },
    {
     "cell_type": "heading",
     "level": 2,
     "metadata": {},
     "source": [
      "Example 34 - pg 111"
     ]
    },
    {
     "cell_type": "code",
     "collapsed": false,
     "input": [
      "#calculate the Value of external resistance and braking torque\n",
      "#Initialization of variables\n",
      "import math\n",
      "P_o=17.6*1000;#in watts\n",
      "Eff=0.8;#Efficiency\n",
      "V=220.;#in volts\n",
      "#Calculations\n",
      "I_f=P_o/(V*Eff);#in amperes\n",
      "I_af=I_f;#in amperes\n",
      "R_a=0.1;#in ohms\n",
      "N=1200;#in rpm\n",
      "T_f=P_o/(2*math.pi*N/60);#Full load torque (N-m)\n",
      "E_bf=V-I_af*R_a;#Back emf (in volts)\n",
      "V_a=V+E_bf;# Voltage across armature (in volts)\n",
      "I_b=2*I_f;#braking current\n",
      "R=(V_a/I_b)-R_a;#in ohms\n",
      "E_b1=E_bf*400/N;#in volts\n",
      "I_b1=(V+E_b1)/(R+R_a);#in amperes\n",
      "T_b1=T_f*I_b1/I_f;\n",
      "#Results\n",
      "print'Value of external resistance (in ohms)=',round(R,2)\n",
      "print'Braking Torque when speed reduced to 400 rpm (in N-m)=',round(T_b1,2)"
     ],
     "language": "python",
     "metadata": {},
     "outputs": [
      {
       "output_type": "stream",
       "stream": "stdout",
       "text": [
        "Value of external resistance (in ohms)= 2.05\n",
        "Braking Torque when speed reduced to 400 rpm (in N-m)= 188.91\n"
       ]
      }
     ],
     "prompt_number": 22
    },
    {
     "cell_type": "heading",
     "level": 2,
     "metadata": {},
     "source": [
      "Example 35 - pg 112"
     ]
    },
    {
     "cell_type": "code",
     "collapsed": false,
     "input": [
      "#calculate the Current Drawn and Value of additional resistance\n",
      "#Initialization of variables\n",
      "V=220;#in volts\n",
      "P_o=400*9.81*2.5;#(in watts)\n",
      "Eff=0.85;#efficiency of motor\n",
      "Eff_h=0.8\n",
      "#Calculations\n",
      "P_in=P_o/(Eff*Eff_h);#in watts\n",
      "I=P_in/V;#in amperes\n",
      "P_out=P_o*Eff*Eff_h;#in watts\n",
      "R=V**2/P_out;\n",
      "#Results\n",
      "print 'Current Drawn (in amperes)=',round(I,1)\n",
      "print 'Value of additional resistance (in ohms)=',round(R,3)"
     ],
     "language": "python",
     "metadata": {},
     "outputs": [
      {
       "output_type": "stream",
       "stream": "stdout",
       "text": [
        "Current Drawn (in amperes)= 65.6\n",
        "Value of additional resistance (in ohms)= 7.256\n"
       ]
      }
     ],
     "prompt_number": 23
    },
    {
     "cell_type": "heading",
     "level": 2,
     "metadata": {},
     "source": [
      "Example 36 - pg 113"
     ]
    },
    {
     "cell_type": "code",
     "collapsed": false,
     "input": [
      "#calculate the Externalm resistance to be inserted\n",
      "#Initialization of variables\n",
      "import math\n",
      "T=245.;#in N-m\n",
      "N=250.;#in rpm\n",
      "#Calculations\n",
      "P_in=T*2*math.pi*N/60;#in watts\n",
      "#Corresponding to the value of P_in we found I=27.5A and E=233 V from the given curve shown in fig.1.102\n",
      "E=233;#in volts\n",
      "I=27.5;#in amperes\n",
      "r=E/I;#resistance of the circuit\n",
      "R=r-1;#External Resistance to be inserted (in ohms)\n",
      "#Results\n",
      "print'External Resistance to be inserted (in ohms)=',round(R,2)\n"
     ],
     "language": "python",
     "metadata": {},
     "outputs": [
      {
       "output_type": "stream",
       "stream": "stdout",
       "text": [
        "External Resistance to be inserted (in ohms)= 7.47\n"
       ]
      }
     ],
     "prompt_number": 24
    },
    {
     "cell_type": "heading",
     "level": 2,
     "metadata": {},
     "source": [
      "Example 37 - pg 113"
     ]
    },
    {
     "cell_type": "code",
     "collapsed": false,
     "input": [
      "#calculate the Speed under regenerative braking and plugging\n",
      "#Initialization of variables\n",
      "P_o=45*1000;#in watts\n",
      "R_a=0.2;#in ohms\n",
      "V=500;#in volts\n",
      "Eff=0.9;#Efficiency\n",
      "R_sh=200;#in ohms\n",
      "#Calculations\n",
      "I_lf=P_o/(V*Eff);#Rated Line current (in amperes)\n",
      "I_sh=V/R_sh;#Shunt feild Current (in amperes)\n",
      "I_af=I_lf-I_sh;#Armature current on full load (in Amperes)\n",
      "E_f=V-I_af*R_a;#emf induced (in volts)\n",
      "N_f=600;#in rpm\n",
      "E1=V+I_af*R_a;#in volts\n",
      "N1=E1*N_f/E_f;\n",
      "E2=I_af*(5.5+R_a)-V;#in volts\n",
      "N2=E2*N_f/E_f;\n",
      "E3=I_af*(2.6+R_a);#in volts\n",
      "N3=E3*N_f/E_f;\n",
      "#Results\n",
      "print'Speed under regenerative braking(in rpm)=',round(N1,1)\n",
      "print 'Speed under plugging (in rpm)=',round(N2,1)\n",
      "print 'Speed under dynamic braking(in rpm)=',round(N3,1)\n"
     ],
     "language": "python",
     "metadata": {},
     "outputs": [
      {
       "output_type": "stream",
       "stream": "stdout",
       "text": [
        "Speed under regenerative braking(in rpm)= 649.0\n",
        "Speed under plugging (in rpm)= 73.2\n",
        "Speed under dynamic braking(in rpm)= 342.7\n"
       ]
      }
     ],
     "prompt_number": 25
    },
    {
     "cell_type": "heading",
     "level": 2,
     "metadata": {},
     "source": [
      "Example 38 - pg 114"
     ]
    },
    {
     "cell_type": "code",
     "collapsed": false,
     "input": [
      "#calculate the Speed\n",
      "#Initialization of variables\n",
      "import math\n",
      "V=230.;#in volts\n",
      "I_a=100.;#in amperes\n",
      "R_a=0.05;#in ohms\n",
      "N=870.;#in rpm\n",
      "#Calculations\n",
      "E_b=V-I_a*R_a;#in volts\n",
      "T=E_b*I_a/(2*math.pi*N/60);#torque developed (in N-m)\n",
      "T_l=400;#in N-m\n",
      "I_an=I_a*T_l/T;#in amperes\n",
      "E=V+I_an*R_a;#in volts\n",
      "N1=N*E/230;\n",
      "#Results\n",
      "print'Speed (in rpm)=',round(N1,0)"
     ],
     "language": "python",
     "metadata": {},
     "outputs": [
      {
       "output_type": "stream",
       "stream": "stdout",
       "text": [
        "Speed (in rpm)= 901.0\n"
       ]
      }
     ],
     "prompt_number": 26
    },
    {
     "cell_type": "heading",
     "level": 2,
     "metadata": {},
     "source": [
      "Example 39 - pg 114"
     ]
    },
    {
     "cell_type": "code",
     "collapsed": false,
     "input": [
      "#calculate the flux and speed\n",
      "#Initialization of variables\n",
      "import math\n",
      "I_a1=100;#in Amperes\n",
      "V=230;#in volts\n",
      "R_a=0.1;#in ohms\n",
      "E_b1=V-I_a1*R_a;#in volts\n",
      "N1=500;#in rpm\n",
      "N2=800;#in rpm\n",
      "#Calculations\n",
      "x=(V-math.sqrt((V**2)-4*10*352))/(2*10);\n",
      "I_a2=I_a1*x;#in amperes\n",
      "E_b2=V-I_a2*R_a;#in volts\n",
      "T_2=E_b2*I_a2*60/(2*math.pi*N2);#in N-m\n",
      "T_3=800;#in N-m\n",
      "I_a3=I_a2*T_3/T_2;#in Amperes\n",
      "E_b3=V+I_a3*R_a;#in amperes\n",
      "N3=E_b3*N2/E_b2;\n",
      "#Results\n",
      "print'Flux is reduced by',round(x**-1,4)\n",
      "print('times to get motor speed of 800 rpm');\n",
      "print 'Speed (in rpm)=',math.ceil(N3)\n"
     ],
     "language": "python",
     "metadata": {},
     "outputs": []
    },
    {
     "cell_type": "heading",
     "level": 2,
     "metadata": {},
     "source": [
      "Example 40 - pg 123"
     ]
    },
    {
     "cell_type": "code",
     "collapsed": false,
     "input": [
      "#calculate the plugging Torque\n",
      "#Initialization of variables\n",
      "import math\n",
      "f=50.;#in hertz\n",
      "P=4.;#Number of poles\n",
      "s_f=0.05;#Full load Slip\n",
      "#Calculations\n",
      "N_s=120*f/P;#Synchronous Speed (in rpm)\n",
      "N_f=N_s*(1-s_f);#Full load speed (in rpm)\n",
      "P_d=30*1000;#in watts\n",
      "T_f=P_d/(2*math.pi*N_f/60.);#In N-m\n",
      "s_2=2-s_f;#Slip at plugging\n",
      "T_p=(s_2/s_f)*T_f*(1+16*s_f**2)/(1+16*s_2**2);\n",
      "#Results\n",
      "print'Plugging Torque (in N-m)=',round(T_p,2)"
     ],
     "language": "python",
     "metadata": {},
     "outputs": [
      {
       "output_type": "stream",
       "stream": "stdout",
       "text": [
        "Plugging Torque (in N-m)= 131.86\n"
       ]
      }
     ],
     "prompt_number": 27
    },
    {
     "cell_type": "heading",
     "level": 2,
     "metadata": {},
     "source": [
      "Example 41 - pg 123"
     ]
    },
    {
     "cell_type": "code",
     "collapsed": false,
     "input": [
      "#calculate the Initial braking Torque and during  dc dynamic\n",
      "#Initialization of variables\n",
      "import math\n",
      "from math import sqrt\n",
      "R2=0.5;#in ohms\n",
      "X2=2.4;#in ohms\n",
      "a=0.5;#ratio\n",
      "s_f=0.05;#slip\n",
      "f=50.;#in hertz\n",
      "P=8.;#Number of Poles\n",
      "#Calculations\n",
      "R_2=R2*a**2;#in ohms\n",
      "X_2=X2*a**2;#in ohms\n",
      "s=2-s_f;#Slip during Plugging\n",
      "N_s=120*f/P;#in rpm\n",
      "V=400/sqrt(3);#in volts\n",
      "R_L=2;#in ohms\n",
      "R_1=0.1;#in ohms\n",
      "X_1=0.6;#in ohms\n",
      "I_2=V/sqrt(((R_1+(R_2+R_L)/s)**2)+(X_1+X_2)**2);#in amperes\n",
      "T_b=3*60*I_2**2*(R_2+R_L)/(2*math.pi*N_s*s);\n",
      "E_2=V*sqrt(((R_2/s_f)**2+(X_2**2))/(((R_2/s_f)+R_1)**2)+1.2**2)/sqrt(3.);\n",
      "S=1-s_f;#Slip during breaking\n",
      "I_2b=E_2/sqrt((X_2**2)+((R_L+R_2)/S)**2);\n",
      "T_bn=3*60.*I_2b**2*(R_2+R_L)/(2*math.pi*N_s*S);\n",
      "#Results\n",
      "print 'Initial Braking Torque (in N-m)=',int(T_b)\n",
      "print'Initial Braking Torque during dc dynamic braking(in N-m)=',round(T_bn,1)"
     ],
     "language": "python",
     "metadata": {},
     "outputs": [
      {
       "output_type": "stream",
       "stream": "stdout",
       "text": [
        "Initial Braking Torque (in N-m)= 777\n",
        "Initial Braking Torque during dc dynamic braking(in N-m)= 684.7\n"
       ]
      }
     ],
     "prompt_number": 28
    },
    {
     "cell_type": "heading",
     "level": 2,
     "metadata": {},
     "source": [
      "Example 42 - pg 125"
     ]
    },
    {
     "cell_type": "code",
     "collapsed": false,
     "input": [
      "#calculate the Time taken and no. of revolutions made\n",
      "#Initialization of variables\n",
      "import math\n",
      "J=630.;#in kg-m**2\n",
      "T_f=1.4*9.81;#in N-m\n",
      "T_e=165*9.81;#in N-m\n",
      "t2=45.3\n",
      "n2=90\n",
      "#Calculations\n",
      "T_b=T_e+T_f;#in N-m\n",
      "Beta=T_b/J;#in rad/sec**2\n",
      "f=50.;#in hertz\n",
      "P=8.;#no of poles\n",
      "N_s=120.*f/P;#in rpm\n",
      "w_1=2*math.pi*N_s/60.;#in rad/sec\n",
      "t=w_1/Beta;\n",
      "n=w_1**2/(2*math.pi*Beta*2);\n",
      "#Results\n",
      "print 'case 1'\n",
      "print 'Time taken to stop the motor (in seconds)=',round(t,1)\n",
      "print'Number of revolutions made=',round(n,0)\n",
      "print 'case 2'\n",
      "print 'Time taken to stop the motor (in seconds)=',round(t2,1)\n",
      "print'Number of revolutions made=',round(n2,0)"
     ],
     "language": "python",
     "metadata": {},
     "outputs": [
      {
       "output_type": "stream",
       "stream": "stdout",
       "text": [
        "case 1\n",
        "Time taken to stop the motor (in seconds)= 30.3\n",
        "Number of revolutions made= 189.0\n",
        "case 2\n",
        "Time taken to stop the motor (in seconds)= 45.3\n",
        "Number of revolutions made= 90.0\n"
       ]
      }
     ],
     "prompt_number": 30
    },
    {
     "cell_type": "heading",
     "level": 2,
     "metadata": {},
     "source": [
      "Example 43 - pg 126"
     ]
    },
    {
     "cell_type": "code",
     "collapsed": false,
     "input": [
      "#calculate he time taken and no. of Revolutions\n",
      "#Initialization of variables\n",
      "import math\n",
      "P_o=37.5*1000;#in Watts\n",
      "N=750.;#in rpm\n",
      "Eff=0.9;#Efficiency\n",
      "V_L=400.;#in Volts\n",
      "pf=0.85;#Power Factor\n",
      "R_b=2.5;#in ohms\n",
      "#Calculations\n",
      "T_f=P_o*60/(2*math.pi*N);#in N-m\n",
      "I_L=P_o/(math.sqrt(3)*V_L*pf*Eff);#in Amperes\n",
      "I_b=V_L/(math.sqrt(3)*R_b);#in Amperes\n",
      "T_E=T_f*I_b/I_L;#in N-m\n",
      "T_i_total=T_f+T_E;#in N-m\n",
      "w=2*math.pi*N/60;#in rad/sec\n",
      "K=T_E/w;\n",
      "J=20;#kg-m**2\n",
      "t=(J/K)*math.log((T_f+K*w)/T_f);\n",
      "n=(1/(2*math.pi*K))*(((J/K)*(T_f+K*w)*(1-math.exp(-K*t/J)))-T_f*t);\n",
      "#Results\n",
      "print'Time taken (in Seconds)=',round(t,1)\n",
      "print'Number of Revolutions Made=',round(n,2)"
     ],
     "language": "python",
     "metadata": {},
     "outputs": [
      {
       "output_type": "stream",
       "stream": "stdout",
       "text": [
        "Time taken (in Seconds)= 2.1\n",
        "Number of Revolutions Made= 11.35\n"
       ]
      }
     ],
     "prompt_number": 31
    },
    {
     "cell_type": "heading",
     "level": 2,
     "metadata": {},
     "source": [
      "Example 44 - pg 127"
     ]
    },
    {
     "cell_type": "code",
     "collapsed": false,
     "input": [
      "#calculate the time taken in both cases\n",
      "#Initialization of variables\n",
      "import math\n",
      "E=240.;#in volts\n",
      "R=15.;#in ohms\n",
      "N=1500.;#in rpm\n",
      "#Calculations\n",
      "P=E**2/R;#in Watts\n",
      "T_b=P*60/(2*math.pi*N);#in N-m\n",
      "T_e=T_b;\n",
      "w_1=2*math.pi*N/60;#in rad/sec\n",
      "K=T_e/w_1;\n",
      "J=20;#kg-m^2\n",
      "t=(J/K)*math.log(w_1/62.832);\n",
      "T_f=1.5*9.81;#in N-m\n",
      "t_o=(J/K)*math.log((T_f+T_e)/(T_f+(T_e*600/1500)));\n",
      "#Results\n",
      "print'Time taken to bring motor from 1500 rpm to 600 rpm (in seconds)=',round(t,1)\n",
      "print 'Time taken for fall of speed if there exist frictional torque (in seconds)=',round(t_o,1)"
     ],
     "language": "python",
     "metadata": {},
     "outputs": [
      {
       "output_type": "stream",
       "stream": "stdout",
       "text": [
        "Time taken to bring motor from 1500 rpm to 600 rpm (in seconds)= 117.8\n",
        "Time taken for fall of speed if there exist frictional torque (in seconds)= 60.3\n"
       ]
      }
     ],
     "prompt_number": 32
    },
    {
     "cell_type": "heading",
     "level": 2,
     "metadata": {},
     "source": [
      "Example 45 - pg 144"
     ]
    },
    {
     "cell_type": "code",
     "collapsed": false,
     "input": [
      "#calculate the final temperature rise and Heating time constant\n",
      "#Initialization of variables\n",
      "import math\n",
      "d=0.65;#in meters\n",
      "l=1.;#in meters\n",
      "P_o=12.*735.5;#in watts\n",
      "Eff=0.9;#Efficiency\n",
      "m=400.;#in kg\n",
      "C_p=700.;#in J/Kg/Celcius\n",
      "alpha=12.;#in watts/m^2/Celcius\n",
      "#Calculations\n",
      "P_in=P_o/Eff;#in watts\n",
      "P_L=P_in-P_o;#in watts\n",
      "S=math.pi*d*l;#in m^2\n",
      "Theta=P_L/(S*alpha);#in Celcius\n",
      "t=m*C_p/(S*alpha);\n",
      "#Results\n",
      "print'Final temperature rise (in degree celcius)=',round(Theta,0)\n",
      "print 'Heating time constant (in seconds)=',math.ceil(t)"
     ],
     "language": "python",
     "metadata": {},
     "outputs": [
      {
       "output_type": "stream",
       "stream": "stdout",
       "text": [
        "Final temperature rise (in degree celcius)= 40.0\n",
        "Heating time constant (in seconds)= 11427.0\n"
       ]
      }
     ],
     "prompt_number": 35
    },
    {
     "cell_type": "heading",
     "level": 2,
     "metadata": {},
     "source": [
      "Example 46 - pg 145"
     ]
    },
    {
     "cell_type": "code",
     "collapsed": false,
     "input": [
      "#calculate the Final steady state temperature and Heating time constant\n",
      "#Initialization of variables\n",
      "import matplotlib\n",
      "from matplotlib import pyplot\n",
      "t=([.2,.4,.6,1,1.5,2,3])\n",
      "temp=([7,13.5,19.3,29.1,39.1,46.7,57.3])\n",
      "#Calculations\n",
      "tf=74 #C\n",
      "tff=tf*.632\n",
      "time=2\n",
      "#Results\n",
      "print 'Final steady state temperature = ',tf\n",
      "print 'Heating time constant = ',time\n"
     ],
     "language": "python",
     "metadata": {},
     "outputs": [
      {
       "output_type": "stream",
       "stream": "stdout",
       "text": [
        "Final steady state temperature =  74\n",
        "Heating time constant =  2\n"
       ]
      }
     ],
     "prompt_number": 36
    },
    {
     "cell_type": "heading",
     "level": 2,
     "metadata": {},
     "source": [
      "Example 47 - pg 145"
     ]
    },
    {
     "cell_type": "code",
     "collapsed": false,
     "input": [
      "#calculate the Heating time constant and Final steady state temperature\n",
      "theta_1=20.;#in degree celcius\n",
      "theta_2=34.;#in degree celcius\n",
      "import math\n",
      "t=-1./math.log((theta_2/theta_1)-1.);#in hours\n",
      "theta_F=theta_1/(1-math.exp(-1./t));\n",
      "theta_f=theta_F/(1-math.exp(-1./t));\n",
      "x=math.sqrt(2*(theta_f/theta_F)-1);\n",
      "print 'Final steady temperature rise (in degree celcius)=',round(theta_F,2)\n",
      "print 'Heating time constant (in hours)=',round(t,1)\n",
      "print 'one hour rating of motor is'\n",
      "print 'times full load rating',round(x,2)"
     ],
     "language": "python",
     "metadata": {},
     "outputs": [
      {
       "output_type": "stream",
       "stream": "stdout",
       "text": [
        "Final steady temperature rise (in degree celcius)= 66.67\n",
        "Heating time constant (in hours)= 2.8\n",
        "one hour rating of motor is\n",
        "times full load rating 2.38\n"
       ]
      }
     ],
     "prompt_number": 37
    },
    {
     "cell_type": "heading",
     "level": 2,
     "metadata": {},
     "source": [
      "Example 48 - pg 146"
     ]
    },
    {
     "cell_type": "code",
     "collapsed": false,
     "input": [
      "#calculate the Half hour rating of a 25 KW Motor\n",
      "#Initialization of variables\n",
      "import math\n",
      "P=25.;#in KW\n",
      "t=1.5;#in hours\n",
      "#Calculations\n",
      "P_L=math.sqrt((((1/(1-math.exp(-0.5/t)))*1.9)-0.9)*P**2);\n",
      "#Results\n",
      "print 'Half hour rating of a 25KW Motor (in KW)=',round(P_L,1)"
     ],
     "language": "python",
     "metadata": {},
     "outputs": [
      {
       "output_type": "stream",
       "stream": "stdout",
       "text": [
        "Half hour rating of a 25KW Motor (in KW)= 60.2\n"
       ]
      }
     ],
     "prompt_number": 38
    },
    {
     "cell_type": "heading",
     "level": 2,
     "metadata": {},
     "source": [
      "Example 49 - pg 147"
     ]
    },
    {
     "cell_type": "code",
     "collapsed": false,
     "input": [
      "#calculate the Time of operation\n",
      "#Initialization of variables\n",
      "import math\n",
      "t=60.;#in minutes\n",
      "theta_F=20.;#in degree celcius\n",
      "P_L1=2.5625;#Total losses at P KW\n",
      "P_L2=7.25;#Total losses at 2P KW\n",
      "#Calculations\n",
      "theta_f=theta_F*P_L2/P_L1;#in degree celcius\n",
      "t_o=t*math.log(1/(1.-(theta_F/theta_f)));\n",
      "#Results\n",
      "print'Time of operation (in minutes)=',round(t_o,2)"
     ],
     "language": "python",
     "metadata": {},
     "outputs": [
      {
       "output_type": "stream",
       "stream": "stdout",
       "text": [
        "Time of operation (in minutes)= 26.17\n"
       ]
      }
     ],
     "prompt_number": 39
    },
    {
     "cell_type": "heading",
     "level": 2,
     "metadata": {},
     "source": [
      "Example 51 - pg 148"
     ]
    },
    {
     "cell_type": "code",
     "collapsed": false,
     "input": [
      "#calculate the Continuous Rating of Motor\n",
      "#Initialization of variables\n",
      "import math\n",
      "Eff=0.8;#Efficiency\n",
      "P1=400.;#in watts\n",
      "t1=60.;#in minutes\n",
      "t2=15.;#in minutes\n",
      "#Calculations\n",
      "P=math.sqrt((((2.5625/(1-math.exp(-t2/t1)))-1)**(-1))*(P1/Eff)**2);\n",
      "#Results\n",
      "print 'Continuous Rating of Motor (in Watts)=',round(P,1)"
     ],
     "language": "python",
     "metadata": {},
     "outputs": [
      {
       "output_type": "stream",
       "stream": "stdout",
       "text": [
        "Continuous Rating of Motor (in Watts)= 153.7\n"
       ]
      }
     ],
     "prompt_number": 40
    },
    {
     "cell_type": "heading",
     "level": 2,
     "metadata": {},
     "source": [
      "Example 52 - pg 148"
     ]
    },
    {
     "cell_type": "code",
     "collapsed": false,
     "input": [
      "#calculate the Steady state temperature rise and time taken\n",
      "#Initialization of variables\n",
      "import math\n",
      "theta_1=50.;#in degree Celcius\n",
      "theta_F=80.;#in degree celcius\n",
      "t=0.75;#in hours\n",
      "#Calculations\n",
      "theta=theta_F*(1-math.exp(-1./t));\n",
      "theta_f=theta_F/(1-math.exp(-1/t));\n",
      "T=-t*math.log(1-(theta_1/theta_f));\n",
      "print 'Temperature rise after 1 hour (in degree celcius)=',theta_F\n",
      "print'Steady state temperature rise at 1 hour rating (in degree celcius)=',round(theta_f,2)\n",
      "#Results\n",
      "print 'Time taken to increase temperature from 50 to 80 degree celcius (in minutes)=',round(60-T*60,2)"
     ],
     "language": "python",
     "metadata": {},
     "outputs": [
      {
       "output_type": "stream",
       "stream": "stdout",
       "text": [
        "Temperature rise after 1 hour (in degree celcius)= 80.0\n",
        "Steady state temperature rise at 1 hour rating (in degree celcius)= 108.64\n",
        "Time taken to increase temperature from 50 to 80 degree celcius (in minutes)= 32.25\n"
       ]
      }
     ],
     "prompt_number": 41
    },
    {
     "cell_type": "heading",
     "level": 2,
     "metadata": {},
     "source": [
      "Example 53 - pg 149"
     ]
    },
    {
     "cell_type": "code",
     "collapsed": false,
     "input": [
      "#calculate the Value of load in kW during load period\n",
      "#Initialization of variables\n",
      "import math\n",
      "P_cont=100.;#in KWs\n",
      "Eff=0.8;#Efficiency\n",
      "T_1=50.;#in minutes\n",
      "T_2=70.;#in minutes\n",
      "t_1=10.;#in minutes\n",
      "t_2=10.;#in minutes\n",
      "#Calculations\n",
      "r=(1-math.exp(-((t_1/T_1)+(t_2/T_2))))/(1.-math.exp(-t_1/T_1));# r=theta_f/theta_F\n",
      "P_L=2.5625;#Losses at 100 KW Load \n",
      "P_L1=Eff*P_cont;#in Kws\n",
      "P=math.sqrt(((P_L*r)-1)*P_L1**2);\n",
      "#Results\n",
      "print'Value of Load in KW during load period=',round(P,2)"
     ],
     "language": "python",
     "metadata": {},
     "outputs": [
      {
       "output_type": "stream",
       "stream": "stdout",
       "text": [
        "Value of Load in KW during load period= 140.93\n"
       ]
      }
     ],
     "prompt_number": 42
    },
    {
     "cell_type": "heading",
     "level": 2,
     "metadata": {},
     "source": [
      "Example 54 - pg 149"
     ]
    },
    {
     "cell_type": "code",
     "collapsed": false,
     "input": [
      "#calculate the Heating time constant and Final Temperature rise\n",
      "#Initialization of variables\n",
      "import math\n",
      "theta_1=20.;#in degree celcius\n",
      "theta_2=30.;#in degree celcius\n",
      "t_1=30.;#in minutes\n",
      "t_2=60.;#in minutes\n",
      "#Calculations\n",
      "t=-(t_2-t_1)/math.log((theta_2/theta_1)-1);#in minutes\n",
      "theta_F=theta_1/(1-math.exp(-t_1/t));\n",
      "#Results\n",
      "print 'Heating Time Contant (in minutes)=',round(t,2)\n",
      "print 'Final Temperature Rise (in Degree Celcius)=',theta_F"
     ],
     "language": "python",
     "metadata": {},
     "outputs": [
      {
       "output_type": "stream",
       "stream": "stdout",
       "text": [
        "Heating Time Contant (in minutes)= 43.28\n",
        "Final Temperature Rise (in Degree Celcius)= 40.0\n"
       ]
      }
     ],
     "prompt_number": 43
    },
    {
     "cell_type": "heading",
     "level": 2,
     "metadata": {},
     "source": [
      "Example 55 - pg 150"
     ]
    },
    {
     "cell_type": "code",
     "collapsed": false,
     "input": [
      "#calculate the Maximum Overload\n",
      "#Initialization of variables\n",
      "import math\n",
      "theta_1=30.;#in degree celcius\n",
      "theta_2=40.;#in degree celcius\n",
      "t_1=1.;#in hours\n",
      "t_2=2.;#in hours\n",
      "#Calculations\n",
      "x=(theta_2/theta_1)-1;\n",
      "theta_F=theta_1/(1-x);#in degree celcius\n",
      "theta_f=50./(1-x);#in degree celcius\n",
      "P_L=25.;#in KWs\n",
      "P=P_L*math.sqrt(theta_f/theta_F);\n",
      "#Results\n",
      "print'Maximum Overload (in KWs)=',round(P,1)"
     ],
     "language": "python",
     "metadata": {},
     "outputs": [
      {
       "output_type": "stream",
       "stream": "stdout",
       "text": [
        "Maximum Overload (in KWs)= 32.3\n"
       ]
      }
     ],
     "prompt_number": 44
    },
    {
     "cell_type": "heading",
     "level": 2,
     "metadata": {},
     "source": [
      "Example 56 - pg 151"
     ]
    },
    {
     "cell_type": "code",
     "collapsed": false,
     "input": [
      "#calculate the Temperature rise in both cases\n",
      "#Initialization of variables\n",
      "import math\n",
      "theta_1=20.;#in degree celcius\n",
      "theta_2=35.;#in degree celcius\n",
      "t_1=1/2.;#in hours\n",
      "t_2=1.;#in hours\n",
      "#Calculations\n",
      "t=-(t_2-t_1)/math.log((theta_2/theta_1)-1);#in minutes\n",
      "theta_F=theta_1/(1-math.exp(-t_1/t));\n",
      "theta=theta_F*(1-math.exp(-2/t));\n",
      "theta_F1=theta_F*0.8;#in Degree Celcius\n",
      "t_o=0.8*t;#in hours\n",
      "theta_o=theta_F1*(1-math.exp(-1/t_o));\n",
      "#Results\n",
      "print'Temperature Rise After 2 hrs (in Degree Celcius)=',round(theta,1)\n",
      "print'Temperature Rise from cold After 1 hr at full load (in Degree Celcius)=',round(theta_o,1)"
     ],
     "language": "python",
     "metadata": {},
     "outputs": [
      {
       "output_type": "stream",
       "stream": "stdout",
       "text": [
        "Temperature Rise After 2 hrs (in Degree Celcius)= 54.7\n",
        "Temperature Rise from cold After 1 hr at full load (in Degree Celcius)= 32.8\n"
       ]
      }
     ],
     "prompt_number": 46
    },
    {
     "cell_type": "heading",
     "level": 2,
     "metadata": {},
     "source": [
      "Example 57 - pg 152"
     ]
    },
    {
     "cell_type": "code",
     "collapsed": false,
     "input": [
      "#calculate the rating of motor\n",
      "#Initialization of variables\n",
      "import math\n",
      "P_1=100.;#in KWs\n",
      "P_2=50.;#in KWs\n",
      "t_1=10.;#in minutes\n",
      "t_2=8.;#in minutes\n",
      "t_3=5.;#in minutes\n",
      "t_4=4.;#in minutes\n",
      "#Calculations\n",
      "P=math.sqrt(((t_1*P_1**2)+(t_2*P_2**2))/(t_1+t_2+t_3+t_4));\n",
      "#Results\n",
      "print'Rating Of Continuously Rated Motor (in KWs)=',round(P,2)\n",
      "print'Adequate rating of motor=70 Kws'"
     ],
     "language": "python",
     "metadata": {},
     "outputs": [
      {
       "output_type": "stream",
       "stream": "stdout",
       "text": [
        "Rating Of Continuously Rated Motor (in KWs)= 66.67\n",
        "Adequate rating of motor=70 Kws\n"
       ]
      }
     ],
     "prompt_number": 47
    },
    {
     "cell_type": "heading",
     "level": 2,
     "metadata": {},
     "source": [
      "Example 58 - pg 152"
     ]
    },
    {
     "cell_type": "code",
     "collapsed": false,
     "input": [
      "#calculate the Power rating of Motor\n",
      "#Initialization of variables\n",
      "import math\n",
      "T_1=240.;#in N_m\n",
      "T_2=140.;#in N-m\n",
      "T_3=300.;#in N-m\n",
      "T_4=200.;#in N-m\n",
      "t_1=20.;#in minutes\n",
      "t_2=10.;#in minutes\n",
      "t_3=10.;#in minutes\n",
      "t_4=20.;#in minutes\n",
      "#Calculations\n",
      "T=math.sqrt(((t_1*T_1**2)+(t_2*T_2**2)+(t_3*T_3**2)+(t_4*T_4**2))/(t_1+t_2+t_3+t_4));\n",
      "N=720.;#in rpm\n",
      "P=T*2*math.pi*N/60.;\n",
      "#Results\n",
      "print'Power rating of Motor(in KWs)=',round(P,0)"
     ],
     "language": "python",
     "metadata": {},
     "outputs": [
      {
       "output_type": "stream",
       "stream": "stdout",
       "text": [
        "Power rating of Motor(in KWs)= 16994.0\n"
       ]
      }
     ],
     "prompt_number": 48
    },
    {
     "cell_type": "heading",
     "level": 2,
     "metadata": {},
     "source": [
      "Example 59 - pg 152"
     ]
    },
    {
     "cell_type": "code",
     "collapsed": false,
     "input": [
      "#calculate the Power Rating of Motor\n",
      "import math\n",
      "#Initialization of variables\n",
      "t=90.;#in seconds\n",
      "#Calculations\n",
      "T_eq=math.sqrt(40750./t);#in Kg-m\n",
      "N=750.;#in rpm\n",
      "P=T_eq*9.81*2*math.pi*N/60.;\n",
      "#Results\n",
      "print'Power Rating Of Motor (in Kws)=',round(P,0)\n",
      "print 'The answers are a bit different from textbook due to rounding off error'"
     ],
     "language": "python",
     "metadata": {},
     "outputs": [
      {
       "output_type": "stream",
       "stream": "stdout",
       "text": [
        "Power Rating Of Motor (in Kws)= 16395.0\n",
        "The answers are a bit different from textbook due to rounding off error\n"
       ]
      }
     ],
     "prompt_number": 49
    },
    {
     "cell_type": "heading",
     "level": 2,
     "metadata": {},
     "source": [
      "Example 60 - pg 153"
     ]
    },
    {
     "cell_type": "code",
     "collapsed": false,
     "input": [
      "#Initialization of variables\n",
      "import math\n",
      "t1=15.\n",
      "t2=0.\n",
      "t3=85.\n",
      "t4=15.\n",
      "t5=95.\n",
      "t6=83.\n",
      "#Calculations\n",
      "Hpx=4900./3 *(t1**3-t2**3) + 360000*(t3-t4) + 400./3 *((t5-t3)**3 - (t6-t3)**3)\n",
      "Hp=math.sqrt(Hpx/120.)\n",
      "#Results\n",
      "print 'Hp rating of motor (in hp) = ',round(Hp,0)"
     ],
     "language": "python",
     "metadata": {},
     "outputs": [
      {
       "output_type": "stream",
       "stream": "stdout",
       "text": [
        "Hp rating of motor (in hp) =  507.0\n"
       ]
      }
     ],
     "prompt_number": 50
    },
    {
     "cell_type": "heading",
     "level": 2,
     "metadata": {},
     "source": [
      "Example 61 - pg 158"
     ]
    },
    {
     "cell_type": "code",
     "collapsed": false,
     "input": [
      "#calculate the speed at the end of deceleration period\n",
      "#Initialization of variables\n",
      "import math\n",
      "T_l=100*9.81;#in N-m\n",
      "t=10;#in seconds\n",
      "J=1000;#kg-m^2\n",
      "f=50;#in hertz\n",
      "P=4;#no.of poles\n",
      "s=0.06;#slip\n",
      "#Calculations\n",
      "N_s=120*f/P;#synchronous speed (in rpm);\n",
      "w_s=s*N_s*2*math.pi/60;#slip speed (in rad/sec)\n",
      "K=w_s/(50*9.81);\n",
      "T_m=T_l-T_l*math.exp(-t/(K*J));\n",
      "N_sn=K*T_m*60/(2*math.pi);#in rpm\n",
      "N=N_s-N_sn;\n",
      "#Results\n",
      "print'Speed at the end of deceleration period (in rpm)=',round(N,0)"
     ],
     "language": "python",
     "metadata": {},
     "outputs": [
      {
       "output_type": "stream",
       "stream": "stdout",
       "text": [
        "Speed at the end of deceleration period (in rpm)= 1427.0\n"
       ]
      }
     ],
     "prompt_number": 51
    },
    {
     "cell_type": "heading",
     "level": 2,
     "metadata": {},
     "source": [
      "Example 62 - pg 158"
     ]
    },
    {
     "cell_type": "code",
     "collapsed": false,
     "input": [
      "#calculate the Moment of Inertia\n",
      "#Initialization of variables\n",
      "import math\n",
      "P_o=500*735.5;#in watts\n",
      "N_o=40.;#in rpm\n",
      "s_f=0.12;\n",
      "#Calculations\n",
      "N_f=N_o*(1-s_f);#full load speed (in rpm)\n",
      "T_f=P_o/(2*math.pi*N_f/60);#Full load torque (N-m)\n",
      "T_m=2*T_f;#Motor torque (in N-m)\n",
      "T_l=41500*9.81;#Load torque (in N-m)\n",
      "t=10;#seconds\n",
      "w_s=s_f*N_o*2*math.pi/60;#slip speed (in rad/sec)\n",
      "K=w_s/T_f;\n",
      "J=-t/(K*math.log(1-(T_m/T_l)));\n",
      "#Results\n",
      "print '%s %.3e' %('Moment of Inertia (in Kg-m^2)=',J)"
     ],
     "language": "python",
     "metadata": {},
     "outputs": [
      {
       "output_type": "stream",
       "stream": "stdout",
       "text": [
        "Moment of Inertia (in Kg-m^2)= 2.947e+06\n"
       ]
      }
     ],
     "prompt_number": 52
    },
    {
     "cell_type": "heading",
     "level": 2,
     "metadata": {},
     "source": [
      "Example 63 - pg 159"
     ]
    },
    {
     "cell_type": "code",
     "collapsed": false,
     "input": [
      "#calculate the weight of flywheel and time taken\n",
      "#Initialization of variables\n",
      "import math\n",
      "P_o=50*1000.;#in watts\n",
      "f=50.;#in hertz\n",
      "s_f=0.04;#slip\n",
      "P=6.;#no.of poles\n",
      "t1=300. #N-m\n",
      "t2=1500. #N-m\n",
      "r=.9\n",
      "T_x=700.\n",
      "#Calculations\n",
      "N_s=120.*f/P;#Synchronous Speed (in rpm)\n",
      "N_f=N_s*(1.-s_f);\n",
      "T_f=P_o/(2*math.pi*N_f/60.)\n",
      "T_m=2*T_f\n",
      "T_L=t1+t2\n",
      "T0=t1\n",
      "t=10 #sec\n",
      "SS=s_f*1000/60.*2*math.pi\n",
      "K=SS/T_f\n",
      "J=-t/K/math.log((T_L-T_m)/(T_L-T0))\n",
      "w=J/r**2\n",
      "tx=K*J*math.log((T_m-T0)/(T_x-T0))\n",
      "#Results\n",
      "print 'Weight of flywheel (in kg) = ',round(w,0)\n",
      "print 'Time required (in sec) = ',round(tx,3)"
     ],
     "language": "python",
     "metadata": {},
     "outputs": [
      {
       "output_type": "stream",
       "stream": "stdout",
       "text": [
        "Weight of flywheel (in kg) =  2357.0\n",
        "Time required (in sec) =  8.875\n"
       ]
      }
     ],
     "prompt_number": 53
    },
    {
     "cell_type": "heading",
     "level": 2,
     "metadata": {},
     "source": [
      "Example 64 - pg 160"
     ]
    },
    {
     "cell_type": "code",
     "collapsed": false,
     "input": [
      "#calculate the Moment of Inertia of Flywheel\n",
      "#Initialization of variables\n",
      "import math\n",
      "T_L=600.;#in N-m\n",
      "T_m=450.;#in N-m\n",
      "N=600.;#in rpm\n",
      "#Calculations\n",
      "w_o=2*math.pi*N/60.;#in rad/sec\n",
      "s=0.08;#slip\n",
      "w=s*w_o;#in rad/sec\n",
      "K=w/T_m;#Torque constant\n",
      "J=(-10./K)/math.log(0.25);#in Kg-m^2\n",
      "J_m=10;#in Kg-m^2\n",
      "J_F=J-J_m;\n",
      "#Results\n",
      "print 'Moment Of Inertia Of Flywheel (in Kg-m^2)=',round(J_F,1)"
     ],
     "language": "python",
     "metadata": {},
     "outputs": [
      {
       "output_type": "stream",
       "stream": "stdout",
       "text": [
        "Moment Of Inertia Of Flywheel (in Kg-m^2)= 635.8\n"
       ]
      }
     ],
     "prompt_number": 55
    },
    {
     "cell_type": "heading",
     "level": 2,
     "metadata": {},
     "source": [
      "Example 65 - pg 160"
     ]
    },
    {
     "cell_type": "code",
     "collapsed": false,
     "input": [
      "#calculate the weight of flywheel and time taken\n",
      "#Initialization of variables\n",
      "import math\n",
      "P_o=100*1000.;#in watts\n",
      "f=50.;#in hertz\n",
      "N=960. #rpm\n",
      "s_f=0.04;#slip\n",
      "P=6.;#no.of poles\n",
      "t1=600. #N-m\n",
      "t2=2400. #N-m\n",
      "r=.9\n",
      "T_x=700.\n",
      "t=10 #s\n",
      "J_M=200.\n",
      "#Calculations\n",
      "N_s=120.*f/P;#Synchronous Speed (in rpm)\n",
      "SS=(N_s-N)*math.pi*2/60.\n",
      "T_f=P_o/(2*math.pi*N/60.)\n",
      "T_m=2*T_f\n",
      "T_L=t1+t2\n",
      "T0=t1\n",
      "K=SS/T_f\n",
      "J=-t/K/math.log((T_L-T_m)/(T_L-T0))\n",
      "J_F=J-J_M\n",
      "#Results\n",
      "print 'Moment of Inertia of flywheel (in kg-m^2) = ',round(J_F,1)"
     ],
     "language": "python",
     "metadata": {},
     "outputs": [
      {
       "output_type": "stream",
       "stream": "stdout",
       "text": [
        "Moment of Inertia of flywheel (in kg-m^2) =  2545.5\n"
       ]
      }
     ],
     "prompt_number": 56
    }
   ],
   "metadata": {}
  }
 ]
}