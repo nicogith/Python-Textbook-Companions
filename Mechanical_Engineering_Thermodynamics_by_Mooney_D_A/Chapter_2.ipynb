{
 "metadata": {
  "name": ""
 },
 "nbformat": 3,
 "nbformat_minor": 0,
 "worksheets": [
  {
   "cells": [
    {
     "cell_type": "heading",
     "level": 1,
     "metadata": {},
     "source": [
      "Chapter 2 - Work"
     ]
    },
    {
     "cell_type": "heading",
     "level": 2,
     "metadata": {},
     "source": [
      "Example 1 - Pg 16"
     ]
    },
    {
     "cell_type": "code",
     "collapsed": false,
     "input": [
      "#Calculate the net work done\n",
      "#Initialization of variables\n",
      "from numpy import math\n",
      "g=1.4  #Gamma\n",
      "P=100. #psia\n",
      "V1=3. #cu ft\n",
      "Pf=20. #psia\n",
      "#calculations\n",
      "V2=V1*math.pow((P/Pf),(1/g))\n",
      "W=(Pf*V2-P*V1)*144./(1-g)\n",
      "#results\n",
      "print '%s %d %s' %(\"Net work done =\",W,\"ft lb\")\n"
     ],
     "language": "python",
     "metadata": {},
     "outputs": [
      {
       "output_type": "stream",
       "stream": "stdout",
       "text": [
        "Net work done = 39810 ft lb\n"
       ]
      }
     ],
     "prompt_number": 1
    },
    {
     "cell_type": "heading",
     "level": 2,
     "metadata": {},
     "source": [
      "Example 2 - Pg 17"
     ]
    },
    {
     "cell_type": "code",
     "collapsed": false,
     "input": [
      "#Calculate the net work done\n",
      "#Initialization of variables\n",
      "Wb=-33000. #ft-lb\n",
      "V2=3. #cu ft\n",
      "V1=1. #cu ft\n",
      "P=69.4 #psia\n",
      "#calculations\n",
      "Wa=P*(V2-V1)*144.\n",
      "W=Wa+Wb\n",
      "#results\n",
      "print '%s %d %s' %(\"Net work done =\",W,\"ft-lb\")\n",
      "print '%s' %(\"The answer is a bit different due to rounding off error in textbook\")\n"
     ],
     "language": "python",
     "metadata": {},
     "outputs": [
      {
       "output_type": "stream",
       "stream": "stdout",
       "text": [
        "Net work done = -13012 ft-lb\n",
        "The answer is a bit different due to rounding off error in textbook\n"
       ]
      }
     ],
     "prompt_number": 3
    },
    {
     "cell_type": "heading",
     "level": 2,
     "metadata": {},
     "source": [
      "Example 3 - Pg 20"
     ]
    },
    {
     "cell_type": "code",
     "collapsed": false,
     "input": [
      "#Calculate the net work done\n",
      "import math\n",
      "#Initialization of variables\n",
      "b=11. #in\n",
      "s=15. #in\n",
      "l=2.4 #in\n",
      "k=80. #psi per in\n",
      "#calculations\n",
      "a=math.pi*b*b /4\n",
      "L=s/12.\n",
      "Pm=1.6/l *k\n",
      "W=Pm*a*L\n",
      "#results\n",
      "print '%s %d %s' %(\"Net work done =\",W,\"ft lb\")\n",
      "print '%s' %(\"The answer is a bit different due to rounding off error in textbook\")\n"
     ],
     "language": "python",
     "metadata": {},
     "outputs": [
      {
       "output_type": "stream",
       "stream": "stdout",
       "text": [
        "Net work done = 6335 ft lb\n",
        "The answer is a bit different due to rounding off error in textbook\n"
       ]
      }
     ],
     "prompt_number": 4
    }
   ],
   "metadata": {}
  }
 ]
}