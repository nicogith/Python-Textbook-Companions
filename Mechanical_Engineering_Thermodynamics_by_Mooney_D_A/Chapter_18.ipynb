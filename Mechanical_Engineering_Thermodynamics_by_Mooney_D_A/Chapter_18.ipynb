{
 "metadata": {
  "name": ""
 },
 "nbformat": 3,
 "nbformat_minor": 0,
 "worksheets": [
  {
   "cells": [
    {
     "cell_type": "heading",
     "level": 1,
     "metadata": {},
     "source": [
      "Chapter 18 - Turbines"
     ]
    },
    {
     "cell_type": "heading",
     "level": 2,
     "metadata": {},
     "source": [
      "Example 1 - Pg 336"
     ]
    },
    {
     "cell_type": "code",
     "collapsed": false,
     "input": [
      "#calculate work done, axial thrust and nozzle bucket efficiency\n",
      "#initialization of varaibles\n",
      "import math\n",
      "drop=50. #B/lb\n",
      "cv=0.95\n",
      "Vb=700. #fps\n",
      "alpha=20.*math.pi/180. #radians\n",
      "beta=30.*math.pi/180.  #radians\n",
      "Cb=0.95\n",
      "#calculations\n",
      "V1=cv*math.sqrt(2*32.2*778*drop)\n",
      "y1=V1*math.cos(alpha)\n",
      "z1=V1*math.sin(alpha)\n",
      "y1R=y1-Vb\n",
      "V1R=math.sqrt(y1R*y1R + z1*z1)\n",
      "V2R=Cb*V1R\n",
      "y2R=-V2R*math.cos(beta)\n",
      "z2=V2R*math.sin(beta)\n",
      "Wx=(y1R-y2R)*Vb/32.2\n",
      "Fa=(z1-z2)/32.2\n",
      "Vc=1582.77\n",
      "etanb=Wx/(Vc*Vc /(2*32.2))\n",
      "#results\n",
      "print '%s %d %s' %(\"Work per pound of fluid =\",Wx,\"ft lbf/lbm\")\n",
      "print '%s %.1f %s' %(\"\\n Axial thrust =\",Fa,\"lbf/lbm/sec\")\n",
      "print '%s %.2f' %(\"\\n Nozzle bucket efficiency = \",etanb)\n"
     ],
     "language": "python",
     "metadata": {},
     "outputs": [
      {
       "output_type": "stream",
       "stream": "stdout",
       "text": [
        "Work per pound of fluid = 31221 ft lbf/lbm\n",
        "\n",
        " Axial thrust = 3.0 lbf/lbm/sec\n",
        "\n",
        " Nozzle bucket efficiency =  0.80\n"
       ]
      }
     ],
     "prompt_number": 1
    },
    {
     "cell_type": "heading",
     "level": 2,
     "metadata": {},
     "source": [
      "Example 2 - Pg 349"
     ]
    },
    {
     "cell_type": "code",
     "collapsed": false,
     "input": [
      "#Calculate the internal efficiency and the reheat factor\n",
      "#initialization of varaibles\n",
      "ha=1187.2 #B/lb\n",
      "sa=1.6026 #B/lb R\n",
      "h3s=895 #B/lb\n",
      "h1s=1090 #B/lb\n",
      "p1=28 #psia\n",
      "h2s=993 #B/lb\n",
      "p2=6.2 #psia\n",
      "n=0.65\n",
      "#calculations\n",
      "print '%s' %(\"From  Table 3,\")\n",
      "h1=ha-n*(ha-h1s)\n",
      "s1=1.65 #B/lb R\n",
      "h2dash=1024 #B/lb\n",
      "h2=h1-n*(h1-h2dash)\n",
      "s2=1.706 #B/lb R\n",
      "h3dash=953. #B/lb\n",
      "h3=h2-n*(h2-h3dash)\n",
      "etaT=(ha-h3)/(ha-h3s)\n",
      "reheat=etaT/n\n",
      "#results\n",
      "print '%s %.3f' %(\"Internal efficiency = \",etaT)\n",
      "print '%s %.2f' %(\"\\n Reheat factor = \",reheat)\n"
     ],
     "language": "python",
     "metadata": {},
     "outputs": [
      {
       "output_type": "stream",
       "stream": "stdout",
       "text": [
        "From  Table 3,\n",
        "Internal efficiency =  0.675\n",
        "\n",
        " Reheat factor =  1.04\n"
       ]
      }
     ],
     "prompt_number": 2
    }
   ],
   "metadata": {}
  }
 ]
}