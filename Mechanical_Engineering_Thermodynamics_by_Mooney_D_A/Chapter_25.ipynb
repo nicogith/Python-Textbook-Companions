{
 "metadata": {
  "name": ""
 },
 "nbformat": 3,
 "nbformat_minor": 0,
 "worksheets": [
  {
   "cells": [
    {
     "cell_type": "heading",
     "level": 1,
     "metadata": {},
     "source": [
      "Chapter 25 - Air - Water Vapor Mixtures"
     ]
    },
    {
     "cell_type": "heading",
     "level": 2,
     "metadata": {},
     "source": [
      "Example 1 - Pg 482"
     ]
    },
    {
     "cell_type": "code",
     "collapsed": false,
     "input": [
      "#calculate the specific humidity and dew temperature\n",
      "#initialization of varaibles\n",
      "Pg=0.4298 #steam tables psi\n",
      "phi=0.5\n",
      "P=14.7 #psi\n",
      "#calculations\n",
      "pw=phi*Pg\n",
      "Pa=P-pw\n",
      "gamma=0.622*pw/Pa\n",
      "T=55 #F from dew point tables  \n",
      "#results\n",
      "print '%s %.5f %s' %(\"Specific humidity =\",gamma,\"lb water/lb dry air\")\n",
      "print '%s %d %s' %(\"\\n Dew temperature =\",T,\"F\")\n"
     ],
     "language": "python",
     "metadata": {},
     "outputs": [
      {
       "output_type": "stream",
       "stream": "stdout",
       "text": [
        "Specific humidity = 0.00923 lb water/lb dry air\n",
        "\n",
        " Dew temperature = 55 F\n"
       ]
      }
     ],
     "prompt_number": 1
    },
    {
     "cell_type": "heading",
     "level": 2,
     "metadata": {},
     "source": [
      "Example 2 - Pg 486"
     ]
    },
    {
     "cell_type": "code",
     "collapsed": false,
     "input": [
      "#Calculate the enthalpy, relative and specific humidities, Dew point temperature of the liquid\n",
      "#initialization of varaibles\n",
      "print '%s' %(\"From psychrometric chart ,\")\n",
      "hgdp=1061.8 \n",
      "cpw=0.44\n",
      "tdb=72 #F\n",
      "cp=0.24\n",
      "g=0.0071\n",
      "#calculations\n",
      "rh=0.42\n",
      "sp=g\n",
      "tdp=58 #F\n",
      "hw=hgdp+cpw*tdb\n",
      "h=cp*tdb+g*hw\n",
      "#results\n",
      "print '%s %.2f %s' %(\"Enthalpy =\",h,\" B/lb dry air\")\n",
      "print '%s %.2f' %(\"\\n relative humidity = \",rh)\n",
      "print '%s %.2f' %(\"\\n specific humidity = \",sp)\n",
      "print '%s %d %s' %(\"\\n Dew point temperature =\",tdp,\"F\")\n"
     ],
     "language": "python",
     "metadata": {},
     "outputs": [
      {
       "output_type": "stream",
       "stream": "stdout",
       "text": [
        "From psychrometric chart ,\n",
        "Enthalpy = 25.04  B/lb dry air\n",
        "\n",
        " relative humidity =  0.42\n",
        "\n",
        " specific humidity =  0.01\n",
        "\n",
        " Dew point temperature = 58 F\n"
       ]
      }
     ],
     "prompt_number": 3
    },
    {
     "cell_type": "heading",
     "level": 2,
     "metadata": {},
     "source": [
      "Example 3 - Pg 488"
     ]
    },
    {
     "cell_type": "code",
     "collapsed": false,
     "input": [
      "#calculate the water and heat to be supplied\n",
      "#initialization of varaibles\n",
      "print '%s' %(\"From the psychrometric chart,\")\n",
      "ha=12.9 #B/lb\n",
      "g1=0.0032 #lb water/ lb dry air\n",
      "g2=0.0078 #lb water/ lb dry air\n",
      "hl=13 #B/lb\n",
      "hd=25.33 #B/lb\n",
      "p=14.7 #psia\n",
      "phi=0.6\n",
      "cp=0.24\n",
      "t2=70 #F\n",
      "#calculations\n",
      "wl=g2-g1\n",
      "Q=hd-ha-wl*hl\n",
      "pg=0.1217 #psia\n",
      "pa=p-pg\n",
      "G1=0.622*pg*phi/pa\n",
      "G2=0.00788\n",
      "wl2=G2-G1\n",
      "t1=40 #F\n",
      "hw1=1061.8 + 0.44*t1\n",
      "hw2=1092.6 #B/lb\n",
      "Q2=cp*(t2-t1) + G2*hw2 -G1*hw1 - wl2*hl\n",
      "#results\n",
      "print '%s' %(\"Method 1\")\n",
      "print '%s %.4f %s' %(\"\\n Water to be supplied =\",wl,\"lb/lb of dry air\")\n",
      "print '%s %.1f %s' %(\"\\n heat supplied =\",Q,\"B/lb of dry air\")\n",
      "print '%s' %(\"\\n Method 2\")\n",
      "print '%s %.5f %s' %(\"\\n Water to be supplied =\",wl2,\"lb/lb of dry air\")\n",
      "print '%s %.1f %s' %(\"\\n heat supplied =\",Q2,\"B/lb of dry air\")\n"
     ],
     "language": "python",
     "metadata": {},
     "outputs": [
      {
       "output_type": "stream",
       "stream": "stdout",
       "text": [
        "From the psychrometric chart,\n",
        "Method 1\n",
        "\n",
        " Water to be supplied = 0.0046 lb/lb of dry air\n",
        "\n",
        " heat supplied = 12.4 B/lb of dry air\n",
        "\n",
        " Method 2\n",
        "\n",
        " Water to be supplied = 0.00476 lb/lb of dry air\n",
        "\n",
        " heat supplied = 12.4 B/lb of dry air\n"
       ]
      }
     ],
     "prompt_number": 4
    },
    {
     "cell_type": "heading",
     "level": 2,
     "metadata": {},
     "source": [
      "Example 4 - Pg 489"
     ]
    },
    {
     "cell_type": "code",
     "collapsed": false,
     "input": [
      "#Calculate the air supplied, temperature and humidity of air\n",
      "#initialization of varaibles\n",
      "print '%s' %(\"From psychrometric charts,\")\n",
      "e=0.7\n",
      "phi=0.5\n",
      "g1=0.0131 #lb water/lb dry air\n",
      "h1=32.36 #B/lb of dry air\n",
      "g3=0.0073\n",
      "h3=24.26 #B/lb\n",
      "pg=0.3390 #psia\n",
      "T3=528 #R\n",
      "V3=1000\n",
      "Rw=85.8\n",
      "#calculations\n",
      "pw3=phi*pg\n",
      "ww3=pw3*144*V3/(Rw*T3)\n",
      "wa3=ww3/g3\n",
      "wa1=phi*wa3\n",
      "wa2=phi*wa3\n",
      "ww1=g1*wa1\n",
      "ww2=ww3-ww1\n",
      "g2=ww2/wa2\n",
      "h2=(wa3*h3-wa1*h1)/wa2\n",
      "tdb=61 #F\n",
      "#results\n",
      "print '%s %.3f %s' %(\"Air supplied =\",ww2,\"lb/min\")\n",
      "print '%s %d %s' %(\"\\n temperature =\",tdb,\"F\")\n",
      "print '%s %.5f %s' %(\"\\n Humidity =\",g2,\"lb water/lb dry air\")\n"
     ],
     "language": "python",
     "metadata": {},
     "outputs": [
      {
       "output_type": "stream",
       "stream": "stdout",
       "text": [
        "From psychrometric charts,\n",
        "Air supplied = 0.055 lb/min\n",
        "\n",
        " temperature = 61 F\n",
        "\n",
        " Humidity = 0.00150 lb water/lb dry air\n"
       ]
      }
     ],
     "prompt_number": 5
    },
    {
     "cell_type": "heading",
     "level": 2,
     "metadata": {},
     "source": [
      "Example 5 - Pg 493"
     ]
    },
    {
     "cell_type": "code",
     "collapsed": false,
     "input": [
      "#Calculate the cooling temperature, heat transfer and fraction of heat removed\n",
      "#initialization of varaibles\n",
      "print '%s' %(\"From psychrometric charts,\")\n",
      "g1=0.0131 #lb water/lb dry air\n",
      "g2=0.0093 #lb water/lb dry air\n",
      "h1=32.36 #B/lb dry air\n",
      "h2=27.03\n",
      "hd2=23.4 #B/lb dry air\n",
      "hf=23.4  #B/lb dry air\n",
      "hw1=1094.5\n",
      "#calculations\n",
      "tdp=55.3 #F\n",
      "wratio=g1-g2\n",
      "Qc=hd2-h1+wratio*hf\n",
      "Qh=h2-hd2\n",
      "Heat=wratio*(hw1-hf)\n",
      "frac=-Heat/Qc\n",
      "#results\n",
      "print '%s %.1f %s' %(\"Cooling temperature = \",tdp,\"F\")\n",
      "print '%s %.2f %s' %(\"\\n heat transfer = \",Heat,\"B/lb dry air\")\n",
      "print '%s %.2f' %(\"\\n Fraction of heat removed =\",frac)\n"
     ],
     "language": "python",
     "metadata": {},
     "outputs": [
      {
       "output_type": "stream",
       "stream": "stdout",
       "text": [
        "From psychrometric charts,\n",
        "Cooling temperature =  55.3 F\n",
        "\n",
        " heat transfer =  4.07 B/lb dry air\n",
        "\n",
        " Fraction of heat removed = 0.46\n"
       ]
      }
     ],
     "prompt_number": 6
    }
   ],
   "metadata": {}
  }
 ]
}