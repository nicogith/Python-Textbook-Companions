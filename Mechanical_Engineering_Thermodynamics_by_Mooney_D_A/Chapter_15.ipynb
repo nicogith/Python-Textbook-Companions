{
 "metadata": {
  "name": ""
 },
 "nbformat": 3,
 "nbformat_minor": 0,
 "worksheets": [
  {
   "cells": [
    {
     "cell_type": "heading",
     "level": 1,
     "metadata": {},
     "source": [
      "Chapter 15 - Vapor Cycles : More Efficient Cycles"
     ]
    },
    {
     "cell_type": "heading",
     "level": 2,
     "metadata": {},
     "source": [
      "Example 1 - Pg 243"
     ]
    },
    {
     "cell_type": "code",
     "collapsed": false,
     "input": [
      "#calculate the improvement in efficiency\n",
      "#initialization of varaibles\n",
      "e=0.85\n",
      "print '%s' %(\"From Mollier chart and table 3,\")\n",
      "h1=1474.5 #B/lb\n",
      "s1=1.5603 #B/lb R\n",
      "h2s=1277.5 #B/lb\n",
      "#calculations\n",
      "h2=h1-e*(h1-h2s)\n",
      "h3=1522.4 #B/lb\n",
      "h4s=948 #B/lb\n",
      "h4=h3-e*(h3-h4s)\n",
      "h5=47.6 #B/lb\n",
      "h6=53.5 #B/lb\n",
      "h7s=840 #B/lb\n",
      "h7=h1-e*(h1-h7s)\n",
      "h8=1493.2 #B/lb\n",
      "h9s=866 #B/lb\n",
      "h9=h8-e*(h8-h9s)\n",
      "h11=51.5 #B/lb\n",
      "eta1=0.401\n",
      "eta2=0.375\n",
      "eta3=0.366\n",
      "IE1=(eta1-eta2)/eta2\n",
      "IE2=(eta1-eta3)/eta3\n",
      "#results\n",
      "print '%s %.1f %s' %(\"Improvement in efficiency =\",IE1*100,\"percent\")\n",
      "print '%s %.1f %s' %(\"\\nImprovement in efficiency in case 2=\",IE2*100,\"percent\")\n"
     ],
     "language": "python",
     "metadata": {},
     "outputs": [
      {
       "output_type": "stream",
       "stream": "stdout",
       "text": [
        "From Mollier chart and table 3,\n",
        "Improvement in efficiency = 6.9 percent\n",
        "\n",
        "Improvement in efficiency in case 2= 9.6 percent\n"
       ]
      }
     ],
     "prompt_number": 1
    },
    {
     "cell_type": "heading",
     "level": 2,
     "metadata": {},
     "source": [
      "Example 2a - Pg 257"
     ]
    },
    {
     "cell_type": "code",
     "collapsed": false,
     "input": [
      "#Calculate the fraction of energy supplied \n",
      "#initialization of varaibles\n",
      "print '%s' %(\"From mollier chart and table 3,\")\n",
      "h1=1371. #B/lb\n",
      "h2s=1149. #B/lb\n",
      "h3=118. #B/lb\n",
      "e=0.9\n",
      "print '%s' %(\"Neglecting pump work,\")\n",
      "Q1=h1-h3\n",
      "W=156. #B/lb\n",
      "eta1=W/Q1\n",
      "Q=h1-W-h3\n",
      "UE=W+e*Q\n",
      "fraction = UE/Q1\n",
      "#results\n",
      "print '%s %.2f' %(\"Fraction supplied = \",fraction)\n"
     ],
     "language": "python",
     "metadata": {},
     "outputs": [
      {
       "output_type": "stream",
       "stream": "stdout",
       "text": [
        "From mollier chart and table 3,\n",
        "Neglecting pump work,\n",
        "Fraction supplied =  0.91\n"
       ]
      }
     ],
     "prompt_number": 2
    },
    {
     "cell_type": "heading",
     "level": 2,
     "metadata": {},
     "source": [
      "Example 2b - Pg 258"
     ]
    },
    {
     "cell_type": "code",
     "collapsed": false,
     "input": [
      "#Calculate the fraction of energy supplied \n",
      "#initialization of varaibles\n",
      "print '%s' %(\"From mollier chart and table 3,\")\n",
      "h1=1371. #B/lb\n",
      "h2s=1149. #B/lb\n",
      "h3=118. #B/lb\n",
      "e=0.23\n",
      "e2=0.9\n",
      "print '%s' %(\"Neglecting pump work,\")\n",
      "Q1=h1-h3\n",
      "W=156. #B/lb\n",
      "eta1=W/Q1\n",
      "Q=h1-W-h3\n",
      "We=W/e\n",
      "UE=We+Q\n",
      "UE1=W+e2*Q\n",
      "Q2=Q+We\n",
      "fraction = UE1/UE\n",
      "#results\n",
      "print '%s %.2f' %(\"Fraction supplied = \",fraction)\n"
     ],
     "language": "python",
     "metadata": {},
     "outputs": [
      {
       "output_type": "stream",
       "stream": "stdout",
       "text": [
        "From mollier chart and table 3,\n",
        "Neglecting pump work,\n",
        "Fraction supplied =  0.64\n"
       ]
      }
     ],
     "prompt_number": 3
    }
   ],
   "metadata": {}
  }
 ]
}