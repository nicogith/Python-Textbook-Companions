{
 "metadata": {
  "name": ""
 },
 "nbformat": 3,
 "nbformat_minor": 0,
 "worksheets": [
  {
   "cells": [
    {
     "cell_type": "heading",
     "level": 1,
     "metadata": {},
     "source": [
      "Chapter 14 - Vapor Cycles : The Rankine Cycle"
     ]
    },
    {
     "cell_type": "heading",
     "level": 2,
     "metadata": {},
     "source": [
      "Example 1 - Pg 219"
     ]
    },
    {
     "cell_type": "code",
     "collapsed": false,
     "input": [
      "#calculate the heat supplied, work done, efficiency and steam rate in the process\n",
      "#initialization of varaibles\n",
      "P1=200. #psia\n",
      "T1=750+460. #R\n",
      "P2=1. #psia\n",
      "#calculations\n",
      "print '%s' %(\"From steam tables,\")\n",
      "h1=1399.2\n",
      "h2=976\n",
      "h3=69.70\n",
      "v3=0.01614\n",
      "dh3=v3*(P1-P2)*144/778.\n",
      "h4=dh3+h3\n",
      "Q1=h1-h4\n",
      "Wt=h1-h2\n",
      "Wp=h4-h3\n",
      "eta=(Wt-Wp)/Q1\n",
      "w=2545./Wt\n",
      "#results\n",
      "print '%s %.1f %s' %(\"Heat supplied = \",Q1,\"B/lb\")\n",
      "print '%s %d %s' %(\"\\n Turbine work =\",Wt,\"B/lb\")\n",
      "print '%s %.3f %s' %(\"\\n Pump work =\",Wp,\"B/lb\")\n",
      "print '%s %.3f' %(\"\\n Efficiency =\",eta)\n",
      "print '%s %.2f %s' %(\"\\n Steam rate =\",w,\"lb steam per hr\")\n"
     ],
     "language": "python",
     "metadata": {},
     "outputs": [
      {
       "output_type": "stream",
       "stream": "stdout",
       "text": [
        "From steam tables,\n",
        "Heat supplied =  1328.9 B/lb\n",
        "\n",
        " Turbine work = 423 B/lb\n",
        "\n",
        " Pump work = 0.594 B/lb\n",
        "\n",
        " Efficiency = 0.318\n",
        "\n",
        " Steam rate = 6.01 lb steam per hr\n"
       ]
      }
     ],
     "prompt_number": 1
    },
    {
     "cell_type": "heading",
     "level": 2,
     "metadata": {},
     "source": [
      "Example 2 - Pg 228"
     ]
    },
    {
     "cell_type": "code",
     "collapsed": false,
     "input": [
      "#calculate the engine efficiency\n",
      "#initialization of varaibles\n",
      "h1=1399.2 #B/lb\n",
      "h2s=976 #B/lb\n",
      "wt=8. #lb /hp hr\n",
      "#calculations\n",
      "Wt=2545/wt\n",
      "etaT=Wt/(h1-h2s)\n",
      "h2=h1-Wt\n",
      "#results\n",
      "print '%s %.3f' %(\"Engine efficiency =\",etaT)\n"
     ],
     "language": "python",
     "metadata": {},
     "outputs": [
      {
       "output_type": "stream",
       "stream": "stdout",
       "text": [
        "Engine efficiency = 0.752\n"
       ]
      }
     ],
     "prompt_number": 2
    },
    {
     "cell_type": "heading",
     "level": 2,
     "metadata": {},
     "source": [
      "Example 3a - Pg 234"
     ]
    },
    {
     "cell_type": "code",
     "collapsed": false,
     "input": [
      "#calculate the backwork, efficiency and steam rate for both the cycles\n",
      "#initialization of varaibles\n",
      "P1=200. #psia\n",
      "P2=1. #psia\n",
      "e=0.7\n",
      "#calculations\n",
      "h1=1198.4\n",
      "h2s=863.5\n",
      "h3r=69.7\n",
      "h4r=70.3\n",
      "h3c=300.7\n",
      "h4c=355.4\n",
      "print '%s' %(\"For Rankine cycle, \")\n",
      "Wtr=h1-h2s\n",
      "Q1r=h1-h4r\n",
      "Wpr=h4r-h3r\n",
      "Wnetr=Wtr-Wpr\n",
      "eta1=(Wtr-Wpr)/Q1r\n",
      "wr=2545./Wtr\n",
      "print '%s %.1f %s' %(\"Back work =\",Wnetr,\"B/lb\")\n",
      "print '%s %.3f' %(\"\\n Efficiency =\",eta1)\n",
      "print '%s %.1f %s' %(\"\\n Steam rate =\",wr,\"lb/hp hr\")\n",
      "print '%s' %(\"\\n For carnot cycle,\")\n",
      "Wtc=h1-h2s\n",
      "Q1c=h1-h4c\n",
      "Wpc=h4c-h3c\n",
      "Wnetc=Wtc-Wpc\n",
      "eta2=(Wtc-Wpc)/Q1c\n",
      "wc=9.1\n",
      "print '%s %.1f %s' %(\"\\n Back work =\",Wnetc,\"B/lb\")\n",
      "print '%s %.3f' %(\"\\n Efficiency = \",eta2)\n",
      "print '%s %.2f %s' %(\"\\n Steam rate =\",wc,\"lb/hp hr\")\n"
     ],
     "language": "python",
     "metadata": {},
     "outputs": [
      {
       "output_type": "stream",
       "stream": "stdout",
       "text": [
        "For Rankine cycle, \n",
        "Back work = 334.3 B/lb\n",
        "\n",
        " Efficiency = 0.296\n",
        "\n",
        " Steam rate = 7.6 lb/hp hr\n",
        "\n",
        " For carnot cycle,\n",
        "\n",
        " Back work = 280.2 B/lb\n",
        "\n",
        " Efficiency =  0.332\n",
        "\n",
        " Steam rate = 9.10 lb/hp hr\n"
       ]
      }
     ],
     "prompt_number": 3
    },
    {
     "cell_type": "heading",
     "level": 2,
     "metadata": {},
     "source": [
      "Example 3b - Pg 234"
     ]
    },
    {
     "cell_type": "code",
     "collapsed": false,
     "input": [
      "#calculate the backwork, efficiency and steam rate for both the cycles\n",
      "#initialization of varaibles\n",
      "P1=200. #psia\n",
      "P2=1. #psia\n",
      "e=0.7\n",
      "#calculations\n",
      "h1=1198.4\n",
      "h2s=863.5\n",
      "h3r=69.7\n",
      "h4r=70.3\n",
      "h3c=300.7\n",
      "h4c=355.4\n",
      "print '%s' %(\"For Rankine cycle with actual machines, \")\n",
      "Wtr=e*(h1-h2s)\n",
      "Q1r=(h1-h4r)\n",
      "Wpr=(h4r-h3r)/e\n",
      "Wnetr=Wtr-Wpr\n",
      "eta1=(Wtr-Wpr)/Q1r\n",
      "wr=2545./Wtr\n",
      "print '%s %.1f %s' %(\"Back work =\",Wnetr,\"B/lb\")\n",
      "print '%s %.3f '%(\"\\n Efficiency = \",eta1)\n",
      "print '%s %.1f %s' %(\"\\n Steam rate =\",wr,\"lb/hp hr\")\n",
      "print '%s' %(\"For carnot cycle,\")\n",
      "Wtc=e*(h1-h2s)\n",
      "Q1c=h1-h4c\n",
      "Wpc=(h4c-h3c)/e\n",
      "Wnetc=Wtc-Wpc\n",
      "eta2=(Wtc-Wpc)/Q1c\n",
      "wc=16.2\n",
      "print '%s %.1f %s' %(\"Back work =\",Wnetc,\"B/lb\")\n",
      "print '%s %.3f' %(\"\\n Efficiency = \",eta2)\n",
      "print '%s %.1f %s' %(\"\\n Steam rate =\",wc,\"lb/hp hr\")\n"
     ],
     "language": "python",
     "metadata": {},
     "outputs": [
      {
       "output_type": "stream",
       "stream": "stdout",
       "text": [
        "For Rankine cycle with actual machines, \n",
        "Back work = 233.6 B/lb\n",
        "\n",
        " Efficiency =  0.207 \n",
        "\n",
        " Steam rate = 10.9 lb/hp hr\n",
        "For carnot cycle,\n",
        "Back work = 156.3 B/lb\n",
        "\n",
        " Efficiency =  0.185\n",
        "\n",
        " Steam rate = 16.2 lb/hp hr\n"
       ]
      }
     ],
     "prompt_number": 4
    }
   ],
   "metadata": {}
  }
 ]
}