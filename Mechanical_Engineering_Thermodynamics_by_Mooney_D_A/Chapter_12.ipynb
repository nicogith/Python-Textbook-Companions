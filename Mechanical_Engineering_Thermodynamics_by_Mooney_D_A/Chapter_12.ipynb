{
 "metadata": {
  "name": ""
 },
 "nbformat": 3,
 "nbformat_minor": 0,
 "worksheets": [
  {
   "cells": [
    {
     "cell_type": "heading",
     "level": 1,
     "metadata": {},
     "source": [
      "Chapter 12 - Properties of Gaseous mixtures"
     ]
    },
    {
     "cell_type": "heading",
     "level": 2,
     "metadata": {},
     "source": [
      "Example 1 - Pg 201"
     ]
    },
    {
     "cell_type": "code",
     "collapsed": false,
     "input": [
      "#Calculate the partial pressure and specific humidity\n",
      "#initialization of varaibles\n",
      "P=15. #psia\n",
      "T2=70.+460 #R\n",
      "T1=55.+460 #R\n",
      "#calculations\n",
      "pw=0.2141\n",
      "pA=P-pw\n",
      "mratio=pA*29/(pw*18.)\n",
      "mAbym=mratio/(1+mratio)\n",
      "mwbym=1/(1+mratio)\n",
      "pg=0.3631 #psia\n",
      "phi=pw/pg\n",
      "gamma=1/mratio\n",
      "#results\n",
      "print '%s %.2f %s' %(\"Partial pressure of water vapor = \",pA,\"psia\")\n",
      "print '%s %.4f %s' %(\"\\n Specific humidity = \",gamma,\"lb vapor/lb air\")\n",
      "print '%s %.2f' %(\"\\n Relative humidity = \",phi)\n"
     ],
     "language": "python",
     "metadata": {},
     "outputs": [
      {
       "output_type": "stream",
       "stream": "stdout",
       "text": [
        "Partial pressure of water vapor =  14.79 psia\n",
        "\n",
        " Specific humidity =  0.0090 lb vapor/lb air\n",
        "\n",
        " Relative humidity =  0.59\n"
       ]
      }
     ],
     "prompt_number": 3
    },
    {
     "cell_type": "heading",
     "level": 2,
     "metadata": {},
     "source": [
      "Example 2 - Pg 201"
     ]
    },
    {
     "cell_type": "code",
     "collapsed": false,
     "input": [
      "#calculate the mass of watervapor per pound of dry air\n",
      "#initialization of varaibles\n",
      "rh=0.75\n",
      "pg=0.5069\n",
      "inc=10 #in\n",
      "pA=29.50 #psia\n",
      "#calculations\n",
      "pw=rh*pg\n",
      "p=(29.50+ inc/13.6)*0.491\n",
      "pA=p-pw\n",
      "mratio=pw*18/(pA*29.)\n",
      "#results\n",
      "print '%s %.4f %s' %(\"Pounds of water vapor enter the surface per pound of dry air =\",mratio,\"lb vapor/lb air\")\n"
     ],
     "language": "python",
     "metadata": {},
     "outputs": [
      {
       "output_type": "stream",
       "stream": "stdout",
       "text": [
        "Pounds of water vapor enter the surface per pound of dry air = 0.0163 lb vapor/lb air\n"
       ]
      }
     ],
     "prompt_number": 3
    }
   ],
   "metadata": {}
  }
 ]
}