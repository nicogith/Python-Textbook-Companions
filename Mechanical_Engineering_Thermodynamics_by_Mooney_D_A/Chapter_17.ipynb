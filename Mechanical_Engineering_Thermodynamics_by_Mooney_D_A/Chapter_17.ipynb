{
 "metadata": {
  "name": ""
 },
 "nbformat": 3,
 "nbformat_minor": 0,
 "worksheets": [
  {
   "cells": [
    {
     "cell_type": "heading",
     "level": 1,
     "metadata": {},
     "source": [
      "Chapter 17 - Fluid Flow : Nozzles and Orifices"
     ]
    },
    {
     "cell_type": "heading",
     "level": 2,
     "metadata": {},
     "source": [
      "Example 1a - Pg 299"
     ]
    },
    {
     "cell_type": "code",
     "collapsed": false,
     "input": [
      "#calculate the exit area\n",
      "#initialization of varaibles\n",
      "import math\n",
      "w=1 #lb/sec\n",
      "v2=36.4\n",
      "h1=1279.1 #B/lb\n",
      "h2=1091.7 #B/lb\n",
      "V1=100 #fps\n",
      "#calculations\n",
      "a2=w*v2/(math.sqrt(2*32.2*778*(h1-h2) + V1*V1)) #sq ft\n",
      "a2=1.705 #sq in\n",
      "#results\n",
      "print '%s %.3f %s' %(\"Exit area =\",a2,\"sq. in\")\n"
     ],
     "language": "python",
     "metadata": {},
     "outputs": [
      {
       "output_type": "stream",
       "stream": "stdout",
       "text": [
        "Exit area = 1.705 sq. in\n"
       ]
      }
     ],
     "prompt_number": 1
    },
    {
     "cell_type": "heading",
     "level": 2,
     "metadata": {},
     "source": [
      "Example 1b - Pg 300"
     ]
    },
    {
     "cell_type": "code",
     "collapsed": false,
     "input": [
      "#Calculate the throat area\n",
      "#initialization of varaibles\n",
      "import math\n",
      "w=1 #lb/sec\n",
      "k=1.3\n",
      "P=100 #psia\n",
      "#calculations\n",
      "Pratio=math.pow((2/(k+1)),(k/(k-1)))\n",
      "Pt=Pratio*P\n",
      "print '%s' %(\"From table 3,\")\n",
      "ht=1221.5 #B/lb\n",
      "vt=8.841 #cu ft/lb\n",
      "at=w*vt/1700.\n",
      "#results\n",
      "print '%s %.4f %s' %(\"Throat area =\",at,\"sq ft\")\n"
     ],
     "language": "python",
     "metadata": {},
     "outputs": [
      {
       "output_type": "stream",
       "stream": "stdout",
       "text": [
        "From table 3,\n",
        "Throat area = 0.0052 sq ft\n"
       ]
      }
     ],
     "prompt_number": 2
    },
    {
     "cell_type": "heading",
     "level": 2,
     "metadata": {},
     "source": [
      "Example 2 - Pg 309"
     ]
    },
    {
     "cell_type": "code",
     "collapsed": false,
     "input": [
      "#Calculate the Throat and exit areas for both frictionless and frictioned nozzles\n",
      "#initialization of varaibles\n",
      "import math\n",
      "k=1.3\n",
      "P=250 #psia\n",
      "h0=1263.4 #B/lb\n",
      "w=10000. #lb\n",
      "cv=0.949\n",
      "vts=3.415 #cu ft/lb\n",
      "#calculations\n",
      "Pratio=math.pow((2/(k+1)),(k/(k-1)))\n",
      "Pt=Pratio*P\n",
      "hts=1208.2 #B/lb\n",
      "h2s=891 #B/lb\n",
      "Vts=math.sqrt(2*32.2*778*(h0-hts))\n",
      "w=w/3600. #lb/sec\n",
      "at=w*vts/(Vts)\n",
      "V2=cv*math.sqrt(2*32.2*778*(h0-h2s))\n",
      "etan=cv*cv\n",
      "h2=928. #B/lb\n",
      "print '%s' %(\"From table 3,\")\n",
      "v2=276. #cu ft/lb\n",
      "a2=w*v2/V2\n",
      "a2s=0.17 #ft^2\n",
      "Cw=0.98\n",
      "at2=at/Cw\n",
      "#results\n",
      "print '%s %.5f %s' %(\"\\n Throat area =\",at,\"ft^2\")\n",
      "print '%s %.3f %s' %(\"\\n Exit area =\",a2,\"ft^2\")\n",
      "print '%s %.3f %s' %(\"\\n For frictionless nozzle =\",a2s,\"ft^2\")\n",
      "print '%s %.5f %s' %(\"\\n Changed throat area =\",at2,\"ft^2 and exit area is unchanged\")\n"
     ],
     "language": "python",
     "metadata": {},
     "outputs": [
      {
       "output_type": "stream",
       "stream": "stdout",
       "text": [
        "From table 3,\n",
        "\n",
        " Throat area = 0.00570 ft^2\n",
        "\n",
        " Exit area = 0.187 ft^2\n",
        "\n",
        " For frictionless nozzle = 0.170 ft^2\n",
        "\n",
        " Changed throat area = 0.00582 ft^2 and exit area is unchanged\n"
       ]
      }
     ],
     "prompt_number": 3
    },
    {
     "cell_type": "heading",
     "level": 2,
     "metadata": {},
     "source": [
      "Example 3a - Pg 310"
     ]
    },
    {
     "cell_type": "code",
     "collapsed": false,
     "input": [
      "#calculate the Exit velocity, throat and exit areas\n",
      "#initialization of varaibles\n",
      "import math\n",
      "w=1 #lb/sec\n",
      "Pratio=0.53\n",
      "k=1.4\n",
      "T0=800. #R\n",
      "cp=0.24\n",
      "P0=150. #psia\n",
      "P2=15. #psia\n",
      "#calculations\n",
      "Pt=Pratio*P0\n",
      "Tratio=math.pow((Pratio),((k-1)/k))\n",
      "Tts=T0*Tratio\n",
      "Vts=math.sqrt(2*32.2*778*cp*(T0-Tts))\n",
      "vts=53.34*Tts/(Pt*144.)\n",
      "at=w*vts/(Vts)\n",
      "T2s=T0*math.pow((Pt/P0),((k-1)/k))\n",
      "T2=460. #R\n",
      "V2=math.sqrt(2*32.2*cp*778*(T0-T2))\n",
      "v2=53.34*T2/(144.*P2)\n",
      "a2=w*v2/V2\n",
      "#results\n",
      "print '%s %d %s' %(\"Exit velocity =\",Vts,\"fps\")\n",
      "print '%s %.5f %s' %(\"\\n Throat area =\",at,\"ft^2\")\n",
      "print '%s %.5f %s' %(\"\\n Exit area =\",a2,\"ft^2\")\n"
     ],
     "language": "python",
     "metadata": {},
     "outputs": [
      {
       "output_type": "stream",
       "stream": "stdout",
       "text": [
        "Exit velocity = 1263 fps\n",
        "\n",
        " Throat area = 0.00246 ft^2\n",
        "\n",
        " Exit area = 0.00562 ft^2\n"
       ]
      }
     ],
     "prompt_number": 4
    },
    {
     "cell_type": "heading",
     "level": 2,
     "metadata": {},
     "source": [
      "Example 3b - Pg 310"
     ]
    },
    {
     "cell_type": "code",
     "collapsed": false,
     "input": [
      "#calculate the Exit velocity, throat and exit areas\n",
      "#initialization of varaibles\n",
      "import math\n",
      "h0=191.81 #B/lb\n",
      "Pr0=5.526\n",
      "w=1 #lb/sec\n",
      "Pratio=0.53\n",
      "k=1.4\n",
      "T0=800. #R\n",
      "cp=0.24\n",
      "P0=150. #psia\n",
      "P2=15. #psia\n",
      "Pt=79.5 #psia\n",
      "#calculations\n",
      "Prt=Pratio*Pr0\n",
      "print '%s' %(\"From keenan and kaye steam tables,\")\n",
      "Pr=2.929\n",
      "Tts=668 #R\n",
      "hts=159.9 #B/lb\n",
      "Vts=math.sqrt(2*32.2*778*(h0-hts))\n",
      "vts=53.34*Tts/(Pt*144.)\n",
      "at=w*vts/(Vts)\n",
      "Pr2=P2*Pr0/P0\n",
      "T2s=415 #R\n",
      "h2s=99.13 #B/lb\n",
      "h2=110.25 #B/lb\n",
      "T2=462 #R\n",
      "V2=math.sqrt(2*32.2*778*(h0-h2))\n",
      "v2=53.34*T2/(144.*P2)\n",
      "a2=w*v2/V2\n",
      "#results\n",
      "print '%s %d %s' %(\"Exit velocity =\",Vts,\"fps\")\n",
      "print '%s %.5f %s' %(\"\\n Throat area =\",at,\"ft^2\")\n",
      "print '%s %.5f %s' %(\"\\n Exit area =\",a2,\"ft^2\")\n"
     ],
     "language": "python",
     "metadata": {},
     "outputs": [
      {
       "output_type": "stream",
       "stream": "stdout",
       "text": [
        "From keenan and kaye steam tables,\n",
        "Exit velocity = 1264 fps\n",
        "\n",
        " Throat area = 0.00246 ft^2\n",
        "\n",
        " Exit area = 0.00564 ft^2\n"
       ]
      }
     ],
     "prompt_number": 5
    }
   ],
   "metadata": {}
  }
 ]
}