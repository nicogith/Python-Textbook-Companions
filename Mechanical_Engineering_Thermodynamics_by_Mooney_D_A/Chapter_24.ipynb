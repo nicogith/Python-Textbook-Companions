{
 "metadata": {
  "name": ""
 },
 "nbformat": 3,
 "nbformat_minor": 0,
 "worksheets": [
  {
   "cells": [
    {
     "cell_type": "heading",
     "level": 1,
     "metadata": {},
     "source": [
      "Chapter 24 - Refrigeration"
     ]
    },
    {
     "cell_type": "heading",
     "level": 2,
     "metadata": {},
     "source": [
      "Example 1 - Pg 461"
     ]
    },
    {
     "cell_type": "code",
     "collapsed": false,
     "input": [
      "#calculate the cop in both cases and also the piston displacement\n",
      "#initialization of varaibles\n",
      "print '%s' %(\"From tables,\")\n",
      "h1=611.8 #B/lb\n",
      "h2=704.4 #B/lb\n",
      "h3=127.4 #B/lb\n",
      "h4=h3\n",
      "T2=460. #R\n",
      "T1=76+460. #R\n",
      "W=10000. #B/hr\n",
      "e=0.7\n",
      "#calculations\n",
      "Qe=h1-h4\n",
      "Wc=h2-h1\n",
      "CP=Qe/Wc\n",
      "CP2=T2/(T1-T2)\n",
      "w=W/(Qe*60.)\n",
      "v1=9.116 #cu ft/lb\n",
      "PD=w*v1/(e)\n",
      "#results\n",
      "print '%s %.2f' %(\"Coefficient of performance in case 1 = \",CP)\n",
      "print '%s %.2f' %(\"\\n Coefficient of performance in case 2 = \",CP2)\n",
      "print '%s %.2f %s' %(\"\\n Piston displacement =\",PD,\"cu ft/min\")\n"
     ],
     "language": "python",
     "metadata": {},
     "outputs": [
      {
       "output_type": "stream",
       "stream": "stdout",
       "text": [
        "From tables,\n",
        "Coefficient of performance in case 1 =  5.23\n",
        "\n",
        " Coefficient of performance in case 2 =  6.05\n",
        "\n",
        " Piston displacement = 4.48 cu ft/min\n"
       ]
      }
     ],
     "prompt_number": 1
    }
   ],
   "metadata": {}
  }
 ]
}