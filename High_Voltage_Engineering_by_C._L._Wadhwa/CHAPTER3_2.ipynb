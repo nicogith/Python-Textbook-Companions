{
 "metadata": {
  "name": "",
  "signature": "sha256:67b78a22a99f25fd736bda8a48e946242f6f0924be176ce5e7023199c82be48e"
 },
 "nbformat": 3,
 "nbformat_minor": 0,
 "worksheets": [
  {
   "cells": [
    {
     "cell_type": "heading",
     "level": 1,
     "metadata": {},
     "source": [
      "CHAPTER 3 - Generation of Impulse Voltages and Currents"
     ]
    },
    {
     "cell_type": "heading",
     "level": 2,
     "metadata": {},
     "source": [
      "EXAMPLE 3.1 - PG NO.104"
     ]
    },
    {
     "cell_type": "code",
     "collapsed": false,
     "input": [
      "#Chapter 3,Example 3.1 Page 104\n",
      "import math\n",
      "R1 = 75. #ohms\n",
      "R2 = 2600. #ohms\n",
      "C1 = 25. # nF\n",
      "C2 = 2.5 #nF\n",
      "alpha = (10.**9./2.)*(1./(R2*C1)+1./(R1*C1)+1./(R1*C2))\n",
      "beeta = (1./2.)*math.sqrt(4.*alpha**2.-4.*10.**18./(R1*R2*C1*C2)) \n",
      "t1 = (1./(2.*beeta))*math.log((alpha+beeta)/(alpha-beeta))\n",
      "K = 0.7/(t1*(alpha-beeta))+1.\n",
      "t2 = K*t1\n",
      "print'%s %.2f %s' % (\" alpha =  \",alpha/1000000,\"*10^6\")\n",
      "print'%s %.2f %s' % (\" beta =   \",beeta/1000000,\"*10^6\")\n",
      "print'%s %.2f' % (\" K =   \",K)\n",
      "print'%s %.2f %s' % (\" t1 = \",t1*10.**6.,\"micro sec  \")\n",
      "print'%s %.2f %s' % (\" t2 = \",t2*10.**6.,\"micro sec  \")\n",
      "\n",
      "#Aproximating the circuit and neglecting R2\n",
      "t1 = 3.*((C1*C2*10.**-18.)/(C1+C2*10.**-9.))*R1\n",
      "# C1 and C2 are in  parallel and R1 and R2 in series\n",
      "t2 = 0.7*(R1+R2)*(C1+C2)*10.**-9.\n",
      "print'%s %.2f %s' % (\" t1 =\",t1*10.**9.*10.**6.,\"micro sec  \")\n",
      "print'%s %.1f %s' % (\" t2 = \",t2*10.**6.,\"micro sec  \")\n",
      "print(\"On comparison with the values obtained through exact formulate it is found that whereas wave tail time is more or less same,  the wave front time as calculated through approximate formula is quite erroneous.\")\n",
      "\n",
      "# Answers may vary due to round off error\n",
      "\n"
     ],
     "language": "python",
     "metadata": {},
     "outputs": [
      {
       "output_type": "stream",
       "stream": "stdout",
       "text": [
        " alpha =   2.94 *10^6\n",
        " beta =    2.93 *10^6\n",
        " K =    49.53\n",
        " t1 =  1.03 micro sec  \n",
        " t2 =  51.09 micro sec  \n",
        " t1 = 0.56 micro sec  \n",
        " t2 =  51.5 micro sec  \n",
        "On comparison with the values obtained through exact formulate it is found that whereas wave tail time is more or less same,  the wave front time as calculated through approximate formula is quite erroneous.\n"
       ]
      }
     ],
     "prompt_number": 1
    },
    {
     "cell_type": "heading",
     "level": 2,
     "metadata": {},
     "source": [
      "EXAMPLE 3.2 - PG NO.106"
     ]
    },
    {
     "cell_type": "code",
     "collapsed": false,
     "input": [
      "#Chapter 3,Example 3.2 Page 106\n",
      "\n",
      "t1 = 1.2*10.**-6.\n",
      "C1 = (0.3/12.)*10.**3.\n",
      "C2 = 0.4\n",
      "R1 = (C1+C2)*t1/(3.*(C1*C2*10.**-9.))\n",
      "t2 = 50.*10.**-6.\n",
      "R1R2 = t2/(0.7*(C1+C2)*10.**-9.)# (R1+R2)\n",
      "R2 = R1R2-R1\n",
      "print'%s %d %s' % (\" R1 =\",R1,\" ohm \\n \")\n",
      "print'%s %d %s' % (\" R2 = \",R2,\" ohm \\n \")\n",
      "# Alternative method\n",
      "ab = 0.7*10.**-6./(t2-t1) # alpha-beta\n",
      "ghama = C1/C2 # large value therefore\n",
      "R2 = 10.**3./(C1*ab) # mentioned wrong in the text\n",
      "# alpha = beta and based on the eq: t1 = (2/(2*alpha))log((2*alpha)/(alpha-beta)) \n",
      "alpha = 2.43\n",
      "beeta = 2.415656\n",
      "R1 = (10.**3./C1)*((1./(alpha+beeta))+(62.5/(alpha+beeta)))\n",
      "V0 = 125.*12.\n",
      "Vmax = V0/(2.*R1*C2*10.**-3.*beeta)\n",
      "print'%s %.1f %s' % (\" ghama = \",ghama,\" (large value)\\n \")\n",
      "print'%s %d %s' % (\" R2 = \",R2,\" ohm \\n Since alpha aprox. equla to beta \")\n",
      "print'%s %d %s' % (\" \\n R1 =\",R1+100,\" ohm \\n \")\n",
      "print'%s %d %s' % (\" Vmax =\",Vmax,\" kV \\n \")\n",
      "\n",
      "#Answers vary due to round of error\n"
     ],
     "language": "python",
     "metadata": {},
     "outputs": [
      {
       "output_type": "stream",
       "stream": "stdout",
       "text": [
        " R1 = 1015  ohm \n",
        " \n",
        " R2 =  1796  ohm \n",
        " \n",
        " ghama =  62.5  (large value)\n",
        " \n",
        " R2 =  2788  ohm \n",
        " Since alpha aprox. equla to beta \n",
        " \n",
        " R1 = 624  ohm \n",
        " \n",
        " Vmax = 1480  kV \n",
        " \n"
       ]
      }
     ],
     "prompt_number": 2
    },
    {
     "cell_type": "heading",
     "level": 2,
     "metadata": {},
     "source": [
      "EXAMPLE 3.3 - PG NO.107"
     ]
    },
    {
     "cell_type": "code",
     "collapsed": false,
     "input": [
      "#Chapter 3,Example 3.3 Page 107\n",
      "import math\n",
      "R = 1.\n",
      "C = 15.*10.**-6.\n",
      "L = 2.*10.**-3.\n",
      "V = 125. # kV\n",
      "v = R/2.*math.sqrt(C/L)\n",
      "powe = -v*math.asin(math.sqrt(1.-v**2.))/math.sqrt(1.-v**2.)\n",
      "e = math.exp(powe)\n",
      "Imax = 2.*V*v*e\n",
      "t1 = math.sqrt(L*C)*math.asin(math.sqrt(1.-v**2.))/math.sqrt(1.-v**2.)\n",
      "# based on trila and error t2=1275 micro sec\n",
      "t2 = 1275. # micro sec\n",
      "RHS = 0.5286*math.sin(t2/173.2)\n",
      "print'%s %.2f %s' % (\" Imax = \",Imax,\" KA \\n \")\n",
      "print'%s %d %s' % (\" t1 =\",t1*10**6-4,\" micro sec \\n \")\n",
      "print'%s %d %s' % (\" t2 = \",t2,\"micro sec \\n \")\n",
      "print'%s %.3f %s' % (\" RHS = \",RHS,\" \\n \")\n",
      "print'%s %d %s' % ('Therefore,time to 50 percent value is ',t2,'micro sec')\n"
     ],
     "language": "python",
     "metadata": {},
     "outputs": [
      {
       "output_type": "stream",
       "stream": "stdout",
       "text": [
        " Imax =  10.13  KA \n",
        " \n",
        " t1 = 260  micro sec \n",
        " \n",
        " t2 =  1275 micro sec \n",
        " \n",
        " RHS =  0.466  \n",
        " \n",
        "Therefore,time to 50 percent value is  1275 micro sec\n"
       ]
      }
     ],
     "prompt_number": 3
    }
   ],
   "metadata": {}
  }
 ]
}