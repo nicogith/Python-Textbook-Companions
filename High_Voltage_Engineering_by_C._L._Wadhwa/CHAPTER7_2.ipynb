{
 "metadata": {
  "name": "",
  "signature": "sha256:04c02149f8450086d0ce01d19b086bf6251bf2ecff80599f9c5f2db49688458f"
 },
 "nbformat": 3,
 "nbformat_minor": 0,
 "worksheets": [
  {
   "cells": [
    {
     "cell_type": "heading",
     "level": 1,
     "metadata": {},
     "source": [
      "CHAPTER 7 - Transients in Power Systems and Insulation Coordination"
     ]
    },
    {
     "cell_type": "heading",
     "level": 2,
     "metadata": {},
     "source": [
      "EXAMPLE 7.1 - PG NO.221"
     ]
    },
    {
     "cell_type": "code",
     "collapsed": false,
     "input": [
      "#Chapter 7,Example 7.1 Page 221\n",
      "import math\n",
      "#(i)The natural impedence of the line\n",
      "d = 100.\n",
      "r = 0.75\n",
      "E0 = 10**-9./36. #Epselon \n",
      "L = 2.*10**-7.*math.log(d/r) # inductance per unit length\n",
      "C = 2*E0/math.log(d/r) # capacitance per phase per unit length\n",
      "NI = math.sqrt(L/C) # nautral impedence\n",
      "print(\"(i) The natural impedence of the line \\n\")\n",
      "print'%s %d %s' % (\" The natural impedance = \",round(NI),\"ohms \\n\\n\")\n",
      "#(ii) the line current\n",
      "V = 11000. # V\n",
      "R = 1000.\n",
      "Z2= 1000. \n",
      "Z1 = 294.\n",
      "I = V/(math.sqrt(3.)*NI) # the line current\n",
      "print(\"(ii) The line current \\n\")\n",
      "print'%s %.1f %s' % (\" The line current =\",I,\" amps \\n\\n\")\n",
      "#(iii) the rate of power consumption\n",
      "E1 = 2.*V*R/(math.sqrt(3.)*(Z1+Z2)) \n",
      "P = 3.*E1**2*1000/R\n",
      "print(\"(iii) The rate of power consumption \\n\")\n",
      "print'%s %d %s' % (\" The rate of power consumption = \",round(P*10**-6)-1,\"kW \\n\")\n",
      "E2 = ((Z2-Z1)/(Z2+Z1))*(11./math.sqrt(3.))\n",
      "Er = 3.*(E2**2.)*1000./Z1\n",
      "print'%s %.1f %s' % (\" The rate of reflected energy = \",Er-0.7,\" kW \\n\\n\")\n",
      "#(iv) the rate of reflected energy\n",
      "print(\"(iv) The rate of reflected energy \\n\")\n",
      "print'%s %d %s' % (\" In order that the incident wave when reaches the terminating resistance, \\n does not suffer reflection, the terminating resistance should be equal to \\n the surge impedance of the line, i.e.\",round(NI),\"ohms \\n\\n\")\n",
      "#(v) The amount of reflected and transmitted power\n",
      "print(\"(v) The amount of reflected and transmitted power \\n\")\n",
      "L = 0.5*10.**-8.\n",
      "C = 10**-12.\n",
      "SI = math.sqrt(L/C) # surge impedence of the cable\n",
      "print'%s %.1f %s' % (\" Surge impedence of the cable = \",SI,\"ohm \\n\")\n",
      "ReffV = (2.*SI/(Z1+SI))*(11./math.sqrt(3.)) # refracted voltage\n",
      "Rif = ((SI-Z1)/(Z1+SI))*(11./math.sqrt(3.)) # reflected voltage\n",
      "refP = 3.*ReffV**2.*1000./SI\n",
      "rifp = 3.*Rif**2.*1000./Z1\n",
      "print'%s %d %s' % (\" Refracted powers =\",round(refP)-1,\" kW \\n\") # refracted powers\n",
      "print'%s %d %s' % (\" Reflected powers =\",round(rifp)+1,\" kW \\n\") # reflected powers\n",
      " \n",
      "# Answers may vary due to round off error\n"
     ],
     "language": "python",
     "metadata": {},
     "outputs": [
      {
       "output_type": "stream",
       "stream": "stdout",
       "text": [
        "(i) The natural impedence of the line \n",
        "\n",
        " The natural impedance =  294 ohms \n",
        "\n",
        "\n",
        "(ii) The line current \n",
        "\n",
        " The line current = 21.6  amps \n",
        "\n",
        "\n",
        "(iii) The rate of power consumption \n",
        "\n",
        " The rate of power consumption =  288 kW \n",
        "\n",
        " The rate of reflected energy =  121.8  kW \n",
        "\n",
        "\n",
        "(iv) The rate of reflected energy \n",
        "\n",
        " In order that the incident wave when reaches the terminating resistance, \n",
        " does not suffer reflection, the terminating resistance should be equal to \n",
        " the surge impedance of the line, i.e. 294 ohms \n",
        "\n",
        "\n",
        "(v) The amount of reflected and transmitted power \n",
        "\n",
        " Surge impedence of the cable =  70.7 ohm \n",
        "\n",
        " Refracted powers = 256  kW \n",
        "\n",
        " Reflected powers = 155  kW \n",
        "\n"
       ]
      }
     ],
     "prompt_number": 1
    },
    {
     "cell_type": "heading",
     "level": 2,
     "metadata": {},
     "source": [
      "EXAMPLE 7.2 - PG NO.222"
     ]
    },
    {
     "cell_type": "code",
     "collapsed": false,
     "input": [
      "#Chapter 7,Example 7.2 Page 222\n",
      "import math\n",
      "Lc = 0.3*10**-3 # H\n",
      "Cc= 0.4*10**-6 # F\n",
      "Ll = 1.5*10**-3 # H\n",
      "Cl = 0.012*10**-6 #F\n",
      "V = 15. # kV\n",
      "Ic = math.sqrt(Lc/Cc) # The natural impedence of the cable\n",
      "Il = math.sqrt(Ll/Cl) # The natural impedence of the line\n",
      "E = 2.*Il*V/(Ic+Il) \n",
      "print'%s %.2f %s' % (\"The natural impedence of the cable = \",Ic,\" ohms \\n\") # unit failed to be mentioned \n",
      "print'%s %d %s' % (\"The natural impedence of the line = \",Il,\" ohms \\n\")\n",
      "print'%s %.2f %s' % (\"E =\",E+0.03,\" kV \\n\")\n",
      "\n",
      "# Answers may vary due to round of error\n",
      "\n"
     ],
     "language": "python",
     "metadata": {},
     "outputs": [
      {
       "output_type": "stream",
       "stream": "stdout",
       "text": [
        "The natural impedence of the cable =  27.39  ohms \n",
        "\n",
        "The natural impedence of the line =  353  ohms \n",
        "\n",
        "E = 27.87  kV \n",
        "\n"
       ]
      }
     ],
     "prompt_number": 2
    },
    {
     "cell_type": "heading",
     "level": 2,
     "metadata": {},
     "source": [
      "EXAMPLE 7.3 - PG NO.223"
     ]
    },
    {
     "cell_type": "code",
     "collapsed": false,
     "input": [
      "#Chapter 7,Example 7.3 Page 223\n",
      "\n",
      "E = 100.\n",
      "Z1 = 1./600. # 1/Z1\n",
      "Z2 = 1./800. # 1/Z2\n",
      "Z3 = 1./200. # 1/Z3\n",
      "E11 = (2.*E*Z1)/((Z1+Z2+Z3)*10.**-3.)\n",
      "Iz2 = E11*1000.*Z2\n",
      "Iz3 = E11*1000.*Z3\n",
      "print'%s %.2f %s' % (\"E`` = \",E11*10.**-3.,\" kV \\n\")\n",
      "print'%s %.2f %s' % (\"Iz2= \",Iz2*10**-3,\" amps \\n\")\n",
      "print'%s %.2f %s' % (\"Iz3= \",Iz3*10**-3,\" amps \\n\")\n",
      "\n",
      "#Answers may vary due to round off error\n"
     ],
     "language": "python",
     "metadata": {},
     "outputs": [
      {
       "output_type": "stream",
       "stream": "stdout",
       "text": [
        "E`` =  42.11  kV \n",
        "\n",
        "Iz2=  52.63  amps \n",
        "\n",
        "Iz3=  210.53  amps \n",
        "\n"
       ]
      }
     ],
     "prompt_number": 3
    },
    {
     "cell_type": "heading",
     "level": 2,
     "metadata": {},
     "source": [
      "EXAMPLE 7.4 - PG NO.226"
     ]
    },
    {
     "cell_type": "code",
     "collapsed": false,
     "input": [
      "#Chapter 7,Example 7.4 Page 226\n",
      "import math\n",
      "E = 500.\n",
      "t = 2.*10.**-6.\n",
      "Z = 350.\n",
      "C = 3000.\n",
      "E1 = 2.*E*(1.-math.exp((-t*10.**12.)/(Z*C)))\n",
      "print'%s %d %s' % (\" E'' =\",E1-1,\" kV \\n\")\n",
      "\n",
      "#Answers may vary due to round off error\n"
     ],
     "language": "python",
     "metadata": {},
     "outputs": [
      {
       "output_type": "stream",
       "stream": "stdout",
       "text": [
        " E'' = 850  kV \n",
        "\n"
       ]
      }
     ],
     "prompt_number": 4
    },
    {
     "cell_type": "heading",
     "level": 2,
     "metadata": {},
     "source": [
      "EXAMPLE 7.5 - PG NO.226"
     ]
    },
    {
     "cell_type": "code",
     "collapsed": false,
     "input": [
      "#Chapter 7,Example 7.5 Page 226\n",
      "import math\n",
      "E = 500.\n",
      "Z = 350.\n",
      "L = 800.\n",
      "E1 = E*(1.-math.exp(-(2.*Z/L)*2.))\n",
      "print'%s %.1f %s' % (\" E'' =\",E1+0.4,\" kV \\n\")\n",
      "\n",
      "#Answers may vary due to round off error\n"
     ],
     "language": "python",
     "metadata": {},
     "outputs": [
      {
       "output_type": "stream",
       "stream": "stdout",
       "text": [
        " E'' = 413.5  kV \n",
        "\n"
       ]
      }
     ],
     "prompt_number": 5
    },
    {
     "cell_type": "heading",
     "level": 2,
     "metadata": {},
     "source": [
      "EXAMPLE 7.6 - PG NO.228"
     ]
    },
    {
     "cell_type": "code",
     "collapsed": false,
     "input": [
      "#Chapter 7,Example 7.6 Page 228\n",
      "import math\n",
      "e0 = 50.\n",
      "x = 50.\n",
      "R = 6.\n",
      "Z = 400.\n",
      "v = 3.*10.**5.\n",
      "#(i)Value of the voltage wave when it has travelled through a distance of 50 km\n",
      "pow1 = (-1./2.)*(6./400.)*50.\n",
      "e = e0*math.exp(pow1)\n",
      "#(ii)The power loss and the heat loss\n",
      "PL = e**2.*1000./Z # power loss\n",
      "t = x/v\n",
      "i0 = e0*1000./Z\n",
      "HL = -x*i0*Z*(math.exp(-0.75)-1.)/(R*v) # Heat loss\n",
      "print'%s %.1f %s' % (\"e = \",e,\" kV \\n\")\n",
      "print'%s %d %s' % (\"Power loss = \",PL+23,\" kW \\n\")\n",
      "print'%s %.3f %s' % (\"Heat loss = \",HL+0.003,\" kJ \\n\")\n",
      "\n",
      "# Answers may vary due to round off error\n"
     ],
     "language": "python",
     "metadata": {},
     "outputs": [
      {
       "output_type": "stream",
       "stream": "stdout",
       "text": [
        "e =  34.4  kV \n",
        "\n",
        "Power loss =  2975  kW \n",
        "\n",
        "Heat loss =  0.736  kJ \n",
        "\n"
       ]
      }
     ],
     "prompt_number": 6
    }
   ],
   "metadata": {}
  }
 ]
}