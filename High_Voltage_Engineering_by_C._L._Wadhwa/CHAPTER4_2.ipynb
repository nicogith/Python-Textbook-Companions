{
 "metadata": {
  "name": "",
  "signature": "sha256:257752e75277820816f121d6a024243d59884ab1eaf19e4a3b255ab3edaadb7c"
 },
 "nbformat": 3,
 "nbformat_minor": 0,
 "worksheets": [
  {
   "cells": [
    {
     "cell_type": "heading",
     "level": 1,
     "metadata": {},
     "source": [
      "CHAPTER 4 -  Measurement of High Voltages and Currents"
     ]
    },
    {
     "cell_type": "heading",
     "level": 2,
     "metadata": {},
     "source": [
      "EXAMPLE 4.1 - PG NO.144"
     ]
    },
    {
     "cell_type": "code",
     "collapsed": false,
     "input": [
      "#Chapter 4,Example 4.1 Page 144\n",
      "#Determine the voltge when S=2 cm \n",
      "import math\n",
      "S = 0.2 # cm\n",
      "Vb = 24.22*S+6.08*math.sqrt(S)\n",
      "print'%s %.2f %s' % (\" Vb when S = 2 cm is\",Vb,\" kV \\n \")\n",
      "#Determine the voltge when S=1.5 cm \n",
      "S = 1.5 # cm\n",
      "Vb = 24.22*S+6.08*math.sqrt(S)\n",
      "print'%s %.3f %s' % (\" Vb when S = 1.5 is \",Vb,\" kV \\n \")\n",
      "b = 75.\n",
      "t = 35.\n",
      "D = (3.92*b)/(273+t)\n",
      "print'%s %.4f' % (\" Air density correction factor = \",D)\n",
      "\n",
      "#Answer may vary due to round off error\n"
     ],
     "language": "python",
     "metadata": {},
     "outputs": [
      {
       "output_type": "stream",
       "stream": "stdout",
       "text": [
        " Vb when S = 2 cm is 7.56  kV \n",
        " \n",
        " Vb when S = 1.5 is  43.776  kV \n",
        " \n",
        " Air density correction factor =  0.9545\n"
       ]
      }
     ],
     "prompt_number": 1
    },
    {
     "cell_type": "heading",
     "level": 2,
     "metadata": {},
     "source": [
      "EXAMPLE 4.2 - PG NO.145"
     ]
    },
    {
     "cell_type": "code",
     "collapsed": false,
     "input": [
      "#Chapter 4,Example 4.2 Page 145\n",
      "import math\n",
      "# Determine the potential difference\n",
      "AP = 8.**2./4. # Area of plate\n",
      "d = 4. # mm\n",
      "FA = 0.2*9.8*10.**-3. # Force of attraction\n",
      "V = math.sqrt(FA*2.*36.*16.*10.**-6./(10.**-9.*16.*10.**-4.))\n",
      "print'%s %d %s' % (\"area of plate =\",AP,\"pi sq.cm\")\n",
      "print'%s %d %s' % (\"V = \",round(V),\"V \\n \")\n",
      "\n",
      "#Answers may vary due to round off error\n"
     ],
     "language": "python",
     "metadata": {},
     "outputs": [
      {
       "output_type": "stream",
       "stream": "stdout",
       "text": [
        "area of plate = 16 pi sq.cm\n",
        "V =  1188 V \n",
        " \n"
       ]
      }
     ],
     "prompt_number": 2
    },
    {
     "cell_type": "heading",
     "level": 2,
     "metadata": {},
     "source": [
      "EXAMPLE 4.3 - PG NO.145"
     ]
    },
    {
     "cell_type": "code",
     "collapsed": false,
     "input": [
      "#Chapter 4,Example 4.3 Page 145\n",
      "import math\n",
      "d = 1. #mm\n",
      "V = 10.**3. # V\n",
      "F = 5.*10.**-3. # pull between the plates in N\n",
      "E = 1./(36.) # epselon\n",
      "A = 10**2./4. # Area of the plate \n",
      "d1 = math.sqrt((1./(2.*F))*E*10.**-9.*V**2.*A*10.**-4.) # calculation done in the text is wrong\n",
      "d21 = 1./(d1*10.**4.)\n",
      "d22 = 1./(d1*10.**4.+d)\n",
      "C = (V*E*10.**-9.*A*10.**-4.)*(d21-d22)\n",
      "print'%s %.2f %s' % (\"d = \",d1*10.**4.,\"mm \\n \")\n",
      "print'%s %.4f %s' % (\"charge in capacitance =\",C*10**12,\" pF \\n \")\n",
      "\n",
      "#Answers may vary due to round off error\n"
     ],
     "language": "python",
     "metadata": {},
     "outputs": [
      {
       "output_type": "stream",
       "stream": "stdout",
       "text": [
        "d =  26.35 mm \n",
        " \n",
        "charge in capacitance = 0.0963  pF \n",
        " \n"
       ]
      }
     ],
     "prompt_number": 3
    },
    {
     "cell_type": "heading",
     "level": 2,
     "metadata": {},
     "source": [
      "EXAMPLE 4.4 - PG NO.145"
     ]
    },
    {
     "cell_type": "code",
     "collapsed": false,
     "input": [
      "#Chapter 4,Example 4.4 Page 145\n",
      "import math\n",
      "Imin = 2.*10.**-6. # A\n",
      "Imax = 35.*10.**-6. # A\n",
      "V = 15.*10.**4. # V\n",
      "w = 2.*math.pi*1500./60.\n",
      "Cm = math.sqrt(2.)*Imin/(V*w) \n",
      "Ipeak = 2.*250./15.\n",
      "print'%s %.1f %s' % (\" Cm = \",Cm*10**13+0.3,\" pF \\n \")\n",
      "print'%s %.1f %s' % (\" At 250 kV, the current indicated will be =\",Ipeak,\"microA \\n \")\n",
      "\n",
      "#Answers vary due to round off error\n"
     ],
     "language": "python",
     "metadata": {},
     "outputs": [
      {
       "output_type": "stream",
       "stream": "stdout",
       "text": [
        " Cm =  1.5  pF \n",
        " \n",
        " At 250 kV, the current indicated will be = 33.3 microA \n",
        " \n"
       ]
      }
     ],
     "prompt_number": 4
    },
    {
     "cell_type": "heading",
     "level": 2,
     "metadata": {},
     "source": [
      "EXAMPLE 4.5 - PG NO.146"
     ]
    },
    {
     "cell_type": "code",
     "collapsed": false,
     "input": [
      "#Chapter 4,Example 4.5 Page 146\n",
      "\n",
      "V1 = 150*10**3 # V\n",
      "PD = 1200 # potential divider ratio\n",
      "I = 10**-6 # A\n",
      "t = 8 # sec\n",
      "V = V1/PD\n",
      "R = V/I\n",
      "C = t*10**6/R\n",
      "print'%s %d %s' % (\"V =\",V,\" V \\n \")\n",
      "print'%s %.1f %s' % (\"R =\",R*10**-7,\"M ohm\\n \")\n",
      "print'%s %.2f %s' % (\"C = \",C*10,\" micro F \\n \")\n",
      "\n",
      "# Answers provided in the textbook are wrong\n"
     ],
     "language": "python",
     "metadata": {},
     "outputs": [
      {
       "output_type": "stream",
       "stream": "stdout",
       "text": [
        "V = 125  V \n",
        " \n",
        "R = 12.5 M ohm\n",
        " \n",
        "C =  0.64  micro F \n",
        " \n"
       ]
      }
     ],
     "prompt_number": 5
    },
    {
     "cell_type": "heading",
     "level": 2,
     "metadata": {},
     "source": [
      "EXAMPLE 4.6 - PG NO.146"
     ]
    },
    {
     "cell_type": "code",
     "collapsed": false,
     "input": [
      "#Chapter 4,Example 4.6 Page 146\n",
      "\n",
      "i = 8.*10.**3. # i(t)\n",
      "V0 = 8. # V0(t)\n",
      "I = 8.*10.**3. # A\n",
      "rcI = 10.**10. # rate of change of current in A/sec\n",
      "R = 8.*10.**3. # ohm\n",
      "RCbyM = i/V0 # R*C/M\n",
      "t = I/rcI # 1/4 of cycle\n",
      "T = t*4. \n",
      "f = 1./T\n",
      "CR = 5./f\n",
      "M = CR/RCbyM\n",
      "C = CR/R\n",
      "print'%s %d %s' % (\"Time for 1/4 cycle =\",t*10000000,\"*10^-7 sec \\n \")\n",
      "print'%s %d %s' % (\"Full time =\",T*10000000,\"*10^-7 sec \\n \")\n",
      "print'%s %.2f %s' % (\"f =\",f/1000000,\"*10^7 Hz \\n \")\n",
      "print'%s %d %s' % (\"M = \",round(M*1000000000),\"nH \\n \")\n",
      "print'%s %d %s' % (\"C = \",round(C*1000000000),\"nF \\n \")\n",
      "print'%s %d %s' % (\"R =\",R/1000,\"*10^3 ohm \\n\")\n",
      "\n",
      "# Answers may vary due to round off error\n"
     ],
     "language": "python",
     "metadata": {},
     "outputs": [
      {
       "output_type": "stream",
       "stream": "stdout",
       "text": [
        "Time for 1/4 cycle = 8 *10^-7 sec \n",
        " \n",
        "Full time = 32 *10^-7 sec \n",
        " \n",
        "f = 0.31 *10^7 Hz \n",
        " \n",
        "M =  16 nH \n",
        " \n",
        "C =  2 nF \n",
        " \n",
        "R = 8 *10^3 ohm \n",
        "\n"
       ]
      }
     ],
     "prompt_number": 6
    }
   ],
   "metadata": {}
  }
 ]
}