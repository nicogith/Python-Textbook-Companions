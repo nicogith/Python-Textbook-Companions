{
 "metadata": {
  "name": "chapter no.3.ipynb"
 },
 "nbformat": 3,
 "nbformat_minor": 0,
 "worksheets": [
  {
   "cells": [
    {
     "cell_type": "heading",
     "level": 1,
     "metadata": {},
     "source": [
      "Chapter 3:Coplanar Parallel forces"
     ]
    },
    {
     "cell_type": "heading",
     "level": 2,
     "metadata": {},
     "source": [
      "Example 3.1,Page No.48"
     ]
    },
    {
     "cell_type": "code",
     "collapsed": false,
     "input": [
      "import math\n",
      "\n",
      "#Declaration Of Variables\n",
      "\n",
      "#Lengths\n",
      "L_AB=L_BC=L_CD=L_DA=2 #m\n",
      "\n",
      "#Loads\n",
      "F_B=10 #N\n",
      "F_C=20 #N\n",
      "F_D=30 #N\n",
      "F_A=40 #N\n",
      "\n",
      "#Calculations\n",
      "\n",
      "#Taking Moment at point A\n",
      "#As the Forces F_A & F_B pass through point A,these Forces will be zero\n",
      "#Resultant Moment of all Forces\n",
      "M_A=-(-F_D*L_DA-F_C*L_CD) #N.m\n",
      "\n",
      "#Result\n",
      "print\"Resultant Moment about point A is\",round(M_A,2),\"N.m (Anticlockwise)\""
     ],
     "language": "python",
     "metadata": {},
     "outputs": [
      {
       "output_type": "stream",
       "stream": "stdout",
       "text": [
        "Resultant Moment about point A is 100.0 N.m (Anticlockwise)\n"
       ]
      }
     ],
     "prompt_number": 4
    },
    {
     "cell_type": "heading",
     "level": 2,
     "metadata": {},
     "source": [
      "Example 3.2,Page No.50"
     ]
    },
    {
     "cell_type": "code",
     "collapsed": false,
     "input": [
      "import math\n",
      "\n",
      "#Declaration Of Variables\n",
      "F_A=100 #N\n",
      "OCB=60 #Degrees\n",
      "L_OC=3 #m\n",
      "\n",
      "#Calculations\n",
      "\n",
      "#Triangle OBC is a right Angled triangle\n",
      "L_OB=L_OC*sin(60*pi*180**-1)\n",
      "\n",
      "#Moment of force 100 #N about o\n",
      "M_O=F_A*L_OB #Nm\n",
      "\n",
      "#Result\n",
      "print\"Moment of Force about O is\",round(M_O,2),\"Nm\""
     ],
     "language": "python",
     "metadata": {},
     "outputs": [
      {
       "output_type": "stream",
       "stream": "stdout",
       "text": [
        "Moment of Force about O is 259.81 Nm\n"
       ]
      }
     ],
     "prompt_number": 6
    },
    {
     "cell_type": "heading",
     "level": 2,
     "metadata": {},
     "source": [
      "Example 3.3,Page No.54"
     ]
    },
    {
     "cell_type": "code",
     "collapsed": false,
     "input": [
      "import math\n",
      "\n",
      "#Declaration Of Variables\n",
      "\n",
      "#Lengths\n",
      "L_AB=30 #cm\n",
      "L_BC=40 #cm\n",
      "\n",
      "#Loads\n",
      "F_A=100 #N\n",
      "F_B=200 #N\n",
      "F_C=300 #N\n",
      "\n",
      "#Calculations\n",
      "\n",
      "#resultant of all forces\n",
      "R=F_A+F_B+F_C #N\n",
      "\n",
      "#Let resultant be acting at distance x from point A\n",
      "\n",
      "#Now taking moments at point A\n",
      "M_A=-(-F_C*(L_AB+L_BC)-F_B*L_AB) #N.m\n",
      "\n",
      "#Moment of resultant R about A\n",
      "#M_R=R*x\n",
      "\n",
      "#But algebraic sum of moments of all forces about A = Moment of resultant about A\n",
      "x=M_A*R**-1\n",
      "\n",
      "#Result\n",
      "print\"Resultant is\",round(R,2),\"N\"\n",
      "print\"Distance of resultant from point A\",round(x,2),\"cm\""
     ],
     "language": "python",
     "metadata": {},
     "outputs": [
      {
       "output_type": "stream",
       "stream": "stdout",
       "text": [
        "Resultant is 600.0 N\n",
        "Distance of resultant from point A 45.0 cm\n"
       ]
      }
     ],
     "prompt_number": 9
    },
    {
     "cell_type": "heading",
     "level": 2,
     "metadata": {},
     "source": [
      "Example 3.4,Page No.54"
     ]
    },
    {
     "cell_type": "code",
     "collapsed": false,
     "input": [
      "import math\n",
      "\n",
      "#Declaration Of Variables\n",
      "\n",
      "#Lengths\n",
      "L_AC=4 #m\n",
      "L_CD=3 #m\n",
      "L_AD=7 #m\n",
      "\n",
      "#Forces\n",
      "F_A=50  #N\n",
      "F_D=100 #N\n",
      "R=250 #N #Resultant \n",
      "\n",
      "#Calculations\n",
      "\n",
      "#Part-1\n",
      "#Magnitude of Force F_B\n",
      "F=R-F_A-F_D #N\n",
      "\n",
      "#Part-2\n",
      "#Distance from pt A\n",
      "#Taking Moment of all forces at pt A\n",
      "#M_A=0\n",
      "#Now moments of all forces = Moment of Resultant\n",
      "#After simplifying  further we get\n",
      "x=(R*L_AC-F_D*L_AD)*F_B**-1 #m\n",
      "\n",
      "#Result\n",
      "print\"Magnitude of Force F is\",round(F,2),\"N\"\n",
      "print\"Distance of force f from A is\",round(x,2),\"m\""
     ],
     "language": "python",
     "metadata": {},
     "outputs": [
      {
       "output_type": "stream",
       "stream": "stdout",
       "text": [
        "Magnitude of Force F is 100.0 N\n",
        "Distance of force f from A is 3.0 m\n"
       ]
      }
     ],
     "prompt_number": 2
    },
    {
     "cell_type": "heading",
     "level": 2,
     "metadata": {},
     "source": [
      "Example 3.5,Page No.55"
     ]
    },
    {
     "cell_type": "code",
     "collapsed": false,
     "input": [
      "import math\n",
      "\n",
      "#Declaration Of Variables\n",
      "\n",
      "#Lengths\n",
      "L_AB=0.9 #m\n",
      "L_BC=1.2 #m\n",
      "L_CD=0.75 #m\n",
      "L=L_AB+L_BC+L_CD #m\n",
      "\n",
      "#Forces\n",
      "F_A=100 #N\n",
      "F_B=150 #N\n",
      "F_C=25 #N\n",
      "F_D=200 #N\n",
      "\n",
      "#Calculations\n",
      "\n",
      "#Part-1\n",
      "#Magnitude of Resultant\n",
      "R=F_A-F_B-F_C+F_D #N\n",
      "\n",
      "#Part-2\n",
      "#Let x be the distance of Resultant from A\n",
      "x=-(F_B*L_AB+F_C*(L_AB+L_BC)-F_D*L)*R**-1 #m\n",
      "\n",
      "#Result\n",
      "print\"Magnitude of Resultant\",round(R,2),\"N\"\n",
      "print\"Distance of Resultant from x is\",round(x,2),\"m\""
     ],
     "language": "python",
     "metadata": {},
     "outputs": [
      {
       "output_type": "stream",
       "stream": "stdout",
       "text": [
        "Magnitude of Resultant 125.0 N\n",
        "Distance of Resultant from x is 3.06 m\n"
       ]
      }
     ],
     "prompt_number": 33
    },
    {
     "cell_type": "heading",
     "level": 2,
     "metadata": {},
     "source": [
      "Example 3.6,Page No.57"
     ]
    },
    {
     "cell_type": "code",
     "collapsed": false,
     "input": [
      "import math\n",
      "\n",
      "#Declaration Of Variables\n",
      "\n",
      "#Lengths\n",
      "L_AC=L_CD=1 #m\n",
      "L_DB=1.5 #m\n",
      "L=3.5 #m\n",
      "\n",
      "#Forces\n",
      "F_A=32.5 #N\n",
      "F_C=150 #N\n",
      "F_D=67.5 #N\n",
      "F_B=10 #N\n",
      "\n",
      "#Calculations\n",
      "\n",
      "#Part-1\n",
      "\n",
      "#Single Force ststem\n",
      "R=-(F_A-F_C+F_D-F_B) #N\n",
      "\n",
      "#Let x be the distance of Resultant from A\n",
      "x=-(F_C*L_AC-F_D*(L_AC+L_CD)+F_B*L)*R**-1 #m\n",
      "\n",
      "#Part-2\n",
      "\n",
      "#Single Force is given By R\n",
      "\n",
      "#Now moment of couple at pt A\n",
      "M_A=-R*round(x,2) #N.m\n",
      "\n",
      "#Part-3\n",
      "\n",
      "#Now couple at B\n",
      "L_BE=L+x\n",
      "M_B=R*round(L_BE,3) #N.m\n",
      "\n",
      "#Result\n",
      "print\"Single Force is\",round(R,2),\"N\"\n",
      "print\"Couple at A\",round(M_A,2),\"N.m\"\n",
      "print\"Couple at B\",round(M_B,2),\"N.m\""
     ],
     "language": "python",
     "metadata": {},
     "outputs": [
      {
       "output_type": "stream",
       "stream": "stdout",
       "text": [
        "2.66666666667\n",
        "Single Force is 60.0 N\n",
        "Couple at A 49.8 N.m\n",
        "Couple at B 160.02 N.m\n"
       ]
      }
     ],
     "prompt_number": 53
    },
    {
     "cell_type": "heading",
     "level": 2,
     "metadata": {},
     "source": [
      "Example 3.7,Page No.59"
     ]
    },
    {
     "cell_type": "code",
     "collapsed": false,
     "input": [
      "import math\n",
      "\n",
      "#Declaration Of Variables\n",
      "\n",
      "#Lengths\n",
      "L_AB=L_DE=0.6 #m\n",
      "L_BC=0.9 #m\n",
      "L_CD=1.2 #m\n",
      "\n",
      "#Forces\n",
      "F_A=4 #N\n",
      "F_B=8 #N\n",
      "F_C=8 #N\n",
      "F_D=16 #N\n",
      "F_E=12 #N\n",
      "\n",
      "#Calculations\n",
      "\n",
      "#Resultant Of All Forces\n",
      "R=-F_A+F_B-F_C+F_D-F_E #N\n",
      "\n",
      "#As the Resultatn Force is zero,tere will be two possibilities.The system will have a resultant coup\n",
      "#Algebraic sum of moments of all forces about A\n",
      "M_A=-F_B*L_AB+F_C*(L_AB+L_BC)-F_D*(L_AB+L_BC+L_CD)+F_E*(L_AB+L_BC+L_CD+L_DE) #N.m\n",
      "\n",
      "#As the algebraic sum of moments of all forces is not zero,the ststem will have couple of magnitude 3.6 #N.m\n",
      "\n",
      "#Result\n",
      "print\"Resultant of Parallel Forces is\",round(R,2),\"N\""
     ],
     "language": "python",
     "metadata": {},
     "outputs": [
      {
       "output_type": "stream",
       "stream": "stdout",
       "text": [
        "Resultant of Parallel Forces is 0.0 N\n"
       ]
      }
     ],
     "prompt_number": 56
    },
    {
     "cell_type": "heading",
     "level": 2,
     "metadata": {},
     "source": [
      "Example 3.8,Page No.59"
     ]
    },
    {
     "cell_type": "code",
     "collapsed": false,
     "input": [
      "import math\n",
      "\n",
      "#Declaration Of Variables\n",
      "\n",
      "L_AB=L_DE=2 #m\n",
      "L_BC=0.5 #m\n",
      "L_CD=0.5 #m\n",
      "\n",
      "#Forces\n",
      "F_A=20 #N\n",
      "F_B=20 #N\n",
      "F_C=40 #N\n",
      "F_D=30 #N\n",
      "F_E=10 #N\n",
      "\n",
      "\n",
      "#Calculations\n",
      "\n",
      "#Resultant Of All Forces\n",
      "R=-F_A+F_B+F_C-F_D-F_E #N\n",
      "\n",
      "#As the Resultant is zero and also the resultant force on  the body is zero,the body will be in equilibrium\n",
      "\n",
      "#Result\n",
      "print\"Resultant of Parallel Forces is\",round(R,2),\"N\""
     ],
     "language": "python",
     "metadata": {},
     "outputs": [
      {
       "output_type": "stream",
       "stream": "stdout",
       "text": [
        "Resultant of Parallel Forces is 0.0 N\n"
       ]
      }
     ],
     "prompt_number": 58
    },
    {
     "cell_type": "heading",
     "level": 2,
     "metadata": {},
     "source": [
      "Example 3.9,Page No.60"
     ]
    },
    {
     "cell_type": "code",
     "collapsed": false,
     "input": [
      "import math\n",
      "\n",
      "#Declaration Of Variables\n",
      "\n",
      "#Distances\n",
      "L_OA=200 #mm\n",
      "L_OB=100 #mm\n",
      "L_BC=200 #mm\n",
      "\n",
      "COA=90 #Degrees\n",
      "\n",
      "#Forces\n",
      "F_A=2000 #N\n",
      "F_B=1500 #N\n",
      "F_C=1000 #N\n",
      "\n",
      "#Calculations\n",
      "\n",
      "#Resolving FOrce A in two components\n",
      "F_A1=F_A*cos(30*pi*180**-1) #Component along x-axis\n",
      "F_A2=F_A*sin(30*pi*180**-1) #Component along y-axis\n",
      "\n",
      "#Resolving all forces along X-axis\n",
      "F_x=F_A1-F_B-F_C\n",
      "F_y=F_A2\n",
      "\n",
      "#Resultant \n",
      "R=(F_x**2+F_y**2)**0.5 #N\n",
      "\n",
      "#Taking Moments of all forces about pt O\n",
      "M_o=-(F_y*L_OA-F_B*L_OB-F_C*(L_BC+L_OB)) #N.mm\n",
      "\n",
      "#Result\n",
      "print\"Equivalent system through point O is:Resultant\",round(R,2),\"N\"\n",
      "print\"                                    :Moment\",round(M_o,2),\"N.mm\""
     ],
     "language": "python",
     "metadata": {},
     "outputs": [
      {
       "output_type": "stream",
       "stream": "stdout",
       "text": [
        "Equivalent system through point O is:Resultant 1260.85 N\n",
        "                                    :Moment 250000.0 N.mm\n"
       ]
      }
     ],
     "prompt_number": 63
    },
    {
     "cell_type": "heading",
     "level": 2,
     "metadata": {},
     "source": [
      "Example 3.10,Page No.61"
     ]
    },
    {
     "cell_type": "code",
     "collapsed": false,
     "input": [
      "import math\n",
      "\n",
      "#Declaration Of Variables\n",
      "\n",
      "#Lengths\n",
      "L_AC=1 #m\n",
      "L_CB=1.5 #m\n",
      "L_CD=0.8 #m\n",
      "L_DB=0.7 #m\n",
      "L=2.5 #m\n",
      "\n",
      "#Forces\n",
      "F_C=4000 #N\n",
      "F_B=2500 #N\n",
      "M_D=2000 #N*m\n",
      "\n",
      "#Calculations\n",
      "\n",
      "#Resultant of all forces\n",
      "R=-F_C+F_B #N\n",
      "\n",
      "#As the Force is acting in downward direction,so negative sign\n",
      "R2=-R\n",
      "\n",
      "#Sum of Moments of all Forces\n",
      "M=(F_C*L_AC+M_D-F_B*L)\n",
      "M2=-M #Anticlockwise\n",
      "\n",
      "#Now distance of resultant from x is\n",
      "x=(F_C*L_AC+M_D-F_B*L)*R2**-1\n",
      "\n",
      "#Negative sign indicates that it acts left of A\n",
      "x2=-x\n",
      "\n",
      "#Result\n",
      "print\"Resultant of the system\",round(R2,2),\"N\"\n",
      "print\"Equivalent system through A\",round(M2,2),\"N.m (Anticlockwise)\""
     ],
     "language": "python",
     "metadata": {},
     "outputs": [
      {
       "output_type": "stream",
       "stream": "stdout",
       "text": [
        "Resultant of the system 1500.0 N\n",
        "Equivalent system through A 250.0 N.m (Anticlockwise)\n"
       ]
      }
     ],
     "prompt_number": 72
    }
   ],
   "metadata": {}
  }
 ]
}