{
 "metadata": {
  "name": "",
  "signature": "sha256:f1e1a22845431a7c624f15fdfe1d12cb897973438c34ee8b3af7b1acede6209e"
 },
 "nbformat": 3,
 "nbformat_minor": 0,
 "worksheets": [
  {
   "cells": [
    {
     "cell_type": "heading",
     "level": 1,
     "metadata": {},
     "source": [
      "Chapter 24: Laws of Motion"
     ]
    },
    {
     "cell_type": "heading",
     "level": 2,
     "metadata": {},
     "source": [
      "Example 24.11, Page no.490"
     ]
    },
    {
     "cell_type": "code",
     "collapsed": false,
     "input": [
      "# Variable declaration\n",
      "m=50     #mass in kg\n",
      "a=1.2    #acceleration in m/s**2\n",
      "g=9.8    #gravity in m/s**2\n",
      "\n",
      "#Calculation\n",
      "F=m*(g+a)\n",
      "\n",
      "#Result\n",
      "print\"F=\",int(F),\"N\""
     ],
     "language": "python",
     "metadata": {},
     "outputs": [
      {
       "output_type": "stream",
       "stream": "stdout",
       "text": [
        "F= 550 N\n"
       ]
      }
     ],
     "prompt_number": 1
    },
    {
     "cell_type": "code",
     "collapsed": false,
     "input": [],
     "language": "python",
     "metadata": {},
     "outputs": []
    }
   ],
   "metadata": {}
  }
 ]
}