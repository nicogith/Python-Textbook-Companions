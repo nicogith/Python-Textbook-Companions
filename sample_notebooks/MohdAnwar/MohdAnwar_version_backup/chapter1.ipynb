{
 "metadata": {
  "name": "",
  "signature": ""
 },
 "nbformat": 3,
 "nbformat_minor": 0,
 "worksheets": [
  {
   "cells": [
    {
     "cell_type": "heading",
     "level": 1,
     "metadata": {},
     "source": [
      "Chapter 01 : Antenna Principles"
     ]
    },
    {
     "cell_type": "heading",
     "level": 2,
     "metadata": {},
     "source": [
      "Exa 1.1 : page 1.42"
     ]
    },
    {
     "cell_type": "code",
     "collapsed": false,
     "input": [
      "from __future__ import division\n",
      "from math import pi\n",
      "#given data :\n",
      "E=4.0 #in V/m\n",
      "Eta=120*pi #constant\n",
      "#Formula : E/H=Eta\n",
      "H=E/Eta #in A/m\n",
      "print \"Strength of magnetic field in free space = %0.4f A/m \" %H"
     ],
     "language": "python",
     "metadata": {},
     "outputs": [
      {
       "output_type": "stream",
       "stream": "stdout",
       "text": [
        "Strength of magnetic field in free space = 0.0106 A/m \n"
       ]
      }
     ],
     "prompt_number": 5
    },
    {
     "cell_type": "heading",
     "level": 2,
     "metadata": {},
     "source": [
      "Exa 1.2 : page 1.42"
     ]
    },
    {
     "cell_type": "code",
     "collapsed": false,
     "input": [
      "from math import pi\n",
      "#given data :\n",
      "H=5.2 #in mA/m\n",
      "Eta=120*pi #constant\n",
      "#Formula : E/H=Eta\n",
      "E=H*10**-3*Eta #in V/m\n",
      "print \"Strength of Electric field in free space =\",round(E),\"V/m\" "
     ],
     "language": "python",
     "metadata": {},
     "outputs": [
      {
       "output_type": "stream",
       "stream": "stdout",
       "text": [
        "Strength of Electric field in free space = 2.0 V/m\n"
       ]
      }
     ],
     "prompt_number": 4
    },
    {
     "cell_type": "heading",
     "level": 2,
     "metadata": {},
     "source": [
      "Exa 1.3 : page 1.42"
     ]
    },
    {
     "cell_type": "code",
     "collapsed": false,
     "input": [
      "#given data :\n",
      "I=20.0 #in A\n",
      "Rr=100.0 #in Ohm\n",
      "#Formula : Wr=I**2*R\n",
      "Wr=I**2*Rr #in W\n",
      "print \"Radiated power  = %0.f kW \" %(Wr/1000) "
     ],
     "language": "python",
     "metadata": {},
     "outputs": [
      {
       "output_type": "stream",
       "stream": "stdout",
       "text": [
        "Radiated power  = 40 kW \n"
       ]
      }
     ],
     "prompt_number": 3
    },
    {
     "cell_type": "heading",
     "level": 2,
     "metadata": {},
     "source": [
      "Exa 1.4 : page 1.42"
     ]
    },
    {
     "cell_type": "code",
     "collapsed": false,
     "input": [
      "from math import sqrt\n",
      "#given data :\n",
      "W=625.0 #in KW\n",
      "r=30.0 #in Km\n",
      "Erms=sqrt(90*W*1000)/(r*1000) #in V/m\n",
      "print \"Strength of Electric field at 30Km away = %0.f mV/m \" %(Erms*1000) "
     ],
     "language": "python",
     "metadata": {},
     "outputs": [
      {
       "output_type": "stream",
       "stream": "stdout",
       "text": [
        "Strength of Electric field at 30Km away = 250 mV/m \n"
       ]
      }
     ],
     "prompt_number": 6
    },
    {
     "cell_type": "heading",
     "level": 2,
     "metadata": {},
     "source": [
      "Exa 1.6 : page 1.43"
     ]
    },
    {
     "cell_type": "code",
     "collapsed": false,
     "input": [
      "from math import pi\n",
      "#given data :\n",
      "le=50.0 #in m\n",
      "f=100.0 #in MHz\n",
      "lamda=300.0/(f) #in m\n",
      "Rr=(160*(pi)**2)*(le/lamda)**2 #in Ohm\n",
      "print \"Radiation Resistance = %0.2f Mohm \" %(Rr/10**6) \n",
      "#Note : Answer in the book is wrong"
     ],
     "language": "python",
     "metadata": {},
     "outputs": [
      {
       "output_type": "stream",
       "stream": "stdout",
       "text": [
        "Radiation Resistance = 0.44 Mohm \n"
       ]
      }
     ],
     "prompt_number": 12
    },
    {
     "cell_type": "heading",
     "level": 2,
     "metadata": {},
     "source": [
      "Exa 1.7 : page 1.44"
     ]
    },
    {
     "cell_type": "code",
     "collapsed": false,
     "input": [
      "from math import pi\n",
      "#given data :\n",
      "l=30 #in m\n",
      "Irms=20 #in A\n",
      "f=1 #in MHz\n",
      "r=10 #in Km\n",
      "r=r*1000 #in m\n",
      "le=2*l/pi #in m\n",
      "lamda=300/(f) #in m\n",
      "Erms=120*pi*le*Irms/(lamda*r) #in V/m\n",
      "print \"Field strength at 10Km distance = %0.2e V/m \" %Erms \n",
      "#Note : Answer in the book is wrong"
     ],
     "language": "python",
     "metadata": {},
     "outputs": [
      {
       "output_type": "stream",
       "stream": "stdout",
       "text": [
        "Field strength at 10Km distance = 4.80e-02 V/m \n"
       ]
      }
     ],
     "prompt_number": 14
    },
    {
     "cell_type": "heading",
     "level": 2,
     "metadata": {},
     "source": [
      "Exa 1.8 : page 1.44"
     ]
    },
    {
     "cell_type": "code",
     "collapsed": false,
     "input": [
      "from math import pi\n",
      "#given data :\n",
      "Rl=1.0 #in ohm\n",
      "#Formula : Rr=80*pi**2*(l/lamda)**2\n",
      "#Given l=lamda/10\n",
      "#l/lamda=1/10\n",
      "Rr=80*pi**2*(1.0/10)**2 #in Ohm\n",
      "print \"Radiation resistance = %0.2f Ohm \" %(Rr) \n",
      "Eta=Rr/(Rr+Rl) #Unitless\n",
      "print \"Antenna Efficiency = %0.2f %% \" %(Eta*100) "
     ],
     "language": "python",
     "metadata": {},
     "outputs": [
      {
       "output_type": "stream",
       "stream": "stdout",
       "text": [
        "Radiation resistance = 7.90 Ohm \n",
        "Antenna Efficiency = 88.76 % \n"
       ]
      }
     ],
     "prompt_number": 15
    },
    {
     "cell_type": "heading",
     "level": 2,
     "metadata": {},
     "source": [
      "Exa 1.9 : page 1.44"
     ]
    },
    {
     "cell_type": "code",
     "collapsed": false,
     "input": [
      "from math import sqrt\n",
      "#given data :\n",
      "r=100 #in Km\n",
      "W=100 #in KW\n",
      "Erms=sqrt(90*W*1000)/(r*1000) #in V/m\n",
      "print \"Strength of Electric Field = %0.2f V/m \" %Erms "
     ],
     "language": "python",
     "metadata": {},
     "outputs": [
      {
       "output_type": "stream",
       "stream": "stdout",
       "text": [
        "Strength of Electric Field = 0.03 V/m \n"
       ]
      }
     ],
     "prompt_number": 16
    },
    {
     "cell_type": "heading",
     "level": 2,
     "metadata": {},
     "source": [
      "Exa 1.10 : page 1.44"
     ]
    },
    {
     "cell_type": "code",
     "collapsed": false,
     "input": [
      "from math import pi\n",
      "#given data :\n",
      "le=200.0 #in m\n",
      "Irms=200 #in A\n",
      "f=300 #in KHz\n",
      "r=10 #in Km\n",
      "c=3*10**8 #speed of light i m/s\n",
      "lamda=c/(f*1000) #in m\n",
      "Erms=120*pi*le*Irms/(lamda*r*10**3) #in V/m\n",
      "print \"Field strength at 10Km distance = %0.4f V/m\" %(Erms) \n",
      "Rr=(160*(pi)**2)*(le/lamda)**2 #in Ohm\n",
      "W=Irms**2*Rr #in Watts\n",
      "print \"Radiated Power = %0.2f MW \" %(W/10**6) \n",
      "#Note : Answer is wrong in the book. Unit of answer in the book is written mW instead of MW by mistake."
     ],
     "language": "python",
     "metadata": {},
     "outputs": [
      {
       "output_type": "stream",
       "stream": "stdout",
       "text": [
        "Field strength at 10Km distance = 1.5080 V/m\n",
        "Radiated Power = 2.53 MW \n"
       ]
      }
     ],
     "prompt_number": 21
    },
    {
     "cell_type": "heading",
     "level": 2,
     "metadata": {},
     "source": [
      "Exa 1.11 : page 1.45"
     ]
    },
    {
     "cell_type": "code",
     "collapsed": false,
     "input": [
      "from math import pi\n",
      "#given data :\n",
      "#Formula : Rr=80*pi**2*(l/lamda)**2\n",
      "#Given l=lamda/60\n",
      "#l/lamda=1/60\n",
      "Rr=80*pi**2*(1.0/60)**2 #in Ohm\n",
      "print \"Radiation resistance = %0.3f Ohm  \" %Rr "
     ],
     "language": "python",
     "metadata": {},
     "outputs": [
      {
       "output_type": "stream",
       "stream": "stdout",
       "text": [
        "Radiation resistance = 0.219 Ohm  \n"
       ]
      }
     ],
     "prompt_number": 23
    },
    {
     "cell_type": "heading",
     "level": 2,
     "metadata": {},
     "source": [
      "Exa 1.12 : page 1.45"
     ]
    },
    {
     "cell_type": "code",
     "collapsed": false,
     "input": [
      "#given data :\n",
      "r=10.0 #in Km\n",
      "Erms=10.0 #in mV/m\n",
      "r1=20.0 #in Km\n",
      "#Formula : Erms=sqrt(90*W)/r #in V/m\n",
      "#Let swrt(90*W)=a\n",
      "a=Erms*r \n",
      "Erms1=a/r1 #in mV/m\n",
      "print \"Field strength at 20Km distance = %0.f mV/m \" %Erms1 "
     ],
     "language": "python",
     "metadata": {},
     "outputs": [
      {
       "output_type": "stream",
       "stream": "stdout",
       "text": [
        "Field strength at 20Km distance = 5 mV/m \n"
       ]
      }
     ],
     "prompt_number": 4
    },
    {
     "cell_type": "heading",
     "level": 2,
     "metadata": {},
     "source": [
      "Exa 1.13 : page 1.45"
     ]
    },
    {
     "cell_type": "code",
     "collapsed": false,
     "input": [
      "from math import pi\n",
      "#given data :\n",
      "r=1.0 #in Km\n",
      "r=1*10**3 #in m\n",
      "l=1.0 #in m\n",
      "Irms=10.0 #in A\n",
      "f=5.0 #in MHz\n",
      "c=3*10**8 #speed of light i m/s\n",
      "lamda=c/(f*10**6) #in m\n",
      "le=2*l/pi #in m\n",
      "Erms=120*pi*le*Irms/(lamda*r) #in V/m\n",
      "print \"Field strength at 10Km distance = %0.4f V/m \" %Erms\n",
      "#Note : Answer in the book is wrong. Mistake during value putting."
     ],
     "language": "python",
     "metadata": {},
     "outputs": [
      {
       "output_type": "stream",
       "stream": "stdout",
       "text": [
        "Field strength at 10Km distance = 0.0400 V/m \n"
       ]
      }
     ],
     "prompt_number": 26
    }
   ],
   "metadata": {}
  }
 ]
}