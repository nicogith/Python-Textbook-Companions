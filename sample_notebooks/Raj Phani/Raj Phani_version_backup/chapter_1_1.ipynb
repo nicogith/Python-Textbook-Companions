{
 "cells": [
  {
   "cell_type": "markdown",
   "metadata": {},
   "source": [
    "# chapter1: electric charge"
   ]
  },
  {
   "cell_type": "markdown",
   "metadata": {},
   "source": [
    "##example 1.1"
   ]
  },
  {
   "cell_type": "code",
   "execution_count": 23,
   "metadata": {
    "collapsed": false,
    "scrolled": true
   },
   "outputs": [
    {
     "name": "stdout",
     "output_type": "stream",
     "text": [
      "Example 1.1, Page:3  \n",
      " \n",
      "\n",
      "\n",
      " The electric field in V/m is = 20000.0\n",
      "\n",
      " The force in N/C is = 20000.0\n",
      "\n",
      " The force on metal sphere in N is = 7.6e-05\n"
     ]
    }
   ],
   "source": [
    "#cal of elelectric field and force\n",
    "#intiation of all variables\n",
    "# Chapter 1\n",
    "print\"Example 1.1, Page:3  \\n \\n\"\n",
    "#Given:\n",
    "v=1000# potential\n",
    "d=0.05# distance\n",
    "q=3.8*10**-9# charge\n",
    "\n",
    "#solution:\n",
    "e=v/d;#electric field\n",
    "f=e;# force\n",
    "f1=f*q;# force on metal sphere\n",
    "print\"\\n The electric field in V/m is =\",e\n",
    "print\"\\n The force in N/C is =\",f\n",
    "print\"\\n The force on metal sphere in N is =\",f1\n"
   ]
  },
  {
   "cell_type": "markdown",
   "metadata": {},
   "source": [
    "##example 1.2"
   ]
  },
  {
   "cell_type": "code",
   "execution_count": 24,
   "metadata": {
    "collapsed": false
   },
   "outputs": [
    {
     "name": "stdout",
     "output_type": "stream",
     "text": [
      "Example 1.2, Page:4  \n",
      " \n",
      "\n",
      "The potential in V is = 80.0\n"
     ]
    }
   ],
   "source": [
    "#cal of elelectric field and force\n",
    "#intiation of all variables\n",
    "# Chapter 1\n",
    "print\"Example 1.2, Page:4  \\n \\n\"\n",
    "#Given:\n",
    "energy=2*10**-6\n",
    "c=2.5*10**-8# velocity of light\n",
    "#solution:\n",
    "v=energy/c# potential\n",
    "print\"The potential in V is =\",v\n"
   ]
  },
  {
   "cell_type": "markdown",
   "metadata": {},
   "source": [
    "##example 1.3"
   ]
  },
  {
   "cell_type": "code",
   "execution_count": 25,
   "metadata": {
    "collapsed": false
   },
   "outputs": [
    {
     "name": "stdout",
     "output_type": "stream",
     "text": [
      "Example 1.3, Page:5  \n",
      " \n",
      "\n",
      "The wavelength in Angstroms is = 3.88289589025\n",
      "\n",
      " The photon wavelength in Angstroms is = 9.11075e-05\n"
     ]
    }
   ],
   "source": [
    "#cal of elelectric field and force\n",
    "#intiation of all variables\n",
    "# Chapter 1\n",
    "print\"Example 1.3, Page:5  \\n \\n\"\n",
    "#Given:\n",
    "\n",
    "energy=10 #in electron volts\n",
    "m=9.1*10**-31# mass of electron in kg\n",
    "h=6.626*10**-34# planck's constant J.s\n",
    "c=3*10^8# speed of light in m/s\n",
    "\n",
    "#solution (a):\n",
    "energy1=energy*1.6*10**-19# energy in J\n",
    "p=(2*m*energy1)**0.5# momentum\n",
    "wavelength=h/p*(10)**10\n",
    "\n",
    "print\"The wavelength in Angstroms is =\",wavelength\n",
    "\n",
    "\n",
    "#solution (b):\n",
    "wavelength1=h*c/energy1*(10)**10;#photon wavelength\n",
    "\n",
    "print\"\\n The photon wavelength in Angstroms is =\",wavelength1\n",
    "\n"
   ]
  },
  {
   "cell_type": "markdown",
   "metadata": {},
   "source": [
    "##example1.4"
   ]
  },
  {
   "cell_type": "code",
   "execution_count": 26,
   "metadata": {
    "collapsed": false
   },
   "outputs": [
    {
     "name": "stdout",
     "output_type": "stream",
     "text": [
      "Example 1.4, Page:6  \n",
      " \n",
      "\n",
      "The energy in eV is = 150.768804945\n"
     ]
    }
   ],
   "source": [
    "#cal of elelectric field and force\n",
    "#intiation of all variables\n",
    "# Chapter 1\n",
    "print\"Example 1.4, Page:6  \\n \\n\"\n",
    "\n",
    "#Given:\n",
    "\n",
    "wavelength=10**-10\n",
    "m=9.1*10**-31\n",
    "h=6.626*10**-34\n",
    "\n",
    "#solution:\n",
    "\n",
    "p=h/wavelength\n",
    "e=p*p/(2*m) # energy in J\n",
    "e1=e/(1.6*10**-19)# energy in eV\n",
    "\n",
    "print\"The energy in eV is =\",e1\n",
    "\n",
    "\n"
   ]
  },
  {
   "cell_type": "markdown",
   "metadata": {},
   "source": [
    "##example 1.5"
   ]
  },
  {
   "cell_type": "code",
   "execution_count": 27,
   "metadata": {
    "collapsed": false
   },
   "outputs": [
    {
     "name": "stdout",
     "output_type": "stream",
     "text": [
      "Example 1.5, Page:8  \n",
      " \n",
      "\n",
      "\n",
      " The wavelength in 10^-5 Angstroms is = 0.655671822473\n",
      "\n",
      " The wavelength in 10^-5 Angstroms is = 0.648946805494\n"
     ]
    }
   ],
   "source": [
    "#cal of elelectric field and force\n",
    "#intiation of all variables\n",
    "# Chapter 1\n",
    "print\"Example 1.5, Page:8  \\n \\n\"\n",
    "\n",
    "#Given:\n",
    "\n",
    "m=1.66*10**-27# 1u=1.66*10^-27 kg\n",
    "h=6.6262*10**-34#planck's constant in J.s\n",
    "energy1=120# in Mev for oxygen\n",
    "energy2=140# in MeV for nitrogen\n",
    "\n",
    "#solution(a):\n",
    "\n",
    "p=(2*m*16*energy1*(1.6022*10**-13))**0.5\n",
    "wavelength1=h/p*(10)**15#wavelength in 10^-5 Angstroms\n",
    "\n",
    "print\"\\n The wavelength in 10^-5 Angstroms is =\",wavelength1\n",
    "\n",
    "#solution (b):\n",
    "\n",
    "p=(2*m*14*energy2*(1.6022*10**-13))**0.5\n",
    "wavelength2=h/p*(10)**15#wavelength in 10^-5 Angstroms\n",
    "\n",
    "print\"\\n The wavelength in 10^-5 Angstroms is =\",wavelength2\n",
    "\n",
    "# 1 Angstrom = 10^-10 m\n"
   ]
  },
  {
   "cell_type": "markdown",
   "metadata": {},
   "source": [
    "##example1.6"
   ]
  },
  {
   "cell_type": "code",
   "execution_count": 28,
   "metadata": {
    "collapsed": false
   },
   "outputs": [
    {
     "name": "stdout",
     "output_type": "stream",
     "text": [
      "Example 1.6, Page:9  \n",
      " \n",
      "\n",
      "The energy in eV is = 8275.0\n"
     ]
    }
   ],
   "source": [
    "#cal of elelectric field and force\n",
    "#intiation of all variables\n",
    "# Chapter 1\n",
    "print\"Example 1.6, Page:9  \\n \\n\"\n",
    "\n",
    "#Given:\n",
    "\n",
    "wavelength=1.5*10**-10\n",
    "h=6.62*10**-34\n",
    "c=3*10**8\n",
    "\n",
    "#solution:\n",
    "\n",
    "e=(h*c)/wavelength# energy in J\n",
    "e1=e/(1.6*10**-19)# energy in eV\n",
    "\n",
    "print\"The energy in eV is =\",e1\n"
   ]
  },
  {
   "cell_type": "markdown",
   "metadata": {},
   "source": [
    "##example 1.7"
   ]
  },
  {
   "cell_type": "code",
   "execution_count": 29,
   "metadata": {
    "collapsed": false
   },
   "outputs": [
    {
     "name": "stdout",
     "output_type": "stream",
     "text": [
      "Example 1.7, Page:10  \n",
      " \n",
      "\n",
      "\n",
      " The threshold frequency in s^-1 is = 1.23634168427e+15\n",
      "\n",
      " The threshold wavelength in Angstroms is = 2426.51367187\n",
      "\n",
      " The energy of photoelectrone in eV is = 3.911875\n"
     ]
    }
   ],
   "source": [
    "#cal of elelectric field and force\n",
    "#intiation of all variables\n",
    "# Chapter 1\n",
    "print\"Example 1.7, Page:10  \\n \\n\"\n",
    "\n",
    "#Given:\n",
    "\n",
    "E=5.12*1.6*10**-19# energy in J\n",
    "h=6.626*10**-34\n",
    "c=3*10**8\n",
    "wavelength=200*10**-9\n",
    "w=2.3# in eV\n",
    "\n",
    "#solution:\n",
    "\n",
    "tf=E/h# (part a)\n",
    "print\"\\n The threshold frequency in s^-1 is =\",tf\n",
    "\n",
    "tl=c/tf*10**10# (part b)\n",
    "print\"\\n The threshold wavelength in Angstroms is =\",tl\n",
    "\n",
    "e=(h*c)/(wavelength*1.6*10**-19)# photon energy in eV (part c)\n",
    "\n",
    "pe=e-w\n",
    "\n",
    "print\"\\n The energy of photoelectrone in eV is =\",pe\n"
   ]
  },
  {
   "cell_type": "markdown",
   "metadata": {},
   "source": [
    "##example 1.8"
   ]
  },
  {
   "cell_type": "code",
   "execution_count": 30,
   "metadata": {
    "collapsed": false
   },
   "outputs": [
    {
     "name": "stdout",
     "output_type": "stream",
     "text": [
      "Example 1.8, Page:10  \n",
      " \n",
      "\n",
      "\n",
      " The velocity of alpha particles for 1 MeV in m/s is = 6941056.08394\n",
      "\n",
      " The velocity of alpha particles for 2 MeV in m/s is = 9816135.6511\n",
      "\n",
      " The velocity of deuteron particles for 1 MeV in m/s is = 9816135.6511\n",
      "\n",
      " The velocity of deuteron particles for 2 MeV in m/s is = 13882112.1679\n",
      "\n",
      " The velocity of proton particles for 1 MeV in m/s is = 13882112.1679\n",
      "\n",
      " The velocity of proton particles for 2 MeV in m/s is = 19632271.3022\n"
     ]
    }
   ],
   "source": [
    "#cal of velocity of alpha particles,deuteron,proton\n",
    "#intiation of all variables\n",
    "# Chapter 1\n",
    "print\"Example 1.8, Page:10  \\n \\n\"\n",
    "#Given:\n",
    "e1=1 # in MeV\n",
    "e2=2 # in MeV\n",
    "ma=4 # in u(amu)\n",
    "md=2 # in u(amu)\n",
    "mp=1 # in u(amu)\n",
    "\n",
    "# 1u = 1.6*10^-27 Kg\n",
    "\n",
    "#solution: part a)For alpha particles\n",
    "\n",
    "v1a=((2*e1*10**6*1.6*10**-19)/(ma*1.6605*10**-27))**.5\n",
    "print\"\\n The velocity of alpha particles for 1 MeV in m/s is =\",v1a# For 1 MeV\n",
    "\n",
    "v2a=((2*e2*10**6*1.6*10**-19)/(ma*1.6605*10**-27))**.5\n",
    "print\"\\n The velocity of alpha particles for 2 MeV in m/s is =\",v2a# For 2 MeV\n",
    "\n",
    "#solution: part b)For deuteron particles\n",
    "\n",
    "v1b=((2*e1*10**6*1.6*10**-19)/(md*1.6605*10**-27))**.5\n",
    "print\"\\n The velocity of deuteron particles for 1 MeV in m/s is =\",v1b # For 1 MeV\n",
    "\n",
    "\n",
    "v2b=((2*e2*10**6*1.6*10**-19)/(md*1.6605*10**-27))**.5\n",
    "print\"\\n The velocity of deuteron particles for 2 MeV in m/s is =\",v2b # For 2 MeV\n",
    "\n",
    "#solution: part c)For proton particles\n",
    "\n",
    "v1p=((2*e1*10**6*1.6*10**-19)/(mp*1.6605*10**-27))**.5\n",
    "print\"\\n The velocity of proton particles for 1 MeV in m/s is =\",v1p # For 1 MeV\n",
    "\n",
    "\n",
    "v2p=((2*e2*10**6*1.6*10**-19)/(mp*1.6605*10**-27))**.5\n",
    "print\"\\n The velocity of proton particles for 2 MeV in m/s is =\",v2p # For 2 MeV\n"
   ]
  },
  {
   "cell_type": "markdown",
   "metadata": {},
   "source": [
    "##example 1.9"
   ]
  },
  {
   "cell_type": "code",
   "execution_count": 1,
   "metadata": {
    "collapsed": false
   },
   "outputs": [
    {
     "name": "stdout",
     "output_type": "stream",
     "text": [
      "Example 1.9, Page:10  \n",
      " \n",
      "\n",
      "The energy in MeV is = 933.919973435\n"
     ]
    }
   ],
   "source": [
    "#cal of The energy\n",
    "#intiation of all variables\n",
    "# Chapter 1\n",
    "print\"Example 1.9, Page:10  \\n \\n\"\n",
    "#Given:\n",
    "\n",
    "m=1/(6.023*10**23)#mass of 1 atom in g\n",
    "m1=m*10**-3#mass of 1 atom in Kg\n",
    "c=3*10**8# velocity in m/s\n",
    "#solution:\n",
    "\n",
    "e=m1*c*c; # energy in J\n",
    "e1=e/(1.6*10**-13)# energy in MeV\n",
    "\n",
    "print\"The energy in MeV is =\",e1\n"
   ]
  },
  {
   "cell_type": "markdown",
   "metadata": {},
   "source": [
    "##example 1.10"
   ]
  },
  {
   "cell_type": "code",
   "execution_count": 31,
   "metadata": {
    "collapsed": false
   },
   "outputs": [
    {
     "name": "stdout",
     "output_type": "stream",
     "text": [
      "Example 1.1, Page:11  \n",
      " \n",
      "\n",
      "The energy in eV is = 13.2638658253\n"
     ]
    }
   ],
   "source": [
    "#cal of The energy\n",
    "#intiation of all variables\n",
    "# Chapter 1\n",
    "print\"Example 1.1, Page:11  \\n \\n\"\n",
    "#Given:\n",
    "\n",
    "enthalpy=1278 # enthalpy of combustion in kJ/mol\n",
    "\n",
    "#solution:\n",
    "\n",
    "energy=(enthalpy*1000)/(6.022*10**23*1.6*10**-19)\n",
    "\n",
    "print\"The energy in eV is =\",energy\n"
   ]
  },
  {
   "cell_type": "markdown",
   "metadata": {},
   "source": [
    "##example 1.11"
   ]
  },
  {
   "cell_type": "code",
   "execution_count": 32,
   "metadata": {
    "collapsed": false
   },
   "outputs": [
    {
     "name": "stdout",
     "output_type": "stream",
     "text": [
      "Example 1.11, Page:11  \n",
      " \n",
      "\n",
      "\n",
      " The mean binding energy of helium atom in MeV is = 7.0710038475\n",
      "\n",
      " The mean binding energy of oxygen atom in MeV is = 7.9800498909\n"
     ]
    }
   ],
   "source": [
    "#cal of mean binding energy of helium and oxygen\n",
    "#intiation of all variables\n",
    "# Chapter 1\n",
    "print\"Example 1.11, Page:11  \\n \\n\"\n",
    "#Given:\n",
    "mh=1.0078\n",
    "mn=1.0087\n",
    "ma=4.0026\n",
    "mo=15.9949\n",
    "Ah=4.0026 # atomic mass of helium\n",
    "Ao=15.9949 # atomic mass of oxygen\n",
    "\n",
    "#solution:\n",
    "\n",
    "# part (a)\n",
    "\n",
    "B1=(2*mh+2*mn-ma)*931 # in MeV\n",
    "Bh=B1/Ah\n",
    "print\"\\n The mean binding energy of helium atom in MeV is =\",Bh\n",
    "\n",
    "# part (b)\n",
    "\n",
    "B2=(8*mh+8*mn-mo)*931 # in MeV\n",
    "Bo=B2/Ao\n",
    "print\"\\n The mean binding energy of oxygen atom in MeV is =\",Bo\n"
   ]
  },
  {
   "cell_type": "markdown",
   "metadata": {},
   "source": [
    "##example 1.12"
   ]
  },
  {
   "cell_type": "code",
   "execution_count": 33,
   "metadata": {
    "collapsed": false
   },
   "outputs": [
    {
     "name": "stdout",
     "output_type": "stream",
     "text": [
      "Example 1.12, Page:12  \n",
      " \n",
      "\n",
      "\n",
      " The mean binding energy of Be atom in MeV is = 7.05928572321\n",
      "From previous problem we have the avg. binding energy of helium atom is 7.08 MeV, Hence Be is unstable to fission into 2 alphas\n"
     ]
    }
   ],
   "source": [
    "#cal of \n",
    "#intiation of all variables\n",
    "# Chapter 1\n",
    "print\"Example 1.12, Page:12  \\n \\n\"\n",
    "#Given:\n",
    "mh=1.0078;\n",
    "mn=1.0087;\n",
    "ABe=8.0053; # atomic mass of beryllium\n",
    "\n",
    "#solution:\n",
    "\n",
    "B1=(4*mh+4*mn-ABe)*931; # in MeV\n",
    "Bh=B1/ABe;\n",
    "print\"\\n The mean binding energy of Be atom in MeV is =\",Bh\n",
    "\n",
    "print\"From previous problem we have the avg. binding energy of helium atom is 7.08 MeV, Hence Be is unstable to fission into 2 alphas\"\n"
   ]
  },
  {
   "cell_type": "markdown",
   "metadata": {},
   "source": [
    "##example 1.13"
   ]
  },
  {
   "cell_type": "code",
   "execution_count": 34,
   "metadata": {
    "collapsed": false
   },
   "outputs": [
    {
     "name": "stdout",
     "output_type": "stream",
     "text": [
      "Example 1.13, Page:12  \n",
      " \n",
      "\n",
      "\n",
      " The amount of coal required in Kg is = 2499.85671416\n"
     ]
    }
   ],
   "source": [
    "#cal of amount of coal\n",
    "#intiation of all variables\n",
    "# Chapter 1\n",
    "print\"Example 1.13, Page:12  \\n \\n\"\n",
    "#Given:\n",
    "\n",
    "e=200; # in Mev\n",
    "m=0.235; # weight of uranium atom in Kg\n",
    "enthalpy=393.5; # in KJ/mol\n",
    "Na=6.02*10**23;\n",
    "\n",
    "\n",
    "#solution:\n",
    "e1=e*1.6*10**-19*10**6;\n",
    "atoms=Na/m;\n",
    "e2=atoms*e1;#energy released in J\n",
    "m1=(e2*12)/(393.5*1000*1000);# in Kg\n",
    "m2=m1/1000;# in tons\n",
    "print\"\\n The amount of coal required in Kg is =\", m2\n"
   ]
  },
  {
   "cell_type": "markdown",
   "metadata": {},
   "source": [
    "##example 1.14"
   ]
  },
  {
   "cell_type": "code",
   "execution_count": 35,
   "metadata": {
    "collapsed": false
   },
   "outputs": [
    {
     "name": "stdout",
     "output_type": "stream",
     "text": [
      "Example 1.14, Page:13  \n",
      " \n",
      "\n",
      "\n",
      " The energy release in part (a) in eV/molecule is = 2.51472\n",
      "\n",
      " The energy release in part (b) in eV/molecule is = 9.22688\n"
     ]
    }
   ],
   "source": [
    "#cal of The energy releases\n",
    "#intiation of all variables\n",
    "# Chapter 1\n",
    "print\"Example 1.14, Page:13  \\n \\n\"\n",
    "#Given:\n",
    "H1=241.8; # in KJ/mol\n",
    "H2=887.2; # in KJ/mol\n",
    "# 1 KJ/mol = 0.0104 eV/atom\n",
    "\n",
    "#solution: part (a)\n",
    "e1=H1*0.0104;\n",
    "print\"\\n The energy release in part (a) in eV/molecule is =\",e1\n",
    "\n",
    "#solution: part (b)\n",
    "e2=H2*0.0104;\n",
    "print\"\\n The energy release in part (b) in eV/molecule is =\",e2\n",
    "\n"
   ]
  },
  {
   "cell_type": "markdown",
   "metadata": {},
   "source": [
    "##example 1.15"
   ]
  },
  {
   "cell_type": "code",
   "execution_count": 36,
   "metadata": {
    "collapsed": false
   },
   "outputs": [
    {
     "name": "stdout",
     "output_type": "stream",
     "text": [
      "Example 1.15, Page:14  \n",
      " \n",
      "\n",
      "\n",
      " The energy release in part (a) in KJ/mol of carbondioxide is = 394.912\n",
      "\n",
      " The energy release in part (b) in KJ/mol of alumina is = 1675.968\n",
      "\n",
      " The energy release in part (c) in MJ/atom of U(235) is = 19264000.0\n"
     ]
    }
   ],
   "source": [
    "#cal of The energy releases\n",
    "#intiation of all variables\n",
    "# Chapter 1\n",
    "print\"Example 1.15, Page:14  \\n \\n\"\n",
    "#Given:\n",
    "H1=4.1; # in eV/molecule\n",
    "H2=17.4; # in eV/molecule\n",
    "H3=200;# in MeV/atom of U\n",
    "\n",
    "# 1 eV/atom  = 96.32 KJ/mol\n",
    "\n",
    "#solution: part (a)\n",
    "e1=H1*96.32;\n",
    "print\"\\n The energy release in part (a) in KJ/mol of carbondioxide is =\",e1\n",
    "\n",
    "#solution: part (b)\n",
    "e2=H2*96.32;\n",
    "print\"\\n The energy release in part (b) in KJ/mol of alumina is =\",e2\n",
    "\n",
    "#solution: part (c)\n",
    "e3=H3*1000*96.32;# in MJ/atom of U(235)\n",
    "print\"\\n The energy release in part (c) in MJ/atom of U(235) is =\",e3\n"
   ]
  },
  {
   "cell_type": "markdown",
   "metadata": {},
   "source": [
    "##example 1.16"
   ]
  },
  {
   "cell_type": "code",
   "execution_count": 37,
   "metadata": {
    "collapsed": false
   },
   "outputs": [
    {
     "name": "stdout",
     "output_type": "stream",
     "text": [
      "Example 1.16, Page:15  \n",
      " \n",
      "\n",
      "\n",
      " The rate of energy release in W is  949251379.039\n"
     ]
    }
   ],
   "source": [
    "#cal of The rate of energy release\n",
    "#intiation of all variables\n",
    "# Chapter 1\n",
    "print\"Example 1.16, Page:15  \\n \\n\"\n",
    "#Given:\n",
    "e=200; #MeV/ atom of U\n",
    "# 1 eV = 1.6*10^-19 J\n",
    "Na=6.023*10**23;\n",
    "M=0.235; # mass in Kg\n",
    "\n",
    "#solution:\n",
    "\n",
    "e1=e*1.6*10**-19*10**6;\n",
    "A=Na/M;\n",
    "e2=A*e1; # energy released in MJ/day\n",
    "e3=e2/(24*3600);\n",
    "print\"\\n The rate of energy release in W is \",e3\n",
    "\n",
    "\n",
    "\n",
    "\n"
   ]
  },
  {
   "cell_type": "markdown",
   "metadata": {},
   "source": [
    "##example 1.17"
   ]
  },
  {
   "cell_type": "code",
   "execution_count": 38,
   "metadata": {
    "collapsed": false
   },
   "outputs": [
    {
     "name": "stdout",
     "output_type": "stream",
     "text": [
      "Example 1.17, Page:16  \n",
      " \n",
      "\n",
      "\n",
      " The mass loss in 10^-27 Kg/He formed is = 0.046412244898\n"
     ]
    }
   ],
   "source": [
    "#cal of The mass loss\n",
    "#intiation of all variables\n",
    "# Chapter 1\n",
    "print\"Example 1.17, Page:16  \\n \\n\"\n",
    "#Given:\n",
    "e=26.03; # in MeV\n",
    "\n",
    "#solution:\n",
    "\n",
    "loss=e/931; #in atomic mass units (u)\n",
    "# 1 u = 1.66*10^-27 Kg\n",
    "m=(loss*1.66*10**-27)/(1*10**-27);\n",
    "print\"\\n The mass loss in 10^-27 Kg/He formed is =\",m\n",
    "\n",
    "\n"
   ]
  },
  {
   "cell_type": "markdown",
   "metadata": {},
   "source": [
    "##example 1.18"
   ]
  },
  {
   "cell_type": "code",
   "execution_count": 39,
   "metadata": {
    "collapsed": false
   },
   "outputs": [
    {
     "name": "stdout",
     "output_type": "stream",
     "text": [
      "Example 1.18, Page:17  \n",
      " \n",
      "\n",
      "\n",
      " The energy loss in MeV is = 4.03123\n"
     ]
    }
   ],
   "source": [
    "#cal of The energy loss\n",
    "#intiation of all variables\n",
    "# Chapter 1\n",
    "print\"Example 1.18, Page:17  \\n \\n\"\n",
    "#Given:\n",
    "mh=1.007825;\n",
    "mt=3.016049;\n",
    "md=2.014102;\n",
    "\n",
    "#solution:\n",
    "\n",
    "m1=(mh+mt-2*md);\n",
    "e=(-m1)*931; # in MeV\n",
    "print\"\\n The energy loss in MeV is =\",e\n"
   ]
  },
  {
   "cell_type": "markdown",
   "metadata": {},
   "source": [
    "##example 1.19"
   ]
  },
  {
   "cell_type": "code",
   "execution_count": 40,
   "metadata": {
    "collapsed": false
   },
   "outputs": [
    {
     "name": "stdout",
     "output_type": "stream",
     "text": [
      "Example 1.19, Page:18  \n",
      " \n",
      "\n",
      "\n",
      " The mean binding energy of tritium atom in MeV is = 2.81085817903\n",
      "\n",
      " The mean binding energy of nickel atom in MeV is = 8.71580311296\n"
     ]
    }
   ],
   "source": [
    "#cal of  mean binding energy of tritium and nickel atom\n",
    "#intiation of all variables\n",
    "# Chapter 1\n",
    "print\"Example 1.19, Page:18  \\n \\n\"\n",
    "#Given:\n",
    "mh=1.007825;\n",
    "mn=1.008665;\n",
    "mt=3.016049; # atomic mass of Tritium\n",
    "mNi=59.93528; # atomic mass of Nickel\n",
    "\n",
    "#solution:\n",
    "\n",
    "# part (a)\n",
    "\n",
    "B1=(1*mh+2*mn-mt)*931; # in MeV\n",
    "Bh=B1/mt;\n",
    "print\"\\n The mean binding energy of tritium atom in MeV is =\",Bh\n",
    "\n",
    "# part (b)\n",
    "\n",
    "B2=(28*mh+32*mn-mNi)*931; # in MeV\n",
    "Bo=B2/mNi;\n",
    "print\"\\n The mean binding energy of nickel atom in MeV is =\",Bo\n"
   ]
  },
  {
   "cell_type": "markdown",
   "metadata": {},
   "source": [
    "##example 1.20"
   ]
  },
  {
   "cell_type": "code",
   "execution_count": 41,
   "metadata": {
    "collapsed": false
   },
   "outputs": [
    {
     "name": "stdout",
     "output_type": "stream",
     "text": [
      "Example 1.20, Page:19  \n",
      " \n",
      "\n",
      "\n",
      " The mean binding energy of Cl (35) atom in MeV is = 8.52810201079\n",
      "\n",
      " The mean binding energy of Cl (37) atom in MeV is = 8.57839008383\n",
      "\n",
      " The increase in mean binding energy of Cl atom in MeV is = 0.0502880730447\n"
     ]
    }
   ],
   "source": [
    "#cal of mean binding energy of Cl\n",
    "#intiation of all variables\n",
    "# Chapter 1\n",
    "print\"Example 1.20, Page:19  \\n \\n\"\n",
    "#Given:\n",
    "mh=1.00783;\n",
    "mn=1.00867;\n",
    "m35=34.96885; # atomic mass of Cl (35)\n",
    "m37=36.96590; # atomic mass of Cl (37)\n",
    "\n",
    "#solution:\n",
    "\n",
    "B1=(17*mh+18*mn-m35)*931; # in MeV\n",
    "Bh=B1/m35;\n",
    "print\"\\n The mean binding energy of Cl (35) atom in MeV is =\",Bh\n",
    "\n",
    "B2=(17*mh+20*mn-m37)*931; # in MeV\n",
    "Bo=B2/m37;\n",
    "print\"\\n The mean binding energy of Cl (37) atom in MeV is =\",Bo\n",
    "\n",
    "Bi=Bo-Bh;\n",
    "print\"\\n The increase in mean binding energy of Cl atom in MeV is =\",Bi\n",
    "\n",
    "# NOTE: The answer depends upon how much precise value you take for atomic masses.\n"
   ]
  },
  {
   "cell_type": "markdown",
   "metadata": {},
   "source": [
    "##example 1.21"
   ]
  },
  {
   "cell_type": "code",
   "execution_count": 42,
   "metadata": {
    "collapsed": false
   },
   "outputs": [
    {
     "name": "stdout",
     "output_type": "stream",
     "text": [
      "Example 1.21, Page:20  \n",
      " \n",
      "\n",
      "\n",
      " The mean binding energy of Na(22) in MeV is = 7.92358978299\n",
      "\n",
      " The mean binding energy of Na(23)in MeV is = 8.11544250059\n",
      "\n",
      " The mean binding energy of Na(24) in MeV is = 8.07172719656\n"
     ]
    }
   ],
   "source": [
    "#cal of mean binding energy of Na\n",
    "#intiation of all variables\n",
    "# Chapter 1\n",
    "print\"Example 1.21, Page:20  \\n \\n\"\n",
    "#Given:\n",
    "mh=1.0078;\n",
    "mn=1.0087;\n",
    "m22=21.99431;# atomic mass of Na 22\n",
    "m23=22.9898;# atomic mass of Na 23\n",
    "m24=23.9909;# atomic mass of Na 24\n",
    "\n",
    "#solution:\n",
    "\n",
    "# part (a)\n",
    "\n",
    "B1=((11*mh+11*mn)-m22)*931; # in MeV\n",
    "Bh=B1/m22;\n",
    "print\"\\n The mean binding energy of Na(22) in MeV is =\",Bh\n",
    "\n",
    "# part (b)\n",
    "\n",
    "B2=((11*mh+12*mn)-m23)*931; # in MeV\n",
    "Bo=B2/m23;\n",
    "print\"\\n The mean binding energy of Na(23)in MeV is =\",Bo\n",
    "\n",
    "# part (c)\n",
    "\n",
    "B3=((11*mh+13*mn)-m24)*931; # in MeV\n",
    "Bs=B3/m24;\n",
    "print\"\\n The mean binding energy of Na(24) in MeV is =\",Bs\n"
   ]
  },
  {
   "cell_type": "code",
   "execution_count": null,
   "metadata": {
    "collapsed": true
   },
   "outputs": [],
   "source": []
  }
 ],
 "metadata": {
  "kernelspec": {
   "display_name": "Python 2",
   "language": "python",
   "name": "python2"
  },
  "language_info": {
   "codemirror_mode": {
    "name": "ipython",
    "version": 2
   },
   "file_extension": ".py",
   "mimetype": "text/x-python",
   "name": "python",
   "nbconvert_exporter": "python",
   "pygments_lexer": "ipython2",
   "version": "2.7.9"
  }
 },
 "nbformat": 4,
 "nbformat_minor": 0
}
