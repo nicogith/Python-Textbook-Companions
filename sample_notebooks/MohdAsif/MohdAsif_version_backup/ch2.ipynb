{
 "metadata": {
  "name": "",
  "signature": ""
 },
 "nbformat": 3,
 "nbformat_minor": 0,
 "worksheets": [
  {
   "cells": [
    {
     "cell_type": "heading",
     "level": 1,
     "metadata": {},
     "source": [
      "Chapter 2 Casting Processes"
     ]
    },
    {
     "cell_type": "heading",
     "level": 2,
     "metadata": {},
     "source": [
      "Problem 2.1 on page no. 46"
     ]
    },
    {
     "cell_type": "code",
     "collapsed": false,
     "input": [
      "from numpy import sqrt\n",
      "# Given that\n",
      "h=15 # Height of spur in cm\n",
      "l= 50 # Length of cast in cm\n",
      "w= 25 # weidth of cast in cm\n",
      "h1= 15 # Height of cast in cm\n",
      "g= 981 # Acceleration due to gravity in cm/sec**2\n",
      "Ag= 5 # Cross sectional area of the grate in cm**2\n",
      "v3= sqrt(2* g * h)\n",
      "V = l*w*h1\n",
      "tf1= V/(Ag*v3)\n",
      "Am = l*w\n",
      "tf2 = (Am/Ag)*(1/sqrt(2*g))*2*(sqrt(h) - sqrt(h-h1))\n",
      "print \" Filling time for first design = %f sec, \\n Filling time for second design = %f sec\"% (tf1, tf2)"
     ],
     "language": "python",
     "metadata": {},
     "outputs": [
      {
       "output_type": "stream",
       "stream": "stdout",
       "text": [
        " Filling time for first design = 21.859294 sec, \n",
        " Filling time for second design = 43.718589 sec\n"
       ]
      }
     ],
     "prompt_number": 34
    },
    {
     "cell_type": "heading",
     "level": 2,
     "metadata": {},
     "source": [
      "Problem 2 on page no. 53"
     ]
    },
    {
     "cell_type": "code",
     "collapsed": false,
     "input": [
      "from numpy import pi, sqrt\n",
      "# Given that\n",
      "h=15 # Height of spur in cm\n",
      "l= 50 # Length of cast in cm\n",
      "w= 25 # weidth of cast in cm\n",
      "h1= 15 # Height of cast in cm\n",
      "g= 981 # Acceleration due to gravity in cm/sec**2\n",
      "Ag= 5 # Cross sectional area of the grate in cm**2\n",
      "Dm = 7800 # Density of molten Fe in Kg/m**3\n",
      "Neta = 0.00496 # Kinetic viscosity in Kg/m-sec\n",
      "theta = 90 # Angle in degree\n",
      "Eq = 25 # (L/D) Equivalent \n",
      "v3= sqrt(2* g * h)*(10**(-2))\n",
      "d= sqrt((Ag*4)/(pi))*(10**(-2))\n",
      "Re = Dm*v3*d/Neta\n",
      "f = 0.0791*(Re)**(-1/4)\n",
      "L=0.12 # in meter\n",
      "Cd= (1+0.45+4*f*((L/d)+Eq))**(-1/2)\n",
      "v3_ = Cd*v3\n",
      "Re_ = (v3_/v3)*(Re)\n",
      "f_ = 0.0791 *(Re_)**(-1/4)\n",
      "Cd_ = (1+0.46+4*f_*(L/d + Eq))**(-1/2)\n",
      "v3__ = Cd_*v3\n",
      "V = l*w*h1\n",
      "tf= (V/(Ag*v3__))*(10**-2)\n",
      "print \" Filling time for first design = %f sec. \"% tf "
     ],
     "language": "python",
     "metadata": {},
     "outputs": [
      {
       "output_type": "stream",
       "stream": "stdout",
       "text": [
        " Filling time for first design = 31.918954 sec. \n"
       ]
      }
     ],
     "prompt_number": 35
    },
    {
     "cell_type": "heading",
     "level": 2,
     "metadata": {},
     "source": [
      "Problem  on page no. 56"
     ]
    },
    {
     "cell_type": "code",
     "collapsed": false,
     "input": [
      "# Given that\n",
      "Hi=1.2 # Initial height in m\n",
      "H= 0.05 # Height in m\n",
      "g= 9.81 # Acceleration due to gravity in m/sec**2\n",
      "Dm = 2700 # Density of molten metal in Kg/m**3\n",
      "Neta = 0.00273 # Kinetic viscosity in Kg/m-sec \n",
      "d= 0.075 # Diameter in m\n",
      "D = 1 # Internal diameter of ladle in m\n",
      "v3= sqrt(2* g * Hi)\n",
      "Re = Dm*v3*d/Neta\n",
      "ef=0.075\n",
      "Cd= (1+ef)**(-1/2)\n",
      "ef_=0.82\n",
      "Re_ = (2+ef_)**(-1/2)\n",
      "v3_ = sqrt(2*g*H)\n",
      "Re_ = Dm*v3_*d/Neta\n",
      "At = (pi/4)*D**2\n",
      "An = (pi/4)*d**2\n",
      "Cd= 0.96\n",
      "tf= (sqrt(2/g))*(At/An)*(1/Cd)*sqrt(Hi)\n",
      "m = Dm*An*Cd*sqrt(2*g*Hi)\n",
      "m_ = Dm*An*Cd*sqrt(2*g*Hi*0.25)\n",
      "print \"\"\"Time required to empty the ladle = %f sec,\n",
      "Discharge rate are -\n",
      "Initially = %f Kg/sec \n",
      "When the ladle is 75 percent empty = %f Kg/sec. \"\"\"%(tf,m,m_)"
     ],
     "language": "python",
     "metadata": {},
     "outputs": [
      {
       "output_type": "stream",
       "stream": "stdout",
       "text": [
        "Time required to empty the ladle = 91.596179 sec,\n",
        "Discharge rate are -\n",
        "Initially = 55.563236 Kg/sec \n",
        "When the ladle is 75 percent empty = 27.781618 Kg/sec. \n"
       ]
      }
     ],
     "prompt_number": 36
    },
    {
     "cell_type": "heading",
     "level": 2,
     "metadata": {},
     "source": [
      "Problem 5 on page no. 66"
     ]
    },
    {
     "cell_type": "code",
     "collapsed": false,
     "input": [
      "from sympy import symbols, solve\n",
      "# Given that\n",
      "thetaF= 1540 # Temperature of mould face in degree centigrade\n",
      "Theta0 = 28 # Initial temperature of mould in Degree centigrade\n",
      "L= 272e3 # Latent heat of liquid metal in J/Kg\n",
      "Dm = 7850 # Density of liquid metal in Kg/m**3\n",
      "c = 1.17e+3 #Specific heat of sand in J/Kg-K\n",
      "k = 0.8655 # Conductivity of sand in W/m-K\n",
      "D= 1600 # Density of sand in Kg/m**3\n",
      "h = 0.1 # Height in m\n",
      "b = 10 # Thickness of slab in cm\n",
      "r =h/2# V/A in meter\n",
      "lamda = (thetaF - Theta0)*(D*c)/(Dm*L)\n",
      "Beta1 = 2*lamda/sqrt(pi)\n",
      "Alpha = k /(D*c)\n",
      "ts1 = r**2 /((Beta1**2)*Alpha)#In sec\n",
      "ts1_=ts1/3600 # In hour\n",
      "Beta= symbols('Beta') \n",
      "p=Beta**2 - lamda*(2/sqrt(pi))*Beta -lamda/3\n",
      "Beta2 = solve(p)[0]\n",
      "print \"The value of Beta2 is %f \"%Beta2\n",
      "print \"We only take the positive value of Beta2 ,\\nHence Beta2=1.75\" \n",
      "r1 = r/3\n",
      "ts2 = (r1**2)/((1.75**2)*Alpha) # in sec\n",
      "ts2_=ts2/3600#in Hour\n",
      "print \"Solidification time for slab-shaped casting = %f hr,\\nSolidification time for sphere = %f hr\"%(ts1_,ts2_)"
     ],
     "language": "python",
     "metadata": {},
     "outputs": [
      {
       "output_type": "stream",
       "stream": "stdout",
       "text": [
        "The value of Beta2 is -0.252713 \n",
        "We only take the positive value of Beta2 ,\n",
        "Hence Beta2=1.75\n",
        "Solidification time for slab-shaped casting = 0.671318 hr,\n",
        "Solidification time for sphere = 0.054495 hr\n"
       ]
      }
     ],
     "prompt_number": 37
    },
    {
     "cell_type": "heading",
     "level": 2,
     "metadata": {},
     "source": [
      "Problem 7 on page no. 75"
     ]
    },
    {
     "cell_type": "code",
     "collapsed": false,
     "input": [
      "# Given that\n",
      "thetaF= 1540 # Temperature of mould face in degree centigrade\n",
      "thetaO = 28 # Initial temperature of mould in Degree centigrade\n",
      "L= 272e3 # Latent heat of iron in J/Kg\n",
      "Dm = 7850 # Density of iron in Kg/m**3\n",
      "Cs = 0.67e+3 #Specific heat of iron in J/Kg-K\n",
      "C = 0.376e3 #Specific heat of copper in J/Kg-K\n",
      "Ks = 83 # Conductivity of iron in W/m-K\n",
      "K = 398 # Conductivity of copper in W/m-K\n",
      "D= 8960 # Density of copper in Kg/m**3\n",
      "h = .1 # Height in m\n",
      "hF = 1420 # Total heat transfer coefficient across the casting-mould interface in W/m**2-\u00b0C\n",
      "AlphaS = K /(D*C)\n",
      "thetaS = 982 #In \u00b0C as in example 2.6\n",
      "h1= (1+(sqrt((Ks*Dm*Cs)/(K*D*C))))*hF\n",
      "a = 1/2 + (sqrt((1/4)+Cs*(thetaF-thetaS)/(3*L)))\n",
      "delta=h/2\n",
      "ts = (delta+((h1*delta**2)/(2*Ks)))/((h1*(thetaF-thetaS))/(Dm*L*a)) # in sec\n",
      "ts_ = ts/3600 # in hours\n",
      "h2= (1+(sqrt((K*D*C)/(Ks*Dm*Cs))))*hF\n",
      "gama= ((h2**2)/(K**2))*AlphaS*ts\n",
      "thetaS_ = thetaO + (thetaS-thetaO)*(1-((exp(gama))))\n",
      "print \" Solidification time = %f hr,\\n The surface temperature of the mould = %f \u00b0 C\"%(ts_,thetaS_)\n",
      "# The value of the surface temperature of the mould in the book is given as 658.1\u00b0 C, Which is wrong."
     ],
     "language": "python",
     "metadata": {},
     "outputs": [
      {
       "output_type": "stream",
       "stream": "stdout",
       "text": [
        " Solidification time = 0.026965 hr,\n",
        " The surface temperature of the mould = -1901.439242 \u00b0 C\n"
       ]
      }
     ],
     "prompt_number": 38
    },
    {
     "cell_type": "heading",
     "level": 2,
     "metadata": {},
     "source": [
      "Problem 8 on page no. 77"
     ]
    },
    {
     "cell_type": "code",
     "collapsed": false,
     "input": [
      "# Given that\n",
      "A= 60*7.5 # Cross sectional area in cm**2\n",
      "v=0.05 # Withdrawal rate in m/sec\n",
      "t = 0.0125 # Thickness in m\n",
      "thetaF= 1500 # Temperature of mould face in degree centigrate\n",
      "thetaP = 1550 # \n",
      "thetaO = 20 # Initial temperature of mould in Degree centigrate\n",
      "L= 268e3 # Latent heat of molten metal in J/Kg\n",
      "Dm = 7680 # Density of molten metal in Kg/m**3\n",
      "Cs = 0.67e+3 #Specific heat of molten metal in J/Kg-K\n",
      "Cm = 0.755e3 #Specific heat of mould in J/Kg-K\n",
      "Ks = 76 # Conductivity of molten metal in W/m-K\n",
      "hF = 1420 # Heat transfer coefficient at the casting-mould interface in W/m**2-\u00b0C\n",
      "Dtheta = 10 # Maximum temperature of cooling water in \u00b0 C\n",
      "L_ = L+Cm*(thetaP-thetaF)\n",
      "x=L_ / (Cs*(thetaF-thetaO))\n",
      "y= hF*t/Ks\n",
      "print \"L_/(Cs(thetaF-thetaO)) = %f,\\nhF*t/Ks = %f\"%(x,y)\n",
      "z=0.11 # Where z=hF**2 * lm / (v*Ks*Dm*Cs)\n",
      "lm= (z*v*Ks*Dm*Cs)/(hF**2)\n",
      "Z=0.28 # Where Z=Q/(lm*(thetaF-thetaO)*sqrt(lm*v*Dm*Cs*Ks))\n",
      "Q = Z*lm*(thetaF-thetaO)*sqrt(lm*v*Dm*Cs*Ks)\n",
      "m = Q / (4.2e3*Dtheta)\n",
      "print \"The mould length = %f meter,\\nThe cooling water requirement = %f Kg/sec\"%(lm,m)\n",
      "# Answer for The cooling water requirement in the book is given as 5.05 Kg/sec, Which is wrong."
     ],
     "language": "python",
     "metadata": {},
     "outputs": [
      {
       "output_type": "stream",
       "stream": "stdout",
       "text": [
        "L_/(Cs(thetaF-thetaO)) = 0.308340,\n",
        "hF*t/Ks = 0.233553\n",
        "The mould length = 1.066684 meter,\n",
        "The cooling water requirement = 48.065525 Kg/sec\n"
       ]
      }
     ],
     "prompt_number": 39
    },
    {
     "cell_type": "heading",
     "level": 2,
     "metadata": {},
     "source": [
      "Problem 9 on page no. 81"
     ]
    },
    {
     "cell_type": "code",
     "collapsed": false,
     "input": [
      "from numpy import floor\n",
      "# Given that\n",
      "a = 15 # Side of the aluminium cube in cm\n",
      "Sh = 0.065 # Volume shrinkage of aluminium during solidification\n",
      "Vc = a**3\n",
      "Vr = 3*Sh*Vc\n",
      "h = ((4*Vr)/pi)**(1/3)\n",
      "Rr = 6.0/h # Where Rr= (A/V)r\n",
      "Rc = 6.0/a # Where Rc = (A/V)c\n",
      "print \"(A/V)r=%f, (A/V)c=%f\\n Hence Rr is greater than Rc\"%(Rr,Rc)\n",
      "dmin = 6.0/Rc\n",
      "Vr_ = (pi/4)*dmin**3\n",
      "print \"\"\" With minimum value of d Vr=%d cm**3 .\n",
      "This valume is much more than the minimum Vr necessary. \n",
      "Let us now consider the top riser when the optimum cylindrical shape is obtained with h=d/2 \n",
      "and again (A/V)r = 6/d. However, with a large top riser,\\n the cube loses its top surface for the purpose of heat dissipation.\"\"\"%Vr_\n",
      "Rc_ = 5.0/a\n",
      "dmin_=6.0/Rc_\n",
      "print \" d should be greater than or equal to %d cm\"%dmin_\n",
      "Vr__ = (pi/4)*dmin_**2 *floor(h)\n",
      "print \" The riser volume with minimum diameter is %d cm**3\"%Vr__"
     ],
     "language": "python",
     "metadata": {},
     "outputs": [
      {
       "output_type": "stream",
       "stream": "stdout",
       "text": [
        "(A/V)r=6.000000, (A/V)c=0.400000\n",
        " Hence Rr is greater than Rc\n",
        " With minimum value of d Vr=2650 cm**3 .\n",
        "This valume is much more than the minimum Vr necessary. \n",
        "Let us now consider the top riser when the optimum cylindrical shape is obtained with h=d/2 \n",
        "and again (A/V)r = 6/d. However, with a large top riser,\n",
        " the cube loses its top surface for the purpose of heat dissipation.\n",
        " d should be greater than or equal to 18 cm\n",
        " The riser volume with minimum diameter is 254 cm**3\n"
       ]
      }
     ],
     "prompt_number": 40
    }
   ],
   "metadata": {}
  }
 ]
}
