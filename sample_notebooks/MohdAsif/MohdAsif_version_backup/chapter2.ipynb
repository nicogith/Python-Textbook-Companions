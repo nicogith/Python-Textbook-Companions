{
 "metadata": {
  "name": "",
  "signature": "sha256:7252e18079dddfe390b8ba1aeebeccc0ce63f41488e78d7d5f7b5e2c14af82fb"
 },
 "nbformat": 3,
 "nbformat_minor": 0,
 "worksheets": [
  {
   "cells": [
    {
     "cell_type": "heading",
     "level": 1,
     "metadata": {},
     "source": [
      "Chapter2 - Semiconductor Devices"
     ]
    },
    {
     "cell_type": "heading",
     "level": 2,
     "metadata": {},
     "source": [
      "Ex-2.1 Pg-2.18"
     ]
    },
    {
     "cell_type": "code",
     "collapsed": false,
     "input": [
      "Vf=0.2  #voltage in volts\n",
      "Vr=60  #voltage in volts\n",
      "If=60*10**(-3)  #current in  ampere\n",
      "I0=0.025*10**(-3)  #current in  ampere\n",
      "Rf=Vf/If #forward resistance\n",
      "Rr=Vr/I0 #reverse resistance\n",
      "Rr=Rr*1e-6\n",
      "print \"the equivalent resistance are Rf=%.3f ohm and Rr=%-.1f M ohm\"%(Rf,Rr)"
     ],
     "language": "python",
     "metadata": {},
     "outputs": [
      {
       "output_type": "stream",
       "stream": "stdout",
       "text": [
        "the equivalent resistance are Rf=3.333 ohm and Rr=2.4 M ohm\n"
       ]
      }
     ],
     "prompt_number": 1
    },
    {
     "cell_type": "heading",
     "level": 2,
     "metadata": {},
     "source": [
      "Chapter-2 Ex-2.2 Pg-2.18"
     ]
    },
    {
     "cell_type": "code",
     "collapsed": false,
     "input": [
      "Vf=0.7 \n",
      "If=0.06 \n",
      "Rf=Vf/If #DC forward resistance\n",
      "print \"\\n DC forward resistance Rf : %.2f ohm\\n\"%(Rf)\n",
      "print \"as the forward voltage changes from P to Q\"\n",
      "delta_Vf=0.77-.7 \n",
      "delta_If=(120-60)*10**(-3) \n",
      "rf=delta_Vf/delta_If #dynamic forward resistance\n",
      "print \"\\n Dynamic forward resistance rf : %.3f ohm\"%(rf)"
     ],
     "language": "python",
     "metadata": {},
     "outputs": [
      {
       "output_type": "stream",
       "stream": "stdout",
       "text": [
        "\n",
        " DC forward resistance Rf : 11.67 ohm\n",
        "\n",
        "as the forward voltage changes from P to Q\n",
        "\n",
        " Dynamic forward resistance rf : 1.167 ohm\n"
       ]
      }
     ],
     "prompt_number": 2
    },
    {
     "cell_type": "heading",
     "level": 2,
     "metadata": {},
     "source": [
      "Ex2_3 Pg-2-22"
     ]
    },
    {
     "cell_type": "code",
     "collapsed": false,
     "input": [
      "V=10 #supply voltage\n",
      "Rf=0 #forward resistance\n",
      "Rl=1 #load resistance in k ohm\n",
      "Vin=0.7 #cut in voltage\n",
      "Il=(V-Vin)/Rl #applying KVL to the loop\n",
      "If=Il \n",
      "print \"\\n \\n current through the resistance Il=If = is %.1f mA\"%(If)\n",
      "Vl=Il*Rl \n",
      "print \"\\n \\n voltage across Rl is %.1f V\"%(Vl)\n",
      "Pd=If*Vin \n",
      "print \"\\n \\n diode power Pd = %.2f mW\"%(Pd)\n",
      "Pl=Il*Vl \n",
      "print \"\\n \\n load power Pl = %.2f mW\"%(Pl)"
     ],
     "language": "python",
     "metadata": {},
     "outputs": [
      {
       "output_type": "stream",
       "stream": "stdout",
       "text": [
        "\n",
        " \n",
        " current through the resistance Il=If = is 9.3 mA\n",
        "\n",
        " \n",
        " voltage across Rl is 9.3 V\n",
        "\n",
        " \n",
        " diode power Pd = 6.51 mW\n",
        "\n",
        " \n",
        " load power Pl = 86.49 mW\n"
       ]
      }
     ],
     "prompt_number": 3
    },
    {
     "cell_type": "heading",
     "level": 2,
     "metadata": {},
     "source": [
      "EX2_4 PG-2.23"
     ]
    },
    {
     "cell_type": "code",
     "collapsed": false,
     "input": [
      "Vf=0.7 #cut-in voltage\n",
      "V=10 #supply voltage\n",
      "Rl=500 #load resistance\n",
      "If=(V-Vf)/Rl #applying KVL to the circuit\n",
      "If=If*1e3\n",
      "print \"\\n Forward current is %.2f mA\\n\"%(If)\n",
      "print \"When forward resistance is Rf is 3.2 Ohm then\"\n",
      "print \"the equivalent circuit is as shown in fig-2.25(b)\"\n",
      "Rf=3.2 \n",
      "If=(V-Vf)/(Rl+Rf) #applying KVL to the circuit\n",
      "If=If*1e3\n",
      "print \"\\n therefore Forward current is %.4f mA\"%(If)"
     ],
     "language": "python",
     "metadata": {},
     "outputs": [
      {
       "output_type": "stream",
       "stream": "stdout",
       "text": [
        "\n",
        " Forward current is 18.60 mA\n",
        "\n",
        "When forward resistance is Rf is 3.2 Ohm then\n",
        "the equivalent circuit is as shown in fig-2.25(b)\n",
        "\n",
        " therefore Forward current is 18.4817 mA\n"
       ]
      }
     ],
     "prompt_number": 4
    },
    {
     "cell_type": "heading",
     "level": 2,
     "metadata": {},
     "source": [
      "EX2_5 PG-2.23"
     ]
    },
    {
     "cell_type": "code",
     "collapsed": false,
     "input": [
      "import numpy as np\n",
      "%matplotlib inline\n",
      "from matplotlib.pyplot import plot, xlabel, ylabel, show, grid, title\n",
      "If=80e-3 #maximum forward current\n",
      "Rf=0.4 #dynamic resistance\n",
      "Vin=0.3 #cut-in voltage for germanium\n",
      "print \"when forward current is zero then\"\n",
      "Vf=Vin #voltage across the diode\n",
      "print \" voltage across the diode is %1.1f V\\n\"%(Vf)\n",
      "print \"when forward current is 80mA then\"\n",
      "Vf=Vin+If*Rf \n",
      "print \" voltage across the diode is %1.3f V\"%(Vf)\n",
      "x=np.array([0,.1, .2, .3, .332]) #x-coordinate\n",
      "y=np.array([0,  0,  0,  0,  80]) #y-coordinate\n",
      "plot(x,y)\n",
      "xlabel('voltage across the diode (V) ') \n",
      "ylabel('current (mA)') \n",
      "title('Piecewise linear characteristic')\n",
      "grid()\n",
      "show()"
     ],
     "language": "python",
     "metadata": {},
     "outputs": [
      {
       "output_type": "stream",
       "stream": "stdout",
       "text": [
        "when forward current is zero then\n",
        " voltage across the diode is 0.3 V\n",
        "\n",
        "when forward current is 80mA then\n",
        " voltage across the diode is 0.332 V\n"
       ]
      },
      {
       "metadata": {},
       "output_type": "display_data",
       "png": "[encoded data removed]",
       "text": [
        "<matplotlib.figure.Figure at 0x7f0aca60fe50>"
       ]
      }
     ],
     "prompt_number": 5
    },
    {
     "cell_type": "heading",
     "level": 2,
     "metadata": {},
     "source": [
      "EX2_6 PG-2.28"
     ]
    },
    {
     "cell_type": "code",
     "collapsed": false,
     "input": [
      "import numpy as np\n",
      "%matplotlib inline\n",
      "from matplotlib.pyplot import plot, xlabel, ylabel, show, grid, title, subplot\n",
      "If=25e-3 #current at Q-point\n",
      "x=np.array([ 0, 0.5, 0.6,    1,   1.1 ]) #x-coordinate\n",
      "y=np.array([ 0 , 1 ,  5,     25,   30 ]) #y-coordinate\n",
      "subplot(1,3,1)\n",
      "plot(x,y)\n",
      "x1=np.array([0.5,   1 ,   3]) #x-coordinate\n",
      "y1=np.array([ 31,   25,   0]) #y-coordinate\n",
      "subplot(1,3,2)\n",
      "plot(x1,y1)\n",
      "x2=np.array([ 0, 1] )\n",
      "y2=np.array([25 ,25] )\n",
      "subplot(1,3,3)\n",
      "plot(x2,y2)\n",
      "xlabel('Vf (volts)') \n",
      "ylabel('If (mA)') \n",
      "title(\"Piece-wise linear characteristic\")\n",
      "grid()\n",
      "show()\n",
      "print \"Q-point is denoted by the intersection of two lines as shown in the plot\"\n",
      "delta_If=10e-3 #from the graph plotted\n",
      "delta_Vf=0.9 #from the graph plotted\n",
      "s=delta_If/delta_Vf #slope\n",
      "print \"Therefore load resistance is the reciprocal of the slope \"\n",
      "Rl=1/s #load resistance\n",
      "print \"\\n required load resistance is %.0f ohm\"%(Rl)"
     ],
     "language": "python",
     "metadata": {},
     "outputs": [
      {
       "metadata": {},
       "output_type": "display_data",
       "png": "[encoded data removed]",
       "text": [
        "<matplotlib.figure.Figure at 0x7f0ac7557350>"
       ]
      },
      {
       "output_type": "stream",
       "stream": "stdout",
       "text": [
        "Q-point is denoted by the intersection of two lines as shown in the plot\n",
        "Therefore load resistance is the reciprocal of the slope \n",
        "\n",
        " required load resistance is 90 ohm\n"
       ]
      }
     ],
     "prompt_number": 6
    },
    {
     "cell_type": "heading",
     "level": 2,
     "metadata": {},
     "source": [
      "EX2_7 PG-2.29"
     ]
    },
    {
     "cell_type": "code",
     "collapsed": false,
     "input": [
      "from math import exp\n",
      "V=0.22 #forward bias voltage\n",
      "T=25+273 #room temperature in degree kelvin\n",
      "I0=2e-3 #reverse saturation current\n",
      "n=1 #for germanium diode\n",
      "k=8.62e-5#Boltzmann's constant\n",
      "Vt=k*T \n",
      "I=I0*(exp(V/(n*Vt))) # diode current\n",
      "print \"therefore the P-N junction diode current is %f A\"%(I)\n"
     ],
     "language": "python",
     "metadata": {},
     "outputs": [
      {
       "output_type": "stream",
       "stream": "stdout",
       "text": [
        "therefore the P-N junction diode current is 10.483844 A\n"
       ]
      }
     ],
     "prompt_number": 7
    }
   ],
   "metadata": {}
  }
 ]
}