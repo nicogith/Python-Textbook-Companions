{
 "metadata": {
  "name": "",
  "signature": "sha256:90aab70b55d4896f0f22aa66f516161405cb3435a2adc68d32d5e3787e2d9de5"
 },
 "nbformat": 3,
 "nbformat_minor": 0,
 "worksheets": [
  {
   "cells": [
    {
     "cell_type": "heading",
     "level": 1,
     "metadata": {},
     "source": [
      "Chapter 2:Diode Applications\n"
     ]
    },
    {
     "cell_type": "heading",
     "level": 2,
     "metadata": {},
     "source": [
      "Example 2.1 page : 53"
     ]
    },
    {
     "cell_type": "code",
     "collapsed": false,
     "input": [
      "import math\n",
      "\n",
      "#(a)\n",
      "#initialisation of variables\n",
      "\n",
      "E=10      #E in V\n",
      "R=1     #R in Kohm\n",
      "\n",
      "\n",
      "#Calculations\n",
      " \n",
      "Id=E/R    #Eq.(2.2)\n",
      "Vd=E\n",
      "print \"(a) \\nThe current Ic is = %fmA \"%(Id),\";Vd=0V\"\n",
      "print \"The diode voltage is = %fV\"%(Vd),\";Id=0A\"\n",
      "print \"\\nThe resulting load line appears in Fig. 2.4. The intersection between the load line \\nand the characteristic curve defines the Q-point as\"\n",
      "print \"\\nThe level of VD is certainly an estimate, and the accuracy of ID is limited by the chosenscale. \\nA higher degree of accuracy would require a plot that would be much large and perhaps unwieldy\"\n",
      "\n",
      "\n",
      "#(B)\n",
      "print \"\\n(B)\\n\"\n",
      "Ir=9.25 #Ir in mA\n",
      "Vdq=0.78 #Vdq in v\n",
      "Vr=Ir*R\n",
      "print \"Vr = Ir*R = Idq*R  = %dV\"%(Vr),\"or\"\n",
      "Vr = E-Vdq\n",
      "print \"Vr = E-Vdq = %fV\" %(Vr)\n",
      "print \"\\nThe difference in results is due to the accuracy with which the graph can be read. \\nIdeally,the results obtained either way should be the same.\"\n",
      "\n",
      "#Graph solution to example 2.1\n",
      "\n",
      "import numpy as np\n",
      "import matplotlib.pyplot as plt\n",
      "\n",
      "Vd = np.linspace(0.0,10.0)\n",
      "Id = np.linspace(0.0,10.0)\n",
      "Id= -Vd + 10\n",
      "plt.plot(Vd, Id)\n",
      "Vd = [0,0,0.1,0.1,0.2,0.2,0.3,0.3,0.3,0.3,0.4,0.5,0.6,0.7]\n",
      "Id = [0,0,0,0,0,0,0,0,0.1,0.1,0.3,0.7,2.0,10.0]\n",
      "\n",
      "plt.plot(Vd, Id,'yo-')\n",
      "\n",
      "plt.xlabel('Voltage (v)')\n",
      "plt.ylabel('current (mA)')\n",
      "plt.title('Characteristics of diode')\n",
      "plt.grid(True)\n",
      "plt.savefig(\"test.png\")\n",
      "\n",
      "plt.show()\n",
      "\n",
      "print \"example 2.2:\"\n",
      "print \"repeat the example 2.1 for R =2\""
     ],
     "language": "python",
     "metadata": {},
     "outputs": [
      {
       "output_type": "stream",
       "stream": "stdout",
       "text": [
        "(a) \n",
        "The current Ic is = 10.000000mA  ;Vd=0V\n",
        "The diode voltage is = 10.000000V ;Id=0A\n",
        "\n",
        "The resulting load line appears in Fig. 2.4. The intersection between the load line \n",
        "and the characteristic curve defines the Q-point as\n",
        "\n",
        "The level of VD is certainly an estimate, and the accuracy of ID is limited by the chosenscale. \n",
        "A higher degree of accuracy would require a plot that would be much large and perhaps unwieldy\n",
        "\n",
        "(B)\n",
        "\n",
        "Vr = Ir*R = Idq*R  = 9V or\n",
        "Vr = E-Vdq = 9.220000V\n",
        "\n",
        "The difference in results is due to the accuracy with which the graph can be read. \n",
        "Ideally,the results obtained either way should be the same.\n"
       ]
      },
      {
       "metadata": {},
       "output_type": "display_data",
       "png": "[encoded data removed]",
       "text": [
        "<matplotlib.figure.Figure at 0x7f6e4daea050>"
       ]
      },
      {
       "output_type": "stream",
       "stream": "stdout",
       "text": [
        "example 2.2:\n",
        "repeat the example 2.1 for R =2\n"
       ]
      }
     ],
     "prompt_number": 20
    },
    {
     "cell_type": "heading",
     "level": 2,
     "metadata": {},
     "source": [
      "Example 2.6 Page : 60"
     ]
    },
    {
     "cell_type": "code",
     "collapsed": false,
     "input": [
      "#example 2.6\n",
      "#For the series diode configuration of Fig. 2.16, determine VD, VR, and ID.\n",
      "\n",
      "import math\n",
      "\n",
      "#initialisation of variables\n",
      "\n",
      "\n",
      "E=8       #E in V\n",
      "R=2.2     #R in Kohm\n",
      "Vd=0.7    #Vd in V \n",
      "\n",
      "#Calculations\n",
      "\n",
      "Vr=E-Vd \n",
      "Id=Vr/R    \n",
      "print \"Since the applied voltage establishes a current in the clockwise direction to match thearrow of the symbol \\nand the diode is in the 'on' state,\\n\"\n",
      "print \"The diode voltage is = %.1fV\"%(Vd),\";Id=0A\"\n",
      "print \"The voltage Vr is = %.1fV\"%(Vr)\n",
      "print \"The current Id is = %.2fmA \"%(Id)\n"
     ],
     "language": "python",
     "metadata": {},
     "outputs": [
      {
       "output_type": "stream",
       "stream": "stdout",
       "text": [
        "Since the applied voltage establishes a current in the clockwise direction to match thearrow of the symbol \n",
        "and the diode is in the 'on' state,\n",
        "\n",
        "The diode voltage is = 0.7V ;Id=0A\n",
        "The voltage Vr is = 7.3V\n",
        "The current Id is = 3.32mA \n"
       ]
      }
     ],
     "prompt_number": 22
    },
    {
     "cell_type": "heading",
     "level": 2,
     "metadata": {},
     "source": [
      "Example 2.7  Page : 60"
     ]
    },
    {
     "cell_type": "code",
     "collapsed": false,
     "input": [
      "#example 2.7\n",
      "#Repeat Example 2.6 with the diode reversed\n",
      "\n",
      "import math\n",
      "\n",
      "#initialisation of variables\n",
      "\n",
      "\n",
      "E=8       #E in V\n",
      "R=2.2     #R in Kohm\n",
      "I=0       #For open circuit\n",
      "\n",
      "#Calculations\n",
      "\n",
      "Vr=I*R \n",
      "Vd=E-Vr    \n",
      "print \"Removing the diode, we find that the direction of I is opposite to the arrow in the diode symbol \\nand the diode equivalent is the open circuit no matter which model isemployed.\"\n",
      "print \"The result is the network of Fig. 2.17, where ID = 0A due to the open circuit.\\n\"\n",
      "print \"The voltage Vr is = %.1fV\"%(Vr)\n",
      "print \"The diode voltage is = %.1fV\"%(Vd)\n"
     ],
     "language": "python",
     "metadata": {},
     "outputs": [
      {
       "output_type": "stream",
       "stream": "stdout",
       "text": [
        "Removing the diode, we find that the direction of I is opposite to the arrow in the diode symbol \n",
        "and the diode equivalent is the open circuit no matter which model isemployed.\n",
        "The result is the network of Fig. 2.17, where ID = 0A due to the open circuit.\n",
        "\n",
        "The voltage Vr is = 0.0V\n",
        "The diode voltage is = 8.0V\n"
       ]
      }
     ],
     "prompt_number": 23
    },
    {
     "cell_type": "heading",
     "level": 2,
     "metadata": {},
     "source": [
      "Example 2.8 Page : 61"
     ]
    },
    {
     "cell_type": "code",
     "collapsed": false,
     "input": [
      "#example 2.8\n",
      "#For the series diode configuration of Fig. 2.19, determine VD, VR, and ID.\n",
      "\n",
      "import math\n",
      "\n",
      "#initialisation of variables\n",
      "\n",
      "\n",
      "E=0.5     #E in volt\n",
      "R=1.2     #R in Kohm\n",
      "Id=0      #For open circuit\n",
      "\n",
      "\n",
      "#calculation\n",
      "\n",
      "Vr=Id*R\n",
      "Vd=E\n",
      "\n",
      "print \"The voltage Vr is = %.1fV\"%(Vr)\n",
      "print \"The diode voltage Vd is = %.1fV\"%(Vd)\n",
      "\n"
     ],
     "language": "python",
     "metadata": {},
     "outputs": [
      {
       "output_type": "stream",
       "stream": "stdout",
       "text": [
        "The voltage Vr is = 0.0V\n",
        "The diode voltage Vd is = 0.5V\n"
       ]
      }
     ],
     "prompt_number": 10
    },
    {
     "cell_type": "heading",
     "level": 2,
     "metadata": {},
     "source": [
      "Example 2.9 Page : 62"
     ]
    },
    {
     "cell_type": "code",
     "collapsed": false,
     "input": [
      "#example 2.9      Page no 62\n",
      "\n",
      "#initialisation of variables\n",
      "\n",
      "R=5.6             # resistance in kilo ohm\n",
      "E=12\t\t\t  # supply voltage in volt\n",
      "Vt1=0.7           # threshold voltage of siicon in volt\n",
      "Vt2=0.3            # threshold voltage of germanium in volt\n",
      "\n",
      "print \"Applying KVL rule in fig 2.2,\"\n",
      "\n",
      "Vo=E-(Vt1+Vt2)    # resulting voltage in volt\n",
      "\n",
      "Id=(Vo/R)\n",
      "\n",
      "print \"The resulting voltage is = %dV\"%(Vo)\n",
      "\n",
      "print \"The current through diode is = %.2fmA\"%(Id)\n"
     ],
     "language": "python",
     "metadata": {},
     "outputs": [
      {
       "output_type": "stream",
       "stream": "stdout",
       "text": [
        "Applying KVL rule in fig 2.2,\n",
        "The resulting voltage is = 11V\n",
        "The current through diode is = 1.96mA\n"
       ]
      }
     ],
     "prompt_number": 24
    },
    {
     "cell_type": "heading",
     "level": 2,
     "metadata": {},
     "source": [
      "Example 2.12 Page : 64"
     ]
    },
    {
     "cell_type": "code",
     "collapsed": false,
     "input": [
      "import math\n",
      "\n",
      "#initialisation of variables\n",
      "\n",
      "E=10      #supply voltage in vol't\n",
      "R=0.33    #resistance in kilo ohms\n",
      "Vd=0.7    # voltage across silicon diode\n",
      "\n",
      "print\"From figure 2.31 it can be said that both diodes are opened so\"\n",
      "\n",
      "Vo=0.7    # resulting voltage in volt\n",
      "\n",
      "I1=(E-Vd)/R\n",
      "print\"the value of Id1 is = %.2fmA\"%(I1)\n",
      "print\"\\nDiodes are of similar characteristics so\"\n",
      "\n",
      "Id2=(I1/2)\n",
      "print\"the value of Id2 is = %.2fmA\"%(Id2)"
     ],
     "language": "python",
     "metadata": {},
     "outputs": [
      {
       "output_type": "stream",
       "stream": "stdout",
       "text": [
        "From figure 2.31 it can be said that both diodes are opened so\n",
        "the value of Id1 is = 28.18mA\n",
        "\n",
        "Diodes are of similar characteristics so\n",
        "the value of Id2 is = 14.09mA\n"
       ]
      }
     ],
     "prompt_number": 27
    },
    {
     "cell_type": "heading",
     "level": 2,
     "metadata": {},
     "source": [
      "Example 2.13 Page : 65"
     ]
    },
    {
     "cell_type": "code",
     "collapsed": false,
     "input": [
      "import math\n",
      "\n",
      "#initialization of variables\n",
      "\n",
      "E1=20       #supply voltage in V\n",
      "E2=4        #second port voltage in V\n",
      "Vd=0.7      #thresold voltage\n",
      "R=2.2       #R in Kohm\n",
      "\n",
      "\n",
      "#calculation\n",
      "\n",
      "I = (E1-E2-Vd)/R\n",
      "\n",
      "print \"Diode D1 turn on and Diode D2 turn off\"\n",
      "print \"the resultant current I is = %.2fmA\" %(I)\n"
     ],
     "language": "python",
     "metadata": {},
     "outputs": [
      {
       "output_type": "stream",
       "stream": "stdout",
       "text": [
        "Diode D1 turn on and Diode D2 turn off\n",
        "the resultant current I is = 6.95mA\n"
       ]
      }
     ],
     "prompt_number": 29
    },
    {
     "cell_type": "heading",
     "level": 2,
     "metadata": {},
     "source": [
      "Example 2.14 Page :66"
     ]
    },
    {
     "cell_type": "code",
     "collapsed": false,
     "input": [
      "import math\n",
      "\n",
      "#initialization of variables\n",
      "E=12           #supply Voltage in V\n",
      "Vd=0.3         #thresold voltage in V\n",
      "\n",
      "\n",
      "#calculation\n",
      "\n",
      "V0 = E-Vd\n",
      "\n",
      "print \"If initially both were 'on,'' the 0.7-V drop across the silicon diode would not match the 0.3 V \"\n",
      "print \"Across the germanium diode as required by the fact that the voltage across parallel elements must be the same.\"\n",
      "print \"\\nThe silicon diode will never have the opportunity to capture its required 0.7 V \\nand therefore remains in its open-circuit state.\"\n",
      "print \"the resultant Voltage V0 is = %.1fV\" % (V0)\n"
     ],
     "language": "python",
     "metadata": {},
     "outputs": [
      {
       "output_type": "stream",
       "stream": "stdout",
       "text": [
        "If initially both were 'on,'' the 0.7-V drop across the silicon diode would not match the 0.3 V \n",
        "Across the germanium diode as required by the fact that the voltage across parallel elements must be the same.\n",
        "\n",
        "The silicon diode will never have the opportunity to capture its required 0.7 V \n",
        "and therefore remains in its open-circuit state.\n",
        "the resultant Voltage V0 is = 11.7V\n"
       ]
      }
     ],
     "prompt_number": 32
    },
    {
     "cell_type": "heading",
     "level": 2,
     "metadata": {},
     "source": [
      "Example 2.15 Page :66"
     ]
    },
    {
     "cell_type": "code",
     "collapsed": false,
     "input": [
      "import math\n",
      "\n",
      "#initialization of variables\n",
      "\n",
      "E=20        #supply voltage in V\n",
      "VT1=0.7      #thresold voltage\n",
      "VT2=0.7      #thresold voltage\n",
      "R1=3.3       #R in Kohm\n",
      "R2=5.6       #R in Kohm\n",
      "\n",
      "#calculation\n",
      "\n",
      "print \"Both Diodes will turn 'on'\"\n",
      "print \"So diode voltage will appear over the resistance\"\n",
      "\n",
      "I1 = (VT2)/R1\n",
      "\n",
      "print \"the resultant current I2 is = %.3fmA\" %(I1)\n",
      "\n",
      "print \"\\nApplying Kirchhoff's voltage law around the indicated loop in the clockwise direction yields\"\n",
      "\n",
      "V2 = E-VT1-VT2\n",
      "I2 = V2/R2\n",
      "\n",
      "print \"the voltage V2 = %.1fV\" %(V2)\n",
      "print \"the current I2 = %.2fmA\"%(I2)\n",
      "\n",
      "#At hte bottom node (a)\n",
      "\n",
      "ID2=I2-I1\n",
      "\n",
      "print \"the current I2 = %.3fmA\" %(ID2)\n"
     ],
     "language": "python",
     "metadata": {},
     "outputs": [
      {
       "output_type": "stream",
       "stream": "stdout",
       "text": [
        "Both Diodes will turn 'on'\n",
        "So diode voltage will appear over the resistance\n",
        "the resultant current I2 is = 0.212mA\n",
        "\n",
        "Applying Kirchhoff's voltage law around the indicated loop in the clockwise direction yields\n",
        "the voltage V2 = 18.6V\n",
        "the current I2 = 3.32mA\n",
        "the current I2 = 3.109mA\n"
       ]
      }
     ],
     "prompt_number": 35
    },
    {
     "cell_type": "heading",
     "level": 2,
     "metadata": {},
     "source": [
      "Example 2.18 Page :71"
     ]
    },
    {
     "cell_type": "code",
     "collapsed": false,
     "input": [
      "import math\n",
      "\n",
      "#initialization of variables\n",
      "\n",
      "Vm=20          #peak voltage in V\n",
      "VT=0.7         #thresold voltage in V\n",
      "\n",
      "\n",
      "#calculation\n",
      "#(a)\n",
      "print \"(a)\\nIdeal Diode:\"\n",
      "\n",
      "Vdc1= -(0.318*Vm)             #Vdc=-0.318(Vm-VT)\n",
      "\n",
      "print \" In this situation the diode will conduct during the negative part of the input\"\n",
      "print \"For the full period DC level is = %.2fV\" %(Vdc1)\n",
      "print \"\\nThe negative sign indicates that the polarity of the output is opposite to the defined polarity\"\n",
      "\n",
      "\n",
      "#(b)\n",
      "\n",
      "print \"\\n(b)\\nsilicon Diode:\"\n",
      "\n",
      "Vdc2= -0.318*(Vm-0.7)\n",
      "\n",
      "print \"Vdc2 = %.2fV\" %(Vdc2)\n",
      "\n",
      "#(c)\n",
      "\n",
      "print \"\\n(c)\\nIf Vm is increased to 200V:\"\n",
      "\n",
      "Vm = 200         #new peak voltage\n",
      "Vdc1= -(0.318*Vm)\n",
      "Vdc2= -0.318*(Vm-0.7)\n",
      "\n",
      "print \"using (a), Vdc = %.2fV\" %(Vdc1)\n",
      "print \"using (b), Vdc = %.2fV\" %(Vdc2)\n",
      "\n",
      "\n",
      "\n",
      "\n",
      "\n",
      "\n"
     ],
     "language": "python",
     "metadata": {},
     "outputs": [
      {
       "output_type": "stream",
       "stream": "stdout",
       "text": [
        "(a)\n",
        "Ideal Diode:\n",
        " In this situation the diode will conduct during the negative part of the input\n",
        "For the full period DC level is = -6.36V\n",
        "\n",
        "The negative sign indicates that the polarity of the output is opposite to the defined polarity\n",
        "\n",
        "(b)\n",
        "silicon Diode:\n",
        "Vdc2 = -6.14V\n",
        "\n",
        "(c)\n",
        "If Vm is increased to 200V:\n",
        "using (a), Vdc = -63.60V\n",
        "using (b), Vdc = -63.38V\n"
       ]
      }
     ],
     "prompt_number": 43
    },
    {
     "cell_type": "heading",
     "level": 2,
     "metadata": {},
     "source": [
      "Example 2.19 Page :75"
     ]
    },
    {
     "cell_type": "code",
     "collapsed": false,
     "input": [
      "#example 2.19 page no.75\n",
      "\n",
      "import math\n",
      "\n",
      "#initialization of variables\n",
      "Vi=10          #input voltage in V\n",
      "\n",
      "#calculation\n",
      "\n",
      "print \"After redrawing the network configuration,\"\n",
      "\n",
      "V0 = 0.5*Vi\n",
      "\n",
      "print \"voltage across the resistance V0 = %dV\" %(V0)\n",
      "print \"\\nFor the negative part of the input the roles of the diodes will be interchanged\"\n",
      "\n",
      "#The effect of removing diodes\n",
      "\n",
      "Vdc = 0.636*(V0)\n",
      "print \"The effect of removing diodes:\"\n",
      "print \"\\tReduced available DC level = %.2fV\" %(Vdc)\n",
      "print \"\\tPIV = the maximum voltage across R is = %dV\" %(V0)\n",
      "print \"or half of that required for a half-wave rectifier with the same input\"\n"
     ],
     "language": "python",
     "metadata": {},
     "outputs": [
      {
       "output_type": "stream",
       "stream": "stdout",
       "text": [
        "After redrawing the network configuration,\n",
        "voltage across the resistance V0 = 5V\n",
        "\n",
        "For the negative part of the input the roles of the diodes will be interchanged\n",
        "The effect of removing diodes:\n",
        "\tReduced available DC level = 3.18V\n",
        "\tPIV = the maximum voltage across R is = 5V\n",
        "or half of that required for a half-wave rectifier with the same input\n"
       ]
      }
     ],
     "prompt_number": 38
    },
    {
     "cell_type": "code",
     "collapsed": false,
     "input": [],
     "language": "python",
     "metadata": {},
     "outputs": []
    }
   ],
   "metadata": {}
  }
 ]
}