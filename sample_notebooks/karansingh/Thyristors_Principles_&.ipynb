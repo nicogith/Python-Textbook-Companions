{
 "metadata": {
  "name": "",
  "signature": "sha256:4abf44c9c11389b267bffebabb50666e37ae7ef97c6e1f36ae4dc72c5936a6d7"
 },
 "nbformat": 3,
 "nbformat_minor": 0,
 "worksheets": [
  {
   "cells": [
    {
     "cell_type": "heading",
     "level": 1,
     "metadata": {},
     "source": [
      "Thyristors Principles & Characeristics"
     ]
    },
    {
     "cell_type": "heading",
     "level": 2,
     "metadata": {},
     "source": [
      "Example 1_1 - page : 5"
     ]
    },
    {
     "cell_type": "code",
     "collapsed": false,
     "input": [
      "#Given data\n",
      "alfa1=0.35 \n",
      "alfa2=0.4 \n",
      "IG=40*10**-3 #A\n",
      "#Solution :\n",
      "IA=alfa2*IG/(1-(alfa1+alfa2)) #A\n",
      "print \"Anode current is %0.3f A\" %IA"
     ],
     "language": "python",
     "metadata": {},
     "outputs": [
      {
       "output_type": "stream",
       "stream": "stdout",
       "text": [
        "Anode current is 0.064 A\n"
       ]
      }
     ],
     "prompt_number": 5
    },
    {
     "cell_type": "heading",
     "level": 2,
     "metadata": {},
     "source": [
      "Example 1_2 - page : 7"
     ]
    },
    {
     "cell_type": "code",
     "collapsed": false,
     "input": [
      "#Given data\n",
      "dv_dt=190 #V/\u00b5s\n",
      "IC=8*10**-3 #A\n",
      "#Solution :\n",
      "C=IC/(dv_dt/10**-6) #F\n",
      "print \"Capacitance of depletion layer is %0.1E F : \" %C"
     ],
     "language": "python",
     "metadata": {},
     "outputs": [
      {
       "output_type": "stream",
       "stream": "stdout",
       "text": [
        "Capacitance of depletion layer is 4.2E-11 F : \n"
       ]
      }
     ],
     "prompt_number": 4
    },
    {
     "cell_type": "heading",
     "level": 2,
     "metadata": {},
     "source": [
      "Example 1_3 - page : 8"
     ]
    },
    {
     "cell_type": "code",
     "collapsed": false,
     "input": [
      "#Given data\n",
      "RG=2000 #ohm\n",
      "VCC=20 #V\n",
      "VT=0.75 #V\n",
      "Vthy=0.7 #V(Voltage across thyristor)\n",
      "R=200 #ohm\n",
      "IT=7*10**-3 #A\n",
      "Ih=5*10**-3 #A\n",
      "#Solution :\n",
      "#part (a)\n",
      "Vo=VCC #V##thyristor not conducting\n",
      "print \"(a) When thyristor is in off state, Output voltage is %0.2f V\" %Vo\n",
      "#part (b)\n",
      "Vs=VT+IT*RG #V\n",
      "print \"(b) Voltage necessary to turn on the thyristor is %0.2f V\" %Vs\n",
      "#part (c)\n",
      "VR1=Ih*R #V\n",
      "print \"(c) Current through thyristor should be less than holding current. Voltage should be reduced to less than %0.2f V\" %VR1\n",
      "#part (d)\n",
      "VR2=VR1+Vthy #V\n",
      "print \"(d) VCC should be reduced to less than %0.2f V\" %VR2"
     ],
     "language": "python",
     "metadata": {},
     "outputs": [
      {
       "output_type": "stream",
       "stream": "stdout",
       "text": [
        "(a) When thyristor is in off state, Output voltage is 20.00 V\n",
        "(b) Voltage necessary to turn on the thyristor is 14.75 V\n",
        "(c) Current through thyristor should be less than holding current. Voltage should be reduced to less than 1.00 V\n",
        "(d) VCC should be reduced to less than 1.70 V\n"
       ]
      }
     ],
     "prompt_number": 8
    },
    {
     "cell_type": "heading",
     "level": 2,
     "metadata": {},
     "source": [
      "Example 1_5 - page : 8"
     ]
    },
    {
     "cell_type": "code",
     "collapsed": false,
     "input": [
      "#Given data\n",
      "Vdc=100 #V\n",
      "L=10 #H\n",
      "i=80*10**-3 #A\n",
      "#Solution :\n",
      "t=i*L/Vdc #s\n",
      "t*=1000 # ms\n",
      "print \"Width of pulse should be more than %0.1f milli-seconds.\" %t"
     ],
     "language": "python",
     "metadata": {},
     "outputs": [
      {
       "output_type": "stream",
       "stream": "stdout",
       "text": [
        "Width of pulse should be more than 8.0 milli-seconds.\n"
       ]
      }
     ],
     "prompt_number": 12
    },
    {
     "cell_type": "heading",
     "level": 2,
     "metadata": {},
     "source": [
      "Example 1_6 - page : 9"
     ]
    },
    {
     "cell_type": "code",
     "collapsed": false,
     "input": [
      "import math\n",
      "#Given data\n",
      "Vdc=100 #V\n",
      "R=10 #ohm\n",
      "L=5 #H\n",
      "i=50*10**-3 #A\n",
      "#Solution :\n",
      "#i=Vdc/R*(1-exp(-R*t/L))\n",
      "t=-math.log(1-i/Vdc*R)/R*L #s\n",
      "t*=1000 #ms\n",
      "print \"Minimum width of gate pulse is %0.1f milli-seconds.\" %t\n"
     ],
     "language": "python",
     "metadata": {},
     "outputs": [
      {
       "output_type": "stream",
       "stream": "stdout",
       "text": [
        "Minimum width of gate pulse is 2.5 milli-seconds.\n"
       ]
      }
     ],
     "prompt_number": 14
    }
   ],
   "metadata": {}
  }
 ]
}