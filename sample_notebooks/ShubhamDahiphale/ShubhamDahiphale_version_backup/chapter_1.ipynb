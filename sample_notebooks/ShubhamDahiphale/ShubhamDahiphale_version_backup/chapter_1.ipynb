{
 "metadata": {
  "name": "chapter 1.ipynb"
 },
 "nbformat": 3,
 "nbformat_minor": 0,
 "worksheets": [
  {
   "cells": [
    {
     "cell_type": "heading",
     "level": 1,
     "metadata": {},
     "source": [
      "Chapter 1:Coplanar Concurrent Force System"
     ]
    },
    {
     "cell_type": "heading",
     "level": 2,
     "metadata": {},
     "source": [
      "Problem 1,Page No.3"
     ]
    },
    {
     "cell_type": "code",
     "collapsed": false,
     "input": [
      "import math\n",
      "\n",
      "#Declaration of Variables\n",
      "\n",
      "F1=1200 #N #Force1\n",
      "F2=400  #N #Force2\n",
      "\n",
      "#Calculations\n",
      "\n",
      "theta=arctan(300*400**-1)*(180*pi**-1)\n",
      "\n",
      "#Components of F1\n",
      "F1x=-F1*sin(theta*180**-1*pi) #N\n",
      "F1y=-F1*cos(theta*180**-1*pi) #N\n",
      "\n",
      "#Components of F2\n",
      "F2x=F2*cos(theta*180**-1*pi) #N\n",
      "F2y=-F2*sin(theta*180**-1*pi) #N\n",
      "\n",
      "#Results\n",
      "print\"Components of F1 is:F1x\",round(F1x,2),\"N\"\n",
      "print\"                   :F1y\",round(F1y,2),\"N\"\n",
      "print\"Components of F1 is:F2x\",round(F2x,2),\"N\"\n",
      "print\"                   :F2y\",round(F2y,2),\"N\""
     ],
     "language": "python",
     "metadata": {},
     "outputs": [
      {
       "output_type": "stream",
       "stream": "stdout",
       "text": [
        "Components of F1 is:F1x -720.0 N\n",
        "                   :F1y -960.0 N\n",
        "Components of F1 is:F2x 320.0 N\n",
        "                   :F2y -240.0 N\n"
       ]
      }
     ],
     "prompt_number": 10
    },
    {
     "cell_type": "heading",
     "level": 2,
     "metadata": {},
     "source": [
      "Problem 1,Page No.4"
     ]
    },
    {
     "cell_type": "code",
     "collapsed": false,
     "input": [
      "import math\n",
      "\n",
      "#Declaration of Variables\n",
      "\n",
      "#Forces\n",
      "F1=300 #N\n",
      "F2=390 #N\n",
      "F3=400 #N\n",
      "\n",
      "#Angles\n",
      "theta1=30 #Degree\n",
      "theta2=arctan(12*5**-1)*(180*pi**-1) #Degree\n",
      "theta3=40 #Degree\n",
      "\n",
      "#Calculations\n",
      "\n",
      "#Components of F1\n",
      "F1x=F1*cos(theta1*pi*180**-1) #N\n",
      "F1y=-F1*sin(theta1*pi*180**-1) #N\n",
      "\n",
      "#Components of F2\n",
      "F2x=-F2*cos(theta2*pi*180**-1) #N\n",
      "F2y=F2*sin(theta2*pi*180**-1) #N\n",
      "\n",
      "#Components of F3\n",
      "F3x=-F3*cos(theta3*pi*180**-1) #N\n",
      "F3y=-F3*sin(theta3*pi*180**-1) #N\n",
      "\n",
      "#Result\n",
      "print\"Components of F1 is:F1x\",round(F1x,2),\"N\"\n",
      "print\"                   :F1y\",round(F1y,2),\"N\"\n",
      "print\"Components of F2 is:F2x\",round(F2x,2),\"N\"\n",
      "print\"                   :F2y\",round(F2y,2),\"N\"\n",
      "print\"Components of F3 is:F2x\",round(F3x,2),\"N\"\n",
      "print\"                   :F3y\",round(F3y,2),\"N\""
     ],
     "language": "python",
     "metadata": {},
     "outputs": [
      {
       "output_type": "stream",
       "stream": "stdout",
       "text": [
        "Components of F1 is:F1x 259.81 N\n",
        "                   :F1y -150.0 N\n",
        "Components of F2 is:F2x -150.0 N\n",
        "                   :F2y 360.0 N\n",
        "Components of F3 is:F2x -306.42 N\n",
        "                   :F3y -257.12 N\n"
       ]
      }
     ],
     "prompt_number": 14
    },
    {
     "cell_type": "heading",
     "level": 2,
     "metadata": {},
     "source": [
      "Problem 3,Page No.4"
     ]
    },
    {
     "cell_type": "code",
     "collapsed": false,
     "input": [
      "import math\n",
      "\n",
      "#Declaration of Variables\n",
      "\n",
      "#Forces\n",
      "F1=20 #N\n",
      "F2=60 #N\n",
      "\n",
      "theta1=20 #Degree\n",
      "theta2=25 #Degree\n",
      "\n",
      "#Calculations\n",
      "\n",
      "#Resultant\n",
      "\n",
      "R=(F1**2+F2**2+2*F1*F2*cos(theta2*pi*180**-1))**0.5 #N\n",
      "\n",
      "X=(F1*(sin(theta2*180**-1*pi)))\n",
      "Y=((F1+F2*(cos(theta2*pi*180**-1))))\n",
      "alpha=arctan(X*Y**-1)*(180*pi**-1)\n",
      "\n",
      "#Inclination with x axis\n",
      "alpha2=theta1+alpha\n",
      "\n",
      "#Result\n",
      "print\"Resultant of two forces is\",round(alpha2,2),\"degree\""
     ],
     "language": "python",
     "metadata": {},
     "outputs": [
      {
       "output_type": "stream",
       "stream": "stdout",
       "text": [
        "Resultant of two forces is 26.48 degree\n"
       ]
      }
     ],
     "prompt_number": 28
    }
   ],
   "metadata": {}
  }
 ]
}