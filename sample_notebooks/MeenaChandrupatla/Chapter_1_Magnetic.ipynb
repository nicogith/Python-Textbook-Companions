{
 "cells": [
  {
   "cell_type": "markdown",
   "metadata": {},
   "source": [
    "## Example 1,Page number 6"
   ]
  },
  {
   "cell_type": "code",
   "execution_count": 13,
   "metadata": {
    "collapsed": false
   },
   "outputs": [
    {
     "name": "stdout",
     "output_type": "stream",
     "text": [
      "The current in circuit is  0.3672\n"
     ]
    }
   ],
   "source": [
    "from math import pi\n",
    "import math   \n",
    "# given\n",
    "Bc=0.8\n",
    "Hc=510\n",
    "Bg=0.8\n",
    "A=12.566 \n",
    "lg=0.0015\n",
    "lc=0.36\n",
    "N=500\n",
    "# calculations\n",
    "Fg=Bg/A*(2*lg)\n",
    "Fc=Hc*lc\n",
    "F=Fc+Fg\n",
    "i=F/N\n",
    "Pre=Bc/Hc\n",
    "RelPre=Pre/A\n",
    "F=Hc*lc\n",
    "i=F /N #current\n",
    "print 'The current in circuit is ',i\n"
   ]
  },
  {
   "cell_type": "markdown",
   "metadata": {},
   "source": [
    "## Example 2,Page number 7"
   ]
  },
  {
   "cell_type": "code",
   "execution_count": 14,
   "metadata": {
    "collapsed": false
   },
   "outputs": [
    {
     "name": "stdout",
     "output_type": "stream",
     "text": [
      "The flux density is 5\n"
     ]
    }
   ],
   "source": [
    "from math import pi\n",
    "A=12.566 \n",
    "lc=360\n",
    "N=500\n",
    "i=4\n",
    "lg=2*10**-3\n",
    "m=-A*(lc/lg)\n",
    "c=(N*i*A)/(lg)\n",
    "Hc=(N*i)/(lc)  #flux density\n",
    "print 'The flux density is',Hc"
   ]
  },
  {
   "cell_type": "markdown",
   "metadata": {},
   "source": [
    "## Example 3,Page number 7"
   ]
  },
  {
   "cell_type": "code",
   "execution_count": 15,
   "metadata": {
    "collapsed": false
   },
   "outputs": [
    {
     "name": "stdout",
     "output_type": "stream",
     "text": [
      "The airgap flux value is -7.47688567997e-07\n"
     ]
    }
   ],
   "source": [
    "import math\n",
    "#given\n",
    "N1=500\n",
    "I1=10\n",
    "N2=500\n",
    "I2=10\n",
    "Ibafe=3*52*10**-2\n",
    "A=12.566\n",
    "b=1200\n",
    "Ag=4*10^-4\n",
    "Ac=4*10^-4\n",
    "lg=5*10^-3\n",
    "Ibecore=0.515\n",
    "c=0.0002067\n",
    "d=0.0004134\n",
    "#calculations\n",
    "F1=N1*I1\n",
    "F2=N2*I2\n",
    "Pre=1200*A\n",
    "Rbafe=(Ibafe)/(Pre*Ac)\n",
    "Rg=lg/(A*Ag)\n",
    "Rbecore=Ibecore/(Pre*Ac)\n",
    "Bg=d/(Ag)\n",
    "Hg=Bg/A    # airgap ﬂux\n",
    "print 'The airgap flux value is',Hg\n"
   ]
  },
  {
   "cell_type": "markdown",
   "metadata": {},
   "source": [
    "## Example 4,Page number 8"
   ]
  },
  {
   "cell_type": "code",
   "execution_count": 16,
   "metadata": {
    "collapsed": false
   },
   "outputs": [
    {
     "name": "stdout",
     "output_type": "stream",
     "text": [
      "The magnetic flux is 0.153938040026\n"
     ]
    }
   ],
   "source": [
    "from math import pi\n",
    "# given \n",
    "Irad=20\n",
    "Orad=25\n",
    "Dia=22.5\n",
    "N=250\n",
    "i=2.5\n",
    "B=1.225\n",
    "# calculations\n",
    "l=2*pi*Dia*10**-2\n",
    "radius=1/2*(Irad+Orad)\n",
    "H=(N*i)/l\n",
    "A=pi*((Orad -Irad)/2)**2*10**-4\n",
    "z=(1.225)*(pi*6.25*10**-4)\n",
    "y=(N*z)\n",
    "L=(y/i)\n",
    "core=(B/H)\n",
    "l=(2*pi*22.5*10**-2)\n",
    "Rcore=(l)/(core*A)\n",
    "L=(N**2)/(Rcore)\n",
    "print 'The magnetic flux is',L"
   ]
  },
  {
   "cell_type": "markdown",
   "metadata": {
    "collapsed": true
   },
   "source": [
    "## Example 5,Page number 8"
   ]
  },
  {
   "cell_type": "code",
   "execution_count": 17,
   "metadata": {
    "collapsed": false
   },
   "outputs": [
    {
     "name": "stdout",
     "output_type": "stream",
     "text": [
      "flux density 144.0\n"
     ]
    }
   ],
   "source": [
    "import math\n",
    "# given\n",
    "n=500\n",
    "E=100\n",
    "A=0.001\n",
    "b=1/120\n",
    "f=1.2\n",
    "#calculations\n",
    "max1=(E/1000)*(b)\n",
    "max2=(f*A)\n",
    "E=(120*n*max2*2) # result\n",
    "print 'flux density',E\n"
   ]
  },
  {
   "cell_type": "markdown",
   "metadata": {
    "collapsed": true
   },
   "source": [
    "## Example 6,Page number 9"
   ]
  },
  {
   "cell_type": "code",
   "execution_count": 18,
   "metadata": {
    "collapsed": false
   },
   "outputs": [
    {
     "name": "stdout",
     "output_type": "stream",
     "text": [
      "The dimension Am is 0.000210526315789\n"
     ]
    }
   ],
   "source": [
    "from math import pi\n",
    "#given\n",
    "lg=0.4*10**-2\n",
    "Bg=0.8\n",
    "Hm=42*10**3\n",
    "A=4*pi*10**-7\n",
    "Ag=2.5*10**-4\n",
    "Bm=0.95\n",
    "#calculations\n",
    "Hg=Bg/A\n",
    "lm=(lg/Hm)*Hg\n",
    "Am=(Bg*Ag)/(Bm)\n",
    "print 'The dimension Am is',Am\n"
   ]
  },
  {
   "cell_type": "code",
   "execution_count": null,
   "metadata": {
    "collapsed": true
   },
   "outputs": [],
   "source": []
  }
 ],
 "metadata": {
  "kernelspec": {
   "display_name": "Python 2",
   "language": "python",
   "name": "python2"
  },
  "language_info": {
   "codemirror_mode": {
    "name": "ipython",
    "version": 2
   },
   "file_extension": ".py",
   "mimetype": "text/x-python",
   "name": "python",
   "nbconvert_exporter": "python",
   "pygments_lexer": "ipython2",
   "version": "2.7.10"
  }
 },
 "nbformat": 4,
 "nbformat_minor": 0
}
