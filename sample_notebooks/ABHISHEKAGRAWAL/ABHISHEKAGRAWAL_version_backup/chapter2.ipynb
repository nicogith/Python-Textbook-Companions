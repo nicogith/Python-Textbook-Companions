{
 "metadata": {
  "name": "",
  "signature": "sha256:41187fe2c381fd7b42e97b2fb4a9a8ffca57cedad7f414bab15784b2fa882a72"
 },
 "nbformat": 3,
 "nbformat_minor": 0,
 "worksheets": [
  {
   "cells": [
    {
     "cell_type": "heading",
     "level": 1,
     "metadata": {},
     "source": [
      "Chapter2:ELECTROMAGNETIC PLANE WAVES"
     ]
    },
    {
     "cell_type": "heading",
     "level": 2,
     "metadata": {},
     "source": [
      "Ex2.6.5:pg-69"
     ]
    },
    {
     "cell_type": "code",
     "collapsed": false,
     "input": [
      "\n",
      "  \n",
      "import math                               \n",
      "#(a) Program to find gold-film surface resistance \n",
      "                                                                                   \n",
      "                                                                         \n",
      "t=80*(10**(-10))                             #Film Thickness\n",
      "o=4.1*(10**7)                                #Bulk conductivity                                                                                                                   \n",
      "p=570*(10**(-10))                            #Electron mean free path                                                                                                            \n",
      "of=((3*t*o)/(4*p))*(0.4228 + math.log(p/t))  #the gold-film conductivity is of=(3*t*o/4*p)*(0.4228 + ln(p/t)) \n",
      "\n",
      "Rs=1/(t*of)                                  #the gold-film surface resistance is given by Rs=1/(t*of) in Ohms per square\n",
      "\n",
      "\n",
      "print\"The gold film surface resistance in Ohms per square is=\",round(Rs,2),\"Ohms/square\"\n",
      "\n",
      "\n",
      "#(b) Program to find the microwave attenuation \n",
      "\n",
      "Attenuation=40-20*log10(Rs)                  #Microwave attenuation  \n",
      "\n",
      "print\"Microwave Attenuation in db is=\",int(Attenuation),\"db\"\n",
      "\n",
      "\n",
      "#(c)Light transmittance T\n",
      "\n",
      "print\"From figure No.2-6-5 of Light transmittance T and light attenuation loss L versus wavelength with film thickness t as parameter for gold film, we find that for given gold film of thickness 80 angstrom ,the LIGHT TRANSMITTANCE T is estimated to be 75%\"\n",
      "\n",
      "\n",
      "#(d)light reflection loss R\n",
      "\n",
      "print\"From the same figure the LIGHT REFLECTION LOSS R is about 25%\"\n",
      "                                                             "
     ],
     "language": "python",
     "metadata": {},
     "outputs": [
      {
       "output_type": "stream",
       "stream": "stdout",
       "text": [
        "The gold film surface resistance in Ohms per square is= 12.14 Ohms/square\n",
        "Microwave Attenuation in db is= 18 db\n",
        "From figure No.2-6-5 of Light transmittance T and light attenuation loss L versus wavelength with film thickness t as parameter for gold film, we find that for given gold film of thickness 80 angstrom ,the LIGHT TRANSMITTANCE T is estimated to be 75%\n",
        "From the same figure the LIGHT REFLECTION LOSS R is about 25%\n"
       ]
      }
     ],
     "prompt_number": 1
    },
    {
     "cell_type": "heading",
     "level": 2,
     "metadata": {},
     "source": [
      "Ex2.6.6:pg-74"
     ]
    },
    {
     "cell_type": "code",
     "collapsed": false,
     "input": [
      "              \n",
      "import math                           \n",
      "#(a) Program to find copper-film surface resistance \n",
      "                              \n",
      "                                                                         \n",
      "t=60*(10**(-10))                             #Film Thickness\n",
      "o=5.8*(10**7)                                #Bulk conductivity                                                                                                                   \n",
      "p=420*(10**(-10))                            #Electron mean free path                                                                                                            \n",
      "of=((3*t*o)/(4*p))*(0.4228 + math.log(p/t))  #the copper-film conductivity is of=(3*t*o/4*p)*(0.4228 + ln(p/t))\n",
      "Rs=1/(t*of)                                  #the copper-film surface resistance is given by Rs=1/(t*of) in Ohms per square\n",
      "\n",
      "print\"The copper-film surface resistance in Ohms per square is=\",round(Rs,2),\"Ohms/square\"\n",
      "\n",
      "\n",
      "#(b) Program to find the microwave attenuation \n",
      "\n",
      "Attenuation=40-20*log10(Rs)                  #Microwave attenuation  \n",
      "\n",
      "print\"Microwave Attenuation in db is=\",int(round(Attenuation)),\"db\"\n",
      "\n",
      "#(c)Light transmittance T\n",
      "\n",
      "print\"From figure No.2-6-11 of Light transmittance T and light attenuation loss L versus wavelength with film thickness t as parameter for copper film, we find that for given copper film of thickness 60 angstrom ,the LIGHT TRANSMITTANCE T is estimated to be 82%\"\n",
      "\n",
      "#(d)light reflection loss R\n",
      "\n",
      "print\"From the same figure the LIGHT REFLECTION LOSS R is about 18%\""
     ],
     "language": "python",
     "metadata": {},
     "outputs": [
      {
       "output_type": "stream",
       "stream": "stdout",
       "text": [
        "The copper-film surface resistance in Ohms per square is= 11.32 Ohms/square\n",
        "Microwave Attenuation in db is= 19 db\n",
        "From figure No.2-6-11 of Light transmittance T and light attenuation loss L versus wavelength with film thickness t as parameter for copper film, we find that for given copper film of thickness 60 angstrom ,the LIGHT TRANSMITTANCE T is estimated to be 82%\n",
        "From the same figure the LIGHT REFLECTION LOSS R is about 18%\n"
       ]
      }
     ],
     "prompt_number": 2
    },
    {
     "cell_type": "code",
     "collapsed": false,
     "input": [],
     "language": "python",
     "metadata": {},
     "outputs": []
    }
   ],
   "metadata": {}
  }
 ]
}