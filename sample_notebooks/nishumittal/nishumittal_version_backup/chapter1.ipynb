{
 "metadata": {
  "name": "",
  "signature": "sha256:b803a1650997e1a91a43f6f6211bc977cbde8d0a8e079033f5645dae7b99d4ba"
 },
 "nbformat": 3,
 "nbformat_minor": 0,
 "worksheets": [
  {
   "cells": [
    {
     "cell_type": "heading",
     "level": 1,
     "metadata": {},
     "source": [
      "Chapter 1 Introduction "
     ]
    },
    {
     "cell_type": "heading",
     "level": 2,
     "metadata": {},
     "source": [
      "Example 1.1 Page no 9"
     ]
    },
    {
     "cell_type": "code",
     "collapsed": false,
     "input": [
      "#Given\n",
      "Rs=50                      #ohm\n",
      "\n",
      "#Calculation\n",
      "Rl=100*Rs\n",
      "\n",
      "#Result\n",
      "print\"Load resistance is\",Rl*10**-3,\"ohm\""
     ],
     "language": "python",
     "metadata": {},
     "outputs": [
      {
       "output_type": "stream",
       "stream": "stdout",
       "text": [
        "Load resistance is 5.0 ohm\n"
       ]
      }
     ],
     "prompt_number": 3
    },
    {
     "cell_type": "heading",
     "level": 2,
     "metadata": {},
     "source": [
      "Example 1.2 Page no 12"
     ]
    },
    {
     "cell_type": "code",
     "collapsed": false,
     "input": [
      "#Given\n",
      "Rs=10*10**3                       #Kohm\n",
      "\n",
      "#Calculation\n",
      "Rl=0.01*Rs\n",
      "\n",
      "#Result\n",
      "print\"Value of load resistance is\",Rl,\"Kohm\""
     ],
     "language": "python",
     "metadata": {},
     "outputs": [
      {
       "output_type": "stream",
       "stream": "stdout",
       "text": [
        "Value of load resistance is 100.0 Kohm\n"
       ]
      }
     ],
     "prompt_number": 7
    },
    {
     "cell_type": "heading",
     "level": 2,
     "metadata": {},
     "source": [
      "Example 1.4 Page no 14"
     ]
    },
    {
     "cell_type": "code",
     "collapsed": false,
     "input": [
      "#Given\n",
      "R1=3                           #ohm\n",
      "R2=6\n",
      "R3=4\n",
      "\n",
      "#Calculation\n",
      "Vth=24\n",
      "Rth=R3+((R1*R2)/(R1+R2))\n",
      "\n",
      "#Result\n",
      "print\"Thevenin Voltage is\",Vth,\"V\"\n",
      "print\"Thevenin resistance is\",Rth,\"Kohm\""
     ],
     "language": "python",
     "metadata": {},
     "outputs": [
      {
       "output_type": "stream",
       "stream": "stdout",
       "text": [
        "Thevenin Voltage is 24 V\n",
        "Thevenin resistance is 6 Kohm\n"
       ]
      }
     ],
     "prompt_number": 12
    },
    {
     "cell_type": "heading",
     "level": 2,
     "metadata": {},
     "source": [
      "Example 1.6 Page no 19"
     ]
    },
    {
     "cell_type": "code",
     "collapsed": false,
     "input": [
      "#Given\n",
      "V=10                            #V\n",
      "R=2.0                              #Kohm\n",
      "\n",
      "#Calculation\n",
      "I=V/R\n",
      "\n",
      "#Result\n",
      "print\"Nortan current is\", I,\"mA\""
     ],
     "language": "python",
     "metadata": {},
     "outputs": [
      {
       "output_type": "stream",
       "stream": "stdout",
       "text": [
        "Nortan current is 5.0 mA\n"
       ]
      }
     ],
     "prompt_number": 16
    }
   ],
   "metadata": {}
  }
 ]
}