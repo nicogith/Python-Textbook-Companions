{
 "cells": [
  {
   "cell_type": "markdown",
   "metadata": {},
   "source": [
    "# #Chapter 3:Magnetic Circuits"
   ]
  },
  {
   "cell_type": "markdown",
   "metadata": {},
   "source": [
    "# Example 3.1:Page number-158\n"
   ]
  },
  {
   "cell_type": "code",
   "execution_count": 1,
   "metadata": {
    "collapsed": false
   },
   "outputs": [
    {
     "name": "stdout",
     "output_type": "stream",
     "text": [
      "The reluctance of steel ring is= 1250000.0 AT/Wb\n",
      "The magnetomotive force is= 625.0 AT\n"
     ]
    }
   ],
   "source": [
    "import math\n",
    "\n",
    "#given\n",
    "pi=3.14\n",
    "l=pi*0.2 #l=mean length of the ring=pi*mean diameter of the ring\n",
    "A=400*10**-6 #A=cross sectional area of ring\n",
    "u1=1000 #u1=relative permeability of steel\n",
    "u2=4*pi*10**-7 #relative permeability of air\n",
    "\n",
    "R=l/(A*u1*u2) #reluctance of steel ring\n",
    "\n",
    "print \"The reluctance of steel ring is=\",round(R,0),\"AT/Wb\"\n",
    "\n",
    "#case b\n",
    "\n",
    "flux=500*10**-6\n",
    "f=flux*R\n",
    "\n",
    "print \"The magnetomotive force is=\",round(f,0),\"AT\"\n",
    "\n",
    "\n"
   ]
  },
  {
   "cell_type": "markdown",
   "metadata": {},
   "source": [
    "# Example 3.2:Page number-158"
   ]
  },
  {
   "cell_type": "code",
   "execution_count": 2,
   "metadata": {
    "collapsed": false
   },
   "outputs": [
    {
     "name": "stdout",
     "output_type": "stream",
     "text": [
      "The flux density is= 0.625 Wb/m**2\n",
      "The magnetomotive force is= 375.0 AT\n",
      "The magnetic field strength is= 750.0 AT/m\n",
      "The relative permeability is= 663.0\n",
      "The flux density is= 1.5 Wb/m**2\n",
      "The magnetomotive force is= 1250.0 AT\n",
      "Magnetic field strength= 2500.0 AT/m\n",
      "The relative permeability is= 477.7\n"
     ]
    }
   ],
   "source": [
    "import math\n",
    "\n",
    "#given\n",
    "l=0.5\n",
    "A=4*10**-4\n",
    "N=250\n",
    "I=1.5\n",
    "flux=0.25*10**-3\n",
    "fluxdensity=flux/A \n",
    "\n",
    "f=N*I #magnetomotive force\n",
    "\n",
    "H=(N*I)/l #magnetic field strength\n",
    "\n",
    "pi=3.14\n",
    "u1=4*pi*10**-7\n",
    "u2=fluxdensity/(u1*H)\n",
    "\n",
    "print \"The flux density is=\",round(fluxdensity,3),\"Wb/m**2\"\n",
    "print \"The magnetomotive force is=\",round(f,0),\"AT\"\n",
    "print \"The magnetic field strength is=\",round(H,0),\"AT/m\"\n",
    "print \"The relative permeability is=\",round(u2,0)\n",
    "\n",
    "#case b\n",
    "\n",
    "#given\n",
    "I=5\n",
    "flux=0.6*10**-3\n",
    "A=4*10**-4\n",
    "N=250\n",
    "l=0.5\n",
    "\n",
    "fluxdensity=flux/A\n",
    "\n",
    "print \"The flux density is=\",round(fluxdensity,1),\"Wb/m**2\"\n",
    "\n",
    "f=N*I  #magnetomotive force\n",
    "\n",
    "print \"The magnetomotive force is=\",round(f,0),\"AT\"\n",
    "\n",
    "H=(N*I)/l #magnetic field stength\n",
    "\n",
    "print \"Magnetic field strength=\",round(H,0),\"AT/m\"\n",
    "pi=3.14\n",
    "u1=4*pi*10**-7\n",
    "u2=fluxdensity/(u1*H)\n",
    "\n",
    "print \"The relative permeability is=\",round(u2,1)\n",
    "\n"
   ]
  },
  {
   "cell_type": "markdown",
   "metadata": {},
   "source": [
    "# Example 3.3: Page number-159"
   ]
  },
  {
   "cell_type": "code",
   "execution_count": 3,
   "metadata": {
    "collapsed": false
   },
   "outputs": [
    {
     "name": "stdout",
     "output_type": "stream",
     "text": [
      "Magnetomotive force= 1250.0 AT\n",
      "The reluctance of air gap is= 162154.449 AT/Wb\n",
      "The flux is=  0.006475308 Wb\n",
      "The flux density is= 13.188 Wb/m**2\n",
      "The reluctance of steel string is= 69494.763801 AT/Wb\n"
     ]
    }
   ],
   "source": [
    "import math\n",
    "\n",
    "#given\n",
    "pi=3.14\n",
    "ls=0.627  #mean length of steel string\n",
    "\n",
    "la=0.0001 #length of air gap\n",
    "\n",
    "A=4.91*10**-4  #cross sectional area of magnetic circuit\n",
    "\n",
    "f=N*I #magnetomotive force\n",
    "print \"Magnetomotive force=\",round(f,0),\"AT\"\n",
    "\n",
    "fa=1050  #fa=mmf of air gap=1050AT\n",
    "\n",
    "fs=450    #fs=mmf of steel ring=450\n",
    "\n",
    "#case b\n",
    "\n",
    "u1=4*pi*10**-7\n",
    "ra=la/(u1*A) #reluctance of air gap\n",
    "\n",
    "print \"The reluctance of air gap is=\",round(ra,3),\"AT/Wb\"\n",
    "\n",
    "flux=fa/ra\n",
    "\n",
    "print \"The flux is= \",round(flux,20),\"Wb\"\n",
    "\n",
    "\n",
    "#case c\n",
    "\n",
    "fluxdensity=flux/A\n",
    "\n",
    "print \"The flux density is=\",round(fluxdensity,5),\"Wb/m**2\"\n",
    "\n",
    "#case d\n",
    "\n",
    "rs=fs/flux #reluctance of steel string\n",
    "\n",
    "print \"The reluctance of steel string is=\",round(rs,6),\"AT/Wb\"\n",
    "\n",
    "\n",
    "\n",
    "\n",
    "\n"
   ]
  },
  {
   "cell_type": "code",
   "execution_count": null,
   "metadata": {
    "collapsed": true
   },
   "outputs": [],
   "source": []
  },
  {
   "cell_type": "markdown",
   "metadata": {},
   "source": [
    "# Example 3.4: Page number-160"
   ]
  },
  {
   "cell_type": "code",
   "execution_count": 24,
   "metadata": {
    "collapsed": false
   },
   "outputs": [
    {
     "name": "stdout",
     "output_type": "stream",
     "text": [
      "The air gap= 955414.01274 AT/m\n",
      "The magnetomotive force is= 5.0 AT\n",
      "hs= 1061.57 AT/m\n",
      "The magnetomotive force for air gap is= 318.47 AT\n",
      "Total mmf= 323.47 AT\n"
     ]
    }
   ],
   "source": [
    "import math\n",
    "\n",
    "#given\n",
    "\n",
    "la=2*10**-3 #length of the air gap\n",
    "ls=0.3      #lentgh of the cast steel core\n",
    "B=1.2\n",
    "\n",
    "ha=B/u1\n",
    "\n",
    "print \"The air gap=\",round(ha,5),\"AT/m\"\n",
    "\n",
    "fa=H*la  #magnetomotive ofrce for air gap\n",
    "\n",
    "print \"The magnetomotive force is=\",round(fa,0),\"AT\"\n",
    "\n",
    "u2=900\n",
    "hs=B/(u1*u2)\n",
    "\n",
    "print \"hs=\",round(hs,2),\"AT/m\"\n",
    "\n",
    "fs=hs*ls   #magnetomotive force for air gap\n",
    "\n",
    "print \"The magnetomotive force for air gap is=\",round(fs,2),\"AT\"\n",
    "\n",
    "totmmf=fa+fs\n",
    "\n",
    "print \"Total mmf=\",round(totmmf,2),\"AT\"\n",
    "\n"
   ]
  },
  {
   "cell_type": "markdown",
   "metadata": {},
   "source": [
    "# Example 3.5-Page number-161 "
   ]
  },
  {
   "cell_type": "code",
   "execution_count": 26,
   "metadata": {
    "collapsed": false
   },
   "outputs": [
    {
     "name": "stdout",
     "output_type": "stream",
     "text": [
      "flux density is= 2.15844 mWb/m**2\n"
     ]
    }
   ],
   "source": [
    "import math\n",
    "\n",
    "#given\n",
    "\n",
    "f=200 #total mmf\n",
    "#ra=2*10**-3/(u1*a)  #reluctance of air gap\n",
    "#ri=10**-3/(u1*a)    #reluctance of iron core\n",
    "#r=3*10**-3/(u1*a)   #reluctance of magnetic circuit\n",
    "\n",
    "#flux=f/r\n",
    "\n",
    "a=3*10**-3\n",
    "fluxdensity=flux/a\n",
    "\n",
    "print \"flux density is=\",round(fluxdensity,5),\"mWb/m**2\"\n",
    "\n",
    "\n"
   ]
  },
  {
   "cell_type": "markdown",
   "metadata": {},
   "source": [
    "# Example 3.6-Page number-161"
   ]
  },
  {
   "cell_type": "code",
   "execution_count": 12,
   "metadata": {
    "collapsed": false
   },
   "outputs": [
    {
     "name": "stdout",
     "output_type": "stream",
     "text": [
      "The relucatance of air gap is= 497611.464968 AT/wb\n",
      "The flux density in central limb is= 0.1125 Wb/m**2\n",
      "The mmf drop in central limb is= 300.0 AT\n",
      "fabh= 500.0 AT\n",
      "The total mmf required is= 1695.0 AT\n",
      "The required current is= 2.825 A\n"
     ]
    }
   ],
   "source": [
    "import math\n",
    "\n",
    "#given\n",
    "\n",
    "fluxa=0.00018  #flux in the air gap\n",
    "la=0.1*10**-2       #length of the air gap\n",
    "ac=16*10**-4  #area of cross section\n",
    "u1=4*3.14*10**-7\n",
    "\n",
    "ra=la/(u1*ac)       #reluctance of the air gap\n",
    "\n",
    "print \"The relucatance of air gap is=\",round(ra,10),\"AT/wb\"\n",
    "\n",
    "#fa=fluxa*ra       #mmf required to set up flux in air gap\n",
    "\n",
    "#print \"The mmf required to set up flux in air gap is=\",round(fa,10),\"AT\" --> This rounds to 895\n",
    "\n",
    "fa=895\n",
    "\n",
    "B=fluxa/ac        #flux density in central limb\n",
    "\n",
    "print \"The flux density in central limb is=\",round(B,10),\"Wb/m**2\"\n",
    "\n",
    "#given from B-H curve, when B=1.125 the field density required is hc=1000 AT/m\n",
    "#given\n",
    "\n",
    "hc=1000  #as above\n",
    "\n",
    "lc=30*10**-2   #length of central limb\n",
    "\n",
    "fc=hc*lc   #mmf drop in central limb\n",
    "\n",
    "print \"The mmf drop in central limb is=\",round(fc,0),\"AT\"\n",
    "\n",
    "#from the diagram the flux density in parallel path fabh is flux(a)/2 =0.5625 Wb/m**2 and field intensity H=625 AT/m\n",
    "\n",
    "#given\n",
    "\n",
    "lp=80*10**-2   #length of parallel path\n",
    "\n",
    "H=625   #from above\n",
    "\n",
    "fabh=H*lp\n",
    "\n",
    "print \"fabh=\",round(fabh,0),\"AT\"\n",
    "\n",
    "F=fa+fc+fabh\n",
    "\n",
    "print \"The total mmf required is=\",round(F,0),\"AT\"\n",
    "\n",
    "#given\n",
    "N=600   #number of turns\n",
    "I=F/N\n",
    "\n",
    "print \"The required current is=\",round(I,5),\"A\""
   ]
  },
  {
   "cell_type": "markdown",
   "metadata": {},
   "source": [
    "# Example 3.7:Page number-163"
   ]
  },
  {
   "cell_type": "code",
   "execution_count": 23,
   "metadata": {
    "collapsed": false
   },
   "outputs": [
    {
     "name": "stdout",
     "output_type": "stream",
     "text": [
      "B= 0.7 Wb/m**2\n",
      "mmf= 111.4 AT\n",
      "totmmf= 223.85 AT\n",
      "h2= 298.46667 AT\n",
      "flux2= 0.0014 Wb\n",
      "total mmf in fabc= 2250.0 Wb/m**2\n",
      "totmmfm= 2473.85 AT\n",
      "The total current required to set up flux in air gap is= 4.9477 A\n"
     ]
    }
   ],
   "source": [
    "import math\n",
    "\n",
    "#given\n",
    "\n",
    "fluxa=1.4*10**-3\n",
    "area=0.002\n",
    "\n",
    "B=fluxa/area  #flux density in air gap \n",
    "\n",
    "print \"B=\",round(B,3),\"Wb/m**2\"\n",
    "\n",
    "#u1=4*3.14*10**-7\n",
    "#ha=B/u1 in AT/m    #magnetic field in air gap\n",
    "ha=55.7\n",
    "\n",
    "la=2  #length of air gap in m\n",
    "mmf=ha*la  #mmf of air gap\n",
    "print \"mmf=\",round(mmf,3),\"AT\"\n",
    "\n",
    "#since the flux density of central limb is 0.7 the corresponding field srength is h1=250AT/m\n",
    "h1=250\n",
    "mmfl=112.45  #mmf for magnetic central limb-->mmf=250*(450-0.2)*10**-3\n",
    "\n",
    "totmmf=mmf+mmfl\n",
    "\n",
    "print \"totmmf=\",round(totmmf,5),\"AT\"\n",
    "\n",
    "#mean length of core CGHF=0.75m\n",
    "\n",
    "ml=0.75 #as above\n",
    "\n",
    "#since the central limb and magnetic core are in parallel they have same mmf that is 223.86AT\n",
    "\n",
    "\n",
    "h2=totmmf/ml #magnetic intensity in CGHF\n",
    "\n",
    "print \"h2=\",round(h2,5),\"AT\"\n",
    "\n",
    "flux2=B*area  \n",
    "print \"flux2=\",round(flux2,5),\"Wb\"\n",
    "\n",
    "totflux=fluxa+flux2  #Wb\n",
    "Bfabc=totflux/area   #flux density in magnetic core fabc in Wb/m**2\n",
    "\n",
    "H=3000 #AT/m\n",
    "totmmffabc=H*ml  #total mmf in fabc in AT\n",
    "print \"total mmf in fabc=\",round(totmmffabc,5),\"Wb/m**2\"\n",
    "\n",
    "totmmfm=totmmffabc+totmmf  #total mmf in magnetic core in AT\n",
    "\n",
    "print \"totmmfm=\",round(totmmfm,5),\"AT\"\n",
    "\n",
    "N=500\n",
    "I=totmmfm/N   #The required current to set up flux in air gap\n",
    "\n",
    "print \"The total current required to set up flux in air gap is=\",round(I,5),\"A\"\n",
    "\n",
    "\n",
    "\n",
    "\n"
   ]
  },
  {
   "cell_type": "markdown",
   "metadata": {
    "collapsed": true
   },
   "source": [
    "# Example 3.8:Page number-171"
   ]
  },
  {
   "cell_type": "code",
   "execution_count": 25,
   "metadata": {
    "collapsed": false
   },
   "outputs": [
    {
     "name": "stdout",
     "output_type": "stream",
     "text": [
      "l1= 0.004 mH\n",
      "m12= 0.003 mH\n",
      "l2= 0.006 mH\n",
      "m21= 0.003 mH\n",
      "Work done= 7.7 J\n"
     ]
    }
   ],
   "source": [
    "import math\n",
    "\n",
    "#given\n",
    "\n",
    "r1=3.98*10**6   #reluctance of air gap in AT/Wb and the value is same for r2\n",
    "r3=5.97*10**6   #reluctance of air gap in AT/Wb\n",
    "\n",
    "#assume that current of 1A flows through 150 turns coil,for assumed directions of fluxes application of mesh current leads to matrix equations that can be simplified to:\n",
    "#[flux1 flux2]=[2.36 1.41]*10**-5 Wb\n",
    "\n",
    "#The self inductance and mutual inductance are obtained as follows:\n",
    "\n",
    "n1=150 #number of turns\n",
    "i1=1   #A\n",
    "flux1=2.36*10**-5  #Wb\n",
    "l1=(n1*flux1)/i1  #self inductance\n",
    "\n",
    "print \"l1=\",round(l1,3),\"mH\"\n",
    "\n",
    "n2=200  #number of turns\n",
    "flux2=1.41*10**-5\n",
    "m12=(n2*flux2)/i1  #mutual inductance\n",
    "\n",
    "print \"m12=\",round(m12,3),\"mH\"\n",
    "\n",
    "#assume that 1A of current flows through 200 turns coil\n",
    "#The self inductance of the coil is determined as above using the matrix and the result is as follows\n",
    "#[flux1 flux2]=[1.89 3.14]*10**-5 Wb\n",
    "#Hence self and mutual inductance are computed as follows\n",
    "\n",
    "n2=200 #number of turns\n",
    "flux2=3.14*10**-5 #Wb\n",
    "i2=1 #A\n",
    "l2=(n2*flux2)/i2  #self inductance\n",
    "\n",
    "print \"l2=\",round(l2,3),\"mH\"\n",
    "\n",
    "flux1=1.89*10**-5\n",
    "m21=(n1*flux1)/i2  #mutual inductance\n",
    "print \"m21=\",round(m21,3),\"mH\"\n",
    "\n",
    "#case b\n",
    "#When the air gap l3 is closed the reluctance of the limb is zero since the permeability of the magnetic material is infinity.Thus,the limb behaves like short circuit and the entire flux passes through it.Thus,the flux linking 200 turns coil is zero and mutual inductance is zero\n",
    "\n",
    "#case 3\n",
    "\n",
    "W=((3.5)/2)+((6.3)/2)+2.8 #work equation in joules\n",
    "print \"Work done=\",round(W,5),\"J\"\n"
   ]
  },
  {
   "cell_type": "markdown",
   "metadata": {},
   "source": [
    "# Example 3.9:Page number-174"
   ]
  },
  {
   "cell_type": "code",
   "execution_count": 2,
   "metadata": {
    "collapsed": false
   },
   "outputs": [
    {
     "name": "stdout",
     "output_type": "stream",
     "text": [
      "i= 7.85 A\n",
      "l= 0.20382 H\n",
      "rair= 3184713.3758 AT/Wb\n",
      "fair= 6369.42675 AT\n",
      "total mmf= 12602.60675 AT\n",
      "L= 0.10157 H\n"
     ]
    }
   ],
   "source": [
    "import math\n",
    "\n",
    "#given\n",
    "\n",
    "B=0.8 #Wb/m**2\n",
    "A=25*10**-4 #m**2\n",
    "flux=20*10**-4 #Wb\n",
    "l=3.14*40*10**-2 #m\n",
    "f=2000*3.14 #AT\n",
    "n=800 #number of turns\n",
    "\n",
    "#case a\n",
    "i=f/n  #A exciting current\n",
    "\n",
    "print \"i=\",round(i,3),\"A\"\n",
    "\n",
    "l=(n*flux)/i   #self inductance in H\n",
    "\n",
    "print \"l=\",round(l,5),\"H\"\n",
    "\n",
    "#case b\n",
    "\n",
    "fluxa=20*10**-4  #Wb\n",
    "\n",
    "gap=1*10**-2\n",
    "u1=4*3.14*10**-7\n",
    "rair=gap/(u1*A) #reluctance of air in AT/Wb\n",
    "\n",
    "print \"rair=\",round(rair,5),\"AT/Wb\"\n",
    "\n",
    "fair=rair*flux  #mmf for air gap in AT\n",
    "\n",
    "print \"fair=\",round(fair,5),\"AT\"\n",
    "\n",
    "fcore=6233.18 #AT--> 5000*((0.4*3.14)-0.01)=6233.18\n",
    "\n",
    "totmmf=fcore+fair\n",
    "\n",
    "print \"total mmf=\",round(totmmf,5),\"AT\"\n",
    "\n",
    "I=totmmf/n #A exciting current\n",
    "\n",
    "#self inductance\n",
    "L=(n*flux)/I\n",
    "print \"L=\",round(L,5),\"H\"\n",
    "\n"
   ]
  },
  {
   "cell_type": "markdown",
   "metadata": {},
   "source": [
    "# Example 3.10:Page number-175"
   ]
  },
  {
   "cell_type": "code",
   "execution_count": 7,
   "metadata": {
    "collapsed": false
   },
   "outputs": [
    {
     "name": "stdout",
     "output_type": "stream",
     "text": [
      "lx= 0.01 H\n",
      "m= 0.015 H\n",
      "The induced emf in coil Y= 30.0 V\n"
     ]
    }
   ],
   "source": [
    "import math\n",
    "\n",
    "#given\n",
    "n=2000 #number of turns\n",
    "flux=0.05*10**-3 #Wb\n",
    "i=10 #A\n",
    "\n",
    "lx=(n*flux)/i   #self inductance in X\n",
    "\n",
    "print \"lx=\",round(lx,5),\"H\"\n",
    "\n",
    "#since coils are identical self inductance in Y=self inductance in x\n",
    "\n",
    "fluxlinkingX=0.75*0.05*10**-3  #Wb flux linking due to current in coil X\n",
    "fluxlinkingY=2000*0.05*0.75*10**-3  #Wb flux linkages in coil Y\n",
    "\n",
    "m=fluxlinkingY/5  #mutual inductance\n",
    "\n",
    "print \"m=\",round(m,5),\"H\"\n",
    "\n",
    "#The rate of change in current di/dt=2000A/sec --> di/dt=(10-(-10))/0.01\n",
    "\n",
    "rate=2000\n",
    "ey=m*rate\n",
    "\n",
    "print \"The induced emf in coil Y=\",round(ey,0),\"V\"\n"
   ]
  },
  {
   "cell_type": "markdown",
   "metadata": {},
   "source": [
    "# Example 3.11:Page number-175"
   ]
  },
  {
   "cell_type": "code",
   "execution_count": 8,
   "metadata": {
    "collapsed": false
   },
   "outputs": [
    {
     "name": "stdout",
     "output_type": "stream",
     "text": [
      "k=0.72168\n"
     ]
    }
   ],
   "source": [
    "import math\n",
    "\n",
    "#given\n",
    "#when currents are in same direction the total induction is:\n",
    "#lt=l1+l2+2m\n",
    "#when currents are in opposite direction the total emf is:\n",
    "#lt=l1+l2-2m\n",
    "#According to this problem\n",
    "#l1+l2+2m=1.2\n",
    "#l1+l2-2m=0.2\n",
    "#Solving the above equations we get l1=0.4H M=0.25H\n",
    "#on substituting we get l2=0.3H\n",
    "#k=m/squareroot(l1*l2)\n",
    "print \"k=0.72168\""
   ]
  },
  {
   "cell_type": "markdown",
   "metadata": {},
   "source": [
    "# Example 3.12:Page number-176"
   ]
  },
  {
   "cell_type": "code",
   "execution_count": 13,
   "metadata": {
    "collapsed": false
   },
   "outputs": [
    {
     "name": "stdout",
     "output_type": "stream",
     "text": [
      "flux 0.0001 Wb\n",
      "i 0.3125 A\n",
      "l= 0.08 H\n",
      "w= 0.00391 J\n",
      "796.178343949\n",
      "exciting current= 6.3 A\n",
      "l= 0.00397 H\n",
      "e= 0.07881 J\n"
     ]
    }
   ],
   "source": [
    "import math\n",
    "\n",
    "#given\n",
    "#case a\n",
    "B=1 #Wb/m**2\n",
    "A=10**-4 #cm**2\n",
    "per=800 #permeability\n",
    "n=250 #number of turns\n",
    "\n",
    "flux=B*A\n",
    "\n",
    "print \"flux\",round(flux,5),\"Wb\"\n",
    "\n",
    "r=781250   #AT/Wb calculated using formula for reluctance\n",
    "\n",
    "mmf=flux*r #AT\n",
    "\n",
    "i=mmf/n  #exciting current required in A\n",
    "\n",
    "print \"i\",round(i,5),\"A\"\n",
    "\n",
    "l=(n*flux)/i  #self inductance of the coil\n",
    "\n",
    "print \"l=\",round(l,5),\"H\"\n",
    "\n",
    "w=(l*i*i)/2  #energy stored\n",
    "\n",
    "print \"w=\",round(w,5),\"J\"\n",
    "\n",
    "#case b\n",
    "\n",
    "airgap=1*10**-3   #air gap is assumed \n",
    "rair=airgap/(u1*A) #reluctance of air gap in AT/Wb\n",
    "mmfa=flux*rair     #mmf of air in AT\n",
    "print mmfa\n",
    "#rcore=((2.5*3.14)-0.1)/(32*3.14*10**-6)  #reluctance of core \n",
    "#mmfc=flux*rcore\n",
    "mmfc=780 #AT\n",
    "F=mmfc+mmfa\n",
    "\n",
    "I=F/n  #A\n",
    "\n",
    "print \"exciting current=\",round(I,2),\"A\"\n",
    "\n",
    "n=250 #number of turns\n",
    "L=(n*flux)/I   #self inductanc eof coil with air gap \n",
    "\n",
    "print \"l=\",round(L,5),\"H\"\n",
    "\n",
    "e=(L*I*I)/2  #energy stored in coil\n",
    "\n",
    "print \"e=\",round(e,5),\"J\"\n",
    "\n"
   ]
  },
  {
   "cell_type": "markdown",
   "metadata": {},
   "source": [
    "# Example 3.13:Page number:178"
   ]
  },
  {
   "cell_type": "code",
   "execution_count": 16,
   "metadata": {
    "collapsed": false
   },
   "outputs": [
    {
     "name": "stdout",
     "output_type": "stream",
     "text": [
      "force= 39808.9172 N\n",
      "W= 796.17834 J\n"
     ]
    }
   ],
   "source": [
    "import math\n",
    "\n",
    "#given\n",
    "A=10**-1  #area\n",
    "flux=0.1 #Wb\n",
    "\n",
    "#case a\n",
    "\n",
    "B=flux/A  #flux density Wb/m**2\n",
    "\n",
    "u1=4*3.14*10**-7  \n",
    "F=(B*B*A)/(2*u1) #force in N\n",
    "print \"force=\",round(F,5),\"N\"\n",
    "\n",
    "#case b\n",
    "\n",
    "l=10**-2  #length of the air gap\n",
    "w=(B*B*A*l*2)/(2*u1)   #energy stored in two airgaps, 2=air gaps\n",
    "\n",
    "print \"W=\",round(w,5),\"J\"\n"
   ]
  },
  {
   "cell_type": "code",
   "execution_count": null,
   "metadata": {
    "collapsed": true
   },
   "outputs": [],
   "source": []
  }
 ],
 "metadata": {
  "kernelspec": {
   "display_name": "Python 2",
   "language": "python",
   "name": "python2"
  },
  "language_info": {
   "codemirror_mode": {
    "name": "ipython",
    "version": 2
   },
   "file_extension": ".py",
   "mimetype": "text/x-python",
   "name": "python",
   "nbconvert_exporter": "python",
   "pygments_lexer": "ipython2",
   "version": "2.7.9"
  }
 },
 "nbformat": 4,
 "nbformat_minor": 0
}
