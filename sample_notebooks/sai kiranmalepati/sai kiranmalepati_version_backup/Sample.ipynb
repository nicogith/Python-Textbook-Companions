{
 "cells": [
  {
   "cell_type": "markdown",
   "metadata": {},
   "source": [
    "# SAMPLE NOTEBOOK"
   ]
  },
  {
   "cell_type": "markdown",
   "metadata": {},
   "source": [
    "\n",
    "\n",
    "\n",
    "## ch-9 page 227   pb-1"
   ]
  },
  {
   "cell_type": "code",
   "execution_count": 12,
   "metadata": {
    "collapsed": false
   },
   "outputs": [
    {
     "name": "stdout",
     "output_type": "stream",
     "text": [
      "('load current =', 21.78649237472767)\n",
      "('design current=', 28.32244008714597)\n",
      "('Derating factor=', 0.92)\n",
      "('fuse rating=', 30.785260964289098)\n"
     ]
    }
   ],
   "source": [
    "\n",
    "from __future__ import division\n",
    "\n",
    "import math\n",
    "\n",
    "vi=120;\n",
    "k=1000;\n",
    "pi=2*k;\n",
    "eff=0.90;\n",
    "pf=0.85;\n",
    "t=65;\n",
    "\n",
    "lc=(pi)/(vi*eff*pf);\n",
    "print('load current =',lc);\n",
    "\n",
    "dc=1.3*lc;\n",
    "print('design current=',dc);\n",
    "\n",
    "df=(0.2/100)*(t-25);\n",
    "df=11.5*df;\n",
    "print('Derating factor=',df);\n",
    "\n",
    "fr=dc/df;\n",
    "print('fuse rating=',fr);\n"
   ]
  },
  {
   "cell_type": "markdown",
   "metadata": {},
   "source": [
    "\n",
    "\n",
    "\n",
    "## ch-10 page 268   pb-6"
   ]
  },
  {
   "cell_type": "code",
   "execution_count": 13,
   "metadata": {
    "collapsed": false
   },
   "outputs": [
    {
     "name": "stdout",
     "output_type": "stream",
     "text": [
      "('power delivered =', 500000.0, 'watts')\n",
      "('power loss=', 10000.0, 'watts')\n",
      "(510583.1892725521, 241709.44403085182)\n",
      "('kvar_cap=', 268.87374524170025)\n",
      "('c=', 10.111669570616154, 'micro farad/ph')\n",
      "('differences in kva demand=', 158.7301587301588)\n",
      "('loss in cable =', 0.6049382716049381)\n",
      "('cost saving=', 5294.849999999999)\n",
      "('total three phase capacitor cost=', 48397.274143506045, '$')\n",
      "('capacitor cost will be recoverred in', 9.140442910281887, 'months')\n"
     ]
    }
   ],
   "source": [
    "\n",
    "from __future__ import division\n",
    "\n",
    "import math\n",
    "\n",
    "lpf1=0.70;\n",
    "lpf2=0.90;\n",
    "vi=460;\n",
    "f=60;\n",
    "k=1000;\n",
    "p=1500*k;\n",
    "time=300;\n",
    "cost=60;\n",
    "l=2/100;\n",
    "theta1=45.6;\n",
    "theta2=25.8;\n",
    "pd=p/3; #since 3 phase;\n",
    "pl=l*pd;\n",
    "\n",
    "print('power delivered =',pd,'watts');\n",
    "print('power loss=',pl,'watts');\n",
    "\n",
    "var1=pd*(math.tan((math.pi/180)*theta1));\n",
    "var2=pd*(math.tan((math.pi/180)*theta2));\n",
    "var=var1-var2;\n",
    "print(var1,var2);\n",
    "kvar=var/1000;\n",
    "print('kvar_cap=',kvar);\n",
    "\n",
    "vp=vi/(math.sqrt(3));\n",
    "w=2*math.pi*f;\n",
    "\n",
    "c=(1000*kvar)/(w*vp*vp);\n",
    "c=c*1000;\n",
    "print('c=',c,'micro farad/ph');\n",
    "\n",
    "kva1=(pd/1000)/lpf1;\n",
    "kva2=(pd/1000)/lpf2;\n",
    "\n",
    "dkva=kva1-kva2;\n",
    "print('differences in kva demand=',dkva);\n",
    "\n",
    "loss=(lpf1/lpf2)*(lpf1/lpf2);\n",
    "print('loss in cable =',loss);\n",
    "\n",
    "kvas=3*158.72;\n",
    "\n",
    "scl=3*3.95;\n",
    "\n",
    "tcost=10*kvas+0.15*scl*time;\n",
    "print('cost saving=',tcost);\n",
    "\n",
    "tccost=cost*3*kvar;\n",
    "\n",
    "print('total three phase capacitor cost=',tccost,'$');\n",
    "\n",
    "duration=tccost/tcost;\n",
    "print('capacitor cost will be recoverred in',duration,'months');\n"
   ]
  },
  {
   "cell_type": "markdown",
   "metadata": {},
   "source": [
    "\n",
    "\n",
    "\n",
    "## ch-13 page 340   pb-3"
   ]
  },
  {
   "cell_type": "code",
   "execution_count": 14,
   "metadata": {
    "collapsed": false
   },
   "outputs": [
    {
     "name": "stdout",
     "output_type": "stream",
     "text": [
      "('duty cycle=', 0.5)\n",
      "('avg o/p voltage=', 60.0)\n",
      "('avg o/p current=', 4.0)\n",
      "('avg o/p power=', 240.0)\n",
      "('L min=', 3.0, 'mhenry')\n"
     ]
    }
   ],
   "source": [
    "\n",
    "from __future__ import division\n",
    "\n",
    "import math\n",
    "\n",
    "v=120;\n",
    "i=2;\n",
    "f=1000;\n",
    "to=(0.5)/1000;\n",
    "\n",
    "T=1/f;\n",
    "\n",
    "dr=(to)/T;\n",
    "print('duty cycle=',dr);\n",
    "\n",
    "vo=dr*v;\n",
    "io=i/dr;\n",
    "po=vo*io;\n",
    "\n",
    "print('avg o/p voltage=',vo);\n",
    "print('avg o/p current=',io);\n",
    "print('avg o/p power=',po);\n",
    "\n",
    "L=(dr*(v/10))/2;\n",
    "\n",
    "print('L min=',L,'mhenry');\n"
   ]
  },
  {
   "cell_type": "markdown",
   "metadata": {},
   "source": [
    "\n",
    "\n",
    "\n",
    "## ch-14 page 363   pb-4"
   ]
  },
  {
   "cell_type": "code",
   "execution_count": 15,
   "metadata": {
    "collapsed": false
   },
   "outputs": [
    {
     "name": "stdout",
     "output_type": "stream",
     "text": [
      "('V dc=', 339.4112549695428)\n",
      "('I dc=', 5.892556509887896)\n",
      "('fundamental ac side rms current =', 8.333333333333334)\n",
      "('THD=', 0.8259394650941436)\n",
      "('I ac(rms)=', 10.77677544021814)\n",
      "('I dc(rms)=', 9.023118455759443)\n"
     ]
    }
   ],
   "source": [
    "\n",
    "from __future__ import division\n",
    "import math\n",
    "\n",
    "v=240;\n",
    "f=60;\n",
    "p=2000;\n",
    "dpf=1;\n",
    "k1=73.2;k2=36.6;k3=8.1;k4=5.7;\n",
    "k5=4.1;k6=2.9;k7=0.8;k8=0.4;\n",
    "h1=3;h2=5;h3=7;h4=9;h5=11;h6=13;h7=17;\n",
    "\n",
    "vdc=math.sqrt(2)*v;\n",
    "\n",
    "idc=p/vdc;\n",
    "print('V dc=',vdc);\n",
    "print('I dc=',idc);\n",
    "pac=p/dpf;\n",
    "\n",
    "\n",
    "is1=p/v;\n",
    "\n",
    "print('fundamental ac side rms current =',is1);\n",
    "\n",
    "k=(k1*k1)+k2*k2+k3*k3+k4*k4+k5*k5+k6*k6+k7*k7;\n",
    "thd=(math.sqrt(k))/100;\n",
    "print('THD=',thd);\n",
    "\n",
    "iac=is1*(math.sqrt(1+(0.82*0.82)));\n",
    "\n",
    "idcr=math.sqrt((iac*iac)-(idc*idc));\n",
    "\n",
    "print('I ac(rms)=',iac);\n",
    "print('I dc(rms)=',idcr);\n",
    "\n"
   ]
  },
  {
   "cell_type": "markdown",
   "metadata": {},
   "source": [
    "\n",
    "\n",
    "\n",
    "## ch-16 page 454   pb-6"
   ]
  },
  {
   "cell_type": "code",
   "execution_count": 16,
   "metadata": {
    "collapsed": false
   },
   "outputs": [
    {
     "name": "stdout",
     "output_type": "stream",
     "text": [
      "('fundamental load current =', 240.5626121623441)\n"
     ]
    }
   ],
   "source": [
    "\n",
    "from __future__ import division\n",
    "import math\n",
    "\n",
    "v=480;\n",
    "k=1000;\n",
    "p=200*k;\n",
    "thd=600;\n",
    "\n",
    "lc=p/(math.sqrt(3)*v);\n",
    "\n",
    "print('fundamental load current =',lc);\n"
   ]
  }
 ],
 "metadata": {
  "anaconda-cloud": {},
  "kernelspec": {
   "display_name": "Python [default]",
   "language": "python",
   "name": "python2"
  },
  "language_info": {
   "codemirror_mode": {
    "name": "ipython",
    "version": 2
   },
   "file_extension": ".py",
   "mimetype": "text/x-python",
   "name": "python",
   "nbconvert_exporter": "python",
   "pygments_lexer": "ipython2",
   "version": "2.7.12"
  }
 },
 "nbformat": 4,
 "nbformat_minor": 1
}
