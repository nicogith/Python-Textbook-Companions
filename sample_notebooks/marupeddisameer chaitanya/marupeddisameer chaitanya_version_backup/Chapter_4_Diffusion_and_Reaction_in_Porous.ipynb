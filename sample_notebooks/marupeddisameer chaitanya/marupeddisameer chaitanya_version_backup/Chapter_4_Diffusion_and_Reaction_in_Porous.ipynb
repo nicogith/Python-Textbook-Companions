{
 "cells": [
  {
   "cell_type": "markdown",
   "metadata": {},
   "source": [
    "# Chapter 4 Diffusion and Reaction in Porous Catalysts"
   ]
  },
  {
   "cell_type": "markdown",
   "metadata": {},
   "source": [
    "## Example 4_1 pgno:135"
   ]
  },
  {
   "cell_type": "code",
   "execution_count": 1,
   "metadata": {
    "collapsed": false
   },
   "outputs": [
    {
     "name": "stdout",
     "output_type": "stream",
     "text": [
      "\n",
      " OUTPUT Ex4.1.a\n",
      "\n",
      "=================================================\n",
      "\n",
      "The predicted diffusivity of Chlorine is  cm2/s  0.00217149494706\n",
      "\n",
      "\n",
      " OUTPUT Ex4.1.b\n",
      "\n",
      "=================================================\n",
      "\n",
      "The tortusity value =  1.25277093159\n",
      "\n",
      "\n",
      " OUTPUT Ex4.1.b\n",
      "\n",
      "=================================================\n",
      "\n",
      "The Effective diffusivity of Chlorine  K a atm =   cm2/sec  573.0 15.0 1.83302312261e-09\n"
     ]
    }
   ],
   "source": [
    "#Harriot P.,2003,Chemical Reactor Design (I-Edition) Marcel Dekker,Inc.,USA,pp 436.\n",
    "#Chapter-4 Ex4.1 Pg No. 135\n",
    "#Title:Diffusivity of Chlorine and tortuosity in catalyst pellet\n",
    "#===========================================================================================================\n",
    "# COMMON INPUT \n",
    "S_g=235.;#Total surface per gram (m2/g)\n",
    "V_g=0.29E-6;#Pore volume per gram (cm3/g)\n",
    "rho_p=1.41;#Density of particle (g/cm3)\n",
    "D_He=0.0065;#Effective diffusivity of He (cm2/sec)\n",
    "D_AB=0.73;# at 1atm and 298K\n",
    "M_He=4.;#Molecular weight of He\n",
    "M_Cl2=70.09;#Molecular weight of Cl2\n",
    "T_ref=293;#Reference temperature\n",
    "T_degC=300.;\n",
    "T_01=T_degC+273;#Reaction temperature(K) (Ex4.1.a)\n",
    "T_02=298.;#Operating temperature  (Ex4.1.b)\n",
    "T_03=573.;#operating temperature (Ex4.1.c)\n",
    "P_ref=1;#Reference pressure\n",
    "D_Cl2_CH4=0.15;#at 1atm 273K\n",
    "P=15.;#operating pressure \n",
    "#tau=1.25;#From value calculated in Ex4.1.b Pg. No. 136\n",
    "from math import sqrt\n",
    "\n",
    "\n",
    "#CALCULATION (Ex4.1.a)\n",
    "r_bar=2*V_g/S_g;#Mean Pore radius\n",
    "D_Cl2_Ex_a=D_He*((M_He/M_Cl2)*(T_01/T_ref))**(0.5);#Assuming Knudsen flow at 573K\n",
    "\n",
    "#CALCULATION (Ex4.1.b)\n",
    "r_bar=2.*V_g*(10**6)/(S_g *(10**4));\n",
    "D_K=9700.*(r_bar)*(T_ref/M_He)**(0.5);#Knudsen flow\n",
    "D_AB1=D_AB*(293./298.)**(1.7)# at 1.5 atm and 293K\n",
    "D_pore=1./((1./D_K)+(1./D_AB1));#pore diffusion\n",
    "Epsilon=V_g*rho_p*(10**6);\n",
    "tau=(D_pore*Epsilon)/D_He;#Tortusity\n",
    "\n",
    "#CALCULATION (Ex4.1.c)\n",
    "D_Cl2_CH4_new=D_Cl2_CH4*(P_ref/P)*(T_03/T_ref)**(1.7);\n",
    "D_K_Cl2=9700*r_bar*sqrt(T_03/M_Cl2);\n",
    "D_pore=1/((1/D_Cl2_CH4_new)+(1/D_K_Cl2));\n",
    "Epsilon=V_g*rho_p;\n",
    "D_Cl2_Ex_c=D_pore*Epsilon/tau;\n",
    "\n",
    "\n",
    "#OUTPUT\n",
    "print '\\n OUTPUT Ex4.1.a'\n",
    "print '\\n================================================='\n",
    "print '\\nThe predicted diffusivity of Chlorine is  cm2/s ',D_Cl2_Ex_a\n",
    "print '\\n\\n OUTPUT Ex4.1.b'\n",
    "print '\\n================================================='\n",
    "print '\\nThe tortusity value = ',tau\n",
    "print '\\n\\n OUTPUT Ex4.1.b'\n",
    "print '\\n================================================='\n",
    "print '\\nThe Effective diffusivity of Chlorine  K a atm =   cm2/sec ',T_03, P, D_Cl2_Ex_c\n",
    "\n",
    "\n"
   ]
  },
  {
   "cell_type": "markdown",
   "metadata": {},
   "source": [
    "## Example 4_2 pgno:140"
   ]
  },
  {
   "cell_type": "code",
   "execution_count": 2,
   "metadata": {
    "collapsed": false
   },
   "outputs": [
    {
     "name": "stdout",
     "output_type": "stream",
     "text": [
      "\n",
      " OUTPUT Ex4.2.a\n",
      "\n",
      "=================================================\n",
      "\n",
      " The effective diffusivity of O2 in air =  cm2/s 0.0235933499021\n",
      "\n",
      "\n",
      " OUTPUT Ex4.2.b\n",
      "\n",
      "=================================================\n",
      "\n",
      " The calculated surface mean pore radius = cm 6e-07\n",
      "\n",
      " The predicted pore diffusivity =  cm2/sec 0.0218264089105\n",
      "\n",
      " The corresponding tortusity =  0.499558598529\n"
     ]
    }
   ],
   "source": [
    "#Harriot P.,2003,Chemical Reactor Design (I-Edition) Marcel Dekker,Inc.,USA,pp 436.\n",
    "#Chapter-4 Ex4.2 Pg No. 140\n",
    "#Title:Effective diffusivity of O2 in air\n",
    "#============================================================================================================\n",
    "\n",
    "# COMMON INPUT\n",
    "S_g=150.;#Total surface per gram (m2/g)\n",
    "V_g=0.45;#Pore volume per gram (cm3/g)\n",
    "V_i=0.30;#Micropore volume per gram (cm3/g)\n",
    "V_a=0.15;# Macropore volume per gram (cm3/g)\n",
    "rho_P=1.2;#Density of particle (g/cm3)\n",
    "tau=2.5;# Tortusity\n",
    "r_bar_i=40*(10**(-8));#Micropore radius\n",
    "r_bar_a=2000*(10**(-8));#Macropore radius\n",
    "D_AB=0.49;#For N2O2 at 1 atm (cm2/s)\n",
    "M_O2=32.;#Molecular weight of O2\n",
    "T=493.;#Opereating Temperature (K)\n",
    "from math import sqrt\n",
    "\n",
    "\n",
    "\n",
    "#CALCULATION (Ex4.2.a)\n",
    "Epsilon=V_g*rho_P;\n",
    "D_K_i=9700*(r_bar_i)*sqrt(T/M_O2);#Knudsen flow for micropore\n",
    "D_Pore_i=1/((1/D_K_i)+(1/D_AB))\n",
    "D_K_a=9700*(r_bar_a)*sqrt(T/M_O2);\n",
    "D_Pore_a=1/((1/D_K_a)+(1/D_AB));##Knudsen flow for macropore\n",
    "D_Pore_Avg=(V_i*D_Pore_i+V_a*D_Pore_a)/(V_i+V_a);\n",
    "D_e=Epsilon*D_Pore_Avg/tau;\n",
    "\n",
    "#CALCULATION (Ex4.2.b)\n",
    "Epsilon=V_g*rho_P;\n",
    "r_bar=2*V_g/(S_g*10**4);\n",
    "D_K=9700*(r_bar)*sqrt(T/M_O2);#Knudsen Flow\n",
    "D_Pore=1/((1/D_K)+(1/D_AB));\n",
    "tau=D_Pore*Epsilon/D_e;\n",
    "\n",
    "#OUTPUT\n",
    "print '\\n OUTPUT Ex4.2.a'\n",
    "print '\\n================================================='\n",
    "print '\\n The effective diffusivity of O2 in air =  cm2/s',D_e \n",
    "print '\\n\\n OUTPUT Ex4.2.b'\n",
    "print '\\n================================================='\n",
    "print '\\n The calculated surface mean pore radius = cm',r_bar      \n",
    "print '\\n The predicted pore diffusivity =  cm2/sec',D_Pore          \n",
    "print '\\n The corresponding tortusity = ',tau\n",
    "\n",
    "\n",
    "\n",
    "#======================================================END OF PROGRAM========================================\n"
   ]
  },
  {
   "cell_type": "markdown",
   "metadata": {},
   "source": [
    "## Example 4_4 pgno:157"
   ]
  },
  {
   "cell_type": "code",
   "execution_count": 3,
   "metadata": {
    "collapsed": false
   },
   "outputs": [
    {
     "name": "stdout",
     "output_type": "stream",
     "text": [
      "\tBased on average pressures calculated Rate and Effectiveness factor\n",
      "\n",
      "\t r :  (mol/s cm3) 1.17056498924e-05\n",
      "\n",
      "\t eta_calc :   0.174804371726\n",
      "\n",
      " The actual value of Effectiveness factor eta_actual : 0.427402185863\n"
     ]
    }
   ],
   "source": [
    "#Harriot P.,2003,Chemical Reactor Design (I-Edition) Marcel Dekker,Inc. USA,pp 436.\n",
    "#Chapter-4 Ex4.4 Pg No.157\n",
    "#Title: Effectiveness factor for solid catalyzed reaction\n",
    "#======================================================================================================================\n",
    "\n",
    "#INPUT\n",
    "D_e_A=0.02;#(cm2/s)\n",
    "D_e_B=0.03;#(cm2/s)\n",
    "D_e_C=0.015;#(cm2/s)\n",
    "X_f_A=0.3;\n",
    "X_f_B=(1-X_f_A);\n",
    "eta_assumed=0.68;#Effectiveness factor from Fig.4.8 for first order reaction\n",
    "T=150.;#(deg C)\n",
    "T_K=T+273;#(K)\n",
    "r=0.3;#(cm)Radius of catalyst sphere\n",
    "P_opt=4.;#(atm)Operating Pressure \n",
    "R=82.056;#(cm3 atm/K mol)Gas constant \n",
    "\n",
    "\n",
    "#CALCULATION\n",
    "#Kinetic equation r= (2.5*10**-5*P_A*P_B)/(1+0.1*P_A+2*P_C)**2\n",
    "P_A=X_f_A*P_opt;\n",
    "P_B=X_f_B*P_opt;\n",
    "r_star=(2.5*10**-5*P_A*P_B)/(1+0.1*P_A)**2;\n",
    "C_A=P_A/(R*T_K);\n",
    "k=r_star/C_A;\n",
    "Phi= r*(k/D_e_A)**(0.5);\n",
    "P_A_bar=eta_assumed*P_A;\n",
    "delta_P_A=P_A*(1-eta_assumed);\n",
    "delta_P_B=delta_P_A*(D_e_A/D_e_B);\n",
    "P_B_bar=P_B-delta_P_B;\n",
    "delta_P_C=delta_P_A*(D_e_A/D_e_C);\n",
    "P_C_bar=delta_P_C;\n",
    "r_calc=(2.5*10**-5*P_A_bar*P_B_bar)/(1+0.1*P_A_bar+2*P_C_bar)**2\n",
    "eta_calc=r_calc/r_star;\n",
    "eta_approx=(eta_calc+eta_assumed)/2;\n",
    "\n",
    "#OUTPUT\n",
    "#Console Output\n",
    "print'\\tBased on average pressures calculated Rate and Effectiveness factor'\n",
    "print'\\n\\t r :  (mol/s cm3)',r_calc\n",
    "print'\\n\\t eta_calc :  ',eta_calc\n",
    "print'\\n The actual value of Effectiveness factor eta_actual :',eta_approx\n",
    "\n",
    "#================================================END OF PROGRAM==================================================================================\n",
    "\n",
    "\n",
    "\n",
    "\n"
   ]
  }
 ],
 "metadata": {
  "kernelspec": {
   "display_name": "Python 2",
   "language": "python",
   "name": "python2"
  },
  "language_info": {
   "codemirror_mode": {
    "name": "ipython",
    "version": 2
   },
   "file_extension": ".py",
   "mimetype": "text/x-python",
   "name": "python",
   "nbconvert_exporter": "python",
   "pygments_lexer": "ipython2",
   "version": "2.7.9"
  }
 },
 "nbformat": 4,
 "nbformat_minor": 0
}
