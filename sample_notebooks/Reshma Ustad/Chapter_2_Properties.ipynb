{
 "metadata": {
  "name": "Chapter 2 Properties Of Material"
 },
 "nbformat": 3,
 "nbformat_minor": 0,
 "worksheets": [
  {
   "cells": [
    {
     "cell_type": "heading",
     "level": 1,
     "metadata": {},
     "source": "Chapter 2 Properties Of Material"
    },
    {
     "cell_type": "heading",
     "level": 2,
     "metadata": {},
     "source": "Example 1 Page No:19"
    },
    {
     "cell_type": "code",
     "collapsed": false,
     "input": "#Input data\nL=5               # length of steel bar in m\nd=25*10**-3       # diametr of steel bar in mm\ndeltaLt=25*10**-3 #steel \npt=800            # power load of steel bar in N\n\n\n#calculation\nA=((pi/4)*((deltaLt)**2)) #Cross-section area\nsigmat=(pt)/(A)           #Stress in  steel bar\net=(deltaLt)/L            #strain in steel bar\nE=(sigmat)/(et)           #Young's modulus\n\n\n#output\nprint(\"value of Cross-section area A=\",A,\"m**2\")\nprint(\"value of tress in  steel bar sigmat=\",sigmat,\"MN/m**2\")\nprint(\"value of strain in steel bar et=  \",et)\nprint(\"value of Young's modulus E \",E,\"N/m**2\")\n\n\n",
     "language": "python",
     "metadata": {},
     "outputs": [
      {
       "output_type": "stream",
       "stream": "stdout",
       "text": "value of Cross-section area A= 0.0004906250000000001 m**2\nvalue of tress in  steel bar sigmat= 1630573.248407643 MN/m**2\nvalue of strain in steel bar et=   0.005\nvalue of Young's modulus E  326114649.6815286 N/m**2\n"
      }
     ],
     "prompt_number": 10
    },
    {
     "cell_type": "heading",
     "level": 2,
     "metadata": {},
     "source": "Example 2 Page No:20\n"
    },
    {
     "cell_type": "code",
     "collapsed": false,
     "input": "#Input data\nL=300*10**-3  #length of hexagonal prismatic steel bar in mm\nA=500*10**-6  #Area of cross section of steel bar mm**2\nPt=500*10**3  # load of steel bar in KN\nE=210*10**9   # modulus of elasticity GN/m**2\n\n#Calculation\nsigmat=((Pt)/(A))   #stress in steel bar\net=((sigmat)/(E))   #strain steel bar is\ndeltaLt=((et)*(L))  #therefore,elongation of the steel bar is given by\n\n#output\nprint('stress in steel bar =',sigmat,\"N/m**2\")\nprint('therefore,strain steel bar is given by =',et,)\nprint('therefore,elongation of the steel bar is given by=',deltaLt,\"m\")\n\n\n",
     "language": "python",
     "metadata": {},
     "outputs": [
      {
       "output_type": "stream",
       "stream": "stdout",
       "text": "stress in steel bar = 1000000000.0 N/m**2\ntherefore,strain steel bar is given by = 0.004761904761904762\ntherefore,elongation of the steel bar is given by= 0.0014285714285714286 m\n"
      }
     ],
     "prompt_number": 15
    },
    {
     "cell_type": "heading",
     "level": 2,
     "metadata": {},
     "source": "Example 3 Page No:21\n"
    },
    {
     "cell_type": "code",
     "collapsed": false,
     "input": "#Input Data\nPt=600      #tensils force in N\nd=2*10**-3  #diameter of steel wire in mm\nL=15        #length of wire in m\nE=210*10**9 #modulus of elasticity of the material in GN/M**2\npi=3.1482\n\n\n#Calculation\nA=((pi/4)*((d)**2))  #(1)cross section area\nsigmat=(Pt)/(A)    # stress in the steel wire \net=((sigmat)/(E))  #(2)therefore, strain in steel wire is given by\ndeltaLt=et*L       #(3)Enlongation of the steel wire is given by \npe=((deltaLt/L)*100)    #(4)percentage elongation\n\n\n#Output\nprint(\"cross section area A= \",A,\"m**2\")\nprint(\"stress in the steel wire sigmat=\",sigmat,\"GN/m**2\")\nprint(\"modulus of elasticity et=\",et,)\nprint(\"strain in steel wire deltaLt=\",deltaLt,\"mm\")\nprint(\"percentage elongation\",pe,\"%\")\n\n\n\n",
     "language": "python",
     "metadata": {},
     "outputs": [
      {
       "output_type": "stream",
       "stream": "stdout",
       "text": "cross section area A=  3.1481999999999998e-06 m**2\nstress in the steel wire sigmat= 190585096.24547362 GN/m**2\nmodulus of elasticity et= 0.0009075480773593982\nstrain in steel wire deltaLt= 0.013613221160390973 mm\npercentage elongation 0.09075480773593982 %\n"
      }
     ],
     "prompt_number": 3
    },
    {
     "cell_type": "heading",
     "level": 2,
     "metadata": {},
     "source": "Example 4 Page No:22\n"
    },
    {
     "cell_type": "code",
     "collapsed": false,
     "input": "#input data\nA=30*30*10**-6 #area of square rod in mm**2\nL=5            #length of square rod in m\nPc=150*10**3   # axial comperessive load of a rod  in kN\nE=215*10**9    # modulus of elasticity in GN/m**2\n\n\n#Calculation\nsigmac=((Pc)/(A))   #stress in square rod\nec=((sigmac)/(E))   #modulusof elasticity is E=sigmac/ec ,therefore strain in square rod is\ndeltaLc=ec*5        #therefore shortening of length of the rod \n\n\n#Output\nprint (\"stress in square rod\",sigmac,\"N/m**2\")\nprint(\"strain in square rod ec=\",ec,)\nprint(\"shortening of length of the rod=\",deltaLc,\"m\")",
     "language": "python",
     "metadata": {},
     "outputs": [
      {
       "output_type": "stream",
       "stream": "stdout",
       "text": "stress in square rod 166666666.66666666 N/m**2\nstrain in square rod ec= 0.0007751937984496124\nshortening of length of the rod= 0.003875968992248062 m\n"
      }
     ],
     "prompt_number": 25
    },
    {
     "cell_type": "heading",
     "level": 2,
     "metadata": {},
     "source": "Example 5 Page No:23"
    },
    {
     "cell_type": "code",
     "collapsed": false,
     "input": "#input data\nd=50*10**-6 #diameter of metalic rod in mm**2\nL=220*10**-3 #length of metalic rod in mm\nPt=40*10**3 #load of metalic rod in KN\ndeltaLt=0.03*10**-3 #elastic enlongation in mm\nypl=160*10**3 # yield point load in KN\nml=250*10**3 #maximum load in KN\nlsf=270*10**-3 #length of specimen at fracture in mm\npi=3.1482\n\n#calculation\nA=(((pi)/(4)*((d)**2))) #(1)cross section area\nsigmat=(Pt/A) #stress in metallic rod\net=(deltaLt/L) #strain n metallic rod\nE=(sigmat/et) #young's modulus\nys=(ypl/A) #(2)yeild strength\nuts=(ml/A) #(3)ultimate tensile strength\nPebf=((lsf-L)/L)*100 #percentage elongation before fracture \n\n\n\n#output\nprint(\"cross section area\",A,\"m**2\")\nprint(\"stress in metallic rod\",sigmat,\"N/m**2\")\nprint(\"strain n metallic rod\",et,)\nprint(\"young's modulus\",E,\"GN/m**2\")\nprint(\"yeild strength\",ys,\"MN/m**2\")\nprint(\"ultimate tensile strength\",uts,\"MN/m**2\")\nprint(\"percentage elongation before fracture\",Pebf,\"%\")\n",
     "language": "python",
     "metadata": {},
     "outputs": [
      {
       "output_type": "stream",
       "stream": "stdout",
       "text": "cross section area 1.967625e-09 m**2\nstress in metallic rod 20329076932850.52 N/m**2\nstrain n metallic rod 0.00013636363636363637\nyoung's modulus 1.4907989750757046e+17 GN/m**2\nyeild strength 81316307731402.08 MN/m**2\nultimate tensile strength 127056730830315.75 MN/m**2\npercentage elongation before fracture 22.727272727272734 %\n"
      }
     ],
     "prompt_number": 5
    },
    {
     "cell_type": "heading",
     "level": 2,
     "metadata": {},
     "source": "Example 6 Page No:24\n"
    },
    {
     "cell_type": "code",
     "collapsed": false,
     "input": "#input data\nA=50*50*10**-6            #area ofsquare metal bar in mm**2\nPc=600*10**3              #axial compress laod in KN\nL=200*10**-3              # gauge length of metal bar in mm\ndeltaLc=0.4*10**-3        #contraction length of metal bar in mm\ndeltaLlateral=0.05*10**-3 #lateral length of metal bar in mm\n\n#Calculation\nsigmac=((Pc)/(A))        #stress in square metal bar \nec=((deltaLc)/(L))        #longitudinal or linear strain in square metal bar\nE =((sigmac)/(ec))        #smodule of elasticity\nelateral=((deltaLlateral)/(L)) #lateral strain in square metal bar\npoissonsratio=(elateral)/(ec)\n\n\n#output\nprint(\"stress in bar=\",sigmac,\"n/m**2\")\nprint(\"longitudinal or linear strain in square metal bar=\",ec,)\nprint(\"module of elasticity=\",E,\"N/m**2\")\nprint(\"lateral strain in square metal bar=\",elateral,)\nprint(\"poissons ratio=\",poissonsratio,)\n\n#poisson's ratio",
     "language": "python",
     "metadata": {},
     "outputs": [
      {
       "output_type": "stream",
       "stream": "stdout",
       "text": "stress in bar= 240000000.0 n/m**2\nlongitudinal or linear strain in square metal bar= 0.002\nmodule of elasticity= 120000000000.0 N/m**2\nlateral strain in square metal bar= 0.00025\npoissons ratio= 0.125\n"
      }
     ],
     "prompt_number": 12
    }
   ],
   "metadata": {}
  }
 ]
}