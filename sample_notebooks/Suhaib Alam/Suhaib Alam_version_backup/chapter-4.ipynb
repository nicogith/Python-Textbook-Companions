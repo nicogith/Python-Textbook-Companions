{
 "metadata": {
  "name": "",
  "signature": "sha256:31dcf77e65a826bbecccd0c8b7094f24a045faabd3e68c38af8ed1add965bf7a"
 },
 "nbformat": 3,
 "nbformat_minor": 0,
 "worksheets": [
  {
   "cells": [
    {
     "cell_type": "heading",
     "level": 1,
     "metadata": {},
     "source": [
      "Chapter-4 : Bipolar Junction & Field Effect Transistors"
     ]
    },
    {
     "cell_type": "heading",
     "level": 2,
     "metadata": {},
     "source": [
      "Ex 4.1, p-175"
     ]
    },
    {
     "cell_type": "code",
     "collapsed": true,
     "input": [
      "from __future__ import division\n",
      "#given data :\n",
      "VGS=10  #in Volt\n",
      "IG=0.001  #in uAmpere\n",
      "IG=IG*10**-6  #in Ampere\n",
      "RGS=VGS/IG  #in Ohm\n",
      "RGS*=10**-6  #Mohm\n",
      "print \"Resistance between gate and source is\",round(RGS,2),\"Mohm\""
     ],
     "language": "python",
     "metadata": {},
     "outputs": [
      {
       "output_type": "stream",
       "stream": "stdout",
       "text": [
        "Resistance between gate and source is 10000.0 Mohm\n"
       ]
      }
     ],
     "prompt_number": 4
    },
    {
     "cell_type": "heading",
     "level": 2,
     "metadata": {},
     "source": [
      "Ex 4.2, p-176"
     ]
    },
    {
     "cell_type": "code",
     "collapsed": true,
     "input": [
      "from __future__ import division\n",
      "#given data :\n",
      "delVDS=1.5  #in Volt\n",
      "delID=120  #in uAmpere\n",
      "delID=delID*10**-6  #in Ampere\n",
      "rd=delVDS/delID  #in Ohm\n",
      "rd*=10**-3  # Mohm\n",
      "print \"AC drain Resistance of JFET is\",round(rd,2),\"Kohm\""
     ],
     "language": "python",
     "metadata": {},
     "outputs": [
      {
       "output_type": "stream",
       "stream": "stdout",
       "text": [
        "AC drain Resistance of JFET is 12.5 Kohm\n"
       ]
      }
     ],
     "prompt_number": 5
    },
    {
     "cell_type": "heading",
     "level": 2,
     "metadata": {},
     "source": [
      "Ex 4.3, p-179"
     ]
    },
    {
     "cell_type": "code",
     "collapsed": true,
     "input": [
      "from __future__ import division\n",
      "#given data :\n",
      "ID2=1.5  #in mAmpere\n",
      "ID1=1.2  #in mAmpere\n",
      "delID=ID2-ID1  #in Ampere\n",
      "VGS1=-4.25  #in Volt\n",
      "VGS2=-4.10  #in Volt\n",
      "delVGS=VGS2-VGS1  #in Volt\n",
      "gm=delID/delVGS  #in Ohm\n",
      "print \"Transconductance is\",round(gm,2),\"mA/V\""
     ],
     "language": "python",
     "metadata": {},
     "outputs": [
      {
       "output_type": "stream",
       "stream": "stdout",
       "text": [
        "Transconductance is 2.0 mA/V\n"
       ]
      }
     ],
     "prompt_number": 6
    },
    {
     "cell_type": "heading",
     "level": 2,
     "metadata": {},
     "source": [
      "Ex 4.4, p-182"
     ]
    },
    {
     "cell_type": "code",
     "collapsed": true,
     "input": [
      "from __future__ import division\n",
      "#given data :\n",
      "VDS1=5  #in Volt\n",
      "VDS2=12  #in Volt\n",
      "VDS3=12  #in Volt\n",
      "VGS1=0  #in Volt\n",
      "VGS2=0  #in Volt\n",
      "VGS3=-0.25  #in Volt\n",
      "ID1=8  #in mAmpere\n",
      "ID2=8.2  #in mAmpere\n",
      "ID3=7.5  #in mAmpere\n",
      "#AC drain resistance\n",
      "delVDS=VDS2-VDS1  #in Volt\n",
      "delID=ID2-ID1  #in mAmpere\n",
      "rd=delVDS/delID  #in Kohm\n",
      "print \"AC Drain resistance is\",round(rd,2),\"Kohm\"\n",
      "#Transconductance\n",
      "delID=ID3-ID2  #in mAmpere\n",
      "delVGS=VGS3-VGS2  #in Volt\n",
      "gm=delID/delVGS  #in mA/V or mS\n",
      "print \"Transconductance is\",round(gm,2),\"mA/V\"\n",
      "#Amplification Factor\n",
      "meu=rd*1000*gm*10**-3  #unitless\n",
      "print \"Amplification Factor is\",round(meu,2)   "
     ],
     "language": "python",
     "metadata": {},
     "outputs": [
      {
       "output_type": "stream",
       "stream": "stdout",
       "text": [
        "AC Drain resistance is 35.0 Kohm\n",
        "Transconductance is 2.8 mA/V\n",
        "Amplification Factor is 98.0\n"
       ]
      }
     ],
     "prompt_number": 7
    },
    {
     "cell_type": "heading",
     "level": 2,
     "metadata": {},
     "source": [
      "Ex 4.5, p-188"
     ]
    },
    {
     "cell_type": "code",
     "collapsed": false,
     "input": [
      "from __future__ import division\n",
      "from math import sqrt\n",
      "#given data :\n",
      "VP=-4.5  #in Volt\n",
      "IDSS=10  #in mAmpere\n",
      "IDS=2.5  #in mAmpere\n",
      "#Formula : IDS=IDSS*[1-VGS/VP]**2\n",
      "VGS=VP*(1-sqrt(IDS/IDSS))  #in Volt\n",
      "gm=(-2*IDSS*10**-3)*(1-VGS/VP)/VP  #in A/V\n",
      "gm*=1000   # mA/V\n",
      "print \"Transconductance is\",round(gm,2),\"mA/V\""
     ],
     "language": "python",
     "metadata": {},
     "outputs": [
      {
       "output_type": "stream",
       "stream": "stdout",
       "text": [
        " Transconductance is 2.22 mA/V\n"
       ]
      }
     ],
     "prompt_number": 11
    },
    {
     "cell_type": "heading",
     "level": 2,
     "metadata": {},
     "source": [
      "Ex 4.6, p-192"
     ]
    },
    {
     "cell_type": "code",
     "collapsed": true,
     "input": [
      "from __future__ import division\n",
      "#given data :\n",
      "gm=10  #in mS\n",
      "gm=gm*10**-3  #in S\n",
      "IDSS=10  #in uAmpere\n",
      "IDSS=IDSS*10**-6  #in Ampere\n",
      "#VGS(OFF):VGS=VP\n",
      "#Formula : gm=gmo=-2*IDSS/VP=-2*IDSS/VG(Off)\n",
      "VGS_OFF=-2*IDSS/gm  #in Volt\n",
      "VGS_OFF*=1000  # mV\n",
      "print \"VGS(OFF) is\",round(VGS_OFF),\"mV\"  "
     ],
     "language": "python",
     "metadata": {},
     "outputs": [
      {
       "output_type": "stream",
       "stream": "stdout",
       "text": [
        "VGS(OFF) is -2.0 mV\n"
       ]
      }
     ],
     "prompt_number": 13
    },
    {
     "cell_type": "heading",
     "level": 2,
     "metadata": {},
     "source": [
      "Ex 4.7, p-195"
     ]
    },
    {
     "cell_type": "code",
     "collapsed": true,
     "input": [
      "from __future__ import division\n",
      "#given data :\n",
      "VP=-4  #in Volt\n",
      "VGS=-2  #in Volt\n",
      "IDSS=10  #in mAmpere\n",
      "IDSS=IDSS*10**-3  #in Ampere\n",
      "#Formula : ID=IDSS*[1-VGS/VP]**2\n",
      "ID=IDSS*(1-VGS/VP)**2  #in Ampere\n",
      "ID*=1000  #mA\n",
      "print \"Drain Current is\",round(ID,2),\"mA\""
     ],
     "language": "python",
     "metadata": {},
     "outputs": [
      {
       "output_type": "stream",
       "stream": "stdout",
       "text": [
        "Drain Current is 2.5 mA\n"
       ]
      }
     ],
     "prompt_number": 17
    },
    {
     "cell_type": "heading",
     "level": 2,
     "metadata": {},
     "source": [
      "Ex 4.8, p-206"
     ]
    },
    {
     "cell_type": "code",
     "collapsed": true,
     "input": [
      "from __future__ import division\n",
      "#given data :\n",
      "IDSS=8.7  #in mAmpere\n",
      "IDSS=IDSS*10**-3  #in Ampere\n",
      "VP=-3  #in Volt\n",
      "VGS=-1  #in Volt\n",
      "#ID\n",
      "ID=IDSS*(1-VGS/VP)**2\n",
      "ID*=1000  #mA\n",
      "print \"Drain current ID is\",round(ID,2),\"mA\"\n",
      "#gmo\n",
      "gmo=-2*IDSS/VP  #in S\n",
      "gmo*=1000  # mA/V or mS\n",
      "print \"Transconductance for VGS=0V is\",round(gmo,2),\"mA/V or mS\"\n",
      "#gm\n",
      "gm=gmo*(1-VGS/VP)  #in S\n",
      "gm*=1000  # mA/V or mS\n",
      "print \"Transconductance is\",round(gm,2),\"mA/V or mS\""
     ],
     "language": "python",
     "metadata": {},
     "outputs": [
      {
       "output_type": "stream",
       "stream": "stdout",
       "text": [
        "Drain current ID is 3.87 mA\n",
        "Transconductance for VGS=0V is 5.8 mA/V or mS\n",
        "Transconductance is 3866.67 mA/V or mS\n"
       ]
      }
     ],
     "prompt_number": 18
    },
    {
     "cell_type": "heading",
     "level": 2,
     "metadata": {},
     "source": [
      "Ex 4.9, p-209"
     ]
    },
    {
     "cell_type": "code",
     "collapsed": true,
     "input": [
      "from __future__ import division\n",
      "#given data :\n",
      "IDSS=8.4  #in mAmpere\n",
      "IDSS=IDSS*10**-3  #in Ampere\n",
      "VP=-3  #in Volt\n",
      "VGS=-1.5  #in Volt\n",
      "#ID\n",
      "ID=IDSS*array(1-VGS/VP)**2\n",
      "ID*=1000  # mA\n",
      "print \"Drain current ID is\",round(ID,2),\"mA\"\n",
      "#gmo\n",
      "gmo=-2*IDSS/VP  #in S\n",
      "gmo*=1000   #mS\n",
      "print \"Transconductance for VGS=0V is\",round(gmo,2),\"mA/V or mS\"\n",
      "gm=gmo*(1-VGS/VP)  #in S\n",
      "gm*=1000   #mS\n",
      "print \"Transconductance is\",round(gm,2),\"mA/V or mS\""
     ],
     "language": "python",
     "metadata": {},
     "outputs": [
      {
       "output_type": "stream",
       "stream": "stdout",
       "text": [
        "Drain current ID is 2.1 mA\n",
        "Transconductance for VGS=0V is 5.6 mA/V or mS\n",
        "Transconductance is 2800.0 mA/V or mS\n"
       ]
      }
     ],
     "prompt_number": 21
    }
   ],
   "metadata": {}
  }
 ]
}