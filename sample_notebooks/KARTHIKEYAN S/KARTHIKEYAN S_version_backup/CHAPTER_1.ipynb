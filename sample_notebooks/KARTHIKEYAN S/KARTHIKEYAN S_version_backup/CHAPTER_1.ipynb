{
 "cells": [
  {
   "cell_type": "markdown",
   "metadata": {},
   "source": [
    "# CHAPTER 1:Fundmentals"
   ]
  },
  {
   "cell_type": "markdown",
   "metadata": {},
   "source": [
    "## EXAMPLE 1.1,PAGE NUMBER:3"
   ]
  },
  {
   "cell_type": "code",
   "execution_count": 6,
   "metadata": {
    "collapsed": false
   },
   "outputs": [
    {
     "name": "stdout",
     "output_type": "stream",
     "text": [
      "Carnot COP= 6.0 (error)\n"
     ]
    }
   ],
   "source": [
    "\n",
    "import math\n",
    "\n",
    "#Variable Declaration\n",
    "T_0=-5+273;\n",
    "T_1=35+273;\n",
    "\n",
    "#Calculation\n",
    "COP=(T_0)/(T_1-T_0);# Coefficient of performance\n",
    "print \"Carnot COP=\",round(COP,2),\"(error)\"\n",
    "\n"
   ]
  },
  {
   "cell_type": "markdown",
   "metadata": {},
   "source": [
    "## EXAMPLE 1.2,PAGE NUMBER:4"
   ]
  },
  {
   "cell_type": "code",
   "execution_count": 5,
   "metadata": {
    "collapsed": false
   },
   "outputs": [
    {
     "name": "stdout",
     "output_type": "stream",
     "text": [
      "The average specific heat capacity is 4.186 kJ/(kg K)\n"
     ]
    }
   ],
   "source": [
    "\n",
    "import math\n",
    "\n",
    "#Variable Declaration\n",
    "T_f=80;# Final Temperature in °C\n",
    "T_i=0;# Initial Temperature in °C\n",
    "h_f=334.91;#The specific enthalpy of water in kJ/kg\n",
    "\n",
    "#Calculation\n",
    "C=h_f/(T_f-T_i);# The average specifi c heat capacity in kJ/(kg K)\n",
    "print \"The average specific heat capacity is\",round(C,3),\"kJ/(kg K)\"\n"
   ]
  }
 ],
 "metadata": {
  "kernelspec": {
   "display_name": "Python 2",
   "language": "python",
   "name": "python2"
  },
  "language_info": {
   "codemirror_mode": {
    "name": "ipython",
    "version": 2
   },
   "file_extension": ".py",
   "mimetype": "text/x-python",
   "name": "python",
   "nbconvert_exporter": "python",
   "pygments_lexer": "ipython2",
   "version": "2.7.11"
  }
 },
 "nbformat": 4,
 "nbformat_minor": 0
}
