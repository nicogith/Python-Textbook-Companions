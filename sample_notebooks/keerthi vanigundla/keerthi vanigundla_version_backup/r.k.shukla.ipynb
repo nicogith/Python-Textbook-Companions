{
 "cells": [
  {
   "cell_type": "markdown",
   "metadata": {},
   "source": [
    "# Chapter 4:Behaviour of Dielectric Materials in ac and dc Fields"
   ]
  },
  {
   "cell_type": "markdown",
   "metadata": {},
   "source": [
    "# Example 4.1,Page No:4.8"
   ]
  },
  {
   "cell_type": "code",
   "execution_count": 4,
   "metadata": {
    "collapsed": false
   },
   "outputs": [
    {
     "name": "stdout",
     "output_type": "stream",
     "text": [
      "dielectric constant of argon = 1.0005466\n"
     ]
    }
   ],
   "source": [
    "import math\n",
    "\n",
    "alpha      = 1.8*10**-40;           #polarisability of argon in Fm**2\n",
    "e0         = 8.85*10**-12;          #dielectric constant F/m\n",
    "N1         = 6.02*10**23;           #avagadro number in mol**-1\n",
    "x          = 22.4*10**3;            #volume in m^3\n",
    " \n",
    "#formula\n",
    "#er-1=N*p/e0*E=(N/e0)*alpha\n",
    "#calculation\n",
    "N          = N1/float(x);                            #number of argon atoms in per unit volume in cm**3\n",
    "N2         = N*10**6;                                 #number of argon atoms in per unit volume in m**3\n",
    "er         = 1+((N2/float(e0)))*(alpha);             #dielectric constant F/m\n",
    "\n",
    "\n",
    "#result\n",
    "print'dielectric constant of argon = %3.7f'%er;"
   ]
  },
  {
   "cell_type": "markdown",
   "metadata": {},
   "source": [
    "# Example 4.2,Page No:4.9"
   ]
  },
  {
   "cell_type": "code",
   "execution_count": 18,
   "metadata": {
    "collapsed": false
   },
   "outputs": [
    {
     "name": "stdout",
     "output_type": "stream",
     "text": [
      "displacement = 1.25e-17 m\n"
     ]
    }
   ],
   "source": [
    "import math\n",
    "\n",
    "#variable declaration\n",
    "alpha       = 1.8*10**-40;       #polarisability of argon in F*m^2\n",
    "E           = 2*10**5;           # in V/m\n",
    "z           = 18;\n",
    "e           = 1.6*10**-19;\n",
    " \n",
    " \n",
    "#formula\n",
    "#p=18*e*x\n",
    "#calculation\n",
    "p       = alpha*E;\n",
    "x       = p/float(18*e);           #shift of electron in m\n",
    "\n",
    "  \n",
    "#result\n",
    "print'displacement = %3.2e'%x,'m';"
   ]
  },
  {
   "cell_type": "markdown",
   "metadata": {},
   "source": [
    "# Example 4.3,Page No:4.9"
   ]
  },
  {
   "cell_type": "code",
   "execution_count": 20,
   "metadata": {
    "collapsed": false
   },
   "outputs": [
    {
     "name": "stdout",
     "output_type": "stream",
     "text": [
      "local field of benzene=4.40e+03 V/m\n",
      "local field of water=-1.57e+06 V/m\n"
     ]
    }
   ],
   "source": [
    "import math\n",
    "\n",
    "#variable declaration\n",
    "E0    = 300*10**2;                  #local field in V/m\n",
    "P1  = 3.398*10**-7;                 #dipole moment Coulomb/m\n",
    "P2  = 2.124*10**-5;                 #dipole moment Coulomb/m\n",
    "e0  = 8.85*10**-12;                 #permittivity in F/m\n",
    " \n",
    " \n",
    "#formula\n",
    "#E10Ci=E0-(2*Pi/3*e0)\n",
    "#calculation\n",
    "E10C1  = E0-((2*P1)/float(3*e0));       #local field of benzene in V/m\n",
    "E10C2  = E0-((2*P2)/float(3*e0));      #local field of water in V/m\n",
    " \n",
    "#result\n",
    "print'local field of benzene=%3.2e'%E10C1,'V/m';\n",
    "print'local field of water=%3.2e'%E10C2,'V/m';"
   ]
  },
  {
   "cell_type": "markdown",
   "metadata": {},
   "source": [
    "# Example 4.4,Page No:4.9"
   ]
  },
  {
   "cell_type": "code",
   "execution_count": null,
   "metadata": {
    "collapsed": true
   },
   "outputs": [],
   "source": [
    "# import math\n",
    "\n",
    "#variable declaration\n",
    "p1 = 5.12*10**-34;          #p of benzene kg/m**3\n",
    "p2 = 6.34*10**-34;          #p of water kg/m**3\n",
    "e10C1  = 4.4*10**3;         #local field of benzene in V/m\n",
    "e10C2  = 1570*10**3;        #local field of water in V/m\n",
    " \n",
    " \n",
    "#formula\n",
    "#p=alphai*e10Ci\n",
    "#calculation\n",
    "alpha1 = p1/float(e10C1);       #polarisability of benzene in F*m**2\n",
    "alpha2 = p2/float(e10C2);       #polarisability of water in F*m**2\n",
    "  \n",
    "\n",
    "#result\n",
    "print'polarisability of benzene = %3.2e'%alpha1,'F*m**2';\n",
    "print'polarisability of water  = %3.2e'%alpha2,'F*m**2';\n",
    "print'Note: mistake in textbok,alpha1 value is printed as 1.16*10**-38 instead of 1.16*10**-37';"
   ]
  },
  {
   "cell_type": "markdown",
   "metadata": {},
   "source": [
    "# Example 4.5,Page No:4.10"
   ]
  },
  {
   "cell_type": "code",
   "execution_count": 25,
   "metadata": {
    "collapsed": false
   },
   "outputs": [
    {
     "name": "stdout",
     "output_type": "stream",
     "text": [
      "polarisation of benzene = 6.80e-07 c/m**2\n",
      "polarisation of water = 4.25e-05. c/m**2\n"
     ]
    }
   ],
   "source": [
    "import math\n",
    "\n",
    "#variable declaration\n",
    "e0     = 8.85*10**-12;          #abslute permitivity in (m**-3)*(kg**-1)*(s**4)*(A**2)\n",
    "E      = 600*10**2;             #strength in V/cm\n",
    "er1    = 2.28;                  #dielectric constant of benzene in coulomb/m\n",
    "er2    = 81;                    #dielectric constant of water in coulomb/m\n",
    "\n",
    "\n",
    "#fomula\n",
    "#p=e0*E*(er-1)\n",
    "#calculation\n",
    "pB     = e0*E*(er1-1);        #polarisation of benzene in c/m**2\n",
    "pW     = e0*E*(er2-1);        #polarisation of water in c/m**2\n",
    " \n",
    "\n",
    "#result\n",
    "print'polarisation of benzene = %3.2e'%pB,'c/m**2';\n",
    "print'polarisation of water = %3.2e.'%pW,'c/m**2';"
   ]
  },
  {
   "cell_type": "markdown",
   "metadata": {},
   "source": [
    "# Example 4.6,Page No:4.10"
   ]
  },
  {
   "cell_type": "code",
   "execution_count": 5,
   "metadata": {
    "collapsed": false
   },
   "outputs": [
    {
     "name": "stdout",
     "output_type": "stream",
     "text": [
      "percentage contribution from ionic polaristion = 59.82 %\n"
     ]
    }
   ],
   "source": [
    "import math\n",
    "\n",
    "#variable declaration\n",
    "er0  = 5.6;              #static dielectric cnstant of NaCl \n",
    "n    = 1.5;               #optical index of refraction\n",
    " \n",
    "\n",
    "#calculation\n",
    "er = er0-n**2;\n",
    "d  = ((er/float(er0))*100);   #percentage contribution from ionic polaristion in %\n",
    " \n",
    "#result \n",
    "print'percentage contribution from ionic polaristion = %3.2f'%d,'%';\n"
   ]
  },
  {
   "cell_type": "markdown",
   "metadata": {},
   "source": [
    "# Example 4.7,Page No:4.10"
   ]
  },
  {
   "cell_type": "code",
   "execution_count": 29,
   "metadata": {
    "collapsed": false
   },
   "outputs": [
    {
     "name": "stdout",
     "output_type": "stream",
     "text": [
      "separation=1.69e-17 m\n"
     ]
    }
   ],
   "source": [
    "import math\n",
    "\n",
    "#variable declaration\n",
    "alpha       = 0.18*10**-40;         #polarisability of He in F *m**2\n",
    "E           = 3*10**5;               #constant in V/m\n",
    "N           = 2.6*10**25;            #number of atoms in per m**3\n",
    "e           = 1.6*10**-19;\n",
    " \n",
    " \n",
    "#formula\n",
    "#P=N*p\n",
    "#charge of He=2*electron charge\n",
    "#p=2(e*d)\n",
    "#calculation\n",
    "P      = N*alpha*E;                   #in coul/m**2\n",
    "p      = P/float(N);                  #polarisation of He in coul.m\n",
    "d      = p/float(2*e);                #separation between charges in m\n",
    " \n",
    " \n",
    "#result \n",
    "print'separation=%3.2e'%d,'m';\n"
   ]
  },
  {
   "cell_type": "markdown",
   "metadata": {
    "collapsed": true
   },
   "source": [
    "# Example 4.8,Page No:4.10"
   ]
  },
  {
   "cell_type": "code",
   "execution_count": 3,
   "metadata": {
    "collapsed": false
   },
   "outputs": [
    {
     "name": "stdout",
     "output_type": "stream",
     "text": [
      "oriental polarisation=9.66e-08 coul/m**2\n"
     ]
    }
   ],
   "source": [
    "import math\n",
    "\n",
    "#variable declaration\n",
    "N      = 10**27;                     #number of HCl molecules in molecules/m**3\n",
    "E      = 10**5;                      #electric field in V/m\n",
    "P      = 1.04*3.33*10**-30;          #permanent dipole moment in coul.m\n",
    "T      = 300;                        #temperature in kelvin\n",
    "K      = 1.38*10**-23;\n",
    " \n",
    " \n",
    "#calculation\n",
    "P0     = (N*(P**2)*E)/float(3*K*T);        #oriental polarisation in coul/m^2\n",
    "\n",
    " \n",
    "#result\n",
    "print'oriental polarisation=%3.2e'%P0,'coul/m**2';"
   ]
  },
  {
   "cell_type": "code",
   "execution_count": null,
   "metadata": {
    "collapsed": true
   },
   "outputs": [],
   "source": []
  }
 ],
 "metadata": {
  "kernelspec": {
   "display_name": "Python 2",
   "language": "python",
   "name": "python2"
  },
  "language_info": {
   "codemirror_mode": {
    "name": "ipython",
    "version": 2
   },
   "file_extension": ".py",
   "mimetype": "text/x-python",
   "name": "python",
   "nbconvert_exporter": "python",
   "pygments_lexer": "ipython2",
   "version": "2.7.6"
  }
 },
 "nbformat": 4,
 "nbformat_minor": 0
}
