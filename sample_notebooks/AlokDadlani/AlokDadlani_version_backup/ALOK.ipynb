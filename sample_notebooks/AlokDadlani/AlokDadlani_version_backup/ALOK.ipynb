{
 "metadata": {
  "celltoolbar": "Raw Cell Format",
  "name": "",
  "signature": "sha256:257a8f491d964b9b4b60a222b425920b6deeb80bc5dff761617e08199ac997af"
 },
 "nbformat": 3,
 "nbformat_minor": 0,
 "worksheets": [
  {
   "cells": [
    {
     "cell_type": "heading",
     "level": 1,
     "metadata": {},
     "source": [
      "SAMPLE EXAMPLES"
     ]
    },
    {
     "cell_type": "heading",
     "level": 2,
     "metadata": {},
     "source": [
      "EXAMPLE NUMBER 1"
     ]
    },
    {
     "cell_type": "code",
     "collapsed": false,
     "input": [
      "import math\n",
      "#Given that\n",
      "D=80# separation between source and screen in cm\n",
      "d=0.18# separation between sources in cm \n",
      "n=4# order of fringe\n",
      "x_n=1.08# distance from central bright fringe in cm  \n",
      "print \"Standard formula used     x_n= n*lambda1*D/d \"\n",
      "\n",
      "lambda1=d*x_n/(D*n)*1e7\n",
      "print  \"Wavelength of light used is\" ,lambda1, \"Angstrom.\""
     ],
     "language": "python",
     "metadata": {},
     "outputs": [
      {
       "output_type": "stream",
       "stream": "stdout",
       "text": [
        "Standard formula used     x_n= n*lambda1*D/d \n",
        "Wavelength of light used is 6075.0 Angstrom.\n"
       ]
      }
     ],
     "prompt_number": 7
    },
    {
     "cell_type": "heading",
     "level": 2,
     "metadata": {},
     "source": [
      "EXAMPLE NUMBER 2"
     ]
    },
    {
     "cell_type": "code",
     "collapsed": false,
     "input": [
      "import math\n",
      "#Given that\n",
      "beta=0.0320#fringe width in cm\n",
      "D=100# separation between source and screen in cm\n",
      "d=0.184# separation between sources in cm \n",
      "print \"   Standard formula used   beta=lambda1*D/d  \"\n",
      "lambda1=d*beta/D*1e8\n",
      "print \"Wavelength of light used is\" ,lambda1,\"Angstrom.\""
     ],
     "language": "python",
     "metadata": {},
     "outputs": [
      {
       "output_type": "stream",
       "stream": "stdout",
       "text": [
        "   Standard formula used   beta=lambda1*D/d  \n",
        "Wavelength of light used is 5888.0 Angstrom.\n"
       ]
      }
     ],
     "prompt_number": 6
    },
    {
     "cell_type": "heading",
     "level": 2,
     "metadata": {},
     "source": [
      "EXAMPLE NUMBER 3"
     ]
    },
    {
     "cell_type": "code",
     "collapsed": false,
     "input": [
      "import math\n",
      " #Given that\n",
      "beta=0.02 #fringe width in cm\n",
      "D=100 # separation between source and screen in cm\n",
      "u=30 # separation between slit and convex lens in cm\n",
      "I=0.7 # separation between two images of slits on screen in cm\n",
      "print\"   Standard formula used   beta=lambda1*D/d  \" \n",
      "v=100-u\n",
      "O=I*u/v\n",
      "d=O\n",
      "lambda1=d*beta/D*1e8\n",
      "print\"  Wavelength of light used is\",lambda1, \"Angstrom.\""
     ],
     "language": "python",
     "metadata": {},
     "outputs": [
      {
       "output_type": "stream",
       "stream": "stdout",
       "text": [
        "   Standard formula used   beta=lambda1*D/d  \n",
        "  Wavelength of light used is 6000.0 Angstrom.\n"
       ]
      }
     ],
     "prompt_number": 8
    },
    {
     "cell_type": "heading",
     "level": 2,
     "metadata": {},
     "source": [
      "EXAMPLE NUMBER 4"
     ]
    },
    {
     "cell_type": "code",
     "collapsed": false,
     "input": [
      "import math\n",
      "#Given that\n",
      "x_n=1.88# fringe separation of nth fringe from central fringe in cm \n",
      "N=20# order of fringe\n",
      "beta=0.02#fringe width in cm\n",
      "D=120# separation between source and eyepiece in cm\n",
      "d=0.076# separation between sources in cm \n",
      "print \"   Standard formula used     beta= lambda1*D/d  \"\n",
      "beta=x_n/N # calculation of angle formed\n",
      "lambda1=d*beta/D*1e8 # calculation of Wavelength of light\n",
      "print \"  Wavelength of light used is\", round(lambda1,4) , \"Angstrom.\""
     ],
     "language": "python",
     "metadata": {},
     "outputs": [
      {
       "output_type": "stream",
       "stream": "stdout",
       "text": [
        "   Standard formula used     beta= lambda1*D/d  \n",
        "  Wavelength of light used is 5953.3333 Angstrom.\n"
       ]
      }
     ],
     "prompt_number": 10
    },
    {
     "cell_type": "code",
     "collapsed": false,
     "input": [],
     "language": "python",
     "metadata": {},
     "outputs": []
    }
   ],
   "metadata": {}
  }
 ]
}