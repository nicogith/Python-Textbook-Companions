{
 "metadata": {
  "name": "",
  "signature": "sha256:8575441dfc9f46104394a83a9c4613d36928a495b4284fab191e2ca7cb407033"
 },
 "nbformat": 3,
 "nbformat_minor": 0,
 "worksheets": [
  {
   "cells": [
    {
     "cell_type": "heading",
     "level": 1,
     "metadata": {},
     "source": [
      "Chapter 2: Introduction to Quantum Mechanics"
     ]
    },
    {
     "cell_type": "heading",
     "level": 2,
     "metadata": {},
     "source": [
      "Example 2.1, Page 47"
     ]
    },
    {
     "cell_type": "code",
     "collapsed": false,
     "input": [
      "#Variable declaration\n",
      "lamda=0.708*10**-8# cm\n",
      "h=6.625*10**-34# J*s Plank's constant\n",
      "c=3.0*10**10# cm/s\n",
      "e=1.6*10**-19# eV\n",
      "\n",
      "#Calculations&Results\n",
      "E=(h*c)/lamda# E=hv=hc/lamda\n",
      "print \"The value of E is %.2e J\"%E\n",
      "E=E/e\n",
      "print \"The value of E is %.2e eV\"%E"
     ],
     "language": "python",
     "metadata": {},
     "outputs": [
      {
       "output_type": "stream",
       "stream": "stdout",
       "text": [
        "The value of E is 2.81e-15 J\n",
        "The value of E is 1.75e+04 eV\n"
       ]
      }
     ],
     "prompt_number": 2
    },
    {
     "cell_type": "heading",
     "level": 2,
     "metadata": {},
     "source": [
      "Example 2.2,Page 49"
     ]
    },
    {
     "cell_type": "code",
     "collapsed": false,
     "input": [
      "#Variable declaration\n",
      "m=9.11*10**-31# kg*m/s\n",
      "v=10**5#m/s\n",
      "h=6.625*10**-34#js\n",
      "\n",
      "#Calculations&Results\n",
      "p=m*v\n",
      "print \"momentum is %.2e\"%p\n",
      "lamda=h/p\n",
      "print \"de broglie wavelength in meter is %.2e\"%(lamda)"
     ],
     "language": "python",
     "metadata": {},
     "outputs": [
      {
       "output_type": "stream",
       "stream": "stdout",
       "text": [
        "momentum is 9.11e-26\n",
        "de broglie wavelength in meter is 7.27e-09\n"
       ]
      }
     ],
     "prompt_number": 3
    },
    {
     "cell_type": "heading",
     "level": 2,
     "metadata": {},
     "source": [
      "Example 2.3, Page 58"
     ]
    },
    {
     "cell_type": "code",
     "collapsed": false,
     "input": [
      "import math\n",
      "\n",
      "#Variable declaration\n",
      "a=5*10**-10# a=5A = 5*10**-8cm\n",
      "h=1.054*10**-34# J*s Planck's constant \n",
      "m=9.11*10**-31# kg*m/s\n",
      "e=1.6*10**-19# eV\n",
      "\n",
      "#Calculations&Results\n",
      "print \"The energy levels are:\"\n",
      "for n in range(1,4):\n",
      "    En=((h**2*n**2*math.pi**2)/(2*m*a**2))/e\n",
      "    print \"For n = %d, E = %.2f eV\"%(n,En)\n",
      "\n",
      "    "
     ],
     "language": "python",
     "metadata": {},
     "outputs": [
      {
       "output_type": "stream",
       "stream": "stdout",
       "text": [
        "The energy levels are:\n",
        "For n = 1, E = 1.50 eV\n",
        "For n = 2, E = 6.02 eV\n",
        "For n = 3, E = 13.54 eV\n"
       ]
      }
     ],
     "prompt_number": 4
    },
    {
     "cell_type": "code",
     "collapsed": false,
     "input": [],
     "language": "python",
     "metadata": {},
     "outputs": []
    }
   ],
   "metadata": {}
  }
 ]
}