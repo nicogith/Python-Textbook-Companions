{
 "metadata": {
  "name": "",
  "signature": "sha256:d769dfed1de81f32faa9bbbfcfead0c5e629ef3b47c5b247ff782d0972a27a01"
 },
 "nbformat": 3,
 "nbformat_minor": 0,
 "worksheets": [
  {
   "cells": [
    {
     "cell_type": "heading",
     "level": 1,
     "metadata": {},
     "source": [
      "Chapter 1:Bonding in Solids"
     ]
    },
    {
     "cell_type": "heading",
     "level": 2,
     "metadata": {},
     "source": [
      "Example 1.3 , Page no:15"
     ]
    },
    {
     "cell_type": "code",
     "collapsed": false,
     "input": [
      "#given\n",
      "r=2; #in angstrom(distance)\n",
      "e=1.6E-19; # in C (charge of electron)\n",
      "E_o= 8.85E-12;# absolute premittivity\n",
      "\n",
      "#calculate\n",
      "r=2*1*10**-10; # since r is in angstrom\n",
      "V=-e**2/(4*3.14*E_o*r); # calculate potential\n",
      "V1=V/e; # changing to eV\n",
      "\n",
      "#result\n",
      "print \"\\nThe potential energy is  V = \",V,\"J\";\n",
      "print \"In electron-Volt V = \",round(V,3),\"eV\"; \n",
      "print \"Note: the answer in the book is wrong due to calculation mistake\";"
     ],
     "language": "python",
     "metadata": {},
     "outputs": [
      {
       "output_type": "stream",
       "stream": "stdout",
       "text": [
        "\n",
        "The potential energy is  V =  -1.15153477995e-18 J\n",
        "In electron-Volt V =  -0.0 eV\n",
        "Note: the answer in the book is wrong due to calculation mistake\n"
       ]
      }
     ],
     "prompt_number": 20
    },
    {
     "cell_type": "heading",
     "level": 2,
     "metadata": {},
     "source": [
      "Example 1.4 , Page no:15"
     ]
    },
    {
     "cell_type": "code",
     "collapsed": false,
     "input": [
      "import math\n",
      "from __future__ import division\n",
      "#given\n",
      "r0=0.236; #in nanometer(interionic distance)\n",
      "e=1.6E-19; # in C (charge of electron)\n",
      "E_o= 8.85E-12;# absolute premittivity\n",
      "N=8; # Born constant\n",
      "IE=5.14;# in eV (ionisation energy of sodium)\n",
      "EA=3.65;# in eV (electron affinity of Chlorine)\n",
      "pi=3.14; # value of pi used in the solution\n",
      "\n",
      "#calculate\n",
      "r0=r0*1E-9; # since r is in nanometer\n",
      "PE=(e**2/(4*pi*E_o*r0))*(1-1/N); # calculate potential energy\n",
      "PE=PE/e; #changing unit from J to eV\n",
      "NE=IE-EA;# calculation of Net energy\n",
      "BE=PE-NE;# calculation of Bond Energy\n",
      "\n",
      "#result\n",
      "print\"The potential energy is PE= \",round(PE,2),\"eV\";\n",
      "print\"The net energy is NE= \",round(NE,2),\"eV\";\n",
      "print\"The bond energy is BE= \",round(BE,2),\"eV\";\n",
      "# Note: (1)-In order to make the answer prcatically feasible and avoid the unusual answer, I have used r_0=0.236 nm instead of 236 nm. because using this value will give very much irrelevant answer.\n",
      "# Note: (2) There is slight variation in the answer due to round off."
     ],
     "language": "python",
     "metadata": {},
     "outputs": [
      {
       "output_type": "stream",
       "stream": "stdout",
       "text": [
        "The potential energy is PE=  5.34 eV\n",
        "The net energy is NE=  1.49 eV\n",
        "The bond energy is BE=  3.85 eV\n"
       ]
      }
     ],
     "prompt_number": 16
    },
    {
     "cell_type": "heading",
     "level": 2,
     "metadata": {},
     "source": [
      "Example 1.5 , Page no:16"
     ]
    },
    {
     "cell_type": "code",
     "collapsed": false,
     "input": [
      "#given\n",
      "r_0=.41; #in mm(lattice constant)\n",
      "e=1.6E-19; #in C (charge of electron)\n",
      "E_o= 8.85E-12; #absolute premittivity\n",
      "n=0.5; #repulsive exponent value\n",
      "alpha=1.76; #Madelung constant\n",
      "pi=3.14; # value of pi used in the solution\n",
      "\n",
      "#calculate\n",
      "r=.41*1E-3; #since r is in mm\n",
      "Beta=72*pi*E_o*r**4/(alpha*e**2*(n-1)); #calculation compressibility\n",
      "\n",
      "#result\n",
      "print\"The compressibility  is\tBeta=\",round(Beta);"
     ],
     "language": "python",
     "metadata": {},
     "outputs": [
      {
       "output_type": "stream",
       "stream": "stdout",
       "text": [
        "The compressibility  is\tBeta= -2.50967916144e+15\n"
       ]
      }
     ],
     "prompt_number": 12
    },
    {
     "cell_type": "heading",
     "level": 2,
     "metadata": {},
     "source": [
      "Example 1.6 , Page no:16"
     ]
    },
    {
     "cell_type": "code",
     "collapsed": false,
     "input": [
      "#given\n",
      "r_0=3.56; #in Angstrom\n",
      "e=1.6E-19; #in C (charge of electron)\n",
      "IE=3.89; #in eV (ionisation energy of Cs)\n",
      "EA=-3.61; #in eV (electron affinity of Cl)\n",
      "n=10.5; #Born constant\n",
      "E_o= 8.85E-12; #absolute premittivity\n",
      "alpha=1.763; #Madelung constant\n",
      "pi=3.14; #value of pi used in the solution\n",
      "\n",
      "#calculate\n",
      "r_0=r_0*1E-10; #since r is in nanometer\n",
      "U=-alpha*(e**2/(4*pi*E_o*r_0))*(1-1/n); #calculate potential energy\n",
      "U=U/e; #changing unit from J to eV\n",
      "ACE=U+EA+IE; #calculation of atomic cohesive energy\n",
      "\n",
      "#result\n",
      "print\"The ionic cohesive energy is \",round(U),\"eV\";\n",
      "print\"The atomic cohesive energy is\",round(ACE),\"eV\";"
     ],
     "language": "python",
     "metadata": {},
     "outputs": [
      {
       "output_type": "stream",
       "stream": "stdout",
       "text": [
        "The ionic cohesive energy is  -6.0 eV\n",
        "The atomic cohesive energy is -6.0 eV\n"
       ]
      }
     ],
     "prompt_number": 14
    },
    {
     "cell_type": "heading",
     "level": 2,
     "metadata": {},
     "source": [
      "Example 1.7 , Page no:17"
     ]
    },
    {
     "cell_type": "code",
     "collapsed": false,
     "input": [
      "#given\n",
      "r_0=2.81; #in Angstrom\n",
      "e=1.6E-19; #in C (charge of electron)\n",
      "n=9; #Born constant\n",
      "E_o= 8.85E-12; #absolute premittivity\n",
      "alpha=1.748; #Madelung constant\n",
      "pi=3.14; #value of pi used in the solution\n",
      "\n",
      "#calculate\n",
      "r_0=r_0*1E-10; #since r is in nanometer\n",
      "V=-alpha*(e**2/(4*pi*E_o*r_0))*(1-1/n); #calculate potential energy\n",
      "V=V/e; #changing unit from J to eV\n",
      "V_1=V/2; #Since only half of the energy contribute per ion to the cohecive energy therfore\n",
      "\n",
      "#result\n",
      "print\"The potential energy is V=\",round(V,2),\"eV\";\n",
      "print\"The energy contributing per ions to the cohesive energy is \",round(V_1,2),\"eV\";"
     ],
     "language": "python",
     "metadata": {},
     "outputs": [
      {
       "output_type": "stream",
       "stream": "stdout",
       "text": [
        "The potential energy is V= -7.96 eV\n",
        "The energy contributing per ions to the cohesive energy is  -3.98 eV\n"
       ]
      }
     ],
     "prompt_number": 18
    },
    {
     "cell_type": "code",
     "collapsed": false,
     "input": [],
     "language": "python",
     "metadata": {},
     "outputs": []
    }
   ],
   "metadata": {}
  }
 ]
}