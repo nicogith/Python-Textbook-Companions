{
 "metadata": {
  "name": "",
  "signature": "sha256:81e7e778194095c491cf9fdf7aefef02501d247d9b184528d44cff4b23142c68"
 },
 "nbformat": 3,
 "nbformat_minor": 0,
 "worksheets": [
  {
   "cells": [
    {
     "cell_type": "heading",
     "level": 1,
     "metadata": {},
     "source": [
      "Chapter 2 :Motion in a straight line"
     ]
    },
    {
     "cell_type": "heading",
     "level": 2,
     "metadata": {},
     "source": [
      "Example 2.1 , Page no:11"
     ]
    },
    {
     "cell_type": "code",
     "collapsed": false,
     "input": [
      "import math\n",
      "from __future__ import division\n",
      "\n",
      "#initialisation of variables\n",
      "s=9 #miles\n",
      "#since 45 min=3/4hr\n",
      "t=3/4 #hr\n",
      "\n",
      "#CALCULATIONS\n",
      "v=(s/t)\n",
      "\n",
      "#RESULTS\n",
      "print \"Velocity in min/hr =\",round(v);"
     ],
     "language": "python",
     "metadata": {},
     "outputs": [
      {
       "output_type": "stream",
       "stream": "stdout",
       "text": [
        "Velocity in min/hr = 12.0\n"
       ]
      }
     ],
     "prompt_number": 1
    },
    {
     "cell_type": "heading",
     "level": 2,
     "metadata": {},
     "source": [
      "Example 2.2 , Page no:11"
     ]
    },
    {
     "cell_type": "code",
     "collapsed": false,
     "input": [
      "import math\n",
      "from __future__ import division\n",
      "\n",
      "#initialisation of variables\n",
      "s=(1100*3)\n",
      "\n",
      "#RESULTS\n",
      "print\"Distance in ft =\",round(s);"
     ],
     "language": "python",
     "metadata": {},
     "outputs": [
      {
       "output_type": "stream",
       "stream": "stdout",
       "text": [
        "Distance in ft = 3300.0\n"
       ]
      }
     ],
     "prompt_number": 2
    },
    {
     "cell_type": "heading",
     "level": 2,
     "metadata": {},
     "source": [
      "Example 2.3 , Page no:11"
     ]
    },
    {
     "cell_type": "code",
     "collapsed": false,
     "input": [
      "import math\n",
      "from __future__ import division\n",
      "\n",
      "#initialisation of variables\n",
      "s=1.5*10**11; #m\n",
      "v=3*10**8; #ms\n",
      "\n",
      "#CALCULATIONS\n",
      "t=(s/v)\n",
      "\n",
      "#Result\n",
      "print\"Time in second =\",round(t),\"sec\";"
     ],
     "language": "python",
     "metadata": {},
     "outputs": [
      {
       "output_type": "stream",
       "stream": "stdout",
       "text": [
        "Time in second = 500.0 sec\n"
       ]
      }
     ],
     "prompt_number": 3
    },
    {
     "cell_type": "heading",
     "level": 2,
     "metadata": {},
     "source": [
      "Example 2.4 , Page no:11"
     ]
    },
    {
     "cell_type": "code",
     "collapsed": false,
     "input": [
      "import math\n",
      "from __future__ import division\n",
      "\n",
      "#initialisation of variables\n",
      "s=270; #mils\n",
      "t=4.5; #hours\n",
      "t2=7; #hours\n",
      "s2=300; #mi\n",
      "\n",
      "#CALCULATIONS\n",
      "v=(s/t)\n",
      "vt=(v*t2)\n",
      "t3=(s2/v)\n",
      "\n",
      "#RESULTS\n",
      "print\"Velocity in min/hr =\",round(v),\"mi/hr\";\n",
      "print\"Distance in mile =\",round(vt),\"mils\";\n",
      "print\"Time in hr =\",round(t3),\"hours\";"
     ],
     "language": "python",
     "metadata": {},
     "outputs": [
      {
       "output_type": "stream",
       "stream": "stdout",
       "text": [
        "Velocity in min/hr = 60.0 mi/hr\n",
        "Distance in mile = 420.0 mils\n",
        "Time in hr = 5.0 hours\n"
       ]
      }
     ],
     "prompt_number": 4
    },
    {
     "cell_type": "heading",
     "level": 2,
     "metadata": {},
     "source": [
      "Example 2.5 , Page no:11"
     ]
    },
    {
     "cell_type": "code",
     "collapsed": false,
     "input": [
      "import math\n",
      "from __future__ import division\n",
      "\n",
      "#initialisation of variables\n",
      "s=1000; #distance in mile\n",
      "\n",
      "#CALCULATIONS\n",
      "v=400+120; #velocity in mile/hr\n",
      "t=s/v;\n",
      "\n",
      "#RESULTS\n",
      "print\"Time in hr =\",round(t,1); "
     ],
     "language": "python",
     "metadata": {},
     "outputs": [
      {
       "output_type": "stream",
       "stream": "stdout",
       "text": [
        "Time in hr = 1.9\n"
       ]
      }
     ],
     "prompt_number": 5
    },
    {
     "cell_type": "heading",
     "level": 2,
     "metadata": {},
     "source": [
      "Example 2.6 , Page no:11"
     ]
    },
    {
     "cell_type": "code",
     "collapsed": false,
     "input": [
      "import math\n",
      "from __future__ import division\n",
      "\n",
      "#initialisation of variables\n",
      "v1=100; #speed in km/hr\n",
      "v2=60; #speed in km/hr\n",
      "v3=80; #speed in km/hr\n",
      "t1=2; #time in hr\n",
      "t2=2; #time in hr\n",
      "t3=1; #time in hr\n",
      "\n",
      "#CALCULATIONS\n",
      "v=((v1*t1)+(v2*t2)+(v3*t3))/(t1+t2+t3)\n",
      "\n",
      "#RESULTS\n",
      "print\"Velocity in km/hr =\",round(v);"
     ],
     "language": "python",
     "metadata": {},
     "outputs": [
      {
       "output_type": "stream",
       "stream": "stdout",
       "text": [
        "Velocity in km/hr = 80.0\n"
       ]
      }
     ],
     "prompt_number": 6
    },
    {
     "cell_type": "heading",
     "level": 2,
     "metadata": {},
     "source": [
      "Example 2.7 , Page no:12"
     ]
    },
    {
     "cell_type": "code",
     "collapsed": false,
     "input": [
      "import math\n",
      "from __future__ import division\n",
      "\n",
      "#initialisation of variables\n",
      "v=40; #velocity in ft/sec\n",
      "t=10; #time in sec\n",
      "\n",
      "#CALCULATIONS\n",
      "a=v/t;\n",
      "v1=a*t\n",
      "\n",
      "#RESULTS\n",
      "print\"Accelaration in ft/sec square =\",round(a);\n",
      "print\"Velocity in ft/sec =\",round(v1);"
     ],
     "language": "python",
     "metadata": {},
     "outputs": [
      {
       "output_type": "stream",
       "stream": "stdout",
       "text": [
        "Accelaration in ft/sec square = 4.0\n",
        "Velocity in ft/sec = 40.0\n"
       ]
      }
     ],
     "prompt_number": 7
    },
    {
     "cell_type": "heading",
     "level": 2,
     "metadata": {},
     "source": [
      "Example 2.8 , Page no:12"
     ]
    },
    {
     "cell_type": "code",
     "collapsed": false,
     "input": [
      "import math\n",
      "from __future__ import division\n",
      "\n",
      "#initialisation of variables\n",
      "v=30; #velocity in min/hr\n",
      "v0=20; #velocity in min/hr\n",
      "t=1.5; #time in sec\n",
      "\n",
      "#CALCULATIONS\n",
      "a=((v-v0)/t);  #calculating acc. \n",
      "t1=(36-30)/a; #calculating time\n",
      "\n",
      "#RESULTS\n",
      "print\"Accelaration in (min/h)/sec =\",round(a,3);\n",
      "print\"Time in second =\",round(t1,2);"
     ],
     "language": "python",
     "metadata": {},
     "outputs": [
      {
       "output_type": "stream",
       "stream": "stdout",
       "text": [
        "Accelaration in (min/h)/sec = 6.667\n",
        "Time in second = 0.9\n"
       ]
      }
     ],
     "prompt_number": 8
    },
    {
     "cell_type": "heading",
     "level": 2,
     "metadata": {},
     "source": [
      "Example 2.9 , Page no:12"
     ]
    },
    {
     "cell_type": "code",
     "collapsed": false,
     "input": [
      "import math\n",
      "from __future__ import division\n",
      "\n",
      "#initialisation of variables\n",
      "v=24; #velocity in m/sec\n",
      "a=8; #acc. in m/sec square\n",
      "\n",
      "#CALCULATIONS\n",
      "t=v/a; #using t=v/a\n",
      "s=(1/2)*(a*t*t); #kinematical equation\n",
      "\n",
      "#RESULTS\n",
      "print\"Time in sec =\",round(t);\n",
      "print\"Distance in metre =\",round(s);"
     ],
     "language": "python",
     "metadata": {},
     "outputs": [
      {
       "output_type": "stream",
       "stream": "stdout",
       "text": [
        "Time in sec = 3.0\n",
        "Distance in metre = 36.0\n"
       ]
      }
     ],
     "prompt_number": 9
    },
    {
     "cell_type": "heading",
     "level": 2,
     "metadata": {},
     "source": [
      "Example 2.10 , Page no:12"
     ]
    },
    {
     "cell_type": "code",
     "collapsed": false,
     "input": [
      "import math\n",
      "from __future__ import division\n",
      "\n",
      "#initialisation of variables\n",
      "v=30; #velocity in m/sec\n",
      "a=6; #acc. in m/sec square\n",
      "\n",
      "#CALCULATIONS\n",
      "t=v/a; #using t=v/a\n",
      "s=(1/2)*(a*t*t); #kinematical equation\n",
      "\n",
      "#RESULTS\n",
      "print\"Time in sec =\",round(t);\n",
      "print\"Distance in metre =\",round(s);"
     ],
     "language": "python",
     "metadata": {},
     "outputs": [
      {
       "output_type": "stream",
       "stream": "stdout",
       "text": [
        "Time in sec = 5.0\n",
        "Distance in metre = 75.0\n"
       ]
      }
     ],
     "prompt_number": 10
    },
    {
     "cell_type": "heading",
     "level": 2,
     "metadata": {},
     "source": [
      "Example 2.11 , Page no:12"
     ]
    },
    {
     "cell_type": "code",
     "collapsed": false,
     "input": [
      "import math\n",
      "from __future__ import division\n",
      "\n",
      "#initialisation of variables\n",
      "v=math.sqrt(2*5*600);\n",
      "\n",
      "#RESULTS\n",
      "print\"Velocity in ft/sec =\",round(v);"
     ],
     "language": "python",
     "metadata": {},
     "outputs": [
      {
       "output_type": "stream",
       "stream": "stdout",
       "text": [
        "Velocity in ft/sec = 77.0\n"
       ]
      }
     ],
     "prompt_number": 11
    },
    {
     "cell_type": "heading",
     "level": 2,
     "metadata": {},
     "source": [
      "Example 2.12 , Page no:12"
     ]
    },
    {
     "cell_type": "code",
     "collapsed": false,
     "input": [
      "import math\n",
      "from __future__ import division\n",
      "\n",
      "#initialisation of variables\n",
      "v=50; #velocity in m/sec\n",
      "s=500; #distance in m\n",
      "\n",
      "#CALCULATIONS\n",
      "a=((v*v)/(2*s));\n",
      "\n",
      "#RESULTS\n",
      "print\"Acc. in m/sec square =\",round(a,2)"
     ],
     "language": "python",
     "metadata": {},
     "outputs": [
      {
       "output_type": "stream",
       "stream": "stdout",
       "text": [
        "Acc. in m/sec square = 2.5\n"
       ]
      }
     ],
     "prompt_number": 12
    },
    {
     "cell_type": "heading",
     "level": 2,
     "metadata": {},
     "source": [
      "Example 2.13 , Page no:13"
     ]
    },
    {
     "cell_type": "code",
     "collapsed": false,
     "input": [
      "import math\n",
      "from __future__ import division\n",
      "\n",
      "#initialisation of variables\n",
      "v=15; #velocity in m/sec\n",
      "v0=30; #velocity in m/sec\n",
      "a=-2; #acc. in m/sec square\n",
      "\n",
      "#CALCULATIONS\n",
      "s=((v*v)-(v0*v0))/(2*a); #kinematical equation\n",
      "v=0;\n",
      "s1=(v*v)-(v0*v0)/(2*a);\n",
      "\n",
      "#RESULTS\n",
      "print\"Distance in metre =\",round(s,2);\n",
      "print\"Distance in metre =\",round(s1,2);"
     ],
     "language": "python",
     "metadata": {},
     "outputs": [
      {
       "output_type": "stream",
       "stream": "stdout",
       "text": [
        "Distance in metre = 168.75\n",
        "Distance in metre = 225.0\n"
       ]
      }
     ],
     "prompt_number": 13
    },
    {
     "cell_type": "heading",
     "level": 2,
     "metadata": {},
     "source": [
      "Example 2.14 , Page no:13"
     ]
    },
    {
     "cell_type": "code",
     "collapsed": false,
     "input": [
      "import math\n",
      "from __future__ import division\n",
      "\n",
      "#initialisation of variables\n",
      "g=9.8; #gravitational constant in m/sec square\n",
      "t=2.5; #time in sec\n",
      "\n",
      "#CALCULATIONS\n",
      "v=g*t;\n",
      "h=(1/2)*g*t*t; #kinematical equation\n",
      "\n",
      "#RESULTS\n",
      "print\"Velocity in m/sec =\",round(v,2);\n",
      "print\"Height in m =\",round(h,3);"
     ],
     "language": "python",
     "metadata": {},
     "outputs": [
      {
       "output_type": "stream",
       "stream": "stdout",
       "text": [
        "Velocity in m/sec = 24.5\n",
        "Height in m = 30.625\n"
       ]
      }
     ],
     "prompt_number": 14
    },
    {
     "cell_type": "heading",
     "level": 2,
     "metadata": {},
     "source": [
      "Example 2.15 , Page no:13"
     ]
    },
    {
     "cell_type": "code",
     "collapsed": false,
     "input": [
      "import math\n",
      "from __future__ import division\n",
      "\n",
      "#initialisation of variables\n",
      "g=32; #gravitational constant in ft/sec square\n",
      "h=64; #height in ft\n",
      "\n",
      "#CALCULATIONS\n",
      "t=(math.sqrt((2*h)/g)); #kinematical equation\n",
      "v=g*t; #kinematical equation\n",
      "\n",
      "#RESULTS\n",
      "print\"Time in sec =\",round(t);\n",
      "print\"Velocity in ft/sec =\",round(v);"
     ],
     "language": "python",
     "metadata": {},
     "outputs": [
      {
       "output_type": "stream",
       "stream": "stdout",
       "text": [
        "Time in sec = 2.0\n",
        "Velocity in ft/sec = 64.0\n"
       ]
      }
     ],
     "prompt_number": 15
    },
    {
     "cell_type": "heading",
     "level": 2,
     "metadata": {},
     "source": [
      "Example 2.16 , Page no:13"
     ]
    },
    {
     "cell_type": "code",
     "collapsed": false,
     "input": [
      "import math\n",
      "from __future__ import division\n",
      "\n",
      "#initialisation of variables\n",
      "g=32; #gravitational constant in ft/sec square\n",
      "h=100; #height in ft\n",
      "\n",
      "#CALCULATIONS\n",
      "v=math.sqrt(2*g*h); #calculating velocity \n",
      "\n",
      "#RESULTS\n",
      "print\"Velocity in ft/sec =\",round(v);"
     ],
     "language": "python",
     "metadata": {},
     "outputs": [
      {
       "output_type": "stream",
       "stream": "stdout",
       "text": [
        "Velocity in ft/sec = 80.0\n"
       ]
      }
     ],
     "prompt_number": 16
    },
    {
     "cell_type": "heading",
     "level": 2,
     "metadata": {},
     "source": [
      "Example 2.17 , Page no:13"
     ]
    },
    {
     "cell_type": "code",
     "collapsed": false,
     "input": [
      "import math\n",
      "from __future__ import division\n",
      "\n",
      "#initialisation of variables\n",
      "h=0.78; #height in m\n",
      "g=9.8; #gravitational constant in m/sec square\n",
      "v=0.5; #velocity in m/sec\n",
      "\n",
      "#CALCULATIONS\n",
      "t=math.sqrt((2*h)/g); #calculating t\n",
      "s=v*t; #calculating distance\n",
      "\n",
      "#RESULTS\n",
      "print\"Time required in sec =\",round(t,3);\n",
      "print\"Horizontal distance in m =\",round(s,3);"
     ],
     "language": "python",
     "metadata": {},
     "outputs": [
      {
       "output_type": "stream",
       "stream": "stdout",
       "text": [
        "Time required in sec = 0.399\n",
        "Horizontal distance in m = 0.199\n"
       ]
      }
     ],
     "prompt_number": 17
    },
    {
     "cell_type": "heading",
     "level": 2,
     "metadata": {},
     "source": [
      "Example 2.18 , Page no:14"
     ]
    },
    {
     "cell_type": "code",
     "collapsed": false,
     "input": [
      "import math\n",
      "from __future__ import division\n",
      "\n",
      "#initialisation of variables\n",
      "v0=20; #velocity in ft/sec\n",
      "g=32; #gravitational constant in ft/sec\n",
      "t=2; #time in sec\n",
      "\n",
      "#CALCULATIONS\n",
      "v=v0+(g*t); #kinematical equation\n",
      "s=(v0*t)+(1/2)*g*t*t;  #kinematical equation\n",
      "\n",
      "#RESULTS\n",
      "print\"Velocity in ft/sec =\",round(v);\n",
      "print\"Distance in ft =\",round(s);"
     ],
     "language": "python",
     "metadata": {},
     "outputs": [
      {
       "output_type": "stream",
       "stream": "stdout",
       "text": [
        "Velocity in ft/sec = 84.0\n",
        "Distance in ft = 104.0\n"
       ]
      }
     ],
     "prompt_number": 18
    },
    {
     "cell_type": "heading",
     "level": 2,
     "metadata": {},
     "source": [
      "Example 2.19 , Page no:14"
     ]
    },
    {
     "cell_type": "code",
     "collapsed": false,
     "input": [
      "import math\n",
      "from __future__ import division\n",
      "\n",
      "#initialisation of variables\n",
      "v0=20; #velocity in ft/sec\n",
      "g=-32; #gravitational constant in ft/sec\n",
      "t=0.5; #time in sec\n",
      "\n",
      "#CALCULATIONS\n",
      "v=v0+(g*t); #kinematical equation\n",
      "t=2; #time in sec\n",
      "s=v0+(g*t); #kinematical equation\n",
      "\n",
      "#RESULTS\n",
      "print\"Velocity in ft/sec =\",round(v);\n",
      "print\"Distance in ft =\",round(s);"
     ],
     "language": "python",
     "metadata": {},
     "outputs": [
      {
       "output_type": "stream",
       "stream": "stdout",
       "text": [
        "Velocity in ft/sec = 4.0\n",
        "Distance in ft = -44.0\n"
       ]
      }
     ],
     "prompt_number": 19
    },
    {
     "cell_type": "heading",
     "level": 2,
     "metadata": {},
     "source": [
      "Example 2.20 , Page no:14"
     ]
    },
    {
     "cell_type": "code",
     "collapsed": false,
     "input": [
      "import math\n",
      "from __future__ import division\n",
      "\n",
      "#initialisation of variables\n",
      "h=6; #height in ft\n",
      "g=32; #gravitaional constant in ft/sec square\n",
      "\n",
      "#CALCULATIONS\n",
      "t=math.sqrt((2*h)/g); #calculating time\n",
      "\n",
      "#RESULTS\n",
      "print\"Time in sec =\",round(t,3);"
     ],
     "language": "python",
     "metadata": {},
     "outputs": [
      {
       "output_type": "stream",
       "stream": "stdout",
       "text": [
        "Time in sec = 0.612\n"
       ]
      }
     ],
     "prompt_number": 20
    }
   ],
   "metadata": {}
  }
 ]
}