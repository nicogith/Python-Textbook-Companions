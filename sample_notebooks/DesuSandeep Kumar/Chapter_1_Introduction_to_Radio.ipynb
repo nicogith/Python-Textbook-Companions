{
 "cells": [
  {
   "cell_type": "markdown",
   "metadata": {},
   "source": [
    "# Chapter 1 Introduction to Radio Communication Systems"
   ]
  },
  {
   "cell_type": "markdown",
   "metadata": {},
   "source": [
    "## Example 1_3 pgno:3"
   ]
  },
  {
   "cell_type": "code",
   "execution_count": 1,
   "metadata": {
    "collapsed": false
   },
   "outputs": [
    {
     "name": "stdout",
     "output_type": "stream",
     "text": [
      "The transfer function has no finite zeros \n",
      "The poles \n",
      "[-0.25+0.96824584j -0.25-0.96824584j]\n"
     ]
    }
   ],
   "source": [
    "\n",
    "#Chapter 1:Introduction to Radio Communication\n",
    "#example 1.3 page no 3\n",
    "#given\n",
    "import numpy\n",
    "print('The transfer function has no finite zeros ')\n",
    "p=numpy.array([1, 0.5, 1])\n",
    "x=numpy.roots(p)\n",
    "print('The poles ')\n",
    "print(x)\n"
   ]
  },
  {
   "cell_type": "markdown",
   "metadata": {},
   "source": [
    "## Example 1_4 pgno:8"
   ]
  },
  {
   "cell_type": "code",
   "execution_count": 2,
   "metadata": {
    "collapsed": false
   },
   "outputs": [
    {
     "name": "stdout",
     "output_type": "stream",
     "text": [
      "the image frequency is  MHz 1.91\n"
     ]
    }
   ],
   "source": [
    "\n",
    "#Chapter 1:Introduction to Radio Communication Systems\n",
    "#example 1.4 page no 8\n",
    "#given\n",
    "fIF=455*10**3#intermediate frequency\n",
    "fO=1.455*10**6#oscillator frequency\n",
    "fIM=fIF+fO#image frequency\n",
    "print'the image frequency is  MHz',fIM*1e-6\n"
   ]
  }
 ],
 "metadata": {
  "kernelspec": {
   "display_name": "Python 2",
   "language": "python",
   "name": "python2"
  },
  "language_info": {
   "codemirror_mode": {
    "name": "ipython",
    "version": 2
   },
   "file_extension": ".py",
   "mimetype": "text/x-python",
   "name": "python",
   "nbconvert_exporter": "python",
   "pygments_lexer": "ipython2",
   "version": "2.7.9"
  }
 },
 "nbformat": 4,
 "nbformat_minor": 0
}
