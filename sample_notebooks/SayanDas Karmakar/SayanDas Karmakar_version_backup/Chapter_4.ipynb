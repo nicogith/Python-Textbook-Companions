{
 "metadata": {
  "celltoolbar": "Raw Cell Format",
  "name": "",
  "signature": "sha256:61bd0df995c71f463ddf51b756707a8ae69406d81e9ac36b5c0b23d29319f2ab"
 },
 "nbformat": 3,
 "nbformat_minor": 0,
 "worksheets": [
  {
   "cells": [
    {
     "cell_type": "heading",
     "level": 1,
     "metadata": {},
     "source": [
      "Chapter 4: Cotrol System Components"
     ]
    },
    {
     "cell_type": "heading",
     "level": 2,
     "metadata": {},
     "source": [
      "Example 4.1 Page No. 61"
     ]
    },
    {
     "cell_type": "code",
     "collapsed": false,
     "input": [
      "print(\"Given \\n a)Excitation voltage(Ein)=2V \\n b) Setting Ratio(a)= 0.4 \\n\")\n",
      "Ein=2;\n",
      "print \"Ein=\", Ein\n",
      "a=0.4;\n",
      "print \"a=\",a\n",
      "Rt=10**3;\n",
      "print \"Rt=\",Rt\n",
      "Rl=5*10**3;\n",
      "print \"Rl=\",Rl\n",
      "print \"Eo = (a*Ein)/(1+(a*(1-a)*Rt)/Rl)\" ;\n",
      "Eo = (a*Ein)/(1+(a*(1-a)*Rt)/Rl);\n",
      "print \"output voltage(E0)=\",round(Eo,3)\n",
      "print \"e=((a**2)*(1-a))/((a*(1-a))+(Rl/Rt)) \"\n",
      "e=((a**2)*(1-a))/((a*(1-a))+(Rl/Rt));\n",
      "print \"loading error=\",round(e,4)\n",
      "print \"E= Ein*e \"\n",
      "E=Ein*e;   #Voltage error=Excitation voltage(Ein)*Loading error(e)\n",
      "print \"Voltage error=\",round(E,4),\"V\""
     ],
     "language": "python",
     "metadata": {},
     "outputs": [
      {
       "output_type": "stream",
       "stream": "stdout",
       "text": [
        "Given \n",
        " a)Excitation voltage(Ein)=2V \n",
        " b) Setting Ratio(a)= 0.4 \n",
        "\n",
        "Ein= 2\n",
        "a= 0.4\n",
        "Rt= 1000\n",
        "Rl= 5000\n",
        "Eo = (a*Ein)/(1+(a*(1-a)*Rt)/Rl)\n",
        "output voltage(E0)= 0.763\n",
        "e=((a**2)*(1-a))/((a*(1-a))+(Rl/Rt)) \n",
        "loading error= 0.0183\n",
        "E= Ein*e \n",
        "Voltage error= 0.0366 V\n"
       ]
      }
     ],
     "prompt_number": 3
    },
    {
     "cell_type": "heading",
     "level": 2,
     "metadata": {},
     "source": [
      "Example 4.2 Page No. 62"
     ]
    },
    {
     "cell_type": "code",
     "collapsed": false,
     "input": [
      "import math\n",
      "print \"Helical turn \"\n",
      "n=5;   #Helical turn\n",
      "print \"n=\",n \n",
      "print \"\\n Winding Turn \"\n",
      "N=9000;  #Winding Turn\n",
      "print \"N=\",N\n",
      "print \"\\n Potentiometer Resistance \"\n",
      "R=10000;  #Potentiometer Resistance\n",
      "print \"R=\",R\n",
      "print \"\\n Input voltage \"\n",
      "Ein=90;  #Input voltage\n",
      "print \"Ein=\",Ein\n",
      "print \"\\n Resistance at mid point  \"\n",
      "r=5050;  #Resistance at mid point \n",
      "print \"r=\",r\n",
      "print \"\\n Deviation from nominal at mid-point \"\n",
      "D=r-5000;   #Deviation from nominal at mid-point\n",
      "print \"D=\",D\n",
      "print \"\\n Linearity \"\n",
      "L=D/R*100;  #Linearity\n",
      "print \"L=\",L\n",
      "print \"\\n Resolution \"\n",
      "R=Ein/N;   #Resolution\n",
      "print \"R=\",R\n",
      "print \"\\n Potentiometer Constant \"\n",
      "Kp=Ein/(2*math.pi*n);   #Potentiometer Constant\n",
      "print \"Kp=\",round(Kp,3),\"V/rad\"\n"
     ],
     "language": "python",
     "metadata": {},
     "outputs": [
      {
       "output_type": "stream",
       "stream": "stdout",
       "text": [
        "Helical turn \n",
        "n= 5\n",
        "\n",
        " Winding Turn \n",
        "N= 9000\n",
        "\n",
        " Potentiometer Resistance \n",
        "R= 10000\n",
        "\n",
        " Input voltage \n",
        "Ein= 90\n",
        "\n",
        " Resistance at mid point  \n",
        "r= 5050\n",
        "\n",
        " Deviation from nominal at mid-point \n",
        "D= 50\n",
        "\n",
        " Linearity \n",
        "L= 0\n",
        "\n",
        " Resolution \n",
        "R= 0\n",
        "\n",
        " Potentiometer Constant \n",
        "Kp= 2.865 V/rad\n"
       ]
      }
     ],
     "prompt_number": 16
    },
    {
     "cell_type": "heading",
     "level": 2,
     "metadata": {},
     "source": [
      "Example 4.3 Page No. 65"
     ]
    },
    {
     "cell_type": "code",
     "collapsed": false,
     "input": [
      "import math\n",
      "\n",
      "print \"Since S2 is the referance stator winding , Es2=KVcos(theta) \\n where Es2 & Er are rms voltages \\n\"\n",
      "k=1\n",
      "Theta=60;\n",
      "print \"Theta=\",Theta\n",
      "V=28;\n",
      "print \"V(applied)=\",V,\"V\"\n",
      "print \"Es2=V*cos(Theta) \\n\"\n",
      "Es2=k*V*cos(Theta*(math.pi/180));\n",
      "print \"Es2=\",Es2,\"V\"\n",
      "print \"Es1=k*V*cos(Theta-120)\\n\"\n",
      "Es1=k*V*cos((Theta-120)*(math.pi/180)); # Given Theta=60 in degrees\n",
      "print \"Es1=\",Es1,\"V\"\n",
      "print \"Es3=k*V*cos(Theta+120) \\n\"\n",
      "Es3=k*V*cos((Theta+120)*(math.pi/180));\n",
      "print \"Es3=\",Es3,\"V\"\n",
      "print \"Es31=sqrt(3)*k*Er*sin(Theta)\"\n",
      "Es31=sqrt(3)*k*V*sin(Theta*(math.pi/180));\n",
      "print \"Es31=\",Es31,\"V\"\n",
      "print \"Es12=sqrt(3)*k*Er*sin((Theta-120)\"\n",
      "Es12=sqrt(3)*k*V*sin((Theta-120)*(math.pi/180));\n",
      "print \"Es12=\",Es12,\"V\"\n",
      "print \"Es23=sqrt(3)*k*Er*sin((Theta+120)\"\n",
      "Es23=sqrt(3)*k*V*sin((Theta+120)*(math.pi/180));\n",
      "print \"Es23=\",round(Es23,1),\"V\"\n",
      "\n"
     ],
     "language": "python",
     "metadata": {},
     "outputs": [
      {
       "output_type": "stream",
       "stream": "stdout",
       "text": [
        "Since S2 is the referance stator winding , Es2=KVcos(theta) \n",
        " where Es2 & Er are rms voltages \n",
        "\n",
        "Theta= 60\n",
        "V(applied)= 28\n",
        "Es2=V*cos(Theta) \n",
        "\n",
        "Es2= 14.0 V\n",
        "Es1=k*V*cos(Theta-120)\n",
        "\n",
        "Es1= 14.0 V\n",
        "Es3=k*V*cos(Theta+120) \n",
        "\n",
        "Es3= -28.0 V\n",
        "Es31=sqrt(3)*k*Er*sin(Theta)\n",
        "Es31= 42.0 V\n",
        "Es12=sqrt(3)*k*Er*sin((Theta-120)\n",
        "Es12= -42.0 V\n",
        "Es23=sqrt(3)*k*Er*sin((Theta+120)\n",
        "Es23= 0.0 V\n"
       ]
      }
     ],
     "prompt_number": 21
    },
    {
     "cell_type": "heading",
     "level": 2,
     "metadata": {},
     "source": [
      "Example 4.4 Page No. 67"
     ]
    },
    {
     "cell_type": "code",
     "collapsed": false,
     "input": [
      "import math \n",
      "print \"Sensitivity = 5v/1000rpm \\n\"\n",
      "Vg=5;\n",
      "print \"Vg=\",Vg,\"\\n\"\n",
      "print \"w(in radians/sec)=(1000/60)*2* pi \\n\"\n",
      "w=(1000/60)*2*math.pi;\n",
      "print \"w=\",round(w,6),\"radians/sec\",\"\\n\"\n",
      "print \"Kt=Vg/w \\n\"\n",
      "Kt=Vg/w;\n",
      "print \"Gain constant(Kt)=\",round(Kt,4),\"V/rad/sec\" # Answer given in textbook is after taking appoximation."
     ],
     "language": "python",
     "metadata": {},
     "outputs": [
      {
       "output_type": "stream",
       "stream": "stdout",
       "text": [
        "Sensitivity = 5v/1000rpm \n",
        "\n",
        "Vg= 5 \n",
        "\n",
        "w(in radians/sec)=(1000/60)*2* pi \n",
        "\n",
        "w= 100.530965 radians/sec \n",
        "\n",
        "Kt=Vg/w \n",
        "\n",
        "Gain constant(Kt)= 0.0497 V/rad/sec\n"
       ]
      }
     ],
     "prompt_number": 34
    },
    {
     "cell_type": "heading",
     "level": 2,
     "metadata": {},
     "source": [
      "Example 4.5 Page No. 80"
     ]
    },
    {
     "cell_type": "code",
     "collapsed": false,
     "input": [
      "print \"Torque = KmVm = 2 \\n\"\n",
      "t=2;\n",
      "print \"Torque(t) = \",t,\"\\n\"\n",
      "Fm=0.2;\n",
      "print \"Coefficient of Viscous friction(Fm)=\",Fm,\"\\n\"\n",
      "N=4\n",
      "I=0.2\n",
      "F1=0.05\n",
      "print \"Wnl = t/Fm \\n\"\n",
      "Wnl = t/Fm;\n",
      "print \"No Load Speed(Wnl) = \",Wnl,\"rad/sec \\n\"\n",
      "print \"Fwt = I+(N^2*F1) \\n\"\n",
      "Fwt = I+(N**2*F1);\n",
      "print \"Total Viscous Friction(Fwt) = \",Fwt,\"lb ft sec\\n\"\n",
      "print \"Te = t-(Fwt*w) \\n\"\n",
      "Te=0.8   #load\n",
      "w=(t-Te)/Fwt;\n",
      "print \"Speed of Motor(w) = \",w,\"rad/sec \\n\"\n"
     ],
     "language": "python",
     "metadata": {},
     "outputs": [
      {
       "output_type": "stream",
       "stream": "stdout",
       "text": [
        "Torque = KmVm = 2 \n",
        "\n",
        "Torque(t) =  2 \n",
        "\n",
        "Coefficient of Viscous friction(Fm)= 0.2 \n",
        "\n",
        "Wnl = t/Fm \n",
        "\n",
        "No Load Speed(Wnl) =  10.0 rad/sec \n",
        "\n",
        "Fwt = I+(N^2*F1) \n",
        "\n",
        "Total Viscous Friction(Fwt) =  1.0 lb ft sec\n",
        "\n",
        "Te = t-(Fwt*w) \n",
        "\n",
        "Speed of Motor(w) =  1.2 rad/sec \n",
        "\n"
       ]
      }
     ],
     "prompt_number": 2
    }
   ],
   "metadata": {}
  }
 ]
}