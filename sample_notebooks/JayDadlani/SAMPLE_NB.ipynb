{
 "metadata": {
  "celltoolbar": "Raw Cell Format",
  "name": "",
  "signature": "sha256:58e66a1486b17622aacd34bb93b225c18134442ddc1f2fbedecd0abdd0c9b88e"
 },
 "nbformat": 3,
 "nbformat_minor": 0,
 "worksheets": [
  {
   "cells": [
    {
     "cell_type": "heading",
     "level": 1,
     "metadata": {},
     "source": [
      "A TEXTBOOK OF PHYSICAL CHEMISTRY BY K.I. KAPOOR"
     ]
    },
    {
     "cell_type": "heading",
     "level": 1,
     "metadata": {},
     "source": [
      "CHAPTER NUMBER 1 : EQUILIBRIUM BETWEEN PHASES"
     ]
    },
    {
     "cell_type": "heading",
     "level": 2,
     "metadata": {},
     "source": [
      "EXAMPLE NUMBER 1.5.1 : PAGE NUMBER 10"
     ]
    },
    {
     "cell_type": "code",
     "collapsed": false,
     "input": [
      "import math  \n",
      "T1 = 234.5  # Temperature in K\n",
      "P = 1   # Pressure in atm\n",
      "rho1 = 14.19 # Density of solid Hg in g/(cm**3)\n",
      "rho2 = 13.70 # Density of liquid Hg in g/(cm**3)\n",
      "V = 200.59 # volume of liquid and solid in g/mol\n",
      "delV = ((V/rho2)-(V/rho1))*(10**-3)# in dm**3/mol\n",
      "delTdelP = 0.0051 # K/atm\n",
      "R1 = 8.314 # in J\n",
      "R2 = 0.082 # in (dm)**3/atm\n",
      "delH = ((delV*T1)/(delTdelP))*(R1/R2)*10**-3;#molar heat of fusion in kJ/mol\n",
      "print \" delH = \",round(delH,4),\"(KJ)/mol \"\n",
      "T2 = 273# in K\n",
      "delP = (delH*(R2/R1)*(T2-T1))/(delV*T1)*10**3;#pressure required to raise melting point to T2 in atm\n",
      "print \"   delP = \",round(delP,4),\"atm\""
     ],
     "language": "python",
     "metadata": {},
     "outputs": [
      {
       "output_type": "stream",
       "stream": "stdout",
       "text": [
        " delH =  2.3571 (KJ)/mol \n",
        "   delP =  7549.0196 atm\n"
       ]
      }
     ],
     "prompt_number": 3
    },
    {
     "cell_type": "heading",
     "level": 2,
     "metadata": {},
     "source": [
      "EXAMPLE NUMBER 1.5.2 : PAGE NUMBER 15"
     ]
    },
    {
     "cell_type": "code",
     "collapsed": false,
     "input": [
      "import math;\n",
      "T1=373.15;#in K\n",
      "P=1;#atm\n",
      "Vv=1674;#in cm**3/gm\n",
      "delPdelT=27.12;#in torr/K\n",
      "R1=8.314;#in J\n",
      "R2=0.082;#in atm/(dm)**3\n",
      "delH=((delPdelT)/760)*T1*((Vv*10**-3)*18)*(R1/R2)\n",
      "print \" delH = \",round(delH,4),\" J/mol \""
     ],
     "language": "python",
     "metadata": {},
     "outputs": [
      {
       "output_type": "stream",
       "stream": "stdout",
       "text": [
        " delH =  40680.2549  J/mol \n"
       ]
      }
     ],
     "prompt_number": 5
    },
    {
     "cell_type": "heading",
     "level": 2,
     "metadata": {},
     "source": [
      "EXAMPLE NUMBER 1.5.3 : PAGE NUMBER 16"
     ]
    },
    {
     "cell_type": "code",
     "collapsed": false,
     "input": [
      "import math;\n",
      "T1=313.75;#in K\n",
      "P1=59.1;#in torr\n",
      "T2=353.15;#in K\n",
      "P2=298.7;#in torr\n",
      "R=2.303*8.314;#in J/(K*mol)\n",
      "delH=R*math.log10(P2/P1)*((T2*T1)/(T2-T1))\n",
      "print \" delH= \",round(delH,4),\" J/mol \""
     ],
     "language": "python",
     "metadata": {},
     "outputs": [
      {
       "output_type": "stream",
       "stream": "stdout",
       "text": [
        " delH=  37888.375  J/mol \n"
       ]
      }
     ],
     "prompt_number": 9
    },
    {
     "cell_type": "heading",
     "level": 2,
     "metadata": {},
     "source": [
      "EXAMPLE NUMBER 1.5.4 : PAGE NUMBER 16"
     ]
    },
    {
     "cell_type": "code",
     "collapsed": false,
     "input": [
      "import math\n",
      "T1=325.15;#in K\n",
      "T2=338.15;#in K\n",
      "P2=760;#in torr\n",
      "DelHm_v=10.5;#\n",
      "P1=P2/(10**((DelHm_v/2.303)*((T2/T1)-1)));#in torr\n",
      "print \" P1= \",round(P1,4),\"torr \"\n",
      "P=200;#in torr\n",
      "T=T2/(1+((2.303/10.5)*math.log10(P2/P)));#in K\n",
      "print \"   T =\",round(T,4),\" K \"\n",
      "I=math.log10(P2)-(((DelHm_v*T2)/2.303)*(-1/T2));#\n",
      "print \"   I = \",round(I,4)"
     ],
     "language": "python",
     "metadata": {},
     "outputs": [
      {
       "output_type": "stream",
       "stream": "stdout",
       "text": [
        " P1=  499.4901 torr \n",
        "   T = 306.1154  K \n",
        "   I =  7.4401\n"
       ]
      }
     ],
     "prompt_number": 13
    },
    {
     "cell_type": "heading",
     "level": 2,
     "metadata": {},
     "source": [
      "EXAMPLE NUMBER 1.5.5 : PAGE NUMBER 17"
     ]
    },
    {
     "cell_type": "code",
     "collapsed": false,
     "input": [
      "import math;\n",
      "P=760;#in torr\n",
      "dP=52;#in torr\n",
      "dT=2;#in K\n",
      "DelH_RTb=10.5;#Trouton rule\n",
      "Tb=(DelH_RTb*P)/(dP/dT)\n",
      "print \" Tb = \",round(Tb,4),\" K\"\n",
      "R=8.314;#in J/Kmol\n",
      "DelH_v=(DelH_RTb*R*Tb)\n",
      "print \"   DelH_v = \",round(DelH_v,4),\"J/mol \""
     ],
     "language": "python",
     "metadata": {},
     "outputs": [
      {
       "output_type": "stream",
       "stream": "stdout",
       "text": [
        " Tb =  306.9231  K\n",
        "   DelH_v =  26793.4638 J/mol \n"
       ]
      }
     ],
     "prompt_number": 16
    }
   ],
   "metadata": {}
  }
 ]
}