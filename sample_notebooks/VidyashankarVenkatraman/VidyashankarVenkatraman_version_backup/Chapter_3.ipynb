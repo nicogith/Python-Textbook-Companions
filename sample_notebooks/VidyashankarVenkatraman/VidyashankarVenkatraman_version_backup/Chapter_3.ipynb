{
 "metadata": {
  "name": "Chapter_3_Kittel"
 },
 "nbformat": 3,
 "nbformat_minor": 0,
 "worksheets": [
  {
   "cells": [
    {
     "cell_type": "heading",
     "level": 1,
     "metadata": {},
     "source": "Introduction to Solid State Physics"
    },
    {
     "cell_type": "heading",
     "level": 2,
     "metadata": {},
     "source": "Example number 3.1, Page Number 84\n"
    },
    {
     "cell_type": "code",
     "collapsed": false,
     "input": "#importing module\n\nfrom __future__ import division\nimport math\n\n#Variable declaration\n\ne = 5*pow(10,-10);  # charge on the electron\n\nr0 = 1*pow(10,-8);   # atomic radius\n\n# Calculation\n\nR = 4*10**(-8);   # interatomic distance in cm\n\nU = -4*e**2*r0**5/R**6;   # The van der waals interaction formula\n\n# Result\n\nprint \" The Van Der Waals interaction energy is \",U ,\"ergs\"",
     "language": "python",
     "metadata": {},
     "outputs": [
      {
       "output_type": "stream",
       "stream": "stdout",
       "text": " The Van Der Waals interaction energy is  -2.44140625e-14 ergs\n"
      }
     ],
     "prompt_number": 2
    },
    {
     "cell_type": "heading",
     "level": 2,
     "metadata": {},
     "source": "Example number 3.2, Page Number 91"
    },
    {
     "cell_type": "code",
     "collapsed": false,
     "input": "#importing module\n\nfrom __future__ import division\nimport math\n\n# Variable declaration\n\ne = 4.8*pow(10,-10);  # charge on proton\nr0 = 2.81*pow(10,-8);   # distance between positive and nearest negative ion in Nacl crystal\n\nU = e**2/r0;    # in ergs\n\nE = U/(1.6019*pow(10,-12));   # converting to eV as 1eV = 1.6019 * 10**(-12) ergs\n\n#result\nprint \" The potential energy of the two ions by themselves is \",E,\"eV\"\n\n\n\n\n\n\n ",
     "language": "python",
     "metadata": {},
     "outputs": [
      {
       "output_type": "stream",
       "stream": "stdout",
       "text": " The potential energy of the two ions by themselves is  5.11847696874 eV\n"
      }
     ],
     "prompt_number": 22
    },
    {
     "cell_type": "code",
     "collapsed": false,
     "input": "",
     "language": "python",
     "metadata": {},
     "outputs": [],
     "prompt_number": 19
    },
    {
     "cell_type": "code",
     "collapsed": false,
     "input": "",
     "language": "python",
     "metadata": {},
     "outputs": []
    }
   ],
   "metadata": {}
  }
 ]
}