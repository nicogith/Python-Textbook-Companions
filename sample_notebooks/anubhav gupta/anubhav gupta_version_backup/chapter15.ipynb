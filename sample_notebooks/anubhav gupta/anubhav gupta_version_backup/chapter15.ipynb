{
 "metadata": {
  "name": "",
  "signature": "sha256:e4b81aad84d58dd6a5380406939aae9ead38ccfe59091c46f280bef86ba6a2d7"
 },
 "nbformat": 3,
 "nbformat_minor": 0,
 "worksheets": [
  {
   "cells": [
    {
     "cell_type": "heading",
     "level": 1,
     "metadata": {},
     "source": [
      "Chapter15:POWER SYSTEMS"
     ]
    },
    {
     "cell_type": "heading",
     "level": 2,
     "metadata": {},
     "source": [
      "Ex15.1:pg-207"
     ]
    },
    {
     "cell_type": "code",
     "collapsed": false,
     "input": [
      "V1=250\n",
      "V2=480\n",
      "Vol2_by_Vol1=V1/V2\n",
      "\n",
      "sav=(1-Vol2_by_Vol1)*100\n",
      "print(sav)\n"
     ],
     "language": "python",
     "metadata": {},
     "outputs": [
      {
       "output_type": "stream",
       "stream": "stdout",
       "text": [
        "100\n"
       ]
      }
     ],
     "prompt_number": 2
    },
    {
     "cell_type": "heading",
     "level": 2,
     "metadata": {},
     "source": [
      "Ex15.2:pg-207"
     ]
    },
    {
     "cell_type": "code",
     "collapsed": false,
     "input": [
      "P=5E6\n",
      "pf=0.85\n",
      "V=33000\n",
      "l=50000\n",
      "rho=3E-8\n",
      "Pt=P*pf\n",
      "Pl=Pt*0.1\n",
      "I=P/V\n",
      "A1=2*I*I*rho*l/Pl\n",
      "Vol1=2*l*A1\n",
      "print(Vol1)\n",
      "Il=P/sqrt(3)/V\n",
      "A2=3*Il*Il*rho*l/Pl\n",
      "Vol2=3*l*A2\n",
      "print(Vol2)\n"
     ],
     "language": "python",
     "metadata": {},
     "outputs": []
    },
    {
     "cell_type": "heading",
     "level": 2,
     "metadata": {},
     "source": [
      "Ex15.3:pg-208"
     ]
    },
    {
     "cell_type": "code",
     "collapsed": false,
     "input": [
      "import math\n",
      "f=50\n",
      "w=2*math.pi*f\n",
      "I=0.8\n",
      "V=220\n",
      "P=75\n",
      "phi=math.acos(P/V/I)\n",
      "\n",
      "phi_new=math.acos(0.9)\n",
      "Ic=I*cos(phi)*(tan(phi)-tan(phi_new))\n",
      "C=Ic/V/w\n",
      "print\"C=\",round(C,8)\n",
      "\n",
      "phi_new=math.acos(1)\n",
      "Ic=I*cos(phi)*(tan(phi)-tan(phi_new))\n",
      "C=Ic/V/w\n",
      "print\"C=\",round(C,8)\n"
     ],
     "language": "python",
     "metadata": {},
     "outputs": [
      {
       "output_type": "stream",
       "stream": "stdout",
       "text": [
        "C= 1.157e-05\n",
        "C= 1.157e-05\n"
       ]
      }
     ],
     "prompt_number": 7
    },
    {
     "cell_type": "heading",
     "level": 2,
     "metadata": {},
     "source": [
      "Ex15.4:pg-208"
     ]
    },
    {
     "cell_type": "code",
     "collapsed": false,
     "input": [
      "import math\n",
      "Cond_cost=100\n",
      "charge=60\n",
      "phi2=math.asin(0.1*Cond_cost/charge)\n",
      "pf=cos(phi2)\n",
      "print(pf)\n"
     ],
     "language": "python",
     "metadata": {},
     "outputs": [
      {
       "output_type": "stream",
       "stream": "stdout",
       "text": [
        "0.986013297183\n"
       ]
      }
     ],
     "prompt_number": 8
    },
    {
     "cell_type": "heading",
     "level": 2,
     "metadata": {},
     "source": [
      "Ex15.5:pg-209"
     ]
    },
    {
     "cell_type": "code",
     "collapsed": false,
     "input": [
      "\n",
      "Oc=400000\n",
      "pf1=0.8\n",
      "phi1=math.acos(pf1)\n",
      "ab=Oc/cos(phi1)*sin(phi1)\n",
      "pf2=0.25\n",
      "phi3=math.acos(pf2)\n",
      "pf2=0.484\n",
      "\n",
      "gammaa=(ab-pf2*Oc)/(pf2*cos(phi3)+sin(phi3))\n",
      "print(gammaa)\n"
     ],
     "language": "python",
     "metadata": {},
     "outputs": [
      {
       "output_type": "stream",
       "stream": "stdout",
       "text": [
        "97682.2645812\n"
       ]
      }
     ],
     "prompt_number": 9
    },
    {
     "cell_type": "heading",
     "level": 2,
     "metadata": {},
     "source": [
      "Ex15.6:pg-209"
     ]
    },
    {
     "cell_type": "code",
     "collapsed": false,
     "input": [
      "f=50\n",
      "w=2*math.pi*f\n",
      "P=2E6\n",
      "V=11000\n",
      "pf=0.8\n",
      "phi=math.acos(pf)\n",
      "Xl=10\n",
      "IR=P/sqrt(3)/V/pf\n",
      "Vr=V/sqrt(3)\n",
      "Vs=Vr+IR*Xl*sin(phi)\n",
      "Vsll=Vs*sqrt(3)\n",
      "print(Vsll)\n",
      "VR=Vsll/V-1\n",
      "print(VR)\n",
      "\n",
      "pf=1\n",
      "print(pf)\n",
      "Qc=P*tan(phi)\n",
      "C=Qc/V/V/w\n",
      "print(C)\n"
     ],
     "language": "python",
     "metadata": {},
     "outputs": [
      {
       "output_type": "stream",
       "stream": "stdout",
       "text": [
        "12363.6363636\n",
        "0.123966942149\n",
        "1\n",
        "3.94599032459e-05\n"
       ]
      }
     ],
     "prompt_number": 10
    },
    {
     "cell_type": "heading",
     "level": 2,
     "metadata": {},
     "source": [
      "Ex15.7:pg-210"
     ]
    },
    {
     "cell_type": "code",
     "collapsed": false,
     "input": [
      "f=50\n",
      "w=2*math.pi*f\n",
      "V=33000\n",
      "Vr=V/sqrt(3)\n",
      "P=24E6/3\n",
      "pf=0.8\n",
      "phi=math.acos(pf)\n",
      "Ia=P/Vr/pf\n",
      "Rl=4.0\n",
      "Xl=20\n",
      "Vs=Vr+Ia*(Xl*sin(phi)+Rl*cos(phi))\n",
      "Vsll=sqrt(3)*Vs\n",
      "VR=Vsll/V-1\n",
      "print(Vsll)\n",
      "Ia=Ia*exp(-1j*phi)\n",
      "print(norm(Ia))\n",
      "\n",
      "phi1=math.atan(-Rl/Xl)\n",
      "pf=cos(phi1)\n",
      "Ia1=P/Vr/pf\n",
      "Ia1=Ia1*exp(-1j*phi1)   #calculation mistake in the book at this step\n",
      "\n",
      "Ic=Ia1-Ia\n",
      "C=norm(Ic/w/Vr)\n",
      "print(C)\n",
      "\n",
      "LL1=norm(Ia*Ia*Rl)\n",
      "effi1=P/(P+LL1)\n",
      "LL2=norm(Ia1*Ia1*Rl)\n",
      "effi2=P/(P+LL2)\n",
      "print(effi1)\n",
      "print(effi2)\n"
     ],
     "language": "python",
     "metadata": {},
     "outputs": [
      {
       "output_type": "stream",
       "stream": "stdout",
       "text": [
        "46818.1818182\n",
        "524.863881081"
       ]
      },
      {
       "output_type": "stream",
       "stream": "stdout",
       "text": [
        "\n",
        "6.66433921487e-05\n",
        "0.878934624697\n",
        "0.916018976481\n"
       ]
      }
     ],
     "prompt_number": 11
    }
   ],
   "metadata": {}
  }
 ]
}