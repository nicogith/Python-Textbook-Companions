{
 "cells": [
  {
   "cell_type": "markdown",
   "metadata": {},
   "source": [
    "# CHAPTER_8-Load Characteristics Of DC Motors"
   ]
  },
  {
   "cell_type": "markdown",
   "metadata": {},
   "source": [
    "## Example 8.3 Page Dc-111"
   ]
  },
  {
   "cell_type": "code",
   "execution_count": 1,
   "metadata": {
    "collapsed": false
   },
   "outputs": [
    {
     "name": "stdout",
     "output_type": "stream",
     "text": [
      "speed of motion at half the torque= 1444.17 rpm\n"
     ]
    }
   ],
   "source": [
    "import math\n",
    "\n",
    "#variable declaration\n",
    "U=230     #voltage(V)\n",
    "Ia1=155   #current(A)\n",
    "Rm_Rse=0.1#armature resistance(ohm)\n",
    "N1=1000  #speed(rpm)\n",
    "\n",
    "#calculation\n",
    "Ia2=round(Ia1/math.sqrt(2),1) #current(A)\n",
    "Eb1=U-(Ia1*Rm_Rse)   #voltage(V)\n",
    "Eb2=U-(Ia2*Rm_Rse)   #voltage(V)\n",
    "N2=(Eb2/Eb1)*(Ia1/Ia2)*N1\n",
    "print 'speed of motion at half the torque=',round(N2,2),'rpm'"
   ]
  }
 ],
 "metadata": {
  "kernelspec": {
   "display_name": "Python 2",
   "language": "python",
   "name": "python2"
  },
  "language_info": {
   "codemirror_mode": {
    "name": "ipython",
    "version": 2
   },
   "file_extension": ".py",
   "mimetype": "text/x-python",
   "name": "python",
   "nbconvert_exporter": "python",
   "pygments_lexer": "ipython2",
   "version": "2.7.11"
  }
 },
 "nbformat": 4,
 "nbformat_minor": 0
}
