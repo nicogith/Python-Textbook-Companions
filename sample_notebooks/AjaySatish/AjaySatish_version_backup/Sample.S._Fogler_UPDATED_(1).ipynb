{
 "metadata": {
  "celltoolbar": "Raw Cell Format",
  "name": "",
  "signature": "sha256:6aa7321c51ecc68ee01a5bb4aa554a936a01c87ebd6725c56b8e0edb6adbcf78"
 },
 "nbformat": 3,
 "nbformat_minor": 0,
 "worksheets": [
  {
   "cells": [
    {
     "cell_type": "heading",
     "level": 1,
     "metadata": {},
     "source": [
      "ELEMENTS OF CHEMICAL ENGINEERING BY H.S. FOGLER"
     ]
    },
    {
     "cell_type": "heading",
     "level": 1,
     "metadata": {},
     "source": [
      "CHAPTER NUMBER 2 : CONVERSION AND REACTOR SIZING"
     ]
    },
    {
     "cell_type": "heading",
     "level": 2,
     "metadata": {},
     "source": [
      "EXAMPLE NUMBER 2.1 : PAGE NUMBER 38"
     ]
    },
    {
     "cell_type": "code",
     "collapsed": false,
     "input": [
      "  \n",
      "import math\n",
      " \n",
      "P0 = 10; #atm\n",
      "yA0 = 0.5;\n",
      "T0 = 422.2;#K\n",
      "R = 0.082;# dm**3.atm/mol.K\n",
      "v0 = 6;#dm**3/s\n",
      "CA0=(yA0*P0)/(R*T0);\n",
      "FA0 = CA0*v0;\n",
      "print \"CA0 =\",round(CA0,4),\"mol/dm**3\"\n",
      "print \"FA0 =\",round(FA0,4),\"mol/s\""
     ],
     "language": "python",
     "metadata": {},
     "outputs": [
      {
       "output_type": "stream",
       "stream": "stdout",
       "text": [
        "CA0 = 0.1444 mol/dm**3\n",
        "FA0 = 0.8665 mol/s\n"
       ]
      }
     ],
     "prompt_number": 10
    },
    {
     "cell_type": "heading",
     "level": 2,
     "metadata": {},
     "source": [
      "EXAMPLE NUMBER 2.2 : PAGE NUMBER 42"
     ]
    },
    {
     "cell_type": "code",
     "collapsed": false,
     "input": [
      "import math\n",
      "P0 = 10; #atm\n",
      "yA0 = 0.5;\n",
      "T0 = 422.2;#K\n",
      "R = 0.082;# dm**3.atm/mol.K\n",
      "v0 = 6;#dm**3/s\n",
      "X = 0.8;\n",
      "rA = -1/800;#1/-rA = 800#dm**3.s/mol\n",
      "CA0=(yA0*P0)/(R*T0);\n",
      "FA0 = CA0*v0;\n",
      "V = FA0*X*(1/-rA)\n",
      "print \"FA0 =\",round(FA0,4),\"mol/s\"\n",
      "print \"V =\",round(V,4),\"dm**3\"\n"
     ],
     "language": "python",
     "metadata": {},
     "outputs": [
      {
       "output_type": "stream",
       "stream": "stdout",
       "text": [
        "FA0 = 0.8665 mol/s\n",
        "V = 0.6932 dm**3\n"
       ]
      }
     ],
     "prompt_number": 11
    },
    {
     "cell_type": "heading",
     "level": 2,
     "metadata": {},
     "source": [
      "EXAMPLE NUMBER 2.3 : PAGE NUMBER 44"
     ]
    },
    {
     "cell_type": "code",
     "collapsed": false,
     "input": [
      "import math\n",
      " \n",
      "P0 = 10; #atm\n",
      "yA0 = 0.5;\n",
      "T0 = 422.2;#K\n",
      "R = 0.082;# dm**3.atm/mol.K\n",
      "v0 = 6;#dm**3/s\n",
      "X = [0,0.1,0.2,0.3,0.4,0.5,0.6,0.7,0.8];\n",
      "p = [189,192,200,222,250,303,400,556,800];#1/-rA = 800#dm**3.s/mols\n",
      "CA0=(yA0*P0)/(R*T0);\n",
      "FA0 = CA0*v0;\n",
      "#V = FA0*X*(1/-rA)\n",
      "\n",
      "V = FA0*np.interp(0.42,X,p)\n",
      "print \"FA0 =\",FA0,\"mol/s\"\n",
      "print \"V =\",V,\"dm**3\""
     ],
     "language": "python",
     "metadata": {},
     "outputs": [
      {
       "output_type": "stream",
       "stream": "stdout",
       "text": [
        "FA0 = 0.866541114487 mol/s\n",
        "V = 225.820614435 dm**3\n"
       ]
      }
     ],
     "prompt_number": 21
    },
    {
     "cell_type": "heading",
     "level": 2,
     "metadata": {},
     "source": [
      "EXAMPLE NUMBER 2.4 : PAGE NUMBER 46"
     ]
    },
    {
     "cell_type": "code",
     "collapsed": false,
     "input": [
      "import math\n",
      "FA0 = 5; # mol/s\n",
      "rAat=-0.0025;\n",
      "X = [0,0.1,0.2,0.3,0.4,0.5,0.6];\n",
      "p = [189,192,200,222,250,303,400];#1/-rA = 800#dm**3.s/mols\n",
      "\n",
      "VCSTR = FA0*X[6]*(1/-rAat);\n",
      "VPFR = FA0*np.interp(0.00017,X,p)\n",
      "print \"VCSTR =\",VCSTR,\"dm**3\"\n",
      "print \"VPFR =\",VPFR,\"dm**3\""
     ],
     "language": "python",
     "metadata": {},
     "outputs": [
      {
       "output_type": "stream",
       "stream": "stdout",
       "text": [
        "VCSTR = 1200.0 dm**3\n",
        "VPFR = 945.0255 dm**3\n"
       ]
      }
     ],
     "prompt_number": 37
    }
   ],
   "metadata": {}
  }
 ]
}