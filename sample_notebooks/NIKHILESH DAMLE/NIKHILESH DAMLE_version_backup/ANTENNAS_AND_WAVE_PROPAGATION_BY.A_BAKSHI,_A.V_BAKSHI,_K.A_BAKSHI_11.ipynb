{
 "metadata": {
  "name": "",
  "signature": "sha256:02197244985b7dfa2823dacf9fac72c0a7536b50c383ffa1801ccf3066222ec3"
 },
 "nbformat": 3,
 "nbformat_minor": 0,
 "worksheets": [
  {
   "cells": [
    {
     "cell_type": "heading",
     "level": 1,
     "metadata": {},
     "source": [
      "Radiation"
     ]
    },
    {
     "cell_type": "heading",
     "level": 2,
     "metadata": {},
     "source": [
      "Example 1.7.1, PAGE NO.-30"
     ]
    },
    {
     "cell_type": "code",
     "collapsed": false,
     "input": [
      "import math\n",
      "\n",
      "# Variable declaration\n",
      "\n",
      "I_m = 15     #Current in Ampere\n",
      "P_rad = 6    #Power radiated in kW\n",
      "\n",
      "#Calculation\n",
      "\n",
      "# By formula\n",
      "I_rms = I_m/math.sqrt(2)  #I_rms is r.m.s. current\n",
      "\n",
      "R_rad = P_rad/(I_rms**2)  #R_rad is radiation resistance\n",
      "\n",
      "#Result\n",
      "\n",
      "print \"The radiation resistance of Antenna is\",round(R_rad*1000,2),\"kW\"\n",
      "\n"
     ],
     "language": "python",
     "metadata": {},
     "outputs": [
      {
       "output_type": "stream",
       "stream": "stdout",
       "text": [
        "The radiation resistance of Antenna is 53.33 kW\n"
       ]
      }
     ]
    },
    {
     "cell_type": "heading",
     "level": 2,
     "metadata": {},
     "source": [
      "Example 1.9.1,PAGE NO.-42"
     ]
    },
    {
     "cell_type": "code",
     "collapsed": false,
     "input": [
      "from __future__ import division\n",
      "from math import sin,cos,pi,sqrt \n",
      "from sympy import Symbol\n",
      "\n",
      "# Variable Declaration\n",
      "\n",
      "Lm = Symbol('Lm')     # Taking lamda as Lm\n",
      "dL = Lm/25            # Length of dipole for Hertian dipole\n",
      "H_phi = 5             # Magnetic field strength in uA/m\n",
      "theta = pi/2\n",
      "r = 2                 # Distance in Km\n",
      "dL_1 = Lm/2           # Length of dipole for Half wave dipole \n",
      "R_rad = 73            # Radiation resistance for half wave dipole in ohm\n",
      "R_rad1 = 36.5         # Radiation resistance for quarter wave monopole in ohm\n",
      "dL_2 = Lm/4           # Length of dipole for quarter wave monopole \n",
      "\n",
      "# Calculation\n",
      "\n",
      "# By formula : H_phi = I_m*dL*sin(theta)/2*Lm*r\n",
      "I_m = (H_phi*2*Lm*r)/(dL*sin(theta))\n",
      "I_rms = I_m/sqrt(2)\n",
      "P_rad = 80*(pi**2)*((dL/Lm)**2)*(I_rms**2)\n",
      "I_m1 = (H_phi*2*pi*r*sin(theta))/(cos(pi/2*cos(theta)))\n",
      "I_rms1 = I_m1/sqrt(2)\n",
      "P_rad1 = (I_rms1**2)*R_rad\n",
      "P_rad2 = (I_rms1**2)*R_rad1\n",
      "\n",
      "# Result\n",
      "\n",
      "print \" The power radiated by hertzian dipole is \",round(P_rad*10**-3,2),\"mW\"\n",
      "print \" The power radiated by half wave dipole is \",round(P_rad1*10**-3,2),\"mW\"\n",
      "print \" The power radiated by Quarter wave monopole is \",round(P_rad2*10**-3,2),\"mW\"\n"
     ],
     "language": "python",
     "metadata": {},
     "outputs": []
    },
    {
     "cell_type": "heading",
     "level": 2,
     "metadata": {},
     "source": [
      "Example 1.9.2,PAGE NO.-43"
     ]
    },
    {
     "cell_type": "code",
     "collapsed": false,
     "input": [
      "from __future__ import division\n",
      "from math import sin,cos,pi,sqrt\n",
      "\n",
      "\n",
      "\n",
      "#variable declaration          \n",
      "\n",
      "\n",
      "E_theta = 10*(10**(-6))     #Electric field strength in V/m\n",
      "theta = pi/2          #observation angle\n",
      "r = 500*(10**3)       #distance in metrs\n",
      "f = 50*(10**6)        #frequency in Hertz\n",
      "c = 3*(10**8)         #speed of light in m/sec\n",
      "R_rad = 73            #for half wave dipole Radiation resistance in ohms\n",
      "\n",
      "\n",
      "# calculation\n",
      "lamda = c/f\n",
      "L = lamda/2           #L is the length of half wave dipole\n",
      "# formula : E=((60*I_m)/r)*((cos(pi/2*cos(theta)))*sin(theta))\n",
      "I_m = (E_theta*r*sin(theta))/(60*cos(pi/2*cos(theta)))\n",
      "I_rms = I_m/sqrt(2)\n",
      "P_avg = (R_rad*(I_m**2))/2\n",
      "\n",
      "#Result\n",
      "\n",
      "print \"Length of Dipole is\" ,round(L,2),\"metres\"\n",
      "print \"Current fed to Antenna\",round(I_rms*1000,2),\"mA\"\n",
      "print \"Average Power\",round(P_avg*1000,2),\"mW\"\n",
      "\n"
     ],
     "language": "python",
     "metadata": {},
     "outputs": []
    },
    {
     "cell_type": "heading",
     "level": 2,
     "metadata": {},
     "source": [
      "Example 1.9.3,PAGE NO.-44"
     ]
    },
    {
     "cell_type": "code",
     "collapsed": false,
     "input": [
      "from __future__ import division\n",
      "from math import pi,sqrt\n",
      "\n",
      "# variable declaration\n",
      "\n",
      "l_eff = 100          #effective hieght in m\n",
      "f = 60*(10**3)       #frequency in Hertz\n",
      "r = 100*(10**3)      #Distance in m\n",
      "c = 3*(10**8)        #Speed of light in m/sec\n",
      "P_rad = 100*(10**3)  #radiated power\n",
      "\n",
      "# calculation\n",
      "\n",
      "lamda = c/f\n",
      "R_rad = 160*(pi**2)*((l_eff/lamda)**2)\n",
      "I_rms = sqrt(P_rad/R_rad)\n",
      "E_rms = (120*pi*l_eff*(I_rms**2))/(lamda*r)\n",
      "\n",
      "# Results\n",
      "\n",
      "print \"Strength of Electric field\",round(E_rms,2),\"V/m\"\n"
     ],
     "language": "python",
     "metadata": {},
     "outputs": []
    },
    {
     "cell_type": "heading",
     "level": 2,
     "metadata": {},
     "source": [
      "Example 1.9.4,PAGE NO.-45"
     ]
    },
    {
     "cell_type": "code",
     "collapsed": false,
     "input": [
      "from __future__ import division\n",
      "from math import pi\n",
      "\n",
      "# variable declaration\n",
      "\n",
      "l_eff = 113.3    #Effective length in metres\n",
      "lamda = 18.8     #Wavelength in metres\n",
      "I_rms = 725      #Base current in Ampere\n",
      "r = 175          #Distance in metre\n",
      "Eta_o = 120*pi\n",
      "\n",
      "#Calculation\n",
      "\n",
      "E = (120*pi*l_eff*I_rms)/(lamda*r)\n",
      "H = E/Eta_o\n",
      "R_rad = 160*(pi**2)*((l_eff/lamda)**2)\n",
      "P_rad = (I_rms**2)*(R_rad)\n",
      "\n",
      "#Result\n",
      "\n",
      "print \"The electric field at a distance r is \",round(E*0.001,2),\"mV/m\"\n",
      "print \"The H field is\",round(H,2),\"uA/m\"\n",
      "print \"The power radiated by Antenna is \",round(P_rad*(10**(-9)),2),\"kW\"\n",
      "\n"
     ],
     "language": "python",
     "metadata": {},
     "outputs": []
    },
    {
     "cell_type": "heading",
     "level": 2,
     "metadata": {},
     "source": [
      "Example 1.9.5,PAGE NO.-46"
     ]
    },
    {
     "cell_type": "code",
     "collapsed": false,
     "input": [
      "from __future__ import division\n",
      "from math import pi,sin\n",
      "\n",
      "# variable declaration\n",
      "\n",
      "lamda = 10*(10**(-2))           # In cm\n",
      "r = 200*(10**(-2))              # In cm\n",
      "theta = 90                      # In Degrees\n",
      "phi = 0                         # In Degrees\n",
      "IdL = 3*(10**(-4))              # current distribution in Am\n",
      "\n",
      "#Calculation\n",
      "\n",
      "E_theta = (60*pi*IdL*sin(theta))/(lamda*r)\n",
      "\n",
      "#Result\n",
      "\n",
      "print \"The magnitude of component E_theta is \",round(E_theta,2),\"V/m\"\n",
      "\n",
      "\n"
     ],
     "language": "python",
     "metadata": {},
     "outputs": []
    },
    {
     "cell_type": "heading",
     "level": 2,
     "metadata": {},
     "source": [
      "Example 1.9.6,PAGE NO.-46"
     ]
    },
    {
     "cell_type": "code",
     "collapsed": false,
     "input": [
      "from __future__ import division\n",
      "from math import pi\n",
      "\n",
      "# variable declaration\n",
      "\n",
      "dL = lamda/12\n",
      "\n",
      "\n",
      "#Calculation\n",
      "\n",
      "R_rad = 80*(pi**2)*((dL/lamda)**2)\n",
      "\n",
      "#Result\n",
      "\n",
      "print \"The Radiation resistance of dipole antenna is \",round(R_rad,2),\"ohm\"\n",
      "\n",
      "\n"
     ],
     "language": "python",
     "metadata": {},
     "outputs": []
    },
    {
     "cell_type": "heading",
     "level": 2,
     "metadata": {},
     "source": [
      "Example 1.9.7,PAGE NO.-46"
     ]
    },
    {
     "cell_type": "code",
     "collapsed": false,
     "input": [
      "from __future__ import division\n",
      "from math import pi,sqrt\n",
      "from sympy import Symbol\n",
      "# variable declaration\n",
      "\n",
      "I_m = 100         # uniform current in ampere\n",
      "Lm = Symbol('Lm') #Taking Lm as lamda\n",
      "dL = Lm/16\n",
      "\n",
      "\n",
      "#Calculation\n",
      "\n",
      "P_rad = 80*(pi**2)*((dL/Lm)**2)*((I_m/sqrt(2))**2)\n",
      "R_rad = 80*(pi**2)*((dL/Lm)**2)\n",
      "\n",
      "#Result\n",
      "\n",
      "print \"The Radiation resistance of dipole is \",round(R_rad,2),\"ohm\"\n",
      "\n",
      "\n"
     ],
     "language": "python",
     "metadata": {},
     "outputs": []
    },
    {
     "cell_type": "heading",
     "level": 2,
     "metadata": {},
     "source": [
      "Example 1.9.8,PAGE NO.-47"
     ]
    },
    {
     "cell_type": "code",
     "collapsed": false,
     "input": [
      "# variable declaration\n",
      "\n",
      "f = 30*(10**6)       #Frequency in Hz\n",
      "c = 3*(10**8)        #speed of light in m/s\n",
      "\n",
      "#Calculation\n",
      "\n",
      "lamda = c/f\n",
      "\n",
      "#Result\n",
      "\n",
      "print \"The Length of Half wave dipole is \",round((lamda/2),2),\"m\"\n",
      "\n",
      "\n"
     ],
     "language": "python",
     "metadata": {},
     "outputs": []
    },
    {
     "cell_type": "heading",
     "level": 2,
     "metadata": {},
     "source": [
      "Example 1.9.10,PAGE NO.-48"
     ]
    },
    {
     "cell_type": "code",
     "collapsed": false,
     "input": [
      "from __future__ import division\n",
      "from math import pi,sin,sqrt \n",
      "from sympy import Symbol\n",
      "# variable declaration\n",
      "\n",
      "Lm = Symbol('Lm')  # Taking lamda as Lm\n",
      "dL = 0.01*Lm       # Length of dipole \n",
      "theta = 45\n",
      "P_rad = 1          # Power radiated in kW\n",
      "phi = 90\n",
      "r = 1              # Distance in Km\n",
      "Eta_o=120*pi\n",
      "\n",
      "\n",
      "\n",
      "#Calculation\n",
      "\n",
      "R_rad = 20*(pi**2)*((dL/Lm)**2)\n",
      "I_m = sqrt(2*P_rad*R_rad)\n",
      "\n",
      "# formula  : P = (Eta_o/2)*(((Omega*I_m*dL*sin(theta))/(4*pi*r*v))**2)\n",
      "P = (Eta_o/2)*(((I_m*dL*sin(theta))/(4*pi*(r**2)))**2)\n",
      "\n",
      "#Result\n",
      "\n",
      "print \"The Power density is \",P,\"Watt/m^2\"\n",
      "\n",
      "#   Note : The Solving in the book is wrong they put 0.1 instead of 0.1*lamda \n"
     ],
     "language": "python",
     "metadata": {},
     "outputs": []
    },
    {
     "cell_type": "heading",
     "level": 2,
     "metadata": {},
     "source": [
      "Example 1.9.11,PAGE NO.-49"
     ]
    },
    {
     "cell_type": "code",
     "collapsed": false,
     "input": [
      "from __future__ import division\n",
      "from math import pi \n",
      "\n",
      "# variable declaration\n",
      "\n",
      "dL = 75          #Length of dipole in m\n",
      "f = 800          # Frequency in kHz\n",
      "I_rms = 10       #rms Current in Amp\n",
      "c = 3*(10**8)    #Speed of light in m/s \n",
      "\n",
      "#Calculation\n",
      "\n",
      "lamda = c/f\n",
      "P_rad = 80*(pi**2)*((dL/lamda)**2)*(I_rms**2)\n",
      "\n",
      "#Result\n",
      "\n",
      "print \"The Total Power radiated by Antenna is \",round(P_rad*1000,2),\"kW\"\n",
      "\n",
      "\n"
     ],
     "language": "python",
     "metadata": {},
     "outputs": []
    }
   ],
   "metadata": {}
  }
 ]
}