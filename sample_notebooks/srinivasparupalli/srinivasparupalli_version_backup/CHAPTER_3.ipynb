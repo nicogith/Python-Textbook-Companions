{
 "metadata": {
  "name": "",
  "signature": "sha256:f24ed387c9c220910a22c3b53359904a6b96b4e1c0307b247f6eff7ab0a91f27"
 },
 "nbformat": 3,
 "nbformat_minor": 0,
 "worksheets": [
  {
   "cells": [
    {
     "cell_type": "heading",
     "level": 1,
     "metadata": {},
     "source": [
      "CHAPTER 3 - Semiconductor devices switching mode operation"
     ]
    },
    {
     "cell_type": "heading",
     "level": 2,
     "metadata": {},
     "source": [
      "EXAMPLE 3.3 -PG NO.88"
     ]
    },
    {
     "cell_type": "code",
     "collapsed": false,
     "input": [
      "#page no.88\n",
      "#example 3.3#\n",
      "#clears the screen#\n",
      "#clears already existing varibales#\n",
      "a=10.#\n",
      "#input voltage (in volts)#\n",
      "b=.7#\n",
      "#transistor voltage(saturation voltage)#\n",
      "c=5.#\n",
      "#resistor b/w input voltage and the transistor#\n",
      "d=10.#\n",
      "#input voltage from collector side#\n",
      "e=0.1#\n",
      "#transistor voltage(saturation voltage from collector side)#\n",
      "f=2.#\n",
      "#resistor in kilo-ohm#\n",
      "g=30.#\n",
      "h=-10.#\n",
      "#input voltage from emitter side#\n",
      "I=(a-b)/c#\n",
      "#base current of transistor from given figure#\n",
      "print('the base current of given circuit is (in mA):')\n",
      "print(I)\n",
      "#base current is in mA#\n",
      "K=(d-e)/f\n",
      "#collector current of transistor from given figure#\n",
      "print('the collector current of given circuit is (in mA):')\n",
      "print(round(K))\n",
      "#collector current in mA(saturation current)#\n",
      "L=K/g\n",
      "print('base current required for the transistor to be in saturation is (in mA):')\n",
      "print(L)\n",
      "#current in mA#\n",
      "M=(h-b)/c\n",
      "print('the base current is (in mA):')\n",
      "print(M)\n",
      "#base current in mA#"
     ],
     "language": "python",
     "metadata": {},
     "outputs": [
      {
       "output_type": "stream",
       "stream": "stdout",
       "text": [
        "the base current of given circuit is (in mA):\n",
        "1.86\n",
        "the collector current of given circuit is (in mA):\n",
        "5.0\n",
        "base current required for the transistor to be in saturation is (in mA):\n",
        "0.165\n",
        "the base current is (in mA):\n",
        "-2.14\n"
       ]
      }
     ],
     "prompt_number": 1
    },
    {
     "cell_type": "heading",
     "level": 2,
     "metadata": {},
     "source": [
      "EXAMPLE 3.4.a- PG NO.95"
     ]
    },
    {
     "cell_type": "code",
     "collapsed": false,
     "input": [
      "#page no. 95\n",
      "#example 3.4(a)#\n",
      "#clears the screen#\n",
      "#clears already existing variables#\n",
      "print('when the input voltage V(i)= -5V, the JFET is opening at point A, where I(D)=0 and V(0)=V(DD)=20V')\n",
      "print('this corresponds to the switch in OFF state')"
     ],
     "language": "python",
     "metadata": {},
     "outputs": [
      {
       "output_type": "stream",
       "stream": "stdout",
       "text": [
        "when the input voltage V(i)= -5V, the JFET is opening at point A, where I(D)=0 and V(0)=V(DD)=20V\n",
        "this corresponds to the switch in OFF state\n"
       ]
      }
     ],
     "prompt_number": 2
    },
    {
     "cell_type": "heading",
     "level": 2,
     "metadata": {},
     "source": [
      "EXAMPLE 3.4.b- PG NO. 95"
     ]
    },
    {
     "cell_type": "code",
     "collapsed": false,
     "input": [
      "#page no. 95\n",
      "#example 3.4(b)#\n",
      "#clears the screen#\n",
      "#clears the command window#\n",
      "print('when V(i)=0V, the JFET is operating at point B, where I(D)=3.8mA and V(0)=1V')\n",
      "print('this corresponds to the switch in ON state')\n",
      "#the answers have been taken directly from the figure#"
     ],
     "language": "python",
     "metadata": {},
     "outputs": [
      {
       "output_type": "stream",
       "stream": "stdout",
       "text": [
        "when V(i)=0V, the JFET is operating at point B, where I(D)=3.8mA and V(0)=1V\n",
        "this corresponds to the switch in ON state\n"
       ]
      }
     ],
     "prompt_number": 3
    },
    {
     "cell_type": "heading",
     "level": 2,
     "metadata": {},
     "source": [
      "EXAMPLE 3.5.a - PG NO.96"
     ]
    },
    {
     "cell_type": "code",
     "collapsed": false,
     "input": [
      "#page no. 96\n",
      "#example 3.5(a)#\n",
      "#clears the window#\n",
      "#clears already existing variables#\n",
      "print('when V(i)=0, the transistor is cutoff because the voltage between the gate and the source is below the threshold voltage. Correspondingly the output voltage V(0)=5V(point (N) as in figure)')\n",
      "#answer according to the cuts of load line#"
     ],
     "language": "python",
     "metadata": {},
     "outputs": [
      {
       "output_type": "stream",
       "stream": "stdout",
       "text": [
        "when V(i)=0, the transistor is cutoff because the voltage between the gate and the source is below the threshold voltage. Correspondingly the output voltage V(0)=5V(point (N) as in figure)\n"
       ]
      }
     ],
     "prompt_number": 4
    },
    {
     "cell_type": "heading",
     "level": 2,
     "metadata": {},
     "source": [
      "EXAMPLE 3.5.b -PG NO.96"
     ]
    },
    {
     "cell_type": "code",
     "collapsed": false,
     "input": [
      "#page 96\n",
      "#example 3.5(b)#\n",
      "#clears the window#\n",
      "#clears already existing variables#\n",
      "print('when V(i)=5V, the transistor is operating at point M and V(0)=0')\n",
      "print('this corresponds to ON state!')"
     ],
     "language": "python",
     "metadata": {},
     "outputs": [
      {
       "output_type": "stream",
       "stream": "stdout",
       "text": [
        "when V(i)=5V, the transistor is operating at point M and V(0)=0\n",
        "this corresponds to ON state!\n"
       ]
      }
     ],
     "prompt_number": 5
    },
    {
     "cell_type": "heading",
     "level": 2,
     "metadata": {},
     "source": [
      "EXAMPLE 3.7.a - PG NO. 97"
     ]
    },
    {
     "cell_type": "code",
     "collapsed": false,
     "input": [
      "#page no. 97\n",
      "#example 3.7(a)#\n",
      "#clears the screen#\n",
      "#clears existing variables#\n",
      "print('when V(i)=0, the transistor T(1) is operating at point B')\n",
      "t=5.#\n",
      "#input voltage as given in question#\n",
      "x=0.#\n",
      "V=t-x#\n",
      "#output voltage in volts#\n",
      "print('here V(0)(in volts)=')\n",
      "print(V)"
     ],
     "language": "python",
     "metadata": {},
     "outputs": [
      {
       "output_type": "stream",
       "stream": "stdout",
       "text": [
        "when V(i)=0, the transistor T(1) is operating at point B\n",
        "here V(0)(in volts)=\n",
        "5.0\n"
       ]
      }
     ],
     "prompt_number": 6
    },
    {
     "cell_type": "heading",
     "level": 2,
     "metadata": {},
     "source": [
      "EXAMPLE 3.7.b - PG NO. 97"
     ]
    },
    {
     "cell_type": "code",
     "collapsed": false,
     "input": [
      "#page no.97\n",
      "#example 3.7(b)#\n",
      "#clears the screen#\n",
      "#clears already existing variables#\n",
      "print('when V(i)=5V, the transistor T(1) is operating at point C')\n",
      "V=0#\n",
      "print('output voltage in volts=')\n",
      "print(V)\n",
      "#all the outcomes are as per the diagram#"
     ],
     "language": "python",
     "metadata": {},
     "outputs": [
      {
       "output_type": "stream",
       "stream": "stdout",
       "text": [
        "when V(i)=5V, the transistor T(1) is operating at point C\n",
        "output voltage in volts=\n",
        "0\n"
       ]
      }
     ],
     "prompt_number": 8
    },
    {
     "cell_type": "code",
     "collapsed": false,
     "input": [],
     "language": "python",
     "metadata": {},
     "outputs": []
    }
   ],
   "metadata": {}
  }
 ]
}