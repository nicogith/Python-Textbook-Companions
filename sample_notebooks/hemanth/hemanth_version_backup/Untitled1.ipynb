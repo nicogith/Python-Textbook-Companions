
# coding: utf-8

# # UNIT 3 : ELECTRICAL CONDUCTIVITY IN METALS

# 
# 
# # Example number 1 , page number 208

# In[ ]:

#importing module
from __future__ import division
import math


#Variable declaration
u= 7*10**-3                # mobility of an electron
E= 100                     # applied field


#Calculations
Vd=u*E

#Result
print"the drift velocity = %.1f m/s" %Vd
print"the correct choice is B"
