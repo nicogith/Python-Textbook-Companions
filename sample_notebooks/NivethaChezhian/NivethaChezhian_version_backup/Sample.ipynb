{
 "metadata": {
  "name": "",
  "signature": "sha256:25987a4a9da0545d9c4c2518a85172c533cb91c125ae9df53acb145c94c690e6"
 },
 "nbformat": 3,
 "nbformat_minor": 0,
 "worksheets": [
  {
   "cells": [
    {
     "cell_type": "heading",
     "level": 1,
     "metadata": {},
     "source": [
      "Chapter 2:Energy levels and energy bands"
     ]
    },
    {
     "cell_type": "heading",
     "level": 2,
     "metadata": {},
     "source": [
      "Sec.2-3,Pg_no:40"
     ]
    },
    {
     "cell_type": "code",
     "collapsed": false,
     "input": [
      "#To calculate the number of photons per second\n",
      "\n",
      "#variable declaration\n",
      "E=(12400.0/2537.0)         #Energy per photon\n",
      "p=0.05/(1.60*(10**(-19)))  #power radiated\n",
      "\n",
      "#Calculation\n",
      "n=p/E                      #number of photons per second\n",
      "\n",
      "#Result\n",
      "print \"The number of photons per second is\",round(n,2),\"photons/sec\""
     ],
     "language": "python",
     "metadata": {},
     "outputs": [
      {
       "output_type": "stream",
       "stream": "stdout",
       "text": [
        "The number of photons per second is 6.39364919355e+16 photons/sec\n"
       ]
      }
     ],
     "prompt_number": 1
    },
    {
     "cell_type": "code",
     "collapsed": false,
     "input": [],
     "language": "python",
     "metadata": {},
     "outputs": []
    }
   ],
   "metadata": {}
  }
 ]
}