{
 "cells": [
  {
   "cell_type": "markdown",
   "metadata": {},
   "source": [
    "# Chapter 5 Laser"
   ]
  },
  {
   "cell_type": "markdown",
   "metadata": {},
   "source": [
    "## Example 5_1 pgno:242"
   ]
  },
  {
   "cell_type": "code",
   "execution_count": 1,
   "metadata": {
    "collapsed": false
   },
   "outputs": [
    {
     "name": "stdout",
     "output_type": "stream",
     "text": [
      "\n",
      " # PROBLEM 1 # \n",
      "\n",
      "\n",
      " Number of oscillation corresponding to coherent length is  \n",
      " Coherent time is sec. 50000.0 9.81666666667e-11\n"
     ]
    }
   ],
   "source": [
    "# Given that\n",
    "l = 2.945e-2 # coherent length of sodium light\n",
    "lamda = 5890 # wavelength of light used in angstrom\n",
    "c = 3e8 # speed of light\n",
    "# Sample Problem 1 on page no. 242\n",
    "print(\"\\n # PROBLEM 1 # \\n\")\n",
    "n = l/(lamda*1e-10) # number of oscillation corresponding to coherent length\n",
    "t = l/c # coherent time\n",
    "print\"\\n Number of oscillation corresponding to coherent length is  \\n Coherent time is sec.\",n,t\n",
    "\n",
    "\n",
    "\n"
   ]
  },
  {
   "cell_type": "markdown",
   "metadata": {},
   "source": [
    "## Example 5_2 pgno:242"
   ]
  },
  {
   "cell_type": "code",
   "execution_count": 2,
   "metadata": {
    "collapsed": false
   },
   "outputs": [
    {
     "name": "stdout",
     "output_type": "stream",
     "text": [
      "\n",
      " # PROBLEM 2 # \n",
      "\n",
      "\n",
      " Angular  spread  is  rad. \n",
      " Areal spread is m^2. 0.00016 4096000000.0\n"
     ]
    }
   ],
   "source": [
    "\n",
    "# Given that\n",
    "l = 4e5 # Distance of moon in km\n",
    "lamda = 8e-7 # wavelength of light used\n",
    "a = 5e-3 # Aperture of laser\n",
    "c = 3e8 # speed of light\n",
    "# Sample Problem 2 on page no. 242\n",
    "print\"\\n # PROBLEM 2 # \\n\"\n",
    "theta = lamda/a  # Angular of spread \n",
    "Areal_spread = (l*1000*theta)**2 # Areal spread\n",
    "print\"\\n Angular  spread  is  rad. \\n Areal spread is m^2.\",theta,Areal_spread\n",
    "\n"
   ]
  },
  {
   "cell_type": "markdown",
   "metadata": {},
   "source": [
    "## Example 5_3 pgno:242"
   ]
  },
  {
   "cell_type": "code",
   "execution_count": 3,
   "metadata": {
    "collapsed": false
   },
   "outputs": [
    {
     "name": "stdout",
     "output_type": "stream",
     "text": [
      "\n",
      " # PROBLEM 3 # \n",
      "\n",
      "\n",
      " Number of oscillation corresponding to coherent length is  \n",
      " Coherent time is sec. 50000.0 9.81666666667e-11\n"
     ]
    }
   ],
   "source": [
    "\n",
    "# Given that\n",
    "l = 2.945e-2 # coherent length of sodium light\n",
    "lamda = 5890 # wavelength of light used\n",
    "c = 3e8 # speed of light\n",
    "# Sample Problem 3 on page no. 242\n",
    "print\"\\n # PROBLEM 3 # \\n\"\n",
    "n = l/(lamda *1e-10) # number of oscillation corresponding to coherent length\n",
    "t = l/c # coherent time\n",
    "print\"\\n Number of oscillation corresponding to coherent length is  \\n Coherent time is sec.\",n,t\n"
   ]
  },
  {
   "cell_type": "markdown",
   "metadata": {},
   "source": [
    "## Example 5_4 pgno:243"
   ]
  },
  {
   "cell_type": "code",
   "execution_count": 4,
   "metadata": {
    "collapsed": false
   },
   "outputs": [
    {
     "name": "stdout",
     "output_type": "stream",
     "text": [
      "\n",
      " # PROBLEM 4 # \n",
      "\n",
      "\n",
      " Energy difference is eV. 0.365641494412\n"
     ]
    }
   ],
   "source": [
    "\n",
    "# Given that\n",
    "k = 12400 # constant\n",
    "lamda = 3.3913 # wavelength IR radiation\n",
    "\n",
    "# Sample Problem 4 on page no. 243\n",
    "print\"\\n # PROBLEM 4 # \\n\"\n",
    "E = k/(lamda*1e4) # Energy difference\n",
    "print\"\\n Energy difference is eV.\",E\n"
   ]
  },
  {
   "cell_type": "markdown",
   "metadata": {},
   "source": [
    "## Example 5_5 pgno:"
   ]
  },
  {
   "cell_type": "code",
   "execution_count": 5,
   "metadata": {
    "collapsed": false
   },
   "outputs": [
    {
     "name": "stdout",
     "output_type": "stream",
     "text": [
      "\n",
      " # PROBLEM 5 # \n",
      "\n",
      "\n",
      " Energy of one photon  is eV. \n",
      " Total energy is J 1 4.8\n"
     ]
    }
   ],
   "source": [
    "\n",
    "k = 12400 # constant\n",
    "lamda = 6943 # wavelength of radiation in angstrom\n",
    "n = 3e19 # Total number of ions\n",
    "# Sample Problem 5 on page no. 243\n",
    "print\"\\n # PROBLEM 5 # \\n\"\n",
    "E = k/(lamda) # Energy difference\n",
    "E_total = E*n*1.6e-19 # Total Energy emitted \n",
    "print\"\\n Energy of one photon  is eV. \\n Total energy is J\",E,E_total\n"
   ]
  },
  {
   "cell_type": "markdown",
   "metadata": {},
   "source": [
    "## Example 5_6 pgno:244"
   ]
  },
  {
   "cell_type": "code",
   "execution_count": 6,
   "metadata": {
    "collapsed": false
   },
   "outputs": [
    {
     "name": "stdout",
     "output_type": "stream",
     "text": [
      "\n",
      " # PROBLEM 6 # \n",
      "\n",
      "\n",
      " Required length of cavity is cm. 10.010896\n"
     ]
    }
   ],
   "source": [
    "\n",
    "# Given that\n",
    "h_w = 2e-3 # half width of gain profile of laser in nm\n",
    "mu = 1 # refractive index\n",
    "lamda = 6328 # wavelength of light used in angstrom\n",
    "# Sample Problem 6 on page no. 244\n",
    "print\"\\n # PROBLEM 6 # \\n\"\n",
    "L = (lamda*1e-10)**2/(2*mu*h_w*1e-9) # Length of cavity \n",
    "print\"\\n Required length of cavity is cm.\",L*100\n",
    "\n"
   ]
  }
 ],
 "metadata": {
  "kernelspec": {
   "display_name": "Python 2",
   "language": "python",
   "name": "python2"
  },
  "language_info": {
   "codemirror_mode": {
    "name": "ipython",
    "version": 2
   },
   "file_extension": ".py",
   "mimetype": "text/x-python",
   "name": "python",
   "nbconvert_exporter": "python",
   "pygments_lexer": "ipython2",
   "version": "2.7.9"
  }
 },
 "nbformat": 4,
 "nbformat_minor": 0
}
