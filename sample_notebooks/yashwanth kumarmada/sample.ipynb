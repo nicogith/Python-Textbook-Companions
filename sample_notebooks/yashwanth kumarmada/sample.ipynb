{
 "cells": [
  {
   "cell_type": "code",
   "execution_count": 3,
   "metadata": {
    "collapsed": true
   },
   "outputs": [],
   "source": [
    "#CHAPTER 2"
   ]
  },
  {
   "cell_type": "code",
   "execution_count": 4,
   "metadata": {
    "collapsed": false
   },
   "outputs": [
    {
     "name": "stdout",
     "output_type": "stream",
     "text": [
      "the weight is 128.8\n"
     ]
    }
   ],
   "source": [
    "##Example2_1\n",
    "# Aim:To Find Weight of Body\n",
    "# Given:\n",
    "# Mass of the Body:\n",
    "m=4; #slugs\n",
    "\n",
    "# Solutions:\n",
    "# we know acceleration due to gravity,\n",
    "g=32.2; #ft/s**2\n",
    "W=(m*g);\n",
    "\n",
    "# Results:\n",
    "print  \"the weight is\",W\n"
   ]
  },
  {
   "cell_type": "code",
   "execution_count": 2,
   "metadata": {
    "collapsed": false
   },
   "outputs": [
    {
     "name": "stdout",
     "output_type": "stream",
     "text": [
      " Results:  \n",
      " The specific weight of Body is lb/ft**3. 71.7\n"
     ]
    }
   ],
   "source": [
    "##Example2_2\n",
    "# Aim:To find the specific weight of a body\n",
    "# Given:\n",
    "# Weigth of the Body:\n",
    "W=129; #lb\n",
    "# Volume of the Body:\n",
    "V=1.8; #ft**3\n",
    "\n",
    "# Solution:\n",
    "# we know specific weight,\n",
    "# gamma=(Weigth of the Body/Volume of the Body)\n",
    "gamma1=(W/V); #lb/ft^3\n",
    "# rounding off the above answer\n",
    "gamma1=round(gamma1)+(round((gamma1-round(gamma1))*10)/10); #lb/ft^3\n",
    "   \n",
    "# Results:\n",
    "print \" Results:  \"\n",
    "print \" The specific weight of Body is lb/ft**3.\",gamma1\n"
   ]
  },
  {
   "cell_type": "code",
   "execution_count": 5,
   "metadata": {
    "collapsed": false
   },
   "outputs": [
    {
     "name": "stdout",
     "output_type": "stream",
     "text": [
      "Results:  \n",
      "The specific gravity of air  0.00120512820513\n"
     ]
    }
   ],
   "source": [
    "##Example2_3\n",
    "# Aim:To find the specific gravity of air at 68 degF\n",
    "# Given:\n",
    "# specific weight of air at 68 degF:\n",
    "gamma_air=0.0752; #lb/ft**3\n",
    "\n",
    "\n",
    "# Solution:\n",
    "# we know,\n",
    "# specific gravity of air=(specific weight of air/specific weight of water)\n",
    "# also we know,specific weight of water at 68 degF,\n",
    "gamma_water=62.4; #lb/ft**3\n",
    "SG_air=gamma_air/gamma_water;\n",
    "\n",
    "# Results:\n",
    "print  \"Results:  \"\n",
    "print  \"The specific gravity of air \",SG_air \n",
    "\n"
   ]
  },
  {
   "cell_type": "code",
   "execution_count": 9,
   "metadata": {
    "collapsed": false
   },
   "outputs": [
    {
     "name": "stdout",
     "output_type": "stream",
     "text": [
      "Results:  \n",
      "The Density of Body is  slugs/ft**3. 2.22222222222\n",
      "The Density of Body is  slugs/ft**3. 2.22360248447\n"
     ]
    }
   ],
   "source": [
    "##Example2_4\n",
    "# Aim:To find Density of body of Example 2-1 and 2-2\n",
    "# Given:\n",
    "# mass of the Body:\n",
    "m=4; #slugs\n",
    "# Volume of the Body:\n",
    "V=1.8; #ft**3\n",
    "\n",
    "# Solution:\n",
    "# we know density,\n",
    "# rho1=(mass of the Body/Volume of the Body)\n",
    "rho1=(m/V); #slugs/ft**3\n",
    "# also density,rho2=(specific weight/acceleration due to gravity)\n",
    "g=32.2; #ft/s**2\n",
    "gamma1=71.6; #lb/ft**3\n",
    "rho2=(gamma1/g); #slugs/ft**3\n",
    "\n",
    "# Results:\n",
    "print \"Results:  \"\n",
    "print \"The Density of Body is  slugs/ft**3.\",rho1\n",
    "print \"The Density of Body is  slugs/ft**3.\",rho2\n"
   ]
  },
  {
   "cell_type": "code",
   "execution_count": 10,
   "metadata": {
    "collapsed": false
   },
   "outputs": [
    {
     "name": "stdout",
     "output_type": "stream",
     "text": [
      "  Results:  \n",
      " The pressure on skin diver is % psi. 25.992\n"
     ]
    }
   ],
   "source": [
    "##Example2_5\n",
    "# Aim:To find pressure on the skin diver\n",
    "# Given:\n",
    "# Depth of Water Body:\n",
    "H=60; #ft\n",
    "\n",
    "# Solution:\n",
    "# specific Weight of water,\n",
    "gamma1=0.0361; #lb/in**3 \n",
    "# Conversion: \n",
    "# 1 feet = 12 inches\n",
    "# 1 lb/in**2 = 1 psi            \n",
    "# we know pressure,\n",
    "# p=(specific weight of liquid * liquid column height)\n",
    "p=(gamma1*H*12); #psi\n",
    "\n",
    "# Results:\n",
    "print \"  Results:  \"\n",
    "print \" The pressure on skin diver is % psi.\",p\n",
    "\n",
    "\n"
   ]
  },
  {
   "cell_type": "code",
   "execution_count": 12,
   "metadata": {
    "collapsed": false
   },
   "outputs": [
    {
     "name": "stdout",
     "output_type": "stream",
     "text": [
      " Results:  \n",
      " The Height of water column is  ft. 33.7977839335\n"
     ]
    }
   ],
   "source": [
    "##Example2_6\n",
    "# Aim:To find tube height of a Barometer\n",
    "# Given:\n",
    "# liquid used is Water instead of Mercury.\n",
    "\n",
    "# Solution:\n",
    "# specific Weight of water,\n",
    "gamma1=0.0361; #lb/in**3 \n",
    "# We also knows Atmospheric Pressure,\n",
    "p=14.7; #psi\n",
    "# Conversion: \n",
    "# 1 feet = 12 inches\n",
    "# 1 lb/in**2 = 1 psi            \n",
    "# we know pressure,\n",
    "# p=(specific weight of liquid * liquid column height)\n",
    "# Therefore,\n",
    "H=(p/gamma1); #in\n",
    "# He=Height in Feet.\n",
    "He=H*0.083; #ft\n",
    "\n",
    "# Results:\n",
    "print \" Results:  \"\n",
    "print \" The Height of water column is  ft.\",He\n"
   ]
  },
  {
   "cell_type": "code",
   "execution_count": 13,
   "metadata": {
    "collapsed": false
   },
   "outputs": [
    {
     "name": "stdout",
     "output_type": "stream",
     "text": [
      "  Results:  \n",
      " The Absolute Pressure is  psi. 9.7\n"
     ]
    }
   ],
   "source": [
    "##Example2_7\n",
    "# Aim:To convert given pressure into absolute pressure\n",
    "# Given:\n",
    "# Gage Pressure:\n",
    "Pg=-5; #psi\n",
    "\n",
    "# Solution:\n",
    "# Atmospheric Pressure,\n",
    "Po=14.7; #psi           \n",
    "# Absolute Pressure(Pa) =Gage Pressure + Atmospheric Pressure\n",
    "Pa=Pg+Po;\n",
    "\n",
    "# Results:\n",
    "print \"  Results:  \"\n",
    "print \" The Absolute Pressure is  psi.\",Pa\n"
   ]
  },
  {
   "cell_type": "code",
   "execution_count": 14,
   "metadata": {
    "collapsed": false
   },
   "outputs": [
    {
     "name": "stdout",
     "output_type": "stream",
     "text": [
      "  Results:  \n",
      "The Absolute Pressure is  psi. 40.7\n"
     ]
    }
   ],
   "source": [
    "##Example2_8\n",
    "# Aim:To find absolute pressure on skin diver of Example 2-5\n",
    "# Given:\n",
    "# Gage Pressure:\n",
    "Pg=26; #psi\n",
    "\n",
    "# Solution:\n",
    "# Atmospheric Pressure,\n",
    "Po=14.7; #psi           \n",
    "# Absolute Pressure(Pa) =Gage Pressure + Atmospheric Pressure\n",
    "Pa=Pg+Po; #psi\n",
    "\n",
    "# Results:\n",
    "print \"  Results:  \"\n",
    "print \"The Absolute Pressure is  psi.\",Pa\n"
   ]
  },
  {
   "cell_type": "code",
   "execution_count": 15,
   "metadata": {
    "collapsed": false
   },
   "outputs": [
    {
     "name": "stdout",
     "output_type": "stream",
     "text": [
      "  Results:  \n",
      "The specific weights is  N/m**3. 8792\n",
      " The answer in the program is different than that in textbook. It may be due to no.s of significant digit in data and calculation\n"
     ]
    }
   ],
   "source": [
    "##Example2_9\n",
    "# Aim:To Determine specific weights in N/m**3\n",
    "# Given:\n",
    "# specific weight:\n",
    "gamma1=56; #lb/ft**3\n",
    "\n",
    "\n",
    "# Solution:\n",
    "# We know,\n",
    "# 1 N/m**3 = 157 lb/ft**3\n",
    "gamma2=157*gamma1; #N/m**3\n",
    "\n",
    "# Results:\n",
    "print \"  Results:  \"\n",
    "print \"The specific weights is  N/m**3.\",gamma2\n",
    "print \" The answer in the program is different than that in textbook. It may be due to no.s of significant digit in data and calculation\"\n",
    "\n"
   ]
  },
  {
   "cell_type": "code",
   "execution_count": 16,
   "metadata": {
    "collapsed": false
   },
   "outputs": [
    {
     "name": "stdout",
     "output_type": "stream",
     "text": [
      " Results:  \n",
      " The temp at which Fahrenheit and Celsius values are equal is  deg. -40.0\n"
     ]
    }
   ],
   "source": [
    "##Example2_10\n",
    "# Aim:To find Temperature at which Fahrenheit and Celsius values are equal \n",
    "# Given:\n",
    "# T(degF) = T(degC)  #Eqn - 1\n",
    "\n",
    "# Solution:\n",
    "# We know that,\n",
    "# T(degF)=((1.8*T(degC))+32)  #Eqn - 2         \n",
    "# From Eqn 1 and 2\n",
    "# ((1.8*T(degC))+32)= T(degC)\n",
    "# (1-1.8)*T(degC)=32\n",
    "# -0.8*T(degC)=32\n",
    "TdegC=-32/0.8;\n",
    "\n",
    "# Results:\n",
    "print \" Results:  \"\n",
    "print \" The temp at which Fahrenheit and Celsius values are equal is  deg.\",TdegC\n"
   ]
  },
  {
   "cell_type": "code",
   "execution_count": null,
   "metadata": {
    "collapsed": true
   },
   "outputs": [],
   "source": []
  }
 ],
 "metadata": {
  "kernelspec": {
   "display_name": "Python 2",
   "language": "python",
   "name": "python2"
  },
  "language_info": {
   "codemirror_mode": {
    "name": "ipython",
    "version": 2
   },
   "file_extension": ".py",
   "mimetype": "text/x-python",
   "name": "python",
   "nbconvert_exporter": "python",
   "pygments_lexer": "ipython2",
   "version": "2.7.9"
  }
 },
 "nbformat": 4,
 "nbformat_minor": 0
}
