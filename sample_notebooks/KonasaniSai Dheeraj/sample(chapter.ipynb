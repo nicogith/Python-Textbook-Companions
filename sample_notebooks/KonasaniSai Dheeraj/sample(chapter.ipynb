{
 "cells": [
  {
   "cell_type": "markdown",
   "metadata": {},
   "source": [
    "# Chapter 1 Survey of Units and Dimensions"
   ]
  },
  {
   "cell_type": "markdown",
   "metadata": {},
   "source": [
    "## Example 1_1 pgno:10"
   ]
  },
  {
   "cell_type": "code",
   "execution_count": 1,
   "metadata": {
    "collapsed": false
   },
   "outputs": [
    {
     "name": "stdout",
     "output_type": "stream",
     "text": [
      "Force to accelerate =  lbf 3.10810936815\n"
     ]
    }
   ],
   "source": [
    "#Initialization of variables\n",
    "gc=32.1739 #lbm ft/lbf s**2\n",
    "m=10 #lbm\n",
    "a=10 #ft/s**2\n",
    "#calculations\n",
    "F=m*a/gc\n",
    "#results\n",
    "print\"Force to accelerate =  lbf\",F\n"
   ]
  },
  {
   "cell_type": "markdown",
   "metadata": {},
   "source": [
    "## Example 1_2  pgno:11"
   ]
  },
  {
   "cell_type": "code",
   "execution_count": 2,
   "metadata": {
    "collapsed": false
   },
   "outputs": [
    {
     "name": "stdout",
     "output_type": "stream",
     "text": [
      "Force to accelerate =  lbf 10.0\n"
     ]
    }
   ],
   "source": [
    "#Initialization of variables\n",
    "gc=32.1739 #lbm ft/lbf s^2\n",
    "m=10 #lbm\n",
    "a=gc #ft/s^2\n",
    "#calculations\n",
    "F=m*a/gc\n",
    "#results\n",
    "print\"Force to accelerate =  lbf\",F\n"
   ]
  },
  {
   "cell_type": "markdown",
   "metadata": {},
   "source": [
    "## Example 1_3 pgno:11"
   ]
  },
  {
   "cell_type": "code",
   "execution_count": 3,
   "metadata": {
    "collapsed": false
   },
   "outputs": [
    {
     "name": "stdout",
     "output_type": "stream",
     "text": [
      "velocity =  mph 60.0\n"
     ]
    }
   ],
   "source": [
    "#Initialization of variables\n",
    "v=88 #ft/s\n",
    "#calculations\n",
    "v2=v*3600./5280.\n",
    "#results\n",
    "print\"velocity =  mph\",v2\n"
   ]
  },
  {
   "cell_type": "markdown",
   "metadata": {},
   "source": [
    "## Example 1_4 pgno:12"
   ]
  },
  {
   "cell_type": "code",
   "execution_count": 4,
   "metadata": {
    "collapsed": false
   },
   "outputs": [
    {
     "name": "stdout",
     "output_type": "stream",
     "text": [
      "velocity =  mph 60.0\n"
     ]
    }
   ],
   "source": [
    "#Initialization of variables\n",
    "v=88 #ft/s\n",
    "#calculations\n",
    "v2=v*1./5280*3600\n",
    "#results\n",
    "print\"velocity =  mph\",v2\n"
   ]
  },
  {
   "cell_type": "markdown",
   "metadata": {},
   "source": [
    "## Example 1_5 pgno:13"
   ]
  },
  {
   "cell_type": "code",
   "execution_count": 5,
   "metadata": {
    "collapsed": false
   },
   "outputs": [
    {
     "name": "stdout",
     "output_type": "stream",
     "text": [
      "Force without dimensions = lbm/ft sec 0.0005791302\n"
     ]
    }
   ],
   "source": [
    "#Initialization of variables\n",
    "F=5e-9 #lbf/ft^2 hr\n",
    "g=32.1739\n",
    "#calculations\n",
    "F2=F*3600*g\n",
    "#results\n",
    "print\"Force without dimensions = lbm/ft sec\",F2\n"
   ]
  },
  {
   "cell_type": "markdown",
   "metadata": {},
   "source": [
    "## Example 1_6 pgno:14"
   ]
  },
  {
   "cell_type": "code",
   "execution_count": 6,
   "metadata": {
    "collapsed": false
   },
   "outputs": [
    {
     "name": "stdout",
     "output_type": "stream",
     "text": [
      "Density of water in this system =  lbf/ft^2 1.93650754183\n",
      "\n",
      " Specific weight =  lbf/ft^2 62.305\n"
     ]
    }
   ],
   "source": [
    "#Initialization of variables\n",
    "rho=62.305 #lbf/ft^2\n",
    "g=32.1739 #ft/s^2\n",
    "#calculations\n",
    "gam=rho/g\n",
    "#results\n",
    "print\"Density of water in this system =  lbf/ft^2\",gam\n",
    "print\"\\n Specific weight =  lbf/ft^2\",rho\n"
   ]
  },
  {
   "cell_type": "code",
   "execution_count": null,
   "metadata": {
    "collapsed": true
   },
   "outputs": [],
   "source": []
  }
 ],
 "metadata": {
  "kernelspec": {
   "display_name": "Python 2",
   "language": "python",
   "name": "python2"
  },
  "language_info": {
   "codemirror_mode": {
    "name": "ipython",
    "version": 2
   },
   "file_extension": ".py",
   "mimetype": "text/x-python",
   "name": "python",
   "nbconvert_exporter": "python",
   "pygments_lexer": "ipython2",
   "version": "2.7.9"
  }
 },
 "nbformat": 4,
 "nbformat_minor": 0
}
