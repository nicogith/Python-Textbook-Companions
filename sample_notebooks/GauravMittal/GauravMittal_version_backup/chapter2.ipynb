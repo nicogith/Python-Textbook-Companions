{
 "metadata": {
  "name": "",
  "signature": ""
 },
 "nbformat": 3,
 "nbformat_minor": 0,
 "worksheets": [
  {
   "cells": [
    {
     "cell_type": "heading",
     "level": 1,
     "metadata": {},
     "source": [
      "Ch-2 : DC Machines"
     ]
    },
    {
     "cell_type": "heading",
     "level": 2,
     "metadata": {},
     "source": [
      "Exam:2.1 page 112"
     ]
    },
    {
     "cell_type": "code",
     "collapsed": false,
     "input": [
      "from __future__ import division\n",
      "#Calculate the increase of main field flux in percentage\n",
      "N_1=750 #speed of dc machine(in rpm)\n",
      "E_1=220 #induced emf in dc machine when running at N_1\n",
      "N_2=700 #speed of dc machine second time (in rpm)\n",
      "E_2=250 #induced emf in dc machine when running at N_2\n",
      "F=E_2*N_1/(E_1*N_2) \n",
      "Inc=(F-1) \n",
      "print 'increase in main field flux of the dc machine =',round((Inc*100),2)"
     ],
     "language": "python",
     "metadata": {},
     "outputs": [
      {
       "output_type": "stream",
       "stream": "stdout",
       "text": [
        "increase in main field flux of the dc machine = 21.75\n"
       ]
      }
     ],
     "prompt_number": 16
    },
    {
     "cell_type": "heading",
     "level": 2,
     "metadata": {},
     "source": [
      "Exam:2.2 page 114"
     ]
    },
    {
     "cell_type": "code",
     "collapsed": false,
     "input": [
      "#a)find the emf generated in a 6 pole machine  b)find speed at which machine generated 550 V emf\n",
      "F_1=0.06 #Flux per pole(in Wb)\n",
      "N_1=250 #speed of the rotor(in rpm)\n",
      "A=2 #number of parllel (paths armature wave wound)\n",
      "P=6 #poles in machine\n",
      "Z=664 #total conductor in machine\n",
      "E_g=P*F_1*N_1*Z/(60*A) #emf generated\n",
      "print \"emf generated in machine =\",E_g,\"Volts\"\n",
      "E_2=550 #new emf generating machine(in V)\n",
      "F_2=0.058 #flux per pole (in Wb) for generating E_2\n",
      "N_2=60*E_2*A/(P*F_2*Z) #new speed at which machine generating E_2(in rpm)\n",
      "print \"new speed of the rotor =\",round(N_2,2),\"rpm\""
     ],
     "language": "python",
     "metadata": {},
     "outputs": [
      {
       "output_type": "stream",
       "stream": "stdout",
       "text": [
        "emf generated in machine = 498.0 Volts\n",
        "new speed of the rotor = 285.63 rpm\n"
       ]
      }
     ],
     "prompt_number": 17
    },
    {
     "cell_type": "heading",
     "level": 2,
     "metadata": {},
     "source": [
      "Exam:2.3 page 116"
     ]
    },
    {
     "cell_type": "code",
     "collapsed": false,
     "input": [
      "#determine the value of torque in Nw-m\n",
      "F=24 #flux per pole (in m Wb)\n",
      "F_1=F*10**-3 #flux per pole (in Wb)\n",
      "Z=760 #number of conductors in armature\n",
      "P=4 #number of pole\n",
      "A=2 #number of parallel paths\n",
      "I_a=50 #armature cuurrent(in Amp)\n",
      "T_a=0.159*F_1*Z*P*I_a/A #torque develope(in Nw-m)\n",
      "print \"torque developed in machine =\",round(T_a,2),\"Nw-m\""
     ],
     "language": "python",
     "metadata": {},
     "outputs": [
      {
       "output_type": "stream",
       "stream": "stdout",
       "text": [
        "torque developed in machine = 290.02 Nw-m\n"
       ]
      }
     ],
     "prompt_number": 18
    },
    {
     "cell_type": "heading",
     "level": 2,
     "metadata": {},
     "source": [
      "Exam:2.4 page 119"
     ]
    },
    {
     "cell_type": "code",
     "collapsed": false,
     "input": [
      "#calculate the total torque in Nw-m\n",
      "P=6 #poles \n",
      "A=P #number of parallel paths\n",
      "S=60 #slots in motor\n",
      "C_s=12 #conductor per slot\n",
      "Z=S*C_s #total conductor in machine\n",
      "I_a=50 #armature current(in Amp)\n",
      "F_1=20#flux per pole(in m Wb)\n",
      "F_2=F_1*10**-3 #flux per pole)(in Wb)\n",
      "T=0.15924*F_2*Z*P*I_a/A #total torque (in Nw-m)\n",
      "print 'total torque by motor =',T,'Nw-m' "
     ],
     "language": "python",
     "metadata": {},
     "outputs": [
      {
       "output_type": "stream",
       "stream": "stdout",
       "text": [
        "total torque by motor = 114.6528 Nw-m\n"
       ]
      }
     ],
     "prompt_number": 19
    },
    {
     "cell_type": "heading",
     "level": 2,
     "metadata": {},
     "source": [
      "Exam 2.5 page 132"
     ]
    },
    {
     "cell_type": "code",
     "collapsed": false,
     "input": [
      "from math import ceil\n",
      "#Calculate the drop in speed when motor takes 51 Amp\n",
      "V=220 #supply voltage(in V)\n",
      "R_sh=220 #shunt field resistance(in Ohm)\n",
      "R_a=0.2 #armature resistance(in Ohm)\n",
      "I_sh=V/R_sh #shunt field current(in Amp)\n",
      "N_1=1200 #starting speed of the motor(in rpm)\n",
      "I_1=5.4 #at N_1 speed current in motor(in Amp)\n",
      "I_a1=I_1-I_sh #armature current at speed N_1(in Amp)\n",
      "E_b1=V-I_a1*R_a #emf induced due to I_a1(in V)\n",
      "I_2=51 #new current which motor taking(in Amp)\n",
      "I_a2=I_2-I_sh #armature current at I_2(in Amp)\n",
      "E_b2=V-I_a2*R_a #emf induced due to I_a2(in V)\n",
      "N_2=E_b2*N_1/E_b1 #speed of the motor when taking I_2 current(in rpm)\n",
      "N_r=ceil(N_1-N_2) #reduction in speed(in rpm)\n",
      "print 'reduction in speed =',N_r,'rpm'"
     ],
     "language": "python",
     "metadata": {},
     "outputs": [
      {
       "output_type": "stream",
       "stream": "stdout",
       "text": [
        "reduction in speed = 50.0 rpm\n"
       ]
      }
     ],
     "prompt_number": 20
    },
    {
     "cell_type": "heading",
     "level": 2,
     "metadata": {},
     "source": [
      "Exam:2.6 page 135"
     ]
    },
    {
     "cell_type": "code",
     "collapsed": false,
     "input": [
      "#In a dc machine Calculate (a)induced emf  (b)Electro magnetic torque (c)armature copper loss \n",
      "V=220 #voltage at the armature of dc motor\n",
      "I_a=15 #current through armature(in Amp)\n",
      "R_a=1 #armature resistance(in Ohm)\n",
      "w=100 #speed of the machine(in radian/sec)\n",
      "E=V-I_a*R_a #induced emf(in V)\n",
      "print 'induced emf =',E,'V' \n",
      "T=E*I_a/w #electro magnentic torque developed(in Nw-m)\n",
      "print 'electro magnentic torque developed =',T,'Nw-m'\n",
      "L=(I_a**2)*R_a #Armature copper loss(in Watt)\n",
      "print 'Armature copper loss =',L,'Watt'"
     ],
     "language": "python",
     "metadata": {},
     "outputs": [
      {
       "output_type": "stream",
       "stream": "stdout",
       "text": [
        "induced emf = 205 V\n",
        "electro magnentic torque developed = 30.75 Nw-m\n",
        "Armature copper loss = 225 Watt\n"
       ]
      }
     ],
     "prompt_number": 21
    },
    {
     "cell_type": "heading",
     "level": 2,
     "metadata": {},
     "source": [
      "Exam:2.7 page 135"
     ]
    },
    {
     "cell_type": "code",
     "collapsed": false,
     "input": [
      "#Calculate the electro magnetic torque\n",
      "E=250 #emf induced in dc machine(in V)\n",
      "I_a=20 #current flowing through the armature(in Amp)\n",
      "N=1500 #speed(in rpm)\n",
      "T_e=0.1591*E*I_a*60/N #torque developed in machine(in Nw-m)\n",
      "print 'electro magnetic torque developed in dc machine =',T_e,'Nw-m'"
     ],
     "language": "python",
     "metadata": {},
     "outputs": [
      {
       "output_type": "stream",
       "stream": "stdout",
       "text": [
        "electro magnetic torque developed in dc machine = 31.82 Nw-m\n"
       ]
      }
     ],
     "prompt_number": 22
    },
    {
     "cell_type": "heading",
     "level": 2,
     "metadata": {},
     "source": [
      "Exam:2.8 page 136"
     ]
    },
    {
     "cell_type": "code",
     "collapsed": false,
     "input": [
      "#calculate the gross torque in dc machine\n",
      "P=4 #number of poles \n",
      "Z=1600 #number of armature conductor\n",
      "F=0.027 #flux per pole(in Wb)\n",
      "A=2 #number of parallel paths (wave wound)\n",
      "I=75 #current in machine(in Amp)\n",
      "N=1000 #speed of the motor(in rpm)\n",
      "T=0.1591*P*F*Z*I/A #torque generate in machine(in Nw-m)\n",
      "print 'Torque generated in machine =',T,'Nw-m'"
     ],
     "language": "python",
     "metadata": {},
     "outputs": [
      {
       "output_type": "stream",
       "stream": "stdout",
       "text": [
        "Torque generated in machine = 1030.968 Nw-m\n"
       ]
      }
     ],
     "prompt_number": 23
    },
    {
     "cell_type": "heading",
     "level": 2,
     "metadata": {},
     "source": [
      "Exam:2.9 page 140"
     ]
    },
    {
     "cell_type": "code",
     "collapsed": false,
     "input": [
      "#Calculate the value of back emf\n",
      "V=230 #applied voltage (in V)\n",
      "R_a=0.1 #armature resistance(in Ohm)\n",
      "I_a=60 #armature current (in Amp)\n",
      "E_b=V-I_a*R_a #back emf(in Volts)\n",
      "print 'back emf produced by machine =',E_b,'V'"
     ],
     "language": "python",
     "metadata": {},
     "outputs": [
      {
       "output_type": "stream",
       "stream": "stdout",
       "text": [
        "back emf produced by machine = 224.0 V\n"
       ]
      }
     ],
     "prompt_number": 24
    }
   ],
   "metadata": {}
  }
 ]
}
