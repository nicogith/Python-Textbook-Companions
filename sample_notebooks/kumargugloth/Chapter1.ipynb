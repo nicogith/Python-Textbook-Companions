{
 "metadata": {
  "name": "",
  "signature": "sha256:281275d36b0e16d144d1212530d5ebac420ea6bfd258dbfe43c04ce417d0dbbc"
 },
 "nbformat": 3,
 "nbformat_minor": 0,
 "worksheets": [
  {
   "cells": [
    {
     "cell_type": "heading",
     "level": 1,
     "metadata": {},
     "source": [
      "Chapter1-Atomic Weight "
     ]
    },
    {
     "cell_type": "heading",
     "level": 2,
     "metadata": {},
     "source": [
      "Ex1-pg12"
     ]
    },
    {
     "cell_type": "code",
     "collapsed": false,
     "input": [
      "import math\n",
      "##Intitalisation of variables\n",
      "#calculate the Molecular weight of carbon dioxide\n",
      "dco= 1.9635 ##gms/lit\n",
      "do= 1.4277 ##gms/lit\n",
      "mo= 32. ##gms\n",
      "##CALCULATIONS\n",
      "mwt= dco*mo/do\n",
      "##RESULTS\n",
      "print'%s %.2f %s'% ('Molecular weight of carbon dioxide =  ',mwt,'')\n"
     ],
     "language": "python",
     "metadata": {},
     "outputs": [
      {
       "output_type": "stream",
       "stream": "stdout",
       "text": [
        "Molecular weight of carbon dioxide =   44.01 \n"
       ]
      }
     ],
     "prompt_number": 4
    },
    {
     "cell_type": "heading",
     "level": 2,
     "metadata": {},
     "source": [
      "Ex2-pg13"
     ]
    },
    {
     "cell_type": "code",
     "collapsed": false,
     "input": [
      "import math\n",
      "##Intitalisation of variables\n",
      "#calculate the atomic weight of lead\n",
      "shl= 0.031 ##cal deg^-1 g^-1\n",
      "ewlc= 103.605 ##gms\n",
      "n= 2.\n",
      "##CALCULATIONS\n",
      "aw= n*ewlc\n",
      "##RESULTS\n",
      "print'%s %.2f %s'% ('Atomic weight of lead = ',aw,' gms')\n"
     ],
     "language": "python",
     "metadata": {},
     "outputs": [
      {
       "output_type": "stream",
       "stream": "stdout",
       "text": [
        "Atomic weight of lead =  207.21  gms\n"
       ]
      }
     ],
     "prompt_number": 3
    },
    {
     "cell_type": "heading",
     "level": 2,
     "metadata": {},
     "source": [
      "Ex3-pg13"
     ]
    },
    {
     "cell_type": "code",
     "collapsed": false,
     "input": [
      "import math\n",
      "##Intitalisation of variables\n",
      "\n",
      "ewt= 17.337 ##gms\n",
      "n=3.\n",
      "##CALCULATIONS\n",
      "aw= ewt*n\n",
      "##RESULTS\n",
      "print'%s %.2f %s'% ('Atomic weight of chromium = ',aw,' gms')\n"
     ],
     "language": "python",
     "metadata": {},
     "outputs": [
      {
       "output_type": "stream",
       "stream": "stdout",
       "text": [
        "Atomic weight of chromium =  52.01  gms\n"
       ]
      }
     ],
     "prompt_number": 2
    }
   ],
   "metadata": {}
  }
 ]
}