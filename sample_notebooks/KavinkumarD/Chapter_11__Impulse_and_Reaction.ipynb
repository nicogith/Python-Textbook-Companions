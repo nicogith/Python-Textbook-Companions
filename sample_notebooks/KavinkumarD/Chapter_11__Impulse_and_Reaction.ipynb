{
 "metadata": {
  "name": "",
  "signature": "sha256:38f9fe4fd8a5c174c9e1dd9b5dc21976f4cdd814f7eb8fcfe0c266e278f9a77b"
 },
 "nbformat": 3,
 "nbformat_minor": 0,
 "worksheets": [
  {
   "cells": [
    {
     "cell_type": "heading",
     "level": 1,
     "metadata": {},
     "source": [
      "Chapter 11 : Impulse and Reaction Turbines"
     ]
    },
    {
     "cell_type": "heading",
     "level": 2,
     "metadata": {},
     "source": [
      "Example 11.1 and Page No:454"
     ]
    },
    {
     "cell_type": "code",
     "collapsed": false,
     "input": [
      "import math\n",
      "from __future__ import division\n",
      "\n",
      "#Variable declaration\n",
      "p02=6; # Inlet pressure in bar\n",
      "T02=900; # Inlet temperature in kelvin\n",
      "p0fs=1; # Outlet pressure in bar\n",
      "eff_isenT=0.85; # insentropic efficiency of turbine\n",
      "alpha_2=math.radians(75); # Nozzle outlet angle in degree and conversion to radians\n",
      "u=250; # Mean blade velocity in m/s\n",
      "Cp=1.15*10**3; # Specific heat in J/ kg K\n",
      "r=1.333; # Specific heat ratio\n",
      "\n",
      "#Calculations\n",
      "T0fs=T02/(p02/p0fs)**((r-1)/r); # Isentropic temperature at the exit of the final stage\n",
      "Del_Toverall=eff_isenT*(T02-T0fs); # Actual overall temperature drop\n",
      "c2=2*u/math.sin (alpha_2); # absolute velocity\n",
      "c3= c2*math.cos (alpha_2);# absolute velocity\n",
      "c1=c3; # From velocity triangles\n",
      "Del_Tstage=(c2**2-c1**2)/(2*Cp); # Stage temperature drop\n",
      "n=Del_Toverall/Del_Tstage; # Number of stages\n",
      "\n",
      "#Results\n",
      "print \"Number of stages n =\",round (n,0);\n",
      "\n"
     ],
     "language": "python",
     "metadata": {},
     "outputs": [
      {
       "output_type": "stream",
       "stream": "stdout",
       "text": [
        "Number of stages n = 3.0\n"
       ]
      }
     ],
     "prompt_number": 1
    },
    {
     "cell_type": "heading",
     "level": 2,
     "metadata": {},
     "source": [
      "Example 11.2 and Page No:455"
     ]
    },
    {
     "cell_type": "code",
     "collapsed": false,
     "input": [
      "import math\n",
      "from __future__ import division\n",
      "\n",
      "#Variable declaration\n",
      "N=10000; # Speed of gas turbine in rpm\n",
      "T01=700+273.15; # Total head temperature at nozzle entry in kelvin\n",
      "P01=4.5; #Total head pressure at nozzle entry in bar\n",
      "P02=2.6; # Outlet pressure from nozzle in bar\n",
      "p3=1.5;# Pressure at trbine outlet annulus in bar\n",
      "M=0.5; # Mach number at outlet\n",
      "alpha_2=math.radians(70); # outlet nozzle angle in degrees and conversion to radians\n",
      "D=64; # Blade mean diameter in cm\n",
      "m=22.5; # Mass flow rate in kg/s\n",
      "eff_T=0.99; # turbine mechanical efficiency\n",
      "Cp=1.147; # Specific heat in kJ/kg K\n",
      "r=1.33; # Specific heat ratio\n",
      "fl=0.03; # frictional loss\n",
      "R=284.6; # characteristic gas constant in J/kg K\n",
      "\n",
      "#Calculations\n",
      "eff_N=1-fl; # Nozzle efficiency\n",
      "T_02=(P02/P01)**((r-1)/r)*T01; # Isentropic temperature after expansion\n",
      "T02=T01-eff_N*(T01-T_02); # Actual temperature after expansion\n",
      "c2=math.sqrt (2*Cp*10**3*(T01-T02)); # Absolute velocity\n",
      "u=(3.14*D*10**-2*N)/60; # Mean blade velocity\n",
      "# From velocity triangles\n",
      "wt2=c2*math.sin( (alpha_2))-u;\n",
      "ca=c2*math.cos( (alpha_2));\n",
      "beta_2=(math.atan((wt2)/ca));\n",
      "T3=T02/(P02/p3)**((r-1)/r); # Assuming rotor losses are negligible\n",
      "c3=M*math.sqrt (r*R*T3); # Absolute velocity\n",
      "beta_3=(math.atan(u/c3));\n",
      "ct2=c2*math.sin((alpha_2));\n",
      "P=eff_T*m*(ct2)*u/1000; # Power developed\n",
      "\n",
      "#Results\n",
      "print \"(i).\"\n",
      "print \"\\tGas angle at entry = \",round (math.degrees(beta_2),3),\"degree\"\n",
      "print \"\\tGas angle at exit = \",round (math.degrees(beta_3),3),\"degree\"\n",
      "print \"(ii).\"\n",
      "print \"\\tPower developed = \",round(P,3),\"kW   (roundoff error)\"\n"
     ],
     "language": "python",
     "metadata": {},
     "outputs": [
      {
       "output_type": "stream",
       "stream": "stdout",
       "text": [
        "(i).\n",
        "\tGas angle at entry =  41.411 degree\n",
        "\tGas angle at exit =  51.609 degree\n",
        "(ii).\n",
        "\tPower developed =  3680.184 kW   (roundoff error)\n"
       ]
      }
     ],
     "prompt_number": 2
    },
    {
     "cell_type": "heading",
     "level": 2,
     "metadata": {},
     "source": [
      "Example 11.3 and Page No:457"
     ]
    },
    {
     "cell_type": "code",
     "collapsed": false,
     "input": [
      "import math\n",
      "from __future__ import division\n",
      "\n",
      "#Variable declaration\n",
      "alpha_2=math.radians(65); # Nozzle discharge angle in degree and conversion to radians\n",
      "c3=300; # Absolute velocity in m/s\n",
      "alpha_3=math.radians(30); # in degrees and conversion to radians\n",
      "\n",
      "#Calculations\n",
      "ca2=c3*math.cos (alpha_3); # Axial velocity\n",
      "c2=ca2/math.cos(alpha_2); #  Absolute velocity\n",
      "# ca3=ca2=ca and equal blade angles then\n",
      "ca=ca2;\n",
      "beta_2=math.atan((c2*math.sin(alpha_2)+c3*math.sin(alpha_3))/(2*ca)); # Blade angle\n",
      "beta_3=beta_2; # equal blade angles\n",
      "u=c2*math.sin(alpha_2)-ca2*math.tan(beta_2); # Mean blade velocity\n",
      "# From velocity triangles\n",
      "ct2=c2*math.sin(alpha_2);\n",
      "ct3=c3*math.sin(alpha_3);\n",
      "WT=u*(ct2+ct3)/1000; # Work done\n",
      "sigma=u/c2; # optimum speed ratio\n",
      "eff_B=4*(sigma*math.sin(alpha_2)-sigma**2);\n",
      "\n",
      "#Results\n",
      "print \"Blade angle = beta_2= beta_3 = \",round (math.degrees(beta_2),3),\"degree\"\n",
      "print \"Power Produced = \",round(WT,3),\"kJ/kg   (roundoff error)\"\n",
      "print \"Blade efficiency = \",round(eff_B*100,2),\"%\""
     ],
     "language": "python",
     "metadata": {},
     "outputs": [
      {
       "output_type": "stream",
       "stream": "stdout",
       "text": [
        "Blade angle = beta_2= beta_3 =  53.692 degree\n",
        "Power Produced =  143.963 kJ/kg   (roundoff error)\n",
        "Blade efficiency =  76.19 %\n"
       ]
      }
     ],
     "prompt_number": 3
    },
    {
     "cell_type": "heading",
     "level": 2,
     "metadata": {},
     "source": [
      "Example 11.4 and Page No:458"
     ]
    },
    {
     "cell_type": "code",
     "collapsed": false,
     "input": [
      "import math\n",
      "from __future__ import division\n",
      "\n",
      "#Variable declaration\n",
      "P01=7; # Pressure at inlet in bar\n",
      "T01=300+273.15; # Temperature at inlet in kelvin\n",
      "P02=3; # Pressure at outlet in bar\n",
      "alpha_2=math.radians(70); # Nozzle angle in degree and conversion to radians\n",
      "eff_N=0.9; # Isentropic efficiency of nozzle\n",
      "WT=75; # Power Produced in kW\n",
      "Cp=1.15; # Specific heat in kJ/kg K\n",
      "r=1.33; # Specific heat ratio\n",
      "\n",
      "#Calculations\n",
      "T_02=T01*(P02/P01)**((r-1)/r); # Isentropic temperature after expansion\n",
      "T02=T01-eff_N*(T01-T_02); # Actual temperature after expansion\n",
      "c2=math.sqrt (2*Cp*10**3*(T01-T02)); # Absolute velocity\n",
      "# For optimum blade speed ratio\n",
      "u=(c2*math.sin (alpha_2)/2); # Mean blade velocity\n",
      "beta_2=math.atan((c2*math.sin(alpha_2)-u)/(c2*math.cos(alpha_2))); # Blade angle\n",
      "# From velocity triangles\n",
      "ct2=c2*math.sin(alpha_2);\n",
      "w2=c2*math.cos(alpha_2)/math.cos(beta_2);\n",
      "w3=w2; # Equal inlet and outlet angles\n",
      "beta_3=54; # in degrees\n",
      "ct3=w3*math.sin(beta_3)-u;\n",
      "m=(WT*10**3)/(u*(ct2+ct3)); # Gas mass flow rate\n",
      "\n",
      "#Results\n",
      "print \"Blade angle = \",round(math.degrees(beta_2),3),\"degree\"\n",
      "print \"Gas Mass Flow Rate = \",round(m,3),\"kg/s\""
     ],
     "language": "python",
     "metadata": {},
     "outputs": [
      {
       "output_type": "stream",
       "stream": "stdout",
       "text": [
        "Blade angle =  53.948 degree\n",
        "Gas Mass Flow Rate =  4.89 kg/s\n"
       ]
      }
     ],
     "prompt_number": 4
    },
    {
     "cell_type": "heading",
     "level": 2,
     "metadata": {},
     "source": [
      "Example 11.5 and Page No:460"
     ]
    },
    {
     "cell_type": "code",
     "collapsed": false,
     "input": [
      "import math\n",
      "from __future__ import division\n",
      "\n",
      "#Variable declaration\n",
      "P01=4.6; # Total head inlet pressure in bar\n",
      "T01=700+273.15; # Total head inlet temperature in kelvin\n",
      "P2=1.6; # Static head pressure at mean radius in bar\n",
      "Dm_h=10; # Mean blade diameter/blade height\n",
      "lc=0.1; # Nozzle losses coefficient\n",
      "alpha_2=math.radians(60); # Nozzle outlet angle in degree and conversion to radians\n",
      "Cp=1.147; # Specific heat in kJ/kg K\n",
      "r=1.33; # Specific heat ratio\n",
      "m=20; # Mass flow rate in kg/s\n",
      "R=284.6; # characteristic gas constant in J/kg K\n",
      "\n",
      "#Calculations\n",
      "T_2=T01*(P2/P01)**((r-1)/r); # Isentropic temperature after expansion\n",
      "T2=(lc*T01+T_2)/(1+lc); # Actual temperature after expansion\n",
      "c2=math.sqrt(2*Cp*10**3*(T01-T2)); # Absolute velocity\n",
      "# From velocity triangles\n",
      "ca=c2*math.cos(alpha_2);\n",
      "row=P2*10**5/(R*T2); # Density of gas\n",
      "A=m/(ca*row); # Area\n",
      "Dm=math.sqrt (A*Dm_h/3.14); # Mean Diameter\n",
      "h=Dm/10; # Blade height\n",
      "rm=Dm/2; # Mean radius\n",
      "# At root\n",
      "r_root=(Dm-h)/2;\n",
      "#At the tip\n",
      "r_tip=(Dm+h)/2;\n",
      "# Free vorte flow\n",
      "ct_mean=c2*math.sin (alpha_2);\n",
      "# At the root\n",
      "ct2_root=(ct_mean*rm)/r_root;\n",
      "alpha2_root=math.atan(ct2_root/ca);\n",
      "c2_root=ct2_root/math.sin (alpha2_root);\n",
      "T2_root=T01-c2_root**2/(2*Cp*10**3);\n",
      "# At the tip\n",
      "ct2_tip=ct_mean*rm/r_tip;\n",
      "alpha2_tip = math.atan (ct2_tip/ca);\n",
      "c2_tip=ct2_tip/math.sin(alpha2_tip);\n",
      "T2_tip=T01-c2_tip**2/(2*Cp*10**3);\n",
      "\n",
      "#Results\n",
      "print \"A the Root\"\n",
      "print \"\\tGas Temperature at the root = \",round(T2_root,3),\"K\"\n",
      "print \"\\tGas velocity at the root = \",round(c2_root,3),\"m/s\"\n",
      "print \"\\tDischarge angle at the root = \",round(math.degrees(alpha2_root),3),\"degree\"\n",
      "print \"\\nA the Tip\"\n",
      "print \"\\tGas Temperature at the tip = \",round(T2_tip,3),\"K\"\n",
      "print \"\\tGas velocity at the tip = \",round(c2_tip,3),\"m/s\"\n",
      "print \"\\tDischarge angle at the tip = \",round(math.degrees(alpha2_tip),3),\"degree\"\n",
      "\n"
     ],
     "language": "python",
     "metadata": {},
     "outputs": [
      {
       "output_type": "stream",
       "stream": "stdout",
       "text": [
        "A the Root\n",
        "\tGas Temperature at the root =  733.345 K\n",
        "\tGas velocity at the root =  741.696 m/s\n",
        "\tDischarge angle at the root =  62.543 degree\n",
        "\n",
        "A the Tip\n",
        "\tGas Temperature at the tip =  795.766 K\n",
        "\tGas velocity at the tip =  637.902 m/s\n",
        "\tDischarge angle at the tip =  57.581 degree\n"
       ]
      }
     ],
     "prompt_number": 5
    }
   ],
   "metadata": {}
  }
 ]
}