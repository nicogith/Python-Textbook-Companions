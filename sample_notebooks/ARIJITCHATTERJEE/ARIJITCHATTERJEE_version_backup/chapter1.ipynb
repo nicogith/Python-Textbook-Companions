{
 "cells": [
  {
   "cell_type": "markdown",
   "metadata": {},
   "source": [
    "# Chapter 1: Operational Amplifier Fundamentals"
   ]
  },
  {
   "cell_type": "markdown",
   "metadata": {},
   "source": [
    "## Example 1.1, Page 4"
   ]
  },
  {
   "cell_type": "code",
   "execution_count": 1,
   "metadata": {
    "collapsed": true
   },
   "outputs": [],
   "source": [
    "%matplotlib inline"
   ]
  },
  {
   "cell_type": "code",
   "execution_count": 2,
   "metadata": {
    "collapsed": false
   },
   "outputs": [
    {
     "name": "stdout",
     "output_type": "stream",
     "text": [
      "a)\n",
      "The overall gain is  60.0 V/V\n",
      "The input load is  80.0 % of it's unloaded value\n",
      "The output load is  75.0 % of it's unloaded value\n",
      "b)\n",
      "The overall gain is  53.3 V/V\n",
      "The input load is  66.7 % of it's unloaded value\n",
      "The output load is  80.0 % of it's unloaded value\n"
     ]
    }
   ],
   "source": [
    "import math\n",
    "\n",
    "#Variable declaration\n",
    "R0 = 1.0       #ohm\n",
    "Ri = 100.0     #kilo ohm\n",
    "Aoc = 100.0    #volts per volts\n",
    "Rs=0.0             #kilo ohm\n",
    "Rl=0.0             #ohm\n",
    "gain=0.0\n",
    "input_load=0.0\n",
    "output_load=0.0\n",
    "\n",
    "def calculate():                       #returns gain\n",
    "    global input_load, output_load\n",
    "    input_load = (Ri/(Rs+Ri))\n",
    "    output_load = (Rl/(R0+Rl))\n",
    "    ans=input_load*Aoc*output_load     # in V/V\n",
    "    return ans\n",
    "#answer part (a)\n",
    "Rs=25.0\n",
    "Rl=3.0\n",
    "gain=calculate()\n",
    "print \"a)\"\n",
    "print \"The overall gain is \",round(gain,1),\"V/V\"\n",
    "print \"The input load is \",input_load*100,\"% of it's unloaded value\"\n",
    "print \"The output load is \",output_load*100,\"% of it's unloaded value\"\n",
    "\n",
    "#answer part (b)\n",
    "Rs=50.0\n",
    "Rl=4.0\n",
    "gain=calculate()\n",
    "print \"b)\"\n",
    "print \"The overall gain is \",round(gain,1),\"V/V\"\n",
    "print \"The input load is \",round(input_load*100,1),\"% of it's unloaded value\"\n",
    "print \"The output load is \",round(output_load*100,1),\"% of it's unloaded value\"\n",
    "             \n"
   ]
  },
  {
   "cell_type": "markdown",
   "metadata": {},
   "source": [
    "## Example 1.2, Page 9"
   ]
  },
  {
   "cell_type": "code",
   "execution_count": 3,
   "metadata": {
    "collapsed": false
   },
   "outputs": [
    {
     "name": "stdout",
     "output_type": "stream",
     "text": [
      "a)Vo =  9.17431 V\n",
      "b)Vo =  9.99101 V\n",
      "c)Vo =  9.99991 V\n"
     ]
    }
   ],
   "source": [
    "import math\n",
    "\n",
    "#Variable declaration\n",
    "\n",
    "vt = 1.0     # in volt\n",
    "R1 = 2.0     # in kilo ohm\n",
    "R2 = 18.0    #in kilo ohm\n",
    "\n",
    "#Calculation\n",
    "\n",
    "def calculate(a):               #returns Vo\n",
    "    global vt,R1,R2\n",
    "    ans=vt*(1+(R2/R1))/(1+((R2/R1)/a))         #equation 1.11\n",
    "    return ans\n",
    "\n",
    "#answer\n",
    "print \"a)Vo = \",round(calculate(10**2),5),\"V\"\n",
    "print \"b)Vo = \",round(calculate(10**4),5),\"V\"\n",
    "print \"c)Vo = \",round(calculate(10**6),5),\"V\"\n",
    "\n",
    "#textbook contains precision error"
   ]
  },
  {
   "cell_type": "markdown",
   "metadata": {},
   "source": [
    "## Example 1.4, Page 18"
   ]
  },
  {
   "cell_type": "code",
   "execution_count": 4,
   "metadata": {
    "collapsed": false
   },
   "outputs": [
    {
     "name": "stdout",
     "output_type": "stream",
     "text": [
      "R1 =  20 kilo ohm\n",
      "R2 =  15 kilo ohm\n",
      "R3 =  30 kilo ohm\n",
      "Rf =  120 kilo ohm\n"
     ]
    }
   ],
   "source": [
    "#Variable declaration\n",
    "\n",
    "rf1 = 3     # coefficient of V1\n",
    "rf2 = 4     # coefficient of V2\n",
    "rf3 = 2     # coefficient of V3\n",
    "\n",
    "#Calculations\n",
    "\n",
    "rf1*=2      # Common factor 2\n",
    "rf2*=2      # Common factor 2\n",
    "rf3*=2      # Common factor 2\n",
    "r1=20       # assumption\n",
    "rf=r1*rf1\n",
    "r2=rf/rf2\n",
    "r3=rf/rf3\n",
    "\n",
    "#answer\n",
    "\n",
    "print \"R1 = \",r1,\"kilo ohm\"\n",
    "print \"R2 = \",r2,\"kilo ohm\"\n",
    "print \"R3 = \",r3,\"kilo ohm\"\n",
    "print \"Rf = \",rf,\"kilo ohm\""
   ]
  },
  {
   "cell_type": "markdown",
   "metadata": {},
   "source": [
    "## Example 1.5, Page 18"
   ]
  },
  {
   "cell_type": "code",
   "execution_count": 5,
   "metadata": {
    "collapsed": false
   },
   "outputs": [
    {
     "name": "stdout",
     "output_type": "stream",
     "text": [
      "R1 =  10 kilo ohm\n",
      "R2 =  300 kilo ohm\n",
      "Rf =  100 kilo ohm\n"
     ]
    }
   ],
   "source": [
    "#Variable declaration\n",
    "\n",
    "r1,r2,rf          #vo=10*v1+5=-(rf/r1*v1)-rf/r2*(-15)\n",
    "\n",
    "#Calculation\n",
    "\n",
    "r1=10\n",
    "rf=10*r1;       #-rf/r1*v1=10*v1\n",
    "r2=rf*15/5      #-rf/r2*(-15)=5\n",
    "\n",
    "#answer\n",
    "\n",
    "print \"R1 = \",r1,\"kilo ohm\"\n",
    "print \"R2 = \",r2,\"kilo ohm\"\n",
    "print \"Rf = \",rf,\"kilo ohm\""
   ]
  },
  {
   "cell_type": "markdown",
   "metadata": {},
   "source": [
    "## Example 1.6, Page 20"
   ]
  },
  {
   "cell_type": "code",
   "execution_count": 6,
   "metadata": {
    "collapsed": false
   },
   "outputs": [
    {
     "name": "stdout",
     "output_type": "stream",
     "text": [
      "R1 =  100 kilo ohm\n",
      "R2 =  300 kilo ohm\n",
      "R3 =  25 kilo ohm\n",
      "R4 =  75 kilo ohm\n"
     ]
    }
   ],
   "source": [
    "#Variable declaration\n",
    "\n",
    "ri1=100       # in kilo ohm\n",
    "ri2=100      # in kilo ohm\n",
    "\n",
    "#Calculation\n",
    "\n",
    "r1=ri1;\n",
    "r2=3*r1;    #r2/r1=3\n",
    "# r3 + r4 = ri2 and (1+r1/r2)/(1+r3/r4)=1\n",
    "#Solving the above two\n",
    "r3=ri2/4;\n",
    "r4=ri2-r3\n",
    "\n",
    "#answer\n",
    "\n",
    "print \"R1 = \",r1,\"kilo ohm\"\n",
    "print \"R2 = \",r2,\"kilo ohm\"\n",
    "print \"R3 = \",r3,\"kilo ohm\"\n",
    "print \"R4 = \",r4,\"kilo ohm\"\n",
    "\n",
    "#in textbook r3 and r4 values are reversed which doesn't satisfy the equations"
   ]
  },
  {
   "cell_type": "markdown",
   "metadata": {},
   "source": [
    "## Example 1.7, Page 25"
   ]
  },
  {
   "cell_type": "code",
   "execution_count": 7,
   "metadata": {
    "collapsed": false
   },
   "outputs": [
    {
     "name": "stdout",
     "output_type": "stream",
     "text": [
      "a)T >=  1000\n",
      "b)a >=  100000\n",
      "a)Beta =  0.00999\n"
     ]
    }
   ],
   "source": [
    "#Variable Declaration\n",
    "\n",
    "A=100 \n",
    "accuracy=0.1\n",
    "\n",
    "#Calcualtion\n",
    "\n",
    "T=100/accuracy\n",
    "beta=1.0/100.0   # A_ideal=i/beta=100\n",
    "a=(10**3)/beta\n",
    "beta=(a/100-1)/a    # A=a/(1+(a*beta))\n",
    "\n",
    "#answer\n",
    "print \"a)T >= \",int(T)\n",
    "print \"b)a >= \",int(a)\n",
    "print \"a)Beta = \",beta"
   ]
  },
  {
   "cell_type": "markdown",
   "metadata": {},
   "source": [
    "## Example 1.8, Page 26"
   ]
  },
  {
   "cell_type": "code",
   "execution_count": 8,
   "metadata": {
    "collapsed": false
   },
   "outputs": [
    {
     "name": "stdout",
     "output_type": "stream",
     "text": [
      "a) A changes by (+-) 0.09901 %\n",
      "b) A changes by (+-) 0.0001 %\n"
     ]
    }
   ],
   "source": [
    "import math\n",
    "\n",
    "#Variable Declaration\n",
    "\n",
    "a = 10**5       \n",
    "beta\n",
    "T\n",
    "\n",
    "#Calculation\n",
    "\n",
    "def calculate():\n",
    "    global a,beta,T\n",
    "    T=a*beta\n",
    "    ans=10.0/(1+T)    # for a +- 10% change in a\n",
    "    return ans\n",
    "\n",
    "#answer\n",
    "beta=10**(-3)                                                    #given\n",
    "desensitivity_factor=calculate();                                # stores the answer\n",
    "print \"a) A changes by (+-)\",round(desensitivity_factor,6),\"%\"   #part a\n",
    "\n",
    "beta=1                                                           #given\n",
    "desensitivity_factor=calculate();\n",
    "print \"b) A changes by (+-)\",round(desensitivity_factor,6),\"%\"   #part b"
   ]
  },
  {
   "cell_type": "markdown",
   "metadata": {},
   "source": [
    "## Example 1.9, Page 33"
   ]
  },
  {
   "cell_type": "code",
   "execution_count": 9,
   "metadata": {
    "collapsed": false
   },
   "outputs": [
    {
     "name": "stdout",
     "output_type": "stream",
     "text": [
      "a)\n",
      "  A =  995.024876 V/V\n",
      "  Ro =  373.134 mili ohm\n",
      "  Ri =  402.0 Mega ohm\n",
      "b)\n",
      "  A =  0.999995 V/V\n",
      "  Ro =  0.375 mili ohm\n",
      "  Ri =  400002.0 Mega ohm\n"
     ]
    }
   ],
   "source": [
    "import math\n",
    "\n",
    "#Variable Declaration\n",
    "\n",
    "rd = 2.0    # Mega ohm\n",
    "ro = 75.0   # ohm\n",
    "a = 200000.0   # V/V\n",
    "\n",
    "#Calculation\n",
    "\n",
    "def calculate(R1,R2):\n",
    "    global a,ro,rd\n",
    "    beta=R1/(R1+R2)\n",
    "    if(R1==float(\"inf\")):      # for infinty\n",
    "        beta=1\n",
    "    T=a*beta\n",
    "    A=(1+(R2/R1))/(1+(1/T))    # equation 1.55\n",
    "    if(R1==float(\"inf\")):      # for infinity\n",
    "        A=1/(1+(1/T))\n",
    "    Ro=ro/(1+T)                # equation 1.61\n",
    "    Ri=rd*(1+T)                # equation 1.59\n",
    "    print \"  A = \",round(A,6),\"V/V\"\n",
    "    print \"  Ro = \",round(Ro*(10**3),3),\"mili ohm\"\n",
    "    print \"  Ri = \", round(Ri,3),\"Mega ohm\"\n",
    "\n",
    "#answer\n",
    "\n",
    "print \"a)\"\n",
    "calculate(1.0,999)\n",
    "print \"b)\"\n",
    "calculate(float(\"inf\"),1)"
   ]
  },
  {
   "cell_type": "markdown",
   "metadata": {},
   "source": [
    "## Example 1.10, Page 35"
   ]
  },
  {
   "cell_type": "code",
   "execution_count": 10,
   "metadata": {
    "collapsed": false
   },
   "outputs": [
    {
     "name": "stdout",
     "output_type": "stream",
     "text": [
      "a)\n",
      " A =  -0.99999 V/V\n",
      " Rn =  0.5 ohm\n",
      " Ri =  100000.0 ohm\n",
      " Ro =  0.00075 ohm\n",
      "b)\n",
      " A =  -995.01993 V/V\n",
      " Rn =  4.99998 ohm\n",
      " Ri =  1000.0 ohm\n",
      " Ro =  0.37351 ohm\n"
     ]
    }
   ],
   "source": [
    "import math\n",
    "\n",
    "#Variable Declaration\n",
    "\n",
    "a = 200000.0    # V/V\n",
    "ro = 75         # ohm\n",
    "\n",
    "#Calculating function\n",
    "\n",
    "def calculate(R1,R2):\n",
    "    global a,ro\n",
    "    T=a*(R1/(R1+R2)) \n",
    "    A=(-1)*(R2/R1)/(1+(1/T))   # equation 1.63\n",
    "    Rn=R2/(1+a)               # equation 1.67b\n",
    "    Ri=R1                     # equation 1.68\n",
    "    Ro=ro/(1+T)\n",
    "    print \" A = \",round(A,5),\"V/V\"\n",
    "    print \" Rn = \",round(Rn,5),\"ohm\"\n",
    "    print \" Ri = \",round(Ri,5),\"ohm\"\n",
    "    print \" Ro = \",round(Ro,5),\"ohm\"\n",
    "                    \n",
    "#answer\n",
    "\n",
    "print \"a)\"\n",
    "calculate(100000.0,100000.0)\n",
    "print \"b)\"\n",
    "calculate(1000.0,1000000.0)"
   ]
  },
  {
   "cell_type": "markdown",
   "metadata": {},
   "source": [
    "## Example 1.11, Page 38"
   ]
  },
  {
   "cell_type": "code",
   "execution_count": 11,
   "metadata": {
    "collapsed": false
   },
   "outputs": [
    {
     "name": "stdout",
     "output_type": "stream",
     "text": [
      "317.440162529\n",
      "a) A_ideal = -101.1 V/V\n",
      "b) A = -100.78 V/V\n",
      "Deviation from ideal = 0.31 %\n"
     ]
    }
   ],
   "source": [
    "import math\n",
    "\n",
    "#Variable Declaration\n",
    "\n",
    "R1 = 1000000.0     # ohm\n",
    "R2 = 1000000.0     # ohm\n",
    "R3 = 100000.0      # ohm\n",
    "R4 = 1000.0        # ohm\n",
    "RL = 2000.0        # ohm\n",
    "rd = 1000000.0     #ohm\n",
    "a = 10**5        # V/V\n",
    "ro = 100.0         # ohm\n",
    "\n",
    "#Calculation\n",
    "\n",
    "A_ideal = (-1)*(R2/R1)*(1+(R3/R2)+(R3/R4))       # ideal op-amp and summing  currents at node  v1\n",
    "T = a/(1+(R2/R1)+(R2/rd))/(1+(ro/(R2+(R1*rd/(R1+rd))))+(ro/RL))/100  #equation 1.73\n",
    "A = A_ideal/(1+(1/T))                   \n",
    "dev=(A_ideal-A)/A_ideal*100\n",
    "\n",
    "#answer\n",
    "print T\n",
    "print \"a) A_ideal =\",A_ideal,\"V/V\"\n",
    "print \"b) A =\",round(A,2),\"V/V\"\n",
    "print \"Deviation from ideal =\",round(dev,2),\"%\"\n",
    "\n",
    "#book example has precision error so answer is 0.32%"
   ]
  },
  {
   "cell_type": "markdown",
   "metadata": {},
   "source": [
    "## Example 1.12, Page 40"
   ]
  },
  {
   "cell_type": "code",
   "execution_count": 12,
   "metadata": {
    "collapsed": false
   },
   "outputs": [
    {
     "name": "stdout",
     "output_type": "stream",
     "text": [
      "a)\n",
      "  Beta = 0.016911 V/V\n",
      "  T = 169.1\n",
      "b)\n",
      "  Vo= -( 29.82 V1 + 14.91 V2 + 9.94 V3 )\n"
     ]
    }
   ],
   "source": [
    "import math\n",
    "\n",
    "#Variable Declaration\n",
    "\n",
    "rd = 1000.0          # kilo ohm\n",
    "a = 10**4            # V/V\n",
    "ro = 100.0           #ohm\n",
    "R1 = 10.0            # kilo ohm\n",
    "R2 = 20.0            # kilo ohm\n",
    "R3 = 30.0            # kilo ohm\n",
    "R4 = 300.0           # kilo ohm\n",
    "RL = 2.0             # kilo ohm\n",
    "\n",
    "#Calculation\n",
    "\n",
    "def parallel(a,b):\n",
    "    ans=a*b/(a+b)\n",
    "    return ans\n",
    "\n",
    "Ra = parallel(R1,parallel(R2,parallel(R3,rd)))\n",
    "Rb=Ra+R4\n",
    "Rc=parallel(Rb,RL)                      #After suppressing all input sources\n",
    "Rd=Rc+ro/1000                           #replacing the op-amp with it's terminal resistances\n",
    "Vn=Rb/Ra                                #and applying a test voltage and analysing the circuit\n",
    "Vt=Rd/Rc\n",
    "beta=1/Vn/Vt\n",
    "T=a*beta\n",
    "v1=R4/R1\n",
    "v2=R4/R2\n",
    "v3=R4/R3\n",
    "A=1/(1+1/T)\n",
    "\n",
    "#answer\n",
    "\n",
    "print \"a)\"\n",
    "print \"  Beta =\",round(beta,6),\"V/V\"\n",
    "print \"  T =\",round(T,1)\n",
    "print \"b)\"\n",
    "print \"  Vo= -(\",round(A*v1,2),\"V1 +\",round(A*v2,2),\"V2 +\",round(A*v3,2),\"V3 )\""
   ]
  },
  {
   "cell_type": "markdown",
   "metadata": {},
   "source": [
    "## Example 1.13, Page 41"
   ]
  },
  {
   "cell_type": "code",
   "execution_count": 13,
   "metadata": {
    "collapsed": false
   },
   "outputs": [
    {
     "name": "stdout",
     "output_type": "stream",
     "text": [
      "Beta = 0.8101 V/V\n"
     ]
    }
   ],
   "source": [
    "import math\n",
    "\n",
    "#Variable Declaration\n",
    "\n",
    "rd = 100.0        # kilo ohm\n",
    "ro = 100.0        # ohm\n",
    "R1 = 30.0         # kilo ohm\n",
    "R2 = 20.0         # kilo ohm\n",
    "R3 = 10.0         # kilo ohm\n",
    "\n",
    "#Calculation\n",
    "\n",
    "def parallel(a,b):\n",
    "    ans=a*b/(a+b)\n",
    "    return ans\n",
    "\n",
    "beta_n = (parallel(R1,rd)+R1)/((ro/1000)+R2+parallel(R1,rd)+R3)    # from circuit 1.35 after appyling\n",
    "beta_p = R3/((ro/1000)+R2+parallel(R1,rd)+R3)                      # voltage divide formula twice\n",
    "beta=beta_n-beta_p                  #equation 1.76\n",
    "\n",
    "#answer\n",
    "\n",
    "print \"Beta =\",round(beta,4),\"V/V\"\n",
    "\n",
    "# beta_n calculation in book is wrong"
   ]
  },
  {
   "cell_type": "markdown",
   "metadata": {},
   "source": [
    "## Example 1.14, Page 43"
   ]
  },
  {
   "cell_type": "code",
   "execution_count": 14,
   "metadata": {
    "collapsed": false
   },
   "outputs": [
    {
     "name": "stdout",
     "output_type": "stream",
     "text": [
      "a)\n",
      "  Icc = 0.5 mA\n",
      "  Iee = 3.5 mA\n",
      "  I0 = 3 mA\n",
      "b)\n",
      "  Power Poa = 42.0 mW\n"
     ]
    }
   ],
   "source": [
    "import math\n",
    "\n",
    "#Variable Declaration \n",
    "\n",
    "R1 = 10     #kilo ohm\n",
    "R2 = 20     #kilo ohm\n",
    "V1 = 3      # V\n",
    "Iq = 0.5    # mA\n",
    "RL = 2      #kilo ohm\n",
    "\n",
    "#Calculation\n",
    "\n",
    "V0 = (-1)*R2/R1*V1\n",
    "It = abs(V0)/RL                     # Currents through R1,R2,Rt are i1,i2,It respectively\n",
    "i1 = It/R1\n",
    "i2 = i1                             # applying voltage divider rule\n",
    "i0 = i2+It\n",
    "icc = Iq\n",
    "iee = icc+ i0\n",
    "Poa = 30*Iq+((V0+15)*i0)            #Whenever current passes through voltage drop, power = vi\n",
    "\n",
    "#answer\n",
    "\n",
    "print \"a)\"\n",
    "print \"  Icc =\",icc,\"mA\"\n",
    "print \"  Iee =\",iee,\"mA\"\n",
    "print \"  I0 =\",i0,\"mA\"\n",
    "print \"b)\"\n",
    "print \"  Power Poa =\",Poa,\"mW\""
   ]
  },
  {
   "cell_type": "markdown",
   "metadata": {},
   "source": [
    "## Example 1.15, Page 43"
   ]
  },
  {
   "cell_type": "code",
   "execution_count": 15,
   "metadata": {
    "collapsed": false
   },
   "outputs": [
    {
     "name": "stdout",
     "output_type": "stream",
     "text": [
      "b)\n",
      "  Change in v = 3.75 micro Volt -> quite a small change\n"
     ]
    }
   ],
   "source": [
    "#Variable Declaration\n",
    "\n",
    "ro = 75.0      #kilo ohm\n",
    "T = 200000.0\n",
    "Vs = 10.0      # V\n",
    "Rl = 1.0       #kilo ohm\n",
    "\n",
    "#Calculation\n",
    "\n",
    "iL = Vs/Rl\n",
    "Ro = ro/(1+T)\n",
    "del_v = Ro*10*(10**(-3))\n",
    "\n",
    "#answer\n",
    "\n",
    "print \"b)\"\n",
    "print \"  Change in v =\",round(del_v*(10**6),2),\"micro Volt -> quite a small change\""
   ]
  },
  {
   "cell_type": "markdown",
   "metadata": {},
   "source": [
    "## Example 1.16, Page 46"
   ]
  },
  {
   "cell_type": "code",
   "execution_count": 16,
   "metadata": {
    "collapsed": false
   },
   "outputs": [
    {
     "name": "stdout",
     "output_type": "stream",
     "text": [
      "The op-amp saturates at Vo=+-13 V\n",
      "With Vn= 20/3-13/3 = 2.3333 V\n"
     ]
    },
    {
     "data": {
      "text/plain": [
       "[<matplotlib.lines.Line2D at 0xa087c88>]"
      ]
     },
     "execution_count": 16,
     "metadata": {},
     "output_type": "execute_result"
    },
    {
     "data": {
      "image/png": "[encoded data removed]",
      "text/plain": [
       "<matplotlib.figure.Figure at 0x9e977f0>"
      ]
     },
     "metadata": {},
     "output_type": "display_data"
    }
   ],
   "source": [
    "import matplotlib.pyplot as plt\n",
    "import scipy as np\n",
    "import math\n",
    "\n",
    "#Variable Declaration\n",
    "\n",
    "A = -2               #V/V\n",
    "peak = 10           # V\n",
    "\n",
    "#Calculation \n",
    "\n",
    "output = np.absolute(A) * peak\n",
    "\n",
    "#answer\n",
    "\n",
    "print \"The op-amp saturates at Vo=+-13 V\"\n",
    "print \"With Vn= 20/3-13/3 =\",round((20.0/3)-(13.0/3),4),\"V\"\n",
    "\n",
    "#Graphs\n",
    "\n",
    "t1 = np.arange(0,1,.0005)               #  Triangular waveform\n",
    "t2 = np.arange(1,3,.0005)\n",
    "t3 = np.arange(3,5,.0005)\n",
    "\n",
    "m1 = np.arange(0,0.65,.0005)\n",
    "m2 = np.arange(.65,1.35,.0005)\n",
    "m3 = np.arange(1.35,2.65,.0005)            # Output Vo wave\n",
    "m4 = np.arange(2.65,3.35,.0005)\n",
    "m5 = np.arange(3.35,4.65,.0005)\n",
    "m6 = np.arange(4.65,5,.0005)                # Output Vn wave\n",
    "m7 = np.arange(0.65,1,.0005)\n",
    "m8 = np.arange(1,1.35,.0005)\n",
    "m9 = np.arange(2.65,3,.0005)\n",
    "m10 = np.arange(3, 3.35, .0005)\n",
    "\n",
    "plt.subplot(2,1,1)\n",
    "\n",
    "plt.suptitle(\"Vt (Blue), Vo (Red) and Vn (Green) Graphs\")\n",
    "plt.xlim(0,4.5)\n",
    "plt.xlabel(\"time->\")\n",
    "plt.ylabel(\"V->\")\n",
    "plt.plot(t1,peak*t1,\"b\",)\n",
    "plt.plot(t2,(-1)*peak*t2+2*(peak),\"b\",)\n",
    "plt.plot(t3,peak*t3-4*(peak),\"b\",)\n",
    "\n",
    "plt.subplot(2,1,2)\n",
    "\n",
    "plt.xlim(0,4.5)\n",
    "plt.xlabel(\"time->\")\n",
    "plt.ylabel(\"V->\")\n",
    "plt.plot(m1,-20*m1,\"r\")\n",
    "plt.plot(m2,np.full(len(m2),-13),\"r\")\n",
    "plt.plot(m3,20*m3-40,\"r\")\n",
    "plt.plot(m4,np.full(len(m4),13),\"r\")\n",
    "plt.plot(m5,-20*m5+80,\"r\")\n",
    "plt.plot(m6,np.full(len(m6),-13),\"r\")\n",
    "\n",
    "plt.plot(m1,np.full(len(m1),0),\"g\",)\n",
    "plt.plot(m7,6.665*m7-4.4,\"g\")\n",
    "plt.plot(m8,-6.665*m8+8.8,\"g\")\n",
    "plt.plot(m3,np.full(len(m3),0),\"g\")\n",
    "plt.plot(m9,6.665*m9-17.6,\"g\")\n",
    "plt.plot(m10,-6.665*m10+22.4,\"g\")\n",
    "plt.plot(m5,np.full(len(m5),0),\"g\")\n",
    "plt.plot(m6,np.full(len(m6),0),\"g\")"
   ]
  }
 ],
 "metadata": {
  "kernelspec": {
   "display_name": "Python 2",
   "language": "python",
   "name": "python2"
  },
  "language_info": {
   "codemirror_mode": {
    "name": "ipython",
    "version": 2
   },
   "file_extension": ".py",
   "mimetype": "text/x-python",
   "name": "python",
   "nbconvert_exporter": "python",
   "pygments_lexer": "ipython2",
   "version": "2.7.10"
  }
 },
 "nbformat": 4,
 "nbformat_minor": 0
}
