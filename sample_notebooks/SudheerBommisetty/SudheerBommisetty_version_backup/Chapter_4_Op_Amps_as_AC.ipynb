{
 "cells": [
  {
   "cell_type": "markdown",
   "metadata": {},
   "source": [
    "# Chapter 4 Op Amps as AC Amplifiers"
   ]
  },
  {
   "cell_type": "markdown",
   "metadata": {},
   "source": [
    "## exa 4.1 page.no: 65"
   ]
  },
  {
   "cell_type": "code",
   "execution_count": 1,
   "metadata": {
    "collapsed": false
   },
   "outputs": [
    {
     "name": "stdout",
     "output_type": "stream",
     "text": [
      "R1max=  140000.0\n",
      "Xc1=R1/10 at F1\n",
      "C1= 2.65258238486e-07  farad\n",
      "C2= 8.16179195343e-07  farad\n",
      "The circuit voltage should be normally between 9 to 18 volts\n"
     ]
    }
   ],
   "source": [
    "# capacitor coupled voltage follower design \n",
    "from math import pi\n",
    "\n",
    "Vbe =0.7\n",
    "Ibmax =500*10**-9\n",
    "R1max=0.1* Vbe/ Ibmax\n",
    "print \"R1max= \",R1max\n",
    "# assume R1=120Kohms\n",
    "R1=120000\n",
    "f1=50\n",
    "print \"Xc1=R1/10 at F1\"\n",
    "#  C1=1/(2∗pi∗f1∗(R1/10))\n",
    "C1=1/(2*pi*f1*(R1/10))\n",
    "print \"C1=\",C1,\" farad\"\n",
    "Rl=3900\n",
    "C2=1/(2*pi*f1*Rl)\n",
    "print \"C2=\",C2,\" farad\"\n",
    "print \"The circuit voltage should be normally between 9 to 18 volts\""
   ]
  },
  {
   "cell_type": "markdown",
   "metadata": {},
   "source": [
    "## exa 4.2 page.no: 66"
   ]
  },
  {
   "cell_type": "code",
   "execution_count": 2,
   "metadata": {
    "collapsed": false
   },
   "outputs": [
    {
     "name": "stdout",
     "output_type": "stream",
     "text": [
      "C1= 3.18309886184e-08  farad\n",
      "C2= 8.16179195343e-07  farad\n",
      "The circuit voltage should be normally between 9 to 18 volts\n"
     ]
    }
   ],
   "source": [
    "# capacitor coupled voltage follower design using BIFET \n",
    "from math import pi\n",
    "\n",
    "R1 =1000000\n",
    "f1=50\n",
    "C1=1/(2*pi*f1*(R1/10))\n",
    "print \"C1=\",C1,\" farad\"\n",
    "Rl=3900\n",
    "C2=1/(2*pi*f1*Rl)\n",
    "print \"C2=\",C2,\" farad\"\n",
    "print \"The circuit voltage should be normally between 9 to 18 volts\""
   ]
  },
  {
   "cell_type": "markdown",
   "metadata": {},
   "source": [
    "## exa 4.3 page.no: 68"
   ]
  },
  {
   "cell_type": "code",
   "execution_count": 3,
   "metadata": {
    "collapsed": false
   },
   "outputs": [
    {
     "name": "stdout",
     "output_type": "stream",
     "text": [
      "C1= 4.681027738e-07  farad\n",
      "C2= 4.681027738e-07  farad\n",
      "Zin=  3400068000 ohms\n",
      "The circuit voltage should be normally between 9 to 18 volts\n"
     ]
    }
   ],
   "source": [
    "#capacitor coupled voltage follower design \n",
    "from math import pi \n",
    "\n",
    "Vbe =0.7\n",
    "Ibmax =500*10**-9\n",
    "R1max=0.1* Vbe/ Ibmax\n",
    "R1=R1max/2\n",
    "R2=R1\n",
    "R1=68000\n",
    "f1=50\n",
    "C1=1/(2*pi*f1*(R1/10))\n",
    "print \"C1=\",C1,\" farad\"\n",
    "C2=C1\n",
    "print \"C2=\",C2,\" farad\"\n",
    "Rl=3900\n",
    "M=50000\n",
    "Zin=(1+M)*R1\n",
    "print \"Zin= \",Zin,\"ohms\"\n",
    "print \"The circuit voltage should be normally between 9 to 18 volts\""
   ]
  },
  {
   "cell_type": "markdown",
   "metadata": {},
   "source": [
    "## exa 4.4 page.no: 69"
   ]
  },
  {
   "cell_type": "code",
   "execution_count": 4,
   "metadata": {
    "collapsed": false
   },
   "outputs": [
    {
     "name": "stdout",
     "output_type": "stream",
     "text": [
      "C1= 1.10524266036e-07  farad\n",
      "C2= 6.02859632924e-07  farad\n",
      "The circuit voltage should be normally between 9 to 18 volts\n"
     ]
    }
   ],
   "source": [
    "#capacitor coupled non inverting amplifier design \n",
    "#lower cut off frequency for the circuit =120Hz\n",
    "from math import pi\n",
    "\n",
    "Vbe =0.7\n",
    "Ibmax =500*10**-9\n",
    "R1max=0.1* Vbe/ Ibmax\n",
    "R1=120000\n",
    "f1=120\n",
    "C1=1/(2*pi*f1*(R1/10))\n",
    "print \"C1=\",C1,\" farad\"\n",
    "Rl=2200\n",
    "C2=1/(2*pi*f1*Rl)\n",
    "print \"C2=\",C2,\" farad\"\n",
    "print \"The circuit voltage should be normally between 9 to 18 volts\""
   ]
  },
  {
   "cell_type": "markdown",
   "metadata": {},
   "source": [
    "## exa 4.5 page.no: 69"
   ]
  },
  {
   "cell_type": "code",
   "execution_count": 5,
   "metadata": {
    "collapsed": false
   },
   "outputs": [
    {
     "name": "stdout",
     "output_type": "stream",
     "text": [
      "R1= 994974.874372\n",
      "C2= 1.58359168376e-07  farad\n",
      "C1=1000pF much larger than stray capacitance\n",
      "C2= 6.63145596216e-07  farad\n",
      "The circuit voltage should be normally between 9 to 18 volts\n"
     ]
    }
   ],
   "source": [
    "#capacitor coupled non inverting high impedence follower design \n",
    "#lower cut off frequency for the circuit =200Hz \n",
    "from math import pi\n",
    "\n",
    "Vo=3\n",
    "Vi=0.015\n",
    "Av=Vo/Vi\n",
    "R2 =1000000\n",
    "R3=R2/(Av-1)\n",
    "f1=200\n",
    "R1=R2-R3\n",
    "print\"R1=\",R1\n",
    "C2=1/(2*pi*f1*(R3))\n",
    "print \"C2=\",C2,\" farad\"\n",
    "print \"C1=1000pF much larger than stray capacitance\"\n",
    "Rl=12000\n",
    "C2=1/(2*pi*f1*(Rl/10))\n",
    "print \"C2=\",C2,\" farad\"\n",
    "print \"The circuit voltage should be normally between 9 to 18 volts\""
   ]
  },
  {
   "cell_type": "markdown",
   "metadata": {},
   "source": [
    "## exa 4.6 page.no: 71"
   ]
  },
  {
   "cell_type": "code",
   "execution_count": 6,
   "metadata": {
    "collapsed": false
   },
   "outputs": [
    {
     "name": "stdout",
     "output_type": "stream",
     "text": [
      "C1= 0.000159154943092  farad\n",
      "C2= 6.36619772368e-05  farad\n",
      "Cf= 3.38627538493e-07  farad\n",
      "The circuit voltage should be normally between 9 to 18 volts\n"
     ]
    }
   ],
   "source": [
    "#capacitor coupled inverting amplifier design \n",
    "#frequency range for the circuit =10Hz to 1KHz\n",
    "from math import pi\n",
    "R1 =1000\n",
    "f1=10\n",
    "C1=1/(2*pi*f1*(R1/10))\n",
    "print \"C1=\",C1,\" farad\"\n",
    "Rl=250\n",
    "C2=1/(2*pi*f1*Rl)\n",
    "print \"C2=\",C2,\" farad\"\n",
    "R2=47000\n",
    "Cf=1/(2*pi*f1*R2)\n",
    "print \"Cf=\",Cf,\" farad\"\n",
    "print \"The circuit voltage should be normally between 9 to 18 volts\""
   ]
  },
  {
   "cell_type": "markdown",
   "metadata": {},
   "source": [
    "## exa 4.7 page.no: 72"
   ]
  },
  {
   "cell_type": "code",
   "execution_count": 7,
   "metadata": {
    "collapsed": false
   },
   "outputs": [
    {
     "name": "stdout",
     "output_type": "stream",
     "text": [
      "R1= 240000.0  ohms\n",
      "R2= 240000.0  ohms\n",
      "R4= 1000.0  ohms\n",
      "R3= 99000.0  ohms\n",
      "Rp= 114782.608696  ohms\n",
      "C1= 1.84876954097e-07  farad\n",
      "C2= 3.78940340695e-06  farad\n",
      "C3= 2.12206590789e-06  farad\n",
      "The circuit voltage should be normally between 9 to 18 volts\n"
     ]
    }
   ],
   "source": [
    "#capacitor coupled non design\n",
    "from math import pi\n",
    "\n",
    "Av =100.\n",
    "Vcc =24.\n",
    "Vo=5.\n",
    "#lower cut off frequency for the circuit =75Hz\n",
    "Vbe=0.7\n",
    "Ibmax =500*10**-9\n",
    "#I2>>Ibmax\n",
    "I2 =100* Ibmax\n",
    "R1=(Vcc/2)/I2\n",
    "print\"R1=\",R1,\" ohms\"\n",
    "R2=(Vcc/2)/I2\n",
    "print\"R2=\",R2,\" ohms\"\n",
    "#assume R1=220Kohms\n",
    "Vi=Vo/Av\n",
    "R1=220000.\n",
    "I4 =100* Ibmax\n",
    "R4=Vi/I4\n",
    "print\"R4=\",R4,\" ohms\"\n",
    "R3=(Vo/I4)-R4\n",
    "print\"R3=\",R3,\" ohms\"\n",
    "Rp=(R1*R2)/(R1+R2)\n",
    "print\"Rp=\",Rp,\" ohms\"\n",
    "f1=75.\n",
    "C1=1/(2*pi*f1*(Rp/10))\n",
    "print \"C1=\",C1,\" farad\"\n",
    "Rl=5600.\n",
    "C2=1/(2*pi*f1*(Rl/10))\n",
    "print \"C2=\",C2,\" farad\"\n",
    "C3=1/(2*pi*f1*R4)\n",
    "print \"C3=\",C3,\" farad\"\n",
    "print \"The circuit voltage should be normally between 9 to 18 volts\""
   ]
  }
 ],
 "metadata": {
  "kernelspec": {
   "display_name": "Python 2",
   "language": "python",
   "name": "python2"
  },
  "language_info": {
   "codemirror_mode": {
    "name": "ipython",
    "version": 2
   },
   "file_extension": ".py",
   "mimetype": "text/x-python",
   "name": "python",
   "nbconvert_exporter": "python",
   "pygments_lexer": "ipython2",
   "version": "2.7.10"
  }
 },
 "nbformat": 4,
 "nbformat_minor": 0
}
