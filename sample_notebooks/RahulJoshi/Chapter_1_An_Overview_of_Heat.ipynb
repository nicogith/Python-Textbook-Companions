{
 "cells": [
  {
   "cell_type": "markdown",
   "metadata": {
    "collapsed": true
   },
   "source": [
    "# Example 1.1 Page Number 2"
   ]
  },
  {
   "cell_type": "code",
   "execution_count": 3,
   "metadata": {
    "collapsed": false
   },
   "outputs": [
    {
     "name": "stdout",
     "output_type": "stream",
     "text": [
      "Heat Flow through the surface is 17850.0 W\n",
      "Temprature Gradient in flow direction -700.0 C/m\n"
     ]
    }
   ],
   "source": [
    "import math\n",
    "\n",
    "#variable declaration\n",
    "\n",
    "T = 100 # temperature of wall 1 in deg celcius\n",
    "\n",
    "t = 30 # temperature of wall 2 in deg celcius\n",
    "\n",
    "L = 0.1 # distance between the walls in meters\n",
    "\n",
    "k = 8.5 # thermal conductivity in W/mK\n",
    "\n",
    "A = 3 # area is meters square\n",
    "\n",
    "#calculation\n",
    "\n",
    "Q = (T-t)/(L/(k*A)) # heat flow rate in (W)\n",
    "\n",
    "tempgrad = (-1*Q)/(k*A) # temperature gradient in celcius/meter\n",
    "\n",
    "# Result\n",
    "\n",
    "print(\"Heat Flow through the surface is\",Q,\"W\")\n",
    "\n",
    "print(\"Temprature Gradient in flow direction\",tempgrad,\"C/m\")"
   ]
  },
  {
   "cell_type": "markdown",
   "metadata": {},
   "source": [
    "# Example 1.2 Page Number 6"
   ]
  },
  {
   "cell_type": "code",
   "execution_count": 6,
   "metadata": {
    "collapsed": false
   },
   "outputs": [
    {
     "name": "stdout",
     "output_type": "stream",
     "text": [
      "Convective heat transfer rate  1500.0 W\n",
      "Resistance 0.08 C/W\n",
      "Temprature Gradient along y direction -3000.0 C/m\n"
     ]
    }
   ],
   "source": [
    "import math\n",
    "\n",
    "#variable declaration\n",
    "\n",
    "T = 160 # temperature of wall 1 in deg celcius\n",
    "\n",
    "t = 40 # temperature of wall 2 in deg celcius\n",
    "\n",
    "k = 1 # thermal conductivity in W/mK\n",
    "\n",
    "h = 25 # Convective heat transfer coefficient W/m2K\n",
    "\n",
    "A = 0.5 # area is meters square\n",
    "\n",
    "#calculation\n",
    "\n",
    "Q = h*A*(T-t) # heat tranfer by convection (W)\n",
    "\n",
    "r = 1/(h*A) # resistance (C/W)\n",
    "\n",
    "tempgrad = (-1*Q)/(k*A) # temperature gradient in celcius/meter along y\n",
    "\n",
    "# Result\n",
    "\n",
    "print(\"Convective heat transfer rate \",Q,\"W\")\n",
    "\n",
    "print(\"Resistance\",r,\"C/W\")\n",
    "\n",
    "print(\"Temprature Gradient along y direction\",tempgrad,\"C/m\")\n"
   ]
  },
  {
   "cell_type": "markdown",
   "metadata": {},
   "source": [
    "# Example 1.3 Page number 7"
   ]
  },
  {
   "cell_type": "code",
   "execution_count": 11,
   "metadata": {
    "collapsed": false
   },
   "outputs": [
    {
     "name": "stdout",
     "output_type": "stream",
     "text": [
      "Heat Flow through the surface is 2171.37 W\n",
      "Resistance 0.0783 K/W\n",
      "Equivalent thermal coefficient 6.3864 W/m2K\n"
     ]
    }
   ],
   "source": [
    "import math\n",
    "\n",
    "#variable declaration\n",
    "\n",
    "T = 473 # temperature of wall 1 kelvin\n",
    "\n",
    "t = 303 # temperature of wall 2 in kelvin\n",
    "\n",
    "sigma = 5.67*10**-8 # Stefen-Boltzmann constant\n",
    "\n",
    "F = 0.46 # emmissivity \n",
    "\n",
    "A = 2 # area is meters sq\n",
    "\n",
    "#calculation\n",
    "\n",
    "Q = F*sigma*A*(T**4-t**4) # heat exchange in (W)\n",
    "\n",
    "R = (T-t)/Q # Resistance in (K/W)\n",
    "\n",
    "hr = 1/(R*A) # equivalent thermal coefficient W/m2K\n",
    "\n",
    "# Result\n",
    "\n",
    "print(\"Heat Flow through the surface is\",round(Q,2),\"W\")\n",
    "\n",
    "print(\"Resistance\",round(R,4),\"K/W\")\n",
    "\n",
    "print(\"Equivalent thermal coefficient\",round(hr,4),\"W/m2K\")"
   ]
  },
  {
   "cell_type": "markdown",
   "metadata": {},
   "source": [
    "# Example 1.4 Page number 8"
   ]
  },
  {
   "cell_type": "code",
   "execution_count": 17,
   "metadata": {
    "collapsed": false
   },
   "outputs": [
    {
     "name": "stdout",
     "output_type": "stream",
     "text": [
      "Heat Received  7092.23 W\n",
      "T2 =  368.479 K\n",
      "Temprature on other side of the wall 263.3 K\n"
     ]
    }
   ],
   "source": [
    "import math\n",
    "\n",
    "#variable declaration\n",
    "\n",
    "Tinf1 = 500 # temperature of wall 1 Kelvin\n",
    "\n",
    "T1 = 400 # temperature of wall 2 in Kelvin\n",
    "\n",
    "sigma = 5.67 # Stefen-Boltzmann constant\n",
    "\n",
    "h = 50 # Convective heat transfer coefficient W/m2K\n",
    "\n",
    "k = 45 # thermal conductivity in W/mK\n",
    "\n",
    "L = 0.2 # slab thickness in meters\n",
    "\n",
    "#calculation\n",
    "\n",
    "Q = sigma*((Tinf1/100)**4 - (T1/100)**4)+ h*(Tinf1-T1) # heat received (W)\n",
    "\n",
    "dT = Q*(L/k) # temp gradient (K)\n",
    "\n",
    "T2 = T1-dT #\n",
    "\n",
    "Tinf2 = 263.3 # temperature on the other side of the wall using trial and error\n",
    "\n",
    "# Result\n",
    "\n",
    "print(\"Heat Received \",round(Q,3),\"W\")\n",
    "\n",
    "print(\"T2 = \",round(T2,3),\"K\")\n",
    "\n",
    "print(\"Temprature on other side of the wall\",round(Tinf2,3),\"K\")"
   ]
  },
  {
   "cell_type": "markdown",
   "metadata": {},
   "source": [
    "# Example 1.5 Page number "
   ]
  },
  {
   "cell_type": "code",
   "execution_count": 26,
   "metadata": {
    "collapsed": false
   },
   "outputs": [
    {
     "name": "stdout",
     "output_type": "stream",
     "text": [
      "Rate of change of temperature  0.03984 C/s\n"
     ]
    }
   ],
   "source": [
    "import math\n",
    "\n",
    "#variable declaration\n",
    "\n",
    "T1 = 400 # temperature of wall 1 Kelvin\n",
    "\n",
    "T2 = 100 # temperature of wall 2 in Kelvin\n",
    "\n",
    "sigma = 5.67*10**-8 # Stefen-Boltzmann constant\n",
    "\n",
    "h = 200 # Convective heat transfer coefficient W/m2K\n",
    "\n",
    "q = 1.5*10**6 # heat generated in W/m3\n",
    "\n",
    "H = 0.3 # height in meters\n",
    "\n",
    "r = 0.15 # radius in meters\n",
    "\n",
    "rho = 19000 # density in kg/m3\n",
    "\n",
    "cp = 118 # specific heat capacity in kJ/kgK\n",
    "\n",
    "#calculation\n",
    "\n",
    "Sa = 2*3.14*r*H+2*3.14*r**2 # Surface area in meters sq\n",
    "\n",
    "Hc = 3.14*r**2*H*rho*cp # heat capacity in J/deg C\n",
    "\n",
    "Hg = 3.14*r**2*H*q # Heat generated in W\n",
    "\n",
    "Hcon = h*Sa*(T1-T2) # convective heat transfer in W\n",
    "\n",
    "Hrad = sigma*Sa*((T1+273)**4 - (T2+273)**4)\n",
    "\n",
    "Th = Hg-Hcon-Hrad\n",
    "\n",
    "dTbydt = Th/Hc\n",
    "\n",
    "# Result\n",
    "\n",
    "print(\"Rate of change of temperature \",round(dTbydt,5),\"C/s\")\n"
   ]
  },
  {
   "cell_type": "markdown",
   "metadata": {},
   "source": [
    "# Example 1.6 Page number 11"
   ]
  },
  {
   "cell_type": "code",
   "execution_count": 40,
   "metadata": {
    "collapsed": false
   },
   "outputs": [
    {
     "name": "stdout",
     "output_type": "stream",
     "text": [
      "BTU/hrftF =  1.7322 W/mC\n",
      "BTU/hrft2F =  5.6831 W/m2C\n"
     ]
    }
   ],
   "source": [
    "import math\n",
    "\n",
    "J = 9.47*10**-4 # Joule to BTU conversion\n",
    "\n",
    "m = 39.37 # meter to inch conversion\n",
    "\n",
    "kg = 2.2046 # kg to lb conversion\n",
    "\n",
    "C = 9/5 # Celcius to Farhenight\n",
    "\n",
    "# Calculation\n",
    "\n",
    "BTU = 1/J # in Joule\n",
    "\n",
    "ft = 12/m # in feet\n",
    "\n",
    "a = (BTU/(3600*ft*(5/9))) # in BTU/hrftF\n",
    "\n",
    "print(\"BTU/hrftF = \",round(a,4),\"W/mC\")\n",
    "\n",
    "b = (BTU/(3600*ft**2*(5/9))) # in BTU/hrftF\n",
    "\n",
    "print(\"BTU/hrft2F = \",round(b,4),\"W/m2C\")"
   ]
  },
  {
   "cell_type": "markdown",
   "metadata": {},
   "source": [
    "# Problem 1 page Number 11"
   ]
  },
  {
   "cell_type": "code",
   "execution_count": 43,
   "metadata": {
    "collapsed": false
   },
   "outputs": [
    {
     "name": "stdout",
     "output_type": "stream",
     "text": [
      "Temprature gradient along surface -1111.7 C/m\n"
     ]
    }
   ],
   "source": [
    "import math\n",
    "\n",
    "#variable declaration\n",
    "\n",
    "T1 = 200 # temperature of wall 1 Kelvin\n",
    "\n",
    "T2 = 60 # temperature of wall 2 in Kelvin\n",
    "\n",
    "sigma = 5.67 # Stefen-Boltzmann constant\n",
    "\n",
    "h = 80 # Convective heat transfer coefficient W/m2K\n",
    "\n",
    "k = 12 # thermal conductivity in W/mK\n",
    "\n",
    "#L = 0.2 # slab thickness in meters\n",
    "\n",
    "#calculation\n",
    "\n",
    "Q = sigma*(((T1+273)/100)**4 - ((T2+273)/100)**4)+ h*(T1-T2) # heat received (W)\n",
    "\n",
    "dTbydx = Q/(-1*k) # temp gradient (K)\n",
    "\n",
    "print(\"Temprature gradient along surface\",round(dTbydx,1),\"C/m\")"
   ]
  },
  {
   "cell_type": "markdown",
   "metadata": {},
   "source": [
    "# Problem 2 Page number 12"
   ]
  },
  {
   "cell_type": "code",
   "execution_count": 46,
   "metadata": {
    "collapsed": false
   },
   "outputs": [
    {
     "name": "stdout",
     "output_type": "stream",
     "text": [
      "Temprature only conduction and convection  682.174 C\n",
      "Temprature only conduction and radiation  1139.148 C\n"
     ]
    }
   ],
   "source": [
    "import math\n",
    "\n",
    "#variable declaration\n",
    "\n",
    "dTbydx = -9000 # temperature gradient \n",
    "\n",
    "T2 = 30 # temperature of wall 2 in C\n",
    "\n",
    "sigma = 5.67 # Stefen-Boltzmann constant\n",
    "\n",
    "k = -25 # Convective heat transfer coefficient W/mK\n",
    "\n",
    "h = 345 # thermal conductivity in W/m2K\n",
    "\n",
    "A = 1 # area in meters sq\n",
    "\n",
    "#calculation\n",
    "\n",
    "#only conduction and convection\n",
    "\n",
    "T11 = k*A*dTbydx/(h*A) + T2\n",
    "\n",
    "#only conduction and radiation\n",
    "\n",
    "T12 = (((k*A*dTbydx/(sigma)) + ((T2+273)/100)**4)*100**4)**(1/4)-273\n",
    "\n",
    "# Result\n",
    "\n",
    "print(\"Temprature only conduction and convection \",round(T11,3),\"C\")\n",
    "\n",
    "print(\"Temprature only conduction and radiation \",round(T12,3),\"C\")"
   ]
  },
  {
   "cell_type": "markdown",
   "metadata": {},
   "source": [
    "# Problem number 3 Page number 12"
   ]
  },
  {
   "cell_type": "code",
   "execution_count": 47,
   "metadata": {
    "collapsed": false
   },
   "outputs": [
    {
     "name": "stdout",
     "output_type": "stream",
     "text": [
      "Wall surface temperature  330.4 K\n",
      "Heat Generated  2252.765 W/m2\n"
     ]
    }
   ],
   "source": [
    "import math\n",
    "\n",
    "#variable declaration\n",
    "\n",
    "Qc = 2250 # heat conducted in W/m2\n",
    "\n",
    "T1 = 303 # temperature of wall 2 in C\n",
    "\n",
    "sigma = 5.67 # Stefen-Boltzmann constant\n",
    "\n",
    "h = 75 # thermal conductivity in W/m2K\n",
    "\n",
    "A = 1 # area in meters sq\n",
    "\n",
    "#calculation\n",
    "\n",
    "# taking the approximate value from table 330.4\n",
    "\n",
    "Tapprox = 330.4\n",
    "\n",
    "Q = h*(Tapprox-T1)+sigma*((Tapprox/100)**4-(T1/100)**4)\n",
    "\n",
    "# Result\n",
    "\n",
    "print(\"Wall surface temperature \",round(Tapprox,3),\"K\")\n",
    "\n",
    "print(\"Heat Generated \",round(Q,3),\"W/m2\")"
   ]
  },
  {
   "cell_type": "markdown",
   "metadata": {},
   "source": [
    "# Problem 4 page number 13"
   ]
  },
  {
   "cell_type": "code",
   "execution_count": 48,
   "metadata": {
    "collapsed": false
   },
   "outputs": [
    {
     "name": "stdout",
     "output_type": "stream",
     "text": [
      "Wall surface temperature  277.75 K\n",
      "Heat Generated  65.479 W\n"
     ]
    }
   ],
   "source": [
    "import math\n",
    "\n",
    "#variable declaration\n",
    "\n",
    "Hc = 65.5 # heat conducted in W/m\n",
    "\n",
    "T1 = 263 # temperature of wall in K\n",
    "\n",
    "sigma = 5.67 # Stefen-Boltzmann constant\n",
    "\n",
    "h = 4.35 # thermal conductivity in W/m2K\n",
    "\n",
    "r = 0.08 # area in meters \n",
    "\n",
    "#calculation\n",
    "\n",
    "# taking the approximate value from table 277.75 K\n",
    "\n",
    "Tapprox = 277.75\n",
    "\n",
    "Q = h*3.14*r*2*(Tapprox-T1)+sigma*2*3.14*r*((Tapprox/100)**4-(T1/100)**4)\n",
    "\n",
    "# Result\n",
    "\n",
    "print(\"Wall surface temperature \",round(Tapprox,3),\"K\")\n",
    "\n",
    "print(\"Heat Generated \",round(Q,3),\"W\")"
   ]
  },
  {
   "cell_type": "markdown",
   "metadata": {},
   "source": [
    "# Problem 5 Page number 14"
   ]
  },
  {
   "cell_type": "code",
   "execution_count": 51,
   "metadata": {
    "collapsed": false
   },
   "outputs": [
    {
     "name": "stdout",
     "output_type": "stream",
     "text": [
      "Wall surface temperature  386.1 K\n",
      "Heat Generated  449.65 W\n"
     ]
    }
   ],
   "source": [
    "import math\n",
    "\n",
    "#variable declaration\n",
    "\n",
    "Hc = 450 # heat conducted in W/m\n",
    "\n",
    "T1 = 396.4 # temperature of wall in K\n",
    "\n",
    "sigma = 5.67 # Stefen-Boltzmann constant\n",
    "\n",
    "h = 1.5 # thermal conductivity in W/m2K\n",
    "\n",
    "r = 0.08 # area in meters \n",
    "\n",
    "A = 4*3.14*0.48**2 # area in meters sq\n",
    "\n",
    "#calculation\n",
    "\n",
    "# taking the approximate value from table 386.1 K\n",
    "\n",
    "Tapprox = 386.1\n",
    "\n",
    "Q = h*A*(T1-Tapprox)+sigma*A*((T1/100)**4-(Tapprox/100)**4)\n",
    "\n",
    "# Result\n",
    "\n",
    "print(\"Wall surface temperature \",round(Tapprox,3),\"K\")\n",
    "\n",
    "print(\"Heat Generated \",round(Q,3),\"W\")"
   ]
  },
  {
   "cell_type": "markdown",
   "metadata": {},
   "source": [
    "# Problem 6 Page number 14"
   ]
  },
  {
   "cell_type": "code",
   "execution_count": 52,
   "metadata": {
    "collapsed": false
   },
   "outputs": [
    {
     "name": "stdout",
     "output_type": "stream",
     "text": [
      "Heat Capacity  1000.0 J/C\n"
     ]
    }
   ],
   "source": [
    "import math\n",
    "\n",
    "#variable declaration\n",
    "\n",
    "dTbydt = 0.5 # Temperature transition in C/s\n",
    "\n",
    "Qr = 4000 # Heat Received in J/s\n",
    "\n",
    "Qc = 5200 # Heat Convection in J/s\n",
    "\n",
    "qdot = 1700 # Heat generated in J/s\n",
    "\n",
    "#calculation\n",
    "\n",
    "HeatCapacity = (Qr-Qc+qdot)/dTbydt\n",
    "\n",
    "# Result\n",
    "\n",
    "print(\"Heat Capacity \",round(HeatCapacity,3),\"J/C\")"
   ]
  },
  {
   "cell_type": "markdown",
   "metadata": {},
   "source": [
    "# Problem 7 page number 15"
   ]
  },
  {
   "cell_type": "code",
   "execution_count": 54,
   "metadata": {
    "collapsed": false
   },
   "outputs": [
    {
     "name": "stdout",
     "output_type": "stream",
     "text": [
      "Time rate of temperature change  0.1 C/s\n"
     ]
    }
   ],
   "source": [
    "import math\n",
    "\n",
    "#variable declaration\n",
    "\n",
    "Q = 240 # Heat Received in J/s\n",
    "\n",
    "qdot = 100000 # Heat generated in J/m3/s\n",
    "\n",
    "rho = 2500 # density in kg/m3\n",
    "\n",
    "cp = 0.52*10**3 # heat capacity in kJ/KgK\n",
    "\n",
    "a = 0.2 # side of the cube in meters\n",
    "\n",
    "#calculation\n",
    "\n",
    "V = a**3\n",
    "\n",
    "dTbydt = (Q+qdot*V)/(rho*V*cp)\n",
    "\n",
    "# Result\n",
    "\n",
    "print(\"Time rate of temperature change \",round(dTbydt,3),\"C/s\")"
   ]
  },
  {
   "cell_type": "markdown",
   "metadata": {},
   "source": [
    "# Problem 8 Page Number 15 "
   ]
  },
  {
   "cell_type": "code",
   "execution_count": 55,
   "metadata": {
    "collapsed": false
   },
   "outputs": [
    {
     "name": "stdout",
     "output_type": "stream",
     "text": [
      "Heat Convected  1309.5 W/m2\n",
      "Heat Received  1303.428 W/m2\n"
     ]
    }
   ],
   "source": [
    "import math\n",
    "\n",
    "#variable declaration\n",
    "\n",
    "T1 = 160 # heat conducted in W/m\n",
    "\n",
    "T2 = 30 # temperature of wall in K\n",
    "\n",
    "sigma = 5.67 # Stefen-Boltzmann constant\n",
    "\n",
    "h = 45 # thermal conductivity in W/m2K\n",
    "\n",
    "A = 1 # area in meters sq\n",
    "\n",
    "#calculation\n",
    "\n",
    "# taking the approximate value from table 332 K\n",
    "\n",
    "Tapprox = 332.1 \n",
    "\n",
    "Hc = h*A*(Tapprox-(273+T2)) # Heat Convected in W/m2\n",
    "\n",
    "Hr = sigma*A*(((T1+273)/100)**4-(Tapprox/100)**4) # Heat received in W/m2\n",
    "\n",
    "# Result\n",
    "\n",
    "print(\"Heat Convected \",round(Hc,3),\"W/m2\")\n",
    "\n",
    "print(\"Heat Received \",round(Hr,3),\"W/m2\")"
   ]
  },
  {
   "cell_type": "markdown",
   "metadata": {},
   "source": [
    "# Problem 9 Page number 16"
   ]
  },
  {
   "cell_type": "code",
   "execution_count": 60,
   "metadata": {
    "collapsed": false
   },
   "outputs": [
    {
     "name": "stdout",
     "output_type": "stream",
     "text": [
      "Total Heat loss case 1 150.6 W\n",
      "Total Heat loss case 2 81.9 W\n"
     ]
    }
   ],
   "source": [
    "import math\n",
    "\n",
    "#variable declaration\n",
    "\n",
    "T1 = 37 # temperature of body in  C\n",
    "\n",
    "T21 = 26 # temperature of air in C\n",
    "\n",
    "T22 = 5 # temperature of walls in room in C\n",
    "\n",
    "sigma = 5.67 # Stefen-Boltzmann constant\n",
    "\n",
    "h = 6 # Convective heat transfer coefficient W/m2K\n",
    "\n",
    "A = 0.6 # area in meters sq\n",
    "\n",
    "#calculation\n",
    "\n",
    "Hc = h*A*(T1-T21) # Heat Convected in W/m2\n",
    "\n",
    "Hr1 = sigma*A*(((T1+273)/100)**4-((T22+273)/100)**4) # Heat received in W/m2\n",
    "\n",
    "Ht1 = Hr1+Hc\n",
    "\n",
    "# calculate when temperature is 26C\n",
    "\n",
    "Hr2 = sigma*A*(((T1+273)/100)**4 - ((T21+273)/100)**4) # Heat received in W/m2\n",
    "\n",
    "Ht2 = Hc+Hr2\n",
    "\n",
    "print(\"Total Heat loss case 1\",round(Ht1,1),\"W\")\n",
    "\n",
    "print(\"Total Heat loss case 2\",round(Ht2,1),\"W\")"
   ]
  },
  {
   "cell_type": "markdown",
   "metadata": {},
   "source": [
    "# Problem 10 Page number 16"
   ]
  },
  {
   "cell_type": "code",
   "execution_count": 63,
   "metadata": {
    "collapsed": false
   },
   "outputs": [
    {
     "name": "stdout",
     "output_type": "stream",
     "text": [
      "Net heat Gain 291.1 W\n"
     ]
    }
   ],
   "source": [
    "import math\n",
    "\n",
    "#variable declaration\n",
    "\n",
    "T1 = 37 # temperature of body in  C\n",
    "\n",
    "T21 = 650 # temperature of air in C\n",
    "\n",
    "T22 = 5 # temperature of walls in room in C\n",
    "\n",
    "sigma = 5.67 # Stefen-Boltzmann constant\n",
    "\n",
    "h = 6 # Convective heat transfer coefficient W/m2K\n",
    "\n",
    "A = 0.6 # area in meters sq\n",
    "\n",
    "F = 0.01 # fraction of radiation \n",
    "\n",
    "#calculation\n",
    "\n",
    "# Heat loss by convection in W\n",
    "\n",
    "Hc = h*A*(T1-T22)\n",
    "\n",
    "# Heat Gain by radiation\n",
    "\n",
    "Hr = sigma*F*(((T21+273)/100)**4 - ((T1+273)/100)**4) # Heat received in W/m2\n",
    "\n",
    "Hnet = Hr-Hc\n",
    "\n",
    "print(\"Net heat Gain\",round(Hnet,1),\"W\")"
   ]
  },
  {
   "cell_type": "markdown",
   "metadata": {},
   "source": [
    "# Problem 11 Page number 16"
   ]
  },
  {
   "cell_type": "code",
   "execution_count": 66,
   "metadata": {
    "collapsed": false
   },
   "outputs": [
    {
     "name": "stdout",
     "output_type": "stream",
     "text": [
      "Equilibrium Temperature =  960.01 K\n"
     ]
    }
   ],
   "source": [
    "import math\n",
    "\n",
    "# Variable Declaration\n",
    "\n",
    "Q = 1500 # heat dissipation in W\n",
    "\n",
    "sigma = 5.67 # stefan-Boltzmann constant\n",
    "\n",
    "T2 = 288 # temperature in K\n",
    "\n",
    "r = 0.04 # radius in meters\n",
    "\n",
    "H = 0.25 # height in meters\n",
    "\n",
    "T1 = ((Q/(sigma*3.14*r*H)+(288/100)**4)*100**4)**(1/4)\n",
    "\n",
    "print(\"Equilibrium Temperature = \",round(T1,2),\"K\")"
   ]
  },
  {
   "cell_type": "markdown",
   "metadata": {},
   "source": [
    "# Problem number 12 Page number 17"
   ]
  },
  {
   "cell_type": "code",
   "execution_count": 68,
   "metadata": {
    "collapsed": false
   },
   "outputs": [
    {
     "name": "stdout",
     "output_type": "stream",
     "text": [
      "Equilibrium Temperature =  62.0 C\n"
     ]
    }
   ],
   "source": [
    "import math\n",
    "\n",
    "# Variable declaration\n",
    "\n",
    "Hr = 800 # Heat Rate in W/m2\n",
    "\n",
    "h1 = 10 # convective heat transfer rate on back of plate in W/m2K\n",
    "\n",
    "h2 = 15 # convective heat transfer rate on front of plate in W/m2K\n",
    "\n",
    "T2 = 30 # temperature on both sides of the plate\n",
    "\n",
    "T = (Hr+h1*30+h2*30)/25\n",
    "\n",
    "print(\"Equilibrium Temperature = \",round(T,2),\"C\")"
   ]
  },
  {
   "cell_type": "markdown",
   "metadata": {},
   "source": [
    "# Problem number 13 Page number 17"
   ]
  },
  {
   "cell_type": "code",
   "execution_count": 73,
   "metadata": {
    "collapsed": false
   },
   "outputs": [
    {
     "name": "stdout",
     "output_type": "stream",
     "text": [
      "temperature of the plate 784.57 K\n",
      "heat transfer with sheet 19668.31 W\n",
      "heat transfer without sheet 39336.61 W\n"
     ]
    }
   ],
   "source": [
    "import math\n",
    "\n",
    "# Variable Declaration\n",
    "\n",
    "T1 = 650 # temperature from one side of the source in C\n",
    "\n",
    "T2 = 150 # temperature on other side of the surface in C\n",
    "\n",
    "sigma = 5.67 # stefan-boltzmann constant\n",
    "\n",
    "T = (((((T1+273)/100)**4 + ((T2+273)/100)**4)/2)*100**4)**(1/4)\n",
    "\n",
    "print(\"temperature of the plate\",round(T,2),\"K\")\n",
    "\n",
    "Q1 = sigma*(((T1+273)/100)**4 - (T/100)**4)\n",
    "\n",
    "print(\"heat transfer with sheet\",round(Q1,2),\"W\")\n",
    "\n",
    "Q2 = sigma*(((T1+273)/100)**4 - ((T2+273)/100)**4)\n",
    "\n",
    "print(\"heat transfer without sheet\",round(Q2,2),\"W\")"
   ]
  },
  {
   "cell_type": "markdown",
   "metadata": {},
   "source": [
    "# Problem 14 Page number 18"
   ]
  },
  {
   "cell_type": "code",
   "execution_count": 83,
   "metadata": {
    "collapsed": false
   },
   "outputs": [
    {
     "name": "stdout",
     "output_type": "stream",
     "text": [
      "COnvective heat trasnfer rate 375.0 W/m2K\n"
     ]
    }
   ],
   "source": [
    "import math\n",
    "\n",
    "# Variable Declaration\n",
    "\n",
    "Tair = 120 # temperature of air in C\n",
    "\n",
    "T1 = 42 # temperature of plate 1 in C\n",
    "\n",
    "T2 = 30 # temperature of plate 2 in C\n",
    "\n",
    "L = 0.01 # length of the slab in meters\n",
    "\n",
    "A = 1 # area in meters sq\n",
    "\n",
    "k = 22.5 # thermal conductivity in W/mK\n",
    "\n",
    "# Calculation\n",
    "\n",
    "Q = (T1-T2)/(L/(k*A))\n",
    "\n",
    "Tnew = T1+6\n",
    "\n",
    "h = Q/(A*(Tair-Tnew))\n",
    "\n",
    "print(\"COnvective heat trasnfer rate\",round(h,2),\"W/m2K\")"
   ]
  },
  {
   "cell_type": "markdown",
   "metadata": {},
   "source": [
    "# Problem 15 Page number 19"
   ]
  },
  {
   "cell_type": "code",
   "execution_count": 87,
   "metadata": {
    "collapsed": false
   },
   "outputs": [
    {
     "name": "stdout",
     "output_type": "stream",
     "text": [
      "Efficiency of the collector when temperature is 32 deg C 47.5 %\n",
      "Efficiency of the collector when temperature is 45 deg C 75.62 %\n"
     ]
    }
   ],
   "source": [
    "import math\n",
    "\n",
    "# Variable declaration\n",
    "\n",
    "T1 = 60 # temperature of the tube in C\n",
    "\n",
    "T2 = 32 # temperature of air in C\n",
    "\n",
    "h = 15 # convective heat transfer in W/m2K\n",
    "\n",
    "A = 1 # area in meters sq\n",
    "\n",
    "Qf = 800 # heat flux in W/m2\n",
    "\n",
    "Tnew = 45 # new temperature in C\n",
    "\n",
    "# Calculation\n",
    "\n",
    "Q = h*A*(T1-T2) # heat transfer in W\n",
    "\n",
    "eff = ((Qf-Q)/Qf)*100\n",
    "\n",
    "print(\"Efficiency of the collector when temperature is 32 deg C\",round(eff,2),\"%\")\n",
    "\n",
    "# Heat lost by convection when T = 45 C\n",
    "\n",
    "Q2 = h*A*(Tnew-T2) # heat transfer in W\n",
    "\n",
    "eff1 = ((Qf-Q2)/Qf)*100 \n",
    "\n",
    "print(\"Efficiency of the collector when temperature is 45 deg C\",round(eff1,2),\"%\")"
   ]
  },
  {
   "cell_type": "markdown",
   "metadata": {},
   "source": [
    "# Problem 16 Page Number 19"
   ]
  },
  {
   "cell_type": "code",
   "execution_count": 88,
   "metadata": {
    "collapsed": false
   },
   "outputs": [
    {
     "name": "stdout",
     "output_type": "stream",
     "text": [
      "Temperature of the air 428.89 C\n"
     ]
    }
   ],
   "source": [
    "import math\n",
    "\n",
    "# Variable declaration\n",
    "\n",
    "Tg = 40 # temperature of the glass plate in C\n",
    "\n",
    "dT = 5 # temperature graditent in C\n",
    "\n",
    "L = 0.001 # length in  meters\n",
    "\n",
    "k = 1.4 # conductive heat transfer coefficient in W/mK\n",
    "\n",
    "A = 1 # area in meters sq\n",
    "\n",
    "h = 18 # convective heat trasnfer coefficient in W/m2K\n",
    "\n",
    "# Calculation\n",
    "\n",
    "Q = dT/(L/(k*A))\n",
    "\n",
    "Tair = (Q/h)+ Tg\n",
    "\n",
    "print(\"Temperature of the air\",round(Tair,2),\"C\")"
   ]
  },
  {
   "cell_type": "markdown",
   "metadata": {},
   "source": [
    "# Problem 17 Page number 20"
   ]
  },
  {
   "cell_type": "code",
   "execution_count": 89,
   "metadata": {
    "collapsed": false
   },
   "outputs": [
    {
     "name": "stdout",
     "output_type": "stream",
     "text": [
      "Temperature gradient in the solid -631.58 C/m\n"
     ]
    }
   ],
   "source": [
    "import math\n",
    "\n",
    "# Variable Declaration\n",
    "\n",
    "h = 30 # Convective heat transfer coefficient in W/m2K\n",
    "\n",
    "k = 9.5 # conductive heat trasnfer coefficient in W/mK\n",
    "\n",
    "T1 = 260 # temperature of the surface in C\n",
    "\n",
    "T2 = 60 # temperature of the air in C\n",
    "\n",
    "tempgrad = (h/k)*(T2-T1)\n",
    "\n",
    "print(\"Temperature gradient in the solid\",round(tempgrad,2),\"C/m\")"
   ]
  },
  {
   "cell_type": "markdown",
   "metadata": {},
   "source": [
    "# Problem 18 Page number 20"
   ]
  },
  {
   "cell_type": "code",
   "execution_count": 90,
   "metadata": {
    "collapsed": false
   },
   "outputs": [
    {
     "name": "stdout",
     "output_type": "stream",
     "text": [
      "Steady state temperature of plate 313.33 K\n"
     ]
    }
   ],
   "source": [
    "import math\n",
    "\n",
    "# Variable Declaration\n",
    "\n",
    "A = 1 # area in meters sq\n",
    "\n",
    "h1 = 100 # convective heat transfer coeffcient in W/m2K\n",
    "\n",
    "h2 = 15 # convective heat transfer coeffcient in W/m2K\n",
    "\n",
    "# solving by trial and error we get T1 = 313.33 K\n",
    "\n",
    "T1 = 313.33 \n",
    "\n",
    "print(\"Steady state temperature of plate\",round(T1,2),\"K\")"
   ]
  },
  {
   "cell_type": "markdown",
   "metadata": {},
   "source": [
    "# Problem 19 Page number 21"
   ]
  },
  {
   "cell_type": "code",
   "execution_count": 91,
   "metadata": {
    "collapsed": false
   },
   "outputs": [
    {
     "name": "stdout",
     "output_type": "stream",
     "text": [
      "Surface temperature 674.39 K\n"
     ]
    }
   ],
   "source": [
    "import math\n",
    "\n",
    "# Variable Declaration\n",
    "\n",
    "k = -22.5 # conductive heat trasnfer coefficient in W/mK\n",
    "\n",
    "tempgrad = -500 # temperature gradient in C/m\n",
    "\n",
    "sigma = 5.67 # stefan-boltzmann constant\n",
    "\n",
    "Ts = 303 # temperatre of surroundings in K\n",
    "\n",
    "# Calculation\n",
    "\n",
    "T2 = ((((k*tempgrad)/sigma)+(Ts/100)**4)*100**4)**(1/4)\n",
    "\n",
    "print(\"Surface temperature\",round(T2,2),\"K\")\n",
    "\n",
    "\n"
   ]
  },
  {
   "cell_type": "markdown",
   "metadata": {},
   "source": [
    "# Problem 20 Page number 21"
   ]
  },
  {
   "cell_type": "code",
   "execution_count": 92,
   "metadata": {
    "collapsed": false
   },
   "outputs": [
    {
     "name": "stdout",
     "output_type": "stream",
     "text": [
      "Surface temperatrue 230.2 K\n"
     ]
    }
   ],
   "source": [
    "import math\n",
    "\n",
    "# variable declaration \n",
    "\n",
    "Hc = 2000 # heat generated in W\n",
    "\n",
    "r = 1 # radius in meters\n",
    "\n",
    "sigma = 5.67 # stefan boltzmann constant\n",
    "\n",
    "T2 = 0 # temperate of space in K\n",
    "\n",
    "# Calculation \n",
    "\n",
    "T = ((Hc/(4*3.14*r**2*sigma))*100**4)**(1/4)\n",
    "\n",
    "print(\"Surface temperatrue\",round(T,2),\"K\")"
   ]
  },
  {
   "cell_type": "markdown",
   "metadata": {},
   "source": [
    "# Problem 21 page Number 22"
   ]
  },
  {
   "cell_type": "code",
   "execution_count": 93,
   "metadata": {
    "collapsed": false
   },
   "outputs": [
    {
     "name": "stdout",
     "output_type": "stream",
     "text": [
      "Temperature drop through the wall 1.33 C\n"
     ]
    }
   ],
   "source": [
    "import math\n",
    "\n",
    "# Variable Declaration\n",
    "\n",
    "Q = 10 # heat flux in W/m2\n",
    "\n",
    "A = 1 # area in meters sq\n",
    "\n",
    "k = 1.5 # thermal cnductivity in W/mK\n",
    "\n",
    "t = 0.2 # wall thockness in m\n",
    "\n",
    "# Calculation\n",
    "\n",
    "dT = (Q*t)/(k*A)\n",
    "\n",
    "print(\"Temperature drop through the wall\",round(dT,2),\"C\")"
   ]
  },
  {
   "cell_type": "code",
   "execution_count": null,
   "metadata": {
    "collapsed": true
   },
   "outputs": [],
   "source": []
  }
 ],
 "metadata": {
  "anaconda-cloud": {},
  "kernelspec": {
   "display_name": "Python [default]",
   "language": "python",
   "name": "python3"
  },
  "language_info": {
   "codemirror_mode": {
    "name": "ipython",
    "version": 3
   },
   "file_extension": ".py",
   "mimetype": "text/x-python",
   "name": "python",
   "nbconvert_exporter": "python",
   "pygments_lexer": "ipython3",
   "version": "3.5.2"
  }
 },
 "nbformat": 4,
 "nbformat_minor": 1
}
