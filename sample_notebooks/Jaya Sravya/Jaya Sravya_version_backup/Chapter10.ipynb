{
 "metadata": {
  "name": "",
  "signature": "sha256:7afbb46d48c2bdf700c3dc220becf18da8796860629c8c3b8505b530a4a07b18"
 },
 "nbformat": 3,
 "nbformat_minor": 0,
 "worksheets": [
  {
   "cells": [
    {
     "cell_type": "heading",
     "level": 1,
     "metadata": {},
     "source": [
      "Chapter10:Rotational Mechanics"
     ]
    },
    {
     "cell_type": "heading",
     "level": 2,
     "metadata": {},
     "source": [
      "Example E1 - Pg 25"
     ]
    },
    {
     "cell_type": "code",
     "collapsed": false,
     "input": [
      "#example 10.1\n",
      "#calculation of the number of revolutions made\n",
      "#given data\n",
      "import math \n",
      "wzero=100.*2.*math.pi/60.#initial angular velocity(in rad/s) of the motor\n",
      "w=0#final angular velocity(in rad/s) of the motor\n",
      "t=15.#time interval(in s)\n",
      "\n",
      "#calculation\n",
      "alpha=(w-wzero)/t#equation of angular motion\n",
      "theta=(wzero*t)+(alpha*t*t/2.)#equation of angular motion\n",
      "\n",
      "print '%s %.2f' %(\"the number of revolutions the motor makes before coming to rest is\",theta/(2*math.pi))\n"
     ],
     "language": "python",
     "metadata": {},
     "outputs": [
      {
       "output_type": "stream",
       "stream": "stdout",
       "text": [
        "the number of revolutions the motor makes before coming to rest is 12.50\n"
       ]
      }
     ],
     "prompt_number": 1
    },
    {
     "cell_type": "heading",
     "level": 2,
     "metadata": {},
     "source": [
      "Example E1w - Pg 26"
     ]
    },
    {
     "cell_type": "code",
     "collapsed": false,
     "input": [
      "import math \n",
      "#example 10.1w\n",
      "#calculation of the number of revolutions made by the wheel \n",
      "\n",
      "#given data\n",
      "wzero=0#initial angular velocity(in rad/s) of the wheel \n",
      "alpha=2.#angular acceleration(in rad/s**2)\n",
      "t=10#time(in s) interval\n",
      "\n",
      "#calculation\n",
      "theta=(wzero*t)+(alpha*t*t/2.)#equation of angular motion\n",
      "n=round(theta/(2.*math.pi))#number of revolutions\n",
      "\n",
      "print '%s %.2f' %(\"the number of revolutions made by the wheel is\",n)\n"
     ],
     "language": "python",
     "metadata": {},
     "outputs": [
      {
       "output_type": "stream",
       "stream": "stdout",
       "text": [
        "the number of revolutions made by the wheel is 16.00\n"
       ]
      }
     ],
     "prompt_number": 2
    },
    {
     "cell_type": "heading",
     "level": 2,
     "metadata": {},
     "source": [
      "Example E2 - Pg 26"
     ]
    },
    {
     "cell_type": "code",
     "collapsed": false,
     "input": [
      "import math \n",
      "#example 10.2\n",
      "#calculation of the time taken by the fan to attain half of the maximum speed\n",
      "\n",
      "#given data\n",
      "wzero=0#initial angular velocity(in rad/s) of the fan\n",
      "w=400.*(2.*math.pi/60.)#final angular velocity(in rad/s) of the fan\n",
      "t=5#tiem(in s) taken\n",
      "\n",
      "#calculation\n",
      "alpha=(w-wzero)/t#equation of angular motion\n",
      "wdash=w/2.#half of maximum speed\n",
      "t1=(wdash-wzero)/alpha#equation of angular motion\n",
      "\n",
      "print '%s %.2f %s' %(\"the time taken by the fan to attain half of the maximum speed is\",t1,\"s\")\n"
     ],
     "language": "python",
     "metadata": {},
     "outputs": [
      {
       "output_type": "stream",
       "stream": "stdout",
       "text": [
        "the time taken by the fan to attain half of the maximum speed is 2.50 s\n"
       ]
      }
     ],
     "prompt_number": 3
    },
    {
     "cell_type": "heading",
     "level": 2,
     "metadata": {},
     "source": [
      "Example E2w - Pg 27"
     ]
    },
    {
     "cell_type": "code",
     "collapsed": false,
     "input": [
      "import math \n",
      "#example 10.2w\n",
      "#calculation of the angle rotated during the next second\n",
      "\n",
      "#given data\n",
      "theta=2.5#angular displacement(in rad) of the wheel\n",
      "t=1.#time(in s) required\n",
      "\n",
      "#calculation\n",
      "alpha=(theta*2.)/(t*t)#equation of angular motion\n",
      "theta1=(alpha*(t+1.)*(t+1.)/2.)#angle rotated during first two seconds\n",
      "thetar=theta1-theta#angle rotated during next second\n",
      "\n",
      "print '%s %.2f %s' %(\"the angle rotated during the next second is\",thetar,\"rad\\n\")\n"
     ],
     "language": "python",
     "metadata": {},
     "outputs": [
      {
       "output_type": "stream",
       "stream": "stdout",
       "text": [
        "the angle rotated during the next second is 7.50 rad\n",
        "\n"
       ]
      }
     ],
     "prompt_number": 4
    },
    {
     "cell_type": "heading",
     "level": 2,
     "metadata": {},
     "source": [
      "Example E3 - Pg 28"
     ]
    },
    {
     "cell_type": "code",
     "collapsed": false,
     "input": [
      "import math\n",
      "#example 10.3\n",
      "#calculation of the angular velocity and angular acceleration of the pulley \n",
      "\n",
      "#given data\n",
      "v=20.#linear speed(in cm/s) of the bucket\n",
      "r=10.#radius(in cm) of the pulley\n",
      "a=4.*10.**2.#linear acceleration(in cm/s**2) of the pulley\n",
      "\n",
      "#calculation\n",
      "w=v/r#formula of angular velocity\n",
      "alpha=a/r#formula of angular acceleration\n",
      "\n",
      "print '%s %.2f %s %s %.2f %s' %(\"the angular velocity of the pulley is\",w,\"rad/s\",\"and angular acceleration of the pulley is\",alpha,\"rad/s**2\")\n"
     ],
     "language": "python",
     "metadata": {},
     "outputs": [
      {
       "output_type": "stream",
       "stream": "stdout",
       "text": [
        "the angular velocity of the pulley is 2.00 rad/s and angular acceleration of the pulley is 40.00 rad/s**2\n"
       ]
      }
     ],
     "prompt_number": 5
    },
    {
     "cell_type": "heading",
     "level": 2,
     "metadata": {},
     "source": [
      "Example E3w - Pg 28"
     ]
    },
    {
     "cell_type": "code",
     "collapsed": false,
     "input": [
      "import math \n",
      "#example 10.3w\n",
      "#calculation of the torque required to stop the wheel in one minute\n",
      "\n",
      "#given data\n",
      "wzero=50.*(2.*math.pi/60.)#initial angular velocity(in rad/s) of the wheel\n",
      "w=0#final angular velocity(in rad/s) of the wheel\n",
      "t=60.#time(in s) taken to stop the wheel\n",
      "I=2.#moment of inertia(in kg-m**2) of the wheel\n",
      "\n",
      "#calculation\n",
      "alpha=(w-wzero)/t#equation of angular motion\n",
      "tau=I*abs(alpha)#torque\n",
      "\n",
      "print '%s %.2f %s' %(\"the torque required to stop the wheel in one minute is\",tau,\"N-m\")\n"
     ],
     "language": "python",
     "metadata": {},
     "outputs": [
      {
       "output_type": "stream",
       "stream": "stdout",
       "text": [
        "the torque required to stop the wheel in one minute is 0.17 N-m\n"
       ]
      }
     ],
     "prompt_number": 6
    },
    {
     "cell_type": "heading",
     "level": 2,
     "metadata": {},
     "source": [
      "Example E4w - Pg 30"
     ]
    },
    {
     "cell_type": "code",
     "collapsed": false,
     "input": [
      "import math \n",
      "#example 10.4w\n",
      "#calculation of the angular velocity of the wheel\n",
      "\n",
      "#given data\n",
      "F=20.#force(in N) of pull applied\n",
      "I=.2#moment of inertia(in kg-m**2)\n",
      "r=20.*10.**-2.#radius(in m) of the wheel\n",
      "t=5.#time(in s) interval\n",
      "wzero=0#initial angular velocity(in rad/s) of the wheel \n",
      "\n",
      "#calculation\n",
      "tau=F*r#torque applied to the wheel\n",
      "alpha=tau/I#angular acceleration\n",
      "w=wzero+(alpha*t)#equation of angular motion\n",
      "\n",
      "print '%s %.2f %s' %(\"the angular velocity of the wheel after 5 s is\",w,\"rad/s\")\n"
     ],
     "language": "python",
     "metadata": {},
     "outputs": [
      {
       "output_type": "stream",
       "stream": "stdout",
       "text": [
        "the angular velocity of the wheel after 5 s is 100.00 rad/s\n"
       ]
      }
     ],
     "prompt_number": 7
    },
    {
     "cell_type": "heading",
     "level": 2,
     "metadata": {},
     "source": [
      "Example E5 - Pg 30"
     ]
    },
    {
     "cell_type": "code",
     "collapsed": false,
     "input": [
      "import math \n",
      "#example 10.5\n",
      "#calculation of the moment of inertia of the wheel\n",
      "\n",
      "#given data\n",
      "r=10.*10.**-2.#radius(in m) of the wheel\n",
      "F=5.#force(in N) of pulling\n",
      "aplha=2.#angular acceleration(in rad/s**2) of the wheel\n",
      "\n",
      "#calculation\n",
      "tau=F*r#net torque\n",
      "I=tau/aplha#moment of inertia\n",
      "\n",
      "print '%s %.2f %s' %(\"the moment of inertia of the wheel is\",I,\"kg-m**2\")\n"
     ],
     "language": "python",
     "metadata": {},
     "outputs": [
      {
       "output_type": "stream",
       "stream": "stdout",
       "text": [
        "the moment of inertia of the wheel is 0.25 kg-m**2\n"
       ]
      }
     ],
     "prompt_number": 8
    },
    {
     "cell_type": "heading",
     "level": 2,
     "metadata": {},
     "source": [
      "Example E7w - Pg 31"
     ]
    },
    {
     "cell_type": "code",
     "collapsed": false,
     "input": [
      "import math \n",
      "#example 10.7w\n",
      "#calculation of the position of second kid on a balanced seesaw\n",
      "\n",
      "#given data\n",
      "ma=10.#mass(in kg) of kid A\n",
      "mb=15.#mass(in kg) of kid B\n",
      "l=5.#length(in m) of the seesaw\n",
      "la=(l/2.)#distance of A kid from fulcrum as he is sitting at an end\n",
      "\n",
      "#calculation\n",
      "#taking torque about fulcrum...........(mb*g*x) = (ma*g*)\n",
      "x=(ma*la)/mb\n",
      "\n",
      "print '%s %.2f %s' %(\"the second kid should sit at a distance of\",x,\"m from the centre\")\n"
     ],
     "language": "python",
     "metadata": {},
     "outputs": [
      {
       "output_type": "stream",
       "stream": "stdout",
       "text": [
        "the second kid should sit at a distance of 1.67 m from the centre\n"
       ]
      }
     ],
     "prompt_number": 9
    },
    {
     "cell_type": "heading",
     "level": 2,
     "metadata": {},
     "source": [
      "Example E8w - Pg 31"
     ]
    },
    {
     "cell_type": "code",
     "collapsed": false,
     "input": [
      "import math\n",
      "#example 10.8w\n",
      "#calculation of the normal force and the frictional force that the floor exerts on the ladder\n",
      "\n",
      "#given data\n",
      "m=10.#mass(in kg) of the ladder\n",
      "theta=53.#angle(in degree) made by the ladder against the vertical wall\n",
      "g=9.8#gravitational acceleration(in m/s**2) of the earth\n",
      "\n",
      "#calculation\n",
      "#taking horizontal and vertical components\n",
      "#N1 = f........................(1)\n",
      "#N2 = W........................(2)\n",
      "#taking torque about B\n",
      "W=m*g\n",
      "N2=W#from equation (2)\n",
      "f=(W*math.sin(theta)*57.3/2.)/(math.cos(theta)*57.3)#from equation (1)\n",
      "\n",
      "print '%s %.2f %s' %(\"the normal force that the floor exerts on the ladder is\",N2,\"N\\n\")\n",
      "print '%s %.2f %s' %(\"the frictional force that the floor exerts on the ladder is\",f,\"N\\n\")\n"
     ],
     "language": "python",
     "metadata": {},
     "outputs": [
      {
       "output_type": "stream",
       "stream": "stdout",
       "text": [
        "the normal force that the floor exerts on the ladder is 98.00 N\n",
        "\n",
        "the frictional force that the floor exerts on the ladder is -21.13 N\n",
        "\n"
       ]
      }
     ],
     "prompt_number": 10
    },
    {
     "cell_type": "heading",
     "level": 2,
     "metadata": {},
     "source": [
      "Example E9w - Pg 35"
     ]
    },
    {
     "cell_type": "code",
     "collapsed": false,
     "input": [
      "import math \n",
      "#example 10.9w\n",
      "#calculation of the contact force exerted by the floor on each leg of ladder\n",
      "\n",
      "#given data\n",
      "theta=60.#angle(in degree) between the two legs\n",
      "m=80.#mass(in kg) of the person\n",
      "g=9.8#gravitational acceleration(in m/s**2) of the earth\n",
      "\n",
      "#calculation\n",
      "N=m*g/2.\n",
      "T=(N*2.*math.tan(90-theta)*57.3)/1.\n",
      "\n",
      "print '%s %.2f %s' %(\"the contact force exerted by the floor on each leg of ladder\",N,\"N\\n\")\n",
      "print '%s %.2f %s' %(\"the tension in the crossbar is\",T,\"N\\n\")\n"
     ],
     "language": "python",
     "metadata": {},
     "outputs": [
      {
       "output_type": "stream",
       "stream": "stdout",
       "text": [
        "the contact force exerted by the floor on each leg of ladder 392.00 N\n",
        "\n",
        "the tension in the crossbar is -287747.97 N\n",
        "\n"
       ]
      }
     ],
     "prompt_number": 11
    },
    {
     "cell_type": "heading",
     "level": 2,
     "metadata": {},
     "source": [
      "Example E12 - Pg 36"
     ]
    },
    {
     "cell_type": "code",
     "collapsed": false,
     "input": [
      "import math \n",
      "#example 10.12\n",
      "#calculation of the kinetic energy of the sphere\n",
      "\n",
      "#given data\n",
      "M=200.*10.**-3.#mass(in kg) of the sphere\n",
      "vcm=2.*10.**-2.#speed(in m/s) of the sphere\n",
      "\n",
      "#calculation\n",
      "#kinetic energy is  K = (Icm*w*w/2) + (M*vcm*vcm/2)\n",
      "#taking Icm = (2*M*r*r*w*w/5) and w=vcm/r\n",
      "K=(M*vcm*vcm/5.)+(M*vcm*vcm/2.)#kinetic energy\n",
      "\n",
      "print '%s %.5f %s' %(\"the kinetic energy of the sphere is\",K,\"J\")\n"
     ],
     "language": "python",
     "metadata": {},
     "outputs": [
      {
       "output_type": "stream",
       "stream": "stdout",
       "text": [
        "the kinetic energy of the sphere is 0.00006 J\n"
       ]
      }
     ],
     "prompt_number": 12
    },
    {
     "cell_type": "heading",
     "level": 2,
     "metadata": {},
     "source": [
      "Example E13w - Pg 37"
     ]
    },
    {
     "cell_type": "code",
     "collapsed": false,
     "input": [
      "import math \n",
      "#example 10.13w\n",
      "#calculation of the kinetic energy and angular momentum of the disc\n",
      "\n",
      "#given data\n",
      "M=200.*10.**-3.#mass(in kg) of the disc\n",
      "r=4.*10.**-2.#radius(in m) of the disc\n",
      "w=10.#angular velocity(in rad/s) \n",
      "\n",
      "#calculation\n",
      "I=(M*r*r)/4.#moment of inertia\n",
      "K=(I*w*w/2.)#kinetic energy\n",
      "L=I*w#angular momentum\n",
      "\n",
      "print '%s %.2f %s' %(\"the kinetic energy of the disc is\",K,\"J\")\n",
      "print '%s %.2f %s' %(\"\\nthe angular momentum of the disc is\",L,\"J-s\\n\")\n"
     ],
     "language": "python",
     "metadata": {},
     "outputs": [
      {
       "output_type": "stream",
       "stream": "stdout",
       "text": [
        "the kinetic energy of the disc is 0.00 J\n",
        "\n",
        "the angular momentum of the disc is 0.00 J-s\n",
        "\n"
       ]
      }
     ],
     "prompt_number": 13
    },
    {
     "cell_type": "heading",
     "level": 2,
     "metadata": {},
     "source": [
      "Example E14w - Pg 38"
     ]
    },
    {
     "cell_type": "code",
     "collapsed": false,
     "input": [
      "import math\n",
      "#example 10.14w\n",
      "#calculation of the work done by the torque in first two seconds\n",
      "#given data\n",
      "wzero=20.#initial angular velocity(in rad/s) of the motor\n",
      "w=0#final angular velocity(in rad/s) of the motor\n",
      "t=4.#time(in s) taken to attain rest position\n",
      "I=.20#moment of inertia(in kg-m**2) of the disc about axis of rotation\n",
      "t1=2.#time(in s)\n",
      "\n",
      "#calculation\n",
      "alpha=(wzero-w)/t#equation of angular motion in case of deceleration\n",
      "tau=I*alpha#torque\n",
      "theta=(wzero*t1)-(alpha*t1*t1/2)#equation of angular motion\n",
      "W=tau*theta#work done by the torque\n",
      "\n",
      "print '%s %.2f %s' %(\"the work done by the torque in first two seconds is\",W,\"J\")\n"
     ],
     "language": "python",
     "metadata": {},
     "outputs": [
      {
       "output_type": "stream",
       "stream": "stdout",
       "text": [
        "the work done by the torque in first two seconds is 30.00 J\n"
       ]
      }
     ],
     "prompt_number": 14
    },
    {
     "cell_type": "heading",
     "level": 2,
     "metadata": {},
     "source": [
      "Example E19w - Pg 39"
     ]
    },
    {
     "cell_type": "code",
     "collapsed": false,
     "input": [
      "import math \n",
      "#example 10.19w\n",
      "#calculation of the moment of inertia of the system about the axis perpendicular to the rod passing through its middle point\n",
      "\n",
      "#given data\n",
      "m=1.2#mass(in kg) of the sphere\n",
      "R=10.*10.**-2.#radius(in cm) of the sphere\n",
      "sep=50.*10.**-2.#separation(in m) between the two spheres\n",
      "\n",
      "#calculation\n",
      "d=sep/2.#distance of each sphere from centre\n",
      "Icm=(2.*m*R*R)/5.#moment of inertia about diameter\n",
      "I=Icm+(m*d*d)#by parallel axis theorem,moment of inertia about given axis \n",
      "#since second sphere has same moment of inertia\n",
      "Isys=2.*I#moment of inertia of the system\n",
      "\n",
      "print '%s %.2f %s' %(\"the moment of inertia of the system about the axis perpendicular to the rod passing through its middle point is\",Isys,\"kg-m**2\")\n"
     ],
     "language": "python",
     "metadata": {},
     "outputs": [
      {
       "output_type": "stream",
       "stream": "stdout",
       "text": [
        "the moment of inertia of the system about the axis perpendicular to the rod passing through its middle point is 0.16 kg-m**2\n"
       ]
      }
     ],
     "prompt_number": 15
    },
    {
     "cell_type": "heading",
     "level": 2,
     "metadata": {},
     "source": [
      "Example E22w - Pg 42"
     ]
    },
    {
     "cell_type": "code",
     "collapsed": false,
     "input": [
      "import math\n",
      "#example 10.22w\n",
      "#calculation of the number of revolutions made by the wheel per second\n",
      "\n",
      "#given data\n",
      "p=220.*10.**-2.#perimeter(in cm) of the wheel\n",
      "v=9.*10.**3./(60.*60.)#linear speed(in m/s) of wheel on the road\n",
      "\n",
      "#calculation\n",
      "r=p/(2.*math.pi)#radius of the wheel\n",
      "w=v/r#angular speed\n",
      "n=w/(2.*math.pi)#number of revolutions\n",
      "\n",
      "print '%s %.2f %s' %(\"the number of revolutions made by the wheel per second is\",n,\"rev/s\\n\")\n"
     ],
     "language": "python",
     "metadata": {},
     "outputs": [
      {
       "output_type": "stream",
       "stream": "stdout",
       "text": [
        "the number of revolutions made by the wheel per second is 1.14 rev/s\n",
        "\n"
       ]
      }
     ],
     "prompt_number": 16
    }
   ],
   "metadata": {}
  }
 ]
}