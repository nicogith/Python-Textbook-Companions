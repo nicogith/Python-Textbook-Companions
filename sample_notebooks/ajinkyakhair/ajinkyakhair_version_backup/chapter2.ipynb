{
 "metadata": {
  "celltoolbar": "Raw Cell Format",
  "name": "",
  "signature": "sha256:4fe36e3e0da1a77ee9793bbcdad9ed8d44455b05327e70b42ad389ca8fb3e239"
 },
 "nbformat": 3,
 "nbformat_minor": 0,
 "worksheets": [
  {
   "cells": [
    {
     "cell_type": "heading",
     "level": 1,
     "metadata": {},
     "source": [
      "Chapter 2: Semiconductor Physics"
     ]
    },
    {
     "cell_type": "heading",
     "level": 2,
     "metadata": {},
     "source": [
      "Example 2.21.1,Page number 2-47"
     ]
    },
    {
     "cell_type": "code",
     "collapsed": false,
     "input": [
      "import math\n",
      "\n",
      "#Given Data:\n",
      "\n",
      "ro=1.72*10**-8                           #resistivity of Cu\n",
      "s=1/ro                                   #conductivity of Cu\n",
      "n=10.41*10**28                           #no of electron per unit volume\n",
      "e=1.6*10**-19                            #charge on electron\n",
      "\n",
      "u=s/(n*e)\n",
      "print\"mobility of electron in Cu =\",round(u,4),\"m**2/volt-sec\""
     ],
     "language": "python",
     "metadata": {},
     "outputs": [
      {
       "output_type": "stream",
       "stream": "stdout",
       "text": [
        "mobility of electron in Cu = 0.0035 m**2/volt-sec\n"
       ]
      }
     ],
     "prompt_number": 2
    },
    {
     "cell_type": "heading",
     "level": 2,
     "metadata": {},
     "source": [
      "Example 2.21.2,Page number 2-47"
     ]
    },
    {
     "cell_type": "code",
     "collapsed": false,
     "input": [
      "import math\n",
      "\n",
      "#Given Data:\n",
      "\n",
      "m=63.5                                  #atomic weight\n",
      "u=43.3                                  #mobility of electron\n",
      "e=1.6*10**-19                            #charge on electron\n",
      "N=6.02*10**23                            #Avogadro's number\n",
      "d=8.96                                   #density\n",
      "\n",
      "Ad=N*d/m                                #Atomic density\n",
      "n=1*Ad\n",
      "\n",
      "ro=1/(n*e*u)\n",
      "\n",
      "print\"Resistivity of Cu =\",\"{0:.3e}\".format(ro),\"ohm-cm\""
     ],
     "language": "python",
     "metadata": {},
     "outputs": [
      {
       "output_type": "stream",
       "stream": "stdout",
       "text": [
        "Resistivity of Cu = 1.699e-06 ohm-cm\n"
       ]
      }
     ],
     "prompt_number": 4
    },
    {
     "cell_type": "heading",
     "level": 2,
     "metadata": {},
     "source": [
      "Example 2.21.3,Page number 2-47"
     ]
    },
    {
     "cell_type": "code",
     "collapsed": false,
     "input": [
      "import math\n",
      "\n",
      "#Given Data:\n",
      "\n",
      "e=1.6*10**-19                            #charge on electron\n",
      "ne=2.5*10**19                            #density of carriers\n",
      "nh=ne                                   #for intrinsic semiconductor\n",
      "ue=0.39                                 #mobility of electron\n",
      "uh=0.19                                 #mobility of hole\n",
      "\n",
      "s=ne*e*ue+nh*e*uh                       #conductivity of Ge\n",
      "ro=1/s                                  #resistivity of Ge\n",
      "\n",
      "print\"Resistivity of Ge =\",round(ro,4),\"ohm-m\""
     ],
     "language": "python",
     "metadata": {},
     "outputs": [
      {
       "output_type": "stream",
       "stream": "stdout",
       "text": [
        "Resistivity of Ge = 0.431 ohm-m\n"
       ]
      }
     ],
     "prompt_number": 6
    },
    {
     "cell_type": "heading",
     "level": 2,
     "metadata": {},
     "source": [
      "Example 2.21.6,Page number 2-49"
     ]
    },
    {
     "cell_type": "code",
     "collapsed": false,
     "input": [
      "import math\n",
      "\n",
      "#Given Data:\n",
      "\n",
      "c=5*10**28                               #concentration of Si atoms\n",
      "e=1.6*10**-19                            #charge on electron\n",
      "u=0.048                                 #mobility of hole\n",
      "s=4.4*10**-4                             #conductivity of Si\n",
      "\n",
      "#since millionth Si atom is replaced by an indium atom\n",
      "\n",
      "n=c*10**-6\n",
      "sp=u*e*n                                #conductivity of resultant\n",
      "\n",
      "print\"conductivity =\",sp,\"mho/m\""
     ],
     "language": "python",
     "metadata": {},
     "outputs": [
      {
       "output_type": "stream",
       "stream": "stdout",
       "text": [
        "conductivity = 384.0 mho/m\n"
       ]
      }
     ],
     "prompt_number": 10
    },
    {
     "cell_type": "heading",
     "level": 2,
     "metadata": {},
     "source": [
      "Example 2.21.7,Page number 2-49"
     ]
    },
    {
     "cell_type": "code",
     "collapsed": false,
     "input": [
      "import math\n",
      "\n",
      "#Given Data:\n",
      "\n",
      "m=28.1                                  #atomic weight of Si\n",
      "e=1.6*10**-19                            #charge on electron\n",
      "N=6.02*10**26                            #Avogadro's number\n",
      "d=2.4*10**3                              #density of Si\n",
      "p=0.25                                  #resistivity\n",
      "\n",
      "#no. of Si atom/m**3\n",
      "Ad=N*d/m                                #Atomic density\n",
      "\n",
      "#impurity level is 0.01 ppm i.e. 1 atom in every 10**8 atoms of Si\n",
      "n=Ad/10**8                               #no of impurity atoms\n",
      "\n",
      "#since each impurity produce 1 hole\n",
      "nh=n\n",
      "print\"1) hole concentration =\",\"{0:.3e}\".format(n),\"holes/m**3\"\n",
      "up=1/(e*p*nh)\n",
      "print\"2) mobility =\",round(up,4),\"m**2/volt.sec\"\n"
     ],
     "language": "python",
     "metadata": {},
     "outputs": [
      {
       "output_type": "stream",
       "stream": "stdout",
       "text": [
        "1) hole concentration = 5.142e+20 holes/m**3\n",
        "2) mobility = 0.0486 m**2/volt.sec\n"
       ]
      }
     ],
     "prompt_number": 12
    },
    {
     "cell_type": "code",
     "collapsed": false,
     "input": [],
     "language": "python",
     "metadata": {},
     "outputs": []
    }
   ],
   "metadata": {}
  }
 ]
}