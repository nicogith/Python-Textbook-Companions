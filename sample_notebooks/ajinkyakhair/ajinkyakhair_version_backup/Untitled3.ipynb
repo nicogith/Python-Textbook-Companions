{
 "metadata": {
  "celltoolbar": "Raw Cell Format",
  "name": "",
  "signature": "sha256:1b9250434a66c555344f74813ca967ce998b1c86d33424d56ca71d7c748c63ce"
 },
 "nbformat": 3,
 "nbformat_minor": 0,
 "worksheets": [
  {
   "cells": [
    {
     "cell_type": "heading",
     "level": 1,
     "metadata": {},
     "source": [
      "Chapter 1: Interference"
     ]
    },
    {
     "cell_type": "heading",
     "level": 2,
     "metadata": {},
     "source": [
      "Example 1.7, Page number 1-19"
     ]
    },
    {
     "cell_type": "code",
     "collapsed": false,
     "input": [
      "import math \n",
      "#Given Data:\n",
      "i=30         #angle of incidence\n",
      "u=1.43               #Refractive index of a soap film\n",
      "lamda=6*10**-7          #wavelength of light\n",
      "n=1                  #For minimum thickness\n",
      "\n",
      "#Calculations:\n",
      "#u=sin i/sin r      #Snell's law   .So,\n",
      "r=math.degrees(math.asin(math.sin(i)/u))    #angle of reflection\n",
      "\n",
      "#Now, condition of minima in transmitted system is\n",
      "#2ut*cos(r)=(2n-1)lam/2\n",
      "t=lamda/(2*2*u*math.cos(r))      #minimum thickness of film\n",
      "print\"Minimum thickness of film is \",t,\"m\""
     ],
     "language": "python",
     "metadata": {},
     "outputs": [
      {
       "output_type": "stream",
       "stream": "stdout",
       "text": [
        "Minimum thickness of film is  1.09096619878e-07 m\n"
       ]
      }
     ],
     "prompt_number": 17
    },
    {
     "cell_type": "heading",
     "level": 2,
     "metadata": {},
     "source": [
      "Example 1.8, Page number 1-19"
     ]
    },
    {
     "cell_type": "code",
     "collapsed": false,
     "input": [
      "import math\n",
      "#Given Data:\n",
      "\n",
      "lamda = 5893*10**-10      #Wavelength of light\n",
      "theta = 1               #assuming value of theta\n",
      "\n",
      "#We know, B=lam/(2*u*theta). Here u=1\n",
      "B = lamda/(2*theta)       #fringe spacing\n",
      "n=20                  #interference fringes\n",
      "\n",
      "#Calculations:\n",
      "#t=n*B*tan(theta)\n",
      "t = 20*B*theta          #Thickness of wire\n",
      "print\"Thickness of wire is =\",t,\"m\""
     ],
     "language": "python",
     "metadata": {},
     "outputs": [
      {
       "output_type": "stream",
       "stream": "stdout",
       "text": [
        "Thickness of wire is = 5.893e-06 m\n"
       ]
      }
     ],
     "prompt_number": 18
    }
   ],
   "metadata": {}
  }
 ]
}