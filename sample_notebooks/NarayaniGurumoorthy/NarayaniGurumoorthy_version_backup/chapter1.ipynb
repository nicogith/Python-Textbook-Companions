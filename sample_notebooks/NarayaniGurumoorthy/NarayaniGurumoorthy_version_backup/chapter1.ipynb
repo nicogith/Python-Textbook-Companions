{
 "metadata": {
  "name": "",
  "signature": "sha256:6a31e38d48b33cd2883c4a445f48cd42fa9848c47c13fe5bbf0011e5bf0bde7b"
 },
 "nbformat": 3,
 "nbformat_minor": 0,
 "worksheets": [
  {
   "cells": [
    {
     "cell_type": "heading",
     "level": 1,
     "metadata": {},
     "source": [
      "Chapter 1:Simple Stresses and Strains"
     ]
    },
    {
     "cell_type": "heading",
     "level": 2,
     "metadata": {},
     "source": [
      "Problem 1.1, Page no.9"
     ]
    },
    {
     "cell_type": "code",
     "collapsed": false,
     "input": [
      "import math\n",
      "\n",
      "#Given\n",
      "#Variable declaration\n",
      "L=150           #Length of the rod in cm\n",
      "D=20            #Diameter of the rod in mm\n",
      "P=20*1000       #Axial pull in N\n",
      "E=2.0*(10**5)   #Modulus of elasticity in N/(mm**2)\n",
      "\n",
      "#Calculation\n",
      "A=(math.pi/4)*(D**2)    #Area in sq.mm\n",
      "sigma=P/A               #Stress  \n",
      "e=sigma/E               #Strain\n",
      "dL=e*L                  #Elongation\n",
      "\n",
      "#Result\n",
      "print \"sigma =\",round(sigma,3),\"N/mm^2\"\n",
      "print \"Strain,e =\",round(e,6)\n",
      "print \"Elongation,dL =\",round(dL,4),\"cm\"\n"
     ],
     "language": "python",
     "metadata": {},
     "outputs": [
      {
       "output_type": "stream",
       "stream": "stdout",
       "text": [
        "sigma = 63.662 N/mm^2\n",
        "Strain,e = 0.000318\n",
        "Elongation,dL = 0.0477 cm\n"
       ]
      }
     ],
     "prompt_number": 2
    },
    {
     "cell_type": "code",
     "collapsed": false,
     "input": [],
     "language": "python",
     "metadata": {},
     "outputs": []
    }
   ],
   "metadata": {}
  }
 ]
}