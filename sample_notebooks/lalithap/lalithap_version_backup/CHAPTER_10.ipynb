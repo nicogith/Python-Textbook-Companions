{
 "metadata": {
  "name": "",
  "signature": "sha256:3d39a49f35ba76bcb7868f57a95e89d561517d277091abd70ccf055ceb540b97"
 },
 "nbformat": 3,
 "nbformat_minor": 0,
 "worksheets": [
  {
   "cells": [
    {
     "cell_type": "heading",
     "level": 1,
     "metadata": {},
     "source": [
      "CHAPTER 10-Wireless Communication Systems\n"
     ]
    },
    {
     "cell_type": "heading",
     "level": 2,
     "metadata": {},
     "source": [
      "EXAMPLE 10.1- PG NO.351"
     ]
    },
    {
     "cell_type": "code",
     "collapsed": false,
     "input": [
      "#page 351\n",
      "BW=12.5*10.**3.\n",
      "TDR1=512.#transmission data rate\n",
      "SPef1=TDR1/BW#spectral efficiency\n",
      "\n",
      "TDR2=1200.\n",
      "SPef2=TDR2/BW\n",
      "\n",
      "TDR3=2400.\n",
      "SPef3=TDR3/BW\n",
      "print'%s %.2f' %('the spectral efficiency in bps/Hz at 512 bps transmission data rate',SPef1)\n",
      "print'%s %.3f' %('the spectral efficiency in bps/Hz at 1200 bps transmission data rate',SPef2)\n",
      "print'%s %.3f' %('the spectral efficiency in bps/Hz at 2400 bps transmission data rate',SPef3)\n"
     ],
     "language": "python",
     "metadata": {},
     "outputs": [
      {
       "output_type": "stream",
       "stream": "stdout",
       "text": [
        "the spectral efficiency in bps/Hz at 512 bps transmission data rate 0.04\n",
        "the spectral efficiency in bps/Hz at 1200 bps transmission data rate 0.096\n",
        "the spectral efficiency in bps/Hz at 2400 bps transmission data rate 0.192\n"
       ]
      }
     ],
     "prompt_number": 1
    },
    {
     "cell_type": "heading",
     "level": 2,
     "metadata": {},
     "source": [
      "EXAMPLE 10.2- PG NO.352"
     ]
    },
    {
     "cell_type": "code",
     "collapsed": false,
     "input": [
      "#page no.352\n",
      "import math\n",
      "P4dBW=-34.\n",
      "PdBm4=P4dBW-30.\n",
      "PW4=10**((PdBm4/10))\n",
      "print '%s %.10f' %('minimum power level of class IV phone in mW',PW4)\n",
      "\n",
      "ERP1dBW=6.\n",
      "PdBm1=ERP1dBW-30.\n",
      "PW1=10.**((PdBm1/10.))\n",
      "\n",
      "print '%s %.6f' %('ERP of class I phone in mW',PW1)\n",
      "R=PW1/PW4\n",
      "RdB=10.*math.log(R)\n",
      "\n",
      "print '%s %.10f %s %.10f' %('minimum power level for a class I phone is greater than \\nminimum power level of class IV phone by factor of',RdB,'dB or',R)\n",
      "\n"
     ],
     "language": "python",
     "metadata": {},
     "outputs": [
      {
       "output_type": "stream",
       "stream": "stdout",
       "text": [
        "minimum power level of class IV phone in mW 0.0000003981\n",
        "ERP of class I phone in mW 0.003981\n",
        "minimum power level for a class I phone is greater than \n",
        "minimum power level of class IV phone by factor of 92.1034037198 dB or 10000.0000000000\n"
       ]
      }
     ],
     "prompt_number": 2
    },
    {
     "cell_type": "heading",
     "level": 2,
     "metadata": {},
     "source": [
      "EXAMPLE 10.3- PG NO.353"
     ]
    },
    {
     "cell_type": "code",
     "collapsed": false,
     "input": [
      "#page no.353\n",
      "BW=25.*10.**3.#bandwidth of POCSAG=bandwidth of FLEX system\n",
      "\n",
      "TDR1=1200.# transmission data rate\n",
      "SPef1=TDR1/BW#spectral efficiency\n",
      "\n",
      "TDR2=6400.\n",
      "SPef2=TDR2/BW\n",
      "print '%s %.3f' %('the spectral efficiency in bps/Hz at 1200 bps transmission data rate in POCSAG paging system',SPef1)\n",
      "print '%s %.3f' %('the spectral efficiency in bps/Hz at 6400 bps transmission data rate in FLEX paging system',SPef2,)\n",
      "\n",
      "Cinc=TDR2/TDR1\n",
      "print '%s %.1f' %('estimating increase in capacity in times',Cinc)\n"
     ],
     "language": "python",
     "metadata": {},
     "outputs": [
      {
       "output_type": "stream",
       "stream": "stdout",
       "text": [
        "the spectral efficiency in bps/Hz at 1200 bps transmission data rate in POCSAG paging system 0.048\n",
        "the spectral efficiency in bps/Hz at 6400 bps transmission data rate in FLEX paging system 0.256\n",
        "estimating increase in capacity in times 5.3\n"
       ]
      }
     ],
     "prompt_number": 3
    },
    {
     "cell_type": "heading",
     "level": 2,
     "metadata": {},
     "source": [
      "EXAMPLE 10.6- PG NO.367"
     ]
    },
    {
     "cell_type": "code",
     "collapsed": false,
     "input": [
      "#page no.367\n",
      "Bt=12.5*10.**6.\n",
      "Bg=10.*10.**3.\n",
      "B2g=2.*Bg#Guard band on both the ends\n",
      "ABW=Bt-B2g\n",
      "Bc=30000.#channel bandwidth\n",
      "N=ABW/Bc\n",
      "print '%s %d' %('total no. of channels available in the system',N)\n"
     ],
     "language": "python",
     "metadata": {},
     "outputs": [
      {
       "output_type": "stream",
       "stream": "stdout",
       "text": [
        "total no. of channels available in the system 416\n"
       ]
      }
     ],
     "prompt_number": 4
    },
    {
     "cell_type": "heading",
     "level": 2,
     "metadata": {},
     "source": [
      "EXAMPLE 10.8- PG NO.374"
     ]
    },
    {
     "cell_type": "code",
     "collapsed": false,
     "input": [
      "#page no.374\n",
      "ERPmax1dB=6.\n",
      "ERPmax2dB=-2.\n",
      "DiffdB=ERPmax1dB-ERPmax2dB\n",
      "Diff=10.**(DiffdB/10.)\n",
      "Rfree=5.*(Diff)**(1./2.)#free space-case(a)\n",
      "Rtypc=5.*(Diff)**(1./4.)#signal attenuation is proportional to 4th power-case(b)\n",
      "print '%s %.1f' %('maximum communication range in km in a free space propogation condition-case(a)',Rfree)\n",
      "print '%s %.2f' %('maximum communication range in km when signal attenuation is proportional to 4th power-case(b)',Rtypc)\n"
     ],
     "language": "python",
     "metadata": {},
     "outputs": [
      {
       "output_type": "stream",
       "stream": "stdout",
       "text": [
        "maximum communication range in km in a free space propogation condition-case(a) 12.6\n",
        "maximum communication range in km when signal attenuation is proportional to 4th power-case(b) 7.92\n"
       ]
      }
     ],
     "prompt_number": 5
    },
    {
     "cell_type": "heading",
     "level": 2,
     "metadata": {},
     "source": [
      "EXAMPLE 10.11- PG NO.385"
     ]
    },
    {
     "cell_type": "code",
     "collapsed": false,
     "input": [
      "#page no. 385\n",
      "import math\n",
      "P4dBW=-34.\n",
      "PdBm4=P4dBW-30.\n",
      "PW4=10.**((PdBm4/10.))\n",
      "print '%s %.10f' %('minimum power level of class IV phone in mW',PW4)\n",
      "\n",
      "ERP1dBW=6.\n",
      "PdBm1=ERP1dBW-30.\n",
      "PW1=10.**((PdBm1/10.))\n",
      "\n",
      "print '%s %.6f' %('ERP of class I phone in mW',PW1)\n",
      "R=PW1/PW4\n",
      "RdB=10.*math.log(R)\n",
      "\n",
      "print '%s %.6f %s %.6f' %('minimum power level for a class I phone is greater than\\nminimum power level of class IV phone by factor of',RdB,'dB or',R)\n",
      "\n"
     ],
     "language": "python",
     "metadata": {},
     "outputs": [
      {
       "output_type": "stream",
       "stream": "stdout",
       "text": [
        "minimum power level of class IV phone in mW 0.0000003981\n",
        "ERP of class I phone in mW 0.003981\n",
        "minimum power level for a class I phone is greater than\n",
        "minimum power level of class IV phone by factor of 92.103404 dB or 10000.000000\n"
       ]
      }
     ],
     "prompt_number": 6
    },
    {
     "cell_type": "heading",
     "level": 2,
     "metadata": {},
     "source": [
      "EXAMPLE 10.12- PG NO.387"
     ]
    },
    {
     "cell_type": "code",
     "collapsed": false,
     "input": [
      "#page no.387\n",
      "spfl=810*10**6\n",
      "spfu=826*10**6\n",
      "sprl=940*10**6\n",
      "spru=956*10**6\n",
      "BWf=spfu-spfl\n",
      "BWr=spru-sprl\n",
      "\n",
      "BWc=10./100.*BWf#BWf=BWr(universal standard)\n",
      "BWv=BWf-BWc\n",
      "nsc=1150.\n",
      "BWmax=BWv/nsc\n",
      "SPef=1.68\n",
      "CDRmax=BWmax*SPef\n",
      "FECcr=0.5\n",
      "DRnmax=FECcr*CDRmax\n",
      "print '%s %.6f' %('there is a speech coder with a max. data rate of in bps',DRnmax)\n",
      "\n"
     ],
     "language": "python",
     "metadata": {},
     "outputs": [
      {
       "output_type": "stream",
       "stream": "stdout",
       "text": [
        "there is a speech coder with a max. data rate of in bps 10518.260870\n"
       ]
      }
     ],
     "prompt_number": 7
    },
    {
     "cell_type": "heading",
     "level": 2,
     "metadata": {},
     "source": [
      "EXAMPLE 10.13- PG NO.388"
     ]
    },
    {
     "cell_type": "code",
     "collapsed": false,
     "input": [
      "#page no.388\n",
      "d=40.*10.**0.\n",
      "npf=6.\n",
      "dts=d/npf#duration of a time slot of a voice frame\n",
      "nbv=1944.\n",
      "nbpts=nbv/npf#no. of bits per time slot\n",
      "db=d/nbv#duration of a bit in secs\n",
      "npg=6.\n",
      "tg=db*npg#guard time in secs\n",
      "c=3.*10.**8.\n",
      "Disrt=c*tg\n",
      "Dismx=Disrt/2.#max. distance\n",
      "print '%s %.4f' %('duration of a time slot of a voice frame in secs',dts)\n",
      "print '%s %d' %('no. of bits per time slot',nbpts)\n",
      "print '%s %.2f' %('duration of a bit in microsecs',db*1000)\n",
      "print '%s %d' %('guard time in microsecs',tg*1000)\n",
      "print '%s %.2f' %('maximum distance between a cell site and a mobile in kilometres',Dismx/1000000)\n"
     ],
     "language": "python",
     "metadata": {},
     "outputs": [
      {
       "output_type": "stream",
       "stream": "stdout",
       "text": [
        "duration of a time slot of a voice frame in secs 6.6667\n",
        "no. of bits per time slot 324\n",
        "duration of a bit in microsecs 20.58\n",
        "guard time in microsecs 123\n",
        "maximum distance between a cell site and a mobile in kilometres 18.52\n"
       ]
      }
     ],
     "prompt_number": 8
    },
    {
     "cell_type": "heading",
     "level": 2,
     "metadata": {},
     "source": [
      "EXAMPLE 10.14- PG NO.389"
     ]
    },
    {
     "cell_type": "code",
     "collapsed": false,
     "input": [
      "#page no.389\n",
      "dv=40.*10.**-3.\n",
      "nps=1./dv\n",
      "nbpv=1944.\n",
      "TGrbr=nbpv*25.\n",
      "TGrbaur=TGrbr/2.#2 bits/symbol for pi/4 qpsk mod\n",
      "CBW=30.*10.**3.\n",
      "BWef=TGrbr/CBW\n",
      "print '%s %.1f' %('total gross bit rate for the RF signal in Kbps',TGrbr/1000)\n",
      "print '%s %.1f' %('total gross baud rate for the RF signal in Kbps',TGrbaur/1000)\n",
      "print '%s %.1f' %('bandwidth efficiency in bps/Hz',BWef)\n"
     ],
     "language": "python",
     "metadata": {},
     "outputs": [
      {
       "output_type": "stream",
       "stream": "stdout",
       "text": [
        "total gross bit rate for the RF signal in Kbps 48.6\n",
        "total gross baud rate for the RF signal in Kbps 24.3\n",
        "bandwidth efficiency in bps/Hz 1.6\n"
       ]
      }
     ],
     "prompt_number": 9
    },
    {
     "cell_type": "heading",
     "level": 2,
     "metadata": {},
     "source": [
      "EXAMPLE 10.15- PG NO.391"
     ]
    },
    {
     "cell_type": "code",
     "collapsed": false,
     "input": [
      "#PAGE NO.391\n",
      "Bt=12.5*10.**6.\n",
      "Bc=30.*10.**3.\n",
      "K=7.#frequency reuse factor\n",
      "N=Bt/Bc#total no. of available channels\n",
      "M=N*(1./K)#user capacity per cell \n",
      "\n",
      "Nu=3.#no. of users/channel\n",
      "NU=N*Nu\n",
      "K1=4.\n",
      "M1=NU*(1./K1)\n",
      "\n",
      "print '%s %d' %('capacity of 1G AMPS FDMA analog cellular system in users/cell',M)\n",
      "print '%s %d' %('capacity of 2G IS-136 TDMA digital cellular system in users/cell',M1)\n"
     ],
     "language": "python",
     "metadata": {},
     "outputs": [
      {
       "output_type": "stream",
       "stream": "stdout",
       "text": [
        "capacity of 1G AMPS FDMA analog cellular system in users/cell 59\n",
        "capacity of 2G IS-136 TDMA digital cellular system in users/cell 312\n"
       ]
      }
     ],
     "prompt_number": 10
    }
   ],
   "metadata": {}
  }
 ]
}