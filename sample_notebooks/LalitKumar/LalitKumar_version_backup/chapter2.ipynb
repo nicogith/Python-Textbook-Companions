{
 "metadata": {
  "name": "",
  "signature": ""
 },
 "nbformat": 3,
 "nbformat_minor": 0,
 "worksheets": [
  {
   "cells": [
    {
     "cell_type": "heading",
     "level": 1,
     "metadata": {},
     "source": [
      "Chapter2 : Atomic model & bonding in solids"
     ]
    },
    {
     "cell_type": "heading",
     "level": 2,
     "metadata": {},
     "source": [
      "example-2.1, page no-28"
     ]
    },
    {
     "cell_type": "code",
     "collapsed": false,
     "input": [
      "import math\n",
      "#given\n",
      "#atomic no. of gold\n",
      "Z=79\n",
      "#kinetic energy of alpha particle\n",
      "E=7.68*1.6*(10)**(-13)  #J because [1MeV=1.6*(10)**(-13)]\n",
      "e=1.6*10**(-19)  #C\n",
      "E0=8.854*10**(-12)  #F/m\n",
      "#the distance of closest approach is given by:\n",
      "d0=2*e*Z*e/(4*(math.pi)*E0*E)  #m\n",
      "print \"The closest approach of alpha particle is %.2ef m\" %d0"
     ],
     "language": "python",
     "metadata": {},
     "outputs": [
      {
       "output_type": "stream",
       "stream": "stdout",
       "text": [
        "The closest approach of alpha particle is 2.96e-14f m\n"
       ]
      }
     ],
     "prompt_number": 6
    },
    {
     "cell_type": "heading",
     "level": 2,
     "metadata": {},
     "source": [
      "example-2.2, page no-29"
     ]
    },
    {
     "cell_type": "code",
     "collapsed": false,
     "input": [
      "from math import *\n",
      "from numpy import *\n",
      "#given\n",
      "#IN THE RUTHERFORD SCATTERING EXPERIMENT\n",
      "#the no of particles scattered at\n",
      "theta1=(pi)/2  #radians\n",
      "#is\n",
      "N90=44  #per minute\n",
      "#the number of particles scattered particales N is given by\n",
      "#N=C*(1/(sin(theta/2))**4)  where C is propotionality constant\n",
      "#solving above equation for C\n",
      "C=N90*(sin(theta1/2))**4  \n",
      "# now to find the no of particles scatering at 75 and 135 degrees\n",
      "theta2=75*(pi)/180  #radians\n",
      "N75=C*(1/(sin(theta2/2))**4)  #per minute\n",
      "theta3=135*(pi)/180  #radians\n",
      "N135=C*(1/(sin(theta3/2))**4)  #per minute\n",
      "print \"The no of particles scattered at 75 and 135 degrees are %d per minute and %d per minutes\" %(N75,N135)"
     ],
     "language": "python",
     "metadata": {},
     "outputs": [
      {
       "output_type": "stream",
       "stream": "stdout",
       "text": [
        "The no of particles scattered at 75 and 135 degrees are 80 per minute and 15 per minutes\n"
       ]
      }
     ],
     "prompt_number": 8
    },
    {
     "cell_type": "heading",
     "level": 2,
     "metadata": {},
     "source": [
      "example-2.3, page no-32"
     ]
    },
    {
     "cell_type": "code",
     "collapsed": false,
     "input": [
      "#given\n",
      "#mass of electron\n",
      "m=9.11*10**(-31)  #kg\n",
      "#charge on an electron\n",
      "e=1.6*10**(-19)  #C\n",
      "#plank's constant\n",
      "h=6.62*10**(-34)\n",
      "E0=8.85*10**(-12) \n",
      "#NO OF ELECTRONS SHELLS IN HYDROZEN ATOm\n",
      "n=1\n",
      "#atomic number of hydrogen\n",
      "Z=1\n",
      "#radius of first orbit of hydrogen is given by\n",
      "r1=n**2*E0*h**2/((pi)*m*Z*e**2)  #m\n",
      "print \"The radius of the first orbit of the electron in the hydrogen atom %.2e\"%(r1)"
     ],
     "language": "python",
     "metadata": {},
     "outputs": [
      {
       "output_type": "stream",
       "stream": "stdout",
       "text": [
        "The radius of the first orbit of the electron in the hydrogen atom 5.29e-11\n"
       ]
      }
     ],
     "prompt_number": 10
    },
    {
     "cell_type": "heading",
     "level": 2,
     "metadata": {},
     "source": [
      "example-2.4, page no-32"
     ]
    },
    {
     "cell_type": "code",
     "collapsed": false,
     "input": [
      "#given\n",
      "#mass of electron\n",
      "m=9.11*10**(-31)  #kg\n",
      "#charge on an electron\n",
      "e=1.6*10**(-19)  #C\n",
      "#plank's constant\n",
      "h=6.62*10**(-34)\n",
      "E0=8.85*10**(-12) \n",
      "#NO OF ELECTRONS SHELLS IN HYDROZEN ATOm\n",
      "n=1\n",
      "#atomic number of hydrogen\n",
      "Z=1\n",
      "#ionization potential energy of hydrogen atom is given by\n",
      "E=m*Z**2*e**4/(8*(E0)**2*h**2*n**2)  #J\n",
      "#energy in eV\n",
      "EV=E/e  #eV\n",
      "print \"The ionization potential for hydrogen atom is %0.2f V\" %(EV)"
     ],
     "language": "python",
     "metadata": {},
     "outputs": [
      {
       "output_type": "stream",
       "stream": "stdout",
       "text": [
        "The ionization potential for hydrogen atom is 13.59 V\n"
       ]
      }
     ],
     "prompt_number": 13
    },
    {
     "cell_type": "heading",
     "level": 2,
     "metadata": {},
     "source": [
      "example-2.5, page no-34"
     ]
    },
    {
     "cell_type": "heading",
     "level": 2,
     "metadata": {},
     "source": [
      "example-2.6, page no-36"
     ]
    },
    {
     "cell_type": "code",
     "collapsed": false,
     "input": [
      "#given\n",
      "#uncertainity in the momentum\n",
      "deltap=10**-27  #kg ms**-1\n",
      "#according to uncertainity principle\n",
      "#deltap* deltax >=h/(2*(pi))\n",
      "#we know that \n",
      "h=6.626*10**-34  #Js\n",
      "#here instead of inequality we are using only equality just for notation otherwise it is greater than equal to as mentioned above\n",
      "#now deltax is given by\n",
      "deltax=h/(2*(pi)*deltap)  #m\n",
      "print \"The minimum uncertainity is %.2e m\"%(deltax)"
     ],
     "language": "python",
     "metadata": {},
     "outputs": [
      {
       "output_type": "stream",
       "stream": "stdout",
       "text": [
        "The minimum uncertainity is 1.05e-07 m\n"
       ]
      }
     ],
     "prompt_number": 18
    },
    {
     "cell_type": "heading",
     "level": 2,
     "metadata": {},
     "source": [
      "example-2.10, page no- 57"
     ]
    },
    {
     "cell_type": "code",
     "collapsed": false,
     "input": [
      "#given\n",
      "#ionization potential of hydrogen\n",
      "E1=13.6  #eV\n",
      "#when \n",
      "n=3\n",
      "E3=-E1/n**2  #eV\n",
      "#when \n",
      "n=5\n",
      "E5=-E1/n**2  #eV\n",
      "print \"Energy of 3rd and 5th orbits are %0.2f eV and %0.2f eV\"%(E3,E5)"
     ],
     "language": "python",
     "metadata": {},
     "outputs": [
      {
       "output_type": "stream",
       "stream": "stdout",
       "text": [
        "Energy of 3rd and 5th orbits are -1.51 eV and -0.54 eV\n"
       ]
      }
     ],
     "prompt_number": 21
    },
    {
     "cell_type": "heading",
     "level": 2,
     "metadata": {},
     "source": [
      "example-2.11, page no-59"
     ]
    },
    {
     "cell_type": "code",
     "collapsed": false,
     "input": [
      "#given\n",
      "#dipole moment og HF is\n",
      "DM=6.375*10**(-30)  #Cm\n",
      "#intermolecular distance\n",
      "r=0.9178*10**(-10)  #m\n",
      "#charge on an electron\n",
      "e=1.67*10**(-19)  #C\n",
      "#since the HF posses ionic characters\n",
      "#so\n",
      "#Hf in fully ionic state has dipole moment as\n",
      "DM2=r*e  #Cm\n",
      "#percentage ionic characters\n",
      "percentage=DM/DM2*100  #%\n",
      "print \"The percentage ionic character is %0.2f approx.\"%(percentage)"
     ],
     "language": "python",
     "metadata": {},
     "outputs": [
      {
       "output_type": "stream",
       "stream": "stdout",
       "text": [
        "The percentage ionic character is 41.59 approx.\n"
       ]
      }
     ],
     "prompt_number": 23
    },
    {
     "cell_type": "heading",
     "level": 2,
     "metadata": {},
     "source": [
      "example-2.12, page no-60"
     ]
    },
    {
     "cell_type": "code",
     "collapsed": false,
     "input": [
      "#given\n",
      "#elctronegativity of In\n",
      "EnIn=1.5\n",
      "#elctronegativity of As\n",
      "EnAs=2.2\n",
      "#elctronegativity of Ga\n",
      "EnGa=1.8\n",
      "#for InAs\n",
      "ionic_charater1=(1-exp((-0.25)*(EnAs-EnIn)**2))*100  #in %\n",
      "#for GaAs\n",
      "ionic_charater2=(1-exp((-0.25)*(EnAs-EnGa)**2))*100  # in %\n",
      "print \"Ionic character in InAs and GaAs are %0.1f %% and %0.1f %%\"%(ionic_charater1,ionic_charater2)"
     ],
     "language": "python",
     "metadata": {},
     "outputs": [
      {
       "output_type": "stream",
       "stream": "stdout",
       "text": [
        "Ionic character in InAs and GaAs are 11.5 % and 3.9 %\n"
       ]
      }
     ],
     "prompt_number": 30
    }
   ],
   "metadata": {}
  }
 ]
}
