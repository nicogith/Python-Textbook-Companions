{
 "metadata": {
  "name": "",
  "signature": ""
 },
 "nbformat": 3,
 "nbformat_minor": 0,
 "worksheets": [
  {
   "cells": [
    {
     "cell_type": "heading",
     "level": 1,
     "metadata": {},
     "source": [
      "Chapter1 : Introduction"
     ]
    },
    {
     "cell_type": "heading",
     "level": 2,
     "metadata": {},
     "source": [
      "exa 1.1 : 25"
     ]
    },
    {
     "cell_type": "code",
     "collapsed": false,
     "input": [
      "from __future__ import division\n",
      "from numpy import *\n",
      "B=100 #W(8Bulb)\n",
      "F=60 #W(2Fan)\n",
      "L=100 #W(2Light)\n",
      "LoadConnected=8*B+2*F+2*L #W\n",
      "print \"(a) Connected Load =\",LoadConnected,\"W\"\n",
      "#12 midnight to 5am\n",
      "demand1=1*F #W\n",
      "#5am to 7am\n",
      "demand2=2*F+1*L #W\n",
      "#7am to 9am\n",
      "demand3=0 #W\n",
      "#9am to 6pm\n",
      "demand4=2*F #W\n",
      "#6pm to midnight\n",
      "demand5=2*F+4*B #W\n",
      "DEMAND=array([demand1, demand2, demand3, demand4, demand5])\n",
      "max_demand=max(DEMAND) \n",
      "print \"(b) Maximum demand =\",max_demand,\"W\" \n",
      "df=max_demand/LoadConnected #demand factor\n",
      "print \"(c) Demand factor =\",df \n",
      "E=demand1*5+demand2*2+demand3*2+demand4*9+demand5*6 #Wh\n",
      "E=E/1000 #kWh\n",
      "print \"(d) Energy consumed during 24 hours =\",E,\"kWh \"\n",
      "Edash=LoadConnected*24/1000 #kWh\n",
      "print \"(e) Energy consumed during 24 hours if all devices are used =\",Edash,\"kWh\""
     ],
     "language": "python",
     "metadata": {},
     "outputs": [
      {
       "output_type": "stream",
       "stream": "stdout",
       "text": [
        "(a) Connected Load = 1120 W\n",
        "(b) Maximum demand = 520 W\n",
        "(c) Demand factor = 0.464285714286\n",
        "(d) Energy consumed during 24 hours = 4.94 kWh \n",
        "(e) Energy consumed during 24 hours if all devices are used = 26.88 kWh\n"
       ]
      }
     ],
     "prompt_number": 31
    },
    {
     "cell_type": "heading",
     "level": 2,
     "metadata": {},
     "source": [
      "exa 1.2 : page 26"
     ]
    },
    {
     "cell_type": "code",
     "collapsed": false,
     "input": [
      "LoadA=2.5*1000 #W\n",
      "#12 midnight to 5am\n",
      "d1A=100 #W\n",
      "#5am to 6am\n",
      "d2A=1.1*1000 #W\n",
      "#6am to 8am\n",
      "d3A=200 #W\n",
      "#8am to 5pm\n",
      "d4A=0 #W\n",
      "#5pm to 12 midnight\n",
      "d5A=500 #W\n",
      "LoadB=3*1000 #W\n",
      "#11 pm to 7am\n",
      "d1B=0 #W\n",
      "#7 am to 8 am\n",
      "d2B=300 #W\n",
      "#8 am to 10 am\n",
      "d3B=1*1000 #W\n",
      "#10 am to 6 pm\n",
      "d4B=200 #W\n",
      "#6 pm to 11 pm\n",
      "d5B=600 #W\n",
      "DEMAND_A=array([d1A, d2A, d3A, d4A, d5A]) #W\n",
      "DEMAND_B=array([d1B, d2B, d3B, d4B, d5B]) #W\n",
      "max_demand_A=max(DEMAND_A) #W\n",
      "max_demand_B=max(DEMAND_B) #W\n",
      "df_A=max_demand_A/LoadA #demand factor\n",
      "df_B=max_demand_B/LoadB #demand factor\n",
      "print \"Demand factor of consumer A & B are :\",round(df_A,2),\"&\",round(df_B ,2)\n",
      "gd_factor=(max_demand_A+max_demand_B)/max_demand_A \n",
      "print \"Group diversity factor :\",round(gd_factor,2)\n",
      "E_A=d1A*5+d2A*1+d3A*2+d4A*9+d5A*7 #Wh\n",
      "E_B=d1B*8+d2B*1+d3B*2+d4B*8+d5B*5 #Wh\n",
      "E_A=E_A/1000 #kWh\n",
      "E_B=E_B/1000 #kWh\n",
      "print \"Energy consumed by A & B during 24 hours =\",E_A,\"&\",E_B,\"kWh\"\n",
      "Emax_A=max_demand_A*24/1000 #kWh\n",
      "Emax_B=max_demand_B*24/1000 #kWh\n",
      "print \"Maximum energy consumer A & B can consume during 24 hours =\",Emax_B,Emax_A,\"kWh \"\n",
      "ratio_A=E_A/Emax_A \n",
      "ratio_B=E_B/Emax_B \n",
      "print \"Ratio of actual energy to maximum energy of consumer A & B :\",round(ratio_A,2),\"&\",round(ratio_B,2)"
     ],
     "language": "python",
     "metadata": {},
     "outputs": [
      {
       "output_type": "stream",
       "stream": "stdout",
       "text": [
        "Demand factor of consumer A & B are : 0.44 & 0.33\n",
        "Group diversity factor : 1.91\n",
        "Energy consumed by A & B during 24 hours = 5.5 & 6.9 kWh\n",
        "Maximum energy consumer A & B can consume during 24 hours = 24.0 26.4 kWh \n",
        "Ratio of actual energy to maximum energy of consumer A & B : 0.21 & 0.29\n"
       ]
      }
     ],
     "prompt_number": 32
    },
    {
     "cell_type": "heading",
     "level": 2,
     "metadata": {},
     "source": [
      "exa 1.3 : page 31"
     ]
    },
    {
     "cell_type": "code",
     "collapsed": false,
     "input": [
      "n1=600 #No. of apartments\n",
      "L1=5 #kW#Each Apartment Load\n",
      "n2=20 #No. of general purpose shops\n",
      "L2=2 #kW#Each Shop Load\n",
      "df=0.8 #demand factor\n",
      "#1 Floor mill\n",
      "L3=10 #kW#Load\n",
      "df3=0.7 #demand factor\n",
      "#1 Saw mill\n",
      "L4=5 #kW#Load\n",
      "df4=0.8 #demand factor\n",
      "#1 Laundry\n",
      "L5=20 #kW#Load\n",
      "df5=0.65 #demand factor\n",
      "#1 Cinema\n",
      "L6=80 #kW#Load\n",
      "df6=0.5 #demand factor\n",
      "#Street lights\n",
      "n7=200 #no. of tube lights\n",
      "L7=40 #W#Load of each light\n",
      "#Residential Load\n",
      "df8=0.5 #demand factor\n",
      "gdf_r=3 #group diversity factor\n",
      "pdf_r=1.25 #peak diversity factor\n",
      "#Commertial Load\n",
      "gdf_c=2 #group diversity factor\n",
      "pdf_c=1.6 #peak diversity factor\n",
      "#Solution :\n",
      "#Maximum demand of each apartment\n",
      "dmax_1a=L1*df8 #kW\n",
      "#Maximum demand of 600 apartment\n",
      "dmax_a=n1*dmax_1a/gdf_r #kW\n",
      "#demand of apartments at system peak time\n",
      "d_a_sp=dmax_a/pdf_r #kW\n",
      "#Maximum Commercial demand\n",
      "dmax_c=(n2*L2*df+L3*df3+L4*df4+L5*df5+L6*df6)/gdf_c #kW\n",
      "#Commercial demand at system peak time\n",
      "d_c_sp=dmax_c/pdf_c #kW\n",
      "#demand of street light at system peak time\n",
      "d_sl_sp=n7*L7/1000 #kW\n",
      "#Increase in system peak demand\n",
      "DI=d_a_sp+d_c_sp+d_sl_sp #kW\n",
      "print \"Increase in system peak demand =\",DI,\"kW \" "
     ],
     "language": "python",
     "metadata": {},
     "outputs": [
      {
       "output_type": "stream",
       "stream": "stdout",
       "text": [
        "Increase in system peak demand = 438.0 kW \n"
       ]
      }
     ],
     "prompt_number": 33
    },
    {
     "cell_type": "heading",
     "level": 2,
     "metadata": {},
     "source": [
      "exa 1.4 : page 35"
     ]
    },
    {
     "cell_type": "code",
     "collapsed": false,
     "input": [
      "#12 to 5 am\n",
      "L1=20 #MW\n",
      "t1=5 #hours\n",
      "#5 to 9 am\n",
      "L2=40 #MW\n",
      "t2=4 #hours\n",
      "#9 to 6 pm\n",
      "L3=80 #MW\n",
      "t3=9 #hours\n",
      "#6 to 10 pm\n",
      "L4=100 #MW\n",
      "t4=4 #hours\n",
      "#10 to 12 am\n",
      "L5=20 #MW\n",
      "t5=2 #hours\n",
      "#Energy Poduced in 24 hours\n",
      "E=L1*t1+L2*t2+L3*t3+L4*t4+L5*t5 #MWh\n",
      "print \"Energy Supplied by the plant in 24 hours =\",E,\"MWh \" \n",
      "LF=E/24 #%#Load Factor\n",
      "print \"Load Factor =\",round(LF,2),\"% \" "
     ],
     "language": "python",
     "metadata": {},
     "outputs": [
      {
       "output_type": "stream",
       "stream": "stdout",
       "text": [
        "Energy Supplied by the plant in 24 hours = 1420 MWh \n",
        "Load Factor = 59.17 % \n"
       ]
      }
     ],
     "prompt_number": 34
    },
    {
     "cell_type": "heading",
     "level": 2,
     "metadata": {},
     "source": [
      "exa 1.5 : page 39"
     ]
    },
    {
     "cell_type": "code",
     "collapsed": false,
     "input": [
      "C=125 #MW#Installed Capacity\n",
      "#12 to 5 am\n",
      "L1=20 #MW\n",
      "t1=5 #hours\n",
      "#5 to 9 am\n",
      "L2=40 #MW\n",
      "t2=4 #hours\n",
      "#9 to 6 pm\n",
      "L3=80 #MW\n",
      "t3=9 #hours\n",
      "#6 to 10 pm\n",
      "L4=100 #MW\n",
      "t4=4 #hours\n",
      "#10 to 12 am\n",
      "L5=20 #MW\n",
      "t5=2 #hours\n",
      "#Energy Poduced in 24 hours\n",
      "E=L1*t1+L2*t2+L3*t3+L4*t4+L5*t5 #MWh\n",
      "LF=E/24 #%#Load Factor\n",
      "CF=LF/C #%#Capacity Factor\n",
      "print \"Capacity Factor =\",round(CF,2),\"% \" \n",
      "UF=100/C #%#Utilisation Factor\n",
      "print \"Utilisation Factor =\",UF,\"% \" "
     ],
     "language": "python",
     "metadata": {},
     "outputs": [
      {
       "output_type": "stream",
       "stream": "stdout",
       "text": [
        "Capacity Factor = 0.47 % \n",
        "Utilisation Factor = 0.8 % \n"
       ]
      }
     ],
     "prompt_number": 35
    },
    {
     "cell_type": "heading",
     "level": 2,
     "metadata": {},
     "source": [
      "exa 1.6 : page 40"
     ]
    },
    {
     "cell_type": "code",
     "collapsed": false,
     "input": [
      "#12 to 5 am & 10 to 12 am\n",
      "L1=20 #MW\n",
      "E1=L1*24 #MWh\n",
      "#5 to 9 am\n",
      "L2=40 #MW\n",
      "E2=E1+(L2-L1)*17 #MWh\n",
      "#9 to 6 pm\n",
      "L3=80 #MW\n",
      "E3=E2+(L3-L2)*13 #MWh\n",
      "#6 to 10 pm\n",
      "L4=100 #MW\n",
      "E4=E3+(L4-L3)*4 #MWh\n",
      "#Plotting Energy load curve\n",
      "%matplotlib inline\n",
      "from matplotlib.pyplot import *\n",
      "L=array([0,L1,L2,L3,L4]) #MW\n",
      "E=array([0,E1,E2,E3,E4]) #Mwh\n",
      "subplot(3,1,1)\n",
      "plot(E,L)\n",
      "xlabel('Energy(MWh)') \n",
      "ylabel('Load(MW)') \n",
      "title('Energy Load Curve') \n",
      "#Energy Supplied\n",
      "#Upto 5am\n",
      "t1=5 #hours\n",
      "E1=L1*t1 #MWh\n",
      "#Upto 9am\n",
      "t2=4 #hours\n",
      "E2=E1+L2*t2 #MWh\n",
      "#Upto 6pm\n",
      "t3=9 #hours\n",
      "E3=E2+L3*t3 #MWh\n",
      "#Upto 10pm\n",
      "t4=4 #hours\n",
      "E4=E3+L4*t4 #MWh\n",
      "#Upto 12pm\n",
      "t4=2 #hours\n",
      "E4=E3+L4*t4 #MWh\n",
      "#Plotting Mass curve\n",
      "T=[0,1,2,3,4] #MW\n",
      "E=[0,E1,E2,E3,E4] #Mwh\n",
      "subplot(3,1,3)\n",
      "plot(T,E)\n",
      "ylabel('Energy(MWh)') \n",
      "xlabel('0-1: 12-5am 1-2: 5-9am 2-3: 9-6pm 3-4: 6-10pm above4: 10-12pm') \n",
      "title('Mass Curve') \n",
      "show()"
     ],
     "language": "python",
     "metadata": {},
     "outputs": [
      {
       "metadata": {},
       "output_type": "display_data",
       "png": "[encoded data removed]",
       "text": [
        "<matplotlib.figure.Figure at 0x7fbc05b82a10>"
       ]
      }
     ],
     "prompt_number": 36
    },
    {
     "cell_type": "heading",
     "level": 2,
     "metadata": {},
     "source": [
      "exa 1.7 : page 45"
     ]
    },
    {
     "cell_type": "code",
     "collapsed": false,
     "input": [
      "dmax=40 #MW#Maximum demand\n",
      "CF=0.5 #Capacity Factor\n",
      "UF=0.8 #Utilisation Factor\n",
      "LF=CF/UF #/Load Factor\n",
      "print \"(a) Load Factor =\",LF \n",
      "C=dmax/UF #MW#Plant Capacity\n",
      "print \"(b) Plant Capacity =\",C,\"MW \" \n",
      "RC=C-dmax #MW#Reserve Capacity\n",
      "print \"(c) Reserve Capacity =\",RC,\"MW \" \n",
      "p=dmax*LF*24*365 #MWh#Annual Energy Production\n",
      "print \"(d) Annual Energy Production =\",p,\"MWh\" "
     ],
     "language": "python",
     "metadata": {},
     "outputs": [
      {
       "output_type": "stream",
       "stream": "stdout",
       "text": [
        "(a) Load Factor = 0.625\n",
        "(b) Plant Capacity = 50.0 MW \n",
        "(c) Reserve Capacity = 10.0 MW \n",
        "(d) Annual Energy Production = 219000.0 MWh\n"
       ]
      }
     ],
     "prompt_number": 37
    },
    {
     "cell_type": "heading",
     "level": 2,
     "metadata": {},
     "source": [
      "exa 1.8 : page 52"
     ]
    },
    {
     "cell_type": "code",
     "collapsed": false,
     "input": [
      "L1=50 #MW#Initial\n",
      "t1=5 #hours\n",
      "L2=50 #MW#5am\n",
      "t2=4 #hours\n",
      "L3=100 #MW#9am\n",
      "t3=9 #hours\n",
      "L4=100 #MW#6pm\n",
      "t4=2 #hours\n",
      "L5=150 #MW#8pm\n",
      "t5=2 #hours\n",
      "L6=80 #MW#10pm\n",
      "t6=2 #hours\n",
      "L7=50 #MW\n",
      "#Energy Required in 24 hours\n",
      "E=L1*t1+(L2+L3)/2*t2+(L3+L4)/2*t3+(L4+L5)/2*t4+(L5+L6)/2*t5+(L6+L1)/2*t6 #MWh\n",
      "print \"Energy required in one day =\",E,\"MWh\" \n",
      "DLF=E/L5/24*100 #%#Daily Load Factor\n",
      "print \"Daily Load Factor =\",round(DLF,2),\"%\" \n",
      "#Plotting load curve\n",
      "% matplotlib inline\n",
      "T=arange(0,7,1) #Slots\n",
      "L=array([L1,L2,L3,L4,L5,L6,L7]) #MW\n",
      "plot(T,L)\n",
      "ylabel('Load(MW)') \n",
      "xlabel('0-1: 12-5am 1-2: 5-9am 2-3: 9-6pm 3-4: 6-8pm 4-5:8-10pm 5-6 :10-12pm') \n",
      "title('Chronological Load Curve') \n",
      "show()"
     ],
     "language": "python",
     "metadata": {},
     "outputs": [
      {
       "output_type": "stream",
       "stream": "stdout",
       "text": [
        "Energy required in one day = 2060.0 MWh\n",
        "Daily Load Factor = 57.22 %\n"
       ]
      },
      {
       "metadata": {},
       "output_type": "display_data",
       "png": "[encoded data removed]",
       "text": [
        "<matplotlib.figure.Figure at 0x7fbc0577c050>"
       ]
      }
     ],
     "prompt_number": 38
    },
    {
     "cell_type": "heading",
     "level": 2,
     "metadata": {},
     "source": [
      "exa 1.9 : page 55"
     ]
    },
    {
     "cell_type": "code",
     "collapsed": false,
     "input": [
      "L1=50 #MW#Initial\n",
      "t1=5 #hours\n",
      "L2=50 #MW#5am\n",
      "t2=4 #hours\n",
      "L3=100 #MW#9am\n",
      "t3=9 #hours\n",
      "L4=100 #MW#6pm\n",
      "t4=2 #hours\n",
      "L5=150 #MW#8pm\n",
      "t5=2 #hours\n",
      "L6=80 #MW#10pm\n",
      "t6=2 #hours\n",
      "L7=50 #MW\n",
      "#Load Duration Curve\n",
      "l1=L5 #Mw\n",
      "l2=L4 #MW\n",
      "l3=L1 #MW\n",
      "L=array([l1,l2,l2,l3,l3])\n",
      "T=arange(0,30,6) #Duration in hours\n",
      "subplot(3,1,1)\n",
      "plot(T,L)\n",
      "ylabel('Load(MW)') \n",
      "xlabel('Hours') \n",
      "title('Load Duration Curve') \n",
      "#Energy Consumed\n",
      "#Upto 5am\n",
      "t1=5 #hours\n",
      "E1=L1*t1 #MWh\n",
      "#Upto 9am\n",
      "t2=4 #hours\n",
      "E2=E1+L2*t2 #MWh\n",
      "#Upto 6pm\n",
      "t3=9 #hours\n",
      "E3=E2+L3*t3 #MWh\n",
      "#Upto 10pm\n",
      "t4=4 #hours\n",
      "E4=E3+L4*t4 #MWh\n",
      "#Upto 12pm\n",
      "t4=2 #hours\n",
      "E4=E3+L4*t4 #MWh\n",
      "#Plotting Mass curve\n",
      "T=arange(0,5,1) #MW\n",
      "E=[0,E1,E2,E3,E4] #Mwh\n",
      "subplot(3,1,3)\n",
      "plot(T,E)\n",
      "ylabel('Energy(MWh)') \n",
      "xlabel('0-1: 12-5am 1-2: 5-9am 2-3: 9-6pm 3-4: 6-10pm above4: 10-12pm') \n",
      "title('Mass Curve') \n",
      "show()"
     ],
     "language": "python",
     "metadata": {},
     "outputs": [
      {
       "metadata": {},
       "output_type": "display_data",
       "png": "[encoded data removed]",
       "text": [
        "<matplotlib.figure.Figure at 0x7fbc0576d9d0>"
       ]
      }
     ],
     "prompt_number": 39
    }
   ],
   "metadata": {}
  }
 ]
}
