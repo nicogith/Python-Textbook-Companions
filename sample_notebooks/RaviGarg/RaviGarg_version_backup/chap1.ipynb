{
 "metadata": {
  "name": "",
  "signature": "sha256:1a5424f1a289fa2ea02065679fbda8bfa43c7eec69070520139086e97a973104"
 },
 "nbformat": 3,
 "nbformat_minor": 0,
 "worksheets": [
  {
   "cells": [
    {
     "cell_type": "heading",
     "level": 1,
     "metadata": {},
     "source": [
      "Chapter 1 Coulombs Law"
     ]
    },
    {
     "cell_type": "heading",
     "level": 2,
     "metadata": {},
     "source": [
      "Example 1.1 Page no 12"
     ]
    },
    {
     "cell_type": "code",
     "collapsed": false,
     "input": [
      "#Given\n",
      "q=-3*10**-7                          #C\n",
      "e=-1.6*10**-19                      #C\n",
      "\n",
      "#Calculation\n",
      "n=q/e\n",
      "\n",
      "#Result\n",
      "print\"Number of electrons transferred from wool to polythene is\", n"
     ],
     "language": "python",
     "metadata": {},
     "outputs": [
      {
       "output_type": "stream",
       "stream": "stdout",
       "text": [
        "Number of electrons transferred from wool to polythene is 1.875e+12\n"
       ]
      }
     ],
     "prompt_number": 2
    },
    {
     "cell_type": "heading",
     "level": 2,
     "metadata": {},
     "source": [
      "Example 1.2 Page no 12"
     ]
    },
    {
     "cell_type": "code",
     "collapsed": false,
     "input": [
      "#Given\n",
      "m=3.11                #g\n",
      "Z=29\n",
      "A=63.5 \n",
      "N=6.023*10**23\n",
      "e=1.6*10**-19\n",
      "\n",
      "#Calculation\n",
      "n=(N*m)/A\n",
      "n1=n*Z\n",
      "q=n1*e\n",
      "\n",
      "#Result\n",
      "print\"Total positive or negative charge is\", round(q*10**-5,2),\"*10**5 C\""
     ],
     "language": "python",
     "metadata": {},
     "outputs": [
      {
       "output_type": "stream",
       "stream": "stdout",
       "text": [
        "Total positive or negative charge is 1.37 *10**5 C\n"
       ]
      }
     ],
     "prompt_number": 23
    },
    {
     "cell_type": "heading",
     "level": 2,
     "metadata": {},
     "source": [
      "Example 1.3 Page no 12"
     ]
    },
    {
     "cell_type": "code",
     "collapsed": false,
     "input": [
      "#Given\n",
      "q1=2*10**-7\n",
      "q2=3*10**-7\n",
      "r=0.3                        #m\n",
      "a=9*10**9\n",
      "\n",
      "#Calculation\n",
      "F=(a*q1*q2)/r**2\n",
      "\n",
      "#Result\n",
      "print\"Force between two small charged spheres is\", F*10**3,\"*10**-3\",\"N(repulsive\""
     ],
     "language": "python",
     "metadata": {},
     "outputs": [
      {
       "output_type": "stream",
       "stream": "stdout",
       "text": [
        "Force between two small charged spheres is 6.0 *10**-3 N(repulsive\n"
       ]
      }
     ],
     "prompt_number": 11
    },
    {
     "cell_type": "heading",
     "level": 2,
     "metadata": {},
     "source": [
      "Example 1.4 page no. 12"
     ]
    },
    {
     "cell_type": "code",
     "collapsed": false,
     "input": [
      "#Given\n",
      "F=3.7*10**-9                         #N\n",
      "r=5*10**-10                           #m\n",
      "a=9*10**9\n",
      "q1=1.6*10**-19\n",
      "\n",
      "#Calculation\n",
      "import math\n",
      "n=math.sqrt(F*r**2/(a*q1**2))\n",
      "\n",
      "#Result\n",
      "print\"number of electrons is\", round(n,0)"
     ],
     "language": "python",
     "metadata": {},
     "outputs": [
      {
       "output_type": "stream",
       "stream": "stdout",
       "text": [
        "number of electrons is 2.0\n"
       ]
      }
     ],
     "prompt_number": 16
    },
    {
     "cell_type": "heading",
     "level": 2,
     "metadata": {},
     "source": [
      "Example 1.5 Page no 12"
     ]
    },
    {
     "cell_type": "code",
     "collapsed": false,
     "input": [
      "#Given\n",
      "q1=0.4*10**-6                       #C\n",
      "q2=0.8*10**-6                       #C\n",
      "F12=0.2                               #N\n",
      "a=9.0*10**9\n",
      "\n",
      "#Calculation\n",
      "import math\n",
      "r=math.sqrt((a*q1*q2)/F12)\n",
      "\n",
      "#Result\n",
      "print\"(a) Distance between two spheres is\", r,\"m\"\n",
      "print\"(b) Force on charge q2 due to q1 is\",F12,\"N\""
     ],
     "language": "python",
     "metadata": {},
     "outputs": [
      {
       "output_type": "stream",
       "stream": "stdout",
       "text": [
        "(a) Distance between two spheres is 0.12 m\n",
        "(b) Force on charge q2 due to q1 is 0.2 N\n"
       ]
      }
     ],
     "prompt_number": 32
    },
    {
     "cell_type": "heading",
     "level": 2,
     "metadata": {},
     "source": [
      "Example 1.6 Page no 13"
     ]
    },
    {
     "cell_type": "code",
     "collapsed": false,
     "input": [
      "#Given\n",
      "q1=5*10**-8                                  #C\n",
      "m1=8*10**-3                                       #Kg\n",
      "a=9*10**9\n",
      "r=0.05                                             #m\n",
      "\n",
      "#Calculation\n",
      "q2=m1*9.8*r**2/(a*q1)\n",
      "\n",
      "#Result\n",
      "print\"Charge q2 is\", round(q2*10**7,2)*10**-7,\"C(positive)\""
     ],
     "language": "python",
     "metadata": {},
     "outputs": [
      {
       "output_type": "stream",
       "stream": "stdout",
       "text": [
        "Charge q2 is 4.36e-07 C(positive)\n"
       ]
      }
     ],
     "prompt_number": 40
    },
    {
     "cell_type": "heading",
     "level": 2,
     "metadata": {},
     "source": [
      "Example 1.7 Page no 13"
     ]
    },
    {
     "cell_type": "code",
     "collapsed": false,
     "input": [
      "#Given\n",
      "q1=6.5*10**-7                              #C\n",
      "q2=6.5*10**-7\n",
      "r=0.5                                    #m\n",
      "a=9*10**9\n",
      "K=80.0\n",
      "\n",
      "#Calculation\n",
      "Fair=a*q1*q2/r**2\n",
      "r1=0.5/2.0\n",
      "F1=a*4*q1*q2/r1**2\n",
      "Fwater=Fair/K\n",
      "\n",
      "#Result\n",
      "print\"(a) Mutual force of electrostatic repulsion is\", Fair*10**2,\"*10**-2 N\"\n",
      "print\"(b) (i) Force of repulsion is\", round(F1,4),\"N\"\n",
      "print \"(ii) Force of repulsion is\",round(Fwater*10**4,1),\"*10**-4 N\""
     ],
     "language": "python",
     "metadata": {},
     "outputs": [
      {
       "output_type": "stream",
       "stream": "stdout",
       "text": [
        "(a) Mutual force of electrostatic repulsion is 1.521 *10**-2 N\n",
        "(b) (i) Force of repulsion is 0.2434 N\n",
        "(ii) Force of repulsion is 1.9 *10**-4 N\n"
       ]
      }
     ],
     "prompt_number": 57
    },
    {
     "cell_type": "heading",
     "level": 2,
     "metadata": {},
     "source": [
      "Example 1.8 Page no 13"
     ]
    },
    {
     "cell_type": "code",
     "collapsed": false,
     "input": [
      "#Given\n",
      "q1=6.5*10**-7                       #C\n",
      "r=0.05                              #m\n",
      "a=9*10**9\n",
      "r1=0.5\n",
      "\n",
      "#Calculation\n",
      "q11=q1/2.0\n",
      "q21=(q1+q11)/2.0\n",
      "F=(a*q11*q21)/r1**2\n",
      "\n",
      "#Result\n",
      "print\"New force of repulsion between A and B is\", round(F*10**3,3),\"*10**-3 N\""
     ],
     "language": "python",
     "metadata": {},
     "outputs": [
      {
       "output_type": "stream",
       "stream": "stdout",
       "text": [
        "New force of repulsion between A and B is 5.704 *10**-3 N\n"
       ]
      }
     ],
     "prompt_number": 64
    },
    {
     "cell_type": "heading",
     "level": 2,
     "metadata": {},
     "source": [
      "Example 1.10 Page no 14"
     ]
    },
    {
     "cell_type": "code",
     "collapsed": false,
     "input": [
      "#Given\n",
      "a=9.0*10**9\n",
      "r=0.2\n",
      "m=9.8*10**-3\n",
      "a1=0.1\n",
      "a2=0.5\n",
      "\n",
      "#Calculation\n",
      "import math\n",
      "a11=m*(a1/(math.sqrt(a2**2-a1**2)))\n",
      "q=math.sqrt((a11*r**2)/a)\n",
      "\n",
      "#Result\n",
      "print\"Charge on each ball is\", round(q*10**8,2)*10**-6,\"C\""
     ],
     "language": "python",
     "metadata": {},
     "outputs": [
      {
       "output_type": "stream",
       "stream": "stdout",
       "text": [
        "Charge on each ball is 9.43e-06 C\n"
       ]
      }
     ],
     "prompt_number": 100
    },
    {
     "cell_type": "heading",
     "level": 2,
     "metadata": {},
     "source": [
      "Example 1.12 Page no 14"
     ]
    },
    {
     "cell_type": "code",
     "collapsed": false,
     "input": [
      "#Given\n",
      "qa=10**-5                             #C\n",
      "qb=5*10**-6                           #C\n",
      "qc=-5*10**-6                          #C\n",
      "r=0.1                                 #m\n",
      "a=9*10**9\n",
      "\n",
      "#Calculation\n",
      "import math\n",
      "Fab=(a*qa*qb)/r**2\n",
      "Fac=Fab\n",
      "F=math.sqrt(Fab**2+Fac**2+(2*Fab*Fac*math.cos(120*3.14/180.0)))\n",
      "\n",
      "#Result\n",
      "print\"Resultant force is\", round(F,0),\"N\""
     ],
     "language": "python",
     "metadata": {},
     "outputs": [
      {
       "output_type": "stream",
       "stream": "stdout",
       "text": [
        "Resultant force is 45.0 N\n"
       ]
      }
     ],
     "prompt_number": 75
    },
    {
     "cell_type": "heading",
     "level": 2,
     "metadata": {},
     "source": [
      "Example 1.13 Page no 15"
     ]
    },
    {
     "cell_type": "code",
     "collapsed": false,
     "input": [
      "#Given\n",
      "qa=1\n",
      "qb=100\n",
      "ab=10\n",
      "a=9*10**9\n",
      "qd=75\n",
      "a1=5\n",
      "\n",
      "#Calculation\n",
      "import math\n",
      "Fab=(a*qa*qb)/ab**2\n",
      "Fac=Fab\n",
      "Fac1=(a*qa*qd)/(ab**2-a1**2)\n",
      "Fx=Fab*math.cos(60*3.14/180.0)+Fac1*math.cos(60*3.14/180.0)\n",
      "Fy=Fac\n",
      "F=math.sqrt(Fx**2+Fy**2)\n",
      "B=Fy/Fx\n",
      "B1=math.atan(B)*180/3.14\n",
      "\n",
      "#Result\n",
      "print\"Resultant force on charge qa is inclined at\", round(B1,0),\"Degree\""
     ],
     "language": "python",
     "metadata": {},
     "outputs": [
      {
       "output_type": "stream",
       "stream": "stdout",
       "text": [
        "Resultant force on charge qa is inclined at 45.0 Degree\n"
       ]
      }
     ],
     "prompt_number": 90
    }
   ],
   "metadata": {}
  }
 ]
}