{
 "cells": [
  {
   "cell_type": "markdown",
   "metadata": {},
   "source": [
    "# Chapter 2 Fundamental Limit On Performance"
   ]
  },
  {
   "cell_type": "markdown",
   "metadata": {},
   "source": [
    "## Example 2.1 page 18"
   ]
  },
  {
   "cell_type": "code",
   "execution_count": 20,
   "metadata": {
    "collapsed": false
   },
   "outputs": [
    {
     "data": {
      "image/png": "[encoded data removed]",
      "text/plain": [
       "<matplotlib.figure.Figure at 0x7f4de4a3d1d0>"
      ]
     },
     "metadata": {},
     "output_type": "display_data"
    }
   ],
   "source": [
    "from numpy import arange, zeros\n",
    "from math import log\n",
    "%matplotlib inline\n",
    "from matplotlib.pyplot import plot,xlabel,ylabel,title,show\n",
    "\n",
    "Po = arange(0,1+0.01,0.01)\n",
    "H_Po = zeros(len(Po))\n",
    "for i in range(1,len(Po)-1):\n",
    "  H_Po[i]=-Po[(i)]*log(Po[(i)],2)-(1-Po[(i)])*log(1-Po[(i)],2)\n",
    "\n",
    "#plot\n",
    "#plot2d(Po,H_Po)\n",
    "plot(Po,H_Po)\n",
    "xlabel('Symbol Probability, Po')\n",
    "ylabel('H(Po)')\n",
    "title('Entropy function H(Po)')\n",
    "show()"
   ]
  },
  {
   "cell_type": "markdown",
   "metadata": {},
   "source": [
    "## Example 2.2 page 19"
   ]
  },
  {
   "cell_type": "code",
   "execution_count": 1,
   "metadata": {
    "collapsed": false
   },
   "outputs": [
    {
     "name": "stdout",
     "output_type": "stream",
     "text": [
      "Entropy of Discrete Memoryless Source\n",
      "bits :  1.5\n",
      "Table 2.1 Alphabet Particulars of Second-order Extension of a Discrete Memoryless Source\n",
      "_________________________________________________________________________________\n",
      "Sequence of Symbols of ruo2:\n",
      "  S0*S0     S0*S1     S0*S2     S1*S0     S1*S1    S1*S2    S2*S0     S2*S1  S2*S2\n",
      "Probability p(sigma), i =0,1.....8 :  [0.0625, 0.0625, 0.125, 0.0625, 0.0625, 0.125, 0.125, 0.125, 0.25]\n",
      "_________________________________________________________________________________\n",
      "   \n",
      "H(Ruo_Square)= 3.0  bits\n",
      "H(Ruo_Square) = 2*H(Ruo)\n"
     ]
    }
   ],
   "source": [
    "from __future__ import division\n",
    "from math import log\n",
    "P0 = 1/4# #probability of source alphabet S0\n",
    "P1 = 1/4# #probability of source alphabet S1\n",
    "P2 = 1/2# #probability of source alphabet S2\n",
    "H_Ruo = P0*log(1/P0,2)+P1*log(1/P1,2)+P2*log(1/P2,2)\n",
    "print 'Entropy of Discrete Memoryless Source'\n",
    "print 'bits : ',H_Ruo\n",
    "#Second order Extension of discrete Memoryless source\n",
    "P_sigma = [P0*P0,P0*P1,P0*P2,P1*P0,P1*P1,P1*P2,P2*P0,P2*P1,P2*P2]#\n",
    "print 'Table 2.1 Alphabet Particulars of Second-order Extension of a Discrete Memoryless Source'\n",
    "print '_________________________________________________________________________________'\n",
    "print 'Sequence of Symbols of ruo2:'\n",
    "print '  S0*S0     S0*S1     S0*S2     S1*S0     S1*S1    S1*S2    S2*S0     S2*S1  S2*S2'\n",
    "print 'Probability p(sigma), i =0,1.....8 : ',P_sigma\n",
    "print '_________________________________________________________________________________'\n",
    "print '   '\n",
    "H_Ruo_Square =0\n",
    "for i in range(0,len(P_sigma)):\n",
    "    H_Ruo_Square=(H_Ruo_Square+P_sigma[i]*log(1/P_sigma[i],2))\n",
    "print 'H(Ruo_Square)=', H_Ruo_Square,' bits'\n",
    "print 'H(Ruo_Square) = 2*H(Ruo)'"
   ]
  },
  {
   "cell_type": "markdown",
   "metadata": {},
   "source": [
    "## Example 2.3 page 20"
   ]
  },
  {
   "cell_type": "code",
   "execution_count": 2,
   "metadata": {
    "collapsed": false
   },
   "outputs": [
    {
     "name": "stdout",
     "output_type": "stream",
     "text": [
      "Average code-word Length L 2.2 bits\n",
      "Entropy of Huffman coding result H 2.12 bits\n",
      "Average code-word length L exceeds the entropy H(Ruo) by only 3.679 %\n",
      "Varinace of Huffman code :  0.16\n"
     ]
    }
   ],
   "source": [
    "from __future__ import division\n",
    "from math import log\n",
    "\n",
    "# (a)Average code-word length 'L'\n",
    "#(b)Entropy 'H'\n",
    "P0 = 0.4# #probability of codeword '00'\n",
    "L0 = 2#   #length of codeword S0\n",
    "P1 = 0.2# #probability of codeword '10'\n",
    "L1 = 2#   #length of codeword S1\n",
    "P2 = 0.2# #probility of codeword '11'\n",
    "L2 = 2#   #length of codeword S2\n",
    "P3 = 0.1# #probility of codeword '010'\n",
    "L3 = 3#   #length of codeword S3\n",
    "P4 =0.1# #probility of codeword '011'\n",
    "L4 = 3#   #length of codeword S4\n",
    "L = P0*L0+P1*L1+P2*L2+P3*L3+P4*L4#\n",
    "H_Ruo = P0*log(1/P0,2)+P1*log(1/P1,2)+P2*log(1/P2,2)+P3*log(1/P3,2)+P4*log(1/P4,2)\n",
    "print 'Average code-word Length L',L,'bits'\n",
    "print 'Entropy of Huffman coding result H %0.2f'%H_Ruo, 'bits'\n",
    "print 'Average code-word length L exceeds the entropy H(Ruo) by only %0.3f'%(((L-H_Ruo)/H_Ruo)*100),'%'\n",
    "sigma_1 = P0*(L0-L)**2+P1*(L1-L)**2+P2*(L2-L)**2+P3*(L3-L)**2+P4*(L4-L)**2\n",
    "print 'Varinace of Huffman code : ',sigma_1"
   ]
  },
  {
   "cell_type": "markdown",
   "metadata": {},
   "source": [
    "## Example2.4 page 20"
   ]
  },
  {
   "cell_type": "code",
   "execution_count": 3,
   "metadata": {
    "collapsed": false
   },
   "outputs": [
    {
     "name": "stdout",
     "output_type": "stream",
     "text": [
      "Average code-word Length L : 2.2 bits\n",
      "Entropy of Huffman coding result H : 2.12 bits\n",
      "Varinace of Huffman code = 1.36\n"
     ]
    }
   ],
   "source": [
    "from __future__ import division\n",
    "from math import log\n",
    "\n",
    "def log2(x):\n",
    "    return log(x,2)\n",
    "\n",
    "# Calculation of (a)Average code-word length 'L' (b)Entropy 'H'\n",
    "P0 = 0.4# #probability of codeword '1'\n",
    "L0 = 1#   #length of codeword S0\n",
    "P1 = 0.2# #probability of codeword '01'\n",
    "L1 = 2#   #length of codeword S1\n",
    "P2 = 0.2# #probility of codeword '000'\n",
    "L2 = 3#   #length of codeword S2\n",
    "P3 = 0.1# #probility of codeword '0010'\n",
    "L3 = 4#   #length of codeword S3\n",
    "P4 =0.1# #probility of codeword '0011'\n",
    "L4 = 4#   #length of codeword S4\n",
    "L = P0*L0+P1*L1+P2*L2+P3*L3+P4*L4#\n",
    "H_Ruo = P0*log2(1/P0)+P1*log2(1/P1)+P2*log2(1/P2)+P3*log2(1/P3)+P4*log2(1/P4)#\n",
    "print 'Average code-word Length L :',L,'bits'\n",
    "print 'Entropy of Huffman coding result H : %0.2f bits'%H_Ruo\n",
    "sigma_2 = P0*(L0-L)**2+P1*(L1-L)**2+P2*(L2-L)**2+P3*(L3-L)**2+P4*(L4-L)**2\n",
    "print 'Varinace of Huffman code = %0.2f'%sigma_2"
   ]
  },
  {
   "cell_type": "markdown",
   "metadata": {},
   "source": [
    "## Example2.5 page 20"
   ]
  },
  {
   "cell_type": "code",
   "execution_count": 32,
   "metadata": {
    "collapsed": false
   },
   "outputs": [
    {
     "name": "stdout",
     "output_type": "stream",
     "text": [
      "probility of 0 receiving if a 0 is sent = probility of 1 receiving if a 1 is sent= 0.4\n",
      "Transition probility\n",
      "probility of 0 receiving if a 1 is sent = probility of 1 receiving if a 0 is sent= 0.6\n"
     ]
    }
   ],
   "source": [
    "p = 0.4# #probability of correct reception\n",
    "pe = 1-p##probility of error reception (i.e)transition probility\n",
    "print 'probility of 0 receiving if a 0 is sent = probility of 1 receiving if a 1 is sent=',p\n",
    "print 'Transition probility'\n",
    "print 'probility of 0 receiving if a 1 is sent = probility of 1 receiving if a 0 is sent=',pe"
   ]
  },
  {
   "cell_type": "markdown",
   "metadata": {},
   "source": [
    "## Example2.6 page 21"
   ]
  },
  {
   "cell_type": "code",
   "execution_count": 1,
   "metadata": {
    "collapsed": false
   },
   "outputs": [
    {
     "data": {
      "image/png": "[encoded data removed]",
      "text/plain": [
       "<matplotlib.figure.Figure at 0x7f94d28b5310>"
      ]
     },
     "metadata": {},
     "output_type": "display_data"
    }
   ],
   "source": [
    "from numpy import arange\n",
    "from math import log\n",
    "%matplotlib inline\n",
    "from matplotlib.pyplot import plot,title,show,xlabel,ylabel\n",
    "\n",
    "\n",
    "\n",
    "def log2(x):\n",
    "    return log(x,2)\n",
    "\n",
    "\n",
    "p = arange(0,0.5+0.01,0.01)\n",
    "C=[]\n",
    "for i in range(0,len(p)):\n",
    "    if(i!=0):\n",
    "        C.append(1+p[i]*log2(p[i])+(1-p[i])*log2((1-p[i])))\n",
    "    elif(i==0):\n",
    "        C.append(1)\n",
    "    elif(i==len(p)):\n",
    "        C.append(0)\n",
    "  \n",
    "\n",
    "plot(p,C)\n",
    "xlabel('Transition Probility, p')\n",
    "ylabel('Channel Capacity, C')\n",
    "title('Figure 2.10 Variation of channel capacity of a binary symmetric channel with transition probility p')\n",
    "show()"
   ]
  },
  {
   "cell_type": "markdown",
   "metadata": {},
   "source": [
    "## Example2.7 page 21"
   ]
  },
  {
   "cell_type": "code",
   "execution_count": 1,
   "metadata": {
    "collapsed": false
   },
   "outputs": [
    {
     "data": {
      "image/png": "[encoded data removed]",
      "text/plain": [
       "<matplotlib.figure.Figure at 0x7f1bfe6cf890>"
      ]
     },
     "metadata": {},
     "output_type": "display_data"
    },
    {
     "name": "stdout",
     "output_type": "stream",
     "text": [
      "Table 2.3 Average Probility of Error for Repetition Code\n",
      "_______________________________________________________________\n",
      "Average Probility of Error, Pe =\n",
      "0.01\n",
      "0.000298\n",
      "9.8506e-06\n",
      "3.416698e-07\n",
      "Code Rate, r =1/n = \n",
      "1.00\n",
      "0.33\n",
      "0.20\n",
      "0.14\n",
      "_______________________________________________________________\n"
     ]
    }
   ],
   "source": [
    "from __future__ import division\n",
    "%matplotlib inline\n",
    "from matplotlib.pyplot import plot,title,show,xlabel,ylabel,legend\n",
    "\n",
    "\n",
    "#Average Probility of Error of Repetition Code\n",
    "p =10**-2#\n",
    "pe_1 =p# #Average Probility of error for code rate r = 1\n",
    "pe_3 = 3*p**2*(1-p)+p**3##probility of error for code rate r =1/3\n",
    "pe_5 = 10*p**3*(1-p)**2+5*p**4*(1-p)+p**5##error for code rate r =1/5\n",
    "pe_7 = ((7*6*5)/(1*2*3))*p**4*(1-p)**3+(42/2)*p**5*(1-p)**2+7*p**6*(1-p)+p**7##error for code rate r =1/7\n",
    "r = [1,1/3,1/5,1/7]#\n",
    "pe = [pe_1,pe_3,pe_5,pe_7]#\n",
    "plot(r,pe)\n",
    "xlabel('Code rate, r')\n",
    "ylabel('Average Probability of error, Pe')\n",
    "title('Figure 2.12 Illustrating significance of the channel coding theorem')\n",
    "#xgrid(1)\n",
    "show()\n",
    "print 'Table 2.3 Average Probility of Error for Repetition Code'\n",
    "print '_______________________________________________________________'\n",
    "print 'Average Probility of Error, Pe ='\n",
    "for pp in pe: print pp\n",
    "print 'Code Rate, r =1/n = '\n",
    "for rr in r:print '%0.2f'%rr\n",
    "print '_______________________________________________________________'"
   ]
  }
 ],
 "metadata": {
  "kernelspec": {
   "display_name": "Python 2",
   "language": "python",
   "name": "python2"
  },
  "language_info": {
   "codemirror_mode": {
    "name": "ipython",
    "version": 2
   },
   "file_extension": ".py",
   "mimetype": "text/x-python",
   "name": "python",
   "nbconvert_exporter": "python",
   "pygments_lexer": "ipython2",
   "version": "2.7.9"
  }
 },
 "nbformat": 4,
 "nbformat_minor": 0
}
