{
 "metadata": {
  "name": ""
 },
 "nbformat": 3,
 "nbformat_minor": 0,
 "worksheets": [
  {
   "cells": [
    {
     "cell_type": "heading",
     "level": 1,
     "metadata": {},
     "source": [
      "Chapter 13: Shielding And Grounding"
     ]
    },
    {
     "cell_type": "heading",
     "level": 2,
     "metadata": {},
     "source": [
      "Example13_1,pg 405"
     ]
    },
    {
     "cell_type": "code",
     "collapsed": false,
     "input": [
      "# find diagnostic ratio\n",
      "\n",
      "import math\n",
      "#Variable declaration\n",
      "t1=0.1*10**-6             #time span for voltage\n",
      "t2=1*10**-6               #time span for current\n",
      "\n",
      "#voltage switching\n",
      "V1=0.5                    #level-1\n",
      "V2=5.0                    #level-2\n",
      "\n",
      "#current switching\n",
      "I1=0                      #level-1\n",
      "I2=10*10**-3              #level-2\n",
      "\n",
      "\n",
      "#Calculations\n",
      "DR=(((V2-V1)/t1)/((I2-I1)/t2))\n",
      "\n",
      "#Result\n",
      "print(\"dissipation ratio:\")\n",
      "print(\"DR = %.f ohm\\n\"%DR)\n",
      "print(\"DR is quite large indicating noise interference by capacitive coupling.\")"
     ],
     "language": "python",
     "metadata": {},
     "outputs": [
      {
       "output_type": "stream",
       "stream": "stdout",
       "text": [
        "dissipation ratio:\n",
        "DR = 4500 ohm\n",
        "\n",
        "DR is quite large indicating noise interference by capacitive coupling.\n"
       ]
      }
     ],
     "prompt_number": 1
    },
    {
     "cell_type": "heading",
     "level": 2,
     "metadata": {},
     "source": [
      "Example13_2,pg 509"
     ]
    },
    {
     "cell_type": "code",
     "collapsed": false,
     "input": [
      "# find diagnostic ratio\n",
      "\n",
      "import math\n",
      "#variable declaration\n",
      "t1=1*10**-6                #time span for voltage\n",
      "t2=1*10**-6                #time span for current\n",
      "\n",
      "#voltage switching\n",
      "V1=0.5                     #level-1\n",
      "V2=1.0                     #level-2\n",
      "\n",
      "#current switching\n",
      "I1=1*10**-3                #level-1\n",
      "I2=10*10**-3               #level-2\n",
      "\n",
      "#Calculations\n",
      "DR=(((V2-V1)/t1)/((I2-I1)/t2))\n",
      "\n",
      "#Result\n",
      "print(\"pseudoimpedance:\")\n",
      "print(\"DR = %.f ohm\\n\"%(math.floor(DR)))\n",
      "print(\"DR is not quite large indicating noise interference by inductive coupling.\")\n"
     ],
     "language": "python",
     "metadata": {},
     "outputs": [
      {
       "output_type": "stream",
       "stream": "stdout",
       "text": [
        "pseudoimpedance:\n",
        "DR = 55 ohm\n",
        "\n",
        "DR is not quite large indicating noise interference by inductive coupling.\n"
       ]
      }
     ],
     "prompt_number": 4
    },
    {
     "cell_type": "heading",
     "level": 2,
     "metadata": {},
     "source": [
      "Example13_3,pg 510"
     ]
    },
    {
     "cell_type": "code",
     "collapsed": false,
     "input": [
      "# find ground loop current\n",
      "\n",
      "import math\n",
      "#Variable declaration\n",
      "Vi=12.0                    #input DC voltage\n",
      "Vo=3.182                   #output voltage\n",
      "Rg=130*10**3               #grounding resistance \n",
      "R2=1*10**3                 #output resistance\n",
      "R1=6.8*10**3               #divider chain\n",
      "\n",
      "#Calculations\n",
      "Ig=(Vo-((2*R2*Vi)/(R1+R2)))/Rg\n",
      "\n",
      "#Result\n",
      "print(\"grounding loop current:\")\n",
      "print(\"Ig = %.1f micro-A\"%(Ig*10**6))"
     ],
     "language": "python",
     "metadata": {},
     "outputs": [
      {
       "output_type": "stream",
       "stream": "stdout",
       "text": [
        "grounding loop current:\n",
        "Ig = 0.8 micro-A\n"
       ]
      }
     ],
     "prompt_number": 8
    }
   ],
   "metadata": {}
  }
 ]
}