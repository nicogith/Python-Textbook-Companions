{
 "metadata": {
  "name": ""
 },
 "nbformat": 3,
 "nbformat_minor": 0,
 "worksheets": [
  {
   "cells": [
    {
     "cell_type": "heading",
     "level": 1,
     "metadata": {},
     "source": [
      "Chapter 15 : Fibre Optics Sensors And Instrumentation"
     ]
    },
    {
     "cell_type": "heading",
     "level": 2,
     "metadata": {},
     "source": [
      "Example15_1,pg 470"
     ]
    },
    {
     "cell_type": "code",
     "collapsed": false,
     "input": [
      "# find increamental phase\n",
      "\n",
      "import math\n",
      "#variable declaration\n",
      "n1=1.48                #refractive index of fibre\n",
      "mu=0.2                 #poisson's ratio\n",
      "p=2.2*10**2            #pressure applied\n",
      "lam=690.0*10**-9       #laser beam wavelength\n",
      "Y=2.2*10**11           #young's modulus\n",
      "\n",
      "#Calcaulation\n",
      "delphi=((4*math.pi*n1*mu*p)/(lam*Y))\n",
      "\n",
      "#Result\n",
      "print(\"increamental phase:\")\n",
      "print(\"delphi = %.6f rad\"%delphi)\n",
      "#Answer is slightly different"
     ],
     "language": "python",
     "metadata": {},
     "outputs": [
      {
       "output_type": "stream",
       "stream": "stdout",
       "text": [
        "increamental phase:\n",
        "delphi = 0.005391 rad\n"
       ]
      }
     ],
     "prompt_number": 2
    },
    {
     "cell_type": "heading",
     "level": 2,
     "metadata": {},
     "source": [
      "Example15_2,pg 474"
     ]
    },
    {
     "cell_type": "code",
     "collapsed": false,
     "input": [
      "# find additional length travelled\n",
      "\n",
      "import math\n",
      "#Variable declartion\n",
      "r= 9                        #radius of fibre loop\n",
      "a=math.pi*((r/2)**2)        #area of fibre loop\n",
      "Q=1.0                       #linear velocity(cm/s)\n",
      "Co=3*10**8                  #velocity of light(cm/s)\n",
      "\n",
      "#Calculations\n",
      "delL=((4*a*Q)/(Co))           #additional length travelled\n",
      "\n",
      "#Results\n",
      "print(\"additional length travelled:\")\n",
      "print(\"delL = %.1f * 10^-8 cm\"%(delL*10**8))\n",
      "#Answer is not matching with book"
     ],
     "language": "python",
     "metadata": {},
     "outputs": [
      {
       "output_type": "stream",
       "stream": "stdout",
       "text": [
        "additional length travelled:\n",
        "delL = 67.0 * 10^-8 cm\n"
       ]
      }
     ],
     "prompt_number": 15
    },
    {
     "cell_type": "heading",
     "level": 2,
     "metadata": {},
     "source": [
      "Example15_3,pg 512\n"
     ]
    },
    {
     "cell_type": "code",
     "collapsed": false,
     "input": [
      "# find interacting length\n",
      "\n",
      "import math\n",
      "#Variable declaration\n",
      "#(Po1/Po2)=1/2 and Po1+Po2=3Po2=Pi\n",
      "Po2byPi=1.0/3.0                        #(Po2/Pi)\n",
      "\n",
      "#Calculations\n",
      "kL=math.acos(math.sqrt(Po2byPi))       #k->coupling coefficient\n",
      "L=kL                                   #L=kL/k L->interacting length\n",
      "\n",
      "#Result\n",
      "print(\"interacting length:\")\n",
      "print(\"L = %.4f/k\"%L)\n",
      "# answer is slightly different than book"
     ],
     "language": "python",
     "metadata": {},
     "outputs": [
      {
       "output_type": "stream",
       "stream": "stdout",
       "text": [
        "interacting length:\n",
        "L = 0.9553/k\n"
       ]
      }
     ],
     "prompt_number": 2
    },
    {
     "cell_type": "heading",
     "level": 2,
     "metadata": {},
     "source": [
      "Example15_4,pg 512\n"
     ]
    },
    {
     "cell_type": "code",
     "collapsed": false,
     "input": [
      "# wavelength suitable for laser light\n",
      "\n",
      "import math\n",
      "#Variable declaration\n",
      "We=7.6*10**-5               #speed od gyro\n",
      "L=490.0                     #length\n",
      "c=3*10**8                   #speed of light \n",
      "delphi=7.69*10**-5          #phase shift\n",
      "d=0.094                     \n",
      "\n",
      "#Calculations\n",
      "lam=((2*math.pi*L*d*We)/(c*delphi))            #wavelength of laser light\n",
      "\n",
      "#Result\n",
      "print(\"wavelength of laser light:\")\n",
      "print(\"lam = %.f *10^-9 m\"%(lam*10**9))\n",
      "#Answer isslightly different than book"
     ],
     "language": "python",
     "metadata": {},
     "outputs": [
      {
       "output_type": "stream",
       "stream": "stdout",
       "text": [
        "wavelength of laser light:\n",
        "lam = 953 *10^-9 m\n"
       ]
      }
     ],
     "prompt_number": 30
    },
    {
     "cell_type": "heading",
     "level": 2,
     "metadata": {},
     "source": [
      "Example15_5,pg 513"
     ]
    },
    {
     "cell_type": "code",
     "collapsed": false,
     "input": [
      "# find rate of change of RI wrt T\n",
      "\n",
      "import math\n",
      "#Variable declaration\n",
      "#(delphi/delT)=(2pi/lam)(n*(delL/delT)+L*(deln/delT))=(deln/delT)\n",
      "lam=635.0*10**-9                 #wavelength of light beam\n",
      "delphi=139.0                     #phase angle\n",
      "delL=0.49*10**-6                 #change in length\n",
      "n=1.48                           #R.I of fibre\n",
      "\n",
      "#Calculations\n",
      "k=((lam*delphi)/(2*math.pi))-(delL*n)       #//k=(deln/delT), rate of change of R.I w.r.t T\n",
      "\n",
      "#Result\n",
      "print(\"rate of change of R.I w.r.t T:\")\n",
      "print(\"k = %.2f * 10^-6/\u00b0C\"%(k*10**6))\n",
      "# Answer is nnot matching to book"
     ],
     "language": "python",
     "metadata": {},
     "outputs": [
      {
       "output_type": "stream",
       "stream": "stdout",
       "text": [
        "rate of change of R.I w.r.t T:\n",
        "k = 13.32 * 10^-6/\u00b0C\n"
       ]
      }
     ],
     "prompt_number": 32
    }
   ],
   "metadata": {}
  }
 ]
}