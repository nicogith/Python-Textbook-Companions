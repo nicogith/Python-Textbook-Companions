{
 "metadata": {
  "name": "",
  "signature": "sha256:66f6c621f87dc54416e21e8e7d0f53321d742bfb20aef55d03bdd4f2762fad64"
 },
 "nbformat": 3,
 "nbformat_minor": 0,
 "worksheets": [
  {
   "cells": [
    {
     "cell_type": "heading",
     "level": 1,
     "metadata": {},
     "source": [
      "Chapter 9 : Viscous Flow"
     ]
    },
    {
     "cell_type": "heading",
     "level": 2,
     "metadata": {},
     "source": [
      "Example 9.1 Page No : 307"
     ]
    },
    {
     "cell_type": "code",
     "collapsed": false,
     "input": [
      "import math \n",
      "\t\t\n",
      "#initialisation of variables\n",
      "sg = 0.7\n",
      "v = 0.05 \t\t#poise\n",
      "g = 32.2 \t\t#ft/sec**2\n",
      "w = 62.4 \t\t#lbs/ft**3\n",
      "\t\t\n",
      "#CALCULATIONS\n",
      "u = v*30.5/(g*453.6)\n",
      "v1 = v/sg\n",
      "d = w*v1/g\n",
      "v = u/d\n",
      "\t\t\n",
      "#RESULTS\n",
      "print  'viscocity = %.6f slug/t sec '%(u)\n",
      "print  ' kinematic viscocity = %.4f cm**2/ sec '%(v1)\n",
      "print  ' kinematic viscocity = %.6f ft**2/ sec '%(v)\n",
      "\n",
      "# rounding off error"
     ],
     "language": "python",
     "metadata": {},
     "outputs": [
      {
       "output_type": "stream",
       "stream": "stdout",
       "text": [
        "viscocity = 0.000104 slug/t sec \n",
        " kinematic viscocity = 0.0714 cm**2/ sec \n",
        " kinematic viscocity = 0.000754 ft**2/ sec \n"
       ]
      }
     ],
     "prompt_number": 1
    },
    {
     "cell_type": "heading",
     "level": 2,
     "metadata": {},
     "source": [
      "Example 9.2 Page No : 308"
     ]
    },
    {
     "cell_type": "code",
     "collapsed": false,
     "input": [
      "import math \n",
      "\t\t\n",
      "#initialisation of variables\n",
      "d = 0.5 \t\t#in\n",
      "V = 1.   \t\t#ft/sec\n",
      "l = 200. \t\t#ft\n",
      "T = 5. \t    \t#degrees\n",
      "g = 32.2 \t\t#f/sec**2\n",
      "\t\t\n",
      "#CALCULATIONS\n",
      "i = 0.04*V**2*12*4/(g*d)\n",
      "gf = i*l\n",
      "\t\t\n",
      "#RESULTS\n",
      "print  'loss of head = %.1f ft '%(gf)\n"
     ],
     "language": "python",
     "metadata": {},
     "outputs": [
      {
       "output_type": "stream",
       "stream": "stdout",
       "text": [
        "loss of head = 23.9 ft \n"
       ]
      }
     ],
     "prompt_number": 2
    },
    {
     "cell_type": "heading",
     "level": 2,
     "metadata": {},
     "source": [
      "Example 9.3 Page No : 309"
     ]
    },
    {
     "cell_type": "code",
     "collapsed": false,
     "input": [
      "\n",
      "import math \n",
      "\t\t\n",
      "#initialisation of variables\n",
      "g = 32.2 \t\t#ft/sec**2\n",
      "T = 25. \t\t#C\n",
      "dp =8.   \t\t#lbs/in**2\n",
      "t = 0.005 \t\t#in\n",
      "w = 3.   \t\t#in\n",
      "l = 1. \t    \t#ft\n",
      "\t\t\n",
      "#CALCULATIONS\n",
      "ut = (0.0179*30.5/(g*453.6))/(1+0.03368*T+0.000221*T**2)\n",
      "Ql = dp*144*(t/12)**3*3600*6.24/(12*ut*4)\n",
      "\t\t\n",
      "#RESULTS\n",
      "print  'Discharge = %.2f gallons per hour '%(Ql)\n",
      "\n",
      "\n",
      "#ANSWER GIVEN IN THE TEXTBOOK IS WRONG\n"
     ],
     "language": "python",
     "metadata": {},
     "outputs": [
      {
       "output_type": "stream",
       "stream": "stdout",
       "text": [
        "Discharge = 2.07 gallons per hour \n"
       ]
      }
     ],
     "prompt_number": 2
    },
    {
     "cell_type": "heading",
     "level": 2,
     "metadata": {},
     "source": [
      "Example 9.4 Page No : 310"
     ]
    },
    {
     "cell_type": "code",
     "collapsed": false,
     "input": [
      "import math \n",
      "\t\t\n",
      "#initialisation of variables\n",
      "v = 1.25 \t\t#poise\n",
      "d = 3. \t\t#in\n",
      "l = 6. \t\t#in\n",
      "t = 0.002 \t\t#in\n",
      "w = 40. \t\t#R.P.M\n",
      "g = 32.2 \t\t#ft/sec**2\n",
      "\t\t\n",
      "#CALCULATIONS\n",
      "u = v*30.5/(453.6*g)\n",
      "T = u*math.pi**2*(d/12)**3*w*(l/12)/(120*t/12)\n",
      "hp = T*2*math.pi*w/33000\n",
      "\t\t\n",
      "#RESULTS\n",
      "print  'Horse-power lost in velocit = %.4f '%(hp)\n"
     ],
     "language": "python",
     "metadata": {},
     "outputs": [
      {
       "output_type": "stream",
       "stream": "stdout",
       "text": [
        "Horse-power lost in velocit = 0.0031 \n"
       ]
      }
     ],
     "prompt_number": 4
    },
    {
     "cell_type": "heading",
     "level": 2,
     "metadata": {},
     "source": [
      "Example 9.5 Page No : 312"
     ]
    },
    {
     "cell_type": "code",
     "collapsed": false,
     "input": [
      "import math \n",
      "\t\t\n",
      "#initialisation of variables\n",
      "w = 750. \t\t#R.P.M\n",
      "t = 0.02 \t\t#in\n",
      "r1 = 9. \t\t#in\n",
      "r2 = 5. \t\t#in\n",
      "u = 0.003 \t\t#slug/ft sec\n",
      "\t\t\n",
      "#CALCULATIONS\n",
      "T =  u*math.pi*(2*math.pi*w/60)*((r1/24)**4-(r2/24)**4)*2*math.pi*w/(2*t/12*33000)\n",
      "\t\t\n",
      "#RESULTS\n",
      "print  'horse power required to overcome = %.1f hp'%(T)\n"
     ],
     "language": "python",
     "metadata": {},
     "outputs": [
      {
       "output_type": "stream",
       "stream": "stdout",
       "text": [
        "horse power required to overcome = 0.6 hp\n"
       ]
      }
     ],
     "prompt_number": 5
    }
   ],
   "metadata": {}
  }
 ]
}