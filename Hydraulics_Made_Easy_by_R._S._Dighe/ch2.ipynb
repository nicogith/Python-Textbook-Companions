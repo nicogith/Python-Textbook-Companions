{
 "metadata": {
  "name": "",
  "signature": "sha256:1efa4f61c6638a7002643398d2d4bfe4efa140d30a6184e17976681fd0180ed8"
 },
 "nbformat": 3,
 "nbformat_minor": 0,
 "worksheets": [
  {
   "cells": [
    {
     "cell_type": "heading",
     "level": 1,
     "metadata": {},
     "source": [
      "Chapter 2 : Floatation and Buoyancy"
     ]
    },
    {
     "cell_type": "heading",
     "level": 2,
     "metadata": {},
     "source": [
      "Example 2.1 Page No : 43"
     ]
    },
    {
     "cell_type": "code",
     "collapsed": false,
     "input": [
      "import math \n",
      "\t\t\n",
      "#initialisation of variables\n",
      "l = 60. \t\t#ft\n",
      "w = 10. \t\t#ft\n",
      "h = 5.   \t\t#ft\n",
      "t = 3./16 \t\t#in\n",
      "sp  = 7.75\n",
      "H = 4. \t    \t#ft\n",
      "w1 = 62.4 \t\t#lb/ft**3\n",
      "y = 4. \t\t    #ft\n",
      "\t\t\n",
      "#CALCULATIONS\n",
      "V = (l*w+2*w*h+2*l*h)*t/12\n",
      "W = V*w1*sp\n",
      "x = W/(w1*l*w)\n",
      "W1 = H*l*w*w1\n",
      "dW = (W1-W)/2238\n",
      "\t\t\n",
      "#RESULTS\n",
      "print  'weight of water print laced = %.1f tons'%(dW)\n"
     ],
     "language": "python",
     "metadata": {},
     "outputs": [
      {
       "output_type": "stream",
       "stream": "stdout",
       "text": [
        "weight of water print laced = 62.5 tons\n"
       ]
      }
     ],
     "prompt_number": 1
    },
    {
     "cell_type": "heading",
     "level": 2,
     "metadata": {},
     "source": [
      "Example 2.3 Page No : 50"
     ]
    },
    {
     "cell_type": "code",
     "collapsed": false,
     "input": [
      "\n",
      "import math \n",
      "\t\t\n",
      "#initialisation of variables\n",
      "D = 64. \t\t#lb/ft**3\n",
      "d = 6.   \t\t#ft\n",
      "l = 10. \t\t#ft\n",
      "W = 2. \t    \t#tons\n",
      "\t\t\n",
      "#CALCULATIONS\n",
      "V = W*2240/D\n",
      "h = V/(math.pi*d**2/4)\n",
      "BM = d**2/(16*h)\n",
      "P = -(math.sqrt(64*BM*2*10*math.pi*(22400-math.pi*d**4))-W*22400)/10\n",
      "\t\t\n",
      "#RESULTS\n",
      "print  'Minimum pull required = %.f lbs '%(P+3) \n"
     ],
     "language": "python",
     "metadata": {},
     "outputs": [
      {
       "output_type": "stream",
       "stream": "stdout",
       "text": [
        "Minimum pull required = 3665 lbs \n"
       ]
      }
     ],
     "prompt_number": 2
    },
    {
     "cell_type": "heading",
     "level": 2,
     "metadata": {},
     "source": [
      "Example 2.4 Page No : 52"
     ]
    },
    {
     "cell_type": "code",
     "collapsed": false,
     "input": [
      "import math \n",
      "\t\t\n",
      "#initialisation of variables\n",
      "sg = 7.\n",
      "sg1 = 5.\n",
      "d = 8. \t\t#in\n",
      "t = 1. \t\t#in\n",
      "\t\t\n",
      "#CALCULATIONS\n",
      "x = (sg+sg1)+math.sqrt(d*(sg*(sg1+t)+1))\n",
      "\t\t\n",
      "#RESULTS\n",
      "print  'maximum length of cylinder = %.2f in '%(x) \n"
     ],
     "language": "python",
     "metadata": {},
     "outputs": [
      {
       "output_type": "stream",
       "stream": "stdout",
       "text": [
        "maximum length of cylinder = 30.55 in \n"
       ]
      }
     ],
     "prompt_number": 3
    },
    {
     "cell_type": "heading",
     "level": 2,
     "metadata": {},
     "source": [
      "Example 2.7 Page No : 56"
     ]
    },
    {
     "cell_type": "code",
     "collapsed": false,
     "input": [
      "import math \n",
      "\t\t\n",
      "#initialisation of variables\n",
      "W = 2000. \t\t#tons\n",
      "m = 15. \t\t#/tons\n",
      "dx = 24. \t\t#ft\n",
      "l = 3. \t    \t#in\n",
      "dx1 = 5. \t\t#ft\n",
      "\t\t\n",
      "#CALCULATIONS\n",
      "GM = m*dx/(W*(l/(dx1*12)))\n",
      "\t\t\n",
      "#RESULTSS\n",
      "print  'metacentric height = %.1f ft '%(GM) \n"
     ],
     "language": "python",
     "metadata": {},
     "outputs": [
      {
       "output_type": "stream",
       "stream": "stdout",
       "text": [
        "metacentric height = 3.6 ft \n"
       ]
      }
     ],
     "prompt_number": 4
    },
    {
     "cell_type": "heading",
     "level": 2,
     "metadata": {},
     "source": [
      "Example 2.8 Page No : 56"
     ]
    },
    {
     "cell_type": "code",
     "collapsed": false,
     "input": [
      "\t\t\n",
      "#initialisation of variables\n",
      "M = 350. \t\t#tons\n",
      "l = 50. \t\t#ft\n",
      "w = 20. \t\t#ft\n",
      "W = 100. \t\t#tons\n",
      "h = 6.   \t\t#ft\n",
      "M1 = 250. \t\t#tons\n",
      "\t\t\n",
      "#CALCULATIONS\n",
      "V = M*2240/64\n",
      "d = V/(l*w)\n",
      "BM = l*w**3/(12*w*l*d)\n",
      "y = (((BM+(d/2))*(M/10))-(M1*h/10))/(W/10)\n",
      "\t\t\n",
      "#RESULTS\n",
      "print  'Highest position of centre of gravity = %.2f ft '%(y)\n"
     ],
     "language": "python",
     "metadata": {},
     "outputs": [
      {
       "output_type": "stream",
       "stream": "stdout",
       "text": [
        "Highest position of centre of gravity = 15.96 ft \n"
       ]
      }
     ],
     "prompt_number": 5
    },
    {
     "cell_type": "heading",
     "level": 2,
     "metadata": {},
     "source": [
      "Example 2.9 Page No : 58"
     ]
    },
    {
     "cell_type": "code",
     "collapsed": false,
     "input": [
      "import math \n",
      "\t\t\n",
      "#initialisation of variables\n",
      "W = 2000. \t\t#tons\n",
      "l = 250. \t\t#ft\n",
      "w = 30. \t\t#ft\n",
      "a = 1./15\n",
      "W1 = 50. \t\t#tons\n",
      "h = 10. \t\t#ft\n",
      "\t\t\n",
      "#CALCULATIONS\n",
      "BG = (l*w**3*64/(W*2240*12))-(W1*h/(a*W))\n",
      "\t\t\n",
      "#RESULTS\n",
      "print  'distance of the centre of gravity = %.2f ft '%(BG) \n",
      "\n",
      "# note : rounding off error"
     ],
     "language": "python",
     "metadata": {},
     "outputs": [
      {
       "output_type": "stream",
       "stream": "stdout",
       "text": [
        "distance of the centre of gravity = 4.29 ft \n"
       ]
      }
     ],
     "prompt_number": 2
    },
    {
     "cell_type": "heading",
     "level": 2,
     "metadata": {},
     "source": [
      "Example 2.10 Page No : 58"
     ]
    },
    {
     "cell_type": "code",
     "collapsed": false,
     "input": [
      "import math \n",
      "\t\t\n",
      "#initialisation of variables\n",
      "l = 91. \t\t#ft\n",
      "w = 30. \t\t#ft\n",
      "h = 6. \t    \t#ft\n",
      "W = 40. \t\t#tons\n",
      "a = 3. \t\t    #degrees\n",
      "cg = 3. \t\t#ft\n",
      "d = 4.  \t\t#ft\n",
      "W1 = 60. \t\t#tons\n",
      "cg1 = 1. \t\t#ft\n",
      "\t\t\n",
      "#CALCULATIONS\n",
      "W2 = (l*w*d*64/2240)-W1\n",
      "y = (W2*(h/2)+W1*(cg+d))/(l*w*d*64/2240)\n",
      "BG = y-(d/2)\n",
      "BM = l*w**3/(12*l*w*d)\n",
      "GM = BM-BG\n",
      "dx = GM*l*w*d*64*math.tan(math.radians(a))/(60*2240)\n",
      "\t\t\n",
      "#RESULTS\n",
      "print  'maximum distance through which the load can be shifted = %.1f ft '%(dx)\n"
     ],
     "language": "python",
     "metadata": {},
     "outputs": [
      {
       "output_type": "stream",
       "stream": "stdout",
       "text": [
        "maximum distance through which the load can be shifted = 4.6 ft \n"
       ]
      }
     ],
     "prompt_number": 4
    },
    {
     "cell_type": "heading",
     "level": 2,
     "metadata": {},
     "source": [
      "Example 2.11 Page No : 60"
     ]
    },
    {
     "cell_type": "code",
     "collapsed": false,
     "input": [
      "import math \n",
      "\t\t\n",
      "#initialisation of variables\n",
      "W = 5000. \t\t#tons\n",
      "I = 1.4*10**6 \t\t#ft**4\n",
      "k = 12.2 \t\t#ft\n",
      "BG = 6.5 \t\t#ft\n",
      "\t\t\n",
      "#CALCULATIONS\n",
      "BM = I*64/(W*2240)\n",
      "GM = BM-BG\n",
      "T = 2*math.pi*math.sqrt(k**2/(GM*32.2))\n",
      "\t\t\n",
      "#RESULTS\n",
      "print  'period of oscialltion = %.2f sec '%(T) \n"
     ],
     "language": "python",
     "metadata": {},
     "outputs": [
      {
       "output_type": "stream",
       "stream": "stdout",
       "text": [
        "period of oscialltion = 11.03 sec \n"
       ]
      }
     ],
     "prompt_number": 8
    }
   ],
   "metadata": {}
  }
 ]
}