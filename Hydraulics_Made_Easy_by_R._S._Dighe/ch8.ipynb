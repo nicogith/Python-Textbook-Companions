{
 "metadata": {
  "name": "",
  "signature": "sha256:e9347bdc41c6b4bda65f9d26d446767053e6f25c72d5803a3f6994404d86363c"
 },
 "nbformat": 3,
 "nbformat_minor": 0,
 "worksheets": [
  {
   "cells": [
    {
     "cell_type": "heading",
     "level": 1,
     "metadata": {},
     "source": [
      "Chapter 8 : Impact of Jets"
     ]
    },
    {
     "cell_type": "heading",
     "level": 2,
     "metadata": {},
     "source": [
      "Example 8.1 Page No : 276"
     ]
    },
    {
     "cell_type": "code",
     "collapsed": false,
     "input": [
      "\n",
      "import math \n",
      "\t\t\n",
      "#initialisation of variables\n",
      "d = 1. \t\t#in\n",
      "v = 36. \t\t#ft/sec\n",
      "b = 30. \t\t#degrees\n",
      "w = 62.4 \t\t#lbs/ft**3\n",
      "g = 32.2\n",
      "\t\t\n",
      "#CALCULATIONS\n",
      "a = math.pi/4 * (d/12)**2\n",
      "thrust = w*a*v**2/g\n",
      "P = w* math.sin(math.radians(b))*v**2*(math.pi*(d/12)**2/4)/g\n",
      "\t\t\n",
      "#RESULTS\n",
      "print \"The trust when the plate is normal to the jet = %.1f lbs. wt.\"%thrust\n",
      "print  'Total thrust on the plate when inclined = %.2f lb wt'%(P)\n"
     ],
     "language": "python",
     "metadata": {},
     "outputs": [
      {
       "output_type": "stream",
       "stream": "stdout",
       "text": [
        "The trust when the plate is normal to the jet = 13.7 lbs. wt.\n",
        "Total thrust on the plate when inclined = 6.85 lb wt\n"
       ]
      }
     ],
     "prompt_number": 1
    },
    {
     "cell_type": "heading",
     "level": 2,
     "metadata": {},
     "source": [
      "Example 8.2 Page No : 277"
     ]
    },
    {
     "cell_type": "code",
     "collapsed": false,
     "input": [
      "import math \n",
      "\t\t\n",
      "#initialisation of variables\n",
      "a = 180. \t\t#degrees\n",
      "g = 32.2 \t\t#ft/sec**2\n",
      "w = 62.4 \t\t#lbs/ft**3\n",
      "d = 1.  \t\t#in\n",
      "H = 100. \t\t#ft\n",
      "u = 0.95\n",
      "\t\t\n",
      "#CALCULATIONS\n",
      "v = u*math.sqrt(2*g*H)\n",
      "Px = w*(1- math.cos(math.radians(a)))*(math.pi*(d/12)**2/4)*v**2/g\n",
      "\t\t\n",
      "#RESULTS\n",
      "print  'force it exerts = %.1f lb wt'%(Px)\n"
     ],
     "language": "python",
     "metadata": {},
     "outputs": [
      {
       "output_type": "stream",
       "stream": "stdout",
       "text": [
        "force it exerts = 122.9 lb wt\n"
       ]
      }
     ],
     "prompt_number": 2
    },
    {
     "cell_type": "heading",
     "level": 2,
     "metadata": {},
     "source": [
      "Example 8.3 Page No : 278"
     ]
    },
    {
     "cell_type": "code",
     "collapsed": false,
     "input": [
      "\n",
      "import math \n",
      "\t\t\n",
      "#initialisation of variables\n",
      "d = 30. \t\t#in\n",
      "a = 90. \t\t#degrees\n",
      "Q = 62.5 \t\t#ft**3/sec\n",
      "w = 62.4 \t\t#lbs/ft**3\n",
      "n =4.\n",
      "g =32.2\n",
      "\t\t\n",
      "#CALCULATIONS\n",
      "v = Q*4/(math.pi*(d/12)**2)\n",
      "P = w*math.pi*(d/12)**2*v**2/(4*g)\n",
      "Px = P/n\n",
      "\n",
      "#RESULTS\n",
      "print  'pull on each bolt = %.1f lbs'%(Px)\n",
      "\n",
      "# rounding off error. please check."
     ],
     "language": "python",
     "metadata": {},
     "outputs": [
      {
       "output_type": "stream",
       "stream": "stdout",
       "text": [
        "pull on each bolt = 385.5 lbs\n"
       ]
      }
     ],
     "prompt_number": 2
    },
    {
     "cell_type": "heading",
     "level": 2,
     "metadata": {},
     "source": [
      "Example 8.4 Page No : 278"
     ]
    },
    {
     "cell_type": "code",
     "collapsed": false,
     "input": [
      "import math \n",
      "\t\t\n",
      "#initialisation of variables\n",
      "d = 4. \t\t#in\n",
      "v = 30. \t\t#ft/sec\n",
      "a = 22.5 \t\t#degrees\n",
      "w = 62.4 \t\t#lbs/ft**3\n",
      "g = 32.2 \t\t#ft/sec**2\n",
      "\t\t\n",
      "#CALCULATIONS \n",
      "P = w*(math.pi*(d/12)**2/4)*v**2*math.sqrt(2*(1-math.cos(math.radians(a))))/g\n",
      "\t\t\n",
      "#RESULTS\n",
      "print  'Resultant force tending to move the pipe = %.f lbs'%(P)\n",
      "\n",
      "\n",
      "\t\t#ANSWER GIVEN IN THE TEXTBOOK IS WRONG\n"
     ],
     "language": "python",
     "metadata": {},
     "outputs": [
      {
       "output_type": "stream",
       "stream": "stdout",
       "text": [
        "Resultant force tending to move the pipe = 59 lbs\n"
       ]
      }
     ],
     "prompt_number": 4
    },
    {
     "cell_type": "heading",
     "level": 2,
     "metadata": {},
     "source": [
      "Example 8.5 Page No : 284"
     ]
    },
    {
     "cell_type": "code",
     "collapsed": false,
     "input": [
      "import math \n",
      "\t\t\n",
      "#initialisation of variables\n",
      "d = 3. \t\t#in\n",
      "v1 = 80. \t\t#ft/sec\n",
      "v2 = 40. \t\t#ft/sec\n",
      "w = 62.4 \t\t#lbs/ft**3\n",
      "g = 32.2 \t\t#ft/sec**2\n",
      "\t\t\n",
      "#CALCULATIONS\n",
      "vr = v1-v2\n",
      "P = w*vr*v2*math.pi*(d/12)**2/(g*4)\n",
      "\t\t\n",
      "#RESULTS\n",
      "print  'normal pressure on the plate when jet strikes = %.1f lbs'%(P)\n"
     ],
     "language": "python",
     "metadata": {},
     "outputs": [
      {
       "output_type": "stream",
       "stream": "stdout",
       "text": [
        "normal pressure on the plate when jet strikes = 152.2 lbs\n"
       ]
      }
     ],
     "prompt_number": 5
    },
    {
     "cell_type": "heading",
     "level": 2,
     "metadata": {},
     "source": [
      "Example 8.6 Page No : 285"
     ]
    },
    {
     "cell_type": "code",
     "collapsed": false,
     "input": [
      "import math \n",
      "\t\t\n",
      "#initialisation of variables\n",
      "d = 2.  \t\t#in\n",
      "v1 = 50. \t\t#ft/sec\n",
      "v2 = 20. \t\t#ft/sec\n",
      "W = 62.4 \t\t#lbs/ft**3\n",
      "g = 32.2 \t\t#ft/sec**2\n",
      "\t\t\n",
      "#CALCULATIONS\n",
      "vr = v1-v2\n",
      "P = W*vr*v1*math.pi*(d/2)**2/(g*4)\n",
      "W = P*v2\n",
      "KE = 2*vr*v2*100/v1**2\n",
      "\t\t\n",
      "#RESULTS\n",
      "print  'Efficiency = %.f per cent'%(KE)\n"
     ],
     "language": "python",
     "metadata": {},
     "outputs": [
      {
       "output_type": "stream",
       "stream": "stdout",
       "text": [
        "Efficiency = 48 per cent\n"
       ]
      }
     ],
     "prompt_number": 6
    },
    {
     "cell_type": "heading",
     "level": 2,
     "metadata": {},
     "source": [
      "Example 8.7 Page No : 286"
     ]
    },
    {
     "cell_type": "code",
     "collapsed": false,
     "input": [
      "import math \n",
      "\n",
      "#initialisation of variables\n",
      "d = 1. \t\t#in\n",
      "v = 10. \t\t#f/sec\n",
      "v1 = 30. \t\t#ft/sec\n",
      "w = 62.4 \t\t#lbs/ft**3\n",
      "a = 180. \t\t#degrees\n",
      "g = 32.2 \t\t#ft/sec**2\n",
      "\t\t\n",
      "#CALCULATIONS\n",
      "A = math.pi*(d/12)**2/4\n",
      "vr = 80-v1\n",
      "M = w*vr*A\n",
      "Px = M*vr*(1- math.cos(math.radians(a)))/g\n",
      "W = Px*v1\n",
      "M1 = w*80*A\n",
      "Px1 = M1*vr*(1-math.cos(math.radians(a)))/g\n",
      "W1 = Px1*v1\n",
      "\t\t\n",
      "#RESULTS\n",
      "print  'total force when there is a math.single cup = %.1f ft lbs'%(W)\n",
      "print  ' total force when there is a series of cups = %.1f ft lbs'%(W1)\n",
      "\n",
      "# rounding off error."
     ],
     "language": "python",
     "metadata": {},
     "outputs": [
      {
       "output_type": "stream",
       "stream": "stdout",
       "text": [
        "total force when there is a math.single cup = 1585.4 ft lbs\n",
        " total force when there is a series of cups = 2536.7 ft lbs\n"
       ]
      }
     ],
     "prompt_number": 3
    },
    {
     "cell_type": "heading",
     "level": 2,
     "metadata": {},
     "source": [
      "Example 8.8 Page No : 287"
     ]
    },
    {
     "cell_type": "code",
     "collapsed": false,
     "input": [
      "import math \n",
      "\t\t\n",
      "#initialisation of variables\n",
      "v = 100. \t\t#ft/sec\n",
      "u = 40. \t\t#ft/sec\n",
      "a = 25. \t\t#degrees\n",
      "g = 32.2 \t\t#ft/sec**2\n",
      "vr = 66. \t\t#ft/sec\n",
      "a1 = 20. \t\t#/degrees\n",
      "a2 = 8. \t\t#degrees\n",
      "r = 0.14\n",
      "\t\t\n",
      "#CALCULATIONS\n",
      "Uw = v * math.cos(math.radians(a))\n",
      "Uv = v * math.sin(math.radians(a))\n",
      "tanA = Uv/(Uw - u)\n",
      "A = math.degrees(math.atan(tanA))\n",
      "v1 = vr*.14/0.342\n",
      "W = (v**2-v1**2)/(2*g)\n",
      "e = (v**2-v1**2)*100/v**2\n",
      "\n",
      "#RESULTS\n",
      "print  'inlet blade angle  = %.2f degrees'%(A)\n",
      "print  ' Work done  = %.f ft lbs'%(W)\n",
      "print  ' efficiency  = %.2f ft per cent'%(e)\n"
     ],
     "language": "python",
     "metadata": {},
     "outputs": [
      {
       "output_type": "stream",
       "stream": "stdout",
       "text": [
        "inlet blade angle  = 39.85 degrees\n",
        " Work done  = 144 ft lbs\n",
        " efficiency  = 92.70 ft per cent\n"
       ]
      }
     ],
     "prompt_number": 19
    },
    {
     "cell_type": "heading",
     "level": 2,
     "metadata": {},
     "source": [
      "Example 8.9 Page No : 291"
     ]
    },
    {
     "cell_type": "code",
     "collapsed": false,
     "input": [
      "\t\t\n",
      "#initialisation of variables\n",
      "Q = 60. \t\t#ft**3/sec\n",
      "v = 12. \t\t#m.p.h\n",
      "A = 3.  \t\t#ft**2\n",
      "D = 64. \t\t#lbs/ft**3\n",
      "g = 32.2 \t\t#ft/sec**2\n",
      "M = 64. \t\t#lbs\n",
      "\t\t\n",
      "#CALCULATIONS\n",
      "vr = Q/A\n",
      "u = v*44/30\n",
      "v1 = vr-u\n",
      "P = M*Q*v1/g\n",
      "\t\t\n",
      "#RESULTS\n",
      "print  'propelling force = %.1f lbs'%(P)\n"
     ],
     "language": "python",
     "metadata": {},
     "outputs": [
      {
       "output_type": "stream",
       "stream": "stdout",
       "text": [
        "propelling force = 286.2 lbs\n"
       ]
      }
     ],
     "prompt_number": 10
    },
    {
     "cell_type": "heading",
     "level": 2,
     "metadata": {},
     "source": [
      "Example 8.10 Page No : 291"
     ]
    },
    {
     "cell_type": "code",
     "collapsed": false,
     "input": [
      "\t\t\n",
      "#initialisation of variables\n",
      "vr = 20. \t\t#f/sec\n",
      "u = 9.  \t\t#knots\n",
      "D = 64. \t\t#lbs per cubic foot\n",
      "g = 32.2 \t\t#ft/sec**2\n",
      "p = 40. \t\t#per cent\n",
      "\t\t\n",
      "#CALCULATIONS\n",
      "u1 = u*6080/3600\n",
      "v = vr-u1\n",
      "P = D*2*vr*4.8/g\n",
      "HP = P*u1/550\n",
      "HP1 = 100*HP/p\n",
      "\t\t\n",
      "#RESULTS\n",
      "print  'cylinder H.P = %.2f H.P'%(HP1)\n"
     ],
     "language": "python",
     "metadata": {},
     "outputs": [
      {
       "output_type": "stream",
       "stream": "stdout",
       "text": [
        "cylinder H.P = 26.37 H.P\n"
       ]
      }
     ],
     "prompt_number": 11
    },
    {
     "cell_type": "heading",
     "level": 2,
     "metadata": {},
     "source": [
      "Example 8.11 Page No : 293"
     ]
    },
    {
     "cell_type": "code",
     "collapsed": false,
     "input": [
      "import math \n",
      "\t\t\n",
      "#initialisation of variables\n",
      "W = 62.4 \t\t#lbs/ft**3\n",
      "A = 4. \t    \t#ft**2\n",
      "P = 1000. \t\t#lbs\n",
      "g = 32.2 \t\t#ft/sec**2\n",
      "v = 10.  \t\t#ft/sec\n",
      "\t\t\n",
      "#CALCULATIONS\n",
      "vr = math.sqrt(25+(P*g/(W*A)))+5\n",
      "Q = vr*W*A/10\n",
      "e = 2*v*100/(vr+v)\n",
      "\t\t\n",
      "#RESULTS\n",
      "print  'quantity of water pumped = %.1f lbs'%(Q)\n",
      "print  ' efficiency = %.1f per cent'%(e)\n"
     ],
     "language": "python",
     "metadata": {},
     "outputs": [
      {
       "output_type": "stream",
       "stream": "stdout",
       "text": [
        "quantity of water pumped = 434.6 lbs\n",
        " efficiency = 73.0 per cent\n"
       ]
      }
     ],
     "prompt_number": 12
    },
    {
     "cell_type": "heading",
     "level": 2,
     "metadata": {},
     "source": [
      "Example 8.12 Page No : 294"
     ]
    },
    {
     "cell_type": "code",
     "collapsed": false,
     "input": [
      "import math \n",
      "\t\t\n",
      "#initialisation of variables\n",
      "g = 32.2 \t\t#ft/sec**2\n",
      "\t\t\n",
      "#CALCULATIONS\n",
      "v = math.sqrt(32*g)\n",
      "\t\t\n",
      "#RESULTS\n",
      "print  'speed that delivery commence = %.1f ft/sec'%(v)\n"
     ],
     "language": "python",
     "metadata": {},
     "outputs": [
      {
       "output_type": "stream",
       "stream": "stdout",
       "text": [
        "speed that delivery commence = 32.1 ft/sec\n"
       ]
      }
     ],
     "prompt_number": 13
    }
   ],
   "metadata": {}
  }
 ]
}