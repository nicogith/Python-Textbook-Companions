{
 "metadata": {
  "name": ""
 },
 "nbformat": 3,
 "nbformat_minor": 0,
 "worksheets": [
  {
   "cells": [
    {
     "cell_type": "heading",
     "level": 1,
     "metadata": {},
     "source": [
      "Chapter 15 : Heat Transfer"
     ]
    },
    {
     "cell_type": "heading",
     "level": 3,
     "metadata": {},
     "source": [
      "Example 15.1 page no : 792"
     ]
    },
    {
     "cell_type": "code",
     "collapsed": false,
     "input": [
      "# Variables\n",
      "t1 = 60.; \t\t\t#0C\n",
      "t2 = 35.; \t\t\t#0C\n",
      "L = 0.22; \t\t\t#m\n",
      "k = 0.51; \t\t\t#W/m 0C\n",
      "\n",
      "# Calculations\n",
      "q = k*(t1-t2)/L;\n",
      "\n",
      "# Results\n",
      "print (\"Rate of heat transfer per m**2  = %.3f\")% (q), (\"W/m**2\")\n"
     ],
     "language": "python",
     "metadata": {},
     "outputs": [
      {
       "output_type": "stream",
       "stream": "stdout",
       "text": [
        "Rate of heat transfer per m**2  = 57.955 W/m**2\n"
       ]
      }
     ],
     "prompt_number": 1
    },
    {
     "cell_type": "heading",
     "level": 3,
     "metadata": {},
     "source": [
      "Example 15.2 page no : 792"
     ]
    },
    {
     "cell_type": "code",
     "collapsed": false,
     "input": [
      "# Variables\n",
      "t1 = 1325.; \t\t\t#0C\n",
      "t2 = 1200.; \t\t\t#0C\n",
      "t3 = 25.; \t\t\t    #0C\n",
      "L = 0.32; \t\t\t    #m\n",
      "k_A = 0.84; \t\t\t#W/m 0C\n",
      "k_B = 0.16; \t\t\t#W/m 0C\n",
      "\n",
      "# Calculations and Results\n",
      "L_A = (t1-t2)*k_A/k_B*L/((t1-t3)-(t1-t2)*k_A/k_A+(t1-t2)*k_A/k_B); \t\t\t#m\n",
      "print (\"(i)L_A = %.3f\")% (L_A*1000), (\"mm\")\n",
      "\n",
      "L_B = 0.32-L_A; \t\t\t#m\n",
      "print (\"L_B %.3f\")% (L_B*1000), (\"mm\")\n",
      "\n",
      "q = (t1-t2)/L_A*k_A;\n",
      "print (\"(ii) Heat loss per unit area  = %.3f\")% (q), (\"W/m**2\")\n",
      "\n"
     ],
     "language": "python",
     "metadata": {},
     "outputs": [
      {
       "output_type": "stream",
       "stream": "stdout",
       "text": [
        "(i)L_A = 114.676 mm\n",
        "L_B 205.324 mm\n",
        "(ii) Heat loss per unit area  = 915.625 W/m**2\n"
       ]
      }
     ],
     "prompt_number": 3
    },
    {
     "cell_type": "heading",
     "level": 3,
     "metadata": {},
     "source": [
      "Example 15.3 page no : 793"
     ]
    },
    {
     "cell_type": "code",
     "collapsed": false,
     "input": [
      "# Variables\n",
      "L_A = 0.1; \t\t\t#m\n",
      "L_B = 0.04; \t\t#m\n",
      "k_A = 0.7; \t\t\t#W/m 0C\n",
      "k_B = 0.48; \t\t#W/m 0C\n",
      "k_C = 0.065; \t\t#W/m 0C\n",
      "\n",
      "# Calculations\n",
      "#Q2 = 0.2*Q1\n",
      "L_C = 0.8*((L_A/k_A) + (L_B/k_B))*k_C/0.2;\n",
      "\n",
      "# Results\n",
      "print (\"thickness of rock wool insulation  = %.3f\")% (L_C*1000), (\"mm\")\n"
     ],
     "language": "python",
     "metadata": {},
     "outputs": [
      {
       "output_type": "stream",
       "stream": "stdout",
       "text": [
        "thickness of rock wool insulation  = 58.810 mm\n"
       ]
      }
     ],
     "prompt_number": 4
    },
    {
     "cell_type": "heading",
     "level": 3,
     "metadata": {},
     "source": [
      "Example 15.4 page no : 794"
     ]
    },
    {
     "cell_type": "code",
     "collapsed": false,
     "input": [
      "# Variables\n",
      "L_A = 0.2; \t\t\t#m\n",
      "L_C = 0.006; \t\t#m\n",
      "L_D = 0.1; \t\t\t#m\n",
      "t1 = 1150.; \t\t#0C\n",
      "t2 = 40.; \t\t\t#0C\n",
      "dt = t1-t2;\n",
      "k_A = 1.52; \t\t#W/m 0C\n",
      "k_B = 0.138; \t\t#W/m 0C\n",
      "k_D = 0.138; \t\t#W/m 0C\n",
      "k_C = 45.; \t\t\t#W/m 0C\n",
      "q = 400.; \t\t\t#W/m**2\n",
      "\n",
      "# Calculations and Results\n",
      "print (\"(i) The value of x  =  (L_C): \")\n",
      "L_B = ((t1-t2)/q - (L_A/k_A+L_C/k_C+L_D/k_D))*k_B*1000;\n",
      "print (\"L_B  = %.3f\")% (L_B), (\"mm\")\n",
      "\n",
      "\n",
      "t_so = q*L_D/k_D + t2;\n",
      "print (\"(ii) Temperature of the outer surface of the steel plate t_so  = %.3f\")% (t_so), (\"0C\")\n"
     ],
     "language": "python",
     "metadata": {},
     "outputs": [
      {
       "output_type": "stream",
       "stream": "stdout",
       "text": [
        "(i) The value of x  =  (L_C): \n",
        "L_B  = 264.774 mm\n",
        "(ii) Temperature of the outer surface of the steel plate t_so  = 329.855 0C\n"
       ]
      }
     ],
     "prompt_number": 4
    },
    {
     "cell_type": "heading",
     "level": 3,
     "metadata": {},
     "source": [
      "Example 15.5 page no : 795"
     ]
    },
    {
     "cell_type": "code",
     "collapsed": false,
     "input": [
      "# Variables\n",
      "k_A = 150.; \t\t\t#W/m 0C\n",
      "k_B = 30.; \t\t\t#W/m 0C\n",
      "k_C = 65.; \t\t\t#W/m 0C\n",
      "k_D = 50.; \t\t\t#W/m 0C\n",
      "L_A = 0.03; \t\t\t#m\n",
      "L_B = 0.08; \t\t\t#m\n",
      "L_C = L_B;\n",
      "L_D = 0.05; \t\t\t#m\n",
      "A_A = 0.01; \t\t\t#m**2\n",
      "A_B = 0.003; \t\t\t#m**2\n",
      "A_C = 0.007; \t\t\t#m**2\n",
      "A_D = 0.01; \t\t\t#m**2\n",
      "t1 = 400.; \t\t\t#0C\n",
      "t4 = 60.; \t\t\t#0C\n",
      "\n",
      "# Calculations\n",
      "R_thA = L_A/k_A/A_A;\n",
      "R_thB = L_B/k_B/A_B;\n",
      "R_thC = L_C/k_C/A_C;\n",
      "R_thD = L_D/k_D/A_D;\n",
      "\n",
      "R_th_eq = R_thB*R_thC/(R_thB+R_thC);\n",
      "R_th_total = R_thA+R_th_eq+R_thD;\n",
      "Q = (t1-t4)/R_th_total;\n",
      "\n",
      "# Results\n",
      "print (\"heat flow rate = %.3f\")% (Q), (\"W\")\n"
     ],
     "language": "python",
     "metadata": {},
     "outputs": [
      {
       "output_type": "stream",
       "stream": "stdout",
       "text": [
        "heat flow rate = 1274.415 W\n"
       ]
      }
     ],
     "prompt_number": 5
    },
    {
     "cell_type": "heading",
     "level": 3,
     "metadata": {},
     "source": [
      "Example 15.6 page no : 796"
     ]
    },
    {
     "cell_type": "code",
     "collapsed": false,
     "input": [
      "# Variables\n",
      "L = 0.012; \t\t\t#m\n",
      "t_hf = 95.; \t\t\t#0C\n",
      "t_cf = 15.; \t\t\t#0C\n",
      "k = 50.; \t\t\t#W/m 0C\n",
      "h_hf = 2850.; \t\t\t#W/m**2 0C\n",
      "h_cf = 10.; \t\t\t#W/m**2 0C\n",
      "\n",
      "# Calculations and Results\n",
      "print (\"(i) Rate of heat loss per m**2 of the tank surface area\")\n",
      "U = 1./(1./h_hf + L/k + 1./h_cf);\n",
      "A = 1.; \t\t\t    #m**2\n",
      "q = U*A*(t_hf-t_cf);\n",
      "print (\"q = %.3f\")% (q), (\"W/m**2\")\n",
      "\n",
      "t2 = q/h_cf+t_cf;\n",
      "print (\"(ii) Temperature of the outside surface of the tank  = %.3f\")% (t2), (\"0C\")\n"
     ],
     "language": "python",
     "metadata": {},
     "outputs": [
      {
       "output_type": "stream",
       "stream": "stdout",
       "text": [
        "(i) Rate of heat loss per m**2 of the tank surface area\n",
        "q = 795.301 W/m**2\n",
        "(ii) Temperature of the outside surface of the tank  = 94.530 0C\n"
       ]
      }
     ],
     "prompt_number": 7
    },
    {
     "cell_type": "heading",
     "level": 3,
     "metadata": {},
     "source": [
      "Example 15.7 page no : 797"
     ]
    },
    {
     "cell_type": "code",
     "collapsed": false,
     "input": [
      "# Variables\n",
      "L_A = 0.003; \t\t\t#m\n",
      "L_B = 0.05; \t\t\t#m\n",
      "L_C = L_A;\n",
      "k_A = 46.5; \t\t\t#W/m 0C\n",
      "k_B = 0.046; \t\t\t#W/m 0C\n",
      "k_C = k_A;\n",
      "h0 = 11.6; \t\t\t#W/m**2 0C\n",
      "hi = 14.5; \t\t\t#W/m**2 0C\n",
      "t0 = 25.; \t\t\t#0C\n",
      "ti = 6.; \t\t\t#0C\n",
      "\n",
      "# Calculations and Results\n",
      "A = 0.5*0.5*2+0.5*1*4; \t\t\t#m**2\n",
      "\n",
      "Q = A*(t0-ti)/(1/h0 + L_A/k_A + L_B/k_B + L_C/k_C + 1/hi);\n",
      "print (\"(i) The rate of removal of heat  = %.3f\")% (Q), (\"W\")\n",
      "\n",
      "t1 = t0-Q/h0/A;\n",
      "print (\"(ii) The temperature at the outer surface of the metal sheet  = %.3f\")% (t1), (\"0C\")\n"
     ],
     "language": "python",
     "metadata": {},
     "outputs": [
      {
       "output_type": "stream",
       "stream": "stdout",
       "text": [
        "(i) The rate of removal of heat  = 38.237 W\n",
        "(ii) The temperature at the outer surface of the metal sheet  = 23.681 0C\n"
       ]
      }
     ],
     "prompt_number": 8
    },
    {
     "cell_type": "heading",
     "level": 3,
     "metadata": {},
     "source": [
      "Example 15.8 page no : 798"
     ]
    },
    {
     "cell_type": "code",
     "collapsed": false,
     "input": [
      "#Varaible Declaration\n",
      "L_A = 0.25; \t\t#m\n",
      "import math \n",
      "L_B = 0.1; \t\t\t#m\n",
      "L_C = 0.15; \t\t#m\n",
      "k_A = 1.65; \t\t#W/m \u00b0C\n",
      "k_C = 9.2; \t\t\t#W/m \u00b0C\n",
      "t_hf = 1250.; \t\t#\u00b0C\n",
      "t1 = 1100.; \t\t\t#\u00b0C\n",
      "t_cf = 25.; \t\t\t#\u00b0C\n",
      "h_hf = 25.; \t\t\t#W/m**2 \u00b0C\n",
      "h_cf = 12.; \t\t\t#W/m**2 \u00b0C\n",
      "\n",
      "\n",
      "#Calculations and Results\n",
      "q = h_hf*(t_hf-t1);\n",
      "l = 0.0355\n",
      "k_B = L_B/l           #((t_hf-t_cf)/q-1/h_hf-L_A/k_A-L_C/k_C-1/h_cf);\n",
      "print (\" (i)Thermal conductivity,k = %.3f\")% (k_B), (\"W/m**2 \u00b0C\")\n",
      "\n",
      "\n",
      "R_th_total = 1./h_hf+L_A/k_A+L_B/k_B+L_C/k_C+1./h_cf;\n",
      "U = 1/R_th_total\n",
      "print (\"(ii) The overall transfer coefficient  = %.2f\")% (U), (\"W/m**2 \u00b0C\")\n",
      "\n",
      "\n",
      "print (\"(iii) All surface temperature \")\n",
      "\n",
      "print (\"t1 = %.3f\")% (t1),(\"\u00b0C\")\n",
      "\n",
      "t2 = t1-q*L_A/k_A;\n",
      "print (\"t2 = %.3f\")% (t2), (\"\u00b0C\")\n",
      "\n",
      "t3 = t2-q*L_B/k_B;\n",
      "print (\"t3 = %.3f\")% (t3), (\"\u00b0C\")\n",
      "\n",
      "t4 = t3-q*L_C/k_C;\n",
      "print (\"t4 = %.3f\")% (t4), (\"\u00b0C\")\n"
     ],
     "language": "python",
     "metadata": {},
     "outputs": [
      {
       "output_type": "stream",
       "stream": "stdout",
       "text": [
        " (i)Thermal conductivity,k = 2.817 W/m**2 \u00b0C\n",
        "(ii) The overall transfer coefficient  = 3.06 W/m**2 \u00b0C\n",
        "(iii) All surface temperature \n",
        "t1 = 1100.000 \u00b0C\n",
        "t2 = 531.818 \u00b0C\n",
        "t3 = 398.693 \u00b0C\n",
        "t4 = 337.552 \u00b0C\n"
       ]
      }
     ],
     "prompt_number": 15
    },
    {
     "cell_type": "heading",
     "level": 3,
     "metadata": {},
     "source": [
      "Example 15.9 page no : 802"
     ]
    },
    {
     "cell_type": "code",
     "collapsed": false,
     "input": [
      "import math\n",
      "\n",
      "# Variables\n",
      "r1 = 0.01; \t\t\t#m\n",
      "r2 = 0.02; \t\t\t#m\n",
      "r3 = 0.05; \t\t\t#m\n",
      "t1 = 600.; \t\t\t#0C\n",
      "t3 = 1000.; \t\t#0C\n",
      "k_B = 0.2; \t\t\t#W/m 0C\n",
      "\n",
      "# Calculations\n",
      "q = 2*math.pi*(t1-t3)/(math.log(r3/r2)/k_B);\n",
      "\n",
      "# Results\n",
      "print (\"Heat transfer per metre of length  = %.3f\")% (q), (\"W/m\")\n"
     ],
     "language": "python",
     "metadata": {},
     "outputs": [
      {
       "output_type": "stream",
       "stream": "stdout",
       "text": [
        "Heat transfer per metre of length  = -548.576 W/m\n"
       ]
      }
     ],
     "prompt_number": 10
    },
    {
     "cell_type": "heading",
     "level": 3,
     "metadata": {},
     "source": [
      "Example 15.10 page no : 803"
     ]
    },
    {
     "cell_type": "code",
     "collapsed": false,
     "input": [
      "import math\n",
      "\n",
      "# Variables\n",
      "r1 = 0.06; \t\t\t#m\n",
      "r2 = 0.12; \t\t\t#m\n",
      "r3 = 0.16; \t\t\t#m\n",
      "k_A = 0.24; \t\t\t#W/m 0C\n",
      "k_B = 0.4; \t\t\t#W/m 0C\n",
      "h_hf = 60.; \t\t\t#W/m**2 0C\n",
      "h_cf = 12.; \t\t\t#W/m**2 0C\n",
      "t_hf = 65.; \t\t\t#0C\n",
      "t_cf = 20.; \t\t\t#0C\n",
      "L = 60.; \t\t\t#m\n",
      "\n",
      "# Calculations\n",
      "Q = 2*math.pi*L*(t_hf-t_cf)/(1/h_hf/r1 + math.log(r2/r1)/k_A + math.log(r3/r2)/k_B + 1/h_cf/r3);\n",
      "\n",
      "# Results\n",
      "print (\"Rate of heat loss  = %.3f\")% (Q), (\"W\")\n"
     ],
     "language": "python",
     "metadata": {},
     "outputs": [
      {
       "output_type": "stream",
       "stream": "stdout",
       "text": [
        "Rate of heat loss  = 3850.402 W\n"
       ]
      }
     ],
     "prompt_number": 11
    },
    {
     "cell_type": "heading",
     "level": 3,
     "metadata": {},
     "source": [
      "Example 15.11 page no : 804"
     ]
    },
    {
     "cell_type": "code",
     "collapsed": false,
     "input": [
      "# Variables\n",
      "r1 = 0.06; \t\t\t#m\n",
      "r2 = 0.08; \t\t\t#m\n",
      "k_A = 42.; \t\t\t#W/m 0C\n",
      "k_B = 0.8; \t\t\t#W/m 0C\n",
      "t_hf = 150.; \t\t\t#0C\n",
      "t_cf = 20.; \t\t\t#0C\n",
      "h_hf = 100.; \t\t\t#W/m**2 0C\n",
      "h_cf = 30.; \t\t\t#W/m**2 0C\n",
      "r3 = 0.105; \t\t\t#m\n",
      "\n",
      "# Calculations\n",
      "thickness = (r3-r2)*1000; \t\t\t#mm\n",
      "\n",
      "# Results\n",
      "print (\"Thickness of insulation  = \"), (thickness), (\"mm\")\n"
     ],
     "language": "python",
     "metadata": {},
     "outputs": [
      {
       "output_type": "stream",
       "stream": "stdout",
       "text": [
        "Thickness of insulation  =  25.0 mm\n"
       ]
      }
     ],
     "prompt_number": 12
    },
    {
     "cell_type": "heading",
     "level": 3,
     "metadata": {},
     "source": [
      "Example 15.12 page no : 807"
     ]
    },
    {
     "cell_type": "code",
     "collapsed": false,
     "input": [
      "# Variables\n",
      "r2 = 0.7; \t\t\t#m\n",
      "r1 = 0.61; \t\t\t#m\n",
      "dt = 220.; \t\t\t#dt = t1-t2; 0C\n",
      "k = 0.083; \t\t\t#W/m 0C\n",
      "\n",
      "# Calculations\n",
      "Q = dt/((r2-r1)/(4*math.pi*k*r1*r2));\n",
      "\n",
      "# Results\n",
      "print (\"Rate of heat leakage  = %.3f\")% (Q), (\"W\")\n"
     ],
     "language": "python",
     "metadata": {},
     "outputs": [
      {
       "output_type": "stream",
       "stream": "stdout",
       "text": [
        "Rate of heat leakage  = 1088.669 W\n"
       ]
      }
     ],
     "prompt_number": 13
    },
    {
     "cell_type": "heading",
     "level": 3,
     "metadata": {},
     "source": [
      "Example 15.13 page no : 811"
     ]
    },
    {
     "cell_type": "code",
     "collapsed": false,
     "input": [
      "import math \n",
      "\n",
      "# Variables\n",
      "r1 = 0.001; \t\t\t#m\n",
      "r2 = 0.0018; \t\t\t#m\n",
      "k = 0.12; \t\t\t#W/m 0C\n",
      "h0 = 35.; \t\t\t#W/m**2 0C\n",
      "\n",
      "# Calculations\n",
      "rc = k/h0;\n",
      "thickness = (rc-r1)*10**3; \t\t\t#mm\n",
      "increase = (1/(math.log(rc/r1)/k + 1/h0/rc)-1/(math.log(r2/r1)/k + 1/h0/r2))/(1/(math.log(r2/r1)/k + 1/h0/r2))*100;\n",
      "\n",
      "# Results\n",
      "print (\"Critical thickness of insulation  = %.3f\")% (thickness), (\"mm\")\n",
      "\n",
      "print (\"Percentage change in heat transfer rate  = %.3f\")% (increase), (\"%\")\n"
     ],
     "language": "python",
     "metadata": {},
     "outputs": [
      {
       "output_type": "stream",
       "stream": "stdout",
       "text": [
        "Critical thickness of insulation  = 2.429 mm\n",
        "Percentage change in heat transfer rate  = 11.666 %\n"
       ]
      }
     ],
     "prompt_number": 15
    },
    {
     "cell_type": "heading",
     "level": 3,
     "metadata": {},
     "source": [
      "Example 15.14 page no : 813"
     ]
    },
    {
     "cell_type": "code",
     "collapsed": false,
     "input": [
      "# Variables\n",
      "A = 1*1.5; \t\t\t#m**2\n",
      "ts = 300.; \t\t\t#0C\n",
      "tf = 20.; \t\t\t#0C\n",
      "h = 20.; \t\t\t#W/m**2 0C\n",
      "\n",
      "# Calculations\n",
      "Q = h*A*(ts-tf)/10**3; \t\t\t#kW\n",
      "\n",
      "# Results\n",
      "print (\"Rate of heat transfer  = \"), (Q), (\"kW\")\n"
     ],
     "language": "python",
     "metadata": {},
     "outputs": [
      {
       "output_type": "stream",
       "stream": "stdout",
       "text": [
        "Rate of heat transfer  =  8.4 kW\n"
       ]
      }
     ],
     "prompt_number": 16
    },
    {
     "cell_type": "heading",
     "level": 3,
     "metadata": {},
     "source": [
      "Example 15.15 page no : 813"
     ]
    },
    {
     "cell_type": "code",
     "collapsed": false,
     "input": [
      "import math\n",
      "\n",
      "# Variables\n",
      "d = 0.0015; \t\t\t#m\n",
      "l = 0.15; \t\t\t#m\n",
      "A = math.pi*d*l;\n",
      "ts = 120.; \t\t\t#0C\n",
      "tf = 100.; \t\t\t#0C\n",
      "h = 4500.; \t\t\t#W/m**2 0C\n",
      "\n",
      "# Calculations\n",
      "Q = h*A*(ts-tf);\n",
      "\n",
      "# Results\n",
      "print (\"Electric power to be supplied  = %.3f\")% (Q), (\"W\")\n"
     ],
     "language": "python",
     "metadata": {},
     "outputs": [
      {
       "output_type": "stream",
       "stream": "stdout",
       "text": [
        "Electric power to be supplied  = 63.617 W\n"
       ]
      }
     ],
     "prompt_number": 17
    },
    {
     "cell_type": "heading",
     "level": 3,
     "metadata": {},
     "source": [
      "Example 15.16 page no : 814"
     ]
    },
    {
     "cell_type": "code",
     "collapsed": false,
     "input": [
      "import math \n",
      "\n",
      "# Variables\n",
      "D = 0.045; \t\t\t#m\n",
      "l = 3.2; \t\t\t#m\n",
      "u = 0.78; \t\t\t#m/s\n",
      "k = 0.66; \t\t\t#W/m K\n",
      "v = 0.478*10**(-6); \t\t\t#m**2/s\n",
      "Pr = 2.98;\n",
      "tw = 70.; \t\t\t#0C\n",
      "tf = 50.; \t\t\t#0C\n",
      "\n",
      "# Calculations\n",
      "A = math.pi*D*l;\n",
      "Re = D*u/v;\n",
      "h = 0.023*(Re)**0.8*(Pr)**0.4/D*k;\n",
      "Q = h*A*(tw-tf)/10**3;\n",
      "\n",
      "# Results\n",
      "print (\"Heat transfer co-efficient  = %.3f\")% (h), (\"W/m**2 K\")\n",
      "\n",
      "print (\"Rate of heat transfer  = %.3f\")% (Q), (\"kW\")\n"
     ],
     "language": "python",
     "metadata": {},
     "outputs": [
      {
       "output_type": "stream",
       "stream": "stdout",
       "text": [
        "Heat transfer co-efficient  = 4078.018 W/m**2 K\n",
        "Rate of heat transfer  = 36.897 kW\n"
       ]
      }
     ],
     "prompt_number": 18
    },
    {
     "cell_type": "heading",
     "level": 3,
     "metadata": {},
     "source": [
      "Example 15.17 page no : 814"
     ]
    },
    {
     "cell_type": "code",
     "collapsed": false,
     "input": [
      "import math \n",
      "\n",
      "# Variables\n",
      "rho = 983.2; \t\t\t#kg/m**2\n",
      "cp = 4.187; \t\t\t#kJ/kg K\n",
      "k = 0.659; \t\t\t#W/m 0C\n",
      "v = 0.478*10**(-6); \t\t\t#m**2/s\n",
      "m = 0.5/60; \t\t\t#kg/s\n",
      "D = 0.02; \t\t\t#m\n",
      "ti = 20.; \t\t\t#0C\n",
      "t0 = 50.; \t\t\t#0C\n",
      "ts = 85.; \t\t\t#surface temperature in 0C\n",
      "\n",
      "# Calculations\n",
      "tf = 1./2*(ts+(ti+t0)/2);\n",
      "A = math.pi/4*D**2;\n",
      "u = m/rho/A;\n",
      "Re = D*u/v;\n",
      "\n",
      "#Since Re < 2000, hence the flow is laminar.\n",
      "Nu = 3.65;\n",
      "h = Nu*k/D;\n",
      "tb = (t0+ti)/2;\n",
      "L = m*cp*10**3*(t0-ti)/(ts-tb)/h/D/math.pi;\n",
      "\n",
      "# Results\n",
      "print (\"Length of the tube required for fully developed flow  = %.3f\")% (L), (\"m\")\n"
     ],
     "language": "python",
     "metadata": {},
     "outputs": [
      {
       "output_type": "stream",
       "stream": "stdout",
       "text": [
        "Length of the tube required for fully developed flow  = 2.770 m\n"
       ]
      }
     ],
     "prompt_number": 19
    },
    {
     "cell_type": "heading",
     "level": 3,
     "metadata": {},
     "source": [
      "Example 15.18 page no : 825"
     ]
    },
    {
     "cell_type": "code",
     "collapsed": false,
     "input": [
      "import math \n",
      "\n",
      "# Variables\n",
      "m_h = 0.2; \t\t\t#kg/s\n",
      "m_c = 0.5; \t\t\t#kg/s\n",
      "t_h1 = 75.; \t\t\t#0C\n",
      "t_h2 = 45.; \t\t\t#0C\n",
      "t_c1 = 20.; \t\t\t#0C\n",
      "hi = 650.; \t\t\t#W/m**2 0C\n",
      "h0 = hi;\n",
      "cph = 4.187;\n",
      "cpc = cph\n",
      "\n",
      "# Calculations\n",
      "Q = m_h*cph*(t_h1-t_h2);\n",
      "t_c2 = m_h*cph/cpc*(t_h1-t_h2)/m_c+t_c1;\n",
      "theta = ((t_h1-t_c1)- (t_h2-t_c2))/math.log((t_h1-t_c1)/(t_h2-t_c2)); \t\t\t#Logarithmic mean temperature difference\n",
      "U = hi*h0/(hi+h0);\n",
      "A = Q*10**3/U/theta;\n",
      "\n",
      "# Results\n",
      "print (\"The area of heat exchanger  = %.3f\")% (A), (\"m**2\")\n"
     ],
     "language": "python",
     "metadata": {},
     "outputs": [
      {
       "output_type": "stream",
       "stream": "stdout",
       "text": [
        "The area of heat exchanger  = 2.655 m**2\n"
       ]
      }
     ],
     "prompt_number": 20
    },
    {
     "cell_type": "heading",
     "level": 3,
     "metadata": {},
     "source": [
      "Example 15.19 page no : 827"
     ]
    },
    {
     "cell_type": "code",
     "collapsed": false,
     "input": [
      "# Variables\n",
      "t_c1 = 25.; \t\t\t#0C\n",
      "t_c2 = 65.; \t\t\t#0C\n",
      "cph = 1.45; \t\t\t#kJ/kg K\n",
      "m_h = 0.9; \t\t    \t#kg/s\n",
      "t_h1 = 230.; \t\t\t#0C\n",
      "t_h2 = 160.; \t\t\t#0C\n",
      "U = 420.; \t    \t\t#W/m**2 0C\n",
      "cpc = 4.187; \t\t\t#kJ/kg K\n",
      "\n",
      "# Calculations and Results\n",
      "Q = m_h*cph*(t_h1-t_h2);\n",
      "print (\"(i) The rate of heat transfer  = \"), (Q), (\"kJ/s\")\n",
      "\n",
      "m_c = Q/cpc/(t_c2-t_c1);\n",
      "print (\"(ii) The mass flow rate of water  = %.3f\")% (m_c), (\"kg/s\")\n",
      "\n",
      "\n",
      "print (\"(iii) The surface area of heat exchanger  = \")\n",
      "LMTD = ((t_h1-t_c2)- (t_h2-t_c1))/math.log((t_h1-t_c2)/(t_h2-t_c1)); \t\t\t#math.logarithmic mean temperature difference\n",
      "A = Q*10**3/U/LMTD;\n",
      "print (\"A = %.3f\")% (A), (\"m**2\")\n"
     ],
     "language": "python",
     "metadata": {},
     "outputs": [
      {
       "output_type": "stream",
       "stream": "stdout",
       "text": [
        "(i) The rate of heat transfer  =  91.35 kJ/s\n",
        "(ii) The mass flow rate of water  = 0.545 kg/s\n",
        "(iii) The surface area of heat exchanger  = \n",
        "A = 1.455 m**2\n"
       ]
      }
     ],
     "prompt_number": 21
    },
    {
     "cell_type": "heading",
     "level": 3,
     "metadata": {},
     "source": [
      "Example 15.20 page no : 828"
     ]
    },
    {
     "cell_type": "code",
     "collapsed": false,
     "input": [
      "import math \n",
      "\n",
      "# Variables\n",
      "m_s = 800./60; \t\t\t#kg/s\n",
      "m_c = m_s;\n",
      "m_g = 1350./60; \t\t\t#kg/s\n",
      "m_h = m_g;\n",
      "t_h1 = 650.; \t\t\t#0C\n",
      "t_c1 = 180.; \t\t\t#0C\n",
      "t_c2 = 350.; \t\t\t#0C\n",
      "d = 0.03; \t\t\t#m\n",
      "L = 3.; \t\t\t#m\n",
      "cph = 1.; \t\t\t#kJ/kg K\n",
      "cpc = 2.71; \t\t\t#kJ/kg K\n",
      "h_g = 250.;\n",
      "h_s = 600.;\n",
      "\n",
      "# Calculations\n",
      "t_h2 = round(t_h1-(m_c*cpc*(t_c2-t_c1)/cph/m_h));\n",
      "U = round(h_g*h_s/(h_g+h_s),1);\n",
      "Q = round(m_h*(cph*10**3)*(t_h1-t_h2),1);\n",
      "theta = ((t_h1-t_c2)- (t_h2-t_c1))/math.log((t_h1-t_c2)/(t_h2-t_c1));# logarithmic mean temperature differenceN = Q/U/theta/(math.pi*d*L);\n",
      "\n",
      "\n",
      "# Results\n",
      "print (\"%.1f\")% (theta), (\"C\")\n",
      "\n",
      "N = (6142.5 * 10**3)/(U * 0.2827* theta)\n",
      "print \"number of tubes required  = %.0f\" % N\n",
      "\n"
     ],
     "language": "python",
     "metadata": {},
     "outputs": [
      {
       "output_type": "stream",
       "stream": "stdout",
       "text": [
        "244.9 C\n",
        "number of tubes required  = 503\n"
       ]
      }
     ],
     "prompt_number": 31
    },
    {
     "cell_type": "heading",
     "level": 3,
     "metadata": {},
     "source": [
      "Example 15.21 page no : 829"
     ]
    },
    {
     "cell_type": "code",
     "collapsed": false,
     "input": [
      "# Variables\n",
      "di = 0.0296; \t\t\t#m\n",
      "d0 = 0.0384; \t\t\t#m\n",
      "U = 4000.; \t\t\t#W/m**2 0C\n",
      "V = 3.; \t\t\t#m/s\n",
      "t_c1 = 24.; \t\t\t#0C\n",
      "x = 0.9;\n",
      "ps = (760-660.)/760*1.0133; \t\t\t#bar\n",
      "t_h1 = 51.; \t\t\t#0C\n",
      "t_h2 = 51.; \t\t\t#0C\n",
      "h_fg = 2592.; \t\t\t#kJ/kg\n",
      "t_c2 = 47.; \t\t\t#0C\n",
      "P = 15.; \t\t\t#MW\n",
      "ssc = 5.; \t\t\t#specific steam consumption in kg/kWh\n",
      "cpc = 4.187; \t\t\t#kJ?kg K\n",
      "rho = 1000.;\n",
      "\n",
      "# Calculations and Results\n",
      "m_s = P*10.**3*ssc/60; \t\t\t#kg/min\n",
      "m_w = m_s*x*h_fg/cpc/(t_c2-t_c1);\n",
      "print (\"(i) Mass of cooling water circulated per minute  = %.3f\")% (m_w), (\"kg/min\")\n",
      "\n",
      "\n",
      "Q = m_s*x*h_fg*10**3/60.;\n",
      "\n",
      "theta = ((t_h1-t_c1)- (t_h2-t_c2))/math.log((t_h1-t_c1)/(t_h2-t_c2)); \t\t\t#Logarithmic mean temperature difference\n",
      "A = Q/U/theta;\n",
      "print (\"(ii) Condenser surface area %.3f\")% (A), (\"m**2\")\n",
      "\n",
      "Np = m_w/60*4/math.pi/di**2/V/rho;\n",
      "print (\"(iii) Number of tubes required per pass  = %.3f\")% (Np)\n",
      "\n",
      "L = A/math.pi/d0/(2*Np);\n",
      "print (\"(iv) Tube length  = %.3f\")% (L), (\"m\")\n"
     ],
     "language": "python",
     "metadata": {},
     "outputs": [
      {
       "output_type": "stream",
       "stream": "stdout",
       "text": [
        "(i) Mass of cooling water circulated per minute  = 30280.059 kg/min\n",
        "(ii) Condenser surface area 1008.737 m**2\n",
        "(iii) Number of tubes required per pass  = 244.462\n",
        "(iv) Tube length  = 17.102 m\n"
       ]
      }
     ],
     "prompt_number": 23
    },
    {
     "cell_type": "heading",
     "level": 3,
     "metadata": {},
     "source": [
      "Example 15.22 page no : 831"
     ]
    },
    {
     "cell_type": "code",
     "collapsed": false,
     "input": [
      "import math \n",
      "\n",
      "# Variables\n",
      "cp = 4.187; \t\t\t#kJ/kg \u00b0C\n",
      "u = 0.596*10**(-3); \t#Ns/m**2\n",
      "k = 0.635; \t\t\t    #W/m \u00b0C\n",
      "Pr = 3.93; \n",
      "d = 0.020; \t\t\t#m\n",
      "l = 2.; \t\t\t#m\n",
      "m_c = 10.; \t\t\t#kg/s\n",
      "t_c1 = 17.; \t\t#/\u00b0C\n",
      "t_h1 = 100.; \t\t#\u00b0C\n",
      "t_h2 = 100.; \t\t#\u00b0C\n",
      "rho = 1000.;\n",
      "N = 200.;\n",
      "Np = N/l;\n",
      "h0 = 10.*10**3;\n",
      "\n",
      "# Calculations\n",
      "V = m_c*4/math.pi/d**2/rho/Np;\n",
      "Re = rho*V*d/u;\n",
      "hi = k/d*0.023*(Re)**0.8*(Pr)**0.33;\n",
      "U = hi*h0/(hi+h0);\n",
      "t_c2 = (U*math.pi*d*l*N*91.5 + m_c*cp*10**3*t_c1)/(m_c*cp*10**3 + U*math.pi*d*l*N*0.5);\n",
      "\n",
      "# Results\n",
      "print (\"water exit temperature  = %.3f\")% (t_c2), (\"\u00b0C\")\n"
     ],
     "language": "python",
     "metadata": {},
     "outputs": [
      {
       "output_type": "stream",
       "stream": "stdout",
       "text": [
        "water exit temperature  = 71.043 \u00b0C\n"
       ]
      }
     ],
     "prompt_number": 24
    },
    {
     "cell_type": "heading",
     "level": 3,
     "metadata": {},
     "source": [
      "Example 15.23 page no : 842"
     ]
    },
    {
     "cell_type": "code",
     "collapsed": false,
     "input": [
      "import math \n",
      "\n",
      "# Variables\n",
      "A = 0.12; \t\t\t#m**2\n",
      "T = 800.; \t\t\t#K\n",
      "a = 5.67*10**(-8);\n",
      "\n",
      "# Calculations and Results\n",
      "Eb = a*A*T**4;\n",
      "print (\"(i) The total rate of energy emission  = %.3f\")% (Eb),(\"W\")\n",
      "\n",
      "Ibn = a*T**4/math.pi;\n",
      "print (\"(ii) The intensity of normal radiation  = %.3f\")% (Ibn), (\"W/m**2.sr\")\n",
      "\n",
      "wavelength = 2898/T;\n",
      "print (\"(iii) The wavelength of maximum monochromatic emissive power  = %.3f\")%(wavelength), (\"\u03bcm\")\n"
     ],
     "language": "python",
     "metadata": {},
     "outputs": [
      {
       "output_type": "stream",
       "stream": "stdout",
       "text": [
        "(i) The total rate of energy emission  = 2786.918 W\n",
        "(ii) The intensity of normal radiation  = 7392.531 W/m**2.sr\n",
        "(iii) The wavelength of maximum monochromatic emissive power  = 3.623 \u03bcm\n"
       ]
      }
     ],
     "prompt_number": 25
    },
    {
     "cell_type": "heading",
     "level": 3,
     "metadata": {},
     "source": [
      "Example 15.24 page no : 842"
     ]
    },
    {
     "cell_type": "code",
     "collapsed": false,
     "input": [
      "# Variables\n",
      "wavelength = 0.49; \t\t\t#\u03bcm\n",
      "a = 5.67*10**(-8);\n",
      "\n",
      "# Calculations and Results\n",
      "T = 2898/wavelength;\n",
      "print (\"(i) The surface temperature of the sun %.3f\")% (T), (\"K\")\n",
      "\n",
      "E_sun = a*T**4;\n",
      "print (\"(ii) The heat flux at the surface of the sun  = %.3f\")% (E_sun/1E+7), (\"*10^7 W/m**2\")\n"
     ],
     "language": "python",
     "metadata": {},
     "outputs": [
      {
       "output_type": "stream",
       "stream": "stdout",
       "text": [
        "(i) The surface temperature of the sun 5914.286 K\n",
        "(ii) The heat flux at the surface of the sun  = 6.937 *10^7 W/m**2\n"
       ]
      }
     ],
     "prompt_number": 14
    },
    {
     "cell_type": "heading",
     "level": 3,
     "metadata": {},
     "source": [
      "Example 15.25 page no : 843"
     ]
    },
    {
     "cell_type": "code",
     "collapsed": false,
     "input": [
      "import math\n",
      "\n",
      "# Variables\n",
      "T = 2773.            \t\t\t#K\n",
      "lambda_ = 1.2 * 10**-6\n",
      "e = 0.9;\n",
      "a = 5.67*10**(-8);\n",
      "\n",
      "# Calculations and Results\n",
      "print (\"(i) Monochromatic emissive power at 1.2 \u03bcm length\")\n",
      "C1 = 0.3742*10**(-15); \t\t\t#W.m**4/m**2\n",
      "C2 = 1.4388*10**(-4); \t\t\t#mK\n",
      "E_lambda_b = C1*lambda_**(-5)/((math.exp(C2/lambda_/T)-1));\n",
      "\n",
      "print (\"E_lambda_b  = %.2e\")% (E_lambda_b)\n",
      "\n",
      "lambda_max = 2898/T;\n",
      "print (\"(ii) Wavelength at which the emission is maximum  = %.3f\")% (lambda_max), (\"\u03bcm\")\n",
      "\n",
      "E_lambda_b_max = 1.285*10.**(-5)*T**5;\n",
      "print (\"(iii) Maximum emissive power  = %.3f\")% (E_lambda_b_max/1E+12), (\"*10^12 W/m**2 per metre length\")\n",
      "\n",
      "Eb = a*T**4;\n",
      "print (\"(iv) Total emissive power  = %.3f\")% (Eb/1E+6), (\"*10^6 W/m**2\")\n",
      "\n",
      "E = e*a*T**4;\n",
      "print (\"(v) Total emissive power  = %.3f\")% (E/1E+6), (\"*10^6 W/m**2\")\n",
      "\n",
      "# Book answers are wrong. Please calculate them manually."
     ],
     "language": "python",
     "metadata": {},
     "outputs": [
      {
       "output_type": "stream",
       "stream": "stdout",
       "text": [
        "(i) Monochromatic emissive power at 1.2 \u03bcm length\n",
        "E_lambda_b  = 3.40e+15\n",
        "(ii) Wavelength at which the emission is maximum  = 1.045 \u03bcm\n",
        "(iii) Maximum emissive power  = 2.107 *10^12 W/m**2 per metre length\n",
        "(iv) Total emissive power  = 3.353 *10^6 W/m**2\n",
        "(v) Total emissive power  = 3.017 *10^6 W/m**2\n"
       ]
      }
     ],
     "prompt_number": 40
    },
    {
     "cell_type": "heading",
     "level": 3,
     "metadata": {},
     "source": [
      "Example 15.26 page no : 845"
     ]
    },
    {
     "cell_type": "code",
     "collapsed": false,
     "input": [
      "# Variables\n",
      "T1 = 1273.; \t\t\t#K\n",
      "T2 = 773.; \t\t\t#K\n",
      "e1 = 0.42;\n",
      "e2 = 0.72;\n",
      "a = 5.67*10**(-8);\n",
      "\n",
      "# Calculations and Results\n",
      "print (\"(i) When the body is grey with \u03b51  =  0.42\")\n",
      "q = e1*a*(T1**4-T2**4)/10**3; \t\t\t#kW\n",
      "print (\"Heat loss per m2 by radiation  = %.3f\")% (q), (\"kW\")\n",
      "print (\"(ii) When the body is not grey\")\n",
      "E_emitted = e1*a*T1**4;\n",
      "E_absorbed = e2*a*(T2)**4;\n",
      "q = (E_emitted-E_absorbed)/10**3;\n",
      "print (\"Heat loss per m2 by radiation  = %.3f\")% (q), (\"kW\")\n"
     ],
     "language": "python",
     "metadata": {},
     "outputs": [
      {
       "output_type": "stream",
       "stream": "stdout",
       "text": [
        "(i) When the body is grey with \u03b51  =  0.42\n",
        "Heat loss per m2 by radiation  = 54.036 kW\n",
        "(ii) When the body is not grey\n",
        "Heat loss per m2 by radiation  = 47.962 kW\n"
       ]
      }
     ],
     "prompt_number": 28
    },
    {
     "cell_type": "heading",
     "level": 3,
     "metadata": {},
     "source": [
      "Example 15.27 page no : 846"
     ]
    },
    {
     "cell_type": "code",
     "collapsed": false,
     "input": [
      "import math \n",
      "\n",
      "# Variables\n",
      "d = 0.022; \t\t\t#m\n",
      "di = 0.18; \t\t\t#m\n",
      "e1 = 0.62;\n",
      "e2 = 0.82;\n",
      "rho = 7845.; \t\t\t#kg/m**3\n",
      "T1a = 693.; \t\t\t#K; For caseI\n",
      "T1b = 813.; \t\t\t#K; For caseII\n",
      "T2 = 1373.; \t\t\t#K\n",
      "l = 1.; \t\t\t#m\n",
      "a = 5.67*10**(-8); \n",
      "cp = 0.67; \t\t\t#kJ/kg K\n",
      "\n",
      "# Calculations\n",
      "A1 = math.pi*d*l;\n",
      "A2 = math.pi*di*l;\n",
      "Qi = A1*a*(T1a**4-T2**4)/(1/e1+A1/A2*(1/e2 - 1));\n",
      "Qe = A1*a*(T1b**4-T2**4)/(1/e1+A1/A2*(1/e2 - 1));\n",
      "Qav = -(Qi+Qe)/2;\n",
      "t_h = math.pi/4*d**2*rho*cp*(T1b-T1a)*10**3/Qav;\n",
      "\n",
      "# Results\n",
      "print (\"Time required for the heating operation  %.3f\")% (t_h),(\"s\")\n"
     ],
     "language": "python",
     "metadata": {},
     "outputs": [
      {
       "output_type": "stream",
       "stream": "stdout",
       "text": [
        "Time required for the heating operation  31.157 s\n"
       ]
      }
     ],
     "prompt_number": 29
    },
    {
     "cell_type": "heading",
     "level": 3,
     "metadata": {},
     "source": [
      "Example 15.28 page no : 847"
     ]
    },
    {
     "cell_type": "code",
     "collapsed": false,
     "input": [
      "# Variables\n",
      "r1 = 0.05; \t\t\t#m\n",
      "r2 = 0.1; \t\t\t#m\n",
      "T1 = 400.; \t\t\t#K\n",
      "T2 = 300.; \t\t\t#K\n",
      "e1 = 0.5;\n",
      "e2 = 0.5;\n",
      "F_12 = 1.;\n",
      "\n",
      "# Calculations\n",
      "a = 5.67*10**(-8);\n",
      "#A1/A2 = r1/r2\n",
      "Q = a*(T1**4-T2**4)/((1-e1)/e1+1/F_12+(1-e2)/e2*r1/r2);\n",
      "\n",
      "# Results\n",
      "print (\"heat transfer rate per m2 area by radiation\"), (Q), (\"W/m**2\")\n"
     ],
     "language": "python",
     "metadata": {},
     "outputs": [
      {
       "output_type": "stream",
       "stream": "stdout",
       "text": [
        "heat transfer rate per m2 area by radiation 396.9 W/m**2\n"
       ]
      }
     ],
     "prompt_number": 30
    },
    {
     "cell_type": "heading",
     "level": 3,
     "metadata": {},
     "source": [
      "Example 15.29 page no : 847"
     ]
    },
    {
     "cell_type": "code",
     "collapsed": false,
     "input": [
      "# Variables\n",
      "r1 = 0.05; \t\t\t#m\n",
      "r2 = 0.1; \t\t\t#m\n",
      "r3 = 0.15; \t\t\t#m\n",
      "T1 = 1000.; \t\t\t#K\n",
      "T3 = 500.; \t\t\t#K\n",
      "e1 = 0.05;\n",
      "e2 = e1;\n",
      "e3 = e1;\n",
      "a = 5.67*10**(-8);\n",
      "F_12 = 1.;\n",
      "F_23 = 1.;\n",
      "T2 = 770.; \t\t\t#K\n",
      "\n",
      "# Calculations\n",
      "Q1 = a*(T1**4-T2**4)/(((1-e1)/e1) + 1/F_12 + ((1-e2)/e2)*r1/r2);\n",
      "\n",
      "# Results\n",
      "print (\"Heat flow per m2 area of cylinder 1  = %.3f\")% (Q1), (\"W\")\n"
     ],
     "language": "python",
     "metadata": {},
     "outputs": [
      {
       "output_type": "stream",
       "stream": "stdout",
       "text": [
        "Heat flow per m2 area of cylinder 1  = 1246.381 W\n"
       ]
      }
     ],
     "prompt_number": 31
    },
    {
     "cell_type": "heading",
     "level": 3,
     "metadata": {},
     "source": [
      "Example 15.30 page no : 848"
     ]
    },
    {
     "cell_type": "code",
     "collapsed": false,
     "input": [
      "# Variables\n",
      "r1 = 0.105; \t\t\t#m\n",
      "r2 = 0.15; \t\t\t#m\n",
      "T1 = 120.; \t\t\t#K\n",
      "T2 = 300.; \t\t\t#K\n",
      "e1 = 0.03;\n",
      "e2 = 0.03;\n",
      "h_fg = 209.35; \t\t\t#kJ/kg\n",
      "a = 5.67*10**(-8);\n",
      "F_12 = 1.;\n",
      "\n",
      "# Calculations\n",
      "Q = 4*math.pi*r1**2*a*(T1**4-T2**4)/( ((1-e1)/e1) + 1./F_12 + ((1-e2)/e2)*r1**2/r2**2);\n",
      "rate = -Q*3600./h_fg/1000;\n",
      "\n",
      "# Results\n",
      "print (\"Rate of evaporation  =  %.3f\")% (rate), (\"kg/h\")\n"
     ],
     "language": "python",
     "metadata": {},
     "outputs": [
      {
       "output_type": "stream",
       "stream": "stdout",
       "text": [
        "Rate of evaporation  =  0.022 kg/h\n"
       ]
      }
     ],
     "prompt_number": 32
    },
    {
     "cell_type": "heading",
     "level": 3,
     "metadata": {},
     "source": [
      "Example 15.31 page no : 849"
     ]
    },
    {
     "cell_type": "code",
     "collapsed": false,
     "input": [
      "import math \n",
      "\n",
      "# Variables\n",
      "T1 = 91.; \t\t\t#K\n",
      "T2 = 303.; \t\t\t#K\n",
      "e1 = 0.03;\n",
      "e2 = 0.03;\n",
      "d1 = 0.3; \t\t\t#m\n",
      "d2 = 0.45; \t\t\t#m\n",
      "a = 5.67*10**(-8);\n",
      "F_12 = 1.;\n",
      "\n",
      "# Calculations\n",
      "Q = 4*math.pi*(d1/2)**2*a*(T1**4-T2**4)/( ((1-e1)/e1) + 1/F_12 + ((1-e2)/e2)*d1**2/d2**2);\n",
      "\n",
      "# Results\n",
      "print (\"Rate of heat flow  = %.3f\")% (Q), (\"W\")\n"
     ],
     "language": "python",
     "metadata": {},
     "outputs": [
      {
       "output_type": "stream",
       "stream": "stdout",
       "text": [
        "Rate of heat flow  = -2.810 W\n"
       ]
      }
     ],
     "prompt_number": 33
    },
    {
     "cell_type": "heading",
     "level": 3,
     "metadata": {},
     "source": [
      "Example 15.32 page no : 850"
     ]
    },
    {
     "cell_type": "code",
     "collapsed": false,
     "input": [
      "# Variables\n",
      "e1 = 0.3;\n",
      "e2 = 0.8;\n",
      "e3 = 0.04;\n",
      "A1 = 1.; \t\t\t#m**2\n",
      "A2 = A1;\n",
      "A3 = A1;\n",
      "\n",
      "# Calculations\n",
      "reduction = 1-0.131*0.52;\n",
      "\n",
      "# Results\n",
      "print (\"Percentage reduction in heat flow due to shield  = %.3f\")% (reduction), (\"%\")\n"
     ],
     "language": "python",
     "metadata": {},
     "outputs": [
      {
       "output_type": "stream",
       "stream": "stdout",
       "text": [
        "Percentage reduction in heat flow due to shield  = 0.932 %\n"
       ]
      }
     ],
     "prompt_number": 34
    }
   ],
   "metadata": {}
  }
 ]
}