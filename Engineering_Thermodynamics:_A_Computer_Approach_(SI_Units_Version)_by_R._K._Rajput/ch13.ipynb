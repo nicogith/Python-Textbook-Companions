{
 "metadata": {
  "name": ""
 },
 "nbformat": 3,
 "nbformat_minor": 0,
 "worksheets": [
  {
   "cells": [
    {
     "cell_type": "heading",
     "level": 1,
     "metadata": {},
     "source": [
      "Chapter 13 : Gas Power Cycles"
     ]
    },
    {
     "cell_type": "heading",
     "level": 3,
     "metadata": {},
     "source": [
      "Example 13.1 Page no : 606"
     ]
    },
    {
     "cell_type": "code",
     "collapsed": false,
     "input": [
      "# Variables\n",
      "T1 = 671.; \t\t\t#K\n",
      "T2 = T1;\n",
      "T3 = 313.; \t\t\t#K\n",
      "T4 = T3;\n",
      "W = 130.; \t\t\t#kJ\n",
      "\n",
      " \n",
      "    n_th = (T2-T3)/T2;\n",
      "print (\"(i) Engine thermal efficiency  = %.3f\")% (n_th)\n",
      "\n",
      "Q = W/n_th;\n",
      "print (\"(ii) Heat added  = %.3f\")% (Q), (\"kJ\")\n",
      "\n",
      "\n",
      "Q_rejected = Q-W;\n",
      "dS = Q_rejected/T3;\n",
      "print (\"(iii) The entropy changes during heat rejection process\"),(\" = %.3f\")% (dS), (\"kJ/K\")\n"
     ],
     "language": "python",
     "metadata": {},
     "outputs": [
      {
       "output_type": "stream",
       "stream": "stdout",
       "text": [
        "(i) Engine thermal efficiency  = 0.534\n",
        "(ii) Heat added  = 243.659 kJ\n",
        "(iii) The entropy changes during heat rejection process  = 0.363 kJ/K\n"
       ]
      }
     ],
     "prompt_number": 1
    },
    {
     "cell_type": "heading",
     "level": 3,
     "metadata": {},
     "source": [
      "Example 13.2 Page no :  607"
     ]
    },
    {
     "cell_type": "code",
     "collapsed": false,
     "input": [
      "import math\n",
      "\n",
      "# Variables\n",
      "cv = 0.721; \t\t\t#kJ/kg K\n",
      "cp = 1.008; \t\t\t#kJ/kg K\n",
      "m = 0.5; \t\t\t    #kg\n",
      "n_th = 0.5;\n",
      "Q_isothermal = 40.; \t#kJ\n",
      "p1 = 7.*10**5; \t\t\t#Pa\n",
      "V1 = 0.12; \t\t\t    #m**3\n",
      "R = 287.; \t\t\t    #J/kg K\n",
      "\n",
      "\n",
      "# Calculations and Results\n",
      "print (\"(i) The maximum and minimum temperatures\")\n",
      "T1 = p1*V1/m/R;\n",
      "print (\"Maximun temperature  = %.3f\")% (T1), (\"K\")\n",
      "\n",
      "T2 = (1-n_th)*T1;\n",
      "print (\"Minimum temperature  = %.3f\")% (T2), (\"K\")\n",
      "\n",
      "\n",
      "V2 = V1*math.e**(Q_isothermal*10**3/m/R/T1);\n",
      "print (\"(ii) The volume at the end of isothermal expansion  = %.3f\")% (V2), (\"m**3\")\n",
      "\n",
      "print (\"(iii) The heat transfer for each of the four processes\")\n",
      "\n",
      "Q1 = Q_isothermal;\n",
      "print (\"Isothermal expansion %.3f\")% (Q1), (\"kJ\")\n",
      "\n",
      "Q2 = 0;\n",
      "print (\"Adiabatic reversible expansion\"), (Q2)\n",
      "\n",
      "Q3 = -Q_isothermal;\n",
      "print (\"Isothermal compression\"), (Q3)\n",
      "\n",
      "Q4 = 0;\n",
      "print (\"Adiabatic reversible compression\"), (Q4)\n"
     ],
     "language": "python",
     "metadata": {},
     "outputs": [
      {
       "output_type": "stream",
       "stream": "stdout",
       "text": [
        "(i) The maximum and minimum temperatures\n",
        "Maximun temperature  = 585.366 K\n",
        "Minimum temperature  = 292.683 K\n",
        "(ii) The volume at the end of isothermal expansion  = 0.193 m**3\n",
        "(iii) The heat transfer for each of the four processes\n",
        "Isothermal expansion 40.000 kJ\n",
        "Adiabatic reversible expansion 0\n",
        "Isothermal compression -40.0\n",
        "Adiabatic reversible compression 0\n"
       ]
      }
     ],
     "prompt_number": 2
    },
    {
     "cell_type": "heading",
     "level": 3,
     "metadata": {},
     "source": [
      "Example 13.3 page no : 608"
     ]
    },
    {
     "cell_type": "code",
     "collapsed": false,
     "input": [
      "import math\n",
      "\n",
      "# Variables\n",
      "p1 = 18.*10**5; \t#Pa\n",
      "T1 = 683.; \t\t\t#K\n",
      "T2 = T1;\n",
      "r1 = 6.; \t\t\t#ratio V4/V1; Isentropic compression\n",
      "r2 = 1.5; \t\t\t#ratio V2/V1; Isothermal expansion\n",
      "y = 1.4;\n",
      "V1 = 0.18; \t\t\t#m**3\n",
      "\n",
      "# Calculations and Results\n",
      "print (\"(i) Temperatures and pressures at the main points in the cycle\")\n",
      "T4 = T1/(r1)**(y-1);\n",
      "print (\"T4 = %.1f\")% (T4), (\"K\")\n",
      "\n",
      "T3 = T4;\n",
      "print (\"T3 = %.3f\")% (T3), (\"K\")\n",
      "\n",
      "p2 = p1/r2;\n",
      "print (\"p2 = %.3f\")% (p2/10**5), (\"bar\")\n",
      "\n",
      "p3 = p2/(r1)**y;\n",
      "print (\"p3 = %.3f\")% (p3/10**5), (\"bar\")\n",
      "\n",
      "p4 = p1/(r1)**y;\n",
      "print (\"p4 = %.3f\")% (p4/10**5), (\"bar\")\n",
      "\n",
      "\n",
      "dS = p1*V1/T1/10**3*math.log(r2);\n",
      "print (\"(ii) Change in entropy  = %.3f\")% (dS), (\"kJ/K\")\n",
      "\n",
      "print (\"(iii) Mean thermal efficiency of the cycle\")\n",
      "Qs = T1*(dS);\n",
      "Qr = T4*(dS);\n",
      "\n",
      "n = 1-Qr/Qs;\n",
      "print (\"n = %.3f\")% (n)\n",
      "\n",
      "\n",
      "pm = (Qs-Qr)/8/V1/100; \t\t\t#bar\n",
      "print (\"(iv) Mean effective pressure of the cycle  = %.3f\")% (pm), (\"bar\")\n",
      "\n",
      "\n",
      "n = 210.; \t\t\t#cycles per minute\n",
      "P = (Qs-Qr)*n/60; \t\t\t#kW\n",
      "print (\"(v) Power of the engine  = %.3f\")% (P), (\"kW\")\n",
      "\n",
      "# answers are slightly different because of rounding error."
     ],
     "language": "python",
     "metadata": {},
     "outputs": [
      {
       "output_type": "stream",
       "stream": "stdout",
       "text": [
        "(i) Temperatures and pressures at the main points in the cycle\n",
        "T4 = 333.5 K\n",
        "T3 = 333.549 K\n",
        "p2 = 12.000 bar\n",
        "p3 = 0.977 bar\n",
        "p4 = 1.465 bar\n",
        "(ii) Change in entropy  = 0.192 kJ/K\n",
        "(iii) Mean thermal efficiency of the cycle\n",
        "n = 0.512\n",
        "(iv) Mean effective pressure of the cycle  = 0.467 bar\n",
        "(v) Power of the engine  = 235.251 kW\n"
       ]
      }
     ],
     "prompt_number": 5
    },
    {
     "cell_type": "heading",
     "level": 3,
     "metadata": {},
     "source": [
      "Example 13.4 page no :  611"
     ]
    },
    {
     "cell_type": "code",
     "collapsed": false,
     "input": [
      "# Calculations\n",
      "T2 = 1029/0.6;\n",
      "T1 = 1.2*T2;\n",
      "\n",
      "# Results\n",
      "print (\"Temperature of the source  = \"), (T1), (\"K\")\n",
      "\n",
      "print (\"Temperature of the math.sink = \"), (T2), (\"K\")\n"
     ],
     "language": "python",
     "metadata": {},
     "outputs": [
      {
       "output_type": "stream",
       "stream": "stdout",
       "text": [
        "Temperature of the source  =  2058.0 K\n",
        "Temperature of the math.sink =  1715.0 K\n"
       ]
      }
     ],
     "prompt_number": 4
    },
    {
     "cell_type": "heading",
     "level": 3,
     "metadata": {},
     "source": [
      "Example 13.5 page no : 611"
     ]
    },
    {
     "cell_type": "code",
     "collapsed": false,
     "input": [
      "# Variables\n",
      "T1 = 1990.; \t\t\t#K\n",
      "T2 = 850.; \t\t\t#K\n",
      "Q = 32.5/60; \t\t\t#kJ/s\n",
      "P = 0.4; \t\t\t#kW\n",
      "\n",
      "# Calculations\n",
      "n_carnot = (T1-T2)/T1;\n",
      "n_th = P/Q;\n",
      "\n",
      "# Results\n",
      "print (\"most efficient engine is one that works on Carnot cycle %.3f\")% (n_carnot)\n",
      "\n",
      "print (\"n_thermal  = %.3f\")% (n_th)\n",
      "\n",
      "print (\"which is not feasible as no engine can be more efficient than that working on Carnot\")\n",
      "print (\"Hence claims of the inventor is not true.\")\n"
     ],
     "language": "python",
     "metadata": {},
     "outputs": [
      {
       "output_type": "stream",
       "stream": "stdout",
       "text": [
        "most efficient engine is one that works on Carnot cycle 0.573\n",
        "n_thermal  = 0.738\n",
        "which is not feasible as no engine can be more efficient than that working on Carnot\n",
        "Hence claims of the inventor is not true.\n"
       ]
      }
     ],
     "prompt_number": 5
    },
    {
     "cell_type": "heading",
     "level": 3,
     "metadata": {},
     "source": [
      "Example 13.7 page no : 615"
     ]
    },
    {
     "cell_type": "code",
     "collapsed": false,
     "input": [
      "# Variables\n",
      "n = 0.6; \n",
      "y = 1.5;\n",
      "\n",
      "# Calculations\n",
      "r = (1./(1-n))**(1./(y-1));\n",
      "\n",
      "# Results\n",
      "print (\"Compression ratio  = \"), (r)\n"
     ],
     "language": "python",
     "metadata": {},
     "outputs": [
      {
       "output_type": "stream",
       "stream": "stdout",
       "text": [
        "Compression ratio  =  6.25\n"
       ]
      }
     ],
     "prompt_number": 6
    },
    {
     "cell_type": "heading",
     "level": 3,
     "metadata": {},
     "source": [
      "Example 13.8 page no : 615"
     ]
    },
    {
     "cell_type": "code",
     "collapsed": false,
     "input": [
      "import math\n",
      "\n",
      "# Variables\n",
      "D = 0.25; \t\t\t#m\n",
      "L = 0.375; \t\t\t#m\n",
      "Vc = 0.00263; \t\t#m**3\n",
      "p1 = 1.; \t\t\t#bar\n",
      "T1 = 323.; \t\t\t#K\n",
      "p3 = 25.; \t\t\t#bar\n",
      "\n",
      "# Calculations and Results\n",
      "Vs = math.pi/4*D**2*L;\n",
      "r = (Vs+Vc)/Vc;\n",
      "y = 1.4;\n",
      "\n",
      "n_otto = 1-1/(r**(y-1));\n",
      "print (\"(i) Air standard efficiency = %.3f\")% (n_otto)\n",
      "\n",
      "\n",
      "\n",
      "p2 = p1*(r)**(y);\n",
      "r_p = p3/p2;\n",
      "\n",
      "p_m = p1*r*(r**(y-1) - 1)*(r_p - 1)/(y-1)/(r-1);\n",
      "print (\"(ii)Mean effective pressure  = %.3f\")%(p_m), (\"bar\")\n"
     ],
     "language": "python",
     "metadata": {},
     "outputs": [
      {
       "output_type": "stream",
       "stream": "stdout",
       "text": [
        "(i) Air standard efficiency = 0.565\n",
        "(ii)Mean effective pressure  = 1.336 bar\n"
       ]
      }
     ],
     "prompt_number": 6
    },
    {
     "cell_type": "heading",
     "level": 3,
     "metadata": {},
     "source": [
      "Example 13.9 page no : 617"
     ]
    },
    {
     "cell_type": "code",
     "collapsed": false,
     "input": [
      "# Variables\n",
      "cv = 0.72; \t\t\t#kJ/kg K\n",
      "y = 1.4;\n",
      "p1 = 1.; \t\t\t#bar\n",
      "T1 = 300.; \t\t\t#K\n",
      "Q = 1500.; \t\t\t#kJ/kg\n",
      "r = 8.;\n",
      "y = 1.4;\n",
      "\n",
      "# Calculations and Results\n",
      "print (\"(i) Pressures and temperatures at all points\")\n",
      "T2 = T1*(r)**(y-1);\n",
      "print (\"T2 = %.3f\")% (T2), (\"K\")\n",
      "\n",
      "p2 = p1*(r)**y;\n",
      "print (\"p2 = %.3f\")%(p2), (\"bar\")\n",
      "\n",
      "T3 = Q/cv + T2;\n",
      "print (\"T3 = %.3f\")% (T3), (\"K\")\n",
      "\n",
      "p3 = p2*T3/T2;\n",
      "print (\"p3 = %.3f\")% (p3), (\"bar\")\n",
      "\n",
      "T4 = T3/r**(y-1);\n",
      "print (\"T4 = %.3f\")% (T4), (\"K\")\n",
      "\n",
      "p4 = p3/r**(y);\n",
      "print (\"p4 = %.3f\")% (p4), (\"bar\")\n",
      "\n",
      "\n",
      "print (\"(ii) Specific work and thermal efficiency\")\n",
      "SW = cv*((T3-T2) - (T4-T1));\n",
      "print (\"Specific work  = %.3f\")% (SW), (\"kJ/kg\")\n",
      "\n",
      "n_th = 1-1./r**(y-1);\n",
      "print (\"Thermal efficiency  = %.3f\")% (n_th)\n"
     ],
     "language": "python",
     "metadata": {},
     "outputs": [
      {
       "output_type": "stream",
       "stream": "stdout",
       "text": [
        "(i) Pressures and temperatures at all points\n",
        "T2 = 689.219 K\n",
        "p2 = 18.379 bar\n",
        "T3 = 2772.552 K\n",
        "p3 = 73.935 bar\n",
        "T4 = 1206.824 K\n",
        "p4 = 4.023 bar\n",
        "(ii) Specific work and thermal efficiency\n",
        "Specific work  = 847.087 kJ/kg\n",
        "Thermal efficiency  = 0.565\n"
       ]
      }
     ],
     "prompt_number": 8
    },
    {
     "cell_type": "heading",
     "level": 3,
     "metadata": {},
     "source": [
      "Example 13.10 page no : 618"
     ]
    },
    {
     "cell_type": "code",
     "collapsed": false,
     "input": [
      "\n",
      "# Variables\n",
      "r = 6.; \t\t\t#v1/v2 = v4/v3 = r\n",
      "p1 = 1.; \t\t\t#bar\n",
      "T1 = 300.; \t\t\t#K\n",
      "T3 = 1842.; \t\t#K\n",
      "y = 1.4;\n",
      "\n",
      "# Calculations and Results\n",
      "print (\"(i) Temperature and pressure after the isentropic expansion\")\n",
      "p2 = p1*(r)**y;\n",
      "T2 = T1*r**(y-1);\n",
      "p3 = p2*(T3/T2);\n",
      "T4 = T3/r**(y-1);\n",
      "print (\"T4 = %.3f\")% (T4), (\"K\")\n",
      "\n",
      "p4 = p3/(r)**(y);\n",
      "print (\"p4  = %.3f\")% (p4), (\"bar\")\n",
      "\n",
      "print (\"(ii)Process required to complete the cycle is the consmath.tant pressure scavenging. The cycle is called Atkinson cycle\")\n",
      "print (\"(iii) Percentage improvement/increase in efficiency\")\n",
      "p5 = 1.; \t\t\t#bar\n",
      "T5 = T3*(p5/p3)**((y-1)/y);\n",
      "n_otto = (1-1./r**(y-1))*100;\n",
      "print (\"n_otto  =  %.3f\")% (n_otto), (\"%\")\n",
      "\n",
      "n_atkinson = (1.-y*(T5-T1)/(T3-T2))*100;\n",
      "print (\"n_atkinson = %.3f\")% (n_atkinson), (\"%\")\n",
      "\n",
      "dn = n_atkinson - n_otto; \t\t\t#Improvement in efficiency\n",
      "print (\"Improvement in efficiency  = %.3f\")% (dn), (\"%\")\n"
     ],
     "language": "python",
     "metadata": {},
     "outputs": [
      {
       "output_type": "stream",
       "stream": "stdout",
       "text": [
        "(i) Temperature and pressure after the isentropic expansion\n",
        "T4 = 899.558 K\n",
        "p4  = 2.999 bar\n",
        "(ii)Process required to complete the cycle is the consmath.tant pressure scavenging. The cycle is called Atkinson cycle\n",
        "(iii) Percentage improvement/increase in efficiency\n",
        "n_otto  =  51.164 %\n",
        "n_atkinson = 59.254 %\n",
        "Improvement in efficiency  = 8.090 %\n"
       ]
      }
     ],
     "prompt_number": 7
    },
    {
     "cell_type": "heading",
     "level": 3,
     "metadata": {},
     "source": [
      "Example 13.11 page no : 620"
     ]
    },
    {
     "cell_type": "code",
     "collapsed": false,
     "input": [
      "# Variables\n",
      "p1 = 1.;     \t\t\t#bar\n",
      "T1 = 343.; \t    \t\t#K\n",
      "p2 = 7.; \t\t    \t#bar\n",
      "Qs = 465.; \t\t\t    #kJ/kg of air\n",
      "cp = 1.; \t\t\t    #kJ/kg K\n",
      "cv = 0.706; \t\t\t#kJ/kg K\n",
      "y = 1.41;\n",
      "\n",
      "# Calculations and Results\n",
      "r = (p2/p1)**(1./y);\n",
      "print (\"(i) Compression ratio of engine  = %.3f\")% (r)\n",
      "\n",
      "T2 = T1*(r)**(y-1);\n",
      "t2 = T2-273;\n",
      "print (\"(ii) Temperature at the end of compression  = %.3f\")% (t2), (\"0C\")\n",
      "\n",
      "T3 = Qs/cv+T2;\n",
      "t3 = T3-273;\n",
      "print (\"(iii) Temperature at the end of heat addition  = %.3f\")% (t3), (\"0C\")\n"
     ],
     "language": "python",
     "metadata": {},
     "outputs": [
      {
       "output_type": "stream",
       "stream": "stdout",
       "text": [
        "(i) Compression ratio of engine  = 3.975\n",
        "(ii) Temperature at the end of compression  = 330.993 0C\n",
        "(iii) Temperature at the end of heat addition  = 989.633 0C\n"
       ]
      }
     ],
     "prompt_number": 10
    },
    {
     "cell_type": "heading",
     "level": 3,
     "metadata": {},
     "source": [
      "Example 13.12 page no : 621"
     ]
    },
    {
     "cell_type": "code",
     "collapsed": false,
     "input": [
      "\n",
      "# Variables\n",
      "y = 1.4;\n",
      "R = 0.287; \t    \t\t#kJ/kg K\n",
      "T1 = 311.;   \t\t\t#K\n",
      "T3 = 2223.; \t\t\t#K\n",
      "\n",
      "#p2/p1 = 15\n",
      "r = 15**(1/1.4);\n",
      "print (\"(i) Compression ratio  = %.3f\")% (r)\n",
      "\n",
      "n_th = 1-1./r**(y-1);\n",
      "print (\"(ii) Thermal efficiency  = %.3f\")% (n_th)\n",
      "\n",
      "T2 = T1*(r)**(y-1);\n",
      "T4 = T3/r**(y-1);\n",
      "cv = R/(y-1);\n",
      "\n",
      "Q_supplied = cv*(T3-T2);\n",
      "Q_rejected = cv*(T4-T1);\n",
      "\n",
      "W = Q_supplied-Q_rejected;\n",
      "print (\"(iii)Work done = %.3f\")% (W), (\"kJ\")\n"
     ],
     "language": "python",
     "metadata": {},
     "outputs": [
      {
       "output_type": "stream",
       "stream": "stdout",
       "text": [
        "(i) Compression ratio  = 6.919\n",
        "(ii) Thermal efficiency  = 0.539\n",
        "(iii)Work done = 598.651 kJ\n"
       ]
      }
     ],
     "prompt_number": 8
    },
    {
     "cell_type": "heading",
     "level": 3,
     "metadata": {},
     "source": [
      "Example 13.13 page no : 623"
     ]
    },
    {
     "cell_type": "code",
     "collapsed": false,
     "input": [
      "# Variables\n",
      "V1 = 0.45; \t\t\t#m**3\n",
      "p1 = 1.; \t\t\t#bar\n",
      "T1 = 303.; \t\t\t#K\n",
      "p2 = 11.; \t\t\t#bar\n",
      "Qs = 210.; \t\t\t#kJ\n",
      "n = 210.; \t\t\t#number of working cycles/min\n",
      "R = 287.; \t\t\t#J/kg K\n",
      "cv = 0.71; \t\t\t#kJ/kg K\n",
      "y = 1.4;\n",
      "\n",
      "# Calculations and Results\n",
      "print (\"(i) Pressures, temperatures and volumes at salient points\")\n",
      "r = (p2/p1)**(1./y);\n",
      "\n",
      "T2 = T1*(r)**(y-1);\n",
      "print (\"T2 = %.3f\")% (T2), (\"K\")\n",
      "\n",
      "V2 = T2/T1*p1/p2*V1;\n",
      "print (\"V2 = %.3f\")% (V2), (\"m**3\")\n",
      "\n",
      "m = p1*10**5*V1/R/T1;\n",
      "T3 = Qs/m/cv+T2;\n",
      "print (\"T3 = %.3f\")% (T3), (\"K\")\n",
      "\n",
      "p3 = T3/T2*p2;\n",
      "print (\"p3 = %.3f\")% (p3), (\"bar\")\n",
      "\n",
      "V3 = V2;\n",
      "print (\"V3 = %.3f\")% (V3), (\"m**3\")\n",
      "\n",
      "p4 = p3/r**y;\n",
      "print (\"p4 = %.3f\")%(p4), (\"bar\")\n",
      "\n",
      "T4 = T3/r**(y-1);\n",
      "print (\"T4 = %.3f\")% (T4), (\"K\")\n",
      "\n",
      "V4 = V1;\n",
      "print (\"V4 = %.3f\")%(V4), (\"m**3\")\n",
      "\n",
      "Qr = m*cv*(T4-T1);\n",
      "n_otto = (Qs-Qr)/Qs;\n",
      "print (\"(iii) Efficiency  = %.3f\")% (n_otto)\n",
      "\n",
      "\n",
      "p_m = (Qs-Qr)/(V1-V2)/100; \t\t\t#bar\n",
      "print (\"(iv) Mean effective pressure  = %.3f\")% (p_m), (\"bar\")\n",
      "\n",
      "P = (Qs-Qr)*n/60;\n",
      "print (\"(v) Power developed  = %.3f\")% (P), (\"kW\")\n"
     ],
     "language": "python",
     "metadata": {},
     "outputs": [
      {
       "output_type": "stream",
       "stream": "stdout",
       "text": [
        "(i) Pressures, temperatures and volumes at salient points\n",
        "T2 = 601.151 K\n",
        "V2 = 0.081 m**3\n",
        "T3 = 1172.725 K\n",
        "p3 = 21.459 bar\n",
        "V3 = 0.081 m**3\n",
        "p4 = 1.951 bar\n",
        "T4 = 591.093 K\n",
        "V4 = 0.450 m**3\n",
        "(iii) Efficiency  = 0.496\n",
        "(iv) Mean effective pressure  = 2.824 bar\n",
        "(v) Power developed  = 364.536 kW\n"
       ]
      }
     ],
     "prompt_number": 9
    },
    {
     "cell_type": "heading",
     "level": 3,
     "metadata": {},
     "source": [
      "Example 13.14 page no : 625"
     ]
    },
    {
     "cell_type": "code",
     "collapsed": false,
     "input": [
      "# Variables\n",
      "print (\"r = (T3/T1)**(1/2/(y-1))\")\n",
      "print (\"(b)Change in efficiency\")\n",
      "T3 = 1220.; \t\t\t#K\n",
      "T1 = 310.    \t\t\t#K\n",
      "\n",
      "# Calculations and Results\n",
      "# For air\n",
      "y = 1.4;\n",
      "r1 = (T3/T1)**(1./2./(y-1));\n",
      "n1 = 1-1/r1**(y-1); \t\t\t#air smath.radians(numpy.arcmath.tan(ard Efficiency\n",
      "print (\"Air standard Efficiency  = %.3f\")% (n1)\n",
      "\n",
      "#For helium\n",
      "cp = 5.22; \t\t\t#kJ/kg K\n",
      "cv = 3.13; \t\t\t#kJ/kg K\n",
      "y = cp/cv;\n",
      "r2 = (T3/T1)**(1./2/(y-1));\n",
      "\n",
      "n2 = 1-1/r2**(y-1);\n",
      "print (\"Air standard efficiency for helium  = %.3f\")% (n2)\n",
      "\n",
      "change = n1-n2;\n",
      "print (\"Change in efficiency = %.3f\")% (change)\n",
      "\n",
      "print (\"Hence change in efficiency is nil\")\n"
     ],
     "language": "python",
     "metadata": {},
     "outputs": [
      {
       "output_type": "stream",
       "stream": "stdout",
       "text": [
        "r = (T3/T1)**(1/2/(y-1))\n",
        "(b)Change in efficiency\n",
        "Air standard Efficiency  = 0.496\n",
        "Air standard efficiency for helium  = 0.496\n",
        "Change in efficiency = -0.000\n",
        "Hence change in efficiency is nil\n"
       ]
      }
     ],
     "prompt_number": 14
    },
    {
     "cell_type": "heading",
     "level": 3,
     "metadata": {},
     "source": [
      "Example 13.15 page no : 627"
     ]
    },
    {
     "cell_type": "code",
     "collapsed": false,
     "input": [
      "print (\"(b) Power developed \")\n",
      "\n",
      "# Variables\n",
      "T1 = 310.; \t\t\t#K\n",
      "T3 = 1450.; \t\t#K\n",
      "m = 0.38; \t\t\t#kg\n",
      "cv = 0.71; \t\t\t#kJ/kg K\n",
      "\n",
      "# Calculations\n",
      "T2 = math.sqrt(T1*T3);\n",
      "T4 = T2;\n",
      "\n",
      "W1 = cv*((T3-T2) - (T4-T1)); \t\t\t#Work done\n",
      "W = m/60*W1; \t\t\t#Work done per second\n",
      "\n",
      "# Results\n",
      "print (\"Power  = %.3f\")%(W), (\"kW\")\n"
     ],
     "language": "python",
     "metadata": {},
     "outputs": [
      {
       "output_type": "stream",
       "stream": "stdout",
       "text": [
        "(b) Power developed \n",
        "Power  = 1.885 kW\n"
       ]
      }
     ],
     "prompt_number": 10
    },
    {
     "cell_type": "heading",
     "level": 3,
     "metadata": {},
     "source": [
      "Example 13.17 page no : 632"
     ]
    },
    {
     "cell_type": "code",
     "collapsed": false,
     "input": [
      "# Variables\n",
      "r = 15.;\n",
      "y = 1.4;\n",
      "#V3-V2 = 0.06*(V1-V2)\n",
      "rho = 1.84; \t\t\t#cut off ratio rho = V3/V2\n",
      "\n",
      "# Calculations\n",
      "n_diesel = 1-1/y/r**(y-1)*((rho**y-1)/(rho-1));\n",
      "\n",
      "# Results\n",
      "print (\"efficiency  = %.3f\")% (n_diesel)\n"
     ],
     "language": "python",
     "metadata": {},
     "outputs": [
      {
       "output_type": "stream",
       "stream": "stdout",
       "text": [
        "efficiency  = 0.612\n"
       ]
      }
     ],
     "prompt_number": 16
    },
    {
     "cell_type": "heading",
     "level": 3,
     "metadata": {},
     "source": [
      "Example 13.18 page no : 633"
     ]
    },
    {
     "cell_type": "code",
     "collapsed": false,
     "input": [
      "# Variables\n",
      "L = 0.25; \t\t\t#m\n",
      "D = 0.15; \t\t\t#m\n",
      "V2 = 0.0004; \t\t#m**3\n",
      "\n",
      "# Calculations\n",
      "Vs = math.pi/4*D**2*L;\n",
      "V_total = Vs+V2;\n",
      "y = 1.4;\n",
      "V3 = V2+5./100*Vs;\n",
      "rho = V3/V2;\n",
      "r = (Vs+V2)/V2; \t\t\t#V1 = Vs+V2\n",
      "n_diesel = 1-1/y/r**(y-1)*((rho**y-1)/(rho-1));\n",
      "\n",
      "# Results\n",
      "print (\"efficiency  = %.3f\")%(n_diesel)\n"
     ],
     "language": "python",
     "metadata": {},
     "outputs": [
      {
       "output_type": "stream",
       "stream": "stdout",
       "text": [
        "efficiency  = 0.593\n"
       ]
      }
     ],
     "prompt_number": 17
    },
    {
     "cell_type": "heading",
     "level": 3,
     "metadata": {},
     "source": [
      "Example 13.19 page no : 633"
     ]
    },
    {
     "cell_type": "code",
     "collapsed": false,
     "input": [
      "# Variables\n",
      "y = 1.4;\n",
      "r = 14\n",
      "\n",
      "# Calculations\n",
      "#When the fuel is cut-off at 5%\n",
      "rho1 = 5./100*(r-1)+1;\n",
      "n_diesel1 = 1-1./y/r**(y-1)*((rho1**y-1)/(rho1-1));\n",
      "\n",
      "#When the fuel is cut-off at 8%\n",
      "rho2 = 8./100*(r-1)+1;\n",
      "n_diesel2 = 1-1./y/r**(y-1)*((rho2**y-1)/(rho2-1));\n",
      "loss = (n_diesel1-n_diesel2)*100;\n",
      "\n",
      "# Results\n",
      "print (\"percentage loss in efficiency due to delay in fuel cut off  = %.1f\")% (loss), (\"%\")\n"
     ],
     "language": "python",
     "metadata": {},
     "outputs": [
      {
       "output_type": "stream",
       "stream": "stdout",
       "text": [
        "percentage loss in efficiency due to delay in fuel cut off  = 2.1 %\n"
       ]
      }
     ],
     "prompt_number": 12
    },
    {
     "cell_type": "heading",
     "level": 3,
     "metadata": {},
     "source": [
      "Example 13.20 page no : 634"
     ]
    },
    {
     "cell_type": "code",
     "collapsed": false,
     "input": [
      "# Variables\n",
      "pm = 7.5; \t\t\t#bar\n",
      "r = 12.5;\n",
      "p1 = 1; \t\t\t#bar\n",
      "y = 1.4;\n",
      "rho = 2.24;\n",
      "\n",
      "# Calculations\n",
      "cutoff = (rho-1)/(r-1)*100;\n",
      "\n",
      "# Results\n",
      "print (\"cutoff = %.3f\")% (cutoff), (\"%\")\n"
     ],
     "language": "python",
     "metadata": {},
     "outputs": [
      {
       "output_type": "stream",
       "stream": "stdout",
       "text": [
        "cutoff = 10.783 %\n"
       ]
      }
     ],
     "prompt_number": 19
    },
    {
     "cell_type": "heading",
     "level": 3,
     "metadata": {},
     "source": [
      "Example 13.21 page no : 634"
     ]
    },
    {
     "cell_type": "code",
     "collapsed": false,
     "input": [
      "\n",
      "# Variables\n",
      "D = 0.2; \t\t\t#m\n",
      "L = 0.3; \t\t\t#m\n",
      "p1 = 1.; \t\t\t#bar\n",
      "T1 = 300.; \t\t\t#K\n",
      "R = 287.;\n",
      "r = 15.;\n",
      "y = 1.4;\n",
      "\n",
      "# Calculations and Results\n",
      "print (\"(i) Pressures and temperatures at salient points\")\n",
      "Vs = math.pi/4*D**2*L;\n",
      "\n",
      "V1 = r/(r-1)*Vs;\n",
      "print (\"V1 = %.3f\")% (V1), (\"m**3\")\n",
      "\n",
      "m = p1*10**5*V1/R/T1;\n",
      "\n",
      "p2 = p1*r**y;\n",
      "print (\"p2 = %.3f\")% (p2), (\"bar\")\n",
      "\n",
      "T2 = T1*r**(y-1);\n",
      "print (\"T2 = %.3f\")% (T2), (\"K\")\n",
      "\n",
      "V2 = Vs/(r-1);\n",
      "print (\"V2 = %.5f\")% (V2), (\"m**3\")\n",
      "\n",
      "rho = 8./100*(r-1) + 1;\n",
      "V3 = rho*V2;\n",
      "print (\"V3 = %.5f\")% (V3), (\"m**3\")\n",
      "\n",
      "T3 = T2*V3/V2;\n",
      "print (\"T3 = %.3f\")% (T3), (\"K\")\n",
      "\n",
      "p3 = p2;\n",
      "print (\"p3 = %.3f\")% (p3), (\"bar\")\n",
      "\n",
      "p4 = p3*(rho/r)**y;\n",
      "print (\"p4 = %.3f\")% (p4), (\"bar\")\n",
      "\n",
      "T4 = T3*(rho/r)**(y-1);\n",
      "print (\"T4 = %.3f\")% (T4), (\"K\")\n",
      "\n",
      "V4 = V1;\n",
      "print (\"V4 = %.3f\")% (V4), (\"m**3\")\n",
      "\n",
      "print (\"(ii) Theoretical air standard efficiency  = \"),\n",
      "n_diesel = 1-1/y/r**(y-1)*((rho**y-1)/(rho-1));\n",
      "print (\"efficiency  = %.3f\")% (n_diesel)\n",
      "\n",
      "\n",
      "pm = (p1*r**y*(y*(rho-1) - r**(1-y)*(rho**y-1)))/(y-1)/(r-1);\n",
      "print (\"(iii) Mean effective pressure  = %.3f\")% (pm), (\"bar\")\n",
      "\n",
      "n = 380; \t\t\t#number of cycles per min\n",
      "P = n/60.*pm*Vs*100; \t\t\t#kW\n",
      "print (\"(iv) Power of the engine  = %.3f\")% (P), (\"kW\")\n"
     ],
     "language": "python",
     "metadata": {},
     "outputs": [
      {
       "output_type": "stream",
       "stream": "stdout",
       "text": [
        "(i) Pressures and temperatures at salient points\n",
        "V1 = 0.010 m**3\n",
        "p2 = 44.313 bar\n",
        "T2 = 886.253 K\n",
        "V2 = 0.00067 m**3\n",
        "V3 = 0.00143 m**3\n",
        "T3 = 1878.857 K\n",
        "p3 = 44.313 bar\n",
        "p4 = 2.863 bar\n",
        "T4 = 858.997 K\n",
        "V4 = 0.010 m**3\n",
        "(ii) Theoretical air standard efficiency  =  efficiency  = 0.598\n",
        "(iii) Mean effective pressure  = 7.417 bar\n",
        "(iv) Power of the engine  = 44.269 kW\n"
       ]
      }
     ],
     "prompt_number": 12
    },
    {
     "cell_type": "heading",
     "level": 3,
     "metadata": {},
     "source": [
      "Example 13.22 page no : 637"
     ]
    },
    {
     "cell_type": "code",
     "collapsed": false,
     "input": [
      "\n",
      "# Variables\n",
      "r1 = 15.3; \t\t\t#V1/V2\n",
      "r2 = 7.5;  \t\t\t#V4/V3\n",
      "p1 = 1.; \t\t\t#bar\n",
      "T1 = 300.; \t\t\t#K\n",
      "n_mech = 0.8;\n",
      "C = 42000.; \t\t#kJ/kg\n",
      "y = 1.4;\n",
      "R = 287.;\n",
      "cp = 1.005;\n",
      "cv = 0.718;\n",
      "V2 = 1.; \t\t\t\t\t#Assuming V2 = 1 m**3\n",
      "\n",
      "# Calculations\n",
      "T2 = T1*r1**(y-1);\n",
      "p2 = p1*r1**y;\n",
      "T3 = r1/r2*T2;\n",
      "m = p2*10**5*V2/R/T2;\n",
      "T4 = T3/r2**(y-1);\n",
      "\n",
      "Q_added = m*cp*(T3-T2);\n",
      "Q_rejected = m*cv*(T4-T1);\n",
      "W = Q_added-Q_rejected;\n",
      "\n",
      "pm = W/(r1-1)/V2/100;\n",
      "\n",
      "# Results\n",
      "print (\"Mean effective pressure  = %.3f\")% (pm), (\"bar\")\n",
      "\n",
      "ratio = p2/pm;\n",
      "print (\"Ratio of maximum pressure to mean effective pressure  = %.3f\")% (ratio)\n",
      "\n",
      "n_cycle = W/Q_added;\n",
      "print (\"Cycle efficiency  = %.3f\")% (n_cycle)\n",
      "\n",
      "n_thI = 0.5;\n",
      "n_cycle1 = n_thI*n_cycle;\n",
      "\n",
      "n_thB = n_mech*n_cycle1;\n",
      "\n",
      "BP = 1;\n",
      "mf = BP/C/n_thB*3600;\n",
      "print (\"Fuel consumption per kWh  = %.3f \")% (mf), (\"kg/kWh\")\n"
     ],
     "language": "python",
     "metadata": {},
     "outputs": [
      {
       "output_type": "stream",
       "stream": "stdout",
       "text": [
        "Mean effective pressure  = 7.017 bar\n",
        "Ratio of maximum pressure to mean effective pressure  = 6.493\n",
        "Cycle efficiency  = 0.605\n",
        "Fuel consumption per kWh  = 0.354  kg/kWh\n"
       ]
      }
     ],
     "prompt_number": 21
    },
    {
     "cell_type": "heading",
     "level": 3,
     "metadata": {},
     "source": [
      "Example 13.23 page no : 642"
     ]
    },
    {
     "cell_type": "code",
     "collapsed": false,
     "input": [
      "# Variables\n",
      "Vs = 0.0053; \t\t\t#m**3\n",
      "Vc = 0.00035; \t\t\t#m**3\n",
      "V3 = Vc;\n",
      "V2 = V3;\n",
      "p3 = 65.; \t\t\t#bar\n",
      "p4 = 65.; \t\t\t#bar\n",
      "T1 = 353.; \t\t\t#K\n",
      "p1 = 0.9; \t\t\t#bar\n",
      "y = 1.4;\n",
      "\n",
      "# Calculations\n",
      "r = (Vs+Vc)/Vc;\n",
      "rho = (5/100*Vs+V3)/V3;\n",
      "p2 = p1*(r)**y;\n",
      "B = p3/p2;\n",
      "n_dual = 1-1/r**(y-1)*((B*rho**y-1)/((B-1)+B*y*(rho-1)));\n",
      "\n",
      "# Results\n",
      "print (\"Efficiency of the cycle  = %.3f\")% (n_dual)\n"
     ],
     "language": "python",
     "metadata": {},
     "outputs": [
      {
       "output_type": "stream",
       "stream": "stdout",
       "text": [
        "Efficiency of the cycle  = 0.671\n"
       ]
      }
     ],
     "prompt_number": 22
    },
    {
     "cell_type": "heading",
     "level": 3,
     "metadata": {},
     "source": [
      "Example 13.24 page no : 643"
     ]
    },
    {
     "cell_type": "code",
     "collapsed": false,
     "input": [
      "# Variables\n",
      "r = 14.;\n",
      "B = 1.4;\n",
      "rho = 6./100*(r-1) + 1;\n",
      "y = 1.4;\n",
      "\n",
      "# Calculations\n",
      "n_dual = 1-1./r**(y-1)*((B*rho**y-1)/((B-1)+B*y*(rho-1)))\n",
      "\n",
      "# Results\n",
      "print (\"Efficiency of the cycle  = %.3f\")% (n_dual)\n"
     ],
     "language": "python",
     "metadata": {},
     "outputs": [
      {
       "output_type": "stream",
       "stream": "stdout",
       "text": [
        "Efficiency of the cycle  = 0.614\n"
       ]
      }
     ],
     "prompt_number": 23
    },
    {
     "cell_type": "heading",
     "level": 3,
     "metadata": {},
     "source": [
      "Example 13.25 page no : 643"
     ]
    },
    {
     "cell_type": "code",
     "collapsed": false,
     "input": [
      "\n",
      "# Variables\n",
      "D = 0.25; \t\t\t#m\n",
      "r = 9.; \n",
      "L = 0.3; \t\t\t#m\n",
      "cv = 0.71; \t\t\t#kJ/kg K\n",
      "cp = 1.; \t\t\t#kJ/kg K\n",
      "p1 = 1.; \t\t\t#bar\n",
      "T1 = 303.; \t\t\t#K\n",
      "p3 = 60.; \t\t\t#bar\n",
      "p4 = p3;\n",
      "n = 3.; \t\t\t#number of working cycles/ sec\n",
      "y = 1.4;\n",
      "R = 287.;\n",
      "\n",
      "# Calculations and Results\n",
      "print (\"(i) Air standard efficiency\")\n",
      "Vs = math.pi/4*D**2*L;\n",
      "Vc = Vs/(r-1);\n",
      "V1 = Vs+Vc;\n",
      "p2 = p1*(r)**y;\n",
      "T2 = T1*r**(y-1);\n",
      "T3 = T2*p3/p2;\n",
      "rho = 4./100*(r-1)+1;\n",
      "T4 = T3*rho;\n",
      "T5 = T4*(rho/r)**(y-1);\n",
      "p5 = p4*(r/rho)**(y);\n",
      "Qs = cv*(T3-T2)+cp*(T4-T3)\n",
      "Qr = cv*(T5-T1);\n",
      "\n",
      "n_airsard = (Qs-Qr)/Qs;\n",
      "print (\"efficiency  = %.3f\")% (n_airsard)\n",
      "\n",
      "print (\"(ii) Power developed by the engine\")\n",
      "m = p1*10**5*V1/R/T1;\n",
      "\n",
      "W = m*(Qs-Qr);\n",
      "\n",
      "P = W*n;\n",
      "print (\"P = %.3f\")% (P), (\"kW\")\n"
     ],
     "language": "python",
     "metadata": {},
     "outputs": [
      {
       "output_type": "stream",
       "stream": "stdout",
       "text": [
        "(i) Air standard efficiency\n",
        "efficiency  = 0.575\n",
        "(ii) Power developed by the engine\n",
        "P = 51.392 kW\n"
       ]
      }
     ],
     "prompt_number": 24
    },
    {
     "cell_type": "heading",
     "level": 3,
     "metadata": {},
     "source": [
      "Example 13.26 page no : 646"
     ]
    },
    {
     "cell_type": "code",
     "collapsed": false,
     "input": [
      "\n",
      "# Variables\n",
      "p1 = 1.; \t\t\t#bar\n",
      "T1 = 363.; \t\t\t#K\n",
      "r = 9.; \n",
      "p3 = 68.; \t\t\t#bar\n",
      "p4 = 68.; \t\t\t#bar\n",
      "Q = 1750.; \t\t\t#kJ/kg\n",
      "y = 1.4;\n",
      "cv = 0.71;\n",
      "cp = 1.0;\n",
      "\n",
      "# Calculations and Results\n",
      "print (\"(i) Pressures and temperatures at salient points\")\n",
      "p2 = p1*(r)**y;\n",
      "print (\"p2 = %.3f\")% (p2), (\"bar\")\n",
      "\n",
      "T2 = T1*r**(y-1);\n",
      "print (\"T2 = %.3f\")% (T2), (\"K\")\n",
      "\n",
      "print (\"p3 = %.3f\")% (p3), (\"bar\")\n",
      "\n",
      "print (\"p4 = %.3f\")% (p4), (\"bar\")\n",
      "\n",
      "T3 = T2*(p3/p2);\n",
      "print (\"T3 = %.3f\")% (T3), (\"K\")\n",
      "\n",
      "Q1 = cv*(T3-T2); \t\t\t#heat added at consmath.tant volume\n",
      "Q2 = Q-Q1; \t        \t\t#heat added at consmath.tant pressure\n",
      "\n",
      "T4 = Q2/cp+T3;\n",
      "print (\"T4 = %.3f\")% (T4), (\"K\")\n",
      "\n",
      "rho = T4/T3; \t\t\t#V4/V3 = T4/T3\n",
      "\n",
      "p5 = p4*(rho/r)**y;\n",
      "print (\"p5 = %.3f\")% (p5), (\"bar\")\n",
      "\n",
      "T5 = T4*(rho/r)**(y-1);\n",
      "print (\"T5 = %.3f\")% (T5), (\"K\")\n",
      "\n",
      "\n",
      "Qr = cv*(T5-T1);\n",
      "n_airard = (Q-Qr)/Q;\n",
      "print (\"(ii) Air standard efficiency  = %.3f\")% (n_airard)\n",
      "\n",
      "\n",
      "pm = 1./(r-1)*(p3*(rho-1) + (p4*rho-p5*r)/(y-1) - (p2-p1*r)/(y-1));\n",
      "print (\"(iii) Mean effective pressure  = %.3f\")% (pm), (\"bar\")\n"
     ],
     "language": "python",
     "metadata": {},
     "outputs": [
      {
       "output_type": "stream",
       "stream": "stdout",
       "text": [
        "(i) Pressures and temperatures at salient points\n",
        "p2 = 21.674 bar\n",
        "T2 = 874.186 K\n",
        "p3 = 68.000 bar\n",
        "p4 = 68.000 bar\n",
        "T3 = 2742.667 K\n",
        "T4 = 3166.045 K\n",
        "p5 = 3.836 bar\n",
        "T5 = 1392.380 K\n",
        "(ii) Air standard efficiency  = 0.582\n",
        "(iii) Mean effective pressure  = 11.094 bar\n"
       ]
      }
     ],
     "prompt_number": 25
    },
    {
     "cell_type": "heading",
     "level": 3,
     "metadata": {},
     "source": [
      "Example 13.27 page no : 648"
     ]
    },
    {
     "cell_type": "code",
     "collapsed": false,
     "input": [
      "# Variables\n",
      "T1 = 300.; \t\t\t#K\n",
      "r = 15.;\n",
      "y = 1.4;\n",
      "\n",
      "# Calculations\n",
      "#p3/p1 = 70\n",
      "T2 = T1*(r)**(y-1);\n",
      "#p2/p1 = r**y\n",
      "#p2 = 44.3*p1\n",
      "T3 = 1400.; \t\t\t#K; T3 = T2*p3/p2\n",
      "T4 = T3 + (T3-T2)/y;\n",
      "T5 = 656.9; \t\t\t#K\n",
      "n_airard = 1-(T5-T1)/((T3-T2) + y*(T4-T3));\n",
      "\n",
      "# Results\n",
      "print (\"Efficiency  = %.3f\")% (n_airard)\n"
     ],
     "language": "python",
     "metadata": {},
     "outputs": [
      {
       "output_type": "stream",
       "stream": "stdout",
       "text": [
        "Efficiency  = 0.653\n"
       ]
      }
     ],
     "prompt_number": 13
    },
    {
     "cell_type": "heading",
     "level": 3,
     "metadata": {},
     "source": [
      "Example 13.28 page no : 650"
     ]
    },
    {
     "cell_type": "code",
     "collapsed": false,
     "input": [
      "# Variables\n",
      "T1 = 373.; \t\t\t#K\n",
      "p1 = 1.; \t\t\t#bar\n",
      "p3 = 65.; \t\t\t#bar\n",
      "p4 = p3;\n",
      "Vs = 0.0085; \t\t\t#m**3\n",
      "ratio = 21.; \t\t\t#Air fuel ratio\n",
      "r = 15.;\n",
      "C = 43890.; \t\t\t#kJ/kg\n",
      "cp = 1.;\n",
      "cv = 0.71;\n",
      "V2 = 0.0006; \t\t\t#m**3\n",
      "V1 = 0.009; \t\t\t#m**3\n",
      "y = 1.41;\n",
      "V5 = V1;\n",
      "V3 = V2;\n",
      "R = 287.;\n",
      "\n",
      "# Calculations\n",
      "p2 = p1*(r)**y;\n",
      "T2 = T1*r**(y-1);\n",
      "T3 = T2*p3/p2;\n",
      "m = p1*10**5*V1/R/T1;\n",
      "Q1 = m*cv*(T3-T2); \t\t\t#Heat added during consmath.tant volume process 2-3\n",
      "amt = Q1/C; \t\t\t    #Amount of fuel added during the consmath.tant volume process 2-3\n",
      "total = m/ratio; \t\t\t#Total amount of fuel added\n",
      "quantity = total-amt; \t\t#Quantity of fuel added during the process 3-4\n",
      "Q2 = quantity*C; \t\t\t#Heat added during consmath.tant pressure process\n",
      "T4 = Q2/(m+total)/cp+T3;\n",
      "V4 = V3*T4/T3;\n",
      "T5 = T4*(V4/V5)**(y-1);\n",
      "Q3 = (m+total)*cv*(T5-T1); \t#Heat rejected during consmath.tant volume process 5-1\n",
      "W = (Q1+Q2) - Q3;\n",
      "n_th = W/(Q1+Q2);\n",
      "\n",
      "# Results\n",
      "print (\"Thermal efficiency  = %.3f\")% (n_th)\n"
     ],
     "language": "python",
     "metadata": {},
     "outputs": [
      {
       "output_type": "stream",
       "stream": "stdout",
       "text": [
        "Thermal efficiency  = 0.618\n"
       ]
      }
     ],
     "prompt_number": 27
    },
    {
     "cell_type": "heading",
     "level": 3,
     "metadata": {},
     "source": [
      "Example 13.29 page no : 652"
     ]
    },
    {
     "cell_type": "code",
     "collapsed": false,
     "input": [
      "# Variables\n",
      "T1 = 303.; \t\t\t#K\n",
      "p1 = 1.; \t\t\t#bar\n",
      "rc = 9.;\n",
      "re = 5.;\n",
      "n = 1.25;\n",
      "D = 0.25; \t\t\t#m\n",
      "L = 0.4; \t\t\t#m\n",
      "R = 287.;\n",
      "cv = 0.71;\n",
      "cp = 1.;\n",
      "num = 8.; \t\t\t#no. 0f cycles/sec\n",
      "\n",
      "# Calculations and Results\n",
      "print (\"(i) Pressure and temperatures at all salient points  = \"),\n",
      "p2 = p1*(rc)**n;\n",
      "print (\"p2 = %.3f\")% (p2), (\"bar\")\n",
      "\n",
      "T2 = T1*(rc)**(n-1);\n",
      "print (\"T2 = \"), (T2), (\"K\")\n",
      "\n",
      "rho = rc/re;\n",
      "T3 = 1201.9; \t\t\t#K\n",
      "print (\"T3 = \"), (T3), (\"K\")\n",
      "\n",
      "p3 = p2*T3/T2;\n",
      "print (\"p3 = \"), (p3), (\"bar\")\n",
      "\n",
      "p4 = p3;\n",
      "print (\"p4 = \"),(p4), (\"bar\")\n",
      "\n",
      "T4 = 1.8*T3;\n",
      "print (\"T4 = \"), (T4), (\"K\")\n",
      "\n",
      "p5 = p4*(1./re)**(n);\n",
      "print (\"p5 = %.3f\")%(p5), (\"bar\")\n",
      "\n",
      "T5 = T4*(1./re)**(n-1)\n",
      "print (\"T5 = %.3f\")%(T5),(\"K\")\n",
      "\n",
      "\n",
      "pm = 1./(rc-1)*(p3*(rho-1)+(p4*rho-p5*rc)/(n-1)-(p2-p1*rc)/(n-1));\n",
      "print (\"(ii) Mean effective pressure  =  %.3f\")% (pm), (\"bar\")\n",
      "\n",
      "print (\"(iii) Efficiency of the cycle\")\n",
      "Vs = math.pi/4*D**2*L;\n",
      "W = pm*10**5*Vs/1000;\n",
      "\n",
      "V1 = rc/(rc-1)*Vs\n",
      "m = p1*10**5*V1/R/T1;\n",
      "Q = m*(cv*(T3-T2) + cp*(T4-T3));\n",
      "\n",
      "Efficiency = W/Q;\n",
      "print (\"Efficiency  = %.3f\")% (Efficiency)\n",
      "\n",
      "P = W*num;\n",
      "print (\"(iv) Power of the engine  = %.3f\")% (P), (\"kW\")\n"
     ],
     "language": "python",
     "metadata": {},
     "outputs": [
      {
       "output_type": "stream",
       "stream": "stdout",
       "text": [
        "(i) Pressure and temperatures at all salient points  =  p2 = 15.588 bar\n",
        "T2 =  524.811394693 K\n",
        "T3 =  1201.9 K\n",
        "p3 =  35.7 bar\n",
        "p4 =  35.7 bar\n",
        "T4 =  2163.42 K\n",
        "p5 = 4.775 bar\n",
        "T5 = 1446.766 K\n",
        "(ii) Mean effective pressure  =  10.919 bar\n",
        "(iii) Efficiency of the cycle\n",
        "Efficiency  = 0.585\n",
        "(iv) Power of the engine  = 171.518 kW\n"
       ]
      }
     ],
     "prompt_number": 15
    },
    {
     "cell_type": "heading",
     "level": 3,
     "metadata": {},
     "source": [
      "Example 13.30 page no : 657"
     ]
    },
    {
     "cell_type": "code",
     "collapsed": false,
     "input": [
      "%matplotlib inline\n",
      "\n",
      "from numpy import *\n",
      "from matplotlib.pyplot import *\n",
      "\n",
      "v = linspace(10,100,90)\n",
      "def f(v):\n",
      "    return 1./v**1.4;\n",
      "\n",
      "f1 = f(v)\n",
      "plot(v,f1)\n",
      "v = [10, 20]\n",
      "p = [f(10), f(10)]\n",
      "plot(v,p,'r')\n",
      "\n",
      "v = linspace(20,100,80)\n",
      "def fa(v):\n",
      "    return 2.6515/v**1.4;\n",
      "f1 = fa(v)\n",
      "plot(v,f1,'g')\n",
      "\n",
      "v = [100, 100]\n",
      "p = [f(100), fa(100)]\n",
      "plot(v,p,'--p')\n",
      "\n",
      "v = [15, 15]\n",
      "p = [f(15), 0.040]\n",
      "plot(v,p,'--')\n",
      "\n",
      "v = [20 ,20]\n",
      "p = [f(20), 0.040]\n",
      "plot(v,p,'--r')\n",
      "\n",
      "s = linspace(10,50,40);\n",
      "\n",
      "def fb(s):\n",
      "    return s**2\n",
      "f1 = fb(s)\n",
      "plot(s,f1)\n",
      "\n",
      "s = linspace(10,50,40)\n",
      "\n",
      "def fc(s):\n",
      "    return (s+30)**2\n",
      "f1 = fc(s)\n",
      "plot(s,f1,'r')\n",
      "\n",
      "s = [12, 12];\n",
      "T = [fb(12), fc(12)];\n",
      "plot(s,T,'--p')\n",
      "\n",
      "s = [45, 45];\n",
      "T = [fb(45) ,fc(45)]\n",
      "plot(s,T,'m')\n",
      "\n",
      "s = linspace(10,27,17);\n",
      "T = 5*(s)**2;\n",
      "plot(s,T,'g')\n",
      "\n",
      "s = linspace(10,20,10);\n",
      "T = 7*s**2;\n",
      "plot(s,T,'--r')\n",
      "\n",
      "\n",
      "print (\"Thus, \u03b7diesel > \u03b7dual > \u03b7otto\")\n"
     ],
     "language": "python",
     "metadata": {},
     "outputs": [
      {
       "output_type": "stream",
       "stream": "stdout",
       "text": [
        "Populating the interactive namespace from numpy and matplotlib\n",
        "Thus, \u03b7diesel > \u03b7dual > \u03b7otto"
       ]
      },
      {
       "output_type": "stream",
       "stream": "stdout",
       "text": [
        "\n"
       ]
      },
      {
       "metadata": {},
       "output_type": "display_data",
       "png": "[encoded data removed]",
       "text": [
        "<matplotlib.figure.Figure at 0x3a4a5d0>"
       ]
      }
     ],
     "prompt_number": 1
    },
    {
     "cell_type": "heading",
     "level": 3,
     "metadata": {},
     "source": [
      "Example 13.31 page no : 659"
     ]
    },
    {
     "cell_type": "code",
     "collapsed": false,
     "input": [
      "# Variables\n",
      "cp = 0.92;\n",
      "cv = 0.75;\n",
      "y = 1.22; \t\t\t#y = cp/cv\n",
      "p1 = 1.; \t\t\t#bar\n",
      "p2 = p1;\n",
      "p3 = 4.; \t\t\t#bar\n",
      "p4 = 16.; \t\t\t#bar\n",
      "T2 = 300.; \t\t\t#K\n",
      "\n",
      "# Calculations and Results\n",
      "T3 = T2*(p3/p2)**((y-1)/y);\n",
      "T4 = p4/p3*T3;\n",
      "T1 = T4/(p4/p1)**((y-1)/y);\n",
      "\n",
      "print (\"(i) Work done per kg of gas \")\n",
      "Q_supplied = cv*(T4-T3);\n",
      "Q_rejected = cp*(T1-T2);\n",
      "\n",
      "W = Q_supplied-Q_rejected;\n",
      "print (\"W = %.3f\")% (W), (\"kJ/kg\")\n",
      "\n",
      "n = W/Q_supplied;\n",
      "print (\"(ii) Efficiency of the cycle  = %.3f\")%(n)\n"
     ],
     "language": "python",
     "metadata": {},
     "outputs": [
      {
       "output_type": "stream",
       "stream": "stdout",
       "text": [
        "(i) Work done per kg of gas \n",
        "W = 282.900 kJ/kg\n",
        "(ii) Efficiency of the cycle  = 0.326\n"
       ]
      }
     ],
     "prompt_number": 32
    },
    {
     "cell_type": "heading",
     "level": 3,
     "metadata": {},
     "source": [
      "Example 13.32 page no : 680"
     ]
    },
    {
     "cell_type": "code",
     "collapsed": false,
     "input": [
      "# Variables\n",
      "p1 = 101.325; \t\t#kPa\n",
      "T1 = 300.; \t\t\t#K\n",
      "rp = 6.;\n",
      "y = 1.4;\n",
      "\n",
      "# Calculations\n",
      "T2 = T1*rp**((y-1)/y);\n",
      "T3 = 2.5*(T2-T1)/(1-1/1.668);\n",
      "\n",
      "# Results\n",
      "print (\"(i) Maximum temperature in the cycle  = %.3f\")% (T3), (\"K\")\n",
      "\n",
      "\n",
      "T4 = T3/1.668;\n",
      "\n",
      "n_cycle = ((T3-T4) - (T2-T1))/(T3-T2);\n",
      "print (\"(ii)Cycle efficiency  = %.3f\")% (n_cycle)\n"
     ],
     "language": "python",
     "metadata": {},
     "outputs": [
      {
       "output_type": "stream",
       "stream": "stdout",
       "text": [
        "(i) Maximum temperature in the cycle  = 1251.956 K\n",
        "(ii)Cycle efficiency  = 0.400\n"
       ]
      }
     ],
     "prompt_number": 16
    },
    {
     "cell_type": "heading",
     "level": 3,
     "metadata": {},
     "source": [
      "Example 13.33 page no : 681"
     ]
    },
    {
     "cell_type": "code",
     "collapsed": false,
     "input": [
      "%matplotlib inline\n",
      "from numpy import *\n",
      "from matplotlib.pyplot import *\n",
      "\n",
      "# Variables\n",
      "p1 = 1.; \t\t\t#bar\n",
      "p2 = 5.; \t\t\t#bar\n",
      "T3 = 1000.; \t\t\t#K\n",
      "cp = 1.0425; \t\t\t#kJ/kg K\n",
      "cv = 0.7662; \t\t\t#kJ/kg K\n",
      "y = cp/cv;\n",
      "\n",
      "print (\"(i)Temperature entropy diagram\")\n",
      "\n",
      "# Calculations\n",
      "s = linspace(10,50,40);\n",
      "def fb(s):\n",
      "    return s**2\n",
      "\n",
      "plot(s,fb(s),'--')\n",
      "\n",
      "s = linspace(10,50,40);\n",
      "\n",
      "def fc(s):\n",
      "    return (s+30)**2\n",
      "\n",
      "plot(s,fc(s),'r')\n",
      "\n",
      "s = [12, 12];\n",
      "T = [fb(12), fc(12)];\n",
      "plot(s,T,'m')\n",
      "\n",
      "s = [45 ,45];\n",
      "T = [fb(45), fc(45)]\n",
      "plot(s,T,'g')\n",
      "\n",
      "\n",
      "# Results\n",
      "print (\"(ii) Power required  = \")\n",
      "T4 = T3*(p1/p2)**((y-1)/y);\n",
      "P = cp*(T3-T4);\n",
      "print (\"P = %.3f\")% (P), (\"kW\")\n",
      "show()"
     ],
     "language": "python",
     "metadata": {},
     "outputs": [
      {
       "output_type": "stream",
       "stream": "stdout",
       "text": [
        "Populating the interactive namespace from numpy and matplotlib\n",
        "(i)Temperature entropy diagram\n",
        "(ii) Power required  = \n",
        "P = 362.007 kW\n"
       ]
      },
      {
       "output_type": "stream",
       "stream": "stderr",
       "text": [
        "WARNING: pylab import has clobbered these variables: ['draw_if_interactive', 'new_figure_manager']\n",
        "`%pylab --no-import-all` prevents importing * from pylab and numpy\n"
       ]
      },
      {
       "metadata": {},
       "output_type": "display_data",
       "png": "[encoded data removed]",
       "text": [
        "<matplotlib.figure.Figure at 0x2d99350>"
       ]
      }
     ],
     "prompt_number": 36
    },
    {
     "cell_type": "heading",
     "level": 3,
     "metadata": {},
     "source": [
      "Example 13.34 page no : 682"
     ]
    },
    {
     "cell_type": "code",
     "collapsed": false,
     "input": [
      "# Variables\n",
      "m = 0.1; \t\t\t#kg/s\n",
      "p1 = 1.; \t\t\t#bar\n",
      "T4 = 285.; \t\t\t#K\n",
      "p2 = 4.; \t\t\t#bar\n",
      "cp = 1.; \t\t\t#kJ/kg K\n",
      "y = 1.4;\n",
      "\n",
      "# Calculations and Results\n",
      "T3 = T4*(p2/p1)**((y-1)/y);\n",
      "print (\"Temperature at turbine inlet  = %.3f\")% (T3), (\"K\")\n",
      "\n",
      "P = m*cp*(T3-T4);\n",
      "print (\"Power developed  = %.3f\")% (P), (\"kW\")\n"
     ],
     "language": "python",
     "metadata": {},
     "outputs": [
      {
       "output_type": "stream",
       "stream": "stdout",
       "text": [
        "Temperature at turbine inlet  = 423.508 K\n",
        "Power developed  = 13.851 kW\n"
       ]
      }
     ],
     "prompt_number": 37
    },
    {
     "cell_type": "heading",
     "level": 3,
     "metadata": {},
     "source": [
      "Example 13.35 page no : 682"
     ]
    },
    {
     "cell_type": "code",
     "collapsed": false,
     "input": [
      "\n",
      "\n",
      "# Variables\n",
      "y = 1.4;\n",
      "cp = 1.005; \t\t\t#kJ/kg K\n",
      "p1 = 1.;    \t\t\t#bar\n",
      "T1 = 293.; \t    \t\t#K\n",
      "p2 = 3.5; \t\t    \t#bar\n",
      "T3 = 873.; \t\t\t    #K\n",
      "rp = p2/p1;\n",
      "\n",
      "# Calculations and Results\n",
      "n_cycle = 1-1/rp**((y-1)/y);\n",
      "print (\"(i) Efficiency of the cycle  = %.3f\")% (n_cycle)\n",
      "\n",
      "T2 = T1*(p2/p1)**((y-1)/y);\n",
      "Q1 = cp*(T3-T2);\n",
      "print (\"(ii) Heat supplied to air  = %.3f\")%(Q1),(\"kJ/kg\")\n",
      "\n",
      "W = n_cycle*Q1;\n",
      "print (\"(iii) Work available at the shaft  = %.3f\")%(W),(\"kJ/kg\")\n",
      "\n",
      "Q2 = Q1-W;\n",
      "print (\"(iv) Heat rejected in the cooler  = %.3f\")%(Q2),(\"kJ/kg\")\n",
      "\n",
      "T4 = T3/rp**((y-1)/y);\n",
      "print (\"(v) Temperature of air leaving the turbine  = %.3f\")%(T4), (\"K\")\n"
     ],
     "language": "python",
     "metadata": {},
     "outputs": [
      {
       "output_type": "stream",
       "stream": "stdout",
       "text": [
        "(i) Efficiency of the cycle  = 0.301\n",
        "(ii) Heat supplied to air  = 456.171 kJ/kg\n",
        "(iii) Work available at the shaft  = 137.253 kJ/kg\n",
        "(iv) Heat rejected in the cooler  = 318.919 kJ/kg\n",
        "(v) Temperature of air leaving the turbine  = 610.332 K\n"
       ]
      }
     ],
     "prompt_number": 38
    },
    {
     "cell_type": "heading",
     "level": 3,
     "metadata": {},
     "source": [
      "Example 13.36 page no : 683"
     ]
    },
    {
     "cell_type": "code",
     "collapsed": false,
     "input": [
      "import math\n",
      "\n",
      "# Variables\n",
      "T1 = 303.; \t\t\t#K\n",
      "T3 = 1073.; \t\t\t#K\n",
      "C = 45000.; \t\t\t#kJ/kg\n",
      "cp = 1.; \t\t\t#kJ/kg K\n",
      "y = 1.4;\n",
      "\n",
      "# Calculations\n",
      "T2 = math.sqrt(T1*T3);\n",
      "T4 = T2;\n",
      "\n",
      "#W_turbine-W_compressor = m_f*C*n = 100;\n",
      "\n",
      "m_f = 100./C/(1-(T4-T1)/(T3-T2));\n",
      "\n",
      "# Results\n",
      "print (\"m_f = %.6f\")%(m_f), (\"kg/s\")\n",
      "\n",
      "m_a = (100-m_f*(T3-T4))/(T3-T4-T2+T1);\n",
      "print (\"m_a = %.3f\")% (m_a), (\"kg/s\")\n"
     ],
     "language": "python",
     "metadata": {},
     "outputs": [
      {
       "output_type": "stream",
       "stream": "stdout",
       "text": [
        "m_f = 0.004742 kg/s\n",
        "m_a = 0.414 kg/s\n"
       ]
      }
     ],
     "prompt_number": 17
    },
    {
     "cell_type": "heading",
     "level": 3,
     "metadata": {},
     "source": [
      "Example 13.37 page no : 684"
     ]
    },
    {
     "cell_type": "code",
     "collapsed": false,
     "input": [
      "\n",
      "import math \n",
      "\n",
      "# Variables\n",
      "T1 = 300.; \t\t\t#K\n",
      "p1 = 1.; \t\t\t#bar\n",
      "rp = 6.25;\n",
      "T3 = 1073.; \t\t#K\n",
      "n_comp = 0.8;\n",
      "n_turbine = 0.8;\n",
      "cp = 1.005; \t\t#kJ/kg K\n",
      "y = 1.4;\n",
      "\n",
      "# Calculations and Results\n",
      "T2 = T1*(rp)**((y-1)/y);\n",
      "\n",
      "#Let T2' = T2a\n",
      "T2a = (T2-T1)/n_comp + T1;\n",
      "\n",
      "W_comp = cp*(T2a-T1);\n",
      "print (\"Compressor work  = %.3f\")% (W_comp), (\"kJ/kg\")\n",
      "\n",
      "T4 = T3/rp**((y-1)/y);\n",
      "T4a = T3-n_turbine*(T3-T4);\n",
      "\n",
      "W_turbine = cp*(T3-T4a);\n",
      "print (\"Turbine work  = %.3f\")% (W_turbine), (\"kJ/kg\")\n",
      "\n",
      "Q_s = cp*(T3-T2a);\n",
      "print (\"Heat supplied  = %.3f\")% (Q_s), (\"kJ/kg\")\n",
      "\n",
      "W_net = W_turbine - W_comp;\n",
      "\n",
      "n_cycle = W_net/Q_s*100;\n",
      "print (\"n_cycle %.3f\")% (n_cycle), (\"%\")\n",
      "\n",
      "t4a = T4a-273;\n",
      "print (\"Turbine exhaust temperature  = %.3f\")% (t4a), (\"0C\")\n"
     ],
     "language": "python",
     "metadata": {},
     "outputs": [
      {
       "output_type": "stream",
       "stream": "stdout",
       "text": [
        "Compressor work  = 259.322 kJ/kg\n",
        "Turbine work  = 351.644 kJ/kg\n",
        "Heat supplied  = 517.543 kJ/kg\n",
        "n_cycle 17.839 %\n",
        "Turbine exhaust temperature  = 450.105 0C\n"
       ]
      }
     ],
     "prompt_number": 40
    },
    {
     "cell_type": "heading",
     "level": 3,
     "metadata": {},
     "source": [
      "Example 13.38 page no : 685"
     ]
    },
    {
     "cell_type": "code",
     "collapsed": false,
     "input": [
      "\n",
      "# Variables\n",
      "n_turbine = 0.85;\n",
      "n_compressor = 0.80;\n",
      "T3 = 1148.; \t\t#K\n",
      "T1 = 300.; \t\t\t#K\n",
      "cp = 1.; \t\t\t#kJ/kg K\n",
      "y = 1.4;\n",
      "p1 = 1.; \t\t\t#bar\n",
      "p2 = 4.; \t\t\t#bar\n",
      "C = 42000.; \t\t#kJ/kg K\n",
      "n_cc = 0.90;\n",
      "\n",
      "# Calculations\n",
      "T2 = T1*(p2/p1)**((y-1)/y);\n",
      "T2a = (T2-T1)/n_compressor + T1;\n",
      "ratio = 0.9*C/cp/(T3-T2a) - 1; \t\t\t#ratio = ma/mf\n",
      "\n",
      "# Results\n",
      "print (\"A/F ratio  = %.3f\")% (ratio)\n"
     ],
     "language": "python",
     "metadata": {},
     "outputs": [
      {
       "output_type": "stream",
       "stream": "stdout",
       "text": [
        "A/F ratio  = 55.778\n"
       ]
      }
     ],
     "prompt_number": 41
    },
    {
     "cell_type": "heading",
     "level": 3,
     "metadata": {},
     "source": [
      "Example 13.39 page no : 686"
     ]
    },
    {
     "cell_type": "code",
     "collapsed": false,
     "input": [
      "# Variables\n",
      "cp = 1.005; \t\t#kJ/kg K\n",
      "y1 = 1.4;\n",
      "y2 = 1.333;\n",
      "p1 = 1.; \t\t\t#bar\n",
      "p4 = p1;\n",
      "T1 = 300.; \t\t\t#K\n",
      "p2 = 6.2; \t\t\t#bar\n",
      "p3 = p2;\n",
      "n_compressor = 0.88;\n",
      "C = 44186.; \t\t\t#kJ/kg\n",
      "ratio = 0.017; \t\t\t#Fuel-air ratio; kJ/kg of air\n",
      "n_turbine = 0.9; \t\t\n",
      "cpg = 1.147;\n",
      "\n",
      "# Calculations\n",
      "T2 = T1*(p2/p1)**((y1-1)/y1);\n",
      "T2a = (T2-T1)/n_compressor + T1; \t\t#T2'\n",
      "T3 = ratio*C/(1+ratio)/cp + T2a;\n",
      "T4 = T3*(p4/p3)**((y2-1)/y2);\n",
      "T4a = T3-n_turbine*(T3-T4);\n",
      "W_compressor = cp*(T2a-T1);\n",
      "W_turbine = cpg*(T3-T4a);\n",
      "W_net = W_turbine-W_compressor;\n",
      "Qs = ratio*C;\n",
      "n_th = W_net/Qs*100;\n",
      "\n",
      "# Results\n",
      "print (\"Thermal efficiency  = %.3f\")% (n_th), (\"%\")\n"
     ],
     "language": "python",
     "metadata": {},
     "outputs": [
      {
       "output_type": "stream",
       "stream": "stdout",
       "text": [
        "Thermal efficiency  = 32.590 %\n"
       ]
      }
     ],
     "prompt_number": 42
    },
    {
     "cell_type": "heading",
     "level": 3,
     "metadata": {},
     "source": [
      "Example 13.40 page no : 688"
     ]
    },
    {
     "cell_type": "code",
     "collapsed": false,
     "input": [
      "# Variables\n",
      "cp = 1.; \t\t\t#kJ/kg K\n",
      "y = 1.4;\n",
      "C = 41800.; \t\t#kJ/kg\n",
      "p1 = 1.; \t\t\t#bar\n",
      "T1 = 293.; \t\t\t#K\n",
      "p2 = 4.; \t\t\t#bar\n",
      "p4 = p1;\n",
      "p3 = p2;\n",
      "n_compressor = 0.80;\n",
      "n_turbine = 0.85; \n",
      "ratio = 90.; \t\t\t#Air-Fuel ratio\n",
      "m_a = 3.;    \t\t\t#kg/s\n",
      "\n",
      "# Calculations and Results\n",
      "print (\"(i)Power developed \")\n",
      "T2 = T1*(p2/p1)**((y-1)/y);\n",
      "T2a = (T2-T1)/n_compressor + T1;\n",
      "T3 = C/(1+ratio)/cp + T2a;\n",
      "T4 = T3*(p4/p3)**((y-1)/y);\n",
      "T4a = T3-n_turbine*(T3-T4);\n",
      "\n",
      "W_turbine = (ratio+1)/ratio*cp*(T3-T4a);\n",
      "W_compressor = cp*(T2a-T1);\n",
      "W_net = W_turbine-W_compressor;\n",
      "Qs = 1/ratio*C;\n",
      "\n",
      "P = m_a*W_net;\n",
      "print (\"Power = %.3f\")% (P), (\"kW/kg of air\")\n",
      "\n",
      "n_thermal = W_net/Qs;\n",
      "print (\"(ii) Thermal efficiency of cycle  = %.3f\")%(n_thermal), (\"%\")\n"
     ],
     "language": "python",
     "metadata": {},
     "outputs": [
      {
       "output_type": "stream",
       "stream": "stdout",
       "text": [
        "(i)Power developed \n",
        "Power = 250.514 kW/kg of air\n",
        "(ii) Thermal efficiency of cycle  = 0.180 %\n"
       ]
      }
     ],
     "prompt_number": 43
    },
    {
     "cell_type": "heading",
     "level": 3,
     "metadata": {},
     "source": [
      "Example 13.41 page no : 689"
     ]
    },
    {
     "cell_type": "code",
     "collapsed": false,
     "input": [
      "# Variables\n",
      "T1 = 288.; \t\t\t#K\n",
      "T3 = 883.; \t\t\t#K\n",
      "rp = 6.; \t\t\t#rp = p2/p1\n",
      "n_compressor = 0.80;\n",
      "n_turbine = 0.82;\n",
      "m_a = 16.; \t\t\t#kg/s\n",
      "cp1 = 1.005; \t\t#kJ/kg K, For compression process\n",
      "y1 = 1.4; \t\t\t# For compression process\n",
      "cp2 = 1.11; \t\t#kJ/kg K\n",
      "y2 = 1.333;\n",
      "\n",
      "# Calculations\n",
      "T2 = T1*(rp)**((y1-1)/y1);\n",
      "T2a = (T2-T1)/n_compressor + T1;\n",
      "T4 = T3/rp**((y2-1)/y2);\n",
      "T4a = T3-n_turbine*(T3-T4);\n",
      "\n",
      "W_compressor = cp1*(T2a-T1);\n",
      "W_turbine = cp2*(T3-T4a);\n",
      "W_net = W_turbine-W_compressor;\n",
      "Power = m_a*W_net;\n",
      "\n",
      "# Results\n",
      "print (\"Power  = %.3f\")%(Power), (\"kW\")\n"
     ],
     "language": "python",
     "metadata": {},
     "outputs": [
      {
       "output_type": "stream",
       "stream": "stdout",
       "text": [
        "Power  = 770.306 kW\n"
       ]
      }
     ],
     "prompt_number": 44
    },
    {
     "cell_type": "heading",
     "level": 3,
     "metadata": {},
     "source": [
      "Example 13.42 page no : 691"
     ]
    },
    {
     "cell_type": "code",
     "collapsed": false,
     "input": [
      "# Variables\n",
      "cp = 1.11;\n",
      "T3 = 883.; \t\t\t#K\n",
      "T2a = 529.; \t\t#K\n",
      "W_turbine = 290.4; \t#kJ/kg\n",
      "W_net = 48.2; \t\t#kJ/kg\n",
      "\n",
      "# Calculations\n",
      "Qs = cp*(T3-T2a);\n",
      "n_thermal = W_net/Qs*100;\n",
      "W_ratio = W_net/W_turbine; \t\t\t#Work ratio = net work output/Gross work output\n",
      "\n",
      "# Results\n",
      "print (\"Thermal efficiency  = %.3f\")%(n_thermal),(\"%\")\n",
      "\n",
      "print (\"Work ratio  = %.3f\")% (W_ratio)\n"
     ],
     "language": "python",
     "metadata": {},
     "outputs": [
      {
       "output_type": "stream",
       "stream": "stdout",
       "text": [
        "Thermal efficiency  = 12.267 %\n",
        "Work ratio  = 0.166\n"
       ]
      }
     ],
     "prompt_number": 45
    },
    {
     "cell_type": "heading",
     "level": 3,
     "metadata": {},
     "source": [
      "Example 13.43 page no : 691"
     ]
    },
    {
     "cell_type": "code",
     "collapsed": false,
     "input": [
      "# Variables\n",
      "p1 = 1.; \t\t\t#bar\n",
      "p2 = 5.; \t\t\t#bar\n",
      "p3 = 4.9; \t\t\t#bar\n",
      "p4 = 1.; \t\t\t#bar\n",
      "T1 = 293.; \t\t\t#K\n",
      "T3 = 953.; \t\t\t#K\n",
      "n_compressor = 0.85;\n",
      "n_turbine = 0.80;\n",
      "n_combustion = 0.85;\n",
      "y = 1.4;\n",
      "cp = 1.024; \t\t\t#kJ/kg K\n",
      "P = 1065.;   \t\t\t#kW\n",
      "\n",
      "# Calculations and Results\n",
      "print (\"(i) The quantity of air circulation\")\n",
      "T2 = T1*(p2/p1)**((y-1)/y);\n",
      "T2a = (T2-T1)/n_compressor + T1;\n",
      "T4 = T3*(p4/p3)**((y-1)/y);\n",
      "T4a = T3-n_turbine*(T3-T4);\n",
      "\n",
      "W_compressor = cp*(T2a-T1);\n",
      "W_turbine = cp*(T3-T4a);\n",
      "W_net = W_turbine-W_compressor;\n",
      "\n",
      "m_a = P/W_net;\n",
      "print (\"m_a  = %.3f\")% (m_a), (\"kg\")\n",
      "\n",
      "\n",
      "Qs = cp*(T3-T2a)/n_combustion;\n",
      "print (\"(ii) Heat supplied per kg of air circulation  = %.3f\")%(Qs), (\"kJ/kg\")\n",
      "\n",
      "n_thermal = W_net/Qs*100;\n",
      "print (\"(iii) Thermal efficiency of the cycle  = %.3f\")% (n_thermal), (\"%\")\n"
     ],
     "language": "python",
     "metadata": {},
     "outputs": [
      {
       "output_type": "stream",
       "stream": "stdout",
       "text": [
        "(i) The quantity of air circulation\n",
        "m_a  = 13.507 kg\n",
        "(ii) Heat supplied per kg of air circulation  = 552.664 kJ/kg\n",
        "(iii) Thermal efficiency of the cycle  = 14.267 %\n"
       ]
      }
     ],
     "prompt_number": 46
    },
    {
     "cell_type": "heading",
     "level": 3,
     "metadata": {},
     "source": [
      "Example 13.44 page no : 693"
     ]
    },
    {
     "cell_type": "code",
     "collapsed": false,
     "input": [
      "# Variables\n",
      "m_a = 20.; \t\t\t#kg/s\n",
      "T1 = 300.; \t\t\t#K\n",
      "T3 = 1000.; \t\t#K\n",
      "rp = 4.; \t\t\t#rp = p2/p1\n",
      "cp = 1.; \t\t\t#kJ/kg K\n",
      "y = 1.4;\n",
      "\n",
      "# Calculations\n",
      "T2 = T1*(rp)**((y-1)/y);\n",
      "T4 = T3-T2+T1;\n",
      "r1 = (T3/T4)**(y/(y-1));\n",
      "\n",
      "r2 = 1./4*r1;\n",
      "P_ratio = 1./r2; \t\t\t#Pressure ratio of low pressure turbine\n",
      "\n",
      "# Results\n",
      "print (\"Pressure ratio of low pressure turbine  = %.3f\")% (P_ratio)\n",
      "\n",
      "T5 = T4/(P_ratio)**((y-1)/y);\n",
      "print (\"Temperature of the exhaust from the unit  = %.3f\")%(T5), (\"K\")\n"
     ],
     "language": "python",
     "metadata": {},
     "outputs": [
      {
       "output_type": "stream",
       "stream": "stdout",
       "text": [
        "Pressure ratio of low pressure turbine  = 2.304\n",
        "Temperature of the exhaust from the unit  = 672.950 K\n"
       ]
      }
     ],
     "prompt_number": 47
    },
    {
     "cell_type": "heading",
     "level": 3,
     "metadata": {},
     "source": [
      "Example 13.45 page no : 694"
     ]
    },
    {
     "cell_type": "code",
     "collapsed": false,
     "input": [
      "# Variables\n",
      "T1 = 288.; \t\t\t#K\n",
      "p1 = 1.01; \t\t\t#bar\n",
      "rp = 7.;\n",
      "p2 = rp*p1;\n",
      "p3 = p2;\n",
      "p5 = p1;\n",
      "n_compressor = 0.82;\n",
      "n_turbine = 0.85;\n",
      "n_turbine = 0.85;\n",
      "T3 = 883.; \t\t\t#K\n",
      "cpa = 1.005;\n",
      "cpg = 1.15;\n",
      "y1 = 1.4;\n",
      "y2 = 1.33;\n",
      "\n",
      "# Calculations and Results\n",
      "print (\"(i) Pressure and temperature of the gases entering the power turbine   \")\n",
      "T2 = T1*rp**((y1-1)/y1);\n",
      "T2a = (T2-T1)/n_compressor + T1;\n",
      "W_compressor = cpa*(T2a-T1);\n",
      "\n",
      "T4a = (cpg*T3-W_compressor)/cpg;\n",
      "print (\"Temperature of gases entering the power turbine  = %.3f\")% (T4a), (\"K\")\n",
      "\n",
      "T4 = T3-(T3-T4a)/n_turbine;\n",
      "\n",
      "p4 = p3/(T3/T4)**(y2/(y2-1));\n",
      "print (\"Pressure of gases entering the power turbine  = %.3f\")%(p4),(\"bar\")\n",
      "\n",
      "print (\"(ii) Net power developed per kg/s mass flow\")\n",
      "T5 = T4a/(p4/p5)**((y2-1)/y2);\n",
      "T5a = T4a-n_turbine*(T4a-T5);\n",
      "\n",
      "W_turbine = cpg*(T4a-T5a);\n",
      "print (\" Net power developed per kg/s mass flow  = %.3f\")%(W_turbine), (\"kW\")\n",
      "\n",
      "\n",
      "W_ratio = W_turbine/(W_turbine+W_compressor);\n",
      "print (\"(iii) Work ratio  = %.3f\")% (W_ratio)\n",
      "\n",
      "\n",
      "print (\"(iv) Thermal efficiency of the unit\")\n",
      "Qs = cpg*(T3-T2a);\n",
      "n_thermal = W_turbine/Qs*100;\n",
      "print (\"n_thermal  = %.3f\")% (n_thermal), (\"%\")\n"
     ],
     "language": "python",
     "metadata": {},
     "outputs": [
      {
       "output_type": "stream",
       "stream": "stdout",
       "text": [
        "(i) Pressure and temperature of the gases entering the power turbine   \n",
        "Temperature of gases entering the power turbine  = 654.751 K\n",
        "Pressure of gases entering the power turbine  = 1.640 bar\n",
        "(ii) Net power developed per kg/s mass flow\n",
        " Net power developed per kg/s mass flow  = 72.519 kW\n",
        "(iii) Work ratio  = 0.216\n",
        "(iv) Thermal efficiency of the unit\n",
        "n_thermal  = 18.890 %\n"
       ]
      }
     ],
     "prompt_number": 18
    },
    {
     "cell_type": "heading",
     "level": 3,
     "metadata": {},
     "source": [
      "Example 13.46 page no : 696"
     ]
    },
    {
     "cell_type": "code",
     "collapsed": false,
     "input": [
      "# Variables\n",
      "T1 = 288.; \t\t\t#K\n",
      "rp = 4.; \t\t\t#rp = p2/p1 = p3/p4\n",
      "n_compressor = 0.82;\n",
      "e = 0.78; \t\t\t#Effectiveness of the heat exchanger\n",
      "n_turbine = 0.70;\n",
      "T3 = 873.; \t\t\t#K\n",
      "y = 1.4;\n",
      "R = 0.287;\n",
      "\n",
      "# Calculations\n",
      "T2 = T1*(rp)**((y-1)/y);\n",
      "T2a = (T2-T1)/n_compressor + T1;\n",
      "T4 = T3/rp**((y-1)/y);\n",
      "T4a = T3-n_turbine*(T3-T4);\n",
      "\n",
      "cp = R*y/(y-1);\n",
      "W_compressor = cp*(T2a-T1);\n",
      "W_turbine = cp*(T3-T4a);\n",
      "W_net = W_turbine-W_compressor;\n",
      "\n",
      "T5 = e*(T4a-T2a) + T2a;\n",
      "Qs = cp*(T3-T5);\n",
      "\n",
      "n_cycle = W_net/Qs*100;\n",
      "\n",
      "# Results\n",
      "print (\"Efficiency  = %.3f\")% (n_cycle), (\"%\")\n"
     ],
     "language": "python",
     "metadata": {},
     "outputs": [
      {
       "output_type": "stream",
       "stream": "stdout",
       "text": [
        "Efficiency  = 11.808 %\n"
       ]
      }
     ],
     "prompt_number": 50
    },
    {
     "cell_type": "heading",
     "level": 3,
     "metadata": {},
     "source": [
      "Example 13.47 page no : 698"
     ]
    },
    {
     "cell_type": "code",
     "collapsed": false,
     "input": [
      "# Variables\n",
      "p2 = 4.; \t\t\t#bar\n",
      "p1 = 1.; \t\t\t#bar\n",
      "T1 = 293.;\n",
      "n_compressor = 0.8;\n",
      "n_turbine = 0.85;\n",
      "ratio = 90.; \t\t\t#Air Fuel ratio\n",
      "C = 41800.; \t\t\t#kJ/kg\n",
      "cp = 1.024;\n",
      "p4 = 1.01; \t\t\t#bar\n",
      "p3 = 3.9; \t\t\t#bar\n",
      "y = 1.4;\n",
      "e = 0.72; \t\t\t#thermal ratio\n",
      "\n",
      "# Calculations and Results\n",
      "T2 = T1*(p2/p1)**((y-1)/y);\n",
      "T2a = (T2-T1)/n_compressor + T1;\n",
      "T3 = C/cp/(ratio+1)+471;\n",
      "T4 = T3*(p4/p3)**((y-1)/y);\n",
      "T4a = T3-n_turbine*(T3-T4);\n",
      "n_thermal1 = ((T3-T4a)-(T2a-T1))/(T3-T2a)*100;\n",
      "\n",
      "print (\"Thermal efficiency of simple cycle = %.3f\")% (n_thermal1), (\"%\")\n",
      "\n",
      "\n",
      "T2a = 471.; \t\t\t# K (as for simple cycle)\n",
      "T3 = 919.5; \t\t\t# K (as for simple cycle)\n",
      "p3 = 4.04-0.14-0.05; \t\t\t#bar\n",
      "p4 = 1.01+0.05; \t\t\t#bar\n",
      "\n",
      "T4 = T3*(p4/p3)**((y-1)/y);\n",
      "T4a = T3-n_turbine*(T3-T4);\n",
      "T5 = e*(T4a-T2a) + T2a;\n",
      "n_thermal2 = ((T3-T4a) - (T2a-T1))/(T3-T5)*100;\n",
      "\n",
      "print (\"Thermal efficiency of heat exchanger cycle  = %.3f\")%(n_thermal2), (\"%\")\n",
      "\n",
      "dn = n_thermal2-n_thermal1;\n",
      "print (\"Increase in thermal efficiency  = %.3f\")% (dn), (\"%\")\n"
     ],
     "language": "python",
     "metadata": {},
     "outputs": [
      {
       "output_type": "stream",
       "stream": "stdout",
       "text": [
        "Thermal efficiency of simple cycle = 16.120 %\n",
        "Thermal efficiency of heat exchanger cycle  = 21.038 %\n",
        "Increase in thermal efficiency  = 4.918 %\n"
       ]
      }
     ],
     "prompt_number": 51
    },
    {
     "cell_type": "heading",
     "level": 3,
     "metadata": {},
     "source": [
      "Example 13.48 page no : 700"
     ]
    },
    {
     "cell_type": "code",
     "collapsed": false,
     "input": [
      "# Variables\n",
      "T1 = 293.; \t\t\t#K\n",
      "T6 = 898.; \t\t\t#K\n",
      "T8 = T6;\n",
      "n_c = 0.8; \t\t\t#Efficiency of each compressor stage\n",
      "n_t = 0.85; \t\t\t#Efficiency of each turbine stage\n",
      "n_mech = 0.95;\n",
      "e = 0.8;\n",
      "cpa = 1.005; \t\t\t#kJ/kg K\n",
      "cpg = 1.15; \t\t\t#kJ/kg K\n",
      "y1 = 1.4;\n",
      "y2 = 1.333;\n",
      "\n",
      "# Calculations and Results\n",
      "print (\"(i) Thermal efficiency\")\n",
      "T3 = T1;\n",
      "\n",
      "# p2/p1 = math.sqrt(9) = 3\n",
      "T2 = T1*(3)**((y1-1)/y1);\n",
      "T2a = (T2-T1)/n_c + T1;\n",
      "T4a = T2a;\n",
      "W_c = cpa*(T2a-T1); \t\t\t#Work input per compressor stage\n",
      "W_t = 2*W_c/n_mech; \t\t\t#Work output of H.P. turbine\n",
      "T7a = T6-W_t/cpg;\n",
      "T7 = T6-(T6-T7a)/n_t;\n",
      "\n",
      "T9 = T8/(1.86)**((y2-1)/y2);\n",
      "T9a = T8-n_t*(T8-T9);\n",
      "\n",
      "W = cpg*(T8-T9a)*n_mech; \t\t\t#Net work output\n",
      "T5 = e*(T9a-T4a)+T4a;\n",
      "\n",
      "Q = cpg*(T6-T5)+cpg*(T8-T7a); \t\t\t#Heat supplied\n",
      "n_thermal = W/Q*100;\n",
      "\n",
      "print (\"n_thermal  = %.3f\")% (n_thermal), (\"%\")\n",
      "\n",
      "print (\"(ii) Work ratio\")\n",
      "Gross_work = W_t+W/n_mech;\n",
      "W_ratio = W/Gross_work;\n",
      "print (\"Work ratio = %.3f\")% (W_ratio)\n",
      "\n",
      "m = 4500./W;\n",
      "print (\"(iii) Mass flow rate  = %.3f\")%(m), (\"kg/s\")\n",
      "\n",
      "# Note : answers are different because of rounding error.\n"
     ],
     "language": "python",
     "metadata": {},
     "outputs": [
      {
       "output_type": "stream",
       "stream": "stdout",
       "text": [
        "(i) Thermal efficiency\n",
        "n_thermal  = 24.209 %\n",
        "(ii) Work ratio\n",
        "Work ratio = 0.291\n",
        "(iii) Mass flow rate  = 37.576 kg/s\n"
       ]
      }
     ],
     "prompt_number": 14
    },
    {
     "cell_type": "heading",
     "level": 3,
     "metadata": {},
     "source": [
      "Example 13.49 page no : 704"
     ]
    },
    {
     "cell_type": "code",
     "collapsed": false,
     "input": [
      "import math \n",
      "\n",
      "# Variables\n",
      "T1 = 293.; \t\t\t#K\n",
      "T5 = 1023.; \t\t#K\n",
      "T7 = T5;\n",
      "p1 = 1.5; \t\t\t#bar\n",
      "p2 = 6.; \t\t\t#bar\n",
      "n_c = 0.82;\n",
      "n_t = 0.82;\n",
      "e = 0.70;\n",
      "P = 350.; \t\t\t#kW\n",
      "cp = 1.005; \t\t#kJ/kg K\n",
      "y = 1.4;\n",
      "\n",
      "# Calculations\n",
      "T3 = T1;\n",
      "px = math.sqrt(p1*p2);\n",
      "T2 = T1*(px/p1)**((y-1)/y);\n",
      "T2a = T1+(T2-T1)/n_c;\n",
      "T4a = T2a;\n",
      "p5 = p2;\n",
      "T6 = T5/(p5/px)**((y-1)/y);\n",
      "T6a = T5-n_t*(T5-T6);\n",
      "T8a = T6a;\n",
      "Ta = T4a+e*(T8a-T4a);\n",
      "W_net = 2*cp*((T5-T6a)-(T2a-T1));\n",
      "Q1 = cp*(T5-T4a)+cp*(T7-T6a); \t\t\t#Without regenerator\n",
      "Q2 = cp*(T5-Ta)+cp*(T7-T6a);\n",
      "\n",
      "# Results\n",
      "n1 = W_net/Q1*100;\n",
      "print (\"n_thermal without regenerator  = %.3f\")%(n1), (\"%\")\n",
      "\n",
      "n2 = W_net/Q2*100;\n",
      "print (\"n_thermal woth regenerator  = %.3f\")% (n2), (\"%\")\n",
      "\n",
      "m = P/W_net;\n",
      "print (\"(iii) Mass of fluid circulated  = %.3f\")% (m), (\"kg/s\")\n"
     ],
     "language": "python",
     "metadata": {},
     "outputs": [
      {
       "output_type": "stream",
       "stream": "stdout",
       "text": [
        "n_thermal without regenerator  = 18.059 %\n",
        "n_thermal woth regenerator  = 32.079 %\n",
        "(iii) Mass of fluid circulated  = 2.403 kg/s\n"
       ]
      }
     ],
     "prompt_number": 53
    }
   ],
   "metadata": {}
  }
 ]
}