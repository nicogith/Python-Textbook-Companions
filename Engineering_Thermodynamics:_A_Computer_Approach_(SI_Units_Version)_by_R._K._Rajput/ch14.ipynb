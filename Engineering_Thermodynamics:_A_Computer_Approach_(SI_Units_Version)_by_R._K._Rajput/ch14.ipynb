{
 "metadata": {
  "name": ""
 },
 "nbformat": 3,
 "nbformat_minor": 0,
 "worksheets": [
  {
   "cells": [
    {
     "cell_type": "heading",
     "level": 1,
     "metadata": {},
     "source": [
      "Chapter 14 : Refrigeration Cycles"
     ]
    },
    {
     "cell_type": "heading",
     "level": 3,
     "metadata": {},
     "source": [
      "Example 14.1 page no : 717"
     ]
    },
    {
     "cell_type": "code",
     "collapsed": false,
     "input": [
      "# Variables\n",
      "T2 = 235; \t\t\t#K\n",
      "P = 1.3; \t\t\t#kW\n",
      "\n",
      "# Calculations and Results\n",
      "COP = 14000./P/60./60.;\n",
      "print (\"(i) C.O.P. of Carnot refrigerator  = %.3f\")% (COP)\n",
      "\n",
      "T1 = T2/COP + T2;\n",
      "t1 = T1-273;\n",
      "print (\"(ii) Higher temperature of the cycle  = %.3f\")% (t1), (\"0C\")\n",
      "\n",
      "print (\"(iii) Heat delivered as heat pump\")\n",
      "Qabs = 14000./60; \t\t\t#Heat absorbed\n",
      "W = P*60;\n",
      "Q = Qabs+W;\n",
      "print (\"Q = %.3f\")% (Q), (\"kJ/min\")\n",
      "\n",
      "COP = Q/W;\n",
      "print (\"COP of heat pump  = %.3f\")% (COP)\n"
     ],
     "language": "python",
     "metadata": {},
     "outputs": [
      {
       "output_type": "stream",
       "stream": "stdout",
       "text": [
        "(i) C.O.P. of Carnot refrigerator  = 2.991\n",
        "(ii) Higher temperature of the cycle  = 40.557 0C\n",
        "(iii) Heat delivered as heat pump\n",
        "Q = 311.333 kJ/min\n",
        "COP of heat pump  = 3.991\n"
       ]
      }
     ],
     "prompt_number": 1
    },
    {
     "cell_type": "heading",
     "level": 3,
     "metadata": {},
     "source": [
      "Example 14.2 page no : 718"
     ]
    },
    {
     "cell_type": "code",
     "collapsed": false,
     "input": [
      "# Variables\n",
      "T1 = 308.; \t\t    \t    #K\n",
      "T2 = 258.; \t\t\t        #K\n",
      "capacity = 12.; \t\t\t#tonne\n",
      "\n",
      "# Calculations and Results\n",
      "COP = T2/(T1-T2);\n",
      "print (\"(i) Co-efficient of performance  = \"), (COP)\n",
      "\n",
      "\n",
      "print (\"(ii) Heat rejected from the system per hour\")\n",
      "W = capacity*14000./5.16;\n",
      "Q = capacity*14000.+W;\n",
      "print (\"Q = %.3f\")% (Q), (\"kJ/h\")\n",
      "\n",
      "P = W/60./60.;\n",
      "print (\"(iii) Power required  = %.3f\")% (P),(\"kW\")\n"
     ],
     "language": "python",
     "metadata": {},
     "outputs": [
      {
       "output_type": "stream",
       "stream": "stdout",
       "text": [
        "(i) Co-efficient of performance  =  5.16\n",
        "(ii) Heat rejected from the system per hour\n",
        "Q = 200558.140 kJ/h\n",
        "(iii) Power required  = 9.044 kW\n"
       ]
      }
     ],
     "prompt_number": 2
    },
    {
     "cell_type": "heading",
     "level": 3,
     "metadata": {},
     "source": [
      "Example 14.3 page no : 718"
     ]
    },
    {
     "cell_type": "code",
     "collapsed": false,
     "input": [
      "# Variables\n",
      "T2 = 268.; \t\t\t#K\n",
      "T1 = 308.; \t\t\t#K\n",
      "Q = 29.; \t\t\t#Heat leakage from the surroundings into the cold storage in kW\n",
      "\n",
      "# Calculations\n",
      "COP_ideal = T2/(T1-T2);\n",
      "COP_actual = 1./3*COP_ideal;\n",
      "W = Q/COP_actual;\n",
      "\n",
      "# Results\n",
      "print (\"Power required  = %.3f\")%(W), (\"kW\")\n"
     ],
     "language": "python",
     "metadata": {},
     "outputs": [
      {
       "output_type": "stream",
       "stream": "stdout",
       "text": [
        "Power required  = 12.985 kW\n"
       ]
      }
     ],
     "prompt_number": 4
    },
    {
     "cell_type": "heading",
     "level": 3,
     "metadata": {},
     "source": [
      "Example 14.4 page no : 719"
     ]
    },
    {
     "cell_type": "code",
     "collapsed": false,
     "input": [
      "# Variables\n",
      "T1 = 293.; \t\t\t#K\n",
      "T2 = 265.; \t\t\t#K\n",
      "T0 = 273.; \t\t\t#K\n",
      "L = 335.; \t\t\t#Latent heat of ice in kJ/kg\n",
      "cpw = 4.18;\n",
      "\n",
      "# Calculations\n",
      "COP = T2/(T1-T2);\n",
      "Rn = cpw*(T1-T0)+L;\n",
      "m_ice = COP*3600./Rn;\n",
      "\n",
      "# Results\n",
      "print (\"ice formed per kWh  = %.3f\")% (m_ice), (\"kg\")\n"
     ],
     "language": "python",
     "metadata": {},
     "outputs": [
      {
       "output_type": "stream",
       "stream": "stdout",
       "text": [
        "ice formed per kWh  = 81.394 kg\n"
       ]
      }
     ],
     "prompt_number": 5
    },
    {
     "cell_type": "heading",
     "level": 3,
     "metadata": {},
     "source": [
      "Example 14.5 page no : 719"
     ]
    },
    {
     "cell_type": "code",
     "collapsed": false,
     "input": [
      "# Variables\n",
      "T1 = 291.; \t\t\t#K\n",
      "T2 = 265.; \t\t\t#K\n",
      "T0 = 273.; \t\t\t#K\n",
      "cpw = 4.18; \t\t#kJ/kg\n",
      "cpi = 2.09; \t\t#kJ/kg\n",
      "L = 334.; \t\t\t#kJ/kg\n",
      "m = 400.; \t\t\t#kg\n",
      "\n",
      "# Calculations\n",
      "COP = T2/(T1-T2);\n",
      "Rn = cpw*(T1-T0) + L + cpi*(T0-T2);\n",
      "W = Rn*m/COP/3600; \t\t\t#kJ/s\n",
      "\n",
      "# Results\n",
      "print (\"Least power  = %.3f\")% (W), (\"kW\")\n"
     ],
     "language": "python",
     "metadata": {},
     "outputs": [
      {
       "output_type": "stream",
       "stream": "stdout",
       "text": [
        "Least power  = 4.644 kW\n"
       ]
      }
     ],
     "prompt_number": 6
    },
    {
     "cell_type": "heading",
     "level": 3,
     "metadata": {},
     "source": [
      "Example 14.6 page no : 720"
     ]
    },
    {
     "cell_type": "code",
     "collapsed": false,
     "input": [
      "# Variables\n",
      "cpw = 4.18; \t\t\t#kJ/kg\n",
      "\n",
      "print (\"(i) Quantity of ice produced\")\n",
      "t = 20.; \t\t\t#0C\n",
      "L = 335.; \t\t\t#kJ/kg\n",
      "capacity = 280.; \t#tonnes\n",
      "\n",
      "# Calculations and Results\n",
      "Q1 = cpw*t + L; \t\t\t#Heat to be extracted per kg of water (to form ice at 0\u00b0C)\n",
      "Rn = capacity*14000; \t\t#kJ/h\n",
      "m_ice = Rn*24./Q1/1000;\n",
      "\n",
      "print (\"Quantity of ice produced in 24 hours  = %.3f\")% (m_ice), (\"tonnes\")\n",
      "\n",
      "print (\"(ii) Minimum power required  = \"),\n",
      "T1 = 298.; \t\t\t#K\n",
      "T2 = 263.; \t\t\t#K\n",
      "\n",
      "COP = T2/(T1-T2);\n",
      "W = Rn/COP/3600.; \t\t\t#kJ/s\n",
      "print (\"Power required  = %.3f\")% (W), (\"kW\")\n"
     ],
     "language": "python",
     "metadata": {},
     "outputs": [
      {
       "output_type": "stream",
       "stream": "stdout",
       "text": [
        "(i) Quantity of ice produced\n",
        "Quantity of ice produced in 24 hours  = 224.749 tonnes\n",
        "(ii) Minimum power required  =  Power required  = 144.909 kW\n"
       ]
      }
     ],
     "prompt_number": 8
    },
    {
     "cell_type": "heading",
     "level": 3,
     "metadata": {},
     "source": [
      "Example 14.7 page no : 720"
     ]
    },
    {
     "cell_type": "code",
     "collapsed": false,
     "input": [
      "# Variables\n",
      "cp1 = 1.25; \t\t\t#kJ/kg 0C\n",
      "cp2 = 2.93; \t\t\t#kJ/kg 0C\n",
      "L = 232.     \t\t\t#kJ/kg\n",
      "T1 = -3. \t    \t\t#0C\n",
      "T2 = -8. \t\t    \t#0C\n",
      "T3 = 25. \t\t\t    #0C\n",
      "\n",
      "\n",
      "# Calculations and Results\n",
      "Q1 = cp2*(T3-T1) + L + cp1*(T1-T2); \t\t\t#Heat removed in 8 hours from each kg of fish\n",
      "Q = Q1*20*1000./8                    \t\t\t#Heat removed by the plant /min\n",
      "\n",
      "capacity = Q/14000.; \t\t\t#tonnes\n",
      "print (\"(i) Capacity of the refrigerating plant  = %.3f\")% (capacity), (\"tonnes\")\n",
      "\n",
      "print (\"(ii) Carnot cycle C.O.P. between this temperature range.\")\n",
      "T1 = 298.; \t\t\t#K\n",
      "T2 = 265.; \t\t\t#K\n",
      "\n",
      "COP = T2/(T1-T2);\n",
      "print (\"COP of reversed carnot cycle  = %.3f\")% (COP)\n",
      "\n",
      "\n",
      "print (\"(iii) Power required\")\n",
      "COP_actual = 1./3*COP;\n",
      "W = Q/COP_actual/3600; \t\t\t#kJ/s\n",
      "\n",
      "print (\"Power  = %.3f\")% (W), (\"kW\")\n"
     ],
     "language": "python",
     "metadata": {},
     "outputs": [
      {
       "output_type": "stream",
       "stream": "stdout",
       "text": [
        "(i) Capacity of the refrigerating plant  = 57.195 tonnes\n",
        "(ii) Carnot cycle C.O.P. between this temperature range.\n",
        "COP of reversed carnot cycle  = 8.030\n",
        "(iii) Power required\n",
        "Power  = 83.094 kW\n"
       ]
      }
     ],
     "prompt_number": 9
    },
    {
     "cell_type": "heading",
     "level": 3,
     "metadata": {},
     "source": [
      "Example 14.8 page no : 721"
     ]
    },
    {
     "cell_type": "code",
     "collapsed": false,
     "input": [
      "# Variables\n",
      "T1 = 1273.; \t\t#K\n",
      "T2 = 298.; \t\t\t#K\n",
      "T3 = 268.; \t\t\t#K\n",
      "T4 = 298.; \t\t\t#K\n",
      "\n",
      "# Calculations\n",
      "#Let Q2/Q1 = r1, r2 = Q3/Q4;\n",
      "r1 = 298./1273; \t\t#Q2/Q1\n",
      "r2 = 268./298; \t\t\t#Q3/Q4\n",
      "\n",
      "#Let Q4/Q1 = r\n",
      "r = (1.-r1)/(1-r2);\n",
      "\n",
      "# Results\n",
      "print (\"The ratio in which the heat pump and heat engine share the heating load  = %.3f\")% (r)\n"
     ],
     "language": "python",
     "metadata": {},
     "outputs": [
      {
       "output_type": "stream",
       "stream": "stdout",
       "text": [
        "The ratio in which the heat pump and heat engine share the heating load  = 7.608\n"
       ]
      }
     ],
     "prompt_number": 10
    },
    {
     "cell_type": "heading",
     "level": 3,
     "metadata": {},
     "source": [
      "Example 14.9 page no : 724"
     ]
    },
    {
     "cell_type": "code",
     "collapsed": false,
     "input": [
      "# Variables\n",
      "y = 1.4;\n",
      "n = 1.35;\n",
      "cp = 1.003; \t\t#kJ/kg K\n",
      "p2 = 1.; \t\t\t#bar\n",
      "p1 = 8.; \t\t\t#bar\n",
      "T3 = 282.; \t\t\t#K\n",
      "T4 = 302.; \t\t\t#K\n",
      "T1 = T4;\n",
      "\n",
      "# Calculations\n",
      "T4 = T3*(p1/p2)**((n-1)/n);\n",
      "T2 = T1*(p2/p1)**((n-1)/n);\n",
      "Q1 = cp*(T3-T2); \t\t\t#Heat extracted from cold chamber per kg of air\n",
      "Q2 = cp*(T4-T1); \t\t\t#Heat rejected in the cooling chamber per kg of air\n",
      "cv = cp/y;\n",
      "R = cp-cv;\n",
      "W = n/(n-1)*R*((T4-T3) - (T1-T2));\n",
      "COP = Q1/W;\n",
      "\n",
      "# Results\n",
      "print (\"COP = %.3f\")% (COP)\n"
     ],
     "language": "python",
     "metadata": {},
     "outputs": [
      {
       "output_type": "stream",
       "stream": "stdout",
       "text": [
        "COP = 1.270\n"
       ]
      }
     ],
     "prompt_number": 11
    },
    {
     "cell_type": "heading",
     "level": 3,
     "metadata": {},
     "source": [
      "Example 14.10 page no : 726"
     ]
    },
    {
     "cell_type": "code",
     "collapsed": false,
     "input": [
      "# Variables\n",
      "p1 = 1000.; \t\t\t#kPa\n",
      "p2 = 100.    \t\t\t#kPa\n",
      "p4 = p1;\n",
      "p3 = p2;\n",
      "E = 2000.    \t\t\t# Refrigerating effect produced in kJ/min \n",
      "T3 = 268.; \t    \t\t#K\n",
      "T1 = 303.; \t\t    \t#K\n",
      "y = 1.4;\n",
      "\n",
      "# Calculations and Results\n",
      "print (\"(i) Mass of air circulated per minute\")\n",
      "T2 = T1*(p2/p1)**((y-1)/y);\n",
      "e = cp*(T3-T2); \t\t\t#Refrigerating effect per kg; kJ/kg\n",
      "\n",
      "m = E/e;\n",
      "print (\"m = %.3f\")% (m), (\"kg/min\")\n",
      "\n",
      "\n",
      "print (\"(ii) Compressor work (Wcomp.), expander work (Wexp.) and cycle work (Wcycle)\")\n",
      "T4 = T3*(p4/p3)**((y-1)/y);\n",
      "\n",
      "Wcomp = y/(y-1)*m*R*(T4-T3);\n",
      "print (\"Compressor work  = %.3f\")% (Wcomp), (\"kJ/min\")\n",
      "\n",
      "Wexp = y/(y-1)*m*R*(T1-T2);\n",
      "print (\"Expander work  = %.3f\")% (Wexp), (\"kJ/min\")\n",
      "\n",
      "W_cycle = Wcomp-Wexp;\n",
      "print (\"Wcycle = %.3f\")% (W_cycle), (\"kJ/min\")\n",
      "\n",
      "\n",
      "print (\"(iii) C.O.P. and power required\")\n",
      "COP = E/W_cycle;\n",
      "print (\"COP  = %.3f\")% (COP)\n",
      "\n",
      "P = W_cycle/60;\n",
      "print (\"Power required  = %.3f\")% (P), (\"kW\")\n"
     ],
     "language": "python",
     "metadata": {},
     "outputs": [
      {
       "output_type": "stream",
       "stream": "stdout",
       "text": [
        "(i) Mass of air circulated per minute\n",
        "m = 17.954 kg/min\n",
        "(ii) Compressor work (Wcomp.), expander work (Wexp.) and cycle work (Wcycle)\n",
        "Compressor work  = 4491.675 kJ/min\n",
        "Expander work  = 2630.279 kJ/min\n",
        "Wcycle = 1861.395 kJ/min\n",
        "(iii) C.O.P. and power required\n",
        "COP  = 1.074\n",
        "Power required  = 31.023 kW\n"
       ]
      }
     ],
     "prompt_number": 12
    },
    {
     "cell_type": "heading",
     "level": 3,
     "metadata": {},
     "source": [
      "Example 14.11 page no : 727"
     ]
    },
    {
     "cell_type": "code",
     "collapsed": false,
     "input": [
      "import math\n",
      "\n",
      "# Variables\n",
      "y = 1.4;\n",
      "cp = 1.003; \t\t#kJ/kg K\n",
      "T3 = 289.; \t\t\t#K\n",
      "T1 = 314.; \t\t\t#K\n",
      "p1 = 5.2; \t\t\t#bar\n",
      "p2 = 1.; \t\t\t#bar\n",
      "capacity = 6.; \t\t#tonnes\n",
      "R = 287.; \t\t\t#J/kg K\n",
      "l = 0.2; \t\t\t#m\n",
      "\n",
      "# Calculations and Results\n",
      "T4 = T3*(p1/p2)**((y-1)/y);\n",
      "T2 = T1*(p2/p1)**((y-1)/y);\n",
      "\n",
      "COP = T2/(T1-T2);\n",
      "print (\"(i) C.O.P.  = %.3f\")%(COP)\n",
      "\n",
      "e = cp*(T3-T2); \t\t\t#Refrigerating effect per kg of air\n",
      "E = capacity*14000; \t\t#Refrigerating effect produced by the refrigerating machine in kJ/h\n",
      "\n",
      "m = E/e/60;\n",
      "print (\"(ii)mass of air in circulation  = %.3f\")%(m),(\"kg/min\")\n",
      "\n",
      "\n",
      "V3 = m*R*T3/p2/10**5;\n",
      "print (\"(iii)Piston displacement of compressor\"),(\" = %.2f\")%(V3),(\"m^3/min\")\n",
      "\n",
      "V_swept = V3/2/240;\n",
      "\n",
      "\n",
      "V2 = m*R*T2/p2/10**5;\n",
      "V_swept = V2/2/240;\n",
      "print (\"Piston displacement of expander\"),(\" = %.3f\")%(V2),(\"m^3/min\")\n",
      "\n",
      "d_c = math.sqrt(V_swept/l/math.pi*4);\n",
      "print (\"(iv)Diameter or bore of the expander cylinder  = %.0f\")%(d_c*1000), (\"mm\")\n",
      "\n",
      "d_c = math.sqrt(V_swept/l/math.pi*4);\n",
      "print (\"Diameter or bore of the compressor cylinder  = %.0f\")%(d_c*1000),(\"mm\")\n",
      "\n",
      "W = capacity*14000/COP/3600;\n",
      "print (\"(v) Power required to drive the unit\"),(\" = %.3f\")%(W),(\"kW\")\n",
      "\n",
      "# Answers are slightly different because of rounding error."
     ],
     "language": "python",
     "metadata": {},
     "outputs": [
      {
       "output_type": "stream",
       "stream": "stdout",
       "text": [
        "(i) C.O.P.  = 1.662\n",
        "(ii)mass of air in circulation  = 15.016 kg/min\n",
        "(iii)Piston displacement of compressor  = 12.45 m^3/min\n",
        "Piston displacement of expander  = 8.449 m^3/min\n",
        "(iv)Diameter or bore of the expander cylinder  = 335 mm\n",
        "Diameter or bore of the compressor cylinder  = 335 mm\n",
        "(v) Power required to drive the unit  = 14.039 kW\n"
       ]
      }
     ],
     "prompt_number": 7
    },
    {
     "cell_type": "heading",
     "level": 3,
     "metadata": {},
     "source": [
      "Example 14.12 page no : 744"
     ]
    },
    {
     "cell_type": "code",
     "collapsed": false,
     "input": [
      "# Variables\n",
      "m = 6.; \t\t\t#kg/min\n",
      "n_relative = 0.50; \n",
      "cpw = 4.187; \t\t\t#kJ/kg K\n",
      "L = 335.; \t\t\t#kJ/kg\n",
      "\n",
      "h_f2 = 31.4; \t\t\t#kJ/kg\n",
      "h_fg2 = 154.; \t\t\t#kJ/kg\n",
      "h_f3 = 59.7; \t\t\t#kJ/kg\n",
      "h_fg3 = 138.; \t\t\t#kJ/kg\n",
      "h_f4 = 59.7; \t\t\t#kJ/kg\n",
      "x2 = 0.6;\n",
      "s_f3 = 0.2232; \t\t\t#kJ/kg K\n",
      "s_f2 = 0.1251; \t\t\t#kJ/kg K\n",
      "T2 = 268.; \t\t\t#K\n",
      "T3 = 298.; \t\t\t#K\n",
      "\n",
      "# Calculations\n",
      "h2 = h_f2+x2*h_fg2;\n",
      "x3 = ((s_f2-s_f3)+x2*(h_fg2/T2))*T3/h_fg3;\n",
      "h3 = h_f3+x3*h_fg3;\n",
      "h1 = h_f4;\n",
      "COP_th = (h2-h1)/(h3-h2); \t\t\t#Theoritical COP\n",
      "COP = n_relative*COP_th;\n",
      "Q = cpw*(20-0) + L; \t\t\t#Heat extracted from 1 kg of water at 20\u00b0C for the formation of 1 kg of ice at 0\u00b0C\n",
      "m_ice = COP*m*(h3-h2)/Q*60*24/1000; \t\t\t#in 24 hours\n",
      "\n",
      "# Results\n",
      "print (\"m_ice = %.3f\")%(m_ice), (\"tonnes\")\n"
     ],
     "language": "python",
     "metadata": {},
     "outputs": [
      {
       "output_type": "stream",
       "stream": "stdout",
       "text": [
        "m_ice = 0.661 tonnes\n"
       ]
      }
     ],
     "prompt_number": 14
    },
    {
     "cell_type": "heading",
     "level": 3,
     "metadata": {},
     "source": [
      "Example 14.13 page no : 745"
     ]
    },
    {
     "cell_type": "code",
     "collapsed": false,
     "input": [
      "# Variables\n",
      "L = 335.; \t\t\t    #kJ/kg\n",
      "h3 = 1319.22; \t\t\t#kJ/kg\n",
      "h1 = 100.04; \t\t\t#kJ/kg\n",
      "h4 = h1;\n",
      "s_f2 = -2.1338; \t\t#kJ/kg K\n",
      "s_g2 = 5.0585; \t\t\t#kJ/kg K\n",
      "s_g3 = 4.4852; \t\t\t#kJ/kg K\n",
      "h_f2 = -54.56; \t\t\t#kJ/kg\n",
      "h_g2 = 1304.99; \t\t#kJ/kg\n",
      "\n",
      "# Calculations\n",
      "x2 = (s_g3-s_f2)/(s_g2-s_f2);\n",
      "h2 = h_f2+x2*(h_g2-h_f2);\n",
      "COP_theoritical = (h2-h1)/(h3-h2);\n",
      "COP_actual = 0.62*COP_theoritical;\n",
      "RE = COP_actual*(h3-h2); \t\t\t#Actual refrigerating effect per kg\n",
      "Q = 28.*1000.*L/24./3600; \t\t\t#Heat to be extracted per second\n",
      "m = Q/RE; \t\t\t#Mass of refrigerant circulated per second\n",
      "W = m*(h3-h2);\n",
      "\n",
      "# Results\n",
      "print (\"Power required  = %.3f\")%(W), (\"kW\")\n"
     ],
     "language": "python",
     "metadata": {},
     "outputs": [
      {
       "output_type": "stream",
       "stream": "stdout",
       "text": [
        "Power required  = 19.577 kW\n"
       ]
      }
     ],
     "prompt_number": 15
    },
    {
     "cell_type": "heading",
     "level": 3,
     "metadata": {},
     "source": [
      "Example 14.14 page no : 747"
     ]
    },
    {
     "cell_type": "code",
     "collapsed": false,
     "input": [
      "# Variables\n",
      "h_f2 = 158.2; \t\t\t#kJ/kg\n",
      "x2 = 0.62;\n",
      "h_fg2 = 1280.8;\n",
      "h1 = 298.9; \t\t\t#kJ/kg\n",
      "h_f4 = h1;\n",
      "s_f2 = 0.630; \t\t\t#kJ/kg K\n",
      "T2 = 268.; \t\t\t    #K\n",
      "T3 = 298.; \t\t\t    #K\n",
      "s_f3 = 1.124; \t\t\t#kJ/kg K\n",
      "h_fg3 = 1167.1; \t\t#kJ/kg\n",
      "m = 6.4; \t\t\t    #kg/min\n",
      "cp = 4.187;\n",
      "L = 335.; \t\t\t    #kJ/kg\n",
      "h_f3 = 298.9; \t\t\t#kJ/kg\n",
      "\n",
      "# Calculations\n",
      "h2 = h_f2+x2*h_fg2;\n",
      "x3 = ((s_f2-s_f3)+x2*h_fg2/T2)/h_fg3*T3;\n",
      "h3 = h_f3+x3*h_fg3;\n",
      "COP_theoritical = (h2-h1)/(h3-h2);\n",
      "COP_actual = 0.55*COP_theoritical;\n",
      "W1 = 81.87 #h3-h2; \t\t\t#Work done per kg of refrigerant\n",
      "\n",
      "W = m*W1/60; \t\t\t#Work done per second kJ/s\n",
      "Q = round(15*cp+L,1);\n",
      "m_ice = W*3600.*24/Q;\n",
      "\n",
      "\n",
      "# Results\n",
      "print (\"Amount of ice formed in 24 hours  = %.3f\")% (m_ice), (\"kg\")\n",
      "\n",
      "# Note : Answer is slightly different because of rounding error."
     ],
     "language": "python",
     "metadata": {},
     "outputs": [
      {
       "output_type": "stream",
       "stream": "stdout",
       "text": [
        "Amount of ice formed in 24 hours  = 1896.717 kg\n"
       ]
      }
     ],
     "prompt_number": 14
    },
    {
     "cell_type": "heading",
     "level": 3,
     "metadata": {},
     "source": [
      "Example 14.15 page no : 748"
     ]
    },
    {
     "cell_type": "code",
     "collapsed": false,
     "input": [
      "# Variables\n",
      "RE = 5*14000./3600; \t#Total refrigeration produced in kg/s\n",
      "h2 = 183.19; \t\t\t#kJ/kg\n",
      "h3 = 209.41; \t\t\t#kJ/kg\n",
      "h4 = 74.59; \t\t\t#kJ/kg\n",
      "h1 = h4;\n",
      "\n",
      "# Calculations and Results\n",
      "RE_net = h2-h1; \t\t\t#Net refrigerating effect produced per kg\n",
      "m = RE/RE_net; \n",
      "print (\"(i) The refrigerant flow rate\"),(\" = %.3f\")% (m), (\"kg/s\")\n",
      "\n",
      "\n",
      "COP = (h2-h1)/(h3-h2);\n",
      "print (\"(ii) The C.O.P.  = %.3f\")% (COP)\n",
      "\n",
      "\n",
      "P = m*(h3-h2);\n",
      "print (\"(iii) The power required to drive the compressor  = %.3f\")%(P), (\"kW\")\n",
      "\n",
      "rate = m*(h3-h4);\n",
      "print (\"(iv) The rate of heat rejection to the condenser  = %.3f\")%(rate),(\"kW\")\n"
     ],
     "language": "python",
     "metadata": {},
     "outputs": [
      {
       "output_type": "stream",
       "stream": "stdout",
       "text": [
        "(i) The refrigerant flow rate  = 0.179 kg/s\n",
        "(ii) The C.O.P.  = 4.142\n",
        "(iii) The power required to drive the compressor  = 4.695 kW\n",
        "(iv) The rate of heat rejection to the condenser  = 24.139 kW\n"
       ]
      }
     ],
     "prompt_number": 12
    },
    {
     "cell_type": "heading",
     "level": 3,
     "metadata": {},
     "source": [
      "Example 14.16 page no : 749"
     ]
    },
    {
     "cell_type": "code",
     "collapsed": false,
     "input": [
      "print (\"(iii)\")\n",
      "\n",
      "# Variables\n",
      "h2 = 344.927; \t\t\t#kJ/kg\n",
      "h4 = 228.538; \t\t\t#kJ/kg\n",
      "h1 = h4;\n",
      "cpv = 0.611; \t\t\t#/kJ/kg0C\n",
      "# s2 = s3\n",
      "t3 = 39.995; \t\t\t#0C\n",
      "\n",
      "# Calculations\n",
      "h3 = 363.575+cpv*(t3-30);\n",
      "Rn = h2-h1;\n",
      "W = h3-h2;\n",
      "COP = Rn/W;\n",
      "\n",
      "# Results\n",
      "print (\"COP  = %.3f\")% (COP)\n",
      "\n",
      "cp = 2.0935; \t\t\t#kJ/kg 0C\n",
      "Q = 2400./24./3600*(4.187*(15-0)+335+cp*(0-(-5)))\n",
      "\n",
      "W = Q/COP;\n",
      "print (\"Work required  = %.3f\")% (W), (\"kW\")\n"
     ],
     "language": "python",
     "metadata": {},
     "outputs": [
      {
       "output_type": "stream",
       "stream": "stdout",
       "text": [
        "(iii)\n",
        "COP  = 4.702\n",
        "Work required  = 2.412 kW\n"
       ]
      }
     ],
     "prompt_number": 13
    },
    {
     "cell_type": "heading",
     "level": 3,
     "metadata": {},
     "source": [
      "Example 14.17 page no : 751"
     ]
    },
    {
     "cell_type": "code",
     "collapsed": false,
     "input": [
      "# Variables\n",
      "h2 = 352.; \t\t\t#kJ/kg\n",
      "h3 = 374.; \t\t\t#kJ/kg\n",
      "h4 = 221.; \t\t\t#kJ/kg\n",
      "h1 = h4;\n",
      "v2 = 0.08; \t\t\t#m**3/kg\n",
      "rpm = 500.;\n",
      "D = 0.2;\n",
      "L = 0.15;\n",
      "n_vol = 0.85;\n",
      "\n",
      "# Calculations\n",
      "RE = h2-h1;\n",
      "V = math.pi/4*D**2*L*rpm*2*n_vol;\n",
      "m = V/v2;\n",
      "\n",
      "# Results\n",
      "print (\"(ii)Mass of refrigerant circulated per minute  =  %.3f\")% (m), (\"kg/min\")\n",
      "\n",
      "cc = 50.*(h2-h1)*60./14000.;\n",
      "print (\"(iii) Cooling capacity in tonnes of refrigeration  = %.3f\")%(cc), (\"TR\")\n",
      "\n",
      "COP = (h2-h1)/(h3-h2);\n",
      "print (\"(iv)COP  = %.3f\")% (COP)\n"
     ],
     "language": "python",
     "metadata": {},
     "outputs": [
      {
       "output_type": "stream",
       "stream": "stdout",
       "text": [
        "(ii)Mass of refrigerant circulated per minute  =  50.069 kg/min\n",
        "(iii) Cooling capacity in tonnes of refrigeration  = 28.071 TR\n",
        "(iv)COP  = 5.955\n"
       ]
      }
     ],
     "prompt_number": 15
    },
    {
     "cell_type": "heading",
     "level": 3,
     "metadata": {},
     "source": [
      "Example 14.18 page no : 751"
     ]
    },
    {
     "cell_type": "code",
     "collapsed": false,
     "input": [
      "# Variables\n",
      "te = -10.; \t\t\t#0C\n",
      "tc = 40.; \t\t\t#0C\n",
      "h3 = 220.; \t\t\t#kJ/kg\n",
      "h2 = 183.1; \t\t\t#kJ/kg\n",
      "h1 = 74.53; \t\t\t#kJ/kg\n",
      "h_f4 = 26.85; \t\t\t#kJ/kg\n",
      "m = 1.;      \t\t\t#kg\n",
      "\n",
      "# Calculations and Results\n",
      "COP = (h2-h1)/(h3-h2);\n",
      "print (\"(i) The C.O.P. the cycle  = %.3f\")%(COP)\n",
      "\n",
      "RC = m*(h2-h1);\n",
      "print (\"(ii) Refrigerating capacity  = %.3f\")%(RC),(\"kJ/min\")\n",
      "\n",
      "CP = m*(h3-h2)/60;\n",
      "print (\"Compressor power  = %.3f\")% (CP), (\"kJ/s\")\n"
     ],
     "language": "python",
     "metadata": {},
     "outputs": [
      {
       "output_type": "stream",
       "stream": "stdout",
       "text": [
        "(i) The C.O.P. the cycle  = 2.942\n",
        "(ii) Refrigerating capacity  = 108.570 kJ/min\n",
        "Compressor power  = 0.615 kJ/s\n"
       ]
      }
     ],
     "prompt_number": 20
    },
    {
     "cell_type": "heading",
     "level": 3,
     "metadata": {},
     "source": [
      "Example 14.19 page no : 752"
     ]
    },
    {
     "cell_type": "code",
     "collapsed": false,
     "input": [
      "import math \n",
      "\n",
      "# Variables\n",
      "h2 = 178.61; \t\t\t#kJ/kg\n",
      "h3a = 203.05; \t\t\t#kJ/kg\n",
      "h_f4 = 74.53; \t\t\t#kJ/kg\n",
      "h1 = h_f4;\n",
      "s3a = 0.682; \t\t\t#kJ/kg K\n",
      "s2 = 0.7082; \t\t\t#kJ/kg K\n",
      "cp = 0.747; \t\t\t#kJ/kg K\n",
      "T3a = 313.; \t\t\t#K\n",
      "CE = 20.; \t\t\t    #Cooling effect\n",
      "C = 0.03;\n",
      "v_g = 0.1088;\n",
      "p_d = 9.607;\n",
      "p_s = 1.509;\n",
      "n = 1.13;\n",
      "\n",
      "# Calculations\n",
      "m = CE/(h2-h1);\n",
      "T3 = T3a*math.e**((s2-s3a)/cp)\n",
      "h3 = h3a+cp*(T3-T3a);\n",
      "P = m*(h3-h2);\n",
      "\n",
      "# Results\n",
      "print (\"Power required by the machine  = %.3f\")%(P), (\"kW\")\n",
      "\n",
      "n_vol = 1+C-C*(p_d/p_s)**(1./n); \t\t\t#Volumetric efficiency\n",
      "V1 = m*v_g; \t\t\t                    #volume of refrigerant at the intake conditions\n",
      "V_swept = V1/n_vol;\n",
      "\n",
      "V = V_swept*60./300;\n",
      "print (\"Piston print lacement  = %.5f\")% (V), (\"m**3\")\n"
     ],
     "language": "python",
     "metadata": {},
     "outputs": [
      {
       "output_type": "stream",
       "stream": "stdout",
       "text": [
        "Power required by the machine  = 6.300 kW\n",
        "Piston print lacement  = 0.00478 m**3\n"
       ]
      }
     ],
     "prompt_number": 16
    },
    {
     "cell_type": "heading",
     "level": 3,
     "metadata": {},
     "source": [
      "Example 14.20 page no : 754"
     ]
    },
    {
     "cell_type": "code",
     "collapsed": false,
     "input": [
      "import math \n",
      "\n",
      "# Variables\n",
      "h2 = 1450.22; \t\t\t#kJ/kg\n",
      "h3a = 1488.57; \t\t\t#kJ/kg\n",
      "h_f4 = 366.072; \t\t#kJ/kg\n",
      "cpl2 = 4.556; \t\t\t#kJ/kg K\n",
      "cpv1 = 2.492; \t\t\t#kJ/kg K\n",
      "cpv2 = 2.903; \t\t\t#kJ/kg K\n",
      "T1 = 303.; \t\t\t    #K\n",
      "T2 = 308.; \t\t\t    #K\n",
      "s3a = 5.2086; \t\t\t#kJ/kg K\n",
      "s2 = 5.755; \t\t\t#kJ/kg K\n",
      "T3a = 308.; \t\t\t#K\n",
      "N = 1000.;\n",
      "\n",
      "# Calculations\n",
      "h_f4a = h_f4-cpl2*(T2-T1);\n",
      "h1 = h_f4a;\n",
      "T3 = T3a*math.e**((s2-s3a)/cpv2);\n",
      "h3 = h3a+cpv2*(T3-T3a);\n",
      "m = 50./(h2-h1);\n",
      "\n",
      "# Results\n",
      "P = m*(h3-h2);\n",
      "print (\"(i) Power required  = %.3f\")%(P), (\"kW\")\n",
      "\n",
      "print (\"(ii) Cylinder dimensions \")\n",
      "D = (m*4*60/math.pi/1.2/N/0.417477)**(1./3);\n",
      "print (\"Diameter of cylinder  = %.3f\")% (D), (\"m\")\n",
      "\n",
      "L = 1.2*D;\n",
      "print (\"Length of the cylinder = %.3f\")% (L), (\"m\")\n"
     ],
     "language": "python",
     "metadata": {},
     "outputs": [
      {
       "output_type": "stream",
       "stream": "stdout",
       "text": [
        "(i) Power required  = 10.096 kW\n",
        "(ii) Cylinder dimensions \n",
        "Diameter of cylinder  = 0.190 m\n",
        "Length of the cylinder = 0.228 m\n"
       ]
      }
     ],
     "prompt_number": 22
    },
    {
     "cell_type": "heading",
     "level": 3,
     "metadata": {},
     "source": [
      "Example 14.21 page no : 756"
     ]
    },
    {
     "cell_type": "code",
     "collapsed": false,
     "input": [
      "# Variables\n",
      "cooling_load = 150.; #W\n",
      "n_vol = 0.8;\n",
      "N = 720.; \t\t\t#rpm\n",
      "h2 = 183.; \t\t\t#kJ/kg\n",
      "h1 = 74.5; \t\t\t#kJ/kg\n",
      "v2 = 0.08; \t\t\t#m**3/kg\n",
      "\n",
      "# Calculations\n",
      "m = cooling_load/(108.5*1000);\n",
      "d = m*v2/n_vol;\n",
      "\n",
      "# Results\n",
      "print (\"Mass flow rate of the refrigerant  = %.6f\")% (m),(\"kJ/s\")\n",
      "\n",
      "print (\"Displacement volume of the compressor  = %6f\")% (d), (\"m**3/s\")\n"
     ],
     "language": "python",
     "metadata": {},
     "outputs": [
      {
       "output_type": "stream",
       "stream": "stdout",
       "text": [
        "Mass flow rate of the refrigerant  = 0.001382 kJ/s\n",
        "Displacement volume of the compressor  = 0.000138 m**3/s\n"
       ]
      }
     ],
     "prompt_number": 18
    },
    {
     "cell_type": "heading",
     "level": 3,
     "metadata": {},
     "source": [
      "Example 14.22 page no : 757"
     ]
    },
    {
     "cell_type": "code",
     "collapsed": false,
     "input": [
      "# Variables\n",
      "h2 = 183.2; \t\t\t#kJ/kg\n",
      "h3 = 222.6; \t\t\t#kJ/kg\n",
      "h4 = 84.9    \t\t\t#kJ/kg\n",
      "v2 = 0.0767; \t\t\t#m**3/kg\n",
      "v3 = 0.0164; \t\t\t#m**3/kg\n",
      "v4 = 0.00083; \t\t\t#m**3/kg\n",
      "\n",
      "# Calculations\n",
      "V = 1.5*1000*10**(-6); \t\t\t#Piston print lacement volume m**3/revolution\n",
      "n_vol = 0.80;\n",
      "\n",
      "print (\"(i) Power rating of the compressor (kW)\")\n",
      "discharge = V*1600*n_vol; \t\t\t#Compressor discharge\n",
      "m = discharge/v2;\n",
      "\n",
      "P = m/60*(h3-h2); \t\t\t#kW\n",
      "print (\"Power  = %.3f\")% (P), (\"kW\")\n",
      "\n",
      "\n",
      "RE = m/60*(h2-h4);\n",
      "print (\"(ii) Refrigerating effect  = %.3f\")% (RE), (\"kW\")\n"
     ],
     "language": "python",
     "metadata": {},
     "outputs": [
      {
       "output_type": "stream",
       "stream": "stdout",
       "text": [
        "(i) Power rating of the compressor (kW)\n",
        "Power  = 16.438 kW\n",
        "(ii) Refrigerating effect  = 41.012 kW\n"
       ]
      }
     ],
     "prompt_number": 24
    },
    {
     "cell_type": "heading",
     "level": 3,
     "metadata": {},
     "source": [
      "Example 14.23 page no : 757"
     ]
    },
    {
     "cell_type": "code",
     "collapsed": false,
     "input": [
      "# Variables\n",
      "COP = 6.5;\n",
      "W = 50.; \t\t\t#kW\n",
      "h3a = 201.45; \t\t\t#kJ/kg\n",
      "h_f4 = 69.55; \t\t\t#kJ/kg\n",
      "h1 = h_f4;\n",
      "h2 = 187.53; \t\t\t#kJ/kg\n",
      "cp = 0.6155; \t\t\t#kJ/kg\n",
      "t3a = 35.; \t\t\t#0C\n",
      "\n",
      "# Calculations\n",
      "RC = W*COP; \t\t\t#Refrigerating capacity\n",
      "Q1 = h2-h_f4; \t\t\t#Heat extracted per kg of refrigerant\n",
      "rate = RC/Q1; \t\t\t#Refrigerant flow rate\n",
      "Q2 = W/rate; \t\t\t#Heat input per kg\n",
      "h = h2+Q2; \t\t\t#Enthalpy of vapour after compression\n",
      "Q = h-h3a; \t\t\t#Superheat\n",
      "\n",
      "t3 = Q/cp+t3a;\n",
      "\n",
      "# Results\n",
      "print (\"The refrigerant temperature = %.3f\")% (t3), (\"\u00b0C\")\n"
     ],
     "language": "python",
     "metadata": {},
     "outputs": [
      {
       "output_type": "stream",
       "stream": "stdout",
       "text": [
        "The refrigerant temperature = 41.874 \u00b0C\n"
       ]
      }
     ],
     "prompt_number": 19
    },
    {
     "cell_type": "heading",
     "level": 3,
     "metadata": {},
     "source": [
      "Example 14.24 page no : 758"
     ]
    },
    {
     "cell_type": "code",
     "collapsed": false,
     "input": [
      "import math\n",
      "\n",
      "# Variables\n",
      "Q1 = 500.; \t\t\t#total heating requirement of 500 kJ/min\n",
      "n_compressor = 0.8;\n",
      "s1 = 0.7035; \t\t\t#kJ/kg K\n",
      "s2 = 0.6799; \t\t\t#kJ/kg K\n",
      "T2 = 322.31; \t\t\t#K\n",
      "cp = 0.7; \t\t\t    #kJ/kg K\n",
      "h_v2 = 206.24; \t\t\t#kJ/kg\n",
      "h_l2 = 84.21; \t\t\t#kJ/kg\n",
      "h_v1 = 182.07 \t\t\t#kJ/kg\n",
      "\n",
      "# Calculations\n",
      "Q2 = Q1/n_compressor; \t\t\t#Heat rejected by the cycle\n",
      "\n",
      "#Entropy of dry saturated vapour at 2 bar =  Entropy of superheated vapour at 12 bar\n",
      "T = T2*math.e**((s1-s2)/cp);\n",
      "\n",
      "H = h_v2+cp*(T-T2); \t\t\t#Enthalpy of superheated vapour at 12 bar\n",
      "Q3 = H-h_l2; \t\t\t#Heat rejected per cycle\n",
      "m = Q2/Q3; \t\t\t#kg/min\n",
      "W = m*(H-h_v1)/60; \t\t\t#kW\n",
      "W_actual = W/n_compressor;\n",
      "\n",
      "# Results\n",
      "print (\"Power  = %.3f\")% (W_actual), (\"kW\")\n"
     ],
     "language": "python",
     "metadata": {},
     "outputs": [
      {
       "output_type": "stream",
       "stream": "stdout",
       "text": [
        "Power  = 3.201 kW\n"
       ]
      }
     ],
     "prompt_number": 26
    },
    {
     "cell_type": "heading",
     "level": 3,
     "metadata": {},
     "source": [
      "Example 14.25 page no : 759"
     ]
    },
    {
     "cell_type": "code",
     "collapsed": false,
     "input": [
      "\n",
      "# Variables\n",
      "h2a = 183.2; \t\t\t#kJ/kg K\n",
      "cpv = 0.733; \t\t\t#Vapour specific heat in kJ/kg K\n",
      "cpl = 1.235; \t\t\t#Liquid specific heat in kJ/kg K\n",
      "s2a = 0.7020; \t\t\t#Entropy of vapour in kJ/kg K\n",
      "s3a = 0.6854; \t\t\t#Entropy of vapour in kJ/kg K\n",
      "T2 = 270.; \t\t\t    #K\n",
      "T2a = 263.; \t\t\t#K\n",
      "T3a = 303.; \t\t\t#K\n",
      "h3a = 199.6; \t\t\t#kJ/kg\n",
      "h_f4 = 64.6; \t\t\t#kJ/kg\n",
      "dT4 = 6.; \t\t\t    #dT4 = T4-T4a\n",
      "v2a = 0.0767;\n",
      "n = 2.; \t\t\t    #number of cylinder\n",
      "\n",
      "# Calculations and Results\n",
      "h2 = h2a+cpv*(T2-T2a);\n",
      "s2 = s2a+cpv*math.log(T2/T2a);\n",
      "T3 = T3a*math.e**((s2-s3a)/cpv);\n",
      "h3 = h3a+cpv*(T3-T3a);\n",
      "h_f4a = h_f4-cpl*dT4;\n",
      "h1 = h_f4a;\n",
      "v2 = v2a/T2a*T2;\n",
      "\n",
      "RE = h2-h1;\n",
      "print (\"(i) Refrigerating effect per kg  = \"), (RE), (\"kJ/kg\")\n",
      "\n",
      "m = 2400/RE;\n",
      "print (\"(ii) Mass of refrigerant to be circulated per minute  = %.3f\")% (m), (\"kg/min\")\n",
      "\n",
      "v = m*v2;\n",
      "print (\"(iii) Theoretical piston print lacement per minute  = %.3f\")%(v), (\"m**3/min\")\n",
      "\n",
      "P = m/60*(h3-h2);\n",
      "print (\"(iv) Theoretical power required to run the compressor  =  %.3f\")% (P), (\"kW\")\n",
      "\n",
      "Q = m*(h3-h_f4a);\n",
      "print (\"(v) Heat removed through the condenser per min  = %.3f\")% (Q), (\"kJ/min\")\n",
      "\n",
      "print (\"(vi) Theoretical bore (d) and stroke (l)\")\n",
      "d = (v/n/math.pi*4/1.25/1000)**(1./3)*1000;\n",
      "print (\"Theroritical bore  = %.3f\")% (d), (\"mm\")\n",
      "\n",
      "l = 1.25*d;\n",
      "print (\"stroke  = %.3f\")% (l), (\"mm\")\n"
     ],
     "language": "python",
     "metadata": {},
     "outputs": [
      {
       "output_type": "stream",
       "stream": "stdout",
       "text": [
        "(i) Refrigerating effect per kg  =  131.141 kJ/kg\n",
        "(ii) Mass of refrigerant to be circulated per minute  = 18.301 kg/min\n",
        "(iii) Theoretical piston print lacement per minute  = 1.441 m**3/min\n",
        "(iv) Theoretical power required to run the compressor  =  6.833 kW\n",
        "(v) Heat removed through the condenser per min  = 2809.995 kJ/min\n",
        "(vi) Theoretical bore (d) and stroke (l)\n",
        "Theroritical bore  = 90.202 mm\n",
        "stroke  = 112.752 mm\n"
       ]
      }
     ],
     "prompt_number": 27
    },
    {
     "cell_type": "heading",
     "level": 3,
     "metadata": {},
     "source": [
      "Example 14.26 page no : 761"
     ]
    },
    {
     "cell_type": "code",
     "collapsed": false,
     "input": [
      "\n",
      "# Variables\n",
      "h2 = 1597.; \t\t\t#kJ/kg\n",
      "h3 = 1790.; \t\t\t#kJ/kg\n",
      "h4 = 513.; \t\t\t#kJ/kg\n",
      "h1 = h4;\n",
      "t3 = 58.; \t\t\t#0C\n",
      "x1 = 0.13;\n",
      "tc = 27.; \t\t\t#0C\n",
      "capacity = 10.5; \t\t\t#tonnes\n",
      "\n",
      "# Calculations and Results\n",
      "t = t3-tc;\n",
      "print (\"(i) Condition of the vapour at the outlet of the compressor  = \"), (t), (\"C\")\n",
      "\n",
      "print (\"(ii) Condition of vapour at entrance to evaporator  = \"), (x1)\n",
      "\n",
      "COP = (h2-h1)/(h3-h2);\n",
      "print (\"(iii)COP  = %.3f\") %(COP)\n",
      "\n",
      "P = capacity*14000./COP/3600;\n",
      "print (\"(iv) Power required  = %.3f\")% (P), (\"kW\")\n"
     ],
     "language": "python",
     "metadata": {},
     "outputs": [
      {
       "output_type": "stream",
       "stream": "stdout",
       "text": [
        "(i) Condition of the vapour at the outlet of the compressor  =  31.0 C\n",
        "(ii) Condition of vapour at entrance to evaporator  =  0.13\n",
        "(iii)COP  = 5.617\n",
        "(iv) Power required  = 7.270 kW\n"
       ]
      }
     ],
     "prompt_number": 21
    },
    {
     "cell_type": "heading",
     "level": 3,
     "metadata": {},
     "source": [
      "Example 14.27 page no : 762"
     ]
    },
    {
     "cell_type": "code",
     "collapsed": false,
     "input": [
      "\n",
      "import math \n",
      "\n",
      "# Variables\n",
      "h2 = 615.; \t\t\t#kJ/kg\n",
      "h3 = 664.; \t\t\t#kJ/kg\n",
      "h4 = 446.; \t\t\t#kJ/kg\n",
      "h1 = h4;\n",
      "v2 = 0.14; \t\t\t#m**3/kg\n",
      "capacity = 20.; \t#tonnes\n",
      "n = 6.; \t\t\t#number of cylinder\n",
      "\n",
      "# Calculations and Results\n",
      "RE = h2-h1;\n",
      "print (\"(i) Refrigerating effect per kg  = \"), (RE), (\"kJ/kg\")\n",
      "\n",
      "m = capacity*14000./RE/60.;\n",
      "print (\"(ii) Mass of refrigerant to be circulated per minute  = %.3f\")% (m), (\"kg/min\")\n",
      "\n",
      "v = v2*m;\n",
      "print (\"(iii) Theoretical piston print lacement  = %.3f\")% (v), (\"m**3/min\")\n",
      "\n",
      "P = m/60*(h3-h2);\n",
      "print (\"(iv) Theoretical power  = %.3f\")% (P), (\"kW\")\n",
      "\n",
      "COP = (h2-h1)/(h3-h2);\n",
      "print (\"(v)COP  = %.3f\")% (COP)\n",
      "\n",
      "Q = m*(h3-h4);\n",
      "print (\"(vi) Heat removed through the condenser  = %.3f\")% (Q), (\"kJ/min\")\n",
      "\n",
      "print (\"(vii) Theoretical print lacement per minute per cylinder\")\n",
      "\n",
      "d = (v/n*4/math.pi/950.)**(1./3)*1000.;\n",
      "print (\"Diameter of cylinder  = %.3f\")% (d), (\"mm\")\n",
      "\n",
      "l = d;\n",
      "print (\"Stroke length  = %.3f\")% (l), (\"mm\")\n"
     ],
     "language": "python",
     "metadata": {},
     "outputs": [
      {
       "output_type": "stream",
       "stream": "stdout",
       "text": [
        "(i) Refrigerating effect per kg  =  169.0 kJ/kg\n",
        "(ii) Mass of refrigerant to be circulated per minute  = 27.613 kg/min\n",
        "(iii) Theoretical piston print lacement  = 3.866 m**3/min\n",
        "(iv) Theoretical power  = 22.551 kW\n",
        "(v)COP  = 3.449\n",
        "(vi) Heat removed through the condenser  = 6019.724 kJ/min\n",
        "(vii) Theoretical print lacement per minute per cylinder\n",
        "Diameter of cylinder  = 95.227 mm\n",
        "Stroke length  = 95.227 mm\n"
       ]
      }
     ],
     "prompt_number": 30
    }
   ],
   "metadata": {}
  }
 ]
}