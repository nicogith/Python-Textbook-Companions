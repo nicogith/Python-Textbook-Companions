{
 "metadata": {
  "name": ""
 },
 "nbformat": 3,
 "nbformat_minor": 0,
 "worksheets": [
  {
   "cells": [
    {
     "cell_type": "heading",
     "level": 1,
     "metadata": {},
     "source": [
      "Chapter 12 : Vapour Power Cycles"
     ]
    },
    {
     "cell_type": "heading",
     "level": 3,
     "metadata": {},
     "source": [
      "Example 12.1 Page no : 548"
     ]
    },
    {
     "cell_type": "code",
     "collapsed": false,
     "input": [
      "import math\n",
      "\n",
      "# Variables\n",
      "p1 = 60.; \t\t\t#bar; Inlet to turbine\n",
      "p2 = 0.1; \t\t\t#bar; Exit from turbine\n",
      "p3 = 0.09; \t\t\t#bar; Exit from condenser \n",
      "p4 = 70.; \t\t\t#bar ; Exit from pump\n",
      "p5 = 65.; \t\t\t#bar; Exit from boiler\n",
      "\n",
      "t1 = 380.; \t\t\t#0C\n",
      "t5 = 400.; \t\t\t#0C\n",
      "x2 = 0.9; \t\t\t#Quality at exit from turbine\n",
      "C = 200.; \t\t\t#m/s; Velocity at the exit from turbine \n",
      "\n",
      "# Calculations and Results\n",
      "\n",
      "#At 60 bar 380 0C, From steam tables\n",
      "h1 = 3123.5; \t\t\t#kJ/kg; By interpolation\n",
      "h_f2 = 191.8; \t\t\t#kJ/kg\n",
      "h_fg2 = 2392.8; \t\t\t#kJ/kg\n",
      "x2 = 0.9; \n",
      "\n",
      "h2 = h_f2+x2*h_fg2;\n",
      "m_s = 10000./3600; \t\t\t#Rate of stem flow in kg/s\n",
      "\n",
      "P = m_s*(h1-h2);\n",
      "print (\"(i)Power output of the turbine  = %.0f\")% (P), (\"kW\")\n",
      "\n",
      "\n",
      "h_f4 = 1267.4; \t\t\t#kJ/kg\n",
      "h_a = 3167.6; \t\t\t#kJ/kg\n",
      "Q1 = 10000*(h_a - h_f4); \n",
      "print (\"(ii)Heat transfer per hour in the boiler  = %.2e\")% (Q1), (\"kJ/h\")\n",
      "\n",
      "h_f3 = 183.3; \t\t\t#kJ/kg\n",
      "Q2 = float(\"%.2e\"%(10000*(h2-h_f3)));\n",
      "print (\"Heat transfer per hour in the condenser  = %.2e\")% (Q2), (\"kJ/h\")\n",
      "\n",
      "print (\"(iii) Mass of cooling water circulated per hour in the condenser\")\n",
      "c_pw = 4.18;\n",
      "t2 = 30.;\n",
      "t1 = 20.;\n",
      "\n",
      "m_w = Q2/(c_pw*(t2-t1));\n",
      "print (\"m_w = %.3e\")% (m_w), (\"kg/h\")\n",
      "print (\"This is the exact answer.\")\n",
      "\n",
      "print (\"(iv) Diameter of the pipe connecting turbine with condenser\")\n",
      "\n",
      "v_g2 = 14.67; \t\t\t#m**3/kg\n",
      "\n",
      "d = math.sqrt(m_s*x2*v_g2*4/math.pi/C)*1000;\n",
      "print (\"Diameter  = %d\")% (d), (\"mm\")\n",
      "\n",
      "# Note : Answer for part 3 in book is incorrect."
     ],
     "language": "python",
     "metadata": {},
     "outputs": [
      {
       "output_type": "stream",
       "stream": "stdout",
       "text": [
        "(i)Power output of the turbine  = 2162 kW\n",
        "(ii)Heat transfer per hour in the boiler  = 1.90e+07 kJ/h\n",
        "Heat transfer per hour in the condenser  = 2.16e+07 kJ/h\n",
        "(iii) Mass of cooling water circulated per hour in the condenser\n",
        "m_w = 5.167e+05 kg/h\n",
        "This is the exact answer.\n",
        "(iv) Diameter of the pipe connecting turbine with condenser\n",
        "Diameter  = 483 mm\n"
       ]
      }
     ],
     "prompt_number": 11
    },
    {
     "cell_type": "heading",
     "level": 3,
     "metadata": {},
     "source": [
      "Example 12.2 Page no : 550"
     ]
    },
    {
     "cell_type": "code",
     "collapsed": false,
     "input": [
      "# Variables\n",
      "p1 = 15.; \t\t\t#bar\n",
      "x1 = 1.;\n",
      "p2 = 0.4; \t\t\t#bar\n",
      "\n",
      "#At 15 bar\n",
      "t_s1 = 198.3; \t\t\t#0C\n",
      "h_g1 = 2789.9; \t\t\t#kJ/kg\n",
      "s_g1 = 6.4406; \t\t\t#kJ/kg K\n",
      "\n",
      "#At 0..4 bar\n",
      "t_s2 = 198.3; \t\t\t#0C\n",
      "h_f2 = 317.7; \t\t\t#kJ/kg\n",
      "h_fg2 = 2319.2; \t\t\t#kJ/kg\n",
      "s_f2 = 1.0261; \t\t\t#kJ/kg K\n",
      "s_fg2 = 6.6448; \t\t\t#kJ/kg K\n",
      "T1 = 471.3; \t\t\t#K\n",
      "T2 = 348.9; \t\t\t#K\n",
      "\n",
      "# Calculations and Results\n",
      "n_carnot = (T1-T2)/T1;\n",
      "print (\"Carnot efficiency = %.3f\")%(n_carnot)\n",
      "\n",
      "x2 = (s_g1 - s_f2)/s_fg2;\n",
      "h2 = h_f2+x2*h_fg2;\n",
      "\n",
      "n_rankine = (h_g1-h2)/(h_g1-h_f2);\n",
      "print (\"Rankine efficiency = %.3f\")%(n_rankine)\n"
     ],
     "language": "python",
     "metadata": {},
     "outputs": [
      {
       "output_type": "stream",
       "stream": "stdout",
       "text": [
        "Carnot efficiency = 0.260\n",
        "Rankine efficiency = 0.236\n"
       ]
      }
     ],
     "prompt_number": 2
    },
    {
     "cell_type": "heading",
     "level": 3,
     "metadata": {},
     "source": [
      "Example 12.3 Page no : 551"
     ]
    },
    {
     "cell_type": "code",
     "collapsed": false,
     "input": [
      "# Variables\n",
      "p1 = 20.; \t\t\t#bar\n",
      "p2 = 0.08; \t\t\t#bar\n",
      "\n",
      "#At 20 bar, 360 0C\n",
      "h1 = 3159.3; \t\t\t#kJ/kg\n",
      "s1 = 6.9917; \t\t\t#kJ/kg K\n",
      "\n",
      "#At 0.08 bar\n",
      "h_f2 = 173.88; \t\t\t#kJ/kg\n",
      "s_f2 = 0.5926; \t\t\t#kJ/kg K\n",
      "\n",
      "h_fg2 = 2403.1; \t\t#kJ/kg\n",
      "s_g = 8.2287; \t\t\t#kJ/kg K\n",
      "v_f = 0.001008; \t\t#m**3/kg\n",
      "s_fg = 7.6361; \t\t\t#kJ/kg K\n",
      "\n",
      "# Calculations and Results\n",
      "x2 = (s1-s_f2)/s_fg;\n",
      "\n",
      "h2 = h_f2+x2*h_fg2;\n",
      "\n",
      "W_pump = v_f*(p1-p2)*100; \t\t\t#kJ/kg\n",
      "W_turbine = h1-h2;\n",
      "\n",
      "W_net = h1-h2;\n",
      "print (\"Net work done = %.3f\")% (W_net), (\"kJ/kg\")\n",
      "\n",
      "h_f4 = W_pump+h_f2;\n",
      "Q1 = h1-h_f4;\n",
      "\n",
      "n_cycle = W_net/Q1;\n",
      "print (\"Cycle efficiency = %.3f\")% (n_cycle)\n"
     ],
     "language": "python",
     "metadata": {},
     "outputs": [
      {
       "output_type": "stream",
       "stream": "stdout",
       "text": [
        "Net work done = 971.607 kJ/kg\n",
        "Cycle efficiency = 0.326\n"
       ]
      }
     ],
     "prompt_number": 3
    },
    {
     "cell_type": "heading",
     "level": 3,
     "metadata": {},
     "source": [
      "Example 12.4 Page no : 552"
     ]
    },
    {
     "cell_type": "code",
     "collapsed": false,
     "input": [
      "# Variables\n",
      "n_turbine = 0.9;\n",
      "n_pump = 0.8;\n",
      "p1 = 80.; \t\t\t#bar\n",
      "p2 = 0.1; \t\t\t#bar\n",
      "v_f = 0.0010103; \t\t\t#m**3\n",
      "\n",
      "#At 80 bar, 600 0C\n",
      "h1 = 3642.; \t\t\t#kJ/kg\n",
      "s1 = 7.0206; \t\t\t#kJ/kg K\n",
      "s_f2 = 0.6488; \t\t\t#kJ/kg K\n",
      "s_fg2 = 7.5006; \t\t\t#kJ/kg K\n",
      "h_f2 = 191.9; \t\t\t#kJ/kg\n",
      "h_fg2 = 2392.3; \t\t\t#kJ/kg\n",
      "\n",
      "# Calculations\n",
      "x2 = (s1-s_f2)/s_fg2;\n",
      "h2 = h_f2+x2*h_fg2;\n",
      "\n",
      "W_turbine = n_turbine*(h1-h2);\n",
      "W_pump = v_f*(p1-p2)*10**2;\n",
      "\n",
      "W_actual = W_pump/n_pump; \t\t\t#Actual pump work\n",
      "\n",
      "W_net = W_turbine - W_actual;\n",
      "\n",
      "# Results\n",
      "print (\"Specific work  = %.3f\")% (W_net), (\"kJ/kg\")\n",
      "\n",
      "h_f4 = h_f2+W_actual;\n",
      "Q1 = h1-h_f4;\n",
      "\n",
      "n_thermal = W_net/Q1; \t\t\t#Thermal efficiency\n",
      "print (\"Thermal efficiency  = %.3f\")% (n_thermal)\n"
     ],
     "language": "python",
     "metadata": {},
     "outputs": [
      {
       "output_type": "stream",
       "stream": "stdout",
       "text": [
        "Specific work  = 1265.955 kJ/kg\n",
        "Thermal efficiency  = 0.368\n"
       ]
      }
     ],
     "prompt_number": 4
    },
    {
     "cell_type": "heading",
     "level": 3,
     "metadata": {},
     "source": [
      "Example 12.5 Page no : 553"
     ]
    },
    {
     "cell_type": "code",
     "collapsed": false,
     "input": [
      "# Variables\n",
      "p1 = 28.; \t\t\t#bar\n",
      "p2 = 0.06; \t\t\t#bar\n",
      "\n",
      "#At 28 bar\n",
      "h1 = 2802.; \t\t\t#kJ/kg\n",
      "s1 = 6.2104; \t\t\t#kJ/kg K\n",
      "\n",
      "#At 0.06 bar\n",
      "h_f2 = 151.5; \t\t\t#kJ/kg\n",
      "h_f3 = h_f2;\n",
      "h_fg2 = 2415.9; \t\t#kJ/kg\n",
      "s_f2 = 0.521; \t\t\t#kJ/kg K\n",
      "s_fg2 = 7.809; \t\t\t#kJ/kg K\n",
      "v_f = 0.001; \t\t\t#m**3/kg\n",
      "\n",
      "# Calculations\n",
      "x2 = (s1-s_f2)/s_fg2;\n",
      "h2 = h_f2 + x2*h_fg2;\n",
      "W_turbine = h1-h2;\n",
      "W_pump = v_f*(p1-p2)*100; \t\t\t#kJ/kg\n",
      "h_f4 = h_f2+W_pump;\n",
      "Q1 = h1-h_f4;\n",
      "W_net = W_turbine - W_pump;\n",
      "n_cycle = W_net/Q1;\n",
      "\n",
      "# Results\n",
      "print (\"cyclic efficiency  = %.3f\")% (n_cycle)\n",
      "\n",
      "ratio = W_net/W_turbine; \t\t\t#Work ratio\n",
      "print (\"Work ratio  = %.3f\")% (ratio)\n",
      "\n",
      "S = 3600/W_net; \t\t\t#Specific steam combustion\n",
      "print (\"Specific steam combustion = %.3f\")% (S), (\"kg/kWh\")\n"
     ],
     "language": "python",
     "metadata": {},
     "outputs": [
      {
       "output_type": "stream",
       "stream": "stdout",
       "text": [
        "cyclic efficiency  = 0.335\n",
        "Work ratio  = 0.997\n",
        "Specific steam combustion = 4.056 kg/kWh\n"
       ]
      }
     ],
     "prompt_number": 5
    },
    {
     "cell_type": "heading",
     "level": 3,
     "metadata": {},
     "source": [
      "Example 12.6 Page no : 554"
     ]
    },
    {
     "cell_type": "code",
     "collapsed": false,
     "input": [
      "# Variables\n",
      "p1 = 35.; \t\t\t#bar\n",
      "x = 1.;\n",
      "p2 = 0.2; \t\t\t#bar\n",
      "m = 9.5; \t\t\t#kg/s\n",
      "\n",
      "#At 35 bar\n",
      "h1 = 2802.; \t\t\t#kJ/kg\n",
      "h_g1 = h1;\n",
      "s_g1 = 6.1228; \t\t\t#kJ/kg K\n",
      "\n",
      "#At0.26 bar\n",
      "h_f = 251.5; \t\t\t#kJ/kg\n",
      "h_fg = 2358.4; \t\t\t#kJ/kg\n",
      "v_f = 0.001017; \t\t#m**3/kg\n",
      "s_f = 0.8321; \t\t\t#kJ/kg\n",
      "s_fg = 7.0773; \t\t\t#kJ/kg K\n",
      "\n",
      "# Calculations and Results\n",
      "print (\"(i) The pump work\")\n",
      "W_pump = v_f*(p1-p2)*100; \t\t\t#kJ/kg\n",
      "P = m*W_pump; \t\t\t#power required\n",
      "print (\"Power required to drive the pump %.3f\")% (P), (\"kW\")\n",
      "\n",
      "print (\"(ii) The turbine work\")\n",
      "x2 = (s_g1-s_f)/s_fg;\n",
      "h2 = h_f+x2*h_fg;\n",
      "W_turbine = m*(h1-h2);\n",
      "print (\"Turbine work = %.3f\")% (W_turbine), (\"kW\")\n",
      "\n",
      "print (\"(iii) The Rankine efficiency\")\n",
      "n_rankine = (h1-h2)/(h1-h_f);\n",
      "print (\"rankine efficiency = %.3f\")% (n_rankine)\n",
      "\n",
      "print (\"(iv) The condenser heat flow :\")\n",
      "Q = m*(h2-h_f);\n",
      "print (\"The condenser heat flow = %.3f\")% (Q), (\"kW\")\n",
      "\n",
      "print (\"(v) The dryness at the end of expansion = %.3f\")% (x2)\n"
     ],
     "language": "python",
     "metadata": {},
     "outputs": [
      {
       "output_type": "stream",
       "stream": "stdout",
       "text": [
        "(i) The pump work\n",
        "Power required to drive the pump 33.622 kW\n",
        "(ii) The turbine work\n",
        "Turbine work = 7480.838 kW\n",
        "(iii) The Rankine efficiency\n",
        "rankine efficiency = 0.309\n",
        "(iv) The condenser heat flow :\n",
        "The condenser heat flow = 16748.912 kW\n",
        "(v) The dryness at the end of expansion = 0.748\n"
       ]
      }
     ],
     "prompt_number": 6
    },
    {
     "cell_type": "heading",
     "level": 3,
     "metadata": {},
     "source": [
      "Example 12.7 Page no : 555"
     ]
    },
    {
     "cell_type": "code",
     "collapsed": false,
     "input": [
      "# Variables\n",
      "dh = 840.;   \t\t\t#kJ/kg; Adiabatic enthalpy drop\n",
      "h1 = 2940.; \t\t\t#/kJ/kg;\n",
      "p2 = 0.1; \t    \t\t#bar\n",
      "h_f2 = 191.8; \t\t\t#kJ/kg\n",
      "\n",
      "# Calculations and Results\n",
      "n_rankine = (dh)/(h1-h_f2)*100;\n",
      "print (\"rankine efficiency = %.3f\")% (n_rankine)\n",
      "\n",
      "S = 3600/dh; \t\t\t#Specific steam combustion\n",
      "print (\"Specific steam combustion = %.3f\")% (S), (\"kg/kWh\")\n"
     ],
     "language": "python",
     "metadata": {},
     "outputs": [
      {
       "output_type": "stream",
       "stream": "stdout",
       "text": [
        "rankine efficiency = 30.565\n",
        "Specific steam combustion = 4.286 kg/kWh\n"
       ]
      }
     ],
     "prompt_number": 7
    },
    {
     "cell_type": "heading",
     "level": 3,
     "metadata": {},
     "source": [
      "Example 12.8 Page no : 555"
     ]
    },
    {
     "cell_type": "code",
     "collapsed": false,
     "input": [
      "# Variables\n",
      "IP = 35.; \t\t\t# Power developed by the engine in kW\n",
      "S = 284.; \t\t\t#Steam combustion in kg/h\n",
      "p2 = 0.14; \t\t\t#Condenser pressure in bar\n",
      "p1 = 15.; \t\t\t#bar\n",
      "\n",
      "h1 = 2923.3; \t\t\t#kJ/kg\n",
      "s1 = 6.709; \t\t\t#kJ/kg K\n",
      "\n",
      "h_f = 220.; \t\t\t#kJ/kg\n",
      "h_fg = 2376.6; \t\t\t#kJ/kg\n",
      "s_f = 0.737; \t\t\t#kJ/kg K\n",
      "s_fg = 7.296; \t\t\t#kJ/kg K\n",
      "\n",
      "# Calculations and Results\n",
      "x2 = (s1-s_f)/s_fg;\n",
      "print (\"(i) Final condition of steam  = %.3f\")% (x2)\n",
      "\n",
      "h2 = h_f+x2*h_fg;\n",
      "n_rankine = (h1-h2)/(h1-h_f);\n",
      "print (\"(ii) Rankine efficiency = %.3f\")% (n_rankine)\n",
      "\n",
      "\n",
      "n_thermal = IP/(S/3600)/(h1-h_f);\n",
      "\n",
      "n_relative = n_thermal/n_rankine;\n",
      "print (\"(iii)relative efficiency = %.3f\")% (n_relative)\n"
     ],
     "language": "python",
     "metadata": {},
     "outputs": [
      {
       "output_type": "stream",
       "stream": "stdout",
       "text": [
        "(i) Final condition of steam  = 0.819\n",
        "(ii) Rankine efficiency = 0.280\n",
        "(iii)relative efficiency = 0.585\n"
       ]
      }
     ],
     "prompt_number": 2
    },
    {
     "cell_type": "heading",
     "level": 3,
     "metadata": {},
     "source": [
      "Example 12.9 Page no : 556"
     ]
    },
    {
     "cell_type": "code",
     "collapsed": false,
     "input": [
      "# Variables\n",
      "P = 5000.; \t\t\t#kW\n",
      "C = 40000.; \t\t\t#kJ/kg\n",
      "n_rankine = 0.5;\n",
      "n_turbine = 0.9;\n",
      "n_heat_transfer = 0.85;\n",
      "n_combustion = 0.98;\n",
      "\n",
      "# Calculations\n",
      "m_f = P/n_turbine/(C*n_heat_transfer*n_combustion*n_rankine);\n",
      "\n",
      "# Results\n",
      "print (\"Fuel oil combustion = %.3f\")% (m_f), (\"kg/s\")\n"
     ],
     "language": "python",
     "metadata": {},
     "outputs": [
      {
       "output_type": "stream",
       "stream": "stdout",
       "text": [
        "Fuel oil combustion = 0.333 kg/s\n"
       ]
      }
     ],
     "prompt_number": 9
    },
    {
     "cell_type": "heading",
     "level": 3,
     "metadata": {},
     "source": [
      "Example 12.10 Page no : 558"
     ]
    },
    {
     "cell_type": "code",
     "collapsed": false,
     "input": [
      "# Variables\n",
      "p2 = 2.; \t\t\t#bar\n",
      "p3 = 1.1; \t\t\t#bar\n",
      "IP = 1.;\n",
      "m = 12.8/3600; \t\t\t#kg/kWs\n",
      "n_mech = 0.8; \t\t\t#Mechanical efficiency\n",
      "h1 = 3037.6; \t\t\t#kJ/kg\n",
      "v1 = 0.169; \t\t\t#m**3/kg\n",
      "s1 = 6.918; \t\t\t#kJ/kg K\n",
      "t_s2 = 120.2; \t\t\t#0C\n",
      "h_f2 = 504.7; \t\t\t#kJ/kg\n",
      "h_fg2 = 2201.6; \t\t#kJ/kg\n",
      "s_f2 = 1.5301; \t\t\t#kJ/kg K\n",
      "s_fg2 = 5.5967; \t\t#kJ/kg K\n",
      "v_f2 = 0.00106; \t\t#m**3/kg\n",
      "v_g2 = 0.885; \t\t\t#m**3/kg\n",
      "t_s3 = 102.3; \t\t\t#0C\n",
      "h_f3 = 428.8; \t\t\t#kJ/kg\n",
      "h_fg3 = 2250.8; \t\t#kJ/kg\n",
      "s_f3 = 1.333; \t\t\t#kJ/kg K\n",
      "s_fg3 = 5.9947; \t\t#kJ/kg K\n",
      "v_f3 = 0.001; \t\t\t#m**3/kg\n",
      "v_g3 = 1.549; \t\t\t#m**3/kg\n",
      "\n",
      "# Calculations and Results\n",
      "x2 = (s1-s_f2)/s_fg2;\n",
      "h2 = h_f2+x2*h_fg2;\n",
      "v2 = x2*v_g2+(1-x2)*v_f2;\n",
      "\n",
      "W = (h1-h2) + (p2-p3)*v2*100; \t\t\t#kJ/kg\n",
      "print (\"(i)Ideal work = %.3f\")% (W), (\"kJ/kg\")\n",
      "\n",
      "\n",
      "n_rankine = W/(h1-h_f3);\n",
      "print (\"(ii) Rankine engine efficiency = %.3f\")% (n_rankine)\n",
      "\n",
      "\n",
      "print (\"(iii) Indicated and brake work per kg\")\n",
      "W_indicated = IP/m;\n",
      "print (\"Indicated worK  = %.3f\")% (W_indicated), (\"kJ/kg\")\n",
      "\n",
      "W_brake = n_mech*IP/m;\n",
      "print (\"Brake work  = %.3f\")% (W_brake), (\"kJ/kg\")\n",
      "\n",
      "n_brake = W_brake/(h1-h_f3);\n",
      "print (\"(iv) Brake thermal efficiency = %.3f\")% (n_brake)\n",
      "\n",
      "\n",
      "print (\"(v) Relative efficiency :\")\n",
      "\n",
      "n1 = W_indicated/W; \t\t\t#on the basis of indicated work\n",
      "print (\"Relative efficiency on the basis of indicated work = %.3f\")%(n1)\n",
      "\n",
      "n2 = W_brake/W; \t\t\t#on the basis of brake work\n",
      "print (\"Relative efficiency on the basis of brake work = %.3f\")%(n2)\n"
     ],
     "language": "python",
     "metadata": {},
     "outputs": [
      {
       "output_type": "stream",
       "stream": "stdout",
       "text": [
        "(i)Ideal work = 490.119 kJ/kg\n",
        "(ii) Rankine engine efficiency = 0.188\n",
        "(iii) Indicated and brake work per kg\n",
        "Indicated worK  = 281.250 kJ/kg\n",
        "Brake work  = 225.000 kJ/kg\n",
        "(iv) Brake thermal efficiency = 0.086\n",
        "(v) Relative efficiency :\n",
        "Relative efficiency on the basis of indicated work = 0.574\n",
        "Relative efficiency on the basis of brake work = 0.459\n"
       ]
      }
     ],
     "prompt_number": 10
    },
    {
     "cell_type": "heading",
     "level": 3,
     "metadata": {},
     "source": [
      "Example 12.11 Page no : 560"
     ]
    },
    {
     "cell_type": "code",
     "collapsed": false,
     "input": [
      "# Variables\n",
      "p2 = 0.75; \t\t\t#bar\n",
      "p3 = 0.3; \t\t\t#bar\n",
      "h1 = 3263.9; \t\t\t#kJ/kg\n",
      "v1 = 0.307; \t\t\t#m**3/kg\n",
      "s1 = 7.465; \t\t\t#kJ/kg K\n",
      "T_s2 = 369.7; \t\t\t#K\n",
      "h_g2 = 2670.9; \t\t\t#kJ/kg\n",
      "s_g2 = 7.3954; \t\t\t#kJ/kg K\n",
      "v_g2 = 1.869; \t\t\t#m**3/kg\n",
      "h_f3 = 289.3; \t\t\t#kJ/kg\n",
      "v_g3 = 5.229; \t\t\t#m**3/kg\n",
      "cp = 2.1;\n",
      "\n",
      "# Calculations and Results\n",
      "print (\"(i) Quality of steam at the end of expansion\")\n",
      "T_sup2 = T_s2*(math.e**((s1-s_g2)/cp));\n",
      "t_sup2 = T_sup2-273;\n",
      "print (\"t_sup2 = %.3f\")% (t_sup2), (\"\u00b0C\")\n",
      "\n",
      "h2 = h_g2+cp*(T_sup2-366.5);\n",
      "\n",
      "print (\"(ii) Quality of steam at the end of consmath.tant volume operation, x3 :\")\n",
      "v2 = v_g2/T_s2*T_sup2;\n",
      "v3 = v2;\n",
      "x3 = v3/v_g3;\n",
      "print (\"x3 = %.3f\")% (x3)\n",
      "\n",
      "\n",
      "print (\"(iii) Power developed\")\n",
      "P = (h1-h2) + (p2-p3)*v2*100;\n",
      "print (\"P = %.3f\")%(P), (\"kW\")\n",
      "\n",
      "\n",
      "ssc = 3600./P;\n",
      "print (\"(iv) Specific steam consumption  = %.3f\")% (ssc), (\"kg/kWh\")\n",
      "\n",
      "\n",
      "n_mR = ((h1-h2)+(p2-p3)*v2*100)/(h1-h_f3);\n",
      "print (\"(v) Modified Rankine cycle efficiency  = %.3f\")% (n_mR)\n"
     ],
     "language": "python",
     "metadata": {},
     "outputs": [
      {
       "output_type": "stream",
       "stream": "stdout",
       "text": [
        "(i) Quality of steam at the end of expansion\n",
        "t_sup2 = 109.158 \u00b0C\n",
        "(ii) Quality of steam at the end of consmath.tant volume operation, x3 :\n",
        "x3 = 0.369\n",
        "(iii) Power developed\n",
        "P = 647.057 kW\n",
        "(iv) Specific steam consumption  = 5.564 kg/kWh\n",
        "(v) Modified Rankine cycle efficiency  = 0.218\n"
       ]
      }
     ],
     "prompt_number": 11
    },
    {
     "cell_type": "heading",
     "level": 3,
     "metadata": {},
     "source": [
      "Example 12.12 Page no : 564"
     ]
    },
    {
     "cell_type": "code",
     "collapsed": false,
     "input": [
      "# Variables\n",
      "h1 = 3100.; \t\t\t#kJ/kg\n",
      "h2 = 2100.; \t\t\t#kJ/kg\n",
      "h3 = 2500.; \t\t\t#kJ/kg\n",
      "h_f2 = 570.9; \t\t\t#kJ/kg\n",
      "h_f5 = 125.; \t\t\t#kJ/kg\n",
      "h_f2 = 570.9; \t\t\t#kJ/kg\n",
      "a = 11200.; \t\t\t#Quantity of bled steam in kg/h\n",
      "\n",
      "# Calculations\n",
      "m = (h_f2-h_f5)/(h2-h_f5);\n",
      "S = a/m; \t\t\t#Steam supplied to the turbine per hour\n",
      "W_net = (h1-h3) + (1-m)*(h3-h2);\n",
      "P = W_net*S/3600.; \t\t\t#Power developed by the turbine\n",
      "\n",
      "# Results\n",
      "print (\"Power developed by the turbine = %.3f\")% (P), (\"kW\")\n"
     ],
     "language": "python",
     "metadata": {},
     "outputs": [
      {
       "output_type": "stream",
       "stream": "stdout",
       "text": [
        "Power developed by the turbine = 12535.426 kW\n"
       ]
      }
     ],
     "prompt_number": 12
    },
    {
     "cell_type": "heading",
     "level": 3,
     "metadata": {},
     "source": [
      "Example 12.13 Page no : 565"
     ]
    },
    {
     "cell_type": "code",
     "collapsed": false,
     "input": [
      "\n",
      "# Variables\n",
      "#At 30bar, 400 0C\n",
      "h1 = 3230.9; \t\t\t#kJ/kg\n",
      "s1 = 6.921; \t\t\t#kJ/kg\n",
      "s2 = s1;\n",
      "s3 = s1;\n",
      "#At 5 bar\n",
      "s_f1 = 1.8604;\n",
      "s_g1 = 6.8192; \t\t\t#kJ/kg K\n",
      "h_f1 = 640.1; \t\t\t#kJ/kg\n",
      "t2 = 172. \t\t\t    #0C\n",
      "h2 = 2796.; \t\t\t#kJ/kg\n",
      "\n",
      "#At 0.1 bar\n",
      "s_f3 = 0.649; \t\t\t#kJ/kg K\n",
      "s_fg3 = 7.501; \t\t\t#kJ/kg K\n",
      "h_f3 = 191.8; \t\t\t#kJ/kg\n",
      "h_fg3 = 2392.8; \t\t#kJ/kg\n",
      "\n",
      "# Calculations and Results\n",
      "x3 = (s2-s_f3)/s_fg3;\n",
      "h3 = h_f3+x3*h_fg3;\n",
      "\n",
      "h_f4 = 191.8; \t\t\t#kJ/kg\n",
      "h_f5 = h_f4;\n",
      "\n",
      "h_f6 = 640.1; \t\t\t#kJ/kg\n",
      "h_f7 = h_f6;\n",
      "s7 = 1.8604; \t\t\t#kJ/kg K\n",
      "s4 = 0.649; \t\t\t#kJ/kg K\n",
      "m = (h_f6-h_f5)/(h2-h_f5);\n",
      "W_T = (h1-h2) + (1-m)*(h2-h3);\n",
      "Q1 = h1-h_f6;\n",
      "\n",
      "n_cycle = W_T/Q1;\n",
      "print (\"(i) Efficiency of cycle  = %.3f\")% (n_cycle)\n",
      "\n",
      "SR = 3600/W_T; \t\t\t#Steam rate\n",
      "print (\"Steam rate  = %.3f\")% (SR), (\"kg/kWh\")\n",
      "\n",
      "\n",
      "T_m1 = (h1-h_f7)/(s1-s7);\n",
      "\n",
      "T_m1r = (h1-h_f4)/(s1-s4); \t\t\t#Without regeneration\n",
      "\n",
      "dT_m1 = T_m1-T_m1r;\n",
      "print (\"Increase in T_m1 due to regeneration = %.3f\")% (dT_m1), (\"0C\")\n",
      "\n",
      "W_Tr = h1-h3; \t\t\t#Without regeneration\n",
      "SR1 = 3600/W_Tr; \t\t\t#Steam rate without regeneration\n",
      "dSR = SR-SR1; \n",
      "print (\"Increase in steam rate due to regeneration = %.3f\")% (dSR), (\"kg/kWh\")\n",
      "\n",
      "n_cycle1 = (h1-h3)/(h1-h_f4); \t\t\t#without regeneration\n",
      "dn_cycle = n_cycle-n_cycle1;\n",
      "print (\"Increase in cycle efficiency due to regeneration %.3f\")% (dn_cycle*100), (\"%\")\n"
     ],
     "language": "python",
     "metadata": {},
     "outputs": [
      {
       "output_type": "stream",
       "stream": "stdout",
       "text": [
        "(i) Efficiency of cycle  = 0.361\n",
        "Steam rate  = 3.852 kg/kWh\n",
        "Increase in T_m1 due to regeneration = 27.405 0C\n",
        "Increase in steam rate due to regeneration = 0.385 kg/kWh\n",
        "Increase in cycle efficiency due to regeneration 1.902 %\n"
       ]
      }
     ],
     "prompt_number": 13
    },
    {
     "cell_type": "heading",
     "level": 3,
     "metadata": {},
     "source": [
      "Example 12.14 Page no : 567"
     ]
    },
    {
     "cell_type": "code",
     "collapsed": false,
     "input": [
      "\n",
      "# Variables\n",
      "#At 3 bar\n",
      "t_s1 = 133.5; \t\t\t#0C\n",
      "h_f1 = 561.4; \t\t\t#kJ/kg\n",
      "\n",
      "#At 0.04 bar\n",
      "t_s2 = 29.; \t\t\t#0C\n",
      "h_f2 = 121.5; \t\t\t#0C\n",
      "\n",
      "h0 = 3231.; \t\t\t#kJ/kg\n",
      "h1 = 2700.; \t\t\t#kJ/kg\n",
      "h2 = 2085.; \t\t\t#kJ/kg\n",
      "\n",
      "t1 = 130.; \t\t\t#0C\n",
      "t2 = 27.; \t\t\t#0C\n",
      "c = 4.186;\n",
      "\n",
      "# Calculations and Results\n",
      "print (\"(i) Mass of steam used\")\n",
      "m1 = c*(t1-t2)/(h1-h_f2);\n",
      "print (\"m1 = %.3f\")% (m1), (\"kg\")\n",
      "\n",
      "print (\"(ii) Thermal efficiency of the cycle\")\n",
      "W = (h0-h1)+(1-m1)*(h1-h2);\n",
      "Q = h0-c*t1;\n",
      "\n",
      "n_thermal = W/Q;\n",
      "print (\"n_thermal = %.3f\")% (n_thermal)\n"
     ],
     "language": "python",
     "metadata": {},
     "outputs": [
      {
       "output_type": "stream",
       "stream": "stdout",
       "text": [
        "(i) Mass of steam used\n",
        "m1 = 0.167 kg\n",
        "(ii) Thermal efficiency of the cycle\n",
        "n_thermal = 0.388\n"
       ]
      }
     ],
     "prompt_number": 14
    },
    {
     "cell_type": "heading",
     "level": 3,
     "metadata": {},
     "source": [
      "Example 12.15 Page no : 569"
     ]
    },
    {
     "cell_type": "code",
     "collapsed": false,
     "input": [
      "# Variables\n",
      "h0 = 3115.3; \t\t\t#kJ/kg\n",
      "h1 = 2720.; \t\t\t#kJ/kg\n",
      "h2 = 2450.; \t\t\t#kJ/kg\n",
      "h3 = 2120.; \t\t\t#kJ/kg\n",
      "\n",
      "h_f1 = 640.1; \t\t\t#kJ/kg\n",
      "h_f2 = 417.5; \t\t\t#kJ/kg\n",
      "h_f3 = 173.9; \t\t\t#kJ/kg\n",
      "\n",
      "# Calculations and Results\n",
      "m1 = (h_f1-h_f2)/(h1-h_f1);\n",
      "print (\"m1 = %.3f\")% (m1), (\"kJ/kg\")\n",
      "\n",
      "m2 = ((h_f2-h_f3)-m1*(h_f1-h_f3))/(h2-h_f3);\n",
      "print (\"m2 = %.3f\")% (m2), (\"kJ/kg\")\n",
      "\n",
      "W = h0-h1 + (1-m1)*(h1-h2) + (1-m1-m2)*(h2-h3);\n",
      "Q = h0-h_f1;\n",
      "\n",
      "n = W/Q;\n",
      "print (\"Thermal Efficiency of the cycle = %.3f\")% (n)\n"
     ],
     "language": "python",
     "metadata": {},
     "outputs": [
      {
       "output_type": "stream",
       "stream": "stdout",
       "text": [
        "m1 = 0.107 kJ/kg\n",
        "m2 = 0.085 kJ/kg\n",
        "Thermal Efficiency of the cycle = 0.365\n"
       ]
      }
     ],
     "prompt_number": 15
    },
    {
     "cell_type": "heading",
     "level": 3,
     "metadata": {},
     "source": [
      "Example 12.16 Page no : 570"
     ]
    },
    {
     "cell_type": "code",
     "collapsed": false,
     "input": [
      "# Variables\n",
      "h0 = 2905.; \t\t\t#kJ/kg\n",
      "h1 = 2600.; \t\t\t#kJ/kg\n",
      "h2 = 2430.; \t\t\t#kJ/kg\n",
      "h3 = 2210.; \t\t\t#kJ/kg\n",
      "h4 = 2000.; \t\t\t#kJ/kg\n",
      "\n",
      "h_f1 = 640.1; \t\t\t#kJ/kg\n",
      "h_f2 = 467.1; \t\t\t#kJ/kg\n",
      "h_f3 = 289.3; \t\t\t#kJ/kg\n",
      "h_f4 = 137.8; \t\t\t#kJ/kg\n",
      "\n",
      "# Calculations and Results\n",
      "print (\"(i) Mass of bled steam\")\n",
      "m1 = (h_f1-h_f2)/(h1-h_f1);\n",
      "print (\"m1 = %3f\")% (m1), (\"kJ/kg\")\n",
      "\n",
      "m2 = ((h_f2-h_f3) - (m1*(h_f1-h_f2)))/(h2-h_f2);\n",
      "print (\"m2 = %.3f\")% (m2), (\"kJ/kg\")\n",
      "\n",
      "m3 = ((h_f3-h_f4)-(m1+m2)*(h_f2-h_f4))/(h3-h_f4);\n",
      "print (\"m3 = %.3f\")% (m3), (\"kJ/kg\")\n",
      "\n",
      "W = (h0-h1) + (1-m1)*(h1-h2)+(1-m1-m2)*(h2-h3) + (1-m1-m2-m3)*(h3-h4);\n",
      "Q = h0-h_f1;\n",
      "\n",
      "n_thermal = W/Q;\n",
      "print (\"(ii) Thermal efficiency of the cycle = %.3f\")%(n_thermal)\n",
      "\n",
      "n_rankine = (h0-h4)/(h0-h_f4);\n",
      "print (\"(iii) Thermal efficiency of Rankine cycle  = %.3f\")% (n_rankine)\n",
      "\n",
      "gain = (n_thermal-n_rankine)/(n_thermal);\n",
      "print (\"(iv) Theoretical gain due to regenerative feed heating  = %.3f\")%(gain)\n",
      "\n",
      "S1 = 3600./W;\n",
      "print (\"(v) Steam consumption with regenerative feed heating  = %.3f\")% (S1), (\"kg/kWh\")\n",
      "\n",
      "S2 = 3600./(h0-h4);\n",
      "print (\"Steam consumption without regenerative feed heating  = %.3f\")% (S2), (\"kg/kWh\")\n",
      "\n",
      "quantity1 = S1*(1-m1-m2-m3)*50000;\n",
      "print (\"(vi) Quantity of steam passing through the last stage of a 50000 kW turbine with \\\n",
      "regenerative feed-heating  = %.3f\")%(quantity1), (\"kg/h\")\n",
      "\n",
      "quantity2 = S2*50000;\n",
      "print (\"quantity of steam without regeneration  = %.3f\")% (quantity2), (\"kg/h\")\n"
     ],
     "language": "python",
     "metadata": {},
     "outputs": [
      {
       "output_type": "stream",
       "stream": "stdout",
       "text": [
        "(i) Mass of bled steam\n",
        "m1 = 0.088270 kJ/kg\n",
        "m2 = 0.083 kJ/kg\n",
        "m3 = 0.046 kJ/kg\n",
        "(ii) Thermal efficiency of the cycle = 0.356\n",
        "(iii) Thermal efficiency of Rankine cycle  = 0.327\n",
        "(iv) Theoretical gain due to regenerative feed heating  = 0.082\n",
        "(v) Steam consumption with regenerative feed heating  = 4.462 kg/kWh\n",
        "Steam consumption without regenerative feed heating  = 3.978 kg/kWh\n",
        "(vi) Quantity of steam passing through the last stage of a 50000 kW turbine with regenerative feed-heating  = 174693.345 kg/h\n",
        "quantity of steam without regeneration  = 198895.028 kg/h\n"
       ]
      }
     ],
     "prompt_number": 16
    },
    {
     "cell_type": "heading",
     "level": 3,
     "metadata": {},
     "source": [
      "Example 12.17 Page no : 573"
     ]
    },
    {
     "cell_type": "code",
     "collapsed": false,
     "input": [
      "# Variables\n",
      "h1 = 3460.; \t\t\t#kJ/kg\n",
      "h2 = 3460.; \t\t\t#kJ/kg\n",
      "h3 = 3111.5; \t\t\t#kJ/kg\n",
      "h4 = 3585.; \t\t\t#kJ/kg\n",
      "h5 = 3207.; \t\t\t#kJ/kg\n",
      "h6 = 2466.; \t\t\t#kJ/kg\n",
      "h7 = 137.8; \t\t\t#kJ/kg\n",
      "h8 = 962.; \t\t\t    #kJ/kg\n",
      "h9 = 670.4; \t\t\t#kJ/kg\n",
      "h10 = 962.; \t\t\t#kJ/kg\n",
      "\n",
      "p1 = 100.; \t\t\t#bar\n",
      "p2 = 95.; \t\t\t#bar\n",
      "p3 = 25.; \t\t\t#bar\n",
      "p4 = 22.; \t\t\t#bar\n",
      "p5 = 6.; \t\t\t#bar\n",
      "p6 = 0.05; \t\t\t#bar\n",
      "n_mech = 0.9;\n",
      "n_gen = 0.96;\n",
      "n_boiler = 0.9;\n",
      "\n",
      "# Calculations\n",
      "P = 120.*10**3; \t\t\t#kW\n",
      "m1 = (h10-h9)/(h3-h8);\n",
      "m2 = (h9-m1*h8-(1-m1)*h7)/(h5-h7);\n",
      "W_IP = (1-m1-m2)*(p5-p6)*0.001*10**2;\n",
      "W_HP = (p1-p5)*0.001*10**2;\n",
      "W_total = (W_IP+W_HP)/n_mech;\n",
      "W_indicated = (h2-h3) + (1-m1)*(h4-h5) + (1-m1-m2)*(h5-h6);\n",
      "Output = (W_indicated - W_total)*n_mech*n_gen; \t\t\t#net electrical output\n",
      "rate = P*3600/Output;\n",
      "\n",
      "amt1 = m1*rate; \t\t\t#Amounts of bled off, surface(high pressure) heater\n",
      "\n",
      "# Results\n",
      "print (\"Amounts of bled off, surface(high pressure) heater  = %.3f\")%(amt1),(\"kg/h\")\n",
      "\n",
      "amt2 = m2*rate; \t\t\t#Amounts of bled off, surface(low pressure) heater\n",
      "print (\"Amounts of bled off, surface(low pressure) heater %.3f\")% (amt2), (\"kg/h\")\n",
      "\n",
      "\n",
      "Q_boiler = (h1-h10)/n_boiler;\n",
      "Q_reheater = (h4-h3)/n_boiler;\n",
      "\n",
      "n_overall = Output/(Q_boiler+Q_reheater)*100;\n",
      "print (\"(iii)Overall thermal efficiency  = %.3f\")% (n_overall), (\"%\")\n",
      "\n",
      "\n",
      "ssc = rate/P; \t\t\t#Specific steam consumption\n",
      "print (\"(iv) Specific steam consumption  = %.3f\")% (ssc), (\"kg/kWh\")\n"
     ],
     "language": "python",
     "metadata": {},
     "outputs": [
      {
       "output_type": "stream",
       "stream": "stdout",
       "text": [
        "Amounts of bled off, surface(high pressure) heater  = 56375.368 kg/h\n",
        "Amounts of bled off, surface(low pressure) heater 56974.301 kg/h\n",
        "(iii)Overall thermal efficiency  = 31.486 %\n",
        "(iv) Specific steam consumption  = 3.463 kg/kWh\n"
       ]
      }
     ],
     "prompt_number": 3
    },
    {
     "cell_type": "heading",
     "level": 3,
     "metadata": {},
     "source": [
      "Example 12.18 Page no : 579"
     ]
    },
    {
     "cell_type": "code",
     "collapsed": false,
     "input": [
      "# Variables\n",
      "p1 = 15.; \t\t\t#bar\n",
      "p2 = 4.; \t\t\t#bar\n",
      "p4 = 0.1; \t\t\t#bar\n",
      "h1 = 2920.; \t\t\t#kJ/kg\n",
      "h2 = 2660.; \t\t\t#kJ/kg\n",
      "h3 = 2960.; \t\t\t#kJ/kg\n",
      "h4 = 2335.; \t\t\t#kJ/kg\n",
      "\n",
      "# Calculations and Results\n",
      "W = h1-h2+h3-h4;\n",
      "print (\"work done per kg of steam\"), (W), (\"kJ/kg\")\n",
      "\n",
      "h_reheat = h3-h2;\n",
      "print (\"Amount of heat supplied during reheat  = \"), (h_reheat), (\"kJ/kg\")\n",
      "\n",
      "h_4a = 2125.;  \t\t\t#kJ/kg\n",
      "\n",
      "W1 = h1-h_4a;\n",
      "print (\"Work output without reheat  = \"), (W1), (\"kJ/kg\")\n"
     ],
     "language": "python",
     "metadata": {},
     "outputs": [
      {
       "output_type": "stream",
       "stream": "stdout",
       "text": [
        "work done per kg of steam 885.0 kJ/kg\n",
        "Amount of heat supplied during reheat  =  300.0 kJ/kg\n",
        "Work output without reheat  =  795.0 kJ/kg\n"
       ]
      }
     ],
     "prompt_number": 18
    },
    {
     "cell_type": "heading",
     "level": 3,
     "metadata": {},
     "source": [
      "Example 12.19 Page no : 580"
     ]
    },
    {
     "cell_type": "code",
     "collapsed": false,
     "input": [
      "# Variables\n",
      "h1 = 3450.; \t\t\t#kJ/kg\n",
      "h2 = 3050.; \t\t\t#kJ/kg\n",
      "h3 = 3560.; \t\t\t#kJ/kg\n",
      "h4 = 2300.; \t\t\t#kJ/kg\n",
      "\n",
      "h_f4 = 191.8; \t\t\t#kJ/kg\n",
      "\n",
      "# Calculations and Results\n",
      "#From mollier diagram\n",
      "x4 = 0.88;\n",
      "print (\"(i)Quality of steam at turbine exhaust  = \"), (x4)\n",
      "\n",
      "n_cycle = ((h1-h2) + (h3-h4))/((h1-h_f4) + (h3-h2));\n",
      "print (\"(ii) Cycle efficiency  = %.3f\")%(n_cycle)\n",
      "\n",
      "SR = 3600/((h1-h2) + (h3-h4));\n",
      "print (\"(iii) Steam rate in kg/kWh  = %.3f\")% (SR), (\"kg/kWh\")\n"
     ],
     "language": "python",
     "metadata": {},
     "outputs": [
      {
       "output_type": "stream",
       "stream": "stdout",
       "text": [
        "(i)Quality of steam at turbine exhaust  =  0.88\n",
        "(ii) Cycle efficiency  = 0.441\n",
        "(iii) Steam rate in kg/kWh  = 2.169 kg/kWh\n"
       ]
      }
     ],
     "prompt_number": 19
    },
    {
     "cell_type": "heading",
     "level": 3,
     "metadata": {},
     "source": [
      "Example 12.20 Page no : 581"
     ]
    },
    {
     "cell_type": "code",
     "collapsed": false,
     "input": [
      "# Variables\n",
      "h1 = 3250.; \t\t\t#kJ/kg\n",
      "h2 = 2170.; \t\t\t#kJ/kg\n",
      "h_f2 = 173.9; \t\t\t#kJ/kg\n",
      "\n",
      "# Calculations and Results\n",
      "W = h1-h2;\n",
      "Q = h1-h_f2;\n",
      "\n",
      "n_thermal = W/Q;\n",
      "print (\"Thermal effifciency = %.3f\")% (n_thermal);\n",
      "\n",
      "x2 = 0.83; \t\t\t#From mollier chart\n",
      "print (\"x2 = %.3f\")% (x2)\n",
      "\n",
      "\n",
      "print (\"Second case\")\n",
      "\n",
      "h1 = 3250.; \t\t\t#kJ/kg\n",
      "h2 = 2807.; \t\t\t#kJ/kg\n",
      "h3 = 3263.; \t\t\t#kJ/kg\n",
      "h4 = 2426.; \t\t\t#kJ/kg\n",
      "h_f4 = 173.9; \t\t\t#kJ/kg\n",
      "W = h1-h2+h3-h4;\n",
      "Q = h1-h_f4+h3-h2;\n",
      "\n",
      "n_thermal = W/Q;\n",
      "print (\"Thermal effifciency = %.3f\")% (n_thermal);\n",
      "\n",
      "x4 = 0.935; \t\t\t#From mollier chart\n",
      "print (\"x4 = %.3f\")% (x4)\n"
     ],
     "language": "python",
     "metadata": {},
     "outputs": [
      {
       "output_type": "stream",
       "stream": "stdout",
       "text": [
        "Thermal effifciency = 0.351\n",
        "x2 = 0.830\n",
        "Second case\n",
        "Thermal effifciency = 0.362\n",
        "x4 = 0.935\n"
       ]
      }
     ],
     "prompt_number": 20
    },
    {
     "cell_type": "heading",
     "level": 3,
     "metadata": {},
     "source": [
      "Example 12.21 Page no : 582"
     ]
    },
    {
     "cell_type": "code",
     "collapsed": false,
     "input": [
      "print (\"Part (c)\")\n",
      "\n",
      "# Variables\n",
      "h1 = 3580.; \t\t\t#kJ/kg\n",
      "h2 = 3140.; \t\t\t#kJ/kg\n",
      "h3 = 3675.; \t\t\t#kJ/kg\n",
      "h4 = 2335.; \t\t\t#kJ/kg\n",
      "h5 = 191.8; \t\t\t#kJ/kg\n",
      "\n",
      "# Calculations and Results\n",
      "P = 15.*10**3; \t\t\t#kW\n",
      "a = 0.104; \t\t\t#moisture content in exit from LP turbine\n",
      "\n",
      "p = 40.; \t\t\t#bar; From the mollier diagram\n",
      "print (\"(i)Reheat pressure = \"),  (p), (\"bar\")\n",
      "\n",
      "\n",
      "W = h1-h2+h3-h4;\n",
      "Q = h1-h5+h3-h2;\n",
      "n_th = W/Q*100; \n",
      "print (\"(ii) Thermal efficiency\"),(\"n_th = %.3f\")% (n_th), (\"%\")\n",
      "\n",
      "sc = P/W;\t\t\t#steam consumption\n",
      "ssc = sc*3600./P; \t\t\t#specific steam consumption\n",
      "print (\"(iii)Specific steam consumption = %.3f\")% (ssc), (\"kg/kWh\")\n",
      "\n",
      "rate = sc*0.15;\n",
      "print (\"(iv) Rate of pump work  = %.3f\")%(rate),(\"kW\")\n",
      "\n"
     ],
     "language": "python",
     "metadata": {},
     "outputs": [
      {
       "output_type": "stream",
       "stream": "stdout",
       "text": [
        "Part (c)\n",
        "(i)Reheat pressure =  40.0 bar\n",
        "(ii) Thermal efficiency n_th = 45.371 %\n",
        "(iii)Specific steam consumption = 2.022 kg/kWh\n",
        "(iv) Rate of pump work  = 1.264 kW\n"
       ]
      }
     ],
     "prompt_number": 7
    },
    {
     "cell_type": "heading",
     "level": 3,
     "metadata": {},
     "source": [
      "Example 12.22 Page no : 588"
     ]
    },
    {
     "cell_type": "code",
     "collapsed": false,
     "input": [
      "# Variables\n",
      "h_l = 355.988; \t\t\t#kJ/kg\n",
      "s_l = 0.5397; \t\t\t#kJ/kg K \n",
      "s_f = 0.0808; \t\t\t#kJ/kg K\n",
      "s_g = 0.6925; \t\t\t#kJ/kg K\n",
      "h_f = 29.98; \t\t\t#kJ/kg\n",
      "h_g = 329.85; \t\t\t#kJ/kg\n",
      "p1 = 4.; \t\t\t    #bar\n",
      "p2 = 0.04; \t\t\t    #bar\n",
      "v_f2 = 76.5*10**(-6); \t#m**3/kg\n",
      "h1 = 2789.9; \t\t\t#kJ/kg\n",
      "s1 = 6.4406; \t\t\t#kJ/kg\n",
      "h_f = 121.5; \t\t\t#kJ/kg\n",
      "h_fg = 2432.9; \t\t\t#kJ/kg\n",
      "s_f = 0.432; \t\t\t#kJ/kg K\n",
      "s_fg2 = 8.052; \t\t\t#kJ/kg K\n",
      "p4 = 15; \t\t\t    #bar\n",
      "p3 = 0.04; \t\t\t    #bar\n",
      "v_f = 0.0001; \t\t\t#kJ/kg K\n",
      "h_f4 = 123; \t\t\t#kJ/kg\n",
      "h_m = 254.88; \t\t\t#kJ/kg\n",
      "h_fn = 29.98; \t\t\t#kJ/kg\n",
      "h_fk = 29.988; \t\t\t#kJ/kg\n",
      "\n",
      "# Calculations and Results\n",
      "m = (h1-h_f4)/(h_m-h_fn); \t#The amount of mercury circulating for 1kg of steam in the bottom cycle\n",
      "Q1 = m*(h_l-h_fk); \t\t\t#total\n",
      "x2 = (s1-s_f)/(s_fg2);\n",
      "h2 = h_f+x2*h_fg;\n",
      "W_T = m*(h_l-h_m)+(h1-h2); \t\t#total\n",
      "n_overall = W_T/Q1; \t\t\t#W_P may be neglected\n",
      "print (\"(i) Overall thermal efficiency \"),(\" = %.3f\")% (n_overall)\n",
      "\n",
      "A = 48000.; \t\t\t#kg/h\n",
      "m_Hg = m*A;\n",
      "print (\"(ii) Flow through mercury turbine = %.3f\")% (m_Hg), (\"kg/h\")\n",
      "\n",
      "\n",
      "W_total = A*W_T/3600; \n",
      "print (\"(iii) Useful work in binary vapour cycle = %.3f\")% (W_total), (\"kW\")\n",
      "\n",
      "\n",
      "\n",
      "n_Hg = 0.84;\n",
      "n_steam = 0.88;\n",
      "\n",
      "W_Hg = n_Hg*101.1;\n",
      "h_m1 = h_l-W_Hg;\n",
      "m1 = (h1-h_f4)/(h_m1-h_fn);\n",
      "\n",
      "h_g = 3037.6; \t\t\t#kJ/kg\n",
      "s_g = 6.918; \t\t\t#kJ/kg\n",
      "s_f2 = 0.423; \t\t\t#kJ/kg K\n",
      "s_fg2 = 8.052; \t\t\t#kJ/kg K\n",
      "\n",
      "Q1 = m1*(h_l - h_fk) + (h_g-h1);\n",
      "\n",
      "x2 = (s_g-s_f2)/s_fg2;\n",
      "h2 = h_f+x2*h_fg;\n",
      "\n",
      "W_steam = n_steam*(h_g-h2);\n",
      "\n",
      "W_total = m1*W_Hg + W_steam;\n",
      "\n",
      "n_overall = W_total/Q1;\n",
      "print (\"(iv) Overall efficiency under new conditions \"),(\"= %.3f\")% (n_overall)\n"
     ],
     "language": "python",
     "metadata": {},
     "outputs": [
      {
       "output_type": "stream",
       "stream": "stdout",
       "text": [
        "(i) Overall thermal efficiency   = 0.531\n",
        "(ii) Flow through mercury turbine = 569191.641 kg/h\n",
        "(iii) Useful work in binary vapour cycle = 27358.201 kW\n",
        "(iv) Overall efficiency under new conditions  = 0.462\n"
       ]
      }
     ],
     "prompt_number": 10
    },
    {
     "cell_type": "heading",
     "level": 3,
     "metadata": {},
     "source": [
      "Example 12.23 Page no : 591"
     ]
    },
    {
     "cell_type": "code",
     "collapsed": false,
     "input": [
      "# Variables\n",
      "p1 = 60.; \t\t\t#bar\n",
      "t1 = 450.; \t\t\t#0C\n",
      "p2 = 3.; \t\t\t#bar\n",
      "p3 = 0.07; \t\t\t#bar; p3 = (760-707.5)/760*1.013\n",
      "n_turbine = 0.87;\n",
      "n_boiler = 0.86;\n",
      "n_alt = 0.94;\n",
      "n_mech = 0.97;\n",
      "P = 22500.; \t\t\t#kW\n",
      "h1 = 3300.; \t\t\t#kJ/kg\n",
      "h2 = 2607.; \t\t\t#kJ/kg\n",
      "\n",
      "# Calculations and Results\n",
      "h2a = h1-n_turbine*(h1-h2);\n",
      "h3 = 2165.; \t\t\t#kJ/kg\n",
      "h3a = h2a-n_turbine*(h2a-h3);\n",
      "h_f4 = 163.4; \t\t\t#kJ/kg\n",
      "h_f5 = 561.4; \t\t\t#kJ/kg\n",
      "\n",
      "print (\"(i) The steam bled per kg of steam supplied to the turbine\")\n",
      "m = (h_f5-h_f4)/(h2a-h_f4);\n",
      "print (\"m = %.3f\")% (m), (\"kJ/kg\")\n",
      "\n",
      "print (\"(ii) Steam generated per hour\")\n",
      "W = (h1-h2a) + (1-m)*(h2a-h3a); \t\t\t#Work developed per kg of steam in the turbine\n",
      "W_act = P/n_alt/n_mech; \t\t\t#actual work \n",
      "\n",
      "steam = W_act/W*3600./1000; \t\t\t#tonnes/h\n",
      "print (\"Steam generated = %.3f\")%(steam), (\"tonnes/h\")\n",
      "\n",
      "print (\"(iii) The overall efficiency of the plant\")\n",
      "P_avail = P*(1-0.09); \t\t\t#Net power available deducting pump power\n",
      "Q = steam*1000*(h1-h_f5)/n_boiler/3600.; \t\t\t#kW\n",
      "\n",
      "n_overall = P_avail/Q\n",
      "print (\"n_overall = %.3f\")% (n_overall)\n"
     ],
     "language": "python",
     "metadata": {},
     "outputs": [
      {
       "output_type": "stream",
       "stream": "stdout",
       "text": [
        "(i) The steam bled per kg of steam supplied to the turbine\n",
        "m = 0.157 kJ/kg\n",
        "(ii) Steam generated per hour\n",
        "Steam generated = 89.451 tonnes/h\n",
        "(iii) The overall efficiency of the plant\n",
        "n_overall = 0.259\n"
       ]
      }
     ],
     "prompt_number": 23
    },
    {
     "cell_type": "heading",
     "level": 3,
     "metadata": {},
     "source": [
      "Example 12.24 Page no : 593"
     ]
    },
    {
     "cell_type": "code",
     "collapsed": false,
     "input": [
      "# Variables\n",
      "t1 = 350.; \t\t\t#0C\n",
      "t_s = 350.; \t\t#0C\n",
      "p2 = 7.; \t\t\t#bar\n",
      "p3 = 7.; \t\t\t#bar\n",
      "p4 = 0.4; \t\t\t#bar\n",
      "t3 = 350.; \t\t\t#0C\n",
      "h1 = 2985.; \t\t\t#kJ/kg\n",
      "h2 = 2520.; \t\t\t#kJ/kg\n",
      "h3 = 3170.; \t\t\t#kJ/kg\n",
      "h4 = 2555.; \t\t\t#kJ/kg\n",
      "h_f2 = 697.1; \t\t\t#kJ/kg\n",
      "h_f4 = 317.7; \t\t\t#kJ/kg\n",
      "\n",
      "\n",
      "# Calculations and Results\n",
      "P = 110.*10**3; \t\t\t#kW\n",
      "print (\"(i) The ratio of steam bled to steam generated\")\n",
      "m = (h_f2-h_f4)/(h2-h_f4);\n",
      "ratio = 1/m;\n",
      "print (\"ratio = %.3f\")% (ratio)\n",
      "\n",
      "m_s = P/(h1-h2+(1-m)*(h3-h4))*3600/1000.; \t\t\t#tonnes/hour\n",
      "print (\"(ii) The boiler generating capacity  = %.3f\")% (m_s), (\"tonnes/hour\")\n",
      "\n",
      "n_thermal = ((h1-h2) + (1-m)*(h3-h4))/((h1-h_f2)+(1-m)*(h3-h2));\n",
      "print (\"(iii) Thermal efficiency of the cycle  = %.3f\")%(n_thermal)\n"
     ],
     "language": "python",
     "metadata": {},
     "outputs": [
      {
       "output_type": "stream",
       "stream": "stdout",
       "text": [
        "(i) The ratio of steam bled to steam generated\n",
        "ratio = 5.805\n",
        "(ii) The boiler generating capacity  = 406.549 tonnes/hour\n",
        "(iii) Thermal efficiency of the cycle  = 0.345\n"
       ]
      }
     ],
     "prompt_number": 24
    },
    {
     "cell_type": "heading",
     "level": 3,
     "metadata": {},
     "source": [
      "Example 12.25 Page no : 595"
     ]
    },
    {
     "cell_type": "code",
     "collapsed": false,
     "input": [
      "# Variables\n",
      "h1 = 3315.; \t\t\t#kJ/kg\n",
      "h2 = 2716.; \t\t\t#kJ/kg\n",
      "h3 = 3165.; \t\t\t#kJ/kg\n",
      "h4 = 2236.; \t\t\t#kJ/kg\n",
      "h_f2 = 697.1;\t\t\t#kJ/kg\n",
      "h_f6 = h_f2;\n",
      "h_f4 = 111.9; \t\t\t#kJ/kg\n",
      "h_f5 = h_f4;\n",
      "\n",
      "# Calculations and Results\n",
      "m = (h_f2-h_f4)/(h2-h_f4);\n",
      "print (\"(i) Amount of steam bled off for feed heating  = %.3f\")% (m), (\"steam bled off is 22.5% of steam generated by the boiler.\")\n",
      "\n",
      "\n",
      "amt = 100-m*100;\n",
      "print (\"(ii) Amount of steam supplied to L.P. turbine  = %.3f\")%(amt), (\"77.5% of the steam generated by the boiler.\")\n",
      "\n",
      "print (\"(iii) Heat supplied in the boiler and reheater\")\n",
      "Q_boiler = h1-h_f6;\n",
      "print (\"Q_boiler = %.3f\")% (Q_boiler), (\"kJ/kg\")\n",
      "\n",
      "Q_reheater = (1-m)*(h3-h2);\n",
      "print (\"Q_reheater = %.3f\")% (Q_reheater), (\"kJ/kg\")\n",
      "\n",
      "Qs = Q_boiler+Q_reheater;\n",
      "\n",
      "print (\"(iv) Cycle efficiency\")\n",
      "W = h1-h2 + (1-m)*(h3-h4);\n",
      "\n",
      "n_cycle = W/Qs;\n",
      "print (\"n_cycle = %.3f\")% (n_cycle)\n",
      "\n",
      "print (\"(v) Power developed by the system\")\n",
      "ms = 50.; \t\t\t#kg/s\n",
      "Power = ms*W/1000; \t\t\t#MW\n",
      "print (\"Power = %.3f\")% (Power), (\"MW\")\n"
     ],
     "language": "python",
     "metadata": {},
     "outputs": [
      {
       "output_type": "stream",
       "stream": "stdout",
       "text": [
        "(i) Amount of steam bled off for feed heating  = 0.225 steam bled off is 22.5% of steam generated by the boiler.\n",
        "(ii) Amount of steam supplied to L.P. turbine  = 77.528 77.5% of the steam generated by the boiler.\n",
        "(iii) Heat supplied in the boiler and reheater\n",
        "Q_boiler = 2617.900 kJ/kg\n",
        "Q_reheater = 348.100 kJ/kg\n",
        "(iv) Cycle efficiency\n",
        "n_cycle = 0.445\n",
        "(v) Power developed by the system\n",
        "Power = 65.962 MW\n"
       ]
      }
     ],
     "prompt_number": 25
    },
    {
     "cell_type": "heading",
     "level": 3,
     "metadata": {},
     "source": [
      "Example 12.26 Page no : 597"
     ]
    },
    {
     "cell_type": "code",
     "collapsed": false,
     "input": [
      "# Variables\n",
      "h1  =  3578.; \t\t\t#kJ/kg\n",
      "h2  =  3140.; \t\t\t#kJ/kg\n",
      "h3  =  3678.; \t\t\t#kJ/kg\n",
      "h4  =  3000.; \t\t\t#kJ/kg\n",
      "h5  =  2330.; \t\t\t#kJ/kg\n",
      "h_f1 = 1611.; \t\t\t#kJ/kg\n",
      "h_f2 = 1087.4; \t\t\t#kJ/kg\n",
      "h_f4 = 640.1; \t\t\t#kJ/kg\n",
      "h_f5 = 191.8; \t\t\t#kJ/kg\n",
      "h_f6 = h_f5;\n",
      "\n",
      "# Calculations and Results\n",
      "print (\"(i) Fraction of steam extracted from the turbines at each bled heater  = \")\n",
      "\n",
      "m1 = (h_f2-h_f4)/(h2-h_f4);\n",
      "print (\"closed feed heater %.3f\")% (m1), (\"kg/kg of steam supplied by the boiler\")\n",
      "\n",
      "\n",
      "m2 = (1-m1)*(h_f4-h_f5)/(h4-h_f6);\n",
      "print (\"open feed heater %.3f\")% (m2), (\"kg/kg of steam supplied by the boiler\")\n",
      "\n",
      "print (\"(ii) Thermal efficiency of the system\")\n",
      "\n",
      "W_total = (h1-h2) + (1-m1)*(h3-h4) + (1-m1-m2)*(h4-h5);\n",
      "p1 = 150.; \t\t\t#bar\n",
      "p2 = 40.; \t\t\t#bar\n",
      "p4 = 5.; \t\t\t#bar\n",
      "p5 = 0.1; \t\t\t#bar\n",
      "v_w1 = 1./1000; \t\t\t#m**3/kg\n",
      "v_w2 = v_w1;\n",
      "v_w3 = v_w1;\n",
      "W_P1 = v_w1*(1-m1-m2)*(p4-p5)*100; \t\t#kJ/kg\n",
      "W_P2 = v_w2*(1-m1)*(p1-p4)*100; \t\t#kJ/kg\n",
      "W_P3 = v_w3*m1*(p1-p2)*100; \t\t\t#kJ/kg\n",
      "W_P = W_P1+W_P2+W_P3; \t\t\t        #Total pump work\n",
      "W_net = W_total-W_P;\n",
      "Q = (1-m1)*h_f1 +m1*(h_f1); \t\t\t#Heat of feed water extering the boiler\n",
      "Qs1 = h1-Q;\n",
      "Qs2 = (1-m1)*(h3-h2);\n",
      "Qst = Qs1+Qs2;\n",
      "\n",
      "n_thermal = W_net/Qst*100;\n",
      "print (\"n_thermal = %.3f\")% (n_thermal), (\"%\")\n"
     ],
     "language": "python",
     "metadata": {},
     "outputs": [
      {
       "output_type": "stream",
       "stream": "stdout",
       "text": [
        "(i) Fraction of steam extracted from the turbines at each bled heater  = \n",
        "closed feed heater 0.179 kg/kg of steam supplied by the boiler\n",
        "open feed heater 0.131 kg/kg of steam supplied by the boiler\n",
        "(ii) Thermal efficiency of the system\n",
        "n_thermal = 59.898 %\n"
       ]
      }
     ],
     "prompt_number": 26
    },
    {
     "cell_type": "heading",
     "level": 3,
     "metadata": {},
     "source": [
      "Example 12.27 Page no : 599"
     ]
    },
    {
     "cell_type": "code",
     "collapsed": false,
     "input": [
      "# Variables\n",
      "\n",
      "p_min = 10.; \t\t\t#bar\n",
      "print (\"(i) The minimum pressure at which bleeding is necessary = \"), (p_min), (\"bar\")\n",
      "h1 = 3285.; \t\t\t#kJ/kg\n",
      "h2 = 2980.; \t\t\t#kJ/kg\n",
      "h3 = 3280.; \t\t\t#kJ/kg\n",
      "h4a = 3072.5; \t\t\t#kJ/kg\n",
      "h5 = 2210.; \t\t\t#kJ/kg\n",
      "h5a = 2356.6; \t\t\t#kJ/kg\n",
      "h_f6 = 163.4; \t\t\t#kJ/kg\n",
      "h_f8 = 762.6; \t\t\t#kJ/kg\n",
      "h2a = 3045.6; \t\t\t#kJ/kg\n",
      "\n",
      "# Calculations and Results\n",
      "m = (h_f8-h_f6)/(h4a-h_f6);\n",
      "print (\"(ii) The quantity of steam bled per kg of flow at the turbine inlet  = %.3f\")% (m), (\"kg of steam flow at turbine inlet.\")\n",
      "\n",
      "n_cycle = ((h1-h2a)+(h3-h4a)+(1-m)*(h4a-h5a))/((h1-h_f8) + (h3 - h2a))*100;\n",
      "print (\"(iii) Cycle efficiency  = %.3f\")% (n_cycle), (\"%\")\n"
     ],
     "language": "python",
     "metadata": {},
     "outputs": [
      {
       "output_type": "stream",
       "stream": "stdout",
       "text": [
        "(i) The minimum pressure at which bleeding is necessary =  10.0 bar\n",
        "(ii) The quantity of steam bled per kg of flow at the turbine inlet  = 0.206 kg of steam flow at turbine inlet.\n",
        "(iii) Cycle efficiency  = 36.830 %\n"
       ]
      }
     ],
     "prompt_number": 27
    }
   ],
   "metadata": {}
  }
 ]
}