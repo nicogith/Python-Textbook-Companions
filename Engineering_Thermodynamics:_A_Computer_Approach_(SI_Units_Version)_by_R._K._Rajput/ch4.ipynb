{
 "metadata": {
  "name": ""
 },
 "nbformat": 3,
 "nbformat_minor": 0,
 "worksheets": [
  {
   "cells": [
    {
     "cell_type": "heading",
     "level": 1,
     "metadata": {},
     "source": [
      "Chapter 4 : First Law of Thermodynamics"
     ]
    },
    {
     "cell_type": "heading",
     "level": 3,
     "metadata": {},
     "source": [
      "Example 4.1 page no : 119"
     ]
    },
    {
     "cell_type": "code",
     "collapsed": false,
     "input": [
      "# Variables\n",
      "Q = -50.; \t\t\t#kJ/kg\n",
      "W = -100.; \t\t\t#kJ/kg\n",
      "\n",
      "# Calculations\n",
      "dU = Q-W;\n",
      "\n",
      "# Results\n",
      "print (\"gain in internal energy  =  \"),(dU),(\"kJ/kg\")\n"
     ],
     "language": "python",
     "metadata": {},
     "outputs": [
      {
       "output_type": "stream",
       "stream": "stdout",
       "text": [
        "gain in internal energy  =   50.0 kJ/kg\n"
       ]
      }
     ],
     "prompt_number": 1
    },
    {
     "cell_type": "heading",
     "level": 3,
     "metadata": {},
     "source": [
      "Example 4.2 page no : 119"
     ]
    },
    {
     "cell_type": "code",
     "collapsed": false,
     "input": [
      "# Variables\n",
      "u1 = 450.; \t\t\t#kJ/kg\n",
      "u2 = 220; \t\t\t#kJ/kg\n",
      "W = 120; \t\t\t#kJ/kg\n",
      "\n",
      "# Calculations\n",
      "Q = (u2-u1) + W;\n",
      "\n",
      "# Results\n",
      "print (\"Heat rejected by air  = \"),(-Q),(\"kJ/kg\")\n"
     ],
     "language": "python",
     "metadata": {},
     "outputs": [
      {
       "output_type": "stream",
       "stream": "stdout",
       "text": [
        "Heat rejected by air  =  110.0 kJ/kg\n"
       ]
      }
     ],
     "prompt_number": 2
    },
    {
     "cell_type": "heading",
     "level": 3,
     "metadata": {},
     "source": [
      "Example 4.3 page no : 119"
     ]
    },
    {
     "cell_type": "code",
     "collapsed": false,
     "input": [
      "# Variables\n",
      "m = 0.3; \t\t\t#kg\n",
      "cv = 0.75; \t\t\t#kJ/kg.K\n",
      "T1 = 313.; \t\t\t#K\n",
      "T2 = 433.; \t\t\t#K\n",
      "W = -30.; \t\t\t#kJ\n",
      "\n",
      "# Calculations\n",
      "dU = m*cv*(T2-T1);\n",
      "Q = dU + W;\n",
      "\n",
      "# Results\n",
      "print (\"Heat rejected during the process = \"),(-Q),(\"kJ\")\n"
     ],
     "language": "python",
     "metadata": {},
     "outputs": [
      {
       "output_type": "stream",
       "stream": "stdout",
       "text": [
        "Heat rejected during the process =  3.0 kJ\n"
       ]
      }
     ],
     "prompt_number": 3
    },
    {
     "cell_type": "heading",
     "level": 3,
     "metadata": {},
     "source": [
      "Example 4.4 page no : 120"
     ]
    },
    {
     "cell_type": "code",
     "collapsed": false,
     "input": [
      "# Variables\n",
      "p1 = 105.; \t\t\t#kPa\n",
      "V1 = 0.4;  \t\t\t#m**3\n",
      "p2 = p1;\n",
      "V2 = 0.20; \t\t\t#m**3\n",
      "Q = -42.5; \t\t\t#kJ\n",
      "\n",
      "# Calculations\n",
      "W = p1*(V2-V1);\n",
      "dU = Q-W;\n",
      "\n",
      "# Results\n",
      "print (\"change in internal energy  =  \"),(dU),(\"kJ\")\n"
     ],
     "language": "python",
     "metadata": {},
     "outputs": [
      {
       "output_type": "stream",
       "stream": "stdout",
       "text": [
        "change in internal energy  =   -21.5 kJ\n"
       ]
      }
     ],
     "prompt_number": 4
    },
    {
     "cell_type": "heading",
     "level": 3,
     "metadata": {},
     "source": [
      "Example 4.6  Page no :121"
     ]
    },
    {
     "cell_type": "code",
     "collapsed": false,
     "input": [
      "import math\n",
      "\n",
      "# Variables\n",
      "p1 = 10.**5         # Pa\n",
      "T1 = 25 + 273      # K\n",
      "p2 = 5 * 10**5     # Pa\n",
      "T2 = T1 \n",
      "\n",
      "# Calculations and Result\n",
      "print \"(i) For isothermal process :\"\n",
      "W12 = -p1 * (1.8)* math.log(p1/p2)\n",
      "print \"Work done on the air = %.3e kJ/kg.\"%W12\n",
      "\n",
      "print \"(ii) Since temperature is constant,\"\n",
      "print \"u2 \u2013 u1 = 0\"\n",
      "print \"Change in internal energy = zero.\"\n",
      "\n",
      "print \"(iii) Again,\"\n",
      "Q12 = 0 + W12\n",
      "print \"Heat rejected = %.3e kJ/kg.\"%Q12\n",
      "\n",
      "\n"
     ],
     "language": "python",
     "metadata": {},
     "outputs": [
      {
       "output_type": "stream",
       "stream": "stdout",
       "text": [
        "(i) For isothermal process :\n",
        "Work done on the air = 2.897e+05 kJ/kg.\n",
        "(ii) Since temperature is constant,\n",
        "u2 \u2013 u1 = 0\n",
        "Change in internal energy = zero.\n",
        "(iii) Again,\n",
        "Heat rejected = 2.897e+05 kJ/kg.\n"
       ]
      }
     ],
     "prompt_number": 10
    },
    {
     "cell_type": "heading",
     "level": 3,
     "metadata": {},
     "source": [
      "Example 4.7 page no : 122"
     ]
    },
    {
     "cell_type": "code",
     "collapsed": false,
     "input": [
      "# Variables\n",
      "W_12 = -82.; \t\t\t#kJ\n",
      "Q_12 = -45.; \t\t\t#kJ\n",
      "dU_12 = Q_12 - W_12;\n",
      "W_21 = 100.; \t\t\t#kJ\n",
      "dU_21 = -dU_12;\n",
      "\n",
      "# Calculations\n",
      "Q_21 = dU_21 + W_21;\n",
      "\n",
      "# Results\n",
      "print (\"Heat added to the system  =  \"),(Q_21),(\"kJ\")\n"
     ],
     "language": "python",
     "metadata": {},
     "outputs": [
      {
       "output_type": "stream",
       "stream": "stdout",
       "text": [
        "Heat added to the system  =   63.0 kJ\n"
       ]
      }
     ],
     "prompt_number": 5
    },
    {
     "cell_type": "heading",
     "level": 3,
     "metadata": {},
     "source": [
      "Example 4.8 page no : 123"
     ]
    },
    {
     "cell_type": "code",
     "collapsed": false,
     "input": [
      "# Variables\n",
      "Q2 = 9000.; \t\t\t#kJ\n",
      "Q1 = 3000.; \t\t\t#kJ\n",
      "Q = Q1-Q2; \n",
      "W = 0;\n",
      "\n",
      "# Calculations\n",
      "dU = W-Q;\n",
      "\n",
      "# Results\n",
      "print (\"Work done  =  \"),(W)\n",
      "\n",
      "print (\"Change in internal energy  =  \"),(dU),(\"kJ\")\n"
     ],
     "language": "python",
     "metadata": {},
     "outputs": [
      {
       "output_type": "stream",
       "stream": "stdout",
       "text": [
        "Work done  =   0\n",
        "Change in internal energy  =   6000.0 kJ\n"
       ]
      }
     ],
     "prompt_number": 6
    },
    {
     "cell_type": "heading",
     "level": 3,
     "metadata": {},
     "source": [
      "Example 4.9 page no : 124"
     ]
    },
    {
     "cell_type": "code",
     "collapsed": false,
     "input": [
      "# Variables\n",
      "m = 20.; \t\t\t#kg\n",
      "g = 9.81; \t\t\t#m/s**2\n",
      "z2 = 0.;\n",
      "z1 = 15.;\n",
      "\n",
      "# Calculations and Results\n",
      "print (\"(i) When the stone is about to enter the water\")\n",
      "Q = 0\n",
      "W = 0\n",
      "dU = 0\n",
      "PE = m*g*(z2-z1)\n",
      "KE = -PE\n",
      "print \"\u2206 PE = %.3f\"%KE,\"J\"\n",
      "\n",
      "print (\"(ii) When the stone dips into the math.tank and comes to rest\")\n",
      "Q = 0\n",
      "W = 0\n",
      "KE = 0\n",
      "PE = m*g*(z2-z1)\n",
      "dU = -PE\n",
      "print \"\u2206U = %.3f\"%dU\n",
      "\n",
      "print (\"(iii) When the water and stone come to their initial temperature\")\n",
      "W = 0\n",
      "KE = 0\n",
      "Q = -dU\n",
      "print \"Q = %.3f\"%Q\n"
     ],
     "language": "python",
     "metadata": {},
     "outputs": [
      {
       "output_type": "stream",
       "stream": "stdout",
       "text": [
        "(i) When the stone is about to enter the water\n",
        "\u2206 PE = 2943.000 J\n",
        "(ii) When the stone dips into the math.tank and comes to rest\n",
        "\u2206U = 2943.000\n",
        "(iii) When the water and stone come to their initial temperature\n",
        "Q = -2943.000\n"
       ]
      }
     ],
     "prompt_number": 5
    },
    {
     "cell_type": "heading",
     "level": 3,
     "metadata": {},
     "source": [
      "Example 4.10 page no : 125"
     ]
    },
    {
     "cell_type": "code",
     "collapsed": false,
     "input": [
      "# Variables\n",
      "Q_lqm = 168.; \t\t\t#kJ\n",
      "W_lqm = 64.; \t\t\t#kJ\n",
      "dU_lm = Q_lqm - W_lqm;\n",
      "W_lnm = 21.; \t\t\t#kJ\n",
      "W_ml = -42.; \t\t\t#kJ\n",
      "\n",
      "# Calculations and Results\n",
      "Q_lnm = dU_lm + W_lnm;\n",
      "print (\"(i)Q_lnm = \"),(Q_lnm), (\"kJ\")\n",
      "\n",
      "Q_ml = W_ml - dU_lm;\n",
      "print (\"(ii)Q_ml  =  \"),(Q_ml),(\"kJ\")\n",
      "\n",
      "W_ln = 21.; \t\t\t#kJ\n",
      "dU_ln = 84.; \t\t\t#kJ\n",
      "Q_ln = dU_ln + W_ln;\n",
      "Q_nm = Q_lnm-Q_ln;\n",
      "print (\"(iii)Q_nm  =  \"), (Q_nm), (\"kJ\")\n"
     ],
     "language": "python",
     "metadata": {},
     "outputs": [
      {
       "output_type": "stream",
       "stream": "stdout",
       "text": [
        "(i)Q_lnm =  125.0 kJ\n",
        "(ii)Q_ml  =   -146.0 kJ\n",
        "(iii)Q_nm  =   20.0 kJ\n"
       ]
      }
     ],
     "prompt_number": 1
    },
    {
     "cell_type": "heading",
     "level": 3,
     "metadata": {},
     "source": [
      "Example 4.11 page no : 126"
     ]
    },
    {
     "cell_type": "code",
     "collapsed": false,
     "input": [
      "import math \n",
      "from scipy.integrate import quad \n",
      "\n",
      "# Variables\n",
      "T1 = 55.; \t\t\t#0C\n",
      "T2 = 95.; \t\t\t#0C\n",
      "\n",
      "# Calculations\n",
      "def f1( T): \n",
      "\t return 200\n",
      "W =  quad(f1, T1, T2)[0]\n",
      "\n",
      "\n",
      "def f2( T): \n",
      "\t return 160\n",
      "Q =  quad(f2, T1, T2)[0]\n",
      "dU = Q-W;\n",
      "\n",
      "# Results\n",
      "print (\"change in internal energy = \"),(dU/10**3),(\"kJ\")\n"
     ],
     "language": "python",
     "metadata": {},
     "outputs": [
      {
       "output_type": "stream",
       "stream": "stdout",
       "text": [
        "change in internal energy =  -1.6 kJ\n"
       ]
      }
     ],
     "prompt_number": 8
    },
    {
     "cell_type": "heading",
     "level": 3,
     "metadata": {},
     "source": [
      "Example 4.12 page no : 127"
     ]
    },
    {
     "cell_type": "code",
     "collapsed": false,
     "input": [
      "import math \n",
      "\n",
      "# Variables\n",
      "Q = -340.; \t\t\t#kJ\n",
      "n = 200.; \t\t\t#cycles/min\n",
      "\n",
      "#For Process 1-2\n",
      "W_12 = 4340.; \t\t\t#kJ/min\n",
      "Q_12 = 0.;\n",
      "\n",
      "# Calculations and Results\n",
      "dE_12 = Q_12-W_12;\n",
      "print (\"dE_12  = \"),(dE_12),(\"kJ/min\")\n",
      "\n",
      "#For process 2-3\n",
      "Q_23 = 42000.; \t\t\t#kJ/min\n",
      "W_23 = 0;\n",
      "\n",
      "dE_23 = Q_23-W_23;\n",
      "print (\"dE_23  = \"),(dE_23),(\"kJ/min\")\n",
      "\n",
      "#For process 3-4\n",
      "Q_34 = -4200.; \t\t\t#kJ/min\n",
      "dE_34 = -73200.; \t\t\t#kJ/min\n",
      "\n",
      "W_34 = Q_34-dE_34;\n",
      "print (\"W_34  = \"), (W_34), (\"kJ/min\")\n",
      "\n",
      "#For process 4-1\n",
      "Q_41 = Q*n-Q_12-Q_23-Q_34;\n",
      "print (\"Q_41  = \"), (Q_41), (\"kJ/min\")\n",
      "\n",
      "dE_41 = 0-dE_12-dE_23-dE_34;\n",
      "print (\"dE_41  = \"), (dE_41), (\"kJ/min\")\n",
      "\n",
      "W_41 = Q_41-dE_41;\n",
      "print (\"W_41  = \"), (W_41), (\"kJ/min\")\n",
      "\n",
      "print \"Since sum(Q) = sum(W), \"\n",
      "print \"Rate of work output = -68000 KJ/min\""
     ],
     "language": "python",
     "metadata": {},
     "outputs": [
      {
       "output_type": "stream",
       "stream": "stdout",
       "text": [
        "dE_12  =  -4340.0 kJ/min\n",
        "dE_23  =  42000.0 kJ/min\n",
        "W_34  =  69000.0 kJ/min\n",
        "Q_41  =  -105800.0 kJ/min\n",
        "dE_41  =  35540.0 kJ/min\n",
        "W_41  =  -141340.0 kJ/min\n",
        "Since sum(Q) = sum(W), \n",
        "Rate of work output = -68000 KJ/min\n"
       ]
      }
     ],
     "prompt_number": 30
    },
    {
     "cell_type": "heading",
     "level": 3,
     "metadata": {},
     "source": [
      "Example 4.13 page no : 128"
     ]
    },
    {
     "cell_type": "code",
     "collapsed": false,
     "input": [
      "# Variables\n",
      "P = 1200.; \t\t\t#kW\n",
      "Qin = 3360.; \t\t\t#kJ/kg\n",
      "Qout = 2520.; \t\t\t#kJ/kg\n",
      "F = 6.; \t\t\t#kW\n",
      "\n",
      "# Calculations\n",
      "dQ = Qin - Qout;\n",
      "dW = P-F; \t\t\t#kJ/s\n",
      "m  =  dW/dQ;\n",
      "\n",
      "# Results\n",
      "print (\"Steam flow round the cycle %.3f\")%(m), (\"kg/s\")\n"
     ],
     "language": "python",
     "metadata": {},
     "outputs": [
      {
       "output_type": "stream",
       "stream": "stdout",
       "text": [
        "Steam flow round the cycle 1.421 kg/s\n"
       ]
      }
     ],
     "prompt_number": 11
    },
    {
     "cell_type": "heading",
     "level": 3,
     "metadata": {},
     "source": [
      "Example 4.14 page no : 129"
     ]
    },
    {
     "cell_type": "code",
     "collapsed": false,
     "input": [
      "# Variables\n",
      "dT = 25.; \t\t\t#0C\n",
      "Q = 30.; \t\t\t#kJ\n",
      "cv = 1.2; \t\t\t#kJ/kg.0C\n",
      "m = 2.5; \t\t\t#kg\n",
      "\n",
      "# Calculations\n",
      "dU = m*cv*dT;\n",
      "\n",
      "# Results\n",
      "print (\"change in internal energy  =  \"),(dU), (\"kJ\")\n",
      "\n",
      "W = Q - dU;\n",
      "print (\"Work done  =  \"),(W),(\"kJ\")\n"
     ],
     "language": "python",
     "metadata": {},
     "outputs": [
      {
       "output_type": "stream",
       "stream": "stdout",
       "text": [
        "change in internal energy  =   75.0 kJ\n",
        "Work done  =   -45.0 kJ\n"
       ]
      }
     ],
     "prompt_number": 12
    },
    {
     "cell_type": "heading",
     "level": 3,
     "metadata": {},
     "source": [
      "Example 4.15 page no : 129"
     ]
    },
    {
     "cell_type": "code",
     "collapsed": false,
     "input": [
      "# Variables\n",
      "Q = 50.; \t\t\t#kJ\n",
      "dV = 0.14; \t\t\t#m**3\n",
      "p = 1.2*10**5; \t\t#N/m**2\n",
      "m = 90.; \t\t\t#kg\n",
      "d = 5.5; \t\t\t#m\n",
      "g = 9.8; \t\t\t#m/s**2\n",
      "W_adb  =  -110.; \t#kJ\n",
      "Wnet = m*g*d/1000; \t#kJ\n",
      "\n",
      "# Calculations and Results\n",
      "W = p*dV/1000 + Wnet; \t\t\t#kJ\n",
      "dE = Q-W;\n",
      "print (\"(i)Change in internal energy %.3f kJ\")%(dE)\n",
      "\n",
      "Q = 0;\n",
      "dE = -W_adb;\n",
      "print (\"(ii) Adiabatic process %.3f kJ\")%(dE)\n",
      "\n",
      "\n",
      "Q = 50.; \t\t\t#kJ\n",
      "dE = Q - (W_adb+W);\n",
      "print (\"(iii)Change in internal energy %.3f kJ\")%(dE)\n",
      "\n"
     ],
     "language": "python",
     "metadata": {},
     "outputs": [
      {
       "output_type": "stream",
       "stream": "stdout",
       "text": [
        "(i)Change in internal energy 28.349 kJ\n",
        "(ii) Adiabatic process 110.000 kJ\n",
        "(iii)Change in internal energy 138.349 kJ\n"
       ]
      }
     ],
     "prompt_number": 12
    },
    {
     "cell_type": "heading",
     "level": 3,
     "metadata": {},
     "source": [
      "Example 4.16 page no : 130"
     ]
    },
    {
     "cell_type": "code",
     "collapsed": false,
     "input": [
      "import math \n",
      "from scipy.integrate import quad \n",
      "\n",
      "# Variables\n",
      "V1 = 0.15; \t\t\t#m**3\n",
      "V2 = 0.05; \t\t\t#m**3\n",
      "Q = -45.; \t\t\t#kJ\n",
      "p1 = (5./V1+1.5)*10**5; \t\t\t#N/m**2\n",
      "p2 = (5./V2+1.5)*10**5; \t\t\t#N/m**2\n",
      "\n",
      "# Calculations\n",
      "def f0( V): \n",
      "\t return (5/V+1.5)*10**2\n",
      "\n",
      "W =  quad(f0, V1, V2)[0]\n",
      "\n",
      "dU = Q-W;\n",
      "print (\"(i)Change in internal energy  = %.3f kJ\")%(dU)\n",
      "\n",
      "dH = (dU*10**3+(p2*V2-p1*V1))/10**3;\n",
      "print (\"(ii) Change in enthalpy = %.3f kJ\")%(dH)\n",
      "\n"
     ],
     "language": "python",
     "metadata": {},
     "outputs": [
      {
       "output_type": "stream",
       "stream": "stdout",
       "text": [
        "(i)Change in internal energy  = 519.306 kJ\n",
        "(ii) Change in enthalpy = 504.306 kJ\n"
       ]
      }
     ],
     "prompt_number": 9
    },
    {
     "cell_type": "heading",
     "level": 3,
     "metadata": {},
     "source": [
      "Example 4.17 page no : 131"
     ]
    },
    {
     "cell_type": "code",
     "collapsed": false,
     "input": [
      "# Variables\n",
      "V1 = 0.25; \t\t\t#m**3\n",
      "p1 = 500.; \t\t\t#kPa\n",
      "p2 = 100.; \t\t\t#kPa\n",
      "\n",
      "# Calculations and Results\n",
      "V2 = V1*(p1/p2)**(1/1.25)\n",
      "n = 1.25\n",
      "dU = 3.64*(p2*V2 - p1*V1)\n",
      "\n",
      "print (\"(i) If the expansion is quasi-static\")\n",
      "W = (p1*V1-p2*V2)/(n-1);\n",
      "Q = dU+W\n",
      "print (\"Heat transfered = %.3f\")%(Q),(\"kJ\")\n",
      "\n",
      "print (\"(ii) In another process\")\n",
      "Q = 32; \t\t\t#kJ\n",
      "W = Q-dU;\n",
      "print (\"Work done = %.3f\")%(W),(\"kJ\")\n",
      "\n",
      "print (\"(iii)The difference\")\n",
      "print (\" The work in (ii) is not equal to \u222b p dV math.since the process is not quasi-static.\")\n"
     ],
     "language": "python",
     "metadata": {},
     "outputs": [
      {
       "output_type": "stream",
       "stream": "stdout",
       "text": [
        "(i) If the expansion is quasi-static\n",
        "Heat transfered = 12.385 kJ\n",
        "(ii) In another process\n",
        "Work done = 157.225 kJ\n",
        "(iii)The difference\n",
        " The work in (ii) is not equal to \u222b p dV math.since the process is not quasi-static.\n"
       ]
      }
     ],
     "prompt_number": 13
    },
    {
     "cell_type": "heading",
     "level": 3,
     "metadata": {},
     "source": [
      "Example 4.18 page no : 132"
     ]
    },
    {
     "cell_type": "code",
     "collapsed": false,
     "input": [
      "import math \n",
      "from scipy.integrate import quad \n",
      "\n",
      "# Variables\n",
      "v1 = 0.3; \t\t\t#m**3/kg\n",
      "T1 = 20.; \t\t\t#0C\n",
      "v2 = 0.55; \t\t\t#m**3/kg\n",
      "T2 = 260; \t\t\t#0C\n",
      "p = 1.6*10**5; \t\t\t#Pa\n",
      "\n",
      "print (\"(i)Heat added per kg  =  \")\n",
      "\n",
      "# Calculations and Results\n",
      "def f5( T): \n",
      "\t return 1.5 + 75/(T+45)\n",
      "\n",
      "Q =  quad(f5, T1,T2)[0]\n",
      "\n",
      "print (\"Q = %.3f\")%(Q), (\"kJ/kg\")\n",
      "\n",
      "\n",
      "print (\"(ii)The work done per kg of fluid\")\n",
      "W = p*(v2-v1)/1000; \t\t\t#kJ/kg\n",
      "print (\"W = %.3f\")%(W),(\"kJ/kg\")\n",
      "\n",
      "\n",
      "print (\"(iii)Change in internal energy\")\n",
      "dU = Q-W;\n",
      "print (\"dU = %.3f\")%(dU),(\"kJ/kg\")\n",
      "\n",
      "\n",
      "print (\"(iv)Change in enthalpy\")\n",
      "dH = Q;\n",
      "print (\"dH = %.3f\")%(dH),(\"kJ/kg\")\n"
     ],
     "language": "python",
     "metadata": {},
     "outputs": [
      {
       "output_type": "stream",
       "stream": "stdout",
       "text": [
        "(i)Heat added per kg  =  \n",
        "Q = 475.944 kJ/kg\n",
        "(ii)The work done per kg of fluid\n",
        "W = 40.000 kJ/kg\n",
        "(iii)Change in internal energy\n",
        "dU = 435.944 kJ/kg\n",
        "(iv)Change in enthalpy\n",
        "dH = 475.944 kJ/kg\n"
       ]
      }
     ],
     "prompt_number": 17
    },
    {
     "cell_type": "heading",
     "level": 3,
     "metadata": {},
     "source": [
      "Example 4.19 page no : 133"
     ]
    },
    {
     "cell_type": "code",
     "collapsed": false,
     "input": [
      "# Variables\n",
      "m = 1.; \t\t\t#kg\n",
      "du = -42000.; \t\t\t#J\n",
      "cp = 840.; \t\t\t#J/kg.0C\n",
      "cv = 600.; \t\t\t#J/kg.0C\n",
      "\n",
      "# Calculations\n",
      "dT = du/m/cv;\n",
      "Q = m*cp*dT;\n",
      "W = (Q-du)/10**3;\n",
      "\n",
      "# Results\n",
      "print (\"Work done = \"),(W),(\"kJ\")\n"
     ],
     "language": "python",
     "metadata": {},
     "outputs": [
      {
       "output_type": "stream",
       "stream": "stdout",
       "text": [
        "Work done =  -16.8 kJ\n"
       ]
      }
     ],
     "prompt_number": 18
    },
    {
     "cell_type": "heading",
     "level": 3,
     "metadata": {},
     "source": [
      " Example 4.20 page no : 133"
     ]
    },
    {
     "cell_type": "code",
     "collapsed": false,
     "input": [
      "from numpy import *\n",
      "from scipy.integrate import quad \n",
      "\n",
      "# Variables\n",
      "p1 = 190.; \t\t\t#kPa\n",
      "V1 = 0.035; \t\t\t#m**3\n",
      "p2 = 420.; \t\t\t#kPa\n",
      "V2 = 0.07; \t\t\t#m**3\n",
      "dU = 3.6*(p2*V2-p1*V1);\n",
      "p = [[1,0.035],[1,0.07]]\n",
      "q = [190,420];\n",
      "#X = linalg.inv(p)*q;\n",
      "X = linalg.solve(p,q)\n",
      "a = X[0]\n",
      "b = X[1]\n",
      "\n",
      "# Calculations\n",
      "def f4( V): \n",
      "\t return a+b*V\n",
      "\n",
      "W =  quad(f4, V1, V2)[0]\n",
      "\n",
      "# Results\n",
      "print (\"Work done by the system  =  \"),(W),(\"kJ\")\n",
      "\n",
      "\n",
      "Q = dU+W;\n",
      "print (\"Heat transfer into the system  =  \"),(Q),(\"kJ\")\n"
     ],
     "language": "python",
     "metadata": {},
     "outputs": [
      {
       "output_type": "stream",
       "stream": "stdout",
       "text": [
        "Work done by the system  =   10.675 kJ\n",
        "Heat transfer into the system  =   92.575 kJ\n"
       ]
      }
     ],
     "prompt_number": 12
    },
    {
     "cell_type": "heading",
     "level": 3,
     "metadata": {},
     "source": [
      "Example 4.21 page no : 134"
     ]
    },
    {
     "cell_type": "code",
     "collapsed": false,
     "input": [
      "# Variables\n",
      "Qv = 90.; \t\t\t#kJ\n",
      "Qp = -95; \t\t\t#kJ\n",
      "W = -18; \t\t\t#kJ\n",
      "U_l = 105; \t\t\t#kJ\n",
      "W_lm = 0;\n",
      "Q_lm = 90;\n",
      "\n",
      "# Calculations\n",
      "U_m = U_l+90;\n",
      "dU_mn = Qp-W;\n",
      "U_n = U_m+dU_mn;\n",
      "dQ = Qv+Qp;\n",
      "dW = dQ;\n",
      "W_nl = dW-W;\n",
      "\n",
      "# Results\n",
      "print (\"W_nl(in kJ) = \"),(W_nl)\n",
      "\n",
      "print (\"U_l in kJ  = \"),(U_l)\n",
      "\n",
      "print (\"U_m in kJ  = \"),(U_m)\n",
      "print (\"U_n in kJ\"), (U_n)\n"
     ],
     "language": "python",
     "metadata": {},
     "outputs": [
      {
       "output_type": "stream",
       "stream": "stdout",
       "text": [
        "W_nl(in kJ) =  13.0\n",
        "U_l in kJ  =  105\n",
        "U_m in kJ  =  195\n",
        "U_n in kJ 118\n"
       ]
      }
     ],
     "prompt_number": 20
    },
    {
     "cell_type": "heading",
     "level": 3,
     "metadata": {},
     "source": [
      "Example 4.23 page no : 136"
     ]
    },
    {
     "cell_type": "code",
     "collapsed": false,
     "input": [
      "\n",
      "# Variables\n",
      "V1 = 0.2; \t\t\t#m**3\n",
      "p1 = 4.*10**5; \t\t#N/m**2\n",
      "T1 = 403.; \t\t\t#K\n",
      "p2 = 1.02*10**5; \t#N/m**2\n",
      "dH = 72.5; \t\t\t#kJ\n",
      "Q_23 = dH;\n",
      "cp = 1.; \t\t\t#kJ/kg\n",
      "cv = 0.714; \t\t#kJ/kg\n",
      "y = 1.4;\n",
      "\n",
      "# Calculations\n",
      "V2 = round(V1*(p1/p2)**(1/y),2);\n",
      "T2 = round(T1*((p2/p1)**((y-1)/y)),1);\n",
      "R = (cp-cv)*1000; \t\t\t#J/kg.K\n",
      "m = round(p1*V1/R/T1,3);\n",
      "T3 = round(Q_23/(m*cp) +T2);\n",
      "V3 = 0.732 # round(V2*T3/T2,2);\n",
      "W_12 = (p1*V1 - p2*V2)/(y-1);\n",
      "W_23 = p2*(V3-V2);\n",
      "W_123 = W_12+W_23;\n",
      "\n",
      "# Results\n",
      "print (\"Total work done  =  %.3f\")%(W_123),(\"J\")\n",
      "\n",
      "print (\"(ii) Index of expansion, n\")\n",
      "p3 = p2;\n",
      "n = (p1*V1-p3*V3)/W_123 + 1;\n",
      "print (\"value of index  =  %.3f\")%(n)\n"
     ],
     "language": "python",
     "metadata": {},
     "outputs": [
      {
       "output_type": "stream",
       "stream": "stdout",
       "text": [
        "Total work done  =  85454.000 J\n",
        "(ii) Index of expansion, n\n",
        "value of index  =  1.062\n"
       ]
      }
     ],
     "prompt_number": 27
    },
    {
     "cell_type": "heading",
     "level": 3,
     "metadata": {},
     "source": [
      "Example 4.25 page no : 139"
     ]
    },
    {
     "cell_type": "code",
     "collapsed": false,
     "input": [
      "\n",
      "# Variables\n",
      "d = 0.15; \t\t\t#m\n",
      "T = 303.; \t\t\t#K\n",
      "p = 3.*10**5; \t\t#N/m**2\n",
      "l = 0.085; \t\t\t#m\n",
      "Q = -4000.; \t\t#J\n",
      "\n",
      "# Calculations and Results\n",
      "print (\"(i) Workdone by the system\")\n",
      "dv = math.pi/4*d**2*l;\n",
      "W = p*dv;\n",
      "print (\"W = %.3f\")%(W/10**3),(\"kJ\")\n",
      "\n",
      "print (\"(ii) Decrease in internal energy of the system\")\n",
      "dU = (Q-W)/10**3;\n",
      "print (\"Decrease in internal energy  =  %.3f\")%(-dU),(\"kJ\")\n"
     ],
     "language": "python",
     "metadata": {},
     "outputs": [
      {
       "output_type": "stream",
       "stream": "stdout",
       "text": [
        "(i) Workdone by the system\n",
        "W = 0.451 kJ\n",
        "(ii) Decrease in internal energy of the system\n",
        "Decrease in internal energy  =  4.451 kJ\n"
       ]
      }
     ],
     "prompt_number": 23
    },
    {
     "cell_type": "heading",
     "level": 3,
     "metadata": {},
     "source": [
      "Example 4.27 page no : 140"
     ]
    },
    {
     "cell_type": "code",
     "collapsed": false,
     "input": [
      "import math\n",
      "\n",
      "# Variables\n",
      "y = 1.4\n",
      "R = 294.2; \t\t\t#J/kg.0C\n",
      "p1 = 1.*10**5; \t\t#N/m**2\n",
      "T1 = 353.; \t\t\t#K\n",
      "V1 = 0.45; \t\t\t#m**3\n",
      "V2 = 0.13; \t\t\t#m**3\n",
      "p2 = 5.*10**5; \t\t#N/m**2\n",
      "\n",
      "# Calculations and Results\n",
      "cv = R/(y-1);\n",
      "print (\"(i) The mass of gas\")\n",
      "m = p1*V1/R/T1;\n",
      "print (\"m = %.3f\")%(m),(\"kg\")\n",
      "\n",
      "print (\"(ii) The value of index \u2018n\u2019 for compression\")\n",
      "n = math.log(p2/p1)/math.log(V1/V2);\n",
      "print (\"n = %.3f\")%(n)\n",
      "\n",
      "print (\"(iii) The increase in internal energy of the gas\")\n",
      "T2 = T1*(V1/V2)**(n-1);\n",
      "dU = m*cv*(T2-T1)/10**3;\n",
      "print (\"dU = %.3f\")%(dU),(\"kJ\")\n",
      "\n",
      "print (\"(iv) The heat received or rejected by the gas during compression.\")\n",
      "W = m*R*(T1-T2)/(n-1)/10**3;\n",
      "Q = dU+W;\n",
      "print (\"Q = %.3f\")%(Q),(\"kJ\")\n"
     ],
     "language": "python",
     "metadata": {},
     "outputs": [
      {
       "output_type": "stream",
       "stream": "stdout",
       "text": [
        "(i) The mass of gas\n",
        "m = 0.433 kg\n",
        "(ii) The value of index \u2018n\u2019 for compression\n",
        "n = 1.296\n",
        "(iii) The increase in internal energy of the gas\n",
        "dU = 50.000 kJ\n",
        "(iv) The heat received or rejected by the gas during compression.\n",
        "Q = -17.535 kJ\n"
       ]
      }
     ],
     "prompt_number": 24
    },
    {
     "cell_type": "heading",
     "level": 3,
     "metadata": {},
     "source": [
      "Example 4.28 page no : 141"
     ]
    },
    {
     "cell_type": "code",
     "collapsed": false,
     "input": [
      "# Variables\n",
      "p1 = 1.02*10**5; \t#Pa\n",
      "T1 = 295.; \t\t\t#K\n",
      "V1 = 0.015; \t\t#m**3\n",
      "p2 = 6.8*10**5; \t#Pa\n",
      "y = 1.4;\n",
      "\n",
      "# Calculations and Results\n",
      "print (\"(i) Final temperature\")\n",
      "T2 = T1*(p2/p1)**((y-1)/y);\n",
      "t2 = T2-273; \n",
      "print (\"t2 = %.3f\")%(t2),(\"\u00b0C\")\n",
      "\n",
      "\n",
      "print (\"(ii) Final volume :\")\n",
      "V2 = V1*(p1/p2)**(1/y);\n",
      "print (\"V2 = %.3f\")%(V2),(\"m**3\")\n",
      "\n",
      "\n",
      "print (\"(iii)Work done\")\n",
      "R = 287;\n",
      "m = p1*V1/R/T1;\n",
      "W = m*R*(T1-T2)/(y-1)/10**3;\n",
      "print (\"W = %.3f\")%(W),(\"kJ\")\n"
     ],
     "language": "python",
     "metadata": {},
     "outputs": [
      {
       "output_type": "stream",
       "stream": "stdout",
       "text": [
        "(i) Final temperature\n",
        "t2 = 234.253 \u00b0C\n",
        "(ii) Final volume :\n",
        "V2 = 0.004 m**3\n",
        "(iii)Work done\n",
        "W = -2.752 kJ\n"
       ]
      }
     ],
     "prompt_number": 25
    },
    {
     "cell_type": "heading",
     "level": 3,
     "metadata": {},
     "source": [
      "Example 4.29 page no : 142"
     ]
    },
    {
     "cell_type": "code",
     "collapsed": false,
     "input": [
      "from numpy import *\n",
      "import math\n",
      "\n",
      "# Variables\n",
      "m = 0.44; \t\t\t#kg\n",
      "T1 = 453.; \t\t\t#K\n",
      "ratio = 3.; \t\t#ratio = V2/V1\n",
      "T2 = 288.; \t\t\t#K\n",
      "W_12 = 52.5; \t\t#kJ\n",
      "\n",
      "# Calculations\n",
      "y = math.log(T2/T1)/ math.log(1/ratio) + 1;\n",
      "R = W_12*(y-1)/m/(T1-T2);\n",
      "M = [[1,-1],[1,-y]];\n",
      "N = [R,0];\n",
      "X = linalg.inv(M)*N;\n",
      "cp = X[0][0];\n",
      "cv = X[1][0];\n",
      "\n",
      "# Results\n",
      "print (\"cp = %.3f\")%(cp),(\"kJ/kg.K\")\n",
      "\n",
      "print (\"cv = %.3f\")%(cv),(\"kJ/kg.K\")\n"
     ],
     "language": "python",
     "metadata": {},
     "outputs": [
      {
       "output_type": "stream",
       "stream": "stdout",
       "text": [
        "cp = 1.021 kJ/kg.K\n",
        "cv = 0.723 kJ/kg.K\n"
       ]
      }
     ],
     "prompt_number": 26
    },
    {
     "cell_type": "heading",
     "level": 3,
     "metadata": {},
     "source": [
      "Example 4.30 page no : 143"
     ]
    },
    {
     "cell_type": "code",
     "collapsed": false,
     "input": [
      "# Variables\n",
      "n = 1.3;\n",
      "m = 1; \t\t\t#kg\n",
      "p1 = 1.1; \t\t\t#bar\n",
      "T1 = 300.; \t\t\t#K\n",
      "p2 = 6.6; \t\t\t#bar\n",
      "R0 = 8314.;\n",
      "M = 30.;\n",
      "cp = 1.75; \t\t\t#kJ/kg.K\n",
      "\n",
      "\n",
      "# Calculations\n",
      "R = R0/M/1000; \t\t\t#kJ/kg.K\n",
      "cv = cp - R;\n",
      "y = cp/cv;\n",
      "T2 = T1 *(p2/p1)**((n-1)/n);\n",
      "W = R*(T1-T2)/(n-1);\n",
      "Q = ((y-n)/(y-1))*W;\n",
      "\n",
      "# Results\n",
      "print (\"Heat supplied  =  %.3f\")%(Q),(\"kJ/kg\")\n"
     ],
     "language": "python",
     "metadata": {},
     "outputs": [
      {
       "output_type": "stream",
       "stream": "stdout",
       "text": [
        "Heat supplied  =  84.352 kJ/kg\n"
       ]
      }
     ],
     "prompt_number": 27
    },
    {
     "cell_type": "heading",
     "level": 3,
     "metadata": {},
     "source": [
      "Example 4.31 page no : 144"
     ]
    },
    {
     "cell_type": "code",
     "collapsed": false,
     "input": [
      "import math\n",
      "\n",
      "# Variables\n",
      "cp = 14.3; \t\t\t#kJ/kg.K\n",
      "cv = 10.2; \t\t\t#kJ/kg.K\n",
      "V1 = 0.1; \t\t\t#m**3\n",
      "T1 = 300.; \t\t\t#K\n",
      "p1 = 1.; \t\t\t#bar\n",
      "p2 = 8.; \t\t\t#bar\n",
      "y = cp/cv;\n",
      "R = cp-cv;\n",
      "V2 = V1*(p1/p2)**(1/y);\n",
      "V3 = V2;\n",
      "T2 = T1*(p2/p1)**((y-1)/y);\n",
      "p3 = p1*V1/V3;\n",
      "T3 = 300.; \t\t\t#K\n",
      "\n",
      "\n",
      "# Calculations and Results\n",
      "print (\"(i) Pressure at the end of consmath.tant volume cooling  =  %.3f\")%(p3),(\"bar\")\n",
      "\n",
      "print (\"(ii) Change in internal energy during consmath.tant volume process\")\n",
      "m = p1*V1/R/T1*10**2; \t\t\t#kg\n",
      "\n",
      "dU_23 = m*cv*(T3-T2);\n",
      "print (\"dU_23  =  %.3f\")%(dU_23),(\"kJ\")\n",
      "\n",
      "print (\"(iii) Net work done and heat transferred during the cycle\")\n",
      "W_12 = m*R*(T1-T2)/(y-1);\n",
      "W_23 = 0;\n",
      "W_31 = p3*V3*math.log(V1/V3)*10**2; \t\t\t#kJ\n",
      "Wnet = W_12+W_23+W_31;\n",
      "print (\"Net work done = %.3f\")%(Wnet),(\"kJ\")\n",
      "Qnet = Wnet;\n",
      "print (\"Heat transferred during the complete cycle  =  %.3f\")%(Qnet),(\"kJ\")\n"
     ],
     "language": "python",
     "metadata": {},
     "outputs": [
      {
       "output_type": "stream",
       "stream": "stdout",
       "text": [
        "(i) Pressure at the end of consmath.tant volume cooling  =  4.407 bar\n",
        "(ii) Change in internal energy during consmath.tant volume process\n",
        "dU_23  =  -20.281 kJ\n",
        "(iii) Net work done and heat transferred during the cycle\n",
        "Net work done = -5.449 kJ\n",
        "Heat transferred during the complete cycle  =  -5.449 kJ\n"
       ]
      }
     ],
     "prompt_number": 28
    },
    {
     "cell_type": "heading",
     "level": 3,
     "metadata": {},
     "source": [
      "Example 4.32 page no : 145"
     ]
    },
    {
     "cell_type": "code",
     "collapsed": false,
     "input": [
      "import math\n",
      "\n",
      "# Variables\n",
      "V1 = 0.15; \t\t\t#m**3\n",
      "p1 = 15.; \t\t\t#bar\n",
      "T1 = 550.; \t\t\t#K\n",
      "T2 = T1;\n",
      "r = 4.; \t\t\t#r = V2/V1\n",
      "V2 = r*V1;\n",
      "T3 = 290.; \t\t\t#K\n",
      "\n",
      "# Calculations\n",
      "p2 = p1*V1/V2;\n",
      "W_12 = p1*V1*math.log(V2/V1)*10**2; \t\t\t#kJ\n",
      "V3 = V2;\n",
      "p3 = p2*T3/T2;\n",
      "W_23 = 0;\n",
      "n = math.log(p1/p3)/math.log(V3/V1);\n",
      "W_31 = (p3*V3-p1*V1)/(n-1)*10**2; \t\t\t#kJ\n",
      "\n",
      "# Results\n",
      "\n",
      "Wnet = W_12+W_23+W_31\n",
      "print (\"net work done  =  %.3f\")%Wnet , (\"kJ\")\n",
      "\n",
      "Qnet = Wnet;\n",
      "print (\"Heat transferred during the cycle  =  %.3f\")%(Qnet),(\"kJ\")\n"
     ],
     "language": "python",
     "metadata": {},
     "outputs": [
      {
       "output_type": "stream",
       "stream": "stdout",
       "text": [
        "net work done  =  81.537 kJ\n",
        "Heat transferred during the cycle  =  81.537 kJ\n"
       ]
      }
     ],
     "prompt_number": 29
    },
    {
     "cell_type": "heading",
     "level": 3,
     "metadata": {},
     "source": [
      "Example 4.33 page no : 146"
     ]
    },
    {
     "cell_type": "code",
     "collapsed": false,
     "input": [
      "%matplotlib inline\n",
      "\n",
      "import math \n",
      "from scipy.integrate import quad \n",
      "from matplotlib.pyplot import *\n",
      "from numpy import *\n",
      "\n",
      "# Variables\n",
      "m = 1; \t\t\t#kg\n",
      "p1 = 5; \t\t\t#bar\n",
      "V1 = 0.02; \t\t\t#m**3\n",
      "V2 = 0.08; \t\t\t#m**3\n",
      "p2 = 1.5; \t\t\t#bar\n",
      "\n",
      "\n",
      "# Calculations and Results\n",
      "def f(V):\n",
      "    return a+b*V;\n",
      "\n",
      "A = [[1,0.02],[1,0.08]]\n",
      "B = [5,1.5];\n",
      "#X = linalg.inv(A)*B;\n",
      "X  = linalg.solve(A,B)\n",
      "a = X[0]\n",
      "b = X[1]\n",
      "\n",
      "print (\"(i) p-V diagram\")\n",
      "\n",
      "V = linspace(0.02,0.08,80);\n",
      "p = a+b*V;\n",
      "plot(V,p,'b')\n",
      "\n",
      "V = [0.0667 ,0.08];\n",
      "p = [1.5 ,1.5];\n",
      "plot(V,p,'g')\n",
      "\n",
      "V = linspace(0.02,0.0667,447)\n",
      "def fa(V):\n",
      "    return 0.1/V;\n",
      "f = fa(V)\n",
      "plot(V,f,'r')\n",
      "suptitle(\"p-V diagram\")\n",
      "\n",
      "V = [0.0667, 0.0667];\n",
      "p = [1.5, 0];\n",
      "plot(V,p,'--')\n",
      "xlabel(\"V(m)**3\")\n",
      "ylabel(\"P(bar)\")\n",
      "text(.04,4,'Reversible Expansion')\n",
      "text(0.04,2.3,\"pV = C\")\n",
      "text(0.07,1.2,\"p = C\")\n",
      "\n",
      "print (\"(ii) Work done and heat transfer\")\n",
      "\n",
      "\n",
      "def f7(V): \n",
      "\t return (a+b*V)*10**2\n",
      "\n",
      "W_12 =  quad(f7,V1,V2)[0]\n",
      "\n",
      "print (\"Work done by the system  = \"),(W_12), (\"kJ\")\n",
      "\n",
      "p3 = p2;\n",
      "V3 = round(p1*V1/p3,4);\n",
      "W_23 = p2*(V3-V2)*10**2; \t\t\t#kJ\n",
      "\n",
      "W_31 = round(p3*V3*math.log(V1/V3)*10**2,2); \t\t\t#kJ\n",
      "print (\"Work done on the system  = %.3f\")% (W_31), (\"kJ\")\n",
      "\n",
      "W_net = W_12+W_23+W_31;\n",
      "print (\"Net work done  = %.3f\")% (W_net), (\"kJ\")\n",
      "\n",
      "Q_net = W_net;\n",
      "print (\"Heat transferred during the complete cycle  = %.3f\")% (Q_net),(\"kJ\")\n"
     ],
     "language": "python",
     "metadata": {},
     "outputs": [
      {
       "output_type": "stream",
       "stream": "stdout",
       "text": [
        "Populating the interactive namespace from numpy and matplotlib\n",
        "(i) p-V diagram"
       ]
      },
      {
       "output_type": "stream",
       "stream": "stdout",
       "text": [
        "\n",
        "(ii) Work done and heat transfer"
       ]
      },
      {
       "output_type": "stream",
       "stream": "stdout",
       "text": [
        "\n",
        "Work done by the system  =  19.5 kJ\n",
        "Work done on the system  = -12.050 kJ\n",
        "Net work done  = 5.455 kJ\n",
        "Heat transferred during the complete cycle  = 5.455 kJ\n"
       ]
      },
      {
       "metadata": {},
       "output_type": "display_data",
       "png": "[encoded data removed]",
       "text": [
        "<matplotlib.figure.Figure at 0x1dbbbd0>"
       ]
      }
     ],
     "prompt_number": 1
    },
    {
     "cell_type": "heading",
     "level": 3,
     "metadata": {},
     "source": [
      "Example 4.34 page no : 147"
     ]
    },
    {
     "cell_type": "code",
     "collapsed": false,
     "input": [
      "import math \n",
      "from scipy.integrate import quad \n",
      "\n",
      "\n",
      "# Variables\n",
      "cv = 0.71; \t\t\t#kJ/kg.K\n",
      "R = 0.287; \t\t\t#kJ/kg.K\n",
      "d = 8.; \t\t\t#cm\n",
      "l = 3.5; \t\t\t#cm\n",
      "S = 150.; \t\t\t#N/cm\n",
      "p1 = 30.; \t\t\t#N/cm\n",
      "V1 = 45.; \t\t\t#cm**3\n",
      "T1 = 293.; \t\t\t#K\n",
      "cv = 0.71; \t\t\t#kJ/kg.K\n",
      "R = 0.287; \t\t\t#kJ/kg.K\n",
      "\n",
      "# Calculations\n",
      "A = math.pi/4*d**2;\n",
      "C = p1-S/A**2*V1;\n",
      "dV = l*A;\n",
      "V2 = V1+dV;\n",
      "p2 = S/A**2*V2 + C;\n",
      "\n",
      "def f3( p): \n",
      "\t return A**2/S*p/100\n",
      "\n",
      "W =  quad(f3, p1, p2)[0]\n",
      "\n",
      "T2 = p2*V2*T1/p1/V1;\n",
      "m = p1*V1/R/T1/10**5; \t\t\t#kg\n",
      "dU = m*cv*(T2-T1);\n",
      "Q_12 = dU + W*10**(-3);\n",
      "\n",
      "# Results\n",
      "print (\"Amount of heat added to the system  =  %.3f\")% (Q_12), (\"kJ\")\n"
     ],
     "language": "python",
     "metadata": {},
     "outputs": [
      {
       "output_type": "stream",
       "stream": "stdout",
       "text": [
        "Amount of heat added to the system  =  0.250 kJ\n"
       ]
      }
     ],
     "prompt_number": 31
    },
    {
     "cell_type": "heading",
     "level": 3,
     "metadata": {},
     "source": [
      "Example 4.35 page no : 164"
     ]
    },
    {
     "cell_type": "code",
     "collapsed": false,
     "input": [
      "# Variables\n",
      "r = 10.; \t\t\t#kg/min\n",
      "p1 = 1.5*10**5; \t\t\t#N/m**2\n",
      "rho1 = 26.; \t\t\t#kg/m**3\n",
      "C1 = 110.; \t\t\t#m/s\n",
      "u1 = 910.; \t\t\t#kJ/kg\n",
      "p2 = 5.5*10**5; \t\t\t#N/m**2\n",
      "rho2 = 5.5; \t\t\t#kg/m**3\n",
      "C2 = 190.; \t\t\t#m/s\n",
      "u2 = 710.; \t\t\t#kJ/kg\n",
      "Q = 55.; \t\t\t#kJ/s\n",
      "h = 55.; \t\t\t#m\n",
      "g = 9.81; \t\t\t#m/s**2\n",
      "v2 = 1/rho2;\n",
      "v1 = 1/rho1;\n",
      "\n",
      "# Calculations and Results\n",
      "\n",
      "dh = u2-u1+ (p2*v2-p1*v1)/10**3;\n",
      "print (\"(i) Change in enthalpy %.3f\")%(dh), (\"kJ/kg\")\n",
      "\n",
      "print (\"(ii) Work done during the process (W).\")\n",
      "\n",
      "Q = 330.; \t\t\t#kJ/kg\n",
      "KE = (C2**2-C1**2)/2/10**3; \t\t\t#kJ\n",
      "PE = g*h/10**3; \t\t\t#kJ\n",
      "W = -Q-KE-PE-dh;\n",
      "print (\"Work done  =  %.3f\")%(W),(\"kJ\")\n",
      "\n",
      "\n",
      "P = W*10/60.;\n",
      "print (\"Work done per second  =  %.3f\")%(P),(\"kW\")\n"
     ],
     "language": "python",
     "metadata": {},
     "outputs": [
      {
       "output_type": "stream",
       "stream": "stdout",
       "text": [
        "(i) Change in enthalpy -105.769 kJ/kg\n",
        "(ii) Work done during the process (W).\n",
        "Work done  =  -236.770 kJ\n",
        "Work done per second  =  -39.462 kW\n"
       ]
      }
     ],
     "prompt_number": 32
    },
    {
     "cell_type": "heading",
     "level": 3,
     "metadata": {},
     "source": [
      "Example 4.36 page no : 166"
     ]
    },
    {
     "cell_type": "code",
     "collapsed": false,
     "input": [
      "# Variables\n",
      "\n",
      "import math \n",
      "\n",
      "m = 15.; \t\t\t#kg/s\n",
      "v = 0.45; \t\t\t#m**3/kg\n",
      "P = 12000.; \t\t#kW\n",
      "W = P/m; \t\t\t#kJ/kg\n",
      "h1 = 1260.; \t\t#kJ/kg\n",
      "h2 = 400.; \t\t\t#kJ/kg\n",
      "C1 = 50.; \t\t\t#m/s\n",
      "C2 = 110.; \t\t\t#m/s\n",
      "\n",
      "# Calculations and Results\n",
      "print (\"(i) Heat rejected  =  \"),\n",
      "Q = h2-h1+(C2**2-C1**2)/2/10**3 +W;\n",
      "Qnet = m*Q;\n",
      "print (\"Qnet = %.3f\")%(-Qnet),(\"kW\")\n",
      "\n",
      "print (\"(ii) Inlet area\")\n",
      "A = v*m/C1;\n",
      "print (\"A = %.3f\")%(A),(\"m**2\")\n"
     ],
     "language": "python",
     "metadata": {},
     "outputs": [
      {
       "output_type": "stream",
       "stream": "stdout",
       "text": [
        "(i) Heat rejected  =   Qnet = 828.000 kW\n",
        "(ii) Inlet area\n",
        "A = 0.135 m**2\n"
       ]
      }
     ],
     "prompt_number": 33
    },
    {
     "cell_type": "heading",
     "level": 3,
     "metadata": {},
     "source": [
      "Example 4.37 page no : 167"
     ]
    },
    {
     "cell_type": "code",
     "collapsed": false,
     "input": [
      "# Variables\n",
      "m = 0.5; \t\t\t#kg/s\n",
      "C1 = 6.; \t\t\t#m/s\n",
      "C2 = 5.; \t\t\t#m/s\n",
      "p1 = 1.; \t\t\t#bar\n",
      "p2 = 7.; \t\t\t#bar\n",
      "v1 = 0.85; \t\t\t#m**3/kg\n",
      "v2 = 0.16; \t\t\t#m**3/kg\n",
      "du = 90.; \t\t\t#kJ/kg\n",
      "Q = -120.; \t\t\t#kJ/kg\n",
      "\n",
      "# Calculations and Results\n",
      "print (\"(i) Power required to drive the compressor\")\n",
      "W = -du+(C1**2-C2**2)/2/1000 + (p1*v1 - p2*v2)*10**2 + Q;\n",
      "Power = m*W; \n",
      "print (\"Power = %.3f\")%(-Power),(\"kW\")\n",
      "\n",
      "\n",
      "print (\"(ii) Inlet and outlet pipe cross-sectional areas\")\n",
      "A1 = m*v1/C1;\n",
      "A2 = m*v2/C2;\n",
      "print (\"Inlet crosssectional area  =  %.3f\")% (A1), (\"m**2\")\n",
      "\n",
      "print (\"Outlet crossectional area = %.3f\")%(A2), (\"m**2\")\n"
     ],
     "language": "python",
     "metadata": {},
     "outputs": [
      {
       "output_type": "stream",
       "stream": "stdout",
       "text": [
        "(i) Power required to drive the compressor\n",
        "Power = 118.497 kW\n",
        "(ii) Inlet and outlet pipe cross-sectional areas\n",
        "Inlet crosssectional area  =  0.071 m**2\n",
        "Outlet crossectional area = 0.016 m**2\n"
       ]
      }
     ],
     "prompt_number": 34
    },
    {
     "cell_type": "heading",
     "level": 3,
     "metadata": {},
     "source": [
      "Example 4.38 page no : 168"
     ]
    },
    {
     "cell_type": "code",
     "collapsed": false,
     "input": [
      "# Variables\n",
      "h1 = 800.; \t\t\t#kJ/kg\n",
      "C1 = 5.; \t\t\t#m/s\n",
      "h2 = 2520.; \t\t\t#kJ/kg\n",
      "C2 = 50.; \t\t\t#m/s\n",
      "dZ = 4.; \t\t\t#m\n",
      "g = 9.81; \t\t\t#m/s**2\n",
      "Q = 2180.; \t\t\t#kJ/kg\n",
      "\n",
      "# Calculations\n",
      "W = h1-h2+(C1**2 - C2**2)/2/1000 +dZ*g/1000+Q;\n",
      "\n",
      "# Results\n",
      "print (\"Power developed  =  %.3f\")%(W), (\"kW\")\n"
     ],
     "language": "python",
     "metadata": {},
     "outputs": [
      {
       "output_type": "stream",
       "stream": "stdout",
       "text": [
        "Power developed  =  458.802 kW\n"
       ]
      }
     ],
     "prompt_number": 35
    },
    {
     "cell_type": "heading",
     "level": 3,
     "metadata": {},
     "source": [
      "Example 4.39 page no : 169"
     ]
    },
    {
     "cell_type": "code",
     "collapsed": false,
     "input": [
      "# Variables\n",
      "g = 9.8; \t\t\t#m/s**2\n",
      "m = 4500./3600; \t#kg/s\n",
      "C1 = 2800./60; \t\t#m/s\n",
      "Z1 = 5.5; \t\t\t#m\n",
      "h1 = 2800.; \t\t#kJ/g\n",
      "C2 = 5600./60; \t\t#m/s\n",
      "Z2 = 1.5; \t\t\t#m\n",
      "h2 = 2300.; \t\t#kJ/kg\n",
      "Q = -16000./3600; \t#kJ/s\n",
      "\n",
      "# Calculations\n",
      "W = Q-m*((h1-h2) + (C2**2 - C1**2)/2/1000 + (Z2-Z1)*g/1000);\n",
      "\n",
      "# Results\n",
      "print (\"Power output of the turbine  =  %.3f\")% (-W),(\"kW\")\n"
     ],
     "language": "python",
     "metadata": {},
     "outputs": [
      {
       "output_type": "stream",
       "stream": "stdout",
       "text": [
        "Power output of the turbine  =  633.479 kW\n"
       ]
      }
     ],
     "prompt_number": 36
    },
    {
     "cell_type": "heading",
     "level": 3,
     "metadata": {},
     "source": [
      "Example 4.40 page no : 170"
     ]
    },
    {
     "cell_type": "code",
     "collapsed": false,
     "input": [
      "# Variables\n",
      "p1 = 6.87; \t\t\t#bar\n",
      "C1 = 50.; \t\t\t#m/s\n",
      "p2 = 1.37; \t\t\t#bar\n",
      "C2 = 500.; \t\t\t#m/s\n",
      "print (\"From steam table corresponding to p1\")\n",
      "h1 = 2850.; \t\t\t#kJ/kg\n",
      "\n",
      "# Calculations\n",
      "h2 = h1 - (C2**2-C1**2)/2/1000;\n",
      "\n",
      "# Results\n",
      "print (\"Final enthalpy of steam  =  \"), (h2),(\"kJ\")\n"
     ],
     "language": "python",
     "metadata": {},
     "outputs": [
      {
       "output_type": "stream",
       "stream": "stdout",
       "text": [
        "From steam table corresponding to p1\n",
        "Final enthalpy of steam  =   2726.25 kJ\n"
       ]
      }
     ],
     "prompt_number": 37
    },
    {
     "cell_type": "heading",
     "level": 3,
     "metadata": {},
     "source": [
      "Example 4.41 page no : 171"
     ]
    },
    {
     "cell_type": "code",
     "collapsed": false,
     "input": [
      "# Variables\n",
      "m = 220./60; \t\t\t#kg/s\n",
      "C1 = 320.; \t\t\t#m/s\n",
      "p1 = 6*10.**5; \t\t\t#N/m**2\n",
      "u1 = 2000.*10**3; \t\t\t#J/kg\n",
      "v1 = 0.36; \t\t\t#m**3/kg\n",
      "C2 = 140.; \t\t\t#m/s\n",
      "p2 = 1.2*10**5; \t\t\t#N/m**2\n",
      "u2 = 1400.*10**3; \t\t\t#J/kg\n",
      "v2 = 1.3; \t\t\t#m**3/kg\n",
      "Q = 100*10.**3; \t\t\t#J/s\n",
      "\n",
      "# Calculations\n",
      "W = (m*((u1-u2)+ (p1*v1 - p2*v2) + (C1**2-C2**2)/2) -Q)/10**6;\n",
      "\n",
      "# Results\n",
      "print (\"power capacity of the system  =  %.3f\")% (W),(\"MW\")\n"
     ],
     "language": "python",
     "metadata": {},
     "outputs": [
      {
       "output_type": "stream",
       "stream": "stdout",
       "text": [
        "power capacity of the system  =  2.472 MW\n"
       ]
      }
     ],
     "prompt_number": 38
    },
    {
     "cell_type": "heading",
     "level": 3,
     "metadata": {},
     "source": [
      "Example 4.42 page no : 172"
     ]
    },
    {
     "cell_type": "code",
     "collapsed": false,
     "input": [
      "# Variables\n",
      "p1 = 7.5*10**5; \t\t\t#N/m**2\n",
      "C1 = 140.; \t\t\t#m/s\n",
      "h1 = 950.*10**3; \t\t\t#J/kg\n",
      "p2 = 2*10.**5; \t\t\t#N/m**2\n",
      "C2 = 280.; \t\t\t#m/s\n",
      "h2 = 650.*10**3; \t\t\t#J/kg\n",
      "m = 5.; \t\t\t#kg/s\n",
      "\n",
      "# Calculations\n",
      "W = (h1-h2)+(C1**2-C2**2)/2\n",
      "Power = m*W/1000;\n",
      "\n",
      "# Results\n",
      "print (\"Power capacity of turbine  =  \"), (Power), (\"kW\")\n"
     ],
     "language": "python",
     "metadata": {},
     "outputs": [
      {
       "output_type": "stream",
       "stream": "stdout",
       "text": [
        "Power capacity of turbine  =   1353.0 kW\n"
       ]
      }
     ],
     "prompt_number": 39
    },
    {
     "cell_type": "heading",
     "level": 3,
     "metadata": {},
     "source": [
      "Example 4.43 page no : 173"
     ]
    },
    {
     "cell_type": "code",
     "collapsed": false,
     "input": [
      "# Variables\n",
      "C1 = 12.; \t\t\t#m/s\n",
      "p1 = 1.*10**5; \t\t\t#N/m**2\n",
      "v1 = 0.5; \t\t\t#m**3/kg\n",
      "C2 = 90.; \t\t\t#m/s\n",
      "p2 = 8.*10**5; \t\t\t#N/m**2\n",
      "v2 = 0.14; \t\t\t#m**3/kg\n",
      "dh = 150.; \t\t\t#kJ/kg\n",
      "Q = -11.67; \t\t\t#kJ/s\n",
      "m = 0.2; \t\t\t#kg/s\n",
      "\n",
      "# Calculations and Results\n",
      "print (\"(i) Motor power required to drive the compressor\")\n",
      "W = m*(-dh + (C1**2-C2**2)/2/1000) +Q;\n",
      "print (\"Power = %.3f\")% (-W), (\"kW\")\n",
      "\n",
      "\n",
      "print (\"(ii)Ratio of inlet to outlet pipi diameter\")\n",
      "ratio = math.sqrt(C2/C1*v1/v2);\n",
      "print (\"ratio = %.3f\")% (ratio)\n"
     ],
     "language": "python",
     "metadata": {},
     "outputs": [
      {
       "output_type": "stream",
       "stream": "stdout",
       "text": [
        "(i) Motor power required to drive the compressor\n",
        "Power = 42.466 kW\n",
        "(ii)Ratio of inlet to outlet pipi diameter\n",
        "ratio = 5.175\n"
       ]
      }
     ],
     "prompt_number": 40
    },
    {
     "cell_type": "heading",
     "level": 3,
     "metadata": {},
     "source": [
      "Example 4.44 page no : 175"
     ]
    },
    {
     "cell_type": "code",
     "collapsed": false,
     "input": [
      "# Variables\n",
      "W = -175.; \t\t\t        #kJ/kg\n",
      "dh = 70.; \t\t        \t#kJ/kg\n",
      "Q_water = -92.; \t\t\t#kJ/kg\n",
      "\n",
      "# Calculations\n",
      "Q = dh+W;\n",
      "Q_atm = Q-Q_water;\n",
      "\n",
      "# Results\n",
      "print (\"Heat transferred to the atmosphere  =  \"),(-Q_atm), (\"kJ/kg\")\n"
     ],
     "language": "python",
     "metadata": {},
     "outputs": [
      {
       "output_type": "stream",
       "stream": "stdout",
       "text": [
        "Heat transferred to the atmosphere  =   13.0 kJ/kg\n"
       ]
      }
     ],
     "prompt_number": 41
    },
    {
     "cell_type": "heading",
     "level": 3,
     "metadata": {},
     "source": [
      "Example 4.45 page no : 176"
     ]
    },
    {
     "cell_type": "code",
     "collapsed": false,
     "input": [
      "import math\n",
      "\n",
      "# Variables\n",
      "h1 = 2800.*10**3; \t\t\t#J/kg\n",
      "C1 = 50.; \t\t\t#m/s\n",
      "A1 = 900.*10**(-4); \t\t\t#m**2\n",
      "v1 = 0.187; \t\t\t#m**3/kg\n",
      "h2 = 2600.*10**3; \t\t\t#J/kg\n",
      "v2 = 0.498; \t\t\t#m**3/kJ\n",
      "\n",
      "# Calculations and Results\n",
      "print (\"(i) Velocity at exit of the nozzle\")\n",
      "C2 = math.sqrt(2*((h1-h2) + C1**2/2));\n",
      "\n",
      "print (\"C2 = %.3f\")% (C2),(\"m/s\")\n",
      "\n",
      "\n",
      "print (\"(ii) Mass flow rate\")\n",
      "m = A1*C1/v1;\n",
      "print (\"m = %.3f\")% (m), (\"kg/s\")\n",
      "\n",
      "\n",
      "print (\"(iii) Area at the exit\")\n",
      "A2 = m*v2/C2*10**4;\n",
      "print (\"A2 = %.3f\")%(A2), (\"cm**2\")\n"
     ],
     "language": "python",
     "metadata": {},
     "outputs": [
      {
       "output_type": "stream",
       "stream": "stdout",
       "text": [
        "(i) Velocity at exit of the nozzle\n",
        "C2 = 634.429 m/s\n",
        "(ii) Mass flow rate\n",
        "m = 24.064 kg/s\n",
        "(iii) Area at the exit\n",
        "A2 = 188.894 cm**2\n"
       ]
      }
     ],
     "prompt_number": 42
    },
    {
     "cell_type": "heading",
     "level": 3,
     "metadata": {},
     "source": [
      "Example 4.46 page no : 177"
     ]
    },
    {
     "cell_type": "code",
     "collapsed": false,
     "input": [
      "# Variables\n",
      "h1 = 240.; \t\t\t#kJ/kg\n",
      "h2 = 192.; \t\t\t#kJ/kg\n",
      "dZ = 20.; \t\t\t#m\n",
      "g = 9.81; \t\t\t#m/s**2\n",
      "\n",
      "# Calculations\n",
      "Q = (h2-h1)+dZ*g/1000;\n",
      "\n",
      "# Results\n",
      "print (\"heat transfer  =  %.3f\")% (-Q), (\"kJ/kg\")\n"
     ],
     "language": "python",
     "metadata": {},
     "outputs": [
      {
       "output_type": "stream",
       "stream": "stdout",
       "text": [
        "heat transfer  =  47.804 kJ/kg\n"
       ]
      }
     ],
     "prompt_number": 43
    },
    {
     "cell_type": "heading",
     "level": 3,
     "metadata": {},
     "source": [
      "Example 4.47 page no : 178"
     ]
    },
    {
     "cell_type": "code",
     "collapsed": false,
     "input": [
      "import math \n",
      "\n",
      "# Variables\n",
      "p1 = 2.; \t\t\t#bar\n",
      "C1 = 300.; \t\t\t#m/s\n",
      "Q = 0.;\n",
      "h1 = 915.*10**3; \t\t\t#J/kg\n",
      "h2 = 800.*10**3; \t\t\t#J/kg\n",
      "\n",
      "# Calculations\n",
      "C2 = math.sqrt(2*(h1-h2 + C1**2/2));\n",
      "\n",
      "# Results\n",
      "print (\"Relative velocity of gas leaving the pipe = %.3f\")% (C2), (\"m/s\")\n"
     ],
     "language": "python",
     "metadata": {},
     "outputs": [
      {
       "output_type": "stream",
       "stream": "stdout",
       "text": [
        "Relative velocity of gas leaving the pipe = 565.685 m/s\n"
       ]
      }
     ],
     "prompt_number": 44
    },
    {
     "cell_type": "heading",
     "level": 3,
     "metadata": {},
     "source": [
      "Example 4.48 page no : 179"
     ]
    },
    {
     "cell_type": "code",
     "collapsed": false,
     "input": [
      "import math \n",
      "\n",
      "# Variables\n",
      "mw = 50; \t\t\t#kg/s\n",
      "p1 = 10.**5; \t\t\t#N/m**2\n",
      "p2 = 4.2*10**5; \t\t\t#N/m**2\n",
      "h = 10.7; \t\t\t#m\n",
      "d1 = 0.2; \t\t\t#m\n",
      "d2 = 0.1; \t\t\t#m\n",
      "v1 = 1./1000;\n",
      "v2 = 1./1000;\n",
      "g = 9.81; \t\t\t#m/s**2\n",
      "\n",
      "# Calculations\n",
      "C1 = mw*4/math.pi/d1**2*v1;\n",
      "C2 = mw*4/math.pi/d2**2*v2;\n",
      "W = mw*((p1*v1-p2*v2) + (g*(0-h))+(C1**2-C2**2)/2)/10**3;\n",
      "\n",
      "# Results\n",
      "print (\"Capacity of electric motor %.3f\")%(-W), (\"kW\")\n"
     ],
     "language": "python",
     "metadata": {},
     "outputs": [
      {
       "output_type": "stream",
       "stream": "stdout",
       "text": [
        "Capacity of electric motor 22.198 kW\n"
       ]
      }
     ],
     "prompt_number": 45
    },
    {
     "cell_type": "heading",
     "level": 3,
     "metadata": {},
     "source": [
      " Example 4.49 page no : 180"
     ]
    },
    {
     "cell_type": "code",
     "collapsed": false,
     "input": [
      "import math \n",
      "\n",
      "# Variables\n",
      "Ca = 250.; \t\t\t#m/s\n",
      "t = -14.; \t\t\t#0C\n",
      "ha = 250.; \t\t\t#kJ/kg\n",
      "hg = 900.; \t\t\t#kJ/kg\n",
      "ratio = 0.0180;\n",
      "Ef = 45.*10**3; \t\t\t#kJ/kg\n",
      "Q = -21.; \t\t\t#kJ/kg\n",
      "ma = 1.; \t\t\t#kg\n",
      "mg = 1.018; \t\t\t#kg\n",
      "mf = 0.018; \t\t\t#kg\n",
      "\n",
      "#Calculations\n",
      "Eg = 0.06*mf/mg*Ef;\n",
      "Cg = math.sqrt(2000*((ma*(ha+Ca**2/2/1000) + mf*Ef + Q)/mg -hg-Eg));\n",
      "\n",
      "# Results\n",
      "print (\"velocity of exhaust gas jet  =  %.3f\")%(Cg),(\"m/s\")\n"
     ],
     "language": "python",
     "metadata": {},
     "outputs": [
      {
       "output_type": "stream",
       "stream": "stdout",
       "text": [
        "velocity of exhaust gas jet  =  455.160 m/s\n"
       ]
      }
     ],
     "prompt_number": 46
    },
    {
     "cell_type": "heading",
     "level": 3,
     "metadata": {},
     "source": [
      "Example 4.50 page no : 181"
     ]
    },
    {
     "cell_type": "code",
     "collapsed": false,
     "input": [
      "# Variables\n",
      "t1 = 20.; \t\t\t#0C\n",
      "C1 = 40.; \t\t\t#m/s\n",
      "t2 = 820.; \t\t\t#0C\n",
      "C2 = 40.; \t\t\t#m/s\n",
      "t3 = 620.; \t\t\t#0C\n",
      "C3 = 55.; \t\t\t#m/s\n",
      "t4 = 510.; \t\t\t#0C\n",
      "m = 2.5; \t\t\t#kg/s\n",
      "cp = 1.005; \t\t\t#kJ/kg.0C\n",
      "\n",
      "# Calculations and Results\n",
      "print (\"(i) Heat exchanger\")\n",
      "Q_12 = m*cp*(t2-t1);\n",
      "print (\"rate of heat transfer = \"),(Q_12), (\"kJ/s\")\n",
      "\n",
      "print (\"(ii) Turbine\")\n",
      "W_23 = m*((cp*(t2-t3))+(C2**2-C3**2)/2/1000);\n",
      "print (\"Power output of turbine = %.3f\")%(W_23), (\"kW\")\n",
      "\n",
      "print (\"(iii) Nozzle\")\n",
      "C4 = math.sqrt(2*1000*(cp*(t3-t4)+C3**2/2/1000));\n",
      "print (\"Velocity at exit from the nozzle =  %.3f\")%(C4), (\"m/s\")\n"
     ],
     "language": "python",
     "metadata": {},
     "outputs": [
      {
       "output_type": "stream",
       "stream": "stdout",
       "text": [
        "(i) Heat exchanger\n",
        "rate of heat transfer =  2010.0 kJ/s\n",
        "(ii) Turbine\n",
        "Power output of turbine = 500.719 kW\n",
        "(iii) Nozzle\n",
        "Velocity at exit from the nozzle =  473.418 m/s\n"
       ]
      }
     ],
     "prompt_number": 47
    },
    {
     "cell_type": "heading",
     "level": 3,
     "metadata": {},
     "source": [
      "Example 4.51 page no : 185"
     ]
    },
    {
     "cell_type": "code",
     "collapsed": false,
     "input": [
      "# Variables\n",
      "V = 0.028; \t\t\t#m**3\n",
      "p1 = 80.; \t\t\t#bar\n",
      "t = 350.; \t\t\t#0C\n",
      "p2 = 50.; \t\t\t#bar\n",
      "v1 = 0.02995; \t\t\t#m**3/kg\n",
      "h1 = 2987.3; \t\t\t#kJ/kg\n",
      "v2 = 0.02995; \t\t\t#m**3/kg\n",
      "vg2 = 0.0394; \t\t\t#m**3/kg\n",
      "uf2 = 1149.; \t\t\t#kJ/kg\n",
      "ug2 = 2597.; \t\t\t#kJ/kg\n",
      "\n",
      "# Calculations and Results\n",
      "m = V/v1;\n",
      "u1 = h1 - (p1*v1*10**2); \t\t\t#kJ/kg\n",
      "\n",
      "print (\"(i) State of steam after cooling\")\n",
      "x2 = v2/vg2;\n",
      "print (\"dryness fraction  =  %.3f\")%(x2)\n",
      "\n",
      "\n",
      "print (\"(ii) Heat rejected by the steam\")\n",
      "u2 = (1-x2)*uf2 + x2*ug2;\n",
      "Q = m*(u2-u1);\n",
      "print (\"Heat rejected  =  %.3f\")% (-Q), (\"kJ\")\n"
     ],
     "language": "python",
     "metadata": {},
     "outputs": [
      {
       "output_type": "stream",
       "stream": "stdout",
       "text": [
        "(i) State of steam after cooling\n",
        "dryness fraction  =  0.760\n",
        "(ii) Heat rejected by the steam\n",
        "Heat rejected  =  465.575 kJ\n"
       ]
      }
     ],
     "prompt_number": 48
    },
    {
     "cell_type": "heading",
     "level": 3,
     "metadata": {},
     "source": [
      "Example 4.52 page no : 188"
     ]
    },
    {
     "cell_type": "code",
     "collapsed": false,
     "input": [
      "# Variables\n",
      "m = 0.08; \t\t\t#kg\n",
      "p = 2.*10**5; \t\t\t#Pa\n",
      "V = 0.10528; \t\t\t#m**3\n",
      "h1 = 2706.3; \t\t\t#kJ/kg\n",
      "h2 = 3071.8; \t\t\t#kJ/kg\n",
      "v1 = 0.885; \t\t\t#m**3/kg\n",
      "\n",
      "# Calculations and Results\n",
      "v2 = V/m; \t\t\t#m**3/kg\n",
      "\n",
      "print (\"(i) Heat supplied\")\n",
      "Q = m*(h2-h1);\n",
      "print (\"Q = \"),(Q), (\"kJ\")\n",
      "\n",
      "\n",
      "W = p*(v2-v1);\n",
      "W_total = m*W/10**3;\n",
      "print (\"(ii)Total work done  =  \"), (W_total), (\"kJ\")\n"
     ],
     "language": "python",
     "metadata": {},
     "outputs": [
      {
       "output_type": "stream",
       "stream": "stdout",
       "text": [
        "(i) Heat supplied\n",
        "Q =  29.24 kJ\n",
        "(ii)Total work done  =   6.896 kJ\n"
       ]
      }
     ],
     "prompt_number": 15
    },
    {
     "cell_type": "heading",
     "level": 3,
     "metadata": {},
     "source": [
      "Example 4.53 page no : 189"
     ]
    },
    {
     "cell_type": "code",
     "collapsed": false,
     "input": [
      "from numpy import *\n",
      "from matplotlib.pyplot import *\n",
      "\n",
      "# Variables\n",
      "m = 1.; \t\t\t#kg\n",
      "p = 8.; \t\t\t#bar\n",
      "s1 = 6.55; \t\t\t#kJ/kg.K\n",
      "T = 200.; \t\t\t#0C\n",
      "s_f1 = 2.0457; \t\t\t#kJ/kg.K\n",
      "s_fg1 = 4.6139; \t\t\t#kJ/kg.K\n",
      "h_f1 = 720.9; \t\t\t#kJ/kg\n",
      "h_fg1 = 2046.5; \t\t\t#kJ/kg\n",
      "h2 = 2839.3; \t\t\t#kJ/kg\n",
      "\n",
      "# Calculations and Results\n",
      "x1 = (s1-s_f1)/s_fg1;\n",
      "h1 = h_f1+x1*h_fg1;\n",
      "Q = h2-h1;\n",
      "print (\"Heat supplied = %.3f\")%(Q), (\"kJ/kg\")\n",
      "\n",
      "# For T-s diagram\n",
      "\n",
      "s = linspace(0,.10,10);\n",
      "T = (-(s-5)**2+298);\n",
      "plot(s,T)\n",
      "\n",
      "T = [295.44 ,295.44];\n",
      "s = [6.6 ,3.45];\n",
      "plot(s,T,'g')\n",
      "\n",
      "s = [6.6 ,7];\n",
      "T = [295.44, 300];\n",
      "plot(s,T,'g')\n",
      "\n",
      "s = [6.55 ,6.55];\n",
      "T = [270 ,295.44];\n",
      "plot(s,T,'r')\n",
      "\n",
      "s = [6.6, 6.6];\n",
      "T = [270 ,295.44];\n",
      "plot(s,T,'--r')\n",
      "\n",
      "s = [6.66, 6.66];\n",
      "T = [270, 295.44];\n",
      "plot(s,T,'r')\n",
      "\n",
      "\t\t\t#The area in red represents the heat flow and it goes upto x-axis\n"
     ],
     "language": "python",
     "metadata": {},
     "outputs": [
      {
       "output_type": "stream",
       "stream": "stdout",
       "text": [
        "Heat supplied = 120.513 kJ/kg\n"
       ]
      },
      {
       "metadata": {},
       "output_type": "pyout",
       "prompt_number": 50,
       "text": [
        "[<matplotlib.lines.Line2D at 0x3e9d150>]"
       ]
      },
      {
       "metadata": {},
       "output_type": "display_data",
       "png": "[encoded data removed]",
       "text": [
        "<matplotlib.figure.Figure at 0x319ff90>"
       ]
      }
     ],
     "prompt_number": 50
    },
    {
     "cell_type": "heading",
     "level": 3,
     "metadata": {},
     "source": [
      "Example 4.54 page no : 192"
     ]
    },
    {
     "cell_type": "code",
     "collapsed": false,
     "input": [
      "# Variables\n",
      "p1 = 7.*10**5; \t\t\t#Pa\n",
      "p2 = 1.5*10**5; \t\t\t#Pa\n",
      "Q = 420.; \t\t\t#kJ/kg\n",
      "uf = 696.; \t\t\t#kJ/kg\n",
      "x = 0.95;\n",
      "ug = 2573.; \t\t\t#kJ/kg\n",
      "u_f2 = 2580.; \t\t\t#kJ/kg\n",
      "u_g2 = 2856.; \t\t\t#kJ/kg\n",
      "x2 = 15./50;\n",
      "h_f1 = 697.1; \t\t\t#kJ/kg\n",
      "h_fg1 = 2064.9; \t\t\t#kJ.kg\n",
      "h_f2 = 2772.6; \t\t\t#kJ/kg\n",
      "h_g2 = 2872.9; \t\t\t#kJ/kg\n",
      "\n",
      "# Calculations and Results\n",
      "print (\"(i) Change of internal energy\")\n",
      "u1 = (1-x)*uf + x*ug;\n",
      "u2 = 2602.8; \t\t\t#kJ/kg\n",
      "du = u2-u1;\n",
      "print (\"du = \"),(du), (\"kJ/kg\")\n",
      "\n",
      "print (\"(ii) Change in enthalpy\")\n",
      "h1 = h_f1+x*h_fg1;\n",
      "h2 = h_f2+x2*(h_g2-h_f2);\n",
      "dh = h2-h1;\n",
      "print (\"dh = \"), (dh), (\"kJ/kg\")\n",
      "\n",
      "print (\"(iii) Work done   \")\n",
      "W = Q-du;\n",
      "print (\"W = \"), (W), (\"kJ/kg\")\n"
     ],
     "language": "python",
     "metadata": {},
     "outputs": [
      {
       "output_type": "stream",
       "stream": "stdout",
       "text": [
        "(i) Change of internal energy\n",
        "du =  123.65 kJ/kg\n",
        "(ii) Change in enthalpy\n",
        "dh =  143.935 kJ/kg\n",
        "(iii) Work done   \n",
        "W =  296.35 kJ/kg\n"
       ]
      }
     ],
     "prompt_number": 16
    },
    {
     "cell_type": "heading",
     "level": 3,
     "metadata": {},
     "source": [
      "Example 4.55 page no : 194"
     ]
    },
    {
     "cell_type": "code",
     "collapsed": false,
     "input": [
      "import math \n",
      "from scipy.integrate import quad \n",
      "\n",
      "\n",
      "p1 = 5.5*10**5; \t\t\t#Pa\n",
      "x1 = 1.;\n",
      "p2 = 0.75*10**5; \t\t\t#Pa\n",
      "v1 = 0.3427; \t\t\t#m**3/kg\n",
      "v2 = p1*v1/p2;\n",
      "\n",
      "# Since v2 > vg (at 0.75 bar), therefore, the steam is superheated at state 2.\n",
      "u2 = 2567.25; \t\t\t#kJ/kg\n",
      "u1 = 2565.; \t\t\t#kJ/kg\n",
      "\n",
      "# Calculations and Results\n",
      "du = u2-u1; \t\t\t#kJ/kg\n",
      "C = p1*v1;\n",
      "\n",
      "print (\"Work done  \"),\n",
      "\n",
      "def f6( v): \n",
      "\t return C/v\n",
      "\n",
      "W =  quad(f6, v1,v2)[0]\n",
      "\n",
      "print (\"W =\"),(W), (\"N-m/kg\")\n",
      "\n",
      "\n",
      "\n",
      "Q = du+W/10**3;\n",
      "\n",
      "print (\"Heat supplied  =  %.3f\")%(Q),(\"kJ/kg\")\n"
     ],
     "language": "python",
     "metadata": {},
     "outputs": [
      {
       "output_type": "stream",
       "stream": "stdout",
       "text": [
        "Work done   W = 375543.199592 N-m/kg\n",
        "Heat supplied  =  377.793 kJ/kg\n"
       ]
      }
     ],
     "prompt_number": 19
    },
    {
     "cell_type": "heading",
     "level": 3,
     "metadata": {},
     "source": [
      "Example 4.56 page no : 195"
     ]
    },
    {
     "cell_type": "code",
     "collapsed": false,
     "input": [
      "# Variables\n",
      "p1 = 100.; \t\t\t#bar\n",
      "p2 = 10.; \t\t\t#bar\n",
      "s1 = 5.619; \t\t\t#kJ/kg.K\n",
      "T = 584.; \t\t\t#K\n",
      "s2 = 7.163; \t\t\t#kJ/kg.K\n",
      "u1 = 2545.; \t\t\t#kJ/kg\n",
      "u2 = 2811.8; \t\t\t#kJ/kg\n",
      "\n",
      "# Calculations and Results\n",
      "print (\"(i)Heat supplied \")\n",
      "Q = T*(s2-s1);\n",
      "print (\"Q = \"),(Q),(\"kJ/kg\")\n",
      "\n",
      "print (\"(ii) Work done\")\n",
      "W = Q-(u2-u1);\n",
      "print (\"W = \"), (W), (\"kJ/kg\")\n"
     ],
     "language": "python",
     "metadata": {},
     "outputs": [
      {
       "output_type": "stream",
       "stream": "stdout",
       "text": [
        "(i)Heat supplied \n",
        "Q =  901.696 kJ/kg\n",
        "(ii) Work done\n",
        "W =  634.896 kJ/kg\n"
       ]
      }
     ],
     "prompt_number": 53
    },
    {
     "cell_type": "heading",
     "level": 3,
     "metadata": {},
     "source": [
      "Example 4.57 page no : 198"
     ]
    },
    {
     "cell_type": "code",
     "collapsed": false,
     "input": [
      "# Variables\n",
      "m = 1.; \t\t\t#kg\n",
      "p1 = 120.*10**5; \t#N/m**2\n",
      "t1 = 400.; \t\t\t#0C\n",
      "p2 = 38.; \t\t\t#bar\n",
      "h1 = 3051.3; \t\t#kJ/kg\n",
      "v1 = 0.02108; \t\t#m**3/kg\n",
      "\n",
      "# Calculations\n",
      "u1 = h1-p1*v1/10**3; \t#kJ/kg\n",
      "u2 = 2602; \t\t\t    #kJ/kg\n",
      "\n",
      "# Results\n",
      "W = u1-u2; \n",
      "print (\"Work done  =  %.3f\")%(W),(\"kJ/kg\")\n"
     ],
     "language": "python",
     "metadata": {},
     "outputs": [
      {
       "output_type": "stream",
       "stream": "stdout",
       "text": [
        "Work done  =  196.340 kJ/kg\n"
       ]
      }
     ],
     "prompt_number": 20
    },
    {
     "cell_type": "heading",
     "level": 3,
     "metadata": {},
     "source": [
      "Example 4.58 page no : 201 "
     ]
    },
    {
     "cell_type": "code",
     "collapsed": false,
     "input": [
      "# Variables\n",
      "p1 = 7.*10**5; \t\t\t#N/m**2\n",
      "x1 = 0.98;\n",
      "p2 = 0.34*10**5; \t\t#N/m**2\n",
      "vg = 0.273; \t\t\t#m**3/kg\n",
      "n = 1.1;\n",
      "v_g2 = 4.65; \t\t\t#m**3/kg\n",
      "u_f1 = 696.; \t\t\t#kJ/kg\n",
      "u_g1 = 2573.; \t\t\t#kJ/kg\n",
      "u_f2 = 302.; \t\t\t#kJ/kg\n",
      "u_g2 = 2472.; \t\t\t#kJ/kg\n",
      "\n",
      "# Calculations and Results\n",
      "v1 = x1*vg;\n",
      "v2 = v1*(p1/p2)**(1/n);\n",
      "x2 = v2/v_g2;\n",
      "\n",
      "\n",
      "print (\"(i) Work done by the steam during the process\")\n",
      "W = (p1*v1-p2*v2)/(n-1)/10**3; \t\t\t#kJ/kg\n",
      "print (\"W = %.3f\")%(W), (\"kJ/kg\")\n",
      "\n",
      "\n",
      "print (\"(ii) Heat transferred\")\n",
      "u1 = (1-x1)*u_f1+x1*u_g1;\n",
      "u2 = (1-x2)*u_f2+x2*u_g2;\n",
      "Q = u2-u1 + W;\n",
      "print (\"Q = %.3f\")%(Q), (\"kJ/kg\")\n"
     ],
     "language": "python",
     "metadata": {},
     "outputs": [
      {
       "output_type": "stream",
       "stream": "stdout",
       "text": [
        "(i) Work done by the steam during the process\n",
        "W = 450.232 kJ/kg\n",
        "(ii) Heat transferred\n",
        "Q = 169.289 kJ/kg\n"
       ]
      }
     ],
     "prompt_number": 55
    },
    {
     "cell_type": "heading",
     "level": 3,
     "metadata": {},
     "source": [
      "Example 4.59 page no : 203"
     ]
    },
    {
     "cell_type": "code",
     "collapsed": false,
     "input": [
      "# Variables\n",
      "p1 = 15.; \t\t\t#bar\n",
      "t1 = 350.; \t\t\t#0C\n",
      "C1 = 60.; \t\t\t#m/s\n",
      "p2 = 1.2; \t\t\t#bar\n",
      "C2 = 180.; \t\t\t#m/s\n",
      "s1 = 7.102; \t\t\t#kJ/kg\n",
      "s_f2 = 1.3609; \t\t\t#kJ/kg\n",
      "s_g2 = 7.2884; \t\t\t#kJ/kg\n",
      "h_f2 = 439.4; \t\t\t#kJ/kg\n",
      "h_fg2 = 2241.1; \t\t\t#kJ/kg\n",
      "h1 = 3147.5; \t\t\t#kJ/kg\n",
      "\n",
      "# Calculations\n",
      "x2 = (s1 - s_f2)/(s_g2-s_f2);\n",
      "h2 = h_f2+x2*h_fg2;\n",
      "W = (h1-h2) + (C1**2 - C2**2)/2/1000;\n",
      "\n",
      "# Results\n",
      "print (\"Work done  =  %.3f\")%(W),(\"kJ/kg\")\n"
     ],
     "language": "python",
     "metadata": {},
     "outputs": [
      {
       "output_type": "stream",
       "stream": "stdout",
       "text": [
        "Work done  =  523.075 kJ/kg\n"
       ]
      }
     ],
     "prompt_number": 56
    },
    {
     "cell_type": "heading",
     "level": 3,
     "metadata": {},
     "source": [
      "Example 4.60 page no : 204"
     ]
    },
    {
     "cell_type": "code",
     "collapsed": false,
     "input": [
      "# Variables\n",
      "p1 = 10.; \t\t\t#bar\n",
      "t1 = 200.; \t\t\t#0C\n",
      "C1 = 60.; \t\t\t#m/s**2\n",
      "c2 = 650.; \t\t\t#m/s\n",
      "p2 = 1.5; \t\t\t#bar\n",
      "h1 = 2827.9; \t\t\t#kJ/kg\n",
      "h_f2 = 467.1; \t\t\t#kJ/kg\n",
      "h2 = 2618.45; \t\t\t#kJ/kg\n",
      "h_g2 = 2693.4; \t\t\t#kJ/kg\n",
      "\n",
      "# Calculations\n",
      "x2 = (h2-h_f2)/(h_g2-h_f2);\n",
      "\n",
      "# Results\n",
      "print (\"quality of steam leaving the nozzle = %.3f\")%(x2)\n"
     ],
     "language": "python",
     "metadata": {},
     "outputs": [
      {
       "output_type": "stream",
       "stream": "stdout",
       "text": [
        "quality of steam leaving the nozzle = 0.966\n"
       ]
      }
     ],
     "prompt_number": 57
    },
    {
     "cell_type": "heading",
     "level": 3,
     "metadata": {},
     "source": [
      "Example 4.61 page no :  206"
     ]
    },
    {
     "cell_type": "code",
     "collapsed": false,
     "input": [
      "# Variables\n",
      "h1 = 2776.4; \t\t\t#kJ/kg\n",
      "h2 = h1;\n",
      "h_f1 = 884.6; \t\t\t#kJ/kg\n",
      "h_fg1 = 1910.3; \t\t#kJ/kg\n",
      "\n",
      "# Calculations\n",
      "x1 = (h1-h_f1)/h_fg1;\n",
      "\n",
      "# Results\n",
      "print (\"Initial dryness fraction  =  %.3f\")%(x1)\n"
     ],
     "language": "python",
     "metadata": {},
     "outputs": [
      {
       "output_type": "stream",
       "stream": "stdout",
       "text": [
        "Initial dryness fraction  =  0.990\n"
       ]
      }
     ],
     "prompt_number": 58
    },
    {
     "cell_type": "heading",
     "level": 3,
     "metadata": {},
     "source": [
      "Example 4.62 page no : 207"
     ]
    },
    {
     "cell_type": "code",
     "collapsed": false,
     "input": [
      "# Variables\n",
      "p1 = 10.; \t\t\t#bar\n",
      "x1 = 0.9; \t\t\t#bar\n",
      "p2 = 2.; \t\t\t#bar\n",
      "\n",
      "# Calculations\n",
      "# Umath.sing Mollier chart, we get\n",
      "x2 = 0.94;\n",
      "\n",
      "# Results\n",
      "print (\"x2  = \"),(x2)\n"
     ],
     "language": "python",
     "metadata": {},
     "outputs": [
      {
       "output_type": "stream",
       "stream": "stdout",
       "text": [
        "x2  =  0.94\n"
       ]
      }
     ],
     "prompt_number": 59
    },
    {
     "cell_type": "heading",
     "level": 3,
     "metadata": {},
     "source": [
      "Example 4.63 Page no :208"
     ]
    },
    {
     "cell_type": "code",
     "collapsed": false,
     "input": [
      "import math \n",
      "print (\"(a)From steam tables\")\n",
      "\n",
      "# Variables\n",
      "p1 = 15*10**5; \t\t\t#Pa\n",
      "p2 = 7.5*10**5; \t\t\t#Pa\n",
      "h_f1 = 844.7; \t\t\t#kJ/kg\n",
      "ts1 = 198.3; \t\t\t#0C\n",
      "s_f1 = 2.3145; \t\t\t#kJ/kg.K\n",
      "s_g1 = 6.4406; \t\t\t#kJ/kg.K\n",
      "v_g1 = 0.132; \t\t\t#m**3/kg\n",
      "h_fg1 = 1945.2; \t\t\t#kJ/kg\n",
      "x1 = 0.95;\n",
      "h_f2 = 709.3; \t\t\t#kJ/kg\n",
      "h_fg2 = 2055.55; \t\t\t#kJ/kg\n",
      "s_f2 = 2.0195; \t\t\t#kJ/kg\n",
      "s_g2 = 6.6816; \t\t\t#kJ/kg.K\n",
      "v_g2 = 0.255; \t\t\t#m**3/kg\n",
      "x2 = 0.9;\n",
      "x3 = 1;\n",
      "s_f3 = 0.521; \t\t\t#kJ/kg K\n",
      "s_g3 = 8.330; \t\t\t#kJ/kg K\n",
      "\n",
      "# Calculations\n",
      "h2 = h_f2+x2*h_fg2;\n",
      "h1 = h_f1 + x1*h_fg1;\n",
      "s1 = s_f1 + x1*(s_g1-s_f1);\n",
      "s2 = s1;\n",
      "ds_12 = s2-s1;\n",
      "\n",
      "s3 = s_f3+x3*(s_g3-s_f3);\n",
      "ds_23 = s3-s2;\n",
      "\n",
      "ds = 709.3 + 0.9 * 2055.55\n",
      "\n",
      "# Results\n",
      "print (\"(i) Change in entropy  = %.3f\")% (ds), (\"kJ/kg K\")\n",
      "\n",
      "h3 = h2;\n",
      "\n",
      "dh = h2-h1;\n",
      "print (\"(ii) Change in enthalpy %.2f\")%(dh), (\"kJ/kg\")\n",
      "\n",
      "\n",
      "print (\"(iii) Change in internal energy\"),\n",
      "u1 = h1-p1*x1*v_g1/10**3;\n",
      "u2 = h2-p2*x2*v_g2/10**3;\n",
      "du = u2-u1;\n",
      "print (\"du = %.3f\")% (du), (\"kJ/kg\")\n",
      "\n",
      "\n",
      "\t\t\t# Only the expansion of steam from point 1 to 2 (i.e., isentropic expansion) is reversible because of unresisted flow whereas the expansion from point 2 to point 3 (i.e., throttling expansion) is irreversible because of frictional resismath.tance to flow. Increase of entropy also shows that expansion from point 2 to point 3 is irreversible.\n",
      "\n",
      "\n",
      "print (\"(b) Using Mollier chart\")\n",
      "h1 = 2692; \t\t\t#kJ/kg\n",
      "h2 = 2560; \t\t\t#kJ/kg\n",
      "s1 = 6.23; \t\t\t#kJ/kg K\n",
      "s2 = s1;\n",
      "s3 = 8.3; \t\t\t#kJ/kg K\n",
      "\n",
      "ds = s3-s1;\n",
      "print (\"(i) Change in entropy  = %.3f\")%(ds), (\"kJ/kg K\")\n",
      "\n",
      "\n",
      "dh = h2-h1;\n",
      "print (\"(ii) Change in enthalpy  = %.3f\")%(dh),(\"kJ/kg\")\n",
      "\n",
      "u3=u2-u1\n",
      "print (\"(iii) Change in internal energy =%.3f\")%(u3),(\"kJ/kg\")\n"
     ],
     "language": "python",
     "metadata": {},
     "outputs": [
      {
       "output_type": "stream",
       "stream": "stdout",
       "text": [
        "(a)From steam tables\n",
        "(i) Change in entropy  = 2559.295 kJ/kg K\n",
        "(ii) Change in enthalpy -133.35 kJ/kg\n",
        "(iii) Change in internal energy du = -117.370 kJ/kg\n",
        "(b) Using Mollier chart\n",
        "(i) Change in entropy  = 2.070 kJ/kg K\n",
        "(ii) Change in enthalpy  = -132.000 kJ/kg\n",
        "(iii) Change in internal energy =-117.370 kJ/kg\n"
       ]
      }
     ],
     "prompt_number": 4
    },
    {
     "cell_type": "heading",
     "level": 3,
     "metadata": {},
     "source": [
      "Example 4.64 Page no :212"
     ]
    },
    {
     "cell_type": "code",
     "collapsed": false,
     "input": [
      "# Variables\n",
      "V1 = 5.5; \t\t\t#m**3\n",
      "p1 = 16.*10**5; \t\t\t#Pa\n",
      "T1 = 315.; \t\t\t#K\n",
      "V2 = V1;\n",
      "p2 = 12.*10**5; \t\t\t#Pa\n",
      "R = 0.287*10**3;\n",
      "y = 1.4;\n",
      "\n",
      "# Calculations\n",
      "m1 = p1*V1/R/T1;\n",
      "T2 = T1*(p2/p1)**((y-1)/y);\n",
      "m2 = p2*V2/R/T2;\n",
      "\n",
      "# Results\n",
      "m = m1-m2;\n",
      "print (\"Mass of air which left the receiver = %.3f\")% (m), (\"kg\")\n",
      "\n",
      "# Note : Rounding error is there."
     ],
     "language": "python",
     "metadata": {},
     "outputs": [
      {
       "output_type": "stream",
       "stream": "stdout",
       "text": [
        "Mass of air which left the receiver = 18.081 kg\n"
       ]
      }
     ],
     "prompt_number": 3
    },
    {
     "cell_type": "heading",
     "level": 3,
     "metadata": {},
     "source": [
      "Example 4.65 Page no :213"
     ]
    },
    {
     "cell_type": "code",
     "collapsed": false,
     "input": [
      "# Variables\n",
      "cp = 1.; \t\t\t#kJ/kg.K\n",
      "cv = 0.711; \t\t\t#kJ/kg.K\n",
      "V1 = 1.6; \t\t\t#m**3\n",
      "V2 = V1;\n",
      "p1 = 5.*10**5; \t\t\t#Pa\n",
      "T1 = 373.; \t\t\t#K\n",
      "p2 = 1.*10**5; \t\t\t#Pa\n",
      "R = 287.;\n",
      "y = 1.4;\n",
      "\n",
      "# Calculations\n",
      "m1 = round(p1*V1/R/T1,2);\n",
      "T2 = round(T1*(p2/p1)**((y-1)/y),2);\n",
      "m2 = round(p2*V2/R/T2,3);\n",
      "KE = (m1*cv*T1)-(m2*cv*T2)-(m1-m2)*cp*T2;\n",
      "\n",
      "# Results\n",
      "print \"Kinetic energy of discharge air  = %.3f\"% (KE), (\"kJ\")\n",
      "print (\"This is the exact answer when using proper value of cv\")\n",
      "\n",
      "# Book answer is wrong."
     ],
     "language": "python",
     "metadata": {},
     "outputs": [
      {
       "output_type": "stream",
       "stream": "stdout",
       "text": [
        "Kinetic energy of discharge air  = 382.910 kJ\n",
        "This is the exact answer when using proper value of cv\n"
       ]
      }
     ],
     "prompt_number": 2
    },
    {
     "cell_type": "heading",
     "level": 3,
     "metadata": {},
     "source": [
      "Example 4.66 Page no :214"
     ]
    },
    {
     "cell_type": "code",
     "collapsed": false,
     "input": [
      "#For oxygen\n",
      "import math \n",
      "\n",
      "# Variables\n",
      "cpa = 0.88; \t\t\t#kJ/kg K\n",
      "Ra = 0.24; \t\t\t#kJ/kg K\n",
      "V1a = 0.035; \t\t\t#m**3\n",
      "p1a = 4.5; \t\t\t#bar\n",
      "T1a = 333.; \t\t\t#K\n",
      "V2a = 0.07; \t\t\t#m**3\n",
      "\n",
      "#For methane\n",
      "V1b = 0.07; \t\t\t#m**3\n",
      "V2b = 0.035; \t\t\t#m**3\n",
      "p1b = 4.5; \t\t\t#bar\n",
      "T1b = 261; \t\t\t#K\n",
      "cpb = 1.92; \t\t\t#kJ/kg K\n",
      "Rb = 0.496; \t\t\t#kJ/kg K\n",
      "\n",
      "# Calculations and Results\n",
      "yb = cpb/(cpb-Rb); \t\t\t#for methane\n",
      "cva = cpa-Ra; \t\t\t#for oxygen\n",
      "\n",
      "print (\"(i) Final state condition\")\n",
      "\n",
      "p2b = p1b*(V1b/V2b)**yb;\n",
      "print (\"p2 for methane  = %.3f\")% (p2b), (\"bar\")\n",
      "\n",
      "T2b = p2b*V2b*T1b/p1b/V1b;\n",
      "print (\"T2 for methane  = %.3f\")% (T2b), (\"K\")\n",
      "\n",
      "p2a = p2b;\n",
      "\n",
      "T2a = p2a*V2a/p1a/V1a*T1a;\n",
      "print (\"T2 for oxygen  = %.3f\")% (T2a), (\"K\")\n",
      "\n",
      "Wb = (p1b*V1b - p2b*V2b)/(yb-1)*100; \t\t\t#kJ\n",
      "\n",
      "print (\"(ii)The piston will be in virtual equilibrium and hence zero work is effected by the piston.\")\n",
      "\n",
      "Wa = -Wb;\n",
      "\n",
      "ma = p1a*V1a/Ra/T1a*10**2;\n",
      "\n",
      "Q = ma*cva*(T2a-T1a) + Wa;\n",
      "print \"(iii) Heat transferred to oxygen  = %.3f\"% (Q), (\"kJ\")\n",
      "\n",
      "# Rouding error is there."
     ],
     "language": "python",
     "metadata": {},
     "outputs": [
      {
       "output_type": "stream",
       "stream": "stdout",
       "text": [
        "(i) Final state condition\n",
        "p2 for methane  = 11.458 bar\n",
        "T2 for methane  = 332.272 K\n",
        "T2 for oxygen  = 1695.733 K\n",
        "(ii)The piston will be in virtual equilibrium and hence zero work is effected by the piston.\n",
        "(iii) Heat transferred to oxygen  = 196.572 kJ\n"
       ]
      }
     ],
     "prompt_number": 1
    },
    {
     "cell_type": "code",
     "collapsed": false,
     "input": [],
     "language": "python",
     "metadata": {},
     "outputs": []
    }
   ],
   "metadata": {}
  }
 ]
}