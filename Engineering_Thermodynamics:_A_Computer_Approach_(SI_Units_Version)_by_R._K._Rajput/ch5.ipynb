{
 "metadata": {
  "name": ""
 },
 "nbformat": 3,
 "nbformat_minor": 0,
 "worksheets": [
  {
   "cells": [
    {
     "cell_type": "heading",
     "level": 3,
     "metadata": {},
     "source": [
      "Chapter 5 : Second Law of Thermodynamics and Entropy"
     ]
    },
    {
     "cell_type": "heading",
     "level": 3,
     "metadata": {},
     "source": [
      "Example 5.1 Page no : 237"
     ]
    },
    {
     "cell_type": "code",
     "collapsed": false,
     "input": [
      "# Variables\n",
      "Q1 = 1500./60; \t\t#kJ/s\n",
      "W = 8.2; \t\t\t#kW\n",
      "\n",
      "# Calculations and Results\n",
      "print (\"(i) Thermal efficiency\")\n",
      "n = W/Q1;\n",
      "print (\"n = \"),(n)\n",
      "\n",
      "print (\"(ii) Rate of heat rejection\")\n",
      "Q2 = Q1-W; \n",
      "print (\"Q2 = \"),(Q2), (\"kW\")\n"
     ],
     "language": "python",
     "metadata": {},
     "outputs": [
      {
       "output_type": "stream",
       "stream": "stdout",
       "text": [
        "(i) Thermal efficiency\n",
        "n =  0.328\n",
        "(ii) Rate of heat rejection\n",
        "Q2 =  16.8 kW\n"
       ]
      }
     ],
     "prompt_number": 1
    },
    {
     "cell_type": "heading",
     "level": 3,
     "metadata": {},
     "source": [
      "Example 5.2 Page no : 238"
     ]
    },
    {
     "cell_type": "code",
     "collapsed": false,
     "input": [
      "# Variables\n",
      "Q_12 = 30.; \t\t#kJ\n",
      "W_12 = 60; \t\t\t#kJ\n",
      "\n",
      "# Calculations\n",
      "dU_12 = Q_12-W_12;\n",
      "Q_21 = 0;\n",
      "W_21 = Q_21+dU_12;\n",
      "\n",
      "# Results\n",
      "print (\"W_21  = \"),(W_21)\n",
      "print (\"Thus 30 kJ work has to be done on the system to restore it to original state, by adiabatic process.\")\n"
     ],
     "language": "python",
     "metadata": {},
     "outputs": [
      {
       "output_type": "stream",
       "stream": "stdout",
       "text": [
        "W_21  =  -30.0\n",
        "Thus 30 kJ work has to be done on the system to restore it to original state, by adiabatic process.\n"
       ]
      }
     ],
     "prompt_number": 2
    },
    {
     "cell_type": "heading",
     "level": 3,
     "metadata": {},
     "source": [
      "Example 5.3 Page no : 239"
     ]
    },
    {
     "cell_type": "code",
     "collapsed": false,
     "input": [
      "# Variables\n",
      "Q2 = 12000.; \t\t\t#kJ/h\n",
      "W = 0.75*60*60; \t\t#kJ/h\n",
      "\n",
      "# Calculations and Results\n",
      "COP = Q2/W;\n",
      "print (\"Coefficient of performance %.3f\")%(COP)\n",
      "\n",
      "Q1 = Q2+W;\n",
      "print (\"heat transfer rate = %.3f\")%(Q1), (\"kJ/h\")\n"
     ],
     "language": "python",
     "metadata": {},
     "outputs": [
      {
       "output_type": "stream",
       "stream": "stdout",
       "text": [
        "Coefficient of performance 4.444\n",
        "heat transfer rate = 14700.000 kJ/h\n"
       ]
      }
     ],
     "prompt_number": 3
    },
    {
     "cell_type": "heading",
     "level": 3,
     "metadata": {},
     "source": [
      "Example 5.4 Page no : 239"
     ]
    },
    {
     "cell_type": "code",
     "collapsed": false,
     "input": [
      "# Variables\n",
      "T2 = 261.; \t\t\t#K\n",
      "T1 = 308.; \t\t\t#K\n",
      "Q2 = 2.; \t\t\t#kJ/s\n",
      "\n",
      "# Calculations\n",
      "Q1 = Q2*(T1/T2);\n",
      "W = Q1-Q2;\n",
      "\n",
      "# Results\n",
      "print (\"Least power required to pump the heat continuosly %.3f\")%(W),(\"kW\")\n"
     ],
     "language": "python",
     "metadata": {},
     "outputs": [
      {
       "output_type": "stream",
       "stream": "stdout",
       "text": [
        "Least power required to pump the heat continuosly 0.360 kW\n"
       ]
      }
     ],
     "prompt_number": 5
    },
    {
     "cell_type": "heading",
     "level": 3,
     "metadata": {},
     "source": [
      "Example 5.5 Page no :239"
     ]
    },
    {
     "cell_type": "code",
     "collapsed": false,
     "input": [
      "import math \n",
      "\n",
      "\n",
      "# Variables\n",
      "Q1 = 2*10**5; \t\t\t#kJ/h\n",
      "W = 3*10**4; \t\t\t#kJ/h\n",
      "\n",
      "# Calculations and Results\n",
      "Q2 = Q1-W;\n",
      "print (\"Heat abstracted from outside = \"),(Q2), (\"kJ/h\")\n",
      "\n",
      "\n",
      "COP_hp = Q1/(Q1-Q2);\n",
      "print (\"Co-efficient of performance = %.2f\")%(COP_hp)\n"
     ],
     "language": "python",
     "metadata": {},
     "outputs": [
      {
       "output_type": "stream",
       "stream": "stdout",
       "text": [
        "Heat abstracted from outside =  170000 kJ/h\n",
        "Co-efficient of performance = 6.00\n"
       ]
      }
     ],
     "prompt_number": 4
    },
    {
     "cell_type": "heading",
     "level": 3,
     "metadata": {},
     "source": [
      "Example 5.6 Page no : 240"
     ]
    },
    {
     "cell_type": "code",
     "collapsed": false,
     "input": [
      "# Variables\n",
      "T1 = 2373; \t\t\t#K\n",
      "T2 = 288.; \t\t\t#K\n",
      "\n",
      "# Calculations\n",
      "n_max = 1-T2/T1;\n",
      "\n",
      "# Results\n",
      "print (\"Highest possible theoritical efficiency = %.3f\")% (n_max*100), (\"%\")\n"
     ],
     "language": "python",
     "metadata": {},
     "outputs": [
      {
       "output_type": "stream",
       "stream": "stdout",
       "text": [
        "Highest possible theoritical efficiency = 87.863 %\n"
       ]
      }
     ],
     "prompt_number": 7
    },
    {
     "cell_type": "heading",
     "level": 3,
     "metadata": {},
     "source": [
      "Example 5.7 Page no : 240"
     ]
    },
    {
     "cell_type": "code",
     "collapsed": false,
     "input": [
      "# Variables\n",
      "T1 = 523.; \t\t\t#K\n",
      "T2 = 258.; \t\t\t#K\n",
      "Q1 = 90.; \t\t\t#kJ\n",
      "\n",
      "# Calculations and Results\n",
      "n = 1-T2/T1;\n",
      "print (\"(i) Efficiency of the system %.3f\")%(n*100), (\"%\")\n",
      "\n",
      "W = n*Q1;\n",
      "print (\"(ii) The net work transfer\"),(\"W = %.3f\")%(W),(\"kJ\")\n",
      " \n",
      "Q2 = Q1-W;\n",
      "print (\"(iii) Heat rejected to the math.sink\"),(\"Q2 = %.3f\")%(Q2),(\"kJ\")\n"
     ],
     "language": "python",
     "metadata": {},
     "outputs": [
      {
       "output_type": "stream",
       "stream": "stdout",
       "text": [
        "(i) Efficiency of the system 50.669 %\n",
        "(ii) The net work transfer W = 45.602 kJ\n",
        "(iii) Heat rejected to the math.sink Q2 = 44.398 kJ\n"
       ]
      }
     ],
     "prompt_number": 6
    },
    {
     "cell_type": "heading",
     "level": 3,
     "metadata": {},
     "source": [
      "Example 5.8 Page no : 241"
     ]
    },
    {
     "cell_type": "code",
     "collapsed": false,
     "input": [
      "# Variables\n",
      "T1 = 1023.; \t\t#K\n",
      "T2 = 298.; \t\t\t#K\n",
      "\n",
      "# Calculations\n",
      "n_carnot = 1-T2/T1;\n",
      "W = 75*1000*60*60;\n",
      "Q = 3.9*74500*1000;\n",
      "n_thermal = W/Q;\n",
      "\n",
      "# Results\n",
      "print (\"n_carnot  = %.3f\")%(n_carnot)\n",
      "\n",
      "print (\"n_thermal  = %.3f\")%(n_thermal)\n",
      "\n",
      "print (\"Since \u03b7thermal > \u03b7carnot, therefore claim of the inventor is not valid (or possible)\")\n"
     ],
     "language": "python",
     "metadata": {},
     "outputs": [
      {
       "output_type": "stream",
       "stream": "stdout",
       "text": [
        "n_carnot  = 0.709\n",
        "n_thermal  = 0.929\n",
        "Since \u03b7thermal > \u03b7carnot, therefore claim of the inventor is not valid (or possible)\n"
       ]
      }
     ],
     "prompt_number": 7
    },
    {
     "cell_type": "heading",
     "level": 3,
     "metadata": {},
     "source": [
      "Example 5.9 Page no : 241"
     ]
    },
    {
     "cell_type": "code",
     "collapsed": false,
     "input": [
      "# Variables\n",
      "T1 = 1273.; \t\t#K\n",
      "T2 = 313.; \t\t\t#K\n",
      "n_max = 1-T2/T1;\n",
      "Wnet = 1.;\n",
      "\n",
      "# Calculations\n",
      "Q1 = Wnet/n_max;\n",
      "Q2 = Q1-Wnet;\n",
      "\n",
      "# Results\n",
      "print (\"the least rate of heat rejection  =  %.3f\")%(Q2), (\"kW\")\n"
     ],
     "language": "python",
     "metadata": {},
     "outputs": [
      {
       "output_type": "stream",
       "stream": "stdout",
       "text": [
        "the least rate of heat rejection  =  0.326 kW\n"
       ]
      }
     ],
     "prompt_number": 10
    },
    {
     "cell_type": "heading",
     "level": 3,
     "metadata": {},
     "source": [
      "Example 5.10 Page no : 242"
     ]
    },
    {
     "cell_type": "code",
     "collapsed": false,
     "input": [
      "# Variables\n",
      "one_ton_of_refrigeration = 210.; \t\t\t#kJ/min\n",
      "Cooling_required = 40*(one_ton_of_refrigeration); \t\t\t#kJ/min\n",
      "T1 = 303.; \t\t\t#K\n",
      "T2 = 238.; \t\t\t#K\n",
      "\n",
      "# Calculations\n",
      "COP_refrigerator = T2/(T1-T2);\n",
      "COP_actual = 0.20*COP_refrigerator;\n",
      "W = Cooling_required/COP_actual/60;\n",
      "\n",
      "# Results\n",
      "print (\"power required  =  %.1f\")% (W), (\"kW\")\n"
     ],
     "language": "python",
     "metadata": {},
     "outputs": [
      {
       "output_type": "stream",
       "stream": "stdout",
       "text": [
        "power required  =  191.2 kW\n"
       ]
      }
     ],
     "prompt_number": 2
    },
    {
     "cell_type": "heading",
     "level": 3,
     "metadata": {},
     "source": [
      "Example 5.11 Page no : 242"
     ]
    },
    {
     "cell_type": "code",
     "collapsed": false,
     "input": [
      "# Variables\n",
      "E = 12000.; \t\t#kJ/min\n",
      "T2 = 308.; \t\t\t#K\n",
      "# Source 1\n",
      "T1 = 593.; \t\t\t#K\n",
      "\n",
      "# Calculations\n",
      "n1 = 1-T2/T1;\n",
      "# Source 2\n",
      "T1 = 343.; \t\t\t#K\n",
      "n2 = 1-T2/T1;\n",
      "W1 = E*n1;\n",
      "\n",
      "# Results\n",
      "print (\"W1  = %.3f\")% (W1),(\"kJ/min\")\n",
      "\n",
      "W2 = E*n2;\n",
      "print (\"W2  = %.3f\")% (W2),(\"kJ/min\")\n",
      "\n",
      "print (\"Thus, choose source 2.\")\n",
      "print (\"The source 2 is selected even though efficiency in this case is lower, because the criterion for selection is the larger output.\")\n"
     ],
     "language": "python",
     "metadata": {},
     "outputs": [
      {
       "output_type": "stream",
       "stream": "stdout",
       "text": [
        "W1  = 5767.285 kJ/min\n",
        "W2  = 1224.490 kJ/min\n",
        "Thus, choose source 2.\n",
        "The source 2 is selected even though efficiency in this case is lower, because the criterion for selection is the larger output.\n"
       ]
      }
     ],
     "prompt_number": 8
    },
    {
     "cell_type": "heading",
     "level": 3,
     "metadata": {},
     "source": [
      " Example 5.12 Page no : 243"
     ]
    },
    {
     "cell_type": "code",
     "collapsed": false,
     "input": [
      "# Variables\n",
      "T1 = 973.; \t\t\t#K\n",
      "T2 = 323.; \t\t\t#K\n",
      "T3 = 248.; \t\t\t#K\n",
      "\n",
      "Q1 = 2500.; \t\t\t#kJ\n",
      "W = 400.;    \t\t\t#kJ\n",
      "\n",
      "# Calculations and Results\n",
      "n_max = 1-T2/T1;\n",
      "W1 = n_max*Q1;\n",
      "COP_max = T3/(T2-T3);\n",
      "W2 = W1-W;\n",
      "Q4 = COP_max*W2;\n",
      "COP1 = round(Q4/W2,3);\n",
      "Q3 = Q4+W2;\n",
      "Q2 = Q1-W1;\n",
      "print (\"Heat rejection to the 50\u00b0C reservoir = %.3f\")%(Q2+Q3), (\"kJ\")\n",
      "\n",
      "\n",
      "n = 0.45*n_max;\n",
      "W1 = n*Q1;\n",
      "W2 = W1-W;\n",
      "COP2 = 0.45*COP1;\n",
      "Q4 = W2*COP2;\n",
      "Q3 = Q4+W2;\n",
      "Q2 = Q1-W1;\n",
      "\n",
      "print (\"Heat rejected to 50\u00b0C reservoir = %.3f\")% (Q2+Q3), (\"kJ\")\n",
      "\n",
      "# Note : Answers are slightly different then book because of Rounding Error."
     ],
     "language": "python",
     "metadata": {},
     "outputs": [
      {
       "output_type": "stream",
       "stream": "stdout",
       "text": [
        "Heat rejection to the 50\u00b0C reservoir = 6299.773 kJ\n",
        "Heat rejected to 50\u00b0C reservoir = 2623.147 kJ\n"
       ]
      }
     ],
     "prompt_number": 1
    },
    {
     "cell_type": "heading",
     "level": 3,
     "metadata": {},
     "source": [
      "Example 5.13 Page no : 244"
     ]
    },
    {
     "cell_type": "code",
     "collapsed": false,
     "input": [
      "# Variables\n",
      "T1 = 298.; \t\t\t#K\n",
      "T2 = 273.; \t\t\t#K\n",
      "Q1 = 24.; \t\t\t#kJ/s\n",
      "T3 = 653.; \t\t\t#K\n",
      "\n",
      "# Calculations and Results\n",
      "COP = T1/(T1-T2);\n",
      "print (\"(i) determine COP and work input required\")\n",
      "\n",
      "print (\"Coefficient of performance  =  \"),(COP)\n",
      "\n",
      "COP_ref = T2/(T1-T2);\n",
      "W = Q1/COP_ref;\n",
      "print (\"Work input required  =  %.3f\")%(W),(\"kW\")\n",
      "\n",
      " \n",
      "Q4 = T1*W/(T3-T1);\n",
      "Q3 = Q4+W;\n",
      "Q2 = Q1+W;\n",
      "COP = Q1/Q3;\n",
      "print (\"(ii)Determine overall COP of the system \"),(\"COP = %.3f\")%(COP)\n",
      "\n",
      "COP_overall = (Q2+Q4)/Q3;\n",
      "print (\"Overall COP = %.3f\")%(COP_overall)\n"
     ],
     "language": "python",
     "metadata": {},
     "outputs": [
      {
       "output_type": "stream",
       "stream": "stdout",
       "text": [
        "(i) determine COP and work input required\n",
        "Coefficient of performance  =   11.92\n",
        "Work input required  =  2.198 kW\n",
        "(ii)Determine overall COP of the system  COP = 5.937\n",
        "Overall COP = 6.937\n"
       ]
      }
     ],
     "prompt_number": 10
    },
    {
     "cell_type": "heading",
     "level": 3,
     "metadata": {},
     "source": [
      "Example 5.14 Page no : 245"
     ]
    },
    {
     "cell_type": "code",
     "collapsed": false,
     "input": [
      "# Variables\n",
      "T_e1 = 493.; \t\t\t#K\n",
      "T_e2 = 298.; \t\t\t#K\n",
      "T_p1 = 298.; \t\t\t#K\n",
      "T_p2 = 273.; \t\t\t#K\n",
      "Amt = 15.; \t\t    \t#tonnes produced per day\n",
      "h = 334.5; \t\t\t    #kJ/kg\n",
      "Q_abs = 44500.; \t\t#kJ/kg\n",
      "\n",
      "# Calculations and Results\n",
      "Q_p2 = Amt*10**3*h/24/60;\n",
      "COP_hp = T_p2/(T_p1-T_p2);\n",
      "W = Q_p2/COP_hp/60;\n",
      "print (\"(i)Power developed by the engine  =  %.3f\")%(W),(\"kW\")\n",
      "\n",
      "print (\"(ii) Fuel consumed per hour\")\n",
      "n_carnot = 1-(T_e2/T_e1);\n",
      "Q_e1 = W/n_carnot*3600; \t\t\t#kJ/h\n",
      "fuel_consumed = Q_e1/Q_abs;\n",
      "print (\"Quantity of fuel consumed/hour  =  %.3f\")%(fuel_consumed),(\"kg/h\")\n"
     ],
     "language": "python",
     "metadata": {},
     "outputs": [
      {
       "output_type": "stream",
       "stream": "stdout",
       "text": [
        "(i)Power developed by the engine  =  5.318 kW\n",
        "(ii) Fuel consumed per hour\n",
        "Quantity of fuel consumed/hour  =  1.088 kg/h\n"
       ]
      }
     ],
     "prompt_number": 15
    },
    {
     "cell_type": "heading",
     "level": 3,
     "metadata": {},
     "source": [
      "Example 5.15 Page no : 247"
     ]
    },
    {
     "cell_type": "code",
     "collapsed": false,
     "input": [
      "# Variables\n",
      "T1 = 550.; \t\t\t#K\n",
      "T3 = 350.; \t\t\t#K\n",
      "\n",
      "# Calculations\n",
      "T2 = (T1+T3)/2;\n",
      "\n",
      "# Results\n",
      "print (\"Intermediate temperature  = \"), (T2),(\"K\")\n"
     ],
     "language": "python",
     "metadata": {},
     "outputs": [
      {
       "output_type": "stream",
       "stream": "stdout",
       "text": [
        "Intermediate temperature  =  450.0 K\n"
       ]
      }
     ],
     "prompt_number": 16
    },
    {
     "cell_type": "heading",
     "level": 3,
     "metadata": {},
     "source": [
      "Example 5.16 Page no : 247"
     ]
    },
    {
     "cell_type": "code",
     "collapsed": false,
     "input": [
      "# Variables\n",
      "T1 = 600.; \t\t\t#K\n",
      "T2 = 300.; \t\t\t#K\n",
      "\n",
      "# Calculations and Results\n",
      "T3 = 2*T1/(T1/T2+1);\n",
      "print (\"(i) When Q1 = Q2\"),(\"T3 = \"),(T3),(\"K\")\n",
      "\n",
      "\n",
      "print (\"(ii) Efficiency of Carnot engine and COP of carnot refrigerator\")\n",
      "n = (T1-T3)/T1; \t\t\t#carnot engine\n",
      "COP = T2/(T3-T2); \t\t\t#refrigerator\n",
      "\n",
      "print (\"Efficiency of carnot engine  =  %.3f\")% (n)\n",
      "\n",
      "print (\"COP of carnot refrigerator  =  \"), (COP)\n"
     ],
     "language": "python",
     "metadata": {},
     "outputs": [
      {
       "output_type": "stream",
       "stream": "stdout",
       "text": [
        "(i) When Q1 = Q2 T3 =  400.0 K\n",
        "(ii) Efficiency of Carnot engine and COP of carnot refrigerator\n",
        "Efficiency of carnot engine  =  0.333\n",
        "COP of carnot refrigerator  =   3.0\n"
       ]
      }
     ],
     "prompt_number": 11
    },
    {
     "cell_type": "heading",
     "level": 3,
     "metadata": {},
     "source": [
      "Example 5.17 Page no : 249"
     ]
    },
    {
     "cell_type": "code",
     "collapsed": false,
     "input": [
      "# Variables\n",
      "T3 = 278.; \t\t\t#K\n",
      "T2 = 350.; \t\t\t#K\n",
      "T4 = T2;\n",
      "T1 = 1350.; \t\t\t#K\n",
      "\n",
      "# Calculations\n",
      "Q1 = 100/(((T4/T1)*(T1-T2)/(T4-T3))+T2/T1)  \t#Q4+Q2 = 100; Q4 = Q1*((T4/T1)*(T1-T2)/(T4-T3)); Q2 = T2/T1*Q1;\n",
      "\n",
      "# Results\n",
      "print (\"Q1 = %.3f\")%(Q1),(\"kJ\")\n"
     ],
     "language": "python",
     "metadata": {},
     "outputs": [
      {
       "output_type": "stream",
       "stream": "stdout",
       "text": [
        "Q1 = 25.906 kJ\n"
       ]
      }
     ],
     "prompt_number": 18
    },
    {
     "cell_type": "heading",
     "level": 3,
     "metadata": {},
     "source": [
      "Example 5.18 Page no : 250"
     ]
    },
    {
     "cell_type": "code",
     "collapsed": false,
     "input": [
      "# Variables\n",
      "Q1 = 300.; \t\t\t#kJ/s\n",
      "T1 = 290.; \t\t\t#0C\n",
      "T2 = 8.5; \t\t\t#0C\n",
      "\n",
      "# Calculations and Results\n",
      "print (\"let \u03a3dQ/T  =  A\")\n",
      "\n",
      "print (\"(i) 215 kJ/s are rejected\")\n",
      "Q2 = 215.; \t\t\t#kJ/s\n",
      "A =  Q1/(T1+273) - Q2/(T2+273)\n",
      "print (\"Since, A<0, Cycle is irreversible.\")\n",
      "\n",
      "\n",
      "print (\"(ii) 150 kJ/s are rejected\")\n",
      "Q2 = 150; \t\t\t#kJ/s\n",
      "A =  Q1/(T1+273) - Q2/(T2+273)\n",
      "print (\"Since A = 0, cycle is reversible\")\n",
      "\n",
      "\n",
      "print (\"(iii) 75 kJ/s are rejected.\")\n",
      "Q2 = 75; \t\t\t#kJ/s\n",
      "A =  Q1/(T1+273) - Q2/(T2+273)\n",
      "print (\"Since A>0, cycle is impossible\")\n"
     ],
     "language": "python",
     "metadata": {},
     "outputs": [
      {
       "output_type": "stream",
       "stream": "stdout",
       "text": [
        "let \u03a3dQ/T  =  A\n",
        "(i) 215 kJ/s are rejected\n",
        "Since, A<0, Cycle is irreversible.\n",
        "(ii) 150 kJ/s are rejected\n",
        "Since A = 0, cycle is reversible\n",
        "(iii) 75 kJ/s are rejected.\n",
        "Since A>0, cycle is impossible\n"
       ]
      }
     ],
     "prompt_number": 65
    },
    {
     "cell_type": "heading",
     "level": 3,
     "metadata": {},
     "source": [
      "Example 5.19 Page no : 251"
     ]
    },
    {
     "cell_type": "code",
     "collapsed": false,
     "input": [
      "# Variables\n",
      "P1 = 0.124*10**5; \t\t\t#N/m**2\n",
      "T1 = 433; \t\t\t#K\n",
      "T2 = 323; \t\t\t#K\n",
      "h_f1 = 687; \t\t\t#kJ/kg\n",
      "h2 = 2760; \t\t\t#kJ/kg\n",
      "h3 = 2160; \t\t\t#kJ/kg\n",
      "h_f4 = 209; \t\t\t#kJ/kg\n",
      "\n",
      "# Calculations and Results\n",
      "Q1 = h2-h_f1;\n",
      "Q2 = h_f4-h3;\n",
      "print (\"Let A = \u03a3dQ/T\")\n",
      "A = Q1/T1+Q2/T2;\n",
      "print (A)\n",
      "print (\"A<0. Hence classius inequality is verified\")\n"
     ],
     "language": "python",
     "metadata": {},
     "outputs": [
      {
       "output_type": "stream",
       "stream": "stdout",
       "text": [
        "Let A = \u03a3dQ/T\n",
        "-3\n",
        "A<0. Hence classius inequality is verified\n"
       ]
      }
     ],
     "prompt_number": 66
    },
    {
     "cell_type": "heading",
     "level": 3,
     "metadata": {},
     "source": [
      "Example 5.20 Page no :251"
     ]
    },
    {
     "cell_type": "code",
     "collapsed": false,
     "input": [
      "\n",
      "# Variables\n",
      "T1 = 437.;  \t\t\t#K\n",
      "T2 = 324.; \t    \t\t#K\n",
      "h2 = 2760.; \t\t\t#kJ/kg\n",
      "h1 = 690.; \t\t    \t#kJ/kg\n",
      "h3 = 2360.; \t\t\t#kJ/kg\n",
      "h4 = 450.; \t\t\t    #kJkg\n",
      "\n",
      "# Calculations\n",
      "Q1 = h2-h1;\n",
      "Q2 = h4-h3;\n",
      "\n",
      "# Results\n",
      "print (\"Let A = \u03a3dQ/T\")\n",
      "A = Q1/T1 + Q2/T2;\n",
      "print \"%.3f\"%(A)\n",
      "print (\"Since A<0, Classius inequality is verified\")\n"
     ],
     "language": "python",
     "metadata": {},
     "outputs": [
      {
       "output_type": "stream",
       "stream": "stdout",
       "text": [
        "Let A = \u03a3dQ/T\n",
        "-1.158\n",
        "Since A<0, Classius inequality is verified\n"
       ]
      }
     ],
     "prompt_number": 19
    },
    {
     "cell_type": "heading",
     "level": 3,
     "metadata": {},
     "source": [
      "Example 5.21 Page no : 266"
     ]
    },
    {
     "cell_type": "code",
     "collapsed": false,
     "input": [
      "import math \n",
      "\n",
      "# Variables\n",
      "T0 = 273.; \t\t\t#K\n",
      "T1 = 673.; \t\t\t#K\n",
      "T2 = 298.; \t\t\t#K\n",
      "m_w = 10.; \t\t\t#kg\n",
      "T3 = 323.; \t\t\t#K\n",
      "c_pw = 4186.; \t\t#kJ/kg.K\n",
      "\n",
      "# Calculations and Results\n",
      "print (\"Let C = mi*cpi\")\n",
      "C = m_w*c_pw*(T3-T2)/(T1-T3);\n",
      "S_iT1 = C*math.log(T1/T0); \t\t\t# Entropy of iron at 673 K\n",
      "S_wT2 = m_w*c_pw*math.log(T2/T0); \t#Entropy of water at 298 K\n",
      "S_iT3 = C*math.log(T3/T0); \t\t\t#Entropy of iron at 323 K\n",
      "S_wT3 = m_w*c_pw*math.log(T3/T0); \t#Entropy of water at 323 K\n",
      "\n",
      "dS_i = S_iT3 - S_iT1;\n",
      "dS_w = S_wT3 - S_wT2; \n",
      "dS_net = dS_i + dS_w\n",
      "\n",
      "print (\"Since dS>0, process is irreversible\")\n"
     ],
     "language": "python",
     "metadata": {},
     "outputs": [
      {
       "output_type": "stream",
       "stream": "stdout",
       "text": [
        "Let C = mi*cpi\n",
        "Since dS>0, process is irreversible\n"
       ]
      }
     ],
     "prompt_number": 68
    },
    {
     "cell_type": "heading",
     "level": 3,
     "metadata": {},
     "source": [
      "Example 5.23 Page no : 267"
     ]
    },
    {
     "cell_type": "code",
     "collapsed": false,
     "input": [
      "import math \n",
      "\n",
      "# Variables\n",
      "T1 = 293.; \t\t\t#K\n",
      "V1 = 0.025; \t\t\t#m**3\n",
      "V3 = V1;\n",
      "p1 = 1.05*10**5; \t\t\t#N/m**2\n",
      "p2 = 4.5*10**5; \t\t\t#N/m**2\n",
      "R = 0.287*10**3; \n",
      "cv = 0.718;\n",
      "cp = 1.005;\n",
      "T3 = 293.; \t\t\t#K\n",
      "\n",
      "# Calculations and Results\n",
      "m = p1*V1/R/T1;\n",
      "T2 = p2/p1*T1;\n",
      "Q_12 = m*cv*(T2-T1);\n",
      "Q_23 = m*cp*(T3-T2)\n",
      "\n",
      "Q_net = Q_12+Q_23;\n",
      "print (\"Net heat flow  =  \"),(Q_net), (\"kJ\")\n",
      "\n",
      "\n",
      "dS_32 = m*cp*math.log(T2/T1);\n",
      "dS_12 = m*cv*math.log(T2/T1);\n",
      "dS_31 = dS_32 - dS_12;\n",
      "print (\"Decrease in entropy  =  %.3f\")% (dS_31), (\"kJ/K\")\n"
     ],
     "language": "python",
     "metadata": {},
     "outputs": [
      {
       "output_type": "stream",
       "stream": "stdout",
       "text": [
        "Net heat flow  =   -8.625 kJ\n",
        "Decrease in entropy  =  0.013 kJ/K\n"
       ]
      }
     ],
     "prompt_number": 12
    },
    {
     "cell_type": "heading",
     "level": 3,
     "metadata": {},
     "source": [
      "Example 5.24 Page no : 269"
     ]
    },
    {
     "cell_type": "code",
     "collapsed": false,
     "input": [
      "%matplotlib inline\n",
      "\n",
      "from matplotlib.pyplot import *\n",
      "from numpy import *\n",
      "import math \n",
      "\n",
      "# Variables\n",
      "p1 = 1.05*10**5; \t#N/m**2\n",
      "V1 = 0.04; \t\t\t#m**3\n",
      "T1 = 288.; \t\t\t#K\n",
      "p2 = 4.8*10**5;\n",
      "T2 = T1;\n",
      "R0 = 8314.;\n",
      "M = 28.;\n",
      "\n",
      "# Calculations and Results\n",
      "R = R0/M;\n",
      "m = p1*V1/R/T1;\n",
      "dS = m*R*math.log(p1/p2)\n",
      "print (\"Decrease in entropy  = %.3f\")% (-dS), (\"J/K\")\n",
      "\n",
      "\n",
      "print \n",
      "Q = T1*(-dS);\n",
      "print (\"(ii)Heat rejected  =  \"),(\"Q = %.3f\")%(Q),(\"J\")\n",
      "\n",
      "\n",
      "W = Q;\n",
      "print (\"Work done  =  %.3f\")% (W), (\"J\")\n",
      "\n",
      "V2 = p1*V1/p2;\n",
      "v1 = V1/m; \t\t\t#specific volume\n",
      "v2 = V2/m; \t\t\t#specific volume\n",
      "\n",
      "v = linspace(v2,0.8081571,64);\n",
      "\n",
      "\n",
      "def f(v):\n",
      "    return p1*v1/v\n",
      "plot(v,f(v))\n",
      "\n",
      "p = []\n",
      "for i in range(len(v)):\n",
      "    p.append(p1)\n",
      "plot(v,p,'--')\n",
      "\n",
      "p = [0 ,p2]\n",
      "v = [v2 ,v2]\n",
      "plot(v,p,'--')\n",
      "\n",
      "p = [0 ,p1]\n",
      "v = [v1 ,v1]\n",
      "plot(v,p,'--')\n",
      "\n",
      "T = [288, 288]\n",
      "s = [10 ,(10-dS)]\n",
      "plot(s,T)\n",
      "\n",
      "s = [10 ,10]\n",
      "T = [0 ,288]\n",
      "plot(s,T,'--')\n",
      "\n",
      "s = [(10-dS), (10-dS)]\n",
      "T = [0 ,288]\n",
      "plot(s,T,'--')\n"
     ],
     "language": "python",
     "metadata": {},
     "outputs": [
      {
       "output_type": "stream",
       "stream": "stdout",
       "text": [
        "Populating the interactive namespace from numpy and matplotlib\n",
        "Decrease in entropy  = 22.164 J/K\n",
        "\n",
        "(ii)Heat rejected  =   Q = 6383.268 J\n",
        "Work done  =  6383.268 J\n"
       ]
      },
      {
       "metadata": {},
       "output_type": "pyout",
       "prompt_number": 13,
       "text": [
        "[<matplotlib.lines.Line2D at 0x2c3da90>]"
       ]
      },
      {
       "metadata": {},
       "output_type": "display_data",
       "png": "[encoded data removed]",
       "text": [
        "<matplotlib.figure.Figure at 0x2124290>"
       ]
      }
     ],
     "prompt_number": 13
    },
    {
     "cell_type": "heading",
     "level": 3,
     "metadata": {},
     "source": [
      "Example 5.25 Page no : 270"
     ]
    },
    {
     "cell_type": "code",
     "collapsed": false,
     "input": [
      "import math \n",
      "\n",
      "# Variables\n",
      "R = 287.; \t\t\t#kJ/kg.K\n",
      "dU = 0;\n",
      "W = 0;\n",
      "Q = dU+W;\n",
      "\n",
      "# Calculations\n",
      "dS = R*math.log(2); \t\t\t#v2/v1 = 2\n",
      "\n",
      "# Results\n",
      "print (\"Change in entropy  =  %.3f\")%(dS),(\"kJ/kg.K\")\n"
     ],
     "language": "python",
     "metadata": {},
     "outputs": [
      {
       "output_type": "stream",
       "stream": "stdout",
       "text": [
        "Change in entropy  =  198.933 kJ/kg.K\n"
       ]
      }
     ],
     "prompt_number": 22
    },
    {
     "cell_type": "heading",
     "level": 3,
     "metadata": {},
     "source": [
      "Example 5.26 Page no : 271"
     ]
    },
    {
     "cell_type": "code",
     "collapsed": false,
     "input": [
      "import math \n",
      "\n",
      "# Variables\n",
      "m = 0.04; \t\t\t#kg\n",
      "p1 = 1*10.**5; \t\t\t#N/m**2\n",
      "T1 = 293.; \t\t\t#K\n",
      "p2 = 9*10.**5; \t\t\t#N/m**2\n",
      "V2 = 0.003; \t\t\t#m**3\n",
      "cp = 0.88; \t\t\t#kJ/kg.K\n",
      "R0 = 8314.;\n",
      "M = 44.;\n",
      "\n",
      "# Calculations\n",
      "R = R0/M;\n",
      "T2 = p2*V2/m/R;\n",
      "ds_2A = R/10**3*math.log(p2/p1);\n",
      "ds_1A = cp*math.log(T2/T1);\n",
      "ds_21 = ds_2A - ds_1A;\n",
      "dS_21 = m*ds_21;\n",
      "\n",
      "# Results\n",
      "print (\"Decrease in entropy = %.3f\")% (dS_21),(\"kJ/K\")\n"
     ],
     "language": "python",
     "metadata": {},
     "outputs": [
      {
       "output_type": "stream",
       "stream": "stdout",
       "text": [
        "Decrease in entropy = 0.010 kJ/K\n"
       ]
      }
     ],
     "prompt_number": 23
    },
    {
     "cell_type": "heading",
     "level": 3,
     "metadata": {},
     "source": [
      "Example 5.27 Page no :  272"
     ]
    },
    {
     "cell_type": "code",
     "collapsed": false,
     "input": [
      "import math \n",
      "\n",
      "# Variables\n",
      "p1 = 7.*10**5; \t\t\t#N/m**2\n",
      "T1 = 873.; \t\t\t#K\n",
      "p2 = 1.05*10**5; \t\t\t#N/M62\n",
      "n = 1.25;\n",
      "m = 1.; \t\t\t#kg\n",
      "R = 0.287;\n",
      "cp = 1.005;\n",
      "\n",
      "# Calculations\n",
      "T2 = T1*(p2/p1)**((n-1)/n);\n",
      "\n",
      "# At constant temperature from 1 to A\n",
      "ds_1A = R*math.log(p1/p2);\n",
      "# At constant pressure from A to 2\n",
      "ds_2A = cp*math.log(T1/T2);\n",
      "ds_12 = ds_1A - ds_2A;\n",
      "\n",
      "# Results\n",
      "print (\"Increase in entropy  =  %.3f\")% (ds_12), (\"kJ/kg.K\")\n"
     ],
     "language": "python",
     "metadata": {},
     "outputs": [
      {
       "output_type": "stream",
       "stream": "stdout",
       "text": [
        "Increase in entropy  =  0.163 kJ/kg.K\n"
       ]
      }
     ],
     "prompt_number": 24
    },
    {
     "cell_type": "heading",
     "level": 3,
     "metadata": {},
     "source": [
      "Example 5.28 Page no :  274"
     ]
    },
    {
     "cell_type": "code",
     "collapsed": false,
     "input": [
      "import math \n",
      "\n",
      "# Variables\n",
      "p1 = 7*10**5; \t\t#Pa\n",
      "T1 = 733.; \t\t\t#K\n",
      "p2 = 1.012*10**5; \t#Pa\n",
      "T2a = 433.; \t\t#K\n",
      "y = 1.4;\n",
      "cp = 1.005;\n",
      "\n",
      "# Calculations and Results\n",
      "print (\"(i) To prove that the process is irreversible\")\n",
      "T2 = T1*(p2/p1)**((y-1)/y);\n",
      "print (\"T2  = %.3f\")% (T2)\n",
      "print (\"But the actual temperature is 433K at th epressure of 1.012 bar, Hence the process is irreversible. Proved.\")\n",
      "\n",
      "\n",
      "print (\"(ii) Change of entropy per kg of air\")\n",
      "ds = cp*math.log(T2a/T2);\n",
      "print (\"Increase of entropy = %.3f\")% (ds), (\"kJ/kg.K\")\n"
     ],
     "language": "python",
     "metadata": {},
     "outputs": [
      {
       "output_type": "stream",
       "stream": "stdout",
       "text": [
        "(i) To prove that the process is irreversible\n",
        "T2  = 421.820\n",
        "But the actual temperature is 433K at th epressure of 1.012 bar, Hence the process is irreversible. Proved.\n",
        "(ii) Change of entropy per kg of air\n",
        "Increase of entropy = 0.026 kJ/kg.K\n"
       ]
      }
     ],
     "prompt_number": 25
    },
    {
     "cell_type": "heading",
     "level": 3,
     "metadata": {},
     "source": [
      "Example 5.29 Page no :  275"
     ]
    },
    {
     "cell_type": "code",
     "collapsed": false,
     "input": [
      "import math \n",
      "\n",
      "# Variables\n",
      "V1 = 0.3; \t\t\t#m**3\n",
      "p1 = 4*10**5; \t\t#N/m**2\n",
      "V2 = 0.08; \t\t\t#m**3\n",
      "n = 1.25; \n",
      "\n",
      "# Calculations and Results\n",
      "p2 = p1*(V1/V2)**n;\n",
      "\n",
      "dH = n*(p2*V2-p1*V1)/(n-1)/10**3;\n",
      "print (\"(i) Change in enthalpy\"), (\"dH = %.3f\")% (dH), (\"kJ\")\n",
      "\n",
      "dU = dH-(p2*V2 - p1*V1)/10**3;\n",
      "print (\"(ii) Change in internal energy\"),(\"dU = %.3f\")% (dU), (\"kJ\")\n",
      "\n",
      "dS = 0;\n",
      "print (\"(iii) Change in entropy\"),(\"dS\"), (dS)\n",
      "\n",
      "Q = 0;\n",
      "print (\"(iv)Heat transfer\"),(\"Q = \"), (Q)\n",
      "\n",
      "W = Q-dU;\n",
      "print (\"(v) Work transfer\"),(\"W = %.3f\")%(W),(\"kJ\")\n"
     ],
     "language": "python",
     "metadata": {},
     "outputs": [
      {
       "output_type": "stream",
       "stream": "stdout",
       "text": [
        "(i) Change in enthalpy dH = 234.947 kJ\n",
        "(ii) Change in internal energy dU = 187.958 kJ\n",
        "(iii) Change in entropy dS 0\n",
        "(iv)Heat transfer Q =  0\n",
        "(v) Work transfer W = -187.958 kJ\n"
       ]
      }
     ],
     "prompt_number": 1
    },
    {
     "cell_type": "heading",
     "level": 3,
     "metadata": {},
     "source": [
      "Example 5.30 Page no :  277"
     ]
    },
    {
     "cell_type": "code",
     "collapsed": false,
     "input": [
      "import math \n",
      "\n",
      "# Variables\n",
      "m = 20.; \t\t\t#kg\n",
      "p1 = 4.*10**5; \t\t\t#Pa\n",
      "p2 = 8.*10**5; \t\t\t#Pa\n",
      "V1 = 4.; \t\t\t#m**3\n",
      "V2 = V1;\n",
      "cp = 1.04; \t\t\t#kJ/kg.K\n",
      "cv = 0.7432; \t\t\t#kJ/kg.K\n",
      "R = cp-cv;\n",
      "T1 = p1*V1/R/1000.; \t\t\t#kg.K;   T = mass*temperature\n",
      "T2 = p2*V2/R/1000.; \t\t\t#kg.K\n",
      "\n",
      "# Calculations and Results\n",
      "dU = cv*(T2-T1);\n",
      "print (\"(i) Change in internal energy\"),(\"dU = %.3f\")% (dU), (\"kJ\")\n",
      "\n",
      "Q = 0;\n",
      "W = Q-dU;\n",
      "print (\"(ii) Work done\"),(\"W  %.3f\")% (W), (\"kJ\")\n",
      "\n",
      "print (\"(iii) Heat transferred  =  \"), (Q)\n",
      "\n",
      "dS = m*cv*math.log(T2/T1);\n",
      "print (\"(iv) Change in entropy  = %.3f\")%(dS), (\"kJ/K\")\n"
     ],
     "language": "python",
     "metadata": {},
     "outputs": [
      {
       "output_type": "stream",
       "stream": "stdout",
       "text": [
        "(i) Change in internal energy dU = 4006.469 kJ\n",
        "(ii) Work done W  -4006.469 kJ\n",
        "(iii) Heat transferred  =   0\n",
        "(iv) Change in entropy  = 10.303 kJ/K\n"
       ]
      }
     ],
     "prompt_number": 2
    },
    {
     "cell_type": "heading",
     "level": 3,
     "metadata": {},
     "source": [
      "Example 5.31 Page no :  278"
     ]
    },
    {
     "cell_type": "code",
     "collapsed": false,
     "input": [
      "import math \n",
      "from matplotlib.pyplot import *\n",
      "%matplotlib inline\n",
      "\n",
      "# Variables\n",
      "V1 = 5.; \t\t\t#m**3\n",
      "p1 = 2.*10**5; \t\t\t#Pa\n",
      "T1 = 300.; \t\t\t#K\n",
      "p2 = 6.*10**5; \t\t\t#Pa\n",
      "p3 = 2.*10**5; \t\t\t#Pa\n",
      "R = 287.;\n",
      "n = 1.3;\n",
      "y = 1.4;\n",
      "\n",
      "# Calculations and Results\n",
      "m = p1*V1/R/T1;\n",
      "T2 = T1*(p2/p1)**((n-1)/n);\n",
      "T3 = T2*(p3/p2)**((y-1)/y);\n",
      "W_12 = m*R*(T1-T2)/(n-1)/1000; \t\t\t#polytropic compression\n",
      "W_23 = m*R*(T2-T3)/(y-1)/1000; \t\t\t#Adiabatic expansion\n",
      "\n",
      "\n",
      "W_net = W_12+W_23;\n",
      "print (\"Net work done on the air  =  %.3f\")%(-W_net), (\"kJ\")\n",
      "\n",
      "T = [T1, 310, 320, 330, 340, 350, 360, 370, 380, T2];\n",
      "def f(T):\n",
      "    return (y-n)/(y-1)/(1-n)*R/10**3*math.log(T);\n",
      "\n",
      "s = [f(T1), f(310), f(320), f(330), f(340), f(350), f(360), f(370), f(380), f(T2)]\n",
      "\n",
      "plot(s,T)\n",
      "\n",
      "T = [T2, T3];\n",
      "s = [f(T2), f(T2)];\n",
      "plot(s,T,'r')\n",
      "\n",
      "# Answers are slightly diffferent because of rounding error."
     ],
     "language": "python",
     "metadata": {},
     "outputs": [
      {
       "output_type": "stream",
       "stream": "stdout",
       "text": [
        "Populating the interactive namespace from numpy and matplotlib\n",
        "Net work done on the air  =  94.023 kJ\n"
       ]
      },
      {
       "output_type": "stream",
       "stream": "stderr",
       "text": [
        "WARNING: pylab import has clobbered these variables: ['f', 'draw_if_interactive']\n",
        "`%pylab --no-import-all` prevents importing * from pylab and numpy\n"
       ]
      },
      {
       "metadata": {},
       "output_type": "pyout",
       "prompt_number": 9,
       "text": [
        "[<matplotlib.lines.Line2D at 0x2aa0d90>]"
       ]
      },
      {
       "metadata": {},
       "output_type": "display_data",
       "png": "[encoded data removed]",
       "text": [
        "<matplotlib.figure.Figure at 0x2aa0bd0>"
       ]
      }
     ],
     "prompt_number": 9
    },
    {
     "cell_type": "heading",
     "level": 3,
     "metadata": {},
     "source": [
      "Example 5.32 Page no :  279"
     ]
    },
    {
     "cell_type": "code",
     "collapsed": false,
     "input": [
      "# Variables\n",
      "V1 = 0.004; \t\t\t#m**3\n",
      "p1 = 1.*10**5; \t\t\t#Pa\n",
      "T1 = 300.; \t\t\t#K\n",
      "T2 = 400.; \t\t\t#K\n",
      "y = 1.4;\n",
      "M = 28.;\n",
      "R0 = 8.314;\n",
      "R = R0/M;\n",
      "\n",
      "# Calculations and Results\n",
      "print (\"(i) The heat supplied\")\n",
      "m = p1*V1/R/1000/T1; \t\t\t#kg\n",
      "cv = R/(y-1);\n",
      "Q = m*cv*(T2-T1);\n",
      "print (\"Q  %.3f\")%(Q), (\"kJ\")\n",
      "\n",
      "print (\"(ii) The entropy change\")\n",
      "dS = m*cv*math.log(T2/T1);\n",
      "print (\"dS = %.8f\")%(dS), (\"kJ/kg.K\")\n"
     ],
     "language": "python",
     "metadata": {},
     "outputs": [
      {
       "output_type": "stream",
       "stream": "stdout",
       "text": [
        "(i) The heat supplied\n",
        "Q  0.333 kJ\n",
        "(ii) The entropy change\n",
        "dS = 0.00095894 kJ/kg.K\n"
       ]
      }
     ],
     "prompt_number": 5
    },
    {
     "cell_type": "heading",
     "level": 3,
     "metadata": {},
     "source": [
      "Example 5.33 Page no :  279"
     ]
    },
    {
     "cell_type": "code",
     "collapsed": false,
     "input": [
      "import math \n",
      "\n",
      "# Variables\n",
      "V1 = 0.05; \t\t\t#m**3\n",
      "p1 = 1.*10**5; \t\t\t#Pa\n",
      "T1 = 280.; \t\t\t#K\n",
      "p2 = 5.*10**5; \t\t\t#Pa\n",
      "\n",
      "# Calculations\n",
      "print (\"(i) Change in entropy\")\n",
      "R0 = 8.314;\n",
      "M = 28.;\n",
      "R = R0/M;\n",
      "m = p1*V1/R/T1/1000;\n",
      "dS = m*R*math.log(p1/p2);\n",
      "\n",
      "# Results\n",
      "print (\"dS = %.3f\")%(dS), (\"kJ/K\")\n",
      "\n",
      "print (\"(ii)Work done\")\n",
      "Q = T1*dS;\n",
      "print (\"Q = %.3f\")%(Q),(\"kJ\")\n"
     ],
     "language": "python",
     "metadata": {},
     "outputs": [
      {
       "output_type": "stream",
       "stream": "stdout",
       "text": [
        "(i) Change in entropy\n",
        "dS = -0.029 kJ/K\n",
        "(ii)Work done\n",
        "Q = -8.047 kJ\n"
       ]
      }
     ],
     "prompt_number": 30
    },
    {
     "cell_type": "heading",
     "level": 3,
     "metadata": {},
     "source": [
      "Example 5.34 Page no :  280"
     ]
    },
    {
     "cell_type": "code",
     "collapsed": false,
     "input": [
      "import math \n",
      "\n",
      "# Variables\n",
      "R = 0.287; \t\t\t#kJ/kg.K\n",
      "m = 1.; \t\t\t#kg\n",
      "p1 = 8.*10**5; \t\t\t#Pa\n",
      "p2 = 1.6*10**5; \t\t\t#Pa\n",
      "T1 = 380.; \t\t\t#K\n",
      "n = 1.2;\n",
      "y = 1.4;\n",
      "\n",
      "\n",
      "# Calculations and Results\n",
      "print (\"(i) Final specific volume and temperature\")\n",
      "v1 = R*T1/p1*10**3; \t\t\t#m**3/kg\n",
      "v2 = v1*(p1/p2)**(1/n);\n",
      "T2 = T1*(p2/p1)**((n-1)/n);\n",
      "\n",
      "print (\"v2 = %.3f\")%(v2), (\"m**3/kg\")\n",
      "print (\"T2 = %.3f\")% (T2),(\"K\")\n",
      "\n",
      "print (\"(ii) Change of internal energy, work done and heat interaction\")\n",
      "dU = R/(y-1)*(T2-T1);\n",
      "print (\"dU = %.3f\")%(dU), (\"kJ/kg\")\n",
      "\n",
      "W = R*(T1-T2)/(n-1);\n",
      "print (\"W = %.3f\")%(W), (\"kJ/kg\")\n",
      "\n",
      "Q = dU + W;\n",
      "print (\"Q = %.3f\")%(Q),(\"kJ/kg\")\n",
      "\n",
      "print (\"(iii) Change in entropy\")\n",
      "dS = R/(y-1)*math.log(T2/T1) + R*math.log(v2/v1)\n",
      "print (\"dS = %.3f\")%(dS),(\"kJ/kg.K\")\n"
     ],
     "language": "python",
     "metadata": {},
     "outputs": [
      {
       "output_type": "stream",
       "stream": "stdout",
       "text": [
        "(i) Final specific volume and temperature\n",
        "v2 = 0.521 m**3/kg\n",
        "T2 = 290.595 K\n",
        "(ii) Change of internal energy, work done and heat interaction\n",
        "dU = -64.148 kJ/kg\n",
        "W = 128.296 kJ/kg\n",
        "Q = 64.148 kJ/kg\n",
        "(iii) Change in entropy\n",
        "dS = 0.192 kJ/kg.K\n"
       ]
      }
     ],
     "prompt_number": 6
    },
    {
     "cell_type": "heading",
     "level": 3,
     "metadata": {},
     "source": [
      "Example 5.35 Page no :  281"
     ]
    },
    {
     "cell_type": "code",
     "collapsed": false,
     "input": [
      "%matplotlib inline\n",
      "import math\n",
      "from matplotlib.pyplot import *\n",
      "\n",
      "# Variables\n",
      "y = 1.4;\n",
      "cv = 0.718; \t\t#kJ/kg.K\n",
      "m = 1.; \t\t\t    #kg\n",
      "T1 = 290.; \t\t\t#K\n",
      "n = 1.3;\n",
      "r = 16.;\n",
      "y = 1.4;\n",
      "\n",
      "# Calculations and Results\n",
      "T2 = T1*(r)**(n-1);\n",
      "\n",
      "print (\"(a)\")\n",
      "\n",
      "T = [T1, 300, 310, 320, 330, 340, 350, 360, 370, 380, 390, 400, 410, 420, 430, 440, 450, 460, 470, 480, 490, 500, 510, 520, 530, 540, 550, 560, 570, 580, 590, 600, 610, 620, 630, 640, 650, 660, T2];\n",
      "def f(T):\n",
      "    return (y-n)*cv/(1-n)/10**3*math.log(T);\n",
      "\n",
      "s = [f(T1),f(300),f(310),f(320),f(330),f(340),f(350),f(360),f(370),f(380),f(390),f(400),f(410),f(420),f(430),f(440),f(450),f(460),f(470),f(480),f(490),f(500),f(510),f(520),f(530),f(540),f(550),f(560),f(570),f(580),f(590),f(600),f(610),f(620),f(630),f(640),f(650),f(660), f(T2)];\n",
      "plot(s,T)\n",
      "\n",
      "T = [0, T2];\n",
      "s = [f(T2), f(T2)];\n",
      "plot(s,T,'r--')\n",
      "\n",
      "T = [0 ,T1];\n",
      "s = [f(T1),f(T1)];\n",
      "plot(s,T,'r--')\n",
      "\n",
      "T = [T1 ,T2];\n",
      "s = [f(T1), f(T2)];\n",
      "plot(s,T,'r--' )\n",
      "suptitle(\"T-S diagram\")\n",
      "xlabel(\"S\")\n",
      "ylabel(\"T\")\n",
      "text(-0.00150,400,\"pV**n = C\")\n",
      "\n",
      "print (\"(b)Entropy change\")\n",
      "dS = cv*((n-y)/(n-1))*math.log(T2/T1);\n",
      "print (\"dS = %.3f\")%(dS), (\"kJ/kg.K\")\n",
      "print (\"There is decrease in entropy\")\n",
      "\n",
      "Q = cv*((y-n)/(n-1))*(T1-T2);\n",
      "Tmean  =  (T1+T2)/2;\n",
      "dS_app = Q/Tmean;\n",
      "\n",
      "error = ((-dS) - (-dS_app))/(-dS) * 100;\n",
      "print (\"age error  = %.3f\")%(error), (\"%\")\n"
     ],
     "language": "python",
     "metadata": {},
     "outputs": [
      {
       "output_type": "stream",
       "stream": "stdout",
       "text": [
        "Populating the interactive namespace from numpy and matplotlib\n",
        "(a)\n",
        "(b)Entropy change"
       ]
      },
      {
       "output_type": "stream",
       "stream": "stdout",
       "text": [
        "\n",
        "dS = -0.199 kJ/kg.K\n",
        "There is decrease in entropy\n",
        "age error  = 5.393 %\n"
       ]
      },
      {
       "metadata": {},
       "output_type": "display_data",
       "png": "[encoded data removed]",
       "text": [
        "<matplotlib.figure.Figure at 0x3b860d0>"
       ]
      }
     ],
     "prompt_number": 1
    },
    {
     "cell_type": "heading",
     "level": 3,
     "metadata": {},
     "source": [
      "Example 5.36 Page no : 282"
     ]
    },
    {
     "cell_type": "code",
     "collapsed": false,
     "input": [
      "from matplotlib.pyplot import *\n",
      "from numpy import *\n",
      "# Variables\n",
      "cp = 1.005; \t\t\t#kJ/kg.K\n",
      "R = 0.287; \t\t\t#kJ/kg.K\n",
      "V1 = 1.2; \t\t\t#m**3\n",
      "p1 = 1.*10**5; \t\t\t#Pa\n",
      "p2 = p1;\n",
      "T1 = 300.; \t\t\t#K\n",
      "T2 = 600.; \t\t\t#K\n",
      "T3 = T1;\n",
      "p1 = 1.*10**5; \t\t\t#Pa\n",
      "cv = cp-R;\n",
      "\n",
      "# Calculations and Results\n",
      "print (\"(i) The net heat flow\")\n",
      "m = p1*V1/R/1000/T1; \t\t\t#kg\n",
      "Q = m*R*(T2-T1);\n",
      "print (\"Q = \"), (Q), (\"kJ\")\n",
      "\n",
      "print (\"(ii) The overall change in entropy\")\n",
      "dS_12 = m*cp*math.log(T2/T1);\n",
      "dS_23 = m*(cp-R)*math.log(T3/T2); \t\t\t#cv = cp-R\n",
      "dS_overall = dS_12+dS_23;\n",
      "print (\"Overall change in entropy = %.3f\")%(dS_overall),(\"kJ/K\")\n",
      "\n",
      "s = linspace(math.sqrt(300),math.sqrt(600),100);\n",
      "T = s**2;\n",
      "plot(s,T)\n",
      "\n",
      "s = linspace(22.18,math.sqrt(600),100)\n",
      "T = 10*(s-16.725)**2;\n",
      "plot(s,T,'r')\n",
      "\n",
      "s = [17, 25];\n",
      "T = [600, 600];\n",
      "plot(s,T,'--')\n",
      "\n",
      "s = [17 ,25];\n",
      "T = [300 ,300];\n",
      "plot(s,T,'--')\n",
      "\n",
      "suptitle(\"T-s diagram \")\n",
      "xlabel(\"S\")\n",
      "ylabel(\"T\")\n",
      "text(24,400,\"v = C\")\n",
      "text(20,450,\"p = C\")"
     ],
     "language": "python",
     "metadata": {},
     "outputs": [
      {
       "output_type": "stream",
       "stream": "stdout",
       "text": [
        "(i) The net heat flow\n",
        "Q =  120.0 kJ\n",
        "(ii) The overall change in entropy\n",
        "Overall change in entropy = 0.277 kJ/K\n"
       ]
      },
      {
       "metadata": {},
       "output_type": "pyout",
       "prompt_number": 2,
       "text": [
        "<matplotlib.text.Text at 0x4787450>"
       ]
      },
      {
       "metadata": {},
       "output_type": "display_data",
       "png": "[encoded data removed]",
       "text": [
        "<matplotlib.figure.Figure at 0x46d17d0>"
       ]
      }
     ],
     "prompt_number": 2
    },
    {
     "cell_type": "heading",
     "level": 3,
     "metadata": {},
     "source": [
      "Example 5.37 Page no : 283"
     ]
    },
    {
     "cell_type": "code",
     "collapsed": false,
     "input": [
      "import math \n",
      "from matplotlib.pyplot import *\n",
      "\n",
      "# Variables\n",
      "cv = 0.718; \t\t\t#kJ/kg.K\n",
      "R = 0.287    \t\t\t#kJ/kg.K\n",
      "p1 = 1.*10**5; \t\t\t#Pa\n",
      "T1 = 300.    \t\t\t#K\n",
      "V1 = 0.018; \t\t\t#m**3\n",
      "p2 = 5.*10**5 \t\t\t#Pa\n",
      "T3 = T1;\n",
      "cp = cv+R;\n",
      "p3 = p2;\n",
      "\n",
      "# Calculations and Results\n",
      "m = p1*V1/R/T1/1000; \t\t\t#kg\n",
      "T2 = T1*p2/p1;\n",
      "\n",
      "print (\"(i) constant volume process\")\n",
      "dS_12 = m*cv*math.log(T2/T1);\n",
      "print (\"dS = %.3f\")%(dS_12), (\"kJ/K\")\n",
      "\n",
      "print (\"(ii) Constant prssure process \")\n",
      "dS_23 = m*cp*math.log(T3/T2);\n",
      "print (\"dS = %.3f\")%(dS_23), (\"kJ/K\")\n",
      "\n",
      "print (\"(iii) Isothermal process\")\n",
      "dS_31 = m*R*math.log(p3/p1);\n",
      "print (\"dS = %.5f\")%(dS_31),(\"kJ/K\")\n",
      "\n",
      "print (\"T-s diagram\")\n",
      "s = linspace(math.sqrt(300),math.sqrt(600),72);\n",
      "T = s**2;\n",
      "#plot(s,T)\n",
      "\n",
      "s = linspace(22.18,math.sqrt(600),24)\n",
      "T = 10*(s-16.725)**2;\n",
      "#plot(s,T,'r')\n",
      "\n",
      "s = [math.sqrt(300), 22.18];\n",
      "T = [300 ,300];\n",
      "#plot(s,T,'g')\n",
      "\n",
      "print (\"p-V diagram\")\n",
      "\n",
      "V = [0.018, 0.018];\n",
      "p = [1 ,5];\n",
      "#plot(V,p)\n",
      "\n",
      "p = [5 ,5];\n",
      "V = [0.0036, 0.018];\n",
      "#plot(V,p,'r')\n",
      "\n",
      "V = linspace(0.0036,0.018,145)\n",
      "\n",
      "def f():\n",
      "    return 1*0.018/V;\n",
      "f1 = f()\n",
      "\n",
      "plot(V,f1,'g')\n",
      "suptitle(\"p-V diagram\")\n",
      "xlabel(\"V\")\n",
      "ylabel(\"p\")\n",
      "\n"
     ],
     "language": "python",
     "metadata": {},
     "outputs": [
      {
       "output_type": "stream",
       "stream": "stdout",
       "text": [
        "(i) constant volume process\n",
        "dS = 0.024 kJ/K\n",
        "(ii) Constant prssure process \n",
        "dS = -0.034 kJ/K\n",
        "(iii) Isothermal process\n",
        "dS = 0.00966 kJ/K\n",
        "T-s diagram\n",
        "p-V diagram\n"
       ]
      },
      {
       "metadata": {},
       "output_type": "pyout",
       "prompt_number": 3,
       "text": [
        "<matplotlib.text.Text at 0x4047ad0>"
       ]
      },
      {
       "metadata": {},
       "output_type": "display_data",
       "png": "[encoded data removed]",
       "text": [
        "<matplotlib.figure.Figure at 0x4232ad0>"
       ]
      }
     ],
     "prompt_number": 3
    },
    {
     "cell_type": "heading",
     "level": 3,
     "metadata": {},
     "source": [
      "Example 5.39 Page no : 285"
     ]
    },
    {
     "cell_type": "code",
     "collapsed": false,
     "input": [
      "import math \n",
      "from scipy.integrate import quad \n",
      "\n",
      "# Variables\n",
      "m = 4; \t\t\t    #kg\n",
      "T1 = 400; \t\t\t#K\n",
      "T2 = 500; \t\t\t#K\n",
      "\n",
      "# Calculations\n",
      "def f12( T): \n",
      "\t return m*(0.48+0.0096*T)/T\n",
      "\n",
      "dS =  quad(f12, T1,T2)[0]\n",
      "\n",
      "# Results\n",
      "print (\"dS = %.3f\")%(dS), (\"kJ\")\n"
     ],
     "language": "python",
     "metadata": {},
     "outputs": [
      {
       "output_type": "stream",
       "stream": "stdout",
       "text": [
        "dS = 4.268 kJ\n"
       ]
      }
     ],
     "prompt_number": 34
    },
    {
     "cell_type": "heading",
     "level": 3,
     "metadata": {},
     "source": [
      "Example 5.40 Page no : 286"
     ]
    },
    {
     "cell_type": "code",
     "collapsed": false,
     "input": [
      "\n",
      "import math \n",
      "from scipy.integrate import quad \n",
      "\n",
      "# Variables\n",
      "p1 = 1*10**5; \t\t\t#Pa\n",
      "T1 = 273;  \t\t\t#K\n",
      "p2 = 25*10**5; \t\t\t#Pa\n",
      "T2 = 750; \t\t\t#K\n",
      "R = 0.29; \t\t\t#kJ/kg.K ; cp = 0.85+0.00025*T; cv = 0.56+0.00025*T; R = cp-cv;\n",
      "\n",
      "# Calculations\n",
      "v2 = R*T2/p2;\n",
      "v1 = R*T1/p1;\n",
      "\n",
      "def f8( T): \n",
      "\t return (0.56+0.00025*T)/T\n",
      "\n",
      "def f9(v):\n",
      "    return R/v\n",
      "ds =  quad(f8, T1, T2)[0] +  quad(f9,v1,v2)[0]\n",
      "\n",
      "# Results\n",
      "print (\"ds = %.3f\")%(ds),(\"kJ/kg K\")\n"
     ],
     "language": "python",
     "metadata": {},
     "outputs": [
      {
       "output_type": "stream",
       "stream": "stdout",
       "text": [
        "ds = 0.045 kJ/kg K\n"
       ]
      }
     ],
     "prompt_number": 35
    },
    {
     "cell_type": "heading",
     "level": 3,
     "metadata": {},
     "source": [
      "Example 5.41 Page no : 287"
     ]
    },
    {
     "cell_type": "code",
     "collapsed": false,
     "input": [
      "import math \n",
      "\n",
      "# Variables\n",
      "cv = 0.715; \t\t\t#kJ/kg K\n",
      "R = 0.287; \t\t\t#kJ/kg K\n",
      "V_A = 0.25; \t\t\t#m**3\n",
      "p_Ai = 1.4; \t\t\t#bar\n",
      "T_Ai = 290; \t\t\t#K\n",
      "V_B = 0.25; \t\t\t#m**3\n",
      "p_Bi = 4.2; \t\t\t#bar\n",
      "T_Bi = 440; \t\t\t#K\n",
      "\n",
      "# Calculations and Results\n",
      "print (\"(i) Final equilibrium temperature\")\n",
      "m_A = p_Ai * 10**5 * V_A / R / 1000/ T_Ai; \t\t\t#kg\n",
      "m_B = p_Bi * 10**5 * V_B / R / 1000/ T_Bi; \t\t\t#kg\n",
      "\n",
      "T_f = (m_B * T_Bi + m_A * T_Ai)/(m_A + m_B);\n",
      "print (\"T_f  =  %.3f\")% (T_f), (\"K\")\n",
      "\n",
      "\n",
      "print (\"(ii) Final pressure on each side of the diaphragm\")\n",
      "p_Af = p_Ai*T_f/T_Ai;\n",
      "print (\"p_Af = %.3f\")%(p_Af),(\"bar\")\n",
      "\n",
      "p_Bf = p_Bi*T_f/T_Bi;\n",
      "print (\"p_Bf = %.3f\")%(p_Bf),(\"bar\")\n",
      "\n",
      "\n",
      "print (\"(iii) Entropy change of the system\")\n",
      "dS_A = m_A*cv*math.log(T_f/T_Ai);\n",
      "dS_B = m_B*cv*math.log(T_f/T_Bi);\n",
      "dS_net = dS_A+dS_B;\n",
      "print (\"Net change of entropy = %.3f\")%(dS_net), (\"kJ/K\")\n"
     ],
     "language": "python",
     "metadata": {},
     "outputs": [
      {
       "output_type": "stream",
       "stream": "stdout",
       "text": [
        "(i) Final equilibrium temperature\n",
        "T_f  =  389.618 K\n",
        "(ii) Final pressure on each side of the diaphragm\n",
        "p_Af = 1.881 bar\n",
        "p_Bf = 3.719 bar\n",
        "(iii) Entropy change of the system\n",
        "Net change of entropy = 0.016 kJ/K\n"
       ]
      }
     ],
     "prompt_number": 36
    },
    {
     "cell_type": "heading",
     "level": 3,
     "metadata": {},
     "source": [
      "Example 5.42 Page no : 287"
     ]
    },
    {
     "cell_type": "code",
     "collapsed": false,
     "input": [
      "import math \n",
      "\n",
      "# Variables\n",
      "cv = 1.25; \t\t\t#kJ/kg.K\n",
      "T1 = 530.; \t\t\t#K\n",
      "v1 = 0.0624; \t\t\t#m**3/kg\n",
      "v2 = 0.186; \t\t\t#m**3/kg\n",
      "dT_31 = 25.; \t\t\t#K\n",
      "T3 = T1-dT_31; \t\t\t#K\n",
      "dT_21 = 165.; \t\t\t#K\n",
      "\n",
      "# Calculations\n",
      "T2 = T1-dT_21; \t\t\t#K\n",
      "# Path 1-2 : Reversible adiabatic process\n",
      "ds_12 = 0;\n",
      "v3 = 0.186; \t\t\t#m**3/kg\n",
      "v3 = v2;\n",
      "ds_13 = cv*math.log(T3/T2);\n",
      "\n",
      "# Results\n",
      "print (\"Chang in entropy  =  %.4f\")%(ds_13), (\"kJ/kgK\")\n"
     ],
     "language": "python",
     "metadata": {},
     "outputs": [
      {
       "output_type": "stream",
       "stream": "stdout",
       "text": [
        "Chang in entropy  =  0.4058 kJ/kgK\n"
       ]
      }
     ],
     "prompt_number": 11
    },
    {
     "cell_type": "heading",
     "level": 3,
     "metadata": {},
     "source": [
      "Example 5.44 Page no : 289"
     ]
    },
    {
     "cell_type": "code",
     "collapsed": false,
     "input": [
      "import math \n",
      "from numpy import *\n",
      "\n",
      "# Variables\n",
      "T1 = 500.; \t\t\t#K\n",
      "T2 = 400.; \t\t\t#K\n",
      "T3 = 300.; \t\t\t#K\n",
      "Q1 = 1500.; \t\t\t#kJ/min\n",
      "W = 200.; \t\t\t#kJ/min\n",
      "\n",
      "# Calculations and Results\n",
      "A = [[1,-1],[(1./400),(-1./300)]];\n",
      "B = [(-1300),(-3)];\n",
      "X = linalg.solve(A,B)\n",
      "\n",
      "Q2 = X[0];\n",
      "print (\"Q2  = \"), (Q2), (\"kJ/min\")\n",
      "\n",
      "Q3 = X[1];\n",
      "print (\"Q3  = \"), (Q3), (\"kJ/min\")\n",
      "\n",
      "print (\"(ii) Entropy change \")\n",
      "dS1 = (-Q1)/T1;\n",
      "print (\"Entropy change of source 1  = \"), (dS1), (\"kJ/K\")\n",
      "\n",
      "dS2 = (-Q2)/T2;\n",
      "print (\"Entropy change of math.sink 2  = \"), (dS2), (\"kJ/K\")\n",
      "\n",
      "dS3 = Q3/T3;\n",
      "print (\"Entropy change of source 3  = \"),(dS3), (\"kJ/K\")\n",
      "\n",
      "\n",
      "print (\"(iii) Net change of the entropy\")\n",
      "dSnet  =  dS1 + dS2 + dS3;\n",
      "print (\"dSnet = %d\")% (dSnet)\n"
     ],
     "language": "python",
     "metadata": {},
     "outputs": [
      {
       "output_type": "stream",
       "stream": "stdout",
       "text": [
        "Q2  =  -1600.0 kJ/min\n",
        "Q3  =  -300.0 kJ/min\n",
        "(ii) Entropy change \n",
        "Entropy change of source 1  =  -3.0 kJ/K\n",
        "Entropy change of math.sink 2  =  4.0 kJ/K\n",
        "Entropy change of source 3  =  -1.0 kJ/K\n",
        "(iii) Net change of the entropy\n",
        "dSnet = 0\n"
       ]
      }
     ],
     "prompt_number": 13
    },
    {
     "cell_type": "heading",
     "level": 3,
     "metadata": {},
     "source": [
      "Example 5.45 Page no : 291"
     ]
    },
    {
     "cell_type": "code",
     "collapsed": false,
     "input": [
      "import math \n",
      "from scipy.integrate import quad \n",
      "\n",
      "# Variables\n",
      "T1 = 250; \t\t\t#K\n",
      "T2 = 125; \t\t\t#K\n",
      "\n",
      "# Calculations\n",
      "#cv = 0.0045*T**2\n",
      "def f10( T): \n",
      "\t return 0.045*T**2\n",
      "\n",
      "Q1 =  quad(f10, T1, T2)[0]\n",
      "\n",
      "def f11( T): \n",
      "\t return 0.045*T\n",
      "\n",
      "dS_system =  quad(f11, T1, T2)[0]\n",
      "\n",
      "dS_universe = 0;\n",
      "\n",
      "W_max = ((-Q1) -T2*(dS_universe-dS_system))/1000;\n",
      "\n",
      "# Results\n",
      "print (\"W_max = %.3f\")%(W_max), (\"kJ\")\n"
     ],
     "language": "python",
     "metadata": {},
     "outputs": [
      {
       "output_type": "stream",
       "stream": "stdout",
       "text": [
        "W_max = 73.242 kJ\n"
       ]
      }
     ],
     "prompt_number": 39
    },
    {
     "cell_type": "heading",
     "level": 3,
     "metadata": {},
     "source": [
      "Example 5.46 Page no : 292"
     ]
    },
    {
     "cell_type": "code",
     "collapsed": false,
     "input": [
      "import math \n",
      "from scipy.integrate import quad \n",
      "\n",
      "# Variables\n",
      "cp = 1.005; \t\t\t#kJ/kg K\n",
      "T_A = 333.; \t\t\t#K\n",
      "T_B = 288.; \t\t\t#K\n",
      "p_A = 140.; \t\t\t#kPa\n",
      "p_B = 110.; \t\t\t#kPa\n",
      "#h = cp*T\n",
      "#v/T = 0.287/p\n",
      "\n",
      "# Calculations\n",
      "def f9( T): \n",
      "\t return cp/T\n",
      "\n",
      "def f10(p):\n",
      "    return 0.287/p\n",
      "    \n",
      "ds_system =  quad(f9, T_B, T_A)[0] + quad(f10,p_A,p_B)[0]\n",
      "ds_surr = 0;\n",
      "ds_universe = ds_system+ds_surr;\n",
      "\n",
      "# Results\n",
      "print (\"change in entropy of universe  =  -%.4f\")% (ds_universe), (\"kJ/kgK\")\n",
      "print (\"Since change in entropy of universe from A to B is -ve\")\n",
      "print (\"The flow is from B to A\")\n"
     ],
     "language": "python",
     "metadata": {},
     "outputs": [
      {
       "output_type": "stream",
       "stream": "stdout",
       "text": [
        "change in entropy of universe  =  -0.0767 kJ/kgK\n",
        "Since change in entropy of universe from A to B is -ve\n",
        "The flow is from B to A\n"
       ]
      }
     ],
     "prompt_number": 20
    },
    {
     "cell_type": "heading",
     "level": 3,
     "metadata": {},
     "source": [
      "Example 5.47 Page no : 292"
     ]
    },
    {
     "cell_type": "code",
     "collapsed": false,
     "input": [
      "import math \n",
      "\n",
      "# Variables\n",
      "m1 = 3.; \t\t\t#kg\n",
      "m2 = 4.; \t\t\t#kg\n",
      "T0 = 273.; \t\t\t#K\n",
      "T1 = 80.+273; \t\t\t#K\n",
      "T2 = 15.+273; \t\t\t#K\n",
      "c_pw = 4.187; \t\t\t#kJ/kgK\n",
      "\n",
      "# Calculations\n",
      "tm = (m1*T1 + m2*T2)/(m1+m2);\n",
      "Si = m1*c_pw*math.log(T1/T0) + m2*c_pw*math.log(T2/T0);\n",
      "Sf = (m1+m2)*c_pw*math.log(tm/T0);\n",
      "dS = Sf-Si;\n",
      "\n",
      "# Results\n",
      "print (\"Net change in entropy  = %.3f\")%(dS),(\"kJ/K\")\n"
     ],
     "language": "python",
     "metadata": {},
     "outputs": [
      {
       "output_type": "stream",
       "stream": "stdout",
       "text": [
        "Net change in entropy  = 0.150 kJ/K\n"
       ]
      }
     ],
     "prompt_number": 41
    },
    {
     "cell_type": "heading",
     "level": 3,
     "metadata": {},
     "source": [
      "Example 5.49 Page no : 294"
     ]
    },
    {
     "cell_type": "code",
     "collapsed": false,
     "input": [
      "\n",
      "import math \n",
      "\n",
      "# Variables\n",
      "m = 1.; \t\t\t#kg\n",
      "T1 = 273.; \t\t\t#K\n",
      "T2 = 363.; \t\t\t#K\n",
      "c = 4.187;\n",
      "\n",
      "# Calculations and Results\n",
      "print (\"(a)\")\n",
      "ds_water = m*c*math.log(T2/T1);\n",
      "print (\"(i) Entropy of water = %.3f\")%(ds_water), (\"kJ/kgK\")\n",
      "\n",
      "print (\"(ii) Entropy change of the reservoir \")\n",
      "Q = m*c*(T2-T1);\n",
      "ds_reservoir = -Q/T2;\n",
      "print (\"ds_reservoir = %.3f\")% (ds_reservoir), (\"kJ/K\")\n",
      "\n",
      "ds_universe = ds_water+ds_reservoir;\n",
      "print (\"(iii) Entropy change of universe  = %.3f\")% (ds_universe), (\"kJ/K\")\n",
      "\n",
      "print (\"(b)\")\n",
      "T3 = 313; \t\t\t#K\n",
      "ds_water = m*c*(math.log(T3/T1) + math.log(T2/T3));\n",
      "ds_res1 = -m*c*(T3-T1)/T3;\n",
      "ds_res2 = -m*c*(T2-T3)/T2;\n",
      "\n",
      "ds_universe = ds_water+ds_res1+ds_res2;\n",
      "print (\"(iii) Entropy change of universe  = %.3f\")%(ds_universe), (\"kJ/K\")\n",
      "\n",
      "print (\"(c) The entropy change of universe would be less and less, if the water is heated in more and more stages, by bringing\")\n",
      "print (\"the water in contact successively with more and more heat reservoirs, each succeeding reservoir being at a higher temperature\") \n",
      "print (\"than the preceding one.\")\n",
      "\n",
      "print (\"When water is heated in infinite steps, by bringing in contact with an infinite number of reservoirs in succession, so that\") \n",
      "print (\"at any insmath.tant the temperature difference between the water and the reservoir in contact is infinitesimally small, then\") \n",
      "print (\"the entropy change of the universe would be zero and the water would be reversibly heated.\")\n"
     ],
     "language": "python",
     "metadata": {},
     "outputs": [
      {
       "output_type": "stream",
       "stream": "stdout",
       "text": [
        "(a)\n",
        "(i) Entropy of water = 1.193 kJ/kgK\n",
        "(ii) Entropy change of the reservoir \n",
        "ds_reservoir = -1.038 kJ/K\n",
        "(iii) Entropy change of universe  = 0.155 kJ/K\n",
        "(b)\n",
        "(iii) Entropy change of universe  = 0.081 kJ/K\n",
        "(c) The entropy change of universe would be less and less, if the water is heated in more and more stages, by bringing\n",
        "the water in contact successively with more and more heat reservoirs, each succeeding reservoir being at a higher temperature\n",
        "than the preceding one.\n",
        "When water is heated in infinite steps, by bringing in contact with an infinite number of reservoirs in succession, so that\n",
        "at any insmath.tant the temperature difference between the water and the reservoir in contact is infinitesimally small, then\n",
        "the entropy change of the universe would be zero and the water would be reversibly heated.\n"
       ]
      }
     ],
     "prompt_number": 16
    },
    {
     "cell_type": "heading",
     "level": 3,
     "metadata": {},
     "source": [
      "Example 5.50 Page no : 295"
     ]
    },
    {
     "cell_type": "code",
     "collapsed": false,
     "input": [
      "\n",
      "import math \n",
      "\n",
      "# Variables\n",
      "cp = 2.093; \t\t\t#kJ/kg0C\n",
      "c = 4.187;\n",
      "Lf = 333.33; \t\t\t#kJ/kg\n",
      "m = 1.; \t\t\t#kg\n",
      "T0 = 273.; \t\t\t#K\n",
      "T1 = 268.; \t\t\t#K\n",
      "T2 = 298.; \t\t\t#K\n",
      "\n",
      "# Calculations and Results\n",
      "Q_s = m*cp*(T0-T1);\n",
      "Q_f = m*Lf;\n",
      "Q_l = m*c*(T2-T0);\n",
      "Q = Q_s+Q_f+Q_l;\n",
      "\n",
      "print (\"(i) Entropy increase of the universe\")\n",
      "ds_atm = -Q/T2;\n",
      "ds_sys1 = m*cp*math.log(T0/T1);\n",
      "ds_sys2 = Lf/T0;\n",
      "ds_sys3 = m*c*math.log(T2/T0);\n",
      "ds_total = ds_sys1+ds_sys2+ds_sys3;\n",
      "ds_universe = ds_total+ds_atm;\n",
      "\n",
      "print (\"Entropy increase of universe = %.3f\")%(ds_universe), (\"kJ/K\")\n",
      "\n",
      "\n",
      "print (\"(ii) Minimum amount of work necessary to convert the water back into ice at \u2013 5\u00b0C, Wmin.\")\n",
      "dS_refrigerator = 0;\n",
      "\n",
      "dS_system = -1.6263; \t\t\t#kJ/kg K\n",
      "T = 298; \t\t\t#K\n",
      "#For minimum work \n",
      "W_min = T*(-dS_system)-Q;\n",
      "\n",
      "print (\"Minimum work done  = %.3f\")% (W_min), (\"kJ\")\n"
     ],
     "language": "python",
     "metadata": {},
     "outputs": [
      {
       "output_type": "stream",
       "stream": "stdout",
       "text": [
        "(i) Entropy increase of the universe\n",
        "Entropy increase of universe = 0.122 kJ/K\n",
        "(ii) Minimum amount of work necessary to convert the water back into ice at \u2013 5\u00b0C, Wmin.\n",
        "Minimum work done  = 36.167 kJ\n"
       ]
      }
     ],
     "prompt_number": 43
    }
   ],
   "metadata": {}
  }
 ]
}