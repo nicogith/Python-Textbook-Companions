{
 "metadata": {
  "name": ""
 },
 "nbformat": 3,
 "nbformat_minor": 0,
 "worksheets": [
  {
   "cells": [
    {
     "cell_type": "heading",
     "level": 1,
     "metadata": {},
     "source": [
      "Chapter 10 : Power Supplies"
     ]
    },
    {
     "cell_type": "heading",
     "level": 2,
     "metadata": {},
     "source": [
      "example 10.1, Page No. 416"
     ]
    },
    {
     "cell_type": "code",
     "collapsed": false,
     "input": [
      "# Voltage regulation and % change in output voltage per unit of load current\n",
      "\n",
      "import math\n",
      "#Variable declaration\n",
      "Vfl = 24                # full load voltage\n",
      "Vnl = 24.5              # no load voltage\n",
      "Ifl = 2                 # full load current\n",
      "\n",
      "#calculations\n",
      "#(a)\n",
      "VR = (Vnl-Vfl)/Vfl\n",
      "#(b)\n",
      "x = VR*100/Ifl\n",
      "\n",
      "#Result\n",
      "print(\"(a) Voltage regulation = %.4f or %.2f%%\\n(b) %%tage change in output voltage per unit load current = %.2f%%\"%(VR,VR*100,x))"
     ],
     "language": "python",
     "metadata": {},
     "outputs": [
      {
       "output_type": "stream",
       "stream": "stdout",
       "text": [
        "(a) Voltage regulation = 0.0208 or 2.08%\n",
        "(b) %tage change in output voltage per unit load current = 1.04%\n"
       ]
      }
     ],
     "prompt_number": 6
    },
    {
     "cell_type": "heading",
     "level": 2,
     "metadata": {},
     "source": [
      "example 10.2, Page No. 416"
     ]
    },
    {
     "cell_type": "code",
     "collapsed": false,
     "input": [
      "# Redulation in percent V\n",
      "\n",
      "\n",
      "import math\n",
      "Vout = 0.3             # change in output voltage when input change\n",
      "Vin = 4                # input voltage change\n",
      "V = 15                 # rated ouutput voltage\n",
      "\n",
      "#calculations\n",
      "lr = (Vout/V)*100/Vin\n",
      "print(\"%% line regulation = %.1f%% V\"%lr)\n"
     ],
     "language": "python",
     "metadata": {},
     "outputs": [
      {
       "output_type": "stream",
       "stream": "stdout",
       "text": [
        "% line regulation = 0.5% V\n"
       ]
      }
     ],
     "prompt_number": 9
    },
    {
     "cell_type": "heading",
     "level": 2,
     "metadata": {},
     "source": [
      "example 10.3, Page No. 416"
     ]
    },
    {
     "cell_type": "code",
     "collapsed": false,
     "input": [
      "# output voltage, load current, zener curretn\n",
      "\n",
      "import math\n",
      "#variable declaration\n",
      "Vi = 15.0                # input voltage\n",
      "beta_dc = 50.0           # transistor gain\n",
      "Rl = 1000.0              # load resistor\n",
      "Vz = 6.0                 # zener voltage\n",
      "Ri = 500.0               # input voltage\n",
      "Vbe = 0.7                # voltage drop across transistor base-emitter\n",
      "\n",
      "#Calculations\n",
      "Vo = Vz-Vbe\n",
      "Il = Vo/Rl\n",
      "Vce = Vi-Vo\n",
      "I = (V-Vz)/Ri\n",
      "Ib = Il/beta_dc\n",
      "Iz = I-Ib\n",
      "\n",
      "#Result\n",
      "print(\"Vo = %.1fV\\nLoad current = %.1f mA\\nZener current = %.3f mA\"%(Vo,Il*1000,Iz*1000))"
     ],
     "language": "python",
     "metadata": {},
     "outputs": [
      {
       "output_type": "stream",
       "stream": "stdout",
       "text": [
        "Vo = 5.3V\n",
        "Load current = 5.3 mA\n",
        "Zener current = 17.894 mA\n"
       ]
      }
     ],
     "prompt_number": 27
    },
    {
     "cell_type": "heading",
     "level": 2,
     "metadata": {},
     "source": [
      "example 10.4, Page No. 417"
     ]
    },
    {
     "cell_type": "code",
     "collapsed": false,
     "input": [
      "#output voltage(referring fig.10.2)\n",
      "\n",
      "import math\n",
      "Vz = 6.0               # zener voltage\n",
      "R1 = 10.0*10**3        # resistance 1\n",
      "R2 = 15.0*10**3        # resistance 2\n",
      "\n",
      "#Calculations\n",
      "Vo = (1+(R2/R1))*Vz\n",
      "\n",
      "#Result\n",
      "print(\"Vo = %d V\"%Vo)"
     ],
     "language": "python",
     "metadata": {},
     "outputs": [
      {
       "output_type": "stream",
       "stream": "stdout",
       "text": [
        "Vo = 15 V\n"
       ]
      }
     ],
     "prompt_number": 29
    },
    {
     "cell_type": "heading",
     "level": 2,
     "metadata": {},
     "source": [
      "example 10.5, Page No. 417"
     ]
    },
    {
     "cell_type": "code",
     "collapsed": false,
     "input": [
      "# finding Vo, Io, Ic (referring fig.10.1)\n",
      "\n",
      "import math\n",
      "#variable declaration\n",
      "Vz = 9.0               # zener voltage\n",
      "R1 = 1.5*10**3         # resistance 1\n",
      "R2 = 3.0*10**3         # resistance 2, value used in calculations\n",
      "Rl = 2.0*10**3         # load resistance\n",
      "Rs = 200               # source resistance\n",
      "Vin = 30               # input oltage\n",
      "\n",
      "#Calculations\n",
      "Vo = (1+(R2/R1))*Vz\n",
      "Is =(Vin - Vo)/Rs\n",
      "Io = Vo/Rl\n",
      "Ic = Is -Io\n",
      "\n",
      "#Result\n",
      "print(\"Vo = %d V\\nIo = %.1f mA\\nIc = %.1f mA\"%(Vo,Io*1000,Ic*1000))"
     ],
     "language": "python",
     "metadata": {},
     "outputs": [
      {
       "output_type": "stream",
       "stream": "stdout",
       "text": [
        "Vo = 27 V\n",
        "Io = 13.5 mA\n",
        "Ic = 1.5 mA\n"
       ]
      }
     ],
     "prompt_number": 31
    },
    {
     "cell_type": "heading",
     "level": 2,
     "metadata": {},
     "source": [
      "example 10.6, Page No. 417"
     ]
    },
    {
     "cell_type": "code",
     "collapsed": false,
     "input": [
      "# Minimum and maximum output voltage\n",
      "\n",
      "import math\n",
      "# variable declaration\n",
      "Iadj = 40*10**-6           # current\n",
      "Vref = 1.25                # reference voltage\n",
      "R1 = 2*10**3               # resistance R1\n",
      "R2min = 0                  # minimum value of R2 resistor\n",
      "R2max = 20.0*10**3         # maximum value of R2 resistor\n",
      "\n",
      "#calculations\n",
      "Vo1 = (Vref*(1+(R2max/R1)))+Iadj*R2max\n",
      "Vo2 = Vref*(1+(R2min/R1))\n",
      "\n",
      "#Result\n",
      "print(\"When R2 = %d k-ohm\\nVo = %.2f V\"%(R2max/1000,Vo1))\n",
      "print(\"\\nWhen R2 = %d k-ohm\\nVo = %.2f V\"%(R2min/1000,Vo2))"
     ],
     "language": "python",
     "metadata": {},
     "outputs": [
      {
       "output_type": "stream",
       "stream": "stdout",
       "text": [
        "When R2 = 20 k-ohm\n",
        "Vo = 14.55 V\n",
        "\n",
        "When R2 = 0 k-ohm\n",
        "Vo = 1.25 V\n"
       ]
      }
     ],
     "prompt_number": 35
    }
   ],
   "metadata": {}
  }
 ]
}