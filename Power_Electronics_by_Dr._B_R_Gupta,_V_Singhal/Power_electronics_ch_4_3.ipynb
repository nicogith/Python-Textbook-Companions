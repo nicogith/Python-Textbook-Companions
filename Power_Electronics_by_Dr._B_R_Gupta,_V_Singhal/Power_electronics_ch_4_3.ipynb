{
 "metadata": {
  "name": ""
 },
 "nbformat": 3,
 "nbformat_minor": 0,
 "worksheets": [
  {
   "cells": [
    {
     "cell_type": "heading",
     "level": 1,
     "metadata": {},
     "source": [
      "Chapter 4: Inverters"
     ]
    },
    {
     "cell_type": "heading",
     "level": 2,
     "metadata": {},
     "source": [
      "example 4.1, Page No.205"
     ]
    },
    {
     "cell_type": "code",
     "collapsed": false,
     "input": [
      "# Maximum output frequency\n",
      "\n",
      "import math\n",
      "#Variable declaration\n",
      "R = 80.0               # serries inverter resistance\n",
      "L = 8*10**-3           # serries inverter inductance\n",
      "C = 1.2*10**-6         # serries inverter capacitance\n",
      "\n",
      "#Calculations\n",
      "X =(4*L)/C\n",
      "f = math.sqrt((1/(L*C))-((R**2)/(4*L**2)))\n",
      "f = math.ceil(f)\n",
      "#Result\n",
      "print(\"R^2 = %.0f\\n4L/C = %.0f\"%(R*R,X))\n",
      "print(\"Since (R^2)<(4L/C), circuit is underdamped and it will work as a series inverter.\")\n",
      "print(\"\\nMaximum frequency = %.4f*10^4 rad/sec or %.2f Hz\"%(f/10000,f/(2*math.pi)))"
     ],
     "language": "python",
     "metadata": {},
     "outputs": [
      {
       "output_type": "stream",
       "stream": "stdout",
       "text": [
        "R^2 = 6400\n",
        "4L/C = 26667\n",
        "Since (R^2)<(4L/C), circuit is underdamped and it will work as a series inverter.\n",
        "\n",
        "Maximum frequency = 0.8898*10^4 rad/sec or 1416.16 Hz\n"
       ]
      }
     ],
     "prompt_number": 16
    },
    {
     "cell_type": "heading",
     "level": 2,
     "metadata": {},
     "source": [
      "example 4.2, Page No. 205"
     ]
    },
    {
     "cell_type": "code",
     "collapsed": false,
     "input": [
      "# output frequency(refering example 4.1)\n",
      "\n",
      "import math\n",
      "#Variable declaration\n",
      "R = 80.0               # serries inverter resistance\n",
      "L = 8*10**-3           # serries inverter inductance\n",
      "C = 1.2*10**-6         # serries inverter capacitance\n",
      "t = 14*10**-6          # turn off time of thyristor\n",
      "Fmax = 1416.16         # frequency as calculated in ex 4.1\n",
      "\n",
      "#Calculation\n",
      "T =1/Fmax\n",
      "T = math.floor(T*10**6)/10**6\n",
      "k = 1/0.000734\n",
      "f =1/(T+2*t)\n",
      "\n",
      "#Result\n",
      "print(\"frequency = %.1f Hz\"%f)"
     ],
     "language": "python",
     "metadata": {},
     "outputs": [
      {
       "output_type": "stream",
       "stream": "stdout",
       "text": [
        "frequency = 1362.4 Hz\n"
       ]
      }
     ],
     "prompt_number": 36
    },
    {
     "cell_type": "heading",
     "level": 2,
     "metadata": {},
     "source": [
      "example 4.3, Page No.205"
     ]
    },
    {
     "cell_type": "code",
     "collapsed": false,
     "input": [
      "# circuit turn off time and max frequency\n",
      "\n",
      "import math\n",
      "#Variable declaration\n",
      "L = 50.0*10**-6              # Inductance\n",
      "C = 6.0*10**-6               # capacitance\n",
      "R = 4.0                      # Resistance\n",
      "V = 200.0                    # input voltage\n",
      "f = 6000.0                   # output frequency\n",
      "t = 6.0*10**-6               # SCR turn off time\n",
      "\n",
      "#calculations\n",
      "x = 4*L/C\n",
      "wr = math.sqrt((1/(L*C))-((R**2)/(4*L**2)))\n",
      "wr = math.floor(wr*10)/10\n",
      "fr = wr/(2*math.pi)\n",
      "#(a)\n",
      "x1 = math.pi/wr\n",
      "x1= math.floor(x1*10**7)/10**7\n",
      "toff = (math.pi/(2*math.pi*f))-(x1)\n",
      "#(b)\n",
      "fmax = 1/(2*((x1)+t))\n",
      "\n",
      "#result\n",
      "print(\"(a) Available circuit turn off time = %.2f micro-sec\\n(b) fmax = %.1f Hz\"%(toff*10**6,fmax))\n"
     ],
     "language": "python",
     "metadata": {},
     "outputs": [
      {
       "output_type": "stream",
       "stream": "stdout",
       "text": [
        "(a) Available circuit turn off time = 7.93 micro-sec\n",
        "(b) fmax = 6142.5 Hz\n"
       ]
      }
     ],
     "prompt_number": 67
    },
    {
     "cell_type": "heading",
     "level": 2,
     "metadata": {},
     "source": [
      "example 4.4, Page No. 208"
     ]
    },
    {
     "cell_type": "code",
     "collapsed": false,
     "input": [
      "# thyristor ratings\n",
      "\n",
      "import math\n",
      "#Variable declaration\n",
      "V = 40.0                # input DC voltage\n",
      "Vo = 230.0              # output voltage\n",
      "f = 50.0                # output frequency\n",
      "Il = 2.0                # peak load current\n",
      "t = 50.0*10**-6         # turn off time\n",
      "\n",
      "#calculations\n",
      "Il_r = Vo*2/V\n",
      "#after solving (i),(ii)\n",
      "C=((t*3/math.pi)**2)*(((2*Vo)/(V**2))**2)\n",
      "C = math.sqrt(C)\n",
      "C = math.ceil(C*10**8)/10**8\n",
      "L = ((t*3/math.pi)**2)/C\n",
      "# OR\n",
      "#L= C/(((2*Vo)/(V**2))**2)\n",
      "\n",
      "#Result\n",
      "print(\"L = %.2f *10^-6 H\\nC = %.2f *10^-6 F\"%(L*10**6,C*10**6))\n",
      "print(\"\\nFinal SCR rating is 100V,20A, turn off time 50 micro-sec\")"
     ],
     "language": "python",
     "metadata": {},
     "outputs": [
      {
       "output_type": "stream",
       "stream": "stdout",
       "text": [
        "L = 166.04 *10^-6 H\n",
        "C = 13.73 *10^-6 F\n",
        "\n",
        "Final SCR rating is 100V,20A, turn off time 50 micro-sec\n"
       ]
      }
     ],
     "prompt_number": 87
    },
    {
     "cell_type": "heading",
     "level": 2,
     "metadata": {},
     "source": [
      "example 4.5, Page No. 213"
     ]
    },
    {
     "cell_type": "code",
     "collapsed": false,
     "input": [
      "#Single phase half bridge inverter\n",
      "\n",
      "import math\n",
      "# variable declaration\n",
      "R = 3.0               # load resistance\n",
      "V = 30.0              # input DC voltage\n",
      "\n",
      "#Calculations\n",
      "#(a) for n=1;\n",
      "V1rms = 2*V/(math.sqrt(2)*math.pi)\n",
      "#(b)\n",
      "Vl = V/2\n",
      "P = (Vl**2)/R\n",
      "#(c)\n",
      "Ip = Vl/R\n",
      "#(d)\n",
      "Iavg = Ip/2\n",
      "#(e)\n",
      "Vr = 2*Vl\n",
      "\n",
      "#Result\n",
      "print(\"(a) RMS value V1 = %.1f V\\n(b) Output power = %.0f W\\n(c) Peak current in each thyristor = %.0f A\"%(V1rms,P,Ip))\n",
      "print(\"(d)Each thyristor conducts for 50%% of time,\\n             Average current = %.1f A\"%(Iavg))\n",
      "print(\"(e) Peak reverse blocking voltage = %.0f V\"%Vr)"
     ],
     "language": "python",
     "metadata": {},
     "outputs": [
      {
       "output_type": "stream",
       "stream": "stdout",
       "text": [
        "(a) RMS value V1 = 13.5 V\n",
        "(b) Output power = 75 W\n",
        "(c) Peak current in each thyristor = 5 A\n",
        "(d)Each thyristor conducts for 50% of time,\n",
        "             Average current = 2.5 A\n",
        "(e) Peak reverse blocking voltage = 30 V\n"
       ]
      }
     ],
     "prompt_number": 91
    },
    {
     "cell_type": "heading",
     "level": 2,
     "metadata": {},
     "source": [
      "example 4.6, Page No. 214"
     ]
    },
    {
     "cell_type": "code",
     "collapsed": false,
     "input": [
      "# full bridge inverter\n",
      "\n",
      "import math\n",
      "# variable declaration\n",
      "R = 3.0               # load resistance\n",
      "V = 30.0              # input DC voltage\n",
      "\n",
      "#Calculations\n",
      "#(a) for n=1;\n",
      "V1rms = 4*V/(math.sqrt(2)*math.pi)\n",
      "#(b)\n",
      "Vl = V\n",
      "P = (Vl**2)/R\n",
      "#(c)\n",
      "Ip = Vl/R\n",
      "#(d)\n",
      "Iavg = Ip/2\n",
      "#(e)\n",
      "Vr = Vl\n",
      "\n",
      "#Result\n",
      "print(\"(a) RMS value V1 = %.1f V\\n(b) Output power = %.0f W\\n(c) Peak current in each thyristor = %.0f A\"%(V1rms,P,Ip))\n",
      "print(\"(d)Each thyristor conducts for 50%% of time,\\n             Average current = %.1f A\"%(Iavg))\n",
      "print(\"(e) Peak reverse blocking voltage = %.0f V\"%Vr)"
     ],
     "language": "python",
     "metadata": {},
     "outputs": [
      {
       "output_type": "stream",
       "stream": "stdout",
       "text": [
        "(a) RMS value V1 = 27.0 V\n",
        "(b) Output power = 300 W\n",
        "(c) Peak current in each thyristor = 10 A\n",
        "(d)Each thyristor conducts for 50% of time,\n",
        "             Average current = 5.0 A\n",
        "(e) Peak reverse blocking voltage = 30 V\n"
       ]
      }
     ],
     "prompt_number": 2
    },
    {
     "cell_type": "heading",
     "level": 2,
     "metadata": {},
     "source": [
      "example 4.7, Page No. 214"
     ]
    },
    {
     "cell_type": "code",
     "collapsed": false,
     "input": [
      "# Full bridge inverter circuit\n",
      "\n",
      "import math\n",
      "#Variable declaration\n",
      "V = 200.0                 # input voltage\n",
      "R = 10.0                  # resistance\n",
      "L = 20.0*10**-3           # Inductance\n",
      "C = 100.0*10**-6          # capacitance\n",
      "f = 50.0                  # inverter frequency\n",
      "\n",
      "#(a)\n",
      "Z1_r = R\n",
      "Z1_i = (2*math.pi*f*L)-(1/(2*math.pi*f*C))\n",
      "Z1_i = math.floor(Z1_i*100)/100\n",
      "Z1_mag = math.sqrt((Z1_r**2) + (Z1_i**2)) \n",
      "Z1_angle =math.atan(Z1_i/Z1_r)*(180/math.pi) \n",
      "Z1_angle = math.floor(Z1_angle*100)/100\n",
      "\n",
      "Z3_r = R\n",
      "Z3_i = (3*2*math.pi*f*L)-(1/(3*2*math.pi*f*C))\n",
      "Z3_i = math.floor(Z3_i*100)/100\n",
      "Z3_mag = math.sqrt((Z3_r**2) + (Z3_i**2)) \n",
      "Z3_angle =math.atan(Z3_i/Z3_r)*(180/math.pi) \n",
      "Z3_angle = math.floor(Z3_angle*100)/100\n",
      "\n",
      "Z5_r = R\n",
      "Z5_i = (5*2*math.pi*f*L)-(1/(5*2*math.pi*f*C))\n",
      "Z5_i = math.floor(Z5_i*100)/100\n",
      "Z5_mag = math.sqrt((Z5_r**2) + (Z5_i**2)) \n",
      "Z5_angle =math.atan(Z5_i/Z5_r)*(180/math.pi) \n",
      "#Z5_angle = math.floor(Z5_angle*100)/100\n",
      "\n",
      "Z7_r = R\n",
      "Z7_i = (7*2*math.pi*f*L)-(1/(7*2*math.pi*f*C))\n",
      "Z7_i = math.floor(Z7_i*100)/100\n",
      "Z7_mag = math.sqrt((Z7_r**2) + (Z7_i**2)) \n",
      "Z7_angle =math.atan(Z7_i/Z7_r)*(180/math.pi) \n",
      "Z7_angle = math.floor(Z7_angle*100)/100\n",
      "\n",
      "Z9_r = R\n",
      "Z9_i = (9*2*math.pi*f*L)-(1/(9*2*math.pi*f*C))\n",
      "Z9_i = math.floor(Z9_i*100)/100\n",
      "Z9_mag = math.sqrt((Z9_r**2) + (Z9_i**2)) \n",
      "Z9_angle =math.atan(Z9_i/Z9_r)*(180/math.pi) \n",
      "Z9_angle = math.floor(Z9_angle*100)/100\n",
      "\n",
      "x = 4*V/(math.pi)\n",
      "w = 2*math.pi*f\n",
      "\n",
      "#(b)\n",
      "I1 = math.floor(x*100/Z1_mag)/100\n",
      "I3 = math.floor(x*100/(3*Z3_mag))/100\n",
      "I5 = math.ceil(x*100/(5*Z5_mag))/100\n",
      "I7 = math.ceil(x*1000/(7*Z7_mag))/1000\n",
      "I9 = math.ceil(x*1000/(9*Z9_mag))/1000\n",
      "If = I1/math.sqrt(2)\n",
      "If = math.floor(If*100)/100\n",
      "#(c)\n",
      "Ip =math.sqrt(I1**2+I3**2+I5**2+I7**2+I9**2)\n",
      "#(d)\n",
      "Ihc = math.sqrt(Ip**2- I1**2)/math.sqrt(2)\n",
      "Thd = math.sqrt(Ip**2- I1**2)/I1\n",
      "#(e)\n",
      "Ilrms = Ip/math.sqrt(2)\n",
      "P = R*Ilrms**2\n",
      "Pf = R*If**2\n",
      "#(f)\n",
      "Iavg = P/V\n",
      "\n",
      "#Result\n",
      "print(\"(a)\\nZ1 = %.3f < %.2f\u00b0\"%(Z1_mag,Z1_angle))\n",
      "print(\"Z3 = %.2f < %.2f\u00b0\"%(Z3_mag,Z3_angle))\n",
      "print(\"Z5 = %.2f < %.2f\u00b0\"%(Z5_mag,Z5_angle))\n",
      "print(\"Z7 = %.2f < %.2f\u00b0\"%(Z7_mag,Z7_angle))\n",
      "print(\"Z9 = %.2f < %.2f\u00b0\"%(Z9_mag,Z9_angle))\n",
      "print(\"Vl = %.2fsin(%.2ft)+%.2fsin(3*%.2ft)+%.2fsin(5*%.2ft)+%.2fsin(7*%.2ft)+%.2fsin(9*%.2ft)\"%(x,w,x/3,w,x/5,w,x/7,w,x/9,w))\n",
      "print(\"Il = %.2fsin(%.2ft%.2f\u00b0)+%.2fsin(3*%.2ft-%.2f\u00b0)+%.2fsin(5*%.2ft-%.2f\u00b0)+%.3fsin(7*%.2ft-%.2f\u00b0)+%.3fsin(9*%.2ft-%.2f\u00b0)\"%(I1,w,Z1_angle,I3,w,Z3_angle,I5,w,Z5_angle,I7,w,Z7_angle,I9,w,Z9_angle))\n",
      "\n",
      "print(\"\\n(b) RMS load current at fundamental frequency = %.2f A\"%If)\n",
      "print(\"\\n(c) Peak value of load current = %.2f A\"%Ip)\n",
      "print(\"\\n(d) RMS harmonic current = %.3f A\\n    Total harmonic distortion = %.3f or %.1f%%\"%(Ihc,Thd,Thd*100))\n",
      "print(\"\\n(e) RMS value of load current = %.3f A\\n    Total output power = %.1f W\\n    Fundamental component of power = %.3f W\"%(Ilrms,P,Pf))\n",
      "print(\"\\n(f) Average input current = %.4f A\\n    Peak thyristor current = %.2f A\"%(Iavg,Ip))\n",
      "#Some values are accurate only upto 1 or 2 decimal places"
     ],
     "language": "python",
     "metadata": {},
     "outputs": [
      {
       "output_type": "stream",
       "stream": "stdout",
       "text": [
        "(a)\n",
        "Z1 = 27.437 < -68.63\u00b0\n",
        "Z3 = 12.95 < 39.45\u00b0\n",
        "Z5 = 26.96 < 68.23\u00b0\n",
        "Z7 = 40.68 < 75.76\u00b0\n",
        "Z9 = 53.94 < 79.31\u00b0\n",
        "Vl = 254.65sin(314.16t)+84.88sin(3*314.16t)+50.93sin(5*314.16t)+36.38sin(7*314.16t)+28.29sin(9*314.16t)\n",
        "Il = 9.28sin(314.16t-68.63\u00b0)+6.55sin(3*314.16t-39.45\u00b0)+1.89sin(5*314.16t-68.23\u00b0)+0.895sin(7*314.16t-75.76\u00b0)+0.525sin(9*314.16t-79.31\u00b0)\n",
        "\n",
        "(b) RMS load current at fundamental frequency = 6.56 A\n",
        "\n",
        "(c) Peak value of load current = 11.56 A\n",
        "\n",
        "(d) RMS harmonic current = 4.876 A\n",
        "    Total harmonic distortion = 0.743 or 74.3%\n",
        "\n",
        "(e) RMS value of load current = 8.175 A\n",
        "    Total output power = 668.3 W\n",
        "    Fundamental component of power = 430.336 W\n",
        "\n",
        "(f) Average input current = 3.3417 A\n",
        "    Peak thyristor current = 11.56 A\n"
       ]
      }
     ],
     "prompt_number": 70
    },
    {
     "cell_type": "heading",
     "level": 2,
     "metadata": {},
     "source": [
      "example 4.8, Page No. 216"
     ]
    },
    {
     "cell_type": "code",
     "collapsed": false,
     "input": [
      "# Value of C for proper load communication\n",
      "\n",
      "import math\n",
      "#variable declaration\n",
      "R = 2              # resistance\n",
      "Xl = 10            # inductive reactance\n",
      "f = 4*10**3        # operating frequency\n",
      "T = 12*10**-6      # turn off time of thyristor\n",
      "tol = 1.5          # 50% tolerance in circuit turn off time\n",
      "\n",
      "#Calculations\n",
      "T = T*tol\n",
      "theta = 2*math.pi*f*T    #radians\n",
      "#theta = theta*180/math.pi\n",
      "Xc = 2*math.tan(theta)+Xl\n",
      "C = 1/(Xc*2*math.pi*f)\n",
      "\n",
      "#Result\n",
      "print(\"C = %.2f*10^-6 F\"%(C*10**6))"
     ],
     "language": "python",
     "metadata": {},
     "outputs": [
      {
       "output_type": "stream",
       "stream": "stdout",
       "text": [
        "C = 3.63*10^-6 F\n"
       ]
      }
     ],
     "prompt_number": 72
    },
    {
     "cell_type": "heading",
     "level": 2,
     "metadata": {},
     "source": [
      "example 4.9, Page No. 216"
     ]
    },
    {
     "cell_type": "code",
     "collapsed": false,
     "input": [
      "# Full bridge inverter\n",
      "\n",
      "import math\n",
      "#variable declaratrion\n",
      "R = 10              # resistance\n",
      "L = 50*10**-3       # inductance\n",
      "f = 50              # frequency\n",
      "V = 100             # input voltage\n",
      "\n",
      "#Calculation \n",
      "\n",
      "#(a)\n",
      "Z1_r = R\n",
      "Z1_i = (2*math.pi*f*L)\n",
      "Z1_i = math.floor(Z1_i*100)/100\n",
      "Z1_mag = math.sqrt((Z1_r**2) + (Z1_i**2)) \n",
      "Z1_mag = math.ceil(Z1_mag*100)/100\n",
      "Z1_angle =math.atan(Z1_i/Z1_r)*(180/math.pi) \n",
      "Z1_angle = math.floor(Z1_angle*100)/100\n",
      "\n",
      "Z3_r = R\n",
      "Z3_i = (3*2*math.pi*f*L)\n",
      "Z3_i = math.floor(Z3_i*100)/100\n",
      "Z3_mag = math.sqrt((Z3_r**2) + (Z3_i**2)) \n",
      "Z3_angle =math.atan(Z3_i/Z3_r)*(180/math.pi) \n",
      "Z3_angle = math.floor(Z3_angle*100)/100\n",
      "\n",
      "Z5_r = R\n",
      "Z5_i = (5*2*math.pi*f*L)\n",
      "Z5_i = math.floor(Z5_i*100)/100\n",
      "Z5_mag = math.sqrt((Z5_r**2) + (Z5_i**2)) \n",
      "Z5_mag = math.ceil(Z5_mag*100)/100\n",
      "Z5_angle =math.atan(Z5_i/Z5_r)*(180/math.pi) \n",
      "Z5_angle = math.ceil(Z5_angle*100)/100\n",
      "\n",
      "Z7_r = R\n",
      "Z7_i = (7*2*math.pi*f*L)\n",
      "Z7_i = math.floor(Z7_i*100)/100\n",
      "Z7_mag = math.sqrt((Z7_r**2) + (Z7_i**2)) \n",
      "Z7_mag = math.ceil(Z7_mag*100)/100\n",
      "Z7_angle =math.atan(Z7_i/Z7_r)*(180/math.pi) \n",
      "Z7_angle = math.floor(Z7_angle*100)/100\n",
      "\n",
      "x = 4*V/(math.pi)\n",
      "w = 2*math.pi*f\n",
      "#(b)\n",
      "I1 = math.ceil(x*100/Z1_mag)/100\n",
      "I3 = math.floor(x*1000/(3*Z3_mag))/1000\n",
      "I5 = math.floor(x*100/(5*Z5_mag))/100\n",
      "I7 = math.ceil(x*1000/(7*Z7_mag))/1000\n",
      "\n",
      "Ip =math.sqrt(I1**2+I3**2+I5**2+I7**2)\n",
      "\n",
      "#Result\n",
      "print(\"Vl = %.2fsin(%.2ft)+%.2fsin(%.2ft)+%.2fsin(%.2ft)+%.2fsin(%.2ft)\"%(x,w,x/3,3*w,x/5,5*w,x/7,7*w))\n",
      "\n",
      "print(\"\\nLoad impedances for various harmonics are:\")\n",
      "print(\"Z1 = %.2f < %.1f\u00b0\"%(Z1_mag,Z1_angle))\n",
      "print(\"Z3 = %.2f < %.0f\u00b0\"%(Z3_mag,Z3_angle))\n",
      "print(\"Z5 = %.2f < %.2f\u00b0\"%(Z5_mag,Z5_angle))\n",
      "print(\"Z7 = %.2f < %.2f\u00b0\"%(Z7_mag,Z7_angle))\n",
      "\n",
      "print(\"\\nIl = %.2fsin(%.2ft-%.1f\u00b0)+%.3fsin(%.2ft-%.0f\u00b0)+%.2fsin(%.2ft-%.2f\u00b0)+%.3fsin(%.2ft-%.1f\u00b0)\"%(I1,w,Z1_angle,I3,3*w,Z3_angle,I5,5*w,Z5_angle,I7,7*w,Z7_angle))\n",
      "\n",
      "print(\"\\nPeak load current = %.2f A\"%Ip)"
     ],
     "language": "python",
     "metadata": {},
     "outputs": [
      {
       "output_type": "stream",
       "stream": "stdout",
       "text": [
        "Vl = 127.32sin(314.16t)+42.44sin(942.48t)+25.46sin(1570.80t)+18.19sin(2199.11t)\n",
        "\n",
        "Load impedances for various harmonics are:\n",
        "Z1 = 18.62 < 57.5\u00b0\n",
        "Z3 = 48.17 < 78\u00b0\n",
        "Z5 = 79.17 < 82.75\u00b0\n",
        "Z7 = 110.41 < 84.80\u00b0\n",
        "\n",
        "Il = 6.84sin(314.16t-57.5\u00b0)+0.881sin(942.48t-78\u00b0)+0.32sin(1570.80t-82.75\u00b0)+0.165sin(2199.11t-84.8\u00b0)\n",
        "\n",
        "Peak load current = 6.91 A\n"
       ]
      }
     ],
     "prompt_number": 117
    },
    {
     "cell_type": "heading",
     "level": 2,
     "metadata": {},
     "source": [
      "example 4.10, Page No. 217"
     ]
    },
    {
     "cell_type": "code",
     "collapsed": false,
     "input": [
      "# single phase Full bridge inverter\n",
      "\n",
      "import math\n",
      "#variable declaratrion\n",
      "R = 20              # resistance\n",
      "L = 10*10**-3       # inductance\n",
      "f = 50.0            # frequency\n",
      "V = 100             # input voltage\n",
      "\n",
      "#Calculation \n",
      "#(a)\n",
      "Vrms = V\n",
      "#(b)\n",
      "Z1_r = R\n",
      "Z1_i = (2*math.pi*f*L)\n",
      "Z1_i = math.floor(Z1_i*100)/100\n",
      "Z1_mag = math.sqrt((Z1_r**2) + (Z1_i**2)) \n",
      "Z1_mag = math.floor(Z1_mag*100)/100\n",
      "Z1_angle =math.atan(Z1_i/Z1_r)*(180/math.pi) \n",
      "Z1_angle = math.floor(Z1_angle*100)/100\n",
      "\n",
      "Z3_r = R\n",
      "Z3_i = (3*2*math.pi*f*L)\n",
      "Z3_i = math.floor(Z3_i*100)/100\n",
      "Z3_mag = math.sqrt((Z3_r**2) + (Z3_i**2)) \n",
      "Z3_angle =math.atan(Z3_i/Z3_r)*(180/math.pi) \n",
      "Z3_angle = math.floor(Z3_angle*100)/100\n",
      "\n",
      "Z5_r = R\n",
      "Z5_i = (5*2*math.pi*f*L)\n",
      "Z5_i = math.floor(Z5_i*100)/100\n",
      "Z5_mag = math.sqrt((Z5_r**2) + (Z5_i**2)) \n",
      "Z5_mag = math.ceil(Z5_mag*100)/100\n",
      "Z5_angle =math.atan(Z5_i/Z5_r)*(180/math.pi) \n",
      "Z5_angle = math.floor(Z5_angle*100)/100\n",
      "\n",
      "Z7_r = R\n",
      "Z7_i = (7*2*math.pi*f*L)\n",
      "Z7_i = math.floor(Z7_i*100)/100\n",
      "Z7_mag = math.sqrt((Z7_r**2) + (Z7_i**2)) \n",
      "Z7_mag = math.floor(Z7_mag*100)/100\n",
      "Z7_angle =math.atan(Z7_i/Z7_r)*(180/math.pi) \n",
      "Z7_angle = math.floor(Z7_angle*100)/100\n",
      "\n",
      "x = 4*V/(math.pi)\n",
      "w = 2*math.pi*f\n",
      "\n",
      "I1 = math.floor(x*100/Z1_mag)/100\n",
      "I3 = math.floor(x*1000/(3*Z3_mag))/1000\n",
      "I5 = math.floor(x*1000/(5*Z5_mag))/1000\n",
      "I7 = math.floor(x*1000/(7*Z7_mag))/1000\n",
      "\n",
      "#(c)\n",
      "Ip =math.sqrt(I1**2+I3**2+I5**2+I7**2)\n",
      "\n",
      "#Result\n",
      "print(\"(a) RMS load voltage %d V\"%Vrms)\n",
      "print(\"\\n(b)\\n\\nVl = %.2fsin(%.2ft)+%.2fsin(%.2ft)+%.2fsin(%.2ft)+%.2fsin(%.2ft)\"%(x,w,x/3,3*w,x/5,5*w,x/7,7*w))\n",
      "\n",
      "print(\"\\nLoad impedances for various harmonics are:\")\n",
      "print(\"Z1 = %.2f < %.2f\u00b0\"%(Z1_mag,Z1_angle))\n",
      "print(\"Z3 = %.1f < %.2f\u00b0\"%(Z3_mag,Z3_angle))\n",
      "print(\"Z5 = %.2f < %.2f\u00b0\"%(Z5_mag,Z5_angle))\n",
      "print(\"Z7 = %.2f < %.2f\u00b0\"%(Z7_mag,Z7_angle))\n",
      "\n",
      "print(\"\\nIl = %.2fsin(%.2ft-%.2f\u00b0)+%.2fsin(%.2ft-%.2f\u00b0)+%.3fsin(%.2ft-%.2f\u00b0)+%.3fsin(%.2ft-%.2f\u00b0)\"%(I1,w,Z1_angle,I3,3*w,Z3_angle,I5,5*w,Z5_angle,I7,7*w,Z7_angle))\n",
      "print(\"\\nRMS value of fundamental component of load current = %.3f A\"%(I1/math.sqrt(2)))\n",
      "print(\"\\n(c) Peak load current = %.2f A\"%Ip)"
     ],
     "language": "python",
     "metadata": {},
     "outputs": [
      {
       "output_type": "stream",
       "stream": "stdout",
       "text": [
        "(a) RMS load voltage 100 V\n",
        "\n",
        "(b)\n",
        "\n",
        "Vl = 127.32sin(314.16t)+42.44sin(942.48t)+25.46sin(1570.80t)+18.19sin(2199.11t)\n",
        "\n",
        "Load impedances for various harmonics are:\n",
        "Z1 = 20.24 < 8.92\u00b0\n",
        "Z3 = 22.1 < 25.22\u00b0\n",
        "Z5 = 25.43 < 38.13\u00b0\n",
        "Z7 = 29.72 < 47.71\u00b0\n",
        "\n",
        "Il = 6.29sin(314.16t-8.92\u00b0)+1.92sin(942.48t-25.22\u00b0)+1.001sin(1570.80t-38.13\u00b0)+0.612sin(2199.11t-47.71\u00b0)\n",
        "\n",
        "RMS value of fundamental component of load current = 4.448 A\n",
        "\n",
        "(c) Peak load current = 6.68 A\n"
       ]
      }
     ],
     "prompt_number": 152
    },
    {
     "cell_type": "heading",
     "level": 2,
     "metadata": {},
     "source": [
      "example 4.11, Page No.229"
     ]
    },
    {
     "cell_type": "code",
     "collapsed": false,
     "input": [
      "# 3-phase bridge inverter with 120\u00b0 mode of operation\n",
      "\n",
      "import math\n",
      "#Variable declaration\n",
      "V = 400.0                # supply voltage\n",
      "R = 10.0                 # per phase resistor\n",
      "\n",
      "#Calculations\n",
      "Ip = V/(2*R)\n",
      "Irms = math.sqrt(((2*R)**2)*(2.0/3.0))\n",
      "P = Irms**2*R*3\n",
      "Iavg = 2*R/3\n",
      "Itrms = math.sqrt((2*R)**2/3)\n",
      "\n",
      "#Result\n",
      "print(\"Peak value of load current = %d A\\nRMS load current = %.2f A\\nPower output = %.0f W\"%(Ip,Irms,P))\n",
      "print(\"Average thyristor current = %.2f A\\nRMS value of thyristor current = %.2f A\"%(Iavg,Itrms))"
     ],
     "language": "python",
     "metadata": {},
     "outputs": [
      {
       "output_type": "stream",
       "stream": "stdout",
       "text": [
        "Peak value of load current = 20 A\n",
        "RMS load current = 16.33 A\n",
        "Power output = 8000 W\n",
        "Average thyristor current = 6.67 A\n",
        "RMS value of thyristor current = 11.55 A\n"
       ]
      }
     ],
     "prompt_number": 156
    },
    {
     "cell_type": "heading",
     "level": 2,
     "metadata": {},
     "source": [
      "example 4.12, Page No. 230"
     ]
    },
    {
     "cell_type": "code",
     "collapsed": false,
     "input": [
      "# 3-phase bridge inverter with 180\u00b0 mode of operation\n",
      "\n",
      "import math\n",
      "#variable declaration\n",
      "V = 400.0                # supply voltage\n",
      "R = 10.0                 # per phase resistor\n",
      "\n",
      "#Calculations\n",
      "Rl = 1.5*R\n",
      "i1 = V/Rl\n",
      "Irms = math.sqrt((1/(2*math.pi))*(((i1**2*(2*math.pi/3)))+((i1/2)**2*((2*math.pi)-(2*math.pi/3)))))\n",
      "P =Irms**2*R*3\n",
      "Iavg = ((i1*math.pi/3)+(i1*math.pi/3))/(2*math.pi)\n",
      "Itrms = math.sqrt(((i1**2*math.pi/3)+((i1/2)**2*2*math.pi/3))/(2*math.pi))\n",
      "\n",
      "#Result\n",
      "print(\"RMS load current = %.3f A\\nPower output = %.2f A\\nPeak thyristor current = %.2f A\"%(Irms,P,i1))\n",
      "print(\"Average current of thyristor = %.2f A\\nRMS current of thyristor = %.2f A\"%(Iavg,Itrms))"
     ],
     "language": "python",
     "metadata": {},
     "outputs": [
      {
       "output_type": "stream",
       "stream": "stdout",
       "text": [
        "RMS load current = 18.856 A\n",
        "Power output = 10666.67 A\n",
        "Peak thyristor current = 26.67 A\n",
        "Average current of thyristor = 8.89 A\n",
        "RMS current of thyristor = 13.33 A\n"
       ]
      }
     ],
     "prompt_number": 164
    },
    {
     "cell_type": "heading",
     "level": 2,
     "metadata": {},
     "source": [
      "example 4.13, Page No.230"
     ]
    },
    {
     "cell_type": "code",
     "collapsed": false,
     "input": [
      "# RMS value of load current and RMS value of thyristor current\n",
      "\n",
      "import math\n",
      "#variaable declaration\n",
      "V = 450.0                  # supply voltage\n",
      "R = 10.0                   # per phase load resistance\n",
      "mode = 180                 # conduction mode\n",
      "\n",
      "#calculation\n",
      "Rl = 1.5*R\n",
      "i1 = V/Rl\n",
      "#(a)\n",
      "Irms = math.sqrt((1/(2*math.pi))*(((i1**2*(2*math.pi/3)))+((i1/2)**2*((2*math.pi)-(2*math.pi/3)))))\n",
      "Ip = i1\n",
      "Itrms = math.sqrt((1/(2*math.pi))*(((i1**2*(math.pi/3)))+((i1/2)**2*((math.pi)-(math.pi/3)))))\n",
      "\n",
      "#Result\n",
      "print(\"(a) RMS load current = %.2f A\\n(b) Peak current of thyristor = %.0f A\\n(c) RMS current of thyristor = %.0f A\"%(Irms,Ip,Itrms))"
     ],
     "language": "python",
     "metadata": {},
     "outputs": [
      {
       "output_type": "stream",
       "stream": "stdout",
       "text": [
        "(a) RMS load current = 21.21 A\n",
        "(b) Peak current of thyristor = 30 A\n",
        "(c) RMS current of thyristor = 15 A\n"
       ]
      }
     ],
     "prompt_number": 167
    },
    {
     "cell_type": "heading",
     "level": 2,
     "metadata": {},
     "source": [
      "example 4.14, Page No. 234"
     ]
    },
    {
     "cell_type": "code",
     "collapsed": false,
     "input": [
      "# Single phase full bridge inverter\n",
      "\n",
      "import math\n",
      "#variable declaration\n",
      "V = 200.0                 # input voltage\n",
      "w = 30.0                  # width of each pulse\n",
      "n = 5.0                   # no of pulses each cycle\n",
      "i =1.1                  # factor by whic input is to be increased\n",
      "w1= 33.0                  # maximum width of pulse\n",
      "\n",
      "#Calculations\n",
      "#(a)\n",
      "Vl = V*math.sqrt(n*w/180.0)\n",
      "Vl = math.floor(Vl*100)/100\n",
      "Vl1 = 182.52 #value used in the book for calculations\n",
      "#(b)\n",
      "Vi = V*i\n",
      "sig=(180*(Vl1/Vi)**2)/n\n",
      "#(c)\n",
      "V = Vl1/math.sqrt(n*w1/180.0)\n",
      "\n",
      "#Result\n",
      "print(\"(a) Vl = %.2f V\\n(b) Pulse-width = %.2f\u00b0\\n(c) V = %.2f V\"%(Vl,sig,V))"
     ],
     "language": "python",
     "metadata": {},
     "outputs": [
      {
       "output_type": "stream",
       "stream": "stdout",
       "text": [
        "(a) Vl = 182.57 V\n",
        "(b) Pulse-width = 24.78\u00b0\n",
        "(c) V = 190.64 V\n"
       ]
      }
     ],
     "prompt_number": 186
    },
    {
     "cell_type": "heading",
     "level": 2,
     "metadata": {},
     "source": [
      "example 4.15, Page No.234"
     ]
    },
    {
     "cell_type": "code",
     "collapsed": false,
     "input": [
      "# Single phase full bridge inverter\n",
      "\n",
      "import math\n",
      "#variable declaration\n",
      "V = 200.0              #input voltage\n",
      "w = 120.0              # width of signal\n",
      "\n",
      "#Calculations\n",
      "Vl = V*math.sqrt(w/180)\n",
      "\n",
      "#Result\n",
      "print(\"Vl = %.1f V\"%Vl)"
     ],
     "language": "python",
     "metadata": {},
     "outputs": [
      {
       "output_type": "stream",
       "stream": "stdout",
       "text": [
        "Vl = 163.3 V\n"
       ]
      }
     ],
     "prompt_number": 190
    },
    {
     "cell_type": "heading",
     "level": 2,
     "metadata": {},
     "source": [
      "example 4.16, Page No. 235"
     ]
    },
    {
     "cell_type": "code",
     "collapsed": false,
     "input": [
      "# Inverter controlled by sinusoidal pulse-width modulation\n",
      "\n",
      "import math\n",
      "# variable declaration\n",
      "V = 150.0                # input DC voltage\n",
      "w1 = 20.0                # reference signal is more than control signal from 20\u00b0 to 40\u00b0\n",
      "w2 = 60.0                # reference signal is more than control signal from 60\u00b0 to 120\u00b0\n",
      "w3 = 20.0                # reference signal is more than control signal from 140\u00b0 to 160\u00b0\n",
      "\n",
      "#Calculations\n",
      "Vl = V*math.sqrt((w1/180)+(w2/180)+(w3/180))\n",
      "\n",
      "#Result\n",
      "print(\"Vl = %.1f V\"%Vl)"
     ],
     "language": "python",
     "metadata": {},
     "outputs": [
      {
       "output_type": "stream",
       "stream": "stdout",
       "text": [
        "Vl = 111.8 V\n"
       ]
      }
     ],
     "prompt_number": 192
    }
   ],
   "metadata": {}
  }
 ]
}