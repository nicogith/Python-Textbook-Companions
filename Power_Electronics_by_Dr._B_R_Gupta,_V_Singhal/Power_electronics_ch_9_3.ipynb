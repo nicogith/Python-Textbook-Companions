{
 "metadata": {
  "name": ""
 },
 "nbformat": 3,
 "nbformat_minor": 0,
 "worksheets": [
  {
   "cells": [
    {
     "cell_type": "heading",
     "level": 1,
     "metadata": {},
     "source": [
      "Chapter 9: DC and AC Motor Drives"
     ]
    },
    {
     "cell_type": "heading",
     "level": 2,
     "metadata": {},
     "source": [
      "example 9.1, Page No. 377"
     ]
    },
    {
     "cell_type": "code",
     "collapsed": false,
     "input": [
      "# Field current, firing angle and power factor\n",
      "\n",
      "import math\n",
      "# Variable delcaration\n",
      "V= 230.0                # input supply voltage\n",
      "f = 50.0                # supply frequency\n",
      "alfa_f = 0              # firing angle for semi-converter for field\n",
      "Rf = 200.0              # field resistance\n",
      "Ra = 0.3                # Armature resistance\n",
      "T = 50.0                # torque\n",
      "r = 900.0               # rpm\n",
      "vc = 0.8                # voltage constant\n",
      "tc = 0.8                # torque constant\n",
      "\n",
      "#Calculations\n",
      "#(a)\n",
      "sqrt_2 = math.floor(math.sqrt(2)*1000)/1000\n",
      "Vm = V*sqrt_2\n",
      "Vf = (2*Vm/math.pi)*math.cos(alfa_f)\n",
      "If = Vf/Rf\n",
      "If = math.floor(If*10**4)/10**4\n",
      "#(b)\n",
      "Ia = T/(tc*If)\n",
      "Ia = math.ceil(Ia*1000)/1000\n",
      "w = r*2*math.pi/60\n",
      "w = math.ceil(w*1000)/1000\n",
      "back_emf =vc*w*If\n",
      "back_emf = math.floor(back_emf*100)/100\n",
      "Va = back_emf+Ia*Ra\n",
      "Va = math.floor(Va*1000)/1000\n",
      "alfa = math.acos((Va*math.pi/(Vm))-1)\n",
      "alfa_a = alfa*180/math.pi\n",
      "alfa_a = math.floor(alfa_a*1000)/1000\n",
      "#(c)\n",
      "P = Va*Ia\n",
      "Ii = Ia*math.sqrt((180-alfa_a)/180)\n",
      "Ii = math.floor(Ii*100)/100\n",
      "VA = V*Ii\n",
      "pf = P/VA\n",
      "\n",
      "\n",
      "#Result\n",
      "print(\"(a) Field current = %.4f A\\n(b) Alfa_a = %.3f\u00b0\\n(c) Input power factor = %.3f lagging\"%(If,alfa_a,pf))"
     ],
     "language": "python",
     "metadata": {},
     "outputs": [
      {
       "output_type": "stream",
       "stream": "stdout",
       "text": [
        "(a) Field current = 1.0352 A\n",
        "(b) Alfa_a = 94.076\u00b0\n",
        "(c) Input power factor = 0.605 lagging\n"
       ]
      }
     ],
     "prompt_number": 45
    },
    {
     "cell_type": "heading",
     "level": 2,
     "metadata": {},
     "source": [
      "example 9.2, Page No.378"
     ]
    },
    {
     "cell_type": "code",
     "collapsed": false,
     "input": [
      "# Torque developed and motor speed\n",
      "\n",
      "import math\n",
      "# Variable delcaration\n",
      "V= 230.0                # input supply voltage\n",
      "f = 50.0                # supply frequency\n",
      "alfa_f = 0              # firing angle of converter in the field\n",
      "Rf = 200.0              # field resistance\n",
      "Ra = 0.25               # Armature resistance\n",
      "Ia = 50                 # Armature current\n",
      "vc = 1.1                # voltage constant\n",
      "tc = 1.1                # torque constant\n",
      "alfa_a = 45             # firing angle of armature ciruit\n",
      "\n",
      "#Calculations\n",
      "alfa_a = alfa_a*math.pi/180\n",
      "sqrt_2 = math.floor(math.sqrt(2)*1000)/1000\n",
      "Vm = V*sqrt_2\n",
      "Vf = 2*Vm*math.cos(alfa_f)/math.pi\n",
      "Va = 2*Vm*math.cos(alfa_a)/math.pi\n",
      "If = Vf/Rf\n",
      "If = math.floor(If*10**4)/10**4\n",
      "T = tc*Ia*If\n",
      "bemf = Va- Ia*Ra - 2\n",
      "w = bemf/(vc*If)\n",
      "N = w*60/(2*math.pi)\n",
      "\n",
      "#Result\n",
      "print(\"Torque = %.3f N-m\\n\\nMotor Speed = %.1f rpm\"%(T,N))"
     ],
     "language": "python",
     "metadata": {},
     "outputs": [
      {
       "output_type": "stream",
       "stream": "stdout",
       "text": [
        "Torque = 56.936 N-m\n",
        "\n",
        "Motor Speed = 1106.1 rpm\n"
       ]
      }
     ],
     "prompt_number": 52
    },
    {
     "cell_type": "heading",
     "level": 2,
     "metadata": {},
     "source": [
      "example 9.3, Page No. 378"
     ]
    },
    {
     "cell_type": "code",
     "collapsed": false,
     "input": [
      "# firing angle of the converter in the armature circuit\n",
      "\n",
      "import math\n",
      "V = 400                  # input 3-phase supply\n",
      "alfa_f = 0               # firing angle of field converter\n",
      "Ra = 0.3                 # Armature resistance\n",
      "Rf = 250                 # field resistance\n",
      "Ia = 50                  # Armature current\n",
      "vc = 1.3                 # motor voltage constant\n",
      "N = 1200                 # speed in rpm\n",
      "\n",
      "#Calculations\n",
      "Vf = 3*math.sqrt(3)*V*math.sqrt(2)*math.cos(alfa_f)/(math.sqrt(3)*math.pi)\n",
      "If = Vf/Rf\n",
      "w = N*2*math.pi/60\n",
      "Eb = vc*If*w\n",
      "Va = Eb+Ia*Ra\n",
      "alfa_a = math.acos(Va*math.sqrt(3)*math.pi/(3*V*math.sqrt(2)*math.sqrt(3)))\n",
      "alfa_a = alfa_a*180/math.pi\n",
      "alfa_a = math.ceil(alfa_a*100)/100\n",
      "#Result\n",
      "print(\"Alfa_a = %.2f\u00b0\"%alfa_a)"
     ],
     "language": "python",
     "metadata": {},
     "outputs": [
      {
       "output_type": "stream",
       "stream": "stdout",
       "text": [
        "Alfa_a = 47.07\u00b0\n"
       ]
      }
     ],
     "prompt_number": 55
    },
    {
     "cell_type": "heading",
     "level": 2,
     "metadata": {},
     "source": [
      "example 9.4, Page No. 378"
     ]
    },
    {
     "cell_type": "code",
     "collapsed": false,
     "input": [
      "# input power, speed and torque\n",
      "\n",
      "import math\n",
      "# Variable declaration\n",
      "V = 500                # input supply voltage\n",
      "Ra = 0.1               # Armature resistance\n",
      "Ia = 200.0             # Armature current\n",
      "vc = 1.4               # Volatage constant\n",
      "tc = 1.4               # Torque constant\n",
      "If = 2                 # Field current\n",
      "d = 0.5                # chopper duty cycle\n",
      "\n",
      "# Calculations\n",
      "#(a)\n",
      "Pi = d*V*Ia\n",
      "#(b)\n",
      "Va = V*d\n",
      "Eb = Va - Ia*Ra\n",
      "w = Eb/(vc*If)\n",
      "w = math.floor(w*100)/100\n",
      "N = w*60/(2*math.pi)\n",
      "#(c)\n",
      "T = tc*Ia*If\n",
      "\n",
      "#Result\n",
      "print(\"(a) Power input = %.0f kW \\n(b) Speed = %.2f rpm\\n(c) Torque = %.0f N-m\"%(Pi/1000,N,T))"
     ],
     "language": "python",
     "metadata": {},
     "outputs": [
      {
       "output_type": "stream",
       "stream": "stdout",
       "text": [
        "(a) Power input = 50 kW \n",
        "(b) Speed = 784.38 rpm\n",
        "(c) Torque = 560 N-m\n"
       ]
      }
     ],
     "prompt_number": 71
    },
    {
     "cell_type": "heading",
     "level": 2,
     "metadata": {},
     "source": [
      "example 9.5, Page No. 379"
     ]
    },
    {
     "cell_type": "code",
     "collapsed": false,
     "input": [
      "# Braking DC motor using one quadrant chopper\n",
      "\n",
      "import math\n",
      "#Variable declaration\n",
      "Ra = 0.1                # Armature resistance\n",
      "Rb = 7.5                # Breaking resistance\n",
      "vc = 1.4                # voltage constant\n",
      "Ia = 120                # armature current\n",
      "If = 1.6                # field current\n",
      "d = 0.35                # chopper duty cycle\n",
      "\n",
      "#calculations\n",
      "#(a)\n",
      "Vavg = Rb*Ia*(1-d)\n",
      "#(b)\n",
      "Pb = (Ia**2)*Rb*((1-d)**2)\n",
      "#(c)\n",
      "Eb = Vavg+Ra*Ia\n",
      "w = Eb/(vc*If)\n",
      "w = math.ceil(w*100)/100\n",
      "N = w*60/(2*math.pi)\n",
      "\n",
      "#Result\n",
      "print(\"(a) Average voltage across chopper = %.0f V\\n(b) Pb = %.0f W\\n(c) Speed = %.4f rpm \"%(Vavg,Pb,N))\n",
      "#Answer for Pb and Speed is wrong in the book"
     ],
     "language": "python",
     "metadata": {},
     "outputs": [
      {
       "output_type": "stream",
       "stream": "stdout",
       "text": [
        "(a) Average voltage across chopper = 585 V\n",
        "(b) Pb = 45630 W\n",
        "(c) Speed = 2545.0785 rpm \n"
       ]
      }
     ],
     "prompt_number": 87
    },
    {
     "cell_type": "heading",
     "level": 2,
     "metadata": {},
     "source": [
      "example 9.6, Page No. 379"
     ]
    },
    {
     "cell_type": "code",
     "collapsed": false,
     "input": [
      "# Speed -Torque characteristics\n",
      "\n",
      "import math\n",
      "#variable declaration\n",
      "V = 220.0                # per phase input voltage\n",
      "f = 50                   # frequency\n",
      "L = 0.012                # motor inductance\n",
      "R = 0.72                 # Resistance\n",
      "a = 2                    # Armature constant\n",
      "alfa = 90                # firing angle\n",
      "\n",
      "#Calculations\n",
      "sqrt_2=math.floor(math.sqrt(2)*1000)/1000\n",
      "sqrt_3=math.floor(math.sqrt(3)*1000)/1000\n",
      "Va = 3*sqrt_3*V*sqrt_2*(1+math.cos(alfa*math.pi/180))/(2*math.pi)\n",
      "Va = math.floor(Va*100)/100\n",
      "Ia1 = 5                  # Armature current for case 1\n",
      "T1 = Ia1*a\n",
      "Eb1 =Va-Ia1*R\n",
      "Speed1 = Eb1*60/(a*2*math.pi) \n",
      "Speed1 = math.floor(Speed1*100)/100\n",
      "\n",
      "Ia2 = 10                  # Armature current for case 2\n",
      "T2 = Ia2*a\n",
      "Eb2 =Va-Ia2*R\n",
      "Speed2 = Eb2*60/(a*2*math.pi) \n",
      "Speed2 = math.floor(Speed2*100)/100\n",
      "\n",
      "Ia3 = 20                  # Armature current for case 3\n",
      "T3 = Ia3*a\n",
      "Eb3 =Va-Ia3*R\n",
      "Speed3 = Eb3*60/(a*2*math.pi) \n",
      "Speed3 = math.floor(Speed3*100)/100\n",
      "\n",
      "Ia4 = 30                  # Armature current for case 4\n",
      "T4 = Ia4*a\n",
      "Eb4 =Va-Ia4*R\n",
      "Speed4 = Eb4*60/(a*2*math.pi) \n",
      "Speed4 = math.floor(Speed4*100)/100\n",
      "\n",
      "#Result\n",
      "print(\"Armature Voltage =%f V\"%Va)\n",
      "print(\"For Ia =0%d A, Torque = %d N-m and Speed = %.2f rpm\"%(Ia1,T1,Speed1))\n",
      "print(\"For Ia =%d A, Torque = %d N-m and Speed = %.2f rpm\"%(Ia2,T2,Speed2))\n",
      "print(\"For Ia =%d A, Torque = %d N-m and Speed = %.2f rpm\"%(Ia3,T3,Speed3))\n",
      "print(\"For Ia =%d A, Torque = %d N-m and Speed = %.2f rpm\"%(Ia4,T4,Speed4))\n",
      "#################-----PLOT-----#####################\n",
      "%matplotlib inline\n",
      "import matplotlib.pyplot as plt\n",
      "t = [T1, T2, T3, T4]\n",
      "S = [Speed1, Speed2, Speed3, Speed4 ]\n",
      "plt.plot(t,S)\n",
      "plt.plot(t,S,'ro')\n",
      "plt.axis([0,70,0,1500])\n",
      "plt.xlabel('Torque(N-m)')\n",
      "plt.ylabel('Speed(RPM)')\n",
      "plt.title('Speed torque characteristics')\n",
      "plt.show()"
     ],
     "language": "python",
     "metadata": {},
     "outputs": [
      {
       "output_type": "stream",
       "stream": "stdout",
       "text": [
        "Armature Voltage =257.250000 V\n",
        "For Ia =05 A, Torque = 10 N-m and Speed = 1211.08 rpm\n",
        "For Ia =10 A, Torque = 20 N-m and Speed = 1193.90 rpm\n",
        "For Ia =20 A, Torque = 40 N-m and Speed = 1159.52 rpm\n",
        "For Ia =30 A, Torque = 60 N-m and Speed = 1125.14 rpm\n"
       ]
      },
      {
       "metadata": {},
       "output_type": "display_data",
       "png": "[encoded data removed]",
       "text": [
        "<matplotlib.figure.Figure at 0x8890e80>"
       ]
      }
     ],
     "prompt_number": 1
    },
    {
     "cell_type": "heading",
     "level": 2,
     "metadata": {},
     "source": [
      "example 9.7, Page No. 380"
     ]
    },
    {
     "cell_type": "code",
     "collapsed": false,
     "input": [
      "# Firing angle and no load speed\n",
      "\n",
      "import math\n",
      "#Variable declaration\n",
      "V = 400                   # input 3-phase voltage\n",
      "f = 50                    # frequency\n",
      "Ia = 50                   # motor armature current\n",
      "Ra = 0.1                  # armature resistance\n",
      "bec = 0.3                 # back emf constant\n",
      "alfa = 30.0               # firing angle\n",
      "Inl = 5                   # no load current\n",
      "n = 1600                  # speed in rpm \n",
      "\n",
      "#Calculations\n",
      "#(a)\n",
      "sqrt_2=math.floor(math.sqrt(2)*1000)/1000\n",
      "sqrt_3=math.floor(math.sqrt(3)*100)/100\n",
      "Va = 3*sqrt_3*V*sqrt_2*(1+math.cos(alfa*math.pi/180))/(sqrt_3*2*math.pi)\n",
      "Bemf = Va-Inl*Ra\n",
      "Speed = Bemf/bec\n",
      "#(b)\n",
      "Bemf2 = n*bec\n",
      "Vi = Bemf2+(Ra*Ia)\n",
      "alfa2= math.acos((Vi/(3*sqrt_3*V*sqrt_2/(sqrt_3*2*math.pi)))-1)\n",
      "alfa2 = alfa2*180/math.pi\n",
      "\n",
      "#Result\n",
      "print(\"(a)\\nAverage output voltage of rectifier = %.1f V\\nBack emf = %.1f V\\nSpeed = %d rpm\"%(math.floor(Va*10)/10,Bemf,Speed))\n",
      "print(\"\\n(b)\\nBack emf = %.0f V\\nInput voltage to motor = %.0f V\\nfiring angle = %.2f\u00b0\"%(Bemf2,Vi,alfa2))"
     ],
     "language": "python",
     "metadata": {},
     "outputs": [
      {
       "output_type": "stream",
       "stream": "stdout",
       "text": [
        "(a)\n",
        "Average output voltage of rectifier = 503.9 V\n",
        "Back emf = 503.4 V\n",
        "Speed = 1678 rpm\n",
        "\n",
        "(b)\n",
        "Back emf = 480 V\n",
        "Input voltage to motor = 485 V\n",
        "firing angle = 37.26\u00b0\n"
       ]
      }
     ],
     "prompt_number": 147
    },
    {
     "cell_type": "heading",
     "level": 2,
     "metadata": {},
     "source": [
      "example 9.8, Page No. 381"
     ]
    },
    {
     "cell_type": "code",
     "collapsed": false,
     "input": [
      "#firing angle of converter and power fed back to source(refering ex.9.2)\n",
      "\n",
      "import math\n",
      "#Variable declaration\n",
      "V= 230.0                # input supply voltage\n",
      "f = 50.0                # supply frequency\n",
      "alfa_f = 0              # firing angle of converter in the field\n",
      "Rf = 200.0              # field resistance\n",
      "Ra = 0.25               # Armature resistance\n",
      "Ia = 50                 # Armature current\n",
      "vc = 1.1                # voltage constant\n",
      "tc = 1.1                # torque constant\n",
      "alfa_a = 45             # firing angle of armature ciruit\n",
      "\n",
      "#Calculations\n",
      "alfa_a = alfa_a*math.pi/180\n",
      "sqrt_2 = math.floor(math.sqrt(2)*1000)/1000\n",
      "Vm = V*sqrt_2\n",
      "Vf = 2*Vm*math.cos(alfa_f)/math.pi\n",
      "Va1 = 2*Vm*math.cos(alfa_a)/math.pi\n",
      "bemf = Va1- Ia*Ra - 2\n",
      "Eg = -bemf\n",
      "Va = Eg +  Ia*Ra +2\n",
      "alfa = math.acos(Va*math.pi/(2*sqrt_2*V))\n",
      "alfa = alfa*180/math.pi\n",
      "P = -Va*Ia\n",
      "\n",
      "#Result\n",
      "print(\"When field current is reversed, the direction of back emf is reversed. The motor now acts as generator.\\n\\nEg = %f\"%Eg)\n",
      "print(\"\\nAlfa = %.2f\u00b0\\n\\nPower fed back to source = %d W\"%(alfa,P))"
     ],
     "language": "python",
     "metadata": {},
     "outputs": [
      {
       "output_type": "stream",
       "stream": "stdout",
       "text": [
        "When field current is reversed, the direction of back emf is reversed. The motor now acts as generator.\n",
        "\n",
        "Eg = -131.900436\n",
        "\n",
        "Alfa = 124.54\u00b0\n",
        "\n",
        "Power fed back to source = 5870 W\n"
       ]
      }
     ],
     "prompt_number": 152
    },
    {
     "cell_type": "heading",
     "level": 2,
     "metadata": {},
     "source": [
      "example 9.9, Page No.381"
     ]
    },
    {
     "cell_type": "code",
     "collapsed": false,
     "input": [
      "# Half controlled single phase bridge converter\n",
      "\n",
      "import math\n",
      "#variable declaration\n",
      "V = 240                  # input DC voltage\n",
      "alfa = 100               # firing angle    \n",
      "Ra = 6                   # armature Resistance\n",
      "Ia = 1.8                 # armature current\n",
      "\n",
      "#Calculations\n",
      "alfa = alfa*math.pi/180\n",
      "sqrt_2=math.floor(math.sqrt(2)*1000)/1000\n",
      "Vdc = sqrt_2*V*(1+math.cos(alfa))/math.pi\n",
      "Vdc = math.floor(Vdc*100)/100\n",
      "Bemf = Vdc-Ra*Ia\n",
      "\n",
      "#Result\n",
      "print(\"Back emf = %.2f V\"%Bemf)"
     ],
     "language": "python",
     "metadata": {},
     "outputs": [
      {
       "output_type": "stream",
       "stream": "stdout",
       "text": [
        "Back emf = 78.46 V\n"
       ]
      }
     ],
     "prompt_number": 96
    },
    {
     "cell_type": "heading",
     "level": 2,
     "metadata": {},
     "source": [
      "example 9.10, Page No.381"
     ]
    },
    {
     "cell_type": "code",
     "collapsed": false,
     "input": [
      "# Speed and Torue\n",
      "\n",
      "import math\n",
      "#Variable declaration\n",
      "V = 230.0                # input voltage\n",
      "N = 1500.0               # rpm \n",
      "Ra = 1.0                 # armature resistance\n",
      "Ia = 10                  # Armature current\n",
      "T1 = 5                   # Torque for case-1\n",
      "alfa1 = 30               # Firing angle for case-1\n",
      "N2 = 950.0               # rpm in case-2\n",
      "alfa2 = 45               # Firing angle for case-2\n",
      "\n",
      "#Calculations\n",
      "w = N*2*math.pi/60\n",
      "k = (V-Ia*Ra)/w\n",
      "k = math.floor(k*10)/10\n",
      "#(a)\n",
      "Ia1 = T1/k\n",
      "V1 = 2*V*math.sqrt(2)*math.cos(alfa1*math.pi/180)/math.pi\n",
      "V1 = math.floor(V1*10)/10\n",
      "w1 = (V1-Ia1*Ra)/k\n",
      "w1 = w1*60/(2*math.pi)\n",
      "#(b)\n",
      "V2 = 2*V*math.sqrt(2)*math.cos(alfa2*math.pi/180)/math.pi\n",
      "V2 = math.ceil(V2*100)/100\n",
      "Ia2 = V2-(k*N2*2*math.pi/60)\n",
      "#Ia2 = math.floor(Ia2*100)/100\n",
      "T2 = k*Ia2\n",
      "\n",
      "#Result\n",
      "print(\"k - Torque constant = %.1f N-m/A\"%k)\n",
      "print(\"\\n(a) Speed = %.1f rpm\\n\\n(b) Torque = %f N-m\"%(w1,T2))\n",
      "#Answer for torque is wrong in the book"
     ],
     "language": "python",
     "metadata": {},
     "outputs": [
      {
       "output_type": "stream",
       "stream": "stdout",
       "text": [
        "k - Torque constant = 1.4 N-m/A\n",
        "\n",
        "(a) Speed = 1198.6 rpm\n",
        "\n",
        "(b) Torque = 10.013816 N-m\n"
       ]
      }
     ],
     "prompt_number": 177
    },
    {
     "cell_type": "heading",
     "level": 2,
     "metadata": {},
     "source": [
      "example 9.11, Page No.382"
     ]
    },
    {
     "cell_type": "code",
     "collapsed": false,
     "input": [
      "# rms source, rms and average thyristor current and power  factor\n",
      "\n",
      "import math\n",
      "#Variable declaration\n",
      "V = 500.0                    # Morot max. voltage rating\n",
      "N = 1500.0                   # motor max. speed in rpm\n",
      "Ia = 100.0                   # Motor max. current\n",
      "Vi = 350.0                   # 3-phase input supply voltage\n",
      "Ra = 1.1                     # armature resistance\n",
      "alfa = 45                    # firing angle\n",
      "N1 = 1200.0                  # actual speed               \n",
      "\n",
      "#Calculations\n",
      "w = N*2*math.pi/60\n",
      "w1 = N1*2*math.pi/60\n",
      "k = (V-Ia*Ra)/w\n",
      "k = math.floor(k*10**4)/10**4\n",
      "sqrt_2=math.floor(math.sqrt(2)*1000)/1000\n",
      "sqrt_3=math.floor(math.sqrt(3)*100)/100\n",
      "Va = 3*sqrt_3*Vi*sqrt_2*(1+math.cos(alfa*math.pi/180))/(sqrt_3*2*3.142)#--math.pi = 3.142 to match the ans\n",
      "Va = math.ceil(Va*100)/100\n",
      "Ia = (Va -k*w1)/Ra\n",
      "Ia = math.ceil(Ia*100)/100\n",
      "Irms_i = Ia*math.sqrt(120.0/180.0)\n",
      "Iavg = Ia/3\n",
      "Irms = Ia/math.sqrt(3)\n",
      "pf = (Ia*Va)/(sqrt_3*Vi*Irms_i)\n",
      "\n",
      "#Result\n",
      "print(\"Torque constant, k = %.2f V-s/rad\\n\\n(a)\\nConverter output voltage = %.2f V\\nIa = %.2f A \"%(k,Va,Ia))\n",
      "print(\"\\n(b)\\nRMS input current = %.2f A\\nAverage thyristor current = %.2f A\\nRMS thyristor current = %.2f A\"%(Irms_i,Iavg,Irms))\n",
      "print(\"Input power factor = %.3f lagging\"%(math.floor(pf*1000)/1000))"
     ],
     "language": "python",
     "metadata": {},
     "outputs": [
      {
       "output_type": "stream",
       "stream": "stdout",
       "text": [
        "Torque constant, k = 2.48 V-s/rad\n",
        "\n",
        "(a)\n",
        "Converter output voltage = 403.34 V\n",
        "Ia = 83.04 A \n",
        "\n",
        "(b)\n",
        "RMS input current = 67.80 A\n",
        "Average thyristor current = 27.68 A\n",
        "RMS thyristor current = 47.94 A\n",
        "Input power factor = 0.815 lagging\n"
       ]
      }
     ],
     "prompt_number": 19
    },
    {
     "cell_type": "heading",
     "level": 2,
     "metadata": {},
     "source": [
      "example 9.12, Page No.383"
     ]
    },
    {
     "cell_type": "code",
     "collapsed": false,
     "input": [
      "# time taken by motor to reach 1000rpm speed\n",
      "\n",
      "import math\n",
      "#Variable declaration\n",
      "T = 40                # Load torque\n",
      "N = 500.0             # motor speed \n",
      "i = 0.01              # inertia of the drive\n",
      "T1 = 100.0            # increased value of torque\n",
      "N1 = 1000.0           # speed value\n",
      "\n",
      "#Calculations\n",
      "w = N*2*math.pi/60\n",
      "w1 = N1*2*math.pi/60\n",
      "A = -w/((T1-T)/i)\n",
      "t = (w1/((T1-T)/i))+A\n",
      "t = math.floor(t*10**6)/10**6\n",
      "\n",
      "#Result\n",
      "print(\"Time taken by motor to reach 1000 rpm speed = %f seconds\"%t)"
     ],
     "language": "python",
     "metadata": {},
     "outputs": [
      {
       "output_type": "stream",
       "stream": "stdout",
       "text": [
        "Time taken by motor to reach 1000 rpm speed = 0.008726 seconds\n"
       ]
      }
     ],
     "prompt_number": 24
    },
    {
     "cell_type": "heading",
     "level": 2,
     "metadata": {},
     "source": [
      "example 9.13, Page No.384"
     ]
    },
    {
     "cell_type": "code",
     "collapsed": false,
     "input": [
      "# motor parameters:motor driven by DC chopper\n",
      "\n",
      "import math\n",
      "#Variavble declaration\n",
      "f = 400.0              # chopper operating frequency\n",
      "V = 200.0              # input voltage\n",
      "T = 30.0               # load torque\n",
      "N = 1000.0             # speed in rpm\n",
      "Ra = 0.2               # motor resistance\n",
      "L = 2*10**-3           # motor inductance\n",
      "emf = 1.5              # emf\n",
      "k = 1.5                # torque constant\n",
      "\n",
      "#calculations\n",
      "\n",
      "w = N*math.pi*2/60\n",
      "Ia = T/k\n",
      "Be = emf*w\n",
      "Be = math.ceil(Be*100)/100\n",
      "alfa = (Be+Ia*Ra)/V\n",
      "\n",
      "t = 1/f\n",
      "Ton = alfa*t\n",
      "Toff = t-Ton\n",
      "x = t*Ra/L\n",
      "b1 = (1-(math.e**(-alfa*x)))\n",
      "b1 = math.ceil(b1*10**4)/10**4\n",
      "b2 = (1-(math.e**(-x)))\n",
      "b2 = math.ceil(b2*10**4)/10**4\n",
      "Imax = ((V/Ra)*(b1/b2))-(Be/Ra)\n",
      "Imin= ((V/Ra)*(((math.e**(alfa*x))-1)/(((math.e**(x))-1))))-(Be/Ra)\n",
      "x1 = (V-Be)/Ra\n",
      "x2 = Ra/L\n",
      "\n",
      "#Result\n",
      "print(\"(a)\\nImax = %.3f A\\nImin = %d A\\n\\n(b) Excursion of armature current = %.3f A\"%(Imax,Imin,Imax))\n",
      "print(\"\\n(c)\\nVariation of cuurent during on period of chopper is \\ni = %.1f*(1-e^(-%d*t'))\"%(x1,x2))\n",
      "print(\"\\nVariation of cuurent during off period of chopper is \\ni = %.3f*e^(-%d*t')-%.1f*(1-e^(-%d*t'))\"%(Imax,x2,Be/Ra,x2))"
     ],
     "language": "python",
     "metadata": {},
     "outputs": [
      {
       "output_type": "stream",
       "stream": "stdout",
       "text": [
        "(a)\n",
        "Imax = 39.193 A\n",
        "Imin = 0 A\n",
        "\n",
        "(b) Excursion of armature current = 39.193 A\n",
        "\n",
        "(c)\n",
        "Variation of cuurent during on period of chopper is \n",
        "i = 214.6*(1-e^(-100*t'))\n",
        "\n",
        "Variation of cuurent during off period of chopper is \n",
        "i = 39.193*e^(-100*t')-785.4*(1-e^(-100*t'))\n"
       ]
      }
     ],
     "prompt_number": 29
    },
    {
     "cell_type": "heading",
     "level": 2,
     "metadata": {},
     "source": [
      "example 9.14, Page No.391"
     ]
    },
    {
     "cell_type": "code",
     "collapsed": false,
     "input": [
      "# Average motor current and speed\n",
      "\n",
      "import math\n",
      "# Variable declaration\n",
      "f = 50.0               # input frequency\n",
      "V = 230                # input voltage\n",
      "Ra = 1.5               # armature resistance\n",
      "Rf = 1.5               # field resistance\n",
      "K = 0.25               # torque constant\n",
      "TL = 25                 # load torque\n",
      "emf = 0.25             # emf constant\n",
      "\n",
      "#Calculations\n",
      "Vo = 2*math.sqrt(2)*V/math.pi\n",
      "Vo = math.floor(Vo)\n",
      "Ia = math.sqrt(T/K)\n",
      "Ia = math.floor(Ia)\n",
      "w = (Vo-Ia*Ra)/(emf*Ia)\n",
      "N =w*60/(2*math.pi)\n",
      "N = math.floor(N*100)/100\n",
      "\n",
      "#Result\n",
      "print(\"Ia = %d A\\nN = %.2f RPM\"%(Ia,N))\n"
     ],
     "language": "python",
     "metadata": {},
     "outputs": [
      {
       "output_type": "stream",
       "stream": "stdout",
       "text": [
        "Ia = 10 A\n",
        "N = 733.38 RPM\n"
       ]
      }
     ],
     "prompt_number": 36
    },
    {
     "cell_type": "heading",
     "level": 2,
     "metadata": {},
     "source": [
      "example 9.15, Page No.391"
     ]
    },
    {
     "cell_type": "code",
     "collapsed": false,
     "input": [
      "# Armature current and firing angle of semi-converter\n",
      "\n",
      "import math\n",
      "#Variable declaration\n",
      "Vo = 675.0               # transformer secondary voltage\n",
      "alfa1 = 90.5             # case 1 firing angle\n",
      "N1 = 350.0               # case 1 motor speed in rpm\n",
      "Ia1 = 30.0               # case 1 armature current\n",
      "N2 = 500.0               # expected speed\n",
      "Ra = 0.22                # armature resistance\n",
      "Rf = 0.22                # field resistance\n",
      "\n",
      "#Calculations\n",
      "Ia2 = Ia1*N2/N1\n",
      "Ia2 = math.ceil(Ia2*100)/100\n",
      "Va1 = Vo*math.sqrt(2)*(1+math.cos(alfa1*math.pi/180))/math.pi\n",
      "Eb1 = Va1-(Ia1*(Ra+Rf))\n",
      "Va2 = (Eb1/((Ia1*N1)/(Ia2*N2)))+Ia2*(Ra+Rf)\n",
      "alfa2 = math.acos(((Va2*math.pi)/(math.sqrt(2)*Vo))-1)\n",
      "alfa2 = alfa2*180/math.pi\n",
      "\n",
      "#Result\n",
      "print(\"Armature current = %.2f A\\n\\nFiring Angle = %.2f\u00b0\"%(Ia2,alfa2))"
     ],
     "language": "python",
     "metadata": {},
     "outputs": [
      {
       "output_type": "stream",
       "stream": "stdout",
       "text": [
        "Armature current = 42.86 A\n",
        "\n",
        "Firing Angle = 4.77\u00b0\n"
       ]
      }
     ],
     "prompt_number": 40
    },
    {
     "cell_type": "heading",
     "level": 2,
     "metadata": {},
     "source": [
      "example 9.16, Page No. 392"
     ]
    },
    {
     "cell_type": "code",
     "collapsed": false,
     "input": [
      "# Torque and armature current\n",
      "\n",
      "import math\n",
      "# Variable declaration\n",
      "P = 15.0                    # motor power rating\n",
      "V = 220.0                   # motor voltage rating\n",
      "N = 1500.0                  # motor max. speed\n",
      "Vi = 230.0                  # input voltage\n",
      "emf = 0.03                  # emf constant\n",
      "K = 0.03                    # Torque constant\n",
      "alfa =45                    # firing angle\n",
      "\n",
      "#Calculations\n",
      "#(a)\n",
      "sqrt_2 = math.floor(math.sqrt(2)*1000)/1000\n",
      "alfa = alfa*math.pi/180\n",
      "Vm = Vi*sqrt_2\n",
      "N = N*2*math.pi/60\n",
      "T = (4*emf*(Vm**2)*(math.cos(alfa)**2))/(((math.pi)**2)*(K*N)**2)\n",
      "Ia = math.sqrt(T/K)\n",
      "Ia = math.floor(Ia*100)/100\n",
      "#(b)\n",
      "Ia2 = Vm*(1+math.cos(alfa))/(math.pi*K*N)\n",
      "Ia2 = math.floor(Ia2*10)/10\n",
      "T2 = K*Ia2**2\n",
      "\n",
      "#Result\n",
      "print(\"(a)\\n Torque = %.2f N-m\\n Armature current = %.2f A\"%(T,Ia))\n",
      "print(\"\\n(b)\\n Armature current = %.1f A\\n Torque = %.4f N-m\"%(Ia2,T2))"
     ],
     "language": "python",
     "metadata": {},
     "outputs": [
      {
       "output_type": "stream",
       "stream": "stdout",
       "text": [
        "(a)\n",
        " Torque = 28.96 N-m\n",
        " Armature current = 31.06 A\n",
        "\n",
        "(b)\n",
        " Armature current = 37.5 A\n",
        " Torque = 42.1875 N-m\n"
       ]
      }
     ],
     "prompt_number": 50
    },
    {
     "cell_type": "heading",
     "level": 2,
     "metadata": {},
     "source": [
      "example 9.17, Page No.392"
     ]
    },
    {
     "cell_type": "code",
     "collapsed": false,
     "input": [
      "\n",
      "# motor current and Torque \n",
      "\n",
      "import math\n",
      "# variable declaration\n",
      "Pr = 15.0                   # motor power rating\n",
      "Vr = 220.0                  # motor voltage rating\n",
      "N = 1000.0                  # motor max. speed\n",
      "R = 0.2                     # total armature and series resistance\n",
      "Vi = 230.0                  # input voltage\n",
      "Ks = 0.03                   # speed constant\n",
      "K = 0.03                    # Torque constant\n",
      "alfa = 30                   # Firing angle\n",
      "\n",
      "#Calculation\n",
      "sqrt_2 = math.floor(math.sqrt(2)*1000)/1000\n",
      "alfa = alfa*math.pi/180\n",
      "Vm = Vi*sqrt_2\n",
      "N = N*2*math.pi/60\n",
      "N = math.ceil(N*100)/100\n",
      "V = Vm*(1+math.cos(alfa))/math.pi\n",
      "V = math.floor(V*100)/100\n",
      "Ia = V/((Ks*N)+R)\n",
      "Ia = math.floor(Ia*1000)/1000\n",
      "T = K*(Ia*Ia)\n",
      "\n",
      "# Result\n",
      "print(\"Armature current = %.3f A\\n\\nTorque = %.2f N-m\"%(Ia,T))"
     ],
     "language": "python",
     "metadata": {},
     "outputs": [
      {
       "output_type": "stream",
       "stream": "stdout",
       "text": [
        "Armature current = 57.807 A\n",
        "\n",
        "Torque = 100.25 N-m\n"
       ]
      }
     ],
     "prompt_number": 69
    },
    {
     "cell_type": "heading",
     "level": 2,
     "metadata": {},
     "source": [
      "example 9.18, Page No. 400"
     ]
    },
    {
     "cell_type": "code",
     "collapsed": false,
     "input": [
      "# load torque, rotor current and stator voltage\n",
      "\n",
      "import math\n",
      "# Variable declaration\n",
      "V = 400.0                  # motor voltage rating\n",
      "p = 4.0                      # no of poles\n",
      "f = 50.0                   # frequency\n",
      "r1 = 0.64                  # Stator resistance \n",
      "x1 = 1.1                   # leakage resistance\n",
      "r2 = 0.08                  # rotor resistance\n",
      "x2 = 0.12                  # leakage resistance\n",
      "T = 40.0                   # Torque at given speed\n",
      "N1 = 1440.0                # Speed value for given torque\n",
      "N2 = 1300.0                # Speed value for which torque is asked to calculate\n",
      "\n",
      "#Calculations\n",
      "#(a)\n",
      "ns = 60*2*f/p\n",
      "Tl = T*(N2/N1)**2\n",
      "Tl = math.floor(Tl*10)/10\n",
      "#(b)\n",
      "s = (ns -N2)/ns\n",
      "r2_dash = r2*(2)**2\n",
      "x2_dash = x2*(2)**2\n",
      "pi = math.floor(math.pi*100)/100\n",
      "I2_dash = math.sqrt((Tl*2*pi*s*(ns/60))/(3*r2_dash)) \n",
      "I2 = 2*I2_dash\n",
      "#(c)\n",
      "I1 = I2_dash\n",
      "V1 = I1*math.sqrt(((r1+r2_dash+r2_dash*((1-s)/s))**2)+(x1+x2_dash)**2)\n",
      "StV = V1*math.sqrt(3)\n",
      "\n",
      "#Result\n",
      "print(\"(a) At %d rpm , Load torque = %.1f N-m\\n(b) Rotor current = %.2f A\\n(c) Stator voltage = %.1f V\"%(N2,Tl,I2,StV))"
     ],
     "language": "python",
     "metadata": {},
     "outputs": [
      {
       "output_type": "stream",
       "stream": "stdout",
       "text": [
        "(a) At 1300 rpm , Load torque = 32.6 N-m\n",
        "(b) Rotor current = 53.32 A\n",
        "(c) Stator voltage = 158.2 V\n"
       ]
      }
     ],
     "prompt_number": 19
    },
    {
     "cell_type": "heading",
     "level": 2,
     "metadata": {},
     "source": [
      "example 2.19, Page No. 400"
     ]
    },
    {
     "cell_type": "code",
     "collapsed": false,
     "input": [
      "# slip for max torque, speed and corresponding max torque\n",
      "\n",
      "import math\n",
      "#Variable declaration\n",
      "V = 400.0                  # motor voltage rating\n",
      "p = 4.0                      # no of poles\n",
      "f = 50.0                   # frequency\n",
      "r1 = 0.64                  # Stator resistance \n",
      "x1 = 1.1                   # leakage resistance\n",
      "r2 = 0.08                  # rotor resistance\n",
      "x2 = 0.12                  # leakage resistance\n",
      "T = 40.0                   # Torque at given speed\n",
      "N1 = 1440.0                # Speed value for given torque\n",
      "N2 = 1300.0                # Speed value for which torque is asked to calculate\n",
      "f1 = 50                    # case 1 frequency\n",
      "f2 = 25                    # case 2 frequency\n",
      "\n",
      "#Calculation\n",
      "#(a)\n",
      "ns = 2*f1/p\n",
      "r2_dash = r2*(2)**2\n",
      "x2_dash = x2*(2)**2\n",
      "s = r2_dash/math.sqrt(r1**2+(x1+x2_dash)**2)\n",
      "s = math.floor(s*10000)/10000\n",
      "V1 = V/math.sqrt(3)\n",
      "V1 = math.ceil(V1*100)/100\n",
      "Tmax = (1.5*V1**2/(2*math.pi*ns))*(1/(r1+math.sqrt(r1**2+(x1+x2_dash)**2)))\n",
      "Tmax = math.floor(Tmax*10)/10\n",
      "n = ns*(1-s)\n",
      "N = n*60\n",
      "#(b)\n",
      "x1_b = x1/2\n",
      "x2_dash_b = x2_dash/2\n",
      "s2 = r2_dash/math.sqrt(r1**2+(x1_b+x2_dash_b)**2)\n",
      "s2 = math.floor(s2*10000)/10000\n",
      "ns2 = 2*f2/p\n",
      "V1_b = V1*0.5\n",
      "Tmax2 = (1.5*V1_b**2/(2*math.pi*ns2))*(1/(r1+math.sqrt(r1**2+(x1_b+x2_dash_b)**2)))\n",
      "n2 = ns2*(1-s2)\n",
      "N2 = n2*60\n",
      "\n",
      "#Result\n",
      "print(\"(a) for f = %d Hz\\n\\nslip = %.4f\\n\\nTmax = %.1f N-m\\n\\nSpeed corresponds to max torque = %.2f rpm\"%(f1,s,Tmax,N))\n",
      "print(\"\\n\\n(b) for f = %d Hz\\n\\nslip = %.4f\\n\\nTmax = %.2f N-m\\n\\nSpeed corresponds to max torque = %.3f rpm\"%(f2,s2,Tmax2,N2))"
     ],
     "language": "python",
     "metadata": {},
     "outputs": [
      {
       "output_type": "stream",
       "stream": "stdout",
       "text": [
        "(a) for f = 50 Hz\n",
        "\n",
        "slip = 0.1877\n",
        "\n",
        "Tmax = 217.2 N-m\n",
        "\n",
        "Speed corresponds to max torque = 1218.45 rpm\n",
        "\n",
        "\n",
        "(b) for f = 25 Hz\n",
        "\n",
        "slip = 0.3147\n",
        "\n",
        "Tmax = 153.72 N-m\n",
        "\n",
        "Speed corresponds to max torque = 513.975 rpm\n"
       ]
      }
     ],
     "prompt_number": 46
    },
    {
     "cell_type": "heading",
     "level": 2,
     "metadata": {},
     "source": [
      "example 9.20, Page No. 401"
     ]
    },
    {
     "cell_type": "code",
     "collapsed": false,
     "input": [
      "# Starting torque\n",
      "\n",
      "import math\n",
      "# Variable declaration\n",
      "V = 400.0                  # motor voltage rating\n",
      "p = 4.0                      # no of poles\n",
      "f = 50.0                   # frequency\n",
      "r1 = 0.64                  # Stator resistance \n",
      "x1 = 1.1                   # leakage resistance\n",
      "r2 = 0.08                  # rotor resistance\n",
      "x2 = 0.12                  # leakage resistance\n",
      "T = 40.0                   # Torque at given speed\n",
      "N1 = 1440.0                # Speed value for given torque\n",
      "N2 = 1300.0                # Speed value for which torque is asked to calculate\n",
      "f1 = 50                    # case 1 frequency\n",
      "f2 = 25                    # case 2 frequency\n",
      "\n",
      "#Calculation\n",
      "#(a)\n",
      "ns = 2*f1/p\n",
      "r2_dash = r2*(2)**2\n",
      "x2_dash = x2*(2)**2\n",
      "#s = r2_dash/math.sqrt(r1**2+(x1+x2_dash)**2)\n",
      "#s = math.floor(s*10000)/10000\n",
      "V1 = V/math.sqrt(3)\n",
      "V1 = math.ceil(V1*100)/100\n",
      "Tstarting = (3*(V1**2)*(r2_dash))/(2*math.pi*ns*((r1+r2_dash)**2+(x1+x2_dash)**2))\n",
      "#(b)\n",
      "x1_b = x1/2\n",
      "x2_dash_b = x2_dash/2\n",
      "#s2 = math.floor(s2*10000)/10000\n",
      "ns2 = 2*f2/p\n",
      "V1_b = V1*0.5\n",
      "Tstarting_b = (3*(V1_b**2)*(r2_dash))/(2*math.pi*ns2*((r1+r2_dash)**2+(x1_b+x2_dash_b)**2))\n",
      "\n",
      "#Result\n",
      "print(\"(a) for %d Hz,\\nT_starting = %.2f N-m\"%(f1,Tstarting))\n",
      "print(\"\\n(b) for %d Hz,\\nT_starting = %.2f N-m\"%(f2,Tstarting_b))"
     ],
     "language": "python",
     "metadata": {},
     "outputs": [
      {
       "output_type": "stream",
       "stream": "stdout",
       "text": [
        "(a) for 50 Hz,\n",
        "T_starting = 95.37 N-m\n",
        "\n",
        "(b) for 25 Hz,\n",
        "T_starting = 105.45 N-m\n"
       ]
      }
     ],
     "prompt_number": 57
    }
   ],
   "metadata": {}
  }
 ]
}