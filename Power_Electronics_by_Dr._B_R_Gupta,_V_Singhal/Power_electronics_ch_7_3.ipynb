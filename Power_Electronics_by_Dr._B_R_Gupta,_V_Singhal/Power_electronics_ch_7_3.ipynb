{
 "metadata": {
  "name": ""
 },
 "nbformat": 3,
 "nbformat_minor": 0,
 "worksheets": [
  {
   "cells": [
    {
     "cell_type": "heading",
     "level": 1,
     "metadata": {},
     "source": [
      "Chapter 7 : Cycloconverters"
     ]
    },
    {
     "cell_type": "heading",
     "level": 2,
     "metadata": {},
     "source": [
      "example 7.1, Page No.319"
     ]
    },
    {
     "cell_type": "code",
     "collapsed": false,
     "input": [
      "# input voltage, SCR ratings and input power factors\n",
      "\n",
      "import math\n",
      "#variable declaration\n",
      "V = 250                # single phase supply voltage \n",
      "I = 50                 # supply current\n",
      "pf = 0.8               # lagging power factor\n",
      "alfa = 0               # ideal SCR\n",
      "\n",
      "#calculations\n",
      "x = math.sqrt(2)\n",
      "x = math.floor(x*1000)/1000\n",
      "Vm = (V*math.pi*x)/(3*math.sin(math.pi/3))\n",
      "Vrms = Vm/math.sqrt(2)\n",
      "Irms = I*math.sqrt(2)/math.sqrt(3)\n",
      "y = math.sqrt(3)\n",
      "y = math.floor(y*1000)/1000\n",
      "piv = y*Vm\n",
      "piv = math.floor(piv*100)/100\n",
      "Ii = math.sqrt((I**2)/3)\n",
      "pipp = V*I*pf/3.0\n",
      "pf_i = pipp/(Vrms*Ii)\n",
      "\n",
      "#Result\n",
      "print(\"Vm = %f V\\nrms current rating of thyristor = %.1f A\\nPIV = %.2fV\\nRMS value of input current = %.1f A\"%(Vm,math.ceil(Irms),piv,Ii))\n",
      "print(\"Power input per phase = %.2f W\\nInput power factor = %.3f lagging.\"%(pipp,pf_i))"
     ],
     "language": "python",
     "metadata": {},
     "outputs": [
      {
       "output_type": "stream",
       "stream": "stdout",
       "text": [
        "Vm = 427.452050 V\n",
        "rms current rating of thyristor = 41.0 A\n",
        "PIV = 740.34V\n",
        "RMS value of input current = 28.9 A\n",
        "Power input per phase = 3333.33 W\n",
        "Input power factor = 0.382 lagging.\n"
       ]
      }
     ],
     "prompt_number": 32
    },
    {
     "cell_type": "heading",
     "level": 2,
     "metadata": {},
     "source": [
      "example 7.2, Page No. 320"
     ]
    },
    {
     "cell_type": "code",
     "collapsed": false,
     "input": [
      "#output voltage(referring ex 7.1)\n",
      "\n",
      "import math\n",
      "#variable declaration\n",
      "V = 250                # single phase supply voltage \n",
      "theta1 = 30            # firing angle 1\n",
      "theta2 = 45            # firing angle 2\n",
      "\n",
      "#calculations\n",
      "#(a)\n",
      "v1 = V*math.cos(theta1*math.pi/180)\n",
      "#(b)\n",
      "v2 = V*math.cos(theta2*math.pi/180)\n",
      "\n",
      "#Result\n",
      "print(\"(a) RMS value of output voltage = %.1f V\"%v1)\n",
      "print(\"(b) RMS value of output voltage = %.2f V\"%v2)"
     ],
     "language": "python",
     "metadata": {},
     "outputs": [
      {
       "output_type": "stream",
       "stream": "stdout",
       "text": [
        "(a) RMS value of output voltage = 216.5 V\n",
        "(b) RMS value of output voltage = 176.78 V\n"
       ]
      }
     ],
     "prompt_number": 35
    },
    {
     "cell_type": "heading",
     "level": 2,
     "metadata": {},
     "source": [
      "example 7.3, Page No.320"
     ]
    },
    {
     "cell_type": "code",
     "collapsed": false,
     "input": [
      "#Output voltage for different firing angle\n",
      "\n",
      "import math\n",
      "#variable declaration\n",
      "Vrms = 230               # input voltage\n",
      "theta1 = 0               # firing angle 1\n",
      "theta2 = 30              # firing angle 2\n",
      "\n",
      "#calculation\n",
      "#(a)\n",
      "v1 = 6*math.sqrt(2)*Vrms*math.sin(math.pi/6)*math.cos(theta1*math.pi/180)/(math.pi*math.sqrt(2))\n",
      "#(b)\n",
      "v2 = 6*math.sqrt(2)*Vrms*math.sin(math.pi/6)*math.cos(theta2*math.pi/180)/(math.pi*math.sqrt(2))\n",
      "\n",
      "\n",
      "#Result\n",
      "print(\"(a) Vo = %.2f V\\n(b) Vo = %.1f V\"%(v1,v2))"
     ],
     "language": "python",
     "metadata": {},
     "outputs": [
      {
       "output_type": "stream",
       "stream": "stdout",
       "text": [
        "(a) Vo = 219.63 V\n",
        "(b) Vo = 190.2 V\n"
       ]
      }
     ],
     "prompt_number": 37
    },
    {
     "cell_type": "heading",
     "level": 2,
     "metadata": {},
     "source": [
      "example 7.4, Page No.320"
     ]
    },
    {
     "cell_type": "code",
     "collapsed": false,
     "input": [
      "# supply voltage\n",
      "\n",
      "import math\n",
      "#variable declaration\n",
      "Vo = 200                   # output voltage\n",
      "\n",
      "#Calculation\n",
      "Vi = Vo*(math.pi/3)/math.sin(math.pi/3)\n",
      "\n",
      "#Result\n",
      "print(\"RMS value of input voltage = %.2f V \"%Vi)"
     ],
     "language": "python",
     "metadata": {},
     "outputs": [
      {
       "output_type": "stream",
       "stream": "stdout",
       "text": [
        "RMS value of input voltage = 241.84 V \n"
       ]
      }
     ],
     "prompt_number": 38
    }
   ],
   "metadata": {}
  }
 ]
}