{
 "metadata": {
  "name": ""
 },
 "nbformat": 3,
 "nbformat_minor": 0,
 "worksheets": [
  {
   "cells": [
    {
     "cell_type": "heading",
     "level": 1,
     "metadata": {},
     "source": [
      "Chapter 07 : Choppers"
     ]
    },
    {
     "cell_type": "heading",
     "level": 2,
     "metadata": {},
     "source": [
      "Example 7.2, Page No 387"
     ]
    },
    {
     "cell_type": "code",
     "collapsed": false,
     "input": [
      "import math\n",
      "#initialisation of variables\n",
      "a=0.4     #duty cycle %a=T_on/T\n",
      "V_s=230.0\n",
      "R=10.0\n",
      "\n",
      "#Calculations\n",
      "V=a*(V_s-2)    \n",
      "V_or=math.sqrt(a*(V_s-2)**2)    \n",
      "P_o=V_or**2/R\n",
      "P_i=V_s*V/R\n",
      "n=P_o*100/P_i    \n",
      "\n",
      "#Results\n",
      "print(\"avg o/p voltage=%.1f V\" %V)\n",
      "print(\"rms value of o/p voltage=%.1f V\" %V_or)\n",
      "print(\"chopper efficiency in percentage=%.2f\" %n)"
     ],
     "language": "python",
     "metadata": {},
     "outputs": [
      {
       "output_type": "stream",
       "stream": "stdout",
       "text": [
        "avg o/p voltage=91.2 V\n",
        "rms value of o/p voltage=144.2 V\n",
        "chopper efficiency in percentage=99.13\n"
       ]
      }
     ],
     "prompt_number": 1
    },
    {
     "cell_type": "heading",
     "level": 2,
     "metadata": {},
     "source": [
      "Example 7.3, Page No 388"
     ]
    },
    {
     "cell_type": "code",
     "collapsed": false,
     "input": [
      "import math\n",
      "#initialisation of variables\n",
      "V_i=220.0\n",
      "V_o=660.0\n",
      "\n",
      "#Calculations\n",
      "a=1-V_i/V_o\n",
      "T_on=100.0     #microsecond\n",
      "T=T_on/a\n",
      "T_off=T-T_on    \n",
      "T_off=T_off/2\n",
      "T_on=T-T_off\n",
      "a=T_on/T\n",
      "V_o=V_i/(1-a)\n",
      "\n",
      "#Results    \n",
      "print(\"pulse width of o/p voltage=%.0f us\" %T_off)\n",
      "print(\"\\nnew o/p voltage=%.0f V\" %V_o)\n"
     ],
     "language": "python",
     "metadata": {},
     "outputs": [
      {
       "output_type": "stream",
       "stream": "stdout",
       "text": [
        "pulse width of o/p voltage=25 us\n",
        "\n",
        "new o/p voltage=1320 V\n"
       ]
      }
     ],
     "prompt_number": 2
    },
    {
     "cell_type": "heading",
     "level": 2,
     "metadata": {},
     "source": [
      "Example 7.4 Page No 288"
     ]
    },
    {
     "cell_type": "code",
     "collapsed": false,
     "input": [
      "import math\n",
      "#initialisation of variables\n",
      "I_1=12.0\n",
      "I_2=16.0\n",
      "\n",
      "#Calculations\n",
      "I_0=(I_1+I_2)/2\n",
      "R=10.0\n",
      "V_0=I_0*R\n",
      "V_s=200.0\n",
      "a=V_0/V_s\n",
      "r=a/(1-a)\n",
      "\n",
      "#Results\n",
      "print(\"time ratio(T_on/T_off)=%.3f\" %r)\n"
     ],
     "language": "python",
     "metadata": {},
     "outputs": [
      {
       "output_type": "stream",
       "stream": "stdout",
       "text": [
        "time ratio(T_on/T_off)=2.333\n"
       ]
      }
     ],
     "prompt_number": 3
    },
    {
     "cell_type": "heading",
     "level": 2,
     "metadata": {},
     "source": [
      "Example 7.5, Page No 390"
     ]
    },
    {
     "cell_type": "code",
     "collapsed": false,
     "input": [
      "import math\n",
      "#initialisation of variables\n",
      "V_o=660.0\n",
      "V_s=220.0\n",
      "\n",
      "#Calculations\n",
      "a=(V_o/V_s)/(1+(V_o/V_s))\n",
      "T_on=120\n",
      "T=T_on/a\n",
      "T_off=T-T_on \n",
      "T_off=3*T_off\n",
      "T_on=T-T_off\n",
      "a=T_on/(T_on+T_off)\n",
      "V_o=V_s*(a/(1-a))   \n",
      "\n",
      "#Results\n",
      "print(\"pulse width o/p voltage=%.0f us\" %T_off)\n",
      "print(\"\\nnew o/p voltage=%.2f V\" %V_o)"
     ],
     "language": "python",
     "metadata": {},
     "outputs": [
      {
       "output_type": "stream",
       "stream": "stdout",
       "text": [
        "pulse width o/p voltage=120 us\n",
        "\n",
        "new o/p voltage=73.33 V\n"
       ]
      }
     ],
     "prompt_number": 4
    },
    {
     "cell_type": "heading",
     "level": 2,
     "metadata": {},
     "source": [
      "Example 7.11 Page No 408"
     ]
    },
    {
     "cell_type": "code",
     "collapsed": false,
     "input": [
      "import math\n",
      "#initialisation of variables\n",
      "R=1.0\n",
      "L=.005\n",
      "T_a=L/R\n",
      "T=2000*10**-6\n",
      "E=24.0\n",
      "V_s=220\n",
      "T_on=600*10**-6\n",
      "a=T_on/T\n",
      "\n",
      "#Calculations\n",
      "a1=(T_a/T)*math.log(1+(E/V_s)*((math.exp(T/T_a))-1))\n",
      "if a1<a :\n",
      "    print(\"load current in continuous\")\n",
      "else:\n",
      "    print(\"load current in discont.\")\n",
      "\n",
      "I_o=(a*V_s-E)/R    \n",
      "I_mx=(V_s/R)*((1-math.exp(-T_on/T_a))/(1-math.exp(-T/T_a)))-E/R    \n",
      "I_mn=(V_s/R)*((math.exp(T_on/T_a)-1)/(math.exp(T/T_a)-1))-E/R    \n",
      "f=1/T\n",
      "w=2*math.pi*f\n",
      "I1=(2*V_s/(math.sqrt(2)*math.pi)*math.sin(math.radians(180*a)))/(math.sqrt(R**2+(w*L)**2))    \n",
      "I2=(2*V_s/(2*math.sqrt(2)*math.pi)*math.sin(math.radians(2*180*a)))/(math.sqrt(R**2+(w*L*2)**2))    \n",
      "I3=(2*V_s/(3*math.sqrt(2)*math.pi)*math.sin(math.radians(3*180*a)))/(math.sqrt(R**2+(w*L*3)**2))    \n",
      "I_TAV=a*(V_s-E)/R-L*(I_mx-I_mn)/(R*T)   \n",
      "P1=I_TAV*V_s\n",
      "P2=E*I_o\n",
      "I_or=math.sqrt(I_o**2+I1**2+I2**2+I3**2)\n",
      "\n",
      "#Results\n",
      "print(\"avg o/p current=%.2f A\" %I_o)\n",
      "print(\"max value of steady current=%.2f A\" %I_mx)\n",
      "print(\"min value of steady current=%.2f A\" %I_mn)\n",
      "print(\"first harmonic current=%.4f A\" %I1)\n",
      "print(\"second harmonic current=%.4f A\" %I2)\n",
      "print(\"third harmonic current=%.5f A\" %I3)\n",
      "print(\"avg supply current=%.4f A\" %I_TAV)\n",
      "print(\"i/p power=%.2f W\" %P1)\n",
      "print(\"power absorbed by load emf=%.0f W\" %P2)\n",
      "print(\"power loss in resistor=%.2f W\" %(P1-P2))\n",
      "print(\"rms value of load current=%.3f A\" %I_or)"
     ],
     "language": "python",
     "metadata": {},
     "outputs": [
      {
       "output_type": "stream",
       "stream": "stdout",
       "text": [
        "load current in continuous\n",
        "avg o/p current=42.00 A\n",
        "max value of steady current=51.46 A\n",
        "min value of steady current=33.03 A\n",
        "first harmonic current=5.0903 A\n",
        "second harmonic current=1.4983 A\n",
        "third harmonic current=0.21643 A\n",
        "avg supply current=12.7289 A\n",
        "i/p power=2800.35 W\n",
        "power absorbed by load emf=1008 W\n",
        "power loss in resistor=1792.35 W\n",
        "rms value of load current=42.334 A\n"
       ]
      }
     ],
     "prompt_number": 7
    },
    {
     "cell_type": "heading",
     "level": 2,
     "metadata": {},
     "source": [
      "Example 7.12 Page No 411"
     ]
    },
    {
     "cell_type": "code",
     "collapsed": false,
     "input": [
      "import math\n",
      "#initialisation of variables\n",
      "R=1\n",
      "L=.001\n",
      "V_s=220\n",
      "E=72.0\n",
      "f=500.0\n",
      "T_on=800*10**-6\n",
      "T_a=L/R\n",
      "T=1.0/f\n",
      "m=E/V_s\n",
      "a=T_on/T\n",
      "\n",
      "#Calculations\n",
      "a1=(T_a/T)*math.log(1+m*(math.exp(-T/T_a)-1))\n",
      "if a1>a :\n",
      "    print(\"load current is continuous\")\n",
      "else:\n",
      "    print(\"load current is discontinuous\")\n",
      "\n",
      "t_x=T_on+L*math.log(1+((V_s-E)/272)*(1-math.exp(-T_on/T_a)))\n",
      " #Value of t_x wrongly calculated in the book so ans of V_o and I_o varies\n",
      "V_o=a*V_s+(1-t_x/T)*E    \n",
      "I_o=(V_o-E)/R    \n",
      "I_mx=(V_s-E)/R*(1-math.exp(-T_on/T_a)) \n",
      "\n",
      "#Results  \n",
      "print(\"avg o/p voltage=%.2f V\" %V_o)\n",
      "print(\"avg o/p current=%.2f A\" %I_o) \n",
      "print(\"max value of load current=%.1f A\" %I_mx)"
     ],
     "language": "python",
     "metadata": {},
     "outputs": [
      {
       "output_type": "stream",
       "stream": "stdout",
       "text": [
        "load current is discontinuous\n",
        "avg o/p voltage=121.77 V\n",
        "avg o/p current=49.77 A\n",
        "max value of load current=81.5 A\n"
       ]
      }
     ],
     "prompt_number": 10
    },
    {
     "cell_type": "heading",
     "level": 2,
     "metadata": {},
     "source": [
      "Example 7.13, Page No 412"
     ]
    },
    {
     "cell_type": "code",
     "collapsed": false,
     "input": [
      "import math\n",
      "#initialisation of variables\n",
      "a=0.2\n",
      "V_s=500\n",
      "E=a*V_s\n",
      "L=0.06\n",
      "I=10\n",
      "\n",
      "#Calculations\n",
      "T_on=(L*I)/(V_s-E)\n",
      "f=a/T_on    \n",
      "\n",
      "#Results\n",
      "print(\"chopping freq=%.2f Hz\" %f)"
     ],
     "language": "python",
     "metadata": {},
     "outputs": [
      {
       "output_type": "stream",
       "stream": "stdout",
       "text": [
        "chopping freq=133.33 Hz\n"
       ]
      }
     ],
     "prompt_number": 11
    },
    {
     "cell_type": "heading",
     "level": 2,
     "metadata": {},
     "source": [
      "Example 7.14 Page No 412"
     ]
    },
    {
     "cell_type": "code",
     "collapsed": false,
     "input": [
      "import math\n",
      "#initialisation of variables\n",
      "a=0.5\n",
      "pu=0.1 #pu ripple\n",
      "\n",
      "#Calculations\n",
      " #x=T/T_a\n",
      " #y=exp(-a*x)\n",
      "y=(1-pu)/(1+pu)\n",
      " #after solving\n",
      "x=math.log(1/y)/a\n",
      "f=1000\n",
      "T=1/f\n",
      "T_a=T/x\n",
      "R=2\n",
      "L=R*T_a\n",
      "Li=0.002\n",
      "Le=L-Li    \n",
      "\n",
      "#Results\n",
      "print(\"external inductance=%.3f mH\" %(Le*1000))"
     ],
     "language": "python",
     "metadata": {},
     "outputs": [
      {
       "output_type": "stream",
       "stream": "stdout",
       "text": [
        "external inductance=-2.000 mH\n"
       ]
      }
     ],
     "prompt_number": 12
    },
    {
     "cell_type": "heading",
     "level": 2,
     "metadata": {},
     "source": [
      "Example 7.15 Page No 414"
     ]
    },
    {
     "cell_type": "code",
     "collapsed": false,
     "input": [
      "import math\n",
      "#initialisation of variables\n",
      "R=10.0\n",
      "L=0.015\n",
      "T_a=L/R\n",
      "f=1250.0\n",
      "T=1.0/f\n",
      "a=0.5\n",
      "T_on=a*T\n",
      "V_s=220.0\n",
      "\n",
      "#Calculations\n",
      "I_mx=(V_s/R)*((1-math.exp(-T_on/T_a))/(1-math.exp(-T/T_a)))   \n",
      "I_mn=(V_s/R)*((math.exp(T_on/T_a)-1)/(math.exp(T/T_a)-1))    \n",
      "dI=I_mx-I_mn    \n",
      "V_o=a*V_s\n",
      "I_o=V_o/R    \n",
      "I_or=math.sqrt(I_mx**2+dI**2/3+I_mx*dI)    \n",
      "I_chr=math.sqrt(a)*I_or \n",
      "\n",
      "#Results\n",
      "print(\"Max value of ripple current=%.2f A\" %dI)\n",
      "print(\"Max value of load current=%.3f A\" %I_mx)\n",
      "print(\"Min value of load current=%.2f A\" %I_mn)\n",
      "print(\"Avg value of load current=%.2f A\" %I_o)   \n",
      "print(\"rms value of load current=%.2f A\" %I_or)\n",
      "print(\"rms value of chopper current=%.2f A\" %I_chr)\n",
      " #Answers have small variations from that in the book due to difference in the rounding off of digits."
     ],
     "language": "python",
     "metadata": {},
     "outputs": [
      {
       "output_type": "stream",
       "stream": "stdout",
       "text": [
        "Max value of ripple current=2.92 A\n",
        "Max value of load current=12.458 A\n",
        "Min value of load current=9.54 A\n",
        "Avg value of load current=11.00 A\n",
        "rms value of load current=13.94 A\n",
        "rms value of chopper current=9.86 A\n"
       ]
      }
     ],
     "prompt_number": 14
    },
    {
     "cell_type": "heading",
     "level": 2,
     "metadata": {},
     "source": [
      "Example 7.17 Page No 417"
     ]
    },
    {
     "cell_type": "code",
     "collapsed": false,
     "input": [
      "import math\n",
      "#initialisation of variables\n",
      "L=0.0016\n",
      "C=4*10**-6\n",
      "\n",
      "#Calculations\n",
      "w=1/math.sqrt(L*C)\n",
      "t=math.pi/w    \n",
      "\n",
      "\n",
      "#Results\n",
      "print(\"time for which current flows=%.2f us\" %(t*10**6))"
     ],
     "language": "python",
     "metadata": {},
     "outputs": [
      {
       "output_type": "stream",
       "stream": "stdout",
       "text": [
        "time for which current flows=251.33 us\n"
       ]
      }
     ],
     "prompt_number": 15
    },
    {
     "cell_type": "heading",
     "level": 2,
     "metadata": {},
     "source": [
      "Example 7.18, Page No 424"
     ]
    },
    {
     "cell_type": "code",
     "collapsed": false,
     "input": [
      "import math\n",
      "#initialisation of variables\n",
      "t_q=20.0*10**-6\n",
      "dt=20.0*10**-6\n",
      "\n",
      "#Calculations\n",
      "t_c=t_q+dt\n",
      "I_0=60.0\n",
      "V_s=60.0\n",
      "C=t_c*I_0/V_s \n",
      "\n",
      "#Results   \n",
      "print(\"value of commutating capacitor=%.0f uF\" %(C*10**6))\n",
      "\n",
      "L1=(V_s/I_0)**2*C\n",
      "L2=(2*t_c/math.pi)**2/C\n",
      "if L1>L2 :\n",
      "    print(\"value of commutating inductor=%.0f uH\" %(L1*10**6))\n",
      "else:\n",
      "    print(\"value of commutating inductor=%.0f uH\" %(L2*10**6))\n"
     ],
     "language": "python",
     "metadata": {},
     "outputs": [
      {
       "output_type": "stream",
       "stream": "stdout",
       "text": [
        "value of commutating capacitor=40 uF\n",
        "value of commutating inductor=40 uH\n"
       ]
      }
     ],
     "prompt_number": 19
    },
    {
     "cell_type": "heading",
     "level": 2,
     "metadata": {},
     "source": [
      "Example 7.19, Page No 424"
     ]
    },
    {
     "cell_type": "code",
     "collapsed": false,
     "input": [
      "import math\n",
      "#initialisation of variables\n",
      "t=100.0*10**-6\n",
      "R=10.0\n",
      "\n",
      "#Calculations\n",
      " #V_s*(1-2*math.exp(-t/(R*C)))=0\n",
      "C=-t/(R*math.log(1.0/2))    \n",
      "L=(4/9.0)*C*R**2    \n",
      "L=(1.0/4)*C*R**2    \n",
      "\n",
      "#Results\n",
      "print(\"Value of comutating component C=%.3f uF\" %(C*10**6))\n",
      "print(\"max permissible current through SCR is 2.5 times load current\")\n",
      "print(\"value of comutating component L=%.1f uH\" %(L*10**6))\n",
      "print(\"max permissible current through SCR is 1.5 times peak diode current\")\n",
      "print(\"value of comutating component L=%.2f uH\" %(L*10**6))"
     ],
     "language": "python",
     "metadata": {},
     "outputs": [
      {
       "output_type": "stream",
       "stream": "stdout",
       "text": [
        "Value of comutating component C=14.427 uF\n",
        "max permissible current through SCR is 2.5 times load current\n",
        "value of comutating component L=360.7 uH\n",
        "max permissible current through SCR is 1.5 times peak diode current\n",
        "value of comutating component L=360.67 uH\n"
       ]
      }
     ],
     "prompt_number": 20
    },
    {
     "cell_type": "heading",
     "level": 2,
     "metadata": {},
     "source": [
      "Example 7.20, Page No 426"
     ]
    },
    {
     "cell_type": "code",
     "collapsed": false,
     "input": [
      "import math\n",
      "#initialisation of variables\n",
      "T_on=800.0*10**-6\n",
      "V_s=220.0\n",
      "I_o=80.0\n",
      "C=50*10**-6\n",
      "\n",
      "#Calculations\n",
      "T=T_on+2*V_s*C/I_o    \n",
      "L=20*10**-6\n",
      "C=50*10**-6\n",
      "i_T1=I_o+V_s*math.sqrt(C/L)    \n",
      "i_TA=I_o    \n",
      "t_c=C*V_s/I_o    \n",
      "t_c1=(math.pi/2)*math.sqrt(L*C)    \n",
      "t=150*10**-6\n",
      "v_c=I_o*t/C-V_s  \n",
      "\n",
      "#Results  \n",
      "print(\"effective on period=%.0f us\" %(T*10**6))\n",
      "print(\"peak current through main thyristor=%.2f A\" %i_T1)\n",
      "print(\"peak current through auxillery thyristor=%.0f A\" %i_TA)\n",
      "print(\"turn off time for main thyristor=%.1f us\" %(t_c*10**6))\n",
      "print(\"turn off time for auxillery thyristor=%.3f us\" %(t_c1*10**6))\n",
      "print(\"total commutation interval=%.0f us\" %(2*t_c*10**6))\n",
      "print(\"capacitor voltage=%.0f V\" %v_c)\n",
      "print(\"time nedded to recharge the capacitor=%.0f us\" %(2*V_s*C/I_o*10**6))"
     ],
     "language": "python",
     "metadata": {},
     "outputs": [
      {
       "output_type": "stream",
       "stream": "stdout",
       "text": [
        "for firing angle = 30deg\n",
        "avg output voltage=232.509 V\n",
        "for firing angle = 60deg\n",
        "avg output voltage=133.65 V\n",
        "avg current rating=12 A\n",
        "rms current rating=20.785 A\n",
        "PIV of SCR=565.7 V\n",
        "power dissipated=16.8 W\n"
       ]
      }
     ],
     "prompt_number": 122
    },
    {
     "cell_type": "heading",
     "level": 2,
     "metadata": {},
     "source": [
      "Example 7.21, Page No 427"
     ]
    },
    {
     "cell_type": "code",
     "collapsed": false,
     "input": [
      "import math\n",
      "#initialisation of variables\n",
      "I_o=260.0\n",
      "V_s=220.0\n",
      "fos=2 #factor of safety\n",
      "\n",
      "#Calculations\n",
      "t_off=18*10**-6\n",
      "t_c=2*t_off\n",
      "C=t_c*I_o/V_s    \n",
      "L=(V_s/(0.8*I_o))**2*C    \n",
      "f=400\n",
      "a_mn=math.pi*f*math.sqrt(L*C)\n",
      "V_omn=V_s*(a_mn+2*f*t_c)    \n",
      "V_omx=V_s    \n",
      "\n",
      "#Results\n",
      "print(\"Value of C=%.3f uF\" %(C*10**6))\n",
      "print(\"value of L=%.3f uH\" %(L*10**6))\n",
      "print(\"min value of o/p voltage=%.3f V\" %V_omn)\n",
      "print(\"max value of o/p voltage=%.0f V\" %V_omx)"
     ],
     "language": "python",
     "metadata": {},
     "outputs": [
      {
       "output_type": "stream",
       "stream": "stdout",
       "text": [
        "firing angle delay=47.461 deg\n",
        "pf=0.646\n",
        "firing angle delay=127.71 deg\n"
       ]
      }
     ],
     "prompt_number": "*"
    },
    {
     "cell_type": "heading",
     "level": 2,
     "metadata": {},
     "source": [
      "Example 7.22, Page No 434"
     ]
    },
    {
     "cell_type": "code",
     "collapsed": false,
     "input": [
      "import math\n",
      "#initialisation of variables\n",
      "x=2.0\n",
      "t_q=30*10**-6\n",
      "dt=30*10**-6\n",
      "t_c=t_q+dt\n",
      "V_s=230.0\n",
      "I_o=200.0\n",
      "\n",
      "#Calculations\n",
      "L=V_s*t_c/(x*I_o*(math.pi-2*math.asin(1/x)))    \n",
      "C=x*I_o*t_c/(V_s*(math.pi-2*math.asin(1/x)))    \n",
      "V_cp=V_s+I_o*math.sqrt(L/C)    \n",
      "I_cp=x*I_o    \n",
      "x=3\n",
      "L=V_s*t_c/(x*I_o*(math.pi-2*math.asin(1/x)))   \n",
      "C=x*I_o*t_c/(V_s*(math.pi-2*math.asin(1/x)))    \n",
      "V_cp=V_s+I_o*math.sqrt(L/C)    \n",
      "I_cp=x*I_o    \n",
      "\n",
      "#Results\n",
      "print(\"value of commutating inductor=%.3f uH\" %(L*10**6))\n",
      "print(\"value of commutating capacitor=%.3f uF\" %(C*10**6))\n",
      "print(\"peak capacitor voltage=%.0f V\" %V_cp)\n",
      "print(\"peak commutataing current=%.0f A\" %I_cp)\n",
      "print(\"value of commutating inductor=%.3f uH\" %(L*10**6))\n",
      "print(\"value of commutating capacitor=%.3f uF\" %(C*10**6))\n",
      "print(\"peak capacitor voltage=%.2f V\" %V_cp)\n",
      "print(\"peak commutataing current=%.0f A\" %I_cp)\n"
     ],
     "language": "python",
     "metadata": {},
     "outputs": [
      {
       "output_type": "stream",
       "stream": "stdout",
       "text": [
        "value of commutating inductor=7.321 uH\n",
        "value of commutating capacitor=49.822 uF\n",
        "peak capacitor voltage=307 V\n",
        "peak commutataing current=600 A\n",
        "value of commutating inductor=7.321 uH\n",
        "value of commutating capacitor=49.822 uF\n",
        "peak capacitor voltage=306.67 V\n",
        "peak commutataing current=600 A\n"
       ]
      }
     ],
     "prompt_number": 25
    },
    {
     "cell_type": "heading",
     "level": 2,
     "metadata": {},
     "source": [
      "Example 7.23, Page No 434"
     ]
    },
    {
     "cell_type": "code",
     "collapsed": false,
     "input": [
      "import math\n",
      "#initialisation of variablesV_s=230\n",
      "C=50*10**-6\n",
      "L=20*10**-6\n",
      "I_cp=V_s*math.sqrt(C/L)\n",
      "I_o=200\n",
      "x=I_cp/I_o\n",
      "\n",
      "#Calculations\n",
      "t_c=(math.pi-2*math.asin(1/x))*math.sqrt(C*L)   \n",
      "th1=math.degrees(math.asin(1.0/x))\n",
      "t=(5*math.pi/2-th1*math.pi/180)*math.sqrt(L*C)+C*V_s*(1-math.cos(math.radians(th1)))/I_o    \n",
      "t=(math.pi-th1*math.pi/180)*math.sqrt(L*C)    \n",
      "\n",
      "#Results\n",
      "print(\"turn off time of main thyristor=%.2f us\" %(t_c*10**6))\n",
      "print(\"total commutation interval=%.3f us\" %(t*10**6))\n",
      "print(\"turn off time of auxillery thyristor=%.3f us\" %(t*10**6))"
     ],
     "language": "python",
     "metadata": {},
     "outputs": [
      {
       "output_type": "stream",
       "stream": "stdout",
       "text": [
        "turn off time of main thyristor=62.52 us\n",
        "total commutation interval=80.931 us\n",
        "turn off time of auxillery thyristor=80.931 us\n"
       ]
      }
     ],
     "prompt_number": 27
    },
    {
     "cell_type": "heading",
     "level": 2,
     "metadata": {},
     "source": [
      "Example 7.24, Page No 440"
     ]
    },
    {
     "cell_type": "code",
     "collapsed": false,
     "input": [
      "import math\n",
      "#initialisation of variables\n",
      "tc=0.006\n",
      "R=10.0\n",
      "L=R*tc\n",
      "f=2000.0\n",
      "\n",
      "#Calculations\n",
      "T=1/f\n",
      "V_o=50.0\n",
      "V_s=100.0\n",
      "a=V_o/V_s\n",
      "T_on=a*T\n",
      "T_off=T-T_on\n",
      "dI=V_o*T_off/L\n",
      "I_o=V_o/R\n",
      "I2=I_o+dI/2    \n",
      "I1=I_o-dI/2    \n",
      "\n",
      "#Results\n",
      "print(\"max value of load current=%.3f A\" %I2)\n",
      "print(\"min value of load current=%.3f A\" %I1)\n"
     ],
     "language": "python",
     "metadata": {},
     "outputs": [
      {
       "output_type": "stream",
       "stream": "stdout",
       "text": [
        "max value of load current=5.104 A\n",
        "min value of load current=4.896 A\n"
       ]
      }
     ],
     "prompt_number": 28
    },
    {
     "cell_type": "heading",
     "level": 2,
     "metadata": {},
     "source": [
      "Example 7.27, Page No 443"
     ]
    },
    {
     "cell_type": "code",
     "collapsed": false,
     "input": [
      "import math\n",
      "#initialisation of variables\n",
      "I_a=30.0\n",
      "r_a=.5\n",
      "V_s=220.0\n",
      "\n",
      "#Calculations\n",
      "a=I_a*r_a/V_s    \n",
      "a=1\n",
      "k=.1 #V/rpm\n",
      "N=(a*V_s-I_a*r_a)/k    \n",
      "\n",
      "#Results\n",
      "print(\"min value of duty cycle=%.3f\" %a)\n",
      "print(\"min Value of speed control=%.0f rpm\" %0)\n",
      "print(\"max value of duty cycle=%.0f\" %a)\n",
      "print(\"max value of speed control=%.0f rpm\" %N)"
     ],
     "language": "python",
     "metadata": {},
     "outputs": [
      {
       "output_type": "stream",
       "stream": "stdout",
       "text": [
        "min value of duty cycle=1.000\n",
        "min Value of speed control=0 rpm\n",
        "max value of duty cycle=1\n",
        "max value of speed control=2050 rpm\n"
       ]
      }
     ],
     "prompt_number": 29
    },
    {
     "cell_type": "heading",
     "level": 2,
     "metadata": {},
     "source": [
      "Example 7.28, Page No 444"
     ]
    },
    {
     "cell_type": "code",
     "collapsed": false,
     "input": [
      "import math\n",
      "#initialisation of variables\n",
      "V_t=72.0\n",
      "I_a=200.0\n",
      "r_a=0.045\n",
      "N=2500.0\n",
      "\n",
      "#Calculations\n",
      "k=(V_t-I_a*r_a)/N\n",
      "E_a=k*1000\n",
      "L=.007\n",
      "Rm=.045\n",
      "Rb=0.065\n",
      "R=Rm+Rb\n",
      "T_a=L/R\n",
      "I_mx=230\n",
      "I_mn=180\n",
      "T_on=-T_a*math.log(-((V_t-E_a)/R-I_mx)/((I_mn)-(V_t-E_a)/R))\n",
      "R=Rm\n",
      "T_a=L/R\n",
      "T_off=-T_a*math.log(-((-E_a)/R-I_mn)/((I_mx)-(-E_a)/R))\n",
      "T=T_on+T_off\n",
      "f=1/T    \n",
      "a=T_on/T \n",
      "\n",
      "#Results\n",
      "print(\"chopping freq=%.1f Hz\" %f)  \n",
      "print(\"duty cycle ratio=%.3f\" %a)\n"
     ],
     "language": "python",
     "metadata": {},
     "outputs": [
      {
       "output_type": "stream",
       "stream": "stdout",
       "text": [
        "chopping freq=40.5 Hz\n",
        "\n",
        "duty cycle ratio=0.588\n"
       ]
      }
     ],
     "prompt_number": 30
    },
    {
     "cell_type": "heading",
     "level": 2,
     "metadata": {},
     "source": [
      "Example 7.29, Page No 445"
     ]
    },
    {
     "cell_type": "code",
     "collapsed": false,
     "input": [
      "import math\n",
      "#initialisation of variablesI_mx=425\n",
      "I_lt=180.0     #lower limit of current pulsation\n",
      "I_mn=I_mx-I_lt\n",
      "T_on=0.014\n",
      "T_off=0.011\n",
      "\n",
      "#Calculations\n",
      "T=T_on+T_off\n",
      "T_a=.0635\n",
      "a=T_on/T\n",
      "V=(I_mx-I_mn*math.exp(-T_on/T_a))/(1-math.exp(-T_on/T_a))\n",
      "a=.5\n",
      "I_mn=(I_mx-V*(1-math.exp(-T_on/T_a)))/(math.exp(-T_on/T_a))\n",
      "T=I_mx-I_mn    \n",
      "T=T_on/a\n",
      "f=1/T    \n",
      "\n",
      "#Results\n",
      "print(\"higher limit of current pulsation=%.0f A\" %T)\n",
      "print(\"chopping freq=%.3f Hz\" %f)\n",
      "print(\"duty cycle ratio=%.2f\" %a)\n",
      " #Answers have small variations from that in the book due to difference in the rounding off of digits."
     ],
     "language": "python",
     "metadata": {},
     "outputs": [
      {
       "output_type": "stream",
       "stream": "stdout",
       "text": [
        "higher limit of current pulsation=0 A\n",
        "chopping freq=35.714 Hz\n",
        "duty cycle ratio=0.50\n"
       ]
      }
     ],
     "prompt_number": 32
    }
   ],
   "metadata": {}
  }
 ]
}