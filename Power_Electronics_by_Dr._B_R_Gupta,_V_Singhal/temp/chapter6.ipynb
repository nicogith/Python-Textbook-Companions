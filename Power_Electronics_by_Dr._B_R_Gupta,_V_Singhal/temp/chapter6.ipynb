{
 "metadata": {
  "name": ""
 },
 "nbformat": 3,
 "nbformat_minor": 0,
 "worksheets": [
  {
   "cells": [
    {
     "cell_type": "heading",
     "level": 1,
     "metadata": {},
     "source": [
      "Chapter 06 : Phase Controlled Rectifiers"
     ]
    },
    {
     "cell_type": "heading",
     "level": 2,
     "metadata": {},
     "source": [
      "Example 6.1, Page No 283"
     ]
    },
    {
     "cell_type": "code",
     "collapsed": false,
     "input": [
      "import math\n",
      "#initialisation of variables\n",
      "V=230.0\n",
      "P=1000.0\n",
      "R=V**2/P\n",
      "\n",
      "#Calculations\n",
      "a=math.pi/4\n",
      "V_or1=(math.sqrt(2)*V/(2*math.sqrt(math.pi)))*math.sqrt((math.pi-a)+.5*math.sin(2*a))\n",
      "P1=V_or1**2/R    \n",
      "a=math.pi/2\n",
      "V_or2=(math.sqrt(2)*V/(2*math.sqrt(math.pi)))*math.sqrt((math.pi-a)+.5*math.sin(2*a))\n",
      "P2=V_or2**2/R   \n",
      "\n",
      "#Results\n",
      "print(\"when firing angle delay is of 45deg\")\n",
      "print(\"power absorbed=%.2f W\" %P1)\n",
      "print(\"when firing angle delay is of 90deg\")\n",
      "print(\"power absorbed=%.2f W\" %P2)"
     ],
     "language": "python",
     "metadata": {},
     "outputs": [
      {
       "output_type": "stream",
       "stream": "stdout",
       "text": [
        "when firing angle delay is of 45deg\n",
        "power absorbed=454.58 W\n",
        "when firing angle delay is of 90deg\n",
        "power absorbed=250.00 W\n"
       ]
      }
     ],
     "prompt_number": 1
    },
    {
     "cell_type": "heading",
     "level": 2,
     "metadata": {},
     "source": [
      "Example 6.2, Page No 283"
     ]
    },
    {
     "cell_type": "code",
     "collapsed": false,
     "input": [
      "import math\n",
      "#initialisation of variables\n",
      "V=230.0\n",
      "E=150.0\n",
      "R=8.0\n",
      "\n",
      "#Calculations\n",
      "th1=math.sin(math.radians(E/(math.sqrt(2)*V)))\n",
      "I_o=(1/(2*math.pi*R))*(2*math.sqrt(2)*230*math.cos(math.radians(th1))-E*(math.pi-2*th1*math.pi/180))    \n",
      "P=E*I_o    \n",
      "I_or=math.sqrt((1/(2*math.pi*R**2))*((V**2+E**2)*(math.pi-2*th1*math.pi/180)+V**2*math.sin(math.radians(2*th1))-4*math.sqrt(2)*V*E*math.cos(math.radians(th1))))\n",
      "P_r=I_or**2*R    \n",
      "pf=(P+P_r)/(V*I_or)\n",
      "\n",
      "#Results\n",
      "print(\"avg charging curent=%.4f A\" %I_o)\n",
      "print(\"power supplied to the battery=%.2f W\" %P)\n",
      "print(\"power dissipated by the resistor=%.3f W\" %P_r)    \n",
      "print(\"supply pf=%.3f\" %pf)"
     ],
     "language": "python",
     "metadata": {},
     "outputs": [
      {
       "output_type": "stream",
       "stream": "stdout",
       "text": [
        "avg charging curent=3.5679 A\n",
        "power supplied to the battery=535.18 W\n",
        "power dissipated by the resistor=829.760 W\n",
        "supply pf=0.583\n"
       ]
      }
     ],
     "prompt_number": 2
    },
    {
     "cell_type": "heading",
     "level": 2,
     "metadata": {},
     "source": [
      "Example 6.3 Page No 284"
     ]
    },
    {
     "cell_type": "code",
     "collapsed": false,
     "input": [
      "import math\n",
      "#initialisation of variables\n",
      "V=230.0\n",
      "E=150.0\n",
      "R=8.0\n",
      "a=35.0\n",
      "\n",
      "#Calculations\n",
      "th1=math.degrees(math.asin(E/(math.sqrt(2)*V)))\n",
      "th2=180-th1\n",
      "I_o=(1/(2*math.pi*R))*(math.sqrt(2)*230*(math.cos(math.radians(a))-math.cos(math.radians(th2)))-E*((th2-a)*math.pi/180))    \n",
      "P=E*I_o    \n",
      "I_or=math.sqrt((1/(2*math.pi*R**2))*((V**2+E**2)*((th2-a)*math.pi/180)-(V**2/2)*(math.sin(math.radians(2*th2))-math.sin(math.radians(2*a)))-2*math.sqrt(2)*V*E*(math.cos(math.radians(a))-math.cos(math.radians(th2)))))\n",
      "P_r=I_or**2*R    \n",
      "pf=(P+P_r)/(V*I_or)    \n",
      "\n",
      "\n",
      "#Results\n",
      "print(\"avg charging curent=%.4f A\" %I_o)\n",
      "print(\"power supplied to the battery=%.2f W\" %P)\n",
      "print(\"power dissipated by the resistor=%.2f W\" %P_r)\n",
      "print(\"supply pf=%.4f\" %pf)\n",
      " #Answers have small variations from that in the book due to difference in the rounding off of digits."
     ],
     "language": "python",
     "metadata": {},
     "outputs": [
      {
       "output_type": "stream",
       "stream": "stdout",
       "text": [
        "avg charging curent=4.9208 A\n",
        "power supplied to the battery=738.12 W\n",
        "power dissipated by the resistor=689.54 W\n",
        "supply pf=0.6686\n"
       ]
      }
     ],
     "prompt_number": 3
    },
    {
     "cell_type": "heading",
     "level": 2,
     "metadata": {},
     "source": [
      "Example 6.4, Page No 285"
     ]
    },
    {
     "cell_type": "code",
     "collapsed": false,
     "input": [
      "import math\n",
      "#initialisation of variables\n",
      "B=210\n",
      "f=50.0     #Hz\n",
      "w=2*math.pi*f\n",
      "a=40.0     #firing angle\n",
      "V=230.0\n",
      "R=5.0\n",
      "L=2*10**-3\n",
      "\n",
      "#Calculations\n",
      "t_c1=(360-B)*math.pi/(180*w)   \n",
      "V_o1=(math.sqrt(2)*230/(2*math.pi))*(math.cos(math.radians(a))-math.cos(math.radians(B)))    \n",
      "I_o1=V_o1/R    \n",
      "E=110\n",
      "R=5\n",
      "L=2*10**-3\n",
      "th1=math.degrees(math.asin(E/(math.sqrt(2)*V)))\n",
      "t_c2=(360-B+th1)*math.pi/(180*w)    \n",
      "V_o2=(math.sqrt(2)*230/(2*math.pi))*(math.cos(math.radians(a))-math.cos(math.radians(B)))    \n",
      "I_o2=(1/(2*math.pi*R))*(math.sqrt(2)*230*(math.cos(math.radians(a))-math.cos(math.radians(B)))-E*((B-a)*math.pi/180))   \n",
      "V_o2=R*I_o2+E    \n",
      "\n",
      "\n",
      "#Results\n",
      "print(\"for R=5ohm and L=2mH\")\n",
      "print(\"ckt turn off time=%.3f msec\" %(t_c1*1000))\n",
      "print(\"avg output voltage=%.3f V\" %V_o1)\n",
      "print(\"avg output current=%.4f A\" %I_o1)\n",
      "print(\"for R=5ohm % L=2mH and E=110V\")\n",
      "print(\"ckt turn off time=%.3f msec\" %(t_c2*1000))\n",
      "print(\"avg output current=%.4f A\" %I_o2)\n",
      "print(\"avg output voltage=%.3f V\" %V_o2)   "
     ],
     "language": "python",
     "metadata": {},
     "outputs": [
      {
       "output_type": "stream",
       "stream": "stdout",
       "text": [
        "for R=5ohm and L=2mH\n",
        "ckt turn off time=8.333 msec\n",
        "avg output voltage=84.489 V\n",
        "avg output current=16.8979 A\n",
        "for R=5ohm % L=2mH and E=110V\n",
        "ckt turn off time=9.431 msec\n",
        "avg output current=6.5090 A\n",
        "avg output voltage=142.545 V\n"
       ]
      }
     ],
     "prompt_number": 4
    },
    {
     "cell_type": "heading",
     "level": 2,
     "metadata": {},
     "source": [
      "Example 6.5 Page No 286"
     ]
    },
    {
     "cell_type": "code",
     "collapsed": false,
     "input": [
      "import math\n",
      "#initialisation of variables\n",
      "V_s=230.0\n",
      "f=50.0\n",
      "R=10.0\n",
      "a=60.0\n",
      "\n",
      "#Calculations\n",
      "V_m=(math.sqrt(2)*V_s)\n",
      "V_o=V_m/(2*math.pi)*(1+math.cos(math.radians(a)))\n",
      "I_o=V_o/R\n",
      "V_or=(V_m/(2*math.sqrt(math.pi)))*math.sqrt((math.pi-a*math.pi/180)+.5*math.sin(math.radians(2*a)))\n",
      "I_or=V_or/R\n",
      "P_dc=V_o*I_o\n",
      "P_ac=V_or*I_or\n",
      "RE=P_dc/P_ac    \n",
      "FF=V_or/V_o    \n",
      "VRF=math.sqrt(FF**2-1)    \n",
      "TUF=P_dc/(V_s*I_or)    \n",
      "PIV=V_m    \n",
      "\n",
      "\n",
      "#Results\n",
      "print(\"rectification efficiency=%.4f\" %RE)\n",
      "print(\"form factor=%.3f\" %FF)\n",
      "print(\"voltage ripple factor=%.4f\" %VRF)\n",
      "print(\"t/f utilisation factor=%.4f\" %TUF)\n",
      "print(\"PIV of thyristor=%.2f V\" %PIV)"
     ],
     "language": "python",
     "metadata": {},
     "outputs": [
      {
       "output_type": "stream",
       "stream": "stdout",
       "text": [
        "rectification efficiency=0.2834\n",
        "form factor=1.879\n",
        "voltage ripple factor=1.5903\n",
        "t/f utilisation factor=0.1797\n",
        "PIV of thyristor=325.27 V\n"
       ]
      }
     ],
     "prompt_number": 5
    },
    {
     "cell_type": "heading",
     "level": 2,
     "metadata": {},
     "source": [
      "Example 6.6 Page No 294"
     ]
    },
    {
     "cell_type": "code",
     "collapsed": false,
     "input": [
      "import math\n",
      "#initialisation of variables\n",
      "V=1000.0\n",
      "fos=2.5     #factor of safety\n",
      "I_TAV=40.0\n",
      "\n",
      "#Calculations\n",
      "V_m1=V/(2*fos)\n",
      "P1=(2*V_m1/math.pi)*I_TAV    \n",
      "V_m2=V/(fos)\n",
      "P2=(2*V_m2/math.pi)*I_TAV    \n",
      "\n",
      "#Results\n",
      "print(\"for mid pt convertor\")\n",
      "print(\"power handled=%.3f kW\" %(P1/1000))\n",
      "print(\"for bridge convertor\")\n",
      "print(\"power handled=%.3f kW\" %(P2/1000))\n"
     ],
     "language": "python",
     "metadata": {},
     "outputs": [
      {
       "output_type": "stream",
       "stream": "stdout",
       "text": [
        "for mid pt convertor\n",
        "power handled=5.093 kW\n",
        "for bridge convertor\n",
        "power handled=10.186 kW\n"
       ]
      }
     ],
     "prompt_number": 6
    },
    {
     "cell_type": "heading",
     "level": 2,
     "metadata": {},
     "source": [
      "Example 6.7, Page No 297"
     ]
    },
    {
     "cell_type": "code",
     "collapsed": false,
     "input": [
      "import math\n",
      "#initialisation of variables\n",
      "V_s=230.0\n",
      "V_m=math.sqrt(2)*V_s\n",
      "R=.4\n",
      "I_o=10\n",
      "I_or=I_o\n",
      "E=120.0\n",
      "\n",
      "#Calculations\n",
      "a1=math.degrees(math.acos((E+I_o*R)*math.pi/(2*V_m)))\n",
      "pf1=(E*I_o+I_or**2*R)/(V_s*I_or)    \n",
      "E=-120.0\n",
      "a2=math.degrees(math.acos((E+I_o*R)*math.pi/(2*V_m))) \n",
      "pf2=(-E*I_o-I_or**2*R)/(V_s*I_or)   \n",
      "\n",
      "#Results\n",
      "print(\"firing angle delay=%.2f deg\" %a1)\n",
      "print(\"pf=%.4f\" %pf1)\n",
      "print(\"firing angle delay=%.2f deg\" %a2)\n",
      "print(\"pf=%.4f\" %pf2)\n"
     ],
     "language": "python",
     "metadata": {},
     "outputs": [
      {
       "output_type": "stream",
       "stream": "stdout",
       "text": [
        "firing angle delay=53.21 deg\n",
        "pf=0.5391\n",
        "firing angle delay=124.07 deg\n",
        "pf=0.5043\n"
       ]
      }
     ],
     "prompt_number": 7
    },
    {
     "cell_type": "heading",
     "level": 2,
     "metadata": {},
     "source": [
      "Example 6.9 Page No 299"
     ]
    },
    {
     "cell_type": "code",
     "collapsed": false,
     "input": [
      "import math\n",
      "#initialisation of variables\n",
      "V_s=230.0\n",
      "f=50.0\n",
      "a=45.0\n",
      "R=5.0\n",
      "E=100.0\n",
      "\n",
      "#Calculations\n",
      "V_o=((math.sqrt(2)*V_s)/(2*math.pi))*(3+math.cos(math.radians(a)))\n",
      "I_o=(V_o-E)/R    \n",
      "P=E*I_o    \n",
      "\n",
      "#Results\n",
      "print(\"avg o/p current=%.3f A\" %I_o)\n",
      "print(\"power delivered to battery=%.4f kW\" %(P/1000))"
     ],
     "language": "python",
     "metadata": {},
     "outputs": [
      {
       "output_type": "stream",
       "stream": "stdout",
       "text": [
        "avg o/p current=18.382 A\n",
        "power delivered to battery=1.8382 kW\n"
       ]
      }
     ],
     "prompt_number": 8
    },
    {
     "cell_type": "heading",
     "level": 2,
     "metadata": {},
     "source": [
      "Example 6.10 Page No 300"
     ]
    },
    {
     "cell_type": "code",
     "collapsed": false,
     "input": [
      "import math\n",
      "#initialisation of variablesV_s=230\n",
      "f=50.0\n",
      "a=50.0\n",
      "R=6.0\n",
      "E=60.0\n",
      "V_o1=((math.sqrt(2)*2*V_s)/(math.pi))*math.cos(math.radians(a))\n",
      "I_o1=(V_o1-E)/R    \n",
      "\n",
      "#ATQ after applying the conditions\n",
      "V_o2=((math.sqrt(2)*V_s)/(math.pi))*math.cos(math.radians(a))\n",
      "I_o2=(V_o2-E)/R    \n",
      "\n",
      "print(\"avg o/p current=%.3f A\" %I_o1)\n",
      "print(\"avg o/p current after change=%.2f A\" %I_o2)\n"
     ],
     "language": "python",
     "metadata": {},
     "outputs": [
      {
       "output_type": "stream",
       "stream": "stdout",
       "text": [
        "avg o/p current=12.184 A\n",
        "avg o/p current after change=1.09 A\n"
       ]
      }
     ],
     "prompt_number": 9
    },
    {
     "cell_type": "heading",
     "level": 2,
     "metadata": {},
     "source": [
      "Example 6.11 Page No 309"
     ]
    },
    {
     "cell_type": "code",
     "collapsed": false,
     "input": [
      "import math\n",
      "#initialisation of variables\n",
      "V_s=230.0\n",
      "V_m=math.sqrt(2)*V_s\n",
      "a=45.0\n",
      "R=10.0\n",
      "\n",
      "#Calculations\n",
      "V_o=(2*V_m/math.pi)*math.cos(math.radians(a))\n",
      "I_o=V_o/R\n",
      "V_or=V_m/math.sqrt(2)\n",
      "I_or=I_o\n",
      "P_dc=V_o*I_o\n",
      "P_ac=V_or*I_or\n",
      "RE=P_dc/P_ac    \n",
      "FF=V_or/V_o    \n",
      "VRF=math.sqrt(FF**2-1)    \n",
      "I_s1=2*math.sqrt(2)*I_o/math.pi\n",
      "DF=math.cos(math.radians(a))\n",
      "CDF=.90032\n",
      "pf=CDF*DF    \n",
      "HF=math.sqrt((1/CDF**2)-1)    \n",
      "Q=2*V_m*I_o*math.sin(math.radians(a))/math.pi \n",
      "\n",
      "#Results\n",
      "print(\"rectification efficiency=%.4f\" %RE)\n",
      "print(\"form factor=%.4f\" %FF)\n",
      "print(\"voltage ripple factor=%.4f\" %VRF)\n",
      "print(\"pf=%.5f\" %pf)\n",
      "print(\"HF=%.5f\" %HF)\n",
      "print(\"active power=%.2f W\" %P_dc)   \n",
      "print(\"reactive power=%.3f Var\" %Q)"
     ],
     "language": "python",
     "metadata": {},
     "outputs": [
      {
       "output_type": "stream",
       "stream": "stdout",
       "text": [
        "rectification efficiency=0.6366\n",
        "form factor=1.5708\n",
        "voltage ripple factor=1.2114\n",
        "pf=0.63662\n",
        "HF=0.48342\n",
        "active power=2143.96 W\n",
        "reactive power=2143.956 Var\n"
       ]
      }
     ],
     "prompt_number": 10
    },
    {
     "cell_type": "heading",
     "level": 2,
     "metadata": {},
     "source": [
      "Example 6.12, Page No 310"
     ]
    },
    {
     "cell_type": "code",
     "collapsed": false,
     "input": [
      "import math\n",
      "#initialisation of variables\n",
      "V_s=230.0\n",
      "V_m=math.sqrt(2)*V_s\n",
      "a=45.0\n",
      "R=10.0\n",
      "\n",
      "#Calculations\n",
      "V_o=(V_m/math.pi)*(1+math.cos(math.radians(a)))\n",
      "I_o=V_o/R\n",
      "V_or=V_s*math.sqrt((1/math.pi)*((math.pi-a*math.pi/180)+math.sin(math.radians(2*a))/2))\n",
      "I_or=I_o\n",
      "P_dc=V_o*I_o\n",
      "P_ac=V_or*I_or\n",
      "RE=P_dc/P_ac    \n",
      "FF=V_or/V_o    \n",
      "VRF=math.sqrt(FF**2-1)    \n",
      "I_s1=2*math.sqrt(2)*I_o*math.cos(math.radians(a/2))/math.pi\n",
      "DF=math.cos(math.radians(a/2))   \n",
      "CDF=2*math.sqrt(2)*math.cos(math.radians(a/2))/math.sqrt(math.pi*(math.pi-a*math.pi/180))    \n",
      "pf=CDF*DF    \n",
      "HF=math.sqrt((1/CDF**2)-1)    \n",
      "Q=V_m*I_o*math.sin(math.radians(a))/math.pi\n",
      "\n",
      "#Results\n",
      "print(\"form factor=%.3f\" %FF)\n",
      "print(\"rectification efficiency=%.4f\" %RE)\n",
      "print(\"voltage ripple factor=%.3f\" %VRF)    \n",
      "print(\"DF=%.4f\" %DF)\n",
      "print(\"CDF=%.4f\" %CDF)\n",
      "print(\"pf=%.4f\" %pf)\n",
      "print(\"HF=%.4f\" %HF)\n",
      "print(\"active power=%.3f W\" %P_dc)\n",
      "print(\"reactive power=%.2f Var\" %Q)\n",
      " #Answers have small variations from that in the book due to difference in the rounding off of digits."
     ],
     "language": "python",
     "metadata": {},
     "outputs": [
      {
       "output_type": "stream",
       "stream": "stdout",
       "text": [
        "form factor=1.241\n",
        "rectification efficiency=0.8059\n",
        "voltage ripple factor=0.735\n",
        "DF=0.9239\n",
        "CDF=0.9605\n",
        "pf=0.8874\n",
        "HF=0.2899\n",
        "active power=3123.973 W\n",
        "reactive power=1293.99 Var\n"
       ]
      }
     ],
     "prompt_number": 11
    },
    {
     "cell_type": "heading",
     "level": 2,
     "metadata": {},
     "source": [
      "Example 6.13, Page No 319"
     ]
    },
    {
     "cell_type": "code",
     "collapsed": false,
     "input": [
      "import math\n",
      "#initialisation of variables\n",
      "V_s=230.0\n",
      "R=10.0\n",
      "\n",
      "#Calculations\n",
      "V_ml=math.sqrt(2)*V_s\n",
      "V_om=3*V_ml/(2*math.pi)\n",
      "V_o=V_om/2\n",
      "th=30\n",
      "a=math.degrees(math.acos((2*math.pi*math.sqrt(3)*V_o/(3*V_ml)-1)))-th    \n",
      "I_o=V_o/R    \n",
      "V_or=V_ml/(2*math.sqrt(math.pi))*math.sqrt((5*math.pi/6-a*math.pi/180)+.5*math.sin(math.radians(2*a+2*th)))\n",
      "I_or=V_or/R    \n",
      "RE=V_o*I_o/(V_or*I_or)    \n",
      "\n",
      "#Results\n",
      "print(\"delay angle=%.1f deg\" %a)\n",
      "print(\"avg load current=%.3f A\" %I_o)\n",
      "print(\"rms load current=%.3f A\" %I_or)\n",
      "print(\"rectification efficiency=%.4f\" %RE)"
     ],
     "language": "python",
     "metadata": {},
     "outputs": [
      {
       "output_type": "stream",
       "stream": "stdout",
       "text": [
        "delay angle=67.7 deg\n",
        "avg load current=7.765 A\n",
        "rms load current=10.477 A\n",
        "rectification efficiency=0.5494\n"
       ]
      }
     ],
     "prompt_number": 12
    },
    {
     "cell_type": "heading",
     "level": 2,
     "metadata": {},
     "source": [
      "Example 6.15, Page No 321"
     ]
    },
    {
     "cell_type": "code",
     "collapsed": false,
     "input": [
      "import math\n",
      "#initialisation of variables\n",
      "V=400.0\n",
      "V_ml=math.sqrt(2)*V\n",
      "v_T=1.4\n",
      "a1=30.0\n",
      "\n",
      "#Calculations\n",
      "V_o1=3*V_ml/(2*math.pi)*math.cos(math.radians(a1))-v_T   \n",
      "a2=60.0\n",
      "V_o2=3*V_ml/(2*math.pi)*math.cos(math.radians(a2))-v_T  \n",
      "I_o=36\n",
      "I_TA=I_o/3    \n",
      "I_Tr=I_o/math.sqrt(3)    \n",
      "P=I_TA*v_T       \n",
      "\n",
      "#Results\n",
      "print(\"for firing angle = 30deg\")\n",
      "print(\"avg output voltage=%.3f V\" %V_o1)\n",
      "print(\"for firing angle = 60deg\")\n",
      "print(\"avg output voltage=%.2f V\" %V_o2)\n",
      "print(\"avg current rating=%.0f A\" %I_TA)\n",
      "print(\"rms current rating=%.3f A\" %I_Tr)\n",
      "print(\"PIV of SCR=%.1f V\" %V_ml)\n",
      "print(\"power dissipated=%.1f W\" %P)"
     ],
     "language": "python",
     "metadata": {},
     "outputs": [
      {
       "output_type": "stream",
       "stream": "stdout",
       "text": [
        "for firing angle = 30deg\n",
        "avg output voltage=232.509 V\n",
        "for firing angle = 60deg\n",
        "avg output voltage=133.65 V\n",
        "avg current rating=12 A\n",
        "rms current rating=20.785 A\n",
        "PIV of SCR=565.7 V\n",
        "power dissipated=16.8 W\n"
       ]
      }
     ],
     "prompt_number": 13
    },
    {
     "cell_type": "heading",
     "level": 2,
     "metadata": {},
     "source": [
      "Example 6.17, Page No 331"
     ]
    },
    {
     "cell_type": "code",
     "collapsed": false,
     "input": [
      "import math\n",
      "#initialisation of variables\n",
      "E=200\n",
      "I_o=20\n",
      "R=.5\n",
      "\n",
      "#Calculations\n",
      "V_o1=E+I_o*R\n",
      "V_s=230\n",
      "V_ml=math.sqrt(2)*V_s\n",
      "a1=math.degrees(math.acos(V_o1*math.pi/(3*V_ml)))\n",
      "th=120\n",
      "I_s=math.sqrt((1/math.pi)*I_o**2*th*math.pi/180)\n",
      "P=E*I_o+I_o**2*R\n",
      "pf=P/(math.sqrt(3)*V_s*I_s)    \n",
      "V_o2=E-I_o*R\n",
      "a2=math.degrees(math.acos(-V_o2*math.pi/(3*V_ml))) \n",
      "\n",
      "#Results\n",
      "print(\"firing angle delay=%.3f deg\" %a1)\n",
      "print(\"pf=%.3f\" %pf)\n",
      "print(\"firing angle delay=%.2f deg\" %a2)\n"
     ],
     "language": "python",
     "metadata": {},
     "outputs": [
      {
       "output_type": "stream",
       "stream": "stdout",
       "text": [
        "firing angle delay=47.461 deg\n",
        "pf=0.646\n",
        "firing angle delay=127.71 deg\n"
       ]
      }
     ],
     "prompt_number": 14
    },
    {
     "cell_type": "heading",
     "level": 2,
     "metadata": {},
     "source": [
      "Example 6.18, Page No 332"
     ]
    },
    {
     "cell_type": "code",
     "collapsed": false,
     "input": [
      "import math\n",
      "#initialisation of variables\n",
      "V=230.0\n",
      "f=50.0\n",
      "\n",
      "#Calculations\n",
      "w=2*math.pi*f\n",
      "a1=0\n",
      "t_c1=(4*math.pi/3-a1*math.pi/180)/w    \n",
      "a2=30\n",
      "t_c2=(4*math.pi/3-a2*math.pi/180)/w    \n",
      "\n",
      "#Results\n",
      "print(\"for firing angle delay=0deg\")\n",
      "print(\"commutation time=%.2f ms\" %(t_c1*1000))\n",
      "print(\"peak reverse voltage=%.2f V\" %(math.sqrt(2)*V))\n",
      "print(\"for firing angle delay=30deg\")\n",
      "print(\"commutation time=%.2f ms\" %(t_c2*1000))\n",
      "print(\"peak reverse voltage=%.2f V\" %(math.sqrt(2)*V))\n"
     ],
     "language": "python",
     "metadata": {},
     "outputs": [
      {
       "output_type": "stream",
       "stream": "stdout",
       "text": [
        "for firing angle delay=0deg\n",
        "commutation time=13.33 ms\n",
        "peak reverse voltage=325.27 V\n",
        "for firing angle delay=30deg\n",
        "commutation time=11.67 ms\n",
        "peak reverse voltage=325.27 V\n"
       ]
      }
     ],
     "prompt_number": 15
    },
    {
     "cell_type": "heading",
     "level": 2,
     "metadata": {},
     "source": [
      "Example 6.19, Page No 333"
     ]
    },
    {
     "cell_type": "code",
     "collapsed": false,
     "input": [
      "import math\n",
      "#initialisation of variables\n",
      "a=30.0\n",
      "R=10.0\n",
      "P=5000.0\n",
      "\n",
      "#Calculations\n",
      "V_s=math.sqrt(P*R*2*math.pi/(2*3)/(math.pi/3+math.sqrt(3)*math.cos(math.radians(2*a))/2))\n",
      "V_ph=V_s/math.sqrt(3)    \n",
      "I_or=math.sqrt(P*R)\n",
      "V_s=I_or*math.pi/(math.sqrt(2)*3*math.cos(math.radians(a)))\n",
      "V_ph=V_s/math.sqrt(3) \n",
      "\n",
      "#Results\n",
      "print(\"per phase voltage percent V_ph=%.3f V\" %V_ph)   \n",
      "print(\"for constant load current\")\n",
      "print(\"V_ph=%.2f V\" %V_ph)"
     ],
     "language": "python",
     "metadata": {},
     "outputs": [
      {
       "output_type": "stream",
       "stream": "stdout",
       "text": [
        "per phase voltage percent V_ph=110.384 V\n",
        "for constant load current\n",
        "V_ph=110.38 V\n"
       ]
      }
     ],
     "prompt_number": 16
    },
    {
     "cell_type": "heading",
     "level": 2,
     "metadata": {},
     "source": [
      "Example 6.20, Page No 334"
     ]
    },
    {
     "cell_type": "code",
     "collapsed": false,
     "input": [
      "import math\n",
      "#initialisation of variables\n",
      "a=30.0\n",
      "R=10.0\n",
      "P=5000.0\n",
      "\n",
      "#Calculations\n",
      "V_s=math.sqrt(P*R*4*math.pi/(2*3)/(2*math.pi/3+math.sqrt(3)*(1+math.cos(math.radians(2*a)))/2))\n",
      "V_ph=V_s/math.sqrt(3)    \n",
      "I_or=math.sqrt(P*R)\n",
      "V_s=I_or*2*math.pi/(math.sqrt(2)*3*(1+math.cos(math.radians(a))))\n",
      "V_ph=V_s/math.sqrt(3)   \n",
      "\n",
      "#Results\n",
      "print(\"per phase voltage percent V_ph=%.3f V\" %V_ph) \n",
      "print(\"for constant load current\")\n",
      "print(\"V_ph=%.2f V\" %V_ph)"
     ],
     "language": "python",
     "metadata": {},
     "outputs": [
      {
       "output_type": "stream",
       "stream": "stdout",
       "text": [
        "per phase voltage percent V_ph=102.459 V\n",
        "for constant load current\n",
        "V_ph=102.46 V\n"
       ]
      }
     ],
     "prompt_number": 17
    },
    {
     "cell_type": "heading",
     "level": 2,
     "metadata": {},
     "source": [
      "Example 6.21, Page No 334"
     ]
    },
    {
     "cell_type": "code",
     "collapsed": false,
     "input": [
      "import math\n",
      "#initialisation of variables\n",
      "a=90.0\n",
      "R=10.0\n",
      "P=5000.0\n",
      "\n",
      "#Calculations\n",
      "V_s=math.sqrt(P*R*4*math.pi/(2*3)/((math.pi-math.pi/2)+(math.sin(math.radians(2*a)))/2))\n",
      "V_ph=V_s/math.sqrt(3)    \n",
      "I_or=math.sqrt(P*R)\n",
      "V_s=I_or*2*math.pi/(math.sqrt(2)*3*(1+math.cos(math.radians(a))))\n",
      "V_ph=V_s/math.sqrt(3)    \n",
      "\n",
      "#Results\n",
      "print(\"per phase voltage percent V_ph=%.2f V\" %V_ph)\n",
      "print(\"for constant load current\")\n",
      "print(\"V_ph=%.1f V\" %V_ph)"
     ],
     "language": "python",
     "metadata": {},
     "outputs": [
      {
       "output_type": "stream",
       "stream": "stdout",
       "text": [
        "per phase voltage percent V_ph=191.19 V\n",
        "for constant load current\n",
        "V_ph=191.2 V\n"
       ]
      }
     ],
     "prompt_number": 18
    },
    {
     "cell_type": "heading",
     "level": 2,
     "metadata": {},
     "source": [
      "Example 6.22 Page No 334"
     ]
    },
    {
     "cell_type": "code",
     "collapsed": false,
     "input": [
      "import math\n",
      "#initialisation of variables\n",
      "E=200.0\n",
      "I_o=20.0\n",
      "R=.5\n",
      "\n",
      "#Calculations\n",
      "V_o=E+I_o*R\n",
      "V_s=230\n",
      "V_ml=math.sqrt(2)*V_s\n",
      "a=math.degrees(math.acos(V_o*2*math.pi/(3*V_ml)-1))  \n",
      "a1=180-a\n",
      "I_sr=math.sqrt((1/math.pi)*I_o**2*(a1*math.pi/180))\n",
      "P=V_o*I_o\n",
      "pf=P/(math.sqrt(3)*V_s*I_sr)   \n",
      "\n",
      "#Results\n",
      "print(\"firing angle delay=%.2f deg\" %a)\n",
      "print(\"pf=%.2f\" %pf)"
     ],
     "language": "python",
     "metadata": {},
     "outputs": [
      {
       "output_type": "stream",
       "stream": "stdout",
       "text": [
        "firing angle delay=69.38 deg\n",
        "pf=0.67\n"
       ]
      }
     ],
     "prompt_number": 19
    },
    {
     "cell_type": "heading",
     "level": 2,
     "metadata": {},
     "source": [
      "Example 6.23, Page No 335"
     ]
    },
    {
     "cell_type": "code",
     "collapsed": false,
     "input": [
      "import math\n",
      "#initialisation of variables\n",
      "V_s=400.0\n",
      "f=50.0\n",
      "I_o=15.0\n",
      "a=45.0\n",
      "\n",
      "#Calculations\n",
      "I_TA=I_o*120.0/360.0\n",
      "I_Tr=math.sqrt(I_o**2*120/360)\n",
      "I_sr=math.sqrt(I_o**2*120/180)\n",
      "V_ml=math.sqrt(2)*V_s\n",
      "V_o=3*V_ml*math.cos(math.radians(a))/math.pi\n",
      "V_or=V_ml*math.sqrt((3/(2*math.pi))*(math.pi/3+math.sqrt(3/2)*math.cos(math.radians(2*a))))\n",
      "I_or=I_o\n",
      "P_dc=V_o*I_o\n",
      "P_ac=V_or*I_or\n",
      "RE=P_dc/P_ac    \n",
      "VA=3*V_s/math.sqrt(3)*I_sr\n",
      "TUF=P_dc/VA    \n",
      "pf=P_ac/VA    \n",
      "\n",
      "#Results\n",
      "print(\"rectification efficiency=%.5f\" %RE)\n",
      "print(\"TUF=%.4f\" %TUF)\n",
      "print(\"Input pf=%.3f\" %pf)"
     ],
     "language": "python",
     "metadata": {},
     "outputs": [
      {
       "output_type": "stream",
       "stream": "stdout",
       "text": [
        "rectification efficiency=0.95493\n",
        "TUF=0.6752\n",
        "Input pf=0.707\n"
       ]
      }
     ],
     "prompt_number": 20
    },
    {
     "cell_type": "heading",
     "level": 2,
     "metadata": {},
     "source": [
      "Example 6.24, Page No 341"
     ]
    },
    {
     "cell_type": "code",
     "collapsed": false,
     "input": [
      "import math\n",
      "#initialisation of variables\n",
      "I=10.0\n",
      "a=45.0\n",
      "V=400.0\n",
      "f=50.0\n",
      "\n",
      "#Calculations\n",
      "DF=math.cos(math.radians(a))\n",
      "I_o=10\n",
      "I_s1=4*I_o/(math.sqrt(2)*math.pi)*math.sin(math.pi/3)\n",
      "I_sr=I_o*math.sqrt(2.0/3.0)\n",
      "I_o=1     #suppose\n",
      "CDF=I_s1/I_sr    \n",
      "THD=math.sqrt(1/CDF**2-1)    \n",
      "pf=CDF*DF    \n",
      "P=(3*math.sqrt(2)*V*math.cos(math.radians(a))/math.pi)*I\n",
      "Q=(3*math.sqrt(2)*V*math.sin(math.radians(a))/math.pi)*I  \n",
      "   \n",
      "#Results\n",
      "print(\"DF=%.3f\" %DF)\n",
      "print(\"CDF=%.3f\" %CDF)\n",
      "print(\"THD=%.5f\" %THD)\n",
      "print(\"PF=%.4f\" %pf)\n",
      "print(\"active power=%.2f W\" %P)  \n",
      "print(\"reactive power=%.2f Var\" %Q)\n"
     ],
     "language": "python",
     "metadata": {},
     "outputs": [
      {
       "output_type": "stream",
       "stream": "stdout",
       "text": [
        "DF=0.707\n",
        "CDF=0.955\n",
        "THD=0.31084\n",
        "PF=0.6752\n",
        "active power=3819.72 W\n",
        "reactive power=3819.72 Var\n"
       ]
      }
     ],
     "prompt_number": 21
    },
    {
     "cell_type": "heading",
     "level": 2,
     "metadata": {},
     "source": [
      "Example 6.25, Page No 342"
     ]
    },
    {
     "cell_type": "code",
     "collapsed": false,
     "input": [
      "import math\n",
      "#initialisation of variables\n",
      "print(\"for firing angle=30deg\")\n",
      "a=30.0\n",
      "V=400.0\n",
      "V_ml=math.sqrt(2)*V\n",
      "V_o=3*V_ml*math.cos(math.radians(a))/math.pi\n",
      "E=350\n",
      "R=10\n",
      "\n",
      "#Calculations\n",
      "I_o=(V_o-E)/R\n",
      "I_or=I_o\n",
      "P1=V_o*I_o    \n",
      "I_sr=I_o*math.sqrt(2.0/3.0)\n",
      "VA=3*V/math.sqrt(3)*I_sr\n",
      "pf=P1/VA \n",
      "a=180-60\n",
      "V=400\n",
      "V_ml=math.sqrt(2)*V\n",
      "V_o=3*V_ml*math.cos(math.radians(a))/math.pi\n",
      "E=-350\n",
      "R=10\n",
      "I_o=(V_o-E)/R\n",
      "I_or=I_o\n",
      "P2=-V_o*I_o    \n",
      "I_sr=I_o*math.sqrt(2.0/3.0)\n",
      "VA=3*V/math.sqrt(3)*I_sr\n",
      "pf=P2/VA       \n",
      "\n",
      "print(\"power delivered to load=%.2f W\" %P1)\n",
      "print(\"pf=%.4f\" %pf)\n",
      "print(\"for firing advance angle=60deg\")\n",
      "print(\"power delivered to load=%.2f W\" %P2)\n",
      "print(\"pf=%.4f\" %pf)\n",
      " #Answers have small variations from that in the book due to difference in the rounding off of digits.\n"
     ],
     "language": "python",
     "metadata": {},
     "outputs": [
      {
       "output_type": "stream",
       "stream": "stdout",
       "text": [
        "for firing angle=30deg\n",
        "power delivered to load=5511.74 W\n",
        "pf=0.4775\n",
        "for firing advance angle=60deg\n",
        "power delivered to load=2158.20 W\n",
        "pf=0.4775\n"
       ]
      }
     ],
     "prompt_number": 22
    },
    {
     "cell_type": "heading",
     "level": 2,
     "metadata": {},
     "source": [
      "Example 6.26, Page No 347"
     ]
    },
    {
     "cell_type": "code",
     "collapsed": false,
     "input": [
      "import math\n",
      "#initialisation of variables\n",
      "a=0\n",
      "u=15.0\n",
      "\n",
      "#Calculations\n",
      "i=math.cos(math.radians(a))-math.cos(math.radians(a+u))\n",
      "a=30\n",
      "u=math.degrees(math.acos(math.cos(math.radians(a))-i))-a  \n",
      "a=45\n",
      "u=math.degrees(math.acos(math.cos(math.radians(a))-i))-a    \n",
      "a=60\n",
      "u=math.degrees(math.acos(math.cos(math.radians(a))-i))-a  \n",
      "\n",
      "#Results\n",
      "print(\"for firing angle=30deg\") \n",
      "print(\"overlap angle=%.1f deg\" %u)\n",
      "print(\"for firing angle=45deg\")  \n",
      "print(\"overlap angle=%.1f deg\" %u)\n",
      "print(\"for firing angle=60deg\") \n",
      "print(\"overlap angle=%.2f deg\" %u)\n"
     ],
     "language": "python",
     "metadata": {},
     "outputs": [
      {
       "output_type": "stream",
       "stream": "stdout",
       "text": [
        "for firing angle=30deg\n",
        "overlap angle=2.2 deg\n",
        "for firing angle=45deg\n",
        "overlap angle=2.2 deg\n",
        "for firing angle=60deg\n",
        "overlap angle=2.23 deg\n"
       ]
      }
     ],
     "prompt_number": 23
    },
    {
     "cell_type": "heading",
     "level": 2,
     "metadata": {},
     "source": [
      "Example 6.28, Page No 352"
     ]
    },
    {
     "cell_type": "code",
     "collapsed": false,
     "input": [
      "import math\n",
      "#initialisation of variables\n",
      "E=400.0\n",
      "I_o=20.0\n",
      "R=1\n",
      "\n",
      "#Calculations\n",
      "V_o=E+I_o*R\n",
      "f=50.0\n",
      "w=2*math.pi*f\n",
      "L=.004\n",
      "V=230 #per phase voltage\n",
      "V_ml=math.sqrt(6)*V\n",
      "a=math.degrees(math.acos(math.pi/(3*V_ml)*(V_o+3*w*L*I_o/math.pi)))   \n",
      "print(\"firing angle delay=%.3f deg\" %a)\n",
      "u=math.degrees(math.acos(math.pi/(3*V_ml)*(V_o-3*w*L*I_o/math.pi)))-a    \n",
      "\n",
      "#Results\n",
      "print(\"overlap angle=%.2f deg\" %u)\n",
      "#Answers have small variations from that in the book due to difference in the rounding off of digits."
     ],
     "language": "python",
     "metadata": {},
     "outputs": [
      {
       "output_type": "stream",
       "stream": "stdout",
       "text": [
        "firing angle delay=34.382 deg\n",
        "overlap angle=8.22 deg\n"
       ]
      }
     ],
     "prompt_number": 24
    },
    {
     "cell_type": "heading",
     "level": 2,
     "metadata": {},
     "source": [
      "Example 6.29, Page No 352"
     ]
    },
    {
     "cell_type": "code",
     "collapsed": false,
     "input": [
      "import math\n",
      "#initialisation of variables\n",
      "V=400.0\n",
      "f=50.0\n",
      "w=2*math.pi*f\n",
      "R=1\n",
      "E=230\n",
      "I=15.0\n",
      "\n",
      "#Calculations\n",
      "V_o=-E+I*R\n",
      "V_ml=math.sqrt(2)*V\n",
      "a=math.degrees(math.acos(V_o*2*math.pi/(3*V_ml)))  \n",
      "L=0.004\n",
      "a=math.degrees(math.acos((2*math.pi)/(3*V_ml)*(V_o+3*w*L*I/(2*math.pi))))  \n",
      "u=math.degrees(math.acos(math.cos(math.radians(a))-3*f*L*I/V_ml))-a    \n",
      "\n",
      "#Results\n",
      "print(\"firing angle=%.3f deg\" %a)\n",
      "print(\"firing angle delay=%.3f deg\" %a)\n",
      "print(\"overlap angle=%.3f deg\" %u)\n",
      " #Answers have small variations from that in the book due to difference in the rounding off of digits.\n",
      " \n"
     ],
     "language": "python",
     "metadata": {},
     "outputs": [
      {
       "output_type": "stream",
       "stream": "stdout",
       "text": [
        "firing angle=139.702 deg\n",
        "firing angle delay=139.702 deg\n",
        "overlap angle=1.431 deg\n"
       ]
      }
     ],
     "prompt_number": 25
    },
    {
     "cell_type": "heading",
     "level": 2,
     "metadata": {},
     "source": [
      "Example 6.31, Page No 361"
     ]
    },
    {
     "cell_type": "code",
     "collapsed": false,
     "input": [
      "import math\n",
      "#initialisation of variables\n",
      "V=230.0 #per phase\n",
      "f=50.0\n",
      "\n",
      "#Calculations\n",
      "V_ml=math.sqrt(3.0)*math.sqrt(2)*V\n",
      "w=2*math.pi*f\n",
      "a1=60.0\n",
      "L=0.015\n",
      "i_cp=(math.sqrt(3)*V_ml/(w*L))*(1-math.sin(math.radians(a1)))    \n",
      "\n",
      "#Results\n",
      "print(\"circulating current=%.4f A\" %i_cp)"
     ],
     "language": "python",
     "metadata": {},
     "outputs": [
      {
       "output_type": "stream",
       "stream": "stdout",
       "text": [
        "circulating current=27.7425 A\n"
       ]
      }
     ],
     "prompt_number": 26
    },
    {
     "cell_type": "heading",
     "level": 2,
     "metadata": {},
     "source": [
      "Example 6.32, Page No 362"
     ]
    },
    {
     "cell_type": "code",
     "collapsed": false,
     "input": [
      "import math\n",
      "#initialisation of variables\n",
      "V=230.0\n",
      "V_m=math.sqrt(2)*V\n",
      "a=30.0\n",
      "\n",
      "#Calculations\n",
      "V_o=2*V_m* math.cos(math.radians(a))/math.pi    \n",
      "R=10\n",
      "I_o=V_o/R    \n",
      "I_TA=I_o*math.pi/(2*math.pi)    \n",
      "I_Tr=math.sqrt(I_o**2*math.pi/(2*math.pi))    \n",
      "I_s=math.sqrt(I_o**2*math.pi/(math.pi)) \n",
      "I_o=I_s\n",
      "pf=(V_o*I_o/(V*I_s))    \n",
      "\n",
      "#Results\n",
      "print(\"avg o/p voltage=%.3f V\" %V_o)\n",
      "print(\"avg o/p current=%.2f A\" %I_o)\n",
      "print(\"avg value of thyristor current=%.3f A\" %I_TA)\n",
      "print(\"rms value of thyristor current=%.2f A\" %I_Tr)\n",
      "print(\"pf=%.4f\" %pf)\n",
      " #Answers have small variations from that in the book due to difference in the rounding off of digits.\n",
      " \n",
      " \n"
     ],
     "language": "python",
     "metadata": {},
     "outputs": [
      {
       "output_type": "stream",
       "stream": "stdout",
       "text": [
        "avg o/p voltage=179.330 V\n",
        "avg o/p current=17.93 A\n",
        "avg value of thyristor current=8.967 A\n",
        "rms value of thyristor current=12.68 A\n",
        "pf=0.7797\n"
       ]
      }
     ],
     "prompt_number": 27
    },
    {
     "cell_type": "heading",
     "level": 2,
     "metadata": {},
     "source": [
      "Example 6.33, Page No 363"
     ]
    },
    {
     "cell_type": "code",
     "collapsed": false,
     "input": [
      "import math\n",
      "#initialisation of variables\n",
      "V=230.0\n",
      "V_m=math.sqrt(2)*V\n",
      "a=30.0\n",
      "L=.0015\n",
      "\n",
      "#Calculations\n",
      "V_o=2*V_m* math.cos(math.radians(a))/math.pi  \n",
      "R=10\n",
      "I_o=V_o/R  \n",
      "f=50\n",
      "w=2*math.pi*f\n",
      "V_ox=2*V_m*math.cos(math.radians(a))/math.pi-w*L*I_o/math.pi    \n",
      "u=math.degrees(math.acos(math.cos(math.radians(a))-I_o*w*L/V_m))-a    \n",
      "I=I_o\n",
      "pf=V_o*I_o/(V*I)    \n",
      "\n",
      "#Results\n",
      "print(\"avg o/p voltage=%.3f V\" %V_ox)\n",
      "print(\"angle of overlap=%.3f deg\" %u)\n",
      "print(\"pf=%.4f\" %pf)\n",
      " #Answers have small variations from that in the book due to difference in the rounding off of digits."
     ],
     "language": "python",
     "metadata": {},
     "outputs": [
      {
       "output_type": "stream",
       "stream": "stdout",
       "text": [
        "avg o/p voltage=176.640 V\n",
        "angle of overlap=2.855 deg\n",
        "pf=0.7797\n"
       ]
      }
     ],
     "prompt_number": 28
    },
    {
     "cell_type": "heading",
     "level": 2,
     "metadata": {},
     "source": [
      "Example 6.34, Page No 364"
     ]
    },
    {
     "cell_type": "code",
     "collapsed": false,
     "input": [
      "import math\n",
      "#initialisation of variables\n",
      "V=415.0\n",
      "V_ml=math.sqrt(2)*V\n",
      "a1=35.0 #firing angle advance\n",
      "\n",
      "#Calculations\n",
      "a=180-a1\n",
      "I_o=80.0\n",
      "r_s=0.04\n",
      "v_T=1.5\n",
      "X_l=.25 #reactance=w*L\n",
      "E=-3*V_ml*math.cos(math.radians(a))/math.pi+2*I_o*r_s+2*v_T+3*X_l*I_o/math.pi    \n",
      "\n",
      "#Results\n",
      "print(\"mean generator voltage=%.3f V\" %E)"
     ],
     "language": "python",
     "metadata": {},
     "outputs": [
      {
       "output_type": "stream",
       "stream": "stdout",
       "text": [
        "mean generator voltage=487.590 V\n"
       ]
      }
     ],
     "prompt_number": 29
    },
    {
     "cell_type": "heading",
     "level": 2,
     "metadata": {},
     "source": [
      "Example 6.35, Page No 364"
     ]
    },
    {
     "cell_type": "code",
     "collapsed": false,
     "input": [
      "import math\n",
      "#initialisation of variables\n",
      "V=415.0\n",
      "V_ml=math.sqrt(2)*V\n",
      "R=0.2\n",
      "I_o=80\n",
      "r_s=0.04\n",
      "v_T=1.5\n",
      "\n",
      "#Calculations\n",
      "X_l=.25 #reactance=w*L\n",
      "a=35\n",
      "E=-(-3*V_ml*math.cos(math.radians(a))/math.pi+I_o*R+2*I_o*r_s+2*v_T+3*X_l*I_o/math.pi)    \n",
      "a1=35\n",
      "a=180-a1\n",
      "E=(-3*V_ml*math.cos(math.radians(a))/math.pi+I_o*R+2*I_o*r_s+2*v_T+3*X_l*I_o/math.pi) \n",
      "\n",
      "#Results\n",
      "print(\"when firing angle=35deg\")   \n",
      "print(\"mean generator voltage=%.3f V\" %E)\n",
      "print(\"when firing angle advance=35deg\")\n",
      "print(\"mean generator voltage=%.3f V\" %E)"
     ],
     "language": "python",
     "metadata": {},
     "outputs": [
      {
       "output_type": "stream",
       "stream": "stdout",
       "text": [
        "when firing angle=35deg\n",
        "mean generator voltage=503.590 V\n",
        "when firing angle advance=35deg\n",
        "mean generator voltage=503.590 V\n"
       ]
      }
     ],
     "prompt_number": 30
    },
    {
     "cell_type": "heading",
     "level": 2,
     "metadata": {},
     "source": [
      "Example 6.36, Page No 365"
     ]
    },
    {
     "cell_type": "code",
     "collapsed": false,
     "input": [
      "import math\n",
      "#initialisation of variables\n",
      "R=5.0\n",
      "V=230.0\n",
      "\n",
      "#Calculations\n",
      "V_mp=math.sqrt(2)*V\n",
      "a=30.0\n",
      "E=150.0\n",
      "B=180-math.degrees(math.asin(E/V_mp))\n",
      "I_o=(3/(2*math.pi*R))*(V_mp*(math.cos(math.radians(a+30))-math.cos(math.radians(B)))-E*((B-a-30)*math.pi/180))\n",
      "\n",
      "#Results\n",
      "print(\"avg current flowing=%.2f A\" %I_o)"
     ],
     "language": "python",
     "metadata": {},
     "outputs": [
      {
       "output_type": "stream",
       "stream": "stdout",
       "text": [
        "avg current flowing=19.96 A\n"
       ]
      }
     ],
     "prompt_number": 31
    },
    {
     "cell_type": "heading",
     "level": 2,
     "metadata": {},
     "source": [
      "Example 6.37, Page No 366"
     ]
    },
    {
     "cell_type": "code",
     "collapsed": false,
     "input": [
      "import math\n",
      "#initialisation of variables\n",
      "a=30.0\n",
      "V=230.0\n",
      "\n",
      "#Calculations\n",
      "V_m=math.sqrt(2)*V\n",
      "V_o=V_m*(1+math.cos(math.radians(a)))/math.pi    \n",
      "E=100\n",
      "R=10\n",
      "I_o=(V_o-E)/R    \n",
      "I_TA=I_o*math.pi/(2*math.pi)    \n",
      "I_Tr=math.sqrt(I_o**2*math.pi/(2*math.pi))    \n",
      "I_s=math.sqrt(I_o**2*(1-a/180)*math.pi/(math.pi))\n",
      "I_or=I_o\n",
      "P=E*I_o+I_or**2*R\n",
      "pf=(P/(V*I_s))   \n",
      "f=50\n",
      "w=2*math.pi*f\n",
      "t_c=(1-a/180)*math.pi/w    \n",
      "\n",
      "#Results\n",
      "print(\"\\navg o/p current=%.2f A\" %I_o)\n",
      "print(\"avg o/p voltage=%.3f V\" %V_o)\n",
      "print(\"avg value of thyristor current=%.2f A\" %I_TA)\n",
      "print(\"rms value of thyristor current=%.3f A\" %I_Tr)\n",
      "print(\"avg value of diode current=%.2f A\" %I_TA)\n",
      "print(\"rms value of diode current=%.3f A\" %I_Tr)\n",
      "print(\"pf=%.4f\" %pf)\n",
      "print(\"circuit turn off time=%.2f ms\" %(t_c*1000))"
     ],
     "language": "python",
     "metadata": {},
     "outputs": [
      {
       "output_type": "stream",
       "stream": "stdout",
       "text": [
        "\n",
        "avg o/p current=9.32 A\n",
        "avg o/p voltage=193.202 V\n",
        "avg value of thyristor current=4.66 A\n",
        "rms value of thyristor current=6.590 A\n",
        "avg value of diode current=4.66 A\n",
        "rms value of diode current=6.590 A\n",
        "pf=0.9202\n",
        "circuit turn off time=8.33 ms\n"
       ]
      }
     ],
     "prompt_number": 32
    },
    {
     "cell_type": "heading",
     "level": 2,
     "metadata": {},
     "source": [
      "Example 6.38, Page No 368"
     ]
    },
    {
     "cell_type": "code",
     "collapsed": false,
     "input": [
      "import math\n",
      "#initialisation of variables\n",
      "V=230.0\n",
      "V_m=math.sqrt(2)*V\n",
      "L=0.05\n",
      "f=50.0\n",
      "\n",
      "#Calculations\n",
      "w=2*math.pi*f\n",
      "a=30\n",
      "i_cp=2*V_m*(1-math.cos(math.radians(a)))/(w*L)    \n",
      "R=30.0\n",
      "i_l=V_m/R\n",
      "i1=i_cp+i_l    \n",
      "i2=i_cp    \n",
      "\n",
      "#Results\n",
      "print(\"peak value of circulating current=%.3f A\" %i_cp)\n",
      "print(\"peak value of current in convertor 1=%.3f A\" %i1)\n",
      "print(\"peak value of current in convertor 2=%.3f A\" %i2)\n"
     ],
     "language": "python",
     "metadata": {},
     "outputs": [
      {
       "output_type": "stream",
       "stream": "stdout",
       "text": [
        "peak value of circulating current=5.548 A\n",
        "peak value of current in convertor 1=16.391 A\n",
        "peak value of current in convertor 2=5.548 A\n"
       ]
      }
     ],
     "prompt_number": 33
    },
    {
     "cell_type": "heading",
     "level": 2,
     "metadata": {},
     "source": [
      "Example 6.39, Page No 370"
     ]
    },
    {
     "cell_type": "code",
     "collapsed": false,
     "input": [
      "import math\n",
      "#initialisation of variables\n",
      "f=50.0\n",
      "w=2*math.pi*f\n",
      "R=5.0\n",
      "L=0.05\n",
      "\n",
      "#Calculations\n",
      "phi=math.degrees(math.atan(w*L/R))  \n",
      "phi=90+math.degrees(math.atan(w*L/R))   \n",
      "\n",
      "#Results\n",
      "print(\"for no current transients\")\n",
      "print(\"triggering angle=%.2f deg\" %phi)\n",
      "print(\"for worst transients\")\n",
      "print(\"triggering angle=%.2f deg\" %phi)"
     ],
     "language": "python",
     "metadata": {},
     "outputs": [
      {
       "output_type": "stream",
       "stream": "stdout",
       "text": [
        "for no current transients\n",
        "triggering angle=162.34 deg\n",
        "for worst transients\n",
        "triggering angle=162.34 deg\n"
       ]
      }
     ],
     "prompt_number": 34
    }
   ],
   "metadata": {}
  }
 ]
}