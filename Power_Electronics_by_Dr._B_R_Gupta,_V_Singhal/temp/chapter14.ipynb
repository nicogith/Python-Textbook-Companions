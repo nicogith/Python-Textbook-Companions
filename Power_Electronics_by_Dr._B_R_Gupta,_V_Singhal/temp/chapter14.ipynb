{
 "metadata": {
  "name": ""
 },
 "nbformat": 3,
 "nbformat_minor": 0,
 "worksheets": [
  {
   "cells": [
    {
     "cell_type": "heading",
     "level": 1,
     "metadata": {},
     "source": [
      "Chapter 14 : Miscellaneous Topics"
     ]
    },
    {
     "cell_type": "heading",
     "level": 2,
     "metadata": {},
     "source": [
      "Example 14.1, Page No 777"
     ]
    },
    {
     "cell_type": "code",
     "collapsed": false,
     "input": [
      "import math\n",
      "#initialisation of variables\n",
      "V_s=230.0\n",
      "V_m=math.sqrt(2)*V_s\n",
      "a1=0\n",
      "a2=45.0\n",
      "\n",
      "#Calculations\n",
      "print(\"for two single phase series semiconvertors\")\n",
      "V_0=V_m/math.pi*(2+math.cos(math.radians(a1))+math.cos(math.radians(a2)))    \n",
      "print(\"avg o/p voltage=%.2f V\" %V_0)\n",
      "V_or=V_s*math.sqrt((1/math.pi)*(4*math.pi-3*a2*math.pi/180+(3/2)*math.sin(math.radians(2*a2))))    \n",
      "print(\"rms value of o/p voltage=%.2f V\" %V_or)\n",
      "DF=(3+math.cos(math.radians(a2)))/(math.sqrt(2)*math.sqrt(5+3*math.cos(math.radians(a2))))    \n",
      "print(\"DF=%.2f\" %DF)\n",
      "PF=math.sqrt(2/math.pi)*(3+math.cos(math.radians(a2)))/math.sqrt(4*math.pi-3*a2*math.pi/180)    \n",
      "print(\"PF=%.2f\" %PF)\n",
      "HF=math.sqrt((math.pi*(math.pi-(3/4)*a2*math.pi/180)/(5+3*math.cos(math.radians(a2))))-1)    \n",
      "print(\"HF=%.2f\" %HF)\n",
      "print(\"for two single phase series full convertors\")\n",
      "a=45.0\n",
      "V_0=2*V_m/math.pi*(1+math.cos(math.radians(a)))    \n",
      "print(\"avg o/p voltage=%.2f V\" %V_0)\n",
      "V_or=2*V_s*math.sqrt((1/math.pi)*(math.pi-a2*math.pi/180+(1/2)*math.sin(math.radians(2*a2))))    \n",
      "print(\"rms value of o/p voltage=%.2f V\" %V_or)\n",
      "DF=math.cos(math.radians(a2/2)) \n",
      "\n",
      "\n",
      "#Results   \n",
      "print(\"DF=%.2f\" %DF)\n",
      "PF=math.sqrt(2/(math.pi*(math.pi-a2*math.pi/180)))*(1+math.cos(math.radians(a2)))    \n",
      "print(\"PF=%.2f\" %PF)\n",
      "HF=math.sqrt((math.pi*(math.pi-a2*math.pi/180)/(4+4*math.cos(math.radians(a2))))-1)    \n",
      "print(\"HF=%.2f\" %HF)"
     ],
     "language": "python",
     "metadata": {},
     "outputs": [
      {
       "output_type": "stream",
       "stream": "stdout",
       "text": [
        "for two single phase series semiconvertors\n",
        "avg o/p voltage=383.82 V\n",
        "rms value of o/p voltage=434.47 V\n",
        "DF=0.98\n",
        "PF=0.93\n",
        "HF=0.62\n",
        "for two single phase series full convertors\n",
        "avg o/p voltage=353.50 V\n",
        "rms value of o/p voltage=398.37 V\n",
        "DF=0.92\n",
        "PF=0.89\n",
        "HF=0.29\n"
       ]
      }
     ],
     "prompt_number": 1
    }
   ],
   "metadata": {}
  }
 ]
}