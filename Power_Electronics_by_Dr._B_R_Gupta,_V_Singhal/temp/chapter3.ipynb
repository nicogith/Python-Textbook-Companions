{
 "metadata": {
  "name": ""
 },
 "nbformat": 3,
 "nbformat_minor": 0,
 "worksheets": [
  {
   "cells": [
    {
     "cell_type": "heading",
     "level": 1,
     "metadata": {},
     "source": [
      "Chapter 03 : Diode Circuits and Rectifiers"
     ]
    },
    {
     "cell_type": "heading",
     "level": 2,
     "metadata": {},
     "source": [
      "Example 3.2, Page No 55"
     ]
    },
    {
     "cell_type": "code",
     "collapsed": false,
     "input": [
      "import math\n",
      "#initialisation of variables\n",
      "V_s=400.0  #V\n",
      "V_o=100.0    #V\n",
      "L=100.0      #uH\n",
      "C=30.0       #uF\n",
      "\n",
      "#Calculations\n",
      "t_o=math.pi*math.sqrt(L*C)\n",
      "print(\"conduction time of diode = %.2f us\" %t_o)\n",
      "#in book solution is t_o=54.77 us. The ans is incorrect as %pi is not muliplied in ans. Formulae mentioned in correct.\n",
      "I_p=(V_s-V_o)*math.sqrt(C/L)\n",
      "\n",
      "#Results\n",
      "print(\"Peak current through diode=%.2f A\" %I_p)\n",
      "v_D=-V_s+V_o \n",
      "print(\"Voltage across diode = %.2f V\" %v_D)"
     ],
     "language": "python",
     "metadata": {},
     "outputs": [
      {
       "output_type": "stream",
       "stream": "stdout",
       "text": [
        "conduction time of diode = 172.07 us\n",
        "Peak current through diode=164.32 A\n",
        "Voltage across diode = -300.00 V\n"
       ]
      }
     ],
     "prompt_number": 26
    },
    {
     "cell_type": "heading",
     "level": 2,
     "metadata": {},
     "source": [
      "Example 3.6, Page No 61"
     ]
    },
    {
     "cell_type": "code",
     "collapsed": false,
     "input": [
      "import math\n",
      "\n",
      "#initialisation of variables\n",
      "\n",
      "R=10             #ohm\n",
      "L=0.001           #H\n",
      "C=5*10**-6       #F\n",
      "V_s=230          #V\n",
      "xi=R/(2*L)\n",
      "\n",
      "#Calculations\n",
      "w_o=1/math.sqrt(L*C)\n",
      "w_r=math.sqrt((1/(L*C))-(R/(2*L))**2)\n",
      "t=math.pi/w_r \n",
      "\n",
      "#Results\n",
      "print('Conduction time of diode=%.3f us'%(t*10**6))\n",
      "t=0\n",
      "di=V_s/L\n",
      "print('Rate of change of current at t=0 is %.2f A/s' %di)"
     ],
     "language": "python",
     "metadata": {},
     "outputs": [
      {
       "output_type": "stream",
       "stream": "stdout",
       "text": [
        "Conduction time of diode=237.482 us\n",
        "Rate of change of current at t=0 is 230000.00 A/s\n"
       ]
      }
     ],
     "prompt_number": 27
    },
    {
     "cell_type": "heading",
     "level": 2,
     "metadata": {},
     "source": [
      "Example 3.7 Page No 69"
     ]
    },
    {
     "cell_type": "code",
     "collapsed": false,
     "input": [
      "import math\n",
      "\n",
      "#initialisation of variables\n",
      "I_or=100             #A\n",
      "R=1.0       #assumption\n",
      "\n",
      "#Calculations\n",
      "V_m=I_or*2*R\n",
      "I_o=V_m/(math.pi*R)\n",
      "q=200       #Ah\n",
      "t=q/I_o\n",
      "\n",
      "#Results\n",
      "print(\"time required to deliver charge=%.02f hrs\" %t)"
     ],
     "language": "python",
     "metadata": {},
     "outputs": [
      {
       "output_type": "stream",
       "stream": "stdout",
       "text": [
        "time required to deliver charge=3.14 hrs\n"
       ]
      }
     ],
     "prompt_number": 28
    },
    {
     "cell_type": "heading",
     "level": 2,
     "metadata": {},
     "source": [
      "Example 3.8, Page No 70"
     ]
    },
    {
     "cell_type": "code",
     "collapsed": false,
     "input": [
      "import math\n",
      "#initialisation of variables\n",
      "V_s=230.0    #V\n",
      "P=1000       #W\n",
      "R=V_s**2/P\n",
      "\n",
      "#Calculations\n",
      "V_or=math.sqrt(2)*V_s/2\n",
      "P_h=V_or**2/R    \n",
      "print(\"Power delivered to the heater = %.2f W\" %P_h)\n",
      "V_m=math.sqrt(2)*230\n",
      "I_m=V_m/R\n",
      "\n",
      "#Results\n",
      "print(\"Peak value of diode current = %.2f A\" %I_m)\n",
      "pf=V_or/V_s\n",
      "print(\"Input power factor=%.2f\" %pf)\n"
     ],
     "language": "python",
     "metadata": {},
     "outputs": [
      {
       "output_type": "stream",
       "stream": "stdout",
       "text": [
        "Power delivered to the heater = 500.00 W\n",
        "Peak value of diode current = 6.15 A\n",
        "Input power factor=0.71\n"
       ]
      }
     ],
     "prompt_number": 29
    },
    {
     "cell_type": "heading",
     "level": 2,
     "metadata": {},
     "source": [
      "Example 3.9 Page No 71"
     ]
    },
    {
     "cell_type": "code",
     "collapsed": false,
     "input": [
      "import math\n",
      "#initialisation of variables\n",
      "V_s=230        #V\n",
      "V_m=V_s*math.sqrt(2)\n",
      "E=150          #V\n",
      "\n",
      "#Calculations\n",
      "theta1=math.degrees(E/(math.sqrt(2)*V_s))\n",
      "R=8        #ohm\n",
      "f=50    #Hz\n",
      "I_o=(1/(2*math.pi*R))*((2*math.sqrt(2)*V_s*math.cos(math.radians(theta1)))-E*(math.pi-2*theta1*math.pi/180))\n",
      "\n",
      "#Results\n",
      "print(\"avg value of charging current=%.2f A\" %I_o)\n",
      "P_d=E*I_o\n",
      "print(\"\\npower delivered to battery=%.2f W\" %P_d)\n",
      "I_or=math.sqrt((1/(2*math.pi*R**2))*((V_s**2+E**2)*(math.pi-2*theta1*math.pi/180)+V_s**2*math.sin(math.radians(2*theta1))-4*V_m*E*math.cos(math.radians(theta1))))\n",
      "print(\"\\nrms value of the load current=%.2f A\" %I_or)\n",
      "pf=(E*I_o+I_or**2*R)/(V_s*I_or)\n",
      "print(\"\\nsupply pf=%.3f\" %pf)\n",
      "P_dd=I_or**2*R\n",
      "print(\"\\npower dissipated in the resistor=%.2f W\" %P_dd)\n",
      "q=1000.00         #Wh\n",
      "t=q/P_d    \n",
      "print(\"\\ncharging time=%.2f hr\" %t)\n",
      "n=P_d*100/(P_d+P_dd)\n",
      "print(\"rectifier efficiency =%.2f  \" %n)\n",
      "PIV=math.sqrt(2)*V_s+E\n",
      "print(\"PIV of diode=%.2f V\" %PIV)\n",
      "#solutions have small variations due to difference in rounding off of digits"
     ],
     "language": "python",
     "metadata": {},
     "outputs": [
      {
       "output_type": "stream",
       "stream": "stdout",
       "text": [
        "avg value of charging current=4.97 A\n",
        "\n",
        "power delivered to battery=745.11 W\n",
        "\n",
        "rms value of the load current=9.29 A\n",
        "\n",
        "supply pf=0.672\n",
        "\n",
        "power dissipated in the resistor=690.74 W\n",
        "\n",
        "charging time=1.34 hr\n",
        "rectifier efficiency =51.89  \n",
        "PIV of diode=475.27 V\n"
       ]
      }
     ],
     "prompt_number": 30
    },
    {
     "cell_type": "heading",
     "level": 2,
     "metadata": {},
     "source": [
      "Example 3.10 Page No 78"
     ]
    },
    {
     "cell_type": "code",
     "collapsed": false,
     "input": [
      "import math\n",
      "\n",
      "#initialisation of variables\n",
      "V_s=230            #V\n",
      "t_rr=40*10**-6    #s reverde recovery time\n",
      "\n",
      "#Calculations\n",
      "V_o=2*math.sqrt(2)*V_s/math.pi\n",
      "V_m=math.sqrt(2)*V_s\n",
      "f=50\n",
      "V_r1=(V_m/math.pi)*(1-math.cos(math.radians(2*math.pi*f*t_rr*180/math.pi)))\n",
      "v_avg1=V_r1*100/V_o*10**3\n",
      "f=2500\n",
      "V_r2=(V_m/math.pi)*(1-math.cos(math.radians(2*math.pi*f*t_rr*180/math.pi)))\n",
      "v_avg2=V_r2*100/V_o\n",
      "\n",
      "#Results\n",
      "print(\"when f=50Hz\")\n",
      "print(\"Percentage reduction in avg o/p voltage=%.2f x 10^-3\" %v_avg1)\n",
      "print(\"when f=2500Hz\")\n",
      "print(\"Percentage reduction in avg o/p voltage = %.3f\" %v_avg2)\n"
     ],
     "language": "python",
     "metadata": {},
     "outputs": [
      {
       "output_type": "stream",
       "stream": "stdout",
       "text": [
        "when f=50Hz\n",
        "Percentage reduction in avg o/p voltage=3.95 x 10^-3\n",
        "when f=2500Hz\n",
        "Percentage reduction in avg o/p voltage = 9.549\n"
       ]
      }
     ],
     "prompt_number": 31
    },
    {
     "cell_type": "heading",
     "level": 2,
     "metadata": {},
     "source": [
      "Example 3.11, Page No 79 "
     ]
    },
    {
     "cell_type": "code",
     "collapsed": false,
     "input": [
      "import math\n",
      "#initialisation of variables\n",
      "V_s=230         #V\n",
      "R=10.0        #ohm\n",
      "\n",
      "#Calculations\n",
      "V_m=math.sqrt(2)*V_s\n",
      "V_o=2*V_m/math.pi\n",
      "print(\"Avg value of o/p voltage = %.2f V\" %V_o)\n",
      "I_o=V_o/R\n",
      "print(\"Avg value of o/p current = %.2f A\" %I_o)\n",
      "I_DA=I_o/2\n",
      "print(\"Avg value of diode current=%.2f A\" %I_DA)\n",
      "I_Dr=I_o/math.sqrt(2)    \n",
      "\n",
      "#Results\n",
      "print(\"rms value of diode current=%.2f A\" %I_Dr)\n",
      "print(\"rms value of o/p current = %.2f A\" %I_o)\n",
      "print(\"rms value of i/p current = %.2f A\" %I_o)\n",
      "pf=(V_o/V_s)\n",
      "print(\"supply pf = %.2f\" %pf)"
     ],
     "language": "python",
     "metadata": {},
     "outputs": [
      {
       "output_type": "stream",
       "stream": "stdout",
       "text": [
        "Avg value of o/p voltage = 207.07 V\n",
        "Avg value of o/p current = 20.71 A\n",
        "Avg value of diode current=10.35 A\n",
        "rms value of diode current=14.64 A\n",
        "rms value of o/p current = 20.71 A\n",
        "rms value of i/p current = 20.71 A\n",
        "supply pf = 0.90\n"
       ]
      }
     ],
     "prompt_number": 32
    },
    {
     "cell_type": "heading",
     "level": 2,
     "metadata": {},
     "source": [
      "Example 3.12 Page No 80"
     ]
    },
    {
     "cell_type": "code",
     "collapsed": false,
     "input": [
      "import math \n",
      "\n",
      "#initialisation of variables\n",
      "V_s=230.0    #V\n",
      "R=1000.0      #ohm\n",
      "R_D=20.0    #ohm\n",
      "\n",
      "#Calculations\n",
      "V_m=math.sqrt(2)*V_s\n",
      "I_om=V_m/(R+R_D)          \n",
      "\n",
      "#Results\n",
      "print(\"Peak load current = %.2f A\" %I_om)\n",
      "I_o=I_om/math.pi\n",
      "print(\"dc load current = %.2f A\" %I_o)\n",
      "V_D=I_o*R_D-V_m/math.pi\n",
      "print(\"dc diode voltage = %.2f V\" %V_D)\n",
      "V_on=V_m/math.pi\n",
      "print(\"at no load, load voltage = %.2f V\" %V_on)\n",
      "V_o1=I_o*R    \n",
      "print(\"at given load, load voltage = %.2f V\" %V_o1)\n",
      "vr=(V_on-V_o1)*100/V_on    \n",
      "print(\"Voltage regulation(in percent)=%.2f\" %vr)"
     ],
     "language": "python",
     "metadata": {},
     "outputs": [
      {
       "output_type": "stream",
       "stream": "stdout",
       "text": [
        "Peak load current = 0.32 A\n",
        "dc load current = 0.10 A\n",
        "dc diode voltage = -101.51 V\n",
        "at no load, load voltage = 103.54 V\n",
        "at given load, load voltage = 101.51 V\n",
        "Voltage regulation(in percent)=1.96\n"
       ]
      }
     ],
     "prompt_number": 33
    },
    {
     "cell_type": "heading",
     "level": 2,
     "metadata": {},
     "source": [
      "Example 3.13 Page No 82"
     ]
    },
    {
     "cell_type": "code",
     "collapsed": false,
     "input": [
      "import math\n",
      "#initialisation of variables\n",
      "V_L=6.8   #V\n",
      "V_smax=20*1.2    #V\n",
      "V_smin=20*.8     #V\n",
      "I_Lmax=30*1.5   #mA\n",
      "I_Lmin=30*0.5  #mA\n",
      "I_z=1          #mA\n",
      "\n",
      "#Calculations\n",
      "R_smax=(V_smax-V_L)/((I_Lmin+I_z)*10**-3)\n",
      "print(\"max source resistance = %.2f ohm\" %R_smax)\n",
      "R_smin=(V_smin-V_L)/((I_Lmax+I_z)*10**-3)    \n",
      "print(\"Min source resistance = %.2f ohm\" %R_smin)  #in book solution, error is committed in putting the values in formulea(printing error) but solution is correct\n",
      "R_Lmax=V_L*1000/I_Lmin\n",
      "print(\"Max load resistance = %.2f ohm\" %R_Lmax)\n",
      "R_Lmin=V_L*1000/I_Lmax    \n",
      "V_d=0.6      #V\n",
      "V_r=V_L-V_d\n",
      "\n",
      "#Results\n",
      "print(\"Min load resistance=%.2f ohm\" %R_Lmin)\n",
      "print(\"Voltage rating of zener diode=%.2f V\" %V_r)\n"
     ],
     "language": "python",
     "metadata": {},
     "outputs": [
      {
       "output_type": "stream",
       "stream": "stdout",
       "text": [
        "max source resistance = 1075.00 ohm\n",
        "Min source resistance = 200.00 ohm\n",
        "Max load resistance = 453.33 ohm\n",
        "Min load resistance=151.11 ohm\n",
        "Voltage rating of zener diode=6.20 V\n"
       ]
      }
     ],
     "prompt_number": 34
    },
    {
     "cell_type": "heading",
     "level": 2,
     "metadata": {},
     "source": [
      "Example 3.14 Page No 83"
     ]
    },
    {
     "cell_type": "code",
     "collapsed": false,
     "input": [
      "import math\n",
      "\n",
      "#initialisation of variables\n",
      "I2=200*10**-6      #A\n",
      "V_z=20       #V\n",
      "R_G=500.0   #hm\n",
      "\n",
      "#Calculations\n",
      "R2=(V_z/I2)-R_G\n",
      "print(\"R2=%.2f kilo-ohm\" %(R2/1000))\n",
      "\n",
      "V_v=25      #V\n",
      "I1=I2\n",
      "R1=(V_v-V_z)/I1\n",
      "\n",
      "#Results\n",
      "print(\"R1=%.0f kilo-ohm\"%(R1/1000))\n"
     ],
     "language": "python",
     "metadata": {},
     "outputs": [
      {
       "output_type": "stream",
       "stream": "stdout",
       "text": [
        "R2=99.50 kilo-ohm\n",
        "R1=25 kilo-ohm\n"
       ]
      }
     ],
     "prompt_number": 35
    },
    {
     "cell_type": "heading",
     "level": 2,
     "metadata": {},
     "source": [
      "Example 3.15, Page No 92"
     ]
    },
    {
     "cell_type": "code",
     "collapsed": false,
     "input": [
      "import math\n",
      "\n",
      "#initialisation of variables\n",
      "V_s=2*230          #V\n",
      "\n",
      "#Calculations\n",
      "V_o=(math.sqrt(2)*V_s)/math.pi\n",
      "R=60                #ohm\n",
      "P_dc=(V_o)**2/R\n",
      "TUF=0.2865\n",
      "VA=P_dc/TUF\n",
      "\n",
      "#RESULTS\n",
      "print(\"kVA rating of the transformer = %.2f kVA\" %(VA/1000));\n"
     ],
     "language": "python",
     "metadata": {},
     "outputs": [
      {
       "output_type": "stream",
       "stream": "stdout",
       "text": [
        "kVA rating of the transformer = 2.49 kVA\n"
       ]
      }
     ],
     "prompt_number": 36
    },
    {
     "cell_type": "heading",
     "level": 2,
     "metadata": {},
     "source": [
      "Example 3.16, Page No 92"
     ]
    },
    {
     "cell_type": "code",
     "collapsed": false,
     "input": [
      "import math\n",
      "#initialisation of variables\n",
      "tr=0.5       #turns ratio\n",
      "I_o=10.0\n",
      "V=230.0\n",
      "V_s=V/tr\n",
      "\n",
      "#Calculations\n",
      "V_m=math.sqrt(2)*V_s\n",
      "V_o=2*V_m/math.pi\n",
      "phi1=0\n",
      "#displacemnt angle=0 as fundamnetal component of i/p source current in phase with source voltage\n",
      "DF=math.cos(math.radians(phi1))\n",
      "I_s1=4*I_o/(math.sqrt(2)*math.pi)\n",
      "I_s=math.sqrt(I_o**2*math.pi/math.pi)\n",
      "CDF=I_s1/I_o\n",
      "pf=CDF*DF\n",
      "HF=math.sqrt((I_s/I_s1)**2-1)\n",
      "CF=I_o/I_s\n",
      "\n",
      "#Results\n",
      "print(\"o/p voltage = %.2f V\" %V_o)\n",
      "print(\"distortion factor = %.2f\" %DF)\n",
      "print(\"i/p pf=%.2f\" %pf)\n",
      "print(\"Current displacent factor=%.2f\" %CDF)\n",
      "print(\"Harmonic factor = %.2f\" %HF)\n",
      "print(\"Creast factor = %.2f\" %CF)"
     ],
     "language": "python",
     "metadata": {},
     "outputs": [
      {
       "output_type": "stream",
       "stream": "stdout",
       "text": [
        "o/p voltage = 414.15 V\n",
        "distortion factor = 1.00\n",
        "i/p pf=0.90\n",
        "Current displacent factor=0.90\n",
        "Harmonic factor = 0.48\n",
        "Creast factor = 1.00\n"
       ]
      }
     ],
     "prompt_number": 37
    },
    {
     "cell_type": "heading",
     "level": 2,
     "metadata": {},
     "source": [
      "Example 3.17, Page No 94"
     ]
    },
    {
     "cell_type": "code",
     "collapsed": false,
     "input": [
      "import math\n",
      "#initialisation of variables\n",
      "V_o=230.0\n",
      "R=10.0\n",
      "V_s=V_o*math.pi/(2*math.sqrt(2))\n",
      "I_o=V_o/R\n",
      "I_m=math.sqrt(2)*V_s/R\n",
      "I_DAV=I_m/math.pi\n",
      "\n",
      "#Calculations\n",
      "#avg value of diode current\n",
      "I_Dr=I_m/2\n",
      "PIV=math.sqrt(2)*V_s\n",
      "I_s=I_m/math.sqrt(2)\n",
      "TF=V_s*I_s\n",
      "\n",
      "#Results\n",
      "print(\"peak diode current=%.2f A\" %I_m)\n",
      "print(\"I_DAV=%.2f A\" %I_DAV)\n",
      "print(\"I_Dr=%.2f A\" %I_Dr)   #rms value of diode current\n",
      "print(\"PIV=%.1f V\" %PIV)\n",
      "print(\"Transformer rating = %.2f kVA\" %(TF/1000))"
     ],
     "language": "python",
     "metadata": {},
     "outputs": [
      {
       "output_type": "stream",
       "stream": "stdout",
       "text": [
        "peak diode current=36.13 A\n",
        "I_DAV=11.50 A\n",
        "I_Dr=18.06 A\n",
        "PIV=361.3 V\n",
        "Transformer rating = 6.53 kVA\n"
       ]
      }
     ],
     "prompt_number": 38
    },
    {
     "cell_type": "heading",
     "level": 2,
     "metadata": {},
     "source": [
      "Example 3.18, Page No 103"
     ]
    },
    {
     "cell_type": "code",
     "collapsed": false,
     "input": [
      "import math\n",
      "#initialisation of variables\n",
      "tr=5\n",
      "V=1100.0\n",
      "R=10.0\n",
      "\n",
      "\n",
      "#Calculations\n",
      "print(\"In case of 3ph-3pulse type\")\n",
      "V_ph=V/tr\n",
      "V_mp=math.sqrt(2)*V_ph\n",
      "V_o=3*math.sqrt(3)*V_mp/(2*math.pi)\n",
      "print(\"avg o/p voltage=%.1f V\" %V_o)\n",
      "I_mp=V_mp/R\n",
      "I_D=(I_mp/math.pi)*math.sin(math.pi/3)    \n",
      "print(\"\\navg value of diode current=%.3f A\" %I_D)\n",
      "I_Dr=I_mp*math.sqrt((1/(2*math.pi))*(math.pi/3+.5*math.sin(2*math.pi/3)))    \n",
      "print(\"\\nrms value of diode current=%.2f A\" %I_Dr)\n",
      "V_or=V_mp*math.sqrt((3/(2*math.pi))*(math.pi/3+.5*math.sin(2*math.pi/3)))\n",
      "P=(V_or**2)/R   \n",
      "print(\"\\npower delivered=%.1f W\" %P)\n",
      "print(\"in case of 3ph-M6 type\")\n",
      "V_ph=V_ph/2\n",
      "V_mp=math.sqrt(2)*V_ph\n",
      "V_o=3*V_mp/(math.pi)  \n",
      "I_mp=V_mp/R\n",
      "I_D=(I_mp/math.pi)*math.sin(math.pi/6)    \n",
      "I_Dr=I_mp*math.sqrt((1/(2*math.pi))*(math.pi/6+.5*math.sin(2*math.pi/6)))  \n",
      "V_or=V_mp*math.sqrt((6/(2*math.pi))*(math.pi/6+.5*math.sin(2*math.pi/6)))\n",
      "P=(V_or**2)/R   \n",
      "\n",
      "#Results\n",
      "print(\"avg o/p voltage=%.2f V\" %V_o)\n",
      "print(\"\\navg value of diode current=%.2f A\" %I_D)\n",
      "print(\"\\nrms value of diode current=%.2f A\" %I_Dr)\n",
      "print(\"\\npower delivered=%.0f W\" %P)\n"
     ],
     "language": "python",
     "metadata": {},
     "outputs": [
      {
       "output_type": "stream",
       "stream": "stdout",
       "text": [
        "In case of 3ph-3pulse type\n",
        "avg o/p voltage=257.3 V\n",
        "\n",
        "avg value of diode current=8.577 A\n",
        "\n",
        "rms value of diode current=15.10 A\n",
        "\n",
        "power delivered=6841.3 W\n",
        "in case of 3ph-M6 type\n",
        "avg o/p voltage=148.55 V\n",
        "\n",
        "avg value of diode current=2.48 A\n",
        "\n",
        "rms value of diode current=6.07 A\n",
        "\n",
        "power delivered=2211 W\n"
       ]
      }
     ],
     "prompt_number": 39
    },
    {
     "cell_type": "heading",
     "level": 2,
     "metadata": {},
     "source": [
      "Example 3.19, Page No 115"
     ]
    },
    {
     "cell_type": "code",
     "collapsed": false,
     "input": [
      "import math\n",
      "#initialisation of variables\n",
      "V_o=400\n",
      "R=10\n",
      "\n",
      "#Calculations\n",
      "V_ml=V_o*math.pi/3\n",
      "V_s=V_ml/(math.sqrt(2)*math.sqrt(3))\n",
      "I_m=V_ml/R\n",
      "I_s=.7804*I_m\n",
      "tr=3*V_s*I_s   \n",
      "\n",
      "#Results\n",
      "print(\"transformer rating=%.1f VA\" %tr)\n",
      "I_Dr=.5518*I_m   \n",
      "print(\"\\nrms value of diode current=%.3f A\" %I_Dr)\n",
      "I_D=I_m/math.pi   \n",
      "print(\"\\navg value of diode current=%.3f A\" %I_D)\n",
      "print(\"\\npeak diode current=%.2f A\" %I_m)\n",
      "PIV=V_ml \n",
      "print(\"\\nPIV=%.2f V\" %PIV)\n"
     ],
     "language": "python",
     "metadata": {},
     "outputs": [
      {
       "output_type": "stream",
       "stream": "stdout",
       "text": [
        "transformer rating=16770.3 VA\n",
        "\n",
        "rms value of diode current=23.114 A\n",
        "\n",
        "avg value of diode current=13.333 A\n",
        "\n",
        "peak diode current=41.89 A\n",
        "\n",
        "PIV=418.88 V\n"
       ]
      }
     ],
     "prompt_number": 40
    },
    {
     "cell_type": "heading",
     "level": 2,
     "metadata": {},
     "source": [
      "Example 3.20, Page No 116"
     ]
    },
    {
     "cell_type": "code",
     "collapsed": false,
     "input": [
      "import math\n",
      "#initialisation of variables\n",
      "V_l=230\n",
      "E=240\n",
      "R=8\n",
      "\n",
      "#Calculations\n",
      "V_ml=math.sqrt(2)*V_l\n",
      "V_o=3*V_ml/math.pi\n",
      "I_o=(V_o-E)/R\n",
      "P_b=E*I_o    \n",
      "P_d=E*I_o+I_o**2*R   \n",
      "phi1=0\n",
      "math.cos(math.radians(phi1))\n",
      "I_s1=2*math.sqrt(3)*I_o/(math.sqrt(2)*math.pi)\n",
      "I_s=math.sqrt(I_o**2*2*math.pi/(3*math.pi))\n",
      "CDF=I_s1/I_s    \n",
      "pf=DF*CDF    \n",
      "HF=math.sqrt(CDF**-2-1)   \n",
      "tr=math.sqrt(3)*V_l*I_o*math.sqrt(2/3)\n",
      "\n",
      "#Results\n",
      "print(\"Power delivered to battery=%.1f W\" %P_b)\n",
      "print(\"Power delivered to load=%.2f W\" %P_d)\n",
      "print(\"Displacement factor=%.2f\" %DF)\n",
      "print(\"Current distortion factor=%.3f\" %CDF)\n",
      "print(\"i/p pf=%.3f\"%pf)\n",
      "print(\"Harmonic factor=%.2f\" %HF)\n",
      "print(\"Tranformer rating=%.2f VA\" %tr)\n",
      "#answers have small variations from the book due to difference in rounding off of digits"
     ],
     "language": "python",
     "metadata": {},
     "outputs": [
      {
       "output_type": "stream",
       "stream": "stdout",
       "text": [
        "Power delivered to battery=2118.3 W\n",
        "Power delivered to load=2741.48 W\n",
        "Displacement factor=1.00\n",
        "Current distortion factor=0.955\n",
        "i/p pf=0.955\n",
        "Harmonic factor=0.31\n",
        "Tranformer rating=0.00 VA\n"
       ]
      }
     ],
     "prompt_number": 41
    },
    {
     "cell_type": "heading",
     "level": 2,
     "metadata": {},
     "source": [
      "Example 3.21, Page No 122"
     ]
    },
    {
     "cell_type": "code",
     "collapsed": false,
     "input": [
      "import math\n",
      "#initialisation of variables\n",
      "f=50  #Hz\n",
      "V=230.0\n",
      "\n",
      "#Calculations\n",
      "V_m=math.sqrt(2)*V\n",
      "R=400.0\n",
      "RF=0.05\n",
      "C=(1/(4*f*R))*(1+(1/(math.sqrt(2)*RF)))\n",
      "\n",
      "#Results\n",
      "print(\"capacitor value=%.2f uF\" %(C/10**-6))\n",
      "V_o=V_m*(1-1/(4*f*R*C))\n",
      "print(\"o/p voltage with filter=%.2f V\" %V_o)\n",
      "V_o=2*V_m/math.pi   \n",
      "print(\"o/p voltage without filter=%.2f V\" %V_o)"
     ],
     "language": "python",
     "metadata": {},
     "outputs": [
      {
       "output_type": "stream",
       "stream": "stdout",
       "text": [
        "capacitor value=189.28 uF\n",
        "o/p voltage with filter=303.79 V\n",
        "o/p voltage without filter=207.07 V\n"
       ]
      }
     ],
     "prompt_number": 42
    },
    {
     "cell_type": "heading",
     "level": 2,
     "metadata": {},
     "source": [
      "Example 3.22, Page No 122"
     ]
    },
    {
     "cell_type": "code",
     "collapsed": false,
     "input": [
      "import math\n",
      "#initialisation of variables\n",
      "f=50\n",
      "CRF=0.05\n",
      "R=300\n",
      "\n",
      "#Calculations\n",
      "L=math.sqrt((CRF/(.4715*R))**-2-R**2)/(2*2*math.pi*f)    \n",
      "print(\"L=%.2f H\" %L)\n",
      "R=30\n",
      "L=math.sqrt((CRF/(.4715*R))**-2-R**2)/(2*2*math.pi*f)    \n",
      "\n",
      "\n",
      "#Results\n",
      "print(\"\\nL=%.2f H\" %L)\n",
      "L=0\n",
      "CRF=.4715*R/math.sqrt(R**2+(2*2*math.pi*f*L)**2)   \n",
      "print(\"\\nCRF=%.2f\" %CRF)"
     ],
     "language": "python",
     "metadata": {},
     "outputs": [
      {
       "output_type": "stream",
       "stream": "stdout",
       "text": [
        "L=4.48 H\n",
        "\n",
        "L=0.45 H\n",
        "\n",
        "CRF=0.47\n"
       ]
      }
     ],
     "prompt_number": 43
    },
    {
     "cell_type": "heading",
     "level": 2,
     "metadata": {},
     "source": [
      "Example 3.23, Page No 127"
     ]
    },
    {
     "cell_type": "code",
     "collapsed": false,
     "input": [
      "import math\n",
      "#initialisation of variables\n",
      "R=50\n",
      "L_L=10*10**-3\n",
      "f=50.0\n",
      "w=2*math.pi*f\n",
      "\n",
      "#Calculations\n",
      "C=10/(2*w*math.sqrt(R**2+(2*w*L_L)**2))\n",
      "\n",
      "#Results\n",
      "print(\"C=%.2f uF\" %(C*10**6))\n",
      "VRF=0.1\n",
      "L=(1/(4*w**2*C))*((math.sqrt(2)/(3*VRF))+1)\n",
      "print(\"\\nL=%.2f mH\" %(L*10**3))"
     ],
     "language": "python",
     "metadata": {},
     "outputs": [
      {
       "output_type": "stream",
       "stream": "stdout",
       "text": [
        "C=315.83 uF\n",
        "\n",
        "L=45.83 mH\n"
       ]
      }
     ],
     "prompt_number": 44
    }
   ],
   "metadata": {}
  }
 ]
}