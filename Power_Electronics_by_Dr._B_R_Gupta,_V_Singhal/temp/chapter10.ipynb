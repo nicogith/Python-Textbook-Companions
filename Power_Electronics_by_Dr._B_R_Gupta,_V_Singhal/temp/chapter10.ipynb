{
 "metadata": {
  "name": ""
 },
 "nbformat": 3,
 "nbformat_minor": 0,
 "worksheets": [
  {
   "cells": [
    {
     "cell_type": "heading",
     "level": 1,
     "metadata": {},
     "source": [
      "Chapter 10 : Cycloconverters"
     ]
    },
    {
     "cell_type": "heading",
     "level": 2,
     "metadata": {},
     "source": [
      "Example 10.2, Page No 594"
     ]
    },
    {
     "cell_type": "code",
     "collapsed": false,
     "input": [
      "import math\n",
      "#initialisation of variables\n",
      "V_s=230.0\n",
      "V_m=math.sqrt(2)*V_s\n",
      "R=10.0\n",
      "a=30.0\n",
      "\n",
      "#Calculations\n",
      "V_or=(V_m/math.sqrt(2))*math.sqrt((1/math.pi)*(math.pi-a*math.pi/180+math.sin(math.radians(2*a))/2))\n",
      "I_or=V_or/R    \n",
      "I_s=I_or\n",
      "pf=(I_or**2*R)/(V_s*I_s)    \n",
      "\n",
      "\n",
      "#Results\n",
      "print(\"rms value of o/p current=%.2f A\" %I_or)\n",
      "print(\"rms value of o/p current for each convertor=%.2f A\" %(I_or/math.sqrt(2)))\n",
      "print(\"rms value of o/p current for each thyristor=%.3f A\" %(I_or/2))\n",
      "print(\"i/p pf=%.4f\" %pf)"
     ],
     "language": "python",
     "metadata": {},
     "outputs": [
      {
       "output_type": "stream",
       "stream": "stdout",
       "text": [
        "rms value of o/p current=22.67 A\n",
        "rms value of o/p current for each convertor=16.03 A\n",
        "rms value of o/p current for each thyristor=11.333 A\n",
        "i/p pf=0.9855\n"
       ]
      }
     ],
     "prompt_number": 1
    },
    {
     "cell_type": "heading",
     "level": 2,
     "metadata": {},
     "source": [
      "Example 10.4, Page No 604"
     ]
    },
    {
     "cell_type": "code",
     "collapsed": false,
     "input": [
      "import math\n",
      "#initialisation of variables\n",
      "V_s=400.0\n",
      "V_ph=V_s/2\n",
      "a=160.0\n",
      "\n",
      "#Calculations\n",
      "r=math.cos(math.radians(180-a))\n",
      "m=3\n",
      "V_or=r*(V_ph*(m/math.pi)*math.sin(math.pi/m)) \n",
      "R=2\n",
      "X_L=1.5\n",
      "th=math.degrees(math.atan(X_L/R))\n",
      "Z=math.sqrt(R**2+X_L**2)\n",
      "I_or=V_or/Z    \n",
      "P=I_or**2*R      \n",
      "\n",
      "#Results\n",
      "print(\"rms o/p voltage=%.3f V\" %V_or)\n",
      "print(\"rms o/p current=%.2f A\" %I_or)\n",
      "print(\"phase angle of o/p current=%.2f deg\" %-th)\n",
      "print(\"o/p power=%.2f W\" %P)\n"
     ],
     "language": "python",
     "metadata": {},
     "outputs": [
      {
       "output_type": "stream",
       "stream": "stdout",
       "text": [
        "rms o/p voltage=155.424 V\n",
        "rms o/p current=62.17 A\n",
        "phase angle of o/p current=-36.87 deg\n",
        "o/p power=7730.11 W\n"
       ]
      }
     ],
     "prompt_number": 2
    },
    {
     "cell_type": "heading",
     "level": 2,
     "metadata": {},
     "source": [
      "Example 10.5 Page No 604"
     ]
    },
    {
     "cell_type": "code",
     "collapsed": false,
     "input": [
      "import math\n",
      "#initialisation of variables\n",
      "V_s=400.0\n",
      "V_ph=V_s/2\n",
      "V_l=V_ph*math.sqrt(3)\n",
      "a=160.0\n",
      "\n",
      "#Calculations\n",
      "r=math.cos(math.radians(180-a))\n",
      "m=6\n",
      "V_or=r*(V_l*(m/math.pi)*math.sin(math.pi/m))    \n",
      "R=2\n",
      "X_L=1.5\n",
      "th=math.degrees(math.atan(X_L/R))\n",
      "Z=math.sqrt(R**2+X_L**2)\n",
      "I_or=V_or/Z    \n",
      "P=I_or**2*R    \n",
      "\n",
      "#Results\n",
      "print(\"rms o/p voltage=%.2f V\" %V_or)\n",
      "print(\"rms o/p current=%.2f A\" %I_or)\n",
      "print(\"phase angle of o/p current=%.2f deg\" %-th)\n",
      "print(\"o/p power=%.2f W\" %P)\n"
     ],
     "language": "python",
     "metadata": {},
     "outputs": [
      {
       "output_type": "stream",
       "stream": "stdout",
       "text": [
        "rms o/p voltage=310.85 V\n",
        "rms o/p current=124.34 A\n",
        "phase angle of o/p current=-36.87 deg\n",
        "o/p power=30920.44 W\n"
       ]
      }
     ],
     "prompt_number": 3
    },
    {
     "cell_type": "heading",
     "level": 2,
     "metadata": {},
     "source": [
      "Example 10.7, Page No 605"
     ]
    },
    {
     "cell_type": "code",
     "collapsed": false,
     "input": [
      "import math\n",
      "#initialisation of variables\n",
      "V_l=400.0\n",
      "V_ml=math.sqrt(2)*V_l\n",
      "m=6\n",
      "f=50.0\n",
      "w=2*math.pi*f\n",
      "L=.0012\n",
      "I=40.0\n",
      "\n",
      "#Calculations\n",
      "V_or1=(V_ml*(m/math.pi)*math.sin(math.pi/m))*math.cos(math.radians(a))\n",
      "V_omx1=V_or1-3*w*L*I/math.pi\n",
      "V_rms1=V_omx1/math.sqrt(2)    \n",
      "a2=30.0\n",
      "V_or2=(V_ml*(m/math.pi)*math.sin(math.pi/m))*math.cos(math.radians(a))\n",
      "V_omx2=V_or2-3*w*L*I/math.pi\n",
      "V_rms2=V_omx2/math.sqrt(2)    \n",
      "\n",
      "\n",
      "#Results\n",
      "print(\"for firing angle=0deg\")\n",
      "a1=0\n",
      "print(\"rms value of load voltage=%.2f V\" %V_rms2)\n",
      "print(\"for firing angle=30deg\")\n",
      "print(\"rms value of load voltage=%.2f V\" %V_rms2)"
     ],
     "language": "python",
     "metadata": {},
     "outputs": [
      {
       "output_type": "stream",
       "stream": "stdout",
       "text": [
        "for firing angle=0deg\n",
        "rms value of load voltage=-369.12 V\n",
        "for firing angle=30deg\n",
        "rms value of load voltage=-369.12 V\n"
       ]
      }
     ],
     "prompt_number": 4
    }
   ],
   "metadata": {}
  }
 ]
}