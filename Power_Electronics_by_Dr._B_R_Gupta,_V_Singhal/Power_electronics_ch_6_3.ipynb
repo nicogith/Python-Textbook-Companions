{
 "metadata": {
  "name": ""
 },
 "nbformat": 3,
 "nbformat_minor": 0,
 "worksheets": [
  {
   "cells": [
    {
     "cell_type": "heading",
     "level": 1,
     "metadata": {},
     "source": [
      "Chapter 6: AC Regulators"
     ]
    },
    {
     "cell_type": "heading",
     "level": 2,
     "metadata": {},
     "source": [
      "example 6.1, Page No.286"
     ]
    },
    {
     "cell_type": "code",
     "collapsed": false,
     "input": [
      "# input/output power, input power factor, average and rms vales of thyristor\n",
      "\n",
      "\n",
      "import math\n",
      "from scipy.integrate import quad\n",
      "#variable declaration\n",
      "nc = 36.0              # conduction cycles\n",
      "no = 64.0              # off cycles\n",
      "V = 150.0              # input voltage\n",
      "Rl = 8.0               # load resistance\n",
      "\n",
      "#calculations\n",
      "#(a)\n",
      "alfa = nc/(nc+no)\n",
      "Vl = V*math.sqrt(alfa)\n",
      "#(b)\n",
      "P = (Vl**2)/Rl\n",
      "#(d)\n",
      "Il = Vl/Rl\n",
      "va_i = V*Il\n",
      "pf_i = P/va_i\n",
      "#(e)\n",
      "sqrt_2 = math.floor(math.sqrt(2)*1000)/1000\n",
      "Ip = sqrt_2*V/Rl\n",
      "\n",
      "def f(x):\n",
      "    return (alfa/(2*math.pi))*Ip*(math.sin(x))\n",
      "wt_lower=0\n",
      "wt_upper =math.pi\n",
      "val = quad(f,wt_lower,wt_upper)\n",
      "\n",
      "val2 =Ip*math.sqrt(alfa)/2.0\n",
      "\n",
      "#result\n",
      "print(\"(a) rms output voltage, Vl = %.0f V\\n(b) Power output = %.1f W\"%(Vl,P))\n",
      "print(\"(c) Since losses are neglected, input power = Output power = %.1f W\"%(P))\n",
      "print(\"(d) input power factor = %.1f lagging\\n(e)\\tPeak thyristor current = %.4f A \"%(pf_i,Ip))\n",
      "print(\"\\tAverage thyristor current = %.3f A\\n\\tRMS thyristor current = %.2f A\"%(val[0],val2))"
     ],
     "language": "python",
     "metadata": {},
     "outputs": [
      {
       "output_type": "stream",
       "stream": "stdout",
       "text": [
        "(a) rms output voltage, Vl = 90 V\n",
        "(b) Power output = 1012.5 W\n",
        "(c) Since losses are neglected, input power = Output power = 1012.5 W\n",
        "(d) input power factor = 0.6 lagging\n",
        "(e)\tPeak thyristor current = 26.5125 A \n",
        "\tAverage thyristor current = 3.038 A\n",
        "\tRMS thyristor current = 7.95 A\n"
       ]
      }
     ],
     "prompt_number": 26
    },
    {
     "cell_type": "heading",
     "level": 2,
     "metadata": {},
     "source": [
      "example 6.2, Page No.288"
     ]
    },
    {
     "cell_type": "code",
     "collapsed": false,
     "input": [
      "# single phase half wave regulator parameter\n",
      "\n",
      "import math\n",
      "#vaariable declaration\n",
      "V = 150.0                   # input voltage\n",
      "Rl = 8.0                    # load resistance\n",
      "theta = 60.0                # thyristor firing angle in degrees\n",
      "\n",
      "# Calculations\n",
      "Vm =math.sqrt(2)*V\n",
      "Vm = math.floor(Vm*10)/10\n",
      "#(a)\n",
      "Vo = Vm*(math.cos(theta*math.pi/180)-1)/(2*math.pi)\n",
      "#(b)\n",
      "Vl = Vm*math.sqrt(((2*math.pi)-(theta*math.pi/180)+(math.sin(2*theta*math.pi/180)/2))/(4*math.pi))\n",
      "Vl = math.ceil(Vl*100)/100\n",
      "#(c)\n",
      "Po = (Vl**2)/Rl\n",
      "#(d)\n",
      "I = Vl/Rl\n",
      "va = V*I\n",
      "pf = Po/va\n",
      "#(e)\n",
      "Iavg = Vo/Rl\n",
      "\n",
      "#Result\n",
      "print(\"(a) Average output voltage = %.1f V\\n This is negative because only a part of positive half cycle appears at the output\"%Vo)\n",
      "print(\" whereas the whole negative cycle appears at the output.\")\n",
      "print(\"\\n(b) Vl = %.2f V\\n\\n(c) Power output = %.2f W\\n\\n(d) Input pf = %.2f lagging\"%(Vl,Po,pf))\n",
      "print(\"\\n(e) Average input current = Average output current = %.2f A \"%(Iavg))"
     ],
     "language": "python",
     "metadata": {},
     "outputs": [
      {
       "output_type": "stream",
       "stream": "stdout",
       "text": [
        "(a) Average output voltage = -16.9 V\n",
        " This is negative because only a part of positive half cycle appears at the output\n",
        " whereas the whole negative cycle appears at the output.\n",
        "\n",
        "(b) Vl = 142.46 V\n",
        "\n",
        "(c) Power output = 2536.86 W\n",
        "\n",
        "(d) Input pf = 0.95 lagging\n",
        "\n",
        "(e) Average input current = Average output current = -2.11 A \n"
       ]
      }
     ],
     "prompt_number": 22
    },
    {
     "cell_type": "heading",
     "level": 2,
     "metadata": {},
     "source": [
      "example 6.3, Page No.293"
     ]
    },
    {
     "cell_type": "code",
     "collapsed": false,
     "input": [
      "# Single phase full wave regulator parameters\n",
      "\n",
      "import math\n",
      "from scipy.integrate import quad\n",
      "#variable declaration\n",
      "V = 150.0                   # input voltage\n",
      "Rl = 8.0                    # load resistance\n",
      "theta = 60.0                # thyristor firing angle in degrees\n",
      "\n",
      "#calculations\n",
      "Vm =math.sqrt(2)*V\n",
      "Vm = math.floor(Vm*10)/10\n",
      "#(a)\n",
      "Vav = Vm*(math.cos(theta*math.pi/180)+1)/(math.pi)\n",
      "#(b)\n",
      "Vl = Vm*math.sqrt(((3.14)-(3.14/3)+(math.sin(2*theta*3.14/180)/2))/(2*3.141))\n",
      "Vl = math.ceil(Vl*100)/100\n",
      "#(c)\n",
      "Io = Vl/Rl\n",
      "Po = (Io**2)*Rl\n",
      "#(d)\n",
      "va = V*Io\n",
      "pf = Po/va\n",
      "#(e)\n",
      "def f(x):\n",
      "    return math.sin(x)\n",
      "wt_lower = math.pi/3 \n",
      "wt_upper = math.pi\n",
      "val = quad(f,wt_lower,wt_upper)\n",
      "Iavg = val[0]*Vm/(2*math.pi*Rl)\n",
      "\n",
      "def g(x):\n",
      "    return math.sin(x)**2\n",
      "wt_lower1 = math.pi/3\n",
      "wt_upper1 = math.pi\n",
      "val1 = quad(g,wt_lower1,wt_upper1)\n",
      "Irms = (Vm/(Rl))*math.sqrt(val1[0]/(math.pi*2))\n",
      "\n",
      "#Result\n",
      "print(\"(a) Average output voltage = %.2f V\\n \"%Vav)\n",
      "print(\"\\n(b) Vl = %.2f V\\n\\n(c) Power output = %.2f W\\n\\n(d) Input pf = %.3f lagging\"%(Vl,Po,pf))\n",
      "print(\"\\n(e) Average thyristor current= %.2f A\\n    RMS thyristor current = %.2f A \"%(Iavg,Irms))\n",
      "\n",
      "#(b) For Vl calculation, value of pi is used different at different place. if math.pi is used then Vl = 134.53V\n",
      "#(c) answer in the book is misprinted"
     ],
     "language": "python",
     "metadata": {},
     "outputs": [
      {
       "output_type": "stream",
       "stream": "stdout",
       "text": [
        "(a) Average output voltage = 101.27 V\n",
        " \n",
        "\n",
        "(b) Vl = 134.52 V\n",
        "\n",
        "(c) Power output = 2261.95 W\n",
        "\n",
        "(d) Input pf = 0.897 lagging\n",
        "\n",
        "(e) Average thyristor current= 6.33 A\n",
        "    RMS thyristor current = 11.89 A \n"
       ]
      }
     ],
     "prompt_number": 24
    },
    {
     "cell_type": "heading",
     "level": 2,
     "metadata": {},
     "source": [
      "example 6.4, Page No. 294"
     ]
    },
    {
     "cell_type": "code",
     "collapsed": false,
     "input": [
      "#  Single phase full wave ac voltage regulator\n",
      "\n",
      "import math\n",
      "from scipy.integrate import quad\n",
      "#variable declaration\n",
      "V = 120.0                   # input voltage\n",
      "Rl = 10.0                   # load resistance\n",
      "alfa = 90.0                 # thyristor firing angle in degrees\n",
      "\n",
      "#Calculations\n",
      "Vm =math.sqrt(2)*V\n",
      "#Vm = math.floor(Vm*10)/10\n",
      "#(a)\n",
      "Vo = Vm*math.sqrt(((math.pi)-(alfa*math.pi/180)+(math.sin(2*alfa*math.pi/180)/2.0))/(2*math.pi))\n",
      "#Vo = 60*math.sqrt(2) \n",
      "#(b)\n",
      "Il = Vo/Rl\n",
      "Po = (Il**2)*Rl\n",
      "VA = Il*V\n",
      "pf = Po/VA\n",
      "#(c)\n",
      "def f(x):\n",
      "    return math.sin(x)\n",
      "wt_lower = math.pi/2\n",
      "wt_upper = math.pi\n",
      "val = quad(f,wt_lower,wt_upper)\n",
      "Iav = Vm*val[0]/(2*math.pi*Rl)\n",
      "   \n",
      "#(d)\n",
      "Irms = Il/math.sqrt(2)\n",
      "#(e)\n",
      "Irmsl = Vo/Rl\n",
      "\n",
      "#Result\n",
      "print(\"(a) RMS output voltage = %f V\\n(b) Input p.f. = %.3f lagging\\n(c) Average thyristor current = %.1f A\"%(Vo,pf,Iav))\n",
      "print(\"(d) RMS thyristor current = %.1f A\\n(e) RMS load current =%f A\"%(Irms,Irmsl))\n",
      "# Answer for \"RMS output voltage\" and \"RMS load current\" is wrong in the book."
     ],
     "language": "python",
     "metadata": {},
     "outputs": [
      {
       "output_type": "stream",
       "stream": "stdout",
       "text": [
        "(a) RMS output voltage = 84.852814 V\n",
        "(b) Input p.f. = 0.707 lagging\n",
        "(c) Average thyristor current = 2.7 A\n",
        "(d) RMS thyristor current = 6.0 A\n",
        "(e) RMS load current =8.485281 A\n"
       ]
      }
     ],
     "prompt_number": 48
    },
    {
     "cell_type": "heading",
     "level": 2,
     "metadata": {},
     "source": [
      "example 6.5, Page No. 294"
     ]
    },
    {
     "cell_type": "code",
     "collapsed": false,
     "input": [
      "# rms output voltage and average power\n",
      "\n",
      "import math\n",
      "R = 400.0                  # load resistance\n",
      "V = 110.0                  # input voltage\n",
      "alfa = 60.0                # firing angle\n",
      "\n",
      "# calculations\n",
      "sqrt_2 =math.floor(math.sqrt(2)*1000)/1000\n",
      "Vm = sqrt_2*V\n",
      "Vo = Vm*math.sqrt(((math.pi)-(alfa*math.pi/180)+(math.sin(2*alfa*math.pi/180)/2.0))/(2*math.pi))\n",
      "P = (Vo**2)/R\n",
      "\n",
      "#Result\n",
      "print(\"RMS output voltage = %.2f V\\nAverage power = %.2f W\"%(Vm,P))\n"
     ],
     "language": "python",
     "metadata": {},
     "outputs": [
      {
       "output_type": "stream",
       "stream": "stdout",
       "text": [
        "RMS output voltage = 155.54 V\n",
        "Average power = 24.33 W\n"
       ]
      }
     ],
     "prompt_number": 58
    },
    {
     "cell_type": "heading",
     "level": 2,
     "metadata": {},
     "source": [
      "example 6.6, Page No.294 "
     ]
    },
    {
     "cell_type": "code",
     "collapsed": false,
     "input": [
      "# Firing angle\n",
      "\n",
      "import math\n",
      "from numpy import poly1d\n",
      "# variable declaration\n",
      "a1 = 0.80          # % of maximum power value1\n",
      "a2 = 0.30          # % of maximum power value2\n",
      "\n",
      "#Calculation\n",
      "#After solving equation using taylor seris of X, we got following coefficient. \n",
      "P1 = poly1d([128.0/math.factorial(7),0,-32.0/math.factorial(5),0,8.0/math.factorial(3),0,0,(-2*math.pi*(1-a1))], variable = 'x')\n",
      "P2 = poly1d([128.0/math.factorial(7),0,-32.0/math.factorial(5),0,8.0/math.factorial(3),0,0,(-math.pi*1.525)], variable = 'x')\n",
      "# hardcoded value used to match the answer to the book\n",
      "x1 = P1.r[(P1.order+1)/2]*180/math.pi\n",
      "x2 = P2.r[(P1.order+1)/2]*180/math.pi\n",
      "alfa1 = x1.real\n",
      "alfa2 = x2.real\n",
      "print(\"(a) alfa1 = %.1f\u00b0\"%(x1.real))\n",
      "print(\"(b) alfa2 = %.1f\u00b0\"%(x2.real))"
     ],
     "language": "python",
     "metadata": {},
     "outputs": [
      {
       "output_type": "stream",
       "stream": "stdout",
       "text": [
        "(a) alfa1 = 60.5\u00b0\n",
        "(b) alfa2 = 108.6\u00b0\n"
       ]
      }
     ],
     "prompt_number": 98
    },
    {
     "cell_type": "heading",
     "level": 2,
     "metadata": {},
     "source": [
      "example 6.7, Page No.295"
     ]
    },
    {
     "cell_type": "code",
     "collapsed": false,
     "input": [
      "# single phase AC regulator\n",
      "\n",
      "import math\n",
      "#variable declaration\n",
      "V = 230.0                 # Single phase supply voltage\n",
      "f = 50.0                  # supply frequency\n",
      "R = 15.0                  # load resistance\n",
      "alfa = 30.0               # firing angle\n",
      "\n",
      "#calculations\n",
      "sqrt_2 =math.floor(math.sqrt(2)*1000)/1000\n",
      "Vm = V*sqrt_2\n",
      "alfa = alfa*math.pi/180   #degree to radians\n",
      "#(a)\n",
      "#-Theoretical\n",
      "Iavg = Vm*(1+ math.cos(alfa))/(2*math.pi*R)\n",
      "Irms = (Vm/R)*math.sqrt(((math.pi - alfa)/(4*math.pi))+(math.sin(2*alfa)/(8*math.pi)))\n",
      "#(b)\n",
      "a1 = (Vm)*(math.cos(2*alfa)-1)/(2*math.pi)\n",
      "b1 = (Vm)*((math.pi-alfa)+((math.sin(2*alfa))/2.0))/(math.pi)\n",
      "Va = math.sqrt(a1**2 + b1**2)\n",
      "Vrms = Va/sqrt_2\n",
      "Vrms = math.floor(Vrms*1000)/1000\n",
      "#(e)\n",
      "P = (Vrms**2)/R\n",
      "#(f)\n",
      "Vl = Vm*math.sqrt((math.pi -alfa+((math.sin(2*alfa))/2.0))/(2*math.pi))\n",
      "Vl =math.floor(Vl*1000)/1000\n",
      "#(g)\n",
      "Pt = (Vl**2)/R\n",
      "\n",
      "#Result\n",
      "print(\"(a) Average thyristor current = %.2f A\\n RMS thyristor current = %.3f A\"%(Iavg,Irms))\n",
      "print(\"\\n(b) Amplitude of fundamental component of load voltage  = %.1f V\\n RMS value = %.3f V\"%(math.floor(Va*10)/10,Vrms))\n",
      "print(\"\\n(c) Since load is purely resistive, the load current rises from 0 to peak value instantaneously at alfa.\")\n",
      "print(\" Hence max.(di/dt) is infinite\")\n",
      "print(\"\\n(d) Maximum forward or reverse voltage across thyristor  = %.2f V \"%(Vm))#math.pi =1.414\n",
      "print(\"\\n\\n(e) Power delevered to load by fundamental component of load voltage = %.2f W\"%P)\n",
      "print(\"\\n\\n(f) Load voltage = %.3f V\"%Vl)\n",
      "print(\"\\n\\n(g) Total power output = %.2f W\"%Pt)"
     ],
     "language": "python",
     "metadata": {},
     "outputs": [
      {
       "output_type": "stream",
       "stream": "stdout",
       "text": [
        "(a) Average thyristor current = 6.44 A\n",
        " RMS thyristor current = 10.683 A\n",
        "\n",
        "(b) Amplitude of fundamental component of load voltage  = 316.9 V\n",
        " RMS value = 224.116 V\n",
        "\n",
        "(c) Since load is purely resistive, the load current rises from 0 to peak value instantaneously at alfa.\n",
        " Hence max.(di/dt) is infinite\n",
        "\n",
        "(d) Maximum forward or reverse voltage across thyristor  = 325.22 V \n",
        "\n",
        "\n",
        "(e) Power delevered to load by fundamental component of load voltage = 3348.53 W\n",
        "\n",
        "\n",
        "(f) Load voltage = 226.625 V\n",
        "\n",
        "\n",
        "(g) Total power output = 3423.93 W\n"
       ]
      }
     ],
     "prompt_number": 26
    },
    {
     "cell_type": "heading",
     "level": 2,
     "metadata": {},
     "source": [
      "example 6.8, Page No. 300"
     ]
    },
    {
     "cell_type": "code",
     "collapsed": false,
     "input": [
      "# Single phase full wave regulator\n",
      "\n",
      "import math\n",
      "#Variable declaration\n",
      "V = 150              # input voltage\n",
      "R = 4                # resistance of the circuit\n",
      "L = 22*10**-3        # Inductance\n",
      "f = 50               # frequency \n",
      "alfa = 60            # firing angle\n",
      "\n",
      "#Calculation\n",
      "#(a)\n",
      "w = 2*math.pi*f\n",
      "theta = (180/math.pi)*math.atan(w*L/R)\n",
      "beta = 180+alfa\n",
      "#(b)\n",
      "alfa = alfa*math.pi/180\n",
      "Vm = V*math.sqrt(2)\n",
      "Vm = math.floor(Vm*10)/10\n",
      "Vl = Vm*math.sqrt((math.pi-((math.sin(2*beta*math.pi/180))/2)+((math.sin(2*alfa))/2.0))/(2*math.pi))\n",
      "\n",
      "#Result\n",
      "print(\"(a)\\ntheta = %.0f\u00b0\\nAs alfa = theta, (beta-alfa) = Conduction angle= pi\\ntherefore, Beta = %d\u00b0\"%(theta,beta))\n",
      "print(\"\\n(b)\\n Vl = %.0f V\"%Vl)"
     ],
     "language": "python",
     "metadata": {},
     "outputs": [
      {
       "output_type": "stream",
       "stream": "stdout",
       "text": [
        "(a)\n",
        "theta = 60\u00b0\n",
        "As alfa = theta, (beta-alfa) = Conduction angle= pi\n",
        "therefore, Beta = 240\u00b0\n",
        "\n",
        "(b)\n",
        " Vl = 150 V\n"
       ]
      }
     ],
     "prompt_number": 41
    },
    {
     "cell_type": "heading",
     "level": 2,
     "metadata": {},
     "source": [
      "example 6.9, Page No. 300"
     ]
    },
    {
     "cell_type": "code",
     "collapsed": false,
     "input": [
      "# Single phase full wave regulator parameters\n",
      "\n",
      "import math\n",
      "#Variable declaration\n",
      "V = 230               # input voltage\n",
      "f = 50                # frequency\n",
      "R = 5                 # resistance of the circuit\n",
      "L = 20*10**-3         # inductance\n",
      "\n",
      "#Calculations\n",
      "w = 2*math.pi*f\n",
      "theta = (180/math.pi)*math.atan(R/(2*math.pi*f*L))\n",
      "theta = math.ceil(theta*100)/100\n",
      "Il = V/math.sqrt((R**2)+((w**2)*(L**2)))\n",
      "Il = math.floor(Il*100)/100\n",
      "P =R*Il**2\n",
      "ipf = (P)/(V*Il)\n",
      "\n",
      "#Result\n",
      "print(\"theta = %.2f\u00b0\"%theta)\n",
      "print(\"\\n(a) The minimum value of firing angle(alfa) is theta. Therefore, range of firing angle is %.2f\u00b0 to 180\u00b0.\"%theta)\n",
      "print(\"\\n(b) Conduction period of each thyristor is 180\u00b0.\")\n",
      "print(\"\\n(c)\\n  Load current = %.2f A\\n  Power output = %.2f W\\n  Input power factor = %.3f lagging\"%(Il,P,ipf)) "
     ],
     "language": "python",
     "metadata": {},
     "outputs": [
      {
       "output_type": "stream",
       "stream": "stdout",
       "text": [
        "theta = 38.52\u00b0\n",
        "\n",
        "(a) The minimum value of firing angle(alfa) is theta. Therefore, range of firing angle is 38.52\u00b0 to 180\u00b0.\n",
        "\n",
        "(b) Conduction period of each thyristor is 180\u00b0.\n",
        "\n",
        "(c)\n",
        "  Load current = 28.64 A\n",
        "  Power output = 4101.25 W\n",
        "  Input power factor = 0.623 lagging\n"
       ]
      }
     ],
     "prompt_number": 52
    },
    {
     "cell_type": "heading",
     "level": 2,
     "metadata": {},
     "source": [
      "example 6.10, Page No. 300"
     ]
    },
    {
     "cell_type": "code",
     "collapsed": false,
     "input": [
      "# Singal phase full wave regulator circuit parameters\n",
      "\n",
      "import math\n",
      "from scipy.integrate import quad\n",
      "#Variable declaration\n",
      "R = 9                    # resistance of the circuit\n",
      "L = 0.03                 # inductance\n",
      "V = 240                  # input voltage\n",
      "f = 50                   # frequency\n",
      "alfa1 = 0                # firing angle case a\n",
      "alfa2 = 60               # firing angle case b\n",
      "alfa3 = 90               # firing angle case c\n",
      "\n",
      "#calculations\n",
      "RbyL = R/L\n",
      "alfa1 = 0*math.pi/180\n",
      "alfa2 = 60*math.pi/180\n",
      "alfa3 = 90*math.pi/180 \n",
      "alfa4 = 13.7*math.pi/180 \n",
      "sqrt_2 =math.floor(math.sqrt(2)*1000)/1000\n",
      "w = 2*math.pi*f\n",
      "Z_mag = math.sqrt((R**2)+(w**2)*(L**2))\n",
      "Z_angle = math.floor((math.atan(w*L/R))*1000)/1000\n",
      "x=math.floor(math.cos(Z_angle)*10000)/10000\n",
      "\n",
      "#(a)\n",
      "Il = (V*math.sqrt(2)/Z_mag)#*math.sin((w/f)-(Z_angle*math.pi/180))\n",
      "Il = math.floor(Il*100)/100\n",
      "P = V*Il*x/sqrt_2\n",
      "#b\n",
      "k1 = math.ceil((Il*math.sin(alfa2-Z_angle))*100)/100\n",
      "def h(t):\n",
      "    return ((V*sqrt_2*math.sin(w*t*alfa2))*((Il*math.sin((w*t)+(alfa2-Z_angle)))-(k1*math.e**(-RbyL*t))))\n",
      "t2 = 0.00919\n",
      "t1 = 0\n",
      "val = quad(h,t1,t2)\n",
      "P2 = val[0]/0.01\n",
      "#c\n",
      "k2 =  math.floor((Il*math.sin(alfa3-Z_angle))*100)/100\n",
      "def g(t):\n",
      "    return ((V*sqrt_2*math.sin(w*t*alfa3))*((Il*math.sin((w*t)+(alfa3-Z_angle)))-(k2*math.e**(-RbyL*t))))\n",
      "t2 = 0.00733\n",
      "t1 = 0\n",
      "val2 = quad(g,t1,t2)\n",
      "P3 = val2[0]/0.01\n",
      "\n",
      "angle1 = math.ceil((Z_angle*180/math.pi)*10)/10\n",
      "angle2 = (alfa2-Z_angle)*180/math.pi\n",
      "angle3 = (alfa3-Z_angle)*180/math.pi\n",
      "\n",
      "#Result\n",
      "print(\"(a)\\nCurrent waveform--> i = %.2fsin(2pi*%dt-%.1f\u00b0) A\\nPower delivered = %.1f W\"%(Il,f,angle1,P))\n",
      "print(\"(b)\\nCurrent waveform--> i = %.2fsin(2pi*%dt+%.1f\u00b0)-%.2fe^(-%dt) A\\nPower delivered = %.1f W\"%(Il,f,angle2,k1,RbyL,P2))\n",
      "print(\"(c)\\nCurrent waveform--> i = %.2fsin(2pi*%dt+%.1f\u00b0)-%.2fe^(-%dt) A\\nPower delivered = %.1f W\"%(Il,f,angle3,k2,RbyL,P3))\n",
      "#Power answer for (b) and (c) do not match with the book"
     ],
     "language": "python",
     "metadata": {},
     "outputs": [
      {
       "output_type": "stream",
       "stream": "stdout",
       "text": [
        "(a)\n",
        "Current waveform--> i = 26.04sin(2pi*50t-46.3\u00b0) A\n",
        "Power delivered = 3053.6 W\n",
        "(b)\n",
        "Current waveform--> i = 26.04sin(2pi*50t+13.7\u00b0)-6.17e^(-300t) A\n",
        "Power delivered = 3885.4 W\n",
        "(c)\n",
        "Current waveform--> i = 26.04sin(2pi*50t+43.7\u00b0)-17.99e^(-300t) A\n",
        "Power delivered = 2138.7 W\n"
       ]
      }
     ],
     "prompt_number": 200
    },
    {
     "cell_type": "heading",
     "level": 2,
     "metadata": {},
     "source": [
      "example 6.11, Page No. 304"
     ]
    },
    {
     "cell_type": "code",
     "collapsed": false,
     "input": [
      "# Current and voltage ratings\n",
      "\n",
      "import math\n",
      "# variable declaration\n",
      "V = 415               # 3-phase input voltage\n",
      "f = 50                # frequency\n",
      "P = 20*10**3          # output power\n",
      "sf = 1.5              # safety factor\n",
      "\n",
      "#Calculations\n",
      "#(a)\n",
      "Il = P/(math.sqrt(3)*V)\n",
      "Irms = Il*sf\n",
      "Irms = math.floor(Irms*100)/100\n",
      "Vrms = V*sf\n",
      "#(b)\n",
      "Irms_thyristor = Il*sf/math.sqrt(2)\n",
      "\n",
      "#Result\n",
      "print(\"(a)\\n Line Current = %.2f A\\n RMS rating of each triac = %.2f A\\n rms voltage rating = %.1f V\"%(Il,Irms,Vrms))\n",
      "print(\"\\n(b)\\n Line Current = %.2f A\\n RMS rating of each thyristor = %.2f A\\n rms voltage rating = %.1f V\"%(Il,Irms_thyristor,Vrms))"
     ],
     "language": "python",
     "metadata": {},
     "outputs": [
      {
       "output_type": "stream",
       "stream": "stdout",
       "text": [
        "(a)\n",
        " Line Current = 27.82 A\n",
        " RMS rating of each triac = 41.73 A\n",
        " rms voltage rating = 622.5 V\n",
        "\n",
        "(b)\n",
        " Line Current = 27.82 A\n",
        " RMS rating of each thyristor = 29.51 A\n",
        " rms voltage rating = 622.5 V\n"
       ]
      }
     ],
     "prompt_number": 70
    },
    {
     "cell_type": "heading",
     "level": 2,
     "metadata": {},
     "source": [
      "example 6.12, Page No.305"
     ]
    },
    {
     "cell_type": "code",
     "collapsed": false,
     "input": [
      "# output parameters of 3-phase AC regulator\n",
      "\n",
      "import math\n",
      "# variable declaration\n",
      "V = 415               # 3-phase input voltage\n",
      "R = 15                # load resistance per phase\n",
      "alfa = 30             # firing angle\n",
      "\n",
      "#Calculations\n",
      "#(a)\n",
      "Vrms = V/math.sqrt(3)\n",
      "Vl = math.sqrt(3)*(math.sqrt(2)*Vrms)*math.sqrt(((math.pi/6)-((alfa*math.pi)/(180*4))+(math.sin(2*alfa*math.pi/180)/8))/(math.pi))\n",
      "Vl = math.floor(Vl*10)/10\n",
      "#(b)\n",
      "P = (3*Vl**2)/R\n",
      "#(c)\n",
      "Il = Vl/R\n",
      "#(d)\n",
      "VA = 3*Vrms*Il\n",
      "ipf = P/VA\n",
      "\n",
      "#Result\n",
      "print(\"(a) rms value of input phase voltage = %.1f V\\n    Vl = %.1f V\"%(Vrms,Vl))\n",
      "print(\"\\n(b) Output power = %.1f W or %.4f kW\\n\\n(c) Line Current = %.2fA\\n\\n(d) input p.f. = %.3f lagging\"%(P,P/1000,Il,ipf))"
     ],
     "language": "python",
     "metadata": {},
     "outputs": [
      {
       "output_type": "stream",
       "stream": "stdout",
       "text": [
        "(a) rms value of input phase voltage = 239.6 V\n",
        "    Vl = 234.3 V\n",
        "\n",
        "(b) Output power = 10979.3 W or 10.9793 kW\n",
        "\n",
        "(c) Line Current = 15.62A\n",
        "\n",
        "(d) input p.f. = 0.978 lagging\n"
       ]
      }
     ],
     "prompt_number": 88
    },
    {
     "cell_type": "heading",
     "level": 2,
     "metadata": {},
     "source": [
      "example 6.13, Page No. 305"
     ]
    },
    {
     "cell_type": "code",
     "collapsed": false,
     "input": [
      "# output parameters of 3-phase AC regulator\n",
      "\n",
      "import math\n",
      "# variable declaration\n",
      "V = 415               # 3-phase input voltage\n",
      "R = 15                # load resistance per phase\n",
      "alfa = 60             # firing angle\n",
      "\n",
      "#Calculations\n",
      "#(a)\n",
      "Vrms = V/math.sqrt(3)\n",
      "#Vrms = math.floor(Vrms*10)/10\n",
      "Vl = math.sqrt(3)*(1.414*Vrms)*math.sqrt(((3.141/6)-((alfa*3.141)/(180*4))+(math.sin(2*alfa*3.141/180)/8))/(math.pi))\n",
      "#pi value = 3.141 to match the answer in the book\n",
      "Vl = math.floor(Vl*100)/100\n",
      "#(b)\n",
      "P = (3*Vl**2)/R\n",
      "#(c)\n",
      "Il = Vl/R\n",
      "#(d)\n",
      "VA = 3*Vrms*Il\n",
      "ipf = P/VA\n",
      "\n",
      "#Result\n",
      "print(\"(a) rms value of input phase voltage = %f V\\n    Vl = %f V\"%(Vrms,Vl))\n",
      "print(\"\\n(b) Output power = %.2f W or %.5f kW\\n\\n(c) Line Current = %.3fA\\n\\n(d) input p.f. = %.2f lagging\"%(P,P/1000,Il,ipf))"
     ],
     "language": "python",
     "metadata": {},
     "outputs": [
      {
       "output_type": "stream",
       "stream": "stdout",
       "text": [
        "(a) rms value of input phase voltage = 239.600362 V\n",
        "    Vl = 201.390000 V\n",
        "\n",
        "(b) Output power = 8111.59 W or 8.11159 kW\n",
        "\n",
        "(c) Line Current = 13.426A\n",
        "\n",
        "(d) input p.f. = 0.84 lagging\n"
       ]
      }
     ],
     "prompt_number": 109
    }
   ],
   "metadata": {}
  }
 ]
}