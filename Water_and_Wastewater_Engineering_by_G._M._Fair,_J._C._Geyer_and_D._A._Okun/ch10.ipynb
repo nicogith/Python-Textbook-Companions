{
 "metadata": {
  "name": "",
  "signature": "sha256:a8b74fc9d03d0c351dd92e0bc3a167aee10debeb1676b07b6cf10a252a49f523"
 },
 "nbformat": 3,
 "nbformat_minor": 0,
 "worksheets": [
  {
   "cells": [
    {
     "cell_type": "heading",
     "level": 1,
     "metadata": {},
     "source": [
      "Chapter 10 : Groundwater Collection"
     ]
    },
    {
     "cell_type": "heading",
     "level": 2,
     "metadata": {},
     "source": [
      "Example 10.1 Page No : 10-14"
     ]
    },
    {
     "cell_type": "code",
     "collapsed": false,
     "input": [
      "\t\n",
      "#initialisation of variables\n",
      "w1 = 1000.\t#ft\n",
      "w2 = 2000.\t#ft\n",
      "r = 700.\t#gpm\n",
      "d = 10.  \t#days\n",
      "q = 2\t    #ft\n",
      "u = 1.87*((3.4*10**-5)/(3.2*10**4))*(d**6/d)\t#ft\n",
      "W = 7.94\t#ft\n",
      "p = 114.6*(7*10**2)*W/(3.2*10**4)\t#ft\n",
      "U = 1.87*((3.4*10**-5)/(3.2*10**4))*(4*d**6/d)\t#ft\n",
      "Wu = 6.55\t#ft\n",
      "P = 114.6*(7*10**2)*Wu/(3.2*10**4)\t#ft\n",
      "R = 54\t#ft\n",
      "\t\n",
      "#CALCULATIONS\n",
      "W1 = R+p+P\t#ft\n",
      "D = R+q*p\t#ft\n",
      "\t\n",
      "#RESULTS\n",
      "print 'the expected drawndown the first well is pumped at a rate = %.0f ft'%(W1)\n",
      "print 'the drawdown in each well all the three are pupped at a rate = %.0f ft'%(D)\n"
     ],
     "language": "python",
     "metadata": {},
     "outputs": [
      {
       "output_type": "stream",
       "stream": "stdout",
       "text": [
        "the expected drawndown the first well is pumped at a rate = 90 ft\n",
        "the drawdown in each well all the three are pupped at a rate = 94 ft\n"
       ]
      }
     ],
     "prompt_number": 1
    },
    {
     "cell_type": "heading",
     "level": 2,
     "metadata": {},
     "source": [
      "Example 10.3 Page No : 10-19"
     ]
    },
    {
     "cell_type": "code",
     "collapsed": false,
     "input": [
      "\t\n",
      "#initialisation of variables\n",
      "g = 20\t#ft\n",
      "k = 10**-1\t#cm/sec\n",
      "g1 = 3.28*10**-3\t#fps\n",
      "w = 2\t#ft\n",
      "w1 = 30\t#ft\n",
      "\t\n",
      "#CALCULATIONS\n",
      "Q = (1./2)*(g1)*((g**2)-(2**2))/(w1)\t#cfs\n",
      "\t\n",
      "#RESULTS\n",
      "print 'the flow into a foot of gallery = %.1e cfs'%(Q)\n"
     ],
     "language": "python",
     "metadata": {},
     "outputs": [
      {
       "output_type": "stream",
       "stream": "stdout",
       "text": [
        "the flow into a foot of gallery = 2.2e-02 cfs\n"
       ]
      }
     ],
     "prompt_number": 2
    }
   ],
   "metadata": {}
  }
 ]
}