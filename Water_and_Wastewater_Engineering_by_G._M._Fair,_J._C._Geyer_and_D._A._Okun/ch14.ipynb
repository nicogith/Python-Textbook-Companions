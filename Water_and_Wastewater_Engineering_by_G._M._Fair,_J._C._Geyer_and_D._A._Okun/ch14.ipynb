{
 "metadata": {
  "name": "",
  "signature": "sha256:b3817b87ab26f1af6cc1ad821b24c26f6f6f9d19671fc5e655b736548ecb040a"
 },
 "nbformat": 3,
 "nbformat_minor": 0,
 "worksheets": [
  {
   "cells": [
    {
     "cell_type": "heading",
     "level": 1,
     "metadata": {},
     "source": [
      "Chapter 14 : Wastewater Flows"
     ]
    },
    {
     "cell_type": "heading",
     "level": 2,
     "metadata": {},
     "source": [
      "Example 14.1 Page No : 14-4"
     ]
    },
    {
     "cell_type": "code",
     "collapsed": false,
     "input": [
      "\t\n",
      "#initialisation of variables\n",
      "n = 0.013\t#ft\n",
      "s = 4.90\t#ft\n",
      "v = 0.590\t#ft\n",
      "d = 0.463\t#ft\n",
      "w = 3.9*10**-2\t#ft\n",
      "p = 1.696\t#ft\n",
      "\t\n",
      "#CALCULATIONS\n",
      "V = s*v\t#fps\n",
      "Q = s*d\t#cfs\n",
      "N = (w*p)**2*1000\t#percent\n",
      "\t\n",
      "#RESULTS\n",
      "print 'the velocity of flow and rate of discharge = %.2f percent'%(N)\n"
     ],
     "language": "python",
     "metadata": {},
     "outputs": [
      {
       "output_type": "stream",
       "stream": "stdout",
       "text": [
        "the velocity of flow and rate of discharge = 4.38 percent\n"
       ]
      }
     ],
     "prompt_number": 1
    },
    {
     "cell_type": "heading",
     "level": 2,
     "metadata": {},
     "source": [
      "Example 14.2 Page No : 14-7"
     ]
    },
    {
     "cell_type": "code",
     "collapsed": false,
     "input": [
      "import math \n",
      "\t\n",
      "#initialisation of variables\n",
      "v = 1.34\t#fps\n",
      "s = 3.7*10**-3\t#fps\n",
      "k = 0.8\t#ft\n",
      "r = 20\t#ft\n",
      "k1 = 0.04\t#ft\n",
      "v = 3.0\t#fps\n",
      "v1 = 5.0\t#fps\n",
      "d = 10**-1\t#ft\n",
      "d1 = 1.34\t#ft\n",
      "\t\n",
      "#CALCULATIONS\n",
      "V = round((1.49/1.3*10**-2)*(1./4)**(1./6)*(k1*d/30.48*(2.65-1)/1)**(1./2) * 10000,2)\n",
      "# for v = 3\n",
      "v1 = 3.\n",
      "D1 = d*(v1/V)**2\n",
      "\n",
      "# for v = 5\n",
      "v2 = 5\n",
      "D2 = d*(v2/V)**2\n",
      "\t\n",
      "#RESULTS\n",
      "print 'For velocity = %d, the gradient at the which coarse quartz = %.1f cm'%(v1,D1)  #incorrect answer in the textbook\n",
      "print \"For velocity = %d, the gradient at the which coarse quartz = %.1f cm\"%(v2,D2)\n"
     ],
     "language": "python",
     "metadata": {},
     "outputs": [
      {
       "output_type": "stream",
       "stream": "stdout",
       "text": [
        "For velocity = 3, the gradient at the which coarse quartz = 0.5 cm\n",
        "For velocity = 5, the gradient at the which coarse quartz = 1.4 cm\n"
       ]
      }
     ],
     "prompt_number": 5
    },
    {
     "cell_type": "heading",
     "level": 2,
     "metadata": {},
     "source": [
      "Example 14.3 Page No : 14-10"
     ]
    },
    {
     "cell_type": "code",
     "collapsed": false,
     "input": [
      "\n",
      "\t\n",
      "#initialisation of variables\n",
      "v = 2.5\t#fps\n",
      "q = 0.873\t#cfs\n",
      "s = 5.20\t#percent\n",
      "a = 0.252\t#ft\n",
      "r = 0.684\t#ft\n",
      "r1 = 1.46\t#ft\n",
      "v1 = 0.776\t#ft\n",
      "q1 = 0.196\t#ft\n",
      "n = 0.78\t#ft\n",
      "R = 0.939\t#ft\n",
      "\t\n",
      "#CALCULATIONS\n",
      "V = v1*v\t#fps\n",
      "Q = q1*q\t#cfs\n",
      "R1 = r1*s\t#percent\n",
      "Vs = R*v\t#ft\n",
      "N = n*Vs\t#fps\n",
      "Qs = a*R*q\t#cfs\n",
      "N1 = n*Qs\t#cfs\n",
      "\t\n",
      "#RESULTS\n",
      "print 'the required grades and associated velocity and rates = %.3f cfs'%(V)\n",
      "print 'the depth and a grade = %.3f cfs'%(Q)\n",
      "print 'the self cleaning flow = %.3f cfs'%(N1)\n"
     ],
     "language": "python",
     "metadata": {},
     "outputs": [
      {
       "output_type": "stream",
       "stream": "stdout",
       "text": [
        "the required grades and associated velocity and rates = 1.940 cfs\n",
        "the depth and a grade = 0.171 cfs\n",
        "the self cleaning flow = 0.161 cfs\n"
       ]
      }
     ],
     "prompt_number": 3
    },
    {
     "cell_type": "heading",
     "level": 2,
     "metadata": {},
     "source": [
      "Example 14.4 Page No : 14-11"
     ]
    },
    {
     "cell_type": "code",
     "collapsed": false,
     "input": [
      "\t\n",
      "#initialisation of variables\n",
      "Q = 0.873\t#cfs\n",
      "s = 5.20\t#percent\n",
      "d = 0.161\t#cfs\n",
      "q1 = 0.185\t#ft\n",
      "d2 = 2.5\t#ft\n",
      "v = 0.91\t#ft\n",
      "s1 = 1.70\t#ft\n",
      "s3 = 1.46\t#ft\n",
      "w = 0.185\t#ft\n",
      "d1 = 0.30\t#ft\n",
      "v1 = 0.732\t#ft\n",
      "\t\n",
      "#CALCULATIONS\n",
      "q = d/Q\t#cfs\n",
      "Vs = v*d2\t#fps\n",
      "Ss = s1*s\t#percent\n",
      "Va = v1*d2\t#fps\n",
      "Ss1 = s3*s\t#percent\n",
      "\t\n",
      "#RESULTS\n",
      "print 'the depth and velocity of flow and the required slop = %.1f percent'%(Ss1)\n"
     ],
     "language": "python",
     "metadata": {},
     "outputs": [
      {
       "output_type": "stream",
       "stream": "stdout",
       "text": [
        "the depth and velocity of flow and the required slop = 7.6 percent\n"
       ]
      }
     ],
     "prompt_number": 4
    },
    {
     "cell_type": "heading",
     "level": 2,
     "metadata": {},
     "source": [
      "Example 14.5 Page No : 14-13"
     ]
    },
    {
     "cell_type": "code",
     "collapsed": false,
     "input": [
      "\t\n",
      "#initialisation of variables\n",
      "d1 = 0.67\t#ft\n",
      "h1 = 2.00\t#ft\n",
      "h2 = 4.04\t#ft\n",
      "hv1 = 0.062\t#ft\n",
      "hv2 = 0.254\t#ft\n",
      "d = 0.19\t#ft\n",
      "h = 0.2\t#ft\n",
      "h1 = 0.04\t#ft\n",
      "q = 0.644\t#ft\n",
      "q1 = 0.65\t#ft\n",
      "v = 0.92\t#ft\n",
      "d2 = 6.5\t#ft\n",
      "v1 = 3.69\t#ft\n",
      "d3 = 0.542\t#ft\n",
      "hv3 = 0.21\t#ft\n",
      "delv = 0.15\t#ft\n",
      "d4 = 0.02\t#ft\n",
      "\t\n",
      "#CALCULATIONS\n",
      "H = d1+hv1\t#ft\n",
      "H1 = d1+hv2\t#ft\n",
      "he = h*d\t#ft\n",
      "hi = d+h1\t#ft\n",
      "H2 = d3+hv3\t#ft\n",
      "he1 = h*delv\t#ft\n",
      "S = d4+h1\t#ft\n",
      "\t\n",
      "#RESULTS\n",
      "print 'the required slope = %.2f ft'%(hi)\n",
      "print 'the lower sewer and the invert drop in the transition = %.2f ft'%(S)\n"
     ],
     "language": "python",
     "metadata": {},
     "outputs": [
      {
       "output_type": "stream",
       "stream": "stdout",
       "text": [
        "the required slope = 0.23 ft\n",
        "the lower sewer and the invert drop in the transition = 0.06 ft\n"
       ]
      }
     ],
     "prompt_number": 5
    },
    {
     "cell_type": "heading",
     "level": 2,
     "metadata": {},
     "source": [
      "Example 14.6 Page No : 14-17"
     ]
    },
    {
     "cell_type": "code",
     "collapsed": false,
     "input": [
      "\t\n",
      "#initialisation of variables\n",
      "q = 60\t#cfs\n",
      "D = 4\t#ft\n",
      "w = 0.177\t#ft\n",
      "s = 0.59\t#ft\n",
      "h = 4.0\t#ft\n",
      "d1 = 1.0\t#ft\n",
      "v = 0.90\t#ft\n",
      "d1 = 0.42\t#ft\n",
      "h1 = 6.0\t#ft\n",
      "h2 = 1.5\t#ft\n",
      "dl = 1.3\t#ft\n",
      "p = 0.41\t#ft\n",
      "u = 0.8\t#ft\n",
      "u1 = 3.2\t#ft\n",
      "y = 0.45\t#ft\n",
      "\t\n",
      "#CALCULATIONS\n",
      "H = s*D\t#ft\n",
      "d2 = d1*D\t#ft\n",
      "V = v*D\t#ft\n",
      "P = p*D\t#ft\n",
      "D1 = y*D\t#ft\n",
      "\t\n",
      "#RESULTS\n",
      "print 'the critical depth = %.1f ft'%(H)\n",
      "print 'the alternate stages for an energy  = %.1f ft'%(V)\n",
      "print 'the alternate stages for an energy head = %.1f ft'%(P)\n",
      "print 'the lower alternate stage with upper alternate stage = %.1f ft'%(D1)\n"
     ],
     "language": "python",
     "metadata": {},
     "outputs": [
      {
       "output_type": "stream",
       "stream": "stdout",
       "text": [
        "the critical depth = 2.4 ft\n",
        "the alternate stages for an energy  = 3.6 ft\n",
        "the alternate stages for an energy head = 1.6 ft\n",
        "the lower alternate stage with upper alternate stage = 1.8 ft\n"
       ]
      }
     ],
     "prompt_number": 6
    },
    {
     "cell_type": "heading",
     "level": 2,
     "metadata": {},
     "source": [
      "Example 14.7 Page No : 14-19"
     ]
    },
    {
     "cell_type": "code",
     "collapsed": false,
     "input": [
      "\t\n",
      "#initialisation of variables\n",
      "d = 106\t    #cfs\n",
      "q = 400.\t#cfs\n",
      "d1 = 0.40\t#cfs\n",
      "w = 10\t#ft\n",
      "\t\n",
      "#CALCULATIONS\n",
      "D = d/q\t#cfs\n",
      "D1 = d1*w\t#cfs\n",
      "\t\n",
      "#RESULTS\n",
      "print 'the water level in this well rises = %.f ft'%(D1)\n"
     ],
     "language": "python",
     "metadata": {},
     "outputs": [
      {
       "output_type": "stream",
       "stream": "stdout",
       "text": [
        "the water level in this well rises = 4 ft\n"
       ]
      }
     ],
     "prompt_number": 1
    },
    {
     "cell_type": "heading",
     "level": 2,
     "metadata": {},
     "source": [
      "Example 14.8 Page No : 14-19"
     ]
    },
    {
     "cell_type": "code",
     "collapsed": false,
     "input": [
      "import math\t\n",
      "#initialisation of variables\n",
      "Q = (400/78.5*math.sqrt(10*32.2))**2\t#ft\n",
      "N = 0.012\t#ft\n",
      "d = 0.47\t#ft\n",
      "q = 10\t#ft\n",
      "\t\n",
      "#CALCULATIONS\n",
      "D = d*q\t#ft\n",
      "\n",
      "#RESULTS\n",
      "print 'the water surface in the sewer when it is flowing at maximum capacity = %.1f ft'%(D)\n"
     ],
     "language": "python",
     "metadata": {},
     "outputs": [
      {
       "output_type": "stream",
       "stream": "stdout",
       "text": [
        "the water surface in the sewer when it is flowing at maximum capacity = 4.7 ft\n"
       ]
      }
     ],
     "prompt_number": 13
    },
    {
     "cell_type": "heading",
     "level": 2,
     "metadata": {},
     "source": [
      "Example 14.9 Page No : 14-23"
     ]
    },
    {
     "cell_type": "code",
     "collapsed": false,
     "input": [
      "import math \n",
      "\n",
      "#initialisation of variable\n",
      "g = math.sqrt(3)\t#ft\n",
      "d = 5.67\t#ft\n",
      "\t\n",
      "#CALCULATIONS\n",
      "C = g*d\t#ft\n",
      "\t\n",
      "#RESULTS\n",
      "print 'The rate of propagation of a discontinuous surge = %.1f ft'%(C)\n"
     ],
     "language": "python",
     "metadata": {},
     "outputs": [
      {
       "output_type": "stream",
       "stream": "stdout",
       "text": [
        "The rate of propagation of a discontinuous surge = 9.8 ft\n"
       ]
      }
     ],
     "prompt_number": 8
    },
    {
     "cell_type": "heading",
     "level": 2,
     "metadata": {},
     "source": [
      "Example 14.10 Page No : 14-24"
     ]
    },
    {
     "cell_type": "code",
     "collapsed": false,
     "input": [
      "\n",
      "#initialisation of variables\n",
      "Q1 = 30\t#cfs\n",
      "Q2 = 16\t#cfs\n",
      "a = 32\t#sq ft\n",
      "r = 1.6\t#ft\n",
      "i = 10**-4\t#ft\n",
      "n = 1.25*10**-2\t#ft\n",
      "h2 = 0.50\t#ft\n",
      "c = 3.33\t#ft\n",
      "h1 = 5.20\t#ft\n",
      "l = 72\t#ft\n",
      "s = 12320\t#ft\n",
      "\n",
      "#CALCULATIONS\n",
      "L = s-l\t#ft\n",
      "h1 = 0.49022 - 8.04*10**-5*l\t\n",
      "#RESULTS\n",
      "print 'the forchheimer s methos  = %.0f ft'%(L)\n",
      "print (Q1**2-Q2**2)/(2*32.2*a**2)"
     ],
     "language": "python",
     "metadata": {},
     "outputs": [
      {
       "output_type": "stream",
       "stream": "stdout",
       "text": [
        "the forchheimer s methos  = 12248 ft\n"
       ]
      }
     ],
     "prompt_number": 2
    },
    {
     "cell_type": "heading",
     "level": 2,
     "metadata": {},
     "source": [
      "Example 14.11 Page No : 14-27"
     ]
    },
    {
     "cell_type": "code",
     "collapsed": false,
     "input": [
      "import math\n",
      "\n",
      "#initialisation of variables\n",
      "q = 1.0\t#cfs\n",
      "g = 2.0\t#percent\n",
      "g1 = 5.6\t#percent\n",
      "r = 0.015\t#cfs\n",
      "w = 90.\t#percent\n",
      "Q = 10*0.9*q\t#ft\n",
      "p = 0.10\t#ft\n",
      "h = 3.48*g1**(1./3)\t#ft\n",
      "i = 5.6*10**-2\t\n",
      "Q0 = 1.\n",
      "s = 2*10**-2\n",
      "n = 1.5*10**-2\n",
      "\n",
      "#CALCULATIONS\n",
      "q_l = round(1.87*i**0.569*(Q0/(math.sqrt(s)/n))**0.563,2)\n",
      "l = q_l * 100\n",
      "Q = 10*0.9*Q0\n",
      "d = (3.48*32.2**(1./3)) * (q_l)**(2./3)\n",
      "\n",
      "#RESULTS\n",
      "print 'The maximum depth of flow in the gutter = %.1f in'%(d)\n"
     ],
     "language": "python",
     "metadata": {},
     "outputs": [
      {
       "output_type": "stream",
       "stream": "stdout",
       "text": [
        "The maximum depth of flow in the gutter = 2.4 in\n"
       ]
      }
     ],
     "prompt_number": 14
    }
   ],
   "metadata": {}
  }
 ]
}