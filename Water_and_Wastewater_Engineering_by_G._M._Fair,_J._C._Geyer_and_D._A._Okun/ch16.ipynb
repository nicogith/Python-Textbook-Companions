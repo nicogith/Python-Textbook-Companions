{
 "metadata": {
  "name": "",
  "signature": "sha256:3c3856bc217e5f495e078375001a6745906e09c45dfca2c5d1fe105500ef94b8"
 },
 "nbformat": 3,
 "nbformat_minor": 0,
 "worksheets": [
  {
   "cells": [
    {
     "cell_type": "heading",
     "level": 1,
     "metadata": {},
     "source": [
      "Chapter 16 : Machinery and Equipment"
     ]
    },
    {
     "cell_type": "heading",
     "level": 2,
     "metadata": {},
     "source": [
      "Example 16.2 Page No : 16-11"
     ]
    },
    {
     "cell_type": "code",
     "collapsed": false,
     "input": [
      "\t\n",
      "#initialisation of variables\n",
      "p = 500\t#ft\n",
      "p1 = 6\t#in\n",
      "t = 500\t#cfm\n",
      "p2 = 7\t#psig\n",
      "P = p2+14.7\t#psia\n",
      "T = 520*(P/14.7)**0.283\t#F\n",
      "f = 0.048*p1**0.027/(t)**0.148\t#in\n",
      "\t\n",
      "#CALCULATIONS\n",
      "delP = 20.*10**-3*p*T*(t)**2/(38*10**3*P*p1**5)\t#psia\n",
      "\t\n",
      "#RESULTS\n",
      "print 'the pressure drop = %.2f psia'%(delP)\n"
     ],
     "language": "python",
     "metadata": {},
     "outputs": [
      {
       "output_type": "stream",
       "stream": "stdout",
       "text": [
        "the pressure drop = 0.23 psia\n"
       ]
      }
     ],
     "prompt_number": 1
    }
   ],
   "metadata": {}
  }
 ]
}