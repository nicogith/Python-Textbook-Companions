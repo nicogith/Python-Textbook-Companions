{
 "metadata": {
  "name": "",
  "signature": "sha256:098e6f8caaa45e66f3c3c4de6e35624c980f673866a521599c34dc5ef9f6350c"
 },
 "nbformat": 3,
 "nbformat_minor": 0,
 "worksheets": [
  {
   "cells": [
    {
     "cell_type": "heading",
     "level": 1,
     "metadata": {},
     "source": [
      "Chapter 6 : Elements of Hydrology"
     ]
    },
    {
     "cell_type": "heading",
     "level": 2,
     "metadata": {},
     "source": [
      "Example 6.1 Page No : 6-6"
     ]
    },
    {
     "cell_type": "code",
     "collapsed": false,
     "input": [
      "\t\n",
      "#initialisation of variables\n",
      "H = 1360\t#ft\n",
      "t = 60\t#f\n",
      "a = (10**3)*5.5*(10**-3)\t#f\n",
      "q = (1.36*10**3)*5.5*(10**-3)\t#f\n",
      "s = (4-1.36)*(10**3)*(3.2*10**-3)\t#f\n",
      "\t\n",
      "#CALCULATIONS\n",
      "T = t-q-s\t#F\n",
      "T1 = T+3*a\t#F\n",
      "\t\n",
      "#RESULTS\n",
      "print 'the temperature at the mountain top = %.0f F'%(T)\n",
      "print 'the temperature on the plain beyond the mountain = %.1f F'%(T1)\n"
     ],
     "language": "python",
     "metadata": {},
     "outputs": [
      {
       "output_type": "stream",
       "stream": "stdout",
       "text": [
        "the temperature at the mountain top = 44 F\n",
        "the temperature on the plain beyond the mountain = 60.6 F\n"
       ]
      }
     ],
     "prompt_number": 1
    },
    {
     "cell_type": "heading",
     "level": 2,
     "metadata": {},
     "source": [
      "Example 6.2 Page No : 6-12"
     ]
    },
    {
     "cell_type": "code",
     "collapsed": false,
     "input": [
      "\t\n",
      "#initialisation of variables\n",
      "t = 60\t#f\n",
      "v = 0.52\t#in\n",
      "t1 = 80\t#F\n",
      "p = 40\t#percent\n",
      "v1 = 1.03*0.40\t#in\n",
      "w = 8\t#mph\n",
      "pa = 29.0\t#in\n",
      "p1 = 0.497\t#ft\n",
      "q = 1.32*10**-2\t#ft\n",
      "r = 0.268\t#ft\n",
      "\t\n",
      "#CALCULATIONS\n",
      "E = p1*(1-q*pa)*(1+r*w)*(v-.41)\t#in\n",
      "\t\n",
      "#RESULTS\n",
      "print 'the evaporation for the a day during = %.2e in'%(E)\n",
      "\n",
      "# note : answer is slightly different because of rounding off error."
     ],
     "language": "python",
     "metadata": {},
     "outputs": [
      {
       "output_type": "stream",
       "stream": "stdout",
       "text": [
        "the evaporation for the a day during = 1.06e-01 in\n"
       ]
      }
     ],
     "prompt_number": 3
    },
    {
     "cell_type": "heading",
     "level": 2,
     "metadata": {},
     "source": [
      "Example 6.3 Page No : 6-19"
     ]
    },
    {
     "cell_type": "code",
     "collapsed": false,
     "input": [
      "\t\n",
      "#initialisation of variables\n",
      "t = 47\t#f\n",
      "q = 8000\t#ft\n",
      "a = 100\t#ft\n",
      "d = 0.10\t#in\n",
      "d1 = 7\t#degree days\n",
      "s1 = 14000\t#ft\n",
      "s2 = 7000\t#ft\n",
      "s = 1000\t#ft\n",
      "g = 32\t#ft\n",
      "h = 17.37\t#ft\n",
      "h1 = 1.547\t#ft\n",
      "\t\n",
      "#CALCULATIONS\n",
      "T = q+s*(t-g)/3\t#ft\n",
      "T1 = t-3*1\t#F\n",
      "T2 = (T1+g)/2\t#F\n",
      "T3 = d1*d*a\t#sq mile in\n",
      "M = h*T3\t#mgd\n",
      "M1 = M*h1\t#cfs\n",
      "\t\n",
      "#RESULTS\n",
      "print 'the upper boundary of the melting zone and temperature at the snow line = %.0f F'%(T1)\n",
      "print 'The average temperature of  = %d cfs'%(M1)\n"
     ],
     "language": "python",
     "metadata": {},
     "outputs": [
      {
       "output_type": "stream",
       "stream": "stdout",
       "text": [
        "the upper boundary of the melting zone and temperature at the snow line = 44 F\n",
        "The average temperature of  = 1880 cfs\n"
       ]
      }
     ],
     "prompt_number": 4
    }
   ],
   "metadata": {}
  }
 ]
}