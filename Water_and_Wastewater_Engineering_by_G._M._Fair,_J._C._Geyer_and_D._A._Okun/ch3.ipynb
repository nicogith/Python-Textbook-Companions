{
 "metadata": {
  "name": "",
  "signature": "sha256:0ac87828ad067f0685215c3ea3f783dc1f30af884f5edc144a109aec1b63e4e7"
 },
 "nbformat": 3,
 "nbformat_minor": 0,
 "worksheets": [
  {
   "cells": [
    {
     "cell_type": "heading",
     "level": 1,
     "metadata": {},
     "source": [
      "Chapter 3 : Wastewater Systems"
     ]
    },
    {
     "cell_type": "heading",
     "level": 2,
     "metadata": {},
     "source": [
      "Example 3.1 Page No : 3-12"
     ]
    },
    {
     "cell_type": "code",
     "collapsed": false,
     "input": [
      "import math \n",
      "\t\n",
      "#initialisation of variables\n",
      "v = 2.5\t#fps\n",
      "c = 0.013\t#gpd\n",
      "p = 300\t#gpd\n",
      "d = 50\t#per care\n",
      "m = 5.20\t#ft\n",
      "a = 1000\t#ft\n",
      "\t\n",
      "#CALCULATIONS\n",
      "C = (math.pi*64)/(4*144)*v*646000\t#gpd\n",
      "M = m/a\t#ft\n",
      "P = C/p\n",
      "A = P/d\t#acres\n",
      "\t\n",
      "#RESULTS\n",
      "print 'the acres will it drain if the population density = %.1f acres'%(A)\n",
      "\n",
      "# rounding off error"
     ],
     "language": "python",
     "metadata": {},
     "outputs": [
      {
       "output_type": "stream",
       "stream": "stdout",
       "text": [
        "the acres will it drain if the population density = 37.6 acres\n"
       ]
      }
     ],
     "prompt_number": 1
    },
    {
     "cell_type": "heading",
     "level": 2,
     "metadata": {},
     "source": [
      "Example 3.2 Page No : 3-14"
     ]
    },
    {
     "cell_type": "code",
     "collapsed": false,
     "input": [
      "import math \n",
      "\t\n",
      "#initialisation of variables\n",
      "a = 37.4\t#acres\n",
      "r = 2.\t#in\n",
      "p = 30.\t#min\n",
      "v = 3\t#fps\n",
      "r1 = 0.6\t#in\n",
      "h = 1.0\t#cfs\n",
      "p1 = 50\t#percent\n",
      "q = 646000\t#gpd\n",
      "\t\n",
      "#CALCULATIONS\n",
      "R = r*r1*a\t#cfs\n",
      "A = R/v\t#sq ft\n",
      "D = 12*math.sqrt(4*A/math.pi)\t#in\n",
      "P = r*r1*q/p1\t#gpcd\n",
      "\t\n",
      "#RESULTS\n",
      "print 'the per capita storm runoff for a population density = %.0f gpcd'%(round(P,-1))\n"
     ],
     "language": "python",
     "metadata": {},
     "outputs": [
      {
       "output_type": "stream",
       "stream": "stdout",
       "text": [
        "the per capita storm runoff for a population density = 15500 gpcd\n"
       ]
      }
     ],
     "prompt_number": 2
    },
    {
     "cell_type": "heading",
     "level": 2,
     "metadata": {},
     "source": [
      "Example 3.3 Page No : 3-16"
     ]
    },
    {
     "cell_type": "code",
     "collapsed": false,
     "input": [
      "import math \n",
      "\t\n",
      "#initialisation of variables\n",
      "w = 1.0\t#cfs\n",
      "w1 = 3.0\t#cfs\n",
      "w2 = 45.0\t#cfs\n",
      "v = 3.0\t#fps\n",
      "h = 144\t#ft\n",
      "D = 12*math.sqrt(4*w/(math.pi*w1))\t#in\n",
      "d1 = 1.95\t#cfs\n",
      "D1 = 12*math.sqrt(4*d1)/(math.pi*v)\t#in\n",
      "d2 = 41.6\t#cfs\n",
      "D2 = 12*math.sqrt(4*d2)/(math.pi*w1)\t#ins\n",
      "\t\n",
      "#CALCULATIONS\n",
      "C = math.pi*(D)**2*3/(4*h)\t#cfs\n",
      "C1 = math.pi*(1./4)*3\t#cfs\n",
      "V = (d2*4)/(math.pi*4**2)\t#fps\n",
      "\t\n",
      "#RESULTS\n",
      "print 'The minimum dry-weather flow  = %.2f cfs'%(C)\n",
      "print 'The maximum dry-weather flow in excess actual capacity = %.1f cfs'%(C1)\n",
      "print 'the storm flow in axcess of maximum dry-weather flow = %.1f fps'%(V)\n"
     ],
     "language": "python",
     "metadata": {},
     "outputs": [
      {
       "output_type": "stream",
       "stream": "stdout",
       "text": [
        "The minimum dry-weather flow  = 1.00 cfs\n",
        "The maximum dry-weather flow in excess actual capacity = 2.4 cfs\n",
        "the storm flow in axcess of maximum dry-weather flow = 3.3 fps\n"
       ]
      }
     ],
     "prompt_number": 3
    },
    {
     "cell_type": "heading",
     "level": 2,
     "metadata": {},
     "source": [
      "Example 3.4 Page No : 3-26"
     ]
    },
    {
     "cell_type": "code",
     "collapsed": false,
     "input": [
      "\t\n",
      "#initialisation of variables\n",
      "t = 0.8\t#mgd\n",
      "d = 8000.\t#people\n",
      "a = 2.\t#hr\n",
      "v = 800000.\t#ft\n",
      "h = 10.\t#ft\n",
      "a1 = 4.\t#in\n",
      "d1 = 1.\t#sq ft per capita\n",
      "a3 = 3.\t#mgad\n",
      "\t\n",
      "#CALCULATIONS\n",
      "V = v*(a/24)/a\t#gal\n",
      "S = V/h\t#sq ft\n",
      "S1 = (v/h)/S\t#gpd per sq ft\n",
      "V1 = a*d/h\t#cu ft\n",
      "D = d/S\t#ft\n",
      "E = d1*d/a1\t#sq ft\n",
      "A = t/a3\t#acre\n",
      "\t\n",
      "#RESULTS\n",
      "print 'the capacity of the components of a small trickling-filter  = %.2f acre'%(A)\n"
     ],
     "language": "python",
     "metadata": {},
     "outputs": [
      {
       "output_type": "stream",
       "stream": "stdout",
       "text": [
        "the capacity of the components of a small trickling-filter  = 0.27 acre\n"
       ]
      }
     ],
     "prompt_number": 4
    },
    {
     "cell_type": "heading",
     "level": 2,
     "metadata": {},
     "source": [
      "Example 3.5 Page No : 3-28"
     ]
    },
    {
     "cell_type": "code",
     "collapsed": false,
     "input": [
      "\t\n",
      "#initialisation of variables\n",
      "w = 2000.\t#sq miles\n",
      "r = 0.1 \t#cfs\n",
      "d = 80000.\t#ft\n",
      "p = 100.\t#gpd\n",
      "p1 = 80.\t#ft\n",
      "p2 = 340.\t#percent\n",
      "h = 646000.\t#ft\n",
      "\t\n",
      "#CALCULATIONS\n",
      "L = r*w\t#cfs\n",
      "R = 6*p1/1.4\t#cfs\n",
      "P = p1*(p2-L)/p2\t#percent\n",
      "D = (d*p)\t#gpd\n",
      "D1 = (L*h)\t#gpd\n",
      "\t\n",
      "#RESULTS\n",
      "print \"Low-water flow = %d cfs\"%(0.1*w)\n",
      "print \"Required flow for disposal of domestic sewage if it i left untreated = %d cfs\"%(round(6*80/1.4,-1))\n",
      "print 'the percent of removal of pollutional load needed = %.0f percent'%(P)\n",
      "print \"Dilution ratio = %d : %d\"%((d*p)/(d*p),(200*h)/(d*p))"
     ],
     "language": "python",
     "metadata": {},
     "outputs": [
      {
       "output_type": "stream",
       "stream": "stdout",
       "text": [
        "Low-water flow = 200 cfs\n",
        "Required flow for disposal of domestic sewage if it i left untreated = 340 cfs\n",
        "the percent of removal of pollutional load needed = 33 percent\n",
        "Dilution ratio = 1 : 16\n"
       ]
      }
     ],
     "prompt_number": 5
    },
    {
     "cell_type": "heading",
     "level": 2,
     "metadata": {},
     "source": [
      "Example 3.6 Page No : 3-28"
     ]
    },
    {
     "cell_type": "code",
     "collapsed": false,
     "input": [
      "\t\n",
      "#initialisation of variables\n",
      "p = 10000.\t#people\n",
      "p1 = 4. \t#ft\n",
      "w = 10. \t#in\n",
      "s = 80. \t#gpcd\n",
      "h = 43560.\t#ft\n",
      "p2 = 20. \t#ft\n",
      "\t\n",
      "#CALCULATIONS\n",
      "R = ((w/12)*7.5*h)/365\t#gpad\n",
      "A = p*s/R\t#acres\n",
      "A1 = 1.7\t#sq miles\n",
      "P = p/500\t#acres\n",
      "D = p2*h*4*7.48/(p*s)\t#days\n",
      "\t\n",
      "#RESULTS\n",
      "print 'the detention period in ponds  = %.0f days'%(D)\n"
     ],
     "language": "python",
     "metadata": {},
     "outputs": [
      {
       "output_type": "stream",
       "stream": "stdout",
       "text": [
        "the detention period in ponds  = 33 days\n"
       ]
      }
     ],
     "prompt_number": 6
    },
    {
     "cell_type": "heading",
     "level": 2,
     "metadata": {},
     "source": [
      "Example 3.7 Page No : 3-31"
     ]
    },
    {
     "cell_type": "code",
     "collapsed": false,
     "input": [
      "\t\n",
      "#initialisation of variables\n",
      "p = 100000.\t#people\n",
      "a = 75. \t#$\n",
      "a2 = 47. \t#in\n",
      "b = 10. \t#in\n",
      "\t\n",
      "#CALCULATIONS\n",
      "P = a*p\t#people\n",
      "S = ((a2)*(b**5))/(b)**(1./4)\t#$\n",
      "\t\n",
      "#RESULTS\n",
      "print 'the money is inversed in the sanitary sewerage system = %.0f $'%(round(S,-5))\n"
     ],
     "language": "python",
     "metadata": {},
     "outputs": [
      {
       "output_type": "stream",
       "stream": "stdout",
       "text": [
        "the money is inversed in the sanitary sewerage system = 2600000 $\n"
       ]
      }
     ],
     "prompt_number": 6
    }
   ],
   "metadata": {}
  }
 ]
}