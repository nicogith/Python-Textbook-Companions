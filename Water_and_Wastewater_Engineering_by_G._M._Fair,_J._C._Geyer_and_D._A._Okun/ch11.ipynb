{
 "metadata": {
  "name": "",
  "signature": "sha256:d97ef885e741db81adc7f9703c96d41639df30eb154ebfc4a587f4f7ba56c3d8"
 },
 "nbformat": 3,
 "nbformat_minor": 0,
 "worksheets": [
  {
   "cells": [
    {
     "cell_type": "heading",
     "level": 1,
     "metadata": {},
     "source": [
      "Chapter 11 : Surface-Water Collection"
     ]
    },
    {
     "cell_type": "heading",
     "level": 2,
     "metadata": {},
     "source": [
      "Example 11.1 Page No : 11-20"
     ]
    },
    {
     "cell_type": "code",
     "collapsed": false,
     "input": [
      "\t\n",
      "#initialisation of variables\n",
      "s = 20.\t#mph\n",
      "t = 90.\t#min\n",
      "w = 1.31\t#ft\n",
      "h = 7.5\t#miles\n",
      "h1 = 0.22\t#ft\n",
      "t1 = 1100.\t#min\n",
      "t2 = 6.0\t#min\n",
      "p = 32.2\t#ft\n",
      "l = 5.12\t#length\n",
      "l1 = 2.8\t#length\n",
      "p1 = 1400.\t#ft\n",
      "d = 73.\t#depth\n",
      "h3 = 2.06\t#ft\n",
      "e = 173.0\t#ft\n",
      "hi = 0.2\t#ft\n",
      "\t\n",
      "#CALCULATIONS\n",
      "W = s*w\t#mph\n",
      "hs = h1*((W)**2/p)**0.53*h**0.47\t#ft\n",
      "Ts = t2*(W/p)**0.44*(h/p)**0.28\t#sec\n",
      "Td = t1*h/(p*Ts)\t#min\n",
      "Ls = l1/(l*(Ts)**2)\t#ft\n",
      "D = d/(l*(Ts)**2)\t#ft\n",
      "H = (W)**2*(h*(1/(p1*d)))\t#ft\n",
      "hr = h3*l1\t#ft\n",
      "M = e+hi+hr\t#ft\n",
      "\t\n",
      "#RESULTS\n",
      "print 'the overwater wind speed = %.0f mph'%(W)\n",
      "print 'the significant wave height = %.1f ft'%(hs)\n",
      "print 'the significant wave period = %.1f sec'%(Ts)\n",
      "print 'the minimum wind duration required to reach the significant wave height = %.0f min'%(Td)\n",
      "print 'the significant wave lenght adn steepness = %.3f ft'%(Ls)\n",
      "print 'the reservoir depth ratio = %.1f ft'%(D)\n",
      "print 'the wind tide or set up = % f ft'%(H)\n",
      "print 'the run up  = %.1f ft'%(hr)\n",
      "print 'the maximum elevation reached by the waves = %.1f ft'%(M)\n",
      "\n",
      "# rounding off error. please check."
     ],
     "language": "python",
     "metadata": {},
     "outputs": [
      {
       "output_type": "stream",
       "stream": "stdout",
       "text": [
        "the overwater wind speed = 26 mph\n",
        "the significant wave height = 2.9 ft\n",
        "the significant wave period = 3.6 sec\n",
        "the minimum wind duration required to reach the significant wave height = 70 min\n",
        "the significant wave lenght adn steepness = 0.041 ft\n",
        "the reservoir depth ratio = 1.1 ft\n",
        "the wind tide or set up =  0.050375 ft\n",
        "the run up  = 5.8 ft\n",
        "the maximum elevation reached by the waves = 179.0 ft\n"
       ]
      }
     ],
     "prompt_number": 2
    },
    {
     "cell_type": "heading",
     "level": 2,
     "metadata": {},
     "source": [
      "Example 11.2 Page No : 11-23"
     ]
    },
    {
     "cell_type": "code",
     "collapsed": false,
     "input": [
      "\t\n",
      "#initialisation of variables\n",
      "g = 264\t#quartz\n",
      "p = 0.39\t#percent\n",
      "\t\n",
      "#CALCULATIONS\n",
      "S = (1-p)*(g-1)\t#in\n",
      "\t\n",
      "#RESULTS\n",
      "print 'the hydraulic gradient and seepage velocity = %.2f in'%(S)\n",
      "#incorrect answer in textbook"
     ],
     "language": "python",
     "metadata": {},
     "outputs": [
      {
       "output_type": "stream",
       "stream": "stdout",
       "text": [
        "the hydraulic gradient and seepage velocity = 160.43 in\n"
       ]
      }
     ],
     "prompt_number": 1
    },
    {
     "cell_type": "heading",
     "level": 2,
     "metadata": {},
     "source": [
      "Example 11.3 Page No : 11-26"
     ]
    },
    {
     "cell_type": "code",
     "collapsed": false,
     "input": [
      "\t\n",
      "#initialisation of variables\n",
      "w = 40\t#ft\n",
      "k = 2*10**-3\t#cm/sec\n",
      "p = 3.28*10**-3\t#cfs\n",
      "h = 6.47*10**5\t#gpd\n",
      "p1 = 0.433\t#ft\n",
      "m = 9\t#ft\n",
      "delh = w/(18*9)\t#in\n",
      "k1 = 4.94*10**-4\t#cm/sec\n",
      "\t\n",
      "#CALCULATIONS\n",
      "Q = k*p*w*(9./18)\t#cfs\n",
      "Q1 = Q*h\t#gpd/ft width\n",
      "P = (1-8./18)*w*p1\t#Psig\n",
      "H = k1/k\t#in\n",
      "\t\n",
      "#RESULTS\n",
      "print 'the seepage through each foot width of the foundation = %.0f gpd/ft/ width'%(Q1*10)\n",
      "print 'the excess hydrostatic pressure on the upstream  side of the bottom of the sheet pilling = %.2f Psig'%(P)\n",
      "print 'the maximum hydraulic gradient and its relations to the coeeficent = %.2f in'%(H)\n"
     ],
     "language": "python",
     "metadata": {},
     "outputs": [
      {
       "output_type": "stream",
       "stream": "stdout",
       "text": [
        "the seepage through each foot width of the foundation = 849 gpd/ft/ width\n",
        "the excess hydrostatic pressure on the upstream  side of the bottom of the sheet pilling = 9.62 Psig\n",
        "the maximum hydraulic gradient and its relations to the coeeficent = 0.25 in\n"
       ]
      }
     ],
     "prompt_number": 4
    },
    {
     "cell_type": "heading",
     "level": 2,
     "metadata": {},
     "source": [
      "Example 11.4 Page No : 11-13"
     ]
    },
    {
     "cell_type": "code",
     "collapsed": false,
     "input": [
      "\t\n",
      "#initialisation of variables\n",
      "d = 120\t#ft\n",
      "w = 16\t#ft\n",
      "d1 = 120/0.8\t#ft\n",
      "p = 60*0.8\t#ft\n",
      "h = 2\t#ft\n",
      "v = 18.74*0.8\t#ft\n",
      "s = 95.23\t#ft\n",
      "s1 = 0.8\t#ft\n",
      "\t\n",
      "#CALCULATIONS\n",
      "W = d-h*p\t#ft\n",
      "S = s*s1\t#ft\n",
      "\t\n",
      "#RESULTS\n",
      "print 'in succession from the intersection of the upstream slop = %.2f ft'%(S)\n"
     ],
     "language": "python",
     "metadata": {},
     "outputs": [
      {
       "output_type": "stream",
       "stream": "stdout",
       "text": [
        "in succession from the intersection of the upstream slop = 76.18 ft\n"
       ]
      }
     ],
     "prompt_number": 12
    }
   ],
   "metadata": {}
  }
 ]
}