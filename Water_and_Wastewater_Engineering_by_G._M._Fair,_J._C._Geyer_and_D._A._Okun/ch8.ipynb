{
 "metadata": {
  "name": "",
  "signature": "sha256:fba260293419dba131eeeb5811674596ce6afa78c83d914173c371599b6aa433"
 },
 "nbformat": 3,
 "nbformat_minor": 0,
 "worksheets": [
  {
   "cells": [
    {
     "cell_type": "heading",
     "level": 1,
     "metadata": {},
     "source": [
      "Chapter 8 : Storage and Runoff Control"
     ]
    },
    {
     "cell_type": "heading",
     "level": 2,
     "metadata": {},
     "source": [
      "Example 8.2 Page No : 8-7"
     ]
    },
    {
     "cell_type": "code",
     "collapsed": false,
     "input": [
      "\t\n",
      "#initialisation of variables\n",
      "a = 0.75\t#ft\n",
      "p = 123\t#mg\n",
      "v = 100\t#ft\n",
      "s = 33\t#mg\n",
      "s1 = 67\t#mg\n",
      "d = 26.6\t#mgd\n",
      "d1 = 0.0477\t#mgd\n",
      "q = 0.750\t#gpd/sq mile\n",
      "d2 = 365\t#days\n",
      "\t\n",
      "#CALCULATIONS\n",
      "S = p/a\t#mg per sq mile\n",
      "Cv = v*s/s1\t#percent\n",
      "M = d*d1\t#mgd per sq mile\n",
      "D = v*q/M\t#MAF\n",
      "D1 = (v*p)/(M*d2)\t#MAF\n",
      "R = p/q\t#days\n",
      "\t\n",
      "#RESULTS\n",
      "print 'the use monthly averages rather then daily stream flow = %.0f days'%(R)\n"
     ],
     "language": "python",
     "metadata": {},
     "outputs": [
      {
       "output_type": "stream",
       "stream": "stdout",
       "text": [
        "the use monthly averages rather then daily stream flow = 164 days\n"
       ]
      }
     ],
     "prompt_number": 1
    },
    {
     "cell_type": "heading",
     "level": 2,
     "metadata": {},
     "source": [
      "Example 8.3 Page No : 8-9"
     ]
    },
    {
     "cell_type": "code",
     "collapsed": false,
     "input": [
      "\t\n",
      "#initialisation of variables\n",
      "d = 750000\t#gpd per sq mile\n",
      "v = 0.22\t#ft\n",
      "a = 1.27\t#ft\n",
      "q = 0.30\t#ft\n",
      "d1 = 365\t#days\n",
      "p = 0.25\t#ft\n",
      "\t\n",
      "#CALCULATIONS\n",
      "Q = q*a*d1\t#mg/sq mile\n",
      "H = p*a*d1\t#mg/sq mile\n",
      "\t\n",
      "#RESULTS\n",
      "print 'the results obtained by normal analytical procedures and by Hazen s = %.0f mg/sq mile'%(H)\n"
     ],
     "language": "python",
     "metadata": {},
     "outputs": [
      {
       "output_type": "stream",
       "stream": "stdout",
       "text": [
        "the results obtained by normal analytical procedures and by Hazen s = 116 mg/sq mile\n"
       ]
      }
     ],
     "prompt_number": 2
    },
    {
     "cell_type": "heading",
     "level": 2,
     "metadata": {},
     "source": [
      "Example 8.4 Page No : 8-10"
     ]
    },
    {
     "cell_type": "code",
     "collapsed": false,
     "input": [
      "\t\n",
      "#initialisation of variables\n",
      "d = 30.0\t#mgd\n",
      "a = 40.0\t#sq miles\n",
      "a1 = 1500\t#acres\n",
      "r1 = 47.0\t#in\n",
      "r2 = 27.0\t#in\n",
      "q = 0.9\t#in\n",
      "k = 640\t#in\n",
      "h = 0.052\t#gpd/sq mile\n",
      "\t\n",
      "#CALCULATIONS\n",
      "Q = r2-(r2+a-r1)*q*a1/(k*a)\t#in\n",
      "D = d+a*h\t#mgd\n",
      "A = a-(q*a1/k)*(1-(r1-a)/(r2))\t#sq miles\n",
      "R = r2+a-r1\t#in\n",
      "S = R*q\t#in\n",
      "\t\n",
      "#RESULTS\n",
      "print 'the revised mean annual runoff = %.1f in'%(Q)\n",
      "print 'the equivalent mean draft = %.1f mgd'%(D)\n",
      "print 'the equivalent land area = %.1f sq miles'%(A)\n",
      "print 'the adjusted flowline = %.0f in'%(S)\n"
     ],
     "language": "python",
     "metadata": {},
     "outputs": [
      {
       "output_type": "stream",
       "stream": "stdout",
       "text": [
        "the revised mean annual runoff = 25.9 in\n",
        "the equivalent mean draft = 32.1 mgd\n",
        "the equivalent land area = 38.4 sq miles\n",
        "the adjusted flowline = 18 in\n"
       ]
      }
     ],
     "prompt_number": 3
    },
    {
     "cell_type": "heading",
     "level": 2,
     "metadata": {},
     "source": [
      "Example 8.6 Page No : 8-18"
     ]
    },
    {
     "cell_type": "code",
     "collapsed": false,
     "input": [
      "\t\n",
      "#initialisation of variables\n",
      "p = 100.    \t#ft\n",
      "q = 27000.\t    #acre-ft\n",
      "p1 = 10.     \t#ft\n",
      "s = 8250.\t#acre-ft\n",
      "\t\n",
      "#CALCULATIONS\n",
      "R = p*s/q\t#percent\n",
      "\t\n",
      "#RESULTS\n",
      "print 'the ratio of peak inflow from fuller values = %d percent'%(R)\n"
     ],
     "language": "python",
     "metadata": {},
     "outputs": [
      {
       "output_type": "stream",
       "stream": "stdout",
       "text": [
        "the ratio of peak inflow from fuller values = 30 percent\n"
       ]
      }
     ],
     "prompt_number": 1
    }
   ],
   "metadata": {}
  }
 ]
}