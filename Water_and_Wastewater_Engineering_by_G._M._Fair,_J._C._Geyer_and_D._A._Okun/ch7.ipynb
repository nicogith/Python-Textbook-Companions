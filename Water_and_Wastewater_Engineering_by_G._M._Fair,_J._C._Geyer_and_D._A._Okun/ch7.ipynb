{
 "metadata": {
  "name": "",
  "signature": "sha256:42c32bb83042eba762c882953210b5f735a47b1ef07c7eade0266ced5fe417ef"
 },
 "nbformat": 3,
 "nbformat_minor": 0,
 "worksheets": [
  {
   "cells": [
    {
     "cell_type": "heading",
     "level": 1,
     "metadata": {},
     "source": [
      "Chapter 7 : Rainfall and Runoff"
     ]
    },
    {
     "cell_type": "heading",
     "level": 2,
     "metadata": {},
     "source": [
      "Example 7.5 Page No : 7-15"
     ]
    },
    {
     "cell_type": "code",
     "collapsed": false,
     "input": [
      "import math \n",
      "\t\n",
      "#initialisation of variables\n",
      "n = 20.                 \t#ft\n",
      "s = math.sqrt(12676/19.)\t#ft\n",
      "c = 45.5\t#ft\n",
      "q = 551400\t#ft\n",
      "q1 = 12700\t#ft\n",
      "h = 8.5\t#ft\n",
      "w = s/c\t#ft\n",
      "\t\n",
      "#CALCULATIONS\n",
      "D = q/(2*s*q1)\t#cfs\n",
      "D1 = D*(1+h/n)\t#cfs\n",
      "\t\n",
      "#RESULTS\n",
      "print 'the record runoff of a stream draining = %.2f cfs'%(D1)\n"
     ],
     "language": "python",
     "metadata": {},
     "outputs": [
      {
       "output_type": "stream",
       "stream": "stdout",
       "text": [
        "the record runoff of a stream draining = 1.20 cfs\n"
       ]
      }
     ],
     "prompt_number": 1
    },
    {
     "cell_type": "heading",
     "level": 2,
     "metadata": {},
     "source": [
      "Example 7.6 Page No : 7-19"
     ]
    },
    {
     "cell_type": "code",
     "collapsed": false,
     "input": [
      "\t\n",
      "#initialisation of variables\n",
      "i = 16./(62)**0.66\t#in hr\n",
      "q = (16*10**0.31)/(62)**0.66\t#in hr\n",
      "c = 1.0\t#max\n",
      "C1 = c*(0.01)**0.31\t#in\n",
      "C2 = c*(0.1)**0.31\t#in\n",
      "x1 = 640\t#cfs\n",
      "\t\n",
      "#CALCULATIONS\n",
      "Y1 = C1*i*c*x1\t#cfs\n",
      "Y2 = C2*q*c*x1\t#cfs\n",
      "\t\n",
      "#RESULTS\n",
      "print 'the time of concentration = %.f cfs'%(Y2)\n",
      "\n",
      "# rounding off error."
     ],
     "language": "python",
     "metadata": {},
     "outputs": [
      {
       "output_type": "stream",
       "stream": "stdout",
       "text": [
        "the time of concentration = 672 cfs\n"
       ]
      }
     ],
     "prompt_number": 1
    },
    {
     "cell_type": "heading",
     "level": 2,
     "metadata": {},
     "source": [
      "Example 7.8 Page No : 7-25"
     ]
    },
    {
     "cell_type": "code",
     "collapsed": false,
     "input": [
      "import math \n",
      "\t\n",
      "#initialisation of variables\n",
      "d = 163*48.5\t#cfs\n",
      "a = 48.5\t#ft\n",
      "q = 100\t#cfs\n",
      "Q = 45.5*a\t#cfs\n",
      "c = 0.57\t#cfs\n",
      "v = 1.8\t#cfs\n",
      "p = 0.45\t#ft\n",
      "\t\n",
      "#CALCULATIONS\n",
      "P = d/(q*math.sqrt(a))\t#percent\n",
      "C = Q/(a**0.8*(1+2*a**-0.3))\t#cfs\n",
      "d1 = 2.6\t#cfs\n",
      "T = (1-p*c+v*c*2)\t#cfs\n",
      "\t\n",
      "#RESULTS\n",
      "print 'the meyers rating  = %.1f percent'%(P)\n",
      "print 'the magnitude of the maximum peak flood  = %.1f cfs'%(T)\n"
     ],
     "language": "python",
     "metadata": {},
     "outputs": [
      {
       "output_type": "stream",
       "stream": "stdout",
       "text": [
        "the meyers rating  = 11.4 percent\n",
        "the magnitude of the maximum peak flood  = 2.8 cfs\n"
       ]
      }
     ],
     "prompt_number": 2
    }
   ],
   "metadata": {}
  }
 ]
}