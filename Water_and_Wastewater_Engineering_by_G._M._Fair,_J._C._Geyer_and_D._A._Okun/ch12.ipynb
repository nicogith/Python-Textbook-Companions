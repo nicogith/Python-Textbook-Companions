{
 "metadata": {
  "name": "",
  "signature": "sha256:14bd2b02adda106b7feb66c435425687c9047c3f660e50bfc5fca311a000dc14"
 },
 "nbformat": 3,
 "nbformat_minor": 0,
 "worksheets": [
  {
   "cells": [
    {
     "cell_type": "heading",
     "level": 1,
     "metadata": {},
     "source": [
      "Chapter 12 : Water Transmission"
     ]
    },
    {
     "cell_type": "heading",
     "level": 2,
     "metadata": {},
     "source": [
      "Example 12.1 Page No : 12-9"
     ]
    },
    {
     "cell_type": "code",
     "collapsed": false,
     "input": [
      "\t\n",
      "#initialisation of variables\n",
      "c = 100\t#in\n",
      "a = 10\t#in\n",
      "Q = 0.976\t#ft\n",
      "\t\n",
      "#CALCULATIONS\n",
      "G = a*Q\t#ft\n",
      "\t\n",
      "#RESULTS\n",
      "print 'the graphical basic  = %.2f ft'%(G)\n"
     ],
     "language": "python",
     "metadata": {},
     "outputs": [
      {
       "output_type": "stream",
       "stream": "stdout",
       "text": [
        "the graphical basic  = 9.76 ft\n"
       ]
      }
     ],
     "prompt_number": 1
    },
    {
     "cell_type": "heading",
     "level": 2,
     "metadata": {},
     "source": [
      "Example 12.2 Page No : 12-9"
     ]
    },
    {
     "cell_type": "code",
     "collapsed": false,
     "input": [
      "import math \n",
      "\t\n",
      "#initialisation of variables\n",
      "a = 27.6\t#sq ft\n",
      "h = 1.37\t#ft\n",
      "d = 1.53*(27.9)**0.38*(1.36)**0.24\t#ft\n",
      "\t\n",
      "#CALCULATIONS\n",
      "R = d/4\t#ft\n",
      "A = (math.pi*d**2)/4\t#sq ft\n",
      "\t\n",
      "#RESULTS\n",
      "print 'The diameter hydraulics radius and area of the hydraulically equivalent circular conduit = %.1f sq ft'%(A)\n"
     ],
     "language": "python",
     "metadata": {},
     "outputs": [
      {
       "output_type": "stream",
       "stream": "stdout",
       "text": [
        "The diameter hydraulics radius and area of the hydraulically equivalent circular conduit = 26.7 sq ft\n"
       ]
      }
     ],
     "prompt_number": 2
    },
    {
     "cell_type": "heading",
     "level": 2,
     "metadata": {},
     "source": [
      "Example 12.3 Page No : 12-12"
     ]
    },
    {
     "cell_type": "code",
     "collapsed": false,
     "input": [
      "\t\n",
      "#initialisation of variables\n",
      "h1 = 13.5\t#ft\n",
      "h2 = 19.0\t#ft\n",
      "h3 = 27.5\t#ft\n",
      "c1 = 2.0*10**4\t#ft\n",
      "c2 = 2.1*10**4\t#ft\n",
      "c3 = 2.2*10**4\t#ft\n",
      "\t\n",
      "#CALCULATIONS\n",
      "H = h1+h2+h3\t#ft\n",
      "C = c1+c2+c3\t#ft\n",
      "\t\n",
      "#RESULTS\n",
      "print 'the most economical distributions of the available head = %.1e ft'%(C)\n"
     ],
     "language": "python",
     "metadata": {},
     "outputs": [
      {
       "output_type": "stream",
       "stream": "stdout",
       "text": [
        "the most economical distributions of the available head = 6.3e+04 ft\n"
       ]
      }
     ],
     "prompt_number": 3
    },
    {
     "cell_type": "heading",
     "level": 2,
     "metadata": {},
     "source": [
      "Example 12.4 Page No : 12-28"
     ]
    },
    {
     "cell_type": "code",
     "collapsed": false,
     "input": [
      "import math\n",
      "\n",
      "#initialisation of variables\n",
      "p = 60\t#in\n",
      "h = 20\t#percent\n",
      "a = 1000\t#ft\n",
      "h1 = 40\t#percent\n",
      "c = 0.5\t#ft\n",
      "p1 = 14.3\t#ft\n",
      "p2 = 6.1\t#ft\n",
      "d = 11.7*10**-2\t#ft\n",
      "\t\n",
      "#CALCULATIONS\n",
      "deltaV = 26.7 - 18.3     # fps\n",
      "eq = 3.9*10**-2 * math.sqrt(deltaV/c)*(0.426)**0.356\n",
      "D = p*eq\t     #ft\n",
      "\t\n",
      "#RESULTS\n",
      "print 'the air valve with a discharge the change in slop = %.2f in.'%(D)\n",
      "\n",
      "# note : slightly different because of rounding off error."
     ],
     "language": "python",
     "metadata": {},
     "outputs": [
      {
       "output_type": "stream",
       "stream": "stdout",
       "text": [
        "the air valve with a discharge the change in slop = 7.08 in.\n"
       ]
      }
     ],
     "prompt_number": 1
    },
    {
     "cell_type": "heading",
     "level": 2,
     "metadata": {},
     "source": [
      "Example 12.5 Page No : 12-29"
     ]
    },
    {
     "cell_type": "code",
     "collapsed": false,
     "input": [
      "import math \n",
      "\t\n",
      "#initialisation of variables\n",
      "p = 90.\t      #deg\n",
      "h = 48.\t      #in\n",
      "p1 = 100.\t#psig\n",
      "P = (1/2*math.pi)*h**2*p1*0.7071\t#lb\n",
      "r = 3000./54-31\t#ft\n",
      "l = 170.\t#in\n",
      "b = 6.5*10**-6\t#ft\n",
      "w = 46.      \t#ft\n",
      "w1 = 1000.\t   #ft\n",
      "\t\n",
      "#CALCULATIONS\n",
      "s = b*w*30*10**6\n",
      "D = (1./4*math.pi)*h**2*p1\t#lb\n",
      "P = (r)*h**2\t#lb\n",
      "T = math.pi*h*(1/4)*s\t#lb\n",
      "T1 = (1./2)*l\t#tons\n",
      "Del = b*w*w1\t#ft per\n",
      "\t\n",
      "#RESULTS\n",
      "print 'The expansion and contraction of the steel line can be as great as = %.1f ft per 1000ft of length, if unrestrained'%(Del)\n"
     ],
     "language": "python",
     "metadata": {},
     "outputs": [
      {
       "output_type": "stream",
       "stream": "stdout",
       "text": [
        "The expansion and contraction of the steel line can be as great as = 0.3 ft per 1000ft of length, if unrestrained\n"
       ]
      }
     ],
     "prompt_number": 2
    }
   ],
   "metadata": {}
  }
 ]
}