{
 "metadata": {
  "name": "",
  "signature": "sha256:ee62a0db1d14e1ef03e248f6d6042a1fdd2b0d432d5212bd4ea1bd700bb94f91"
 },
 "nbformat": 3,
 "nbformat_minor": 0,
 "worksheets": [
  {
   "cells": [
    {
     "cell_type": "heading",
     "level": 1,
     "metadata": {},
     "source": [
      "Chapter 13 : Water Distribution"
     ]
    },
    {
     "cell_type": "heading",
     "level": 2,
     "metadata": {},
     "source": [
      "Example 13.2 Page No : 13-14"
     ]
    },
    {
     "cell_type": "code",
     "collapsed": false,
     "input": [
      "import math \n",
      "\t\n",
      "#initialisation of variables\n",
      "p1 = 7.8\t#ft\n",
      "p2 = 6.0\t#ft\n",
      "p3 = 7.4\t#ft\n",
      "p4 = 6.5\t#ft\n",
      "p = 7.6\t#ft\n",
      "h = 1.0\t#ft\n",
      "h1 = 6.7\t#ft\n",
      "p5 = 3.3\t#ft\n",
      "\t\n",
      "#CALCULATIONS\n",
      "D = p1-p2\t#mgd\n",
      "D1 = p1-p3\t#mgd\n",
      "D2 = p-p4\t#mgd\n",
      "D3 = p4+h\t#mgd\n",
      "D4 = h1-p5\t#mgd\n",
      "D5 = 2.0 - 1.6\n",
      "\t\n",
      "#RESULTS\n",
      "print \"1 . Deficiency : %.1f mgd\"%D\n",
      "print \"2 . Deficiency : %.1f mgd\"%D1\n",
      "print \"3 . Deficiency : %.1f mgd\"%D2\n",
      "print \"    Net added capacity = %.1f mgd\"%(1.2 - 0.2)\n",
      "print \"    Reinforced capacity : %.1f mgd\"%(D3)\n",
      "print \"4 . Deficiency : %.1f mgd\"%D4\n",
      "print \"    Net added capacity : %.1f mgd\"%(p5 - 0.3)\n",
      "print \"    Reinforced capacity : %.1f mgd\"%(p5+3)\n",
      "print \"5.  Deficiency : %.1f mgd\"%D5 \n",
      "print \"    Net added capacity : %.1f mgd\"%(0.6 - 0.2 )\n",
      "print \"    Reinforced capacity : %.1f mgd\"%(1.6+0.4)\n",
      "print 'the demand is taken  = %.1f mgd'%(D3)"
     ],
     "language": "python",
     "metadata": {},
     "outputs": [
      {
       "output_type": "stream",
       "stream": "stdout",
       "text": [
        "1 . Deficiency : 1.8 mgd\n",
        "2 . Deficiency : 0.4 mgd\n",
        "3 . Deficiency : 1.1 mgd\n",
        "    Net added capacity = 1.0 mgd\n",
        "    Reinforced capacity : 7.5 mgd\n",
        "4 . Deficiency : 3.4 mgd\n",
        "    Net added capacity : 3.0 mgd\n",
        "    Reinforced capacity : 6.3 mgd\n",
        "5.  Deficiency : 0.4 mgd\n",
        "    Net added capacity : 0.4 mgd\n",
        "    Reinforced capacity : 2.0 mgd\n",
        "the demand is taken  = 7.5 mgd\n"
       ]
      }
     ],
     "prompt_number": 1
    },
    {
     "cell_type": "heading",
     "level": 2,
     "metadata": {},
     "source": [
      "Example 13.3 Page No : 13-15"
     ]
    },
    {
     "cell_type": "code",
     "collapsed": false,
     "input": [
      "\t\n",
      "#initialisation of variables\n",
      "w = 500. \t#ft\n",
      "p = 20. \t#psig\n",
      "h = 40. \t#psig\n",
      "h1 = 1000. \t#in\n",
      "q = 1250.\t#ft\n",
      "g = 2.308/0.75\t#ft\n",
      "g1 = 2.308/1.00\t#ft\n",
      "s = 5200.\t#gpm\n",
      "a = 250. \t#gpm\n",
      "\t\n",
      "#CALCULATIONS\n",
      "H = (h1-(1./2)*(w))\t#ft\n",
      "H1 = (h-p)*g\t#percent\n",
      "Q = (q-(1./2)*(w))\t#ft\n",
      "Q1 = (h-p)*g1\t#percent\n",
      "S = s/a\t#gpm\n",
      "\t\n",
      "#RESULTS\n",
      "print 'the number of standard fire streams = %.1f gpm'%(S)\n"
     ],
     "language": "python",
     "metadata": {},
     "outputs": [
      {
       "output_type": "stream",
       "stream": "stdout",
       "text": [
        "the number of standard fire streams = 20.8 gpm\n"
       ]
      }
     ],
     "prompt_number": 1
    },
    {
     "cell_type": "heading",
     "level": 2,
     "metadata": {},
     "source": [
      "Example 13.6 Page No : 13-21"
     ]
    },
    {
     "cell_type": "code",
     "collapsed": false,
     "input": [
      "\t\n",
      "#initialisation of variables\n",
      "h1 = 2.1*3\t#ft\n",
      "h2 = 2.1\t#ft\n",
      "h = 8.4\t#ft\n",
      "p = 1000.\t#ft\n",
      "h3 = 5.7\t#ft\n",
      "h4 = 4.2*3\t#ft\n",
      "q = 4.2\t#ft\n",
      "s = 1.68\t#ft\n",
      "q1 = 1.33\t#ft\n",
      "\t\n",
      "#CALCULATIONS\n",
      "A = p*h/h2\t#ft\n",
      "B = p*(h3+h4)/q\t#ft\n",
      "C = p*(h1+h2)/s\t#ft\n",
      "\t\n",
      "#RESULTS\n",
      "print 'the equilent pipe for the Hazen willians coefficent = %.0f ft'%(A)\n",
      "print 'the equilent pipe for the Hazen willians coefficent = %.0f ft'%(round(B,-1))\n",
      "print 'the equilent pipe for the Hazen willians coefficent = %.0f ft'%(C)\n"
     ],
     "language": "python",
     "metadata": {},
     "outputs": [
      {
       "output_type": "stream",
       "stream": "stdout",
       "text": [
        "the equilent pipe for the Hazen willians coefficent = 4000 ft\n",
        "the equilent pipe for the Hazen willians coefficent = 4360 ft\n",
        "the equilent pipe for the Hazen willians coefficent = 5000 ft\n"
       ]
      }
     ],
     "prompt_number": 3
    },
    {
     "cell_type": "heading",
     "level": 2,
     "metadata": {},
     "source": [
      "Example 13.8 Page No : 13-27"
     ]
    },
    {
     "cell_type": "code",
     "collapsed": false,
     "input": [
      "\t\n",
      "#initialisation of variables\n",
      "d = 10\t#hr\n",
      "p = 50000\t#in\n",
      "a = 7.5\t#mgd\n",
      "w = 0.75\t#mg\n",
      "s = 5.03\t#mg\n",
      "\t\n",
      "#CALCULATIONS\n",
      "S = s/w\t#mg\n",
      "P = S-s\t#mg\n",
      "\t\n",
      "#RESULTS\n",
      "print 'a steady gravity supply equal to maximum daily = %.2f mg'%(P)\n"
     ],
     "language": "python",
     "metadata": {},
     "outputs": [
      {
       "output_type": "stream",
       "stream": "stdout",
       "text": [
        "a steady gravity supply equal to maximum daily = 1.68 mg\n"
       ]
      }
     ],
     "prompt_number": 4
    }
   ],
   "metadata": {}
  }
 ]
}