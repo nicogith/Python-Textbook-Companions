{
 "metadata": {
  "name": "",
  "signature": "sha256:209dfa66c415d9b6d77e6ef0fd2310df1d6593c2b60b5941934cee9e5b7d9fa6"
 },
 "nbformat": 3,
 "nbformat_minor": 0,
 "worksheets": [
  {
   "cells": [
    {
     "cell_type": "heading",
     "level": 1,
     "metadata": {},
     "source": [
      "Chapter 15 : Wastewater Collection"
     ]
    },
    {
     "cell_type": "heading",
     "level": 2,
     "metadata": {},
     "source": [
      "Example 15.1 Page No : 15-4"
     ]
    },
    {
     "cell_type": "code",
     "collapsed": false,
     "input": [
      "\t\n",
      "#initialisation of variables\n",
      "q = 0.25\t#in\n",
      "Q = 0.34\t#in\n",
      "r = 0.76\t#in\n",
      "v = 0.83\t#in\n",
      "n = 0.78\t#in\n",
      "r1 = 0.84\t#in\n",
      "v1 = 0.70\t#in\n",
      "w = 2\t#in\n",
      "q1 = 0.056\t#in\n",
      "d = 0.16\t#in\n",
      "v2 = 0.53\t#in\n",
      "n1 = 0.80\t#in\n",
      "d1 = 0.18\t#in\n",
      "n2 = 0.46\t#in\n",
      "\t\n",
      "#CALCULATIONS\n",
      "V = v*w\t#fps\n",
      "N = v1*w\t#fps\n",
      "V1 = v2*w\t#fps\n",
      "V2 = n2*w\t#fps\n",
      "\t\n",
      "#RESULTS\n",
      "print 'The one fourth their full flow = %.2f fps'%(N)\n",
      "print 'The one enghteenth their full flow = %.2f fps'%(V2)\n"
     ],
     "language": "python",
     "metadata": {},
     "outputs": [
      {
       "output_type": "stream",
       "stream": "stdout",
       "text": [
        "The one fourth their full flow = 1.40 fps\n",
        "The one enghteenth their full flow = 0.92 fps\n"
       ]
      }
     ],
     "prompt_number": 1
    },
    {
     "cell_type": "heading",
     "level": 2,
     "metadata": {},
     "source": [
      "Example 15.2 Page No : 15-9"
     ]
    },
    {
     "cell_type": "code",
     "collapsed": false,
     "input": [
      "\t\n",
      "#initialisation of variables\n",
      "v = 2.5\t#fps\n",
      "N = 0.015\t#fps\n",
      "a = (40+27)\t#in\n",
      "b = (40*27+27*19)/a\n",
      "c = 0.440\t#cfs\n",
      "w = 49*0.09/100\t#cfs\n",
      "g = 0.008\t#percent\n",
      "Q = 0.82\t#cfs\n",
      "r = 0.795\t#cfs\n",
      "t = 2.35*1.16\t#fps\n",
      "d1 = 113.20-113.03\t#ft\n",
      "d2 = 12\t#ft\n",
      "\t\n",
      "#CALCULATIONS\n",
      "R = r/Q\t#cfs\n",
      "D = g*r\t#in\n",
      "D2 = d1*d2\t#in\n",
      "\t\n",
      "#RESULTS\n",
      "print 'The required capacity and find the slope size and hydraulic characteristics of the system = %.0f in'%(D2)\n"
     ],
     "language": "python",
     "metadata": {},
     "outputs": [
      {
       "output_type": "stream",
       "stream": "stdout",
       "text": [
        "The required capacity and find the slope size and hydraulic characteristics of the system = 2 in\n"
       ]
      }
     ],
     "prompt_number": 2
    },
    {
     "cell_type": "heading",
     "level": 2,
     "metadata": {},
     "source": [
      "Example 15.3 Page No : 15-17"
     ]
    },
    {
     "cell_type": "code",
     "collapsed": false,
     "input": [
      "\t\n",
      "#initialisation of variables\n",
      "p = 20\t#min\n",
      "N = 0.012\t#in\n",
      "k = 2.19\t#min\n",
      "l = k+1.97\t#min\n",
      "q = 340/(60*3.94)\t#min\n",
      "r = 2.56*0.508\t#min\n",
      "del1 = 0.42\t#min\n",
      "j = 84.28\t#min\n",
      "w1 = 0.92\t#min\n",
      "\t\n",
      "#CALCULATIONS\n",
      "r1 = r*k\t#cfs\n",
      "w = p+q\t#min\n",
      "G = j-del1\t#min\n",
      "S = (G-w1)\t#min\n",
      "\t\n",
      "#RESULTS\n",
      "print 'The required capacity and find the slop size and hydraulic = %.2f min'%(S)\n"
     ],
     "language": "python",
     "metadata": {},
     "outputs": [
      {
       "output_type": "stream",
       "stream": "stdout",
       "text": [
        "The required capacity and find the slop size and hydraulic = 82.94 min\n"
       ]
      }
     ],
     "prompt_number": 3
    },
    {
     "cell_type": "heading",
     "level": 2,
     "metadata": {},
     "source": [
      "Example 15.4 Page No : 15-25"
     ]
    },
    {
     "cell_type": "code",
     "collapsed": false,
     "input": [
      "import math \n",
      "\t\n",
      "#initialisation of variables\n",
      "a = 42.\t#in\n",
      "d = 45.\t#mgd\n",
      "d1 = 0.75\t#in\n",
      "s = 60.\t#ft\n",
      "p1 = 9.\t#in\n",
      "p2 = 8.4\t#in\n",
      "p3 = 9.\t#in\n",
      "c1 = 13*63.6\t#sq in\n",
      "c2 = 9*55.4\t#sq in\n",
      "c3 = 9.21\t#sq ft\n",
      "M = d*1.547\t#cfs\n",
      "v = M/c3\t#fps\n",
      "g = 0.025*32.2\t#ft/sec**2\n",
      "\t\n",
      "#CALCULATIONS\n",
      "F = v/math.sqrt(g*(p1/12))\t#ft\n",
      "S = s/d1\t#in\n",
      "\t\n",
      "#RESULTS\n",
      "print 'the port near the end of the diffuser pipe = %.2f in'%(F)\n",
      "\n",
      "# note : rounding off error."
     ],
     "language": "python",
     "metadata": {},
     "outputs": [
      {
       "output_type": "stream",
       "stream": "stdout",
       "text": [
        "the port near the end of the diffuser pipe = 9.73 in\n"
       ]
      }
     ],
     "prompt_number": 2
    }
   ],
   "metadata": {}
  }
 ]
}