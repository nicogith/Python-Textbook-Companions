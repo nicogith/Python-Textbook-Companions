{
 "metadata": {
  "name": "",
  "signature": "sha256:cb8c1d89336b90a52fb3fc2ac2cf4a335c076b1a2d2bc8b2521052d89b269ec7"
 },
 "nbformat": 3,
 "nbformat_minor": 0,
 "worksheets": [
  {
   "cells": [
    {
     "cell_type": "heading",
     "level": 1,
     "metadata": {},
     "source": [
      "Chapter 9 : Groundwater Flow"
     ]
    },
    {
     "cell_type": "heading",
     "level": 2,
     "metadata": {},
     "source": [
      "Example 9.1 Page No : 9-11"
     ]
    },
    {
     "cell_type": "code",
     "collapsed": false,
     "input": [
      "\t\n",
      "#initialisation of variables\n",
      "t = 10\t#C\n",
      "s = 74.2\t#days\n",
      "c = 0.01\t#mm\n",
      "d = 245\t#mm\n",
      "\t\n",
      "#CALCULATIONS\n",
      "h = s/(d*c)\t#cm\n",
      "\t\n",
      "#RESULTS\n",
      "print 'the high will water at a temperature  = %.1f cm'%(h)\n"
     ],
     "language": "python",
     "metadata": {},
     "outputs": [
      {
       "output_type": "stream",
       "stream": "stdout",
       "text": [
        "the high will water at a temperature  = 30.3 cm\n"
       ]
      }
     ],
     "prompt_number": 1
    },
    {
     "cell_type": "heading",
     "level": 2,
     "metadata": {},
     "source": [
      "Example 9.2 Page No : 9-13"
     ]
    },
    {
     "cell_type": "code",
     "collapsed": false,
     "input": [
      "\t\n",
      "#initialisation of variables\n",
      "p1 = 1000\t#ft\n",
      "p2 = 50\t#ft\n",
      "g = 20\t#ft/mile\n",
      "v = 5280.\t#ft\n",
      "q = 7.5*10**-6\t#ft\n",
      "t = 60\t#F\n",
      "k = 2835\t#ft/days\n",
      "p = 7.5\t#ft\n",
      "\t\n",
      "#CALCULATIONS\n",
      "S = g/v\t#ft\n",
      "W = k*(g/v)\t#ft/day\n",
      "Q = W*p1*p2*q\t#mgd\n",
      "P = k*p\t#ft\n",
      "P1 = P*p2\t#mgd\n",
      "\t\n",
      "#RESULTS\n",
      "print 'the velocity of flow  = %.2f mgd'%(Q)\n",
      "print 'the standard coefficient pf permeability = %.2e mgd'%(P1)\n"
     ],
     "language": "python",
     "metadata": {},
     "outputs": [
      {
       "output_type": "stream",
       "stream": "stdout",
       "text": [
        "the velocity of flow  = 4.03 mgd\n",
        "the standard coefficient pf permeability = 1.06e+06 mgd\n"
       ]
      }
     ],
     "prompt_number": 2
    },
    {
     "cell_type": "heading",
     "level": 2,
     "metadata": {},
     "source": [
      "Example 9.3 Page No : 9-19"
     ]
    },
    {
     "cell_type": "code",
     "collapsed": false,
     "input": [
      "import math \n",
      "\t\n",
      "#initialisation of variables\n",
      "p = 40. \t#ft\n",
      "d = 56. \t#ft\n",
      "d1 = 140. \t#ft\n",
      "p1 = 30. \t#ft\n",
      "w = 3.28*10**-4\t#fps\n",
      "\t\n",
      "#CALCULATIONS\n",
      "Q = w*(p/d1)*2*d*p\t#cfs\n",
      "q = Q/p\t#cfs\n",
      "K = w*(p/d1)\t#fps\n",
      "x0 = q/(2*math.pi*K)\t#ft\n",
      "Z = 2*math.pi*x0\t#ft\n",
      "\t\n",
      "#RESULTS\n",
      "print 'the yield of the well if the coefficient of permeability = %.1f ft'%(x0)\n",
      "print 'the distance of the point of stagnation  = %.0f ft'%(Z)\n"
     ],
     "language": "python",
     "metadata": {},
     "outputs": [
      {
       "output_type": "stream",
       "stream": "stdout",
       "text": [
        "the yield of the well if the coefficient of permeability = 17.8 ft\n",
        "the distance of the point of stagnation  = 112 ft\n"
       ]
      }
     ],
     "prompt_number": 5
    },
    {
     "cell_type": "heading",
     "level": 2,
     "metadata": {},
     "source": [
      "Example 9.4 Page No : 9-23"
     ]
    },
    {
     "cell_type": "code",
     "collapsed": false,
     "input": [
      "\t\n",
      "#initialisation of variables\n",
      "p = 5.*10**6\t      #ft\n",
      "Q = 350.            \t#gpm\n",
      "x = 225.            \t#ft\n",
      "u = 10.**-2\t#ft\n",
      "g = 1.87\t#ft\n",
      "p2 = 7.*10**2\t#ft\n",
      "p3 = 10.9\t#ft\n",
      "w = 4.0\t#ft\n",
      "t = 114.6\t    #ft\n",
      "d = 10.      \t#ft\n",
      "p1 = 5.      \t#ft\n",
      "w1 = 3.2*10**4\t#ft\n",
      "W = 21.75\t#ft\n",
      "\t\n",
      "#CALCULATIONS\n",
      "T = t*Q*4/p1\t#gpd/ft\n",
      "S = u*(w1)/(g*(p))\t#ft\n",
      "U = g*((S)/(T))*(x**2/d)\t#ft\n",
      "P = t*(p2)*p3/(T)\t#ft\n",
      "U1 = g*((S)/(T))*(1./d)\t#ft\n",
      "P1 = t*(p2)*W/(T)\t#ft\n",
      "\t\n",
      "#RESULTS\n",
      "print 'the type curve as if a transparency of the observed data had moved into place over the type = %.0f ft'%(P1)\n"
     ],
     "language": "python",
     "metadata": {},
     "outputs": [
      {
       "output_type": "stream",
       "stream": "stdout",
       "text": [
        "the type curve as if a transparency of the observed data had moved into place over the type = 54 ft\n"
       ]
      }
     ],
     "prompt_number": 6
    },
    {
     "cell_type": "heading",
     "level": 2,
     "metadata": {},
     "source": [
      "Example 9.5 Page No : 9-24"
     ]
    },
    {
     "cell_type": "code",
     "collapsed": false,
     "input": [
      "import math\n",
      "\t\n",
      "#initialisation of variables\n",
      "Q = 350. \t#gpm\n",
      "x = 225. \t#ft\n",
      "t = 1.  \t#min\n",
      "p = 1.6\t    #ft\n",
      "t2 = 10. \t#min\n",
      "p2 = 4.5\t#ft\n",
      "p3 = 700. \t#gpm\n",
      "T = 3.2*10**4\t#gpd/ft\n",
      "t0 = 0.3    \t#min\n",
      "u = 1.15*10**-5\n",
      "\t\n",
      "#CALCULATIONS\n",
      "S = t0*(T)*t0/((x)**2*1440)\t#ft\n",
      "P = ((114.6*p3)/(T))*(-0.5772*2.3*math.log(u))\t#ft\n",
      "\n",
      "#RESULTS\n",
      "print 'A straight line being drawn through the ppints for the higher = %.0f ft'%(P)\n",
      "\n",
      "# note : book answer is wrong. please check."
     ],
     "language": "python",
     "metadata": {},
     "outputs": [
      {
       "output_type": "stream",
       "stream": "stdout",
       "text": [
        "A straight line being drawn through the ppints for the higher = 38 ft\n"
       ]
      }
     ],
     "prompt_number": 2
    },
    {
     "cell_type": "heading",
     "level": 2,
     "metadata": {},
     "source": [
      "Example 9.6 Page No : 9-31"
     ]
    },
    {
     "cell_type": "code",
     "collapsed": false,
     "input": [
      "\t\n",
      "#initialisation of variables\n",
      "h = 4.8\t             #ft\n",
      "m = 13.4\t         #ft\n",
      "k = 10.**-1\t         #cm/sec\n",
      "k1 = 3.28*10**-3\t#fps\n",
      "n = 7.            \t#ft\n",
      "n1 = 11.         \t#ft\n",
      "q = 1.0*10**-2\n",
      "\t\n",
      "#CALCULATIONS\n",
      "Q = k1*h*n/n1\t#cfs/ft\n",
      "Q1 = 2*q*10**2\t#cfs\n",
      "\t\n",
      "#RESULTS\n",
      "print 'A satisfactory orthogonal system the flow of into the collector  = %.0f cfs'%(Q1)\n"
     ],
     "language": "python",
     "metadata": {},
     "outputs": [
      {
       "output_type": "stream",
       "stream": "stdout",
       "text": [
        "A satisfactory orthogonal system the flow of into the collector  = 2 cfs\n"
       ]
      }
     ],
     "prompt_number": 8
    }
   ],
   "metadata": {}
  }
 ]
}