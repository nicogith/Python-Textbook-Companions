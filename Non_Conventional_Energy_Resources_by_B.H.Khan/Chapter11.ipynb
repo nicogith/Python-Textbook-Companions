{
 "metadata": {
  "name": "",
  "signature": "sha256:131e5807eda8c30572547a9b8e6ec8831945c814f15b621bc05038f1dbaad1ff"
 },
 "nbformat": 3,
 "nbformat_minor": 0,
 "worksheets": [
  {
   "cells": [
    {
     "cell_type": "heading",
     "level": 1,
     "metadata": {},
     "source": [
      "Chapter11:Small Hydro Resources"
     ]
    },
    {
     "cell_type": "heading",
     "level": 2,
     "metadata": {},
     "source": [
      "Ex11.1:pg-355"
     ]
    },
    {
     "cell_type": "code",
     "collapsed": false,
     "input": [
      "import math\n",
      "# given data\n",
      "rho=996 # density in kg/m^3\n",
      "effi=0.55 # oveall efficiency\n",
      "Q=100/1000.0 # discharge in m^3/sec\n",
      "h=30 # gross head in m\n",
      "g=9.81 # gravitational acceleration in m/sec^2\n",
      "\n",
      "\n",
      "Pnet=effi*rho*Q*g*h/1000 # net power in watts\n",
      "print \"Power available is\",round(Pnet,3),\"kilowatts\"\n"
     ],
     "language": "python",
     "metadata": {},
     "outputs": [
      {
       "output_type": "stream",
       "stream": "stdout",
       "text": [
        "Power available is 16.122 kilowatts\n"
       ]
      }
     ],
     "prompt_number": 7
    },
    {
     "cell_type": "heading",
     "level": 2,
     "metadata": {},
     "source": [
      "Ex11.2:pg-356"
     ]
    },
    {
     "cell_type": "code",
     "collapsed": false,
     "input": [
      "import math\n",
      "# given data\n",
      "pf=0.8 # power factor\n",
      "Load=3 # load in kW\n",
      "V=230 # voltage of kettle in V\n",
      "P=500 # power of kettle in W\n",
      "VA=pf*Load # VA load in kVA\n",
      "C=4200 # specific heat of water in j/kg-K\n",
      "T=45-20 # temperature difference in degree celsius\n",
      "\n",
      "VAR=VA*1.6 # net required VAR rating thus 60% extra capacity\n",
      "\n",
      "R=(V**2)/P # resistance by kettle in ohms\n",
      "\n",
      "Po=7*(V**2)/R # power dissipation in W for 7 elements\n",
      "\n",
      "print \"7 elements are connected in parallel\"\n",
      "\n",
      "Q=Load*1000.0/(C*T) # flow rate in kg/sec\n",
      "\n",
      "print\"The required flow rate is \",round(Q,5),\"litre/sec\"\n",
      "\n",
      "\n",
      "\n"
     ],
     "language": "python",
     "metadata": {},
     "outputs": [
      {
       "output_type": "stream",
       "stream": "stdout",
       "text": [
        "7 elements are connected in parallel\n",
        "The required flow rate is  0.02857 litre/sec\n"
       ]
      }
     ],
     "prompt_number": 11
    }
   ],
   "metadata": {}
  }
 ]
}