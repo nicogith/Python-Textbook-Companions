{
 "metadata": {
  "name": "",
  "signature": "sha256:51836aeee86fdbe9ff075e142b59a3694a305b3949989cbb3e8809bdfd1573b6"
 },
 "nbformat": 3,
 "nbformat_minor": 0,
 "worksheets": [
  {
   "cells": [
    {
     "cell_type": "heading",
     "level": 1,
     "metadata": {},
     "source": [
      "Chapter12:Emerging Technologies"
     ]
    },
    {
     "cell_type": "heading",
     "level": 2,
     "metadata": {},
     "source": [
      "Ex12.1:pg-375"
     ]
    },
    {
     "cell_type": "code",
     "collapsed": false,
     "input": [
      "import math\n",
      "# given data\n",
      "delG=-39.59 # kJ/mol\n",
      "delH=-56.83 # change in enthalpy in kJ/mol\n",
      "mdotmethanol=32.0 # in g/s\n",
      "mdotoxygen=48.0 # in g/s\n",
      "\n",
      "Wmax=166.3 # -delG in kJ\n",
      "\n",
      "flowmethanol=mdotmethanol*100*3600/(Wmax*1000) # in kg/h\n",
      "flowoxygen=mdotoxygen*100*3600/(Wmax*1000) # in kg/h\n",
      "print \"The required flow rate of methanol is \",round(flowmethanol,2),\"kg/h\"\n",
      "print \"The required flow rate of oxygen is \",round(flowoxygen,2),\"kg/h\"\n",
      "delQ=delH-delG # using eq 12.7 \n",
      "\n",
      "fuelrate=-delQ*19.24/mdotmethanol # in kcal/s\n",
      "\n",
      "print \"The required heat removal rate is \",round(fuelrate,3),\"kcal/s\"\n",
      "\n",
      "# The answer is wrong in textbook because of incorrect conversion from g/s to kg/h"
     ],
     "language": "python",
     "metadata": {},
     "outputs": [
      {
       "output_type": "stream",
       "stream": "stdout",
       "text": [
        "The required flow rate of methanol is  69.27 kg/h\n",
        "The required flow rate of oxygen is  103.91 kg/h\n",
        "The required heat removal rate is  10.366 kcal/s\n"
       ]
      }
     ],
     "prompt_number": 1
    }
   ],
   "metadata": {}
  }
 ]
}