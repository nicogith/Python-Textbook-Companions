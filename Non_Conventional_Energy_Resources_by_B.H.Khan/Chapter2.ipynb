{
 "metadata": {
  "name": "",
  "signature": "sha256:fcec1d0bbd87d6cfda378ca8b1be1663bde590b6487e23dd0b577f818a453620"
 },
 "nbformat": 3,
 "nbformat_minor": 0,
 "worksheets": [
  {
   "cells": [
    {
     "cell_type": "heading",
     "level": 1,
     "metadata": {},
     "source": [
      "Chapter2: Energy Conservation"
     ]
    },
    {
     "cell_type": "heading",
     "level": 2,
     "metadata": {},
     "source": [
      "Ex2.1:pg-56"
     ]
    },
    {
     "cell_type": "code",
     "collapsed": false,
     "input": [
      "# Given data:\n",
      "Hcoal=20.0 # heating value of coal in MJ\n",
      "W=200.0e3 # weight of coal in kg\n",
      "E=1.2e6 # Electrical energy generated in MJ\n",
      "delH=1.6e6 # Heat energy generated in MJ\n",
      "ne=0.30 # electrical efficiency\n",
      "nb=0.8 # thermal efficiency\n",
      "\n",
      "QA=Hcoal*W # total thermal energy input to plant in MJ\n",
      "nco=(E+delH)/QA # efficiency of cogeneration plant\n",
      "e=E/(E+delH) # electrical fraction\n",
      "\n",
      "nc=1/((e/ne)+(1-e)/nb) # overall efficiency\n",
      "\n",
      "print \"The overall efficiency is \",round(nc*100,2),\"%\"\n"
     ],
     "language": "python",
     "metadata": {},
     "outputs": [
      {
       "output_type": "stream",
       "stream": "stdout",
       "text": [
        "The overall efficiency is  46.67 %\n"
       ]
      }
     ],
     "prompt_number": 3
    }
   ],
   "metadata": {}
  }
 ]
}