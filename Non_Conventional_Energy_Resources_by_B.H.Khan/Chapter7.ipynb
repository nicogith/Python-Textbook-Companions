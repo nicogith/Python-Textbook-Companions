{
 "metadata": {
  "name": "",
  "signature": "sha256:4b902b7e06643df09d54725c85a046b0d243304126721453ed87eafe8f5d46d6"
 },
 "nbformat": 3,
 "nbformat_minor": 0,
 "worksheets": [
  {
   "cells": [
    {
     "cell_type": "heading",
     "level": 1,
     "metadata": {},
     "source": [
      "Chapter7: Wind Energy"
     ]
    },
    {
     "cell_type": "heading",
     "level": 2,
     "metadata": {},
     "source": [
      "Ex7.1:Pg-216"
     ]
    },
    {
     "cell_type": "code",
     "collapsed": false,
     "input": [
      "# given data\n",
      "import math\n",
      "rho=1.226 # air density in kG/m^3\n",
      "alpha =0.14\n",
      "H=10.0 # height at which wind speed is given in m\n",
      "uH=12.0 # speed in m/s\n",
      "z=100.0 # tower height in m\n",
      "D=80.0 # diameter  in m\n",
      "effigen=0.85 # efficiency og generator\n",
      "\n",
      "A=math.pi*(D**2)/4 # area in m^3\n",
      "u0=uH*(z/H)**alpha # velocity at 100 m in m/s\n",
      "u1=0.8*u0 # exit velocity in m/s \n",
      "Po=(A*rho*u0**3)/2 # Total Power in Wind\n",
      "# Part 1 \n",
      "print \"Total Power in Wind is \",round(Po/1000000,2),\"MW\"\n",
      "\n",
      "# Part 2\n",
      "a=(u0-u1)/u0 # interference factor\n",
      "Cp=4*a*(1-a)**2 # Power Coefficient\n",
      "PT=Cp*Po/1000000 # power to turbine in MW\n",
      "\n",
      "print \"The power extracted by turbine is \",round(PT,2),\"MW\"\n",
      "\n",
      "# Part 3\n",
      "Pelec=effigen*PT # electrical power generated in MW\n",
      "\n",
      "print \"The Electrical power generated is \",round(Pelec,2),\"MW\"\n",
      "\n",
      "# Part 4\n",
      "FA=4*a*(1-a)*(A*rho*u0**2)/2 # axial thrust in N\n",
      "\n",
      "print \"The axial thrust is \",round(FA,2),\"N\"\n",
      "\n",
      "# Part 5\n",
      "\n",
      "Fmax=(A*rho*u0**2)/2 # maximum thrust in N\n",
      "print \"Maximum axial thrust is \",round(Fmax,2),\"N\"\n",
      "\n",
      "\n",
      "\n"
     ],
     "language": "python",
     "metadata": {},
     "outputs": [
      {
       "output_type": "stream",
       "stream": "stdout",
       "text": [
        "Total Power in Wind is  14.0 MW\n",
        "The power extracted by turbine is  7.17 MW\n",
        "The Electrical power generated is  6.09 MW\n",
        "The axial thrust is  541094.1 N\n",
        "Maximum axial thrust is  845459.53 N\n"
       ]
      }
     ],
     "prompt_number": 1
    },
    {
     "cell_type": "heading",
     "level": 2,
     "metadata": {},
     "source": [
      "Ex7.2:Pg-216"
     ]
    },
    {
     "cell_type": "code",
     "collapsed": false,
     "input": [
      "# given data\n",
      "import math\n",
      "u0=20.0 # wind speed in m/s\n",
      "T=273+27.0 # temp in kelvin\n",
      "P=1.01325e5 # pressure in Pa\n",
      "R=287.0 # gas constant\n",
      "r=80/2.0 # radius of rotor in m\n",
      "w=2*math.pi*40/60.0 # rotor speed in rad/s\n",
      "A=math.pi*r**2 # area of rotor in m^2\n",
      "\n",
      "# soln:\n",
      "rho=P/(R*T) # density in Kg/m^3\n",
      "a=1/3.0 # condition for maximum output\n",
      "Cpmax=4*a*(1-a)**2 # Power Coefficient\n",
      "Lambda=r*w/u0 #tip speed ratio\n",
      "\n",
      "Po=(A*rho*u0**3)/2000000 # Total Power in Wind in W\n",
      "\n",
      "Tm=Po*r/u0 # Torque in N\n",
      "\n",
      "Ctmax=Cpmax/Lambda # torque coefficient \n",
      "\n",
      "Tshmax=Tm*Ctmax # torque at shaft\n",
      "\n",
      "print \"The torque at shaft for maximum output is \",round(Tshmax,2),\"N\"\n"
     ],
     "language": "python",
     "metadata": {},
     "outputs": [
      {
       "output_type": "stream",
       "stream": "stdout",
       "text": [
        "The torque at shaft for maximum output is  3.35 N\n"
       ]
      }
     ],
     "prompt_number": 30
    },
    {
     "cell_type": "heading",
     "level": 2,
     "metadata": {},
     "source": [
      "Ex7.3:Pg-217"
     ]
    },
    {
     "cell_type": "code",
     "collapsed": false,
     "input": [
      "# Given Data\n",
      "# given data\n",
      "import math\n",
      "u0=15.0 # wind speed in m/s\n",
      "R=80/2.0 # radius of rotor in m\n",
      "n=3 # number of blades\n",
      "\n",
      "Lambda=4*math.pi/n # condition of tip ratio for maximum output\n",
      "\n",
      "w=Lambda*u0/R # using Eq 7.21 rotor speed in rad/s\n",
      "\n",
      "N=w*60/(2*math.pi) # rotor speed in RPM\n",
      "\n",
      "print \"For optimum energy the rotor speed should be\",N,\"rpm\""
     ],
     "language": "python",
     "metadata": {},
     "outputs": [
      {
       "output_type": "stream",
       "stream": "stdout",
       "text": [
        "For optimum energy the rotor speed should be 15.0 rpm\n"
       ]
      }
     ],
     "prompt_number": 31
    }
   ],
   "metadata": {}
  }
 ]
}