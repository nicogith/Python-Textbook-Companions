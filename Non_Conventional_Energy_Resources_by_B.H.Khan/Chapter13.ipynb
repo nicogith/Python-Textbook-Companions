{
 "metadata": {
  "name": "",
  "signature": "sha256:f398a98eb03764e3df9c76bb9b69ca1418effde2602c77ec655bb3f8f666faf0"
 },
 "nbformat": 3,
 "nbformat_minor": 0,
 "worksheets": [
  {
   "cells": [
    {
     "cell_type": "heading",
     "level": 1,
     "metadata": {},
     "source": [
      "Chapter13:Miscellaneous Non-conventional Technologies"
     ]
    },
    {
     "cell_type": "heading",
     "level": 2,
     "metadata": {},
     "source": [
      "Ex13.1:pg-400"
     ]
    },
    {
     "cell_type": "code",
     "collapsed": false,
     "input": [
      "import math\n",
      "# given data\n",
      "A=0.25 # area in m^2\n",
      "d=0.5 # distance between electrodes in m \n",
      "B=1.8 # flux density in Wb/m^2\n",
      "u=1200.0 # average gas velocity in m/s\n",
      "sigma=10.0 # mho/m\n",
      "\n",
      "Vo=B*u*d #  in Volts\n",
      "Pmax=1*sigma*(u**2)*(B**2)*A*d/(4.0*10**6) #  in MW\n",
      "\n",
      "print \"Maximum Power output\",Pmax,\"MW\""
     ],
     "language": "python",
     "metadata": {},
     "outputs": [
      {
       "output_type": "stream",
       "stream": "stdout",
       "text": [
        "Maximum Power output 1.458 MW\n"
       ]
      }
     ],
     "prompt_number": 8
    }
   ],
   "metadata": {}
  }
 ]
}