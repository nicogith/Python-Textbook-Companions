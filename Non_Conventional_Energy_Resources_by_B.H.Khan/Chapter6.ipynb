{
 "metadata": {
  "name": "",
  "signature": "sha256:19f2a8cb1c6de61d0a56800f8e56bd9bad7dc4e03b58a655a7a7ff910f23e6d6"
 },
 "nbformat": 3,
 "nbformat_minor": 0,
 "worksheets": [
  {
   "cells": [
    {
     "cell_type": "heading",
     "level": 1,
     "metadata": {},
     "source": [
      "Chapter 6: Solar Photovoltaic Systems"
     ]
    },
    {
     "cell_type": "heading",
     "level": 2,
     "metadata": {},
     "source": [
      "Ex6.1:Pg-162"
     ]
    },
    {
     "cell_type": "code",
     "collapsed": false,
     "input": [
      "# Given data :\n",
      "import math\n",
      "T=27 +273 # temperature converted in kelvin\n",
      "NV=1e22 # effective density of states in valence band in cm^(-3)\n",
      "NA=1e19 # acceptor density in cm^(-3)\n",
      "k=8.629*10**(-5) # boltzmann constant in eV/K\n",
      "EFV=k*T*math.log(NV/NA) # closeness of fermi level i.e Ef-Ev\n",
      "print \"Closeness of fermi level with valence bond is\",round(EFV,4),\"eV\"\n"
     ],
     "language": "python",
     "metadata": {},
     "outputs": [
      {
       "output_type": "stream",
       "stream": "stdout",
       "text": [
        "Closeness of fermi level with valence bond is 0.1788 eV\n"
       ]
      }
     ],
     "prompt_number": 3
    },
    {
     "cell_type": "heading",
     "level": 2,
     "metadata": {},
     "source": [
      "Ex6.2:Pg-165"
     ]
    },
    {
     "cell_type": "code",
     "collapsed": false,
     "input": [
      "# Given data :\n",
      "E =2.42 # Band gap in eV\n",
      "hc=1.24 # planck's constant * speed of light\n",
      "# solution\n",
      "Lambda=1.24/E # in micro-meter usinf eq 6.4\n",
      "\n",
      "print \"The optimum wavelength is \",round(Lambda,3),\" micro meter\""
     ],
     "language": "python",
     "metadata": {},
     "outputs": [
      {
       "output_type": "stream",
       "stream": "stdout",
       "text": [
        "The optimum wavelength is  0.512  micro meter\n"
       ]
      }
     ],
     "prompt_number": 20
    },
    {
     "cell_type": "heading",
     "level": 2,
     "metadata": {},
     "source": [
      "Ex6.3:Pg-182"
     ]
    },
    {
     "cell_type": "code",
     "collapsed": false,
     "input": [
      "# Given data :\n",
      "Pout=1*735 # motor power output in W\n",
      "Peffi=0.85 # motor efficiency\n",
      "cellarea=9*4*125*125e-6 # area in m^2 \n",
      "Rad=1000 #incident radiation in kW/m^2\n",
      "celleffi=0.12 # cell efficiency\n",
      "\n",
      "# soln.\n",
      "Pin=Pout/Peffi # power req by motor in W\n",
      "N=Pin/(Rad*cellarea*celleffi) # number of modules\n",
      "\n",
      "print round(N),\" number of modules are required\" \n"
     ],
     "language": "python",
     "metadata": {},
     "outputs": [
      {
       "output_type": "stream",
       "stream": "stdout",
       "text": [
        "13.0  number of modules are required\n"
       ]
      }
     ],
     "prompt_number": 22
    },
    {
     "cell_type": "heading",
     "level": 2,
     "metadata": {},
     "source": [
      "Ex6.4:Pg-185"
     ]
    },
    {
     "cell_type": "code",
     "collapsed": false,
     "input": [
      "# given:\n",
      "noMPPTpower=10*8 # power without MPPT in W from fig 6.25\n",
      "MaxP=25*5 # maximum power by PV module in W from fig 6.25\n",
      "effi=0.95 # efficiency of MPPT\n",
      "MPPTcost=4000 # Cost in rupees\n",
      "# Soln\n",
      "Pact=MaxP*effi # actual power produced in W\n",
      "Psurplus=Pact-noMPPTpower # Surplus power in W\n",
      "t=MPPTcost/(3*Psurplus/1000) # time required in hours \n",
      "print \"time required is \",round(t,2),\"hours\"\n"
     ],
     "language": "python",
     "metadata": {},
     "outputs": [
      {
       "output_type": "stream",
       "stream": "stdout",
       "text": [
        "time required is  34408.6 hours\n"
       ]
      }
     ],
     "prompt_number": 24
    }
   ],
   "metadata": {}
  }
 ]
}