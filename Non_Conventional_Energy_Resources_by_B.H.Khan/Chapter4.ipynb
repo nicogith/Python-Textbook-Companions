{
 "metadata": {
  "name": "",
  "signature": "sha256:574ebb4d4acd5d9e1ca65b924a04ae0a79a40c26934e573f22784629ff1f575c"
 },
 "nbformat": 3,
 "nbformat_minor": 0,
 "worksheets": [
  {
   "cells": [
    {
     "cell_type": "heading",
     "level": 1,
     "metadata": {},
     "source": [
      "Chapter04:Solar Energy-Basics"
     ]
    },
    {
     "cell_type": "heading",
     "level": 2,
     "metadata": {},
     "source": [
      "Ex4.1:pg-98"
     ]
    },
    {
     "cell_type": "code",
     "collapsed": false,
     "input": [
      "# given data\n",
      "import math\n",
      "n=319 # 15th November\n",
      "gamma=math.radians(30) # angle in radian\n",
      "beta=math.radians(45) # angle in radian\n",
      "phi=math.radians(18.9)  # latitude in radian\n",
      "solartime=13.5-4*(81.733-72.816)/60 +14.74/60 # in hours\n",
      "delta=23.45*(math.sin(math.radians(360.0*(284.0+n)/365.0))) # in radian\n",
      "B=45#(360.0*(n-81)/364)\n",
      "E=9.87*math.sin(2*B)-7.53*math.cos(B)-15*math.sin(B)\n",
      "w=math.radians((solartime-12)*15) # hour angle\n",
      "thetai=math.acos((math.cos(phi)*math.cos(beta)+math.sin(phi)*math.sin(beta)*math.cos(gamma))*math.cos(delta)*math.cos(w) + math.cos(delta)*math.sin(w)*math.sin(beta)*math.sin(gamma) + math.sin(delta)*(math.sin(phi)*math.cos(beta)-math.cos(phi)*math.sin(beta)*math.cos(gamma)))\n",
      "print round(math.degrees(thetai),2),\"degree\"\n",
      "# The answer in the textbook is wrong due to wrong expression of Cos(Thetai)"
     ],
     "language": "python",
     "metadata": {},
     "outputs": [
      {
       "output_type": "stream",
       "stream": "stdout",
       "text": [
        "5.77 degree\n"
       ]
      }
     ],
     "prompt_number": 3
    },
    {
     "cell_type": "heading",
     "level": 2,
     "metadata": {},
     "source": [
      "Ex4.2:pg-98"
     ]
    },
    {
     "cell_type": "code",
     "collapsed": false,
     "input": [
      "# given data\n",
      "import math\n",
      "n1=1 # 1st january\n",
      "n2=182 # july 1\n",
      "\n",
      "phi=34.083  #  latitude in degree\n",
      "\n",
      "delta1=23.45*math.sin(math.radians(360.0*(284.0+n1)/365.0)) # in degree\n",
      "delta2=23.45*math.sin(math.radians(360.0*(284.0+n2)/365.0)) # in degree\n",
      "\n",
      "td1=(2.0/15)*math.degrees(math.acos(math.tan(phi)/math.tan(delta1))) # daylight hours for january 1\n",
      "td2=(2.0/15)*math.degrees(math.acos(math.tan(phi)/math.tan(delta2))) # daylight hours for july 1\n",
      "\n",
      "print \"daylight hours for january 1 are\",round(td1,2),\"hours\"\n",
      "print \"daylight hours for july 1 are\",round(td2,2),\"hours\"\n",
      "\n",
      "# the answers are slightly different in textbook due to approximation while here ansers are precise"
     ],
     "language": "python",
     "metadata": {},
     "outputs": [
      {
       "output_type": "stream",
       "stream": "stdout",
       "text": [
        "daylight hours for january 1 are 9.55 hours\n",
        "daylight hours for july 1 are 13.87 hours\n"
       ]
      }
     ],
     "prompt_number": 4
    },
    {
     "cell_type": "heading",
     "level": 2,
     "metadata": {},
     "source": [
      "Ex4.3:pg-101"
     ]
    },
    {
     "cell_type": "code",
     "collapsed": false,
     "input": [
      "# given data\n",
      "import math\n",
      "a=0.25 # constant for delhi from table 4.1 \n",
      "b=0.57 # constant for delhi from table 4.1 \n",
      "phi=27.166 # latitute in degrees\n",
      "n=17 # day\n",
      "nbar=7 # sunshine hours\n",
      "\n",
      "delta=23.45*(math.sin(math.radians(360.0*(284.0+n)/365.0))) # in radian\n",
      "\n",
      "wt=math.acos(math.radians(-math.tan(phi)*(math.tan(delta)))) # hour angle at sunrise\n",
      "Nbar=(2*math.degrees(wt)/15.0)# day length\n",
      "\n",
      "Ho=3600*(24.0/math.pi)*1.367*(1+0.033*math.cos((360.0*n/365)))*(math.cos(phi)*cos(delta)*sin(wt)+1.3728*sin(delta)*sin(phi)) # in kj/m^2 per day\n",
      "\n",
      "Hg=Ho*(a+b*(nbar/Nbar))  # in kj/m^2 per day\n",
      "print \"The monthly average is \",round(-Hg,2),\" in kj/m^2 per day\"\n",
      "\n",
      "# the answer in the book is wrong due to wrong calculations"
     ],
     "language": "python",
     "metadata": {},
     "outputs": [
      {
       "output_type": "stream",
       "stream": "stdout",
       "text": [
        "The monthly average is  19160.94  in kj/m^2 per day\n"
       ]
      }
     ],
     "prompt_number": 7
    },
    {
     "cell_type": "heading",
     "level": 2,
     "metadata": {},
     "source": [
      "Ex4.4:pg-103"
     ]
    },
    {
     "cell_type": "code",
     "collapsed": false,
     "input": [
      "# given data\n",
      "import math\n",
      "Hg=19160.94 # in kj/m^2 per day from previous example\n",
      "Ho=32107.62 # in kj/m^2 per day from previous example\n",
      "KT=Hg/Ho # unitless\n",
      "Hd=Hg*(1.354-1.570*KT) # in kj/m^2 per day\n",
      "Hb= Hg-Hd # in kj/m^2 per day\n",
      "\n",
      "print \"Monthly average of daily diffused is \",round(Hd,2),\"in kj/m^2 per day\"\n",
      "print \"beam radiation is \",round(Hb,2),\"in kj/m^2 per day\"\n",
      "\n",
      "# the solution inthe textbook is wrong as the values from previous examples are used which too are incorrect"
     ],
     "language": "python",
     "metadata": {},
     "outputs": [
      {
       "output_type": "stream",
       "stream": "stdout",
       "text": [
        "Monthly average of daily diffused is  7991.4 in kj/m^2 per day\n",
        "beam radiation is  11169.54 in kj/m^2 per day\n"
       ]
      }
     ],
     "prompt_number": 44
    },
    {
     "cell_type": "heading",
     "level": 2,
     "metadata": {},
     "source": [
      "Ex4.5:pg-104"
     ]
    },
    {
     "cell_type": "code",
     "collapsed": false,
     "input": [
      "# given data\n",
      "import math\n",
      "# most of the data is used is from previous example:\n",
      "phi=27.166 # in degree\n",
      "n=17 # day\n",
      "ws=78.66 # degrees\n",
      "delta=-20.96 # in degrees\n",
      "Ho=22863.3 # kj/m^2 per day\n",
      "Hg=14413.82 # kj/m^2 per day\n",
      "Hd=5259.6 # kj/m^2 per day\n",
      "\n",
      "w=(11.5-12)*15 # in degrees\n",
      "\n",
      "Io=3600*1.367*(1+0.033*math.cos(360*17/365.0))*(math.cos(math.radians(phi))*math.cos(math.radians(delta))*math.cos(math.radians(w)))+math.sin(math.radians(delta))*math.sin(math.radians(phi))\n",
      "\n",
      "a=0.409+0.5016*math.sin(ws-60)\n",
      "b=0.6609-0.4767*math.sin(ws-60)\n",
      "\n",
      "Ig=Hg*(a+b*math.cos(w))*Io/Ho # in kJ/m^2-h\n",
      "\n",
      "print \"The monthly average of hourly global radiation is \",round(Ig,2),\"kJ/m^2-h\"\n",
      "\n",
      "adash=0.4922+(0.27/(Hd/Hg))\n",
      "bdash=2*(1-adash)*(math.sin(math.radians(ws)))-1.7328*math.cos(math.radians(78.66))/(1.7328-0.5*math.sin(math.radians(2*78.66))) \n",
      "\n",
      "\n",
      "Id=5259.6*(1.2321-0.3983*math.cos(math.radians(w)))*Io/Ho # kJ/m^2-h\n",
      "\n",
      "\n",
      "\n",
      "print \"The hourly diffuse radiations are\",round(Id,2),\"kJ/m^2-h\"\n",
      "\n",
      "# the solution inthe textbook is wrong as the values from previous examples are used which too are incorrect\n"
     ],
     "language": "python",
     "metadata": {},
     "outputs": [
      {
       "output_type": "stream",
       "stream": "stdout",
       "text": [
        "The monthly average of hourly global radiation is  1444.92 kJ/m^2-h\n",
        "The hourly diffuse radiations are 768.07 kJ/m^2-h\n"
       ]
      }
     ],
     "prompt_number": 26
    },
    {
     "cell_type": "heading",
     "level": 2,
     "metadata": {},
     "source": [
      "Ex4.6:pg-108"
     ]
    },
    {
     "cell_type": "code",
     "collapsed": false,
     "input": [
      "# given data\n",
      "import math\n",
      "phi=28.58 # in degree\n",
      "n=135 # may 15\n",
      "delta=23.45*math.sin(math.radians(360*(284+n)/365.0))\n",
      "\n",
      "w=(13.5-12)*15 # in degrees\n",
      "A=3981.6 # in W/m^2 from table 4.2\n",
      "B=0.177# from table 4.2\n",
      "C=0.130 # from table 4.2\n",
      "\n",
      "costhetaz=math.cos(phi)*math.cos(delta)*math.cos(w)+math.sin(delta)*math.sin(phi)\n",
      "\n",
      "Ibn=A*math.exp(-B/0.922)# kJ/m^2-h\n",
      "\n",
      "\n",
      "Id=C*Ibn # kJ/m^2-h\n",
      "\n",
      "print \"The diffused radiation is \",round(Id,2),\"kJ/m^2-h\"\n",
      "Ib=Ibn*0.922 # in kJ/m^2-h\n",
      "\n",
      "print \"The beam radiation is \",round(Ib,2),\"kJ/m^2-h\"\n",
      "Ig=Ib+Id # in kJ/m^2-h\n",
      "\n",
      "print \"The global radiation is \",round(Ig,2),\"kJ/m^2-h\"\n"
     ],
     "language": "python",
     "metadata": {},
     "outputs": [
      {
       "output_type": "stream",
       "stream": "stdout",
       "text": [
        "The diffused radiation is  427.2 kJ/m^2-h\n",
        "The beam radiation is  3029.81 kJ/m^2-h\n",
        "The global radiation is  3457.01 kJ/m^2-h\n"
       ]
      }
     ],
     "prompt_number": 44
    },
    {
     "cell_type": "heading",
     "level": 2,
     "metadata": {},
     "source": [
      "Ex-4.7:pg-111"
     ]
    },
    {
     "cell_type": "code",
     "collapsed": false,
     "input": [
      "# given data\n",
      "import math\n",
      "phi=28.58 # in degree\n",
      "B=30 # in degree\n",
      "n=318 # november 14\n",
      "Hg=16282.8 # in kJ/m^2-day from Table C1 appendix C\n",
      "Hd=4107.6 # in kJ/m^2-day from Table C2 appendix C\n",
      "\n",
      "delta=23.45*(math.sin(math.radians(360.0*(284.0+n)/365.0))) # in radians\n",
      "\n",
      "ws=math.acos(math.radians(-math.tan(phi)*(math.tan(delta)))) # hour angle at sunrise\n",
      "\n",
      "Rb=(ws*sin(math.radians(delta))*math.sin(phi-B)+math.cos((delta))*math.sin(ws)*math.cos(phi-B))/(ws*sin((delta))*math.sin(math.radians(phi))+math.cos(math.radians(delta))*math.sin(ws)*math.cos(math.radians(phi)))\n",
      "\n",
      "Rd=(1+math.cos(math.radians(B)))/2 \n",
      "\n",
      "Rr=0.2*(1-math.cos(math.radians(B)))/2 \n",
      "\n",
      "Ht=((1-(Hd/Hg))*1.56+(Hd/Hg)*Rd + Rr)*Hg\n",
      "print \"Monthly average total radiation is\",round(Ht,2),\"kJ/m^2-h\""
     ],
     "language": "python",
     "metadata": {},
     "outputs": [
      {
       "output_type": "stream",
       "stream": "stdout",
       "text": [
        "Monthly average total radiation is 23043.9 kJ/m^2-h\n"
       ]
      }
     ],
     "prompt_number": 8
    }
   ],
   "metadata": {}
  }
 ]
}