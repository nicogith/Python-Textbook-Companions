{
 "metadata": {
  "name": "",
  "signature": "sha256:900e8c40d4fed93f16924c238f3501224263d68b0f636bde52b89454eb250cc4"
 },
 "nbformat": 3,
 "nbformat_minor": 0,
 "worksheets": [
  {
   "cells": [
    {
     "cell_type": "heading",
     "level": 1,
     "metadata": {},
     "source": [
      "Chapter 3 : Overview of Java Language"
     ]
    },
    {
     "cell_type": "heading",
     "level": 2,
     "metadata": {},
     "source": [
      "exmple 3.1, page no. 25"
     ]
    },
    {
     "cell_type": "code",
     "collapsed": false,
     "input": [
      "print \"Python is better than Java.\""
     ],
     "language": "python",
     "metadata": {},
     "outputs": [
      {
       "output_type": "stream",
       "stream": "stdout",
       "text": [
        "Python is better than Java.\n"
       ]
      }
     ],
     "prompt_number": 2
    },
    {
     "cell_type": "heading",
     "level": 2,
     "metadata": {},
     "source": [
      "example 3.2, page no. 27"
     ]
    },
    {
     "cell_type": "code",
     "collapsed": false,
     "input": [
      "\n",
      "import math\n",
      "\n",
      "x = 5\n",
      "y = math.sqrt(x)\n",
      "print \"y = \", round(y,5)"
     ],
     "language": "python",
     "metadata": {},
     "outputs": [
      {
       "output_type": "stream",
       "stream": "stdout",
       "text": [
        "y =  2.23607\n"
       ]
      }
     ],
     "prompt_number": 4
    },
    {
     "cell_type": "heading",
     "level": 2,
     "metadata": {},
     "source": [
      "example 3.3, page no. 28"
     ]
    },
    {
     "cell_type": "code",
     "collapsed": false,
     "input": [
      "\"\"\"\n",
      "Note: there is no need of another class here, as in Python there is no need of main class.\n",
      "\"\"\"\n",
      "\n",
      "class Room:\n",
      "    length = 0.0\n",
      "    breadth = 0.0\n",
      "    def getdata(self, a, b):\n",
      "        self.length = a\n",
      "        self.breadth = b\n",
      "\n",
      "room1 = Room()\n",
      "room1.getdata(14.0, 10.0)\n",
      "area = room1.length*room1.breadth\n",
      "print \"Area = \", area"
     ],
     "language": "python",
     "metadata": {},
     "outputs": [
      {
       "output_type": "stream",
       "stream": "stdout",
       "text": [
        "Area =  140.0\n"
       ]
      }
     ],
     "prompt_number": 6
    },
    {
     "cell_type": "heading",
     "level": 2,
     "metadata": {},
     "source": [
      "example 3.4, page no. 35"
     ]
    },
    {
     "cell_type": "code",
     "collapsed": false,
     "input": [
      "\n",
      "print \"Hellow!\"\n",
      "print \"Welcome to the world of Python.\"\n",
      "print \"Let us learn Python.\""
     ],
     "language": "python",
     "metadata": {},
     "outputs": [
      {
       "output_type": "stream",
       "stream": "stdout",
       "text": [
        "Hellow!\n",
        "Welcome to the world of Python.\n",
        "Let us learn Python.\n"
       ]
      }
     ],
     "prompt_number": 7
    },
    {
     "cell_type": "code",
     "collapsed": false,
     "input": [
      "\"\"\"\n",
      "Command line arguments cannot be taken from IPython Notebook.\n",
      "Hence, example 3.5 is ignored.\n",
      "\"\"\""
     ],
     "language": "python",
     "metadata": {},
     "outputs": [
      {
       "metadata": {},
       "output_type": "pyout",
       "prompt_number": 8,
       "text": [
        "'\\nCommand line arguments cannot be taken from IPython Notebook.\\nHence, example 3.5 is ignored.\\n'"
       ]
      }
     ],
     "prompt_number": 8
    }
   ],
   "metadata": {}
  }
 ]
}