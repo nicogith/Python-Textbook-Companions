{
 "metadata": {
  "name": "",
  "signature": "sha256:933ba5514f95bafa26850ac6e2454a01e504df02d55087ce5bb50cc93571fedc"
 },
 "nbformat": 3,
 "nbformat_minor": 0,
 "worksheets": [
  {
   "cells": [
    {
     "cell_type": "heading",
     "level": 1,
     "metadata": {},
     "source": [
      "Chapter 5 : Methods for Calculating Regulation of Alternator"
     ]
    },
    {
     "cell_type": "heading",
     "level": 2,
     "metadata": {},
     "source": [
      "Example 5.1 page no : 12"
     ]
    },
    {
     "cell_type": "code",
     "collapsed": false,
     "input": [
      "import math \n",
      "\n",
      "# Variables\n",
      "P = 1000.*10**3 \t\t\t#load power\n",
      "phi = math.acos(math.radians(0.8)) \t\t\t#power factor lagging angle\n",
      "V_L = 11.*10**3 \t\t\t#rated terminal voltae\n",
      "R_a = 0.4 \t\t\t#armature resistance per phase\n",
      "X_s = 3.\t\t\t#synchronous reactance per phase\n",
      "\n",
      "# Calculations\n",
      "I_L = P/(math.sqrt(3)*V_L*math.cos(math.radians(phi)))\n",
      "I_aph = I_L \t\t\t#for star connected load\n",
      "I_a = I_L\t\t\t#current through armature\n",
      "V_ph = V_L/math.sqrt(3) \t\t\t#rated terminal volatge phase value\n",
      "\n",
      "E_ph =  math.sqrt(  (V_ph*math.cos(math.radians(phi))+I_a*R_a)**2+(V_ph*math.sin(math.radians(phi))+I_a*X_s)**2   )  \t\t\t#emf generated phase value\n",
      "E_line = E_ph*math.sqrt(3) \t\t\t#line value of emf generated\n",
      "regulation = 100*(E_ph-V_ph)/V_ph  \t\t\t#pecentage regulation\n",
      "\n",
      "# Results\n",
      "print 'Line value of e.m.f generated is %.2f kV  \\nRegulation is %.3f percent'%(E_line*10**-3,regulation)\n",
      "\n",
      "# note : book answer is wrong.\n"
     ],
     "language": "python",
     "metadata": {},
     "outputs": [
      {
       "output_type": "stream",
       "stream": "stdout",
       "text": [
        "Line value of e.m.f generated is 11.05 kV  \n",
        "Regulation is 0.428 percent\n"
       ]
      }
     ],
     "prompt_number": 3
    },
    {
     "cell_type": "heading",
     "level": 2,
     "metadata": {},
     "source": [
      "Example 5.2 Page no : 14"
     ]
    },
    {
     "cell_type": "code",
     "collapsed": false,
     "input": [
      "import math \n",
      "\n",
      "# Variables\n",
      "VA = 1200.*10**3\n",
      "V_L = 6600.\n",
      "R_a = 0.25 \t\t\t#armature resistance per phase\n",
      "X_s = 5.\t\t\t#synchronous reactance per phase\n",
      "\n",
      "# Calculations and Results\n",
      "I_L = VA/(math.sqrt(3)*V_L)\n",
      "I_aph = I_L \t\t\t#for star connected load\n",
      "I_a = I_L\n",
      "V_ph = V_L/math.sqrt(3)\n",
      "\n",
      "#Part(i)\n",
      "phi1 = math.acos(0.8)\t\t\t#and lagging\n",
      "E_ph1 =  math.sqrt(  (V_ph*math.cos(phi1)+I_a*R_a)**2+(V_ph*math.sin(phi1)+I_a*X_s)**2   )\n",
      "regulation = 100*(E_ph1-V_ph)/V_ph  \t\t\t#percentage regulation\n",
      "print 'i)Regulation at 0.8 lagging pf is %.2f percent'%(regulation)\n",
      "#Part(ii)\n",
      "phi2 = math.acos(0.8)\t\t\t#and leading\n",
      "E_ph2 =  math.sqrt(  (V_ph*math.cos(phi2)+I_a*R_a)**2+(V_ph*math.sin(phi2)-I_a*X_s)**2   )\n",
      "regulation2 = 100*(E_ph2-V_ph)/V_ph \t\t\t#percentage regulation\n",
      "print 'ii)Regulation at 0.8 leading pf is %.f percent'%(regulation2)\n"
     ],
     "language": "python",
     "metadata": {},
     "outputs": [
      {
       "output_type": "stream",
       "stream": "stdout",
       "text": [
        "i)Regulation at 0.8 lagging pf is 9.33 percent\n",
        "ii)Regulation at 0.8 leading pf is -7 percent\n"
       ]
      }
     ],
     "prompt_number": 5
    },
    {
     "cell_type": "heading",
     "level": 2,
     "metadata": {},
     "source": [
      "Example 5.3 Page no : 17"
     ]
    },
    {
     "cell_type": "code",
     "collapsed": false,
     "input": [
      "import math \n",
      "\n",
      "# Variables\n",
      "#full load\n",
      "V_L_FL = 1100.\n",
      "V_ph_FL = V_L_FL/math.sqrt(3)\n",
      "\n",
      "# Calculations\n",
      "#no load\n",
      "V_L_NL = 1266\n",
      "E_line = V_L_NL\n",
      "E_ph = E_line/math.sqrt(3)\n",
      "regulation = 100*(E_ph-V_ph_FL)/V_ph_FL\n",
      "\n",
      "# Results\n",
      "print 'Regulation at full load is %.2f percent'%(regulation)\n"
     ],
     "language": "python",
     "metadata": {},
     "outputs": [
      {
       "output_type": "stream",
       "stream": "stdout",
       "text": [
        "Regulation at full load is 15.09 percent\n"
       ]
      }
     ],
     "prompt_number": 6
    },
    {
     "cell_type": "heading",
     "level": 2,
     "metadata": {},
     "source": [
      "Example 5.4 Page no : 23"
     ]
    },
    {
     "cell_type": "code",
     "collapsed": false,
     "input": [
      "import math \n",
      "\n",
      "# Variables\n",
      "V_L = 866.\n",
      "VA = 100.*10**3\n",
      "I_L = VA/(math.sqrt(3)*V_L)    \t\t\t#because VA = math.sqrt(3)*V_L*I_L\n",
      "I_aph = I_L\t\t\t#full load and star connected alternator\n",
      "V_ph = V_L/math.sqrt(3)\n",
      "\n",
      "# Calculations\n",
      "#Graph is plotted and V_oc_ph and I_asc_Ph is obtained for \n",
      "#SCC for I_asc = 66.67 A\n",
      "I_f = 2.4  # A\n",
      "#OCC for I_f = 2.4 A\n",
      "V_oc_ph = 240    # V\n",
      "\n",
      "#for measruemnt of impedance\n",
      "V_oc_ph = 240 \t\t\t#for I_f = 2.4..From o.c.c graph\n",
      "I_asc_ph = 66.67 \t\t\t#for I_f = 2.4...From s.c.c graph\n",
      "Z_s = V_oc_ph/I_asc_ph\n",
      "R_a = 0.15\n",
      "X_s = math.sqrt( Z_s**2-R_a**2 )\n",
      "\n",
      "V_ph_FL = 500.\n",
      "phi = math.acos(0.8)  \t\t\t#lagging pf\n",
      "E_ph = math.sqrt((V_ph_FL*math.cos(phi)+I_aph*R_a)**2+(V_ph_FL*math.sin(phi)+I_aph*X_s)**2)\n",
      "regulation = 100*(E_ph-V_ph)/V_ph\n",
      "\n",
      "# Results\n",
      "print 'Full-load regulation at 0.8 lagging pf is %.2f percent '%(regulation )\n",
      "\n"
     ],
     "language": "python",
     "metadata": {},
     "outputs": [
      {
       "output_type": "stream",
       "stream": "stdout",
       "text": [
        "Full-load regulation at 0.8 lagging pf is 35.57 percent \n"
       ]
      }
     ],
     "prompt_number": 7
    },
    {
     "cell_type": "heading",
     "level": 2,
     "metadata": {},
     "source": [
      "Example 5.5  Page no : 25"
     ]
    },
    {
     "cell_type": "code",
     "collapsed": false,
     "input": [
      "import math \n",
      "\n",
      "# Variables\n",
      "V_OC_line = 230.\n",
      "I_asc = 12.5  \t\t\t# when I_f = 0.38\n",
      "V_OC_ph = V_OC_line/math.sqrt(3)\n",
      "Z_s = V_OC_ph/I_asc \n",
      "\n",
      "R_a = 1.8/2  \t\t\t#1.8 is between terminals..0.9 is per phase\n",
      "X_s = math.sqrt(Z_s**2-R_a**2)\n",
      "\n",
      "I_a = 10.\t\t\t# when regulation is needed\n",
      "V_L = 230.\n",
      "V_ph = V_L/math.sqrt(3)\n",
      "\n",
      "# Calculations and Results\n",
      "#Part(i)\n",
      "phi1 = math.acos(0.8) \t\t\t#and lagging\n",
      "E_ph1 = math.sqrt((V_ph*math.cos(phi1)+I_a*R_a)**2+(V_ph*math.sin(phi1)+I_a*X_s)**2)\n",
      "regulation1 = 100*(E_ph1-V_ph)/V_ph\n",
      "print 'Regulation for 10 A at 0.8 lagging pf is %.2f percent'%(regulation1)\n",
      "#Part(ii)\n",
      "phi2 = math.acos(0.8) \t\t\t#and leading\n",
      "E_ph2 = math.sqrt((V_ph*math.cos(phi2)+I_a*R_a)**2+(V_ph*math.sin(phi2)-I_a*X_s)**2)\n",
      "regulation2 = 100*(E_ph2-V_ph)/V_ph\n",
      "print 'Regulation for 10 A at 0.8 leading pf is %.2f percent'%(regulation2)\n"
     ],
     "language": "python",
     "metadata": {},
     "outputs": [
      {
       "output_type": "stream",
       "stream": "stdout",
       "text": [
        "Regulation for 10 A at 0.8 lagging pf is 64.47 percent\n",
        "Regulation for 10 A at 0.8 leading pf is -11.01 percent\n"
       ]
      }
     ],
     "prompt_number": 8
    },
    {
     "cell_type": "heading",
     "level": 2,
     "metadata": {},
     "source": [
      "Example 5.6  Page no :  31"
     ]
    },
    {
     "cell_type": "code",
     "collapsed": false,
     "input": [
      "import math \n",
      "\n",
      "# Variables\n",
      "phi = math.acos(0.8)\n",
      "VA = 1000.*10**3\n",
      "V_L = 1905.\n",
      "V_ph = V_L/math.sqrt(3)\n",
      "R_a = 0.2\t\t\t#Armature reactance per phase\n",
      "\n",
      "# Calculations and Results\n",
      "#Part(i)\n",
      "#Ampere-turn method\n",
      "I_L = VA/(math.sqrt(3)*V_L)\n",
      "I_aph = I_L\n",
      "V_dash = V_ph+I_aph*R_a*math.cos(phi)\t\t\t#V_dash is a dummy quantity and has no significance..it's used only for mapping correcponding current\n",
      "F_o = 32 \t\t\t#F_o corresponds to voltage V_dash = 1148.5 from O.C.C graph\n",
      "F_AR = 27.5 \t\t\t#Field current required to circulate full-load short circuit current of 303.07A.From SCC F_AR = 27.5\n",
      "F_R  =  math.sqrt(    F_o**2 + F_AR**2-2*F_o*F_AR*math.cos(phi+math.pi/2) )\t\t\t#using Comath.sine rule\n",
      "\n",
      "# for F_R = 53.25 E_ph = 1490 V from O.C.C\n",
      "E_ph = 1490.\n",
      "regulation1 = 100*(E_ph-V_ph)/V_ph\n",
      "print 'Regulation on full-load by ampere-turn method is %.2f percent'%(regulation1)\n",
      "\n",
      "#Part (ii)\n",
      "#Synchronous Impedance method\n",
      "\n",
      "I_sc = I_L\n",
      "I_aph2 = I_sc\n",
      "I_f = 27.5\n",
      "\n",
      "V_OC_ph = 1060. \t\t\t#corresponding to I-f = 27.5 in the graph\n",
      "Z_s = V_OC_ph/I_aph2\n",
      "X_s = math.sqrt(Z_s**2-R_a**2)\n",
      "\n",
      "E_ph2 =  math.sqrt( (V_ph*math.cos(phi)+I_aph2*R_a)**2+(V_ph*math.sin(phi)+I_aph2*X_s)**2 )   \t\t\t#from phasor diagram\n",
      "regulation2 = 100*(E_ph2-V_ph)/V_ph\n",
      "print 'Regulation on full-load by synchronous impedance method is %.2f percent'%(regulation2)\n"
     ],
     "language": "python",
     "metadata": {},
     "outputs": [
      {
       "output_type": "stream",
       "stream": "stdout",
       "text": [
        "Regulation on full-load by ampere-turn method is 35.47 percent\n",
        "Regulation on full-load by synchronous impedance method is 78.09 percent\n"
       ]
      }
     ],
     "prompt_number": 9
    },
    {
     "cell_type": "heading",
     "level": 2,
     "metadata": {},
     "source": [
      "Example 5.7  Page no :  39"
     ]
    },
    {
     "cell_type": "code",
     "collapsed": false,
     "input": [
      "import math \n",
      "\n",
      "# Variables\n",
      "#case(i)\n",
      "V_L = 440.\n",
      "V_ph = V_L/math.sqrt(3)\n",
      "phi = math.acos(0.8)\n",
      "\n",
      "#armature resistance drop from the graph\n",
      "#RS = 1.1 cm and scale  = 50 V/cm\n",
      "arm_leak_resis =  1.1*50    \t\t\t#armature leakage resistance\n",
      "\n",
      "OB = V_ph*math.cos(phi)\n",
      "AB = V_ph*math.sin(phi) + arm_leak_resis\n",
      "E_1ph =  math.sqrt( OB**2+AB**2   )\n",
      "\n",
      "F_f1 = 6.1  \t\t\t#corresponding value from OCC\n",
      "F_AR = 3.1*1\n",
      "\n",
      "# Calculations and Results\n",
      "F_R =  math.sqrt( F_f1**2 + F_AR**2 -2*F_f1*F_AR*math.cos(math.radians(90+math.acos(math.radians(0.8)))))\n",
      "E_ph = 328. \t\t\t#voltage corresponding to F_R = 8.33 A from OCC graph\n",
      "regulation1 =  100*(E_ph - V_ph)/V_ph\n",
      "print 'i)Regulation for 0.8 pf lagging is %.2f percent '%(regulation1)\n",
      "\n",
      "#case(ii)\n",
      "\n",
      "OC = V_ph*math.cos(phi)\n",
      "BC = V_ph*math.sin(phi) - arm_leak_resis\n",
      "E_1ph =  math.sqrt( OC**2+BC**2   )\n",
      "\n",
      "F_f1 = 6.1  \t\t\t#corresponding value from OCC\n",
      "F_R =  math.sqrt(   F_f1**2 + F_AR**2 -2*F_f1*F_AR*math.cos(math.radians(90-math.acos(math.radians(0.8)))))\n",
      "E_ph = 90 \t\t\t#volatge corresponding to F_R = 3.34 A from OCC graph\n",
      "regulation2 =  100*(E_ph - V_ph)/V_ph\n",
      "print 'ii)Regulation for 0.8 pf leading is %.2f percent '%(regulation2)\n",
      "print 'The answer in part ii doesnt match with textbook because of calculation mistake done in last step in the textbook'\n"
     ],
     "language": "python",
     "metadata": {},
     "outputs": [
      {
       "output_type": "stream",
       "stream": "stdout",
       "text": [
        "i)Regulation for 0.8 pf lagging is 29.12 percent \n",
        "ii)Regulation for 0.8 pf leading is -64.57 percent \n",
        "The answer in part ii doesnt match with textbook because of calculation mistake done in last step in the textbook\n"
       ]
      }
     ],
     "prompt_number": 10
    },
    {
     "cell_type": "heading",
     "level": 2,
     "metadata": {},
     "source": [
      "Example 5.8 Page no : 44"
     ]
    },
    {
     "cell_type": "code",
     "collapsed": false,
     "input": [
      "import math \n",
      "\n",
      "# Variables\n",
      "P = 1200.*10**3\n",
      "V_line = 12000.\n",
      "R_a = 2.\n",
      "X_s = 35.\t\t\t#armature resistance and synchronous reactance\n",
      "phi = math.acos(0.8)\n",
      "\n",
      "# Calculations\n",
      "I_L = P/(math.sqrt(3)*V_line*math.cos(phi))\n",
      "I_a = I_L\n",
      "V_ph = V_line/math.sqrt(3)\n",
      "E_ph = math.sqrt((V_ph*math.cos(phi)+I_a*R_a)**2+(V_ph*math.sin(phi)+I_a*X_s)**2)\n",
      "regulation = 100*(E_ph-V_ph)/V_ph\n",
      "\n",
      "# Results\n",
      "print 'Regulation at 0.8 lag power factor is %.2f percent'%(regulation)\n"
     ],
     "language": "python",
     "metadata": {},
     "outputs": [
      {
       "output_type": "stream",
       "stream": "stdout",
       "text": [
        "Regulation at 0.8 lag power factor is 26.66 percent\n"
       ]
      }
     ],
     "prompt_number": 11
    },
    {
     "cell_type": "heading",
     "level": 2,
     "metadata": {},
     "source": [
      "Example 5.9 Page no : 45"
     ]
    },
    {
     "cell_type": "code",
     "collapsed": false,
     "input": [
      "import math \n",
      "\n",
      "# Variables\n",
      "V_L = 11000.  \n",
      "V_ph =  V_L/math.sqrt(3)\n",
      "VA = 1000.*1000\n",
      "I_L = VA/(V_L*math.sqrt(3))\n",
      "\n",
      "V_OC_ph = 433/math.sqrt(3)\n",
      "I_asc_ph = I_L\n",
      "\n",
      "Z_s = V_OC_ph /I_asc_ph  \t\t\t#ohms per phase\n",
      "R_a = 0.45 \t\t\t#ohms per phase\n",
      "X_s = math.sqrt(Z_s**2-R_a**2)\n",
      "\n",
      "# Calculations and Results\n",
      "#part(i)\n",
      "phi = math.acos(0.8) \t\t\t#lagging\n",
      "E_ph  =  math.sqrt((V_ph*math.cos(phi)+I_L*R_a)**2 +(V_ph*math.sin(phi)+ I_L*X_s)**2)\n",
      "regulation = 100*(E_ph-V_ph)/V_ph\n",
      "print 'Voltage regulation at 0.8 pf lagging is %f percent'%(regulation)\n",
      "\n",
      "#part(ii)\n",
      "phi = math.acos(0.8) \t\t\t#leading\n",
      "E_ph2  =  math.sqrt((V_ph*math.cos(phi)+I_L*R_a)**2 +(V_ph*math.sin(phi)- I_L*X_s)**2)\n",
      "regulation2 = 100*(E_ph2-V_ph)/V_ph\n",
      "print 'Voltage regulation at 0.8 pf lagging is %f percent'%(regulation2)\n",
      "print 'Answer mismatches due to improper approximation'\n"
     ],
     "language": "python",
     "metadata": {},
     "outputs": [
      {
       "output_type": "stream",
       "stream": "stdout",
       "text": [
        "Voltage regulation at 0.8 pf lagging is 2.690067 percent\n",
        "Voltage regulation at 0.8 pf lagging is -1.996182 percent\n",
        "Answer mismatches due to improper approximation\n"
       ]
      }
     ],
     "prompt_number": 12
    },
    {
     "cell_type": "heading",
     "level": 2,
     "metadata": {},
     "source": [
      "Example 5.10 Page no :  46"
     ]
    },
    {
     "cell_type": "code",
     "collapsed": false,
     "input": [
      "import math \n",
      "\n",
      "# Variables\n",
      "VA = 125.*10**3\n",
      "V_L = 400.\n",
      "V_ph = V_L/math.sqrt(3)\n",
      "I_L = VA/(math.sqrt(3)*V_L)\n",
      "I_aph = I_L\n",
      "\n",
      "# Calculations\n",
      "I_f = 4.\n",
      "I_asc = I_aph/2 \t\t\t#for half load.. refer to graph\n",
      "V_OC_line = 140.\n",
      "V_OC_ph = V_OC_line/math.sqrt(3)\n",
      "I_asc_ph = I_asc\n",
      "Z_s =  V_OC_ph/I_asc_ph\n",
      "R_a = 0.1\n",
      "X_s = math.sqrt(Z_s**2-R_a**2) \t\t\t#armature resistance and synchronous reactance\n",
      "\n",
      "phi = math.acos(0.8)\n",
      "E_ph  =  math.sqrt((V_ph*math.cos(phi)+I_asc*R_a)**2 +(V_ph*math.sin(phi)- I_asc*X_s)**2)\n",
      "regulation = 100*(E_ph-V_ph)/V_ph\n",
      "\n",
      "# Results\n",
      "print 'Voltage regulation at 0.8 pf leading for half load is %.2f percent'%(regulation)\n"
     ],
     "language": "python",
     "metadata": {},
     "outputs": [
      {
       "output_type": "stream",
       "stream": "stdout",
       "text": [
        "Voltage regulation at 0.8 pf leading for half load is -12.39 percent\n"
       ]
      }
     ],
     "prompt_number": 13
    },
    {
     "cell_type": "heading",
     "level": 2,
     "metadata": {},
     "source": [
      "Example 5.11  Page no :  48"
     ]
    },
    {
     "cell_type": "code",
     "collapsed": false,
     "input": [
      "import math \n",
      "from numpy import roots\n",
      "\n",
      "# Variables\n",
      "V_OC_line = 575.\n",
      "V_OC_ph = V_OC_line/math.sqrt(3)\n",
      "I_asc_line = 75.\n",
      "I_asc_ph   = I_asc_line \n",
      "I_aph = I_asc_ph\n",
      "I_L = I_aph\n",
      "\n",
      "Z_s =  V_OC_ph/I_asc_ph\n",
      "R_a = 2.16/2\n",
      "X_s  =   math.sqrt(Z_s**2 - R_a**2)\n",
      "\n",
      "# Calculations and Results\n",
      "#on full load\n",
      "E_ph = 6100.\n",
      "phi = math.acos(0.8) \t\t\t#leading\n",
      "\n",
      "#using E_ph  =  math.sqrt((V_ph*math.cos(phi)+I_a*R_a)**2 +(V_ph*math.sin(phi)- I_a*X_s)**2)\n",
      "p = [1, -256.68, -3.71*10**7]\n",
      "ans = roots(p)\n",
      "V_ph = ans[0] \t\t\t#second root is ignored as its -ve\n",
      "V_L = V_ph*math.sqrt(3)\n",
      "print 'Rated terminal voltage between the lines is %.3f V '%(V_L)\n",
      "VA_rating = math.sqrt(3)*V_L*I_L\n",
      "print 'kVA rating of the alternator is %.f kVA'%(VA_rating*10**-3)\n"
     ],
     "language": "python",
     "metadata": {},
     "outputs": [
      {
       "output_type": "stream",
       "stream": "stdout",
       "text": [
        "Rated terminal voltage between the lines is 10774.515 V \n",
        "kVA rating of the alternator is 1400 kVA\n"
       ]
      }
     ],
     "prompt_number": 15
    },
    {
     "cell_type": "heading",
     "level": 2,
     "metadata": {},
     "source": [
      "Example 5.12  Page no :  49"
     ]
    },
    {
     "cell_type": "code",
     "collapsed": false,
     "input": [
      "import math \n",
      "from numpy import roots\n",
      "\n",
      "# Variables\n",
      "V_L = 6600.\n",
      "V_ph = V_L/math.sqrt(3)\n",
      "VA = 1500.*10**3\n",
      "I_L = VA/(math.sqrt(3)*V_L)\n",
      "I_aph = I_L\n",
      "\n",
      "# Calculations and Results\n",
      "R_a = 0.5\n",
      "X_s = 5\t\t\t#armature resistance and synchronous reactance\n",
      "phi = math.acos(0.8)\n",
      "E_ph  =  math.sqrt((V_ph*math.cos(phi)+I_aph*R_a)**2 +(V_ph*math.sin(phi)+ I_aph*X_s)**2)\n",
      "print 'Induced EMF per phase is %f V'%(E_ph)\n",
      "\n",
      "#full load \n",
      "phi = math.acos(1)\n",
      "#using E_ph  =  math.sqrt((V_ph*math.cos(phi)+I_a*R_a)**2 +(V_ph*math.sin(phi)- I_a*X_s)**2)\n",
      "p = [1, 131.215, -1.791*10**7]\n",
      "ans = roots(p)\n",
      "V_ph = ans[1] \t\t\t#first root is ignored as it is -ve\n",
      "print 'Terminal voltage per phase is %f V'%(V_ph)\n",
      "\n",
      "# note : rounding off error."
     ],
     "language": "python",
     "metadata": {},
     "outputs": [
      {
       "output_type": "stream",
       "stream": "stdout",
       "text": [
        "Induced EMF per phase is 4284.243828 V\n",
        "Terminal voltage per phase is 4166.921808 V\n"
       ]
      }
     ],
     "prompt_number": 16
    },
    {
     "cell_type": "heading",
     "level": 2,
     "metadata": {},
     "source": [
      "Example 5.13  Page no :  50"
     ]
    },
    {
     "cell_type": "code",
     "collapsed": false,
     "input": [
      "import math \n",
      "\n",
      "# Variables\n",
      "V_ph = 2000.\n",
      "R_a = 0.8\n",
      "I_sc = 100.\n",
      "V_OC = 500.\n",
      "I_f = 2.5\n",
      "Z_s = V_OC/I_sc\n",
      "X_s =  math.sqrt(Z_s**2 - R_a**2 )\n",
      "I_aFL = 100.\n",
      "I_a = I_aFL\n",
      "\n",
      "# Calculations and Results\n",
      "#part(i)\n",
      "phi = math.acos(1)\n",
      "E_ph  =  math.sqrt((V_ph*math.cos(phi)+I_a*R_a)**2 +(V_ph*math.sin(phi)+ I_a*X_s)**2)\n",
      "regulation = 100*(E_ph-V_ph)/V_ph\n",
      "print 'i)Voltage regulation is %.2f percent'%(regulation)\n",
      "\n",
      "#part(ii)\n",
      "phi2 = math.acos(0.8)\n",
      "E_ph2  =  math.sqrt((V_ph*math.cos(phi2)+I_a*R_a)**2 +(V_ph*math.sin(phi2)- I_a*X_s)**2)\n",
      "regulation2 = 100*(E_ph2-V_ph)/V_ph\n",
      "print 'ii)Voltage regulation is %.2f percent'%(regulation2)\n",
      "\n",
      "#part(iii)\n",
      "phi3 = math.acos(0.71)\n",
      "E_ph3  =  math.sqrt((V_ph*math.cos(phi3)+I_a*R_a)**2 +(V_ph*math.sin(phi3)+ I_a*X_s)**2)\n",
      "regulation3 = 100*(E_ph3-V_ph)/V_ph\n",
      "print 'iii)Voltage regulation is %.2f percent'%(regulation3)\n"
     ],
     "language": "python",
     "metadata": {},
     "outputs": [
      {
       "output_type": "stream",
       "stream": "stdout",
       "text": [
        "i)Voltage regulation is 6.89 percent\n",
        "ii)Voltage regulation is -8.88 percent\n",
        "iii)Voltage regulation is 21.11 percent\n"
       ]
      }
     ],
     "prompt_number": 17
    },
    {
     "cell_type": "heading",
     "level": 2,
     "metadata": {},
     "source": [
      "Example 5.14 Page no :  51"
     ]
    },
    {
     "cell_type": "code",
     "collapsed": false,
     "input": [
      "import math \n",
      "\n",
      "# Variables\n",
      "VA = 1000.*1000\n",
      "V_L = 4600. \n",
      "V_ph = V_L/math.sqrt(3)\n",
      "I_L = VA/(math.sqrt(3)*V_L)\n",
      "I_aph_FL = I_L\n",
      "I_aph = I_aph_FL\n",
      "I_sc = (150./100)* I_aph_FL\n",
      "V_OC_line = 1744\n",
      "V_OC_ph =  V_OC_line/math.sqrt(3)\n",
      "\n",
      "# Calculations\n",
      "Z_s = V_OC_ph / I_sc\n",
      "R_a = 1\n",
      "X_s = math.sqrt(Z_s**2-R_a**2)\n",
      "\n",
      "phi = math.acos(0.8 ) \t\t\t#lagging\n",
      "E_ph  =  math.sqrt((V_ph*math.cos(phi)+I_aph*R_a)**2 +(V_ph*math.sin(phi)+ I_aph*X_s)**2)\n",
      "regulation = 100*(E_ph-V_ph)/V_ph\n",
      "\n",
      "# Results\n",
      "print 'Voltage regulation at full load 0.8 pf is %.2f percent'%(regulation)\n"
     ],
     "language": "python",
     "metadata": {},
     "outputs": [
      {
       "output_type": "stream",
       "stream": "stdout",
       "text": [
        "Voltage regulation at full load 0.8 pf is 19.89 percent\n"
       ]
      }
     ],
     "prompt_number": 18
    },
    {
     "cell_type": "heading",
     "level": 2,
     "metadata": {},
     "source": [
      "Example 5.15 Page no :  52"
     ]
    },
    {
     "cell_type": "code",
     "collapsed": false,
     "input": [
      "import math \n",
      "\n",
      "\n",
      "#part(i)    Ampere turn method\n",
      "# Variables\n",
      "F_O = 37.5\n",
      "F_AR = 20.\n",
      "V_L = 6600.\n",
      "V_ph = V_L/math.sqrt(3)\n",
      "\n",
      "# Calculations and Results\n",
      "#lagging\n",
      "phi = math.acos(0.8) \n",
      "F_R =  math.sqrt((F_O+F_AR*math.sin(phi) )**2 + (F_AR*math.cos(phi))**2 ) \n",
      "#E_ph corresponding to F_R can be obtained by plotting open circuit characteristics\n",
      "E_ph = 4350\n",
      "regulation = 100*(E_ph-V_ph)/V_ph\n",
      "print 'i)By Ampere-turn method or MMF methodFull-load regulation at 0.8 lagging pf is %.2f percent'%(regulation)\n",
      "#leading\n",
      "phi = math.acos(0.8) \n",
      "F_R =  math.sqrt((F_O-F_AR*math.sin(phi) )**2 + (F_AR*math.cos(phi))**2 ) \n",
      "#E_ph corresponding to F_R can be obtained by plotting open circuit characteristics\n",
      "E_ph = 3000\n",
      "regulation = 100*(E_ph-V_ph)/V_ph\n",
      "print 'Full-load regulation at 0.8 leading pf is %.2f percent'%(regulation)\n",
      "\n",
      "#EMF method\n",
      "V_OC_ph = 100\n",
      "V_ph = 100\n",
      "I_sc =  100*(F_O/F_AR)   \t\t\t#times the rated value\n",
      "Z_s = V_OC_ph/I_sc\n",
      "F_O =  100\n",
      "F_AR =  Z_s*100\n",
      "\n",
      "#lagging\n",
      "phi = math.acos(0.8)\n",
      "F_R =   math.sqrt((F_O+F_AR*math.sin(phi) )**2 + (F_AR*math.cos(phi))**2 ) \n",
      "regulation = 100*(F_R-V_ph)/V_ph\n",
      "print 'iiSynchronous impedance method or EMF method'\n",
      "print 'Full-load regulation at 0.8 lagging pf is %.2f percent'%(regulation)\n",
      "#leading\n",
      "phi = math.acos(0.8)\n",
      "F_R =   math.sqrt((F_O-F_AR*math.sin(phi) )**2 + (F_AR*math.cos(phi))**2 ) \n",
      "regulation = 100*(F_R-V_ph)/V_ph\n",
      "print 'Full-load regulation at 0.8 leading pf is %.2f percent'%(regulation)\n"
     ],
     "language": "python",
     "metadata": {},
     "outputs": [
      {
       "output_type": "stream",
       "stream": "stdout",
       "text": [
        "i)By Ampere-turn method or MMF methodFull-load regulation at 0.8 lagging pf is 14.16 percent\n",
        "Full-load regulation at 0.8 leading pf is -21.27 percent\n",
        "iiSynchronous impedance method or EMF method\n",
        "Full-load regulation at 0.8 lagging pf is 38.72 percent\n",
        "Full-load regulation at 0.8 leading pf is -19.72 percent\n"
       ]
      }
     ],
     "prompt_number": 19
    },
    {
     "cell_type": "heading",
     "level": 2,
     "metadata": {},
     "source": [
      "Example 5.16 Page no :  56"
     ]
    },
    {
     "cell_type": "code",
     "collapsed": false,
     "input": [
      "import math \n",
      "\n",
      "# Variables\n",
      "V_L = 6000.\n",
      "V_ph = V_L/math.sqrt(3)\n",
      "I_ph_X_Lph  =  0.9*500  \t\t\t#leakage reactance drop in volts  =  0.9 cm * 500 V/cm\n",
      "phi =  math.acos(0.8) \t\t\t#lagging\n",
      "\n",
      "# Calculations\n",
      "E_1ph = math.sqrt( (V_ph*math.cos(phi))**2 + (V_ph*math.sin(phi)+I_ph_X_Lph)**2 )   \t\t\t#From triangle OAB\n",
      "F_f1  =  26 \t\t\t#from OCC\n",
      "F_AR =  2.9*5  \t\t\t#2.9cm * 5 A/cm\n",
      "\n",
      "F_R  =    math.sqrt(F_f1**2 + F_AR**2 -2*F_AR*F_f1*math.cos(phi+ (math.pi/2)) )\n",
      "\n",
      "# Results\n",
      "print 'Required field current is %.2f A'%(F_R)\n"
     ],
     "language": "python",
     "metadata": {},
     "outputs": [
      {
       "output_type": "stream",
       "stream": "stdout",
       "text": [
        "Required field current is 36.59 A\n"
       ]
      }
     ],
     "prompt_number": 20
    },
    {
     "cell_type": "heading",
     "level": 2,
     "metadata": {},
     "source": [
      "Example 5.17 Page no :  58"
     ]
    },
    {
     "cell_type": "code",
     "collapsed": false,
     "input": [
      "import math \n",
      "\n",
      "# Variables\n",
      "V_L = 400.\n",
      "V_ph = V_L/math.sqrt(3)\n",
      "VA = 40.*10**3\n",
      "I_L = VA/(math.sqrt(3)*V_L) \n",
      "I_aph = I_L\n",
      "\n",
      "# Calculations and Results\n",
      "I_aph_X_Lph  =  0.65*50  \t\t\t#leakage reactance drop in volts  =  2.4 cm * 500 V/cm\n",
      "X_Lph =  I_aph_X_Lph/ I_aph\n",
      "print 'Armature leakage reactance is %.3f ohms'%(X_Lph)\n",
      "phi = math.acos(0.8)  \t\t\t#lagging\n",
      "E_ph  =  math.sqrt((V_ph*math.cos(phi))**2 +(V_ph*math.sin(phi)+ I_aph_X_Lph)**2)\n",
      "F_f1 = 15.6 \t\t\t#as obtained from OCC corresponding to this E_ph\n",
      "\n",
      "F_AR =  2.3*3  \t\t\t#2.3cm * 3 A/cm\n",
      "print 'Armature reaction is %.1f '%(F_AR)\n",
      "F_R  =    math.sqrt(F_f1**2 + F_AR**2 -2*F_AR*F_f1*math.cos(phi+ (math.pi/2)) )  \t\t\t#math.comath.sine rule to Triangle OAB\n",
      "E_ph = 267.5  \t\t\t#corresponding to F_R from open circiut characteristics\n",
      "regulation = 100*(E_ph-V_ph)/V_ph\n",
      "print 'Voltage regulation at 0.8 pf lagging is %.1f percent'%(regulation)\n",
      "\n",
      "\n",
      "#Note:This answer doesnt match with textbook as it has been reciprocated in textbook\n"
     ],
     "language": "python",
     "metadata": {},
     "outputs": [
      {
       "output_type": "stream",
       "stream": "stdout",
       "text": [
        "Armature leakage reactance is 0.563 ohms\n",
        "Armature reaction is 6.9 \n",
        "Voltage regulation at 0.8 pf lagging is 15.8 percent\n"
       ]
      }
     ],
     "prompt_number": 21
    },
    {
     "cell_type": "heading",
     "level": 2,
     "metadata": {},
     "source": [
      "Example 5.18 Page no :  60"
     ]
    },
    {
     "cell_type": "code",
     "collapsed": false,
     "input": [
      "import math \n",
      "\n",
      "# Variables\n",
      "VA = 10.*10**3\n",
      "V_L = 11.*10**3\n",
      "V_ph = V_L/math.sqrt(3)\n",
      "I_ph_X_Lph  =  2.4*500  \t\t\t#leakage reactance drop in volts  =  2.4 cm * 500 V/cm\n",
      "\n",
      "# Calculations\n",
      "I_ph_R_aph  = VA/(math.sqrt(3)*V_L)\n",
      "phi = math.acos(0.8)\n",
      "E_ph  =  math.sqrt((V_ph*math.cos(phi)+I_ph_R_aph)**2 +(V_ph*math.sin(phi)+ I_ph_X_Lph)**2)\n",
      "F_f1 = 109 \t\t\t#obtained from open circuit characteristics corresponding to calculated E_ph\n",
      "F_AR =  2.8*10  \t\t\t#2.8cm * 10 A/cm\n",
      "F_R  =    math.sqrt(F_f1**2 + F_AR**2 -2*F_AR*F_f1*math.cos(phi+ (math.pi/2)) )  \t\t\t#math.comath.sine rule to Triangle OAB\n",
      "E_ph = 7700.  \t\t\t#corresponding to F_R from open circiut characteristics\n",
      "\n",
      "regulation = 100*(E_ph-V_ph)/V_ph\n",
      "\n",
      "# Results\n",
      "print 'Voltage regulation at full-load 0.8 pf lagging is %.2f percent'%(regulation)\n"
     ],
     "language": "python",
     "metadata": {},
     "outputs": [
      {
       "output_type": "stream",
       "stream": "stdout",
       "text": [
        "Voltage regulation at full-load 0.8 pf lagging is 21.24 percent\n"
       ]
      }
     ],
     "prompt_number": 22
    },
    {
     "cell_type": "heading",
     "level": 2,
     "metadata": {},
     "source": [
      "Example 5.19  Page no : 63"
     ]
    },
    {
     "cell_type": "code",
     "collapsed": false,
     "input": [
      "import math \n",
      "from numpy import roots\n",
      "\n",
      "# Variables\n",
      "VA = 2000.*1000\n",
      "V_L = 11000.\n",
      "V_ph = V_L/math.sqrt(3)\n",
      "R_a = 0.3\n",
      "X_s = 5. \t\t\t#armature resistance and synchronous reactance\n",
      "\n",
      "# Calculations\n",
      "#case (i)\n",
      "phi = math.acos(0.8) \t\t\t#lagging\n",
      "I_L = VA/(math.sqrt(3)*V_L)  \n",
      "I_a = I_L\n",
      "E_ph  =  math.sqrt((V_ph*math.cos(phi)+I_a*R_a)**2 +(V_ph*math.sin(phi)+ I_a*X_s)**2)\n",
      "\n",
      "#using E_ph  =  math.sqrt((V_ph*math.cos(phi)+I_aph*R_a)**2 +(V_ph*math.sin(phi)+ I_aph*X_s)**2)\n",
      "#we get  V_ph**2 -579.4455 V_ph -44653301.91 = 0\n",
      "p = [1, -579.4455, -44653301.91]\n",
      "ans = roots(p)\n",
      "V_ph = ans[0]    \t\t#second root is ignored as its -ve\n",
      "print 'Terminal voltage is %.4f V'%(V_ph)\n"
     ],
     "language": "python",
     "metadata": {},
     "outputs": [
      {
       "output_type": "stream",
       "stream": "stdout",
       "text": [
        "Terminal voltage is 6978.3131 V\n"
       ]
      }
     ],
     "prompt_number": 23
    },
    {
     "cell_type": "heading",
     "level": 2,
     "metadata": {},
     "source": [
      "Example 5.20 Page no : 64"
     ]
    },
    {
     "cell_type": "code",
     "collapsed": false,
     "input": [
      "import math \n",
      "from numpy import roots\n",
      "\n",
      "# Variables\n",
      "R_a = 0.6\n",
      "X_s = 6. \t\t\t#armature resistance and synchronous reactance per phase\n",
      "E_L = 6599.\n",
      "E_ph = E_L/math.sqrt(3)\n",
      "I_L = 180.\n",
      "I_a = I_L\n",
      "\n",
      "# Calculations and Results\n",
      "#part(i)\n",
      "# using E_ph  =  math.sqrt((V_ph*math.cos(phi)+I_a*R_a)**2 +(V_ph*math.sin(phi)+ I_a*X_s)**2) and solving for V_ph\n",
      "p = [1 ,1135.83, -13338836.49]\n",
      "ans = roots(p)\n",
      "V_ph = ans[1]\n",
      "V_L = V_ph*math.sqrt(3)\n",
      "regulation = 100*(E_ph-V_ph)/V_ph\n",
      "\n",
      "phi = math.acos(0.9)\n",
      "theta = math.atan((I_a*X_s+V_ph*math.sin(phi) )/(E_ph))\n",
      "delta = theta-phi\n",
      "print 'i)0.9 laggingTerminal voltage is %.2f VVoltage regulation is %.2f percentLoad angle is %.2f degrees'%(V_ph*math.sqrt(3),regulation,delta*180/math.pi)\n",
      "\n",
      "#part(ii)\n",
      "phi_2 = math.acos(0.8)\n",
      "p = [1, -941.53, -11399574.87]\n",
      "ans = roots(p) \n",
      "V_ph = ans[0] \t\t\t#second root is ignored as its -ve\n",
      "V_L = V_ph*math.sqrt(3)\n",
      "regulation2 = 100*(E_ph-V_ph)/V_ph\n",
      "delta_2  =  math.asin( (math.tan(phi)*(V_ph*math.cos(phi_2)+I_a*R_a) -I_a*X_s )/E_ph   )\n",
      "print 'ii)0.8 leadingTerminal voltage is %.2f VVoltage regulation is %.2f percentLoad angle is %.2f degrees'%(V_L,regulation2,delta_2*180/math.pi)\n"
     ],
     "language": "python",
     "metadata": {},
     "outputs": [
      {
       "output_type": "stream",
       "stream": "stdout",
       "text": [
        "i)0.9 laggingTerminal voltage is 5418.22 VVoltage regulation is 21.79 percentLoad angle is 6.83 degrees\n",
        "ii)0.8 leadingTerminal voltage is 6719.93 VVoltage regulation is -1.80 percentLoad angle is 7.17 degrees\n"
       ]
      }
     ],
     "prompt_number": 24
    },
    {
     "cell_type": "heading",
     "level": 2,
     "metadata": {},
     "source": [
      "Example 5.21 Page no :  66"
     ]
    },
    {
     "cell_type": "code",
     "collapsed": false,
     "input": [
      "import math \n",
      "\n",
      "# Variables\n",
      "V_ph = 2000.\n",
      "R_a = 0.8\n",
      "I_sc = 100.\n",
      "I_a = I_sc\n",
      "V_OC = 500.\n",
      "I_f = 2.5\n",
      "Z_s = V_OC/I_sc\n",
      "\n",
      "X_s = math.sqrt(Z_s**2- R_a**2)\n",
      "I_a_FL = 100.\n",
      "\n",
      "# Calculations and Results\n",
      "#Part(i)\n",
      "phi1 = math.acos(1) \t\t\t#and lagging\n",
      "E_ph1 = math.sqrt((V_ph*math.cos(phi1)+I_a*R_a)**2+(V_ph*math.sin(phi1)+I_a*X_s)**2)\n",
      "regulation1 = 100*(E_ph1-V_ph)/V_ph\n",
      "print 'Regulation at upf is %.2f percent'%(regulation1)\n",
      "\n",
      "#Part(ii)\n",
      "phi2 = math.acos(0.8) \n",
      "E_ph2 = math.sqrt((V_ph*math.cos(phi2)+I_a*R_a)**2+(V_ph*math.sin(phi2)-I_a*X_s)**2)\n",
      "regulation2 = 100*(E_ph2-V_ph)/V_ph\n",
      "print 'Regulation at 0.8 leading pf is %.2f percent'%(regulation2)\n",
      "\n",
      "#Part(iii)\n",
      "phi3 = math.acos(0.71) \n",
      "E_ph3 = math.sqrt((V_ph*math.cos(phi3)+I_a*R_a)**2+(V_ph*math.sin(phi3)+I_a*X_s)**2)\n",
      "regulation3 = 100*(E_ph3-V_ph)/V_ph\n",
      "print 'Regulation at 0.71 lagging pf is %.2f percent'%(regulation3)\n"
     ],
     "language": "python",
     "metadata": {},
     "outputs": [
      {
       "output_type": "stream",
       "stream": "stdout",
       "text": [
        "Regulation at upf is 6.89 percent\n",
        "Regulation at 0.8 leading pf is -8.88 percent\n",
        "Regulation at 0.71 lagging pf is 21.11 percent\n"
       ]
      }
     ],
     "prompt_number": 25
    },
    {
     "cell_type": "heading",
     "level": 2,
     "metadata": {},
     "source": [
      "Example 5.22 Page no : 68"
     ]
    },
    {
     "cell_type": "code",
     "collapsed": false,
     "input": [
      "import math \n",
      "\n",
      "# Variables\n",
      "V = 600.\n",
      "VA = 60.*10**3\n",
      "I_sc = 210.\n",
      "V_oc = 480.\n",
      "I_f = 10.\n",
      "R_a = 0.2\n",
      "\n",
      "I = VA/V        \t\t\t#VA = V*I and alternator is math.single phase\n",
      "I_a = I\n",
      "\n",
      "# Calculations and Results\n",
      "Z_s = V_oc/I_sc  \t\t\t#Synchronous Impedance\n",
      "X_s = math.sqrt(Z_s**2-R_a**2) \t\t\t#SYnchronous reactance\n",
      "print 'Synchronous impedances is %f ohms and synchronous reactance is %f ohms'%(Z_s,X_s)\n",
      "\n",
      "#PART (i)\n",
      "phi1 = math.acos(0.8) \t\t\t#and lagging\n",
      "E1 = math.sqrt((V*math.cos(phi1)+I_a*R_a)**2+(V*math.sin(phi1)+I_a*X_s)**2) \t\t\t#plus sign for lagging power factor\n",
      "regulation1 = 100*(E1-V)/V\n",
      "print 'Regulation at 0.8 lagging pf is %.2f percent '%(regulation1 )\n",
      "\n",
      "#PART (ii)\n",
      "phi2 = math.acos(1) \n",
      "E2 = math.sqrt((V*math.cos(phi2)+I_a*R_a)**2+(V*math.sin(phi2)+I_a*X_s)**2) \n",
      "regulation2 = 100*(E2-V)/V\n",
      "print 'Regulation at UNITY pf is %.2f percent '%(regulation2 )\n",
      "\n",
      "#PART (iii)\n",
      "phi3 = math.acos(0.6) \t\t\t#and leading \n",
      "E3 = math.sqrt((V*math.cos(phi3)+I_a*R_a)**2+(V*math.sin(phi3)-I_a*X_s)**2) \t\t\t#minus sign for leading power factor\n",
      "regulation3 = 100*(E3-V)/V\n",
      "print 'Regulation at 0.6 leading pf is %.2f percent '%(regulation3 )\n"
     ],
     "language": "python",
     "metadata": {},
     "outputs": [
      {
       "output_type": "stream",
       "stream": "stdout",
       "text": [
        "Synchronous impedances is 2.285714 ohms and synchronous reactance is 2.276947 ohms\n",
        "Regulation at 0.8 lagging pf is 28.60 percent \n",
        "Regulation at UNITY pf is 10.08 percent \n",
        "Regulation at 0.6 leading pf is -23.98 percent \n"
       ]
      }
     ],
     "prompt_number": 26
    },
    {
     "cell_type": "heading",
     "level": 2,
     "metadata": {},
     "source": [
      "Example 5.23 Page no : 69"
     ]
    },
    {
     "cell_type": "code",
     "collapsed": false,
     "input": [
      "import math \n",
      "\n",
      "# Variables\n",
      "V_L = 3300.\n",
      "V_ph = V_L/math.sqrt(3)\n",
      "I_a = 100.\n",
      "I_f = 5.\n",
      "V_OC_line = 900. \n",
      "V_OC_ph = V_OC_line/math.sqrt(3) \n",
      "R_a = 0.8 \t\t\t#armature resistance\n",
      "I_aph = I_a\n",
      "Z_s = V_OC_ph/I_aph\n",
      "X_s = math.sqrt(Z_s**2-R_a**2) \t\t\t#synchronous reactance\n",
      "\n",
      "# Calculations and Results\n",
      "#Part(i)\n",
      "phi1 = math.acos(0.8) \t\t\t#and lagging\n",
      "E_ph1 = math.sqrt((V_ph*math.cos(phi1)+I_a*R_a)**2+(V_ph*math.sin(phi1)+I_a*X_s)**2)\n",
      "regulation1 = 100*(E_ph1-V_ph)/V_ph\n",
      "print 'Regulation at 0.8 lagging is %.2f percent'%(regulation1)\n",
      "\n",
      "#Part(ii)\n",
      "phi2 = math.acos(0.8)  \t\t\t#and leading\n",
      "E_ph2 = math.sqrt((V_ph*math.cos(phi2)+I_a*R_a)**2+(V_ph*math.sin(phi2)-I_a*X_s)**2)\n",
      "regulation2 = 100*(E_ph2-V_ph)/V_ph\n",
      "print 'Regulation at 0.8 leading pf is %.2f percent'%(regulation2)\n"
     ],
     "language": "python",
     "metadata": {},
     "outputs": [
      {
       "output_type": "stream",
       "stream": "stdout",
       "text": [
        "Regulation at 0.8 lagging is 21.03 percent\n",
        "Regulation at 0.8 leading pf is -9.55 percent\n"
       ]
      }
     ],
     "prompt_number": 27
    },
    {
     "cell_type": "heading",
     "level": 2,
     "metadata": {},
     "source": [
      "Example 5.24  Page no : 70"
     ]
    },
    {
     "cell_type": "code",
     "collapsed": false,
     "input": [
      "import math \n",
      "\n",
      "# Variables\n",
      "V_L = 13500.\n",
      "R_a = 1.5 \n",
      "X_s = 30. \t\t\t#armature resistance and synchronous reactance\n",
      "V_ph = V_L/math.sqrt(3)\n",
      "\n",
      "# Calculations and Results\n",
      "#CASE 1\n",
      "phi1 = math.acos(0.8)\n",
      "P_out = 1280*10**3\n",
      "I_L =  P_out/ (math.sqrt(3)*V_L*math.cos(phi1) )    \t\t\t#because P_out = math.sqrt(3)*V_L*I_L*math.cos(phi)\n",
      "\n",
      "I_a = I_L\n",
      "E_ph = math.sqrt((V_ph*math.cos(phi1)+I_a*R_a)**2+(V_ph*math.sin(phi1)+I_a*X_s)**2)\n",
      "regulation = 100*(E_ph-V_ph)/V_ph\n",
      "print 'Regulation at 0.8 lagging power factor is %.2f percent'%(regulation)\n",
      "\n",
      "#Case 2\n",
      "phi2 = math.acos(1)\n",
      "I_L =  P_out/ (math.sqrt(3)*V_L*math.cos(phi2) )    \t\t\t#because P_out = math.sqrt(3)*V_L*I_L*math.cos(phi)\n",
      "\n",
      "I_a = I_L\n",
      "E_ph = math.sqrt((V_ph*math.cos(phi2)+I_a*R_a)**2+(V_ph*math.sin(phi2)+I_a*X_s)**2)\n",
      "regulation2 = 100*(E_ph-V_ph)/V_ph\n",
      "print 'Regulation at unity power factor is %.2f percent'%(regulation2)\n",
      "\n",
      "#case 3\n",
      "phi3 = math.acos(0.8)\n",
      "I_L =  P_out/ (math.sqrt(3)*V_L*math.cos(phi3) )    \t\t\t#because P_out = math.sqrt(3)*V_L*I_L*math.cos(phi)\n",
      "I_a = I_L\n",
      "E_ph = math.sqrt((V_ph*math.cos(phi3)+I_a*R_a)**2+(V_ph*math.sin(phi3)-I_a*X_s)**2)\t\t\t# minus sign in the second bracket beacuse of leading pf\n",
      "regulation3 = 100*(E_ph-V_ph)/V_ph\n",
      "print 'Regulation at 0.8 leading power factor is %.2f percent'%(regulation3)\n",
      "\n",
      "# note : rounding off error"
     ],
     "language": "python",
     "metadata": {},
     "outputs": [
      {
       "output_type": "stream",
       "stream": "stdout",
       "text": [
        "Regulation at 0.8 lagging power factor is 18.60 percent\n",
        "Regulation at unity power factor is 3.23 percent\n",
        "Regulation at 0.8 leading power factor is -11.99 percent\n"
       ]
      }
     ],
     "prompt_number": 29
    },
    {
     "cell_type": "heading",
     "level": 2,
     "metadata": {},
     "source": [
      "Example 5.26  Page no :  72"
     ]
    },
    {
     "cell_type": "code",
     "collapsed": false,
     "input": [
      "import math \n",
      "\n",
      "# Variables\n",
      "V_L = 11.*10**3\n",
      "VA_rating = 10.**6\n",
      "R_a = 2.2 \t\t\t#alternator resistance\n",
      "phi = math.acos(0.8)\n",
      "\n",
      "# Calculations\n",
      "I_L = VA_rating/(math.sqrt(3)*V_L)\t\t\t#VA = math.sqrt(3)V_L*I_L\n",
      "I_a = I_L\n",
      "V_ph = V_L/math.sqrt(3)\n",
      "regulation = 24.\n",
      "\n",
      "E_ph =  ((regulation/100)+1)*V_ph    \t\t\t# because regulation = 100*(E_ph-V_ph)/V_ph\n",
      "#using E_ph = math.sqrt((V_ph*math.cos(phi)+I_a*R_a)**2+(V_ph*math.sin(phi)+I_a*X_s)**2)\n",
      "X_s = (math.sqrt(E_ph**2-((V_ph*math.cos(phi)+I_a*R_a)**2))-V_ph*math.sin(phi))*(1/I_a)\n",
      "\n",
      "phi1 = math.acos(0.8)\n",
      "E_ph = math.sqrt((V_ph*math.cos(phi1)+I_a*R_a)**2+(V_ph*math.sin(phi1)-I_a*X_s)**2)\n",
      "regulation1 = 100*(E_ph-V_ph)/V_ph\n",
      "\n",
      "# Results\n",
      "print 'Regulation at 0.8 leading power factor is %.2f percent'%(regulation1)\n"
     ],
     "language": "python",
     "metadata": {},
     "outputs": [
      {
       "output_type": "stream",
       "stream": "stdout",
       "text": [
        "Regulation at 0.8 leading power factor is -13.90 percent\n"
       ]
      }
     ],
     "prompt_number": 31
    },
    {
     "cell_type": "heading",
     "level": 2,
     "metadata": {},
     "source": [
      "Example 5.27  Page no :  73"
     ]
    },
    {
     "cell_type": "code",
     "collapsed": false,
     "input": [
      "import math \n",
      "\n",
      "# Variables\n",
      "V_L = 220.\n",
      "VA = 100.*10**3\n",
      "R_a = 0.1 \t\t\t#effective resistacne of alternator\n",
      "X_a = 0.5 \t\t\t#leakage reactance\n",
      "X_ar = 2*X_a\n",
      "\n",
      "Z_s = complex(R_a,X_a+X_ar)\n",
      "\n",
      "# Calculations and Results\n",
      "#Part(1)\n",
      "phi = math.acos(0.4)\n",
      "V_ph = V_L/math.sqrt(3)\n",
      "I_L = VA/(math.sqrt(3)*V_L)\t\t\t#VA = math.sqrt(3)*V_L*I_L\n",
      "I_a = I_L\n",
      "E_ph = math.sqrt((V_ph*math.cos(phi)+I_a*R_a)**2+(V_ph*math.sin(phi)+I_a*(X_a+X_ar))**2)\n",
      "print 'i)Required noload voltage is %.3f V'%(E_ph)\n",
      "\n",
      "#Part(2)\n",
      "V_ph2 = 0\n",
      "E_ph2 = math.sqrt((V_ph2*math.cos(phi)+I_a*R_a)**2+(V_ph2*math.sin(phi)+I_a*(X_a+X_ar))**2)\n",
      "print 'ii)Required noload voltage is %.3f V'%(E_ph2)\n"
     ],
     "language": "python",
     "metadata": {},
     "outputs": [
      {
       "output_type": "stream",
       "stream": "stdout",
       "text": [
        "i)Required noload voltage is 515.848 V\n",
        "ii)Required noload voltage is 394.522 V\n"
       ]
      }
     ],
     "prompt_number": 32
    },
    {
     "cell_type": "heading",
     "level": 2,
     "metadata": {},
     "source": [
      "Example 5.28 Page no : 74"
     ]
    },
    {
     "cell_type": "code",
     "collapsed": false,
     "input": [
      "import math \n",
      "\n",
      "# Variables\n",
      "V_L = 2000.\n",
      "V_ph = V_L/math.sqrt(3)\n",
      "VA = 1000.*10**3\n",
      "I_L = VA/(math.sqrt(3)*V_L)    \t\t\t#because VA = math.sqrt(3)*V_L*I_L\n",
      "I_aph = I_L\n",
      "\n",
      "I_f = 28.5\t\t\t#for this I_aph = 288.67513 as obtained from SCC graph\n",
      "V_oc_ph = 1060.\t\t\t#for I_f = 28.5 as obtained fromOCC graph\n",
      "Z_s = V_oc_ph/I_aph\n",
      "R_a = 0.2 \t\t\t#armature effective resistance\n",
      "X_s = math.sqrt( Z_s**2-R_a**2 )\n",
      "\n",
      "# Calculations and Results\n",
      "#Part(i)\n",
      "phi1 = math.acos(0.8)\t\t\t#lagging\n",
      "E_ph1 = math.sqrt((V_ph*math.cos(phi1)+I_aph*R_a)**2+(V_ph*math.sin(phi1)+I_aph*X_s)**2)\n",
      "regulation1 = 100*(E_ph1-V_ph)/V_ph\n",
      "print \"i)Full-load percentage regulation at 0.8 pf lagging is %.2f percent\"%(regulation1)\n",
      "\n",
      "#Part(ii)\n",
      "phi2 = math.acos(0.8)\t\t\t#leading\n",
      "E_ph2 = math.sqrt((V_ph*math.cos(phi2)+I_aph*R_a)**2+(V_ph*math.sin(phi2)-I_aph*X_s)**2)\n",
      "regulation2 = 100*(E_ph2-V_ph)/V_ph\n",
      "print \"ii)Full-load percentage regulation at 0.8 pf leading is %.2f percent\"%(regulation2)\n",
      "print 'Note that the answer mismatches because of calculation mistake done in the last step of part 1'\n"
     ],
     "language": "python",
     "metadata": {},
     "outputs": [
      {
       "output_type": "stream",
       "stream": "stdout",
       "text": [
        "i)Full-load percentage regulation at 0.8 pf lagging is 73.86 percent\n",
        "ii)Full-load percentage regulation at 0.8 pf leading is -9.29 percent\n",
        "Note that the answer mismatches because of calculation mistake done in the last step of part 1\n"
       ]
      }
     ],
     "prompt_number": 33
    },
    {
     "cell_type": "heading",
     "level": 2,
     "metadata": {},
     "source": [
      "Example 5.29 Page no : 76"
     ]
    },
    {
     "cell_type": "code",
     "collapsed": false,
     "input": [
      "import math \n",
      "\n",
      "# Variables\n",
      "V_L = 3300.\n",
      "VA = 200.*10**3\n",
      "R_a = 0.6\n",
      "X_s = 6.\t\t\t#armature resistance and synchronous reactance\n",
      "\n",
      "# Calculations\n",
      "I_L = VA/(math.sqrt(3)*V_L)\t\t\t#VA = math.sqrt(3)V_L*I_L\n",
      "I_a = I_L\n",
      "V_ph = V_L/math.sqrt(3)\n",
      "phi = math.acos(0.8)\n",
      "E_ph = math.sqrt((V_ph*math.cos(phi)+I_a*R_a)**2+(V_ph*math.sin(phi)+I_a*X_s)**2)\n",
      "\n",
      "regulation = 100*(E_ph-V_ph)/V_ph\n",
      "\n",
      "# Results\n",
      "print 'Regulation at 0.8 lagging power factor is %.3f percent'%(regulation)\n",
      "print ' Note : Regulation is positive for lagging power factor loads'\n"
     ],
     "language": "python",
     "metadata": {},
     "outputs": [
      {
       "output_type": "stream",
       "stream": "stdout",
       "text": [
        "Regulation at 0.8 lagging power factor is 7.802 percent\n",
        " Note : Regulation is positive for lagging power factor loads\n"
       ]
      }
     ],
     "prompt_number": 34
    },
    {
     "cell_type": "heading",
     "level": 2,
     "metadata": {},
     "source": [
      "Example 5.30 Page no : 77"
     ]
    },
    {
     "cell_type": "code",
     "collapsed": false,
     "input": [
      "import math \n",
      "\n",
      "# Variables\n",
      "V_L = 2300.   \n",
      "V_ph =  V_L/math.sqrt(3)\n",
      "f = 50.\n",
      "R_a = 0.2 \t\t\t#armature resistance\n",
      "I_sc = 150.\n",
      "V_OC_line = 780.   \n",
      "V_OC_ph = V_OC_line/math.sqrt(3)\n",
      "\n",
      "Z_s =  V_OC_ph/I_sc\n",
      "X_s  =   math.sqrt(Z_s**2 - R_a**2)\n",
      "I_aph = 25 \n",
      "I_aFL = I_aph\n",
      "\n",
      "# Calculations and Results\n",
      "#part(i)\n",
      "phi =  math.acos(0.8)  \t\t\t#lag\n",
      "E_ph  =  math.sqrt((V_ph*math.cos(phi)+I_aph*R_a)**2 +(V_ph*math.sin(phi)+ I_aph*X_s)**2)\n",
      "regulation = 100*(E_ph-V_ph)/V_ph\n",
      "print 'Voltage regulation at 0.8 pf lagging is %.3f percent'%(regulation)\n",
      "\n",
      "#part(ii)\n",
      "phi2 =  math.acos(0.8)  \t\t\t#lead\n",
      "E_ph2  =  math.sqrt((V_ph*math.cos(phi2)+I_aph*R_a)**2 +(V_ph*math.sin(phi2)- I_aph*X_s)**2 )\n",
      "regulation2 = 100*(E_ph2-V_ph)/V_ph\n",
      "print 'Voltage regulation at 0.8 pf leading is %.3f percent'%(regulation2)\n"
     ],
     "language": "python",
     "metadata": {},
     "outputs": [
      {
       "output_type": "stream",
       "stream": "stdout",
       "text": [
        "Voltage regulation at 0.8 pf lagging is 3.774 percent\n",
        "Voltage regulation at 0.8 pf leading is -2.967 percent\n"
       ]
      }
     ],
     "prompt_number": 35
    }
   ],
   "metadata": {}
  }
 ]
}