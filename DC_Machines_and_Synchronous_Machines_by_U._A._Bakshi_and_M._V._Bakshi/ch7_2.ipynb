{
 "metadata": {
  "name": "",
  "signature": "sha256:a6d47374988dffe6254758a68746561860439fac0faeabc093287fa2241d2260"
 },
 "nbformat": 3,
 "nbformat_minor": 0,
 "worksheets": [
  {
   "cells": [
    {
     "cell_type": "heading",
     "level": 1,
     "metadata": {},
     "source": [
      "Chapter 7 : Synchronous Motors"
     ]
    },
    {
     "cell_type": "heading",
     "level": 2,
     "metadata": {},
     "source": [
      "Example 7.1  Page no :  27"
     ]
    },
    {
     "cell_type": "code",
     "collapsed": false,
     "input": [
      "import math \n",
      "import numpy as np\n",
      "\n",
      "# Variables\n",
      "V_l = 400.\n",
      "R_a = 0.2\n",
      "X_s = 2.  \t\t\t#armature resistance and synchronous reactance\n",
      "I_L = 25.\n",
      "I_aph = I_L\n",
      "V_ph = V_l/math.sqrt(3)\n",
      "Z_s = complex(R_a,X_s) \t\t\t#synchronous impedance\n",
      "angle = math.atan(Z_s.imag/Z_s.real)\n",
      "angle = math.degrees(angle)\n",
      "E_Rph=I_aph*abs(Z_s)\n",
      "theta = (math.pi/180.)*angle \n",
      "\n",
      "# Calculations and Results\n",
      "#case 1\n",
      "phi = math.acos(0.8) \t\t\t#lagging\n",
      "E_bph =  math.sqrt( (E_Rph)**2 + (V_ph)**2  -2*E_Rph*V_ph*math.cos(theta-phi)  )\n",
      "print 'i)Back EMF induced with 0.8 lagging pf is %.3f V'%(E_bph)\n",
      "\n",
      "#case 2\n",
      "phi = math.acos(0.9) \t\t\t#leading\n",
      "E_bph =  math.sqrt( (E_Rph)**2 + (V_ph)**2  -2*E_Rph*V_ph*math.cos(theta+phi)  )\n",
      "print 'ii)Back EMF induced with 0.8 lagging pf is %.3f V'%(E_bph)\n",
      "\n",
      "#case 3\n",
      "phi = math.acos(1)\n",
      "E_bph =  math.sqrt( (E_Rph)**2 + (V_ph)**2  -2*E_Rph*V_ph*math.cos(theta)  )\n",
      "print 'iii)Back EMF induced with 0.8 lagging pf is %.3f V'%(E_bph)\n"
     ],
     "language": "python",
     "metadata": {},
     "outputs": [
      {
       "output_type": "stream",
       "stream": "stdout",
       "text": [
        "i)Back EMF induced with 0.8 lagging pf is 200.386 V\n",
        "ii)Back EMF induced with 0.8 lagging pf is 252.678 V\n",
        "iii)Back EMF induced with 0.8 lagging pf is 231.406 V\n"
       ]
      }
     ],
     "prompt_number": 1
    },
    {
     "cell_type": "heading",
     "level": 2,
     "metadata": {},
     "source": [
      "Example 7.2  Page no :  28"
     ]
    },
    {
     "cell_type": "code",
     "collapsed": false,
     "input": [
      "import math \n",
      "from numpy import cos\n",
      "# Variables\n",
      "V_l = 500.\n",
      "R_a = 0.4\n",
      "X_s = 4. \t\t\t#armature resistance and synchronous reactance\n",
      "Z_s = complex(R_a,X_s)\t\t\t#synchronous impedance\n",
      "angle = math.degrees(math.atan(Z_s.imag/Z_s.real))\n",
      "theta = (math.pi/180)*angle\t\t\t#phasemag returns angle in degrees,not radians\n",
      "V_ph = V_l/math.sqrt(3)\n",
      "I_l = 50.\n",
      "I_aph = I_l\n",
      "E_Rph = I_aph*abs(Z_s)\n",
      "\n",
      "# Calculations and Results\t\t\n",
      "#case 1\n",
      "E_bline = 600\n",
      "E_bph = E_bline/math.sqrt(3)\n",
      "phi = math.acos( (-E_bph**2 + E_Rph**2 + V_ph**2 )/(2*E_Rph*V_ph) ) -theta    \t\t\t#leading\n",
      "#because E_bph =  math.sqrt( (E_Rph)**2 + (V_ph)**2  -2*E_Rph*V_ph*math.cos(theta+phi)  )\n",
      "print 'i)power factor is %.4f leading'%(cos(phi))\n",
      "\n",
      "#case 2\n",
      "E_bline = 380\n",
      "E_bph = E_bline/math.sqrt(3)\n",
      "phi =  theta-math.acos( (-E_bph**2 + E_Rph**2 + V_ph**2 )/(2*E_Rph*V_ph) )     \t\t\t#leading\n",
      "#because E_bph =  math.sqrt( (E_Rph)**2 + (V_ph)**2  -2*E_Rph*V_ph*math.cos(theta-phi)\n",
      "print 'ii)power factor is %.4f lagging'%(cos(phi))\n"
     ],
     "language": "python",
     "metadata": {},
     "outputs": [
      {
       "output_type": "stream",
       "stream": "stdout",
       "text": [
        "i)power factor is 0.9977 leading\n",
        "ii)power factor is 0.8197 lagging\n"
       ]
      }
     ],
     "prompt_number": 2
    },
    {
     "cell_type": "heading",
     "level": 2,
     "metadata": {},
     "source": [
      "Example 7.3  Page no :  29"
     ]
    },
    {
     "cell_type": "code",
     "collapsed": false,
     "input": [
      "import math \n",
      "\n",
      "# Variables\n",
      "V_L = 6600.\n",
      "P_out = 500.*10**3\n",
      "eta = 83./100 \t\t\t#efficiency\n",
      "R_a = 0.3\n",
      "X_s = 3.2 \t\t\t#armature resistance and synchronous reactance\n",
      "Z_s = complex(R_a,X_s)  \t\t\t#synchronous impedance\n",
      "angle = math.degrees(math.atan(Z_s.imag/Z_s.real))\n",
      "theta = (math.pi/180)* angle \t\t\t#phasemag returns the angle in degrees not radians\n",
      "phi = math.acos(0.8) \t\t\t#leading\n",
      "V_ph = V_L/math.sqrt(3)\n",
      "P_in = P_out/eta\n",
      "\n",
      "# Calculations and Results\n",
      "I_L =    P_in/ (math.sqrt(3) * V_L *  math.cos(phi) )\n",
      "\n",
      "# because P_in = math.sqrt(3) * V_L * I_L * math.cos(phi)\n",
      "I_aph = I_L\n",
      "E_Rph = I_aph*abs(Z_s)\n",
      "E_bph =  math.sqrt( (E_Rph)**2 + (V_ph)**2  -2*E_Rph*V_ph*math.cos(theta+phi)  )\n",
      "print 'i) Generated EmF on full loaad is %.2f V'%(E_bph)\n",
      "\n",
      "delta =  math.degrees(math.asin( (E_Rph/E_bph))*math.sin(theta+phi)  )\n",
      "#This is obtained after applying sune rule to triangle OAB from thre phasor diagram\n",
      "print 'ii) load angle is %.2f degrees'%(delta)\n"
     ],
     "language": "python",
     "metadata": {},
     "outputs": [
      {
       "output_type": "stream",
       "stream": "stdout",
       "text": [
        "i) Generated EmF on full loaad is 3925.33 V\n",
        "ii) load angle is 2.64 degrees\n"
       ]
      }
     ],
     "prompt_number": 3
    },
    {
     "cell_type": "heading",
     "level": 2,
     "metadata": {},
     "source": [
      "Example 7.4  Page no :  32"
     ]
    },
    {
     "cell_type": "code",
     "collapsed": false,
     "input": [
      "import math \n",
      "from numpy import roots\n",
      "\n",
      "# Variables\n",
      "V_L = 500.\n",
      "V_ph = V_L/math.sqrt(3)\n",
      "phi = math.acos(0.9) \t\t\t\t#lagging\n",
      "output_power = 17.*10**3\n",
      "R_a = 0.8 \t\t\t\t\t\t\t#armaature reactance\n",
      "mechanical_losses = 1300. \t\t\t#mechanical losses is W\n",
      "P_m = output_power+mechanical_losses   \t\t\t#gross mechanical power developed\n",
      "\n",
      "#  P_m =  input_power - stator losses\n",
      "#  input_power =  3* V_ph * I_aph * math.cos(phi)\n",
      "#  Stator losses =  3*I_aph**2*R_a\n",
      "# solving above equations we get 2.4 I_a**2 - 779/.4225*I_a + 18300  =  0\n",
      "I_a_eqn = [2.4, -779.4225, 18300]\n",
      "I_a_roots = roots(I_a_eqn)\n",
      "I_a = I_a_roots[1]  \t\t\t#neglecting higher value\n",
      "I_aph = I_a\n",
      "print 'Current drawn by the motor is %.3f A'%(I_a)\n",
      "\n",
      "input_power =  3* V_ph * I_aph * math.cos(phi)\n",
      "eta = 100*output_power/input_power\n",
      "print 'Full load efficiency is %.2f percent'%(eta)\n"
     ],
     "language": "python",
     "metadata": {},
     "outputs": [
      {
       "output_type": "stream",
       "stream": "stdout",
       "text": [
        "Current drawn by the motor is 25.478 A\n",
        "Full load efficiency is 85.61 percent\n"
       ]
      }
     ],
     "prompt_number": 4
    },
    {
     "cell_type": "heading",
     "level": 2,
     "metadata": {},
     "source": [
      "Example 7.5  Page no :  44"
     ]
    },
    {
     "cell_type": "code",
     "collapsed": false,
     "input": [
      "import math \n",
      "\n",
      "# Variables\n",
      "#subscript 1 is for industrial load and 2 for synchronous motor\n",
      "P_1 = 800. \t\t\t# Active power in KW\n",
      "phi_1 = math.acos(0.6) \t\t\t#lagging\n",
      "Q_1 = P_1*math.tan(phi_1)   \t\t\t#reactive power by load 1\n",
      "\n",
      "# Calculations and Results\n",
      "output_power = 200.\n",
      "eta = 91./100 \t\t\t#efficiency of synchronous motor\n",
      "input_power =  output_power/eta\n",
      "P_2 = input_power\t\t\t# active power drawn by synchronous motor\n",
      "P_T = P_1 + P_2  \t\t\t#combined total load of industry and synchronous motor\n",
      "phi_T = math.acos(0.92 )\t\t\t#lagging\n",
      "Q_T = P_T* math.tan(phi_T)  \t\t\t#from power triangle\n",
      "Q_2 =  Q_T - Q_1  \t\t\t#it turns out to be negative indicating its leading nature\n",
      "S_2 = math.sqrt( P_2**2 + Q_2**2    )\n",
      "print 'Desired kVA rating of Synchronous motor  is %.3f kVA'%(S_2)\n",
      "\n",
      "phi_2 =  math.atan (Q_2/P_2)\n",
      "print 'Power factor of synchronous motor is %.4f LEADING'%(math.cos(phi_2))\n"
     ],
     "language": "python",
     "metadata": {},
     "outputs": [
      {
       "output_type": "stream",
       "stream": "stdout",
       "text": [
        "Desired kVA rating of Synchronous motor  is 669.353 kVA\n",
        "Power factor of synchronous motor is 0.3283 LEADING\n"
       ]
      }
     ],
     "prompt_number": 5
    },
    {
     "cell_type": "heading",
     "level": 2,
     "metadata": {},
     "source": [
      "Example 7.6 Page no :  47"
     ]
    },
    {
     "cell_type": "code",
     "collapsed": false,
     "input": [
      "import math \n",
      "\n",
      "# Variables\n",
      "V_L = 400.\n",
      "output_power = 37.3*1000 \t\t\t#Watts on full load\n",
      "Z_s = complex(0.2,1.6) \t\t\t#synchronous impedance\n",
      "angle = math.degrees(math.atan(Z_s.imag/Z_s.real))\n",
      "theta = (math.pi/180)*angle \t\t\t#phase mag returns the angle in degrees and not raidians\n",
      "phi = math.acos(0.9) \t\t\t#leading\n",
      "V_ph = V_L/math.sqrt(3)\n",
      "eta = 88. \t\t\t#efficiency in percentage\n",
      "\n",
      "# Calculations\n",
      "input_power = 100*output_power/eta\n",
      "I_L = input_power/(math.sqrt(3)*V_L*math.cos(phi))\n",
      "I_aph = I_L\n",
      "E_Rph = I_aph*abs(Z_s)\n",
      "\n",
      "E_bph =  math.sqrt( (E_Rph)**2 + (V_ph)**2  -2*E_Rph*V_ph*math.cos(theta+phi)  )\n",
      "E_line = math.sqrt(3)*E_bph\n",
      "\n",
      "# Results\n",
      "print 'Induced EMF is %.2f V and its line value is %.2f V'%(E_bph,E_line)\n"
     ],
     "language": "python",
     "metadata": {},
     "outputs": [
      {
       "output_type": "stream",
       "stream": "stdout",
       "text": [
        "Induced EMF is 285.65 V and its line value is 494.75 V\n"
       ]
      }
     ],
     "prompt_number": 6
    },
    {
     "cell_type": "heading",
     "level": 2,
     "metadata": {},
     "source": [
      "Example 7.7  Page no :  48"
     ]
    },
    {
     "cell_type": "code",
     "collapsed": false,
     "input": [
      "import math \n",
      "\n",
      "# Variables\n",
      "V_L = 400.\n",
      "input_power = 20.*1000 \n",
      "R_a = 0.\n",
      "X_s = 4. \t\t\t#armature reactance and synchronous reactance\n",
      "Z_s = complex(R_a,X_s)   \t\t\t#synchronous impedance\n",
      "angle = math.degrees(math.atan(Z_s.imag))\n",
      "\n",
      "theta = (math.pi/180)*angle  \t\t\t#phase mag returns the angle in degrees and not raidians\n",
      "V_ph = V_L/math.sqrt(3)\n",
      "E_bline = 550. \t\t\t#star connection\n",
      "E_bph = E_bline/math.sqrt(3)\n",
      "\n",
      "# Calculations\n",
      "I_a_cos_phi = input_power/(math.sqrt(3)*V_L)  \t\t\t#product of I_a and math.cos(phi)\n",
      "I_a_sin_phi =  (   math.sqrt(E_bph**2- (abs(Z_s)*I_a_cos_phi)**2   )  -V_ph )/abs(Z_s)\t\t\t#from triangle DAB\n",
      "phi = math.atan(I_a_sin_phi/I_a_cos_phi)\n",
      "I_a = I_a_cos_phi/math.cos(phi)        \n",
      "\n",
      "# Results\n",
      "print 'Motor power fctor is %.3f Leading'%(cos(phi))\n",
      "print 'Current drawn by the motor is %.2f A'%(I_a)\n"
     ],
     "language": "python",
     "metadata": {},
     "outputs": [
      {
       "output_type": "stream",
       "stream": "stdout",
       "text": [
        "Motor power fctor is 0.872 Leading\n",
        "Current drawn by the motor is 33.11 A\n"
       ]
      }
     ],
     "prompt_number": 7
    },
    {
     "cell_type": "heading",
     "level": 2,
     "metadata": {},
     "source": [
      "Example 7.8 Page no :  50"
     ]
    },
    {
     "cell_type": "code",
     "collapsed": false,
     "input": [
      "import math \n",
      "\n",
      "# Variables\n",
      "V_L = 3300.\n",
      "V_ph = V_L/math.sqrt(3)\n",
      "R_a = 2.\n",
      "X_s = 18. \t\t\t#armature reactance and synchronous reactance\n",
      "Z_s = complex(R_a,X_s)\t\t\t#synchronous impedance\n",
      "angle = math.degrees(math.atan(Z_s.imag/Z_s.real))\n",
      "\n",
      "theta = (math.pi/180)*angle \t\t\t#phasemag returns angle in degrees not radians\n",
      "E_bline = 3800.\n",
      "E_bph = E_bline/math.sqrt(3)\n",
      "\n",
      "#part(i)\n",
      "P_m_max  =  (E_bph*V_ph/abs(Z_s))- (E_bph**2/abs(Z_s))*math.cos(theta)\n",
      "print 'i)Max total mechanical power developed that motor can develop is %.2f W per phase'%(P_m_max)\n",
      "\n",
      "#part(ii)\n",
      "#from phasor diagram applying math.comath.sine rule to triangle OAB\n",
      "E_Rph = math.sqrt(  E_bph**2 + V_ph**2 -2*E_bph*V_ph*math.cos(theta) ) \n",
      "I_aph =  E_Rph/abs(Z_s)\n",
      "print 'ii)Current at max power developed is %.1f A'%(I_aph)\n",
      "\n",
      "copper_loss = 3* I_aph**2 * R_a\n",
      "P_in_max_total = 3 * P_m_max \t\t\t#input power at max power developed\n",
      "total_P_in =  P_in_max_total + copper_loss \t\t\t#total input power \n",
      "pf = total_P_in/(math.sqrt(3)*I_aph*V_L)\n",
      "print 'Power factor at max power developed is %.3f leading'%(pf)\n",
      "\n",
      "\n",
      "# 'Answer in part1 mismatched because of improper approximation in book'\n"
     ],
     "language": "python",
     "metadata": {},
     "outputs": [
      {
       "output_type": "stream",
       "stream": "stdout",
       "text": [
        "i)Max total mechanical power developed that motor can develop is 201452.30 W per phase\n",
        "ii)Current at max power developed is 151.4 A\n",
        "Power factor at max power developed is 0.857 leading\n"
       ]
      }
     ],
     "prompt_number": 8
    },
    {
     "cell_type": "heading",
     "level": 2,
     "metadata": {},
     "source": [
      "Example 7.9  Page no :  51"
     ]
    },
    {
     "cell_type": "code",
     "collapsed": false,
     "input": [
      "import math \n",
      "\n",
      "# Variables\n",
      "V_L = 500.\n",
      "R_a = 0.03\n",
      "X_s = 0.3 \t\t\t#armature reactance and synchronous reactance\n",
      "Z_s = complex(R_a,X_s)\t\t\t#synchronous impedance\n",
      "angle = math.degrees(math.atan(Z_s.imag/Z_s.real))\n",
      "\n",
      "theta = (math.pi/180)*angle \t\t\t#phasemag returns angle in degrees not radians\n",
      "phi = math.acos(0.8)\n",
      "eta = 93/100.\n",
      "output_power = 100.*746\n",
      "input_power = output_power/eta\n",
      "I_L = input_power/(math.sqrt(3)*V_L*math.cos(phi))\n",
      "I_aph = I_L\n",
      "E_Rph = I_aph*abs(Z_s)\n",
      "\n",
      "#from the phasor diagram\n",
      "E_bph  =    math.sqrt( E_Rph**2 + (V_L/math.sqrt(3))**2 - 2*E_Rph*(V_L/math.sqrt(3))*math.cos(phi+theta)  ) \n",
      "\n",
      "cu_losses = 3*(I_aph)**2*R_a \t\t\t#total copper losses\n",
      "P_m =  input_power - cu_losses  \t\t\t#total mechanical power developed\n",
      "\n",
      "print 'EMF developed per phase is %.4f V \\nTotal mechanical power developed is %.1f watts'%(E_bph,P_m)\n"
     ],
     "language": "python",
     "metadata": {},
     "outputs": [
      {
       "output_type": "stream",
       "stream": "stdout",
       "text": [
        "EMF developed per phase is 308.1880 V \n",
        "Total mechanical power developed is 79008.6 watts\n"
       ]
      }
     ],
     "prompt_number": 10
    },
    {
     "cell_type": "heading",
     "level": 2,
     "metadata": {},
     "source": [
      "Example 7.10  Page no :  53"
     ]
    },
    {
     "cell_type": "code",
     "collapsed": false,
     "input": [
      "import math \n",
      "\n",
      "# Variables\n",
      "V_L = 415.\n",
      "V_ph = V_L \t\t\t#due to delta connection\n",
      "E_bline = 520.\n",
      "R_a = 0.5\n",
      "X_s = 4. \t\t\t#armature reactance and synchronous reactance\n",
      "Z_s = complex(R_a,X_s) \t\t\t#synchronous impedance\n",
      "angle = math.degrees(math.atan(Z_s.imag/Z_s.real))\n",
      "\n",
      "theta = (math.pi/180.)*angle \t\t\t#phasemag returns angle in degrees not radians\n",
      "\n",
      "delta = theta \t\t\t#for maximum power\n",
      "P_m_max  =  (E_bline*V_ph/abs(Z_s))- (E_bline**2/abs(Z_s))*math.cos(theta)\n",
      "P_m_max_total =  3* P_m_max\n",
      "fi_loss = 1000.  \t\t\t#frictional and iron losses\n",
      "P_out_total  =  P_m_max_total-fi_loss  \n",
      "\n",
      "HP_output =  P_out_total/746 \t\t\t#converting watts to horse power\n",
      "print 'HP output for maximum power output is %.2f HP'%(HP_output)\n",
      "\n",
      "#from the phasor diagram\n",
      "E_Rph = math.sqrt(  E_bline**2 + V_ph**2 -2*E_bline*V_ph*math.cos(delta) ) \n",
      "I_aph =  E_Rph/abs(Z_s)\n",
      "I_L = I_aph*math.sqrt(3)\n",
      "print 'Line current is %f A'%(I_L)\n",
      "cu_loss_total = 3*(I_aph)**2*R_a  \t\t\t#total copper losses\n",
      "input_power = P_m_max_total+ cu_loss_total\n",
      "pf = input_power/(math.sqrt(3)*I_L*V_L)  \t\t\t#leading\n",
      "print 'Power factor for maximum power output is %.2f leading '%(pf)\n",
      "\n",
      "eta = 100*P_out_total /input_power\n",
      "print 'Efficiency for maximum power output is %.2f percent'%(eta)\n",
      "\n",
      "# 'Answer might mismatch because of improper approximation done in book'\n"
     ],
     "language": "python",
     "metadata": {},
     "outputs": [
      {
       "output_type": "stream",
       "stream": "stdout",
       "text": [
        "HP output for maximum power output is 180.48 HP\n",
        "Line current is 268.015479 A\n",
        "Power factor for maximum power output is 0.89 leading \n",
        "Efficiency for maximum power output is 78.48 percent\n"
       ]
      }
     ],
     "prompt_number": 11
    },
    {
     "cell_type": "heading",
     "level": 2,
     "metadata": {},
     "source": [
      "Example 7.11  Page no :  54"
     ]
    },
    {
     "cell_type": "code",
     "collapsed": false,
     "input": [
      "import math \n",
      "\n",
      "# Variables\n",
      "P = 8.\n",
      "f = 50. \t\t\t#Pole and frequency\n",
      "N_s = 120.*f/P \t\t\t#synchronous speed\n",
      "V_L = 6.6*10**3 \n",
      "V_ph = V_L/math.sqrt(3)\n",
      "Z_s = complex(0.66,6.6) \t\t\t#synchronous impedance\n",
      "angle = math.degrees(math.atan(Z_s.imag/Z_s.real))\n",
      "\n",
      "theta = (math.pi/180)*angle \t\t\t#phasemag returns angle in degree  not radians\n",
      "E_bph = 4500.\n",
      "input_power = 2500.*10**3\n",
      "I_a_cosphi = input_power/(math.sqrt(3)*V_L)   \t\t\t#Its product of I_a and math.cos(phi);I_a = I_l for star conneted load\n",
      "\n",
      "# Calculations\n",
      "#applying math.comath.sine rule to triangle ABC from phasor diagram and solve \n",
      "#math.tan(phi)**2 + 5.2252 math.tan(phi)-2.2432 = 0\n",
      "p = [1, 5.2252, -2.2432]\n",
      "tan_phi = roots(p)\n",
      "phi = math.atan(tan_phi[1])\n",
      "pf = math.cos(phi)\n",
      "I_a =  I_a_cosphi/ math.cos(phi)\n",
      "\n",
      "#apply math.sine rule to triangle ABC\n",
      "delta =    math.asin(I_a*abs(Z_s)*math.sin(theta+phi)/E_bph)\n",
      "P_m = 3*E_bph*I_a*math.cos(delta+phi)\n",
      "T_g  =  P_m/(2*math.pi*N_s/60)\n",
      "\n",
      "# Results\n",
      "print 'i)Torque developed is %f N-m'%(T_g)\n",
      "print 'ii)Input current is %.4f A'%(I_a)\n",
      "print 'iii)Power factor is %.4f leading'%(pf)\n",
      "print 'iv)Power angle is %.2f degrees '%((180/math.pi)*delta)\n",
      "\n",
      "# note : rounding off error."
     ],
     "language": "python",
     "metadata": {},
     "outputs": [
      {
       "output_type": "stream",
       "stream": "stdout",
       "text": [
        "i)Torque developed is 30437.047497 N-m\n",
        "ii)Input current is 235.4472 A\n",
        "iii)Power factor is 0.9288 leading\n",
        "iv)Power angle is 19.48 degrees \n"
       ]
      }
     ],
     "prompt_number": 13
    },
    {
     "cell_type": "heading",
     "level": 2,
     "metadata": {},
     "source": [
      "Example 7.12  Page no :  57"
     ]
    },
    {
     "cell_type": "code",
     "collapsed": false,
     "input": [
      "import math \n",
      "from numpy import roots\n",
      "\n",
      "# Variables\n",
      "input_power = 15.*10**3\n",
      "V_L = 400.\n",
      "V_ph = V_L/math.sqrt(3)\n",
      "E_b = 480.\n",
      "E_bph = E_b/math.sqrt(3)\n",
      "Z_s = complex(1,5) \t\t\t#synchronous impedance\n",
      "angle = math.degrees(math.atan(Z_s.imag/Z_s.real))\n",
      "\n",
      "theta = (math.pi/180)*angle \t\t\t#phasemag returns angle in degree  not radians\n",
      "\n",
      "# Calculations\n",
      "I_a_cosphi = input_power/(math.sqrt(3)*V_L)  \t\t\t#product of I_a & math.cos(phi)\n",
      "#Applying math.comath.sine rule to triangle OAB and solving\n",
      "#math.tan(phi)**2+ 4.101*math.tan(phi)-1.7499 = 0\n",
      "p = [1,4.101,-1.7449]\n",
      "tan_phi = roots(p)\n",
      "phi = math.atan(tan_phi[1])  \t\t\t#ignoring negative vaule\n",
      "I_a =  I_a_cosphi/ math.cos(phi)\n",
      "\n",
      "#applying math.sine rule to Triangle OAB\n",
      "delta = math.asin( I_a*abs(Z_s)* math.sin(theta+phi)/E_bph )\n",
      "\n",
      "# Results\n",
      "print 'Load angle is %.1f degrees'%(delta*180/math.pi)\n",
      "print 'Armature current is %.4f A'%(I_a)\n",
      "print 'Power factor is %.3f leading'%(cos(phi))\n"
     ],
     "language": "python",
     "metadata": {},
     "outputs": [
      {
       "output_type": "stream",
       "stream": "stdout",
       "text": [
        "Load angle is 24.9 degrees\n",
        "Armature current is 23.2283 A\n",
        "Power factor is 0.932 leading\n"
       ]
      }
     ],
     "prompt_number": 14
    },
    {
     "cell_type": "heading",
     "level": 2,
     "metadata": {},
     "source": [
      "Example 7.13  Page no :  59"
     ]
    },
    {
     "cell_type": "code",
     "collapsed": false,
     "input": [
      "import math \n",
      "from numpy import roots\n",
      "\n",
      "# Variables\n",
      "V_L = 400.\n",
      "V_ph = V_L/math.sqrt(3)\n",
      "E_b = 460.\n",
      "E_bph = E_b/math.sqrt(3)\n",
      "input_power = 3.75*10**3\n",
      "Z_s = complex(1,8) \t\t\t#synchronous impedance\n",
      "angle = math.degrees(math.atan(Z_s.imag/Z_s.real))\n",
      "\n",
      "theta = math.degrees(angle) \t\t\t#phasemag returns angle in degree ,not radians\n",
      "I_L_cos_phi  =  input_power/(math.sqrt(3)*V_L)\n",
      "\n",
      "# Calculations and Results\n",
      "#Applying math.comath.sine rule to triangle OAB and solving further\n",
      "#math.tan(phi)**2 + 458.366*math.tan(phi) -450.65  = 0 \n",
      "p = [1,458.366-450.65]\n",
      "tan_phi = roots(p)\n",
      "\n",
      "phi = math.atan(tan_phi[0])  \t\t\t#ignoring negative value\n",
      "print 'Required power factor is %.4f leading'%(cos(phi))\n",
      "I_L = I_L_cos_phi /math.cos(phi)\n",
      "print 'Required current is %.4f A'%(I_L)\n",
      "\n",
      "# roots() python gives some different answer. Kindly check."
     ],
     "language": "python",
     "metadata": {},
     "outputs": [
      {
       "output_type": "stream",
       "stream": "stdout",
       "text": [
        "Required power factor is 0.1285 leading\n",
        "Required current is 42.1134 A\n"
       ]
      }
     ],
     "prompt_number": 19
    },
    {
     "cell_type": "heading",
     "level": 2,
     "metadata": {},
     "source": [
      "Example 7.14  Page no :  60"
     ]
    },
    {
     "cell_type": "code",
     "collapsed": false,
     "input": [
      "import math \n",
      "\n",
      "# Variables\n",
      "#subscript 1 indicates induction motor 1\n",
      "P_1 = 350.\n",
      "phi_1 = math.acos(0.7071) \t\t\t#lagging\n",
      "Q_1 = P_1*math.tan(phi_1)\t\t\t#from power triangle\n",
      "\n",
      "#subscript 2 indicates induction motor 2\n",
      "P_2 = 190.\n",
      "\n",
      "# Calculations\n",
      "#subscript T indicates total\n",
      "P_T = P_1+P_2\n",
      "phi_T = math.acos(0.9) \t\t\t#lagging\n",
      "Q_T = P_T*math.tan(phi_T)\n",
      "\n",
      "Q_2 = Q_T-Q_1\n",
      "kva_rating = math.sqrt(P_2**2+ Q_2**2)\n",
      "\n",
      "# Results\n",
      "print 'kVA rating of synchronous motor is %.2f kVA'%(kva_rating)\n"
     ],
     "language": "python",
     "metadata": {},
     "outputs": [
      {
       "output_type": "stream",
       "stream": "stdout",
       "text": [
        "kVA rating of synchronous motor is 209.59 kVA\n"
       ]
      }
     ],
     "prompt_number": 20
    },
    {
     "cell_type": "heading",
     "level": 2,
     "metadata": {},
     "source": [
      "Example 7.15  Page no :  61"
     ]
    },
    {
     "cell_type": "code",
     "collapsed": false,
     "input": [
      "import math \n",
      "\n",
      "# Variables\n",
      "V_L = 400.\n",
      "V_ph = V_L/math.sqrt(3)\n",
      "Pole = 6.\n",
      "f = 50.\n",
      "R_a = 0.2\n",
      "X_s = 3. \t\t\t#armature reactance and synchronous reactance\n",
      "Z_s = complex(R_a,X_s)\t\t\t#synchronous impedance\n",
      "theta = math.atan(Z_s.imag/Z_s.real)       # calculates angle in radians\n",
      "\n",
      "N_s = 120*f/Pole  \t\t\t#synchronous speed\n",
      "\n",
      "# Calculations\n",
      "#subscript 1` refers to load 1\n",
      "I_a1 = 20.\n",
      "phi_1 = math.acos(1)\n",
      "E_R1 =  I_a1* abs(Z_s)\n",
      "E_bph  =   math.sqrt( E_R1**2 + V_ph**2 - 2*E_R1*V_ph*math.cos(phi_1+theta)  )\n",
      "\n",
      "#subscript 2` refers to load 2\n",
      "I_a2 = 60.\n",
      "E_R2 =  I_a2* abs(Z_s)\n",
      "phi_2 =  math.acos ((E_R2**2 + V_ph**2 -E_bph**2 )/(2*E_R2*V_ph))   -theta   \t\t\t#new power factor\n",
      "\n",
      "input_power = math.sqrt(3)*V_L*I_a2*math.cos(phi_2)\n",
      "cu_loss = 3*I_a2**2*R_a\n",
      "P_m = input_power-cu_loss\n",
      "T_g  = P_m /(2*math.pi*N_s/60)   \t\t\t#gross mechanical power developed\n",
      "\n",
      "# Results\n",
      "print 'Gross torque developed is %.4f N-m and new power factor is %.4f lagging'%(T_g,cos(phi_2))\n"
     ],
     "language": "python",
     "metadata": {},
     "outputs": [
      {
       "output_type": "stream",
       "stream": "stdout",
       "text": [
        "Gross torque developed is 357.1971 N-m and new power factor is 0.9518 lagging\n"
       ]
      }
     ],
     "prompt_number": 21
    },
    {
     "cell_type": "heading",
     "level": 2,
     "metadata": {},
     "source": [
      "Example 7.16  Page no :  63"
     ]
    },
    {
     "cell_type": "code",
     "collapsed": false,
     "input": [
      "import math \n",
      "\n",
      "# Variables\n",
      "V_L = 3300.\n",
      "V_ph = V_L/math.sqrt(3)\n",
      "E_bph = V_ph\n",
      "Z_s = complex(0.5,5) \t\t\t#synchronous impedance\n",
      "angle = math.degrees(math.atan(Z_s.imag/Z_s.real))\n",
      "\n",
      "theta = (math.pi/180)*angle \t\t\t#phasemag returns angle in degrees, not radians\n",
      "P = 8.\n",
      "f = 50. \t\t\t#pole and frequency\n",
      "delta_mech = 3. \t\t\t#mechanical angle in degrees by which rotor is behind\n",
      "delta_elec = (P/2)*delta_mech  \t\t\t#delta mech converted to electrical degrees\n",
      "E_Rph = math.sqrt(  E_bph**2 + V_ph**2 -2*E_bph*V_ph*math.cos(math.radians(delta_elec) )) \n",
      "I_aph =  E_Rph/abs(Z_s)\n",
      "\n",
      "#from the phasor diagram \n",
      "phi = theta- math.asin( math.sin(math.radians(delta_elec))*E_bph/E_Rph )\n",
      "pf = math.cos(phi)\n",
      "print 'power factor of the motor is %.5f lagging'%(pf)\n"
     ],
     "language": "python",
     "metadata": {},
     "outputs": [
      {
       "output_type": "stream",
       "stream": "stdout",
       "text": [
        "power factor of the motor is 0.99999 lagging\n"
       ]
      }
     ],
     "prompt_number": 22
    },
    {
     "cell_type": "heading",
     "level": 2,
     "metadata": {},
     "source": [
      "Example 7.17  Page no :  64"
     ]
    },
    {
     "cell_type": "code",
     "collapsed": false,
     "input": [
      "import math \n",
      "\n",
      "# Variables\n",
      "V_L = 400.\n",
      "V_ph = V_L/math.sqrt(3)\n",
      "E_bph = V_ph\n",
      "P = 4.\n",
      "f = 50.\t\t\t#Pole and frequency\n",
      "delta_mech = 4*(math.pi/180) \t\t\t#mechanical angle in degrees by which rotor is behind\n",
      "delta_elec =  delta_mech *(P/2) \t\t\t#delta_mech convertd to electrical degrees\n",
      "Z_s = complex(0,2) \t\t\t#synchronous impedance\n",
      "\n",
      "# Calculations\n",
      "#referring to phasor diagram\n",
      "BC =   E_bph*math.sin(delta_elec)\n",
      "AB =   E_bph\n",
      "OA =   V_ph\n",
      "\n",
      "AC =   math.sqrt(AB**2-BC**2)\n",
      "OC =   OA-AC\n",
      "phi = math.atan(OC/BC)\n",
      "OB = math.sqrt(OC**2 + BC**2)\n",
      "I_a = OB/abs(Z_s)\n",
      "\n",
      "# Results\n",
      "print 'Armature current drawn by the motor is %.4f A'%(I_a)\n"
     ],
     "language": "python",
     "metadata": {},
     "outputs": [
      {
       "output_type": "stream",
       "stream": "stdout",
       "text": [
        "Armature current drawn by the motor is 16.1096 A\n"
       ]
      }
     ],
     "prompt_number": 23
    },
    {
     "cell_type": "heading",
     "level": 2,
     "metadata": {},
     "source": [
      "Example 7.18  Page no :  65"
     ]
    },
    {
     "cell_type": "code",
     "collapsed": false,
     "input": [
      "import math \n",
      "\n",
      "# Variables\n",
      "V_L = 400.\n",
      "V_ph = V_L/math.sqrt(3)\n",
      "input_power = 5472.\n",
      "Z_s = complex(0,10)  \t\t\t#synchronous impedance\n",
      "I_L_cosphi = input_power/(math.sqrt(3)*V_L) \t\t\t#product of I_L & math.cos(phi)\n",
      "BC = 10*I_L_cosphi\n",
      "AB = V_ph\n",
      "OA = V_ph\n",
      "\n",
      "# Calculations\n",
      "#from Triangle ABC in phasor diagram\n",
      "AC  =  math.sqrt(AB**2- BC**2)\n",
      "OC  =  OA - AC\n",
      "\n",
      "\t\t\t#from Triangle OCB \n",
      "OB = math.sqrt( OC**2+ BC**2 )\n",
      "E_Rph  =  OB\n",
      "I_L = E_Rph/abs(Z_s)\n",
      "\n",
      "phi = math.atan(OC/BC)\n",
      "pf = math.cos(phi)\n",
      "delta = math.atan(BC/AC)  \t\t\t#load angle\n",
      "\n",
      "# Results\n",
      "print 'Power factor is %.4f lagging'%(pf)\n",
      "print 'Load angle is %.0f degrees'%(delta*180/math.pi)\n",
      "print 'Armature current is %.3f A'%(I_L)\n"
     ],
     "language": "python",
     "metadata": {},
     "outputs": [
      {
       "output_type": "stream",
       "stream": "stdout",
       "text": [
        "Power factor is 0.9848 lagging\n",
        "Load angle is 20 degrees\n",
        "Armature current is 8.020 A\n"
       ]
      }
     ],
     "prompt_number": 24
    },
    {
     "cell_type": "heading",
     "level": 2,
     "metadata": {},
     "source": [
      "Example 7.19  Page no :  67"
     ]
    },
    {
     "cell_type": "code",
     "collapsed": false,
     "input": [
      "import math \n",
      "\n",
      "# Variables\n",
      "V_L = 6600.\n",
      "V_ph = V_L/math.sqrt(3)\n",
      "Z_s = complex(2,20) \t\t\t#synchronous impedance\n",
      "angle = math.degrees(math.atan(Z_s.imag/Z_s.real))\n",
      "\n",
      "theta = (math.pi/180) * angle \t\t\t#phasemag returns angle in degrees not radians\n",
      "P_1 = 1000*10**3\n",
      "P_2 = 1500*10**3\n",
      "phi_1 = math.acos(0.8)  \t\t\t#leading\n",
      "\n",
      "# Calculations\n",
      "I_L1 = P_1/(math.sqrt(3)*V_L*math.cos(phi_1))\n",
      "I_a1ph = I_L1\n",
      "E_R1ph = I_a1ph*abs(Z_s)\n",
      "E_bph =   math.sqrt(    V_ph**2 + E_R1ph** -2*V_ph*E_R1ph*math.cos(theta+phi_1)  )\n",
      "I_a2_cosphi_2 = P_2/(math.sqrt(3)*V_L)\n",
      "\n",
      "#Refer to the phasor diagram and solving for I_y\n",
      "#404I_y**2 -152399.968 I_y -4543000 = 0\n",
      "p = [404, -152399.968, -4543000]\n",
      "ans = roots(p)\n",
      "I_y = abs(ans[1]) \t\t\t#becuase root 1 is too high and root is -ve\n",
      "\n",
      "I_a2 = complex(I_a2_cosphi_2,I_y)\n",
      "phi_2 = math.degrees(math.atan(I_a2.imag/I_a2.real))\n",
      "\n",
      "print 'Required power factor is %.3f leading'%(math.cos(math.radians(phi_2)))\n"
     ],
     "language": "python",
     "metadata": {},
     "outputs": [
      {
       "output_type": "stream",
       "stream": "stdout",
       "text": [
        "Required power factor is 0.978 leading\n"
       ]
      }
     ],
     "prompt_number": 25
    },
    {
     "cell_type": "heading",
     "level": 2,
     "metadata": {},
     "source": [
      "Example 7.20  Page no :  69"
     ]
    },
    {
     "cell_type": "code",
     "collapsed": false,
     "input": [
      "import math \n",
      "\n",
      "V_L = 2300.\n",
      "V_ph = V_L/math.sqrt(3)\n",
      "I_L = 200.\n",
      "I_a = I_L\n",
      "Z_s = complex(0.2,2.2) \t\t\t#synchronous impedance\n",
      "theta = math.atan(Z_s.imag/Z_s.real)\n",
      "phi = math.acos(0.5)\n",
      "\n",
      "# Calculations\n",
      "E_Rph = I_a*abs(Z_s)\n",
      "E_bph  =    math.sqrt( E_Rph**2 + V_ph**2 - 2*E_Rph*V_ph*math.cos(phi+theta)  ) \n",
      "\n",
      "# Results\n",
      "print 'Generated EMF per phase is %.3f V'%(E_bph)\n"
     ],
     "language": "python",
     "metadata": {},
     "outputs": [
      {
       "output_type": "stream",
       "stream": "stdout",
       "text": [
        "Generated EMF per phase is 1708.045 V\n"
       ]
      }
     ],
     "prompt_number": 26
    },
    {
     "cell_type": "heading",
     "level": 2,
     "metadata": {},
     "source": [
      "Example 7.21  Page no :  69"
     ]
    },
    {
     "cell_type": "code",
     "collapsed": false,
     "input": [
      "import math \n",
      "\n",
      "# Variables\n",
      "V_L = 3300.\n",
      "V_ph = V_L/math.sqrt(3)\n",
      "E_bline = 3800.\n",
      "E_bph = E_bline/math.sqrt(3)\n",
      "\n",
      "R_a = 2.\n",
      "X_s = 18. \t\t\t#armature resistance and synchronous reactance\n",
      "Z_s = complex(R_a,X_s) \t\t\t#synchronous impedance\n",
      "theta = math.atan(Z_s.imag/Z_s.real)\n",
      "\n",
      "#part(i)\n",
      "P_m_max  =  (E_bph*V_ph/abs(Z_s))- (E_bph**2/abs(Z_s))*math.cos(theta)  \t\t\t#maximum total mechanical power\n",
      "print 'i)Maximum total mechanical power that the motor can develop is %.2f W per phase'%(P_m_max )\n",
      "#part(ii)\n",
      "delta = theta \t\t\t#for max P_m\n",
      "E_Rph = math.sqrt(  E_bph**2 + V_ph**2 -2*E_bph*V_ph*math.cos(delta) ) \n",
      "I_aph =  E_Rph/abs(Z_s)\n",
      "print 'ii)Current at maximum power developed is %.1f A'%(I_aph)\n",
      "cu_loss_total  =  3*I_aph**2*R_a  \t\t\t#total copper loss\n",
      "P_m_max_total = 3*P_m_max \t\t\t#total maximum total mechanical power\n",
      "P_in_total  =  P_m_max_total+ cu_loss_total  \t\t\t#total input power\n",
      "\n",
      "pf = P_in_total/(math.sqrt(3)*V_L*I_aph)\n",
      "print '    Power factor at maximum power developed is %.3f leading'%(pf)\n",
      "\n",
      "# note : rounding off error."
     ],
     "language": "python",
     "metadata": {},
     "outputs": [
      {
       "output_type": "stream",
       "stream": "stdout",
       "text": [
        "i)Maximum total mechanical power that the motor can develop is 201452.30 W per phase\n",
        "ii)Current at maximum power developed is 151.4 A\n",
        "    Power factor at maximum power developed is 0.857 leading\n"
       ]
      }
     ],
     "prompt_number": 28
    },
    {
     "cell_type": "heading",
     "level": 2,
     "metadata": {},
     "source": [
      "Example 7.22  Page no :  71"
     ]
    },
    {
     "cell_type": "code",
     "collapsed": false,
     "input": [
      "import math \n",
      "\n",
      "#subscript 1 refers to load 1\n",
      "I_1 = 18.\n",
      "phi_1 = math.acos(0.8)\n",
      "V_L = 440.\n",
      "S_1 = math.sqrt(3)*I_1*V_L /1000  \t\t\t#kVA for load 1\n",
      "P_1 = S_1*math.cos(phi_1)\n",
      "Q_1 = S_1*math.sin(phi_1)\n",
      "\n",
      "# Calculations\n",
      "P_out = 6.\n",
      "eta_motor = 88./100\n",
      "P_2 = P_out/eta_motor\n",
      "\n",
      "P_T = P_1+P_2\n",
      "phi_T = math.acos(1)  \t\t\t#total power factor angle\n",
      "Q_T = P_T*math.tan(phi_T)\n",
      "\n",
      "Q_2 =   Q_T - Q_1   \t\t\t#kVAR supplied by motor\n",
      "#this will have  a negative sign just indicating its leading nature \n",
      "phi_2 = math.atan(abs(Q_2)/P_2)\n",
      "pf = math.cos(phi_2)  \t\t\t#leading\n",
      "S_2 = P_2/math.cos(phi_2)  \t\t\t#kVA input to the motor\n",
      "\n",
      "# Results\n",
      "print 'kVA input to the motor is %.3f kVA '%(S_2)\n",
      "print 'Power factor when driving a 6kW mechanical load is %.4f leading'%(pf)\n"
     ],
     "language": "python",
     "metadata": {},
     "outputs": [
      {
       "output_type": "stream",
       "stream": "stdout",
       "text": [
        "kVA input to the motor is 10.688 kVA \n",
        "Power factor when driving a 6kW mechanical load is 0.6379 leading\n"
       ]
      }
     ],
     "prompt_number": 29
    },
    {
     "cell_type": "heading",
     "level": 2,
     "metadata": {},
     "source": [
      "Example 7.23  Page no :  72"
     ]
    },
    {
     "cell_type": "code",
     "collapsed": false,
     "input": [
      "import math \n",
      "\n",
      "# Variables\n",
      "output_power = 8.*10**3\n",
      "V_L = 400.\n",
      "V_ph = V_L/math.sqrt(3)\n",
      "R_a = 0.\n",
      "X_s = 8.\t\t\t#armature resistance and syncronous reactance\n",
      "Z_s = complex(R_a,X_s) \t\t\t#synchronous impedance\n",
      "theta = math.atan(Z_s.imag)  \t\t\t# returns angle in radians \n",
      "eta = 88./100\n",
      "input_power = output_power/eta\n",
      "\n",
      "# Calculations and Results\n",
      "#minimum current occurs at max power factors\n",
      "phi = math.acos(1)\n",
      "I_a_min = input_power/(math.sqrt(3)*V_L*math.cos(phi)) \t\t\t#required minimum current \n",
      "print 'Minimum current is %.3f A'%(I_a_min)\n",
      "E_R =  I_a_min * abs(Z_s)\n",
      "E_bph  =    math.sqrt( E_R**2 + V_ph**2 - 2*E_R*V_ph*math.cos(phi+theta)  ) \n",
      "print 'Induced EMF at full-load is %.3f V'%(E_bph)\n",
      "\n",
      "# note : rounding off error."
     ],
     "language": "python",
     "metadata": {},
     "outputs": [
      {
       "output_type": "stream",
       "stream": "stdout",
       "text": [
        "Minimum current is 13.122 A\n",
        "Induced EMF at full-load is 241.534 V\n"
       ]
      }
     ],
     "prompt_number": 31
    },
    {
     "cell_type": "heading",
     "level": 2,
     "metadata": {},
     "source": [
      "Example 7.24  Page no :  73"
     ]
    },
    {
     "cell_type": "code",
     "collapsed": false,
     "input": [
      "import math \n",
      "\n",
      "# Variables\n",
      "R_a = 0.8\n",
      "X_s = 5.\n",
      "Z_s = complex(R_a,X_s) \t\t\t#armature resistance and syncronous reactance\n",
      "theta = math.atan(Z_s.imag/Z_s.real)  \t\t\t# returns angle in radians \n",
      "alpha = (math.pi/2) - theta\n",
      "V_t = 3300/math.sqrt(3)\n",
      "P_e_in = 800./(3) \t\t\t#per phase\n",
      "phi = math.acos(0.8)  \t\t\t#leading\n",
      "Q_e_in = -P_e_in*math.tan(phi)\n",
      "\n",
      "# Calculations\n",
      "# using the following equation\n",
      "# P_e_in =  V_t**2*R_a/(abs(Z_s))**2   +   V_t*E_b*math.sin(delta-alpha)/abs(Z_S)\n",
      "# Q_e_in =  V_t**2*X_s/(abs(Z_s))**2   -   V_t*E_b*math.cos(delta-alpha)/abs(Z_S)\n",
      "E_b_sin_delta_minus_9  =  407.2\n",
      "E_b_cos_delta_minus_9  = 2413.6\n",
      "#solving further\n",
      "delta  =  math.atan(E_b_sin_delta_minus_9/E_b_cos_delta_minus_9 ) + 9\n",
      "E_b = E_b_sin_delta_minus_9/math.sin(math.radians(delta-9))\n",
      "\n",
      "P_e_in_new  =  1200*10**3/3\n",
      "# using the following equation again\n",
      "# P_e_in =  V_t**2*R_a/(abs(Z_s))**2   +   V_t*E_b*math.sin(delta-alpha)/abs(Z_S)\n",
      "# Q_e_in =  V_t**2*X_s/(abs(Z_s))**2   -   V_t*E_b*math.cos(delta-alpha)/abs(Z_S)\n",
      "\n",
      "alpha  = delta - math.asin(math.radians(P_e_in_new - V_t**2*R_a/(abs(Z_s))**2 ) / (V_t*E_b/abs(Z_s)))\n",
      "Q_e_in_new =  V_t**2*X_s/(abs(Z_s))**2   -   V_t*E_b*math.cos(math.radians(delta - alpha))/abs(Z_s)\n",
      "\n",
      "pf = math.cos ( math.atan(abs(Q_e_in_new/P_e_in_new)))\n",
      "\n",
      "# Results\n",
      "print 'New power factor is %.2f leading '%(pf)\n"
     ],
     "language": "python",
     "metadata": {},
     "outputs": [
      {
       "output_type": "stream",
       "stream": "stdout",
       "text": [
        "New power factor is 0.01 leading \n"
       ]
      }
     ],
     "prompt_number": 33
    },
    {
     "cell_type": "heading",
     "level": 2,
     "metadata": {},
     "source": [
      "Example 7.25  Page no :  74"
     ]
    },
    {
     "cell_type": "code",
     "collapsed": false,
     "input": [
      "import math \n",
      "\n",
      "# Variables\n",
      "V_L = 6.6*10**3\n",
      "V_ph = V_L/math.sqrt(3)\n",
      "P_in = 900.*10**3\n",
      "R_a = 0.\n",
      "X_s = 20. \t\t\t#armature resistance and synchronous reactance \n",
      "Z_s = complex(R_a,X_s) \t\t\t#synchronous impedance\n",
      "theta = math.atan(Z_s.imag)  \t\t\t# returns angle in radians \n",
      "E_b_L = 8.6*10**3\n",
      "E_bph = E_b_L/math.sqrt(3) \n",
      "\n",
      "# Calculations\n",
      "#refer to phasor diagram\n",
      "OA = V_ph\n",
      "AB = E_bph \t\t\t#OB =  E_Rph\n",
      "\n",
      "I_a_cosphi = P_in/(math.sqrt(3)*V_L)  \t\t\t#I_a*math.cos(phi)\n",
      "BC = I_a_cosphi*abs(Z_s) \t\t\t#BC is a vector in phasor diagram\n",
      "\n",
      "OC = math.sqrt(AB**2 -BC**2  )- OA  \t\t\t#from phasor diagram\n",
      "I_a_sinphi = OC/abs(Z_s)  \t\t\t#product of I_a and math.sin(phi)\n",
      "phi =  math.atan (I_a_sinphi/I_a_cosphi)\n",
      "I_a = I_a_cosphi/math.cos(phi) \t\t\t#product of I_a and math.cos(phi)\n",
      "\n",
      "# Results\n",
      "print 'Motor current is %.3f A'%(I_a)\n",
      "print 'Power factor of motor is %f leading'%(cos(phi))\n",
      "print 'Note:There is slight mismatch in answer due to the approximation made during I_a* sinphi calculation'\n"
     ],
     "language": "python",
     "metadata": {},
     "outputs": [
      {
       "output_type": "stream",
       "stream": "stdout",
       "text": [
        "Motor current is 90.643 A\n",
        "Power factor of motor is 0.868564 leading\n",
        "Note:There is slight mismatch in answer due to the approximation made during I_a* sinphi calculation\n"
       ]
      }
     ],
     "prompt_number": 34
    },
    {
     "cell_type": "heading",
     "level": 2,
     "metadata": {},
     "source": [
      "Example 7.26  Page no :  75"
     ]
    },
    {
     "cell_type": "code",
     "collapsed": false,
     "input": [
      "import math \n",
      "\n",
      "\n",
      "# Variables\n",
      "#subscipt 1 refers to factory load\n",
      "P_1 = 1800.\n",
      "phi_1 = math.acos(0.6) \t\t\t#lagging\n",
      "Q_1 = P_1*math.tan(phi_1)\n",
      "\n",
      "#Subscript 2 refers to synchronous condenser\n",
      "P_2 = 0.\n",
      "\n",
      "# Calculations\n",
      "#Subscript T refers to combination of condenser and factory load\n",
      "P_T = P_1+P_2\n",
      "phi_T = math.acos(0.95) \t\t\t#lagging\n",
      "Q_T = P_T*math.tan(phi_T)\n",
      "\n",
      "kva_rating = math.sqrt(P_T**2+ Q_T**2)\n",
      "\n",
      "Q_2 = Q_T - Q_1\n",
      "\n",
      "# Results\n",
      "print 'i)kVA rating of synchronous condender is %.3f kVA    Minus sign indicates leading nature'%(Q_2)\n",
      "print 'ii)kVA rating of total factory is %.4f kVA'%(kva_rating)\n"
     ],
     "language": "python",
     "metadata": {},
     "outputs": [
      {
       "output_type": "stream",
       "stream": "stdout",
       "text": [
        "i)kVA rating of synchronous condender is -1808.369 kVA    Minus sign indicates leading nature\n",
        "ii)kVA rating of total factory is 1894.7368 kVA\n"
       ]
      }
     ],
     "prompt_number": 35
    },
    {
     "cell_type": "heading",
     "level": 2,
     "metadata": {},
     "source": [
      "Example 7.27  Page no :  77"
     ]
    },
    {
     "cell_type": "code",
     "collapsed": false,
     "input": [
      "import math \n",
      "\n",
      "# Variables\n",
      "I_1 = 35.\n",
      "phi_1 = math.acos(0.8)\n",
      "V_L = 440.\n",
      "S_1 = math.sqrt(3)*I_1*V_L /1000 \t\t\t#in kVA\n",
      "\n",
      "\n",
      "# Calculations\n",
      "P_1 = S_1*math.cos(phi_1)\n",
      "Q_1 = S_1*math.sin(phi_1)\n",
      "\n",
      "P_out = 12. \t\t\t#motor load\n",
      "eta_motor = 85./100\n",
      "P_2 = P_out/eta_motor\n",
      "\n",
      "P_T = P_1 + P_2\n",
      "phi_T = math.acos(1)\n",
      "Q_T = P_T * math.tan(phi_T)\n",
      "\n",
      "\n",
      "Q_2 = Q_T - Q_1  \t\t\t#kVA supplied by motor\n",
      "#negative sign of Q_2 indicates its leading nature\n",
      "phi_2 =  math.atan(abs(Q_2)/P_2)\n",
      "S_2 = P_2/math.cos(phi_2)\n",
      "\n",
      "# Results\n",
      "print 'Power factor when motor supplies 12kW load is %.4f leading'%(math.cos(phi_2))\n",
      "print 'kVA input to the motor is %.3f kVA'%(S_2)\n"
     ],
     "language": "python",
     "metadata": {},
     "outputs": [
      {
       "output_type": "stream",
       "stream": "stdout",
       "text": [
        "Power factor when motor supplies 12kW load is 0.6615 leading\n",
        "kVA input to the motor is 21.341 kVA\n"
       ]
      }
     ],
     "prompt_number": 36
    },
    {
     "cell_type": "heading",
     "level": 2,
     "metadata": {},
     "source": [
      "Example 7.28  Page no :  78"
     ]
    },
    {
     "cell_type": "code",
     "collapsed": false,
     "input": [
      "import math \n",
      "\n",
      "# Variables\n",
      "V_L = 400\n",
      "V_ph = V_L/math.sqrt(3)\n",
      "Z_s = complex(0.5,4)  \t\t\t#synchronous impedance\n",
      "theta = math.atan(Z_s.imag/Z_s.real)  \t\t\t# returns angle in radians \n",
      "\n",
      "I_aph = 60.\n",
      "phi = math.acos(0.866) \t\t\t#leading\n",
      "power_losses = 2*10**3\n",
      "\n",
      "# Calculations\n",
      "E_bph  =    math.sqrt( (I_aph*abs(Z_s))**2 + (V_ph)**2 - 2*(I_aph*abs(Z_s))*(V_ph)*math.cos(phi+theta)  ) \n",
      "delta = theta \t\t\t#for P_m_max\n",
      "P_m_max  =  (E_bph*V_ph/abs(Z_s))- (E_bph**2/abs(Z_s))*math.cos(delta)\n",
      "P_m_max_total =  3 * P_m_max\n",
      "P_out_max =   P_m_max_total- power_losses\n",
      "\n",
      "# Results\n",
      "print 'Maximum power output is %.4f kW'%(P_out_max*10**-3)\n"
     ],
     "language": "python",
     "metadata": {},
     "outputs": [
      {
       "output_type": "stream",
       "stream": "stdout",
       "text": [
        "Maximum power output is 51.3899 kW\n"
       ]
      }
     ],
     "prompt_number": 37
    },
    {
     "cell_type": "heading",
     "level": 2,
     "metadata": {},
     "source": [
      "Example 7.29  Page no :  79"
     ]
    },
    {
     "cell_type": "code",
     "collapsed": false,
     "input": [
      "import math \n",
      "\n",
      "# Variables\n",
      "V_L = 6.6*10**3\n",
      "V_ph = V_L/math.sqrt(3)\n",
      "I_L = 50.\n",
      "I_aph = I_L\n",
      "Z_s = complex(1.5,8) \t\t\t#synchronous impedance\n",
      "theta = math.atan(Z_s.imag/Z_s.real)  \t\t\t# returns angle in radians \n",
      "E_Rph = I_aph*abs(Z_s)\n",
      "\n",
      "# Calculations and Results\n",
      "#part(i)\n",
      "phi = math.acos(0.8)\n",
      "P_in =  math.sqrt(3)*V_L*I_L*math.cos(phi)   \t\t\t#for both lag and lead supplied power will be the same\n",
      "print 'i)Power supplied to the motor is %.3f kW'%(P_in*10**-3)\n",
      "#part(ii)\n",
      "E_bph_lag  =    math.sqrt( E_Rph**2 + V_ph**2 - 2*E_Rph*V_ph*math.cos(theta-phi)  )  \t\t\t#for lagging power factor\n",
      "#Note that E_bph_lag > V_ph\n",
      "print 'ii)Induced EMF for 0.8 power factor lag is %.3f V'%(E_bph_lag)\n",
      "E_bph_lead  =    math.sqrt( E_Rph**2 + V_ph**2 - 2*E_Rph*V_ph*math.cos(theta+phi)  )  \t\t\t#for leading power factor\n",
      "#Note that E_bph_lead < V_ph\n",
      "print '    Induced EMF for 0.8 power factor lead is %.3f V'%(E_bph_lead)\n"
     ],
     "language": "python",
     "metadata": {},
     "outputs": [
      {
       "output_type": "stream",
       "stream": "stdout",
       "text": [
        "i)Power supplied to the motor is 457.261 kW\n",
        "ii)Induced EMF for 0.8 power factor lag is 3521.267 V\n",
        "    Induced EMF for 0.8 power factor lead is 4007.170 V\n"
       ]
      }
     ],
     "prompt_number": 38
    },
    {
     "cell_type": "heading",
     "level": 2,
     "metadata": {},
     "source": [
      "Example 7.30  Page no :  80"
     ]
    },
    {
     "cell_type": "code",
     "collapsed": false,
     "input": [
      "import math \n",
      "\n",
      "# Variables\n",
      "V_L = 400.\n",
      "V_ph = V_L/math.sqrt(3)\n",
      "P_out = 7.5*735.5\n",
      "eta = 85./100 \t\t\t#efficiency\n",
      "R_a = 0.\n",
      "X_s = 10. \t\t\t#armature resistance and synchronous reactance\n",
      "Z_s = complex(R_a,X_s)\t\t\t#synchronous impedance\n",
      "theta = math.atan(Z_s.imag)  \t\t\t# returns angle in radians \n",
      "\n",
      "# Calculations and Results\n",
      "P_in = P_out/eta\n",
      "phi = math.acos(1) \t\t\t#for mimimum current power factor is maximum\n",
      "I_L = P_in/(math.sqrt(3)*V_L*math.cos(phi))  \n",
      "I_aph = I_L\n",
      "print 'Minimum current is %.3f A at full load condition '%(I_L)\n",
      "\n",
      "E_Rph =  I_aph*abs(Z_s)\n",
      "E_bph  =    math.sqrt( E_Rph**2 + V_ph**2 - 2*E_Rph*V_ph*math.cos(phi+theta)  ) \n",
      "print 'and corresponding EMF is %.4f V'%(E_bph)\n",
      "\n",
      "# note : rounding off error.\n"
     ],
     "language": "python",
     "metadata": {},
     "outputs": [
      {
       "output_type": "stream",
       "stream": "stdout",
       "text": [
        "Minimum current is 9.367 A at full load condition \n",
        "and corresponding EMF is 240.4216 V\n"
       ]
      }
     ],
     "prompt_number": 40
    },
    {
     "cell_type": "heading",
     "level": 2,
     "metadata": {},
     "source": [
      "Example 7.31  Page no :  80"
     ]
    },
    {
     "cell_type": "code",
     "collapsed": false,
     "input": [
      "import math \n",
      "\n",
      "# Variables\n",
      "V_L = 3.3*10**3\n",
      "V_ph = V_L/math.sqrt(3)\n",
      "V_t = V_ph\n",
      "Pole = 24.\n",
      "f = 50.  \t\t\t#Pole and frequency\n",
      "P = 1000.*10**3\n",
      "R_a = 0\n",
      "X_s = 3.24 \t\t\t#armature resistance and synchronous reactance\n",
      "Z_s = complex(R_a,X_s) \t\t\t#synchronous impedance\n",
      "theta = math.atan(Z_s.imag)  \t\t\t# returns angle in radians \n",
      "phi = math.acos(1)\n",
      "I_aph = P/(math.sqrt(3)*V_L*math.cos(phi))\n",
      "\n",
      "# Calculations\n",
      "E_Rph = I_aph*abs(Z_s)\n",
      "E_bph  =   math.sqrt( E_Rph**2 + V_ph**2 - 2*E_Rph*V_ph*math.cos(phi+theta)  ) \n",
      "\n",
      "P_m_max = 3*(E_bph*V_ph/abs(Z_s)) \t\t\t#maximum power that can be delivered\n",
      "N_s = 120*f/Pole \t\t\t#synchronous speed\n",
      "T_max = P_m_max /(2*math.pi*N_s/60) \t\t\t#maximum torque that can be developed\n",
      "\n",
      "# Results\n",
      "print 'Maximum power and torque the motor can deliver is %.3f kW and %.2f *10**3 Nm respectively'%(P_m_max*10**-3,T_max/1000)\n",
      "\n",
      "# rounding off error."
     ],
     "language": "python",
     "metadata": {},
     "outputs": [
      {
       "output_type": "stream",
       "stream": "stdout",
       "text": [
        "Maximum power and torque the motor can deliver is 3211.633 kW and 122.68 *10**3 Nm respectively\n"
       ]
      }
     ],
     "prompt_number": 42
    }
   ],
   "metadata": {}
  }
 ]
}