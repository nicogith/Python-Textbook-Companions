{
 "metadata": {
  "name": "",
  "signature": "sha256:37c6f1ad2861e36aaa3d0e24a0317df8883a0a0a3ce46bfb539d00dfac4215c9"
 },
 "nbformat": 3,
 "nbformat_minor": 0,
 "worksheets": [
  {
   "cells": [
    {
     "cell_type": "heading",
     "level": 1,
     "metadata": {},
     "source": [
      "Chapter 4 : Synchronous Machines : Alternators"
     ]
    },
    {
     "cell_type": "heading",
     "level": 2,
     "metadata": {},
     "source": [
      "Example 4.1 page no : 16"
     ]
    },
    {
     "cell_type": "code",
     "collapsed": false,
     "input": [
      "\n",
      "# Variables\n",
      "Pole = 4.\n",
      "Slots = 24.\n",
      "Phase = 3. \t\t\t#number of phases\n",
      "\n",
      "# Calculations\n",
      "n = Slots/Pole \t\t\t#slots per pole\n",
      "m = Slots/Pole/Phase \t\t\t#slots per pole per phase\n",
      "beeta = 180/n  \t\t\t#Slot angle\n",
      "\n",
      "# results\n",
      "print \"Slot angle : %.f degrees\"%beeta"
     ],
     "language": "python",
     "metadata": {},
     "outputs": [
      {
       "output_type": "stream",
       "stream": "stdout",
       "text": [
        "Slot angle : 30 degrees\n"
       ]
      }
     ],
     "prompt_number": 1
    },
    {
     "cell_type": "heading",
     "level": 2,
     "metadata": {},
     "source": [
      "Example 4.2 page no : 26"
     ]
    },
    {
     "cell_type": "code",
     "collapsed": false,
     "input": [
      "import math \n",
      "\n",
      "# Variables\n",
      "Slots = 120.\n",
      "Pole = 8.\n",
      "Phase = 3.   \t\t\t#number of phases\n",
      "\n",
      "# Calculations\n",
      "n = Slots/Pole         \t\t\t#Slots per Pole\n",
      "m = Slots/Pole/Phase   \t\t\t#Slots per Pole per Phase\n",
      "beeta = 180/n           \t\t\t#Slot angle in degree\n",
      "K_d = math.sin(math.radians(m*beeta/2)) /(m*math.sin(math.radians(beeta/2))) \t\t\t#Distribution Factor\n",
      "\n",
      "# Results\n",
      "print 'Distribution Factor:K_d = %.3f'%(K_d)\n",
      "\n"
     ],
     "language": "python",
     "metadata": {},
     "outputs": [
      {
       "output_type": "stream",
       "stream": "stdout",
       "text": [
        "Distribution Factor:K_d = 0.957\n"
       ]
      }
     ],
     "prompt_number": 5
    },
    {
     "cell_type": "heading",
     "level": 2,
     "metadata": {},
     "source": [
      "Example 4.3 page no : 26"
     ]
    },
    {
     "cell_type": "code",
     "collapsed": false,
     "input": [
      "import math \n",
      "\n",
      "# Variables\n",
      "Slots = 36.\n",
      "Pole = 4.\n",
      "Phase = 3. \t\t\t#number of phases\n",
      "n = Slots/Pole    \t\t\t#Slots per pole\n",
      "beeta = 180/n     \t\t\t#Slot angle in degrees\n",
      "\n",
      "# Calculations\n",
      "#coil is shorted by 1 slot i.e. by beeta degrees to full pitch dismath.tance\n",
      "alpha = beeta     \t\t\t#angle of short pitch\n",
      "K_c = math.cos(math.radians(alpha/2))  \t\t\t#Coil span Factor\n",
      "\n",
      "# Results\n",
      "print 'Coil Span Factor:K_c = %.4f'%(K_c)\n"
     ],
     "language": "python",
     "metadata": {},
     "outputs": [
      {
       "output_type": "stream",
       "stream": "stdout",
       "text": [
        "Coil Span Factor:K_c = 0.9848\n"
       ]
      }
     ],
     "prompt_number": 6
    },
    {
     "cell_type": "heading",
     "level": 2,
     "metadata": {},
     "source": [
      "Example 4.4 page no : 26"
     ]
    },
    {
     "cell_type": "code",
     "collapsed": false,
     "input": [
      "import math \n",
      "\n",
      "# Variables\n",
      "N_s = 250.  \t\t\t#Synchronous speed in r.p.m\n",
      "f = 50.     \t\t\t#Frequency of generated e.m.f in hertz\n",
      "Slots = 216.\n",
      "phi = 30.*10**-3 \t\t\t#flux per pole in weber\n",
      "\n",
      "Pole = 120*f/N_s\n",
      "n = Slots/Pole   \t\t\t#Slots per Pole\n",
      "m = n/3          \t\t\t#Slots per Pole per Phase\n",
      "beeta = 180/n     \t\t\t#Slot angle in degree\n",
      "\n",
      "# Calculations\n",
      "K_d = math.sin(math.radians(m*beeta/2))/(m*math.sin(math.radians(beeta/2)))   \t\t\t#distribution factor\n",
      "K_c = 1 \t\t\t#Coil Span Factor for full pitch coils = 1\n",
      "\n",
      "Z = Slots*5   \t\t\t#Z is total no of conductors\n",
      "Z_ph = Z/3    \t\t\t#Conductors Per Phase\n",
      "T_ph = Z_ph/2 \t\t\t#Turns per phase\n",
      "E_ph = 4.44*K_c*K_d*f*phi*T_ph \t\t\t#induced emf\n",
      "E_line = E_ph*math.sqrt(3)\n",
      "\n",
      "# Results\n",
      "print 'Induced e.m.f across the Terminals is %.2f V'%(E_line)\n"
     ],
     "language": "python",
     "metadata": {},
     "outputs": [
      {
       "output_type": "stream",
       "stream": "stdout",
       "text": [
        "Induced e.m.f across the Terminals is 1992.90 V\n"
       ]
      }
     ],
     "prompt_number": 7
    },
    {
     "cell_type": "heading",
     "level": 2,
     "metadata": {},
     "source": [
      "Example 4.5 page no : 27"
     ]
    },
    {
     "cell_type": "code",
     "collapsed": false,
     "input": [
      "import math \n",
      "\n",
      "# Variables\n",
      "Pole = 16.\n",
      "N_s = 375. \t\t\t#synchronous speed in rpm\n",
      "Slots = 144.\n",
      "E_line = 2.657*10**3 \t\t\t#line value of emf across terminals\n",
      "f = Pole*N_s/120 \t\t\t#frequency\n",
      "\n",
      "# Calculations\n",
      "K_c = 1  \t\t\t#assuming full pitch winding Coil span Factor = 1\n",
      "n = Slots/Pole \t\t\t#slots per pole\n",
      "m = n/3 \t\t\t#slots per pole per phase\n",
      "\n",
      "beeta = 180/n\n",
      "K_d = math.sin(math.radians(m*beeta/2)) /(m*math.sin(math.radians(beeta/2))) \t\t\t#Distribution Fcator\n",
      "conductors_per_slot = 10\n",
      "Z = Slots*conductors_per_slot  \t\t\t#total conductors\n",
      "\n",
      "Z_ph = Z/3  \t\t\t#number of conductors per phase\n",
      "T_ph = Z_ph/2 \t\t\t#no of turns per phase\n",
      "E_ph = E_line/math.sqrt(3) \t\t\t#phase value of emf across terminals\n",
      "\n",
      "phi = E_ph/(4.44*K_c*K_d*f*T_ph)     \t\t\t#E_ph = 4.44*K_c*K_d*f*phi*T_ph\n",
      "\n",
      "# Results\n",
      "print 'Frequency of Induced e.m.f is %.0fHz \\nFlux per Pole is %.0f mWb'%(f,phi*1000)\n"
     ],
     "language": "python",
     "metadata": {},
     "outputs": [
      {
       "output_type": "stream",
       "stream": "stdout",
       "text": [
        "Frequency of Induced e.m.f is 50Hz \n",
        "Flux per Pole is 30 mWb\n"
       ]
      }
     ],
     "prompt_number": 8
    },
    {
     "cell_type": "heading",
     "level": 2,
     "metadata": {},
     "source": [
      "Example 4.6 page no : 34"
     ]
    },
    {
     "cell_type": "code",
     "collapsed": false,
     "input": [
      "import math \n",
      "\n",
      "# Variables\n",
      "d = 0.25            \t\t\t#Diameter in metre\n",
      "l = 0.3             \t\t\t#Length in metre\n",
      "Pole = 4.\n",
      "A1 = math.pi*d*l/Pole    \t\t\t#Area of each fundamental pole\n",
      "f = 50. \t\t\t#frequency in hertz\n",
      "B_m1 = 0.15 \n",
      "B_m3 = 0.03\n",
      "B_m5 = 0.02 \t\t\t#Amplitude of 1st 3rd and 5th harmonics\n",
      "phi_1 = (2/math.pi)*B_m1*A1  \t\t\t#average value of fundamental flux per pole in weber\n",
      "\n",
      "\n",
      "# Calculations and Results\n",
      "#PART A\n",
      "E_c1 = 1.11*2*f*phi_1  \t\t\t#R.M.S value of fundamental frequency e.m.f generated in math.single conductor\n",
      "Coil_span = (13./15)*180  \t\t\t#math.since winding coil span is 13/15 of pole pitch\n",
      "alpha = 180-Coil_span\n",
      "\n",
      "#Pitch factor for 1st 3rd and 5th harmonic\n",
      "K_c1 = math.cos(math.radians(alpha/2))\n",
      "K_c3 = math.cos(math.radians(3*alpha/2))\n",
      "K_c5 = math.cos(math.radians(5*alpha/2))\n",
      "\n",
      "#using E_cx = E_c1 * (B_mx/B_m1)\n",
      "E_c3 = E_c1 * (B_m3/B_m1)\n",
      "E_c5 = E_c1 * (B_m5/B_m1)\n",
      "\n",
      "E_t1 = K_c1 * (2*E_c1)   \t\t\t#R.M.S Vaue of fundamental frequency EMF generated in 1 turn (in volts)\n",
      "E_t3 = K_c3 * 2*E_c3\n",
      "E_t5 = K_c5 * 2*E_c5\n",
      "E_t = math.sqrt(E_t1**2 +E_t3**2 +E_t5**2)\n",
      "V = 10*E_t  \t\t\t#(number of turns per coil )* (Total e.m.f per turn)\n",
      "print 'Voltage generated per coil is %.1f V'%(V)\n",
      "\n",
      "# PART B\n",
      "#E_1ph = 4.44*K_c1*K_d1*phi_1*f*T_ph\n",
      "T_ph = 200.   \t\t\t#T_ph = (60 coils  * 10 turns per coil)/3\n",
      "\n",
      "Total_Conductors = 1200. \t\t\t# 60 coils * 10 turns per coil * 2\n",
      "Conductors_per_Slot = 20. \t\t\t#2 conductors per turn * 10  turns per slot\n",
      "Slots = Total_Conductors/Conductors_per_Slot\n",
      "\n",
      "n = Slots/Pole\n",
      "m = n/3\n",
      "beeta = 180/n   \t\t\t#Slot angle in degree\n",
      "K_d1 = math.sin(math.radians(m*1*beeta/2)) /(m*math.sin(math.radians(1*beeta/2)))\n",
      "K_d3 = math.sin(math.radians(m*3*beeta/2)) /(m*math.sin(math.radians(3*beeta/2)))\n",
      "K_d5 = math.sin(math.radians(m*5*beeta/2)) /(m*math.sin(math.radians(5*beeta/2)))\n",
      "\n",
      "E_1ph = 4.44 * K_c1 * K_d1*phi_1 * f * T_ph\n",
      "# using E_xph =  E_1ph* (B_mx*K_cx*K_dx)/(B_m1*K_c1*K_d1)\n",
      "E_3ph =  E_1ph* (B_m3*K_c3*K_d3)/(B_m1*K_c1*K_d1)\n",
      "E_5ph =  E_1ph* (B_m5*K_c5*K_d5)/(B_m1*K_c1*K_d1)\n",
      "E_ph = math.sqrt( E_1ph**2 + E_3ph**2 + E_5ph**2 )  \t\t\t#voltage generated per phase\n",
      "print 'Voltage generated per phase is %.f V'%(E_ph)\n",
      "\n",
      "#PART c\n",
      "E_line = math.sqrt(3) * math.sqrt( E_1ph**2 + E_5ph**2  ) \t\t\t#terminal voltage\n",
      "print 'Terminal Voltage is %.1f V '%(E_line)\n"
     ],
     "language": "python",
     "metadata": {},
     "outputs": [
      {
       "output_type": "stream",
       "stream": "stdout",
       "text": [
        "Voltage generated per coil is 12.4 V\n",
        "Voltage generated per phase is 235 V\n",
        "Terminal Voltage is 404.8 V \n"
       ]
      }
     ],
     "prompt_number": 11
    },
    {
     "cell_type": "heading",
     "level": 2,
     "metadata": {},
     "source": [
      "Example 4.7 page no : 38"
     ]
    },
    {
     "cell_type": "code",
     "collapsed": false,
     "input": [
      "import math \n",
      "\n",
      "# Variables\n",
      "Ns = 250. \t\t\t#Synchronous speed in rpm\n",
      "f = 50.\n",
      "Slots = 288.\n",
      "E_line = 6600.\n",
      "Pole = 120*f/Ns  \n",
      "n = Slots/Pole  \t\t\t#slots per pole\n",
      "m = n/3 \t\t\t#slots per pole per phase\n",
      "beeta = 180/n \t\t\t#slot angle\n",
      "conductors_per_slot = 32   \t\t\t#16 conductors per coil-side  *2 coil-sides per slot\n",
      "\n",
      "# Calculations\n",
      "K_d = math.sin(math.radians(m*beeta/2)) /(m*math.sin(math.radians(beeta/2))) \t\t\t#distribution factor\n",
      "alpha = 2*beeta\t\t\t# angle of short pitch\n",
      "K_c = math.cos(math.radians(alpha/2))  \t\t\t#coil span factor\n",
      "Z  =  Slots*conductors_per_slot  \t\t\t#total conductors\n",
      "Z_ph = Z/3 \t\t\t#Conductors per phase\n",
      "T_ph = Z_ph/2 \t\t\t#turns per phase\n",
      "\n",
      "E_ph = E_line/math.sqrt(3)\n",
      "phi = E_ph/(4.44*K_c*K_d*f*T_ph)           \t\t\t#Because E_ph = 4.44 *K_c *K_d *phi *f *T_ph\n",
      "\n",
      "# Results\n",
      "print 'Flux per pole is %.0f mWb '%(phi*1000)\n"
     ],
     "language": "python",
     "metadata": {},
     "outputs": [
      {
       "output_type": "stream",
       "stream": "stdout",
       "text": [
        "Flux per pole is 12 mWb \n"
       ]
      }
     ],
     "prompt_number": 12
    },
    {
     "cell_type": "heading",
     "level": 2,
     "metadata": {},
     "source": [
      "Example 4.8 page no : 40"
     ]
    },
    {
     "cell_type": "code",
     "collapsed": false,
     "input": [
      "import math \n",
      "\n",
      "# Variables\n",
      "Ns = 1500.  \t\t\t#synchronous speed in rpm\n",
      "Pole = 4.\n",
      "Slots = 24.\n",
      "conductor_per_slot = 8.\n",
      "phi = 0.05 \t\t\t#flux per pole in weber\n",
      "f = Pole*Ns/120 \t\t\t#frequenccy\n",
      "n = Slots/Pole \t\t\t#slots per pole\n",
      "m = n  \t\t\t# as number of phases is 1\n",
      "beeta = 180/n  \t\t\t#slot angle\n",
      "\n",
      "# Calculations\n",
      "K_d = math.sin(math.radians(m*beeta/2)) /(m*math.sin(math.radians(beeta/2)))  \t\t\t#distribution factor\n",
      "\n",
      "#Full pitch =  n  = 6 slots\n",
      "#(1/6)th of full pitch  = 1slot\n",
      "#angle of short pitch  =  1 slot angle\n",
      "alpha = beeta\n",
      "K_c = math.cos(math.radians(alpha/2))  \t\t\t#coil span factor\n",
      "\n",
      "Z = conductor_per_slot*Slots \t\t\t#total conductors\n",
      "Z_ph = Z \t\t\t# as number of phases is 1\n",
      "T_ph = Z_ph/2 \t\t\t#turns per phase\n",
      "E_ph = 4.44*K_c*K_d* phi *f *T_ph  \t\t\t#induced emf\n",
      "\n",
      "# Results\n",
      "print 'Induced e.m.f is %.1f V '%(E_ph)\n"
     ],
     "language": "python",
     "metadata": {},
     "outputs": [
      {
       "output_type": "stream",
       "stream": "stdout",
       "text": [
        "Induced e.m.f is 662.8 V \n"
       ]
      }
     ],
     "prompt_number": 13
    },
    {
     "cell_type": "heading",
     "level": 2,
     "metadata": {},
     "source": [
      "Example 4.9 page no : 41"
     ]
    },
    {
     "cell_type": "code",
     "collapsed": false,
     "input": [
      "import math \n",
      "\n",
      "# Variables\n",
      "Pole = 48.\n",
      "n = 9. \t\t\t#slots per pole\n",
      "phi = 51.75*10**-3 \t\t\t#flux per pole in weber\n",
      "Ns = 125.\n",
      "f = Ns*Pole/120 \t\t\t#frequency\n",
      "K_c = 1. \t\t\t#due to full pitch winding\n",
      "m = n/3 \t\t\t#slots per pole per phase\n",
      "beeta = 180/n  \t\t\t#slot angle\n",
      "\n",
      "# Calculations\n",
      "K_d = math.sin(math.radians(m*beeta/2)) /(m*math.sin(math.radians(beeta/2)))  \t\t\t#distribution factor\n",
      "conductor_per_slot = 4*2 \t\t\t#Each slot has 2 coil sides and each coil side has 4 conductors\n",
      "Slots = n*Pole\n",
      "Z = conductor_per_slot*Slots   \t\t\t#total number of conductors\n",
      "Z_ph = Z/3 \t\t\t#conductors per phase\n",
      "T_ph = Z_ph/2 \t\t\t#turns per phase\n",
      "E_ph = 4.44 *K_c *K_d *phi *f *T_ph  \t\t\t#induced emf\n",
      "\n",
      "E_line = (math.sqrt(3))*E_ph  \t\t\t#due to star connection\n",
      "\n",
      "# Results\n",
      "print 'Induced e.m.f is %.0f kV '%(E_line/1000)\n"
     ],
     "language": "python",
     "metadata": {},
     "outputs": [
      {
       "output_type": "stream",
       "stream": "stdout",
       "text": [
        "Induced e.m.f is 11 kV \n"
       ]
      }
     ],
     "prompt_number": 14
    },
    {
     "cell_type": "heading",
     "level": 2,
     "metadata": {},
     "source": [
      "Example 4.10 page no : 42"
     ]
    },
    {
     "cell_type": "code",
     "collapsed": false,
     "input": [
      "import math \n",
      "\n",
      "# Variables\n",
      "Slots = 180.\n",
      "Pole = 12.\n",
      "Ns = 600. \t\t\t#Synchronous speen in rpm\n",
      "f = Pole*Ns/120 \t\t\t#frequency\n",
      "phi = 0.05 \t\t\t#flux per pole in weber\n",
      "\n",
      "# Calculations and Results\n",
      "#Part(i)\n",
      "#Average EMF in a conductor = 2*f*phi\n",
      "rms_value_1 = 1.11*2*f*phi \t\t\t#rms value of emf in a conductor\n",
      "print 'i)r.m.s value of e.m.f in a conductor is %.2f V '%(rms_value_1)\n",
      "\n",
      "#part(ii)\n",
      "#Average EMF in a turn = 4*f*phi\n",
      "rms_value_2 = 1.11*4*f*phi\t\t\t#r.m.s value of e.m.f in a turn\n",
      "print 'ii)r.m.s value of e.m.f in a turn is %.2f V '%(rms_value_2)\n",
      "\n",
      "#part(iii)\n",
      "conductors_per_coilside = 10/2 \n",
      "rms_value_3 = rms_value_2*conductors_per_coilside  \t\t\t#r.m.s value of e.m.f in a coil\n",
      "print 'iii)r.m.s value of e.m.f in a coil is %.1f V '%(rms_value_3)\n",
      "\n",
      "#part(iv)\n",
      "conductors_per_slot = 10\n",
      "Z = conductors_per_slot * Slots  \t\t\t#total number of conductors\n",
      "Z_ph = Z/3    \t\t\t#conductors per phase\n",
      "T_ph = Z_ph/2 \t\t\t#turns per phase\n",
      "n = Slots/Pole  \t\t\t#slots per pole\n",
      "m = n/3        \t\t\t#slots per pole per phase \n",
      "beeta = 180/n   \t\t\t#slot angle\n",
      "\n",
      "K_d = math.sin(math.radians(m*beeta/2)) /(m*math.sin(math.radians(beeta/2)))\n",
      "K_c = 1  \t\t\t#distribution & coil-span factor\n",
      "E_ph = rms_value_2*T_ph*K_d*K_c   \t\t\t#induced emf\n",
      "print 'iv)per phase induced e.m.f is %.1f V '%(E_ph)\n"
     ],
     "language": "python",
     "metadata": {},
     "outputs": [
      {
       "output_type": "stream",
       "stream": "stdout",
       "text": [
        "i)r.m.s value of e.m.f in a conductor is 6.66 V \n",
        "ii)r.m.s value of e.m.f in a turn is 13.32 V \n",
        "iii)r.m.s value of e.m.f in a coil is 66.6 V \n",
        "iv)per phase induced e.m.f is 3822.9 V \n"
       ]
      }
     ],
     "prompt_number": 15
    },
    {
     "cell_type": "heading",
     "level": 2,
     "metadata": {},
     "source": [
      "Example 4.11 page no : 44"
     ]
    },
    {
     "cell_type": "code",
     "collapsed": false,
     "input": [
      "import math \n",
      "\n",
      "# Variables\n",
      "Pole = 8.\n",
      "f = 50. \t\t\t#frequency\n",
      "phi = 60.*10**-3 \t\t\t#flux per pole in weber\n",
      "Slots = 96. \n",
      "n = Slots/Pole \t\t\t#slots per pole\n",
      "beeta  =  180/n \t\t\t#slot angle \n",
      "m = n/3 \t\t\t#slots per pole per phase\n",
      "\n",
      "# Calculations and Results\n",
      "coil_pitch = 10*beeta \t\t\t#10 slots\n",
      "alpha = 180-coil_pitch\n",
      "K_c = math.cos(math.radians(alpha/2))   \t\t\t#coi;-span factor\n",
      "K_d = math.sin(math.radians(m*beeta/2)) /(m*math.sin(math.radians(beeta/2))) \t\t\t#distribution factor\n",
      "\n",
      "conductors_per_slot = 4  \n",
      "Z = Slots*conductors_per_slot \t\t\t#total conductors\n",
      "Total_turns = Z/2  \n",
      "T_ph = Total_turns/3  \t\t\t#turns per phase\n",
      "\n",
      "#part (i)\n",
      "E_ph =  4.44 *K_c *K_d *phi *f *T_ph\n",
      "print '\\The phase voltage is %.2f V '%(E_ph)\n",
      "\n",
      "#part(ii)\n",
      "E_line = E_ph*math.sqrt(3)\n",
      "print 'The Line Voltage is %.2f V '%(E_line)\n",
      "\n",
      "#part(iii)\n",
      "I_ph = 650\n",
      "I_l = I_ph  \t\t\t# Star Connection\n",
      "kVA_rating = math.sqrt(3)*E_line*I_l\n",
      "print 'kVA rating is %.1f kVA '%(kVA_rating/1000)\n"
     ],
     "language": "python",
     "metadata": {},
     "outputs": [
      {
       "output_type": "stream",
       "stream": "stdout",
       "text": [
        "\\The phase voltage is 788.57 V \n",
        "The Line Voltage is 1365.84 V \n",
        "kVA rating is 1537.7 kVA \n"
       ]
      }
     ],
     "prompt_number": 16
    },
    {
     "cell_type": "heading",
     "level": 2,
     "metadata": {},
     "source": [
      "Example 4.12 page no : 45"
     ]
    },
    {
     "cell_type": "code",
     "collapsed": false,
     "input": [
      "import math \n",
      "\n",
      "# Variables\n",
      "Ns = 600. \t\t\t#synchronous speed in rpm\n",
      "Pole = 10.\n",
      "l = 30./100     \t\t\t#divided by 100 for centimetre-metre conversion\n",
      "Pole_pitch = 35./100  \t\t\t#numerically equal to pi*d/Pole\n",
      "Phase = 3.\n",
      "conductors_per_slot = 8.\n",
      "A1 = Pole_pitch*l \t\t\t#Area of each fundamental pole\n",
      "m = 3.   \t\t\t#Slot per Pole per Phase\n",
      "n = Phase*m \t\t\t#slots per pole\n",
      "beeta = 180/n  \t\t\t#slot angle\n",
      "\n",
      "B_m1 = 1.\n",
      "B_m3 = 0.3\n",
      "B_m5 = 0.2  \t\t\t#amplitude of 1st 3rd and 5th harmonic\n",
      "phi_1 = (2/math.pi)*A1*B_m1  \t\t\t#average value of fundamental flux per pole \n",
      "f = Ns*Pole/120 \t\t\t#frequency\n",
      "\n",
      "# Calculations\n",
      "Coil_span = (8./9)*180\n",
      "alpha = 180-Coil_span\n",
      "#pitch factor for 1st 3rd and 5th harmonic\n",
      "K_c1 = math.cos(math.radians(alpha/2))  \n",
      "K_c3 = math.cos(math.radians(3*alpha/2))\n",
      "K_c5 = math.cos(math.radians(5*alpha/2))\n",
      "\n",
      "# using K_dx = math.sin(m*x*beeta*(math.pi/180)/2) /(m*math.sin(x*beeta*(math.pi/180)/2))\n",
      "#distribution factor for 1st 3rd and 5th harmonic\n",
      "K_d1 = math.sin(math.radians(m*1*beeta/2)) /(m*math.sin(math.radians(1*beeta/2)))\n",
      "K_d3 = math.sin(math.radians(m*3*beeta/2)) /(m*math.sin(math.radians(3*beeta/2)))\n",
      "K_d5 = math.sin(math.radians(m*5*beeta/2)) /(m*math.sin(math.radians(5*beeta/2)))\n",
      "\n",
      "Slots = n*Pole\n",
      "Total_conductors = conductors_per_slot * Slots\n",
      "Total_turns = Total_conductors/2\n",
      "T_ph = Total_turns/3  \t\t\t#turns per phase\n",
      "\n",
      "#EMF of 1st 3rd and 5th harmonic\n",
      "E_1ph = 4.44 * K_c1 * K_d1*phi_1 * f * T_ph\n",
      "E_3ph =  E_1ph* (B_m3*K_c3*K_d3)/(B_m1*K_c1*K_d1)\n",
      "E_5ph =  E_1ph* (B_m5*K_c5*K_d5)/(B_m1*K_c1*K_d1)\n",
      "\n",
      "# Results\n",
      "# using E_xph =  E_1ph* (B_mx*K_cx*K_dx)/(B_m1*K_c1*K_d1)\n",
      "E_ph = math.sqrt( E_1ph**2 + E_3ph**2 + E_5ph**2 )\n",
      "print 'Phase value of induced e.m.f is %.2f V '%(E_ph)\n",
      "E_line = math.sqrt(3) * math.sqrt( E_1ph**2 + E_5ph**2  )\t\t\t#no 3rd harmonic appears in line value\n",
      "print 'line value of induced e.m.f is %.2f V '%(E_line)\n",
      "\n",
      "print 'Answer mismatches due to approximation'\n"
     ],
     "language": "python",
     "metadata": {},
     "outputs": [
      {
       "output_type": "stream",
       "stream": "stdout",
       "text": [
        "Phase value of induced e.m.f is 1711.94 V \n",
        "line value of induced e.m.f is 2916.65 V \n",
        "Answer mismatches due to approximation\n"
       ]
      }
     ],
     "prompt_number": 17
    },
    {
     "cell_type": "heading",
     "level": 2,
     "metadata": {},
     "source": [
      "Example 4.13 page no : 47"
     ]
    },
    {
     "cell_type": "code",
     "collapsed": false,
     "input": [
      "import math \n",
      "\n",
      "# Variables\n",
      "Pole = 16.\n",
      "phi = 0.03 \t\t\t#flux per pole\n",
      "Ns = 375. \t\t\t#synchronous speed in rpm\n",
      "\n",
      "# Calculations and Results\n",
      "f = Ns*Pole/120 \t\t\t#frequency\n",
      "print 'frequency is %.0f Hz '%(f)\n",
      "Slots = 144\n",
      "n = Slots/Pole  \t\t\t#slots per pole\n",
      "m = n/3 \t\t\t#slots per pole per phase\n",
      "beeta = 180/n  \t\t\t#slot angle\n",
      "K_c = 1 \t\t\t#assuming Full-Pitch coil\n",
      "Conductors_per_slot = 10\n",
      "K_d = math.sin(math.radians(m*beeta/2)) /(m*math.sin(math.radians(beeta/2)))  \t\t\t#distribution factor\n",
      "\n",
      "Total_conductors = Slots*Conductors_per_slot\n",
      "Total_turns = Total_conductors/2\n",
      "T_ph = Total_turns/3  \t\t\t#turns per phase\n",
      "E_ph = 4.44* K_c* K_d*phi* f* T_ph\n",
      "E_line = E_ph*math.sqrt(3)\n",
      "print 'line voltage is %.2f V '%(E_line)\n",
      "\n",
      "# note : rounding off error."
     ],
     "language": "python",
     "metadata": {},
     "outputs": [
      {
       "output_type": "stream",
       "stream": "stdout",
       "text": [
        "frequency is 50 Hz \n",
        "line voltage is 2657.20 V \n"
       ]
      }
     ],
     "prompt_number": 19
    },
    {
     "cell_type": "heading",
     "level": 2,
     "metadata": {},
     "source": [
      "Example 4.14 page no : 48"
     ]
    },
    {
     "cell_type": "code",
     "collapsed": false,
     "input": [
      "import math \n",
      "\n",
      "# Variables\n",
      "Ns = 250. \t\t\t#Speed in rpm\n",
      "f = 50. \t\t\t#frequency\n",
      "I_l = 100.\n",
      "Slots = 216.\n",
      "Conductors_per_slot = 5\n",
      "Pole = 120.*f/Ns\n",
      "phi = 30.*10**-3\t\t\t#flux per pole in weber\n",
      "Z = Slots*Conductors_per_slot  \t\t\t#Total Conductors\n",
      "Z_ph = Z/3 \t\t\t#conductors per phase\n",
      "T_ph = Z_ph/2 \t\t\t#turns per phase\n",
      "n = Slots/Pole \t\t\t#slots per pole\n",
      "m = n/3 \t\t\t#slots per pole per phase\n",
      "beeta = 180./n \t\t\t#Slot angle\n",
      "\n",
      "# Calculations\n",
      "K_d = math.sin(math.radians(m*beeta/2)) /(m*math.sin(math.radians(beeta/2))) \t\t\t#distribution factor\n",
      "\n",
      "e_av = 2*f*phi     \t\t\t#Average Value of EMF in each conductor\n",
      "E_c = 1.11*(2*f*phi)  \t\t\t#RMS value of EMF in each conductor\n",
      "E = 2*E_c*K_d \t\t\t#RMS value of EMF in each turn\n",
      "E_ph = T_ph*E \t\t\t#RMS value of EMF in each phase\n",
      "E_line =  E_ph*math.sqrt(3)  \t\t\t#As Star Connected Alternator\n",
      "\n",
      "# Results\n",
      "print 'RMS value of EMF in each phase  =  %.3f V'%(E_ph)\n",
      "print 'RMS value of EMF line value   =  %.3f V'%(E_line)\n",
      "kVA_rating = math.sqrt(3)*E_line*I_l\n",
      "print 'kVA rating is %.3f kVA '%(kVA_rating/1000)\n"
     ],
     "language": "python",
     "metadata": {},
     "outputs": [
      {
       "output_type": "stream",
       "stream": "stdout",
       "text": [
        "RMS value of EMF in each phase  =  1150.602 V\n",
        "RMS value of EMF line value   =  1992.902 V\n",
        "kVA rating is 345.181 kVA \n"
       ]
      }
     ],
     "prompt_number": 20
    },
    {
     "cell_type": "heading",
     "level": 2,
     "metadata": {},
     "source": [
      "Example 4.15 page no : 50"
     ]
    },
    {
     "cell_type": "code",
     "collapsed": false,
     "input": [
      "import math \n",
      "\n",
      "# Variables\n",
      "Pole = 10.\n",
      "Slots = 90.\n",
      "E_l = 11000.\n",
      "f = 50.\n",
      "phi = 0.15 \t\t\t#flux per pole in weber\n",
      "n = Slots/Pole \t\t\t#slots per pole\n",
      "m = n/3 \t\t\t#slots per pole per phase\n",
      "beeta = 180/n \t\t\t#slot angle\n",
      " \n",
      "# Calculations \n",
      "K_d = math.sin(math.radians(m*beeta/2)) /(m*math.sin(math.radians(beeta/2))) \t\t\t#distribution factor\n",
      "K_c = 1 \t\t\t#coil span factor\n",
      "\n",
      "E_ph = E_l/math.sqrt(3)\n",
      "T_ph = ( E_ph/(4.44*K_c*K_d*phi*f)  )\n",
      "#T_ph should necessarily be an integer\n",
      "Z_ph = (T_ph)*2  \n",
      "\n",
      "# Results\n",
      "print 'Required number of armature conductors is %d'%(Z_ph)\n",
      "\n",
      "# note : rounding off error."
     ],
     "language": "python",
     "metadata": {},
     "outputs": [
      {
       "output_type": "stream",
       "stream": "stdout",
       "text": [
        "Required number of armature conductors is 397\n"
       ]
      }
     ],
     "prompt_number": 22
    },
    {
     "cell_type": "heading",
     "level": 2,
     "metadata": {},
     "source": [
      "Example 4.16 page no : 50"
     ]
    },
    {
     "cell_type": "code",
     "collapsed": false,
     "input": [
      "import math \n",
      "\n",
      "# Variables\n",
      "Pole = 10.\n",
      "Ns = 600. \t\t\t#speen in rpm\n",
      "conductor_per_slot = 8.\n",
      "n = 12. \t\t\t#slots per pole\n",
      "Slots = Pole*n \n",
      "m = n/3 \t\t\t#slots per pole per phase \n",
      "beeta = 180/n \t\t\t#slot angle\n",
      "alpha = 2*beeta  \t\t\t#short by 2 slots\n",
      "\n",
      "#flux per pole corresponding to 1st 3rd and 5th harmonic\n",
      "phi_1 = 100*10**-3\n",
      "phi_3 = (33./100)*phi_1\n",
      "phi_5 = (20./100)*phi_1\n",
      "\n",
      "#coil span factor corresponding to 1st 3rd and 5th harmonic\n",
      "K_c1 = math.cos(math.radians( alpha/2))\n",
      "K_c3 = math.cos(math.radians( 3*alpha/2))\n",
      "K_c5 = math.cos(math.radians( 5*alpha/2))\n",
      "\n",
      "# using K_dx = math.sin(m*x*beeta /2) /(m*math.sin(x*beeta /2))\n",
      "#distribution factor corresponding to 1st 3rd and 5th harmonic\n",
      "K_d1 = math.sin(math.radians(m*1*beeta/2)) /(m*math.sin(math.radians(1*beeta /2)))\n",
      "K_d3 = math.sin(math.radians(m*3*beeta/2)) /(m*math.sin(math.radians(3*beeta /2)))\n",
      "K_d5 = math.sin(math.radians(m*5*beeta/2)) /(m*math.sin(math.radians(5*beeta /2)))\n",
      "\n",
      "Z = conductor_per_slot*n*Pole    \t\t\t#Total Conductors\n",
      "Zph = Z/3 \t\t\t#conductors per phase\n",
      "T_ph = Zph/2 \t\t\t#turns per phase\n",
      "\n",
      "f = Ns*Pole/120\n",
      "E_1ph = 4.44*K_c1*K_d1*phi_1*f*T_ph\n",
      "E_3ph = 4.44*K_c3*K_d3*phi_3*f*T_ph\n",
      "E_5ph = 4.44*K_c5*K_d5*phi_5*f*T_ph\n",
      "\n",
      "E_ph = math.sqrt( E_1ph**2 +  E_3ph**2 + E_5ph**2     )\n",
      "\n",
      "# Results\n",
      "print 'Phase value of induced e.m.f is %.0f V '%(E_ph)\n",
      "E_line = math.sqrt(3)*math.sqrt( E_1ph**2 +  E_5ph**2     )  \t\t\t#In a line value 3rd harmonic doesnt appear\n",
      "print 'line value of induced e.m.f is %d V '%(E_line)\n",
      "\n",
      "# note : rounding off error."
     ],
     "language": "python",
     "metadata": {},
     "outputs": [
      {
       "output_type": "stream",
       "stream": "stdout",
       "text": [
        "Phase value of induced e.m.f is 3330 V \n",
        "line value of induced e.m.f is 5691 V \n"
       ]
      }
     ],
     "prompt_number": 25
    },
    {
     "cell_type": "heading",
     "level": 2,
     "metadata": {},
     "source": [
      "Example 4.17 page no : 52"
     ]
    },
    {
     "cell_type": "code",
     "collapsed": false,
     "input": [
      "import math \n",
      "\n",
      "# Variables\n",
      "Pole = 6.\n",
      "Ns = 1000.   \t\t\t#speed in rpm\n",
      "d = 28./100  \t\t\t#Divided by 100 to convert from centimeters to metres\n",
      "l = 23./100  \t\t\t#Divided by 100 to convert from centimeters to metres\n",
      "m = 4.   \t    \t\t#slots per pole per phase\n",
      "B_m1 = 0.87  \t\t\t#amplitude of 1st harmonic component of flux density\n",
      "B_m3 = 0.24  \t\t\t#amplitude of 3rd harmonic component of flux density\n",
      "Conductors_per_slot = 8\n",
      "f = Ns*Pole/120 \t\t\t#frequency\n",
      "A1 = math.pi*d*l/Pole \t\t\t#area of each fundamental pole\n",
      "phi_1 = (2/math.pi)*A1*B_m1 \t\t\t#flux per pole in weber\n",
      "n = m*3 \t\t    \t#slots per pole\n",
      "beeta = 180/n \t\t\t#slot angle\n",
      "alpha = beeta  \t\t\t#because of 1 slot short\n",
      "\n",
      "# Calculations\n",
      "K_c1 = math.cos(math.radians(alpha/2)) \t\t\t#coil span factor corresponding to 1st harmonic\n",
      "K_c3 = math.cos(math.radians(3*alpha/2))\t\t\t#coil span factor corresponding to 3rd harmonic\n",
      "# using K_dx = math.sin(m*x*beeta*(math.pi/180)/2) /(m*math.sin(x*beeta*(math.pi/180)/2))\n",
      "K_d1 = math.sin(math.radians(m*1*beeta/2)) /(m*math.sin(math.radians(1*beeta/2))) \t\t\t#distribution factor corresponding to 1st harmonic\n",
      "K_d3 = math.sin(math.radians(m*3*beeta/2)) /(m*math.sin(math.radians(3*beeta/2))) \t\t\t#distribution factor corresponding to 3rd harmonic\n",
      "\n",
      "Slots = n*Pole\n",
      "Z = Slots*Conductors_per_slot \t\t\t#total number of conductors\n",
      "Z_ph = Z/3 \t\t\t#conductors per phase\n",
      "T_ph = Z_ph/2 \t\t\t#turns per phase\n",
      "\n",
      "E_1ph = 4.44*K_c1*K_d1*phi_1*f*T_ph\n",
      "E_3ph = E_1ph* (B_m3*K_c3*K_d3)/(B_m1*K_c1*K_d1)      \t\t\t#using E_xph = E_1ph* (B_mx*K_cx*K_dx)/(B_m1*K_c1*K_d1)\n",
      "E_ph = math.sqrt( E_1ph**2 +  E_3ph**2     )\n",
      "print 'r.m.s value of resultant voltage is %.1f V'%(E_ph)\n",
      "E_line = math.sqrt(3)*E_1ph   \t\t\t#For line Value 3rd harmonic does not appear\n",
      "print 'line voltage is %.3f V'%(E_line)\n"
     ],
     "language": "python",
     "metadata": {},
     "outputs": [
      {
       "output_type": "stream",
       "stream": "stdout",
       "text": [
        "r.m.s value of resultant voltage is 383.7 V\n",
        "line voltage is 654.560 V\n"
       ]
      }
     ],
     "prompt_number": 26
    },
    {
     "cell_type": "heading",
     "level": 2,
     "metadata": {},
     "source": [
      "Example 4.18 page no : 53"
     ]
    },
    {
     "cell_type": "code",
     "collapsed": false,
     "input": [
      "import math \n",
      "\n",
      "# Variables\n",
      "V_L = 125.\n",
      "V_ph = V_L\n",
      "VA = 600.*10**3\n",
      "I_L = VA/(math.sqrt(3)*V_L)     \t\t\t# Because VA = math.sqrt(3)* V_L * I_L\n",
      "I_ph = I_L/(math.sqrt(3))\n",
      "\n",
      "# Calculations and Results\n",
      "#After Reconnection\n",
      "V_ph = 125\n",
      "V_L = V_ph*math.sqrt(3)\n",
      "print 'New rating in volts is %.3f V'%(V_L)\n",
      "#Winding Impedances remain the same\n",
      "I_ph = 1600\n",
      "I_L = I_ph\n",
      "\n",
      "print 'New rating in amperes is %.0f A'%(I_L)\n",
      "kVA = math.sqrt(3)*V_L*I_L*(10**-3)\n",
      "print 'New rating in kVA is %.0f kVA'%(kVA)\n"
     ],
     "language": "python",
     "metadata": {},
     "outputs": [
      {
       "output_type": "stream",
       "stream": "stdout",
       "text": [
        "New rating in volts is 216.506 V\n",
        "New rating in amperes is 1600 A\n",
        "New rating in kVA is 600 kVA\n"
       ]
      }
     ],
     "prompt_number": 27
    },
    {
     "cell_type": "heading",
     "level": 2,
     "metadata": {},
     "source": [
      "Example 4.19 page no : 55"
     ]
    },
    {
     "cell_type": "code",
     "collapsed": false,
     "input": [
      "import math \n",
      "\n",
      "# Variables\n",
      "Pole = 4.\n",
      "f = 50. \t\t\t#frequency\n",
      "phi = 0.12 \t\t\t#flux per pole in weber\n",
      "m = 4.  \t\t\t# slot per pole per phase\n",
      "conductor_per_slot = 4.\n",
      "coilspan = 150.\n",
      "Ns = 120*f/Pole \t\t\t#synchronous speed in rpm\n",
      "n = m*3  \t    \t\t#Slots per pole\n",
      "beeta = 180/n \t\t\t#slot angle\n",
      "\n",
      "# Calculations\n",
      "K_d = math.sin(math.radians(m*beeta/2)) /(m*math.sin(math.radians(beeta/2))) \t\t\t# distribution factor\n",
      "alpha = 180-coilspan \t\t\t#angle of short pitch\n",
      "K_c = math.cos((math.pi/180)*alpha/2) \t\t\t#coil span factor\n",
      "Z = m*(n*Pole) \t\t\t# Also equal to (conductors/slots)*slots\n",
      "Z_ph = Z/3 \t\t\t#conductors per phase\n",
      "T_ph = Z_ph/2 \t\t\t#turns per phase\n",
      "E_ph = 4.44*K_c*K_d*phi*f*T_ph\n",
      "E_line = math.sqrt(3)*E_ph\n",
      "\n",
      "# Results\n",
      "print 'e.m.f generated is %.2f Vphase, %.2f Vline)'%(E_ph,E_line)\n"
     ],
     "language": "python",
     "metadata": {},
     "outputs": [
      {
       "output_type": "stream",
       "stream": "stdout",
       "text": [
        "e.m.f generated is 788.57 Vphase, 1365.84 Vline)\n"
       ]
      }
     ],
     "prompt_number": 28
    }
   ],
   "metadata": {}
  }
 ]
}