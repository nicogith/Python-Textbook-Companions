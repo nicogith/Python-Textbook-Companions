{
 "metadata": {
  "name": "",
  "signature": "sha256:19909d6eede67a544640ad0d428f3fdc9bcbea2eb33090ca90ae171a5a4991eb"
 },
 "nbformat": 3,
 "nbformat_minor": 0,
 "worksheets": [
  {
   "cells": [
    {
     "cell_type": "heading",
     "level": 1,
     "metadata": {},
     "source": [
      "Chapter 3 : Testing of D C Machines"
     ]
    },
    {
     "cell_type": "heading",
     "level": 2,
     "metadata": {},
     "source": [
      "Example 3.1 page no : 5"
     ]
    },
    {
     "cell_type": "code",
     "collapsed": false,
     "input": [
      "import math \n",
      "\n",
      "# Variables\n",
      "Pole = 6.\n",
      "V = 500.\n",
      "A = 2. \t\t\t#because of wave wound armature\n",
      "Z = 1200. \t\t\t#number of armature conductors\n",
      "phi = 20.*10**-3 \t\t\t#useful flux per pole\n",
      "Ra = 0.5 \n",
      "Rsh = 250.  \t\t\t#armature and field resistance\n",
      "Il = 20. \t\t\t#current drawn from supply\n",
      "mechanical_losses = 900.\n",
      "Ish = V/Rsh\n",
      "Ia = Il-Ish\n",
      "Eb = V-Ia*Ra  \t\t\t#because V = Eb+Ia*Ra\n",
      "N = Eb*60*A/(phi*Pole*Z)   \t\t\t#Eb = phi*Pole*N*Z/(60*A)\n",
      "\n",
      "# Calculations\n",
      "P_m = Eb*Ia  \t\t\t#Electrical equivalent of mechanical power\n",
      "omega = 2*math.pi*N/60\n",
      "Tg = P_m/omega\n",
      "\n",
      "P_out = P_m-mechanical_losses\n",
      "T_sh = P_out/omega  \t\t\t#Useful torque\n",
      "P_in = V*Il\n",
      "percentage_efficiency = 100*P_out/P_in\n",
      "\n",
      "# Results\n",
      "print 'Speed developed is %.3f r.p.m \\\n",
      "\\nTorque developed is %.2f N-m  \\\n",
      "\\nUseful torque is %.2f N-m \\\n",
      "\\nEfficiency is %.2f percent'%(N,Tg,T_sh,percentage_efficiency)\n"
     ],
     "language": "python",
     "metadata": {},
     "outputs": [
      {
       "output_type": "stream",
       "stream": "stdout",
       "text": [
        "Speed developed is 409.167 r.p.m \n",
        "Torque developed is 206.26 N-m  \n",
        "Useful torque is 185.26 N-m \n",
        "Efficiency is 79.38 percent\n"
       ]
      }
     ],
     "prompt_number": 1
    },
    {
     "cell_type": "heading",
     "level": 2,
     "metadata": {},
     "source": [
      "Example 3.2 page no : 10"
     ]
    },
    {
     "cell_type": "code",
     "collapsed": false,
     "input": [
      "import math \n",
      "\n",
      "# Variables\n",
      "#no load\n",
      "I_noload = 2.5 \t\t\t#No load current\n",
      "V = 440.\n",
      "R_a = 1.2\n",
      "R_sh = 550.\t\t\t#resistance of armature and shunt field windings\n",
      "no_load_input = V*I_noload\n",
      "\n",
      "# Calculations\n",
      "I_sh = V/R_sh\n",
      "I_a_noload = I_noload-I_sh\n",
      "no_load_armature_copper = (I_a_noload**2)*R_a\n",
      "constant_losses = no_load_input-no_load_armature_copper\n",
      "\n",
      "#full load\n",
      "I_fullload = 32\n",
      "I_a_fullload = I_fullload-I_sh\n",
      "full_load_armature_coppe = (I_a_fullload**2)*R_a\n",
      "total_losses = full_load_armature_coppe+constant_losses\n",
      "full_load_motor_input = V*I_fullload\n",
      "full_load_motor_output = full_load_motor_input-total_losses\n",
      "efficiency_at_full_load = full_load_motor_output*100/full_load_motor_input\n",
      "\n",
      "# Results\n",
      "print 'Full load motor output is %.2f W \\\n",
      "\\nEfficiency of motor at full-load is %.2f percent'%(full_load_motor_output,efficiency_at_full_load)\n"
     ],
     "language": "python",
     "metadata": {},
     "outputs": [
      {
       "output_type": "stream",
       "stream": "stdout",
       "text": [
        "Full load motor output is 11815.34 W \n",
        "Efficiency of motor at full-load is 83.92 percent\n"
       ]
      }
     ],
     "prompt_number": 2
    },
    {
     "cell_type": "heading",
     "level": 2,
     "metadata": {},
     "source": [
      "Example 3.3 page no : 11"
     ]
    },
    {
     "cell_type": "code",
     "collapsed": false,
     "input": [
      "import math \n",
      "from numpy import roots\n",
      "\n",
      "# Variables\n",
      "#no load\n",
      "I = 14. \t\t\t#input current\n",
      "V = 230.\n",
      "power_output_FL  =  45.*10**3\n",
      "power_input = V*I\n",
      "I_sh = 2.55 \t\t\t#field current\n",
      "R_a = 0.032 \t\t\t#armature resistance\n",
      "I_a = I-I_sh\n",
      "cu_loss_NL  =  I_a**2*R_a \t\t\t#no load copper loss\n",
      "brush_loss = 2*I_a\n",
      "constant_loss =  power_input - cu_loss_NL - brush_loss\n",
      "\n",
      "# Calculations and Results\n",
      "#full load\n",
      "#I = I_a+ 2.55\n",
      "#Motor input =  Motor output + constant loss + brush loss + cu loss\n",
      "# solving for I_a I_a**2 - 7125 I_a + 1487700.3  = 0\n",
      "p = [1, -7125, 1487700.3]\n",
      "ans = roots(p)\n",
      "I_a = ans[1] \t\t\t#ignoring second root as its too large\n",
      "I = I_a+I_sh\n",
      "print 'Full load current is %.2f A'%(I)\n",
      "power_input = V*I\n",
      "eta = 100*(power_output_FL/power_input)\n",
      "print 'Efficiency at full load is %.2f percent'%(eta)\n"
     ],
     "language": "python",
     "metadata": {},
     "outputs": [
      {
       "output_type": "stream",
       "stream": "stdout",
       "text": [
        "Full load current is 217.86 A\n",
        "Efficiency at full load is 89.81 percent\n"
       ]
      }
     ],
     "prompt_number": 1
    },
    {
     "cell_type": "heading",
     "level": 2,
     "metadata": {},
     "source": [
      "Example 3.4 page no : 14"
     ]
    },
    {
     "cell_type": "code",
     "collapsed": false,
     "input": [
      "import math \n",
      "\n",
      "\n",
      "# Variables\n",
      "W1 = 9.1  \t\t\t#Tension on tight side\n",
      "W2 = 0.8  \t\t\t#Tension on slack side\n",
      "I = 10.    \t\t\t#Total_current\n",
      "V = 110.   \t\t\t#Supply voltage\n",
      "R = 7.5/100   \t\t\t#Radius of p-ulley in metres\n",
      "N = 1320.     \t\t\t#speed in r.p.m\n",
      "\n",
      "# Calculations\n",
      "T_sh = (W1-W2)*9.81*R   \t\t\t#9.81 is the accelration due to gravity\n",
      "omega = (2*math.pi*N/60)\n",
      "P_out = T_sh*omega\n",
      "P_in = V*I\n",
      "\n",
      "efficiency = 100*P_out/P_in\n",
      "\n",
      "# Results\n",
      "print 'Full load Efficiency is %.2f percent'%(efficiency)\n"
     ],
     "language": "python",
     "metadata": {},
     "outputs": [
      {
       "output_type": "stream",
       "stream": "stdout",
       "text": [
        "Full load Efficiency is 76.74 percent\n"
       ]
      }
     ],
     "prompt_number": 4
    },
    {
     "cell_type": "heading",
     "level": 2,
     "metadata": {},
     "source": [
      "Example 3.5 page no : 17"
     ]
    },
    {
     "cell_type": "code",
     "collapsed": false,
     "input": [
      "import math \n",
      "\n",
      "# Variables\n",
      "V = 250.\n",
      "I_av = 10.\n",
      "V_av = (240.+220)/2 \t\t\t#average voltage across load\n",
      "W_dash = V_av*I_av  \t\t\t#Power absorbed\n",
      "t1 = 25.\n",
      "t2 = 6.\n",
      "R_sh = 200.\n",
      "R_a = 0.3\t\t\t#resistance of field winding and armature \n",
      "\n",
      "# Calculations\n",
      "W = W_dash*t2/(t1-t2)   \t\t\t#Stray Losses\n",
      "I_l = 25 \t\t\t#Input current\n",
      "I_sh = V/R_sh \t\t\t#current through field winding\n",
      "\n",
      "I_a = I_l-I_sh   \t\t\t#Armature current\n",
      "arm_cu_loss = R_a*I_a**2  \t\t\t#Armature copper losses\n",
      "sh_cu_loss = R_sh*I_sh**2 \t\t\t# Shunt copper loss\n",
      "\n",
      "Total_losses =  arm_cu_loss + sh_cu_loss + W\n",
      "Motor_input = V*I_l\n",
      "Output = Motor_input- Total_losses\n",
      "efficiency = Output*100/Motor_input\n",
      "\n",
      "# Results\n",
      "print 'Efficiency as motor at 25 A and 250 V is %.2f percent'%(efficiency)\n"
     ],
     "language": "python",
     "metadata": {},
     "outputs": [
      {
       "output_type": "stream",
       "stream": "stdout",
       "text": [
        "Efficiency as motor at 25 A and 250 V is 80.67 percent\n"
       ]
      }
     ],
     "prompt_number": 5
    },
    {
     "cell_type": "heading",
     "level": 2,
     "metadata": {},
     "source": [
      "Example 3.6 page no : 22"
     ]
    },
    {
     "cell_type": "code",
     "collapsed": false,
     "input": [
      "\n",
      "\n",
      "# Variables\n",
      "I_a = 37.\n",
      "I_sh = 0.85\t\t\t#armature and field current for motor\n",
      "V = 230.\n",
      "R_a = 0.33 \t\t\t#armature resistance\n",
      "\n",
      "I_a_g = 30.\n",
      "I_sh_g = 0.8\t\t\t#armature and field current for generator\n",
      "\n",
      "\n",
      "# Calculations and Results\n",
      "#for motor\n",
      "arm_cu_loss =  I_a**2* R_a   \t\t\t#armature copper losses\n",
      "field_cu_loss = V*I_sh  \t\t\t#field copper loss\n",
      "total_cu_loss =  field_cu_loss + arm_cu_loss \t\t\t#total copper loss \n",
      "\n",
      "#for generator\n",
      "arm_cu_loss_g =  I_a_g**2* R_a   \t\t\t#armature copper losses\n",
      "field_cu_loss_g = V*I_sh_g  \t\t\t#field copper loss\n",
      "total_cu_loss_g =  field_cu_loss_g + arm_cu_loss_g \t\t\t#total copper loss\n",
      "\n",
      "#for motor-generator set\n",
      "total_cu_loss_set =    total_cu_loss_g + total_cu_loss\n",
      "P_supply = V*(I_a - I_a_g + I_sh+ I_sh_g ) \t\t\t#power taken from supply\n",
      "stray_loss =  P_supply - (total_cu_loss_g + total_cu_loss) \n",
      "stray_loss_each =   stray_loss/2   \t\t\t#stray loss for each machine\n",
      "\n",
      "#efficiency of motor\n",
      "motor_input  =  V*(I_a+I_sh)\n",
      "motor_output  =   motor_input - (stray_loss_each + total_cu_loss)\n",
      "eta_m =   100* motor_output/motor_input \t\t\t#efficiency of motor\n",
      "print 'Efficiency of motor is %.2f percent '%(eta_m)\n",
      "#efficiency of generator\n",
      "generator_input  =  motor_output   \t\t\t#output of motor is input of generator\n",
      "generator_output  =   generator_input - (stray_loss_each + total_cu_loss_g)\n",
      "eta_g =   100* generator_output/generator_input \t\t\t#efficiency of generator\n",
      "print 'Efficiency of generator is %.2f percent '%(eta_g)\n"
     ],
     "language": "python",
     "metadata": {},
     "outputs": [
      {
       "output_type": "stream",
       "stream": "stdout",
       "text": [
        "Efficiency of motor is 87.62 percent \n",
        "Efficiency of generator is 88.05 percent \n"
       ]
      }
     ],
     "prompt_number": 6
    },
    {
     "cell_type": "heading",
     "level": 2,
     "metadata": {},
     "source": [
      "Example 3.7 page no : 25"
     ]
    },
    {
     "cell_type": "code",
     "collapsed": false,
     "input": [
      "import math \n",
      "\n",
      "# Variables\n",
      "I_1 = 400. \t\t\t#motor input current\n",
      "V = 200.  \t\t\t#voltage across armature\n",
      "I_2 = 32.  \t\t\t#load current\n",
      "V_2 = 160.  \t\t\t#voltage across generator\n",
      "V_f = 15. \t\t\t#voltage drop across field windings\n",
      "total_input  =  (V+V_f)*I_1  \n",
      "Output = V_2*I_2\n",
      "total_losses  =  total_input-Output   \t\t\t#total losses in 2 machines\n",
      "\n",
      "# Calculations and Results\n",
      "R_se = V_f/I_1   \t\t\t#series field resistance\n",
      "R_a = 0.4 \t\t\t# armature field resistance\n",
      "\n",
      "total_cu_loss = (R_a + 2*R_se) * I_1**2 + I_2**2*R_a \t\t\t#total copper loss\n",
      "stray_losses  =   total_losses -  total_cu_loss\n",
      "stray_losses_each  = stray_losses /2 \t\t\t#stray losses for each machine\n",
      "\n",
      "#for motor\n",
      "motor_input =  V*I_1\n",
      "arm_cu_loss =  (R_a + R_se)*I_1*I_1 \t\t\t#armature copper loss\n",
      "total_losses_motor  =  arm_cu_loss +  stray_losses_each \n",
      "motor_output =  motor_input- total_losses_motor\n",
      "eta_m = 100*motor_output/motor_input \t\t\t#efficiency of motor\n",
      "print 'Efficiency of motor is %.2f percent '%(eta_m)\n",
      "#for generator\n",
      "arm_cu_loss_gen = R_a*I_2**2 \t\t\t#armature copper loss\n",
      "series_field_cu_loss  =  V_f*I_1 \t\t\t#series field copper loss\n",
      "total_losses_gen =  arm_cu_loss_gen +  series_field_cu_loss + stray_losses_each \n",
      "generator_input  =  total_losses_gen+ Output\n",
      "eta_gen = 100*Output/generator_input \t\t\t#efficiency of generator\n",
      "print 'Efficiency of generator is %.2f percent'%(eta_gen)\n",
      "\n",
      "\n",
      "#Note : 'Answer dont match because Output-of-generator is taken as 5220 for calculation while its should have been 5120'\n"
     ],
     "language": "python",
     "metadata": {},
     "outputs": [
      {
       "output_type": "stream",
       "stream": "stdout",
       "text": [
        "Efficiency of motor is 9.71 percent \n",
        "Efficiency of generator is 37.20 percent\n"
       ]
      }
     ],
     "prompt_number": 7
    },
    {
     "cell_type": "heading",
     "level": 2,
     "metadata": {},
     "source": [
      "Example 3.8 page no : 27"
     ]
    },
    {
     "cell_type": "code",
     "collapsed": false,
     "input": [
      "\n",
      "# Variables\n",
      "V = 500.\n",
      "Io = 5. \t\t\t#no load current\n",
      "R_a = 0.5\n",
      "R_sh = 250.\t\t\t#resistance of armature and field circuits\n",
      "I = 100. \t\t\t#current at unknown efficiency\n",
      "\n",
      "# Calculations\n",
      "P_in_NL = V*Io  \t\t\t#no load input\n",
      "I_sh = V/R_sh\n",
      "\n",
      "Iao = Io-I_sh\n",
      "arm_cu_loss_no_load = R_a*Iao**2  \t\t\t#No load armature copper loss\n",
      "constant_losses =  P_in_NL- arm_cu_loss_no_load\n",
      "\n",
      "I_a = I-I_sh\n",
      "arm_cu_loss =  R_a*I_a**2  \t\t\t#New armature copper loss\n",
      "\n",
      "Total_loss = arm_cu_loss + constant_losses\n",
      "P_in = V*I\n",
      "efficiency = (P_in-Total_loss)*100/P_in \t\t\t#required efficiency\n",
      "\n",
      "\n",
      "# Results\n",
      "print 'Efficiency is %.3f percent when motor takes %.0f A current'%(efficiency,I)\n"
     ],
     "language": "python",
     "metadata": {},
     "outputs": [
      {
       "output_type": "stream",
       "stream": "stdout",
       "text": [
        "Efficiency is 85.405 percent when motor takes 100 A current\n"
       ]
      }
     ],
     "prompt_number": 8
    },
    {
     "cell_type": "heading",
     "level": 2,
     "metadata": {},
     "source": [
      "Example 3.9 page no : 28"
     ]
    },
    {
     "cell_type": "code",
     "collapsed": false,
     "input": [
      "import math \n",
      "\n",
      "# Variables\n",
      "V = 500.  \n",
      "I_NL = 5.  \t\t\t#no load current \n",
      "P_in_NL  =  V* I_NL   \t\t\t#no load input\n",
      "R_a = 0.22\n",
      "R_sh = 250. \t\t\t#resistance of armature and shunt field winding\n",
      "I_sh = V/R_sh\n",
      "I_a_NL = I_NL-I_sh \t\t\t#armature current no load\n",
      "arm_cu_loss_NL  =  R_a*I_a_NL**2  \t\t\t#No-load armature copper loss\n",
      "constant_loss  =   P_in_NL -  arm_cu_loss_NL\n",
      "\n",
      "# Calculations and Results\n",
      "#at 100 A current\n",
      "I = 100.\n",
      "I_a  =  I - I_sh\n",
      "arm_cu_loss  =   R_a*I_a**2 \t\t\t#armature copper loss\n",
      "total_loss  =  arm_cu_loss +  constant_loss \n",
      "motor_input  =  V*I\n",
      "motor_output  =   motor_input- total_loss\n",
      "eta_m =  100*motor_output/motor_input  \t\t\t#motor efficiency\n",
      "print 'Parta)Efficiency of motor when it takes 100 A current and loaded is %.2f percent'%(eta_m)\n",
      "\n",
      "#part(b)\n",
      "E_b_NL  =  V - I_a_NL*R_a   \t\t\t#back emf at no load\n",
      "\n",
      "E_b  =  V- I_a*R_a  \t\t\t#back EMF at 100 A current\n",
      "#Since E_b is proportional to N and using componendo dividendo\n",
      "delta_speed =  100*((E_b_NL-E_b)/E_b)\n",
      "print 'Partb)Percentage speed in speed is %.3f percent'%(delta_speed)\n",
      "\n",
      "print 'Note that the following were assumptions made'\n",
      "print 'i) Due to heating %( resistance of shunt field winding will be increased which will reduce the shunt field current.This will decrease the flux which is neglected'\n",
      "print 'ii) Though the motor speed is changing from no load to given load , the mechanical losses are assumed to be cosnstant'\n",
      "print 'iiiThe effect of armature reaction aon main pole flux and its effect on iron loss is neglected'\n"
     ],
     "language": "python",
     "metadata": {},
     "outputs": [
      {
       "output_type": "stream",
       "stream": "stdout",
       "text": [
        "Parta)Efficiency of motor when it takes 100 A current and loaded is 90.78 percent\n",
        "Partb)Percentage speed in speed is 4.368 percent\n",
        "Note that the following were assumptions made\n",
        "i) Due to heating %( resistance of shunt field winding will be increased which will reduce the shunt field current.This will decrease the flux which is neglected\n",
        "ii) Though the motor speed is changing from no load to given load , the mechanical losses are assumed to be cosnstant\n",
        "iiiThe effect of armature reaction aon main pole flux and its effect on iron loss is neglected\n"
       ]
      }
     ],
     "prompt_number": 9
    },
    {
     "cell_type": "heading",
     "level": 2,
     "metadata": {},
     "source": [
      "Example 3.10 page no : 30"
     ]
    },
    {
     "cell_type": "code",
     "collapsed": false,
     "input": [
      "import math \n",
      "\n",
      "# Variables\n",
      "motor_output_FL  = 15000. \t\t\t#full load motor output\n",
      "V = 250.\n",
      "R_sh = 100.\n",
      "\n",
      "# Calculations\n",
      "#at 80 % of full load\n",
      "motor_output_FL_dash = (80./100)*motor_output_FL  \t\t\t#80 percent of full load output\n",
      "eta = 90./100 \t\t\t#efficiency\n",
      "motor_input = motor_output_FL_dash/eta\n",
      "total_losses  =  motor_input - motor_output_FL_dash   \t\t\t#at 80 % of full load\n",
      "#at maximum efficiency variable losses  =  constant losses\n",
      "constant_losses =  total_losses/2\n",
      "variable_losses =  constant_losses\n",
      "I =  motor_input/V \t\t\t#line current at 80% load\n",
      "I_sh =  V/ R_sh\n",
      "I_a =  I- I_sh\n",
      "#math.since armature copper loss  = R_a*I_a**2  \n",
      "R_a = variable_losses/I_a**2\n",
      "E_b1 = V-I_a*R_a \t\t\t#motor back EMF at 80% of full load\n",
      "N_1 = 750. \t\t\t# corresponding speed is given as 750 rpm\n",
      "\n",
      "#When motor current is 80 A\n",
      "I = 80.\n",
      "I_a = I-I_sh\n",
      "arm_cu_losses =  R_a*I_a**2  \t\t\t#armature copper loss\n",
      "total_losses  =   arm_cu_losses + constant_losses\n",
      "motor_input =  V*I\n",
      "motor_output  =  motor_input- total_losses\n",
      "eta = 100*motor_output/motor_input \t\t\t#efficiency of motor\n",
      "E_b2 = V-I_a*R_a \t\t\t#motor back EMF at 80% of full load\n",
      "N_2 = N_1*(E_b2/E_b1)  \t\t\t#because E_b is proportional to N\n",
      "\n",
      "# Results\n",
      "print 'Efficiency of motor is %.2f percent when motor draws 80A current'%(eta)\n",
      "print 'and Speed is %.2f r.p.m'%(N_2)\n"
     ],
     "language": "python",
     "metadata": {},
     "outputs": [
      {
       "output_type": "stream",
       "stream": "stdout",
       "text": [
        "Efficiency of motor is 88.92 percent when motor draws 80A current\n",
        "and Speed is 728.22 r.p.m\n"
       ]
      }
     ],
     "prompt_number": 10
    },
    {
     "cell_type": "heading",
     "level": 2,
     "metadata": {},
     "source": [
      "Example 3.11 page no : 32"
     ]
    },
    {
     "cell_type": "code",
     "collapsed": false,
     "input": [
      "import math \n",
      "\n",
      "# Variables\n",
      "V = 250.\n",
      "R_sh = 166.67\n",
      "R_a = 0.15 \t    \t\t#resistance of shunt field winding and armature\n",
      "N_0 = 1280. \t\t\t#in rpm\n",
      "I_L1 = 67.   \t\t\t#current drawn on full load\n",
      "I_sh =  V/ R_sh\n",
      "I_a1 = I_L1 - I_sh\n",
      "E_b1 = V-I_a1*R_a\n",
      "\n",
      "#on no load\n",
      "I_L0 = 6.5\n",
      "I_a0 =  I_L0 - I_sh\n",
      "E_b0 = V-I_a0*R_a\n",
      "\n",
      "# Calculations and Results\n",
      "#part (i)\n",
      "#using speed equation  N is proportional to E_b\n",
      "N_1 = N_0*(E_b1/E_b0)\n",
      "print 'i)Full load speed is %.3f r.p.m'%(N_1)\n",
      "\n",
      "#part (ii)\n",
      "speed_regulation = 100*((N_0-N_1)/N_1)\n",
      "print 'ii)Speed regulation is %.2f percent '%(speed_regulation)\n",
      "\n",
      "#part (iii)\n",
      "stray_losses  =  E_b0*I_a0  \t\t\t#mechanical power developed on no load\n",
      "power_developed_FL =  E_b1*I_a1 \n",
      "shaft_output_FL =  power_developed_FL - stray_losses \n",
      "hp_rating =  shaft_output_FL/746 \t\t\t#in horse power\n",
      "print 'iii)H.P rating of the machine Is %.2f H.P'%(hp_rating)\n",
      "\n",
      "#part (iv)\n",
      "power_input = V*I_L1\n",
      "eta = 100*(shaft_output_FL/power_input)  \t\t\t#efficiency at full load\n",
      "print 'iv)Efficiency at full load is %.2f percent'%(eta)\n"
     ],
     "language": "python",
     "metadata": {},
     "outputs": [
      {
       "output_type": "stream",
       "stream": "stdout",
       "text": [
        "i)Full load speed is 1233.396 r.p.m\n",
        "ii)Speed regulation is 3.78 percent \n",
        "iii)H.P rating of the machine Is 19.42 H.P\n",
        "iv)Efficiency at full load is 86.48 percent\n"
       ]
      }
     ],
     "prompt_number": 11
    },
    {
     "cell_type": "heading",
     "level": 2,
     "metadata": {},
     "source": [
      "Example 3.12 page no : 33"
     ]
    },
    {
     "cell_type": "code",
     "collapsed": false,
     "input": [
      "import math \n",
      "\n",
      "# Variables\n",
      "V = 200.\n",
      "R_sh = 240.\n",
      "R_a = 0.1 \t\t\t#resistance of shunt field winding and armature\n",
      "rotational_loss = 236.\n",
      "I_L_FL = 9.8  \t\t\t#full load line current\n",
      "N = 1450.\n",
      "I_sh = V/R_sh\n",
      "I_a_FL  =  I_L_FL - I_sh\n",
      "E_b =  V- I_a_FL * R_a\n",
      "\n",
      "# Calculations and Results\n",
      "#part(i)\n",
      "gross_mech_P_dev =  E_b*I_a_FL  \t\t\t#gross mechanical power developed\n",
      "mech_P_dev =  gross_mech_P_dev - rotational_loss \t\t\t#mechanical power developed\n",
      "print 'i)Gross mechanical power developed is %.2f W'%(gross_mech_P_dev )\n",
      "print '   Mechanical power developed is %.2f W'%(mech_P_dev )\n",
      "\n",
      "#part(ii)\n",
      "P_out = mech_P_dev \n",
      "print 'ii)The power output is %.2f W'%(P_out)\n",
      "\n",
      "#part(iii)\n",
      "T_sh = P_out*60/(2*math.pi*N)\n",
      "T_L = T_sh\n",
      "print 'iii)Load torque is %.2f N-m'%(T_L)\n",
      "\n",
      "#part(iv)\n",
      "P_in = V*I_L_FL\n",
      "eta = 100*P_out/P_in\n",
      "print 'iv)Efficiency at full load is %.2f percent'%(eta)\n"
     ],
     "language": "python",
     "metadata": {},
     "outputs": [
      {
       "output_type": "stream",
       "stream": "stdout",
       "text": [
        "i)Gross mechanical power developed is 1785.29 W\n",
        "   Mechanical power developed is 1549.29 W\n",
        "ii)The power output is 1549.29 W\n",
        "iii)Load torque is 10.20 N-m\n",
        "iv)Efficiency at full load is 79.05 percent\n"
       ]
      }
     ],
     "prompt_number": 12
    },
    {
     "cell_type": "heading",
     "level": 2,
     "metadata": {},
     "source": [
      "Example 3.13 page no : 34"
     ]
    },
    {
     "cell_type": "code",
     "collapsed": false,
     "input": [
      "import math \n",
      "\n",
      "# Variables\n",
      "V = 240.\n",
      "P_out = 25*735.5  \t\t\t#output power in watts\n",
      "R_a = 0.14\n",
      "R_sh = 80. \t        \t\t#resistance of armature and shunt field winding\n",
      "brush_drop = 1. \t\t\t#voltage drop across brush\n",
      "I_L_FL = 95. \t\t    \t#input current at full load \n",
      "I_sh = V/R_sh\n",
      "I_a_FL  =  I_L_FL - I_sh \t\t\t#armature current at full load\n",
      "\n",
      "# Calculations and Results\n",
      "arm_cu_loss_FL  =  R_a*I_a_FL**2  \t\t\t#full load armature copper loss\n",
      "field_cu_loss =  R_sh*I_sh**2  \t\t\t#field copper loss\n",
      "print 'i)Armature and field copper losses are %.2f W and %.0f W respectively'%(arm_cu_loss_FL,field_cu_loss)\n",
      "brush_cu_loss =  2*brush_drop*I_a_FL \t\t\t#brush contact copper loss\n",
      "print 'ii)Brush contact copper loss is %.0f W'%(brush_cu_loss)\n",
      "E_b = V-I_a_FL*R_a - 2*brush_drop \t\t\t#back emf\n",
      "gross_mech_P_dev =  E_b*I_a_FL  \t\t\t#gross mechanical power developed\n",
      "IFW_losses  =  gross_mech_P_dev - P_out  \t\t\t#iron friction and windage losses\n",
      "print 'iii)Core plus mechanical losses  =  %.1f W'%(IFW_losses+field_cu_loss+arm_cu_loss_FL)\n",
      "eta = 100*(P_out/(P_out + IFW_losses+ brush_cu_loss+field_cu_loss+arm_cu_loss_FL  ))\n",
      "print 'iv)Efficiency is %.2f percent'%(eta)\n"
     ],
     "language": "python",
     "metadata": {},
     "outputs": [
      {
       "output_type": "stream",
       "stream": "stdout",
       "text": [
        "i)Armature and field copper losses are 1184.96 W and 720 W respectively\n",
        "ii)Brush contact copper loss is 184 W\n",
        "iii)Core plus mechanical losses  =  4228.5 W\n",
        "iv)Efficiency is 80.65 percent\n"
       ]
      }
     ],
     "prompt_number": 13
    },
    {
     "cell_type": "heading",
     "level": 2,
     "metadata": {},
     "source": [
      "Example 3.14 page no : 36"
     ]
    },
    {
     "cell_type": "code",
     "collapsed": false,
     "input": [
      "import math \n",
      "\n",
      "# Variables\n",
      "I = 5.  \t\t\t#no load current\n",
      "V = 500.\n",
      "R_sh = 250.\n",
      "R_a = 0.5 \t\t\t#resistance of shunt field winding and armature\n",
      "motor_input_NL  =  V*I\n",
      "I_sh = V/R_sh\n",
      "I_a = I-I_sh\n",
      "arm_cu_loss_NL  =  R_a*I_a**2  \t\t\t#no load armature copper loss\n",
      "constant_loss  =  motor_input_NL - arm_cu_loss_NL\n",
      "I_FL = 50.\n",
      "I_a_FL  =  I_FL - I_sh   \t\t\t#currents at full load\n",
      "arm_cu_loss_FL  =   R_a*I_a_FL**2 \t\t\t#full load armature copper loss\n",
      "\n",
      "# Calculations and Results\n",
      "total_loss =  constant_loss + arm_cu_loss_FL \n",
      "motor_input = V*I_FL\n",
      "motor_output_FL =  motor_input - total_loss\n",
      "print 'Required output power is %.3f kW'%(motor_output_FL/1000)\n",
      "eta = 100*(motor_output_FL/motor_input) \t\t\t#full load efficiency\n",
      "print 'Full load efficiency of motor with 50A current is %.2f percent '%(eta)\n"
     ],
     "language": "python",
     "metadata": {},
     "outputs": [
      {
       "output_type": "stream",
       "stream": "stdout",
       "text": [
        "Required output power is 21.352 kW\n",
        "Full load efficiency of motor with 50A current is 85.41 percent \n"
       ]
      }
     ],
     "prompt_number": 14
    },
    {
     "cell_type": "heading",
     "level": 2,
     "metadata": {},
     "source": [
      "Example 3.15 page no : 36"
     ]
    },
    {
     "cell_type": "code",
     "collapsed": false,
     "input": [
      "import math \n",
      "\n",
      "# Variables\n",
      "V = 250.\n",
      "R_sh = 275.\n",
      "R_a = 0.8 \t\t\t#resistance of shunt field and amature\n",
      "I_L0 = 3.91 \t\t\t#load current\n",
      "I_sh = V/R_sh\n",
      "I_a0 =  I_L0 - I_sh\n",
      "constant_losses =  V*I_L0 -R_a*(I_a0)**2\n",
      "\n",
      "# Calculations and Results\n",
      "#as a generator\n",
      "P_out = 10*10**3\n",
      "I_L = P_out/V\n",
      "I_a  =  I_L + I_sh \n",
      "field_cu_loss = R_sh*(I_sh)**2  \t\t\t#field copper loss\n",
      "arm_cu_loss =  R_a*(I_a)**2  \t\t\t#armature copper loss  \n",
      "eta_gen  =  100 *(P_out/(P_out+constant_losses + field_cu_loss+ arm_cu_loss))  \t\t\t#efficiency as generator\n",
      "print 'Efficiency as a generator  =  %.2f percent'%(eta_gen)\n",
      "\n",
      "#as a motor\n",
      "P_in = 10*10**3  \t\t\t#at V = 250 \n",
      "I_L = P_in/V\n",
      "I_a = I_L - I_sh\n",
      "field_cu_loss = R_sh*(I_sh)**2  \t\t\t#field copper loss\n",
      "arm_cu_loss =  R_a*(I_a)**2  \t\t\t#armature copper loss  \n",
      "eta_m  =  100 *((P_in-(constant_losses + field_cu_loss+ arm_cu_loss))/(P_in)) \t\t\t#efficiency as motor\n",
      "print 'Efficiency as a motor  =  %.2f percent'%(eta_m)\n"
     ],
     "language": "python",
     "metadata": {},
     "outputs": [
      {
       "output_type": "stream",
       "stream": "stdout",
       "text": [
        "Efficiency as a generator  =  79.77 percent\n",
        "Efficiency as a motor  =  75.80 percent\n"
       ]
      }
     ],
     "prompt_number": 15
    },
    {
     "cell_type": "heading",
     "level": 2,
     "metadata": {},
     "source": [
      "Example 3.16 page no : 38"
     ]
    },
    {
     "cell_type": "code",
     "collapsed": false,
     "input": [
      "import math \n",
      "\n",
      "# Variables\n",
      "I = 4. \t\t\t#no load current in amperes\n",
      "V = 500.\n",
      "motor_input_no_load = I*V   \t\t\t#no load motor input\n",
      "R_a = 0.5\n",
      "R_sh = 250.\t\t\t#resistance of armature and shunt field resistnace\n",
      "I_sh = V/R_sh\n",
      "\n",
      "I_a = I-I_sh\n",
      "arm_cu_loss_noload = R_a*I_a**2  \t\t\t#No-load armature copper losses\n",
      "constant_loss = motor_input_no_load - arm_cu_loss_noload\n",
      "I_FL = 40.\n",
      "I_aFL = I_FL- I_a  \t\t\t#full load currents\n",
      "arm_cu_loss_fulload = R_a*I_aFL**2 \t\t\t#Full-load armature copper losses\n",
      "Total_loss = arm_cu_loss_fulload + constant_loss\n",
      "\n",
      "# Calculations and Results\n",
      "motor_input = V*I_FL\n",
      "motor_output_fullload = motor_input - Total_loss\n",
      "print 'Output power at full-load is %.0f W'%(motor_output_fullload) \n",
      "efficiency =  motor_output_fullload*100/motor_input \t\t\t#motor efficiency\n",
      "print 'Efficiency at full-load is %.1f percent'%(efficiency)\n",
      "\n",
      "E_bNL = V-I_a*R_a\n",
      "E_bFL = V-I_FL*R_a\n",
      "\n",
      "#E_b  = N*phi\n",
      "#E_bNL/E_bFL = N_NL/N_FL\n",
      "#applying rules of componendo and dividendo\n",
      "#change_in _speed = (N_NL - N_FL)/N_FL = (E_bNL - E_bFL)/E_bFl\n",
      "\n",
      "change_in_speed = 100*(E_bNL - E_bFL)/E_bFL\n",
      "print 'percentage change in speed from no load to full load is %.3f percent'%(change_in_speed)\n"
     ],
     "language": "python",
     "metadata": {},
     "outputs": [
      {
       "output_type": "stream",
       "stream": "stdout",
       "text": [
        "Output power at full-load is 17280 W\n",
        "Efficiency at full-load is 86.4 percent\n",
        "percentage change in speed from no load to full load is 3.958 percent\n"
       ]
      }
     ],
     "prompt_number": 16
    },
    {
     "cell_type": "heading",
     "level": 2,
     "metadata": {},
     "source": [
      "Example 3.17 page no : 39"
     ]
    },
    {
     "cell_type": "code",
     "collapsed": false,
     "input": [
      "import math \n",
      "\n",
      "# Variables\n",
      "V = 500.\n",
      "R_a = 0.22\n",
      "R_sh =  250.\t\t\t#armature resistance and shunt field resistance\n",
      "I = 5.       \t\t\t#no load current\n",
      "motor_input_NL = V*I   \t\t\t#no load motor input\n",
      "I_sh = V/R_sh\n",
      "I_a_NL =  I- I_sh \t\t\t#no load armature current\n",
      "arm_cu_loss_NL  =  R_a*I_a_NL**2 \t\t\t#no load armature copper loss\n",
      "constant_loss  =  motor_input_NL - arm_cu_loss_NL \n",
      "\n",
      "# Calculations and Results\n",
      "#When motor draws 100 A current \n",
      "I = 100\n",
      "I_a  =  I - I_sh\n",
      "arm_cu_loss   = R_a* I_a**2  \t\t\t#armature copper loss\n",
      "total_losses  =    arm_cu_loss +  constant_loss\n",
      "motor_input  =  V*I\n",
      "motor_output  =  motor_input -total_losses \n",
      "eta_m = 100*(motor_output/motor_input) \t\t\t#motor efficiency\n",
      "print 'i)Efficiency of motor at 100 A current is %.2f percent '%(eta_m)\n",
      "\n",
      "#part(b)\n",
      "E_b_NL =  V- I_a_NL*R_a \t\t\t#back emf at no load\n",
      "E_b =  V- I_a*R_a \t\t\t#back emf at 100 A \n",
      "#E_b is proportional to N.. and using componendo dividendo\n",
      "speed_change =  100*((E_b_NL - E_b)/E_b)\n",
      "print 'ii)Percentage change in speed  =  %.3f percent'%(speed_change)\n",
      "\n",
      "\n",
      "print 'Note that the following were assumptions made'\n",
      "print 'i) Due to heating  resistance of shunt field winding will be increased which will reduce the shunt field current.This will decrease the flux which is neglected'\n",
      "print 'ii) Though the motor speed is changing from no load to given load %( the mechanical losses are assumed to be cosnstant'\n",
      "print 'iiiThe effect of armature reaction aon main pole flux and its effect on iron loss is neglected'\n"
     ],
     "language": "python",
     "metadata": {},
     "outputs": [
      {
       "output_type": "stream",
       "stream": "stdout",
       "text": [
        "i)Efficiency of motor at 100 A current is 90.78 percent \n",
        "ii)Percentage change in speed  =  4.368 percent\n",
        "Note that the following were assumptions made\n",
        "i) Due to heating  resistance of shunt field winding will be increased which will reduce the shunt field current.This will decrease the flux which is neglected\n",
        "ii) Though the motor speed is changing from no load to given load %( the mechanical losses are assumed to be cosnstant\n",
        "iiiThe effect of armature reaction aon main pole flux and its effect on iron loss is neglected\n"
       ]
      }
     ],
     "prompt_number": 17
    },
    {
     "cell_type": "heading",
     "level": 2,
     "metadata": {},
     "source": [
      "Example 3.18 page no : 41"
     ]
    },
    {
     "cell_type": "code",
     "collapsed": false,
     "input": [
      "import math \n",
      "\n",
      "# Variables\n",
      "V = 200.\n",
      "I_L = 40.\n",
      "\n",
      "R_sh = 200.\n",
      "R_a = 0.2 \t\t\t#shunt field winding and armature resistance\n",
      "\n",
      "# Calculations and Results\n",
      "#case(a) :  As a generator\n",
      "P_out_g = V*I_L \t\t\t#output poewr as generator\n",
      "I_sh = V/R_sh\n",
      "I_a  =  I_L + I_sh\n",
      "E  =  V + I_a*R_a\n",
      "P_a_g = E*I_a  \t\t\t#power developed in armature\n",
      "P_cu_g =  R_a*I_a**2 + R_sh*I_sh**2 \t\t\t#copper loss as genrator\n",
      "print 'i)Output as generator is %.f kW'%(P_out_g/1000)\n",
      "\n",
      "#case(b) :  As a motor\n",
      "P_in_m = V*I_L \t\t\t#input power as motor\n",
      "I_sh = V/R_sh\n",
      "I_a  =  I_L - I_sh\n",
      "E_b  =  V - I_a*R_a\n",
      "P_a_m = E_b*I_a  \t\t\t#power developed in armature\n",
      "P_cu_m =  R_a*I_a**2 + R_sh*I_sh**2\t\t\t#copper loss as motor\n",
      "print 'ii)Input as motor is %.0f kW'%( P_in_m/1000)\n",
      "print 'iii)Power developed in Armature:%.4f kW for generator%.4f kW for motor'%(P_a_g/1000,P_a_m/1000)\n",
      "print 'iv)Copper losses:%.1f W for generator%.1f W for motor'%(P_cu_g,P_cu_m)\n"
     ],
     "language": "python",
     "metadata": {},
     "outputs": [
      {
       "output_type": "stream",
       "stream": "stdout",
       "text": [
        "i)Output as generator is 8 kW\n",
        "ii)Input as motor is 8 kW\n",
        "iii)Power developed in Armature:8.5362 kW for generator7.4958 kW for motor\n",
        "iv)Copper losses:536.2 W for generator504.2 W for motor\n"
       ]
      }
     ],
     "prompt_number": 20
    },
    {
     "cell_type": "heading",
     "level": 2,
     "metadata": {},
     "source": [
      "Example 3.19 page no : 42"
     ]
    },
    {
     "cell_type": "code",
     "collapsed": false,
     "input": [
      "import math \n",
      "\n",
      "# Variables\n",
      "V = 219.\n",
      "I = 10.\n",
      "dN = 1030. - 970 \t\t\t#given\n",
      "t_1 = 36.  \t\t\t#time with no excitation\n",
      "t_2 = 9.\t\t\t# time with full excitation and armature supporting an extra load of 10 A at 219 V\n",
      "t_3 = 15. \t\t\t#time with full exciation\n",
      "W_dash  =  V*I  \t\t\t#additioanl loss when armature is suddenly connected to loads\n",
      "W_s =  W_dash *(t_2/(t_3-t_2)) \t\t\t#total stray losses\n",
      "N = 1000.  \t\t\t#speed in rpm\n",
      "\n",
      "# Calculations\n",
      "#using W_s  =  (2*pi/60)**2 * I *N *dN / t_3 where W_s is stray losses\n",
      "I =  W_s*(t_3/dN)*(30/math.pi)**2/N   \t\t\t#moment of inertia\n",
      "W_m = W_s*(t_3/t_1) \t\t\t#mechanical losses\n",
      "iron_losses =  W_s - W_m\n",
      "\n",
      "# Results\n",
      "print 'i)The moment of inertia of armature is %.2f kg-m**2'%(I)\n",
      "print 'ii)Iron loss =  %.2f W'%(iron_losses)\n",
      "print 'iii)Mechanical losses at 1000 rpm mean speed is %.2f W'%(W_m)\n",
      "\n",
      "print 'Noteworthy points:1)When armature is slowing down and there is no excitation,then kinetic energy is used to overcome mechanical losses only.Iron losses are absent as excitation is absent2)When excitation is given%( kinetic energy is used to overcome both mechanical as well as iron losses.Total called stray losses.3)If moment of inertia is in kg-m**2,then loss of energy is in watts'\n"
     ],
     "language": "python",
     "metadata": {},
     "outputs": [
      {
       "output_type": "stream",
       "stream": "stdout",
       "text": [
        "i)The moment of inertia of armature is 74.89 kg-m**2\n",
        "ii)Iron loss =  1916.25 W\n",
        "iii)Mechanical losses at 1000 rpm mean speed is 1368.75 W\n",
        "Noteworthy points:1)When armature is slowing down and there is no excitation,then kinetic energy is used to overcome mechanical losses only.Iron losses are absent as excitation is absent2)When excitation is given%( kinetic energy is used to overcome both mechanical as well as iron losses.Total called stray losses.3)If moment of inertia is in kg-m**2,then loss of energy is in watts\n"
       ]
      }
     ],
     "prompt_number": 21
    },
    {
     "cell_type": "heading",
     "level": 2,
     "metadata": {},
     "source": [
      "Example 3.20 page no : 43"
     ]
    },
    {
     "cell_type": "code",
     "collapsed": false,
     "input": [
      "import math \n",
      "\n",
      "# Variables\n",
      "V = 225.\n",
      "I = 10.\n",
      "dN = 1030. - 970 \t\t\t#given\n",
      "t_1 = 40.  \t\t\t#time with no excitation\n",
      "t_2 = 9.\t\t\t# time with full excitation and armature supporting an extra load of 10 A at 219 V\n",
      "t_3 = 20. \t\t\t#time with full exciation\n",
      "\n",
      "# Calculations\n",
      "W_dash  =  V*I \t\t\t#additional loss\n",
      "W_s =  W_dash *(t_2/(t_3-t_2)) \t\t\t#total stray losses\n",
      "N = 1000\t\t\t#Speed in rpm\n",
      "\t\t\t#using W_s  =  (2*pi/60)**2 * I *N *dN / t_3 where W_s is stray losses\n",
      "I =  W_s*(t_3/dN)*(30/math.pi)**2/N   \t\t\t#moment of inertia\n",
      "W_m = W_s*(t_3/t_1)   \t\t\t#mechanical losses\n",
      "iron_losses = W_s - W_m\n",
      "\n",
      "# Results\n",
      "print 'i)The moment of inertia of armature is %.2f kg-m**2'%(I)\n",
      "print 'ii)Iron loss =  %.2f W'%(iron_losses)\n",
      "print 'iii)Mechanical losses at 1000 rpm mean speed is %.2f W'%(W_m)\n",
      "\n",
      "print 'Noteworthy points:1)When there is no excitation and armature is slowed down , its K.E. is used to overcome mechanical mechanical losses only math.since there will be no iron loss as there is no flux.2)When there is excitation provided then K.E. is used to supply mechanical as well as iron losses together called stray losses '\n"
     ],
     "language": "python",
     "metadata": {},
     "outputs": [
      {
       "output_type": "stream",
       "stream": "stdout",
       "text": [
        "i)The moment of inertia of armature is 55.96 kg-m**2\n",
        "ii)Iron loss =  920.45 W\n",
        "iii)Mechanical losses at 1000 rpm mean speed is 920.45 W\n",
        "Noteworthy points:1)When there is no excitation and armature is slowed down , its K.E. is used to overcome mechanical mechanical losses only math.since there will be no iron loss as there is no flux.2)When there is excitation provided then K.E. is used to supply mechanical as well as iron losses together called stray losses \n"
       ]
      }
     ],
     "prompt_number": 22
    },
    {
     "cell_type": "heading",
     "level": 2,
     "metadata": {},
     "source": [
      "Example 3.21 page no : 44"
     ]
    },
    {
     "cell_type": "code",
     "collapsed": false,
     "input": [
      "import math \n",
      "\n",
      "# Variables\n",
      "V_avg  =  (220.+190)/2  \t\t\t#average voltage across load\n",
      "I_avg = 12.\n",
      "R_a = 0.5\n",
      "R_sh = 250.\n",
      "W_dash = V_avg*I_avg  \t\t\t#power absorbed \n",
      "t_1 = 30.\n",
      "t_2 = 5.\n",
      "W = W_dash*(t_2/(t_1-t_2))\n",
      "V = 250.\n",
      "I = 22.  \t\t\t#input current\n",
      "\n",
      "# Calculations\n",
      "I_sh  =  V/R_sh\n",
      "I_a =  I - I_sh\n",
      "arm_cu_loss  =  R_a*I_a**2 \t\t\t#armature copper loss\n",
      "shunt_field_cu_loss  =   V*I_sh  \t\t\t#shunt field copper loss\n",
      "total_losses =  shunt_field_cu_loss + arm_cu_loss + W\n",
      "\n",
      "machine_input  =  V*I\n",
      "machine_output  =  machine_input - total_losses \n",
      "eta_m = 100*(machine_output /machine_input )  \t\t\t#efficiency when running as motor\n",
      "\n",
      "# Results\n",
      "print 'Efficiency of machine when opeating as motor taking current of 22A on 250V supply is %.1f percent'%(eta_m)\n"
     ],
     "language": "python",
     "metadata": {},
     "outputs": [
      {
       "output_type": "stream",
       "stream": "stdout",
       "text": [
        "Efficiency of machine when opeating as motor taking current of 22A on 250V supply is 82.5 percent\n"
       ]
      }
     ],
     "prompt_number": 23
    },
    {
     "cell_type": "heading",
     "level": 2,
     "metadata": {},
     "source": [
      "Example 3.22 page no : 45"
     ]
    },
    {
     "cell_type": "code",
     "collapsed": false,
     "input": [
      "import math \n",
      "\n",
      "# Variables\n",
      "I_avg = 10.\n",
      "V_avg = (220.+190)/2 \t\t\t#average voltage across load\n",
      "W_dash  =  V_avg*I_avg  \t\t\t#power  absorbed\n",
      "t_1 = 30.\n",
      "t_2 = 20.\n",
      "\n",
      "# Calculations\n",
      "W = W_dash * (t_2/(t_1-t_2)) \t\t\t#stray losses\n",
      "\n",
      "# Results\n",
      "print 'Stray losses of motor is %.1f kW'%(W/1000)\n",
      "print 'Answers mismatch because V_average is 205 volts but it is taken as 220 volts in Power absorbed calculation'\n"
     ],
     "language": "python",
     "metadata": {},
     "outputs": [
      {
       "output_type": "stream",
       "stream": "stdout",
       "text": [
        "Stray losses of motor is 4.1 kW\n",
        "Answers mismatch because V_average is 205 volts but it is taken as 220 volts in Power absorbed calculation\n"
       ]
      }
     ],
     "prompt_number": 24
    },
    {
     "cell_type": "heading",
     "level": 2,
     "metadata": {},
     "source": [
      "Example 3.23 page no : 46"
     ]
    },
    {
     "cell_type": "code",
     "collapsed": false,
     "input": [
      "import math \n",
      "\n",
      "# Variables\n",
      "I_a_g = 330.\n",
      "I_a_m = 380.\n",
      "R_a = 0.02 \t\t\t#armature resistance\n",
      "V = 250.\n",
      "I = 50.\n",
      "\n",
      "\n",
      "arm_cu_loss_g =  R_a*I_a_g**2\t\t\t#armature copper loss for generator\n",
      "arm_cu_loss_m =  R_a*I_a_m**2\t\t\t#armature copper loss for motor\n",
      "power_drawn = V*I\n",
      "stray_losses  =  power_drawn - (arm_cu_loss_m + arm_cu_loss_g)\n",
      "stray_losses_each  =  stray_losses/2 \t\t\t#stray losses for each machine\n",
      "\n",
      "\n",
      "# Calculations and Results\n",
      "#for motor\n",
      "I_sh_m = 4.2   \t\t\t#Shunt current in case of motor\n",
      "field_cu_loss_m = V*I_sh_m  \t\t\t#field copper loss in case of motor\n",
      "total_loss  =  field_cu_loss_m + stray_losses_each  +  arm_cu_loss_m\n",
      "motor_input =  V*(I_a_m+I_sh_m) \n",
      "motor_output  =  motor_input - total_loss\n",
      "eta_m  =  100*(motor_output/motor_input)\t\t\t#motor efficiency \n",
      "print 'Efficiency of motor is %.4f percent'%(eta_m)\n",
      "\n",
      "#for generator\n",
      "I_sh_g = 5  \t\t\t#Shunt current in case of generator\n",
      "field_cu_loss_g = V*I_sh_g \t\t\t#field copper loss in case of generator\n",
      "total_loss  =  field_cu_loss_g + stray_losses_each  +  arm_cu_loss_g\n",
      "generator_output  =  V*I_a_g\n",
      "generator_input =  generator_output + total_loss\n",
      "eta_g  =  100*(generator_output/generator_input)\t\t\t#generator efficiency \n",
      "print 'Efficiency of generator is %.4f percent'%(eta_g)\n"
     ],
     "language": "python",
     "metadata": {},
     "outputs": [
      {
       "output_type": "stream",
       "stream": "stdout",
       "text": [
        "Efficiency of motor is 92.0302 percent\n",
        "Efficiency of generator is 92.0297 percent\n"
       ]
      }
     ],
     "prompt_number": 25
    },
    {
     "cell_type": "heading",
     "level": 2,
     "metadata": {},
     "source": [
      "Example 3.24 page no : 47"
     ]
    },
    {
     "cell_type": "code",
     "collapsed": false,
     "input": [
      "import math \n",
      "\n",
      "# Variables\n",
      "R_a = 0.02 \t\t\t#armature resistance\n",
      "V = 250. \t\t\t#line voltage\n",
      "I = 50. \t\t\t#current taken from supply \n",
      "\n",
      "# Calculations and Results\n",
      "#for generator\n",
      "I_a_g = 330.\n",
      "I_sh_g = 5. \t\t\t#armature current and current through shunt field \n",
      "arm_cu_loss_g  =  R_a*I_a_g**2\t\t\t#armature copper loss for generator\n",
      "field_cu_loss_g =  V*I_sh_g \t\t\t#field copper loss for generator\n",
      "\n",
      "#for motor\n",
      "I_a_m = 380\n",
      "I_sh_m = 4.2 \t\t\t#armature current and current through shunt field\n",
      "arm_cu_loss_m  =  R_a*I_a_m**2\t\t\t#armature copper loss for motor\n",
      "field_cu_loss_m =  V*I_sh_m \t\t\t#field copper loss for motor\n",
      "power_drawn = V*I\n",
      "IFW_losses  =  power_drawn - (arm_cu_loss_g + arm_cu_loss_m)  \t\t\t#Iron friction and windage losses\n",
      "IFW_losses_each =  IFW_losses /2  \t\t\t# Iron friction and windage losses for each machine\n",
      "\n",
      "#for generator\n",
      "total_loss_g  =  field_cu_loss_g + arm_cu_loss_g + IFW_losses_each\n",
      "generator_output = V*I_a_g\n",
      "generator_input  =  generator_output + total_loss_g \n",
      "eta_g  =  100*(generator_output/generator_input)\t\t\t#generator efficiency \n",
      "print 'Efficiency of generator is %.4f percent'%(eta_g)\n",
      "\n",
      "#for motor\n",
      "total_loss_m =  field_cu_loss_m + IFW_losses_each  +  arm_cu_loss_m\n",
      "motor_input = V*(I_a_m+I_sh_m)\n",
      "motor_output  =  motor_input - total_loss_m\n",
      "eta_m  =  100*(motor_output/motor_input)\t\t\t#motor efficiency \n",
      "print 'Efficiency of motor is %.4f percent'%(eta_m)\n"
     ],
     "language": "python",
     "metadata": {},
     "outputs": [
      {
       "output_type": "stream",
       "stream": "stdout",
       "text": [
        "Efficiency of generator is 92.0297 percent\n",
        "Efficiency of motor is 92.0302 percent\n"
       ]
      }
     ],
     "prompt_number": 26
    },
    {
     "cell_type": "heading",
     "level": 2,
     "metadata": {},
     "source": [
      "Example 3.25 page no : 49"
     ]
    },
    {
     "cell_type": "code",
     "collapsed": false,
     "input": [
      "import math \n",
      "\n",
      "# Variables\n",
      "V = 220.\n",
      "I = 40.\n",
      "I_a_g = 160. \n",
      "I_a_m  = 200. \t\t\t#armature currents for generator and motor\n",
      "I_sh_g = 7. \n",
      "I_sh_m  = 6. \t\t\t#current through shunt field for generator and motor\n",
      "R_a = 0.015 \t\t\t#armature resistance\n",
      "arm_cu_loss_g  =  R_a*I_a_g**2  \t\t\t#armature copper loss for motor\n",
      "arm_cu_loss_m  =  R_a*I_a_m**2  \t\t\t#armature copper loss for motor\n",
      "power_drawn = V*I\n",
      "IFW_losses  =  power_drawn - (arm_cu_loss_g + arm_cu_loss_m)  \t\t\t#Iron friction and windage losses\n",
      "IFW_losses_each =  IFW_losses /2  \t\t\t# Iron friction and windage losses for each machine\n",
      "\n",
      "# Calculations and Results\n",
      "#for motor\n",
      "field_cu_loss_m =  V*I_sh_m \t\t\t#field copper loss for motor\n",
      "total_loss_m =  field_cu_loss_m + IFW_losses_each  +  arm_cu_loss_m  \t\t\t#total losses in motor\n",
      "motor_input = V * I_a_m\n",
      "motor_output =  motor_input - total_loss_m\n",
      "eta_m  =  100*(motor_output/motor_input)    \t\t\t#motor efficiency\n",
      "print 'Efficiency of motor is %.4f percent'%(eta_m)\n",
      "\n",
      "#for generator\n",
      "field_cu_loss_g =  V*I_sh_g \t\t\t#field copper loss for generator\n",
      "total_loss_g  =  field_cu_loss_g + arm_cu_loss_g + IFW_losses_each  \t\t\t#total losses in generator\n",
      "generator_output = V*I_a_g\n",
      "generator_input  =  generator_output + total_loss_g\n",
      "eta_g  =  100*(generator_output/generator_input)\t\t\t#generator efficiency\n",
      "print 'Efficiency of generator is %.4f percent'%(eta_g)\n"
     ],
     "language": "python",
     "metadata": {},
     "outputs": [
      {
       "output_type": "stream",
       "stream": "stdout",
       "text": [
        "Efficiency of motor is 86.7545 percent\n",
        "Efficiency of generator is 85.7867 percent\n"
       ]
      }
     ],
     "prompt_number": 27
    },
    {
     "cell_type": "heading",
     "level": 2,
     "metadata": {},
     "source": [
      "Example 3.26 page no : 51"
     ]
    },
    {
     "cell_type": "code",
     "collapsed": false,
     "input": [
      "import math \n",
      "\n",
      "# Variables\n",
      "R_a = 0.2 \t\t\t#armature resistance \n",
      "V = 240.\n",
      "I = 16.\n",
      "I_a_g = 60. \n",
      "I_a_m = 71. \t\t\t#armature currents for generator and motor\n",
      "I_sh_g = 3. \n",
      "I_sh_m = 2.  \t\t\t#field current for generator and motor \n",
      "\n",
      "\n",
      "#for generator\n",
      "arm_cu_loss_g  =  R_a*I_a_g**2\t\t\t#armature copper loss for generator\n",
      "field_cu_loss_g =  V*I_sh_g \t\t\t#field copper loss for generator\n",
      "\n",
      "#for motor\n",
      "arm_cu_loss_m  =  R_a*I_a_m**2\t\t\t#armature copper loss for motor\n",
      "field_cu_loss_m =  V*I_sh_m \t\t\t#field copper loss for motor\n",
      "power_drawn = V*I\n",
      "field_loss_total_g_m =  field_cu_loss_m + field_cu_loss_g\n",
      "arm_cu_loss_total_g_m  =  arm_cu_loss_m + arm_cu_loss_g\n",
      "IFW_losses  =  power_drawn - (arm_cu_loss_total_g_m + field_loss_total_g_m)  \t\t\t#Iron friction and windage losses\n",
      "IFW_losses_each =  IFW_losses /2  \t\t\t# Iron friction and windage losses for each machine\n",
      "\n",
      "# Calculations and Results\n",
      "#for generator\n",
      "total_loss_g  =  field_cu_loss_g + arm_cu_loss_g + IFW_losses_each \t\t\t#total loss in generator\n",
      "generator_output = V*I_a_g\n",
      "generator_input  =  generator_output + total_loss_g\n",
      "eta_g  =  100*(generator_output/generator_input)\t\t\t#generator efficiency \n",
      "print 'Efficiency of generator is %.4f percent'%(eta_g)\n",
      "\n",
      "#for motor\n",
      "total_loss_m =  field_cu_loss_m + IFW_losses_each  +  arm_cu_loss_m \t\t\t#total loss in motor\n",
      "motor_input = V*(I_a_m+I_sh_m)\n",
      "motor_output  =  motor_input - total_loss_m\n",
      "eta_m  =  100*(motor_output/motor_input)\t\t\t#motor efficiency \n",
      "print 'Efficiency of motor is %.4f percent'%(eta_m)\n"
     ],
     "language": "python",
     "metadata": {},
     "outputs": [
      {
       "output_type": "stream",
       "stream": "stdout",
       "text": [
        "Efficiency of generator is 88.3658 percent\n",
        "Efficiency of motor is 88.9035 percent\n"
       ]
      }
     ],
     "prompt_number": 28
    },
    {
     "cell_type": "heading",
     "level": 2,
     "metadata": {},
     "source": [
      "Example 3.27 page no : 52"
     ]
    },
    {
     "cell_type": "code",
     "collapsed": false,
     "input": [
      "import math \n",
      "\n",
      "# Variables\n",
      "R_a = 0.015\n",
      "V = 250. \t\t\t#line voltage\n",
      "I = 45. \t\t\t#line current\n",
      "I_a_m = 385.\n",
      "I_sh_m = 4. \t\t\t#armature and field currents for motor\n",
      "I_a_g = 340.\n",
      "I_sh_g = 5. \t\t\t#armature and field currents for generator\n",
      "arm_cu_loss_m =  R_a*I_a_m**2   \t\t\t#armature copper loss for motor\n",
      "field_cu_loss_m =  V*I_sh_m    \t\t\t#field copper loss for motor\n",
      "\n",
      "arm_cu_loss_g =  R_a*I_a_g**2  \t\t\t#armature copper loss for generator\n",
      "field_cu_loss_g =  V*I_sh_g   \t\t\t#field copper loss for motor\n",
      "\n",
      "total_cu_loss  =  field_cu_loss_g + arm_cu_loss_g  +  field_cu_loss_m + arm_cu_loss_m  \t\t\t#total copper loss for both machines\n",
      "P_aux  =  V*I  \t\t\t#power taken from auxillary supply\n",
      "stray_loss =  P_aux - total_cu_loss\n",
      "stray_loss_each  =  stray_loss/2  \t\t\t#stray loss for each machine\n",
      "\n",
      "# Calculations and Results\n",
      "total_loss_g  =  stray_loss_each + arm_cu_loss_g + field_cu_loss_g  \t\t\t#total losses in generator\n",
      "generator_output = V* I_a_g\n",
      "eta_g  =  100*(generator_output/(generator_output + total_loss_g))\t\t\t#generator efficiency\n",
      "print 'Efficiency of generator is %.4f percent'%(eta_g)\n",
      "\n",
      "total_loss_m  =  stray_loss_each + arm_cu_loss_m + field_cu_loss_m\t\t\t#total losses in motor\n",
      "motor_input = V*(I_a_m+I_sh_m)\n",
      "motor_output  =  motor_input - total_loss_m\n",
      "eta_m  =  100*(motor_output/motor_input)\t\t\t#motor efficiency \n",
      "print 'Efficiency of motor is %.4f percent'%(eta_m)\n"
     ],
     "language": "python",
     "metadata": {},
     "outputs": [
      {
       "output_type": "stream",
       "stream": "stdout",
       "text": [
        "Efficiency of generator is 93.9171 percent\n",
        "Efficiency of motor is 94.0929 percent\n"
       ]
      }
     ],
     "prompt_number": 29
    },
    {
     "cell_type": "heading",
     "level": 2,
     "metadata": {},
     "source": [
      "Example 3.28 page no : 53"
     ]
    },
    {
     "cell_type": "code",
     "collapsed": false,
     "input": [
      "import math \n",
      "\n",
      "# Variables\n",
      "V = 500.\n",
      "P = 1000.*10**3\n",
      "I = 30.\n",
      "I_a_m  =  200. + 30 \n",
      "I_a_g  = 200. \t\t\t#armature current for motor and generator\n",
      "I_sh_m  =  1.8\n",
      "I_sh_g  = 3.5 \t\t\t#field current for motor and generator\n",
      "brush_drop = 230.\n",
      "R_a = 0.075  \t\t\t#armature resimath.tance\n",
      "\n",
      "# Calculations\n",
      "arm_cu_loss_m  =  R_a*I_a_m**2 + 2*brush_drop \t\t\t#motor armature copper loss\n",
      "field_cu_loss_m  = V*I_sh_m  \t\t\t#  motor field copper loss \n",
      "\n",
      "arm_cu_loss_g  =  R_a*I_a_g**2 + 2*brush_drop  \t\t\t#generator armature copper loss\n",
      "field_cu_loss_g  = V*I_sh_g  \t\t\t#field copper loss generator\n",
      "\n",
      "total_cu_loss  =  field_cu_loss_g + arm_cu_loss_g  +  field_cu_loss_m + arm_cu_loss_m  \t\t\t#total copper loss for both machines\n",
      "P_aux  =  V*I  \t\t\t#power taken from auxillary supply\n",
      "stray_loss =  P_aux - total_cu_loss  \n",
      "stray_loss_each  =  stray_loss/2  \t\t\t#stray loss for each machine\n",
      "\n",
      "total_loss_g  =  stray_loss_each + arm_cu_loss_g + field_cu_loss_g  \t\t\t#total loss in generator\n",
      "generator_output = V* I_a_g\n",
      "eta_g  =  100*(generator_output/(generator_output + total_loss_g))\t\t\t#generator efficiency\n",
      "\n",
      "# Results\n",
      "print 'Efficiency of generator is %.0f percent'%(eta_g)\n"
     ],
     "language": "python",
     "metadata": {},
     "outputs": [
      {
       "output_type": "stream",
       "stream": "stdout",
       "text": [
        "Efficiency of generator is 93 percent\n"
       ]
      }
     ],
     "prompt_number": 31
    },
    {
     "cell_type": "heading",
     "level": 2,
     "metadata": {},
     "source": [
      "Example 3.29 page no : 55"
     ]
    },
    {
     "cell_type": "code",
     "collapsed": false,
     "input": [
      "import math \n",
      "\n",
      "# Variables\n",
      "V = 220.\n",
      "I = 10.\n",
      "R_a = 0.05 \t        \t\t#artmature resistance\n",
      "I_a_m =  73.    \n",
      "I_sh_m  =  2. \t    \t\t#armature and field current for motor\n",
      "I_a_g = 67.5\n",
      "I_sh_g = 2.5\t\t    \t#armature and field current for generator\n",
      "\n",
      "arm_cu_loss_m  =  R_a*I_a_m**2 \t\t\t#motor armature copper loss\n",
      "field_cu_loss_m  = V*I_sh_m  \t\t\t#  motor field copper loss \n",
      "\n",
      "arm_cu_loss_g  =  R_a*I_a_g**2 \t\t\t#generator armature copper loss\n",
      "field_cu_loss_g  = V*I_sh_g  \t\t\t#field copper loss generator\n",
      "\n",
      "total_cu_loss  =  field_cu_loss_g + arm_cu_loss_g  +  field_cu_loss_m + arm_cu_loss_m  \t\t\t#total copper loss for both machines\n",
      "power_input  =  V*I\n",
      "stray_loss =  power_input - total_cu_loss  \n",
      "stray_loss_each  =  stray_loss/2  \t\t\t#stray loss for each machine\n",
      "\n",
      "# Calculations and Results\n",
      "#motor efficiency\n",
      "total_loss_m =  field_cu_loss_m + stray_loss_each  +  arm_cu_loss_m  \t\t\t#total motor losses\n",
      "motor_input  =  V*(I_a_m + I_sh_m )\n",
      "motor_output  = motor_input - total_loss_m\n",
      "eta_m  =  100*(motor_output/motor_input)\t\t\t#motor efficiency \n",
      "print 'Efficiency of motor is %.4f percent'%(eta_m)\n",
      "\n",
      "#generator efficiency\n",
      "total_loss_g =  field_cu_loss_g + stray_loss_each  +  arm_cu_loss_g  \t\t\t#total generator losses\n",
      "generator_output  = V*I_a_g\n",
      "generator_input  =  generator_output +  total_loss_g\n",
      "eta_g  =  100*(generator_output/generator_input)\t\t\t#motor efficiency \n",
      "print 'Efficiency of generator is %.4f percent'%(eta_g)\n"
     ],
     "language": "python",
     "metadata": {},
     "outputs": [
      {
       "output_type": "stream",
       "stream": "stdout",
       "text": [
        "Efficiency of motor is 93.5496 percent\n",
        "Efficiency of generator is 92.8956 percent\n"
       ]
      }
     ],
     "prompt_number": 32
    },
    {
     "cell_type": "heading",
     "level": 2,
     "metadata": {},
     "source": [
      "Example 3.30 page no : 57"
     ]
    },
    {
     "cell_type": "code",
     "collapsed": false,
     "input": [
      "import math \n",
      "\n",
      "# Variables\n",
      "V = 400.\n",
      "I = 50.\n",
      "I_a_g = 250. \n",
      "I_a_m  = 300.  \t\t\t#armature current for generator and motor\n",
      "I_sh_g = 2.5 \n",
      "I_sh_m  = 2.4 \t\t\t#field current for generator and motor\n",
      "R_a = 0.1 \t\t\t#armature resistance\n",
      "\n",
      "arm_cu_loss_g  =  R_a*I_a_g**2   \t\t\t#armature copper loss for generator\n",
      "arm_cu_loss_m  =  R_a*I_a_m**2   \t\t\t#armature copper loss for motor\n",
      "power_drawn = V*I\n",
      "IFW_losses  =  power_drawn - (arm_cu_loss_g + arm_cu_loss_m)  \t\t\t#Iron friction and windage losses\n",
      "IFW_losses_each =  IFW_losses /2  \t\t\t# Iron friction and windage losses for each machine\n",
      "\n",
      "# Calculations and Results\n",
      "#for motor\n",
      "field_cu_loss_m =  V*I_sh_m \t\t\t#field copper loss for motor\n",
      "total_loss_m =  field_cu_loss_m + IFW_losses_each  +  arm_cu_loss_m\n",
      "motor_input = V * I_a_m\n",
      "motor_output =  motor_input - total_loss_m\n",
      "eta_m  =  100*(motor_output/motor_input)    \t\t\t#motor efficiency\n",
      "print 'Efficiency of motor is %.2f percent'%(eta_m)\n",
      "\n",
      "#for generator\n",
      "field_cu_loss_g =  V*I_sh_g \t\t\t#field copper loss for generator\n",
      "total_loss_g  =  field_cu_loss_g + arm_cu_loss_g + IFW_losses_each\n",
      "generator_output = V*I_a_g\n",
      "generator_input  =  generator_output + total_loss_g\n",
      "eta_g  =  100*(generator_output/generator_input)\t\t\t#generator efficiency\n",
      "print 'Efficiency of generator is %.2f percent'%(eta_g)\n"
     ],
     "language": "python",
     "metadata": {},
     "outputs": [
      {
       "output_type": "stream",
       "stream": "stdout",
       "text": [
        "Efficiency of motor is 89.72 percent\n",
        "Efficiency of generator is 91.22 percent\n"
       ]
      }
     ],
     "prompt_number": 33
    },
    {
     "cell_type": "heading",
     "level": 2,
     "metadata": {},
     "source": [
      "Example 3.31 page no : 58"
     ]
    },
    {
     "cell_type": "code",
     "collapsed": false,
     "input": [
      "import math \n",
      "\n",
      "# Variables\n",
      "I_1 = 56.  \t\t\t#motor input current\n",
      "V = 590.   \t\t\t#voltage across armature\n",
      "I_2 = 44.  \t\t\t# load current\n",
      "V_2 = 400. \t\t\t# voltage across generator\n",
      "V_field  =  40.  \t\t\t#voltage drop across field winding\n",
      "R_a = 0.3\n",
      "R_se = 0.7142 \t\t\t#armature and series field resistance for each machine\n",
      "total_input = (V+V_field)*I_1\n",
      "output = V_2*I_2\n",
      "total_loss_g_m =  total_input - output   \t\t\t#total losses of 2 machines\n",
      "R_se = V_field/I_1  \t\t\t#series field resistance for both windings\n",
      "total_cu_loss  =  (R_a+ 2*R_se)*I_1**2  + R_a*I_2**2  \t\t\t#total copper loss\n",
      "stray_loss =  total_loss_g_m - total_cu_loss\n",
      "stray_loss_each  =  stray_loss/2  \t\t\t#stray loss for each machine\n",
      "\n",
      "# Calculations and Results\n",
      "# for motor\n",
      "motor_input  =  V*I_1\n",
      "arm_cu_loss_m  =   (R_a+ R_se)*I_1**2    \t\t\t#armature coper losses of motor\n",
      "total_loss_m =  arm_cu_loss_m + stray_loss_each\n",
      "motor_output  =  motor_input - total_loss_m\n",
      "eta_m  =  100*(motor_output/motor_input)\t\t\t#motor efficiency \n",
      "print 'Efficiency of motor is %.4f percent'%(eta_m)\n",
      "\n",
      "# for generator\n",
      "arm_cu_loss_g  =  R_a*I_2**2  \t\t\t#armature coper losses of generator\n",
      "series_field_cu_loss_g  =  V_field*I_1   \t\t\t#series field copper loss\n",
      "total_loss_g =  arm_cu_loss_g + series_field_cu_loss_g + stray_loss_each\n",
      "generator_output = V_2*I_2\n",
      "generator_input  =  generator_output +  total_loss_g\n",
      "eta_g  =  100*(generator_output/generator_input)\t\t\t#generator efficiency \n",
      "print 'Efficiency of generator is %.4f percent'%(eta_g)\n"
     ],
     "language": "python",
     "metadata": {},
     "outputs": [
      {
       "output_type": "stream",
       "stream": "stdout",
       "text": [
        "Efficiency of motor is 72.6998 percent\n",
        "Efficiency of generator is 67.0221 percent\n"
       ]
      }
     ],
     "prompt_number": 34
    },
    {
     "cell_type": "heading",
     "level": 2,
     "metadata": {},
     "source": [
      "Example 3.32 page no : 61"
     ]
    },
    {
     "cell_type": "code",
     "collapsed": false,
     "input": [
      "import math \n",
      "\n",
      "# Variables\n",
      "I_1 = 56.  \t\t\t#motor input current\n",
      "V = 590.   \t\t\t#voltage across armature\n",
      "I_2 = 44.  \t\t\t# load current\n",
      "V_2 = 400. \t\t\t# voltage across generator\n",
      "V_field  =  40.  \t\t\t#voltage drop across field winding\n",
      "R_a = 0.3\n",
      "R_se = 0.7142 \t\t\t#armature and series field resismath.tane for each machine\n",
      "\n",
      "total_input = (V+V_field)*I_1\n",
      "output = V_2*I_2\n",
      "total_loss_g_m =  total_input - output   \t\t\t#total losses of 2 machines\n",
      "R_se = V_field/I_1  \t\t\t#series field resistance for both windings\n",
      "total_cu_loss  =  (R_a+ 2*R_se)*I_1**2  + R_a*I_2**2  \t\t\t#total copper loss\n",
      "stray_loss =  total_loss_g_m - total_cu_loss\n",
      "stray_loss_each  =  stray_loss/2  \t\t\t#stray loss for each machine\n",
      "\n",
      "# Calculations and Results\n",
      "# for motor\n",
      "motor_input  =  V*I_1\n",
      "arm_cu_loss_m  =   (R_a+ R_se)*I_1**2  \t\t\t#armature coper losses of motor\n",
      "total_loss_m =  arm_cu_loss_m + stray_loss_each\n",
      "motor_output  =  motor_input - total_loss_m\n",
      "eta_m  =  100*(motor_output/motor_input)\t\t\t#motor efficiency \n",
      "print 'Efficiency of motor is %.4f percent'%(eta_m)\n",
      "\n",
      "# for generator\n",
      "arm_cu_loss_g  =  R_a*I_2**2  \t\t\t#armature coper losses of generator\n",
      "series_field_cu_loss_g  =  V_field*I_1  \t\t\t#series field copper loss\n",
      "total_loss_g =  arm_cu_loss_g + series_field_cu_loss_g + stray_loss_each\n",
      "generator_output = V_2*I_2\n",
      "generator_input  =  generator_output +  total_loss_g\n",
      "eta_g  =  100*(generator_output/generator_input)\t\t\t#generator efficiency \n",
      "print 'Efficiency of generator is %.4f percent'%(eta_g)\n"
     ],
     "language": "python",
     "metadata": {},
     "outputs": [
      {
       "output_type": "stream",
       "stream": "stdout",
       "text": [
        "Efficiency of motor is 72.6998 percent\n",
        "Efficiency of generator is 67.0221 percent\n"
       ]
      }
     ],
     "prompt_number": 35
    }
   ],
   "metadata": {}
  }
 ]
}