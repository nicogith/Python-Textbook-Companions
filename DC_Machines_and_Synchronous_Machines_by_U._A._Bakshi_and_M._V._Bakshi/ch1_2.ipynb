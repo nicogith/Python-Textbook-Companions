{
 "metadata": {
  "name": "",
  "signature": "sha256:ae45c35a90f5d6d72689d00dd327a0dd50ebdc721f0cf7cc3ef6e9742fbf7b87"
 },
 "nbformat": 3,
 "nbformat_minor": 0,
 "worksheets": [
  {
   "cells": [
    {
     "cell_type": "heading",
     "level": 1,
     "metadata": {},
     "source": [
      "Chapter 1 : D.C. Generators"
     ]
    },
    {
     "cell_type": "heading",
     "level": 2,
     "metadata": {},
     "source": [
      "Example 1.1 page no : 17"
     ]
    },
    {
     "cell_type": "code",
     "collapsed": false,
     "input": [
      "import math \n",
      "\n",
      "# Variables\n",
      "p = 4.\n",
      "Z = 440.\n",
      "theta = 0.07    # Wb\n",
      "N = 900.        # rpm\n",
      "\n",
      "# calculations and results\n",
      "E = theta*N*Z/60.\n",
      "print \"For lap wound : E = %.f V\"%E\n",
      "\n",
      "E = theta*N*Z*4/120.\n",
      "print \"For wave wound : E = %.f V\"%E\n",
      "\n",
      "\n",
      "# note : rounding off error."
     ],
     "language": "python",
     "metadata": {},
     "outputs": [
      {
       "output_type": "stream",
       "stream": "stdout",
       "text": [
        "For lap wound : E = 462 V\n",
        "For wave wound : E = 924 V\n"
       ]
      }
     ],
     "prompt_number": 2
    },
    {
     "cell_type": "heading",
     "level": 2,
     "metadata": {},
     "source": [
      "\n",
      "Example 1.2 page no : 18"
     ]
    },
    {
     "cell_type": "code",
     "collapsed": false,
     "input": [
      "import math \n",
      "\n",
      "# Variables\n",
      "Pole = 4.\n",
      "phi = 21.*10**-3  \t\t\t#flux produced by each pole in webers\n",
      "N = 1120.        \t\t\t#Speed of armature in r.p.m\n",
      "Coils = 42.\n",
      "turns_per_coil = 8.\n",
      "Turns = Coils * turns_per_coil\n",
      "Z = 2*Turns  \t\t\t#Number of armature conductors\n",
      "\n",
      "# Calculations and Results\n",
      "#Part(i)\n",
      "A1 = Pole  \t\t\t#no of parallel paths for lap winding\n",
      "E1 = phi*N*Z*Pole/(60*A1)\n",
      "print 'i)  e.m.f generated is %.3f V'%(E1)\n",
      "\n",
      "#Part(ii)\n",
      "A2 = 2  \t\t\t#wave winding\n",
      "E2 = E1 \t\t\t#as mentioned in the question\n",
      "N2 = E2/(phi*Z*Pole/(60*A2)) \t\t\t#E = phi*N*Z*Pole/(60*A)\n",
      "print 'ii)  For wave-wound armature,above calculated e.m.f is generated at %.0f r.p.m'%(N2)\n"
     ],
     "language": "python",
     "metadata": {},
     "outputs": [
      {
       "output_type": "stream",
       "stream": "stdout",
       "text": [
        "i)  e.m.f generated is 263.424 V\n",
        "ii)  For wave-wound armature,above calculated e.m.f is generated at 560 r.p.m\n"
       ]
      }
     ],
     "prompt_number": 4
    },
    {
     "cell_type": "heading",
     "level": 2,
     "metadata": {},
     "source": [
      "Example 1.3 page no: 27"
     ]
    },
    {
     "cell_type": "code",
     "collapsed": false,
     "input": [
      "import math \n",
      "\n",
      "# Variables\n",
      "Pole = 4.\n",
      "coils = 12.\n",
      "commutator_segments = coils\n",
      "coil_sides = coils*2\n",
      "Z = coil_sides  \t\t\t#No of conductors\n",
      "pole_pitch = Z/Pole\n",
      "\n",
      "# Calculations and Results\n",
      "#for Simplex lap winding\n",
      "y_f = pole_pitch-1\n",
      "y_b = pole_pitch+1\n",
      "\n",
      "y_c = 1  \t\t\t#Note that it's positive and it's progressive type of Simplex lap winding\n",
      "\n",
      "\n",
      "print 'WINDING TABLE:   1<-    8->    3<-   10->    5<-   12-> 7<-   14->    9<-   16->   11<-   18->13<-   20->   15<-   22->   17<-   24->19<-    2->   21<-    4->   23<-    6-> 1                                                  '\n",
      "print 'Note that <- indicates back connection with  y_back = %.0f and -> indicates front connection with y_front = %.0f'%(y_b,y_f)\n",
      "print 'Another form of winding table:'\n",
      "print '      BACK CONNECTIONS                                FRONT CONNECTIONS'\n",
      "\n",
      "print '       1 to 1+7  =  8                        ->        8 to 8-5  =  3'\n",
      "print '       3 to 3+7  = 10                        ->       10 to 10-5 =  5'\n",
      "print '       5 to 5+7  = 12                        ->       12 to 12-5 =  7'\n",
      "print '       7 to 7+7  = 14                        ->       14 to 14-5 =  9'\n",
      "print '       9 to 9+7  = 16                        ->       16 to 16-5 = 11'\n",
      "print '      11 to 11+7 = 18                        ->       18 to 18-5 = 13'\n",
      "print '      13 to 13+7 = 20                        ->       20 to 20-5 = 15'\n",
      "print '      15 to 15+7 = 22                        ->       22 to 22-5 = 17'\n",
      "print '      17 to 17+7 = 24                        ->       24 to 24-5 = 19'\n",
      "print '      19 to 19+7 = 26 = 26-24 = 2              ->        2 to 26-5 = 21'\n",
      "print '      21 to 21+7 = 28 = 28-24 = 4              ->        4 to 28-5 = 23'\n",
      "print '      23 to 23+7 = 30 = 30-24 = 6              ->        6 to 30-5 = 25   =  25-24 = 1'\n"
     ],
     "language": "python",
     "metadata": {},
     "outputs": [
      {
       "output_type": "stream",
       "stream": "stdout",
       "text": [
        "WINDING TABLE:   1<-    8->    3<-   10->    5<-   12-> 7<-   14->    9<-   16->   11<-   18->13<-   20->   15<-   22->   17<-   24->19<-    2->   21<-    4->   23<-    6-> 1                                                  \n",
        "Note that <- indicates back connection with  y_back = 7 and -> indicates front connection with y_front = 5\n",
        "Another form of winding table:\n",
        "      BACK CONNECTIONS                                FRONT CONNECTIONS\n",
        "       1 to 1+7  =  8                        ->        8 to 8-5  =  3\n",
        "       3 to 3+7  = 10                        ->       10 to 10-5 =  5\n",
        "       5 to 5+7  = 12                        ->       12 to 12-5 =  7\n",
        "       7 to 7+7  = 14                        ->       14 to 14-5 =  9\n",
        "       9 to 9+7  = 16                        ->       16 to 16-5 = 11\n",
        "      11 to 11+7 = 18                        ->       18 to 18-5 = 13\n",
        "      13 to 13+7 = 20                        ->       20 to 20-5 = 15\n",
        "      15 to 15+7 = 22                        ->       22 to 22-5 = 17\n",
        "      17 to 17+7 = 24                        ->       24 to 24-5 = 19\n",
        "      19 to 19+7 = 26 = 26-24 = 2              ->        2 to 26-5 = 21\n",
        "      21 to 21+7 = 28 = 28-24 = 4              ->        4 to 28-5 = 23\n",
        "      23 to 23+7 = 30 = 30-24 = 6              ->        6 to 30-5 = 25   =  25-24 = 1\n"
       ]
      }
     ],
     "prompt_number": 5
    },
    {
     "cell_type": "heading",
     "level": 2,
     "metadata": {},
     "source": [
      "Example 1.4 page no : 32"
     ]
    },
    {
     "cell_type": "code",
     "collapsed": false,
     "input": [
      "import math \n",
      "\n",
      "# Variables\n",
      "Pole = 4.\n",
      "Z = 18.               \t\t\t#no of armature conductors\n",
      "Y_A = (Z+2)/Pole     \t\t\t#For progressive type wave winding,positive sign is used\n",
      "Y_C = Y_A            \t\t\t#For wave winding\n",
      "\n",
      "# Calculations\n",
      "#Since Y_A = (y_b+y_f)/2, we let y_b = Y_f\n",
      "y_b = Y_A/2   \t\t\t#say\n",
      "y_f = y_b\n",
      "\n",
      "coils = Z/2\n",
      "slots = coils\n",
      "commutator_segments = coils\n",
      "\n",
      "print commutator_segments\n",
      "print 'WINDING TABLE:   1<-    6->  11<-  16->   3<-   8->13<-   18->   5<-  10->  15<-   2-> 7<-   12->  17<-   4->   9<-  14->1                                                  '\n",
      "\n",
      "print 'Another form of winding table:'\n",
      "\n",
      "print '      BACK CONNECTIONS                                FRONT CONNECTIONS'\n",
      "\n",
      "print '       1 to 1+5   =  6                       ->        6 to 6+5  =  11'\n",
      "print '      11 to 11+5  = 16                       ->       16 to 16+5 =  21 -18 = 3'\n",
      "print '       3 to 3+5   =  8                       ->        8 to  8+5 =  13'\n",
      "print '      13 to 13+5  = 18                       ->       18 to 18+5 =  23 -18 = 5'\n",
      "print '       5 to 5+5   = 10                       ->       10 to 10+5 =  15'\n",
      "print '      15 to 15+5  = 20 -18 = 2                 ->        2 to  2+5 =   7'\n",
      "print '       7 to 7+5   = 12                       ->       12 to 12+5 =  17'\n",
      "print '      17 to 17+5  = 22 -18 = 4                 ->        4 to  4+5 =   9'\n",
      "print '       9 to 9+5   = 14                       ->       14 to 14+5 =  19 -18 = 1'\n"
     ],
     "language": "python",
     "metadata": {},
     "outputs": [
      {
       "output_type": "stream",
       "stream": "stdout",
       "text": [
        "9.0\n",
        "WINDING TABLE:   1<-    6->  11<-  16->   3<-   8->13<-   18->   5<-  10->  15<-   2-> 7<-   12->  17<-   4->   9<-  14->1                                                  \n",
        "Another form of winding table:\n",
        "      BACK CONNECTIONS                                FRONT CONNECTIONS\n",
        "       1 to 1+5   =  6                       ->        6 to 6+5  =  11\n",
        "      11 to 11+5  = 16                       ->       16 to 16+5 =  21 -18 = 3\n",
        "       3 to 3+5   =  8                       ->        8 to  8+5 =  13\n",
        "      13 to 13+5  = 18                       ->       18 to 18+5 =  23 -18 = 5\n",
        "       5 to 5+5   = 10                       ->       10 to 10+5 =  15\n",
        "      15 to 15+5  = 20 -18 = 2                 ->        2 to  2+5 =   7\n",
        "       7 to 7+5   = 12                       ->       12 to 12+5 =  17\n",
        "      17 to 17+5  = 22 -18 = 4                 ->        4 to  4+5 =   9\n",
        "       9 to 9+5   = 14                       ->       14 to 14+5 =  19 -18 = 1\n"
       ]
      }
     ],
     "prompt_number": 6
    },
    {
     "cell_type": "heading",
     "level": 2,
     "metadata": {},
     "source": [
      "Example 1.5 page no : 42"
     ]
    },
    {
     "cell_type": "code",
     "collapsed": false,
     "input": [
      "import math \n",
      "\n",
      "# Variables\n",
      "Pole = 4.\n",
      "Z = 480.             \t\t\t#No of armature conductors\n",
      "I_a = 144.\n",
      "I = I_a/2           \t\t\t#For wave wound\n",
      "theta_m = 10.        \t\t\t#lead angle in DEGREES\n",
      "\n",
      "# Calculations\n",
      "amp_turns_PP_d = Z*I*theta_m/360  \t\t\t#demagnetising Ampere-turns per pole\n",
      "amp_turns_PP_c = Z*I*(1/(2*Pole)-theta_m/360) \t\t\t#cross-magnetising Ampere-turns per pole\n",
      "\n",
      "# Results\n",
      "print 'De-magnetising ampere-turns per pole is %.0f'%(amp_turns_PP_d)\n",
      "print 'Cross-magnetising ampere-turns per pole is %.0f'%(amp_turns_PP_c)\n"
     ],
     "language": "python",
     "metadata": {},
     "outputs": [
      {
       "output_type": "stream",
       "stream": "stdout",
       "text": [
        "De-magnetising ampere-turns per pole is 960\n",
        "Cross-magnetising ampere-turns per pole is 3360\n"
       ]
      }
     ],
     "prompt_number": 7
    },
    {
     "cell_type": "heading",
     "level": 2,
     "metadata": {},
     "source": [
      "Example 1.6 page no : 46"
     ]
    },
    {
     "cell_type": "code",
     "collapsed": false,
     "input": [
      "import math \n",
      "\n",
      "# Variables\n",
      "Pole = 10.\n",
      "Z = 800.            \t\t\t#No of armature conductors\n",
      "A = Pole            \t\t\t#For lap wound\n",
      "ratio = 0.7           \t\t\t#ratio of pole arc to pole pitch\n",
      "\n",
      "# Calculations\n",
      "#amp_turns_PP = ratio*(I_a*Z)/(2*A*P)\n",
      "turns_PP = ratio*(Z)/(2*A*Pole)   \t\t\t#turns per pole\n",
      "conductors_PP = turns_PP*2 \t\t\t#multiplied with 2 because 2 conductors form 1 turn\n",
      "\n",
      "# Results\n",
      "print 'Compensating conductors per pole =  %.f'%(conductors_PP)\n"
     ],
     "language": "python",
     "metadata": {},
     "outputs": [
      {
       "output_type": "stream",
       "stream": "stdout",
       "text": [
        "Compensating conductors per pole =  6\n"
       ]
      }
     ],
     "prompt_number": 9
    },
    {
     "cell_type": "heading",
     "level": 2,
     "metadata": {},
     "source": [
      "Example 1.7 page no : 52"
     ]
    },
    {
     "cell_type": "code",
     "collapsed": false,
     "input": [
      "\n",
      "# Variables\n",
      "I_L = 150.\n",
      "A = 4.\n",
      "N = 1800.   \t\t\t#in rpm\n",
      "W_b = 1.2   \t\t\t#Brush width\n",
      "W_m = 0     \t\t\t#width of mica insulation\n",
      "L = 0.06*10**-3 \t\t\t#Inducmath.tance\n",
      "segments = 64.\n",
      "n_s = 1800./60   \t\t\t#in rps and not rpm\n",
      "v = n_s*segments  \t\t\t#peripheral speed in segments per second\n",
      "\n",
      "# Calculations and Results\n",
      "T_c = (W_b-W_m)/v  \t\t\t#Time of commutation\n",
      "I = I_L/A  \t\t\t#Current through a conductor\n",
      "\n",
      "#Part(i)\n",
      "E_l = L*2*I/T_c\n",
      "print 'i)   Reactive voltage using Linear commutation is %.1f V'%(E_l)\n",
      "\n",
      "#Part(ii)\n",
      "E_s = 1.11*L*2*I/T_c\n",
      "print 'ii)  Reactive voltage using Sinusoidal commutation is %.3f V'%(E_s)\n"
     ],
     "language": "python",
     "metadata": {},
     "outputs": [
      {
       "output_type": "stream",
       "stream": "stdout",
       "text": [
        "i)   Reactive voltage using Linear commutation is 7.2 V\n",
        "ii)  Reactive voltage using Sinusoidal commutation is 7.992 V\n"
       ]
      }
     ],
     "prompt_number": 10
    },
    {
     "cell_type": "heading",
     "level": 2,
     "metadata": {},
     "source": [
      "Example 1.8 page no : 63"
     ]
    },
    {
     "cell_type": "code",
     "collapsed": false,
     "input": [
      "\n",
      "# Variables\n",
      "V_t = 250.  \t\t\t#Terminal voltage\n",
      "R_sh = 100.  \t\t\t#resistance of shunt field winding\n",
      "I_sh = V_t/R_sh \t\t\t#shunt current\n",
      "R_a = 0.22  \t\t\t#Armature resistance\n",
      "\n",
      "# Calculations\n",
      "P = 5*10**3  \t\t\t#Load power\n",
      "I_L = P/V_t  \t\t\t#Load current\n",
      "I_a = I_L+I_sh \t\t\t#armature current\n",
      "\n",
      "E = V_t + I_a*R_a  \t\t\t#Induced emf\n",
      "\n",
      "# Results\n",
      "print 'Induced e.m.f to supply the 5kW load is %.2f V'%(E)\n"
     ],
     "language": "python",
     "metadata": {},
     "outputs": [
      {
       "output_type": "stream",
       "stream": "stdout",
       "text": [
        "Induced e.m.f to supply the 5kW load is 254.95 V\n"
       ]
      }
     ],
     "prompt_number": 11
    },
    {
     "cell_type": "heading",
     "level": 2,
     "metadata": {},
     "source": [
      "Example 1.9 page no : 63"
     ]
    },
    {
     "cell_type": "code",
     "collapsed": false,
     "input": [
      "\n",
      "# Variables\n",
      "V_t = 250.  \t\t\t#terminal voltage\n",
      "P = 10.*10**3  \t\t\t#10kW power of generator\n",
      "I_L = P/V_t \t\t\t#load current\n",
      "I_a = I_L  \t    \t\t#As seperately excited\n",
      "V_brush = 2.*2 \t\t\t# 2 * no of brushes\n",
      "\n",
      "E = 255.      \t\t\t#on full load\n",
      "\n",
      "# Calculations\n",
      "R_a = (E-V_t-V_brush)/I_a \t\t\t#Because E = V_t+ I_a*R_a  + V_brush\n",
      "\n",
      "# Results\n",
      "print 'Armature resistance of generator is %.3f ohm'%(R_a)\n"
     ],
     "language": "python",
     "metadata": {},
     "outputs": [
      {
       "output_type": "stream",
       "stream": "stdout",
       "text": [
        "Armature resistance of generator is 0.025 ohm\n"
       ]
      }
     ],
     "prompt_number": 12
    },
    {
     "cell_type": "heading",
     "level": 2,
     "metadata": {},
     "source": [
      "Example 1.10 page no : 64"
     ]
    },
    {
     "cell_type": "code",
     "collapsed": false,
     "input": [
      "import math \n",
      "\n",
      "# Variables\n",
      "R_a = 0.5\n",
      "R_se = 0.03  \t\t\t#resimath.tance due to armature and series field winding\n",
      "V_brush = 2. \t\t\t#brush drop\n",
      "N = 1500. \t\t\t#generator speed in r.p.m\n",
      "coils = 540.\n",
      "turns_per_coil = 6.\n",
      "\n",
      "# Calculations\n",
      "total_turns =  coils*turns_per_coil\n",
      "Z = 2*total_turns \t\t\t#Total conductors\n",
      "I_a = 50         \t\t\t#armature current\n",
      "\n",
      "phi = 2*10**-3  \t\t\t#flux per pole in webers\n",
      "E = phi*N*Z/(60)  \t\t\t#A = P for lap-wound and they cancel out\n",
      "V_t  = E- (I_a*(R_a+R_se)  + V_brush)   \t\t\t#Because E = V_t+ I_a*R_a  + V_brush\n",
      "\n",
      "# Results\n",
      "print 'Terminal voltage is %.1f V'%(V_t)\n"
     ],
     "language": "python",
     "metadata": {},
     "outputs": [
      {
       "output_type": "stream",
       "stream": "stdout",
       "text": [
        "Terminal voltage is 295.5 V\n"
       ]
      }
     ],
     "prompt_number": 13
    },
    {
     "cell_type": "heading",
     "level": 2,
     "metadata": {},
     "source": [
      "Example 1.11 page no : 65"
     ]
    },
    {
     "cell_type": "code",
     "collapsed": false,
     "input": [
      "\n",
      "# Variables\n",
      "V_t = 225. \t\t\t#voltage across winding\n",
      "R_a = 0.04 \t\t\t#armature resistance\n",
      "R_sh = 90 \t\t\t#shunt resistance\n",
      "R_se = 0.02\t\t\t#resistance of series field winding\n",
      "I_L = 75. \t\t\t#load current\n",
      "\n",
      "# Calculations\n",
      "#E -I_a*R_a = V_t+I_L*R_se \n",
      "I_sh = (V_t+I_L*R_se)/R_sh  \t\t\t#current through shunt field winding\n",
      "\n",
      "I_a = I_L + I_sh  \t\t\t        #armature current \n",
      "E = V_t+ I_a*R_a+I_L*R_se  \t\t\t#induced emf\n",
      "\n",
      "# Results\n",
      "print 'Generated voltage is %.1f V'%(E)\n"
     ],
     "language": "python",
     "metadata": {},
     "outputs": [
      {
       "output_type": "stream",
       "stream": "stdout",
       "text": [
        "Generated voltage is 229.6 V\n"
       ]
      }
     ],
     "prompt_number": 14
    },
    {
     "cell_type": "heading",
     "level": 2,
     "metadata": {},
     "source": [
      "Example 1.12 page no : 76"
     ]
    },
    {
     "cell_type": "code",
     "collapsed": false,
     "input": [
      "\n",
      "# Variables\n",
      "R_sh = 53.  \t\t\t#resistance of field winding\n",
      "V_t = 100.   \t\t\t#terminal voltage \n",
      "I_sh  = V_t/R_sh \t\t\t#shunt current\n",
      "I_f = I_sh\n",
      "R_a = 0.1 \t\t\t#armature resistance\n",
      "E_o = 143. \t\t\t# for I_sh =  I_f  =  1.8867 as obtained from graph\n",
      "\n",
      "# Calculations\n",
      "I_a = (E_o-V_t)/R_a  \t\t\t#Because E_o = V_t + I_a*R_a\n",
      "I_L = I_a-I_sh  \t\t\t#no load current\n",
      "\n",
      "# Results\n",
      "print 'Note: Open circuit voltage was obtained as followsE_o = R_sh*I_f   \t\t\t# y = mx+c form with c = 0 and R_sh = 53Hence%( a line with slope 53 through origin is made to intersect OCC at 150 V'\n",
      "print 'Therefore, Open circuit voltage is 150 V'\n",
      "print 'No load current is %.4f A    '%(I_L)\n"
     ],
     "language": "python",
     "metadata": {},
     "outputs": [
      {
       "output_type": "stream",
       "stream": "stdout",
       "text": [
        "Note: Open circuit voltage was obtained as followsE_o = R_sh*I_f   \t\t\t# y = mx+c form with c = 0 and R_sh = 53Hence%( a line with slope 53 through origin is made to intersect OCC at 150 V\n",
        "Therefore, Open circuit voltage is 150 V\n",
        "No load current is 428.1132 A    \n"
       ]
      }
     ],
     "prompt_number": 15
    },
    {
     "cell_type": "heading",
     "level": 2,
     "metadata": {},
     "source": [
      "Example 1.13 page no : 79"
     ]
    },
    {
     "cell_type": "code",
     "collapsed": false,
     "input": [
      "\n",
      "# Variables\n",
      "#part(1)\n",
      "E_o = 240.  \t\t\t#on no-load\n",
      "\n",
      "# Calculations and Results\n",
      "#Draw horizontal line from 240 V, to intersect OCC at A. corresponding I_f is 2.25 A\n",
      "#The slope pf OA is corresponding R_sh\n",
      "I_f = 2.25  \t\t\t#Corresponds to 240 V when intersected OCC\n",
      "R_sh = E_o/I_f  \t\t\t#shunt resistance\n",
      "print 'i)Field resistance that gives 240 V on no-load is %.2f ohms '%(R_sh)\n",
      "\n",
      "#Part(ii)\n",
      "N1 = 1000. \t\t\t#speed of shunt generator in rpm\n",
      "I_f = 1.\n",
      "\n",
      "#Draw line OP math.tangential to OCC at N1 = 1000 r.p.m.\n",
      "#Select I_f = 1A i.e. point R\n",
      "#Draw vertical from R to intersect OP at S and OA at T....this gives RT = 105 and RS = 159\n",
      "#At critcal speed generator just fails to build up\n",
      "\n",
      "RT = 105.\n",
      "RS = 159.\n",
      "N_C = N1*RT/RS \t\t\t#Critical speed\n",
      "print 'ii)Critical speed is %.2f r.p.m '%(N_C)\n"
     ],
     "language": "python",
     "metadata": {},
     "outputs": [
      {
       "output_type": "stream",
       "stream": "stdout",
       "text": [
        "i)Field resistance that gives 240 V on no-load is 106.67 ohms \n",
        "ii)Critical speed is 660.38 r.p.m \n"
       ]
      }
     ],
     "prompt_number": 16
    },
    {
     "cell_type": "heading",
     "level": 2,
     "metadata": {},
     "source": [
      "Example 1.14 page no : 80"
     ]
    },
    {
     "cell_type": "code",
     "collapsed": false,
     "input": [
      "\n",
      "# Variables\n",
      "P = 4.  \t\t\t#number of poles\n",
      "A = 2. \t\t\t#because wave wound\n",
      "Z = 792 \t\t\t#No of conductors\n",
      "phi = 0.012  \t\t\t#flux per pole in weber\n",
      "E_g = 240 \t\t\t#on no-load\n",
      "\n",
      "# Calculations\n",
      "#running speed\n",
      "N = E_g*60*A/(phi*P*Z) \t\t\t#becuase E_g =  phi*P*N*Z/(60*A)\n",
      "\n",
      "# Results\n",
      "print 'Required running speed is %.3f r.p.m'%(N)\n"
     ],
     "language": "python",
     "metadata": {},
     "outputs": [
      {
       "output_type": "stream",
       "stream": "stdout",
       "text": [
        "Required running speed is 757.576 r.p.m\n"
       ]
      }
     ],
     "prompt_number": 17
    },
    {
     "cell_type": "heading",
     "level": 2,
     "metadata": {},
     "source": [
      "Example 1.15 page no : 80"
     ]
    },
    {
     "cell_type": "code",
     "collapsed": false,
     "input": [
      "import math \n",
      "\n",
      "# Variables\n",
      "#open circuit condition\n",
      "I_L = 0.  \t\t\t#because of open circuit\n",
      "V_t = 127. \t\t\t#terminal voltage\n",
      "E_g = V_t \t\t\t#because I_L = 0\n",
      "\n",
      "# Calculations\n",
      "#load condition\n",
      "V_t = 120\n",
      "R_sh = 15.\n",
      "R_a = 0.02  \t\t\t#shunt and armature resistance\n",
      "I_sh1 = V_t/R_sh \t\t\t#current through shunt winding in loaded condition\n",
      "\n",
      "I_L  = (E_g-V_t)/R_a  -  I_sh1 \t\t\t#because I_a1 = I_L+I_sh1    and    E_g = V_t + I_a1*R_a\n",
      "\n",
      "# Results\n",
      "print 'Load current is %.0f A'%(I_L)\n"
     ],
     "language": "python",
     "metadata": {},
     "outputs": [
      {
       "output_type": "stream",
       "stream": "stdout",
       "text": [
        "Load current is 342 A\n"
       ]
      }
     ],
     "prompt_number": 18
    },
    {
     "cell_type": "heading",
     "level": 2,
     "metadata": {},
     "source": [
      "Example 1.16 page no : 81"
     ]
    },
    {
     "cell_type": "code",
     "collapsed": false,
     "input": [
      "\n",
      "# Variables\n",
      "V_t = 550.  \t\t\t#Terminal voltage\n",
      "R_lamp = 500. \t\t\t#Each lamp\n",
      "I_lamp = V_t/R_lamp  \t\t\t#each lamp ; V_t because all lamps are in parallel\n",
      "\n",
      "# Calculations\n",
      "I_L = 20*I_lamp  \t\t\t#there exist 20 lamps\n",
      "R_sh = 25.\n",
      "R_a = 0.06\n",
      "R_se = 0.04  \t\t\t#resistance of shunt winding,armature,series field\n",
      "I_sh = V_t/R_sh \t\t\t#current throough shunt winding\n",
      "I_a = I_L+I_sh\t\t\t#armature current\n",
      "E = V_t + I_a*(R_a+R_se)  \t\t\t#generated emf\n",
      "\n",
      "# Results\n",
      "print 'Armature current and generated e.m.f is %.0f A and %.1f V respectively '%(I_a,E )\n"
     ],
     "language": "python",
     "metadata": {},
     "outputs": [
      {
       "output_type": "stream",
       "stream": "stdout",
       "text": [
        "Armature current and generated e.m.f is 44 A and 554.4 V respectively \n"
       ]
      }
     ],
     "prompt_number": 19
    },
    {
     "cell_type": "heading",
     "level": 2,
     "metadata": {},
     "source": [
      "Example 1.17 page no : 82"
     ]
    },
    {
     "cell_type": "code",
     "collapsed": false,
     "input": [
      "\n",
      "# Variables\n",
      "P = 4. \t\t\t#number of poles\n",
      "A = P \t\t\t# because of lap wound\n",
      "N = 750. \t\t\t#speed in rpm\n",
      "Z = 720. \t\t\t#number of armature conductors\n",
      "phi = 30.*10**-3  \t\t\t#flux per pole in weber\n",
      "R_sh = 200.\n",
      "R_a = 0.4\n",
      "R_L = 15. \t\t\t#resistance of shunt winding,armature,series field\n",
      "E = phi*P*N*Z/(60*A) \t\t\t#generated emf\n",
      "\n",
      "# Calculations\n",
      "#solving the following equations for V_t\n",
      "#E =  V_t + I_a*R_a\n",
      "#E =  V_t + (I_L + I_sh)*R_a\n",
      "#E =  V_t + ((V_t/R_L) + (V_t/R_sh))*R_a\n",
      "V_t = E/(1+(R_a/R_L)+(R_a/R_sh))\n",
      "\n",
      "# Results\n",
      "print 'Terminal voltage  =  %.4f V'%(V_t)\n"
     ],
     "language": "python",
     "metadata": {},
     "outputs": [
      {
       "output_type": "stream",
       "stream": "stdout",
       "text": [
        "Terminal voltage  =  262.4757 V\n"
       ]
      }
     ],
     "prompt_number": 20
    },
    {
     "cell_type": "heading",
     "level": 2,
     "metadata": {},
     "source": [
      "Example 1.18 page no : 83"
     ]
    },
    {
     "cell_type": "code",
     "collapsed": false,
     "input": [
      "\n",
      "# Variables\n",
      "P = 6. \t\t\t#number of poles\n",
      "A = 2. \t\t\t# because of wave wound\n",
      "N_1 = 300. \t\t\t#speed of generator\n",
      "Z = 600. \t\t\t#number of armature conductors\n",
      "phi_1 = 0.06  \t\t\t#flux per pole in webers \n",
      "\n",
      "# Calculations and Results\n",
      "E_g1 = phi_1*P*N_1*Z/(60*A) \t\t\t#generated emf\n",
      "print 'Emf generated is %.0f V'%(E_g1)\n",
      "\n",
      "phi_2 = 0.055 \t\t\t#new flux per pole \n",
      "E_g2 = 550.\t\t\t# new generated emf\n",
      "N_2 = E_g2/(phi_2*P*Z/(60*A)) \t\t\t#new speed of generator\n",
      "print 'Required speed is %.2f r.p.m'%(N_2)\n"
     ],
     "language": "python",
     "metadata": {},
     "outputs": [
      {
       "output_type": "stream",
       "stream": "stdout",
       "text": [
        "Emf generated is 540 V\n",
        "Required speed is 333.33 r.p.m\n"
       ]
      }
     ],
     "prompt_number": 21
    },
    {
     "cell_type": "heading",
     "level": 2,
     "metadata": {},
     "source": [
      "Example 1.19 page no  : 84"
     ]
    },
    {
     "cell_type": "code",
     "collapsed": false,
     "input": [
      "import math \n",
      "\n",
      "\n",
      "print 'Refer to code for explanation'\n",
      "\n",
      "# Variables\n",
      "N_1 = 300.\n",
      "N_2 = 375. \t\t\t#generator speeds\n",
      "\n",
      "#E_g2 = E_g1*(N_2/N_1)\n",
      "#using this new table OCC at N_2 = 375 is made\n",
      "#Draw a line with slope R_sh = 40 through origin which cuts this OCC at 248\n",
      "#I_f_table = [0,2,3,4,5,6,7]\n",
      "#Arm_vol_table = [9.375,115,165,202.5,228.75,237.5,265]\n",
      "\n",
      "#part(i)\n",
      "#at V = 200 volts, I_f = 3.9 from the graph\n",
      "V = 200.\n",
      "I_f = 3.9\n",
      "\n",
      "# Calculations and Results\n",
      "R_sh2 = V/I_f\n",
      "R_sh = 40.\n",
      "print 'Additional resistance required is %.3f ohms  '%(R_sh2-R_sh)\n",
      "\n",
      "#part(ii)\n",
      "V_t = 200.\n",
      "I_f = V_t/R_sh\n",
      "E_g = 228.75   \t\t\t#For this I_f from the table \n",
      "R_a = 0.4\n",
      "I_a = (E_g-V_t)/R_a   \t\t\t#Because E_g = V_t + I_a*R_a\n",
      "I_L = I_a-I_f\n",
      "print 'Load current supplied by the generator is %.3f A'%(I_L)\n"
     ],
     "language": "python",
     "metadata": {},
     "outputs": [
      {
       "output_type": "stream",
       "stream": "stdout",
       "text": [
        "Refer to code for explanation\n",
        "Additional resistance required is 11.282 ohms  \n",
        "Load current supplied by the generator is 66.875 A\n"
       ]
      }
     ],
     "prompt_number": 22
    },
    {
     "cell_type": "heading",
     "level": 2,
     "metadata": {},
     "source": [
      "Example 1.20 page no : 86"
     ]
    },
    {
     "cell_type": "code",
     "collapsed": false,
     "input": [
      "\n",
      "# Variables\n",
      "I_a = 750. \t\t\t#full load current \n",
      "Pole = 6. \n",
      "A = Pole \t\t\t#lap winding\n",
      "I = I_a/A  \t\t\t#Full-load current per path\n",
      "Z = 900. \t\t\t#no of conductors\n",
      "lambda1 = 1.4  \t\t\t#leakage coefficient\n",
      "theta_e = 21. \t\t\t#lead angle in degrees electrical\n",
      "\n",
      "# Calculations\n",
      "theta_m = theta_e/(Pole/2)  \t\t\t#lead angle in degrees mechanical\n",
      "amp_turns_PP_d = Z*I*theta_m/360  \t\t\t#demagnetising ampere turns per pole\n",
      "amp_turns_PP_c = Z*I*(1./(2*Pole)-theta_m/360)  \t\t\t#cross-magnetising ampere turns per pole\n",
      "balance_turns = amp_turns_PP_d*lambda1/I_a \t\t\t#series turns required to balance demagnetising component\n",
      "\n",
      "# Results\n",
      "print 'i)  De-magnetising ampere-turns per pole is %.1f'%(amp_turns_PP_d)\n",
      "print 'ii) Cross-magnetising ampere-turns per pole is %.1f'%(amp_turns_PP_c)\n",
      "print 'iii)Turns required to balance demagnetising component is %.0f'%(balance_turns)\n"
     ],
     "language": "python",
     "metadata": {},
     "outputs": [
      {
       "output_type": "stream",
       "stream": "stdout",
       "text": [
        "i)  De-magnetising ampere-turns per pole is 2187.5\n",
        "ii) Cross-magnetising ampere-turns per pole is 7187.5\n",
        "iii)Turns required to balance demagnetising component is 4\n"
       ]
      }
     ],
     "prompt_number": 23
    },
    {
     "cell_type": "heading",
     "level": 2,
     "metadata": {},
     "source": [
      "Example 1.21 page no : 87"
     ]
    },
    {
     "cell_type": "code",
     "collapsed": false,
     "input": [
      "\n",
      "# Variables\n",
      "Pole = 4. \n",
      "Z = 32.  \t\t\t#no of conductors\n",
      "coil_sides = Z \n",
      "segments = 16.\n",
      "pole_pitch = Z/Pole\n",
      "slots = 16.\n",
      "slots_per_pole = slots/Pole\n",
      "\n",
      "# Calculations\n",
      "#for Simplex lap winding\n",
      "y_b = pole_pitch+1  \t\t\t#back pitch\n",
      "y_f = pole_pitch-1  \t\t\t#front pitch\n",
      "\n",
      "y_c = 1  \t\t\t#Commutator pitch; Note that it is positive and it is progressive type of Simplex lap winding\n",
      "\n",
      "# Results\n",
      "print 'WINDING TABLE:   1<-   10->    3<-   12->    5<-   14-> 7<-   16->    9<-   18->   11<-   20->13<-   22->   15<-   24->   17<-   26->19<-   28->   21<-   30->   23<-   32->25<-    2->   27<-    4->   29<-    6->31<-   8->1                                                  '\n",
      "print 'Note that <- indicates back connection with  y_back = %.0f and -> indicates front connection with y_front = %.0f'%(y_b,y_f)\n",
      "\n",
      "print 'Another form of winding table:'\n",
      "\n",
      "print '      BACK CONNECTIONS                                FRONT CONNECTIONS'\n",
      "\n",
      "print '       1 to 1+9  = 10                        ->       10 to 10-7  = 3'\n",
      "print '       3 to 3+9  = 12                        ->       12 to 12-7 =  5'\n",
      "print '       5 to 5+9  = 14                        ->       14 to 14-7 =  7'\n",
      "print '       7 to 7+9  = 16                        ->       16 to 16-7 =  9'\n",
      "print '       9 to 9+9  = 18                        ->       18 to 18-7 = 11'\n",
      "print '      11 to 11+9 = 20                        ->       20 to 20-7 = 13'\n",
      "print '      13 to 13+9 = 22                        ->       22 to 22-7 = 15'\n",
      "print '      15 to 15+9 = 24                        ->       24 to 24-7 = 17'\n",
      "print '      17 to 17+9 = 26                        ->       26 to 26-7 = 19'\n",
      "print '      19 to 19+9 = 28                        ->       28 to 28-7 = 21'\n",
      "print '      21 to 21+9 = 30                        ->       30 to 30-7 = 23'\n",
      "print '      23 to 23+9 = 32                        ->       32 to 32-7 = 25'\n",
      "print '      25 to 25+9 = 34 = 34-32 = 2              ->        2 to 34-7 = 27'\n",
      "print '      27 to 27+9 = 36 = 36-32 = 4              ->        4 to 36-7 = 29'\n",
      "print '      29 to 29+9 = 38 = 38-32 = 6              ->        6 to 38-7 = 31'\n",
      "print '      31 to 31+9 = 40 = 40-32 = 4              ->        8 to 40-7 = 33 -32 =  1'\n"
     ],
     "language": "python",
     "metadata": {},
     "outputs": [
      {
       "output_type": "stream",
       "stream": "stdout",
       "text": [
        "WINDING TABLE:   1<-   10->    3<-   12->    5<-   14-> 7<-   16->    9<-   18->   11<-   20->13<-   22->   15<-   24->   17<-   26->19<-   28->   21<-   30->   23<-   32->25<-    2->   27<-    4->   29<-    6->31<-   8->1                                                  \n",
        "Note that <- indicates back connection with  y_back = 9 and -> indicates front connection with y_front = 7\n",
        "Another form of winding table:\n",
        "      BACK CONNECTIONS                                FRONT CONNECTIONS\n",
        "       1 to 1+9  = 10                        ->       10 to 10-7  = 3\n",
        "       3 to 3+9  = 12                        ->       12 to 12-7 =  5\n",
        "       5 to 5+9  = 14                        ->       14 to 14-7 =  7\n",
        "       7 to 7+9  = 16                        ->       16 to 16-7 =  9\n",
        "       9 to 9+9  = 18                        ->       18 to 18-7 = 11\n",
        "      11 to 11+9 = 20                        ->       20 to 20-7 = 13\n",
        "      13 to 13+9 = 22                        ->       22 to 22-7 = 15\n",
        "      15 to 15+9 = 24                        ->       24 to 24-7 = 17\n",
        "      17 to 17+9 = 26                        ->       26 to 26-7 = 19\n",
        "      19 to 19+9 = 28                        ->       28 to 28-7 = 21\n",
        "      21 to 21+9 = 30                        ->       30 to 30-7 = 23\n",
        "      23 to 23+9 = 32                        ->       32 to 32-7 = 25\n",
        "      25 to 25+9 = 34 = 34-32 = 2              ->        2 to 34-7 = 27\n",
        "      27 to 27+9 = 36 = 36-32 = 4              ->        4 to 36-7 = 29\n",
        "      29 to 29+9 = 38 = 38-32 = 6              ->        6 to 38-7 = 31\n",
        "      31 to 31+9 = 40 = 40-32 = 4              ->        8 to 40-7 = 33 -32 =  1\n"
       ]
      }
     ],
     "prompt_number": 24
    },
    {
     "cell_type": "heading",
     "level": 2,
     "metadata": {},
     "source": [
      "Example 1.22 page no : 89"
     ]
    },
    {
     "cell_type": "code",
     "collapsed": false,
     "input": [
      "from numpy import array\n",
      "\n",
      "# Variables\n",
      "Z = 496. \t\t\t#no of conductors\n",
      "P = 4. \t\t\t#poles\n",
      "slots = 31.\n",
      "coilsides_per_slot = 4.\n",
      "coilsides = slots*coilsides_per_slot\n",
      "coils = coilsides/2\n",
      "turns = Z/2\n",
      "turns_per_coil = turns/coils\n",
      "\n",
      "# Calculations\n",
      "y_c = array([(Z-2)/P, (Z+2)/P]) \t\t\t#commutator pitch\n",
      "coils_active = (Z/(2*P))-1 \t\t\t# because y_c didnt turn out to be integer, 1 coil was made inactive/dummy\n",
      "segments = coils_active  \t\t\t#no of commutative segments\n",
      "Y_A = [ (segments+1)/(P/2), (segments-1)/(P/2)   ]\n",
      "Y_A = Y_A[0]   \t\t\t#Y_A(2) is discarded because of progressive wave winding\n",
      "y_f = 29.\n",
      "y_b = 33.  \t\t\t#front and back pitch ; note that Y_A = (y_b+y_f)/2\n",
      "resultant_pitch = 2*Y_A  \t\t\t#because Y_A = (y_b+y_f)/2 and resultant pitch  =  y_b+ y_f\n",
      "\n",
      "# Results\n",
      "print 'i)   Total number of coils  =  %.0f'%(coils)\n",
      "print 'ii)  Turns per coils  =  %.0f'%(turns_per_coil)\n",
      "print 'iii) Commutator pitch  =  %.0f'%((y_c[0]+y_c[1])/2)\n",
      "print 'iv)  Back pitch =  %.0f    front pitch =  %.0f   total pitch =  %.0f'%(y_b,y_f,resultant_pitch)\n",
      "print 'v)   No of commutator segments  =  %.0f'%(segments)\n"
     ],
     "language": "python",
     "metadata": {},
     "outputs": [
      {
       "output_type": "stream",
       "stream": "stdout",
       "text": [
        "i)   Total number of coils  =  62\n",
        "ii)  Turns per coils  =  4\n",
        "iii) Commutator pitch  =  124\n",
        "iv)  Back pitch =  33    front pitch =  29   total pitch =  62\n",
        "v)   No of commutator segments  =  61\n"
       ]
      }
     ],
     "prompt_number": 1
    },
    {
     "cell_type": "heading",
     "level": 2,
     "metadata": {},
     "source": [
      "Example 1.23 page no : 90"
     ]
    },
    {
     "cell_type": "code",
     "collapsed": false,
     "input": [
      "import math \n",
      "\n",
      "# Variables\n",
      "slots = 13.\n",
      "Pole = 4.\n",
      "conductors_per_slot = 2.\n",
      "Z = conductors_per_slot*slots\n",
      "Y_A = (Z+2)/Pole  \t\t\t#For progressive type wave winding\n",
      "\n",
      "# Calculations\n",
      "#Since Y_A = (y_b+y_f)/2, we let y_b = y_f\n",
      "y_b = Y_A\n",
      "y_f = y_b \t\t    \t#because y_b = Y_A/2\n",
      "\n",
      "segments = 13. \t\t\t#commutator segments\n",
      "\n",
      "# Results\n",
      "print 'WINDING TABLE:   1<-    8->  15<-  22->   3<-   10->17<-   24->   5<-  12->  19<-   26-> 7<-   14->  21<-   2->   9<-   16->23<-    4->  11<-  18->  25<-    6->13<-   20->   1                                                  '\n",
      "print 'Note that <- indicates back connection with y_back = %.0f and -> indicates front connection with y_front = %.0f'%(y_b,y_f)\n",
      "\n",
      "print 'Another form of winding table:'\n",
      "\n",
      "print '      BACK CONNECTIONS                                FRONT CONNECTIONS'\n",
      "\n",
      "print '       1 to 1+7   =  8                   ->        8 to 8+7  =  15'\n",
      "print '      15 to 15+7  = 22                   ->       22 to 22+7 =  29 -26 = 3'\n",
      "print '       3 to 3+7   = 10                   ->       10 to 10+7 =  17'\n",
      "print '      17 to 17+7  = 24                   ->       24 to 24+7 =  31 -26 = 5'\n",
      "print '       5 to 5+7   = 14                   ->       12 to 12+7 =  19'\n",
      "print '      19 to 19+7  = 26                   ->       26 to 26+7 =  33 -26 = 7'\n",
      "print '       7 to 7+7   = 14                   ->       14 to 14+7 =  21'\n",
      "print '      21 to 21+7  = 28 -26 = 2             ->        2 to  2+7 =   9'\n",
      "print '       9 to 9+7   = 16                   ->       16 to 16+7 =  23 '\n",
      "print '      23 to 23+7  = 30 -26 = 4             ->        4 to  4+7 =  11'\n",
      "print '       11to 11+7  = 18                   ->       18 to 18+7 =  25'\n",
      "print '      25 to 25+7  = 32 -26 = 6             ->        6 to  6+7 =  13'\n",
      "print '      13 to`13+7  = 20                   ->       20 to 20+7 =  27 -26 = 1'\n"
     ],
     "language": "python",
     "metadata": {},
     "outputs": [
      {
       "output_type": "stream",
       "stream": "stdout",
       "text": [
        "WINDING TABLE:   1<-    8->  15<-  22->   3<-   10->17<-   24->   5<-  12->  19<-   26-> 7<-   14->  21<-   2->   9<-   16->23<-    4->  11<-  18->  25<-    6->13<-   20->   1                                                  \n",
        "Note that <- indicates back connection with y_back = 7 and -> indicates front connection with y_front = 7\n",
        "Another form of winding table:\n",
        "      BACK CONNECTIONS                                FRONT CONNECTIONS\n",
        "       1 to 1+7   =  8                   ->        8 to 8+7  =  15\n",
        "      15 to 15+7  = 22                   ->       22 to 22+7 =  29 -26 = 3\n",
        "       3 to 3+7   = 10                   ->       10 to 10+7 =  17\n",
        "      17 to 17+7  = 24                   ->       24 to 24+7 =  31 -26 = 5\n",
        "       5 to 5+7   = 14                   ->       12 to 12+7 =  19\n",
        "      19 to 19+7  = 26                   ->       26 to 26+7 =  33 -26 = 7\n",
        "       7 to 7+7   = 14                   ->       14 to 14+7 =  21\n",
        "      21 to 21+7  = 28 -26 = 2             ->        2 to  2+7 =   9\n",
        "       9 to 9+7   = 16                   ->       16 to 16+7 =  23 \n",
        "      23 to 23+7  = 30 -26 = 4             ->        4 to  4+7 =  11\n",
        "       11to 11+7  = 18                   ->       18 to 18+7 =  25\n",
        "      25 to 25+7  = 32 -26 = 6             ->        6 to  6+7 =  13\n",
        "      13 to`13+7  = 20                   ->       20 to 20+7 =  27 -26 = 1\n"
       ]
      }
     ],
     "prompt_number": 26
    },
    {
     "cell_type": "heading",
     "level": 2,
     "metadata": {},
     "source": [
      "Example 1.24 page no : 93"
     ]
    },
    {
     "cell_type": "code",
     "collapsed": false,
     "input": [
      "import math \n",
      "\n",
      "# Variables\n",
      "P = 4.\n",
      "I_L = 150.\n",
      "N = 1500. \t\t\t#commutator speed in rpm\n",
      "n_s = N/60.  \t\t\t#commutator speed in r.p.s\n",
      "W_b = 1.2 \t\t\t#Brush pitch\n",
      "W_m = 0\t\t\t#Pitch of mica insulation\n",
      "L = 0.05*10**-3  \t\t\t#inducmath.tance of armature coils in henry\n",
      "A = P \t\t\t#A = P for lap wound\n",
      "segments = 64.\n",
      "\n",
      "# Calculations\n",
      "v = n_s*segments \t\t\t#peripheral speed in segments per second\n",
      "T_c = (W_b-W_m)/v  \t\t\t#Time of commutation\n",
      "I = I_L/A  \t\t\t#current through each conductor\n",
      "E = L*2*I/T_c  \t\t\t#Linear commutation\n",
      "E2 = 1.11*L*2*I/T_c  \t\t\t#Sinusoidal commutation\n",
      "\n",
      "# Results\n",
      "print 'Reactive voltage linear commutation) is %.0f V'%(E)\n",
      "print 'Reactive voltage math.sinusoidal commutation) is %.2f V'%(E2)\n"
     ],
     "language": "python",
     "metadata": {},
     "outputs": [
      {
       "output_type": "stream",
       "stream": "stdout",
       "text": [
        "Reactive voltage linear commutation) is 5 V\n",
        "Reactive voltage math.sinusoidal commutation) is 5.55 V\n"
       ]
      }
     ],
     "prompt_number": 27
    },
    {
     "cell_type": "heading",
     "level": 2,
     "metadata": {},
     "source": [
      "Example 1.25 page no : 94"
     ]
    },
    {
     "cell_type": "code",
     "collapsed": false,
     "input": [
      "\n",
      "# Variables\n",
      "P = 4.  \t\t\t#Pole\n",
      "Z = 386. \t\t\t#no of wave connected conductors\n",
      "A = 2.  \t\t\t#Wave winding\n",
      "R_a = 1.\n",
      "R_sh = 100.\n",
      "R_L = 40  \t\t\t#Armature ,shunt field and load resistance\n",
      "phi = 25.*10**-3  \t\t\t#flux per pole in weber\n",
      "N = 1000.  \t\t\t#speed in rpm\n",
      "\n",
      "\n",
      "# Calculations\n",
      "E_g = (phi*P*N*Z)/(60*A)  \t\t\t#generated emf\n",
      "\n",
      "#Solving following equations for V_t\n",
      "#E_g = V_t+I_a*R_a\n",
      "#I_a = (I_L+I_sh)   I_L = V_t/R_L  I_sh = V_t/R_sj\n",
      "#E_g = V_t(1 + (R_a/R_L) + (R_a/R_sh)\n",
      "V_t = E_g/(1 + (R_a/R_L) + (R_a/R_sh))\n",
      "\n",
      "I_L = V_t/R_L \t\t\t# load current\n",
      "I_sh = V_t/R_sh \t\t\t# current through shunt field resistance\n",
      "\n",
      "# Results\n",
      "I_a = I_L+I_sh \t\t\t#armature current \n",
      "print 'armature current is  is %.4f A'%(I_a)\n",
      "\n",
      "output_power = V_t*I_L\n",
      "print 'output power is %.3f W'%(output_power)\n",
      "\n",
      "# Note :answer obtained will not match with textbook answer because I_L = V_t/R_L = 310.79/40 = 7.77 \n",
      "#Awhile its taken as 8.045 A in textbook'\n"
     ],
     "language": "python",
     "metadata": {},
     "outputs": [
      {
       "output_type": "stream",
       "stream": "stdout",
       "text": [
        "armature current is  is 10.8776 A\n",
        "output power is 2414.746 W\n"
       ]
      }
     ],
     "prompt_number": 28
    },
    {
     "cell_type": "heading",
     "level": 2,
     "metadata": {},
     "source": [
      "Example 1.26 page no : 94"
     ]
    },
    {
     "cell_type": "code",
     "collapsed": false,
     "input": [
      "\n",
      "# Variables\n",
      "I = 40.  \t\t    \t#current PER conductor\n",
      "W_b = 3.\n",
      "W_m = 0.\t\t\t    #brush width and width of mica insulation\n",
      "N = 600. \t\t\t    #commutator speed in rpm \n",
      "n_s = N/60 \t\t\t    #commutator speed in rps\n",
      "L = 0.15*10**-3 \t\t\t#self inducmath.tance in Henry\n",
      "segments = 50.  \n",
      "v = n_s*segments \t\t\t#peripheral speed in segments per second\n",
      "T_c = (W_b-W_m)/v \t\t\t#time of commutation\n",
      "\n",
      "# Calculations\n",
      "E = L*2*I/T_c  \t\t\t#Linear commutation\n",
      "E2 = 1.11*L*2*I/T_c  \t\t\t#Sinusoidal commutation\n",
      "\n",
      "# Results\n",
      "print 'Reactive voltage linear commutation) is %.0f volts'%(E)\n",
      "print 'Reactive voltage math.sinusoidal commutation) is %.2f volts'%(E2)\n"
     ],
     "language": "python",
     "metadata": {},
     "outputs": [
      {
       "output_type": "stream",
       "stream": "stdout",
       "text": [
        "Reactive voltage linear commutation) is 2 volts\n",
        "Reactive voltage math.sinusoidal commutation) is 2.22 volts\n"
       ]
      }
     ],
     "prompt_number": 29
    },
    {
     "cell_type": "heading",
     "level": 2,
     "metadata": {},
     "source": [
      "Example 1.27 page no : 96"
     ]
    },
    {
     "cell_type": "code",
     "collapsed": false,
     "input": [
      "import math \n",
      "\n",
      "# Variables\n",
      "V = 400.\n",
      "P = 6. \t\t\t    #Poles\n",
      "A = P  \t\t    \t#For lap wound\n",
      "output_power = 250.*10**3\n",
      "R_sh = 200. \t\t\t#shunt field circuit resistance\n",
      "Z = 720.     \t\t\t#number of lap wound conductors\n",
      "\n",
      "theta_m = 2.5 \t\t\t#brush lead angle in degree mechanical\n",
      "I_L = output_power/V\n",
      "V_sh = V\n",
      "\n",
      "# Calculations\n",
      "I_sh = V_sh/R_sh \t\t\t#Current through shunt field circuit resistance\n",
      "I_a = I_L+I_sh \t\t\t#armature currrent\n",
      "I = I_a/P\n",
      "\n",
      "#Part(i)\n",
      "amp_turns_PP_d = Z*I*theta_m/360\t\t\t#demagnetising ampere turns per pole\n",
      "#Part(ii)\n",
      "amp_turns_PP_c = Z*I*(1/(2*P)-theta_m/360) \t\t\t#cross-magnetising ampere turns per pole\n",
      "\n",
      "# Results\n",
      "print 'i)  De-magnetising ampere-turns per pole is %.1f'%(amp_turns_PP_d)\n",
      "print 'ii) Cross-magnetising ampere-turns per pole is %.1f'%(amp_turns_PP_c)\n"
     ],
     "language": "python",
     "metadata": {},
     "outputs": [
      {
       "output_type": "stream",
       "stream": "stdout",
       "text": [
        "i)  De-magnetising ampere-turns per pole is 522.5\n",
        "ii) Cross-magnetising ampere-turns per pole is 5747.5\n"
       ]
      }
     ],
     "prompt_number": 30
    },
    {
     "cell_type": "heading",
     "level": 2,
     "metadata": {},
     "source": [
      "Example 1.28 page no : 96"
     ]
    },
    {
     "cell_type": "code",
     "collapsed": false,
     "input": [
      "\n",
      "# Variables\n",
      "I_L = 100.\n",
      "P = 4. \t\t\t    #Poles\n",
      "A = P \t\t\t    #for lap wound armature\n",
      "W_b = 1.4\n",
      "W_m = 0. \t\t\t#Brush width and width of mica insulation\n",
      "N = 1400.\t\t\t#armature speed in r.p.m\n",
      "segments = 64. \t\t\t#no of commutator segments\n",
      "L = 0.05*10**-3 \t\t\t#inducmath.tance of armature coil in henry\n",
      "\n",
      "# Calculations\n",
      "n_s = N/60  \t\t\t#speed in r.p.s\n",
      "v = n_s*segments \t\t\t#Segments per second\n",
      "T_c = (W_b-W_m)/v \t\t\t#time of commutation\n",
      "I = I_L/A   \t\t\t#Current through conductor\n",
      "E = L*2*I/T_c  \t\t\t#Linear commutation\n",
      "\n",
      "# Results\n",
      "print 'Reactive voltage considering linear commutation is %.2f volts'%(E)\n"
     ],
     "language": "python",
     "metadata": {},
     "outputs": [
      {
       "output_type": "stream",
       "stream": "stdout",
       "text": [
        "Reactive voltage considering linear commutation is 2.67 volts\n"
       ]
      }
     ],
     "prompt_number": 31
    },
    {
     "cell_type": "heading",
     "level": 2,
     "metadata": {},
     "source": [
      "Example 1.29 page no : 97"
     ]
    },
    {
     "cell_type": "code",
     "collapsed": false,
     "input": [
      "import math \n",
      "\n",
      "# Variables\n",
      "P = 8. \t\t    \t#Poles\n",
      "A = 2. \t\t    \t#Wave wound armature\n",
      "Z = 480. \t\t\t#number of armature conductors\n",
      "I_a = 200.\n",
      "I = I_a/A\n",
      "\n",
      "# Calculations and Results\n",
      "#Part(i)\n",
      "theta_m = 0. \t\t\t#Geometric nuetral axis\n",
      "amp_turns_PP_d = Z*I*theta_m/360    \t\t\t#De-magnetising ampere-turns per pole\n",
      "amp_turns_PP_c = Z*I*(1/(2*P)-theta_m/360) \t\t\t#Cross-magnetising ampere-turns per pole\n",
      "print 'Parti)De-magnetising ampere-turns per pole is %.0f'%(amp_turns_PP_d)\n",
      "print 'Cross-magnetising ampere-turns per pole is %.0f'%(amp_turns_PP_c)\n",
      "\n",
      "#Part(ii)\n",
      "theta_e2 = 6.             \t\t\t#angle shift of brushes in degrees electrical\n",
      "theta_m2 = theta_e2/(P/2) \t\t\t#angle shift of brushes in degrees mechanical\n",
      "amp_turns_PP_d2 = Z*I*theta_m2/360   \t\t\t#De-magnetising ampere-turns per pole\n",
      "amp_turns_PP_c2 = Z*I*(1/(2*P)-theta_m2/360) \t\t\t#Cross-magnetising ampere-turns per pole\n",
      "print 'Partii)De-magnetising ampere-turns per pole is %.0f'%(amp_turns_PP_d2)\n",
      "print 'Cross-magnetising ampere-turns per pole is %.0f'%(amp_turns_PP_c2)\n"
     ],
     "language": "python",
     "metadata": {},
     "outputs": [
      {
       "output_type": "stream",
       "stream": "stdout",
       "text": [
        "Parti)De-magnetising ampere-turns per pole is 0\n",
        "Cross-magnetising ampere-turns per pole is 3000\n",
        "Partii)De-magnetising ampere-turns per pole is 200\n",
        "Cross-magnetising ampere-turns per pole is 2800\n"
       ]
      }
     ],
     "prompt_number": 32
    },
    {
     "cell_type": "heading",
     "level": 2,
     "metadata": {},
     "source": [
      "Example 1.30 page no : 98"
     ]
    },
    {
     "cell_type": "code",
     "collapsed": false,
     "input": [
      "\n",
      "# Variables\n",
      "P_input = 7.46*10**3\n",
      "V = 230.\n",
      "Pole = 8.\n",
      "Z = 188. \t\t\t#number of armature consuctors\n",
      "I_L = P_input/V\n",
      "theta_m = 7.5  \t\t\t#brush lead angle in degree mechanical\n",
      "\n",
      "A = 2. \t\t\t# assumed wave wound because of low-current and high voltage\n",
      "I = I_L/A\n",
      "\n",
      "#Part(i)\n",
      "amp_turns_PP_d = Z*I*theta_m/360  \t\t\t#De-magnetising ampere-turns per pole\n",
      "#Part(ii)\n",
      "amp_turns_PP_c = Z*I*(1/(2*Pole)-theta_m/360) \t\t\t#Cross-magnetising ampere-turns per pole\n",
      "\n",
      "print 'De-magnetising ampere-turns per pole is %.2f'%(amp_turns_PP_d)\n",
      "print 'Cross-magnetising ampere-turns per pole is %.2f'%(amp_turns_PP_c)\n",
      "\n",
      "# note : The difference in answer occured because I is approximated to 16 in last 2 steps in book\n"
     ],
     "language": "python",
     "metadata": {},
     "outputs": [
      {
       "output_type": "stream",
       "stream": "stdout",
       "text": [
        "De-magnetising ampere-turns per pole is 63.52\n",
        "Cross-magnetising ampere-turns per pole is 127.04\n"
       ]
      }
     ],
     "prompt_number": 33
    },
    {
     "cell_type": "heading",
     "level": 2,
     "metadata": {},
     "source": [
      "Example 1.31 page no : 99"
     ]
    },
    {
     "cell_type": "code",
     "collapsed": false,
     "input": [
      "\n",
      "# Variables\n",
      "N_1 = 1200.   \t\t\t#initial speed \n",
      "I_L1 = 200.   \t\t\t#initial load current\n",
      "V_t1 = 125.\n",
      "N_2 = 1000.  \t\t\t#altered speed\n",
      "R_a = 0.04  \t\t\t#armature resistance\n",
      "V_brush = 2.  \t\t\t#brush drop\n",
      "\n",
      "# Calculations\n",
      "# Initial Load\n",
      "I_a1 = I_L1\n",
      "E_g1 = V_t1+I_a1*R_a+V_brush  \t\t\t#induced emf\n",
      "\n",
      "E_g2 = E_g1*(N_2/N_1)  \t\t\t#Because E_g proportional to N during constant flux\n",
      "R_L =  V_t1/I_L1 \t\t\t#Load resistance\n",
      "\n",
      "#Solving for I_L2 as follows\n",
      "#V_t2 = R_L*I_L2   \t\t\t#I_a2 = I_L2\n",
      "#V_t2 = E_g2-(I_L2*R_2 + V_brush)\n",
      "I_L2 = (E_g2-V_brush)/(R_L+R_a)  \t\t\t#new current\n",
      "\n",
      "# Results\n",
      "print 'Load current at new speed is %.4f A'%(I_L2)\n"
     ],
     "language": "python",
     "metadata": {},
     "outputs": [
      {
       "output_type": "stream",
       "stream": "stdout",
       "text": [
        "Load current at new speed is 166.1654 A\n"
       ]
      }
     ],
     "prompt_number": 34
    }
   ],
   "metadata": {}
  }
 ]
}