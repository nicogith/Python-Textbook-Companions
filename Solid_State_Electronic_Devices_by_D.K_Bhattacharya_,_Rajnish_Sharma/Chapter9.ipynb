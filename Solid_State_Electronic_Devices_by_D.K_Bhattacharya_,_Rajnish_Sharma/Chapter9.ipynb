{
 "cells": [
  {
   "cell_type": "markdown",
   "metadata": {},
   "source": [
    "#  Chapter 9 : Field-effect Transistor"
   ]
  },
  {
   "cell_type": "markdown",
   "metadata": {},
   "source": [
    "## Example number 9.1 , Page number 335"
   ]
  },
  {
   "cell_type": "code",
   "execution_count": 11,
   "metadata": {
    "collapsed": false
   },
   "outputs": [
    {
     "name": "stdout",
     "output_type": "stream",
     "text": [
      "a) Pitch-off voltage= 55.6 V\n",
      "\n",
      "b) Pitch-off current= 640.8*10**-3 A\n",
      "\n",
      "c) Drain current at pinch-off= 203*10**-3 A\n"
     ]
    }
   ],
   "source": [
    "#importing module\n",
    "import math\n",
    "from __future__ import division\n",
    "\n",
    "#Variable declaration\n",
    "Nd=5*10**16 #in cm**-3\n",
    "Na=10**19 #in cm**-3 \n",
    "d=1.2*10**-4 #in cm\n",
    "e=1.6*10**-19# in J\n",
    "epsilon_r=11.7 #in F/cm\n",
    "epsilon_0=8.85*10**-14 #in F/cm\n",
    "L=18*10**-4 #in cm\n",
    "W=80*10**-4 #in micro-W\n",
    "myu_n=1350 #in cm**2/V*s\n",
    "ni=1.5*10**10 #in cm**3\n",
    "VGS=0 #in V\n",
    "Const=0.026 #constant for kT/e in V\n",
    "\n",
    "#Calculations\n",
    "Vp=(e*Nd*d**2)/(2*epsilon_r*epsilon_0) #Pitch-off voltage in V\n",
    "Ip=(W*myu_n*e**2*Nd**2*d**3)/(epsilon_r*epsilon_0*L) #Pitch-off current in A\n",
    "Vbi=Const*math.log((Na*Nd)/ni**2) #in V\n",
    "ID=Ip*(1/3-((VGS+Vbi)/Vp)+(2/3)*((VGS+Vbi)/Vp)**3/2)\n",
    "\n",
    "#Result\n",
    "print(\"a) Pitch-off voltage= %1.1f V\\n\" %Vp)\n",
    "print(\"b) Pitch-off current= %.1f*10**-3 A\\n\" %(Ip*10**3))\n",
    "print(\"c) Drain current at pinch-off= %i*10**-3 A\" %(ID*10**3)) #The answers vary dueto round off error"
   ]
  },
  {
   "cell_type": "markdown",
   "metadata": {},
   "source": [
    "## Example number 9.2 , Page number 336"
   ]
  },
  {
   "cell_type": "code",
   "execution_count": 4,
   "metadata": {
    "collapsed": false
   },
   "outputs": [
    {
     "name": "stdout",
     "output_type": "stream",
     "text": [
      "Channel thickness= 0.476 micro-m\n"
     ]
    }
   ],
   "source": [
    "#importing module\n",
    "import math\n",
    "from __future__ import division\n",
    "\n",
    "#Variable declaration\n",
    "e=1.6*10**-19 #in eV\n",
    "epsilon_r=13.1 #in F/cm\n",
    "epsilon_0=8.85*10**-14 #in F/cm\n",
    "Nc=4.7*10**17 #in cm**-3\n",
    "Nd=3*10**15 #in cm**-3\n",
    "phi_Bn=0.9 #barrier height in V\n",
    "VT=0.3 #threshold voltage in V\n",
    "Const=0.026 #constant for kT/e in V\n",
    "\n",
    "#Calculations\n",
    "phi_n=Const*math.log(Nc/Nd) #in V\n",
    "Vbi=phi_Bn-phi_n #built-in voltage in V\n",
    "Vp=Vbi-VT #pinch-off voltage in V\n",
    "d=math.sqrt((2*epsilon_r*epsilon_0*Vp)/(e*Nd))\n",
    "\n",
    "#Result\n",
    "print(\"Channel thickness= %0.3f micro-m\" %round(d/10**-4,3))"
   ]
  },
  {
   "cell_type": "markdown",
   "metadata": {},
   "source": [
    "## Example number 9.3 , Page number 358"
   ]
  },
  {
   "cell_type": "code",
   "execution_count": 6,
   "metadata": {
    "collapsed": false
   },
   "outputs": [
    {
     "name": "stdout",
     "output_type": "stream",
     "text": [
      "Maximum space-charge width= 0.142 micro-meter\n"
     ]
    }
   ],
   "source": [
    "#importing module\n",
    "import math\n",
    "from __future__ import division\n",
    "\n",
    "#Variable declaration\n",
    "e=1.6*10**-19 #in J\n",
    "epsilon_r=11.7 #in F/cm\n",
    "epsilon_0=8.85*10**-14 #in F/cm\n",
    "Na=5*10**16 #in cm**-3\n",
    "ni=1.5*10**10 #in cm**-3\n",
    "Const=0.026 #constant for kT/e in V\n",
    "\n",
    "#Calculations\n",
    "phi_pF=Const*math.log(Na/ni) #in V\n",
    "WdT=((4*epsilon_r*epsilon_0*phi_pF)/(e*Na))**0.5\n",
    "\n",
    "#Result\n",
    "print(\"Maximum space-charge width= %0.3f micro-meter\" %round(WdT/10**-4,3))\n",
    "#The answer provided in the textbook is wrong"
   ]
  },
  {
   "cell_type": "markdown",
   "metadata": {},
   "source": [
    "## Example number 9.4 , Page number 359"
   ]
  },
  {
   "cell_type": "code",
   "execution_count": 7,
   "metadata": {
    "collapsed": false
   },
   "outputs": [
    {
     "name": "stdout",
     "output_type": "stream",
     "text": [
      "work-function difference= -0.894 V\n"
     ]
    }
   ],
   "source": [
    "#importing module\n",
    "import math\n",
    "from __future__ import division\n",
    "\n",
    "#Variable declaration\n",
    "phi_m=3.20 #in V\n",
    "Na=10**15 #in cm**-3\n",
    "ni=1.5*10**10 #in cm**-3\n",
    "x=3.25\n",
    "Eg=1.11 #in eV\n",
    "e=1.6*10**-19 #in J\n",
    "Const=0.026 #constant for kT/e in V\n",
    "\n",
    "#Calculations\n",
    "phi_pF=Const*math.log(Na/ni) #in V\n",
    "phi_ms=(phi_m-(x+(Eg/2)+phi_pF))\n",
    "\n",
    "#Result\n",
    "print(\"work-function difference= %0.3f V\" %phi_ms)"
   ]
  },
  {
   "cell_type": "markdown",
   "metadata": {},
   "source": [
    "## Example number 9.5 , Page number 360"
   ]
  },
  {
   "cell_type": "code",
   "execution_count": 15,
   "metadata": {
    "collapsed": false
   },
   "outputs": [
    {
     "name": "stdout",
     "output_type": "stream",
     "text": [
      "Channel width= 14.9 micro-m\n"
     ]
    }
   ],
   "source": [
    "#importing module\n",
    "import math\n",
    "from __future__ import division\n",
    "\n",
    "#Variable declaration\n",
    "ID_sat=5*10**-3 #in mA\n",
    "L=1.3*10**-4 #in micro-m\n",
    "myu_n=660 #in cm**2/V*s\n",
    "Cox=7*10**-8 #in F/cm**2\n",
    "VGS=5 #in V\n",
    "VT=0.66 #in V\n",
    "\n",
    "#Calculations\n",
    "Z=(ID_sat*2*L)/(myu_n*Cox*(VGS-VT)**2)\n",
    "\n",
    "#Result\n",
    "print(\"Channel width= %.1f micro-m\" %round(Z/10**-4,1))"
   ]
  },
  {
   "cell_type": "markdown",
   "metadata": {},
   "source": [
    "## Example number 9.6 , Page number 362"
   ]
  },
  {
   "cell_type": "code",
   "execution_count": 18,
   "metadata": {
    "collapsed": false
   },
   "outputs": [
    {
     "name": "stdout",
     "output_type": "stream",
     "text": [
      "Voltage of n-channel Si(1)= 1.03 V\n",
      "\n",
      "Voltage of n-channel Si(2)= 2.513 V\n"
     ]
    }
   ],
   "source": [
    "#importing module\n",
    "import math\n",
    "from __future__ import division\n",
    "\n",
    "#Variable declaration\n",
    "epsilon_0=8.854*10**-14 #in F/cm\n",
    "epsilon_r=11.8 #in F/cm\n",
    "epsilon_i=3.9 #in F/cm\n",
    "d=100*10**-8 #gate oxide thickness in cm\n",
    "phi_ms=-1.5 #in V\n",
    "Qi=5*10**10*1.6*10**-19 #fixed oxide charge in C/cm**2\n",
    "Na=10**18 #in cm**-3\n",
    "ni=1.5*10**10 #in cm**-3\n",
    "e=1.6*10**-19 #in J\n",
    "VB=2.5 #in V\n",
    "const=0.0259 #value for kT/e in V\n",
    "\n",
    "#Calculations\n",
    "Ci=(epsilon_0*epsilon_i)/d #in F/cm**2\n",
    "VFB=phi_ms-(Qi/Ci) #in V\n",
    "phi_F=const*math.log(Na/ni) #in V\n",
    "W=math.sqrt((2*epsilon_0*epsilon_r*(2*phi_F))/(e*Na)) #in cm\n",
    "Qd=-e*Na*W #in C\n",
    "VT=VFB+(2*phi_F)-(Qd/Ci) #in V\n",
    "Wm=math.sqrt((2*epsilon_0*epsilon_r*((2*phi_F)+VB))/(e*Na)) #in cm\n",
    "Qd1=-e*Na*Wm #in C\n",
    "VT1=VFB+(2*phi_F)-(Qd1/Ci) #in V\n",
    "\n",
    "#Result\n",
    "print(\"Voltage of n-channel Si(1)= %1.2f V\\n\" %VT)\n",
    "print(\"Voltage of n-channel Si(2)= %1.3f V\" %VT1) #The answers vary due to round off error"
   ]
  },
  {
   "cell_type": "markdown",
   "metadata": {},
   "source": [
    "## Example number 9.7 , Page number 363"
   ]
  },
  {
   "cell_type": "code",
   "execution_count": 19,
   "metadata": {
    "collapsed": false
   },
   "outputs": [
    {
     "name": "stdout",
     "output_type": "stream",
     "text": [
      "Voltage of n-channel= -1.98 V\n"
     ]
    }
   ],
   "source": [
    "#importing module\n",
    "import math\n",
    "from __future__ import division\n",
    "\n",
    "#Variable declaration\n",
    "epsilon_0=8.854*10**-14 #in F/cm\n",
    "epsilon_r=11.8 #in F/cm\n",
    "epsilon_i=3.9 #in F/cm\n",
    "d=80*10**-8 #gate oxide thickness in cm\n",
    "phi_ms=-0.15 #work-function difference in V\n",
    "Qi=10**11*1.6*10**-19 #fixed oxide charge in C/cm**2\n",
    "Nd=5*10**17 #in cm**-3\n",
    "ni=1.5*10**10 #in cm**-3\n",
    "e=1.6*10**-19 #in J\n",
    "const=0.0259 #value for kT/e in V\n",
    "\n",
    "#Calculations\n",
    "phi_F=const*math.log(Nd/ni) #in V \n",
    "Wm=2*math.sqrt((epsilon_0*epsilon_r*abs(phi_F))/(e*Nd)) #in cm\n",
    "Qd=e*Nd*Wm #depletion charges in C\n",
    "Ci=(epsilon_0*epsilon_i)/d #in F/cm**2\n",
    "VT=phi_ms-(Qi/Ci)-(Qd/Ci)-(2*phi_F)\n",
    "\n",
    "#Result\n",
    "\n",
    "print(\"Voltage of n-channel= %1.2f V\" %VT)"
   ]
  }
 ],
 "metadata": {
  "anaconda-cloud": {},
  "kernelspec": {
   "display_name": "Python [Root]",
   "language": "python",
   "name": "Python [Root]"
  },
  "language_info": {
   "codemirror_mode": {
    "name": "ipython",
    "version": 3
   },
   "file_extension": ".py",
   "mimetype": "text/x-python",
   "name": "python",
   "nbconvert_exporter": "python",
   "pygments_lexer": "ipython3",
   "version": "3.5.2"
  }
 },
 "nbformat": 4,
 "nbformat_minor": 0
}
