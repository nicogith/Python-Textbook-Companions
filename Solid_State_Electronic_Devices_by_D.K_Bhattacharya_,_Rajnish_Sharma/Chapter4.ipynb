{
 "cells": [
  {
   "cell_type": "markdown",
   "metadata": {},
   "source": [
    "#  Chapter 4 : Excess Carriers in Semiconductors"
   ]
  },
  {
   "cell_type": "markdown",
   "metadata": {},
   "source": [
    "## Example number 4.1 , Page number 135"
   ]
  },
  {
   "cell_type": "code",
   "execution_count": 6,
   "metadata": {
    "collapsed": false
   },
   "outputs": [
    {
     "name": "stdout",
     "output_type": "stream",
     "text": [
      "excess electron concentration= 8.19*10**15 cm**-3\n"
     ]
    }
   ],
   "source": [
    "#importing module\n",
    "import math\n",
    "from __future__ import division\n",
    "\n",
    "#Variable declaration\n",
    "del_n0=10**16 #concentration of electrons in cm**-3\n",
    "tau_n0=5 #excess carrier lifetime in micro-s\n",
    "t=1 #time in micro-s\n",
    "\n",
    "#Calculations\n",
    "del_nt=del_n0*math.exp(-t/tau_n0)\n",
    "\n",
    "#Result\n",
    "print(\"excess electron concentration= %.2f*10**15 cm**-3\" %(del_nt/10**15))"
   ]
  },
  {
   "cell_type": "markdown",
   "metadata": {},
   "source": [
    "## Example number 4.2 , Page number 135"
   ]
  },
  {
   "cell_type": "code",
   "execution_count": 13,
   "metadata": {
    "collapsed": false
   },
   "outputs": [
    {
     "name": "stdout",
     "output_type": "stream",
     "text": [
      "Recombination rate= 0.74*10**21 cm**-3 s**-1\n"
     ]
    }
   ],
   "source": [
    "#importing module\n",
    "import math\n",
    "from __future__ import division\n",
    "\n",
    "#Variable declaration\n",
    "del_n0=10**16 #concentration of electrons in cm**-3\n",
    "tau_n0=5 #excess carrier lifetime in s\n",
    "tau_n01=5*10**-6 #excess carrier lifetime in micro-s\n",
    "t=5 #in micro-s\n",
    "\n",
    "#Calculations\n",
    "del_nt=del_n0*math.exp(-t/tau_n0) #in cm**-3\n",
    "Rn1=del_nt/tau_n01\n",
    "\n",
    "#Result\n",
    "print(\"Recombination rate= %.2f*10**21 cm**-3 s**-1\" %(Rn1/10**21))"
   ]
  },
  {
   "cell_type": "markdown",
   "metadata": {},
   "source": [
    "## Example number 4.3 , Page number 136"
   ]
  },
  {
   "cell_type": "code",
   "execution_count": 16,
   "metadata": {
    "collapsed": false
   },
   "outputs": [
    {
     "name": "stdout",
     "output_type": "stream",
     "text": [
      "Recombination rate= 9.17*10**19 cm**-3 s**-1\n"
     ]
    }
   ],
   "source": [
    "#importing module\n",
    "import math\n",
    "from __future__ import division\n",
    "\n",
    "#Variable declaration\n",
    "Nd=10**15 #dopant concentration in cm**-3\n",
    "Na=0 #in cm**-3\n",
    "tau_p0=10*10**-7 #in s\n",
    "tau_n0=10*10**-7 #in s\n",
    "ni=1.5*10**10 #in cm**-3\n",
    "deln=10**14 #in cm**-3\n",
    "delp=10**14 #in cm**-3\n",
    "nt=1.5*10**15 #in cm**-3\n",
    "pt=1.5*10**15 #in cm**-3\n",
    "               \n",
    "#Calculations\n",
    "n0=Nd #in cm**-3\n",
    "p0=ni**2/Nd #in cm**-3\n",
    "n=n0+deln #in cm**-3\n",
    "p=p0+delp #in cm**-3\n",
    "R=((n*p)-ni**2)/(tau_n0*(n+p))\n",
    "\n",
    "#Result\n",
    "print(\"Recombination rate= %1.2f*10**19 cm**-3 s**-1\" %(R/10**19))"
   ]
  },
  {
   "cell_type": "markdown",
   "metadata": {},
   "source": [
    "## Example number 4.4 , Page number 146"
   ]
  },
  {
   "cell_type": "code",
   "execution_count": 17,
   "metadata": {
    "collapsed": false
   },
   "outputs": [
    {
     "name": "stdout",
     "output_type": "stream",
     "text": [
      "1)\n",
      "position of the Fermi level at thermal equilibrium= 0.3412 eV\n",
      "\n",
      "2)\n",
      "quasi-Fermi level for electrons in non-equilibrium= 0.3414 eV\n",
      "\n",
      "3)\n",
      "quasi-Fermi level for holes in non-equilibrium= 0.2214 eV\n"
     ]
    }
   ],
   "source": [
    "#importing module\n",
    "import math\n",
    "from __future__ import division\n",
    "\n",
    "#Variable declaration\n",
    "n0=5*10**15 #carrier concentration in cm**-3\n",
    "ni=10**10 #in cm**-3\n",
    "p0=2*10**4 #in cm**-3\n",
    "deln=5*10**13 #excess carriers in semiconductor in cm**-3\n",
    "delp=5*10**13 #in cm**-3\n",
    "Const=0.026 #constant value for kT/e in V\n",
    "\n",
    "#Calculations\n",
    "delE1=Const*math.log(n0/ni) \n",
    "delE2=Const*math.log((n0+deln)/ni)\n",
    "delE3=Const*math.log((p0+delp)/ni)\n",
    "\n",
    "#Result\n",
    "print(\"1)\\nposition of the Fermi level at thermal equilibrium= %0.4f eV\\n\" %delE1)\n",
    "print(\"2)\\nquasi-Fermi level for electrons in non-equilibrium= %0.4f eV\\n\" %delE2)\n",
    "print(\"3)\\nquasi-Fermi level for holes in non-equilibrium= %0.4f eV\" %delE3)"
   ]
  },
  {
   "cell_type": "markdown",
   "metadata": {},
   "source": [
    "## Example number 4.6 , Page number 147"
   ]
  },
  {
   "cell_type": "code",
   "execution_count": 18,
   "metadata": {
    "collapsed": false
   },
   "outputs": [
    {
     "name": "stdout",
     "output_type": "stream",
     "text": [
      "1)\n",
      "Hole mobility= 2000 cm**2/Vs\n",
      "\n",
      "2)\n",
      "Diffusion coefficient= 52.22 cm**2/s\n"
     ]
    }
   ],
   "source": [
    "#importing module\n",
    "import math\n",
    "from __future__ import division\n",
    "\n",
    "#Variable declaration\n",
    "l=1.8 #distance between plates in cm\n",
    "E=3/2 #in V\n",
    "t=0.6*10**-3 #time taken by the pulse in s \n",
    "del_t=236*10**-6 #pulse width in s\n",
    "\n",
    "#Calculations\n",
    "vd=l/t #in cm/s\n",
    "myu_p=vd/E\n",
    "Dp=(del_t*l)**2/(16*t**3)\n",
    "\n",
    "#Result\n",
    "print(\"1)\\nHole mobility= %i cm**2/Vs\\n\" %myu_p)\n",
    "print(\"2)\\nDiffusion coefficient= %2.2f cm**2/s\" %Dp)"
   ]
  },
  {
   "cell_type": "markdown",
   "metadata": {},
   "source": [
    "## Example number 4.7 , Page number 149"
   ]
  },
  {
   "cell_type": "code",
   "execution_count": 22,
   "metadata": {
    "collapsed": false
   },
   "outputs": [
    {
     "name": "stdout",
     "output_type": "stream",
     "text": [
      "a)\n",
      "\n",
      "photo generation rate= 8*10**20 EHPs/cm**3s\n",
      "\n",
      "b)\n",
      "\n",
      "resistivity before illumination= 5.21 ohm-cm\n",
      "\n",
      "resistvity after illumination= 3.397 ohm-cm\n",
      "\n",
      "percent of conductivity= 8.70 percent\n",
      "\n",
      "c)\n",
      "\n",
      "quasi Fermi level due to electron=Efi+0.296 eV\n",
      "\n",
      "quasi Fermi level due to holes=Efi-0.264 eV\n",
      "\n"
     ]
    }
   ],
   "source": [
    "#importing module\n",
    "import math\n",
    "from __future__ import division\n",
    "\n",
    "#Variable declaration\n",
    "delp=4*10**14 #excess EHP in cm**-3\n",
    "deln=4*10**14 #excess EHP in cm**-3\n",
    "n0=10**15 #donor atoms in cm**-3\n",
    "p0=0 #in cm**-3\n",
    "t=0.5*10**-6 #hole-lifetime in s\n",
    "myu_n=1200 #mobility of electron in cm**2/V*s\n",
    "myu_p=400 #mobility of hole in cm**2/V*s\n",
    "q=1.6*10**-19 #electron charge in eV\n",
    "ni=1.5*10**10 #in cm**-3\n",
    "Const=0.0259 #constant value for kT in eV\n",
    "\n",
    "#Calculations\n",
    "#a)\n",
    "gop=delp/t\n",
    "\n",
    "#b)\n",
    "rho_0=(q*n0*myu_n)**-1 #Before illumination\n",
    "n=n0+deln #in cm**-3\n",
    "p=p0+delp #in cm**-3\n",
    "rho=1/(q*((myu_n*n)+(myu_p*p)))#conductivity\n",
    "rho1=q*myu_p*delp #in mho/cm\n",
    "Pcond=(rho*rho1)*100\n",
    "\n",
    "#c)\n",
    "delE_e=Const*math.log(n/ni)\n",
    "delE_h=Const*math.log(p/ni)\n",
    "\n",
    "#Result\n",
    "print(\"a)\\n\")\n",
    "print(\"photo generation rate= %i*10**20 EHPs/cm**3s\\n\" %(gop/10**20))\n",
    "print(\"b)\\n\")\n",
    "print(\"resistivity before illumination= %1.2f ohm-cm\\n\" %rho_0)\n",
    "print(\"resistvity after illumination= %1.3f ohm-cm\\n\" %rho)\n",
    "print(\"percent of conductivity= %1.2f percent\\n\" %Pcond) #The answers vary due to round off error\n",
    "print(\"c)\\n\")\n",
    "print(\"quasi Fermi level due to electron=Efi+%0.3f eV\\n\" %delE_e)\n",
    "print(\"quasi Fermi level due to holes=Efi-%0.3f eV\\n\" %delE_h)"
   ]
  },
  {
   "cell_type": "markdown",
   "metadata": {},
   "source": [
    "## Example number 4.8 , Page number 151"
   ]
  },
  {
   "cell_type": "code",
   "execution_count": 26,
   "metadata": {
    "collapsed": false
   },
   "outputs": [
    {
     "name": "stdout",
     "output_type": "stream",
     "text": [
      "a)\n",
      "\n",
      "lifetime of both type of carriers= 1 micro-s\n",
      "\n",
      "b)\n",
      "\n",
      "excess carrier concentration= 1*10**15 cm**-3\n",
      "\n",
      "c)\n",
      "\n",
      "Induced change in current= 0.064 A\n"
     ]
    }
   ],
   "source": [
    "#importing module\n",
    "import math\n",
    "from __future__ import division\n",
    "\n",
    "#Variable declaration\n",
    "n0=10**16 #donor atoms in cm**-3\n",
    "q=1.6*10**-19 #electron charge in J\n",
    "ni=1.5*10**10 #in cm**-3\n",
    "Nd=10**16 #Donors added to silicon to make it n-type) in cm**-3\n",
    "GT=2.25*10**10 #Thermal generation rate of carriers under equilibrium cm**-3/s\n",
    "gop=10**21 #in cm**-3/s\n",
    "tau_n=10**-6 #in s\n",
    "tau_t=2.5*10**-3 #transit time in s\n",
    "V=1 #in V\n",
    "\n",
    "#Calculations\n",
    "#a)\n",
    "alpha_r=GT/ni**2\n",
    "tau_p=(alpha_r*n0)**-1\n",
    " \n",
    "#b)\n",
    "delp=gop*tau_n\n",
    "\n",
    "#c)\n",
    "delI=(q*V*gop*tau_n)/tau_t\n",
    "\n",
    "#Result\n",
    "print(\"a)\\n\")\n",
    "print(\"lifetime of both type of carriers= %i micro-s\\n\" %(tau_p/10**-6))\n",
    "print(\"b)\\n\")\n",
    "print(\"excess carrier concentration= %i*10**15 cm**-3\\n\" %(delp/10**15))\n",
    "print(\"c)\\n\")\n",
    "print(\"Induced change in current= %.3f A\" %delI)"
   ]
  },
  {
   "cell_type": "markdown",
   "metadata": {},
   "source": [
    "## Example number 4.9 , Page number 151"
   ]
  },
  {
   "cell_type": "code",
   "execution_count": 30,
   "metadata": {
    "collapsed": false
   },
   "outputs": [
    {
     "name": "stdout",
     "output_type": "stream",
     "text": [
      "a)\n",
      "\n",
      "Current density for 1000V potential= 8.48*10**5 A/cm**2\n",
      "\n",
      "b)\n",
      "\n",
      "Doping concentration= 7.1*10**11 cm**-3\n",
      "\n",
      "c)\n",
      "\n",
      "Energy gap= 0.3280 eV\n"
     ]
    }
   ],
   "source": [
    "#importing module\n",
    "import math\n",
    "from __future__ import division\n",
    "\n",
    "#Variable declaration\n",
    "E1000=8.48*10**5 #Current density for 1000 V in A/cm**2\n",
    "delE=0.1 #in eV\n",
    "q=1.6*10**-19 #electron charge in eV\n",
    "ni=1.5*10**10 #in cm**-3\n",
    "Nd=10**16 #Donors added to silicon to make it n-type) in cm**-3\n",
    "gop=10**19 #in cm**-3/s\n",
    "tau=10**-5 #in s\n",
    "Const=0.0259 #constant value for kT in eV\n",
    "\n",
    "#Calculations\n",
    "#a)\n",
    "E10000=E1000\n",
    "\n",
    "#b)\n",
    "n0=ni*math.exp(delE/Const)\n",
    "\n",
    "#c)\n",
    "deln=gop*tau #in cm**-3\n",
    "n=n0 #in cm**-3\n",
    "p=deln #in cm**-3s\n",
    "delE_np=Const*math.log((n*p)/ni**2)\n",
    "\n",
    "#Result\n",
    "print(\"a)\\n\")\n",
    "print(\"Current density for 1000V potential= %1.2f*10**5 A/cm**2\\n\" %(E10000/10**5))\n",
    "print(\"b)\\n\")\n",
    "print(\"Doping concentration= %1.1f*10**11 cm**-3\\n\" %(n0/10**11)) #The answer provided in the textbook is wrong\"\n",
    "print(\"c)\\n\")\n",
    "print(\"Energy gap= %0.4f eV\" %delE_np) #The answer provided in the textbook is wrong\""
   ]
  },
  {
   "cell_type": "code",
   "execution_count": null,
   "metadata": {
    "collapsed": true
   },
   "outputs": [],
   "source": []
  }
 ],
 "metadata": {
  "kernelspec": {
   "display_name": "Python [Root]",
   "language": "python",
   "name": "Python [Root]"
  },
  "language_info": {
   "codemirror_mode": {
    "name": "ipython",
    "version": 3
   },
   "file_extension": ".py",
   "mimetype": "text/x-python",
   "name": "python",
   "nbconvert_exporter": "python",
   "pygments_lexer": "ipython3",
   "version": "3.5.2"
  }
 },
 "nbformat": 4,
 "nbformat_minor": 0
}
