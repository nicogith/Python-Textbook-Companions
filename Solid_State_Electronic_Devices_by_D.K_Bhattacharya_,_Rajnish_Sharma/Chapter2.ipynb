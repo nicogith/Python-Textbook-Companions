{
 "cells": [
  {
   "cell_type": "markdown",
   "metadata": {},
   "source": [
    "#  Chapter 2 : Growth and Crystal properties of Semiconductor "
   ]
  },
  {
   "cell_type": "markdown",
   "metadata": {},
   "source": [
    "## Example number 2.1 , Page number 42"
   ]
  },
  {
   "cell_type": "code",
   "execution_count": 2,
   "metadata": {
    "collapsed": false
   },
   "outputs": [
    {
     "name": "stdout",
     "output_type": "stream",
     "text": [
      "Each corner sphere of the bcc unit cell is shared with eigth neighbouring  cells.Thus each cell contains one eigth of a sphere at all the eigth corners.Each unit cell also contains one central sphere\n",
      "bcc unit cell volume filled with hard sphere= 68 %\n"
     ]
    }
   ],
   "source": [
    "#importing module\n",
    "import math\n",
    "from __future__ import division\n",
    "\n",
    "#Variable declaration\n",
    "print(\"Each corner sphere of the bcc unit cell is shared with eigth neighbouring  cells.Thus each cell contains one eigth of a sphere at all the eigth corners.Each unit cell also contains one central sphere\")\n",
    "S=2 #Sphere per unit cell\n",
    "\n",
    "#Calculations\n",
    "f=S*math.pi*math.sqrt(3)/16 #maximum fraction of a unit cell\n",
    "\n",
    "#Result\n",
    "print(\"bcc unit cell volume filled with hard sphere= %i %%\" %round(f*100))"
   ]
  },
  {
   "cell_type": "markdown",
   "metadata": {},
   "source": [
    "## Example number 2.2 , Page number 43"
   ]
  },
  {
   "cell_type": "code",
   "execution_count": 5,
   "metadata": {
    "collapsed": false
   },
   "outputs": [
    {
     "name": "stdout",
     "output_type": "stream",
     "text": [
      "The plane depicted in the figure is denoted by (6,3,2)\n"
     ]
    }
   ],
   "source": [
    "#importing module\n",
    "import math\n",
    "from __future__ import division\n",
    "\n",
    "#Variable declaration\n",
    "# r = p*a + q*b + s*c\n",
    "p=1\n",
    "q=2\n",
    "s=3\n",
    "LCM=6\n",
    "\n",
    "#Calculations\n",
    "rx=1/p*LCM #reciprocals\n",
    "ry=1/q*LCM\n",
    "rz=1/s*LCM\n",
    "\n",
    "#Result\n",
    "\n",
    "print(\"The plane depicted in the figure is denoted by (%i,%i,%i)\" %(rx,ry,rz))"
   ]
  },
  {
   "cell_type": "markdown",
   "metadata": {},
   "source": [
    "## Example number 2.3 , Page number 43"
   ]
  },
  {
   "cell_type": "code",
   "execution_count": 6,
   "metadata": {
    "collapsed": false
   },
   "outputs": [
    {
     "name": "stdout",
     "output_type": "stream",
     "text": [
      "Density of Si= 2.33 g/cm**3\n",
      "\n",
      "Density of GaAs= 5.33 g/cm**3\n"
     ]
    }
   ],
   "source": [
    "#importing module\n",
    "import math\n",
    "from __future__ import division\n",
    "\n",
    "#Variable declaration\n",
    "#Atomic weigths\n",
    "Si=28.1 \n",
    "Ga=69.7\n",
    "As=74.9\n",
    "Na=6.02*10**23 # Avagadro Number in mol**-1\n",
    "\n",
    "#(a)Si\n",
    "a=5.43*10**-8 #in cm\n",
    "n=8 #no. of atoms/cell\n",
    "\n",
    "#(b)GaAs\n",
    "a1=5.65*10**-8 #in cm                \n",
    "\n",
    "#Calculations\n",
    "N=8/a**3 #Atomic Concentration in atoms/cc\n",
    "N1=4/a1**3 #Atomic Concentration in atoms/cc\n",
    "Density=(N*Si)/(Na)\n",
    "Density1=(N1*(Ga+As))/(Na)\n",
    "\n",
    "#Result\n",
    "print(\"Density of Si= %1.2f g/cm**3\\n\" %Density)#answer vary due to round-off error\n",
    "print(\"Density of GaAs= %1.2f g/cm**3\" %Density1)"
   ]
  },
  {
   "cell_type": "markdown",
   "metadata": {},
   "source": [
    "## Example number 2.4 , Page number 44"
   ]
  },
  {
   "cell_type": "code",
   "execution_count": 10,
   "metadata": {
    "collapsed": false
   },
   "outputs": [
    {
     "name": "stdout",
     "output_type": "stream",
     "text": [
      "n(111)= 2.3*10**18 atoms/m**2\n"
     ]
    }
   ],
   "source": [
    "#importing module\n",
    "import math\n",
    "from __future__ import division\n",
    "\n",
    "#Variable declaration\n",
    "a=5*10**-10 #lattice constatnt in m\n",
    "\n",
    "#Calculations\n",
    "n111=1/(a**2*math.sqrt(3))\n",
    "\n",
    "#Result\n",
    "print(\"n(111)= %.1f*10**18 atoms/m**2\" %(n111/10**18))"
   ]
  },
  {
   "cell_type": "markdown",
   "metadata": {},
   "source": [
    "## Example number 2.5 , Page number 56"
   ]
  },
  {
   "cell_type": "code",
   "execution_count": 13,
   "metadata": {
    "collapsed": false
   },
   "outputs": [
    {
     "name": "stdout",
     "output_type": "stream",
     "text": [
      "(a)Cl= 1.43*10**17 cm**-3\n",
      "\n",
      "(b)Wt of P= 12.63*10**-3 g\n"
     ]
    }
   ],
   "source": [
    "#importing module\n",
    "import math\n",
    "from __future__ import division\n",
    "\n",
    "#Variable declaration\n",
    "Cs=5*10**16 #impurity concentration in solid in atoms/cm**3\n",
    "ks=0.35 #segregation coefficient \n",
    "d=2.33 #density of Si in g/cm**3\n",
    "Na=6.02*10**23 # Avagadro Number in mol**-1\n",
    "Si=31 #weight of Si\n",
    "loadSi=4000 #initial load in gm\n",
    "\n",
    "#Calculations\n",
    "Cl=Cs/ks #impurity concentration in liquid\n",
    "V=loadSi/d #volume of the melt in cm**3\n",
    "Nummber_of_atoms=Cl*V #in atoms\n",
    "Wt=(Cl*V*Si)/(Na)\n",
    "\n",
    "#Result\n",
    "print(\"(a)Cl= %1.2f*10**17 cm**-3\\n\" %(Cl/10**17))\n",
    "print(\"(b)Wt of P= %.2f*10**-3 g\" %(Wt/10**-3)) #The answers vary due to round off error"
   ]
  },
  {
   "cell_type": "markdown",
   "metadata": {},
   "source": [
    "## Example number 2.7 , Page number 59"
   ]
  },
  {
   "cell_type": "code",
   "execution_count": 14,
   "metadata": {
    "collapsed": false
   },
   "outputs": [
    {
     "name": "stdout",
     "output_type": "stream",
     "text": [
      "Miller indices of plane are (20,15,12)\n"
     ]
    }
   ],
   "source": [
    "#importing module\n",
    "import math\n",
    "from __future__ import division\n",
    "\n",
    "#Variable declaration\n",
    "# r = p*a + q*b + s*c\n",
    "x=3 #intercept on x axis\n",
    "y=4 #intercept on y axis\n",
    "z=5 #intercept on z zxis\n",
    "LCM=60 \n",
    "\n",
    "#Calculations\n",
    "rx=1/x*LCM #reciprocal\n",
    "ry=1/y*LCM\n",
    "rz=1/z*LCM\n",
    "\n",
    "#Result\n",
    "print(\"Miller indices of plane are (%i,%i,%i)\" %(rx,ry,rz))"
   ]
  },
  {
   "cell_type": "markdown",
   "metadata": {},
   "source": [
    "## Example number 2.9 , Page number 60"
   ]
  },
  {
   "cell_type": "code",
   "execution_count": 17,
   "metadata": {
    "collapsed": false
   },
   "outputs": [
    {
     "name": "stdout",
     "output_type": "stream",
     "text": [
      "(a)no. of atoms in each cell= 8\n",
      "\n",
      "(b)Density of atoms in silicon= 5*10**22 atoms cm**-3\n"
     ]
    }
   ],
   "source": [
    "#importing module\n",
    "import math\n",
    "from __future__ import division\n",
    "\n",
    "#Variable declaration\n",
    "a=8 #number of atoms shared by 8 cells\n",
    "b=6 #number of atoms shared by 2 cells\n",
    "c=4 #number of atoms shared by a single cell\n",
    "L=5.43*10**-8 #Lattice constant in cm\n",
    "\n",
    "#Calculations\n",
    "N=(a/8)+(b/2)+c #no. of atoms in each cell\n",
    "Volume=L**3\n",
    "Density=8/Volume\n",
    "\n",
    "#Result\n",
    "print(\"(a)no. of atoms in each cell= %i\\n\" %N)\n",
    "print(\"(b)Density of atoms in silicon= %i*10**22 atoms cm**-3\" %round(Density/10**22))\n",
    "#The answer provided in the textbook is wrong"
   ]
  },
  {
   "cell_type": "markdown",
   "metadata": {},
   "source": [
    "## Example number 2.10, Page number 60"
   ]
  },
  {
   "cell_type": "code",
   "execution_count": 18,
   "metadata": {
    "collapsed": false
   },
   "outputs": [
    {
     "name": "stdout",
     "output_type": "stream",
     "text": [
      "Density per unit volume= 2.33 g cm**-3\n"
     ]
    }
   ],
   "source": [
    "#importing module\n",
    "import math\n",
    "from __future__ import division\n",
    "\n",
    "#Variable declaration\n",
    "Na=6.02*10**23 # Avagadro Number in mol**-1\n",
    "AtWt=28.09 #in g/mole\n",
    "Density=5*10**22 #in atoms/cm**-3\n",
    "\n",
    "#Calculations\n",
    "DensityPerUnitVolume=(Density*AtWt)/(Na)\n",
    "\n",
    "#Result\n",
    "print(\"Density per unit volume= %1.2f g cm**-3\" %DensityPerUnitVolume)"
   ]
  }
 ],
 "metadata": {
  "kernelspec": {
   "display_name": "Python [Root]",
   "language": "python",
   "name": "Python [Root]"
  },
  "language_info": {
   "codemirror_mode": {
    "name": "ipython",
    "version": 3
   },
   "file_extension": ".py",
   "mimetype": "text/x-python",
   "name": "python",
   "nbconvert_exporter": "python",
   "pygments_lexer": "ipython3",
   "version": "3.5.2"
  }
 },
 "nbformat": 4,
 "nbformat_minor": 0
}
