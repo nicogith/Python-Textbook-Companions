{
 "metadata": {
  "name": "",
  "signature": "sha256:01039969f14274b6a7f44cb14ba52c884b9505fea9216d7f805101b2dc10a0c1"
 },
 "nbformat": 3,
 "nbformat_minor": 0,
 "worksheets": [
  {
   "cells": [
    {
     "cell_type": "heading",
     "level": 1,
     "metadata": {},
     "source": [
      "Semiconductor diodes"
     ]
    }
   ],
   "metadata": {}
  }
 ]
}