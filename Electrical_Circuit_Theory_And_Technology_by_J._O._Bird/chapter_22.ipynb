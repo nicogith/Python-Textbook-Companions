{
 "metadata": {
  "name": "",
  "signature": "sha256:d3dead09e75deb08529dd3e4c9a6e20d157d996c5db2df7bb50efc38f7ff7a89"
 },
 "nbformat": 3,
 "nbformat_minor": 0,
 "worksheets": [
  {
   "cells": [
    {
     "cell_type": "markdown",
     "metadata": {},
     "source": [
      "<h1>Chapter 22: Three-phase induction motors</h1>"
     ]
    },
    {
     "cell_type": "markdown",
     "metadata": {},
     "source": [
      "<h3>Example 1, page no. 389</h3>"
     ]
    },
    {
     "cell_type": "code",
     "collapsed": false,
     "input": [
      "\n",
      "from __future__ import division\n",
      "import math\n",
      "#initializing  the  variables:\n",
      "f  =  50;#  in  Hz\n",
      "p  =  2/2;#  number  of  pairs  of  poles\n",
      "\n",
      "#calculation:\n",
      " #ns  is  the  synchronous  speed,  \n",
      "    #f  is  the  frequency  in  hertz  of  the  supply  to  the  stator  and \n",
      "    #p  is  the  number  of  pairs  of  poles.\n",
      "ns  =  f/p\n",
      "nsrpm  =  ns*60\n",
      "\n",
      "\n",
      "#Results\n",
      "print  \"\\n\\n  Result  \\n\\n\"\n",
      "print  \"\\nsynchronous  speed  of  the  motor  is  \",nsrpm,\"  rev/min\""
     ],
     "language": "python",
     "metadata": {},
     "outputs": [
      {
       "output_type": "stream",
       "stream": "stdout",
       "text": [
        "\n",
        "\n",
        "  Result  \n",
        "\n",
        "\n",
        "\n",
        "synchronous  speed  of  the  motor  is   3000.0   rev/min"
       ]
      }
     ],
     "prompt_number": 1
    },
    {
     "cell_type": "markdown",
     "metadata": {},
     "source": [
      "<h3>Example 2, page no. 389</h3>"
     ]
    },
    {
     "cell_type": "code",
     "collapsed": false,
     "input": [
      "\n",
      "from __future__ import division\n",
      "import math\n",
      "#initializing  the  variables:\n",
      "f  =  60;#  in  Hz\n",
      "ns  =  900/60;#  in  rev/sec\n",
      "\n",
      "#calculation:\n",
      " #ns  is  the  synchronous  speed,  f  is  the  frequency  in  hertz  of  the  supply  to  the  stator  and  \n",
      "    #p  is  the  number  of  pairs  of  poles.\n",
      "p  =  f/ns\n",
      "np  =  p*2\n",
      "\n",
      "\n",
      "#Results\n",
      "print  \"\\n\\n  Result  \\n\\n\"\n",
      "print  \"\\nnumber  of  poles  is  \", round(np,2)"
     ],
     "language": "python",
     "metadata": {},
     "outputs": [
      {
       "output_type": "stream",
       "stream": "stdout",
       "text": [
        "\n",
        "\n",
        "  Result  \n",
        "\n",
        "\n",
        "\n",
        "number  of  poles  is   8.0"
       ]
      }
     ],
     "prompt_number": 2
    },
    {
     "cell_type": "markdown",
     "metadata": {},
     "source": [
      "<h3>Example 3, page no. 390</h3>"
     ]
    },
    {
     "cell_type": "code",
     "collapsed": false,
     "input": [
      "\n",
      "from __future__ import division\n",
      "import math\n",
      "#initializing  the  variables:\n",
      "p  =  2/2;#  number  of  pairs  of  poles\n",
      "ns  =  6000/60;#  in  rev/sec\n",
      "\n",
      "#calculation:\n",
      " #ns  is  the  synchronous  speed,  f  is  the  frequency  in  hertz  of  the  supply  to  the  stator  and \n",
      "    #\n",
      "\n",
      "\n",
      "#Results\n",
      "print  \"\\n\\n  Result  \\n\\n\"\n",
      "print  \"frequency  is  \",f,\"  Hz\""
     ],
     "language": "python",
     "metadata": {},
     "outputs": [
      {
       "output_type": "stream",
       "stream": "stdout",
       "text": [
        "\n",
        "\n",
        "  Result  \n",
        "\n",
        "\n",
        "frequency  is   100.0   Hz"
       ]
      }
     ],
     "prompt_number": 3
    },
    {
     "cell_type": "markdown",
     "metadata": {},
     "source": [
      "<h3>Example 4, page no. 391</h3>"
     ]
    },
    {
     "cell_type": "code",
     "collapsed": false,
     "input": [
      "\n",
      "from __future__ import division\n",
      "import math\n",
      "#initializing  the  variables:\n",
      "p  =  4/2;#  number  of  pairs  of  poles\n",
      "f  =  50;#  in  Hz\n",
      "nr  =  1455/60;#  in  rev/sec\n",
      "\n",
      "#calculation:\n",
      " #ns  is  the  synchronous  speed,  f  is  the  frequency  in  hertz  of  the  supply  to  the  stator  and \n",
      "    #p  is  the  number  of  pairs  of  poles.\n",
      "ns  =  f/p\n",
      " #The  slip,  s\n",
      "s  =  ((ns  -  nr)/ns)*100#  in  percent\n",
      "\n",
      "\n",
      "#Results\n",
      "print  \"\\n\\n  Result  \\n\\n\"\n",
      "print  \"\\n(a)  synchronous  speed  is  \",ns,\"  rev/sec\"\n",
      "print  \"\\n(b)  slip  is  \",s,\"  percent\""
     ],
     "language": "python",
     "metadata": {},
     "outputs": [
      {
       "output_type": "stream",
       "stream": "stdout",
       "text": [
        "\n",
        "\n",
        "  Result  \n",
        "\n",
        "\n",
        "\n",
        "(a)  synchronous  speed  is   25.0   rev/sec\n",
        "\n",
        "(b)  slip  is   3.0   percent"
       ]
      }
     ],
     "prompt_number": 4
    },
    {
     "cell_type": "markdown",
     "metadata": {},
     "source": [
      "<h3>Example 5, page no. 392</h3>"
     ]
    },
    {
     "cell_type": "code",
     "collapsed": false,
     "input": [
      "\n",
      "from __future__ import division\n",
      "import math\n",
      "#initializing  the  variables:\n",
      "p  =  2/2;#  number  of  pairs  of  poles\n",
      "f  =  60;#  in  Hz\n",
      "s  =  0.02;#  slip\n",
      "\n",
      "#calculation:\n",
      " #ns  is  the  synchronous  speed,  f  is  the  frequency  in  hertz  of  the  supply  to  the  stator  and \n",
      "    #p  is  the  number  of  pairs  of  poles.\n",
      "ns  =  f/p\n",
      " #The  the  rotor  runs  at\n",
      "nr  =  ns*(1  -  s)\n",
      " #frequency  of  the  e.m.f.  induced  in  the  rotor  bars  is\n",
      "fr  =  ns  -  nr\n",
      "\n",
      "#Results\n",
      "print  \"\\n\\n  Result  \\n\\n\"\n",
      "print  \"\\n(a)  synchronous  speed  is  \",ns,\"  rev/sec\"\n",
      "print  \"\\n(b)  rotor  speed  is  \",nr,\"  rev/sec\"\n",
      "print  \"\\n(c)  frequency  of  the  e.m.f. induced  in  the  rotor  bars  is  is  \",fr,\"  Hz\""
     ],
     "language": "python",
     "metadata": {},
     "outputs": [
      {
       "output_type": "stream",
       "stream": "stdout",
       "text": [
        "\n",
        "\n",
        "  Result  \n",
        "\n",
        "\n",
        "\n",
        "(a)  synchronous  speed  is   60.0   rev/sec\n",
        "\n",
        "(b)  rotor  speed  is   58.8   rev/sec\n",
        "\n",
        "(c)  frequency  of  the  e.m.f. induced  in  the  rotor  bars  is  is   1.2   Hz"
       ]
      }
     ],
     "prompt_number": 5
    },
    {
     "cell_type": "markdown",
     "metadata": {},
     "source": [
      "<h3>Example 6, page no. 392</h3>"
     ]
    },
    {
     "cell_type": "code",
     "collapsed": false,
     "input": [
      "\n",
      "from __future__ import division\n",
      "import math\n",
      "#initializing  the  variables:\n",
      "f  =  50;#  in  Hz\n",
      "nr  =  1200/60;#  in  rev/min\n",
      "s  =  0.04;#  slip\n",
      "\n",
      "#calculation:\n",
      " #the  synchronous  speed.\n",
      "ns  =  nr/(1  -  s)\n",
      "nsrpm  =  ns*60\n",
      "\n",
      "#Results\n",
      "print  \"\\n\\n  Result  \\n\\n\"\n",
      "print  \"\\n  synchronous  speed  is  \",nsrpm,\"  rev/min\""
     ],
     "language": "python",
     "metadata": {},
     "outputs": [
      {
       "output_type": "stream",
       "stream": "stdout",
       "text": [
        "\n",
        "\n",
        "  Result  \n",
        "\n",
        "\n",
        "\n",
        "  synchronous  speed  is   1250.0   rev/min"
       ]
      }
     ],
     "prompt_number": 6
    },
    {
     "cell_type": "markdown",
     "metadata": {},
     "source": [
      "<h3>Example 7, page no. 394</h3>"
     ]
    },
    {
     "cell_type": "code",
     "collapsed": false,
     "input": [
      "\n",
      "from __future__ import division\n",
      "import math\n",
      "#initializing  the  variables:\n",
      "p  =  8/2;#  number  of  pairs  of  poles\n",
      "f  =  50;#  in  Hz\n",
      "fr  =  3;#  in  Hz\n",
      "\n",
      "#calculation:\n",
      " #ns  is  the  synchronous  speed,  f  is  the  frequency  in  hertz  of  the  supply  to  the  stator  and  \n",
      "    #p  is  the  number  of  pairs  of  poles.\n",
      "ns  =  f/p\n",
      " #fr  =  s*f\n",
      "s  =  (fr/f)\n",
      " #the  rotor  speed.\n",
      "nr  =  ns*(1  -  s)\n",
      "nrrpm  =  nr*60\n",
      "\n",
      "\n",
      "#Results\n",
      "print  \"\\n\\n  Result  \\n\\n\"\n",
      "print  \"\\n(a)  slip  is  \",s*100,\"  percent\"\n",
      "print  \"\\n  (b)  rotor  speed  is  \",nrrpm,\"  rev/min\""
     ],
     "language": "python",
     "metadata": {},
     "outputs": [
      {
       "output_type": "stream",
       "stream": "stdout",
       "text": [
        "\n",
        "\n",
        "  Result  \n",
        "\n",
        "\n",
        "\n",
        "(a)  slip  is   6.0   percent\n",
        "\n",
        "  (b)  rotor  speed  is   705.0   rev/min"
       ]
      }
     ],
     "prompt_number": 7
    },
    {
     "cell_type": "markdown",
     "metadata": {},
     "source": [
      "<h3>Example 8, page no. 396</h3>"
     ]
    },
    {
     "cell_type": "code",
     "collapsed": false,
     "input": [
      "\n",
      "from __future__ import division\n",
      "import math\n",
      "#initializing  the  variables:\n",
      "Psi  =  32000;#  in  Watts\n",
      "Psl  =  1200;#  in  Watts\n",
      "s  =  0.05;#  slip\n",
      "Pfl  =  750;#  in  Watts\n",
      "\n",
      "#calculation:\n",
      " #Input  power  to  rotor  =  stator  input  power  -\u0006  stator  losses\n",
      "Pi  =    Psi  -  Psl\n",
      " #slip  =  rotor  copper  loss/rotor  input\n",
      "Pl  =  s*Pi\n",
      " #Total  mechanical  power  developed  by  the  rotor  =  rotor  input  power  -\u0006  rotor  losses\n",
      "Pr  =  Pi  -  Pl\n",
      " #Output  power  of  motor  =  power  developed  by  the  rotor  -\u0006  friction  and  windage  losses\n",
      "Po  =  Pr  -  Pfl\n",
      " #Efficiency  of  induction  motor  =  (output  power/input  power)*100\n",
      "eff  =  (Po/Psi)*100#  in  percent\n",
      "\n",
      "\n",
      "#Results\n",
      "print  \"\\n\\n  Result  \\n\\n\"\n",
      "print  \"\\n(a)  rotor  copper  loss  is  \",Pl,\"  Watt\"\n",
      "print  \"\\n(b)  Total  mechanical  power  developed  by  the  rotor  is  \",Pr,\"  W\"\n",
      "print  \"\\n(c)  Output  power  of  motor  is  \",Po,\"  Watt\"\n",
      "print  \"\\n(d)  efficiency  of  induction  motor  is  \",round(eff,2),\"  percent\""
     ],
     "language": "python",
     "metadata": {},
     "outputs": [
      {
       "output_type": "stream",
       "stream": "stdout",
       "text": [
        "\n",
        "\n",
        "  Result  \n",
        "\n",
        "\n",
        "\n",
        "(a)  rotor  copper  loss  is   1540.0   Watt\n",
        "\n",
        "(b)  Total  mechanical  power  developed  by  the  rotor  is   29260.0   W\n",
        "\n",
        "(c)  Output  power  of  motor  is   28510.0   Watt\n",
        "\n",
        "(d)  efficiency  of  induction  motor  is   89.09   percent"
       ]
      }
     ],
     "prompt_number": 8
    },
    {
     "cell_type": "markdown",
     "metadata": {},
     "source": [
      "<h3>Example 9, page no. 397</h3>"
     ]
    },
    {
     "cell_type": "code",
     "collapsed": false,
     "input": [
      "\n",
      "from __future__ import division\n",
      "import math\n",
      "#initializing  the  variables:\n",
      "Psi  =  32000;#  in  Watts\n",
      "Psl  =  1200;#  in  Watts\n",
      "Pfl  =  750;#  in  Watts\n",
      "x  =  0.35;\n",
      "\n",
      "#calculation:\n",
      " #The  slip,  s\n",
      "s  =  1-x\n",
      " #Input  power  to  rotor  =  stator  input  power  -  stator  losses\n",
      "Pi  =    Psi  -  Psl\n",
      " #slip  =  rotor  copper  loss/rotor  input\n",
      "Pl  =  s*Pi\n",
      " #Total  mechanical  power  developed  by  the  rotor  =  rotor  input  power  -\u0006  rotor  losses\n",
      "Pr  =  Pi  -  Pl\n",
      " #Output  power  of  motor  =  power  developed  by  the  rotor  -\u0006  friction  and  windage  losses\n",
      "Po  =  Pr  -  Pfl\n",
      " #Efficiency  of  induction  motor  =  (output  power/input  power)*100\n",
      "eff  =  (Po/Psi)*100#  in  percent\n",
      "\n",
      "\n",
      "#Results\n",
      "print  \"\\n\\n  Result  \\n\\n\"\n",
      "print  \"\\n(a)  rotor  copper  loss  is  \",Pl,\"  Watt\"\n",
      "print  \"\\n(b)  efficiency  of  induction  motor  is  \",round(eff,2),\"  percent\""
     ],
     "language": "python",
     "metadata": {},
     "outputs": [
      {
       "output_type": "stream",
       "stream": "stdout",
       "text": [
        "\n",
        "\n",
        "  Result  \n",
        "\n",
        "\n",
        "\n",
        "(a)  rotor  copper  loss  is   20020.0   Watt\n",
        "\n",
        "(b)  efficiency  of  induction  motor  is   31.34   percent"
       ]
      }
     ],
     "prompt_number": 9
    },
    {
     "cell_type": "markdown",
     "metadata": {},
     "source": [
      "<h3>Example 10, page no. 398</h3>"
     ]
    },
    {
     "cell_type": "code",
     "collapsed": false,
     "input": [
      "\n",
      "from __future__ import division\n",
      "import math\n",
      "#initializing  the  variables:\n",
      "V  =  415;#  in  Volts\n",
      "f  =  50  ;#  in  Hz\n",
      "nr  =  24;#  in  rev/sec\n",
      "p  =  4/2;#  no.  of  pole  pairs\n",
      "R2  =  0.35;#  in  Ohms\n",
      "X2  =  3.5;#  in  Ohms\n",
      "tr  =  0.85;#  turn  ratio  N2/N1\n",
      "Pl  =  770;#  in  Watt\n",
      "m  =  3;#  no.  of  phases\n",
      "\n",
      "#calculation:\n",
      " #ns  is  the  synchronous  speed,  f  is  the  frequency  in  hertz  of  the  supply  to  the  stator  and  \n",
      "    #p  is  the  number  of  pairs  of  poles.\n",
      "ns  =  f/p\n",
      " #The  slip,  s\n",
      "s  =  ((ns  -  nr)/ns)*100#  in  percent\n",
      " #Phase  voltage,  E1  =  V/(3**0.5)\n",
      "E1  =  V/(3**0.5)\n",
      " #Full  load  torque\n",
      "T  =  (m*(tr**2)/(2*math.pi*ns))*((s/100)*E1*E1*R2/(R2*R2  +  (X2*(s/100))**2))\n",
      " #Output  power,  including  friction  losses\n",
      "Pm  =  2*math.pi*nr*T\n",
      " #power  output\n",
      "Po  =  Pm  -  Pl\n",
      " #Maximum  torque  occurs  when  R2  =  Xr  =  0.35  ohm\n",
      " #Slip  \n",
      "sm  =  R2/X2\n",
      " #maximum  torque,  Tm  \n",
      "Tm  =  (m*(tr**2)/(2*math.pi*ns))*(sm*E1*E1*R2/(R2*R2  +  (X2*sm)**2))\n",
      " #speed  at  which  maximum  torque  occurs\n",
      "nrm  =  ns*(1  -  sm)\n",
      "nrmrpm  =  nrm*60\n",
      " #At  the  start,  i.e.,  at  standstill,  slip,  s=1\n",
      "ss  =  1\n",
      " #starting  torque\n",
      "Ts  =  (m*(tr**2)/(2*math.pi*ns))*(ss*E1*E1*R2/(R2*R2  +  (X2*ss)**2))\n",
      "\n",
      "\n",
      "#Results\n",
      "print  \"\\n\\n  Result  \\n\\n\"\n",
      "print  \"\\n(a)Synchronous  speed  is  \",round(ns,2),\"  rev/sec\"\n",
      "print  \"\\n(b)Slip  is  \",round(s,2),\"  percent\"\n",
      "print  \"\\n(c)Full  load  torque  is  \",round(T,2),\"  Nm\"\n",
      "print  \"\\n(d)power  output  is  \",round(Po,2),\"W\"\n",
      "print  \"\\n(e)maximum  torque  is  \",round(Tm,2),\"  Nm\"\n",
      "print  \"\\n(f)speed  at  which  maximum  torque  occurs  is  \",round(nrmrpm,2),\"rev/min\"\n",
      "print  \"\\n(g)starting  torque  is  \",round(Ts,2),\"  Nm\""
     ],
     "language": "python",
     "metadata": {},
     "outputs": [
      {
       "output_type": "stream",
       "stream": "stdout",
       "text": [
        "\n",
        "\n",
        "  Result  \n",
        "\n",
        "\n",
        "\n",
        "(a)Synchronous  speed  is   25.0   rev/sec\n",
        "\n",
        "(b)Slip  is   4.0   percent\n",
        "\n",
        "(c)Full  load  torque  is   78.05   Nm\n",
        "\n",
        "(d)power  output  is   10998.99 W\n",
        "\n",
        "(e)maximum  torque  is   113.17   Nm\n",
        "\n",
        "(f)speed  at  which  maximum  torque  occurs  is   1350.0 rev/min\n",
        "\n",
        "(g)starting  torque  is   22.41   Nm"
       ]
      }
     ],
     "prompt_number": 10
    },
    {
     "cell_type": "markdown",
     "metadata": {},
     "source": [
      "<h3>Example 11, page no. 400</h3>"
     ]
    },
    {
     "cell_type": "code",
     "collapsed": false,
     "input": [
      "\n",
      "from __future__ import division\n",
      "import math\n",
      "#initializing  the  variables:\n",
      "V  =  415;#  in  Volts\n",
      "f  =  50  ;#  in  Hz\n",
      "nr  =  24;#  in  rev/sec\n",
      "p  =  4/2;#  no.  of  pole  pairs\n",
      "R2  =  0.35;#  in  Ohms\n",
      "X2  =  3.5;#  in  Ohms\n",
      "tr  =  0.85;#  turn  ratio  N2/N1\n",
      "m  =  3;#  no.  of  phases\n",
      "\n",
      "#calculation:\n",
      " #ns  is  the  synchronous  speed,  f  is  the  frequency  in  hertz  of  the  supply  to  the  stator  and \n",
      "    #p  is  the  number  of  pairs  of  poles.\n",
      "ns  =  f/p\n",
      " #The  slip,  s\n",
      "s  =  ((ns  -  nr)/ns)*100#  in  percent\n",
      " #Phase  voltage,  E1  =  V/(3**0.5)\n",
      "E1  =  V/(3**0.5)\n",
      " #rotor  current,\n",
      "Ir  =  (s/100)*E1*tr/((R2**2  +  (X2*(s/100))**2)**0.5)\n",
      " #Rotor  copper  loss  \n",
      "Pcl  =  m*R2*(Ir**2)\n",
      " #starting  current,\n",
      "ss  =1\n",
      "I2  =  ss*tr*E1/((R2**2  +  (X2*ss)**2)**0.5)\n",
      "\n",
      "\n",
      "#Results\n",
      "print  \"\\n\\n  Result  \\n\\n\"\n",
      "print  \"\\n(a)rotor  current  is  \",round(Ir,2),\"  A\"\n",
      "print  \"\\n(b)Total  copper  loss  is  \",round(Pcl,2),\"  W\"\n",
      "print  \"\\n(c)starting  current  is  \",round(I2,2),\"  A\""
     ],
     "language": "python",
     "metadata": {},
     "outputs": [
      {
       "output_type": "stream",
       "stream": "stdout",
       "text": [
        "\n",
        "\n",
        "  Result  \n",
        "\n",
        "\n",
        "\n",
        "(a)rotor  current  is   21.61   A\n",
        "\n",
        "(b)Total  copper  loss  is   490.37   W\n",
        "\n",
        "(c)starting  current  is   57.9   A"
       ]
      }
     ],
     "prompt_number": 11
    },
    {
     "cell_type": "markdown",
     "metadata": {},
     "source": [
      "<h3>Example 12, page no. 401</h3>"
     ]
    },
    {
     "cell_type": "code",
     "collapsed": false,
     "input": [
      "\n",
      "from __future__ import division\n",
      "import math\n",
      "#initializing  the  variables:\n",
      "V  =  415;#  in  Volts\n",
      "Psl  =  650;#  in  Watt\n",
      "pf  =  0.87;#  power  factor\n",
      "\n",
      "#calculation:\n",
      "Pm  =  11770;#  watts  from  part  (d),  Problem  22.10\n",
      "Pcl  =  490.35;#  watts,  Rotor  copper  loss,  from  part  (b),  Problem  22.11\n",
      " #Stator  input  power\n",
      "P1  =  Pm  +  Pcl  +  Psl\n",
      "Po  =  11000#  watts,  Net  power  output,  from  part  (d),  Problem  22.10\n",
      " #efficiency  =  (output/input)  *100\n",
      "eff  =  (Po/P1)*100#  in  percent\n",
      " #Power  input,  P1  =  (3**0.5)*VL*IL*cos(phi)\u000e\n",
      " #  pf  =  cos(phi)\n",
      " #supply  current,  IL\n",
      "I  =  P1/((3**0.5)*V*pf)\n",
      "\n",
      "\n",
      "#Results\n",
      "print  \"\\n\\n  Result  \\n\\n\"\n",
      "print  \"\\n(aStator  input  power  is  \",round(P1,2),\" W\"\n",
      "print  \"\\n(b)efficiency  is  \",round(eff,2),\"  percent\"\n",
      "print  \"\\n(c)supply  current  is  \",round(I,2),\"  A\""
     ],
     "language": "python",
     "metadata": {},
     "outputs": [
      {
       "output_type": "stream",
       "stream": "stdout",
       "text": [
        "\n",
        "\n",
        "  Result  \n",
        "\n",
        "\n",
        "\n",
        "(aStator  input  power  is   12910.35  W\n",
        "\n",
        "(b)efficiency  is   85.2   percent\n",
        "\n",
        "(c)supply  current  is   20.64   A"
       ]
      }
     ],
     "prompt_number": 12
    },
    {
     "cell_type": "markdown",
     "metadata": {},
     "source": [
      "<h3>Example 13, page no. 401</h3>"
     ]
    },
    {
     "cell_type": "code",
     "collapsed": false,
     "input": [
      "\n",
      "from __future__ import division\n",
      "import math\n",
      "#initializing  the  variables:\n",
      "V  =  415;#  in  Volts\n",
      "f  =  50  ;#  in  Hz\n",
      "nr  =  24;#  in  rev/sec\n",
      "p  =  4/2;#  no.  of  pole  pairs\n",
      "R2  =  0.35;#  in  Ohms\n",
      "X2  =  3.5;#  in  Ohms\n",
      "\n",
      "#calculation:\n",
      " #At  the  moment  of  starting,  slip,  \n",
      "s  =  1\n",
      " #Maximum  torque  occurs  when  rotor  reactance  equals  rotor  resistance\n",
      " #for  maximum  torque\n",
      "R2  =  s*X2\n",
      "\n",
      "\n",
      "#Results\n",
      "print  \"\\n\\n  Result  \\n\\n\"\n",
      "print  \"\\nresistance  of  the  rotor  is  \",R2,\"  Ohm\""
     ],
     "language": "python",
     "metadata": {},
     "outputs": [
      {
       "output_type": "stream",
       "stream": "stdout",
       "text": [
        "\n",
        "\n",
        "  Result  \n",
        "\n",
        "\n",
        "\n",
        "resistance  of  the  rotor  is   3.5   Ohm"
       ]
      }
     ],
     "prompt_number": 13
    }
   ],
   "metadata": {}
  }
 ]
}