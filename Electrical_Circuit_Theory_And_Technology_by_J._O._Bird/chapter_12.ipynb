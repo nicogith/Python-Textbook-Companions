{
 "metadata": {
  "name": "",
  "signature": "sha256:8d04a0c9a13bb913646430ed26822dd1fca0ba93c3a05b3b357e6ab9e3a29bdf"
 },
 "nbformat": 3,
 "nbformat_minor": 0,
 "worksheets": [
  {
   "cells": [
    {
     "cell_type": "markdown",
     "metadata": {},
     "source": [
      "<h1>Chapter 12: Transistors</h1>"
     ]
    },
    {
     "cell_type": "markdown",
     "metadata": {},
     "source": [
      "<h3>Example 4, page no. 157</h3>"
     ]
    },
    {
     "cell_type": "code",
     "collapsed": false,
     "input": [
      "\n",
      "from __future__ import division\n",
      "import math\n",
      "#initializing  the  variables:\n",
      "Ia  =  0.040;#  in  Amperes\n",
      "I  =  50;#  in  Amperes\n",
      "Rl  =  1.2;#  in  Kohms\n",
      "Vc  =  7; # in Volts\n",
      "R = 1; # in Kohms\n",
      "Ib = 50*1E-6; # in Amps\n",
      "Iic = 20*1E-6; #in Amps\n",
      "\n",
      "#calculation:\n",
      "Vi = (70 - 30)*1E-6 * 1000\n",
      "Vo = 3.6\n",
      "Av = Vo/Vi\n",
      "\n",
      "Io = 3*1E-3\n",
      "Ii = (70 - 30)*1E-6\n",
      "Ai = Io/Ii\n",
      "\n",
      "Ap = Av*Ai\n",
      "\n",
      "#Results\n",
      "print  \"\\n\\n  Result  \\n\\n\"\n",
      "print  \"\\n  voltage gain, Av  =  \",  round(Av,2)\n",
      "print  \"\\n  Current gain, Av  =  \",  round(Ai,2)\n",
      "print  \"\\n  Power gain, Av  =  \",  round(Ap,2)"
     ],
     "language": "python",
     "metadata": {},
     "outputs": [
      {
       "output_type": "stream",
       "stream": "stdout",
       "text": [
        "\n",
        "\n",
        "  Result  \n",
        "\n",
        "\n",
        "\n",
        "  voltage gain, Av  =   90.0\n",
        "\n",
        "  Current gain, Av  =   75.0\n",
        "\n",
        "  Power gain, Av  =   6750.0"
       ]
      }
     ],
     "prompt_number": 1
    }
   ],
   "metadata": {}
  }
 ]
}