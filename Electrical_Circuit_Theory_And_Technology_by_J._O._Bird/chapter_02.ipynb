{
 "metadata": {
  "name": "",
  "signature": "sha256:7f992abe2c8d4f4a69090179e106282aadd94b3277ec90a7828dcefac26e044f"
 },
 "nbformat": 3,
 "nbformat_minor": 0,
 "worksheets": [
  {
   "cells": [
    {
     "cell_type": "markdown",
     "metadata": {},
     "source": [
      "<h1>Chapter 2: An Introduction to Electric Circuits</h1>"
     ]
    },
    {
     "cell_type": "markdown",
     "metadata": {},
     "source": [
      "<h3>Example 1, page no. 12</h3>"
     ]
    },
    {
     "cell_type": "code",
     "collapsed": false,
     "input": [
      "\n",
      "from __future__ import division\n",
      "#initializing the variables:\n",
      "Q = 0.24; # in Coulomb\n",
      "t = 0.015; # in sec\n",
      "\n",
      "#calculation:\n",
      "I = Q/t\n",
      "\n",
      "#results\n",
      "print \"Current(I):\", I,\"Ampere(A)\""
     ],
     "language": "python",
     "metadata": {},
     "outputs": [
      {
       "output_type": "stream",
       "stream": "stdout",
       "text": [
        "Current(I): 16.0 Ampere(A)\n"
       ]
      }
     ],
     "prompt_number": 1
    },
    {
     "cell_type": "markdown",
     "metadata": {},
     "source": [
      "<h3>Example 2, page no. 12</h3>"
     ]
    },
    {
     "cell_type": "code",
     "collapsed": false,
     "input": [
      "\n",
      "from __future__ import division\n",
      "#initializing the variables:\n",
      "I = 10; # in Ampere\n",
      "t = 240; # in sec\n",
      "\n",
      "#calculation:\n",
      "Q = I*t\n",
      "\n",
      "#resuts\n",
      "print \"Charge(Q):\", Q,\"Coulomb(C)\""
     ],
     "language": "python",
     "metadata": {},
     "outputs": [
      {
       "output_type": "stream",
       "stream": "stdout",
       "text": [
        "Charge(Q): 2400 Coulomb(C)\n"
       ]
      }
     ],
     "prompt_number": 2
    },
    {
     "cell_type": "markdown",
     "metadata": {},
     "source": [
      "<h3>Example 3, page no. 14</h3>"
     ]
    },
    {
     "cell_type": "code",
     "collapsed": false,
     "input": [
      "\n",
      "from __future__ import division\n",
      "#initializing the variables:\n",
      "I = 0.8; # in Ampere\n",
      "V = 20; # in Volts\n",
      "\n",
      "#calculation:\n",
      "R = V/I\n",
      "\n",
      "#results\n",
      "print \"Resistance(R):\", R,\"Ohms\""
     ],
     "language": "python",
     "metadata": {},
     "outputs": [
      {
       "output_type": "stream",
       "stream": "stdout",
       "text": [
        "Resistance(R): 25.0 Ohms"
       ]
      }
     ],
     "prompt_number": 3
    },
    {
     "cell_type": "markdown",
     "metadata": {},
     "source": [
      "<h3>Example 4, page no. 15/h3>"
     ]
    },
    {
     "cell_type": "code",
     "collapsed": false,
     "input": [
      "\n",
      "from __future__ import division\n",
      "#initializing the variables:\n",
      "I = 0.010; # in Ampere\n",
      "R = 2000; # in ohms\n",
      "\n",
      "#calculation:\n",
      "V = I*R\n",
      "\n",
      "#results\n",
      "print \"p.d.(V):\", V,\"Volts(V)\""
     ],
     "language": "python",
     "metadata": {},
     "outputs": [
      {
       "output_type": "stream",
       "stream": "stdout",
       "text": [
        "p.d.(V): 20.0 Volts(V)"
       ]
      }
     ],
     "prompt_number": 4
    },
    {
     "cell_type": "markdown",
     "metadata": {},
     "source": [
      "<h3>Example 5, page no. 15/h3>"
     ]
    },
    {
     "cell_type": "code",
     "collapsed": false,
     "input": [
      "\n",
      "from __future__ import division\n",
      "#initializing the variables:\n",
      "I = 0.050; # in Ampere\n",
      "V = 12; # in Volts\n",
      "\n",
      "#calculation:\n",
      "R = V/I\n",
      "\n",
      "#results\n",
      "print \"Resistance(R):\", R,\"Ohms\""
     ],
     "language": "python",
     "metadata": {},
     "outputs": [
      {
       "output_type": "stream",
       "stream": "stdout",
       "text": [
        "Resistance(R): 240.0 Ohms"
       ]
      }
     ],
     "prompt_number": 5
    },
    {
     "cell_type": "markdown",
     "metadata": {},
     "source": [
      "<h3>Example 6, page no. 15/h3>"
     ]
    },
    {
     "cell_type": "code",
     "collapsed": false,
     "input": [
      "\n",
      "from __future__ import division\n",
      "#initializing the variables:\n",
      "I1 = 0.005; # in Ampere\n",
      "V1 = 100; # in Volts\n",
      "V2 = 25; # in Volts\n",
      "\n",
      "#calculation:\n",
      "R = V1/I1\n",
      "I2 = V2/R\n",
      "\n",
      "#results\n",
      "print \"Resistance(R):\", R,\"Ohms\"\n",
      "print \"Current(I):\", I2,\"Ampere(A)\""
     ],
     "language": "python",
     "metadata": {},
     "outputs": [
      {
       "output_type": "stream",
       "stream": "stdout",
       "text": [
        "Resistance(R): 20000.0 Ohms\n",
        "Current(I): 0.00125 Ampere(A)"
       ]
      }
     ],
     "prompt_number": 6
    },
    {
     "cell_type": "markdown",
     "metadata": {},
     "source": [
      "<h3>Example 7, page no. 15/h3>"
     ]
    },
    {
     "cell_type": "code",
     "collapsed": false,
     "input": [
      "\n",
      "from __future__ import division\n",
      "#initializing the variables:\n",
      "I1 = 0.050; # in Ampere\n",
      "I2 = 200E-6; # in Ampere\n",
      "V = 120; # in Volts\n",
      "\n",
      "#calculation:\n",
      "R1 = V/I1\n",
      "R2 = V/I2\n",
      "\n",
      "#results\n",
      "print \"Resistance(R1):\", R1,\"Ohms\"\n",
      "print \"Resistance(R2):\", R2,\"Ohms\""
     ],
     "language": "python",
     "metadata": {},
     "outputs": [
      {
       "output_type": "stream",
       "stream": "stdout",
       "text": [
        "Resistance(R1): 2400.0 Ohms\n",
        "Resistance(R2): 600000.0 Ohms"
       ]
      }
     ],
     "prompt_number": 7
    },
    {
     "cell_type": "markdown",
     "metadata": {},
     "source": [
      "<h3>Example 8, page no. 16</h3>"
     ]
    },
    {
     "cell_type": "code",
     "collapsed": false,
     "input": [
      "\n",
      "from __future__ import division\n",
      "#initializing the variables:\n",
      "P = 100; # in Watt\n",
      "V = 250; # in Volts\n",
      "\n",
      "#calculation:\n",
      "I = P/V\n",
      "R = V/I\n",
      "\n",
      "#results\n",
      "print \"Current(I):\", I,\"Ampere(A)\"\n",
      "print \"Resistance(R):\", R,\"Ohms\""
     ],
     "language": "python",
     "metadata": {},
     "outputs": [
      {
       "output_type": "stream",
       "stream": "stdout",
       "text": [
        "Current(I): 0.4 Ampere(A)\n",
        "Resistance(R): 625.0 Ohms"
       ]
      }
     ],
     "prompt_number": 8
    },
    {
     "cell_type": "markdown",
     "metadata": {},
     "source": [
      "<h3>Example 9, page no. 17</h3>"
     ]
    },
    {
     "cell_type": "code",
     "collapsed": false,
     "input": [
      "\n",
      "from __future__ import division\n",
      "#initializing the variables:\n",
      "I = 0.004; # in ampere\n",
      "R = 5000; # in ohms\n",
      "\n",
      "#calculation:\n",
      "P = I*I*R\n",
      "\n",
      "#results\n",
      "print \"Power(P):\", P,\"Watt(W)\""
     ],
     "language": "python",
     "metadata": {},
     "outputs": [
      {
       "output_type": "stream",
       "stream": "stdout",
       "text": [
        "Power(P): 0.08 Watt(W)"
       ]
      }
     ],
     "prompt_number": 9
    },
    {
     "cell_type": "markdown",
     "metadata": {},
     "source": [
      "<h3>Example 10, page no. 17</h3>"
     ]
    },
    {
     "cell_type": "code",
     "collapsed": false,
     "input": [
      "\n",
      "#Find also the power rating of the kettle.\n",
      "from __future__ import division\n",
      "#initializing the variables:\n",
      "V = 240; # in Volts\n",
      "R = 30; # in ohms\n",
      "\n",
      "#calculation:\n",
      "I = V/R\n",
      "P = V*I\n",
      "\n",
      "#results\n",
      "print \"Current(I):\", I,\"Ampere(A)\"\n",
      "print \"Power(P):\", P,\"Watt(W)\""
     ],
     "language": "python",
     "metadata": {},
     "outputs": [
      {
       "output_type": "stream",
       "stream": "stdout",
       "text": [
        "Current(I): 8.0 Ampere(A)\n",
        "Power(P): 1920.0 Watt(W)"
       ]
      }
     ],
     "prompt_number": 10
    },
    {
     "cell_type": "markdown",
     "metadata": {},
     "source": [
      "<h3>Example 11, page no. 17</h3>"
     ]
    },
    {
     "cell_type": "code",
     "collapsed": false,
     "input": [
      "\n",
      "from __future__ import division\n",
      "#initializing the variables:\n",
      "I = 5; # in ampere\n",
      "R = 100; # in ohms\n",
      "\n",
      "#calculation:\n",
      "V = I*R\n",
      "P = I*R*I\n",
      "\n",
      "#results\n",
      "print \"p.d(V):\", V,\"Volts(V)\"\n",
      "print \"Power(P):\", P,\"Watt(W)\""
     ],
     "language": "python",
     "metadata": {},
     "outputs": [
      {
       "output_type": "stream",
       "stream": "stdout",
       "text": [
        "p.d(V): 500 Volts(V)\n",
        "Power(P): 2500 Watt(W)"
       ]
      }
     ],
     "prompt_number": 11
    },
    {
     "cell_type": "markdown",
     "metadata": {},
     "source": [
      "<h3>Example 12, page no. 17</h3>"
     ]
    },
    {
     "cell_type": "code",
     "collapsed": false,
     "input": [
      "\n",
      "from __future__ import division\n",
      "#initializing the variables:\n",
      "I1 = 0.020; # in ampere\n",
      "V1 = 20; # in Volts\n",
      "I2 = 0.005; # in ampere\n",
      "V2 = 16; # in Volts\n",
      "\n",
      "#calculation:\n",
      "R1 = V1/I1\n",
      "R2 = V2/I2\n",
      "\n",
      "#results\n",
      "print \"Resistance(R1):\", R1,\"Ohms\"\n",
      "print \"Resistance(R2):\", R2,\"Ohms\""
     ],
     "language": "python",
     "metadata": {},
     "outputs": [
      {
       "output_type": "stream",
       "stream": "stdout",
       "text": [
        "Resistance(R1): 1000.0 Ohms\n",
        "Resistance(R2): 3200.0 Ohms"
       ]
      }
     ],
     "prompt_number": 12
    },
    {
     "cell_type": "markdown",
     "metadata": {},
     "source": [
      "<h3>Example 13, page no. 18</h3>"
     ]
    },
    {
     "cell_type": "code",
     "collapsed": false,
     "input": [
      "\n",
      "from __future__ import division\n",
      "#initializing the variables:\n",
      "V = 240; # in Volts\n",
      "R = 960; # in ohms\n",
      "\n",
      "#calculation:\n",
      "I = V/R\n",
      "P = I*V\n",
      "\n",
      "#results\n",
      "print \"Current(I):\", I,\"Ampere(A)\"\n",
      "print \"Power(P):\", P,\"Watt(W)\""
     ],
     "language": "python",
     "metadata": {},
     "outputs": [
      {
       "output_type": "stream",
       "stream": "stdout",
       "text": [
        "Current(I): 0.25 Ampere(A)\n",
        "Power(P): 60.0 Watt(W)"
       ]
      }
     ],
     "prompt_number": 14
    },
    {
     "cell_type": "markdown",
     "metadata": {},
     "source": [
      "<h3>Example 14, page no. 18</h3>"
     ]
    },
    {
     "cell_type": "code",
     "collapsed": false,
     "input": [
      "\n",
      "from __future__ import division\n",
      "#initializing the variables:\n",
      "V = 12; # in Volts\n",
      "R = 40; # in ohms\n",
      "t = 120; # in sec\n",
      "\n",
      "#calculation:\n",
      "I = V/R\n",
      "P = I*V\n",
      "E = P*t\n",
      "\n",
      "#results\n",
      "print \"Current(I):\", I,\"Ampere(A)\"\n",
      "print \"Power(P):\", P,\"Watt(W)\"\n",
      "print \"Energy(E):\", E,\"Joule(J)\""
     ],
     "language": "python",
     "metadata": {},
     "outputs": [
      {
       "output_type": "stream",
       "stream": "stdout",
       "text": [
        "Current(I): 0.3 Ampere(A)\n",
        "Power(P): 3.6 Watt(W)\n",
        "Energy(E): 432.0 Joule(J)"
       ]
      }
     ],
     "prompt_number": 15
    },
    {
     "cell_type": "markdown",
     "metadata": {},
     "source": [
      "<h3>Example 15, page no. 18</h3>"
     ]
    },
    {
     "cell_type": "code",
     "collapsed": false,
     "input": [
      "\n",
      "from __future__ import division\n",
      "#initializing the variables:\n",
      "V = 15; # in Volts\n",
      "I = 2; # in ampere\n",
      "t = 360; # in sec\n",
      "\n",
      "#calculation:\n",
      "E = V*I*t\n",
      "\n",
      "#results\n",
      "print \"Energy(E):\", E,\"Joule(J)\""
     ],
     "language": "python",
     "metadata": {},
     "outputs": [
      {
       "output_type": "stream",
       "stream": "stdout",
       "text": [
        "Energy(E): 10800 Joule(J)"
       ]
      }
     ],
     "prompt_number": 16
    },
    {
     "cell_type": "markdown",
     "metadata": {},
     "source": [
      "<h3>Example 16, page no. 18</h3>"
     ]
    },
    {
     "cell_type": "code",
     "collapsed": false,
     "input": [
      "\n",
      "from __future__ import division\n",
      "#initializing the variables:\n",
      "V = 240; # in Volts\n",
      "I = 13; # in ampere\n",
      "t = 30; # in hours\n",
      "p = 7; # in paise per kWh\n",
      "\n",
      "#calculation:\n",
      "P = V*I\n",
      "E = P*t/1000 # in kWh\n",
      "C = E*p\n",
      "\n",
      "#results\n",
      "print \"Cost per week:\", C,\" Paise(p)\""
     ],
     "language": "python",
     "metadata": {},
     "outputs": [
      {
       "output_type": "stream",
       "stream": "stdout",
       "text": [
        "Cost per week: 655.2  Paise(p)"
       ]
      }
     ],
     "prompt_number": 17
    },
    {
     "cell_type": "markdown",
     "metadata": {},
     "source": [
      "<h3>Example 17, page no. 19</h3>"
     ]
    },
    {
     "cell_type": "code",
     "collapsed": false,
     "input": [
      "\n",
      "from __future__ import division\n",
      "#initializing the variables:\n",
      "V = 250; # in Volts\n",
      "E = 3.6E6; # energy in J\n",
      "t = 2400; # in sec\n",
      "\n",
      "#calculation:\n",
      "P = E/t\n",
      "I = P/V\n",
      "\n",
      "#results\n",
      "print \"Power(P):\", P,\"Watt(W)\"\n",
      "print \"Current(I):\", I,\"Ampere(A)\""
     ],
     "language": "python",
     "metadata": {},
     "outputs": [
      {
       "output_type": "stream",
       "stream": "stdout",
       "text": [
        "Power(P): 1500.0 Watt(W)\n",
        "Current(I): 6.0 Ampere(A)"
       ]
      }
     ],
     "prompt_number": 18
    },
    {
     "cell_type": "markdown",
     "metadata": {},
     "source": [
      "<h3>Example 18, page no. 19</h3>"
     ]
    },
    {
     "cell_type": "code",
     "collapsed": false,
     "input": [
      "\n",
      "from __future__ import division\n",
      "#initializing the variables:\n",
      "R = 20; # in ohms\n",
      "I = 10; # in ampere\n",
      "t = 6; # in hours\n",
      "p = 7; # in paise per kWh\n",
      "\n",
      "#calculation:\n",
      "P = I*I*R\n",
      "E = P*t/1000 # in kWh\n",
      "C = E*p\n",
      "\n",
      "#results\n",
      "print \"Power(P):\", P,\"Watt(W)\"\n",
      "print \"Cost per week:\", C,\"Paise(p)\""
     ],
     "language": "python",
     "metadata": {},
     "outputs": [
      {
       "output_type": "stream",
       "stream": "stdout",
       "text": [
        "Power(P): 2000 Watt(W)\n",
        "Cost per week: 84.0 Paise(p)"
       ]
      }
     ],
     "prompt_number": 18
    },
    {
     "cell_type": "markdown",
     "metadata": {},
     "source": [
      "<h3>Example 19, page no. 19</h3>"
     ]
    },
    {
     "cell_type": "code",
     "collapsed": false,
     "input": [
      "\n",
      "from __future__ import division\n",
      "#initializing the variables:\n",
      "P1 = 3; # in kW\n",
      "P2 = 150; # in Watt\n",
      "n1 = 2; # no. of P1 Equips\n",
      "n2 = 6; # no. of P2 Equips\n",
      "t1 = 20; # in hours each per week\n",
      "t2 = 30; # in hours each per week\n",
      "p = 7; # in paise per kWh\n",
      "\n",
      "#calculation:\n",
      "E1 = P1*t1*n1 # in kWh by two P1 eqips\n",
      "E2 = P2*t2*n2/1000 # in kWh by six P2 eqips\n",
      "Et = E1 + E2\n",
      "C = Et * 7\n",
      "\n",
      "#results\n",
      "print \"Cost per week:\", C,\"Paise(p)\""
     ],
     "language": "python",
     "metadata": {},
     "outputs": [
      {
       "output_type": "stream",
       "stream": "stdout",
       "text": [
        "Cost per week: 1029.0 Paise(p)"
       ]
      }
     ],
     "prompt_number": 19
    },
    {
     "cell_type": "markdown",
     "metadata": {},
     "source": [
      "<h3>Example 20, page no. 20</h3>"
     ]
    },
    {
     "cell_type": "code",
     "collapsed": false,
     "input": [
      "\n",
      "from __future__ import division\n",
      "#initializing the variables:\n",
      "I1 = 5; # in Amp\n",
      "I2 = 10; # in Amp\n",
      "I3 = 13; # in Amp\n",
      "P1 = 1000; # in Watts\n",
      "P2 = 3000; # in Watts\n",
      "V = 240; #in Volts\n",
      "\n",
      "#calculation:\n",
      "It = P1/V\n",
      "If = P2/V\n",
      "\n",
      "#results\n",
      "print \"For the toaster,\", I1,\"A fuse is most appropriate\"\n",
      "print \"For the Fire,\", I3,\"A fuse is most appropriate\""
     ],
     "language": "python",
     "metadata": {},
     "outputs": [
      {
       "output_type": "stream",
       "stream": "stdout",
       "text": [
        "For the toaster, 5 A fuse is most appropriate\n",
        "For the Fire, 13 A fuse is most appropriate"
       ]
      }
     ],
     "prompt_number": 1
    }
   ],
   "metadata": {}
  }
 ]
}