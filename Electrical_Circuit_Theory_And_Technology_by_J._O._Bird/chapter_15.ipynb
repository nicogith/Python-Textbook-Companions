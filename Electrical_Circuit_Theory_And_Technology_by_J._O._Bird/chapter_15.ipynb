{
 "metadata": {
  "name": "",
  "signature": "sha256:cceab0fff3199357a0bf4568e6d350c506b245311469d213cc25b93faa4b4954"
 },
 "nbformat": 3,
 "nbformat_minor": 0,
 "worksheets": [
  {
   "cells": [
    {
     "cell_type": "markdown",
     "metadata": {},
     "source": [
      "<h1>Chapter 15: Single-phase series a.c. circuits</h1>"
     ]
    },
    {
     "cell_type": "markdown",
     "metadata": {},
     "source": [
      "<h3>Example 1, page no. 214</h3>"
     ]
    },
    {
     "cell_type": "code",
     "collapsed": false,
     "input": [
      "\n",
      "from __future__ import division\n",
      "import math\n",
      "#initializing  the  variables:\n",
      "L  =  0.32;#  in  Henry\n",
      "f1  =  50;#  in  Hz\n",
      "f2  =  5000;#  in  Hz\n",
      "Z  =  124;#  in  ohms\n",
      "\n",
      "#calculation:\n",
      "XL  =  2*math.pi*f1*L\n",
      "L  =  Z/(2*math.pi*f2)\n",
      "\n",
      "\n",
      "#Results\n",
      "print  \"\\n\\n  Result  \\n\\n\"\n",
      "print  \"\\n  (a)Inductive  reactance,  XL  =  \",round(XL,2),\"  ohms  \\n\"\n",
      "print  \"\\n  (b)Inductance  L  =  \",round((L/1E-3),2),\"  mH  \\n\""
     ],
     "language": "python",
     "metadata": {},
     "outputs": [
      {
       "output_type": "stream",
       "stream": "stdout",
       "text": [
        "\n",
        "\n",
        "  Result  \n",
        "\n",
        "\n",
        "\n",
        "  (a)Inductive  reactance,  XL  =   100.53   ohms  \n",
        "\n",
        "\n",
        "  (b)Inductance  L  =   3.95   mH  "
       ]
      }
     ],
     "prompt_number": 1
    },
    {
     "cell_type": "markdown",
     "metadata": {},
     "source": [
      "<h3>Example 2, page no. 214</h3>"
     ]
    },
    {
     "cell_type": "code",
     "collapsed": false,
     "input": [
      "\n",
      "from __future__ import division\n",
      "import math\n",
      "#initializing  the  variables:\n",
      "L  =  0.040;#  in  Henry\n",
      "V1  =  240;#  in  volts\n",
      "V2  =  100;#  in  volts\n",
      "f1  =  50;#  in  Hz\n",
      "f2  =  1000;#  in  Hz\n",
      "\n",
      "#calculation:\n",
      "XL1  =  2*math.pi*f1*L\n",
      "I1  =  V1/XL1\n",
      "XL2  =  2*math.pi*f2*L\n",
      "I2  =  V2/XL2\n",
      "\n",
      "#Results\n",
      "print  \"\\n\\n  Result  \\n\\n\"\n",
      "print  \"\\n  (a)Inductive  reactance,  XL  =  \",round(  XL1,2),\"  ohms  and  current  I  =  \",round(  I1,2),\"  A\\n\"\n",
      "print  \"\\n  (b)Inductive  reactance,  XL  =  \",round(  XL2,2),\"  ohms  and  current  I  =  \",round(  I2,2),\"  A\\n\""
     ],
     "language": "python",
     "metadata": {},
     "outputs": [
      {
       "output_type": "stream",
       "stream": "stdout",
       "text": [
        "\n",
        "\n",
        "  Result  \n",
        "\n",
        "\n",
        "\n",
        "  (a)Inductive  reactance,  XL  =   12.57   ohms  and  current  I  =   19.1   A\n",
        "\n",
        "\n",
        "  (b)Inductive  reactance,  XL  =   251.33   ohms  and  current  I  =   0.4   A"
       ]
      }
     ],
     "prompt_number": 2
    },
    {
     "cell_type": "markdown",
     "metadata": {},
     "source": [
      "<h3>Example 3, page no. 215</h3>"
     ]
    },
    {
     "cell_type": "code",
     "collapsed": false,
     "input": [
      "\n",
      "from __future__ import division\n",
      "import math\n",
      "#initializing  the  variables:\n",
      "C  =  10E-6;#  in  Farads\n",
      "f1  =  50;#  in  Hz\n",
      "f2  =  20000;#  in  Hz\n",
      "\n",
      "#calculation:\n",
      "Xc1  =  1/(2*math.pi*f1*C)\n",
      "Xc2  =  1/(2*math.pi*f2*C)\n",
      "\n",
      "\n",
      "#Results\n",
      "print  \"\\n\\n  Result  \\n\\n\"\n",
      "print  \"\\n  (a)Capacitive  reactance,  Xc  =  \",round(  Xc1,2),\"  ohms  \"\n",
      "print  \"\\n  (b)Capacitive  reactance,  Xc  =  \",round(  Xc2,2),\"  ohms  \""
     ],
     "language": "python",
     "metadata": {},
     "outputs": [
      {
       "output_type": "stream",
       "stream": "stdout",
       "text": [
        "\n",
        "\n",
        "  Result  \n",
        "\n",
        "\n",
        "\n",
        "  (a)Capacitive  reactance,  Xc  =   318.31   ohms  \n",
        "\n",
        "  (b)Capacitive  reactance,  Xc  =   0.8   ohms  "
       ]
      }
     ],
     "prompt_number": 3
    },
    {
     "cell_type": "markdown",
     "metadata": {},
     "source": [
      "<h3>Example 4, page no. 215</h3>"
     ]
    },
    {
     "cell_type": "code",
     "collapsed": false,
     "input": [
      "\n",
      "from __future__ import division\n",
      "import math\n",
      "#initializing  the  variables:\n",
      "Z  =  40;#  in  ohms\n",
      "f  =  50;#  in  Hz\n",
      "\n",
      "#calculation:\n",
      "C  =  1/(2*math.pi*f*Z)\n",
      "\n",
      "#Results\n",
      "print  \"\\n\\n  Result  \\n\\n\"\n",
      "print  \"\\n  Capacitance,C  =  \",round((C/1E-6),2),\" uF  \""
     ],
     "language": "python",
     "metadata": {},
     "outputs": [
      {
       "output_type": "stream",
       "stream": "stdout",
       "text": [
        "\n",
        "\n",
        "  Result  \n",
        "\n",
        "\n",
        "\n",
        "  Capacitance,C  =   79.58  uF  "
       ]
      }
     ],
     "prompt_number": 4
    },
    {
     "cell_type": "markdown",
     "metadata": {},
     "source": [
      "<h3>Example 5, page no. 215</h3>"
     ]
    },
    {
     "cell_type": "code",
     "collapsed": false,
     "input": [
      "\n",
      "from __future__ import division\n",
      "import math\n",
      "#initializing  the  variables:\n",
      "C  =  23E-6;#  in  Farads\n",
      "f  =  50;#  in  Hz\n",
      "V  =  240;#  in  volts\n",
      "\n",
      "#calculation:\n",
      "Xc  =  1/(2*math.pi*f*C)\n",
      "I  =  V/Xc\n",
      "\n",
      "\n",
      "#Results\n",
      "print  \"\\n\\n  Result  \\n\\n\"\n",
      "print  \"\\n  current  I  =  \",round(I,2),\"  A  \""
     ],
     "language": "python",
     "metadata": {},
     "outputs": [
      {
       "output_type": "stream",
       "stream": "stdout",
       "text": [
        "\n",
        "\n",
        "  Result  \n",
        "\n",
        "\n",
        "\n",
        "  current  I  =   1.73   A  "
       ]
      }
     ],
     "prompt_number": 5
    },
    {
     "cell_type": "markdown",
     "metadata": {},
     "source": [
      "<h3>Example 6, page no. 216</h3>"
     ]
    },
    {
     "cell_type": "code",
     "collapsed": false,
     "input": [
      "\n",
      "from __future__ import division\n",
      "import math\n",
      "#initializing  the  variables:\n",
      "Vr  =  12;#  in  volts\n",
      "Vl  =  5;#  in  volts\n",
      "\n",
      "#calculation:\n",
      "V  =  (Vr**2  +  Vl**2)**0.5\n",
      "phi  =  math.atan(Vl/Vr)\n",
      "phid  =  phi*180/math.pi\n",
      "\n",
      "\n",
      "#Results\n",
      "print  \"\\n\\n  Result  \\n\\n\"\n",
      "print  \"\\n  supply  voltage  V  =  \",V,\"  V,  phase  angle  between  current  and  voltage  is  \",  round(phid,2),\"deg lagging\""
     ],
     "language": "python",
     "metadata": {},
     "outputs": [
      {
       "output_type": "stream",
       "stream": "stdout",
       "text": [
        "\n",
        "\n",
        "  Result  \n",
        "\n",
        "\n",
        "\n",
        "  supply  voltage  V  =   13.0   V,  phase  angle  between  current  and  voltage  is   22.62 deg lagging"
       ]
      }
     ],
     "prompt_number": 7
    },
    {
     "cell_type": "markdown",
     "metadata": {},
     "source": [
      "<h3>Example 7, page no. 216</h3>"
     ]
    },
    {
     "cell_type": "code",
     "collapsed": false,
     "input": [
      "\n",
      "from __future__ import division\n",
      "import math\n",
      "#initializing  the  variables:\n",
      "V  =  240;#  in  volts\n",
      "R  =  4;#  in  ohms\n",
      "L  =  0.00955;#  in  Henry\n",
      "f  =  50;#  in  Hz\n",
      "\n",
      "#calculation:\n",
      "XL  =  2*math.pi*f*L\n",
      "Z  =  (R**2  +  XL**2)**0.5\n",
      "I  =  V/Z\n",
      "phid  = math.atan(XL/R)*180/math.pi\n",
      "\n",
      "#Results\n",
      "print  \"\\n\\n  Result  \\n\\n\"\n",
      "print  \"\\n  (a)Inductive  reactance,  XL  =  \",round(XL,2),\"  ohms\"\n",
      "print  \"\\n  (b)Impedance,  Z  =  \",round(Z,2),\"  ohms\"\n",
      "print  \"\\n  (c)Current,  I  =  \",round(I,2),\"  A\"\n",
      "print  \"\\n  (d)phase  angle  between  the  supply  voltage  and  current  is  \",round(phid,2),\"deg lagging\\n\""
     ],
     "language": "python",
     "metadata": {},
     "outputs": [
      {
       "output_type": "stream",
       "stream": "stdout",
       "text": [
        "\n",
        "\n",
        "  Result  \n",
        "\n",
        "\n",
        "\n",
        "  (a)Inductive  reactance,  XL  =   3.0   ohms\n",
        "\n",
        "  (b)Impedance,  Z  =   5.0   ohms\n",
        "\n",
        "  (c)Current,  I  =   48.0   A\n",
        "\n",
        "  (d)phase  angle  between  the  supply  voltage  and  current  is   36.87 deg lagging\n"
       ]
      }
     ],
     "prompt_number": 8
    },
    {
     "cell_type": "markdown",
     "metadata": {},
     "source": [
      "<h3>Example 8, page no. 217</h3>"
     ]
    },
    {
     "cell_type": "code",
     "collapsed": false,
     "input": [
      "\n",
      "from __future__ import division\n",
      "import math\n",
      "#initializing  the  variables:\n",
      "Vdc  =  12;#  in  volts\n",
      "Vac  =  240;#  in  volts\n",
      "Iac  =  20;#  in  Amperes\n",
      "Idc  =  2;#  in  Amperes\n",
      "f  =  50;#  in  Hz\n",
      "\n",
      "#calculation:\n",
      "R  =  Vdc/Idc\n",
      "Z  =  Vac/Iac\n",
      "XL  =  (Z**2  -  R**2)**0.5\n",
      "L  =  XL/(2*math.pi*f)\n",
      "\n",
      "\n",
      "#Results\n",
      "print  \"\\n\\n  Result  \\n\\n\"\n",
      "print  \"\\n  (a)Resistance,  R  =  \",R,\"  ohms\"\n",
      "print  \"\\n  (b)Impedance,  Z  =  \",Z,\"  ohms\"\n",
      "print  \"\\n  (c)Inductive  reactance,  XL  =  \",round(XL,2),\"  ohms\"\n",
      "print  \"\\n  (d)Inductance,  L  =  \",round(L,2),\"  H\""
     ],
     "language": "python",
     "metadata": {},
     "outputs": [
      {
       "output_type": "stream",
       "stream": "stdout",
       "text": [
        "\n",
        "\n",
        "  Result  \n",
        "\n",
        "\n",
        "\n",
        "  (a)Resistance,  R  =   6.0   ohms\n",
        "\n",
        "  (b)Impedance,  Z  =   12.0   ohms\n",
        "\n",
        "  (c)Inductive  reactance,  XL  =   10.39   ohms\n",
        "\n",
        "  (d)Inductance,  L  =   0.03   H"
       ]
      }
     ],
     "prompt_number": 8
    },
    {
     "cell_type": "markdown",
     "metadata": {},
     "source": [
      "<h3>Example 9, page no. 217</h3>"
     ]
    },
    {
     "cell_type": "code",
     "collapsed": false,
     "input": [
      "\n",
      "from __future__ import division\n",
      "import math\n",
      "#initializing  the  variables:\n",
      "R  =  200;#  in  ohms\n",
      "L  =  0.3183;#  in  henry\n",
      "V  =  240;#  in  volts\n",
      "f  =  50;#  in  Hz\n",
      "\n",
      "#calculation:\n",
      "XL  =  2*math.pi*f*L\n",
      "Z  =  (R**2  +  XL**2)**0.5\n",
      "I  =  V/Z\n",
      "VL  =  I*XL\n",
      "VR  =  I*R\n",
      "phid  =  math.atan(XL/R)*180/math.pi\n",
      "\n",
      "#Results\n",
      "print  \"\\n\\n  Result  \\n\\n\"\n",
      "print  \"\\n  (a)Inductive  reactance,  XL  =  \",round(XL,2),\"  ohms\"\n",
      "print  \"\\n  (b)Impedance,  Z  =  \",round(Z,2),\"  ohms\"\n",
      "print  \"\\n  (c)current,  I  =  \",round(I,2),\"  A\"\n",
      "print  \"\\n  (d)p.d.  across  Inductor,  VL  =  \",round(VL,2),\"  V  and  p.d.  across  resistance,  VR  =  \",round(VR,2),\"  V\"\n",
      "print  \"\\n  (e)circuit  phase  angle  is  \",round(phid,2),\" deg lagging\\n\""
     ],
     "language": "python",
     "metadata": {},
     "outputs": [
      {
       "output_type": "stream",
       "stream": "stdout",
       "text": [
        "\n",
        "\n",
        "  Result  \n",
        "\n",
        "\n",
        "\n",
        "  (a)Inductive  reactance,  XL  =   100.0   ohms\n",
        "\n",
        "  (b)Impedance,  Z  =   223.61   ohms\n",
        "\n",
        "  (c)current,  I  =   1.07   A\n",
        "\n",
        "  (d)p.d.  across  Inductor,  VL  =   107.33   V  and  p.d.  across  resistance,  VR  =   214.66   V\n",
        "\n",
        "  (e)circuit  phase  angle  is   26.56  deg lagging\n"
       ]
      }
     ],
     "prompt_number": 9
    },
    {
     "cell_type": "markdown",
     "metadata": {},
     "source": [
      "<h3>Example 10, page no. 218</h3>"
     ]
    },
    {
     "cell_type": "code",
     "collapsed": false,
     "input": [
      "\n",
      "from __future__ import division\n",
      "import math\n",
      "#initializing  the  variables:\n",
      "R  =  100;#  in  ohms\n",
      "L  =  0.2;#  in  henry\n",
      "Vmax  =  200;#  in  volts\n",
      "w  =  500;#  in  rad/sec\n",
      "\n",
      "#calculation:\n",
      "Vrms  =  0.707*Vmax\n",
      "f  =  w/(2*math.pi)\n",
      "XL  =  2*math.pi*f*L\n",
      "Z  =  (R**2  +  XL**2)**0.5\n",
      "I  =  Vrms/Z\n",
      "VL  =  I*XL\n",
      "VR  =  I*R\n",
      "phid  =  math.atan(XL/R)*180/math.pi\n",
      "\n",
      "\\\n",
      "#Results\n",
      "print  \"\\n\\n  Result  \\n\\n\"\n",
      "print  \"\\n  (a)Impedance,  Z  =  \",round(Z,2),\"  ohms\"\n",
      "print  \"\\n  (b)current,  I  =  \",round(I,2),\"  A\"\n",
      "print  \"\\n  (c)p.d.  across  resistance,  VR  =  \",round(VR,2),\"  V\"\n",
      "print  \"\\n  (d)p.d.  across  Inductor,  VL  =  \",round(VL,2),\"  V\"\n",
      "print  \"\\n  (e)circuit  phase  angle  is  \",phid,\"deg\\n\""
     ],
     "language": "python",
     "metadata": {},
     "outputs": [
      {
       "output_type": "stream",
       "stream": "stdout",
       "text": [
        "\n",
        "\n",
        "  Result  \n",
        "\n",
        "\n",
        "\n",
        "  (a)Impedance,  Z  =   141.42   ohms\n",
        "\n",
        "  (b)current,  I  =   1.0   A\n",
        "\n",
        "  (c)p.d.  across  resistance,  VR  =   99.98   V\n",
        "\n",
        "  (d)p.d.  across  Inductor,  VL  =   99.98   V\n",
        "\n",
        "  (e)circuit  phase  angle  is   45.0 deg"
       ]
      }
     ],
     "prompt_number": 2
    },
    {
     "cell_type": "markdown",
     "metadata": {},
     "source": [
      "<h3>Example 11, page no. 218</h3>"
     ]
    },
    {
     "cell_type": "code",
     "collapsed": false,
     "input": [
      "\n",
      "from __future__ import division\n",
      "import math\n",
      "#initializing  the  variables:\n",
      "R  =  30;#  in  ohms\n",
      "L  =  1.2273E-3;#  in  henry\n",
      "f  =  5000;#  in  Hz\n",
      "VR  =  6;#  in  volts\n",
      "\n",
      "#calculation:\n",
      "I  =VR/R\n",
      "XL  =  2*math.pi*f*L\n",
      "Z  =  (R**2  +  XL**2)**0.5\n",
      "V  =  I*Z\n",
      "VL  =  I*XL\n",
      "\n",
      "#Results\n",
      "print  \"\\n\\n  Result  \\n\\n\"\n",
      "print  \"\\n  (a)supply  voltage  =  \",round(V,2),\"  Volts\"\n",
      "print  \"\\n  (b)p.d.  across  Inductor,  VL  =  \",round(VL,2),\"  V\""
     ],
     "language": "python",
     "metadata": {},
     "outputs": [
      {
       "output_type": "stream",
       "stream": "stdout",
       "text": [
        "\n",
        "\n",
        "  Result  \n",
        "\n",
        "\n",
        "\n",
        "  (a)supply  voltage  =   9.77   Volts\n",
        "\n",
        "  (b)p.d.  across  Inductor,  VL  =   7.71   V"
       ]
      }
     ],
     "prompt_number": 11
    },
    {
     "cell_type": "markdown",
     "metadata": {},
     "source": [
      "<h3>Example 12, page no. 219</h3>"
     ]
    },
    {
     "cell_type": "code",
     "collapsed": false,
     "input": [
      "\n",
      "from __future__ import division\n",
      "import math\n",
      "#initializing  the  variables:\n",
      "R  =  60;#  in  ohms\n",
      "Rc  =  20;#  in  ohms\n",
      "L  =  159.2E-3;#  in  henry\n",
      "f  =  50;#  in  Hz\n",
      "V  =  240;#  in  volts\n",
      "\n",
      "#calculation:\n",
      "XL  =  2*math.pi*f*L\n",
      "Rt  =  R  +  Rc\n",
      "Z  =  (Rt**2  +  XL**2)**0.5\n",
      "I  =  V/Z\n",
      "phid  =  math.atan(XL/Rt)*180/math.pi\n",
      "VR  =  I*R\n",
      "Zc  =  (Rc**2  +  XL**2)**0.5\n",
      "Vc  =  I*Zc\n",
      "VL  =  I*XL\n",
      "VRc  =  I*Rc\n",
      "\n",
      "\n",
      "#Results\n",
      "print  \"\\n\\n  Result  \\n\\n\"\n",
      "print  \"\\n  (a)Impedance,  Z  =  \",round(Z,2),\"  ohms\"\n",
      "print  \"\\n  (b)current,  I  =  \",round(I,3),\"  A\"\n",
      "print  \"\\n  (c)circuit  phase  angle  is  \",round(phid,0),\"deg lagging\"\n",
      "print  \"\\n  (d)p.d.  across  resistance,  VR  =  \",round(  VR,1),\"  V\"\n",
      "print  \"\\n  (e)p.d.  across  coil,  Vc  =  \",round(Vc,1),\"  V\"\n",
      "print  \"\\n  (f1)p.d.  across  Inductor,  VL  =  \",round(VL,2),\"  V\"\n",
      "print  \"\\n  (f2)p.d.  across  coil  resistance,  VRc  =  \",round(VRc,2),\"  V\""
     ],
     "language": "python",
     "metadata": {},
     "outputs": [
      {
       "output_type": "stream",
       "stream": "stdout",
       "text": [
        "\n",
        "\n",
        "  Result  \n",
        "\n",
        "\n",
        "\n",
        "  (a)Impedance,  Z  =   94.35   ohms\n",
        "\n",
        "  (b)current,  I  =   2.544   A\n",
        "\n",
        "  (c)circuit  phase  angle  is   32.0 deg lagging\n",
        "\n",
        "  (d)p.d.  across  resistance,  VR  =   152.6   V\n",
        "\n",
        "  (e)p.d.  across  coil,  Vc  =   137.0   V\n",
        "\n",
        "  (f1)p.d.  across  Inductor,  VL  =   127.23   V\n",
        "\n",
        "  (f2)p.d.  across  coil  resistance,  VRc  =   50.88   V"
       ]
      }
     ],
     "prompt_number": 12
    },
    {
     "cell_type": "markdown",
     "metadata": {},
     "source": [
      "<h3>Example 13, page no. 220</h3>"
     ]
    },
    {
     "cell_type": "code",
     "collapsed": false,
     "input": [
      "\n",
      "from __future__ import division\n",
      "import math\n",
      "#initializing  the  variables:\n",
      "R  =  25;#  in  ohms\n",
      "C  =  45E-6;#  in  Farads\n",
      "f  =  50;#  in  Hz\n",
      "V  =  240;#  in  volts\n",
      "\n",
      "#calculation:\n",
      "Xc  =  1/(2*math.pi*f*C)\n",
      "Z  =  (R**2  +  Xc**2)**0.5\n",
      "I  =  V/Z\n",
      "phid  =  math.atan(Xc/R)*180/math.pi\n",
      "\n",
      "\n",
      "#Results\n",
      "print  \"\\n\\n  Result  \\n\\n\"\n",
      "print  \"\\n  (a)Impedance,  Z  =  \",round(Z,2),\"  ohms\"\n",
      "print  \"\\n  (b)current,  I  =  \",round(I,2),\"  A\"\n",
      "print  \"\\n  (c)phase  angle  between  the  supply  voltage  and  current  is  \",round(phid,2),\"deg leading\""
     ],
     "language": "python",
     "metadata": {},
     "outputs": [
      {
       "output_type": "stream",
       "stream": "stdout",
       "text": [
        "\n",
        "\n",
        "  Result  \n",
        "\n",
        "\n",
        "\n",
        "  (a)Impedance,  Z  =   75.02   ohms\n",
        "\n",
        "  (b)current,  I  =   3.2   A\n",
        "\n",
        "  (c)phase  angle  between  the  supply  voltage  and  current  is   70.54 deg leading"
       ]
      }
     ],
     "prompt_number": 1
    },
    {
     "cell_type": "markdown",
     "metadata": {},
     "source": [
      "<h3>Example 14, page no. 221</h3>"
     ]
    },
    {
     "cell_type": "code",
     "collapsed": false,
     "input": [
      "\n",
      "from __future__ import division\n",
      "import math\n",
      "#initializing  the  variables:\n",
      "R  =  40;#  in  ohms\n",
      "f  =  60;#  in  Hz\n",
      "I  =  3;#in  amperes\n",
      "Z  =  50;#  in  ohms\n",
      "\n",
      "#calculation:\n",
      "Xc  =  (Z**2  -  R**2)**0.5\n",
      "C  =  1/(2*math.pi*f*Xc)\n",
      "V  =  I*Z\n",
      "phid  =  math.atan(Xc/R)*180/math.pi\n",
      "VR  =  I*R\n",
      "Vc  =  I*Xc\n",
      "\n",
      "\n",
      "#Results\n",
      "print  \"\\n\\n  Result  \\n\\n\"\n",
      "print  \"\\n  (a)capacitance,  C  =  \",round((C/1E-6),2),\"  uF\"\n",
      "print  \"\\n  (b)Voltage,  V  =  \",V,\"  Volts\"\n",
      "print  \"\\n  (c)phase  angle  between  the  supply  voltage  and  current  is  \",round(phid,2),\"deg leading\"\n",
      "print  \"\\n  (d)p.d.  across  resistance,  VR  =  \",  VR,\"  V\"\n",
      "print  \"\\n  (e)p.d.  across  Capacitor,  Vc  =  \",Vc,\"  V\""
     ],
     "language": "python",
     "metadata": {},
     "outputs": [
      {
       "output_type": "stream",
       "stream": "stdout",
       "text": [
        "\n",
        "\n",
        "  Result  \n",
        "\n",
        "\n",
        "\n",
        "  (a)capacitance,  C  =   88.42   uF\n",
        "\n",
        "  (b)Voltage,  V  =   150   Volts\n",
        "\n",
        "  (c)phase  angle  between  the  supply  voltage  and  current  is   36.87 deg leading\n",
        "\n",
        "  (d)p.d.  across  resistance,  VR  =   120   V\n",
        "\n",
        "  (e)p.d.  across  Capacitor,  Vc  =   90.0   V"
       ]
      }
     ],
     "prompt_number": 2
    },
    {
     "cell_type": "markdown",
     "metadata": {},
     "source": [
      "<h3>Example 15, page no. 222</h3>"
     ]
    },
    {
     "cell_type": "code",
     "collapsed": false,
     "input": [
      "\n",
      "from __future__ import division\n",
      "import math\n",
      "#initializing  the  variables:\n",
      "R  =  5;#  in  ohms\n",
      "C  =  100E-6;#  in  Farads\n",
      "L  =  0.12;#  in  Henry\n",
      "f  =  50;#  in  Hz\n",
      "V  =  300;#  in  volts\n",
      "\n",
      "#calculation:\n",
      "XL  =  2*math.pi*f*L\n",
      "Xc  =  1/(2*math.pi*f*C)\n",
      "X  =  XL  -  Xc\n",
      " #Since  XL  is  greater  than  Xc,  the  circuit  is  inductive.\n",
      "Z  =  (R**2  +  (XL-Xc)**2)**0.5\n",
      "I  =  V/Z\n",
      "phid  =  math.atan((XL-Xc)/R)*180/math.pi\n",
      "Zcl  =  (R**2  +  XL**2)**0.5\n",
      "Vcl  =  I*Zcl\n",
      "phidc  =  math.atan(XL/R)*180/math.pi\n",
      "Vc  =  I*Xc\n",
      "\n",
      "\n",
      "#Results\n",
      "print  \"\\n\\n  Result  \\n\\n\"\n",
      "print  \"\\n  (a)Current,I  =  \",round(I,2),\"  A\"\n",
      "print  \"\\n  (b)phase  angle  between  the  supply  voltage  and  current  is  \",round(phid,2),\"deg\"\n",
      "print  \"\\n  (c)Voltage  across  the  coil,  Vcoil  =  \",round(Vcl,0),\"  Volts\"\n",
      "print  \"\\n  (d)p.d.  across  Capacitor,  Vc  =  \",round(Vc,0),\"  V\""
     ],
     "language": "python",
     "metadata": {},
     "outputs": [
      {
       "output_type": "stream",
       "stream": "stdout",
       "text": [
        "\n",
        "\n",
        "  Result  \n",
        "\n",
        "\n",
        "\n",
        "  (a)Current,I  =   38.91   A\n",
        "\n",
        "  (b)phase  angle  between  the  supply  voltage  and  current  is   49.57 deg\n",
        "\n",
        "  (c)Voltage  across  the  coil,  Vcoil  =   1480.0   Volts\n",
        "\n",
        "  (d)p.d.  across  Capacitor,  Vc  =   1239.0   V"
       ]
      }
     ],
     "prompt_number": 13
    },
    {
     "cell_type": "markdown",
     "metadata": {},
     "source": [
      "<h3>Example 16, page no. 224</h3>"
     ]
    },
    {
     "cell_type": "code",
     "collapsed": false,
     "input": [
      "\n",
      "from __future__ import division\n",
      "import math\n",
      "#initializing  the  variables:\n",
      "R1  =  8;#  in  ohms\n",
      "C  =  0.25E-6;#  in  Farads\n",
      "L  =  130E-6;#  in  Henry\n",
      "Rc  =  5;#  in  ohms\n",
      "R2  =  10;#  in  ohms\n",
      "f  =  20000;#  in  Hz\n",
      "V  =  40;#  in  volts\n",
      "\n",
      "#calculation:\n",
      "XL  =  2*math.pi*f*L\n",
      "Xc  =  1/(2*math.pi*f*C)\n",
      "X  =  Xc  -  XL\n",
      "R  =  R1  +  R2  +  Rc\n",
      " #Since  Xc  is  greater  than  XL,  the  circuit  is  capacitive.\n",
      "Z  =  (R**2  +  (Xc-XL)**2)**0.5\n",
      "I  =  V/Z\n",
      "phid = math.atan((Xc-XL)/R)*180/math.pi\n",
      "V1  =  I*R1\n",
      "V2  =  I*((Rc**2  +  XL**2)**0.5)\n",
      "V3  =  I*((R2**2  +  Xc**2)**0.5)\n",
      "\n",
      "\n",
      "#Results\n",
      "print  \"\\n\\n  Result  \\n\\n\"\n",
      "print  \"\\n  (a)Current,I  =  \",round(I,2),\"  A\"\n",
      "print  \"\\n  (b)circuit  phase  angle  is  \",round(phid,2),\"deg leading\"\n",
      "print  \"\\n  (c1)Voltage  across  the  Resistance  of  8  ohms  =  \",round(V1,2),\"  Volts\"\n",
      "print  \"\\n  (c2)Voltage  across  the  coil,  Vcoil  =  \",round(V2,2),\"  Volts\"\n",
      "print  \"\\n  (c3)p.d.  across  Capacitor  resistance  circuit  =  \",round(V3,2),\"  Volts\""
     ],
     "language": "python",
     "metadata": {},
     "outputs": [
      {
       "output_type": "stream",
       "stream": "stdout",
       "text": [
        "\n",
        "\n",
        "  Result  \n",
        "\n",
        "\n",
        "\n",
        "  (a)Current,I  =   1.44   A\n",
        "\n",
        "  (b)circuit  phase  angle  is   33.97 deg leading\n",
        "\n",
        "  (c1)Voltage  across  the  Resistance  of  8  ohms  =   11.54   Volts\n",
        "\n",
        "  (c2)Voltage  across  the  coil,  Vcoil  =   24.64   Volts\n",
        "\n",
        "  (c3)p.d.  across  Capacitor  resistance  circuit  =   48.12   Volts"
       ]
      }
     ],
     "prompt_number": 3
    },
    {
     "cell_type": "markdown",
     "metadata": {},
     "source": [
      "<h3>Example 17, page no. 224</h3>"
     ]
    },
    {
     "cell_type": "code",
     "collapsed": false,
     "input": [
      "\n",
      "from __future__ import division\n",
      "import math\n",
      "#initializing  the  variables:\n",
      "R1  =  4;#  in  ohms\n",
      "C  =  1.273E-6;#  in  Farads\n",
      "L  =  0.286E-3;#  in  Henry\n",
      "R2  =  8;#  in  ohms\n",
      "f  =  5000;#  in  Hz\n",
      "I  =  5;#  in  amperes\n",
      "\n",
      "#calculation:\n",
      "XL  =  2*math.pi*f*L\n",
      "phid1  =  math.atan(XL/R1)*180/math.pi\n",
      "V1  =  I*((R1**2  +  XL**2)**0.5)\n",
      "Xc  =  1/(2*math.pi*f*C)\n",
      "V2  =  I*((R2**2  +  Xc**2)**0.5)\n",
      "phid2  =  math.atan(Xc/R2)*180/math.pi\n",
      "Z  =  ((R1+R2)**2  +  (Xc-XL)**2)**0.5\n",
      "V  =  I*Z\n",
      "phid  =  math.atan((Xc-XL)/(R1+R2))*180/math.pi\n",
      "\n",
      "\n",
      "#Results\n",
      "print  \"\\n\\n  Result  \\n\\n\"\n",
      "print  \"\\n  (a)Voltage  supply,  V  =  \",round(V,2),\"  V\"\n",
      "print  \"\\n  (b)circuit  phase  angle  is  \",round(phid,2),\"deg leading\""
     ],
     "language": "python",
     "metadata": {},
     "outputs": [
      {
       "output_type": "stream",
       "stream": "stdout",
       "text": [
        "\n",
        "\n",
        "  Result  \n",
        "\n",
        "\n",
        "\n",
        "  (a)Voltage  supply,  V  =   100.08   V\n",
        "\n",
        "  (b)circuit  phase  angle  is   53.16 deg leading"
       ]
      }
     ],
     "prompt_number": 5
    },
    {
     "cell_type": "markdown",
     "metadata": {},
     "source": [
      "<h3>Example 18, page no. 226</h3>"
     ]
    },
    {
     "cell_type": "code",
     "collapsed": false,
     "input": [
      "\n",
      "from __future__ import division\n",
      "import math\n",
      "#initializing  the  variables:\n",
      "R  =  10;#  in  ohms\n",
      "C  =  60E-6;#  in  Farads\n",
      "L  =  125E-3;#  in  Henry\n",
      "V  =  120;#  in  Volts\n",
      "\n",
      "#calculation:\n",
      "fr  =  1/(2*math.pi*(L*C)**0.5)\n",
      " #At  resonance,  XL  =  Xc  and  impedance  Z  =  R\n",
      "I  =  V/R\n",
      "\n",
      "\n",
      "#Results\n",
      "print  \"\\n\\n  Result  \\n\\n\"\n",
      "print  \"\\n  (a)Resonance  frequency,Fr  =  \",round(fr,2),\"  Hz\"\n",
      "print  \"\\n  (b)Current,  I  =  \",round(I,2)"
     ],
     "language": "python",
     "metadata": {},
     "outputs": [
      {
       "output_type": "stream",
       "stream": "stdout",
       "text": [
        "\n",
        "\n",
        "  Result  \n",
        "\n",
        "\n",
        "\n",
        "  (a)Resonance  frequency,Fr  =   58.12   Hz\n",
        "\n",
        "  (b)Current,  I  =   12.0"
       ]
      }
     ],
     "prompt_number": 18
    },
    {
     "cell_type": "markdown",
     "metadata": {},
     "source": [
      "<h3>Example 19, page no. 226</h3>"
     ]
    },
    {
     "cell_type": "code",
     "collapsed": false,
     "input": [
      "\n",
      "from __future__ import division\n",
      "import math\n",
      "#initializing  the  variables:\n",
      "L  =  0.05E-3;#  in  Henry\n",
      "fr  =  200000;#  in  Hz\n",
      "V  =  0.002;#  in  Volts\n",
      "I  =  0.1E-3;#  in  amperes\n",
      "#calculation:\n",
      "#  L-C-R\n",
      "#At  resonance,  XL  =  Xc  and  impedance  Z  =  R\n",
      "R  =  V/I\n",
      "C  =  1/(L*(2*math.pi*fr)**2)\n",
      "\n",
      "\n",
      "#Results\n",
      "print  \"\\n\\n  Result  \\n\\n\"\n",
      "print  \"\\n  (a)Resistance,  R  =  \",round(R,2),\"  ohms\"\n",
      "print  \"\\n  (b)Capacitance,  C  =  \",round((C/1E-9),2),\"nF\""
     ],
     "language": "python",
     "metadata": {},
     "outputs": [
      {
       "output_type": "stream",
       "stream": "stdout",
       "text": [
        "\n",
        "\n",
        "  Result  \n",
        "\n",
        "\n",
        "\n",
        "  (a)Resistance,  R  =   20.0   ohms\n",
        "\n",
        "  (b)Capacitance,  C  =   12.67 nF"
       ]
      }
     ],
     "prompt_number": 19
    },
    {
     "cell_type": "markdown",
     "metadata": {},
     "source": [
      "<h3>Example 20, page no. 227</h3>"
     ]
    },
    {
     "cell_type": "code",
     "collapsed": false,
     "input": [
      "\n",
      "from __future__ import division\n",
      "import math\n",
      "#initializing  the  variables:\n",
      "L  =  80E-3;#  in  Henry\n",
      "C  =  0.25E-6;#  in  Farads\n",
      "R  =  12.5;#  in  ohms\n",
      "V  =  100;#  in  Volts\n",
      "\n",
      "#calculation:\n",
      "fr  =  1/(2*math.pi*((L*C)**0.5))\n",
      " #At  resonance,  XL  =  Xc  and  impedance  Z  =  R\n",
      "I  =  V/R\n",
      "VL  =  I*(2*math.pi*fr*L)\n",
      "Vc  =  I/(2*math.pi*fr*C)\n",
      "Vm  =  VL/V\n",
      "\n",
      "\n",
      "#Results\n",
      "print  \"\\n\\n  Result  \\n\\n\"\n",
      "print  \"\\n  (a)the  resonant  frequency  =  \",round(fr,2),\"  Hz\"\n",
      "print  \"\\n  (b)Current,  I  =  \",round(I,2),\"\"\n",
      "print  \"\\n  (b)Voltage  magnification  at  resonance  =  \",round(Vm,2),\"  V\""
     ],
     "language": "python",
     "metadata": {},
     "outputs": [
      {
       "output_type": "stream",
       "stream": "stdout",
       "text": [
        "\n",
        "\n",
        "  Result  \n",
        "\n",
        "\n",
        "\n",
        "  (a)the  resonant  frequency  =   1125.4   Hz\n",
        "\n",
        "  (b)Current,  I  =   8.0 \n",
        "\n",
        "  (b)Voltage  magnification  at  resonance  =   45.25   V"
       ]
      }
     ],
     "prompt_number": 20
    },
    {
     "cell_type": "markdown",
     "metadata": {},
     "source": [
      "<h3>Example 21, page no. 228</h3>"
     ]
    },
    {
     "cell_type": "code",
     "collapsed": false,
     "input": [
      "\n",
      "from __future__ import division\n",
      "import math\n",
      "#initializing  the  variables:\n",
      "L  =  60E-3;#  in  Henry\n",
      "C  =  30E-6;#  in  Farads\n",
      "R  =  2;#  in  ohms\n",
      "\n",
      "#calculation:\n",
      "Q  =  ((L/C)**0.5)/R\n",
      "\n",
      "#Results\n",
      "print  \"\\n\\n  Result  \\n\\n\"\n",
      "print  \"\\n  At  resonance,  Q-factor  =  \",round(Q,2)"
     ],
     "language": "python",
     "metadata": {},
     "outputs": [
      {
       "output_type": "stream",
       "stream": "stdout",
       "text": [
        "\n",
        "\n",
        "  Result  \n",
        "\n",
        "\n",
        "\n",
        "  At  resonance,  Q-factor  =   22.36"
       ]
      }
     ],
     "prompt_number": 21
    },
    {
     "cell_type": "markdown",
     "metadata": {},
     "source": [
      "<h3>Example 22, page no. 228</h3>"
     ]
    },
    {
     "cell_type": "code",
     "collapsed": false,
     "input": [
      "\n",
      "from __future__ import division\n",
      "import math\n",
      "#initializing  the  variables:\n",
      "L  =  100E-3;#  in  Henry\n",
      "C  =  2E-6;#  in  Farads\n",
      "R  =  10;#  in  ohms\n",
      "V  =  50;#  in  Volts\n",
      "\n",
      "#calculation:\n",
      "fr  =  1/(2*math.pi*((L*C)**0.5))\n",
      " #At  resonance,  XL  =  Xc  and  impedance  Z  =  R\n",
      "I  =  V/R\n",
      "VL  =  I*(2*math.pi*fr*L)\n",
      "Vc  =  I/(2*math.pi*fr*C)\n",
      "Q  =  VL/V\n",
      "\n",
      "\n",
      "#Results\n",
      "print  \"\\n\\n  Result  \\n\\n\"\n",
      "print  \"\\n  (a)the  resonant  frequency  =  \",round(fr,2),\"  Hz\"\n",
      "print  \"\\n  (b)Current,  I  =  \",round(I,2),\"\"\n",
      "print  \"\\n  (c)Voltage  across  coil  at  resonance  is  \",round(VL,2),\"V  \"\n",
      "print   \"and  Voltage  across  capacitance  at  resonance  is  \",round(  Vc,2),\"V\"\n",
      "print  \"\\n  (d)At  resonance,  Q-factor  =  \",round(Q,2)"
     ],
     "language": "python",
     "metadata": {},
     "outputs": [
      {
       "output_type": "stream",
       "stream": "stdout",
       "text": [
        "\n",
        "\n",
        "  Result  \n",
        "\n",
        "\n",
        "\n",
        "  (a)the  resonant  frequency  =   355.88   Hz\n",
        "\n",
        "  (b)Current,  I  =   5.0 \n",
        "\n",
        "  (c)Voltage  across  coil  at  resonance  is   1118.03 V  and  Voltage  across  capacitance  at  resonance  is   1118.03 V\n",
        "\n",
        "  (d)At  resonance,  Q-factor  =   22.36"
       ]
      }
     ],
     "prompt_number": 22
    },
    {
     "cell_type": "markdown",
     "metadata": {},
     "source": [
      "<h3>Example 23, page no. 230</h3>"
     ]
    },
    {
     "cell_type": "code",
     "collapsed": false,
     "input": [
      "\n",
      "from __future__ import division\n",
      "import math\n",
      "#initializing  the  variables:\n",
      "L  =  20E-3;#  in  Henry\n",
      "R  =  10;#  in  ohms\n",
      "fr  =  5000;#  in  Hz\n",
      "\n",
      "#calculation:\n",
      "Qr  =  (2*math.pi*fr)*L/R\n",
      "bw  =  fr/Qr\n",
      "\n",
      "\n",
      "#Results\n",
      "print  \"\\n\\n  Result  \\n\\n\"\n",
      "print  \"\\n  Bandwidth,  (f2-f1)  =  \",round(bw,2),\"  Hz\""
     ],
     "language": "python",
     "metadata": {},
     "outputs": [
      {
       "output_type": "stream",
       "stream": "stdout",
       "text": [
        "\n",
        "\n",
        "  Result  \n",
        "\n",
        "\n",
        "\n",
        "  Bandwidth,  (f2-f1)  =   79.58   Hz"
       ]
      }
     ],
     "prompt_number": 23
    },
    {
     "cell_type": "markdown",
     "metadata": {},
     "source": [
      "<h3>Example 24, page no. 231</h3>"
     ]
    },
    {
     "cell_type": "code",
     "collapsed": false,
     "input": [
      "\n",
      "from __future__ import division\n",
      "import math\n",
      "#initializing  the  variables:\n",
      "R  =  5000;#  in  ohms\n",
      "Imax  =  0.250;#  in  Amperes\n",
      "\n",
      "#calculation:\n",
      "Irms  =  0.707*Imax\n",
      "P  =  Irms*Irms*R\n",
      "\n",
      "\n",
      "#Results\n",
      "print  \"\\n\\n  Result  \\n\\n\"\n",
      "print  \"\\n  Power,  P  =  \",round(P,2),\"  Watts\""
     ],
     "language": "python",
     "metadata": {},
     "outputs": [
      {
       "output_type": "stream",
       "stream": "stdout",
       "text": [
        "\n",
        "\n",
        "  Result  \n",
        "\n",
        "\n",
        "\n",
        "  Power,  P  =   156.2   Watts"
       ]
      }
     ],
     "prompt_number": 24
    },
    {
     "cell_type": "markdown",
     "metadata": {},
     "source": [
      "<h3>Example 25, page no. 231</h3>"
     ]
    },
    {
     "cell_type": "code",
     "collapsed": false,
     "input": [
      "\n",
      "from __future__ import division\n",
      "import math\n",
      "#initializing  the  variables:\n",
      "R  =  60;#  in  ohms\n",
      "L  =  75E-3;#  in  Henry\n",
      "V  =  110;#  in  Volts\n",
      "f  =  60;#  in  Hz\n",
      "\n",
      "#calculation:\n",
      "XL  =  2*math.pi*f*L\n",
      "Z  =  (R**2  +  XL**2)**0.5\n",
      "I  =  V/Z\n",
      "P  =  I*I*R\n",
      "\n",
      "\n",
      "#Results\n",
      "print  \"\\n\\n  Result  \\n\\n\"\n",
      "print  \"\\n  Power,  P  =  \",round(P,2),\"  Watts\""
     ],
     "language": "python",
     "metadata": {},
     "outputs": [
      {
       "output_type": "stream",
       "stream": "stdout",
       "text": [
        "\n",
        "\n",
        "  Result  \n",
        "\n",
        "\n",
        "\n",
        "  Power,  P  =   165.02   Watts"
       ]
      }
     ],
     "prompt_number": 25
    },
    {
     "cell_type": "markdown",
     "metadata": {},
     "source": [
      "<h3>Example 26, page no. 232</h3>"
     ]
    },
    {
     "cell_type": "code",
     "collapsed": false,
     "input": [
      "\n",
      "from __future__ import division\n",
      "import math\n",
      "#initializing  the  variables:\n",
      "VI  =  300;#  in  VA\n",
      "V  =  150;#  in  Volts\n",
      "f  =  50;#  in  Hz\n",
      "\n",
      "#calculation:\n",
      "I  =  VI/V\n",
      "XL  =  V/I\n",
      "L  =  XL/(2*math.pi*f)\n",
      "\n",
      "\n",
      "#Results\n",
      "print  \"\\n\\n  Result  \\n\\n\"\n",
      "print  \"\\n  Inductance  =  \",round(L,2),\"  H\""
     ],
     "language": "python",
     "metadata": {},
     "outputs": [
      {
       "output_type": "stream",
       "stream": "stdout",
       "text": [
        "\n",
        "\n",
        "  Result  \n",
        "\n",
        "\n",
        "\n",
        "  Inductance  =   0.24   H"
       ]
      }
     ],
     "prompt_number": 26
    },
    {
     "cell_type": "markdown",
     "metadata": {},
     "source": [
      "<h3>Example 27, page no. 232</h3>"
     ]
    },
    {
     "cell_type": "code",
     "collapsed": false,
     "input": [
      "\n",
      "from __future__ import division\n",
      "import math\n",
      "#initializing  the  variables:\n",
      "VI  =  200000;#  in  VA\n",
      "pf  =  0.8;#  power  factor\n",
      "\n",
      "#calculation:\n",
      "P  =  VI*pf\n",
      "Q  =  VI*math.sin(math.acos(pf))\n",
      "\n",
      "#Results\n",
      "print  \"\\n\\n  Result  \\n\\n\"\n",
      "print  \"\\n  rated  power  output  is  \",round(P/1000,2),\"KW  and  the  corresponding  reactive  power  is  \",round(Q/1000,2),\"kvar\""
     ],
     "language": "python",
     "metadata": {},
     "outputs": [
      {
       "output_type": "stream",
       "stream": "stdout",
       "text": [
        "\n",
        "\n",
        "  Result  \n",
        "\n",
        "\n",
        "\n",
        "  rated  power  output  is   160.0 KW  and  the  corresponding  reactive  power  is   120.0 kvar"
       ]
      }
     ],
     "prompt_number": 27
    },
    {
     "cell_type": "markdown",
     "metadata": {},
     "source": [
      "<h3>Example 28, page no. 233</h3>"
     ]
    },
    {
     "cell_type": "code",
     "collapsed": false,
     "input": [
      "\n",
      "from __future__ import division\n",
      "import math\n",
      "#initializing  the  variables:\n",
      "V  =  120;#  in  Volts\n",
      "f  =  50;#  in  Hz\n",
      "P  =  400;#  in  Watt\n",
      "I  =  8;#  in  Amperes\n",
      "\n",
      "#calculation:\n",
      "R  =  P/(I*I)\n",
      "Z  =  V/I\n",
      "XL  =  (Z**2  -  R**2)**0.5\n",
      "pf  =  P/(V*I)\n",
      "phi  =  math.acos(pf)*180/math.pi\n",
      "\n",
      "\n",
      "#Results\n",
      "print  \"\\n\\n  Result  \\n\\n\"\n",
      "print  \"\\n  (a)resistance  =  \",round(R,2),\"  ohm  \"\n",
      "print  \"\\n  (b)Impedance  Z  =  \",round(Z,2),\"  Ohm  \"\n",
      "print  \"\\n  (c)reactance  =  \",round(XL,2),\"  ohm  \"\n",
      "print  \"\\n  (d)Power  factor  =  \",round(pf,2),\"\"\n",
      "print  \"\\n  (e)phase  angle  =  \",round(phi,2),\"deg lagging\""
     ],
     "language": "python",
     "metadata": {},
     "outputs": [
      {
       "output_type": "stream",
       "stream": "stdout",
       "text": [
        "\n",
        "\n",
        "  Result  \n",
        "\n",
        "\n",
        "\n",
        "  (a)resistance  =   6.25   ohm  \n",
        "\n",
        "  (b)Impedance  Z  =   15.0   Ohm  \n",
        "\n",
        "  (c)reactance  =   13.64   ohm  \n",
        "\n",
        "  (d)Power  factor  =   0.42 \n",
        "\n",
        "  (e)phase  angle  =   65.38 deg lagging"
       ]
      }
     ],
     "prompt_number": 15
    },
    {
     "cell_type": "markdown",
     "metadata": {},
     "source": [
      "<h3>Example 29, page no. 233</h3>"
     ]
    },
    {
     "cell_type": "code",
     "collapsed": false,
     "input": [
      "\n",
      "from __future__ import division\n",
      "import math\n",
      "#initializing  the  variables:\n",
      "V  =  100;#  in  Volts\n",
      "f  =  60;#  in  Hz\n",
      "P  =  100;#  in  Watt\n",
      "pf  =  0.5;#  power  factor\n",
      "\n",
      "#calculation:\n",
      "I  =  P/(pf*V)\n",
      "phi  =  math.acos(pf)*180/math.pi\n",
      "R  =  P/(I*I)\n",
      "Z  =  V/I\n",
      "Xc  =  (Z**2  -  R**2)**0.5\n",
      "C  =  1/(2*math.pi*f*Xc)\n",
      "\n",
      "\n",
      "#Results\n",
      "print  \"\\n\\n  Result  \\n\\n\"\n",
      "print  \"\\n  (a)Current  I  =  \",round(I,2),\"  A  \"\n",
      "print  \"\\n  (b)phase  angle  =  \",round(phi,2),\"deg leading\"\n",
      "print  \"\\n  (c)resistance  =  \",round(R,2),\"  ohm  \"\n",
      "print  \"\\n  (d)Impedance  Z  =  \",round(Z,2),\"  Ohm  \"\n",
      "print  \"\\n  (e)capacitance  =  \",round((C/1E-6),2),\"uF  \""
     ],
     "language": "python",
     "metadata": {},
     "outputs": [
      {
       "output_type": "stream",
       "stream": "stdout",
       "text": [
        "\n",
        "\n",
        "  Result  \n",
        "\n",
        "\n",
        "\n",
        "  (a)Current  I  =   2.0   A  \n",
        "\n",
        "  (b)phase  angle  =   60.0 deg leading\n",
        "\n",
        "  (c)resistance  =   25.0   ohm  \n",
        "\n",
        "  (d)Impedance  Z  =   50.0   Ohm  \n",
        "\n",
        "  (e)capacitance  =   61.26 uF  "
       ]
      }
     ],
     "prompt_number": 6
    }
   ],
   "metadata": {}
  }
 ]
}