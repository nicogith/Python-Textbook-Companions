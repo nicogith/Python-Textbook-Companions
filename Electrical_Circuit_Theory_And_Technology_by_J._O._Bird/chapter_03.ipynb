{
 "metadata": {
  "name": "",
  "signature": "sha256:c029dc52a72cffc31b077ad9cf4a482b5fa3b43cb728ab8a80727f5c08bb19ce"
 },
 "nbformat": 3,
 "nbformat_minor": 0,
 "worksheets": [
  {
   "cells": [
    {
     "cell_type": "markdown",
     "metadata": {},
     "source": [
      "<h1>Chapter 3: Resistance variation</h1>"
     ]
    },
    {
     "cell_type": "markdown",
     "metadata": {},
     "source": [
      "<h3>Example 1, page no. 24</h3>"
     ]
    },
    {
     "cell_type": "code",
     "collapsed": false,
     "input": [
      "\n",
      "from __future__ import division\n",
      "#initializing the variables:\n",
      "R = 600; # in ohms\n",
      "L = 5; # in meter\n",
      "L1 = 8; # in meter\n",
      "R2 = 420; # in ohms\n",
      "\n",
      "#calculation:\n",
      "R1 = R*L1/L\n",
      "L2 = R2*L/R\n",
      "\n",
      "#results\n",
      "print \"a)Resistance\", R1,\"Ohms\"\n",
      "print \"b)Length:\", L2,\"meters(m)\""
     ],
     "language": "python",
     "metadata": {},
     "outputs": [
      {
       "output_type": "stream",
       "stream": "stdout",
       "text": [
        "a)Resistance 960.0 Ohms\n",
        "b)Length: 3.5 meters(m)"
       ]
      }
     ],
     "prompt_number": 1
    },
    {
     "cell_type": "markdown",
     "metadata": {},
     "source": [
      "<h3>Example 2, page no. 24</h3>"
     ]
    },
    {
     "cell_type": "code",
     "collapsed": false,
     "input": [
      "\n",
      "from __future__ import division\n",
      "#initializing the variables:\n",
      "R = 300; # in ohms\n",
      "A = 2; # in mm2\n",
      "A1 = 5; # in mm2\n",
      "R2 = 750; # in ohms\n",
      "\n",
      "#calculation:\n",
      "R1 = R*A/A1\n",
      "A2 = R*A/R2\n",
      "\n",
      "#results\n",
      "print \"(a)Resistance\", R1,\"Ohms\"\n",
      "print \"(b)C.S.A:\", A2,\"mm^2\""
     ],
     "language": "python",
     "metadata": {},
     "outputs": [
      {
       "output_type": "stream",
       "stream": "stdout",
       "text": [
        "(a)Resistance 120.0 Ohms\n",
        "(b)C.S.A: 0.8 mm^2"
       ]
      }
     ],
     "prompt_number": 3
    },
    {
     "cell_type": "markdown",
     "metadata": {},
     "source": [
      "<h3>Example 3, page no. 25</h3>"
     ]
    },
    {
     "cell_type": "code",
     "collapsed": false,
     "input": [
      "\n",
      "from __future__ import division\n",
      "#initializing the variables:\n",
      "R = 0.16; # in ohms\n",
      "A = 3; # in mm2\n",
      "L = 8; # in m\n",
      "A1 = 1; # in mm2\n",
      "\n",
      "#calculation:\n",
      "L1 = L*3\n",
      "R1 = R*A*L1/(A1*L)\n",
      "\n",
      "#results\n",
      "print \"Resistance\", R1,\"Ohms\""
     ],
     "language": "python",
     "metadata": {},
     "outputs": [
      {
       "output_type": "stream",
       "stream": "stdout",
       "text": [
        "Resistance 1.44 Ohms"
       ]
      }
     ],
     "prompt_number": 4
    },
    {
     "cell_type": "markdown",
     "metadata": {},
     "source": [
      "<h3>Example 4, page no. 25</h3>"
     ]
    },
    {
     "cell_type": "code",
     "collapsed": false,
     "input": [
      "\n",
      "from __future__ import division\n",
      "#initializing the variables:\n",
      "A = 100E-6; # in m2\n",
      "L = 2000; # in m\n",
      "p = 0.03E-6; # in ohm m\n",
      "\n",
      "#calculation:\n",
      "R = p*L/A\n",
      "\n",
      "#results\n",
      "print \"Resistance\", R,\"Ohms\""
     ],
     "language": "python",
     "metadata": {},
     "outputs": [
      {
       "output_type": "stream",
       "stream": "stdout",
       "text": [
        "Resistance 0.6 Ohms"
       ]
      }
     ],
     "prompt_number": 5
    },
    {
     "cell_type": "markdown",
     "metadata": {},
     "source": [
      "<h3>Example 5, page no. 25</h3>"
     ]
    },
    {
     "cell_type": "code",
     "collapsed": false,
     "input": [
      "\n",
      "from __future__ import division\n",
      "#initializing the variables:\n",
      "R = 0.25; # in ohms\n",
      "L = 40; # in m\n",
      "p = 0.02E-6; # in ohm m\n",
      "\n",
      "#calculation:\n",
      "A = p*L*1E6/R\n",
      "\n",
      "#results\n",
      "print \"C.S.A \", A,\"mm^2\""
     ],
     "language": "python",
     "metadata": {},
     "outputs": [
      {
       "output_type": "stream",
       "stream": "stdout",
       "text": [
        "C.S.A  3.2 mm^2"
       ]
      }
     ],
     "prompt_number": 1
    },
    {
     "cell_type": "markdown",
     "metadata": {},
     "source": [
      "<h3>Example 6, page no. 25</h3>"
     ]
    },
    {
     "cell_type": "code",
     "collapsed": false,
     "input": [
      "\n",
      "from __future__ import division\n",
      "#initializing the variables:\n",
      "R = 150; # in ohms\n",
      "L = 1500; # in m\n",
      "A = 0.17E-6; # in m2\n",
      "\n",
      "#calculation:\n",
      "p = R*A*1E6/L\n",
      "\n",
      "#results\n",
      "print \"resistivity\", p,\"uOhm.m\""
     ],
     "language": "python",
     "metadata": {},
     "outputs": [
      {
       "output_type": "stream",
       "stream": "stdout",
       "text": [
        "resistivity 0.017 uOhm.m"
       ]
      }
     ],
     "prompt_number": 18
    },
    {
     "cell_type": "markdown",
     "metadata": {},
     "source": [
      "<h3>Example 7, page no. 26</h3>"
     ]
    },
    {
     "cell_type": "code",
     "collapsed": false,
     "input": [
      "\n",
      "from __future__ import division\n",
      "import math\n",
      "#initializing the variables:\n",
      "d = 0.012; # in m\n",
      "L = 1200; # in m\n",
      "p = 1.7E-8; # in ohm m\n",
      "\n",
      "#calculation:\n",
      "A = math.pi*d*d/4\n",
      "R = p*L/A\n",
      "\n",
      "#results\n",
      "print \"resistance\", round(R,3),\"Ohm\""
     ],
     "language": "python",
     "metadata": {},
     "outputs": [
      {
       "output_type": "stream",
       "stream": "stdout",
       "text": [
        "resistance 0.18 Ohm"
       ]
      }
     ],
     "prompt_number": 1
    },
    {
     "cell_type": "markdown",
     "metadata": {},
     "source": [
      "<h3>Example 8, page no. 27</h3>"
     ]
    },
    {
     "cell_type": "code",
     "collapsed": false,
     "input": [
      "\n",
      "from __future__ import division\n",
      "#initializing the variables:\n",
      "R0 = 100; # in ohms\n",
      "T0 = 0; # in \u00b0C\n",
      "T1 = 70; # in \u00b0C\n",
      "a0 = 0.0043; # in per\u00b0C\n",
      "\n",
      "#calculation:\n",
      "R70 = R0*(1 + (a0*T1))\n",
      "\n",
      "#results\n",
      "print \"Resistance\", R70,\"Ohm\""
     ],
     "language": "python",
     "metadata": {},
     "outputs": [
      {
       "output_type": "stream",
       "stream": "stdout",
       "text": [
        "Resistance 130.1 Ohm"
       ]
      }
     ],
     "prompt_number": 2
    },
    {
     "cell_type": "markdown",
     "metadata": {},
     "source": [
      "<h3>Example 9, page no. 27</h3>"
     ]
    },
    {
     "cell_type": "code",
     "collapsed": false,
     "input": [
      "\n",
      "from __future__ import division\n",
      "#initializing the variables:\n",
      "R1 = 27; # in ohms\n",
      "T0 = 0; # in \u00b0C\n",
      "T1 = 35; # in \u00b0C\n",
      "a0 = 0.0038; # in per\u00b0C\n",
      "\n",
      "#calculation:\n",
      "R0 = R1/(1 + (a0*T1))\n",
      "\n",
      "#results\n",
      "print \"resistance\", round(R0,2),\"Ohm\""
     ],
     "language": "python",
     "metadata": {},
     "outputs": [
      {
       "output_type": "stream",
       "stream": "stdout",
       "text": [
        "resistance 23.83 Ohm"
       ]
      }
     ],
     "prompt_number": 3
    },
    {
     "cell_type": "markdown",
     "metadata": {},
     "source": [
      "<h3>Example 10, page no. 27</h3>"
     ]
    },
    {
     "cell_type": "code",
     "collapsed": false,
     "input": [
      "\n",
      "from __future__ import division\n",
      "#initializing the variables:\n",
      "R0 = 1000; # in ohms\n",
      "T0 = 0; # in \u00b0C\n",
      "T1 = 80; # in \u00b0C\n",
      "a0 = -0.0005; # in per\u00b0C\n",
      "\n",
      "#calculation:\n",
      "R80 = R0*(1 + (a0*T1))\n",
      "\n",
      "#results\n",
      "print \"resistance\", R80,\"Ohm\""
     ],
     "language": "python",
     "metadata": {},
     "outputs": [
      {
       "output_type": "stream",
       "stream": "stdout",
       "text": [
        "resistance 960.0 Ohm"
       ]
      }
     ],
     "prompt_number": 4
    },
    {
     "cell_type": "markdown",
     "metadata": {},
     "source": [
      "<h3>Example 11, page no. 28</h3>"
     ]
    },
    {
     "cell_type": "code",
     "collapsed": false,
     "input": [
      "\n",
      "from __future__ import division\n",
      "#initializing the variables:\n",
      "R20 = 10; # in ohms\n",
      "T0 = 20; # in \u00b0C\n",
      "T1 = 100; # in \u00b0C\n",
      "a20 = 0.004; # in per\u00b0C\n",
      "\n",
      "\n",
      "#calculation:\n",
      "R100 = R20*(1 + (a20)*(T1 - T0))\n",
      "\n",
      "#results\n",
      "print \"resistance\", R100,\"Ohm\""
     ],
     "language": "python",
     "metadata": {},
     "outputs": [
      {
       "output_type": "stream",
       "stream": "stdout",
       "text": [
        "resistance 13.2 Ohm"
       ]
      }
     ],
     "prompt_number": 5
    },
    {
     "cell_type": "markdown",
     "metadata": {},
     "source": [
      "<h3>Example 12, page no. 28</h3>"
     ]
    },
    {
     "cell_type": "code",
     "collapsed": false,
     "input": [
      "\n",
      "from __future__ import division\n",
      "#initializing the variables:\n",
      "R18 = 200; # in ohms\n",
      "R1 = 240; # in ohms\n",
      "T0 = 18; # in \u00b0C\n",
      "a18 = 0.0039; # in per\u00b0C\n",
      "\n",
      "\n",
      "#calculation:\n",
      "T1 = (((R1/R18)-1)/a18) + T0\n",
      "\n",
      "#results\n",
      "print \"Temperature\", round(T1,2),\"degC\""
     ],
     "language": "python",
     "metadata": {},
     "outputs": [
      {
       "output_type": "stream",
       "stream": "stdout",
       "text": [
        "Temperature 69.28 degC"
       ]
      }
     ],
     "prompt_number": 6
    },
    {
     "cell_type": "markdown",
     "metadata": {},
     "source": [
      "<h3>Example 13, page no. 29</h3>"
     ]
    },
    {
     "cell_type": "code",
     "collapsed": false,
     "input": [
      "\n",
      "from __future__ import division\n",
      "#initializing the variables:\n",
      "R20 = 200; # in ohms\n",
      "T0 = 20; # in \u00b0C\n",
      "T1 = 90; # in \u00b0C\n",
      "a0 = 0.004; # in per\u00b0C\n",
      "\n",
      "\n",
      "#calculation:\n",
      "R90 = R20*(1 + (a0*T1))/(1 + (a0*T0))\n",
      "\n",
      "#results\n",
      "print \"Resistance\", round(R90,0),\"ohms\""
     ],
     "language": "python",
     "metadata": {},
     "outputs": [
      {
       "output_type": "stream",
       "stream": "stdout",
       "text": [
        "Resistance 252.0 ohms"
       ]
      }
     ],
     "prompt_number": 7
    }
   ],
   "metadata": {}
  }
 ]
}