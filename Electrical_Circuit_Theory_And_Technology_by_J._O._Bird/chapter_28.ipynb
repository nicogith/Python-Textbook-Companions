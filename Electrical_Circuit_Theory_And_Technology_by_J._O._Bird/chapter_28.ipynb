{
 "metadata": {
  "name": "",
  "signature": "sha256:ed4e87165c8ac7092d02719ed97384f22be6f2636ae0697903ffa43695fe04ea"
 },
 "nbformat": 3,
 "nbformat_minor": 0,
 "worksheets": [
  {
   "cells": [
    {
     "cell_type": "markdown",
     "metadata": {},
     "source": [
      "<h1>Chapter 28: Series resonance and Q-factor</h1>"
     ]
    },
    {
     "cell_type": "markdown",
     "metadata": {},
     "source": [
      "<h3>Example 1, page no. 492</h3>"
     ]
    },
    {
     "cell_type": "code",
     "collapsed": false,
     "input": [
      "\n",
      "from __future__ import division\n",
      "import math\n",
      "import cmath\n",
      "#initializing  the  variables:\n",
      "R  =  10;#  in  ohms\n",
      "C  =  40e-6;#  IN  fARADS\n",
      "L  =  0.075;#  IN  Henry\n",
      "V  =  200;#  in  Volts\n",
      "\n",
      "#calculation:\n",
      " #Resonant  frequency,\n",
      "fr  =  1/(2*math.pi*((L*C)**0.5))\n",
      " #Current  at  resonance,  I\n",
      "I  =  V/R\n",
      "\n",
      "\n",
      "#Results\n",
      "print  \"\\n\\n  Result  \\n\\n\"\n",
      "print  \"\\n  (a)Resonant  frequency  =  \",round(fr,2),\"  Hz\\n\"\n",
      "print  \"\\n  (b)Current  at  resonance,  I  is  \",I,\"  A\\n\""
     ],
     "language": "python",
     "metadata": {},
     "outputs": [
      {
       "output_type": "stream",
       "stream": "stdout",
       "text": [
        "\n",
        "\n",
        "  Result  \n",
        "\n",
        "\n",
        "\n",
        "  (a)Resonant  frequency  =   91.89   Hz\n",
        "\n",
        "\n",
        "  (b)Current  at  resonance,  I  is   20.0   A\n"
       ]
      }
     ],
     "prompt_number": 1
    },
    {
     "cell_type": "markdown",
     "metadata": {},
     "source": [
      "<h3>Example 2, page no. 493</h3>"
     ]
    },
    {
     "cell_type": "code",
     "collapsed": false,
     "input": [
      "\n",
      "from __future__ import division\n",
      "import math\n",
      "import cmath\n",
      "#initializing  the  variables:\n",
      "R  =  8;#  in  ohms\n",
      "L  =  0.010;#  IN  Henry\n",
      "f  =  1000;#  in  Hz\n",
      "\n",
      "#calculation:\n",
      " #At  resonance\n",
      " #capacitance  C\n",
      "C  =  1/(L*(2*math.pi*f)**2)\n",
      "\n",
      "\n",
      "#Results\n",
      "print  \"\\n\\n  Result  \\n\\n\"\n",
      "print  \"\\n  capacitance,  C  is  \",round(C*1E6,2),\"uF\\n\""
     ],
     "language": "python",
     "metadata": {},
     "outputs": [
      {
       "output_type": "stream",
       "stream": "stdout",
       "text": [
        "\n",
        "\n",
        "  Result  \n",
        "\n",
        "\n",
        "\n",
        "  capacitance,  C  is   2.53 uF\n"
       ]
      }
     ],
     "prompt_number": 2
    },
    {
     "cell_type": "markdown",
     "metadata": {},
     "source": [
      "<h3>Example 3, page no. 493</h3>"
     ]
    },
    {
     "cell_type": "code",
     "collapsed": false,
     "input": [
      "\n",
      "from __future__ import division\n",
      "import math\n",
      "import cmath\n",
      "#initializing  the  variables:\n",
      "C1  =  1000e-12;#  IN  fARADS\n",
      "C2  =  500e-12;#  IN  fARADS\n",
      "fr1  =  92500;#  in  Hz\n",
      "fr2  =  127800;#  in  Hz\n",
      "\n",
      "#calculation:\n",
      " #For  a  series  R\u2013L\u2013C  circuit  the  resonant  frequency  fr  is  given  by:\n",
      " #fr  =  1/(2pi*(L*C)**2)\n",
      "Cs  =  ((C1  -  C2)/((fr2/fr1)**2  -  1))  -  C2\n",
      "L  =  1/((C1  +  Cs)*(2*math.pi*fr1)**2)\n",
      "\n",
      "\n",
      "#Results\n",
      "print  \"\\n\\n  Result  \\n\\n\"\n",
      "print  \"\\n  (a)stray  capacitance,  Cs  is  \",round(Cs*1E12,2),\"pF\\n\"\n",
      "print  \"\\n  (b)inductance,  L  is  \",round(L*1000,2),\"mH\\n\""
     ],
     "language": "python",
     "metadata": {},
     "outputs": [
      {
       "output_type": "stream",
       "stream": "stdout",
       "text": [
        "\n",
        "\n",
        "  Result  \n",
        "\n",
        "\n",
        "\n",
        "  (a)stray  capacitance,  Cs  is   50.13 pF\n",
        "\n",
        "\n",
        "  (b)inductance,  L  is   2.82 mH\n"
       ]
      }
     ],
     "prompt_number": 3
    },
    {
     "cell_type": "markdown",
     "metadata": {},
     "source": [
      "<h3>Example 4, page no. 497</h3>"
     ]
    },
    {
     "cell_type": "code",
     "collapsed": false,
     "input": [
      "\n",
      "from __future__ import division\n",
      "import math\n",
      "import cmath\n",
      "#initializing  the  variables:\n",
      "R  =  10;#  in  ohms\n",
      "C  =  5e-6;#  IN  fARADS\n",
      "rv  =  20;#in  volts\n",
      "thetav  =  0;#  in  degrees\n",
      "f  =  318.3;#  in  Hz\n",
      "\n",
      "#calculation:\n",
      "wr  =  2*math.pi*f\n",
      " #The  maximum  voltage  across  the  resistance  occurs  at  resonance  when  the  current  is  a  maximum.  \n",
      "    #At  resonance,L  =  1/c*wr**2\n",
      "L  =  1/(C*wr**2)\n",
      " #voltage\n",
      "V  =  rv*math.cos(thetav*math.pi/180)  +  1j*rv*math.sin(thetav*math.pi/180)\n",
      " #Current  at  resonance  Ir\n",
      "Ir  =  V/R\n",
      " #p.d.  across  resistance,  VR\n",
      "VR  =  Ir*R\n",
      " #inductive  reactance,  XL\n",
      "XL  =  wr*L\n",
      " #p.d.  across  inductance,  VL\n",
      "VL  =  Ir*(1j*XL)\n",
      " #capacitive  reactance,  Xc\n",
      "Xc  =  1/(wr*C)\n",
      " #p.d.  across  capacitor,  Vc\n",
      "Vc  =  Ir*(-1j*Xc)\n",
      " #Q-factor  at  resonance,  Qr\n",
      "Qr  =  VL.imag/V\n",
      "\n",
      "\n",
      "#Results\n",
      "print  \"\\n\\n  Result  \\n\\n\"\n",
      "print  \"\\n  (a)inductance,  L  is  \",round(L*1000,2),\"mH\\n\"\n",
      "print  \"\\n  (b)p.d.  across  resistance,  VR  is  \",VR,\"  V,  p.d.  across  inductance,  VL  \",round( VL.imag,2),\"j V  \"\n",
      "print   \"and  p.d.  across  capacitor,  VC  \",round(Vc.imag,2),\" V\\n\"\n",
      "print  \"\\n  (c)Q-factor  at  resonance,  Qr  is  \",round(abs(Qr),2),\"  \\n\""
     ],
     "language": "python",
     "metadata": {},
     "outputs": [
      {
       "output_type": "stream",
       "stream": "stdout",
       "text": [
        "\n",
        "\n",
        "  Result  \n",
        "\n",
        "\n",
        "\n",
        "  (a)inductance,  L  is   50.0 mH\n",
        "\n",
        "\n",
        "  (b)p.d.  across  resistance,  VR  is   (20+0j)   V,  p.d.  across  inductance,  VL   200.01 j V  \n",
        "and  p.d.  across  capacitor,  VC   -200.01  V\n",
        "\n",
        "\n",
        "  (c)Q-factor  at  resonance,  Qr  is   10.0   \n",
        "\n"
       ]
      }
     ],
     "prompt_number": 1
    },
    {
     "cell_type": "markdown",
     "metadata": {},
     "source": [
      "<h3>Example 5, page no. 502</h3>"
     ]
    },
    {
     "cell_type": "code",
     "collapsed": false,
     "input": [
      "\n",
      "from __future__ import division\n",
      "import math\n",
      "import cmath\n",
      "#initializing  the  variables:\n",
      "R  =  80;#  in  ohms\n",
      "C  =  0.4e-6;#  IN  fARADS\n",
      "L  =  0.020;#  IN  Henry\n",
      "Vm  =  12;#in  volts\n",
      "\n",
      "#calculation:\n",
      " #Resonant  frequency,\n",
      "fr  =  1/(2*math.pi*((L*C)**0.5))\n",
      "wr  =  2*math.pi*fr\n",
      " #Q  =  wr*L/R\n",
      "Q  =  wr*L/R\n",
      "Vc  =  Q*Vm\n",
      " #the  frequency  f  at  which  VC  is  a  maximum  value,\n",
      "f  =  fr*(1  -  (1/(2*Q*Q)))**0.5\n",
      " #the  maximum  value  of  the  p.d.  across  the  capacitor  is  given  by:\n",
      "Vcm  =  Vc/((1  -  (1/(2*Q*Q)))**0.5)\n",
      "\n",
      "\n",
      "#Results\n",
      "print  \"\\n\\n  Result  \\n\\n\"\n",
      "print  \"\\n  (a)The  resonant  frequency  is  \",round(fr,2),\"  Hz\\n\"\n",
      "print  \"\\n  (b)the  value  of  the  p.d.  across  the  capacitor  at  the  resonant  frequency  \",round(Vc,2),\"  V\\n\"\n",
      "print  \"\\n  (c)the  frequency  f  at  which  Vc  is  a  maximum  value,  is  \",round(f,2),\"  Hz\\n\"\n",
      "print  \"\\n  (d)the  maximum  value  of  the  p.d.  across  the  capacitor  is  \",round(Vcm,2),\"  V\\n\""
     ],
     "language": "python",
     "metadata": {},
     "outputs": [
      {
       "output_type": "stream",
       "stream": "stdout",
       "text": [
        "\n",
        "\n",
        "  Result  \n",
        "\n",
        "\n",
        "\n",
        "  (a)The  resonant  frequency  is   1779.41   Hz\n",
        "\n",
        "\n",
        "  (b)the  value  of  the  p.d.  across  the  capacitor  at  the  resonant  frequency   33.54   V\n",
        "\n",
        "\n",
        "  (c)the  frequency  f  at  which  Vc  is  a  maximum  value,  is   1721.52   Hz\n",
        "\n",
        "\n",
        "  (d)the  maximum  value  of  the  p.d.  across  the  capacitor  is   34.67   V\n"
       ]
      }
     ],
     "prompt_number": 5
    },
    {
     "cell_type": "markdown",
     "metadata": {},
     "source": [
      "<h3>Example 6, page no. 503</h3>"
     ]
    },
    {
     "cell_type": "code",
     "collapsed": false,
     "input": [
      "\n",
      "from __future__ import division\n",
      "import math\n",
      "import cmath\n",
      "#initializing  the  variables:\n",
      "QL  =  60;#  Q-factor\n",
      "Qc  =  390;#  Q-factor\n",
      "\n",
      "#calculation:\n",
      "QT  =  QL*Qc/(QL  +  Qc)\n",
      "\n",
      "\n",
      "#Results\n",
      "print  \"\\n\\n  Result  \\n\\n\"\n",
      "print  \"\\n  the  overall  Q-factor  is  \",QT"
     ],
     "language": "python",
     "metadata": {},
     "outputs": [
      {
       "output_type": "stream",
       "stream": "stdout",
       "text": [
        "\n",
        "\n",
        "  Result  \n",
        "\n",
        "\n",
        "\n",
        "  the  overall  Q-factor  is   52.0"
       ]
      }
     ],
     "prompt_number": 6
    },
    {
     "cell_type": "markdown",
     "metadata": {},
     "source": [
      "<h3>Example 7, page no. 505</h3>"
     ]
    },
    {
     "cell_type": "code",
     "collapsed": false,
     "input": [
      "\n",
      "from __future__ import division\n",
      "import math\n",
      "import cmath\n",
      "#initializing  the  variables:\n",
      "R  =  5;#  in  ohms\n",
      "L  =  0.010;#  IN  Henry\n",
      "fr  =  10000;#  in  Hz\n",
      "\n",
      "#calculation:\n",
      "wr  =  2*math.pi*fr\n",
      " #Q-factor  at  resonance  is  given  by\n",
      "Qr  =  wr*L/R\n",
      " #Since  Qr  =  fr/(f2  -  f1),\n",
      "bw  =  fr/Qr\n",
      "\n",
      "\n",
      "#Results\n",
      "print  \"\\n\\n  Result  \\n\\n\"\n",
      "print  \"\\n  bandwidth  of  the  filter  is  \",round(bw,2),\"  Hz\\n\""
     ],
     "language": "python",
     "metadata": {},
     "outputs": [
      {
       "output_type": "stream",
       "stream": "stdout",
       "text": [
        "\n",
        "\n",
        "  Result  \n",
        "\n",
        "\n",
        "\n",
        "  bandwidth  of  the  filter  is   79.58   Hz\n"
       ]
      }
     ],
     "prompt_number": 7
    },
    {
     "cell_type": "markdown",
     "metadata": {},
     "source": [
      "<h3>Example 8, page no. 507</h3>"
     ]
    },
    {
     "cell_type": "code",
     "collapsed": false,
     "input": [
      "\n",
      "from __future__ import division\n",
      "import math\n",
      "import cmath\n",
      "#initializing  the  variables:\n",
      "Zr  =  50;#  in  ohms\n",
      "fr  =  1200;#  in  Hz\n",
      "Qr  =  30;#  Q-factor\n",
      "\n",
      "#calculation:\n",
      " #At  resonance  the  circuit  impedance,  Z\n",
      "R  =  Zr\n",
      "wr  =  2*math.pi*fr\n",
      " #Q-factor  at  resonance  is  given  by  Qr  =  wr*L/R,  then  L  is\n",
      "L  =  Qr*R/wr\n",
      " #At  resonance  r*L  =  1/(wr*C)\n",
      " #capacitance,  C\n",
      "C  =  1/(L*wr*wr)\n",
      " #bandwidth,.(f2  \u2212  f1)\n",
      "bw  =  fr/Qr\n",
      " #upper  half-power  frequency,  f2\n",
      "f2  =  (bw  +  ((bw**2)  +  4*(fr**2))**0.5)/2\n",
      " #lower  half-power  frequency,  f1\n",
      "f1  =  f2  -  bw\n",
      " #At  the  half-power  frequencies,  current  I\n",
      " #I  =  0.707*Ir\n",
      " #Hence  impedance\n",
      "Z  =  (2**0.5)*R\n",
      "\n",
      "\n",
      "#Results\n",
      "print  \"\\n\\n  Result  \\n\\n\"\n",
      "print  \"\\n  (a)inductance,  L  is  \",round(L*1000,2),\"mH\\n\"\n",
      "print  \"\\n  (b)capacitance,  C  is  \",round(C*1E9,2),\"nF\\n\"\n",
      "print  \"\\n  (c)bandwidth  is  \",round(bw,2),\"  Hz\\n\"\n",
      "print  \"\\n  (d)the  upper  half-power  frequency,  f2  is  \",round(f2,2),\"  Hz \"\n",
      "print   \" and  the  lower  half-power  frequency,  f1  is  \",round(f1,2),\"  Hz\\n\"\n",
      "print  \"\\n  (e)impedance  at  the  half-power  frequencies  is  \",round(Z,2),\"  ohm\\n\""
     ],
     "language": "python",
     "metadata": {},
     "outputs": [
      {
       "output_type": "stream",
       "stream": "stdout",
       "text": [
        "\n",
        "\n",
        "  Result  \n",
        "\n",
        "\n",
        "\n",
        "  (a)inductance,  L  is   198.94 mH\n",
        "\n",
        "\n",
        "  (b)capacitance,  C  is   88.42 nF\n",
        "\n",
        "\n",
        "  (c)bandwidth  is   40.0   Hz\n",
        "\n",
        "\n",
        "  (d)the  upper  half-power  frequency,  f2  is   1220.17   Hz \n",
        " and  the  lower  half-power  frequency,  f1  is   1180.17   Hz\n",
        "\n",
        "\n",
        "  (e)impedance  at  the  half-power  frequencies  is   70.71   ohm\n",
        "\n"
       ]
      }
     ],
     "prompt_number": 2
    },
    {
     "cell_type": "markdown",
     "metadata": {},
     "source": [
      "<h3>Example 9, page no. 508</h3>"
     ]
    },
    {
     "cell_type": "code",
     "collapsed": false,
     "input": [
      "\n",
      "from __future__ import division\n",
      "import math\n",
      "import cmath\n",
      "#initializing  the  variables:\n",
      "V  =  0.2;#  in  Volts\n",
      "I  =  0.004;#  in  Amperes\n",
      "fr  =  3000;#  in  Hz\n",
      "Qr  =  100;#  Q-factor\n",
      "\n",
      "#calculation:\n",
      "wr  =  2*math.pi*fr\n",
      " #At  resonance,  impedance\n",
      "Z  =  V/I\n",
      " #At  resonance  the  circuit  impedance,  Z\n",
      "R  =  Z\n",
      " #Q-factor  at  resonance  is  given  by  Qr  =  wr*L/R,  then  L  is\n",
      "L  =  Qr*R/wr\n",
      " #At  resonance  r*L  =  1/(wr*C)\n",
      " #capacitance,  C\n",
      "C  =  1/(L*wr*wr)\n",
      " #Q-factor  at  resonance  in  a  series  circuit  represents  the  voltage  magnification  Qr  =  Vc/V,  then  Vc  is\n",
      "Vc  =  Qr*V\n",
      "\n",
      "\n",
      "#Results\n",
      "print  \"\\n\\n  Result  \\n\\n\"\n",
      "print  \"\\n  (a)the  circuit  resistance  is  \",round(R,2),\"  ohm\\n\"\n",
      "print  \"\\n  (b)inductance,  L  is  \",round(L*1000,2),\"mH\\n\"\n",
      "print  \"\\n  (c)capacitance,  C  is  \",round(C*1E9,2),\"nF\\n\"\n",
      "print  \"\\n  (d)the  voltage  across  the  capacitor  is  \",round(Vc,2),\"  V\\n\""
     ],
     "language": "python",
     "metadata": {},
     "outputs": [
      {
       "output_type": "stream",
       "stream": "stdout",
       "text": [
        "\n",
        "\n",
        "  Result  \n",
        "\n",
        "\n",
        "\n",
        "  (a)the  circuit  resistance  is   50.0   ohm\n",
        "\n",
        "\n",
        "  (b)inductance,  L  is   265.26 mH\n",
        "\n",
        "\n",
        "  (c)capacitance,  C  is   10.61 nF\n",
        "\n",
        "\n",
        "  (d)the  voltage  across  the  capacitor  is   20.0   V\n"
       ]
      }
     ],
     "prompt_number": 9
    },
    {
     "cell_type": "markdown",
     "metadata": {},
     "source": [
      "<h3>Example 10, page no. 509</h3>"
     ]
    },
    {
     "cell_type": "code",
     "collapsed": false,
     "input": [
      "\n",
      "from __future__ import division\n",
      "import math\n",
      "import cmath\n",
      "#initializing  the  variables:\n",
      "R  =  8.84;#  in  ohms\n",
      "L  =  0.3518;#  IN  Henry\n",
      "C  =  20e-6;#  IN  fARADS\n",
      "\n",
      "#calculation:\n",
      " #Resonant  frequency,\n",
      "fr  =  1/(2*math.pi*((L*C)**0.5))\n",
      "wr  =  2*math.pi*fr\n",
      " #Q-factor  at  resonance,  Q  =  wr*L/R\n",
      "Qr  =  wr*L/R\n",
      " #bandwidth,.(f2  \u2212  f1)\n",
      "bw  =  fr/Qr\n",
      " #the  lower  \u22123  dB  frequency\n",
      "f1  =  fr  -  bw/2\n",
      " #the  upper  \u22123  dB  frequency\n",
      "f2  =  fr  +  bw/2\n",
      "\n",
      "\n",
      "#Results\n",
      "print  \"\\n\\n  Result  \\n\\n\"\n",
      "print  \"\\n  (a)Resonant  frequency,  fr  is  \",round(fr,2),\"  Hz\\n\"\n",
      "print  \"\\n  (b)Q-factor  at  resonance  is  \",round(Qr,2),\"\\n\"\n",
      "print  \"\\n  (c)Bandwidth  is  \",round(bw,2),\"  Hz\\n\"\n",
      "print  \"\\n  (d)the  lower  -3dB  frequency,  f1  is  \",round(f1,2),\"  Hz \"\n",
      "print   \" and  the  upper  -3dB  frequency,  f2  is  \",round(f2,2),\"  Hz\\n\""
     ],
     "language": "python",
     "metadata": {},
     "outputs": [
      {
       "output_type": "stream",
       "stream": "stdout",
       "text": [
        "\n",
        "\n",
        "  Result  \n",
        "\n",
        "\n",
        "\n",
        "  (a)Resonant  frequency,  fr  is   60.0   Hz\n",
        "\n",
        "\n",
        "  (b)Q-factor  at  resonance  is   15.0 \n",
        "\n",
        "\n",
        "  (c)Bandwidth  is   4.0   Hz\n",
        "\n",
        "\n",
        "  (d)the  lower  -3dB  frequency,  f1  is   58.0   Hz \n",
        " and  the  upper  -3dB  frequency,  f2  is   62.0   Hz\n",
        "\n"
       ]
      }
     ],
     "prompt_number": 3
    },
    {
     "cell_type": "markdown",
     "metadata": {},
     "source": [
      "<h3>Example 11, page no. 511</h3>"
     ]
    },
    {
     "cell_type": "code",
     "collapsed": false,
     "input": [
      "\n",
      "from __future__ import division\n",
      "import math\n",
      "import cmath\n",
      "#initializing  the  variables:\n",
      "R  =  15;#  in  ohms\n",
      "L  =  0.008;#  IN  Henry\n",
      "C  =  0.3e-6;#  IN  fARADS\n",
      "rv  =  7.56;#in  volts\n",
      "thetav  =  0;#  in  degrees\n",
      "x  =  0.03;\n",
      "\n",
      "#calculation:\n",
      " #Resonant  frequency,\n",
      "fr  =  1/(2*math.pi*((L*C)**0.5))\n",
      "wr  =  2*math.pi*fr\n",
      " #At  resonance,\n",
      "Zr  =  R\n",
      " #voltage\n",
      "V  =  rv*math.cos(thetav*math.pi/180)  +  1j*rv*math.sin(thetav*math.pi/180)\n",
      " #Current  at  resonance\n",
      "Ir  =  V/Zr\n",
      " #Q-factor  at  resonance,  Q  =  wr*L/R\n",
      "Qr  =  wr*L/R\n",
      " #If  the  frequency  is  3%  above    fr,  then\n",
      "de  =  x\n",
      "I  =  Ir/(1  +  (2*de*Qr*1j))\n",
      "Z  =  V/I\n",
      "\n",
      "\n",
      "#Results\n",
      "print  \"\\n\\n  Result  \\n\\n\"\n",
      "print  \"\\n  (a)Current  at  resonance,  Ir  is  \",round(abs(Ir),2),\"  A\\n\"\n",
      "print  \"\\n  (b)current  flowing  in  the  circuit  when  frequency  3  percent\"\n",
      "print   \"      above  the  resonant  frequency  is  \",round(I.real,2),\"  +  (\",round(  I.imag,2),\")i  A\\n\"\n",
      "print  \"\\n  (c)impedance  of  the  circuit  when  the  frequency  is  3  percent\"\n",
      "print   \"      above  the  resonant  frequency  is  \",round(Z.real,2),\"  +  (\",round(Z.imag,2),\")i  A\\n\""
     ],
     "language": "python",
     "metadata": {},
     "outputs": [
      {
       "output_type": "stream",
       "stream": "stdout",
       "text": [
        "\n",
        "\n",
        "  Result  \n",
        "\n",
        "\n",
        "\n",
        "  (a)Current  at  resonance,  Ir  is   0.5   A\n",
        "\n",
        "\n",
        "  (b)current  flowing  in  the  circuit  when  frequency  3  percent\n",
        "      above  the  resonant  frequency  is   0.35   +  ( -0.23 )i  A\n",
        "\n",
        "\n",
        "  (c)impedance  of  the  circuit  when  the  frequency  is  3  percent\n",
        "      above  the  resonant  frequency  is   15.0   +  ( 9.8 )i  A\n",
        "\n"
       ]
      }
     ],
     "prompt_number": 4
    }
   ],
   "metadata": {}
  }
 ]
}