{
 "metadata": {
  "name": "",
  "signature": "sha256:e3b742f593657a54a0584c9ec4333c4c34458354568e4b8a1e97b9d029596f5b"
 },
 "nbformat": 3,
 "nbformat_minor": 0,
 "worksheets": [
  {
   "cells": [
    {
     "cell_type": "markdown",
     "metadata": {},
     "source": [
      "<h1>Chapter 20: Transformers</h1>"
     ]
    },
    {
     "cell_type": "markdown",
     "metadata": {},
     "source": [
      "<h3>Example 1, page no. 317</h3>"
     ]
    },
    {
     "cell_type": "code",
     "collapsed": false,
     "input": [
      "\n",
      "from __future__ import division\n",
      "import math\n",
      "#initializing  the  variables:\n",
      "N1  =  500;#  primary  turns\n",
      "N2  =  3000;#  secondary  turns\n",
      "V1  =  240;#  in  Volts\n",
      "\n",
      "#calculation:\n",
      " #For  an  ideal  transformer,  voltage  ratio  =  turns  ratio\n",
      "V2  =  V1*N2/N1\n",
      "\n",
      "\n",
      "#Results\n",
      "print  \"\\n\\n  Result  \\n\\n\"\n",
      "print  \"\\n  secondary  voltage  \",round(V2,2),\"V\""
     ],
     "language": "python",
     "metadata": {},
     "outputs": [
      {
       "output_type": "stream",
       "stream": "stdout",
       "text": [
        "\n",
        "\n",
        "  Result  \n",
        "\n",
        "\n",
        "\n",
        "  secondary  voltage   1440.0 V"
       ]
      }
     ],
     "prompt_number": 1
    },
    {
     "cell_type": "markdown",
     "metadata": {},
     "source": [
      "<h3>Example 2, page no. 317</h3>"
     ]
    },
    {
     "cell_type": "code",
     "collapsed": false,
     "input": [
      "\n",
      "from __future__ import division\n",
      "import math\n",
      "#initializing  the  variables:\n",
      "tr  =  2/7;#  turns  ratio\n",
      "V1  =  240;#  in  Volts\n",
      "\n",
      "#calculation:\n",
      " #A  turns  ratio  of  2:7  means  that  the  transformer  has  2  turns  on  the  primary  \n",
      "    #for  every  7  turns  on  the  secondary\n",
      "V2  =  V1/tr\n",
      "\n",
      "\n",
      "#Results\n",
      "print  \"\\n\\n  Result  \\n\\n\"\n",
      "print  \"\\n  output  voltage  \",round(V2,2),\"  V\""
     ],
     "language": "python",
     "metadata": {},
     "outputs": [
      {
       "output_type": "stream",
       "stream": "stdout",
       "text": [
        "\n",
        "\n",
        "  Result  \n",
        "\n",
        "\n",
        "\n",
        "  output  voltage   840.0   V"
       ]
      }
     ],
     "prompt_number": 2
    },
    {
     "cell_type": "markdown",
     "metadata": {},
     "source": [
      "<h3>Example 3, page no. 317</h3>"
     ]
    },
    {
     "cell_type": "code",
     "collapsed": false,
     "input": [
      "\n",
      "from __future__ import division\n",
      "import math\n",
      "#initializing  the  variables:\n",
      "tr  =  8/1;#  turns  ratio\n",
      "I1  =  3;#  in  Amperes\n",
      "V1  =  240;#  in  Volts\n",
      "\n",
      "#calculation:\n",
      " #A  turns  ratio  of  8:1  means  that  the  transformer  has  28  turns  on  the  \n",
      "    #primary  for  every  1turns  on  the  secondary\n",
      "V2  =  V1/tr\n",
      " #secondary  current\n",
      "I2  =  I1*tr\n",
      "\n",
      "\n",
      "#Results\n",
      "print  \"\\n\\n  Result  \\n\\n\"\n",
      "print  \"\\n  secondary  voltage  is  \",round(V2,2),\"  V  and  secondary  current  is  \", round(I2,2),\"  A\""
     ],
     "language": "python",
     "metadata": {},
     "outputs": [
      {
       "output_type": "stream",
       "stream": "stdout",
       "text": [
        "\n",
        "\n",
        "  Result  \n",
        "\n",
        "\n",
        "\n",
        "  secondary  voltage  is   30.0   V  and  secondary  current  is   24.0   A"
       ]
      }
     ],
     "prompt_number": 3
    },
    {
     "cell_type": "markdown",
     "metadata": {},
     "source": [
      "<h3>Example 4, page no. 318</h3>"
     ]
    },
    {
     "cell_type": "code",
     "collapsed": false,
     "input": [
      "\n",
      "from __future__ import division\n",
      "import math\n",
      "#initializing  the  variables:\n",
      "V1  =  240;#  in  Volts\n",
      "V2  =  12;#  in  Volts\n",
      "P  =  150;#  in  Watts\n",
      "\n",
      "#calculation:\n",
      "I2  =  P/V2\n",
      " #A  turns  ratio  =  Vp/Vs\n",
      "tr  =  V1/V2#  turn  ratio\n",
      " #    V1/V2  =  I2/I1\n",
      " #current  taken  from  the  supply\n",
      "I1  =  I2*V2/V1\n",
      "\n",
      "\n",
      "#Results\n",
      "print  \"\\n\\n  Result  \\n\\n\"\n",
      "print  \"\\n  turn  ratio  is  \",round(tr,2),\"  and  current  taken  from  the  supply  is  \",round(I1,2),\"  A\""
     ],
     "language": "python",
     "metadata": {},
     "outputs": [
      {
       "output_type": "stream",
       "stream": "stdout",
       "text": [
        "\n",
        "\n",
        "  Result  \n",
        "\n",
        "\n",
        "\n",
        "  turn  ratio  is   20.0   and  current  taken  from  the  supply  is   0.63   A"
       ]
      }
     ],
     "prompt_number": 4
    },
    {
     "cell_type": "markdown",
     "metadata": {},
     "source": [
      "<h3>Example 5, page no. 318</h3>"
     ]
    },
    {
     "cell_type": "code",
     "collapsed": false,
     "input": [
      "\n",
      "from __future__ import division\n",
      "import math\n",
      "#initializing  the  variables:\n",
      "S  =  5000;#  in  VA\n",
      "tr  =  10;#  turn  ratio\n",
      "V1  =  2500;#  in  Volts\n",
      "\n",
      "#calculation:\n",
      " #A  turns  ratio  of  8:1  means  that  the  transformer  has  28  turns  on  the  primary  for  every  1turns  on  the  secondary\n",
      "V2  =  V1/tr\n",
      " #transformer  rating  in  volt-amperes  =  Vs*Is\n",
      "I2  =  S/V2\n",
      " #Minimum  value  of  load  resistance\n",
      "RL  =  V2/I2\n",
      " #    tr  =  I2/I1\n",
      "I1  =  I2/tr\n",
      "\n",
      "\n",
      "#Results\n",
      "print  \"\\n\\n  Result  \\n\\n\"\n",
      "print  \"\\n  (a)full-load  secondary  current  is  \",round(I2,2),\"  A\"\n",
      "print  \"\\n  (b)minimum  load  resistance  is  \",round(RL,2),\"  ohm\"\n",
      "print  \"\\n  (c)  primary  current  is  \",round(I1,2),\"  A\""
     ],
     "language": "python",
     "metadata": {},
     "outputs": [
      {
       "output_type": "stream",
       "stream": "stdout",
       "text": [
        "\n",
        "\n",
        "  Result  \n",
        "\n",
        "\n",
        "\n",
        "  (a)full-load  secondary  current  is   20.0   A\n",
        "\n",
        "  (b)minimum  load  resistance  is   12.5   ohm\n",
        "\n",
        "  (c)  primary  current  is   2.0   A"
       ]
      }
     ],
     "prompt_number": 4
    },
    {
     "cell_type": "markdown",
     "metadata": {},
     "source": [
      "<h3>Example 6, page no. 319</h3>"
     ]
    },
    {
     "cell_type": "code",
     "collapsed": false,
     "input": [
      "\n",
      "from __future__ import division\n",
      "import math\n",
      "#initializing  the  variables:\n",
      "V1  =  2400;#  in  Volts\n",
      "V2  =  400;#  in  Volts\n",
      "I0  =  0.5;#  in  Amperes\n",
      "Pc  =  400;#  in  Watts\n",
      "\n",
      "#calculation:\n",
      " #Core  loss  (i.e.  iron  loss)  P  =  V1*I0*cos(phi0)\n",
      "pf  =  Pc/(V1*I0)\n",
      "phi0  =  math.acos(pf)\n",
      " #Magnetizing  component\n",
      "Im  =  I0*math.sin(phi0)\n",
      " #Core  loss  component\n",
      "Ic  =  I0*math.cos(phi0)\n",
      "\n",
      "\n",
      "#Results\n",
      "print  \"\\n\\n  Result  \\n\\n\"\n",
      "print  \"\\n  (a)magnetizing  component  is  \",round(Im,3),\"  A  and  Core  loss  component  is  \",round(Ic,3),\"  A\""
     ],
     "language": "python",
     "metadata": {},
     "outputs": [
      {
       "output_type": "stream",
       "stream": "stdout",
       "text": [
        "\n",
        "\n",
        "  Result  \n",
        "\n",
        "\n",
        "\n",
        "  (a)magnetizing  component  is   0.471   A  and  Core  loss  component  is   0.167   A"
       ]
      }
     ],
     "prompt_number": 7
    },
    {
     "cell_type": "markdown",
     "metadata": {},
     "source": [
      "<h3>Example 7, page no. 320</h3>"
     ]
    },
    {
     "cell_type": "code",
     "collapsed": false,
     "input": [
      "\n",
      "from __future__ import division\n",
      "import math\n",
      "#initializing  the  variables:\n",
      "V  =  240;#  in  Volts\n",
      "I0  =  0.8;#  in  Amperes\n",
      "P  =  72;#  in  Watts\n",
      "f  =  50;#  in  Hz\n",
      "\n",
      "#calculation:\n",
      " #Power  absorbed  =  total  core  loss,  P  =  V*I0*cos(phi0)\n",
      " #Ic  =  I0*cos(phi0)\n",
      "Ic  =  P/V\n",
      "pf  =  Ic/I0\n",
      " #From  the  right-angled  triangle  in  Figure  20.2(b)  and  using\n",
      " #Pythagoras\u2019  theorem,  \n",
      "Im  =  (I0*I0  -  Ic*Ic)**0.5\n",
      "\n",
      "\n",
      "#Results\n",
      "print  \"\\n\\n  Result  \\n\\n\"\n",
      "print  \"\\n  (a)  Core  loss  component  is  \",round(  Ic,2),\"  A\"\n",
      "print  \"\\n  (b)  power  factor  is  \",round(  pf,2),\"\"\n",
      "print  \"\\n  (c)magnetizing  component  is  \",round(Im,2),\"  A\""
     ],
     "language": "python",
     "metadata": {},
     "outputs": [
      {
       "output_type": "stream",
       "stream": "stdout",
       "text": [
        "\n",
        "\n",
        "  Result  \n",
        "\n",
        "\n",
        "\n",
        "  (a)  Core  loss  component  is   0.3   A\n",
        "\n",
        "  (b)  power  factor  is   0.37 \n",
        "\n",
        "  (c)magnetizing  component  is   0.74   A"
       ]
      }
     ],
     "prompt_number": 8
    },
    {
     "cell_type": "markdown",
     "metadata": {},
     "source": [
      "<h3>Example 8, page no. 321</h3>"
     ]
    },
    {
     "cell_type": "code",
     "collapsed": false,
     "input": [
      "\n",
      "from __future__ import division\n",
      "import math\n",
      "#initializing  the  variables:\n",
      "S  =  100000;#  in  VA\n",
      "V1  =  4000;#  in  Volts\n",
      "V2  =  200;#  in  Volts\n",
      "N2  =  100;#  sec  turns\n",
      "f  =  50;#  in  Hz\n",
      "\n",
      "#calculation:\n",
      " #Transformer  rating  =  V1*I1  =  V2*I2\n",
      " #primary  current\n",
      "I1  =  S/V1\n",
      " #secondary  current\n",
      "I2  =  S/V2\n",
      " #primary  turns\n",
      "N1  =  N2*V1/V2\n",
      " #maximum  flux\n",
      " #assuming  E2  =  V2\n",
      "Phim  =  V2/(4.44*f*N2)\n",
      "\n",
      "\n",
      "#Results\n",
      "print  \"\\n\\n  Result  \\n\\n\"\n",
      "print  \"\\n  (a)primary  current  is  \",round(  I1,2),\"  A  and  secondary  current  is  \",round(  I2,2),\"  A\"\n",
      "print  \"\\n  (b)number  of  primary  turns  is  \",round(  N1,2),\"\"\n",
      "print  \"\\n  (c)maximum  value  of  the  flux  is  \",round(Phim*1000,2),\"mWb\""
     ],
     "language": "python",
     "metadata": {},
     "outputs": [
      {
       "output_type": "stream",
       "stream": "stdout",
       "text": [
        "\n",
        "\n",
        "  Result  \n",
        "\n",
        "\n",
        "\n",
        "  (a)primary  current  is   25.0   A  and  secondary  current  is   500.0   A\n",
        "\n",
        "  (b)number  of  primary  turns  is   2000.0 \n",
        "\n",
        "  (c)maximum  value  of  the  flux  is   9.01 mWb"
       ]
      }
     ],
     "prompt_number": 2
    },
    {
     "cell_type": "markdown",
     "metadata": {},
     "source": [
      "<h3>Example 9, page no. 322</h3>"
     ]
    },
    {
     "cell_type": "code",
     "collapsed": false,
     "input": [
      "\n",
      "from __future__ import division\n",
      "import math\n",
      "#initializing  the  variables:\n",
      "V1  =  250;#  in  Volts\n",
      "A  =  0.03;#  in  m2\n",
      "N2  =  300;#  sec  turns\n",
      "N1  =  25;#  prim  turns\n",
      "f  =  50;#  in  Hz\n",
      "\n",
      "#calculation:\n",
      " #e.m.f.  E1  =  4.44*f*Phim*N1\n",
      " #maximum  flux  density,\n",
      "Phim  =  V1/(4.44*f*N1)\n",
      " #Phim  =  Bm*A,  where  Bm  =  maximum  core  flux  density  and  A  =  cross-sectional  area  of  the  core\n",
      " #maximum  core  flux  density\n",
      "Bm  =  Phim/A\n",
      " #voltage  induced  in  the  secondary  winding,\n",
      "V2  =  V1*N2/N1\n",
      "\n",
      "\n",
      "#Results\n",
      "print  \"\\n\\n  Result  \\n\\n\"\n",
      "print  \"\\n  (a)maximum  core  flux  density  \",round(  Bm,2),\"  T\"\n",
      "print  \"\\n  (b)voltage  induced  in  the  secondary  winding  is  \",round(  V2,2),\"  V\""
     ],
     "language": "python",
     "metadata": {},
     "outputs": [
      {
       "output_type": "stream",
       "stream": "stdout",
       "text": [
        "\n",
        "\n",
        "  Result  \n",
        "\n",
        "\n",
        "\n",
        "  (a)maximum  core  flux  density   1.5   T\n",
        "\n",
        "  (b)voltage  induced  in  the  secondary  winding  is   3000.0   V"
       ]
      }
     ],
     "prompt_number": 10
    },
    {
     "cell_type": "markdown",
     "metadata": {},
     "source": [
      "<h3>Example 10, page no. 323</h3>"
     ]
    },
    {
     "cell_type": "code",
     "collapsed": false,
     "input": [
      "\n",
      "from __future__ import division\n",
      "import math\n",
      "#initializing  the  variables:\n",
      "V1  =  500;#  in  Volts\n",
      "V2  =  100;#  in  Volts\n",
      "Bm  =  1.5;#  in  Tesla\n",
      "A  =  0.005;#  in  m2\n",
      "f  =  50;#  in  Hz\n",
      "\n",
      "#calculation:\n",
      " #Phim  =  Bm*A,  where  Bm  =  maximum  core  flux  density  and  A  =  cross-sectional  area  of  the  core\n",
      " #maximum  core  flux  density\n",
      "Phim  =  Bm*A\n",
      " #e.m.f.  E1  =  4.44*f*Phim*N1\n",
      " #primary  turns,\n",
      "N1  =  V1/(4.44*f*Phim)\n",
      " #secondary  turns,\n",
      "N2  =  V2*N1/V1\n",
      "\n",
      "\n",
      "#Results\n",
      "print  \"\\n\\n  Result  \\n\\n\"\n",
      "print  \"\\n  no.  of  primary  and  secondary  turns  are  \",round(N1,2),\"  turns,  and  \",round(N2,2),\"  turns  respectively\""
     ],
     "language": "python",
     "metadata": {},
     "outputs": [
      {
       "output_type": "stream",
       "stream": "stdout",
       "text": [
        "\n",
        "\n",
        "  Result  \n",
        "\n",
        "\n",
        "\n",
        "  no.  of  primary  and  secondary  turns  are   300.3   turns,  and   60.06   turns  respectively"
       ]
      }
     ],
     "prompt_number": 10
    },
    {
     "cell_type": "markdown",
     "metadata": {},
     "source": [
      "<h3>Example 11, page no. 323</h3>"
     ]
    },
    {
     "cell_type": "code",
     "collapsed": false,
     "input": [
      "\n",
      "from __future__ import division\n",
      "import math\n",
      "#initializing  the  variables:\n",
      "emfpt  =  15;#  in  Volts\n",
      "V1  =  4500;#  in  Volts\n",
      "V2  =  225;#  in  Volts\n",
      "Bm  =  1.4;#  in  Tesla\n",
      "f  =  50;#  in  Hz\n",
      "\n",
      "#calculation:\n",
      " #E.m.f.  per  turn,  V1/N1  =  V2/N2  =  emfpt\n",
      " #primary  turns,\n",
      "N1  =  V1/emfpt\n",
      " #secondary  turns,\n",
      "N2  =  V2/emfpt\n",
      " #e.m.f.  E1  =  4.44*f*Phim*N1\n",
      " #maximum  flux  density,\n",
      "Phim  =  V1/(4.44*f*N1)\n",
      " #Phim  =  Bm*A,  where  Bm  =  maximum  core  flux  density  and  A  =  cross-sectional  area  of  the  core\n",
      " #cross-sectional  area\n",
      "A  =  Phim/Bm\n",
      "\n",
      "\n",
      "#Results\n",
      "print  \"\\n\\n  Result  \\n\\n\"\n",
      "print  \"\\n  (a)no.  of  primary  and  secondary  turns  are  \",  N1,\"  turns,  and  \",  N2,\"  turns  respectively\"\n",
      "print  \"\\n  (b)cross-sectional  area  is  \",  round(A,4),\"m2\""
     ],
     "language": "python",
     "metadata": {},
     "outputs": [
      {
       "output_type": "stream",
       "stream": "stdout",
       "text": [
        "\n",
        "\n",
        "  Result  \n",
        "\n",
        "\n",
        "\n",
        "  (a)no.  of  primary  and  secondary  turns  are   300.0   turns,  and   15.0   turns  respectively\n",
        "\n",
        "  (b)cross-sectional  area  is   0.0483 m2"
       ]
      }
     ],
     "prompt_number": 11
    },
    {
     "cell_type": "markdown",
     "metadata": {},
     "source": [
      "<h3>Example 12, page no. 324</h3>"
     ]
    },
    {
     "cell_type": "code",
     "collapsed": false,
     "input": [
      "\n",
      "from __future__ import division\n",
      "import math\n",
      "#initializing  the  variables:\n",
      "N1  =  2000;#  prim  turns\n",
      "N2  =  800;#  sec  turns\n",
      "I0  =  5;#  in  Amperes\n",
      "pf0  =  0.20;#  power  factor\n",
      "I2  =  100;#  in  Amperes\n",
      "pf2  =  0.85;#  power  factor\n",
      "\n",
      "#calculation:\n",
      " #Let  I01  be  the  component  of  the  primary  current  which  provides  the  restoring  mmf.  Then  I01*N1  =  I2*N2\n",
      "I01  =  I2*N2/N1\n",
      " #If  the  power  factor  of  the  secondary  is  0.85\n",
      "phi2  =  math.acos(pf2)\n",
      " #If  the  power  factor  on  no-load  is  0.20,\n",
      "phi0  =  math.acos(pf0)\n",
      "I1h  =  I0*math.cos(phi0)  +  I01*math.cos(phi2)\n",
      "I1v  =  I0*math.sin(phi0)  +  I01*math.sin(phi2)\n",
      " #Hence  the  magnitude  of  I1\n",
      "I1  =  (I1h*I1h  +  I1v*I1v)**0.5\n",
      "pf1  =  math.cos(math.atan(I1v/I1h))\n",
      "\n",
      "\n",
      "#Results\n",
      "print  \"\\n\\n  Result  \\n\\n\"\n",
      "print  \"\\n  Primary  current  is  \", round(I1,2),\"  A,  and  Power  factor  is  \",round(pf1,2)"
     ],
     "language": "python",
     "metadata": {},
     "outputs": [
      {
       "output_type": "stream",
       "stream": "stdout",
       "text": [
        "\n",
        "\n",
        "  Result  \n",
        "\n",
        "\n",
        "\n",
        "  Primary  current  is   43.58   A,  and  Power  factor  is   0.8"
       ]
      }
     ],
     "prompt_number": 12
    },
    {
     "cell_type": "markdown",
     "metadata": {},
     "source": [
      "<h3>Example 13, page no. 328</h3>"
     ]
    },
    {
     "cell_type": "code",
     "collapsed": false,
     "input": [
      "\n",
      "from __future__ import division\n",
      "import math\n",
      "#initializing  the  variables:\n",
      "N1  =  600;#  prim  turns\n",
      "N2  =  150;#  sec  turns\n",
      "R1  =  0.25;#  in  ohms\n",
      "R2  =  0.01;#  in  ohms\n",
      "X1  =  1.0;#  in  ohms\n",
      "X2  =  0.04;#  in  ohms\n",
      "\n",
      "#calculation:\n",
      "tr  =  N1/N2#  turn  ratio\n",
      "vr  =  tr#  voltage  ratio  =  turn  raio,  vr  =  V1/V2\n",
      " #equivalent  resistance  Re\n",
      "Re  =  R1  +  R2*(vr**2)\n",
      " #equivalent  reactance,  Xe\n",
      "Xe  =  X1  +  X2*(vr**2)\n",
      " #equivalent  impedance,  Ze\n",
      "Ze  =  (Re*Re  +  Xe*Xe)**0.5\n",
      " #cos(phie)  =  Re/Ze\n",
      "pfe  =  Re/Ze\n",
      "phie  =  math.acos(pfe)\n",
      "phied  =  phie*180/math.pi#  in  \u00b0(deg)\n",
      "\n",
      "\n",
      "#Results\n",
      "print  \"\\n\\n  Result  \\n\\n\"\n",
      "print  \"\\n  (a)the  equivalent  resistance  referred  to  the  primary  winding  is  \",round(  Re,2),\"  ohm\"\n",
      "print  \"\\n  (b)the  equivalent  reactance  referred  to  the  primary  winding  is  \",round(  Xe,2),\"  ohm\"\n",
      "print  \"\\n  (c)the  equivalent  impedance  referred  to  the  primary  winding  is  \",round(  Ze,2),\"  ohm\"\n",
      "print  \"\\n  (d)phase  angle  is  \",round(  phied,2),\"deg\""
     ],
     "language": "python",
     "metadata": {},
     "outputs": [
      {
       "output_type": "stream",
       "stream": "stdout",
       "text": [
        "\n",
        "\n",
        "  Result  \n",
        "\n",
        "\n",
        "\n",
        "  (a)the  equivalent  resistance  referred  to  the  primary  winding  is   0.41   ohm\n",
        "\n",
        "  (b)the  equivalent  reactance  referred  to  the  primary  winding  is   1.64   ohm\n",
        "\n",
        "  (c)the  equivalent  impedance  referred  to  the  primary  winding  is   1.69   ohm\n",
        "\n",
        "  (d)phase  angle  is   75.96 deg"
       ]
      }
     ],
     "prompt_number": 13
    },
    {
     "cell_type": "markdown",
     "metadata": {},
     "source": [
      "<h3>Example 14, page no. 329</h3>"
     ]
    },
    {
     "cell_type": "code",
     "collapsed": false,
     "input": [
      "\n",
      "from __future__ import division\n",
      "import math\n",
      "#initializing  the  variables:\n",
      "V1  =  200;#  in  Volts\n",
      "V2  =  400;#  in  Volts\n",
      "V2L  =  387.6;#  in  Volts\n",
      "S  =  5000;#  in  VA\n",
      "\n",
      "#calculation:\n",
      " #regulation  =(No-load  secondary  voltage  -\u0003  terminal  voltage  on  load)*100/no-load  secondary  voltage    in  %\n",
      "reg  =  (V2  -  V2L)*100/V2\n",
      "\n",
      "\n",
      "#Results\n",
      "print  \"\\n\\n  Result  \\n\\n\"\n",
      "print  \"\\n  the  regulation  of  the  transformer  is  \",round(reg,2),\"  percent  \""
     ],
     "language": "python",
     "metadata": {},
     "outputs": [
      {
       "output_type": "stream",
       "stream": "stdout",
       "text": [
        "\n",
        "\n",
        "  Result  \n",
        "\n",
        "\n",
        "\n",
        "  the  regulation  of  the  transformer  is   3.1   percent  "
       ]
      }
     ],
     "prompt_number": 14
    },
    {
     "cell_type": "markdown",
     "metadata": {},
     "source": [
      "<h3>Example 15, page no. 329</h3>"
     ]
    },
    {
     "cell_type": "code",
     "collapsed": false,
     "input": [
      "\n",
      "from __future__ import division\n",
      "import math\n",
      "#initializing  the  variables:\n",
      "VnL  =  240;#  in  Volts\n",
      "reg  =  2.5;#  in  percent\n",
      "\n",
      "#calculation:\n",
      " #regulation  =(No-load  secondary  voltage  -\u0003  terminal  voltage  on  load)*100/no-load  secondary  voltage    in  %\n",
      "VL  =  VnL  -  reg*VnL/100\n",
      "\n",
      "\n",
      "#Results\n",
      "print  \"\\n\\n  Result  \\n\\n\"\n",
      "print  \"\\n  the  load  voltage  at  which  the  mechanism  operates  is  \",round(VL,2),\"  V  \""
     ],
     "language": "python",
     "metadata": {},
     "outputs": [
      {
       "output_type": "stream",
       "stream": "stdout",
       "text": [
        "\n",
        "\n",
        "  Result  \n",
        "\n",
        "\n",
        "\n",
        "  the  load  voltage  at  which  the  mechanism  operates  is   234.0   V  "
       ]
      }
     ],
     "prompt_number": 15
    },
    {
     "cell_type": "markdown",
     "metadata": {},
     "source": [
      "<h3>Example 16, page no. 331</h3>"
     ]
    },
    {
     "cell_type": "code",
     "collapsed": false,
     "input": [
      "\n",
      "from __future__ import division\n",
      "import math\n",
      "#initializing  the  variables:\n",
      "S  =  200000;#  in  VA\n",
      "Pc  =  1500;#  in  Watt\n",
      "Pi  =  1000;#  in  Watt\n",
      "pf  =  0.85;#  power  factor\n",
      "\n",
      "#calculation:\n",
      " #Efficiency  =  output  power/input  power  =  (input  power\u2014losses)/input  power\n",
      " #Efficiency  =  1  -  losses/input  power\n",
      " #Full-load  output  power  =  V*I*pf\n",
      "Po  =  S*pf\n",
      " #Total  losses\n",
      "Pl  =  Pc  +  Pi\n",
      " #Input  power  =  output  power  +  losses\n",
      "PI  =  Po  +  Pl\n",
      " #efficiency\n",
      "eff  =  1-(Pl/PI)\n",
      "\n",
      "\n",
      "#Results\n",
      "print  \"\\n\\n  Result  \\n\\n\"\n",
      "print  \"\\n  the  transformer  efficiency  at  full  load  is  \",round(eff,2)"
     ],
     "language": "python",
     "metadata": {},
     "outputs": [
      {
       "output_type": "stream",
       "stream": "stdout",
       "text": [
        "\n",
        "\n",
        "  Result  \n",
        "\n",
        "\n",
        "\n",
        "  the  transformer  efficiency  at  full  load  is   0.99"
       ]
      }
     ],
     "prompt_number": 16
    },
    {
     "cell_type": "markdown",
     "metadata": {},
     "source": [
      "<h3>Example 17, page no. 331</h3>"
     ]
    },
    {
     "cell_type": "code",
     "collapsed": false,
     "input": [
      "\n",
      "from __future__ import division\n",
      "import math\n",
      "#initializing  the  variables:\n",
      "S  =  200000;#  in  VA\n",
      "Pc  =  1500;#  in  Watt\n",
      "Pi  =  1000;#  in  Watt\n",
      "pf  =  0.85;#  power  factor\n",
      "\n",
      "#calculation:\n",
      " #Efficiency  =  output  power/input  power  =  (input  power\u2014losses)/input  power\n",
      " #Efficiency  =  1  -  losses/input  power\n",
      " #Half  full-load  power  output  =  V*I*pf/2\n",
      "Po  =  S*pf/2\n",
      " #Copper  loss  (or  I*I*R  loss)  is  proportional  to  current  squared\n",
      " #Hence  the  copper  loss  at  half  full-load  is\n",
      "Pch  =  Pc/(2*2)\n",
      " #Iron  loss  =  1000  W  (constant)\n",
      " #Total  losses\n",
      "Pl  =  Pch  +  Pi\n",
      " #Input  power  at  half  full-load  =  output  power  at  half  full-load  +  losses\n",
      "PI  =  Po  +  Pl\n",
      " #efficiency\n",
      "eff  =  (1-(Pl/PI))*100\n",
      "\n",
      "\n",
      "#Results\n",
      "print  \"\\n\\n  Result  \\n\\n\"\n",
      "print  \"\\n  the  transformer  efficiency  at  half  full  load  is  \",round(eff,2),\"  percent\""
     ],
     "language": "python",
     "metadata": {},
     "outputs": [
      {
       "output_type": "stream",
       "stream": "stdout",
       "text": [
        "\n",
        "\n",
        "  Result  \n",
        "\n",
        "\n",
        "\n",
        "  the  transformer  efficiency  at  half  full  load  is   98.41   percent"
       ]
      }
     ],
     "prompt_number": 17
    },
    {
     "cell_type": "markdown",
     "metadata": {},
     "source": [
      "<h3>Example 18, page no. 332</h3>"
     ]
    },
    {
     "cell_type": "code",
     "collapsed": false,
     "input": [
      "\n",
      "from __future__ import division\n",
      "import math\n",
      "#initializing  the  variables:\n",
      "S  =  400000;#  in  VA\n",
      "R1  =  0.5;#  in  Ohm\n",
      "R2  =  0.001;#  in  Ohm\n",
      "V1  =  5000;#  in  Volts\n",
      "V2  =  320;#  in  Volts\n",
      "Pi  =  2500;#  in  Watt\n",
      "pf  =  0.85;#  power  factor\n",
      "\n",
      "#calculation:\n",
      " #Rating  =  400  kVA  =  V1*I1  =  V2*I2\n",
      " #Hence  primary  current\n",
      "I1  =  S/V1\n",
      " #secondary  current\n",
      "I2  =  S/V2\n",
      " #Total  copper  loss  =  I1*I1*R1  +  I2*I2*R2,\n",
      "Pcf  =  I1*I1*R1  +  I2*I2*R2\n",
      " #On  full  load,  total  loss  =  copper  loss  +  iron  loss\n",
      "Plf  =  Pcf  +  Pi\n",
      " #  full-load  power  output  =  V2*I2*pf\n",
      "Pof  =  S*pf\n",
      " #Input  power  at  full-load  =  output  power  at  full-load  +  losses\n",
      "PIf  =  Pof  +  Plf\n",
      " #Efficiency  =  output  power/input  power  =  (input  power\u2014losses)/input  power\n",
      " #Efficiency  =  1  -  losses/input  power\n",
      "efff  =  (1-(Plf/PIf))*100\n",
      "\n",
      " #Half  full-load  power  output  =  V*I*pf/2\n",
      "Poh  =  S*pf/2\n",
      " #Copper  loss  (or  I*I*R  loss)  is  proportional  to  current  squared\n",
      " #Hence  the  copper  loss  at  half  full-load  is\n",
      "Pch  =  Pcf/(2*2)\n",
      " #Iron  loss  =  2500  W  (constant)\n",
      " #Total  losses\n",
      "Plh  =  Pch  +  Pi\n",
      " #Input  power  at  half  full-load  =  output  power  at  half  full-load  +  losses\n",
      "PIh  =  Poh  +  Plh\n",
      " #efficiency\n",
      "effh  =  (1-(Plh/PIh))*100\n",
      "\n",
      "\n",
      "#Results\n",
      "print  \"\\n\\n  Result  \\n\\n\"\n",
      "print  \"\\n  (a)the  transformer  efficiency  at  full  load  is  \", round(efff,2),\"  percent\"\n",
      "print  \"\\n  (b)the  transformer  efficiency  at  half  full  load  is  \",  round(effh,2),\"  percent\""
     ],
     "language": "python",
     "metadata": {},
     "outputs": [
      {
       "output_type": "stream",
       "stream": "stdout",
       "text": [
        "\n",
        "\n",
        "  Result  \n",
        "\n",
        "\n",
        "\n",
        "  (a)the  transformer  efficiency  at  full  load  is   97.91   percent\n",
        "\n",
        "  (b)the  transformer  efficiency  at  half  full  load  is   97.88   percent"
       ]
      }
     ],
     "prompt_number": 18
    },
    {
     "cell_type": "markdown",
     "metadata": {},
     "source": [
      "<h3>Example 19, page no. 333</h3>"
     ]
    },
    {
     "cell_type": "code",
     "collapsed": false,
     "input": [
      "\n",
      "from __future__ import division\n",
      "import math\n",
      "#initializing  the  variables:\n",
      "S  =  500000;#  in  VA\n",
      "Pcf  =  4000;#  in  Watt\n",
      "Pi  =  2500;#  in  Watt\n",
      "pf  =  0.75;#  power  factor\n",
      "\n",
      "#calculation:\n",
      " #Let  x  be  the  fraction  of  full  load  kVA  at  which  the  efficiency  is  a  maximum.\n",
      " #The  corresponding  total  copper  loss  =  (4  kW)*(x**2)\n",
      " #At  maximum  efficiency,  copper  loss  =  iron  loss  Hence\n",
      "x  =  (Pi/Pcf)**0.5\n",
      " #Hence  the  output  kVA  at  maximum  efficiency\n",
      "So  =  x*S\n",
      " #Total  loss  at  maximum  efficiency\n",
      "Pl  =  2*Pi\n",
      " #Output  power\n",
      "Po  =  So*pf\n",
      " #Input  power  =  output  power  +  losses\n",
      "PI  =  Po  +  Pl\n",
      " #Efficiency  =  output  power/input  power  =  (input  power\u00e2\u20ac\u201dlosses)/input  power\n",
      " #Efficiency  =  1  -  losses/input  power\n",
      " #Maximum  efficiency\n",
      "effm  =  (1  -  Pl/PI)*100\n",
      "\n",
      "\n",
      "#Results\n",
      "print  \"\\n\\n  Result  \\n\\n\"\n",
      "print  \"\\n the output kVA at maximum efficiency is  \",round(So/1000,2),\"kVA\"\n",
      "print  \"\\n  max.  efficiency  is  \",round(effm,2),\"  pecent\""
     ],
     "language": "python",
     "metadata": {},
     "outputs": [
      {
       "output_type": "stream",
       "stream": "stdout",
       "text": [
        "\n",
        "\n",
        "  Result  \n",
        "\n",
        "\n",
        "\n",
        " the output kVA at maximum efficiency is   395.28 kVA\n",
        "\n",
        "  max.  efficiency  is   98.34   pecent"
       ]
      }
     ],
     "prompt_number": 1
    },
    {
     "cell_type": "markdown",
     "metadata": {},
     "source": [
      "<h3>Example 20, page no. 335</h3>"
     ]
    },
    {
     "cell_type": "code",
     "collapsed": false,
     "input": [
      "\n",
      "from __future__ import division\n",
      "import math\n",
      "#initializing  the  variables:\n",
      "tr  =  4;#  turn  ratio\n",
      "RL  =  100;#  in  Ohms\n",
      "\n",
      "#calculation:\n",
      " #the  equivalent  input  resistance,\n",
      "Ri  =  RL*(tr**2)\n",
      "\n",
      "\n",
      "#Results\n",
      "print  \"\\n\\n  Result  \\n\\n\"\n",
      "print  \"\\n  the  equivalent  input  resistance  is  \",round(Ri,2),\"  ohm\""
     ],
     "language": "python",
     "metadata": {},
     "outputs": [
      {
       "output_type": "stream",
       "stream": "stdout",
       "text": [
        "\n",
        "\n",
        "  Result  \n",
        "\n",
        "\n",
        "\n",
        "  the  equivalent  input  resistance  is   1600.0   ohm"
       ]
      }
     ],
     "prompt_number": 20
    },
    {
     "cell_type": "markdown",
     "metadata": {},
     "source": [
      "<h3>Example 21, page no. 335</h3>"
     ]
    },
    {
     "cell_type": "code",
     "collapsed": false,
     "input": [
      "\n",
      "from __future__ import division\n",
      "import math\n",
      "#initializing  the  variables:\n",
      "R1  =  112;#  in  Ohms\n",
      "RL  =  7;#  in  Ohms\n",
      "\n",
      "#calculation:\n",
      " #The  equivalent  input  resistance,  R1  of  the  transformer  needs  to  be  112  ohm  for  maximum  power  transfer.\n",
      " #R1  =  RL*(tr**2)\n",
      " #  tr  =  N1/N2  turn  ratio\n",
      "tr  =  (R1/RL)**0.5\n",
      "\n",
      "\n",
      "#Results\n",
      "print  \"\\n\\n  Result  \\n\\n\"\n",
      "print  \"\\n  the  optimum  turns  ratio  is  \",tr,\": 1.0\""
     ],
     "language": "python",
     "metadata": {},
     "outputs": [
      {
       "output_type": "stream",
       "stream": "stdout",
       "text": [
        "\n",
        "\n",
        "  Result  \n",
        "\n",
        "\n",
        "\n",
        "  the  optimum  turns  ratio  is   4.0 : 1.0"
       ]
      }
     ],
     "prompt_number": 3
    },
    {
     "cell_type": "markdown",
     "metadata": {},
     "source": [
      "<h3>Example 22, page no. 335</h3>"
     ]
    },
    {
     "cell_type": "code",
     "collapsed": false,
     "input": [
      "\n",
      "from __future__ import division\n",
      "import math\n",
      "#initializing  the  variables:\n",
      "tr  =  5;#  turn  ratio\n",
      "R1  =  150;#  in  Ohms\n",
      "\n",
      "#calculation:\n",
      " #The  equivalent  input  resistance,  R1  of  the  transformer  needs  to  be  150  ohm  for  maximum  power  transfer.\n",
      " #R1  =  RL*(tr**2)\n",
      "RL  =  R1/(tr**2)\n",
      "\n",
      "\n",
      "#Results\n",
      "print  \"\\n\\n  Result  \\n\\n\"\n",
      "print  \"\\n  the  optimum  value  of  load  resistance  is  \",round(RL,2),\"  ohm\""
     ],
     "language": "python",
     "metadata": {},
     "outputs": [
      {
       "output_type": "stream",
       "stream": "stdout",
       "text": [
        "\n",
        "\n",
        "  Result  \n",
        "\n",
        "\n",
        "\n",
        "  the  optimum  value  of  load  resistance  is   6.0   ohm"
       ]
      }
     ],
     "prompt_number": 22
    },
    {
     "cell_type": "markdown",
     "metadata": {},
     "source": [
      "<h3>Example 23, page no. 335</h3>"
     ]
    },
    {
     "cell_type": "code",
     "collapsed": false,
     "input": [
      "\n",
      "from __future__ import division\n",
      "import math\n",
      "#initializing  the  variables:\n",
      "V1  =  220;#  in  Volts\n",
      "V2  =  1760;#  in  Volts\n",
      "V  =  220;#  in  Volts\n",
      "RL  =  1280;#  in  Ohms\n",
      "R  =  2;#  in  Ohms\n",
      "\n",
      "#calculation:\n",
      " #Turns  ratio,  tr  =  N1/N2  =  V1/V2\n",
      "tr  =  V1/V2\n",
      " #Equivalent  input  resistance  of  the  transformer,\n",
      " #R1  =  RL*(tr**2)\n",
      "R1  =  RL*(tr**2)\n",
      " #Total  input  resistance\n",
      "Rin  =  R  +  R1\n",
      " #  Primary  current\n",
      "I1  =  V1/Rin\n",
      " #For  an  ideal  transformer  V1/V2  =  I2/I1,\n",
      "I2  =  I1*tr\n",
      " #Power  dissipated  in  load  resistor  RL\n",
      "P  =  I2*I2*RL\n",
      "\n",
      "\n",
      "#Results\n",
      "print  \"\\n\\n  Result  \\n\\n\"\n",
      "print  \"\\n  (a)  primary  current  flowing  is  \",round(I1,2),\"  A\"\n",
      "print  \"\\n  (b)    power  dissipated  in  the  load  resistor  is  \",round(P,2),\"  W\""
     ],
     "language": "python",
     "metadata": {},
     "outputs": [
      {
       "output_type": "stream",
       "stream": "stdout",
       "text": [
        "\n",
        "\n",
        "  Result  \n",
        "\n",
        "\n",
        "\n",
        "  (a)  primary  current  flowing  is   10.0   A\n",
        "\n",
        "  (b)    power  dissipated  in  the  load  resistor  is   2000.0   W"
       ]
      }
     ],
     "prompt_number": 23
    },
    {
     "cell_type": "markdown",
     "metadata": {},
     "source": [
      "<h3>Example 24, page no. 336</h3>"
     ]
    },
    {
     "cell_type": "code",
     "collapsed": false,
     "input": [
      "\n",
      "from __future__ import division\n",
      "import math\n",
      "#initializing  the  variables:\n",
      "tr  =  25;#  teurn  ratio\n",
      "V  =  24;#  in  Volts\n",
      "R1  =  15000;#  in  Ohms\n",
      "Rin  =  15000;#  in  ohms\n",
      "\n",
      "#calculation:\n",
      " #Turns  ratio,  tr  =  N1/N2  =  V1/V2\n",
      " #For  maximum  power  transfer  R1  needs  to  be  equal  to  15  kohm\n",
      "RL  =  R1/(tr**2)\n",
      " #The  total  input  resistance  when  the  source  is  connected  to  the  matching  transformer  is\n",
      "Rt  =  Rin  +  R1\n",
      " #Primary  current,\n",
      "I1  =  V/Rt\n",
      " #N1/N2  =  I2/I1\n",
      "I2  =  I1*tr\n",
      " #Power  dissipated  in  load  resistor  RL\n",
      "P  =  I2*I2*RL\n",
      "\n",
      "\n",
      "#Results\n",
      "print  \"\\n\\n  Result  \\n\\n\"\n",
      "print  \"\\n  (a)  the  load  resistance  is  \",round(RL,2),\"ohm\"\n",
      "print  \"\\n  (b)    power  dissipated  in  the  load  resistor  is  \",round(P*1000,2),\"mW\""
     ],
     "language": "python",
     "metadata": {},
     "outputs": [
      {
       "output_type": "stream",
       "stream": "stdout",
       "text": [
        "\n",
        "\n",
        "  Result  \n",
        "\n",
        "\n",
        "\n",
        "  (a)  the  load  resistance  is   24.0 ohm\n",
        "\n",
        "  (b)    power  dissipated  in  the  load  resistor  is   9.6 mW"
       ]
      }
     ],
     "prompt_number": 4
    },
    {
     "cell_type": "markdown",
     "metadata": {},
     "source": [
      "<h3>Example 25, page no. 337</h3>"
     ]
    },
    {
     "cell_type": "code",
     "collapsed": false,
     "input": [
      "\n",
      "from __future__ import division\n",
      "import math\n",
      "#initializing  the  variables:\n",
      "V1  =  320;#  in  Volts\n",
      "V2  =  250;#  in  Volts\n",
      "S  =  20000;#  in  VA\n",
      "\n",
      "#calculation:\n",
      " #Rating  =  20  kVA  =  V1*I1  =  V2*I2\n",
      " #Hence  primary  current,  I1\n",
      "I1  =  S/V1\n",
      " #secondary  current,  I2\n",
      "I2  =  S/V2\n",
      " #Hence  current  in  common  part  of  the  winding\n",
      "I  =  I2  -  I1\n",
      "\n",
      "\n",
      "#Results\n",
      "print  \"\\n\\n  Result  \\n\\n\"\n",
      "print  \"\\n  current  in  common  part  of  the  winding  is  \", round(I,2),\"  A\"\n",
      "print  \"\\n  primary  current  and  secondary  current  are  \",round(I1,2),\"  A  and  \",round(I2,2),\"  A  respectively\""
     ],
     "language": "python",
     "metadata": {},
     "outputs": [
      {
       "output_type": "stream",
       "stream": "stdout",
       "text": [
        "\n",
        "\n",
        "  Result  \n",
        "\n",
        "\n",
        "\n",
        "  current  in  common  part  of  the  winding  is   17.5   A\n",
        "\n",
        "  primary  current  and  secondary  current  are   62.5   A  and   80.0   A  respectively"
       ]
      }
     ],
     "prompt_number": 25
    },
    {
     "cell_type": "markdown",
     "metadata": {},
     "source": [
      "<h3>Example 26, page no. 339</h3>"
     ]
    },
    {
     "cell_type": "code",
     "collapsed": false,
     "input": [
      "\n",
      "from __future__ import division\n",
      "import math\n",
      "#initializing  the  variables:\n",
      "V1a  =  200;#  in  Volts\n",
      "V2a  =  150;#  in  Volts\n",
      "V1b  =  500;#  in  Volts\n",
      "V2b  =  100;#  in  Volts\n",
      "\n",
      "#calculation:\n",
      " #For  a  200  V:150  V  transformer,  xa\n",
      "xa  =  V2a/V1a\n",
      " #volume  of  copper  in  auto  transformer\n",
      "vca  =  (1  -  xa)*100#  of  copper  in  a  double-wound  transformer\n",
      " #the  saving  is\n",
      "vsa  =  100  -  vca\n",
      " #For  a  500  V:100  V  transformer,  xb\n",
      "xb  =  V2b/V1b\n",
      " #volume  of  copper  in  auto  transformer\n",
      "vcb  =  (1  -  xb)*100#  of  copper  in  a  double-wound  transformer\n",
      " #the  saving  is\n",
      "vsb  =  100  -  vcb\n",
      "\n",
      "\n",
      "#Results\n",
      "print  \"\\n\\n  Result  \\n\\n\"\n",
      "print  \"\\n  (a)For  a  200  V:150  V  transformer,  the  saving  is  \", round(vsa,2),\"  percent\"\n",
      "print  \"\\n  (b)For  a  500  V:100  V  transformer,  the  saving  is  \", round(vsb,2),\"  percent\""
     ],
     "language": "python",
     "metadata": {},
     "outputs": [
      {
       "output_type": "stream",
       "stream": "stdout",
       "text": [
        "\n",
        "\n",
        "  Result  \n",
        "\n",
        "\n",
        "\n",
        "  (a)For  a  200  V:150  V  transformer,  the  saving  is   75.0   percent\n",
        "\n",
        "  (b)For  a  500  V:100  V  transformer,  the  saving  is   20.0   percent"
       ]
      }
     ],
     "prompt_number": 26
    },
    {
     "cell_type": "markdown",
     "metadata": {},
     "source": [
      "<h3>Example 27, page no. 340</h3>"
     ]
    },
    {
     "cell_type": "code",
     "collapsed": false,
     "input": [
      "\n",
      "from __future__ import division\n",
      "import math\n",
      "#initializing  the  variables:\n",
      "N1  =  500;#  prim  turns\n",
      "N2  =  50;#  sec  turns\n",
      "VL  =  2400;#  in  Volts\n",
      "\n",
      "#calculation:\n",
      " #For  a  star-connection,  VL  =  Vp*(3**0.5)\n",
      "VL1s  =  VL\n",
      " #Primary  phase  voltage\n",
      "Vp1s  =  VL1s/(3**0.5)\n",
      " #For  a  delta-connection,  VL  =  Vp\n",
      " #N1/N2  =  V1/V2,  from  which,\n",
      " #secondary  phase  voltage,  Vp2s\n",
      "Vp2s  =  Vp1s*N2/N1\n",
      "VL2d  =  Vp2s\n",
      "\n",
      " #For  a  delta-connection,  VL  =  Vp\n",
      "VL1d  =  VL\n",
      " #primary  phase  voltage  Vp1d\n",
      "Vp1d  =  VL1d\n",
      " #Secondary  phase  voltage,  Vp2d\n",
      "Vp2d  =  Vp1d*N2/N1\n",
      " #For  a  star-connection,  VL  =  Vp*(3**0.5)\n",
      "VL2s  =  Vp2d*(3**0.5)\n",
      "\n",
      "\n",
      "#Results\n",
      "print  \"\\n\\n  Result  \\n\\n\"\n",
      "print  \"\\n  the  secondary  line  voltage  for  star  and  delta  connection  are  \",round(Vp2s,1),\"  V \"\n",
      "print   \" and  \",round(VL2s,0),\"  V  respectively\""
     ],
     "language": "python",
     "metadata": {},
     "outputs": [
      {
       "output_type": "stream",
       "stream": "stdout",
       "text": [
        "\n",
        "\n",
        "  Result  \n",
        "\n",
        "\n",
        "\n",
        "  the  secondary  line  voltage  for  star  and  delta  connection  are   138.6   V \n",
        " and   416.0   V  respectively\n"
       ]
      }
     ],
     "prompt_number": 1
    },
    {
     "cell_type": "markdown",
     "metadata": {},
     "source": [
      "<h3>Example 28, page no. 343</h3>"
     ]
    },
    {
     "cell_type": "code",
     "collapsed": false,
     "input": [
      "\n",
      "from __future__ import division\n",
      "import math\n",
      "#initializing  the  variables:\n",
      "N1  =  1;#  prim  turns\n",
      "N2  =  60;#  sec  turns\n",
      "I1  =  300;#  in  amperes\n",
      "Ra  =  0.15;#  in  ohms\n",
      "R2  =  0.25;#  in  ohms\n",
      "\n",
      "#calculation:\n",
      " #Reading  on  the  ammeter,\n",
      "I2  =  I1*(N1/N2)\n",
      " #P.d.  across  the  ammeter  =  I2*RA,  where  RA  is  the  ammeter  resistance\n",
      "pd  =  I2*Ra\n",
      " #Total  resistance  of  secondary  circuit\n",
      "Rt  =  Ra  +  R2\n",
      " #Induced  e.m.f.  in  secondary\n",
      "V2  =  I2*Rt\n",
      " #Total  load  on  secondary\n",
      "S  =  V2*I2\n",
      "\n",
      "\n",
      "#Results\n",
      "print  \"\\n\\n  Result  \\n\\n\"\n",
      "print  \"\\n  (a)the  reading  on  the  ammeter  is  \",round(I2,2),\"  A  \"\n",
      "print  \"\\n  (b)potential  difference  across  the  ammeter  is  \",round(pd,2),\"  V  \"\n",
      "print  \"\\n  (c)total  load  (in  VA)  on  the  secondary  is  \",round(S,2),\"  VA  \""
     ],
     "language": "python",
     "metadata": {},
     "outputs": [
      {
       "output_type": "stream",
       "stream": "stdout",
       "text": [
        "\n",
        "\n",
        "  Result  \n",
        "\n",
        "\n",
        "\n",
        "  (a)the  reading  on  the  ammeter  is   5.0   A  \n",
        "\n",
        "  (b)potential  difference  across  the  ammeter  is   0.75   V  \n",
        "\n",
        "  (c)total  load  (in  VA)  on  the  secondary  is   10.0   VA  "
       ]
      }
     ],
     "prompt_number": 28
    }
   ],
   "metadata": {}
  }
 ]
}