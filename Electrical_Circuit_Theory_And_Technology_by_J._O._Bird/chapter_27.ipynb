{
 "metadata": {
  "name": "",
  "signature": "sha256:de2147a7b14f8ed39e81d7f13f742b47f7e864d50fa1a5733b8aeda0bb6528ab"
 },
 "nbformat": 3,
 "nbformat_minor": 0,
 "worksheets": [
  {
   "cells": [
    {
     "cell_type": "markdown",
     "metadata": {},
     "source": [
      "<h1>Chapter 27: A.c. bridges</h1>"
     ]
    },
    {
     "cell_type": "markdown",
     "metadata": {},
     "source": [
      "<h3>Example 1, page no. 485</h3>"
     ]
    },
    {
     "cell_type": "code",
     "collapsed": false,
     "input": [
      "\n",
      "from __future__ import division\n",
      "import math\n",
      "import cmath\n",
      "#initializing  the  variables:\n",
      "R2  =  2500;#  in  ohms\n",
      "C2  =  0.2E-6;#  IN  fARADS\n",
      "R3 = 1;\n",
      "R4 = 1;\n",
      "w = 2000*math.pi;\n",
      "#calculation:\n",
      "Rx = R4*(1 + w*w*C2*C2*R2*R2)/(R2*R3*w*w*C2*C2)\n",
      "Cx = R3*C2/(R4*(1 + w*w*C2*C2*R2*R2))\n",
      "\n",
      "#Results\n",
      "print  \"\\n\\n  Result  \\n\\n\"\n",
      "print  \"\\n  (a)Resistance  Rx  = R4(1 + w*w*C2*C2*R2*R2)/(R2*R3*w*w*C2*C2) and Capacitance Cx = R3*C2/(R4*(1 + w*w*C2*C2*R2*R2))\"\n",
      "print  \"\\n  (b)at balance Rx = \",round(Rx/1000,2),\"KOhm and Cx = \", round(Cx*1E9,2),\"nF\\n\""
     ],
     "language": "python",
     "metadata": {},
     "outputs": [
      {
       "output_type": "stream",
       "stream": "stdout",
       "text": [
        "\n",
        "\n",
        "  Result  \n",
        "\n",
        "\n",
        "\n",
        "  (a)Resistance  Rx  = R4(1 + w*w*C2*C2*R2*R2)/(R2*R3*w*w*C2*C2) and Capacitance Cx = R3*C2/(R4*(1 + w*w*C2*C2*R2*R2))\n",
        "\n",
        "  (b)at balance Rx =  2.75 KOhm and Cx =  18.4 nF"
       ]
      }
     ],
     "prompt_number": 1
    },
    {
     "cell_type": "markdown",
     "metadata": {},
     "source": [
      "<h3>Example 2, page no. 487</h3>"
     ]
    },
    {
     "cell_type": "code",
     "collapsed": false,
     "input": [
      "\n",
      "from __future__ import division\n",
      "import math\n",
      "import cmath\n",
      "#initializing  the  variables:\n",
      "R2  =  30000;#  in  ohms\n",
      "R3  =  30000;#  in  ohms\n",
      "R4  =  1000;#  in  ohms\n",
      "C2  =  1e-9;#  IN  fARADS\n",
      "C3  =  1e-9;#  IN  fARADS\n",
      "\n",
      "#calculation:\n",
      " #the  bridge  is  balanced\n",
      "R1  =  R4/((R3/R2)  +  (C2/C3))\n",
      " #frequency,  f\n",
      "f  =  1/(2*math.pi*((C2*C3*R2*R3)**0.5))\n",
      "\n",
      "\n",
      "#Results\n",
      "print  \"\\n\\n  Result  \\n\\n\"\n",
      "print  \"\\n  (a)Resistance  R1  =  \",R1,\"  ohm\\n\"\n",
      "print  \"\\n  (b)frequency,  f  is  \",round(f,2),\"Hz\\n\""
     ],
     "language": "python",
     "metadata": {},
     "outputs": [
      {
       "output_type": "stream",
       "stream": "stdout",
       "text": [
        "\n",
        "\n",
        "  Result  \n",
        "\n",
        "\n",
        "\n",
        "  (a)Resistance  R1  =   500.0   ohm\n",
        "\n",
        "\n",
        "  (b)frequency,  f  is   5305.16 Hz"
       ]
      }
     ],
     "prompt_number": 1
    },
    {
     "cell_type": "markdown",
     "metadata": {},
     "source": [
      "<h3>Example 3, page no. 487</h3>"
     ]
    },
    {
     "cell_type": "code",
     "collapsed": false,
     "input": [
      "\n",
      "from __future__ import division\n",
      "import math\n",
      "import cmath\n",
      "#initializing  the  variables:\n",
      "R3  =  600;#  in  ohms\n",
      "R4  =  200;#  in  ohms\n",
      "C2  =  0.2e-6;#  IN  fARADS\n",
      "C3  =  4000e-12;#  IN  fARADS\n",
      "f  =  1500;#in  Hz\n",
      "\n",
      "#calculation:\n",
      " #the  bridge  is  balanced\n",
      " #Resistance,  Rx\n",
      "Rx  =  R4*C3/C2\n",
      " #Capacitance,  Cx\n",
      "Cx  =  C2*R3/R4\n",
      " #Phase  angle\n",
      "phi  =  math.atan(1/(2*math.pi*f*Cx*Rx))\n",
      "phid  =  phi*180/math.pi#  in  degrees\n",
      " #Power  factor  of  capacitor\n",
      "Pc  =  math.cos(phi)\n",
      " #Loss  angle,\n",
      "de  =  90  -  phid\n",
      "\n",
      "\n",
      "#Results\n",
      "print  \"\\n\\n  Result  \\n\\n\"\n",
      "print  \"\\n  (a)Resistance  Rx  =  \",round(Rx,2),\"  ohm\\n\"\n",
      "print  \"\\n  (b)capacitance,  Cx  is  \",round(Cx*1E9,2),\"pFarad\\n\"\n",
      "print  \"\\n  (c)phasor  diagram  =  \",round(phid,2),\"deg lead \"\n",
      "print  \"\\n  (d)power  factor  is  \",round(Pc,2),\"  \\n\"\n",
      "print  \"\\n  (e)Loss  angle  =  \",round(de,2),\"deg\\n\""
     ],
     "language": "python",
     "metadata": {},
     "outputs": [
      {
       "output_type": "stream",
       "stream": "stdout",
       "text": [
        "\n",
        "\n",
        "  Result  \n",
        "\n",
        "\n",
        "\n",
        "  (a)Resistance  Rx  =   4.0   ohm\n",
        "\n",
        "\n",
        "  (b)capacitance,  Cx  is   600.0 pFarad\n",
        "\n",
        "\n",
        "  (c)phasor  diagram  =   88.7 deg lead \n",
        "\n",
        "  (d)power  factor  is   0.02   \n",
        "\n",
        "\n",
        "  (e)Loss  angle  =   1.3 deg\n"
       ]
      }
     ],
     "prompt_number": 1
    }
   ],
   "metadata": {}
  }
 ]
}