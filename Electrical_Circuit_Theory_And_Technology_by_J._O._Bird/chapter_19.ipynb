{
 "metadata": {
  "name": "",
  "signature": "sha256:ff0801e05c7bf0796ff3208e43c2911eddcab1546881143bf5f93af7c58ebca6"
 },
 "nbformat": 3,
 "nbformat_minor": 0,
 "worksheets": [
  {
   "cells": [
    {
     "cell_type": "markdown",
     "metadata": {},
     "source": [
      "<h1>Chapter 19: Three phase systems</h1>"
     ]
    },
    {
     "cell_type": "markdown",
     "metadata": {},
     "source": [
      "<h3>Example 1, page no. 299</h3>"
     ]
    },
    {
     "cell_type": "code",
     "collapsed": false,
     "input": [
      "\n",
      "from __future__ import division\n",
      "import math\n",
      "#initializing  the  variables:\n",
      "Vl  =  415;#  in  Volts\n",
      "Rp  =  30;#  in  ohms\n",
      "\n",
      "#calculation:\n",
      "Vp  =  Vl/(3**0.5)\n",
      "Ip  =  Vp/Rp\n",
      "Il  =  Ip\n",
      "\n",
      "#Results\n",
      "print  \"\\n\\n  Result  \\n\\n\"\n",
      "print  \"\\n  (a)the  system  phase  voltage  is  \",round(Vp,2),\"  V\"\n",
      "print  \"\\n  (b)phase  current  is  \",round(Ip,2),\"  A\"\n",
      "print  \"\\n  (c)line  current  is  \",round(Il,2),\"  A\""
     ],
     "language": "python",
     "metadata": {},
     "outputs": [
      {
       "output_type": "stream",
       "stream": "stdout",
       "text": [
        "\n",
        "\n",
        "  Result  \n",
        "\n",
        "\n",
        "\n",
        "  (a)the  system  phase  voltage  is   239.6   V\n",
        "\n",
        "  (b)phase  current  is   7.99   A\n",
        "\n",
        "  (c)line  current  is   7.99   A"
       ]
      }
     ],
     "prompt_number": 1
    },
    {
     "cell_type": "markdown",
     "metadata": {},
     "source": [
      "<h3>Example 2, page no. 299</h3>"
     ]
    },
    {
     "cell_type": "code",
     "collapsed": false,
     "input": [
      "\n",
      "from __future__ import division\n",
      "import math\n",
      "#initializing  the  variables:\n",
      "R  =  30;#  in  ohms\n",
      "L  =  0.1273;#  in  Henry\n",
      "Ip  =  5.08;#  in  Amperes\n",
      "f  =  50;#  in  Hz\n",
      "\n",
      "#calculation:\n",
      "XL  =  2*math.pi*f*L\n",
      "Zp  =  (R*R  +  XL*XL)**0.5\n",
      "Il  =  Ip\n",
      "Vp  =  Ip*Zp\n",
      "Vl  =  Vp*(3**0.5)\n",
      "\n",
      "\n",
      "#Results\n",
      "print  \"\\n\\n  Result  \\n\\n\"\n",
      "print  \"\\n  (a)line  voltage  is  \",round(Vl,2),\"  V\""
     ],
     "language": "python",
     "metadata": {},
     "outputs": [
      {
       "output_type": "stream",
       "stream": "stdout",
       "text": [
        "\n",
        "\n",
        "  Result  \n",
        "\n",
        "\n",
        "\n",
        "  (a)line  voltage  is   439.89   V"
       ]
      }
     ],
     "prompt_number": 2
    },
    {
     "cell_type": "markdown",
     "metadata": {},
     "source": [
      "<h3>Example 4, page no. 301</h3>"
     ]
    },
    {
     "cell_type": "code",
     "collapsed": false,
     "input": [
      "\n",
      "from __future__ import division\n",
      "import math\n",
      "#initializing  the  variables:\n",
      "V  =  415;#  in  Volts\n",
      "PR  =  24000;#  in  Watt\n",
      "Py  =  18000;#  in  Watt\n",
      "Pb  =  12000;#  in  Watt\n",
      "VR  =  240;#  in  Volts\n",
      "Vy  =  240;#  in  Volts\n",
      "Vb  =  240;#  in  Volts\n",
      "\n",
      "#calculation:\n",
      " #For  a  star-connected  system  VL  =  Vp*(3**0.5)\n",
      "Vp  =  V/(3**0.5)\n",
      "phir  =  90*math.pi/180\n",
      "phiy  =  330*math.pi/180\n",
      "phib  =  210*math.pi/180\n",
      " #  I  =  P/V    for  a  resistive  load\n",
      "IR  =  PR/VR\n",
      "Iy  =  Py/Vy\n",
      "Ib  =  Pb/Vb\n",
      "Inh  =  IR*math.cos(phir)  +  Ib*math.cos(phib)  +  Iy*math.cos(phiy)\n",
      "Inv  =  IR*math.sin(phir)  +  Ib*math.sin(phib)  +  Iy*math.sin(phiy)\n",
      "In  =  (Inh**2  +  Inv**2)**0.5\n",
      "\n",
      "\n",
      "#Results\n",
      "print  \"\\n\\n  Result  \\n\\n\"\n",
      "print  \"\\n  (a)cuurnt  in  R  line  is  \",round(IR,2),\"  A,  cuurnt  in  Y  line  is  \",round(Iy,2),\"  A  \"\n",
      "print   \"and  cuurnt  in  B  line  is  \",round(Ib,2),\"  A\"\n",
      "print  \"\\n  (b)cuurnt  in  neutral  line  is  \",round(In,2),\"  A\""
     ],
     "language": "python",
     "metadata": {},
     "outputs": [
      {
       "output_type": "stream",
       "stream": "stdout",
       "text": [
        "\n",
        "\n",
        "  Result  \n",
        "\n",
        "\n",
        "\n",
        "  (a)cuurnt  in  R  line  is   100.0   A,  cuurnt  in  Y  line  is   75.0   A  and  cuurnt  in  B  line  is   50.0   A\n",
        "\n",
        "  (b)cuurnt  in  neutral  line  is   43.3   A"
       ]
      }
     ],
     "prompt_number": 1
    },
    {
     "cell_type": "markdown",
     "metadata": {},
     "source": [
      "<h3>Example 5, page no. 302</h3>"
     ]
    },
    {
     "cell_type": "code",
     "collapsed": false,
     "input": [
      "\n",
      "from __future__ import division\n",
      "import math\n",
      "#initializing  the  variables:\n",
      "R  =  30;#  in  ohms\n",
      "L  =  0.1273;#  in  Henry\n",
      "VL  =  440;#  in  Volts\n",
      "f  =  50;#  in  Hz\n",
      "\n",
      "#calculation:\n",
      "XL  =  2*math.pi*f*L\n",
      "Zp  =  (R*R  +  XL*XL)**0.5\n",
      "Vp  =  VL\n",
      " #Phase  current\n",
      "Ip  =  Vp/Zp\n",
      " #For  a  delta  connection,\n",
      "IL  =  Ip*(3**0.5)\n",
      "\n",
      "\n",
      "#Results\n",
      "print  \"\\n\\n  Result  \\n\\n\"\n",
      "print  \"\\n  (a)the  phase  current  \",round(Ip,2),\"  A\"\n",
      "print  \"\\n  (b)line  current  \",round(IL,2),\"  A\""
     ],
     "language": "python",
     "metadata": {},
     "outputs": [
      {
       "output_type": "stream",
       "stream": "stdout",
       "text": [
        "\n",
        "\n",
        "  Result  \n",
        "\n",
        "\n",
        "\n",
        "  (a)the  phase  current   8.8   A\n",
        "\n",
        "  (b)line  current   15.24   A"
       ]
      }
     ],
     "prompt_number": 2
    },
    {
     "cell_type": "markdown",
     "metadata": {},
     "source": [
      "<h3>Example 6, page no. 302</h3>"
     ]
    },
    {
     "cell_type": "code",
     "collapsed": false,
     "input": [
      "\n",
      "from __future__ import division\n",
      "import math\n",
      "#initializing  the  variables:\n",
      "IL  =  15;#  in  Amperes\n",
      "VL  =  415;#  in  Volts\n",
      "f  =  50;#  in  Hz\n",
      "\n",
      "#calculation:\n",
      " #For  a  delta  connection\n",
      "Ip  =  IL/(3**0.5)#phase  current\n",
      "Vp  =  VL\n",
      " #Capacitive  reactance  per  phase\n",
      "Xc  =  Vp/Ip\n",
      "C  =  1/(2*math.pi*f*Xc)\n",
      "\n",
      "\n",
      "#Results\n",
      "print  \"\\n\\n  Result  \\n\\n\"\n",
      "print  \"\\n  capacitance  is  \",round(C*1E6,2),\"uF\""
     ],
     "language": "python",
     "metadata": {},
     "outputs": [
      {
       "output_type": "stream",
       "stream": "stdout",
       "text": [
        "\n",
        "\n",
        "  Result  \n",
        "\n",
        "\n",
        "\n",
        "  capacitance  is   66.43 uF"
       ]
      }
     ],
     "prompt_number": 3
    },
    {
     "cell_type": "markdown",
     "metadata": {},
     "source": [
      "<h3>Example 7, page no. 303</h3>"
     ]
    },
    {
     "cell_type": "code",
     "collapsed": false,
     "input": [
      "\n",
      "from __future__ import division\n",
      "import math\n",
      "#initializing  the  variables:\n",
      "R  =  3;#  in  ohms\n",
      "XL  =  4;#  in  ohms\n",
      "VL  =  415;#  in  Volts\n",
      "\n",
      "#calculation:\n",
      " #For  a  star  connection:\n",
      " #IL  =  Ip\n",
      " #VL  =  Vp*(3**0.5)\n",
      "VLs  =  VL\n",
      "Vps  =  VLs/(3**0.5)\n",
      " #Impedance  per  phase,\n",
      "Zp  =  (R*R  +  XL*XL)**0.5\n",
      "Ips  =  Vps/Zp\n",
      "ILs  =  Ips\n",
      " #For  a  delta  connection:\n",
      " #VL  =  Vp\n",
      " #IL  =  Ip*(3**0.5)\n",
      "VLd  =  VL\n",
      "Vpd  =  VLd\n",
      "Ipd  =  Vpd/Zp\n",
      "ILd  =  Ipd*(3**0.5)\n",
      "\n",
      "\n",
      "#Results\n",
      "print  \"\\n\\n  Result  \\n\\n\"\n",
      "print  \"\\n  (a)the  line  voltage  for  star  connection  is  \",round(VLs,2),\"  V  \"\n",
      "print   \"and the  phase  voltage  for  star  connection  is  \",round(Vps,2),\"  V  \"\n",
      "print   \"and the  line  voltage  for  delta  connection  is  \",round(VLd,2),\"  V  \"\n",
      "print   \"and the  phase  voltage  for  delta  connection  is  \",round(Vpd,2),\"  V\"\n",
      "print  \"\\n  (b)the  line  current  for  star  connection  is  \",round(ILs,2),\"  A  \"\n",
      "print   \"and  the  phase  current  for  star  connection  is  \",round(Ips,2),\"  A  \"\n",
      "print   \"and the  line  current  for  delta  connection  is  \",round(ILd,2),\"  A  \"\n",
      "print   \"and the  phase  current  for  delta  connection  is  \",round(Ipd,2),\"  A\""
     ],
     "language": "python",
     "metadata": {},
     "outputs": [
      {
       "output_type": "stream",
       "stream": "stdout",
       "text": [
        "\n",
        "\n",
        "  Result  \n",
        "\n",
        "\n",
        "\n",
        "  (a)the  line  voltage  for  star  connection  is   415.0   V  \n",
        "and the  phase  voltage  for  star  connection  is   239.6   V  \n",
        "and the  line  voltage  for  delta  connection  is   415.0   V  \n",
        "and the  phase  voltage  for  delta  connection  is   415.0   V\n",
        "\n",
        "  (b)the  line  current  for  star  connection  is   47.92   A  \n",
        "and  the  phase  current  for  star  connection  is   47.92   A  \n",
        "and the  line  current  for  delta  connection  is   143.76   A  \n",
        "and the  phase  current  for  delta  connection  is   83.0   A\n"
       ]
      }
     ],
     "prompt_number": 1
    },
    {
     "cell_type": "markdown",
     "metadata": {},
     "source": [
      "<h3>Example 8, page no. 304</h3>"
     ]
    },
    {
     "cell_type": "code",
     "collapsed": false,
     "input": [
      "\n",
      "from __future__ import division\n",
      "import math\n",
      "#initializing  the  variables:\n",
      "Rp  =  12;#  in  ohms\n",
      "VL  =  415;#  in  Volts\n",
      "\n",
      "#calculation:\n",
      " #Power  dissipated,  P  =  VL*IL*(3**0.5)*cos(phi)    or    P  =  3*Ip*Ip*Rp)\n",
      "Vp  =  VL/(3**0.5)#  since  the  resistors  are  star-connected\n",
      " #Phase  current,  Ip\n",
      "Zp  =  Rp\n",
      "Ip  =  Vp/Zp\n",
      " #For  a  star  connection\n",
      "IL  =  Ip\n",
      " #  For  a  purely  resistive  load,  the  power  factor  cos(phi)  =  1\n",
      "pf  =  1\n",
      "P  =  VL*IL*(3**0.5)*pf\n",
      "\n",
      "\n",
      "#Results\n",
      "print  \"\\n\\n  Result  \\n\\n\"\n",
      "print  \"\\n  (a)total  power  dissipated  by  the  resistors  is  \",round(P,2),\"  W\""
     ],
     "language": "python",
     "metadata": {},
     "outputs": [
      {
       "output_type": "stream",
       "stream": "stdout",
       "text": [
        "\n",
        "\n",
        "  Result  \n",
        "\n",
        "\n",
        "\n",
        "  (a)total  power  dissipated  by  the  resistors  is   14352.08   W"
       ]
      }
     ],
     "prompt_number": 5
    },
    {
     "cell_type": "markdown",
     "metadata": {},
     "source": [
      "<h3>Example 9, page no. 304</h3>"
     ]
    },
    {
     "cell_type": "code",
     "collapsed": false,
     "input": [
      "\n",
      "from __future__ import division\n",
      "import math\n",
      "#initializing  the  variables:\n",
      "P  =  5000;#  in  Watts\n",
      "IL  =  8.6;#  in  amperes\n",
      "VL  =  400;#  in  Volts\n",
      "\n",
      "#calculation:\n",
      " #Power  dissipated,  P  =  VL*IL*(3**0.5)*cos(phi)    or    P  =  3*Ip*Ip*Rp)\n",
      "pf  =  P/(VL*IL*(3**0.5))\n",
      "\n",
      "\n",
      "#Results\n",
      "print  \"\\n\\n  Result  \\n\\n\"\n",
      "print  \"\\n  power  factor  is  \",round(pf,3)"
     ],
     "language": "python",
     "metadata": {},
     "outputs": [
      {
       "output_type": "stream",
       "stream": "stdout",
       "text": [
        "\n",
        "\n",
        "  Result  \n",
        "\n",
        "\n",
        "\n",
        "  power  factor  is   0.839"
       ]
      }
     ],
     "prompt_number": 8
    },
    {
     "cell_type": "markdown",
     "metadata": {},
     "source": [
      "<h3>Example 10, page no. 304</h3>"
     ]
    },
    {
     "cell_type": "code",
     "collapsed": false,
     "input": [
      "\n",
      "from __future__ import division\n",
      "import math\n",
      "#initializing  the  variables:\n",
      "R  =  10;#  in  ohms\n",
      "L  =  0.042;#  in  Henry\n",
      "VL  =  415;#  in  Volts\n",
      "f  =  50;#  in  Hz\n",
      "\n",
      "#calculation:\n",
      " #For  a  star  connection:\n",
      " #IL  =  Ip\n",
      " #VL  =  Vp*(3**0.5)\n",
      "XL  =  2*math.pi*f*L\n",
      "Zp  =  (R*R  +  XL*XL)**0.5\n",
      "VLs  =  VL\n",
      "Vps  =  VLs/(3**0.5)\n",
      " #Impedance  per  phase,\n",
      "Ips  =  Vps/Zp\n",
      "ILs  =  Ips\n",
      " #Power  dissipated,  P  =  VL*IL*(3**0.5)*cos(phi)    or    P  =  3*Ip*Ip*Rp)\n",
      "pfs  =  R/Zp\n",
      "Ps  =  VLs*ILs*(3**0.5)*pfs\n",
      "\n",
      " #For  a  delta  connection:\n",
      " #VL  =  Vp\n",
      " #IL  =  Ip*(3**0.5)\n",
      "VLd  =  VL\n",
      "Vpd  =  VLd\n",
      "Ipd  =  Vpd/Zp\n",
      "ILd  =  Ipd*(3**0.5)\n",
      " #Power  dissipated,  P  =  VL*IL*(3**0.5)*cos(phi)    or    P  =  3*Ip*Ip*Rp)\n",
      "pfd  =  R/Zp\n",
      "Pd  =  VLd*ILd*(3**0.5)*pfd\n",
      "\n",
      "\n",
      "#Results\n",
      "print  \"\\n\\n  Result  \\n\\n\"\n",
      "print  \"\\n  total  power  dissipated  in  star  is  \",round(Ps,2),\" W  and  in  delta  is  \",round(Pd,2),\" W\""
     ],
     "language": "python",
     "metadata": {},
     "outputs": [
      {
       "output_type": "stream",
       "stream": "stdout",
       "text": [
        "\n",
        "\n",
        "  Result  \n",
        "\n",
        "\n",
        "\n",
        "  total  power  dissipated  in  star  is   6283.29  W  and  in  delta  is   18849.88  W"
       ]
      }
     ],
     "prompt_number": 9
    },
    {
     "cell_type": "markdown",
     "metadata": {},
     "source": [
      "<h3>Example 11, page no. 305</h3>"
     ]
    },
    {
     "cell_type": "code",
     "collapsed": false,
     "input": [
      "\n",
      "from __future__ import division\n",
      "import math\n",
      "#initializing  the  variables:\n",
      "Po  =  12750;#  in  Watts\n",
      "pf  =  0.77;#  power  factor\n",
      "eff  =  0.85;\n",
      "VL  =  415;#  in  Volts\n",
      "\n",
      "#calculation:\n",
      " #eff  =  power_out/power_in\n",
      "Pi  =  Po/eff\n",
      " #Power  P  =  VL*IL*(3**0.5)*cos(phi)    or    P  =  3*Ip*Ip*Rp)\n",
      "IL  =  Pi/(VL*(3**0.5)*pf)#  line  current\n",
      " #For  a  delta  connection:\n",
      " #IL  =  Ip*(3**0.5)\n",
      "Ip  =  IL/(3**0.5)\n",
      "\n",
      "\n",
      "#Results\n",
      "print  \"\\n\\n  Result  \\n\\n\"\n",
      "print  \"\\n  (a)power  input  is  \",round(Pi,2),\" W\"\n",
      "print  \"\\n  (b)line  current  is  \",round(IL,2),\"  A\"\n",
      "print  \"\\n  (c)phase  current  is  \",round(Ip,2),\"  A\""
     ],
     "language": "python",
     "metadata": {},
     "outputs": [
      {
       "output_type": "stream",
       "stream": "stdout",
       "text": [
        "\n",
        "\n",
        "  Result  \n",
        "\n",
        "\n",
        "\n",
        "  (a)power  input  is   15000.0  W\n",
        "\n",
        "  (b)line  current  is   27.1   A\n",
        "\n",
        "  (c)phase  current  is   15.65   A"
       ]
      }
     ],
     "prompt_number": 10
    },
    {
     "cell_type": "markdown",
     "metadata": {},
     "source": [
      "<h3>Example 13, page no. 308</h3>"
     ]
    },
    {
     "cell_type": "code",
     "collapsed": false,
     "input": [
      "\n",
      "from __future__ import division\n",
      "import math\n",
      "#initializing  the  variables:\n",
      "R  =  30;#  in  ohms\n",
      "XL  =  40;#  in  ohms\n",
      "VL  =  400;#  in  Volts\n",
      "\n",
      "#calculation:\n",
      "Zp  =  (R*R  +  XL*XL)**0.5\n",
      " #a  delta-connected  load\n",
      "Vp  =  VL\n",
      " #Phase  current\n",
      "Ip  =  Vp/Zp\n",
      "IL  =  Ip*(3**0.5)\n",
      " #Alternator  output  power  is  equal  to  the  power  dissipated  by  the  load.\n",
      " #Power  P  =  VL*IL*(3**0.5)*cos(phi)    or    P  =  3*Ip*Ip*Rp)\n",
      "pf  =  R/Zp\n",
      "P  =  VL*IL*(3**0.5)*pf\n",
      " #Alternator  output  kVA,\n",
      "S  =  VL*IL*(3**0.5)\n",
      "\n",
      "\n",
      "#Results\n",
      "print  \"\\n\\n  Result  \\n\\n\"\n",
      "print  \"\\n  (a)the  current  supplied  by  the  alternator  is  \",round(IL,2),\"  A\"\n",
      "print  \"\\n  (b)output  power  is  \",round(P/1000,2),\"KW  and  kVA  of  the  alternator  is  \",round(S/1000,2),\"kVA\""
     ],
     "language": "python",
     "metadata": {},
     "outputs": [
      {
       "output_type": "stream",
       "stream": "stdout",
       "text": [
        "\n",
        "\n",
        "  Result  \n",
        "\n",
        "\n",
        "\n",
        "  (a)the  current  supplied  by  the  alternator  is   13.86   A\n",
        "\n",
        "  (b)output  power  is   5.76 KW  and  kVA  of  the  alternator  is   9.6 kVA"
       ]
      }
     ],
     "prompt_number": 1
    },
    {
     "cell_type": "markdown",
     "metadata": {},
     "source": [
      "<h3>Example 14, page no. 308</h3>"
     ]
    },
    {
     "cell_type": "code",
     "collapsed": false,
     "input": [
      "\n",
      "from __future__ import division\n",
      "import math\n",
      "#initializing  the  variables:\n",
      "R  =  30;#  in  ohms\n",
      "C  =  80E-6;#  in  Farads\n",
      "f  =  50;#  in  Hz\n",
      "VL  =  400;#  in  Volts\n",
      "\n",
      "#calculation:\n",
      " #Capacitive  reactance\n",
      "Xc  =  1/(2*math.pi*f*C)\n",
      "Zp  =  (R*R  +  Xc*Xc)**0.5\n",
      "pf  =  R/Zp\n",
      " #a  delta-connected  load\n",
      "Vp  =  VL\n",
      " #Phase  current\n",
      "Ip  =  Vp/Zp\n",
      "IL  =  Ip*(3**0.5)\n",
      " #Power  P  =  VL*IL*(3**0.5)*cos(phi)    or    P  =  3*Ip*Ip*Rp)\n",
      "P  =  VL*IL*(3**0.5)*pf\n",
      " #Alternator  output  kVA,\n",
      "S  =  VL*IL*(3**0.5)\n",
      "\n",
      "\n",
      "#Results\n",
      "print  \"\\n\\n  Result  \\n\\n\"\n",
      "print  \"\\n  (a)the  phase  current    is  \",round(Ip,2),\"  A\"\n",
      "print  \"\\n  (b)the  line  current    is  \",round(IL,2),\"  A\"\n",
      "print  \"\\n  (c) power  is  \",round(P/1000,2),\"kW\"\n",
      "print  \"\\n  (d)kVA  of  the  alternator  is  \", round(S/1000,2),\"kVA\""
     ],
     "language": "python",
     "metadata": {},
     "outputs": [
      {
       "output_type": "stream",
       "stream": "stdout",
       "text": [
        "\n",
        "\n",
        "  Result  \n",
        "\n",
        "\n",
        "\n",
        "  (a)the  phase  current    is   8.03   A\n",
        "\n",
        "  (b)the  line  current    is   13.9   A\n",
        "\n",
        "  (c) power  is   5.8 kW\n",
        "\n",
        "  (d)kVA  of  the  alternator  is   9.63 kVA"
       ]
      }
     ],
     "prompt_number": 2
    },
    {
     "cell_type": "markdown",
     "metadata": {},
     "source": [
      "<h3>Example 15, page no. 309</h3>"
     ]
    },
    {
     "cell_type": "code",
     "collapsed": false,
     "input": [
      "\n",
      "from __future__ import division\n",
      "import math\n",
      "#initializing  the  variables:\n",
      "Pi1  =  8000;#  in  Watts\n",
      "Pi2  =  4000;#  in  Watts\n",
      "\n",
      "#calculation:\n",
      " #Total  input  power\n",
      "Pi  =  Pi1  +  Pi2\n",
      "phi  =  math.atan((Pi1  -  Pi2)*(3**0.5)/(Pi1  +  Pi2))\n",
      " #Power  factor\n",
      "pf  =  math.cos(phi)\n",
      "\n",
      "\n",
      "#Results\n",
      "print  \"\\n\\n  Result  \\n\\n\"\n",
      "print  \"\\n  (a)power  input  is  \",round(Pi,2),\"W\"\n",
      "print  \"\\n  (b)power  factor  is  \",round(pf,2)"
     ],
     "language": "python",
     "metadata": {},
     "outputs": [
      {
       "output_type": "stream",
       "stream": "stdout",
       "text": [
        "\n",
        "\n",
        "  Result  \n",
        "\n",
        "\n",
        "\n",
        "  (a)power  input  is   12000.0 W\n",
        "\n",
        "  (b)power  factor  is   0.87"
       ]
      }
     ],
     "prompt_number": 14
    },
    {
     "cell_type": "markdown",
     "metadata": {},
     "source": [
      "<h3>Example 16, page no. 310</h3>"
     ]
    },
    {
     "cell_type": "code",
     "collapsed": false,
     "input": [
      "\n",
      "from __future__ import division\n",
      "import math\n",
      "#initializing  the  variables:\n",
      "Pi  =  12000;#  in  Watts\n",
      "pf  =  0.6;#  power  factor\n",
      "\n",
      "#calculation:\n",
      " #If  the  two  wattmeters  indicate  Pi1  and  Pi2  respectively\n",
      " #  Pit  =  Pi1  +  Pi2\n",
      "Pit  =  Pi\n",
      " #  Pid  =  Pi1  -  Pi2\n",
      " #power  factor  =  0.6  =  cos(phi)\n",
      "phi  =  math.acos(pf)\n",
      "Pid  =  Pit*math.tan(phi)/(3**0.5)\n",
      " #Hence  wattmeter  1  reads\n",
      "Pi1  =  (Pid  +  Pit)/2\n",
      " #wattmeter  2  reads\n",
      "Pi2  =  Pit  -  Pi1\n",
      "\n",
      "\n",
      "#Results\n",
      "print  \"\\n\\n  Result  \\n\\n\"\n",
      "print  \"\\n  reading  in  each  wattameter  are  \",round(Pi1,2),\"W  and  \",round(Pi2,2),\"W\""
     ],
     "language": "python",
     "metadata": {},
     "outputs": [
      {
       "output_type": "stream",
       "stream": "stdout",
       "text": [
        "\n",
        "\n",
        "  Result  \n",
        "\n",
        "\n",
        "\n",
        "  reading  in  each  wattameter  are   10618.8 W  and   1381.2 W"
       ]
      }
     ],
     "prompt_number": 15
    },
    {
     "cell_type": "markdown",
     "metadata": {},
     "source": [
      "<h3>Example 17, page no. 310</h3>"
     ]
    },
    {
     "cell_type": "code",
     "collapsed": false,
     "input": [
      "\n",
      "from __future__ import division\n",
      "import math\n",
      "#initializing  the  variables:\n",
      "Pi1  =  10000;#  in  Watts\n",
      "Pi2  =  -3000;#  in  Watts\n",
      "\n",
      "#calculation:\n",
      " #Total  input  power\n",
      "Pi  =  Pi1  +  Pi2\n",
      "phi  =  math.atan((Pi1  -  Pi2)*(3**0.5)/(Pi1  +  Pi2))\n",
      " #Power  factor\n",
      "pf  =  math.cos(phi)\n",
      "\n",
      "\n",
      "#Results\n",
      "print  \"\\n\\n  Result  \\n\\n\"\n",
      "print  \"\\n  (a)power  input  is  \",round(Pi,2),\"W\"\n",
      "print  \"\\n  (b)power  factor  is  \",round(pf,2)"
     ],
     "language": "python",
     "metadata": {},
     "outputs": [
      {
       "output_type": "stream",
       "stream": "stdout",
       "text": [
        "\n",
        "\n",
        "  Result  \n",
        "\n",
        "\n",
        "\n",
        "  (a)power  input  is   7000.0 W\n",
        "\n",
        "  (b)power  factor  is   0.3"
       ]
      }
     ],
     "prompt_number": 16
    },
    {
     "cell_type": "markdown",
     "metadata": {},
     "source": [
      "<h3>Example 18, page no. 311</h3>"
     ]
    },
    {
     "cell_type": "code",
     "collapsed": false,
     "input": [
      "\n",
      "from __future__ import division\n",
      "import math\n",
      "#initializing the variables:\n",
      "R = 8; # in ohms\n",
      "XL = 8; # in ohms\n",
      "VL = 415; # in Volts\n",
      "\n",
      "#calculation:\n",
      "#For a star connection:\n",
      "#IL = Ip\n",
      "#VL = Vp*(3**0.5)\n",
      "VLs = VL\n",
      "Vps = VLs/(3**0.5)\n",
      "#Impedance per phase,\n",
      "Zp = (R*R + XL*XL)**0.5\n",
      "Ips = Vps/Zp\n",
      "ILs = Ips\n",
      "#Power dissipated, P = VL*IL*(3**0.5)*cos(phi)  or  P = 3*Ip*Ip*Rp)\n",
      "pf = R/Zp\n",
      "Ps = VLs*ILs*(3**0.5)*pf\n",
      "#If wattmeter readings are P1 and P2 then P1 + P2 = Pst\n",
      "Pst = Ps\n",
      "# Pid = Pi1 - Pi2\n",
      "phi = math.acos(pf)\n",
      "Psd = Pst*math.tan(phi)/(3**0.5)\n",
      "#Hence wattmeter 1 reads\n",
      "Ps1 = (Psd + Pst)/2\n",
      "#wattmeter 2 reads\n",
      "Ps2 = Pst - Ps1\n",
      "\n",
      "#For a delta connection:\n",
      "#VL = Vp\n",
      "#IL = Ip*(3**0.5)\n",
      "VLd = VL\n",
      "Vpd = VLd\n",
      "Ipd = Vpd/Zp\n",
      "ILd = Ipd*(3**0.5)\n",
      "#Power dissipated, P = VL*IL*(3**0.5)*cos(phi)  or  P = 3*Ip*Ip*Rp)\n",
      "Pd = VLd*ILd*(3**0.5)*pf\n",
      "#If wattmeter readings are P1 and P2 then P1 + P2 = Pdt\n",
      "Pdt = Pd\n",
      "# Pid = Pi1 - Pi2\n",
      "Pdd = Pdt*math.tan(phi)/(3**0.5)\n",
      "#Hence wattmeter 1 reads\n",
      "Pd1 = (Pdd + Pdt)/2\n",
      "#wattmeter 2 reads\n",
      "Pd2 = Pdt - Pd1\n",
      "\n",
      "#results\n",
      "print \"\\n\\n Result \\n\\n\"\n",
      "print \"(a)When the coils are star-connected the wattmeter readings are\", round(Ps1,2),\"W and \",round(Ps2,2),\"W\"\n",
      "print \"(b)When the coils are delta-connected the wattmeter readings are are\", round(Pd1,2),\"W and\", round(Pd2,2),\"W\""
     ],
     "language": "python",
     "metadata": {},
     "outputs": [
      {
       "output_type": "stream",
       "stream": "stdout",
       "text": [
        "\n",
        "\n",
        " Result \n",
        "\n",
        "\n",
        "(a)When the coils are star-connected the wattmeter readings are 8489.35 W and  2274.71 W\n",
        "(b)When the coils are delta-connected the wattmeter readings are are 25468.05 W and 6824.14 W"
       ]
      }
     ],
     "prompt_number": 17
    }
   ],
   "metadata": {}
  }
 ]
}