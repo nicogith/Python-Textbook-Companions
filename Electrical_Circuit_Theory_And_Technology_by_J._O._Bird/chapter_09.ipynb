{
 "metadata": {
  "name": "",
  "signature": "sha256:68dcf633943ab2778e92201ff3277e4978506e4f80a2958d6ecfcaa550aa58ae"
 },
 "nbformat": 3,
 "nbformat_minor": 0,
 "worksheets": [
  {
   "cells": [
    {
     "cell_type": "markdown",
     "metadata": {},
     "source": [
      "<h1>Chapter 9: Electromagnetic induction</h1>"
     ]
    },
    {
     "cell_type": "markdown",
     "metadata": {},
     "source": [
      "<h3>Example 1, page no. 102</h3>"
     ]
    },
    {
     "cell_type": "code",
     "collapsed": false,
     "input": [
      "\n",
      "from __future__ import division\n",
      "import math\n",
      "#initializing  the  variables:\n",
      "l  =  0.3;#  in  m\n",
      "v  =  4;#  in  m/s\n",
      "B  =  1.25;#  in  Tesla\n",
      "R  =  20;#  in  ohms\n",
      "u0  =  4*math.pi*1E-7;\n",
      "\n",
      "#calculation:\n",
      "E  =  B*l*v\n",
      "I2  =  E/R\n",
      "\n",
      "#Results\n",
      "print  \"\\n\\nResult\\n\\n\"\n",
      "print  \"\\n  (a)If  the  ends  of  the  conductor  are  open  circuited \"\n",
      "print   \"no  current  will  flow  even  though  \",E,\"  V  has  been  induced.\\n\"\n",
      "print  \"\\n  (b)From  Ohms  law,  I  =  \",I2,\"  Ampere\\n\""
     ],
     "language": "python",
     "metadata": {},
     "outputs": [
      {
       "output_type": "stream",
       "stream": "stdout",
       "text": [
        "\n",
        "\n",
        "Result\n",
        "\n",
        "\n",
        "\n",
        "  (a)If  the  ends  of  the  conductor  are  open  circuited  no  current  will  flow  even  though   1.5   V  has  been  induced.\n",
        "\n",
        "\n",
        "  (b)From  Ohms  law,  I  =   0.075   Ampere"
       ]
      }
     ],
     "prompt_number": 1
    },
    {
     "cell_type": "markdown",
     "metadata": {},
     "source": [
      "<h3>Example 2, page no. 103</h3>"
     ]
    },
    {
     "cell_type": "code",
     "collapsed": false,
     "input": [
      "\n",
      "from __future__ import division\n",
      "import math\n",
      "#initializing  the  variables:\n",
      "l  =  0.075;#  in  m\n",
      "E  =  9;#  in  Volts\n",
      "B  =  0.6;#  in  Tesla\n",
      "R  =  20;#  in  ohms\n",
      "u0  =  4*math.pi*1E-7;\n",
      "\n",
      "#calculation:\n",
      "v  =  E/(B*l)\n",
      "\n",
      "#Results\n",
      "print  \"\\n\\nResult\\n\\n\"\n",
      "print  \"\\n  velocity  v  =  \",v,\"  m/s\\n\""
     ],
     "language": "python",
     "metadata": {},
     "outputs": [
      {
       "output_type": "stream",
       "stream": "stdout",
       "text": [
        "\n",
        "\n",
        "Result\n",
        "\n",
        "\n",
        "\n",
        "  velocity  v  =   200.0   m/s"
       ]
      }
     ],
     "prompt_number": 2
    },
    {
     "cell_type": "markdown",
     "metadata": {},
     "source": [
      "<h3>Example 3, page no. 103</h3>"
     ]
    },
    {
     "cell_type": "code",
     "collapsed": false,
     "input": [
      "\n",
      "from __future__ import division\n",
      "import math\n",
      "\n",
      "#initializing  the  variables:\n",
      "l  =  0.02;#  in  m\n",
      "b  =  0.02;#  in  m\n",
      "v  =  15;#  in  m/s\n",
      "R  =  20;#  in  ohms\n",
      "Phi  =  5E-6;#  in  Wb\n",
      "u0  =  4*math.pi*1E-7;\n",
      "a1  =  90;#  in  degrees\n",
      "a2  =  60;#  in  degrees\n",
      "a3  =  30;#  in  degrees\n",
      "\n",
      "#calculation:\n",
      "A  =  l*b\n",
      "B  =  Phi/A\n",
      "E90  =  B*l*v*math.sin(a1*math.pi/180)\n",
      "E60  =  B*l*v*math.sin(a2*math.pi/180)\n",
      "E30  =  B*l*v*math.sin(a3*math.pi/180)\n",
      "\n",
      "#Results\n",
      "print  \"\\n\\nResult\\n\\n\"\n",
      "print  \"\\n  Induced  e.m.f.  at  angles  90\u00b0,  60\u00b0,  30\u00b0  are  \",(E90/1E-3),\"  V,  \",round((E60/1E-3),2),\"  V, \"\n",
      "print   \"(E30/1E-3),\"  V  respectively\\n\""
     ],
     "language": "python",
     "metadata": {},
     "outputs": [
      {
       "output_type": "stream",
       "stream": "stdout",
       "text": [
        "\n",
        "\n",
        "Result\n",
        "\n",
        "\n",
        "\n",
        "  Induced  e.m.f.  at  angles  90\u00c2\u00b0,  60\u00c2\u00b0,  30\u00c2\u00b0  are   3.75   V,   3.25   V,   1.875   V  respectively"
       ]
      }
     ],
     "prompt_number": 3
    },
    {
     "cell_type": "markdown",
     "metadata": {},
     "source": [
      "<h3>Example 4, page no. 103</h3>"
     ]
    },
    {
     "cell_type": "code",
     "collapsed": false,
     "input": [
      "\n",
      "from __future__ import division\n",
      "import math\n",
      "#initializing  the  variables:\n",
      "s  =  36;#  in  m\n",
      "v  =  400;#  in  km/h\n",
      "u0  =  4*math.pi*1E-7;\n",
      "B  =  40E-6;#  in  Tesla\n",
      "\n",
      "#calculation:\n",
      "v0  =  v*5/18\n",
      "E  =  B*s*v0\n",
      "\n",
      "#Results\n",
      "print  \"\\n\\nResult\\n\\n\"\n",
      "print  \"\\n  Induced  e.m.f.  =  \",E,\"  V\\n\""
     ],
     "language": "python",
     "metadata": {},
     "outputs": [
      {
       "output_type": "stream",
       "stream": "stdout",
       "text": [
        "\n",
        "\n",
        "Result\n",
        "\n",
        "\n",
        "\n",
        "  Induced  e.m.f.  =   0.16   V"
       ]
      }
     ],
     "prompt_number": 4
    },
    {
     "cell_type": "markdown",
     "metadata": {},
     "source": [
      "<h3>Example 6, page no. 105</h3>"
     ]
    },
    {
     "cell_type": "code",
     "collapsed": false,
     "input": [
      "\n",
      "from __future__ import division\n",
      "import math\n",
      "#initializing  the  variables:\n",
      "N  =  200;#  no.  of  turns\n",
      "dt  =  0.050;#  change  of  time  in  sec\n",
      "u0  =  4*math.pi*1E-7;\n",
      "dPhi  =  0.025;#  change  of  flux  in  Wb\n",
      "\n",
      "#calculation:\n",
      "E  =  -1*N*dPhi/dt\n",
      "\n",
      "\n",
      "#Results\n",
      "print  \"\\n\\nResult\\n\\n\"\n",
      "print  \"\\n  Induced  e.m.f.  =  \",E,\"  V\\n\""
     ],
     "language": "python",
     "metadata": {},
     "outputs": [
      {
       "output_type": "stream",
       "stream": "stdout",
       "text": [
        "\n",
        "\n",
        "Result\n",
        "\n",
        "\n",
        "\n",
        "  Induced  e.m.f.  =   -100.0   V"
       ]
      }
     ],
     "prompt_number": 5
    },
    {
     "cell_type": "markdown",
     "metadata": {},
     "source": [
      "<h3>Example 7, page no. 105</h3>"
     ]
    },
    {
     "cell_type": "code",
     "collapsed": false,
     "input": [
      "\n",
      "from __future__ import division\n",
      "import math\n",
      "#initializing  the  variables:\n",
      "N  =  150;#  no.  of  turns\n",
      "dt  =  0.040;#  change  of  time  in  sec\n",
      "u0  =  4*math.pi*1E-7;\n",
      "dPhi  =  800E-6;#  change  of  flux  in  Wb\n",
      "\n",
      "#calculation:\n",
      "#Since  the  flux  reverses,  the  flux  changes  from  C400  \u03bcWb  to  \u0003400  \u03bcWb,  a  total  change  of  flux  of  800  \u03bcWb\n",
      "E  =  -1*N*dPhi/dt\n",
      "\n",
      "#Results\n",
      "print  \"\\n\\nResult\\n\\n\"\n",
      "print  \"\\n  Induced  e.m.f.  =  \",E,\"  V\\n\""
     ],
     "language": "python",
     "metadata": {},
     "outputs": [
      {
       "output_type": "stream",
       "stream": "stdout",
       "text": [
        "\n",
        "\n",
        "Result\n",
        "\n",
        "\n",
        "\n",
        "  Induced  e.m.f.  =   -3.0   V"
       ]
      }
     ],
     "prompt_number": 6
    },
    {
     "cell_type": "markdown",
     "metadata": {},
     "source": [
      "<h3>Example 8, page no. 105</h3>"
     ]
    },
    {
     "cell_type": "code",
     "collapsed": false,
     "input": [
      "\n",
      "from __future__ import division\n",
      "import math\n",
      "#initializing  the  variables:\n",
      "L  =  12;#  in  Henry\n",
      "u0  =  4*math.pi*1E-7;\n",
      "dIdt  =  4;#  change  of  current  with  change  in  time  in  A/s\n",
      "\n",
      "#calculation:\n",
      "E  =  -1*L*dIdt\n",
      "\n",
      "\n",
      "#Results\n",
      "print  \"\\n\\nResult\\n\\n\"\n",
      "print  \"\\n  Induced  e.m.f.  =  \",E,\"  V\\n\""
     ],
     "language": "python",
     "metadata": {},
     "outputs": [
      {
       "output_type": "stream",
       "stream": "stdout",
       "text": [
        "\n",
        "\n",
        "Result\n",
        "\n",
        "\n",
        "\n",
        "  Induced  e.m.f.  =   -48   V"
       ]
      }
     ],
     "prompt_number": 7
    },
    {
     "cell_type": "markdown",
     "metadata": {},
     "source": [
      "<h3>Example 9, page no. 106</h3>"
     ]
    },
    {
     "cell_type": "code",
     "collapsed": false,
     "input": [
      "\n",
      "from __future__ import division\n",
      "import math\n",
      "#initializing  the  variables:\n",
      "E  =  1500;#  in  Volts\n",
      "dt  =  0.008;#  Change  of  time  in  sec\n",
      "dI  =  4;#  change  of  current  in  A/s\n",
      "\n",
      "#calculation:\n",
      "L  =  abs(E)*dt/dI\n",
      "\n",
      "#Results\n",
      "print  \"\\n\\n  Result  \\n\\n\"\n",
      "print  \"\\n  Inductance  L=  \",L,\"  H\\n\""
     ],
     "language": "python",
     "metadata": {},
     "outputs": [
      {
       "output_type": "stream",
       "stream": "stdout",
       "text": [
        "\n",
        "\n",
        "  Result  \n",
        "\n",
        "\n",
        "\n",
        "  Inductance  L=   3.0   H"
       ]
      }
     ],
     "prompt_number": 8
    },
    {
     "cell_type": "markdown",
     "metadata": {},
     "source": [
      "<h3>Example 10, page no. 107</h3>"
     ]
    },
    {
     "cell_type": "code",
     "collapsed": false,
     "input": [
      "\n",
      "from __future__ import division\n",
      "import math\n",
      "#initializing  the  variables:\n",
      "L  =  8;#  in  Henry\n",
      "I  =  3;#  in  Amperes\n",
      "\n",
      "#calculation:\n",
      "W  =  L*I*I/2\n",
      "\n",
      "#Results\n",
      "print  \"\\n\\n  Result  \\n\\n\"\n",
      "print  \"\\n  Energy  stored,  W  =  \",W,\"  J\\n\""
     ],
     "language": "python",
     "metadata": {},
     "outputs": [
      {
       "output_type": "stream",
       "stream": "stdout",
       "text": [
        "\n",
        "\n",
        "  Result  \n",
        "\n",
        "\n",
        "\n",
        "  Energy  stored,  W  =   36.0   J"
       ]
      }
     ],
     "prompt_number": 9
    },
    {
     "cell_type": "markdown",
     "metadata": {},
     "source": [
      "<h3>Example 11, page no. 107</h3>"
     ]
    },
    {
     "cell_type": "code",
     "collapsed": false,
     "input": [
      "\n",
      "from __future__ import division\n",
      "import math\n",
      "#initializing  the  variables:\n",
      "I  =  4;#  in  Amperes\n",
      "N  =  800;#turns\n",
      "Phi  =  0.005;#  in  Wb\n",
      "\n",
      "#calculation:\n",
      "L  =  N*Phi/I\n",
      "\n",
      "#Results\n",
      "print  \"\\n\\n  Result  \\n\\n\"\n",
      "print  \"\\n  Inductance  L  =  \",L,\"  H\\n\""
     ],
     "language": "python",
     "metadata": {},
     "outputs": [
      {
       "output_type": "stream",
       "stream": "stdout",
       "text": [
        "\n",
        "\n",
        "  Result  \n",
        "\n",
        "\n",
        "\n",
        "  Inductance  L  =   1.0   H"
       ]
      }
     ],
     "prompt_number": 10
    },
    {
     "cell_type": "markdown",
     "metadata": {},
     "source": [
      "<h3>Example 12, page no. 107</h3>"
     ]
    },
    {
     "cell_type": "code",
     "collapsed": false,
     "input": [
      "\n",
      "from __future__ import division\n",
      "import math\n",
      "#initializing  the  variables:\n",
      "I1  =  3;#  in  Amperes\n",
      "I2  =  0;#  in  Amperes\n",
      "dt  =  0.150;#  in  secs\n",
      "N  =  1500;#turns\n",
      "Phi  =  0.025;#  in  Wb\n",
      "\n",
      "#calculation:\n",
      "L  =  N*Phi/I1\n",
      "W  =  L*I1*I1/2\n",
      "dI  =  I1  -  I2\n",
      "E  =  -1*L*dI/dt\n",
      "\n",
      "#Results\n",
      "print  \"\\n\\n  Result  \\n\\n\"\n",
      "print  \"\\n  (a)Inductance  L  =  \",L,\"  H\\n\"\n",
      "print  \"\\n  (b)energy  stored  W  =  \",W,\"  J\\n\"\n",
      "print  \"\\n  (c)e.m.f.  induced  =  \",E,\"  V\\n\""
     ],
     "language": "python",
     "metadata": {},
     "outputs": [
      {
       "output_type": "stream",
       "stream": "stdout",
       "text": [
        "\n",
        "\n",
        "  Result  \n",
        "\n",
        "\n",
        "\n",
        "  (a)Inductance  L  =   12.5   H\n",
        "\n",
        "\n",
        "  (b)energy  stored  W  =   56.25   J\n",
        "\n",
        "\n",
        "  (c)e.m.f.  induced  =   -250.0   V"
       ]
      }
     ],
     "prompt_number": 11
    },
    {
     "cell_type": "markdown",
     "metadata": {},
     "source": [
      "<h3>Example 13, page no. 108</h3>"
     ]
    },
    {
     "cell_type": "code",
     "collapsed": false,
     "input": [
      "\n",
      "from __future__ import division\n",
      "import math\n",
      "#initializing  the  variables:\n",
      "I1  =  2;#  in  Amperes\n",
      "I2  =  0;#  in  Amperes\n",
      "dt  =  0.020;#  in  secs\n",
      "N  =  750;#turns\n",
      "L  =  3;#  in  Henry\n",
      "\n",
      "#calculation:\n",
      "Phi  =  L*I1/N\n",
      "dI  =  I1  -  I2\n",
      "E  =  -1*L*dI/dt\n",
      "\n",
      "#Results\n",
      "print  \"\\n\\n  Result  \\n\\n\"\n",
      "print  \"\\n  (a)Flux  =  \",Phi,\"  Wb\\n\"\n",
      "print  \"\\n  (b)e.m.f.  induced  =  \",E,\"  V\\n\""
     ],
     "language": "python",
     "metadata": {},
     "outputs": [
      {
       "output_type": "stream",
       "stream": "stdout",
       "text": [
        "\n",
        "\n",
        "  Result  \n",
        "\n",
        "\n",
        "\n",
        "  (a)Flux  =   0.008   Wb\n",
        "\n",
        "\n",
        "  (b)e.m.f.  induced  =   -300.0   V"
       ]
      }
     ],
     "prompt_number": 12
    },
    {
     "cell_type": "markdown",
     "metadata": {},
     "source": [
      "<h3>Example 14, page no. 108</h3>"
     ]
    },
    {
     "cell_type": "code",
     "collapsed": false,
     "input": [
      "\n",
      "from __future__ import division\n",
      "import math\n",
      "#initializing  the  variables:\n",
      "dI1dt  =  200;#  change  of  current  with  change  in  time  in  A/s\n",
      "N  =  2;#  no.  of  coils\n",
      "E2  =  1.5;#  in  Volts\n",
      "\n",
      "#calculation:\n",
      "M  =  abs(E2)/dI1dt\n",
      "\n",
      "\n",
      "#Results\n",
      "print  \"\\n\\n  Result  \\n\\n\"\n",
      "print  \"\\n  mutual  inductance,  M  =  \",  M,\"  H\\n\""
     ],
     "language": "python",
     "metadata": {},
     "outputs": [
      {
       "output_type": "stream",
       "stream": "stdout",
       "text": [
        "\n",
        "\n",
        "  Result  \n",
        "\n",
        "\n",
        "\n",
        "  mutual  inductance,  M  =   0.0075   H"
       ]
      }
     ],
     "prompt_number": 13
    },
    {
     "cell_type": "markdown",
     "metadata": {},
     "source": [
      "<h3>Example 15, page no. 109</h3>"
     ]
    },
    {
     "cell_type": "code",
     "collapsed": false,
     "input": [
      "\n",
      "from __future__ import division\n",
      "import math\n",
      "#initializing  the  variables:\n",
      "M  =  0.018;#  in  Henry\n",
      "N  =  2;#  no.  of  coils\n",
      "E2  =  0.72;#  in  Volts\n",
      "\n",
      "#calculation:\n",
      "dI1dt  =  abs(E2)/M\n",
      "\n",
      "#Results\n",
      "print  \"\\n\\n  Result  \\n\\n\"\n",
      "print  \"\\n  rate  of  change  of  current  dI1/dt  =  \",  dI1dt,\"  A/s\\n\""
     ],
     "language": "python",
     "metadata": {},
     "outputs": [
      {
       "output_type": "stream",
       "stream": "stdout",
       "text": [
        "\n",
        "\n",
        "  Result  \n",
        "\n",
        "\n",
        "\n",
        "  rate  of  change  of  current  dI1/dt  =   40.0   A/s"
       ]
      }
     ],
     "prompt_number": 14
    },
    {
     "cell_type": "markdown",
     "metadata": {},
     "source": [
      "<h3>Example 16, page no. 109</h3>"
     ]
    },
    {
     "cell_type": "code",
     "collapsed": false,
     "input": [
      "\n",
      "from __future__ import division\n",
      "import math\n",
      "#initializing  the  variables:\n",
      "M  =  0.2;#  in  Henry\n",
      "I1  =  10;#  in  Amperes\n",
      "I2  =  4;#  in  Amperes\n",
      "dt  =  0.010;#  in  secs\n",
      "N  =  500;#  turns\n",
      "\n",
      "#calculation:\n",
      "dI1dt  =  (I1  -I2)/dt  \n",
      "E2  =  -1*dI1dt*M\n",
      "dPhi  =  abs(E2)*dt/N\n",
      "\n",
      "#Results\n",
      "print  \"\\n\\n  Result  \\n\\n\"\n",
      "print  \"\\n  (a)Induced  e.m.f.  E2  =  \",  E2,\"  V\\n\"\n",
      "print  \"\\n  (b)change  of  flux  =  \",  dPhi,\"  Wb\\n\""
     ],
     "language": "python",
     "metadata": {},
     "outputs": [
      {
       "output_type": "stream",
       "stream": "stdout",
       "text": [
        "\n",
        "\n",
        "  Result  \n",
        "\n",
        "\n",
        "\n",
        "  (a)Induced  e.m.f.  E2  =   -120.0   V\n",
        "\n",
        "\n",
        "  (b)change  of  flux  =   0.0024   Wb"
       ]
      }
     ],
     "prompt_number": 15
    }
   ],
   "metadata": {}
  }
 ]
}