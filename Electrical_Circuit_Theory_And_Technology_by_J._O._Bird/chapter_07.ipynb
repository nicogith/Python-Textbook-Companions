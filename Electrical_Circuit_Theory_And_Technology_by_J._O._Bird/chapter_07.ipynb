{
 "metadata": {
  "name": "",
  "signature": "sha256:745577b5410a081be371acb7057a8995eea1df4ada3643669e4149982d7e2177"
 },
 "nbformat": 3,
 "nbformat_minor": 0,
 "worksheets": [
  {
   "cells": [
    {
     "cell_type": "heading",
     "level": 1,
     "metadata": {},
     "source": [
      "Magnetic circuits"
     ]
    }
   ],
   "metadata": {}
  }
 ]
}