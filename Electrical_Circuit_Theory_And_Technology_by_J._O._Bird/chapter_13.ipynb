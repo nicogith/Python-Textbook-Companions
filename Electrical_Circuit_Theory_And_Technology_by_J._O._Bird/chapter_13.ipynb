{
 "metadata": {
  "name": "",
  "signature": "sha256:c3f29745671b17635c27a2d2f8c2d0dd1308d33b0632eea3f4c1679de303c4db"
 },
 "nbformat": 3,
 "nbformat_minor": 0,
 "worksheets": [
  {
   "cells": [
    {
     "cell_type": "markdown",
     "metadata": {},
     "source": [
      "<h1>Chapter 13: D.c. circuit theory</h1>"
     ]
    },
    {
     "cell_type": "markdown",
     "metadata": {},
     "source": [
      "<h3>Example 1, page no. 168</h3>"
     ]
    },
    {
     "cell_type": "code",
     "collapsed": false,
     "input": [
      "\n",
      "from __future__ import division\n",
      "import math\n",
      "#initializing  the  variables:\n",
      "Iab  =  50;#  in  ampere\n",
      "Ibc  =  20;#  in  ampere\n",
      "Iec  =  15;#  in  ampere\n",
      "Idf  =  120;#  in  ampere\n",
      "Ifg  =  40;#  in  ampere\n",
      "Iab  =  50;#  in  ampere\n",
      "I  =  2;#  in  ampere\n",
      "V1  =  4;#  in  volts\n",
      "V2  =  3;#  in  volts\n",
      "V3  =  6;#  in  volts\n",
      "R1  =  1;#  in  ohms\n",
      "R2  =  2;#  in  ohms\n",
      "R3  =  2.5;#  in  ohms\n",
      "R4  =  1.5;#  in  ohms\n",
      "\n",
      "#calculation:\n",
      "I1  =  Iab  -  Ibc\n",
      "I2  =  Ibc  +  Iec\n",
      "I3  =  I1  -  Idf\n",
      "I4  =  Iec  -  I3\n",
      "I5  =  Idf  -  Ifg\n",
      "#  Applying  Kirchhoff\u2019s  voltage  law  and  moving  clockwise  around  the  loop  of  Figure  13.3(b)  starting  at  point  A:\n",
      "E  =  I*R2  +  I*R3  +  I*R4  +  I*R1  -  V2  -  V3  +  V1\n",
      "\n",
      "#Results\n",
      "print  \"\\n\\n  Result  \\n\\n\"\n",
      "print  \"\\n (a)  unknown  currents  I1,  I2,  I3,  I4,  I5  are  \",I1,\"A,  \",  I2,\"A,  \",  I3,\"A,  \",  I4,\"A,  \",  I5,\"A  respetively\\n\"\n",
      "print  \"\\n (b)  value  of  e.m.f.  E  =  \",E,\"  Volts\\n\""
     ],
     "language": "python",
     "metadata": {},
     "outputs": [
      {
       "output_type": "stream",
       "stream": "stdout",
       "text": [
        "\n",
        "\n",
        "  Result  \n",
        "\n",
        "\n",
        "\n",
        "  (a)  unknown  currents  I1,  I2,  I3,  I4,  I5  are   30 A,   35 A,   -90 A,   105 A,   80 A  respetively\n",
        "\n",
        "\n",
        "  (b)  value  of  e.m.f.  E  =   9.0   Volts\n"
       ]
      }
     ],
     "prompt_number": 1
    },
    {
     "cell_type": "markdown",
     "metadata": {},
     "source": [
      "<h3>Example 2, page no. 168</h3>"
     ]
    },
    {
     "cell_type": "code",
     "collapsed": false,
     "input": [
      "\n",
      "from __future__ import division\n",
      "import math\n",
      "#initializing  the  variables:\n",
      "E1  =  4;#  in  volts\n",
      "E2  =  2;#  in  volts\n",
      "r1  =  2;#  in  ohms\n",
      "r2  =  1;#  in  ohms\n",
      "R  =  4;#  in  ohms\n",
      "\n",
      "#calculation:\n",
      "#E1 = I1*(r1 + R) + I2*R,\n",
      "#E2 = I1*R + (R + r2)*I2,\n",
      "I2 = (E1*R - E2*(r1 + R))/(R**2 - (R+r1)*(R + r2))\n",
      "I1 = (E1 - I2*R)/(r1 + R)\n",
      "\n",
      "#Results\n",
      "print  \"\\n\\n  Result  \\n\\n\"\n",
      "print  \"\\n  currents flowing are, I1 = \",round(I1,3),\"A,  and I2 = \",round(-1*I2,3),\"A, \"\n",
      "print   \"and current flowing in middle branch is I1 - I2 = \", round(I1 + I2, 3),\"A\""
     ],
     "language": "python",
     "metadata": {},
     "outputs": [
      {
       "output_type": "stream",
       "stream": "stdout",
       "text": [
        "\n",
        "\n",
        "  Result  \n",
        "\n",
        "\n",
        "\n",
        "  currents flowing are, I1 =  0.857 A,  and I2 =  0.286 A, and current flowing in middle branch is I1 - I2 =  0.571 A"
       ]
      }
     ],
     "prompt_number": 2
    },
    {
     "cell_type": "markdown",
     "metadata": {},
     "source": [
      "<h3>Example 3, page no. 169</h3>"
     ]
    },
    {
     "cell_type": "code",
     "collapsed": false,
     "input": [
      "\n",
      "from __future__ import division\n",
      "import math\n",
      "#initializing  the  variables:\n",
      "E1  =  4;#  in  volts\n",
      "E2  =  12;#  in  volts\n",
      "R1  =  0.5;#  in  ohms\n",
      "R2  =  2;#  in  ohms\n",
      "R3  =  5;#  in  ohms\n",
      "\n",
      "#calculation:\n",
      "#E1 + E2 = I1*R1 + I2*R2\n",
      "#E2 = - I1*R3 + I2*(R2 + R3) \n",
      "I2 = ((E1 + E2)*R3 + E2*R1)/(R2*R3 + (R2+R3)*R1)\n",
      "I1 = (E1 + E2 - I2*R2)/R1\n",
      "\n",
      "#Results\n",
      "print  \"\\n\\n  Result  \\n\\n\"\n",
      "print  \"\\n  currents flowing are, I1 = \",round(I1,2),\"A,  and I2 = \",round(I2,2),\"A\"\n",
      "print   \" and in R3 branch is I1 - I2\", round(I1 - I2,2),\" A\""
     ],
     "language": "python",
     "metadata": {},
     "outputs": [
      {
       "output_type": "stream",
       "stream": "stdout",
       "text": [
        "\n",
        "\n",
        "  Result  \n",
        "\n",
        "\n",
        "\n",
        "  currents flowing are, I1 =  6.52 A,  and I2 =  6.37 A and in R3 branch is I1 - I2 0.15  A"
       ]
      }
     ],
     "prompt_number": 3
    },
    {
     "cell_type": "markdown",
     "metadata": {},
     "source": [
      "<h3>Example 4, page no. 170</h3>"
     ]
    },
    {
     "cell_type": "code",
     "collapsed": false,
     "input": [
      "\n",
      "from __future__ import division\n",
      "import math\n",
      "#initializing  the  variables:\n",
      "V  =  54;#  in  volts\n",
      "I  =  8;#  in  Amps\n",
      "R1  =  2;#  in  ohms\n",
      "R2  =  11;#  in  ohms\n",
      "R3  =  14;#  in  ohms\n",
      "R4  =  3;#  in  ohms\n",
      "R5  =  32;#  in  ohms\n",
      "\n",
      "#calculation:\n",
      "#V = (R1 + R2)*I1 - R2*I2\n",
      "#0 = (R1 + R3)*I1 - R5*I2 - R3*I\n",
      "I1 = V*R5/((R1 + R2)*R5 - (R1 + R3)*R2 + R3*I)\n",
      "I2 = -1*(V - I1*(R2 + R1))/R2\n",
      "\n",
      "#Results\n",
      "print  \"\\n\\n  Result  \\n\\n\"\n",
      "print  \"\\n  the current flowing in the 2 ohm resistor = \",round(I1,0),\"A,\"\n",
      "print  \"\\n  the current flowing in the 14 ohm resistor = \",round(I - I1,0),\"A,\"\n",
      "print  \"\\n  the current flowing in the 32 ohm resistor = \",round(I2,0),\"A,\"\n",
      "print  \"\\n  the current flowing in the 11 ohm resistor = \",round(I1 - I2,0),\"A,\"\n",
      "print  \"\\n  the current flowing in the 3 ohm resistor = \",round(I - I1 + I2,0),\"A\""
     ],
     "language": "python",
     "metadata": {},
     "outputs": [
      {
       "output_type": "stream",
       "stream": "stdout",
       "text": [
        "\n",
        "\n",
        "  Result  \n",
        "\n",
        "\n",
        "\n",
        "  the current flowing in the 2 ohm resistor =  5.0 A,\n",
        "\n",
        "  the current flowing in the 14 ohm resistor =  3.0 A,\n",
        "\n",
        "  the current flowing in the 32 ohm resistor =  1.0 A,\n",
        "\n",
        "  the current flowing in the 11 ohm resistor =  4.0 A,\n",
        "\n",
        "  the current flowing in the 3 ohm resistor =  4.0 A"
       ]
      }
     ],
     "prompt_number": 4
    },
    {
     "cell_type": "markdown",
     "metadata": {},
     "source": [
      "<h3>Example 5, page no. 171</h3>"
     ]
    },
    {
     "cell_type": "code",
     "collapsed": false,
     "input": [
      "\n",
      "from __future__ import division\n",
      "import math\n",
      "#initializing  the  variables:\n",
      "E1  =  4;#  in  volts\n",
      "E2  =  2;#  in  Volts\n",
      "R1  =  2;#  in  ohms\n",
      "R2  =  1;#  in  ohms\n",
      "R =  4;#  in  ohms\n",
      "\n",
      "#calculation:\n",
      "I1 = E1/(R1 + (R*R2/(R + R2)))\n",
      "I2 = (R2/(R + R2))*I1\n",
      "I3 = (R/(R + R2))*I1\n",
      "I4 = E2/(R2 + (R*R1/(R + R1)))\n",
      "I5 = (R1/(R + R1))*I4\n",
      "I6 = (R/(R + R1))*I4\n",
      "\n",
      "#Results\n",
      "print  \"\\n\\n  Result  \\n\\n\"\n",
      "print  \"\\n  Resultant current flowing through source 1 = \",round(I1 - I6,3),\"A,\"\n",
      "print  \"\\n  Resultant current flowing through source 2 = \",round(I4 - I3,3),\"A,\"\n",
      "print  \"\\n  Resultant current flowing through resistor R, = \",round(I2 + I5,3),\"A,\""
     ],
     "language": "python",
     "metadata": {},
     "outputs": [
      {
       "output_type": "stream",
       "stream": "stdout",
       "text": [
        "\n",
        "\n",
        "  Result  \n",
        "\n",
        "\n",
        "\n",
        "  Resultant current flowing through source 1 =  0.857 A,\n",
        "\n",
        "  Resultant current flowing through source 2 =  -0.286 A,\n",
        "\n",
        "  Resultant current flowing through resistor R, =  0.571 A,"
       ]
      }
     ],
     "prompt_number": 5
    },
    {
     "cell_type": "markdown",
     "metadata": {},
     "source": [
      "<h3>Example 6, page no. 173</h3>"
     ]
    },
    {
     "cell_type": "code",
     "collapsed": false,
     "input": [
      "\n",
      "from __future__ import division\n",
      "import math\n",
      "#initializing  the  variables:\n",
      "E1  =  8;#  in  volts\n",
      "E2  =  3;#  in  Volts\n",
      "R1  =  3;#  in  ohms\n",
      "R2  =  2;#  in  ohms\n",
      "R =  18;#  in  ohms\n",
      "\n",
      "#calculation:\n",
      "I1 = E1/(R1 + (R*R2/(R + R2)))\n",
      "I2 = (R/(R + R2))*I1\n",
      "I3 = (R2/(R + R2))*I1\n",
      "I4 = E2/(R2 + (R*R1/(R + R1)))\n",
      "I5 = (R/(R + R1))*I4\n",
      "I6 = (R1/(R + R1))*I4\n",
      "\n",
      "#Results\n",
      "print  \"\\n\\n  Result  \\n\\n\"\n",
      "print  \"\\n  (a)Resultant current in the 18 ohm resistor= \",round(I3 - I6,3),\"A \"\n",
      "print   \"and P.d. across the 18 ohm resistor\",round((I3-I6)*R,3),\"V\"\n",
      "print  \"\\n  (b)the current in the 8 V battery= \",round(I1 + I5,3),\"A\"\n",
      "print  \"\\n  (c)current in the 3 V battery = \",round(I2 + I4,3),\"A\""
     ],
     "language": "python",
     "metadata": {},
     "outputs": [
      {
       "output_type": "stream",
       "stream": "stdout",
       "text": [
        "\n",
        "\n",
        "  Result  \n",
        "\n",
        "\n",
        "\n",
        "  (a)Resultant current in the 18 ohm resistor=  0.073 A and P.d. across the 18 ohm resistor 1.313 V\n",
        "\n",
        "  (b)the current in the 8 V battery=  2.229 A\n",
        "\n",
        "  (c)current in the 3 V battery =  2.156 A"
       ]
      }
     ],
     "prompt_number": 6
    },
    {
     "cell_type": "markdown",
     "metadata": {},
     "source": [
      "<h3>Example 7, page no. 176</h3>"
     ]
    },
    {
     "cell_type": "code",
     "collapsed": false,
     "input": [
      "\n",
      "from __future__ import division\n",
      "import math\n",
      "#initializing  the  variables:\n",
      "V  =  10;#  in  volts\n",
      "R1  =  2;#  in  ohms\n",
      "R2  =  8;#  in  ohms\n",
      "R3 =  5;#  in  ohms\n",
      "R =  10;#  in  ohms\n",
      "\n",
      "#calculation:\n",
      "I1 = V/(R1 + R2)\n",
      "E = I1*R2\n",
      "r = R3 + R1*R2/(R1 + R2)\n",
      "I = E/(R + r)\n",
      "\n",
      "#Results\n",
      "print  \"\\n\\n  Result  \\n\\n\"\n",
      "print  \"\\n the current flowing in the 10 ohm resistor = \",round(I,3),\"A\""
     ],
     "language": "python",
     "metadata": {},
     "outputs": [
      {
       "output_type": "stream",
       "stream": "stdout",
       "text": [
        "\n",
        "\n",
        "  Result  \n",
        "\n",
        "\n",
        "\n",
        " the current flowing in the 10 ohm resistor =  0.482 A"
       ]
      }
     ],
     "prompt_number": 7
    },
    {
     "cell_type": "markdown",
     "metadata": {},
     "source": [
      "<h3>Example 8, page no. 177</h3>"
     ]
    },
    {
     "cell_type": "code",
     "collapsed": false,
     "input": [
      "\n",
      "from __future__ import division\n",
      "import math\n",
      "#initializing  the  variables:\n",
      "V  =  12;#  in  volts\n",
      "R1  =  1;#  in  ohms\n",
      "R2  =  4;#  in  ohms\n",
      "R3 =  5;#  in  ohms\n",
      "R =  0.8;#  in  ohms\n",
      "\n",
      "#calculation:\n",
      "I1 = V/(R1 + R2 + R3)\n",
      "E = I1*R2\n",
      "r = R2*(R1 + R3)/(R1 + R2 + R3)\n",
      "I = E/(R + r)\n",
      "\n",
      "#Results\n",
      "print  \"\\n\\n  Result  \\n\\n\"\n",
      "print  \"\\n the current flowing in the 0.8 ohm resistor = \",round(I,3),\"A\""
     ],
     "language": "python",
     "metadata": {},
     "outputs": [
      {
       "output_type": "stream",
       "stream": "stdout",
       "text": [
        "\n",
        "\n",
        "  Result  \n",
        "\n",
        "\n",
        "\n",
        " the current flowing in the 0.8 ohm resistor =  1.5 A"
       ]
      }
     ],
     "prompt_number": 8
    },
    {
     "cell_type": "markdown",
     "metadata": {},
     "source": [
      "<h3>Example 9, page no. 178</h3>"
     ]
    },
    {
     "cell_type": "code",
     "collapsed": false,
     "input": [
      "\n",
      "from __future__ import division\n",
      "import math\n",
      "#initializing  the  variables:\n",
      "E1  =  4;#  in  volts\n",
      "E2  =  2;#  in  volts\n",
      "R1  =  2;#  in  ohms\n",
      "R2  =  1;#  in  ohms\n",
      "R =  4;#  in  ohms\n",
      "\n",
      "#calculation:\n",
      "I1 = (E1 - E2)/(R1 + R2)\n",
      "E = E1 - I1*R1\n",
      "r = R2*R1/(R1 + R2)\n",
      "I = E/(R + r)\n",
      "P = R*I**2\n",
      "\n",
      "#Results\n",
      "print  \"\\n\\n  Result  \\n\\n\"\n",
      "print  \"\\n the current flowing in the 4 ohm resistor = \",round(I,3),\"A and power dissipated in the 4 ohm resistor = \",round(P,3),\"W\""
     ],
     "language": "python",
     "metadata": {},
     "outputs": [
      {
       "output_type": "stream",
       "stream": "stdout",
       "text": [
        "\n",
        "\n",
        "  Result  \n",
        "\n",
        "\n",
        "\n",
        " the current flowing in the 4 ohm resistor =  0.571 A and power dissipated in the 4 ohm resistor =  1.306 W"
       ]
      }
     ],
     "prompt_number": 9
    },
    {
     "cell_type": "markdown",
     "metadata": {},
     "source": [
      "<h3>Example 10, page no. 178</h3>"
     ]
    },
    {
     "cell_type": "code",
     "collapsed": false,
     "input": [
      "\n",
      "from __future__ import division\n",
      "import math\n",
      "#initializing  the  variables:\n",
      "V  =  24;#  in  volts\n",
      "R  =  3;#  in  ohms\n",
      "R1  =  20;#  in  ohms\n",
      "R2 =  5;#  in  ohms\n",
      "R3  = 10;#  in  ohms\n",
      "R4 =  5/3;#  in  ohms\n",
      "\n",
      "#calculation:\n",
      "E = R3*V/(R3 + R2)\n",
      "r = R4 + R3*R2/(R3 + R2)\n",
      "I = E/(R + r)\n",
      "\n",
      "#Results\n",
      "print  \"\\n\\n  Result  \\n\\n\"\n",
      "print  \"\\n the current flowing in the 3 ohm resistor = \",round(I,0),\"A\""
     ],
     "language": "python",
     "metadata": {},
     "outputs": [
      {
       "output_type": "stream",
       "stream": "stdout",
       "text": [
        "\n",
        "\n",
        "  Result  \n",
        "\n",
        "\n",
        "\n",
        " the current flowing in the 3 ohm resistor =  2.0 A"
       ]
      }
     ],
     "prompt_number": 10
    },
    {
     "cell_type": "markdown",
     "metadata": {},
     "source": [
      "<h3>Example 11, page no. 179</h3>"
     ]
    },
    {
     "cell_type": "code",
     "collapsed": false,
     "input": [
      "#determine the current in the 32 ohm resistor using Th\u00b4evenin\u2019s theorem\n",
      "from __future__ import division\n",
      "import math\n",
      "#initializing  the  variables:\n",
      "E  =  54;#  in  volts\n",
      "R1  =  2;#  in  ohms\n",
      "R2  =  14;#  in  ohms\n",
      "R3  =  3;#  in  ohms\n",
      "R4  =  11;#  in  ohms\n",
      "R5  =  32;#  in  ohms\n",
      "\n",
      "#calculation:\n",
      "Vac = R1*E/(R1 + R4)\n",
      "Vbc = R2*E/(R2 + R3)\n",
      "V = Vbc - Vac\n",
      "r = R4*R1/(R1 + R4) + R3*R2/(R3 + R2)\n",
      "I = V/(R5 + r)\n",
      "\n",
      "#Results\n",
      "print  \"\\n\\n  Result  \\n\\n\"\n",
      "print  \"\\n the current flowing in the 32 ohm resistor = \",round(I,0),\"A flowing from A to B\""
     ],
     "language": "python",
     "metadata": {},
     "outputs": [
      {
       "output_type": "stream",
       "stream": "stdout",
       "text": [
        "\n",
        "\n",
        "  Result  \n",
        "\n",
        "\n",
        "\n",
        " the current flowing in the 32 ohm resistor =  1.0 A flowing from A to B"
       ]
      }
     ],
     "prompt_number": 11
    },
    {
     "cell_type": "markdown",
     "metadata": {},
     "source": [
      "<h3>Example 12, page no. 181</h3>"
     ]
    },
    {
     "cell_type": "code",
     "collapsed": false,
     "input": [
      "\n",
      "from __future__ import division\n",
      "import math\n",
      "#initializing  the  variables:\n",
      "E  =  10;#  in  volts\n",
      "R1  =  2;#  in  ohms\n",
      "R2  = 8;#  in  ohms\n",
      "R3  =  5;#  in  ohms\n",
      "R  =  10;#  in  ohms\n",
      "\n",
      "#calculation:\n",
      "Isc = E/R1\n",
      "r = R1*R2/(R1 + R2)\n",
      "I = r*Isc/(r + R3 + R)\n",
      "\n",
      "#Results\n",
      "print  \"\\n\\n  Result  \\n\\n\"\n",
      "print  \"\\n the current flowing in the 10 ohm resistor = \",round(I,3),\"A\""
     ],
     "language": "python",
     "metadata": {},
     "outputs": [
      {
       "output_type": "stream",
       "stream": "stdout",
       "text": [
        "\n",
        "\n",
        "  Result  \n",
        "\n",
        "\n",
        "\n",
        " the current flowing in the 10 ohm resistor =  0.482 A"
       ]
      }
     ],
     "prompt_number": 12
    },
    {
     "cell_type": "markdown",
     "metadata": {},
     "source": [
      "<h3>Example 13, page no. 182</h3>"
     ]
    },
    {
     "cell_type": "code",
     "collapsed": false,
     "input": [
      "\n",
      "from __future__ import division\n",
      "import math\n",
      "#initializing  the  variables:\n",
      "E1  =  4;#  in  volts\n",
      "E2  =  2;#  in  volts\n",
      "R1  =  2;#  in  ohms\n",
      "R2  =  1;#  in  ohms\n",
      "R  =  4;#  in  ohms\n",
      "\n",
      "#calculation:\n",
      "Isc = E1/R1 + E2/R2\n",
      "r = R1*R2/(R1 + R2)\n",
      "I = r*Isc/(r + R)\n",
      "\n",
      "#Results\n",
      "print  \"\\n\\n  Result  \\n\\n\"\n",
      "print  \"\\n the current flowing in the 4 ohm resistor = \",round(I,3),\"A\""
     ],
     "language": "python",
     "metadata": {},
     "outputs": [
      {
       "output_type": "stream",
       "stream": "stdout",
       "text": [
        "\n",
        "\n",
        "  Result  \n",
        "\n",
        "\n",
        "\n",
        " the current flowing in the 4 ohm resistor =  0.571 A"
       ]
      }
     ],
     "prompt_number": 13
    },
    {
     "cell_type": "markdown",
     "metadata": {},
     "source": [
      "<h3>Example 14, page no. 182</h3>"
     ]
    },
    {
     "cell_type": "code",
     "collapsed": false,
     "input": [
      "\n",
      "from __future__ import division\n",
      "import math\n",
      "#initializing  the  variables:\n",
      "V  =  24;#  in  volts\n",
      "R  =  3;#  in  ohms\n",
      "R1  =  20;#  in  ohms\n",
      "R2 =  5;#  in  ohms\n",
      "R3  = 10;#  in  ohms\n",
      "R4 =  5/3;#  in  ohms\n",
      "\n",
      "#calculation:\n",
      "Isc = V/R2\n",
      "r = R3*R2/(R3 + R2)\n",
      "I = r*Isc/(r + R4 + R)\n",
      "\n",
      "#Results\n",
      "print  \"\\n\\n  Result  \\n\\n\"\n",
      "print  \"\\n the current flowing in the 3 ohm resistor = \",round(I,0),\"A\""
     ],
     "language": "python",
     "metadata": {},
     "outputs": [
      {
       "output_type": "stream",
       "stream": "stdout",
       "text": [
        "\n",
        "\n",
        "  Result  \n",
        "\n",
        "\n",
        "\n",
        " the current flowing in the 3 ohm resistor =  2.0 A"
       ]
      }
     ],
     "prompt_number": 14
    },
    {
     "cell_type": "markdown",
     "metadata": {},
     "source": [
      "<h3>Example 15, page no. 183</h3>"
     ]
    },
    {
     "cell_type": "code",
     "collapsed": false,
     "input": [
      "\n",
      "from __future__ import division\n",
      "import math\n",
      "#initializing  the  variables:\n",
      "I  =  15;#  in  Amps\n",
      "R  =  2;#  in  ohms\n",
      "R1  = 6;#  in  ohms\n",
      "R2 =  4;#  in  ohms\n",
      "R3  = 8;#  in  ohms\n",
      "R4 =  7;#  in  ohms\n",
      "\n",
      "#calculation:\n",
      "Isc = R1*I/(R1 + R2)\n",
      "r = (R1 + R2)*(R3 + R4)/(R3 + R1 + R4 + R2)\n",
      "I = r*Isc/(r + R)\n",
      "\n",
      "#Results\n",
      "print  \"\\n\\n  Result  \\n\\n\"\n",
      "print  \"\\n the current flowing in the 2 ohm resistor = \",round(I,2),\"A\""
     ],
     "language": "python",
     "metadata": {},
     "outputs": [
      {
       "output_type": "stream",
       "stream": "stdout",
       "text": [
        "\n",
        "\n",
        "  Result  \n",
        "\n",
        "\n",
        "\n",
        " the current flowing in the 2 ohm resistor =  6.75 A"
       ]
      }
     ],
     "prompt_number": 15
    },
    {
     "cell_type": "markdown",
     "metadata": {},
     "source": [
      "<h3>Example 16, page no. 185</h3>"
     ]
    },
    {
     "cell_type": "code",
     "collapsed": false,
     "input": [
      "\n",
      "from __future__ import division\n",
      "import math\n",
      "#initializing  the  variables:\n",
      "V  =  10;#  in  Volts\n",
      "R  =  2;#  in  ohms\n",
      "\n",
      "#calculation:\n",
      "Isc = V/R\n",
      "\n",
      "#Results\n",
      "print  \"\\n\\n  Result  \\n\\n\"\n",
      "print  \"\\n equivalent Norton network contains Current Source of amp = \",round(Isc,0),\"A and a resistor of \",R,\" ohm\""
     ],
     "language": "python",
     "metadata": {},
     "outputs": [
      {
       "output_type": "stream",
       "stream": "stdout",
       "text": [
        "\n",
        "\n",
        "  Result  \n",
        "\n",
        "\n",
        "\n",
        " equivalent Norton network contains Current Source of amp =  5.0 A and a resistor of  2  ohm"
       ]
      }
     ],
     "prompt_number": 16
    },
    {
     "cell_type": "markdown",
     "metadata": {},
     "source": [
      "<h3>Example 17, page no. 185</h3>"
     ]
    },
    {
     "cell_type": "code",
     "collapsed": false,
     "input": [
      "\n",
      "from __future__ import division\n",
      "import math\n",
      "#initializing  the  variables:\n",
      "Isc  =  4;#  in  Amps\n",
      "R  =  3;#  in  ohms\n",
      "\n",
      "#calculation:\n",
      "E = Isc*R\n",
      "\n",
      "#Results\n",
      "print  \"\\n\\n  Result  \\n\\n\"\n",
      "print  \"\\n equivalent Thevenin network contains Voltage Source of \",round(E,0),\"V and a resistor of \",R,\" ohm\""
     ],
     "language": "python",
     "metadata": {},
     "outputs": [
      {
       "output_type": "stream",
       "stream": "stdout",
       "text": [
        "\n",
        "\n",
        "  Result  \n",
        "\n",
        "\n",
        "\n",
        " equivalent Thevenin network contains Voltage Source of  12.0 V and a resistor of  3  ohm"
       ]
      }
     ],
     "prompt_number": 17
    },
    {
     "cell_type": "markdown",
     "metadata": {},
     "source": [
      "<h3>Example 18, page no. 185</h3>"
     ]
    },
    {
     "cell_type": "code",
     "collapsed": false,
     "input": [
      "\n",
      "from __future__ import division\n",
      "import math\n",
      "#initializing  the  variables:\n",
      "E1  =  12;#  in  Volts\n",
      "E2  =  24;#  in  Volts\n",
      "R1  =  3;#  in  ohms\n",
      "R2  =  2;#  in  ohms\n",
      "R  =  1.8;#  in  ohms\n",
      "\n",
      "#calculation:\n",
      "Isc1 = E1/R1\n",
      "Isc2 = E2/R2\n",
      "I1 = Isc1 + Isc2\n",
      "r = R1*R2/(R1 + R2)\n",
      "E = I1*r\n",
      "I = E/(r + R)\n",
      "\n",
      "#Results\n",
      "print  \"\\n\\n  Result  \\n\\n\"\n",
      "print  \"\\n  (A)equivalent Norton network contains Current Source of \",round(I1,1),\"A and a resistor of \",r,\" ohm\"\n",
      "print  \"\\n     equivalent Thevenin network contains Voltage Source of \",round(E,1),\"V and a resistor of \",r,\" ohm\"\n",
      "print  \"\\n  (B)the current flowing in the 1.8 ohm resistor is \",round(I,1),\"A\""
     ],
     "language": "python",
     "metadata": {},
     "outputs": [
      {
       "output_type": "stream",
       "stream": "stdout",
       "text": [
        "\n",
        "\n",
        "  Result  \n",
        "\n",
        "\n",
        "\n",
        "  (A)equivalent Norton network contains Current Source of  16.0 A and a resistor of  1.2  ohm\n",
        "\n",
        "     equivalent Thevenin network contains Voltage Source of  19.2 V and a resistor of  1.2  ohm\n",
        "\n",
        "  (B)the current flowing in the 1.8 ohm resistor is  6.4 A"
       ]
      }
     ],
     "prompt_number": 18
    },
    {
     "cell_type": "markdown",
     "metadata": {},
     "source": [
      "<h3>Example 19, page no. 186</h3>"
     ]
    },
    {
     "cell_type": "code",
     "collapsed": false,
     "input": [
      "\n",
      "from __future__ import division\n",
      "import math\n",
      "#initializing  the  variables:\n",
      "E1  =  10;#  in  Volts\n",
      "E2  =  6;#  in  Volts\n",
      "I1 = 0.001;#in Amp\n",
      "R1  =  2000;#  in  ohms\n",
      "R2  =  3000;#  in  ohms\n",
      "R3  =  600;#  in  ohms\n",
      "R  =  200;#  in  ohms\n",
      "\n",
      "#calculation:\n",
      "Isc1 = E1/R1\n",
      "Isc2 = E2/R2\n",
      "I2 = Isc1 + Isc2\n",
      "r1 = R1*R2/(R1 + R2)\n",
      "E = I2*r1 - I1*R3\n",
      "r = r1 + R3\n",
      "I = E/(r + R)\n",
      "\n",
      "#Results\n",
      "print  \"\\n\\n  Result  \\n\\n\"\n",
      "print  \"\\n  (A)equivalent Norton network contains Current Source of \",round(I2*1000,0),\"mA and a resistor of \",round(r1/1000,1),\" Kohm\"\n",
      "print  \"\\n     equivalent Thevenin network contains Voltage Source of \",round(E,1),\"V and a resistor of \",round(r1/1000,1),\" Kohm\"\n",
      "print  \"\\n  (B)the current flowing in the 200 ohm resistor is \",round(I*1000,1),\"mA\""
     ],
     "language": "python",
     "metadata": {},
     "outputs": [
      {
       "output_type": "stream",
       "stream": "stdout",
       "text": [
        "\n",
        "\n",
        "  Result  \n",
        "\n",
        "\n",
        "\n",
        "  (A)equivalent Norton network contains Current Source of  7.0 mA and a resistor of  1.2  Kohm\n",
        "\n",
        "     equivalent Thevenin network contains Voltage Source of  7.8 V and a resistor of  1.2  Kohm\n",
        "\n",
        "  (B)the current flowing in the 200 ohm resistor is  3.9 mA"
       ]
      }
     ],
     "prompt_number": 19
    },
    {
     "cell_type": "markdown",
     "metadata": {},
     "source": [
      "<h3>Example 20, page no. 188</h3>"
     ]
    },
    {
     "cell_type": "code",
     "collapsed": false,
     "input": [
      "\n",
      "from __future__ import division\n",
      "import math\n",
      "#from pylab import *\n",
      "%matplotlib inline\n",
      "#initializing  the  variables:\n",
      "E  =  6;#  in  Volts\n",
      "R  =  2.5;#  in  ohms\n",
      "\n",
      "#calculation:\n",
      "RL = []\n",
      "P = []\n",
      "k = []\n",
      "for h in range(6):\n",
      "    RL.append(h - 0.5)\n",
      "    k = h - 0.5\n",
      "    P.append(k*((E/(R + k))**2))\n",
      "fig  = plt.figure()\n",
      "ax = fig.add_subplot(1, 1, 1)\n",
      "ax.plot(RL,P,'-')\n",
      "#plot(RL,P,'-')\n",
      "xlabel('RL(ohm)')\n",
      "ylabel('Power(W)')\n",
      "show()\n",
      "Pmax= R*(E/(2*R))**2\n",
      "\n",
      "#Results\n",
      "print  \"\\n\\n  Result  \\n\\n\"\n",
      "print  \"\\n  A graph of RL against P is shown in Figure\" \n",
      "print  \"  The maximum value of power is\", Pmax,\"W which occurs when RL =\",R,\"ohm\""
     ],
     "language": "python",
     "metadata": {},
     "outputs": [
      {
       "output_type": "stream",
       "stream": "stdout",
       "text": [
        "\n",
        "Welcome to pylab, a matplotlib-based Python environment [backend: module://IPython.zmq.pylab.backend_inline].\n",
        "For more information, type 'help(pylab)'."
       ]
      },
      {
       "metadata": {},
       "output_type": "display_data",
       "png": "[encoded data removed]"
      },
      {
       "output_type": "stream",
       "stream": "stdout",
       "text": [
        "\n",
        "\n",
        "  Result  \n",
        "\n",
        "\n",
        "\n",
        "  A graph of RL against P is shown in Figure\n",
        "  The maximum value of power is 3.6 W which occurs when RL = 2.5 ohm"
       ]
      }
     ],
     "prompt_number": 1
    },
    {
     "cell_type": "markdown",
     "metadata": {},
     "source": [
      "<h3>Example 21, page no. 188</h3>"
     ]
    },
    {
     "cell_type": "code",
     "collapsed": false,
     "input": [
      "\n",
      "from __future__ import division\n",
      "import math\n",
      "from pylab import *\n",
      "#initializing  the  variables:\n",
      "E  =  30;#  in  Volts\n",
      "R  =  1.5;#  in  ohms\n",
      "\n",
      "#calculation:\n",
      "RL = R\n",
      "I = E/(R + RL)\n",
      "P = I**2*RL\n",
      "\n",
      "#Results\n",
      "print  \"\\n\\n  Result  \\n\\n\"\n",
      "print  \"  The maximum value of power is\", P,\"W which occurs when RL =\",RL,\"ohm\""
     ],
     "language": "python",
     "metadata": {},
     "outputs": [
      {
       "output_type": "stream",
       "stream": "stdout",
       "text": [
        "\n",
        "\n",
        "  Result  \n",
        "\n",
        "\n",
        "  The maximum value of power is 150.0 W which occurs when RL = 1.5 ohm"
       ]
      }
     ],
     "prompt_number": 21
    },
    {
     "cell_type": "markdown",
     "metadata": {},
     "source": [
      "<h3>Example 22, page no. 189</h3>"
     ]
    },
    {
     "cell_type": "code",
     "collapsed": false,
     "input": [
      "\n",
      "from __future__ import division\n",
      "import math\n",
      "from pylab import *\n",
      "#initializing  the  variables:\n",
      "V  =  15;#  in  Volts\n",
      "R1  =  3;#  in  ohms\n",
      "R2  =  12;#  in  ohms\n",
      "\n",
      "#calculation:\n",
      "E = (R2/(R2+ R1))*V\n",
      "r = R1*R2/(R1 + R2)\n",
      "RL = r\n",
      "I = E/(r + RL)\n",
      "P = I**2*RL\n",
      "\n",
      "#Results\n",
      "print  \"\\n\\n  Result  \\n\\n\"\n",
      "print  \"  The maximum value of power is\", P,\"W which occurs when Total Load RL =\",RL,\"ohm\""
     ],
     "language": "python",
     "metadata": {},
     "outputs": [
      {
       "output_type": "stream",
       "stream": "stdout",
       "text": [
        "\n",
        "\n",
        "  Result  \n",
        "\n",
        "\n",
        "  The maximum value of power is 15.0 W which occurs when Total Load RL = 2.4 ohm"
       ]
      }
     ],
     "prompt_number": 22
    }
   ],
   "metadata": {}
  }
 ]
}