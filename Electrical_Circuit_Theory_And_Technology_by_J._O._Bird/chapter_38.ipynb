{
 "metadata": {
  "name": "",
  "signature": "sha256:7389552750eb30891c831f10215e616f84c75b4bc1c44e309d45236439691034"
 },
 "nbformat": 3,
 "nbformat_minor": 0,
 "worksheets": [
  {
   "cells": [
    {
     "cell_type": "markdown",
     "metadata": {},
     "source": [
      "<h1>Chapter 38: Magnetic materials</h1>"
     ]
    },
    {
     "cell_type": "markdown",
     "metadata": {},
     "source": [
      "<h3>Example 1, page no. 694</h3>"
     ]
    },
    {
     "cell_type": "code",
     "collapsed": false,
     "input": [
      "\n",
      "from __future__ import division\n",
      "import math\n",
      "import cmath\n",
      "#initializing  the  variables:\n",
      "A  =  12.5;#  in  cm2\n",
      "x  =  500;#  horizontal  axis  1  cm  =  500  A/m\n",
      "y  =  0.2;#  vertical  axis  1  cm  =  0.2  T\n",
      "f  =  50;#  in  Hz\n",
      "\n",
      " #calculation:  \n",
      " #hysteresis  loss  per  cycle\n",
      "HL  =  A*x*y\n",
      " #At  50  Hz  frequency,  hysteresis  loss\n",
      "HLf  =  HL*f\n",
      "\n",
      "\n",
      "#Results\n",
      "print  \"\\n\\n  Result  \\n\\n\"\n",
      "print  \"\\n(a)hysteresis  loss  per  cycle  is  =  \",HL,\"  J/m3\"\n",
      "print  \"\\n(b)At  50  Hz  frequency,  hysteresis  loss  \",HLf,\"  W/m3\""
     ],
     "language": "python",
     "metadata": {},
     "outputs": [
      {
       "output_type": "stream",
       "stream": "stdout",
       "text": [
        "\n",
        "\n",
        "  Result  \n",
        "\n",
        "\n",
        "\n",
        "(a)hysteresis  loss  per  cycle  is  =   1250.0   J/m3\n",
        "\n",
        "(b)At  50  Hz  frequency,  hysteresis  loss   62500.0   W/m3"
       ]
      }
     ],
     "prompt_number": 1
    },
    {
     "cell_type": "markdown",
     "metadata": {},
     "source": [
      "<h3>Example 2, page no. 695</h3>"
     ]
    },
    {
     "cell_type": "code",
     "collapsed": false,
     "input": [
      "\n",
      "from __future__ import division\n",
      "import math\n",
      "import cmath\n",
      "#initializing  the  variables:\n",
      "n  =  1.6;#  the  Steinmetz  index\n",
      "f1  =  50;#  in  Hz\n",
      "f2  =  25;#  in  Hz\n",
      "Bm1  =  1.5;#  in  Tesla\n",
      "Bm2  =  1.1;#  in  Tesla\n",
      "Ph1  =  62500;#  in  W/m3\n",
      "v  =  1;\n",
      "\n",
      "#calculation:  \n",
      " #hysteresis  loss  Ph  =  kh*v*f*(Bm)**n\n",
      "kh  =  Ph1/(v*f1*(Bm1)**n)\n",
      " #When  f  =  25  Hz  and  Bm  =  1.1  T,\n",
      "Ph2  =  kh*v*f2*(Bm2)**n\n",
      "\n",
      "\n",
      "#Results\n",
      "print  \"\\n\\n  Result  \\n\\n\"\n",
      "print  \"\\n  hysteresis  loss  When  f  =  25  Hz  and  Bm  =  1.1  T,  is  =  \",round(Ph2,2),\"  W/m3\""
     ],
     "language": "python",
     "metadata": {},
     "outputs": [
      {
       "output_type": "stream",
       "stream": "stdout",
       "text": [
        "\n",
        "\n",
        "  Result  \n",
        "\n",
        "\n",
        "\n",
        "  hysteresis  loss  When  f  =  25  Hz  and  Bm  =  1.1  T,  is  =   19025.33   W/m3"
       ]
      }
     ],
     "prompt_number": 2
    },
    {
     "cell_type": "markdown",
     "metadata": {},
     "source": [
      "<h3>Example 3, page no. 695</h3>"
     ]
    },
    {
     "cell_type": "code",
     "collapsed": false,
     "input": [
      "from __future__ import division\n",
      "import math\n",
      "import cmath\n",
      "#initializing  the  variables:\n",
      "csa  =  0.002;#  in  m2\n",
      "l  =  1;#  in  m\n",
      "a  =  400/0.01;#  10  mm  =  400  A/m  \n",
      "b  =  0.1/0.01;#  10  mm  =  0.1  T  \n",
      "A  =  0.01;#  in  m2\n",
      "f  =  80;#  in  Hz\n",
      "\n",
      "#calculation:  \n",
      " #hysteresis  loss  per  cycle\n",
      "HL  =  A*a*b\n",
      " #At  a  frequency  of  80  Hz,\n",
      " #hysteresis  loss\n",
      "HLf  =  HL*f\n",
      " #Volume  of  ring\n",
      "v  =  csa*l\n",
      " #hysteresis  loss\n",
      "Ph  =  HLf*v\n",
      "\n",
      "\n",
      "#Results\n",
      "print  \"\\n\\n  Result  \\n\\n\"\n",
      "print  \"\\n  the  hysteresis  loss  at  a  frequency  of  80  Hz  is  \",Ph,\"  W\""
     ],
     "language": "python",
     "metadata": {},
     "outputs": [
      {
       "output_type": "stream",
       "stream": "stdout",
       "text": [
        "\n",
        "\n",
        "  Result  \n",
        "\n",
        "\n",
        "\n",
        "  the  hysteresis  loss  at  a  frequency  of  80  Hz  is   640.0   W"
       ]
      }
     ],
     "prompt_number": 3
    },
    {
     "cell_type": "markdown",
     "metadata": {},
     "source": [
      "<h3>Example 4, page no. 696</h3>"
     ]
    },
    {
     "cell_type": "code",
     "collapsed": false,
     "input": [
      "\n",
      "from __future__ import division\n",
      "import math\n",
      "import cmath\n",
      "#initializing  the  variables:\n",
      "Phi1  =  0.01;#  in  Wb\n",
      "Phi2  =  0.008;#  in  Wb\n",
      "csa  =  0.008;#  in  m2\n",
      "v  =  0.005;#  in  m3\n",
      "f  =  50;#  in  Hz\n",
      "n  =  1.7;#  the  Steinmetz  constant\n",
      "Ph1  =  100;#  in  Watt\n",
      "\n",
      " #calculation:  \n",
      " #maximum  flux  density\n",
      "Bm1  =  Phi1/csa\n",
      " #hysteresis  loss  Ph1  =  kh*v*f*(Bm1)**n\n",
      "kh  =  Ph1/(v*f*(Bm1)**n)\n",
      " #When  the  maximum  core  flux  is  8  mWb,\n",
      "Bm2  =  Phi2/csa\n",
      " #hysteresis  loss,  Ph2\n",
      "Ph2  =  kh*v*f*(Bm2)**n\n",
      "\n",
      "\n",
      "#Results\n",
      "print  \"\\n\\n  Result  \\n\\n\"\n",
      "print  \"value  of hysteresis  loss  when  maximum  core  flux  is  8  mWb  and  the  frequency  is  50  Hz  is  \",round(Ph2,2),\"  W\""
     ],
     "language": "python",
     "metadata": {},
     "outputs": [
      {
       "output_type": "stream",
       "stream": "stdout",
       "text": [
        "\n",
        "\n",
        "  Result  \n",
        "\n",
        "\n",
        "value  of hysteresis  loss  when  maximum  core  flux  is  8  mWb  and  the  frequency  is  50  Hz  is   68.43   W\n"
       ]
      }
     ],
     "prompt_number": 1
    },
    {
     "cell_type": "markdown",
     "metadata": {},
     "source": [
      "<h3>Example 5, page no. 699</h3>"
     ]
    },
    {
     "cell_type": "code",
     "collapsed": false,
     "input": [
      "\n",
      "from __future__ import division\n",
      "import math\n",
      "import cmath\n",
      "#initializing  the  variables:\n",
      "Pe1  =  10;#  in  W/m3\n",
      "f1  =  50;#  in  Hz\n",
      "f2  =  30;#  in  Hz\n",
      "\n",
      " #calculation:  \n",
      " #When  the  eddy  current  loss  is  10  W/m3,  frequency  f  is  50  Hz.\n",
      " #constant  k\n",
      "k  =  Pe1/(f1**2)\n",
      " #When  the  frequency  is  30  Hz,  eddy  current  loss,\n",
      "Pe2  =  k*(f2**2)\n",
      "\n",
      "\n",
      "#Results\n",
      "print  \"\\n\\n  Result  \\n\\n\"\n",
      "print  \"\\neddy  current  loss  per  cubic  metre  is  \",Pe2,\"  W/m3\""
     ],
     "language": "python",
     "metadata": {},
     "outputs": [
      {
       "output_type": "stream",
       "stream": "stdout",
       "text": [
        "\n",
        "\n",
        "  Result  \n",
        "\n",
        "\n",
        "\n",
        "eddy  current  loss  per  cubic  metre  is   3.6   W/m3"
       ]
      }
     ],
     "prompt_number": 5
    },
    {
     "cell_type": "markdown",
     "metadata": {},
     "source": [
      "<h3>Example 6, page no. 699</h3>"
     ]
    },
    {
     "cell_type": "code",
     "collapsed": false,
     "input": [
      "\n",
      "from __future__ import division\n",
      "import math\n",
      "import cmath\n",
      "#initializing  the  variables:\n",
      "Pe  =  100;#  in  W/m3\n",
      "f1  =  50;#  in  Hz\n",
      "t1  =  0.0005;#  in  m\n",
      "x  =  1/3;\n",
      "f2  =  250;#  in  Hz\n",
      "Bm1 = 1;\n",
      " #calculation:  \n",
      " #Pe  =  ke*(Bm1*f1*t1)**2\n",
      " #Hence,  at  50  Hz  frequency\n",
      "ke  =  Pe/(Bm1*f1*t1)**2\n",
      " #At  250  Hz  frequency\n",
      "Bm2  =  x*Bm1\n",
      "t2  =  ((Pe/ke)**0.5)/(Bm2*f2)\n",
      "\n",
      "\n",
      "#Results\n",
      "print  \"\\n\\n  Result  \\n\\n\"\n",
      "print  \"\\nlamination  thickness  is  \",t2,\"m\""
     ],
     "language": "python",
     "metadata": {},
     "outputs": [
      {
       "output_type": "stream",
       "stream": "stdout",
       "text": [
        "\n",
        "\n",
        "  Result  \n",
        "\n",
        "\n",
        "\n",
        "lamination  thickness  is   0.0003 m"
       ]
      }
     ],
     "prompt_number": 6
    },
    {
     "cell_type": "markdown",
     "metadata": {},
     "source": [
      "<h3>Example 7, page no. 700</h3>"
     ]
    },
    {
     "cell_type": "code",
     "collapsed": false,
     "input": [
      "\n",
      "from __future__ import division\n",
      "import math\n",
      "import cmath\n",
      "#initializing  the  variables:\n",
      "Ph1  =  40;#  in  W\n",
      "Pe1  =  20;#  in  W\n",
      "f1  =  50;#  in  Hz\n",
      "x  =  1/2;\n",
      "f2  =  60;#  in  Hz\n",
      "t1  =  1;\n",
      " #calculation:  \n",
      " #hysteresis  loss  Ph  =  kh*v*f*(Bm)**n  =  k1*f\n",
      " #Thus  when  the  hysteresis  is  40  W  and  the  frequency  50  Hz,\n",
      "k1  =  Ph1/f1\n",
      " #If  the  frequency  is  increased  to  60  Hz,\n",
      "Ph2  =  k1*f2\n",
      " #eddy  current  loss,  Pe  =  ke*(Bm1*f1*t1)**2  =  k2*f**2\n",
      " #since  the  flux  density  and  lamination  thickness  are  constant.\n",
      " #When  the  eddy  current  loss  is  20  W  the  frequency  is  50  Hz.  Thus\n",
      "k2  =  Pe1/(f1**2)\n",
      " #If  the  frequency  is  increased  to  60  Hz,\n",
      "Pe2  =  k2*(f2**2)\n",
      " #hysteresis  loss  Ph  =  kh*v*f*(Bm)**n,  is  independent  of  the  thickness  of  the  laminations.  \n",
      "    #Thus,  if  the  thickness  of  the  laminations  is  halved,  the  hysteresis  loss  remains  at  \n",
      "Phb2  =  Ph1\n",
      " #eddy  current  loss,  Pe  =  ke*(Bm1*f1*t1)**2  =  k2*t**3\n",
      "k3  =  Pe1/(t1**3)\n",
      "t2  =  0.5*t1\n",
      "Peb2  =  k3*t2**3\n",
      " #total  core  loss  when  the  thickness  of  the  laminations  is  halved  is  given  by\n",
      "TL  =  Phb2  +  Peb2\n",
      "\n",
      "\n",
      "#Results\n",
      "print  \"\\n\\n  Result  \\n\\n\"\n",
      "print  \"\\n(a)If  the  frequency  is  increased  to  60  Hz,hysteresis  loss  is  \",Ph2,\"  W  and  eddy  current  loss  \",  Pe2,\"  W\"\n",
      "print  \"\\n(b)the  total  core  loss  when  the  thickness  of  the  laminations  is  halved  \",TL,\"  W\""
     ],
     "language": "python",
     "metadata": {},
     "outputs": [
      {
       "output_type": "stream",
       "stream": "stdout",
       "text": [
        "\n",
        "\n",
        "  Result  \n",
        "\n",
        "\n",
        "\n",
        "(a)If  the  frequency  is  increased  to  60  Hz,hysteresis  loss  is   48.0   W  and  eddy  current  loss   28.8   W\n",
        "\n",
        "(b)the  total  core  loss  when  the  thickness  of  the  laminations  is  halved   42.5   W\n"
       ]
      }
     ],
     "prompt_number": 2
    },
    {
     "cell_type": "markdown",
     "metadata": {},
     "source": [
      "<h3>Example 8, page no. 701</h3>"
     ]
    },
    {
     "cell_type": "code",
     "collapsed": false,
     "input": [
      "\n",
      "from __future__ import division\n",
      "import math\n",
      "import cmath\n",
      "#initializing  the  variables:\n",
      "V1  =  500;#  in  Volts\n",
      "V2  =  1000;#  in  Volts\n",
      "Ph1  =  400;#  in  W\n",
      "Pe1  =  150;#  in  W\n",
      "f1  =  50;#  in  Hz\n",
      "n  =  1.6;#  Steinmetz  index\n",
      "f2  =  100;#  in  Hz\n",
      "\n",
      " #calculation:  \n",
      " #hysteresis  loss  Ph  =  k1*f*(E/f)**n\n",
      " #At  500  V  and  50  Hz\n",
      "k1  =  Ph1/(f1*(V1/f1)**1.6)\n",
      " #At  1000  V  and  100  Hz,\n",
      "Ph2  =  k1*f2*(V2/f2)**1.6\n",
      " #eddy  current  loss,  Pe  =  k2*E**2\n",
      " #At  500  V,\n",
      "k2  =  Pe1/(V1**2)\n",
      " #At  1000  V,\n",
      "Pe2  =  k2*(V2**2)\n",
      " #the  new  total  core  loss\n",
      "TL  =  Ph2  +  Pe2\n",
      "\n",
      "\n",
      "#Results\n",
      "print  \"\\n\\n  Result  \\n\\n\"\n",
      "print  \"\\n  the  new  total  core  loss  \",TL,\"  W\""
     ],
     "language": "python",
     "metadata": {},
     "outputs": [
      {
       "output_type": "stream",
       "stream": "stdout",
       "text": [
        "\n",
        "\n",
        "  Result  \n",
        "\n",
        "\n",
        "\n",
        "  the  new  total  core  loss   1400.0   W"
       ]
      }
     ],
     "prompt_number": 8
    },
    {
     "cell_type": "markdown",
     "metadata": {},
     "source": [
      "<h3>Example 9, page no. 702</h3>"
     ]
    },
    {
     "cell_type": "code",
     "collapsed": false,
     "input": [
      "\n",
      "from __future__ import division\n",
      "import math\n",
      "import cmath\n",
      "#from pylab import *\n",
      "%matplotlib inline\n",
      "#initializing  the  variables:\n",
      "f1  =  50;#  in  Hz\n",
      "f2  =  60;#  in  Hz\n",
      "\n",
      "#calculation:\n",
      "k1  =  0.5\n",
      "k2  =  0.032\n",
      "f = [30, 50, 70,90]\n",
      "Pcf = [1.5, 2.1, 2.7, 3.4]\n",
      "fig  = plt.figure()\n",
      "ax = fig.add_subplot(1, 1, 1)\n",
      "ax.plot(f,Pcf,'-')\n",
      "xlabel('f')\n",
      "ylabel('Pc/f')\n",
      "show()\n",
      "HL1 = k1*f1\n",
      "ECL1 = k2*f1**2\n",
      "\n",
      "HL2 = k1*f2\n",
      "ECL2 = k2*f2**2\n",
      "\n",
      "#Results\n",
      "print  \"\\n\\n  Result  \\n\\n\"\n",
      "print  \"\\n  (a) at Frequency = 50 Hz, hysteresis loss is\", HL1,\" W and eddy current loss is\", ECL1,\" W\"\n",
      "print  \"\\n  (b) at Frequency = 60 Hz, hysteresis loss is\", HL2,\" W and eddy current loss is\", ECL2,\" W\""
     ],
     "language": "python",
     "metadata": {},
     "outputs": [
      {
       "output_type": "stream",
       "stream": "stdout",
       "text": [
        "\n",
        "Welcome to pylab, a matplotlib-based Python environment [backend: module://IPython.zmq.pylab.backend_inline].\n",
        "For more information, type 'help(pylab)'."
       ]
      },
      {
       "metadata": {},
       "output_type": "display_data",
       "png": "[encoded data removed]"
      },
      {
       "output_type": "stream",
       "stream": "stdout",
       "text": [
        "\n",
        "\n",
        "  Result  \n",
        "\n",
        "\n",
        "\n",
        "  (a) at Frequency = 50 Hz, hysteresis loss is 25.0  W and eddy current loss is 80.0  W\n",
        "\n",
        "  (b) at Frequency = 60 Hz, hysteresis loss is 30.0  W and eddy current loss is 115.2  W"
       ]
      }
     ],
     "prompt_number": 1
    },
    {
     "cell_type": "markdown",
     "metadata": {},
     "source": [
      "<h3>Example 10, page no. 703</h3>"
     ]
    },
    {
     "cell_type": "code",
     "collapsed": false,
     "input": [
      "\n",
      "from __future__ import division\n",
      "import math\n",
      "import cmath\n",
      "#initializing  the  variables:\n",
      "TL1  =  400;#  in  Watt\n",
      "TL2  =  498;#  in  Watt\n",
      "x  =  0.25;\n",
      "y  =  0.4;\n",
      "f1  =  50;#  in  Hz\n",
      "n  =  1.7;#  Steinmetz  index\n",
      "f2  =  60;#  in  Hz\n",
      "\n",
      " #calculation:  \n",
      " #if  volume  v  and  the  maximum  flux  density  are  constant\n",
      " #hysteresis  loss  Ph  =  kh*v*f*(Bm)**n  =  k1*f\n",
      " #(if  the  maximum  flux  density  and  the  lamination  thickness  are  constant)\n",
      " #eddy  current  loss,  Pe  =  ke*(Bm1*f1*t1)**2  =  k2*f**2\n",
      " #At  50  Hz  frequency,  TL1  =  k1*f1  +  k2*f1**2\n",
      " #At  60  Hz  frequency,  TL2  =  k1*f2  +  k2*f2**2\n",
      " #Solving  equations  gives  the  values  of  k1  and  k2.\n",
      "k2  =  (5*TL2  -  6*TL1)/(5*(f2**2)  -  6*(f1**2))\n",
      "k1  =  (TL1  -  k2*f1**2)/f1\n",
      " #hysteresis  loss  Ph  =  k1*f\n",
      "Ph1  =  k1*f1\n",
      " #eddy  current  loss\n",
      "Pe1  =  k2*f1**2\n",
      " #Since  at  50  Hz  the  flux  density  is  increased  by  25%,  the  new  hysteresis  loss  is\n",
      "Ph2  =  Ph1*(1  +  x)**1.7\n",
      " #Since  at  50  Hz  the  flux  density  is  increased  by  25%,  and  the  lamination  thickness  is  increased  by  40%, \n",
      "    #the  new  eddy  current  loss  is\n",
      "Pe2  =  Pe1*((1  +  x)**2)*(1  +  y)**3\n",
      "\n",
      "\n",
      "#Results\n",
      "print  \"\\n\\n  Result  \\n\\n\"\n",
      "print  \"\\n  (a)the  hysteresis  and  eddy  current  losses  at  50  Hz  are  \",round(Ph1,2),\"  W  and  \",round(  Pe1,2),\"  W  resp.\"\n",
      "print  \"\\n  (b)the  hysteresis  and  eddy  current  losses  at  50  Hz  after  increement  are  \",round(Ph2,2),\"  W  and  \",round(  Pe2,2),\"  W  resp.\""
     ],
     "language": "python",
     "metadata": {},
     "outputs": [
      {
       "output_type": "stream",
       "stream": "stdout",
       "text": [
        "\n",
        "\n",
        "  Result  \n",
        "\n",
        "\n",
        "\n",
        "  (a)the  hysteresis  and  eddy  current  losses  at  50  Hz  are   325.0   W  and   75.0   W  resp.\n",
        "\n",
        "  (b)the  hysteresis  and  eddy  current  losses  at  50  Hz  after  increement  are   474.93   W  and   321.56   W  resp.\n"
       ]
      }
     ],
     "prompt_number": 3
    }
   ],
   "metadata": {}
  }
 ]
}