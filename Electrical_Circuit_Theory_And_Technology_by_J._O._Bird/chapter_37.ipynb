{
 "metadata": {
  "name": "",
  "signature": "sha256:b6595de1d338f736a24eaed6908c5a0f3d88a34ed3ba7d5f05822513e391d985"
 },
 "nbformat": 3,
 "nbformat_minor": 0,
 "worksheets": [
  {
   "cells": [
    {
     "cell_type": "heading",
     "level": 1,
     "metadata": {},
     "source": [
      "A numerical method of harmonic analysis"
     ]
    }
   ],
   "metadata": {}
  }
 ]
}