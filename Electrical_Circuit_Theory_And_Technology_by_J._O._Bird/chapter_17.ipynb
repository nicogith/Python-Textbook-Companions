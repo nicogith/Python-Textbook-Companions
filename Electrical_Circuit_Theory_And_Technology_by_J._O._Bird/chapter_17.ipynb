{
 "metadata": {
  "name": "",
  "signature": "sha256:ca1c7401f018e12f4456a542a7349262c450bbcce53eee5003079be7be1331af"
 },
 "nbformat": 3,
 "nbformat_minor": 0,
 "worksheets": [
  {
   "cells": [
    {
     "cell_type": "markdown",
     "metadata": {},
     "source": [
      "<h1>Chapter 17: D.c. transients</h1>"
     ]
    },
    {
     "cell_type": "markdown",
     "metadata": {},
     "source": [
      "<h3>Example 1, page no. 262</h3>"
     ]
    },
    {
     "cell_type": "code",
     "collapsed": false,
     "input": [
      "\n",
      "from __future__ import division\n",
      "import math\n",
      "#from pylab import *\n",
      "%matplotlib inline\n",
      "#initializing  the  variables:\n",
      "C  =  15E-6;#  in  Farads\n",
      "R  =  47000;#  in  ohms\n",
      "V  =  120;#  in  Volts\n",
      "\n",
      "#calculation:\n",
      "tou  =  R*C\n",
      "t1  =  tou\n",
      "Vctou  =  V*(1-math.e**(-1*t1/tou))\n",
      "Vct  =  V/2\n",
      "t0  =  -1*tou*math.log(1  -  Vct/V)\n",
      "t=[]\n",
      "Vc=[]\n",
      "I  =  V/R\n",
      "for h in range(50):\n",
      "    t.append((h-1)/10)\n",
      "    k=(h-1)/10\n",
      "    Vc.append(V*(1 - math.e**(-1*k/tou)))\n",
      "fig  = plt.figure()\n",
      "ax = fig.add_subplot(1, 1, 1)\n",
      "ax.plot(t,Vc,'-')\n",
      "#plot(t,Vc,'-')\n",
      "xlabel('time(sec)')\n",
      "ylabel('Volts(V)')\n",
      "show()\n",
      "\n",
      "#Results\n",
      "print  \"\\n\\n  Result  \\n\\n\"\n",
      "print  \"\\n  (a)the  capacitor  voltage  at  a  time  equal  to  one  time  constant  =  \",round(Vctou,2),\"  V\"\n",
      "print  \"\\n  (b)the  time  for  the  capacitor  voltage  to  reach  one  half  of  its  steady  state  value  =  \",round(t0,5),\" secs\""
     ],
     "language": "python",
     "metadata": {},
     "outputs": [
      {
       "output_type": "stream",
       "stream": "stdout",
       "text": [
        "Populating the interactive namespace from numpy and matplotlib\n"
       ]
      },
      {
       "metadata": {},
       "output_type": "display_data",
       "png": "[encoded data removed]",
       "text": [
        "<matplotlib.figure.Figure at 0x34660b8>"
       ]
      },
      {
       "output_type": "stream",
       "stream": "stdout",
       "text": [
        "\n",
        "\n",
        "  Result  \n",
        "\n",
        "\n",
        "\n",
        "  (a)the  capacitor  voltage  at  a  time  equal  to  one  time  constant  =   75.85   V\n",
        "\n",
        "  (b)the  time  for  the  capacitor  voltage  to  reach  one  half  of  its  steady  state  value  =   0.48867  secs\n"
       ]
      }
     ],
     "prompt_number": 1
    },
    {
     "cell_type": "markdown",
     "metadata": {},
     "source": [
      "<h3>Example 2, page no. 263</h3>"
     ]
    },
    {
     "cell_type": "code",
     "collapsed": false,
     "input": [
      "\n",
      "from __future__ import division\n",
      "import math\n",
      "#from pylab import *\n",
      "%matplotlib inline\n",
      "#initializing  the  variables:\n",
      "C  =  4E-6;#  in  Farads\n",
      "R  =  220000;#  in  ohms\n",
      "V  =  24;#  in  Volts\n",
      "t1  =  1.5;#  in  secs\n",
      "\n",
      "#calculation:\n",
      "tou  =  R*C\n",
      "I  =  V/R\n",
      "\n",
      "t=[]\n",
      "Vc=[]\n",
      "for h in range(50):\n",
      "    t.append((h-1)/10)\n",
      "    k=(h-1)/10\n",
      "    Vc.append(V*math.e**(-1*k/tou))\n",
      "#plt.figsize(10,8)\n",
      "fig  = plt.figure()\n",
      "#canvas = fc(fig)\n",
      "ax = fig.add_subplot(1, 1, 1)\n",
      "ax.plot(t,Vc,'-')\n",
      "#plot(t,Vc,'-')\n",
      "xlabel('time(sec)')\n",
      "ylabel('P.D across Capacitor(V)')\n",
      "show()\n",
      "\n",
      "t=[]\n",
      "VR=[]\n",
      "for h in range(50):\n",
      "    t.append((h-1)/10)\n",
      "    k=(h-1)/10\n",
      "    VR.append(V*(1 - math.e**(-1*k/tou)))\n",
      "fig  = plt.figure()\n",
      "#canvas = fc(fig)\n",
      "ax = fig.add_subplot(1, 1, 1)\n",
      "ax.plot(t,VR,'-')\n",
      "#plot(t,VR,'-*')\n",
      "xlabel('time(sec)')\n",
      "ylabel('P.D across Resistor(V)')\n",
      "show()\n",
      "\n",
      "t=[]\n",
      "i=[]\n",
      "for h in range(50):\n",
      "    t.append((h-1)/10)\n",
      "    k=(h-1)/10\n",
      "    i.append(I*math.e**(-1*k/tou))\n",
      "fig  = plt.figure()\n",
      "#canvas = fc(fig)\n",
      "ax = fig.add_subplot(1, 1, 1)\n",
      "ax.plot(t,i,'-')\n",
      "#plot(t,i,'*-')\n",
      "xlabel('time(sec)')\n",
      "ylabel('current(A)')\n",
      "show()\n",
      "\n",
      "Vct1  =  V*math.e**(-1*t1/tou)\n",
      "VRt1  =  V*math.e**(-1*t1/tou)\n",
      "it1   =  I*math.e**(-1*t1/tou)\n",
      "\n",
      "\n",
      "#Results\n",
      "print  \"\\n\\n  Result  \\n\\n\"\n",
      "print  \"\\n  the  value  of  capacitor  voltage  is  \",round(Vct1,1),\"  V,  resistor  voltage  is  \",round(VRt1,1),\"  V,\"\n",
      "print  \"current  is  \",round(0.02,2),\"  mA  at  one  and  a  half  seconds  after  discharge  has  started.\""
     ],
     "language": "python",
     "metadata": {},
     "outputs": [
      {
       "output_type": "stream",
       "stream": "stdout",
       "text": [
        "Populating the interactive namespace from numpy and matplotlib\n"
       ]
      },
      {
       "metadata": {},
       "output_type": "display_data",
       "png": "[encoded data removed]",
       "text": [
        "<matplotlib.figure.Figure at 0x77c6e10>"
       ]
      },
      {
       "metadata": {},
       "output_type": "display_data",
       "png": "[encoded data removed]",
       "text": [
        "<matplotlib.figure.Figure at 0x7b9e4a8>"
       ]
      },
      {
       "metadata": {},
       "output_type": "display_data",
       "png": "[encoded data removed]",
       "text": [
        "<matplotlib.figure.Figure at 0x7bac898>"
       ]
      },
      {
       "output_type": "stream",
       "stream": "stdout",
       "text": [
        "\n",
        "\n",
        "  Result  \n",
        "\n",
        "\n",
        "\n",
        "  the  value  of  capacitor  voltage  is   4.4   V,  resistor  voltage  is   4.4   V,\n",
        "current  is   0.02   mA  at  one  and  a  half  seconds  after  discharge  has  started.\n"
       ]
      }
     ],
     "prompt_number": 8
    },
    {
     "cell_type": "markdown",
     "metadata": {},
     "source": [
      "<h3>Example 3, page no. 265</h3>"
     ]
    },
    {
     "cell_type": "code",
     "collapsed": false,
     "input": [
      "\n",
      "from __future__ import division\n",
      "import math\n",
      "#initializing  the  variables:\n",
      "C  =  20E-6;#  in  Farads\n",
      "R  =  50000;#  in  ohms\n",
      "V  =  20;#  in  Volts\n",
      "t1  =  1;#  in  secs\n",
      "t2  =  2;#  in  secs\n",
      "VRt  =  15;#  in  Volts\n",
      "\n",
      "#calculation:\n",
      "tou  =  R*C\n",
      "I  =  V/R\n",
      "Vct1  =  V*(1-math.e**(-1*t2/tou))\n",
      "t3  =  -1*tou*math.log(VRt/V)\n",
      "it1  =  I*math.e**(-1*t1/tou)\n",
      "\n",
      "\n",
      "#Results\n",
      "print  \"\\n\\n  Result  \\n\\n\"\n",
      "print  \"\\n  (a)initial  value  of  the  current  flowing  is  \",round(I*1000,1),\"mA\"\n",
      "print  \"\\n  (b)time  constant  of  the  circuit  \",round(tou,2),\"  Sec\"\n",
      "print  \"\\n  (c)the  value  of  the  current  one  second  after  connection,  \",round((it1/1E-3),3),\"  mA\"\n",
      "print  \"\\n  (d)the  value  of  the  capacitor  voltage  two  seconds  after  connection  \",round(Vct1,1),\"  V\"\n",
      "print  \"\\n  (e)the  time  after  connection  when  the  resistor  voltage  is  15  V  is  \",round(t3,3),\"  sec\""
     ],
     "language": "python",
     "metadata": {},
     "outputs": [
      {
       "output_type": "stream",
       "stream": "stdout",
       "text": [
        "\n",
        "\n",
        "  Result  \n",
        "\n",
        "\n",
        "\n",
        "  (a)initial  value  of  the  current  flowing  is   0.4 mA\n",
        "\n",
        "  (b)time  constant  of  the  circuit   1.0   Sec\n",
        "\n",
        "  (c)the  value  of  the  current  one  second  after  connection,   0.147   mA\n",
        "\n",
        "  (d)the  value  of  the  capacitor  voltage  two  seconds  after  connection   17.3   V\n",
        "\n",
        "  (e)the  time  after  connection  when  the  resistor  voltage  is  15  V  is   0.288   sec\n"
       ]
      }
     ],
     "prompt_number": 9
    },
    {
     "cell_type": "markdown",
     "metadata": {},
     "source": [
      "<h3>Example 17.4, page no. 266</h3>"
     ]
    },
    {
     "cell_type": "code",
     "collapsed": false,
     "input": [
      "\n",
      "from __future__ import division\n",
      "import math\n",
      "#initializing  the  variables:\n",
      "C  =  0.5E-6;#  in  Farads\n",
      "V  =  10;#  in  Volts\n",
      "tou  =  0.012;#  in  secs\n",
      "t1  =  0.007;#  in  secs\n",
      "\n",
      "#calculation:\n",
      "R  =  tou/C\n",
      "Vc  =  V*(1-math.e**(-1*t1/tou))\n",
      "\n",
      "\n",
      "#Results\n",
      "print  \"\\n\\n  Result  \\n\\n\"\n",
      "print  \"\\n  (a)value  of  the  resistor  is  \",R,\"  ohm\"\n",
      "print  \"\\n  (b)capacitor  voltage  is  \",round(Vc,2),\"  V\""
     ],
     "language": "python",
     "metadata": {},
     "outputs": [
      {
       "output_type": "stream",
       "stream": "stdout",
       "text": [
        "\n",
        "\n",
        "  Result  \n",
        "\n",
        "\n",
        "\n",
        "  (a)value  of  the  resistor  is   24000.0   ohm\n",
        "\n",
        "  (b)capacitor  voltage  is   4.42   V\n"
       ]
      }
     ],
     "prompt_number": 10
    },
    {
     "cell_type": "markdown",
     "metadata": {},
     "source": [
      "<h3>Example 5, page no. 267</h3>"
     ]
    },
    {
     "cell_type": "code",
     "collapsed": false,
     "input": [
      "\n",
      "from __future__ import division\n",
      "import math\n",
      "#initializing  the  variables:\n",
      "R  =  50000;#  in  ohms\n",
      "V  =  100;#  in  Volts\n",
      "Vc1  =  20;#  in  Volts\n",
      "tou  =  0.8;#  in  secs\n",
      "t1  =  0.5;#  in  secs\n",
      "t2  =  1;#  in  secs\n",
      "\n",
      "#calculation:\n",
      "C  =  tou/R\n",
      "t  =  -1*tou*math.log(Vc1/V)\n",
      "I  =  V/R\n",
      "it1  =  I*math.e**(-1*t1/tou)\n",
      "Vc  =  V*math.e**(-1*t2/tou)\n",
      "\n",
      "\n",
      "#Results\n",
      "print  \"\\n\\n  Result  \\n\\n\"\n",
      "print  \"\\n  (a)the  value  of  the  capacitor  is  \",round((C/1E-6),2),\"uF\"\n",
      "print  \"\\n  (b)the  time  for  the  capacitor  voltage  to  fall  to  20  V  is  \",round(t,2),\"  sec\"\n",
      "print  \"\\n  (c)the  current  flowing  when  the  capacitor  has  been  discharging  for  0.5  s  is  \",round(it1*1000,2),\"mA\"\n",
      "print  \"\\n  (d)voltage  drop  across  resistor  when  the  capacitor  has  been  discharging  for  one  second  is  \",round(Vc,1),\"  V\""
     ],
     "language": "python",
     "metadata": {},
     "outputs": [
      {
       "output_type": "stream",
       "stream": "stdout",
       "text": [
        "\n",
        "\n",
        "  Result  \n",
        "\n",
        "\n",
        "\n",
        "  (a)the  value  of  the  capacitor  is   16.0 uF\n",
        "\n",
        "  (b)the  time  for  the  capacitor  voltage  to  fall  to  20  V  is   1.29   sec\n",
        "\n",
        "  (c)the  current  flowing  when  the  capacitor  has  been  discharging  for  0.5  s  is   1.07 mA\n",
        "\n",
        "  (d)voltage  drop  across  resistor  when  the  capacitor  has  been  discharging  for  one  second  is   28.7   V\n"
       ]
      }
     ],
     "prompt_number": 11
    },
    {
     "cell_type": "markdown",
     "metadata": {},
     "source": [
      "<h3>Example 6 page no. 268</h3>"
     ]
    },
    {
     "cell_type": "code",
     "collapsed": false,
     "input": [
      "\n",
      "from __future__ import division\n",
      "import math\n",
      "#initializing  the  variables:\n",
      "C  =  0.1E-6;#  in  Farads\n",
      "R  =  4000;#  in  ohms\n",
      "V  =  200;#  in  Volts\n",
      "Vc1  =  2;#  in  Volts\n",
      "\n",
      "#calculation:\n",
      "tou  =  R*C\n",
      "I  =  V/R\n",
      "t  =  -1*tou*math.log(Vc1/V)\n",
      "\n",
      "\n",
      "#Results\n",
      "print  \" \\n\\n  Result  \\n\\n\"\n",
      "print  \"\\n  (a)  initial  discharge  current  is  \",round(I,2),\"  A\"\n",
      "print  \"\\n  (b)Time  constant  tou  is  \",round(tou,5),\"  sec\"\n",
      "print  \"\\n  (c)min.  time  required  for voltage  across capacitor  to  fall  to  less  than  2  V  is  \",round(t*1000,0),\"  msec\""
     ],
     "language": "python",
     "metadata": {},
     "outputs": [
      {
       "output_type": "stream",
       "stream": "stdout",
       "text": [
        " \n",
        "\n",
        "  Result  \n",
        "\n",
        "\n",
        "\n",
        "  (a)  initial  discharge  current  is   0.05   A\n",
        "\n",
        "  (b)Time  constant  tou  is   0.0004   sec\n",
        "\n",
        "  (c)min.  time  required  for voltage  across capacitor  to  fall  to  less  than  2  V  is   2.0   msec\n"
       ]
      }
     ],
     "prompt_number": 12
    },
    {
     "cell_type": "markdown",
     "metadata": {},
     "source": [
      "<h3>Example 7, page no. 270</h3>"
     ]
    },
    {
     "cell_type": "code",
     "collapsed": false,
     "input": [
      "\n",
      "from __future__ import division\n",
      "import math\n",
      "from pylab import *\n",
      "#initializing  the  variables:\n",
      "L  =  0.1;#  in  Henry\n",
      "R  =  20;#  in  ohms\n",
      "V  =  60;#  in  Volts\n",
      "i2  =  1.5;#  in  Amperes\n",
      "\n",
      "#calculation:\n",
      "tou  =  L/R\n",
      "t1  =  2*tou\n",
      "\n",
      "t=[]\n",
      "i=[]\n",
      "I  =  V/R\n",
      "for h in range(250):\n",
      "    t.append((h-1)/10000)\n",
      "    k=(h-1)/10000\n",
      "    i.append(I*(1  -  math.e**(-1*k/tou)))\n",
      "plot(t,i,'-')\n",
      "xlabel('time(sec)')\n",
      "ylabel('current(A)')\n",
      "show()\n",
      "i1  =  I*(1  -  math.e**(-1*t1/tou))\n",
      "t2  =  -1*tou*math.log(1  -  i2/I)\n",
      "\n",
      "\n",
      "#Results\n",
      "print  \" \\n\\n  Result  \\n\\n\"\n",
      "print  \"\\n  (a)  the  value  of  current  flowing  at  a  time  equal  to  two  time  constants  is  \",round(i1,2),\"  A\"\n",
      "print  \"\\n  (b)the  time  for  the  current  to  grow  to  1.5  A  is  \",round(t2,5),\"  sec\""
     ],
     "language": "python",
     "metadata": {},
     "outputs": [
      {
       "metadata": {},
       "output_type": "display_data",
       "png": "[encoded data removed]",
       "text": [
        "<matplotlib.figure.Figure at 0x7b9d748>"
       ]
      },
      {
       "output_type": "stream",
       "stream": "stdout",
       "text": [
        " \n",
        "\n",
        "  Result  \n",
        "\n",
        "\n",
        "\n",
        "  (a)  the  value  of  current  flowing  at  a  time  equal  to  two  time  constants  is   2.59   A\n",
        "\n",
        "  (b)the  time  for  the  current  to  grow  to  1.5  A  is   0.00347   sec\n"
       ]
      }
     ],
     "prompt_number": 13
    },
    {
     "cell_type": "markdown",
     "metadata": {},
     "source": [
      "<h3>Example 8, page no. 271</h3>"
     ]
    },
    {
     "cell_type": "code",
     "collapsed": false,
     "input": [
      "\n",
      "from __future__ import division\n",
      "import math\n",
      "#initializing  the  variables:\n",
      "L  =  0.04;#  in  Henry\n",
      "R  =  10;#  in  ohms\n",
      "V  =  120;#  in  Volts\n",
      "\n",
      "#calculation:\n",
      "tou  =  L/R\n",
      "t1  =  tou\n",
      "I  =  V/R\n",
      "i1  =  I*(1  -  math.e**(-1*t1/tou))\n",
      "i2  =  0.01*I\n",
      "t2  =  -1*tou*(-5)\n",
      "\n",
      "\n",
      "#Results\n",
      "print  \"\\n\\n  Result  \\n\\n\"\n",
      "print  \"\\n  (a)  the  final  value  of  current  is  \",round(I,2),\"  A\"\n",
      "print  \"\\n  (b)time  constant  of  the  circuit  is  \",round(tou*1000,2),\"msec\"\n",
      "print  \"\\n  (c)  value  of  current  after  a  time  equal  to  the  time  constant  is  \",round(i1,2),\"  A\"\n",
      "print  \"\\n  (d)expected  time  for  current  to  rise  to  within  0.01  times  of  its  final  value  is  \",round(t2*1000,2),\"msec\""
     ],
     "language": "python",
     "metadata": {},
     "outputs": [
      {
       "output_type": "stream",
       "stream": "stdout",
       "text": [
        "\n",
        "\n",
        "  Result  \n",
        "\n",
        "\n",
        "\n",
        "  (a)  the  final  value  of  current  is   12.0   A\n",
        "\n",
        "  (b)time  constant  of  the  circuit  is   4.0 msec\n",
        "\n",
        "  (c)  value  of  current  after  a  time  equal  to  the  time  constant  is   7.59   A\n",
        "\n",
        "  (d)expected  time  for  current  to  rise  to  within  0.01  times  of  its  final  value  is   20.0 msec\n"
       ]
      }
     ],
     "prompt_number": 14
    },
    {
     "cell_type": "markdown",
     "metadata": {},
     "source": [
      "<h3>Example 9, page no. 271</h3>"
     ]
    },
    {
     "cell_type": "code",
     "collapsed": false,
     "input": [
      "\n",
      "from __future__ import division\n",
      "import math\n",
      "#initializing  the  variables:\n",
      "L  =  3;#  in  Henry\n",
      "R  =  15;#  in  ohms\n",
      "V  =  120;#  in  Volts\n",
      "t1  =  0.1;#  in  secs\n",
      "t3  =  0.3;#  in  secs\n",
      "\n",
      "#calculation:\n",
      "tou  =  L/R\n",
      "I  =  V/R\n",
      "i2  =  0.85*I;#  in  amperes\n",
      "VL  =  V*math.e**(-1*t1/tou)\n",
      "t2  =  -1*tou*math.log(1  -  (i2/I))\n",
      "i3  =  I*(1  -  math.e**(-1*t3/tou))\n",
      "\n",
      "\n",
      "#Results\n",
      "print  \"\\n\\n  Results  \\n\\n\"\n",
      "print  \"\\n  (a)  steady  state  value  of  current  is  \",round(I,2),\"  A\"\n",
      "print  \"\\n  (b)time  constant  of  the  circuit  is  \",round(tou,2),\"  sec\"\n",
      "print  \"\\n  (c)value  of  the  induced  e.m.f.  after  0.1  s  is  \",round(VL,2),\"  V\"\n",
      "print  \"\\n  (d)  time  for  the  current  to  rise  to  0.85  times  of  its  final  values  is  \",round(t2,2),\"  A\"\n",
      "print  \"\\n  (e)value  of  the  current  after  0.3  s  is  \",round(i3,2),\"  A\""
     ],
     "language": "python",
     "metadata": {},
     "outputs": [
      {
       "output_type": "stream",
       "stream": "stdout",
       "text": [
        "\n",
        "\n",
        "  Results  \n",
        "\n",
        "\n",
        "\n",
        "  (a)  steady  state  value  of  current  is   8.0   A\n",
        "\n",
        "  (b)time  constant  of  the  circuit  is   0.2   sec\n",
        "\n",
        "  (c)value  of  the  induced  e.m.f.  after  0.1  s  is   72.78   V\n",
        "\n",
        "  (d)  time  for  the  current  to  rise  to  0.85  times  of  its  final  values  is   0.38   A\n",
        "\n",
        "  (e)value  of  the  current  after  0.3  s  is   6.21   A\n"
       ]
      }
     ],
     "prompt_number": 15
    },
    {
     "cell_type": "markdown",
     "metadata": {},
     "source": [
      "<h3>Example 10, page no. 273</h3>"
     ]
    },
    {
     "cell_type": "code",
     "collapsed": false,
     "input": [
      "\n",
      "from __future__ import division\n",
      "import math\n",
      "from pylab import *\n",
      "#initializing  the  variables:\n",
      "R  =  15;#  in  ohms\n",
      "V  =  110;#  in  Volts\n",
      "tou  =  2;#  in  secs\n",
      "t1  = 3;#  in  secs\n",
      "i2  = 5;#  in  amperes\n",
      "\n",
      "#calculation:\n",
      "L  =  tou*R\n",
      "I  =  V/R\n",
      "\n",
      "t=[]\n",
      "i=[]\n",
      "for h in range(100):\n",
      "    t.append((h-1)/10)\n",
      "    k=(h-1)/10\n",
      "    i.append(I*math.e**(-1*k/tou))\n",
      "plot(t,i,'-')\n",
      "xlabel('time(sec)')\n",
      "ylabel('current(A)')\n",
      "show()\n",
      "i1  =  I*(math.e**(-1*t1/tou))\n",
      "t2  =  -1*tou*log((i2/I))\n",
      "\n",
      "\n",
      "#Results\n",
      "print  \" \\n\\n  Result  \\n\\n\"\n",
      "print  \"\\n  (a)the  current  flowing  in  the  winding  3  s  after  being  shorted-out  is  \",round(i1,2),\"  A\"\n",
      "print  \"\\n  (b)the  time  for  the  current  to  decay  to  5  A  is  \",round(t2,2),\"  sec\""
     ],
     "language": "python",
     "metadata": {},
     "outputs": [
      {
       "metadata": {},
       "output_type": "display_data",
       "png": "[encoded data removed]",
       "text": [
        "<matplotlib.figure.Figure at 0x77abf28>"
       ]
      },
      {
       "output_type": "stream",
       "stream": "stdout",
       "text": [
        " \n",
        "\n",
        "  Result  \n",
        "\n",
        "\n",
        "\n",
        "  (a)the  current  flowing  in  the  winding  3  s  after  being  shorted-out  is   1.64   A\n",
        "\n",
        "  (b)the  time  for  the  current  to  decay  to  5  A  is   0.77   sec\n"
       ]
      }
     ],
     "prompt_number": 16
    },
    {
     "cell_type": "markdown",
     "metadata": {},
     "source": [
      "<h3>Example 11, page no. 273</h3>"
     ]
    },
    {
     "cell_type": "code",
     "collapsed": false,
     "input": [
      "\n",
      "from __future__ import division\n",
      "import math\n",
      "#initializing  the  variables:\n",
      "L  =  6;#  in  Henry\n",
      "r  =  10;#  in  ohms\n",
      "V  =  120;#  in  Volts\n",
      "tou  =  0.3;#  in  secs\n",
      "t1  =  1;#  in  secs\n",
      "\n",
      "#calculation:\n",
      "R  =  (L/tou)  -  r\n",
      "Rt  =  R  +  r\n",
      "I  =  V/Rt\n",
      "i2  =  0.1*I\n",
      "i1  =  I*(math.e**(-1*t1/tou))\n",
      "t2  =  -1*tou*math.log((i2/I))\n",
      "\n",
      "\n",
      "#Results\n",
      "print  \"  \\n\\n  Result  \\n\\n\"\n",
      "print  \"\\n  (a)  resistance  of  the  coil  is  \",round(R,2),\"  ohm\"\n",
      "print  \"\\n  (b)  current  flowing  in  circuit  one  second  after  the  shorting  link  has  been  placed  is  \",round(i1,2),\"  A\"\n",
      "print  \"\\n  (c)the  time  for  the  current  to  decay  to  0.1  times  of  initial  value  is  \",round(t2,2),\"  sec\""
     ],
     "language": "python",
     "metadata": {},
     "outputs": [
      {
       "output_type": "stream",
       "stream": "stdout",
       "text": [
        "  \n",
        "\n",
        "  Result  \n",
        "\n",
        "\n",
        "\n",
        "  (a)  resistance  of  the  coil  is   10.0   ohm\n",
        "\n",
        "  (b)  current  flowing  in  circuit  one  second  after  the  shorting  link  has  been  placed  is   0.21   A\n",
        "\n",
        "  (c)the  time  for  the  current  to  decay  to  0.1  times  of  initial  value  is   0.69   sec\n"
       ]
      }
     ],
     "prompt_number": 17
    },
    {
     "cell_type": "markdown",
     "metadata": {},
     "source": [
      "<h3>Example 12, page no. 274</h3>"
     ]
    },
    {
     "cell_type": "code",
     "collapsed": false,
     "input": [
      "\n",
      "from __future__ import division\n",
      "import math\n",
      "#initializing  the  variables:\n",
      "L  =  0.2;#  in  Henry\n",
      "R  =  1000;#  in  ohms\n",
      "V  =  24;#  in  Volts\n",
      "t1  =  1*L/R;#  in  secs\n",
      "t2  =  2*L/R;#  in  secs\n",
      "t3  =  3*L/R;#  in  secs\n",
      "\n",
      "#calculation:\n",
      "tou  =  L/R\n",
      "I  =  V/R\n",
      "i1  =  I*(1  -  math.e**(-1*t1/tou))\n",
      "VL  =  V*(math.e**(-1*t2/tou))\n",
      "VR  =  V*(1  -  math.e**(-1*t3/tou))\n",
      "\n",
      "\n",
      "#Results\n",
      "print  \"\\n\\n  Result  \\n\\n\"\n",
      "print  \"\\n  time  constant  of  circuit  is  \",round(tou*1000,6),\"msec, and steady-state  value  of current  is  \",round(I*1000,2),\"mA\"\n",
      "print  \"\\n  (a)  urrent  flowing  in  the  circuit  at  a  time  equal  to  one  time  constant  is  \",round(i1*1000,2),\"mA\"\n",
      "print  \"\\n  (b)  voltage  drop  across  the  inductor  at  a  time  equal  to  two  time  constants  is  \",round(VL,3),\"  V\"\n",
      "print  \"\\n  (c)the  voltage  drop  across  the  resistor  after  a  time  equal  to  three  time  constants  is  \",round(VR,2),\"  V\""
     ],
     "language": "python",
     "metadata": {},
     "outputs": [
      {
       "output_type": "stream",
       "stream": "stdout",
       "text": [
        "\n",
        "\n",
        "  Result  \n",
        "\n",
        "\n",
        "\n",
        "  time  constant  of  circuit  is   0.2 msec, and steady-state  value  of current  is   24.0 mA\n",
        "\n",
        "  (a)  urrent  flowing  in  the  circuit  at  a  time  equal  to  one  time  constant  is   15.17 mA\n",
        "\n",
        "  (b)  voltage  drop  across  the  inductor  at  a  time  equal  to  two  time  constants  is   3.248   V\n",
        "\n",
        "  (c)the  voltage  drop  across  the  resistor  after  a  time  equal  to  three  time  constants  is   22.81   V\n"
       ]
      }
     ],
     "prompt_number": 18
    }
   ],
   "metadata": {}
  }
 ]
}