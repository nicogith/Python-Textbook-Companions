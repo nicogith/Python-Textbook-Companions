{
 "metadata": {
  "name": "",
  "signature": "sha256:b1ccfc3b90d3e80d897264262435b8c5eeae5b8f515ec94674405489033f24fc"
 },
 "nbformat": 3,
 "nbformat_minor": 0,
 "worksheets": [
  {
   "cells": [
    {
     "cell_type": "markdown",
     "metadata": {},
     "source": [
      "<h1>Chapter 40: Field theory</h1>"
     ]
    },
    {
     "cell_type": "markdown",
     "metadata": {},
     "source": [
      "<h3>Example 1, page no. 725</h3>"
     ]
    },
    {
     "cell_type": "code",
     "collapsed": false,
     "input": [
      "\n",
      "from __future__ import division\n",
      "import math\n",
      "#initializing  the  variables:\n",
      "e0  =  8.85E-12;  \n",
      "er  =  2.8;\n",
      "l  =  1;#  in  m\n",
      "\n",
      "#calculation:  \n",
      " #From  Figure  40.9\n",
      "m  =  16;#  number  of  parallel  squares  measured  along  each  equipotential\n",
      "n  =  6;#  the  number  of  series  squares  measured  along  each  line  of  force\n",
      "C  =  e0*er*l*m/n\n",
      "\n",
      "\n",
      "#Results\n",
      "print  \"\\n\\n  Result  \\n\\n\"\n",
      "print  \"\\n  capacitance  is  \",round(C*1E12,2),\"pFarad.\""
     ],
     "language": "python",
     "metadata": {},
     "outputs": [
      {
       "output_type": "stream",
       "stream": "stdout",
       "text": [
        "\n",
        "\n",
        "  Result  \n",
        "\n",
        "\n",
        "\n",
        "  capacitance  is   66.08 pFarad."
       ]
      }
     ],
     "prompt_number": 1
    },
    {
     "cell_type": "markdown",
     "metadata": {},
     "source": [
      "<h3>Example 2, page no. 725</h3>"
     ]
    },
    {
     "cell_type": "code",
     "collapsed": false,
     "input": [
      "\n",
      "from __future__ import division\n",
      "import math\n",
      "#initializing  the  variables:\n",
      "e0  =  8.85E-12;  \n",
      "er  =  3.4;\n",
      "l  =  100;#  in  m\n",
      "\n",
      " #calculation:  \n",
      " #From  Figure  40.10\n",
      "m  =  13;#  number  of  parallel  squares  measured  along  each  equipotential\n",
      "n  =  4;#  the  number  of  series  squares  measured  along  each  line  of  force\n",
      "C  =  e0*er*l*m/n\n",
      "\n",
      "\n",
      "#Results\n",
      "print  \"\\n\\n  Result  \\n\\n\"\n",
      "print  \"\\n  capacitance  is  \",round(C*1E9,2),\"nFarad.\""
     ],
     "language": "python",
     "metadata": {},
     "outputs": [
      {
       "output_type": "stream",
       "stream": "stdout",
       "text": [
        "\n",
        "\n",
        "  Result  \n",
        "\n",
        "\n",
        "\n",
        "  capacitance  is   9.78 nFarad."
       ]
      }
     ],
     "prompt_number": 2
    },
    {
     "cell_type": "markdown",
     "metadata": {},
     "source": [
      "<h3>Example 3, page no. 726</h3>"
     ]
    },
    {
     "cell_type": "code",
     "collapsed": false,
     "input": [
      "\n",
      "from __future__ import division\n",
      "import math\n",
      "#initializing  the  variables:\n",
      "e0  =  8.85E-12;  \n",
      "er  =  2.7;\n",
      "ri  =  0.0005;#  in  m\n",
      "ro  =  0.006;#  in  m\n",
      "\n",
      " #calculation:  \n",
      " #capacitance  C\n",
      "C  =  2*math.pi*e0*er/(math.log(ro/ri))\n",
      "\n",
      "\n",
      "#Results\n",
      "print  \"\\n\\n  Result  \\n\\n\"\n",
      "print  \"\\n  capacitance  is  \",round(C*1E12,2),\"pFarad.\""
     ],
     "language": "python",
     "metadata": {},
     "outputs": [
      {
       "output_type": "stream",
       "stream": "stdout",
       "text": [
        "\n",
        "\n",
        "  Result  \n",
        "\n",
        "\n",
        "\n",
        "  capacitance  is   60.42 pFarad."
       ]
      }
     ],
     "prompt_number": 3
    },
    {
     "cell_type": "markdown",
     "metadata": {},
     "source": [
      "<h3>Example 4, page no. 727</h3>"
     ]
    },
    {
     "cell_type": "code",
     "collapsed": false,
     "input": [
      "\n",
      "from __future__ import division\n",
      "import math\n",
      "#initializing  the  variables:\n",
      "C  =  80E-12;#  in  Farads\n",
      "e0  =  8.85E-12;  \n",
      "er  =  3.5;\n",
      "d0  =  0.008;#  in  m\n",
      "\n",
      " #calculation:  \n",
      " #internal  diameter\n",
      "di  =  d0*(math.e**(2*math.pi*e0*er/C))\n",
      "\n",
      "\n",
      "#Results\n",
      "print  \"\\n\\n  Result  \\n\\n\"\n",
      "print  \"\\n  internal  diameter  is  \",round(di,2),\"  m.\""
     ],
     "language": "python",
     "metadata": {},
     "outputs": [
      {
       "output_type": "stream",
       "stream": "stdout",
       "text": [
        "\n",
        "\n",
        "  Result  \n",
        "\n",
        "\n",
        "\n",
        "  internal  diameter  is   0.09   m."
       ]
      }
     ],
     "prompt_number": 4
    },
    {
     "cell_type": "markdown",
     "metadata": {},
     "source": [
      "<h3>Example 5, page no. 728</h3>"
     ]
    },
    {
     "cell_type": "code",
     "collapsed": false,
     "input": [
      "\n",
      "from __future__ import division\n",
      "import math\n",
      "#initializing  the  variables:\n",
      "e0  =  8.85E-12;  \n",
      "er  =  3.5;\n",
      "di  =  0.08;#  in  m\n",
      "d0  =  0.032;#  in  m\n",
      "r  =  0.03;#  in  m\n",
      "V  =  40000;#  in  Volts\n",
      "\n",
      "#calculation:  \n",
      " #capacitance  C\n",
      "C  =  2*math.pi*e0*er/(math.log(di/d0))\n",
      " #dielectric  stress  at  radius  r,\n",
      "E  =  V/(r*math.log(di/d0))\n",
      " #maximum  dielectric  stress,\n",
      "Emax  =  V/((d0/2)*(math.log((di/d0))))\n",
      " #minimum  dielectric  stress,\n",
      "Emin  =  V/((di/2)*(math.log((di/d0))))\n",
      "\n",
      "\n",
      "#Results\n",
      "print  \"\\n\\n  Result  \\n\\n\"\n",
      "print  \"\\n  capacitance  is  \",round(C*1E12,2),\"pF/km\"\n",
      "print  \"\\n  dielectric  stress  at  radius  r  is  \",round(E,2),\"V/m\"\n",
      "print  \"\\n  maximum  dielectric  stress,  is  \",round(Emax,2),\"V/m  minimum  dielectric  stress  \",round(  Emin,2),\"V/m\""
     ],
     "language": "python",
     "metadata": {},
     "outputs": [
      {
       "output_type": "stream",
       "stream": "stdout",
       "text": [
        "\n",
        "\n",
        "  Result  \n",
        "\n",
        "\n",
        "\n",
        "  capacitance  is   212.4 pF/km\n",
        "\n",
        "  dielectric  stress  at  radius  r  is   1455142.22 V/m\n",
        "\n",
        "  maximum  dielectric  stress,  is   2728391.67 V/m  minimum  dielectric  stress   1091356.67 V/m"
       ]
      }
     ],
     "prompt_number": 5
    },
    {
     "cell_type": "markdown",
     "metadata": {},
     "source": [
      "<h3>Example 6, page no. 729</h3>"
     ]
    },
    {
     "cell_type": "code",
     "collapsed": false,
     "input": [
      "\n",
      "from __future__ import division\n",
      "import math\n",
      "#initializing  the  variables:\n",
      "e0  =  8.85E-12;  \n",
      "er  =  3.5;\n",
      "V  =  60000;#  in  Volts\n",
      "f  =  50;#  in  Hz\n",
      "Em  =  10E6;#  in  V/m\n",
      "\n",
      "\n",
      "#calculation:  \n",
      " #core  radius,  a\n",
      "a  =  V/Em\n",
      " #internal  sheath  radius,\n",
      "b  =  a*math.e**1\n",
      " #capacitance\n",
      "C  =  2*math.pi*e0*er/(math.log(b/a))\n",
      " #Charging  current\n",
      "I  =  V*2*math.pi*f*C\n",
      " #charging  current  per  kilometre\n",
      "Ipkm  =  I*1000\n",
      "\n",
      "\n",
      "#Results\n",
      "print  \"\\n\\n  Result  \\n\\n\"\n",
      "print  \"\\n  core  radius  is  \",round(a*1000,2),\"mm  and  internal  sheath  radius  \",round(b*1000,1),\"mm\"\n",
      "print  \"\\n  capacitance  is  \",round(C*1E12,0),\"pF/m\"\n",
      "print  \"\\n  the  charging  current  per  kilometre  \",round(Ipkm,2),\"  A\""
     ],
     "language": "python",
     "metadata": {},
     "outputs": [
      {
       "output_type": "stream",
       "stream": "stdout",
       "text": [
        "\n",
        "\n",
        "  Result  \n",
        "\n",
        "\n",
        "\n",
        "  core  radius  is   6.0 mm  and  internal  sheath  radius   16.3 mm\n",
        "\n",
        "  capacitance  is   195.0 pF/m\n",
        "\n",
        "  the  charging  current  per  kilometre   3.67   A"
       ]
      }
     ],
     "prompt_number": 1
    },
    {
     "cell_type": "markdown",
     "metadata": {},
     "source": [
      "<h3>Example 7, page no. 730</h3>"
     ]
    },
    {
     "cell_type": "code",
     "collapsed": false,
     "input": [
      "\n",
      "from __future__ import division\n",
      "import math\n",
      "#initializing  the  variables:\n",
      "e0  =  8.85E-12;  \n",
      "er  =  2.5;\n",
      "di  =  0.08;#  in  m\n",
      "d0  =  0.025;#  in  m\n",
      "r  =  1000;#  in  m\n",
      "V  =  132000;#  in  Volts\n",
      "f  =  50;#  in  Hz\n",
      "de  =  3.5E-3;#  rad.\n",
      "\n",
      " #calculation:\n",
      " #core  radius,  a\n",
      "a  =  d0/2\n",
      " #internal  sheath  radius,\n",
      "b  =  di/2\n",
      " #capacitance\n",
      "C  =  2*math.pi*e0*er*1E3/(math.log(b/a))\n",
      " #Charging  current\n",
      "I  =  V*2*math.pi*f*C\n",
      " #power  loss\n",
      "P  =  (2*math.pi*f*C*math.tan(de))*V**2\n",
      "\n",
      "\n",
      "#Results\n",
      "print  \"\\n\\n  Result  \\n\\n\"\n",
      "print  \"\\n  (a)capacitance  for  a  1  km  length  is  \",round(C*1E6,2),\"uF\"\n",
      "print  \"\\n  (b)the  charging  current  \",round(I,2),\"A/km\"\n",
      "print  \"\\n  (c)power  loss  \",round(P,2),\"  W\""
     ],
     "language": "python",
     "metadata": {},
     "outputs": [
      {
       "output_type": "stream",
       "stream": "stdout",
       "text": [
        "\n",
        "\n",
        "  Result  \n",
        "\n",
        "\n",
        "\n",
        "  (a)capacitance  for  a  1  km  length  is   0.12 uF\n",
        "\n",
        "  (b)the  charging  current   4.96 A/km\n",
        "\n",
        "  (c)power  loss   2289.78   W"
       ]
      }
     ],
     "prompt_number": 7
    },
    {
     "cell_type": "markdown",
     "metadata": {},
     "source": [
      "<h3>Example 8, page no. 732</h3>"
     ]
    },
    {
     "cell_type": "code",
     "collapsed": false,
     "input": [
      "\n",
      "from __future__ import division\n",
      "import math\n",
      "#initializing  the  variables:\n",
      "e0  =  8.85E-12;  \n",
      "er  =  3.2;\n",
      "di  =  0.06;#  in  m\n",
      "d0  =  0.020;#  in  m\n",
      "\n",
      " #calculation:\n",
      " #core  radius,  a\n",
      "a  =  d0/2\n",
      " #internal  sheath  radius,\n",
      "b  =  di/2\n",
      " #capacitance\n",
      "C  =  2*math.pi*e0*er/(math.log(b/a))\n",
      "\n",
      "\n",
      "#Results\n",
      "print  \"\\n\\n  Result  \\n\\n\"\n",
      "print  \"\\n  capacitance  per  m  of  length  is  \",round(C*1E9,2),\"nF\""
     ],
     "language": "python",
     "metadata": {},
     "outputs": [
      {
       "output_type": "stream",
       "stream": "stdout",
       "text": [
        "\n",
        "\n",
        "  Result  \n",
        "\n",
        "\n",
        "\n",
        "  capacitance  per  m  of  length  is   0.16 nF"
       ]
      }
     ],
     "prompt_number": 8
    },
    {
     "cell_type": "markdown",
     "metadata": {},
     "source": [
      "<h3>Example 9, page no. 736</h3>"
     ]
    },
    {
     "cell_type": "code",
     "collapsed": false,
     "input": [
      "\n",
      "from __future__ import division\n",
      "import math\n",
      "#initializing  the  variables:\n",
      "e0  =  8.85E-12;  \n",
      "er  =  1;\n",
      "D  =  0.05;#  in  m\n",
      "d  =  0.005;#  in  m\n",
      "l  =  200;#  in  m\n",
      "\n",
      " #calculation:\n",
      " #capacitance\n",
      "C  =  math.pi*e0*er/(math.log(D/(d/2)))\n",
      " #capacitance  of  a  200  m  length\n",
      "C200  =  C*l\n",
      "\n",
      "\n",
      "#Results\n",
      "print  \"\\n\\n  Result  \\n\\n\"\n",
      "print  \"\\n  capacitance  of  a  200  m  length  is  \",round(C200*1E6,5),\"uF\""
     ],
     "language": "python",
     "metadata": {},
     "outputs": [
      {
       "output_type": "stream",
       "stream": "stdout",
       "text": [
        "\n",
        "\n",
        "  Result  \n",
        "\n",
        "\n",
        "\n",
        "  capacitance  of  a  200  m  length  is   0.00186 uF"
       ]
      }
     ],
     "prompt_number": 9
    },
    {
     "cell_type": "markdown",
     "metadata": {},
     "source": [
      "<h3>Example 10, page no. 736</h3>"
     ]
    },
    {
     "cell_type": "code",
     "collapsed": false,
     "input": [
      "\n",
      "from __future__ import division\n",
      "import math\n",
      "#initializing  the  variables:\n",
      "e0  =  8.85E-12;  \n",
      "er  =  1;\n",
      "D  =  1.2;#  in  m\n",
      "r  =  0.004;#  in  m\n",
      "f  =  50;#  in  Hz\n",
      "V  =  15000;#  in  Volts\n",
      "l  =  1000;#  in  m\n",
      "\n",
      " #calculation:\n",
      " #capacitance\n",
      "C  =  math.pi*e0*er/(math.log(D/r))\n",
      " #capacitance  of  a  1  km  length\n",
      "Cpkm  =  C*l\n",
      " #Charge  Q\n",
      "Q  =  Cpkm*V\n",
      " #Charging  current\n",
      "I  =  V*2*math.pi*f*Cpkm\n",
      "\n",
      "\n",
      "#Results\n",
      "print  \"\\n\\n  Result  \\n\\n\"\n",
      "print  \"\\n  capacitance  per  1km  length  is  \",round(Cpkm*1E9,2),\"nF\"\n",
      "print  \"\\n  Charge  Q  is  \",round(Q*1E6,2),\"uC\"\n",
      "print  \"\\n  Charging  current  is  \",round(I,2),\"  A\""
     ],
     "language": "python",
     "metadata": {},
     "outputs": [
      {
       "output_type": "stream",
       "stream": "stdout",
       "text": [
        "\n",
        "\n",
        "  Result  \n",
        "\n",
        "\n",
        "\n",
        "  capacitance  per  1km  length  is   4.87 nF\n",
        "\n",
        "  Charge  Q  is   73.12 uC\n",
        "\n",
        "  Charging  current  is   0.02   A"
       ]
      }
     ],
     "prompt_number": 10
    },
    {
     "cell_type": "markdown",
     "metadata": {},
     "source": [
      "<h3>Example 11, page no. 737</h3>"
     ]
    },
    {
     "cell_type": "code",
     "collapsed": false,
     "input": [
      "\n",
      "from __future__ import division\n",
      "import math\n",
      "#initializing  the  variables:\n",
      "e0  =  8.85E-12;  \n",
      "er  =  1;\n",
      "I  =  0.015;#  in  Amperes\n",
      "d  =  1.25;#  in  m\n",
      "r  =  800;#  in  m\n",
      "f  =  50;#  in  Hz\n",
      "V  =  10000;#  in  Volts\n",
      "\n",
      " #calculation:\n",
      " #capacitance\n",
      "C  =  I/(2*math.pi*f*V)\n",
      " #required  maximum  value  of  capacitance\n",
      "Cmax  =  C/r\n",
      " #maximum  diameter  of  each  conductor\n",
      "D  =  2*d/(math.e**(math.pi*e0*er/Cmax))\n",
      "\n",
      "\n",
      "#Results\n",
      "print  \"\\n\\n  Result  \\n\\n\"\n",
      "print  \"\\n  required  maximum  value  of  capacitance  is  \",round(Cmax*1E12,2),\"pF/m\"\n",
      "print  \"\\nthe  maximum  diameter  of  each  conductor  is  \",round(D,2),\"  m\""
     ],
     "language": "python",
     "metadata": {},
     "outputs": [
      {
       "output_type": "stream",
       "stream": "stdout",
       "text": [
        "\n",
        "\n",
        "  Result  \n",
        "\n",
        "\n",
        "\n",
        "  required  maximum  value  of  capacitance  is   5.97 pF/m\n",
        "\n",
        "the  maximum  diameter  of  each  conductor  is   0.02   m"
       ]
      }
     ],
     "prompt_number": 11
    },
    {
     "cell_type": "markdown",
     "metadata": {},
     "source": [
      "<h3>Example 12, page no. 739</h3>"
     ]
    },
    {
     "cell_type": "code",
     "collapsed": false,
     "input": [
      "\n",
      "from __future__ import division\n",
      "import math\n",
      "#initializing  the  variables:\n",
      "e0  =  8.85E-12;  \n",
      "er  =  1;\n",
      "C  =  10E-9;#  in  Farad\n",
      "V  =  1000;#  in  Volts\n",
      "t  =  10E-6;#  in  sec\n",
      "\n",
      " #calculation:\n",
      " #energy  stored,Wf\n",
      "Wf  =  C*V*V/2\n",
      " #average  power  developed\n",
      "Pav  =  Wf/t\n",
      "\n",
      "\n",
      "#Results\n",
      "print  \"\\n\\n  Result  \\n\\n\"\n",
      "print  \"\\n  the  energy  stored  is  \",Wf,\"J\"\n",
      "print  \"\\nthe  average  power  developed  is  \",Pav,\"  W\""
     ],
     "language": "python",
     "metadata": {},
     "outputs": [
      {
       "output_type": "stream",
       "stream": "stdout",
       "text": [
        "\n",
        "\n",
        "  Result  \n",
        "\n",
        "\n",
        "\n",
        "  the  energy  stored  is   0.005 J\n",
        "\n",
        "the  average  power  developed  is   500.0   W"
       ]
      }
     ],
     "prompt_number": 12
    },
    {
     "cell_type": "markdown",
     "metadata": {},
     "source": [
      "<h3>Example 13, page no. 739</h3>"
     ]
    },
    {
     "cell_type": "code",
     "collapsed": false,
     "input": [
      "\n",
      "from __future__ import division\n",
      "import math\n",
      "#initializing  the  variables:\n",
      "e0  =  8.85E-12;  \n",
      "er  =  1;\n",
      "Q  =  5E-3;#  in  Coulomb\n",
      "W  =  0.625;#  in  Joules\n",
      "\n",
      " #calculation:\n",
      " #voltage  across  the  plates\n",
      "V  =  2*W/Q\n",
      " #Capacitance  C\n",
      "C  =  Q/V\n",
      "\n",
      "\n",
      "#Results\n",
      "print  \"\\n\\n  Result  \\n\\n\"\n",
      "print  \"\\n  voltage  across  the  plates  is  \",V,\"  V\"\n",
      "print  \"\\n  Capacitance  C  is  \",C*1E6,\"uF\""
     ],
     "language": "python",
     "metadata": {},
     "outputs": [
      {
       "output_type": "stream",
       "stream": "stdout",
       "text": [
        "\n",
        "\n",
        "  Result  \n",
        "\n",
        "\n",
        "\n",
        "  voltage  across  the  plates  is   250.0   V\n",
        "\n",
        "  Capacitance  C  is   20.0 uF"
       ]
      }
     ],
     "prompt_number": 13
    },
    {
     "cell_type": "markdown",
     "metadata": {},
     "source": [
      "<h3>Example 14, page no. 740</h3>"
     ]
    },
    {
     "cell_type": "code",
     "collapsed": false,
     "input": [
      "\n",
      "from __future__ import division\n",
      "import math\n",
      "#initializing  the  variables:\n",
      "e0  =  8.85E-12;  \n",
      "er  =  10;\n",
      "C  =  0.01E-6;#  in  Farad\n",
      "E  =  10E6;#  in  V/m\n",
      "V  =  2500;#  in  Volts\n",
      "\n",
      " #calculation:\n",
      " #thickness  of  ceramic  dielectric,\n",
      "d  =  V/E\n",
      " #cross-sectional  area  of  plate\n",
      "A  =  C*d/(e0*er)\n",
      " #Maximum  energy  stored,\n",
      "W  =  C*V*V/2\n",
      "\n",
      "\n",
      "#Results\n",
      "print  \"\\n\\n  Result  \\n\\n\"\n",
      "print  \"\\n  thickness  of  ceramic  dielectric  is  \",d*1000,\"mm\"\n",
      "print  \"\\n  cross-sectional  area  of  plate,  is  \",round(A,2),\"m2\"\n",
      "print  \"\\n  Maximum  energy  stored  is  \",round(W,3),\"  J\""
     ],
     "language": "python",
     "metadata": {},
     "outputs": [
      {
       "output_type": "stream",
       "stream": "stdout",
       "text": [
        "\n",
        "\n",
        "  Result  \n",
        "\n",
        "\n",
        "\n",
        "  thickness  of  ceramic  dielectric  is   0.25 mm\n",
        "\n",
        "  cross-sectional  area  of  plate,  is   0.03 m2\n",
        "\n",
        "  Maximum  energy  stored  is   0.031   J"
       ]
      }
     ],
     "prompt_number": 14
    },
    {
     "cell_type": "markdown",
     "metadata": {},
     "source": [
      "<h3>Example 15, page no. 740</h3>"
     ]
    },
    {
     "cell_type": "code",
     "collapsed": false,
     "input": [
      "\n",
      "from __future__ import division\n",
      "import math\n",
      "#initializing  the  variables:\n",
      "e0  =  8.85E-12;  \n",
      "er  =  2.3;\n",
      "A  =  0.02;#  in  m2\n",
      "C  =  400E-12;#  in  Farad\n",
      "V  =  100;#  in  Volts\n",
      "\n",
      " #calculation:\n",
      " #energy  stored  per  unit  volume  of  dielectric,\n",
      "W  =  ((C*V)**2)/(2*e0*er*A**2)\n",
      "\n",
      "\n",
      "#Results\n",
      "print  \"\\n\\n  Result  \\n\\n\"\n",
      "print  \"\\n  energy  stored  per  unit  volume  of  dielectric  is  \",round(W,2),\"  J/m3\""
     ],
     "language": "python",
     "metadata": {},
     "outputs": [
      {
       "output_type": "stream",
       "stream": "stdout",
       "text": [
        "\n",
        "\n",
        "  Result  \n",
        "\n",
        "\n",
        "\n",
        "  energy  stored  per  unit  volume  of  dielectric  is   0.1   J/m3"
       ]
      }
     ],
     "prompt_number": 15
    },
    {
     "cell_type": "markdown",
     "metadata": {},
     "source": [
      "<h3>Example 16, page no. 744</h3>"
     ]
    },
    {
     "cell_type": "code",
     "collapsed": false,
     "input": [
      "\n",
      "from __future__ import division\n",
      "import math\n",
      "#initializing  the  variables:\n",
      "u0  =  4*math.pi*1E-7;  \n",
      "ur  =  1;\n",
      "a  =  0.001;#  in  m\n",
      "b  =  0.004;#  in  m\n",
      "\n",
      " #calculation:\n",
      " #inductance  L\n",
      "L  =  (u0*ur/(2*math.pi))*(0.25  +  math.log(b/a))\n",
      "\n",
      "\n",
      "#Results\n",
      "print  \"\\n\\n  Result  \\n\\n\"\n",
      "print  \"\\n  inductance  L  is  \",round(L*1E6,2),\"uH/m\""
     ],
     "language": "python",
     "metadata": {},
     "outputs": [
      {
       "output_type": "stream",
       "stream": "stdout",
       "text": [
        "\n",
        "\n",
        "  Result  \n",
        "\n",
        "\n",
        "\n",
        "  inductance  L  is   0.33 uH/m"
       ]
      }
     ],
     "prompt_number": 16
    },
    {
     "cell_type": "markdown",
     "metadata": {},
     "source": [
      "<h3>Example 17, page no. 744</h3>"
     ]
    },
    {
     "cell_type": "code",
     "collapsed": false,
     "input": [
      "\n",
      "from __future__ import division\n",
      "import math\n",
      "#initializing  the  variables:\n",
      "u0  =  4*math.pi*1E-7;  \n",
      "ur  =  1;\n",
      "da  =  0.010;#  in  m\n",
      "L  =  4E-7;#  in  H/m\n",
      "\n",
      " #calculation:\n",
      " #diameter  of  the  sheath\n",
      "db  =  da*(math.e**(L/(u0*ur/(2*math.pi))))\n",
      "\n",
      "\n",
      "#Results\n",
      "print  \"\\n\\n  Result  \\n\\n\"\n",
      "print  \"\\n  diameter  of  the  sheath  is  \",round(db,2),\"  m\""
     ],
     "language": "python",
     "metadata": {},
     "outputs": [
      {
       "output_type": "stream",
       "stream": "stdout",
       "text": [
        "\n",
        "\n",
        "  Result  \n",
        "\n",
        "\n",
        "\n",
        "  diameter  of  the  sheath  is   0.07   m"
       ]
      }
     ],
     "prompt_number": 17
    },
    {
     "cell_type": "markdown",
     "metadata": {},
     "source": [
      "<h3>Example 18, page no. 745</h3>"
     ]
    },
    {
     "cell_type": "code",
     "collapsed": false,
     "input": [
      "\n",
      "from __future__ import division\n",
      "import math\n",
      "#initializing  the  variables:\n",
      "u0  =  4*math.pi*1E-7;  \n",
      "ur  =  1;\n",
      "e0  =  8.85E-12;\n",
      "er  =  3;\n",
      "da  =  0.010;#  in  m\n",
      "db  =  0.025;#  in  m\n",
      "l  =  7500;#  in  m\n",
      "\n",
      "#calculation:\n",
      " #inductance  per  metre  length\n",
      "L  =  (u0*ur/(2*math.pi))*(0.25  +  math.log(db/da))\n",
      " #Since  the  cable  is  7500  m  long,\n",
      "L7500  =  L*7500\n",
      " #capacitance  C\n",
      "C  =  2*math.pi*e0*er/(math.log(db/da))\n",
      " #//Since  the  cable  is  7500  m  long,\n",
      "C7500  =  C*7500\n",
      "\n",
      "\n",
      "#Results\n",
      "print  \"\\n\\n  Result  \\n\\n\"\n",
      "print  \"\\ninductance  is  \",round(L7500*1000,2),\" mH\"\n",
      "print  \"\\ncapCItance  is  \",round(C7500*1E6,2),\"uF\""
     ],
     "language": "python",
     "metadata": {},
     "outputs": [
      {
       "output_type": "stream",
       "stream": "stdout",
       "text": [
        "\n",
        "\n",
        "  Result  \n",
        "\n",
        "\n",
        "\n",
        "inductance  is   1.75  mH\n",
        "\n",
        "capCItance  is   1.37 uF"
       ]
      }
     ],
     "prompt_number": 18
    },
    {
     "cell_type": "markdown",
     "metadata": {},
     "source": [
      "<h3>Example 19, page no. 748</h3>"
     ]
    },
    {
     "cell_type": "code",
     "collapsed": false,
     "input": [
      "\n",
      "from __future__ import division\n",
      "import math\n",
      "#initializing  the  variables:\n",
      "u0  =  4*math.pi*1E-7;  \n",
      "ur  =  1;\n",
      "e0  =  8.85E-12;\n",
      "er  =  3;\n",
      "D  =  1.2;#  in  m\n",
      "a  =  0.008;#  in  m\n",
      "\n",
      " #calculation:\n",
      " #inductance  per  metre  length\n",
      "L  =  (u0*ur/(math.pi))*(math.log(D/a))\n",
      "\n",
      "\n",
      "#Results\n",
      "print  \"\\n\\n  Result  \\n\\n\"\n",
      "print  \"\\ninductance  is  \",round(L*1E6,2),\"uH/m\""
     ],
     "language": "python",
     "metadata": {},
     "outputs": [
      {
       "output_type": "stream",
       "stream": "stdout",
       "text": [
        "\n",
        "\n",
        "  Result  \n",
        "\n",
        "\n",
        "\n",
        "inductance  is   2.0 uH/m"
       ]
      }
     ],
     "prompt_number": 19
    },
    {
     "cell_type": "markdown",
     "metadata": {},
     "source": [
      "<h3>Example 20, page no. 748</h3>"
     ]
    },
    {
     "cell_type": "code",
     "collapsed": false,
     "input": [
      "\n",
      "from __future__ import division\n",
      "import math\n",
      "#initializing  the  variables:\n",
      "u0  =  4*math.pi*1E-7;  \n",
      "ur  =  1;\n",
      "e0  =  8.85E-12;\n",
      "er  =  1;\n",
      "l  =  1000;#  in  m\n",
      "D  =  0.8;#  in  m\n",
      "a  =  0.01/2;#  in  m\n",
      "\n",
      " #calculation:\n",
      " #inductance  per  metre  length\n",
      "L  =  (u0*ur/(math.pi))*(0.25  +  math.log(D/a))\n",
      " #Since  the  cable  is  1000  m  long,\n",
      "L1k  =  L*l\n",
      " #capacitance  C\n",
      "C  =  math.pi*e0*er/(math.log(D/a))\n",
      " #//Since  the  cable  is  1000  m  long,\n",
      "C1k  =  C*l\n",
      "\n",
      "\n",
      "#Results\n",
      "print  \"\\n\\n  Result  \\n\\n\"\n",
      "print  \"\\ninductance  is  \",round(L1k*1000,2),\" mH\"\n",
      "print  \"\\ncapcitance  is  \",round(C1k*1E9,2),\"nF\""
     ],
     "language": "python",
     "metadata": {},
     "outputs": [
      {
       "output_type": "stream",
       "stream": "stdout",
       "text": [
        "\n",
        "\n",
        "  Result  \n",
        "\n",
        "\n",
        "\n",
        "inductance  is   2.13  mH\n",
        "\n",
        "capcitance  is   5.48 nF\n"
       ]
      }
     ],
     "prompt_number": 1
    },
    {
     "cell_type": "markdown",
     "metadata": {},
     "source": [
      "<h3>Example 21, page no. 749</h3>"
     ]
    },
    {
     "cell_type": "code",
     "collapsed": false,
     "input": [
      "\n",
      "from __future__ import division\n",
      "import math\n",
      "#initializing  the  variables:\n",
      "L  =  2.185E-6;#  in  H/m\n",
      "u0  =  4*math.pi*1E-7;  \n",
      "ur  =  1;\n",
      "a  =  0.012/2;#  in  m\n",
      "\n",
      " #calculation:\n",
      " #distance  D\n",
      "D  =  a*math.e**((L*math.pi)/(u0*ur)  -  0.25)\n",
      "\n",
      "\n",
      "#Results\n",
      "print  \"\\n\\n  Result  \\n\\n\"\n",
      "print  \"\\ndistance  D  is  \",round(D,2),\"  m\""
     ],
     "language": "python",
     "metadata": {},
     "outputs": [
      {
       "output_type": "stream",
       "stream": "stdout",
       "text": [
        "\n",
        "\n",
        "  Result  \n",
        "\n",
        "\n",
        "\n",
        "distance  D  is   1.1   m"
       ]
      }
     ],
     "prompt_number": 21
    },
    {
     "cell_type": "markdown",
     "metadata": {},
     "source": [
      "<h3>Example 22, page no. 752</h3>"
     ]
    },
    {
     "cell_type": "code",
     "collapsed": false,
     "input": [
      "\n",
      "from __future__ import division\n",
      "import math\n",
      "#initializing  the  variables:\n",
      "L  =  0.2;#  in  H\n",
      "I  =  0.05;#  in  Amperes\n",
      "u0  =  4*math.pi*1E-7;  \n",
      "ur  =  1;\n",
      "\n",
      "#calculation:\n",
      " #energy  stored  in  inductor\n",
      "W  =  L*I*I/2\n",
      " #current  I\n",
      "I  =  (2*2*W/L)**0.5\n",
      "\n",
      "\n",
      "#Results\n",
      "print  \"\\n\\n  Result  \\n\\n\"\n",
      "print  \"\\nenergy  stored  in  inductor  is  \",round(W*1000,2),\"mJ\"\n",
      "print  \"\\ncurrent  I  is  \",round(I,2),\"A\""
     ],
     "language": "python",
     "metadata": {},
     "outputs": [
      {
       "output_type": "stream",
       "stream": "stdout",
       "text": [
        "\n",
        "\n",
        "  Result  \n",
        "\n",
        "\n",
        "\n",
        "energy  stored  in  inductor  is   0.25 mJ\n",
        "\n",
        "current  I  is   0.07 A"
       ]
      }
     ],
     "prompt_number": 22
    },
    {
     "cell_type": "markdown",
     "metadata": {},
     "source": [
      "<h3>Example 23, page no. 752</h3>"
     ]
    },
    {
     "cell_type": "code",
     "collapsed": false,
     "input": [
      "\n",
      "from __future__ import division\n",
      "import math\n",
      "#initializing  the  variables:\n",
      "B  =  0.05;#  in  Tesla\n",
      "A  =  500E-6;#  in  m2\n",
      "l  =  0.002;#  in  m\n",
      "u0  =  4*math.pi*1E-7;  \n",
      "\n",
      "#calculation:\n",
      " #energy  stored\n",
      "W  =  (B**2)/(2*u0)\n",
      " #Volume  of  airgap\n",
      "v  =  A*l\n",
      " #energy  stored  in  airgap\n",
      "W  =  W*v\n",
      "\n",
      "\n",
      "#Results\n",
      "print  \"\\n\\n  Result  \\n\\n\"\n",
      "print  \"\\nenergy  stored  in  the  airgap  is  \",round(W*1E6,2),\"uJ\""
     ],
     "language": "python",
     "metadata": {},
     "outputs": [
      {
       "output_type": "stream",
       "stream": "stdout",
       "text": [
        "\n",
        "\n",
        "  Result  \n",
        "\n",
        "\n",
        "\n",
        "energy  stored  in  the  airgap  is   994.72 uJ"
       ]
      }
     ],
     "prompt_number": 23
    },
    {
     "cell_type": "markdown",
     "metadata": {},
     "source": [
      "<h3>Example 24, page no. 752</h3>"
     ]
    },
    {
     "cell_type": "code",
     "collapsed": false,
     "input": [
      "\n",
      "from __future__ import division\n",
      "import math\n",
      "#initializing  the  variables:\n",
      "B  =  0.8;#  in  Tesla\n",
      "A  =  500E-6;#  in  m2\n",
      "l  =  0.002;#  in  m\n",
      "u0  =  4*math.pi*1E-7;  \n",
      "ur  =  1;\n",
      "e0  =  8.85E-12;\n",
      "er  =  1;\n",
      "\n",
      "#calculation:\n",
      " #energy  stored  in  mag.  field\n",
      "W  =  (B**2)/(2*u0)\n",
      " #electric  field\n",
      "E  =  (2*W/(e0*er))**0.5\n",
      "\n",
      "\n",
      "#Results\n",
      "print  \"\\n\\n  Result  \\n\\n\"\n",
      "print  \"\\nelectric  field  strength  is  \",round(E/1E6,2),\"MV/m\""
     ],
     "language": "python",
     "metadata": {},
     "outputs": [
      {
       "output_type": "stream",
       "stream": "stdout",
       "text": [
        "\n",
        "\n",
        "  Result  \n",
        "\n",
        "\n",
        "\n",
        "electric  field  strength  is   239.89 MV/m"
       ]
      }
     ],
     "prompt_number": 24
    }
   ],
   "metadata": {}
  }
 ]
}