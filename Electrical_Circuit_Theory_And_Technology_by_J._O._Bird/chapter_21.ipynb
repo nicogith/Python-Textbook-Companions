{
 "metadata": {
  "name": "",
  "signature": "sha256:18b2ae9034d59ad1d2a71a370085420c43adb19c1da344e7757efdb47969ddb0"
 },
 "nbformat": 3,
 "nbformat_minor": 0,
 "worksheets": [
  {
   "cells": [
    {
     "cell_type": "markdown",
     "metadata": {},
     "source": [
      "<h1>Chapter 21: D.c. machines</h1>"
     ]
    },
    {
     "cell_type": "markdown",
     "metadata": {},
     "source": [
      "<h3>Example 1, page no. 354</h3>"
     ]
    },
    {
     "cell_type": "code",
     "collapsed": false,
     "input": [
      "\n",
      "from __future__ import division\n",
      "import math\n",
      "#initializing  the  variables:\n",
      "Z  =  600;#  no.  of  conductors\n",
      "c  =  2;#  for  a  wave  winding\n",
      "p  =  4;#  no.  of  pairs\n",
      "n  =  625/60;#  in  rev/sec\n",
      "Phi  =  20E-3;#  in  Wb\n",
      "\n",
      "#calculation:\n",
      " #Generated  e.m.f.,  E  =  2*p*Phi*n*Z/c\n",
      "E  =  2*p*Phi*n*Z/c\n",
      "\n",
      "\n",
      "#Results\n",
      "print  \"\\n\\n  Result  \\n\\n\"\n",
      "print  \"\\n  the  generated  e.m.f  is  \",round(E,2),\"  V  \""
     ],
     "language": "python",
     "metadata": {},
     "outputs": [
      {
       "output_type": "stream",
       "stream": "stdout",
       "text": [
        "\n",
        "\n",
        "  Result  \n",
        "\n",
        "\n",
        "\n",
        "  the  generated  e.m.f  is   500.0   V  "
       ]
      }
     ],
     "prompt_number": 1
    },
    {
     "cell_type": "markdown",
     "metadata": {},
     "source": [
      "<h3>Example 2, page no. 354</h3>"
     ]
    },
    {
     "cell_type": "code",
     "collapsed": false,
     "input": [
      "\n",
      "from __future__ import division\n",
      "import math\n",
      "#initializing  the  variables:\n",
      "Z  =  50*16;#  no.  of  conductors\n",
      "p  =  1;#  let  no.  of  pairs\n",
      "c  =  2*p;#  for  a  lap  winding\n",
      "Phi  =  30E-3;#  in  Wb\n",
      "E  =  240;#  in  Volts\n",
      "\n",
      "#calculation:\n",
      " #Generated  e.m.f.,  E  =  2*p*Phi*n*Z/c\n",
      " #Rearranging  gives,  speed\n",
      "n  =  E*c/(2*p*Phi*Z)\n",
      "\n",
      "\n",
      "#Results\n",
      "print  \"\\n\\n  Result  \\n\\n\"\n",
      "print  \"\\n  the  speed  at  which  the  machine  must  be  driven  is  \",round(n,2),\"  rev/sec  \""
     ],
     "language": "python",
     "metadata": {},
     "outputs": [
      {
       "output_type": "stream",
       "stream": "stdout",
       "text": [
        "\n",
        "\n",
        "  Result  \n",
        "\n",
        "\n",
        "\n",
        "  the  speed  at  which  the  machine  must  be  driven  is   10.0   rev/sec  "
       ]
      }
     ],
     "prompt_number": 2
    },
    {
     "cell_type": "markdown",
     "metadata": {},
     "source": [
      "<h3>Example 3, page no. 354</h3>"
     ]
    },
    {
     "cell_type": "code",
     "collapsed": false,
     "input": [
      "\n",
      "from __future__ import division\n",
      "import math\n",
      "#initializing  the  variables:\n",
      "Z  =  1200;#  no.  of  conductors\n",
      "p  =  1;#  let,  no.  of  pairs\n",
      "c  =  2*p;#  for  a  lap  winding\n",
      "Phi  =  30E-3;#  in  Wb\n",
      "n  =  500/60;#  in  rev/sec\n",
      "\n",
      "#calculation:\n",
      " #Generated  e.m.f.,  E  =  2*p*Phi*n*Z/c\n",
      "E  =  2*p*Phi*n*Z/c\n",
      "\n",
      "\n",
      "#Results\n",
      "print  \"\\n\\n  Result  \\n\\n\"\n",
      "print  \"\\n  Generated  e.m.f.  is  \",round(E,2),\"  V  \""
     ],
     "language": "python",
     "metadata": {},
     "outputs": [
      {
       "output_type": "stream",
       "stream": "stdout",
       "text": [
        "\n",
        "\n",
        "  Result  \n",
        "\n",
        "\n",
        "\n",
        "  Generated  e.m.f.  is   300.0   V  "
       ]
      }
     ],
     "prompt_number": 3
    },
    {
     "cell_type": "markdown",
     "metadata": {},
     "source": [
      "<h3>Example 4, page no. 355</h3>"
     ]
    },
    {
     "cell_type": "code",
     "collapsed": false,
     "input": [
      "\n",
      "from __future__ import division\n",
      "import math\n",
      "#initializing  the  variables:\n",
      "Z  =  1200;#  no.  of  conductors\n",
      "p  =  4;#  let,  no.  of  pairs\n",
      "c  =  2;#  for  a  wave  winding\n",
      "Phi  =  30E-3;#  in  Wb\n",
      "n  =  500/60;#  in  rev/sec\n",
      "\n",
      "#calculation:\n",
      " #Generated  e.m.f.,  E  =  2*p*Phi*n*Z/c\n",
      "E  =  2*p*Phi*n*Z/c\n",
      "\n",
      "\n",
      "#Results\n",
      "print  \"\\n\\n  Result  \\n\\n\"\n",
      "print  \"\\n  Generated  e.m.f.  is  \",round(E,2),\"  V  \""
     ],
     "language": "python",
     "metadata": {},
     "outputs": [
      {
       "output_type": "stream",
       "stream": "stdout",
       "text": [
        "\n",
        "\n",
        "  Result  \n",
        "\n",
        "\n",
        "\n",
        "  Generated  e.m.f.  is   1200.0   V  "
       ]
      }
     ],
     "prompt_number": 4
    },
    {
     "cell_type": "markdown",
     "metadata": {},
     "source": [
      "<h3>Example 5, page no. 355</h3>"
     ]
    },
    {
     "cell_type": "code",
     "collapsed": false,
     "input": [
      "\n",
      "from __future__ import division\n",
      "import math\n",
      "#initializing  the  variables:\n",
      "E1 = 150; # in Volts\n",
      "x = 0.2;\n",
      "\n",
      "#calculation:\n",
      "E2  =  E1*(1- x)\n",
      "\n",
      "\n",
      "#Results\n",
      "print  \"\\n\\n  Result  \\n\\n\"\n",
      "print  \"\\n  Generated  e.m.f.  is  \",round(E2,2),\"  V  \""
     ],
     "language": "python",
     "metadata": {},
     "outputs": [
      {
       "output_type": "stream",
       "stream": "stdout",
       "text": [
        "\n",
        "\n",
        "  Result  \n",
        "\n",
        "\n",
        "\n",
        "  Generated  e.m.f.  is   120.0   V  "
       ]
      }
     ],
     "prompt_number": 1
    },
    {
     "cell_type": "markdown",
     "metadata": {},
     "source": [
      "<h3>Example 6, page no. 356</h3>"
     ]
    },
    {
     "cell_type": "code",
     "collapsed": false,
     "input": [
      "\n",
      "from __future__ import division\n",
      "import math\n",
      "#initializing  the  variables:\n",
      "n1  =  30;#  in  rev/sec\n",
      "E1  =  200;#  in  Volts\n",
      "n2  =  20;#  in  rev/sec\n",
      "E2  =  250;#  in  Volts\n",
      "\n",
      "#calculation:\n",
      " #generated  e.m.f.,  E  proportional  to  phi*w  and  since  w  =  2*pi*n,  then\n",
      " #  E  proportional  to  phi*n\n",
      " #  E1/E2  =  Phi1*n1/(Phi2*n2)\n",
      " #  let  Phi2/Phi1  =  Phi\n",
      "Phi  =  E2*n1/(E1*n2)\n",
      "Phi_inc  =  (Phi  -  1)*100#/in  percent\n",
      "\n",
      "\n",
      "#Results\n",
      "print  \"\\n\\n  Result  \\n\\n\"\n",
      "print  \"\\n  percentage  increase  in  the  flux  per  pole  is  \",round(Phi_inc,2),\"  percent  \""
     ],
     "language": "python",
     "metadata": {},
     "outputs": [
      {
       "output_type": "stream",
       "stream": "stdout",
       "text": [
        "\n",
        "\n",
        "  Result  \n",
        "\n",
        "\n",
        "\n",
        "  percentage  increase  in  the  flux  per  pole  is   87.5   percent  "
       ]
      }
     ],
     "prompt_number": 5
    },
    {
     "cell_type": "markdown",
     "metadata": {},
     "source": [
      "<h3>Example 7, page no. 357</h3>"
     ]
    },
    {
     "cell_type": "code",
     "collapsed": false,
     "input": [
      "\n",
      "from __future__ import division\n",
      "import math\n",
      "#initializing  the  variables:\n",
      "Ra  =  0.30;#  in  ohms\n",
      "Ia  =  30;#  in  Amperes\n",
      "E  =  200;#  in  Volts\n",
      "\n",
      "#calculation:\n",
      " #terminal  voltage,\n",
      " #V  =  E  -  Ia*Ra\n",
      "V  =  E  -  Ia*Ra\n",
      "\n",
      "\n",
      "#Results\n",
      "print  \"\\n\\n  Result  \\n\\n\"\n",
      "print  \"\\n  terminal  voltage  of  a  generator  is  \",round(V,2),\"  V  \""
     ],
     "language": "python",
     "metadata": {},
     "outputs": [
      {
       "output_type": "stream",
       "stream": "stdout",
       "text": [
        "\n",
        "\n",
        "  Result  \n",
        "\n",
        "\n",
        "\n",
        "  terminal  voltage  of  a  generator  is   191.0   V  "
       ]
      }
     ],
     "prompt_number": 6
    },
    {
     "cell_type": "markdown",
     "metadata": {},
     "source": [
      "<h3>Example 8, page no. 357</h3>"
     ]
    },
    {
     "cell_type": "code",
     "collapsed": false,
     "input": [
      "\n",
      "from __future__ import division\n",
      "import math\n",
      "#initializing  the  variables:\n",
      "RL  =  60;#  in  ohms\n",
      "Ia  =  8;#  in  Amperes\n",
      "Ra  =  1;#  in  ohms\n",
      "\n",
      "#calculation:\n",
      " #terminal  voltage,\n",
      " #V  =  Ia*RL\n",
      "V  =  Ia*RL\n",
      " #Generated  e.m.f.,  E\n",
      "E  =  V  +  Ia*Ra\n",
      "\n",
      "\n",
      "#Results\n",
      "print  \"\\n\\n  Result  \\n\\n\"\n",
      "print  \"\\n  (a)terminal  voltage  is  \",round(V,2),\"  V  \"\n",
      "print  \"\\n  (b)generated  e.m.f.  is  \",round(E,2),\"  V  \""
     ],
     "language": "python",
     "metadata": {},
     "outputs": [
      {
       "output_type": "stream",
       "stream": "stdout",
       "text": [
        "\n",
        "\n",
        "  Result  \n",
        "\n",
        "\n",
        "\n",
        "  (a)terminal  voltage  is   480.0   V  \n",
        "\n",
        "  (b)generated  e.m.f.  is   488.0   V  "
       ]
      }
     ],
     "prompt_number": 7
    },
    {
     "cell_type": "markdown",
     "metadata": {},
     "source": [
      "<h3>Example 9, page no. 357</h3>"
     ]
    },
    {
     "cell_type": "code",
     "collapsed": false,
     "input": [
      "\n",
      "from __future__ import division\n",
      "import math\n",
      "#initializing  the  variables:\n",
      "E1  =  150;#  in  Volts\n",
      "n1  =  20;#  in  rev/sec\n",
      "Phi1  =  0.10;#  in  Wb\n",
      "n2  =  25;#  in  rev/sec\n",
      "Phi2  =  0.10;#  in  Wb\n",
      "n3  =  20;#  in  rev/sec\n",
      "Phi3  =  0.08;#  in  Wb\n",
      "n4  =  24;#  in  rev/sec\n",
      "Phi4  =  0.07;#  in  Wb\n",
      "\n",
      "#calculation:\n",
      " #generated  e.m.f.,  E  proportional  to  phi*w  and  since  w  =  2*pi*n,  then\n",
      " #  E  proportional  to  phi*n\n",
      " #  E1/E2  =  Phi1*n1/(Phi2*n2)\n",
      "E2  =  E1*Phi2*n2/(Phi1*n1)\n",
      "E3  =  E1*Phi3*n3/(Phi1*n1)\n",
      "E4  =  E1*Phi4*n4/(Phi1*n1)\n",
      "\n",
      "\n",
      "#Results\n",
      "print  \"\\n\\n  Result  \\n\\n\"\n",
      "print  \"\\n  (a)the  generated  e.m.f  is  \",round(E2,2),\"  V  \"\n",
      "print  \"\\n  (b)generated  e.m.f.  is  \",round(E3,2),\"  V  \"\n",
      "print  \"\\n  (c)generated  e.m.f.  is  \",round(E4,2),\"  V  \""
     ],
     "language": "python",
     "metadata": {},
     "outputs": [
      {
       "output_type": "stream",
       "stream": "stdout",
       "text": [
        "\n",
        "\n",
        "  Result  \n",
        "\n",
        "\n",
        "\n",
        "  (a)the  generated  e.m.f  is   187.5   V  \n",
        "\n",
        "  (b)generated  e.m.f.  is   120.0   V  \n",
        "\n",
        "  (c)generated  e.m.f.  is   126.0   V  "
       ]
      }
     ],
     "prompt_number": 8
    },
    {
     "cell_type": "markdown",
     "metadata": {},
     "source": [
      "<h3>Example 10, page no. 359</h3>"
     ]
    },
    {
     "cell_type": "code",
     "collapsed": false,
     "input": [
      "\n",
      "from __future__ import division\n",
      "import math\n",
      "#initializing  the  variables:\n",
      "Ps  =  20000;#  in  Watts\n",
      "Vs  =  200;#  in  Volts\n",
      "Rs  =  0.1;#  in  ohms\n",
      "Rf  =  50;#  in  ohms\n",
      "Ra  =  0.04;#  in  ohms\n",
      "\n",
      "#calculation:\n",
      " #Load  current,  I\n",
      "Is  =  Ps/Vs\n",
      " #Volt  drop  in  the  cables  to  the  load\n",
      "Vd  =  Is*Rs\n",
      " #Hence  terminal  voltage,\n",
      "V  =  Vs  +  Vd\n",
      " #Field  current,  If\n",
      "If  =  V/Rf\n",
      " #Armature  current\n",
      "Ia  =  If  +  Is\n",
      " #Generated  e.m.f.  E\n",
      "E  =  V  +  Ia*Ra\n",
      "\n",
      "\n",
      "#Results\n",
      "print  \"\\n\\n  Result  \\n\\n\"\n",
      "print  \"\\n  (a)terminal  voltage  is  \",round(V,2),\"  V  \"\n",
      "print  \"\\n  (b)generated  e.m.f.  is  \",round(E,2),\"  V  \""
     ],
     "language": "python",
     "metadata": {},
     "outputs": [
      {
       "output_type": "stream",
       "stream": "stdout",
       "text": [
        "\n",
        "\n",
        "  Result  \n",
        "\n",
        "\n",
        "\n",
        "  (a)terminal  voltage  is   210.0   V  \n",
        "\n",
        "  (b)generated  e.m.f.  is   214.17   V  "
       ]
      }
     ],
     "prompt_number": 9
    },
    {
     "cell_type": "markdown",
     "metadata": {},
     "source": [
      "<h3>Example 11, page no. 361</h3>"
     ]
    },
    {
     "cell_type": "code",
     "collapsed": false,
     "input": [
      "\n",
      "from __future__ import division\n",
      "import math\n",
      "#initializing  the  variables:\n",
      "Is  =  80;#  in  amperes\n",
      "Vs  =  200;#  in  Volts\n",
      "Rf  =  40;#  in  ohms\n",
      "Rse  =  0.02;#  in  ohms\n",
      "Ra  =  0.04;#  in  ohms\n",
      "\n",
      "#calculation:\n",
      " #Volt  drop  in  series  winding\n",
      "Vse  =  Is*Rse\n",
      " #P.d.  across  the  field  winding  =  p.d.  across  armature\n",
      "V1  =  Vs  +  Vse\n",
      " #Field  current,  If\n",
      "If  =  V1/Rf\n",
      " #Armature  current\n",
      "Ia  =  If  +  Is\n",
      " #Generated  e.m.f.  E\n",
      "E  =  V1  +  Ia*Ra\n",
      "\n",
      "\n",
      "#Results\n",
      "print  \"\\n\\n  Result  \\n\\n\"\n",
      "print  \"\\n  generated  e.m.f.  is  \",round(E,2),\"  V  \""
     ],
     "language": "python",
     "metadata": {},
     "outputs": [
      {
       "output_type": "stream",
       "stream": "stdout",
       "text": [
        "\n",
        "\n",
        "  Result  \n",
        "\n",
        "\n",
        "\n",
        "  generated  e.m.f.  is   205.0   V  "
       ]
      }
     ],
     "prompt_number": 12
    },
    {
     "cell_type": "markdown",
     "metadata": {},
     "source": [
      "<h3>Example 12, page no. 363</h3>"
     ]
    },
    {
     "cell_type": "code",
     "collapsed": false,
     "input": [
      "\n",
      "from __future__ import division\n",
      "import math\n",
      "#initializing  the  variables:\n",
      "Ps  =  10000;#  in  Watt\n",
      "Pl  =  600;#  in  Watt\n",
      "Ra  =  0.75;#  in  ohms\n",
      "Rf  =  125;#  in  ohms\n",
      "V  =  250;#  in  Volts\n",
      "\n",
      "#calculation:\n",
      " #Output  power  Ps  =  V*I\n",
      " #from  which,  load  current  I\n",
      "I  =  Ps/V\n",
      " #Field  current,  If\n",
      "If  =  V/Rf\n",
      " #Armature  current\n",
      "Ia  =  If  +  I\n",
      " #Efficiency,\n",
      "eff  =  Ps*100/((V*I)  +  (Ia*Ia*Ra)  +  (If*V)  +  (Pl))#  in  Percent\n",
      "\n",
      "\n",
      "#Results\n",
      "print  \"\\n\\n  Result  \\n\\n\"\n",
      "print  \"\\n  Efficiency  is  \",round(eff,2),\"  percent  \""
     ],
     "language": "python",
     "metadata": {},
     "outputs": [
      {
       "output_type": "stream",
       "stream": "stdout",
       "text": [
        "\n",
        "\n",
        "  Result  \n",
        "\n",
        "\n",
        "\n",
        "  Efficiency  is   80.5   percent  "
       ]
      }
     ],
     "prompt_number": 13
    },
    {
     "cell_type": "markdown",
     "metadata": {},
     "source": [
      "<h3>Example 13, page no. 364</h3>"
     ]
    },
    {
     "cell_type": "code",
     "collapsed": false,
     "input": [
      "\n",
      "from __future__ import division\n",
      "import math\n",
      "#initializing  the  variables:\n",
      "Ra  =  0.2;#  in  ohms\n",
      "V  =  240;#  in  Volts\n",
      "Ia  =  50;#  in  Amperes\n",
      "\n",
      "#calculation:\n",
      " #For  a  motor,  V  =  E  +  Ia*Ra\n",
      "E  =  V  -  Ia*Ra\n",
      "\n",
      "\n",
      "#Results\n",
      "print  \"\\n\\n  Result  \\n\\n\"\n",
      "print  \"\\n  back  e.m.f.  is  \",round(E,2),\"  V  \""
     ],
     "language": "python",
     "metadata": {},
     "outputs": [
      {
       "output_type": "stream",
       "stream": "stdout",
       "text": [
        "\n",
        "\n",
        "  Result  \n",
        "\n",
        "\n",
        "\n",
        "  back  e.m.f.  is   230.0   V  "
       ]
      }
     ],
     "prompt_number": 14
    },
    {
     "cell_type": "markdown",
     "metadata": {},
     "source": [
      "<h3>Example 14, page no. 365</h3>"
     ]
    },
    {
     "cell_type": "code",
     "collapsed": false,
     "input": [
      "\n",
      "from __future__ import division\n",
      "import math\n",
      "#initializing  the  variables:\n",
      "Ra  =  0.25;#  in  ohms\n",
      "V  =  300;#  in  Volts\n",
      "Ig  =  100;#  in  Amperes\n",
      "Im  =  80;#  in  Amperes\n",
      "\n",
      "#calculation:\n",
      " #As  a  generator,  generated  e.m.f.,\n",
      " #  E  =  V  +  Ia*Ra\n",
      "Eg  =  V  +  Ig*Ra\n",
      " #For  a  motor,  generated  e.m.f.  (or  back  e.m.f.),\n",
      " #  E  =  V  -  Ia*Ra\n",
      "E  =  V  -  Im*Ra\n",
      "\n",
      "\n",
      "#Results\n",
      "print  \"\\n\\n  Result  \\n\\n\"\n",
      "print  \"\\n  (a)As  a  generator,  generated  e.m.f.  is  \",round(Eg,2),\"  V  \"\n",
      "print  \"\\n  (b)back  e.m.f.  is  \",round(E,2),\"  V  \""
     ],
     "language": "python",
     "metadata": {},
     "outputs": [
      {
       "output_type": "stream",
       "stream": "stdout",
       "text": [
        "\n",
        "\n",
        "  Result  \n",
        "\n",
        "\n",
        "\n",
        "  (a)As  a  generator,  generated  e.m.f.  is   325.0   V  \n",
        "\n",
        "  (b)back  e.m.f.  is   280.0   V  "
       ]
      }
     ],
     "prompt_number": 15
    },
    {
     "cell_type": "markdown",
     "metadata": {},
     "source": [
      "<h3>Example 15, page no. 366</h3>"
     ]
    },
    {
     "cell_type": "code",
     "collapsed": false,
     "input": [
      "\n",
      "from __future__ import division\n",
      "import math\n",
      "#initializing  the  variables:\n",
      "p  =  4;\n",
      "c  =  2;#  for  a  wave  winding\n",
      "Phi  =  25E-3;#  Wb\n",
      "Z  =  900;\n",
      "Ia  =  30;#  in  Amperes\n",
      "\n",
      "#calculation:\n",
      " #torque  T  =  p*Phi*Z*Ia/(pi*c)\n",
      "T  =  p*Phi*Z*Ia/(1*math.pi*c)\n",
      "\n",
      "\n",
      "#Results\n",
      "print  \"\\n\\n  Result  \\n\\n\"\n",
      "print  \"\\n  the  torque  exerted  is  \",round(T,2),\"  Nm  \""
     ],
     "language": "python",
     "metadata": {},
     "outputs": [
      {
       "output_type": "stream",
       "stream": "stdout",
       "text": [
        "\n",
        "\n",
        "  Result  \n",
        "\n",
        "\n",
        "\n",
        "  the  torque  exerted  is   429.72   Nm  "
       ]
      }
     ],
     "prompt_number": 16
    },
    {
     "cell_type": "markdown",
     "metadata": {},
     "source": [
      "<h3>Example 16, page no. 366</h3>"
     ]
    },
    {
     "cell_type": "code",
     "collapsed": false,
     "input": [
      "\n",
      "from __future__ import division\n",
      "import math\n",
      "#initializing  the  variables:\n",
      "V  =  350;#  in  Volts\n",
      "Ra  =  0.5;#  in  ohms\n",
      "n  =  15;#  in  rev/sec\n",
      "Ia  =  60;#  in  Amperes\n",
      "\n",
      "#calculation:\n",
      " #Back  e.m.f.  E  =  V  -  Ia*Ra\n",
      "E  =  V  -  Ia*Ra\n",
      " #torque  T  =  E*Ia/(2*n*pi)\n",
      "T  =  E*Ia/(2*n*math.pi)\n",
      "\n",
      "\n",
      "#Results\n",
      "print  \"\\n\\n  Result  \\n\\n\"\n",
      "print  \"\\n  the  torque  exerted  is  \",round(T,2),\"  Nm  \""
     ],
     "language": "python",
     "metadata": {},
     "outputs": [
      {
       "output_type": "stream",
       "stream": "stdout",
       "text": [
        "\n",
        "\n",
        "  Result  \n",
        "\n",
        "\n",
        "\n",
        "  the  torque  exerted  is   203.72   Nm  "
       ]
      }
     ],
     "prompt_number": 17
    },
    {
     "cell_type": "markdown",
     "metadata": {},
     "source": [
      "<h3>Example 17, page no. 366</h3>"
     ]
    },
    {
     "cell_type": "code",
     "collapsed": false,
     "input": [
      "\n",
      "from __future__ import division\n",
      "import math\n",
      "#initializing  the  variables:\n",
      "p  =  1;#  let\n",
      "c  =  2*p;#  for  a  lap  winding\n",
      "Phi  =  20E-3;#  Wb\n",
      "Z  =  500;\n",
      "V  =  250;#  in  Volts\n",
      "Ra  =  1;#  in  ohms\n",
      "Ia  =  40;#  in  Amperes\n",
      "\n",
      "#calculation:\n",
      " #Back  e.m.f.  E  =  V  -  Ia*Ra\n",
      "E  =  V  -  Ia*Ra\n",
      " #E.m.f.  E  =  2*p*Phi*n*Z/c\n",
      " #  rearrange,\n",
      "n  =  E*c/(2*p*Phi*Z)\n",
      " #torque  T  =  E*Ia/(2*n*pi)\n",
      "T  =  E*Ia/(2*n*math.pi)\n",
      "\n",
      "\n",
      "#Results\n",
      "print  \"\\n\\n  Result  \\n\\n\"\n",
      "print  \"\\n  (a)speed  n  is  \",round(n,2),\"  rev/sec  \"\n",
      "print  \"\\n  (b)the  torque  exerted  is  \",round(T,2),\"  Nm  \""
     ],
     "language": "python",
     "metadata": {},
     "outputs": [
      {
       "output_type": "stream",
       "stream": "stdout",
       "text": [
        "\n",
        "\n",
        "  Result  \n",
        "\n",
        "\n",
        "\n",
        "  (a)speed  n  is   21.0   rev/sec  \n",
        "\n",
        "  (b)the  torque  exerted  is   63.66   Nm  "
       ]
      }
     ],
     "prompt_number": 18
    },
    {
     "cell_type": "markdown",
     "metadata": {},
     "source": [
      "<h3>Example 18, page no. 367</h3>"
     ]
    },
    {
     "cell_type": "code",
     "collapsed": false,
     "input": [
      "\n",
      "from __future__ import division\n",
      "import math\n",
      "#initializing  the  variables:\n",
      "T1  =  25;#  in  Nm\n",
      "T2  =  35;#  in  Nm\n",
      "Ia1  =  16;#  in  Amperes\n",
      "V  =  100;#  in  Volts\n",
      "x  =  0.15;\n",
      "\n",
      " #calculation:\n",
      " #the  shaft  torque  T  of  a  generator  is  proportional  to  (phi*Ia),\n",
      "    #where  Phi  is  the  flux  and  Ia  is  the  armature  current.  Thus,  T  =  k*Phi*Ia,  where  k  is  a  constant.\n",
      " #The  torque  at  flux  phi1  and  armature  current  Ia1  is  T1  =  k*Phi1*Ia1.\n",
      " #similarly  T2  =  k*Phi2*Ia2\n",
      "\n",
      "Ia2  =  T2*Ia1/(0.85*T1)\n",
      "\n",
      "\n",
      "#Results\n",
      "print  \"\\n\\n  Result  \\n\\n\"\n",
      "print  \"\\n  armature  current  at  the  new  value  of  torque  is  \",round(Ia2,2),\"  A  \""
     ],
     "language": "python",
     "metadata": {},
     "outputs": [
      {
       "output_type": "stream",
       "stream": "stdout",
       "text": [
        "\n",
        "\n",
        "  Result  \n",
        "\n",
        "\n",
        "\n",
        "  armature  current  at  the  new  value  of  torque  is   26.35   A  "
       ]
      }
     ],
     "prompt_number": 19
    },
    {
     "cell_type": "markdown",
     "metadata": {},
     "source": [
      "<h3>Example 19, page no. 367</h3>"
     ]
    },
    {
     "cell_type": "code",
     "collapsed": false,
     "input": [
      "\n",
      "from __future__ import division\n",
      "import math\n",
      "#initializing  the  variables:\n",
      "T  =  12;#  in  Nm\n",
      "I  =  15;#  in  Amperes\n",
      "V  =  100;#  in  Volts\n",
      "n  =  1500/60;#  in  rev/sec\n",
      "\n",
      "#calculation:\n",
      " #the  efficiency  of  a  generator  =  (output  power/input  power)*100  %\n",
      " #The  output  power  is  the  electrical  output,  i.e.  VI  watts.  \n",
      "    #The  input  power  to  a  generator  is  the  mechanical  power  in  the  shaft  driving  the  generator, \n",
      "    #i.e.  T*w  or  T(2*pi*n)  watts,  where  T  is  the  torque  in  Nm  and  n  is  speed  of  rotation  in  rev/s.  Hence,  for  a  generator  \n",
      " #efficiency  =  V*I*100/(T*2*pi*n) %\n",
      "eff  =  V*I*100/(T*2*math.pi*n)#  in    Percent\n",
      " #The  input  power  =  output  power  +  losses\n",
      " #  hence,  T*2*math.pi*n  =  V*I  +  losses\n",
      "Pl  =  T*2*math.pi*n  -  V*I\n",
      "\n",
      "\n",
      "#Results\n",
      "print  \"\\n\\n  Result  \\n\\n\"\n",
      "print  \"\\n  (a)  efficiency  is  \",round(eff,2),\" % \"\n",
      "print  \"\\n  (b)  power  loss  is  \",round(Pl,2),\"  W  \""
     ],
     "language": "python",
     "metadata": {},
     "outputs": [
      {
       "output_type": "stream",
       "stream": "stdout",
       "text": [
        "\n",
        "\n",
        "  Result  \n",
        "\n",
        "\n",
        "\n",
        "  (a)  efficiency  is   79.58  % \n",
        "\n",
        "  (b)  power  loss  is   384.96   W  "
       ]
      }
     ],
     "prompt_number": 20
    },
    {
     "cell_type": "markdown",
     "metadata": {},
     "source": [
      "<h3>Example 20, page no. 368</h3>"
     ]
    },
    {
     "cell_type": "code",
     "collapsed": false,
     "input": [
      "\n",
      "from __future__ import division\n",
      "import math\n",
      "#initializing  the  variables:\n",
      "Rf  =  150;#  in  Ohms\n",
      "Ra  =  0.4;#  in  Ohms\n",
      "I  =  30;#  in  Amperes\n",
      "V  =  240;#  in  Volts\n",
      "\n",
      "#calculation:\n",
      " #Field  current  If\n",
      "If  =  V/Rf\n",
      " #Supply  current  I  =  Ia  +  If\n",
      " #Hence  armature  current,  Ia\n",
      "Ia  =  I  -  If\n",
      " #Back  e.m.f.  E  =  V  -\u0004  Ia*Ra\n",
      "E  =  V  -  (Ia*Ra)\n",
      "\n",
      "\n",
      "#Results\n",
      "print  \"\\n\\n  Result  \\n\\n\"\n",
      "print  \"\\n  (a)    current  in  the  armature  is  \",round(Ia,2),\"  A  \"\n",
      "print  \"\\n  (b)  Back  e.m.f.  E  is  \",round(E,2),\"  V  \""
     ],
     "language": "python",
     "metadata": {},
     "outputs": [
      {
       "output_type": "stream",
       "stream": "stdout",
       "text": [
        "\n",
        "\n",
        "  Result  \n",
        "\n",
        "\n",
        "\n",
        "  (a)    current  in  the  armature  is   28.4   A  \n",
        "\n",
        "  (b)  Back  e.m.f.  E  is   228.64   V  "
       ]
      }
     ],
     "prompt_number": 21
    },
    {
     "cell_type": "markdown",
     "metadata": {},
     "source": [
      "<h3>Example 21, page no. 370</h3>"
     ]
    },
    {
     "cell_type": "code",
     "collapsed": false,
     "input": [
      "\n",
      "from __future__ import division\n",
      "import math\n",
      "#initializing  the  variables:\n",
      "Ia1  =  30;#  in  Amperes\n",
      "Ia2  =  45;#  in  Amperes\n",
      "Ra  =  0.4;#  in  ohm\n",
      "n1  =  1350/60;#  in  Rev/sec\n",
      "V  =  200;#  in  Volts\n",
      "\n",
      "#calculation:\n",
      " #The  relationship  E  proportional  to  (Phi*n)  applies  to  both  generators  and  motors.  For  a  motor,\n",
      " #E  =  V  -  (Ia*Ra)\n",
      "E1  =    V  -  (Ia1*Ra)\n",
      "E2  =    V  -  (Ia2*Ra)\n",
      " #The  relationship,  E1/E2  =  Phi1*n1/Phi2*n2,    applies  to  both  generators  and  motors.\n",
      "    #Since  the  flux  is  constant,  Phi1  =  Phi2\n",
      "n2  =  E2*n1/(E1)\n",
      "\n",
      "\n",
      "#Results\n",
      "print  \"\\n\\n  Result  \\n\\n\"\n",
      "print  \"\\n  the  speed  of  the  motor  is  \",round(n2,2),\"  rev/sec  \""
     ],
     "language": "python",
     "metadata": {},
     "outputs": [
      {
       "output_type": "stream",
       "stream": "stdout",
       "text": [
        "\n",
        "\n",
        "  Result  \n",
        "\n",
        "\n",
        "\n",
        "  the  speed  of  the  motor  is   21.78   rev/sec  "
       ]
      }
     ],
     "prompt_number": 22
    },
    {
     "cell_type": "markdown",
     "metadata": {},
     "source": [
      "<h3>Example 22, page no. 370</h3>"
     ]
    },
    {
     "cell_type": "code",
     "collapsed": false,
     "input": [
      "\n",
      "from __future__ import division\n",
      "import math\n",
      "#initializing  the  variables:\n",
      "Ia1  =  30;#  in  Amperes\n",
      "Ra  =  0.4;#  in  ohm\n",
      "n  =  800/60;#  in  Rev/sec\n",
      "V  =  220;#  in  Volts\n",
      "x=  0.1;\n",
      "\n",
      "#calculation:\n",
      " #For  a  d.c.  shunt-wound  motor,  E  =  V  -  (Ia*Ra),Hence  initial  generated  e.m.f.,\n",
      "E1  =    V  -  (Ia1*Ra)\n",
      " #The  generated  e.m.f.  is  also  such  that  E  proportional  to  (Phi*n)  \n",
      "    #so  at  the  instant  the  flux  is  reduced,  the  speed  has  not  had  time  to  change,  and\n",
      "E  =  E1*(1-x)\n",
      " #Hence,  the  voltage  drop  due  to  the  armature  resistance  is\n",
      "Vd  =  V  -  E\n",
      " #The  instantaneous  value  of  the  current  is\n",
      "Ia  =  Vd/Ra\n",
      " #T  proportional  to  (Phi*Ia),  since  the  torque  is  constant,\n",
      " #Phi1*Ia1  =  Phi2*Ia2,    The  flux  8  is  reduced  by  10%,  hence\n",
      "Ia2  =  Ia1/0.9\n",
      "\n",
      "\n",
      "#Results\n",
      "print  \"\\n\\n  Result  \\n\\n\"\n",
      "print  \"\\n  (a)instantaneous  value  of  the  current  \",round(Ia,2),\"  A  \"\n",
      "print  \"\\n  (b)steady  state  value  of  armature  current,  \",round(Ia2,2),\"  A  \""
     ],
     "language": "python",
     "metadata": {},
     "outputs": [
      {
       "output_type": "stream",
       "stream": "stdout",
       "text": [
        "\n",
        "\n",
        "  Result  \n",
        "\n",
        "\n",
        "\n",
        "  (a)instantaneous  value  of  the  current   82.0   A  \n",
        "\n",
        "  (b)steady  state  value  of  armature  current,   33.33   A  "
       ]
      }
     ],
     "prompt_number": 23
    },
    {
     "cell_type": "markdown",
     "metadata": {},
     "source": [
      "<h3>Example 23, page no. 372</h3>"
     ]
    },
    {
     "cell_type": "code",
     "collapsed": false,
     "input": [
      "\n",
      "from __future__ import division\n",
      "import math\n",
      "#initializing  the  variables:\n",
      "Ia1  =  15;#  in  Amperes\n",
      "Ia2  =  30;#  in  Amperes\n",
      "Rf  =  0.3;#  in  ohms\n",
      "Ra  =  0.2;#  in  ohm\n",
      "n1  =  24;#  in  Rev/sec\n",
      "V  =  240;#  in  Volts\n",
      "x=  2;\n",
      "\n",
      "#calculation:\n",
      " #generated  e.m.f.,  E,  at  initial  load,  is  given  by\n",
      "E1  =    V  -  Ia1*(Ra  +  Rf)\n",
      " #When  the  current  is  increased  to  30  A,  the  generated  e.m.f.  is  given  by:\n",
      "E2  =    V  -  Ia2*(Ra  +  Rf)\n",
      " #E  proportional  to  (Phi*n)\n",
      " #E1/E2  =  Phi1*n1/Phi2*n2\n",
      "n2  =  E2*n1/(2*E1)  \n",
      "\n",
      "\n",
      "#Results\n",
      "print  \"\\n\\n  Result  \\n\\n\"\n",
      "print  \"\\n  (a)generated  e.m.f.,  E  is  \",round(E1,2),\"  V  \"\n",
      "print  \"\\n  (b)speed  of  motor,  n2,  \",round(n2,2),\"  rev/sec  \""
     ],
     "language": "python",
     "metadata": {},
     "outputs": [
      {
       "output_type": "stream",
       "stream": "stdout",
       "text": [
        "\n",
        "\n",
        "  Result  \n",
        "\n",
        "\n",
        "\n",
        "  (a)generated  e.m.f.,  E  is   232.5   V  \n",
        "\n",
        "  (b)speed  of  motor,  n2,   11.61   rev/sec  "
       ]
      }
     ],
     "prompt_number": 3
    },
    {
     "cell_type": "markdown",
     "metadata": {},
     "source": [
      "<h3>Example 24, page no. 374</h3>"
     ]
    },
    {
     "cell_type": "code",
     "collapsed": false,
     "input": [
      "\n",
      "from __future__ import division\n",
      "import math\n",
      "#initializing  the  variables:\n",
      "I  =  80;#  in  Amperes\n",
      "C  =  1500;#  in  Watt\n",
      "Rf  =  40;#  in  ohms\n",
      "Ra  =  0.2;#  in  ohm\n",
      "n  =  1000/60;#  in  Rev/sec\n",
      "V  =  320;#  in  Volts\n",
      "\n",
      "#calculation:\n",
      " #Field  current,  If\n",
      "If  =  V/Rf\n",
      " #Armature  current  Ia\n",
      "Ia  =  I  -  If\n",
      " #Efficiency\n",
      "eff = ((V*I - (Ia*Ia*Ra) - (If*V) - C)/(V*I))*100 # in percent\n",
      "\n",
      "#Results\n",
      "print \"\\n\\n Result \\n\\n\"\n",
      "print \"\\n efficiency is\",round(eff,2),\"%\""
     ],
     "language": "python",
     "metadata": {},
     "outputs": [
      {
       "output_type": "stream",
       "stream": "stdout",
       "text": [
        "\n",
        "\n",
        " Result \n",
        "\n",
        "\n",
        "\n",
        " efficiency is 80.09 %"
       ]
      }
     ],
     "prompt_number": 25
    },
    {
     "cell_type": "markdown",
     "metadata": {},
     "source": [
      "<h3>Example 25, page no. 374</h3>"
     ]
    },
    {
     "cell_type": "code",
     "collapsed": false,
     "input": [
      "\n",
      "from __future__ import division\n",
      "import math\n",
      "#initializing  the  variables:\n",
      "I  =  40;#  in  Amperes\n",
      "Rf  =  0.05;#  in  ohms\n",
      "Ra  =  0.15;#  in  ohm\n",
      "V  =  250;#  in  Volts\n",
      "\n",
      "#calculation:\n",
      " #However  for  a  series  motor,  If  =  0  and  the  Ia*Ia*Ra  loss  needs  to  be  I*I*(\u0011Ra  +  Rf)\n",
      " #For  maximum  efficiency  I*I*\u0011(Ra  +  Rf)  =  C\n",
      " #Efficiency\n",
      "eff = ((V*I - (2*I*I*(Ra + Rf)))/(V*I))*100 # in percent\n",
      "\n",
      "#Results\n",
      "print \"\\n\\n Result \\n\\n\"\n",
      "print \"\\n efficiency is\",round(eff,2)"
     ],
     "language": "python",
     "metadata": {},
     "outputs": [
      {
       "output_type": "stream",
       "stream": "stdout",
       "text": [
        "\n",
        "\n",
        " Result \n",
        "\n",
        "\n",
        "\n",
        " efficiency is 93.6"
       ]
      }
     ],
     "prompt_number": 25
    },
    {
     "cell_type": "markdown",
     "metadata": {},
     "source": [
      "<h3>Example 26, page no. 375</h3>"
     ]
    },
    {
     "cell_type": "code",
     "collapsed": false,
     "input": [
      "\n",
      "from __future__ import division\n",
      "import math\n",
      "#initializing  the  variables:\n",
      "T  =  15;#  in  Nm\n",
      "n  =  1200/60;#  in  rev/sec\n",
      "eff  =  0.8;\n",
      "V  =  200;#  in  Volts\n",
      "\n",
      "#calculation:\n",
      "I = T*2*math.pi*n/(V*eff)\n",
      "\n",
      "#Results\n",
      "print \"\\n\\n Result \\n\\n\"\n",
      "print \"\\n current supplied, I is \",round(I,2),\"A\""
     ],
     "language": "python",
     "metadata": {},
     "outputs": [
      {
       "output_type": "stream",
       "stream": "stdout",
       "text": [
        "\n",
        "\n",
        " Result \n",
        "\n",
        "\n",
        "\n",
        " current supplied, I is  11.78 A"
       ]
      }
     ],
     "prompt_number": 26
    },
    {
     "cell_type": "markdown",
     "metadata": {},
     "source": [
      "<h3>Example 27, page no. 376</h3>"
     ]
    },
    {
     "cell_type": "code",
     "collapsed": false,
     "input": [
      "\n",
      "from __future__ import division\n",
      "import math\n",
      "#initializing  the  variables:\n",
      "R  =  2;#  in  ohm\n",
      "n  =  30;#  in  rev/sec\n",
      "I  =  10;#  in  A\n",
      "C  =  300;#  in  Watt\n",
      "V  =  400;#  in  Volts\n",
      "\n",
      "#calculation:\n",
      " #Efficiency\n",
      "eff = ((V*I - (I*I*R) - C)/(V*I))*100 # in percent\n",
      "\n",
      "#Results\n",
      "print \"\\n\\n Result \\n\\n\"\n",
      "print \"\\n efficiency is\",round(eff,2),\"%\""
     ],
     "language": "python",
     "metadata": {},
     "outputs": [
      {
       "output_type": "stream",
       "stream": "stdout",
       "text": [
        "\n",
        "\n",
        " Result \n",
        "\n",
        "\n",
        "\n",
        " efficiency is 87.5 %"
       ]
      }
     ],
     "prompt_number": 27
    },
    {
     "cell_type": "markdown",
     "metadata": {},
     "source": [
      "<h3>Example 28, page no. 378</h3>"
     ]
    },
    {
     "cell_type": "code",
     "collapsed": false,
     "input": [
      "\n",
      "from __future__ import division\n",
      "import math\n",
      "#initializing  the  variables:\n",
      "Ia1  =  120;#  in  A\n",
      "Ia2  =  60;#  in  A\n",
      "Ra  =  0.2;#  in  ohm\n",
      "n1  =  10;#  in  rev/sec\n",
      "R  =  0.5;#  in  ohm\n",
      "x  =  0.8;\n",
      "V  =  500;#  in  Volts\n",
      "\n",
      "#calculation:\n",
      " #back  e.m.f.  at  Ia1\n",
      "E1  =  V  -  Ia1*Ra\n",
      " #at  Ia2\n",
      "E2  =  V  -  Ia2*(Ra  +  R)\n",
      " #E1/E2  =  Phi1*n1/Phi2*n2\n",
      "n2  = n1*E2/E1\n",
      " #Back  e.m.f.  when  Ia2\n",
      "E3  =  V  -  Ia2*Ra\n",
      "n3  =  n1*E3/(x*E1)\n",
      "\n",
      "\n",
      "#Results\n",
      "print  \"\\n\\n  Result  \\n\\n\"\n",
      "print  \"\\n  (a)speed  n2  is  \",round(n2,2),\"  rev/sec\"\n",
      "print  \"\\n  (b)speed  n3  is  \",round(n3,2),\"  rev/sec\""
     ],
     "language": "python",
     "metadata": {},
     "outputs": [
      {
       "output_type": "stream",
       "stream": "stdout",
       "text": [
        "\n",
        "\n",
        "  Result  \n",
        "\n",
        "\n",
        "\n",
        "  (a)speed  n2  is   9.62   rev/sec\n",
        "\n",
        "  (b)speed  n3  is   12.82   rev/sec"
       ]
      }
     ],
     "prompt_number": 2
    },
    {
     "cell_type": "markdown",
     "metadata": {},
     "source": [
      "<h3>Example 29, page no. 379</h3>"
     ]
    },
    {
     "cell_type": "code",
     "collapsed": false,
     "input": [
      "\n",
      "from __future__ import division\n",
      "import math\n",
      "#initializing  the  variables:\n",
      "Ia1  =  90;#  in  Amperes\n",
      "Ra  =  0.1;#  in  ohm\n",
      "Rse  =  0.05;#  in  ohm\n",
      "Rd  =  0.2;#  in  Ohm\n",
      "n1  =  15;#  in  rev/sec\n",
      "V  =  300;#  in  Volts\n",
      "\n",
      "#calculation:\n",
      " #e.m.f.  E1\n",
      "E1  =  V  -  Ia1*(Ra  +  Rse)\n",
      " #With  the  Rd  diverter  in  parallel  with  Rse\n",
      " #equivalent  resistance,  Re\n",
      "Re  =  Rd*Rse/(Rd+Rse)\n",
      " #Torque,  T  proprtional  to  Ia*Phi  and  for  full  load  torque,  Ia1*Phi1  =  Ia2*Phi2\n",
      " #Since  flux  is  proportional  to  field  current  Phi1  proportional  to  Ta1  and  Phi2  Proportional  to  I1\n",
      "I1  =    (Ia1*Ia1*0.8)**0.5\n",
      " #By  current  division,  current  I1\n",
      "Ia2  =  I1/(Rd/(Rd  +  Rse))\n",
      " #Hence  e.m.f.  E2\n",
      "E2  =  V  -  Ia2*(Ra  +  Re)\n",
      " #E1/E2  =  Phi1*n1/Phi2*n2\n",
      "n2  =  E2*Ia1*n1/(I1*E1)\n",
      "\n",
      "\n",
      "#Results\n",
      "print  \"\\n\\n  Result  \\n\\n\"\n",
      "print  \"\\n  speed  n2  is  \",round(n2,2),\"  rev/sec\""
     ],
     "language": "python",
     "metadata": {},
     "outputs": [
      {
       "output_type": "stream",
       "stream": "stdout",
       "text": [
        "\n",
        "\n",
        "  Result  \n",
        "\n",
        "\n",
        "\n",
        "  speed  n2  is   16.74   rev/sec"
       ]
      }
     ],
     "prompt_number": 29
    },
    {
     "cell_type": "markdown",
     "metadata": {},
     "source": [
      "<h3>Example 30, page no. 380</h3>"
     ]
    },
    {
     "cell_type": "code",
     "collapsed": false,
     "input": [
      "\n",
      "from __future__ import division\n",
      "import math\n",
      "#initializing  the  variables:\n",
      "Ia1  =  25;#  in  Amperes\n",
      "Ra  =  0.4;#  in  ohm\n",
      "Rse  =  0.2;#  in  ohm\n",
      "n1  =  800/60;#  in  rev/sec\n",
      "n2  =  600/60;#  in  rev/sec\n",
      "V  =  400;#  in  Volts\n",
      "\n",
      "#calculation:\n",
      " #e.m.f.  E1\n",
      "E1  =  V  -  Ia1*(Ra  +  Rse)\n",
      " #At  n2,  since  the  current  is  unchanged,  the  flux  is  unchanged.\n",
      " #E1/E2  =  n1/n2\n",
      "E2  =  E1*n2/n1\n",
      " #and  E2  =  V  -  Ia1(\u0011Ra  +  Rse  +  R)\n",
      "R  =  (V  -  E2)/Ia1  -  Ra  -  Rse\n",
      "\n",
      "\n",
      "#Results\n",
      "print  \"\\n\\n  Result  \\n\\n\"\n",
      "print  \"\\n  Resistance  is  \",round(R,2),\"  ohm\""
     ],
     "language": "python",
     "metadata": {},
     "outputs": [
      {
       "output_type": "stream",
       "stream": "stdout",
       "text": [
        "\n",
        "\n",
        "  Result  \n",
        "\n",
        "\n",
        "\n",
        "  Resistance  is   3.85   ohm"
       ]
      }
     ],
     "prompt_number": 30
    }
   ],
   "metadata": {}
  }
 ]
}