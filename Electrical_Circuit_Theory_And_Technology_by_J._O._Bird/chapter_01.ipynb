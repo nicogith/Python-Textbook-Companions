{
 "metadata": {
  "name": "",
  "signature": "sha256:132479673f217c6ad4667b69d4be561d4eafa6bd7e059501c289648667d366ed"
 },
 "nbformat": 3,
 "nbformat_minor": 0,
 "worksheets": [
  {
   "cells": [
    {
     "cell_type": "markdown",
     "metadata": {},
     "source": [
      "<h1>Chapter 1: Units Associated with Basic Electrical Quantities</h1>"
     ]
    },
    {
     "cell_type": "markdown",
     "metadata": {},
     "source": [
      "<h3>Example 1, page no. 4</h3>"
     ]
    },
    {
     "cell_type": "code",
     "collapsed": false,
     "input": [
      "\n",
      "from __future__ import division\n",
      "#initializing the variables:\n",
      "I = 5;   # in Ampere\n",
      "t = 120; # in sec\n",
      "\n",
      "#calculation:\n",
      "Q = I*t\n",
      "\n",
      "#results\n",
      "print \"Charge, Q = \", Q,\"coulomb(C)\""
     ],
     "language": "python",
     "metadata": {},
     "outputs": [
      {
       "output_type": "stream",
       "stream": "stdout",
       "text": [
        "Charge, Q =  600 coulomb(C)"
       ]
      }
     ],
     "prompt_number": 1
    },
    {
     "cell_type": "markdown",
     "metadata": {},
     "source": [
      "<h3>Example 2, page no. 5</h3>"
     ]
    },
    {
     "cell_type": "code",
     "collapsed": false,
     "input": [
      "\n",
      "from __future__ import division\n",
      "#initializing the variables:\n",
      "M = 5; # in Kg\n",
      "a = 2; # in m/s2\n",
      "\n",
      "#calculation:\n",
      "F = M*a\n",
      "\n",
      "#results\n",
      "print \"Force:\", F,\"Newton(N)\""
     ],
     "language": "python",
     "metadata": {},
     "outputs": [
      {
       "output_type": "stream",
       "stream": "stdout",
       "text": [
        "Force: 10 Newton(N)"
       ]
      }
     ],
     "prompt_number": 2
    },
    {
     "cell_type": "markdown",
     "metadata": {},
     "source": [
      "<h3>Example 3, page no. 5</h3>"
     ]
    },
    {
     "cell_type": "code",
     "collapsed": false,
     "input": [
      "\n",
      "from __future__ import division\n",
      "#initializing the variables:\n",
      "M = 0.2; # in Kg\n",
      "g = 9.81; # in m/s2\n",
      "\n",
      "#calculation:\n",
      "F = M*g\n",
      "\n",
      "#results\n",
      "print \"Force:\", F,\"Newton(N)\""
     ],
     "language": "python",
     "metadata": {},
     "outputs": [
      {
       "output_type": "stream",
       "stream": "stdout",
       "text": [
        "Force: 1.962 Newton(N)"
       ]
      }
     ],
     "prompt_number": 3
    },
    {
     "cell_type": "markdown",
     "metadata": {},
     "source": [
      "<h3>Example 4, page no. 6</h3>"
     ]
    },
    {
     "cell_type": "code",
     "collapsed": false,
     "input": [
      "\n",
      "from __future__ import division\n",
      "#initializing the variables:\n",
      "F = 200; # in Newton\n",
      "d = 20; # in m\n",
      "t = 25; # in sec\n",
      "\n",
      "#calculation:\n",
      "W = F*d\n",
      "P = W/t\n",
      "\n",
      "#results\n",
      "print \"Power:\", P,\"watt(W)\"\n",
      "print \"Work Done:\", W,\"Nm\""
     ],
     "language": "python",
     "metadata": {},
     "outputs": [
      {
       "output_type": "stream",
       "stream": "stdout",
       "text": [
        "Power: 160.0 watt(W)\n",
        "Work Done: 4000 Nm"
       ]
      }
     ],
     "prompt_number": 1
    },
    {
     "cell_type": "markdown",
     "metadata": {},
     "source": [
      "<h3>Example 5, page no. 6</h3>"
     ]
    },
    {
     "cell_type": "code",
     "collapsed": false,
     "input": [
      "\n",
      "from __future__ import division\n",
      "#initializing the variables:\n",
      "M = 1000; # in Kg\n",
      "h = 10; # in m\n",
      "t = 20; # in sec\n",
      "g = 9.81 # in m/s2\n",
      "\n",
      "#calculation:\n",
      "W = M*g*h\n",
      "P = W/t\n",
      "\n",
      "#results\n",
      "print \"Work Done:\", W,\"Joule(J)\"\n",
      "print \"Power:\", P,\"watt(W)\""
     ],
     "language": "python",
     "metadata": {},
     "outputs": [
      {
       "output_type": "stream",
       "stream": "stdout",
       "text": [
        "Work Done: 98100.0 Joule(J)\n",
        "Power: 4905.0 watt(W)"
       ]
      }
     ],
     "prompt_number": 5
    },
    {
     "cell_type": "markdown",
     "metadata": {},
     "source": [
      "<h3>Example 6, page no. 7</h3>"
     ]
    },
    {
     "cell_type": "code",
     "collapsed": false,
     "input": [
      "\n",
      "from __future__ import division\n",
      "#initializing the variables:\n",
      "R1 = 10; # in ohm\n",
      "R2 = 5000; # in ohm\n",
      "R3 = 0.1; # in ohm\n",
      "#calculation:\n",
      "G1 = 1/R1\n",
      "G2 = 1/R2\n",
      "G3 = 1/R3\n",
      "\n",
      "#results\n",
      "print \"conductance(G1):\", G1,\"seimen(S)\"\n",
      "print \"conductance(G2):\", G2,\"seimen(S)\"\n",
      "print \"conductance(G3):\", G3,\"seimen(S)\""
     ],
     "language": "python",
     "metadata": {},
     "outputs": [
      {
       "output_type": "stream",
       "stream": "stdout",
       "text": [
        "conductance(G1): 0.1 seimen(S)\n",
        "conductance(G2): 0.0002 seimen(S)\n",
        "conductance(G3): 10.0 seimen(S)"
       ]
      }
     ],
     "prompt_number": 6
    },
    {
     "cell_type": "markdown",
     "metadata": {},
     "source": [
      "<h3>Example 7, page no. 7</h3>"
     ]
    },
    {
     "cell_type": "code",
     "collapsed": false,
     "input": [
      "\n",
      "from __future__ import division\n",
      "#initializing the variables:\n",
      "V = 5; # in Volts\n",
      "I = 3; # in Ampere\n",
      "t = 600; # in sec\n",
      "#calculation:\n",
      "P = V*I\n",
      "E = P*t\n",
      "\n",
      "#results\n",
      "print \"Energy(E):\", E,\"Joule(J)\""
     ],
     "language": "python",
     "metadata": {},
     "outputs": [
      {
       "output_type": "stream",
       "stream": "stdout",
       "text": [
        "Energy(E): 9000 Joule(J)"
       ]
      }
     ],
     "prompt_number": 7
    },
    {
     "cell_type": "markdown",
     "metadata": {},
     "source": [
      "<h3>Example 8, page no. 8</h3>"
     ]
    },
    {
     "cell_type": "code",
     "collapsed": false,
     "input": [
      "\n",
      "from __future__ import division\n",
      "#initializing the variables:\n",
      "E = 18E5; # in Joule\n",
      "V = 250; # in Volts\n",
      "t = 1800; # in sec\n",
      "\n",
      "#calculation:\n",
      "P = E/t\n",
      "I = P/V\n",
      "\n",
      "#results\n",
      "print \"Power(P):\", P,\"Watt(W)\"\n",
      "print \"Current(I):\", I,\"Ampere(A)\""
     ],
     "language": "python",
     "metadata": {},
     "outputs": [
      {
       "output_type": "stream",
       "stream": "stdout",
       "text": [
        "Power(P): 1000.0 Watt(W)\n",
        "Current(I): 4.0 Ampere(A)"
       ]
      }
     ],
     "prompt_number": 9
    }
   ],
   "metadata": {}
  }
 ]
}