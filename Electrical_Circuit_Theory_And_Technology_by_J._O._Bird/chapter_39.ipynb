{
 "metadata": {
  "name": "",
  "signature": "sha256:1ec371cb843067028dd1e055f435f5ad6cdc4ce9c5ed963c08c525b60770abca"
 },
 "nbformat": 3,
 "nbformat_minor": 0,
 "worksheets": [
  {
   "cells": [
    {
     "cell_type": "markdown",
     "metadata": {},
     "source": [
      "<h1>Chapter 39: Dielectrics and dielectric loss</h1>"
     ]
    },
    {
     "cell_type": "markdown",
     "metadata": {},
     "source": [
      "<h3>Example 1, page no. 717</h3>"
     ]
    },
    {
     "cell_type": "code",
     "collapsed": false,
     "input": [
      "\n",
      "from __future__ import division\n",
      "import math\n",
      "#initializing  the  variables:\n",
      "Rs  =  1.5;#  in  ohms\n",
      "Cs  =  400E-12;#  in  Farads\n",
      "f  =  8E6;#  in  Hz\n",
      "\n",
      "#calculation:  \n",
      " #for  a  series  equivalent  circuit,\n",
      " #tan(del)  =  Rs*w*Cs\n",
      " #loss  angle,\n",
      "de  =  math.atan(Rs*Cs*(2*math.pi*f))\n",
      " #power  factor\n",
      "pf  =  math.cos(de)\n",
      " #the  Q-factor\n",
      "Q  =  1/math.tan(de)\n",
      " #dissipation  factor,\n",
      "D  =  1/Q\n",
      "\n",
      "\n",
      "#Results\n",
      "print  \"\\n\\n  Result  \\n\\n\"\n",
      "print  \"\\n  (a)loss  angle  \",round(de,2),\"  rad.\"\n",
      "print  \"\\n  (b)power  factor  \",round(de,2),\"  rad.\"\n",
      "print  \"\\n  (c)Q-factor  is  \",round(Q,2)\n",
      "print  \"\\n  (d)dissipation  factor  \",round(D,2),\"  rad.\""
     ],
     "language": "python",
     "metadata": {},
     "outputs": [
      {
       "output_type": "stream",
       "stream": "stdout",
       "text": [
        "\n",
        "\n",
        "  Result  \n",
        "\n",
        "\n",
        "\n",
        "  (a)loss  angle   0.03   rad.\n",
        "\n",
        "  (b)power  factor   0.03   rad.\n",
        "\n",
        "  (c)Q-factor  is   33.16\n",
        "\n",
        "  (d)dissipation  factor   0.03   rad."
       ]
      }
     ],
     "prompt_number": 1
    },
    {
     "cell_type": "markdown",
     "metadata": {},
     "source": [
      "<h3>Example 2, page no. 718</h3>"
     ]
    },
    {
     "cell_type": "code",
     "collapsed": false,
     "input": [
      "\n",
      "from __future__ import division\n",
      "import math\n",
      "#initializing  the  variables:\n",
      "de  =  0.025;#  in  rad.\n",
      "V  =  5000;#  in  Volts\n",
      "PL  =  20;#  power  loss\n",
      "f  =  50;#  in  Hz\n",
      "\n",
      "#calculation:  \n",
      " #power  loss  =  w*C*V**2*tan(del)\n",
      "Cp  =  PL/(2*math.pi*f*V*V*math.tan(de))\n",
      " #for  a  parallel  equivalent  circuit,\n",
      " #tan(del)  =  1/(Rp*w*Cp)\n",
      "Rp  =  1/(2*math.pi*f*Cp*math.tan(de))\n",
      "\n",
      "\n",
      "#Results\n",
      "print  \"\\n\\n  Result  \\n\\n\"\n",
      "print  \"\\n  capacitance  C  \",round(Cp*1E6,2),\"uF  and  parallel  resistance  \",round(Rp,2),\"ohm.\""
     ],
     "language": "python",
     "metadata": {},
     "outputs": [
      {
       "output_type": "stream",
       "stream": "stdout",
       "text": [
        "\n",
        "\n",
        "  Result  \n",
        "\n",
        "\n",
        "\n",
        "  capacitance  C   0.1 uF  and  parallel  resistance   1250000.0 ohm."
       ]
      }
     ],
     "prompt_number": 2
    },
    {
     "cell_type": "markdown",
     "metadata": {},
     "source": [
      "<h3>Example 3, page no. 718</h3>"
     ]
    },
    {
     "cell_type": "code",
     "collapsed": false,
     "input": [
      "\n",
      "from __future__ import division\n",
      "import math\n",
      "#initializing  the  variables:\n",
      "P  =  500E-6;#  in  Watt\n",
      "C  =  2000E-12;#  in  Farads\n",
      "V  =  20;#  in  Volts\n",
      "f  =  10000;#  in  Hz\n",
      "\n",
      " #calculation:  \n",
      " #power  loss  =  w*C*V**2*tan(del)\n",
      " #loss  angle\n",
      "de =  math.atan(P/(2*math.pi*f*V*V*C))\n",
      " #for  an  equivalent  series  circuit,\n",
      " #tan(del)  =  (Rs*w*Cs)\n",
      "Cs  =  C\n",
      "Rs  =  (math.tan(de))/(2*math.pi*f*Cs)\n",
      " #for  an  equivalent  parallel  circuit\n",
      " #tan(del)  =  1/(Rp*w*Cp)\n",
      "Cp  =  C\n",
      "Rp  =  1/(2*math.pi*f*Cp*math.tan(de))\n",
      "\n",
      "\n",
      "#Results\n",
      "print  \"\\n\\n  Result  \\n\\n\"\n",
      "print  \"\\n  (a)loss  angle  \",round(de*180/math.pi,2),\"deg\"\n",
      "print  \"\\n  (b)series  resistance  \",round(Rs,2),\"  ohm.\"\n",
      "print  \"\\n  (c)parallel  resistance  \",round(Rp/1000,2),\"Kohm.\""
     ],
     "language": "python",
     "metadata": {},
     "outputs": [
      {
       "output_type": "stream",
       "stream": "stdout",
       "text": [
        "\n",
        "\n",
        "  Result  \n",
        "\n",
        "\n",
        "\n",
        "  (a)loss  angle   0.57 deg\n",
        "\n",
        "  (b)series  resistance   79.16   ohm.\n",
        "\n",
        "  (c)parallel  resistance   800.0 Kohm."
       ]
      }
     ],
     "prompt_number": 1
    }
   ],
   "metadata": {}
  }
 ]
}