{
 "metadata": {
  "name": ""
 },
 "nbformat": 3,
 "nbformat_minor": 0,
 "worksheets": [
  {
   "cells": [
    {
     "cell_type": "heading",
     "level": 1,
     "metadata": {},
     "source": [
      "Chapter 08 : Inverters"
     ]
    },
    {
     "cell_type": "heading",
     "level": 2,
     "metadata": {},
     "source": [
      "Example 8.3, Page No 465"
     ]
    },
    {
     "cell_type": "code",
     "collapsed": false,
     "input": [
      "import math\n",
      "#initialisation of variables\n",
      "T=0.1*10**-3\n",
      "f=1.0/T\n",
      "k=15*10**-6 #k=th/w\n",
      "\n",
      "#Calculations\n",
      "th=2*math.pi*f*k\n",
      "X_l=10.0\n",
      "R=2.0\n",
      "X_c=R*math.tan(th)+X_l\n",
      "C=1/(2*math.pi*f*X_c)    \n",
      "\n",
      "#Results\n",
      "print(\"value of C=%.3f uF\" %(C*10**6))\n"
     ],
     "language": "python",
     "metadata": {},
     "outputs": [
      {
       "output_type": "stream",
       "stream": "stdout",
       "text": [
        "value of C=1.248 uF\n"
       ]
      }
     ],
     "prompt_number": 1
    },
    {
     "cell_type": "heading",
     "level": 2,
     "metadata": {},
     "source": [
      "Example 8.4 Page No 466"
     ]
    },
    {
     "cell_type": "code",
     "collapsed": false,
     "input": [
      "import math\n",
      "#initialisation of variables\n",
      "V_s=230.0\n",
      "\n",
      "#Calculations\n",
      "V_01=2*V_s/(math.sqrt(2)*math.pi)\n",
      "R=2.0\n",
      "I_01=V_01/R\n",
      "P_d=I_01**2*R    \n",
      "V=V_s/2\n",
      "I_s=math.sqrt(2)*I_01/math.pi\n",
      "P_s=V*I_s\n",
      "\n",
      "#Results\n",
      "print(\"power delivered to load=%.1f W\" %P_d)\n",
      "print(\"power delivered by both sources=%.1f W\" %(2*P_s))"
     ],
     "language": "python",
     "metadata": {},
     "outputs": [
      {
       "output_type": "stream",
       "stream": "stdout",
       "text": [
        "power delivered to load=5359.9 W\n",
        "power delivered by both sources=5359.9 W\n"
       ]
      }
     ],
     "prompt_number": 2
    },
    {
     "cell_type": "heading",
     "level": 2,
     "metadata": {},
     "source": [
      "Example 8.5, Page No 468"
     ]
    },
    {
     "cell_type": "code",
     "collapsed": false,
     "input": [
      "import math\n",
      "#initialisation of variables\n",
      "V_s=230.0\n",
      "V_01=4*V_s/(math.pi*math.sqrt(2))\n",
      "R=1.0\n",
      "X_L=6.0\n",
      "X_c=7.0\n",
      "\n",
      "#Calculations\n",
      "I_01=V_01/math.sqrt(R**2+(X_L-X_c)**2)\n",
      "P=I_01**2*R    \n",
      "I_s=math.sqrt(2)*I_01*(2*math.cos(math.radians(45)))/math.pi\n",
      "P_s=V_s*I_s    \n",
      "\n",
      "#Results\n",
      "print(\"power delivered to the source=%.3f kW\" %(P/1000))\n",
      "print(\"\\npower from the source=%.3f kW\" %(P_s/1000))\n",
      "   "
     ],
     "language": "python",
     "metadata": {},
     "outputs": [
      {
       "output_type": "stream",
       "stream": "stdout",
       "text": [
        "power delivered to the source=21.440 kW\n",
        "\n",
        "power from the source=21.440 kW\n"
       ]
      }
     ],
     "prompt_number": 3
    },
    {
     "cell_type": "heading",
     "level": 2,
     "metadata": {},
     "source": [
      "Example 8.6 Page No 469"
     ]
    },
    {
     "cell_type": "code",
     "collapsed": false,
     "input": [
      "import math\n",
      "#initialisation of variables\n",
      "V_01=230.0\n",
      "R=2.0\n",
      "I_01=V_01/R\n",
      "I_m=I_01*math.sqrt(2)\n",
      "I_T1=I_m/2    \n",
      "I_D1=0    \n",
      "X_L=8.0\n",
      "X_C=6.0\n",
      "\n",
      "#Calculations\n",
      "I_01=V_01/math.sqrt(R**2+(X_L-X_C)**2)\n",
      "phi1=math.degrees(math.atan((X_L-X_C)/R))\n",
      "I_T1=I_T1*math.sqrt(2)*0.47675    \n",
      "I_D1=.1507025*I_m/math.sqrt(2)    \n",
      "\n",
      "\n",
      "#Results\n",
      "print(\"when load R=2 ohm\")\n",
      "print(\"rms value of thyristor current=%.2f A\" %I_T1)\n",
      "print(\"rms value of diode current=%.0f A\" %I_D1)\n",
      "print(\"when load R=2ohm % X_L=8ohm and X_C=6ohm\")\n",
      "print(\"rms value of thyristor current=%.3f A\" %I_T1)\n",
      "print(\"rms value of diode current=%.3f A\" %I_D1)"
     ],
     "language": "python",
     "metadata": {},
     "outputs": [
      {
       "output_type": "stream",
       "stream": "stdout",
       "text": [
        "when load R=2 ohm\n",
        "rms value of thyristor current=54.83 A\n",
        "rms value of diode current=17 A\n",
        "when load R=2ohm % X_L=8ohm and X_C=6ohm\n",
        "rms value of thyristor current=54.826 A\n",
        "rms value of diode current=17.331 A\n"
       ]
      }
     ],
     "prompt_number": 4
    },
    {
     "cell_type": "heading",
     "level": 2,
     "metadata": {},
     "source": [
      "Example 8.7 Page No 470"
     ]
    },
    {
     "cell_type": "code",
     "collapsed": false,
     "input": [
      "import math\n",
      "#initialisation of variables\n",
      "V_s=230.0\n",
      "R=4.0\n",
      "f=50.0\n",
      "w=2*math.pi*f\n",
      "L=0.035\n",
      "\n",
      "#Calculations\n",
      "C=155*10**-6\n",
      "X_L=w*L\n",
      "X_C=1/(w*C)\n",
      "Z1=math.sqrt(R**2+(X_L-X_C)**2)\n",
      "phi1=-math.degrees(math.atan((X_L-X_C)/R))\n",
      "Z3=math.sqrt(R**2+(X_L*3-X_C/3)**2)\n",
      "phi3=math.degrees(math.atan((X_L*3-X_C/3)/R))\n",
      "Z5=math.sqrt(R**2+(X_L*5-X_C/5)**2)\n",
      "phi5=math.degrees(math.atan((X_L*5-X_C/5)/R))\n",
      "I_m1=4*V_s/(Z1*math.pi)\n",
      "I_01=I_m1/math.sqrt(2)    \n",
      "I_m3=4*V_s/(3*Z3*math.pi)\n",
      "I_m5=4*V_s/(5*Z5*math.pi)\n",
      "I_m=math.sqrt(I_m1**2+I_m3**2+I_m5**2)\n",
      "I_0=I_m/math.sqrt(2)\n",
      "P_0=(I_0)**2*R    \n",
      "P_01=(I_01)**2*R    \n",
      "t1=(180-phi1)*math.pi/(180*w)    \n",
      "t1=(phi1)*math.pi/(180*w)    \n",
      "\n",
      "#Results\n",
      "print(\"rms value of fundamental load current=%.2f A\" %I_01)\n",
      "print(\"load power=%.1f W\" %P_0)\n",
      "print(\"fundamental load power=%.1f W\" %P_01)\n",
      "print(\"rms value of thyristor current=%.3f A\" %(I_m/2))\n",
      "print(\"conduction time for thyristor=%.3f ms\" %(t1*1000))\n",
      "print(\"Conduction time for diodes=%.3f ms\" %(t1*1000))\n"
     ],
     "language": "python",
     "metadata": {},
     "outputs": [
      {
       "output_type": "stream",
       "stream": "stdout",
       "text": [
        "rms value of fundamental load current=20.02 A\n",
        "load power=1632.5 W\n",
        "fundamental load power=1602.6 W\n",
        "rms value of thyristor current=14.285 A\n",
        "conduction time for thyristor=3.736 ms\n",
        "Conduction time for diodes=3.736 ms\n"
       ]
      }
     ],
     "prompt_number": 5
    },
    {
     "cell_type": "heading",
     "level": 2,
     "metadata": {},
     "source": [
      "Example 8.8, Page No 473"
     ]
    },
    {
     "cell_type": "code",
     "collapsed": false,
     "input": [
      "import math\n",
      "#initialisation of variables\n",
      "V_s=230.0\n",
      "V_01=2*V_s/(math.sqrt(2)*math.pi)    \n",
      "R=10.0\n",
      "\n",
      "#Calculations\n",
      "I_01=V_01/R\n",
      "P=I_01**2*R    \n",
      "V_or=math.sqrt((V_s/2)**2)\n",
      "P=V_or**2/R    \n",
      "I_TP=V_s/(2*R)\n",
      "I_or=I_TP\n",
      "pf=I_01**2*R/(V_or*I_or)  \n",
      "DF=V_01/V_or  \n",
      "V_oh=math.sqrt(V_or**2-V_01**2)\n",
      "THD=V_oh/V_01 \n",
      "V_03=V_01/3\n",
      "HF=V_03/V_01\n",
      "\n",
      "#Results\n",
      "print(\"fundamental rms o/p voltage=%.3f V\" %V_01)\n",
      "print(\"fundamental power to load=%.1f W\" %P)\n",
      "print(\"total o/p power to load=%.1f W\" %P)\n",
      "print(\"avg SCR current=%.2f A\" %(I_TP*180/360))\n",
      "print(\"i/p pf=%.3f\" %pf)  \n",
      "print(\"distortion factor=%.1f\" %DF)\n",
      "print(\"THD=%.3f\" %THD)    \n",
      "print(\"harmonic factor=%.4f\" %HF)"
     ],
     "language": "python",
     "metadata": {},
     "outputs": [
      {
       "output_type": "stream",
       "stream": "stdout",
       "text": [
        "fundamental rms o/p voltage=103.536 V\n",
        "fundamental power to load=1322.5 W\n",
        "total o/p power to load=1322.5 W\n",
        "avg SCR current=5.75 A\n",
        "i/p pf=0.811\n",
        "distortion factor=0.9\n",
        "THD=0.483\n",
        "harmonic factor=0.3333\n"
       ]
      }
     ],
     "prompt_number": 6
    },
    {
     "cell_type": "heading",
     "level": 2,
     "metadata": {},
     "source": [
      "Example 8.9 Page No 474"
     ]
    },
    {
     "cell_type": "code",
     "collapsed": false,
     "input": [
      "import math\n",
      "#initialisation of variables\n",
      "V_s=60\n",
      "R=3.0\n",
      "\n",
      "#Calculations\n",
      "V_or=math.sqrt(V_s**2*math.pi/math.pi)    \n",
      "V_01=4*V_s/(math.sqrt(2)*math.pi)    \n",
      "P_o=V_or**2/R    \n",
      "P_01=V_01**2/R    \n",
      "I_s=V_s/R    \n",
      "I_avg=I_s*math.pi/(2*math.pi)    \n",
      "V_03=V_01/3\n",
      "HF=V_03/V_01    \n",
      "V_oh=math.sqrt(V_or**2-V_01**2)\n",
      "THD=V_oh/V_01   \n",
      "\n",
      "#Results\n",
      "print(\"rms value of o/p voltage=%.0f V\" %V_or)\n",
      "print(\"o/p power=%.0f W\" %P_o)\n",
      "print(\"fundamental component of rms voltage=%.2f V\" %V_01)\n",
      "print(\"fundamental freq o/p power=%.2f W\" %P_01) \n",
      "print(\"peak current=%.0f A\" %I_s)\n",
      "print(\"avg current of each transistor=%.0f A\" %I_avg)\n",
      "print(\"peak reverse blocking voltage=%.0f V\" %V_s)\n",
      "print(\"harmonic factor=%.4f\" %HF)\n",
      "print(\"THD=%.4f\" %THD)\n"
     ],
     "language": "python",
     "metadata": {},
     "outputs": [
      {
       "output_type": "stream",
       "stream": "stdout",
       "text": [
        "rms value of o/p voltage=60 V\n",
        "o/p power=1200 W\n",
        "fundamental component of rms voltage=54.02 V\n",
        "fundamental freq o/p power=972.68 W\n",
        "peak current=20 A\n",
        "avg current of each transistor=10 A\n",
        "peak reverse blocking voltage=60 V\n",
        "harmonic factor=0.3333\n",
        "THD=0.4834\n"
       ]
      }
     ],
     "prompt_number": 7
    },
    {
     "cell_type": "heading",
     "level": 2,
     "metadata": {},
     "source": [
      "Example 8.10 Page No 475"
     ]
    },
    {
     "cell_type": "code",
     "collapsed": false,
     "input": [
      "import math\n",
      "#initialisation of variables\n",
      "V_s=220.0\n",
      "R=6.0\n",
      "f=50.0\n",
      "w=2*math.pi*f\n",
      "L=0.03\n",
      "C=180*10**-6\n",
      "X_L=w*L\n",
      "X_C=1/(w*C)\n",
      "\n",
      "#Calculations\n",
      "V_or=math.sqrt(V_s**2*math.pi/math.pi)\n",
      "V_01=4*V_s/(math.sqrt(2)*math.pi)\n",
      "V_oh=math.sqrt(V_or**2-V_01**2)\n",
      "THD=V_oh/V_01    \n",
      "print(\"THD of voltage=%.4f\" %THD)\n",
      "DF=V_01/V_or    \n",
      "Z1=math.sqrt(R**2+(X_L-X_C)**2)\n",
      "phi1=-math.degrees(math.atan((X_L-X_C)/R))\n",
      "Z3=math.sqrt(R**2+(X_L*3-X_C/3)**2)\n",
      "phi3=math.degrees(math.atan((X_L*3-X_C/3)/R))\n",
      "Z5=math.sqrt(R**2+(X_L*5-X_C/5)**2)\n",
      "phi5=math.degrees(math.atan((X_L*5-X_C/5)/R))\n",
      "Z7=math.sqrt(R**2+(X_L*7-X_C/7)**2)\n",
      "phi7=math.degrees(math.atan((X_L*7-X_C/7)/R))\n",
      "I_01=19.403\n",
      "I_m1=4*V_s/(Z1*math.pi)\n",
      "I_m3=4*V_s/(3*Z3*math.pi)\n",
      "I_m5=4*V_s/(5*Z5*math.pi)\n",
      "I_m7=4*V_s/(7*Z7*math.pi)\n",
      "I_m=math.sqrt(I_m1**2+I_m3**2+I_m5**2+I_m7**2)\n",
      "I_or=I_m/math.sqrt(2)\n",
      "I_oh=math.sqrt((I_m**2-I_m1**2)/2)\n",
      "THD=I_oh/I_01    \n",
      "DF=I_01/I_or    \n",
      "P_o=I_or**2*R    \n",
      "I_avg=P_o/V_s    \n",
      "t1=(180-phi1)*math.pi/(180*w)    \n",
      "t1=1/(2*f)-t1    \n",
      "I_p=I_m1    \n",
      "I_t1=.46135*I_p \n",
      "\n",
      "#Results\n",
      "print(\"\\nDF=%.1f\" %DF)\n",
      "print(\"THD of current=%.4f\" %THD)   \n",
      "print(\"DF=%.3f\" %DF)\n",
      "print(\"load power=%.1f W\" %P_o)\n",
      "print(\"avg value of load current=%.2f A\" %I_avg)\n",
      "print(\"conduction time for thyristor=%.0f ms\" %(t1*1000))\n",
      "print(\"conduction time for diodes=%.0f ms\" %(t1*1000))\n",
      "print(\"peak transistor current=%.2f A\" %I_p)\n",
      "print(\"rms transistor current=%.2f A\" %I_t1)"
     ],
     "language": "python",
     "metadata": {},
     "outputs": [
      {
       "output_type": "stream",
       "stream": "stdout",
       "text": [
        "THD of voltage=0.4834\n",
        "\n",
        "DF=1.0\n",
        "THD of current=0.1557\n",
        "DF=0.988\n",
        "load power=2313.5 W\n",
        "avg value of load current=10.52 A\n",
        "conduction time for thyristor=3 ms\n",
        "conduction time for diodes=3 ms\n",
        "peak transistor current=27.44 A\n",
        "rms transistor current=12.66 A\n"
       ]
      }
     ],
     "prompt_number": 8
    },
    {
     "cell_type": "heading",
     "level": 2,
     "metadata": {},
     "source": [
      "Example 8.11 Page No 497"
     ]
    },
    {
     "cell_type": "code",
     "collapsed": false,
     "input": [
      "import math\n",
      "#initialisation of variables\n",
      "V_s=450.0\n",
      "R=10.0\n",
      "\n",
      "#Calculations\n",
      "I_or=math.sqrt((V_s/(3*R))**2*2/3+(2*V_s/(3*R))**2*1/3)    \n",
      "I_T1=math.sqrt((1/(2*math.pi))*((V_s/(3*R))**2*2*math.pi/3+(2*V_s/(3*R))**2*math.pi/3))   \n",
      "P=3*I_or**2*R    \n",
      "I_or=math.sqrt((1/(math.pi))*((V_s/(2*R))**2*2*math.pi/3))    \n",
      "I_T1=math.sqrt((1/(2*math.pi))*((V_s/(2*R))**2*2*math.pi/3))    \n",
      "P=3*I_or**2*R    \n",
      "\n",
      "#Results\n",
      "print(\"for 180deg mode\")\n",
      "print(\"rms value of load current=%.3f A\" %I_or)\n",
      "print(\"power delivered to load=%.1f kW\" %(P/1000))\n",
      "print(\"rms value of load current=%.0f A\" %I_T1)\n",
      "print(\"for 120deg mode\")\n",
      "print(\"rms value of load current=%.3f A\" %I_or)\n",
      "print(\"rms value of load current=%.2f A\" %I_T1)\n",
      "print(\"power delivered to load=%.3f kW\" %(P/1000))\n"
     ],
     "language": "python",
     "metadata": {},
     "outputs": [
      {
       "output_type": "stream",
       "stream": "stdout",
       "text": [
        "for 180deg mode\n",
        "rms value of load current=18.371 A\n",
        "power delivered to load=10.1 kW\n",
        "rms value of load current=13 A\n",
        "for 120deg mode\n",
        "rms value of load current=18.371 A\n",
        "rms value of load current=12.99 A\n",
        "power delivered to load=10.125 kW\n"
       ]
      }
     ],
     "prompt_number": 9
    },
    {
     "cell_type": "heading",
     "level": 2,
     "metadata": {},
     "source": [
      "Example 8.12, Page No 510"
     ]
    },
    {
     "cell_type": "code",
     "collapsed": false,
     "input": [
      "import math\n",
      "#initialisation of variables\n",
      "V_s=230.0\n",
      "R=10.0\n",
      "f=50.0\n",
      "w=2*math.pi*f\n",
      "L=0.03\n",
      "\n",
      "#Calculations\n",
      "X_L=w*L\n",
      "V_or=math.sqrt(V_s**2*math.pi/math.pi)\n",
      "V_01=4*V_s/(math.sqrt(2)*math.pi)\n",
      "Z1=math.sqrt(R**2+(X_L)**2)\n",
      "phi1=-math.degrees(math.atan((X_L)/R))\n",
      "Z3=math.sqrt(R**2+(X_L*3)**2)\n",
      "phi3=math.degrees(math.atan((X_L*3)/R))\n",
      "Z5=math.sqrt(R**2+(X_L*5)**2)\n",
      "phi5=math.degrees(math.atan((X_L*5)/R))\n",
      "Z7=math.sqrt(R**2+(X_L*7)**2)\n",
      "phi7=math.degrees(math.atan((X_L*7)/R))\n",
      "I_m1=4*V_s/(math.sqrt(2)*Z1*math.pi)\n",
      "I_m3=4*V_s/(math.sqrt(2)*3*Z3*math.pi)\n",
      "I_m5=4*V_s/(math.sqrt(2)*5*Z5*math.pi)\n",
      "I_m7=4*V_s/(math.sqrt(2)*7*Z7*math.pi)\n",
      "I_m=math.sqrt(I_m1**2+I_m3**2+I_m5**2+I_m7**2)\n",
      "P=I_m**2*R    \n",
      "I_01=I_m1*math.sin(math.radians(45))\n",
      "I_03=I_m3*math.sin(math.radians(3*45))\n",
      "I_05=I_m5*math.sin(math.radians(5*45))\n",
      "I_07=I_m7*math.sin(math.radians(7*45))\n",
      "I_0=(I_01**2+I_03**2+I_05**2+I_07**2)\n",
      "P=I_0*R    \n",
      "g=(180-90)/3+45/2\n",
      "I_01=2*I_m1*math.sin(math.radians(g))*math.sin(math.radians(45/2))\n",
      "I_03=2*I_m3*math.sin(math.radians(g*3))*math.sin(math.radians(3*45/2))\n",
      "I_05=2*I_m5*math.sin(math.radians(g*5))*math.sin(math.radians(5*45/2))\n",
      "I_07=2*I_m7*math.sin(math.radians(g*7))*math.sin(math.radians(7*45/2))\n",
      "I_0=(I_01**2+I_03**2+I_05**2+I_07**2)\n",
      "P=I_0*R    \n",
      "\n",
      "\n",
      "#Results\n",
      "print(\"using square wave o/p\")\n",
      "print(\"power delivered=%.2f W\" %P)\n",
      "print(\"using quasi-square wave o/p\")\n",
      "print(\"power delivered=%.2f W\" %P)\n",
      "print(\"using two symmitrical spaced pulses\")\n",
      "print(\"power delivered=%.2f W\" %P)"
     ],
     "language": "python",
     "metadata": {},
     "outputs": [
      {
       "output_type": "stream",
       "stream": "stdout",
       "text": [
        "using square wave o/p\n",
        "power delivered=845.87 W\n",
        "using quasi-square wave o/p\n",
        "power delivered=845.87 W\n",
        "using two symmitrical spaced pulses\n",
        "power delivered=845.87 W\n"
       ]
      }
     ],
     "prompt_number": 10
    },
    {
     "cell_type": "heading",
     "level": 2,
     "metadata": {},
     "source": [
      "Example 8.14, Page No 520"
     ]
    },
    {
     "cell_type": "code",
     "collapsed": false,
     "input": [
      "import math\n",
      "#initialisation of variables\n",
      "f=50.0\n",
      "T=1/f\n",
      "I=0.5\n",
      "\n",
      "#Calculations\n",
      "di=I/T     #di=di/dt\n",
      "V_s=220.0\n",
      "L=V_s/di    \n",
      "t=20*10**-6\n",
      "fos=2     #factor of safety\n",
      "t_c=t*fos\n",
      "R=10\n",
      "C=t_c/(R*math.log(2))\n",
      "\n",
      "#Results    \n",
      "print(\"source inductance=%.1f H\" %L)\n",
      "print(\"commutating capacitor=%.2f uF\" %(C*10**6))"
     ],
     "language": "python",
     "metadata": {},
     "outputs": [
      {
       "output_type": "stream",
       "stream": "stdout",
       "text": [
        "source inductance=8.8 H\n",
        "commutating capacitor=5.77 uF\n"
       ]
      }
     ],
     "prompt_number": 11
    },
    {
     "cell_type": "heading",
     "level": 2,
     "metadata": {},
     "source": [
      "Example 8.15, Page No 539"
     ]
    },
    {
     "cell_type": "code",
     "collapsed": false,
     "input": [
      "import math\n",
      "#initialisation of variables\n",
      "R=10.0\n",
      "L=.01\n",
      "C=10*10**-6\n",
      "#Calculations\n",
      "if (R**2)<(4*L/C) :\n",
      "    print(\"ckt will commutate on its own\")\n",
      "else:\n",
      "    print(\"ckt will not commutate on its own\")\n",
      "\n",
      "xie=R/(2*L)\n",
      "w_o=1/math.sqrt(L*C)\n",
      "w_r=math.sqrt(w_o**2-xie**2)\n",
      "phi=math.degrees(math.atan(xie/w_r))\n",
      "t=math.pi/w_r\n",
      "V_s=1\n",
      "v_L=V_s*(w_o/w_r)*math.exp(-xie*t)*math.cos(math.radians(180+phi))\n",
      "v_c=V_s*(1-(w_o/w_r)*math.exp(-xie*t)*math.cos(math.radians(180-phi)))   \n",
      "di=V_s/L    \n",
      "\n",
      "\n",
      "#Results\n",
      "print(\"voltage across inductor(*V_s)=%.5f V\" %v_L) \n",
      "print(\"voltage across capacitor(*V_s)=%.5f V\" %v_c)\n",
      "print(\"di/dt*V_s (for t=0)=%.0f A/s\" %di)"
     ],
     "language": "python",
     "metadata": {},
     "outputs": [
      {
       "output_type": "stream",
       "stream": "stdout",
       "text": [
        "ckt will commutate on its own\n",
        "voltage across inductor(*V_s)=-0.60468 V\n",
        "voltage across capacitor(*V_s)=1.60468 V\n",
        "di/dt*V_s (for t=0)=100 A/s\n"
       ]
      }
     ],
     "prompt_number": 12
    },
    {
     "cell_type": "heading",
     "level": 2,
     "metadata": {},
     "source": [
      "Example 8.16, Page No 540"
     ]
    },
    {
     "cell_type": "code",
     "collapsed": false,
     "input": [
      "import math\n",
      "#initialisation of variables\n",
      "L=0.006\n",
      "C=1.2*10**-6\n",
      "R=100.0\n",
      "\n",
      "#Calculations\n",
      "T=math.pi/math.sqrt(1/(L*C)-(R/(2*L))**2)\n",
      "T_off=0.2*10**-3\n",
      "f=1/(2*(T+T_off))    \n",
      "R=40\n",
      "T=math.pi/math.sqrt(1/(L*C)-(R/(2*L))**2)\n",
      "T_off=.2*10**-3\n",
      "f=1/(2*(T+T_off))    \n",
      "R=140\n",
      "T=math.pi/math.sqrt(1/(L*C)-(R/(2*L))**2)\n",
      "T_off=.2*10**-3\n",
      "f=1/(2*(T+T_off)) \n",
      "\n",
      "#Results\n",
      "print(\"o/p freq=%.2f Hz\" %f)\n",
      "print(\"for R=40ohm\")\n",
      "print(\"upper limit o/p freq=%.1f Hz\" %f)\n",
      "print(\"for R=140ohm\")\n",
      "print(\"lower limit o/p freq=%.1f Hz\" %f)\n"
     ],
     "language": "python",
     "metadata": {},
     "outputs": [
      {
       "output_type": "stream",
       "stream": "stdout",
       "text": [
        "o/p freq=239.81 Hz\n",
        "for R=40ohm\n",
        "upper limit o/p freq=239.8 Hz\n",
        "for R=140ohm\n",
        "lower limit o/p freq=239.8 Hz\n"
       ]
      }
     ],
     "prompt_number": 13
    },
    {
     "cell_type": "heading",
     "level": 2,
     "metadata": {},
     "source": [
      "Example 8.17, Page No 540"
     ]
    },
    {
     "cell_type": "code",
     "collapsed": false,
     "input": [
      "import math\n",
      "#initialisation of variables\n",
      "f=5000.0\n",
      "w=2*math.pi*f\n",
      "R=3.0\n",
      "\n",
      "#Calculations\n",
      "L=60*10**-6\n",
      "xie=R/(2*L)\n",
      "C=7.5*10**-6\n",
      "w_o=1/math.sqrt(L*C)\n",
      "w_r=math.sqrt(w_o**2-xie**2)\n",
      "t_c=math.pi*(1/w-1/w_r)    \n",
      "fos=1.5\n",
      "t_q=10*10**-6\n",
      "f_max=1/(2*math.pi*(t_q*fos/math.pi+1/w_r))    \n",
      "\n",
      "#Results\n",
      "print(\"ckt turn off time=%.2f us\" %(t_c*10**6))\n",
      "print(\"max possible operating freq=%.1f Hz\" %f_max)\n",
      " #Answers have small variations from that in the book due to difference in the rounding off of digits."
     ],
     "language": "python",
     "metadata": {},
     "outputs": [
      {
       "output_type": "stream",
       "stream": "stdout",
       "text": [
        "ckt turn off time=21.39 us\n",
        "max possible operating freq=5341.4 Hz\n"
       ]
      }
     ],
     "prompt_number": 14
    },
    {
     "cell_type": "heading",
     "level": 2,
     "metadata": {},
     "source": [
      "Example 8.18, Page No 541"
     ]
    },
    {
     "cell_type": "code",
     "collapsed": false,
     "input": [
      "import math\n",
      "#initialisation of variables\n",
      "a=30.0\n",
      "R=10.0\n",
      "P=5000.0\n",
      "\n",
      "#Calculations\n",
      "V_s=math.sqrt(P*R*2*math.pi/(2*3)/(math.pi/3+math.sqrt(3)*math.cos(math.radians(2*a))/2))\n",
      "V_ph=V_s/math.sqrt(3)    \n",
      "I_or=math.sqrt(P*R)\n",
      "V_s=I_or*math.pi/(math.sqrt(2)*3*math.cos(math.radians(a)))\n",
      "V_ph=V_s/math.sqrt(3) \n",
      "\n",
      "#Results\n",
      "print(\"per phase voltage  V_ph=%.3f V\" %V_ph)   \n",
      "print(\"for constant load current\")\n",
      "print(\"V_ph=%.2f V\" %V_ph)"
     ],
     "language": "python",
     "metadata": {},
     "outputs": [
      {
       "output_type": "stream",
       "stream": "stdout",
       "text": [
        "per phase voltage  V_ph=110.384 V\n",
        "for constant load current\n",
        "V_ph=110.38 V\n"
       ]
      }
     ],
     "prompt_number": 15
    },
    {
     "cell_type": "heading",
     "level": 2,
     "metadata": {},
     "source": [
      "Example 8.19, Page No 547"
     ]
    },
    {
     "cell_type": "code",
     "collapsed": false,
     "input": [
      "import math\n",
      "#initialisation of variables\n",
      "t=20.0\n",
      "fos=2.0     #factor of safety\n",
      "\n",
      "#Calculations\n",
      "t_c=t*fos\n",
      "n=1.0/3\n",
      "R=20.0\n",
      "C=n**2*t_c/(4*R*math.log(2)) \n",
      "\n",
      "#Results   \n",
      "print(\"value of capacitor=%.2f uF\" %C)\n",
      " #printing mistake in the answer in book."
     ],
     "language": "python",
     "metadata": {},
     "outputs": [
      {
       "output_type": "stream",
       "stream": "stdout",
       "text": [
        "value of capacitor=0.08 uF\n"
       ]
      }
     ],
     "prompt_number": 16
    },
    {
     "cell_type": "heading",
     "level": 2,
     "metadata": {},
     "source": [
      "Example 8.20, Page No 547"
     ]
    },
    {
     "cell_type": "code",
     "collapsed": false,
     "input": [
      "import math\n",
      "#initialisation of variables\n",
      "V_s=220.0\n",
      "V_p=math.sqrt(2)*V_s/3    \n",
      "V_L=math.sqrt(3)*V_p    \n",
      "V_p1=math.sqrt(2)*V_s/math.pi    \n",
      "V_L1=math.sqrt(3)*V_p1    \n",
      "V_oh=math.sqrt(V_L**2-V_L1**2)\n",
      "\n",
      "#Calculations\n",
      "THD=V_oh/V_L1    \n",
      "V_a1=2*V_s/math.pi\n",
      "V_a5=2*V_s/(5*math.pi)\n",
      "V_a7=2*V_s/(7*math.pi)\n",
      "V_a11=2*V_s/(11*math.pi)\n",
      "R=4.0\n",
      "L=0.02\n",
      "f=50\n",
      "w=2*math.pi*f\n",
      "Z1=math.sqrt(R**2+(w*L)**2)\n",
      "Z5=math.sqrt(R**2+(5*w*L)**2)\n",
      "Z7=math.sqrt(R**2+(7*w*L)**2)\n",
      "Z11=math.sqrt(R**2+(11*w*L)**2)\n",
      "I_a1=V_a1/Z1\n",
      "I_a5=V_a5/Z5\n",
      "I_a7=V_a7/Z7\n",
      "I_a11=V_a11/Z11\n",
      "I_or=math.sqrt((I_a1**2+I_a5**2+I_a7**2+I_a11**2)/2)\n",
      "P=3*I_or**2*R    \n",
      "I_s=P/V_s    \n",
      "I_TA=I_s/3   \n",
      " \n",
      "#Results\n",
      "print(\"rms value of phasor voltages=%.2f V\" %V_p)\n",
      "print(\"rms value of line voltages=%.2f V\" %V_L)\n",
      "print(\"fundamental component of phase voltage=%.3f V\" %V_p1)\n",
      "print(\"fundamental component of line voltages=%.3f V\" %V_L1)\n",
      "print(\"THD=%.7f\" %THD)\n",
      "print(\"load power=%.1f W\" %P)\n",
      "print(\"avg value of source current=%.3f A\" %I_s)\n",
      "print(\"avg value of thyristor current=%.3f A\" %I_TA)\n"
     ],
     "language": "python",
     "metadata": {},
     "outputs": [
      {
       "output_type": "stream",
       "stream": "stdout",
       "text": [
        "rms value of phasor voltages=103.71 V\n",
        "rms value of line voltages=179.63 V\n",
        "fundamental component of phase voltage=99.035 V\n",
        "fundamental component of line voltages=171.533 V\n",
        "THD=0.3108419\n",
        "load power=2127.6 W\n",
        "avg value of source current=9.671 A\n",
        "avg value of thyristor current=3.224 A\n"
       ]
      }
     ],
     "prompt_number": 17
    }
   ],
   "metadata": {}
  }
 ]
}