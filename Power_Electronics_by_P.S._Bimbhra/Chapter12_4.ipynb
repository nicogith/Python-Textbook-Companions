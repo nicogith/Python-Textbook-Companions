{
 "metadata": {
  "name": ""
 },
 "nbformat": 3,
 "nbformat_minor": 0,
 "worksheets": [
  {
   "cells": [
    {
     "cell_type": "heading",
     "level": 1,
     "metadata": {},
     "source": [
      "Chapter 12 : Electic Drives"
     ]
    },
    {
     "cell_type": "heading",
     "level": 2,
     "metadata": {},
     "source": [
      "Example 12.1, Page No 658"
     ]
    },
    {
     "cell_type": "code",
     "collapsed": false,
     "input": [
      "import math\n",
      "#initialisation of variables\n",
      "T_e=15.0 #Nm\n",
      "K_m=0.5 #V-s/rad\n",
      "I_a=T_e/K_m\n",
      "n_m=1000.0\n",
      "\n",
      "#Calculations\n",
      "w_m=2*math.pi*n_m/60\n",
      "E_a=K_m*w_m\n",
      "r_a=0.7\n",
      "V_t=E_a+I_a*r_a\n",
      "V_s=230.0\n",
      "V_m=math.sqrt(2)*V_s\n",
      "a=math.degrees(math.acos(2*math.pi*V_t/V_m-1))\n",
      "print(\"firing angle delay=%.3f deg\" %a)\n",
      "I_Tr=I_a*math.sqrt((180-a)/360)    \n",
      "print(\"rms value of thyristor current=%.3f A\" %I_Tr)\n",
      "I_fdr=I_a*math.sqrt((180+a)/360)    \n",
      "print(\"rms value of freewheeling diode current=%.3f A\" %I_fdr)\n",
      "pf=V_t*I_a/(V_s*I_Tr)  \n",
      "\n",
      "#Results  \n",
      "print(\"input power factor=%.4f\" %pf)\n"
     ],
     "language": "python",
     "metadata": {},
     "outputs": [
      {
       "output_type": "stream",
       "stream": "stdout",
       "text": [
        "firing angle delay=65.349 deg\n",
        "rms value of thyristor current=16.930 A\n",
        "rms value of freewheeling diode current=24.766 A\n",
        "input power factor=0.5652\n"
       ]
      }
     ],
     "prompt_number": 1
    },
    {
     "cell_type": "heading",
     "level": 2,
     "metadata": {},
     "source": [
      "Example 12.2, Page No 660"
     ]
    },
    {
     "cell_type": "code",
     "collapsed": false,
     "input": [
      "import math\n",
      "#initialisation of variables\n",
      "V=230.0\n",
      "E=150.0\n",
      "R=8.0\n",
      "\n",
      "#Calculations\n",
      "th1=math.sin(math.radians(E/(math.sqrt(2)*V)))\n",
      "I_o=(1/(2*math.pi*R))*(2*math.sqrt(2)*230*math.cos(math.radians(th1))-E*(math.pi-2*th1*math.pi/180))    \n",
      "P=E*I_o    \n",
      "I_or=math.sqrt((1/(2*math.pi*R**2))*((V**2+E**2)*(math.pi-2*th1*math.pi/180)+V**2*math.sin(math.radians(2*th1))-4*math.sqrt(2)*V*E*math.cos(math.radians(th1))))\n",
      "P_r=I_or**2*R    \n",
      "pf=(P+P_r)/(V*I_or)\n",
      "\n",
      "#Results\n",
      "print(\"avg charging curent=%.4f A\" %I_o)\n",
      "print(\"power supplied to the battery=%.2f W\" %P)\n",
      "print(\"power dissipated by the resistor=%.3f W\" %P_r)    \n",
      "print(\"supply pf=%.3f\" %pf)"
     ],
     "language": "python",
     "metadata": {},
     "outputs": [
      {
       "output_type": "stream",
       "stream": "stdout",
       "text": [
        "avg charging curent=3.5679 A\n",
        "power supplied to the battery=535.18 W\n",
        "power dissipated by the resistor=829.760 W\n",
        "supply pf=0.583\n"
       ]
      }
     ],
     "prompt_number": 2
    },
    {
     "cell_type": "heading",
     "level": 2,
     "metadata": {},
     "source": [
      "Example 12.3 Page No 661"
     ]
    },
    {
     "cell_type": "code",
     "collapsed": false,
     "input": [
      "import math\n",
      "#initialisation of variablesV_s=250\n",
      "V_m=math.sqrt(2)*V_s\n",
      "a=30.0\n",
      "k=0.03 #Nm/A**2\n",
      "n_m=1000.0\n",
      "\n",
      "#Calculations\n",
      "w_m=2*math.pi*n_m/60\n",
      "r=.2 #r_a+r_s\n",
      "V_t=V_m/math.pi*(1+math.cos(math.radians(a)))\n",
      "I_a=V_t/(k*w_m+r)   \n",
      "print(\"motor armature current=%.2f A\" %I_a)\n",
      "T_e=k*I_a**2    \n",
      "print(\"motor torque=%.3f Nm\" %T_e)\n",
      "I_sr=I_a*math.sqrt((180-a)/180)\n",
      "pf=(V_t*I_a)/(V_s*I_sr)    \n",
      "\n",
      "#Results\n",
      "print(\"input power factor=%.2f\" %pf)"
     ],
     "language": "python",
     "metadata": {},
     "outputs": [
      {
       "output_type": "stream",
       "stream": "stdout",
       "text": [
        "motor armature current=57.82 A\n",
        "motor torque=100.285 Nm\n",
        "input power factor=0.92\n"
       ]
      }
     ],
     "prompt_number": 3
    },
    {
     "cell_type": "heading",
     "level": 2,
     "metadata": {},
     "source": [
      "Example 12.4, Page No 663"
     ]
    },
    {
     "cell_type": "code",
     "collapsed": false,
     "input": [
      "import math\n",
      "#initialisation of variables\n",
      "V_s=400.0\n",
      "V_m=math.sqrt(2)*V_s\n",
      "V_f=2*V_m/math.pi\n",
      "r_f=200.0\n",
      "I_f=V_f/r_f\n",
      "T_e=85.0\n",
      "K_a=0.8\n",
      "\n",
      "#Calculations\n",
      "I_a=T_e/(I_f*K_a)    \n",
      "print(\"rated armature current=%.2f A\" %I_a)\n",
      "n_m=1200.0\n",
      "w_m=2*math.pi*n_m/60\n",
      "r_a=0.2\n",
      "V_t=K_a*I_f*w_m+I_a*r_a\n",
      "a=math.degrees(math.acos(V_t*math.pi/(2*V_m)))\n",
      "print(\"firing angle delay=%.2f deg\" %a)\n",
      "E_a=V_t\n",
      "w_mo=E_a/(K_a*I_f)\n",
      "N=60*w_mo/(2*math.pi)\n",
      "reg=((N-n_m)/n_m)*100    \n",
      "print(\"speed regulation at full load=%.2f\" %reg)\n",
      "I_ar=I_a\n",
      "pf=(V_t*I_a)/(V_s*I_ar)    \n",
      "print(\"input power factor of armature convertor=%.4f\" %pf)\n",
      "I_fr=I_f\n",
      "I_sr=math.sqrt(I_fr**2+I_ar**2)\n",
      "VA=I_sr*V_s\n",
      "P=V_t*I_a+V_f*I_f\n",
      "\n",
      "#Results\n",
      "print(\"input power factor of drive=%.4f\" %(P/VA))\n",
      " #Answers have small variations from that in the book due to difference in the rounding off of digits."
     ],
     "language": "python",
     "metadata": {},
     "outputs": [
      {
       "output_type": "stream",
       "stream": "stdout",
       "text": [
        "rated armature current=59.01 A\n",
        "firing angle delay=57.63 deg\n",
        "speed regulation at full load=6.52\n",
        "input power factor of armature convertor=0.4821\n",
        "input power factor of drive=0.5093\n"
       ]
      }
     ],
     "prompt_number": 4
    },
    {
     "cell_type": "heading",
     "level": 2,
     "metadata": {},
     "source": [
      "Example 12.5 Page No 664"
     ]
    },
    {
     "cell_type": "code",
     "collapsed": false,
     "input": [
      "import math\n",
      "#initialisation of variables\n",
      "V_s=400.0\n",
      "V_m=math.sqrt(2)*V_s\n",
      "V_f=2*V_m/math.pi\n",
      "\n",
      "#Calculations\n",
      "a1=math.degrees(math.acos(V_t*math.pi/(2*V_m))) \n",
      "print(\"delay angle of field converter=%.0f deg\" %a1)\n",
      "r_f=200.0\n",
      "I_f=V_f/r_f\n",
      "T_e=85.0\n",
      "K_a=0.8\n",
      "I_a=T_e/(I_f*K_a)\n",
      "n_m=1200.0\n",
      "w_m=2*math.pi*n_m/60\n",
      "r_a=0.1\n",
      "I_a=50.0\n",
      "V_t=-K_a*I_f*w_m+I_a*r_a\n",
      "a=math.degrees(math.acos(V_t*math.pi/(2*V_m)))\n",
      "\n",
      "#Results\n",
      "print(\"firing angle delay of armature converter=%.3f deg\" %a)\n",
      "print(\"power fed back to ac supply=%.0f W\" %(-V_t*I_a))"
     ],
     "language": "python",
     "metadata": {},
     "outputs": [
      {
       "output_type": "stream",
       "stream": "stdout",
       "text": [
        "delay angle of field converter=58 deg\n",
        "firing angle delay of armature converter=119.260 deg\n",
        "power fed back to ac supply=8801 W\n"
       ]
      }
     ],
     "prompt_number": 5
    },
    {
     "cell_type": "heading",
     "level": 2,
     "metadata": {},
     "source": [
      "Example 12.6 Page No 665"
     ]
    },
    {
     "cell_type": "code",
     "collapsed": false,
     "input": [
      "import math\n",
      "#initialisation of variables\n",
      "V_t=220.0\n",
      "n_m=1500.0\n",
      "w_m=2*math.pi*n_m/60\n",
      "I_a=10.0\n",
      "r_a=1.0\n",
      "\n",
      "#Calculations\n",
      "K_m=(V_t-I_a*r_a)/(w_m)\n",
      "T=5.0\n",
      "I_a=T/K_m\n",
      "V_s=230.0\n",
      "V_m=math.sqrt(2)*V_s\n",
      "a=30.0\n",
      "V_t=2*V_m*math.cos(math.radians(a))/math.pi\n",
      "w_m=(V_t-I_a*r_a)/K_m\n",
      "N=w_m*60/(2*math.pi)    \n",
      "\n",
      "print(\"motor speed=%.2f rpm\" %N)\n",
      "a=45\n",
      "n_m=1000\n",
      "w_m=2*math.pi*n_m/60\n",
      "V_t=2*V_m*math.cos(math.radians(a))/math.pi\n",
      "I_a=(V_t-K_m*w_m)/r_a\n",
      "T_e=K_m*I_a    \n",
      "\n",
      "#Results\n",
      "print(\"torque developed=%.3f Nm\" %T_e)\n",
      " #Answers have small variations from that in the book due to difference in the rounding off of digits."
     ],
     "language": "python",
     "metadata": {},
     "outputs": [
      {
       "output_type": "stream",
       "stream": "stdout",
       "text": [
        "motor speed=1254.22 rpm\n",
        "torque developed=8.586 Nm\n"
       ]
      }
     ],
     "prompt_number": 6
    },
    {
     "cell_type": "heading",
     "level": 2,
     "metadata": {},
     "source": [
      "Example 12.7, Page No 666"
     ]
    },
    {
     "cell_type": "code",
     "collapsed": false,
     "input": [
      "import math\n",
      "#initialisation of variables\n",
      "V_t=220.0\n",
      "n_m=1000.0\n",
      "w_m=2*math.pi*n_m/60\n",
      "I_a=60.0\n",
      "r_a=.1\n",
      "\n",
      "#Calculations\n",
      "K_m=(V_t-I_a*r_a)/(w_m)\n",
      "V_s=230\n",
      "V_m=math.sqrt(2)*V_s\n",
      "print(\"for 600rpm speed\")\n",
      "n_m=600.0\n",
      "w_m=2*math.pi*n_m/60\n",
      "a=math.degrees(math.acos((K_m*w_m+I_a*r_a)*math.pi/(2*V_m))) \n",
      "print(\"firing angle=%.3f deg\" %a)\n",
      "print(\"for -500rpm speed\")\n",
      "n_m=-500.0\n",
      "w_m=2*math.pi*n_m/60\n",
      "a=math.degrees(math.acos((K_m*w_m+I_a*r_a)*math.pi/(2*V_m)))\n",
      "print(\"firing angle=%.2f deg\" %a)\n",
      "I_a=I_a/2\n",
      "a=150\n",
      "V_t=2*V_m*math.cos(math.radians(a))/math.pi\n",
      "w_m=(V_t-I_a*r_a)/K_m\n",
      "N=w_m*60/(2*math.pi)    \n",
      "\n",
      "#Results\n",
      "print(\"motor speed=%.3f rpm\" %N)"
     ],
     "language": "python",
     "metadata": {},
     "outputs": [
      {
       "output_type": "stream",
       "stream": "stdout",
       "text": [
        "for 600rpm speed\n",
        "firing angle=49.530 deg\n",
        "for -500rpm speed\n",
        "firing angle=119.19 deg\n",
        "motor speed=-852.011 rpm\n"
       ]
      }
     ],
     "prompt_number": 7
    },
    {
     "cell_type": "heading",
     "level": 2,
     "metadata": {},
     "source": [
      "Example 12.8 Page No 672"
     ]
    },
    {
     "cell_type": "code",
     "collapsed": false,
     "input": [
      "import math\n",
      "#initialisation of variables\n",
      "K_m=1.5\n",
      "T_e=50.0\n",
      "I_a=T_e/K_m\n",
      "r_a=0.9\n",
      "a=45.0\n",
      "V_s=415.0\n",
      "\n",
      "#Calculations\n",
      "V_ml=math.sqrt(2)*V_s\n",
      "w_m=((3*V_ml*(1+math.cos(math.radians(a)))/(2*math.pi))-I_a*r_a)/K_m\n",
      "N=w_m*60/(2*math.pi)    \n",
      "\n",
      "#Results\n",
      "print(\"motor speed=%.2f rpm\" %N)"
     ],
     "language": "python",
     "metadata": {},
     "outputs": [
      {
       "output_type": "stream",
       "stream": "stdout",
       "text": [
        "motor speed=2854.42 rpm\n"
       ]
      }
     ],
     "prompt_number": 8
    },
    {
     "cell_type": "heading",
     "level": 2,
     "metadata": {},
     "source": [
      "Example 12.9 Page No 672"
     ]
    },
    {
     "cell_type": "code",
     "collapsed": false,
     "input": [
      "import math\n",
      "#initialisation of variablesV_t=600\n",
      "n_m=1500.0\n",
      "w_m=2*math.pi*n_m/60\n",
      "I_a=80.0\n",
      "r_a=1.0\n",
      "\n",
      "#Calculations\n",
      "K_m=(V_t-I_a*r_a)/(w_m)\n",
      "V_s=400.0\n",
      "V_m=math.sqrt(2)*V_s\n",
      "print(\"for firing angle=45deg and speed=1200rpm\")\n",
      "a=45.0\n",
      "n_m=1200.0\n",
      "w_m=2*math.pi*n_m/60\n",
      "I_a=(3*V_m*(1+math.cos(math.radians(a)))/(2*math.pi)-K_m*w_m)/r_a\n",
      "I_sr=I_a*math.sqrt(2/3)    \n",
      "print(\"rms value of source current=%.3f A\" %I_sr)\n",
      "print(\"rms value of thyristor current=%.3f A\" %(I_a*math.sqrt(1/3)))\n",
      "print(\"avg value of thyristor current=%.2f A\" %I_a*(1/3))\n",
      "pf=(3/(2*math.pi)*(1+math.cos(math.radians(a))))    \n",
      "print(\"input power factor=%.3f\" %pf)\n",
      "\n",
      "print(\"for firing angle=90deg and speed=700rpm\")\n",
      "a=90\n",
      "n_m=700\n",
      "w_m=2*math.pi*n_m/60\n",
      "I_a=(3*V_m*(1+math.cos(math.radians(a)))/(2*math.pi)-K_m*w_m)/r_a\n",
      "I_sr=I_a*math.sqrt(90/180)    \n",
      "\n",
      "\n",
      "#Results\n",
      "print(\"rms value of source current=%.3f A\" %I_sr)\n",
      "print(\"rms value of thyristor current=%.3f A\" %(I_a*math.sqrt(90.0/360)))\n",
      "print(\"avg value of thyristor current=%.3f A\" %I_a*(1/3))\n",
      "pf=(math.sqrt(6)/(2*math.pi)*(1+math.cos(math.radians(a))))*math.sqrt(180/(180-a))    \n",
      "print(\"input power factor=%.4f\" %pf)\n"
     ],
     "language": "python",
     "metadata": {},
     "outputs": [
      {
       "output_type": "stream",
       "stream": "stdout",
       "text": [
        "for firing angle=45deg and speed=1200rpm\n",
        "rms value of source current=0.000 A\n",
        "rms value of thyristor current=0.000 A\n",
        "\n",
        "input power factor=0.815\n",
        "for firing angle=90deg and speed=700rpm\n",
        "rms value of source current=0.000 A\n",
        "rms value of thyristor current=195.558 A\n",
        "\n",
        "input power factor=0.5513\n"
       ]
      }
     ],
     "prompt_number": 9
    },
    {
     "cell_type": "heading",
     "level": 2,
     "metadata": {},
     "source": [
      "Example 12.10 Page No 676"
     ]
    },
    {
     "cell_type": "code",
     "collapsed": false,
     "input": [
      "import math\n",
      "#initialisation of variables\n",
      "V_s=400.0\n",
      "V_m=math.sqrt(2)*V_s\n",
      "a=30\n",
      "V_t=3*V_m*math.cos(math.radians(a))/math.pi\n",
      "I_a=21.0\n",
      "r_a=.1\n",
      "V_d=2.0\n",
      "K_m=1.6\n",
      "\n",
      "#Calculations\n",
      "w_m=(V_t-I_a*r_a-V_d)/K_m\n",
      "N=w_m*60/(2*math.pi)    \n",
      "print(\"speed of motor=%.1f rpm\" %N)\n",
      "\n",
      "N=2000\n",
      "w_m=2*math.pi*N/60\n",
      "I_a=210\n",
      "V_t=K_m*w_m+I_a*r_a+V_d\n",
      "a=math.degrees(math.acos(V_t*math.pi/(3*V_m)))\n",
      "print(\"firing angle=%.2f deg\" %a)\n",
      "I_sr=I_a*math.sqrt(2.0/3.0)\n",
      "pf=V_t*I_a/(math.sqrt(3)*V_s*I_sr)    \n",
      "print(\"supply power factor=%.3f\" %pf)\n",
      "\n",
      "I_a=21\n",
      "w_m=(V_t-I_a*r_a-V_d)/K_m\n",
      "n=w_m*60/(2*math.pi)\n",
      "reg=(n-N)/N*100    \n",
      "\n",
      "#Results\n",
      "print(\"speed regulation(percent)=%.2f\" %reg)"
     ],
     "language": "python",
     "metadata": {},
     "outputs": [
      {
       "output_type": "stream",
       "stream": "stdout",
       "text": [
        "speed of motor=2767.6 rpm\n",
        "firing angle=48.48 deg\n",
        "supply power factor=0.633\n",
        "speed regulation(percent)=5.64\n"
       ]
      }
     ],
     "prompt_number": 10
    },
    {
     "cell_type": "heading",
     "level": 2,
     "metadata": {},
     "source": [
      "Example 12.11, Page No 677"
     ]
    },
    {
     "cell_type": "code",
     "collapsed": false,
     "input": [
      "import math\n",
      "#initialisation of variables\n",
      "V_t=230.0\n",
      "V_l=V_t*math.pi/(3*math.sqrt(2))\n",
      "V_ph=V_l/math.sqrt(3)\n",
      "V_in=400     #per phase voltage input\n",
      "\n",
      "#Calculations\n",
      "N1=1500.0\n",
      "I_a1=20.0\n",
      "r_a1=.6\n",
      "E_a1=V_t-I_a1*r_a1\n",
      "n1=1000.0\n",
      "E_a2=E_a1/1500.0*1000.0\n",
      "V_t1=E_a1+I_a1*r_a1\n",
      "a1=math.degrees(math.acos(V_t1*math.pi/(3*math.sqrt(2.0)*V_l)))\n",
      "I_a2=.5*I_a1\n",
      "n2=-900.0\n",
      "V_t2=n2*E_a2/N1+I_a2*r_a1\n",
      "a2=math.degrees(math.acos(V_t2*math.pi/(3*math.sqrt(2)*V_l))) \n",
      "\n",
      "#Results\n",
      "print(\"transformer phase turns ratio=%.3f\" %(V_in/V_ph))\n",
      "print(\"for motor running at 1000rpm at rated torque\")\n",
      "print(\"firing angle delay=%.2f deg\" %a1)\n",
      "print(\"for motor running at -900rpm at half of rated torque\")\n",
      "print(\"firing angle delay=%.3f deg\" %a2)\n"
     ],
     "language": "python",
     "metadata": {},
     "outputs": [
      {
       "output_type": "stream",
       "stream": "stdout",
       "text": [
        "transformer phase turns ratio=4.068\n",
        "for motor running at 1000rpm at rated torque\n",
        "firing angle delay=0.00 deg\n",
        "for motor running at -900rpm at half of rated torque\n",
        "firing angle delay=110.674 deg\n"
       ]
      }
     ],
     "prompt_number": 11
    },
    {
     "cell_type": "heading",
     "level": 2,
     "metadata": {},
     "source": [
      "Example 12.12, Page No 678"
     ]
    },
    {
     "cell_type": "code",
     "collapsed": false,
     "input": [
      "import math\n",
      "#initialisation of variablesV_s=400\n",
      "V_ml=math.sqrt(2)*V_s\n",
      "V_f=3*V_ml/math.pi\n",
      "R_f=300.0\n",
      "I_f=V_f/R_f\n",
      "T_e=60.0\n",
      "k=1.1\n",
      "\n",
      "#Calculations\n",
      "I_a=T_e/(k*I_f)\n",
      "N1=1000.0\n",
      "w_m1=2*math.pi*N1/60\n",
      "r_a1=.3\n",
      "V_t1=k*I_f*w_m1+I_a*r_a1\n",
      "a1=math.degrees(math.acos(V_f*math.pi/(3*V_ml)))\n",
      "N2=3000\n",
      "w_m2=2*math.pi*N/60\n",
      "a2=0\n",
      "V_t2=3*V_ml*math.cos(math.radians(a))/math.pi\n",
      "I_f2=(V_t2-I_a*r_a)/(w_m2*k)\n",
      "V_f2=I_f2*R_f\n",
      "a2=math.degrees(math.acos(V_f2*math.pi/(3*V_ml)))\n",
      "\n",
      "#Results\n",
      "print(\"firing angle=%.3f deg\" %a)\n",
      "print(\"firing angle=%.3f deg\" %a)\n"
     ],
     "language": "python",
     "metadata": {},
     "outputs": [
      {
       "output_type": "stream",
       "stream": "stdout",
       "text": [
        "firing angle=48.477 deg\n",
        "firing angle=48.477 deg\n"
       ]
      }
     ],
     "prompt_number": 12
    },
    {
     "cell_type": "heading",
     "level": 2,
     "metadata": {},
     "source": [
      "Example 12.13, Page No 679"
     ]
    },
    {
     "cell_type": "code",
     "collapsed": false,
     "input": [
      "import math\n",
      "#initialisation of variables\n",
      " #after calculating\n",
      " #t=w_m/6000-math.pi/360\n",
      "\n",
      "N=1000.0\n",
      "\n",
      "#Calculations\n",
      "w_m=2*math.pi*N/60\n",
      "t=w_m/6000-math.pi/360    \n",
      "\n",
      "#Results\n",
      "print(\"time reqd=%.2f s\" %t)\n",
      " #printing mistake in the answer in book"
     ],
     "language": "python",
     "metadata": {},
     "outputs": [
      {
       "output_type": "stream",
       "stream": "stdout",
       "text": [
        "time reqd=0.01 s\n"
       ]
      }
     ],
     "prompt_number": 13
    },
    {
     "cell_type": "heading",
     "level": 2,
     "metadata": {},
     "source": [
      "Example 12.14, Page No 679"
     ]
    },
    {
     "cell_type": "code",
     "collapsed": false,
     "input": [
      "import math\n",
      "#initialisation of variables\n",
      "I_a=1.0 #supposition\n",
      "a=60.0\n",
      "\n",
      "#Calculations\n",
      "I_s1=2*math.sqrt(2)/math.pi*I_a*math.sin(math.radians(a))\n",
      "I_s3=2*math.sqrt(2)/(3*math.pi)*I_a*math.sin(math.radians(3*a))\n",
      "I_s5=2*math.sqrt(2)/(5*math.pi)*I_a*math.sin(math.radians(5*a))\n",
      "per3=I_s3/I_s1*100    \n",
      "print(\"percent of 3rd harmonic current in fundamental=%.2f\" %per3)\n",
      "per5=I_s5/I_s1*100    \n",
      "\n",
      "#Results\n",
      "print(\"percent of 5th harmonic current in fundamental=%.2f\" %per5)"
     ],
     "language": "python",
     "metadata": {},
     "outputs": [
      {
       "output_type": "stream",
       "stream": "stdout",
       "text": [
        "percent of 3rd harmonic current in fundamental=0.00\n",
        "percent of 5th harmonic current in fundamental=-20.00\n"
       ]
      }
     ],
     "prompt_number": 14
    },
    {
     "cell_type": "heading",
     "level": 2,
     "metadata": {},
     "source": [
      "Example 12.15, Page No 680"
     ]
    },
    {
     "cell_type": "code",
     "collapsed": false,
     "input": [
      "import math\n",
      "#initialisation of variables\n",
      "I_a=60.0\n",
      "I_TA=I_a/3    \n",
      "\n",
      "#Calculations\n",
      "print(\"avg thyristor current=%.0f A\" %I_TA)\n",
      "I_Tr=I_a/math.sqrt(3)    \n",
      "print(\"rms thyristor current=%.3f A\" %I_Tr)\n",
      "V_s=400\n",
      "V_m=math.sqrt(2)*V_s\n",
      "I_sr=I_a*math.sqrt(2.0/3)\n",
      "a=150\n",
      "V_t=3*V_m*math.cos(math.radians(a))/math.pi\n",
      "pf=V_t*I_a/(math.sqrt(3)*V_s*I_sr)    \n",
      "print(\"power factor of ac source=%.3f\" %pf)\n",
      "\n",
      "r_a=0.5\n",
      "K_m=2.4\n",
      "w_m=(V_t-I_a*r_a)/K_m\n",
      "N=w_m*60/(2*math.pi)    \n",
      "\n",
      "#Results\n",
      "print(\"Speed of motor=%.2f rpm\" %N)\n",
      " #Answers have small variations from that in the book due to difference in the rounding off of digits."
     ],
     "language": "python",
     "metadata": {},
     "outputs": [
      {
       "output_type": "stream",
       "stream": "stdout",
       "text": [
        "avg thyristor current=20 A\n",
        "rms thyristor current=34.641 A\n",
        "power factor of ac source=-0.827\n",
        "Speed of motor=-1980.76 rpm\n"
       ]
      }
     ],
     "prompt_number": 15
    },
    {
     "cell_type": "heading",
     "level": 2,
     "metadata": {},
     "source": [
      "Example 12.16, Page No 685"
     ]
    },
    {
     "cell_type": "code",
     "collapsed": false,
     "input": [
      "import math\n",
      "#initialisation of variables\n",
      "I_a=300.0\n",
      "V_s=600.0\n",
      "a=0.6\n",
      "V_t=a*V_s\n",
      "P=V_t*I_a    \n",
      "\n",
      "#Calculations\n",
      "print(\"input power from source=%.0f kW\" %(P/1000))\n",
      "R_eq=V_s/(a*I_a)    \n",
      "print(\"equivalent input resistance=%.3f ohm\" %R_eq)\n",
      "k=.004\n",
      "R=.04+.06\n",
      "w_m=(a*V_s-I_a*R)/(k*I_a)\n",
      "N=w_m*60/(2*math.pi)    \n",
      "print(\"motor speed=%.1f rpm\" %N)\n",
      "T_e=k*I_a**2    \n",
      "\n",
      "#Results\n",
      "print(\"motor torque=%.0f Nm\" %T_e)\n"
     ],
     "language": "python",
     "metadata": {},
     "outputs": [
      {
       "output_type": "stream",
       "stream": "stdout",
       "text": [
        "input power from source=108 kW\n",
        "equivalent input resistance=3.333 ohm\n",
        "motor speed=2626.1 rpm\n",
        "motor torque=360 Nm\n"
       ]
      }
     ],
     "prompt_number": 16
    },
    {
     "cell_type": "heading",
     "level": 2,
     "metadata": {},
     "source": [
      "Example 12.17, Page No 686"
     ]
    },
    {
     "cell_type": "code",
     "collapsed": false,
     "input": [
      "import math\n",
      "#initialisation of variables\n",
      "T_on=10.0\n",
      "T_off=15.0\n",
      "\n",
      "#Calculations\n",
      "a=T_on/(T_on+T_off)\n",
      "V_s=230.0\n",
      "V_t=a*V_s\n",
      "r_a=3\n",
      "K_m=.5\n",
      "N=1500\n",
      "w_m=2*math.pi*N/60\n",
      "I_a=(V_t-K_m*w_m)/r_a    \n",
      "\n",
      "#Results\n",
      "print(\"motor load current=%.3f A\" %I_a)"
     ],
     "language": "python",
     "metadata": {},
     "outputs": [
      {
       "output_type": "stream",
       "stream": "stdout",
       "text": [
        "motor load current=4.487 A\n"
       ]
      }
     ],
     "prompt_number": 17
    },
    {
     "cell_type": "heading",
     "level": 2,
     "metadata": {},
     "source": [
      "Example 12.18, Page No 686"
     ]
    },
    {
     "cell_type": "code",
     "collapsed": false,
     "input": [
      "import math\n",
      "#initialisation of variables\n",
      "w_m=0    \n",
      "print(\"lower limit of speed control=%.0f rpm\" %w_m)\n",
      "I_a=25.0\n",
      "r_a=.2\n",
      "V_s=220\n",
      "K_m=0.08\n",
      "\n",
      "#Calculations\n",
      "a=(K_m*w_m+I_a*r_a)/V_s    \n",
      "print(\"lower limit of duty cycle=%.3f\" %a)\n",
      "a=1    \n",
      "print(\"upper limit of duty cycle=%.0f\" %a)\n",
      "w_m=(a*V_s-I_a*r_a)/K_m    \n",
      "\n",
      "#Results\n",
      "print(\"upper limit of speed control=%.1f rpm\" %w_m)"
     ],
     "language": "python",
     "metadata": {},
     "outputs": [
      {
       "output_type": "stream",
       "stream": "stdout",
       "text": [
        "lower limit of speed control=0 rpm\n",
        "lower limit of duty cycle=0.023\n",
        "upper limit of duty cycle=1\n",
        "upper limit of speed control=2687.5 rpm\n"
       ]
      }
     ],
     "prompt_number": 18
    },
    {
     "cell_type": "heading",
     "level": 2,
     "metadata": {},
     "source": [
      "Example 12.21, Page No 691"
     ]
    },
    {
     "cell_type": "code",
     "collapsed": false,
     "input": [
      "import math\n",
      "#initialisation of variables\n",
      "a=0.6\n",
      "V_s=400.0\n",
      "V_t=(1-a)*V_s\n",
      "I_a=300.0\n",
      "P=V_t*I_a  \n",
      "\n",
      "#Calculations  \n",
      "print(\"power returned=%.0f kW\" %(P/1000))\n",
      "r_a=.2\n",
      "K_m=1.2\n",
      "R_eq=(1-a)*V_s/I_a+r_a    \n",
      "print(\"equivalent load resistance=%.4f ohm\" %R_eq)\n",
      "w_mn=I_a*r_a/K_m\n",
      "N=w_mn*60/(2*math.pi)    \n",
      "print(\"min braking speed=%.2f rpm\" %N)\n",
      "w_mx=(V_s+I_a*r_a)/K_m\n",
      "N=w_mx*60/(2*math.pi)    \n",
      "print(\"max braking speed=%.1f rpm\" %N)\n",
      "w_m=(V_t+I_a*r_a)/K_m\n",
      "N=w_m*60/(2*math.pi)    \n",
      "\n",
      "#Results\n",
      "print(\"max braking speed=%.1f rpm\" %N)"
     ],
     "language": "python",
     "metadata": {},
     "outputs": [
      {
       "output_type": "stream",
       "stream": "stdout",
       "text": [
        "power returned=48 kW\n",
        "equivalent load resistance=0.7333 ohm\n",
        "min braking speed=477.46 rpm\n",
        "max braking speed=3660.6 rpm\n",
        "max braking speed=1750.7 rpm\n"
       ]
      }
     ],
     "prompt_number": 19
    },
    {
     "cell_type": "heading",
     "level": 2,
     "metadata": {},
     "source": [
      "Example 12.22, Page No 699"
     ]
    },
    {
     "cell_type": "code",
     "collapsed": false,
     "input": [
      "import math\n",
      "#initialisation of variables\n",
      "N=1500.0\n",
      "\n",
      "#Calculations\n",
      "print(\"when speed=1455rpm\")\n",
      "n=1455.0\n",
      "s1=(N-n)/N\n",
      "r=math.sqrt(1/3)*(2/3)/(math.sqrt(s1)*(1-s1))    \n",
      "print(\"I_2mx/I_2r=%.3f\" %r)\n",
      "print(\"when speed=1350rpm\")\n",
      "n=1350\n",
      "s1=(N-n)/N\n",
      "r=math.sqrt(1/3)*(2/3)/(math.sqrt(s1)*(1-s1))    \n",
      "\n",
      "#Results\n",
      "print(\"I_2mx/I_2r=%.3f\" %r)"
     ],
     "language": "python",
     "metadata": {},
     "outputs": [
      {
       "output_type": "stream",
       "stream": "stdout",
       "text": [
        "when speed=1455rpm\n",
        "I_2mx/I_2r=0.000\n",
        "when speed=1350rpm\n",
        "I_2mx/I_2r=0.000\n"
       ]
      }
     ],
     "prompt_number": 20
    },
    {
     "cell_type": "heading",
     "level": 2,
     "metadata": {},
     "source": [
      "Example 12.24, Page No 705"
     ]
    },
    {
     "cell_type": "code",
     "collapsed": false,
     "input": [
      "import math\n",
      "#initialisation of variables\n",
      "V1=400.0\n",
      "r1=0.6\n",
      "r2=0.4\n",
      "s=1.0\n",
      "x1=1.6\n",
      "x2=1.6\n",
      "\n",
      "#Calculations\n",
      "print(\"at starting in normal conditions\")\n",
      "I_n=V1/math.sqrt((r1+r2/s)**2+(x1+x2)**2)    \n",
      "print(\"current=%.2f A\" %I_n)\n",
      "pf=(r1+r2)/math.sqrt((r1+r2/s)**2+(x1+x2)**2)    \n",
      "print(\"pf=%.4f\" %pf)\n",
      "f1=50\n",
      "w_s=4*math.pi*f1/4\n",
      "T_en=(3/w_s)*I_n**2*(r2/s)    \n",
      "print(\"\\nTorque developed=%.2f Nm\" %T_en)\n",
      "print(\"motor is operated with DOL starting\")\n",
      "I_d=V1/2/math.sqrt((r1+r2/s)**2+((x1+x2)/2)**2)    \n",
      "print(\"current=%.0f A\" %I_d)\n",
      "pf=(r1+r2)/math.sqrt((r1+r2/s)**2+((x1+x2)/2)**2)    \n",
      "print(\"pf=%.2f\" %pf)\n",
      "f1=25\n",
      "w_s=4*math.pi*f1/4\n",
      "T_ed=(3/w_s)*I_d**2*(r2/s)    \n",
      "print(\"Torque developed=%.3f Nm\" %T_ed)\n",
      "print(\"at max torque conditions\")\n",
      "s_mn=r2/math.sqrt((r1)**2+((x1+x2))**2)\n",
      "I_n=V1/math.sqrt((r1+r2/s_mn)**2+(x1+x2)**2)    \n",
      "print(\"current=%.3f A\" %I_n)\n",
      "pf=(r1+r2/s_mn)/math.sqrt((r1+r2/s_mn)**2+(x1+x2)**2)    \n",
      "print(\"pf=%.4f\" %pf)\n",
      "f1=50\n",
      "w_s=4*math.pi*f1/4\n",
      "T_en=(3/w_s)*I_n**2*(r2/s_mn)    \n",
      "print(\"Torque developed=%.2f Nm\" %T_en)\n",
      "print(\"motor is operated with DOL starting\")\n",
      "s_mn=r2/math.sqrt((r1)**2+((x1+x2)/2)**2)\n",
      "I_d=V1/2/math.sqrt((r1+r2/s_mn)**2+((x1+x2)/2)**2)    \n",
      "print(\"current=%.3f A\" %I_d)\n",
      "pf=(r1+r2/s_mn)/math.sqrt((r1+r2/s_mn)**2+((x1+x2)/2)**2)    \n",
      "print(\"\\npf=%.3f\" %pf)\n",
      "f1=25\n",
      "w_s=4*math.pi*f1/4\n",
      "T_en=(3/w_s)*I_d**2*(r2/s_mn)  \n",
      "\n",
      "\n",
      "#Results  \n",
      "print(\"Torque developed=%.3f Nm\" %T_en)\n"
     ],
     "language": "python",
     "metadata": {},
     "outputs": [
      {
       "output_type": "stream",
       "stream": "stdout",
       "text": [
        "at starting in normal conditions\n",
        "current=119.31 A\n",
        "pf=0.2983\n",
        "\n",
        "Torque developed=108.75 Nm\n",
        "motor is operated with DOL starting\n",
        "current=106 A\n",
        "pf=0.53\n",
        "Torque developed=171.673 Nm\n",
        "at max torque conditions\n",
        "current=79.829 A\n",
        "pf=0.7695\n",
        "Torque developed=396.26 Nm\n",
        "motor is operated with DOL starting\n",
        "current=71.199 A\n",
        "\n",
        "pf=0.822\n",
        "Torque developed=330.883 Nm\n"
       ]
      }
     ],
     "prompt_number": 21
    },
    {
     "cell_type": "heading",
     "level": 2,
     "metadata": {},
     "source": [
      "Example 12.25, Page No 709"
     ]
    },
    {
     "cell_type": "code",
     "collapsed": false,
     "input": [
      "import math\n",
      "#initialisation of variables\n",
      "x1=1.0\n",
      "X_m=50.0\n",
      "X_e=x1*X_m/(x1+X_m)\n",
      "V=231.0\n",
      "V_e=V*X_m/(x1+X_m)\n",
      "x2=1.0\n",
      "r2=.4\n",
      "r1=0\n",
      "\n",
      "#Calculations\n",
      "s_m=r2/(x2+X_e)    \n",
      "print(\"slip at max torque=%.2f\" %s_m)\n",
      "s_mT=r2/(x2+X_m)    \n",
      "print(\"slip at max torque=%.5f\" %s_mT)\n",
      "f1=50.0\n",
      "w_s=4*math.pi*f1/4\n",
      "print(\"for constant voltage input\")\n",
      "T_est=(3/w_s)*(V_e/math.sqrt(r2**2+(x2+X_e)**2))**2*(r2)    \n",
      "print(\"starting torque=%.3f Nm\" %T_est)\n",
      "T_em=(3/w_s)*V_e**2/(2*(x2+X_e))    \n",
      "print(\"maximum torque developed=%.2f Nm\" %T_em)\n",
      "print(\"for constant current input\")\n",
      "I1=28\n",
      "T_est=(3/w_s)*(I1*X_m)**2/(r2**2+(x2+X_m)**2)*r2    \n",
      "print(\"starting torque=%.3f Nm\" %T_est)\n",
      "T_em=(3/w_s)*(I1*X_m)**2/(2*(x2+X_m))   \n",
      "print(\"maximum torque developed=%.3f Nm\" %T_em)\n",
      "s=s_mT\n",
      "i=1\n",
      "I_m=I1*(r2/s+i*x2)/(r2/s+i*(x2+X_m))\n",
      "I_m=math.fabs(I_m)\n",
      "V1=math.sqrt(3)*I_m*X_m    \n",
      "\n",
      "#Results\n",
      "print(\"supply voltage reqd=%.1f V\" %V1)\n"
     ],
     "language": "python",
     "metadata": {},
     "outputs": [
      {
       "output_type": "stream",
       "stream": "stdout",
       "text": [
        "slip at max torque=0.20\n",
        "slip at max torque=0.00784\n",
        "for constant voltage input\n",
        "starting torque=95.988 Nm\n",
        "maximum torque developed=247.31 Nm\n",
        "for constant current input\n",
        "starting torque=5.756 Nm\n",
        "maximum torque developed=366.993 Nm\n",
        "supply voltage reqd=1236.2 V\n"
       ]
      }
     ],
     "prompt_number": 22
    },
    {
     "cell_type": "heading",
     "level": 2,
     "metadata": {},
     "source": [
      "Example 12.27, Page No 718"
     ]
    },
    {
     "cell_type": "code",
     "collapsed": false,
     "input": [
      "import math\n",
      "#initialisation of variables\n",
      "V=420.0\n",
      "V1=V/math.sqrt(3)\n",
      "T_e=450.0\n",
      "N=1440.0\n",
      "n=1000.0\n",
      "T_L=T_e*(n/N)**2\n",
      "n1=1500.0\n",
      "\n",
      "#Calculations\n",
      "w_s=2*math.pi*n1/60\n",
      "w_m=2*math.pi*n/60\n",
      "a=.8\n",
      "I_d=T_L*w_s/(2.339*a*V1)\n",
      "k=0\n",
      "R=(1-w_m/w_s)*(2.339*a*V1)/(I_d*(1-k))    \n",
      "print(\"value of chopper resistance=%.4f ohm\" %R)\n",
      "n=1320.0\n",
      "T_L=T_e*(n/N)**2\n",
      "I_d=T_L*w_s/(2.339*a*V1)    \n",
      "print(\"Inductor current=%.3f A\" %I_d)\n",
      "w_m=2*math.pi*n/60\n",
      "k=1-((1-w_m/w_s)*(2.339*a*V1)/(I_d*R))    \n",
      "print(\"value of duty cycle=%.4f\" %k)\n",
      "s=(n1-n)/n1\n",
      "V_d=2.339*s*a*V1    \n",
      "print(\"Rectifed o/p voltage=%.3f V\" %V_d)\n",
      "P=V_d*I_d\n",
      "I2=math.sqrt(2/3)*I_d\n",
      "r2=0.02\n",
      "Pr=3*I2**2*r2\n",
      "I1=a*I2\n",
      "r1=0.015\n",
      "Ps=3*I1**2*r1\n",
      "Po=T_L*w_m\n",
      "Pi=Po+Ps+Pr+P\n",
      "eff=Po/Pi*100   \n",
      "\n",
      "#Results\n",
      "print(\"Efficiency(in percent)=%.2f\" %eff)\n"
     ],
     "language": "python",
     "metadata": {},
     "outputs": [
      {
       "output_type": "stream",
       "stream": "stdout",
       "text": [
        "value of chopper resistance=2.0132 ohm\n",
        "Inductor current=130.902 A\n",
        "value of duty cycle=0.7934\n",
        "Rectifed o/p voltage=54.449 V\n",
        "Efficiency(in percent)=88.00\n"
       ]
      }
     ],
     "prompt_number": 23
    },
    {
     "cell_type": "heading",
     "level": 2,
     "metadata": {},
     "source": [
      "Example 12.28, Page No 720"
     ]
    },
    {
     "cell_type": "code",
     "collapsed": false,
     "input": [
      "import math\n",
      "#initialisation of variables\n",
      "V=400.0\n",
      "V_ph=V/math.sqrt(3)\n",
      "N_s=1000.0\n",
      "N=800.0\n",
      "a=.7\n",
      "I_d=110\n",
      "R=2.0\n",
      "\n",
      "#Calculations\n",
      "k=1-((1-N/N_s)*(2.339*a*V_ph)/(I_d*R))    \n",
      "print(\"value of duty cycle=%.3f\" %k)\n",
      "P=I_d**2*R*(1-k)\n",
      "I1=a*I_d*math.sqrt(2/3)\n",
      "r1=0.1\n",
      "r2=0.08\n",
      "Pr=3*I1**2*(r1+r2)\n",
      "P_o=20000\n",
      "P_i=P_o+Pr+P\n",
      "eff=P_o/P_i*100    \n",
      "print(\"Efficiency=%.2f\" %eff)\n",
      "I11=math.sqrt(6)/math.pi*a*I_d\n",
      "th=43\n",
      "P_ip=math.sqrt(3)*V*I11*math.cos(math.radians(th))\n",
      "pf=P_ip/(math.sqrt(3)*V*I11)    \n",
      "\n",
      "#Results\n",
      "print(\"Input power factor=%.4f\" %pf)\n"
     ],
     "language": "python",
     "metadata": {},
     "outputs": [
      {
       "output_type": "stream",
       "stream": "stdout",
       "text": [
        "value of duty cycle=0.656\n",
        "Efficiency=70.62\n",
        "Input power factor=0.7314\n"
       ]
      }
     ],
     "prompt_number": 24
    },
    {
     "cell_type": "heading",
     "level": 2,
     "metadata": {},
     "source": [
      "Example 12.29, Page No 724"
     ]
    },
    {
     "cell_type": "code",
     "collapsed": false,
     "input": [
      "import math\n",
      "#initialisation of variables\n",
      "V=420.0\n",
      "V1=V/math.sqrt(3)\n",
      "N=1000.0\n",
      "w_m=2*math.pi*N/60\n",
      "N_s=1500.0\n",
      "\n",
      "#Calculations\n",
      "s=(N_s-N)/N_s\n",
      "a=0.8\n",
      "V_d=2.339*a*s*V1    \n",
      "print(\"rectified voltage=%.2f V\" %V_d)\n",
      "T=450.0\n",
      "N1=1200.0\n",
      "T_L=T*(N/N1)**2\n",
      "f1=50\n",
      "w_s=4*math.pi*f1/4\n",
      "I_d=w_s*T_L/(2.339*a*V1)    \n",
      "print(\"inductor current=%.2f A\" %I_d)\n",
      "a_T=-.4\n",
      "a1=math.degrees(math.acos(s*a/a_T))\n",
      "print(\"delay angle of inverter=%.2f deg\" %a1)\n",
      "\n",
      "P_s=V_d*I_d\n",
      "P_o=T_L*w_m\n",
      "R_d=0.01\n",
      "P_i=I_d**2*R_d\n",
      "I2=math.sqrt(2/3)*I_d\n",
      "r2=0.02\n",
      "r1=0.015\n",
      "P_rol=3*I2**2*r2\n",
      "I1=a*I2\n",
      "P_sol=3*I1**2*r1\n",
      "P_i=P_o+P_rol+P_sol+P_i\n",
      "eff=P_o/P_i*100    \n",
      "print(\"\\nefficiency=%.2f\" %eff)\n",
      "w_m=w_s*(1+(-a_T/a)*math.cos(math.radians(a1))-w_s*R_d*T_L/(2.339*a*V1)**2)\n",
      "N=w_m*60/(2*math.pi) \n",
      "\n",
      "#Results   \n",
      "print(\"motor speed=%.1f rpm\" %N)\n",
      " #Answers have small variations from that in the book due to difference in the rounding off of digits."
     ],
     "language": "python",
     "metadata": {},
     "outputs": [
      {
       "output_type": "stream",
       "stream": "stdout",
       "text": [
        "rectified voltage=151.25 V\n",
        "inductor current=108.18 A\n",
        "delay angle of inverter=131.81 deg\n",
        "\n",
        "efficiency=99.64\n",
        "motor speed=996.4 rpm\n"
       ]
      }
     ],
     "prompt_number": 25
    },
    {
     "cell_type": "heading",
     "level": 2,
     "metadata": {},
     "source": [
      "Example 12.30, Page No 726"
     ]
    },
    {
     "cell_type": "code",
     "collapsed": false,
     "input": [
      "import math\n",
      "#initialisation of variables\n",
      "V=700.0\n",
      "E2=V/math.sqrt(3)\n",
      "N_s=1500.0\n",
      "N=1200.0\n",
      "\n",
      "#Calculations\n",
      "s=(N_s-N)/N_s\n",
      "V_dd=0.7\n",
      "V_dt=1.5\n",
      "V_d=3*math.sqrt(6)*s*E2/math.pi-2*V_dd\n",
      "V1=415.0\n",
      "a=math.degrees(math.acos((3*math.sqrt(2)*E2/math.pi)**-1*(-V_d+2*V_dt)))\n",
      "\n",
      "#Results\n",
      "print(\"firing angle advance=%.2f deg\" %(180-a))"
     ],
     "language": "python",
     "metadata": {},
     "outputs": [
      {
       "output_type": "stream",
       "stream": "stdout",
       "text": [
        "firing angle advance=70.22 deg\n"
       ]
      }
     ],
     "prompt_number": 26
    },
    {
     "cell_type": "heading",
     "level": 2,
     "metadata": {},
     "source": [
      "Example 12.31, Page No 726"
     ]
    },
    {
     "cell_type": "code",
     "collapsed": false,
     "input": [
      "import math\n",
      "#initialisation of variables\n",
      "V=700.0\n",
      "E2=V/math.sqrt(3)\n",
      "N_s=1500.0\n",
      "N=1200.0\n",
      "\n",
      "#Calculations\n",
      "s=(N_s-N)/N_s\n",
      "V_dd=.7\n",
      "V_dt=1.5\n",
      "a=0\n",
      "u=18 #overlap angle in case of rectifier\n",
      "V_d=3*math.sqrt(6)*s*E2*(math.cos(math.radians(a))+math.cos(math.radians(a+u)))/(2*math.pi)-2*V_dd\n",
      "V1=415\n",
      "V_ml=math.sqrt(2)*V1\n",
      "u=4 #overlap anglein the inverter\n",
      " #V_dc=-(3*V_ml*(math.cos(math.radians(a))+math.cos(math.radians(a+u)))/(2*math.pi)-2*V_dt)\n",
      " #V_dc=V_d\n",
      " #after solving %  (1+math.cos(math.radians(u)))*math.cos(math.radians(a))-math.sin(math.radians(u))*math.sin(math.radians(a))=-.6425\n",
      "a=math.degrees(math.acos(-.6425/(math.sqrt((1+math.cos(math.radians(u)))**2+math.sin(math.radians(u))**2))))-math.degrees(math.asin(math.sin(math.radians(a))/(1+math.cos(math.radians(u)))))\n",
      "\n",
      "#Results\n",
      "print(\"firing angle advance=%.2f deg\" %(180-a))"
     ],
     "language": "python",
     "metadata": {},
     "outputs": [
      {
       "output_type": "stream",
       "stream": "stdout",
       "text": [
        "firing angle advance=71.25 deg\n"
       ]
      }
     ],
     "prompt_number": 27
    },
    {
     "cell_type": "heading",
     "level": 2,
     "metadata": {},
     "source": [
      "Example 12.32, Page No 727"
     ]
    },
    {
     "cell_type": "code",
     "collapsed": false,
     "input": [
      "import math\n",
      "#initialisation of variables\n",
      "V=700.0\n",
      "E2=V\n",
      "N_s=1500.0\n",
      "N=1200.0\n",
      "\n",
      "#Calculations\n",
      "s=(N_s-N)/N_s\n",
      "V1=415.0\n",
      "a_T=s*E2/V1    \n",
      "\n",
      "#Results\n",
      "print(\"voltage ratio of the transformer=%.2f\" %a_T)"
     ],
     "language": "python",
     "metadata": {},
     "outputs": [
      {
       "output_type": "stream",
       "stream": "stdout",
       "text": [
        "voltage ratio of the transformer=0.34\n"
       ]
      }
     ],
     "prompt_number": 28
    },
    {
     "cell_type": "heading",
     "level": 2,
     "metadata": {},
     "source": [
      "Example 12.33, Page No 733"
     ]
    },
    {
     "cell_type": "code",
     "collapsed": false,
     "input": [
      "import math\n",
      "#initialisation of variables\n",
      "P=6.0\n",
      "N_s=600.0\n",
      "f1=P*N_s/120.0\n",
      "V=400.0\n",
      "f=50.0\n",
      "\n",
      "#Calculations\n",
      "V_t=f1*V/f    \n",
      "print(\"supply freq=%.0f Hz\" %V_t)\n",
      "T=340.0\n",
      "N=1000.0\n",
      "T_L=T*(N_s/N)**2\n",
      "w_s=2*math.pi*N_s/60\n",
      "P=T_L*w_s\n",
      "I_a=P/(math.sqrt(3)*V_t)    \n",
      "print(\"armature current=%.2f A\" %I_a)\n",
      "Z_s=2\n",
      "X_s=f1/f*math.fabs(Z_s)\n",
      "V_t=V_t/math.sqrt(3)\n",
      "Ef=math.sqrt(V_t**2+(I_a*X_s)**2)\n",
      "print(\"excitation voltage=%.2f V\" %(math.sqrt(3)*Ef))\n",
      "dl=math.degrees(math.atan(I_a*X_s/V_t))\n",
      "print(\"load angle=%.2f deg\" %dl)\n",
      "T_em=(3/w_s)*(Ef*V_t/X_s)    \n",
      "\n",
      "#Results\n",
      "print(\"pull out torque=%.2f Nm\" %T_em)"
     ],
     "language": "python",
     "metadata": {},
     "outputs": [
      {
       "output_type": "stream",
       "stream": "stdout",
       "text": [
        "supply freq=240 Hz\n",
        "armature current=18.50 A\n",
        "excitation voltage=243.06 V\n",
        "load angle=9.10 deg\n",
        "pull out torque=773.69 Nm\n"
       ]
      }
     ],
     "prompt_number": 29
    },
    {
     "cell_type": "heading",
     "level": 2,
     "metadata": {},
     "source": [
      "Example 12.34, Page No 736"
     ]
    },
    {
     "cell_type": "code",
     "collapsed": false,
     "input": [
      "import math\n",
      "#initialisation of variables\n",
      "P=4.0\n",
      "f=50.0\n",
      "w_s=4*math.pi*f/P\n",
      "X_d=8.0\n",
      "X_q=2.0\n",
      "T_e=80.0\n",
      "V=400.0\n",
      "\n",
      "#Calculations\n",
      "V_t=V/math.sqrt(3)\n",
      "dl=(1/2)*math.degrees(math.asin(T_e*w_s/((3/2)*(V_t)**2*(1/X_q-1/X_d))))    \n",
      "print(\"load angle=%.3f deg\" %dl)\n",
      "I_d=V_t*math.cos(math.radians(dl))/X_d\n",
      "I_q=V_t*math.sin(math.radians(dl))/X_q\n",
      "I_a=math.sqrt(I_d**2+I_q**2)    \n",
      "print(\"armature current=%.2f A\" %I_a)\n",
      "pf=T_e*w_s/(math.sqrt(3)*V*I_a)    \n",
      "\n",
      "#Results\n",
      "print(\"input power factor=%.4f\" %pf)"
     ],
     "language": "python",
     "metadata": {},
     "outputs": [
      {
       "output_type": "stream",
       "stream": "stdout",
       "text": [
        "load angle=0.000 deg\n",
        "armature current=28.87 A\n",
        "input power factor=0.6283\n"
       ]
      }
     ],
     "prompt_number": 30
    },
    {
     "cell_type": "heading",
     "level": 2,
     "metadata": {},
     "source": [
      "Example 12.35, Page No 737"
     ]
    },
    {
     "cell_type": "code",
     "collapsed": false,
     "input": [
      "import math\n",
      "#initialisation of variables\n",
      "T_e=3.0\n",
      "K_m=1.2\n",
      "I_a=T_e/K_m\n",
      "r_a=2.0\n",
      "V=230.0\n",
      "\n",
      "#Calculations\n",
      "E_a=(0.263*math.sqrt(2)*V-I_a*r_a)/(1-55/180)\n",
      "w_m=E_a/K_m\n",
      "N=w_m*60/(2*math.pi)    \n",
      "\n",
      "#Results\n",
      "print(\"motor speed=%.2f rpm\" %N)\n"
     ],
     "language": "python",
     "metadata": {},
     "outputs": [
      {
       "output_type": "stream",
       "stream": "stdout",
       "text": [
        "motor speed=640.96 rpm\n"
       ]
      }
     ],
     "prompt_number": 31
    },
    {
     "cell_type": "heading",
     "level": 2,
     "metadata": {},
     "source": [
      "Example 12.36, Page No 738"
     ]
    },
    {
     "cell_type": "code",
     "collapsed": false,
     "input": [
      "import math\n",
      "#initialisation of variables\n",
      "K_m=1.0\n",
      "N=1360.0\n",
      "\n",
      "#Calculations\n",
      "w_m=2*math.pi*N/60\n",
      "E_a=K_m*w_m\n",
      " #after calculations V_t % calculated\n",
      "V_t=163.45\n",
      "r_a=4\n",
      "I_a=(V_t-E_a)/r_a\n",
      "T_e=K_m*I_a    \n",
      "\n",
      "#Results\n",
      "print(\"motor torque=%.4f Nm\" %T_e)\n"
     ],
     "language": "python",
     "metadata": {},
     "outputs": [
      {
       "output_type": "stream",
       "stream": "stdout",
       "text": [
        "motor torque=5.2578 Nm\n"
       ]
      }
     ],
     "prompt_number": 32
    },
    {
     "cell_type": "heading",
     "level": 2,
     "metadata": {},
     "source": [
      "Example 12.37, Page No 740"
     ]
    },
    {
     "cell_type": "code",
     "collapsed": false,
     "input": [
      "import math\n",
      "#initialisation of variables\n",
      "K_m=1.0\n",
      "N=2100.0\n",
      "\n",
      "#Calculations\n",
      "w_m=2*math.pi*N/60\n",
      "E_a=K_m*w_m\n",
      " #after calculations V_t % calculated\n",
      "V_t=227.66\n",
      "r_a=4\n",
      "I_a=(V_t-E_a)/r_a\n",
      "T_e=K_m*I_a    \n",
      "\n",
      "#Results\n",
      "print(\"motor torque=%.2f Nm\" %T_e)\n"
     ],
     "language": "python",
     "metadata": {},
     "outputs": [
      {
       "output_type": "stream",
       "stream": "stdout",
       "text": [
        "motor torque=1.94 Nm\n"
       ]
      }
     ],
     "prompt_number": 33
    },
    {
     "cell_type": "heading",
     "level": 2,
     "metadata": {},
     "source": [
      "Example 12.38, Page No 742"
     ]
    },
    {
     "cell_type": "code",
     "collapsed": false,
     "input": [
      "import math\n",
      "#initialisation of variables\n",
      "K_m=1.0\n",
      "N=840.0\n",
      "\n",
      "#Calculations\n",
      "w_m=2*math.pi*N/60\n",
      "E_a=K_m*w_m\n",
      "V=230.0\n",
      "a=75.0\n",
      "V_t=math.sqrt(2)*V/math.pi*(1+math.cos(math.radians(a)))\n",
      "r_a=4\n",
      "I_a=(V_t-E_a)/r_a\n",
      "T_e=K_m*I_a    \n",
      "\n",
      "#Results\n",
      "print(\"motor torque=%.4f Nm\" %T_e)\n",
      " #Answers have small variations from that in the book due to difference in the rounding off of digits.\n"
     ],
     "language": "python",
     "metadata": {},
     "outputs": [
      {
       "output_type": "stream",
       "stream": "stdout",
       "text": [
        "motor torque=10.5922 Nm\n"
       ]
      }
     ],
     "prompt_number": 34
    },
    {
     "cell_type": "heading",
     "level": 2,
     "metadata": {},
     "source": [
      "Example 12.39, Page No 743"
     ]
    },
    {
     "cell_type": "code",
     "collapsed": false,
     "input": [
      "import math\n",
      "#initialisation of variables\n",
      "K_m=1.0\n",
      "N=1400.0\n",
      "\n",
      "#Calculations\n",
      "w_m=2*math.pi*N/60\n",
      "E_a=K_m*w_m\n",
      "V=230.0\n",
      "a=60.0\n",
      "a1=212\n",
      "V_t=math.sqrt(2)*V/math.pi*(math.cos(math.radians(a))-math.cos(math.radians(a1)))+E_a*(180+a-a1)/180\n",
      "r_a=3\n",
      "I_a=(V_t-E_a)/r_a\n",
      "T_e=K_m*I_a   \n",
      "\n",
      "#Results\n",
      "print(\"motor torque=%.3f Nm\" %T_e)\n"
     ],
     "language": "python",
     "metadata": {},
     "outputs": [
      {
       "output_type": "stream",
       "stream": "stdout",
       "text": [
        "motor torque=5.257 Nm\n"
       ]
      }
     ],
     "prompt_number": 35
    },
    {
     "cell_type": "heading",
     "level": 2,
     "metadata": {},
     "source": [
      "Example 12.40, Page No 745"
     ]
    },
    {
     "cell_type": "code",
     "collapsed": false,
     "input": [
      "import math\n",
      "#initialisation of variables\n",
      "K_m=1.0\n",
      "N=600.0\n",
      "w_m=2*math.pi*N/60\n",
      "E_a=K_m*w_m\n",
      "V=230.0\n",
      "a=60.0\n",
      "\n",
      "#Calculations\n",
      "V_t=2*math.sqrt(2)*V/math.pi*(math.cos(math.radians(a)))\n",
      "r_a=3\n",
      "I_a=(V_t-E_a)/r_a\n",
      "T_e=K_m*I_a    \n",
      "\n",
      "\n",
      "#Results\n",
      "print(\"motor torque=%.3f Nm\" %T_e)\n"
     ],
     "language": "python",
     "metadata": {},
     "outputs": [
      {
       "output_type": "stream",
       "stream": "stdout",
       "text": [
        "motor torque=13.568 Nm\n"
       ]
      }
     ],
     "prompt_number": 36
    },
    {
     "cell_type": "heading",
     "level": 2,
     "metadata": {},
     "source": [
      "Example 12.41, Page No 745"
     ]
    },
    {
     "cell_type": "code",
     "collapsed": false,
     "input": [
      "import math\n",
      "#initialisation of variables\n",
      "r1=.6\n",
      "r2=.4\n",
      "s=0.04\n",
      "x1=1.6\n",
      "x2=1.6\n",
      "Z=(r1+r2/s)+(x1+x2)\n",
      "V=400.0\n",
      "I1=V/Z    \n",
      "print(\"source current=%.3f A \" %math.degrees(math.atan(I1.imag/I1.real)))\n",
      "print(\"and with %.1f deg phase\" %math.fabs(I1))\n",
      "I2=V/Z\n",
      "N=1500\n",
      "w_s=2*math.pi*N/60\n",
      "T_e=(3/w_s)*abs(I2)**2*r2/s    \n",
      "print(\"motor torque=%.2f Nm\" %T_e)\n",
      "N_r=N*(1-s)\n",
      "\n",
      "f=45\n",
      "N_s1=120*f/4\n",
      "w_s=2*math.pi*N_s1/60\n",
      "s1=(N_s1-N_r)/N_s1\n",
      "Z=(r1+r2/s1)+(x1+x2)*f/50.0\n",
      "V=360\n",
      "I1=V/Z    \n",
      "print(\"source current=%.3f A \" %math.degrees(math.atan(I1.imag/I1.real)))\n",
      "print(\"and with %.1f deg phase\" %math.fabs(I1))\n",
      "I2=V/Z\n",
      "T_e=(3/w_s)*abs(I2)**2*r2/s1    \n",
      "print(\"motor torque=%.2f Nm\" %T_e)\n"
     ],
     "language": "python",
     "metadata": {},
     "outputs": [
      {
       "output_type": "stream",
       "stream": "stdout",
       "text": [
        "source current=0.000 A \n",
        "and with 29.0 deg phase\n",
        "motor torque=160.46 Nm\n",
        "source current=-0.000 A \n",
        "and with 142.9 deg phase\n",
        "motor torque=-2598.45 Nm\n"
       ]
      }
     ],
     "prompt_number": 37
    }
   ],
   "metadata": {}
  }
 ]
}