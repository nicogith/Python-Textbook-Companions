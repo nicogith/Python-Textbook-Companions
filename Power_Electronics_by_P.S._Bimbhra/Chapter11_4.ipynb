{
 "metadata": {
  "name": ""
 },
 "nbformat": 3,
 "nbformat_minor": 0,
 "worksheets": [
  {
   "cells": [
    {
     "cell_type": "heading",
     "level": 1,
     "metadata": {},
     "source": [
      "Chapter 11 : Some Applications"
     ]
    },
    {
     "cell_type": "heading",
     "level": 2,
     "metadata": {},
     "source": [
      "Example 11.1, Page No 622"
     ]
    },
    {
     "cell_type": "code",
     "collapsed": false,
     "input": [
      "import math\n",
      "#initialisation of variables\n",
      "V_s=11000.0\n",
      "V_ml=math.sqrt(2)*V_s\n",
      "f=50.0\n",
      "\n",
      "#Calculations\n",
      "w=2*math.pi*f\n",
      "I_d=300\n",
      "R_d=1\n",
      "g=20 #g=gamma\n",
      "a=math.degrees(math.acos(math.cos(math.radians(g))+math.pi/(3*V_ml)*I_d*R_d))    \n",
      "L_s=.01\n",
      "V_d=(3/math.pi)*((V_ml*math.cos(math.radians(a)))-w*L_s*I_d)    \n",
      "\n",
      "#Results\n",
      "print(\"firing angle=%.3f deg\" %a)\n",
      "print(\"rectifier o/p voltage=%.1f V\" %V_d)\n",
      "print(\"dc link voltage=%.3f V\" %(2*V_d/1000))"
     ],
     "language": "python",
     "metadata": {},
     "outputs": [
      {
       "output_type": "stream",
       "stream": "stdout",
       "text": [
        "firing angle=16.283 deg\n",
        "rectifier o/p voltage=13359.3 V\n",
        "dc link voltage=26.719 V\n"
       ]
      }
     ],
     "prompt_number": 1
    },
    {
     "cell_type": "heading",
     "level": 2,
     "metadata": {},
     "source": [
      "Example 11.2, Page No 623"
     ]
    },
    {
     "cell_type": "code",
     "collapsed": false,
     "input": [
      "import math\n",
      "#initialisation of variables\n",
      "V_d=(200.0+200)*10**3\n",
      "P=1000.0*10**6\n",
      "\n",
      "#Calculations\n",
      "I_d=P/V_d\n",
      " #each thristor conducts for 120deg for a periodicity of 360deg\n",
      "a=0\n",
      "V_d=200.0*10**3\n",
      "V_ml=V_d*math.pi/(3*math.cos(math.radians(a)))\n",
      "\n",
      "#Results\n",
      "print(\"rms current rating of thyristor=%.2f A\" %(I_d*math.sqrt(120/360)))\n",
      "print(\"peak reverse voltage across each thyristor=%.2f kV\" %(V_ml/2/1000))"
     ],
     "language": "python",
     "metadata": {},
     "outputs": [
      {
       "output_type": "stream",
       "stream": "stdout",
       "text": [
        "rms current rating of thyristor=0.00 A\n",
        "peak reverse voltage across each thyristor=104.72 kV\n"
       ]
      }
     ],
     "prompt_number": 2
    },
    {
     "cell_type": "heading",
     "level": 2,
     "metadata": {},
     "source": [
      "Example 11.3 Page No 627"
     ]
    },
    {
     "cell_type": "code",
     "collapsed": false,
     "input": [
      "import math\n",
      "#initialisation of variables\n",
      "V_m=230.0\n",
      "V_s=230/math.sqrt(2)\n",
      "pf=0.8\n",
      "P=2000.0\n",
      "\n",
      "#Calculations\n",
      "I_m=P/(V_s*pf)\n",
      "I_Tr=I_m/math.sqrt(2)\n",
      "I_TA=2*I_m/math.pi\n",
      "fos=2 #factor of safety\n",
      "PIV=V_m*math.sqrt(2)\n",
      "I_Tr=I_m/(2)\n",
      "I_TA=I_m/math.pi\n",
      "\n",
      "#Results\n",
      "print(\"rms value of thyristor current=%.2f A\" %(fos*I_Tr))\n",
      "print(\"avg value of thyristor current=%.3f A\" %(fos*I_TA))\n",
      "print(\"voltage rating of thyristor=%.2f V\" %PIV)\n",
      "print(\"rms value of diode current=%.3f A\" %(fos*I_Tr))\n",
      "print(\"avg value of diode current=%.3f A\" %(fos*I_TA))\n",
      "print(\"voltage rating of diode=%.2f V\" %PIV)\n"
     ],
     "language": "python",
     "metadata": {},
     "outputs": [
      {
       "output_type": "stream",
       "stream": "stdout",
       "text": [
        "rms value of thyristor current=15.37 A\n",
        "avg value of thyristor current=9.786 A\n",
        "voltage rating of thyristor=325.27 V\n",
        "rms value of diode current=15.372 A\n",
        "avg value of diode current=9.786 A\n",
        "voltage rating of diode=325.27 V\n"
       ]
      }
     ],
     "prompt_number": 3
    },
    {
     "cell_type": "heading",
     "level": 2,
     "metadata": {},
     "source": [
      "Example 11.4, Page No 629"
     ]
    },
    {
     "cell_type": "code",
     "collapsed": false,
     "input": [
      "import math\n",
      "#initialisation of variables\n",
      "V=200.0\n",
      "I=10.0\n",
      "\n",
      "#Calculations\n",
      "R_L=V/I    \n",
      "I_h=.005     #holding current\n",
      "R2=V/I_h    \n",
      "t_c=20*10**-6\n",
      "fos=2 #factor of safety\n",
      "C=t_c*fos/(R_L*math.log(2))    \n",
      "\n",
      "#Results\n",
      "print(\"value of load resistance=%.0f ohm\" %R_L)\n",
      "print(\"value of R2=%.0f kilo-ohm\" %(R2/1000))\n",
      "print(\"value of C=%.3f uF\" %(C*10**6))"
     ],
     "language": "python",
     "metadata": {},
     "outputs": [
      {
       "output_type": "stream",
       "stream": "stdout",
       "text": [
        "value of load resistance=20 ohm\n",
        "value of R2=40 kilo-ohm\n",
        "value of C=2.885 uF\n"
       ]
      }
     ],
     "prompt_number": 4
    },
    {
     "cell_type": "heading",
     "level": 2,
     "metadata": {},
     "source": [
      "Example 11.5 Page No 646"
     ]
    },
    {
     "cell_type": "code",
     "collapsed": false,
     "input": [
      "import math\n",
      "#initialisation of variables\n",
      "u_r=10\n",
      "f=10000.0 #Hz\n",
      "p=4.0*10**-8 #ohm-m\n",
      "\n",
      "#Calculations\n",
      "dl=(1/(2*math.pi))*math.sqrt(p*10**7/(u_r*f))    \n",
      "l=0.12 #length of cylinder\n",
      "t=20.0 #no of turns\n",
      "I=100.0\n",
      "H=t*I/l\n",
      "P_s=2*math.pi*H**2*math.sqrt(u_r*f*p*10**-7)    \n",
      "d=.02 #diameter\n",
      "P_v=4*H**2*p/(d*dl)    \n",
      "\n",
      "#Results\n",
      "print(\"depth of heat of penetration=%.5f mm\" %(dl*1000))\n",
      "print(\"heat generated per unit cylinder surface area=%.3f W/m**2\" %P_s)\n",
      "print(\"heat generated per unit cylinder volume=%.0f W/m**3\" %P_v)\n",
      " #answer of P_v varies as given in book as value of d is not taken as in formulae. "
     ],
     "language": "python",
     "metadata": {},
     "outputs": [
      {
       "output_type": "stream",
       "stream": "stdout",
       "text": [
        "depth of heat of penetration=0.31831 mm\n",
        "heat generated per unit cylinder surface area=34906.585 W/m**2\n",
        "heat generated per unit cylinder volume=6981317 W/m**3\n"
       ]
      }
     ],
     "prompt_number": 5
    },
    {
     "cell_type": "heading",
     "level": 2,
     "metadata": {},
     "source": [
      "Example 11.6 Page No 646"
     ]
    },
    {
     "cell_type": "code",
     "collapsed": false,
     "input": [
      "import math\n",
      "#initialisation of variables\n",
      "f=3000.0\n",
      "\n",
      "#Calculations\n",
      "t_qmin=30.0*10**-6\n",
      "f_r=f/(1-2*t_qmin*f)\n",
      "R=0.06\n",
      "L=20.0*10**-6\n",
      "C=1/(L*((2*math.pi*f_r)**2+(R/(2*L))**2))    \n",
      "\n",
      "#Results\n",
      "print(\"required capacitor size=%.4f F\" %(C*10**6))\n",
      " #Answers have small variations from that in the book due to difference in the rounding off of digits."
     ],
     "language": "python",
     "metadata": {},
     "outputs": [
      {
       "output_type": "stream",
       "stream": "stdout",
       "text": [
        "required capacitor size=94.2215 F\n"
       ]
      }
     ],
     "prompt_number": 6
    }
   ],
   "metadata": {}
  }
 ]
}