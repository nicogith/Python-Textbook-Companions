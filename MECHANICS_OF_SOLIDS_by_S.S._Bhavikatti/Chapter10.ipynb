{
 "cells": [
  {
   "cell_type": "markdown",
   "metadata": {},
   "source": [
    "# Chapter10-STRESSES IN BEAMS"
   ]
  },
  {
   "cell_type": "markdown",
   "metadata": {},
   "source": [
    "# example 10.1 page number 319\n"
   ]
  },
  {
   "cell_type": "code",
   "execution_count": 1,
   "metadata": {
    "collapsed": false
   },
   "outputs": [
    {
     "name": "stdout",
     "output_type": "stream",
     "text": [
      "(i) w= 5.76 KN/m\n",
      "(ii) P= 9.72 KN\n"
     ]
    }
   ],
   "source": [
    "#variable declaration\n",
    "\n",
    "#A simply supported beam of span 3.0 m has a cross-section 120 mm × 180 mm. If the permissible stress in the material of the beam is 10 N/mm^2\n",
    "\n",
    "b=float(120)           \n",
    "d=float(180)           \n",
    "\n",
    "#I=(b*d^3)/12,Ymax=d/2\n",
    "\n",
    "Z=(b*pow(d,2))/6  \n",
    "fper=float(10)\n",
    "\n",
    "L=3\n",
    "Mmax=fper*Z\n",
    "\n",
    "#Let maximum udl beam can carry be w/metre length \n",
    "#In this case, we know that maximum moment occurs at mid span and is equal to Mmax = (wL^2)/8\n",
    "\n",
    "w=(Mmax*8)/(pow(L,2)*1000000)\n",
    "\n",
    "print \"(i) w=\",round(w,2),\"KN/m\"\n",
    "\n",
    "# Concentrated load at distance 1 m from the support be P kN.\n",
    "\n",
    "a=float(1)           #distance of point at which load is applied from left,m\n",
    "b=float(2)           #distance of point at which load is applied from right,m\n",
    "\n",
    "P=(L*Mmax)/(a*b*1000000)\n",
    "\n",
    "print \"(ii) P=\",round(P,2),\"KN\"\n"
   ]
  },
  {
   "cell_type": "markdown",
   "metadata": {},
   "source": [
    "# example 10.2 page number 320"
   ]
  },
  {
   "cell_type": "code",
   "execution_count": 2,
   "metadata": {
    "collapsed": false
   },
   "outputs": [
    {
     "name": "stdout",
     "output_type": "stream",
     "text": [
      " P= 4.52 KN\n"
     ]
    }
   ],
   "source": [
    "from math import pi\n",
    "\n",
    "#variable declaration\n",
    "\n",
    "#A circular steel pipe of external diameter 60 mm and thickness 8 mm is used as a simply supported beam over an effective span of 2 m. If permissible stress in steel is 150 N/mm^2, \n",
    "\n",
    "D=float(60)            #external diameter,mm\n",
    "d=float(44)             #Thickness,mm\n",
    "\n",
    "I=(pi*(pow(D,4)-pow(d,4)))/64         #Area moment of inertia,mm^4\n",
    "Ymax=float(30)                       #extreme fibre distance,mm\n",
    "\n",
    "Z=I/Ymax  \n",
    "fper=float(150)\n",
    "\n",
    "Mmax=fper*Z\n",
    "\n",
    "#Let maximum load it can carry be P kN.\n",
    "L=float(2)\n",
    "P=(4*Mmax)/(L*1000000)\n",
    "\n",
    "print \" P=\",round(P,2),\"KN\"\n"
   ]
  },
  {
   "cell_type": "markdown",
   "metadata": {},
   "source": [
    "# example10.3 page number 321"
   ]
  },
  {
   "cell_type": "code",
   "execution_count": 3,
   "metadata": {
    "collapsed": false
   },
   "outputs": [
    {
     "name": "stdout",
     "output_type": "stream",
     "text": [
      "w= 68.49 KN/m\n"
     ]
    }
   ],
   "source": [
    "\n",
    "#the cross-section of a cantilever beam of 2.5 m span. Material used is steel for which maximum permissible stress is 150 N/mm^2\n",
    " \n",
    "#variable declaration\n",
    "\n",
    "A=float(180)               #width of I-beam,mm\n",
    "H=float(400)               #height of I-beam,mm\n",
    "a=float(170)               #width of inter rectancle if I-beam consider as Rectangle with width 10,mm\n",
    "h=float(380)               #Height of inter rectancle if I-beam consider as Rectangle with width 10,mm\n",
    "\n",
    "I=((A*pow(H,3))/12)-((a*pow(h,3))/12)\n",
    "ymax=float(200)            #extreme fibre,mm\n",
    "\n",
    "Z=I/ymax\n",
    "fper=float(150) \n",
    "\n",
    "Mmax=fper*Z\n",
    "\n",
    "#If udl is w kN/m, maximum moment in cantilever\n",
    "\n",
    "L=2  #m\n",
    "\n",
    "w=Mmax/(L*1000000)\n",
    "print \"w=\",round(w,2),\"KN/m\"\n"
   ]
  },
  {
   "cell_type": "markdown",
   "metadata": {},
   "source": [
    "# example10.4 page number 323"
   ]
  },
  {
   "cell_type": "code",
   "execution_count": 4,
   "metadata": {
    "collapsed": false
   },
   "outputs": [
    {
     "name": "stdout",
     "output_type": "stream",
     "text": [
      "(i) Moment carryingcapacity of Isection/ Moment carryingcapacityof equivalent squaresection= 8.608\n",
      "(ii) Moment carryingcapacity of I-section/ Moment carryingcapacityof equivalent squaresection= 6.087\n",
      "(i) Moment carryingcapacity of Isection/ Moment carryingcapacityof equivalent squaresection= 10.171\n"
     ]
    }
   ],
   "source": [
    "#Compare the moment carrying capacity of the section given in example 10.3 with equivalent section of the same area but (i) square section (ii) rectangular section with depth twice the width and (iii) a circular section.\n",
    "\n",
    "from math import sqrt,pi\n",
    "#variable declaration\n",
    "\n",
    "A=180.0*10.0+380.0*10.0+180.0*10.0\n",
    "\n",
    "#If ‘a’ is the size of the equivalent square section, \n",
    "\n",
    "a=float(sqrt(A))       #mm\n",
    "\n",
    "I=(a*pow(a,3))/12  #Moment of inertia of this section, mm^4\n",
    "\n",
    "ymax=a/2\n",
    "\n",
    "Z=I/ymax\n",
    "\n",
    "f=150.0 \n",
    "\n",
    "Mcc=f*Z          #Moment carrying capacity\n",
    "\n",
    "MccI=136985000.0\n",
    "\n",
    "Ratio=MccI/Mcc\n",
    "print \"(i) Moment carryingcapacity of Isection/ Moment carryingcapacityof equivalent squaresection=\",round(Ratio,3)\n",
    "\n",
    "\n",
    "#Equivalent rectangular section of depth twice the width. Let b be the width,Depth d = 2b. Equating its area to area of I-section,we get\n",
    "b=sqrt(7400/2)\n",
    "\n",
    "ymax=b\n",
    "\n",
    "I=b*(pow((2*b),3))/12\n",
    " \n",
    "M=f*I/ymax\n",
    "\n",
    "\n",
    "MccI=136985000\n",
    "\n",
    "Ratio=MccI/M\n",
    "print \"(ii) Moment carryingcapacity of I-section/ Moment carryingcapacityof equivalent squaresection=\",round(Ratio,3)\n",
    "\n",
    "#Equivalent circular section. Let diameter be d.\n",
    "\n",
    "d=sqrt(7400*4/pi)\n",
    "\n",
    "I=(pi*pow(d,4))/64\n",
    "ymax=d/2\n",
    "Z=I/ymax\n",
    "fper=float(150)\n",
    "M=fper*Z\n",
    "\n",
    "MccI=136985000\n",
    "\n",
    "Ratio=MccI/M\n",
    "print \"(i) Moment carryingcapacity of Isection/ Moment carryingcapacityof equivalent squaresection=\",round(Ratio,3)\n"
   ]
  },
  {
   "cell_type": "markdown",
   "metadata": {},
   "source": [
    "# example10.5 page number 324"
   ]
  },
  {
   "cell_type": "code",
   "execution_count": 5,
   "metadata": {
    "collapsed": false
   },
   "outputs": [
    {
     "name": "stdout",
     "output_type": "stream",
     "text": [
      "P= 127.632 KN\n"
     ]
    }
   ],
   "source": [
    "#variable declaration\n",
    "\n",
    "#A symmetric I-section of size 180 mm × 40 mm, 8 mm thick is strengthened with 240 mm × 10 mm rectangular plate on top flange. If permissible stress in the material is 150 N/mm^2, determine how much concentrated load the beam of this section can carry at centre of 4 m span. \n",
    "\n",
    "b1=float(240)\n",
    "b=float(180)\n",
    "t=float(10)\n",
    "h=float(400)\n",
    "w=float(8)\n",
    "                                                                                               \n",
    "A=float(240*10+180*8+384*8+180*8)       #Area of section,A\n",
    "\n",
    "Y=(240*10*405+180*8*(400-4)+384*8*200+180*8*4)/A\n",
    "\n",
    "I=(b1*pow(t,3)/12)+(b1*t*(pow(((h+5)-Y),2)))+(b*pow(w,3)/12)+(b*w*(pow(((h-4)-Y),2)))+(w*pow((h-16),3)/12)+((h-16)*w*(pow(((h/2)-Y),2)))+(b*pow(w,3)/12)+(b*w*(pow((4-Y),2)))\n",
    "\n",
    "ytop=(h+t/2)-Y\n",
    "ybottom=Y\n",
    "ymax=Y\n",
    "\n",
    "Z=I/ymax\n",
    "fper=150\n",
    "M=fper*Z/1000000         #Momnent carrying capacity of the section\n",
    "\n",
    "#Let P kN be the central concentrated load the simply supported beam can carry. Then max bending movement in the beam\n",
    "\n",
    "P=M*4/(w/2)\n",
    "\n",
    "print \"P=\",round(P,3),\"KN\""
   ]
  },
  {
   "cell_type": "markdown",
   "metadata": {},
   "source": [
    "# example10.6 page number 327"
   ]
  },
  {
   "cell_type": "code",
   "execution_count": 6,
   "metadata": {
    "collapsed": false
   },
   "outputs": [
    {
     "name": "stdout",
     "output_type": "stream",
     "text": [
      "w= 2.734 KN/m\n",
      "calculation mistake in book\n"
     ]
    }
   ],
   "source": [
    "#The cross-section of a cast iron beam. The top flange is in compression and bottom flange is in tension. Permissible stress in tension is 30 N/mm^2 and its value in compression is 90 N/mm^2\n",
    "#variable declaration\n",
    "from math import sqrt\n",
    "b1=float(75)\n",
    "h1=50\n",
    "h2=50\n",
    "b2=float(150)\n",
    "t=float(25)\n",
    "h=float(200)\n",
    "\n",
    "                                                                                               \n",
    "A=float(75*50+25*100+150*50)       #Area of section,A\n",
    "\n",
    "Y=(75*50*175+25*100*100+150*50*25)/A\n",
    "\n",
    "I=(b1*pow(h1,3)/12)+(b1*h1*(pow(((h-(h1/2))-Y),2)))+(t*pow((h-h1-h2),3)/12)+(t*(h-h1-h2)*(pow(((h/2)-Y),2)))+(b2*pow(h2,3)/12)+(b2*h2*(pow(((h2/2)-Y),2)))\n",
    "\n",
    "\n",
    "\n",
    "ytop=(h-Y)\n",
    "ybottom=Y\n",
    "\n",
    "\n",
    "Z1=I/ytop\n",
    "fperc=90\n",
    "#Top fibres are in compression. Hence from consideration of compression strength, moment carrying capacity of the beam is given by\n",
    "\n",
    "M1=fperc*Z1/1000000         #Momnent carrying capacity of the section,KN-m.\n",
    "\n",
    "#Bottom fibres are in tension. Hence from consideration of tension, moment carrying capacity of the section is given by\n",
    "\n",
    "Z2=I/ybottom\n",
    "\n",
    "fpert=30    \n",
    "\n",
    "M2=fpert*Z2/1000000        #Momnent carrying capacity of the section,KN-m.\n",
    "\n",
    "\n",
    "#Actual moment carrying capacity is the lower value of the above two values. Hence moment carrying capacity of the section is \n",
    "Mmax=min(M1,M2)\n",
    "\n",
    "L=float(5)\n",
    "w=sqrt(Mmax*8/pow(L,2))\n",
    "\n",
    "print\"w=\",round(w,3),\"KN/m\"\n",
    "print\"calculation mistake in book\""
   ]
  },
  {
   "cell_type": "markdown",
   "metadata": {},
   "source": [
    "# example10.7 page number 327"
   ]
  },
  {
   "cell_type": "code",
   "execution_count": 7,
   "metadata": {
    "collapsed": false
   },
   "outputs": [
    {
     "name": "stdout",
     "output_type": "stream",
     "text": [
      "y= 5.0 m\n",
      "f= 5.24 N/mm^2\n"
     ]
    }
   ],
   "source": [
    "#The diameter of a concrete flag post varies from 240 mm at base to 120 mm at top. The height of the post is 10 m. If the post is subjected to a horizontal force of 600 N at top\n",
    "#Consider a section y metres from top. Diameter at this section is d.\n",
    "#d=120+12*y\n",
    "#I=pi*pow(d,4)/64\n",
    "#Z=I*2/d=pi*pow(d,3)/32\n",
    "#variable declaration \n",
    "#M=600*1000*y #moment,N-mm\n",
    "#f*Z=M,f is extreme fibre stress.\n",
    "y=float(5) \n",
    "print \"y=\",round(y,2),\"m\"\n",
    "\n",
    "#Stress at this section f is given by\n",
    "P=600\n",
    "M=P*y*1000\n",
    "d=120+12*y\n",
    "I=pi*pow(d,4)/64\n",
    "Z=I*2/d\n",
    "\n",
    "f=M/Z\n",
    "\n",
    "print \"f=\",round(f,3),\"N/mm^2\""
   ]
  },
  {
   "cell_type": "markdown",
   "metadata": {},
   "source": [
    "# example 10.9 page number 329"
   ]
  },
  {
   "cell_type": "code",
   "execution_count": 8,
   "metadata": {
    "collapsed": false
   },
   "outputs": [
    {
     "name": "stdout",
     "output_type": "stream",
     "text": [
      "b= 150.0 mm\n",
      "d= 300.0 mm\n"
     ]
    }
   ],
   "source": [
    "#Design a timber beam is to carry a load of 5 kN/m over a simply supported span of 6 m. Permissible stress in timber is 10 N/mm2. Keep depth twice the width.\n",
    "\n",
    "#variable declaration\n",
    "w=float(5)                  #KN/m\n",
    "L=float(6)                  #m \n",
    "\n",
    "M=w*1000000*pow(L,2)/8              #Maximum bending moment,N-mm\n",
    "\n",
    "#Let b be the width and d the depth. Then in this problem d = 2b.\n",
    "#Z=b*pow(d,2)/6=2*(b**3)/3\n",
    "f=10                       #N/mm^2\n",
    "#f*Z=M\n",
    "b=float(((M*3)/(2*f))**(0.3333))\n",
    "print \"b=\",round(b),\"mm\"\n",
    "\n",
    "d=2*b\n",
    "print \"d=\",round(d),\"mm\"\n",
    "\n"
   ]
  },
  {
   "cell_type": "markdown",
   "metadata": {},
   "source": [
    "# example 10.10 page number 329\n",
    "\n"
   ]
  },
  {
   "cell_type": "code",
   "execution_count": 9,
   "metadata": {
    "collapsed": false
   },
   "outputs": [
    {
     "name": "stdout",
     "output_type": "stream",
     "text": [
      "d= 164.3 mm\n"
     ]
    }
   ],
   "source": [
    "from math import sqrt\n",
    "#A cantilever of 3 m span, carrying uniformly distributed load of 3 kN/m is to be designed using cast iron rectangular section. Permissible stresses in cast iron are f = 30 N/mm^2 in tension and fc = 90 N/mm^2 in compression\n",
    "\n",
    "L=float(3)                    #Span of cantilever,m\n",
    "w=float(3)                    #uniformly distributed load,KN/m\n",
    "\n",
    "M=w*1000000*pow(L,2)/2        #Maximum moment,N-mm\n",
    "#let b be the width and d the depth\n",
    "#Z=b*pow(d,2)/6\n",
    "\n",
    "#Since it is rectangular section, N-A lies at mid-depth, and stresses at top and bottom are same. Hence, permissible tensile stress value is reached earlier and it governs the design.\n",
    "fper=30                       #N/mm^2\n",
    "b=100                         #mm\n",
    "f=30   \n",
    "\n",
    "#f*Z=M\n",
    "\n",
    "d=sqrt((M*6)/(b*f))\n",
    "\n",
    "print \"d=\",round(d,1),\"mm\""
   ]
  },
  {
   "cell_type": "markdown",
   "metadata": {},
   "source": [
    "# example 10.11 page number 330"
   ]
  },
  {
   "cell_type": "code",
   "execution_count": 10,
   "metadata": {
    "collapsed": false
   },
   "outputs": [
    {
     "name": "stdout",
     "output_type": "stream",
     "text": [
      "d= 23.11 mm\n",
      "select 25mm bar \n"
     ]
    }
   ],
   "source": [
    "from math import pi\n",
    "\n",
    "#variable declaration\n",
    "\n",
    "# Let the diameter of the bar be ‘d’. Now, W = 800 N L = 1 m = 1000 mm\n",
    "L=1000\n",
    "W=800\n",
    "M=W*L/4                     #Maximum moment,N-mm\n",
    "f=150                       #permissible stress,N/mm^2\n",
    "\n",
    "d=float((((M*32)/(pi*f)))**(0.33))\n",
    "\n",
    "print \"d=\",round(d,2),\"mm\"\n",
    "print \"select 25mm bar \"\n"
   ]
  }
 ],
 "metadata": {
  "anaconda-cloud": {},
  "kernelspec": {
   "display_name": "Python [Root]",
   "language": "python",
   "name": "Python [Root]"
  },
  "language_info": {
   "codemirror_mode": {
    "name": "ipython",
    "version": 2
   },
   "file_extension": ".py",
   "mimetype": "text/x-python",
   "name": "python",
   "nbconvert_exporter": "python",
   "pygments_lexer": "ipython2",
   "version": "2.7.12"
  }
 },
 "nbformat": 4,
 "nbformat_minor": 0
}
