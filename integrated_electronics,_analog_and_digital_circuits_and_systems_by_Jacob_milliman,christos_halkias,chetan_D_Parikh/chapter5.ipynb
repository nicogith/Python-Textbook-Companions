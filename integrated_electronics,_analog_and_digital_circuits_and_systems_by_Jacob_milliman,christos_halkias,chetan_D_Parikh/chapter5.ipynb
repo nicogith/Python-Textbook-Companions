{
 "metadata": {
  "name": "",
  "signature": "sha256:b7b082d400afa50b67651b11fc1bd376e16ae6cfbe1cb6bb237c7450d819579e"
 },
 "nbformat": 3,
 "nbformat_minor": 0,
 "worksheets": [
  {
   "cells": [
    {
     "cell_type": "heading",
     "level": 1,
     "metadata": {},
     "source": [
      "Chapter 5 Transistor Characteristics "
     ]
    },
    {
     "cell_type": "heading",
     "level": 2,
     "metadata": {},
     "source": [
      "Example 5.1 Page no 133"
     ]
    },
    {
     "cell_type": "code",
     "collapsed": false,
     "input": [
      "#Given\n",
      "Vx=5                       #Volts\n",
      "Vy=0.7                     #Volts\n",
      "R=200.0                      #ohm\n",
      "Vcb=10                      #Volts\n",
      "B=100\n",
      "B1=101\n",
      "\n",
      "#Calculation\n",
      "Ib=((Vx-Vy)/R)\n",
      "Ic=B*Ib\n",
      "Vcb=-(3*Ic)+Vcb-Vy\n",
      "Ib1=(5-Vy)/(R+2*B1)\n",
      "Ic1=B*Ib1\n",
      "\n",
      "#Result\n",
      "print\"(a) Transistor currents are \",Ic,\"mA and\",Ib,\"mA\"\n",
      "print\"(b) Transistor currents are \", round(Ib1,4),\"mA and \",round(Ic1,2),\"mA\""
     ],
     "language": "python",
     "metadata": {},
     "outputs": [
      {
       "output_type": "stream",
       "stream": "stdout",
       "text": [
        "(a) Transistor currents are  2.15 mA and 0.0215 mA\n",
        "(a) Transistor currents are  0.0107 mA and  1.07 mA\n"
       ]
      }
     ],
     "prompt_number": 26
    },
    {
     "cell_type": "heading",
     "level": 2,
     "metadata": {},
     "source": [
      "Example 5.2 Page no 134"
     ]
    },
    {
     "cell_type": "code",
     "collapsed": false,
     "input": [
      "#Given\n",
      "Vx=5                       #Volts\n",
      "Vy=0.7                     #Volts\n",
      "R=200.0                      #ohm\n",
      "Vcb=10                      #Volts\n",
      "B=140\n",
      "\n",
      "#Calculation\n",
      "Ib=((Vx-Vy)/R)\n",
      "Ic=B*Ib\n",
      "Vcb=-(3*Ic)+Vcb-Vy\n",
      "Ib1=(5-Vy)/(R+2*B)\n",
      "Ic1=B*Ib1\n",
      "\n",
      "#Result\n",
      "print\"(a) Transistor currents are \",Ic,\"mA and\",Ib,\"mA\"\n",
      "print\"(b) Transistor currents are \", round(Ib1,5),\"mA and \",round(Ic1,2),\"mA\"\n"
     ],
     "language": "python",
     "metadata": {},
     "outputs": [
      {
       "output_type": "stream",
       "stream": "stdout",
       "text": [
        "(a) Transistor currents are  3.01 mA and 0.0215 mA\n",
        "(b) Transistor currents are  0.00896 mA and  1.25 mA\n"
       ]
      }
     ],
     "prompt_number": 33
    },
    {
     "cell_type": "heading",
     "level": 2,
     "metadata": {},
     "source": [
      "Example 5.3 Page no 134"
     ]
    },
    {
     "cell_type": "code",
     "collapsed": false,
     "input": [
      "#Given\n",
      "R=330.0*10**3                   #K ohm\n",
      "Vy=0.7                          #Volts\n",
      "B=101\n",
      "B1=100\n",
      "\n",
      "#Calculation\n",
      "Ib=(5-Vy)/(R+B)\n",
      "Ic=B1*Ib\n",
      "Vcb=-Vy-1.01+5-Ic-1\n",
      "\n",
      "#Result\n",
      "print\"Transistor currents are \", round(Ib*10**3,2),\"mA and \",round(Ic*10**3,0),\"mA\"\n",
      "print\"Transistor voltage is \", round(Vcb,1),\"Volts\""
     ],
     "language": "python",
     "metadata": {},
     "outputs": [
      {
       "output_type": "stream",
       "stream": "stdout",
       "text": [
        "Transistor currents are  0.01 mA and  1.0 mA\n",
        "Transistor voltage is  2.3 Volts\n"
       ]
      }
     ],
     "prompt_number": 70
    },
    {
     "cell_type": "heading",
     "level": 2,
     "metadata": {},
     "source": [
      "Example 5.4 Page no 135"
     ]
    },
    {
     "cell_type": "code",
     "collapsed": false,
     "input": [
      "#Given\n",
      "Ve=4                       #Volts\n",
      "R=2.0*10**3                  #ohm\n",
      "V=12                        #Volts\n",
      "B=19\n",
      "\n",
      "#Calculation\n",
      "Ie=Ve/R\n",
      "Vc=V-(R*Ie)\n",
      "Rb=2*(1+B)\n",
      "\n",
      "#Result\n",
      "print\"The value of Rb is \", Rb,\"K ohm\""
     ],
     "language": "python",
     "metadata": {},
     "outputs": [
      {
       "output_type": "stream",
       "stream": "stdout",
       "text": [
        "The value of Rb is  40 K ohm\n"
       ]
      }
     ],
     "prompt_number": 76
    },
    {
     "cell_type": "heading",
     "level": 2,
     "metadata": {},
     "source": [
      "Example 5.5 Page no 135"
     ]
    },
    {
     "cell_type": "code",
     "collapsed": false,
     "input": [
      "#Given\n",
      "V=2.7                         #Volts\n",
      "a=0.7\n",
      "B=100\n",
      "\n",
      "#Calculation\n",
      "Ib=(V-a)/B\n",
      "Ic=B*Ib\n",
      "Vc=-Ic+(10/2.0)\n",
      "\n",
      "#Result\n",
      "print\"The collector voltage is \", Vc,\"Volts\""
     ],
     "language": "python",
     "metadata": {},
     "outputs": [
      {
       "output_type": "stream",
       "stream": "stdout",
       "text": [
        "The collector voltage is  3.0 Volts\n"
       ]
      }
     ],
     "prompt_number": 82
    },
    {
     "cell_type": "heading",
     "level": 2,
     "metadata": {},
     "source": [
      "Example 5.6 Page no 135"
     ]
    },
    {
     "cell_type": "code",
     "collapsed": false,
     "input": [
      "#Given\n",
      "V=10.0                       #Volts\n",
      "R=9.3*10**3                #ohm\n",
      "R1=1                 #K ohm\n",
      "a=10.7         \n",
      "Vbe2=0.7                #V\n",
      "\n",
      "#Calculation\n",
      "Ie1=((V-0.7)/R)*10**3\n",
      "Vc1=10.7*Ie1-V\n",
      "Ie2=(V-0.7+Vc1)/V\n",
      "Vc2=V-(R1*Ie2)\n",
      "Vc1=a-V\n",
      "Ie2=(V+Vbe2-Vbe2)/V\n",
      "Vc2=V-(R1*Ie2)\n",
      "Vcb2=Vc2-Vbe2\n",
      "\n",
      "#Result\n",
      "print\"The current is \",Ie2,\"mA\""
     ],
     "language": "python",
     "metadata": {},
     "outputs": [
      {
       "output_type": "stream",
       "stream": "stdout",
       "text": [
        "The current is  1.0 mA\n"
       ]
      }
     ],
     "prompt_number": 6
    },
    {
     "cell_type": "heading",
     "level": 2,
     "metadata": {},
     "source": [
      "Example 5.7 Page no 142"
     ]
    },
    {
     "cell_type": "code",
     "collapsed": false,
     "input": [
      "#Given\n",
      "V=0.8                                #Volts\n",
      "V1=5                                 #Volts\n",
      "R=50.0                               #K ohm\n",
      "V3=0.2                               #Volts\n",
      "V2=10                                #Volts\n",
      "R1=3                                 #K ohm\n",
      "hfe=100.0\n",
      "V5=20                                #Volts\n",
      "a=0.4\n",
      "\n",
      "#Calculation\n",
      "Ib=(V1-V)/R\n",
      "Ic=(V2-V3)/R1\n",
      "Ibmin=Ic/hfe\n",
      "Ib1=(V1*(V1-V)-V5+a)/(R*V1-4+V1*2)\n",
      "Ic1=(V1-R*Ib1-V-2*Ib1)/2.0\n",
      "Ibmin=Ic1/hfe\n",
      "\n",
      "#Result\n",
      "print\"(a) The transistor current Ib=\",Ib,\"mA and Ic=\",round(Ic,2),\"mA and Ibmin=\",round(Ibmin,3),\"mA\"\n",
      "print\"(b)Collector current is \" ,round(Ic1,2),\"mA \\n    base current is \",round(Ib1,4),\"mA\""
     ],
     "language": "python",
     "metadata": {},
     "outputs": [
      {
       "output_type": "stream",
       "stream": "stdout",
       "text": [
        "(a) The transistor current Ib= 0.084 mA and Ic= 3.27 mA and Ibmin= 0.02 mA\n",
        "(b)Collector current is  1.96 mA \n",
        "    base current is  0.0055 mA\n"
       ]
      }
     ],
     "prompt_number": 19
    },
    {
     "cell_type": "heading",
     "level": 2,
     "metadata": {},
     "source": [
      "Example 5.8 Page no 143"
     ]
    },
    {
     "cell_type": "code",
     "collapsed": false,
     "input": [
      "#Given\n",
      "V=5                          #Volts\n",
      "V1=0.8\n",
      "V2=0.2\n",
      "V3=0.8\n",
      "a=1650\n",
      "\n",
      "#Calculation\n",
      "Ib=(V+V1*V-V**2-V2+V3-V)/(-5-a-1-330-1)\n",
      "Ic=-Ib-V1-330*Ib+V\n",
      "\n",
      "#Result\n",
      "print\"Currents are Ic=\",round(Ic,1),\"mA and Ib=\",round(Ib,2),\"mA\""
     ],
     "language": "python",
     "metadata": {},
     "outputs": [
      {
       "output_type": "stream",
       "stream": "stdout",
       "text": [
        "Currents are Ic= 0.8 mA and Ib= 0.01 mA\n"
       ]
      }
     ],
     "prompt_number": 125
    },
    {
     "cell_type": "heading",
     "level": 2,
     "metadata": {},
     "source": [
      "Example 5.9 Page no 143"
     ]
    },
    {
     "cell_type": "code",
     "collapsed": false,
     "input": [
      "#Given\n",
      "B=99\n",
      "I=2                    #mA\n",
      "B1=100.0\n",
      "V=50                           #Volts\n",
      "V1=5\n",
      "a=0.6\n",
      "\n",
      "#Calculation\n",
      "Ib=(I/B1)\n",
      "Ic=B*Ib\n",
      "Vcb=V*0.02-V1*Ic\n",
      "Ic1=(a-V*I)/(-V-V1)\n",
      "Ib1=I-Ic1\n",
      "\n",
      "#Result\n",
      "print\"The base current are \", round(Ib1,2),\"mA and \",Ib,\"mA\"\n",
      "print\"The collector current is \",round(Ic1,2),\"mA and \",Ic,\"mA\""
     ],
     "language": "python",
     "metadata": {},
     "outputs": [
      {
       "output_type": "stream",
       "stream": "stdout",
       "text": [
        "The base current are  0.19 mA and  0.02 mA\n",
        "The collector current is  1.81 mA and  1.98 mA\n"
       ]
      }
     ],
     "prompt_number": 154
    },
    {
     "cell_type": "heading",
     "level": 2,
     "metadata": {},
     "source": [
      "Example 5.10 Page no 144"
     ]
    },
    {
     "cell_type": "code",
     "collapsed": false,
     "input": [
      "#Given\n",
      "Ie1=1*10**-3               #A\n",
      "B=100.0\n",
      "V=12                         #Volts\n",
      "R=5                   #K ohm\n",
      "Vbe1=0.7\n",
      "\n",
      "#Calculation\n",
      "Ic1=(B*Ie1/(1.0+B))*10**3\n",
      "Vcb1=V-R*Ic1-5\n",
      "Ve=5-Vbe1\n",
      "Vbe2=2.5-Ve\n",
      "Vcb2=V-R*Ic1-2.5\n",
      "Ve1=2.5-Vbe1\n",
      "Vbe1=-Ve1\n",
      "V0=V-R*Ic1\n",
      "\n",
      "#Result\n",
      "print\"(a) Vbe2 is -ve , so no current flows through Q2,V0=12 V\" \n",
      "print\"(b) The value of V0 is \",round(V0,2),\"Volts\""
     ],
     "language": "python",
     "metadata": {},
     "outputs": [
      {
       "output_type": "stream",
       "stream": "stdout",
       "text": [
        "(a) Vbe2 is -ve , so no current flows through Q2,V0=12 V\n",
        "(b) The value of V0 is  7.05 Volts\n"
       ]
      }
     ],
     "prompt_number": 197
    }
   ],
   "metadata": {}
  }
 ]
}