{
 "metadata": {
  "name": "",
  "signature": "sha256:3a5f70d3bf4cb3a553b5fa0666639707f168933e92d2f8256330898382eb0c39"
 },
 "nbformat": 3,
 "nbformat_minor": 0,
 "worksheets": [
  {
   "cells": [
    {
     "cell_type": "heading",
     "level": 1,
     "metadata": {},
     "source": [
      "CHAPTER 7: COMBUSTION BOILER TRIALS"
     ]
    },
    {
     "cell_type": "heading",
     "level": 2,
     "metadata": {},
     "source": [
      "Example 7.1 Page112"
     ]
    },
    {
     "cell_type": "code",
     "collapsed": false,
     "input": [
      "#initialisation of variable\n",
      "from math import pi,sqrt,acos,asin,atan,cos,sin,tan\n",
      "C=86#percent\n",
      "h=4.2#percent\n",
      "w=20#lb\n",
      "a=w+0.902#lb\n",
      "C2=44/12#lb\n",
      "N=0.77#lb\n",
      "CO2=3.15\n",
      "H2O=0.042*9#lb\n",
      "N2=w*N#lb\n",
      "Ox=a-CO2-H2O-N2#lb\n",
      "\n",
      "#CALCULATIONS\n",
      "Co2=CO2/a*100#percent\n",
      "H2o=H2O/a*100#percent\n",
      "n2=N2/a#percent\n",
      "o2=Ox/a*100#percent\n",
      "\n",
      "#RESULTS\n",
      "print\"The composition of the products of combutions by weight is\",round(o2,3),\"%\""
     ],
     "language": "python",
     "metadata": {},
     "outputs": [
      {
       "output_type": "stream",
       "stream": "stdout",
       "text": [
        "The composition of the products of combutions by weight is 9.444 %\n"
       ]
      }
     ],
     "prompt_number": 1
    },
    {
     "cell_type": "heading",
     "level": 2,
     "metadata": {},
     "source": [
      "Example 7.2 Page 113"
     ]
    },
    {
     "cell_type": "code",
     "collapsed": false,
     "input": [
      "#initialisation of variable\n",
      "from math import pi,sqrt,acos,asin,atan,cos,sin,tan\n",
      "g=0.05#percent\n",
      "n=0.35#percent\n",
      "c=0.5#percent\n",
      "h=10#percent\n",
      "m=167#C H U\n",
      "h1=162#C H U\n",
      "v=1#ft^3\n",
      "H2=0.5#ft^3\n",
      "Co=0.05#ft^3\n",
      "v2=3#ft\n",
      "\n",
      "#CALCULATIONS\n",
      "G=(g*c)+(n*H2)#ft^3\n",
      "Tv=(g*h1)+(n*m)#C H U\n",
      "M=Tv/v2#C H U/ft^3\n",
      "\n",
      "#RESULTS\n",
      "print\"The gas with twice its volume of air is\",round(M,3),\"C.H.U/ft^3\""
     ],
     "language": "python",
     "metadata": {},
     "outputs": [
      {
       "output_type": "stream",
       "stream": "stdout",
       "text": [
        "The gas with twice its volume of air is 22.183 C.H.U/ft^3\n"
       ]
      }
     ],
     "prompt_number": 2
    },
    {
     "cell_type": "heading",
     "level": 2,
     "metadata": {},
     "source": [
      "Example 7.4 Page 114"
     ]
    },
    {
     "cell_type": "code",
     "collapsed": false,
     "input": [
      "#initialisation of variable\n",
      "from math import pi,sqrt,acos,asin,atan,cos,sin,tan\n",
      "g=8#percent\n",
      "f=88#percent\n",
      "C=12#percent\n",
      "w=20#lb\n",
      "C1=11/3#lb\n",
      "CO2=3/11#lb\n",
      "e=0.08#lb\n",
      "D=0.0218#lb C\n",
      "w1=0.88#lb\n",
      "\n",
      "#CALCULATIONS\n",
      "W1=w1/D#lb lb fuel\n",
      "T=w1/D*w#lb/hr\n",
      "\n",
      "#RESULTS\n",
      "print\"the total weight of exaust gas leaving the engine per hour is\",round(T,3),\"lb/hr\""
     ],
     "language": "python",
     "metadata": {},
     "outputs": [
      {
       "output_type": "stream",
       "stream": "stdout",
       "text": [
        "the total weight of exaust gas leaving the engine per hour is 807.339 lb/hr\n"
       ]
      }
     ],
     "prompt_number": 4
    },
    {
     "cell_type": "heading",
     "level": 2,
     "metadata": {},
     "source": [
      "Example 7.6 Page 116"
     ]
    },
    {
     "cell_type": "code",
     "collapsed": false,
     "input": [
      "#initialisation of variable\n",
      "from math import pi,sqrt,acos,asin,atan,cos,sin,tan\n",
      "a=30#percent\n",
      "b=20#percent\n",
      "c=8#percent\n",
      "h=42#percent\n",
      "t1=20#degree C\n",
      "g=0.24#in\n",
      "t2=320#degree c\n",
      "M=7.654#lb/lb fuel\n",
      "A=3*M#lb/lb fuel\n",
      "W=0.08+0.04#lb\n",
      "T=A+0.8#lb\n",
      "w1=0.72+0.3#lb\n",
      "w=T-w1#lb\n",
      "d=w*0.24*(t2-b)#C H U/lb fuel\n",
      "H=1.02*(639+0.49*220-t1)#C H U/lb fuel\n",
      "\n",
      "#CALCULATIONS\n",
      "T1=d+H#C H U/lb fuel\n",
      "\n",
      "#RESULTS\n",
      "print\"total heat carried away by flue gases is\",round(T1,3),\"C H U/lb fuel\""
     ],
     "language": "python",
     "metadata": {},
     "outputs": [
      {
       "output_type": "stream",
       "stream": "stdout",
       "text": [
        "total heat carried away by flue gases is 2378.76 C H U/lb fuel\n"
       ]
      }
     ],
     "prompt_number": 5
    },
    {
     "cell_type": "heading",
     "level": 2,
     "metadata": {},
     "source": [
      "Example 7.7 Page 117"
     ]
    },
    {
     "cell_type": "code",
     "collapsed": false,
     "input": [
      "#initialisation of variable\n",
      "from math import pi,sqrt,acos,asin,atan,cos,sin,tan\n",
      "h=40#percent\n",
      "g=30#percent\n",
      "c=8#percent\n",
      "n=10#percent\n",
      "w=6#percent\n",
      "g1=10#percent\n",
      "g2=4.14#ft^3\n",
      "Ch4=4.562#ft^3 of air\n",
      "Co2=0.44#ft\n",
      "H2o=1.18#ft^3\n",
      "N2=3.7#ft63\n",
      "x=41.4/11#ft63\n",
      "\n",
      "#CALCULATIONS\n",
      "T=Ch4+x#ft^3\n",
      "v=1+T#ft^3\n",
      "V=x+g2#ft^3\n",
      "D=v-V#ft^3\n",
      "P=D/v*100#percent\n",
      "\n",
      "#RESULTS\n",
      "print\"the volueme of air suplied per is\",round(P,3),\"%\""
     ],
     "language": "python",
     "metadata": {},
     "outputs": [
      {
       "output_type": "stream",
       "stream": "stdout",
       "text": [
        "the volueme of air suplied per is 15.248 %\n"
       ]
      }
     ],
     "prompt_number": 6
    },
    {
     "cell_type": "heading",
     "level": 2,
     "metadata": {},
     "source": [
      "Example 7.9 Page 119"
     ]
    },
    {
     "cell_type": "code",
     "collapsed": false,
     "input": [
      "#initialisation of variable\n",
      "from math import pi,sqrt,acos,asin,atan,cos,sin,tan\n",
      "Ox=2.679#lb\n",
      "O2=Ox-0.03#lb O2/lb fuel\n",
      "o2=O2*100.0/23.0#lb air lb fuel\n",
      "E=o2/2.0#lb\n",
      "a=17.325#lb /lb fuel\n",
      "Co2=3.294#lb\n",
      "H2o=0.315#lb\n",
      "N2o=13.34#lb\n",
      "O2=23.0/100.0*E#lb\n",
      "So2=0.005*2#lb\n",
      "\n",
      "#CALCULATIONS\n",
      "W=Co2+N2o+O2+So2#lb /lb fuel\n",
      "\n",
      "#RESULTS\n",
      "print\"the total weight of dry products is\",round(W,3),\"lb /lb fuel\""
     ],
     "language": "python",
     "metadata": {},
     "outputs": [
      {
       "output_type": "stream",
       "stream": "stdout",
       "text": [
        "the total weight of dry products is 17.969 lb /lb fuel\n"
       ]
      }
     ],
     "prompt_number": 9
    },
    {
     "cell_type": "heading",
     "level": 2,
     "metadata": {},
     "source": [
      "Example 7.11 Page 120"
     ]
    },
    {
     "cell_type": "code",
     "collapsed": false,
     "input": [
      "#initialisation of variable\n",
      "from math import pi,sqrt,acos,asin,atan,cos,sin,tan\n",
      "l=8.7#percent\n",
      "Co2=42.0#percent\n",
      "N=28.0#percent\n",
      "O2=32.0#percent\n",
      "x=27.65#lb air\n",
      "W=(O2/12.0)*(100.0/23.0)#lb\n",
      "\n",
      "#CALCULATIONS\n",
      "A=x-W#lb\n",
      "\n",
      "#RESULTS\n",
      "print\"the air to flues /lb carbon is\",round(A,3),\"lb\""
     ],
     "language": "python",
     "metadata": {},
     "outputs": [
      {
       "output_type": "stream",
       "stream": "stdout",
       "text": [
        "the air to flues /lb carbon is 16.056 lb\n"
       ]
      }
     ],
     "prompt_number": 11
    },
    {
     "cell_type": "heading",
     "level": 2,
     "metadata": {},
     "source": [
      "Example 7.13 Page 121"
     ]
    },
    {
     "cell_type": "code",
     "collapsed": false,
     "input": [
      "#initialisation of variable\n",
      "from math import pi,sqrt,acos,asin,atan,cos,sin,tan\n",
      "Co=2420#C H U\n",
      "a=3400/6#C H U\n",
      "R=Co/3246#C H U\n",
      "T=1+0.745#lb\n",
      "n=1.12 #lb\n",
      "O2=1.33/1.745#lb\n",
      "C=O2*100/23#lb\n",
      "CB=n/T#lb\n",
      "m=1.74#lb\n",
      "k=2.33#lb\n",
      "l=1.33#lb\n",
      "c=77#lb\n",
      "d=23#lb\n",
      "\n",
      "#CALCULATIONS\n",
      "Y=l*c/d#N2\n",
      "\n",
      "#RESULTS\n",
      "print\"the weight of air and steam is\",round(Y,3),\"N2\""
     ],
     "language": "python",
     "metadata": {},
     "outputs": [
      {
       "output_type": "stream",
       "stream": "stdout",
       "text": [
        "the weight of air and steam is 4.453 N2\n"
       ]
      }
     ],
     "prompt_number": 12
    },
    {
     "cell_type": "heading",
     "level": 2,
     "metadata": {},
     "source": [
      "Example 7.15 Page 123"
     ]
    },
    {
     "cell_type": "code",
     "collapsed": false,
     "input": [
      "#initialisation of variable\n",
      "from math import pi,sqrt,acos,asin,atan,cos,sin,tan\n",
      "w=20#lb\n",
      "t=320#degree C\n",
      "t1=22#Degree C\n",
      "w1=0.0807#lb\n",
      "A=0.03901#AH\n",
      "W=0.07469#AH\n",
      "g=5.2#A\n",
      "Q=W-A#A\n",
      "\n",
      "#CALCULATIONS\n",
      "H=(g*0.625)/(Q)#ft\n",
      "\n",
      "#RESULTS\n",
      "print\"weight of equal column of external air is\",round(H,3),\"ft\""
     ],
     "language": "python",
     "metadata": {},
     "outputs": [
      {
       "output_type": "stream",
       "stream": "stdout",
       "text": [
        "weight of equal column of external air is 91.087 ft\n"
       ]
      }
     ],
     "prompt_number": 13
    },
    {
     "cell_type": "heading",
     "level": 2,
     "metadata": {},
     "source": [
      "Example 7.16 Page 124"
     ]
    },
    {
     "cell_type": "code",
     "collapsed": false,
     "input": [
      "#initialisation of variable\n",
      "from math import pi,sqrt,acos,asin,atan,cos,sin,tan\n",
      "p=120#lb/in^2\n",
      "h=30#in\n",
      "t=48#degree C\n",
      "C=1000#lb\n",
      "t1=26#degree C\n",
      "m=2.2#percent\n",
      "g=18#lb\n",
      "f=127#lb\n",
      "j=33000#in\n",
      "q=1400#in\n",
      "L=0.978*8000#C.H.U\n",
      "b=50#in\n",
      "t2=320#degree C\n",
      "g1=0.24#in\n",
      "d=0.90#in\n",
      "a=0.4912*30#lb/in^2\n",
      "P=p+a#lb/in^2 abs\n",
      "T=178.62+d*483.45#C.H.U/lb\n",
      "\n",
      "#CALCULATIONS\n",
      "Wt=C/f#lb\n",
      "H=Wt*(T-t)#C.H.U\n",
      "F=0.022*(638.9+0.48*220-t1)#C.H.U\n",
      "G=g*0.24*(t2-t1)#C.H.U\n",
      "E=H/L*100#percent\n",
      "E1=b*j*60/(L*f*q)*100#percent\n",
      "\n",
      "#RESULTS\n",
      "print\"the heat balance for the boiler and find its efficiency and the overall efficiency of the plant is\",round(E1,3),\"%\""
     ],
     "language": "python",
     "metadata": {},
     "outputs": [
      {
       "output_type": "stream",
       "stream": "stdout",
       "text": [
        "the heat balance for the boiler and find its efficiency and the overall efficiency of the plant is 7.117 %\n"
       ]
      }
     ],
     "prompt_number": 14
    },
    {
     "cell_type": "heading",
     "level": 2,
     "metadata": {},
     "source": [
      "Example 7.17 Page 126"
     ]
    },
    {
     "cell_type": "code",
     "collapsed": false,
     "input": [
      "#initialisation of variable\n",
      "from math import pi,sqrt,acos,asin,atan,cos,sin,tan\n",
      "v=7950#lb C.H.U /lb\n",
      "w=15#percent\n",
      "c=0.85#lb\n",
      "w1=14#percent\n",
      "w2=9#percent\n",
      "t1=15#degree C\n",
      "t2=325#degree C\n",
      "g=0.25#lb\n",
      "\n",
      "#CALCULATIONS\n",
      "H=c*v#C.H.U\n",
      "H1=0.15*(638.9+0.48*225-15)#C.H.U\n",
      "C=c*c#lb\n",
      "A=19.2#lb\n",
      "Wt=A+C#lb\n",
      "P=Wt*g*(t2-t1)#C.H.U/lb coal\n",
      "R=0.14*H#C.H.U\n",
      "R1=H-H1-P-R#C.H.U\n",
      "B=R1/H*100#percent\n",
      "\n",
      "#RESULTS\n",
      "print\"the efficiency of a boiler is\",round(B,3),\"%\""
     ],
     "language": "python",
     "metadata": {},
     "outputs": [
      {
       "output_type": "stream",
       "stream": "stdout",
       "text": [
        "the efficiency of a boiler is 61.527 %\n"
       ]
      }
     ],
     "prompt_number": 15
    }
   ],
   "metadata": {}
  }
 ]
}