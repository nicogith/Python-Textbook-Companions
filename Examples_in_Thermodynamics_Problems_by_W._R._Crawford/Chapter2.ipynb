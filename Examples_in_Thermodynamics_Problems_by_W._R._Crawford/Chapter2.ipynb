{
 "metadata": {
  "name": "",
  "signature": "sha256:8ff0faa4ee8798b8afb099ec4225e3d1dba96fda9be0b2724a96827e87a8c2b0"
 },
 "nbformat": 3,
 "nbformat_minor": 0,
 "worksheets": [
  {
   "cells": [
    {
     "cell_type": "heading",
     "level": 1,
     "metadata": {},
     "source": [
      "CHAPTER 2: AIR CYCLE EFFICIENCIES"
     ]
    },
    {
     "cell_type": "heading",
     "level": 2,
     "metadata": {},
     "source": [
      "Example 2.2 Page 19"
     ]
    },
    {
     "cell_type": "code",
     "collapsed": false,
     "input": [
      "#initialisation of variable\n",
      "from math import pi,sqrt,acos,asin,atan,cos,sin,tan,log\n",
      "T1=(100+273)#Degree C\n",
      "T2=(300+273)#degree C\n",
      "T=(1-T1/T2)*100#F\n",
      "lam=0.41#in\n",
      "\n",
      "#CALCULATIONS\n",
      "R=log(T2)-log(T1)#lb/in^2\n",
      "r=2.849#ratio of compression\n",
      "\n",
      "#RESULTS\n",
      "print\"The ideal efficiency and the compression ratio is\",round(r,3)"
     ],
     "language": "python",
     "metadata": {},
     "outputs": [
      {
       "output_type": "stream",
       "stream": "stdout",
       "text": [
        "The ideal efficiency and the compression ratio is 2.849\n"
       ]
      }
     ],
     "prompt_number": 3
    },
    {
     "cell_type": "heading",
     "level": 2,
     "metadata": {},
     "source": [
      "Example 2.4 Page 20"
     ]
    },
    {
     "cell_type": "code",
     "collapsed": false,
     "input": [
      "#initialisation of variable\n",
      "from math import pi,sqrt,acos,asin,atan,cos,sin,tan,log\n",
      "r=0.60#in\n",
      "v=3#in\n",
      "p=15.4#lb\n",
      "r=5#in\n",
      "P=2000#r p m\n",
      "V=19000#B.Th.U  Per lb\n",
      "lam=1.41 #lb\n",
      "n=0.4831#percent\n",
      "P=15.4/4#lb\n",
      "H=P*V#B.Th.U\n",
      "l=4.5#lb\n",
      "A=9#lb\n",
      "S=1000#lb\n",
      "\n",
      "#CALCULATIONS\n",
      "R=0.60*n*100#percent\n",
      "C=H*R#B.Th.U\n",
      "I=(C*778)/(60*33000)#lb\n",
      "P1=(I*12*4*33)/(l*A*pi)#lb/in^2\n",
      "\n",
      "#RESULTS\n",
      "print\"The mean efficity pressure is\",round(P1,3)"
     ],
     "language": "python",
     "metadata": {},
     "outputs": [
      {
       "output_type": "stream",
       "stream": "stdout",
       "text": [
        "The mean efficity pressure is 10372.115\n"
       ]
      }
     ],
     "prompt_number": 5
    },
    {
     "cell_type": "heading",
     "level": 2,
     "metadata": {},
     "source": [
      "Example 2.5 Page 21"
     ]
    },
    {
     "cell_type": "code",
     "collapsed": false,
     "input": [
      "#initialisation of variable\n",
      "from math import pi,sqrt,acos,asin,atan,cos,sin,tan,log\n",
      "v=15#in\n",
      "S=(5*14/100)#ln\n",
      "lam=1.4#in\n",
      "v1=1.7#in\n",
      "\n",
      "#CALCULATIONS\n",
      "N=(1-0.38)*100#percent\n",
      "\n",
      "#RESULTS\n",
      "print\"The ideal effiecncy for an engine is\",round(N,3),\"%\""
     ],
     "language": "python",
     "metadata": {},
     "outputs": [
      {
       "output_type": "stream",
       "stream": "stdout",
       "text": [
        "The ideal effiecncy for an engine is 62.0 %\n"
       ]
      }
     ],
     "prompt_number": 7
    }
   ],
   "metadata": {}
  }
 ]
}