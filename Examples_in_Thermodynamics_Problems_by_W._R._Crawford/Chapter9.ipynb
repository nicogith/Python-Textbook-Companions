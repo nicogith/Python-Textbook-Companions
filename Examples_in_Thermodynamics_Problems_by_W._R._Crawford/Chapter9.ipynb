{
 "metadata": {
  "name": "",
  "signature": "sha256:023bb2358c5a7a6740b1b9a08290e11f954e790555a353817bbe84615e4679e6"
 },
 "nbformat": 3,
 "nbformat_minor": 0,
 "worksheets": [
  {
   "cells": [
    {
     "cell_type": "heading",
     "level": 1,
     "metadata": {},
     "source": [
      "CHAPTER 9: VALVE DIAGRAMS AND VALVE GEARS"
     ]
    },
    {
     "cell_type": "heading",
     "level": 2,
     "metadata": {},
     "source": [
      "Example 9.5 Page 150"
     ]
    },
    {
     "cell_type": "code",
     "collapsed": false,
     "input": [
      "#initialisation of variable\n",
      "from math import pi,sqrt,acos,asin,atan,cos,sin,tan\n",
      "p=20#in\n",
      "l=100#in\n",
      "r=120#r.p.m\n",
      "v=3.5#in\n",
      "l2=1#in\n",
      "l3=1/8#in\n",
      "v1=1.44#omega in/sec\n",
      "\n",
      "#CALCULATIONS\n",
      "V=p*(1.06/1.166)#omega in./sec\n",
      "R=(V/v1)#omega in/sec\n",
      "\n",
      "#RESULTS\n",
      "print\"The ratio of velocity of the piston to the velocity is\",round(R,3),\"Omega in/sec\""
     ],
     "language": "python",
     "metadata": {},
     "outputs": [
      {
       "output_type": "stream",
       "stream": "stdout",
       "text": [
        "The ratio of velocity of the piston to the velocity is 12.626 Omega in/sec\n"
       ]
      }
     ],
     "prompt_number": 1
    },
    {
     "cell_type": "heading",
     "level": 2,
     "metadata": {},
     "source": [
      "Example 9.7 Page 151"
     ]
    },
    {
     "cell_type": "code",
     "collapsed": false,
     "input": [
      "#initialisation of variable\n",
      "from math import pi,sqrt,acos,asin,atan,cos,sin,tan\n",
      "v=0.6#in\n",
      "m=1.0#in\n",
      "t=0.75#in\n",
      "p=4#in\n",
      "\n",
      "#CALCULATIONS\n",
      "D=t/m#in\n",
      "A=(p*m/D)#in\n",
      "\n",
      "#RESULTS\n",
      "print\"the travel and laps of the value is\",round(A,3),\"in\""
     ],
     "language": "python",
     "metadata": {},
     "outputs": [
      {
       "output_type": "stream",
       "stream": "stdout",
       "text": [
        "the travel and laps of the value is 5.333 in\n"
       ]
      }
     ],
     "prompt_number": 2
    },
    {
     "cell_type": "heading",
     "level": 2,
     "metadata": {},
     "source": [
      "Example 9.10 Page 154"
     ]
    },
    {
     "cell_type": "code",
     "collapsed": false,
     "input": [
      "#initialisation of variable\n",
      "from math import pi,sqrt,acos,asin,atan,cos,sin,tan\n",
      "l=1.5#in\n",
      "p=4.0#in\n",
      "v=0.98#in\n",
      "\n",
      "#CALCULATIONS\n",
      "T=(l*p/v)#in\n",
      "\n",
      "#RESULTS\n",
      "print\"the particulars of a value and it eccentric is\",round(T,3),\"in\""
     ],
     "language": "python",
     "metadata": {},
     "outputs": [
      {
       "output_type": "stream",
       "stream": "stdout",
       "text": [
        "the particulars of a value and it eccentric is 6.122 in\n"
       ]
      }
     ],
     "prompt_number": 3
    },
    {
     "cell_type": "heading",
     "level": 2,
     "metadata": {},
     "source": [
      "Example 9.12 Page 156"
     ]
    },
    {
     "cell_type": "code",
     "collapsed": false,
     "input": [
      "#initialisation of variable\n",
      "from math import pi,sqrt,acos,asin,atan,cos,sin,tan\n",
      "p=1/10#in\n",
      "v1=3/4#in\n",
      "v2=3/5#in\n",
      "m=1*1/2#in\n",
      "l=4#cranks\n",
      "a1=1.25#in\n",
      "a2=0.7#in\n",
      "\n",
      "#CALCULATIONS\n",
      "C=a1/a2#in\n",
      "A=l*a1/a2#in\n",
      "S=(A/2-a1)#in\n",
      "\n",
      "#RESULTS\n",
      "print\"the travel of the value is\",round(S,3),\"in\""
     ],
     "language": "python",
     "metadata": {},
     "outputs": [
      {
       "output_type": "stream",
       "stream": "stdout",
       "text": [
        "the travel of the value is 2.321 in\n"
       ]
      }
     ],
     "prompt_number": 4
    },
    {
     "cell_type": "heading",
     "level": 2,
     "metadata": {},
     "source": [
      "Example 9.17 Page 161"
     ]
    },
    {
     "cell_type": "code",
     "collapsed": false,
     "input": [
      "#initialisation of variable\n",
      "from math import pi,sqrt,acos,asin,atan,cos,sin,tan\n",
      "v=3*1/2#in\n",
      "a=30#degree\n",
      "l=0.8#in\n",
      "v1=0.2#in\n",
      "L=0.13#in\n",
      "m=1.075#in\n",
      "d=0.58#in\n",
      "p=1.875#in\n",
      "\n",
      "#CALCULATIONS\n",
      "V=(p-d)#in\n",
      "P=V+1.25#in\n",
      "\n",
      "#RESULTS\n",
      "print\"the main value and the maximum opening to steam is\",round(P,3),\"in\""
     ],
     "language": "python",
     "metadata": {},
     "outputs": [
      {
       "output_type": "stream",
       "stream": "stdout",
       "text": [
        "the main value and the maximum opening to steam is 2.545 in\n"
       ]
      }
     ],
     "prompt_number": 5
    }
   ],
   "metadata": {}
  }
 ]
}