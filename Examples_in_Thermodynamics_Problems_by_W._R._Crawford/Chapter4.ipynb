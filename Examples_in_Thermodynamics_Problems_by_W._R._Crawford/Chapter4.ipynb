{
 "metadata": {
  "name": "",
  "signature": "sha256:cafa634c5fbcfd5447496e6358027f61ba038aded335f02d8eee875e161267c7"
 },
 "nbformat": 3,
 "nbformat_minor": 0,
 "worksheets": [
  {
   "cells": [
    {
     "cell_type": "heading",
     "level": 1,
     "metadata": {},
     "source": [
      "CHAPTER 4: THE STEAM ENGINE"
     ]
    },
    {
     "cell_type": "heading",
     "level": 2,
     "metadata": {},
     "source": [
      "Example 4.1 Page 46"
     ]
    },
    {
     "cell_type": "code",
     "collapsed": false,
     "input": [
      "#initialisation of variable\n",
      "from math import pi,sqrt,acos,asin,atan,cos,sin,tan\n",
      "p=90#lb/in^2\n",
      "x1=0.9#lb\n",
      "p1=10#lb/in^2\n",
      "x2=0.81#lb\n",
      "s1=161.5#lb.in^2\n",
      "s2=89.1#lb.in^2\n",
      "L1=496.8#lb.in^2\n",
      "L2=545.5#lb.in^2\n",
      "\n",
      "#CALCULATIONS\n",
      "bc=(s1-s2)+(x1*L1)#C.H.U/lb\n",
      "da=x2*L2#C.H.U/lb\n",
      "W=bc-da#C.H.U/lb\n",
      "R=W/bc*100#percent\n",
      "\n",
      "#RESULTS\n",
      "print\"the work done per\",round(R,3),\"%\""
     ],
     "language": "python",
     "metadata": {},
     "outputs": [
      {
       "output_type": "stream",
       "stream": "stdout",
       "text": [
        "the work done per 14.949 %\n"
       ]
      }
     ],
     "prompt_number": 6
    },
    {
     "cell_type": "heading",
     "level": 2,
     "metadata": {},
     "source": [
      "Example 4.2 Page 47"
     ]
    },
    {
     "cell_type": "code",
     "collapsed": false,
     "input": [
      "#initialisation of variable\n",
      "from math import pi,sqrt,acos,asin,atan,cos,sin,tan\n",
      "h=1600.0#i.h.p\n",
      "h1=20000.0#lb\n",
      "h2=230.0#lb/in^2\n",
      "T1=293.3#Degree C\n",
      "x=25.91#in\n",
      "v=30.0#in\n",
      "T2=201#Degree C\n",
      "T=T1-T2#degree C\n",
      "x2=0.845#lb\n",
      "L2=566.51#lb\n",
      "s1=724#lb\n",
      "h3=1400#C.H.U/hr\n",
      "x=33000#ft^3\n",
      "\n",
      "#CALCULATIONS\n",
      "H=671.48#C.H.U/lb\n",
      "ea=x2*L2#C.H.U/lb\n",
      "W=H-ea#C.H.U/lb\n",
      "R=W/H*100#percent\n",
      "S=h2*s1#C.H.U\n",
      "I=((h*x*60)/(h3*h1*s1))*100#percent\n",
      "R1=I/R*100#pecent\n",
      "\n",
      "#RESULTS\n",
      "print\"The indicated thermal efficiency ratio is\",round(R1,3),\"%\""
     ],
     "language": "python",
     "metadata": {},
     "outputs": [
      {
       "output_type": "stream",
       "stream": "stdout",
       "text": [
        "The indicated thermal efficiency ratio is 54.433 %\n"
       ]
      }
     ],
     "prompt_number": 8
    },
    {
     "cell_type": "heading",
     "level": 2,
     "metadata": {},
     "source": [
      "Example 4.3 Page 49"
     ]
    },
    {
     "cell_type": "code",
     "collapsed": false,
     "input": [
      "#initialisation of variable\n",
      "from math import pi,sqrt,acos,asin,atan,cos,sin,tan\n",
      "h1=180#lb/in^2\n",
      "h2=3#lb/in^2\n",
      "r1=60#percent\n",
      "r2=90#percent\n",
      "p3=100#lb/in^2\n",
      "p4=10#lb/in^2\n",
      "v1=4.4#ft^3/lb\n",
      "v2=2*v1#ft^3\n",
      "p=44#lb/in^2\n",
      "x2=0.95#ft^3\n",
      "s1=165.9#lb\n",
      "s2=89.1#lb\n",
      "L1=493.4#lb\n",
      "H=(s1-s2)+L1#C.H.U/lb\n",
      "W=65.8#C.H.U/lb\n",
      "\n",
      "#CALCULATIONS\n",
      "R=W/H*100#percent\n",
      "\n",
      "#RESULTS\n",
      "print\"The rankine efficiency of the engine is\",round(R,3),\"%\""
     ],
     "language": "python",
     "metadata": {},
     "outputs": [
      {
       "output_type": "stream",
       "stream": "stdout",
       "text": [
        "The rankine efficiency of the engine is 11.54 %\n"
       ]
      }
     ],
     "prompt_number": 9
    },
    {
     "cell_type": "heading",
     "level": 2,
     "metadata": {},
     "source": [
      "Example 4.10 Page 52"
     ]
    },
    {
     "cell_type": "code",
     "collapsed": false,
     "input": [
      "#initialisation of variable\n",
      "from math import pi,sqrt,acos,asin,atan,cos,sin,tan\n",
      "p=85.0#lb/in^2\n",
      "h=210.0#i.p.m\n",
      "h1=8.0#in\n",
      "h2=2.5#in\n",
      "h3=20.0#in\n",
      "x=0.75#in\n",
      "p1=100.0#ln/in^2\n",
      "x1=33000.0#in\n",
      "p2=15.0#lb/in^2\n",
      "v2=pi/4*(h1/12)**2*(h3/12)#ft^3\n",
      "A=144*(29.08*1.6931-8.724)#ft/lb\n",
      "d=x*A#ft/lb\n",
      "v3=0.5816#ft^3\n",
      "P=d/(144*v3)#lb/in^2\n",
      "P1=pi/4*64#in^2\n",
      "r=25*pi/16#in^2\n",
      "\n",
      "#CALCULATIONS\n",
      "H=P*(h3/12)*P1*h/(x1)\n",
      "I=(P*(h3/12)*(P1-r)*h)/(x1)#I.h.P\n",
      "T=H+I#I.h.p\n",
      "\n",
      "#RESULTS\n",
      "print\"the h.p diameter of the piston and piston rod is\",round(T,3),\"I.h.p\""
     ],
     "language": "python",
     "metadata": {},
     "outputs": [
      {
       "output_type": "stream",
       "stream": "stdout",
       "text": [
        "the h.p diameter of the piston and piston rod is 52.982 I.h.p\n"
       ]
      }
     ],
     "prompt_number": 11
    },
    {
     "cell_type": "heading",
     "level": 2,
     "metadata": {},
     "source": [
      "Example 4.14 Page 55"
     ]
    },
    {
     "cell_type": "code",
     "collapsed": false,
     "input": [
      "#initialisation of variable\n",
      "from math import pi,sqrt,acos,asin,atan,cos,sin,tan\n",
      "a=1.025#in^2\n",
      "h=18.0#in\n",
      "h1=24.0#in\n",
      "x=8.2#percent\n",
      "v=15.0#in\n",
      "v2=6.9#ft^3\n",
      "p=0.74#lb/in^2\n",
      "p1=50.0#lb/in^2\n",
      "p2=83.0#lb/in^2\n",
      "P3=48.0#lb/in\n",
      "P1=29.8#lb/in^2\n",
      "P2=14.6#lb/in^2\n",
      "h2=29.8#in\n",
      "D=(pi/4)*(3.0/2.0)**2*2#ft^3\n",
      "v1=23400.0#ft.lb\n",
      "W=a*v1#ft.lb\n",
      "V=0.082*D#ft^3\n",
      "Q=1.530#ft^3\n",
      "\n",
      "#CALCULATIONS\n",
      "I=V+Q#ft^3\n",
      "P=P3+P2#lb/in^2\n",
      "V1=p*v2#ft^3\n",
      "W1=I/V1#lb\n",
      "S=p2+P2#l/in^2\n",
      "H=659.06#C.H.U/lb\n",
      "T=W/(H*W1*1400)*100#percent\n",
      "\n",
      "#RESULTS\n",
      "print\"The thermal efficiency of the engine is\",round(T,3),\"%\""
     ],
     "language": "python",
     "metadata": {},
     "outputs": [
      {
       "output_type": "stream",
       "stream": "stdout",
       "text": [
        "The thermal efficiency of the engine is 7.294 %\n"
       ]
      }
     ],
     "prompt_number": 14
    },
    {
     "cell_type": "heading",
     "level": 2,
     "metadata": {},
     "source": [
      "Example 4.16 Page 57"
     ]
    },
    {
     "cell_type": "code",
     "collapsed": false,
     "input": [
      "#initialisation of variable\n",
      "from math import pi,sqrt,acos,asin,atan,cos,sin,tan\n",
      "v=4.6#ft^3\n",
      "h=5.0#percent\n",
      "p=60.0#lb/in^2\n",
      "p1=0.8#ft^3\n",
      "p2=19.0#lb/in^2\n",
      "a=100.0#r.p.m\n",
      "h1=5920.0#lb\n",
      "W=h1/(2*a*p)#lb\n",
      "V=(0.25*v)#ft^3\n",
      "v1=21.07#ft^3\n",
      "w=V/v1#lb\n",
      "H=W+w#lb\n",
      "v2=H*7.17#ft^3\n",
      "P=w*v2#ft^3\n",
      "P1=0.675*v#ft^3\n",
      "\n",
      "#CALCULATIONS\n",
      "DP=P1/v2#ft^2\n",
      "\n",
      "#RESULTS\n",
      "print\"The assumptions do you make in working out the dryness of the steam is\",round(DP,3),\"ft^3\""
     ],
     "language": "python",
     "metadata": {},
     "outputs": [
      {
       "output_type": "stream",
       "stream": "stdout",
       "text": [
        "The assumptions do you make in working out the dryness of the steam is 0.79 ft^3\n"
       ]
      }
     ],
     "prompt_number": 16
    },
    {
     "cell_type": "heading",
     "level": 2,
     "metadata": {},
     "source": [
      "Example 4.17 Page 58"
     ]
    },
    {
     "cell_type": "code",
     "collapsed": false,
     "input": [
      "#initialisation of variable\n",
      "from math import pi,sqrt,acos,asin,atan,cos,sin,tan\n",
      "h=0.08#lb\n",
      "p=60#lb/in^2\n",
      "p1=0.50#lb/in^2\n",
      "v=0.5#ft^3\n",
      "v1=7.17#ft^3\n",
      "V=h*v1#ft^3\n",
      "\n",
      "#CALCULATIONS\n",
      "W=p1/v1#lb\n",
      "I=v/v1#lb\n",
      "M=h-I#lb\n",
      "\n",
      "#RESULTS\n",
      "print\"The dryness of the steam at this pressure and missing quantity is\",round(M,6),\"lb\""
     ],
     "language": "python",
     "metadata": {},
     "outputs": [
      {
       "output_type": "stream",
       "stream": "stdout",
       "text": [
        "The dryness of the steam at this pressure and missing quantity is 0.010265 lb\n"
       ]
      }
     ],
     "prompt_number": 18
    },
    {
     "cell_type": "heading",
     "level": 2,
     "metadata": {},
     "source": [
      "Example 4.19 Page 59"
     ]
    },
    {
     "cell_type": "code",
     "collapsed": false,
     "input": [
      "#initialisation of variable\n",
      "from math import pi,sqrt,acos,asin,atan,cos,sin,tan\n",
      "p1=120#lb/in^2\n",
      "p2=15#lb/in^2\n",
      "\n",
      "#CALCULATIONS\n",
      "v=1.65#lb\n",
      "D=sqrt(v)#lb\n",
      "\n",
      "#RESULTS\n",
      "print\"The above pressure are by gauge is\",round(D,3),\"lb\""
     ],
     "language": "python",
     "metadata": {},
     "outputs": [
      {
       "output_type": "stream",
       "stream": "stdout",
       "text": [
        "The above pressure are by gauge is 1.285 lb\n"
       ]
      }
     ],
     "prompt_number": 19
    },
    {
     "cell_type": "heading",
     "level": 2,
     "metadata": {},
     "source": [
      "Example 4.21 Page 61"
     ]
    },
    {
     "cell_type": "code",
     "collapsed": false,
     "input": [
      "#initialisation of variable\n",
      "from math import pi,sqrt,acos,asin,atan,cos,sin,tan\n",
      "p=150.0#lb/in^2\n",
      "x=198.0#r.p.m\n",
      "x1=33000.0#lb\n",
      "h=2700.0#lb\n",
      "h1=1400.0#lb\n",
      "h2=51600.0#lb\n",
      "r=165.0#C.H.U/lb\n",
      "s=60.0#lb\n",
      "t=48.0#Degree C\n",
      "t1=11.0#degree C\n",
      "t2=36.0#Degree C\n",
      "P1=(40*75*t2*x)/(12*x1)#lb\n",
      "P2=(38*70*t2*x)/(12*x1)#lb\n",
      "L1=(t1*300*t2*x)/(12*x1)#lb\n",
      "L2=(12*295*t2*x)/(12*x1)#lb\n",
      "T=P1*P2*L1*L2#lb\n",
      "H=5294#C.H.U/min\n",
      "T1=h/s#lb/min\n",
      "H1=T1*663#lb/min\n",
      "H2=(h2/s*(36-11)+(h/s)*(t))#C.H.U\n",
      "H3=(h/60)*t#C.H.U\n",
      "\n",
      "#CALCULATIONS\n",
      "TE=H/H1-H3*100#percent\n",
      "R=r/(663-t)*100#percent\n",
      "\n",
      "#RESULTS\n",
      "print\"The rankine efficiency is\",round(R,3),\"%\""
     ],
     "language": "python",
     "metadata": {},
     "outputs": [
      {
       "output_type": "stream",
       "stream": "stdout",
       "text": [
        "The rankine efficiency is 26.829 %\n"
       ]
      }
     ],
     "prompt_number": 21
    },
    {
     "cell_type": "heading",
     "level": 2,
     "metadata": {},
     "source": [
      "Example 4.23 Page 64"
     ]
    },
    {
     "cell_type": "code",
     "collapsed": false,
     "input": [
      "#initialisation of variable\n",
      "from math import pi,sqrt,acos,asin,atan,cos,sin,tan\n",
      "p1=100#ln/in^2\n",
      "p2=2.5#lb/in^2\n",
      "p3=20#lb/in^2\n",
      "d=0.75#lb\n",
      "p=0.5#lb\n",
      "r=16#in\n",
      "p4=p1/r#lb/in^2\n",
      "P5=50#lb/in^2\n",
      "W1=13960#ft/lb\n",
      "W2=19040#ft/lb\n",
      "T=33000#ft/lb\n",
      "v=4.43#ft^3\n",
      "v1=v*d#ft^3\n",
      "W3=T*v1#ft/lb\n",
      "Hp=3416#ft/lb\n",
      "Lp=3416#ft/lb\n",
      "\n",
      "#CALCULATIONS\n",
      "W=Lp*v1#ft lb\n",
      "\n",
      "#RESULTS\n",
      "print\"The thermal efficiency of a compound steam and work done is\",round(W,3),\"ft lb\""
     ],
     "language": "python",
     "metadata": {},
     "outputs": [
      {
       "output_type": "stream",
       "stream": "stdout",
       "text": [
        "The thermal efficiency of a compound steam and work done is 11349.66 ft lb\n"
       ]
      }
     ],
     "prompt_number": 22
    }
   ],
   "metadata": {}
  }
 ]
}