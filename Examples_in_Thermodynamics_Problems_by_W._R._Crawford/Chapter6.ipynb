{
 "metadata": {
  "name": "",
  "signature": "sha256:d4d40e7a0bce77d845a19fb5891f8dca6717a9164c9a3127715de6d72e594b43"
 },
 "nbformat": 3,
 "nbformat_minor": 0,
 "worksheets": [
  {
   "cells": [
    {
     "cell_type": "heading",
     "level": 1,
     "metadata": {},
     "source": [
      "CHAPTER 6: FLOW THROUGH NOZZLES-STEAM TURBINES"
     ]
    },
    {
     "cell_type": "heading",
     "level": 2,
     "metadata": {},
     "source": [
      "Example 6.1 Page 87"
     ]
    },
    {
     "cell_type": "code",
     "collapsed": false,
     "input": [
      "#initialisation of variable\n",
      "from math import pi,sqrt,acos,asin,atan,cos,sin,tan\n",
      "p1=150#lb/in^2\n",
      "p2=10#lb/in^2\n",
      "n=10#percent\n",
      "T=183.6+479.4#C.H.U\n",
      "x2=0.852#C.H.U\n",
      "H=553.9#C.H.U/lb\n",
      "h1=T-H#C.H.U/lb\n",
      "\n",
      "#CALCULATIONS\n",
      "V=sqrt(2*32.2*1400*h1)#ft/sec\n",
      "V1=sqrt(2*32.2*1400*0.9*h1)#ft/sec\n",
      "\n",
      "#RESULTS\n",
      "print\"the neglecting friction is\",round(V,3),\"ft/sec\"\n",
      "print\"the frictional drop in the nozzle is 10 recent of the total heat drop is\",round(V1,3),\"ft/sec\""
     ],
     "language": "python",
     "metadata": {},
     "outputs": [
      {
       "output_type": "stream",
       "stream": "stdout",
       "text": [
        "the neglecting friction is 3136.312 ft/sec\n",
        "the frictional drop in the nozzle is 10 recent of the total heat drop is 2975.367 ft/sec\n"
       ]
      }
     ],
     "prompt_number": 23
    },
    {
     "cell_type": "heading",
     "level": 2,
     "metadata": {},
     "source": [
      "Example 6.2 Page 88"
     ]
    },
    {
     "cell_type": "code",
     "collapsed": false,
     "input": [
      "#initialisation of variable\n",
      "from math import pi,sqrt,acos,asin,atan,cos,sin,tan\n",
      "v=((3140*pi*60*60)/(4*4*144))#ft/sec\n",
      "v1=0.852*38.37#ft^3\n",
      "\n",
      "#CALCULATIONS\n",
      "W=(v/v1)#lb\n",
      "V=(2970*pi*60*60)/(4*4*144)#ft^3\n",
      "W1=(V/v1)#lb\n",
      "\n",
      "#RESULTS\n",
      "print\"the weight of steam per hour is\",round(W,3),\"lb\"\n",
      "print\"the weight of steam per hour is\",round(W1,3),\"lb\""
     ],
     "language": "python",
     "metadata": {},
     "outputs": [
      {
       "output_type": "stream",
       "stream": "stdout",
       "text": [
        "the weight of steam per hour is 471.485 lb\n",
        "the weight of steam per hour is 445.959 lb\n"
       ]
      }
     ],
     "prompt_number": 24
    },
    {
     "cell_type": "heading",
     "level": 2,
     "metadata": {},
     "source": [
      "Example 6.4 Page 89"
     ]
    },
    {
     "cell_type": "code",
     "collapsed": false,
     "input": [
      "#initialisation of variable\n",
      "from math import pi,sqrt,acos,asin,atan,cos,sin,tan\n",
      "p1=300#lb\n",
      "p=75#lb/in^2\n",
      "p2=8#lb/in^2\n",
      "h=90#C.H.U/lb\n",
      "Pt=0.58*p#lb/in^2 absolute\n",
      "h1=24#lb/C.H.U\n",
      "D=0.968#C.H.U\n",
      "D1=0.886#C.H.U\n",
      "v=9.7#ft^3\n",
      "v1=47.24#ft^3\n",
      "V=sqrt(2*32.2*1400*24)#ft/sec\n",
      "V1=sqrt(2*32.2*1400*90)#ft/sec\n",
      "\n",
      "#CALCULATIONS\n",
      "H=(p1*v*D/3600)#ft^3\n",
      "V2=(p1*v1*D1/3600)#ft^3\n",
      "A=0.768#in^2\n",
      "A1=1.72#in^2\n",
      "d=sqrt(4*0.768/pi)#in\n",
      "d1=sqrt((4*A1)/(pi))#in\n",
      "\n",
      "#RESULTS\n",
      "print\"the diameters at the throat and exit of the nozzle is\",round(d1,3),\"in\""
     ],
     "language": "python",
     "metadata": {},
     "outputs": [
      {
       "output_type": "stream",
       "stream": "stdout",
       "text": [
        "the diameters at the throat and exit of the nozzle is 1.48 in\n"
       ]
      }
     ],
     "prompt_number": 25
    },
    {
     "cell_type": "heading",
     "level": 2,
     "metadata": {},
     "source": [
      "Example 6.5 Page 90"
     ]
    },
    {
     "cell_type": "code",
     "collapsed": false,
     "input": [
      "#initialisation of variable\n",
      "from math import pi,sqrt,acos,asin,atan,cos,sin,tan\n",
      "d=2.15#in^2\n",
      "a=0.98#dry\n",
      "p=100#lb/in^2\n",
      "p1=11000#lb\n",
      "P=0.58*p#lb/in^2\n",
      "H=24#C.H.U/lb\n",
      "D=0.947#lb\n",
      "s=7.407#ft^3\n",
      "\n",
      "#CALCULATION\n",
      "V=sqrt(2*32.2*1400*H)#ft/sec\n",
      "V1=V*(d/144)#ft^3\n",
      "T=V1/(s*D)#lb\n",
      "A=(p1/3600)#lb\n",
      "C=A/T#lb\n",
      "\n",
      "#RESULTS\n",
      "print\"the coefficient of discharge for the nozzles is\",round(C,3),\"lb\""
     ],
     "language": "python",
     "metadata": {},
     "outputs": [
      {
       "output_type": "stream",
       "stream": "stdout",
       "text": [
        "the coefficient of discharge for the nozzles is 0.958 lb\n"
       ]
      }
     ],
     "prompt_number": 26
    },
    {
     "cell_type": "heading",
     "level": 2,
     "metadata": {},
     "source": [
      "Example 6.6 Page 91"
     ]
    },
    {
     "cell_type": "code",
     "collapsed": false,
     "input": [
      "#initialisation of variable\n",
      "from math import pi,sqrt,acos,asin,atan,cos,sin,tan\n",
      "p=9.5#lb\n",
      "p1=120.0#lb\n",
      "e=0.88#in\n",
      "p2=80.0#lb/in^2\n",
      "d=25.0#in\n",
      "d1=0.125#in\n",
      "t=14.0#degree C\n",
      "T=e*19.0#C.H.U/lb\n",
      "D=0.975#in\n",
      "V=sqrt(2.0*32.2*1400.0*T)#ft/sec\n",
      "S=5.467#ft^3\n",
      "\n",
      "#CALCULATIONS\n",
      "V1=p*S*D#ft^3\n",
      "T1=(V1*144.0/V)#in ^2\n",
      "C=25.0*pi#in\n",
      "N=C/2.5#in\n",
      "P=C/31.0#in\n",
      "W=d1/sin(t*pi/180)#in\n",
      "L=P-W#in\n",
      "W1=L*sin(t*pi/180)#in\n",
      "T2=(T1)/(31*W1)#in\n",
      "\n",
      "#RESULTS\n",
      "print\"The height of nozzle is\",round(T2,3),\"in\""
     ],
     "language": "python",
     "metadata": {},
     "outputs": [
      {
       "output_type": "stream",
       "stream": "stdout",
       "text": [
        "The height of nozzle is 0.393 in\n"
       ]
      }
     ],
     "prompt_number": 44
    },
    {
     "cell_type": "heading",
     "level": 2,
     "metadata": {},
     "source": [
      "Example 6.8 Page 94"
     ]
    },
    {
     "cell_type": "code",
     "collapsed": false,
     "input": [
      "#initialisation of variable\n",
      "from math import pi,sqrt,acos,asin,atan,cos,sin,tan\n",
      "p1=100#lb/in^2\n",
      "p2=15#lb/in^2\n",
      "d1=95#percent\n",
      "d2=30#percent\n",
      "P=0.58*p1#lb/in^2\n",
      "H=0.95*25#C.H.U/lb\n",
      "H1=0.95*76.5#C.H.U/lb\n",
      "D=0.97#in\n",
      "D1=0.905#in\n",
      "V=7.407#ft^3\n",
      "V1=sqrt(2*32.2*1400*H)#ft/sec\n",
      "V2=sqrt(2*32.2*1400*H1)#ft/sec\n",
      "\n",
      "#CALCULATIONS\n",
      "V3=(2*pi*1*V1)/(64*4*144)#ft^3\n",
      "W=(V3*3600)/(V*D)#lb\n",
      "K=V2/(2*32.2)#ft lb sec\n",
      "E=(((V2)**2*W)/(2*32.2*3600))#ft.lb\n",
      "W1=(E*d2)/(p1*550)#ft.lb\n",
      "\n",
      "#RESULTS\n",
      "print\"the quantity of steam used per hour and horse power developed is\",round(W1,3),\"ft lb\""
     ],
     "language": "python",
     "metadata": {},
     "outputs": [
      {
       "output_type": "stream",
       "stream": "stdout",
       "text": [
        "the quantity of steam used per hour and horse power developed is 1.927 ft lb\n"
       ]
      }
     ],
     "prompt_number": 45
    },
    {
     "cell_type": "heading",
     "level": 2,
     "metadata": {},
     "source": [
      "Example 6.10 Page 95"
     ]
    },
    {
     "cell_type": "code",
     "collapsed": false,
     "input": [
      "#initialisation of variable\n",
      "from math import pi,sqrt,acos,asin,atan,cos,sin,tan\n",
      "d=0.15#lb\n",
      "p=20#lb/in^2\n",
      "p1=100#lb/iN62\n",
      "t=200#degree C\n",
      "f=10#percent\n",
      "Pt=0.5457*p1#lb/in^2\n",
      "x1=0.996#in\n",
      "x2=0.952#in\n",
      "h=29#C.H.U/lb\n",
      "h1=65#C.H.U/lb\n",
      "v=7.73#ft^3\n",
      "v1=20.12#ft^3\n",
      "T=0.364#in\n",
      "T1=0.465#in\n",
      "v2=sqrt(2*32.2*1400*h)#ft/sec\n",
      "v3=sqrt(2*32.2*1400*h1)#ft/sec\n",
      "\n",
      "#CALCULATIONS\n",
      "V1=d*v*x1#ft^3\n",
      "V2=d*v1*x2#ft^3\n",
      "A1=(V1/v2)*144#in^2\n",
      "A2=(V2/v3)*144#in^2\n",
      "\n",
      "#RESULTS\n",
      "print\"the throat area of the nozzle is\",round(A1,3),\"and exit area is\",round(A2,3),\"in^2\""
     ],
     "language": "python",
     "metadata": {},
     "outputs": [
      {
       "output_type": "stream",
       "stream": "stdout",
       "text": [
        "the throat area of the nozzle is 0.103 and exit area is 0.171 in^2\n"
       ]
      }
     ],
     "prompt_number": 51
    },
    {
     "cell_type": "heading",
     "level": 2,
     "metadata": {},
     "source": [
      "Example 6.11 Page 96"
     ]
    },
    {
     "cell_type": "code",
     "collapsed": false,
     "input": [
      "#initialisation of variable\n",
      "from math import pi,sqrt,acos,asin,atan,cos,sin,tan\n",
      "h=0.5#lb\n",
      "p1=2.5#lb/in^2\n",
      "p2=100#lb/in^2\n",
      "t=250#Degree C\n",
      "pv=1.3#constant\n",
      "pt=0.5457*p2#lb/in^2\n",
      "t1=18#degree C\n",
      "h1=32#C.H.U/lb\n",
      "h2=151#C.H.U/lb\n",
      "D=0.887#in\n",
      "V1=sqrt(2*32.2*1400*h1)#ft/sec\n",
      "V2=sqrt(2*32.2*1400*h2)#ft.sec\n",
      "s1=8.74#ft^3\n",
      "s2=140.8#ft^3\n",
      "T1=0.687#in\n",
      "T1=1.77#in\n",
      "V3=h*s1#ft^3/sec\n",
      "V4=h*s2#ft^3/sec\n",
      "\n",
      "#CALCULATIONS\n",
      "A1=(V3/V1)*144#in^2\n",
      "A2=(V4/V2)*144#in^2\n",
      "\n",
      "#RESULTS\n",
      "print\"the size os nozzle is\",round(A2,3),\"in^2\""
     ],
     "language": "python",
     "metadata": {},
     "outputs": [
      {
       "output_type": "stream",
       "stream": "stdout",
       "text": [
        "the size os nozzle is 2.748 in^2\n"
       ]
      }
     ],
     "prompt_number": 52
    },
    {
     "cell_type": "heading",
     "level": 2,
     "metadata": {},
     "source": [
      "Example 6.13 Page 97"
     ]
    },
    {
     "cell_type": "code",
     "collapsed": false,
     "input": [
      "#initialisation of variable\n",
      "from math import pi,sqrt,acos,asin,atan,cos,sin,tan\n",
      "h=500.0#gallons\n",
      "p1=150.0#lb/in^2\n",
      "p2=0.6#lb/in^2\n",
      "P=p2*p1#lb/in^2\n",
      "h=25.0#C.H.U/lb\n",
      "p=62.4#lb/ft^2\n",
      "V=sqrt(2.0*32.2*1400.0*h)#ft/sec\n",
      "D=0.996#in^2\n",
      "d=4.898#in^2\n",
      "v1=1.2#in\n",
      "vi=163.2#ft/sec\n",
      "m=V/32.2#ft.lb.sec\n",
      "\n",
      "#CALCULATIONS\n",
      "W=V/vi-1#lb\n",
      "W1=(5000.0)/(3600.0*W)#ft/sec\n",
      "V1=W1*d*D#ft^3\n",
      "A=V1/V*144.0#in^2\n",
      "I=(50.0/36.0+W1)#lb/sec\n",
      "A1=(I*144.0)/(62.4*vi)#in^2\n",
      "\n",
      "#RESULTS\n",
      "print\"the aera of the stream and water orifices is\",round(A1,3),\"in^2\""
     ],
     "language": "python",
     "metadata": {},
     "outputs": [
      {
       "output_type": "stream",
       "stream": "stdout",
       "text": [
        "the aera of the stream and water orifices is 0.022 in^2\n"
       ]
      }
     ],
     "prompt_number": 54
    },
    {
     "cell_type": "heading",
     "level": 2,
     "metadata": {},
     "source": [
      "Example 6.15 Page 100"
     ]
    },
    {
     "cell_type": "code",
     "collapsed": false,
     "input": [
      "#initialisation of variable\n",
      "from math import pi,sqrt,acos,asin,atan,cos,sin,tan\n",
      "a=50#degree c\n",
      "v=2000#ft/sec\n",
      "p=800#ft/sec\n",
      "b=20#Degree C\n",
      "v1=0.9#in^2\n",
      "v2=513#ft/sec\n",
      "W=(1/32.2)*(1810-(-313))*p#ft/lb lb stream /sec\n",
      "K=(v**2)/(2*32.2)#ft/lb sec\n",
      "\n",
      "#CALCULATIONS\n",
      "D=(W/K)*100#percent/lb\n",
      "\n",
      "#RESULTS\n",
      "print\"the work done per lb is\",round(D,3),\"%/lb\""
     ],
     "language": "python",
     "metadata": {},
     "outputs": [
      {
       "output_type": "stream",
       "stream": "stdout",
       "text": [
        "the work done per lb is 84.92 %/lb\n"
       ]
      }
     ],
     "prompt_number": 56
    },
    {
     "cell_type": "heading",
     "level": 2,
     "metadata": {},
     "source": [
      "Example 6.16 Page 102"
     ]
    },
    {
     "cell_type": "code",
     "collapsed": false,
     "input": [
      "#initialisation of variable\n",
      "from math import pi,sqrt,acos,asin,atan,cos,sin,tan\n",
      "t=65#B.Th.U per lb\n",
      "n=0.98#dry\n",
      "p=105#lb/in^2\n",
      "a=14#Degree C\n",
      "b=20#Degree C\n",
      "p1=800#ft/sec\n",
      "v=0.80#ft/lb\n",
      "p2=3.5#lb/sec\n",
      "q=1400#in\n",
      "V=sqrt(2*32.2*778*t)#ft/sec\n",
      "W=(p1)*(1750-b)/32.2#ft lb/lb stream/sec\n",
      "H=(W*p2/550)#ft/lb\n",
      "E=1/64.4*((1053)**2-(825)**2)#ft.lb steam /sec\n",
      "\n",
      "#CALCULATIONS\n",
      "Hd=(E/q)#C.H.U\n",
      "\n",
      "#RESULTS\n",
      "print\"the steam as it leaves the blades and horse power is\",round(Hd,3),\"C.H.U\""
     ],
     "language": "python",
     "metadata": {},
     "outputs": [
      {
       "output_type": "stream",
       "stream": "stdout",
       "text": [
        "the steam as it leaves the blades and horse power is 4.749 C.H.U\n"
       ]
      }
     ],
     "prompt_number": 57
    },
    {
     "cell_type": "heading",
     "level": 2,
     "metadata": {},
     "source": [
      "Example 6.18 Page 103"
     ]
    },
    {
     "cell_type": "code",
     "collapsed": false,
     "input": [
      "#initialisation of variable\n",
      "from math import pi,sqrt,acos,asin,atan,cos,sin,tan\n",
      "p=300#ft/sec\n",
      "W=880#ft/sec\n",
      "a=18#degree C\n",
      "g=32.2#ft\n",
      "\n",
      "#CALCULATIONS\n",
      "Wd=(p*W)/g#ft lb\n",
      "\n",
      "#RESULTS\n",
      "print\"the work done /lb steam sec is\",round(Wd,3),\"ft lb\""
     ],
     "language": "python",
     "metadata": {},
     "outputs": [
      {
       "output_type": "stream",
       "stream": "stdout",
       "text": [
        "the work done /lb steam sec is 8198.758 ft lb\n"
       ]
      }
     ],
     "prompt_number": 58
    },
    {
     "cell_type": "heading",
     "level": 2,
     "metadata": {},
     "source": [
      "Example 6.19 Page 104"
     ]
    },
    {
     "cell_type": "code",
     "collapsed": false,
     "input": [
      "#initialisation of variable\n",
      "from math import pi,sqrt,acos,asin,atan,cos,sin,tan\n",
      "a=35.0#Degree C\n",
      "b=20.0#degree C\n",
      "f=2.0#ft\n",
      "w=422.0#ft\n",
      "w1=222.0#ft\n",
      "g=32.2#ft\n",
      "s=1500.0#r p m\n",
      "j=0.8#ft\n",
      "p=3.0#lb/sec\n",
      "h=80.0#percent\n",
      "i=1400.0#ft\n",
      "P=(pi*(31.0/12.0)*(s/60))#ft/sec\n",
      "W=P/g*(w-(-w1))#ft lb\n",
      "H=(p*W)/550#ft lb\n",
      "\n",
      "#CALCULATIONS\n",
      "E=W/(j*i)#C.H.U\n",
      "\n",
      "#RESULTS\n",
      "print\"the house -power developed per pair of rings if the steam is\",round(E,3),\"ft lb\""
     ],
     "language": "python",
     "metadata": {},
     "outputs": [
      {
       "output_type": "stream",
       "stream": "stdout",
       "text": [
        "the house -power developed per pair of rings if the steam is 3.623 ft lb\n"
       ]
      }
     ],
     "prompt_number": 61
    },
    {
     "cell_type": "heading",
     "level": 2,
     "metadata": {},
     "source": [
      "Example 6.23 Page 106"
     ]
    },
    {
     "cell_type": "code",
     "collapsed": false,
     "input": [
      "#initialisation of variable\n",
      "from math import pi,sqrt,acos,asin,atan,cos,sin,tan\n",
      "d=73#ft\n",
      "h=2#in\n",
      "s=750#r p m\n",
      "s1=31.3#lb/sec\n",
      "h1=1.5#in\n",
      "a=25#Degree c\n",
      "p=5.7#lb/in^2\n",
      "d1=0.97#in\n",
      "h2=370#ft/sec\n",
      "j=32.2#in\n",
      "k=1400#in\n",
      "e=0.75#percent\n",
      "w=326#in\n",
      "p=290#in\n",
      "vi=155#ft/sec\n",
      "\n",
      "#CALCULATIONS\n",
      "P=(pi*7.69*s)/(60)#ft/sec\n",
      "H=(P*h2*s1)/(550*j)#ft/sec\n",
      "E=(P*h2)/(j*e*k)#C.H.U/lb\n",
      "\n",
      "#RESULTS\n",
      "print\"the drop in pressure while the steam is passing through the turbine is\",round(E,3),\"C.H.U/lb\""
     ],
     "language": "python",
     "metadata": {},
     "outputs": [
      {
       "output_type": "stream",
       "stream": "stdout",
       "text": [
        "the drop in pressure while the steam is passing through the turbine is 3.305 C.H.U/lb\n"
       ]
      }
     ],
     "prompt_number": 63
    },
    {
     "cell_type": "heading",
     "level": 2,
     "metadata": {},
     "source": [
      "Example 6.25 Page 108"
     ]
    },
    {
     "cell_type": "code",
     "collapsed": false,
     "input": [
      "#initialisation of variable\n",
      "from math import pi,sqrt,acos,asin,atan,cos,sin,tan\n",
      "p=300#lb/in^2\n",
      "ab=100#degree C\n",
      "w=26.4#C\n",
      "t=40#lb/in^2\n",
      "t1=180#Degree C\n",
      "p1=0.5#lb/in^2\n",
      "T=732.38#C.H.U\n",
      "W=26.2#C.H.U/lb\n",
      "W1=102#C.H.U/lb\n",
      "x=0.963#in\n",
      "d=335#C.H.U/lb\n",
      "E=743.85#C.H.U/lb\n",
      "\n",
      "#CALCULATIONS\n",
      "H=T-w#C.H.U/lb\n",
      "h=T-W1#C.H.U/lb\n",
      "H1=E-h#C.H.U/lb\n",
      "T1=H+H1#C.H.U/lb\n",
      "Wd=W1+d#C.H.U\n",
      "\n",
      "#RESULTS\n",
      "print\"The total work done per lb steam is\",round(Wd,3),\"C.H.U\""
     ],
     "language": "python",
     "metadata": {},
     "outputs": [
      {
       "output_type": "stream",
       "stream": "stdout",
       "text": [
        "The total work done per lb steam is 437.0 C.H.U\n"
       ]
      }
     ],
     "prompt_number": 64
    },
    {
     "cell_type": "heading",
     "level": 2,
     "metadata": {},
     "source": [
      "Example 6.28 Page 110"
     ]
    },
    {
     "cell_type": "code",
     "collapsed": false,
     "input": [
      "#initialisation of variable\n",
      "from math import pi,sqrt,acos,asin,atan,cos,sin,tan\n",
      "p=100#lb/in62\n",
      "p1=0.5#lb/in^2\n",
      "T1=659.3#C.H.U/lb\n",
      "T2=26.2#C H U/lb\n",
      "W=181#C H U/lb\n",
      "H1=66#C H U/lb\n",
      "H2=115#C H U /lb\n",
      "D=0.912#C H U/lb\n",
      "H3=533.4#C H U/lb\n",
      "T3=108.5 #Degree C\n",
      "T4=26.4#Degree C\n",
      "W1=82.1/(D*H3)#lb\n",
      "s=1-W1#lb\n",
      "\n",
      "#CALCULATIONS\n",
      "T=W/(T1-T2)*100#percent\n",
      "Wd=H1+(H2*s)#C H U/lb\n",
      "H=T1-T3#C H U//lb\n",
      "TE=Wd/H*100#percent\n",
      "\n",
      "#RESULTS\n",
      "print\"the without bleeding is\",round(T,3),\"%\"\n",
      "print\"the proper weight of steam is bled is\",round(TE,3),\"%\""
     ],
     "language": "python",
     "metadata": {},
     "outputs": [
      {
       "output_type": "stream",
       "stream": "stdout",
       "text": [
        "the without bleeding is 28.589 %\n",
        "the proper weight of steam is bled is 29.338 %\n"
       ]
      }
     ],
     "prompt_number": 66
    }
   ],
   "metadata": {}
  }
 ]
}