{
 "metadata": {
  "name": "",
  "signature": "sha256:a9b498c87a8bc557e26090cded88daaf4b9544d15a7aef988c258f78451cb8ae"
 },
 "nbformat": 3,
 "nbformat_minor": 0,
 "worksheets": [
  {
   "cells": [
    {
     "cell_type": "heading",
     "level": 1,
     "metadata": {},
     "source": [
      "CHAPTER 3: PROPERTIES OF STEAM"
     ]
    },
    {
     "cell_type": "heading",
     "level": 2,
     "metadata": {},
     "source": [
      "Example 3.1 Page 30"
     ]
    },
    {
     "cell_type": "code",
     "collapsed": false,
     "input": [
      "#initialisation of variable\n",
      "from math import pi,sqrt,acos,asin,atan,cos,sin,tan,log\n",
      "p=100#lb/in^2\n",
      "x=0.8#lb\n",
      "t1=164#degree C\n",
      "t2=4.45 #ft^3\n",
      "p1=0.016#ft^3\n",
      "h1=493.4#C.H.U/lb\n",
      "h2=165.9#C.H.U/lb\n",
      "S=h2+h1#C.H.U/lb\n",
      "w=(144*p)/1400*(t2-p1)#C.H.U/lb\n",
      "H=h2+(x*h1)#C.H.U//lb\n",
      "w1=(x*144*p)/1400*(t2-p1)#C.H.U\n",
      "\n",
      "#CALCULATIONS\n",
      "E=S-w#C.H.U/lb\n",
      "IE=H-w1#C.H.U/lb\n",
      "\n",
      "#RESULTS\n",
      "print\"The steam is total heat dry and satured is\",round(E,3),\"C.H.U/lb\"\n",
      "print\"Total heat of wet steam\",round(IE,3),\"C.H.U/lb\""
     ],
     "language": "python",
     "metadata": {},
     "outputs": [
      {
       "output_type": "stream",
       "stream": "stdout",
       "text": [
        "The steam is total heat dry and satured is 614.96 C.H.U/lb\n",
        "Total heat of wet steam 524.135 C.H.U/lb\n"
       ]
      }
     ],
     "prompt_number": 2
    },
    {
     "cell_type": "heading",
     "level": 2,
     "metadata": {},
     "source": [
      "Example 3.2 Page 31"
     ]
    },
    {
     "cell_type": "code",
     "collapsed": false,
     "input": [
      "#initialisation of variable\n",
      "from math import pi,sqrt,acos,asin,atan,cos,sin,tan,log\n",
      "t1=35#degree C\n",
      "p=100#lb/in^2\n",
      "L=435#C.H.U\n",
      "L2=539.3#C.H.U\n",
      "h1=165.9#H.C.U/lb\n",
      "h2=493.4#C.H.U/lb\n",
      "S=(h1-t1)#C.H.U\n",
      "h3=304.1#C.H.U\n",
      "h4=335#C.H.U/lb\n",
      "\n",
      "#CALCULATIONS\n",
      "X1=h3/h2#C.H.U/lb\n",
      "X2=h4/L2#C.H.U/lb\n",
      "\n",
      "#RESULTS\n",
      "print\"The heat giving to the water and steam is\",round(X2,3),\"C.H.U/lb\""
     ],
     "language": "python",
     "metadata": {},
     "outputs": [
      {
       "output_type": "stream",
       "stream": "stdout",
       "text": [
        "The heat giving to the water and steam is 0.621 C.H.U/lb\n"
       ]
      }
     ],
     "prompt_number": 3
    },
    {
     "cell_type": "heading",
     "level": 2,
     "metadata": {},
     "source": [
      "Example 3.3 Page 32"
     ]
    },
    {
     "cell_type": "code",
     "collapsed": false,
     "input": [
      "#initialisation of variable\n",
      "from math import pi,sqrt,acos,asin,atan,cos,sin,tan,log\n",
      "p=35#lb/in^2\n",
      "w=1425#lb\n",
      "q=1474#lb\n",
      "s1=126.7#C.H.U/lb\n",
      "s2=28#C.H.U/lb\n",
      "t1=5#degree C\n",
      "t2=28#degree C\n",
      "L1=521.4#C.H.U/lb\n",
      "w1=245#lb\n",
      "w2=0.2#lb\n",
      "\n",
      "#CALCULATIONS\n",
      "W=(s1-s2)+L1#C.H.U/lb\n",
      "H=q*(t2-t1)#C.H.U/lb\n",
      "T=H/W#lb\n",
      "\n",
      "#RESULTS\n",
      "print\"The total equivalent is\",round(T,3),\"lb\""
     ],
     "language": "python",
     "metadata": {},
     "outputs": [
      {
       "output_type": "stream",
       "stream": "stdout",
       "text": [
        "The total equivalent is 54.672 lb\n"
       ]
      }
     ],
     "prompt_number": 4
    },
    {
     "cell_type": "heading",
     "level": 2,
     "metadata": {},
     "source": [
      "Example 3.4 Page 33"
     ]
    },
    {
     "cell_type": "code",
     "collapsed": false,
     "input": [
      "#initialisation of variable\n",
      "from math import pi,sqrt,acos,asin,atan,cos,sin,tan,log\n",
      "p=100#lb/in^2\n",
      "w=2400#lb\n",
      "t1=15#degree C\n",
      "s1=165.9#C.H.U/lb\n",
      "x=0.9#lb\n",
      "L2=493.4#C.H.U/lb\n",
      "t2=65#degree\n",
      "x4=0.8#lb\n",
      "s3=64.8#C.H.U/lb\n",
      "w1=2000#lb\n",
      "w2=2400#lb\n",
      "b1=12400#lb\n",
      "b2=22000#lb\n",
      "p1=4400#lb\n",
      "n=421.65#lb\n",
      "h1=w2*[s1+(x*L2)]#C.H.U/hr\n",
      "h2=w1*[s1+(x4+L2)]#C.H.U/hr\n",
      "\n",
      "#CALCULATIONS\n",
      "T=w*[(s1-t1)+(x*L2)]#C.H.U/hr\n",
      "T1=w1*[(s1-s3)+(x4*L2)]#C.H.U/hr\n",
      "H=T+T1#C.H.U/hr\n",
      "X=n/L2#C.H.U/lb\n",
      "\n",
      "#RESULTS\n",
      "print\"The thermal capacity of the pipe is\",round(X,3),\"C.H.u/hr\""
     ],
     "language": "python",
     "metadata": {},
     "outputs": [
      {
       "output_type": "stream",
       "stream": "stdout",
       "text": [
        "The thermal capacity of the pipe is 0.855 C.H.u/hr\n"
       ]
      }
     ],
     "prompt_number": 5
    },
    {
     "cell_type": "heading",
     "level": 2,
     "metadata": {},
     "source": [
      "Example 3.5 Page 35"
     ]
    },
    {
     "cell_type": "code",
     "collapsed": false,
     "input": [
      "#initialisation of variable\n",
      "from math import pi,sqrt,acos,asin,atan,cos,sin,tan,log\n",
      "w1=4.5#lb\n",
      "s1=45.5#lb\n",
      "p1=165#lb/in^2\n",
      "T=140#Degree C\n",
      "h1=30#in\n",
      "h2=4#in\n",
      "p2=0.49#ln/in^2\n",
      "T1=(w1+s1)#lb\n",
      "T2=103.5#Degree C\n",
      "T3=140#Degree\n",
      "h3=0.48#in\n",
      "x=0.988#berfore throttling\n",
      "T=[103.12+537.1+h3*(T3-T2)]#C.H.U/lb\n",
      "x1=0.012#lb of water\n",
      "X=s1*x1#lb water\n",
      "w=50#lb of steam\n",
      "\n",
      "#CALCULATIONS\n",
      "P=h2+h1#in of mercury\n",
      "P1=s1*x1#lb/in^2\n",
      "T4=w1+P1#lb\n",
      "D=(w-T4)/w#lb\n",
      "\n",
      "#RESULTS\n",
      "print\"The dryness of steam with a combined is\",round(D,3),\"lb\""
     ],
     "language": "python",
     "metadata": {},
     "outputs": [
      {
       "output_type": "stream",
       "stream": "stdout",
       "text": [
        "The dryness of steam with a combined is 0.899 lb\n"
       ]
      }
     ],
     "prompt_number": 6
    },
    {
     "cell_type": "heading",
     "level": 2,
     "metadata": {},
     "source": [
      "Example 3.6 Page 36"
     ]
    },
    {
     "cell_type": "code",
     "collapsed": false,
     "input": [
      "#initialisation of variable\n",
      "from math import pi,sqrt,acos,asin,atan,cos,sin,tan,log\n",
      "w=40.0#lb\n",
      "w1=380.0#lb\n",
      "t1=80.0#Degree\n",
      "p=85.0#lb/in^2\n",
      "p1=15.0#lb/in^2\n",
      "W=w+w1#lb/hr\n",
      "P=p+p1#lb/in^2\n",
      "T=659.3#C.H.U/lb\n",
      "d=10.0#h.p\n",
      "\n",
      "#CALCULATIONS\n",
      "H=W*T-w1*t1#C.H.U/hr\n",
      "H1=(d*33000.0*60.0)/1400.0#C.H.U/hr\n",
      "T1=H1/H*100.0#percent\n",
      "D=w1/(w1+w)#C.H.U/hr\n",
      "H2=(W*(99.6+D*539.3)-w1*t1)#C.H.U/hr\n",
      "T2=H-H2#C.H.U/hr\n",
      "H3=T2-H1#C.H.U/hr\n",
      "E=(1400.0*H3)/(60.0*33000.0)#h.p\n",
      "\n",
      "#RESULTS\n",
      "print\"The amount of radiations from the engine is\",round(E,3),\"h.p\""
     ],
     "language": "python",
     "metadata": {},
     "outputs": [
      {
       "output_type": "stream",
       "stream": "stdout",
       "text": [
        "The amount of radiations from the engine is 11.311 h.p\n"
       ]
      }
     ],
     "prompt_number": 9
    },
    {
     "cell_type": "heading",
     "level": 2,
     "metadata": {},
     "source": [
      "Example 3.10 Page 37"
     ]
    },
    {
     "cell_type": "code",
     "collapsed": false,
     "input": [
      "#initialisation of variable\n",
      "from math import pi,sqrt,acos,asin,atan,cos,sin,tan,log\n",
      "w=40.0#lb\n",
      "w1=380.0#lb\n",
      "t1=80.0#Degree\n",
      "p=85.0#lb/in^2\n",
      "p1=15.0#lb/in^2\n",
      "W=w+w1#lb/hr\n",
      "P=p+p1#lb/in^2\n",
      "T=659.3#C.H.U/lb\n",
      "d=10.0#h.p\n",
      "\n",
      "#CALCULATIONS\n",
      "H=W*T-w1*t1#C.H.U/hr\n",
      "H1=(d*33000*60)/1400#C.H.U/hr\n",
      "T1=H1/H*100#percent\n",
      "D=w1/(w1+w)#C.H.U/hr\n",
      "H2=(W*(99.6+D*539.3)-w1*t1)#C.H.U/hr\n",
      "T2=H-H2#C.H.U/hr\n",
      "H3=T2-H1#C.H.U/hr\n",
      "E=(1400*H3)/(60*33000)#h.p\n",
      "\n",
      "#RESULTS\n",
      "print\"The amount of radiations from the engine is\",round(E,3),\"h.p\""
     ],
     "language": "python",
     "metadata": {},
     "outputs": [
      {
       "output_type": "stream",
       "stream": "stdout",
       "text": [
        "The amount of radiations from the engine is 11.311 h.p\n"
       ]
      }
     ],
     "prompt_number": 11
    },
    {
     "cell_type": "heading",
     "level": 2,
     "metadata": {},
     "source": [
      "Example 3.12 Page 39"
     ]
    },
    {
     "cell_type": "code",
     "collapsed": false,
     "input": [
      "#initialisation of variable\n",
      "from math import pi,sqrt,acos,asin,atan,cos,sin,tan,log\n",
      "p=120#lb/in^2\n",
      "ts=264#degree C\n",
      "T1=(273+130.6)#F\n",
      "v=0.0171#ft^3/lb\n",
      "L1=518.4#lb\n",
      "T2=(273+171.9)#F\n",
      "L2=487.4#lb\n",
      "Cp=0.48#lb\n",
      "L=0.0894/Cp#lb\n",
      "Ts=T2*1.205#degree\n",
      "ta=536-273#Degree C\n",
      "T=649.9#C.H.U\n",
      "S=131.2#C.H.U\n",
      "w=(144*40)/1400*(10.49-v)#C.H.U\n",
      "C=T-S#C.H.U\n",
      "I=C-w#C.H.U\n",
      "E=(704.7-57.8)#C.H.U\n",
      "E1=E-606.5#C.H.U\n",
      "\n",
      "#CALCULATIONS\n",
      "E1=E-606.5#C.H.U\n",
      "H=(704.7-T)#C.H.U\n",
      "\n",
      "#RESULTS\n",
      "print\"Heat and internal energy after each operation is\",round(H,3),\"h.p\""
     ],
     "language": "python",
     "metadata": {},
     "outputs": [
      {
       "output_type": "stream",
       "stream": "stdout",
       "text": [
        "Heat and internal energy after each operation is 54.8 h.p\n"
       ]
      }
     ],
     "prompt_number": 12
    },
    {
     "cell_type": "heading",
     "level": 2,
     "metadata": {},
     "source": [
      "Example 3.17 Page 42"
     ]
    },
    {
     "cell_type": "code",
     "collapsed": false,
     "input": [
      "#initialisation of variable\n",
      "from math import pi,sqrt,acos,asin,atan,cos,sin,tan,log\n",
      "A=28.1#in Hg vacuum\n",
      "a=0.93#lb/in^2\n",
      "T=33#Degree\n",
      "p=0.729#lb/in^2\n",
      "P=-p+a#lb/in^2\n",
      "p1=120000#lb\n",
      "p2=28.1#in\n",
      "a1=0.9#ln\n",
      "p3=1000#lb\n",
      "t=15#degree C\n",
      "A1=(a1*(p1/(60*p3)))#lb/mim\n",
      "v=(A1*96*306)/(144*P)#ft^3 of air per min\n",
      "V=37.3+a1*610#C.H.U/lb\n",
      "\n",
      "#CALCULATIONS\n",
      "H=(V-T)#C.H.U\n",
      "W=(H/t)*(p1/60)#gal/min\n",
      "\n",
      "#RESULTS\n",
      "print\"The water per minute in cubic feet per minute passing to air extractor\",round(W,3),\"gal/min\""
     ],
     "language": "python",
     "metadata": {},
     "outputs": [
      {
       "output_type": "stream",
       "stream": "stdout",
       "text": [
        "The water per minute in cubic feet per minute passing to air extractor 73773.333 gal/min\n"
       ]
      }
     ],
     "prompt_number": 13
    }
   ],
   "metadata": {}
  }
 ]
}