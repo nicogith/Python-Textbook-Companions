{
 "cells": [
  {
   "cell_type": "markdown",
   "metadata": {
    "collapsed": true
   },
   "source": [
    "# Chapter 8. Comparators and Converters"
   ]
  },
  {
   "cell_type": "markdown",
   "metadata": {
    "collapsed": true
   },
   "source": [
    "## Example 8.1"
   ]
  },
  {
   "cell_type": "code",
   "execution_count": 9,
   "metadata": {
    "collapsed": false
   },
   "outputs": [
    {
     "data": {
      "image/png": "[encoded data removed]",
      "text/plain": [
       "<matplotlib.figure.Figure at 0x7f53235869d0>"
      ]
     },
     "metadata": {},
     "output_type": "display_data"
    }
   ],
   "source": [
    "\n",
    "#Example 8.1\n",
    "#In the circuit of figure 8-4(a), R1=100 ohm,R2=56 kilo Ohm, Vin=V pp sine wave\n",
    "#and the opamp is type 741 with supply voltages 15 V, -15 V.\n",
    "#Determine the threshold voltages Vul and Vut and draw the output waveform.\n",
    "\n",
    "from __future__ import division #to perform decimal division\n",
    "%matplotlib inline\n",
    "import math\n",
    "import array\n",
    "import numpy as np\n",
    "#Variable declaration\n",
    "R1=100\n",
    "R2=56*10**3\n",
    "vin=1                        #Input voltage in volt\n",
    "pos_Vsat=14                  #Positive saturation voltage in volt\n",
    "neg_Vsat=-14                 #Negative saturation voltage in volt\n",
    "Vut=(R1/(R1+R2))*(pos_Vsat)  #Upper threshold voltage\n",
    "\n",
    "\n",
    "#calculation\n",
    "Vut=(R1/(R1+R2))*(pos_Vsat)  #Upper threshold voltage\n",
    "Vlt=(R1/(R1+R2))*(neg_Vsat)  #Lower threshold voltage\n",
    "\n",
    "t=arange(0,2*math.pi,0.1)\n",
    "vut=0.5*np.sin(t)\n",
    "subplot(211)\n",
    "plot(t,vut)\n",
    "ylabel('Vin')\n",
    "xlabel('t')\n",
    "title(r'$Input voltage$')\n",
    "\n",
    "import matplotlib.pyplot as plt\n",
    "t1=math.asin(0.025/0.5)\n",
    "t2=math.pi-math.asin(-0.025/0.5)\n",
    "t3=2*math.pi\n",
    "x=[0,t1,t2,t3]\n",
    "y=[-14,14,-14,14]\n",
    "subplot(212)\n",
    "plt.step(x,y)                #Plotting square wave\n",
    "title('Output Waveform')\n",
    "xlabel('t')\n",
    "ylabel('Vo')\n",
    "\n",
    "#result\n",
    "plt.show()\n"
   ]
  },
  {
   "cell_type": "markdown",
   "metadata": {
    "collapsed": true
   },
   "source": [
    "## Example 8.2"
   ]
  },
  {
   "cell_type": "code",
   "execution_count": 10,
   "metadata": {
    "collapsed": false
   },
   "outputs": [
    {
     "name": "stdout",
     "output_type": "stream",
     "text": [
      "#Since zener diode is forward biased\n",
      "Output voltage during positive half-cycle of the input is -0.7 V\n",
      "Output voltage during negative half-cycle of the input is 5.1 V\n"
     ]
    },
    {
     "data": {
      "image/png": "[encoded data removed]",
      "text/plain": [
       "<matplotlib.figure.Figure at 0x7f534062a0d0>"
      ]
     },
     "metadata": {},
     "output_type": "display_data"
    }
   ],
   "source": [
    "#Example 8.2\n",
    "#In the circuit of figure 8-7(a), Vin=500 mV peak 60-Hz sinewave, R=100 ohm.\n",
    "#IN3826 zener with Vz=5.1 V and the supply voltages= 15 V, -15V.\n",
    "#Determine the output voltage swing.Assume that the  voltage drop across\n",
    "#the forward biased zener=0.7V.\n",
    "\n",
    "%matplotlib inline\n",
    "from __future__ import division #to perform decimal division\n",
    "import numpy as np\n",
    "import matplotlib.pyplot as plt\n",
    "import math\n",
    "import array\n",
    "\n",
    "#Variable declaration\n",
    "vin=5*10**-3\n",
    "R=100\n",
    "Vd1=-0.7   # Output voltage during positive half-cycle of the input\n",
    "Vd2=5.1    # Output voltage during negative half-cycle of the input\n",
    "\n",
    "#calculation\n",
    "\n",
    "\n",
    "t=arange(0,2*math.pi,0.1)\n",
    "vut=0.5*np.sin(t)\n",
    "subplot(211)\n",
    "plot(t,vut)\n",
    "ylabel('Vin')\n",
    "xlabel('t')\n",
    "title(r'$Input voltage$')\n",
    "\n",
    "\n",
    "\n",
    "\n",
    "t1=math.pi\n",
    "t2=2*math.pi\n",
    "x=[0,t1,t2]\n",
    "y=[-0.7,-0.7,5.1]\n",
    "subplot(2,1,2)\n",
    "plt.step(x,y)\n",
    "title('Output Waveform')\n",
    "xlabel('t')\n",
    "ylabel('Vo')\n",
    "\n",
    "#result\n",
    "print \"#Since zener diode is forward biased\"\n",
    "print \"Output voltage during positive half-cycle of the input is\",Vd1,\"V\"\n",
    "print \"Output voltage during negative half-cycle of the input is\",Vd2,\"V\" \n",
    "plt.show()"
   ]
  },
  {
   "cell_type": "markdown",
   "metadata": {
    "collapsed": true
   },
   "source": [
    "## Example 8.3"
   ]
  },
  {
   "cell_type": "code",
   "execution_count": 3,
   "metadata": {
    "collapsed": false
   },
   "outputs": [
    {
     "name": "stdout",
     "output_type": "stream",
     "text": [
      "Output freq Fo is  2000 Hz\n",
      "Output freq Fo/2 is 1000 Hz\n"
     ]
    }
   ],
   "source": [
    "\n",
    "#Example 8.3\n",
    "#The V..F converter of figure 8-12 is initially adjusted for a 10 kHz full scale\n",
    "#output frequency.Determine the output frequencies Fo and Fo/2 if the output\n",
    "#signal Vin=2 V.\n",
    "%matplotlib inline\n",
    "from __future__ import division #to perform decimal division\n",
    "import math\n",
    "import array\n",
    "\n",
    "\n",
    "\n",
    "#Variable declaration\n",
    "Vin=2       # Input voltage\n",
    "Fo1=2*10**3 # Output freq Fo when Vin=2V\n",
    "Fo2=1*10**3 # Output freq Fo/2 when Vin=2V\n",
    "\n",
    "#calculation\n",
    "import array\n",
    "v=array.array('i',(0 for i in range(0,50)))\n",
    "\n",
    "\n",
    "count=1\n",
    "for i in range(1,50):   #for 5 cycles\n",
    " if count<4:\n",
    "    v[i]=5\n",
    " else:\n",
    "    v[i]=0\n",
    " if count<10:\n",
    "    count=count+1\n",
    " else:\n",
    "    count=1\n",
    "\n",
    "\n",
    "subplot(211)\n",
    "plt.plot(v)\n",
    "title('Output Waveform')\n",
    "xlabel('t(microsec)')\n",
    "ylabel('Pulse freq output,Fo(V)')\n",
    "\n",
    "import matplotlib.pyplot as plt\n",
    "for i in range(1,50):   #for 5 cycles\n",
    " if count<10:\n",
    "    v[i]=5\n",
    " else:\n",
    "    v[i]=0\n",
    " if count<20:\n",
    "    count=count+1\n",
    " else:\n",
    "    count=1\n",
    "\n",
    "subplot(2,1,2)\n",
    "plt.plot(v)\n",
    "title('Output Waveform')\n",
    "xlabel('t(microsec)')\n",
    "ylabel('Pulse freq output,Fo(V)')\n",
    "plt.show()\n",
    "\n",
    "#result\n",
    "print \"Output freq Fo is \",Fo1,\"Hz\"\n",
    "print \"Output freq Fo/2 is\",Fo2,\"Hz\""
   ]
  },
  {
   "cell_type": "markdown",
   "metadata": {
    "collapsed": true
   },
   "source": [
    "## Example 8.4"
   ]
  },
  {
   "cell_type": "code",
   "execution_count": 4,
   "metadata": {
    "collapsed": false
   },
   "outputs": [
    {
     "name": "stdout",
     "output_type": "stream",
     "text": [
      "Output voltage is 0.28 Volts\n"
     ]
    }
   ],
   "source": [
    "\n",
    "#Example 8.4\n",
    "#The F/V converterof figure 8-14(a) is initially adjusted for Vo=2.8V at Fin max\n",
    "#of 10 kHz. Determine the output voltage Vo if fin= 1 kHz.\n",
    "\n",
    "#Variable decclaration\n",
    "Vo=2.8       #At Finmax of 10kHz\n",
    "\n",
    "#Calculation\n",
    "Vo1=Vo/10    #Output voltage at Fin=1kHz\n",
    "\n",
    "#Result\n",
    "print \"Output voltage is\",Vo1,\"Volts\"\n"
   ]
  },
  {
   "cell_type": "markdown",
   "metadata": {
    "collapsed": true
   },
   "source": [
    "## Example 8.5"
   ]
  },
  {
   "cell_type": "code",
   "execution_count": 12,
   "metadata": {
    "collapsed": false
   },
   "outputs": [
    {
     "data": {
      "image/png": "[encoded data removed]",
      "text/plain": [
       "<matplotlib.figure.Figure at 0x7f532311b890>"
      ]
     },
     "metadata": {},
     "output_type": "display_data"
    }
   ],
   "source": [
    "#Example 8.5\n",
    "#In the circuit of figure 8-25(a), Vin=200 mV peak to peak sine wave at 100 Hz.\n",
    "#Briefly describe the operation of the circuit and draw the output waveform.\n",
    "%matplotlib inline\n",
    "from __future__ import division #to perform decimal division\n",
    "import numpy as np\n",
    "import math\n",
    "import array\n",
    "\n",
    "\n",
    "#Variable declaration\n",
    "Vin=100*10**-3           # Input voltage\n",
    "\n",
    "\n",
    "#calculation\n",
    "\n",
    "t=arange(0,math.pi,0.1)  #time scale\n",
    "v=Vin*np.sin(t)\n",
    "\n",
    "import matplotlib.pyplot as plt\n",
    "plt.xlim(0,2*math.pi)\n",
    "plt.ylim(0,0.1)\n",
    "plt.plot(t,v)\n",
    "ylabel('Vin')\n",
    "xlabel('t')\n",
    "title(r'$Input voltage$')\n",
    "\n",
    "\n",
    "#result\n",
    "plt.show()"
   ]
  }
 ],
 "metadata": {
  "kernelspec": {
   "display_name": "Python 2",
   "language": "python",
   "name": "python2"
  },
  "language_info": {
   "codemirror_mode": {
    "name": "ipython",
    "version": 2
   },
   "file_extension": ".py",
   "mimetype": "text/x-python",
   "name": "python",
   "nbconvert_exporter": "python",
   "pygments_lexer": "ipython2",
   "version": "2.7.6"
  }
 },
 "nbformat": 4,
 "nbformat_minor": 0
}
