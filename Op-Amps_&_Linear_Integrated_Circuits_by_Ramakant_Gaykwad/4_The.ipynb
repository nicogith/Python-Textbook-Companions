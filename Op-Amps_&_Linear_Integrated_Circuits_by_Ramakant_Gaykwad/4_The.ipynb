{
 "cells": [
  {
   "cell_type": "markdown",
   "metadata": {
    "collapsed": true
   },
   "source": [
    "# Chapter 4: The Practical Op-Amp"
   ]
  },
  {
   "cell_type": "markdown",
   "metadata": {
    "collapsed": true
   },
   "source": [
    "## Example 4.1"
   ]
  },
  {
   "cell_type": "code",
   "execution_count": 23,
   "metadata": {
    "collapsed": false
   },
   "outputs": [
    {
     "name": "stdout",
     "output_type": "stream",
     "text": [
      "Resistance Rb is 10.0 kilo ohms\n",
      "Resistance Ra is  4.0 kilo ohms\n"
     ]
    }
   ],
   "source": [
    "\n",
    "#Example 4.1\n",
    "#Design a Compensating Network for the opamp LM307.\n",
    "#The opamp uses +10 V and -10 V supply voltages.\n",
    "\n",
    "#Variable declaration\n",
    "V=10             #Supply voltage\n",
    "Vio=10*10**-3    #Input offset voltage\n",
    "Rc=10            #Assumption\n",
    "\n",
    "#calculation\n",
    "Rb=(V/Vio)*Rc\n",
    "Ra=Rb/2.5        #Since Rb>Rmax,let us choose Rb=10*Rmax where Rmax=Ra/4\n",
    "\n",
    "#Result\n",
    "print \"Resistance Rb is\",Rb/10**3,\"kilo ohms\"\n",
    "print \"Resistance Ra is \",Ra/10**3,\"kilo ohms\"\n"
   ]
  },
  {
   "cell_type": "markdown",
   "metadata": {
    "collapsed": true
   },
   "source": [
    "## Example 4.2"
   ]
  },
  {
   "cell_type": "code",
   "execution_count": 24,
   "metadata": {
    "collapsed": false
   },
   "outputs": [
    {
     "name": "stdout",
     "output_type": "stream",
     "text": [
      "Max output offset voltage is 110.0 milli Volts\n"
     ]
    }
   ],
   "source": [
    "\n",
    "#Example 4.2\n",
    "#The opamp in the circuit of figure 4-13 is the LM307 with Vio=10 mV dc maximum.\n",
    "#What is the maximum possible output offset voltage, Voo, caused by\n",
    "#the input offset voltage Vio?\n",
    "\n",
    "#Variable declaration\n",
    "R1=1*10**3\n",
    "Rf=10*10**3\n",
    "Vio=10*10**-3      #Input offset voltage\n",
    "\n",
    "#calculation\n",
    "Aoo=1+Rf/R1        #To find max value of Voo,we reduce input voltage vin to zero.\n",
    "Voo=Aoo*Vio        #Max output offset voltage\n",
    "\n",
    "#Result\n",
    "print \"Max output offset voltage is\",Voo*10**3,\"milli Volts\"\n"
   ]
  },
  {
   "cell_type": "markdown",
   "metadata": {
    "collapsed": true
   },
   "source": [
    "## Example 4.3"
   ]
  },
  {
   "cell_type": "code",
   "execution_count": 25,
   "metadata": {
    "collapsed": false
   },
   "outputs": [
    {
     "name": "stdout",
     "output_type": "stream",
     "text": [
      "Closed loop gain of non-inverting amplifier is 11.0\n"
     ]
    }
   ],
   "source": [
    "#Example 4.3\n",
    "#Design an input offset voltage-compensating network for the circuit in\n",
    "#figure 4-13\n",
    "\n",
    "from __future__ import division #to perform decimal division\n",
    "\n",
    "#Variable declaration\n",
    "R1=1*10**3\n",
    "Rf=10*10**3\n",
    "Rc=10\n",
    "\n",
    "\n",
    "#calculation\n",
    "Af=1+Rf/(R1+Rc)    #Closed loop gain of non-inverting amplifier\n",
    "\n",
    "#Result\n",
    "print \"Closed loop gain of non-inverting amplifier is\",round(Af)\n"
   ]
  },
  {
   "cell_type": "markdown",
   "metadata": {
    "collapsed": true
   },
   "source": [
    "## Example 4.4"
   ]
  },
  {
   "cell_type": "code",
   "execution_count": 26,
   "metadata": {
    "collapsed": false
   },
   "outputs": [
    {
     "name": "stdout",
     "output_type": "stream",
     "text": [
      "Max output offset voltage due to Vio is 606.0 milli Volts\n",
      "Max output offset voltage due to Ib is  23.5 milli Volts\n",
      "Parallel combination of R1 and Rf,i.e ROM is  465.35 Ohms\n"
     ]
    }
   ],
   "source": [
    "#Example 4.4\n",
    "#a) For the inverting amplifier of Figure 4-19, determine the maximum possible\n",
    "#output offset voltage due to input offset voltage Vio and input bias current Ib\n",
    "#The opamp is a type 741.\n",
    "#b) What value of ROM is needed to reduce the effect of input bias current Ib.\n",
    "\n",
    "from __future__ import division #to perform decimal division\n",
    "\n",
    "#Variable declaration\n",
    "R1=470\n",
    "Rf=47*10**3\n",
    "Vio=6*10**-3          #Input offset voltage\n",
    "Ib=500*10**-9         #Input bias current\n",
    "Vs=15                 #Supply voltage\n",
    "\n",
    "#calculation\n",
    "Voo=(1+Rf/R1)*Vio     #Max output offset voltage due to input offset voltage Vio\n",
    "VoIb=Rf*Ib            #Max output offset voltage due to input offset voltage Ib\n",
    "ROM=R1*Rf/(R1+Rf)     #Parallel combination of R1 and Rf\n",
    "\n",
    "#Result\n",
    "print \"Max output offset voltage due to Vio is\",round(Voo*10**3),\"milli Volts\"\n",
    "print \"Max output offset voltage due to Ib is \",round(VoIb*10**3,1),\"milli Volts\"\n",
    "print \"Parallel combination of R1 and Rf,i.e ROM is \",round(ROM,2),\"Ohms\"\n"
   ]
  },
  {
   "cell_type": "markdown",
   "metadata": {
    "collapsed": true
   },
   "source": [
    "## Example 4.5"
   ]
  },
  {
   "cell_type": "code",
   "execution_count": 27,
   "metadata": {
    "collapsed": false
   },
   "outputs": [
    {
     "name": "stdout",
     "output_type": "stream",
     "text": [
      "Max output offset voltage due to Vio is 606.0 milli Volts\n",
      "Max output offset voltage due to Ib is  50.0 milli Volts\n",
      "Parallel combination of R1 and Rf,i.e ROM is  990.1 Ohms\n"
     ]
    }
   ],
   "source": [
    "#Example 4.5\n",
    "#Repeat example 4.4 if R1 replaced by 1 kilo Ohm and Rf replaced by 100 kilo Ohm\n",
    "\n",
    "from __future__ import division #to perform decimal division\n",
    "\n",
    "#Variable declaration\n",
    "R1=1*10**3\n",
    "Rf=100*10**3\n",
    "Vio=6*10**-3          #Input offset voltage\n",
    "Ib=500*10**-9         #Input bias current\n",
    "Vs=15                 #Supply voltage\n",
    "\n",
    "#calculation\n",
    "Voo=(1+Rf/R1)*Vio     #Max output offset voltage due to input offset voltage Vio\n",
    "VoIb=Rf*Ib            #Max output offset voltage due to input offset voltage Ib\n",
    "ROM=R1*Rf/(R1+Rf)     #Parallel combination of R1 and Rf\n",
    "\n",
    "#Result\n",
    "print \"Max output offset voltage due to Vio is\",round(Voo*10**3),\"milli Volts\"\n",
    "print \"Max output offset voltage due to Ib is \",round(VoIb*10**3,1),\"milli Volts\"\n",
    "print \"Parallel combination of R1 and Rf,i.e ROM is \",round(ROM,2),\"Ohms\"\n"
   ]
  },
  {
   "cell_type": "markdown",
   "metadata": {
    "collapsed": true
   },
   "source": [
    "## Example 4.6"
   ]
  },
  {
   "cell_type": "code",
   "execution_count": 6,
   "metadata": {
    "collapsed": false
   },
   "outputs": [
    {
     "name": "stdout",
     "output_type": "stream",
     "text": [
      "Max output offset voltage due to Ib is  20.0 milli Volts\n"
     ]
    }
   ],
   "source": [
    "\n",
    "#Example 4.6\n",
    "#For the inverting amplifier in figure 4-21, determine the maximum output offset\n",
    "#voltage VoIio caused by the input offset current Iio.\n",
    "#The opamp is a type 741\n",
    "\n",
    "from __future__ import division #to perform decimal division\n",
    "\n",
    "#Variable declaration\n",
    "Iio=200*10**-9      #Input offset current\n",
    "Rf=100*10**3\n",
    "\n",
    "#calculation\n",
    "VoIio=Rf*Iio        #Max output offset voltage due to input offset voltage Ib\n",
    "\n",
    "#Result\n",
    "print \"Max output offset voltage due to Ib is \",round(VoIio*10**3),\"milli Volts\"\n"
   ]
  },
  {
   "cell_type": "markdown",
   "metadata": {
    "collapsed": true
   },
   "source": [
    "## Example 4.7"
   ]
  },
  {
   "cell_type": "code",
   "execution_count": 7,
   "metadata": {
    "collapsed": false
   },
   "outputs": [
    {
     "name": "stdout",
     "output_type": "stream",
     "text": [
      "Max output offset voltage due to Ib is  85.0 milli Volts\n",
      "Max output offset voltage due to Iio is  83.0 milli Volts\n"
     ]
    }
   ],
   "source": [
    "#Example 4.7\n",
    "#Compute the maximum possible output offset voltages in the amplifier circuits\n",
    "#shown in the figure 4-22. The opamp is MC1536 with the following specifications.\n",
    "#Vio=7.5 mV maximum, Iio=50 nA maximum,Ib=250 nA maximum at TA=25 degree celcius\n",
    "\n",
    "from __future__ import division #to perform decimal division\n",
    "\n",
    "#Variable declaration\n",
    "R1=1*10**3\n",
    "Rf=10*10**3\n",
    "Vio=7.5*10**-3 #Max input offset voltage\n",
    "Iio=50*10**-9  #Max input offset current\n",
    "Ib=250*10**-9  #Max input bias current\n",
    "\n",
    "#calculation\n",
    "# For figure 4.22(a)\n",
    "VooT1=(1+Rf/R1)*Vio+(Rf*Ib)  #Since the current generated output offset voltage is due to input bias current Ib\n",
    "# For figure 4.22(b)\n",
    "VooT2=(1+Rf/R1)*Vio+(Rf*Iio) #Since the current generated output offset voltage is due to input offset current Ib\n",
    "\n",
    "#Result\n",
    "print \"Max output offset voltage due to Ib is \",VooT1*10**3,\"milli Volts\"\n",
    "print \"Max output offset voltage due to Iio is \",VooT2*10**3,\"milli Volts\"\n"
   ]
  },
  {
   "cell_type": "markdown",
   "metadata": {
    "collapsed": true
   },
   "source": [
    "## Example 4.8_a"
   ]
  },
  {
   "cell_type": "code",
   "execution_count": 29,
   "metadata": {
    "collapsed": false
   },
   "outputs": [
    {
     "name": "stdout",
     "output_type": "stream",
     "text": [
      "Error voltage is  30.6 mV\n",
      "Output voltage 1 is  -69.4 mV\n",
      "Output voltage 2 is  -130.6 mV\n"
     ]
    }
   ],
   "source": [
    "\n",
    "#Example 4.8_a\n",
    "#Refer to the inverting amplifier in figure 4-24. The opamp is the LM307 with\n",
    "#the following specifications.\n",
    "#delta_Vio/delta_T =30 microVolt/degree celcius maximum\n",
    "#delta_Iio/delta_T= 300 pA/degree celcius\n",
    "#Vs=15 V, R1=1 Kilo Ohm, Rf=100 Kilo Ohm,Rl=10 Kilo Ohm\n",
    "#Assume that the amplifier is nulled at 25 degree celcius. Calculate the value\n",
    "#of the error voltage Ev and output voltage at 35 degree celcius if\n",
    "#a) Vin= 1 mV dc\n",
    "\n",
    "from __future__ import division #to perform decimal division\n",
    "\n",
    "#Variable declaration\n",
    "delta_Vio=30*10**-6        #Change in input offset voltage\n",
    "delta_T=1                  #Unit change in temperature\n",
    "delta_Iio=(300*10**-12)    #Change in input offset current\n",
    "Vs=15\n",
    "R1=1*10**3\n",
    "Rf=100*10**3\n",
    "Rl=10*10**3\n",
    "Vin=1*10**-3               #Input voltage\n",
    "k=25                       #Amplifier is nulled at 25 deg\n",
    "T=35-k                     #Change in temperature\n",
    "\n",
    "#calculation\n",
    "Ev=(1+Rf/R1)*(delta_Vio/delta_T)*T + Rf*(delta_Iio/delta_T)*T   #Error voltage\n",
    "Vo1=-(Rf/R1)*Vin+Ev                                             #Output voltage\n",
    "Vo2=-(Rf/R1)*Vin-Ev                                             #Output voltage\n",
    "\n",
    "#Result\n",
    "print \"Error voltage is \",round(Ev*10**3,1),\"mV\"\n",
    "print \"Output voltage 1 is \",round(Vo1*10**3,1),\"mV\"\n",
    "print \"Output voltage 2 is \",round(Vo2*10**3,1),\"mV\""
   ]
  },
  {
   "cell_type": "markdown",
   "metadata": {
    "collapsed": true
   },
   "source": [
    "## Example 4.8_b"
   ]
  },
  {
   "cell_type": "code",
   "execution_count": 30,
   "metadata": {
    "collapsed": false
   },
   "outputs": [
    {
     "name": "stdout",
     "output_type": "stream",
     "text": [
      "Error voltage is  30.6 mV\n",
      "Output voltage 1 is  -969.4 mV\n",
      "Output voltage 2 is  -1030.6 mV\n"
     ]
    }
   ],
   "source": [
    "\n",
    "#Example 4.8_b\n",
    "#Refer to the inverting amplifier in figure 4-24. The opamp is the LM307 with\n",
    "#the following specifications.\n",
    "#delta_Vio/delta_T =30 microVolt/degree celcius maximum\n",
    "#delta_Iio/delta_T= 300 pA/degree celcius\n",
    "#Vs=15 V, R1=1 Kilo Ohm, Rf=100 Kilo Ohm,Rl=10 Kilo Ohm\n",
    "#Assume that the amplifier is nulled at 25 degree celcius. Calculate the value\n",
    "#of the error voltage Ev and output voltage at 35 degree celcius if\n",
    "#a) Vin= 10 mV dc\n",
    "\n",
    "from __future__ import division #to perform decimal division\n",
    "\n",
    "#Variable declaration\n",
    "delta_Vio=30*10**-6        #Change in input offset voltage\n",
    "delta_T=1                  #Unit change in temperature\n",
    "delta_Iio=(300*10**-12)    #Change in input offset current\n",
    "Vs=15\n",
    "R1=1*10**3\n",
    "Rf=100*10**3\n",
    "Rl=10*10**3\n",
    "Vin=10*10**-3              #Input voltage\n",
    "k=25                       #Amplifier is nulled at 25 deg\n",
    "T=35-k                     #Change in temperature\n",
    "\n",
    "#calculation\n",
    "Ev=(1+Rf/R1)*(delta_Vio/delta_T)*T + Rf*(delta_Iio/delta_T)*T   #Error voltage\n",
    "Vo1=-(Rf/R1)*Vin+Ev                                             #Output voltage\n",
    "Vo2=-(Rf/R1)*Vin-Ev                                             #Output voltage\n",
    "\n",
    "#Result\n",
    "print \"Error voltage is \",round(Ev*10**3,1),\"mV\"\n",
    "print \"Output voltage 1 is \",round(Vo1*10**3,1),\"mV\"\n",
    "print \"Output voltage 2 is \",round(Vo2*10**3,1),\"mV\"\n"
   ]
  },
  {
   "cell_type": "markdown",
   "metadata": {
    "collapsed": true
   },
   "source": [
    "## Example 4.8_a"
   ]
  },
  {
   "cell_type": "code",
   "execution_count": 31,
   "metadata": {
    "collapsed": false
   },
   "outputs": [
    {
     "name": "stdout",
     "output_type": "stream",
     "text": [
      "Error voltage is  0.0306 Volts\n",
      "Output voltage 1 is  -0.0694 Volts\n",
      "Output voltage 2 is  -0.1306 Volts\n"
     ]
    }
   ],
   "source": [
    "\n",
    "#Example 4.8_a\n",
    "#Design of Compensating Network\n",
    "\n",
    "from __future__ import division #to perform decimal division\n",
    "\n",
    "#Variable declaration\n",
    "delta_Vio=30*10**-6        #Change in input offset voltage\n",
    "delta_T=1                  #Unit change in temperature\n",
    "delta_Iio=(300*10**-12)    #Change in input offset current\n",
    "Vs=15\n",
    "R1=1*10**3\n",
    "Rf=100*10**3\n",
    "Rl=10*10**3\n",
    "Vin=1*10**-3                #Input voltage\n",
    "k=25                        #Amplifier is nulled at 25 deg\n",
    "T=35-k                      #Change in temperature\n",
    "\n",
    "#calculation\n",
    "Ev=(1+Rf/R1)*(delta_Vio/delta_T)*T + Rf*(delta_Iio/delta_T)*T   #Error voltage\n",
    "Vo1=-(Rf/R1)*Vin+Ev                                             #Output voltage\n",
    "Vo2=-(Rf/R1)*Vin-Ev                                             #Output voltage\n",
    "\n",
    "#Result\n",
    "print \"Error voltage is \",Ev,\"Volts\"\n",
    "print \"Output voltage 1 is \",Vo1,\"Volts\"\n",
    "print \"Output voltage 2 is \",Vo2,\"Volts\"\n",
    "\n"
   ]
  },
  {
   "cell_type": "markdown",
   "metadata": {
    "collapsed": true
   },
   "source": [
    "## Example 4.9_a"
   ]
  },
  {
   "cell_type": "code",
   "execution_count": 34,
   "metadata": {
    "collapsed": false
   },
   "outputs": [
    {
     "name": "stdout",
     "output_type": "stream",
     "text": [
      "Error voltage is  91.8 mV\n",
      "Output voltage 1 is  -908.2 mV\n",
      "Output voltage 2 is  -1091.8 mV\n"
     ]
    }
   ],
   "source": [
    "#Example 4.9_a\n",
    "#Refer again to the amplifier circuit in figure 4-24.Use the same circuit\n",
    "#specifications that are given in example 4-8. Assume that the amplifier is\n",
    "#nulled at 25 degree celcius. If Vin is a 10 mV peak sine wave at 1 kilo Hz\n",
    "#Calculate Ev and Vo at 55 degree celcius.\n",
    "\n",
    "from __future__ import division #to perform decimal division\n",
    "\n",
    "#Variable declaration\n",
    "delta_Vio=30*10**-6        #Change in input offset voltage\n",
    "delta_T=1                  #Unit change in temperature\n",
    "delta_Iio=(300*10**-12)    #Change in input offset current\n",
    "Vs=15\n",
    "R1=1*10**3\n",
    "Rf=100*10**3\n",
    "Rl=10*10**3\n",
    "Vin=10*10**-3               #Input voltage\n",
    "k=25                        #Amplifier is nulled at 25 deg\n",
    "T=55-k                      #Change in temperature\n",
    "\n",
    "#calculation\n",
    "Ev=(1+Rf/R1)*(delta_Vio/delta_T)*T + Rf*(delta_Iio/delta_T)*T   #Error voltage\n",
    "Vo1=-(Rf/R1)*Vin+Ev                                             #Output voltage\n",
    "Vo2=-(Rf/R1)*Vin-Ev                                             #Output voltage\n",
    "\n",
    "#Result\n",
    "print \"Error voltage is \",round(Ev*10**3,1),\"mV\"\n",
    "print \"Output voltage 1 is \",round(Vo1*10**3,1),\"mV\"\n",
    "print \"Output voltage 2 is \",round(Vo2*10**3,1),\"mV\"\n"
   ]
  },
  {
   "cell_type": "markdown",
   "metadata": {
    "collapsed": true
   },
   "source": [
    "## Example 4.9_b"
   ]
  },
  {
   "cell_type": "code",
   "execution_count": 36,
   "metadata": {
    "collapsed": false
   },
   "outputs": [
    {
     "data": {
      "image/png": "[encoded data removed]",
      "text/plain": [
       "<matplotlib.figure.Figure at 0x7fe8a375c9d0>"
      ]
     },
     "metadata": {},
     "output_type": "display_data"
    }
   ],
   "source": [
    "\n",
    "#Example 4.9_b\n",
    "#Refer again to the amplifier circuit in figure 4-24.Use the same circuit\n",
    "#specifications that are given in example 4-8. Assume that the amplifier is\n",
    "#nulled at 25 degree celcius. If Vin is a 10 mV peak sine wave at 1 kilo Hz\n",
    "#Draw the output voltage waveform at 55 degree celcius.\n",
    "\n",
    "\n",
    "from __future__ import division #to perform decimal division\n",
    "%matplotlib inline\n",
    "\n",
    "from pylab import ylabel, xlabel, title, arange, plot, show\n",
    "import math\n",
    "import numpy as np\n",
    "\n",
    "\n",
    "\n",
    "#calculation\n",
    "x=arange(0,2*math.pi,0.1)   #x coordinate\n",
    "y=-1000*sin(x)+91.8         #y coordinate\n",
    "\n",
    "#result\n",
    "plot(x,y)\n",
    "ylabel('voltage')\n",
    "xlabel('time')\n",
    "title(r'$output waveform$')\n",
    "show()"
   ]
  },
  {
   "cell_type": "markdown",
   "metadata": {
    "collapsed": true
   },
   "source": [
    "## Example 4.10_a"
   ]
  },
  {
   "cell_type": "code",
   "execution_count": 37,
   "metadata": {
    "collapsed": false
   },
   "outputs": [
    {
     "name": "stdout",
     "output_type": "stream",
     "text": [
      "Error voltage is  30.6 mV\n",
      "Output voltage 1 is  131.6 mV\n",
      "Output voltage 2 is  70.4 mV\n"
     ]
    }
   ],
   "source": [
    "#Example 4.10_a\n",
    "#Repeat example 4-8 for the noniverting amplifier shown in figure 4-26.\n",
    "#Assume that Rc<<R1.\n",
    "\n",
    "\n",
    "from __future__ import division #to perform decimal division\n",
    "\n",
    "#Variable declaration\n",
    "delta_Vio=30*10**-6        #Change in input offset voltage\n",
    "delta_T=1                  #Unit change in temperature\n",
    "delta_Iio=(300*10**-12)    #Change in input offset current\n",
    "Vs=15\n",
    "R1=1*10**3\n",
    "Rf=100*10**3\n",
    "Rl=10*10**3\n",
    "Vin=1*10**-3               #Input voltage\n",
    "k=25                       #Amplifier is nulled at 25 deg\n",
    "T=35-k                     #Change in temperature\n",
    "\n",
    "#calculation\n",
    "Ev=(1+Rf/R1)*(delta_Vio/delta_T)*T + Rf*(delta_Iio/delta_T)*T   #Error voltage\n",
    "Vo1=(1+Rf/R1)*Vin+Ev                                            #Output voltage\n",
    "Vo2=(1+Rf/R1)*Vin-Ev                                            #Output voltage\n",
    "\n",
    "#Result\n",
    "print \"Error voltage is \",round(Ev*10**3,1),\"mV\"\n",
    "print \"Output voltage 1 is \",round(Vo1*10**3,1),\"mV\"\n",
    "print \"Output voltage 2 is \",round(Vo2*10**3,1),\"mV\""
   ]
  },
  {
   "cell_type": "markdown",
   "metadata": {
    "collapsed": true
   },
   "source": [
    "## Example 4.10_b"
   ]
  },
  {
   "cell_type": "code",
   "execution_count": 38,
   "metadata": {
    "collapsed": false
   },
   "outputs": [
    {
     "name": "stdout",
     "output_type": "stream",
     "text": [
      "Error voltage is  30.6 mV\n",
      "Output voltage 1 is  1040.6 mV\n",
      "Output voltage 2 is  979.4 mV\n"
     ]
    }
   ],
   "source": [
    "\n",
    "#Example 4.10_b\n",
    "#Repeat example 4-8 for the noniverting amplifier shown in figure 4-26.\n",
    "#Assume that Rc<<R1.\n",
    "\n",
    "from __future__ import division #to perform decimal division\n",
    "\n",
    "#Variable declaration\n",
    "delta_Vio=30*10**-6        #Change in input offset voltage\n",
    "delta_T=1                  #Unit change in temperature\n",
    "delta_Iio=(300*10**-12)    #Change in input offset current\n",
    "Vs=15\n",
    "R1=1*10**3\n",
    "Rf=100*10**3\n",
    "Rl=10*10**3\n",
    "Vin=10*10**-3              #Input voltage\n",
    "k=25                       #Amplifier is nulled at 25 deg\n",
    "T=35-k                     #Change in temperature\n",
    "\n",
    "#calculation\n",
    "Ev=(1+Rf/R1)*(delta_Vio/delta_T)*T + Rf*(delta_Iio/delta_T)*T   #Error voltage\n",
    "Vo1=(1+Rf/R1)*Vin+Ev                                            #Output voltage\n",
    "Vo2=(1+Rf/R1)*Vin-Ev                                            #Output voltage\n",
    "\n",
    "#Result\n",
    "print \"Error voltage is \",round(Ev*10**3,1),\"mV\"\n",
    "print \"Output voltage 1 is \",round(Vo1*10**3,1),\"mV\"\n",
    "print \"Output voltage 2 is \",round(Vo2*10**3,1),\"mV\"\n"
   ]
  },
  {
   "cell_type": "markdown",
   "metadata": {
    "collapsed": true
   },
   "source": [
    "## Example 4.11_a"
   ]
  },
  {
   "cell_type": "code",
   "execution_count": 39,
   "metadata": {
    "collapsed": false
   },
   "outputs": [
    {
     "name": "stdout",
     "output_type": "stream",
     "text": [
      "Change in Output offset voltage is  3.2 mV\n"
     ]
    }
   ],
   "source": [
    "\n",
    "#Example 4.11_a\n",
    "#The amplifier in figure 4-28(b) is nulled when the low dc supply voltage is\n",
    "#20 mV.\n",
    "#Because of poor regulation,low dc voltage varies with time from 18 V to 22 V.\n",
    "#a) Determine the change in the output offset voltage caused by the change in\n",
    "#supply voltages\n",
    "\n",
    "from __future__ import division #to perform decimal division\n",
    "\n",
    "#Variable declaration\n",
    "delta_Vio=15.85*10**-6  #Change in input offset voltage\n",
    "delta_V=1               #Unit change in supply voltage\n",
    "V=2                     #Change in supply voltage\n",
    "R1=1*10**3\n",
    "Rf=100*10**3\n",
    "\n",
    "#calculation\n",
    "delta_Voo=(1+Rf/R1)*(delta_Vio/delta_V)*V  #Change in output offset voltage\n",
    "        \n",
    "\n",
    "#Result\n",
    "print \"Change in Output offset voltage is \",round(delta_Voo*10**3,2),\"mV\"\n",
    "\n"
   ]
  },
  {
   "cell_type": "markdown",
   "metadata": {
    "collapsed": true
   },
   "source": [
    "## Example 4.11_b"
   ]
  },
  {
   "cell_type": "code",
   "execution_count": 41,
   "metadata": {
    "collapsed": false
   },
   "outputs": [
    {
     "name": "stdout",
     "output_type": "stream",
     "text": [
      "Total Output offset voltage 1 is  -996.8 mV\n",
      "Total Output offset voltage 2 is  -1003.2 mV\n"
     ]
    }
   ],
   "source": [
    "\n",
    "#Example 4.11_b\n",
    "#The amplifier in figure 4-28(b) is nulled when the low dc supply voltage is\n",
    "#20 mV.\n",
    "#Because of poor regulation,low dc voltage varies with time from 18 V to 22 V.\n",
    "#b) Determine the output voltage Vo if Vin=10 mV dc. The opamp is the LM307\n",
    "#with SVRR=96 dB.\n",
    "\n",
    "\n",
    "from __future__ import division #to perform decimal division\n",
    "\n",
    "#Variable declaration\n",
    "delta_Vio=15.85*10**-6  #Change in input offset voltage\n",
    "delta_V=1               #Unit change in supply voltage\n",
    "V=2                     #Change in supply voltage\n",
    "R1=1*10**3\n",
    "Rf=100*10**3\n",
    "Vin=10*10**-3\n",
    "\n",
    "#calculation\n",
    "delta_Voo=(1+Rf/R1)*(delta_Vio/delta_V)*V   #Output offset voltage\n",
    "Vo1=(-Rf/R1)*Vin+delta_Voo                  #Total output offset voltage 1\n",
    "Vo2=(-Rf/R1)*Vin-delta_Voo                  #Total output offset voltage 2\n",
    "        \n",
    "\n",
    "#Result\n",
    "print \"Total Output offset voltage 1 is \",round(Vo1*10**3,1),\"mV\"\n",
    "print \"Total Output offset voltage 2 is \",round(Vo2*10**3,1),\"mV\""
   ]
  },
  {
   "cell_type": "markdown",
   "metadata": {
    "collapsed": true
   },
   "source": [
    "## Example 4.11_b"
   ]
  },
  {
   "cell_type": "code",
   "execution_count": 42,
   "metadata": {
    "collapsed": false
   },
   "outputs": [
    {
     "name": "stdout",
     "output_type": "stream",
     "text": [
      "Total Output offset voltage 1 is  -0.9968 Volts\n",
      "Total Output offset voltage 2 is  -1.0032 Volts\n"
     ]
    }
   ],
   "source": [
    "#Example 4.11_b\n",
    "#Design of Compensating Network\n",
    "\n",
    "from __future__ import division #to perform decimal division\n",
    "\n",
    "#Variable declaration\n",
    "delta_Vio=15.85*10**-6  #Change in input offset voltage\n",
    "delta_V=1               #Unit change in supply voltage\n",
    "V=2                     #Change in supply voltage\n",
    "R1=1*10**3\n",
    "Rf=100*10**3\n",
    "Vin=10*10**-3\n",
    "\n",
    "#calculation\n",
    "delta_Voo=(1+Rf/R1)*(delta_Vio/delta_V)*V   #Output offset voltage\n",
    "Vo1=(-Rf/R1)*Vin+delta_Voo                  #Total output offset voltage 1\n",
    "Vo2=(-Rf/R1)*Vin-delta_Voo                  #Total output offset voltage 2\n",
    "        \n",
    "\n",
    "#Result\n",
    "print \"Total Output offset voltage 1 is \",round(Vo1,4),\"Volts\"\n",
    "print \"Total Output offset voltage 2 is \",round(Vo2,4),\"Volts\""
   ]
  },
  {
   "cell_type": "markdown",
   "metadata": {
    "collapsed": true
   },
   "source": [
    "## Example 4.12"
   ]
  },
  {
   "cell_type": "code",
   "execution_count": 44,
   "metadata": {
    "collapsed": false
   },
   "outputs": [
    {
     "name": "stdout",
     "output_type": "stream",
     "text": [
      "Change in Output offset voltage 1 is  16.0 uV rms\n"
     ]
    }
   ],
   "source": [
    "#Example 4.12\n",
    "#Referring to figure 4-28(b), suppose that the circuit is nulled when the voltage\n",
    "#across terminals +Vcc and -Vee measures 20 V dc. Also suppose that because of\n",
    "#poor filtering, 10 mV rms ac ripple is measured across terminals +Vcc and -Vee.\n",
    "#While the input signal Vin=0V, how much ripple voltage can we expect at the\n",
    "#output if the opamp is the LM307.\n",
    "\n",
    "from __future__ import division #to perform decimal division\n",
    "\n",
    "#Variable declaration\n",
    "delta_Vio=15.85*10**-6  #Change in input offset voltage\n",
    "delta_V=1               #Unit change in supply voltage\n",
    "V=10*10**-3             #Change in supply voltage\n",
    "R1=1*10**3\n",
    "Rf=100*10**3\n",
    "\n",
    "\n",
    "#calculation\n",
    "delta_Voo=(1+Rf/R1)*(delta_Vio/delta_V)*V   #Output offset voltage\n",
    "\n",
    "#Result\n",
    "print \"Change in Output offset voltage 1 is \",round(delta_Voo*10**6),\"uV rms\"\n"
   ]
  },
  {
   "cell_type": "markdown",
   "metadata": {
    "collapsed": true
   },
   "source": [
    "## Example 4.13"
   ]
  },
  {
   "cell_type": "code",
   "execution_count": 45,
   "metadata": {
    "collapsed": false
   },
   "outputs": [
    {
     "name": "stdout",
     "output_type": "stream",
     "text": [
      "Change in Output offset voltage 1 is  2.82 mV\n"
     ]
    }
   ],
   "source": [
    "\n",
    "#Example 4.13\n",
    "#Suppose that the circuit in figure 4-24 is initially nulled. Assume also that\n",
    "#room temperature and the voltage terminals +Vcc and -Vee remain constant.\n",
    "#Determine the maximum possible chnage in output offset voltage after one month\n",
    "#if the opamp is the LH0041C.\n",
    "#Assume that R1=1kilo Ohm, Rf=100 kilo Ohm and Rl=10 kilo Ohm.\n",
    "\n",
    "from __future__ import division #to perform decimal division\n",
    "\n",
    "#Variable declaration\n",
    "delta_Vio=5*10**-6  #Change in input offset voltage\n",
    "delta_t=1           #Unit change in time\n",
    "delta_Iio=2*10**-9  #Change in input offset current \n",
    "t=4                 #Time elapsed(weeks)\n",
    "R1=1*10**3\n",
    "Rf=100*10**3\n",
    "Rl=10*10**3\n",
    "\n",
    "\n",
    "#calculation\n",
    "delta_Voot=(1+Rf/R1)*(delta_Vio/delta_t)*t+Rf*(delta_Iio/delta_t)*t  #Output offset voltage\n",
    "\n",
    "#Result\n",
    "print \"Change in Output offset voltage 1 is \",round(delta_Voot*10**3,2),\"mV\"\n"
   ]
  }
 ],
 "metadata": {
  "kernelspec": {
   "display_name": "Python 2",
   "language": "python",
   "name": "python2"
  },
  "language_info": {
   "codemirror_mode": {
    "name": "ipython",
    "version": 2
   },
   "file_extension": ".py",
   "mimetype": "text/x-python",
   "name": "python",
   "nbconvert_exporter": "python",
   "pygments_lexer": "ipython2",
   "version": "2.7.6"
  }
 },
 "nbformat": 4,
 "nbformat_minor": 0
}
