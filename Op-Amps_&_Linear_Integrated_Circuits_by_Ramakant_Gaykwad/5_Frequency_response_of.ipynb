{
 "cells": [
  {
   "cell_type": "markdown",
   "metadata": {
    "collapsed": true
   },
   "source": [
    "# Chapter 5: Frequency response of an Op-Amp"
   ]
  },
  {
   "cell_type": "markdown",
   "metadata": {
    "collapsed": true
   },
   "source": [
    "## Example 5.1"
   ]
  },
  {
   "cell_type": "code",
   "execution_count": 6,
   "metadata": {
    "collapsed": false
   },
   "outputs": [
    {
     "data": {
      "image/png": "[encoded data removed]",
      "text/plain": [
       "<matplotlib.figure.Figure at 0x7f29f0b19ed0>"
      ]
     },
     "metadata": {},
     "output_type": "display_data"
    },
    {
     "name": "stdout",
     "output_type": "stream",
     "text": [
      "Maximum gain is 40 dB\n"
     ]
    },
    {
     "data": {
      "text/plain": [
       "<matplotlib.figure.Figure at 0x7f29f2ed5590>"
      ]
     },
     "metadata": {},
     "output_type": "display_data"
    }
   ],
   "source": [
    "#Example 5.1\n",
    "#The 741C is connected as a noniverting amplifier.What maximum gain can be used\n",
    "#that will still keep the amplifier's response flat to 10kHz.\n",
    "\n",
    "%matplotlib inline\n",
    "\n",
    "from scipy import pi\n",
    "from pylab import ylabel, xlabel, title, arange, plot, show, clf, subplot, semilogx, log10, arctan2, imag, real, savefig\n",
    "\n",
    "#Variable declaration\n",
    "f=arange(0,1000000)       #frequency range\n",
    "s=2.0j*pi*f\n",
    "A=200000                  #Gain of opamp at 0 Hz\n",
    "f0=5                      #first break frequency in Hz\n",
    "p=2.0*pi*f0\n",
    "\n",
    "#Calculation\n",
    "\n",
    "tf=A*p/(s+p)              #open loop gain\n",
    "\n",
    "#Magnitude plot\n",
    "clf()                     #clear the figure\n",
    "subplot(211)\n",
    "title('tf=p/(s+p)')\n",
    "semilogx(f,20*log10(abs(tf)))\n",
    "ylabel('Mag. Ratio (dB)')\n",
    "\n",
    "#Phase plot\n",
    "subplot(212)\n",
    "semilogx(f,arctan2(imag(tf),real(tf))*180.0/pi)\n",
    "ylabel('Phase (deg.)')\n",
    "xlabel('Freq (Hz)')\n",
    "show()\n",
    "savefig('fig1.png')      #savefig('fig1.eps')\n",
    "\n",
    "Amax=40                  #from the graph\n",
    "\n",
    "#Result\n",
    "print \"Maximum gain is\",Amax,\"dB\""
   ]
  },
  {
   "cell_type": "markdown",
   "metadata": {
    "collapsed": true
   },
   "source": [
    "## Example 5.2"
   ]
  },
  {
   "cell_type": "code",
   "execution_count": 2,
   "metadata": {
    "collapsed": false
   },
   "outputs": [
    {
     "name": "stdout",
     "output_type": "stream",
     "text": [
      "Gain equation is Aol(f)=A((1+(f/fo1)*j)*(1+(f/fo2)*j)\n",
      "A,the gain of the opamp at 0 Hz is 140000\n",
      "First break frequency fo1 is 6 Hz\n",
      "Second break frequency fo2 is 1.24 MHz\n"
     ]
    }
   ],
   "source": [
    "#Example 5.2\n",
    "#Using the frequency response and phase response curves obtained in figure 5-5\n",
    "#Obtain the equation for the MC1556 opamp. Also determine the approximate values\n",
    "#of the break frequencies.\n",
    "\n",
    "from __future__ import division        #to perform decimal division\n",
    "import math\n",
    "\n",
    "\n",
    "#Variable declaration\n",
    "phase=-157.5                           #Phase shift at about 3 MHz\n",
    "f=3*10**6\n",
    "fo1=6                                  #first break frequency,from the graph\n",
    "A=140000                               #Gain of the opamp at 0Hz\n",
    "\n",
    "\n",
    "#calculation\n",
    "k=-math.atan(f/fo1)*180/math.pi-phase\n",
    "fo2=f/math.tan(k*math.pi/180)          #second break frequency\n",
    "\n",
    "\n",
    "#result\n",
    "print \"Gain equation is Aol(f)=A((1+(f/fo1)*j)*(1+(f/fo2)*j)\"\n",
    "print \"A,the gain of the opamp at 0 Hz is\",A\n",
    "print \"First break frequency fo1 is\",fo1,\"Hz\"  \n",
    "print \"Second break frequency fo2 is\",round(fo2/10**6,2),\"MHz\"\n"
   ]
  },
  {
   "cell_type": "markdown",
   "metadata": {
    "collapsed": true
   },
   "source": [
    "## Example 5.3"
   ]
  },
  {
   "cell_type": "code",
   "execution_count": 7,
   "metadata": {
    "collapsed": false
   },
   "outputs": [
    {
     "data": {
      "image/png": "[encoded data removed]",
      "text/plain": [
       "<matplotlib.figure.Figure at 0x7f29f0b5c6d0>"
      ]
     },
     "metadata": {},
     "output_type": "display_data"
    },
    {
     "name": "stdout",
     "output_type": "stream",
     "text": [
      "From the plot it is seen that phase angle is -90 degree\n",
      "when the magnitude is o dB.Since the phase angle reaches >-180\n",
      "when the magnitude is 0dB, voltage follower is stable at 0dB\n"
     ]
    },
    {
     "data": {
      "text/plain": [
       "<matplotlib.figure.Figure at 0x7f29f26bd6d0>"
      ]
     },
     "metadata": {},
     "output_type": "display_data"
    }
   ],
   "source": [
    "\n",
    "#Example 5.3\n",
    "#Determine the stability of the voltage follower shown in figure 3-7.\n",
    "#Assume that the opamp is a 741 IC\n",
    "\n",
    "\n",
    "%matplotlib inline\n",
    "\n",
    "from scipy import pi\n",
    "from pylab import ylabel, xlabel, title, arange, plot, show, clf, subplot, semilogx, log10, arctan2, imag, real, savefig\n",
    "\n",
    "#Variable declaration\n",
    "f=arange(10,1000000)\n",
    "s=2.0j*pi*f\n",
    "A=200000\n",
    "f0=5\n",
    "p=2.0*pi*f0\n",
    "B=1                     #For voltage follower B=1\n",
    "\n",
    "#Calculation\n",
    "tf=A*p*B/(s+p)          #open loop gain\n",
    "\n",
    "#Magnitude plot\n",
    "clf()                   #clear the figure\n",
    "subplot(211)\n",
    "title('tf=p/(s+p)')\n",
    "semilogx(f,20*log10(abs(tf)))\n",
    "ylabel('Mag. Ratio (dB)')\n",
    "\n",
    "#Phase plot\n",
    "subplot(212)\n",
    "semilogx(f,arctan2(imag(tf),real(tf))*180.0/pi)\n",
    "ylabel('Phase (deg.)')\n",
    "xlabel('Freq (Hz)')\n",
    "\n",
    "show()\n",
    "savefig('fig1.png')      #savefig('fig1.eps')\n",
    "\n",
    "#Result\n",
    "print \"From the plot it is seen that phase angle is -90 degree\"\n",
    "print \"when the magnitude is o dB.Since the phase angle reaches >-180\"\n",
    "print \"when the magnitude is 0dB, voltage follower is stable at 0dB\""
   ]
  }
 ],
 "metadata": {
  "kernelspec": {
   "display_name": "Python 2",
   "language": "python",
   "name": "python2"
  },
  "language_info": {
   "codemirror_mode": {
    "name": "ipython",
    "version": 2
   },
   "file_extension": ".py",
   "mimetype": "text/x-python",
   "name": "python",
   "nbconvert_exporter": "python",
   "pygments_lexer": "ipython2",
   "version": "2.7.6"
  }
 },
 "nbformat": 4,
 "nbformat_minor": 0
}
