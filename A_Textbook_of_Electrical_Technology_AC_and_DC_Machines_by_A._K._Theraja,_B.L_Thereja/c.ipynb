{
 "metadata": {
  "name": "",
  "signature": "sha256:cd727f10a4caede23f6dcd22be7261834b049d15aeb309766271ec0c03a024c2"
 },
 "nbformat": 3,
 "nbformat_minor": 0,
 "worksheets": [
  {
   "cells": [
    {
     "cell_type": "heading",
     "level": 1,
     "metadata": {},
     "source": [
      "Chapter 36: Single-Phase Motors"
     ]
    },
    {
     "cell_type": "heading",
     "level": 2,
     "metadata": {},
     "source": [
      "Example Number 36.1, Page Number:1374"
     ]
    },
    {
     "cell_type": "code",
     "collapsed": false,
     "input": [
      "import math\n",
      "\n",
      "#variable declaration\n",
      "R1=1.86\n",
      "X1=2.56\n",
      "R2=3.56\n",
      "X2=2.56\n",
      "Xm=53.5\n",
      "r1=R1/2\n",
      "x1=X1/2\n",
      "r2=R2/2\n",
      "x2=X2/2\n",
      "xm=Xm/2\n",
      "v=110\n",
      "f=60\n",
      "s=0.05\n",
      "\n",
      "#calculations\n",
      "xo=xm+x2\n",
      "\n",
      "zf=(((r2/s)*xm)/(((r2/s)*(r2/s))+(xo*xo)))*xm\n",
      "jf=(((r2/s)*(r2/s)+(x2*xo))/(((r2/s)*(r2/s))+(xo*xo)))*xm\n",
      "Jf=math.degrees(math.atan(jf/zf))\n",
      "\n",
      "zb=(((r2/(2-s))*xm)/(((r2/s)*(r2/(2-s)))+(xo*xo)))*xm\n",
      "jb=(((r2/(2-s))*(r2/(2-s))+(x2*xo))/(((r2/(2-s))*(r2/(2-s)))+(xo*xo)))*xm\n",
      "Jb=math.degrees(math.atan(jb/zb))\n",
      "\n",
      "Z1=R1\n",
      "J1=X1\n",
      "z01=Z1+zf+zb\n",
      "j01=jf+jb+J1\n",
      "J01=math.degrees(math.atan(j01/z01))\n",
      "\n",
      "i1=v/z01\n",
      "vf=i1*zf\n",
      "vb=i1*zb\n",
      "z3=math.sqrt(((r2/s)*(r2/s))+(x2*x2))\n",
      "z5=math.sqrt(((r2/(2-s))*(r2/(2-s)))+(x2*x2))\n",
      "\n",
      "i3=vf/z3\n",
      "i5=vb/z5\n",
      "tf=(i3*i3*r2)/s\n",
      "tb=t5=(i5*i5*r2)/(2-s)\n",
      "t=tf-tb\n",
      "output=t*(1-s)\n",
      "\n",
      "#result\n",
      "print \"output = \",output"
     ],
     "language": "python",
     "metadata": {},
     "outputs": [
      {
       "output_type": "stream",
       "stream": "stdout",
       "text": [
        "output =  206.798750547\n"
       ]
      }
     ],
     "prompt_number": 9
    },
    {
     "cell_type": "heading",
     "level": 1,
     "metadata": {},
     "source": [
      "Example Number 36.2, Page Number:1375"
     ]
    },
    {
     "cell_type": "code",
     "collapsed": false,
     "input": [
      "import math\n",
      "\n",
      "#variable declaration\n",
      "p=185\n",
      "v=110\n",
      "f=50\n",
      "s=0.05\n",
      "R1=1.86\n",
      "X1=2.56\n",
      "Xo=53.5\n",
      "R2=3.56\n",
      "X2=2.56\n",
      "Xm=53.5\n",
      "cl=3.5#core loss\n",
      "fl=13.5#friction loss\n",
      "vf=(82.5/100)*v\n",
      "ic=(cl*100)/vf\n",
      "r1=R1/2\n",
      "x1=X1/2\n",
      "r2=R2/2\n",
      "x2=X2/2\n",
      "xm=Xm/2\n",
      "rc=vf/ic\n",
      "\n",
      "#calculations\n",
      "\n",
      "#motor 1\n",
      "c=1/rc #conductance of corebranch\n",
      "s=-(1/xm)#susceptance\n",
      "a1=(r2/s)/(((r2/s)*r2/s)+(x2*x2))#admittance\n",
      "a1j=-x2/(((r2/s)*r2/s)+(x2*x2))#admittance j\n",
      "yf=c+a1\n",
      "yfj=s+a1j\n",
      "zf=(yf*yf)+(yfj*yfj)\n",
      "zfr=yf/zf\n",
      "zfj=yfj/zf\n",
      "\n",
      "#motor 2\n",
      "a2=(r2/2-s)/(((r2/(2-s))*(r2/(2-s)))+(x2*x2))\n",
      "a2j=-x2/(((r2/(2-s))*(r2/(2-s)))+(x2*x2))\n",
      "Z1=R1\n",
      "J1=X1\n",
      "yb=yf+a2\n",
      "ybj=yfj+a2j\n",
      "zb1=(yb*yb)+(ybj*ybj)\n",
      "zbr=yb/zb1\n",
      "zbj=ybj/zb1\n",
      "z01=Z1+zf+zbr\n",
      "z01j=J1+zfj+zbj\n",
      "\n",
      "i1=v/z01\n",
      "vf=i1*zf\n",
      "vb=i1*zbr\n",
      "z3=math.sqrt(((r2/s)*(r2/s))+(x2*x2))\n",
      "z5=math.sqrt(((r2/(2-s))*(r2/(2-s)))+(x2*x2))\n",
      "\n",
      "i3=vf/z3\n",
      "i5=vb/z5\n",
      "tf=(i3*i3*r2)/s\n",
      "tb=t5=(i5*i5*r2)/(2-s)\n",
      "t=tf-tb\n",
      "watt=t*(1-s)\n",
      "net_output=watt-fl\n",
      "\n",
      "#result\n",
      "print \"Net output = \",net_output"
     ],
     "language": "python",
     "metadata": {},
     "outputs": [
      {
       "output_type": "stream",
       "stream": "stdout",
       "text": [
        "Net output =  -446.423232085\n"
       ]
      }
     ],
     "prompt_number": 4
    },
    {
     "cell_type": "heading",
     "level": 2,
     "metadata": {},
     "source": [
      "Example Number 36.3, Page Number:1376"
     ]
    },
    {
     "cell_type": "code",
     "collapsed": false,
     "input": [
      "import math\n",
      "\n",
      "#variable declaration\n",
      "w=250\n",
      "v=230\n",
      "f=50\n",
      "zm=4.5\n",
      "zmj=3.7\n",
      "za=9.5\n",
      "zaj=3.5\n",
      "\n",
      "#calculations\n",
      "zma=math.degrees(math.atan(zmj/zm))\n",
      "ialeadv=90-zma\n",
      "x=za*(math.tan(math.radians(ialeadv)))\n",
      "xc=x+zaj\n",
      "c=1000000/(xc*2*50*3.14)\n",
      "\n",
      "#result\n",
      "print \"C= \",c,\" uf\""
     ],
     "language": "python",
     "metadata": {},
     "outputs": [
      {
       "output_type": "stream",
       "stream": "stdout",
       "text": [
        "C=  211.551875951  uf\n"
       ]
      }
     ],
     "prompt_number": 25
    },
    {
     "cell_type": "heading",
     "level": 2,
     "metadata": {},
     "source": [
      "Example Number 36.4, Page Number:1393"
     ]
    },
    {
     "cell_type": "code",
     "collapsed": false,
     "input": [
      "\n",
      "#variable declaration\n",
      "\n",
      "p=250\n",
      "f=50\n",
      "v=220\n",
      "ndc=2000\n",
      "ia=1\n",
      "ra=20\n",
      "la=0.4\n",
      "\n",
      "#calculations\n",
      "ebdc=v-(ia*ra)\n",
      "#ac\n",
      "xa=2*3.14*f*la\n",
      "ebac=-(ia*ra)+math.sqrt((v*v)-((ia*xa)*(ia*xa)))\n",
      "nac=(ebac*ndc)/ebdc\n",
      "cos_phi=(ebac+(ia*ra))/v\n",
      "pmech=ebac*ia\n",
      "T=(pmech*9.55)/nac\n",
      "\n",
      "#result\n",
      "print \"Speed= \",nac,\" rpm\"\n",
      "print \"Torque= \",T,\" N-m\"\n",
      "print \"Power Factor= \",cos_phi,\" lag\""
     ],
     "language": "python",
     "metadata": {},
     "outputs": [
      {
       "output_type": "stream",
       "stream": "stdout",
       "text": [
        "Speed=  1606.22922133  rpm\n",
        "Torque=  0.955  N-m\n",
        "Power Factor=  0.821013282424  lag\n"
       ]
      }
     ],
     "prompt_number": 30
    },
    {
     "cell_type": "heading",
     "level": 2,
     "metadata": {},
     "source": [
      "Example Number 36.5, Page Number:1394"
     ]
    },
    {
     "cell_type": "code",
     "collapsed": false,
     "input": [
      "import math\n",
      "\n",
      "#variable declaration\n",
      "r=30\n",
      "l=0.5\n",
      "v=250\n",
      "idc=0.8\n",
      "ndc=2000\n",
      "f=50\n",
      "ia=0.8\n",
      "\n",
      "#calculations\n",
      "\n",
      "xa=2*3.14*f*l\n",
      "ra=r\n",
      "ebac=-(ia*ra)+math.sqrt((v*v)-((ia*xa)*(ia*xa)))\n",
      "ebdc=v-(r*idc)\n",
      "nac=(ndc*ebac)/ebdc\n",
      "cos_phi=(ebac+(ia*ra))/v\n",
      "\n",
      "#result\n",
      "print \"Speed= \",nac,\" rpm\"\n",
      "print \"Power Factor= \",cos_phi,\" lag\""
     ],
     "language": "python",
     "metadata": {},
     "outputs": [
      {
       "output_type": "stream",
       "stream": "stdout",
       "text": [
        "Speed=  1700.52062383  rpm\n",
        "Power Factor=  0.864635321971  lag\n"
       ]
      }
     ],
     "prompt_number": 36
    },
    {
     "cell_type": "heading",
     "level": 2,
     "metadata": {},
     "source": [
      "Example Number 36.6, Page Number:1396"
     ]
    },
    {
     "cell_type": "code",
     "collapsed": false,
     "input": [
      "import math\n",
      "\n",
      "#variable declaration\n",
      "f=50\n",
      "a=30\n",
      "w=8\n",
      "v=220\n",
      "v2=205\n",
      "pole=4\n",
      "\n",
      "#calculations\n",
      "\n",
      "ns=(120*f)/pole\n",
      "tsh=(9.55*w*1000)/ns\n",
      "alpha=0.5*(math.degrees(math.asin((v*v*math.sin(math.radians(2*a)))/(v2*v2))))\n",
      "\n",
      "#result\n",
      "print \"Torque angle if voltage drops to 205 V = \",alpha,\" degrees\""
     ],
     "language": "python",
     "metadata": {},
     "outputs": [
      {
       "output_type": "stream",
       "stream": "stdout",
       "text": [
        "Torque angle if voltage drops to 205 V =  42.9327261097  degrees\n"
       ]
      }
     ],
     "prompt_number": 38
    },
    {
     "cell_type": "code",
     "collapsed": false,
     "input": [],
     "language": "python",
     "metadata": {},
     "outputs": []
    }
   ],
   "metadata": {}
  }
 ]
}