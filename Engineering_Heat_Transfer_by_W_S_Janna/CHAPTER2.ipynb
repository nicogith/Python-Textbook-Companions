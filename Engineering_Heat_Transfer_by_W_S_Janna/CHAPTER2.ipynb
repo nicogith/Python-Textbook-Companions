{
 "metadata": {
  "name": "CHAPTER2"
 },
 "nbformat": 3,
 "nbformat_minor": 0,
 "worksheets": [
  {
   "cells": [
    {
     "cell_type": "heading",
     "level": 1,
     "metadata": {},
     "source": [
      "chapter 2 :Steady state Conduction in one dimension"
     ]
    },
    {
     "cell_type": "heading",
     "level": 3,
     "metadata": {},
     "source": [
      "Example 2.1 Page No.42"
     ]
    },
    {
     "cell_type": "code",
     "collapsed": false,
     "input": [
      "\n",
      "T3=-10.00\t\t# temperature of inside wall in degree Fahrenheit\n",
      "T0=70.0 \t  \t# temperature of outside wall in degree Fahrenheit\n",
      "dT=T0-T3          # overall temperature difference\n",
      "k1=0.38           # brick masonry\n",
      "k2=0.02           # glass fibre\n",
      "k3=0.063          # plywood\n",
      "dx1=4/12.0          # thickness of brick layer in ft\n",
      "dx2=3.5/12.0        # thickness of glass fibre layer in ft\n",
      "dx3=0.5/12.0        # thickness of plywood layer in ft\n",
      "A=1.0 # cross sectional area taken as 1 ft**2\n",
      "\n",
      "R1=dx1/(k1*A) # resistance of brick layer in (hr.degree Rankine)/BTU\n",
      "R2=dx2/(k2*A) # resistance of glass fibre layer in (hr.degree Rankine)/BTU\n",
      "R3=dx3/(k3*A) # resistance of plywood layer in (hr.degree Rankine)/BTU\n",
      "qx=(T0-T3)/(R1+R2+R3) \n",
      "\n",
      "print\"Resistance of brick layer is  \",round(R1,3),\"(hr.degree Rankine)/BTU\"\n",
      "print\"Resistance of glass fibre layer is \",round(R2,1),\"(hr.degree Rankine)/BTU\"\n",
      "print\"Resistance of plywood layer is  \",round(R3,3),\"(hr.degree Rankine)/BTU\"\n",
      "print\"Heat transfer through the composite wall is \",round(qx,2),\"(hr.degree Rankine)/BTU\"\n"
     ],
     "language": "python",
     "metadata": {},
     "outputs": [
      {
       "output_type": "stream",
       "stream": "stdout",
       "text": [
        "Resistance of brick layer is   0.877 (hr.degree Rankine)/BTU\n",
        "Resistance of glass fibre layer is  14.6 (hr.degree Rankine)/BTU\n",
        "Resistance of plywood layer is   0.661 (hr.degree Rankine)/BTU\n",
        "Heat transfer through the composite wall is  4.96 (hr.degree Rankine)/BTU\n"
       ]
      }
     ],
     "prompt_number": 10
    },
    {
     "cell_type": "heading",
     "level": 3,
     "metadata": {},
     "source": [
      "Example 2.2 Page No.45"
     ]
    },
    {
     "cell_type": "code",
     "collapsed": false,
     "input": [
      "\n",
      "k1=0.45           # thermal conductivity of brick\n",
      "k2a=0.15          # thermal conductivity of pine\n",
      "k3=0.814         # thermal conductivity of plaster board\n",
      "k2b=0.025       # thermal conductivity of air from appendix table D1\n",
      "A1=0.41*3       # cross sectional area of brick layer \n",
      "A2a=0.038*3     # cross sectional area of wall stud\n",
      "A2b=(41-3.8)*0.01*3 # cross sectional area of air layer\n",
      "A3=0.41*3     # cross sectional area of plastic layer \n",
      "dx1=0.1        # thickness of brick layer in m\n",
      "dx2=0.089      # thickness of wall stud and air layer in m\n",
      "dx3=0.013      # thickness of plastic layer in m\n",
      "\n",
      "R1=dx1/(k1*A1) # Resistance of brick layer in K/W\n",
      "R2=dx2/(k2a*A2a+k2b*A2b) # Resistance of wall stud and air layer in K/W\n",
      "R3=dx3/(k3*A3) # Resistance of plastic layer in K/W\n",
      "T1=25          # temperature of inside wall in degree celsius\n",
      "T0=0           # temperature of outside wall in degree celsius\n",
      "qx=(T1-T0)/(R1+R2+R3) # heat transfer through the composite wall in W\n",
      "\n",
      "print\"Resistance of brick layer is \",round(R1,3),\"k/W\"\n",
      "print\"Resistance of wall stud and air layer is  \",round(R2,2),\"k/W\"\n",
      "print\"Resistance of plastic layer is \",round(R3,3),\"k/W\"\n",
      "print\"Heat transfer through the composite wall is\",round(qx,1),\"W\"\n"
     ],
     "language": "python",
     "metadata": {},
     "outputs": [
      {
       "output_type": "stream",
       "stream": "stdout",
       "text": [
        "Resistance of brick layer is  0.181 k/W\n",
        "Resistance of wall stud and air layer is   1.98 k/W\n",
        "Resistance of plastic layer is  0.013 k/W\n",
        "Heat transfer through the composite wall is 11.5 W\n"
       ]
      }
     ],
     "prompt_number": 15
    },
    {
     "cell_type": "heading",
     "level": 3,
     "metadata": {},
     "source": [
      "Example 2.3 Page No. 50"
     ]
    },
    {
     "cell_type": "code",
     "collapsed": false,
     "input": [
      "\n",
      "k1=24.8      # thermal conductivity of 1C steel in BTU/(hr.ft.degree Rankine)from appendix table B2 \n",
      "k2=0.02      # thermal conductivity of styrofoam steel in BTU/(hr.ft.degree Rankine)\n",
      "k3=0.09      # thermal conductivity of fibreglass in BTU/(hr.ft.degree Rankine)\n",
      "hc1=0.79     # convection coefficient between the air and the vertical steel wall in BTU/(hr.ft**2.degree Rankine)\n",
      "hc2=150.0      # the convection coefficient between the ice water and the fiberglass\n",
      "A=1.0          # calculation based on per square foot\n",
      "dx1=0.04/12.0  #  thickness of steel in ft\n",
      "dx2=0.75/12.0  # thickness of styrofoam in ft\n",
      "dx3=0.25/12.0  # thickness of fiberglass in ft\n",
      "\n",
      "\n",
      "Rc1=1/(hc1*A) # Resistance from air to sheet metal\n",
      "Rk1=dx1/(k1*A) # Resistance of steel layer\n",
      "Rk2=dx2/(k2*A) # Resistance of styrofoam layer\n",
      "Rk3=dx3/(k3*A) # Resistance of fiberglass layer\n",
      "Rc2=1/(hc2*A) # Resistance from ice water to fiberglass\n",
      "U=1/(Rc1+Rk1+Rk2+Rk3+Rc2) # overall heat transfer coefficient \n",
      "T_inf1=90     # temperature of air in degree F\n",
      "T_inf2=32    # temperature of mixture of ice and water in degree F\n",
      "q=U*A*(T_inf1-T_inf2)\n",
      "\n",
      "print\"Resistance from air to sheet metal:  \",round(Rc1,3),\"degree F.hr/BTU\"\n",
      "print\"Resistance of steel layer is \",round(Rk1,4),\"degree F.hr/BTU\"\n",
      "print\"Resistance of styrofoam layer is \",round(Rk2,3),\"degree F.hr/BTU\"\n",
      "print\"Resistance of fiberglass layer is \",round(Rk3,3),\"degree F.hr/BTU\"\n",
      "print\"Resistance from ice water to fiberglass is \",round(Rc2,4),\"degree F.hr/BTU\"\n",
      "print\"The overall heat transfer coefficient is  \",round(U,3),\"BTU/hr ft**2\"\n",
      "print\"The heat transfer rate is %.1f BTU/hr\",round(q,2),\"BTU/hr\"\n",
      "\n"
     ],
     "language": "python",
     "metadata": {},
     "outputs": [
      {
       "output_type": "stream",
       "stream": "stdout",
       "text": [
        "Resistance from air to sheet metal:   1.266 degree F.hr/BTU\n",
        "Resistance of steel layer is  0.0001 degree F.hr/BTU\n",
        "Resistance of styrofoam layer is  3.125 degree F.hr/BTU\n",
        "Resistance of fiberglass layer is  0.231 degree F.hr/BTU\n",
        "Resistance from ice water to fiberglass is  0.0067 degree F.hr/BTU\n",
        "The overall heat transfer coefficient is   0.216 BTU/hr ft**2\n",
        "The heat transfer rate is %.1f BTU/hr 12.53 BTU/hr\n"
       ]
      }
     ],
     "prompt_number": 21
    },
    {
     "cell_type": "heading",
     "level": 3,
     "metadata": {},
     "source": [
      "Example 2.4 Page No 55."
     ]
    },
    {
     "cell_type": "code",
     "collapsed": false,
     "input": [
      "\n",
      "k=14.4       # thermal conductivity of 304 stainless steel in W/(m.K) from appendix table B2\n",
      "D2=32.39     #Diameter (cm)\n",
      "D1=29.53\n",
      "T1=40         #Temprature\n",
      "T2=38\n",
      "\n",
      "import math\n",
      "Qr_per_length=(2*3.14*k)*(T1-T2)/math.log(D2/D1)#format(6)\n",
      "\n",
      "print\"The heat transfer through the pipe wall per unit length of pipe is \",round(Qr_per_length/1000,2),\"kw/m\"\n"
     ],
     "language": "python",
     "metadata": {},
     "outputs": [
      {
       "output_type": "stream",
       "stream": "stdout",
       "text": [
        "The heat transfer through the pipe wall per unit length of pipe is  1.96 kw/m\n"
       ]
      }
     ],
     "prompt_number": 23
    },
    {
     "cell_type": "heading",
     "level": 3,
     "metadata": {},
     "source": [
      "Example 2.5 Page NO. 58"
     ]
    },
    {
     "cell_type": "code",
     "collapsed": false,
     "input": [
      "\n",
      "k1=231             # thermal conductivity of copper in BTU/(hr.ft.degree Rankine)from appendix table B1 \n",
      "k2=0.02            # thermal conductivity of insuLtion in BTU/(hr.ft.degree Rankine)\n",
      "D2=1.125/12       # outer diameter in ft\n",
      "D1=0.08792        # inner diameter in ft\n",
      "R2=D2/2          # outer radius\n",
      "R1=D1/2          # inner radius\n",
      "t=0.5/12          # wall thickness of insulation in ft\n",
      "R3=R2+t\n",
      "LRk1=(log(R2/R1))/(2*3.14*k1) # product of length and copper layer resistance\n",
      "LRk2=(log(R3/R2))/(2*3.14*k2) # product of length and insulation layer resistance\n",
      "T1=40 # temperature of inside wall of tubing in degree fahrenheit\n",
      "T3=70 # temperature of surface temperature of insulation degree fahrenheit\n",
      "q_per_L=(T1-T3)/(LRk1+LRk2) # heat transferred per unit length in BTU/(hr.ft)\n",
      "\n",
      "print\"The heat transferred per unit length is \",round(q_per_L,2),\" BTU/(hr.ft\"\n"
     ],
     "language": "python",
     "metadata": {},
     "outputs": [
      {
       "output_type": "stream",
       "stream": "stdout",
       "text": [
        "The heat transferred per unit length is  -5.92  BTU/(hr.ft\n"
       ]
      }
     ],
     "prompt_number": 26
    },
    {
     "cell_type": "heading",
     "level": 3,
     "metadata": {},
     "source": [
      "Example 2.6 Page No 63"
     ]
    },
    {
     "cell_type": "code",
     "collapsed": false,
     "input": [
      "\n",
      "k12=24.8      # thermal conductivity of 1C steel in BTU/(hr.ft.degree Rankine)from appendix table B2 \n",
      "k23=.023      # thermal conductivity of glass wool insulation in BTU/(hr.ft.degree Rankine)from appendix table B3 \n",
      "D2=6.625/12.0  # outer diameter in ft\n",
      "D1=0.5054    # inner diameter in ft\n",
      "t=2/12.0        # wall thickness of insulation in ft\n",
      "D3=D2+t\n",
      "hc1=12        # convection coefficient between the air and the pipe wall in BTU/(hr. sq.ft.degree Rankine).\n",
      "hc2=1.5       # convection coefficient between the glass wool and the ambient air in  BTU/(hr. sq.ft.degree Rankine).\n",
      "\n",
      "U=1/((1/hc1)+(D1*log(D2/D1)/k12)+(D1*log(D3/D2)/k23)+(D1/(hc2*D3)))\n",
      "\n",
      "print\"Overall heat transfer coefficient is  \",round(U,4),\" BTU/(hr.sq.ft. Fahrenheit)\"\n"
     ],
     "language": "python",
     "metadata": {},
     "outputs": [
      {
       "output_type": "stream",
       "stream": "stdout",
       "text": [
        "Overall heat transfer coefficient is   0.1596  BTU/(hr.sq.ft. Fahrenheit)\n"
       ]
      }
     ],
     "prompt_number": 31
    },
    {
     "cell_type": "heading",
     "level": 3,
     "metadata": {},
     "source": [
      "Example 2.7 Page NO.72"
     ]
    },
    {
     "cell_type": "code",
     "collapsed": false,
     "input": [
      "\n",
      "k=14.4       # thermal conductivity of 304 stainless steel in  W/(m.K)from appendix table B2 \n",
      "T1=543.0     # temperature in K at point 1\n",
      "T2=460.0     # temperature in K at point 2\n",
      "dT=T1-T2     # temperature difference between point 1 and 2\n",
      "dz12=0.035   # distance between thermocouple 1 and 2 in cm\n",
      "\n",
      "dz56=4.45    # distance between thermocouple 5 and 6 in cm\n",
      "dz6i=3.81    # distance between thermocouple 6 and interface in cm\n",
      "dz5i=dz56+dz6i # distance between thermocouple 5 and interface in cm\n",
      "T5=374       # temperature in K at point 5\n",
      "T6=366       # temperature in K at point 6\n",
      "dzi7=2.45       # distance between thermocouple 7 and interface in cm\n",
      "dz78=4.45       # distance between thermocouple 7 and 8 in cm\n",
      "dzi8=dzi7+dz78  # distance between thermocouple 8 and interface in cm\n",
      "T7=349          #  temperature in K at point 7\n",
      "T8=337          # temperature in K at point 8\n",
      "\n",
      "qz_per_A=k*dT/dz12 # heat flow calculated in W/m**2 calculated using Fourier's law\n",
      "T_ial=T5-(dz5i*(T5-T6)/dz56) # temperature of aluminium interface in K\n",
      "T_img=dzi8*(T7-T8)/dz78+T8   # temperature of magnesium interface in K\n",
      "T_img_=355.8                 #Approx value in the book\n",
      "Rtc=(T_ial-T_img_)/(qz_per_A)\n",
      "\n",
      "\n",
      "print\"The required thermal contact resistance is\",round(Rtc,7),\"K sq.m/W\"\n"
     ],
     "language": "python",
     "metadata": {},
     "outputs": [
      {
       "output_type": "stream",
       "stream": "stdout",
       "text": [
        "The required thermal contact resistance is 9.81e-05 K sq.m/W\n"
       ]
      }
     ],
     "prompt_number": 30
    },
    {
     "cell_type": "heading",
     "level": 3,
     "metadata": {},
     "source": [
      "Example 2.8 Page No. 85"
     ]
    },
    {
     "cell_type": "code",
     "collapsed": false,
     "input": [
      "%matplotlib inline"
     ],
     "language": "python",
     "metadata": {},
     "outputs": []
    },
    {
     "cell_type": "code",
     "collapsed": false,
     "input": [
      "\n",
      "import math\n",
      "k=24.8                  # thermal conductivity of 1C steel in BTU/(hr.ft.degree Rankine)from appendix table B2\n",
      "D=(5.0/16.0)/12.0           # diameter of the rod in ft\n",
      "P=(math.pi*D)           # Circumference of the rod in ft\n",
      "A=(math.pi/4)*D**2      # Cross sectional area of the rod in sq.ft\n",
      "hc=1.0 # assuming the convective heat transfer coefficient as 1 BTU/(hr. sq.ft. degree Rankine)\n",
      "\n",
      "m=math.sqrt(hc*P/(k*A))\n",
      "L=(9/2.0)/12.0 # length of rod in ft\n",
      "T_inf=70.0\n",
      "T_w=200.0\n",
      "dT=T_w-T_inf\n",
      "const=dT/math.cosh(m*L)\n",
      "\n",
      "qz=k*A*m*dT*tanh(m*L)\n",
      "\n",
      "mL=m*L\n",
      "efficiency=0.78       # from fig. 2.30\n",
      "\n",
      "effectiveness=math.sqrt(k*P/(hc*A))*tanh(mL)\n",
      "\n",
      "\n",
      "print\"(b)The heat transferred is \",round(qz,2),\"BTU/hr\"\n",
      "print\"(c)The efficiency found from the graph in figure 2.30 is\",efficiency\n",
      "print\"(d)The effectiveness is found to be\",round(effectiveness,1)\n",
      "\n",
      "\n",
      "import matplotlib.pyplot as plt\n",
      "fig = plt.figure()\n",
      "ax = fig.add_subplot(111)\n",
      "\n",
      "mL1=[0,1,1.2,5]\n",
      "n1=[0,0.2,0.25,0.25]\n",
      "\n",
      "mL2=[0,1,1.8,5]\n",
      "n2=[0,0.35,0.5,0.5]\n",
      "\n",
      "mL3=[0,1,2,5]\n",
      "n3=[0,0.75,1,1]\n",
      "mL4=[0,1,2,5]\n",
      "n4=[0,1.5,2,2]\n",
      "\n",
      "xlabel(\"mL\") \n",
      "ylabel(\"n  \") \n",
      "plt.xlim((0,6))\n",
      "plt.ylim((0,2.5))\n",
      "\n",
      "ax.annotate('(0.25)', xy=(5,0.25))\n",
      "ax.annotate('(0.5)', xy=(5,0.5))\n",
      "ax.annotate('(1)', xy=(5,1))\n",
      "ax.annotate('(2)', xy=(5,2))\n",
      "a1=plot(mL1,n1)\n",
      "a2=plot(mL2,n2)\n",
      "a3=plot(mL3,n3)\n",
      "a4=plot(mL4,n4)\n",
      "\n",
      "import matplotlib.pyplot as plt\n",
      "fig = plt.figure()\n",
      "ax = fig.add_subplot(111)\n",
      "\n",
      "z1=[0,3,4.8]\n",
      "T1=[200,165,158]\n",
      "z2=[0,4.8]\n",
      "T2=[140,140]\n",
      "z3=[0,4.8]\n",
      "T3=[130,130]\n",
      "z4=[4.8,4.8]\n",
      "T4=[140,130]\n",
      "\n",
      "xlabel(\"z (m)\") \n",
      "ylabel(\"T  (K)\") \n",
      "plt.xlim((0,5.5))\n",
      "plt.ylim((120,200))\n",
      "\n",
      "ax.annotate('(5/16 in)', xy=(4.85,135))\n",
      "a1=plot(z1,T1)\n",
      "a2=plot(z2,T2)\n",
      "a3=plot(z3,T3)\n",
      "a4=plot(z4,T4)\n",
      "\n"
     ],
     "language": "python",
     "metadata": {},
     "outputs": [
      {
       "output_type": "stream",
       "stream": "stdout",
       "text": [
        "(b)The heat transferred is  3.13 BTU/hr\n",
        "(c)The efficiency found from the graph in figure 2.30 is 0.78\n",
        "(d)The effectiveness is found to be 45.2\n"
       ]
      },
      {
       "output_type": "display_data",
       "png": "[encoded data removed]"
      },
      {
       "output_type": "display_data",
       "png": "[encoded data removed]"
      }
     ],
     "prompt_number": 1
    },
    {
     "cell_type": "heading",
     "level": 3,
     "metadata": {},
     "source": [
      "Example 2.9 Page No. 90"
     ]
    },
    {
     "cell_type": "code",
     "collapsed": false,
     "input": [
      "\n",
      "k=136.0             # thermal conductivity of aluminium in BTU/(hr.ft.degree Rankine)from appendix table B1\n",
      "L=9/(8*12.0)        #length in ft\n",
      "W=9/(4*12.0)          #width in ft\n",
      "delta=0.002604       #ft\n",
      "hc=0.8             # the convective heat transfer coefficient estimated as 1 BTU/(hr.ft**2. degree Rankine)\n",
      "T_w=1000.0             # the root temperature in degree fahrenheit\n",
      "T_inf=90.0             # the ambient temperature in degree fahrenheit\n",
      "\n",
      "import math\n",
      "m=math.sqrt(hc/(k*delta))\n",
      "P=2*W\n",
      "A=2*delta*W\n",
      "qz1=math.sqrt(hc*P*k*A)*(T_w-T_inf)*(sinh(m*L)+(hc/(m*k)*cosh(m*L)))/(cosh(m*L)+(hc/(m*k)*sinh(m*L)))\n",
      "qz2=math.sqrt(k*A*hc*P)*(T_w-T_inf)*math.tanh(m*L)\n",
      "Lc=L+delta\n",
      "qz3=k*A*m*(T_w-T_inf)*math.tanh(m*L*(1+delta/Lc))\n",
      "\n",
      "print\"(a)The heat transferred is  \",round(qz1,2),\"BTU/hr\"\n",
      "print\"(b)The heat transferred is \",round(qz2,2),\"BTU/hr      In the book the answer is incorrect\"\n",
      "print\"(c)The heat transferred is \",round(qz3,2),\" BTU/hr\"\n"
     ],
     "language": "python",
     "metadata": {},
     "outputs": [
      {
       "output_type": "stream",
       "stream": "stdout",
       "text": [
        "(a)The heat transferred is   26.12 BTU/hr\n",
        "(b)The heat transferred is  25.43 BTU/hr      In the book the answer is incorrect\n",
        "(c)The heat transferred is  26.1  BTU/hr\n"
       ]
      }
     ],
     "prompt_number": 75
    },
    {
     "cell_type": "heading",
     "level": 3,
     "metadata": {},
     "source": [
      "Example 2.10 Page No 94"
     ]
    },
    {
     "cell_type": "code",
     "collapsed": false,
     "input": [
      "\n",
      "k=8.32           # thermal conductivity  BTU/(hr.ft.degree Rankine)\n",
      "hc=400.0           # the convective heat transfer coefficient given in BTU/(hr.ft**2. degree Rankine)\n",
      "\n",
      "import math\n",
      "delta_opt=0.55/(12*2)\n",
      "Lc=math.sqrt(delta_opt*k/(0.583*hc))\n",
      "\n",
      "A=Lc*delta_opt\n",
      "parameter=Lc**1.5*math.sqrt(hc/(k*A))\n",
      "efficiency=0.6\n",
      "W=1/(2.0*12.0)   # width in ft\n",
      "T_w=190.0       # wall temperature in degree fahrenheit\n",
      "T_inf=58.0      # ambient temperature in degree fahrenheit\n",
      "L=1.0           # length in ft\n",
      "delta=W/2.0 \n",
      "q_ac=efficiency*hc*2*W*math.sqrt(L**2+delta**2)*(T_w-T_inf)\n",
      "\n",
      "print\"(a)The optimum length is  \",round(Lc*12,2),\"inch\"\n",
      "print\"(b)The actual heat transferred is \",round(q_ac,2),\"BTU/hr.  NOTE: In the book answer is incorrect\"\n"
     ],
     "language": "python",
     "metadata": {},
     "outputs": [
      {
       "output_type": "stream",
       "stream": "stdout",
       "text": [
        "(a)The optimum length is   0.34 inch\n",
        "(b)The actual heat transferred is  2640.57 BTU/hr.  NOTE: In the book answer is incorrect\n"
       ]
      }
     ],
     "prompt_number": 35
    },
    {
     "cell_type": "heading",
     "level": 3,
     "metadata": {},
     "source": [
      "Example 2.11 Page No 95"
     ]
    },
    {
     "cell_type": "code",
     "collapsed": false,
     "input": [
      "\n",
      "N=9            # number of fins\n",
      "delta=0.003/2.0 \n",
      "L=0.025\n",
      "Lc=L+delta\n",
      "R=0.219/2\n",
      "R2c=R+delta\n",
      "R1=R-L\n",
      "T_w=260       # root wall temperature in degree celsius\n",
      "T_inf=27      # ambient temperature in degree celsius\n",
      "hc=15 \n",
      "k=52          # thermal conductivity of cast iron in W/(m.K)from appendix table B2\n",
      "\n",
      "import math\n",
      "Ap=2*delta*Lc\n",
      "As=2*math.pi*(R2c**2-R1**2)\n",
      "radius_ratio=R2c/R1    # for finding efficiency from figure 2.38\n",
      "variable=Lc**1.5*math.sqrt(hc/(k*Ap))\n",
      "efficiency=0.93        # efficiency from figure 2.38\n",
      "qf=N*efficiency*As*hc*(T_w-T_inf)\n",
      "Sp=0.0127              # fin spacing\n",
      "Asw=2*math.pi*R1*Sp*N     # exposed surface area\n",
      "qw=hc*Asw*(T_w-T_inf)\n",
      "q=qf+qw\n",
      "\n",
      "H=N*(Sp+2*delta)\n",
      "Aso=2*math.pi*R1*H       # surface area without fins\n",
      "qo=hc*Aso*(T_w-T_inf)\n",
      "\n",
      "effectiveness=q/qo     # effectiveness defined as ratio of heat transferred with fins to heat transferred without fins\n",
      "\n",
      "print\"(a)The total heat transferred from the cylinder is  \",round(q,0),\"W\"\n",
      "print\"(b)The Heat transferred without fins is W\",round(qo,0),\"W\"\n",
      "print\"(c)The fin effectiveness is \",round(effectiveness,2)\n"
     ],
     "language": "python",
     "metadata": {},
     "outputs": [
      {
       "output_type": "stream",
       "stream": "stdout",
       "text": [
        "(a)The total heat transferred from the cylinder is   1164.0 W\n",
        "(b)The Heat transferred without fins is W 262.0 W\n",
        "(c)The fin effectiveness is  4.44\n"
       ]
      }
     ],
     "prompt_number": 9
    },
    {
     "cell_type": "code",
     "collapsed": false,
     "input": [],
     "language": "python",
     "metadata": {},
     "outputs": []
    }
   ],
   "metadata": {}
  }
 ]
}