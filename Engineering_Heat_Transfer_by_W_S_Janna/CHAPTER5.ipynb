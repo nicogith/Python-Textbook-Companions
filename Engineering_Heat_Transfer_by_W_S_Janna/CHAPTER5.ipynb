{
 "metadata": {
  "name": "CHAPTER5"
 },
 "nbformat": 3,
 "nbformat_minor": 0,
 "worksheets": [
  {
   "cells": [
    {
     "cell_type": "heading",
     "level": 1,
     "metadata": {},
     "source": [
      "Chapter5 : Introduction to Convection"
     ]
    },
    {
     "cell_type": "heading",
     "level": 3,
     "metadata": {},
     "source": [
      "Example 5.1 Page NO. 248"
     ]
    },
    {
     "cell_type": "code",
     "collapsed": false,
     "input": [
      "\n",
      "Cp=871\n",
      "Gamma=1.3\n",
      "\n",
      "Cv=Cp/Gamma\n",
      "dT=20\n",
      "m=5\n",
      "Qp=m*Cp*dT\n",
      "Qv=m*Cv*dT\n",
      "\n",
      "print\" The heat required at constant pressure is \",Qp/1000,\"kj\"\n",
      "print\"The heat required at constant volume is \",Qv/1000,\"kj\"\n"
     ],
     "language": "python",
     "metadata": {},
     "outputs": [
      {
       "output_type": "stream",
       "stream": "stdout",
       "text": [
        " The heat required at constant pressure is  87 kj\n",
        "The heat required at constant volume is  67.0 kj\n"
       ]
      }
     ],
     "prompt_number": 4
    },
    {
     "cell_type": "heading",
     "level": 3,
     "metadata": {},
     "source": [
      "Example 5.2 Page NO.250"
     ]
    },
    {
     "cell_type": "code",
     "collapsed": false,
     "input": [
      "\n",
      "T1_Fr=-50\n",
      "T2_Fr=-40\n",
      "rou1_Fr=1.546*1000\n",
      "rou2_Fr=1.518*1000\n",
      "\n",
      "beta_Fr=-(rou1_Fr-rou2_Fr)/(rou1_Fr*(T1_Fr-T2_Fr))\n",
      "beta_acc_Fr=2.63e-3 # the accurate value of volumetric thermal expansion coefficient for Freon-12\n",
      "error_Fr=(beta_acc_Fr-beta_Fr)*100/beta_acc_Fr\n",
      "T1_He=366\n",
      "T2_He=477\n",
      "rou1_He=0.13280\n",
      "rou2_He=0.10204\n",
      "beta_He=-(rou1_He-rou2_He)/(rou1_He*(T1_He-T2_He))\n",
      "\n",
      "print\"The volumetric thermal expansion coefficient calculated for Freon-12 is \",round(beta_Fr,6),\"1/K\"\n",
      "print\"The error introduced in the case of Freon-12 is  percent\",round(error_Fr,0),\"percent\"\n",
      "print\"The volumetric thermal expansion coefficient calculated for Freon-12 is \",round(beta_He,6),\"1/K\"\n"
     ],
     "language": "python",
     "metadata": {},
     "outputs": [
      {
       "output_type": "stream",
       "stream": "stdout",
       "text": [
        "The volumetric thermal expansion coefficient calculated for Freon-12 is  0.001811 1/K\n",
        "The error introduced in the case of Freon-12 is  percent 31.0 percent\n",
        "The volumetric thermal expansion coefficient calculated for Freon-12 is  0.002087 1/K\n"
       ]
      }
     ],
     "prompt_number": 1
    },
    {
     "cell_type": "code",
     "collapsed": false,
     "input": [],
     "language": "python",
     "metadata": {},
     "outputs": []
    }
   ],
   "metadata": {}
  }
 ]
}