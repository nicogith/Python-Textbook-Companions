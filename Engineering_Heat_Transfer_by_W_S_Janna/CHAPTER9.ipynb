{
 "metadata": {
  "name": "CHAPTER9"
 },
 "nbformat": 3,
 "nbformat_minor": 0,
 "worksheets": [
  {
   "cells": [
    {
     "cell_type": "heading",
     "level": 1,
     "metadata": {},
     "source": [
      "Chapter 9: Heat Exchanger"
     ]
    },
    {
     "cell_type": "heading",
     "level": 3,
     "metadata": {},
     "source": [
      "Example 9.1 Page No.458"
     ]
    },
    {
     "cell_type": "code",
     "collapsed": false,
     "input": [
      "\n",
      "T1=100.0 \n",
      "T2=75.0\n",
      "t1=5.0\n",
      "t2=50.0\n",
      "\n",
      "import math\n",
      "LMTD_counter=((T1-t2)-(T2-t1))/(math.log((T1-t2)/(T2-t1)))\n",
      "LMTD_parallel=((T1-t1)-(T2-t2))/(math.log((T1-t1)/(T2-t2)))\n",
      "\n",
      "print\"The LMTD for counter flow configuration is  \",round(LMTD_counter,1),\"C\"\n",
      "print\"The LMTD for parallel flow configuration is \",round(LMTD_parallel,2),\"C\""
     ],
     "language": "python",
     "metadata": {},
     "outputs": [
      {
       "output_type": "stream",
       "stream": "stdout",
       "text": [
        "The LMTD for counter flow configuration is   59.4 C\n",
        "The LMTD for parallel flow configuration is  52.43 C\n"
       ]
      }
     ],
     "prompt_number": 2
    },
    {
     "cell_type": "heading",
     "level": 3,
     "metadata": {},
     "source": [
      "Example 9.2 Page No. 459"
     ]
    },
    {
     "cell_type": "code",
     "collapsed": false,
     "input": [
      "\n",
      "T1=250\n",
      "T2=150\n",
      "t1=100\n",
      "t2=150\n",
      "\n",
      "import math\n",
      "LMTD_counter=((T1-t2)-(T2-t1))/(math.log((T1-t2)/(T2-t1)));\n",
      "LMTD_parrelel=0\n",
      "\n",
      "print\"The LMTD for counter flow configuration is\",round(LMTD_counter,1),\"C\"\n",
      "print\"if parallel flow is to give  equal  outlet  temperatures,then the area  needed  must be infinite which is not feasible economically.\"\n",
      "print\"The LMTD for parrelel flow configuration is\",LMTD_parrelel,\"C\"\n"
     ],
     "language": "python",
     "metadata": {},
     "outputs": [
      {
       "output_type": "stream",
       "stream": "stdout",
       "text": [
        "The LMTD for counter flow configuration is 72.1 C\n",
        "if parallel flow is to give  equal  outlet  temperatures,then the area  needed  must be infinite which is not feasible economically.\n",
        "The LMTD for parrelel flow configuration is 0 C\n"
       ]
      }
     ],
     "prompt_number": 8
    },
    {
     "cell_type": "heading",
     "level": 3,
     "metadata": {},
     "source": [
      "Example 9.3 Page No.463"
     ]
    },
    {
     "cell_type": "code",
     "collapsed": false,
     "input": [
      "\n",
      "rou_1= 0.985*62.4        # density in lbm/ft**3 \n",
      "cp_1=0.9994              # specific heat BTU/(lbm-degree Rankine) \n",
      "v_1= 0.514e-5            # viscosity in ft**2/s \n",
      "kf_1 = 0.376             # thermal conductivity in BTU/(hr.ft.degree Rankine) \n",
      "a_1 = 6.02e-3            # diffusivity in ft**2/hr \n",
      "Pr_1 = 3.02              #  Prandtl Number \n",
      "m_1=5000                 # mass flow rate in lbm/hr\n",
      "T_1=195                  # temperature in degree F\n",
      "rou_2= 1.087*62.4        # density in lbm/ft**3 \n",
      "cp_2=0.612               # specific heat BTU/(lbm-degree Rankine) \n",
      "v_2= 5.11e-5             # viscosity in ft**2/s \n",
      "kf_2 = 0.150             # thermal conductivity in BTU/(hr.ft.degree Rankine) \n",
      "a_2 = 3.61e-3            # diffusivity in ft**2/hr \n",
      "Pr_2 = 51                # Prandtl Number \n",
      "m_2=12000                # mass flow rate in lbm/hr\n",
      "T_2=85                   # temperature in degree F\n",
      "ID_a=0.1674\n",
      "ID_p=0.1076\n",
      "OD_p=1.375/12\n",
      "A_p=math.pi*ID_p**2/4\n",
      "A_a=math.pi*((ID_a)**2-(OD_p)**2)/4\n",
      "\n",
      "D_h=ID_a-OD_p\n",
      "D_e=(ID_a**2-OD_p**2)/(OD_p)\n",
      "\n",
      "Re_1=(m_1/3600.0)*(ID_p)/(v_1*rou_1*A_p)\n",
      "Re_2=(m_2/3600.0)*(D_e)/(v_2*rou_2*A_a)\n",
      "\n",
      "Nu_1=0.023*(Re_1)**(4/5.0)*(Pr_1)**0.3\n",
      "Nu_2=0.023*(Re_2)**(4/5.0)*(Pr_2)**0.4\n",
      "\n",
      "h_1i=Nu_1*kf_1/ID_p\n",
      "h_1o=h_1i*ID_p/OD_p\n",
      "h_2=Nu_2*kf_2/D_e\n",
      "\n",
      "Uo=1/((1/h_1o)+(1/h_2))\n",
      "R=(m_2*cp_2)/(m_1*cp_1)\n",
      "L=20\n",
      "A=math.pi*OD_p*L\n",
      "T1=195\n",
      "t1=85\n",
      "T2=((T1*(R-1))-(R*t1*(1-exp((Uo*A*(R-1))/(m_2*cp_2)))))/(R*exp(Uo*A*(R-1)/(m_2*cp_2))-1)\n",
      "t2=t1+(T1-T2)/R\n",
      "print\"The outlet temperature of Ethylene glycol is %.1f degree F\",round(t2,1),\"F\"\n"
     ],
     "language": "python",
     "metadata": {},
     "outputs": [
      {
       "output_type": "stream",
       "stream": "stdout",
       "text": [
        "The outlet temperature of Ethylene glycol is %.1f degree F 99.4 F\n"
       ]
      }
     ],
     "prompt_number": 14
    },
    {
     "cell_type": "heading",
     "level": 3,
     "metadata": {},
     "source": [
      "Example 9.4 Page No. 467"
     ]
    },
    {
     "cell_type": "code",
     "collapsed": false,
     "input": [
      "\n",
      "rou_1= 1.088 \t\t# density in kg/m**3 \n",
      "cp_1= 1007\t\t # specific heat in J/(kg*K) \n",
      "v_1= 18.2e-6\t\t # viscosity in m**2/s  \n",
      "Pr_1 =0.703 \t\t# Prandtl Number \n",
      "kf_1= 0.02814 \t\t# thermal conductivity in W/(m.K)\n",
      "a_1 = 0.26e-4 \t\t# diffusivity in m**2/s \n",
      "m_1=100 \t\t                # mass flow rate in kg/hr\n",
      "t1_air=20+273 \n",
      "t2_air=80+273\n",
      "rou_2= 1.0732\t\t # density in kg/m**3 \n",
      "cp_2= 1013 \t\t# specific heat in J/(kg*K) \n",
      "v_2= 21.67e-6 \t               #viscosity in m**2/s  \n",
      "Pr_2 =0.702 \t\t# Prandtl Number \n",
      "kf_2= 0.03352 \t\t# thermal conductivity in W/(m.K)\n",
      "a_2 = 0.3084e-4 \t\t# diffusivity in m**2/s \n",
      "m_2=90\t\t\t # mass flow rate in kg/hr\n",
      "T1_CO2=600 \n",
      "ID_a=.098\n",
      "ID_p=.07384\n",
      "OD_p=.07938\n",
      "\n",
      "import math\n",
      "A_p=math.pi*ID_p**(2)/4.0\n",
      "A_a=math.pi*((ID_a)**2-(OD_p)**2)/4.0\n",
      "\n",
      "q_air=(m_1/3600.0)*(cp_1)*(t2_air-t1_air)\n",
      "T2_CO2=T1_CO2-(q_air/(m_2*cp_2/3600.0))\n",
      "\n",
      "LMTD_counter=((T1_CO2-t2_air)-(T2_CO2-t1_air))/(log((T1_CO2-t2_air)/(T2_CO2-t1_air)))\n",
      "D_h=ID_a-OD_p\n",
      "D_e=(ID_a**2-OD_p**2)/(OD_p)\n",
      "\n",
      "Re_1=(m_1/3600.0)*(ID_p)/(v_1*rou_1*A_p)\n",
      "Re_2=(m_2/3600.0)*(D_e)/(v_2*rou_2*A_a)\n",
      "\n",
      "Nu_1=0.023*(Re_1)**(0.8)*(Pr_1)**0.3\n",
      "Nu_2=0.023*(Re_2)**(0.8)*(Pr_2)**0.4\n",
      "\n",
      "\n",
      "h_1i=Nu_1*kf_1/ID_p\n",
      "h_1o=h_1i*ID_p/OD_p\n",
      "h_2=Nu_2*kf_2/D_e\n",
      "\n",
      "Rd_air=0.0004\n",
      "Rd_CO2=0.002\n",
      "\n",
      "Uo=1/((1/h_1o)+(1/h_2))\n",
      "Uo=1/((1/Uo)+Rd_air+Rd_CO2)\n",
      "\n",
      "A=q_air/(Uo*LMTD_counter)\n",
      "\n",
      "L=(A/(math.pi*OD_p))   # length of each exchanger\n",
      "L_available=2          # available exchanger length\n",
      "N=L_available/L        # no. of exchangers\n",
      "\n",
      "fp=0.0245              #friction factor for air fom figure 6.14 corresponding to Re\n",
      "fa=0.033               #friction factor for cCO2fom figure 6.14 corresponding to Re\n",
      "V_air=(m_1/3600.0)/(rou_1*A_p)\n",
      "V_CO2=(m_2/3600.0)/(rou_2*A_a)\n",
      "\n",
      "dP_p=(fp*L_available*rou_1*V_air**2)/(ID_p*2)\n",
      "dP_a=((rou_2*V_CO2**2)/2.0)*((fa*L_available/D_h)+1)\n",
      "\n",
      "print\"(a)The number of exchangers is \",round(N,0)\n",
      "print\"(b)The overall exchanger coefficient is \",round(Uo,1),\" W/(sq.m.K)\"\n",
      "print\"(c)The pressure drop for tube side is  \",round(dP_p,2),\"Pa\"\n",
      "print\"The pressure drop for shell side is \",round(dP_a,1),\"Pa\"\n"
     ],
     "language": "python",
     "metadata": {},
     "outputs": [
      {
       "output_type": "stream",
       "stream": "stdout",
       "text": [
        "(a)The number of exchangers is  1.0\n",
        "(b)The overall exchanger coefficient is  14.2  W/(sq.m.K)\n",
        "(c)The pressure drop for tube side is   12.83 Pa\n",
        "The pressure drop for shell side is  196.7 Pa\n"
       ]
      }
     ],
     "prompt_number": 24
    },
    {
     "cell_type": "heading",
     "level": 3,
     "metadata": {},
     "source": [
      "Example 9.5 Page No. 484"
     ]
    },
    {
     "cell_type": "code",
     "collapsed": false,
     "input": [
      "\n",
      "rou_1= 0.994*62.4         # density in lbm/ft**3 \n",
      "cp_1=0.998             # specific heat BTU/(lbm-degree Rankine) \n",
      "v_1= 0.708e-5          # viscosity in ft**2/s \n",
      "kf_1 = 0.363          # thermal conductivity in BTU/(hr.ft.degree Rankine) \n",
      "a_1 = 5.86e-3          # diffusivity in ft**2/hr \n",
      "Pr_1 = 4.34          # Prandtl Number \n",
      "m_1=170000           # mass flow rate in lbm/hr\n",
      "T1=110.0               # temperature in degree F\n",
      "rou_2= 62.4           # density in lbm/ft**3 \n",
      "cp_2=0.9988           # specific heat BTU/(lbm-degree Rankine) \n",
      "v_2= 1.083e-5         # viscosity in ft**2/s \n",
      "kf_2 = 0.345          # thermal conductivity in BTU/(hr.ft.degree Rankine) \n",
      "a_2 = 5.54e-3         # diffusivity in ft**2/hr \n",
      "Pr_2 = 7.02           # Prandtl Number \n",
      "m_2=150000            # mass flow rate in lbm/hr\n",
      "t1=65                 # temperature in degree F\n",
      "OD=3/(4*12.0)\n",
      "ID=0.652/12.0\n",
      "OD_p=1.375/12.0\n",
      "Nt=224.0                # from table 9.3\n",
      "Np=2                  # no. of tube passes\n",
      "Ds=17.25/12.0\n",
      "Nb=15.0                # no. of baffles\n",
      "B=1\n",
      "sT=15/(16*12.0)\n",
      "C=sT-OD\n",
      "\n",
      "import math\n",
      "At=(Nt*math.pi*ID**2)/(4*Np)\n",
      "As=(Ds*C*B)/sT\n",
      "\n",
      "De=4*((sT/2.0)*(0.86*sT)-(math.pi*OD**2/8.0))/(math.pi*OD/2.0)\n",
      "\n",
      "Re_s=(m_1/3600.0)*(De)/(v_1*rou_1*As)\n",
      "Re_t=(m_2/3600.0)*(ID)/(v_2*rou_2*At)\n",
      "\n",
      "Nu_t=0.023*(Re_t)**(0.8)*(Pr_2)**0.4\n",
      "Nu_s=0.36*(Re_s)**(0.55)*(Pr_1)**(1/3.0)\n",
      "h_ti=Nu_t*kf_2/ID\n",
      "h_to=h_ti*ID/OD\n",
      "h_s=Nu_s*kf_1/De\n",
      "\n",
      "Uo=1/((1/h_to)+(1/h_s))\n",
      "R=(m_2*cp_2)/(m_1*cp_1)\n",
      "L=16\n",
      "Ao=Nt*math.pi*OD*L\n",
      "UoAo_mccp=(Uo*Ao)/(m_2*cp_2)\n",
      "S=0.58              #value of S from fig. 9.13 Ten Broeck graph corresponding to the value of (UoAo)/(McCpc)\n",
      "t2=S*(T1-t1)+t1\n",
      "T2=T1-R*(t2-t1)\n",
      "ft=0.029             #friction factor for raw water fom figure 6.14 corresponding to Reynolds Number calculated above\n",
      "fs=0.281             #friction factor for distilled water fom figure 6.14 corresponding to Reynolds Number calculated above\n",
      "\n",
      "V_t=(m_2/3600.0)/(rou_2*At)\n",
      "V_s=(m_1/3600.0)/(rou_1*As)\n",
      "\n",
      "gc=32.2\n",
      "dP_t=(rou_2*V_t**2)*((ft*L*Np/ID)+4*Np)/(2*gc)\n",
      "dP_s=((rou_1*V_s**2)*(fs*Ds*(Nb+1)))/(2*gc*De)\n",
      "\n",
      "print\"Outlet Temperatures of raw water is \",round(t2,1),\"F\"\n",
      "print\"Outlet Temperatures of distilled water is \",round(T2,1),\"F\"\n",
      "print\"\\nThe pressure drop for tube side is\",round(dP_t/147,1),\"psi\"\n",
      "print\"The pressure drop for shell side is\",round(dP_s/147,1),\"psi\"\n"
     ],
     "language": "python",
     "metadata": {},
     "outputs": []
    },
    {
     "cell_type": "heading",
     "level": 3,
     "metadata": {},
     "source": [
      "Example 9.6 Page No.492"
     ]
    },
    {
     "cell_type": "code",
     "collapsed": false,
     "input": [
      "\n",
      "m_1=170000 \t\t# mass flow rate in lbm/hr\n",
      "T1=110 \t\t\t# temperature in degree F\n",
      "cp_1=0.998\t\t # specific heat BTU/(lbm-degree Rankine) \n",
      "m_2=150000 \t\t# mass flow rate in lbm/hr\n",
      "t1=65 \t\t\t# temperature in degree F\n",
      "cp_2=0.9988\t                # specific heat BTU/(lbm-degree Rankine) \n",
      "Uo=350 \t\t\t# exchanger coefficient\n",
      "Ao=703.7\n",
      "mcp_raw=m_2*cp_2\n",
      "mcp_distilled=m_1*cp_1\n",
      "\n",
      "mcp_min_max=mcp_raw/mcp_distilled\n",
      "UA_mcpmin=(Uo*Ao)/(mcp_raw)\n",
      "effectiveness=0.58 \t\t#value of effectiveness from figure 9.15 corresponding to the above calculated values of capacitance ratio and (UoAo/mcp_min)\n",
      "qmax=mcp_raw*(T1-t1)\n",
      "q=effectiveness*qmax \t# actual heat transfer\n",
      "t2=(q/mcp_raw)+t1\n",
      "T2=T1-(q/mcp_distilled)\n",
      "\n",
      "print\"The Outlet temperature is Raw Water is\",round(t2,1),\"F\"\n",
      "print\"The Outlet temperature is disilled Water is\",round(T2,1),\"F\"\n"
     ],
     "language": "python",
     "metadata": {},
     "outputs": [
      {
       "output_type": "stream",
       "stream": "stdout",
       "text": [
        "The Outlet temperature is Raw Water is 91.1 F\n",
        "The Outlet temperature is disilled Water is 87.0 F\n"
       ]
      }
     ],
     "prompt_number": 39
    },
    {
     "cell_type": "heading",
     "level": 3,
     "metadata": {},
     "source": [
      "Example 9.7 Page No. 499"
     ]
    },
    {
     "cell_type": "code",
     "collapsed": false,
     "input": [
      "rou_1= 0.852*62.4\t\t # density in lbm/ft**3 \n",
      "cp_1=0.509\t\t # specific heat BTU/(lbm-degree Rankine) \n",
      "v_1=0.404e-3 \t\t# viscosity in ft**2/s \n",
      "kf_1=0.08 \t\t# thermal conductivity in BTU/(hr.ft.degree Rankine) \n",
      "a_1=2.98e-3   \t# diffusivity in ft**2/hr \n",
      "Pr_1=490.0 \t\t# Prandtl Number \n",
      "m_1=39.8 \t\t  # mass flow rate in lbm/min\n",
      "T1=190.0\n",
      "T2=158.0\n",
      "rou_2= 0.0653\t\t # density in lbm/ft**3 \n",
      "cp_2=0.241\t\t # specific heat BTU/(lbm-degree Rankine) \n",
      "v_2= 20.98e-5 \t\t# viscosity in ft**2/s \n",
      "kf_2 = 0.01677 \t\t # thermal conductivity in BTU/(hr.ft.degree Rankine) \n",
      "a_2 = 1.066 \t\t# diffusivity in ft**2/hr \n",
      "Pr_2 = 0.706 \t\t# Prandtl Number \n",
      "m_2=67.0 \t\t\t# mass flow rate in lbm/min\n",
      "t1=126.0\n",
      "t2=166.0\n",
      "q_air=m_2*cp_2*60*(t2-t1)\n",
      "q_oil=m_1*cp_1*60*(T1-T2)\n",
      "\n",
      "import math\n",
      "LMTD=((T1-t2)-(T2-t1))/(math.log((T1-t2)/(T2-t1)))\n",
      "Area_air=(9.82*8)/144.0\n",
      "Area_oil=(3.25*9.82)/144.0\n",
      "\n",
      "S=(t2-t1)/(T1-t1)\n",
      "R=(T1-T2)/(t2-t1)\n",
      "F=0.87              #value of correction factor from figure 9.21a corresponding to above calculated values of S and R\n",
      "UA=q_air/(F*LMTD)\n",
      "mcp_air=m_2*cp_2*60\n",
      "mcp_oil=m_1*cp_1*60\n",
      "\n",
      "mcp_min_max=mcp_air/mcp_oil\n",
      "NTU=(UA/mcp_air)\n",
      "effectiveness=0.62 \t\t#effectiveness from fig 9.21b corresponding to the values of capacitance ratio \n",
      "t2_c=(T1-t1)*effectiveness+t1\n",
      "T2_c=T1-(mcp_air)*(t2_c-t1)/(mcp_oil)\n",
      "\n",
      "print\"The Overall Coefficient is \",round(UA,0),\" BTU/(hr. degree R)\"\n",
      "print\"Calculated outlet temprature are:\"\n",
      "print\"Outlet temprature for air\",round(t2_c,1),\"F\"\n",
      "print\"Outlet temprature for Engine Oil\",round(T2_c,0),\"F\"\n",
      "\n"
     ],
     "language": "python",
     "metadata": {},
     "outputs": [
      {
       "output_type": "stream",
       "stream": "stdout",
       "text": [
        "The Overall Coefficient is  1602.0  BTU/(hr. degree R)\n",
        "Calculated outlet temprature are:\n",
        "Outlet temprature for air 165.7 F\n",
        "Outlet temprature for Engine Oil 158.0 F\n"
       ]
      }
     ],
     "prompt_number": 21
    },
    {
     "cell_type": "code",
     "collapsed": false,
     "input": [],
     "language": "python",
     "metadata": {},
     "outputs": []
    }
   ],
   "metadata": {}
  }
 ]
}