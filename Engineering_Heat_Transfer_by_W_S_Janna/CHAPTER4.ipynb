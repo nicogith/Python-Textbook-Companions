{
 "metadata": {
  "name": ""
 },
 "nbformat": 3,
 "nbformat_minor": 0,
 "worksheets": [
  {
   "cells": [
    {
     "cell_type": "heading",
     "level": 1,
     "metadata": {},
     "source": [
      "Chapter 4: Unsteady State heat Conduction "
     ]
    },
    {
     "cell_type": "heading",
     "level": 3,
     "metadata": {},
     "source": [
      "Example 4.1 Page No.190"
     ]
    },
    {
     "cell_type": "code",
     "collapsed": false,
     "input": [
      "\n",
      "k=12.0          #  thermal conductivity in BTU/(hr.ft.degree Rankine) \n",
      "c=0.1         # specific heat in BTU/(lbm.degree Rankine) \n",
      "D=0.025/12.0    # diameter in ft\n",
      "density=525.0   # density in lbm/cu.ft\n",
      "hc=80         # convective coefficient in BTU/(hr. sq.ft. degree Rankine)\n",
      "T_i=65.0        # intial temperature in degree fahrenheit\n",
      "T_inf=140.0      # fluid temperature in degree fahrenheit\n",
      "As=3.14*D**2    # surface area in sq.ft\n",
      "Vs=3.14*D**(0.5)  # volume in cu.ft\n",
      "\n",
      "import math\n",
      "reciprocal_timeconstant=(hc*6)/(density*D*c)\n",
      "T=139\n",
      "t=math.log((T-T_inf)/(T_i-T_inf))/(-reciprocal_timeconstant)\n",
      "\n",
      "print\"The response time of the junction is %.1f s\",round(t*3600,2),\"s\"\n"
     ],
     "language": "python",
     "metadata": {},
     "outputs": [
      {
       "output_type": "stream",
       "stream": "stdout",
       "text": [
        "The response time of the junction is %.1f s 3.54 s\n"
       ]
      }
     ],
     "prompt_number": 10
    },
    {
     "cell_type": "heading",
     "level": 3,
     "metadata": {},
     "source": [
      "Example 4.2 Page No. 193"
     ]
    },
    {
     "cell_type": "code",
     "collapsed": false,
     "input": [
      "\n",
      "k=236.0         # thermal conductivity in W/(m.K)\n",
      "Cp=896.0        # specific heat in J/(kg.K)\n",
      "sp_gr=2.702     # specific gravity\n",
      "density=2702.0  # density in kg/cu.m\n",
      "D=0.05          # Diameter in m\n",
      "L=0.60          # length in m\n",
      "hc=550.0        # unit surface conductance between the metal and the bath in W/(K.sq.m)\n",
      "\n",
      "import math\n",
      "Vs=(math.pi*D**2*L)/4.0                # Volume in cu.m\n",
      "As=(2*math.pi*D**2/4.0)+(math.pi*D*L)  # surface area in sq.m\n",
      "import math\n",
      "Bi=(hc*Vs)/(k*As)     # Biot Number\n",
      "T_i=50.0         # initial temperature in degree celsius\n",
      "T_inf=2.0        # temperature of ice water bath in degree celsius\n",
      "t=60.0           # time=1 minute=60 s\n",
      "As_=0.102        #approx value taken in book for calculating T and Q\n",
      "T=T_inf+(T_i-T_inf)*math.exp(-(hc*As_*t)/(density*Vs*Cp))\n",
      "Q=density*Vs*Cp*(T_inf-T_i)*(1-math.exp(-(hc*As_*t)/(density*Vs*Cp)))\n",
      "\n",
      "print\"(a)The temperature of aluminium is\",round(T,1),\"C\"\n",
      "print\"(b)The cumulative heat transferred is \",round(-Q/1000,1),\"KJ\"\n"
     ],
     "language": "python",
     "metadata": {},
     "outputs": [
      {
       "output_type": "stream",
       "stream": "stdout",
       "text": [
        "(a)The temperature of aluminium is 16.7 C\n",
        "(b)The cumulative heat transferred is  94.8 KJ\n"
       ]
      }
     ],
     "prompt_number": 8
    },
    {
     "cell_type": "heading",
     "level": 3,
     "metadata": {},
     "source": [
      "Example 4.3 Page No. 200"
     ]
    },
    {
     "cell_type": "code",
     "collapsed": false,
     "input": [
      "\n",
      "hc=30\n",
      "L=0.24\n",
      "k=1.25           #Conductivity\n",
      "c=890\n",
      "rou=550\n",
      "Fo=0.4           #Fourier no\n",
      "\n",
      "Bi=hc*L/k\n",
      "alpha=k/(rou*c)\n",
      "Tc=150\n",
      "T_inf=600\n",
      "T_i=50\n",
      "t=(L**2*Fo)/(alpha)\n",
      "TC1=0.82       #Centreline temprature\n",
      "T=0.71*(T_i-T_inf)*TC1\n",
      "x=0.4*L\n",
      "Ti=149\n",
      "To=492\n",
      "print\"Time required to reach temprature 150 is \",round(t/3600,2),\"hr\""
     ],
     "language": "python",
     "metadata": {},
     "outputs": [
      {
       "output_type": "stream",
       "stream": "stdout",
       "text": [
        "Time required to reach temprature 150 is  2.51 hr\n"
       ]
      }
     ],
     "prompt_number": 33
    },
    {
     "cell_type": "heading",
     "level": 3,
     "metadata": {},
     "source": [
      "Example 4.4 Page No. 204"
     ]
    },
    {
     "cell_type": "code",
     "collapsed": false,
     "input": [
      "hc=6         #Surface Conductance\n",
      "D=0.105       #Orange Diameter\n",
      "k=0.431      #Thermal conductivity   \n",
      "c=2000       #Specific heat of orange\n",
      "rou=998      #Density\n",
      "Fo=1.05        #Fourier no.\n",
      "\n",
      "import math\n",
      "Vs=math.pi*D**3/6\n",
      "As=math.pi*D**2\n",
      "Bi=hc*Vs/(k*As)\n",
      "Bi_=hc*(D/2)/(k)\n",
      "alpha=k/(rou*c)\n",
      "Tc=20\n",
      "T_inf=23\n",
      "T_i=4\n",
      "t=(Fo*(D/2.0)**2)/alpha\n",
      "a=Bi_**2*Fo\n",
      "Q=0.7*rou*c*(math.pi/6.0*(Fo**3))*(T_i-T_inf)\n",
      "\n",
      "print\"The time required is \",round(t/3600,2),\"hr\"\n",
      "print\"The heat transfered is\",round(Q/1000,2),\"kj\""
     ],
     "language": "python",
     "metadata": {},
     "outputs": [
      {
       "output_type": "stream",
       "stream": "stdout",
       "text": [
        "The time required is  3.72 hr\n",
        "The heat transfered is -16090.84 kj\n"
       ]
      }
     ],
     "prompt_number": 16
    },
    {
     "cell_type": "heading",
     "level": 3,
     "metadata": {},
     "source": [
      "Example 4.5 Page No.208"
     ]
    },
    {
     "cell_type": "code",
     "collapsed": false,
     "input": [
      "        \n",
      "D=0.105          #diameter\n",
      "k=0.3            #Thermal conductivity \n",
      "c=0.41          #Specific heat \n",
      "sp_gr=2.1         ##Specific gravity\n",
      "rou_water=62.4   #Density\n",
      "alpha=k/(sp_gr*rou_water*c)\n",
      "t=3*30*24\n",
      "\n",
      "T_inf=10\n",
      "Ts=10\n",
      "T=32\n",
      "T_i=70\n",
      "dimensionless_temp=(T-T_i)/(T_inf-T_i)\n",
      "variable_fig4_12=0.38   #The value of x/(2*(alpha*t)**0.5) from figure 4.12\n",
      "x=2*math.sqrt(alpha*t)*variable_fig4_12\n",
      "\n",
      "print\"The depth of the freeze line in soil is  ft\",round(x,2),\"ft\"\n"
     ],
     "language": "python",
     "metadata": {},
     "outputs": [
      {
       "output_type": "stream",
       "stream": "stdout",
       "text": [
        "The depth of the freeze line in soil is  ft 2.64 ft\n"
       ]
      }
     ],
     "prompt_number": 18
    },
    {
     "cell_type": "heading",
     "level": 3,
     "metadata": {},
     "source": [
      "Example 4.6 Page No.211"
     ]
    },
    {
     "cell_type": "code",
     "collapsed": false,
     "input": [
      "\n",
      "k_al=236\n",
      "p_al=2.7*1000\n",
      "c_al=896\n",
      "k_oak=0.19\n",
      "p_oak=0.705*1000\n",
      "c_oak=2390\n",
      "\n",
      "import math\n",
      "math.sqrt_kpc_al=math.sqrt(k_al*p_al*c_al)\n",
      "kpc_R=4\n",
      "T_Li=20\n",
      "T_Ri=37.3\n",
      "T_al=(T_Li*(math.sqrt_kpc_al)+T_Ri*math.sqrt(kpc_R))/(math.sqrt_kpc_al+math.sqrt(kpc_R))\n",
      "math.sqrt_kpc_oak=math.sqrt(k_oak*p_oak*c_oak)\n",
      "T_oak=(T_Li*(math.sqrt_kpc_oak)+T_Ri*math.sqrt(kpc_R))/(math.sqrt_kpc_oak+math.sqrt(kpc_R))\n",
      "\n",
      "print\"The temperature of aluminium is felt as \",round(T_al,2),\"C\"\n",
      "print\"The temperature of oak is felt as %.1f degree celsius\",round(T_oak,1),\"C\"\n",
      "print\"So oak will feel warmer to the touch than will the aluminium\"\n"
     ],
     "language": "python",
     "metadata": {},
     "outputs": [
      {
       "output_type": "stream",
       "stream": "stdout",
       "text": [
        "The temperature of aluminium is felt as  20.0 C\n",
        "The temperature of oak is felt as %.1f degree celsius 20.1 C\n",
        "So oak will feel warmer to the touch than will the aluminium\n"
       ]
      }
     ],
     "prompt_number": 2
    },
    {
     "cell_type": "heading",
     "level": 3,
     "metadata": {},
     "source": [
      "Example 4.7 Page No.215"
     ]
    },
    {
     "cell_type": "code",
     "collapsed": false,
     "input": [
      "\n",
      "rou=62.46\n",
      "cp=0.9988\n",
      "k=0.345\n",
      "alpha=k/(rou*cp)\n",
      "D=2.5/12.0\n",
      "L=4.75/12.0\n",
      "\n",
      "Vs=math.pi*D**2*L/4\n",
      "As=(math.pi*D*L)+(math.pi*D**2)/2\n",
      "Lc=Vs/As\n",
      "hc=1.7\n",
      "Bi=hc*Lc/k\n",
      "t=4\n",
      "\n",
      "Fo_cylinder=alpha*t/(D/2)**2\n",
      "Bi_cylinder=hc*(D/2)/k\n",
      "reciprocal_Bi_cylinder=1/Bi_cylinder\n",
      "dim_T_cylinder=0.175 #The value of dimensionless temperature of cylinder from figure 4.7a at corresponding values of Fo and 1/Bi\n",
      "\n",
      "Fo_plate=alpha*t/(L/2)**2\n",
      "Bi_plate=hc*L/(2*k)\n",
      "reciprocal_Bi_plate=1/Bi_plate\n",
      "dim_T_plate=0.55 #The value of dimensionless temperature of infinite plate from figure 4.7a at corresponding values of Fo and 1/Bi\n",
      "\n",
      "dim_T_shortcylinder=dim_T_cylinder*dim_T_plate\n",
      "T_inf=30\n",
      "T_i=72\n",
      "Tc=dim_T_shortcylinder*(T_i-T_inf)+T_inf\n",
      "dim_Tw_cylinder=0.77 #The dimensionless temperature from figure 4.7b corresponding to the value of 1/Bi and r/R=1\n",
      "dim_Tw_plate=0.65 #The dimensionless temperature from figure 4.6b corresponding to the value of 1/Bi and x/L=1\n",
      "dim_Tw_shortcylinder=dim_Tw_cylinder*dim_Tw_plate\n",
      "Tw=dim_Tw_shortcylinder*(Tc-T_inf)+T_inf\n",
      "\n",
      "print\"The temperature at centre of can is %.1f degree celsius\",round(Tc,0),\"F\"\n",
      "print\"The bear temperature near the metal of the can is\",round(Tw,0),\"F\"\n",
      "\n"
     ],
     "language": "python",
     "metadata": {},
     "outputs": [
      {
       "output_type": "stream",
       "stream": "stdout",
       "text": [
        "The temperature at centre of can is %.1f degree celsius 34.0 F\n",
        "The bear temperature near the metal of the can is 32.0 F\n"
       ]
      }
     ],
     "prompt_number": 38
    },
    {
     "cell_type": "heading",
     "level": 3,
     "metadata": {},
     "source": [
      "Example 4.8 Page No. 219"
     ]
    },
    {
     "cell_type": "code",
     "collapsed": false,
     "input": [
      "\n",
      "rou=7817        #Density\n",
      "c=461          #Specific heat \n",
      "k=14.4         #Thermal conductivity \n",
      "alpha=.387e-5\n",
      "L1=0.03\n",
      "L2=0.03\n",
      "L3=0.04\n",
      "x=0.04\n",
      "T_i=95          #Internal temprature   \n",
      "T_inf=17         #Temprature at infinity\n",
      "\n",
      "L=L1/2\n",
      "hc=50\n",
      "reciprocal_Bi_plate=k/(hc*L)\n",
      "Tinf=0.085       #Temprature distribution for infinite plate\n",
      "Tsi=0.225             #Temprature distribution for semi infinite plate\n",
      "T=(Tinf**2)*(1-Tsi)*(T_i-T_inf)+T_inf\n",
      "t=350\n",
      "\n",
      "print\"At a time 3000s The temprature is \",round(T,1),\"C\"\n",
      "print\"From the table The time requires to reach tempratue 50C is \",t,\"s\""
     ],
     "language": "python",
     "metadata": {},
     "outputs": [
      {
       "output_type": "stream",
       "stream": "stdout",
       "text": [
        "At a time 3000s The temprature is  17.4 C\n",
        "From the table The time requires to reach tempratue 50C is  350 s\n"
       ]
      }
     ],
     "prompt_number": 48
    },
    {
     "cell_type": "heading",
     "level": 3,
     "metadata": {},
     "source": [
      "Example 4.9 Page No.226"
     ]
    },
    {
     "cell_type": "code",
     "collapsed": false,
     "input": [
      "%matplotlib inline"
     ],
     "language": "python",
     "metadata": {},
     "outputs": []
    },
    {
     "cell_type": "code",
     "collapsed": false,
     "input": [
      "\n",
      "rou=0.5*1000\n",
      "cp=837\n",
      "k=0.128\n",
      "alpha=0.049e-5\n",
      "Ti=20      #Initial temprature\n",
      "dt=0.5*(0.05)**2/alpha\n",
      "\n",
      "p=0\n",
      "T0=200\n",
      "m=1\n",
      "T11=(Ti+T0)/2.0\n",
      "m=2\n",
      "T21=(Ti+Ti)/2.0\n",
      "m=3\n",
      "T31=(Ti+Ti)/2.0\n",
      "m=4\n",
      "T41=(Ti+Ti)/2.0\n",
      "m=5\n",
      "T51=(Ti+Ti)/2.0\n",
      "m=6\n",
      "T61=(Ti+Ti)/2.0\n",
      "\n",
      "p=1\n",
      "m=1\n",
      "T12=(Ti+T0)/2.0\n",
      "m=2\n",
      "T22=(Ti+T12)/2.0\n",
      "m=3\n",
      "T32=(Ti+T21)/2.0\n",
      "m=4\n",
      "T42=(Ti+T31)/2.0\n",
      "m=5\n",
      "T52=(Ti+T41)/2.0\n",
      "m=6\n",
      "T62=(Ti+T51)/2.0\n",
      "t=4.97\n",
      "print\"The time that will pass before the heat added\",t,\"hr\"\n",
      "\n",
      "import matplotlib.pyplot as plt\n",
      "fig = plt.figure()\n",
      "ax = fig.add_subplot(111)\n",
      "\n",
      "x1=[0,30]\n",
      "T1=[20,20]\n",
      "\n",
      "xlabel(\"x (cm)\") \n",
      "ylabel(\"T  (C)\") \n",
      "plt.xlim((0,35))\n",
      "plt.ylim((0,250))\n",
      "\n",
      "a1=plot(x1,T1)\n",
      "\n"
     ],
     "language": "python",
     "metadata": {},
     "outputs": [
      {
       "output_type": "stream",
       "stream": "stdout",
       "text": [
        "The time that will pass before the heat added 4.97 hr\n"
       ]
      },
      {
       "output_type": "display_data",
       "png": "[encoded data removed]"
      }
     ],
     "prompt_number": 1
    },
    {
     "cell_type": "heading",
     "level": 3,
     "metadata": {},
     "source": [
      "Example 4.10 Page No. 231"
     ]
    },
    {
     "cell_type": "code",
     "collapsed": false,
     "input": [
      "\n",
      "rou=7.817*62.4      #density\n",
      "c=0.110\n",
      "k=8.32\n",
      "alpha=0.417e-4\n",
      "dx=1/12.0\n",
      "Fo=1\n",
      "\n",
      "dt=Fo*dx**2/alpha\n",
      "n=8       #Enter the number of time intervals from Saulev plot\n",
      "time=n*dt\n",
      "\n",
      "print\"The required time is  hr\",round(time/3600,2),\"hr\"\n"
     ],
     "language": "python",
     "metadata": {},
     "outputs": [
      {
       "output_type": "stream",
       "stream": "stdout",
       "text": [
        "The required time is  hr 0.37 hr\n"
       ]
      }
     ],
     "prompt_number": 42
    }
   ],
   "metadata": {}
  }
 ]
}