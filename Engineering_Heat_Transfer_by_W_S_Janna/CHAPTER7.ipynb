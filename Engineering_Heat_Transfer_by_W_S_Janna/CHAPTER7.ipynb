{
 "metadata": {
  "name": "CHAPTER7"
 },
 "nbformat": 3,
 "nbformat_minor": 0,
 "worksheets": [
  {
   "cells": [
    {
     "cell_type": "heading",
     "level": 1,
     "metadata": {},
     "source": [
      "Chapter7 : Convection Heat Transfer in Flow Past immersed Bodies"
     ]
    },
    {
     "cell_type": "heading",
     "level": 3,
     "metadata": {},
     "source": [
      "Example 7.1 page NO.353"
     ]
    },
    {
     "cell_type": "code",
     "collapsed": false,
     "input": [
      "%matplotlib inline"
     ],
     "language": "python",
     "metadata": {},
     "outputs": []
    },
    {
     "cell_type": "code",
     "collapsed": false,
     "input": [
      "\n",
      "rou=1.177   # density in kg/cu.m\n",
      "v=15.68e-6  # viscosity in sq.m/s\n",
      "L=0.5       # length in m\n",
      "V_inf=1;    # air velocity in m/s\n",
      "Re= (V_inf*L)/v # Reynolds Number\n",
      "\n",
      "import matplotlib.pyplot as plt\n",
      "fig = plt.figure()\n",
      "ax = fig.add_subplot(111)\n",
      "\n",
      "x=[0,0.065,0.125,0.5]\n",
      "t=[0,0.004,0.006,0.013]\n",
      "xlabel(\"x  (m)\") \n",
      "ylabel(\"t  (m)\") \n",
      "plt.xlim((0,0.6))\n",
      "plt.ylim((0,0.015))\n",
      "a1=plot(x,t)\n",
      "\n",
      "import matplotlib.pyplot as plt\n",
      "fig = plt.figure()\n",
      "ax = fig.add_subplot(111)\n",
      "\n",
      "x=[0,0.75,0.9,1]\n",
      "t=[0,0.005,0.0075,0.010]\n",
      "xlabel(\"V (m/s)\") \n",
      "ylabel(\"y  (m)\") \n",
      "plt.xlim((0,1))\n",
      "plt.ylim((0,0.010))\n",
      "a1=plot(x,t)\n",
      "\n",
      "gc=1\n",
      "mu=rou*v/gc\n",
      "b=1         # width in m\n",
      "Df=0.664*V_inf*mu*b*(Re)**0.5\n",
      "\n",
      "\n",
      "print\"(a)plot between boundary layer growth with distance\"\n",
      "print\"(b)velocity distribution with distance\"\n",
      "print\"(c)The skin-drag including both sides of plate is \",round(2*Df,4),\"n\"\n"
     ],
     "language": "python",
     "metadata": {},
     "outputs": [
      {
       "output_type": "stream",
       "stream": "stdout",
       "text": [
        "(a)plot between boundary layer growth with distance\n",
        "(b)velocity distribution with distance\n",
        "(c)The skin-drag including both sides of plate is  0.0044 n\n"
       ]
      },
      {
       "output_type": "display_data",
       "png": "[encoded data removed]"
      },
      {
       "output_type": "display_data",
       "png": "[encoded data removed]"
      }
     ],
     "prompt_number": 1
    },
    {
     "cell_type": "heading",
     "level": 3,
     "metadata": {},
     "source": [
      "Example 7.2 page NO.360"
     ]
    },
    {
     "cell_type": "code",
     "collapsed": false,
     "input": [
      "%matplotlib inline"
     ],
     "language": "python",
     "metadata": {},
     "outputs": []
    },
    {
     "cell_type": "code",
     "collapsed": false,
     "input": [
      "\n",
      "rou= 62.4              #  density in Ibm/ft^3 \n",
      "cp=0.9988             # specific heat BTU/(lbm-degree Rankine) \n",
      "v= 1.083e-5            # viscosity in sq.ft/s \n",
      "kf = 0.345             # thermal conductivity in BTU/(hr.ft.degree Rankine) \n",
      "a = 5.54e-3            # diffusivity in sq.ft/hr \n",
      "Pr = 7.02             # Prandtl Number\n",
      "V=1.2                 # velocity in ft/s\n",
      "\n",
      "x1=1\n",
      "Re1=(V*x1)/v   # Reynolds Number at x=1 ft\n",
      "hL1=0.664*Pr**(1/3.0)*Re1**0.5*kf/x1\n",
      "Tw=100           # temperature of metal plate in degree fahrenheit\n",
      "T_inf=40           # temperature of water in degree fahrenheit\n",
      "A1=x1*18/12.0 # cross sectional area for 1 ft length\n",
      "q1=hL1*A1*(Tw-T_inf)\n",
      "\n",
      "print\"The heat transferred to water over the plate is\",round(q1,0),\"BTU/hr\"\n",
      "x2=2\n",
      "Re2=(V*x2)/v   # Reynolds Number at x=1 ft\n",
      "hL2=0.664*Pr**(1/3.0)*Re2**0.5*kf/x2\n",
      "Tw=100           # temperature of metal plate in degree fahrenheit\n",
      "T_inf=40           # temperature of water in degree fahrenheit\n",
      "A2=x2*18/12.0 # cross sectional area for 1 ft length\n",
      "q2=hL2*A2*(Tw-T_inf)\n",
      "print\"The heat transferred to water over the plate is \",round(q2,0),\"BTU/hr\"\n",
      "\n",
      "import matplotlib.pyplot as plt\n",
      "fig = plt.figure()\n",
      "ax = fig.add_subplot(111)\n",
      "\n",
      "T=[100,80,60,50,40]\n",
      "y=[0,0.0008,0.0018,0.0025,0.004]\n",
      "xlabel(\"T  (F)\") \n",
      "ylabel(\"y  (ft)  \") \n",
      "plt.xlim((100,40))\n",
      "plt.ylim((0,0.004))\n",
      "a1=plot(T,y)\n",
      "\n",
      "import matplotlib.pyplot as plt\n",
      "fig = plt.figure()\n",
      "ax = fig.add_subplot(111)\n",
      "\n",
      "Pr=[0.6,50]\n",
      "t=[1.2,0.28]\n",
      "xlabel(\"Pr\") \n",
      "ylabel(\"t  (ft)  \") \n",
      "plt.xlim((0.6,50))\n",
      "plt.ylim((0,2))\n",
      "ax.plot([10], [1], 'o')\n",
      "ax.annotate('(Exact solution)', xy=(8,1.2))\n",
      "ax.annotate('(dt/dt=Pr**-(1/3))', xy=(15,1))\n",
      "ax.plot([25], [0.75], 'o')\n",
      "ax.plot([35], [0.55], 'o')\n",
      "ax.plot([40], [0.48], 'o')\n",
      "\n",
      "a1=plot(Pr,t)\n",
      "\n"
     ],
     "language": "python",
     "metadata": {},
     "outputs": [
      {
       "output_type": "stream",
       "stream": "stdout",
       "text": [
        "The heat transferred to water over the plate is 13141.0 BTU/hr\n",
        "The heat transferred to water over the plate is  18584.0 BTU/hr\n"
       ]
      },
      {
       "output_type": "display_data",
       "png": "[encoded data removed]"
      },
      {
       "output_type": "display_data",
       "png": "[encoded data removed]"
      }
     ],
     "prompt_number": 2
    },
    {
     "cell_type": "heading",
     "level": 3,
     "metadata": {},
     "source": [
      "Example 7.3 page NO.363"
     ]
    },
    {
     "cell_type": "code",
     "collapsed": false,
     "input": [
      "\n",
      "rou=0.998\t # density in kg/cu.m\n",
      "cp=1009 \t\t# specific heat in J/(kg*K) \n",
      "v=20.76e-6 \t# viscosity in sq.m/s  \n",
      "Pr=0.697 \t# Prandtl Number \n",
      "k=0.03003 \t# thermal conductivity in W/(m.K)\n",
      "a=0.2983e-4 \t# diffusivity in sq.m/s \n",
      "L=1.0 \t\t  # Length of plate in m\n",
      "V=5.0 \t\t  # velocity of air in m/s\n",
      "b=0.5 \t\t# width in m\n",
      "Re=V*L/v \t# Reynolds number at plate end\n",
      "\n",
      "h=k*0.664*Re**(0.5)*Pr**(1/3.0)/L\t     # The average convection coefficient in W/(sq.m.K)\n",
      "Df=0.664*V*rou*v*b*(Re)**0.5 \t       # drag force in N\n",
      "hx=(1/2.0)*h                              # local convective coefficient\n",
      "delta=5*L/(Re)**0.5 # The boundary-layer thickness at plate end\n",
      "delta_t=delta/(Pr)**(1/3.0)\n",
      "\n",
      "print\"The local convective coefficient is   \",round(hx,2),\"W/(sq.m.K)\"\n",
      "print\"The boundary-layer thickness at plate end is  \",round(delta*100,2),\"cm\"\n",
      "print\"The thermal-boundary-layer thickness is  \",round(delta_t*100,2),\"cm\""
     ],
     "language": "python",
     "metadata": {},
     "outputs": [
      {
       "output_type": "stream",
       "stream": "stdout",
       "text": [
        "The local convective coefficient is    4.34 W/(sq.m.K)\n",
        "The boundary-layer thickness at plate end is   1.02 cm\n",
        "The thermal-boundary-layer thickness is   1.15 cm\n"
       ]
      }
     ],
     "prompt_number": 7
    },
    {
     "cell_type": "heading",
     "level": 3,
     "metadata": {},
     "source": [
      "Example 7.4 page NO. 364"
     ]
    },
    {
     "cell_type": "code",
     "collapsed": false,
     "input": [
      "\n",
      "rou= 0.0812             # density in Ibm/ft^3 \n",
      "cp=0.2918              # specific heat BTU/(lbm-degree Rankine) \n",
      "v= 17.07e-5                # viscosity in ft^2/s \n",
      "kf = 0.01546                 # thermal conductivity in BTU/(hr.ft.degree Rankine) \n",
      "a = 0.8862              # diffusivity in ft^2/hr \n",
      "Pr = 0.709               # Prandtl Number\n",
      "\n",
      "qw=10/(1.5*10.125)*(1/.2918)*144  # The wall flux \n",
      "V_inf=20               # velocity in ft/s\n",
      "L=1.5/12               #  length in ft\n",
      "Re_L=V_inf*10*L/v      # Reynolds number at plate end\n",
      "T_inf=300                # free stream temperature in degree Rankine\n",
      "Tw=T_inf+(qw*L*10/(kf*0.453*(Re_L)**0.5*(Pr)**(1/3.0)))\n",
      "\n",
      "print\"The maximum heater surface temperature is \",round(Tw,0),\"R\"\n"
     ],
     "language": "python",
     "metadata": {},
     "outputs": [
      {
       "output_type": "stream",
       "stream": "stdout",
       "text": [
        "The maximum heater surface temperature is  470.0 R\n"
       ]
      }
     ],
     "prompt_number": 12
    },
    {
     "cell_type": "heading",
     "level": 3,
     "metadata": {},
     "source": [
      "Example 7.5 page NO. 368"
     ]
    },
    {
     "cell_type": "code",
     "collapsed": false,
     "input": [
      "\n",
      "rou= 0.0812            # density in Ibm/ft**3 \n",
      "cp=0.2918             # specific heat BTU/(lbm-degree Rankine) \n",
      "v= 17.07e-5           # viscosity in ft**2/s \n",
      "kf = 0.01546          # thermal conductivity in BTU/(hr.ft.degree Rankine) \n",
      "a = 0.8862             # diffusivity in ft**2/hr \n",
      "Pr = 0.709             # Prandtl Number\n",
      "Tw=469                 # maximum heater temperature in degree Rankine\n",
      "T_inf=300.0               # free-stream temperature in degree Rankine\n",
      "qw=324.0                  # The wall flux in BTU/(hr.ft**2)\n",
      "V_inf=20                # velocity in ft/s\n",
      "\n",
      "hx=qw/(Tw-T_inf)        #  The convection coefficient\n",
      "LHS=(hx/3600.0)*(Pr)**(2/3.0)/(rou*cp*V_inf)\n",
      "Re_L=1.46e+005           # Reynolds number at plate end\n",
      "RHS=0.332*(Re_L)**(-0.5)\n",
      "err=(LHS-RHS)*100/LHS\n",
      "\n",
      "print\"The convection coefficient is  BTU/(hr.sq.ft.degree R)\",hx\n",
      "print\"The error is \",round(err,0),\"percent\"\n",
      "print\"Since the error is only 3 percent, the agreement is quite good\"\n"
     ],
     "language": "python",
     "metadata": {},
     "outputs": [
      {
       "output_type": "stream",
       "stream": "stdout",
       "text": [
        "The convection coefficient is  BTU/(hr.sq.ft.degree R) 1.91715976331\n",
        "The error is  3.0 percent\n",
        "Since the error is only 3 percent, the agreement is quite good\n"
       ]
      }
     ],
     "prompt_number": 5
    },
    {
     "cell_type": "heading",
     "level": 3,
     "metadata": {},
     "source": [
      "Example 7.6 page NO. 371"
     ]
    },
    {
     "cell_type": "code",
     "collapsed": false,
     "input": [
      "\n",
      "rou= 62.4                    # density in Ibm/cu.ft\n",
      "v= 1.083e-5                  # viscosity in sq.ft/s \n",
      "V_inf=5*.5144/.3048          # barge velocity in ft/s using conversion factors from appendix table A1\n",
      "L=20                         # Length of barge in ft\n",
      "Re_L=V_inf*L/v               # Reynolds number at plate end\n",
      "Cd=0.003                     #value of Coefficient of discharge figure 7.11\n",
      "gc=32.2\n",
      "b=12                          # width in ft\n",
      "\n",
      "Df=(Cd*rou*V_inf**2*b*L)/(2*gc)\n",
      "\n",
      "print\"The drag force is \",round(Df,0),\"lbf\"\n"
     ],
     "language": "python",
     "metadata": {},
     "outputs": [
      {
       "output_type": "stream",
       "stream": "stdout",
       "text": [
        "The drag force is  50.0 lbf\n"
       ]
      }
     ],
     "prompt_number": 7
    },
    {
     "cell_type": "heading",
     "level": 3,
     "metadata": {},
     "source": [
      "Example 7.7 page NO. 374"
     ]
    },
    {
     "cell_type": "code",
     "collapsed": false,
     "input": [
      "\n",
      "rou= 1.0732              # density in kg/m**3 \n",
      "cp= 1013                 # specific heat in J/(kg*K) \n",
      "v= 21.67e-6              # viscosity in m**2/s  \n",
      "Pr = 0.702               # Prandtl Number \n",
      "k= 0.03352               # thermal conductivity in W/(m.K)\n",
      "a = 0.3084e-4            # diffusivity in m**2/s\n",
      "V_inf=60                 # carbon dioxide velocity in m/s\n",
      "vel=60                   #velocity\n",
      "\n",
      "x_cr=(5e5)*v/V_inf       # The transition length in m\n",
      "w=4.0                    # width of each heater in cm\n",
      "b=0.16                    # effective heating length in m\n",
      "Tw=600                   # temperature of heater surface in K\n",
      "T_inf=400                # temperature of carbon dioxide in K\n",
      "\n",
      "y=0.664*Pr**(1/3.0)*k*(vel/v)**(1/2.0)       #y=h1*x1**(1/2)\n",
      "x1=0.04                  # m\n",
      "h1=y/x1**(0.5)\n",
      "q1=h1*(Tw-T_inf)*x1*b\n",
      "\n",
      "x2=0.08\n",
      "h2=y/(x2)**(0.5)\n",
      "Q=h2*x2*(b)*(Tw-T_inf)      #Q=q1+q2\n",
      "q2=Q-q1\n",
      "\n",
      "x3=0.12\n",
      "h3=y/(x3)**(0.5)\n",
      "Q1=h3*x3*(b)*(Tw-T_inf)      #Q=q1+q2+q3\n",
      "q3=Q1-Q\n",
      "\n",
      "x4=0.16\n",
      "h4=y/(x4)**(0.5)\n",
      "Q2=h4*x4*(b)*(Tw-T_inf)      #Q=q1+q2+q3+q4\n",
      "q4=Q2-Q1\n",
      "\n",
      "Re5=vel*5*x1/(v)\n",
      "\n",
      "h5=0.0359*(Re5**(0.8)-830)*Pr**(1/3.0)*(k/(11.9*x1))\n",
      "x5=0.2\n",
      "Q3=h5*x5*(b)*(Tw-T_inf)      #Q3=q1+q2+q3+q4+q5\n",
      "q5=Q3-Q2\n",
      "\n",
      "Re6=vel*6*x1/(v)\n",
      "h6=0.0359*(Re5**(0.8)-830)*Pr**(1/3.0)*(k/(10.3*x1))\n",
      "x6=0.24\n",
      "Q4=h6*x6*(b)*(Tw-T_inf)      #Q4=q1+q2+q3+q4+q5+q6\n",
      "q6=round(Q4,0)-round(Q3,0)\n",
      "\n",
      "print\"The wattage required for 1st heater is \",round(q1,0),\"W\"\n",
      "print\"The wattage required for 2nd heater is \",round(q2,0),\"W\"\n",
      "print\"The wattage required for 3rd heater is \",round(q3,1),\"W\"\n",
      "print\"The wattage required for 4th heater is \",round(q4,0),\"W\"\n",
      "print\"The wattage required for 5th heater is \",round(q5,0),\"W\"\n",
      "print\"The wattage required for 6th heater is \",round(q6,1),\"W\""
     ],
     "language": "python",
     "metadata": {},
     "outputs": [
      {
       "output_type": "stream",
       "stream": "stdout",
       "text": [
        "The wattage required for 1st heater is  211.0 W\n",
        "The wattage required for 2nd heater is  87.0 W\n",
        "The wattage required for 3rd heater is  67.0 W\n",
        "The wattage required for 4th heater is  56.0 W\n",
        "The wattage required for 5th heater is  132.0 W\n",
        "The wattage required for 6th heater is  213.0 W\n"
       ]
      }
     ],
     "prompt_number": 64
    },
    {
     "cell_type": "heading",
     "level": 3,
     "metadata": {},
     "source": [
      "Example 7.8 page NO. 302"
     ]
    },
    {
     "cell_type": "code",
     "collapsed": false,
     "input": [
      "\n",
      "rou= 0.0735          # density in Ibm/ft**3 \n",
      "v= 16.88e-5          # viscosity in ft**2/s \n",
      "V=20*5280/3600.0        # flow velocity in ft/s\n",
      "D=1.0               # diameter of pole in ft\n",
      "L=30.0                 # length of pole in ft\n",
      "gc=32.2\n",
      "Re_D=V*D/v            # Reynolds Number for flow past the pole\n",
      "Cd_cylinder=1.1       # value of Cd for smooth cylinder from figure 7.22\n",
      "A_cylinder=D*L         #  frontal area of pole\n",
      "\n",
      "Df_cylinder=Cd_cylinder*(0.5)*rou*V**2*A_cylinder/gc\n",
      "D_square=2/12.0          # length of square part of pole\n",
      "L_square=4\n",
      "Re_square=V*D_square/v # Reynolds Number for square part of pole\n",
      "Cd_square=2            # Corresponding value of Cd for square part from figure 7.23\n",
      "A_square=D_square*L_square      # projected frontal area of square part\n",
      "Df_square=Cd_square*(0.5)*rou*V**2*A_square/gc\n",
      "Df_total=Df_cylinder+Df_square\n",
      "print\"The total drag force on the pole is \",round(Df_total,1),\"lbf\"\n"
     ],
     "language": "python",
     "metadata": {},
     "outputs": [
      {
       "output_type": "stream",
       "stream": "stdout",
       "text": [
        "The total drag force on the pole is  33.7 lbf\n"
       ]
      }
     ],
     "prompt_number": 67
    },
    {
     "cell_type": "heading",
     "level": 3,
     "metadata": {},
     "source": [
      "Example 7.9 page NO. 387"
     ]
    },
    {
     "cell_type": "code",
     "collapsed": false,
     "input": [
      "\n",
      "rou= 0.883        # density in kg/cu.m\n",
      "cp= 1014          # specific heat in J/(kg*K) \n",
      "v= 25.90e-6       # viscosity in sq.m/s  \n",
      "Pr = 0.689        # Prandtl Number \n",
      "kf= 0.03365       # thermal conductivity in W/(m.K)\n",
      "a = 0.376e-4      # diffusivity in sq.m/s\n",
      "V_inf=1           # velocity in m/s\n",
      "D=0.00013         # diameter in m\n",
      "L=0.01           # length of wire in cm\n",
      "Re_D=V_inf*D/v    # The Reynolds number of flow past the wire\n",
      "C=0.911           #value of C for cylinder from table 7.4\n",
      "m=0.385           #value of m for cylinder from table 7.4\n",
      "\n",
      "hc=kf*C*(Re_D)**m*(Pr)**(1/3)/D   # the convection coefficient in W/(m**2.K)\n",
      "Tw=500 # air stream temperature in K\n",
      "T_inf=300 # wire surface temperature in K\n",
      "As=math.pi*D*L # cross sectional area in sq.m\n",
      "qw=hc*As*(Tw-T_inf) # The heat transferred to the air from the wire\n",
      "resistivity=17e-6 # resistivity in ohm cm\n",
      "Resistance=resistivity*(L/(math.pi*D**2)) # resistance in ohm\n",
      "i=(qw*100/Resistance)**0.5 # current in ampere\n",
      "\n",
      "print\"The current is %.1f A\",round(i,1),\"A\"\n"
     ],
     "language": "python",
     "metadata": {},
     "outputs": [
      {
       "output_type": "stream",
       "stream": "stdout",
       "text": [
        "The current is %.1f A 3.3 A\n"
       ]
      }
     ],
     "prompt_number": 68
    },
    {
     "cell_type": "heading",
     "level": 3,
     "metadata": {},
     "source": [
      "Example 7.10 page NO.393"
     ]
    },
    {
     "cell_type": "code",
     "collapsed": false,
     "input": [
      "\n",
      "rou= 0.0735          # density in Ibm/cu.ft \n",
      "cp=0.240            # specific heat BTU/(lbm-degree Rankine) \n",
      "v= 16.88e-5         # viscosity in sq.ft/s \n",
      "kf = 0.01516        # thermal conductivity in BTU/(hr.ft.degree Rankine) \n",
      "a = 0.859           # diffusivity in sq.ft/hr \n",
      "Pr = 0.708          # Prandtl Number\n",
      "OD=0.875/12        # outer diameter in ft\n",
      "ID=0.06208          # inner diameter in ft\n",
      "A=0.003027         # cross sectional area in sq.ft\n",
      "L=2\n",
      "sL=1.5/12\n",
      "sT=1.3/12\n",
      "V_inf=12           # velocity of air in ft/s\n",
      "\n",
      "V1=(sT*V_inf)/(sT-OD)         # velocity at area A1 in ft/s\n",
      "sD=((sL)**2+(sT/2)**2)**0.5   # diagonal pitch in inch\n",
      "V2=(sT*V_inf)/(2*(sD-OD))\n",
      "Vmax=V1\n",
      "Re_D=Vmax*OD/v     # Reynolds Number\n",
      "sT_OD=1.3/0.875\n",
      "sT_sL=1.3/1.5\n",
      "f1=0.35            #  value of f1 for above values of sT/Do and Re\n",
      "f2=1.05            #Corresponding value of f2 for above values of sT/sL and Re\n",
      "gc=32.2\n",
      "N=7\n",
      "dP=N*f1*f2*(rou*Vmax**2/(2*gc))\n",
      "sL_Do=sL/OD\n",
      "C1=0.438           #value of C1 for above values of sT/Do and sL/Do\n",
      "C2=0.97            #value of C2 for above values of sT/Do and sL/Do\n",
      "m=0.565            #value of m for above values of sT/Do and sL/Do\n",
      "hc=kf*1.13*C1*C2*(Re_D)**m*(Pr)**(1/3.0)/OD # The convection coefficient\n",
      "As=70*math.pi*OD*L # outside surface area of 70 tubes\n",
      "Tw=200              # outside surface temeperature in degree F\n",
      "T_inf=70            #  air temperature in degree F\n",
      "q=hc*As*(Tw-T_inf)  # heat transferred\n",
      "\n",
      "print\"The pressure drop is  \",round(dP/147,3),\"psi\"\n",
      "print\"The heat transferred is\",round(q,1),\" BTU/hr\"\n"
     ],
     "language": "python",
     "metadata": {},
     "outputs": [
      {
       "output_type": "stream",
       "stream": "stdout",
       "text": [
        "The pressure drop is   0.027 psi\n",
        "The heat transferred is 87571.6  BTU/hr\n"
       ]
      }
     ],
     "prompt_number": 77
    },
    {
     "cell_type": "code",
     "collapsed": false,
     "input": [],
     "language": "python",
     "metadata": {},
     "outputs": []
    }
   ],
   "metadata": {}
  }
 ]
}