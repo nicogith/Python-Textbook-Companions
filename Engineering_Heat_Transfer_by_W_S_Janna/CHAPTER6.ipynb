{
 "metadata": {
  "name": ""
 },
 "nbformat": 3,
 "nbformat_minor": 0,
 "worksheets": [
  {
   "cells": [
    {
     "cell_type": "heading",
     "level": 1,
     "metadata": {},
     "source": [
      "Chapter 6: Convection Heat Transfer in a Closed Circuit"
     ]
    },
    {
     "cell_type": "heading",
     "level": 3,
     "metadata": {},
     "source": [
      "Example 6.1 page No.301"
     ]
    },
    {
     "cell_type": "code",
     "collapsed": false,
     "input": [
      "\n",
      "Cp_20=2382\n",
      "rou_20=1.116*1000\n",
      "v_20=19.18e-6\n",
      "kf_20=0.249\n",
      "a_20=0.939e-7\n",
      "Pr_20=204.0\n",
      "OD=1.588/100.0\n",
      "ID=1.446/100.0\n",
      "A=1.642e-4\n",
      "Q=3.25e-6\n",
      "\n",
      "V=Q/A\n",
      "Re=V*ID/v_20\n",
      "Z_h=0.05*ID*Re\n",
      "Tbi=20 # bulk-fluid inlet temperature in degree celsius\n",
      "qw=2200 # incident heat flux in W/m**2\n",
      "L=3 # Length of copper tube in m\n",
      "R=ID/2 # inner radius in m\n",
      "Tbo=Tbi+(2*qw*a_20*L)/(V*kf_20*R)\n",
      "Z_t=0.05*ID*Re*Pr_20\n",
      "Two=Tbo+(11*qw*ID)/(48*kf_20) # The wall temperature at outlet in degree celsius\n",
      "\n",
      "print\"The bulk-fluid outlet temperature is  degree celsius\",round(Tbo,0),\"C\"\n",
      "print\"The wall temperature at outlet is  degree celsius\",round(Two,0),\"C\"\n"
     ],
     "language": "python",
     "metadata": {},
     "outputs": [
      {
       "output_type": "stream",
       "stream": "stdout",
       "text": [
        "The bulk-fluid outlet temperature is  degree celsius 55.0 C\n",
        "The wall temperature at outlet is  degree celsius 84.0 C\n"
       ]
      }
     ],
     "prompt_number": 2
    },
    {
     "cell_type": "heading",
     "level": 3,
     "metadata": {},
     "source": [
      "Example 6.2 page No.308"
     ]
    },
    {
     "cell_type": "code",
     "collapsed": false,
     "input": [
      "\n",
      "T_avg=(140+70)/2.0\n",
      "rou=0.994*62.4\n",
      "kf=0.363\n",
      "cp=0.9980\n",
      "a=5.86e-3\n",
      "v=0.708e-5\n",
      "Pr=4.34\n",
      "OD=1.125/12.0   # outer diameter in ft\n",
      "ID=0.8792     # inner diameter in ft\n",
      "A=0.006071    # cross sectional area in sq.ft\n",
      "m_flow=1.5    # mass flow rate in lbm/s\n",
      "V=m_flow*3600.0/(rou*A); # velocity in ft/hr\n",
      "import math\n",
      "L=20.0\n",
      "Tw=240.0\n",
      "Tbo=140.0\n",
      "Tbi=70.0\n",
      "hL=-(rou*V*ID*cp*math.log((Tw-Tbo)/(Tw-Tbi)))/(4*L)\n",
      "\n",
      "print\"The average convective coefficient is \",round(hL/10,1),\"BTU/(hr. sq.ft.degree Rankine\"\n"
     ],
     "language": "python",
     "metadata": {},
     "outputs": [
      {
       "output_type": "stream",
       "stream": "stdout",
       "text": [
        "The velocity is  14340.4425132 ft/hr\n",
        "The average convective coefficient is  517.7 BTU/(hr. sq.ft.degree Rankine\n"
       ]
      }
     ],
     "prompt_number": 5
    },
    {
     "cell_type": "code",
     "collapsed": false,
     "input": [
      "%matplotlib inline"
     ],
     "language": "python",
     "metadata": {},
     "outputs": []
    },
    {
     "cell_type": "heading",
     "level": 3,
     "metadata": {},
     "source": [
      "Example 6.3 page No. 310"
     ]
    },
    {
     "cell_type": "code",
     "collapsed": false,
     "input": [
      "\n",
      "kf=0.6         # thermal conductivity in W/(m-K)\n",
      "cp=3.85*1000   # specific heat in J/(kg*K)\n",
      "rou=1030      # density in kg/m**3\n",
      "mu=2.12e3     # viscosity in N s/m**2\n",
      "OD=1.588/100   # outer diameter in m\n",
      "ID=1.340/100   # inner diameter in m\n",
      "A=1.410e-4     # cross sectional area in m**2\n",
      "rou=1030\n",
      "V=0.1\n",
      "mu=2.12e-3\n",
      "\n",
      "Re=rou*V*ID/(mu)\n",
      "ze=0.05*ID*Re\n",
      "Tbo=71.7 # final temperature in degree celsius\n",
      "Tbi=20 # initial temperature in degree celsius\n",
      "L=6 # heating length in m\n",
      "qw=rou*V*ID*cp*(Tbo-Tbi)/(4*L)\n",
      "q=qw*math.pi*ID*L\n",
      "Pr=(cp*mu)/kf # Prandtl Number\n",
      "zf=0.05*ID*Re*Pr\n",
      "\n",
      "print\"The heat flux is \",round(qw,0),\"W/sq.m\"\n",
      "print\"The power required is \",round(q,0),\"W\"\n",
      "print\"The length required for flow to be thermally developed is\",round(zf,1),\"m\"\n",
      "import matplotlib.pyplot as plt\n",
      "fig = plt.figure()\n",
      "ax = fig.add_subplot(111)\n",
      "\n",
      "z1=[0,0.2,1,6]\n",
      "Twz=[20,40,60,125]\n",
      "z2=[-1,0,6]\n",
      "Twb=[20,20,72]\n",
      "z3=[0.2,1,2,6]\n",
      "hz=[112,72,58,40]\n",
      "plt.grid()\n",
      "xlabel(\"z  (m)\") \n",
      "ylabel(\"T  (C)  \") \n",
      "plt.xlim((-1,6))\n",
      "plt.ylim((0,140))\n",
      "\n",
      "ax.annotate('(Twz)', xy=(6,125))\n",
      "ax.annotate('(Tbz)', xy=(6,72))\n",
      "ax.annotate('(hz)', xy=(6,40))\n",
      "a1=plot(z1,Twz)\n",
      "a2=plot(z2,Twb)\n",
      "a3=plot(z3,hz)\n",
      "show(a1)\n",
      "show(a2)\n",
      "show(a3)\n",
      "\n"
     ],
     "language": "python",
     "metadata": {},
     "outputs": [
      {
       "output_type": "stream",
       "stream": "stdout",
       "text": [
        "The heat flux is  11447.0 W/sq.m\n",
        "The power required is  2891.0 W\n",
        "The length required for flow to be thermally developed is 5.9 m\n"
       ]
      },
      {
       "metadata": {},
       "output_type": "display_data",
       "png": "[encoded data removed]",
       "text": [
        "<matplotlib.figure.Figure at 0x7650da0>"
       ]
      }
     ],
     "prompt_number": 2
    },
    {
     "cell_type": "heading",
     "level": 3,
     "metadata": {},
     "source": [
      "Example 6.4 page No. 313"
     ]
    },
    {
     "cell_type": "code",
     "collapsed": false,
     "input": [
      "%matplotlib inline"
     ],
     "language": "python",
     "metadata": {},
     "outputs": []
    },
    {
     "cell_type": "code",
     "collapsed": false,
     "input": [
      "\n",
      "kf=0.04       # thermal conductivity in BTU/(hr.ft.\u00b0R) \n",
      "cp=0.2139     # specific heat in BTU/(lbm-\u00b0R)\n",
      "rou= 1.489*(62.4) # density in lbm/cu.ft\n",
      "v=0.272e-5    #   viscosity in sq.ft/s\n",
      "a=2.04e-3     # diffusivity in sq.ft/hr\n",
      "Pr=4.8        # Prandtl Number\n",
      "OD=0.5/12.0     # outer diameter in ft\n",
      "ID=0.03350      # inner diameter in ft\n",
      "A=0.0008814     # cross sectional area in sq.ft\n",
      "z=5.0\n",
      "Tw=32.0\n",
      "Tbo=-4.0\n",
      "Tbi=-40.0\n",
      "L=5.0\n",
      "\n",
      "x=2*a*L/((kf*ID/2.0)*(math.log((Tw-Tbo)/(Tw-Tbi))))   #x=V/hl\n",
      "V=336.0              #ft/h\n",
      "V_final=V/3600.0     #ft/s\n",
      "hl_=V_final/(x)     #\n",
      "\n",
      "Re=(V_final/3600.0)*ID/v\n",
      "m_Fr=rou*A*V_final\n",
      "As=math.pi*ID*L\n",
      "q=hl_*As*((Tw-Tbo)-(Tw-Tbi))/(log((Tw-Tbo)/(Tw-Tbi)))\n",
      "q_check=m_Fr*cp*(Tbo-Tbi)\n",
      "rou_water=1.002*62.4 # density of water in lbm/ft**3 from appendix table C11\n",
      "m_water=rou_water*L*(2/12.0)*(3/12.0)\n",
      "t=144*m_water/(-q*3600)\n",
      "\n",
      "print\"The mass flow rate of Freon-12 is \",round(m_Fr*3600,2),\"lbm/hr\"\n",
      "print\"The required time is \",round(t,0),\"hr\"\n",
      "\n",
      "\n",
      "import matplotlib.pyplot as plt\n",
      "fig = plt.figure()\n",
      "ax = fig.add_subplot(111)\n",
      "\n",
      "z1=[0,5]\n",
      "Tw=[32,32]\n",
      "z2=[0,0.185,0.74,1.85,2.77,3.70,5.0]\n",
      "Tbz=[-40,-34.7,-27.4,-18.5,-13.5,-8.9,-4.1]\n",
      "z3=[0.185,1,2,5.0]\n",
      "hz=[23,-13,-19,-25]\n",
      "\n",
      "plt.grid()\n",
      "xlabel(\"z  (m)\") \n",
      "ylabel(\"T  (F)  \") \n",
      "plt.xlim((-2,5))\n",
      "plt.ylim((-40,35))\n",
      "\n",
      "ax.annotate('(Tw=32 F)', xy=(5,30))\n",
      "ax.annotate('(Tbz)', xy=(5,-5))\n",
      "ax.annotate('(hz)', xy=(5,-25))\n",
      "ax.annotate('(hydronamic entry\\n length)', xy=(-2,-40))\n",
      "a1=plot(z1,Tw)\n",
      "a2=plot(z2,Tbz)\n",
      "a3=plot(z3,hz)\n",
      "title('$Variation of Constant wall temprature with length$')\n",
      "show(a1)\n",
      "show(a2)\n",
      "show(a3)\n",
      "\n",
      "x1=[0.001,0.01,0.1,1]\n",
      "Nu1=[31,11,5.5,5.2]\n",
      "Nu2=[25,10,5.3,5.1]\n",
      "Nu3=[22,9,5.1,4.9]\n",
      "Nu4=[17,7,4.1,4]\n",
      "Nu5=[15,6.5,4,3.9]\n",
      "Nu6=[13.8,6,3.9,3.8]\n",
      "\n",
      "\n",
      "plt.grid()\n",
      "xlabel(\"1/Gz=z/(DRePr)\") \n",
      "ylabel(\"Nu  \") \n",
      "\n",
      "plt.xlim((0.001,1))\n",
      "plt.ylim((0,35))\n",
      "ax.annotate('(Constant wall temprature)', xy=(0.1,30))\n",
      "ax.annotate('(Hydronamically and thermally developing laminar flow)', xy=(0.1,25))\n",
      "b1=plot(x1,Nu1,label='Pr=0.7')\n",
      "b2=plot(x1,Nu2,label='Pr=2')\n",
      "b3=plot(x1,Nu3,label='Pr=5')\n",
      "b4=plot(x1,Nu4,label='Pr=0.7')\n",
      "b5=plot(x1,Nu5,label='Pr=2')\n",
      "b6=plot(x1,Nu6,label='Pr=5')\n",
      "plt.legend(loc='upper right')\n",
      "title('$Variation of Nusslet number with dimensionless length$')\n",
      "show(b1)\n",
      "show(b2)\n",
      "show(b3)\n",
      "show(b4)\n",
      "show(b5)\n",
      "show(b6)"
     ],
     "language": "python",
     "metadata": {},
     "outputs": [
      {
       "output_type": "stream",
       "stream": "stdout",
       "text": [
        "The mass flow rate of Freon-12 is  27.52 lbm/hr\n",
        "The required time is  9.0 hr\n"
       ]
      },
      {
       "metadata": {},
       "output_type": "display_data",
       "png": "[encoded data removed]",
       "text": [
        "<matplotlib.figure.Figure at 0x7b9cf28>"
       ]
      },
      {
       "metadata": {},
       "output_type": "display_data",
       "png": "[encoded data removed]",
       "text": [
        "<matplotlib.figure.Figure at 0x7669b00>"
       ]
      }
     ],
     "prompt_number": 11
    },
    {
     "cell_type": "heading",
     "level": 3,
     "metadata": {},
     "source": [
      "Example 6.5 page No.320"
     ]
    },
    {
     "cell_type": "code",
     "collapsed": false,
     "input": [
      "\n",
      "OD = 2.858/100.0     # outer diameter in m \n",
      "ID = 2.528/100.0     # inner diameter in m \n",
      "A = 5.019e-4         # cross sectional area in sq.m\n",
      "Q=80*2.957e-5/120   # The volume flow rate of water (at 20\u00b0C) in cu.m/s\n",
      "p_20= 1.000*1000    # density of water at 20\u00b0C in kg/cu.m\n",
      "p_50= 0.990*(1000)  # density in kg/m3 \n",
      "cp= 4181             # specific heat in J/(kg*K) \n",
      "v = 0.586e-6         # viscosity in sq.m/s \n",
      "kf = 0.640           # thermal conductivity in W/(m.K) \n",
      "a = 1.533e-7         # diffusivity in sq.m/s \n",
      "Pr = 3.68              # Prandtl number\n",
      "\n",
      "import math\n",
      "mass_flow=p_20*Q    # mass flow rate through the tube in kg/s\n",
      "L=3               #  length of tube in m\n",
      "As=math.pi*ID*L\n",
      "Tbo=80           # final temperature in \u00b0C\n",
      "Tbi=20           # initial temperature in \u00b0C\n",
      "qw=mass_flow*cp*(Tbo-Tbi)/(As)\n",
      "q=qw*As\n",
      "A=math.pi*(ID/2)**2\n",
      "print\"The power required is\",round(q,0),\"W\"\n",
      "V=mass_flow/(p_50*A) # average velocity at 50 \u00b0C\n",
      "Re=(V*ID)/v        # Reynold's Number\n",
      "inv_Gz=L/(Re*ID*Pr) # The inverse Graetz number at tube end, based on 50\u00b0C conditions\n",
      "Nu=6.9 #value of corresponding Nusselts Number from figure 6.12\n",
      "hz=(Nu*kf)/ID\n",
      "Two=(qw/hz)+Tbo # The outlet wall temperature in \u00b0C\n",
      "print\"\\nThe outlet wall temperature is\",round(Two,0),\"C\"\n"
     ],
     "language": "python",
     "metadata": {},
     "outputs": [
      {
       "output_type": "stream",
       "stream": "stdout",
       "text": [
        "The power required is 4945.0 W\n",
        "\n",
        "The outlet wall temperature is 199.0 C\n"
       ]
      }
     ],
     "prompt_number": 19
    },
    {
     "cell_type": "heading",
     "level": 3,
     "metadata": {},
     "source": [
      "Example 6.6 page No.325"
     ]
    },
    {
     "cell_type": "code",
     "collapsed": false,
     "input": [
      "\n",
      "p = 0.077             # density in lbm/ft^3 \n",
      "cp = 0.240             # specific heat in BTU/(lbm.degree Rankine) \n",
      "v = 15.28e-5          # viscosity in ft^2/s \n",
      "kf = 0.0146           # thermal conductivity in BTU/(hr.ft.\"R) \n",
      "a = 0.776              # diffusivity in ft^2/hr \n",
      "Pr = 0.711            # prandtl number \n",
      "D=7/12.0               # diameter in ft\n",
      "L=40                 #  length in ft\n",
      "Tbo=72                # outlet temperature in degree Fahrenheit\n",
      "Tbi=45                # inlet temperature in degree Fahrenheit\n",
      "A=math.pi*(D**2)/4    # cross sectional area of duct in ft^2\n",
      "rou_o=.0748\n",
      "V=10                 # average velocity in ft/s\n",
      "mass_flow=rou_o*A*V\n",
      "\n",
      "V_avg=mass_flow/(p*A)\n",
      "Re=(V_avg*D)/v\n",
      "q=mass_flow*cp*(Tbo-Tbi)\n",
      "hc=1                 # convection coefficient between the outside duct wall \n",
      "T_inf=105            # The temperature of attic air surrounding the duct in degree Fahrenheit\n",
      "hz=(0.023*Re**(0.8)*Pr**0.4)*kf/D \n",
      "qw=(T_inf-Tbo)/((1/hc)+(1/hz)) \n",
      "Two=qw*(1/hz)+Tbo    # The wall temperature at exit in degree Fahrenheit\n",
      "\n",
      "print\"The heat gained by air is\",round(q,3),\"BTU\"\n",
      "print\"The wall temperature at exit is \",round(Two,1),\"F\"\n"
     ],
     "language": "python",
     "metadata": {},
     "outputs": [
      {
       "output_type": "stream",
       "stream": "stdout",
       "text": [
        "The heat gained by air is 1.295 BTU\n",
        "The wall temperature at exit is  82.1 F\n"
       ]
      }
     ],
     "prompt_number": 28
    },
    {
     "cell_type": "code",
     "collapsed": false,
     "input": [],
     "language": "python",
     "metadata": {},
     "outputs": []
    }
   ],
   "metadata": {}
  }
 ]
}