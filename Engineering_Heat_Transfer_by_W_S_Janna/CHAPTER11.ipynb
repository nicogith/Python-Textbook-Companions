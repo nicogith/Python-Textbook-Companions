{
 "metadata": {
  "name": "CHAPTER11"
 },
 "nbformat": 3,
 "nbformat_minor": 0,
 "worksheets": [
  {
   "cells": [
    {
     "cell_type": "heading",
     "level": 1,
     "metadata": {},
     "source": [
      "Chapter 11: Introduction to Radiation Heat Transfer"
     ]
    },
    {
     "cell_type": "heading",
     "level": 3,
     "metadata": {},
     "source": [
      "Example 11.1 Page NO.554"
     ]
    },
    {
     "cell_type": "code",
     "collapsed": false,
     "input": [
      "\n",
      "\n",
      "import math\n",
      "dA2=(1*1)/144.0\n",
      "Beta1=40*math.pi/180.0\n",
      "r=4\n",
      "dw2_1=dA2*math.cos(Beta1)/r**2\n",
      "dA3=dA2\n",
      "Beta2=0\n",
      "dw3_1=dA3*cos(Beta2)/r**2\n",
      "\n",
      "theta2=math.pi*50/180.0\n",
      "theta3=math.pi*60/180.0\n",
      "I_theta2=2000*(1-0.4*(sin(theta2))**2)\n",
      "I_theta3=2000*(1-0.4*(sin(theta3))**2)\n",
      "\n",
      "dA1=1/144.0\n",
      "dq1_2=I_theta2*dA1*math.cos(theta2)*dw2_1          #In book calculation mistake\n",
      "dq1_3=I_theta3*dA1*math.cos(theta2)*dw3_1\n",
      "\n",
      "print\"(a)The solid angle subtended by area dA2 with respect to dA1 is \",round(dw2_1,4),\"sr\"\n",
      "print\" The solid angle subtended by area dA3 with respect to dA1 is  \",round(dw3_1,4),\"sr\"\n",
      "print\"(b) The intensity of radiation emitted from dA1 in the direction of dA2 is \",round(I_theta2,0),\"BTU/(hr.sq.ft.sr)\"\n",
      "print\" The intensity of radiation emitted from dA1 in the direction of dA3 is\",round(I_theta3,0),\"BTU/(hr.sq.ft.sr)\"\n",
      "print\"(c)The rate at which radiation emitted by dA1 is intercepted by dA2 is \",round(dq1_2,4),\"BTU/hr\"\n",
      "print\" The rate at which radiation emitted by dA1 is intercepted by dA3 is \",round(dq1_3,4),\"BTU/hr\"\n"
     ],
     "language": "python",
     "metadata": {},
     "outputs": [
      {
       "output_type": "stream",
       "stream": "stdout",
       "text": [
        "(a)The solid angle subtended by area dA2 with respect to dA1 is  0.0003 sr\n",
        " The solid angle subtended by area dA3 with respect to dA1 is   0.0004 sr\n",
        "(b) The intensity of radiation emitted from dA1 in the direction of dA2 is  1531.0 BTU/(hr.sq.ft.sr)\n",
        " The intensity of radiation emitted from dA1 in the direction of dA3 is 1400.0 BTU/(hr.sq.ft.sr)\n",
        "(c)The rate at which radiation emitted by dA1 is intercepted by dA2 is  0.0023 BTU/hr\n",
        " The rate at which radiation emitted by dA1 is intercepted by dA3 is  0.0027 BTU/hr\n"
       ]
      }
     ],
     "prompt_number": 13
    },
    {
     "cell_type": "heading",
     "level": 3,
     "metadata": {},
     "source": [
      "Example 11.2 Page NO.557"
     ]
    },
    {
     "cell_type": "code",
     "collapsed": false,
     "input": [
      "\n",
      "dA2=0.02*0.02\n",
      "Beta=0\n",
      "r=1\n",
      "\n",
      "import math\n",
      "dw2_1=dA2*math.cos(Beta)/r**2\n",
      "dA1=dA2\n",
      "theta=math.pi*30/180.0\n",
      "I_theta=1000# The intensity of radiation leaving dA1 in any direction is 1 000 W/(m**2.sr\n",
      "dq1_2=I_theta*dA1*cos(theta)*dw2_1\n",
      "dQ1_2=dq1_2/dA2\n",
      "\n",
      "print\"(a)The solid angle subtended by area dA2 with respect to dA1 is \",round(dw2_1,4),\"sr\"\n",
      "print\"(b)The rate at which radiation emitted by dA1 is intercepted by dA2 is\",round(dq1_2,5),\"W\"\n",
      "print\"(c)The irradiation associated with dA2 is \",round(dQ1_2,3),\"W/sq.m\"\n"
     ],
     "language": "python",
     "metadata": {},
     "outputs": [
      {
       "output_type": "stream",
       "stream": "stdout",
       "text": [
        "(a)The solid angle subtended by area dA2 with respect to dA1 is  0.0004 sr\n",
        "(b)The rate at which radiation emitted by dA1 is intercepted by dA2 is 0.00014 W\n",
        "(c)The irradiation associated with dA2 is  0.346 W/sq.m\n"
       ]
      }
     ],
     "prompt_number": 16
    },
    {
     "cell_type": "heading",
     "level": 3,
     "metadata": {},
     "source": [
      "Example 11.3 Page NO. 563"
     ]
    },
    {
     "cell_type": "code",
     "collapsed": false,
     "input": [
      "\n",
      "D=2.5/12.0          # diameter in ft\n",
      "L=4.5/12.0          # length in ft\n",
      "\n",
      "import math\n",
      "A=(2*math.pi*D**2/4)+(math.pi*D*L)\n",
      "A_hole=math.pi*(1/(8.0*12.0))**2/4.0\n",
      "f=A_hole/A          # fraction of area removed\n",
      "emissivity=0.039\n",
      "emissivity_hole=emissivity/(emissivity+(1-emissivity)*f)\n",
      "\n",
      "sigma=0.1714e-8      # stefan Boltzmann constant in BTU/(hr~ft**2 degree R)\n",
      "T=150+460            # temperature in degree R\n",
      "qe=emissivity_hole*sigma*T**4\n",
      "Qe=A_hole*qe\n",
      "\n",
      "print\"(a)The emissivity of the hole is %.4f\",round(emissivity_hole,4)\n",
      "print\"(b)The heat lost by the hole is \",round(Qe,4),\"BTU/hr\"\n"
     ],
     "language": "python",
     "metadata": {},
     "outputs": [
      {
       "output_type": "stream",
       "stream": "stdout",
       "text": [
        "(a)The emissivity of the hole is %.4f 0.9933\n",
        "(b)The heat lost by the hole is  0.0201 BTU/hr\n"
       ]
      }
     ],
     "prompt_number": 23
    },
    {
     "cell_type": "heading",
     "level": 3,
     "metadata": {},
     "source": [
      "Example 11.4 Page NO.568"
     ]
    },
    {
     "cell_type": "code",
     "collapsed": false,
     "input": [
      "\n",
      "T=2800              #Temprature\n",
      "lambda1=4e-7        #Wavelength\n",
      "lambda2=7e-7\n",
      "hT=lambda1*T\n",
      "\n",
      "lambdaT=lambda2*T\n",
      "I1=0.0051           #Fraction of Total Radiation Emitted for lower Wavelength-Temperature Product from Table 11.1\n",
      "I2=0.065            #Fraction of Total Radiation Emitted for upper Wavelength-Temperature Product from Table 11.1\n",
      "dI=I2-I1\n",
      "\n",
      "print\"The percentage of total emitted energy that lies in the visible range is\",round(dI*100,0),\"percant\"\n"
     ],
     "language": "python",
     "metadata": {},
     "outputs": [
      {
       "output_type": "stream",
       "stream": "stdout",
       "text": [
        "The percentage of total emitted energy that lies in the visible range is 6.0 percant\n"
       ]
      }
     ],
     "prompt_number": 27
    },
    {
     "cell_type": "heading",
     "level": 3,
     "metadata": {},
     "source": [
      "Example 11.5 Page NO. 570"
     ]
    },
    {
     "cell_type": "code",
     "collapsed": false,
     "input": [
      "\n",
      "lambda_max=0.5e-6   # maximum wavelength in m\n",
      "T=2.898e-3/lambda_max\n",
      "sigma=5.675e-8      # value of Stefan-Boltzmann constant in W/(m**2.K**4)\n",
      "q=sigma*T**4\n",
      "\n",
      "print\"The Surface Temperature of the Sun is \",round(T,2),\"K\"\n",
      "print\"The heat flux emitted is \",round(q,0),\"W/sq.m\"\n"
     ],
     "language": "python",
     "metadata": {},
     "outputs": [
      {
       "output_type": "stream",
       "stream": "stdout",
       "text": [
        "The Surface Temperature of the Sun is  5796.0 K\n",
        "The heat flux emitted is  64044136.0 W/sq.m\n"
       ]
      }
     ],
     "prompt_number": 29
    },
    {
     "cell_type": "heading",
     "level": 3,
     "metadata": {},
     "source": [
      "Example 11.6 Page NO.575"
     ]
    },
    {
     "cell_type": "code",
     "collapsed": false,
     "input": [
      "\n",
      "lambda1=300e-9         # lower limit of wavelength\n",
      "lambda2=380e-9         # upper limit of wavelength\n",
      "T=5800\n",
      "lambda1_T=lambda1*T\n",
      "lambda2_T=lambda2*T\n",
      "I1=0.101               #Fraction of Total Radiation Emitted for lower Wavelength-Temperature Product from Table 11.1\n",
      "I2=0.0334              #Fraction of Total Radiation Emitted for upper Wavelength-Temperature Product from Table 11.1\n",
      "dI=abs(I2-I1)\n",
      "t=dI*0.68               # transmissivity\n",
      "q=1100                  # radiation received by car in W/sq.m\n",
      "q_in=t*q                # energy transmitted from the sun through the glass\n",
      "\n",
      "\n",
      "Tb=311                 # temperature of black body source in K\n",
      "lambda1_Tb=lambda1*Tb\n",
      "lambda2_Tb=lambda2*Tb\n",
      "dI_b=0                # Table 11.1 gives negligibly small values of the corresponding integrals.\n",
      "t_b=dI_b*0.68         # transmissivity\n",
      "q_out=t_b*q\n",
      "\n",
      "print\"(a)The energy transmitted from the sun through the glass is \",round(q_in,1),\"W/sq.m\"\n",
      "print\"(b)the rate at which radiant energy from the car interior is transmitted through the glass windshield is\",q_out,\"W/sq.m\"\n"
     ],
     "language": "python",
     "metadata": {},
     "outputs": [
      {
       "output_type": "stream",
       "stream": "stdout",
       "text": [
        "(a)The energy transmitted from the sun through the glass is  50.6 W/sq.m\n",
        "(b)the rate at which radiant energy from the car interior is transmitted through the glass windshield is 0.0 W/sq.m\n"
       ]
      }
     ],
     "prompt_number": 32
    },
    {
     "cell_type": "code",
     "collapsed": false,
     "input": [],
     "language": "python",
     "metadata": {},
     "outputs": []
    }
   ],
   "metadata": {}
  }
 ]
}