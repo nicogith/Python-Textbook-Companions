{
 "metadata": {
  "name": "CHAPTER 3"
 },
 "nbformat": 3,
 "nbformat_minor": 0,
 "worksheets": [
  {
   "cells": [
    {
     "cell_type": "heading",
     "level": 1,
     "metadata": {},
     "source": [
      "Chapter 3:Steady-State Conduction in Multiple Dimensions"
     ]
    },
    {
     "cell_type": "heading",
     "level": 3,
     "metadata": {},
     "source": [
      "Example 3.1 Page No.132"
     ]
    },
    {
     "cell_type": "code",
     "collapsed": false,
     "input": [
      "\n",
      "OD=0.02858              # outer diameter in m\n",
      "M=8.0                     # total number of heat-flow lanes\n",
      "N=6.0                     # number of squares per lane\n",
      "S_L=M/N                   # conduction shape factor\n",
      "k=0.128          # thermal conductivity in W/(m.K) for concrete from appendix table B3\n",
      "T1=85            # temperature of tube surface\n",
      "T2=0             # temperature of ground beneath the slab\n",
      "\n",
      "q_half=k*S_L*(T1-T2)\n",
      "q=2*q_half\n",
      "\n",
      "print\"The total heat flow per tube is\",round(q,0),\" W/m\"\n"
     ],
     "language": "python",
     "metadata": {},
     "outputs": [
      {
       "output_type": "stream",
       "stream": "stdout",
       "text": [
        "The total heat flow per tube is 29.0  W/m\n"
       ]
      }
     ],
     "prompt_number": 3
    },
    {
     "cell_type": "heading",
     "level": 3,
     "metadata": {},
     "source": [
      "Example 3.2 Page No.134"
     ]
    },
    {
     "cell_type": "code",
     "collapsed": false,
     "input": [
      "\n",
      "import math\n",
      "OD=10.74/12 # diameter in ft\n",
      "R=OD/2\n",
      "T1=140.0\n",
      "T2=65.0\n",
      "k=0.072 # thermal conductivity in BTU/(hr-ft. degree R)\n",
      "d=18.0/12.0 # distance from centre-line\n",
      "S_L=(2*math.pi)/(math.acosh(d/R))\n",
      "q_L=k*S_L*(T1-T2)\n",
      "print\"The heat transferred from the buried pipe per unit length is \",round(q_L,2),\"BTU/(hr.ft)\"\n"
     ],
     "language": "python",
     "metadata": {},
     "outputs": [
      {
       "output_type": "stream",
       "stream": "stdout",
       "text": [
        "The heat transferred from the buried pipe per unit length is  18.05 BTU/(hr.ft)\n"
       ]
      }
     ],
     "prompt_number": 7
    },
    {
     "cell_type": "heading",
     "level": 3,
     "metadata": {},
     "source": [
      "Example 3.3 Page No.135"
     ]
    },
    {
     "cell_type": "code",
     "collapsed": false,
     "input": [
      "\n",
      "k = 1.07           # thermal conductivity of silica brick from appendix table B3 in W/(m.K)\n",
      "S1_A=0.138*0.138/0.006\n",
      "nA=2\n",
      "\n",
      "St_A=nA*S1_A      # Total shape factor of component A\n",
      "\n",
      "S1_B=0.138*0.188/0.006\n",
      "nB=4\n",
      "St_B=nB*S1_B # Total shape factor of component B\n",
      "\n",
      "S3_C=0.15*0.006\n",
      "nC=8\n",
      "St_C=nC*S3_C # Total shape factor of component C\n",
      "\n",
      "S2_D=0.54*0.188\n",
      "nD=4\n",
      "St_D=nD*S2_D # Total shape factor of component D\n",
      "\n",
      "S2_E=0.138*0.54\n",
      "nE=8\n",
      "St_E=nE*S2_E # Total shape factor of component E\n",
      "\n",
      "S=St_A+St_B+St_C+St_D+St_E\n",
      "T1=550\n",
      "T2=30\n",
      "q=k*S*(T1-T2)\n",
      "S=St_A+St_B\n",
      "q_1=k*S*(T1-T2)\n",
      "Error=(q-q_1)/q\n",
      "\n",
      "print\"(a)The heat transferred through the walls of the furnace is \",round(q/1000,1),\"kw\"\n",
      "print\"(b The heat transferred is\",q_1/1000,1,\"kw\"\n",
      "print\"  The error introduced by neglecting heat flow through the edges and corners is \",round(Error*100,1),\" percent\"\n"
     ],
     "language": "python",
     "metadata": {},
     "outputs": [
      {
       "output_type": "stream",
       "stream": "stdout",
       "text": [
        "(a)The heat transferred through the walls of the furnace is  13.7 kw\n",
        "(b The heat transferred is 13.1555216 1 kw\n",
        "  The error introduced by neglecting heat flow through the edges and corners is  4.1  percent\n"
       ]
      }
     ],
     "prompt_number": 1
    },
    {
     "cell_type": "heading",
     "level": 3,
     "metadata": {},
     "source": [
      "Example 3.4 Page No. 142"
     ]
    },
    {
     "cell_type": "code",
     "collapsed": false,
     "input": [
      "\n",
      "OD=4.5/12.0          # diameter in ft\n",
      "R=OD/2.0\n",
      "\n",
      "import math\n",
      "L_A=4.5           # length in ft\n",
      "S_A=(2*math.pi*L_A)/(math.log(2*(L_A)/R))\n",
      "L_B=18 # length in ft\n",
      "S_B=(2*math.pi*L_B)/(math.acosh(L_A/R))\n",
      "S=2*S_A+S_B\n",
      "\n",
      "print\"The total conduction shape factor for the system is\",round(S,1)\n"
     ],
     "language": "python",
     "metadata": {},
     "outputs": [
      {
       "output_type": "stream",
       "stream": "stdout",
       "text": [
        "The total conduction shape factor for the system is 43.8\n"
       ]
      }
     ],
     "prompt_number": 3
    },
    {
     "cell_type": "heading",
     "level": 3,
     "metadata": {},
     "source": [
      "Example 3.5 Page No. 151"
     ]
    },
    {
     "cell_type": "code",
     "collapsed": false,
     "input": [
      "%matplotlib inline"
     ],
     "language": "python",
     "metadata": {},
     "outputs": []
    },
    {
     "cell_type": "code",
     "collapsed": false,
     "input": [
      "\n",
      "h=1.1           # convective coefficient in BTU/(hr.ft^2. degree R)\n",
      "Tw=200.0\n",
      "T_inf=68.0      # ambient temperature\n",
      "k=0.47          # thermal conductivity in BTU/(hr.ft.degree R) from table B3\n",
      "D=0.25/12       # diameter in ft\n",
      "\n",
      "A=math.pi*D**(2)/4.0     # cross sectional area in ft^2\n",
      "P=math.pi*D         # perimeter in ft\n",
      "L=6/12.0 # length in ft\n",
      "mL=L*((h*P)/(k*A))**(0.5)\n",
      "dz=1.0\n",
      "L=4.0\n",
      "de=dz/L\n",
      "K=2+(mL*de)**2\n",
      "\n",
      "T4=T_inf+(Tw-T_inf)*(2/(K**4-4*K**2+2))\n",
      "T3=T_inf+(Tw-T_inf)*(K/(K**4-4*K**2+2))\n",
      "T2=T_inf+(Tw-T_inf)*((K**2-1)/(K**4-4*K**2+2))\n",
      "T1=T_inf+(Tw-T_inf)*((K**3-3*K)/(K**4-4*K**2+2))\n",
      "\n",
      "print\"The temprature distribution is T4=\",round(T4,2),\"F\"\n",
      "print\"The temprature distribution is T3=\",round(T3,2),\"F\"\n",
      "print\"The temprature distribution is T2=\",round(T2,2),\"F\"\n",
      "print\"The temprature distribution is T1=\",round(T1,2),\"F\"\n",
      "\n",
      "import matplotlib.pyplot as plt\n",
      "import numpy as np\n",
      "T=[200.0,77.33,68.66,68.05,68]\n",
      "z=[0,1.5,3,4.5,6]\n",
      "xlim(0,6)\n",
      "ylim(50,200)\n",
      "plt.ylabel('T (C)')\n",
      "plt.xlabel('z (in)')\n",
      "plt.annotate('Numeric approximation using 4 nodes', xy=(2,82), xytext=(0,30),\n",
      "            arrowprops=dict(facecolor='black', shrink=0.05),\n",
      "            )\n",
      "a=plot(z,T)\n",
      "\n",
      "T1=[200.0,82.81,69.66,68.19,68.04]\n",
      "plt.ylabel('T1 (F)')\n",
      "plt.xlabel('z (in)')\n",
      "plt.annotate('exact solution', xy=(1.5,80), xytext=(0,60),\n",
      "            arrowprops=dict(facecolor='black', shrink=0.05),\n",
      "            )\n",
      "a=plot(z,T1)\n",
      "show(a)\n",
      "\n"
     ],
     "language": "python",
     "metadata": {},
     "outputs": [
      {
       "output_type": "stream",
       "stream": "stdout",
       "text": [
        "The temprature distribution is T4= 68.04 F\n",
        "The temprature distribution is T3= 68.19 F\n",
        "The temprature distribution is T2= 69.68 F\n",
        "The temprature distribution is T1= 82.82 F\n"
       ]
      },
      {
       "metadata": {},
       "output_type": "display_data",
       "png": "[encoded data removed]",
       "text": [
        "<matplotlib.figure.Figure at 0x752b7f0>"
       ]
      }
     ],
     "prompt_number": 2
    },
    {
     "cell_type": "code",
     "collapsed": false,
     "input": [],
     "language": "python",
     "metadata": {},
     "outputs": []
    }
   ],
   "metadata": {}
  }
 ]
}