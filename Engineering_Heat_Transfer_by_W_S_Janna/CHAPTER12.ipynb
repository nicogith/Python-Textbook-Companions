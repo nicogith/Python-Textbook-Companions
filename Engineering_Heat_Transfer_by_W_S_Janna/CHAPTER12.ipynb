{
 "metadata": {
  "name": "CHAPTER12"
 },
 "nbformat": 3,
 "nbformat_minor": 0,
 "worksheets": [
  {
   "cells": [
    {
     "cell_type": "heading",
     "level": 1,
     "metadata": {},
     "source": [
      "Chapter 12: Radient Heat Transfer between Surfaces"
     ]
    },
    {
     "cell_type": "heading",
     "level": 3,
     "metadata": {},
     "source": [
      "Example 12.3 Page No 598"
     ]
    },
    {
     "cell_type": "code",
     "collapsed": false,
     "input": [
      "\n",
      "a_13=100.0\n",
      "b_13=250.0\n",
      "c_13=100.0\n",
      "X_13=a_13/c_13\n",
      "Y_13=b_13/c_13\n",
      "Fd1_3=0.17      # value for Fd1_3 corresponding to above calculated values of a/c and b/c\n",
      "a_14=300\n",
      "b_14=50\n",
      "c_14=100\n",
      "\n",
      "X_14=a_14/c_14\n",
      "Y_14=b_14/c_14\n",
      "Fd1_4=0.11       #value for Fd1_4 corresponding to above calculated values of a/c and b/c\n",
      "a_15=100\n",
      "b_15=50\n",
      "c_15=100\n",
      "X_15=a_15/c_15\n",
      "Y_15=b_15/c_15\n",
      "Fd1_5=0.09       #value for Fd1_3 corresponding to above calculated values of a/c and b/c\n",
      "Fd1_2=Fd1_3+Fd1_4-Fd1_5\n",
      "sigma=0.1714e-8  # Stefan-Boltzmann constant\n",
      "T1=660\n",
      "T2=560\n",
      "q12_A1=sigma*Fd1_2*(T1**4-T2**4)\n",
      "\n",
      "print\"The net heat transferred is \",round(q12_A1,1),\"BTU/(hr.sq.ft)\"\n"
     ],
     "language": "python",
     "metadata": {},
     "outputs": [
      {
       "output_type": "stream",
       "stream": "stdout",
       "text": [
        "The net heat transferred is  29.8 BTU/(hr.sq.ft)\n"
       ]
      }
     ],
     "prompt_number": 3
    },
    {
     "cell_type": "heading",
     "level": 3,
     "metadata": {},
     "source": [
      "Example 12.4 Page No 601"
     ]
    },
    {
     "cell_type": "code",
     "collapsed": false,
     "input": [
      "\n",
      "import math\n",
      "L1=1\n",
      "angle=math.pi*45/180.0\n",
      "L2=L1*math.sin(angle)\n",
      "L3=L2\n",
      "T1=303\n",
      "T2=473\n",
      "\n",
      "sigma=5.67e-8      # Stefan-Boltzmann constant\n",
      "q21_A2=sigma*(T2**4-T1**4)*((L1/L2)+1-(L3/L2))/2.0\n",
      "q31_A3=sigma*(T2**4-T1**4)*((L1/L2)-1+(L3/L2))/2.0\n",
      "\n",
      "print\"The heat transferred from A3 to A1 is \",round(q31_A3,0),\" W/sq.m\"\n"
     ],
     "language": "python",
     "metadata": {},
     "outputs": [
      {
       "output_type": "stream",
       "stream": "stdout",
       "text": [
        "The heat transferred from A3 to A1 is  1669.0  W/sq.m\n"
       ]
      }
     ],
     "prompt_number": 6
    },
    {
     "cell_type": "heading",
     "level": 3,
     "metadata": {},
     "source": [
      "Example 12.5 Page No 605"
     ]
    },
    {
     "cell_type": "code",
     "collapsed": false,
     "input": [
      "\n",
      "ac=1\n",
      "bd=1\n",
      "ad=(9+1)**0.5\n",
      "bc=ad\n",
      "\n",
      "crossed_strings=ad+bc\n",
      "uncrossed_strings=ac+bd\n",
      "L1_F12=(1/2.0)*(crossed_strings-uncrossed_strings)\n",
      "L1=3\n",
      "F12=L1_F12/L1\n",
      "sigma=5.67e-8 # Stefan-Boltzmann constant\n",
      "T1=560\n",
      "T2=460\n",
      "q12_A1=sigma*(T1**4-T2**4)*F12\n",
      "\n",
      "print\"The heat transfer rate is \",round(q12_A1,0),\"W/sq m\"\n"
     ],
     "language": "python",
     "metadata": {},
     "outputs": [
      {
       "output_type": "stream",
       "stream": "stdout",
       "text": [
        "The heat transfer rate is  2189.0 W/sq m\n"
       ]
      }
     ],
     "prompt_number": 8
    },
    {
     "cell_type": "heading",
     "level": 3,
     "metadata": {},
     "source": [
      "Example 12.6 Page No 608"
     ]
    },
    {
     "cell_type": "code",
     "collapsed": false,
     "input": [
      "\n",
      "T1=1000.0\n",
      "T3=500.0\n",
      "q2=0\n",
      "F12=1/2.0\n",
      "F13=1/2.0\n",
      "F21=1/2.0\n",
      "F23=1/2.0\n",
      "F31=1/2.0\n",
      "F32=1/2.0\n",
      "\n",
      "T2=((T1**4+T3**4)/2.0)**(1/4.0) # using equation (2)\n",
      "sigma=0.1714e-8                 # Stefan-Boltzmann constant\n",
      "q1_A1=sigma*((T1**4-T2**4)*F12+(T1**4-T3**4)*F13) # using equation (1)\n",
      "q3_A3=sigma*((T3**4-T1**4)*F31+(T3**4-T2**4)*F32) # using equation (3)\n",
      "\n",
      "print\"The temperature is \",round(T2,1),\"R\"\n",
      "print\"The heat flux through area A1 is\",round(q1_A1,0),\"BTU/(hr.sq.ft)\"\n",
      "print\"The heat flux through area A3 is\",round(q3_A3,0),\"BTU/(hr.sq.ft)\"\n",
      "print\"In the book there is calculation mistake\""
     ],
     "language": "python",
     "metadata": {},
     "outputs": [
      {
       "output_type": "stream",
       "stream": "stdout",
       "text": [
        "The temperature is  853.7 R\n",
        "The heat flux through area A1 is 1205.0 BTU/(hr.sq.ft)\n",
        "The heat flux through area A3 is -1205.0 BTU/(hr.sq.ft)\n",
        "In the book there is calculation mistake\n"
       ]
      }
     ],
     "prompt_number": 16
    },
    {
     "cell_type": "heading",
     "level": 3,
     "metadata": {},
     "source": [
      "Example 12.7 Page No 613"
     ]
    },
    {
     "cell_type": "code",
     "collapsed": false,
     "input": [
      "\n",
      "F12=1\n",
      "F21=1\n",
      "F11=0             # the surfaces are flat\n",
      "F22=0\n",
      "emissivity1=0.94  # for oxidized steel from appendix table E1\n",
      "emissivity2=0.94\n",
      "T1=533\n",
      "T2=323\n",
      "sigma=5.67e-8      # Stefan-Boltzmann constant\n",
      "\n",
      "q1=(sigma*(T1**4-T2**4))/((1/emissivity1)+(1/emissivity2)-1)\n",
      "q2=-q1\n",
      "\n",
      "print\"The heat lost through bottom surface is \",round(q1,1),\"W/sq m\"\n",
      "print\"The heat lost through top surface is \",round(q2,1),\"W/sq m\"\n"
     ],
     "language": "python",
     "metadata": {},
     "outputs": [
      {
       "output_type": "stream",
       "stream": "stdout",
       "text": [
        "The heat lost through bottom surface is  3510.7 W/sq m\n",
        "The heat lost through top surface is  -3510.7 W/sq m\n"
       ]
      }
     ],
     "prompt_number": 21
    },
    {
     "cell_type": "heading",
     "level": 3,
     "metadata": {},
     "source": [
      "Example 12.8 Page No 616"
     ]
    },
    {
     "cell_type": "code",
     "collapsed": false,
     "input": [
      "\n",
      "D=1.0           # diameter in ft\n",
      "L=6/12.0        # length in ft\n",
      "\n",
      "A=2*math.pi*D**2/4+math.pi*D*L\n",
      "F12=1           # the view factor between the dish and the surroundings is unity\n",
      "T1=810\n",
      "T2=530\n",
      "sigma=0.1714e-8 # Stefan-Boltzmann constant\n",
      "q1=sigma*A*(T1**4-T2**4)*F12\n",
      "\n",
      "F11=0\n",
      "e1=0.82\n",
      "e2=0.93\n",
      "q1_=A*e1*(sigma*T1**4-F12*sigma*T2**4)\n",
      "\n",
      "print\"(a)The heat exchanged between the dish and the surroundings is\",round(q1,0),\"BTU/hr\"\n",
      "print\"(b)The heat exchanged between the dish and the surroundings for the second case is \",round(q1_,0),\"BTU/hr\"\n"
     ],
     "language": "python",
     "metadata": {},
     "outputs": [
      {
       "output_type": "stream",
       "stream": "stdout",
       "text": [
        "(a)The heat exchanged between the dish and the surroundings is 1893.0 BTU/hr\n",
        "(b)The heat exchanged between the dish and the surroundings for the second case is  1552.0 BTU/hr\n"
       ]
      }
     ],
     "prompt_number": 25
    },
    {
     "cell_type": "code",
     "collapsed": false,
     "input": [],
     "language": "python",
     "metadata": {},
     "outputs": []
    }
   ],
   "metadata": {}
  }
 ]
}