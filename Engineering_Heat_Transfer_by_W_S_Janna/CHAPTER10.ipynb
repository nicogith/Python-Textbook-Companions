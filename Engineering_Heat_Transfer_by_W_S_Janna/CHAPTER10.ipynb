{
 "metadata": {
  "name": "CHAPTER10"
 },
 "nbformat": 3,
 "nbformat_minor": 0,
 "worksheets": [
  {
   "cells": [
    {
     "cell_type": "heading",
     "level": 1,
     "metadata": {},
     "source": [
      "Chapter 10: Condensation and Vaporization Heat Transfer"
     ]
    },
    {
     "cell_type": "heading",
     "level": 3,
     "metadata": {},
     "source": [
      "Example 10.1 Page NO.527"
     ]
    },
    {
     "cell_type": "code",
     "collapsed": false,
     "input": [
      "%matplotlib inline"
     ],
     "language": "python",
     "metadata": {},
     "outputs": []
    },
    {
     "cell_type": "code",
     "collapsed": false,
     "input": [
      "\n",
      "rou_f=0.909*62.4    # density in lbm/ft**3 \n",
      "cp=1.037             # specific heat BTU/(lbm-degree Rankine) \n",
      "v_f=0.204e-5         # viscosity in ft**2/s \n",
      "kf=0.393             #  thermal conductivity in BTU/(lbm.ft.degree Rankine) \n",
      "a=6.70e-3            # diffusivity in ft**2/hr \n",
      "Pr=1.099             # Prandtl Number \n",
      "V_v=4.937             # specific volume in ft**3/lbm from superheated steam tables\n",
      "rou_v=1/V_v           # vapour density\n",
      "g=32.2\n",
      "hfg=888.8             # from saturated steam tables\n",
      "Tg=327.81\n",
      "Tw=325\n",
      "L=2.0                 # length in ft\n",
      "W=3.0                 # width in ft\n",
      "z=0.204*10**-5         # distance from entry of plate in ft\n",
      "\n",
      "y=((4*kf*v_f*(Tg-Tw)/3600.0)/(rou_f*g*hfg*(1-(rou_v/rou_f))))**(1/4.0)  #let y=delta/z**(1/4)\n",
      "hz=1665              #From Table 10.1\n",
      "hL=(4/3.0)*hz           # at plate end\n",
      "mf=(hL*L*W*(Tg-Tw))/hfg\n",
      "q=mf*hfg\n",
      "Re=(4*mf/3600)/(W*rou_f*v_f)\n",
      "\n",
      "print\"The amount of steam condensed is \",round(mf,1),\"lbm/h\"\n",
      "print\"The heat transfer rate is \",round(q,0),\"BTU/hr\"\n",
      "\n",
      "import matplotlib.pyplot as plt\n",
      "fig = plt.figure()\n",
      "ax = fig.add_subplot(111)\n",
      "\n",
      "x1=[0.0017,0.0018,0.0023,0.0030,0.0035]\n",
      "z1=[2,1.6,0.6,0.3,0.1]\n",
      "\n",
      "x2=[0.0023,0.0022,0.0017,0.0011,0.0006,0]\n",
      "z2=[2,1.6,0.6,0.3,0.1,0]\n",
      "\n",
      "xlabel(\"d  (m)\") \n",
      "ylabel(\"z  (m)\") \n",
      "plt.xlim((0,0.004))\n",
      "plt.ylim((2,0))\n",
      "\n",
      "ax.annotate('(infinity)', xy=(0.0035,0.1))\n",
      "ax.annotate('(hl=2220)', xy=(0.0005,1.7))\n",
      "a1=plot(x1,z1)\n",
      "a1=plot(x2,z2)\n"
     ],
     "language": "python",
     "metadata": {},
     "outputs": [
      {
       "output_type": "stream",
       "stream": "stdout",
       "text": [
        "The amount of steam condensed is  42.1 lbm/h\n",
        "The heat transfer rate is  37429.0 BTU/hr\n"
       ]
      },
      {
       "output_type": "display_data",
       "png": "[encoded data removed]"
      }
     ],
     "prompt_number": 1
    },
    {
     "cell_type": "heading",
     "level": 3,
     "metadata": {},
     "source": [
      "Example 10.2 Page NO.532"
     ]
    },
    {
     "cell_type": "code",
     "collapsed": false,
     "input": [
      "\n",
      "rou_f=974.0   # density in kg/m**3 \n",
      "cp_1=4196.0   # specific heat in J/(kg*K) \n",
      "v_1=0.364e-6  # viscosity in m**2/s  \n",
      "Pr_1=2.22     # Prandtl Number \n",
      "kf=0.668     # thermal conductivity in W/(m.K)\n",
      "a_1=1.636e-7 # diffusivity in m**2/s \n",
      "Vv=1.9364     # specific volume in m**3/kg\n",
      "rou_v=1/Vv    # vapor density\n",
      "g=9.81\n",
      "hfg=2257.06*1000 \n",
      "Tg=100\n",
      "Tw=60\n",
      "L=1\n",
      "\n",
      "OD=0.03340\n",
      "hD=0.782*((g*rou_f*(1-(rou_v/rou_f))*(kf**3)*hfg)/(v_1*OD*(Tg-Tw)))**(1/4.0)\n",
      "hD=10720       #According to the book\n",
      "import math\n",
      "q=hD*math.pi*OD*L*(Tg-Tw)\n",
      "mf=q/hfg\n",
      "\n",
      "print\"The heat flow rate is \",round(q,0),\"W\"\n",
      "print\"The rate at which steam condenses is \",round(mf*3600,0),\"kg/hr\"\n"
     ],
     "language": "python",
     "metadata": {},
     "outputs": [
      {
       "output_type": "stream",
       "stream": "stdout",
       "text": [
        "The heat flow rate is  44994.0 W\n",
        "The rate at which steam condenses is  72.0 kg/hr\n"
       ]
      }
     ],
     "prompt_number": 32
    },
    {
     "cell_type": "heading",
     "level": 3,
     "metadata": {},
     "source": [
      "Example 10.3 Page NO. 538"
     ]
    },
    {
     "cell_type": "code",
     "collapsed": false,
     "input": [
      "\n",
      "rou_f=958            # density in kg/m**3\n",
      "cp_f= 4217           # specific heat in J/(kg*K) \n",
      "v_f= 2.91e-7         # viscosity in m**2/s  \n",
      "Pr_f =1.76           # Prandtl Number \n",
      "rou_g=0.596 \n",
      "sigma=0.0589         # surface tension in N/m\n",
      "hfg=2257000 \n",
      "Tw=120.0\n",
      "Tg=100.0\n",
      "D=.141               # diameter of pan in m\n",
      "g=9.81\n",
      "gc=1\n",
      "\n",
      "Cw=0.0132           # formechanically polished stainless steel from table 10.2\n",
      "q_A=(rou_f*v_f*hfg)*((g*rou_f*(1-(rou_g/rou_f)))/(sigma*gc))**(0.5)*((cp_f*(Tw-Tg))/(Cw*hfg*Pr_f**1.7))**3\n",
      "A=math.pi*D**2/4.0\n",
      "p=q_A*A               # power delivered to the water in W\n",
      "mf=q/hfg              # water evaporation rate\n",
      "q_cr=0.18*hfg*(sigma*g*gc*rou_f*rou_g**2)**(0.25)\n",
      "\n",
      "print\"(a)The power delivered to the water is  kW\",round(q/1000,2),\"KW\"\n",
      "print\"(b)The water evaporation rate is \",round(mf*3600,2),\"kg/h\"\n",
      "print\"(c)The critical heat flux is \",round(q_cr,0),\"W/sq.m\"\n"
     ],
     "language": "python",
     "metadata": {},
     "outputs": [
      {
       "output_type": "stream",
       "stream": "stdout",
       "text": [
        "(a)The power delivered to the water is  kW 4.98 KW\n",
        "(b)The water evaporation rate is  7.94 kg/h\n",
        "(c)The critical heat flux is  1521299.0 W/sq.m\n"
       ]
      }
     ],
     "prompt_number": 29
    },
    {
     "cell_type": "code",
     "collapsed": false,
     "input": [],
     "language": "python",
     "metadata": {},
     "outputs": []
    }
   ],
   "metadata": {}
  }
 ]
}