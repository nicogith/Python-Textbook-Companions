{
 "metadata": {
  "name": "CHAPTER1"
 },
 "nbformat": 3,
 "nbformat_minor": 0,
 "worksheets": [
  {
   "cells": [
    {
     "cell_type": "heading",
     "level": 1,
     "metadata": {},
     "source": [
      "Chapter1:Fundamental Concepts"
     ]
    },
    {
     "cell_type": "heading",
     "level": 3,
     "metadata": {},
     "source": [
      "Example 1.1 Page No.7"
     ]
    },
    {
     "cell_type": "code",
     "collapsed": false,
     "input": [
      "\n",
      "k=9.4              # thermal conductivity in [BTU/hr.ft. \u02daRankine]\n",
      "q=6.3              # heat flux in [BTU/s. sq.ft]\n",
      "T1=350             # the outside surface temperature of one aide of the wall [\u02daF]\n",
      "\n",
      "Q=6.3*3600         # [BTU/hr.sq.ft]\n",
      "dx=0.5             # thickness in [inch]\n",
      "Dx=0.5/12.0          # thickness in [ft]\n",
      "T2=T1-(Q*Dx/k)     # [\u02daF]\n",
      "\n",
      "print\"The required temperature on the other side of the firewall is \",round(T2,1),\"F\"\n"
     ],
     "language": "python",
     "metadata": {},
     "outputs": [
      {
       "output_type": "stream",
       "stream": "stdout",
       "text": [
        "The required temperature on the other side of the firewall is  249.5 F\n"
       ]
      }
     ],
     "prompt_number": 3
    },
    {
     "cell_type": "heading",
     "level": 3,
     "metadata": {},
     "source": [
      "Example 1.2 Page No.9"
     ]
    },
    {
     "cell_type": "code",
     "collapsed": false,
     "input": [
      "\n",
      "k_ss=14.4    #  thermal conductivity of stainless steel in [W/m.K]\n",
      "dt_ss=40     # [K]\n",
      "dt_al=8.65   # [K]\n",
      "dz_ss=1      # [cm]\n",
      "dz_al=3      # [cm]\n",
      "\n",
      "k_al=k_ss*dt_ss*dz_al/(dt_al*dz_ss);# thermal conductivity of Al in [W/m.K]\n",
      "\n",
      "print\"The thermal conductivity of aluminium is\",round(k_al,0),\"W/m.K\"\n"
     ],
     "language": "python",
     "metadata": {},
     "outputs": [
      {
       "output_type": "stream",
       "stream": "stdout",
       "text": [
        "The thermal conductivity of aluminium is 200.0 W/m.K\n"
       ]
      }
     ],
     "prompt_number": 9
    },
    {
     "cell_type": "heading",
     "level": 3,
     "metadata": {},
     "source": [
      "Example 1.3 Page No.13"
     ]
    },
    {
     "cell_type": "code",
     "collapsed": false,
     "input": [
      "\n",
      "h_c=3               # convective coefficient in [BTU/hr.ft**2\n",
      "A=30*18             # Cross sectional area in ft**2\n",
      "T_w=140             # Roof surface temperature in degree Fahrenheit\n",
      "T_inf=85           # Ambient temperature in degree Fahrenheit\n",
      "\n",
      "dT= (T_w-T_inf)\n",
      "Q_c=h_c*A*dT       # Convective heat transfer in BTU/hr\n",
      "\n",
      "print\"The heat transferred by convection is\",round(Q_c,2),\"BTU/hr\"\n"
     ],
     "language": "python",
     "metadata": {},
     "outputs": [
      {
       "output_type": "stream",
       "stream": "stdout",
       "text": [
        "The heat transferred by convection is 89100.0 BTU/hr\n"
       ]
      }
     ],
     "prompt_number": 10
    },
    {
     "cell_type": "heading",
     "level": 3,
     "metadata": {},
     "source": [
      "Example 1.4 Page No.14"
     ]
    },
    {
     "cell_type": "code",
     "collapsed": false,
     "input": [
      "\n",
      "D=0.0243            # diameter in meter\n",
      "L=0.2             # length in meter\n",
      "A=3.14*D*L           # cross-sectional area in sq.m\n",
      "cp=4200.0              # specific heat of water in J/kg.K\n",
      "T_b2=21.4             # temperature of bulk fluid in degree celsius\n",
      "T_in=20.0             # temperature of inlet water in degree celsius\n",
      "T_w=75.0              # temperature of wall in degree celsius\n",
      "Q=500.0              # volumetric flow rate in cc/s\n",
      "density=1000       # density of water in kg/cu.m\n",
      "\n",
      "m=Q*density/10**6  # mass flowa rate in kg/s\n",
      "hc=m*cp*(T_b2-T_in)/(A*(T_w-T_in))\n",
      "\n",
      "print\"The average film conductance is \",round(hc,0),\"W/sq.m. K\"\n"
     ],
     "language": "python",
     "metadata": {},
     "outputs": [
      {
       "output_type": "stream",
       "stream": "stdout",
       "text": [
        "The average film conductance is  3503.0 W/sq.m. K\n"
       ]
      }
     ],
     "prompt_number": 14
    },
    {
     "cell_type": "heading",
     "level": 3,
     "metadata": {},
     "source": [
      "Example 1.5 Page No.18"
     ]
    },
    {
     "cell_type": "code",
     "collapsed": false,
     "input": [
      "\n",
      "W=14         # width in ft\n",
      "L=30.0       # length in ft\n",
      "A=W*L        # area in ft**2\n",
      "F_12=1       # view factor assumed to be 1\n",
      "T1=120+460   # driveway surface temperature  in degree Rankine\n",
      "T2=0        # space temperature assumed to be 0 degree Rankine\n",
      "\n",
      "sigma=0.1714*10**(-8)   # value of Stefan-Boltzmann's constant in BTU/(hr.ft**2.(degree Rankine)**4)\n",
      "e=0.9       # surface emissivity\n",
      "q=sigma*A*e*F_12*((T1)**4-(T2)**4);\n",
      "\n",
      "print\"The heat loss rate by radiation is \",round(q,0),\"BTU/hr\"\n"
     ],
     "language": "python",
     "metadata": {},
     "outputs": [
      {
       "output_type": "stream",
       "stream": "stdout",
       "text": [
        "The heat loss rate by radiation is  73319.0 BTU/hr\n"
       ]
      }
     ],
     "prompt_number": 17
    },
    {
     "cell_type": "heading",
     "level": 3,
     "metadata": {},
     "source": [
      "Example 1.6 Page No.19"
     ]
    },
    {
     "cell_type": "code",
     "collapsed": false,
     "input": [
      "\n",
      "A=420.0              # area in sq.ft\n",
      "T1=580.0          # driveway surface temperature in degree Rankine\n",
      "T2=0               # surface temperature assumed to be 0 degree Rankine\n",
      "Qr=73320             # heat loss rate in BTU/hr\n",
      "\n",
      "hr=Qr/(A*(T1-T2))  # radiation thermal conductance in BTU/(hr.ft**2.(degree Rankine)\n",
      "\n",
      "print\"the radiation thermal conductance is  \",round(hr,2),\"BTU/(hr. sq.ft R)\"\n"
     ],
     "language": "python",
     "metadata": {},
     "outputs": [
      {
       "output_type": "stream",
       "stream": "stdout",
       "text": [
        "the radiation thermal conductance is   0.3 BTU/(hr. sq.ft R)\n"
       ]
      }
     ],
     "prompt_number": 21
    },
    {
     "cell_type": "heading",
     "level": 3,
     "metadata": {},
     "source": [
      "Example 1.7 Page No. 21"
     ]
    },
    {
     "cell_type": "code",
     "collapsed": false,
     "input": [
      "%matplotlib inline"
     ],
     "language": "python",
     "metadata": {},
     "outputs": []
    },
    {
     "cell_type": "code",
     "collapsed": false,
     "input": [
      "\n",
      "A=1.0                # assuming A=1 m**2 for convenience\n",
      "hc1_avg=15.0         # taking average of extreme values for hc [W/m**2.K]\n",
      "k=(0.38+0.52)/2.0    # thermal conductivity of common brick in W/M.k\n",
      "L=0.1                #10 cm converted into m\n",
      "Rk=(L/(k*A))         # resistance of construction material, assume common brick\n",
      "\n",
      "T_inf1=1000.0 # temperature of exhaust gases in K\n",
      "T_inf2=283.0 # temperature of ambient air in K\n",
      "Rcl=1/(hc1_avg*A)   # resistance on left side of wall [K/W]\n",
      "Rc2=Rcl  \n",
      "q=(T_inf1-T_inf2)/(Rcl+Rk+Rc2)  # heat transferred per unit area\n",
      "T_in=T_inf1-Rcl*q    #inlet temprature \n",
      "T_out=T_inf2+Rc2*q\n",
      "\n",
      "print\"(b)\"\n",
      "print\"The resistance on left side of wall is \",round(Rcl,2),\"K/W\"\n",
      "print\"The resistance of construction material of wall is\",round(Rk,2),\"K/W\"\n",
      "print\"The resistance on right side of wall is \",round(Rc2,2),\"K/W\"\n",
      "print\"(c)The Heat transferred per unit area is \",round(q/1000,2),\"kw\"\n",
      "print \"(d)\"\n",
      "print\"The inside wall temperature is \",round(T_in,0),\"K\"\n",
      "print\"The outside wall temperature is\",round(T_out,1),\"K\"\n",
      "\n",
      "import matplotlib.pyplot as plt\n",
      "fig = plt.figure()\n",
      "ax = fig.add_subplot(111)\n",
      "\n",
      "x1=[5,5]\n",
      "T1=[0,1000]\n",
      "\n",
      "x2=[8,8]\n",
      "T2=[0,1000]\n",
      "\n",
      "x3=[1,4]\n",
      "T3=[1000,1000]\n",
      "\n",
      "x4=[4,5]\n",
      "T4=[1000,866]\n",
      "\n",
      "x5=[5,8]\n",
      "T5=[866,417]\n",
      "\n",
      "x6=[8,9]\n",
      "T6=[417,290]\n",
      "\n",
      "x7=[9,10]\n",
      "T7=[290,283]\n",
      "\n",
      "xlabel(\"x\") \n",
      "ylabel(\"T  (K)\") \n",
      "plt.xlim((0,11))\n",
      "plt.ylim((0,1200))\n",
      "\n",
      "ax.plot([1], [1000], 'o')\n",
      "ax.annotate('(1000K)', xy=(1,1020))\n",
      "\n",
      "ax.plot([5], [866], 'o')\n",
      "ax.annotate('(T1)', xy=(5.5,866))\n",
      "\n",
      "ax.plot([8], [417], 'o')\n",
      "ax.annotate('(T2)', xy=(7.5,417))\n",
      "ax.plot([10], [283], 'o')\n",
      "ax.annotate('(283K)', xy=(10.5,283))\n",
      "\n",
      "\n",
      "\n",
      "a1=plot(x1,T1)\n",
      "a2=plot(x2,T2)\n",
      "a3=plot(x3,T3)\n",
      "a4=plot(x4,T4)\n",
      "a5=plot(x5,T5)\n",
      "a6=plot(x6,T6)\n",
      "a7=plot(x7,T7)\n",
      "show(a1)"
     ],
     "language": "python",
     "metadata": {},
     "outputs": [
      {
       "output_type": "stream",
       "stream": "stdout",
       "text": [
        "(b)\n",
        "The resistance on left side of wall is  0.07 K/W\n",
        "The resistance of construction material of wall is 0.22 K/W\n",
        "The resistance on right side of wall is  0.07 K/W\n",
        "(c)The Heat transferred per unit area is  2.02 kw\n",
        "(d)\n",
        "The inside wall temperature is  866.0 K\n",
        "The outside wall temperature is 417.4 K\n"
       ]
      },
      {
       "output_type": "display_data",
       "png": "[encoded data removed]"
      }
     ],
     "prompt_number": 24
    },
    {
     "cell_type": "heading",
     "level": 3,
     "metadata": {},
     "source": [
      "Example 1.8 Page No.24"
     ]
    },
    {
     "cell_type": "code",
     "collapsed": false,
     "input": [
      "\n",
      "k=0.604        # [BTU/(hr.ft.degree Rankine)]\n",
      "hc=3.0          # average value for natural convection in BTU/(hr.ft**2.degree Rankine)\n",
      "ew=0.93        \n",
      "f_wr=1.0         # shape factor\n",
      "sigma= 0.1714*10**(-8) # BTU/(hr.ft**2.degree Rankine).\n",
      "L=4/12.0        # length in ft\n",
      "T1=80+460       # temperature of side-walk in degree Rankine\n",
      "T_inf=20+460    # temperature of ambient air in degree Rankine\n",
      "T_r=0           # assuming space temperature to be 0 degree Rankine\n",
      "\n",
      "a=((k/L)+hc)       #Coefficient of Tw in the equation\n",
      "b=(sigma*ew*f_wr)  #Coefficient of Tw**4 in the equation\n",
      "c=(k*T1/L)+(hc*T_inf)+(sigma*f_wr*ew*T_r**4)  #right hans side of the equation\n",
      "Tw1=470            #assumed first value of temprature\n",
      "LHS1=a*Tw1+b*Tw1**4\n",
      "Tw2=480            #assumed 2nd value of temprature\n",
      "LHS2=a*Tw2+b*Tw2**4\n",
      "Tw3=490            #assumed 3rd value of temprature\n",
      "LHS3=a*Tw3+b*Tw3**4\n",
      "Tw4=485            #assumed 4th value of temprature\n",
      "LHS4=a*Tw4+b*Tw4**4\n",
      "Tw5=484.5            #assumed fifth value of temprature\n",
      "LHS5=a*Tw5+b*Tw5**4\n",
      "\n",
      "print\"RHS\",round(c,1)\n",
      "print\"LHS at surface Temprature 1=\",round(LHS1,1)\n",
      "print\"LHS at surface Temprature 2=\",round(LHS2,1)\n",
      "print\"LHS at surface Temprature 3=\",round(LHS3,0)\n",
      "print\"LHS at surface Temprature 4=\",round(LHS4,1)\n",
      "print\"LHS at surface Temprature 5=\",round(LHS5,1)\n",
      "print\"\\nLHS is close enough to RHS at Temprature 484.5. So Surface Temprature is\",Tw5,\"R\""
     ],
     "language": "python",
     "metadata": {},
     "outputs": [
      {
       "output_type": "stream",
       "stream": "stdout",
       "text": [
        "RHS 2418.5\n",
        "LHS at surface Temprature 1= 2339.4\n",
        "LHS at surface Temprature 2= 2394.4\n",
        "LHS at surface Temprature 3= 2450.0\n",
        "LHS at surface Temprature 4= 2422.0\n",
        "LHS at surface Temprature 5= 2419.2\n",
        "\n",
        "LHS is close enough to RHS at Temprature 484.5. So Surface Temprature is 484.5 R\n"
       ]
      }
     ],
     "prompt_number": 22
    },
    {
     "cell_type": "code",
     "collapsed": false,
     "input": [],
     "language": "python",
     "metadata": {},
     "outputs": []
    }
   ],
   "metadata": {}
  }
 ]
}