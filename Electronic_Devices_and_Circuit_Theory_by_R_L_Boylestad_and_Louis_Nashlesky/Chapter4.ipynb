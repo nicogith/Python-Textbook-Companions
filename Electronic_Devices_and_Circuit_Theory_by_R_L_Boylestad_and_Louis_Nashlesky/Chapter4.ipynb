{
 "cells": [
  {
   "cell_type": "markdown",
   "metadata": {},
   "source": [
    "# Chapter 4- DC Biasing - BJTs"
   ]
  },
  {
   "cell_type": "markdown",
   "metadata": {},
   "source": [
    "## Example-4.1   Page No-165"
   ]
  },
  {
   "cell_type": "code",
   "execution_count": 4,
   "metadata": {
    "collapsed": false
   },
   "outputs": [
    {
     "name": "stdout",
     "output_type": "stream",
     "text": [
      "a.Base current Ibq= 47.08 microA and Collector current Icq= 2.35 mA\n",
      "b.Collector-Emitter voltage Vceq= 6.82 V\n",
      "c.Base voltage Vb= 0.7 V and Collector Voltage Vc= 6.82 V\n",
      "d.Base-Collector voltage Vbcq= -6.12 V\n"
     ]
    }
   ],
   "source": [
    "#from the given data:\n",
    "Vcc=12.0                   #supply voltage in volts\n",
    "Vbe=0.7                    #base emitter voltage in volts\n",
    "Rb=240.0                   #base Resistance in kohm\n",
    "B=50\n",
    "Rc=2.2                     #collector resistance in kohm\n",
    "\n",
    "#Calculation:\n",
    "Ib=(Vcc-Vbe)/Rb            #base current in microA\n",
    "Ic=B*Ib                    #collector current in mA\n",
    "Vce=Vcc-Ic*Rc              #collector-emitter voltage in volts\n",
    "Vb=Vbe                     #base volate in volts\n",
    "Vc=Vce                     #collector voltage in volts\n",
    "Vbc=Vb-Vc                  #bse-collector voltage in volts\n",
    "\n",
    "print \"a.Base current Ibq=\",round(Ib*1000,2),\"microA and Collector current Icq=\",round(Ic,2),\"mA\"\n",
    "print \"b.Collector-Emitter voltage Vceq=\",round(Vce,2),\"V\"\n",
    "print \"c.Base voltage Vb=\",Vb,\"V and Collector Voltage Vc=\",round(Vc,2),\"V\"\n",
    "print \"d.Base-Collector voltage Vbcq=\",round(Vbc,2),\"V\"\n"
   ]
  },
  {
   "cell_type": "code",
   "execution_count": null,
   "metadata": {
    "collapsed": true
   },
   "outputs": [],
   "source": []
  }
 ],
 "metadata": {
  "kernelspec": {
   "display_name": "Python [Root]",
   "language": "python",
   "name": "Python [Root]"
  },
  "language_info": {
   "codemirror_mode": {
    "name": "ipython",
    "version": 2
   },
   "file_extension": ".py",
   "mimetype": "text/x-python",
   "name": "python",
   "nbconvert_exporter": "python",
   "pygments_lexer": "ipython2",
   "version": "2.7.12"
  }
 },
 "nbformat": 4,
 "nbformat_minor": 0
}
