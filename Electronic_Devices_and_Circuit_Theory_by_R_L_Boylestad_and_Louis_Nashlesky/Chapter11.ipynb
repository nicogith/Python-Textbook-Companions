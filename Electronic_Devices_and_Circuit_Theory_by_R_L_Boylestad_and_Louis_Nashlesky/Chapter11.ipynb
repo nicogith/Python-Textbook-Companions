{
 "cells": [
  {
   "cell_type": "markdown",
   "metadata": {},
   "source": [
    "# Chapter-11 Op-Amp Applications"
   ]
  },
  {
   "cell_type": "markdown",
   "metadata": {},
   "source": [
    "## Example-11.1"
   ]
  },
  {
   "cell_type": "code",
   "execution_count": 7,
   "metadata": {
    "collapsed": false
   },
   "outputs": [
    {
     "name": "stdout",
     "output_type": "stream",
     "text": [
      "Output voltage= -0.25 mV\n"
     ]
    }
   ],
   "source": [
    "Rf=200.0                #in kohm(feedback resistor)\n",
    "R1=2.0                  #in kohm\n",
    "Vi=2.5*(10**-3)         #converting microV to mV(Input voltage)\n",
    "\n",
    "A=-Rf/R1                #gain of op-amp\n",
    "Vo=A*Vi                 #output voltage in volts\n",
    "print \"Output voltage=\",Vo,\"mV\""
   ]
  },
  {
   "cell_type": "markdown",
   "metadata": {},
   "source": [
    "## Example-11.2"
   ]
  },
  {
   "cell_type": "code",
   "execution_count": 9,
   "metadata": {
    "collapsed": false
   },
   "outputs": [
    {
     "name": "stdout",
     "output_type": "stream",
     "text": [
      "Output voltage= 12.12 mV\n"
     ]
    }
   ],
   "source": [
    "Rf=240.0                #in kohm(feedback resistor)\n",
    "R1=2.4                  #in kohm\n",
    "Vi=120*(10**-3)         #converting microV to mV(Input voltage)\n",
    "\n",
    "A=1+(Rf/R1)             #gain of op-amp\n",
    "Vo=A*Vi                 #output voltage in volts\n",
    "print \"Output voltage=\",Vo,\"mV\""
   ]
  },
  {
   "cell_type": "markdown",
   "metadata": {},
   "source": [
    "## Example-11.3"
   ]
  },
  {
   "cell_type": "code",
   "execution_count": 11,
   "metadata": {
    "collapsed": false
   },
   "outputs": [
    {
     "name": "stdout",
     "output_type": "stream",
     "text": [
      "Output voltage= -1.79 V\n"
     ]
    }
   ],
   "source": [
    "Rf=470                 #in kohm(feedback resistor)\n",
    "R1=4.3                 #in kohm\n",
    "R2=33.0                  #in kohm\n",
    "R3=33.0                  #in kohm\n",
    "Vi=80*(10**-6)         #converting microV to V(Input voltage)\n",
    "\n",
    "#Total gain(A)=A1*A2*A3\n",
    "A=(1+(Rf/R1))*(-Rf/R2)*(Rf/R3)\n",
    "Vo=A*Vi                 #output voltage in volts\n",
    " \n",
    "print \"Output voltage=\",round(Vo,2),\"V\""
   ]
  },
  {
   "cell_type": "markdown",
   "metadata": {},
   "source": [
    "## Example-11.4"
   ]
  },
  {
   "cell_type": "code",
   "execution_count": 16,
   "metadata": {
    "collapsed": false
   },
   "outputs": [
    {
     "name": "stdout",
     "output_type": "stream",
     "text": [
      "Required resistors are R1= 30.0 Kohm, R2= 15.0 Kohm, R3= 10.0 Kohm\n",
      "Output voltage Vo= 0.729 V\n"
     ]
    }
   ],
   "source": [
    "Rf=270.0                 #in kohm(feedback resistor)\n",
    "Vi=150*(10**-6)         #converting microV to V(Input voltage)\n",
    "#Case-1:Positive gain\n",
    "A1=10 \n",
    "R1=Rf/(A1-1)\n",
    "#Case-2:Negative gain\n",
    "A2=18 \n",
    "R2=Rf/A2\n",
    "#Case-3:Negative gain\n",
    "A3=27\n",
    "R3=Rf/A3\n",
    "\n",
    "#total gain of the circuit A=A1*A2*A3:\n",
    "A=A1*A2*A3\n",
    "#Output voltage Vo:\n",
    "Vo=A*Vi\n",
    "print\"Required resistors are R1=\",R1,\"Kohm, R2=\",R2,\"Kohm, R3=\",R3,\"Kohm\"\n",
    "print\"Output voltage Vo=\",Vo,\"V\""
   ]
  },
  {
   "cell_type": "markdown",
   "metadata": {},
   "source": [
    "## Example-11.5"
   ]
  },
  {
   "cell_type": "code",
   "execution_count": 20,
   "metadata": {
    "collapsed": false
   },
   "outputs": [
    {
     "name": "stdout",
     "output_type": "stream",
     "text": [
      "Required resistors are R1= 50.0 Kohm, R2= 25.0 Kohm, R3= 10.0 Kohm\n"
     ]
    }
   ],
   "source": [
    "Rf=500.0                 #in kohm(feedback resistor)\n",
    "A1=10                    #gain of 1st op-amp\n",
    "A2=20                    #gain of 2nd op-amp\n",
    "A3=50                    #gain of 3rd op-amp\n",
    "#since all the gain are negative in LM348 IC Op-amp,hence\n",
    "R1=Rf/A1\n",
    "R2=Rf/A2\n",
    "R3=Rf/A3\n",
    "\n",
    "print\"Required resistors are R1=\",R1,\"Kohm, R2=\",R2,\"Kohm, R3=\",R3,\"Kohm\"\n"
   ]
  },
  {
   "cell_type": "markdown",
   "metadata": {},
   "source": [
    "## Example-11.6"
   ]
  },
  {
   "cell_type": "code",
   "execution_count": 21,
   "metadata": {
    "collapsed": false
   },
   "outputs": [
    {
     "name": "stdout",
     "output_type": "stream",
     "text": [
      "Output voltage Vo=-[ 0.5 sin(1000t)+ 0.33 sin(3000t)]\n"
     ]
    }
   ],
   "source": [
    "#V1=50mVsin(1000t)\n",
    "#V2=10mVsin(3000t)\n",
    "V1=50*(10**-3)           #in volts\n",
    "V2=10*(10**-3)           #in volts\n",
    "Rf=330.0                 #in kohm(feedback resistor)\n",
    "R1=33                    #in kohm\n",
    "R2=10                    #in kohm\n",
    "\n",
    "#for the voltage summing circuit,Output voltage Vo:\n",
    "Vo=-(Rf/R1)*V1+(Rf/R2)*V2\n",
    "\n",
    "print \"Output voltage Vo=-[\",(Rf/R1)*V1,\"sin(1000t)+\",(Rf/R2)*V2,\"sin(3000t)]\"\n"
   ]
  },
  {
   "cell_type": "markdown",
   "metadata": {},
   "source": [
    "## Example-11.7"
   ]
  },
  {
   "cell_type": "code",
   "execution_count": 30,
   "metadata": {
    "collapsed": false
   },
   "outputs": [
    {
     "name": "stdout",
     "output_type": "stream",
     "text": [
      "Output voltage Vo=-[ 20 V2 - 20.0 V1]\n"
     ]
    }
   ],
   "source": [
    "Rf=1000.0                   #in Kohm(feedback resistor)\n",
    "R1=100.0                    #in Kohm\n",
    "R2=50.0                     #in Kohm\n",
    "R3=500.0                    #in Kohm\n",
    "\n",
    "#for the voltage subtractor circuit:\n",
    "#Output voltage Vo=-(((Rf/R2)*V2)-((Rf/R3)*(Rf/R1)*V1))\n",
    "\n",
    "print \"Output voltage Vo=-[\",int(Rf/R2),\"V2 -\",int(Rf/R3)*(Rf/R1),\"V1]\""
   ]
  },
  {
   "cell_type": "markdown",
   "metadata": {},
   "source": [
    "## Example-11.8"
   ]
  },
  {
   "cell_type": "code",
   "execution_count": 29,
   "metadata": {
    "collapsed": false
   },
   "outputs": [
    {
     "name": "stdout",
     "output_type": "stream",
     "text": [
      "Output voltage Vo=-[ 1 V1 - 1 V2]\n"
     ]
    }
   ],
   "source": [
    "Rf=100.0                   #in Kohm(feedback resistor)\n",
    "R2=100.0                    #in Kohm\n",
    "R1=20.0                     #in Kohm\n",
    "R3=20.0                    #in Kohm\n",
    "\n",
    "#for the voltage subtractor circuit,Output voltage Vo:\n",
    "#Vo=-(((R3/(R1+R3))*((R2+R4)/R2)*V1)-((R4/R2)*V2))\n",
    "\n",
    "print \"Output voltage Vo=-[\",int((R3/(R1+R3))*((R2+Rf)/R2)),\"V1 -\",int(Rf/R2),\"V2]\""
   ]
  },
  {
   "cell_type": "markdown",
   "metadata": {},
   "source": [
    "## Example-11.10(a)"
   ]
  },
  {
   "cell_type": "code",
   "execution_count": 31,
   "metadata": {
    "collapsed": false
   },
   "outputs": [
    {
     "name": "stdout",
     "output_type": "stream",
     "text": [
      "Il= 4.0 mA\n"
     ]
    }
   ],
   "source": [
    "Rf=4.0                     #in Kohm(feedback resistor)\n",
    "R1=2.0                     #in Kohm\n",
    "R2=2.0                     #in Kohm\n",
    "V1=8                       #in volts\n",
    "\n",
    "#for the given circuit:\n",
    "Il=V1/R1\n",
    "\n",
    "print \"Il=\",Il,\"mA\""
   ]
  },
  {
   "cell_type": "markdown",
   "metadata": {},
   "source": [
    "## Example-11.10(b)"
   ]
  },
  {
   "cell_type": "code",
   "execution_count": 32,
   "metadata": {
    "collapsed": false
   },
   "outputs": [
    {
     "name": "stdout",
     "output_type": "stream",
     "text": [
      "Vo= -20.0 V\n"
     ]
    }
   ],
   "source": [
    "Rf=2.0                     #in Kohm(feedback resistor)\n",
    "I1=10                      #mA(input current)\n",
    "\n",
    "#for the given circuit,Output voltage Vo:\n",
    "Vo=-I1*R1\n",
    "\n",
    "print \"Vo=\",Vo,\"V\""
   ]
  },
  {
   "cell_type": "markdown",
   "metadata": {},
   "source": [
    "## Example-11.11"
   ]
  },
  {
   "cell_type": "code",
   "execution_count": 33,
   "metadata": {
    "collapsed": false
   },
   "outputs": [
    {
     "name": "stdout",
     "output_type": "stream",
     "text": [
      "Vo= 21 (V1-V2)\n"
     ]
    }
   ],
   "source": [
    "R=5000                    #in ohm\n",
    "Rp=500                    #in ohm\n",
    "#for the given circuit:\n",
    "#Output voltage Vo=(1+(2*R)/Rp)*(V1-V2)\n",
    "print \"Vo=\",(1+(2*R)/Rp),\"(V1-V2)\""
   ]
  },
  {
   "cell_type": "markdown",
   "metadata": {},
   "source": [
    "## Example-11.12"
   ]
  },
  {
   "cell_type": "code",
   "execution_count": 37,
   "metadata": {
    "collapsed": false
   },
   "outputs": [
    {
     "name": "stdout",
     "output_type": "stream",
     "text": [
      "Cutoff-frequency Foh: 6.63 kHz\n"
     ]
    }
   ],
   "source": [
    "R1=1.2*(10**3)              #in ohm\n",
    "C1=0.02*(10**-6)           #in farad\n",
    "\n",
    "#for first order low pass filter,Cutoff-frequency Foh:\n",
    "Foh=1/(6.28*R1*C1)\n",
    "\n",
    "print \"Cutoff-frequency Foh:\",round((Foh/1000),2),\"kHz\""
   ]
  },
  {
   "cell_type": "markdown",
   "metadata": {},
   "source": [
    "## Example-11.13"
   ]
  },
  {
   "cell_type": "code",
   "execution_count": 40,
   "metadata": {
    "collapsed": false
   },
   "outputs": [
    {
     "name": "stdout",
     "output_type": "stream",
     "text": [
      "Cutoff-frequency Fol: 1.52 kHz\n"
     ]
    }
   ],
   "source": [
    "R1=2.1*(10**3)              #in ohm\n",
    "R2=R1\n",
    "C1=0.05*(10**-6)            #in farad\n",
    "C2=C1\n",
    "#for second order high pass filter,Cutoff-frequency Fol:\n",
    "Fol=1/(6.28*R1*C1)\n",
    "\n",
    "print \"Cutoff-frequency Fol:\",round((Fol/1000),2),\"kHz\""
   ]
  },
  {
   "cell_type": "markdown",
   "metadata": {},
   "source": [
    "## Example-11.14"
   ]
  },
  {
   "cell_type": "code",
   "execution_count": 43,
   "metadata": {
    "collapsed": false
   },
   "outputs": [
    {
     "name": "stdout",
     "output_type": "stream",
     "text": [
      "Cutt-off frequencies are= 159.2 Hz and 7.96 kHz\n"
     ]
    }
   ],
   "source": [
    "R1=10.0*(10**3)              #in ohm\n",
    "R2=R1\n",
    "C1=0.1*(10**-6)              #in farad\n",
    "C2=0.002*(10**-6)            #in farad\n",
    "\n",
    "#for band pass filter,Cutoff-frequencies are:\n",
    "Fol=1/(6.28*R1*C1)\n",
    "Foh=1/(6.28*R2*C2)\n",
    "\n",
    "print \"Cutt-off frequencies are=\",round(Fol,1),\"Hz and\",round((Foh/1000),2),\"kHz\""
   ]
  }
 ],
 "metadata": {
  "anaconda-cloud": {},
  "kernelspec": {
   "display_name": "Python [Root]",
   "language": "python",
   "name": "Python [Root]"
  },
  "language_info": {
   "codemirror_mode": {
    "name": "ipython",
    "version": 2
   },
   "file_extension": ".py",
   "mimetype": "text/x-python",
   "name": "python",
   "nbconvert_exporter": "python",
   "pygments_lexer": "ipython2",
   "version": "2.7.12"
  }
 },
 "nbformat": 4,
 "nbformat_minor": 0
}
