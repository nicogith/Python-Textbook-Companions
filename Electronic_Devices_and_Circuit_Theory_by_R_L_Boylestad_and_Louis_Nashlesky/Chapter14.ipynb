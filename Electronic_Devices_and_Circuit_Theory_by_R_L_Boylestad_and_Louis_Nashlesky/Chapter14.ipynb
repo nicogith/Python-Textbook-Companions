{
 "cells": [
  {
   "cell_type": "markdown",
   "metadata": {},
   "source": [
    "# Chapter-14 Feedback and Oscillator Circuits"
   ]
  },
  {
   "cell_type": "markdown",
   "metadata": {},
   "source": [
    "## Example-14.1(a)"
   ]
  },
  {
   "cell_type": "code",
   "execution_count": 11,
   "metadata": {
    "collapsed": false
   },
   "outputs": [
    {
     "name": "stdout",
     "output_type": "stream",
     "text": [
      "Voltage gain with feedback= -9.09\n",
      "Input Impedance= 110.0 kohm\n",
      "Output Impedance= 1.82 kohm\n"
     ]
    }
   ],
   "source": [
    "A=-100.0        #gain without feedback\n",
    "Ri=10           #in kohm\n",
    "Ro=20           #in kohm\n",
    "beta=-0.1       #no unit\n",
    "p=beta*A        #no unit\n",
    "Zi=Ri           #in kohm\n",
    "Zo=Ro           #in kohm\n",
    "\n",
    "#for Voltage-Series feedback circuit:\n",
    "Af=A/(1+p)\n",
    "Zif=Zi*(1+p)\n",
    "Zof=Zo/(1+p)\n",
    "\n",
    "print \"Voltage gain with feedback=\",round(Af,2)\n",
    "print \"Input Impedance=\",round(Zif,2),\"kohm\"\n",
    "print \"Output Impedance=\",round(Zof,2),\"kohm\""
   ]
  },
  {
   "cell_type": "markdown",
   "metadata": {},
   "source": [
    "## Example-14.1(b)"
   ]
  },
  {
   "cell_type": "code",
   "execution_count": 13,
   "metadata": {
    "collapsed": false
   },
   "outputs": [
    {
     "name": "stdout",
     "output_type": "stream",
     "text": [
      "Voltage gain with feedback= -1.96\n",
      "Input Impedance= 510.0 kohm\n",
      "Output Impedance= 392.16 ohm\n"
     ]
    }
   ],
   "source": [
    "A=-100.0        #gain without feedback\n",
    "Ri=10           #in kohm\n",
    "Ro=20           #in kohm\n",
    "beta=-0.5       #no unit(feedback)\n",
    "p=beta*A        #no unit\n",
    "Zi=Ri           #in kohm\n",
    "Zo=Ro           #in kohm\n",
    "\n",
    "#for Voltage-Series feedback circuit:\n",
    "Af=A/(1+p)\n",
    "Zif=Zi*(1+p)\n",
    "Zof=Zo/(1+p)\n",
    "\n",
    "print \"Voltage gain with feedback=\",round(Af,2)\n",
    "print \"Input Impedance=\",round(Zif,2),\"kohm\"\n",
    "print \"Output Impedance=\",round(Zof*1000,2),\"ohm\""
   ]
  },
  {
   "cell_type": "markdown",
   "metadata": {},
   "source": [
    "## Example-14.2"
   ]
  },
  {
   "cell_type": "code",
   "execution_count": 14,
   "metadata": {
    "collapsed": false
   },
   "outputs": [
    {
     "name": "stdout",
     "output_type": "stream",
     "text": [
      "Change in feedback gain= 0.2 %\n"
     ]
    }
   ],
   "source": [
    "A=-1000.0        #gain without feedback\n",
    "beta=-0.1        #feedback\n",
    "ChangeA= 20      #in %(change in gain)\n",
    "\n",
    "#We know,Change in feedback gain (ChangeAf)=(1/(beta*A))*ChangeA:\n",
    "ChangeAf=(1/(beta*A))*ChangeA\n",
    "\n",
    "print \"Change in feedback gain=\",ChangeAf,\"%\""
   ]
  },
  {
   "cell_type": "markdown",
   "metadata": {},
   "source": [
    "## Example-14.3"
   ]
  },
  {
   "cell_type": "code",
   "execution_count": 1,
   "metadata": {
    "collapsed": false
   },
   "outputs": [
    {
     "name": "stdout",
     "output_type": "stream",
     "text": [
      "Voltage gain without feedback= -20.0\n",
      "Voltage gain with feedback= -4.0\n"
     ]
    }
   ],
   "source": [
    "R1=80.0            #in kohm\n",
    "R2=20.0            #in kohm\n",
    "Ro=10.0            #in kohm\n",
    "Rd=10.0            #in kohm\n",
    "gm=4000*(10**(-6))          #in S\n",
    "\n",
    "Rl=(Ro*Rd)/(Ro+Rd)  #in kohm\n",
    "#neglecting 100kohm of R1 and R2 in series,we get\n",
    "A=-(gm*Rl*1000)\n",
    "#feedback factor B:\n",
    "B=-R2/(R1+R2)\n",
    "#gain with feedback Af:\n",
    "Af=A/(1+(B*A))\n",
    "\n",
    "print \"Voltage gain without feedback=\",round(A,2)\n",
    "print \"Voltage gain with feedback=\",round(Af,2)\n"
   ]
  },
  {
   "cell_type": "markdown",
   "metadata": {},
   "source": [
    "## Example-14.4"
   ]
  },
  {
   "cell_type": "code",
   "execution_count": 33,
   "metadata": {
    "collapsed": false
   },
   "outputs": [
    {
     "name": "stdout",
     "output_type": "stream",
     "text": [
      "Amplifier Gain of the given circuit= 10.0\n"
     ]
    }
   ],
   "source": [
    "A=100000       #gain of Op-amp\n",
    "R1=1.8         #in kohm\n",
    "R2=0.2         #in kohm\n",
    "\n",
    "#feedback factor B:\n",
    "B=R2/(R1+R2)\n",
    "#feedback gain of Op-amp Af:\n",
    "Af=A/(1+(B*A))\n",
    "\n",
    "print \"Amplifier Gain of the given circuit=\",round(Af,2)"
   ]
  },
  {
   "cell_type": "markdown",
   "metadata": {},
   "source": [
    "## Example-14.5"
   ]
  },
  {
   "cell_type": "code",
   "execution_count": 38,
   "metadata": {
    "collapsed": false
   },
   "outputs": [
    {
     "name": "stdout",
     "output_type": "stream",
     "text": [
      "Voltage gain without feedback= -293.33\n",
      "Voltage gain with feedback= -4.22\n"
     ]
    }
   ],
   "source": [
    "hfe=120.0            #no unit\n",
    "hie=900.0            #in ohm\n",
    "Vs=10              #in mV(rms value)\n",
    "Re=510.0             #in ohm(emitter resistor)\n",
    "Rc=2200.0           #in ohm(collector resistor)\n",
    "re=7.5             #in ohm\n",
    "#Wihout feedback:\n",
    "A=-hfe/(hie+Re)\n",
    "B=-Re\n",
    "#Gain With feedback:\n",
    "Af=A/(1+(B*A))\n",
    "#Voltage gain with feedback:\n",
    "Avf=Af*Rc\n",
    "#Voltage gain without feedback:(Re=0)\n",
    "Av=-Rc/re\n",
    "print \"Voltage gain without feedback=\",round(Av,2)\n",
    "print \"Voltage gain with feedback=\",round(Avf,2)"
   ]
  },
  {
   "cell_type": "markdown",
   "metadata": {},
   "source": [
    "## Example-14.6"
   ]
  },
  {
   "cell_type": "code",
   "execution_count": 39,
   "metadata": {
    "collapsed": false
   },
   "outputs": [
    {
     "name": "stdout",
     "output_type": "stream",
     "text": [
      "Voltage gain without feedback= -25.5\n",
      "Voltage gain with feedback= -11.21\n"
     ]
    }
   ],
   "source": [
    "gm=5*(10**(-3))         #converting gm in mS to gm with unit S\n",
    "Rs=1000.0               #in ohm(source resistor)\n",
    "Rd=5100.0               #in ohm(drain resistor)\n",
    "Rf=20000.0              #in ohm(feedback resistor)\n",
    "#gain without feedback:\n",
    "A=-gm*Rd\n",
    "#gain with feedback:\n",
    "Af=(-gm*Rd*Rf)/(Rf+(gm*Rd*Rs))\n",
    "\n",
    "print \"Voltage gain without feedback=\",round(A,2)\n",
    "print \"Voltage gain with feedback=\",round(Af,2)"
   ]
  },
  {
   "cell_type": "markdown",
   "metadata": {},
   "source": [
    "## Example-14.7"
   ]
  },
  {
   "cell_type": "code",
   "execution_count": 46,
   "metadata": {
    "collapsed": false
   },
   "outputs": [
    {
     "name": "stdout",
     "output_type": "stream",
     "text": [
      "Required value of Capacitance= 6.5 nF\n",
      "Required value of Rd= 8.0 kohm\n"
     ]
    }
   ],
   "source": [
    "gm=5000*(10**(-6))         #converting gm in microS to gm with unit S     \n",
    "rd=40.0                    #in kohm\n",
    "R=10000.0                  #in ohm(feedback circuit value)\n",
    "f=1000                     #frequency in hertz\n",
    "\n",
    "#calculating the required value of capacitance to ensure A>29\n",
    "C=1/(6.28*R*f*2.45)\n",
    "C=C/(10**(-9))              #converting F to nF\n",
    "#Calculating required value of Rl:\n",
    "A=40                       #let(A>29)\n",
    "Rl=(A/gm)/1000\n",
    "print \"Required value of Capacitance=\",round(C,2),\"nF\"\n",
    "print \"Required value of Rd=\",Rl,\"kohm\""
   ]
  },
  {
   "cell_type": "markdown",
   "metadata": {},
   "source": [
    "## Example-14.8"
   ]
  },
  {
   "cell_type": "code",
   "execution_count": 48,
   "metadata": {
    "collapsed": false
   },
   "outputs": [
    {
     "name": "stdout",
     "output_type": "stream",
     "text": [
      "Resonant frequency= 3122.27 Hz\n"
     ]
    }
   ],
   "source": [
    "R=51*(10**3)               #in ohm\n",
    "C=0.001*(10**-6)           #in Farad\n",
    "\n",
    "#for a Wein-bridge oscillator,Resonant fequency fo:\n",
    "fo=1/(6.28*R*C)\n",
    "\n",
    "print \"Resonant frequency=\",round(fo,2),\"Hz\""
   ]
  },
  {
   "cell_type": "markdown",
   "metadata": {},
   "source": [
    "## Example-14.9"
   ]
  },
  {
   "cell_type": "code",
   "execution_count": 51,
   "metadata": {
    "collapsed": false
   },
   "outputs": [
    {
     "name": "stdout",
     "output_type": "stream",
     "text": [
      "Required value of Capacitance= 159.2 pF\n"
     ]
    }
   ],
   "source": [
    "fo=10*(10**3)            #in Hz(Resonant frequency)\n",
    "R=100*(10**3)            #in ohm(let)\n",
    "\n",
    "#calculating the value of capacitane for Wein bridge oscillator:\n",
    "C=1/(2*3.14*R*fo)\n",
    "C=C/(10**(-12))              #converting F to pF\n",
    "print \"Required value of Capacitance=\",round(C,1),\"pF\""
   ]
  }
 ],
 "metadata": {
  "anaconda-cloud": {},
  "kernelspec": {
   "display_name": "Python [Root]",
   "language": "python",
   "name": "Python [Root]"
  },
  "language_info": {
   "codemirror_mode": {
    "name": "ipython",
    "version": 2
   },
   "file_extension": ".py",
   "mimetype": "text/x-python",
   "name": "python",
   "nbconvert_exporter": "python",
   "pygments_lexer": "ipython2",
   "version": "2.7.12"
  }
 },
 "nbformat": 4,
 "nbformat_minor": 0
}
