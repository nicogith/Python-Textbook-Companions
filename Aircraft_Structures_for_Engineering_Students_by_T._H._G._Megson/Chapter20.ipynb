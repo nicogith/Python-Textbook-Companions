{
 "metadata": {
  "name": "",
  "signature": "sha256:bb71ed7156eb25f3e97cd3ba07ae31557b447cbcd71b351505ee32010461a02e"
 },
 "nbformat": 3,
 "nbformat_minor": 0,
 "worksheets": [
  {
   "cells": [
    {
     "cell_type": "heading",
     "level": 1,
     "metadata": {},
     "source": [
      "Chapter 20: Structural idealization"
     ]
    },
    {
     "cell_type": "heading",
     "level": 2,
     "metadata": {},
     "source": [
      "Example 20.1 Pg.No.560"
     ]
    },
    {
     "cell_type": "code",
     "collapsed": false,
     "input": [
      "from __future__ import division\n",
      "import math\n",
      "\n",
      "sigma6=200\n",
      "sigma1=200\n",
      "sigma2=sigma5=150         #these are not real shear stress but taken \n",
      "sigma3=sigma4=100          #proportional to length because we need just ratio\n",
      "l16=400                     \n",
      "t16=3\n",
      "l12=l21=600\n",
      "t12=t21=2                #thickness and lengths as shown in Fig 20.4\n",
      "l23=600\n",
      "t23=1.5\n",
      "l25=300\n",
      "t25=2.5\n",
      "l34=200\n",
      "t34=2\n",
      "#eqn 20.1 B1=t_D*b/6*(2+sigma_2/sigma_1)\n",
      "#eqn 20.2 B2=t_D*b/6*(2+sigma_1/sigma_2)\n",
      "B1=B6=300+l16*t16/6*(2-sigma6/sigma1)+l12*t12/6*(2+sigma2/sigma1)\n",
      "print \"B1=B6=%5.2f mm^2\\n\"%(B1)\n",
      "\n",
      "B2=B5=2*300+l12*t12/6*(2+sigma1/sigma2)+t25*l25/6*(2-sigma5/sigma2)+l23*t23/6*(2+sigma3/sigma2)\n",
      "print \"B2=B5=%5.2f mm^2\\n\"%(B2)\n",
      "\n",
      "B3=300+l23*t23/6*(2+sigma2/sigma3)+l34*t34/6*(2-sigma4/sigma3)\n",
      "print \"B3=B4=%5.2f mm^2\\n\"%(B3)"
     ],
     "language": "python",
     "metadata": {},
     "outputs": [
      {
       "output_type": "stream",
       "stream": "stdout",
       "text": [
        "B1=B6=1050.00 mm^2\n",
        "\n",
        "B2=B5=1791.67 mm^2\n",
        "\n",
        "B3=B4=891.67 mm^2\n",
        "\n"
       ]
      }
     ],
     "prompt_number": 10
    },
    {
     "cell_type": "heading",
     "level": 2,
     "metadata": {},
     "source": [
      "Example 20.2 Pg.No.562"
     ]
    },
    {
     "cell_type": "code",
     "collapsed": false,
     "input": [
      "from __future__ import division\n",
      "import math\n",
      "\n",
      "Mx=100*10**6          #bending moment(N.mm)\n",
      "y=[660,600,420,228,25,-204,-396,-502,-540]\n",
      "B=[640,600,600,600,620,640,640,850,640]\n",
      "\n",
      "print \"direct stress in each boom in last column\"\n",
      "print \"Boom\\t y(mm)\\t B(mm^2)\\t delIxx=By^2\\t sigma_z\"\n",
      "for i in range (0,9):\n",
      "    print \"%1.0f \\t %3.0f \\t %3.0f \\t \\t%2.1e \\t %2.1f\"%(i+1,y[i],B[i],B[i]*y[i]**2,Mx*y[i]/(1854*10**6))"
     ],
     "language": "python",
     "metadata": {},
     "outputs": [
      {
       "output_type": "stream",
       "stream": "stdout",
       "text": [
        "direct stress in each boom in last column\n",
        "Boom\t y(mm)\t B(mm^2)\t delIxx=By^2\t sigma_z\n",
        "1 \t 660 \t 640 \t \t2.8e+08 \t 35.6\n",
        "2 \t 600 \t 600 \t \t2.2e+08 \t 32.4\n",
        "3 \t 420 \t 600 \t \t1.1e+08 \t 22.7\n",
        "4 \t 228 \t 600 \t \t3.1e+07 \t 12.3\n",
        "5 \t  25 \t 620 \t \t3.9e+05 \t 1.3\n",
        "6 \t -204 \t 640 \t \t2.7e+07 \t -11.0\n",
        "7 \t -396 \t 640 \t \t1.0e+08 \t -21.4\n",
        "8 \t -502 \t 850 \t \t2.1e+08 \t -27.1\n",
        "9 \t -540 \t 640 \t \t1.9e+08 \t -29.1\n"
       ]
      }
     ],
     "prompt_number": 14
    },
    {
     "cell_type": "heading",
     "level": 2,
     "metadata": {},
     "source": [
      "Example 20.3 Pg.No.566"
     ]
    },
    {
     "cell_type": "code",
     "collapsed": false,
     "input": [
      "from __future__ import division\n",
      "import math\n",
      "\n",
      "Ixx=48*10**6\n",
      "Sy=4.8*10**3\n",
      "B=300\n",
      "\n",
      "q12=-Sy/Ixx*B*200       #until point 2 \n",
      "q23=q12-Sy/Ixx*B*200\n",
      "q34=q23-Sy/Ixx*B*(-200)\n",
      "print \"shear flow in flange 12 = %2.0f N/mm\\n\"%(q12)\n",
      "print \"shear flow in web 23 = %2.0f N/mm\\n\"%(q23)\n",
      "print \"shear flow in flange 34 = %2.0f N/mm\\n\"%(q34)"
     ],
     "language": "python",
     "metadata": {},
     "outputs": [
      {
       "output_type": "stream",
       "stream": "stdout",
       "text": [
        "shear flow in flange 12 = -6 N/mm\n",
        "\n",
        "shear flow in web 23 = -12 N/mm\n",
        "\n",
        "shear flow in flange 34 = -6 N/mm\n",
        "\n"
       ]
      }
     ],
     "prompt_number": 17
    },
    {
     "cell_type": "heading",
     "level": 2,
     "metadata": {},
     "source": [
      "Example 20.4 Pg.No.569"
     ]
    },
    {
     "cell_type": "code",
     "collapsed": false,
     "input": [
      "from __future__ import division\n",
      "import math\n",
      "\n",
      "B=[200,250,400,100,100,400,250,200]\n",
      "Ixx=13.86*10**6\n",
      "Sy=10*10**3\n",
      "qb23=0\n",
      "qb34=qb23-Sy/Ixx*B[2]*100\n",
      "qb45=qb34-Sy/Ixx*B[3]*50\n",
      "qb56=qb34\n",
      "qb67=qb23\n",
      "qb21=qb67-Sy/Ixx*(B[1]*100)\n",
      "qb18=qb21-Sy/Ixx*B[7]*30\n",
      "qb87=qb21\n",
      "qs0=-5.4\n",
      "print \"Distribution of shear flow :\"\n",
      "print \"q23 = %2.1f N/mm\"%(qb23+qs0)\n",
      "print \"q21 = %2.1f N/mm\"%(qb21-qs0)\n",
      "print \"q34 = %2.1f N/mm\"%(qb34-qs0)\n",
      "print \"q45 = %2.1f N/mm\"%(qb45-qs0)\n",
      "print \"q56 = %2.1f N/mm\"%(qb56-qs0)\n",
      "print \"q67 = %2.1f N/mm\"%(qb67+qs0)\n",
      "print \"q18 = %2.1f N/mm\"%(qb18-qs0)\n",
      "print \"q87 = %2.1f N/mm\\n\"%(qb87-qs0)"
     ],
     "language": "python",
     "metadata": {},
     "outputs": [
      {
       "output_type": "stream",
       "stream": "stdout",
       "text": [
        "Distribution of shear flow :\n",
        "q23 = -5.4 N/mm\n",
        "q21 = -12.6 N/mm\n",
        "q34 = -23.5 N/mm\n",
        "q45 = -27.1 N/mm\n",
        "q56 = -23.5 N/mm\n",
        "q67 = -5.4 N/mm\n",
        "q18 = -17.0 N/mm\n",
        "q87 = -12.6 N/mm\n",
        "\n"
       ]
      }
     ],
     "prompt_number": 28
    },
    {
     "cell_type": "heading",
     "level": 2,
     "metadata": {},
     "source": [
      "Example 20.5 Pg.No.575"
     ]
    },
    {
     "cell_type": "code",
     "collapsed": false,
     "input": [
      "from __future__ import division\n",
      "import math\n",
      "from sympy import symbols, integrate\n",
      "z=symbols('z')\n",
      "\n",
      "E=70000              #youngs modulus (N/mm^2)\n",
      "G=30000              #shear modulus (N/mm^2)\n",
      "P=4.8*10**3          #applied force (N)\n",
      "L=2000               #cantilever length(mm)\n",
      "Sy=P\n",
      "Ixx=48*10**6         #second moment of area \n",
      "t=1                   #actual thickness (mm)\n",
      "\n",
      "Mx0=-Sy*(L-z)\n",
      "Mx1=-(L-z)\n",
      "\n",
      "del_M=integrate(Mx0*Mx1/E/Ixx,(z,0,L))\n",
      "del_S=integrate((1/G/t/Sy*(6**2*200+12**2*400+6**2*200)),(z,0,L))\n",
      "print \"total deflection in vertical direction = %1.2f mm\\n\"%(del_M+del_S)"
     ],
     "language": "python",
     "metadata": {},
     "outputs": [
      {
       "output_type": "stream",
       "stream": "stdout",
       "text": [
        "total deflection in vertical direction = 4.81 mm\n",
        "\n"
       ]
      }
     ],
     "prompt_number": 36
    },
    {
     "cell_type": "code",
     "collapsed": false,
     "input": [],
     "language": "python",
     "metadata": {},
     "outputs": [],
     "prompt_number": 35
    }
   ],
   "metadata": {}
  }
 ]
}