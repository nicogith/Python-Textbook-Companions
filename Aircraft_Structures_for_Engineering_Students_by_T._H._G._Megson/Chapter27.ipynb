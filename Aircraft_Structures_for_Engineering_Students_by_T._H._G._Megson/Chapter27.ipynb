{
 "metadata": {
  "name": "",
  "signature": "sha256:bc596ba82da68e58c73271eb1045592b064349244b750ab69aa9f03ab4de2fbd"
 },
 "nbformat": 3,
 "nbformat_minor": 0,
 "worksheets": [
  {
   "cells": [
    {
     "cell_type": "heading",
     "level": 1,
     "metadata": {},
     "source": [
      "Chapter 27: Open Section Beams\n"
     ]
    },
    {
     "cell_type": "heading",
     "level": 2,
     "metadata": {},
     "source": [
      "Example 27.2 Pg.No. 735"
     ]
    },
    {
     "cell_type": "code",
     "collapsed": false,
     "input": [
      "#reference Fig 27.20\n",
      "\n",
      "from __future__ import division\n",
      "import math\n",
      "from sympy import integrate\n",
      "from sympy import solve, symbols\n",
      "\n",
      "# variable declaration\n",
      "P=100                  #vertical load (kN)\n",
      "A_R=1.25*10**3         #from previous question\n",
      "E=200000               #young's modulus (N/mm^2)\n",
      "Gama_R=2.08*10**10     #torsion bending constant (mm^6)\n",
      "mu=0.54*10**-3        #from previous question\n",
      "A=400*5                #area of beam\n",
      "\n",
      "#moment couple\n",
      "M_Tau=-P*2*A_R\n",
      "print \"\\nValue of moment couple at the top of column = %2.2e kN.mm^2\"%(M_Tau)  #calculation mistake in book\n",
      "\n",
      "d2tdz2 = M_Tau*10**3/E/Gama_R\n",
      "# @z=3000 mm \n",
      "D=0.04*10**-3\n",
      "z=symbols('z')\n",
      "F= -0.08*math.cosh(0)\n",
      "\n",
      "def theta(z):\n",
      "    return 0.08*(math.cosh(0.54*10**(-3)*z))\n",
      "\n",
      "print \"\\ntwist at the top of the column = %2.2f rad\\n\"%(theta(3000))\n",
      "\n",
      "M_Tau=-E*Gama_R*0.02*10**-6\n",
      "print \"value of moment couple at bottom of column=%2.2e N.mm^2\\n\"%(M_Tau)\n",
      "\n",
      "P=-100*10**3    # stress(N)\n",
      "def sigma_z(A_R2):\n",
      "    return P/A+M_Tau*A_R2/Gama_R\n",
      "print \"sigma_z1=sigma_z4=%2.1f N/mm^2\\n\"%(sigma_z(-7.5*10**3))\n",
      "print \"sigma_z2=sigma_z3=%2.1f N/mm^2\\n\"%(sigma_z(2.5*10**3))\n",
      "\n",
      "#please put the value of 2AR from Fig 27.21 in the equation of sigma_z\n",
      "#these values in book need correction"
     ],
     "language": "python",
     "metadata": {},
     "outputs": [
      {
       "output_type": "stream",
       "stream": "stdout",
       "text": [
        "\n",
        "Value of moment couple at the top of column = -2.50e+05 kN.mm^2\n",
        "\n",
        "twist at the top of the column = 0.21 rad\n",
        "\n",
        "value of moment couple at bottom of column=-8.32e+07 N.mm^2\n",
        "\n",
        "sigma_z1=sigma_z4=-20.0 N/mm^2\n",
        "\n",
        "sigma_z2=sigma_z3=-60.0 N/mm^2\n",
        "\n"
       ]
      }
     ],
     "prompt_number": 26
    },
    {
     "cell_type": "code",
     "collapsed": false,
     "input": [],
     "language": "python",
     "metadata": {},
     "outputs": [],
     "prompt_number": 48
    }
   ],
   "metadata": {}
  }
 ]
}