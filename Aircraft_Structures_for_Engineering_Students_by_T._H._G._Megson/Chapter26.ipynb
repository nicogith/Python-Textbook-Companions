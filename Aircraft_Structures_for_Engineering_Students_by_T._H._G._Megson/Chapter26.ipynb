{
 "metadata": {
  "name": "",
  "signature": "sha256:eb3a8ca85b2b3516ec190a12a8401ddf32d140498cd023be9bda6228b1754025"
 },
 "nbformat": 3,
 "nbformat_minor": 0,
 "worksheets": [
  {
   "cells": [
    {
     "cell_type": "heading",
     "level": 1,
     "metadata": {},
     "source": [
      "Chapter 26: Closed Section Beams"
     ]
    },
    {
     "cell_type": "heading",
     "level": 2,
     "metadata": {},
     "source": [
      "Example 26.3 Pg.No.693"
     ]
    },
    {
     "cell_type": "code",
     "collapsed": false,
     "input": [
      "from __future__ import division\n",
      "from sympy import solve, symbols\n",
      "import math\n",
      "\n",
      "\n",
      "G=20000               #shear modulus (N/mm^2)\n",
      "E=G/0.36              #young's modulus\n",
      "tau=20                #torque (Nm/mm)\n",
      "t=1\n",
      "b=200\n",
      "a=500\n",
      "L=2500\n",
      "A=800\n",
      "\n",
      "#torque at each support \n",
      "T=20*5000/2\n",
      "\n",
      "mu=math.sqrt(8*G*t/(A*E*(b+a)))\n",
      "\n",
      "z=2500\n",
      "F=-1.95/mu*math.cosh(mu*z)+1.75*z**2\n",
      "\n",
      "z=0                            # at mid-span z=0\n",
      "theta=10**(-8)*(1.95/mu*math.cosh(mu*z)-1.75*z**2+F)\n",
      "print \"twist at mid-span = %1.3f rad = %1.2f degree\"%(theta,theta*180/math.pi)"
     ],
     "language": "python",
     "metadata": {},
     "outputs": [
      {
       "output_type": "stream",
       "stream": "stdout",
       "text": [
        "twist at mid-span = 0.108 rad = 6.20 degree\n"
       ]
      }
     ],
     "prompt_number": 13
    },
    {
     "cell_type": "code",
     "collapsed": false,
     "input": [],
     "language": "python",
     "metadata": {},
     "outputs": []
    }
   ],
   "metadata": {}
  }
 ]
}