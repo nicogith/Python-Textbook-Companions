{
 "metadata": {
  "name": "",
  "signature": "sha256:217b3507f45091d99aa496d838ab43e552e1e20629747bd44a2cad35220ffe6a"
 },
 "nbformat": 3,
 "nbformat_minor": 0,
 "worksheets": [
  {
   "cells": [
    {
     "cell_type": "heading",
     "level": 1,
     "metadata": {},
     "source": [
      "Chapter 24: Fuselage frames and wing ribs"
     ]
    },
    {
     "cell_type": "heading",
     "level": 2,
     "metadata": {},
     "source": [
      "Example 24.1 Pg.No.638"
     ]
    },
    {
     "cell_type": "code",
     "collapsed": false,
     "input": [
      "from __future__ import division\n",
      "import numpy\n",
      "import math\n",
      "#reference Fig 42.2\n",
      "l1=250               #length of each section(mm)\n",
      "l2=200                #length of DK(mm)\n",
      "l3=100                 #length of KH(mm)\n",
      "F1=4000\n",
      "F2=5000                #forces as shown in Fig 24.1\n",
      "theta=60               #force angle from DH (degree)\n",
      "\n",
      "#solve (i) and (ii) equation\n",
      "a=numpy.array([[1,-1],[200,100]])\n",
      "b=numpy.array([13.8564,2000])\n",
      "q=numpy.linalg.solve(a,b)\n",
      "q1=q[0]\n",
      "q2=q[1]\n",
      "q3=F1*math.cos(math.radians(theta))/(l2+l3)\n",
      "q4=F1*math.cos(math.radians(theta))/(l2+l3)+F2/(l2+l3)\n",
      "P_A=l1*q1+l1*q3+l1*q4\n",
      "P_E=-l1*q2-l1*q3-l1*q4\n",
      "P=3464.1\n",
      "M_AE=F2*l1+F1/2*3*l1-P*50\n",
      "\n",
      "P_A=M_AE/(l2+l3)+P/2\n",
      "P_E=-M_AE/(l2+l3)+P/2\n",
      "\n",
      "print \"shear flow as shown in Fig 24.1\\n\"\n",
      "print \"q1=%2.2f N/mm\\n\"%(q1)\n",
      "print \"q2=%2.2f N/mm\\n\"%(q2)\n",
      "print \"q3=%2.2f N/mm\\n\"%(q3)\n",
      "print \"q4=%2.2f N/mm\\n\"%(q4)\n",
      "\n",
      "print \"Stiffener load at point A = %2.2f N/mm(tension)\\n\"%(P_A)\n",
      "print \"Stiffener load at point E = %2.2f N/mm(compression)\\n\"%(P_E)  #in book another method is also explained"
     ],
     "language": "python",
     "metadata": {},
     "outputs": [
      {
       "output_type": "stream",
       "stream": "stdout",
       "text": [
        "shear flow as shown in Fig 24.1\n",
        "\n",
        "q1=11.29 N/mm\n",
        "\n",
        "q2=-2.57 N/mm\n",
        "\n",
        "q3=6.67 N/mm\n",
        "\n",
        "q4=23.33 N/mm\n",
        "\n",
        "Stiffener load at point A = 10321.37 N/mm(tension)\n",
        "\n",
        "Stiffener load at point E = -6857.27 N/mm(compression)\n",
        "\n"
       ]
      }
     ],
     "prompt_number": 2
    },
    {
     "cell_type": "heading",
     "level": 2,
     "metadata": {},
     "source": [
      "Example 24.2 Pg.No.645"
     ]
    },
    {
     "cell_type": "code",
     "collapsed": false,
     "input": [
      "from __future__ import division\n",
      "import numpy as np\n",
      "import math\n",
      "\n",
      "A1=50000\n",
      "A2=95000        #area shown in Fig 24.13(mm^2)\n",
      "A3=95000\n",
      "\n",
      "A4=46000\n",
      "A5=49000         #area shown in Fig 24.11 (mm^2)\n",
      "\n",
      "F1=12000\n",
      "F2=15000          #forces shown in Fig 24.9 (N)\n",
      "\n",
      "l1=l3=300\n",
      "l2=320           #lengths and angle shown in Fig 24.9\n",
      "alpha=15\n",
      "\n",
      "#solve equation (i)&(iii)\n",
      "a=np.array([[600,-600],[190000,290000]])\n",
      "b=np.array([12000,440000])\n",
      "q=np.linalg.solve(a,b)\n",
      "q12=q[0]\n",
      "q23=q[1]\n",
      "q31=(F2+l1*q23)/l1\n",
      "print \"shear flows are shown in Fig 24.9 (flanges)\"\n",
      "print \"q12=%2.2f N/mm\"%(q12)\n",
      "print \"q23=%2.2f N/mm\"%(q23)\n",
      "print \"q31=%2.2f N/mm\\n\"%(q31)\n",
      "\n",
      "Sy_1=7*l3\n",
      "Px4=Px2=2*A1*7/l1\n",
      "Py2=Py4=Px4*math.tan(math.radians(alpha))\n",
      "q1=(2100-2*625.2)/l1\n",
      "P2=P4=(Px4**2+Py4**2)**0.5\n",
      "P5=P6=2*((A1+A4)*7-A5*13)/l2\n",
      "q2=(7*l1+7*10-13*10)/l2\n",
      "q3=(6.4*l2+F2)/l2\n",
      "\n",
      "M3=2*((A1+A2)*7-A2*13)+F2*l1\n",
      "Px1=Px3=M3/l1\n",
      "Py1=Py3=3626.2\n",
      "P1=P3=(Px1**2+Py1**2)**.5\n",
      "q3=(17100-2*Py1)/l1\n",
      "\n",
      "print \"Loads in webs \"\n",
      "print \"P4=P2=%2.2f N\"%(P2)\n",
      "print \"P6=P5=%2.2f N\"%(P6)\n",
      "print \"P3=P1=%2.2f N\\n\"%(P1)\n",
      "\n",
      "print \"shear flow in webs\"\n",
      "print \"q1=%2.2f N/mm\"%(q1)\n",
      "print \"q2=%2.2f N/mm\"%(q2)\n",
      "print \"q3=%2.2f N/mm (this value is given at the end of example)\"%(q3)"
     ],
     "language": "python",
     "metadata": {},
     "outputs": [
      {
       "output_type": "stream",
       "stream": "stdout",
       "text": [
        "shear flows are shown in Fig 24.9 (flanges)\n",
        "q12=13.00 N/mm\n",
        "q23=-7.00 N/mm\n",
        "q31=43.00 N/mm\n",
        "\n",
        "Loads in webs \n",
        "P4=P2=2415.64 N\n",
        "P6=P5=218.75 N\n",
        "P3=P1=14010.73 N\n",
        "\n",
        "shear flow in webs\n",
        "q1=2.83 N/mm\n",
        "q2=6.38 N/mm\n",
        "q3=32.83 N/mm (this value is given at the end of example)\n"
       ]
      }
     ],
     "prompt_number": 4
    },
    {
     "cell_type": "code",
     "collapsed": false,
     "input": [],
     "language": "python",
     "metadata": {},
     "outputs": []
    }
   ],
   "metadata": {}
  }
 ]
}