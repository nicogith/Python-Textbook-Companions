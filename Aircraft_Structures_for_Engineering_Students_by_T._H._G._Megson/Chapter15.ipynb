{
 "metadata": {
  "name": "",
  "signature": "sha256:1bd6512f5b9ca8155cc1e9c3b04ad8207681499e095afaf4830a217017e989ea"
 },
 "nbformat": 3,
 "nbformat_minor": 0,
 "worksheets": [
  {
   "cells": [
    {
     "cell_type": "heading",
     "level": 1,
     "metadata": {},
     "source": [
      "Chapter 15: Fatigue"
     ]
    },
    {
     "cell_type": "heading",
     "level": 2,
     "metadata": {},
     "source": [
      "Example 15.1 Pg.No.445"
     ]
    },
    {
     "cell_type": "code",
     "collapsed": false,
     "input": [
      "from __future__ import division\n",
      "from scipy import integrate\n",
      "from sympy import symbols\n",
      "import math\n",
      "\n",
      "#eqn 15.30 K=S(pi*a)^1/2*alpha\n",
      "S=175         #stress range (N/mm^2)\n",
      "K=1708          #fracture toughness (n/mm^3/2)\n",
      "alpha=1         #constant\n",
      "n=4         #constant\n",
      "C=40*10**-15      #rate of crack growth (mm/cycle)\n",
      "ai=0.1            #initial crack length\n",
      "\n",
      "alpha_f=K**2/S**2/math.pi\n",
      "\n",
      "\n",
      "Nf=2/C/(n-2)/(S*math.pi**0.5)**n*(1/ai**((n-2)/2)-1/alpha_f**((n-2)/2))\n",
      "print \"Number of cycles to failure = %5.0f cycles\\n\"%(Nf)"
     ],
     "language": "python",
     "metadata": {},
     "outputs": [
      {
       "output_type": "stream",
       "stream": "stdout",
       "text": [
        "Number of cycles to failure = 26919 cycles\n",
        "\n"
       ]
      }
     ],
     "prompt_number": 4
    },
    {
     "cell_type": "code",
     "collapsed": false,
     "input": [],
     "language": "python",
     "metadata": {},
     "outputs": []
    }
   ],
   "metadata": {}
  }
 ]
}