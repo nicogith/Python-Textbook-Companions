{
 "metadata": {
  "name": "",
  "signature": "sha256:b89c31a3eb13c71dc64b90ec9c5fad56707d91451229ae687a102dc5e6c2ee23"
 },
 "nbformat": 3,
 "nbformat_minor": 0,
 "worksheets": [
  {
   "cells": [
    {
     "cell_type": "heading",
     "level": 1,
     "metadata": {},
     "source": [
      "Chapter 14: Airframe loads"
     ]
    },
    {
     "cell_type": "heading",
     "level": 2,
     "metadata": {},
     "source": [
      "Example 14.1 Pg.No.407"
     ]
    },
    {
     "cell_type": "code",
     "collapsed": false,
     "input": [
      "from __future__ import division\n",
      "import math\n",
      "\n",
      "W=45             #weight of aircraft (kN)\n",
      "m=45/9.8          #mass of aircraft(k-kg)\n",
      "a=3*9.8           #deceleration due to cable (ms^-2)\n",
      "m1=4.5/9.8        #weight of aircraft after AA in Diagram (k-kg)\n",
      "v0=25             #touch down speed (m/s)\n",
      "alpha=10             #center line angle with ground (degree)\n",
      "\n",
      "T=m*a/math.cos(math.radians(alpha))\n",
      "print \"tension in cable = %3.1f kN\\n\"%(T)\n",
      "\n",
      "R=W+T*math.sin(math.radians(alpha))\n",
      "print \"load on each undercarriage strut = %2.1f kN\\n\"%(R/2/math.cos(math.radians(20)))\n",
      "\n",
      "N=T+m1*9.8*math.sin(math.radians(alpha))-m1*a*math.cos(math.radians(alpha))\n",
      "S=m1*a*math.sin(math.radians(alpha))+m1*9.8*math.cos(math.radians(alpha))\n",
      "print \"N and S forces are shown in Fig 14.4 N=%2.2f kN  S=%2.2f kN\\n\"%(N,S)\n",
      "\n",
      "s=v0**2/2/a\n",
      "print \"length of deck covered = %2.2f m\\n\"%(s)"
     ],
     "language": "python",
     "metadata": {},
     "outputs": [
      {
       "output_type": "stream",
       "stream": "stdout",
       "text": [
        "tension in cable = 137.1 kN\n",
        "\n",
        "load on each undercarriage strut = 36.6 kN\n",
        "\n",
        "N and S forces are shown in Fig 14.4 N=124.57 kN  S=6.78 kN\n",
        "\n",
        "length of deck covered = 10.63 m\n",
        "\n"
       ]
      }
     ],
     "prompt_number": 10
    },
    {
     "cell_type": "heading",
     "level": 2,
     "metadata": {},
     "source": [
      "Example 14.2 Pg.No.409"
     ]
    },
    {
     "cell_type": "code",
     "collapsed": false,
     "input": [
      "from __future__ import division\n",
      "import math\n",
      "\n",
      "g=9.8\n",
      "W=250           #weight of aircraft(kN)\n",
      "m=250/g        #mass of aircraft (K-kg)\n",
      "I_CG=5.65*10**8     #inertia about center of mass(N.s^2.mm)\n",
      "v0=3.7            #vertical velocity of undercarriage(m/s)\n",
      "R_h=400          #horizontal reaction (kN)\n",
      "R_v=1200         #vertical reaction (kN)\n",
      "l=1             # nose wheel distance from ground (m)\n",
      "d=2.5           # distance of CG from ground (m)\n",
      "\n",
      "#horizontal equilibrium\n",
      "ax=R_h/m\n",
      "\n",
      "#vertical equilibrium\n",
      "ay=(R_v-W)/m\n",
      "\n",
      "\n",
      "alpha=(R_v*l+R_h*d)*10**6/I_CG\n",
      "print \"angular acceleration of aircraft = %2.1f rad/s^2 \\n\"%(alpha)\n",
      "\n",
      "#v=v0+ay*t\n",
      "t=v0/ay\n",
      "print \"time taken for vertical velocity to become zero = %1.3f s\\n\"%(t)\n",
      "\n",
      "#w=w0+a*t\n",
      "w=a*t\n",
      "print \"angular velocity of aircraft = %1.2f rad/s \\n\"%(w)"
     ],
     "language": "python",
     "metadata": {},
     "outputs": [
      {
       "output_type": "stream",
       "stream": "stdout",
       "text": [
        "angular acceleration of aircraft = 3.9 rad/s^2 \n",
        "\n",
        "time taken for vertical velocity to become zero = 0.099 s\n",
        "\n",
        "angular velocity of aircraft = 0.39 rad/s \n",
        "\n"
       ]
      }
     ],
     "prompt_number": 20
    },
    {
     "cell_type": "heading",
     "level": 2,
     "metadata": {},
     "source": [
      "Example 14.3 Pg.No.414"
     ]
    },
    {
     "cell_type": "code",
     "collapsed": false,
     "input": [
      "from __future__ import division\n",
      "import math\n",
      "\n",
      "W=8000             #weight of aircraft (N)\n",
      "n=4.5              # wing loading\n",
      "S=14.5              #wing area (m^2)\n",
      "V=60                #speed (m/s)\n",
      "rho=1.223           #density (kg/m^3)\n",
      "alpha=13.75          #from Fig 14.8 (a)\n",
      "C_Mcg=0.075           #from Fig 14.8 (a)\n",
      "c=1.35                #mean chord (m)\n",
      "\n",
      "\n",
      "L=n*W\n",
      "C_L=L/(0.5*rho*V**2*S)\n",
      "print \"lift coefficient of aircraft = %1.3f \\n\"%(C_L)\n",
      "\n",
      "#from Fig 14.8 (b)\n",
      "l=4.18*math.cos(math.radians(alpha-2))+0.31*math.sin(math.radians(alpha-2))\n",
      "print \"length of tail arm = %1.3f m \\n\"%(l)\n",
      "\n",
      "\n",
      "C_L=C_L-c/l*C_Mcg\n",
      "print \"lift coefficient =%1.3f \\n\"%(C_L)\n",
      "\n",
      "alpha=13.3\n",
      "l=4.18*math.cos(math.radians(alpha-2))+0.31*math.sin(math.radians(alpha-2))\n",
      "print \"Now tail arm length =  %2.3f m\\n\"%(l)\n",
      "\n",
      "L=0.5*rho*V**2*S*C_L\n",
      "print \"Lift = %5.1f N\\n\"%(L)\n",
      "\n",
      "P=n*W-35000\n",
      "print \"Tail Load = %5.1f N\\n\"%(P)\n",
      "\n",
      "D=0.5*rho*V**2*S*0.0875\n",
      "print \"Drag = %5.1f N\\n\"%(D)\n",
      "print \"Forward inertia force = %5.1f N\\n\"%(D)  #eqn 14.13"
     ],
     "language": "python",
     "metadata": {},
     "outputs": [
      {
       "output_type": "stream",
       "stream": "stdout",
       "text": [
        "lift coefficient of aircraft = 1.128 \n",
        "\n",
        "length of tail arm = 4.156 m \n",
        "\n",
        "lift coefficient =1.103 \n",
        "\n",
        "Now tail arm length =  4.160 m\n",
        "\n",
        "Lift = 35222.3 N\n",
        "\n",
        "Tail Load = 1000.0 N\n",
        "\n",
        "Drag = 2793.0 N\n",
        "\n",
        "Forward inertia force = 2793.0 N\n",
        "\n"
       ]
      }
     ],
     "prompt_number": 31
    },
    {
     "cell_type": "code",
     "collapsed": false,
     "input": [],
     "language": "python",
     "metadata": {},
     "outputs": []
    }
   ],
   "metadata": {}
  }
 ]
}