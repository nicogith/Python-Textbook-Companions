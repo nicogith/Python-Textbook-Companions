{
 "metadata": {
  "name": "",
  "signature": "sha256:0f8515032ad257111ffef42eb71b2510ec7d92768034e754ca14b473e010b968"
 },
 "nbformat": 3,
 "nbformat_minor": 0,
 "worksheets": [
  {
   "cells": [
    {
     "cell_type": "heading",
     "level": 1,
     "metadata": {},
     "source": [
      "Chapter 1. Basic Elasticity"
     ]
    },
    {
     "cell_type": "heading",
     "level": 2,
     "metadata": {},
     "source": [
      "Example 1.1, Pg. No.13"
     ]
    },
    {
     "cell_type": "code",
     "collapsed": false,
     "input": [
      "import math\n",
      "# variable declaration\n",
      "p = 1.5;         #pressure inside vessel (N/mm^2)\n",
      "d = 2*10**3;     #diameter of vessel (mm)\n",
      "t = 20;          #thickness of plate (mm)\n",
      "theta = 60;        #plane's inclination to axis of vessel (degree)\n",
      "load = 2500*10**3;       #axial tensile load (N)\n",
      "\n",
      "# Longitudinal stress\n",
      "sigma_x=p*d/4/t;\n",
      "print \"\\nLongitudinal stress due to internal pressure = %5.2f N/mm^2\" %(sigma_x)\n",
      "\n",
      "#circumferential stress\n",
      "sigma_y=p*d/2/t;\n",
      "print \"\\nCircumferential stress due to internal pressure =  %5.2f N/mm^2\" %(sigma_y)\n",
      "\n",
      "#axial load\n",
      "sigma_x_axial=load/(math.pi*d*t);\n",
      "print \"\\ndirect stress due to axial load = %5.2f N/mm^2\"%(sigma_x_axial)\n",
      "\n",
      "sigma_x=sigma_x+sigma_x_axial;                #total longitudinal stress\n",
      "\n",
      "#direct stress and shear stress on inclined plane AB\n",
      "#reference Fig 1.9 pg no14, equation 1.8,1.9 pg no 13\n",
      "\n",
      "sigma_n=sigma_x*math.pow(math.cos(math.radians(90-theta)),2)+sigma_y*math.pow(math.sin(math.radians(90-theta)),2)\n",
      "print \"\\ndirect stress on inclined plane AB = %5.2f N/mm^2\"%(sigma_n)\n",
      "\n",
      "tau=(sigma_x-sigma_y)/2*math.sin(math.radians(2*(90-theta)))\n",
      "print \"\\nshear stress on plane AB = %5.2f N/mm^2\"%(tau)\n",
      "\n",
      "#maximumm shear stress (theta=45 degree)\n",
      "theta=45\n",
      "tau=(sigma_x-sigma_y)/2*math.sin(math.radians(2*(90-theta)))\n",
      "print \"\\nmaximum shear stress on plane AB = %5.2f N/mm^2\"%(tau)"
     ],
     "language": "python",
     "metadata": {},
     "outputs": [
      {
       "output_type": "stream",
       "stream": "stdout",
       "text": [
        "\n",
        "Longitudinal stress due to internal pressure = 37.50 N/mm^2\n",
        "\n",
        "Circumferential stress due to internal pressure =  75.00 N/mm^2\n",
        "\n",
        "direct stress due to axial load = 19.89 N/mm^2\n",
        "\n",
        "direct stress on inclined plane AB = 61.80 N/mm^2\n",
        "\n",
        "shear stress on plane AB = -7.62 N/mm^2\n",
        "\n",
        "maximum shear stress on plane AB = -8.80 N/mm^2\n"
       ]
      }
     ],
     "prompt_number": 1
    },
    {
     "cell_type": "heading",
     "level": 2,
     "metadata": {},
     "source": [
      "Example 1.2, Pg. No.14"
     ]
    },
    {
     "cell_type": "code",
     "collapsed": false,
     "input": [
      "import math\n",
      "\n",
      "#variable declaration\n",
      "load=50*10**3         #axial load (N)\n",
      "d=60                   #diameter (mm)\n",
      "t=1.5                  #offset distance from center (mm)\n",
      "T=1200*10**3                 #torque applied on a point (N.mm)\n",
      "theta=60               #angle made by plane wrt axis of cylinder(degree)\n",
      "\n",
      "#compressive stress due to axial load\n",
      "area=math.pi*math.pow(d/2,2)        #cross section area\n",
      "sigma_x_a=load/area\n",
      "print \"\\ncompressive stress due to axial load = %5.1f N/mm^2\"%sigma_x_a\n",
      "\n",
      "#compressive stress due to bending moment\n",
      "#area moment of inertia\n",
      "M=load*t\n",
      "I=math.pi*d**4/64\n",
      "\n",
      "sigma_x_b=M*d/2*(1/I)\n",
      "print \"\\ncompressive stress due to bending moment = %5.1f N/mm^2\" %sigma_x_b\n",
      "\n",
      "#total compressive stress\n",
      "sigma_x=sigma_x_a+sigma_x_b\n",
      "\n",
      "#shear stress due to torque Ref example 3.1 equation (iv) pg no 73\n",
      "# tau=Tr/J\n",
      "J=math.pi*d**4/32    #torsion constant\n",
      "tau_xy=T*d/2/J\n",
      "print \"\\nshear stress due to torque = %5.1f N/mm^2\" %tau_xy\n",
      "\n",
      "#direct and shear on inclined plane, ref eq 1.8,1.9\n",
      "sigma_y=0\n",
      "sigma_n=-sigma_x*math.pow(math.cos(math.radians(90-theta)),2)-tau_xy*math.sin(math.radians(2*(90-theta)))\n",
      "print \"\\ndirect stress on inclined plane = %3.1f N/mm^2\"%sigma_n\n",
      "\n",
      "tau=-sigma_x/2*math.sin(math.radians(2*(90-theta)))+tau_xy*math.cos(math.radians(2*(90-theta)))\n",
      "print \"\\nshear stress on inclined plane = %3.1f N/mm^2\"%tau\n",
      "\n"
     ],
     "language": "python",
     "metadata": {},
     "outputs": [
      {
       "output_type": "stream",
       "stream": "stdout",
       "text": [
        "\n",
        "compressive stress due to axial load =  17.7 N/mm^2\n",
        "\n",
        "compressive stress due to bending moment =   3.5 N/mm^2\n",
        "\n",
        "shear stress due to torque =  28.3 N/mm^2\n",
        "\n",
        "direct stress on inclined plane = -40.4 N/mm^2\n",
        "\n",
        "shear stress on inclined plane = 5.0 N/mm^2\n"
       ]
      }
     ],
     "prompt_number": 95
    },
    {
     "cell_type": "heading",
     "level": 2,
     "metadata": {},
     "source": [
      "Example 1.3, Pg. No.20"
     ]
    },
    {
     "cell_type": "code",
     "collapsed": false,
     "input": [
      "#import numpy\n",
      "import math\n",
      "#import matplotlib\n",
      "%pylab inline\n",
      "#from pylab import *          #change comment to above line to see undocked graph, all values will be visible as mouse-pointer moves\n",
      "#variable declaration\n",
      "sigma_x=160          #stress in x direction (N/mm^2)\n",
      "sigma_y=-120          #stress in y direction (N/mm^2)\n",
      "sigma=200             #stress on inclined plane (N/mm^2)\n",
      "\n",
      "tau_xy=((sigma-sigma_x)*(sigma-sigma_y))**0.5\n",
      "print \"\\nallowable shear stress, tau_xy = %4.1f N/mm^2 \"%tau_xy\n",
      "\n",
      "coeff=[1,-(sigma_x+sigma_y),sigma_x*sigma_y-tau_xy**2]\n",
      "sigma=numpy.roots(coeff)\n",
      "print \"\\nprincipal stresses, sigma_I = %3.0f N/mm^2  sigma_II = %3.0f N/mm^2\"%(sigma[0],sigma[1])\n",
      "\n",
      "tau_max=(abs(sigma[0])+abs(sigma[1]))/2\n",
      "print \"\\nmaximum shear stress, tau_max = %3.0f N/mm^2\"%tau_max\n",
      "\n",
      "#plotting Mohr circle\n",
      "x_cent=(sigma_x+sigma_y)/2\n",
      "y_cent=0\n",
      "\n",
      "X1=(sigma_x,tau_xy)\n",
      "X2=(sigma_y,-tau_xy)\n",
      "\n",
      "radius=(math.hypot(X2[0]-X1[0], X2[1] - X1[1]))/2\n",
      "\n",
      "cir=linspace(0,2*pi,100)\n",
      "plot(radius*cos(cir)+x_cent,radius*sin(cir)+y_cent,'r')\n",
      "plot(sigma_x,tau_xy,'ro',sigma_y,-tau_xy,'ro',x_cent,y_cent,'b+',sigma[0],0,'bo',sigma[1],0,'bo',20,tau_max,'go')\n",
      "text(sigma_x+10,tau_xy,'Q1')\n",
      "text(sigma_y+10,-tau_xy,'Q2')\n",
      "text(20,tau_max+10,r'$\\tau_{max}$')\n",
      "text(-150,0,r'$\\sigma_2$')\n",
      "text(200,10,r'$\\sigma_1$')\n",
      "text(-20,+10,'O')\n",
      "text(30,-20,'C')\n",
      "#plot([sigma_y,tau_xy],[sigma_x,-tau_xy],'r-')\n",
      "xlabel(r'$\\sigma$')\n",
      "ylabel(r'$\\tau$')\n",
      "title('Mohr Cirle')\n",
      "axis('equal')\n",
      "grid(True)\n",
      "show()"
     ],
     "language": "python",
     "metadata": {},
     "outputs": [
      {
       "output_type": "stream",
       "stream": "stdout",
       "text": [
        "Populating the interactive namespace from numpy and matplotlib\n",
        "\n",
        "allowable shear stress, tau_xy = 113.1 N/mm^2 \n",
        "\n",
        "principal stresses, sigma_I = 200 N/mm^2  sigma_II = -160 N/mm^2\n",
        "\n",
        "maximum shear stress, tau_max = 180 N/mm^2\n"
       ]
      },
      {
       "metadata": {},
       "output_type": "display_data",
       "png": "[encoded data removed]",
       "text": [
        "<matplotlib.figure.Figure at 0xa137240>"
       ]
      }
     ],
     "prompt_number": 141
    },
    {
     "cell_type": "heading",
     "level": 2,
     "metadata": {},
     "source": [
      "Example 1.4, Pg. No.33"
     ]
    },
    {
     "cell_type": "code",
     "collapsed": false,
     "input": [
      "import math\n",
      "#variable declaration\n",
      "sigma_x=83       # stress in x direction (N/mm^2)\n",
      "sigma_y=65       # stress in y direction (N/mm^2)\n",
      "E=200000         # Young's Modulus (N/mm^2)\n",
      "v=0.3           # poisson's ratio\n",
      "\n",
      "# strains in x,y and z directions\n",
      "epsln_x=1.0/E*(sigma_x-v*sigma_y)\n",
      "epsln_y=1.0/E*(sigma_y-v*sigma_x)\n",
      "epsln_z=-v/E*(sigma_x+sigma_y)\n",
      "print \"\\nstrain in x direction, epsln_x = %5.3e\"%epsln_x\n",
      "print \"\\nstrain in y direction, epsln_y = %5.3e\"%epsln_y\n",
      "print \"\\nstrain in z direction, epsln_z = %5.3e\"%epsln_z\n",
      "\n",
      "tau_max=(sigma_x-sigma_y)/2\n",
      "print \"\\nmaximum shear stress, tau_max = %2.2f N/mm^2\"%tau_max\n",
      "\n",
      "gama_max=2*(1+v)*tau_max/E\n",
      "print \"\\nmaximum shear strain, y_max = %2.2e \" %gama_max"
     ],
     "language": "python",
     "metadata": {},
     "outputs": [
      {
       "output_type": "stream",
       "stream": "stdout",
       "text": [
        "\n",
        "strain in x direction, epsln_x = 3.175e-04\n",
        "\n",
        "strain in y direction, epsln_y = 2.005e-04\n",
        "\n",
        "strain in z direction, epsln_z = -2.220e-04\n",
        "\n",
        "maximum shear stress, tau_max = 9.00 N/mm^2\n",
        "\n",
        "maximum shear strain, y_max = 1.17e-04 \n"
       ]
      }
     ],
     "prompt_number": 111
    },
    {
     "cell_type": "heading",
     "level": 2,
     "metadata": {},
     "source": [
      "Example 1.5, Pg. No.33"
     ]
    },
    {
     "cell_type": "code",
     "collapsed": false,
     "input": [
      "import math\n",
      "#import matplotlib.pyplot as plt\n",
      "%pylab inline\n",
      "#variable declaration\n",
      "sigma_x=60            #stress in x direction (N/mm^2)\n",
      "sigma_y=-40           #stress in y direction (N/mm^2)\n",
      "tau_xy=50             #shear stress (N/mm^2)\n",
      "E=2*10**5             #Young's Modulus (N/mm^2)\n",
      "v=0.3                #poisson's ratio\n",
      "\n",
      "#strains in x and y direction\n",
      "epsln_x=1.0/E*(sigma_x-v*sigma_y)\n",
      "epsln_y=1.0/E*(sigma_y-v*sigma_x)\n",
      "print \"\\nstrains in x and y directions, epsi_x =%4.1e  epsi_y =%4.1e \"%(epsln_x,epsln_y)     \n",
      "\n",
      "G=E/2/(1+v)\n",
      "print \"\\nshear modulus, G = %6.1f\"%G\n",
      "\n",
      "gama_xy=tau_xy/G\n",
      "print \"\\nshear strain, gama_xy = %4.1e\"%gama_xy\n",
      "\n",
      "#principal strains\n",
      "epsln_I=(epsln_x+epsln_y)/2+1.0/2*((epsln_x-epsln_y)**2+gama_xy**2)**0.5\n",
      "epsln_II=(epsln_x+epsln_y)/2-1.0/2*((epsln_x-epsln_y)**2+gama_xy**2)**0.5\n",
      "print \"\\nprincipal strains, epsln_I = %4.2e  epsln_II = %4.2e\"%(epsln_I,epsln_II)\n",
      "\n",
      "#inclination\n",
      "theta=1.0/2*math.atan(gama_xy/(epsln_x-epsln_y))\n",
      "print \"\\ninclination to the plane on which sigma_x acts, theta = %4.1f or %4.1f\"%(theta*180/math.pi,theta*180/math.pi+90)\n",
      "\n",
      "#plotting Mohr circle\n",
      "x_cent=(epsln_x+epsln_y)/2\n",
      "y_cent=0\n",
      "\n",
      "X1=(epsln_x,gama_xy/2)\n",
      "X2=(epsln_y,-gama_xy/2)\n",
      "\n",
      "radius=(math.hypot(X2[0]-X1[0], X2[1] - X1[1]))/2\n",
      "print radius\n",
      "cir=linspace(0,2*pi,100)\n",
      "plot(radius*cos(cir)+x_cent,radius*sin(cir),'r')\n",
      "plot(epsln_x,gama_xy/2,'ro',epsln_y,-gama_xy/2,'ro',x_cent,y_cent,'b+',epsln_II,0,'go',epsln_I,0,'go')\n",
      "text(epsln_x,gama_xy/2,'Q1')\n",
      "text(epsln_y,-gama_xy/2,'Q2')\n",
      "text(-0.00050,0,r'$\\epsilon_2$')\n",
      "text(.00050,0,r'$\\epsilon_1$')\n",
      "text(-.000060,0.00002,'O')\n",
      "text(0,0,'C')\n",
      "xlabel(r'$\\epsilon$')\n",
      "ylabel(r'$\\gamma$')\n",
      "title('Mohr Cirle')\n",
      "axis('equal')\n",
      "grid(True)\n",
      "show()"
     ],
     "language": "python",
     "metadata": {},
     "outputs": [
      {
       "output_type": "stream",
       "stream": "stdout",
       "text": [
        "Populating the interactive namespace from numpy and matplotlib\n",
        "\n",
        "strains in x and y directions, epsi_x =3.6e-04  epsi_y =-2.9e-04 \n",
        "\n",
        "shear modulus, G = 76923.1\n",
        "\n",
        "shear strain, gama_xy = 6.5e-04\n",
        "\n",
        "principal strains, epsln_I = 4.95e-04  epsln_II = -4.25e-04\n",
        "\n",
        "inclination to the plane on which sigma_x acts, theta = 22.5 or 112.5\n",
        "0.000459619407771\n"
       ]
      },
      {
       "metadata": {},
       "output_type": "display_data",
       "png": "[encoded data removed]",
       "text": [
        "<matplotlib.figure.Figure at 0xcc10a20>"
       ]
      }
     ],
     "prompt_number": 185
    },
    {
     "cell_type": "heading",
     "level": 2,
     "metadata": {},
     "source": [
      "Example 1.7, Pg. No.40"
     ]
    },
    {
     "cell_type": "code",
     "collapsed": false,
     "input": [
      "import math\n",
      "#variable declaration\n",
      "epsln_a=1000*10**(-6)     #readings of strain gauges \n",
      "epsln_b=-200*10**(-6)     #straing gauges 'a'  and 'c' are\n",
      "epsln_c=-300*10**(-6)     #in line and perpendicular to axis of bar\n",
      "d=50                      #diameter of bar (mm)\n",
      "E=70000                   #Young's modulus (N/mm^2)\n",
      "v=0.3                     #poisson's ratio\n",
      "\n",
      "#principal strains\n",
      "epsln_I=1.0/2*(epsln_a+epsln_c)+(1.0/2**0.5)*((epsln_a-epsln_b)**2+(epsln_c-epsln_b)**2)**0.5\n",
      "epsln_II=1.0/2*(epsln_a+epsln_c)-(1.0/2**0.5)*((epsln_a-epsln_b)**2+(epsln_c-epsln_b)**2)**0.5\n",
      "print \"\\nfirst principal strain, epsln_I = %4.3e\"%epsln_I\n",
      "print \"\\nsecond principal strain, epsln_II = %4.3e\"%epsln_II\n",
      "\n",
      "#principal stresses\n",
      "sigma_I=E/(1-v**2)*(epsln_I+v*epsln_II)\n",
      "sigma_II=E/(1-v**2)*(v*epsln_I+epsln_II)\n",
      "print \"\\nfirst principal stress, sigma_I= %4.1f N/mm^2\"%sigma_I #mistake in book\n",
      "print \"\\nsecond principal stress, sigma_II= %4.1f N/mm^2\"%sigma_II\n",
      "\n",
      "sigma_x=sigma_I+sigma_II\n",
      "print \"\\nstress in x direction,sigma_x = %4.1f N/mm^2\"%sigma_x\n",
      "\n",
      "#axial tensile load calculation\n",
      "A=math.pi*d**2/4\n",
      "P=sigma_x*A\n",
      "print \"\\naxial load, P = %4.1f kN\"%(P/1000)\n",
      "\n",
      "tau_xy=1.0/2*((sigma_x/2-sigma_II)**2*4-sigma_x**2)**0.5\n",
      "print \"\\nshear stress, tau_xy = %4.1f N/mm^2\"%tau_xy\n",
      "\n",
      "#torque calculation\n",
      "J=math.pi*d**4/32\n",
      "T=tau_xy*J/d*2\n",
      "print \"\\ntorque applied on circular bar, T = %4.1f kNm\"%(T/10**6)\n",
      "\n",
      "sigma_x=E*epsln_a\n",
      "print \"\\naxial stress from classical stress strain relationship, sigma_x =%4.0f N/mm^2\"%sigma_x"
     ],
     "language": "python",
     "metadata": {},
     "outputs": [
      {
       "output_type": "stream",
       "stream": "stdout",
       "text": [
        "\n",
        "first principal strain, epsln_I = 1.201e-03\n",
        "\n",
        "second principal strain, epsln_II = -5.015e-04\n",
        "\n",
        "first principal stress, sigma_I= 80.8 N/mm^2\n",
        "\n",
        "second principal stress, sigma_II= -10.8 N/mm^2\n",
        "\n",
        "stress in x direction,sigma_x = 70.0 N/mm^2\n",
        "\n",
        "axial load, P = 137.4 kN\n",
        "\n",
        "shear stress, tau_xy = 29.6 N/mm^2\n",
        "\n",
        "torque applied on circular bar, T =  0.7 kNm\n",
        "\n",
        "axial stress from classical stress strain relationship, sigma_x =  70 N/mm^2\n"
       ]
      }
     ],
     "prompt_number": 2
    },
    {
     "cell_type": "code",
     "collapsed": false,
     "input": [],
     "language": "python",
     "metadata": {},
     "outputs": []
    }
   ],
   "metadata": {}
  }
 ]
}