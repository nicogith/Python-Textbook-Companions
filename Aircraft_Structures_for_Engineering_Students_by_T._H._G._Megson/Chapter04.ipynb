{
 "metadata": {
  "name": "",
  "signature": "sha256:6a67de7af4fe617483b9aefeefdb01f122e2016e5ab212db494104a83b9deeda"
 },
 "nbformat": 3,
 "nbformat_minor": 0,
 "worksheets": [
  {
   "cells": [
    {
     "cell_type": "heading",
     "level": 2,
     "metadata": {},
     "source": [
      "Example 4.6 Pg.No.106"
     ]
    },
    {
     "cell_type": "code",
     "collapsed": false,
     "input": [
      "from __future__ import division\n",
      "import math\n",
      "\n",
      "sum_FAFlBL=1263.6*10**6    # (N.mm)\n",
      "sum_FAFlDL=880*10**6       # (N.mm)\n",
      "E=200000                  # young's modulus (N/mm^2)\n",
      "A=1800                    # area of each member (mm^2)\n",
      "\n",
      "#eqn 4.23 We=Wi\n",
      "del_B=sum_FAFlBL/A/E\n",
      "print \"\\ndeflection at point B =%2.2f mm\\n\"%(del_B)\n",
      "\n",
      "del_D=sum_FAFlDL/A/E\n",
      "print \"deflection at point D =%2.2f mm\\n\"%(del_D)\n"
     ],
     "language": "python",
     "metadata": {},
     "outputs": [
      {
       "output_type": "stream",
       "stream": "stdout",
       "text": [
        "\n",
        "deflection at point B =3.51 mm\n",
        "\n",
        "deflection at point D =2.44 mm\n",
        "\n"
       ]
      }
     ],
     "prompt_number": 19
    },
    {
     "cell_type": "code",
     "collapsed": false,
     "input": [
      "from __future__ import division\n",
      "import math\n",
      "\n",
      "ext_load=30    #external load(kN)\n",
      "\n",
      "#eqn 30*4*del_vB/3=F_BA*del_vB\n",
      "F_BA=ext_load*4/3\n",
      "print \"\\nforce in the struss AB is = %3.2f kN\\n\"%(F_BA)"
     ],
     "language": "python",
     "metadata": {},
     "outputs": [
      {
       "output_type": "stream",
       "stream": "stdout",
       "text": [
        "\n",
        "force in the struss AB is = 40.00 kN\n",
        "\n"
       ]
      }
     ],
     "prompt_number": 18
    },
    {
     "cell_type": "code",
     "collapsed": false,
     "input": [],
     "language": "python",
     "metadata": {},
     "outputs": []
    }
   ],
   "metadata": {}
  }
 ]
}