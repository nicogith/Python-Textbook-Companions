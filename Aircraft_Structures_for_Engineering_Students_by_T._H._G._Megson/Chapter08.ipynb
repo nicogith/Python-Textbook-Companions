{
 "metadata": {
  "name": "",
  "signature": "sha256:d4ab160ecba8745ef027bb167a7abbd97977707c483b1d0a639c7f068e2016a8"
 },
 "nbformat": 3,
 "nbformat_minor": 0,
 "worksheets": [
  {
   "cells": [
    {
     "cell_type": "heading",
     "level": 1,
     "metadata": {},
     "source": [
      "Chapter 08: Columns"
     ]
    },
    {
     "cell_type": "heading",
     "level": 2,
     "metadata": {},
     "source": [
      "Example 8.3 Pg.No.280"
     ]
    },
    {
     "cell_type": "code",
     "collapsed": false,
     "input": [
      "from __future__ import division\n",
      "import math\n",
      "\n",
      "E=75000         #youngs modulus(N/mm^2)\n",
      "G=21000          #shear modulus (N/mm^2)\n",
      "L=2              #length of column (m)\n",
      "l1=75            #flange length (mm)\n",
      "l2=37.5            #total length(mm)\n",
      "t=2.5            #thickness(mm)\n",
      "\n",
      "A=t*(2*l2+l1)         #observed from Fig 8.17\n",
      "\n",
      "#chapter 16  Ixx=bd^3/12+Ab^2\n",
      "Ixx=2*l2*t*l2**2+t*l1**3/12\n",
      "Iyy=2*t*l2**3/12\n",
      "\n",
      "I0=Ixx+Iyy\n",
      "\n",
      "#eqn 18.11 J=SUM((s*t^3)/3)\n",
      "J=2*l2*t**3/3+l1*t**3/3\n",
      "\n",
      "Gama=t*l2**3*l1**2/24\n",
      "Iyy=0.22*10**5\n",
      "L=2*10**3\n",
      "P_CRxx=math.pi**2*E*Ixx/L**2\n",
      "P_CRyy=math.pi**2*E*Iyy/L**2\n",
      "P_CRo=A/I0*(G*J+math.pi**2*E*Gama/L**2)\n",
      "\n",
      "print \"P_CRxx = %3.2e N\\n\"%(P_CRxx)\n",
      "print \"P_CRyy = %0.1e N\\n\"%(P_CRyy)\n",
      "print \"P_CRO = %0.2e N\\n\"%(P_CRo)\n",
      "\n",
      "print \"therefore buckling in the column due to axial load=%0.1e N\\n\"%(P_CRyy)"
     ],
     "language": "python",
     "metadata": {},
     "outputs": [
      {
       "output_type": "stream",
       "stream": "stdout",
       "text": [
        "P_CRxx = 6.51e+04 N\n",
        "\n",
        "P_CRyy = 4.1e+03 N\n",
        "\n",
        "P_CRO = 2.22e+04 N\n",
        "\n",
        "therefore buckling in the column due to axial load=4.1e+03 N\n",
        "\n"
       ]
      }
     ],
     "prompt_number": 9
    },
    {
     "cell_type": "heading",
     "level": 2,
     "metadata": {},
     "source": [
      "Example 8.4 Pg.No.282"
     ]
    },
    {
     "cell_type": "code",
     "collapsed": false,
     "input": [
      "from __future__ import division\n",
      "import math\n",
      "import numpy as np\n",
      "from sympy import solve, symbols, pprint\n",
      "from sympy import diff\n",
      "P=symbols('P')\n",
      "\n",
      "E=70000        #youngs modulus (N/mm^2)\n",
      "G=30000         #shear modulus (N/mm^2)\n",
      "x_S=-76.2        #position of shear center(mm)\n",
      "l1=l2=100        #lengths (mm)\n",
      "t=2              #thickness(mm)\n",
      "\n",
      "x_bar=2*t*l1*50/(3*l1)/2\n",
      "\n",
      "A=600         #area (mm^2)\n",
      "Ixx=1.17*10**6    #second moment of area (mm^4)\n",
      "Iyy=0.67*10**6    #second moment of area (mm^4)\n",
      "I0=5.32*10**6     # total second moment of area (mm^4)\n",
      "J=800              #torsion constant (mm^4)\n",
      "Gama=2488*10**6     #(mm^6)\n",
      "L=10**3             #(mm)\n",
      "\n",
      "P_CRxx=math.pi**2*E*Ixx/L**2\n",
      "P_CRyy=math.pi**2*E*Iyy/L**2\n",
      "P_CRo=A/I0*(G*J+math.pi**2*E*Gama/L**2)\n",
      "\n",
      "fun=P**2*(1-A*x_S**2/I0)-P*(P_CRxx+P_CRo)+P_CRxx*P_CRo\n",
      "solution = solve(fun, P)\n",
      "print \"lowest value of critical load = %1.2e N\\n\"%(min(solution))"
     ],
     "language": "python",
     "metadata": {},
     "outputs": [
      {
       "output_type": "stream",
       "stream": "stdout",
       "text": [
        "lowest value of critical load = 1.68e+05 N\n",
        "\n"
       ]
      }
     ],
     "prompt_number": 29
    },
    {
     "cell_type": "code",
     "collapsed": false,
     "input": [],
     "language": "python",
     "metadata": {},
     "outputs": []
    }
   ],
   "metadata": {}
  }
 ]
}