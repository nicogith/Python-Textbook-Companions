{
 "metadata": {
  "name": "",
  "signature": "sha256:c3ab3016805321c8a28748b1937c77b2125357dfc661b20013df0624feaa950e"
 },
 "nbformat": 3,
 "nbformat_minor": 0,
 "worksheets": [
  {
   "cells": [
    {
     "cell_type": "heading",
     "level": 1,
     "metadata": {},
     "source": [
      "Chapter 16: Bending of open and closed thin-walled beams \n"
     ]
    },
    {
     "cell_type": "heading",
     "level": 2,
     "metadata": {},
     "source": [
      "Example 16.1 Pg. No.456"
     ]
    },
    {
     "cell_type": "code",
     "collapsed": false,
     "input": [
      "# Fig 16.6 Dimensions\n",
      "from __future__ import division\n",
      "import math\n",
      "\n",
      "#variable declaration\n",
      "l=300            #length of I section (mm)\n",
      "b=200            #width of I section beam (mm)\n",
      "w1=25            #width of center section of I beam (mm)\n",
      "w2=20            #width of upper and lower section of I beam (mm)\n",
      "M=100*10**6      #moment applied in vertical plane (N*mm)\n",
      "\n",
      "#second moment of area Ixx\n",
      "# Ixx=b*l^3/12\n",
      "Ixx=b*l**3/12-(b-w1)*(l-w2-w2)**3/12\n",
      "print \"\\nSecond moment of area of I section beam = %5.3e mm^4\"%(Ixx)\n",
      "\n",
      "#sigma_z=My/I  reference 16.9\n",
      "# @ \n",
      "y=150\n",
      "sigma_z=M*y/Ixx\n",
      "print \"\\ndirect stress at the top of the I section (y=150) = %3.2f N/mm^2 (compression)\"%(sigma_z)\n",
      "\n",
      "# @\n",
      "y=-150\n",
      "sigma_z=M*y/Ixx\n",
      "print \"\\ndirect stress at the bottom of the I section (y=-150) = %3.2f N/mm^2 (tension)\"%(sigma_z)\n"
     ],
     "language": "python",
     "metadata": {},
     "outputs": [
      {
       "output_type": "stream",
       "stream": "stdout",
       "text": [
        "\n",
        "Second moment of area of I section beam = 1.937e+08 mm^4\n",
        "\n",
        "direct stress at the top of the I section (y=150) = 77.45 N/mm^2 (compression)\n",
        "\n",
        "direct stress at the bottom of the I section (y=-150) = -77.45 N/mm^2 (tension)\n"
       ]
      }
     ],
     "prompt_number": 13
    },
    {
     "cell_type": "heading",
     "level": 2,
     "metadata": {},
     "source": [
      "Example 16.2 Pg. No.457"
     ]
    },
    {
     "cell_type": "code",
     "collapsed": false,
     "input": [
      "# Fig 16.6 reference\n",
      "from __future__ import division\n",
      "import math\n",
      "\n",
      "#variable declaration\n",
      "l=300            #length of I section (mm)\n",
      "b=200            #width of I section beam (mm)\n",
      "w1=25            #width of center section of I beam (mm)\n",
      "w2=20            #width of upper and lower section of I beam (mm)\n",
      "M=100*10**6      #moment applied in vertical plane (N*mm)\n",
      "\n",
      "# second moment of area\n",
      "# Iyy=wb^3/12\n",
      "Iyy=2*20*200**3/12+260*25**3/12\n",
      "print \"\\nSecond moment of area of I section beam = %5.3e mm^4\"%(Iyy)\n",
      "\n",
      "#sigma_z=Mx/I  \n",
      "# @ \n",
      "x=100\n",
      "sigma_z=M*x/Iyy\n",
      "print \"\\ndirect stress at the top of the I section (y=150) = %3.2f N/mm^2 (compression)\"%(sigma_z)\n",
      "\n",
      "# @\n",
      "x=-100\n",
      "sigma_z=M*x/Iyy\n",
      "print \"\\ndirect stress at the bottom of the I section (y=-150) = %3.2f N/mm^2 (tension)\"%(sigma_z)\n"
     ],
     "language": "python",
     "metadata": {},
     "outputs": [
      {
       "output_type": "stream",
       "stream": "stdout",
       "text": [
        "\n",
        "Second moment of area of I section beam = 2.701e+07 mm^4\n",
        "\n",
        "direct stress at the top of the I section (y=150) = 370.30 N/mm^2 (compression)\n",
        "\n",
        "direct stress at the bottom of the I section (y=-150) = -370.30 N/mm^2 (tension)\n"
       ]
      }
     ],
     "prompt_number": 17
    },
    {
     "cell_type": "heading",
     "level": 2,
     "metadata": {},
     "source": [
      "Example 16.3 Pg.No.458 "
     ]
    },
    {
     "cell_type": "code",
     "collapsed": false,
     "input": [
      "from __future__ import division\n",
      "import math\n",
      "\n",
      "#variable declaration\n",
      "l=300            #length of I section (mm)\n",
      "b=200            #width of I section beam (mm)\n",
      "w1=25            #width of center section of I beam (mm)\n",
      "w2=20            #width of upper and lower section of I beam (mm)\n",
      "M=100*10**6      #moment applied in vertical plane (N*mm)\n",
      "theta=30         #angle at which bending moment is applied(degree)\n",
      "\n",
      "Mx=M*math.cos(math.radians(30))\n",
      "My=M*math.sin(math.radians(30))\n",
      "\n",
      "# sigma_z=Mx/Ixx*y+My/Iyy*x\n",
      "# @top left hand corner\n",
      "y=150\n",
      "x=-100\n",
      "sigma_z=Mx/Ixx*y-My/Iyy*x  \n",
      "print \"\\ndirect stress at the top left hand corner = %3.1f N/mm^2 (tension)\"%(sigma_z)\n",
      "\n",
      "# @ top right hand corner\n",
      "x=100\n",
      "y=150\n",
      "sigma_z=Mx/Ixx*y-My/Iyy*x  \n",
      "print \"\\ndirect stress at the top right hand corner = %3.1f N/mm^2 (compression)\"%(sigma_z)\n",
      "\n",
      "alpha=math.atan(My*Ixx/Mx/Iyy)\n",
      "print \"\\ninclination = %3.1f degree\\n\"%(alpha*180/math.pi)"
     ],
     "language": "python",
     "metadata": {},
     "outputs": [
      {
       "output_type": "stream",
       "stream": "stdout",
       "text": [
        "\n",
        "direct stress at the top left hand corner = 252.2 N/mm^2 (tension)\n",
        "\n",
        "direct stress at the top right hand corner = -118.1 N/mm^2 (compression)\n",
        "\n",
        "inclination = 76.4 degree\n",
        "\n"
       ]
      }
     ],
     "prompt_number": 38
    },
    {
     "cell_type": "heading",
     "level": 2,
     "metadata": {},
     "source": [
      "Example 16.4 Pg.No.466"
     ]
    },
    {
     "cell_type": "code",
     "collapsed": false,
     "input": [
      "# reference Fig 16.13\n",
      "import math\n",
      "from __future__ import division\n",
      "#variable declaration\n",
      "l=80           #length of one section (mm)\n",
      "w=8            #thickness of each section (mm)\n",
      "b1=40          #width of one section (mm)\n",
      "b2=80          #width of other section (mm)\n",
      "Mx=1500*10*3   #bending moment (N.mm)\n",
      "My=0\n",
      "\n",
      "#centroid\n",
      "# in this example C is taken at top surface x axis aligned to AB and y axis is \n",
      "# aligned to E surface \n",
      "y_bar=((b1+b2)*w*w/2+l*w*(w+l/2))/(l*w+(b1+b2)*w)\n",
      "print \"\\ny coordinate of centroid = %3.1f mm\"%(y_bar)\n",
      "\n",
      "x_bar=((b1+b2)*w*((b1+b2)/2-b1+w/2)+l*w*(w/2))/(l*w+(b1+b2)*w)\n",
      "print \"\\nx coordinate of centroid = %3.1f mm\"%(x_bar)\n",
      "\n",
      "#second area of moment\n",
      "#IB=IC+Ab^2              IB=moment about any point,IC=moment about centroid, b=distace between both points\n",
      "Ixx=(b1+b2)*w**3/12+(b1+b2)*w*(y_bar-w/2)**2+w*l**3/12+l*w*(w+l/2-y_bar)**2\n",
      "print \"\\nsecond moment of area about x axis = %3.2e mm^4\"%(Ixx)\n",
      "\n",
      "Iyy=w*(b1+b2)**3/12+(b1+b2)*w*((b1+b2)/2-b1+w/2-x_bar)**2+l*w**3/12+l*w*(x_bar-w/2)**2\n",
      "print \"\\nsecond moment of area about y axis = %3.2e mm^4\"%(Iyy)\n",
      "\n",
      "Ixy=(b1+b2)*w*(y_bar-w/2)*((b1+b2)/2-b1+w/2-x_bar)+l*w*(w+l/2-y_bar)*(x_bar-w/2)\n",
      "print \"\\nsecond moment of area about x and y axis = %3.2e mm^4\"%(Ixy)\n",
      "\n",
      "Mx=15*10**5\n",
      "def f(x,y):\n",
      "        return Mx*(Iyy*y-Ixy*x)/(Ixx*Iyy-Ixy**2)\n",
      "sigma_z_max= f(-8,-66.4)\n",
      "print \"\\nmaximum direct shear stress = %3.0f N/mm^2 (compressive)\\n\"%(sigma_z_max)"
     ],
     "language": "python",
     "metadata": {},
     "outputs": [
      {
       "output_type": "stream",
       "stream": "stdout",
       "text": [
        "\n",
        "y coordinate of centroid = 21.6 mm\n",
        "\n",
        "x coordinate of centroid = 16.0 mm\n",
        "\n",
        "second moment of area about x axis = 1.09e+06 mm^4\n",
        "\n",
        "second moment of area about y axis = 1.31e+06 mm^4\n",
        "\n",
        "second moment of area about x and y axis = 3.38e+05 mm^4\n",
        "\n",
        "maximum direct shear stress = -96 N/mm^2 (compressive)\n",
        "\n"
       ]
      }
     ],
     "prompt_number": 62
    },
    {
     "cell_type": "code",
     "collapsed": false,
     "input": [],
     "language": "python",
     "metadata": {},
     "outputs": []
    }
   ],
   "metadata": {}
  }
 ]
}