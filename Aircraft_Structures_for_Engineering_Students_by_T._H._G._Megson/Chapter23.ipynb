{
 "metadata": {
  "name": "",
  "signature": "sha256:38d29ad436c9255138372fb573a0261c5aeb8d664f2491fbf03a71e42b1c4783"
 },
 "nbformat": 3,
 "nbformat_minor": 0,
 "worksheets": [
  {
   "cells": [
    {
     "cell_type": "heading",
     "level": 1,
     "metadata": {},
     "source": [
      "Chapter 23: Wings"
     ]
    },
    {
     "cell_type": "heading",
     "level": 2,
     "metadata": {},
     "source": [
      "Example 23.1 Pg.No.609"
     ]
    },
    {
     "cell_type": "code",
     "collapsed": false,
     "input": [
      "from __future__ import division\n",
      "from sympy import solve, symbols, pprint\n",
      "import math\n",
      "y=symbols('y')\n",
      "\n",
      "B1=B6=2580\n",
      "B2=B5=3880          #Boom areas (mm^2)\n",
      "B3=B4=3230\n",
      "\n",
      "l1=200\n",
      "l2=230               #dimensions shown in Fig 23.3 (mm)\n",
      "l3=165\n",
      "\n",
      "Mx=300*10**6         #bending moment (N.mm)\n",
      "My=0\n",
      "\n",
      "Ixx=2*(B1*l3**2+B2*l2**2+B3*l1**2)\n",
      "sigma_z=Mx/Ixx*y\n",
      "\n",
      "print \"direct stress in booms sigma_z = %s\" %(sigma_z)"
     ],
     "language": "python",
     "metadata": {},
     "outputs": [
      {
       "output_type": "stream",
       "stream": "stdout",
       "text": [
        "direct stress in booms sigma_z = 0.370651791174781*y\n"
       ]
      }
     ],
     "prompt_number": 8
    },
    {
     "cell_type": "heading",
     "level": 2,
     "metadata": {},
     "source": [
      "Example 23.2 Pg.No.612"
     ]
    },
    {
     "cell_type": "code",
     "collapsed": false,
     "input": [
      "from __future__ import division\n",
      "from sympy import solve, symbols, pprint\n",
      "import math\n",
      "import numpy as np\n",
      "\n",
      "T=11.3*10**6      # torque applied (N.mm)\n",
      "G_REF=27600        #(N/mm^2)\n",
      "A1=258000\n",
      "A2=355000          #areas in table\n",
      "A3=161000\n",
      "\n",
      "#t*12=G/G_REF*t\n",
      "t12=24200/G_REF*1.22\n",
      "t12i=27600/G_REF*2.03\n",
      "t13=t24=24200/G_REF*1.22     #G and thickness taken from table ex23.2 Pg.No.612\n",
      "t35=t46=t56=20700/G_REF*0.92\n",
      "t34=27600/G_REF*1.63\n",
      "\n",
      "# del12=ds/t*12\n",
      "del12=1650/t12\n",
      "del12i=508/t12i\n",
      "del13=del24=775/t13\n",
      "del34=380/t34               #lengths taken from table\n",
      "del35=del46=508/t35\n",
      "del56=254/t56\n",
      "\n",
      "\n",
      "a=np.array([[del12+del12i,-del12i,0,-2*A1*G_REF],[-del12i,del12i+del13+del24+del34,-del34,-2*A2*G_REF],[0,-del34,del35+del46+del34+del56,-2*A3*G_REF],[A1,A2,A3,0]])\n",
      "b=np.array([0,0,0,5.65*10**6])\n",
      "x=np.linalg.solve(a,b)\n",
      "print \"shear stress distribution is as follows\"\n",
      "print \"q1=%1.1f N/mm\"%(x[0])\n",
      "print \"q2=%1.1f N/mm\"%(x[1])\n",
      "print \"q3=%1.1f N/mm\\n\"%(x[2])\n",
      "print \"dO_dz=%1.2e \"%(x[3])"
     ],
     "language": "python",
     "metadata": {},
     "outputs": [
      {
       "output_type": "stream",
       "stream": "stdout",
       "text": [
        "shear stress distribution is as follows\n",
        "q1=7.1 N/mm\n",
        "q2=8.9 N/mm\n",
        "q3=4.2 N/mm\n",
        "\n",
        "dO_dz=7.36e-07 \n"
       ]
      }
     ],
     "prompt_number": 27
    },
    {
     "cell_type": "heading",
     "level": 2,
     "metadata": {},
     "source": [
      "Example 23.3 Pg.No.616"
     ]
    },
    {
     "cell_type": "code",
     "collapsed": false,
     "input": [
      "from __future__ import division\n",
      "from sympy import solve, symbols, pprint\n",
      "import math\n",
      "import numpy as np\n",
      "\n",
      "A1=265000\n",
      "A2=213000\n",
      "A3=413000\n",
      "\n",
      "G_REF=27600\n",
      "Sy=86.8*10**3\n",
      "t78=3*27600/27600*1.22\n",
      "del78=1270/t78\n",
      "t12=t56=1.22\n",
      "del12=del56=1023/t12\n",
      "t23=1.63\n",
      "del23=1274/t23\n",
      "t34=2.03\n",
      "del34=2200/t34\n",
      "del38=57\n",
      "del84=95\n",
      "del87=347\n",
      "del27=68\n",
      "del75=106\n",
      "del16=330/1.63\n",
      "Ixx=809*10**6             #From example 23.1\n",
      "\n",
      "qb27=-99.4;qb16=-45.5;qb65=0;qb57=95.5;qb38=-69.8;qb48=69\n",
      "\n",
      "\n",
      "a=np.array([     [del34+del84+del38,-del38,0,-2*A1*G_REF],       [-del38,del23+del38+del87+del27,-del27,-2*A2*G_REF],          [0,-del27,del56+del27+del75+del12+del16,-2*A3*G_REF],                    [2*A1,2*A2,2*A3,0]                                              ])\n",
      "b=np.array([-10488,-2561,7426,19736700])\n",
      "x=np.linalg.solve(a,b)\n",
      "\n",
      "qs01=5.5\n",
      "qs02=10.2\n",
      "qs03=16.5\n",
      "\n",
      "q34=qs01\n",
      "q23=qs02\n",
      "q12=qs03\n",
      "q61=-qb16+qs03\n",
      "q57=qb57-qs03\n",
      "q72=-qb27-qs02\n",
      "q48=qb48+qs01\n",
      "q83=-qb38-qs01\n",
      "\n",
      "print \"shear flows distribution is as follows :\"\n",
      "print \"q34=%1.2f N/mm\"%(q34)\n",
      "print \"q23=q87=%1.2f N/mm\"%(q23)\n",
      "print \"q12=q56=%1.2f N/mm\"%(q12)\n",
      "print \"q61=%1.2f N/mm\"%(q61)             \n",
      "print \"q57=%1.2f N/mm\"%(q57)\n",
      "print \"q72=%1.2f N/mm\"%(q72)\n",
      "print \"q48=%1.2f N/mm\"%(q48)\n",
      "print \"q83=%1.2f N/mm\\n\"%(q83)\n",
      "\n",
      "print \"rate of twist = %1.1e rad/mm\"%(x[3])"
     ],
     "language": "python",
     "metadata": {},
     "outputs": [
      {
       "output_type": "stream",
       "stream": "stdout",
       "text": [
        "shear flows distribution is as follows :\n",
        "q34=5.50 N/mm\n",
        "q23=q87=10.20 N/mm\n",
        "q12=q56=16.50 N/mm\n",
        "q61=62.00 N/mm\n",
        "q57=79.00 N/mm\n",
        "q72=89.20 N/mm\n",
        "q48=74.50 N/mm\n",
        "q83=64.30 N/mm\n",
        "\n",
        "rate of twist = 1.1e-06 rad/mm\n"
       ]
      }
     ],
     "prompt_number": 8
    },
    {
     "cell_type": "heading",
     "level": 2,
     "metadata": {},
     "source": [
      "Example 23.4 Pg.No.618 "
     ]
    },
    {
     "cell_type": "code",
     "collapsed": false,
     "input": [
      "from __future__ import division\n",
      "from sympy import solve, symbols, pprint\n",
      "import math\n",
      "import numpy as np\n",
      "\n",
      "#Boom areas\n",
      "B=[600,900,600,600,900,600]\n",
      "Pz=[0,0,0,0,0,0]\n",
      "y=[54.56,54.56,54.56,-54.56,-54.56,-54.56]\n",
      "Ixx=4*600*90**2+2*900*90**2\n",
      "Ixy=0\n",
      "Mx=1.65*10**6\n",
      "My=0\n",
      "\n",
      "a=np.array([[1700,-1520],[72000,144000]])\n",
      "b=np.array([3942,690726])\n",
      "x=np.linalg.solve(a,b)\n",
      "print \"\\nqs0I = %2.1f N/mm\\n\"%(x[0])\n",
      "print \"\\nqs0II = %2.1f N/mm\\n\"%(x[1])"
     ],
     "language": "python",
     "metadata": {},
     "outputs": [
      {
       "output_type": "stream",
       "stream": "stdout",
       "text": [
        "\n",
        "qs0I = 4.6 N/mm\n",
        "\n",
        "\n",
        "qs0II = 2.5 N/mm\n",
        "\n"
       ]
      }
     ],
     "prompt_number": 21
    },
    {
     "cell_type": "heading",
     "level": 2,
     "metadata": {},
     "source": [
      "Example 23.5 Pg.No.622"
     ]
    },
    {
     "cell_type": "code",
     "collapsed": false,
     "input": [
      "from __future__ import division\n",
      "from sympy import solve, symbols, pprint\n",
      "import math\n",
      "import numpy as np\n",
      "from sympy import integrate\n",
      "z=symbols('z')\n",
      "\n",
      "E=69000             #youngs modulus (N/mm^2)\n",
      "G=25900              #shear modulus (N/mm^2)\n",
      "t=2                  #thickness (mm)\n",
      "B=[650,1300,650,650,1300,650]   #boom area\n",
      "q0=[9.6,-5.8,50.3,-5.8,9.6,54.1,73.6]\n",
      "Sy0=44.5*10**3\n",
      "Sy1=1\n",
      "Mx0=-44.5*10**3*(2000-z)\n",
      "Mx1=-(2000-z)\n",
      "Ixx=81.3*10**6\n",
      "int_q0q1_Gt=1/G/t/Sy0*(q0[0]**2*250*t+q0[1]**2*500*t+q0[2]**2*250+q0[5]**2*250+q0[6]**2*250)\n",
      "\n",
      "delta=integrate(Mx0*Mx1/E/Ixx,(z,0,2000))+integrate(int_q0q1_Gt,(z,0,2000))\n",
      "print \"deflection at free end of the two cell = %2.2f mm\"%(delta)"
     ],
     "language": "python",
     "metadata": {},
     "outputs": [
      {
       "output_type": "stream",
       "stream": "stdout",
       "text": [
        "deflection at free end of the two cell = 23.58 mm\n"
       ]
      }
     ],
     "prompt_number": 70
    },
    {
     "cell_type": "heading",
     "level": 2,
     "metadata": {},
     "source": [
      "Example 23.6 Pg.No.624"
     ]
    },
    {
     "cell_type": "code",
     "collapsed": false,
     "input": [
      "from sympy import solve, symbols, pprint\n",
      "import math\n",
      "import numpy as np\n",
      "from sympy import integrate\n",
      "\n",
      "T=10*10**6       #torque subjected (N.mm)\n",
      "l1=800  \n",
      "l2=200            #lengths shown in Fig23.17 (mm)\n",
      "l3=1500\n",
      "A=l2*l1\n",
      "\n",
      "\n",
      "q=T/2/A\n",
      "S=T/l1\n",
      "q1=S/l2\n",
      "P=S*l3/2/l2\n",
      "\n",
      "a=np.array([[1,-1],[1,1]])\n",
      "b=np.array([31.3,62.5])\n",
      "q=np.linalg.solve(a,b)\n",
      "\n",
      "print \"shear flow :\"\n",
      "print \"q1=%2.2f N/mm\"%(q1)\n",
      "print \"q2=%2.2f N/mm\"%(q[0])\n",
      "print \"q3=%2.2f N/mm\\n\"%(q[1])\n",
      "\n",
      "print \"flange loads :\"\n",
      "print \"P(st.4500) = 0\"\n",
      "print \"P(st.3000) = %2.2f N (compression)\"%(l3*q[0]-l3*q[1])\n",
      "print \"P(st.2250) = %2.1f\"%(46875-l3/2*q1)"
     ],
     "language": "python",
     "metadata": {},
     "outputs": [
      {
       "output_type": "stream",
       "stream": "stdout",
       "text": [
        "shear flow :\n",
        "q1=62.50 N/mm\n",
        "q2=46.90 N/mm\n",
        "q3=15.60 N/mm\n",
        "\n",
        "flange loads :\n",
        "P(st.4500) = 0\n",
        "P(st.3000) = 46950.00 N (compression)\n",
        "P(st.2250) = 0.0\n"
       ]
      }
     ],
     "prompt_number": 84
    }
   ],
   "metadata": {}
  }
 ]
}