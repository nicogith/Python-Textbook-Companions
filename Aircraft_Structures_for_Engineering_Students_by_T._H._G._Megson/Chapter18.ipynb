{
 "metadata": {
  "name": "",
  "signature": "sha256:a16e0822e0e7167e54e1f4ffc425aa7247562532992f7dee46fc87221365735a"
 },
 "nbformat": 3,
 "nbformat_minor": 0,
 "worksheets": [
  {
   "cells": [
    {
     "cell_type": "heading",
     "level": 1,
     "metadata": {},
     "source": [
      "Chapter 18: Torsion of Beams"
     ]
    },
    {
     "cell_type": "heading",
     "level": 2,
     "metadata": {},
     "source": [
      "Example 18.1 Pg.No.527"
     ]
    },
    {
     "cell_type": "code",
     "collapsed": false,
     "input": [
      "from __future__ import division\n",
      "import math\n",
      "\n",
      "#variable declaration\n",
      "r=100                    #radius of cylinder (mm)\n",
      "l=2*10**3                #length of cylinder (mm)\n",
      "torque=30*10**6           #torque at mid point (N.mm)\n",
      "Tmax=15*10**6            \n",
      "Tau_max=200               #max shear stress (N/mm^2)\n",
      "G=25000                   #shear modulus (N/mm^2)\n",
      "theta =2                # rotation at mid point (degree)\n",
      "\n",
      "#ref equation 18.1    T=2Aq\n",
      "tmin1=Tmax/(2*math.pi*r**2*Tau_max)\n",
      "print \"\\nminimum thickness of beam due to stress limited to 200N/mm^2 = %3.1f mm\"%(tmin1)\n",
      "\n",
      "z=1*10**3                   # twist at mid point (mm)\n",
      "#equation 18.4 after integration\n",
      "tmin2=Tmax*200*math.pi*z/(4*(math.pi*r**2)**2*G*theta*math.pi/180)\n",
      "print \"\\nminimum thickness due to constraint on maximum angle twist = %3.1f mm\"%(tmin2)\n",
      "t=max(tmin1,tmin2)\n",
      "print \"\\nthickness which satisfies both conditions = %3.1f mm\"%(t)"
     ],
     "language": "python",
     "metadata": {},
     "outputs": [
      {
       "output_type": "stream",
       "stream": "stdout",
       "text": [
        "\n",
        "minimum thickness of beam due to stress limited to 200N/mm^2 = 1.2 mm\n",
        "\n",
        "minimum thickness due to constraint on maximum angle twist = 2.7 mm\n",
        "\n",
        "thickness which satisfies both conditions = 2.7 mm\n"
       ]
      }
     ],
     "prompt_number": 19
    },
    {
     "cell_type": "heading",
     "level": 2,
     "metadata": {},
     "source": [
      "Example 18.3 Pg.No 540"
     ]
    },
    {
     "cell_type": "code",
     "collapsed": false,
     "input": [
      "#reference Fig 18.12\n",
      "from __future__ import division\n",
      "import math\n",
      "from sympy import symbols\n",
      "from sympy import integrate\n",
      "\n",
      "S1,S2,S3=symbols('S1,S2,S3')\n",
      "\n",
      "#variable declaration\n",
      "s1=50             #length of channel (mm)\n",
      "s2=25             #width of channel (mm)\n",
      "t1=2.5            #thickness of web(mm)\n",
      "t2=1.5             #thickness of flange(mm)\n",
      "T=10*10**3         #torque applied (N.mm)\n",
      "zeta_s=8.04         \n",
      "G=25000             #shear modulus (N/mm^2)\n",
      "\n",
      "#J=Sum(st^3/3)\n",
      "J=1/3*(s1*t1**3+2*s2*t2**3)\n",
      "tau_max=t1*T/J\n",
      "print \"maximum shear stress = %3.1f N/mm^2\"%(tau_max)\n",
      "\n",
      "#in region O2\n",
      "s1=25\n",
      "ARf=1/2*zeta_s*s1\n",
      "ws=-2*ARf*T/(G*J)\n",
      "print \"warping in O2 region is linear = %3.2f mm\"%(ws)\n",
      "\n",
      "#in the wall 21\n",
      "AR=1/2*zeta_s*s2-0.5*25*s2\n",
      "w21=-0.03*(zeta_s-s2)\n",
      "s1=50\n",
      "tds=2*s2*t2+s1*t1\n",
      "\n",
      "A12=25/2*S1\n",
      "A23=312.5-4.02*S2\n",
      "A34=111.5+25/2*S3\n",
      "AR1=1/2*(integrate(A12,(S1,0,25))+integrate(5*(A23),(S2,0,50))+integrate(3*A34,(S3,0,25)))/200\n",
      "\n",
      "#equation 18.20\n",
      "ws=-2*ARf*T/G/J\n",
      "print \"warping distribution in flange 34 = %1.2f \\n\"%(ws)"
     ],
     "language": "python",
     "metadata": {},
     "outputs": [
      {
       "output_type": "stream",
       "stream": "stdout",
       "text": [
        "maximum shear stress = 78.9 N/mm^2\n",
        "warping in O2 region is linear = -0.25 mm\n",
        "warping distribution in flange 34 = -0.25 \n",
        "\n"
       ]
      }
     ],
     "prompt_number": 17
    },
    {
     "cell_type": "code",
     "collapsed": false,
     "input": [],
     "language": "python",
     "metadata": {},
     "outputs": []
    }
   ],
   "metadata": {}
  }
 ]
}