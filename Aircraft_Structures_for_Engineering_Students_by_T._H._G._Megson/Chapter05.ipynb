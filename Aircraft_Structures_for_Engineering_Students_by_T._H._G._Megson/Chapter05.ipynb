{
 "metadata": {
  "name": "",
  "signature": "sha256:63d249c5c7d8f61cc0f4f00c6cd8c5c2324721f135176069c7c632118f5681cc"
 },
 "nbformat": 3,
 "nbformat_minor": 0,
 "worksheets": [
  {
   "cells": [
    {
     "cell_type": "heading",
     "level": 1,
     "metadata": {},
     "source": [
      "Chapter 05: Energy methods"
     ]
    },
    {
     "cell_type": "heading",
     "level": 2,
     "metadata": {},
     "source": [
      "Example 5.1 Pg.No.116"
     ]
    },
    {
     "cell_type": "code",
     "collapsed": false,
     "input": [
      "from __future__ import division\n",
      "import math\n",
      "\n",
      "A=1800        # cross sectional area (mm^2)\n",
      "E=200000        #youngs modulus  (N/mm^2)\n",
      "sum_FLdFdP_B=1268*10**6      #(N.mm^2)\n",
      "sum_FLdFdP_D=880*10**6     #(N.mm^2)\n",
      "\n",
      "del_Bv=sum_FLdFdP_B/A/E\n",
      "del_Dh=sum_FLdFdP_D/A/E\n",
      "\n",
      "print \"\\ndeflection at point B =%2.2f mm\\n\"%(del_Bv)\n",
      "print \"deflection at point D =%2.2f mm\\n\"%(del_Dh)"
     ],
     "language": "python",
     "metadata": {},
     "outputs": [
      {
       "output_type": "stream",
       "stream": "stdout",
       "text": [
        "\n",
        "deflection at point B =3.52 mm\n",
        "\n",
        "deflection at point D =2.44 mm\n",
        "\n"
       ]
      }
     ],
     "prompt_number": 2
    },
    {
     "cell_type": "heading",
     "level": 2,
     "metadata": {},
     "source": [
      "Example 5.9 Pg.No.142"
     ]
    },
    {
     "cell_type": "code",
     "collapsed": false,
     "input": [
      "from __future__ import division\n",
      "import math\n",
      "import numpy as np\n",
      "\n",
      "a=np.array([[4.32,2.7],[2.7,11.62]])\n",
      "b=np.array([27.1,48.11])\n",
      "x=np.linalg.solve(a,b)\n",
      "print \"\\nX1 = %1.2f kN & R2 = %1.2f kN\\n\"%(x[0],x[1]) "
     ],
     "language": "python",
     "metadata": {},
     "outputs": [
      {
       "output_type": "stream",
       "stream": "stdout",
       "text": [
        "\n",
        "X1 = 4.31 kN & R2 = 3.14 kN\n",
        "\n"
       ]
      }
     ],
     "prompt_number": 8
    },
    {
     "cell_type": "heading",
     "level": 2,
     "metadata": {},
     "source": [
      "Example 5.10 Pg.No.144"
     ]
    },
    {
     "cell_type": "code",
     "collapsed": false,
     "input": [
      "from __future__ import division\n",
      "import math\n",
      "\n",
      "E=200000          #youngs modulus (N/mm^2)\n",
      "A=200             #cross sectional area of each member (mm^2)\n",
      "a=7*10**-6         #linear coefficient of heating (/C)\n",
      "L=3*10**3          #length of BC (mm)\n",
      "T=30               #temperature of truss (C)\n",
      "sum_f2L=48000\n",
      "\n",
      "expansion=L*T*a\n",
      "a11=sum_f2L/A/E\n",
      "X1=-0.63/a11        #compatibility condition\n",
      "print \"\\nX1 = %5.0f N\\n\"%(X1)"
     ],
     "language": "python",
     "metadata": {},
     "outputs": [
      {
       "output_type": "stream",
       "stream": "stdout",
       "text": [
        "\n",
        "X1 =  -525 N\n",
        "\n"
       ]
      }
     ],
     "prompt_number": 14
    },
    {
     "cell_type": "heading",
     "level": 2,
     "metadata": {},
     "source": [
      "Example 5.12 Pg.No.151"
     ]
    },
    {
     "cell_type": "code",
     "collapsed": false,
     "input": [
      "from __future__ import division\n",
      "import math\n",
      "\n",
      "def_C=-1.05-.6            #deflection at C (mm)\n",
      "L=300                      #length of cantilever (mm)\n",
      "\n",
      "theta_B=math.atan(def_C/L)\n",
      "print \"\\ndeflection at C = %2.3f degree\\n\"%(theta_B*180/math.pi) "
     ],
     "language": "python",
     "metadata": {},
     "outputs": [
      {
       "output_type": "stream",
       "stream": "stdout",
       "text": [
        "\n",
        "deflection at C = -0.315 degree\n",
        "\n"
       ]
      }
     ],
     "prompt_number": 16
    },
    {
     "cell_type": "code",
     "collapsed": false,
     "input": [],
     "language": "python",
     "metadata": {},
     "outputs": []
    }
   ],
   "metadata": {}
  }
 ]
}