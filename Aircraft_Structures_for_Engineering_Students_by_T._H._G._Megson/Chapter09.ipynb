{
 "metadata": {
  "name": "",
  "signature": "sha256:47a0669d4632eab71f162a005cd6d69531f951e47ad9f34d928b679209ff2467"
 },
 "nbformat": 3,
 "nbformat_minor": 0,
 "worksheets": [
  {
   "cells": [
    {
     "cell_type": "heading",
     "level": 1,
     "metadata": {},
     "source": [
      "Chapter 09: Thin plates"
     ]
    },
    {
     "cell_type": "heading",
     "level": 2,
     "metadata": {},
     "source": [
      "Example 9.1 Pg.No.310"
     ]
    },
    {
     "cell_type": "code",
     "collapsed": false,
     "input": [
      "from __future__ import division\n",
      "import math\n",
      "\n",
      "h=400     #height of structure (mm)\n",
      "l1=300     #length of small section (mm)\n",
      "L=1200      #length of whole structure (mm)\n",
      "E=70000     #youngs modulus (N/mm^2)\n",
      "A_f=350     #area of flange (mm^2)\n",
      "A_s=300    # area of stiffeners (mm^2)\n",
      "t=2         #thickness (mm)\n",
      "I=2000      #second moment of area (mm^4)\n",
      "w=5\n",
      "#eqn 9.29 tan(a)^4=(1+td/2A_F)/(1+td/2A_S)\n",
      "alpha=math.atan(((1+t*h/2/A_f)/(1+t*l1/A_s))**0.25)\n",
      "\n",
      "#eqn 9.19\n",
      "F_T=w*L/h+w/2/math.tan((alpha))\n",
      "\n",
      "#eqn 9.25 M_max=w*b^2*tan(a)/12/d\n",
      "M_max=w*10**3*l1**2*math.tan(alpha)/12/h\n",
      "print \"maximum value of bending moment = %1.1e N.mm \\n\"%(M_max)\n",
      "\n",
      "#eqn 9.23 P=w*b*tan(a)/d\n",
      "P=w*l1*math.tan(alpha)/h\n",
      "print \"compressive load in stiffener = %1.1f kN \\n\"%(P)\n",
      "\n",
      "#eqn 9.24 le=d/(4-2b/d)^0.5\n",
      "le=h/(4-2*l1/h)**0.5\n",
      "print \"equivalent length of stiffener = %3.1f mm\\n\"%(le)\n",
      "\n",
      "#eqn 8.7  Pcr=pi^2*E*I/le^2\n",
      "P_CR=math.pi**2*E*I/le**2\n",
      "print \"buckling load of a stiffener = %2.1f kN \\n\"%(P_CR)  #approx. value in book"
     ],
     "language": "python",
     "metadata": {},
     "outputs": [
      {
       "output_type": "stream",
       "stream": "stdout",
       "text": [
        "maximum value of bending moment = 8.6e+04 N.mm \n",
        "\n",
        "compressive load in stiffener = 3.4 kN \n",
        "\n",
        "equivalent length of stiffener = 253.0 mm\n",
        "\n",
        "buckling load of a stiffener = 21589.8 kN \n",
        "\n"
       ]
      }
     ],
     "prompt_number": 13
    },
    {
     "cell_type": "code",
     "collapsed": false,
     "input": [],
     "language": "python",
     "metadata": {},
     "outputs": []
    }
   ],
   "metadata": {}
  }
 ]
}