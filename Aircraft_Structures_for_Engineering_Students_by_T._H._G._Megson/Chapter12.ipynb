{
 "metadata": {
  "name": "",
  "signature": "sha256:217c546250d736c4a5ad9b469b73a9b7209b5ff1e5db79ce32388be8ee290870"
 },
 "nbformat": 3,
 "nbformat_minor": 0,
 "worksheets": [
  {
   "cells": [
    {
     "cell_type": "heading",
     "level": 1,
     "metadata": {},
     "source": [
      "Chapter 12: Structural components of aircraft"
     ]
    },
    {
     "cell_type": "heading",
     "level": 2,
     "metadata": {},
     "source": [
      "Example 12.1 Pg.No. 390"
     ]
    },
    {
     "cell_type": "code",
     "collapsed": false,
     "input": [
      "from __future__ import division\n",
      "import math\n",
      "\n",
      "D=4              #diameter of rivet(mm)\n",
      "t_skin=2.5         #thickness of fuselage skin(mm)\n",
      "t_strap=1.2          #thickness of straps (mm)\n",
      "T=120               #shear stress (N/mm^2)\n",
      "A=math.pi*D**2/4    #rivet area\n",
      "Pfb=2*A*T\n",
      "\n",
      "b=Pfb/t_skin/12.5/10+4\n",
      "print \"allowable rivet spacing = %2.1f mm \\n\"%(b)"
     ],
     "language": "python",
     "metadata": {},
     "outputs": [
      {
       "output_type": "stream",
       "stream": "stdout",
       "text": [
        "allowable rivet spacing = 13.7 mm \n",
        "\n"
       ]
      }
     ],
     "prompt_number": 7
    },
    {
     "cell_type": "heading",
     "level": 2,
     "metadata": {},
     "source": [
      "Example 12.2 Pg.No.392"
     ]
    },
    {
     "cell_type": "code",
     "collapsed": false,
     "input": [
      "from __future__ import division\n",
      "import math\n",
      "\n",
      "l1=20          #distace between A&D (mm)\n",
      "l2=25          #distace between C&D (mm)\n",
      "l3=75          #distace between C&force location (mm)\n",
      "P=5        #external load(kN)\n",
      "r=(l1**2+l2**2)**0.5\n",
      "sum_r2=2*l1**2+4*r**2\n",
      "\n",
      "#eqn 12.6 S=Pe*r/Sum(r2)\n",
      "Pe=P*l3\n",
      "S=Pe/sum_r2*r\n",
      "print \"Resultant shear force in the A and B = %2.2f kN\\n\"%(S)\n"
     ],
     "language": "python",
     "metadata": {},
     "outputs": [
      {
       "output_type": "stream",
       "stream": "stdout",
       "text": [
        "Resultant shear force in the A and B = 2.45 kN\n",
        "\n"
       ]
      }
     ],
     "prompt_number": 11
    },
    {
     "cell_type": "code",
     "collapsed": false,
     "input": [],
     "language": "python",
     "metadata": {},
     "outputs": []
    }
   ],
   "metadata": {}
  }
 ]
}