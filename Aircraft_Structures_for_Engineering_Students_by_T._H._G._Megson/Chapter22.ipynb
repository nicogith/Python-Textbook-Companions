{
 "metadata": {
  "name": "",
  "signature": "sha256:7afcc7b44b13ea906e3e2317703c261e07426e5f23f7958a6b7966ba0274524d"
 },
 "nbformat": 3,
 "nbformat_minor": 0,
 "worksheets": [
  {
   "cells": [
    {
     "cell_type": "heading",
     "level": 1,
     "metadata": {},
     "source": [
      "Chapter 22: Fuselages"
     ]
    },
    {
     "cell_type": "heading",
     "level": 2,
     "metadata": {},
     "source": [
      "Example 22.1 Pg.No.598"
     ]
    },
    {
     "cell_type": "code",
     "collapsed": false,
     "input": [
      "from __future__ import division\n",
      "import math\n",
      "#B1=t_D*b/6(2+sigma_2/sigma_1)\n",
      "Mx=200*10**6                     # (N*mm)\n",
      "y=[381,352,269.5,145.8,0,-145.8,-269.5,-352,-381,-352,-269.5,-145.8,0,145.8,269.5,352]\n",
      "sigma_2=sigma_16=352\n",
      "sigma_1=381\n",
      "A=100\n",
      "B1=A+0.8*149.6/6*(2+sigma_2/sigma_1)*2\n",
      "Ixx=2.52*10**8\n",
      "def sigma_z(y):\n",
      "    return Mx/Ixx*y\n",
      "print \"Stringer/Boom \\t y(mm) \\t \\tsigma_z(N/mm^2)\"\n",
      "for i in range (0,16):\n",
      "    print \"%2.0f \\t\\t %3.1f\\t\\t\\t%3.1f \"%(i+1,y[i],sigma_z(y[i]))\n"
     ],
     "language": "python",
     "metadata": {},
     "outputs": [
      {
       "output_type": "stream",
       "stream": "stdout",
       "text": [
        "Stringer/Boom \t y(mm) \t \tsigma_z(N/mm^2)\n",
        " 1 \t\t 381.0\t\t\t302.4 \n",
        " 2 \t\t 352.0\t\t\t279.4 \n",
        " 3 \t\t 269.5\t\t\t213.9 \n",
        " 4 \t\t 145.8\t\t\t115.7 \n",
        " 5 \t\t 0.0\t\t\t0.0 \n",
        " 6 \t\t -145.8\t\t\t-115.7 \n",
        " 7 \t\t -269.5\t\t\t-213.9 \n",
        " 8 \t\t -352.0\t\t\t-279.4 \n",
        " 9 \t\t -381.0\t\t\t-302.4 \n",
        "10 \t\t -352.0\t\t\t-279.4 \n",
        "11 \t\t -269.5\t\t\t-213.9 \n",
        "12 \t\t -145.8\t\t\t-115.7 \n",
        "13 \t\t 0.0\t\t\t0.0 \n",
        "14 \t\t 145.8\t\t\t115.7 \n",
        "15 \t\t 269.5\t\t\t213.9 \n",
        "16 \t\t 352.0\t\t\t279.4 \n"
       ]
      }
     ],
     "prompt_number": 9
    },
    {
     "cell_type": "code",
     "collapsed": false,
     "input": [],
     "language": "python",
     "metadata": {},
     "outputs": []
    }
   ],
   "metadata": {}
  }
 ]
}