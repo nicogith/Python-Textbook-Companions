{
 "metadata": {
  "name": "",
  "signature": "sha256:8abe3316b17e7378affc20eb461733ec12ced2dbb39d65e4c948dd2ef8dc33e9"
 },
 "nbformat": 3,
 "nbformat_minor": 0,
 "worksheets": [
  {
   "cells": [
    {
     "cell_type": "heading",
     "level": 1,
     "metadata": {},
     "source": [
      "Chapter 19: Combined open and closed section beams"
     ]
    },
    {
     "cell_type": "heading",
     "level": 2,
     "metadata": {},
     "source": [
      "Example 19.1 Pg.No. 552"
     ]
    },
    {
     "cell_type": "code",
     "collapsed": false,
     "input": [
      "from __future__ import division\n",
      "from scipy import integrate\n",
      "from sympy import *\n",
      "import math\n",
      "\n",
      "l1=100               #lengths shown in Fig(mm)\n",
      "l2=200\n",
      "F=100*10**3            #force applied (N)\n",
      "\n",
      "y_bar=(2*l1*2*50+2*l2*2*l1+l2*2*l2)/(4*l1*2+4*l2*2)\n",
      "Ixx=2*(2*l1**3/12+2*l1*25**2)+400*2*75**2+l2*2*125**2+2*(2*l2**3/12+2*l2*25**2)\n",
      "\n",
      "s1=Symbol('s1')\n",
      "q12=-round(10**4*F/Ixx)/10**4*(integrate(-50+2*s1,s1))\n",
      "print \"\\nq12 = %s\"%(q12)\n",
      "\n",
      "s2=Symbol('s2')\n",
      "q23=-round(10**4*F/Ixx)/10**4*(integrate(2*75,s2))-34.5\n",
      "print \"\\nq23 = %s\"%(q23)\n",
      "\n",
      "s3=Symbol('s3')\n",
      "q03=-round(10**4*F/Ixx)/10**4*(integrate(2*75,s3))\n",
      "print \"\\nq03 = %s\"%(q03)\n",
      "\n",
      "s4=Symbol('s4')\n",
      "q34=-round(10**4*F/Ixx)/10**4*(integrate(2*(75-s4),s4))-242.5\n",
      "print \"\\nq34 = %s\"%(q34)\n",
      "\n",
      "s5=Symbol('s5')\n",
      "q94=-round(10**4*F/Ixx)/10**4*(integrate(-2*125,s5))\n",
      "print \"\\nq94 = %s\\n\"%(q94)"
     ],
     "language": "python",
     "metadata": {},
     "outputs": [
      {
       "output_type": "stream",
       "stream": "stdout",
       "text": [
        "\n",
        "q12 = -0.0069*s1**2 + 0.345*s1\n",
        "\n",
        "q23 = -1.035*s2 - 34.5\n",
        "\n",
        "q03 = -1.035*s3\n",
        "\n",
        "q34 = 0.0069*s4**2 - 1.035*s4 - 242.5\n",
        "\n",
        "q94 = 1.725*s5\n",
        "\n"
       ]
      }
     ],
     "prompt_number": 35
    },
    {
     "cell_type": "heading",
     "level": 2,
     "metadata": {},
     "source": [
      "Example 19.2 Pg.No.555"
     ]
    },
    {
     "cell_type": "code",
     "collapsed": false,
     "input": [
      "from __future__ import division\n",
      "from scipy import integrate\n",
      "from sympy import symbols\n",
      "import math\n",
      "\n",
      "A=20000                #nose cell area (mm^2)\n",
      "L_w=900                #outer wall (mm)\n",
      "L=300                  #width of wall (mm)\n",
      "length=600           #length of open section (mm)\n",
      "G=25000                #shear modulus (N/mm^2)\n",
      "T=10*10**6             #torque applied (kN.m)\n",
      "t1=1.5                  #thickness of closed section\n",
      "t2=2                    #thickness of open section\n",
      "\n",
      "GJ_cl=4*A**2*G/(L_w+L)*t1\n",
      "\n",
      "print \"torsoinal rigidity of closed section = %2.2e N.mm^2 \\n\"%(GJ_cl)\n",
      "\n",
      "GJ_op=G*(length+L)*t2**3/3\n",
      "print \"torsional rigidity of open section = %2.1e N.mm^2 \\n\"%(GJ_op)\n",
      "\n",
      "GJ=GJ_cl+GJ_op\n",
      "print \"total torsional rigidity = %5.3e N.mm^2\\n\"%(GJ)\n",
      "\n",
      "dO_by_dz=T/GJ\n",
      "print \"angle of twist per unit length = %1.4f rad/mm\\n\"%(dO_by_dz)\n",
      "\n",
      "q_cl=GJ_cl/2/A*dO_by_dz\n",
      "print \"maximum shear stress in the closed section = %3.1f N/mm^2\\n\"%(q_cl/1.5)\n",
      "\n",
      "#eqn 18.10 T_max=GtdO/dz\n",
      "T_max=G*t2*dO_by_dz\n",
      "print \"maximum shear stress in the open section = %2.0f N/mm^2\\n\"%(T_max)"
     ],
     "language": "python",
     "metadata": {},
     "outputs": [
      {
       "output_type": "stream",
       "stream": "stdout",
       "text": [
        "torsoinal rigidity of closed section = 5.00e+10 N.mm^2 \n",
        "\n",
        "torsional rigidity of open section = 6.0e+07 N.mm^2 \n",
        "\n",
        "total torsional rigidity = 5.006e+10 N.mm^2\n",
        "\n",
        "angle of twist per unit length = 0.0002 rad/mm\n",
        "\n",
        "maximum shear stress in the closed section = 166.5 N/mm^2\n",
        "\n",
        "maximum shear stress in the open section = 10 N/mm^2\n",
        "\n"
       ]
      }
     ],
     "prompt_number": 31
    }
   ],
   "metadata": {}
  }
 ]
}