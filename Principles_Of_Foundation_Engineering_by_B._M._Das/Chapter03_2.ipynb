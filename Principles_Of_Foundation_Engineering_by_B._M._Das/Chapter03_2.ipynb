{
 "metadata": {
  "name": "",
  "signature": "sha256:e3a75199f67af72d14bee528a629ae06b2506206625e1ef3a86291ef88f556ed"
 },
 "nbformat": 3,
 "nbformat_minor": 0,
 "worksheets": [
  {
   "cells": [
    {
     "cell_type": "heading",
     "level": 1,
     "metadata": {},
     "source": [
      "Chapter 03:Shallow Foundations: Ultimate bearing capacity"
     ]
    },
    {
     "cell_type": "heading",
     "level": 2,
     "metadata": {},
     "source": [
      "Ex3.1:Pg-130"
     ]
    },
    {
     "cell_type": "code",
     "collapsed": false,
     "input": [
      "#example 3.1\n",
      "# From Table 3.1\n",
      "Nc=17.69;\n",
      "Nq=7.44;\n",
      "Ny=3.64;\n",
      "q=3*115;\n",
      "Gamma=115.0; #lb/ft**3\n",
      "c=320;\n",
      "B=5.0;#ft\n",
      "FS=4;#factor of safety\n",
      "qu=1.3*c*Nc+q*Nq+0.4*Gamma*B*Ny\n",
      "qall=qu/FS; #q allowed\n",
      "Q=qall*B**2;\n",
      "print Q,\"is allowable gross load in lb\" \n",
      "\n",
      "# the answer is slightly different in textbook due to approximation but here answer are precise"
     ],
     "language": "python",
     "metadata": {},
     "outputs": [
      {
       "output_type": "stream",
       "stream": "stdout",
       "text": [
        "67269.0 is allowable gross load in lb\n"
       ]
      }
     ],
     "prompt_number": 2
    },
    {
     "cell_type": "heading",
     "level": 2,
     "metadata": {},
     "source": [
      "Ex3.2:Pg-134"
     ]
    },
    {
     "cell_type": "code",
     "collapsed": false,
     "input": [
      "#example 3.2\n",
      "\n",
      "from scipy.optimize import fsolve\n",
      "import math\n",
      "Gamma=105.0;#lb/ft**3\n",
      "Gammasat=118.0;#lb/ft**3\n",
      "FS=3.0;\n",
      "pa=2014.125;#lb/ft**2\n",
      "Depth=[5,10,15,20,25]; # in ft\n",
      "N60=[4,6,6,10,5]; # in  blow/ft\n",
      "sigmao=[0,0,0,0,0]; # in  lb/ft^2\n",
      "phi=[0,0,0,0,0] # in degree\n",
      "Gammaw=62.4;\n",
      "s=0;\n",
      "print \"depth (ft)\\tN60\\t  \\tstress(lb/ft**2)\\t phi(degrees)\\n\"\n",
      "for i in  range(0,5):\n",
      "    sigmao[i]=2*Gamma+(Depth[i]-2)*(Gammasat-Gammaw);\n",
      "    phi[i]=math.sqrt(20*N60[i]*math.sqrt(pa/sigmao[i]))+20;\n",
      "    print \" \",Depth[i],\"\\t      \",N60[i],\"\\t\\t   \",sigmao[i],\"  \\t \\t  \\t\",round(phi[i],1),\" \\n\"\n",
      "    s=phi[i]+s\n",
      "\n",
      "avgphi=s/(i+1)\n",
      "\n",
      "print round(avgphi),\"average friction angle in degrees\"\n",
      "#using graph get the values of other terms in terms of B and solve for B\n",
      "def f(x):\n",
      "    return-150000/x**2+5263.9+5527.1/x+228.3*x\n",
      "x=fsolve(f,4);\n",
      "print round(x[0],1),\" is the width in ft\"\n",
      "\n",
      "\n",
      "\n"
     ],
     "language": "python",
     "metadata": {},
     "outputs": [
      {
       "output_type": "stream",
       "stream": "stdout",
       "text": [
        "depth (ft)\tN60\t  \tstress(lb/ft**2)\t phi(degrees)\n",
        "\n",
        "  5 \t       4 \t\t    376.8   \t \t  \t33.6  \n",
        "\n",
        "  10 \t       6 \t\t    654.8   \t \t  \t34.5  \n",
        "\n",
        "  15 \t       6 \t\t    932.8   \t \t  \t33.3  \n",
        "\n",
        "  20 \t       10 \t\t    1210.8   \t \t  \t36.1  \n",
        "\n",
        "  25 \t       5 \t\t    1488.8   \t \t  \t30.8  \n",
        "\n",
        "34.0 average friction angle in degrees\n",
        "4.5  is the width in ft\n"
       ]
      }
     ],
     "prompt_number": 24
    },
    {
     "cell_type": "heading",
     "level": 2,
     "metadata": {},
     "source": [
      "Ex3.3:Pg-144"
     ]
    },
    {
     "cell_type": "code",
     "collapsed": false,
     "input": [
      "#example 3.3\n",
      "\n",
      "import math\n",
      "phi=25.0; #degrees\n",
      "Es=620.0; #kN/m**2\n",
      "Gamma=18.0;#kN/m**2\n",
      "Df=0.6;# in m\n",
      "B=0.6; # in m\n",
      "L=1.2; # in m\n",
      "Fqc=0.347;\n",
      "Nq=10.66;\n",
      "Nc=20.72;\n",
      "Ngamma=10.88;\n",
      "mu=0.3; # Poisson's ratio\n",
      "Fyd=1.0;\n",
      "c=48.0;#kN/m**2\n",
      "q=Gamma*(Df+B/2);\n",
      "Ir=Es/(2*(1+mu)*(c+q*math.tan(phi*math.pi/180.0)));\n",
      "print round(Ir,2),\" is value of Ir\"\n",
      "Fcc=Fqc-(1-Fqc)/(Nq*math.tan(phi*math.pi/180.0));\n",
      "Fcs=1+Nq/Nc*B/L;\n",
      "Fqs=1+B/L*math.tan(phi*math.pi/180.0);\n",
      "Fys=1-0.4*B/L;\n",
      "Fcd=1+0.4*Df/B;\n",
      "Fqd=1+2.0*math.tan(phi*math.pi/180.0)*(1-math.sin(phi*math.pi/180.0))**2*Df/B;\n",
      "q1=0.6*18;\n",
      "Fyc=Fqc;\n",
      "qu=c*Nc*Fcs*Fcd*Fcc+q1*Nq*Fqs*Fqd*Fqc+1.0/2*Gamma*Ngamma*Fys*Fyd*Fyc;\n",
      "print round(qu,2),\"is ultimate bearing capacity in kN/m**2\"\n",
      "\n",
      "# the answer is slightly different in textbook due to approximation but here answer are precise"
     ],
     "language": "python",
     "metadata": {},
     "outputs": [
      {
       "output_type": "stream",
       "stream": "stdout",
       "text": [
        "4.29  is value of Ir\n",
        "469.24 is ultimate bearing capacity in kN/m**2\n"
       ]
      }
     ],
     "prompt_number": 29
    },
    {
     "cell_type": "heading",
     "level": 2,
     "metadata": {},
     "source": [
      "Ex3.4:Pg-156"
     ]
    },
    {
     "cell_type": "code",
     "collapsed": false,
     "input": [
      "#example 3.4\n",
      "import math\n",
      "q=110*4.0; #lb/ft**2\n",
      "Nq=33.3;\n",
      "phi=35.0; # in degree\n",
      "Df=4.0; # in ft\n",
      "B=6.0; # in ft\n",
      "Gamma=110.0;#lb/ft**3\n",
      "Ngamma=48.03; #lb/ft**3\n",
      "B1=6-2*0.5; # in ft\n",
      "Fqi=1;\n",
      "Fyi=1;\n",
      "Fyd=1;\n",
      "Fqs=1;\n",
      "Fys=1;\n",
      "Fqd=1+2*math.tan(phi*math.pi/180)*(1-math.sin(phi*math.pi/180.0))**2*Df/B;\n",
      "qu=q*Nq*Fqs*Fqd*Fqi+1/2.0*B1*Gamma*Ngamma*Fys*Fyd*Fyi;\n",
      "Qult=B1*1*qu;\n",
      "print round(Qult,2),\" is ultimate bearing capacity in lb/ft\" \n",
      "print round(Qult/2000.0,2),\" is ultimate bearing capacity in ton/ft\"\n",
      "\n",
      "# the answer is slightly different in textbook due to approximation but here answer are precise"
     ],
     "language": "python",
     "metadata": {},
     "outputs": [
      {
       "output_type": "stream",
       "stream": "stdout",
       "text": [
        "151738.23  is ultimate bearing capacity in lb/ft\n",
        "75.87  is ultimate bearing capacity in ton/ft\n"
       ]
      }
     ],
     "prompt_number": 34
    },
    {
     "cell_type": "heading",
     "level": 2,
     "metadata": {},
     "source": [
      "Ex3.5:Pg-158"
     ]
    },
    {
     "cell_type": "code",
     "collapsed": false,
     "input": [
      "#example 3.5\n",
      "\n",
      "e=0.5; # in ft\n",
      "B=6; # in ft\n",
      "k=e/B;\n",
      "Gamma=110; # in lb/ft^3 \n",
      "q=440;\n",
      "print \"get the values of Nqe and Nye from the figure from the value of e/B\"\n",
      "Nye=26.8;\n",
      "Nqe=33.4;\n",
      "Qult=B*1*(q*Nqe+1/2.0*Gamma*B*Nye);\n",
      "print round(Qult,2),\" is ultimate bearing capacity in lb/ft\"\n",
      "print round(Qult/2000.0,2),\" is ultimate bearing capacity in ton/ft\"\n",
      "\n"
     ],
     "language": "python",
     "metadata": {},
     "outputs": [
      {
       "output_type": "stream",
       "stream": "stdout",
       "text": [
        "get the values of Nqe and Nye from the figure from the value of e/B\n",
        "141240.0  is ultimate bearing capacity in lb/ft\n",
        "70.62  is ultimate bearing capacity in ton/ft\n"
       ]
      }
     ],
     "prompt_number": 38
    },
    {
     "cell_type": "heading",
     "level": 2,
     "metadata": {},
     "source": [
      "Ex3.6:Pg-159"
     ]
    },
    {
     "cell_type": "code",
     "collapsed": false,
     "input": [
      "#example 3.6\n",
      "\n",
      "Df=0.7; # in m\n",
      "#from table\n",
      "Nq=18.4;\n",
      "Ny=22.4;\n",
      "q=12.6;\n",
      "phi=30; #angle in degree\n",
      "L=1.5;# in m\n",
      "Fyd=1;\n",
      "Gamma=18; # in KN/m^3\n",
      "L1=0.85*1.5; # in m\n",
      "L2=0.21*1.5; # in m\n",
      "B=1.5; # in m\n",
      "A=1/2.0*(L1+L2)*B;\n",
      "B1=A/L1; #B'\n",
      "Fqs=1+B1/L1*math.tan(phi*math.pi/180);\n",
      "Fys=1-0.4*B1/L1;\n",
      "Fqd=1+2*math.tan(phi*math.pi/180)*(1-math.sin(phi*math.pi/180))**2*Df/B;\n",
      "Qult=A*(q*Nq*Fqs*Fqd+1/2.0*Gamma*B1*Ny*Fys*Fyd);\n",
      "print round(Qult,2),\" is ultimate load in kN\"\n",
      "\n",
      "# the answer is slightly different in textbook due to approximation but here answer are precise"
     ],
     "language": "python",
     "metadata": {},
     "outputs": [
      {
       "output_type": "stream",
       "stream": "stdout",
       "text": [
        "605.45  is ultimate load in kN\n"
       ]
      }
     ],
     "prompt_number": 41
    },
    {
     "cell_type": "heading",
     "level": 2,
     "metadata": {},
     "source": [
      "Ex3.7:Pg-161"
     ]
    },
    {
     "cell_type": "code",
     "collapsed": false,
     "input": [
      "#example 3.7\n",
      "\n",
      "e=0.15; # in m\n",
      "B=1.5; # in m\n",
      "Fqs=1.0;\n",
      "L=1.5;# in m\n",
      "Gamma=18.0; # in KN/m^3\n",
      "q=0.7*18;\n",
      "#from table\n",
      "Nqe=18.4;\n",
      "Nye=11.58;\n",
      "Fys=1+(2*e/B-0.68)*(B/L)+(0.43-3/2.0*e/B)*(B/L)**2;\n",
      "Qult=B*L*(q*Nqe*Fqs+1/2.0*L*Gamma*Nye*Fys);\n",
      "print round(Qult,2),\"is ultimate load in kN\"\n",
      "\n"
     ],
     "language": "python",
     "metadata": {},
     "outputs": [
      {
       "output_type": "stream",
       "stream": "stdout",
       "text": [
        "803.03 is ultimate load in kN\n"
       ]
      }
     ],
     "prompt_number": 45
    },
    {
     "cell_type": "heading",
     "level": 2,
     "metadata": {},
     "source": [
      "Ex3.8:Pg-163"
     ]
    },
    {
     "cell_type": "code",
     "collapsed": false,
     "input": [
      "#example 3.8\n",
      "\n",
      "q=16.0;# in kN/m^2\n",
      "Nqei=14.2;\n",
      "Gamma=16.0 # in kN/m^3\n",
      "B=1.5;# in m\n",
      "Nyet=20.0;\n",
      "Qult=B*(Nqei*q+1/2.0*Gamma*B*Nyet);\n",
      "print round(Qult,2),\" is ultimate load in kN/m\"\n",
      "\n",
      "\n"
     ],
     "language": "python",
     "metadata": {},
     "outputs": [
      {
       "output_type": "stream",
       "stream": "stdout",
       "text": [
        "700.8  is ultimate load in kN/m\n"
       ]
      }
     ],
     "prompt_number": 48
    }
   ],
   "metadata": {}
  }
 ]
}