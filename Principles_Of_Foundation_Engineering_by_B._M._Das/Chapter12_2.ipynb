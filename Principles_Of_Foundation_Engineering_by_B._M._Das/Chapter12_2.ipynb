{
 "metadata": {
  "name": "",
  "signature": "sha256:1439e2e46e40a0d47bd1c7e06a03c417c0e1f55ad415a0af82536f86f7ecfea9"
 },
 "nbformat": 3,
 "nbformat_minor": 0,
 "worksheets": [
  {
   "cells": [
    {
     "cell_type": "heading",
     "level": 1,
     "metadata": {},
     "source": [
      "Chapter12:Drilled-Shaft Foundations"
     ]
    },
    {
     "cell_type": "heading",
     "level": 2,
     "metadata": {},
     "source": [
      "Ex12.1:Pg-609"
     ]
    },
    {
     "cell_type": "code",
     "collapsed": false,
     "input": [
      "#example 12.1\n",
      "\n",
      "import math\n",
      "Ap=math.pi/4*1.75**2;  # area in m^2\n",
      "FS=4; # factor of safety\n",
      "Nq=37.75; \n",
      "L=8;\n",
      "Es=50000.0;\n",
      "mus=0.265;\n",
      "pu=100.0;\n",
      "Db=1.75; # in m\n",
      "q=6*16.2+2*19.2;\n",
      "phi=36*math.pi/180.0;\n",
      "Fqs=1+math.tan(phi);\n",
      "Fqd=1+2*math.tan(phi)*(1-math.sin(phi))**2*math.atan(L/Db);\n",
      "Ir=Es/(2*(1+mus)*q*math.tan(phi));\n",
      "delta=0.005*(1-phi/20*180/math.pi+25/20.0)*q/pu;\n",
      "Irr=Ir/(1+Ir*delta);\n",
      "Fqc=math.exp(-3.8*math.tan(phi)+(3.07*math.sin(phi)*math.log10(2*Irr))/(1+math.sin(phi)));\n",
      "Qp=Ap*(q*(Nq-1)*Fqs*Fqd*Fqc);\n",
      "Qpall=Qp/FS;\n",
      "print round(Qpall,2),\"allowed load in kN\"\n",
      "print \"due to rounding off error there is slight change in answer\"\n",
      "\n",
      "\n"
     ],
     "language": "python",
     "metadata": {},
     "outputs": [
      {
       "output_type": "stream",
       "stream": "stdout",
       "text": [
        "6648.7 allowed load in kN\n",
        "due to rounding off error there is slight change in answer\n"
       ]
      }
     ],
     "prompt_number": 5
    },
    {
     "cell_type": "heading",
     "level": 2,
     "metadata": {},
     "source": [
      "Ex12.2:Pg-610"
     ]
    },
    {
     "cell_type": "code",
     "collapsed": false,
     "input": [
      "#example 12.2\n",
      "import math\n",
      "Ap=math.pi/4*1.75**2; # area in m^2\n",
      "q=135.6; \n",
      "w=0.83;\n",
      "FS=4; # factor of safety\n",
      "phi=36; # given angle\n",
      "Nq=0.21*math.exp(0.17*phi);\n",
      "Qp=Ap*q*(w*Nq-1); # in kN\n",
      "Qpall=Qp/FS; # in kN\n",
      "print round(Qpall),\"allowed load in kN\"\n",
      "\n"
     ],
     "language": "python",
     "metadata": {},
     "outputs": [
      {
       "output_type": "stream",
       "stream": "stdout",
       "text": [
        "6383.0 allowed load in kN\n"
       ]
      }
     ],
     "prompt_number": 8
    },
    {
     "cell_type": "heading",
     "level": 2,
     "metadata": {},
     "source": [
      "Ex12.3:Pg-611"
     ]
    },
    {
     "cell_type": "code",
     "collapsed": false,
     "input": [
      "#example 12.3\n",
      "\n",
      "import math\n",
      "Ap=math.pi/4*1.5**2; # area in m^2\n",
      "Db=1.5; # in m\n",
      "z=3.0;\n",
      "p=math.pi*1;\n",
      "Li=6.0;\n",
      "N60=30.0;\n",
      "sigmazi=16*z;\n",
      "Beta=2.0-0.15*z**0.75;\n",
      "fi=Beta*sigmazi; # in kN/m^2\n",
      "qp=57.5*N60; # in kN/m^2\n",
      "qpr=1.27/Db*qp; # in kN/m^2\n",
      "Qunet=qpr*Ap+fi*p*Li; # in kN\n",
      "print round(Qunet,2),\"allowed load in kN\"\n",
      "#part b\n",
      "k1=0.315; #from table\n",
      "k2=12.0/1.5/1000*100.0;\n",
      "Qunet2=qpr*Ap*k1+fi*p*Li*k2; # in kN\n",
      "print round(Qunet2,2),\"allowed load in kN\"\n",
      "\n",
      "# the answer is slightly different in textbook due to approximation"
     ],
     "language": "python",
     "metadata": {},
     "outputs": [
      {
       "output_type": "stream",
       "stream": "stdout",
       "text": [
        "4081.11 allowed load in kN\n",
        "2013.14 allowed load in kN\n"
       ]
      }
     ],
     "prompt_number": 10
    },
    {
     "cell_type": "heading",
     "level": 2,
     "metadata": {},
     "source": [
      "Ex12.4:Pg-617"
     ]
    },
    {
     "cell_type": "code",
     "collapsed": false,
     "input": [
      "#example 12.4\n",
      "\n",
      "Nc=9;\n",
      "Ap=math.pi/4*1.5**2; # area in m^2\n",
      "cu=105; # in kN/m^2\n",
      "Qpnet=Ap*cu*Nc; # in kN\n",
      "print round(Qpnet),\"net ultimate bearing point capacity in kN\"\n",
      "#part2\n",
      "alpha=0.4;\n",
      "Ds=1.5; # in m \n",
      "p=math.pi*Ds;\n",
      "Qs=alpha*p*(50*8+105*3); # in kN\n",
      "print int(Qs),\"skin resistance in kN\"\n",
      "#part3\n",
      "FS=3;  # factor of safety\n",
      "Qu=Qpnet/FS+Qs/FS; # in kN\n",
      "print round(Qu,2),\"working load in kN\"\n",
      "\n"
     ],
     "language": "python",
     "metadata": {},
     "outputs": [
      {
       "output_type": "stream",
       "stream": "stdout",
       "text": [
        "1670.0 net ultimate bearing point capacity in kN\n",
        "1347 skin resistance in kN\n",
        "1005.9 working load in kN\n"
       ]
      }
     ],
     "prompt_number": 12
    },
    {
     "cell_type": "heading",
     "level": 2,
     "metadata": {},
     "source": [
      "Ex12.5:Pg-618"
     ]
    },
    {
     "cell_type": "code",
     "collapsed": false,
     "input": [
      "#example 12.5\n",
      "\n",
      "import math\n",
      "cub=3000;\n",
      "L=20+5; # in ft\n",
      "Db=4; # in ft\n",
      "Ap=math.pi/4*Db**2; # area in ft^2\n",
      "alpha=0.55;\n",
      "cu1=800; # in lb/ft^2\n",
      "L1=7; # in ft\n",
      "L2=5.5; # in ft\n",
      "cu2=1200; # in lb/ft^2\n",
      "p=math.pi*2.5;\n",
      "k=alpha*p*(cu1*L1+cu2*L2);#f*p*deltaLi\n",
      "j1=6*cub*(1+0.2*L/Db);\n",
      "j2=9*cub;\n",
      "qp=min(j1,j2);\n",
      "Qu=k/1000+qp*Ap/1000; # in kip\n",
      "print round(Qu),\"allowed load in kip\"\n",
      "#part b\n",
      "k1=0.57; #from table\n",
      "k2=0.89;\n",
      "Qunet2=qp*Ap*k1+k*k2; # in kip\n",
      "print round(Qunet2/1000,2),\"allowed load in kip\"\n",
      "\n"
     ],
     "language": "python",
     "metadata": {},
     "outputs": [
      {
       "output_type": "stream",
       "stream": "stdout",
       "text": [
        "392.0 allowed load in kip\n",
        "240.3 allowed load in kip\n"
       ]
      }
     ],
     "prompt_number": 15
    },
    {
     "cell_type": "heading",
     "level": 2,
     "metadata": {},
     "source": [
      "Ex12.6:Pg-621"
     ]
    },
    {
     "cell_type": "code",
     "collapsed": false,
     "input": [
      "#example 12.6\n",
      "\n",
      "import math\n",
      "Qws=1005-250; # in kN\n",
      "Qwp=250; # in kN\n",
      "epsilon=0.65; \n",
      "L=11; # in m\n",
      "Ds=1.5; # in m\n",
      "Es=14000; # in kN/m^2\n",
      "Ap=math.pi/4*1.5**2; # area in m^2\n",
      "Ep=21e6; # in kN/m^2\n",
      "Cp=0.04; # in kN/m^2\n",
      "Db=1.5;\n",
      "mus=0.3;\n",
      "p=math.pi*1.5;\n",
      "Nc=9;\n",
      "qp=105*Nc; # in kN/m^2\n",
      "se1=(Qwp+epsilon*Qws)*L/(Ap*Ep); # in m \n",
      "se2=Qwp*Cp/(Db*qp); # in m\n",
      "Iws=2+0.35*math.sqrt(L/Ds);\n",
      "se3=Qws/p/L*Ds/Es*(1-mus**2)*Iws; # in m\n",
      "se=se1+se2+se3; # in m\n",
      "print round(se*1000,2),\" is net settlement in mm\"\n",
      "\n",
      "# the answer is slightly different in textbook due to approximation"
     ],
     "language": "python",
     "metadata": {},
     "outputs": [
      {
       "output_type": "stream",
       "stream": "stdout",
       "text": [
        "11.46  is net settlement in mm\n"
       ]
      }
     ],
     "prompt_number": 17
    },
    {
     "cell_type": "heading",
     "level": 2,
     "metadata": {},
     "source": [
      "Ex12.7:Pg-628"
     ]
    },
    {
     "cell_type": "code",
     "collapsed": false,
     "input": [
      "#example 12.7\n",
      "\n",
      "import math\n",
      "import numpy\n",
      "from scipy.optimize import fsolve\n",
      "Ds=1.0;\n",
      "Ep=22e6;\n",
      "Ri=1.0;\n",
      "cu=100.0;\n",
      "Ip=math.pi*Ds**4/64.0;\n",
      "Qc=7.34*Ds**2*Ep*Ri*(cu/Ep/Ri)**0.6;\n",
      "print round(Qc,2),\"bearing force in kN\"\n",
      "Mc=3.86*Ds**3*Ep*Ri*(cu/Ep/Ri)**0.6;\n",
      "print round(Mc,2),\"bearing moment in kNm\"\n",
      "#from figure\n",
      "xoQM=0.0046*1;\n",
      "xoMQ=0.0041*1;\n",
      "xo=0.5*(xoQM+xoMQ);\n",
      "print round(xo*1000,2),\"net ground line deflection in mm\"\n",
      "#partb\n",
      "Ip=0.049;\n",
      "Qg=150.0;\n",
      "Mg=200.0;\n",
      "def f(T):\n",
      "    return 338e-6*T**3+300.6e-6*T**2-0.00435\n",
      "[x]=fsolve(f,2);\n",
      "T=x;\n",
      "k=[0, 0.4, 0.6, 0.8, 1.0, 1.1, 1.25];#z/T\n",
      "Am=[0, 0.36, 0.52, 0.63, 0.75, 0.765, 0.75];\n",
      "Bm=[1.0, 0.98, 0.95, 0.9, 0.845, 0.8, 0.73];\n",
      "print \"z/T\\t Am\\t Bm\\t Mz(kN-m)\\n\"\n",
      "Mz=numpy.zeros(7)\n",
      "for i in range(0,7):\n",
      "    Mz[i]=Am[i]*Qg*T+Bm[i]*Mg;\n",
      "    print k[i],\"\\t\",round(Am[i],2),\"\\t\",round(Bm[i],2),\"\\t\",round(Mz[i],2)\n",
      "\n",
      "print round(1*T,2),\"depth in m\"\n",
      "#partc\n",
      "Mmax=400;\n",
      "sigma=Mmax*Ds/2/Ip;\n",
      "print round(sigma,2),\"tensile stress in kN/m**2\"\n",
      "#partd\n",
      "#from figure\n",
      "k=8.5;\n",
      "L=k*1;\n",
      "print L,\"length in m\"\n",
      "\n",
      "# the answer is slightly different in textbook due to approximation\n"
     ],
     "language": "python",
     "metadata": {},
     "outputs": [
      {
       "output_type": "stream",
       "stream": "stdout",
       "text": [
        "100615.56 bearing force in kN\n",
        "52912.27 bearing moment in kNm\n",
        "4.35 net ground line deflection in mm\n",
        "z/T\t Am\t Bm\t Mz(kN-m)\n",
        "\n",
        "0 \t0.0 \t1.0 \t200.0\n",
        "0.4 \t0.36 \t0.98 \t308.4\n",
        "0.6 \t0.52 \t0.95 \t352.35\n",
        "0.8 \t0.63 \t0.9 \t376.69\n",
        "1.0 \t0.75 \t0.84 \t403.16\n",
        "1.1 \t0.77 \t0.8 \t398.84\n",
        "1.25 \t0.75 \t0.73 \t380.16\n",
        "2.08 depth in m\n",
        "4081.63 tensile stress in kN/m**2\n",
        "8.5 length in m\n"
       ]
      }
     ],
     "prompt_number": 31
    },
    {
     "cell_type": "heading",
     "level": 2,
     "metadata": {},
     "source": [
      "Ex12.8:Pg-634"
     ]
    },
    {
     "cell_type": "code",
     "collapsed": false,
     "input": [
      "#example 12.8\n",
      "\n",
      "qu=3000; # lb/in^2\n",
      "Ds=3*12; #in inch\n",
      "L=15*12; # in inch\n",
      "FS=3; # factor of safety\n",
      "Ecore=0.36e6; # in lb/in^2\n",
      "f=min(2.5*qu**0.5,0.15*qu);\n",
      "Qu=math.pi*Ds*L*f/1000; # in kip\n",
      "Emass=Ecore*(0.266*80-1.66); # in lb/in^2\n",
      "Ec=17.9*Emass; # in lb/in^2\n",
      "Ac=math.pi/4*Ds**2; # area in in^2\n",
      "If=0.35;\n",
      "se=Qu*L/Ac/Ec+Qu*If/Ds/Emass;\n",
      "Qall=Qu/FS; # in kip\n",
      "print round(Qall),\"allowed load in kip\"\n",
      "\n"
     ],
     "language": "python",
     "metadata": {},
     "outputs": [
      {
       "output_type": "stream",
       "stream": "stdout",
       "text": [
        "929.0 allowed load in kip\n"
       ]
      }
     ],
     "prompt_number": 35
    }
   ],
   "metadata": {}
  }
 ]
}