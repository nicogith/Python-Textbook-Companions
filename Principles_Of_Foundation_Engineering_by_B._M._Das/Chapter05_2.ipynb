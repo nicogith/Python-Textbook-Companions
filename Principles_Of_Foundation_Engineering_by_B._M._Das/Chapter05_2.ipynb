{
 "metadata": {
  "name": "",
  "signature": "sha256:77a2cf465cec464205dc151afe10d9acafa79fe1b46b30f4a468368f8af3f8ea"
 },
 "nbformat": 3,
 "nbformat_minor": 0,
 "worksheets": [
  {
   "cells": [
    {
     "cell_type": "heading",
     "level": 1,
     "metadata": {},
     "source": [
      "Chapter05:Shallow Foundations: Allowable Bearing Capacity and Settlement"
     ]
    },
    {
     "cell_type": "heading",
     "level": 2,
     "metadata": {},
     "source": [
      "Ex5.1:Pg-212"
     ]
    },
    {
     "cell_type": "code",
     "collapsed": false,
     "input": [
      "#example 5.1\n",
      "\n",
      "#first solution\n",
      "B1=2.5; # in ft\n",
      "B2=B1;\n",
      "z=12.5; # in ft\n",
      "L1=5; # in ft\n",
      "L2=L1;\n",
      "m=B1/z;\n",
      "n=B2/z;\n",
      "#from table 5.2  of the values using m,n\n",
      "q=2000; # in lb/ft^2\n",
      "I=0.0328;\n",
      "deltasigma=q*4*I; # in lb/ft**2\n",
      "print round(deltasigma,2),\"change in pressure in lb/ft**2\"\n",
      "#second solution\n",
      "Ic=0.131;#from table\n",
      "deltasigma=q*Ic; #  in lb/ft**2\n",
      "print round(deltasigma,2),\"change in pressure in lb/ft**2\"\n",
      "\n"
     ],
     "language": "python",
     "metadata": {},
     "outputs": [
      {
       "output_type": "stream",
       "stream": "stdout",
       "text": [
        "262.4 change in pressure in lb/ft**2\n",
        "262.0 change in pressure in lb/ft**2\n"
       ]
      }
     ],
     "prompt_number": 1
    },
    {
     "cell_type": "heading",
     "level": 2,
     "metadata": {},
     "source": [
      "Ex5.2:Pg-215"
     ]
    },
    {
     "cell_type": "code",
     "collapsed": false,
     "input": [
      "#example 5.2\n",
      "\n",
      "qo=100; # in KN/m^2\n",
      "H1=3; # in m\n",
      "H2=5; # in m\n",
      "#from table\n",
      "IaH2=0.126;\n",
      "IaH1=0.175;\n",
      "deltasigma=qo*((H2*IaH2-H1*IaH1)/(H2-H1)); # in kN/m**2\n",
      "print round(deltasigma,2),\"change in pressure in kN/m**2\"\n",
      "TS=4*deltasigma; # in kN/m**2\n",
      "print round(TS,2),\"total change in pressure in kN/m**2\"\n",
      "\n"
     ],
     "language": "python",
     "metadata": {},
     "outputs": [
      {
       "output_type": "stream",
       "stream": "stdout",
       "text": [
        "5.25 change in pressure in kN/m**2\n",
        "21.0 total change in pressure in kN/m**2\n"
       ]
      }
     ],
     "prompt_number": 2
    },
    {
     "cell_type": "heading",
     "level": 2,
     "metadata": {},
     "source": [
      "Ex5.3:Pg-217"
     ]
    },
    {
     "cell_type": "code",
     "collapsed": false,
     "input": [
      "#example 5.3\n",
      "H=7;\n",
      "Gamma=17.5; # in KN/m^3\n",
      "q0=Gamma*H # in KN/m^2\n",
      "print q0,\" is pressure change in kN/m**2\"\n",
      "#part2\n",
      "#from figure\n",
      "Ileftside=0.445;\n",
      "Irightside=0.445;\n",
      "deltasigma=q0*(Ileftside+Irightside); # in KN/m^2\n",
      "print round(deltasigma,2),\"is change in stress in kN/m**2\"\n",
      "#partc\n",
      "#from figure 5.11\n",
      "I=0.24;#I'\n",
      "Dsigma1=43.75*I;#deltasigma1 in KN/m^2\n",
      "I2=0.495;#I'\n",
      "Dsigma2=I2*q0;#deltasigma2 in KN/m^2\n",
      "I3=0.335;#I'\n",
      "Dsigma3=I3*78.75;#deltasigma3 in KN/m^2\n",
      "Dsigma=Dsigma1+Dsigma2-Dsigma3; # in KN/m^2\n",
      "print round(Dsigma,2),\"is total stress increase in A in kN/m**2\"\n",
      "\n"
     ],
     "language": "python",
     "metadata": {},
     "outputs": [
      {
       "output_type": "stream",
       "stream": "stdout",
       "text": [
        "122.5  is pressure change in kN/m**2\n",
        "109.03 is change in stress in kN/m**2\n",
        "44.76 is total stress increase in A in kN/m**2\n"
       ]
      }
     ],
     "prompt_number": 4
    },
    {
     "cell_type": "heading",
     "level": 2,
     "metadata": {},
     "source": [
      "Ex5.4:Pg-228"
     ]
    },
    {
     "cell_type": "code",
     "collapsed": false,
     "input": [
      "#example 5.4\n",
      "\n",
      "zbar=5;\n",
      "mus=0.3;\n",
      "F1=0.641;\n",
      "F2=0.031;\n",
      "z1=2.0; # in m\n",
      "z2=1.0; # in m\n",
      "z3=2.0; # in m\n",
      "Es1=10000; # in kN/m**2\n",
      "Es2=8000; # in kN/m**2\n",
      "Es3=12000;# in kN/m**2\n",
      "qo=150; # in KN/m^2\n",
      "#from table 5.4\n",
      "If=0.709;\n",
      "Es=(Es1*z1+Es2*z2+Es3*z3)/zbar; # in kN/m**2\n",
      "print Es,\"  is modulus of elasticity in kN/m**2\"\n",
      "Is=F1+(2-mus)/(1-mus)*F2;\n",
      "Sc=qo*(1.0/Es-mus**2.0/Es)*Is*If*2;\n",
      "Scrigid=0.93*Sc; # in m\n",
      "print round(Scrigid*1000,2),\"is settlement in mm\"\n",
      "\n"
     ],
     "language": "python",
     "metadata": {},
     "outputs": [
      {
       "output_type": "stream",
       "stream": "stdout",
       "text": [
        "10400.0   is modulus of elasticity in kN/m**2\n",
        "12.4 is settlement in mm\n"
       ]
      }
     ],
     "prompt_number": 9
    },
    {
     "cell_type": "heading",
     "level": 2,
     "metadata": {},
     "source": [
      "Ex5.5:Pg-234"
     ]
    },
    {
     "cell_type": "code",
     "collapsed": false,
     "input": [
      "#example 5.5\n",
      "import math\n",
      "B=5; # in ft\n",
      "L=10; # in ft\n",
      "Ef=2.3e6; # in lb/in^2\n",
      "Eo=1400.0; # in lb/in^2\n",
      "k=25.0; # in lb/in^2/ft\n",
      "t=1.0;\n",
      "mus=0.3;\n",
      "Df=5.0; # in ft\n",
      "qo=5000.0; # in lb/ft^2\n",
      "Ig=0.69;\n",
      "Be=math.sqrt(4*B*L/math.pi);\n",
      "If=math.pi/4+1/(4.6+10*(Ef/(Eo+2*Be/2*k))*(2*t/Be)**3);\n",
      "Ie=1-1/(3.5*math.exp(1.22*mus-0.4)*(Be/Df+1.6));\n",
      "Se=qo*Be*Ig*If*Ie/Eo*(1-mus**2)/144; # in ft\n",
      "print round(Se*12,2),\"settlement in inches\"\n",
      "\n"
     ],
     "language": "python",
     "metadata": {},
     "outputs": [
      {
       "output_type": "stream",
       "stream": "stdout",
       "text": [
        "1.07 settlement in inches\n"
       ]
      }
     ],
     "prompt_number": 12
    },
    {
     "cell_type": "heading",
     "level": 2,
     "metadata": {},
     "source": [
      "Ex5.6:238"
     ]
    },
    {
     "cell_type": "code",
     "collapsed": false,
     "input": [
      "#example 5.6\n",
      "\n",
      "import math\n",
      "import numpy\n",
      "q=3.06; # in lb/in^2\n",
      "qbar=25; # in lb/in^2\n",
      "C1=1-0.5*(q/(qbar-q));\n",
      "Sum=0;\n",
      "C2=1+0.2*math.log10(10/0.1);\n",
      "L=[1, 2, 3, 4, 5];\n",
      "Dz=[48, 48, 96, 48, 144]; # in inch\n",
      "Es=[750, 1250, 1250, 1000, 2000]; # in lb/in^2\n",
      "z=[24, 72, 144, 216, 312]; # in inch\n",
      "Iz=[0.275, 0.425, 0.417, 0.292, 0.125];\n",
      "k=numpy.zeros(5)\n",
      "print \"Layer No.\\t deltaz (in)\\t Es(lb/in**2)\\t z to the middle of the layer (in)  Iz at the middle of the layer  Iz/delta(z) \\n\"\n",
      "for i in  range(0,5):\n",
      "    k[i]=Iz[i]/Es[i]*Dz[i];\n",
      "    print L[i],\"\\t \\t \",Dz[i],\"\\t\\t   \",Es[i],\"\\t\\t \",z[i],\" \\t\\t\\t\\t\\t  \",Iz[i],\"\\t\\t  \",round(k[i],3)\n",
      "    Sum=Sum+k[i];\n",
      "\n",
      "Se=C1*C2*(qbar-q)*Sum; # in inch\n",
      "print round(Se,2),\"settlement in inches\"\n",
      "\n"
     ],
     "language": "python",
     "metadata": {},
     "outputs": [
      {
       "output_type": "stream",
       "stream": "stdout",
       "text": [
        "Layer No.\t deltaz (in)\t Es(lb/in**2)\t z to the middle of the layer (in)  Iz at the middle of the layer  Iz/delta(z) \n",
        "\n",
        "1 \t \t  48 \t\t    750 \t\t  24  \t\t\t\t\t   0.275 \t\t   0.018\n",
        "2 \t \t  48 \t\t    1250 \t\t  72  \t\t\t\t\t   0.425 \t\t   0.016\n",
        "3 \t \t  96 \t\t    1250 \t\t  144  \t\t\t\t\t   0.417 \t\t   0.032\n",
        "4 \t \t  48 \t\t    1000 \t\t  216  \t\t\t\t\t   0.292 \t\t   0.014\n",
        "5 \t \t  144 \t\t    2000 \t\t  312  \t\t\t\t\t   0.125 \t\t   0.009\n",
        "2.54 settlement in inches\n"
       ]
      }
     ],
     "prompt_number": 18
    },
    {
     "cell_type": "heading",
     "level": 2,
     "metadata": {},
     "source": [
      "Ex5.7:Pg-244"
     ]
    },
    {
     "cell_type": "code",
     "collapsed": false,
     "input": [
      "#example 5.7\n",
      "\n",
      "Df=1.0; # in m\n",
      "B=1.75; # in m\n",
      "L=1.75 # in m\n",
      "qnet=120.0; # in KN/m^2\n",
      "N60=10.0;# in m\n",
      "alpha1=0.14 # for normally consolated sand\n",
      "alpha2=1.71/(N60)**1.4 # for normally consolated sand\n",
      "alpha3=1.0 # for normally consolated sand\n",
      "Se=0.3*alpha1*alpha2*alpha3*(qnet/100)*((B/0.3)**0.7)*((1.25*(L/B)/(0.25+(L/B))))**2\n",
      "print round(Se*1000,2),\"settlement in mm\"\n",
      "\n"
     ],
     "language": "python",
     "metadata": {},
     "outputs": [
      {
       "output_type": "stream",
       "stream": "stdout",
       "text": [
        "11.79 settlement in mm\n"
       ]
      }
     ],
     "prompt_number": 27
    },
    {
     "cell_type": "heading",
     "level": 2,
     "metadata": {},
     "source": [
      "Ex5.8:Pg-245"
     ]
    },
    {
     "cell_type": "code",
     "collapsed": false,
     "input": [
      "#example 5.8\n",
      "\n",
      "Df=1; # in m\n",
      "B=1.75; # in m\n",
      "qnet=120; # in KN/m^2\n",
      "N60=10; # in m\n",
      "Fd=1+0.33*Df/B;\n",
      "Se=2*qnet/N60/Fd*(B/(B+0.3))**2; # in mm\n",
      "print round(Se,2),\"settlement in mm\"\n",
      "\n"
     ],
     "language": "python",
     "metadata": {},
     "outputs": [
      {
       "output_type": "stream",
       "stream": "stdout",
       "text": [
        "14.71 settlement in mm\n"
       ]
      }
     ],
     "prompt_number": 29
    },
    {
     "cell_type": "heading",
     "level": 2,
     "metadata": {},
     "source": [
      "Ex5.9:Pg-251"
     ]
    },
    {
     "cell_type": "code",
     "collapsed": false,
     "input": [
      "#example 5.9\n",
      "\n",
      "Ny=23.76; \n",
      "Nq=16.51; \n",
      "q=3*110.0; # in lb/ft^2\n",
      "Gamma=110.0; # in lb/ft^3\n",
      "B=4.0; # in ft\n",
      "Nqe=0.63*Nq;\n",
      "Nye=0.4*Ny;\n",
      "que=q*Nqe+1/2.0*Gamma*B*Nye; # in lb/ft^2\n",
      "print round(que,2),\" is bearing capacity in lb/ft**2\"\n",
      "#part 2\n",
      "V=0.4; # in ft/sec\n",
      "A=0.32; # given in question\n",
      "g=9.81; # acceleration constant in m/sec^2\n",
      "kh=0.26;\n",
      "k=0.92;#tan(alphae)\n",
      "Seq=0.174*k*V**2/A/g*kh**-4/A**-4; # in m\n",
      "print round(Seq,3),\"settelement in m\"\n",
      "print round(Seq*39.57,2),\"settlement in inches\"\n",
      "\n"
     ],
     "language": "python",
     "metadata": {},
     "outputs": [
      {
       "output_type": "stream",
       "stream": "stdout",
       "text": [
        "5523.31  is bearing capacity in lb/ft**2\n",
        "0.019 settelement in m\n",
        "0.74 settlement in inches\n"
       ]
      }
     ],
     "prompt_number": 4
    },
    {
     "cell_type": "heading",
     "level": 2,
     "metadata": {},
     "source": [
      "Ex5.10:Pg-256"
     ]
    },
    {
     "cell_type": "code",
     "collapsed": false,
     "input": [
      "#example 5.10\n",
      "\n",
      "import math\n",
      "Cc=0.32;\n",
      "Hc=2.5;\n",
      "eo=0.8;\n",
      "sigmao=2.5*16.5+0.5*(17.5-9.81)+1.25*(16-9.81); # in kN/m^2\n",
      "m1=[2, 2, 2];\n",
      "z=[2, 3.25, 4.5];\n",
      "n1=[4, 6.5, 9];\n",
      "Ic=[0.19, 0.085, 0.045];\n",
      "Dsigma=[28.5, 12.75, 6.75];#deltasigma\n",
      "print (\"m1\\t z(m)\\t n1\\t Ic\\t Dsigma \\n\");\n",
      "for i in range(0,3):\n",
      "    print round(m1[i],2),\"\\t \",round(z[i],2),\"\\t \",round(n1[i],2),\"\\t \",round(Ic[i],2),\"\\t \",round(Dsigma[i],2)\n",
      "\n",
      "    Dsigmaav=1/6.0*(Dsigma[0]+4*Dsigma[1]+Dsigma[2]);\n",
      "    Sc=Cc*Hc/(1+eo)*math.log10((sigmao+Dsigmaav)/sigmao);\n",
      "print round(Sc*1000,2),\"settlement in mm\"\n",
      "#partb\n",
      "B=1.0; # in m\n",
      "L=2.0; # in m\n",
      "z=0.5+1.5; # in m\n",
      "B=B+z; # in m\n",
      "L=L+z; # in m\n",
      "A=0.6; # given in question\n",
      "#from table\n",
      "kcr=0.78; # by data\n",
      "Sep=kcr*Sc;\n",
      "print round(Sep*1000,2),\"settlement in mm\"\n",
      "\n"
     ],
     "language": "python",
     "metadata": {},
     "outputs": [
      {
       "output_type": "stream",
       "stream": "stdout",
       "text": [
        "m1\t z(m)\t n1\t Ic\t Dsigma \n",
        "\n",
        "2.0 \t  2.0 \t  4.0 \t  0.19 \t  28.5\n",
        "2.0 \t  3.25 \t  6.5 \t  0.09 \t  12.75\n",
        "2.0 \t  4.5 \t  9.0 \t  0.04 \t  6.75\n",
        "46.45 settlement in mm\n",
        "36.23 settlement in mm\n"
       ]
      }
     ],
     "prompt_number": 12
    },
    {
     "cell_type": "heading",
     "level": 2,
     "metadata": {},
     "source": [
      "Ex5.11:Pg-262"
     ]
    },
    {
     "cell_type": "code",
     "collapsed": false,
     "input": [
      "#example 5.11\n",
      "\n",
      "import numpy\n",
      "N60=(3+7+12+12+16)/5.0;\n",
      "B=[2, 2.25, 2.3]; # in m\n",
      "Fd=[1.248, 1.22, 1.215];\n",
      "Qoac=102000*9.81/1000;#actual Qo\n",
      "Se=25; # in mm\n",
      "qnet=numpy.zeros(3)\n",
      "Qo=numpy.zeros(3) # in kN\n",
      "print \"B(m)\\t Fd\\t qnet(kN/m**2)\\t \\t Qo \\n\"\n",
      "for i in range(0,3):\n",
      "    qnet[i]=10/0.08*(B[i]+0.3)**2/(B[i])**2*Fd[i]*Se/25;\n",
      "    Qo[i]=qnet[i]*B[i]**2;\n",
      "    print B[i],\"\\t\",Fd[i],\" \\t \",round(qnet[i],2),\"\\t\\t \",Qo[i],\"\\n\"\n",
      "print int(Qoac),\"value of Qo in kN\"\n",
      "print \"since Qo is 1000 kN thus B is equal to 2.3 m from the table\"\n",
      "\n"
     ],
     "language": "python",
     "metadata": {},
     "outputs": [
      {
       "output_type": "stream",
       "stream": "stdout",
       "text": [
        "B(m)\t Fd\t qnet(kN/m**2)\t \t Qo \n",
        "\n",
        "2 \t1.248  \t  206.31 \t\t  825.24 \n",
        "\n",
        "2.25 \t1.22  \t  195.88 \t\t  991.63125 \n",
        "\n",
        "2.3 \t1.215  \t  194.08 \t\t  1026.675 \n",
        "\n",
        "1000 value of Qo in kN\n",
        "since Qo is 1000 kN thus B is equal to 2.3 m from the table\n"
       ]
      }
     ],
     "prompt_number": 24
    }
   ],
   "metadata": {}
  }
 ]
}