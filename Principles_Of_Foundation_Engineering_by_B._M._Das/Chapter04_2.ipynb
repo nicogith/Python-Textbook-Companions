{
 "metadata": {
  "name": "",
  "signature": "sha256:7e16b5ec29439d0d7eaa54a0826b64a36c559ed79f17d130c42f4478805c682f"
 },
 "nbformat": 3,
 "nbformat_minor": 0,
 "worksheets": [
  {
   "cells": [
    {
     "cell_type": "heading",
     "level": 1,
     "metadata": {},
     "source": [
      "Chapter 04:Ultimate Bearing Capacity of Shallow Foundations: Special Cases"
     ]
    },
    {
     "cell_type": "heading",
     "level": 2,
     "metadata": {},
     "source": [
      "Ex4.1:Pg-176"
     ]
    },
    {
     "cell_type": "code",
     "collapsed": false,
     "input": [
      "#example 4.1\n",
      "\n",
      "FS=4.0; # FOS\n",
      "q=110*2.0; # in 1b/ft^2\n",
      "Nq=90.0;\n",
      "Ny=50.0;\n",
      "Gamma=110.0; # in 1b/ft^3\n",
      "m1=0.34; # From Figure 4.6(a)\n",
      "B=2.5; # in ft\n",
      "L=2.5; # in ft\n",
      "H=1.5; # in ft\n",
      "phi=35; # in degree\n",
      "m2=0.45; # From Figure 4.6(b)\n",
      "Fqs=1-0.34*B/L;\n",
      "Fys=1-0.45*B/L;\n",
      "qu=q*Nq*Fqs+1/2.0*Gamma*Ny*Fys*B;\n",
      "Qall=qu*B**2/FS;\n",
      "print round(Qall,2),\"bearing load in lb\"\n",
      "\n"
     ],
     "language": "python",
     "metadata": {},
     "outputs": [
      {
       "output_type": "stream",
       "stream": "stdout",
       "text": [
        "26326.95 bearing load in lb\n"
       ]
      }
     ],
     "prompt_number": 3
    },
    {
     "cell_type": "heading",
     "level": 2,
     "metadata": {},
     "source": [
      "Ex4.2:Pg-177"
     ]
    },
    {
     "cell_type": "code",
     "collapsed": false,
     "input": [
      "#example 4.2\n",
      "\n",
      "FS=3.0; # FOS\n",
      "cu=72.0;\n",
      "q=18.0; # in kN/m^3\n",
      "B=1.0;# in m\n",
      "H=0.25;# in m\n",
      "qu=5.14*(1+(0.5*B/H-0.707)/5.14)*cu+q;\n",
      "qall=qu/FS;\n",
      "print round(qall,1),\"bearing capacity of soil in kN/m**2\" \n",
      "\n"
     ],
     "language": "python",
     "metadata": {},
     "outputs": [
      {
       "output_type": "stream",
       "stream": "stdout",
       "text": [
        "160.4 bearing capacity of soil in kN/m**2\n"
       ]
      }
     ],
     "prompt_number": 6
    },
    {
     "cell_type": "heading",
     "level": 2,
     "metadata": {},
     "source": [
      "Ex4.3:Pg-183"
     ]
    },
    {
     "cell_type": "code",
     "collapsed": false,
     "input": [
      "#example 4.3\n",
      "import math\n",
      "k=0; #B/L;\n",
      "c2=30;\n",
      "Gamma=17.5; # in kN/m^3\n",
      "H=1.5; # in m\n",
      "Df=1.2; # in m\n",
      "B=2.0; # in m\n",
      "Ks=2.5;\n",
      "phi=40; # in degree\n",
      "pi=math.pi;\n",
      "qu=(1+0.2*k)*5.14*c2+(1+k)*Gamma*H**2*(1+2*Df/H)*Ks*math.tan(phi*pi/180)/B+Gamma*H;\n",
      "Qu=qu*B;\n",
      "print round(Qu,2),\"is bearing capacity in kN/m\"\n",
      "print \"there is slight variation due to rounding off error\"\n",
      "#soil 2\n",
      "Ny=109.4;\n",
      "Nq=64.2;\n",
      "Fqs=1;\n",
      "Fys=1;\n",
      "qt=Gamma*Df*Nq*Fqs+1/2.0*Gamma*Ny*Fys*B;\n",
      "print qt,\"bearing capacity in kN/m**2\"\n",
      "\n",
      "# answer in book is different due to approximation"
     ],
     "language": "python",
     "metadata": {},
     "outputs": [
      {
       "output_type": "stream",
       "stream": "stdout",
       "text": [
        "575.66 is bearing capacity in kN/m\n",
        "there is slight variation due to rounding off error\n",
        "3262.7 bearing capacity in kN/m**2\n"
       ]
      }
     ],
     "prompt_number": 9
    },
    {
     "cell_type": "heading",
     "level": 2,
     "metadata": {},
     "source": [
      "Ex4.4:Pg-184"
     ]
    },
    {
     "cell_type": "code",
     "collapsed": false,
     "input": [
      "#example 4.4\n",
      "\n",
      "B=1.0;  # in m\n",
      "L=1.5;# in m\n",
      "c2=48;# in m\n",
      "ca=108; # in KN/m^2\n",
      "D=1.0;# in m\n",
      "H=1.0;# in m\n",
      "Gamma=16.8; # in KN/m^3\n",
      "FS=4;\n",
      "qu=(1+0.2*B/L)*5.14*c2+(1+B/L)*2*ca*H/B+Gamma*D; # in KN/m^2\n",
      "c1=120.0;\n",
      "gamma1=16.8;  # in kN/m^3\n",
      "Df=1.0;\n",
      "qt=(1+0.2*B/L)*5.14*c1+gamma1*Df;\n",
      "print qt,\"is qt in kN/m**2\"\n",
      "print \"no need to calculate qt since it is not useful for calculation\"\n",
      "print qu/FS,\"is allowable shear stress in kN/m**2\"\n",
      "print qu/FS*1*1.5,\" is allowable load in kN\"\n",
      "\n"
     ],
     "language": "python",
     "metadata": {},
     "outputs": [
      {
       "output_type": "stream",
       "stream": "stdout",
       "text": [
        "715.84 is qt in kN/m**2\n",
        "no need to calculate qt since it is not useful for calculation\n",
        "164.104 is allowable shear stress in kN/m**2\n",
        "246.156  is allowable load in kN\n"
       ]
      }
     ],
     "prompt_number": 12
    },
    {
     "cell_type": "heading",
     "level": 2,
     "metadata": {},
     "source": [
      "Ex4.5:Pg-190"
     ]
    },
    {
     "cell_type": "code",
     "collapsed": false,
     "input": [
      "#example 4.5\n",
      "\n",
      "c=50;  # in KN/m^2\n",
      "#from table\n",
      "Ncq=6.3;\n",
      "FS=4.0;# FOS\n",
      "qu=c*Ncq;  # in KN/m^2\n",
      "qall=qu/4;\n",
      "print qall,\"allowed shear stress in kN/m**2\"\n",
      "\n"
     ],
     "language": "python",
     "metadata": {},
     "outputs": [
      {
       "output_type": "stream",
       "stream": "stdout",
       "text": [
        "78.75 allowed shear stress in kN/m**2\n"
       ]
      }
     ],
     "prompt_number": 13
    },
    {
     "cell_type": "heading",
     "level": 2,
     "metadata": {},
     "source": [
      "Ex4.6:Pg-191"
     ]
    },
    {
     "cell_type": "code",
     "collapsed": false,
     "input": [
      "#example 4.6\n",
      "\n",
      "Gamma=16.8; # in kN/m^3\n",
      "B=1.5;#  in m\n",
      "#from table\n",
      "Nyq=120.0;\n",
      "qu=1/2.0*Gamma*B*Nyq; # in KN/m^2\n",
      "print qu,\" is shear stress in kN/m**2\"\n",
      "\n"
     ],
     "language": "python",
     "metadata": {},
     "outputs": [
      {
       "output_type": "stream",
       "stream": "stdout",
       "text": [
        "1512.0  shear stress in kN/m**2\n"
       ]
      }
     ],
     "prompt_number": 14
    },
    {
     "cell_type": "heading",
     "level": 2,
     "metadata": {},
     "source": [
      "Ex4.7:Pg-198"
     ]
    },
    {
     "cell_type": "code",
     "collapsed": false,
     "input": [
      "#example 4.7\n",
      "import math\n",
      "phi=35; # in degree\n",
      "Df=1.5; # in m\n",
      "B=1.5; # in m\n",
      "Gamma=17.4; # in kN/m^3\n",
      "A=math.pi/4*Df**2; # in m^2\n",
      "m=0.25;\n",
      "Ku=0.936;\n",
      "Fq=1+2*(1+m*Df/B)*Df/B*Ku*math.tan(phi*math.pi/180);\n",
      "Qu=Fq*Gamma*A*Df; # in KN/m^2\n",
      "print round(Qu,1),\" is bearing capacity in kN\"\n",
      "\n"
     ],
     "language": "python",
     "metadata": {},
     "outputs": [
      {
       "output_type": "stream",
       "stream": "stdout",
       "text": [
        "121.7  is bearing capacity in kN\n"
       ]
      }
     ],
     "prompt_number": 17
    },
    {
     "cell_type": "heading",
     "level": 2,
     "metadata": {},
     "source": [
      "Ex4.8:pg-198"
     ]
    },
    {
     "cell_type": "code",
     "collapsed": false,
     "input": [
      "\n",
      "#example 4.8\n",
      "\n",
      "\n",
      "\n",
      "cu=52; # in kN/m^2\n",
      "\n",
      "B=1.5; # in m\n",
      "\n",
      "L=3; # in m\n",
      "\n",
      "k=0.107*cu+2.5;\n",
      "\n",
      "print round(k,2),\" is Df/B of square\" \n",
      "\n",
      "A=L*B; # in m^2\n",
      "\n",
      "Beta=0.2;\n",
      "\n",
      "Gamma=18.9; # in kN/m^3\n",
      "\n",
      "Df=1.8; # in m\n",
      "\n",
      "Qu=A*(Beta*(7.56+1.44*B/L)*cu+Gamma*Df); # in kN/m^2\n",
      "\n",
      "print round(Qu,1),\" is ultimate shear force in kN\"\n",
      "\n",
      " \n",
      "\n",
      " "
     ],
     "language": "python",
     "metadata": {},
     "outputs": [
      {
       "output_type": "stream",
       "stream": "stdout",
       "text": [
        "8.06  is Df/B of square\n",
        "540.6  is ultimate shear force in kN\n"
       ]
      }
     ],
     "prompt_number": 20
    }
   ],
   "metadata": {}
  }
 ]
}