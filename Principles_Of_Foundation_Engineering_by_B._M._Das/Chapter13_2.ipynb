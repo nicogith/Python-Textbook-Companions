{
 "metadata": {
  "name": "",
  "signature": "sha256:549425d7a43cc856ebd1610c783821836546fd833bb34512fcafdb71f662b655"
 },
 "nbformat": 3,
 "nbformat_minor": 0,
 "worksheets": [
  {
   "cells": [
    {
     "cell_type": "heading",
     "level": 1,
     "metadata": {},
     "source": [
      "Chapter13:Foundations on Difficult Soils"
     ]
    },
    {
     "cell_type": "heading",
     "level": 2,
     "metadata": {},
     "source": [
      "Ex13.1:Pg-653"
     ]
    },
    {
     "cell_type": "code",
     "collapsed": false,
     "input": [
      "#example 13.1\n",
      "\n",
      "Sw=1;\n",
      "Z=2; # in m\n",
      "deltaSf=0.0033*Z*Sw*1000; # in mm\n",
      "print deltaSf,\"free surface swell in mm\"\n",
      "\n"
     ],
     "language": "python",
     "metadata": {},
     "outputs": [
      {
       "output_type": "stream",
       "stream": "stdout",
       "text": [
        "6.6 free surface swell in mm\n"
       ]
      }
     ],
     "prompt_number": 10
    },
    {
     "cell_type": "heading",
     "level": 2,
     "metadata": {},
     "source": [
      "Ex13.2:Pg-13.2"
     ]
    },
    {
     "cell_type": "code",
     "collapsed": false,
     "input": [
      "#example 13.2\n",
      "\n",
      "#from figure 13.11\n",
      "import matplotlib.pyplot as plt\n",
      "%matplotlib inline\n",
      "import numpy\n",
      "deltaS=1/100.0*1/2.0*(0.55+0+0.55+1.2+1.2+2+2+3);\n",
      "print deltaS*1000,\"total swell in mm\"\n",
      "#partb\n",
      "D=numpy.array([5.2, 4.2, 3.2, 2.2, 1.2]);\n",
      "deltaS=numpy.array([0, 0.00275, 0.0115, 0.0275, 0.0525]);\n",
      "print \"depth(m)\\t  total swell (m) \\n\"\n",
      "for i in range (0,5):\n",
      "    print D[i],\"\\t            \",deltaS[i],\" \\n\",\n",
      "\n",
      "plt.plot(deltaS*1000,D);\n",
      "plt.title(\"depth vs total swell\")\n",
      "plt.xlabel(\"total swell (m)\")\n",
      "plt.ylabel(\"depth (m)\")\n",
      "plt.show()\n",
      "\n"
     ],
     "language": "python",
     "metadata": {},
     "outputs": [
      {
       "output_type": "stream",
       "stream": "stdout",
       "text": [
        "52.5 total swell in mm\n",
        "depth(m)\t  total swell (m) \n",
        "\n",
        "5.2 \t             0.0  \n",
        "4.2 \t             0.00275  \n",
        "3.2 \t             0.0115  \n",
        "2.2 \t             0.0275  \n",
        "1.2 \t             0.0525  \n"
       ]
      },
      {
       "metadata": {},
       "output_type": "display_data",
       "png": "[encoded data removed]",
       "text": [
        "<matplotlib.figure.Figure at 0x1d192b0>"
       ]
      }
     ],
     "prompt_number": 6
    },
    {
     "cell_type": "heading",
     "level": 2,
     "metadata": {},
     "source": [
      "Ex13.3:Pg-664"
     ]
    },
    {
     "cell_type": "code",
     "collapsed": false,
     "input": [
      "#example 13.3\n",
      "\n",
      "import math\n",
      "from scipy.optimize import fsolve\n",
      "phi=12*math.pi/180;\n",
      "Ds=0.8; # in m\n",
      "Z=5; # in m \n",
      "sigmaT=450;\n",
      "U=math.pi*Ds*Z*sigmaT*math.tan(phi); # in kN\n",
      "def f(D):\n",
      "    return 1202-450*6.14/1.25*3.14/4*(D**2-0.8**2)\n",
      "[x]=fsolve(f,1);\n",
      "Db=x; # in m\n",
      "print round(Db,2),\"diameter of bell in m\"\n",
      "#partb\n",
      "D=600; # in kN\n",
      "cu=450; # in kN/m^2\n",
      "Nc=6.14;\n",
      "FS=cu*Nc*math.pi/4*(Db**2-Ds**2)/(U-D);\n",
      "if FS>2 :\n",
      "    print \"the structure is compatible with safety measures\"\n",
      "\n",
      "#check bearing capacity\n",
      "L=D+300;#dead+live load in kN\n",
      "Dp=L/math.pi*4/Db**2;#downward pressure\n",
      "FS=2763/Dp; # factor of safety\n",
      "if FS>3:\n",
      "    print \"the structure is safe in bearing \"\n",
      "\n",
      "\n"
     ],
     "language": "python",
     "metadata": {},
     "outputs": [
      {
       "output_type": "stream",
       "stream": "stdout",
       "text": [
        "1.15 diameter of bell in m\n",
        "the structure is compatible with safety measures\n",
        "the structure is safe in bearing \n"
       ]
      }
     ],
     "prompt_number": 9
    }
   ],
   "metadata": {}
  }
 ]
}