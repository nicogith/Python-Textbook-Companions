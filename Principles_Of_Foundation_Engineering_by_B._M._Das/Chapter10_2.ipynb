{
 "metadata": {
  "name": "",
  "signature": "sha256:54ddb8c76d55d78e9f237ddb7f5823ac10a3585adf1b3932a3b8cc9352fd8e76"
 },
 "nbformat": 3,
 "nbformat_minor": 0,
 "worksheets": [
  {
   "cells": [
    {
     "cell_type": "heading",
     "level": 1,
     "metadata": {},
     "source": [
      "Chapter 10:Braced Cuts"
     ]
    },
    {
     "cell_type": "heading",
     "level": 2,
     "metadata": {},
     "source": [
      "Ex10.1: pg-511"
     ]
    },
    {
     "cell_type": "code",
     "collapsed": false,
     "input": [
      "#example 10.1 : \n",
      "\n",
      "Gamma=18.0;\n",
      "H=7.0;\n",
      "sigmaa=0.3*Gamma*H;\n",
      "print\"maximum pressure intensity in kN/m^2 is\",sigmaa ;\n",
      "#partb\n",
      "A=54.02;\n",
      "B1=1.0/2*1.75*37.8+37.8*1.75-A;\n",
      "B2=45.2;\n",
      "C=54.02;\n",
      "s=3.0; #spacing\n",
      "Pa=C*s;\n",
      "print \"strut loads in kN is\",Pa\n",
      "Pb=(B1+B2)*s;\n",
      "print \"strut loads in kN is\",Pb\n",
      "Pc=C*s;\n",
      "print \"strut loads in kN is\", Pc\n",
      "#partc\n",
      "Me=45.2*1.196-37.8*1.196*1.196/2;#Me=Mmax\n",
      "Sall=170e3;#sigmaall\n",
      "S=Me/Sall;\n",
      "print \"section modulus in m^3/m is \",round(S,7)\n",
      "#partd\n",
      "Mmax=(B1+B2)*s**2.0/8;\n",
      "S=Mmax/Sall;\n",
      "print\"section modulus in m^3/m is\",round(S,6)\n",
      "\n"
     ],
     "language": "python",
     "metadata": {},
     "outputs": [
      {
       "output_type": "stream",
       "stream": "stdout",
       "text": [
        "maximum pressure intensity in kN/m^2 is 37.8\n",
        "strut loads in kN is 162.06\n",
        "strut loads in kN is 271.215\n",
        "strut loads in kN is 162.06\n",
        "section modulus in m^3/m is  0.000159\n",
        "section modulus in m^3/m is 0.000598\n"
       ]
      }
     ],
     "prompt_number": 11
    },
    {
     "cell_type": "heading",
     "level": 2,
     "metadata": {},
     "source": [
      "Ex10.2:pg-514"
     ]
    },
    {
     "cell_type": "code",
     "collapsed": false,
     "input": [
      "#example 10.2\n",
      "\n",
      "import math\n",
      "phi=35.0;\n",
      "Gamma=17.0; # kN/m^3\n",
      "s=4; #spacing in m\n",
      "H=9;\n",
      "Ka=(math.tan(45*(math.pi/180)-35*(math.pi/(180.0*2))))**2\n",
      "sigma=0.65*Gamma*Ka*H\n",
      "A=sigma*5*5.0/6;\n",
      "B1=sigma*5-A;\n",
      "C=sigma*4*4/6.0; \n",
      "B2=sigma*s-C;\n",
      "Pa=A*s;\n",
      "Pb=(B1+B2)*s;\n",
      "Pc=C*s;\n",
      "print \"strut loads at A in kN is\",round(Pa,2)\n",
      "\n",
      "print \"strut loads at B in kN is\",round(Pb,2)\n",
      "\n",
      "print \"strut loads at C in kN is\",round(Pc,2)"
     ],
     "language": "python",
     "metadata": {},
     "outputs": [
      {
       "output_type": "stream",
       "stream": "stdout",
       "text": [
        "strut loads at A in kN is 449.17\n",
        "strut loads at B in kN is 233.57\n",
        "strut loads at C in kN is 287.47\n"
       ]
      }
     ],
     "prompt_number": 8
    },
    {
     "cell_type": "heading",
     "level": 2,
     "metadata": {},
     "source": [
      "Ex10.3:pg-523"
     ]
    },
    {
     "cell_type": "code",
     "collapsed": false,
     "input": [
      "#example 10.3\n",
      "\n",
      "import math\n",
      "q=0;\n",
      "Gamma=17; # in KN/m^3\n",
      "B=3.0 # in meter\n",
      "L=20; # in meter\n",
      "c=30;# in KN/m^3\n",
      "T=1.5;# in meter\n",
      "H=5.5;# in meter\n",
      "B1=B/2;#B'\n",
      "B11=T*math.sqrt(2);#B''\n",
      "FS=(5.14*c*(1+B11*0.2/L)+c*H/B1)/(Gamma*H+q) # from equation of factor of safety\n",
      "print\"factor of safety is\",round(FS,2)\n",
      "\n"
     ],
     "language": "python",
     "metadata": {},
     "outputs": [
      {
       "output_type": "stream",
       "stream": "stdout",
       "text": [
        "factor of safety is 2.86\n"
       ]
      }
     ],
     "prompt_number": 18
    },
    {
     "cell_type": "heading",
     "level": 2,
     "metadata": {},
     "source": [
      "Ex10.4:pg-529"
     ]
    },
    {
     "cell_type": "code",
     "collapsed": false,
     "input": [
      "#example 10.4\n",
      "\n",
      "\n",
      "L1=5; # in meter\n",
      "L2=4;# in meter\n",
      "B=5;# in meter\n",
      "h=4.5;# in meter\n",
      "icr=1 #\n",
      "iexit= 0.54*h/L2\n",
      "FOS=icr/iexit # Factor of safety\n",
      "print \"The Factory of safety is\",round(FOS,3)\n",
      "\n",
      "\n"
     ],
     "language": "python",
     "metadata": {},
     "outputs": [
      {
       "output_type": "stream",
       "stream": "stdout",
       "text": [
        "The Factory of safety is 1.646\n"
       ]
      }
     ],
     "prompt_number": 23
    }
   ],
   "metadata": {}
  }
 ]
}