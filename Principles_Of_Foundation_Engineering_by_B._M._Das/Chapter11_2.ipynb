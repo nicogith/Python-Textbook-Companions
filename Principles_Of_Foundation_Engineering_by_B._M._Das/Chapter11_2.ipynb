{
 "metadata": {
  "name": "",
  "signature": "sha256:a4054b3d6b79658bcd763c43dc94ca6de4cd49698c12f912e4c83a9a61f47154"
 },
 "nbformat": 3,
 "nbformat_minor": 0,
 "worksheets": [
  {
   "cells": [
    {
     "cell_type": "heading",
     "level": 1,
     "metadata": {},
     "source": [
      "Chapter11:Pile Foundations"
     ]
    },
    {
     "cell_type": "heading",
     "level": 2,
     "metadata": {},
     "source": [
      "Ex11.1:Pg-532"
     ]
    },
    {
     "cell_type": "code",
     "collapsed": false,
     "input": [
      "#example 11.1\n",
      "import math\n",
      "\n",
      "#parta\n",
      "phi=30.0; # angle in degree\n",
      "pa=2000.0; \n",
      "q=100*50/1000.0;\n",
      "Nq=55.0;\n",
      "Ap=16*16/16/12; # area in ft^2\n",
      "Qp=Ap*q*Nq; # in kip\n",
      "qp=0.4*pa*Nq*math.tan(phi*math.pi/180)*Ap; # in lb\n",
      "print round(Qp,2),\"ultimate load in lb\"\n",
      "print round(qp/1000,2),\"ultimate load in kip\"\n",
      "print \"there is change in answer because of calculation mistake in the book\"\n",
      "\n",
      "#partb\n",
      "Nsigma=36;\n",
      "Ap=16*16.0/12.0/12;\n",
      "q=110*50.0/1000;\n",
      "Qp=Ap*q*Nsigma*((1+2.0*(1-math.sin(phi*math.pi/180)))/3); # in kip\n",
      "print round(Qp,2),\"ultimate load in kip\"\n",
      "#partc\n",
      "Nq=18.4;\n",
      "Qp=Ap*q*Nq; # in kip\n",
      "print round(Qp,2),\"ultimate load in kip\"\n",
      "\n",
      "# ANSWER IN THE BOOK IS WRONG"
     ],
     "language": "python",
     "metadata": {},
     "outputs": [
      {
       "output_type": "stream",
       "stream": "stdout",
       "text": [
        "275.0 ultimate load in lb\n",
        "25.4 ultimate load in kip\n",
        "there is change in answer because of calculation mistake in the book\n",
        "234.67 ultimate load in kip\n",
        "179.91 ultimate load in kip\n"
       ]
      }
     ],
     "prompt_number": 3
    },
    {
     "cell_type": "heading",
     "level": 2,
     "metadata": {},
     "source": [
      "Ex11.2:Pg-533"
     ]
    },
    {
     "cell_type": "code",
     "collapsed": false,
     "input": [
      "#example 11.2\n",
      "\n",
      "import math\n",
      "#parta\n",
      "K=1.3;\n",
      "f0=0;\n",
      "Delta=0.8*30; # in ft\n",
      "D=16.0/12; # in ft\n",
      "L1=50.0;\n",
      "p=4*16/12.0; # in ft\n",
      "Gamma=110/1000.0; # in lb/ft^3\n",
      "L=15*D; # in ft\n",
      "sigma=Gamma*L; # in kip/ft^2\n",
      "f20=K*sigma*math.tan(Delta*math.pi/180); # kip/ft^2\n",
      "Qs=(f0+f20)/2*(p*L)+f20*p*(L1-L);\n",
      "print round(Qs,2),\"ultimate load in kip\"\n",
      "#partb\n",
      "FS=4; # factor of safety\n",
      "Qp=56.45/3+234.7/3+179.9/3; # in kip\n",
      "Qu=Qs+Qp; # in kip\n",
      "Qall=Qu/FS; # in kip\n",
      "print round(Qall,2),\"is allowed load in kip\"\n",
      "\n"
     ],
     "language": "python",
     "metadata": {},
     "outputs": [
      {
       "output_type": "stream",
       "stream": "stdout",
       "text": [
        "271.65 ultimate load in kip\n",
        "107.17 is allowed load in kip\n"
       ]
      }
     ],
     "prompt_number": 5
    },
    {
     "cell_type": "heading",
     "level": 2,
     "metadata": {},
     "source": [
      "Ex11.3:Pg-534"
     ]
    },
    {
     "cell_type": "code",
     "collapsed": false,
     "input": [
      "#example 11.3\n",
      "import math\n",
      "K=0.25;\n",
      "Ap=16*16.0/12/12; # area in ft^2\n",
      "phi=30*math.pi/180;\n",
      "Nq=25;\n",
      "q=110*50.0/1000; # in kip\n",
      "sigmao=q/2; # in kip/ft^2\n",
      "p=4*16.0/12; # in ft\n",
      "L=50; # in ft\n",
      "FS=4; # factor of safety\n",
      "Qu=q*Nq*Ap+K*sigmao*math.tan(0.8*phi)*p*L; # in kip\n",
      "Qall=Qu/FS; # in kip\n",
      "print round(Qall,1),\"allowed load in kip\"\n",
      "\n"
     ],
     "language": "python",
     "metadata": {},
     "outputs": [
      {
       "output_type": "stream",
       "stream": "stdout",
       "text": [
        "81.5 allowed load in kip\n"
       ]
      }
     ],
     "prompt_number": 7
    },
    {
     "cell_type": "heading",
     "level": 2,
     "metadata": {},
     "source": [
      "Ex11.4:Pg-535"
     ]
    },
    {
     "cell_type": "code",
     "collapsed": false,
     "input": [
      "#example 11.4\n",
      "\n",
      "import math\n",
      "import numpy\n",
      "FS=4; # factor of safety\n",
      "Ap=0.1295; # area in m^2\n",
      "Nc=9;\n",
      "cu2=100;\n",
      "Qp=Ap*Nc*cu2; # in kN\n",
      "D=[5, 10, 30]; # depth in m\n",
      "avgD=[2.5, 7.5,20.0]; # average depth in m\n",
      "sigma=[45.0, 110.5, 228.5]; # in KN/m^2\n",
      "cu=[30, 30, 100]; # in kN/m^2\n",
      "alpha=[0.6, 0.9, 0.725];\n",
      "L=[5, 5, 20]; # in m\n",
      "p=math.pi*0.406;\n",
      "Qs=0; # in kN\n",
      "cusig=numpy.zeros(3)\n",
      "print round(Qp,2),\"bearing capacity in kN\"\n",
      "print  \"depth (m)\\t avg Depth(m)\\t avgVerticalStress(kN/m**2)\\t cu(kN/m**2)\\t cu/sigma\\t alpha\\n\"\n",
      "for i in range(0,3):\n",
      "    cusig[i]=cu[i]/sigma[i];\n",
      "    Qs=Qs+alpha[i]*cu[i]*L[i]*p;\n",
      "    print round(D[i],2),\"\\t \\t \\t\",round(avgD[i],2),\"\\t \\t\",round(sigma[i],2),\"\\t\\t\\t   \",round(cu[i],2),\"\\t  \",round(cusig[i],2),\"\\t\\t \",round(alpha[i],2),\"\\n\"\n",
      "print round(Qs,2),\"bearing capacity in kN\"\n",
      "#part2\n",
      "Lambda=0.136;\n",
      "L=30;\n",
      "fav=Lambda*(178.48+2*76.7);\n",
      "Qs2=p*L*fav; # in kN\n",
      "#part3\n",
      "fav1=13;\n",
      "fav2=31.9;\n",
      "fav3=93.43;\n",
      "Qs3=p*(fav1*5+fav2*5+fav3*20); # in kN\n",
      "print round(Qs3,1),\"bearing capacity in kN\"\n",
      "Qsavg=Qs/3+Qs2/3+Qs3/3; # in kN\n",
      "Qu=Qp+Qsavg # in kN\n",
      "Qall=Qu/FS; # in kN\n",
      "print round(Qall,1),\"allowed bearing capacity in kN\"\n",
      "\n"
     ],
     "language": "python",
     "metadata": {},
     "outputs": [
      {
       "output_type": "stream",
       "stream": "stdout",
       "text": [
        "116.55 bearing capacity in kN\n",
        "depth (m)\t avg Depth(m)\t avgVerticalStress(kN/m**2)\t cu(kN/m**2)\t cu/sigma\t alpha\n",
        "\n",
        "5.0 \t \t \t2.5 \t \t45.0 \t\t\t    30.0 \t   0.67 \t\t  0.6 \n",
        "\n",
        "10.0 \t \t \t7.5 \t \t110.5 \t\t\t    30.0 \t   0.27 \t\t  0.9 \n",
        "\n",
        "30.0 \t \t \t20.0 \t \t228.5 \t\t\t    100.0 \t   0.44 \t\t  0.72 \n",
        "\n",
        "2136.44 bearing capacity in kN\n",
        "2669.7 bearing capacity in kN\n",
        "573.6 allowed bearing capacity in kN\n"
       ]
      }
     ],
     "prompt_number": 9
    },
    {
     "cell_type": "heading",
     "level": 2,
     "metadata": {},
     "source": [
      "Ex11.5:Pg-538"
     ]
    },
    {
     "cell_type": "code",
     "collapsed": false,
     "input": [
      "#example 11.5\n",
      "\n",
      "import numpy\n",
      "D=[6, 12, 20]; # depth in m\n",
      "fc=[34.34, 54.94, 70.63]; # in kN/m**2\n",
      "alpha=[0.84, 0.71, 0.63];\n",
      "dL=[6, 6, 8]; # in m\n",
      "p=4*0.305;\n",
      "Qs=0;\n",
      "Q=numpy.zeros(3)\n",
      "print \"  depth(m)\\t fc(kN/m**2)\\t alpha \\t \\t deltaL(m)\\t Q(kN)\\n\"\n",
      "for i in range (0,3):\n",
      "    Q[i]=alpha[i]*fc[i]*p*dL[i];\n",
      "    Qs=Q[i]+Qs;\n",
      "    print D[i],\"\\t\\t   \",fc[i],\"\\t  \",alpha[i],\"\\t   \",dL[i],\"\\t\\t \",round(Q[i],2)\n",
      "\n",
      "print round(Qs),\"bearing force in kN\"\n",
      "\n"
     ],
     "language": "python",
     "metadata": {},
     "outputs": [
      {
       "output_type": "stream",
       "stream": "stdout",
       "text": [
        "  depth(m)\t fc(kN/m**2)\t alpha \t \t deltaL(m)\t Q(kN)\n",
        "\n",
        "6 \t\t    34.34 \t   0.84 \t    6 \t\t  211.15\n",
        "12 \t\t    54.94 \t   0.71 \t    6 \t\t  285.53\n",
        "20 \t\t    70.63 \t   0.63 \t    8 \t\t  434.29\n",
        "931.0 bearing force in kN\n"
       ]
      }
     ],
     "prompt_number": 17
    },
    {
     "cell_type": "heading",
     "level": 2,
     "metadata": {},
     "source": [
      "Ex5.6:Pg-545"
     ]
    },
    {
     "cell_type": "code",
     "collapsed": false,
     "input": [
      "#example 11.6\n",
      "\n",
      "import math\n",
      "L=21; # in m\n",
      "Qwp=502-350; # in kN\n",
      "Qws=350; # in kN\n",
      "Ap=0.1045; # area in m^2\n",
      "Ep=21e6; # in kN/m^2\n",
      "epsilon=0.62;\n",
      "Se1=(Qwp+epsilon*Qws)*L/Ap/Ep; # in m\n",
      "#part2\n",
      "Iwp=0.85;\n",
      "qwp=152/Ap;\n",
      "Es=25e3; # in kN/m^2\n",
      "D=0.356; # in m\n",
      "mus=0.35;\n",
      "Se2=qwp*D/Es*Iwp*(1-mus**2); # in m\n",
      "#part3\n",
      "p=1.168;\n",
      "Iws=2+0.35*math.sqrt(L/D);\n",
      "Se3=Qws/p/L*D/Es*Iws*(1-mus**2); # in m\n",
      "Se=Se1+Se2+Se3; # in m\n",
      "print round(Se*1000,1),\"settlement in mm\"\n",
      "\n"
     ],
     "language": "python",
     "metadata": {},
     "outputs": [
      {
       "output_type": "stream",
       "stream": "stdout",
       "text": [
        "19.8 settlement in mm\n"
       ]
      }
     ],
     "prompt_number": 21
    },
    {
     "cell_type": "heading",
     "level": 2,
     "metadata": {},
     "source": [
      "Ex11.7:Pg-560"
     ]
    },
    {
     "cell_type": "code",
     "collapsed": false,
     "input": [
      "#example 11.7\n",
      "\n",
      "Ep=207e6; # in kN/m^2\n",
      "Ip=123e-6; # in m^4\n",
      "nh=12000; # in  kN/m^3\n",
      "#from table 11.13\n",
      "xz=0.008;\n",
      "Ax=2.435;\n",
      "T=(Ep*Ip/nh)**0.2;\n",
      "Qg1=xz*Ep*Ip/Ax/T**3;\n",
      "#part2\n",
      "Fy=248000;\n",
      "d1=0.254;\n",
      "Am=0.772;\n",
      "Mzmax=Fy*Ip*2/d1; # in Kn-m\n",
      "Qg2=Mzmax/Am/T; # in kN\n",
      "if Qg2>Qg1 :\n",
      "    Qg=Qg1;\n",
      "    print round(Qg,2),\"lateral load in kN\"\n",
      "# there is slight variation in answer in textbook due to approximation"
     ],
     "language": "python",
     "metadata": {},
     "outputs": [
      {
       "output_type": "stream",
       "stream": "stdout",
       "text": [
        "53.27 lateral load in kN\n"
       ]
      }
     ],
     "prompt_number": 25
    },
    {
     "cell_type": "heading",
     "level": 2,
     "metadata": {},
     "source": [
      "Ex11.8:Pg-561"
     ]
    },
    {
     "cell_type": "code",
     "collapsed": false,
     "input": [
      "#example 11.8\n",
      "\n",
      "import math\n",
      "#part1\n",
      "Ep=207e6; # in kN/m^2\n",
      "Ip=123e-6; # in m^4\n",
      "nh=12000; # in kN/m^3\n",
      "#from table 11.1a\n",
      "xo=0.008; # in m\n",
      "L=25;\n",
      "Fy=248000; # yield stress in kN/m^2\n",
      "D=0.254;\n",
      "Am=0.772;\n",
      "Gamma=18.0; # in kN/m^3\n",
      "phi=35; # in angle\n",
      "Kp=(math.tan(math.pi/4+phi*math.pi/360))**2;\n",
      "My=Fy*Ip*2/D; # in kN-m\n",
      "Qug=140*Kp*D**3*Gamma; # in kN\n",
      "\n",
      "#part2\n",
      "Qg1=xo*(Ep*Ip)**0.6*nh**0.4/0.15/L; # in kN\n",
      "\n",
      "if Qug>Qg1:\n",
      "    Qg=Qg1;\n",
      "    print round(Qg,2),\"lateral load in kN\"\n",
      "\n",
      "\n"
     ],
     "language": "python",
     "metadata": {},
     "outputs": [
      {
       "output_type": "stream",
       "stream": "stdout",
       "text": [
        "40.2 lateral load in kN\n"
       ]
      }
     ],
     "prompt_number": 28
    },
    {
     "cell_type": "heading",
     "level": 2,
     "metadata": {},
     "source": [
      "Ex11.9:Pg-567"
     ]
    },
    {
     "cell_type": "code",
     "collapsed": false,
     "input": [
      "#example 11.9\n",
      "\n",
      "import math\n",
      "Wrh=30*12; # in kip-ft\n",
      "E=0.8;\n",
      "Wr=7.5; # in kip\n",
      "S=1/8.0; \n",
      "C=0.1;\n",
      "FS=6; # in factor of safety\n",
      "n=0.4; # Coefficient of restitution\n",
      "Wp=12/12.0*12/12.0*80*150+550; # in lb\n",
      "Wp=Wp/1000.0;\n",
      "Qu=E*Wrh/(S+C)*(Wr+n**2.0*Wp)/(Wr+Wp); # in kip\n",
      "Qall=Qu/FS; # in kip\n",
      "print round(Qall),\"allowed bearing capacity in kip\"\n",
      "#part2\n",
      "He=30*12.0;\n",
      "L=80*12.0;\n",
      "Ap=12*12.0; # area in in^2\n",
      "Ep=3e6/1000.0; # in kip/in^2\n",
      "FS=4; # factor of safety\n",
      "Qu=E*He/(S+math.sqrt(E*He*L/2.0/Ap/Ep)); # in kip\n",
      "Qall2=Qu/FS; # in kip\n",
      "print round(Qall2),\"allowed bearing capacity in kip\"\n",
      "\n",
      "#partc\n",
      "a=27;\n",
      "b=1;\n",
      "He=30;\n",
      "FS=3; # factor of safety\n",
      "Qu=a*math.sqrt(E*He)*(b-math.log10(S)); # in kip\n",
      "Qall3=Qu/FS; # in kip\n",
      "print round(Qall3),\"allowed bearing capacity in kip\"\n",
      "\n",
      "\n",
      "\n"
     ],
     "language": "python",
     "metadata": {},
     "outputs": [
      {
       "output_type": "stream",
       "stream": "stdout",
       "text": [
        "101.0 allowed bearing capacity in kip\n",
        "104.0 allowed bearing capacity in kip\n",
        "84.0 allowed bearing capacity in kip\n"
       ]
      }
     ],
     "prompt_number": 35
    },
    {
     "cell_type": "heading",
     "level": 2,
     "metadata": {},
     "source": [
      "Ex11.10:Pg-570"
     ]
    },
    {
     "cell_type": "code",
     "collapsed": false,
     "input": [
      "#example 11.10\n",
      "\n",
      "Hp=350; # in HP\n",
      "vp=0.0016; #  in m/s\n",
      "Sl=0.762e-3; # in m/cycle\n",
      "f=115; # in Hz\n",
      "Qu=(0.746*Hp+98*vp)/(vp+Sl*f); # in kN\n",
      "print round(Qu),\"pile load capacity in kN\"\n"
     ],
     "language": "python",
     "metadata": {},
     "outputs": [
      {
       "output_type": "stream",
       "stream": "stdout",
       "text": [
        "2928.0 pile load capacity in kN\n"
       ]
      }
     ],
     "prompt_number": 38
    },
    {
     "cell_type": "heading",
     "level": 2,
     "metadata": {},
     "source": [
      "Ex11.11:Pg-578"
     ]
    },
    {
     "cell_type": "code",
     "collapsed": false,
     "input": [
      "#example 11.11\n",
      "\n",
      "Lg=9.92; # in ft\n",
      "Bg=7.0; # in ft\n",
      "n1=3.0;\n",
      "Nc=8.75;\n",
      "n2=4.0/1000;\n",
      "Ap=14.0**2.0/12.0**2;\n",
      "cup=1775.0;\n",
      "a1=0.4;#alpha1\n",
      "p=4*14.0/12.0;\n",
      "cu1=1050.0; # in lb/ft^2\n",
      "L1=15.0;\n",
      "a2=0.54;#alpha2\n",
      "cu2=1775.0; # in lb/ft^2\n",
      "L2=45.0;\n",
      "FS=4; # factor of safety\n",
      "Qu=n1*n2*(9*Ap*cup+a1*p*cu1*L1+a2*p*cu2*L2); # in kip\n",
      "Qu2=Lg*Bg*cup*Nc+2*(Lg+Bg)*(cu1*L1+cu2*L2); # in kip\n",
      "print round(Qu2/1000),\"load in kip\"\n",
      "Qall=Qu/FS; # in kip\n",
      "print round(Qall),\"allowed load in kip\"\n",
      "\n",
      "\n"
     ],
     "language": "python",
     "metadata": {},
     "outputs": [
      {
       "output_type": "stream",
       "stream": "stdout",
       "text": [
        "4314.0 load in kip\n",
        "757.0 allowed load in kip\n"
       ]
      }
     ],
     "prompt_number": 42
    },
    {
     "cell_type": "heading",
     "level": 2,
     "metadata": {},
     "source": [
      "Ex11.12:Pg-583"
     ]
    },
    {
     "cell_type": "code",
     "collapsed": false,
     "input": [
      "#example 11.12\n",
      "\n",
      "import math\n",
      "z1=21/2.0; # in ft\n",
      "Lg=9.0; # in ft\n",
      "Bg=6.0;# in ft\n",
      "Qg=500*1000.0; # in kip\n",
      "Cc1=0.3;\n",
      "Cc2=0.2;\n",
      "Cc3=0.25;\n",
      "H2=12;\n",
      "H3=6;\n",
      "H1=21;\n",
      "e1=0.82;\n",
      "e2=0.7;\n",
      "e3=0.75;\n",
      "s1=Qg/(Lg+z1)/(Bg+z1); #sigma1 in lb/ft^3\n",
      "s2=500*1000/(9+27)/(6+27);#sigma2 in lb/ft^3\n",
      "s3=500*1000/(9+36)/(6+36);#sigma3 in lb/ft^3\n",
      "ss1=6*105+(27+21/2)*(115-62.4);#sigmadash1 in lb/ft^3\n",
      "ss2=6*105+(27+21)*(115-62.4)+(120-62.4)*6;#sigmadash2 in lb/ft^3\n",
      "ss3=6*105+48*(115-62.4)+12*(120-62.4)+3*(122-62.4);#sigmadash3 in lb/ft^3\n",
      "sc1=Cc1*H1/(1+e1)*math.log10((ss1+s1)/ss1); # in inch\n",
      "sc2=Cc2*H2/(1+e2)*math.log10((ss2+s2)/ss2); # in inch\n",
      "sc3=Cc3*H3/(1+e3)*math.log10((ss3+s3)/ss3); # in inch\n",
      "sc=sc1+sc2+sc3; # in inch\n",
      "print round(sc*12,1),\"total settlement in inch\"\n",
      "\n"
     ],
     "language": "python",
     "metadata": {},
     "outputs": [
      {
       "output_type": "stream",
       "stream": "stdout",
       "text": [
        "9.6 total settlement in inch\n"
       ]
      }
     ],
     "prompt_number": 45
    }
   ],
   "metadata": {}
  }
 ]
}