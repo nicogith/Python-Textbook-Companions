{
 "metadata": {
  "name": "",
  "signature": "sha256:a20958eb0a1cf98629a18a836583d76a2fff705e2f3370294ba37a907bebd17b"
 },
 "nbformat": 3,
 "nbformat_minor": 0,
 "worksheets": [
  {
   "cells": [
    {
     "cell_type": "heading",
     "level": 1,
     "metadata": {},
     "source": [
      "Chapter09:Sheet Pile Walls"
     ]
    },
    {
     "cell_type": "heading",
     "level": 2,
     "metadata": {},
     "source": [
      "Ex9.1:Pg-419"
     ]
    },
    {
     "cell_type": "code",
     "collapsed": false,
     "input": [
      "#example 9.1\n",
      "\n",
      "import math\n",
      "from scipy.optimize import fsolve\n",
      "sall=30;#sigma allowed\n",
      "pi=math.pi;\n",
      "zbar=12.1; # in ft\n",
      "L1=10.0; # in ft\n",
      "L2=20.0; #in ft\n",
      "Gamma=0.12; # in lb/ft^3\n",
      "Gamma1=0.1294-0.0624; # in lb/ft^3\n",
      "phi=40*pi/180; # angle given\n",
      "Ka=(math.tan(pi/4-phi/2))**2;\n",
      "Kp=(math.tan(pi/4+phi/2))**2;\n",
      "s1=Gamma*L1*Ka;#sigma1 in Kip/ft\n",
      "s2=Gamma*L1*Ka+Gamma1*L2*Ka;#sigma2 in Kip/ft\n",
      "L3=s2/(Gamma1*(Kp-Ka)); # in ft\n",
      "print round(L3,2),\"is length in ft\"\n",
      "P=1/2.0*s1*L1+s1*L2+1/2.0*(s2-s1)*L2+1/2.0*s2*L3;# in Kip/ft\n",
      "print round(P,2),\" is force in kip/ft\"\n",
      "s5=Gamma*L1*Kp+Gamma1*L2*Kp+Gamma*L3*(Kp-Ka);#sigma5 in Kip/ft\n",
      "print round(s5,2),\" is pressure in kip/ft\"\n",
      "A1=s5/(Gamma1*(Kp-Ka)); # in ft^2\n",
      "A2=8.0*P/(Gamma1*(Kp-Ka)) # in ft^2\n",
      "A3=6.0*P*(2.0*zbar*(Gamma1*(Kp-Ka))+s5)/(Gamma1*(Kp-Ka))**2.0 # in ft^2\n",
      "A4=P*(6.0*zbar*s5+4.0*P)/(Gamma1*(Kp-Ka))**2.0 # in ft^2\n",
      "print \"A1,A2,A3,A4 respectively is  \",round(A1,1),round(A2,2),round(A3,2),round(A4,2)\n",
      "print \"slight error due to rounding off error\"\n",
      "#part(b)\n",
      "def f(x):\n",
      "    return x**4+41.7*x**3-270.5*x**2-13363*x-106863\n",
      "[x]=fsolve(f,20);\n",
      "D=1.88+x;\n",
      "print round(D,2),\" is value of D, in ft\"\n",
      "TL=L1+L2+1.3*D;\n",
      "print round(TL,2),\" is total length in ft\"\n",
      "#partc\n",
      "z=math.sqrt(2*P/(Gamma1*(Kp-Ka)));#zdash\n",
      "Mmax=P*(z+zbar)-1/2.0*(Gamma1*(Kp-Ka))*z**2*z/3.0;\n",
      "S=Mmax*12/sall;\n",
      "print round(S,2),\"is section modulus in in^3/ft\"\n",
      "\n",
      "# The answers in the book are different due to approximation while here calculations are precise"
     ],
     "language": "python",
     "metadata": {},
     "outputs": [
      {
       "output_type": "stream",
       "stream": "stdout",
       "text": [
        "1.88 is length in ft\n",
        "9.96  is force in kip/ft\n",
        "12.67  is pressure in kip/ft\n",
        "A1,A2,A3,A4 respectively is   43.2 271.33 13708.16 110880.89\n",
        "slight error due to rounding off error\n",
        "21.68  is value of D, in ft\n",
        "58.19  is total length in ft\n",
        "70.06 is section modulus in in^3/ft\n"
       ]
      }
     ],
     "prompt_number": 6
    },
    {
     "cell_type": "heading",
     "level": 2,
     "metadata": {},
     "source": [
      "Ex9.2:Pg-426"
     ]
    },
    {
     "cell_type": "code",
     "collapsed": false,
     "input": [
      "#example 9.2\n",
      "import math\n",
      "from scipy.optimize import fsolve\n",
      "sall=172.5*1000;#sigma allowed in KN/m^2\n",
      "pi=math.pi;\n",
      "c=47.0;  # in KN/m^2\n",
      "zbar=1.78; # in m\n",
      "L1=2.0; #in m\n",
      "L2=3.0; # in m\n",
      "Gamma=15.9;  # in KN/m^3\n",
      "Gamma1=19.33-9.81;  # in KN/m^3\n",
      "phi=32*pi/180;\n",
      "Ka=(math.tan(pi/4-phi/2))**2;\n",
      "Kp=(math.tan(pi/4+phi/2))**2;\n",
      "s1=Gamma*L1*Ka;#sigma1 in KN/m^2\n",
      "s2=Gamma*L1*Ka+Gamma1*L2*Ka;#sigma2 in KN/m^2\n",
      "P=1/2.0*s1*L1+s1*L2+1/2.0*(s2-s1)*L2; # in  kN/ft\n",
      "print round(P,2),\" is force in kN/m\"\n",
      "def f(x):\n",
      "    return 127.4*x**2-104.4*x-357.15\n",
      "[x]=fsolve(f,2);\n",
      "D=x;\n",
      "print round(D,2),\" is value of D in m\"\n",
      "print round(D*1.5,2),\"actual D in m\"\n",
      "L4=D*(4*c-(Gamma*L1+Gamma1*L2)-P/D)/4/c;\n",
      "print round(L4,2),\" is length in m\"\n",
      "s6=4*c-(Gamma*L1+Gamma1*L2);#sigma6 in KN/m^2\n",
      "s7=4*c+(Gamma*L1+Gamma1*L2);#sigma7 in KN/m^2\n",
      "z=P/s6;#zdash\n",
      "Mmax=P*(z+zbar)-1/2.0*s6*z**2; # in KN-m/m\n",
      "S=Mmax*12.0/sall; #  in m^3/m\n",
      "print round(S,4),\" is section modulus in m**3/m\"\n",
      "print \"is slight error due to rounding off error\"\n",
      "\n",
      "# The answers in the book are different due to approximation while here calculations are precise"
     ],
     "language": "python",
     "metadata": {},
     "outputs": [
      {
       "output_type": "stream",
       "stream": "stdout",
       "text": [
        "52.25  is force in kN/m\n",
        "2.13  is value of D in m\n",
        "3.2 actual D in m\n",
        "1.17  is length in m\n",
        "0.0072  is section modulus in m**3/m\n",
        "is slight error due to rounding off error\n"
       ]
      }
     ],
     "prompt_number": 17
    },
    {
     "cell_type": "heading",
     "level": 2,
     "metadata": {},
     "source": [
      "Ex9.3:Pg-433"
     ]
    },
    {
     "cell_type": "code",
     "collapsed": false,
     "input": [
      "#example 9.3\n",
      "import math\n",
      "from scipy.optimize import fsolve\n",
      "\n",
      "pi=math.pi;\n",
      "zbar=2.23;  # in m\n",
      "L1=2.0; # in m\n",
      "L2=3.0; # in m\n",
      "Gamma=15.9; # in KN/m^3\n",
      "Gamma1=19.33-9.81; # in KN/m^3\n",
      "phi=32*pi/180;\n",
      "Ka=(math.tan(pi/4-phi/2))**2;\n",
      "Kp=(math.tan(pi/4+phi/2))**2;\n",
      "s1=Gamma*L1*Ka;#sigma1 in KN/m^2\n",
      "s2=Gamma*L1*Ka+Gamma1*L2*Ka;#sigma2 in KN/m^2\n",
      "L3=s2/(Gamma1*(Kp-Ka)); # in m\n",
      "print round(L3,2),\"length in m\"\n",
      "P=1/2.0*s1*L1+s1*L2+1/2.0*(s2-s1)*L2+1/2.0*s2*L3;\n",
      "print round(P,2),\"force in kN/m\"\n",
      "def f(x):\n",
      "    return x**3+6.99*x**2-14.55\n",
      "[x]=fsolve(f,1.4);\n",
      "D=L3+x;\n",
      "print round(D,2),\"value of D in m\"\n",
      "AL=1.4*D;\n",
      "print round(AL,2),\"actual length in m\"\n",
      "#partb\n",
      "L4=1.4;\n",
      "F=P-1/2.0*(Gamma1*(Kp-Ka)*L4**2);\n",
      "print round(F,2),\"anchor force in kN/m\"\n",
      "#partc\n",
      "def f(x):\n",
      "    return x**2+6.682*x-14.44\n",
      "[x]=fsolve(f,1.7);\n",
      "z=x+2;\n",
      "Mmax=-1/2.0*s1*L1*(x+2/3.0)+F*(x+1)-s1*x*x/2-1/2.0*Ka*Gamma1*x**3/3.0;\n",
      "print round(Mmax,2),\" is maximum moment in kN-m/m\" \n",
      "\n",
      "# The answers in the book are different due to approximation while here calculations are precise"
     ],
     "language": "python",
     "metadata": {},
     "outputs": [
      {
       "output_type": "stream",
       "stream": "stdout",
       "text": [
        "0.66 length in m\n",
        "58.38 force in kN/m\n",
        "1.98 value of D in m\n",
        "2.78 actual length in m\n",
        "30.88 anchor force in kN/m\n",
        "43.74  is maximum moment in kN-m/m\n"
       ]
      }
     ],
     "prompt_number": 18
    },
    {
     "cell_type": "heading",
     "level": 2,
     "metadata": {},
     "source": [
      "Ex9.4:Pg-439"
     ]
    },
    {
     "cell_type": "code",
     "collapsed": false,
     "input": [
      "#example 9.4\n",
      "\n",
      "Gamma=15.9; # in KN/m^3\n",
      "Gamma1=19.33-9.81; # in KN/m^3\n",
      "GD=0.23;  # from fig. 9.16\n",
      "CDL1=1.172; # from fig. 9.19\n",
      "L1=2; # in m\n",
      "L2=3; # in m\n",
      "Dth=(L1+L2)*GD*CDL1;\n",
      "print round(Dth,2),\"theoritical depth in m\"\n",
      "Dac=1.4*Dth;\n",
      "print round(Dac,2),\"actual depth in m\"\n",
      "print \"approximate it as 2 m\"\n",
      "#part(b)\n",
      "CFL1=1.073;\n",
      "GF=0.07;\n",
      "Gammaa=(Gamma*L1**2+Gamma1*L2**2+2*Gamma*L1*L2)/(L1+L2)**2; # in KN/m^3\n",
      "F=Gammaa*(L1+L2)**2*GF*CFL1; # in KN/m\n",
      "print round(F,2),\"force in kN/m\"\n",
      "#part(c)\n",
      "GM=0.021; # from fig. 9.18\n",
      "CML1=1.036; # from fig. 9.21\n",
      "Mmax=Gammaa*(L1+L2)**3*GM*CML1; # in kN-m/m\n",
      "print round(Mmax,2),\"maximum moment in kN-m/m\""
     ],
     "language": "python",
     "metadata": {},
     "outputs": [
      {
       "output_type": "stream",
       "stream": "stdout",
       "text": [
        "1.35 theoritical depth in m\n",
        "1.89 actual depth in m\n",
        "approximate it as 2 m\n",
        "25.54 force in kN/m\n",
        "36.99 maximum moment in kN-m/m\n"
       ]
      }
     ],
     "prompt_number": 20
    },
    {
     "cell_type": "heading",
     "level": 2,
     "metadata": {},
     "source": [
      "Ex9.5:Pg-442"
     ]
    },
    {
     "cell_type": "code",
     "collapsed": false,
     "input": [
      "#example 9.5\n",
      "import math\n",
      "import matplotlib.pyplot as plt\n",
      "import numpy\n",
      "Mmax=43.72; # in kN-m/m\n",
      "sp=[\"PSA-31\",\"PSA-23\"];#sheet pile\n",
      "H=[7.9,7.9] # in m\n",
      "I=[4.41e-6,5.63e-6]; # in m^4/m\n",
      "p=[0.00466,0.00365];\n",
      "S=[10.8e-5,12.8e-5]; # in m^3/m\n",
      "Md=[18.63,22.08]; # kn-m/m\n",
      "Logp=numpy.zeros(2)\n",
      "k=numpy.zeros(2)\n",
      "print \"SheetPile    I(m**4/m)    H(m)    p\\t     Logp    S(m**3/m)    Md(kN-m/m)   Md/Mmax \\n\"\n",
      "for i in range(0,2):\n",
      "    Logp[i]=math.log10(p[i]);\n",
      "    k[i]=Md[i]/Mmax;\n",
      "    print sp[i],\"\\t   \",I[i],\"    \",H[i],\" \",p[i],\"   \",round(Logp[i],2),\"   \",S[i],\"   \",Md[i],\"\\t \",round(k[i],3)\n",
      "    \n",
      "\n",
      "plt.plot(Logp,k);\n",
      "plt.title(\"Ex9.5\")\n",
      "plt.xlabel(\"LogP\")\n",
      "plt.ylabel(\"Md/Mmax\")\n",
      "plt.show()\n",
      "\n"
     ],
     "language": "python",
     "metadata": {},
     "outputs": [
      {
       "output_type": "stream",
       "stream": "stdout",
       "text": [
        "SheetPile    I(m**4/m)    H(m)    p\t     Logp    S(m**3/m)    Md(kN-m/m)   Md/Mmax \n",
        "\n",
        "PSA-31 \t    4.41e-06      7.9   0.00466     -2.33     0.000108     18.63 \t  0.426\n",
        "PSA-23 \t    5.63e-06      7.9   0.00365     -2.44     0.000128     22.08 \t  0.505\n"
       ]
      }
     ],
     "prompt_number": 28
    },
    {
     "cell_type": "heading",
     "level": 2,
     "metadata": {},
     "source": [
      "Ex9.6:Pg-445"
     ]
    },
    {
     "cell_type": "code",
     "collapsed": false,
     "input": [
      "#example 9.6\n",
      "\n",
      "import math\n",
      "from scipy.optimize import fsolve\n",
      "\n",
      "pi=math.pi;\n",
      "R=0.6;\n",
      "L1=10.0; # in ft\n",
      "L2=20.0; #in ft\n",
      "Gammasat=122.4; # in lb/ft^3\n",
      "l1=5; # in ft\n",
      "Gamma=110.0; # in lb/ft^3\n",
      "C=0.68;\n",
      "L=L1+L2; # in ft\n",
      "Gammaw=62.4; # in lb/ft^3\n",
      "Gamma1=Gammasat-Gammaw;#gammadash in  lb/ft^3\n",
      "Gammaav=(Gamma*L1+Gamma1*L2)/(L1+L2); # in lb/ft^3\n",
      "phi=35.0*pi/180;\n",
      "Ka=(math.tan(pi/4-phi/2))**2;\n",
      "sa=C*Ka*Gammaav*L;#sigmaa in lb/ft^2\n",
      "sp=R*sa;#sigmap # in lb/ft^2\n",
      "def f(x):\n",
      "    return x**2+50*x-1000\n",
      "[x]=fsolve(f,15);\n",
      "D=x;#in ft\n",
      "print round(D,2),\" is depth in ft\"\n",
      "R=L/D*(L-2*l1)/(2*L+D-2*l1);\n",
      "print \"value of R=\",round(R,2),\" is OK\\n\"\n",
      "#partb\n",
      "F=sa*(L-R*D); # in lb/ft\n",
      "print round(F,2),\" is Force in lb/ft\"\n",
      "#partc\n",
      "Mmax=0.5*sa*L**2*((1-R*D/L)**2-(2*l1/L)*(1-R*D/L)); # in lb-ft/ft\n",
      "print round(Mmax,2),\"maximum moment lb-ft/ft\"\n",
      "\n",
      "# The answers in the book are different due to approximation while here calculations are precise"
     ],
     "language": "python",
     "metadata": {},
     "outputs": [
      {
       "output_type": "stream",
       "stream": "stdout",
       "text": [
        "15.31  is depth in ft\n",
        "value of R= 0.6  is OK\n",
        "\n",
        "8821.24  is Force in lb/ft\n",
        "47693.02 maximum moment lb-ft/ft\n"
       ]
      }
     ],
     "prompt_number": 31
    },
    {
     "cell_type": "heading",
     "level": 2,
     "metadata": {},
     "source": [
      "Ex9.7:Pg-451"
     ]
    },
    {
     "cell_type": "code",
     "collapsed": false,
     "input": [
      "#example 9.7\n",
      "import math\n",
      "from scipy.optimize import fsolve\n",
      "\n",
      "pi=math.pi;\n",
      "zbar=3.2; # in m\n",
      "c=41; # in KN/m^2\n",
      "L1=3; # in m\n",
      "L2=6; # in m\n",
      "Gamma=17;# in KN/m^3\n",
      "Gamma1=20-9.81; # in KN/m^3\n",
      "phi=35*pi/180;\n",
      "Ka=(math.tan(pi/4-phi/2))**2;\n",
      "Kp=(math.tan(pi/4+phi/2))**2;\n",
      "s1=Gamma*L1*Ka;#sigma1 in kN/m**2\n",
      "s2=Gamma*L1*Ka+Gamma1*L2*Ka;#sigma2 in kN/m**2\n",
      "P=1/2.0*s1*L1+s1*L2+1/2.0*(s2-s1)*L2;\n",
      "print round(P,2),\"Force in kN/m\"\n",
      "s6=4*c-(Gamma*L1+Gamma1*L2);#sigma6 in kN/m**2\n",
      "print round(s6,2),\"pressure in kN/m**2\"\n",
      "def f(x):\n",
      "    return x**2+15*x-25.43\n",
      "[x]=fsolve(f,1.6);\n",
      "D=x; # in m\n",
      "print round(D,1),\"depth in m\"\n",
      "F=P-s6*D; # in kN/m\n",
      "print round(F,2),\"force in kN/m\"\n",
      "print \"slight error due to rounding off\"\n",
      "\n"
     ],
     "language": "python",
     "metadata": {},
     "outputs": [
      {
       "output_type": "stream",
       "stream": "stdout",
       "text": [
        "153.36 Force in kN/m\n",
        "51.86 pressure in kN/m**2\n",
        "1.5 depth in m\n",
        "73.61 force in kN/m\n",
        "slight error due to rounding off\n"
       ]
      }
     ],
     "prompt_number": 35
    },
    {
     "cell_type": "heading",
     "level": 2,
     "metadata": {},
     "source": [
      "Ex9.8:pg-458"
     ]
    },
    {
     "cell_type": "code",
     "collapsed": false,
     "input": [
      "#example 9.8\n",
      "import math\n",
      "pi=math.pi;\n",
      "Gamma=105.0; # in lb/ft^3\n",
      "Cov=14.0;\n",
      "B=15/12.0; # in inch\n",
      "Ka=0.26;\n",
      "phi=35.0*pi/180; # given angle in degree\n",
      "H=37.5/12; # in inch\n",
      "h=15/12.0; # in inch\n",
      "t=6/12.0; # in inch\n",
      "Gc=150.0;#gamma concrete in lb/ft^3\n",
      "W=H*t*Gc; # in lb/ft\n",
      "k=4.5;#kp*cos(delta)\n",
      "Pu=1/2.0*Gamma*H**2*(k-Ka*math.cos(phi)); # in lb/ft\n",
      "print round(Pu,2),\"force in lb/ft\"\n",
      "Pus=((Cov+1)/(Cov+H/h))*Pu; # in lb/ft\n",
      "print round(Pus,2),\"force in lb/ft\"\n",
      "Be=0.227*(H+h)+B;\n",
      "Pu=Pus*Be; # in lb/ft\n",
      "print round(Pu,2),\" is resistance of anchor plate in lb/ft\"\n",
      "\n",
      "# The answers in the book are different due to approximation while here calculations are precise"
     ],
     "language": "python",
     "metadata": {},
     "outputs": [
      {
       "output_type": "stream",
       "stream": "stdout",
       "text": [
        "2197.94 force in lb/ft\n",
        "1998.12 force in lb/ft\n",
        "4482.04  is resistance of anchor plate in lb/ft\n"
       ]
      }
     ],
     "prompt_number": 37
    }
   ],
   "metadata": {}
  }
 ]
}