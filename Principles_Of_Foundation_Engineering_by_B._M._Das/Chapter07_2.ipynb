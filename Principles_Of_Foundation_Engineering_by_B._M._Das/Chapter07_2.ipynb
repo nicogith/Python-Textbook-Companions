{
 "metadata": {
  "name": "",
  "signature": "sha256:6111670c8f96effbf1bc0bc29859353d67e53cd5b906d2b571173d1698f7ba9c"
 },
 "nbformat": 3,
 "nbformat_minor": 0,
 "worksheets": [
  {
   "cells": [
    {
     "cell_type": "heading",
     "level": 1,
     "metadata": {},
     "source": [
      "Chapter07:Lateral earth pressure"
     ]
    },
    {
     "cell_type": "heading",
     "level": 2,
     "metadata": {},
     "source": [
      "Ex7.1:Pg-319"
     ]
    },
    {
     "cell_type": "code",
     "collapsed": false,
     "input": [
      "#example 7.1\n",
      "\n",
      "sigmao=48.0; # in KN/m^2\n",
      "phi1=30*math.pi/180; # angle\n",
      "phi2=36*math.pi/180; # angle\n",
      "Ka1=(math.tan(math.pi/4.0-phi1/2))**2;\n",
      "Ka2=(math.tan(math.pi/4.0-phi2/2))**2;\n",
      "sigmaa1=Ka1*sigmao; # in KN/m^2\n",
      "print round(sigmaa1,2),\"top soil pressure in kN/m**2\"\n",
      "sigmaa2=Ka2*sigmao; # in KN/m^2\n",
      "print round(sigmaa2,2),\"bottom soil pressure in kN/m**2\"\n",
      "Po=1/2.0*3*16+3*12.48+1/3.0*3*(19.65-12.48)+1/2.0*3*29.43;\n",
      "zbar=(24*(3+3/3.0)+37.44*(3/2.0)+10.76*3/3.0+44.1*3/3.0)/Po;\n",
      "print round(zbar,2),\"resultant force acting from the bottom in m\"\n",
      "\n",
      "# The answers in the book are different due to approximation while here calculations are precise"
     ],
     "language": "python",
     "metadata": {},
     "outputs": [
      {
       "output_type": "stream",
       "stream": "stdout",
       "text": [
        "16.0 top soil pressure in kN/m**2\n",
        "12.46 bottom soil pressure in kN/m**2\n",
        "1.84 resultant force acting from the bottom in m\n"
       ]
      }
     ],
     "prompt_number": 34
    },
    {
     "cell_type": "heading",
     "level": 2,
     "metadata": {},
     "source": [
      "Ex7.2:Pg-321"
     ]
    },
    {
     "cell_type": "code",
     "collapsed": false,
     "input": [
      "#example 7.2\n",
      "\n",
      "import math\n",
      "c=14.36;\n",
      "Gamma=17.4; #  in KN/m^3\n",
      "H=6; # in m\n",
      "phi=26*math.pi/180;\n",
      "Ka=(math.tan(math.pi/4-phi/2))**2;\n",
      "sigma0=Gamma*H*Ka-2*c*math.sqrt(Ka);\n",
      "Pa=1/2.0*Gamma*H**2*Ka-2*c*H*math.sqrt(Ka);\n",
      "print round(Pa,2),\"active force before which tensile crack appeared in kN/m\"\n",
      "zbar=(244.32-323.1)/14.46;\n",
      "print round(zbar,2),\"the line of action on which net force is acting in m\"\n",
      "zc=2*c/Gamma/math.sqrt(Ka);\n",
      "print round(zc,2),\"distance where tensile crack appeared in m\"\n",
      "Pa=1/2.0*(H-zc)*(Gamma*H*Ka-2*c*math.sqrt(Ka));\n",
      "print round(Pa,2),\"Active force in tensile crack in kN/m\"\n",
      "zbar=(H-zc)/3;\n",
      "print round(zbar,2),\"the line of action on which net force is acting in m\"\n",
      "\n"
     ],
     "language": "python",
     "metadata": {},
     "outputs": [
      {
       "output_type": "stream",
       "stream": "stdout",
       "text": [
        "14.62 active force before which tensile crack appeared in kN/m\n",
        "-5.45 the line of action on which net force is acting in m\n",
        "2.64 distance where tensile crack appeared in m\n",
        "38.32 Active force in tensile crack in kN/m\n",
        "1.12 the line of action on which net force is acting in m\n"
       ]
      }
     ],
     "prompt_number": 30
    },
    {
     "cell_type": "heading",
     "level": 2,
     "metadata": {},
     "source": [
      "Ex7.3:Pg-322"
     ]
    },
    {
     "cell_type": "code",
     "collapsed": false,
     "input": [
      "#example 7.3\n",
      "import math\n",
      "pi=math.pi\n",
      "H=10.0; # in ft\n",
      "Gamma=110.0; # in lb/ft^3\n",
      "phi=35*math.pi/180.0; # angle\n",
      "alpha=15*math.pi/180.0; # angle\n",
      "theta=10*math.pi/180.0; # angle\n",
      "zi=math.sin(math.sin(alpha)/math.sin(phi))-alpha+2*theta;\n",
      "print round(zi*180.0/math.pi,2),\" is zi in degrees\"\n",
      "Ka=math.cos(alpha-theta)*math.sqrt(1+(math.sin(phi))**2-2*math.sin(phi)*math.sin(zi))/((math.cos(theta))**2*(math.cos(alpha)+math.sqrt((math.sin(phi))**2+((math.sin(alpha))**2))));\n",
      "Pa=1/2.0*Gamma*H**2*Ka;\n",
      "print round(Pa,2),\" is rankine earth pressure in lb/ft\"\n",
      "print \"there is slight error in answer due to rounding off error\"\n",
      "Beta=math.tan(math.sin(phi)*math.sin(zi)/(1-math.sin(phi)*math.cos(zi)));\n",
      "print round(Beta*180/pi,2),\" is angle in degrees\"\n",
      "\n",
      "# The answers in the book are different due to approximation while here calculations are precise"
     ],
     "language": "python",
     "metadata": {},
     "outputs": [
      {
       "output_type": "stream",
       "stream": "stdout",
       "text": [
        "29.99  is zi in degrees\n",
        "3078.61  is rankine earth pressure in lb/ft\n",
        "there is slight error in answer due to rounding off error\n",
        "36.7  is angle in degrees\n"
       ]
      }
     ],
     "prompt_number": 25
    },
    {
     "cell_type": "heading",
     "level": 2,
     "metadata": {},
     "source": [
      "Ex7.4:Pg-326"
     ]
    },
    {
     "cell_type": "code",
     "collapsed": false,
     "input": [
      "#example 7.4\n",
      "\n",
      "H=4.6; # in m\n",
      "Gamma=16.5; # in KN/m^3\n",
      "Ka=0.297;\n",
      "Po=1/2.0*Gamma*H**2*Ka;\n",
      "print round(Po,2),\"coulomb active force per unit length in kN/m\"\n",
      "\n"
     ],
     "language": "python",
     "metadata": {},
     "outputs": [
      {
       "output_type": "stream",
       "stream": "stdout",
       "text": [
        "51.85 coulomb active force per unit length in kN/m\n"
       ]
      }
     ],
     "prompt_number": 16
    },
    {
     "cell_type": "heading",
     "level": 2,
     "metadata": {},
     "source": [
      "Ex7.5:Pg-331"
     ]
    },
    {
     "cell_type": "code",
     "collapsed": false,
     "input": [
      "#example 7.5\n",
      "\n",
      "#part(a)\n",
      "Gamma=105; # in lb/ft^3\n",
      "H=10; #in ft\n",
      "Kae=0.474;\n",
      "k1=0;\n",
      "Pae=1/2.0*Gamma*H**2*Kae*(1-k1) # in lb/ft\n",
      "print Pae,\"active force in lb/ft\"\n",
      "#part(b)\n",
      "Ka=0.246;\n",
      "Pa=1/2.0*Gamma*H**2*Ka; # in lb/ft\n",
      "print Pa,\"active force in lb/ft\"\n",
      "DPae=Pae-Pa;#deltaPae\n",
      "zbar=(0.6*H*DPae+H/3*(Pa))/Pae;\n",
      "print round(zbar,2),\"the distance of resultant force from bottom in ft\"\n",
      "\n"
     ],
     "language": "python",
     "metadata": {},
     "outputs": [
      {
       "output_type": "stream",
       "stream": "stdout",
       "text": [
        "2488.5 active force in lb/ft\n",
        "1291.5 active force in lb/ft\n",
        "4.44 the distance of resultant force from bottom in ft\n"
       ]
      }
     ],
     "prompt_number": 6
    },
    {
     "cell_type": "heading",
     "level": 2,
     "metadata": {},
     "source": [
      "Ex7.6:Pg-337"
     ]
    },
    {
     "cell_type": "code",
     "collapsed": false,
     "input": [
      "#example 7.6\n",
      "\n",
      "import math\n",
      "import numpy\n",
      "import matplotlib.pyplot as plt\n",
      "\n",
      "z=[0, 4, 8, 12, 16];\n",
      "Gamma=110; # in lb/ft^3\n",
      "phi=36*math.pi/180;\n",
      "H=16; # in ft\n",
      "Sa1=numpy.zeros(5);#sigma(1)\n",
      "Sa2=numpy.zeros(5);#sigma(2)\n",
      "Sztr=numpy.zeros(5);#sigma(z)translation\n",
      "print \"z(ft)\\t sigma(1)(lb/ft**2)   \\t sigma(2)(lb/ft**2)    \\t sigma(z)translation (lb/ft**2)\\n\"\n",
      "for i in range(0,5):\n",
      "    Sa1[i]=Gamma*(math.tan(math.pi/4-phi*z[i]/2/H))**2*(z[i]-phi*z[i]**2/H/math.cos(phi*z[i]/H));\n",
      "    Sa2[i]=Gamma*z[i]*(math.cos(phi)/(1+math.sin(phi)))**2;\n",
      "    Sztr[i]=Sa1[i]/2.0+Sa2[i]/2.0;\n",
      "    print  round(z[i],2),\"\\t \",round(Sa1[i],2),\"\\t\\t\\t \",round(Sa2[i],2),\"\\t\\t\\t \",round(Sztr[i],2),\"\\n\"\n",
      "plt.plot(Sztr,z);\n",
      "plt.title(\"sigma(z)translation vs z\")\n",
      "plt.ylabel(\"z(ft)\")\n",
      "plt.xlabel(\"sigma(z)translation (lb/ft**2)\")\n",
      "plt.show()\n",
      "\n",
      "\n"
     ],
     "language": "python",
     "metadata": {},
     "outputs": [
      {
       "output_type": "stream",
       "stream": "stdout",
       "text": [
        "z(ft)\t sigma(1)(lb/ft**2)   \t sigma(2)(lb/ft**2)    \t sigma(z)translation (lb/ft**2)\n",
        "\n",
        "0.0 \t  0.0 \t\t\t  0.0 \t\t\t  0.0 \n",
        "\n",
        "4.0 \t  269.92 \t\t\t  114.23 \t\t\t  192.07 \n",
        "\n",
        "8.0 \t  311.08 \t\t\t  228.46 \t\t\t  269.77 \n",
        "\n",
        "12.0 \t  233.53 \t\t\t  342.69 \t\t\t  288.11 \n",
        "\n",
        "16.0 \t  102.06 \t\t\t  456.92 \t\t\t  279.49 \n",
        "\n"
       ]
      }
     ],
     "prompt_number": 13
    },
    {
     "cell_type": "heading",
     "level": 2,
     "metadata": {},
     "source": [
      "Ex7.7:Pg-342"
     ]
    },
    {
     "cell_type": "code",
     "collapsed": false,
     "input": [
      "#example 7.7\n",
      "import math\n",
      "Gammasat=18.86; # in KN/m^3\n",
      "Gammaw=9.81; # in KN/m^3\n",
      "phi1=math.pi/180*30;  # angle 1\n",
      "phi2=math.pi/180*26; # angle 2\n",
      "Kp1=(math.tan(math.pi/4+phi1/2))**2;\n",
      "Kp2=(math.tan(math.pi/4+phi2/2))**2;\n",
      "#for top soil\n",
      "c=0;\n",
      "sigma0=31.44; # in KN/m^2\n",
      "sigmap=sigma0*Kp1+2*c*math.sqrt(Kp1);\n",
      "print round(sigmap,2),\"passive pressure for top layer in kN/m**2\"\n",
      "#for z=2\n",
      "c=10;\n",
      "sigma0=31.44; # in KN/m^2\n",
      "sigmap=sigma0*Kp2+2*c*math.sqrt(Kp2);\n",
      "print round(sigmap,2),\"passive pressure for z=2m in kN/m**2\"\n",
      "#for z=3\n",
      "c=10;\n",
      "sigma0=15.72*2+(Gammasat-Gammaw)*1; # in KN/m^2\n",
      "sigmap=sigma0*Kp2+2*c*math.sqrt(Kp2); # in KN/m^2\n",
      "print round(sigmap,2),\" is passive pressure for z=3m in kN/m**2\"\n",
      "\n"
     ],
     "language": "python",
     "metadata": {},
     "outputs": [
      {
       "output_type": "stream",
       "stream": "stdout",
       "text": [
        "94.32 passive pressure for top layer in kN/m**2\n",
        "112.53 passive pressure for z=2m in kN/m**2\n",
        "135.7  is passive pressure for z=3m in kN/m**2\n"
       ]
      }
     ],
     "prompt_number": 3
    }
   ],
   "metadata": {}
  }
 ]
}