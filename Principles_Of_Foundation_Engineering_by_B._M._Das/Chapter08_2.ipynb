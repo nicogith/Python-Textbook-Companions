{
 "metadata": {
  "name": "",
  "signature": "sha256:ae926d3fc40f9f56d82ee333a9b5a7f719ff4a11c08f89381773660beb02ead3"
 },
 "nbformat": 3,
 "nbformat_minor": 0,
 "worksheets": [
  {
   "cells": [
    {
     "cell_type": "heading",
     "level": 1,
     "metadata": {},
     "source": [
      "Chapter08: Retaining walls"
     ]
    },
    {
     "cell_type": "heading",
     "level": 2,
     "metadata": {},
     "source": [
      "Ex8.1:Pg-366"
     ]
    },
    {
     "cell_type": "code",
     "collapsed": false,
     "input": [
      "#example 8.1\n",
      "\n",
      "import math\n",
      "import numpy\n",
      "H1=6*math.tan(10*math.pi/180.0); # in ft\n",
      "H2=18.0; # in ft\n",
      "H3=2.75; # in ft\n",
      "Gamma1=117.0;  # in lb/ft^3\n",
      "Ka=0.294;#from table 7.1\n",
      "H=H1+H2+H3; # in ft\n",
      "Pa=1/2.0*Gamma1*H**2*Ka/1000; # in Kip/ft\n",
      "Pr=Pa*math.sin(10*math.pi/180); # in Kip/ft\n",
      "Ph=Pa*math.cos(10*math.pi/180); # in Kip/ft\n",
      "Mo=Ph*H/3.0; # in Kip-ft/ft\n",
      "Sum=0;#sigma Mr\n",
      "S=[1, 2, 3, 4, 5];#section\n",
      "W=[4.05, 1.35, 5.156, 13.01, 1.42];#weight\n",
      "MA=[5.75, 4.67, 6.25, 9.5, 12.5, 12.5];#Moment Arm\n",
      "M=numpy.zeros(5)\n",
      "print \"Section        Weight(kip/ft)    Moment Arm(ft)       Moment (kip-ft/ft)\\n\"\n",
      "for i in range(0,5):\n",
      "    M[i]=W[i]*MA[i];\n",
      "    Sum=Sum+M[i];\n",
      "    print round(S[i],2),\"\\t \\t \",round(W[i],2),\"\\t \\t \\t\",round(MA[i],2),\"\\t \\t \\t \",round(M[i],2),\"\\n\"\n",
      "\n",
      "FSO=Sum/Mo;\n",
      "if FSO>2 :\n",
      "    print  \"safe in overturning with FS=\",round(FSO,2),\"\\n\"\n",
      "\n",
      "#for sliding\n",
      "phi2=18*math.pi/180; # the given angle\n",
      "V=24.986;\n",
      "B=12.5;\n",
      "c2=0.9; # in lb/ft^2\n",
      "FSS=(V*math.tan(2/3.0*phi2)+B*2/3.0*c2)/Ph;\n",
      "if FSS>2 :\n",
      "    print \"safe in sliding with FS=\",round(FSS,2),\"\\n\"\n",
      "\n",
      "#for bearing\n",
      "e=B/2.0-(Sum-Mo)/V;\n",
      "qtoe=V/B*(1+6*e/B); # in Kip/ft^2\n",
      "Nc=13.1;\n",
      "Nq=5.26;\n",
      "Ny=4.07;\n",
      "D=0.107;\n",
      "Gamma2=4.0; # in lb/ft^3\n",
      "B1=B-2*e;#Bdash\n",
      "q=Gamma2*D # in lb/ft^2\n",
      "Fcd=1+0.4*D/B1;\n",
      "Fqd=1+2*math.tan(phi2)*(1-math.sin(phi2))**2*(D/B1);\n",
      "Fyd=1;\n",
      "zi=math.tan(Ph/V);\n",
      "Fci=(1-zi/math.pi*2)**2;\n",
      "Fqi=Fci;\n",
      "Fyi=round((1-zi/phi2)**2);\n",
      "qu=c2*Nc*Fcd*Fci+q*Nq*Fqd*Fqi+1/2.0*Gamma2*B1*Fyd*Fyi;\n",
      "FSB=qu/qtoe;\n",
      "if FSB>3 :\n",
      "    print \"bearing  is safe with FS=\",round(FSB),\"\\n\\n\"\n",
      "    print \"slight changes due to round off error\"\n",
      "\n",
      "\n"
     ],
     "language": "python",
     "metadata": {},
     "outputs": [
      {
       "output_type": "stream",
       "stream": "stdout",
       "text": [
        "Section        Weight(kip/ft)    Moment Arm(ft)       Moment (kip-ft/ft)\n",
        "\n",
        "1.0 \t \t  4.05 \t \t \t5.75 \t \t \t  23.29 \n",
        "\n",
        "2.0 \t \t  1.35 \t \t \t4.67 \t \t \t  6.3 \n",
        "\n",
        "3.0 \t \t  5.16 \t \t \t6.25 \t \t \t  32.23 \n",
        "\n",
        "4.0 \t \t  13.01 \t \t \t9.5 \t \t \t  123.59 \n",
        "\n",
        "5.0 \t \t  1.42 \t \t \t12.5 \t \t \t  17.75 \n",
        "\n",
        "safe in overturning with FS= 3.47 \n",
        "\n",
        "bearing  is safe with FS= 4.0 \n",
        "\n",
        "\n",
        "slight changes due to round off error\n"
       ]
      }
     ],
     "prompt_number": 14
    },
    {
     "cell_type": "heading",
     "level": 2,
     "metadata": {},
     "source": [
      "Ex8.2:Pg-369"
     ]
    },
    {
     "cell_type": "code",
     "collapsed": false,
     "input": [
      "#example 8.2\n",
      "\n",
      "c=0.9; # # in lb/ft^2\n",
      "B=12.5; # in ft\n",
      "Gamma2=4; # in lb/ft^3\n",
      "Fcd=1.138;\n",
      "Fqd=1.107; \n",
      "Nc=7.5;\n",
      "Nq=4;\n",
      "Ny=0;\n",
      "q=0.428; # in lb/ft^2\n",
      "qtoe=2.44; # in lb/ft^2\n",
      "qu=c*Nc*Fcd+q*Nq*Fqd+1/2.0*Gamma2*B*Ny;\n",
      "FSB=qu/qtoe; # factor of safety\n",
      "if FSB>3.0 :\n",
      "    print \"safe in bearing with FS=\",round(FSB,2),\"\\n\\n\",\n",
      "\n",
      "\n"
     ],
     "language": "python",
     "metadata": {},
     "outputs": [
      {
       "output_type": "stream",
       "stream": "stdout",
       "text": [
        "safe in bearing with FS= 3.92 \n",
        "\n"
       ]
      }
     ],
     "prompt_number": 16
    },
    {
     "cell_type": "heading",
     "level": 2,
     "metadata": {},
     "source": [
      "Ex8.3:Pg-370"
     ]
    },
    {
     "cell_type": "code",
     "collapsed": false,
     "input": [
      "#example 8.3\n",
      "import math\n",
      "import numpy\n",
      "Msum=0;#sum of moment\n",
      "Vsum=0;#sum of force\n",
      "H=15+2.5;#Hdash  in ft\n",
      "phi=30*math.pi/180; # given angle in degree\n",
      "Gamma=121.0; # in lb/ft^3\n",
      "Ka=(math.tan(math.pi/4-phi/2))**2;\n",
      "Pa=1/2.0*Gamma*H**2*Ka/1000; # in Kip/ft\n",
      "Ph=Pa; # in Kip/ft\n",
      "Mo=Ph*H/3.0; # in Kip-ft/ft\n",
      "AN=[1.0,2.0,3.0,4.0,5.0,6.0];#area number\n",
      "W=[0.9,3.375,5.906,3.863,4.764,2.723];#weight\n",
      "MA=[1.783,2.8,5.3,5.15,7.05,9.55];#moment arm\n",
      "\n",
      "print \"AreaNo  \\t Weight(kip/ft) \\t  Moment Arm(ft) \\t Moment (kip-ft/ft)\\n\"\n",
      "M= numpy.zeros(6)\n",
      "for i in range(0,6):\n",
      "    M[i]=W[i]*MA[i];\n",
      "    Vsum=Vsum+W[i];\n",
      "    Msum=Msum+M[i];\n",
      "    print round(AN[i],2),\"\\t\\t \",round(W[i],2),\"\\t \\t  \\t \",MA[i],\"\\t \\t \\t  \",M[i],\"\\n\"\n",
      "\n",
      "FSO=(Msum)/Mo;\n",
      "if FSO>2 :\n",
      "    print \"safe in overturning with FS=\",round(FSO,2)\n",
      "\n",
      "#for sliding\n",
      "phi2=20*math.pi/180;\n",
      "V=Vsum\n",
      "B=10.3; # in ft\n",
      "c2=1.0; # in lb/ft^2\n",
      "FSS=(V*math.tan(2/3.0*phi2)+B*2/3.0*c2)/Ph;\n",
      "print \"safe in sliding with FS=\",round(FSS,2),\"\\n\"\n",
      "e=B/2.0-(Msum-Mo)/V;\n",
      "qtoe=V/B*(1+6*e/B); #  in kip/ft**2\n",
      "print round(qtoe,2),\" is soil pressure at toe in kip/ft**2\"\n",
      "qheel=V/B*(1-6*e/B);  # in kip/ft**2\n",
      "print round(qheel,2),\" is soil pressure at heel in kip/ft**2\"\n",
      "\n"
     ],
     "language": "python",
     "metadata": {},
     "outputs": [
      {
       "output_type": "stream",
       "stream": "stdout",
       "text": [
        "AreaNo  \t Weight(kip/ft) \t  Moment Arm(ft) \t Moment (kip-ft/ft)\n",
        "\n",
        "1.0 \t\t  0.9 \t \t  \t  1.783 \t \t \t   1.6047 \n",
        "\n",
        "2.0 \t\t  3.38 \t \t  \t  2.8 \t \t \t   9.45 \n",
        "\n",
        "3.0 \t\t  5.91 \t \t  \t  5.3 \t \t \t   31.3018 \n",
        "\n",
        "4.0 \t\t  3.86 \t \t  \t  5.15 \t \t \t   19.89445 \n",
        "\n",
        "5.0 \t\t  4.76 \t \t  \t  7.05 \t \t \t   33.5862 \n",
        "\n",
        "6.0 \t\t  2.72 \t \t  \t  9.55 \t \t \t   26.00465 \n",
        "\n",
        "safe in overturning with FS= 3.38\n",
        "safe in sliding with FS= 1.94 \n",
        "\n",
        "3.51  is soil pressure at toe in kip/ft**2\n",
        "0.67  is soil pressure at heel in kip/ft**2\n"
       ]
      }
     ],
     "prompt_number": 33
    },
    {
     "cell_type": "heading",
     "level": 2,
     "metadata": {},
     "source": [
      "Ex8.4:Pg-372"
     ]
    },
    {
     "cell_type": "code",
     "collapsed": false,
     "input": [
      "#example 8.4\n",
      "\n",
      "import math\n",
      "import numpy\n",
      "Msum=0;#sum of moment\n",
      "Vsum=0;#sum of force\n",
      "H=5+1.5;#Hdash in m\n",
      "phi=32*math.pi/180 # angle in degree\n",
      "Gamma=18.5; # in KN/m^3\n",
      "Ka=0.424;\n",
      "Pa=1/2.0*Gamma*H**2*Ka; # in KN/m\n",
      "Ph=Pa*math.cos(15*math.pi/180+2/3.0*phi); # in KN/m\n",
      "Mo=Ph*H/3.0; # moment\n",
      "AN=[1,2,3,4,5];#area number\n",
      "A=[4.36, 3.42, 0.77, 2.8, 2.8];#area\n",
      "W=[102.81, 80.64, 18.16, 66.02, 93.14];#weight\n",
      "MA=[2.18, 1.37, 0.98, 1.75, 2.83];#moment arm\n",
      "print \"AreaNo  \\t  Area(m**2) \\t  Weight(kN/m)  \\t  Moment Arm(m) \\t  Moment (kN-m/m)\\n\"\n",
      "M= numpy.zeros(5)\n",
      "for i in range(0,5):\n",
      "    M[i]=W[i]*MA[i];\n",
      "    Vsum=Vsum+W[i];\n",
      "    Msum=Msum+M[i];\n",
      "    print round(AN[i],2),\"\\t\\t \",round(A[i],2),\" \\t \\t\",round(W[i],2),\"\\t \\t  \\t \",MA[i],\"\\t \\t \\t  \",M[i],\"\\n\"\n",
      "\n",
      "FSO=Msum/Mo;\n",
      "if FSO>2 :\n",
      "    print \"safe in overturning with FS=\",round(FSO,2),\"\\n\"\n",
      "\n",
      "#for sliding\n",
      "phi2=24*math.pi/180;\n",
      "V=Vsum\n",
      "B=3.5; # in m\n",
      "c2=30; # in KN/m^2\n",
      "Pp=1/2.0*2.37*18*1.5**2+2*30*1.54*1.5;\n",
      "FSS=(V*math.tan(2/3.0*phi2)+B*2/3.0*c2+Pp)/Ph;\n",
      "print \"safe in sliding with FS=\",round(FSS,2),\"\\n\"\n",
      "print \"if Pp is ignored then FS=1.37\"\n",
      "e=B/2.0-(Msum-Mo)/V;\n",
      "qtoe=V/B*(1+6*e/B); # in kN/m**2\n",
      "print round(qtoe,2),\"soil pressure at toe in kN/m**2\"\n",
      "qheel=V/B*(1-6*e/B); # in kN/m**2\n",
      "print round(qheel,2),\"soil pressure at heel in kN/m**2\"\n",
      "print \"there is difference in answer due to rounding off error\"\n",
      "\n",
      "# there is difference in answer due to rounding off error\n"
     ],
     "language": "python",
     "metadata": {},
     "outputs": [
      {
       "output_type": "stream",
       "stream": "stdout",
       "text": [
        "AreaNo  \t  Area(m**2) \t  Weight(kN/m)  \t  Moment Arm(m) \t  Moment (kN-m/m)\n",
        "\n",
        "1.0 \t\t  4.36  \t \t102.81 \t \t  \t  2.18 \t \t \t   224.1258 \n",
        "\n",
        "2.0 \t\t  3.42  \t \t80.64 \t \t  \t  1.37 \t \t \t   110.4768 \n",
        "\n",
        "3.0 \t\t  0.77  \t \t18.16 \t \t  \t  0.98 \t \t \t   17.7968 \n",
        "\n",
        "4.0 \t\t  2.8  \t \t66.02 \t \t  \t  1.75 \t \t \t   115.535 \n",
        "\n",
        "5.0 \t\t  2.8  \t \t93.14 \t \t  \t  2.83 \t \t \t   263.5862 \n",
        "\n",
        "safe in overturning with FS= 2.53 \n",
        "\n",
        "safe in sliding with FS= 2.7 \n",
        "\n",
        "if Pp is ignored then FS=1.37\n",
        "195.67 soil pressure at toe in kN/m**2\n",
        "10.48 soil pressure at heel in kN/m**2\n",
        "there is difference in answer due to rounding off error\n"
       ]
      }
     ],
     "prompt_number": 49
    },
    {
     "cell_type": "heading",
     "level": 2,
     "metadata": {},
     "source": [
      "Ex8.6:Pg-393"
     ]
    },
    {
     "cell_type": "code",
     "collapsed": false,
     "input": [
      "#example 8.6\n",
      "import math\n",
      "Sv=2; # in ft\n",
      "Sh=3; # in ft\n",
      "w=3/12.0; # in inch\n",
      "fy=35000*144;\n",
      "FSb=3;\n",
      "pi=math.pi;\n",
      "phi=36*pi/180;\n",
      "Gamma1=105; # in lb/ft^3\n",
      "H=30;\n",
      "t=Gamma1*H*Sv*Sh*FSb/w/fy*(math.tan(pi/4-phi/2))**2;\n",
      "t=t*12; #in inch\n",
      "print round(t,2),\" is thickness in inches\"\n",
      "t=t+0.001*50;\n",
      "print \"so take thickness=0.2 inches\"\n",
      "#for tie length\n",
      "z=[5,10,15,20,25,30];\n",
      "TL=[38.45, 35.89, 33.34, 30.79, 28.25, 25.7];#tie length\n",
      "print \"z(ft)\\t Tie Length (ft)\\n\"\n",
      "for i in range(0,6):\n",
      "    print z[i],\"\\t\",TL[i]\n",
      "\n",
      "print \"use tie length=40ft\"\n",
      "#check for over turning\n",
      "\n",
      "z=30/3.0;\n",
      "x1=20;\n",
      "L=40;\n",
      "Ka=0.26;\n",
      "Pa=1/2.0*Gamma1*Ka*H**2; #  in kip/ft**2\n",
      "W1=Gamma1*H*L;\n",
      "FSO=W1*x1/(Pa*z);\n",
      "print round(FSO,2),\" is factor of safety is\" \n",
      "print \"since FS>3 structure is safe\"\n",
      "#check for sliding\n",
      "k=2/3.0;\n",
      "Pa=12285; #  in kip/ft**2\n",
      "FSS=W1*math.tan(k*phi)/Pa;\n",
      "if FSS>3 :\n",
      "    print \"safe in sliding with FS=\",round(FSS,2)\n",
      "\n",
      "#check for bearing\n",
      "Mr=126000*20; # in lb-ft/ft\n",
      "Mo=12285*10; # in lb-ft/ft\n",
      "V=126000;\n",
      "e=L/2-Mr/V+Mo/V;\n",
      "L1=L-2*e;#Ldash\n",
      "c2=1000; # in lb/ft^2\n",
      "Nc=25.8;\n",
      "Gamma2=110; # in lb/ft^3\n",
      "Ny=16.72;\n",
      "qult=c2*Nc+1/2.0*Gamma2*L1*Ny\n",
      "sigma0=Gamma1*H; # in lb/ft^2\n",
      "FSB=qult/sigma0;\n",
      "if FSB>5 :\n",
      "    print \"bearing is safe  with FS=\",round(FSB,2)\n",
      "\n",
      "\n"
     ],
     "language": "python",
     "metadata": {},
     "outputs": [
      {
       "output_type": "stream",
       "stream": "stdout",
       "text": [
        "0.14  is thickness in inches\n",
        "so take thickness=0.2 inches\n",
        "z(ft)\t Tie Length (ft)\n",
        "\n",
        "5 \t38.45\n",
        "10 \t35.89\n",
        "15 \t33.34\n",
        "20 \t30.79\n",
        "25 \t28.25\n",
        "30 \t25.7\n",
        "use tie length=40ft\n",
        "20.51  is factor of safety is\n",
        "since FS>3 structure is safe\n",
        "safe in sliding with FS= 4.57\n",
        "safe in bearing with FS= 19.87\n"
       ]
      }
     ],
     "prompt_number": 56
    },
    {
     "cell_type": "heading",
     "level": 2,
     "metadata": {},
     "source": [
      "Ex8.7:Pg-397"
     ]
    },
    {
     "cell_type": "code",
     "collapsed": false,
     "input": [
      "#example 8.7\n",
      "import math\n",
      "import numpy\n",
      "pi=math.pi;\n",
      "phi=36.0*pi/180;\n",
      "Ka=(math.tan(pi/4-phi/2))**2;\n",
      "z=[8.0, 12.0, 16.0]; # in ft\n",
      "sigmaG=80*12.0; # in lb/ft^2\n",
      "Gamma1=110.0; # in lb/ft^3\n",
      "FS=1.5;\n",
      "Sv=numpy.zeros(3)\n",
      "for i in range(0,3):\n",
      "    Sv[i]=sigmaG/Gamma1/z[i]/Ka/FS*12.0;\n",
      "    print \"for z=\",z[i],\" ft Sv = \",round(Sv[i],2),\" inches\\n\"\n",
      "\n",
      "z=[16.0,56.0,76.0,96.0,112.0,144.0,176.0];\n",
      "zf=numpy.zeros(7)\n",
      "k2=numpy.zeros(7)\n",
      "L=numpy.zeros(7)\n",
      "for i in range(0,7):\n",
      "    zf[i]=z[i]/12.0;#z in ft\n",
      "Sv=[1.67,1.67,1.67,1.67,1.33,1.33,1.33];\n",
      "k=[7.48,5.78,4.93,4.08,3.4,2.04,0.68];#0.51(H-z)\n",
      "print \"z(in)        z(ft)        Sv(ft)            0.51(H-z)(ft)         0.438Sv(ft)         L(ft) \\n\"\n",
      "for i in range(0,7):\n",
      "    k2[i]=0.438*Sv[i];#0.438Sv\n",
      "    L[i]=k[i]+k2[i];\n",
      "    print round(z[i],2),\"\\t \\t\",round(zf[i],2),\"\\t \",round(Sv[i],2),\"\\t \\t \",round(k[i],2),\"\\t \\t \\t\",round(k2[i],2),\"\\t \\t \\t \",round(L[i],2)\n",
      "\n",
      "Sv=20/12.0;\n",
      "Ka=0.26;\n",
      "FS=1.5;\n",
      "l1=Sv*Ka*FS/4/math.tan(2/3.0*phi);\n",
      "if l1<3:\n",
      "    l1=3;\n",
      "    print l1,\"length in ft\"\n",
      "\n",
      "\n"
     ],
     "language": "python",
     "metadata": {},
     "outputs": [
      {
       "output_type": "stream",
       "stream": "stdout",
       "text": [
        "for z= 8.0  ft Sv =  33.62  inches\n",
        "\n",
        "for z= 12.0  ft Sv =  22.41  inches\n",
        "\n",
        "for z= 16.0  ft Sv =  16.81  inches\n",
        "\n",
        "z(in)        z(ft)        Sv(ft)            0.51(H-z)(ft)         0.438Sv(ft)         L(ft) \n",
        "\n",
        "16.0 \t \t1.33 \t  1.67 \t \t  7.48 \t \t \t0.73 \t \t \t  8.21\n",
        "56.0 \t \t4.67 \t  1.67 \t \t  5.78 \t \t \t0.73 \t \t \t  6.51\n",
        "76.0 \t \t6.33 \t  1.67 \t \t  4.93 \t \t \t0.73 \t \t \t  5.66\n",
        "96.0 \t \t8.0 \t  1.67 \t \t  4.08 \t \t \t0.73 \t \t \t  4.81\n",
        "112.0 \t \t9.33 \t  1.33 \t \t  3.4 \t \t \t0.58 \t \t \t  3.98\n",
        "144.0 \t \t12.0 \t  1.33 \t \t  2.04 \t \t \t0.58 \t \t \t  2.62\n",
        "176.0 \t \t14.67 \t  1.33 \t \t  0.68 \t \t \t0.58 \t \t \t  1.26\n",
        "3 length in ft\n"
       ]
      }
     ],
     "prompt_number": 79
    }
   ],
   "metadata": {}
  }
 ]
}