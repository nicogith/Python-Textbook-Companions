{
 "metadata": {
  "name": "",
  "signature": "sha256:23456872c8877381c549ede3a12ff29dc232ffad3142abc24c5d2ad8d9888f99"
 },
 "nbformat": 3,
 "nbformat_minor": 0,
 "worksheets": [
  {
   "cells": [
    {
     "cell_type": "heading",
     "level": 1,
     "metadata": {},
     "source": [
      "Chapter14:Soil Improvement and Ground Modification"
     ]
    },
    {
     "cell_type": "heading",
     "level": 2,
     "metadata": {},
     "source": [
      "Ex14.1:Pg-695"
     ]
    },
    {
     "cell_type": "code",
     "collapsed": false,
     "input": [
      "#example 14.1\n",
      "\n",
      "import math\n",
      "Cc=0.28;\n",
      "Hc=6.0;\n",
      "eo=0.9;\n",
      "Cv=0.36; # in m^2/mo.\n",
      "H=3.0; # in m\n",
      "t=9.0; # in mo.\n",
      "sigmao=210.0;# in kN/m^2\n",
      "sigmap=115; #deltasigmap in kN/m^2\n",
      "Sc=Cc*Hc/(1+eo)*math.log10((sigmao+sigmap)/sigmao); # in m\n",
      "print round(Sc*1000,1),\"primary consolidation in mm\"\n",
      "Tv=Cv*t/H**2;\n",
      "#from table\n",
      "k=1.8; #constant\n",
      "sf=k*sigmap; # in kN/m**2\n",
      "print round(sf,2),\"deltasigmaf in kN/m**2\"\n",
      "\n"
     ],
     "language": "python",
     "metadata": {},
     "outputs": [
      {
       "output_type": "stream",
       "stream": "stdout",
       "text": [
        "167.7 primary consolidation in mm\n",
        "207.0 deltasigmaf in kN/m**2\n"
       ]
      }
     ],
     "prompt_number": 6
    },
    {
     "cell_type": "heading",
     "level": 2,
     "metadata": {},
     "source": [
      "Ex14.2:Pg-703"
     ]
    },
    {
     "cell_type": "code",
     "collapsed": false,
     "input": [
      "#example 14.2\n",
      "\n",
      "import math\n",
      "Tv=0.36;\n",
      "sigmap=115; # in kN/m^2\n",
      "Uv=math.sqrt(4*Tv/math.pi)*100;\n",
      "print round(Uv,2),\"Uv in %\"\n",
      "#from table \n",
      "k=0.12; #constant\n",
      "sf=k*sigmap;\n",
      "print sf,\"deltasigmaf in kN/m**2\"\n",
      "\n"
     ],
     "language": "python",
     "metadata": {},
     "outputs": [
      {
       "output_type": "stream",
       "stream": "stdout",
       "text": [
        "67.7 Uv in %\n",
        "13.8 deltasigmaf in kN/m**2\n"
       ]
      }
     ],
     "prompt_number": 9
    },
    {
     "cell_type": "heading",
     "level": 2,
     "metadata": {},
     "source": [
      "Ex14.3:Pg-704"
     ]
    },
    {
     "cell_type": "code",
     "collapsed": false,
     "input": [
      "#example 14.3\n",
      "\n",
      "Cc=0.31;\n",
      "Hc=15.0;#ft\n",
      "eo=1.1;\n",
      "n=10.0;\n",
      "Uv=0.09;\n",
      "sigmao=1000.0; # in lb/ft^2\n",
      "deltasigma=2000.0; # deltasigmap+deltasigmaf\n",
      "Sc=Cc*Hc/(1+eo)*math.log10((sigmao+deltasigma)/sigmao);\n",
      "print round(Sc,3),\"primary consolidation in ft\"\n",
      "m=n**2/(n**2-1)*math.log(n)-(3*n**2-1)/4/n**2;\n",
      "A=2/m;\n",
      "Ur=(0.096-1/A*(1-math.exp(-A*0.096)))/0.192;\n",
      "Uvf=1-(1-Ur)*(1-Uv);\n",
      "Sc30=Sc*Uvf*12; #settlement after 30 days\n",
      "print round(Sc30,2),\"settlement after 30 days in inch\"\n"
     ],
     "language": "python",
     "metadata": {},
     "outputs": [
      {
       "output_type": "stream",
       "stream": "stdout",
       "text": [
        "1.056 primary consolidation in ft\n",
        "1.48 settlement after 30 days in inch\n"
       ]
      }
     ],
     "prompt_number": 12
    }
   ],
   "metadata": {}
  }
 ]
}