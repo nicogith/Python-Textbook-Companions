{
 "metadata": {
  "name": "",
  "signature": "sha256:0ea06255a04932e0bf9952689cf2f6d919d320d1161a790bec574191c6fbafa1"
 },
 "nbformat": 3,
 "nbformat_minor": 0,
 "worksheets": [
  {
   "cells": [
    {
     "cell_type": "heading",
     "level": 1,
     "metadata": {},
     "source": [
      "Chapter06: Mat Foundations"
     ]
    },
    {
     "cell_type": "heading",
     "level": 2,
     "metadata": {},
     "source": [
      "Ex6.1:Pg-279"
     ]
    },
    {
     "cell_type": "code",
     "collapsed": false,
     "input": [
      "#example 6.1\n",
      "\n",
      "B=30; # in ft\n",
      "L=45; # in ft\n",
      "Df=6.5; # in ft\n",
      "cu=1950;# in lb/ft^2\n",
      "qunet=5.14*cu*(1+0.195*B/L)*(1+0.4*Df/B);\n",
      "print int(qunet),\" is allowed force in lb/ft**2\"\n",
      "\n",
      "\n"
     ],
     "language": "python",
     "metadata": {},
     "outputs": [
      {
       "output_type": "stream",
       "stream": "stdout",
       "text": [
        "12307  is allowed force in lb/ft**2\n"
       ]
      }
     ],
     "prompt_number": 3
    },
    {
     "cell_type": "heading",
     "level": 2,
     "metadata": {},
     "source": [
      "Ex6.2:Pg-280"
     ]
    },
    {
     "cell_type": "code",
     "collapsed": false,
     "input": [
      "#example 6.2\n",
      "\n",
      "N60=10; # penetration number\n",
      "Df=2; # in m\n",
      "B=10.0; # in m\n",
      "Se=25.0; # in mm\n",
      "qnetall=N60/0.08*(1+0.33*Df/B)*Se/25;\n",
      "print qnetall,\" is allowed pressure in kN/m**2\"\n",
      "\n"
     ],
     "language": "python",
     "metadata": {},
     "outputs": [
      {
       "output_type": "stream",
       "stream": "stdout",
       "text": [
        "133.25  is allowed pressure in kN/m**2\n"
       ]
      }
     ],
     "prompt_number": 4
    },
    {
     "cell_type": "heading",
     "level": 2,
     "metadata": {},
     "source": [
      "Ex6.3:Pg-283"
     ]
    },
    {
     "cell_type": "code",
     "collapsed": false,
     "input": [
      "#example 6.3\n",
      "\n",
      "cu=2800; # in lb/ft^2\n",
      "B=60; # in ft\n",
      "L=100; # in ft\n",
      "Df=5; # in ft\n",
      "\n",
      "Gamma=120; # in lb/ft^3\n",
      "A=60*100; # in ft^2\n",
      "Q=25e6; # load in Kip\n",
      "FS=5.14*cu*(1+0.195*B/L)*(1+0.4*Df/B)/(Q/A-Gamma*Df);\n",
      "print round(FS,2),\" is factor of safety\"\n"
     ],
     "language": "python",
     "metadata": {},
     "outputs": [
      {
       "output_type": "stream",
       "stream": "stdout",
       "text": [
        "4.66  is factor of safety\n"
       ]
      }
     ],
     "prompt_number": 6
    },
    {
     "cell_type": "heading",
     "level": 2,
     "metadata": {},
     "source": [
      "Ex6.4:Pg-284"
     ]
    },
    {
     "cell_type": "code",
     "collapsed": false,
     "input": [
      "#example 6.4\n",
      "\n",
      "import math\n",
      "Cc=0.28;\n",
      "Hc=18*12.0;\n",
      "e0=0.9;\n",
      "sigmao=11*100+40*(121.5-64)+18/2*(118-62.4); # in lb/ft^2\n",
      "H2=5+40+18.0;\n",
      "H1=5+40.0;\n",
      "qo=3567.0;\n",
      "#from table\n",
      "IaH2=0.21;\n",
      "IaH1=0.225;\n",
      "Dsigma=qo*((H2*IaH2-H1*IaH1)/(H2-H1))*4;\n",
      "Scp=Cc*Hc/(1+e0)*math.log10(sigmao/sigmao+Dsigma/sigmao);\n",
      "print round(Scp,2),\"is settlement in inches\"\n",
      "\n",
      "# The answers in the book are different due to approximation while here calculations are precise"
     ],
     "language": "python",
     "metadata": {},
     "outputs": [
      {
       "output_type": "stream",
       "stream": "stdout",
       "text": [
        "6.76 is settlement in inches\n"
       ]
      }
     ],
     "prompt_number": 9
    },
    {
     "cell_type": "heading",
     "level": 2,
     "metadata": {},
     "source": [
      "Ex6.5:Pg-296"
     ]
    },
    {
     "cell_type": "code",
     "collapsed": false,
     "input": [
      "#example 6.5\n",
      "import numpy\n",
      "P=['A','B','C','D','E','F','G','H','I','J','K','L','M','N'];#point\n",
      "k=1.2*numpy.ones(14);#Q/A\n",
      "x=[-38,-24, -12, 0, 12, 24, 38, 38, 24, 12, 0, -12, -24, -38];\n",
      "x1=numpy.zeros(14)\n",
      "for i in range(0,14):\n",
      "    x1[i]=0.0017*x[i];\n",
      "y=[48,48,48,48,48,48,48, -48, -48, -48, -48, -48, -48, -48];\n",
      "y1=numpy.zeros(14)\n",
      "for i in range(0,14):\n",
      "    y1[i]=-0.0011*y[i];\n",
      "print \"point\\t Q\\A (kip/ft**2)  x(ft)\\t 0.0017x(ft)\\t\\ty(ft)\\t \\t  0.0011y(ft)\\t  \\t  q(kip/ft**2)\\n\"\n",
      "q=numpy.zeros(14)\n",
      "for i in  range(0,14):\n",
      "    q[i]=1.2+x1[i]+y1[i];\n",
      "    print P[i],\"\\t \",k[i],\"\\t\\t \",x[i],\"\\t\\t\",round(x1[i],3),\"\\t\\t\",y[i],\"\\t \\t \",round(y1[i],3),\"\\t \\t \\t\",round(q[i],3),\"\\t\\t \\n \"\n",
      "\n",
      "print \"the soil pressure at all point is less than the given qallnet=1.5 kip/ft**2\"\n",
      "\n",
      "\n"
     ],
     "language": "python",
     "metadata": {},
     "outputs": [
      {
       "output_type": "stream",
       "stream": "stdout",
       "text": [
        "point\t Q\\A (kip/ft**2)  x(ft)\t 0.0017x(ft)\t\ty(ft)\t \t  0.0011y(ft)\t  \t  q(kip/ft**2)\n",
        "\n",
        "A \t  1.2 \t\t  -38 \t\t-0.065 \t\t48 \t \t  -0.053 \t \t \t1.083 \t\t \n",
        " \n",
        "B \t  1.2 \t\t  -24 \t\t-0.041 \t\t48 \t \t  -0.053 \t \t \t1.106 \t\t \n",
        " \n",
        "C \t  1.2 \t\t  -12 \t\t-0.02 \t\t48 \t \t  -0.053 \t \t \t1.127 \t\t \n",
        " \n",
        "D \t  1.2 \t\t  0 \t\t0.0 \t\t48 \t \t  -0.053 \t \t \t1.147 \t\t \n",
        " \n",
        "E \t  1.2 \t\t  12 \t\t0.02 \t\t48 \t \t  -0.053 \t \t \t1.168 \t\t \n",
        " \n",
        "F \t  1.2 \t\t  24 \t\t0.041 \t\t48 \t \t  -0.053 \t \t \t1.188 \t\t \n",
        " \n",
        "G \t  1.2 \t\t  38 \t\t0.065 \t\t48 \t \t  -0.053 \t \t \t1.212 \t\t \n",
        " \n",
        "H \t  1.2 \t\t  38 \t\t0.065 \t\t-48 \t \t  0.053 \t \t \t1.317 \t\t \n",
        " \n",
        "I \t  1.2 \t\t  24 \t\t0.041 \t\t-48 \t \t  0.053 \t \t \t1.294 \t\t \n",
        " \n",
        "J \t  1.2 \t\t  12 \t\t0.02 \t\t-48 \t \t  0.053 \t \t \t1.273 \t\t \n",
        " \n",
        "K \t  1.2 \t\t  0 \t\t0.0 \t\t-48 \t \t  0.053 \t \t \t1.253 \t\t \n",
        " \n",
        "L \t  1.2 \t\t  -12 \t\t-0.02 \t\t-48 \t \t  0.053 \t \t \t1.232 \t\t \n",
        " \n",
        "M \t  1.2 \t\t  -24 \t\t-0.041 \t\t-48 \t \t  0.053 \t \t \t1.212 \t\t \n",
        " \n",
        "N \t  1.2 \t\t  -38 \t\t-0.065 \t\t-48 \t \t  0.053 \t \t \t1.188 \t\t \n",
        " \n",
        "the soil pressure at all point is less than the given qallnet=1.5 kip/ft**2\n"
       ]
      }
     ],
     "prompt_number": 26
    },
    {
     "cell_type": "heading",
     "level": 2,
     "metadata": {},
     "source": [
      "Ex6.6:Pg-299"
     ]
    },
    {
     "cell_type": "code",
     "collapsed": false,
     "input": [
      "#example 6.6\n",
      "\n",
      "from scipy.optimize import fsolve\n",
      "#solving for d\n",
      "def f(d):\n",
      "    return (96+2*d)*d-2615.1\n",
      "[x]=fsolve(f,19);\n",
      "d1=x;\n",
      "def f(d):\n",
      "      return (96+4*d)*d-6046.4\n",
      "[x]=fsolve(f,28);\n",
      "d2=x;\n",
      "d=max(d2,d1);\n",
      "d=round(d)\n",
      "#now coming to design part\n",
      "h=d+3+1; #in inch\n",
      "print h,\"is total slab thickness in inches\"\n",
      "qa=1.082; # in kip/ft^2\n",
      "qb=1.106; # in kip/ft^2\n",
      "qm=1.212; # in kip/ft^2\n",
      "qn=1.188; # in kip/ft^2\n",
      "q1A=qa/2.0+qb/2.0;\n",
      "print round(q1A,3),\"is force in strip ABMN in kip/ft**2\"\n",
      "q2A=qm/2.0+qn/2.0;\n",
      "print  round(q2A,3),\"is force in strip ABMN in kip/ft**2\"\n",
      "q1=1.106/3+1.127/3+1.147/3;\n",
      "print  round(q1,3),\"is force in strip BCDKLM in kip/ft**2\"\n",
      "q2=1.253/3+1.233/3+1.212/3;\n",
      "print  round(q2,3),\"is force in strip BCDKLM in kip/ft**2\"\n",
      "q1=1.147/3+1.167/3+1.188/3;\n",
      "print  round(q1,3),\"is force in strip DEFIJK in kip/ft**2\"\n",
      "q2=1.294/3+1.273/3+1.253/3;\n",
      "print  round(q2,3),\"is force in strip DEFIJK in kip/ft**2\"\n",
      "q1=1.188/2+1.212/2;\n",
      "print  round(q1,3),\"is force in strip FGHI in kip/ft**2\"\n",
      "q2=1.318/2+1.294/2;\n",
      "print  round(q2,3),\" is force in strip FGHI in kip/ft**2\"\n",
      "#checking for force\n",
      "#net soil reaction <load \n",
      "netforce=1/2.0*(1.094+1.2)*14*96+1/2.0*(1.127+1.233)*24*96+1/2.0*(1.167+1.273)*24*96+1/2.0*(1.2+1.306)*14*96;\n",
      "if netforce<8761 :\n",
      "    print \"forces generated is OK\"\n",
      "\n",
      "#checking for reinforcement requirement\n",
      "Q1=1.4*180+1.7*120;\n",
      "Q2=1.4*360+1.7*200;\n",
      "Q3=1.4*400+1.7*240;\n",
      "Q4=1.4*180+1.7*120;\n",
      "#solving for a\n",
      "def f(a):\n",
      "    return 0.9*0.51*a*60*(29-a/2)-95.05*12\n",
      "[x]=fsolve(f,1.4);\n",
      "a=x;\n",
      "As=0.51*a\n",
      "fy=60000;\n",
      "print round(As,2),\"is required area in in**2\"\n",
      "Asmin=200.0/fy*12*29;\n",
      "print Asmin,\" is minimum reinforcement required in**2/ft\"\n",
      "print \"use No 9 bars at 10 inch centre to centre\"\n",
      "\n"
     ],
     "language": "python",
     "metadata": {},
     "outputs": [
      {
       "output_type": "stream",
       "stream": "stdout",
       "text": [
        "33.0 is total slab thickness in inches\n",
        "1.094 is force in strip ABMN in kip/ft**2\n",
        "1.2 is force in strip ABMN in kip/ft**2\n",
        "1.127 is force in strip BCDKLM in kip/ft**2\n",
        "1.233 is force in strip BCDKLM in kip/ft**2\n",
        "1.167 is force in strip DEFIJK in kip/ft**2\n",
        "1.273 is force in strip DEFIJK in kip/ft**2\n",
        "1.2 is force in strip FGHI in kip/ft**2\n",
        "1.306  is force in strip FGHI in kip/ft**2\n",
        "forces generated is OK\n",
        "0.75 is required area in in**2\n",
        "1.16  is minimum reinforcement required in**2/ft\n",
        "use No 9 bars at 10 inch centre to centre\n"
       ]
      }
     ],
     "prompt_number": 32
    }
   ],
   "metadata": {}
  }
 ]
}