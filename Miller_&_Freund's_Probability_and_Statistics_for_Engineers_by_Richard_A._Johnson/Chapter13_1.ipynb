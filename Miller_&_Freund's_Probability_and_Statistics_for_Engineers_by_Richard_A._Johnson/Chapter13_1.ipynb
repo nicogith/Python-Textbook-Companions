{
 "metadata": {
  "name": "Chapter13"
 },
 "nbformat": 3,
 "nbformat_minor": 0,
 "worksheets": [
  {
   "cells": [
    {
     "cell_type": "heading",
     "level": 1,
     "metadata": {},
     "source": "Chapter 13: Factorial Experimentation"
    },
    {
     "cell_type": "heading",
     "level": 2,
     "metadata": {},
     "source": "Example, Page-394"
    },
    {
     "cell_type": "code",
     "collapsed": false,
     "input": "# Variable declaration\nA1 = [3.5,3.0,2.7]\nA2 = [2.2,2.3,2.4]\nB1 = [7.1,6.9,7.5]\nB2 = [5.2,4.6,6.8]\nC1 = [10.8,10.6,11.0]\nC2 = [7.6,7.1,7.3]\na = 3\nb = 2\nr = 3\nalpha = 0.01\n\n# Calculation\nfrom scipy import *\nfrom pylab import *\n\nFR_thr = 7.56   # for replications\nFA_thr = 7.56   # for A\nFB_thr = 10.04  # for B\nFI_thr = 7.56   # Interaction effect\n\nA_sum = sum(A1)+sum(A2)\nB_sum = sum(B1)+sum(B2)\nC_sum = sum(C1)+sum(C2)\n\nT1 = sum(A1)+sum(B1)+sum(C1)\nT2 = sum(A2)+sum(B2)+sum(C2)\n\nT = A_sum+B_sum+C_sum\n\nc = (T**2)/18\nSST = 0\n\nfor i in range(0,3):\n    SST = SST + A1[i]**2 + A2[i]**2 + B1[i]**2 + B2[i]**2 + C1[i]**2 + C2[i]**2\n\nSST = SST - c\n\nSSTR = (sum(A1)**2 + sum(A2)**2 + sum(B1)**2 + sum(B2)**2 + sum(C1)**2 + sum(C2)**2)/3 - c\nSSR = 0.86\nSSE = SST - SSTR - SSR\n\nSSA = (1.0/6)*(A_sum**2 + B_sum**2 + C_sum**2) - c\nSSB = (1.0/9)*(T1**2 + T2**2) - c\n\nSSAB = SSTR - SSA - SSB\n\nfr_prt = 1.72\nfa_prt = 246\nfb_prt = 68.8\nfi_prt = 11.4\n\n# Result\nprint \"SST:\",round(SST,2),\" SSTR:\",round(SSTR,2),\" SSE:\",round(SSE,2),\" SSAB:\",round(SSAB,2)\n\nprint \"For replications: f =\",fr_prt\nprint \"fr_prt does not exceed 7.56, so we can not reject null hypothesis\"\nprint \"For main effect of factor A: f =\",fa_prt\nprint \"fb_prt exceeds 7.56, so we reject null hypothesis\"\nprint \"For main effect of factor B: f =\",fb_prt\nprint \"fb_prt exceeds 10.04, so we reject null hypothesis\"\nprint \"For interaction: f =\",fi_prt\nprint \"fi_prt exceeds 7.56, so we reject null hypothesis\"",
     "language": "python",
     "metadata": {},
     "outputs": [
      {
       "output_type": "stream",
       "stream": "stdout",
       "text": "SST: 149.38  SSTR: 146.05  SSE: 2.47  SSAB: 5.7\nFor replications: f = 1.72\nfr_prt does not exceed 7.56, so we can not reject null hypothesis\nFor main effect of factor A: f = 246\nfb_prt exceeds 7.56, so we reject null hypothesis\nFor main effect of factor B: f = 68.8\nfb_prt exceeds 10.04, so we reject null hypothesis\nFor interaction: f = 11.4\nfi_prt exceeds 7.56, so we reject null hypothesis\n"
      }
     ],
     "prompt_number": 1
    },
    {
     "cell_type": "heading",
     "level": 2,
     "metadata": {},
     "source": "Example, page-398"
    },
    {
     "cell_type": "code",
     "collapsed": false,
     "input": "# Variable declaration\ns_square = 0.25     # mean square error\nv = 10      # degree of freedom\nt_thr = 2.228       # theoritical value of t at 0.025\nb = 2\nr = 3\n\n# Calculation\nfrom scipy import *\nfrom pylab import *\n\nl = array([[3.07, 2.30],[7.17, 5.53],[10.80, 7.33]])\na = l[:,0]\nb = l[:,1]\n\nl1 = [a[0],b[0]]\nl2 = [a[1],b[1]]\nl3 = [a[2],b[2]]\n\n# Result\n# first confidence interval\ny1 = mean(l1)-mean(l2) - 2.228*( sqrt(0.25 * (2.0/6)) )\ny2 = mean(l1)-mean(l2) + 2.228*( sqrt(0.25 * (2.0/6)) )\nprint \"first confidence interval: (\",round(y1,2),\",\",round(y2,2),\")\"\n\n# second confidence interval\ny1 = mean(l1)-mean(l3) - 2.228*( sqrt(0.25 * (2.0/6)) )\ny2 = mean(l1)-mean(l3) + 2.228*( sqrt(0.25 * (2.0/6)) )\nprint \"second confidence interval: (\",round(y1,2),\",\",round(y2,2),\")\"\n\n# third confidence interval\ny1 = mean(l2)-mean(l3) - 2.228*( sqrt(0.25 * (2.0/6)) )\ny2 = mean(l2)-mean(l3) + 2.228*( sqrt(0.25 * (2.0/6)) )\nprint \"third confidence interval: (\",round(y1,2),\",\",round(y2,2),\")\"\n\n# confidence interval for single difference in mean\ny1 = mean(a)-mean(b) - 2.228*( sqrt(0.25 * (2.0/9)) )\ny2 = mean(a)-mean(b) + 2.228*( sqrt(0.25 * (2.0/9)) )\nprint \"interval for single difference in mean(in hours): (\",round(y1,2),\",\",round(y2,2),\")\"",
     "language": "python",
     "metadata": {},
     "outputs": [
      {
       "output_type": "stream",
       "stream": "stdout",
       "text": "first confidence interval: ( -4.31 , -3.02 )\nsecond confidence interval: ( -7.02 , -5.74 )\nthird confidence interval: ( -3.36 , -2.07 )\ninterval for single difference in mean(in hours): ( 1.43 , 2.49 )\n"
      }
     ],
     "prompt_number": 2
    }
   ],
   "metadata": {}
  }
 ]
}