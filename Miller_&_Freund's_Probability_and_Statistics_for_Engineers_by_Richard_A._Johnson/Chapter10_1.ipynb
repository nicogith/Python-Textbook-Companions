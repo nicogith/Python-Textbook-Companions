{
 "metadata": {
  "name": "Chapter10"
 },
 "nbformat": 3,
 "nbformat_minor": 0,
 "worksheets": [
  {
   "cells": [
    {
     "cell_type": "heading",
     "level": 1,
     "metadata": {},
     "source": "Chapter 10: Inferences Concerning Proportions "
    },
    {
     "cell_type": "heading",
     "level": 2,
     "metadata": {},
     "source": "Example, Page-280"
    },
    {
     "cell_type": "code",
     "collapsed": false,
     "input": "# Variable declaration\nn = 100             # total person\nx = 36                 \nalpha = 0.05\n\n# Calculation\nfrom scipy import *\nfrom pylab import *\n\np = float(x) / n                # probability\nZ = 1.96                        # Z value corresponding to alpha/2\n\nval = Z*( sqrt( p*(1-p)/n ) )           \nlower = p - val\nupper = p + val\n\n# Result\nprint \"95% confidence interval: (\",round(lower,3),\",\",round(upper,3),\")\"",
     "language": "python",
     "metadata": {},
     "outputs": [
      {
       "output_type": "stream",
       "stream": "stdout",
       "text": "95% confidence interval: ( 0.266 , 0.454 )\n"
      }
     ],
     "prompt_number": 1
    },
    {
     "cell_type": "heading",
     "level": 2,
     "metadata": {},
     "source": "Example, page-281"
    },
    {
     "cell_type": "code",
     "collapsed": false,
     "input": "# Variable declaration\nn = 400                         # total person\nx = 136                         # number of person answering yes\n\n# Calculation\nfrom scipy import *\nfrom pylab import *\n\np = float(x) / n                            # probability\nZ = 2.575                                   # Z value corresponding to alpha/2\n\nmax_err = Z*( sqrt( p*(1-p)/n ) )           # maximum error\nmax_err = round(max_err,3)\n\n# Result\nprint \"Maximum error with 99% confidence interval: \",max_err",
     "language": "python",
     "metadata": {},
     "outputs": [
      {
       "output_type": "stream",
       "stream": "stdout",
       "text": "Maximum error with 99% confidence interval:  0.061\n"
      }
     ],
     "prompt_number": 2
    },
    {
     "cell_type": "heading",
     "level": 2,
     "metadata": {},
     "source": "Example, Page-282"
    },
    {
     "cell_type": "code",
     "collapsed": false,
     "input": "# Variable declaration\nE = 0.04            # Maximum Error\nalpha = 0.05\nZ = 1.96            # Z value corresponding to alpha/2\n\n# Calculation\nfrom scipy import *\nfrom pylab import *\n\n# Part-A\nn1 = pow((Z/E),2)/4              # Sample size\nn1 = int(math.ceil(n1))\n\n# Part-B\np = 0.12\nn2 = pow((Z/E),2)*p*(1-p)              # Sample size\nn2 = int(math.ceil(n2))\n\n# Result\nprint \"Part(A): sample size:\",n1\nprint \"Part(B): sample size:\",n2",
     "language": "python",
     "metadata": {},
     "outputs": [
      {
       "output_type": "stream",
       "stream": "stdout",
       "text": "Part(A): sample size: 601\nPart(B): sample size: 254\n"
      }
     ],
     "prompt_number": 3
    },
    {
     "cell_type": "heading",
     "level": 2,
     "metadata": {},
     "source": "Example, Page-284"
    },
    {
     "cell_type": "code",
     "collapsed": false,
     "input": "# Variable declaration\nalpha = 0.05      # level of significance\nx = 48\nn = 60\np0 = 0.70\n\n# Calculation\nfrom scipy import *\nfrom pylab import *\n\n# null hypothesis: if p=0.70 , Alternative hypothesis if p>0.70\nZ_thr = 1.645                   # theoritical value of Z\n\nZ_prt = (x - n*p0)/ sqrt(n*p0*(1-p0))        # practical value of Z\nZ_prt = round(Z_prt,3)\n\n# Result\nprint \"Practical Z value: \",Z_prt\nif(Z_thr > Z_prt):\n    print \"null hypothesis can not be rejected\"\n    print \"Proportion of good transceivers is not greater than 0.70\"\nelse:\n    print \"null hypothesis must be rejected\"\n    print \"Proportion of good transceivers is greater than 0.70\"",
     "language": "python",
     "metadata": {},
     "outputs": [
      {
       "output_type": "stream",
       "stream": "stdout",
       "text": "Practical Z value:  1.69\nnull hypothesis must be rejected\nProportion of good transceivers is greater than 0.70\n"
      }
     ],
     "prompt_number": 4
    },
    {
     "cell_type": "heading",
     "level": 2,
     "metadata": {},
     "source": "Example, page-286"
    },
    {
     "cell_type": "code",
     "collapsed": false,
     "input": "# Variable declaration\nalpha = 0.05      # level of significance\n\n# Calculation\nfrom scipy import *\nfrom pylab import *\n\nchi_sq_thr = 5.991                      # theoritical value of chi square at alpha = 0.05 with v = 2\n\nl = array([[41,27,22],[79,53,78]])\n\ncrum = l[0,0:3]                         # list of crumbled\nrem_int = l[1,0:3 ]                     # list of remained intact\n\ne11 = sum(crum)*sum(l[0:2,0]) / (sum(crum)+sum(rem_int))\ne12 = sum(crum)*sum(l[0:2,1]) / (sum(crum)+sum(rem_int))\ne13 = sum(crum)*sum(l[0:2,2]) / (sum(crum)+sum(rem_int))\ne21 = sum(rem_int)*sum(l[0:2,0]) / (sum(crum)+sum(rem_int))\ne22 = sum(rem_int)*sum(l[0:2,1]) / (sum(crum)+sum(rem_int))\ne23 = sum(rem_int)*sum(l[0:2,2]) / (sum(crum)+sum(rem_int))\n\nq = [e11,e12,e13,e21,e22,e23]                            # list of expected frequency\np = [41,27,22,79,53,78]                                  # list of entries\n\nchi_sq_prt = 0\n\nfor i in range(0,6):\n    chi_sq_prt = chi_sq_prt + pow( p[i]-q[i] ,2.0) / q[i]\n    \n\n\nchi_sq_prt = round(chi_sq_prt,3)                         # practical value of chi square\n\n# Result\nprint \"Practical chi square value: \",chi_sq_prt\nif(chi_sq_thr > chi_sq_prt):\n    print \"null hypothesis can not be rejected\"\n    print \"data don't refute to hypothesis\"\nelse:\n    print \"null hypothesis must be rejected\"\n    print \"data refute to hypothesis\"",
     "language": "python",
     "metadata": {},
     "outputs": [
      {
       "output_type": "stream",
       "stream": "stdout",
       "text": "Practical chi square value:  4.575\nnull hypothesis can not be rejected\ndata don't refute to hypothesis\n"
      }
     ],
     "prompt_number": 5
    },
    {
     "cell_type": "heading",
     "level": 2,
     "metadata": {},
     "source": "Example, page-287"
    },
    {
     "cell_type": "code",
     "collapsed": false,
     "input": "# Variable declaration\nalpha = 0.05                           # level of significance\nsemi = []\nfailures = []\n\n# Calculation\nfrom scipy import *\nfrom pylab import *\n%matplotlib inline\n\n# null hypothesis: if p1=p2=p3=p4 , Alternative hypothesis if p1,p2,p3,p4 all are not equal\n\nchi_sq_thr = 7.815                     # theoritical value of chi square at alpha = 0.05 with v = 3\n\nl = array([[31,42,22,25],[19,8,28,25]])\n\nsemi = l[0,0:4]         # list of semiconductors\nfailures = l[1,0:4]     # list of failures\n\ne11 = sum(semi)*sum(l[0:2,0]) / float(sum(semi)+sum(failures))\ne12 = sum(semi)*sum(l[0:2,1]) / float(sum(semi)+sum(failures))\ne13 = sum(semi)*sum(l[0:2,2]) / float(sum(semi)+sum(failures))\ne14 = sum(semi)*sum(l[0:2,3]) / float(sum(semi)+sum(failures))\ne21 = sum(failures)*sum(l[0:2,0]) / float(sum(semi)+sum(failures))\ne22 = sum(failures)*sum(l[0:2,1]) / float(sum(semi)+sum(failures))\ne23 = sum(failures)*sum(l[0:2,2]) / float(sum(semi)+sum(failures))\ne24 = sum(failures)*sum(l[0:2,3]) / float(sum(semi)+sum(failures))\n\nq = [e11,e12,e13,e14,e21,e22,e23,e24]  # list of expected frequency\np = [31,42,22,25,19,8,28,25]           # list of entries\n\nchi_sq_prt = 0\n\nfor i in range(0,8):\n    chi_sq_prt = chi_sq_prt + pow( p[i]-q[i] ,2) / q[i]\n\n# Result\nprint \"Practical chi square value: \",chi_sq_prt\nif(chi_sq_thr > chi_sq_prt):\n    print \"null hypothesis can not be rejected\"\n    print \"data dont refute to hypothesis\"\nelse:\n    print \"null hypothesis must be rejected\"\n    print \"data refute to hypothesis\"\n\na1 = [0.62,0.84,0.44,0.50]\na2 = [1.0,1.1,1.2,1.3]\nerr1 = [0.13,0.10,0.14,0.14]\nerr2 = [0,0,0,0]\nylim(0.9,1.5)\n\nerrorbar(a1,a2,xerr=err1,yerr=err2,fmt='bo')\ntitle(\"Confidence intervals\")",
     "language": "python",
     "metadata": {},
     "outputs": [
      {
       "output_type": "stream",
       "stream": "stdout",
       "text": "Practical chi square value:  19.5\nnull hypothesis must be rejected\ndata refute to hypothesis\n"
      },
      {
       "metadata": {},
       "output_type": "pyout",
       "prompt_number": 6,
       "text": "<matplotlib.text.Text at 0x831eac8>"
      },
      {
       "metadata": {},
       "output_type": "display_data",
       "png": "[encoded data removed]",
       "text": "<matplotlib.figure.Figure at 0x8303320>"
      }
     ],
     "prompt_number": 6
    },
    {
     "cell_type": "heading",
     "level": 2,
     "metadata": {},
     "source": "Example, Page-289"
    },
    {
     "cell_type": "code",
     "collapsed": false,
     "input": "# Variable declaration\nn1 = 200             # sample-1 size\nn2 = 400             # sample-2 size\nx1 = 16\nx2 = 14\nalpha = 0.01         # level of significance\n\nZ_thr = 2.33             # Z value\n\n# Calculation\nfrom scipy import *\nfrom pylab import *\n\np = (x1+x2)/float(n1+n2)\n\nZ_prt = (x1/float(n1) - x2/float(n2)) / (sqrt( (p*(1-p))*(1.0/n1 + 1.0/n2)))        # Lower limit\n\nZ_prt = round(Z_prt,2)\n\n# Result\nprint \"Practical Z value: \",Z_prt\nif(Z_thr > Z_prt):\n    print \"null hypothesis can not be rejected\"\n    print \"Proportion of tractors is greater for first.\"\nelse:\n    print \"null hypothesis must be rejected\"\n    print \"Proportion of tractors is greater for first.\"",
     "language": "python",
     "metadata": {},
     "outputs": [
      {
       "output_type": "stream",
       "stream": "stdout",
       "text": "Practical Z value:  2.38\nnull hypothesis must be rejected\nProportion of tractors is greater for first.\n"
      }
     ],
     "prompt_number": 7
    },
    {
     "cell_type": "heading",
     "level": 2,
     "metadata": {},
     "source": "Example, page-290"
    },
    {
     "cell_type": "code",
     "collapsed": false,
     "input": "# Variable declaration\nn1 = 200             # sample-1 size\nn2 = 400             # sample-2 size\np1 = 16.0/200\np2 = 14.0/400\nalpha = 0.01         # level of significance\n\nZ = 1.96             # Z value at alpha/2\n\n# Calculation\nfrom scipy import *\nfrom pylab import *\n\n# we need to find confidence interval for p1-p2\ny1 = (p1-p2) - (Z* (sqrt( (p1*(1-p1))/n1 + (p2*(1-p2))/n2 )))        # Lower limit\ny2 = (p1-p2) + (Z* (sqrt( (p1*(1-p1))/n1 + (p2*(1-p2))/n2 )))        # Upper limit\n\ny1 = round(y1,3)\ny2 = round(y2,3)\n\n# Result\nprint \"95% confidence interval for (p1-p2) : ( \",y1,\",\",y2,\")\"",
     "language": "python",
     "metadata": {},
     "outputs": [
      {
       "output_type": "stream",
       "stream": "stdout",
       "text": "95% confidence interval for (p1-p2) : (  0.003 , 0.087 )\n"
      }
     ],
     "prompt_number": 8
    },
    {
     "cell_type": "heading",
     "level": 2,
     "metadata": {},
     "source": "Example, Page-292"
    },
    {
     "cell_type": "code",
     "collapsed": false,
     "input": "# Variable declaration\nl = array([[78,56,54],[15,30,31],[7,14,15]])\n\n# Calculation\nfrom scipy import *\nfrom pylab import *\n\nr1 = l[0,0:3]                         \nr2 = l[1,0:3 ]                     \nr3 = l[2,0:3 ]                     \n\ne11 = sum(r1)*sum(l[0:3,0]) / float(sum(r1)+sum(r2)+sum(r3))\ne12 = sum(r1)*sum(l[0:3,1]) / float(sum(r1)+sum(r2)+sum(r3))\ne13 = sum(r1)*sum(l[0:3,2]) / float(sum(r1)+sum(r2)+sum(r3))\ne21 = sum(r2)*sum(l[0:3,0]) / float(sum(r1)+sum(r2)+sum(r3))\ne22 = sum(r2)*sum(l[0:3,1]) / float(sum(r1)+sum(r2)+sum(r3))\ne23 = sum(r2)*sum(l[0:3,2]) / float(sum(r1)+sum(r2)+sum(r3))\ne31 = sum(r3)*sum(l[0:3,0]) / float(sum(r1)+sum(r2)+sum(r3))\ne32 = sum(r3)*sum(l[0:3,1]) / float(sum(r1)+sum(r2)+sum(r3))\ne33 = sum(r3)*sum(l[0:3,2]) / float(sum(r1)+sum(r2)+sum(r3))\n\n\nq = [e11,e12,e13,e21,e22,e23,e31,e32,e33]                # list of expected frequency\n\nfor i in range(0,9):\n    q[i] = round(q[i],2)\n# Result\nprint q",
     "language": "python",
     "metadata": {},
     "outputs": [
      {
       "output_type": "stream",
       "stream": "stdout",
       "text": "[62.67, 62.67, 62.67, 25.33, 25.33, 25.33, 12.0, 12.0, 12.0]\n"
      }
     ],
     "prompt_number": 9
    },
    {
     "cell_type": "heading",
     "level": 2,
     "metadata": {},
     "source": "Example, Page-294"
    },
    {
     "cell_type": "code",
     "collapsed": false,
     "input": "# Variable declaration\nl = array([[23,60,29],[28,79,60],[9,49,63]])\nalpha = 0.01\nn = 400\nchi_sq_thr = 13.277   \n\n# Calculation\nfrom scipy import *\nfrom pylab import *\n\nr1 = l[0,0:3]                         \nr2 = l[1,0:3 ]                     \nr3 = l[2,0:3 ]                     \n\ne11 = sum(r1)*sum(l[0:3,0]) / float(n)\ne12 = sum(r1)*sum(l[0:3,1]) / float(n)\ne13 = sum(r1)*sum(l[0:3,2]) / float(n)\ne21 = sum(r2)*sum(l[0:3,0]) / float(n)\ne22 = sum(r2)*sum(l[0:3,1]) / float(n)\ne23 = sum(r2)*sum(l[0:3,2]) / float(n)\ne31 = sum(r3)*sum(l[0:3,0]) / float(n)\ne32 = sum(r3)*sum(l[0:3,1]) / float(n)\ne33 = sum(r3)*sum(l[0:3,2]) / float(n)\n\n\nq = [e11,e12,e13,e21,e22,e23,e31,e32,e33]  # list of expected frequency\np = [23,60,29,28,79,60,9,49,63]            # list of entries\n\nchi_sq_prt = 0\n\nfor i in range(0,9):\n    chi_sq_prt = chi_sq_prt + pow( p[i]-q[i] ,2) / q[i]\n\n# Result\nprint \"Practical chi square value: \",round(chi_sq_prt,3)\nif(chi_sq_thr > chi_sq_prt):\n    print \"null hypothesis can not be rejected\"\n    print \"Dependency between performance & success\"\nelse:\n    print \"null hypothesis must be rejected\"\n    print \"Dependency between performance & success\"",
     "language": "python",
     "metadata": {},
     "outputs": [
      {
       "output_type": "stream",
       "stream": "stdout",
       "text": "Practical chi square value:  20.179\nnull hypothesis must be rejected\nDependency between performance & success\n"
      }
     ],
     "prompt_number": 10
    },
    {
     "cell_type": "heading",
     "level": 2,
     "metadata": {},
     "source": "Example, page-295"
    },
    {
     "cell_type": "code",
     "collapsed": false,
     "input": "# Variable declaration\nl = array([[23,60,29],[28,79,60],[9,49,63]])\nalpha = 0.01\nn = 400\nchi_sq_thr = 13.277   \n\n# Calculation\nfrom scipy import *\nfrom pylab import *\n\nr1 = l[0,0:3]                         \nr2 = l[1,0:3 ]                     \nr3 = l[2,0:3 ]                     \n\ne11 = sum(r1)*sum(l[0:3,0]) / float(n)\ne12 = sum(r1)*sum(l[0:3,1]) / float(n)\ne13 = sum(r1)*sum(l[0:3,2]) / float(n)\ne21 = sum(r2)*sum(l[0:3,0]) / float(n)\ne22 = sum(r2)*sum(l[0:3,1]) / float(n)\ne23 = sum(r2)*sum(l[0:3,2]) / float(n)\ne31 = sum(r3)*sum(l[0:3,0]) / float(n)\ne32 = sum(r3)*sum(l[0:3,1]) / float(n)\ne33 = sum(r3)*sum(l[0:3,2]) / float(n)\n\n\nq = [e11,e12,e13,e21,e22,e23,e31,e32,e33]  # list of expected frequency\np = [23,60,29,28,79,60,9,49,63]            # list of entries\nr = []\nchi_sq_prt = 0\n\nfor i in range(0,9):\n    r.append(round(pow( p[i]-q[i] ,2) / q[i],3))\n\n# Result\nprint r",
     "language": "python",
     "metadata": {},
     "outputs": [
      {
       "output_type": "stream",
       "stream": "stdout",
       "text": "[2.288, 1.029, 4.32, 0.347, 0.003, 0.189, 4.613, 1.089, 6.3]\n"
      }
     ],
     "prompt_number": 11
    },
    {
     "cell_type": "heading",
     "level": 2,
     "metadata": {},
     "source": "Example, Page-296"
    },
    {
     "cell_type": "code",
     "collapsed": false,
     "input": "# Variable declaration\nalpha = 0.05\nn = 400\nchi_sq_thr = 16.919   \n\n# Calculation\nfrom scipy import *\nfrom pylab import *\n\nq = [22.4,42.8,65.2,74.8,69.2,52.8,34.8,20.0,10.0,8.0]  # list of expected frequency\np = [18,47,76,68,74,46,39,15,9,8]            # list of entries\n\nchi_sq_prt = 0\n\nfor i in range(0,10):\n    chi_sq_prt = chi_sq_prt + pow( p[i]-q[i] ,2) / q[i]\n\n# Result\nprint \"Practical chi square value: \",round(chi_sq_prt,3)\nif(chi_sq_thr > chi_sq_prt):\n    print \"null hypothesis can not be rejected\"\n    print \"Poisson distribution provides a good fit at level alphha=0.05\"\nelse:\n    print \"null hypothesis must be rejected\"\n    print \"Poisson distribution does not provide a good fit at level alphha=0.05\"",
     "language": "python",
     "metadata": {},
     "outputs": [
      {
       "output_type": "stream",
       "stream": "stdout",
       "text": "Practical chi square value:  6.749\nnull hypothesis can not be rejected\nPoisson distribution provides a good fit at level alphha=0.05\n"
      }
     ],
     "prompt_number": 12
    }
   ],
   "metadata": {}
  }
 ]
}