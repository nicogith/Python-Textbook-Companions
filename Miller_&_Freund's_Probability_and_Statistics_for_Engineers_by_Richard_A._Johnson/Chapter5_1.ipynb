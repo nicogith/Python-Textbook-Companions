{
 "metadata": {
  "name": "Chapter5"
 },
 "nbformat": 3,
 "nbformat_minor": 0,
 "worksheets": [
  {
   "cells": [
    {
     "cell_type": "heading",
     "level": 1,
     "metadata": {},
     "source": "Chapter 5: Probability Densities"
    },
    {
     "cell_type": "heading",
     "level": 2,
     "metadata": {},
     "source": "Example, page-122"
    },
    {
     "cell_type": "code",
     "collapsed": false,
     "input": "#Variable Declaration\n\n#Calculation\nfrom scipy import *\nfrom pylab import *\nfrom scipy.integrate import *\n\n# between 1 and 3\nresult = quad(lambda x: 2*pow(e,-2*x), 1, 3)         # probability for 1 < x < 3\nresult=round(result[0],3)\n\n# greater than 0.5\nresult1 = quad(lambda x: 2*pow(e,-2*x), 0.5, +inf)   # probability for 0.5 < x < +inf\nresult1 = round(result1[0],3)\n\n# Result\nprint \"probability of x to lie between 1 and 3 is: \",result\nprint \"probability of x to be greater than 0.5 is: \",result1",
     "language": "python",
     "metadata": {},
     "outputs": [
      {
       "output_type": "stream",
       "stream": "stdout",
       "text": "probability of x to lie between 1 and 3 is:  0.133\nprobability of x to be greater than 0.5 is:  0.368\n"
      }
     ],
     "prompt_number": 1
    },
    {
     "cell_type": "heading",
     "level": 2,
     "metadata": {},
     "source": "Example, page-123"
    },
    {
     "cell_type": "code",
     "collapsed": false,
     "input": "# Calculation\nfrom scipy import *\nfrom pylab import *\nfrom scipy.integrate import *\n\n# x<=1\nresult = array(quad(lambda x: 0, -inf, 0)) + array(quad(lambda x: 2*pow(e,-2*x), 0, 1))    # probability for -inf < x <= 1\nresult = round(result[0],3)\n\n# Result\nprint \"probability of x less than or equal to 1 is: \",result",
     "language": "python",
     "metadata": {},
     "outputs": [
      {
       "output_type": "stream",
       "stream": "stdout",
       "text": "probability of x less than or equal to 1 is:  0.865\n"
      }
     ],
     "prompt_number": 2
    },
    {
     "cell_type": "heading",
     "level": 2,
     "metadata": {},
     "source": "Example, Page-124"
    },
    {
     "cell_type": "code",
     "collapsed": false,
     "input": "#Variable Declaration\n\n#Calculation\nfrom scipy import *\nfrom pylab import *\nfrom scipy.integrate import *\n\n# between 1 and 3\nresult = quad(lambda x: x*2*pow(e,-2*x), 0, +inf)         # probability for 1 < x < 3\nresult=round(result[0],3)\n\n# greater than 0.5\nresult1 = quad(lambda x: pow((x-result),2)*2*pow(e,-2*x), 0, +inf)   # probability for 0.5 < x < +inf\nresult1 = round(result1[0],3)\n\n# Result\nprint \"Mean: \",result\nprint \"Variance: \",result1",
     "language": "python",
     "metadata": {},
     "outputs": [
      {
       "output_type": "stream",
       "stream": "stdout",
       "text": "Mean:  0.5\nVariance:  0.25\n"
      }
     ],
     "prompt_number": 3
    },
    {
     "cell_type": "heading",
     "level": 2,
     "metadata": {},
     "source": "Example, page-126"
    },
    {
     "cell_type": "code",
     "collapsed": false,
     "input": "# Variable Declaration \n\n# Calculation\nfrom scipy import *\nfrom pylab import *\n\n# (A) between 0.87 and 1.28\n# p1 = p( at 1.28 ) - p( at 0.87 )\np1 = 0.8997 - 0.8078              # probability between 0.87 and 1.28\np1 = round(p1,4)\n\n# (B) between -0.34 and 0.62\n# p2 = p( at 0.62 ) - p( at -0.34 )\np2 = 0.7324 - 0.3669              # probability between -0.34 and 0.62\np2 = round(p2,4)\n \n# (C) greater than 0.85\n# p3 = 1 - p( at 0.85 )\np3 = 1 - 0.8023                   # probability greater than 0.85\np3 = round(p3,4)\n \n# (D) greater than -0.65\n# p4 = 1 - p( at -0.65 )\np4 = 1 - 0.2578                   # probability greater than -0.65\np4 = round(p4,4)\n\n# Result\nprint \"probability 0.87<x1.28 : \",p1\nprint \"probability -0.34<x<0.62 : \",p2\nprint \"probability x>0.85 : \",p3\nprint \"probability x> (-0.65) : \",p4",
     "language": "python",
     "metadata": {},
     "outputs": [
      {
       "output_type": "stream",
       "stream": "stdout",
       "text": "probability 0.87<x1.28 :  0.0919\nprobability -0.34<x<0.62 :  0.3655\nprobability x>0.85 :  0.1977\nprobability x> (-0.65) :  0.7422\n"
      }
     ],
     "prompt_number": 4
    },
    {
     "cell_type": "heading",
     "level": 2,
     "metadata": {},
     "source": "Example, Page-128"
    },
    {
     "cell_type": "code",
     "collapsed": false,
     "input": "# Variable declaration\n\n# Calculation\nfrom scipy import *\nfrom pylab import *\n\n# as we know F(z:0.01) = 0.99 & closest to the value 0.99 i.e. 0.9901 so z = 2.33\n# as we know F(z:0.05) = 0.95 & closest to the value 0.95 i.e. 0.9495 & 0.9505 so z = (1.64+1.65)/2\n\n# Result\nprint \"Part(a): \",2.33\nprint \"Part(b): \",(1.64+1.65)/2",
     "language": "python",
     "metadata": {},
     "outputs": [
      {
       "output_type": "stream",
       "stream": "stdout",
       "text": "Part(a):  2.33\nPart(b):  1.645\n"
      }
     ],
     "prompt_number": 5
    },
    {
     "cell_type": "heading",
     "level": 2,
     "metadata": {},
     "source": "Example, Page-129"
    },
    {
     "cell_type": "code",
     "collapsed": false,
     "input": "# Variable declaration\nMean = 10.1      # dB\nstd_dev = 2.7    # dB\n\n# Calculation\nfrom scipy import *\nfrom pylab import *\n\n# Part(a)\nLower = (8.5-Mean)/std_dev \nUpper = (13.0-Mean)/std_dev\n\n# We need to calculate F- Value for lower & Upper values.\n# F(1.07) = 0.8577 & F(-0.59) = 0.2776\n\n# Part(b)\nval = 1 - 0.9678   # 1 - F(1.85)\n# Result\nprint \"Part(a): \",(0.8577-0.2776)\nprint \"Part(b): \",(0.8577-0.2776)\nprint \"Part(c): \",(1-0.9678)",
     "language": "python",
     "metadata": {},
     "outputs": [
      {
       "output_type": "stream",
       "stream": "stdout",
       "text": "Part(a):  0.5801\nPart(b):  0.5801\nPart(c):  0.0322\n"
      }
     ],
     "prompt_number": 6
    },
    {
     "cell_type": "heading",
     "level": 2,
     "metadata": {},
     "source": "Example, page-130"
    },
    {
     "cell_type": "code",
     "collapsed": false,
     "input": "# Variable declaration\nstd_dev = 0.04      #standard deviation\nx = 4               # number of ounces\np = 0.02            # probability of x <4\n\n# Calculation\nfrom scipy import *\nfrom pylab import *\n\n# as we know p = (x-Mean)/std_dev\n# from Table-3 (page-514) we find closest value to 0.02 which is 0.0202 corresponding to Z = -2.05\nMean = 4 - (-2.05*0.04)            # from z=(x-mean)/std_dev\nMean=round(Mean,3)\n\n# Result\nprint \"Mean of given distribution: \",Mean,\"ounces\"",
     "language": "python",
     "metadata": {},
     "outputs": [
      {
       "output_type": "stream",
       "stream": "stdout",
       "text": "Mean of given distribution:  4.082 ounces\n"
      }
     ],
     "prompt_number": 7
    },
    {
     "cell_type": "heading",
     "level": 2,
     "metadata": {},
     "source": "Example, Page-130"
    },
    {
     "cell_type": "code",
     "collapsed": false,
     "input": "# Variable declaration\nMean = -4.6\nvariance = 1.21 \nx = 0.0015   # oz/st gold\n\n# Calculation\nfrom scipy import *\nfrom pylab import *\n\nLower = (math.log(x,e)-Mean)/sqrt(variance)\n\n# We need to calculate F- Value for lower i.e. F(-1.73) to be find out.\n# Using table F(-1.73) = 0.0419\n# As F-value is too small \n\n# Result\nprint \"Specimen was collected outside of vein.\"",
     "language": "python",
     "metadata": {},
     "outputs": [
      {
       "output_type": "stream",
       "stream": "stdout",
       "text": "Specimen was collected outside of vein.\n"
      }
     ],
     "prompt_number": 8
    },
    {
     "cell_type": "heading",
     "level": 2,
     "metadata": {},
     "source": "Example, Page-131"
    },
    {
     "cell_type": "code",
     "collapsed": false,
     "input": "# Variable declaration\nMean = 11.6\nstd_dev = 3.3 \n\n# Calculation\nfrom scipy import *\nfrom pylab import *\n\nLower = 7.5   # corresponding to outages = 8 -> 7.5 to 8.5 thus atleast = 7.5\n\nindex = (Lower-Mean)/std_dev\nF = 0.1075     # F value for F(index) i.e. F(-1.24) = 0.1075\n\n# Result\nprint \"Desired probability: \",1-F",
     "language": "python",
     "metadata": {},
     "outputs": [
      {
       "output_type": "stream",
       "stream": "stdout",
       "text": "Desired probability:  0.8925\n"
      }
     ],
     "prompt_number": 9
    },
    {
     "cell_type": "heading",
     "level": 2,
     "metadata": {},
     "source": "Example, Page-132"
    },
    {
     "cell_type": "code",
     "collapsed": false,
     "input": "# Variable declaration\np = 0.2\nn = 100 \n\n# Calculation\nfrom scipy import *\nfrom pylab import *\n\nMean = n*p\nstd_dev = sqrt(n*p*(1-p))\n\nUpper = 15.5   # corresponding to chips = 15 -> 14.5 to 15.5 thus atmost = 15.5\nLower = 14.5\n\nin_upper = (Upper-Mean)/std_dev\nin_lower = (Lower-Mean)/std_dev\n\nf_upper = 0.1292     # F value for F(upper) i.e. F(-1.13) = 0.1292\nf_lower = 0.0838     # F value for F(upper) i.e. F(-1.38) = 0.0838\n\n# Result\nprint \"Part(A) Probability: \",f_upper\nprint \"Part(B) Probability: \",(f_upper-f_lower)",
     "language": "python",
     "metadata": {},
     "outputs": [
      {
       "output_type": "stream",
       "stream": "stdout",
       "text": "Part(A) Probability:  0.1292\nPart(B) Probability:  0.0454\n"
      }
     ],
     "prompt_number": 10
    },
    {
     "cell_type": "heading",
     "level": 2,
     "metadata": {},
     "source": "Example, page-137"
    },
    {
     "cell_type": "code",
     "collapsed": false,
     "input": "# Variable declaration\nalpha = 2               # mean of normal distribution\nbeta = 0.1              # standard deviation of normal distribution\n\n# Calculation\nfrom scipy import *\nfrom pylab import *\n\n# we need to find p(Io/Ii) = p( (ln(b)-alpha) / beta) - p( (ln(a)-alpha) / beta)\na = 6.1                                        # lower limit\nb = 8.2                                        # upper limit\n\nZ1 = (math.log(b) - alpha)/float(0.1)            # Z value correponding to upper limit\nZ2 = (math.log(a) - alpha)/float(0.1)            # Z value correponding to lower limit\n\np1 = 0.8413                                    # probability corresponding to Z1\np2 = 0.0274                                    # probability corresponding to Z2\np = round(p1 - p2,4)                           # Required probability\n\n# Result\nprint \" required probability: \",p",
     "language": "python",
     "metadata": {},
     "outputs": [
      {
       "output_type": "stream",
       "stream": "stdout",
       "text": " required probability:  0.8139\n"
      }
     ],
     "prompt_number": 11
    },
    {
     "cell_type": "heading",
     "level": 2,
     "metadata": {},
     "source": "Example, Page-138"
    },
    {
     "cell_type": "code",
     "collapsed": false,
     "input": "# Variable declaration\nMean = 4.0\nstd_dev = 0.3\n\n# Calculation\nfrom scipy import *\nfrom pylab import *\n\nval = 33\nindex = (val-Mean)/std_dev\n\nf = 0.0465     # F value for F(index) i.e. F(-1.68) = 0.9535\n\n# Result\nprint \"Probability: \",1-f",
     "language": "python",
     "metadata": {},
     "outputs": [
      {
       "output_type": "stream",
       "stream": "stdout",
       "text": "Probability:  0.9535\n"
      }
     ],
     "prompt_number": 12
    },
    {
     "cell_type": "heading",
     "level": 3,
     "metadata": {},
     "source": "Example, page-138"
    },
    {
     "cell_type": "code",
     "collapsed": false,
     "input": "# Variable declaration\nalpha = 2               # mean of normal distribtion\nbeta = 0.1              # standard deviation of normal distribution\n\n# Calculation\nfrom scipy import *\nfrom pylab import *\n\nMean = math.pow(e, 2.0 + math.pow(0.1,2.0)/2.0)                                        # mean of log normal distribution\nVariance = math.pow(e, 2*2.0 + math.pow(0.1,2.0)) * ( pow(e, pow(0.1,2.0)) -1.0)        # variance of log normal distribution\n\nVariance = round(Variance,2)\nMean = round(Mean,2)\n\n# Resultath.\nprint \" Mean: \",Mean\nprint \"Variance: \",Variance",
     "language": "python",
     "metadata": {},
     "outputs": [
      {
       "output_type": "stream",
       "stream": "stdout",
       "text": " Mean:  7.43\nVariance:  0.55\n"
      }
     ],
     "prompt_number": 13
    },
    {
     "cell_type": "heading",
     "level": 2,
     "metadata": {},
     "source": "Example, page-140"
    },
    {
     "cell_type": "code",
     "collapsed": false,
     "input": "# Variable declaration\nbeta = 0.25\n\n# Calculation\nfrom scipy import *\nfrom pylab import *\n%matplotlib inline\n\nx = array([0.894, 0.991, 0.261, 0.186, 0.311, 0.817, 2.267, 0.091, 0.139, 0.083, \n           0.235, 0.424, 0.216, 0.579, 0.429, 0.612, 0.143, 0.055, 0.752, 0.188,\n           0.071, 0.159, 0.082, 1.653, 2.010, 0.258, 0.527, 1.033, 2.863, 0.365,\n           0.459, 0.431, 0.092, 0.830, 1.718, 0.099, 0.162, 0.076, 0.107, 0.278,\n           0.100, 0.919, 0.900, 0.093, 0.041, 0.712, 0.994, 0.149, 0.866, 0.054])\nf=[]                                     # list of probability values corresponding to each x\nx1=[]\n\nfor i in range(0,50):\n    x1.append(x[i])\n\nx=x1\n\nfor each in x:\n    val = (1/0.25) * ( pow(e,-each/0.25) )\n    f.append(val)\n\n# Result\nscatter(x,f,c='r')\nbar(x,f,width=1.0,fill=False)\ntitle(\"$Exponential-density-function$\") \nxlabel(\"$decay-time(s)$\")\nylabel(\"$density$\")",
     "language": "python",
     "metadata": {},
     "outputs": [
      {
       "metadata": {},
       "output_type": "pyout",
       "prompt_number": 14,
       "text": "<matplotlib.text.Text at 0x8390860>"
      },
      {
       "metadata": {},
       "output_type": "display_data",
       "png": "[encoded data removed]",
       "text": "<matplotlib.figure.Figure at 0x8395eb8>"
      }
     ],
     "prompt_number": 14
    },
    {
     "cell_type": "heading",
     "level": 2,
     "metadata": {},
     "source": "Example, Page-141"
    },
    {
     "cell_type": "code",
     "collapsed": false,
     "input": "#Variable Declaration\nalpha = 3\nbeta = 1.0/3\n\n#Calculation\nfrom scipy import *\nfrom pylab import *\nfrom scipy.integrate import *\n\nresult = quad(lambda x: 3*pow(e,-3*x), 0, 1.0/12)\nresult=round(result[0],3)\n\nresult1 = quad(lambda x: 3*pow(e,-3*x), 3.0/4, +inf)   # probability for 0.5 < x < +inf\nresult1 = round(result1[0],3)\n\n# Result\nprint \"probability(Part A): \",result\nprint \"probability(Part B): \",result1",
     "language": "python",
     "metadata": {},
     "outputs": [
      {
       "output_type": "stream",
       "stream": "stdout",
       "text": "probability(Part A):  0.221\nprobability(Part B):  0.105\n"
      }
     ],
     "prompt_number": 15
    },
    {
     "cell_type": "heading",
     "level": 2,
     "metadata": {},
     "source": "Example, Page-141"
    },
    {
     "cell_type": "code",
     "collapsed": false,
     "input": "#Variable Declaration\nalpha = 3\nbeta = 2\n\n#Calculation\nfrom scipy import *\nfrom pylab import *\nfrom scipy.integrate import *\n\nMean = 3/float(3+2)\n\nx1 = math.gamma(3+2)\nx2 = math.gamma(3)\nx3 = math.gamma(2)\nresult = quad(lambda x: (x1/float(x2*x3))*(pow(x,float(2.0))*pow((1-x),float(1.0))), 0, 0.5)\nresult=round(result[0],3)\n\n# Result\nprint \"Part(A): \",Mean\nprint \"Part(B): \",result # i.e. 5/16",
     "language": "python",
     "metadata": {},
     "outputs": [
      {
       "output_type": "stream",
       "stream": "stdout",
       "text": "Part(A):  0.6\nPart(B):  0.313\n"
      }
     ],
     "prompt_number": 16
    },
    {
     "cell_type": "heading",
     "level": 2,
     "metadata": {},
     "source": "Example, page-143"
    },
    {
     "cell_type": "code",
     "collapsed": false,
     "input": "# Variable declaration\nalpha = 0.1                                                                                          # Mean of normal distribution\nbeta = 0.5\n\n# Calculation\nfrom scipy import *\nfrom pylab import *\nfrom scipy.integrate import *\n\nMean = pow(0.1,-1.0/0.5)* math.gamma(int(1+1/0.5))                                                  # Mean life\nMean = round(Mean,0)\nresult = quad(lambda x: 0.1*0.5*pow(x,-0.5)*pow(e,-0.1*pow(x,0.5)) , 300, +inf)     # probability of battery life > 300 hours\nresult = round(result[0],3)\n\n# Result\nprint \"Mean lifetime: \",int(Mean),\"hours\"\nprint \"probability of battery life > 300 hours: \",result",
     "language": "python",
     "metadata": {},
     "outputs": [
      {
       "output_type": "stream",
       "stream": "stdout",
       "text": "Mean lifetime:  200 hours\nprobability of battery life > 300 hours:  0.177\n"
      }
     ],
     "prompt_number": 17
    },
    {
     "cell_type": "heading",
     "level": 2,
     "metadata": {},
     "source": "Example, Page-145"
    },
    {
     "cell_type": "code",
     "collapsed": false,
     "input": "#Variable Declaration\nx = array([[0.1,0.4,0.1],[0.2,0.2,0]])\n\n#Calculation\nfrom scipy import *\nfrom pylab import *\n\np = x[0,2]+sum(x[1:2,1:3])\n\np0 = sum(x[0:2,0])  # for x1=0  \np1 = sum(x[0:2,1])  # for x1=1\np2 = sum(x[0:2,2])  # for x1=2\n\n\n# Result\nprint \"Part(A): \",p\nprint \"Part(B): P(x1=0):\",p0,\" P(x1=1):\",p1,\" P(x1=2):\",p2",
     "language": "python",
     "metadata": {},
     "outputs": [
      {
       "output_type": "stream",
       "stream": "stdout",
       "text": "Part(A):  0.3\nPart(B): P(x1=0): 0.3  P(x1=1): 0.6  P(x1=2): 0.1\n"
      }
     ],
     "prompt_number": 18
    },
    {
     "cell_type": "heading",
     "level": 2,
     "metadata": {},
     "source": "Example, Page-146"
    },
    {
     "cell_type": "code",
     "collapsed": false,
     "input": "#Variable Declaration\nx = array([[0.1,0.4,0.1],[0.2,0.2,0]])\n\n#Calculation\nfrom scipy import *\nfrom pylab import *\n\np1 = x[1,0]/sum(x[1,0:3])  # for x1=0 & x2=1  \np2 = x[1,1]/sum(x[1,0:3])  # for x1=1 & x2=1  \np3 = x[1,2]/sum(x[1,0:3])  # for x1=2 & x2=1  \n\n# Result\nprint \"P(0|1):\",p1,\" P(1|1):\",p2,\" P(2|1):\",p3\nprint \"As P(0|1) is not equal to P(0) (0.5!=0.3) i.e. X1 & X2 are dependent\" ",
     "language": "python",
     "metadata": {},
     "outputs": [
      {
       "output_type": "stream",
       "stream": "stdout",
       "text": "P(0|1): 0.5  P(1|1): 0.5  P(2|1): 0.0\nAs P(0|1) is not equal to P(0) (0.5!=0.3) i.e. X1 & X2 are dependent\n"
      }
     ],
     "prompt_number": 19
    },
    {
     "cell_type": "heading",
     "level": 2,
     "metadata": {},
     "source": "Example, page-148"
    },
    {
     "cell_type": "code",
     "collapsed": false,
     "input": "# Calculation\nfrom scipy import *\nfrom pylab import *\nfrom scipy.integrate import *\n\n# (A) x1 limit- (1,2)   x2 limit- (2,3)\np = dblquad(lambda x1, x2: 6*exp(-2*x1-3*x2), 2, 3, lambda x1: 1, lambda x1: 2)\np1 = round(p[0],4)\n\n# (B) x1 limit- (0,2)   x2 limit- (2,+inf)\np = dblquad(lambda x1, x2: 6*exp(-2*x1-3*x2), 2, +inf, lambda x1: 0, lambda x1: 2)\np2 = round(p[0],4)\n\n# Result\nprint \"P(1<x1<2 and 2<x2<3): \",p1\nprint \"P(0<x1<2 and 2<x2<+inf): \",p2",
     "language": "python",
     "metadata": {},
     "outputs": [
      {
       "output_type": "stream",
       "stream": "stdout",
       "text": "P(1<x1<2 and 2<x2<3):  0.0003\nP(0<x1<2 and 2<x2<+inf):  0.0024\n"
      }
     ],
     "prompt_number": 20
    },
    {
     "cell_type": "heading",
     "level": 2,
     "metadata": {},
     "source": "Example, Page-148"
    },
    {
     "cell_type": "code",
     "collapsed": false,
     "input": "# Calculation\nfrom scipy import *\nfrom pylab import *\nfrom scipy.integrate import *\n\n# (A) x1 limit- (0,1)   x2 limit- (0,1)\np1 = dblquad(lambda x1, x2: 6*exp(-2*x1-3*x2), 0, 1, lambda x2: 0, lambda x2: 1)\np = round(p1[0],4)\n\n# Result\nprint \"P(x1<1 and x2<1): \",p",
     "language": "python",
     "metadata": {},
     "outputs": [
      {
       "output_type": "stream",
       "stream": "stdout",
       "text": "P(x1<1 and x2<1):  0.8216\n"
      }
     ],
     "prompt_number": 21
    },
    {
     "cell_type": "heading",
     "level": 2,
     "metadata": {},
     "source": "Example, Page-152"
    },
    {
     "cell_type": "code",
     "collapsed": false,
     "input": "# Variable declaration\nMean = 10       # mean: kilowatt-hours\nstd_dev = 3     # standard deviation: kilowatt-hours\ncost = 20       # in $ per kilowatt-hours\n\n# Calculation\nfrom scipy import *\nfrom pylab import *\n\nm1 = Mean*cost\ns1 = std_dev*cost\nv1 = s1**2\n\n# Result\nprint \"Mean: \",m1,\"dollar\"\nprint \"Standard Deviation: \",s1,\"dollar\"\nprint \"Variance: \",v1,\"dollar\"",
     "language": "python",
     "metadata": {},
     "outputs": [
      {
       "output_type": "stream",
       "stream": "stdout",
       "text": "Mean:  200 dollar\nStandard Deviation:  60 dollar\nVariance:  3600 dollar\n"
      }
     ],
     "prompt_number": 22
    },
    {
     "cell_type": "heading",
     "level": 2,
     "metadata": {},
     "source": "Example, page-154"
    },
    {
     "cell_type": "code",
     "collapsed": false,
     "input": "# Variable declaration\nMean1 = 4                                         # Mean of X1\nVariance1 = 9                                     # Variance of X1\n\nMean2 = -2                                        # Mean of X2\nVariance2 = 5                                     # Variance of X2\n\n# Calculation\nfrom scipy import *\nfrom pylab import *\n\n# (A)  E(2*X1 + X2 - 5)\nMean = 2*Mean1 + Mean2 - 5                        # Required Mean\n\n# (B)  Var(2*X1 + X2 - 5)\nVariance = pow(2,2)*Variance1 + Variance2         # Required Variance\n\n# Result\nprint \"Mean of (2*X1 + X2 - 5) : \",Mean\nprint \"Variance of (2*X1 + X2 - 5) : \",Variance",
     "language": "python",
     "metadata": {},
     "outputs": [
      {
       "output_type": "stream",
       "stream": "stdout",
       "text": "Mean of (2*X1 + X2 - 5) :  1\nVariance of (2*X1 + X2 - 5) :  41\n"
      }
     ],
     "prompt_number": 23
    },
    {
     "cell_type": "heading",
     "level": 2,
     "metadata": {},
     "source": "Example, page-154"
    },
    {
     "cell_type": "code",
     "collapsed": false,
     "input": "# Variable declaration\nMean1 = 35             # Mean time in coating process( in minutes)\nVariance1 = 11         # variance of time in coating process( in minutes)\n\nVariance2 = 5          # variance of time in rinse process( in minutes)\nMean2 = 8              # Mean time in rinse process( in minutes)\n\n# Calculation\nfrom scipy import *\nfrom pylab import *\n\nMean = Mean1 + Mean2                      # Mean of total time\nVariance = Variance1 + Variance2          # Variance of total time\nstd_dev = int(sqrt(Variance))             # standard deviation\n\n# Result\nprint \"Total Mean time: \",Mean,\"minutes\"\nprint \"Standard Deviation of Total time: \",std_dev,\"minutes\"",
     "language": "python",
     "metadata": {},
     "outputs": [
      {
       "output_type": "stream",
       "stream": "stdout",
       "text": "Total Mean time:  43 minutes\nStandard Deviation of Total time:  4 minutes\n"
      }
     ],
     "prompt_number": 24
    },
    {
     "cell_type": "heading",
     "level": 2,
     "metadata": {},
     "source": "Example, page-164"
    },
    {
     "cell_type": "code",
     "collapsed": false,
     "input": "# Variable declaration\nl = [67,48,76,81]                # list of observations\nf=[]\n\n# Calculation\nfrom scipy import *\nfrom pylab import *\n%matplotlib inline\n\n# As we know Normal scores\nm1 = -0.84\nm2 = -0.25\nm3 = 0.25\nm4 = 0.84\n\nl = sorted(l)\nf = [m1,m2,m3,m4]                # List of normal scores\n\n# Result\nscatter(f,l)\ntitle(\"SimpleNormalScorePlot\")\nxlabel(\"$NormalScore$\")\nylabel(\"$OrderedObservation$\")",
     "language": "python",
     "metadata": {},
     "outputs": [
      {
       "metadata": {},
       "output_type": "pyout",
       "prompt_number": 25,
       "text": "<matplotlib.text.Text at 0xa326a58>"
      },
      {
       "metadata": {},
       "output_type": "display_data",
       "png": "[encoded data removed]",
       "text": "<matplotlib.figure.Figure at 0x5a72320>"
      }
     ],
     "prompt_number": 25
    },
    {
     "cell_type": "heading",
     "level": 2,
     "metadata": {},
     "source": "Example, Page-168"
    },
    {
     "cell_type": "code",
     "collapsed": false,
     "input": "# Variable declaration\nval = array([0.57, 0.74, 0.26, 0.77, 0.12])\nl = []\n\n# Calculation\nfrom scipy import *\nfrom pylab import *\n\nfor each in val:\n    l.append(math.sqrt(-20.0*math.log(1-each,e)))\n    \n# Result\nprint \"Five observations: \"\nfor i in range(0,5):\n    print round(l[i],3),\" \"",
     "language": "python",
     "metadata": {},
     "outputs": [
      {
       "output_type": "stream",
       "stream": "stdout",
       "text": "Five observations: \n4.108  \n5.191  \n2.454  \n5.422  \n1.599  \n"
      }
     ],
     "prompt_number": 26
    },
    {
     "cell_type": "heading",
     "level": 2,
     "metadata": {},
     "source": "Example, page-169"
    },
    {
     "cell_type": "code",
     "collapsed": false,
     "input": "# Variable declaration\nMean = 50         # Mean of normal distribution\nstd_dev = 5       # standard deviation of normal distribution\n\n# Calculation\nfrom scipy import *\nfrom pylab import *\n\n# Computer generates 2 values 0.253 and 0.531 from uniform distribution(can be obtained by reading 3 digits at a time in TABLE-7\nu1 = 0.253\nu2 = 0.531\n\n# As we know z1 = sqrt(-2*ln(u2)) * cos(2*pi*u1)  and z2 = sqrt(-2*ln(u2)) * sin(2*pi*u1)\nZ1 = sqrt(-2 * (math.log(u2,e))) *( math.cos(2*pi*u1) )\nZ1 = round(Z1,3)\n\nZ2 = sqrt(-2 * (math.log(u2,e))) *( math.sin(2*pi*u1) )\nZ2 = round(Z2,3)\n\n# normal values x1 = Mean + std_dev*Z1  and x2 = Mean + std_dev*Z2\nX1 = Mean + std_dev*Z1 \nX2 = Mean + std_dev*Z2 \n\n# Result\nprint \" Normal values : \",X1,\" , \",X2",
     "language": "python",
     "metadata": {},
     "outputs": [
      {
       "output_type": "stream",
       "stream": "stdout",
       "text": " Normal values :  49.895  ,  55.625\n"
      }
     ],
     "prompt_number": 27
    }
   ],
   "metadata": {}
  }
 ]
}