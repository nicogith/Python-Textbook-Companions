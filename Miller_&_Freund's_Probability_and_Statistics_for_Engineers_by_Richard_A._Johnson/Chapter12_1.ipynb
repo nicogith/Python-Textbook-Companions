{
 "metadata": {
  "name": "Chapter12"
 },
 "nbformat": 3,
 "nbformat_minor": 0,
 "worksheets": [
  {
   "cells": [
    {
     "cell_type": "heading",
     "level": 1,
     "metadata": {},
     "source": "Chapter 12: Analysis of Variance"
    },
    {
     "cell_type": "heading",
     "level": 2,
     "metadata": {},
     "source": "Example, Page-363"
    },
    {
     "cell_type": "code",
     "collapsed": false,
     "input": "# Variable declaration\nA = [0.25,0.27,0.22,0.30,0.27,0.28,0.32,0.24,0.31,0.26,0.21,0.28]\nB = [0.18,0.28,0.21,0.23,0.25,0.20,0.27,0.19,0.24,0.22,0.29,0.16]\nC = [0.19,0.25,0.27,0.24,0.18,0.26,0.28,0.24,0.25,0.20,0.21,0.19]\nD = [0.23,0.30,0.28,0.28,0.24,0.34,0.20,0.18,0.24,0.28,0.22,0.21]\nk = 4\nn = 12\n\n# Calculation\nfrom scipy import *\nfrom pylab import *\n\nA_sum = sum(A)\nB_sum = sum(B)\nC_sum = sum(C)\nD_sum = sum(D)\n\nT = A_sum+B_sum+C_sum+D_sum\n\nc = (T**2)/float(4*n)\nSST = 0\n\nfor i in range(0,12):\n    SST = SST + A[i]**2 + B[i]**2 + C[i]**2 + D[i]**2\n\nSST = SST - c\n\nSSTR = (A_sum**2 + B_sum**2 + C_sum**2 + D_sum**2)/n - c\nSSE = SST - SSTR\n\n# Result\nprint \"SST: \",round(SST,4)\nprint \"SSTR: \",round(SSTR,4)\nprint \"SSE: \",round(SSE,4)",
     "language": "python",
     "metadata": {},
     "outputs": [
      {
       "output_type": "stream",
       "stream": "stdout",
       "text": "SST:  0.0809\nSSTR:  0.013\nSSE:  0.0679\n"
      }
     ],
     "prompt_number": 1
    },
    {
     "cell_type": "heading",
     "level": 2,
     "metadata": {},
     "source": "Example, page-364"
    },
    {
     "cell_type": "code",
     "collapsed": false,
     "input": "# Variable declaration\na = [0.25,0.27,0.22,0.30,0.27,0.28,0.32,0.24,0.31,0.26,0.21,0.28]\nb = [0.18,0.28,0.21,0.23,0.25,0.20,0.27,0.19,0.24,0.22,0.29,0.16]\nc = [0.19,0.25,0.27,0.24,0.18,0.26,0.28,0.24,0.25,0.20,0.21,0.19]\nd = [0.23,0.30,0.28,0.28,0.24,0.34,0.20,0.18,0.24,0.28,0.22,0.21]\nK = 4   # number of samples\nn = 12  # entries in each sample\n\n# Calculation\nfrom scipy import *\nfrom pylab import *\n\nSum = sum(a)+sum(b)+sum(c)+sum(d)\nasum = sum(a)\nbsum = sum(b)\ncsum = sum(c)\ndsum = sum(d)\n\nU = Sum/48\na1 = (asum/12) - U\na2 = (bsum/12) - U\na3 = (csum/12) - U\na4 = (dsum/12) - U\n\na1 = round(a1,3)\na2 = round(a2,3)\na3 = round(a3,3)\na4 = round(a4,3)\n\n# Result\nprint \"parameters: sample-1: \",a1,\" , sample-2: \",a2,\" , sample-3: \",a3,\" , sample-4: \",a4",
     "language": "python",
     "metadata": {},
     "outputs": [
      {
       "output_type": "stream",
       "stream": "stdout",
       "text": "parameters: sample-1:  0.024  , sample-2:  -0.017  , sample-3:  -0.014  , sample-4:  0.006\n"
      }
     ],
     "prompt_number": 2
    },
    {
     "cell_type": "heading",
     "level": 2,
     "metadata": {},
     "source": "Example, page-365"
    },
    {
     "cell_type": "code",
     "collapsed": false,
     "input": "# Variable declaration\nl1 = [90,82,79,98,83,91]\nl2 = [105,89,93,104,89,95,86]\nl3 = [83,89,80,94]\n\nalpha = 0.05            # level of significance\nf_thr = 3.74            # F value at 0.05 for (3-1,17-3) degrees of freedom\n\n# Calculation\nfrom scipy import *\nfrom pylab import *\n\nSum = sum(l1)+sum(l2)+sum(l3)\ntotal = sum(square(l1)) + sum(square(l2)) + sum(square(l3))\nsst = total - square(Sum)/17\nsstr = square(sum(l1))/6.0 + square(sum(l2))/7.0 + square(sum(l3))/4.0 - square(Sum)/17.0\nsse = sst - sstr\nf_prt = 2.33        # calculated value\n\n# Result\nprint \"Since f_thr > f_prt so null hypothesis can not be rejected,we can't conclude that there is a difference in mean shear strength of bolts \"",
     "language": "python",
     "metadata": {},
     "outputs": [
      {
       "output_type": "stream",
       "stream": "stdout",
       "text": "Since f_thr > f_prt so null hypothesis can not be rejected,we can't conclude that there is a difference in mean shear strength of bolts \n"
      }
     ],
     "prompt_number": 3
    },
    {
     "cell_type": "heading",
     "level": 2,
     "metadata": {},
     "source": "Example, Page-366"
    },
    {
     "cell_type": "code",
     "collapsed": false,
     "input": "# Variable declaration\nA = array([0.99,1.19,0.79,0.95,0.90])\nB = array([1.11,1.53,1.37,1.24,1.42])\nC = array([0.83,0.68,0.94,0.86,0.57])\nn = 5\nalpha = 0.05\n\n# Calculation\nfrom scipy import *\nfrom pylab import *\n\nt_thr = 2.179    # t(0.025) at dof = 12\nS_sq = 0.0234\n\nBA_lower = mean(B)-mean(A) - t_thr*sqrt(S_sq*(1.0/n + 1.0/n))\nBA_upper = mean(B)-mean(A) + t_thr*sqrt(S_sq*(1.0/n + 1.0/n))\nBC_lower = mean(B)-mean(C) - t_thr*sqrt(S_sq*(1.0/n + 1.0/n))\nBC_upper = mean(B)-mean(C) + t_thr*sqrt(S_sq*(1.0/n + 1.0/n))\nAC_lower = mean(A)-mean(C) - t_thr*sqrt(S_sq*(1.0/n + 1.0/n))\nAC_upper = mean(A)-mean(C) + t_thr*sqrt(S_sq*(1.0/n + 1.0/n))\n\n# Result\nprint \"MD-ED: (\",round(BA_lower,3),\",\",round(BA_upper,3),\")\"\nprint \"MD-PF: (\",round(BC_lower,3),\",\",round(BC_upper,3),\")\"\nprint \"ED-PF: (\",round(AC_lower,3),\",\",round(AC_upper,3),\")\"",
     "language": "python",
     "metadata": {},
     "outputs": [
      {
       "output_type": "stream",
       "stream": "stdout",
       "text": "MD-ED: ( 0.159 , 0.581 )\nMD-PF: ( 0.347 , 0.769 )\nED-PF: ( -0.023 , 0.399 )\n"
      }
     ],
     "prompt_number": 4
    },
    {
     "cell_type": "heading",
     "level": 2,
     "metadata": {},
     "source": "Example, Page-367"
    },
    {
     "cell_type": "code",
     "collapsed": false,
     "input": "# Variable declaration\nA = array([2.8,0.75,3.7])\nB = array([0.0,-0.1,3.45])\nC = array([1.15,1.75,4.2])\nD = array([1.88,2.65,2.7])\n\nn = 12\nalpha = 0.05\n\n# Calculation\nfrom scipy import *\nfrom pylab import *\n\nt_thr = 2.201    # t(0.025) at dof = 11\nMean = (sum(A)+sum(B)+sum(C)+sum(D))/n\nstd_dev = 1.417\nS_sq = 0.0234\n\nlower = Mean - t_thr*std_dev/sqrt(n)\nupper = Mean + t_thr*std_dev/sqrt(n)\n\n# Result\nprint \"95% confidence interval for mean of differences: (\",round(lower,2),\",\",round(upper,2),\")\"",
     "language": "python",
     "metadata": {},
     "outputs": [
      {
       "output_type": "stream",
       "stream": "stdout",
       "text": "95% confidence interval for mean of differences: ( 1.18 , 2.98 )\n"
      }
     ],
     "prompt_number": 5
    },
    {
     "cell_type": "heading",
     "level": 2,
     "metadata": {},
     "source": "Example, page-375"
    },
    {
     "cell_type": "code",
     "collapsed": false,
     "input": "# Variable declaration\n\n# Calculation\nfrom scipy import *\nfrom pylab import *\n\nl = array([[45, 43, 51],[47, 46, 52],[48, 50, 55],[42, 37, 49]])\na = l[:,0]\nb = l[:,1]\nc = l[:,2]\n\nl1 = [a[0],b[0],c[0]]\nl2 = [a[1],b[1],c[1]]\nl3 = [a[2],b[2],c[2]]\nl4 = [a[3],b[3],c[3]]\n\n# null hypothesis if all alpha =0 and all beta =0 else Alterrnative hypothesis \nalpha = 0.01              # level of significance\nf_thr = 9.78              # theoritical f_value at 0.01 and (3,6) degrees of freedom\nrow = 4\ncolumn = 3\n\nC = square(sum(l1)+sum(l2)+sum(l3)) / 12.0\nsst = sum(square(l1)) + sum(square(l2)) + sum(square(l3)) - C \nsstr =   (square(sum(l1)) + square(sum(l2)) + square(sum(l3)) + square(sum(l4)))/3.0 - C   \nssbl = (square(sum(a)) + square(sum(b)) + square(sum(c)))/4.0  - C\nSSE = sst - sstr\n\nf_prt = 11.6              # calculated f_value\n\n# Result\nprint \"f_thr < f_prt , we conclude that there are differences in the effectiveness of the 4 detergents\" ",
     "language": "python",
     "metadata": {},
     "outputs": [
      {
       "output_type": "stream",
       "stream": "stdout",
       "text": "f_thr < f_prt , we conclude that there are differences in the effectiveness of the 4 detergents\n"
      }
     ],
     "prompt_number": 7
    },
    {
     "cell_type": "heading",
     "level": 2,
     "metadata": {},
     "source": "Example, page-378"
    },
    {
     "cell_type": "code",
     "collapsed": false,
     "input": "# Variable declaration\nalpha = 0.06\nk = 3\nt_thr = 2.681    # t value for alpha/(k*(k-1))  and 12 degrees of freedom\n\n# Calculation\nfrom scipy import *\nfrom pylab import *\n\nl = array([[0.99, 1.19, 0.79, 0.95, 0.90],[1.11, 1.53, 1.37, 1.24, 1.42],[0.83, 0.68, 0.94, 0.86, 0.57]])\na = l[:,0]\nb = l[:,1]\nc = l[:,2]\nd = l[:,3]\ne = l[:,4]\n\nl1 = [a[0],b[0],c[0],d[0],e[0]]\nl2 = [a[1],b[1],c[1],d[1],e[1]]\nl3 = [a[2],b[2],c[2],d[2],e[2]]\nMSE = 0.0234    # estimated s_square value\n\n# we need to find three confidence intervals\n\n# Result\n\n# for first interval\ny1 = mean(l2)-mean(l1) - 2.681*sqrt( 0.0234*(1.0/5 + 1.0/5) )\ny2 = mean(l2)-mean(l1) + 2.681*sqrt( 0.0234*(1.0/5 + 1.0/5) )\nprint \"first confidence interval:( \",round(y1,3),\",\",round(y2,3),\")\"\n\n# for second interval\ny1 = mean(l2)-mean(l3) - 2.681*sqrt( 0.0234*(1.0/5 + 1.0/5) )\ny2 = mean(l2)-mean(l3) + 2.681*sqrt( 0.0234*(1.0/5 + 1.0/5) )\nprint \"second confidence interval:( \",round(y1,3),\",\",round(y2,3),\")\"\n\n# for third interval\ny1 = mean(l1)-mean(l3) - 2.681*sqrt( 0.0234*(1.0/5 + 1.0/5) )\ny2 = mean(l1)-mean(l3) + 2.681*sqrt( 0.0234*(1.0/5 + 1.0/5) )\nprint \"third confidence interval:( \",round(y1,3),\",\",round(y2,3),\")\"",
     "language": "python",
     "metadata": {},
     "outputs": [
      {
       "output_type": "stream",
       "stream": "stdout",
       "text": "first confidence interval:(  0.111 , 0.629 )\nsecond confidence interval:(  0.299 , 0.817 )\nthird confidence interval:(  -0.071 , 0.447 )\n"
      }
     ],
     "prompt_number": 8
    },
    {
     "cell_type": "heading",
     "level": 2,
     "metadata": {},
     "source": "Example, Page-379"
    },
    {
     "cell_type": "code",
     "collapsed": false,
     "input": "# Variable declaration\nA = [0.25,0.27,0.22,0.30,0.27,0.28,0.32,0.24,0.31,0.26,0.21,0.28]\nB = [0.18,0.28,0.21,0.23,0.25,0.20,0.27,0.19,0.24,0.22,0.29,0.16]\nC = [0.19,0.25,0.27,0.24,0.18,0.26,0.28,0.24,0.25,0.20,0.21,0.19]\nD = [0.23,0.30,0.28,0.28,0.24,0.34,0.20,0.18,0.24,0.28,0.22,0.21]\nn = 12\n\n# Calculation\nfrom scipy import *\nfrom pylab import *\n\nMean = array([sum(A)/len(A),sum(B)/len(B),sum(C)/len(C),sum(D)/len(D)])\n\nError_mean_square = 0.0015\ns = sqrt(Error_mean_square/n)\ns = round(s,3)\nrp = array([2.85,3.00,3.09])\nRp = s*rp\nfor i in range(0,3):\n    Rp[i] = round(Rp[i],3)\n    \n# Result\nprint \"RP: \",Rp",
     "language": "python",
     "metadata": {},
     "outputs": [
      {
       "output_type": "stream",
       "stream": "stdout",
       "text": "RP:  [ 0.031  0.033  0.034]\n"
      }
     ],
     "prompt_number": 9
    },
    {
     "cell_type": "heading",
     "level": 2,
     "metadata": {},
     "source": "Example, Page-384"
    },
    {
     "cell_type": "code",
     "collapsed": false,
     "input": "# Variable declaration\nx1 = [0.5,0.55,0.6,0.35]\ny1 = [1.0,1.2,0.8,1.4]\nx2 = [0.75,1.65,1.0,1.1]\ny2 = [0.75,0.6,0.55,0.5]\nx3 = [0.6,0.9,0.8,0.7]\ny3 = [1.0,0.7,0.8,0.9]\nalpha = 0.05\n\n# Calculation\nfrom scipy import *\nfrom pylab import *\n\nx1_sum = sum(x1)\ny1_sum = sum(y1)\nx2_sum = sum(x2)\ny2_sum = sum(y2)\nx3_sum = sum(x3)\ny3_sum = sum(y3)\nx_sum = x1_sum+x2_sum+x3_sum \ny_sum = y1_sum+y2_sum+y3_sum\n\nc1 = (x_sum**2)/12\nc2 = (y_sum**2)/12\nc3 = (x_sum*y_sum)/12\n\nf_thr = 4.46\n\nSST1 = 0\nfor i in range(0,4):\n    SST1 = SST1 + x1[i]**2 + x2[i]**2 + x3[i]**2\nSST1 = SST1 - c1\n\nSSTR1 = (x1_sum**2 + x2_sum**2 + x3_sum**2)/4 - c1\nSSE1 = SST1 - SSTR1\n\n\nSST2 = 0\nfor i in range(0,4):\n    SST2 = SST2 + y1[i]**2 + y2[i]**2 + y3[i]**2\nSST2 = SST2 - c2\nSST2 = round(SST2,2)\n\nSSTR2 = (y1_sum**2 + y2_sum**2 + y3_sum**2)/4 - c2\nSSE2 = SST2 - SSTR2\n\n\nSPT = 0\nfor i in range(0,4):\n    SPT = SPT + x1[i]*y1[i] + x2[i]*y2[i] + x3[i]*y3[i]\nSPT = SPT - c3\n\nSPTR = (x1_sum*y1_sum + x2_sum*y2_sum + x3_sum*y3_sum)/4 - c3\nSPE = SPT - SPTR\n\nSST = SST2 - SPT**2/SST1\nSSE = SSE2 - SPE**2/SSE1\nSSTR = SST - SSE\n\nMean_Sqaure_Treamtment = 0.035\nMean_Sqaure_Error = 0.029\n\nf_prt = Mean_Sqaure_Treamtment / Mean_Sqaure_Error\nf_prt = round(f_prt,2)\n\n# Result\nprint \"SST: \",round(SST,2)\nprint \"SSE: \",round(SSE,2)\nprint \"SSTR: \",round(SSTR,2)\n\nprint \"F- Practical: \",f_prt\nprint \"f_prt < f_thr , Null hypothesis can not be rejected\"\nprint \"One can not conclude that any of the cleaning agents is more effective than the others\"",
     "language": "python",
     "metadata": {},
     "outputs": [
      {
       "output_type": "stream",
       "stream": "stdout",
       "text": "SST:  0.3\nSSE:  0.23\nSSTR:  0.07\nF- Practical:  1.21\nf_prt < f_thr , Null hypothesis can not be rejected\nOne can not conclude that any of the cleaning agents is more effective than the others\n"
      }
     ],
     "prompt_number": 3
    }
   ],
   "metadata": {}
  }
 ]
}