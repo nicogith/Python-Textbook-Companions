{
 "metadata": {
  "name": "Chapter8"
 },
 "nbformat": 3,
 "nbformat_minor": 0,
 "worksheets": [
  {
   "cells": [
    {
     "cell_type": "heading",
     "level": 1,
     "metadata": {},
     "source": "Chapter 8: Comparing Two Treatments"
    },
    {
     "cell_type": "heading",
     "level": 2,
     "metadata": {},
     "source": "Example, page-248"
    },
    {
     "cell_type": "code",
     "collapsed": false,
     "input": "# Variable declaration\nfrom scipy import *\nfrom pylab import *\n\ndata = array([[45,204.4,13825.3],[55,130.0,8632.0]])\n\nsize = data[0:2,0]\nMean = data[0:2,1]\nvariance = data[0:2,2]\n\nalpha = 0.05             # level of significance\nZ = 1.96                 # z value corresponding to alpha/2\n\n# Calculation\n\ny1 = (Mean[0] - Mean[1]) - ( Z* (sqrt( variance[0]/size[0] + variance[1]/size[1] )) )                          # Lower limit\ny2 = (Mean[0] - Mean[1]) + ( Z* (sqrt( float(variance[0])/size[0] + float(variance[1])/size[1] )) )            # upper limit\n\ny1 = round(y1,2)\ny2 = round(y2,2)\n\n# Result\nprint \"95% confidence interval(in kWh per month): (\",y1,\",\",y2,\")\"",
     "language": "python",
     "metadata": {},
     "outputs": [
      {
       "output_type": "stream",
       "stream": "stdout",
       "text": "95% confidence interval(in kWh per month): ( 32.17 , 116.63 )\n"
      }
     ],
     "prompt_number": 1
    },
    {
     "cell_type": "heading",
     "level": 2,
     "metadata": {},
     "source": "Example, Page-249"
    },
    {
     "cell_type": "code",
     "collapsed": false,
     "input": "# Variable declaration\nfrom scipy import *\nfrom pylab import *\n\nMean = array([0.136,0.083])\nsize = array([32,32])\nvariance = array([0.004,0.005])\n\nalpha = 0.05             # level of significance\n\n# Calculation\nZ = (Mean[0] - Mean[1] - alpha)/(sqrt( variance[0]**2/size[0] + variance[1]**2/size[1] ))              # Lower limit\nZ = round(Z,2)\n\n# Result\nif(Z>1.645):\n    print \"Null hypothesis rejected\"\n    print \"The data substantiate the claim\"\nelse:\n    print \"Null hypothesis accepted\"\n    print \"The data does not substantiate the claim\"",
     "language": "python",
     "metadata": {},
     "outputs": [
      {
       "output_type": "stream",
       "stream": "stdout",
       "text": "Null hypothesis rejected\nThe data substantiate the claim\n"
      }
     ],
     "prompt_number": 2
    },
    {
     "cell_type": "heading",
     "level": 2,
     "metadata": {},
     "source": "Example, page-250"
    },
    {
     "cell_type": "code",
     "collapsed": false,
     "input": "# Variable declaration\n\nalpha = 0.05       #level of significance\nn1 = 40            # size of sample-1\nn2 = 40            # size of sample-2\nstd_dev1 = 27      # standard deviation-1\nstd_dev2 = 31      # standard deviation-2\nMean1 = 1647       # Mean of sample-1 ( in hours) \nMean2 = 1638       # Mean of sample-2 ( in hours) \n\n# Calculation\nfrom scipy import *\nfrom pylab import *\n\n# null hypothesis accepted if z>1.645  else rejected\nZ = (Mean1 - Mean2) / (sqrt( square(std_dev1)/float(n1) + square(std_dev2)/float(n2) ))            # Z value\nZ = round(Z,2)\n\n# Result\n\nif(Z>1.645):\n    print \"Null hypothesis rejected\"\n    print \"observed difference between two samples is significant\"\nelse:\n    print \"Null hypothesis accepted\"\n    print \"observed difference between two samples is not significant\"",
     "language": "python",
     "metadata": {},
     "outputs": [
      {
       "output_type": "stream",
       "stream": "stdout",
       "text": "Null hypothesis accepted\nobserved difference between two samples is not significant\n"
      }
     ],
     "prompt_number": 3
    },
    {
     "cell_type": "heading",
     "level": 2,
     "metadata": {},
     "source": "Example, page-251"
    },
    {
     "cell_type": "code",
     "collapsed": false,
     "input": "# Variable declaration\n\nalpha = 0.05       #level of significance\nn1 = 40            # size of sample-1\nn2 = 40            # size of sample-2\nstd_dev1 = 27      # standard deviation-1\nstd_dev2 = 31      # standard deviation-2\nMean1 = 1647       # Mean of sample-1 ( in hours) \nMean2 = 1638       # Mean of sample-2 ( in hours) \ndelta1 = 0\ndelta2 = 16        # in hours\n\n# Calculation\nfrom scipy import *\nfrom pylab import *\n\nstd_dev = sqrt( square(std_dev1) + square(std_dev2) )\n\nZ = 1.645                                                 # at alpha = 0.05\nZ1 = Z + sqrt(n1)*( (delta1 - delta2)/std_dev )       \nZ1 = round(Z1,3)\n\n\n\n# Probability of Z > -0.817 =0.793 \nerr_prob = 1 - 0.793                                      # type-2 error probability\n\n# Result\nprint \"type-2 error probability: \",err_prob",
     "language": "python",
     "metadata": {},
     "outputs": [
      {
       "output_type": "stream",
       "stream": "stdout",
       "text": "type-2 error probability:  0.207\n"
      }
     ],
     "prompt_number": 4
    },
    {
     "cell_type": "heading",
     "level": 2,
     "metadata": {},
     "source": "Example, Page-253"
    },
    {
     "cell_type": "code",
     "collapsed": false,
     "input": "# Variable declaration\nfrom scipy import *\nfrom pylab import *\n\nval1 = 0\nval2 = 0\n\nMine1 = array([8260,8130,8350,8070,8340])\nMine2 = array([7950,7890,7900,8140,7920,7840])\n\nalpha = 0.01                        # level of significance\ndeg = len(Mine1) + len(Mine2) - 2   # Degree of freedom\n\nMean1 = sum(Mine1)/len(Mine1)\nMean2 = sum(Mine2)/len(Mine2)\n \n# Calculation\nfor each in Mine1:\n    val1 = val1 + (Mean1-each)**2\n    \nfor each in Mine2:\n    val2 = val2 + (Mean2-each)**2\n\nvar = (val1 + val2)/(len(Mine1)-1 + len(Mine2)-1)\nstd_dev = sqrt(var)\n\nt = (Mean1 - Mean2)/(std_dev*(sqrt(1.0/len(Mine1) + 1.0/len(Mine2))))\n\n# Result\nif(t>3.250):\n    print \"Null hypothesis rejected\"\n    print \"Average heat producing capacity is not same\"\nelse:\n    print \"Null hypothesis accepted\"\n    print \"Average heat producing capacity is same\"",
     "language": "python",
     "metadata": {},
     "outputs": [
      {
       "output_type": "stream",
       "stream": "stdout",
       "text": "Null hypothesis rejected\nAverage heat producing capacity is not same\n"
      }
     ],
     "prompt_number": 5
    },
    {
     "cell_type": "heading",
     "level": 2,
     "metadata": {},
     "source": "Example, page-254"
    },
    {
     "cell_type": "code",
     "collapsed": false,
     "input": "# Variable declaration\nf1 = []       #list for sample-1\nf2 = []       #list for sample-2\nn1 = 58       # sample-1 size\nn2 = 27       # sample-2 size\nt = 1.99      # t value corresponding to alpha/2\n\n# Calculation\nfrom scipy import *\nfrom pylab import *\n\nf1 = array([66.4,67.7,68.0,68.0,68.3,68.4,68.6,68.8,68.9,\n             69.0,69.1,69.2,69.3,69.3,69.5,69.5,69.6,69.7,69.8,69.8,69.9,\n             70.0,70.0,70.1,70.2,70.3,70.3,70.4,70.5,70.6,70.6,70.8,70.9,\n             71.0,71.1,71.2,71.3,71.3,71.5,71.6,71.6,71.7,71.8,71.8,71.9,\n             72.1,72.2,72.3,72.4,72.6,72.7,72.9,\n             73.1,73.3,73.5,\n             74.2,74.5,\n             75.3])\n\nMean1 = mean(f1)\nMean1 = round(Mean1,2)\nstd_dev1 = std(f1)\nstd_dev1 = round(std_dev1,1) \n\nf2 = array([71.2,71.8,72.6,72.8,73.4,73.7,73.9,74.4,74.9,75.5,75.9,\n            76.3,76.5,76.7,76.9,\n            77.1,77.3,77.6,77.7,77.8,\n            78.1,78.2,78.4,78.6,\n            79.0,79.3,79.8])\n\nMean2 = mean(f2)\nMean2 = round(Mean2,2)\nstd_dev2 = std(f2)\nstd_dev2 = round(std_dev2,1)\n\ny1 = (Mean1 - Mean2) - t*sqrt( ( (n1-1)*pow(std_dev1,2) + (n2-1)*pow(std_dev2,2) ) / (n1+n2-2) ) * sqrt( 1.0/n1 + 1.0/n2 )     # lower limit\ny1 = round(y1,1)\ny2 = (Mean1 - Mean2) + t*sqrt( ( (n1-1)*pow(std_dev1,2) + (n2-1)*pow(std_dev2,2) ) / (n1+n2-2) ) * sqrt( 1.0/n1 + 1.0/n2 )     # upper limit\ny2 = round(y2,1)\nif abs(y1)>abs(y2):\n    m1=abs(y2)\n    m2=abs(y1)\nelse:\n    m1=abs(y1)\n    m2=abs(y2)\n# Result\nprint \"95% large sample confidence interval(in thousand pounds per square): (\",m1,\",\",m2,\")\"",
     "language": "python",
     "metadata": {},
     "outputs": [
      {
       "output_type": "stream",
       "stream": "stdout",
       "text": "95% large sample confidence interval(in thousand pounds per square): ( 4.5 , 6.4 )\n"
      }
     ],
     "prompt_number": 9
    },
    {
     "cell_type": "heading",
     "level": 2,
     "metadata": {},
     "source": "Example, page-255"
    },
    {
     "cell_type": "code",
     "collapsed": false,
     "input": "# Variable declaration\nf1 = []       #list for sample-1\nf2 = []       #list for sample-2\nn1 = 58       # sample-1 size\nn2 = 27       # sample-2 size\nZ = 1.96      # Z value corresponding to alpha/2\n\n# Calculation\nfrom scipy import *\nfrom pylab import *\n\nf1 = [66.4,67.7,68.0,68.0,68.3,68.4,68.6,68.8,68.9,\n     69.0,69.1,69.2,69.3,69.3,69.5,69.5,69.6,69.7,\n     69.8,69.8,69.9,70.0,70.0,70.1,70.2,70.3,70.3,\n     70.4,70.5,70.6,70.6,70.8,70.9,71.0,71.1,71.2,\n     71.3,71.3,71.5,71.6,71.6,71.7,71.8,71.8,71.9,\n     72.1,72.2,72.3,72.4,72.6,72.7,72.9,73.1,73.3,\n     73.5,74.2,74.5,75.3]\n\nMean1 = mean(f1)\nMean1 = round(Mean1,2)\nstd_dev1 = std(f1)\nstd_dev1 = round(std_dev1,1) \n\nf2 = [71.2,71.8,72.6,72.8,73.4,73.7,73.9,\n      74.4,74.9,75.5,75.9,76.3,76.5,76.7,\n      76.9,77.1,77.3,77.6,77.7,77.8,78.1,\n      78.2,78.4,78.6,79.0,79.3,79.8]\n\nMean2 = mean(f2)\nMean2 = round(Mean2,2)\nstd_dev2 = std(f2)\nstd_dev2 = round(std_dev2,1)\n\ny1 = (Mean1 - Mean2) - Z*sqrt( pow(std_dev1,2)/n1 + pow(std_dev2,2)/n2 )    # lower limit\ny1 = round(y1,2)\ny1 = round(y1,1)\ny2 = (Mean1 - Mean2) + Z*sqrt( pow(std_dev1,2)/n1 + pow(std_dev2,2)/n2 )    # upper limit\ny2 = round(y2,1)\nif abs(y1)>abs(y2):\n    m1=abs(y2)\n    m2=abs(y1)\nelse:\n    m1=abs(y1)\n    m2=abs(y2)\n\n# Result\nprint \"95% large sample confidence interval(in thousand pounds per square): (\",m1,\",\",m2,\")\"",
     "language": "python",
     "metadata": {},
     "outputs": [
      {
       "output_type": "stream",
       "stream": "stdout",
       "text": "95% large sample confidence interval(in thousand pounds per square): ( 4.4 , 6.5 )\n"
      }
     ],
     "prompt_number": 10
    },
    {
     "cell_type": "heading",
     "level": 2,
     "metadata": {},
     "source": "Example, Page-256"
    },
    {
     "cell_type": "code",
     "collapsed": false,
     "input": "# Variable declaration\nfrom scipy import *\nfrom pylab import *\n\nval1 = 0\nval2 = 0\n\ndata1 = array([0.63,2.64,1.85,1.68,1.09,1.67,0.73,1.04,0.68])\ndata2 = array([3.71,4.09,4.11,3.75,3.49,3.27,3.72,3.49,4.26])\nn1 = len(data1)\nn2 = len(data2)\n\nalpha = 0.05                        # level of significance\nMean1 = sum(data1)/len(data1)\nMean2 = sum(data2)/len(data2)\n\n# Calculation\n\nfor each in data1:\n    val1 = val1 + (Mean1-each)**2\n    \nfor each in data2:\n    val2 = val2 + (Mean2-each)**2\n    \nval1 = val1/(n1-1)\nval2 = val2/(n2-1)\n\nvar = (val1 + val2)/(len(Mine1)-1 + len(Mine2)-1)\n\ndeg = pow((val1/n1 + val2/n2),2)/(pow(val1/n1,2)/(n1-1) + pow(val2/n2,2)/(n2-1))      \ndeg = round(deg,0)\n\nt = (Mean1 - Mean2)/ sqrt( val1/n1 + val2/n2 )    # upper limit\nt = round(t,2)\n\n# Result\nif(t<-2.201):\n    print \"Null hypothesis rejected\"\n    print \"Mean product volume are different\"\nelse:\n    print \"Null hypothesis accepted\"\n    print \"Mean product volume are same\"",
     "language": "python",
     "metadata": {},
     "outputs": [
      {
       "output_type": "stream",
       "stream": "stdout",
       "text": "Null hypothesis rejected\nMean product volume are different\n"
      }
     ],
     "prompt_number": 11
    },
    {
     "cell_type": "heading",
     "level": 2,
     "metadata": {},
     "source": "Example, Page-257"
    },
    {
     "cell_type": "code",
     "collapsed": false,
     "input": "# Variable declaration\nfrom scipy import *\nfrom pylab import *\n\nval1 = 0\nval2 = 0\n\ndata1 = array([0.63,2.64,1.85,1.68,1.09,1.67,0.73,1.04,0.68])\ndata2 = array([3.71,4.09,4.11,3.75,3.49,3.27,3.72,3.49,4.26])\nn1 = len(data1)\nn2 = len(data2)\n\nalpha = 0.05                        # level of significance\nMean1 = sum(data1)/len(data1)\nMean2 = sum(data2)/len(data2)\n\n# Calculation\n\nfor each in data1:\n    val1 = val1 + (Mean1-each)**2\n    \nfor each in data2:\n    val2 = val2 + (Mean2-each)**2\n    \nval1 = val1/(n1-1)\nval2 = val2/(n2-1)\n\nvar = (val1 + val2)/(len(Mine1)-1 + len(Mine2)-1)\n\ndeg = pow((val1/n1 + val2/n2),2)/(pow(val1/n1,2)/(n1-1) + pow(val2/n2,2)/(n2-1))      \ndeg = round(deg,0)\n\nt = 2.201   # t-value for 11 degree of freedom\n\ny1 = (Mean1 - Mean2 - t*(sqrt(val1/n1 + val2/n2)))    # Lower limit\ny2 = (Mean1 - Mean2 + t*(sqrt(val1/n1 + val2/n2)))    # Lower limit\n\ny1 = round(y1,3)\ny2 = round(y2,3)\n\n# Result\nprint \"95% confidence interval(in gallons): (\",y1,\",\",y2,\")\"",
     "language": "python",
     "metadata": {},
     "outputs": [
      {
       "output_type": "stream",
       "stream": "stdout",
       "text": "95% confidence interval(in gallons): ( -2.982 , -1.88 )\n"
      }
     ],
     "prompt_number": 12
    },
    {
     "cell_type": "heading",
     "level": 2,
     "metadata": {},
     "source": "Example, page-259"
    },
    {
     "cell_type": "code",
     "collapsed": false,
     "input": "# Variable declaration\nn = 10\n\n# Calculation\nfrom scipy import *\nfrom pylab import *\n \nl = array([[45,36],[73,60],[46,44],[124,119],[33,35],[57,51],[83,77],[34,29],[26,24],[17,11]])\nl1 = l[:,0]\nl2 = l[:,1]\ndiff = l1 - l2       # diffrence in values\nMean = mean(diff)\nstd_dev = 4.08\n\n# null hypothesis is rejected if t > 1.833 for v = 9 degrees of freedom\nt = (Mean - 0) / (std_dev / sqrt(n))     # t value\nt = round(t,2)\n\n# Result\nif(t > 1.833):\n    print \"null hypothesis is rejected\"\n    print \"Industrial safety program is effective\"\nelse:\n    print \"null hypothesis is accepted\"\n    print \"Industrial safety program is effective\"",
     "language": "python",
     "metadata": {},
     "outputs": [
      {
       "output_type": "stream",
       "stream": "stdout",
       "text": "null hypothesis is rejected\nIndustrial safety program is effective\n"
      }
     ],
     "prompt_number": 13
    },
    {
     "cell_type": "heading",
     "level": 2,
     "metadata": {},
     "source": "Example, Page-260"
    },
    {
     "cell_type": "code",
     "collapsed": false,
     "input": "# Variable declaration\nn = 10\n\n# Calculation\nfrom scipy import *\nfrom pylab import *\n \nl = array([[45,36],[73,60],[46,44],[124,119],[33,35],[57,51],[83,77],[34,29],[26,24],[17,11]])\nl1 = l[:,0]\nl2 = l[:,1]\ndiff = l1 - l2       # diffrence in values\nMean = mean(diff)\nstd_dev = 4.08\n\nt = 1.833\n\ny1 = (Mean - t*std_dev/sqrt(n))    # Lower limit\ny2 = (Mean + t*std_dev/sqrt(n))   # Lower limit\n\ny1 = round(y1,1)\ny2 = round(y2,1)\n\n# Result\nprint \"95% confidence interval(in gallons): (\",y1,\",\",y2,\")\"",
     "language": "python",
     "metadata": {},
     "outputs": [
      {
       "output_type": "stream",
       "stream": "stdout",
       "text": "95% confidence interval(in gallons): ( 2.8 , 7.6 )\n"
      }
     ],
     "prompt_number": 15
    },
    {
     "cell_type": "heading",
     "level": 2,
     "metadata": {},
     "source": "Example, Page-261"
    },
    {
     "cell_type": "code",
     "collapsed": false,
     "input": "# Variable declaration\nfrom scipy import *\nfrom pylab import *\n%matplotlib inline\n\nval = 0\ndata1 = array([27,23,64,44,30,75,26,124,54,30,14])\ndata2 = array([15,13,22,29,31,64,30,64,56,20,21])\ny = [1,1,1,1,1,1,1,1,1,1.1,1]\nd = []\n\nalpha = 0.05                        # level of significance\nfor i in range(0,11):\n    d.append(data1[i]-data2[i])\n\nn = len(d)    \nMean = sum(d)/float(len(d))\n\n# Calculation\nfor each in d:\n    val = val + (Mean-each)**2\n    \nval = val/float(n-1) \ndeg = n-1\n\nt = 2.228         # t-value for 10 degree of freedom\n\ny1 = (Mean - t*(sqrt(val/n)))      # Lower limit\ny2 = (Mean + t*(sqrt(val/n)))      # upper limit\n\ny1 = round(y1,2)\ny2 = round(y2,2)\n\n# Result\nprint \"95% confidence interval: (\",y1,\",\",y2,\")\"\nscatter(d,y)\ntitle(\"Dot Diagram\")",
     "language": "python",
     "metadata": {},
     "outputs": [
      {
       "output_type": "stream",
       "stream": "stdout",
       "text": "95% confidence interval: ( -0.47 , 27.02 )\n"
      },
      {
       "metadata": {},
       "output_type": "pyout",
       "prompt_number": 16,
       "text": "<matplotlib.text.Text at 0x83da0b8>"
      },
      {
       "metadata": {},
       "output_type": "display_data",
       "png": "[encoded data removed]",
       "text": "<matplotlib.figure.Figure at 0x83c21d0>"
      }
     ],
     "prompt_number": 16
    }
   ],
   "metadata": {}
  }
 ]
}