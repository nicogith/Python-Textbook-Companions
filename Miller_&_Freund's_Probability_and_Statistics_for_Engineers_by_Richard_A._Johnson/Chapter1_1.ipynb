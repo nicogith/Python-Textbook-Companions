{
 "metadata": {
  "name": "Chapter1"
 },
 "nbformat": 3,
 "nbformat_minor": 0,
 "worksheets": [
  {
   "cells": [
    {
     "cell_type": "heading",
     "level": 1,
     "metadata": {},
     "source": "Chapter 1: Introduction"
    }
   ],
   "metadata": {}
  }
 ]
}