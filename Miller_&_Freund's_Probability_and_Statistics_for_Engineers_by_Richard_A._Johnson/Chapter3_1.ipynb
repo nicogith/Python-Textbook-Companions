{
 "metadata": {
  "name": "Chapter3"
 },
 "nbformat": 3,
 "nbformat_minor": 0,
 "worksheets": [
  {
   "cells": [
    {
     "cell_type": "heading",
     "level": 1,
     "metadata": {},
     "source": "Chapter 3: Probability"
    },
    {
     "cell_type": "heading",
     "level": 2,
     "metadata": {},
     "source": "Example, Page-47"
    },
    {
     "cell_type": "code",
     "collapsed": false,
     "input": "#Variable declaration\nSample = set([(0,0),(0,1),(1,0),(1,1),(0,2),(2,0)])\nC = set([(1,0),(0,1)])\nD = set([(0,0),(0,1),(0,2)])\nE = set([(0,0),(1,1)])\n\n#Calculation\nfrom scipy import *\nfrom pylab import *\nfrom sets import Set\n\nun = C|E\ninter = C & D\nD_comp = Sample - D\n\n# Result\nprint \"Part A: \",un\nprint \"Part B: \",inter\nprint \"Part C: \",D_comp",
     "language": "python",
     "metadata": {},
     "outputs": [
      {
       "output_type": "stream",
       "stream": "stdout",
       "text": "Part A:  set([(0, 1), (1, 0), (0, 0), (1, 1)])\nPart B:  set([(0, 1)])\nPart C:  set([(2, 0), (1, 0), (1, 1)])\n"
      }
     ],
     "prompt_number": 19
    },
    {
     "cell_type": "heading",
     "level": 2,
     "metadata": {},
     "source": "Example, page-50"
    },
    {
     "cell_type": "code",
     "collapsed": false,
     "input": "#Variable declaration\nn=25   #total members\n\n#Calculation\nfrom scipy import *\nfrom pylab import *\ndef fact(n):\n    \"\"\"returns factorial of number n\"\"\"\n    if(n==1 or n==0):\n        return 1\n    else:\n        return n*fact(n-1)\n\ndef comb(n,r):\n    \"\"\"returns number of total combination of selecting \"r\" items out of \"n\" \"\"\"\n    return fact(n)/(fact(r)*fact(n-r))\n\nways=comb(25,1) * comb(24,1)    # total number of methods\n\n#Results\nprint \"total ways: \",int(ways)",
     "language": "python",
     "metadata": {},
     "outputs": [
      {
       "output_type": "stream",
       "stream": "stdout",
       "text": "total ways:  600\n"
      }
     ],
     "prompt_number": 20
    },
    {
     "cell_type": "heading",
     "level": 2,
     "metadata": {},
     "source": "Example, Page-50"
    },
    {
     "cell_type": "code",
     "collapsed": false,
     "input": "#Variable declaration\nn=12   #total Questions\n\n#Calculation\nfrom scipy import *\nfrom pylab import *\n\n# Each question can be answered in 2 ways,\nways = pow(2,float(n))    # total number of methods\n\n#Results\nprint \"total ways: \",int(ways)",
     "language": "python",
     "metadata": {},
     "outputs": [
      {
       "output_type": "stream",
       "stream": "stdout",
       "text": "total ways:  4096\n"
      }
     ],
     "prompt_number": 2
    },
    {
     "cell_type": "heading",
     "level": 2,
     "metadata": {},
     "source": "Example, Page-51"
    },
    {
     "cell_type": "code",
     "collapsed": false,
     "input": "#Variable declaration\nn1 = 4    # Total operators\nn2 = 3    # Total Machines\nn3 = 8    # Test specimens for each pair\n\n#Calculation\nTotal_pairs = n1*n2\nTotal_specimens = n1*n2*n3\n\n#Results\nprint \"Total Pairs: \",Total_pairs\nprint \"Total Test specimens: \",Total_specimens",
     "language": "python",
     "metadata": {},
     "outputs": [
      {
       "output_type": "stream",
       "stream": "stdout",
       "text": "Total Pairs:  12\nTotal Test specimens:  96\n"
      }
     ],
     "prompt_number": 22
    },
    {
     "cell_type": "heading",
     "level": 2,
     "metadata": {},
     "source": "Example, Page-52"
    },
    {
     "cell_type": "code",
     "collapsed": false,
     "input": "#Variable declaration\nn = 5    # Total chips\nr = 5   # Total positions\n\n#Calculation\nfrom scipy import *\nfrom pylab import *\n\ndef fact(n):\n    \"\"\"returns factorial of number n\"\"\"\n    if(n==1 or n==0):\n        return 1\n    else:\n        return n*fact(n-1)\n\ndef perm(n,r):\n    return fact(n)/(fact(n-r))\n\nways=perm(5,5)   # total number of methods\n\n#Results\nprint \"Total methods: \",int(ways)",
     "language": "python",
     "metadata": {},
     "outputs": [
      {
       "output_type": "stream",
       "stream": "stdout",
       "text": "Total methods:  120\n"
      }
     ],
     "prompt_number": 3
    },
    {
     "cell_type": "heading",
     "level": 2,
     "metadata": {},
     "source": "Example, page-53"
    },
    {
     "cell_type": "code",
     "collapsed": false,
     "input": "#Variable declaration\nn=20    # Total Assistants\nr=3     # Assistants to be chosen\n\n#Calculation\nfrom scipy import *\nfrom pylab import *\n\ndef fact(n):\n    \"\"\"returns factorial of number n\"\"\"\n    if(n==1 or n==0):\n        return 1\n    else:\n        return n*fact(n-1)\n\ndef comb(n,r):\n    \"\"\"returns number of total combination of selecting \"r\" items out of \"n\" \"\"\"\n    return fact(n)/(fact(r)*fact(n-r))\n\nways=comb(20,3)   # total number of methods\n\n#Results\nprint \"Total methods: \",int(ways)",
     "language": "python",
     "metadata": {},
     "outputs": [
      {
       "output_type": "stream",
       "stream": "stdout",
       "text": "Total methods:  1140\n"
      }
     ],
     "prompt_number": 4
    },
    {
     "cell_type": "heading",
     "level": 2,
     "metadata": {},
     "source": "Example, Page-53"
    },
    {
     "cell_type": "code",
     "collapsed": false,
     "input": "#Variable declaration\nn = 15    # Total machines\nr = 3   \n\n#Calculation\nfrom scipy import *\nfrom pylab import *\n\ndef fact(n):\n    \"\"\"returns factorial of number n\"\"\"\n    if(n==1 or n==0):\n        return 1\n    else:\n        return n*fact(n-1)\n\ndef comb(n,r):\n    return fact(n)/(fact(r)*fact(n-r))\n\nways=comb(n,r)   # total number of methods\n\n#Results\nprint \"Total methods: \",int(ways)",
     "language": "python",
     "metadata": {},
     "outputs": [
      {
       "output_type": "stream",
       "stream": "stdout",
       "text": "Total methods:  455\n"
      }
     ],
     "prompt_number": 5
    },
    {
     "cell_type": "heading",
     "level": 2,
     "metadata": {},
     "source": "Example, page-53"
    },
    {
     "cell_type": "code",
     "collapsed": false,
     "input": "#Variable declaration\nn_chem=7    # Total chemists\nr_chem=2    # chemists to be selected\nn_phy=9     # Total physicists\nr_phy=3     # physicists to be selected\n\n#Calculation\nfrom scipy import *\nfrom pylab import *\n\ndef fact(n):\n    \"\"\"returns factorial of number n\"\"\"\n    if(n==1 or n==0):\n        return 1\n    else:\n        return n*fact(n-1)\n    \ndef comb(n,r):\n    \"\"\"returns number of total combination of selecting \"r\" items out of \"n\" \"\"\"\n    return fact(n)/(fact(r)*fact(n-r))\n\nways=comb(n_chem,r_chem) * comb(n_phy,r_phy)   # total number of methods\n\n#Results\nprint \"Total methods: \",int(ways)",
     "language": "python",
     "metadata": {},
     "outputs": [
      {
       "output_type": "stream",
       "stream": "stdout",
       "text": "Total methods:  1764\n"
      }
     ],
     "prompt_number": 6
    },
    {
     "cell_type": "heading",
     "level": 2,
     "metadata": {},
     "source": "Example, page-56"
    },
    {
     "cell_type": "code",
     "collapsed": false,
     "input": "#Variable declaration\nn=52                                  # Total number of cards\nm=4                                   # Total number of ace\n\n#Calculation\nfrom scipy import *\nfrom pylab import *\ndef fact(n):\n    \"\"\"returns factorial of number n\"\"\"\n    if(n==1 or n==0):\n        return 1\n    else:\n        return n*fact(n-1)\n    \ndef comb(n,r):\n    \"\"\"returns number of total combination of selecting \"r\" items out of \"n\" \"\"\"\n    return fact(n)/(fact(r)*fact(n-r))\n\nprob = float(comb(m,1))/comb(n,1)     # Required probability\nprob=round(prob,3)                    # i.e. 1/13\n\n#Results\nprint \"Required probability: \",prob,\"or 1/13\"",
     "language": "python",
     "metadata": {},
     "outputs": [
      {
       "output_type": "stream",
       "stream": "stdout",
       "text": "Required probability:  0.077 or 1/13\n"
      }
     ],
     "prompt_number": 27
    },
    {
     "cell_type": "heading",
     "level": 2,
     "metadata": {},
     "source": "Example, Page-56"
    },
    {
     "cell_type": "code",
     "collapsed": false,
     "input": "#Variable declaration\nn1 = 10    # Total machines\nn2 = 8     # Working Machines\nr = 2      # To be selected\n\n#Calculation\nfrom scipy import *\nfrom pylab import *\n\ndef fact(n):\n    \"\"\"returns factorial of number n\"\"\"\n    if(n==1 or n==0):\n        return 1\n    else:\n        return n*fact(n-1)\n\ndef comb(n,r):\n    return fact(n)/(fact(r)*fact(n-r))\n\np1 = comb(n2,r)/float(comb(n1,r))   \np2 = comb(n2,1)*comb(n1-n2,1)/float(comb(n1,r))\n\n#Results\nprint \"Probability: Both motors works: \",round(p1,3)\nprint \"Probability: Exactly one works: \",round(p2,3)",
     "language": "python",
     "metadata": {},
     "outputs": [
      {
       "output_type": "stream",
       "stream": "stdout",
       "text": "Probability: Both motors works:  0.622\nProbability: Exactly one works:  0.356\n"
      }
     ],
     "prompt_number": 28
    },
    {
     "cell_type": "heading",
     "level": 2,
     "metadata": {},
     "source": "Example, page-57"
    },
    {
     "cell_type": "code",
     "collapsed": false,
     "input": "#Variable declaration\nn=300                                        # Total insulators\nm=294       \t\t\t\t     # insulators having capacity of withstand shock\n\n#Calculation\nfrom scipy import *\nfrom pylab import *\n\ndef fact(n):\n    \"\"\"returns factorial of number n\"\"\"\n    if(n==1 or n==0):\n        return 1\n    else:\n        return n*fact(n-1)\n    \ndef comb(n,r):\n    \"\"\"returns number of total combination of selecting \"r\" items out of \"n\" \"\"\"\n    return fact(n)/(fact(r)*fact(n-r))\n\nprob = float(comb(m,1)) / comb(n,1)          # Resultant probability\nprob=round(prob,3)\n\n#Results\nprint \"Required probability: \",prob",
     "language": "python",
     "metadata": {},
     "outputs": [
      {
       "output_type": "stream",
       "stream": "stdout",
       "text": "Required probability:  0.98\n"
      }
     ],
     "prompt_number": 32
    },
    {
     "cell_type": "heading",
     "level": 2,
     "metadata": {},
     "source": "Example, Page-59"
    },
    {
     "cell_type": "code",
     "collapsed": false,
     "input": "#Variable declaration\n\n# Part A\np1 = 1.0/3\np2 = 1.0/3\np3 = 1.0/3\nprint \"[Part:A]  p1+p2+p3 = 1 so it is permissible\"\n\n# Part B\np1 = 0.64\np2 = 0.38\np3 = -0.02\nprint \"[Part:B]  p3 < 0 so it is not permissible\"\n\n# Part C\np1 = 0.35\np2 = 0.52\np3 = 0.26\nprint \"[Part:C]  p1+p2+p3 > 1 so it is not permissible\"\n\n# Part D\np1 = 0.57\np2 = 0.24\np3 = 0.19\nprint \"[Part:D]  p1+p2+p3 = 1 so it is not permissible\"",
     "language": "python",
     "metadata": {},
     "outputs": [
      {
       "output_type": "stream",
       "stream": "stdout",
       "text": "[Part:A]  p1+p2+p3 = 1 so it is permissible\n[Part:B]  p3 < 0 so it is not permissible\n[Part:C]  p1+p2+p3 > 1 so it is not permissible\n[Part:D]  p1+p2+p3 = 1 so it is not permissible\n"
      }
     ],
     "prompt_number": 33
    },
    {
     "cell_type": "heading",
     "level": 2,
     "metadata": {},
     "source": "Example, Page-60"
    },
    {
     "cell_type": "code",
     "collapsed": false,
     "input": "#Variable declaration\nl = [0.07, 0.12, 0.17, 0.32, 0.21, 0.11]\n\n#Calculation\nfrom scipy import *\nfrom pylab import *\n\np1 = l[0]+l[1]+l[2]+l[3]   \np2 = l[3]+l[4]+l[5]\n\n#Results\nprint \"Part(a): Probability: \",p1\nprint \"Part(b): Probability: \",p2",
     "language": "python",
     "metadata": {},
     "outputs": [
      {
       "output_type": "stream",
       "stream": "stdout",
       "text": "Part(a): Probability:  0.68\nPart(b): Probability:  0.64\n"
      }
     ],
     "prompt_number": 35
    },
    {
     "cell_type": "heading",
     "level": 2,
     "metadata": {},
     "source": "Example, page-63"
    },
    {
     "cell_type": "code",
     "collapsed": false,
     "input": "#Variable Declaration\np1=0.87       # probability of Repair on the engine\np2=0.36       # probability of drive train\np3=0.29       # probability of rapair as well as drive train\n\n#Calculation\nfrom scipy import *\nfrom pylab import *\nP = p1+p2-p3    # Required probability\n\n#Results\nprint \"probability of at least one kind of repair: \",P",
     "language": "python",
     "metadata": {},
     "outputs": [
      {
       "output_type": "stream",
       "stream": "stdout",
       "text": "probability of at least one kind of repair:  0.94\n"
      }
     ],
     "prompt_number": 36
    },
    {
     "cell_type": "heading",
     "level": 2,
     "metadata": {},
     "source": "Example, page-68"
    },
    {
     "cell_type": "code",
     "collapsed": false,
     "input": "#Variable Declaration\np1=0.81     # High fidelity\np2=0.18     # High fidelity and high selectivity\n\n#Calculation\nfrom scipy import *\nfrom pylab import *\nP = p2/p1    # i.e. required probability\nP=round(P,3)   # i.e. 2/9\n\n#Results\nprint \"Required probability: \",P,\"or 2/9\"",
     "language": "python",
     "metadata": {},
     "outputs": [
      {
       "output_type": "stream",
       "stream": "stdout",
       "text": "Required probability:  0.222 or 2/9\n"
      }
     ],
     "prompt_number": 37
    },
    {
     "cell_type": "heading",
     "level": 2,
     "metadata": {},
     "source": "Example, page-69"
    },
    {
     "cell_type": "code",
     "collapsed": false,
     "input": "#Variable Declaration\nn=20     # Total workers\nm=8      # favourable condition\nr=2      # workers to be selected\n\n#Calculation\ndef fact(n):\n    \"\"\"returns factorial of a given number\"\"\"\n    if(n==1 or n==0):\n        return 1\n    else:\n        return n*fact(n-1)\n    \ndef comb(n,r):\n    \"\"\"returns number of total combination of selecting \"r\" items out of \"n\" \"\"\"\n    return fact(n)/(fact(r)*fact(n-r))\nP = float(comb(8,2))/comb(20,2)         # Required probability=Favourable cases/Total cases\nP=round(P,3)       # i.e. 14/95\n\n#Results\nprint \"required probability is: \",P,\"or 14/95\"",
     "language": "python",
     "metadata": {},
     "outputs": [
      {
       "output_type": "stream",
       "stream": "stdout",
       "text": "required probability is:  0.147 or 14/95\n"
      }
     ],
     "prompt_number": 38
    },
    {
     "cell_type": "heading",
     "level": 2,
     "metadata": {},
     "source": "Example, Page-69"
    },
    {
     "cell_type": "code",
     "collapsed": false,
     "input": "#Variable declaration\np = 0.5    # Probability of getting head in one flip\n\n#Calculation\nfrom scipy import *\nfrom pylab import *\n\n#Results\nprint \"Probability: \",p*p",
     "language": "python",
     "metadata": {},
     "outputs": [
      {
       "output_type": "stream",
       "stream": "stdout",
       "text": "Probability:  0.25\n"
      }
     ],
     "prompt_number": 39
    },
    {
     "cell_type": "heading",
     "level": 2,
     "metadata": {},
     "source": "Example, page-69"
    },
    {
     "cell_type": "code",
     "collapsed": false,
     "input": "#Variable Declaration\nn = 52        # Total cards\nm = 4         # Total aces in a deck\nr = 2         # Cards to be drawn\n\n#Calculation\ndef fact(n):\n    \"\"\"returns factorial of a given number\"\"\"\n    if(n==1 or n==0):\n        return 1\n    else:\n        return n*fact(n-1)\n    \ndef comb(n,r):\n    \"\"\"returns number of total combination of selecting \"r\" items out of \"n\" \"\"\"\n    return fact(n)/(fact(r)*fact(n-r))\n\np1 = (float(comb(m,1))/comb(n,1)) * (float(comb(m,1))/comb(n,1))   # Required probability for (a)\np2 = (float(comb(m,1))/comb(n,1)) * (float(comb(m-1,1))/comb(n-1,1))   # Required probability for (b)\np1=round(p1,3)    # i.e. (4/52)*(4/52)\np2=round(p2,3)    # i.e. (4/52)*(3/51)\n\n#Results\nprint \"probability of two aces with replacement: \",p1,\"or 1/169\"\nprint \"probability of two aces without replacement: \",p2,\"or 1/221\"",
     "language": "python",
     "metadata": {},
     "outputs": [
      {
       "output_type": "stream",
       "stream": "stdout",
       "text": "probability of two aces with replacement:  0.006 or 1/169\nprobability of two aces without replacement:  0.005 or 1/221\n"
      }
     ],
     "prompt_number": 8
    },
    {
     "cell_type": "heading",
     "level": 2,
     "metadata": {},
     "source": "Example, page-70"
    },
    {
     "cell_type": "code",
     "collapsed": false,
     "input": "#Variable Declaration\np1 = 0.65   # probability of event C\np2 = 0.40   # probability of event D\np3 = 0.40   # probability of event C and D both Occuring symultanously\n\n#Calculation\n# two events are independent if P(C)*P(D)=P(C and D)\nMul = p1*p2\n\n#Results\nif(Mul==p3):\n    print p1*p2,\"is equal to\",p3,\"Thus C and D are INDEPENDENT EVENTS\"\nelse:\n    print p1*p2,\"is not equal to\",p3,\"Thus C and D are DEPENDENT EVENTS\"",
     "language": "python",
     "metadata": {},
     "outputs": [
      {
       "output_type": "stream",
       "stream": "stdout",
       "text": "0.26 is not equal to 0.4 Thus C and D are DEPENDENT EVENTS\n"
      }
     ],
     "prompt_number": 13
    },
    {
     "cell_type": "heading",
     "level": 2,
     "metadata": {},
     "source": "Example, Page-70"
    },
    {
     "cell_type": "code",
     "collapsed": false,
     "input": "#Variable Declaration\np1 = 0.8   # probability of event A\np2 = 0.7   # probability of event B\n\n#Calculation\nP_Intersection = p1*p2\n\n#Results\nprint \"P(A and B):\",P_Intersection",
     "language": "python",
     "metadata": {},
     "outputs": [
      {
       "output_type": "stream",
       "stream": "stdout",
       "text": "P(A and B): 0.56\n"
      }
     ],
     "prompt_number": 14
    },
    {
     "cell_type": "heading",
     "level": 2,
     "metadata": {},
     "source": "Example, page-70"
    },
    {
     "cell_type": "code",
     "collapsed": false,
     "input": "#Variable Declaration\nn = 6        # Total possible outcomes after one roll\nm = 5        # favourable outcomes of not getting 6 for each roll\n\n#Calculation\nfrom scipy import *\nfrom pylab import *\ndef fact(n):\n    \"\"\"returns factorial of number n\"\"\"\n    if(n==1 or n==0):\n        return 1\n    else:\n        return n*fact(n-1)\n    \ndef comb(n,r):\n    \"\"\"returns number of total combination of selecting \"r\" items out of \"n\" \"\"\"\n    return fact(n)/(fact(r)*fact(n-r))\n\nP = float(comb(5,1))/comb(6,1)     # probability of not getting 6 in one roll\nP = P**4                           # required probability\nP=round(P,3)   # equal to 625/1296\n\n#Results\nprint \"Required probability:\",P,\"or 625/1296\"",
     "language": "python",
     "metadata": {},
     "outputs": [
      {
       "output_type": "stream",
       "stream": "stdout",
       "text": "Required probability: 0.482 or 625/1296\n"
      }
     ],
     "prompt_number": 17
    },
    {
     "cell_type": "heading",
     "level": 2,
     "metadata": {},
     "source": "Example, Page-70"
    },
    {
     "cell_type": "code",
     "collapsed": false,
     "input": "#Variable declaration\np = 0.99    # Probability of specimen to be in compliance\n\n#Calculation\nfrom scipy import *\nfrom pylab import *\n\n#Results\nprint \"Probability of both in compliance: \",round(p*p,4)\nprint \"Probability of both in compliance: \",round(pow(p,104.0),2)",
     "language": "python",
     "metadata": {},
     "outputs": [
      {
       "output_type": "stream",
       "stream": "stdout",
       "text": "Probability of both in compliance:  0.9801\nProbability of both in compliance:  0.35\n"
      }
     ],
     "prompt_number": 43
    },
    {
     "cell_type": "heading",
     "level": 2,
     "metadata": {},
     "source": "Example, page-74"
    },
    {
     "cell_type": "code",
     "collapsed": false,
     "input": "#Variable Declaration\n# Event B-service incomplete\n# Event A1- breakdown service by Janet; Event A2- breakdown service by Tom; Event A3- breakdown service by Georgia; Event A4- breakdown service by Peter\n# Event B1- incomplete repair by Janet; Event B2- incomplete repair by Tom; Event B3- incomplete repair by Georgia; Event B4- incomplete repair by Peter\n# we need to find P(A1/B) i.e.=(P(A1).P(B/A1))/(P(A1).P(B/A1)+P(A2).P(B/A2)+P(A3).P(B/A3)+P(A4).P(B/A4))\n\n#Calculation\nfrom scipy import *\nfrom pylab import *\nP = (0.20 * .05)/((0.20*.05)+(0.60*.10)+(0.15*.10)+(0.05*.05))         # Required probability\nP=round(P,3)\n\n#Results\nprint \"Required probability: \",P",
     "language": "python",
     "metadata": {},
     "outputs": [
      {
       "output_type": "stream",
       "stream": "stdout",
       "text": "Required probability:  0.114\n"
      }
     ],
     "prompt_number": 44
    }
   ],
   "metadata": {}
  }
 ]
}