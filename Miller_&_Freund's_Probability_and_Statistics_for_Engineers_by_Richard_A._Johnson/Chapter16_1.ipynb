{
 "metadata": {
  "name": "Chapter16"
 },
 "nbformat": 3,
 "nbformat_minor": 0,
 "worksheets": [
  {
   "cells": [
    {
     "cell_type": "heading",
     "level": 1,
     "metadata": {},
     "source": "Chapter 16: Applications to Reliability and Life Testing "
    },
    {
     "cell_type": "heading",
     "level": 2,
     "metadata": {},
     "source": "Example, Page-488"
    },
    {
     "cell_type": "code",
     "collapsed": false,
     "input": "# Variable declaration\nrel = 0.970\nn = 5\n\n# Calculation\nfrom scipy import *\nfrom pylab import *\n\n# Result\nprint \"Riliability of 5 component system: \",round(rel**5,3)\nprint \"Riliability of 10 component system: \",round(rel**10,3)",
     "language": "python",
     "metadata": {},
     "outputs": [
      {
       "output_type": "stream",
       "stream": "stdout",
       "text": "Riliability of 5 component system:  0.859\nRiliability of 10 component system:  0.737\n"
      }
     ],
     "prompt_number": 1
    },
    {
     "cell_type": "heading",
     "level": 2,
     "metadata": {},
     "source": "Example, page-489"
    },
    {
     "cell_type": "code",
     "collapsed": false,
     "input": "# Variable declaration\na1 = 0.70\na2 = 0.75\n\n# Calculation\nfrom scipy import *\nfrom pylab import *\n\na1 = 1-pow((1-a1),3)\na2 = 1-pow((1-a2),2)\n\nriliability = (0.95)*(0.99)*(a1)*(a2)*(0.90)\n\n# Result\nprint \"Riliability: \",round(riliability,3)",
     "language": "python",
     "metadata": {},
     "outputs": [
      {
       "output_type": "stream",
       "stream": "stdout",
       "text": "Riliability:  0.772\n"
      }
     ],
     "prompt_number": 2
    },
    {
     "cell_type": "heading",
     "level": 2,
     "metadata": {},
     "source": "Example, page-495"
    },
    {
     "cell_type": "code",
     "collapsed": false,
     "input": "# Variable declaration\nn = 50   # Units\nr = 10   # Failed units\nv = 20   # Degrees of freedom\n\n# Calculation\nfrom scipy import *\nfrom pylab import *\n\nl = [65,110,380,420,505,580,650,840,910,950]\n\nT = sum(l)+(50-10)*950\nU = T/10\n\nX_sq_thr = 31.410         # chi-square theoritical at alpha = 0.05\nX_sq_thr1 = 10.851        # chi-square theoritical at alpha = 0.95\n\n# 90% Confidence interval\n\nllim = (2*T)/X_sq_thr\nulim = (2*T)/X_sq_thr1\n\n# Result\nprint \"90% confidence interval(in hours): (\",int(round(llim,0)),\",\",int(round(ulim,0)),\") \"",
     "language": "python",
     "metadata": {},
     "outputs": [
      {
       "output_type": "stream",
       "stream": "stdout",
       "text": "90% confidence interval(in hours): ( 2764 , 8001 ) \n"
      }
     ],
     "prompt_number": 3
    },
    {
     "cell_type": "heading",
     "level": 2,
     "metadata": {},
     "source": "Example, Page-495"
    },
    {
     "cell_type": "code",
     "collapsed": false,
     "input": "# Variable declaration\nn = 50   # Units\nr = 10   # Failed units\nv = 20   # Degrees of freedom\n\n# Calculation\nfrom scipy import *\nfrom pylab import *\n\nl = [65,110,380,420,505,580,650,840,910,950]\n\nU = 1000/0.4\nT_prt = sum(l)+(50-10)*950\n\nX_sq_thr = 31.410         # chi-square theoritical at alpha = 0.05\nT_thr = (0.5 * U * X_sq_thr)\n\n# Result\nprint \"Practical T value: \",T_prt\nif(T_thr > T_prt):\n    print \"null hypothesis can not be rejected\"\n    print \"Failure rate is greater than 0.40 failure per thousand hours.\"\nelse:\n    print \"null hypothesis must be rejected\"\n    print \"Failure rate is less than 0.40 failure per thousand hours.\"",
     "language": "python",
     "metadata": {},
     "outputs": [
      {
       "output_type": "stream",
       "stream": "stdout",
       "text": "Practical T value:  43410\nnull hypothesis must be rejected\nFailure rate is less than 0.40 failure per thousand hours.\n"
      }
     ],
     "prompt_number": 4
    }
   ],
   "metadata": {}
  }
 ]
}