{
 "metadata": {
  "name": "",
  "signature": "sha256:62e3c7215a9b229142676375b57923e6093c3d5df04e5466e380815f12049f6e"
 },
 "nbformat": 3,
 "nbformat_minor": 0,
 "worksheets": [
  {
   "cells": [
    {
     "cell_type": "heading",
     "level": 1,
     "metadata": {},
     "source": [
      "CHAPTER 04 - THE TRANSISTOR AT LOW FREQUENCY"
     ]
    },
    {
     "cell_type": "heading",
     "level": 2,
     "metadata": {},
     "source": [
      "Example E1 - Pg 105"
     ]
    },
    {
     "cell_type": "code",
     "collapsed": false,
     "input": [
      "# Exa 4.1\n",
      "import math\n",
      "# Given data\n",
      "R1 = 100.*10.**3.;# in ohm\n",
      "R2 = 10.*10.**3.;# in ohm\n",
      "h_fe = 50.;\n",
      "h_oe = 1./40.;# in ohm\n",
      "R_L = 5.*10.**3.;# in ohm\n",
      "R_S= 5.*10.**3;# in ohm\n",
      "h_ie = 1.1*10.**3.;# in ohm\n",
      "h_re = 2.5*10.**-4.;\n",
      "R_B = (R1*R2/(R1+R2));# in ohm\n",
      "A_I = (-h_fe)/(1 + h_oe*R_L);\n",
      "print '%s %.2f %s' %(\"The internal current gain is\",A_I,\"\\n\");\n",
      "#Internal input impedance, Zi = Vbe/Ib or \n",
      "Zi = (h_ie + h_re*A_I*R_L);# in ohm\n",
      "Zi= Zi*10.**-3.;# in k ohm\n",
      "print '%s %.2f %s' %(\"The internal input impedance in k ohm is\",Zi,\"\\n\");\n",
      "Zi= Zi*10.**3.;# in ohm\n",
      "#Internal voltage gain, Av = Vce/Vbe or \n",
      "Av = (A_I*R_L)/Zi;\n",
      "print '%s %.2f %s' %(\"The internal voltage gain is\",Av,\"\\n\");\n",
      "Ri =round(R_B*Zi/(R_B+Zi));# in ohm\n",
      "Ri= Ri*10**-3;# in k ohm\n",
      "print '%s %.2f %s' %(\"The overall input impedance in k ohm is\",Ri,\"\\n\");\n",
      "Ri= Ri*10**3;# in ohm\n",
      "# V_S= I_i*R_S+v_be or\n",
      "VS_by_vbe= Ri/(Ri+R_S);\n",
      "Avs= Av*VS_by_vbe;\n",
      "print '%s %.2f %s' %(\"The overall voltage gain is : \",Avs,\"\\n\")\n",
      "# R_B*(I_i-I_b)= Zi*I_b or\n",
      "I_bBYI_i= R_B/(R_B+Zi);\n",
      "A_IS= A_I*I_bBYI_i;\n",
      "print '%s %.2f %s' %(\"The overall current gain is : \",A_IS,\"\\n\")\n",
      "Rdesh_S= R_B*R_S/(R_B+R_S);# in ohm\n",
      "Rdesh_S= 3220\n",
      "I_bByVce= -h_re/(h_ie+Rdesh_S);\n",
      "Yo= h_oe-h_fe*h_re/(h_ie+Rdesh_S)*10**3;\n",
      "Zo= 1/Yo;\n",
      "print '%s %.2f %s' %(\"The Output impedance in ohm is : \",Zo,\"\\n\")\n"
     ],
     "language": "python",
     "metadata": {},
     "outputs": [
      {
       "output_type": "stream",
       "stream": "stdout",
       "text": [
        "The internal current gain is -0.40 \n",
        "\n",
        "The internal input impedance in k ohm is 1.10 \n",
        "\n",
        "The internal voltage gain is -1.80 \n",
        "\n",
        "The overall input impedance in k ohm is 0.98 \n",
        "\n",
        "The overall voltage gain is :  -0.30 \n",
        "\n",
        "The overall current gain is :  -0.35 \n",
        "\n",
        "The Output impedance in ohm is :  45.24 \n",
        "\n"
       ]
      }
     ],
     "prompt_number": 1
    },
    {
     "cell_type": "heading",
     "level": 2,
     "metadata": {},
     "source": [
      "Example E2 - Pg 107"
     ]
    },
    {
     "cell_type": "code",
     "collapsed": false,
     "input": [
      "# Exa 4.2\n",
      "import math\n",
      "# Given data\n",
      "V_CC = 15.;# in V\n",
      "R_L = 10.;# in k ohm\n",
      "Rf = 200.;# in k ohm\n",
      "R_S = 5.;# in k ohm\n",
      "Rf2 = Rf;# in k ohm\n",
      "h_fe = 50.;\n",
      "V_S= 10.*10.**-3.;# in V\n",
      "h_oe = 1./40.;# in k ohm\n",
      "R_L = (R_L*Rf2)/(R_L+Rf2);# in k ohm\n",
      "Ai = -h_fe/(1.+h_oe*R_L);\n",
      "print '%s %.2f %s' %(\"The internal current gain is\",Ai,\"\\n\");\n",
      "#Zi = Vbe/Ib = h_ie +Ai*h_re*R_L;\n",
      "h_ie = 1.1;# in k ohm\n",
      "h_re = 2.5*10.**-4.;\n",
      "Zi = h_ie +Ai*h_re*R_L;# in k ohm\n",
      "print '%s %.2f %s' %(\"The internal input impedance in k ohm is\",Zi,\"\\n\");\n",
      "#A_V = Vce/Vbe = (Ai*R_L)/Zi;\n",
      "A_V = (Ai*R_L)/Zi;\n",
      "print '%s %.2f %s' %(\"The internal voltage gain is\",A_V,\"\\n\");\n",
      "Rf1= Rf/(1-A_V)\n",
      "# Rf1 = Rf/(1-A_V);# in k ohm\n",
      "#Ri = Vi/Ii = Vbe/Ii = (Rf1*Zi)/(Rf1+Zi);\n",
      "Ri = (Rf1*Zi)/(Rf1+Zi);# in k ohm\n",
      "print '%s %.2f %s' %(\"The overall input impedance in k ohm is\",Ri,\"\\n\");\n",
      "#A_VS = Vo/V_S or \n",
      "A_VS = A_V*(Ri/(R_S+Ri));\n",
      "print '%s %.2f %s' %(\"The overall voltage gain is\",A_VS,\"\\n\");\n",
      "#A_IS = I_L/Ii or\n",
      "A_IS = (Rf2/(Rf2+R_L))*Ai*(Rf1/(Rf1+Zi));\n",
      "print '%s %.2f %s' %(\"The overall current gain is\",A_IS,\"\\n\");\n",
      "Rdesh_S= Rf1*R_S/(Rf1+R_S);# in k ohm\n",
      "Yo= h_oe-h_re*h_fe/(h_ie+Rdesh_S);# in mho\n",
      "Zo= 1/Yo;# in ohm\n",
      "print '%s %.2f %s' %(\"The output impedance in ohm is : \",Zo,\"\\n\")\n",
      "Zdesh_o= Rf2*Zo/(Rf2+Zo);# in ohm\n",
      "print '%s %.2f %s' %(\"The overall output impedance in ohm is : \",Zdesh_o,\"\\n\");\n",
      "Vo= V_S*abs(A_VS);# in V\n",
      "Vo= Vo*10**3;# in mV\n",
      "print '%s %.2f %s' %(\"The magnitude of output voltage in mV is : \",Vo,\"\\n\")\n"
     ],
     "language": "python",
     "metadata": {},
     "outputs": [
      {
       "output_type": "stream",
       "stream": "stdout",
       "text": [
        "The internal current gain is -40.38 \n",
        "\n",
        "The internal input impedance in k ohm is 1.00 \n",
        "\n",
        "The internal voltage gain is -383.14 \n",
        "\n",
        "The overall input impedance in k ohm is 0.34 \n",
        "\n",
        "The overall voltage gain is -24.58 \n",
        "\n",
        "The overall current gain is -13.17 \n",
        "\n",
        "The output impedance in ohm is :  58.66 \n",
        "\n",
        "The overall output impedance in ohm is :  45.36 \n",
        "\n",
        "The magnitude of output voltage in mV is :  245.85 \n",
        "\n"
       ]
      }
     ],
     "prompt_number": 2
    },
    {
     "cell_type": "heading",
     "level": 2,
     "metadata": {},
     "source": [
      "Example E3 - Pg 108"
     ]
    },
    {
     "cell_type": "code",
     "collapsed": false,
     "input": [
      "# Exa 4.3\n",
      "import math \n",
      "# Given data\n",
      "h_ic = 2.;# in k ohm\n",
      "h_fc = -51.;\n",
      "h_oc = 25.*10.**-6.;# in ohm\n",
      "h_rc= 1.;\n",
      "V_CC = 20.;# in V\n",
      "R1 = 10.;# in k ohm\n",
      "R2 = 10.;# in k ohm\n",
      "R_S = 1.;# in k ohm\n",
      "R_E = 5.;# in k ohm\n",
      "R_B= 5.;# in k ohm\n",
      "R_L= 5.;# in k ohm\n",
      "# (i) Current Gain\n",
      "Ai = (-h_fc)/(1.+h_oc*R_E*10.**3.);\n",
      "print '%s %.2f %s' %(\"The current gain is\",Ai,\"\\n\");\n",
      "# (ii) Input impedance\n",
      "Zi = h_ic*10**3 + h_rc*Ai*R_E*10**3;# in ohm\n",
      "Zi = Zi * 10**-3;# in k ohm\n",
      "print '%s %.2f %s' %(\"The input impedance in k ohm is\",Zi,\"\\n\");\n",
      "# (iii) Voltage Gain\n",
      "A_V = (Ai*R_L*10**3)/(Zi*10**3);\n",
      "A_V = 1;# (approx)\n",
      "print '%s %.2f %s' %(\"The voltage gain is\",A_V,\"\\n\");\n",
      "# (iv) Overall Input Impedance\n",
      "Z_IS = (R_B*Zi)/(R_B+Zi);# in k ohm\n",
      "print '%s %.2f %s' %(\"The overall input impedance in k ohm is\",Z_IS,\"\\n\");\n",
      "# (v) Overall voltage gain\n",
      "A_VS = (A_V*Zi)/(Zi+R_S); \n",
      "print '%s %.2f %s' %(\"The overall voltage gain is\",A_VS,\"\\n\");\n",
      "# (vi) Overall current gain\n",
      "A_IS =Ai*(R_B/(R_B+Zi));\n",
      "print '%s %.2f %s' %(\"The overall current gain is\",A_IS,\"\\n\");\n",
      "# (vii) Output impedance\n",
      "RdasS = (R_S*R_B)/(R_S+R_B);# in k ohm\n",
      "Yo = h_oc - ( (h_fc*h_rc)/(h_ic*10.**3.+RdasS*10.**3.) );# in mho \n",
      "Zo = 1./Yo;# in ohm\n",
      "print '%s %.2f %s' %(\"The output impedance in ohm is\",Zo,\"\\n\");\n"
     ],
     "language": "python",
     "metadata": {},
     "outputs": [
      {
       "output_type": "stream",
       "stream": "stdout",
       "text": [
        "The current gain is 45.33 \n",
        "\n",
        "The input impedance in k ohm is 228.67 \n",
        "\n",
        "The voltage gain is 1.00 \n",
        "\n",
        "The overall input impedance in k ohm is 4.89 \n",
        "\n",
        "The overall voltage gain is 1.00 \n",
        "\n",
        "The overall current gain is 0.97 \n",
        "\n",
        "The output impedance in ohm is 55.48 \n",
        "\n"
       ]
      }
     ],
     "prompt_number": 3
    },
    {
     "cell_type": "heading",
     "level": 2,
     "metadata": {},
     "source": [
      "Example E4 - Pg 110"
     ]
    },
    {
     "cell_type": "code",
     "collapsed": false,
     "input": [
      "# Exa 4.4\n",
      "# Given data\n",
      "h_ie = 1.1;# in k ohm\n",
      "h_re = 2.5*10.**-4.;\n",
      "h_fe = 50.;\n",
      "h_oe = 25.*10.**-6.;# in A\n",
      "V_CC = 15.;# in V\n",
      "R1 = 20.;# in k ohm\n",
      "R_C = 2.;# in k ohm\n",
      "R2 = 10.;# in k ohm\n",
      "R_S = 1.;# in k ohm\n",
      "R_E = 1.;# in k ohm\n",
      "# (i) Current Gain\n",
      "Ai = -h_fe/(1. + h_oe*R_C*10.**3.);\n",
      "print '%s %.2f %s' %(\"The current gain is\",Ai,\"\\n\");\n",
      "# (ii) Input impedance\n",
      "Zi = (h_ie*10**3) + (h_re*Ai*R_C*10**3);#in ohm\n",
      "Zi = Zi * 10**-3;# in k ohm\n",
      "print '%s %.2f %s' %(\"The input impedance in k ohm is\",Zi,\"\\n\");\n",
      "# (iii) Voltage gain\n",
      "A_V = (Ai*R_C)/Zi;\n",
      "print '%s %.2f %s' %(\"The voltage gain is\",A_V,\"\\n\");\n",
      "# (iv) Overall input impedance\n",
      "R_B = (R1*R2)/(R1+R2);# in k ohm\n",
      "Z_IS = (Zi*R_B)/(Zi+R_B);# in k ohm\n",
      "print '%s %.2f %s' %(\"The overall input impedance in k ohm is\",Z_IS,\"\\n\");\n",
      "# (v) Overall voltage gain\n",
      "A_VS = A_V * (Z_IS/(Z_IS+R_S));\n",
      "print '%s %.2f %s' %(\"The overall voltage gain is\",A_VS,\"\\n\");\n",
      "# (vi) Overall current gain\n",
      "A_IS =Ai*(R_B/(R_B+Zi));\n",
      "print '%s %.2f %s' %(\"The overall current gain is\",A_IS,\"\\n\");\n"
     ],
     "language": "python",
     "metadata": {},
     "outputs": [
      {
       "output_type": "stream",
       "stream": "stdout",
       "text": [
        "The current gain is -47.62 \n",
        "\n",
        "The input impedance in k ohm is 1.08 \n",
        "\n",
        "The voltage gain is -88.50 \n",
        "\n",
        "The overall input impedance in k ohm is 0.93 \n",
        "\n",
        "The overall voltage gain is -42.56 \n",
        "\n",
        "The overall current gain is -41.00 \n",
        "\n"
       ]
      }
     ],
     "prompt_number": 4
    },
    {
     "cell_type": "heading",
     "level": 2,
     "metadata": {},
     "source": [
      "Example E5 - Pg 111"
     ]
    },
    {
     "cell_type": "code",
     "collapsed": false,
     "input": [
      "# Exa 4.5\n",
      "# Given data\n",
      "h_ie = 1.1;# in k ohm\n",
      "h_oe = 25.;# in A/V\n",
      "h_oe = h_oe * 10.**-6.;# in A/V\n",
      "h_fe = 50.;\n",
      "h_re = 2.5*10.**-4.;\n",
      "R_L = 1.6;# in ohm\n",
      "R_S = 1.;# in k ohm\n",
      "V_CC = 15.;# in V\n",
      "# (i) Current Gain\n",
      "Ai = -h_fe/(1. + (h_oe*R_L));\n",
      "print '%s %.2f %s' %(\"The current gain is\",Ai,\"\\n\");\n",
      "# (ii) Input impedance\n",
      "Zi = (h_ie*10**3) + (h_re*Ai*R_L);# in ohm\n",
      "Zi= Zi*10**-3;# in k ohm\n",
      "print '%s %.2f %s' %(\"The input impedance in k ohm is\",Zi,\"\\n\");\n",
      "Zi= Zi*10**3;# in ohm\n",
      "# (iii) Voltage gain\n",
      "A_V = Ai*R_L/Zi;\n",
      "print '%s %.2f %s' %(\"The voltage gain is\",A_V,\"\\n\");\n",
      "# (iv) Power gain\n",
      "A_P = Ai*A_V;\n",
      "print '%s %.2f %s' %(\"The power gain is\",A_P,\"\\n\");\n"
     ],
     "language": "python",
     "metadata": {},
     "outputs": [
      {
       "output_type": "stream",
       "stream": "stdout",
       "text": [
        "The current gain is -50.00 \n",
        "\n",
        "The input impedance in k ohm is 1.10 \n",
        "\n",
        "The voltage gain is -0.07 \n",
        "\n",
        "The power gain is 3.64 \n",
        "\n"
       ]
      }
     ],
     "prompt_number": 5
    },
    {
     "cell_type": "heading",
     "level": 2,
     "metadata": {},
     "source": [
      "Example E6 - Pg 112"
     ]
    },
    {
     "cell_type": "code",
     "collapsed": false,
     "input": [
      "# Exa 4.6\n",
      "# Given data\n",
      "h_fe = 150.;\n",
      "Beta_dc = h_fe;\n",
      "h_ie = 1.*10.**3.;# in ohm\n",
      "h_re = 0;\n",
      "h_oe = 0;\n",
      "V_CC = 18.;# in V\n",
      "V_BE= 0.7;# in V\n",
      "R1 = 100.*10.**3.;# in ohm\n",
      "R2 = 50.*10.**3.;# in ohm\n",
      "R_C = 1.*10.**3.;# in ohm\n",
      "R_E = 0.5*10.**3.;# in ohm\n",
      "V_Th = (V_CC/(R1+R2))*R2;# in V\n",
      "R_Th =(R1*R2)/(R1+R2);# in ohm\n",
      "# V_Th - I_B*R_Th - V_BE - (1+Beta)*-I_B*R_E = 0;\n",
      "I_B = (V_Th-V_BE)/( R_Th + (1+Beta_dc)*R_E);# in A\n",
      "#I_C = I_CQ = Beta*I_B;\n",
      "I_C = Beta_dc*I_B;# in A\n",
      "I_CQ = I_C;# in A\n",
      "I_CQ= I_CQ*10.**3.;# in mA\n",
      "print '%s %.2f %s' %(\"The value of I_CQ in mA is\",I_CQ,\"\\n\");\n",
      "I_E = (1+Beta_dc)*I_B;# in mA\n",
      "# V_CC - I_C*R_C - V_CE - I_E*R_E = 0;\n",
      "V_CE = V_CC - (I_C*R_C) - (I_E*R_E);# in V\n",
      "print '%s %.2f %s' %(\"The value of V_CE in V is\",V_CE,\"\\n\");\n",
      "R_L =R_C;# in ohm\n",
      "Ai = -h_fe/(1+(h_oe*R_L));\n",
      "print '%s %.2f %s' %(\"The current gain is \",Ai,\"\\n\");\n",
      "Zi = h_ie + h_re*Ai*R_L;# in ohm\n",
      "Zi= Zi*10**-3;# in k ohm\n",
      "print '%s %.2f %s' %(\"The input impedance in k ohm is\",Zi,\"\\n\");\n",
      "Zi= Zi*10**3;# in ohm\n",
      "A_V = Ai*(R_L/Zi);\n",
      "print '%s %.2f %s' %(\"The voltage gain is\",A_V,\"\\n\");\n",
      "R_B= (R1*R2)/(R1+R2);# in ohm\n",
      "Z_IS =(Zi*R_B)/(Zi+R_B);# in ohm\n",
      "Z_IS= Z_IS*10**-3;# in kohm\n",
      "print '%s %.2f %s' %(\"The overall input impedance in k ohm is\",Z_IS,\"\\n\");\n",
      "Z_IS= Z_IS*10**3;# in ohm\n",
      "A_VS =A_V*(Z_IS/Z_IS);\n",
      "print '%s %.2f %s' %(\"The overall voltage gain is\",A_VS,\"\\n\");\n",
      "A_IS =Ai * (R_B/(R_B+Zi));\n",
      "print '%s %.2f %s' %(\"The overall current gain is\",A_IS,\"\\n\");\n"
     ],
     "language": "python",
     "metadata": {},
     "outputs": [
      {
       "output_type": "stream",
       "stream": "stdout",
       "text": [
        "The value of I_CQ in mA is 7.30 \n",
        "\n",
        "The value of V_CE in V is 7.02 \n",
        "\n",
        "The current gain is  -150.00 \n",
        "\n",
        "The input impedance in k ohm is 1.00 \n",
        "\n",
        "The voltage gain is -150.00 \n",
        "\n",
        "The overall input impedance in k ohm is 0.97 \n",
        "\n",
        "The overall voltage gain is -150.00 \n",
        "\n",
        "The overall current gain is -145.63 \n",
        "\n"
       ]
      }
     ],
     "prompt_number": 6
    }
   ],
   "metadata": {}
  }
 ]
}