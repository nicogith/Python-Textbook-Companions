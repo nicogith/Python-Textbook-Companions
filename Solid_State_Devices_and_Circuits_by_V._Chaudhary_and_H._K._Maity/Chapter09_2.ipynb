{
 "metadata": {
  "name": "",
  "signature": "sha256:c9cce6944e423e15aaddc68b67071d9a7043478b3a9dbd47c2ca806b41b5f2da"
 },
 "nbformat": 3,
 "nbformat_minor": 0,
 "worksheets": [
  {
   "cells": [
    {
     "cell_type": "heading",
     "level": 1,
     "metadata": {},
     "source": [
      "CHAPTER 09 - FREQUENCY RESPONSE"
     ]
    },
    {
     "cell_type": "heading",
     "level": 2,
     "metadata": {},
     "source": [
      "Example E02 - Pg 234"
     ]
    },
    {
     "cell_type": "code",
     "collapsed": false,
     "input": [
      "# Exa 9.2\n",
      "# Given data\n",
      "import math\n",
      "bita= 100.;\n",
      "V_B1= 5.;# in V\n",
      "V_E1= 4.3;# in V\n",
      "R_E1= 4.3*10.**3.;# in ohm\n",
      "V_E2= 3.6;# in V\n",
      "R_E2= 3.6*10.**3.;# in ohm\n",
      "R_C=4.*10.**3.;# in ohm\n",
      "R_L= 4.*10.**3;# in ohm\n",
      "R1= 100.*10.**3.;# in ohm\n",
      "R2= 100.*10.**3.;# in ohm\n",
      "gm= 40.*10.**-3.;# in A/V\n",
      "re= 25.;# in W\n",
      "r_pie= 2.5*10.**3.;# in W\n",
      "f_r= 400.*10.**6.;# in Hz\n",
      "C_miu= 2.*10.**-12.;# in F\n",
      "omega_T= 2.*math.pi*f_r;# in radian\n",
      "Rin= 38.*10.**3.;# in ohm\n",
      "R_S= 4.*10.**3.;# in ohm\n",
      "R_pie1= 80.;#in ohm\n",
      "Ve1ByVb1= 0.98;# in V/V\n",
      "I_E1= V_E1/R_E1;# in A\n",
      "I_E2= V_E2/R_E2;# in A\n",
      "# We know, C_pie + C_miu= gm/ometa_T or\n",
      "C_Pie= gm/omega_T-C_miu;# in F\n",
      "Vb1ByVs= Rin/(Rin+R_S);# in V/V\n",
      "#Ve1ByVb1= R_E1*r_pie2/(R_E1*r_pie2)/(R_E1*r_pie2/(R_E1*r_pie2)+r_e1);\n",
      "VeByVb1= R_E1*r_pie/(R_E1*r_pie)/(R_E1*r_pie/(R_E1*r_pie)+R_E1);# in V/V\n",
      "# The gain of the common-emitter amplifier Q2\n",
      "VoByVe1= -gm*R_C*R_L/(R_C+R_L);# in V/V\n",
      "# The overall gain\n",
      "VoByVs= Vb1ByVs*Ve1ByVb1*VoByVe1;# in V/V\n",
      "RdeshS= R1*R2*R_S/(R1*R2+R2*R_S+R_S*R1);\n",
      "RdeshE1= R_E1*r_pie/(R_E1+r_pie);# in k ohm\n",
      "R_miu1= R_S*Rin/(R_S+Rin)*10**-3;# in k ohm\n",
      "R_pi1= (r_pie*(RdeshS+RdeshE1)/(1+gm*RdeshE1))/r_pie+(RdeshS+RdeshE1)/(1+gm*RdeshE1);\n",
      "R_T=round( RdeshE1*(r_pie+RdeshS)/(bita+1)/(RdeshE1+(r_pie+RdeshS)/(bita+1)));# in ohm\n",
      "print '%s %.2f' %(\"The overall voltage gain in V/V is : \",VoByVs)\n",
      "print '%s %.2f' %(\"The value of R_miu1 in ohm is : \",R_miu1)\n",
      "print '%s %.f' %(\"The value of R_pie1 in ohm is : \",R_pie1)\n",
      "print '%s %.f' %(\"The value of R_T in ohm is : \",R_T)"
     ],
     "language": "python",
     "metadata": {},
     "outputs": [
      {
       "output_type": "stream",
       "stream": "stdout",
       "text": [
        "The overall voltage gain in V/V is :  -70.93\n",
        "The value of R_miu1 in ohm is :  3.62\n",
        "The value of R_pie1 in ohm is :  80\n",
        "The value of R_T in ohm is :  59\n"
       ]
      }
     ],
     "prompt_number": 1
    },
    {
     "cell_type": "heading",
     "level": 2,
     "metadata": {},
     "source": [
      "Example E03 - Pg 235"
     ]
    },
    {
     "cell_type": "code",
     "collapsed": false,
     "input": [
      "# Exa 9.3\n",
      "import math\n",
      "# Given data\n",
      "wH= '0.9*wp1';\n",
      "wp2='wp1*k';\n",
      "#wH= 1/sqrt(1/wp1**1+1/(k*wp1)**2)\n",
      "k= math.sqrt(0.9**2./(1-0.9**2.));\n",
      "print '%s %.2f' %(\"The value of k is : \",k)"
     ],
     "language": "python",
     "metadata": {},
     "outputs": [
      {
       "output_type": "stream",
       "stream": "stdout",
       "text": [
        "The value of k is :  2.06\n"
       ]
      }
     ],
     "prompt_number": 2
    },
    {
     "cell_type": "heading",
     "level": 2,
     "metadata": {},
     "source": [
      "Example E04 - Pg 238"
     ]
    },
    {
     "cell_type": "code",
     "collapsed": false,
     "input": [
      "# Exa 9.4\n",
      "# Given data\n",
      "Rs = 1.;# in k ohm\n",
      "Rs = Rs * 10.**3.;# in ohm\n",
      "omega_z = 10.;# in rad/sec\n",
      "omega_p = 100.;# in rad/sec\n",
      "#omega_z = 1/(Rs*Cs);\n",
      "Cs = 1./(Rs*omega_z);# in F\n",
      "print '%s %.f' %(\"The value of Cs in uF is\",Cs*10.**6.);\n",
      "#omega_p = (g_m + (1/Rs))/Cs;\n",
      "g_m = omega_p*Cs-1/Rs;# in A/V\n",
      "g_m= g_m*10.**3.;# in mA/V\n",
      "print '%s %.f' %(\"The value of g_m in mA/V is\",g_m)\n",
      "\n",
      "# Note: The unit of g_m in the book is wrong. It will be in mA/V not in nA/V."
     ],
     "language": "python",
     "metadata": {},
     "outputs": [
      {
       "output_type": "stream",
       "stream": "stdout",
       "text": [
        "The value of Cs in uF is 100\n",
        "The value of g_m in mA/V is 9\n"
       ]
      }
     ],
     "prompt_number": 3
    }
   ],
   "metadata": {}
  }
 ]
}