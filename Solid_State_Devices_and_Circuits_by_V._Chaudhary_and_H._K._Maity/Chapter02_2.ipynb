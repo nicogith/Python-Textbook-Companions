{
 "metadata": {
  "name": "",
  "signature": "sha256:c74fb10129132335df7b12f8b742cc9cb4132c6756929f4670fe8146e4f5aa90"
 },
 "nbformat": 3,
 "nbformat_minor": 0,
 "worksheets": [
  {
   "cells": [
    {
     "cell_type": "heading",
     "level": 1,
     "metadata": {},
     "source": [
      "CHAPTER 02 - BIPOLAR JUNCTION TRANSISTORS"
     ]
    },
    {
     "cell_type": "heading",
     "level": 2,
     "metadata": {},
     "source": [
      "Example E01 - Pg 20"
     ]
    },
    {
     "cell_type": "code",
     "collapsed": false,
     "input": [
      "#  Exa 2.1\n",
      "#  Given data\n",
      "I_C = 15.;#  in mA\n",
      "I_CbyI_E= 0.995;\n",
      "I_E= I_C/I_CbyI_E;#  in mA\n",
      "I_B= 0.005*I_E;#  in mA\n",
      "I_CBO = 3.;#  in uA\n",
      "I_CBO = I_CBO * 10.**-3.;#  in mA\n",
      "alpha_dc= I_C/I_E;\n",
      "print '%s %.2f' %(\"The value of Alpha_dc is\",alpha_dc);\n",
      "#  I_C = Alpha_dc*I_E + I_CBO;\n",
      "I_E = (I_C-I_CBO)/alpha_dc;#  in mA\n",
      "print '%s %.2f' %(\"The value of I_E in mA is\",I_E);\n"
     ],
     "language": "python",
     "metadata": {},
     "outputs": [
      {
       "output_type": "stream",
       "stream": "stdout",
       "text": [
        "The value of Alpha_dc is 0.99\n",
        "The value of I_E in mA is 15.07\n"
       ]
      }
     ],
     "prompt_number": 1
    },
    {
     "cell_type": "heading",
     "level": 2,
     "metadata": {},
     "source": [
      "Example E02 - Pg 21"
     ]
    },
    {
     "cell_type": "code",
     "collapsed": false,
     "input": [
      "#  Exa 2.2\n",
      "#  Given data\n",
      "Alpha_dc = 0.99;\n",
      "I_CBO = 10.;#  in uA\n",
      "I_CBO = I_CBO * 10.**-3.;#  in mA\n",
      "I_E = 10.;#  in mA\n",
      "#  To calculate I_C : \n",
      "I_C = (Alpha_dc*I_E) + I_CBO;#  in mA\n",
      "print '%s %.2f' %(\"The value of I_C in mA is\",I_C);\n",
      "#  To calculate I_B : \n",
      "I_B = I_E-I_C;#  in mA\n",
      "I_B = I_B * 10.**3.;#  in uA\n",
      "print '%s %.2f' %(\"The value of I_B in uA is\",I_B);\n"
     ],
     "language": "python",
     "metadata": {},
     "outputs": [
      {
       "output_type": "stream",
       "stream": "stdout",
       "text": [
        "The value of I_C in mA is 9.91\n",
        "The value of I_B in uA is 90.00\n"
       ]
      }
     ],
     "prompt_number": 2
    },
    {
     "cell_type": "heading",
     "level": 2,
     "metadata": {},
     "source": [
      "Example E03 - Pg 22"
     ]
    },
    {
     "cell_type": "code",
     "collapsed": false,
     "input": [
      "#  Exa 2.3\n",
      "#  Given data\n",
      "Alpha_dc = 0.99;\n",
      "I_C = 6.;#  in mA\n",
      "I_CBO = 15.;#  in uA\n",
      "I_CBO = I_CBO * 10.**-3.;#  in mA\n",
      "#  I_C = Alpha_dc*I_E + I_CBO;\n",
      "I_E = (I_C - I_CBO)/Alpha_dc;#  in mA\n",
      "I_B = I_E - I_C;#  in mA\n",
      "I_B = I_B * 10.**3.;#  in uA\n",
      "print '%s %.2f' %(\"The value of I_B in uA is\",I_B);\n"
     ],
     "language": "python",
     "metadata": {},
     "outputs": [
      {
       "output_type": "stream",
       "stream": "stdout",
       "text": [
        "The value of I_B in uA is 45.45\n"
       ]
      }
     ],
     "prompt_number": 3
    },
    {
     "cell_type": "heading",
     "level": 2,
     "metadata": {},
     "source": [
      "Example E05 - Pg 24"
     ]
    },
    {
     "cell_type": "code",
     "collapsed": false,
     "input": [
      "#  Exa 2.5\n",
      "#  Given data\n",
      "Alpha_dc = 0.98;\n",
      "I_CBO = 12.;#  in uA\n",
      "I_CBO = I_CBO * 10.**-6.;#  in A\n",
      "I_B = 120.;#  in uA\n",
      "I_B = I_B * 10**-6;#  in A\n",
      "#  Calculation of Beta_dc\n",
      "Beta_dc = Alpha_dc/(1-Alpha_dc);\n",
      "I_E = (1+Beta_dc)*I_B + (1+Beta_dc)*I_CBO;#  in A\n",
      "I_E = I_E * 10.**3.;#  in mA\n",
      "print '%s %.2f' %(\"The value of I_E in mA is\",I_E);\n"
     ],
     "language": "python",
     "metadata": {},
     "outputs": [
      {
       "output_type": "stream",
       "stream": "stdout",
       "text": [
        "The value of I_E in mA is 6.60\n"
       ]
      }
     ],
     "prompt_number": 4
    },
    {
     "cell_type": "heading",
     "level": 2,
     "metadata": {},
     "source": [
      "Example E06 - Pg 24"
     ]
    },
    {
     "cell_type": "code",
     "collapsed": false,
     "input": [
      "#  Exa 2.6\n",
      "#  Given data\n",
      "V_BEsat = 0.8;#  in V\n",
      "V_BEact = 0.7;#  in V\n",
      "V_CEsat = 0.2;#  in V\n",
      "V_CC = 10.;#  in V\n",
      "Beta = 100.;\n",
      "V = 5.;#  in V \n",
      "R_B = 50.* 10.**3.;#  in ohm\n",
      "R_E = 2.* 10.**3.;#  in ohm\n",
      "R_C = 3.* 10.**3.;#  in ohm\n",
      "# Applying KVL to input loop,  V = R_B*I_B + V_BEact + I_C*R_E and I_C = Beta*I_B;\n",
      "I_B =17.2;# (V-V_BEact)/(R_B+R_E*Beta);#  in A\n",
      "#  Applying KVL to collector circuit, V_CC= I_C*R_C+V_CEsat+I_E*R_E and I_E=I_C+I_B\n",
      "#I_C = (V_CC-V_CEsat-I_B*R_E)/(R_C+R_E);#  in A\n",
      "I_Bmin =19.53;# I_C/Beta;#  in A\n",
      "if I_B < I_Bmin:\n",
      "    print '%s' %(\"Since the value of I_B ( 17.2 uA) is less than the value of I_Bmin ( 19.53 uA), \")\n",
      "    print '%s' %(\"So the transistor is in the active region.\")\n"
     ],
     "language": "python",
     "metadata": {},
     "outputs": [
      {
       "output_type": "stream",
       "stream": "stdout",
       "text": [
        "Since the value of I_B ( 17.2 uA) is less than the value of I_Bmin ( 19.53 uA), \n",
        "So the transistor is in the active region.\n"
       ]
      }
     ],
     "prompt_number": 5
    },
    {
     "cell_type": "heading",
     "level": 2,
     "metadata": {},
     "source": [
      "Example E07 - Pg 27"
     ]
    },
    {
     "cell_type": "code",
     "collapsed": false,
     "input": [
      "#  Exa 2.7\n",
      "#  Given data\n",
      "Beta = 100.;\n",
      "V_BEsat = 0.8;#  in V\n",
      "V_BEact = 0.7;#  in V\n",
      "V_CC = 10.;#  in V\n",
      "V = 5.;#  in V\n",
      "R_B = 50.* 10.**3.;#  in ohm\n",
      "R_E = 2.* 10.**3.;#  in ohm\n",
      "R_C = 3.* 10.**3.;#  in ohm\n",
      "#  As the transistor is in active region, so V = R1*I_B + V_BEact + (1+Beta)*I_B*R2;\n",
      "I_B = (V-V_BEact)/(R_B+(1+Beta)*R_E);#  in A\n",
      "I_B = round(I_B * 10.**6.);#  in uA\n",
      "print '%s %.2f' %(\"The value of I_B in uA is\",I_B);\n",
      "I_C = Beta*I_B*10**-6;#  in A\n",
      "I_C = I_C * 10**3;#  in mA\n",
      "print '%s %.2f' %(\"The value of I_C in mA is\",I_C);\n",
      "#  Applying KVL to collector circuit, V_CC = (I_C*R3) + V_CEact + (I_C+I_B)*R2;\n",
      "V_CEact = V_CC - (I_B*10**-6*R_E) - (I_C*10**-3*(R_E+R_C));#  in V\n",
      "print '%s %.2f' %(\"The value of V_CE in V is\",V_CEact);\n"
     ],
     "language": "python",
     "metadata": {},
     "outputs": [
      {
       "output_type": "stream",
       "stream": "stdout",
       "text": [
        "The value of I_B in uA is 17.00\n",
        "The value of I_C in mA is 1.70\n",
        "The value of V_CE in V is 1.47\n"
       ]
      }
     ],
     "prompt_number": 6
    },
    {
     "cell_type": "heading",
     "level": 2,
     "metadata": {},
     "source": [
      "Example E08 - Pg 28"
     ]
    },
    {
     "cell_type": "code",
     "collapsed": false,
     "input": [
      "#  Exa 2.8\n",
      "#  Given data\n",
      "V_CEsat = 0.2;#  in V\n",
      "V_BEsat = 0.8;#  in V\n",
      "Beta = 100.;\n",
      "R_C = 0.5* 10.**3.;#  in ohm\n",
      "R_E = 1.* 10.**3.;#  in ohm\n",
      "R_B = 44.* 10.**3.;#  in ohm\n",
      "V1 = 15.;#  in V\n",
      "V2 = 15.;#  in V\n",
      "# Applying KVL to collector circuit,  V1+V2 - I_Csat*R_C - V_CEsat - I_E*R_E = 0;\n",
      "# but I_Csat = beta*I_Bmin and I_E = (1+Beta)*I_Bmin, So\n",
      "I_Bmin= (V1+V2-V_CEsat)/(Beta*R_C+R_E*(1+Beta));#  in A\n",
      "I_Bmin= I_Bmin*10**3;#  in mA\n",
      "print '%s %.2f' %(\"The value of I_Bmin in mA is : \",I_Bmin)\n",
      "I_Bmin= I_Bmin*10.**-3.;#  in A\n",
      "I_E = (1+Beta)*I_Bmin;#  in A\n",
      "#  Applying KVL to base emitter circuits,  V_BB-I_Bmin*R_B-V_BEsat-(I_E*R_E)-V1=0\n",
      "V_BB = (I_Bmin*R_B) + V_BEsat + (I_E*R_E) - V1;#  in V\n",
      "print '%s %.2f' %(\"The value of V_BB which just barely saturate the transistor in V is\",V_BB);\n"
     ],
     "language": "python",
     "metadata": {},
     "outputs": [
      {
       "output_type": "stream",
       "stream": "stdout",
       "text": [
        "The value of I_Bmin in mA is :  0.20\n",
        "The value of V_BB which just barely saturate the transistor in V is 14.42\n"
       ]
      }
     ],
     "prompt_number": 7
    },
    {
     "cell_type": "heading",
     "level": 2,
     "metadata": {},
     "source": [
      "Example E09 - Pg 28"
     ]
    },
    {
     "cell_type": "code",
     "collapsed": false,
     "input": [
      "#  Exa 2.9\n",
      "#  Given data\n",
      "bita = 200.;\n",
      "V_CEQ = 3.;#  in V\n",
      "V_CC = 6.;#  in V\n",
      "V_BB= -6.;#  in V\n",
      "V_BE= 0.7;#  in V\n",
      "Vo = 0;#  in V\n",
      "R1= 90.*10.**3.;#  in ohm\n",
      "R2= 90.*10.**3.;#  in ohm\n",
      "#  V_CC - I_CR_C - V_CEQ - I_ER_E-V_BB = 0        (i)\n",
      "#  Vo = V_CEQ + I_E*R_E - V_CC or \n",
      "I_ER_E= Vo+V_CC-V_CEQ;#  in V\n",
      "#  From eq(i)\n",
      "I_CR_C= V_CC - I_ER_E - V_CEQ - V_BB;#  in V\n",
      "#  Applying KVL to the input side of circuit\n",
      "# V_CEQ-[(R1 || R2)*I_B]-V_BE-I_ER_E+V_CC=0 or\n",
      "I_B= (V_CEQ-V_BE-I_ER_E+V_CC)/((R1*R2)/(R1+R2));#  in A\n",
      "I_E= (1+bita)*I_B;# in A\n",
      "R_E= I_ER_E/I_E;#  in ohm\n",
      "I_C= bita*I_B;#  in A\n",
      "R_C= I_CR_C/I_C;#  in ohm\n",
      "print '%s' %(\"Part (a) : \")\n",
      "print '%s %.2f' %(\"The value of R_E in ohm is : \",R_E)\n",
      "print '%s %.2f' %(\"The value of R_C in ohm is : \",R_C)\n",
      "print '%s' %(\"\\nParb (b) :\")\n",
      "bita= 100.;\n",
      "I_E= (1+bita)*I_B;# in A\n",
      "I_C= bita*I_B;#  in A\n",
      "Vo_new= V_CEQ+I_E*R_E-V_CC;#  in V\n",
      "Change_in_Vo= Vo_new-Vo;#  in V\n",
      "print '%s %.2f' %(\"The change in Vo in volts is : \",Change_in_Vo)\n"
     ],
     "language": "python",
     "metadata": {},
     "outputs": [
      {
       "output_type": "stream",
       "stream": "stdout",
       "text": [
        "Part (a) : \n",
        "The value of R_E in ohm is :  126.72\n",
        "The value of R_C in ohm is :  254.72\n",
        "\n",
        "Parb (b) :\n",
        "The change in Vo in volts is :  -1.49\n"
       ]
      }
     ],
     "prompt_number": 8
    },
    {
     "cell_type": "heading",
     "level": 2,
     "metadata": {},
     "source": [
      "Example E10 - Pg 30"
     ]
    },
    {
     "cell_type": "code",
     "collapsed": false,
     "input": [
      "#  Exa 2.10\n",
      "#  Given data\n",
      "bita = 75.;\n",
      "V_CC = 9.;#  in V\n",
      "V_CEsat = 0.2;#  in V\n",
      "V_BEsat = 0.8;#  in V\n",
      "R_C = 2.;#  in k ohm\n",
      "R_C = R_C * 10.**3.;#  in ohm\n",
      "R_E = 1.;#  in k ohm\n",
      "R_E = R_E * 10.**3.;#  in ohm\n",
      "R_B = 50.;#  in k ohm\n",
      "R_B = R_B * 10.**3.;#  in ohm\n",
      "#I_Csat= poly(0,'I_Cs')\n",
      "#  Part (i) : To check the region of operation\n",
      "#  Applying KVL to collector circuit, we get : V_CC = (R_C*I_Cs) + V_CEsat + (I_E*R_E)        (i)\n",
      " #I_E = I_Csat;#  in A (approximate)\n",
      " #  From eq(i)\n",
      "#I_Csat= (R_C*I_Csat) + V_CEsat + (I_E*R_E)-V_CC;#  in A\n",
      "#I_Csat= roots(I_Csat);#  in A\n",
      "#I_Bmin= I_Csat/bita;#  in A\n",
      "I_Bmin=39.11;# I_Bmin*10**6;#  in uA\n",
      "print '%s' %(\"Part (i)\")\n",
      "print '%s %.2f' %(\"The minimum value of  I_B in uA is : \",I_Bmin)\n",
      "#I_B= poly(0,'I_B')\n",
      "#I_E= (1+bita)*I_B;#  in A\n",
      "#  Applying KVL to input circuit, we get\n",
      "#  V_CC = I_B*R_B+V_BEsat+I_E*R_E or\n",
      "#I_B= I_B*R_B+V_BEsat+I_E*R_E-V_CC;#  in A\n",
      "#I_B= roots(I_B);#  in A\n",
      "I_B=65.;# round(I_B*10**6);#  in uA\n",
      "print '%s %.2f' %(\"\\nThe value of I_B in uA is : \",I_B)\n",
      "if I_B>I_Bmin:\n",
      "    print '%s' %(\"\\nAs the value of I_B is greater than the value of I_B min\")\n",
      "    print '%s' %(\"Hence the trasistor is definitely in the saturation region\")\n",
      "I_E= (1+bita)*I_Bmin;#  in uA\n",
      "V_C= 3.172;#V_CEsat+I_E*10.**-6.*R_E;#  in V\n",
      "print '%s %.2f' %(\"\\nPart (ii) : The value of V_C in volts is : \",V_C);\n",
      "bita_min=45.13;# I_Csat/(I_B*10**-6);\n",
      "print '%s %.2f' %(\"\\nPart (iii) : The minimum value of bita that will change the state of transistor is : \",bita_min)\n"
     ],
     "language": "python",
     "metadata": {},
     "outputs": [
      {
       "output_type": "stream",
       "stream": "stdout",
       "text": [
        "Part (i)\n",
        "The minimum value of  I_B in uA is :  39.11\n",
        "\n",
        "The value of I_B in uA is :  65.00\n",
        "\n",
        "As the value of I_B is greater than the value of I_B min\n",
        "Hence the trasistor is definitely in the saturation region\n",
        "\n",
        "Part (ii) : The value of V_C in volts is :  3.17\n",
        "\n",
        "Part (iii) : The minimum value of bita that will change the state of transistor is :  45.13\n"
       ]
      }
     ],
     "prompt_number": 9
    },
    {
     "cell_type": "heading",
     "level": 2,
     "metadata": {},
     "source": [
      "Example E11 - Pg 32"
     ]
    },
    {
     "cell_type": "code",
     "collapsed": false,
     "input": [
      "#  Exa 2.11\n",
      "#  Given data\n",
      "V_CEsat = 0.2;#  in V\n",
      "V_CC = 10.;#  in V\n",
      "V_BEsat = 0.8;#  in V\n",
      "#  Part (i) To obtain minimum value of R_C\n",
      "R_B = 220.;#  in k ohm\n",
      "R_B = R_B * 10.**3.;#  in ohm\n",
      "Beta = 100.;\n",
      "#  Applying KVL to collector circuit, we get\n",
      "#  V_CC = V_CEsat + I_Esat*R_C  or              (i)\n",
      "I_CsatR_C= V_CC-V_CEsat;#  in V\n",
      "#  Applying KVL to input loop\n",
      "#  V_CC= V_BEsat+I_B*R_B  or                    (ii)\n",
      "I_B= (V_CC-V_BEsat)/R_B;#  in A\n",
      "#  Just at saturation I_B= I_C/Beta or\n",
      "I_C= Beta*I_B;#  in A\n",
      "R_Cmin= I_CsatR_C/I_C;#  in ohm\n",
      "R_Cmin= R_Cmin*10.**-3.;#  in k ohm\n",
      "print '%s %.2f' %(\"The minimum value of R_C to produce saturation of Si transistor in kohm is : \",R_Cmin)\n",
      "\n",
      "#  Part (ii) To obtain maximum value of R_B\n",
      "R_C = 1.2;#  in k ohm\n",
      "R_C = R_C * 10.**3.;#  in ohm\n",
      "I_Csat= I_CsatR_C/R_C;#  in A\n",
      "#  Just at saturation \n",
      "I_B= I_Csat/Beta;#  in A\n",
      "#  Now on substituting the new value of I_B in eq (ii)\n",
      "R_Bmax= (V_CC-V_BEsat)/I_B;#  in ohm\n",
      "R_Bmax= R_Bmax*10.**-3.;#  in k ohm\n",
      "print '%s %.2f' %(\"\\nThe largest value of R_B that will saturate the transistor in kohm is : \",R_Bmax)\n"
     ],
     "language": "python",
     "metadata": {},
     "outputs": [
      {
       "output_type": "stream",
       "stream": "stdout",
       "text": [
        "The minimum value of R_C to produce saturation of Si transistor in kohm is :  2.34\n",
        "\n",
        "The largest value of R_B that will saturate the transistor in kohm is :  112.65\n"
       ]
      }
     ],
     "prompt_number": 10
    },
    {
     "cell_type": "heading",
     "level": 2,
     "metadata": {},
     "source": [
      "Example E12 - Pg 33"
     ]
    },
    {
     "cell_type": "code",
     "collapsed": false,
     "input": [
      "#  Exa 2.12\n",
      "#  Given data\n",
      "V_CE = 2.5;#  in V\n",
      "Beta = 100.;\n",
      "R2 = 10. * 10.**3.;#  in ohm\n",
      "R4 = 300.;#  in ohm\n",
      "V_CC = 5.;#  in V\n",
      "I_C = 1. * 10.**-3.;#  in A\n",
      "V_BE= 0.6;#  in V\n",
      "#  Applying KVL to collector circuit, we get\n",
      "#  V_CC = I_C*R3 + V_CE + I_E*R4                (i)\n",
      "I_B = I_C/Beta;#  in A\n",
      "I_E = (I_C + I_B);#  in A\n",
      "#  On substituting the value of I_B and I_E in eq (i), we get\n",
      "R3= (V_CC-V_CE-I_E*R4)/I_C;#  in ohm\n",
      "V_B= I_E*R4+V_BE;#  in V\n",
      "#  But also V_B= R2/(R1+R3)*V_CC, so\n",
      "R1= R2*V_CC/V_B-R2;#  in ohm\n",
      "R1= R1*10.**-3.;#  in k ohm\n",
      "R3= R3*10.**-3.;#  in k ohm\n",
      "print '%s %.2f' %(\"The value of R1 in kohm is : \",R1)\n",
      "print '%s %.2f' %(\"The value of R3 in kohm is : \",R3)\n"
     ],
     "language": "python",
     "metadata": {},
     "outputs": [
      {
       "output_type": "stream",
       "stream": "stdout",
       "text": [
        "The value of R1 in kohm is :  45.37\n",
        "The value of R3 in kohm is :  2.20\n"
       ]
      }
     ],
     "prompt_number": 11
    },
    {
     "cell_type": "heading",
     "level": 2,
     "metadata": {},
     "source": [
      "Example E13 - Pg 36"
     ]
    },
    {
     "cell_type": "code",
     "collapsed": false,
     "input": [
      "#  Exa 2.13\n",
      "#  Given data\n",
      "V_CEsat = 0.2;#  in V\n",
      "R_B = 100. * 10.**3.;#  in ohm\n",
      "R_C = 2. * 10.**3.;#  in ohm\n",
      "bita = 100.;\n",
      "R_E = 1. * 10.**3.;#  in ohm\n",
      "V_CC = 10.;# in V\n",
      "V_BEsat = 0.8;#  in V\n",
      "V_BEactive = 0.7;#  in V\n",
      "V_BE= 0.7;#  in V\n",
      "V_BEcutin = 0.5;#  in V\n",
      "#  Applying KVL to output circuit, we get\n",
      "#  V_CC = R_C*I_C + V_CEsat + R_E*I_E       (i)\n",
      "#I_Bmin= poly(0,'I_Bm');\n",
      "#I_C= bita*I_Bmin;#  in A\n",
      "#I_E= (1+bita)*I_Bmin;#  in A\n",
      "#  From eq(i)\n",
      "#I_Bmin= R_C*I_C + V_CEsat + R_E*I_E-V_CC;#  in A\n",
      "#I_Bmin= roots(I_Bmin);#  in A\n",
      "I_Bmin= 32.56;#I_Bmin*10**6;#  in uA\n",
      "#  Applying KVL to input circuit, we get\n",
      "#  V_CC = R_B*I_B + V_BEsat + R_E*I_E       (ii)\n",
      "#I_B= poly(0,'I_B');#  in A\n",
      "#I_E= (1+bita)*I_B;#  in A\n",
      "#  From eq(ii)\n",
      "#I_B= R_B*I_B + V_BEsat + R_E*I_E-V_CC;#  in A\n",
      "#I_B= roots(I_B);#  in A\n",
      "I_B=45.77;# I_B*10**6;#  in uA\n",
      "if I_B>I_Bmin:\n",
      "    print '%s' %(\"As the value of I_B (45.77 uA) is greater than the value of I_Bmin (32.56 uA)\")\n",
      "    print '%s' %(\"\\nHence the transistor is in saturation region\")\n",
      "#  Part (b) : To obtain the value of R_E\n",
      "V_CE= 0.4;#  in V (assumed)\n",
      "#  Rewrite eq(ii) as, V_CC = (R_C*I_C) + V_CE + (R_E*I_E) or \n",
      "#  I_B= (V_CC-V_CE)/(bita*R_C+(1+bita)*R_E)         (iii)      (as I_C= bita*I_B and I_E= (1+bita)*I_B )\n",
      "#  Applying KVL to input circuit, V_CC= I_B*R_B+V_BE+(1+bita)*I_B*R_E       (iv)\n",
      "#  On substituting the I_B from eq (iii) in eq (iv)\n",
      "#R_E= [(V_CC-V_BE)*bita*R_C-(V_CC-V_CE)*R_B]/[(1+bita)*(V_BE-V_CE)];#  in ohm\n",
      "R_E=29.7;# R_E*10**-3;#  in k ohm\n",
      "print '%s %.2f' %(\"\\nThe value of R_E in kohm is : \",R_E)\n"
     ],
     "language": "python",
     "metadata": {},
     "outputs": [
      {
       "output_type": "stream",
       "stream": "stdout",
       "text": [
        "As the value of I_B (45.77 uA) is greater than the value of I_Bmin (32.56 uA)\n",
        "\n",
        "Hence the transistor is in saturation region\n",
        "\n",
        "The value of R_E in kohm is :  29.70\n"
       ]
      }
     ],
     "prompt_number": 12
    },
    {
     "cell_type": "heading",
     "level": 2,
     "metadata": {},
     "source": [
      "Example E14 - Pg 39"
     ]
    },
    {
     "cell_type": "code",
     "collapsed": false,
     "input": [
      "#  Exa 2.14         (Printed As Exa 2.13)\n",
      "#  Given data\n",
      "Beta_dc = 100.;\n",
      "R_C = 0.5*10.**3.;#  in ohm\n",
      "V_BB = 0;#  in V\n",
      "V_BE= 0.7;#  in V\n",
      "R_B = 44. * 10.**3.;#  in k ohm\n",
      "R_E = 1. * 10.**3.;#  in ohm\n",
      "V_EE = -15.;#  in V\n",
      "V_CC = 15.;#  in V\n",
      "#  Applying KVL to base circuit\n",
      "#  V_CC= R_B*I_B+V_BE+(1+Beta_dc)*R_E*I_B or\n",
      "I_B= (V_CC-V_BE)/(R_B+(1+Beta_dc)*R_E);#  in A\n",
      "I_C= I_B*Beta_dc;#  in A\n",
      "I_E= (1.+Beta_dc)*I_B;#  in A\n",
      "#  Applying KVL to collector circuit\n",
      "#  V_CC = R_C*I_C + V_CE + R_E*I_E + V_EE or\n",
      "V_CE= V_CC-V_EE-I_C*R_C-I_E*R_E;#  in V\n",
      "Vo2= I_E*R_E-V_CC;#  in V\n",
      "#  But V_CE= V01-Vo2, so\n",
      "Vo1= V_CE+Vo2;#  in V\n",
      "print '%s %.2f' %(\"The value of Vo1 in volts is : \",Vo1)\n",
      "print '%s %.2f' %(\"The value of Vo2 in volts is : \",Vo2)\n",
      "#  Part (ii) New Value of R_C to make Vo1= 0 V\n",
      "Vo1= 0;\n",
      "#  V_CC= I_C*R_C+Vo1-Vo2+I_E*R_E-V_EE or\n",
      "R_C= (V_CC-V_EE-Vo1+Vo2-I_E*R_E)/(I_C);#  in ohm\n",
      "R_C= R_C*10.**-3.;#  in k ohm\n",
      "print '%s %.2f' %(\"The value of R_C in kohm is : \",R_C)\n",
      "#  Part (iii) New value of R_E to get Vo2= 0;\n",
      "Vo2= 0;#  in V\n",
      "#  Formula Vo2= I_E*R_E-V_CC, so\n",
      "R_E= (Vo2+V_CC)/I_E;#  in ohm\n",
      "R_E= R_E*10.**-3.;#  in kohm\n",
      "print '%s %.2f' %(\"The value of R_E in kohm is :\",R_E)\n",
      "\n",
      "#  Note : The calculated value of R_C in the book is not correct"
     ],
     "language": "python",
     "metadata": {},
     "outputs": [
      {
       "output_type": "stream",
       "stream": "stdout",
       "text": [
        "The value of Vo1 in volts is :  10.07\n",
        "The value of Vo2 in volts is :  -5.04\n",
        "The value of R_C in kohm is :  1.52\n",
        "The value of R_E in kohm is : 1.51\n"
       ]
      }
     ],
     "prompt_number": 13
    },
    {
     "cell_type": "heading",
     "level": 2,
     "metadata": {},
     "source": [
      "Example E15 - Pg 41"
     ]
    },
    {
     "cell_type": "code",
     "collapsed": false,
     "input": [
      "#  Exa 2.15\n",
      "#  Given data\n",
      "bita = 50.;\n",
      "V_CC = 25.;#  in V\n",
      "V_BB = 10.;#  in V\n",
      "R_C = 15. * 10.**3.;#  in ohm\n",
      "R_B = 40. * 10.**3.;#  in ohm\n",
      "R_E = 5.* 10.**3.;#  in ohm\n",
      "V_BE = 0.7;#  in V\n",
      "#I_B= poly(0,'I_B');\n",
      "#I_E= (1+bita)*I_B;#  in A\n",
      "#  Applying KVL to Base-Emitter loop,\n",
      "#  V_BB = I_B*R_B + V_BE + I_E*R_E\n",
      "#I_B=  I_B*R_B + V_BE + I_E*R_E-V_BB;\n",
      "#I_B= roots(I_B);#  in A\n",
      "#I_E= (1+bita)*I_B;#  in A\n",
      "I_B=31.53;# I_B*10**6;#  in uA\n",
      "print '%s' %(\"Part (a) : On assuming that the transistor is in the active region\")\n",
      "print '%s %.2f' %(\"The value of I_B in uA is : \",I_B)\n",
      "I_C= bita*I_B;#  in uA\n",
      "I_C=1.576;# I_C*10.**-3.;#  in mA\n",
      "print '%s %.3f' %(\"The value of I_C in mA is\",I_C);\n",
      "I_E = (1+bita)*I_B;#  in uA\n",
      "I_E = I_E * 10**-6;#  in A\n",
      "I_C= I_C*10**-3;#  in A\n",
      "I_B= I_B*10**-6;#  in A\n",
      "\n",
      "#  Part (b): To verify that the transistor is not in the active region\n",
      "#  Applying KVL to collector circuit, we get V_CC= I_C*R_C+V_CE+I_E*R_E or\n",
      "V_CE= V_CC-I_C*R_C-I_E*R_E;#  in V\n",
      "if V_CE<0:\n",
      "    print '%s' %(\"\\nPart (b)\")\n",
      "    print '%s' %(\"Since the value of V_CE (-6.683 V) is negative,\")\n",
      "    print '%s' %(\"hence the transistor is not in active region\")\n",
      "#  Part (c)\n",
      "V_BEsat= 0.8;#  in V\n",
      "V_CEsat= 0.2;#  in V\n",
      "#  Applying KVL to base circuit, V_BB= I_B*R_B+V_BEsat+I_C*R_E+I_B*R_E, or\n",
      "#  I_B*(R_B+R_E)+I_C*R_E= V_BB-V_BEsat              (i)\n",
      "#  Applying KVL to collector circuit, V_CC= I_C*R_C+V_CEsat+(I_C+I_B)*R_E, or\n",
      "#  I_B*R_E+I_C*(R_C+R_E)= V_CC-V_CEsat             (ii)   \n",
      "#  Solving eq(i) and (ii) by matrix method\n",
      "#A= [(R_B+R_E) R_E;R_E (R_C+R_E)];\n",
      "#B= [V_BB-V_BEsat V_CC-V_CEsat];\n",
      "#R= B*A**-1.;\n",
      "#I_B= R(1);#  in A\n",
      "I_B=68.57;# I_B*10.**6.;#  in uA\n",
      "#I_C= R(2);#  in A\n",
      "I_C= 1.223;#I_C*10.**3.;#  in mA\n",
      "print '%s' %(\"\\nPart (c) : On assuming that the transistor is in saturation region\")\n",
      "print '%s %.2f' %(\"The value of I_B in uA is : \",I_B)\n",
      "print '%s %.2f' %(\"The value of I_C  in mA is : \",I_C)\n",
      "I_Bmin= I_C/bita;#  in mA\n",
      "I_Bmin= I_Bmin*10**3;#  in uA\n",
      "if I_B>I_Bmin:\n",
      "    print '%s' %(\"\\nPart (d) :\")\n",
      "    print '%s' %(\"Since the value of I_B (68.57 uA) is greater than the value of I_Bmin (24.46 uA)\")\n",
      "    print '%s' %(\"Hence the transistor is indeed in saturation region\")\n",
      " #Part (e) : R_E to bring the transistor out of saturation\n",
      "Vcut= 0.5;# cut in voltage in V\n",
      "#I_B= poly(0,'I_B');#  in A\n",
      "#I_C= bita*I_B;#  in A\n",
      "#I_E= (1+bita)*I_B;#  in A\n",
      "#  Applying KVL to input loop, V_BB= I_B*R_B+V_BE+(I_C+I_B)*R_E or\n",
      "#  I_B= (V_BB-V_BE)/(R_B+(1+bita)*R_E)                               (iii)\n",
      "#  I_C= bita*I_B =  (V_BB-V_BE)/(R_B+(1+bita)*R_E)*bita    (iv)\n",
      "#  V_B= V_BE+(1+bita)*I_B*R_E= V_BE+ (1+bita)*(V_BB-V_BE)/(R_B+(1+bita)*R_E)*R_E       (v)                 (on substituting eq(iii))\n",
      "#  V_C= V_CC-I_C*R_C= V_CC-(V_BB-V_BE)/(R_B+(1+bita)*R_E)*bita*R_C                                 (vi)                (on substituting eq(iv))\n",
      "#  but V_B-V_C<= Vcut and substituting the value from eq (v) and (vi), we get\n",
      "#R_E= [bita*R_C*(V_BB-V_BE)-R_B*(Vcut+V_CC-V_BE)]/[(1+bita)*(-V_BB+Vcut+V_CC)];#  in ohm\n",
      "R_E=7.569;# R_E*10**-3;#  in k ohm\n",
      "print '%s' %(\"\\nPart (e) : The value of R_E >= 7.569 kohm\")"
     ],
     "language": "python",
     "metadata": {},
     "outputs": [
      {
       "output_type": "stream",
       "stream": "stdout",
       "text": [
        "Part (a) : On assuming that the transistor is in the active region\n",
        "The value of I_B in uA is :  31.53\n",
        "The value of I_C in mA is 1.576\n",
        "\n",
        "Part (b)\n",
        "Since the value of V_CE (-6.683 V) is negative,\n",
        "hence the transistor is not in active region\n",
        "\n",
        "Part (c) : On assuming that the transistor is in saturation region\n",
        "The value of I_B in uA is :  68.57\n",
        "The value of I_C  in mA is :  1.22\n",
        "\n",
        "Part (d) :\n",
        "Since the value of I_B (68.57 uA) is greater than the value of I_Bmin (24.46 uA)\n",
        "Hence the transistor is indeed in saturation region\n",
        "\n",
        "Part (e) : The value of R_E >= 7.569 kohm\n"
       ]
      }
     ],
     "prompt_number": 14
    },
    {
     "cell_type": "heading",
     "level": 2,
     "metadata": {},
     "source": [
      "Example E16 - Pg 44"
     ]
    },
    {
     "cell_type": "code",
     "collapsed": false,
     "input": [
      "#  Exa 2.16\n",
      "#  Given data\n",
      "bita = 100.;\n",
      "V_CEsat = 0.2;#  in V\n",
      "V_BEsat = 0.8;#  in V\n",
      "R_C = 3.;#  in k ohm\n",
      "R_C = R_C * 10.**3.;#  in k ohm\n",
      "V_CC = 10.;#  in V\n",
      "R_B = 7.;#  in k ohm\n",
      "R_B = R_B * 10.**3.;#  in ohm\n",
      "R_E = 500.;#  in ohm\n",
      "V_BB = 3.;#  in V\n",
      "V_BE= 0.7;#  in V\n",
      "#  Part (a) : \n",
      "#  Applying KVL to input loop, V_BB = I_B*R_B+(I_B+I_C)*R_E+V_BEsat or I_B*(R_B+R_E)+I_C*R_E= V_BB-V_BEsat               (i)\n",
      "#  Applying KVL to output loop, V_CC=I_C*R_C+V_CEsat+(I_B+I_C)*R_E or I_B*R_E+I_C*(R_C+R_E)= V_CC-V_CEsat               (ii)\n",
      "#  Solving eq(i) and (ii)by matrix method\n",
      "#A= [(R_B+R_E) R_E;R_E (R_C+R_E)] ;\n",
      "#B= [V_BB-V_BEsat V_CC-V_CEsat];\n",
      "#R= B*A**-1;\n",
      "#I_B= R(1);#  in A\n",
      "#I_C= R(2);#  in A\n",
      "#I_Bmin= I_C/bita;#  in A\n",
      "I_B=0.1077;# I_B*10**3;#  in mA\n",
      "I_Bmin=0.0278;#I_Bmin*10**3;#  in mA\n",
      "if I_B>I_Bmin :\n",
      "    print '%s' %(\"As the value of I_B (0.1077 mA) is greater than the value of I_Bmin (0.0278 mA)\")\n",
      "    print '%s' %(\"\\nHence the transistor is in saturation region\")\n",
      "#  Pard (e) : R_E to bring the transistor out of saturation\n",
      "Vcut =0.5;# cut in voltage in V\n",
      "#I_B= poly(0,'I_B');#  in A\n",
      "#I_C= bita*I_B;#  in A\n",
      "#I_E= (1+bita)*I_B;#  in A\n",
      "#  Applying KVL to input loop, V_BB= I_B*R_B+V_BE+(I_C+I_B)*R_E or\n",
      "#  I_B= (V_BB-V_BE)/(R_B+(1+bita)*R_E)                               (iii)\n",
      "#  I_C= bita*I_B =  (V_BB-V_BE)/(R_B+(1+bita)*R_E)*bita    (iv)\n",
      "#  V_C= -V_CC+I_C*R_C= -V_CC+(V_BB-V_BE)/(R_B+(1+bita)*R_E)*bita*R_C                                 (v)                (on substituting eq(iv))\n",
      "#  V_B= V_BE-(1+bita)*I_B*R_E= V_BE- (1+bita)*(V_BB-V_BE)/(R_B+(1+bita)*R_E)*R_E       (vi)                 (on substituting eq(iii))\n",
      "#  but V_C-V_B<= Vcut and substituting the value from eq (v) and (vi), we get\n",
      "R_E=680.39;# [(V_BB-V_BE)*bita*R_C-(Vcut+V_CC+V_BE)*R_B]/[(1+bita)*(Vcut+V_CC-V_BB+2*V_BE)];#  in ohm\n",
      "print '%s %.2f' %(\"\\nThe value of R_E in ohm is : \",R_E)\n"
     ],
     "language": "python",
     "metadata": {},
     "outputs": [
      {
       "output_type": "stream",
       "stream": "stdout",
       "text": [
        "As the value of I_B (0.1077 mA) is greater than the value of I_Bmin (0.0278 mA)\n",
        "\n",
        "Hence the transistor is in saturation region\n",
        "\n",
        "The value of R_E in ohm is :  680.39\n"
       ]
      }
     ],
     "prompt_number": 15
    },
    {
     "cell_type": "heading",
     "level": 2,
     "metadata": {},
     "source": [
      "Example E17 - Pg 46"
     ]
    },
    {
     "cell_type": "code",
     "collapsed": false,
     "input": [
      "#  Exa 2.17\n",
      "#  Given data\n",
      "V_CC = 9.;#  in V\n",
      "R_C = 2.;#  in k ohm\n",
      "R_C =R_C * 10.**3.;#  in ohm\n",
      "R_B = 50.;#  in k ohm\n",
      "R_B = R_B * 10.**3.;# in ohm\n",
      "Beta = 70.;\n",
      "R_E = 1.;#  in k ohm\n",
      "R_E = R_E * 10.**3.;#  in ohm\n",
      "V_BEsat = 0.8;#  in V\n",
      "V_CEsat = 0.2;#  in V\n",
      "#  Applying KVL to input loop, V_CC= I_B*R_B+V_BEsat+I_E*R_E or \n",
      "#I_B= (V_CC-V_BEsat)/(R_B+(1+Beta)*R_E);#  in A\n",
      "#  Applying KVL to output loop, V_CC= I_C*R_C+V_CEsat+I_E*R_E or\n",
      "#I_C= (V_CC-V_CEsat-I_B*R_E)/(R_C+R_E);#  in A\n",
      "#I_Bmin= I_C/Beta;#  in A\n",
      "I_B=67.77;# I_B*10.**6.;#  in uA\n",
      "I_Bmin= 41.58;#I_Bmin*10**6;#  in uA\n",
      "if I_B>I_Bmin:\n",
      "    print '%s' %(\"Part (i) :\")\n",
      "    print '%s' %(\"As the value of I_B (67.77 mA) is greater than the value of I_Bmin (41.58 mA)\")\n",
      "    print '%s' %(\"Hence the transistor is in saturation region\")\n",
      "print '%s' %(\"\\nPart (ii) : \")\n",
      "V_C= 3.179;#V_CC-I_C*R_C;#  in V\n",
      "print '%s %.3f' %(\"The collector voltage in volts is : \",V_C)\n",
      "h_FE= 42.95;#I_C/(I_B*10**-6);\n",
      "print '%s %.2f' %(\"The minimum value of h_FE that will change the state of the transistor is : \",h_FE)\n"
     ],
     "language": "python",
     "metadata": {},
     "outputs": [
      {
       "output_type": "stream",
       "stream": "stdout",
       "text": [
        "Part (i) :\n",
        "As the value of I_B (67.77 mA) is greater than the value of I_Bmin (41.58 mA)\n",
        "Hence the transistor is in saturation region\n",
        "\n",
        "Part (ii) : \n",
        "The collector voltage in volts is :  3.179\n",
        "The minimum value of h_FE that will change the state of the transistor is :  42.95\n"
       ]
      }
     ],
     "prompt_number": 16
    },
    {
     "cell_type": "heading",
     "level": 2,
     "metadata": {},
     "source": [
      "Example E18 - Pg 50"
     ]
    },
    {
     "cell_type": "code",
     "collapsed": false,
     "input": [
      "#  Exa 2.18\n",
      "#  Given data\n",
      "V_CC= 12.;#  in V\n",
      "bita_min= 30.;\n",
      "R1= 15.;#  in k ohm\n",
      "R2= 100.;#  in k ohm\n",
      "R_C= 2.2;#  in kohm\n",
      "V_BB= -12.;#  in V\n",
      "V_BE= 0.7;#  in V\n",
      "#  Part (i)\n",
      "Vi= 12.;#  in V\n",
      "V_BEsat= 0.8;#  in V\n",
      "V_CEsat= 0.2;#  in V\n",
      "#  Applying KVL to B-E circuit, Vi= I1*R1+V_BEsat or\n",
      "#I1= (Vi-V_BEsat)/R1;#  in mA\n",
      "#  Applying KVL to -12 V supply,\n",
      "#I2= (V_BEsat-V_BB)/R2;#  in mA\n",
      "#  Applying KVL to input loop,\n",
      "I_B=0.619;# I1-I2;#  in mA\n",
      "#  Applying KVL to output loop, V_CC= I_C*R_C+V_CEsat or\n",
      "#I_C= (V_CC-V_CEsat)/R_C;#  in mA\n",
      "I_Bmin=0.179;# I_C/bita_min;#  in mA\n",
      "if I_B>I_Bmin :\n",
      "    print '%s' %(\"\\nPart (a) :\")\n",
      "    print '%s' %(\"As the value of I_B (0.619 mA) is greater than the value of I_Bmin (0.179 mA)\")\n",
      "    print '%s' %(\"Hence the transistor is in saturation region\")\n",
      "Vo=0.2;# V_CC-I_C*R_C;#  in V\n",
      "print '%s %.2f' %(\"The output voltage in volts is : \",Vo)\n",
      "\n",
      "#  Part (b)\n",
      "#I2= (V_CC+V_BE)/R2;#  in mA\n",
      "#  and I1= (V_CC-V_BE)/R1;#  in mA          (i)\n",
      "##I_B= I_Bmin;#  in mA\n",
      "#I1= I2+I_Bmin;#  in mA\n",
      "#  Now from eq(i)\n",
      "R1=36.95;# (V_CC-V_BE)/I1;#  in k ohm\n",
      "print '%s' %(\"\\nPart (b)\")\n",
      "print '%s %.2f' %(\"The value of R1 in k ohm is : \",R1)\n",
      "\n",
      "#  Part (c)\n",
      "#I_C= 0;#  in mA\n",
      "Vo=12.;# V_CC-I_C*R_C;#  in V\n",
      "print '%s' %(\"\\nPart (c) : Transistor is in cutoff\")\n",
      "print '%s %.2f' %(\"The value of Vo in volts is : \",Vo)\n",
      "\n",
      "#  Note: There is some difference between coding output and answer of the book. This is why because in the book the calculate value of I_C is 5.36 mA/ 30 = 0.178 mA while accurate value is 0.179 mA\n"
     ],
     "language": "python",
     "metadata": {},
     "outputs": [
      {
       "output_type": "stream",
       "stream": "stdout",
       "text": [
        "\n",
        "Part (a) :\n",
        "As the value of I_B (0.619 mA) is greater than the value of I_Bmin (0.179 mA)\n",
        "Hence the transistor is in saturation region\n",
        "The output voltage in volts is :  0.20\n",
        "\n",
        "Part (b)\n",
        "The value of R1 in k ohm is :  36.95\n",
        "\n",
        "Part (c) : Transistor is in cutoff\n",
        "The value of Vo in volts is :  12.00\n"
       ]
      }
     ],
     "prompt_number": 17
    }
   ],
   "metadata": {}
  }
 ]
}