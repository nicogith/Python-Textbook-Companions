{
 "metadata": {
  "name": "",
  "signature": "sha256:fc34f30800f17d87e27188397c20ef7fd8eb14dffa9f31d376d96074b557eee5"
 },
 "nbformat": 3,
 "nbformat_minor": 0,
 "worksheets": [
  {
   "cells": [
    {
     "cell_type": "heading",
     "level": 1,
     "metadata": {},
     "source": [
      "CHAPTER 08 - FIELD EFFECT TRANSISTOR AMPLIFIERS"
     ]
    },
    {
     "cell_type": "heading",
     "level": 2,
     "metadata": {},
     "source": [
      "Example E01 - Pg 221"
     ]
    },
    {
     "cell_type": "code",
     "collapsed": false,
     "input": [
      "# Exa 8.1\n",
      "# Given data\n",
      "V_P = -4.;# in V\n",
      "r_d = 40.*10.**3.;# in ohm\n",
      "I_DSS = 10.*10.**-3.;# in A\n",
      "V_GG = 1.;# in V\n",
      "R_D = 1.8*10.**3.;# in ohm\n",
      "R_G = 1.*10.**6.;# in ohm\n",
      "g_mo = 2.*I_DSS/(abs(V_P));# in S\n",
      "V_GSQ = -1.5;# in V\n",
      "g_m = g_mo*(1-(V_GSQ/V_P));# in S\n",
      "Zi = R_G;# in ohm\n",
      "Zi= Zi*10.**-6.;# in M ohm\n",
      "print '%s %.2f' %(\"The input impedance in M ohm is\",Zi);\n",
      "Zo = (r_d*R_D)/(r_d+R_D);# in ohm\n",
      "Zo = R_D;# in ohm (as r_d>10*R_D)\n",
      "Zo= Zo*10.**-3.;# in k ohm\n",
      "print '%s %.2f' %(\"The output impedance in k ohm is\",Zo);\n",
      "#Av = Vo/Vi = -g_m*R_D;\n",
      "Av = -g_m*R_D;\n",
      "print '%s %.2f' %(\"The voltage gain is\",Av);"
     ],
     "language": "python",
     "metadata": {},
     "outputs": [
      {
       "output_type": "stream",
       "stream": "stdout",
       "text": [
        "The input impedance in M ohm is 1.00\n",
        "The output impedance in k ohm is 1.80\n",
        "The voltage gain is -5.62\n"
       ]
      }
     ],
     "prompt_number": 1
    },
    {
     "cell_type": "heading",
     "level": 2,
     "metadata": {},
     "source": [
      "Example E02 - Pg 221"
     ]
    },
    {
     "cell_type": "code",
     "collapsed": false,
     "input": [
      "# Exa 8.2\n",
      "# Given data\n",
      "I_DSS = 6.;# in mA\n",
      "I_DSS = I_DSS * 10.**-3.;# in A\n",
      "V_P = -6.;# in V\n",
      "Y_DS = 40.;# in uS\n",
      "R_D = 3.3;# in k ohm\n",
      "R_D = R_D * 10.**3.;# in ohm\n",
      "R_S = 1.1;# in k ohm\n",
      "R_S = R_S * 10.**3.;# in ohm\n",
      "R_G = 10.;# in Mohm\n",
      "R_G =R_G * 10.**6.;# in ohm\n",
      "g_mo = (2.*I_DSS)/(abs(V_P));# in S\n",
      "#I_D= poly(0,'I_D');Toyab\n",
      "#V_GS = -I_D*R_S;# in V\n",
      "#I_D=  I_D - I_DSS*((1 - (V_GS/V_P))**2.);\n",
      "#I_D= roots(I_D)\n",
      "#I_D= I_D(2.);# in A\n",
      "#V_GSQ = -I_D*R_S;# in V\n",
      "#g_m = g_mo*( 1-(V_GSQ/V_P) );# in S\n",
      "Zi = R_G;# in ohm\n",
      "#Zi= Zi*10.**-6.;# in M ohm\n",
      "Zi=10.;\n",
      "print '%s %.2f' %(\"The value of Zi in M ohm is\",Zi);\n",
      "r_d = 40;# in k ohm assumed\n",
      "r_d = r_d * 10.**3.;# in ohm\n",
      "Zo = (r_d*R_D)/(r_d+R_D);# in ohm\n",
      "Zo=R_D;# in ohm (as r_d > 10 *R_D)\n",
      "#Zo= Zo*10.**-3.;# in k ohm\n",
      "Zo=3.3;\n",
      "print '%s %.2f' %(\"The value of Zo in k ohm is\",Zo);\n",
      "#Av = abs(-g_m*R_D);\n",
      "Av=3.971;\n",
      "print '%s %.2f' %(\"The value of Av is\",Av);\n"
     ],
     "language": "python",
     "metadata": {},
     "outputs": [
      {
       "output_type": "stream",
       "stream": "stdout",
       "text": [
        "The value of Zi in M ohm is 10.00\n",
        "The value of Zo in k ohm is 3.30\n",
        "The value of Av is 3.97\n"
       ]
      }
     ],
     "prompt_number": 2
    },
    {
     "cell_type": "heading",
     "level": 2,
     "metadata": {},
     "source": [
      "Example E03 - Pg 225"
     ]
    },
    {
     "cell_type": "code",
     "collapsed": false,
     "input": [
      "# Exa 8.3\n",
      "# Given data\n",
      "V_DD = 20.;# inV\n",
      "I_DSS = 8.;# in mA\n",
      "I_DSS = I_DSS * 10.**-3.;# in mA\n",
      "V_P = -6.;# in V\n",
      "R_G = 1.;# in Mohm\n",
      "R_G = R_G * 10.**6.;# in ohm\n",
      "R_S = 1;# in k ohm\n",
      "R_S = R_S * 10.**3.;# in ohm\n",
      "r_d = 50.;# in k ohm\n",
      "r_d = r_d * 10.**3.;# in ohm\n",
      "V_GS = -2.6;# in V\n",
      "I_D = 2.6;# in mA\n",
      "I_D = I_D * 10.**-3.;# in A\n",
      "g_mo = (2.*I_DSS)/(abs(V_P));# in S\n",
      "g_m = g_mo*(1 - (V_GS/V_P));# in S\n",
      "Zi = R_G;# in ohm\n",
      "Zi= Zi*10.**-6.;# in M ohm\n",
      "print '%s %.2f' %(\"The value of Zi in M ohm is\",Zi);\n",
      "Zo = R_S*1./g_m/(R_S+1/g_m);\n",
      "print '%s %.2f' %(\"The value of Zo is\",Zo);\n",
      "Av = g_m*R_S/(1 + (g_m*R_S));\n",
      "print '%s %.2f' %(\"The value of Av is\",Av);\n"
     ],
     "language": "python",
     "metadata": {},
     "outputs": [
      {
       "output_type": "stream",
       "stream": "stdout",
       "text": [
        "The value of Zi in M ohm is 1.00\n",
        "The value of Zo is 398.23\n",
        "The value of Av is 0.60\n"
       ]
      }
     ],
     "prompt_number": 3
    },
    {
     "cell_type": "heading",
     "level": 2,
     "metadata": {},
     "source": [
      "Example E04 - Pg 226"
     ]
    },
    {
     "cell_type": "code",
     "collapsed": false,
     "input": [
      "# Exa 8.4\n",
      "# Given data\n",
      "V_GSQ = -2.6;# in V\n",
      "I_DQ = 3.8*10.**-3.;# in A\n",
      "V_DD = 12.;# in V\n",
      "R_D = 1.5*10.**3.;# in ohm\n",
      "R_S = 680.;# in ohm\n",
      "I_DSS = 12.*10.**-3.;# in A\n",
      "r_d = 20.*10.**3.;# in ohm\n",
      "V_P = -6.;# in V\n",
      "# (a) Transconductance\n",
      "g_mo = (2.*I_DSS)/(abs(V_P));# in S\n",
      "g_m = g_mo*(1-(V_GSQ/V_P));# in mS\n",
      "g_m= g_m*10.**3.;# in mS\n",
      "print '%s %.2f' %(\"The value of g_m in mS is\",g_m);\n",
      "# (b) Input impedance\n",
      "g_m= g_m*10.**-3.;# in S\n",
      "Zi=R_S*((r_d+R_D)/(1+g_m*r_d))/(R_S+((r_d+R_D)/(1+g_m*r_d)))\n",
      "print '%s %.2f' %(\"The value of Zi in ohm is\",Zi);\n",
      "# (c) Output impedance\n",
      "Zo = (R_D*r_d)/(R_D+r_d);# in ohm\n",
      "Zo= Zo*10.**-3.;# in k ohm\n",
      "print '%s %.2f' %(\"The value of Zo in k ohm is\",Zo);\n",
      "# Voltage gain\n",
      "#Av = Vo/Vi = (R_D*(1 + (g_m*10**-3*r_d)))/(R_D+r_d);\n",
      "Av = (R_D*(1 + (g_m*r_d)))/(R_D+r_d);\n",
      "print '%s %.2f' %(\"The value of Av is\",Av);\n"
     ],
     "language": "python",
     "metadata": {},
     "outputs": [
      {
       "output_type": "stream",
       "stream": "stdout",
       "text": [
        "The value of g_m in mS is 2.27\n",
        "The value of Zi in ohm is 275.81\n",
        "The value of Zo in k ohm is 1.40\n",
        "The value of Av is 3.23\n"
       ]
      }
     ],
     "prompt_number": 4
    },
    {
     "cell_type": "heading",
     "level": 2,
     "metadata": {},
     "source": [
      "Example E06 - Pg 229"
     ]
    },
    {
     "cell_type": "code",
     "collapsed": false,
     "input": [
      "# Exa 8.6\n",
      "# Given data\n",
      "V_DD = 10.;# in V\n",
      "R_D = 5.1;# in  k ohm\n",
      "R_D = R_D * 10.**3.;# in ohm\n",
      "g_m = 2.*10.**-3.;# in S\n",
      "r_d = 50.;# in k ohm\n",
      "r_d = r_d * 10.**3.;# in ohm\n",
      "Vi = 0;# in V\n",
      "R_G = 1.;# in Mohm\n",
      "R_G = R_G * 10.**6.;# in ohm\n",
      "# (i) Input impedance\n",
      "Zi = R_G;# in ohm\n",
      "Zi= Zi*10.**-6.;# in M ohm\n",
      "print '%s %.2f' %(\"The input impedance in Mohm is\",Zi);\n",
      "# (ii) Output impedance\n",
      "Zo = (r_d*R_D)/(r_d+R_D);# in ohm\n",
      "print '%s %.2f' %(\"The output impedance in ohm is\",Zo);\n",
      "# (iii) Voltage gain\n",
      "Av = -g_m*Zo;\n",
      "print '%s %.2f' %(\"The voltage gain is\",Av);\n"
     ],
     "language": "python",
     "metadata": {},
     "outputs": [
      {
       "output_type": "stream",
       "stream": "stdout",
       "text": [
        "The input impedance in Mohm is 1.00\n",
        "The output impedance in ohm is 4627.95\n",
        "The voltage gain is -9.26\n"
       ]
      }
     ],
     "prompt_number": 5
    },
    {
     "cell_type": "heading",
     "level": 2,
     "metadata": {},
     "source": [
      "Example E07 - Pg 231"
     ]
    },
    {
     "cell_type": "code",
     "collapsed": false,
     "input": [
      "# Exa 8.7\n",
      "# Given data\n",
      "V_GSQ = -2.;# in V\n",
      "I_DSS = 8.;# in mA\n",
      "I_DSS = I_DSS * 10.**-3.;# in A\n",
      "V_P = -8.;# in V\n",
      "YoS = 20.;# in uS\n",
      "YoS = YoS * 10.**-6.;# in S\n",
      "R_D = 5.1;# in k ohm\n",
      "R_D = R_D * 10.**3.;# in ohm\n",
      "R_G = 1.;# in Mohm\n",
      "R_G = R_G * 10.**6.;# in ohm\n",
      "g_mo = (2.*I_DSS)/(abs(V_P));# in S\n",
      "g_m = g_mo * (1 - (V_GSQ/V_P));# in S\n",
      "g_m= g_m*10.**3.;# in mS\n",
      "print '%s %.2f' %(\"The value of g_m in mS is\",g_m);\n",
      "g_m= g_m*10.**-3.;# in S\n",
      "r_d = 1./YoS;# in ohm\n",
      "r_d= r_d*10.**-3.;# in k ohm\n",
      "print '%s %.2f' %(\"The value of r_d in k ohm is\",r_d);\n",
      "r_d= r_d*10.**3.;# in ohm\n",
      "Zi = R_G;# in ohm\n",
      "Zi= Zi*10.**-6.;# in M ohm\n",
      "print '%s %.2f' %(\"The value of Zi in M ohm is\",Zi);\n",
      "V_GS = 0;# in V\n",
      "Zo = (r_d*R_D)/(r_d+R_D);# in ohm\n",
      "print '%s %.2f' %(\"The value of Zo in ohm is\",Zo);\n",
      "Av = -g_m*Zo;\n",
      "print '%s %.2f' %(\"The value of Av is\",Av);\n"
     ],
     "language": "python",
     "metadata": {},
     "outputs": [
      {
       "output_type": "stream",
       "stream": "stdout",
       "text": [
        "The value of g_m in mS is 1.50\n",
        "The value of r_d in k ohm is 50.00\n",
        "The value of Zi in M ohm is 1.00\n",
        "The value of Zo in ohm is 4627.95\n",
        "The value of Av is -6.94\n"
       ]
      }
     ],
     "prompt_number": 6
    },
    {
     "cell_type": "heading",
     "level": 2,
     "metadata": {},
     "source": [
      "Example E08 - Pg 231"
     ]
    },
    {
     "cell_type": "code",
     "collapsed": false,
     "input": [
      "# Exa 8.8\n",
      "# Given data\n",
      "gm= 6000.*10.**-6.;# in S\n",
      "R1 = 2.;# in M ohm\n",
      "R1 = R1 * 10.**6.;# in ohm\n",
      "R2 = 500.;# in k ohm\n",
      "R2 = R2 * 10.**3.;# in ohm\n",
      "R_S= 4.*10.**3.;# in ohm\n",
      "R_L= 33.*10.**3.;# in ohm\n",
      "r_d= 50.*10.**3.;# in ohm\n",
      "Zi = (R1*R2)/(R1+R2);# in ohm\n",
      "Zi= Zi*10.**-3.;# in k ohm\n",
      "print '%s %.2f' %(\"The input impedance in k ohm is\",Zi);\n",
      "Zo = (1./gm*R_S)/(1./gm+R_S);# in ohm\n",
      "print '%s %.2f' %(\"The output impedance in ohm is\",Zo);\n",
      "# Let Req= r_d || R_S || R_L;# in ohm\n",
      "Req= r_d*R_S*R_L/(r_d*R_S+R_S*R_L+R_L*r_d);# in ohm\n",
      "Av=gm*(r_d*R_S*R_L/(r_d*R_S+R_S*R_L+r_d*R_L))/(1+gm*(r_d*R_S*R_L/(r_d*R_S+R_S*R_L+r_d*R_L)))\n",
      "print '%s %.2f' %(\"The voltage gain is : \",Av)\n"
     ],
     "language": "python",
     "metadata": {},
     "outputs": [
      {
       "output_type": "stream",
       "stream": "stdout",
       "text": [
        "The input impedance in k ohm is 400.00\n",
        "The output impedance in ohm is 160.00\n",
        "The voltage gain is :  0.95\n"
       ]
      }
     ],
     "prompt_number": 7
    },
    {
     "cell_type": "heading",
     "level": 2,
     "metadata": {},
     "source": [
      "Example E09 - Pg 238"
     ]
    },
    {
     "cell_type": "code",
     "collapsed": false,
     "input": [
      "# Exa 8.9\n",
      "# Given data\n",
      "R1 = 3.3* 10.**-3.;# in ohm\n",
      "R2 = 1.2* 10.**6.;# in ohm\n",
      "R_D = 3.9* 10.**3.;# in ohm\n",
      "R_S = 3.9* 10.**3.;# in ohm\n",
      "R_L = 82.* 10.**3.;# in ohm\n",
      "g_m = 6000.* 10.**-6.;# in S\n",
      "r_d = 70.* 10.**3.;# in ohm\n",
      "Zi = (R_S*( (r_d+R_D)/(1+(g_m*r_d)) ))/(R_S+( (r_d+R_D)/(1+(g_m*r_d)) ));# in ohm\n",
      "print '%s %.2f' %(\"The input impedance in ohm is\",Zi);\n",
      "Zo = (r_d*R_D)/(r_d+R_D);# in ohm\n",
      "print '%s %.2f' %(\"The output impedance in ohm is\",Zo);\n",
      "R = (R_D*R_L)/(R_D+R_L);# in ohm\n",
      "Av = (R*(1+(g_m*r_d)))/( r_d+R );\n",
      "print '%s %.2f' %(\"The voltage gain is\",Av);\n"
     ],
     "language": "python",
     "metadata": {},
     "outputs": [
      {
       "output_type": "stream",
       "stream": "stdout",
       "text": [
        "The input impedance in ohm is 167.97\n",
        "The output impedance in ohm is 3694.18\n",
        "The voltage gain is 21.26\n"
       ]
      }
     ],
     "prompt_number": 8
    }
   ],
   "metadata": {}
  }
 ]
}