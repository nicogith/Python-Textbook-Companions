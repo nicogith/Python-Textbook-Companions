{
 "metadata": {
  "name": "",
  "signature": "sha256:7ae952a312e18774c824379df77d999cd026a9b8cbfe56aebcafcee661ab3f6a"
 },
 "nbformat": 3,
 "nbformat_minor": 0,
 "worksheets": [
  {
   "cells": [
    {
     "cell_type": "heading",
     "level": 1,
     "metadata": {},
     "source": [
      "CHAPTER 06 - THE FIELD EFFECT TRANSISTOR AND MOSFET"
     ]
    },
    {
     "cell_type": "heading",
     "level": 2,
     "metadata": {},
     "source": [
      "Example E01 - Pg 162"
     ]
    },
    {
     "cell_type": "code",
     "collapsed": false,
     "input": [
      "#  Exa 6.1\n",
      "%matplotlib inline\n",
      "import math\n",
      "import numpy as np\n",
      "import matplotlib.pyplot as plt\n",
      "# Given data\n",
      "I_DSS = 10.;#  in mA\n",
      "V_P = -4;#  in V\n",
      "V_GS= np.linspace(V_P,0,num=41);#\n",
      "I_D=np.zeros(41)\n",
      "for i in range (0,41):\n",
      "\tI_D[i] = I_DSS * ((1 - (V_GS[i]/V_P))**2);#in A\n",
      "\n",
      "plt.plot(V_GS,I_D);\n",
      "plt.xlabel(\"V_GS in volts\");\n",
      "plt.ylabel(\"I_D in mA\")\n",
      "plt.title(\"Transfer curve\")\n",
      "plt.show()\n",
      "print '%s' %(\"The transfer curve shown in the figure.\")\n"
     ],
     "language": "python",
     "metadata": {},
     "outputs": [
      {
       "metadata": {},
       "output_type": "display_data",
       "png": "[encoded data removed]",
       "text": [
        "<matplotlib.figure.Figure at 0x5c3a410>"
       ]
      },
      {
       "output_type": "stream",
       "stream": "stdout",
       "text": [
        "The transfer curve shown in the figure.\n"
       ]
      }
     ],
     "prompt_number": 1
    },
    {
     "cell_type": "heading",
     "level": 2,
     "metadata": {},
     "source": [
      "Example E02 - Pg 165"
     ]
    },
    {
     "cell_type": "code",
     "collapsed": false,
     "input": [
      "%matplotlib inline\n",
      "# Exa 6.2\n",
      "# Given data\n",
      "import math\n",
      "import numpy as np\n",
      "from matplotlib import pyplot\n",
      "I_DSS = 4.;# in mA\n",
      "V_P = 3.;# in V\n",
      "V_GS=np.linspace(0,V_P,num=31);\n",
      "I_D = np.zeros(31);\n",
      "for i in range(0,31):\n",
      "\tI_D[i] = I_DSS * ((1 - (V_GS[i]/V_P))**2);# in A\n",
      "\t\n",
      "\n",
      "pyplot.plot(V_GS,I_D);\n",
      "pyplot.xlabel(\"V_GS in volts\");\n",
      "pyplot.ylabel(\"I_D in mA\")\n",
      "pyplot.title(\"Transfer curve\")\n",
      "pyplot.show();\n",
      "print \"The transfer curve shown in the figure.\";\n"
     ],
     "language": "python",
     "metadata": {},
     "outputs": [
      {
       "metadata": {},
       "output_type": "display_data",
       "png": "[encoded data removed]",
       "text": [
        "<matplotlib.figure.Figure at 0x5c14450>"
       ]
      },
      {
       "output_type": "stream",
       "stream": "stdout",
       "text": [
        "The transfer curve shown in the figure.\n"
       ]
      }
     ],
     "prompt_number": 2
    },
    {
     "cell_type": "heading",
     "level": 2,
     "metadata": {},
     "source": [
      "Example E03 - Pg 166"
     ]
    },
    {
     "cell_type": "code",
     "collapsed": false,
     "input": [
      "#  Exa 6.3\n",
      "#  Given data\n",
      "I_Don = 10.;#  in mA\n",
      "I_Don = I_Don * 10.**-3.;#  in A\n",
      "V_GS = -12.;#  in V\n",
      "V_GSt = -3.;#  in V\n",
      "# From I_Don = Kn*((V_GS-V_GSt)**2);\n",
      "Kn = I_Don/((V_GS-V_GSt)**2);#  in A/V\n",
      "Kn= Kn* 10.**3.;#  in mA/V\n",
      "V_GS = -6.;#  in V\n",
      "I_D = Kn*((V_GS-V_GSt)**2);#  in mA\n",
      "print '%s %.2f' %(\"The drain current in mA is\",I_D);\n"
     ],
     "language": "python",
     "metadata": {},
     "outputs": [
      {
       "output_type": "stream",
       "stream": "stdout",
       "text": [
        "The drain current in mA is 1.11\n"
       ]
      }
     ],
     "prompt_number": 3
    },
    {
     "cell_type": "heading",
     "level": 2,
     "metadata": {},
     "source": [
      "Example E04 - Pg 167"
     ]
    },
    {
     "cell_type": "code",
     "collapsed": false,
     "input": [
      "#  Exa 6.4\n",
      "#  Given data\n",
      "I_DSS = 8.;#  in mA\n",
      "I_DSS = I_DSS * 10.**-3.;#  in A\n",
      "V_P =-5.;#  in V\n",
      "V_GS = -2.;#  in V\n",
      "V_DSmin = V_GS - V_P;#  in V\n",
      "print '%s %.2f' %(\"The minimum value of V_DS in V is\",V_DSmin);\n",
      "I_DS = I_DSS*((1 - (V_GS/V_P))**2);#  in A\n",
      "I_DS = I_DS * 10.**3.;#  in mA\n",
      "print '%s %.2f' %(\"The drain current in mA is\",I_DS);\n"
     ],
     "language": "python",
     "metadata": {},
     "outputs": [
      {
       "output_type": "stream",
       "stream": "stdout",
       "text": [
        "The minimum value of V_DS in V is 3.00\n",
        "The drain current in mA is 2.88\n"
       ]
      }
     ],
     "prompt_number": 4
    },
    {
     "cell_type": "heading",
     "level": 2,
     "metadata": {},
     "source": [
      "Example E05 - Pg 168"
     ]
    },
    {
     "cell_type": "code",
     "collapsed": false,
     "input": [
      "#  Exa 6.5\n",
      "#  Given data\n",
      "import math\n",
      "I_DSS = 1.65;#  in mA\n",
      "I_DSS = I_DSS * 10.**-3.;#  in A\n",
      "V_P = -2.;#  in V\n",
      "I_D = 0.8;#  in mA\n",
      "I_D = I_D * 10.**-3.;#  in A\n",
      "V_DD = 24.;#  in V\n",
      "V_GS = V_P * (1 - math.sqrt( I_D/I_DSS ));#  in V\n",
      "print '%s %.2f' %(\"The value of V_GS in V is\",V_GS);\n",
      "g_mo = -2. * (I_DSS*10.**3./V_P);#  in ms\n",
      "g_m = g_mo * (1 - V_GS/V_P);#  in ms\n",
      "print '%s %.2f' %(\"The value of g_m in ms is\",g_m); \n"
     ],
     "language": "python",
     "metadata": {},
     "outputs": [
      {
       "output_type": "stream",
       "stream": "stdout",
       "text": [
        "The value of V_GS in V is -0.61\n",
        "The value of g_m in ms is 1.15\n"
       ]
      }
     ],
     "prompt_number": 5
    },
    {
     "cell_type": "heading",
     "level": 2,
     "metadata": {},
     "source": [
      "Example E06 - Pg 173"
     ]
    },
    {
     "cell_type": "code",
     "collapsed": false,
     "input": [
      "#  Exa 6.6\n",
      "#  Given data\n",
      "Vt = 2.;#  in V\n",
      "unCox = 20.;#  in uA/V**2\n",
      "Kdasn = unCox;#  in uA/V**2\n",
      "W = 100.;#  in um\n",
      "L = 10.;#  in um\n",
      "V_GS = 3.;#  in V\n",
      "V_DS = 0.5;#  in V\n",
      "V_GS = 3.;#  in V\n",
      "Vt = 2.;#  in V\n",
      "del_V = V_GS-Vt;#  in V\n",
      "i_D = Kdasn*10.**-6.*(W/L)*( del_V*V_DS - 1./2.*(V_DS**2.) );#  in A\n",
      "i_D = i_D * 10**6;#  in uA\n",
      "print '%s' %(\"Part (a) For V_D= 0.5 V, NOMS is operating in Triode region.\")\n",
      "print '%s %.2f' %(\"The drain current in A is\",i_D);\n",
      "V_DS = 1.;#  in V\n",
      "i_D = (1./2.)* Kdasn*10.**-6.*(W/L)*( del_V**2. );#  in A\n",
      "i_D = i_D * 10**6;#  in uA\n",
      "print '%s' %(\"Part (b) For V_D= 1 V, NOMS is operating in saturation region.\")\n",
      "print '%s %.2f' %(\"The drain current in uA is\",i_D);\n",
      "V_DS = 5;#  in V\n",
      "i_D = (1./2.)* Kdasn*10.**-6.*(W/L)*( del_V**2. );#  in A\n",
      "i_D = i_D * 10**6;#  in uA\n",
      "print '%s' %(\"Part (c) For V_D= 5 V, NOMS is operating in saturation region.\")\n",
      "print '%s %.2f' %(\"The drain current in uA is\",i_D);\n"
     ],
     "language": "python",
     "metadata": {},
     "outputs": [
      {
       "output_type": "stream",
       "stream": "stdout",
       "text": [
        "Part (a) For V_D= 0.5 V, NOMS is operating in Triode region.\n",
        "The drain current in A is 75.00\n",
        "Part (b) For V_D= 1 V, NOMS is operating in saturation region.\n",
        "The drain current in uA is 100.00\n",
        "Part (c) For V_D= 5 V, NOMS is operating in saturation region.\n",
        "The drain current in uA is 100.00\n"
       ]
      }
     ],
     "prompt_number": 6
    },
    {
     "cell_type": "heading",
     "level": 2,
     "metadata": {},
     "source": [
      "Example E07 - Pg 174"
     ]
    },
    {
     "cell_type": "code",
     "collapsed": false,
     "input": [
      "#  Exa 6.7\n",
      "#  Given data\n",
      "Vt = 2.;#  in V\n",
      "i_D = 1.;#  in mA\n",
      "i_D = i_D * 10.**-3.;#  in A\n",
      "V_GS = 3.;#  in V\n",
      "#  From i_D= 1/2*KnwByL*(V_GS-Vt)**2\n",
      "KnwByL= 2.*i_D/(V_GS-Vt)**2;\n",
      "V_GS= 4.;#  in V\n",
      "V_DS= 5.;#  in V\n",
      "i_D= 1./2.*KnwByL*(V_GS-Vt)**2.;#  in A\n",
      "i_D= i_D*10.**3.;#  in mA\n",
      "print '%s %.f' %(\"The value of i_D in mA is : \",i_D)\n",
      "r_DS= 1./(KnwByL*(V_GS-Vt));#  in ohm\n",
      "print '%s %.f' %(\"The value of drain to source resistance in ohm is : \",r_DS)\n"
     ],
     "language": "python",
     "metadata": {},
     "outputs": [
      {
       "output_type": "stream",
       "stream": "stdout",
       "text": [
        "The value of i_D in mA is :  4\n",
        "The value of drain to source resistance in ohm is :  250\n"
       ]
      }
     ],
     "prompt_number": 7
    },
    {
     "cell_type": "heading",
     "level": 2,
     "metadata": {},
     "source": [
      "Example E08 - Pg 174"
     ]
    },
    {
     "cell_type": "code",
     "collapsed": false,
     "input": [
      "#  Exa 6.8\n",
      "#  Given data\n",
      "Vt = -2.;#  in V\n",
      "KnwByL = 2.*10.**-3.;#  in A/V**2\n",
      "V_GS = 1.;#  in V\n",
      "V_DS = V_GS-Vt;#  in V\n",
      "print '%s %.f' %(\"The minimum value of V_DS in V is\",V_DS);\n",
      "i_D = 1./2.*KnwByL*V_DS**2.;#  in A\n",
      "i_D = i_D * 10.**3.;#  in mA\n",
      "print '%s %.f' %(\"The value of i_D in mA is\",i_D);\n"
     ],
     "language": "python",
     "metadata": {},
     "outputs": [
      {
       "output_type": "stream",
       "stream": "stdout",
       "text": [
        "The minimum value of V_DS in V is 3\n",
        "The value of i_D in mA is 9\n"
       ]
      }
     ],
     "prompt_number": 8
    }
   ],
   "metadata": {}
  }
 ]
}