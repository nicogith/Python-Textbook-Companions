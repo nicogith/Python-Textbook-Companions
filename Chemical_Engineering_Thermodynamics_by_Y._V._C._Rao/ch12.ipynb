{
 "metadata": {
  "name": ""
 },
 "nbformat": 3,
 "nbformat_minor": 0,
 "worksheets": [
  {
   "cells": [
    {
     "cell_type": "heading",
     "level": 1,
     "metadata": {},
     "source": [
      "Chapter 12 : Vapor liquid Equilibrium"
     ]
    },
    {
     "cell_type": "heading",
     "level": 3,
     "metadata": {},
     "source": [
      "Example 12.1  Page No : 423"
     ]
    },
    {
     "cell_type": "code",
     "collapsed": false,
     "input": [
      "\n",
      "%matplotlib inline\n",
      "import math \n",
      "from numpy import *\n",
      "from matplotlib.pyplot import *\n",
      "\n",
      "# Variables\n",
      "T = 60.\t\t\t #temperature of the system in degree celsius\n",
      "P = [237.60,265.20,317.50,333.00,368.70,387.20];\t\t\t #Pressure data in Torr (from Danneil et al.)\n",
      "x1 = [0.0870,0.1800,0.4040,0.4790,0.7130,0.9070];\t\t\t #mole fraction of benzene in the liquid phase corresponding to the given pressure (no unit) (from Danneil et al.)\n",
      "y1 = [0.1870,0.3400,0.5780,0.6420,0.7960,0.9220];\t\t\t #mole fraction of benzene in the vapour phase corresponding to the given pressure (no unit) (from Danneil et al.)\n",
      "antoine_const_benzene = [6.87987,1196.760,219.161];\t\t\t #Antoine's constants for Benzene from Table A.7\n",
      "antoine_const_heptane = [6.89386,1264.370,216.640];\t\t\t #Antoine's constants for heptane from Table A.7\n",
      "\n",
      "# Calculations\n",
      "P1_s = 10**(antoine_const_benzene[0]-(antoine_const_benzene[1]/(T+antoine_const_benzene[2])));\n",
      "P2_s = 10**(antoine_const_heptane[0]-(antoine_const_heptane[1]/(T+antoine_const_heptane[2])));\n",
      "l = len(P);\t\t\t #iteration parameter\n",
      "i = 0;\t\t\t #iteration parameter\n",
      "gaamma1 = zeros(l)\n",
      "gaamma2 = zeros(l)\n",
      "ln_gaamma1_expt = zeros(l)\n",
      "ln_gaamma2_expt = zeros(l)\n",
      "gE_RTx1x2 = zeros(l)\n",
      "while i<l:\n",
      "    gaamma1[i] = (y1[i]*P[i])/(x1[i]*P1_s);\t\t\n",
      "    gaamma2[i] = ((1-y1[i])*P[i])/((1-x1[i])*P2_s);\n",
      "    ln_gaamma1_expt[i] = math.log(gaamma1[i]);\n",
      "    ln_gaamma2_expt[i] = math.log(gaamma2[i]);\n",
      "    gE_RTx1x2[i] = ((x1[i]*ln_gaamma1_expt[i])+((1-x1[i])*ln_gaamma2_expt[i]))/(x1[i]*(1-x1[i]));\t\t\t # Calculations of gE/RT using Eq.(11.36) (no unit)\n",
      "    i = i+1;\n",
      "\n",
      "plot(x1,gE_RTx1x2,'o');\t\t\n",
      "suptitle('Plot of gE/RTx1x2 vs x1')\n",
      "xlabel('x1')\n",
      "ylabel('gE/RTx1x2');\n",
      "A21 = 0.555\n",
      "A12 = 0.315\n",
      "j = 0\n",
      "ln_gaamma1 = zeros(l)\n",
      "ln_gaamma2 = zeros(l)\n",
      "P_calc = zeros(l)\n",
      "y1_calc = zeros(l)\n",
      "gaamma1 = zeros(l)\n",
      "gaamma2 = zeros(l)\n",
      "while j<l:\n",
      "    ln_gaamma1[j] = ((1-x1[j])**2)*(A12+(2*(A21-A12)*x1[j]));\n",
      "    ln_gaamma2[j] = (x1[j]**2)*(A21+(2*(A12-A21)*(1-x1[j])));\n",
      "    gaamma1[j] = math.exp(ln_gaamma1[j])\n",
      "    gaamma2[j] = math.exp(ln_gaamma2[j])\n",
      "    P_calc[j] = (gaamma1[j]*x1[j]*P1_s)+(gaamma2[j]*(1-x1[j])*P2_s)\n",
      "    y1_calc[j] = (gaamma1[j]*x1[j]*P1_s)/P[j];\t\t\t \n",
      "    j = j+1;\n",
      "\n",
      "# Results\n",
      "print 'Data for the plot of gE/RTx1x2 vs x1: ';\n",
      "\n",
      "for i in range(l):\n",
      "    print 'P = %f Torr\\t x1 = %f\\t y1 = %f \\t lngamma1) = %f\\t\\t lngamma2) =\\\n",
      "     %f\\t\\t gE/RTx1x2 = %f'%(P[i],x1[i],y1[i],ln_gaamma1_expt[i],ln_gaamma2_expt[i],gE_RTx1x2[i]);\n",
      "\n",
      "print 'Results: ';\n",
      "for i in range(l):\n",
      "    print 'x1 = %f \\t gamma1 = %f \\t gamma2 = %f \\t P_Exptl. = %f \\\n",
      "    Torr\\t P_Calc = %f Torr\\t y1_Exptl = %f \\t y1_calc = %f '%(x1[i],gaamma1[i],gaamma2[i],P[i],P_calc[i],y1[i],y1_calc[i]);\n"
     ],
     "language": "python",
     "metadata": {},
     "outputs": [
      {
       "output_type": "stream",
       "stream": "stdout",
       "text": [
        "Populating the interactive namespace from numpy and matplotlib\n",
        "Data for the plot of gE/RTx1x2 vs x1: "
       ]
      },
      {
       "output_type": "stream",
       "stream": "stdout",
       "text": [
        "\n",
        "P = 237.600000 Torr\t x1 = 0.087000\t y1 = 0.187000 \t lngamma1) = 0.265459\t\t lngamma2) =     0.004741\t\t gE/RTx1x2 = 0.345243\n",
        "P = 265.200000 Torr\t x1 = 0.180000\t y1 = 0.340000 \t lngamma1) = 0.246143\t\t lngamma2) =     0.013576\t\t gE/RTx1x2 = 0.375599\n",
        "P = 317.500000 Torr\t x1 = 0.404000\t y1 = 0.578000 \t lngamma1) = 0.148307\t\t lngamma2) =     0.065399\t\t gE/RTx1x2 = 0.410716\n",
        "P = 333.000000 Torr\t x1 = 0.479000\t y1 = 0.642000 \t lngamma1) = 0.130700\t\t lngamma2) =     0.083082\t\t gE/RTx1x2 = 0.424313\n",
        "P = 368.700000 Torr\t x1 = 0.713000\t y1 = 0.796000 \t lngamma1) = 0.049771\t\t lngamma2) =     0.218778\t\t gE/RTx1x2 = 0.480259\n",
        "P = 387.200000 Torr\t x1 = 0.907000\t y1 = 0.922000 \t lngamma1) = 0.005014\t\t lngamma2) =     0.433207\t\t gE/RTx1x2 = 0.531539\n",
        "Results: \n",
        "x1 = 0.087000 \t gamma1 = 1.346332 \t gamma2 = 1.000884 \t P_Exptl. = 237.600000     Torr\t P_Calc = 238.297793 Torr\t y1_Exptl = 0.187000 \t y1_calc = 0.193066 \n",
        "x1 = 0.180000 \t gamma1 = 1.309835 \t gamma2 = 1.005243 \t P_Exptl. = 265.200000     Torr\t P_Calc = 265.912990 Torr\t y1_Exptl = 0.340000 \t y1_calc = 0.348175 \n",
        "x1 = 0.404000 \t gamma1 = 1.198147 \t gamma2 = 1.044870 \t P_Exptl. = 317.500000     Torr\t P_Calc = 320.705660 Torr\t y1_Exptl = 0.578000 \t y1_calc = 0.597076 \n",
        "x1 = 0.479000 \t gamma1 = 1.159413 \t gamma2 = 1.072467 \t P_Exptl. = 333.000000     Torr\t P_Calc = 335.157916 Torr\t y1_Exptl = 0.642000 \t y1_calc = 0.653147 \n",
        "x1 = 0.713000 \t gamma1 = 1.055628 \t gamma2 = 1.236286 \t P_Exptl. = 368.700000     Torr\t P_Calc = 369.484272 Torr\t y1_Exptl = 0.796000 \t y1_calc = 0.799482 \n",
        "x1 = 0.907000 \t gamma1 = 1.006511 \t gamma2 = 1.521729 \t P_Exptl. = 387.200000     Torr\t P_Calc = 387.326500 Torr\t y1_Exptl = 0.922000 \t y1_calc = 0.923362 \n"
       ]
      },
      {
       "metadata": {},
       "output_type": "display_data",
       "png": "[encoded data removed]",
       "text": [
        "<matplotlib.figure.Figure at 0x2dcf110>"
       ]
      }
     ],
     "prompt_number": 1
    },
    {
     "cell_type": "heading",
     "level": 3,
     "metadata": {},
     "source": [
      "Example 12.3  Page No : 430"
     ]
    },
    {
     "cell_type": "code",
     "collapsed": false,
     "input": [
      "from numpy import *\n",
      "# Variables\n",
      "T = 25.     \t\t\t #temperature of the system in degree celsius\n",
      "A12 = 2.0522;\t\t\t #three suffix Margules parameters for the system (no unit)\n",
      "A21 = 1.7201;\t\t\t #three suffix Margules parameters for the system (no unit)\n",
      "P = [118.05,207.70,246.35,259.40,261.50,262.00,261.90,258.70,252.00];\t\t\t #Pressure data in Torr (from Tasic et al.)\n",
      "x1 = [0.0115,0.1125,0.3090,0.5760,0.6920,0.7390,0.7575,0.8605,0.9250];\n",
      "y1 = [0.1810,0.5670,0.6550,0.7050,0.7250,0.7390,0.7460,0.8030,0.8580];\n",
      "antoine_const_acetone = [7.11714,1210.595,229.664];\t\t\t #Antoine's constants for acetone from Table A.7\n",
      "antoine_const_chexane = [6.85146,1206.470,223.136];\t\t\t #Antoine's constants for cyclohexane from Table A.7\n",
      "\n",
      "# Calculations\n",
      "P1_s = 10**(antoine_const_acetone[0]-(antoine_const_acetone[1]/(T+antoine_const_acetone[2])));\n",
      "P2_s = 10**(antoine_const_chexane[0]-(antoine_const_chexane[1]/(T+antoine_const_chexane[2])));\n",
      "\n",
      "l = len(P)\n",
      "ln_gaamma1 = zeros(l)\n",
      "ln_gaamma2 = zeros(l)\n",
      "gaamma1 = zeros(l)\n",
      "gaamma2 = zeros(l)\n",
      "P = zeros(l)\n",
      "y1_calc = zeros(l)\n",
      "j = 0;\t\n",
      "\n",
      "while j<l:\n",
      "    ln_gaamma1[j] = ((1-x1[j])**2)*(A12+(2*(A21-A12)*x1[j]));\t\n",
      "    ln_gaamma2[j] = (x1[j]**2)*(A21+(2*(A12-A21)*(1-x1[j])));\t\n",
      "    gaamma1[j] = math.exp(ln_gaamma1[j]);\t\t\t \n",
      "    gaamma2[j] = math.exp(ln_gaamma2[j]);\t\t\t \n",
      "    P[j] = (gaamma1[j]*x1[j]*P1_s)+(gaamma2[j]*(1-x1[j])*P2_s)\n",
      "    y1_calc[j] = (gaamma1[j]*x1[j]*P1_s)/P[j];\t\t\t \n",
      "    j = j+1;\n",
      "\n",
      "# Results\n",
      "print 'P-x-y data: ';\n",
      "print 'x1 \\t  gamma1\\t  gamma2 \\t P Torr \\t y1  ';\n",
      "for i in range(l):\n",
      "    print '%0.4f \\t %f \\t %f \\t %f  \\t %f '%(x1[i],gaamma1[i],gaamma2[i],P[i],y1_calc[i])\n"
     ],
     "language": "python",
     "metadata": {},
     "outputs": [
      {
       "output_type": "stream",
       "stream": "stdout",
       "text": [
        "P-x-y data: \n",
        "x1 \t  gamma1\t  gamma2 \t P Torr \t y1  \n",
        "0.0115 \t 7.372871 \t 1.000314 \t 116.059350  \t 0.168694 \n",
        "0.1125 \t 4.747283 \t 1.029662 \t 212.486878  \t 0.580377 \n",
        "0.3090 \t 2.415459 \t 1.231286 \t 255.363338  \t 0.674908 \n",
        "0.5760 \t 1.350072 \t 1.942786 \t 259.940648  \t 0.690796 \n",
        "0.6920 \t 1.163087 \t 2.513451 \t 261.385489  \t 0.711020 \n",
        "0.7390 \t 1.112223 \t 2.812451 \t 261.416681  \t 0.726019 \n",
        "0.7575 \t 1.095373 \t 2.942991 \t 261.232545  \t 0.733436 \n",
        "0.8605 \t 1.029233 \t 3.827737 \t 256.608420  \t 0.796964 \n",
        "0.9250 \t 1.008121 \t 4.546617 \t 248.599211  \t 0.866162 \n"
       ]
      }
     ],
     "prompt_number": 2
    },
    {
     "cell_type": "heading",
     "level": 3,
     "metadata": {},
     "source": [
      "Example 12.4  Page No : 432"
     ]
    },
    {
     "cell_type": "code",
     "collapsed": false,
     "input": [
      "\n",
      "# Variables\n",
      "T = 25. \t\t\t #temperature of the system in degree celsius\n",
      "A = 2.0684;\t\t\t #the van Laar parameters for the system (no unit)\n",
      "B = 1.7174;\t\t\t #the van Laar parameters for the system (no unit)\n",
      "P = [118.05,207.70,246.35,259.40,261.50,262.00,261.90,258.70,252.00];\t\t\t #Pressure data in Torr (from Tasic et al.)\n",
      "x1 = [0.0115,0.1125,0.3090,0.5760,0.6920,0.7390,0.7575,0.8605,0.9250];\n",
      "y1 = [0.1810,0.5670,0.6550,0.7050,0.7250,0.7390,0.7460,0.8030,0.8580];\n",
      "antoine_const_acetone = [7.11714,1210.595,229.664];\t\t\t #Antoine's constants for acetone from Table A.7\n",
      "antoine_const_chexane = [6.85146,1206.470,223.136];\t\t\t #Antoine's constants for cyclohexane from Table A.7\n",
      "\n",
      "# Calculations\n",
      "P1_s = 10**(antoine_const_acetone[0]-(antoine_const_acetone[1]/(T+antoine_const_acetone[2])))\n",
      "P2_s = 10**(antoine_const_chexane[0]-(antoine_const_chexane[1]/(T+antoine_const_chexane[2])));\n",
      "l = len(P)\n",
      "j = 0\n",
      "while j<l:\n",
      "    ln_gaamma1[j] = A/(1+((A*x1[j])/(B*(1-x1[j]))))**2\n",
      "    ln_gaamma2[j] = B/(1+((B*(1-x1[j]))/(A*x1[j])))**2\n",
      "    gaamma1[j] = math.exp(ln_gaamma1[j]);\t\t\t\n",
      "    gaamma2[j] = math.exp(ln_gaamma2[j]);\t\t\t\n",
      "    P[j] = (gaamma1[j]*x1[j]*P1_s)+(gaamma2[j]*(1-x1[j])*P2_s)\n",
      "    y1_calc[j] = (gaamma1[j]*x1[j]*P1_s)/P[j];\t\t\t \n",
      "    j = j+1;\n",
      "\n",
      "# Results\n",
      "print 'P-x-y data: ';\n",
      "i = 0;\n",
      "print 'x1 \\t  gamma1 \\t gamma2 \\t PTorr \\t y1 ';\n",
      "for i in range(l):\n",
      "    print '%0.4f \\t %f \\t %f \\t %f  \\t %f '%(x1[i],gaamma1[i],gaamma2[i],P[i],y1_calc[i]);\n"
     ],
     "language": "python",
     "metadata": {},
     "outputs": [
      {
       "output_type": "stream",
       "stream": "stdout",
       "text": [
        "P-x-y data: \n",
        "x1 \t  gamma1 \t gamma2 \t PTorr \t y1 \n",
        "0.0115 \t 7.475516 \t 1.000328 \t 116.333233  \t 0.170640 \n",
        "0.1125 \t 4.743506 \t 1.030586 \t 212.468724  \t 0.579965 \n",
        "0.3090 \t 2.395936 \t 1.234218 \t 254.168007  \t 0.672601 \n",
        "0.5760 \t 1.346684 \t 1.937830 \t 259.284960  \t 0.690805 \n",
        "0.6920 \t 1.162537 \t 2.498302 \t 260.842215  \t 0.712164 \n",
        "0.7390 \t 1.112211 \t 2.792268 \t 260.900602  \t 0.727447 \n",
        "0.7575 \t 1.095497 \t 2.920797 \t 260.729035  \t 0.734935 \n",
        "0.8605 \t 1.029539 \t 3.796506 \t 256.244215  \t 0.798334 \n",
        "0.9250 \t 1.008263 \t 4.515793 \t 248.404105  \t 0.866965 \n"
       ]
      }
     ],
     "prompt_number": 10
    },
    {
     "cell_type": "heading",
     "level": 3,
     "metadata": {},
     "source": [
      "Example 12.5  Page No : 435"
     ]
    },
    {
     "cell_type": "code",
     "collapsed": false,
     "input": [
      "import math\n",
      "from numpy import *\n",
      "from matplotlib.pyplot import *\n",
      "\n",
      "# Variables\n",
      "P = 760.\t\t\t #pressure in Torr at which chloroform and methanol form an azeotrope\n",
      "T = 53.5\t\t\t #temperature in degree celsius at which chloroform and methanol form an azeotrope\n",
      "x1 = 0.65\t\t\t #mole fraction of chloroform in the liquid phase (no unit) (corresponding to azeotropic composition)\n",
      "antoine_const_chloroform = [6.95465,1170.966,226.232];\t\t\t #Antoine's constants for acetone from Table A.7\n",
      "antoine_const_methanol = [8.08097,1582.271,239.726];\t\t\t #Antoine's constants for acetone from Table A.7\n",
      "\n",
      "# Calculations\n",
      "x2 = 1-x1\n",
      "P1_s = 10**(antoine_const_chloroform[0]-(antoine_const_chloroform[1]/(T+antoine_const_chloroform[2])));\n",
      "P2_s = 10**(antoine_const_methanol[0]-(antoine_const_methanol[1]/(T+antoine_const_methanol[2])));\n",
      "gaamma1 = P/P1_s\n",
      "gaamma2 = P/P2_s\n",
      "A = math.log(gaamma1)*(1+((x2*math.log(gaamma2))/(x1*math.log(gaamma1))))**2\n",
      "B = math.log(gaamma2)*(1+((x1*math.log(gaamma1))/(x2*math.log(gaamma2))))**2\n",
      "x1 = linspace(0.1,0.9,9)\n",
      "l = len(x1)\n",
      "gaamma1 = zeros(l)\n",
      "gaamma2 = zeros(l)\n",
      "P  = zeros(l) \n",
      "y1 = zeros(l)\n",
      "j = 0\n",
      "while j<l:\n",
      "    ln_gaamma1[j] = A/(1+((A*x1[j])/(B*(1-x1[j]))))**2\n",
      "    ln_gaamma2[j] = B/(1+((B*(1-x1[j]))/(A*x1[j])))**2\n",
      "    gaamma1[j] = math.exp(ln_gaamma1[j]);\t\t\t \n",
      "    gaamma2[j] = math.exp(ln_gaamma2[j]);\t\t\t \n",
      "    P[j] = (gaamma1[j]*x1[j]*P1_s)+(gaamma2[j]*(1-x1[j])*P2_s)\n",
      "    y1[j] = (gaamma1[j]*x1[j]*P1_s)/P[j];\t\t\t \n",
      "    j = j+1;\n",
      "\n",
      "# Results\n",
      "print 'VLE data: ';\n",
      "print 'x1 \\tgamma1 \\t\\t gamma2  \\t P Torr \\t y1 ';\n",
      "for i in range(l):\n",
      "    print '%0.1f \\t %f \\t %f \\t %f \\t %f '%(x1[i],gaamma1[i],gaamma2[i],P[i],y1[i]);\n"
     ],
     "language": "python",
     "metadata": {},
     "outputs": [
      {
       "output_type": "stream",
       "stream": "stdout",
       "text": [
        "VLE data: \n",
        "x1 \tgamma1 \t\t gamma2  \t P Torr \t y1 \n",
        "0.1 \t 2.391069 \t 1.005464 \t 578.375597 \t 0.242663 \n",
        "0.2 \t 2.151801 \t 1.024547 \t 649.357212 \t 0.389019 \n",
        "0.3 \t 1.928361 \t 1.062974 \t 699.744047 \t 0.485280 \n",
        "0.4 \t 1.722251 \t 1.130135 \t 732.594248 \t 0.551969 \n",
        "0.5 \t 1.535159 \t 1.242383 \t 751.239893 \t 0.599745 \n",
        "0.6 \t 1.369108 \t 1.430331 \t 759.122391 \t 0.635183 \n",
        "0.7 \t 1.226766 \t 1.756665 \t 759.153131 \t 0.663976 \n",
        "0.8 \t 1.112114 \t 2.365222 \t 751.206494 \t 0.695188 \n",
        "0.9 \t 1.031997 \t 3.639052 \t 721.331744 \t 0.755801 \n"
       ]
      }
     ],
     "prompt_number": 14
    },
    {
     "cell_type": "heading",
     "level": 3,
     "metadata": {},
     "source": [
      "Example 12.6  Page No : 443"
     ]
    },
    {
     "cell_type": "code",
     "collapsed": false,
     "input": [
      "\n",
      "# Variables\n",
      "y1 = 0.3;\t\t\t #mole fraction of ethane in the vapour phase (no unit)\n",
      "T = 30. \t\t\t #temperature in degree celsius\n",
      "\n",
      "# Calculations\n",
      "y2 = 1-y1\n",
      "P_guess = 1\n",
      "K1 = 3.4\n",
      "K2 = 1.1\n",
      "x1_calc = y1/K1\n",
      "x2_calc = y2/K2;\n",
      "tot = x1_calc+x2_calc\n",
      "if tot == 1:\n",
      "    P = P_guess\n",
      "    x1 = x1_calc\n",
      "    x2 = x2_calc\n",
      "else:\n",
      "    P = 1.5\n",
      "    K1 = 2.4\n",
      "    K2 = 0.8\n",
      "    x1 = y1/K1\n",
      "    x2 = y2/K2\n",
      "\n",
      "# Results\n",
      "print 'The Dew pressure and the liquid composition of a binary vapour mixture of\\\n",
      " ethane and propane was found to be P = %0.2f MPa\\t x1 = %0.3f\\t x2 = %0.3f \\t'%(P,x1,x2);\n",
      "\n"
     ],
     "language": "python",
     "metadata": {},
     "outputs": [
      {
       "output_type": "stream",
       "stream": "stdout",
       "text": [
        "The Dew pressure and the liquid composition of a binary vapour mixture of ethane and propane was found to be P = 1.50 MPa\t x1 = 0.125\t x2 = 0.875 \t\n"
       ]
      }
     ],
     "prompt_number": 17
    },
    {
     "cell_type": "heading",
     "level": 3,
     "metadata": {},
     "source": [
      "Example 12.7  Page No : 443"
     ]
    },
    {
     "cell_type": "code",
     "collapsed": false,
     "input": [
      "\n",
      "# Variables\n",
      "x1 = 0.4;\t\t\t #mole fraction of ethane in the liquid phase (no unit)\n",
      "P = 1.5;\t\t\t #pressure in MPa\n",
      "\n",
      "# Calculations\n",
      "x2 = 1-x1\n",
      "t_guess = 10.\n",
      "K1 = 1.8;\t\n",
      "K2 = 0.5;\t\n",
      "y1_calc = K1*x1\n",
      "y2_calc = K2*x2\n",
      "tot = y1_calc+y2_calc\n",
      "if tot == 1:\n",
      "   t = t_guess\n",
      "   y1 = y1_calc\n",
      "   y2 = y2_calc\n",
      "else:\n",
      "    t = 9.\n",
      "    K1 = 1.75\n",
      "    K2 = 0.5;\n",
      "    y1 = K1*x1\n",
      "    y2 = K2*x2\n",
      "\n",
      "# Results\n",
      "print 'The bubble temperature and the vapour composition of a binary vapour mixture\\\n",
      " of ethane and propane was found to be t = %d degree celsius y1 = %f\\t y2 = %f\\t'%(t,y1,y2);\n"
     ],
     "language": "python",
     "metadata": {},
     "outputs": [
      {
       "output_type": "stream",
       "stream": "stdout",
       "text": [
        "The bubble temperature and the vapour composition of a binary vapour mixture of ethane and propane was found to be t = 9 degree celsius y1 = 0.700000\t y2 = 0.300000\t\n"
       ]
      }
     ],
     "prompt_number": 19
    },
    {
     "cell_type": "heading",
     "level": 3,
     "metadata": {},
     "source": [
      "Example 12.8  Page No : 449"
     ]
    },
    {
     "cell_type": "code",
     "collapsed": false,
     "input": [
      "from numpy import *\n",
      "from matplotlib.pyplot import *\n",
      "%matplotlib inline\n",
      "# Variables\n",
      "P = [350.00,446.00,518.00,574.50,609.00,632.50,665.00,681.50,691.50]\n",
      "x1 = [0.0550,0.1290,0.2120,0.3130,0.4300,0.5200,0.6380,0.7490,0.8720]\n",
      "y1 = [0.3500,0.5110,0.5990,0.6500,0.6970,0.7260,0.7590,0.8130,0.8830]\n",
      "antoine_const_propanol = [8.37895,1788.020,227.438];\t\t\t \n",
      "antoine_const_cbenzene = [7.17294,1549.200,229.260];\t\t\t \n",
      "T = 95.\t\t\t #temperature of the system in degree celsius\n",
      "\n",
      "# Calculations\n",
      "P1_s = 10**(antoine_const_propanol[0]-(antoine_const_propanol[1]/(T+antoine_const_propanol[2])));\n",
      "P2_s = 10**(antoine_const_cbenzene[0]-(antoine_const_cbenzene[1]/(T+antoine_const_cbenzene[2])));\n",
      "l = len(P)\n",
      "lngamma1_gamma2 = zeros(l)\n",
      "gaamma1 = zeros(l)\n",
      "gaamma2 = zeros(l)\n",
      "i = 0\n",
      "while i<l:\n",
      "    gaamma1[i] = (y1[i]*P[i])/(x1[i]*P1_s)\n",
      "    gaamma2[i] = ((1-y1[i])*P[i])/((1-x1[i])*P2_s)\n",
      "    lngamma1_gamma2[i] = math.log(gaamma1[i]/gaamma2[i])\n",
      "    i = i+1;\n",
      "\n",
      "plot(x1,lngamma1_gamma2);\n",
      "suptitle('Plot of ln(gamma1/gamma2) vs x1')\n",
      "xlabel('x1')\n",
      "ylabel('ln(gamma1/gamma2)');\n",
      "area_above = 1515.\n",
      "area_below = 1540.\n",
      "consistency_parameter = abs((area_above-area_below)/(area_above+area_below));\t\t\t\n",
      "\n",
      "# Results\n",
      "print 'Values of lngamma1./gamma2: ';\n",
      "print 'x1 \\t gamma1 \\t gamma2 \\t lngamma1./gamma2';\n",
      "\n",
      "for i in range(l):\n",
      "    print '%0.4f \\t %f \\t %f \\t %f '%(x1[i],gaamma1[i],gaamma2[i],lngamma1_gamma2[i]);\n",
      "\n",
      "print 'The value of the consistency parameter = %f'%(consistency_parameter);\n",
      "if consistency_parameter<0.02 or consistency_parameter == 0.02:\n",
      "    print 'The VLE data is thermodynamically consistent';\n",
      "else:\n",
      "    print 'The VLE data is not thermodynamically consistent';\n"
     ],
     "language": "python",
     "metadata": {},
     "outputs": [
      {
       "output_type": "stream",
       "stream": "stdout",
       "text": [
        "Populating the interactive namespace from numpy and matplotlib\n",
        "Values of lngamma1./gamma2: "
       ]
      },
      {
       "output_type": "stream",
       "stream": "stdout",
       "text": [
        "\n",
        "x1 \t gamma1 \t gamma2 \t lngamma1./gamma2\n",
        "0.0550 \t 3.266913 \t 0.968851 \t 1.215489 \n",
        "0.1290 \t 2.591375 \t 1.007704 \t 0.944514 \n",
        "0.2120 \t 2.146767 \t 1.060854 \t 0.704889 \n",
        "0.3130 \t 1.749940 \t 1.177901 \t 0.395847 \n",
        "0.4300 \t 1.447924 \t 1.302845 \t 0.105581 \n",
        "0.5200 \t 1.295263 \t 1.453040 \t -0.114944 \n",
        "0.6380 \t 1.160398 \t 1.781713 \t -0.428812 \n",
        "0.7490 \t 1.085022 \t 2.043343 \t -0.632987 \n",
        "0.8720 \t 1.027071 \t 2.543757 \t -0.906931 \n",
        "The value of the consistency parameter = 0.008183\n",
        "The VLE data is thermodynamically consistent\n"
       ]
      },
      {
       "output_type": "stream",
       "stream": "stderr",
       "text": [
        "WARNING: pylab import has clobbered these variables: ['f', 'draw_if_interactive', 'new_figure_manager', 'test']\n",
        "`%pylab --no-import-all` prevents importing * from pylab and numpy\n"
       ]
      },
      {
       "metadata": {},
       "output_type": "display_data",
       "png": "[encoded data removed]",
       "text": [
        "<matplotlib.figure.Figure at 0x39ce190>"
       ]
      }
     ],
     "prompt_number": 6
    },
    {
     "cell_type": "heading",
     "level": 3,
     "metadata": {},
     "source": [
      "Example 12.9  Page No : 464"
     ]
    },
    {
     "cell_type": "code",
     "collapsed": false,
     "input": [
      "from numpy import *\n",
      "from matplotlib.pyplot import *\n",
      "%matplotlib inline\n",
      "# Variables\n",
      "\n",
      "P = 760.\t\t\t                            #pressure of the system in Torr\n",
      "antoine_const_benzene = [6.87987,1196.760,219.161];\t\t\t #Antoine's constants for Benzene from Table A.7\n",
      "t = linspace(60,100,9);\t\t\t #temperature range in degree celsius\n",
      "\n",
      "P2_s = [149.40,187.58,233.71,289.13,355.21,433.51,525.84,634.00,760.00];\n",
      "x1 = linspace(0,1,6)\n",
      "\n",
      "# Calculations\n",
      "l = len(t)\n",
      "i = 0\n",
      "P1_s = zeros(l)\n",
      "P_tot =  zeros(l)\n",
      "\n",
      "while i<l:\n",
      "    P1_s[i] = 10**(antoine_const_benzene[0]-(antoine_const_benzene[1]/(t[i]+antoine_const_benzene[2])));\n",
      "    P_tot[i] = P1_s[i]+P2_s[i];\n",
      "    i = i+1;\n",
      "\n",
      "T = (((t[2]-t[1])*(760-P_tot[1]))/(P_tot[2]-P_tot[1]))+t[1]\n",
      "\n",
      "P1_s_three_phase = 10**(antoine_const_benzene[0]-(antoine_const_benzene[1]/(T+antoine_const_benzene[2])));\n",
      "P2_s_three_phase = 760-P1_s_three_phase;\n",
      "y1_three_phase = P1_s_three_phase/760\n",
      "\n",
      "trange1 = linspace(T,T+11,11)\n",
      "n = len(trange1)\n",
      "i = 0\n",
      "y1 = zeros(n)\n",
      "P1_s_calc = zeros(n)\n",
      "while i<n:\n",
      "    if i == 1:\n",
      "        y1[i] = y1_three_phase\n",
      "    else:\n",
      "         P1_s_calc[i] = 10**(antoine_const_benzene[0]-(antoine_const_benzene[1]/(trange1[i]+antoine_const_benzene[2])));\n",
      "         y1[i] = (P1_s_calc[i])/P\n",
      "    i = i+1;\n",
      "\n",
      "trange2 = [70,75,80,85,90,95,100]\n",
      "P2_s_range = [233.71,289.13,355.21,433.51,525.84,634.00,760.00]\n",
      "p = len(trange2);\t\t\t\n",
      "i = 0\n",
      "y_one = zeros(p)\n",
      "# Calculations of the vapour composition of benzene in the two phase region (L2+V) using Eq.(12.61) (no unit)\n",
      "y_one[i] = y1_three_phase;\n",
      "trange2[i] = T;\n",
      "i = i+1;\n",
      "\n",
      "while i<p:\n",
      "    y_one[i] = (P-P2_s_range[i])/P;\n",
      "    i = i+1;\n",
      "k=len(x1)    \n",
      "t_3phase = zeros(k)\n",
      "i = 0\n",
      "k = len(x1)\n",
      "while i<k:\n",
      "    t_3phase[i] = T\n",
      "    i = i+1;\n",
      "\n",
      "# Results\n",
      "plot(y1,trange1);\n",
      "plot(y_one,trange2);\n",
      "plot(x1,t_3phase);\n",
      "suptitle('t-x-y diagram for benzene-water sytem at 760 Torr')\n",
      "xlabel('x1,y1')\n",
      "ylabel('t (degree celsius)');\n",
      "q = len(t)\n",
      "i = 1;\t\t\n",
      "print ' Calculationss performed for determining the three phase equilibrium temperature';\n",
      "print 'tdegree celsius \\t P1_s Torr \\t P2_s Torr \\t P1_s+P2_s Torr ';\n",
      "for i in range(q):\n",
      "    print '%d \\t \\t \\t %.2f \\t %0.2f \\t %.2f '%(t[i],P1_s[i],P2_s[i],P_tot[i]);\n",
      "\n",
      "print 'The three phase equilibrium temperature = %0.2f degree celsius '%(T);\n",
      "print 'The vapour phase composition of benzene at the three phase equilibrium point = %0.4f '%(y1_three_phase);\n",
      "\n",
      "# Note: answer are slightly different because of rounding off error."
     ],
     "language": "python",
     "metadata": {},
     "outputs": [
      {
       "output_type": "stream",
       "stream": "stdout",
       "text": [
        "Populating the interactive namespace from numpy and matplotlib\n",
        " Calculationss performed for determining the three phase equilibrium temperature"
       ]
      },
      {
       "output_type": "stream",
       "stream": "stdout",
       "text": [
        "\n",
        "tdegree celsius \t P1_s Torr \t P2_s Torr \t P1_s+P2_s Torr \n",
        "60 \t \t \t 391.63 \t 149.40 \t 541.03 \n",
        "65 \t \t \t 465.92 \t 187.58 \t 653.50 \n",
        "70 \t \t \t 550.98 \t 233.71 \t 784.69 \n",
        "75 \t \t \t 647.87 \t 289.13 \t 937.00 \n",
        "80 \t \t \t 757.67 \t 355.21 \t 1112.88 \n",
        "85 \t \t \t 881.54 \t 433.51 \t 1315.05 \n",
        "90 \t \t \t 1020.65 \t 525.84 \t 1546.49 \n",
        "95 \t \t \t 1176.21 \t 634.00 \t 1810.21 \n",
        "100 \t \t \t 1349.47 \t 760.00 \t 2109.47 \n",
        "The three phase equilibrium temperature = 69.06 degree celsius \n",
        "The vapour phase composition of benzene at the three phase equilibrium point = 0.7028 \n"
       ]
      },
      {
       "output_type": "stream",
       "stream": "stderr",
       "text": [
        "WARNING: pylab import has clobbered these variables: ['draw_if_interactive']\n",
        "`%pylab --no-import-all` prevents importing * from pylab and numpy\n"
       ]
      },
      {
       "metadata": {},
       "output_type": "display_data",
       "png": "[encoded data removed]",
       "text": [
        "<matplotlib.figure.Figure at 0x39910d0>"
       ]
      }
     ],
     "prompt_number": 8
    }
   ],
   "metadata": {}
  }
 ]
}