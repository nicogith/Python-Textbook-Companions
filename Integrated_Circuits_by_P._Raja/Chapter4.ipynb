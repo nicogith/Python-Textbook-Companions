{
 "metadata": {
  "name": "",
  "signature": "sha256:a53e3521832583abe0335811dcafa98f6c34443e5174472fc5c852275ef11b44"
 },
 "nbformat": 3,
 "nbformat_minor": 0,
 "worksheets": [
  {
   "cells": [
    {
     "cell_type": "heading",
     "level": 1,
     "metadata": {},
     "source": [
      "Chapter04: Digital Integrated Circuit Design"
     ]
    },
    {
     "cell_type": "heading",
     "level": 2,
     "metadata": {},
     "source": [
      "Ex4.3:pg-230"
     ]
    },
    {
     "cell_type": "code",
     "collapsed": false,
     "input": [
      "#Ex 4.3\n",
      "\n",
      "VDD=3.0;#V(Supply Voltage)\n",
      "VOH=VDD;#V\n",
      "VOL=0.0;#V\n",
      "Vth=VDD/2;#V\n",
      "VIL=VDD/2;#V\n",
      "VIH=VDD/2;#V\n",
      "NMH=VOH-VIH;#V\n",
      "NML=VIL-VOL;#V\n",
      "print Vth,\"Vth(V)\"\n",
      "print VIL,\"VIL(V)\"\n",
      "print VIH,\"VIH(V)\"\n",
      "print VOL,\"VOL(V)\"\n",
      "print VOH,\"VOH(V)\"\n",
      "print NML,\"NML(V)\"\n",
      "print NMH,\"NMH(V)\"\n",
      "#Gain=(VOH-VOL)/(VIH-VIL)=infinity as VIH=VIL;#Gain in the transition region\n",
      "Gain=inf#\n",
      "print Gain,\"Gain in the transition region\"\n",
      "#Answer in the book is wrong for the gain.\n"
     ],
     "language": "python",
     "metadata": {},
     "outputs": [
      {
       "output_type": "stream",
       "stream": "stdout",
       "text": [
        "1.5 Vth(V)\n",
        "1.5 VIL(V)\n",
        "1.5 VIH(V)\n",
        "0.0 VOL(V)\n",
        "3.0 VOH(V)\n",
        "1.5 NML(V)\n",
        "1.5 NMH(V)\n",
        "inf Gain in the transition region\n"
       ]
      }
     ],
     "prompt_number": 2
    }
   ],
   "metadata": {}
  }
 ]
}