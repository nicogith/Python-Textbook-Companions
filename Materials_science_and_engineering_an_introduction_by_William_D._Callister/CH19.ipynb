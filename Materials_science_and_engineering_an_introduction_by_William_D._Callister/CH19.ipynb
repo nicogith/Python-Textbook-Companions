{
 "metadata": {
  "name": "CH19"
 },
 "nbformat": 3,
 "nbformat_minor": 0,
 "worksheets": [
  {
   "cells": [
    {
     "cell_type": "heading",
     "level": 1,
     "metadata": {},
     "source": [
      "Chapter 19: Thermal Properties"
     ]
    },
    {
     "cell_type": "heading",
     "level": 3,
     "metadata": {},
     "source": [
      "Example 19.1 Page No  733"
     ]
    },
    {
     "cell_type": "code",
     "collapsed": false,
     "input": [
      "\n",
      "To=20         # Room Temperature (degree celsius)\n",
      "sigma=-172    #Mpa  Compressive stress\n",
      "E=100*10**3   #Mpa Young's modulus\n",
      "a=20*10**-6   #Celsius**-1  Coefficient of thermal expansion\n",
      "\n",
      "Tf=To-(sigma/(E*a))\n",
      "\n",
      "print\"Final Temperature is \",Tf,\"C\"\n",
      "\n"
     ],
     "language": "python",
     "metadata": {},
     "outputs": [
      {
       "output_type": "stream",
       "stream": "stdout",
       "text": [
        "Final Temperature is  106.0 C\n"
       ]
      }
     ],
     "prompt_number": 2
    }
   ],
   "metadata": {}
  }
 ]
}