{
 "metadata": {
  "name": ""
 },
 "nbformat": 3,
 "nbformat_minor": 0,
 "worksheets": [
  {
   "cells": [
    {
     "cell_type": "heading",
     "level": 1,
     "metadata": {},
     "source": [
      "Chapter 14: Polymer Structure"
     ]
    },
    {
     "cell_type": "heading",
     "level": 3,
     "metadata": {},
     "source": [
      "Example 14.1 Page No 499"
     ]
    },
    {
     "cell_type": "code",
     "collapsed": false,
     "input": [
      "\n",
      "Mi1=7500          #g/mol , Molecular wt\n",
      "Mi2=12500     \n",
      "Mi3=17500\n",
      "Mi4=22500\n",
      "Mi5=27500\n",
      "Mi6=32500\n",
      "Mi7=37500\n",
      "xi1=0.05           #Number fraction\n",
      "xi2=0.16\n",
      "xi3=0.22\n",
      "xi4=0.27\n",
      "xi5=0.2\n",
      "xi6=0.08\n",
      "xi7=0.02\n",
      "\n",
      "xM1=Mi1*xi1\n",
      "xM2=Mi2*xi2\n",
      "xM3=Mi3*xi3\n",
      "xM4=Mi4*xi4\n",
      "xM5=Mi5*xi5\n",
      "xM6=Mi6*xi6\n",
      "xM7=Mi7*xi7\n",
      "xM=xM1+xM2+xM3+xM4+xM5+xM6+xM7\n",
      "\n",
      "nC=2          #no of carbon atoms in repeat unit\n",
      "nH=3          #no of hydrogen atoms in repeat unit\n",
      "nCl=1         #no of chlorine atoms in repeat unit\n",
      "MwC=12.01     #Molecular wt of carbon\n",
      "MwH=1.01       #Molecular wt of Hydogen\n",
      "MwCl=35.45     #Molecular wt of  chlorine\n",
      "m=nC*MwC+nH*MwH+nCl*MwCl     #Total wt for PVC\n",
      "DP=xM/m\n",
      "\n",
      "wi1=0.02           #weight fraction\n",
      "wi2=0.1\n",
      "wi3=0.18\n",
      "wi4=0.29\n",
      "wi5=0.26\n",
      "wi6=0.13\n",
      "wi7=0.02\n",
      "\n",
      "wM1=Mi1*wi1\n",
      "wM2=Mi2*wi2\n",
      "wM3=Mi3*wi3\n",
      "wM4=Mi4*wi4\n",
      "wM5=Mi5*wi5\n",
      "wM6=Mi6*wi6\n",
      "wM7=Mi7*wi7\n",
      "wM=wM1+wM2+wM3+wM4+wM5+wM6+wM7\n",
      "\n",
      "print\"(a)The no Av Molecular wt is\",xM,\"g/mol\"\n",
      "print\"(b)Degree of Polymerisation is\",round(DP,0)\n",
      "print\"(c)The weight  Av Molecular wt is\",wM,\"g/mol\"\n"
     ],
     "language": "python",
     "metadata": {},
     "outputs": [
      {
       "output_type": "stream",
       "stream": "stdout",
       "text": [
        "(a)The no Av Molecular wt is 21150.0 g/mol\n",
        "(b)Degree of Polymerisation is 338.0\n",
        "(c)The weight  Av Molecular wt is 23200.0 g/mol\n"
       ]
      }
     ],
     "prompt_number": 11
    },
    {
     "cell_type": "heading",
     "level": 3,
     "metadata": {},
     "source": [
      "Example 14.2 Page No 511"
     ]
    },
    {
     "cell_type": "code",
     "collapsed": false,
     "input": [
      "\n",
      "Ac=12.01       #in g/mol  Molecular weight of Carbon\n",
      "Ah=1.008       #in g/mol  molecular weight of hydrogen\n",
      "a=7.41*10**-8  #in cm\n",
      "b=4.94*10**-8  #in cm\n",
      "c=2.55*10**-8  #in cm\n",
      "Na=6.023*10**23\n",
      "\n",
      "Vc=a*b*c\n",
      "n=2\n",
      "A=(2*Ac)+(4*Ah)\n",
      "density_c=n*A/(Vc*Na)\n",
      "\n",
      "density_a=0.870  # in g/cm**3\n",
      "density_s=0.925  # in g/cm**3\n",
      "pc=density_c*(density_s-density_a)*100/(density_s*(density_c-density_a))\n",
      "\n",
      "print\"(a)Density is\",round(density_c,3),\"g/cm**3\"\n",
      "print\"(b)percentage crystallinity is\",round(pc,1),\"%\"\n",
      "\n"
     ],
     "language": "python",
     "metadata": {},
     "outputs": [
      {
       "output_type": "stream",
       "stream": "stdout",
       "text": [
        "(a)Density is 0.998 g/cm**3\n",
        "(b)percentage crystallinity is 46.4 %\n"
       ]
      }
     ],
     "prompt_number": 4
    },
    {
     "cell_type": "heading",
     "level": 3,
     "metadata": {},
     "source": [
      "Example 14.3 Page No 516"
     ]
    },
    {
     "cell_type": "code",
     "collapsed": false,
     "input": [
      "\n",
      "\n",
      "\n",
      "P1=400000.0       # in Pa  Pressure inside the bottle\n",
      "P2=400.0          # in Pa  Pressure outside the bottle\n",
      "Pm=0.23*10**-13  #Solubility Coefficient\n",
      "dx=0.05          # in cm Thickness of wall\n",
      "\n",
      "J=(-Pm*(P2-P1)/dx)\n",
      "\n",
      "A=500           #surface area of bottle in cm**2\n",
      "V_lose=750.0    #cm**3 STP\n",
      "V=J*A\n",
      "t=V_lose/round(V,5)\n",
      "\n",
      "print\"Diffusion flux is \",round(J,9),\"cm**3 STP/cm**2-s\"\n",
      "print\"Time to escape is \",round(t/(3600*24),1),\"days\"\n",
      "\n"
     ],
     "language": "python",
     "metadata": {},
     "outputs": [
      {
       "output_type": "stream",
       "stream": "stdout",
       "text": [
        "Diffusion flux is  1.84e-07 cm**3 STP/cm**2-s\n",
        "Time to escape is  96.5 days\n"
       ]
      }
     ],
     "prompt_number": 20
    },
    {
     "cell_type": "code",
     "collapsed": false,
     "input": [],
     "language": "python",
     "metadata": {},
     "outputs": []
    }
   ],
   "metadata": {}
  }
 ]
}