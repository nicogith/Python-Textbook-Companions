{
 "metadata": {
  "name": "CH20"
 },
 "nbformat": 3,
 "nbformat_minor": 0,
 "worksheets": [
  {
   "cells": [
    {
     "cell_type": "heading",
     "level": 1,
     "metadata": {},
     "source": [
      "Chapter 20 : Magnetic Properties"
     ]
    },
    {
     "cell_type": "heading",
     "level": 3,
     "metadata": {},
     "source": [
      "Example 20.1 Page No  84"
     ]
    },
    {
     "cell_type": "code",
     "collapsed": false,
     "input": [
      "\n",
      "b_m=9.27*10**-24   #ampere*m**2  (Bohr Magneton)\n",
      "Na=6.023*10**23    #atoms/mol  (Avogadro's No.)\n",
      "d=8.9*10**6        #g/m**3   (density)\n",
      "uo=4*math.pi*10**-7  #Permitivity of free space\n",
      "A=58.71             #g/mol  (Atomic weigth of Nickel)\n",
      "N=d*Na/A            #No. of atoms per cubic meter\n",
      "\n",
      "M=0.6*b_m*N  #0.6= Bohr Magneton/atom\n",
      "B=uo*M\n",
      "\n",
      "print\"Saturation Magnetisation is \",M,\"A/m\"\n",
      "print\"Saturation Flux Density is \",round(B,2),\"Tesla\"\n"
     ],
     "language": "python",
     "metadata": {},
     "outputs": [
      {
       "output_type": "stream",
       "stream": "stdout",
       "text": [
        "Saturation Magnetisation is  507834.0 A/m\n",
        "Saturation Flux Density is  0.64 Tesla\n"
       ]
      }
     ],
     "prompt_number": 2
    },
    {
     "cell_type": "heading",
     "level": 3,
     "metadata": {},
     "source": [
      "Example 20.2 Page No 88"
     ]
    },
    {
     "cell_type": "code",
     "collapsed": false,
     "input": [
      "\n",
      "a=0.839*10**-9   #a is edge length in m\n",
      "b_m=9.27*10**-24 #ampere*m**2  (Bohr Magneton)\n",
      "nb=8*4           #8 is no. of Fe++ ions per unit cell\n",
      "                 #4 is Bohr magnetons per Fe++ ion\n",
      "M=nb*b_m/a**3  #M is Saturation magnetisation\n",
      "\n",
      "print\"Saturation Magnetisation is \",round(M,0),\"A/m\"\n",
      "\n"
     ],
     "language": "python",
     "metadata": {},
     "outputs": [
      {
       "output_type": "stream",
       "stream": "stdout",
       "text": [
        "Saturation Magnetisation is  502278.0 A/m\n"
       ]
      }
     ],
     "prompt_number": 4
    },
    {
     "cell_type": "heading",
     "level": 3,
     "metadata": {},
     "source": [
      "Design Example 20.1 Page No 88"
     ]
    },
    {
     "cell_type": "code",
     "collapsed": false,
     "input": [
      "\n",
      "Ms_Fe=5.25*10**5   #Required saturation Magnetisation\n",
      "b_m=9.27*10**-24   #ampere*m**2  (Bohr Magneton)\n",
      "a=0.839*10**-9     #a is edge length in m\n",
      "M=5*10**5          #From previous question result\n",
      "\n",
      "nb=Ms_Fe*a**3/b_m\n",
      "i=8             # No of Divalent ions per unit cell\n",
      "j=4             #4 is Bohr magnetons per Mn++ ion\n",
      "n=nb/(i)-j \n",
      "         \n",
      "print\"Replacing percent of Fe++ with Mn++ would produce the required saturation magnetisation\",round(n*100,2)\n",
      "\n"
     ],
     "language": "python",
     "metadata": {},
     "outputs": [
      {
       "output_type": "stream",
       "stream": "stdout",
       "text": [
        "Replacing percent of Fe++ with Mn++ would produce the required saturation magnetisation 18.1\n"
       ]
      }
     ],
     "prompt_number": 8
    },
    {
     "cell_type": "code",
     "collapsed": false,
     "input": [],
     "language": "python",
     "metadata": {},
     "outputs": []
    }
   ],
   "metadata": {}
  }
 ]
}