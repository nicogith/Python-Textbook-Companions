{
 "metadata": {
  "name": "CH18"
 },
 "nbformat": 3,
 "nbformat_minor": 0,
 "worksheets": [
  {
   "cells": [
    {
     "cell_type": "heading",
     "level": 1,
     "metadata": {},
     "source": [
      "Chapter 18 : Electrical Properties"
     ]
    },
    {
     "cell_type": "heading",
     "level": 3,
     "metadata": {},
     "source": [
      "Example 18.1 Page No 682"
     ]
    },
    {
     "cell_type": "code",
     "collapsed": false,
     "input": [
      "\n",
      "sigma=10**-6   # (Ohm-m)**-1  Electrical Conductivity\n",
      "e=1.6*10**-19  #Coulomb Charge on electron\n",
      "m_e=0.85       # m**2/V-s  Mobility of electron\n",
      "m_h=0.04       # m**2/V-s  Mobility of holes\n",
      "\n",
      "ni=sigma/(e*(m_e+m_h))\n",
      "\n",
      "print\"Intrinsic Carrier Concentration is\",round(ni,-11),\"m**-3\"\n",
      "\n"
     ],
     "language": "python",
     "metadata": {},
     "outputs": [
      {
       "output_type": "stream",
       "stream": "stdout",
       "text": [
        "Intrinsic Carrier Concentration is 7e+12 m**-3\n"
       ]
      }
     ],
     "prompt_number": 4
    },
    {
     "cell_type": "heading",
     "level": 3,
     "metadata": {},
     "source": [
      "Example 18.2 Page No  689"
     ]
    },
    {
     "cell_type": "code",
     "collapsed": false,
     "input": [
      "\n",
      "e=1.6*10**-19    #Coulomb Charge on electron\n",
      "ni=4*10**19      #For Si at 423 K   (m**-3)\n",
      "m_e=0.06        #m**2/V-s  Mobility of electron\n",
      "m_h=0.022       #m**2/V-s  Mobility of holes\n",
      "\n",
      "sigma=ni*e*(m_e+m_h)\n",
      "\n",
      "print\"Electrical Conductivity is \",round(sigma,2),\"(ohm-m)**-1\"\n",
      "\n"
     ],
     "language": "python",
     "metadata": {},
     "outputs": [
      {
       "output_type": "stream",
       "stream": "stdout",
       "text": [
        "Electrical Conductivity is  0.52 (ohm-m)**-1\n"
       ]
      }
     ],
     "prompt_number": 8
    },
    {
     "cell_type": "heading",
     "level": 3,
     "metadata": {},
     "source": [
      "Example 18.3 Page No 690"
     ]
    },
    {
     "cell_type": "code",
     "collapsed": false,
     "input": [
      "\n",
      "n=10**23 #m**-3  Carrier Concentration\n",
      "e=1.6*10**-19  #Coulomb  Charge on electron\n",
      "m_e=0.07  #m**2/V-s  Mobility of electron\n",
      "\n",
      "sigma=n*e*m_e\n",
      "\n",
      "\n",
      "m_e2=0.04  #m**2/V-s  Mobility of electron\n",
      "sigma2=n*e*m_e2\n",
      "\n",
      "print\"Conductivity at n=10**23 is \",sigma,\"(Ohm-m)**-1\"\n",
      "print\"Conductivity at T=373 K becomes \",sigma2,\"(Ohm-m)**-1\"\n",
      "\n"
     ],
     "language": "python",
     "metadata": {},
     "outputs": [
      {
       "output_type": "stream",
       "stream": "stdout",
       "text": [
        "Conductivity at n=10**23 is  1120.0 (Ohm-m)**-1\n",
        "Conductivity at T=373 K becomes  640.0 (Ohm-m)**-1\n"
       ]
      }
     ],
     "prompt_number": 9
    },
    {
     "cell_type": "heading",
     "level": 3,
     "metadata": {},
     "source": [
      "Design Example 18.1, Page No:  691"
     ]
    },
    {
     "cell_type": "code",
     "collapsed": false,
     "input": [
      "\n",
      "c=50           #ohm**-1, room temprature conductivity\n",
      "Na1=10**22      #m**-3, assumed impurity content value\n",
      "mu1=0.04        #m**2/Vs, assumed electrical mobility\n",
      "e=1.6*10**-19  #Electronic charge\n",
      "NA=6.023*10**23     #Avagadro no\n",
      "\n",
      "C=Na1*e*mu1    #Conductivity\n",
      "Na2=10**21      #m**-3, \n",
      "mu2=0.045       #m**2/Vs,\n",
      "C=Na2*e*mu2\n",
      "Na=8*10**21 \n",
      "rho=2.33       # g/cm**3\n",
      "Asi=28.09      # g/mole\n",
      "Nsi=(NA*rho*10**6)/(Asi)\n",
      "Ca=(Na/(Na+Nsi))*100\n",
      "\n",
      "print\"The concentration of acceptor impurities is\",round(Ca,7)\n",
      "print\"Thus a Silicon material having conductivity 50 ohm**-1  \\nmust contain\",round(Ca,7),\"% boron,aluminium,Gallium or indium .\"\n"
     ],
     "language": "python",
     "metadata": {},
     "outputs": [
      {
       "output_type": "stream",
       "stream": "stdout",
       "text": [
        "The concentration of acceptor impurities is 1.6e-05\n",
        "Thus a Silicon material having conductivity 50 ohm**-1  \n",
        "must contain 1.6e-05 % boron,aluminium,Gallium or indium \n"
       ]
      }
     ],
     "prompt_number": 8
    },
    {
     "cell_type": "heading",
     "level": 3,
     "metadata": {},
     "source": [
      "Example 18.4 Page No 693"
     ]
    },
    {
     "cell_type": "code",
     "collapsed": false,
     "input": [
      "\n",
      "sigma=3.8*10**7  #(Ohm-m)**-1  Electrical Conductivity\n",
      "m_e=0.0012       #m**2/V-s  Mobility of electron\n",
      "Rh=-m_e/sigma    #Hall coefficient\n",
      "Ix=25            #Ampere(A) Current\n",
      "d=15*10**-3      #m Thickness\n",
      "Bz=0.6           #Tesla  Magnetic field\n",
      "\n",
      "Vh=Rh*Ix*Bz/d\n",
      "\n",
      "print\"Hall coefficient is \",round(Rh,13),\"V-m/A-Tesla\"\n",
      "print\"Hall Voltage is \",round(Vh,10),\"V\"\n",
      "\n"
     ],
     "language": "python",
     "metadata": {},
     "outputs": [
      {
       "output_type": "stream",
       "stream": "stdout",
       "text": [
        "Hall coefficient is  -3.16e-11 V-m/A-Tesla\n",
        "Hall Voltage is  -3.16e-08 V\n"
       ]
      }
     ],
     "prompt_number": 13
    },
    {
     "cell_type": "heading",
     "level": 3,
     "metadata": {},
     "source": [
      "Example 18.5 Page No 707"
     ]
    },
    {
     "cell_type": "code",
     "collapsed": false,
     "input": [
      "\n",
      "A=6.45*10**-4    #m**2, area\n",
      "d=2*10**-3       #m. Plate separation\n",
      "V=10             #V Potential\n",
      "Er=6             #Dielectric constant\n",
      "Eo=8.85*10**-12  #F/m  Constant dielectric constant\n",
      "E=Er*Eo\n",
      "C=E*A/d\n",
      "Q=C*V\n",
      "D=E*V/d\n",
      "P=D-Eo*V/d\n",
      "\n",
      "print\"The Capacitance is\",round(C,13),\"F\"\n",
      "print\"The magnitude of charge stored is \",round(Q,12),\"C\"\n",
      "print\"The Dielectric displacement is is\",round(D,9),\"C/m**2\"\n",
      "print\"The Polarization is\",round(P,9),\"C/m**2\"\n"
     ],
     "language": "python",
     "metadata": {},
     "outputs": [
      {
       "output_type": "stream",
       "stream": "stdout",
       "text": [
        "The Capacitance is 1.71e-11 F\n",
        "The magnitude of charge stored is  1.71e-10 C\n",
        "The Dielectric displacement is is 2.65e-07 C/m**2\n",
        "The Polarization is 2.21e-07 C/m**2\n"
       ]
      }
     ],
     "prompt_number": 15
    },
    {
     "cell_type": "code",
     "collapsed": false,
     "input": [],
     "language": "python",
     "metadata": {},
     "outputs": []
    }
   ],
   "metadata": {}
  }
 ]
}