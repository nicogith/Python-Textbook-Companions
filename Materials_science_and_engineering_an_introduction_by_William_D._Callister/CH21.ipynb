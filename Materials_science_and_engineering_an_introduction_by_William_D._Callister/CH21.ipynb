{
 "metadata": {
  "name": "CH21"
 },
 "nbformat": 3,
 "nbformat_minor": 0,
 "worksheets": [
  {
   "cells": [
    {
     "cell_type": "heading",
     "level": 1,
     "metadata": {},
     "source": [
      "Chapter 21: Optical Properties"
     ]
    },
    {
     "cell_type": "heading",
     "level": 3,
     "metadata": {},
     "source": [
      "Example 21.1 Page No 125"
     ]
    },
    {
     "cell_type": "code",
     "collapsed": false,
     "input": [
      "\n",
      "x=200\n",
      "f=0.98  #f=It/Io\n",
      "\n",
      "b=-math.log(f)/x\n",
      "\n",
      "print\"Absorption coefficient is \",round(b,4),\"mm**-1\"\n",
      "\n"
     ],
     "language": "python",
     "metadata": {},
     "outputs": [
      {
       "output_type": "stream",
       "stream": "stdout",
       "text": [
        "Absorption coefficient is  0.0001 mm**-1\n"
       ]
      }
     ],
     "prompt_number": 2
    }
   ],
   "metadata": {}
  }
 ]
}