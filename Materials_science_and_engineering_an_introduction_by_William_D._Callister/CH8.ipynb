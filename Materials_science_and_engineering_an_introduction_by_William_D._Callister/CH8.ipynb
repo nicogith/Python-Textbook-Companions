{
 "metadata": {
  "name": "CH8"
 },
 "nbformat": 3,
 "nbformat_minor": 0,
 "worksheets": [
  {
   "cells": [
    {
     "cell_type": "heading",
     "level": 1,
     "metadata": {},
     "source": [
      "Chapter 8: Failure"
     ]
    },
    {
     "cell_type": "heading",
     "level": 3,
     "metadata": {},
     "source": [
      "Example 8.1 Page no 217"
     ]
    },
    {
     "cell_type": "code",
     "collapsed": false,
     "input": [
      "\n",
      "sigma=40*10**6    # in Pa  Tensile stress\n",
      "E=69*10**9        #Modulus of elaticity  in pa\n",
      "Ys=0.3            #Specific surface energy  in N/m**2\n",
      "\n",
      "a=2*E*Ys/(math.pi*sigma**2)\n",
      "\n",
      "print\"Maximum lemgth of a surface flaw without fracture is \",round(a*10**6,1),\"micro m\"\n",
      "\n"
     ],
     "language": "python",
     "metadata": {},
     "outputs": [
      {
       "output_type": "stream",
       "stream": "stdout",
       "text": [
        "Maximum lemgth of a surface flaw without fracture is  8.2 micro m\n"
       ]
      }
     ],
     "prompt_number": 3
    },
    {
     "cell_type": "heading",
     "level": 3,
     "metadata": {},
     "source": [
      "Design Example 8.2 Page no 242"
     ]
    },
    {
     "cell_type": "code",
     "collapsed": false,
     "input": [
      "\n",
      "T=800.0+273.0      # Temperature in K\n",
      "\n",
      "import math\n",
      "L_M=24*10**3\n",
      "t=math.pow(10,(L_M/T)-20)\n",
      "    \n",
      "print\"Time to rupture is \",round(t,0),\"h\"\n",
      "\n"
     ],
     "language": "python",
     "metadata": {},
     "outputs": [
      {
       "output_type": "stream",
       "stream": "stdout",
       "text": [
        "Time to rupture is  233.0 h\n"
       ]
      }
     ],
     "prompt_number": 16
    },
    {
     "cell_type": "code",
     "collapsed": false,
     "input": [],
     "language": "python",
     "metadata": {},
     "outputs": []
    }
   ],
   "metadata": {}
  }
 ]
}