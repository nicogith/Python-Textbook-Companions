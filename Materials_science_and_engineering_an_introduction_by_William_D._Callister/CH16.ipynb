{
 "metadata": {
  "name": "CH16"
 },
 "nbformat": 3,
 "nbformat_minor": 0,
 "worksheets": [
  {
   "cells": [
    {
     "cell_type": "heading",
     "level": 1,
     "metadata": {},
     "source": [
      "Chapter 16: Composites"
     ]
    },
    {
     "cell_type": "heading",
     "level": 3,
     "metadata": {},
     "source": [
      "Example 16.1 Page No 589"
     ]
    },
    {
     "cell_type": "code",
     "collapsed": false,
     "input": [
      "\n",
      "E_gf=69.0     # in GPa  Elasticity of glass fibre\n",
      "mf_gf=0.4     #Vol % of glass fibre\n",
      "E_pr=3.4      # in GPa  Elasticity of poyester resin\n",
      "mf_pr=0.6     #Vol % of polyester resin\n",
      "\n",
      "E_cl=(E_pr*mf_pr)+(E_gf*mf_gf)\n",
      "Ac=250.0         #mm**2\n",
      "sigma=50.0       #MPa\n",
      "ratio=(E_gf*mf_gf)/(E_pr*mf_pr)    # ratio=Ff/Fm\n",
      "Fc=Ac*sigma    #N\n",
      "Fm=Fc/(ratio+1)\n",
      "Ff=Fc-Fm\n",
      "Am=mf_pr*Ac\n",
      "Af=mf_gf*Ac\n",
      "sigma_m=Fm/Am\n",
      "sigma_f=Ff/Af\n",
      "e_m=sigma_m/(E_pr*10**3)  #Strain for matrix phase\n",
      "e_f=sigma_f/(E_gf*10**3)  #Strain for fiber phase\n",
      "\n",
      "print\"(a)Modulus of elasticity of composite is \",round(E_cl,0),\"GPa\"\n",
      "print\"(b)Load carried by each of fiber and matrix phase is \",round(Ff,0),\"N\"\n",
      "print\"(c)Strain for matrix phase is \",round(e_m,4)\n",
      "print\"   Strain for fiber phase is \",round(e_f,4)\n",
      "\n"
     ],
     "language": "python",
     "metadata": {},
     "outputs": [
      {
       "output_type": "stream",
       "stream": "stdout",
       "text": [
        "(a)Modulus of elasticity of composite is  30.0 GPa\n",
        "(b)Load carried by each of fiber and matrix phase is  11640.0 N\n",
        "(c)Strain for matrix phase is  0.0017\n",
        "   Strain for fiber phase is  0.0017\n"
       ]
      }
     ],
     "prompt_number": 15
    },
    {
     "cell_type": "heading",
     "level": 3,
     "metadata": {},
     "source": [
      "Example 16.2 Page No 591"
     ]
    },
    {
     "cell_type": "code",
     "collapsed": false,
     "input": [
      "\n",
      "E_gf=69      # in GPa  Elasticity of glass fibre\n",
      "mf_gf=0.4    #Vol % of glass fibre\n",
      "E_pr=3.4     # in GPa  Elasticity of poyester resin\n",
      "mf_pr=0.6    #Vol % of polyester resin\n",
      "\n",
      "E_ct=E_pr*E_gf/((E_pr*mf_gf)+(E_gf*mf_pr))  #GPa\n",
      "\n",
      "print\"In transverse direction, modulus of elaticity is \",round(E_ct,1),\"GPa\"\n",
      "\n"
     ],
     "language": "python",
     "metadata": {},
     "outputs": [
      {
       "output_type": "stream",
       "stream": "stdout",
       "text": [
        "In transverse direction, modulus of elaticity is  5.5 GPa\n"
       ]
      }
     ],
     "prompt_number": 7
    },
    {
     "cell_type": "heading",
     "level": 3,
     "metadata": {},
     "source": [
      "Design Example 16.1 ,Page No :601"
     ]
    },
    {
     "cell_type": "code",
     "collapsed": false,
     "input": [
      "\n",
      "Do=70*10**-3        #mm, outside diameter\n",
      "Di=50*10**-3        #mm, inside diameter\n",
      "L=1                 #m Length\n",
      "F=1000              #N load\n",
      "dy=0.35*10**-3      #mm, deflection\n",
      "\n",
      "E=(4*F*L**3)/(3*math.pi*dy*(Do**4-Di**4))\n",
      "Vc=(math.pi*L*(Do**2-Di**2))/4.0\n",
      "\n",
      "print\"(a)longitudinal modulus of elasticity is\",round(E/10**9,1),\"GPa\"\n",
      "print\"(b)The total tube volume is\",round(Vc*10**6,0),\"cm**3\"\n"
     ],
     "language": "python",
     "metadata": {},
     "outputs": [
      {
       "output_type": "stream",
       "stream": "stdout",
       "text": [
        "(a)longitudinal modulus of elasticity is 68.3 GPa\n",
        "(b)The total tube volume is 1885.0 cm**3\n"
       ]
      }
     ],
     "prompt_number": 10
    },
    {
     "cell_type": "code",
     "collapsed": false,
     "input": [],
     "language": "python",
     "metadata": {},
     "outputs": []
    }
   ],
   "metadata": {}
  }
 ]
}