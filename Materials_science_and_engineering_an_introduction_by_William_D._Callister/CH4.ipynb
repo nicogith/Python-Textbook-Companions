{
 "metadata": {
  "name": "CH4"
 },
 "nbformat": 3,
 "nbformat_minor": 0,
 "worksheets": [
  {
   "cells": [
    {
     "cell_type": "heading",
     "level": 1,
     "metadata": {},
     "source": [
      "Chapter 4:Imperfections in solids"
     ]
    },
    {
     "cell_type": "heading",
     "level": 3,
     "metadata": {},
     "source": [
      "Example 4.1 Page No: 82"
     ]
    },
    {
     "cell_type": "code",
     "collapsed": false,
     "input": [
      "\n",
      "Na=6.023*10**23      #Avogadro No.\n",
      "den=8.4*10**6        #Density of Copper\n",
      "A=63.5              #Atomic weight of Copper\n",
      "\n",
      "N=Na*den/A\n",
      "Qv=0.9                 #Activation energy in eV\n",
      "k=8.62*10**-5          # Boltzmann Constatnt in eV/K\n",
      "T=1000.0+273.0         #Temperature in K\n",
      "Nv=N*exp(-Qv/(k*T))\n",
      "\n",
      "print\"No.of vacancies are \",round(Nv,-24),\"/m**3\"\n",
      "\n"
     ],
     "language": "python",
     "metadata": {},
     "outputs": [
      {
       "output_type": "stream",
       "stream": "stdout",
       "text": [
        "No.of vacancies are  2.2e+25 /m**3\n"
       ]
      }
     ],
     "prompt_number": 13
    },
    {
     "cell_type": "heading",
     "level": 3,
     "metadata": {},
     "source": [
      "Example 4.3 Page No: 88"
     ]
    },
    {
     "cell_type": "code",
     "collapsed": false,
     "input": [
      "\n",
      "C_Al=97.0       #Aluminium wt%\n",
      "C_Cu=3.0        #Copper wt%\n",
      "A_Al=26.98      #Atomic wt of Aluminium\n",
      "A_Cu=63.55      #Atomic wt of Copper\n",
      "\n",
      "CAl=(C_Al*A_Cu)/(C_Al*A_Cu+C_Cu*A_Al)\n",
      "CCu=(C_Cu*A_Al)/(C_Al*A_Cu+C_Cu*A_Al)\n",
      "\n",
      "print\"Atomic % of Al is \",round(CAl*100,1),\"%\"\n",
      "print\"Atomic % of Cu is \",round(CCu*100,1),\"%\"\n",
      "\n"
     ],
     "language": "python",
     "metadata": {},
     "outputs": [
      {
       "output_type": "stream",
       "stream": "stdout",
       "text": [
        "Atomic % of Al is  98.7 %\n",
        "Atomic % of Cu is  1.3 %\n"
       ]
      }
     ],
     "prompt_number": 9
    },
    {
     "cell_type": "heading",
     "level": 3,
     "metadata": {},
     "source": [
      "Example 4.4 Page No: 103"
     ]
    },
    {
     "cell_type": "code",
     "collapsed": false,
     "input": [
      "\n",
      "N=45.0           #No. of grains per square inch\n",
      "\n",
      "n=(math.log(N)/math.log(2))+1\n",
      "\n",
      "M=85.0\n",
      "Nm=(100/M)**2*2**(n-1)\n",
      "\n",
      "print\"Grain size no. is \",round(n,1)\n",
      "print\"No. of grains per inch square are \",round(Nm,1)\n",
      "\n"
     ],
     "language": "python",
     "metadata": {},
     "outputs": [
      {
       "output_type": "stream",
       "stream": "stdout",
       "text": [
        "Grain size no. is  6.5\n",
        "No. of grains per inch square are  62.3\n"
       ]
      }
     ],
     "prompt_number": 12
    },
    {
     "cell_type": "code",
     "collapsed": false,
     "input": [],
     "language": "python",
     "metadata": {},
     "outputs": []
    }
   ],
   "metadata": {}
  }
 ]
}