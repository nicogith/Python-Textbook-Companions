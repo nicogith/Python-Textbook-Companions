{
 "metadata": {
  "name": ""
 },
 "nbformat": 3,
 "nbformat_minor": 0,
 "worksheets": [
  {
   "cells": [
    {
     "cell_type": "heading",
     "level": 1,
     "metadata": {},
     "source": [
      "Chapter 10 :Phase Transformation In Metals"
     ]
    },
    {
     "cell_type": "heading",
     "level": 3,
     "metadata": {},
     "source": [
      "Example 10.1 Page no 318"
     ]
    },
    {
     "cell_type": "code",
     "collapsed": false,
     "input": [
      "\n",
      "Hf=-1.16*10**9     # in J/m**3  latent heat of fusion\n",
      "Y=0.132            # in J/m**2  Surface energy\n",
      "Tm=1064.0+273.0        # in K  Melting point of gold\n",
      "\n",
      "import math\n",
      "T=Tm-230.0           # in K  230 is supercooling value\n",
      "r=-2*Y*Tm/(Hf*(Tm-T))\n",
      "G=16*math.pi*Y**3*Tm**2/(3*Hf**2*(Tm-T)**2)\n",
      "\n",
      "a=0.413*10**-9  # in m  Unit Cell edge length\n",
      "u_c=4*math.pi*r**3/(3*a**3)\n",
      "n=4            #In FCC . no of atoms in per unit cell\n",
      "U_c=int(u_c)*n\n",
      "\n",
      "print\"(a)Critical Radius is \",round(r/10**-9,2),\"nm\"\n",
      "print\"Activation free energy is \",round(G,21),\"J\"\n",
      "print\"(b)Total no. of atoms per critical nucleus are \",U_c\n",
      "\n"
     ],
     "language": "python",
     "metadata": {},
     "outputs": [
      {
       "output_type": "stream",
       "stream": "stdout",
       "text": [
        "(a)Critical Radius is  1.32 nm\n",
        "Activation free energy is  9.68e-19 J\n",
        "(b)Total no. of atoms per critical nucleus are  548\n"
       ]
      }
     ],
     "prompt_number": 11
    },
    {
     "cell_type": "heading",
     "level": 3,
     "metadata": {},
     "source": [
      "Example 10.2 Page no 335"
     ]
    },
    {
     "cell_type": "code",
     "collapsed": false,
     "input": [
      "\n",
      "n=5.0\n",
      "y=0.3\n",
      "t=100.0          #in min\n",
      "\n",
      "k=-math.log(1-y)/t**n\n",
      "thalf=(-math.log(1-0.5)/k)**(1/n)\n",
      "rate=1/thalf\n",
      "\n",
      "print\"Rate is \",rate,\"min**-1\"\n",
      "\n"
     ],
     "language": "python",
     "metadata": {},
     "outputs": [
      {
       "output_type": "stream",
       "stream": "stdout",
       "text": [
        "Rate is  0.00875567087531 min**-1\n"
       ]
      }
     ],
     "prompt_number": 13
    },
    {
     "cell_type": "code",
     "collapsed": false,
     "input": [],
     "language": "python",
     "metadata": {},
     "outputs": []
    }
   ],
   "metadata": {}
  }
 ]
}