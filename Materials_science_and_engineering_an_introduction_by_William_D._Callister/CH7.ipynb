{
 "metadata": {
  "name": "CH7"
 },
 "nbformat": 3,
 "nbformat_minor": 0,
 "worksheets": [
  {
   "cells": [
    {
     "cell_type": "heading",
     "level": 1,
     "metadata": {},
     "source": [
      "Chapter 7: Dislocation and Strengthening Mechanisms"
     ]
    },
    {
     "cell_type": "heading",
     "level": 3,
     "metadata": {},
     "source": [
      "Example 7.1 Page no 183"
     ]
    },
    {
     "cell_type": "code",
     "collapsed": false,
     "input": [
      "\n",
      "u1=1\n",
      "v1=1\n",
      "w1=0\n",
      "u2=0\n",
      "v2=1\n",
      "w2=0\n",
      "u3=-1\n",
      "v3=1\n",
      "w3=1\n",
      "\n",
      "import math\n",
      "phi=math.acos((u1*u2+v1*v2+w1*w2)/(math.sqrt((u1**2+v1**2+w1**2)*(u2**2+v2**2+w2**2))))\n",
      "lam=math.acos((u3*u2+v3*v2+w3*w2)/(math.sqrt((u3**2+v3**2+w3**2)*(u2**2+v2**2+w2**2))))\n",
      "sigma=52       #in MPa, Tensile stress\n",
      "tr=sigma*math.cos(phi)*math.cos(lam)\n",
      "trc=30         #in MPa Critical resolved shear stress\n",
      "sy=trc/(math.cos(phi)*math.cos(lam))\n",
      "\n",
      "print\"(a)The resolved shear stress is \",round(tr,2),\"MPa\"\n",
      "print\"(b)Yield strength is\",round(sy,1),\"MPa\"\n",
      "\n"
     ],
     "language": "python",
     "metadata": {},
     "outputs": [
      {
       "output_type": "stream",
       "stream": "stdout",
       "text": [
        "(a)The resolved shear stress is  21.23 MPa\n",
        "(b)Yield strength is 73.5 MPa\n"
       ]
      }
     ],
     "prompt_number": 19
    },
    {
     "cell_type": "heading",
     "level": 3,
     "metadata": {},
     "source": [
      "Example 7.2 Page no 194"
     ]
    },
    {
     "cell_type": "code",
     "collapsed": false,
     "input": [
      "\n",
      "df=12.2  #Final dia in mm\n",
      "di=15.2  #Initial dia in mm\n",
      "\n",
      "CW = ((di**2-df**2)/di**2)*100\n",
      "ts=340  #in Mpa  tensile strength, from fig 7.19 (b)\n",
      "duc=7   #in %  Ductility from fig 7.19 (c)\n",
      "\n",
      "print\"Percent Cold Work is \",round(CW,1),\"%\"\n",
      "print\"Tensile strength is\",ts,\"MPa\"\n",
      "print\"Ductility is \",duc,\"%\"\n",
      "\n"
     ],
     "language": "python",
     "metadata": {},
     "outputs": [
      {
       "output_type": "stream",
       "stream": "stdout",
       "text": [
        "Percent Cold Work is  35.6 %\n",
        "Tensile strength is 340 MPa\n",
        "Ductility is  7 %\n"
       ]
      }
     ],
     "prompt_number": 6
    },
    {
     "cell_type": "heading",
     "level": 3,
     "metadata": {},
     "source": [
      "Design Example 7.3 Page no 199"
     ]
    },
    {
     "cell_type": "code",
     "collapsed": false,
     "input": [
      "\n",
      "di=6.4  #Initial dia in mm\n",
      "df=5.1  #Final dia in mm\n",
      "\n",
      "CW = ((di**2-df**2)/di**2)*100\n",
      "dmid = math.sqrt(df**2/(1-0.215))\n",
      "\n",
      "print\"Cold work is \",round(CW,1),\"%\"\n",
      "print\"But required ductility and yield strength is not matched at this cold work\"\n",
      "print\"Hence required Cold work is 21.5 %\"\n",
      "print\"Hence original diameter for second drawing is \",round(dmid,1),\"mm\"\n",
      "\n"
     ],
     "language": "python",
     "metadata": {},
     "outputs": [
      {
       "output_type": "stream",
       "stream": "stdout",
       "text": [
        "Cold work is  36.5 %\n",
        "But required ductility and yield strength is not matched at this cold work\n",
        "Hence required Cold work is 21.5 %\n",
        "Hence original diameter for second drawing is  5.8 mm\n"
       ]
      }
     ],
     "prompt_number": 11
    },
    {
     "cell_type": "code",
     "collapsed": false,
     "input": [],
     "language": "python",
     "metadata": {},
     "outputs": []
    }
   ],
   "metadata": {}
  }
 ]
}