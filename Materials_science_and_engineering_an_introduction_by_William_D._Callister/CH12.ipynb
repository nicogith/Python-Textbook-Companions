{
 "metadata": {
  "name": "CH12"
 },
 "nbformat": 3,
 "nbformat_minor": 0,
 "worksheets": [
  {
   "cells": [
    {
     "cell_type": "heading",
     "level": 1,
     "metadata": {},
     "source": [
      "Chapter 12: Structure and Properties of Ceramics"
     ]
    },
    {
     "cell_type": "heading",
     "level": 3,
     "metadata": {},
     "source": [
      "Example 12.1 Page no 418"
     ]
    },
    {
     "cell_type": "code",
     "collapsed": false,
     "input": [
      "\n",
      "a=30\n",
      "\n",
      "import math\n",
      "ratio=(1-math.cos(a*math.pi/180.0))/math.cos(a*math.pi/180.0)\n",
      "\n",
      "print\"Cation to anion raio is \",round(ratio,3)\n",
      "\n"
     ],
     "language": "python",
     "metadata": {},
     "outputs": [
      {
       "output_type": "stream",
       "stream": "stdout",
       "text": [
        "Cation to anion raio is  0.155\n"
       ]
      }
     ],
     "prompt_number": 5
    },
    {
     "cell_type": "heading",
     "level": 3,
     "metadata": {},
     "source": [
      "Example 12.2 Page no 423"
     ]
    },
    {
     "cell_type": "code",
     "collapsed": false,
     "input": [
      "\n",
      "r_Fe=0.077  # in nm Radius of iron cation Fe++\n",
      "r_O=0.140  #in nm  Radius of Oxygen anion O--\n",
      "\n",
      "ratio=r_Fe/r_O\n",
      "\n",
      "print\"Ratio is \",ratio\n",
      "if 0.414<ratio<0.732:  \n",
      "    print\"Co-ordinaton no. is 6\"\n",
      "    print\"Structure is Rock Salt type\"\n",
      "else:\n",
      "    print \"Coordination no is not 6\"\n",
      "    \n"
     ],
     "language": "python",
     "metadata": {},
     "outputs": [
      {
       "output_type": "stream",
       "stream": "stdout",
       "text": [
        "Ratio is  0.55\n",
        "Co-ordinaton no. is 6\n",
        "Structure is Rock Salt type\n"
       ]
      }
     ],
     "prompt_number": 16
    },
    {
     "cell_type": "heading",
     "level": 3,
     "metadata": {},
     "source": [
      "Example 12.3 Page no 424"
     ]
    },
    {
     "cell_type": "code",
     "collapsed": false,
     "input": [
      "\n",
      "A_Na=22.99         # in g/mol\n",
      "A_Cl=35.45          #in g/mol\n",
      "r_Na=0.102*10**-7  #in cm Radius of Na+ ion\n",
      "r_Cl=0.181*10**-7  #in cm Radius of Cl- ion\n",
      "Na=6.023*10**23  #Avogadro number\n",
      "\n",
      "a=2*(r_Na+r_Cl)\n",
      "V=a**3\n",
      "n=4                 #For FCC, no. of atoms are 4 per crystal\n",
      "density=n*(A_Na+A_Cl)/(V*Na)\n",
      "\n",
      "print\"Density is \",round(density,2),\"gm/cm**3\"\n",
      "\n"
     ],
     "language": "python",
     "metadata": {},
     "outputs": [
      {
       "output_type": "stream",
       "stream": "stdout",
       "text": [
        "Density is  2.14 gm/cm**3\n"
       ]
      }
     ],
     "prompt_number": 18
    },
    {
     "cell_type": "heading",
     "level": 3,
     "metadata": {},
     "source": [
      "Example 12.4 Page no 436"
     ]
    },
    {
     "cell_type": "code",
     "collapsed": false,
     "input": [
      "\n",
      "Na=6.023*10**23   #Avogadro number\n",
      "density=1.955     #in g/cm**3\n",
      "A_K=39.1          #in g/mol\n",
      "A_Cl=35.45        #in g/mol\n",
      "\n",
      "import math\n",
      "N=Na*density*10**6/(A_K+A_Cl)\n",
      "Qs=2.6           # in eV\n",
      "k=8.62*10**-5    # in eV/K  Boltzmann Constant\n",
      "T=500.0+273.0        # in K\n",
      "Ns=N*math.exp(-Qs/(2*k*T))\n",
      "\n",
      "print\"No. of Schottky Defects are \",round(Ns,-17),\"/m**3\"\n",
      "\n"
     ],
     "language": "python",
     "metadata": {},
     "outputs": [
      {
       "output_type": "stream",
       "stream": "stdout",
       "text": [
        "No. of Schottky Defects are  5.31e+19 /m**3\n"
       ]
      }
     ],
     "prompt_number": 26
    },
    {
     "cell_type": "code",
     "collapsed": false,
     "input": [],
     "language": "python",
     "metadata": {},
     "outputs": []
    }
   ],
   "metadata": {}
  }
 ]
}