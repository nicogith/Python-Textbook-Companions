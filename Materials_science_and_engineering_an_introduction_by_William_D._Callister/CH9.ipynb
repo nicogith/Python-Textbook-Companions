{
 "metadata": {
  "name": "CH9"
 },
 "nbformat": 3,
 "nbformat_minor": 0,
 "worksheets": [
  {
   "cells": [
    {
     "cell_type": "heading",
     "level": 1,
     "metadata": {},
     "source": [
      "Chapter 9: Phase Diagram"
     ]
    },
    {
     "cell_type": "heading",
     "level": 3,
     "metadata": {},
     "source": [
      "Example 9.3 Page No  273"
     ]
    },
    {
     "cell_type": "code",
     "collapsed": false,
     "input": [
      "\n",
      "C1=40.0    # Overall alloy composition\n",
      "Cb=98.0\n",
      "Ca=10.0\n",
      "\n",
      "Wa=(Cb-C1)/(Cb-Ca)\n",
      "Wb=(C1-Ca)/(Cb-Ca)\n",
      "d_Sn=7.24        # in g/cm**3  density of tin\n",
      "d_Pb=11.23       # in g/cm**3  density of lead\n",
      "Ca_Sn=10.0\n",
      "Ca_Pb=90.0\n",
      "Cb_Sn=98.0\n",
      "Cb_Pb=2.0\n",
      "d_a=100/((Ca_Sn/d_Sn)+(Ca_Pb/d_Pb))\n",
      "d_b=100/((Cb_Sn/d_Sn)+(Cb_Pb/d_Pb))\n",
      "Va=Wa/(d_a*((Wa/d_a)+(Wb/d_b)))\n",
      "Vb=Wb/(d_b*((Wa/d_a)+(Wb/d_b)))\n",
      "\n",
      "\n",
      "print\"Mass fractions for alpha and beta phases are  respectively\",round(Wa,2),\"and\",round(Wb,2)\n",
      "print\"Density of alpha phase is  \",round(d_a,2),\"g/cm**3\"\n",
      "print\"Density of beta phase is   \",round(d_b,2),\"g/cm**3\"\n",
      "print\"Volume fraction of alpha phase \",round(Va,2),\"g/cm**3\"\n",
      "print\"Volume fraction of beta phase  \",round(Vb,2)\n",
      "\n"
     ],
     "language": "python",
     "metadata": {},
     "outputs": [
      {
       "output_type": "stream",
       "stream": "stdout",
       "text": [
        "Mass fractions for alpha and beta phases are  respectively 0.66 and 0.34\n",
        "Density of alpha phase is   10.64 g/cm**3\n",
        "Density of beta phase is    7.29 g/cm**3\n",
        "Volume fraction of alpha phase  0.57 g/cm**3\n",
        "Volume fraction of beta phase   0.43\n"
       ]
      }
     ],
     "prompt_number": 7
    },
    {
     "cell_type": "heading",
     "level": 3,
     "metadata": {},
     "source": [
      "Example 9.4 Page No 299"
     ]
    },
    {
     "cell_type": "code",
     "collapsed": false,
     "input": [
      "\n",
      "C0=0.35\n",
      "Ca=0.022\n",
      "C_Fe3C=6.7\n",
      "\n",
      "Wa=(C_Fe3C-C0)/(C_Fe3C-Ca)\n",
      "W_Fe3C=(C0-Ca)/(C_Fe3C-Ca)\n",
      "C_p=0.76\n",
      "Wp=(C0-Ca)/(C_p-Ca)\n",
      "W_a=(C_p-C0)/(C_p-Ca)\n",
      "Wp=(C0-Ca)/(C_p-Ca)\n",
      "W_a=(C_p-C0)/(C_p-Ca)\n",
      "Wa=(C_Fe3C-C0)/(C_Fe3C-Ca)\n",
      "Wae=Wa-W_a\n",
      "\n",
      "print\"Mass fraction of total ferritic phase is\",round(Wa,2)\n",
      "print\"Mass fraction of Fe3C is\",round(W_Fe3C,2)\n",
      "print\"Mass fraction of Pearlite is\",round(Wp,2)\n",
      "print\"ass fraction of proeutectoid ferrite is\",round(W_a,2)\n",
      "print\"Mass fraction of eutectoid ferrite is\",round(Wae,2)\n",
      "\n",
      "\n"
     ],
     "language": "python",
     "metadata": {},
     "outputs": [
      {
       "output_type": "stream",
       "stream": "stdout",
       "text": [
        "Mass fraction of total ferritic phase is 0.95\n",
        "Mass fraction of Fe3C is 0.05\n",
        "Mass fraction of Pearlite is 0.44\n",
        "ass fraction of proeutectoid ferrite is 0.56\n",
        "Mass fraction of eutectoid ferrite is 0.4\n"
       ]
      }
     ],
     "prompt_number": 10
    },
    {
     "cell_type": "code",
     "collapsed": false,
     "input": [],
     "language": "python",
     "metadata": {},
     "outputs": []
    }
   ],
   "metadata": {}
  }
 ]
}