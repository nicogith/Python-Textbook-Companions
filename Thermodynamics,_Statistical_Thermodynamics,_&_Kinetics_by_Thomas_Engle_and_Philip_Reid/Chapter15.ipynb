{
 "cells": [
  {
   "cell_type": "markdown",
   "metadata": {},
   "source": [
    "# Chapter 15: Statistical Thermodyanamics"
   ]
  },
  {
   "cell_type": "markdown",
   "metadata": {},
   "source": [
    "## Ex15.2:pg-374"
   ]
  },
  {
   "cell_type": "code",
   "execution_count": 2,
   "metadata": {
    "collapsed": false
   },
   "outputs": [
    {
     "name": "stdout",
     "output_type": "stream",
     "text": [
      "For Internal energy to be 1000.0 J temperature will be 449.0 K\n"
     ]
    }
   ],
   "source": [
    "from math import log\n",
    "\n",
    "#Variable Declaration\n",
    "U = 1.00e3            #Total internal energy, J\n",
    "hnu = 1.00e-20        #Energy level separation, J\n",
    "NA = 6.022e23         #Avagadro's Number, 1/mol\n",
    "k = 1.38e-23          #Boltzmann constant, J/K\n",
    "n = 1                 #Number of moles, mol\n",
    "\n",
    "#Calcualtions\n",
    "T = hnu/(k*log(n*NA*hnu/U-1.))\n",
    "\n",
    "#Results\n",
    "print 'For Internal energy to be %4.1f J temperature will be %4.1f K'%(U,T)"
   ]
  },
  {
   "cell_type": "markdown",
   "metadata": {},
   "source": [
    "## Ex15.3:pg-378"
   ]
  },
  {
   "cell_type": "code",
   "execution_count": 1,
   "metadata": {
    "collapsed": false
   },
   "outputs": [
    {
     "name": "stdout",
     "output_type": "stream",
     "text": [
      "Energy of excited state is 1.57e-19 J\n",
      "Electronic partition function qE is 3.000e+00\n",
      "Electronic contribution to internal enrgy is 3.921e-06 J\n"
     ]
    }
   ],
   "source": [
    "from math import exp\n",
    "\n",
    "#Variable Declaration\n",
    "g0 = 3.0              #Ground State partition function\n",
    "labda = 1263e-9       #Wave length in nm\n",
    "T = 500.              #Temperature, K\n",
    "c = 3.00e8            #Speed of light, m/s\n",
    "NA = 6.022e23         #Avagadro's Number, 1/mol\n",
    "k = 1.38e-23          #Boltzmann constant, J/K\n",
    "n = 1.0               #Number of moles, mol\n",
    "h = 6.626e-34         #Planks's Constant, J.s\n",
    "\n",
    "#Calcualtions\n",
    "beta = 1./(k*T)\n",
    "eps = h*c/labda\n",
    "qE = g0 + exp(-beta*eps)\n",
    "UE = n*NA*eps*exp(-beta*eps)/qE\n",
    "\n",
    "#Results\n",
    "print 'Energy of excited state is %4.2e J'%eps\n",
    "print 'Electronic partition function qE is %4.3e'%qE\n",
    "print 'Electronic contribution to internal enrgy is %4.3e J'%UE"
   ]
  },
  {
   "cell_type": "markdown",
   "metadata": {},
   "source": [
    "## Ex15.5:pg-387"
   ]
  },
  {
   "cell_type": "code",
   "execution_count": 8,
   "metadata": {
    "collapsed": false
   },
   "outputs": [
    {
     "name": "stdout",
     "output_type": "stream",
     "text": [
      "Thermal wave lengths for Ne is 2.25e-11 m3\n",
      "Std. Molar entropy for Ne is 145.46 J/(mol.K)\n",
      "Thermal wave lengths for Kr is 1.11e-11 m3\n",
      "Std. Molar entropy for Kr is 163.18 J/(mol.K)\n"
     ]
    }
   ],
   "source": [
    "from math import log, pi, sqrt\n",
    "\n",
    "#Variable Declaration\n",
    "Mne = 0.0201797       #Molecular wt of ne, kg/mol     \n",
    "Mkr = 0.0837980       #Molecular wt of kr, kg/mol\n",
    "Vmne = 0.0224         #Std. state molar volume of ne, m3\n",
    "Vmkr = 0.0223         #Std. state molar volume of kr, m3\n",
    "h = 6.626e-34         #Planks's Constant, J.s\n",
    "NA = 6.022e23         #Avagadro's Number, 1/mol\n",
    "k = 1.38e-23          #Boltzmann constant, J/K\n",
    "T = 298               #Std. state temeprature,K \n",
    "R = 8.314             #Ideal gas constant, J/(mol.K)\n",
    "n = 1.0               #Number of mole, mol\n",
    "\n",
    "#Calcualtions\n",
    "mne = Mne/NA\n",
    "mkr = Mkr/NA\n",
    "Labdane = sqrt(h**2/(2*pi*mne*k*T))\n",
    "Labdakr = sqrt(h**2/(2*pi*mkr*k*T))\n",
    "Sne = 5.*R/2 + R*log(Vmne/Labdane**3)-R*log(NA)\n",
    "Skr = 5.*R/2 + R*log(Vmkr/Labdakr**3)-R*log(NA)\n",
    "\n",
    "#Results\n",
    "print 'Thermal wave lengths for Ne is %4.2e m3'%Labdane\n",
    "print 'Std. Molar entropy for Ne is %4.2f J/(mol.K)'%Sne\n",
    "print 'Thermal wave lengths for Kr is %4.2e m3'%Labdakr\n",
    "print 'Std. Molar entropy for Kr is %4.2f J/(mol.K)'%Skr"
   ]
  },
  {
   "cell_type": "markdown",
   "metadata": {},
   "source": [
    "## Ex15.8:pg-392"
   ]
  },
  {
   "cell_type": "code",
   "execution_count": 39,
   "metadata": {
    "collapsed": false
   },
   "outputs": [
    {
     "name": "stdout",
     "output_type": "stream",
     "text": [
      "Thermal wave lengths for Ne is 4.09e-33 m3\n",
      "The Gibbs energy for 1 mol of Ar is -39.97 kJ\n"
     ]
    }
   ],
   "source": [
    "from math import log, pi\n",
    "\n",
    "#Variable Declaration\n",
    "M = 0.040             #Moleculat wt of Ar, kg/mol\n",
    "h = 6.626e-34         #Planks's Constant, J.s\n",
    "NA = 6.022e23         #Avagadro's Number, 1/mol\n",
    "k = 1.38e-23          #Boltzmann constant, J/K\n",
    "T = 298.15            #Std. state temeprature,K \n",
    "P = 1e5               #Std. state pressure, Pa\n",
    "R = 8.314             #Ideal gas constant, J/(mol.K)\n",
    "n = 1.0               #Number of mole, mol\n",
    "\n",
    "#Calcualtions\n",
    "m = M/NA\n",
    "Labda3 = (h**2/(2*pi*m*k*T))**(3./2)\n",
    "G0 = -n*R*T*log(k*T/(P*Labda3))\n",
    "\n",
    "#Results\n",
    "print 'Thermal wave lengths for Ne is %4.2e m3'%Labda3\n",
    "print 'The Gibbs energy for 1 mol of Ar is %6.2f kJ'%(G0/1000)"
   ]
  }
 ],
 "metadata": {
  "kernelspec": {
   "display_name": "Python 2",
   "language": "python",
   "name": "python2"
  },
  "language_info": {
   "codemirror_mode": {
    "name": "ipython",
    "version": 2
   },
   "file_extension": ".py",
   "mimetype": "text/x-python",
   "name": "python",
   "nbconvert_exporter": "python",
   "pygments_lexer": "ipython2",
   "version": "2.7.11"
  }
 },
 "nbformat": 4,
 "nbformat_minor": 0
}
