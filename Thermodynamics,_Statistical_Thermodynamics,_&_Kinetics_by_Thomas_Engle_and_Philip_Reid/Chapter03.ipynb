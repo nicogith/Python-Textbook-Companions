{
 "cells": [
  {
   "cell_type": "markdown",
   "metadata": {},
   "source": [
    "# Chapter 3: Importance of State Functions: Internal Energy and Enthalpy"
   ]
  },
  {
   "cell_type": "markdown",
   "metadata": {},
   "source": [
    "## Ex3.2:pg-49"
   ]
  },
  {
   "cell_type": "code",
   "execution_count": 1,
   "metadata": {
    "collapsed": false
   },
   "outputs": [
    {
     "name": "stdout",
     "output_type": "stream",
     "text": [
      "Pressure increase in capillary 100.0 bar\n"
     ]
    }
   ],
   "source": [
    "from math import log\n",
    "\n",
    "betaOH = 11.2e-4           #Thermal  exapnasion coefficient of ethanol, °C\n",
    "betagl = 2.00e-5           #Thermal  exapnasion coefficient of glass, °C\n",
    "kOH = 11.0e-5              #Isothermal compressibility of ethanol, /bar\n",
    "dT = 10.0                  #Increase in Temperature, °C\n",
    "\n",
    "#Calcualtions\n",
    "vfbyvi = (1+ betagl*dT)\n",
    "dP = betaOH*dT/kOH-(1./kOH)*log(vfbyvi)\n",
    "\n",
    "#Results\n",
    "print 'Pressure increase in capillary %4.1f bar'%dP"
   ]
  },
  {
   "cell_type": "markdown",
   "metadata": {},
   "source": [
    "## Ex3.4:pg-53"
   ]
  },
  {
   "cell_type": "code",
   "execution_count": 2,
   "metadata": {
    "collapsed": false
   },
   "outputs": [
    {
     "name": "stdout",
     "output_type": "stream",
     "text": [
      "Minimum detectable temperature change of gas +- 6.0 °C\n"
     ]
    }
   ],
   "source": [
    "import math\n",
    "cpsubysy = 1000           #Specific heat ration of surrounding and system\n",
    "Tpreci = 0.006             #Precision in Temperature measurement, °C\n",
    "\n",
    "#Calcualtions\n",
    "dtgas = -cpsubysy*(-Tpreci)\n",
    "\n",
    "#Results\n",
    "print 'Minimum detectable temperature change of gas +-%4.1f °C'%dtgas"
   ]
  },
  {
   "cell_type": "markdown",
   "metadata": {},
   "source": [
    "## Ex3.6:pg-54"
   ]
  },
  {
   "cell_type": "code",
   "execution_count": 3,
   "metadata": {
    "collapsed": false
   },
   "outputs": [
    {
     "name": "stdout",
     "output_type": "stream",
     "text": [
      "dUT = 24.4 J: This is wrongly reported in book\n",
      "dUV = 4174.1 J\n"
     ]
    }
   ],
   "source": [
    "from sympy import symbols, integrate\n",
    "\n",
    "\n",
    "n = 1.0           #number of mole of N2, mol     \n",
    "Ti = 200.0        #Intial Temperature, K\n",
    "Pi = 5.00         #Initial pressure, bar\n",
    "Tf = 400.0        #Intial Temperature, K\n",
    "Pf = 20.0         #Initial pressure, bar\n",
    "a = 0.137         #van der Waals constant a, Pa.m3/(mol2)\n",
    "b = 3.87e-5       #van der Waals constant b, m3/(mol)\n",
    "A, B, C, D = 22.5, -1.187e-2,2.3968e-5, -1.0176e-8\n",
    "                  #Constants in Cvm equation J, K and mol\n",
    "vi = 3.28e-3      #initial volume, m3/mol\n",
    "vf = 7.88e-3      #Final volume, m3/mol\n",
    "\n",
    "#Calculations\n",
    "T = symbols('T')\n",
    "dUT = n**2*a*(1./vi-1./vf)\n",
    "dUV = integrate( A + B*T + C*T**2 + D*T**3, (T,Ti,Tf))\n",
    "\n",
    "#Results\n",
    "print 'dUT = %4.1f J: This is wrongly reported in book'%dUT\n",
    "print 'dUV = %4.1f J'%dUV"
   ]
  },
  {
   "cell_type": "markdown",
   "metadata": {},
   "source": [
    "## Ex3.7:pg-57"
   ]
  },
  {
   "cell_type": "code",
   "execution_count": 4,
   "metadata": {
    "collapsed": false
   },
   "outputs": [
    {
     "name": "stdout",
     "output_type": "stream",
     "text": [
      "dH =   46.8 kJ\n",
      "qp =   30.8 kJ\n",
      "Error in calculations 34.3\n"
     ]
    }
   ],
   "source": [
    "from sympy import symbols, integrate\n",
    "\n",
    "import math\n",
    "m = 143.0         #Mass of graphite, g     \n",
    "Ti = 300.0        #Intial Temperature, K\n",
    "Tf = 600.0        #Intial Temperature, K\n",
    "A, B, C, D, E = -12.19,0.1126,-1.947e-4,1.919e-7,-7.8e-11\n",
    "                  #Constants in Cvm equation J, K and mol\n",
    "M = 12.01\n",
    "\n",
    "#Calculations\n",
    "\n",
    "T = symbols('T')\n",
    "dH = (m/M)*integrate( A + B*T + C*T**2 + D*T**3 + E*T**4, (T,Ti,Tf))\n",
    "expr = A + B*T + C*T**2 + D*T**3 + E*T**4\n",
    "cpm = expr.subs(T,300.)\n",
    "qp = (m/M)*cpm*(Tf-Ti)\n",
    "err = abs(dH-qp)/dH\n",
    "#Results\n",
    "print 'dH = %6.1f kJ'%(dH/1000)\n",
    "print 'qp = %6.1f kJ'%(qp/1000)\n",
    "print 'Error in calculations %4.1f'%(err*100)"
   ]
  },
  {
   "cell_type": "markdown",
   "metadata": {},
   "source": [
    "## Ex3.9:pg-59"
   ]
  },
  {
   "cell_type": "code",
   "execution_count": 5,
   "metadata": {
    "collapsed": false
   },
   "outputs": [
    {
     "name": "stdout",
     "output_type": "stream",
     "text": [
      "Enthalpy change for change in state of methanol is 39.9 kJ\n"
     ]
    }
   ],
   "source": [
    "import math\n",
    "m = 124.0         #Mass of liquid methanol, g\n",
    "Pi = 1.0          #Initial Pressure, bar\n",
    "Ti = 298.0        #Intial Temperature, K\n",
    "Pf = 2.5          #Final Pressure, bar\n",
    "Tf = 425.0        #Intial Temperature, K\n",
    "rho = 0.791       #Density, g/cc\n",
    "Cpm = 81.1        #Specifi heat, J/(K.mol)\n",
    "M = 32.04\n",
    "\n",
    "#Calculations\n",
    "n = m/M\n",
    "DH = n*Cpm*(Tf-Ti)+ m*(Pf-Pi)*1e-6/rho\n",
    "\n",
    "#Results\n",
    "print 'Enthalpy change for change in state of methanol is %4.1f kJ'%(DH/1000)"
   ]
  }
 ],
 "metadata": {
  "kernelspec": {
   "display_name": "Python 2",
   "language": "python",
   "name": "python2"
  },
  "language_info": {
   "codemirror_mode": {
    "name": "ipython",
    "version": 2
   },
   "file_extension": ".py",
   "mimetype": "text/x-python",
   "name": "python",
   "nbconvert_exporter": "python",
   "pygments_lexer": "ipython2",
   "version": "2.7.11"
  }
 },
 "nbformat": 4,
 "nbformat_minor": 0
}
