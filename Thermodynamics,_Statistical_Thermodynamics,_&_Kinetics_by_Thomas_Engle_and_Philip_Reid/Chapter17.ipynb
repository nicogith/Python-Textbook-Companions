{
 "cells": [
  {
   "cell_type": "markdown",
   "metadata": {},
   "source": [
    "# Chapter 17: Transport Phenomena"
   ]
  },
  {
   "cell_type": "markdown",
   "metadata": {},
   "source": [
    "## Ex17.1:pg-427"
   ]
  },
  {
   "cell_type": "code",
   "execution_count": 1,
   "metadata": {
    "collapsed": false
   },
   "outputs": [
    {
     "name": "stdout",
     "output_type": "stream",
     "text": [
      "Diffusion coefficient of Argon 1.1e-05 m2/s\n"
     ]
    }
   ],
   "source": [
    "from scipy import constants\n",
    "from math import sqrt,pi\n",
    "\n",
    "#Variable Declaration\n",
    "M = 0.040                  #Molecualar wt of Argon, kh/mol\n",
    "P, T = 101325.0, 298.0     #Pressure and Temperature, Pa, K\n",
    "sigm = 3.6e-19  #\n",
    "R = 8.314                  #Molar Gas constant,  mol^-1 K^-1\n",
    "N_A = 6.02214129e+23       #mol^-1\n",
    "#Calculations\n",
    "DAr = (1./3)*sqrt(8*R*T/(pi*M))*(R*T/(P*N_A*sqrt(2)*sigm))\n",
    "\n",
    "#Results\n",
    "print 'Diffusion coefficient of Argon %3.1e m2/s'%DAr"
   ]
  },
  {
   "cell_type": "markdown",
   "metadata": {},
   "source": [
    "## Ex17.2:pg-428"
   ]
  },
  {
   "cell_type": "code",
   "execution_count": 2,
   "metadata": {
    "collapsed": false
   },
   "outputs": [
    {
     "name": "stdout",
     "output_type": "stream",
     "text": [
      "Ratio of collision cross sections of Helium to Argon 0.790\n"
     ]
    }
   ],
   "source": [
    "from math import sqrt\n",
    "\n",
    "#Variable Declaration\n",
    "DHebyAr = 4.0 \n",
    "MAr, MHe = 39.9, 4.0       #Molecualar wt of Argon and Neon, kg/mol\n",
    "P, T = 101325.0, 298.0     #Pressure and Temperature, Pa, K\n",
    "sigm = 3.6e-19  #\n",
    "R = 8.314                  #Molar Gas constant,  mol^-1 K^-1\n",
    "N_A = 6.02214129e+23       #mol^-1\n",
    "#Calculations\n",
    "sigHebyAr = (1./DHebyAr)*sqrt(MAr/MHe)\n",
    "\n",
    "#Results\n",
    "print 'Ratio of collision cross sections of Helium to Argon %4.3f'%sigHebyAr"
   ]
  },
  {
   "cell_type": "markdown",
   "metadata": {},
   "source": [
    "## Ex17.3:pg-430"
   ]
  },
  {
   "cell_type": "code",
   "execution_count": 3,
   "metadata": {
    "collapsed": false
   },
   "outputs": [
    {
     "name": "stdout",
     "output_type": "stream",
     "text": [
      "rms displacement at 1000 and 10000 is  0.141 and 0.447 m respectively\n"
     ]
    }
   ],
   "source": [
    "from math import sqrt\n",
    "\n",
    "#Variable Declaration\n",
    "D = 1.0e-5                 #Diffusion coefficient, m2/s \n",
    "t1 = 1000                  #Time, s\n",
    "t10 = 10000                #Time, s\n",
    "\n",
    "#Calculations\n",
    "xrms1 = sqrt(2*D*t1)\n",
    "xrms10 = sqrt(2*D*t10)\n",
    "\n",
    "#Results\n",
    "print 'rms displacement at %4d and %4d is  %4.3f and %4.3f m respectively'%(t1,t10,xrms1,xrms10)"
   ]
  },
  {
   "cell_type": "markdown",
   "metadata": {},
   "source": [
    "## Ex17.4:pg-432"
   ]
  },
  {
   "cell_type": "code",
   "execution_count": 4,
   "metadata": {
    "collapsed": false
   },
   "outputs": [
    {
     "name": "stdout",
     "output_type": "stream",
     "text": [
      "Time per random walk is 2.045e-11 s or 20.45 ps\n"
     ]
    }
   ],
   "source": [
    "#Variable Declaration\n",
    "import math\n",
    "D = 2.2e-5                 #Diffusion coefficient of benzene, cm2/s \n",
    "x0 = 0.3                   #molecular diameter of benzene, nm\n",
    "\n",
    "#Calculations\n",
    "t = (x0*1e-9)**2/(2*D*1e-4)\n",
    "\n",
    "#Results\n",
    "print 'Time per random walk is %4.3e s or %4.2f ps'%(t,t/1e-12)"
   ]
  },
  {
   "cell_type": "markdown",
   "metadata": {},
   "source": [
    "## Ex17.5:pg-434"
   ]
  },
  {
   "cell_type": "code",
   "execution_count": 5,
   "metadata": {
    "collapsed": false
   },
   "outputs": [
    {
     "name": "stdout",
     "output_type": "stream",
     "text": [
      "Mean free path 2.627e-07 m and collisional cross section 1.10e-19 m2\n"
     ]
    }
   ],
   "source": [
    "from math import sqrt,pi\n",
    "\n",
    "#Variable Declaration\n",
    "P = 101325                  #Pressure, Pa\n",
    "kt = 0.0177                 #Thermal conductivity, J/(K.m.s)\n",
    "T = 300.0                   #Temperature, K\n",
    "k = 1.3806488e-23           #Boltzmanconstant,J K^-1\n",
    "sigm = 3.6e-19  #\n",
    "R = 8.314                  #Molar Gas constant,  mol^-1 K^-1\n",
    "NA = 6.02214129e+23        #mol^-1\n",
    "M = 39.9                   #Molecualar wt of Argon and Neon, kg/mol\n",
    "\n",
    "#Calculations\n",
    "CvmbyNA = 3.*k/2\n",
    "nuavg = sqrt(8*R*T/(pi*M*1e-3))\n",
    "N = NA*P/(R*T)\n",
    "labda = 3*kt/(CvmbyNA*nuavg*N)\n",
    "sigm = 1/(sqrt(2)*N*labda)\n",
    "\n",
    "#Results\n",
    "print 'Mean free path %4.3e m and collisional cross section %4.2e m2'%(labda, sigm)"
   ]
  },
  {
   "cell_type": "markdown",
   "metadata": {},
   "source": [
    "## Ex17.6:pg-437"
   ]
  },
  {
   "cell_type": "code",
   "execution_count": 6,
   "metadata": {
    "collapsed": false
   },
   "outputs": [
    {
     "name": "stdout",
     "output_type": "stream",
     "text": [
      "Collisional cross section 2.74e-19 m2\n"
     ]
    }
   ],
   "source": [
    "from math import sqrt,pi\n",
    "\n",
    "#Variable Declaration\n",
    "eta = 227.                  #Viscosity of Ar, muP\n",
    "P = 101325                  #Pressure, Pa\n",
    "kt = 0.0177                 #Thermal conductivity, J/(K.m.s)\n",
    "T = 300.0                   #Temperature, K\n",
    "k = 1.3806488e-23           #Boltzmanconstant,J K^-1\n",
    "R = 8.314                   #Molar Gas constant,  mol^-1 K^-1\n",
    "NA = 6.02214129e+23         #mol^-1\n",
    "M = 39.9                    #Molecualar wt of Argon and Neon, kg/mol\n",
    "\n",
    "#Calculations\n",
    "nuavg = sqrt(8*R*T/(pi*M*1e-3))\n",
    "N = NA*P/(R*T)\n",
    "m = M*1e-3/NA\n",
    "labda = 3.*eta*1e-7/(nuavg*N*m)          #viscosity in kg m s units\n",
    "sigm = 1./(sqrt(2)*N*labda)\n",
    "\n",
    "#Results\n",
    "print 'Collisional cross section %4.2e m2'%(sigm)"
   ]
  },
  {
   "cell_type": "markdown",
   "metadata": {},
   "source": [
    "## Ex17.7:pg-439"
   ]
  },
  {
   "cell_type": "code",
   "execution_count": 7,
   "metadata": {
    "collapsed": false
   },
   "outputs": [
    {
     "name": "stdout",
     "output_type": "stream",
     "text": [
      "Flow rate is 2.762e-06 m3/s\n",
      "Cylinder can be used for 4.381e+06 s nearly 50.7 days\n"
     ]
    }
   ],
   "source": [
    "from math import sqrt,pi\n",
    "\n",
    "#Variable Declaration\n",
    "m = 22.7                    #Mass of CO2, kg\n",
    "T = 293.0                   #Temperature, K\n",
    "L = 1.0                     #length of the tube, m\n",
    "d = 0.75                    #Diameter of the tube, mm\n",
    "eta = 146                   #Viscosity of CO2, muP\n",
    "p1 = 1.05                   #Inlet pressure, atm\n",
    "p2 = 1.00                   #Outlet pressure, atm\n",
    "atm2pa = 101325             #Conversion for pressure from atm to Pa \n",
    "M = 0.044                   #Molecular wt of CO2, kg/mol\n",
    "R = 8.314                   #Molar Gas constant,  J mol^-1 K^-1\n",
    "\n",
    "#Calculations\n",
    "p1 = p1*atm2pa\n",
    "p2 = p2*atm2pa\n",
    "F = pi*(d*1e-3/2)**4*(p1**2-p2**2)/(16.*eta/1.e7*L*p2)\n",
    "nCO2 = m/M\n",
    "v = nCO2*R*T/((p1+p2)/2)\n",
    "t = v/F\n",
    "\n",
    "#Results\n",
    "print 'Flow rate is %4.3e m3/s'%(F)\n",
    "print 'Cylinder can be used for %4.3e s nearly %3.1f days'%(t, t/(24*3600))"
   ]
  },
  {
   "cell_type": "markdown",
   "metadata": {},
   "source": [
    "## Ex17.8:pg-441"
   ]
  },
  {
   "cell_type": "code",
   "execution_count": 8,
   "metadata": {
    "collapsed": false
   },
   "outputs": [
    {
     "name": "stdout",
     "output_type": "stream",
     "text": [
      "Radius of protein is 3.550 nm\n"
     ]
    }
   ],
   "source": [
    "from math import sqrt,pi\n",
    "\n",
    "#Variable Declaration\n",
    "eta = 0.891                 #Viscosity of hemoglobin in water, cP\n",
    "T = 298.0                   #Temperature, K\n",
    "k = 1.3806488e-23           #Boltzmanconstant,J K^-1\n",
    "R = 8.314                   #Molar Gas constant,  mol^-1 K^-1\n",
    "D = 6.9e-11                 #Diffusion coefficient, m2/s \n",
    "\n",
    "#Calculations\n",
    "r = k*T/(6*pi*eta*1e-3*D)\n",
    "\n",
    "#Results\n",
    "print 'Radius of protein is %4.3f nm'%(r/1e-9)"
   ]
  },
  {
   "cell_type": "markdown",
   "metadata": {},
   "source": [
    "## Ex17.9:pg-442"
   ]
  },
  {
   "cell_type": "code",
   "execution_count": 9,
   "metadata": {
    "collapsed": false
   },
   "outputs": [
    {
     "name": "stdout",
     "output_type": "stream",
     "text": [
      "Radius of Lysozyme particle is 1.937 nm\n"
     ]
    }
   ],
   "source": [
    "from math import sqrt,pi\n",
    "\n",
    "#Variable Declaration\n",
    "s = 1.91e-13                #Sedimentation constant, s\n",
    "NA = 6.02214129e+23         #mol^-1\n",
    "M = 14100.0                 #Molecualr wt of lysozyme, g/mol\n",
    "rho = 0.998                 #Density of water, kg/m3\n",
    "eta = 1.002                 #Viscosity lysozyme in water, cP\n",
    "T = 293.15                  #Temperature, K\n",
    "vbar = 0.703                #Specific volume of cm3/g\n",
    "\n",
    "#Calculations\n",
    "m = M/NA\n",
    "f = m*(1.-vbar*rho)/s\n",
    "r = f/(6*pi*eta)\n",
    "\n",
    "#Results\n",
    "print 'Radius of Lysozyme particle is %4.3f nm'%(r/1e-9)"
   ]
  },
  {
   "cell_type": "markdown",
   "metadata": {},
   "source": [
    "## Ex17.10:pg-443"
   ]
  },
  {
   "cell_type": "code",
   "execution_count": 12,
   "metadata": {
    "collapsed": false
   },
   "outputs": [
    {
     "data": {
      "image/png": "[encoded data removed]",
      "text/plain": [
       "<matplotlib.figure.Figure at 0x9adf8d0>"
      ]
     },
     "metadata": {},
     "output_type": "display_data"
    },
    {
     "name": "stdout",
     "output_type": "stream",
     "text": [
      "Slope is 3.78e-04 1/min or 6.299e-06 1/s \n",
      "Sedimentation factor is 1.899e-13 s\n"
     ]
    }
   ],
   "source": [
    "from numpy import arange,array,ones,linalg,log, exp, size\n",
    "from matplotlib.pylab import plot,show,xlabel,ylabel\n",
    "import math\n",
    "%matplotlib inline\n",
    "\n",
    "#Variable Declaration\n",
    "t = array([0.0,30.0,60.0,90.0,120.0,150.0])       #Time, min\n",
    "xb = array([6.00,6.07,6.14,6.21,6.28,6.35])       #Location of boundary layer, cm\n",
    "rpm = 55000.                                      #RPM of centrifuge \n",
    "\n",
    "#Calculations\n",
    "nx = xb/xb[0]\n",
    "lnx = log(nx)\n",
    "A = array([ t, ones(size(t))])\n",
    "# linearly generated sequence\n",
    "[slope, intercept] = linalg.lstsq(A.T,lnx)[0] # obtaining the parameters\n",
    "# Use w[0] and w[1] for your calculations and give good structure to this ipython notebook\n",
    "# plotting the line\n",
    "line = slope*t+intercept # regression line\n",
    "\n",
    "#Results\n",
    "plot(t,line,'-',t,lnx,'o')\n",
    "xlabel('$ Time, min $')\n",
    "ylabel('$ \\log(x_b/x_{b0}) $')\n",
    "show()\n",
    "sbar = (slope/60)/(rpm*2*pi/60)**2\n",
    "print 'Slope is %6.2e 1/min or %4.3e 1/s '%(slope, slope/60)\n",
    "print 'Sedimentation factor is %4.3e s'%(sbar)"
   ]
  },
  {
   "cell_type": "markdown",
   "metadata": {},
   "source": [
    "## Ex17.11:pg-449"
   ]
  },
  {
   "cell_type": "code",
   "execution_count": 13,
   "metadata": {
    "collapsed": false
   },
   "outputs": [
    {
     "name": "stdout",
     "output_type": "stream",
     "text": [
      "Molar conductivity of MgCl2 on infinite dilution is 0.0258 S.m2/mol\n"
     ]
    }
   ],
   "source": [
    "import math\n",
    "#Variable Declaration\n",
    "LMg = 0.0106                #Ionic conductance for Mg, S.m2/mol\n",
    "LCl = 0.0076                #Ionic conductance for Cl, S.m2/mol\n",
    "nMg, nCl = 1, 2             #Coefficients of Mg and Cl  \n",
    "\n",
    "#Calculations\n",
    "LMgCl2 = nMg*LMg + nCl*LCl\n",
    "\n",
    "#Results\n",
    "print 'Molar conductivity of MgCl2 on infinite dilution is %5.4f S.m2/mol'%(LMgCl2)"
   ]
  }
 ],
 "metadata": {
  "kernelspec": {
   "display_name": "Python 2",
   "language": "python",
   "name": "python2"
  },
  "language_info": {
   "codemirror_mode": {
    "name": "ipython",
    "version": 2
   },
   "file_extension": ".py",
   "mimetype": "text/x-python",
   "name": "python",
   "nbconvert_exporter": "python",
   "pygments_lexer": "ipython2",
   "version": "2.7.11"
  }
 },
 "nbformat": 4,
 "nbformat_minor": 0
}
