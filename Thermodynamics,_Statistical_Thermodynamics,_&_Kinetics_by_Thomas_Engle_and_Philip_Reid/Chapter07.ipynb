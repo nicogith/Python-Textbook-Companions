{
 "cells": [
  {
   "cell_type": "markdown",
   "metadata": {},
   "source": [
    "# Chapter 07: Properties of Real Gases"
   ]
  },
  {
   "cell_type": "markdown",
   "metadata": {},
   "source": [
    "## Ex7.3:pg-175"
   ]
  },
  {
   "cell_type": "code",
   "execution_count": 1,
   "metadata": {
    "collapsed": false
   },
   "outputs": [
    {
     "name": "stdout",
     "output_type": "stream",
     "text": [
      "(V-Videal) -6.49 L\n",
      "Percentage error -58.73\n"
     ]
    }
   ],
   "source": [
    "\n",
    "import math\n",
    "m = 1.0           #Mass of Methane, kg\n",
    "T = 230           #Temeprature of Methane, K\n",
    "P = 68.0          #Pressure, bar \n",
    "Tc = 190.56       #Critical Temeprature of Methane\n",
    "Pc = 45.99        #Critical Pressure of Methane\n",
    "R = 0.08314       #Ideal Gas Constant, L.bar/(mol.K)\n",
    "M = 16.04         #Molecular wt of Methane\n",
    "\n",
    "#Calcualtions\n",
    "Tr = T/Tc\n",
    "Pr = P/Pc\n",
    "z = 0.63          #Methane compressibility factor\n",
    "n = m*1e3/M\n",
    "V = z*n*R*T/P\n",
    "Vig = n*R*T/P\n",
    "DV = (V - Vig)/V\n",
    "\n",
    "#Results\n",
    "print '(V-Videal) %4.2f L'%(V-Vig)\n",
    "print 'Percentage error %5.2f'%(DV*100)\n"
   ]
  }
 ],
 "metadata": {
  "kernelspec": {
   "display_name": "Python 2",
   "language": "python",
   "name": "python2"
  },
  "language_info": {
   "codemirror_mode": {
    "name": "ipython",
    "version": 2
   },
   "file_extension": ".py",
   "mimetype": "text/x-python",
   "name": "python",
   "nbconvert_exporter": "python",
   "pygments_lexer": "ipython2",
   "version": "2.7.11"
  }
 },
 "nbformat": 4,
 "nbformat_minor": 0
}
