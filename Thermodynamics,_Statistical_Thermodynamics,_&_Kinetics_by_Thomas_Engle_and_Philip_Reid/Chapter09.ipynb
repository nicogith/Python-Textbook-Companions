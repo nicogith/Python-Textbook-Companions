{
 "cells": [
  {
   "cell_type": "markdown",
   "metadata": {},
   "source": [
    "# Chapter 09: Ideal and Real Solutions"
   ]
  },
  {
   "cell_type": "markdown",
   "metadata": {},
   "source": [
    "## Ex9.2:pg-212"
   ]
  },
  {
   "cell_type": "code",
   "execution_count": 1,
   "metadata": {
    "collapsed": false
   },
   "outputs": [
    {
     "name": "stdout",
     "output_type": "stream",
     "text": [
      "Gibbs energy change of mixing is -1.371e+04 J\n",
      "Gibbs energy change of mixing is < 0, hence the mixing is spontaneous\n",
      "Entropy change of mixing is 45.99 J/K\n"
     ]
    }
   ],
   "source": [
    "from math import log\n",
    "\n",
    "#Variable Declaration\n",
    "nb = 5.00      #Number of moles of Benzene, mol\n",
    "nt = 3.25      #Number of moles of Toluene, mol\n",
    "T = 298.15     #Temperature, K\n",
    "P = 1.0        #Pressure, bar\n",
    "R = 8.314      #Ideal Gas Constant, J/(mol.K)\n",
    "\n",
    "#Calculations\n",
    "n = nb + nt\n",
    "xb = nb/n\n",
    "xt = 1. - xb\n",
    "dGmix = n*R*T*(xb*log(xb)+xt*log(xt))\n",
    "dSmix = -n*R*(xb*log(xb)+xt*log(xt))\n",
    "\n",
    "#Results\n",
    "print 'Gibbs energy change of mixing is %4.3e J'%dGmix\n",
    "print 'Gibbs energy change of mixing is < 0, hence the mixing is spontaneous'\n",
    "print 'Entropy change of mixing is %4.2f J/K'%dSmix"
   ]
  },
  {
   "cell_type": "markdown",
   "metadata": {},
   "source": [
    "## Ex9.3:pg-214"
   ]
  },
  {
   "cell_type": "code",
   "execution_count": 3,
   "metadata": {
    "collapsed": false
   },
   "outputs": [
    {
     "name": "stdout",
     "output_type": "stream",
     "text": [
      "Total pressure of the vapor is 69.8 torr\n",
      "Benzene fraction in vapor is 0.837 \n",
      "Toulene fraction in vapor is 0.163 \n"
     ]
    }
   ],
   "source": [
    "import math\n",
    "#Variable Declaration\n",
    "nb = 5.00      #Number of moles of Benzene, mol\n",
    "nt = 3.25      #Number of moles of Toluene, mol\n",
    "T = 298.15     #Temperature, K\n",
    "R = 8.314      #Ideal Gas Constant, J/(mol.K)\n",
    "P0b = 96.4     #Vapor pressure of Benzene, torr\n",
    "P0t = 28.9     #Vapor pressure of Toluene, torr\n",
    "\n",
    "#Calculations\n",
    "n = nb + nt\n",
    "xb = nb/n\n",
    "xt = 1. - xb\n",
    "P = xb*P0b + xt*P0t\n",
    "y = (P0b*P - P0t*P0b)/(P*(P0b-P0t))\n",
    "yt = 1.-y\n",
    "\n",
    "#Results\n",
    "print 'Total pressure of the vapor is %4.1f torr'%P\n",
    "print 'Benzene fraction in vapor is %4.3f '%y\n",
    "print 'Toulene fraction in vapor is %4.3f '%yt"
   ]
  },
  {
   "cell_type": "markdown",
   "metadata": {},
   "source": [
    "## Ex9.4:pg-215"
   ]
  },
  {
   "cell_type": "code",
   "execution_count": 4,
   "metadata": {
    "collapsed": false
   },
   "outputs": [
    {
     "name": "stdout",
     "output_type": "stream",
     "text": [
      "Mass Balance: 6.75*x + 1.5*y - 5.0\n",
      "Pressure and x: P - 67.5*x - 28.9\n",
      "Pressure and y: y - 0.0148148148148148*(96.4*P - 2785.96)/P\n",
      "Pressure is 66.8 torr\n",
      "Mole fraction of benzene in liquid phase 0.561\n",
      "Mole fraction of benzene in vapor phase 0.810\n"
     ]
    }
   ],
   "source": [
    "from sympy import symbols, solve\n",
    "import math\n",
    "#Variable Declaration\n",
    "nb = 5.00      #Number of moles of Benzene, mol\n",
    "nt = 3.25      #Number of moles of Toluene, mol\n",
    "T = 298.15     #Temperature, K\n",
    "R = 8.314      #Ideal Gas Constant, J/(mol.K)\n",
    "P0b = 96.4     #Vapor pressure of Benzene, torr\n",
    "P0t = 28.9     #Vapor pressure of Toluene, torr\n",
    "nv = 1.5       #moles vaporized, mol\n",
    "\n",
    "#Calculations\n",
    "n = nb + nt\n",
    "nl = n - nv\n",
    "zb = nb/n\n",
    "\n",
    "x,y, P = symbols('x y P')\n",
    "e1 = nv*(y-zb)-nl*(zb-x)\n",
    "print 'Mass Balance:', e1\n",
    "e2 = P - (x*P0b + (1-x)*P0t)\n",
    "print 'Pressure and x:',e2\n",
    "e3 = y - (P0b*P - P0t*P0b)/(P*(P0b-P0t))\n",
    "print 'Pressure and y:', e3\n",
    "equations = [e1,e2,e3]\n",
    "sol = solve(equations)\n",
    "\n",
    "#Results\n",
    "for i in sol:\n",
    "    if ((i[x] > 0.0 and i[x] <1.0) and (i[P] > 0.0) and (i[y]>zb and i[y]<1.0)):\n",
    "        print 'Pressure is %4.1f torr' %i[P]\n",
    "        print 'Mole fraction of benzene in liquid phase %4.3f' %i[x]\n",
    "        print 'Mole fraction of benzene in vapor phase %4.3f' %i[y]\n"
   ]
  },
  {
   "cell_type": "markdown",
   "metadata": {},
   "source": [
    "## Ex9.6:pg-222"
   ]
  },
  {
   "cell_type": "code",
   "execution_count": 5,
   "metadata": {
    "collapsed": false
   },
   "outputs": [
    {
     "name": "stdout",
     "output_type": "stream",
     "text": [
      "Freezing point depression -3.94 K\n",
      "Molecualr wt of solute 274.2 g/mol\n",
      "Vapor pressure of solvent is reduced by a factor of 0.980\n"
     ]
    }
   ],
   "source": [
    "#Variable Declaration\n",
    "import math\n",
    "m = 4.50        #Mass of substance dissolved, g\n",
    "ms = 125.0      #Mass of slovent (CCl4), g\n",
    "TbE = 0.65      #Boiling point elevation, °C\n",
    "Kf, Kb = 30.0, 4.95    #Constants for freezing point elevation \n",
    "                        # and boiling point depression for CCl4, K kg/mol\n",
    "Msolvent = 153.8  #Molecualr wt of solvent, g/mol\n",
    "#Calculations\n",
    "DTf = -Kf*TbE/Kb\n",
    "Msolute = Kb*m/(ms*1e-3*TbE)\n",
    "nsolute = m/Msolute\n",
    "nsolvent = ms/Msolvent \n",
    "x = 1.0 -  nsolute/(nsolute + nsolvent)\n",
    "\n",
    "#Results\n",
    "print 'Freezing point depression %5.2f K'%DTf\n",
    "print 'Molecualr wt of solute %4.1f g/mol'%Msolute\n",
    "print 'Vapor pressure of solvent is reduced by a factor of %4.3f'%x"
   ]
  },
  {
   "cell_type": "markdown",
   "metadata": {},
   "source": [
    "## Ex9.7:pg-223"
   ]
  },
  {
   "cell_type": "code",
   "execution_count": 6,
   "metadata": {
    "collapsed": false
   },
   "outputs": [
    {
     "name": "stdout",
     "output_type": "stream",
     "text": [
      "Osmotic pressure 12.23 atm\n"
     ]
    }
   ],
   "source": [
    "#Variable Declaration\n",
    "import math\n",
    "csolute = 0.500 #Concentration of solute, g/L\n",
    "R = 8.206e-2    #Gas constant L.atm/(mol.K)\n",
    "T = 298.15      #Temperature of the solution, K\n",
    "\n",
    "#Calculations\n",
    "pii = csolute*R*T\n",
    "\n",
    "#Results\n",
    "print 'Osmotic pressure %4.2f atm'%pii\n"
   ]
  },
  {
   "cell_type": "markdown",
   "metadata": {},
   "source": [
    "## Ex9.8:pg-230"
   ]
  },
  {
   "cell_type": "code",
   "execution_count": 7,
   "metadata": {
    "collapsed": false
   },
   "outputs": [
    {
     "name": "stdout",
     "output_type": "stream",
     "text": [
      "Activity of CS2 0.6994 atm\n",
      "Activity coefficinet of CS2 1.9971 atm\n"
     ]
    }
   ],
   "source": [
    "#Variable Declaration\n",
    "import math\n",
    "xCS2 = 0.3502   #Mol fraction of CS2, g/L\n",
    "pCS2 = 358.3    #Partial pressure of CS2, torr\n",
    "p0CS2 = 512.3   #Total pressure, torr\n",
    "\n",
    "#Calculations\n",
    "alpha = pCS2/p0CS2\n",
    "gama = alpha/xCS2\n",
    "\n",
    "#Results\n",
    "print 'Activity of CS2 %5.4f atm'%alpha\n",
    "print 'Activity coefficinet of CS2 %5.4f atm'%gama"
   ]
  },
  {
   "cell_type": "markdown",
   "metadata": {},
   "source": [
    "## Ex9.9:pg-230"
   ]
  },
  {
   "cell_type": "code",
   "execution_count": 8,
   "metadata": {
    "collapsed": false
   },
   "outputs": [
    {
     "name": "stdout",
     "output_type": "stream",
     "text": [
      "Activity of CS2 0.1783 atm\n",
      "Activity coefficinet of CS2 0.5090 atm\n"
     ]
    }
   ],
   "source": [
    "#Variable Declaration\n",
    "import math\n",
    "xCS2 = 0.3502   #Mol fraction of CS2, g/L\n",
    "pCS2 = 358.3    #Partial pressure of CS2, torr\n",
    "kHCS2 = 2010.   #Total pressure, torr\n",
    "\n",
    "#Calculations\n",
    "alpha = pCS2/kHCS2\n",
    "gama = alpha/xCS2\n",
    "\n",
    "#Results\n",
    "print 'Activity of CS2 %5.4f atm'%alpha\n",
    "print 'Activity coefficinet of CS2 %5.4f atm'%gama"
   ]
  },
  {
   "cell_type": "markdown",
   "metadata": {},
   "source": [
    "## Ex9.10:pg-231"
   ]
  },
  {
   "cell_type": "code",
   "execution_count": 9,
   "metadata": {
    "collapsed": false
   },
   "outputs": [
    {
     "name": "stdout",
     "output_type": "stream",
     "text": [
      "Henrys constant = 143.38 torr\n"
     ]
    }
   ],
   "source": [
    "#Variable Declaration\n",
    "import math\n",
    "rho = 789.9     #Density of acetone, g/L\n",
    "n = 1.0         #moles of acetone, mol\n",
    "M = 58.08       #Molecular wt of acetone, g/mol\n",
    "kHacetone = 1950 #Henrys law constant, torr\n",
    "#Calculations\n",
    "H = n*M*kHacetone/rho\n",
    "\n",
    "#Results\n",
    "print 'Henrys constant = %5.2f torr'%H"
   ]
  },
  {
   "cell_type": "markdown",
   "metadata": {},
   "source": [
    "## Ex9.11:pg-232"
   ]
  },
  {
   "cell_type": "code",
   "execution_count": 10,
   "metadata": {
    "collapsed": false
   },
   "outputs": [
    {
     "name": "stdout",
     "output_type": "stream",
     "text": [
      "Activity coefficient = 0.969\n"
     ]
    }
   ],
   "source": [
    "#Variable Declaration\n",
    "import math\n",
    "m = 0.5         #Mass of water, kg\n",
    "ms = 24.0       #Mass of solute, g\n",
    "Ms = 241.0      #Molecular wt of solute, g/mol\n",
    "Tfd = 0.359     #Freezinf point depression, °C or K\n",
    "kf = 1.86       #Constants for freezing point depression for water, K kg/mol\n",
    "\n",
    "#Calculations\n",
    "msolute = ms/(Ms*m)\n",
    "gama = Tfd/(kf*msolute)\n",
    "\n",
    "#Results\n",
    "print 'Activity coefficient = %4.3f'%gama"
   ]
  },
  {
   "cell_type": "markdown",
   "metadata": {},
   "source": [
    "## Ex9.12:pg-233"
   ]
  },
  {
   "cell_type": "code",
   "execution_count": 11,
   "metadata": {
    "collapsed": false
   },
   "outputs": [
    {
     "name": "stdout",
     "output_type": "stream",
     "text": [
      "Number of moles of nitrogen in blood at 1 and 50 bar are 2.46e-03,0.123 mol\n",
      "Volume of nitrogen released from blood at reduced pressure 2.981 L\n"
     ]
    }
   ],
   "source": [
    "#Variable Declaration\n",
    "import math\n",
    "m = 70.0        #Mass of human body, kg\n",
    "V = 5.00        #Volume of blood, L\n",
    "HN2 = 9.04e4    #Henry law constant for N2 solubility in blood, bar\n",
    "T = 298.0       #Temperature, K\n",
    "rho = 1.00      #density of blood, kg/L\n",
    "Mw = 18.02      #Molecualr wt of water, g/mol\n",
    "X = 80          #Percent of N2 at sea level\n",
    "p1, p2 = 1.0, 50.0  #Pressures, bar\n",
    "R = 8.314e-2       #Ideal Gas constant, L.bar/(mol.K)\n",
    "#Calculations\n",
    "nN21  = (V*rho*1e3/Mw)*(p1*X/100)/HN2\n",
    "nN22  = (V*rho*1e3/Mw)*(p2*X/100)/HN2\n",
    "V = (nN22-nN21)*R*T/p1\n",
    "#Results\n",
    "print 'Number of moles of nitrogen in blood at 1 and 50 bar are %3.2e,%3.3f mol'%(nN21,nN22)\n",
    "print 'Volume of nitrogen released from blood at reduced pressure %4.3f L'%V"
   ]
  }
 ],
 "metadata": {
  "kernelspec": {
   "display_name": "Python 2",
   "language": "python",
   "name": "python2"
  },
  "language_info": {
   "codemirror_mode": {
    "name": "ipython",
    "version": 2
   },
   "file_extension": ".py",
   "mimetype": "text/x-python",
   "name": "python",
   "nbconvert_exporter": "python",
   "pygments_lexer": "ipython2",
   "version": "2.7.11"
  }
 },
 "nbformat": 4,
 "nbformat_minor": 0
}
