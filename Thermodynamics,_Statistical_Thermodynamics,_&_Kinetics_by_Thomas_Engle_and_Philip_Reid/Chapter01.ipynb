{
 "cells": [
  {
   "cell_type": "markdown",
   "metadata": {},
   "source": [
    "# Chapter 1. Fundamental Concepts of Thermodynamics"
   ]
  },
  {
   "cell_type": "markdown",
   "metadata": {},
   "source": [
    "## Ex1.1:pg-9"
   ]
  },
  {
   "cell_type": "code",
   "execution_count": 1,
   "metadata": {
    "collapsed": false
   },
   "outputs": [
    {
     "name": "stdout",
     "output_type": "stream",
     "text": [
      "Final Tyre pressure is 3.61e+05 Pa\n"
     ]
    }
   ],
   "source": [
    "import math \n",
    "Pi = 3.21e5             #Recommended tyre pressure, Pa\n",
    "Ti = -5.00              #Initial Tyre temperature, °C\n",
    "Tf = 28.00              #Final Tyre temperature, °C\n",
    "\n",
    "#Calculations\n",
    "Ti = 273.16 + Ti\n",
    "Tf = 273.16 + Tf\n",
    "pf = Pi*Tf/Ti           #Final tyre pressure, Pa\n",
    "\n",
    "#Results\n",
    "print 'Final Tyre pressure is %6.2e Pa'%pf"
   ]
  },
  {
   "cell_type": "markdown",
   "metadata": {},
   "source": [
    "## Ex1.2:pg-9"
   ]
  },
  {
   "cell_type": "code",
   "execution_count": 2,
   "metadata": {
    "collapsed": false
   },
   "outputs": [
    {
     "name": "stdout",
     "output_type": "stream",
     "text": [
      "Moles of He=0.121, Ne=0.303 and, Xe=0.040 in mol\n",
      "Mole fraction of xHe=0.261, xNe=0.652 and, xXe=0.087\n",
      "Final pressure is 1.917 bar\n",
      "Partial pressure of pHe=0.500, pNe=1.250 and, pXe=0.167 in bar\n"
     ]
    }
   ],
   "source": [
    "import math \n",
    "phe = 1.5          #Pressure in Helium chamber, bar\n",
    "vhe = 2.0          #Volume of Helium chamber, L\n",
    "pne = 2.5          #Pressure in Neon chamber, bar\n",
    "vne = 3.0          #Volume of Neon chamber, L\n",
    "pxe = 1.0          #Pressure in Xenon chamber, bar\n",
    "vxe = 1.0          #Volume of Xenon chamber, L\n",
    "R = 8.314e-2       #Ideal Gas Constant, L.bar/(mol.K)\n",
    "T = 298            #Temperature of Gas, K\n",
    "#Calculations\n",
    "\n",
    "nhe = phe*vhe/(R*T)            #Number of moles of Helium, mol\n",
    "nne = pne*vne/(R*T)            #Number of moles of Neon, mol\n",
    "nxe = pxe*vxe/(R*T)            #Number of moles of Xenon, mol\n",
    "n = nhe + nne + nxe            #Total number of moles, mol\n",
    "V = vhe + vne + vxe            #Total volume of system, L\n",
    "xhe = nhe/n\n",
    "xne = nne/n\n",
    "xxe = nxe/n\n",
    "P = n*R*T/(V)\n",
    "phe = P*xhe              #Partial pressure of Helium, bar\n",
    "pne = P*xne              #Partial pressure of Neon, bar\n",
    "pxe = P*xxe              #Partial pressure of Xenon, bar\n",
    "\n",
    "#Results\n",
    "print 'Moles of He=%4.3f, Ne=%4.3f and, Xe=%4.3f in mol'%(nhe,nne,nxe) \n",
    "print 'Mole fraction of xHe=%4.3f, xNe=%4.3f and, xXe=%4.3f'%(xhe,xne,xxe)\n",
    "print 'Final pressure is %4.3f bar'%P\n",
    "print 'Partial pressure of pHe=%4.3f, pNe=%4.3f and, pXe=%4.3f in bar'%(phe,pne,pxe)"
   ]
  },
  {
   "cell_type": "markdown",
   "metadata": {},
   "source": [
    "## Ex1.4:pg-12"
   ]
  },
  {
   "cell_type": "code",
   "execution_count": 3,
   "metadata": {
    "collapsed": false
   },
   "outputs": [
    {
     "name": "stdout",
     "output_type": "stream",
     "text": [
      "Pressure from ideal gas law = 9.98e-02 bar nad from Van der Waals equation = 9.98e-02 bar \n",
      "Pressure from ideal gas law = 249.4 bar nad from Van der Waals equation = 269.9 bar \n"
     ]
    }
   ],
   "source": [
    "\n",
    "import math \n",
    "T = 300.0               #Nitrogen temperature, K\n",
    "v1 = 250.00             #Molar volume, L\n",
    "v2 = 0.1                #Molar volume, L\n",
    "a = 1.37                #Van der Waals parameter a, bar.dm6/mol2 \n",
    "b = 0.0387              #Van der Waals parameter b, dm3/mol\n",
    "R = 8.314e-2            #Ideal Gas Constant, L.bar/(mol.K)\n",
    "n = 1.\n",
    "#Calculations\n",
    "\n",
    "p1 = n*R*T/v1           \n",
    "p2 = n*R*T/v2\n",
    "pv1 = n*R*T/(v1-n*b)- n**2*a/v1**2\n",
    "pv2 = n*R*T/(v2-n*b)- n**2*a/v2**2\n",
    "\n",
    "#Results\n",
    "print 'Pressure from ideal gas law = %4.2e bar nad from Van der Waals equation = %4.2e bar '%(p1, pv1)\n",
    "print 'Pressure from ideal gas law = %4.1f bar nad from Van der Waals equation = %4.1f bar '%(p2, pv2)"
   ]
  }
 ],
 "metadata": {
  "kernelspec": {
   "display_name": "Python 2",
   "language": "python",
   "name": "python2"
  },
  "language_info": {
   "codemirror_mode": {
    "name": "ipython",
    "version": 2
   },
   "file_extension": ".py",
   "mimetype": "text/x-python",
   "name": "python",
   "nbconvert_exporter": "python",
   "pygments_lexer": "ipython2",
   "version": "2.7.11"
  }
 },
 "nbformat": 4,
 "nbformat_minor": 0
}
