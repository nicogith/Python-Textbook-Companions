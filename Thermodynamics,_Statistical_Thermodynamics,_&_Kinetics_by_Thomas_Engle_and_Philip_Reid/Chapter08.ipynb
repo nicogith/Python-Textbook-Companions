{
 "cells": [
  {
   "cell_type": "markdown",
   "metadata": {},
   "source": [
    "# Chapter 08: Phase Diagrams and the Relative Stability of Solids, Liquids, and Gases"
   ]
  },
  {
   "cell_type": "markdown",
   "metadata": {},
   "source": [
    "## Ex8.2:Pg.No-195"
   ]
  },
  {
   "cell_type": "code",
   "execution_count": 1,
   "metadata": {
    "collapsed": false
   },
   "outputs": [
    {
     "name": "stdout",
     "output_type": "stream",
     "text": [
      "Latent heat of vaporization of benzene at 20°C 30.7 kJ/mol\n",
      "Entropy Change of vaporization of benzene at 20°C 86.9 J/mol\n",
      "Triple point temperature = 267.3 K for benzene\n",
      "Triple point pressure = 3.53e+03 Pa for benzene\n"
     ]
    }
   ],
   "source": [
    "from math import log, exp\n",
    "\n",
    "import math\n",
    "Tn = 353.24       #normal boiling point of Benzene, K\n",
    "pi = 1.19e4       #Vapor pressure of benzene at 20°C, Pa\n",
    "DHf = 9.95        #Latent heat of fusion, kJ/mol\n",
    "pv443 = 137.      #Vapor pressure of benzene at -44.3°C, Pa\n",
    "R = 8.314         #Ideal Gas Constant, J/(mol.K)\n",
    "Pf = 101325       #Std. atmospheric pressure, Pa\n",
    "T20 = 293.15      #Temperature in K\n",
    "P0 = 1.\n",
    "Pl = 10000.\n",
    "Ts = -44.3        #Temperature of solid benzene, °C\n",
    "\n",
    "#Calculations\n",
    "Ts = Ts + 273.15\n",
    "#Part a\n",
    "\n",
    "DHv = -(R*math.log(Pf/pi))/(1./Tn-1./T20)\n",
    "#Part b\n",
    "\n",
    "DSv = DHv/Tn\n",
    "DHf = DHf*1e3\n",
    "#Part c\n",
    "\n",
    "Ttp = -DHf/(R*(math.log(Pl/P0)-math.log(pv443/P0)-(DHv+DHf)/(R*Ts)+DHv/(R*T20)))\n",
    "Ptp = exp(-DHv/R*(1./Ttp-1./Tn))*101325\n",
    "\n",
    "#Results\n",
    "print 'Latent heat of vaporization of benzene at 20°C %4.1f kJ/mol'%(DHv/1000)\n",
    "print 'Entropy Change of vaporization of benzene at 20°C %3.1f J/mol'%DSv\n",
    "print 'Triple point temperature = %4.1f K for benzene'%Ttp\n",
    "print 'Triple point pressure = %4.2e Pa for benzene'%Ptp"
   ]
  },
  {
   "cell_type": "markdown",
   "metadata": {},
   "source": [
    "## Ex8.3:Pg.No-200"
   ]
  },
  {
   "cell_type": "code",
   "execution_count": 1,
   "metadata": {
    "collapsed": false
   },
   "outputs": [
    {
     "name": "stdout",
     "output_type": "stream",
     "text": [
      "Force exerted by one leg 5.428e-05 N\n"
     ]
    }
   ],
   "source": [
    "from math import cos, pi\n",
    "\n",
    "gama = 71.99e-3   #Surface tension of water, N/m\n",
    "r = 1.2e-4        #Radius of hemisphere, m\n",
    "theta = 0.0       #Contact angle, rad\n",
    "\n",
    "#Calculations\n",
    "DP = 2*gama*cos(theta)/r\n",
    "F = DP*pi*r**2\n",
    "\n",
    "#Results\n",
    "print 'Force exerted by one leg %5.3e N'%F"
   ]
  },
  {
   "cell_type": "markdown",
   "metadata": {},
   "source": [
    "## Ex8.4:Pg.No-200"
   ]
  },
  {
   "cell_type": "code",
   "execution_count": 2,
   "metadata": {
    "collapsed": false
   },
   "outputs": [
    {
     "name": "stdout",
     "output_type": "stream",
     "text": [
      "Height to which water can rise by capillary action is 0.74 m\n",
      "This is very less than 100.0 n, hence water can not reach top of tree\n"
     ]
    }
   ],
   "source": [
    "from math import cos\n",
    "\n",
    "\n",
    "gama = 71.99e-3   #Surface tension of water, N/m\n",
    "r = 2e-5          #Radius of xylem, m\n",
    "theta = 0.0       #Contact angle, rad\n",
    "rho = 997.0       #Density of water, kg/m3\n",
    "g = 9.81          #gravitational acceleration, m/s2\n",
    "H = 100           #Height at top of redwood tree, m\n",
    "\n",
    "#Calculations\n",
    "h = 2*gama/(rho*g*r*cos(theta))\n",
    "\n",
    "#Results\n",
    "print 'Height to which water can rise by capillary action is %3.2f m'%h\n",
    "print 'This is very less than %4.1f n, hence water can not reach top of tree'%H"
   ]
  }
 ],
 "metadata": {
  "kernelspec": {
   "display_name": "Python 2",
   "language": "python",
   "name": "python2"
  },
  "language_info": {
   "codemirror_mode": {
    "name": "ipython",
    "version": 2
   },
   "file_extension": ".py",
   "mimetype": "text/x-python",
   "name": "python",
   "nbconvert_exporter": "python",
   "pygments_lexer": "ipython2",
   "version": "2.7.11"
  }
 },
 "nbformat": 4,
 "nbformat_minor": 0
}
