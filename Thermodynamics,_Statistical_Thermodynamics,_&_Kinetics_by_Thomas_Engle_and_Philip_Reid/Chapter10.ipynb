{
 "cells": [
  {
   "cell_type": "markdown",
   "metadata": {},
   "source": [
    "# Chapter 10: Electrolyte Solutions"
   ]
  },
  {
   "cell_type": "markdown",
   "metadata": {},
   "source": [
    "## Ex10.2:Pg-252"
   ]
  },
  {
   "cell_type": "code",
   "execution_count": 1,
   "metadata": {
    "collapsed": false
   },
   "outputs": [
    {
     "name": "stdout",
     "output_type": "stream",
     "text": [
      "Ionic streangth for NaCl solution is 0.050 and for Na2SO4 solution is 0.150, mol/kg\n"
     ]
    }
   ],
   "source": [
    "#Variable Declaration\n",
    "import math\n",
    "M = 0.050       #Molarity for NaCl and Na2SO4 solution, mol/kg\n",
    "npa, zpa = 1, 1\n",
    "nma, zma = 1, 1\n",
    "npb, zpb = 2, 1\n",
    "nmb, zmb = 1, 2\n",
    "\n",
    "#Calculations\n",
    "Ia = M*(npa*zpa**2 + nma*zma**2)/2\n",
    "Ib = M*(npb*zpb**2 + nmb*zmb**2)/2\n",
    "\n",
    "#Results\n",
    "print 'Ionic streangth for NaCl solution is %4.3f and for Na2SO4 solution is %4.3f, mol/kg'%(Ia,Ib)"
   ]
  }
 ],
 "metadata": {
  "kernelspec": {
   "display_name": "Python 2",
   "language": "python",
   "name": "python2"
  },
  "language_info": {
   "codemirror_mode": {
    "name": "ipython",
    "version": 2
   },
   "file_extension": ".py",
   "mimetype": "text/x-python",
   "name": "python",
   "nbconvert_exporter": "python",
   "pygments_lexer": "ipython2",
   "version": "2.7.11"
  }
 },
 "nbformat": 4,
 "nbformat_minor": 0
}
