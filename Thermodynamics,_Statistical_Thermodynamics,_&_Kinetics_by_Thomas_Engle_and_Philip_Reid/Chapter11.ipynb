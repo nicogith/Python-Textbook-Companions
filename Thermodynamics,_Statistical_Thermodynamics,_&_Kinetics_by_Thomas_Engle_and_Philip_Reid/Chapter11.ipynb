{
 "cells": [
  {
   "cell_type": "markdown",
   "metadata": {},
   "source": [
    "# Chapter 11: Electrochemical Cells, Batteries, and Fuel Cells"
   ]
  },
  {
   "cell_type": "markdown",
   "metadata": {},
   "source": [
    "## Ex11.1:pg-265"
   ]
  },
  {
   "cell_type": "code",
   "execution_count": 6,
   "metadata": {
    "collapsed": false
   },
   "outputs": [
    {
     "name": "stdout",
     "output_type": "stream",
     "text": [
      "The potential of H+/H2 half cell 0.0083 V\n"
     ]
    }
   ],
   "source": [
    "from math import log, sqrt\n",
    "\n",
    "#Variable Declaration\n",
    "aH = 0.770        #Activity of \n",
    "fH2 = 1.13        #Fugacity of Hydrogen gas\n",
    "E0 = 0.0          #Std. electrode potential, V\n",
    "n = 1.0           #Number of electrons transfered\n",
    "\n",
    "#Calculations\n",
    "E = E0 - (0.05916/n)*log(aH/sqrt(fH2),10)\n",
    "\n",
    "#Results\n",
    "print 'The potential of H+/H2 half cell %5.4f V'%E"
   ]
  },
  {
   "cell_type": "markdown",
   "metadata": {},
   "source": [
    "## Ex11.2:pg-266"
   ]
  },
  {
   "cell_type": "code",
   "execution_count": 7,
   "metadata": {
    "collapsed": false
   },
   "outputs": [
    {
     "name": "stdout",
     "output_type": "stream",
     "text": [
      "0.689 1.019\n"
     ]
    }
   ],
   "source": [
    "import math\n",
    "#Variable Declaration\n",
    "E0r1 = -0.877       #Std Electrod potential for Rx2 : Al3+ + 3e- ------> Al (s)                   \n",
    "E0r2 = -1.660       #Std Electrod potential for Rx2 : Al3+ + 3e- ------> Al (s)\n",
    "E0r3 = +0.071       #Std Electrod potential for Rx3 : AgBr (s) + e- ------> Ag(s) +Br- (aq.)\n",
    "\n",
    "#Calculations\n",
    "#3Fe(OH)2 (s)+ 2Al (s)  <---------> 3Fe (s)  + 6(OH-) + 2Al3+\n",
    "E0a = 3*E0r1 + (-2)*E0r2\n",
    "#Fe (s) + 2OH- +   2AgBr (s) -------> Fe(OH)2 (s)  + 2Ag(s) +  2Br- (aq.)\n",
    "E0b = -E0r1 + (2)*E0r3\n",
    "\n",
    "#Results\n",
    "print '%5.3f %5.3f'%(E0a,E0b)"
   ]
  },
  {
   "cell_type": "markdown",
   "metadata": {},
   "source": [
    "## Ex11.3:pg-267"
   ]
  },
  {
   "cell_type": "code",
   "execution_count": 8,
   "metadata": {
    "collapsed": false
   },
   "outputs": [
    {
     "name": "stdout",
     "output_type": "stream",
     "text": [
      "E0 for overall reaction is -0.041 V\n"
     ]
    }
   ],
   "source": [
    "import math\n",
    "#Variable Declaration\n",
    "E01 = 0.771      #Rx1 : Fe3+ + e- -----> Fe2+\n",
    "E02 = -0.447     #Rx2 : Fe2+ + 2e- -----> Fe\n",
    "F = 96485        #Faraday constant, C/mol\n",
    "n1,n2,n3 = 1.,2.,3.\n",
    "\n",
    "#Calculations\n",
    "dG01 = -n1*F*E01\n",
    "dG02 = -n2*F*E02\n",
    "                #For overall reaction\n",
    "dG0 = dG01 + dG02\n",
    "E0Fe3byFe = -dG0/(n3*F)\n",
    "\n",
    "#Results\n",
    "print 'E0 for overall reaction is %5.3f V'%(E0Fe3byFe)"
   ]
  },
  {
   "cell_type": "markdown",
   "metadata": {},
   "source": [
    "## Ex11.4:pg-268"
   ]
  },
  {
   "cell_type": "code",
   "execution_count": 9,
   "metadata": {
    "collapsed": false
   },
   "outputs": [
    {
     "name": "stdout",
     "output_type": "stream",
     "text": [
      "Std. entropy change of reaction from dE0bydT is -2.32e+02 and\n",
      "Std entropy values is -2.41e+02 V\n"
     ]
    }
   ],
   "source": [
    "import math\n",
    "#Variable Declaration\n",
    "E01 = +1.36             #Std. electrode potential for Cl2/Cl\n",
    "dE0bydT = -1.20e-3      #V/K\n",
    "F = 96485               #Faraday constant, C/mol\n",
    "n = 2.\n",
    "S0H = 0.0               #Std. entropy J/(K.mol) for H+ ,Cl-,H2, Cl2 \n",
    "S0Cl = 56.5\n",
    "S0H2 = 130.7\n",
    "S0Cl2 = 223.1\n",
    "nH, nCl, nH2, nCl2 = 2, 2, -1,-1\n",
    "#Calculations\n",
    "dS01 = n*F*dE0bydT\n",
    "dS02 =nH*S0H + nCl*S0Cl + nH2*S0H2 + nCl2*S0Cl2\n",
    "\n",
    "#Results\n",
    "print 'Std. entropy change of reaction from dE0bydT is %4.2e and\\nStd entropy values is %4.2e V'%(dS01,dS02)"
   ]
  },
  {
   "cell_type": "markdown",
   "metadata": {},
   "source": [
    "## Ex11.5:pg-269"
   ]
  },
  {
   "cell_type": "code",
   "execution_count": 10,
   "metadata": {
    "collapsed": false
   },
   "outputs": [
    {
     "name": "stdout",
     "output_type": "stream",
     "text": [
      "Equilibrium constant for reaction is 1.55e+37\n"
     ]
    }
   ],
   "source": [
    "from math import exp\n",
    "\n",
    "#Variable Declaration\n",
    "E0 = +1.10              #Std. electrode potential for Danniel cell, V\n",
    "                        #Zn(s) + Cu++ ----->  Zn2+   +  Cu\n",
    "T = 298.15              #V/K\n",
    "F = 96485               #Faraday constant, C/mol\n",
    "n = 2.\n",
    "R = 8.314               #Gas constant, J/(mol.K)\n",
    "\n",
    "#Calculations\n",
    "K = exp(n*F*E0/(R*T))\n",
    "\n",
    "#Results\n",
    "print 'Equilibrium constant for reaction is %4.2e'%(K)"
   ]
  },
  {
   "cell_type": "markdown",
   "metadata": {},
   "source": [
    "## Ex11.6:pg-269"
   ]
  },
  {
   "cell_type": "code",
   "execution_count": 11,
   "metadata": {
    "collapsed": false
   },
   "outputs": [
    {
     "name": "stdout",
     "output_type": "stream",
     "text": [
      "Equilibrium constant for reaction is 1.57e-10\n"
     ]
    }
   ],
   "source": [
    "import math\n",
    "#Variable Declaration\n",
    "E = +0.29               #Cell emf, V\n",
    "n = 2.\n",
    "\n",
    "#Calculations\n",
    "Ksp = 10**(-n*E/0.05916)\n",
    "\n",
    "#Results\n",
    "print 'Equilibrium constant for reaction is %4.2e'%(Ksp)"
   ]
  },
  {
   "cell_type": "markdown",
   "metadata": {},
   "source": [
    "## Ex11.8:pg-272"
   ]
  },
  {
   "cell_type": "code",
   "execution_count": 12,
   "metadata": {
    "collapsed": false
   },
   "outputs": [
    {
     "name": "stdout",
     "output_type": "stream",
     "text": [
      "Cell potentials for Zn, Ag, Au are 2.27 V, 0.71 V, and -0.18 V\n",
      "Zn has positive cell potential of 2.272 V and Can be oxidized bypermangnate ion\n",
      "Ag has positive cell potential of 0.710 V and Can be oxidized bypermangnate ion\n"
     ]
    }
   ],
   "source": [
    "import math\n",
    "#Variable Declaration\n",
    "E = +1.51               #EMF for reduction of permangnet, V\n",
    "E01 = -0.7618           #Zn2+  + 2e-  -------->  Zn (s)\n",
    "E02 = +0.7996           #Ag+  + e-  -------->  Ag (s)\n",
    "E03 = +1.6920           #Au+  + e-  -------->  Au (s)        \n",
    "\n",
    "#Calculations\n",
    "EZn = E - E01\n",
    "EAg = E - E02\n",
    "EAu = E - E03\n",
    "animals = {\"parrot\": 2, \"fish\": 6}\n",
    "Er = {\"Zn\":EZn,\"Ag\":EAg,\"Au\":EAu}\n",
    "#Results\n",
    "print 'Cell potentials for Zn, Ag, Au are %4.2f V, %4.2f V, and %4.2f V'%(EZn, EAg,EAu)\n",
    "for i in Er:\n",
    "    if Er[i] >0.0:\n",
    "        print '%s has positive cell potential of %4.3f V and Can be oxidized bypermangnate ion' %(i,Er[i])\n",
    "    "
   ]
  }
 ],
 "metadata": {
  "kernelspec": {
   "display_name": "Python 2",
   "language": "python",
   "name": "python2"
  },
  "language_info": {
   "codemirror_mode": {
    "name": "ipython",
    "version": 2
   },
   "file_extension": ".py",
   "mimetype": "text/x-python",
   "name": "python",
   "nbconvert_exporter": "python",
   "pygments_lexer": "ipython2",
   "version": "2.7.11"
  }
 },
 "nbformat": 4,
 "nbformat_minor": 0
}
