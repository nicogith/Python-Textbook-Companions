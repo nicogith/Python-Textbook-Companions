{
 "cells": [
  {
   "cell_type": "markdown",
   "metadata": {},
   "source": [
    "# Chapter 13: Boltzmann Distribution"
   ]
  },
  {
   "cell_type": "markdown",
   "metadata": {},
   "source": [
    "## Ex13.1:pg-321"
   ]
  },
  {
   "cell_type": "code",
   "execution_count": 2,
   "metadata": {
    "collapsed": false
   },
   "outputs": [
    {
     "name": "stdout",
     "output_type": "stream",
     "text": [
      "The observed weight 1.37e+28 compared to 1.01e+29\n"
     ]
    }
   ],
   "source": [
    "from math import factorial\n",
    "\n",
    "#Variable Declaration\n",
    "\n",
    "aH = 40         #Number of heads\n",
    "N = 100         #Total events\n",
    "\n",
    "#Calculations\n",
    "aT = 100 - aH\n",
    "We = factorial(N)/(factorial(aT)*factorial(aH))\n",
    "Wexpected = factorial(N)/(factorial(N/2)*factorial(N/2))\n",
    "\n",
    "#Results\n",
    "print 'The observed weight %5.2e compared to %5.2e'%(We,Wexpected)"
   ]
  },
  {
   "cell_type": "markdown",
   "metadata": {},
   "source": [
    "## Ex13.2:pg-322"
   ]
  },
  {
   "cell_type": "code",
   "execution_count": 6,
   "metadata": {
    "collapsed": false
   },
   "outputs": [
    {
     "name": "stdout",
     "output_type": "stream",
     "text": [
      "At maximum value of ln(W)\n",
      "Values of N1 : 6162, N2: 2676 and N3: 1162 \n",
      "Maximum value of ln(W)=   9012\n"
     ]
    }
   ],
   "source": [
    "from sympy import symbols, diff, log\n",
    "\n",
    "#Varialbe declaration\n",
    "n = 10000       #Total number of particles\n",
    "\n",
    "\n",
    "#Calcualtions\n",
    "def ster(i):\n",
    "    return i*log(i)-i\n",
    "\n",
    "n1, n2, n3, W = symbols('n1 n2 n3 W',positive=True)\n",
    "\n",
    "n2 = 5000 - 2*n3\n",
    "n1 = 10000 - n2 -n3\n",
    "logW = ster(n) - ster(n1) - ster(n2) - ster(n3) \n",
    "fun = diff(logW, n3)\n",
    "dfun = diff(fun, n3)\n",
    "x0 = 10.0\n",
    "err = 1.0\n",
    "while err>0.001:\n",
    "    f = fun.subs(n3,x0)\n",
    "    df = dfun.subs(n3,x0)\n",
    "    xnew = x0 - f/df\n",
    "    err = abs(x0-xnew)/x0\n",
    "    x0 = xnew\n",
    "\n",
    "x0 = int(x0)\n",
    "N2 = n2.subs(n3,x0)\n",
    "N3 = x0\n",
    "n1 = n1.subs(n3,x0)\n",
    "N1 = n1.subs(n2,N2)\n",
    "lnW = logW.subs(n3,N3)\n",
    "\n",
    "#Results\n",
    "print 'At maximum value of ln(W)'\n",
    "print 'Values of N1 : %4d, N2: %4d and N3: %4d '%(N1, N2,N3)\n",
    "print 'Maximum value of ln(W)= %6d'%lnW"
   ]
  },
  {
   "cell_type": "markdown",
   "metadata": {},
   "source": [
    "## Ex13.3:pg-326"
   ]
  },
  {
   "cell_type": "code",
   "execution_count": 1,
   "metadata": {
    "collapsed": false
   },
   "outputs": [
    {
     "name": "stdout",
     "output_type": "stream",
     "text": [
      "Probability of finding an oscillator at energy level of n>3 is 0.048 i.e. 4.8 percent\n"
     ]
    }
   ],
   "source": [
    "import math\n",
    "#Variable Declaration\n",
    "p0 = 0.633        #Probabilities of Energy level 1,2,3 \n",
    "p1 = 0.233\n",
    "p2 = 0.086\n",
    "\n",
    "#Calculation\n",
    "p4 = 1. -(p0+p1+p2)\n",
    "\n",
    "#Results\n",
    "print 'Probability of finding an oscillator at energy level of n>3 is %4.3f i.e.%4.1f percent'%(p4,p4*100)"
   ]
  },
  {
   "cell_type": "markdown",
   "metadata": {},
   "source": [
    "## Ex13.4:pg-327"
   ]
  },
  {
   "cell_type": "code",
   "execution_count": 2,
   "metadata": {
    "collapsed": false
   },
   "outputs": [
    {
     "name": "stdout",
     "output_type": "stream",
     "text": [
      "Probability of finding an oscillator at energy level of n>3 is 0.222\n"
     ]
    }
   ],
   "source": [
    "import math\n",
    "#Variable Declaration\n",
    "p0 = 0.394        #Probabilities of Energy level 1,2,3 \n",
    "p1by2 = 0.239\n",
    "p2 = 0.145\n",
    "\n",
    "#Calculation\n",
    "p4 = 1. -(p0+p1by2+p2)\n",
    "\n",
    "#Results\n",
    "print 'Probability of finding an oscillator at energy level of n>3 is %4.3f'%(p4)"
   ]
  },
  {
   "cell_type": "markdown",
   "metadata": {},
   "source": [
    "## Ex13.5:pg-333"
   ]
  },
  {
   "cell_type": "code",
   "execution_count": 3,
   "metadata": {
    "collapsed": false
   },
   "outputs": [
    {
     "name": "stdout",
     "output_type": "stream",
     "text": [
      "Partition function is 1.577\n",
      "Probability of occupying the second vibrational state n=2 is 0.085\n"
     ]
    }
   ],
   "source": [
    "from math import exp\n",
    "\n",
    "#Variable Declaration\n",
    "I2 = 208         #Vibrational frequency, cm-1 \n",
    "T = 298          #Molecular Temperature, K\n",
    "c = 3.00e10      #speed of light, cm/s\n",
    "h = 6.626e-34    #Planks constant, J/K\n",
    "k = 1.38e-23     #Boltzman constant, J/K\n",
    "#Calculation\n",
    "q = 1./(1.-exp(-h*c*I2/(k*T)))\n",
    "p2 = exp(-2*h*c*I2/(k*T))/q\n",
    "\n",
    "#Results\n",
    "print 'Partition function is %4.3f'%(q)\n",
    "print 'Probability of occupying the second vibrational state n=2 is %4.3f'%(p2)"
   ]
  },
  {
   "cell_type": "markdown",
   "metadata": {},
   "source": [
    "## Ex13.6:pg-334"
   ]
  },
  {
   "cell_type": "code",
   "execution_count": 6,
   "metadata": {
    "collapsed": false
   },
   "outputs": [
    {
     "name": "stdout",
     "output_type": "stream",
     "text": [
      "Occupation Number is 0.999990\n"
     ]
    }
   ],
   "source": [
    "import math\n",
    "#Variable Declaration\n",
    "B = 1.45         #Magnetic field streangth, Teslas \n",
    "T = 298          #Molecular Temperature, K\n",
    "c = 3.00e10      #speed of light, cm/s\n",
    "h = 6.626e-34    #Planks constant, J/K\n",
    "k = 1.38e-23     #Boltzman constant, J/K \n",
    "gnbn = 2.82e-26  #J/T\n",
    "#Calculation\n",
    "ahpbyahm = math.exp(-gnbn*B/(k*T))\n",
    "\n",
    "#Results\n",
    "print 'Occupation Number is %7.6f'%(ahpbyahm)\n"
   ]
  }
 ],
 "metadata": {
  "kernelspec": {
   "display_name": "Python 2",
   "language": "python",
   "name": "python2"
  },
  "language_info": {
   "codemirror_mode": {
    "name": "ipython",
    "version": 2
   },
   "file_extension": ".py",
   "mimetype": "text/x-python",
   "name": "python",
   "nbconvert_exporter": "python",
   "pygments_lexer": "ipython2",
   "version": "2.7.11"
  }
 },
 "nbformat": 4,
 "nbformat_minor": 0
}
