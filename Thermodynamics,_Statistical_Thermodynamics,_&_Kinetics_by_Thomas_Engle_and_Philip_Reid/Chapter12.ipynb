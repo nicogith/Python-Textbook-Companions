{
 "cells": [
  {
   "cell_type": "markdown",
   "metadata": {},
   "source": [
    "# Chapter 12: Probability"
   ]
  },
  {
   "cell_type": "markdown",
   "metadata": {},
   "source": [
    "## Ex12.1:pg-295"
   ]
  },
  {
   "cell_type": "code",
   "execution_count": 1,
   "metadata": {
    "collapsed": false
   },
   "outputs": [
    {
     "name": "stdout",
     "output_type": "stream",
     "text": [
      "Probability of picking up any one ball is 1.0\n"
     ]
    }
   ],
   "source": [
    "import math\n",
    "#Varible declaration\n",
    "n = range(1,51,1)\n",
    "Prob = 0\n",
    "for x in n:\n",
    "    Prob = 1./len(n) + Prob\n",
    "\n",
    "#Results\n",
    "print 'Probability of picking up any one ball is %3.1f'%Prob"
   ]
  },
  {
   "cell_type": "markdown",
   "metadata": {},
   "source": [
    "## Ex12.2:pg-296"
   ]
  },
  {
   "cell_type": "code",
   "execution_count": 2,
   "metadata": {
    "collapsed": false
   },
   "outputs": [
    {
     "name": "stdout",
     "output_type": "stream",
     "text": [
      "Probability of one (heart)card picked from a std. stack of 52 cards is 1/4\n"
     ]
    }
   ],
   "source": [
    "from fractions import Fraction\n",
    "import math\n",
    "#Variable Declaration\n",
    "n = 52          #Total cards\n",
    "nheart = 13     #Number of cards with hearts\n",
    "\n",
    "#Calculations\n",
    "Pe = Fraction(nheart,n)\n",
    "\n",
    "#Results\n",
    "print 'Probability of one (heart)card picked from a std. stack of %d cards is'%n,Pe"
   ]
  },
  {
   "cell_type": "markdown",
   "metadata": {},
   "source": [
    "## Ex12.3:pg-297"
   ]
  },
  {
   "cell_type": "code",
   "execution_count": 3,
   "metadata": {
    "collapsed": false
   },
   "outputs": [
    {
     "name": "stdout",
     "output_type": "stream",
     "text": [
      "Total number of Five card arrangment from a deck of 52 cards is 311875200\n"
     ]
    }
   ],
   "source": [
    "#Variable Declaration\n",
    "n = 52          #Total cards\n",
    "import math\n",
    "#Calculations\n",
    "TotalM = n*(n-1)*(n-2)*(n-3)*(n-4)\n",
    "#Results\n",
    "print 'Total number of Five card arrangment from a deck of 52 cards is %d'%TotalM"
   ]
  },
  {
   "cell_type": "markdown",
   "metadata": {},
   "source": [
    "## Ex12.4:pg-297"
   ]
  },
  {
   "cell_type": "code",
   "execution_count": 4,
   "metadata": {
    "collapsed": false
   },
   "outputs": [
    {
     "name": "stdout",
     "output_type": "stream",
     "text": [
      "Possible spin states for excited state are  4\n"
     ]
    }
   ],
   "source": [
    "import math\n",
    "#Variable Declaration\n",
    "n1 = 2         #Two spin states for 1st electron in orbit 1\n",
    "n2 = 2         #Two spin states for 2nd electron in orbit 2\n",
    "\n",
    "#Calculation\n",
    "M = n1*n1\n",
    "\n",
    "#Results\n",
    "print 'Possible spin states for excited state are %2d'%M"
   ]
  },
  {
   "cell_type": "markdown",
   "metadata": {},
   "source": [
    "## Ex12.5:pg-298"
   ]
  },
  {
   "cell_type": "code",
   "execution_count": 5,
   "metadata": {
    "collapsed": false
   },
   "outputs": [
    {
     "name": "stdout",
     "output_type": "stream",
     "text": [
      "Maximum Possible permutations for 5 player to play are    95040\n"
     ]
    }
   ],
   "source": [
    "from math import factorial\n",
    "\n",
    "#Variable Declaration\n",
    "n = 12         #Total Number of players \n",
    "j = 5          #Number player those can play match\n",
    "\n",
    "#Calculation\n",
    "P = factorial(n)/factorial(n-j)\n",
    "\n",
    "#Results\n",
    "print 'Maximum Possible permutations for 5 player to play are %8d'%P"
   ]
  },
  {
   "cell_type": "markdown",
   "metadata": {},
   "source": [
    "## Ex12.6:pg-299"
   ]
  },
  {
   "cell_type": "code",
   "execution_count": 6,
   "metadata": {
    "collapsed": false
   },
   "outputs": [
    {
     "name": "stdout",
     "output_type": "stream",
     "text": [
      "Maximum Possible 5-card combinations are  2598960\n"
     ]
    }
   ],
   "source": [
    "from math import factorial\n",
    "\n",
    "#Variable Declaration\n",
    "n = 52         #Number of cards in std . pack\n",
    "j = 5          #Number of cards in subset\n",
    "\n",
    "#Calculation\n",
    "C = factorial(n)/(factorial(j)*factorial(n-j))\n",
    "\n",
    "#Results\n",
    "print 'Maximum Possible 5-card combinations are %8d'%C"
   ]
  },
  {
   "cell_type": "markdown",
   "metadata": {},
   "source": [
    "## Ex12.7:pg-300"
   ]
  },
  {
   "cell_type": "code",
   "execution_count": 7,
   "metadata": {
    "collapsed": false
   },
   "outputs": [
    {
     "name": "stdout",
     "output_type": "stream",
     "text": [
      "Total number of quantum states are  15\n"
     ]
    }
   ],
   "source": [
    "from math import factorial\n",
    "\n",
    "#Variable Declaration\n",
    "x = 6          #Number of electrons\n",
    "n = 2          #Number of states\n",
    "\n",
    "#Calculation\n",
    "P = factorial(x)/(factorial(n)*factorial(x-n))\n",
    "\n",
    "#Results\n",
    "print 'Total number of quantum states are %3d'%P"
   ]
  },
  {
   "cell_type": "markdown",
   "metadata": {},
   "source": [
    "## Ex12.8:pg-301"
   ]
  },
  {
   "cell_type": "code",
   "execution_count": 8,
   "metadata": {
    "collapsed": false
   },
   "outputs": [
    {
     "name": "stdout",
     "output_type": "stream",
     "text": [
      "Probability of getting 25 head out of 50 tossing is 0.112\n",
      "Probability of getting 10 head out of 50 tossing is 9.124e-06\n"
     ]
    }
   ],
   "source": [
    "from math import factorial\n",
    "from fractions import Fraction\n",
    "\n",
    "#Variable Declaration\n",
    "n = 50          #Number of separate experiments\n",
    "j1 = 25          #Number of sucessful expt with heads up\n",
    "j2 = 10          #Number of sucessful expt with heads up\n",
    "\n",
    "#Calculation\n",
    "C25 = factorial(n)/(factorial(j1)*factorial(n-j1))\n",
    "PE25 = Fraction(1,2)**j1\n",
    "PEC25 = (1-Fraction(1,2))**(n-j1)\n",
    "P25 = C25*PE25*PEC25\n",
    "\n",
    "C10 = factorial(n)/(factorial(j2)*factorial(n-j2))\n",
    "PE10 = Fraction(1,2)**j2\n",
    "PEC10 = (1-Fraction(1,2))**(n-j2)\n",
    "P10 = C10*PE10*PEC10\n",
    "\n",
    "#Results\n",
    "print 'Probability of getting 25 head out of 50 tossing is %4.3f'%(float(P25))\n",
    "print 'Probability of getting 10 head out of 50 tossing is %4.3e'%(float(P10))"
   ]
  },
  {
   "cell_type": "markdown",
   "metadata": {},
   "source": [
    "## Ex12.9:pg-302"
   ]
  },
  {
   "cell_type": "code",
   "execution_count": 9,
   "metadata": {
    "collapsed": false
   },
   "outputs": [
    {
     "name": "stdout",
     "output_type": "stream",
     "text": [
      "  N        ln(N!)       ln(N!)sterling      Error\n",
      " 10       15.10        13.03              2.08\n",
      " 50       148.48        145.60              2.88\n",
      "100       363.74        360.52              3.22\n"
     ]
    }
   ],
   "source": [
    "from math import factorial, log\n",
    "#Variable Declaration\n",
    "N = [10,50,100]       #Valures for N\n",
    "\n",
    "#Calculations\n",
    "print '  N        ln(N!)       ln(N!)sterling      Error'\n",
    "for i in N:\n",
    "    lnN = log(factorial(i))\n",
    "    lnNs = i*log(i)-i\n",
    "    err = abs(lnN-lnNs)\n",
    "    print '%3d       %5.2f        %5.2f              %4.2f'%(i,lnN,lnNs, err)"
   ]
  },
  {
   "cell_type": "markdown",
   "metadata": {},
   "source": [
    "## Ex12.10:pg-305"
   ]
  },
  {
   "cell_type": "code",
   "execution_count": 10,
   "metadata": {
    "collapsed": false
   },
   "outputs": [
    {
     "name": "stdout",
     "output_type": "stream",
     "text": [
      "Probability of receiving any card 1/52\n"
     ]
    }
   ],
   "source": [
    "from fractions import Fraction\n",
    "\n",
    "#Variable Declaration\n",
    "fi = 1       #Probability of receiving any card\n",
    "n = 52       #Number od Cards\n",
    "\n",
    "#Calculations\n",
    "sum = 0\n",
    "for i in range(52):\n",
    "    sum = sum + fi\n",
    "\n",
    "Pxi = Fraction(fi,sum)\n",
    "\n",
    "#Results\n",
    "print 'Probability of receiving any card', Pxi"
   ]
  },
  {
   "cell_type": "markdown",
   "metadata": {},
   "source": [
    "## Ex12.11:pg-307"
   ]
  },
  {
   "cell_type": "code",
   "execution_count": 11,
   "metadata": {
    "collapsed": false
   },
   "outputs": [
    {
     "name": "stdout",
     "output_type": "stream",
     "text": [
      "Sum of Px considering it as discrete function 20.4\n",
      "Sum of Px considering it as contineous function 19.9\n"
     ]
    }
   ],
   "source": [
    "from math import exp\n",
    "from scipy import integrate\n",
    "#Variable Declaration\n",
    "\n",
    "#Calculations\n",
    "fun = lambda x: exp(-0.05*x)\n",
    "Pt = 0\n",
    "for i in range(0,101):\n",
    "    Pt = Pt + fun(i)\n",
    "    \n",
    "Ptot = integrate.quad(fun, 0.0, 100.)\n",
    "\n",
    "#Results\n",
    "print 'Sum of Px considering it as discrete function %4.1f'%Pt\n",
    "print 'Sum of Px considering it as contineous function %4.1f'%Ptot[0]"
   ]
  },
  {
   "cell_type": "markdown",
   "metadata": {},
   "source": [
    "## Ex12.12:pg-308"
   ]
  },
  {
   "cell_type": "code",
   "execution_count": null,
   "metadata": {
    "collapsed": false
   },
   "outputs": [],
   "source": [
    "from sympy import Symbol\n",
    "import math\n",
    "\n",
    "#Variable Declaration\n",
    "r = Symbol('r')      #Radius of inner circle\n",
    "C = [5,2,0]\n",
    "#Calculations\n",
    "A1 = pi*r**2\n",
    "A2 = pi*(2*r)**2 - A1\n",
    "A3 = pi*(3*r)**2 - (A1 + A2)\n",
    "At = A1 + A2 + A3\n",
    "f1 = A1/At\n",
    "f2 = A2/At\n",
    "f3 = A3/At\n",
    "sf = f1 + f2 + f3\n",
    "\n",
    "ns = (f1*C[0]+f2*C[1]+f3*C[2])/sf\n",
    "\n",
    "#Results\n",
    "print 'A1, A2, A3: ', A1,', ', A2,', ', A3\n",
    "print 'f1, f2, f3: ', f1,f2,f3\n",
    "print 'Average payout $', round(float(ns),2)"
   ]
  }
 ],
 "metadata": {
  "kernelspec": {
   "display_name": "Python 2",
   "language": "python",
   "name": "python2"
  },
  "language_info": {
   "codemirror_mode": {
    "name": "ipython",
    "version": 2
   },
   "file_extension": ".py",
   "mimetype": "text/x-python",
   "name": "python",
   "nbconvert_exporter": "python",
   "pygments_lexer": "ipython2",
   "version": "2.7.11"
  }
 },
 "nbformat": 4,
 "nbformat_minor": 0
}
