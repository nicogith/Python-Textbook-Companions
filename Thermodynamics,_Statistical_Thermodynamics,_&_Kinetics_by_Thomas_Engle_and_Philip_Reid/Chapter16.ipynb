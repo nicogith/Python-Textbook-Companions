{
 "cells": [
  {
   "cell_type": "markdown",
   "metadata": {},
   "source": [
    "# Chapter 16: Kinetic Theory of Gases"
   ]
  },
  {
   "cell_type": "markdown",
   "metadata": {},
   "source": [
    "## Ex16.1:pg-407"
   ]
  },
  {
   "cell_type": "code",
   "execution_count": 1,
   "metadata": {
    "collapsed": false
   },
   "outputs": [
    {
     "name": "stdout",
     "output_type": "stream",
     "text": [
      "Most probable speed of Ne and Krypton at 298 K are  498,  244 m/s\n"
     ]
    }
   ],
   "source": [
    "from math import sqrt\n",
    "\n",
    "#Variable Declaration\n",
    "R = 8.314         #Ideal Gas Constant, J/(mol.K)\n",
    "T = 298           #Temperatureof Gas, K\n",
    "MNe = 0.020       #Molecular wt of Ne, kg/mol\n",
    "MKr = 0.083       #Molecular wt of Kr, kg/mol\n",
    "\n",
    "#Calculations\n",
    "vmpNe = sqrt(2*R*T/MNe)\n",
    "vmpKr = sqrt(2*R*T/MKr)\n",
    "\n",
    "#Results\n",
    "print 'Most probable speed of Ne and Krypton at 298 K are %4.0f, %4.0f m/s'%(vmpNe,vmpKr)\n"
   ]
  },
  {
   "cell_type": "markdown",
   "metadata": {},
   "source": [
    "## Ex16.2:pg-411"
   ]
  },
  {
   "cell_type": "code",
   "execution_count": 2,
   "metadata": {
    "collapsed": false
   },
   "outputs": [
    {
     "name": "stdout",
     "output_type": "stream",
     "text": [
      "Maximum, average, root mean square speed of Ar\n",
      "at 298 K are  352,  397,  431 m/s\n"
     ]
    }
   ],
   "source": [
    "from math import sqrt,pi\n",
    "\n",
    "#Variable Declaration\n",
    "R = 8.314         #Ideal Gas Constant, J/(mol.K)\n",
    "T = 298           #Temperatureof Gas, K\n",
    "M = 0.040         #Molecular wt of Ar, kg/mol\n",
    "\n",
    "\n",
    "#Calculations\n",
    "vmp = sqrt(2*R*T/M)\n",
    "vave = sqrt(8*R*T/(M*pi))\n",
    "vrms = sqrt(3*R*T/M)\n",
    "\n",
    "#Results\n",
    "print 'Maximum, average, root mean square speed of Ar\\nat 298 K are %4.0f, %4.0f, %4.0f m/s'%(vmp,vave,vrms)"
   ]
  },
  {
   "cell_type": "markdown",
   "metadata": {},
   "source": [
    "## Ex16.4, Page Numbe 413"
   ]
  },
  {
   "cell_type": "code",
   "execution_count": 1,
   "metadata": {
    "collapsed": false
   },
   "outputs": [
    {
     "name": "stdout",
     "output_type": "stream",
     "text": [
      "Number of Collisions 2.45e+27  per s\n"
     ]
    }
   ],
   "source": [
    "from math import sqrt,pi\n",
    "\n",
    "#Variable Declaration\n",
    "R = 8.314         #Ideal Gas Constant, J/(mol.K)\n",
    "T = 298           #Temperature of Gas, K\n",
    "M = 0.040         #Molecular wt of Ar, kg/mol\n",
    "P = 101325        #Pressure, N/m2\n",
    "NA = 6.022e23     #Number of particles per mol\n",
    "V = 1.0           #Volume of Container, L\n",
    "\n",
    "#Calculations\n",
    "Zc = P*NA/sqrt(2*pi*R*T*M)\n",
    "Nc = Zc*V \n",
    "#Results\n",
    "print 'Number of Collisions %4.2e  per s'%(Nc)"
   ]
  },
  {
   "cell_type": "markdown",
   "metadata": {},
   "source": [
    "## Ex16.5:pg-414"
   ]
  },
  {
   "cell_type": "code",
   "execution_count": 6,
   "metadata": {
    "collapsed": false
   },
   "outputs": [
    {
     "name": "stdout",
     "output_type": "stream",
     "text": [
      "Pressure after 1 hr of effusion is 9.996e-03 Pa\n"
     ]
    }
   ],
   "source": [
    "from math import sqrt, pi,exp\n",
    "\n",
    "#Variable Declaration\n",
    "R = 8.314         #Ideal Gas Constant, J/(mol.K)\n",
    "T = 298           #Temperature of Gas, K\n",
    "M = 0.040         #Molecular wt of Ar, kg/mol\n",
    "P0 = 1013.25      #Pressure, N/m2\n",
    "NA = 6.022e23     #Number of particles per mol\n",
    "V = 1.0           #Volume of Container, L\n",
    "k = 1.38e-23      #Boltzmann constant, J/K\n",
    "t = 3600          #time of effusion, s\n",
    "A = 0.01          #Area, um2\n",
    "\n",
    "#Calculations\n",
    "A = A*1e-12\n",
    "V = V*1e-3\n",
    "expo = (A*t/V)*(k*T/(2*pi*M/NA))\n",
    "P = P0*exp(-expo)\n",
    "#Results\n",
    "print 'Pressure after 1 hr of effusion is %4.3e Pa'%(P/101325)"
   ]
  },
  {
   "cell_type": "markdown",
   "metadata": {},
   "source": [
    "## Ex16.6:pg-417"
   ]
  },
  {
   "cell_type": "code",
   "execution_count": 7,
   "metadata": {
    "collapsed": false
   },
   "outputs": [
    {
     "name": "stdout",
     "output_type": "stream",
     "text": [
      "Single particle collisional frequency is 6.9e+09 per s\n"
     ]
    }
   ],
   "source": [
    "from math import sqrt, pi\n",
    "\n",
    "#Variable Declaration\n",
    "R = 8.314         #Ideal Gas Constant, J/(mol.K)\n",
    "T = 298           #Temperature of Gas, K\n",
    "M = 0.044         #Molecular wt of CO2, kg/mol\n",
    "P  = 101325       #Pressure, N/m2\n",
    "NA = 6.022e23     #Number of particles per mol\n",
    "sigm = 5.2e-19    #m2\n",
    "\n",
    "#Calculations\n",
    "zCO2 = (P*NA/(R*T))*sigm*sqrt(2)*sqrt(8*R*T/(pi*M)) \n",
    "#Results\n",
    "print 'Single particle collisional frequency is %4.1e per s'%(zCO2)"
   ]
  },
  {
   "cell_type": "markdown",
   "metadata": {},
   "source": [
    "## Ex16.7:pg-417"
   ]
  },
  {
   "cell_type": "code",
   "execution_count": 8,
   "metadata": {
    "collapsed": false
   },
   "outputs": [
    {
     "name": "stdout",
     "output_type": "stream",
     "text": [
      "Collisional frequency is 3.14e+34 m-3s-1\n"
     ]
    }
   ],
   "source": [
    "from math import sqrt, pi\n",
    "\n",
    "#Variable Declaration\n",
    "R = 8.314         #Ideal Gas Constant, J/(mol.K)\n",
    "T = 298           #Temperature of Gas, K\n",
    "MAr = 0.04        #Molecular wt of Ar, kg/mol\n",
    "MKr = 0.084       #Molecular wt of Kr, kg/mol\n",
    "pAr  = 360        #Partial Pressure Ar, torr\n",
    "pKr  = 400        #Partial Pressure Kr, torr\n",
    "rAr = 0.17e-9     #Hard sphere radius of Ar, m\n",
    "rKr = 0.20e-9     #Hard sphere radius of Kr, m\n",
    "NA = 6.022e23     #Number of particles per mol\n",
    "k = 1.38e-23      #Boltzmann constant, J/K\n",
    "\n",
    "#Calculations\n",
    "pAr = pAr*101325/760\n",
    "pKr = pKr*101325/760\n",
    "p1 = pAr*NA/(R*T)\n",
    "p2 = pKr*NA/(R*T)\n",
    "sigm = pi*(rAr+rKr)**2\n",
    "mu = MAr*MKr/((MAr+MKr)*NA)\n",
    "p3 = sqrt(8*k*T/(pi*mu)) \n",
    "zArKr = p1*p2*sigm*p3\n",
    "\n",
    "#Results\n",
    "print 'Collisional frequency is %4.2e m-3s-1'%(zArKr)"
   ]
  }
 ],
 "metadata": {
  "kernelspec": {
   "display_name": "Python 2",
   "language": "python",
   "name": "python2"
  },
  "language_info": {
   "codemirror_mode": {
    "name": "ipython",
    "version": 2
   },
   "file_extension": ".py",
   "mimetype": "text/x-python",
   "name": "python",
   "nbconvert_exporter": "python",
   "pygments_lexer": "ipython2",
   "version": "2.7.11"
  }
 },
 "nbformat": 4,
 "nbformat_minor": 0
}
