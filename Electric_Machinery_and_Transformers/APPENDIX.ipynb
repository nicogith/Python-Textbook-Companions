{
 "metadata": {
  "name": ""
 },
 "nbformat": 3,
 "nbformat_minor": 0,
 "worksheets": [
  {
   "cells": [
    {
     "cell_type": "heading",
     "level": 1,
     "metadata": {},
     "source": [
      "APPENDIX A-3: APPLICABLE SECTIONS OF THE NATIONAL ELECTRIC CODE(NEC)"
     ]
    },
    {
     "cell_type": "heading",
     "level": 2,
     "metadata": {},
     "source": [
      "Example 1, Page number 594"
     ]
    },
    {
     "cell_type": "code",
     "collapsed": false,
     "input": [
      "#Variable declaration\n",
      "hp = 5.0       #Power rating of motor(hp)\n",
      "V = 220.0      #Voltage rating of motor(V)\n",
      "Va_a = 180.0   #Armature voltage(V)\n",
      "Va_b = 240.0   #Armature voltage(V)\n",
      "\n",
      "#Calculation\n",
      "I1 = 27.0              #Current(A). From Appendix A-3 table for 180V\n",
      "I_L1 = I1*(Va_a/V)     #Full load current(A)\n",
      "I2 = 20.0              #Current(A). From Appendix A-3 table for 240V\n",
      "I_L2 = I2*(Va_b/V)     #Full load current(A)\n",
      "\n",
      "#Result\n",
      "print('Case(a): Full-load current for armature voltage of 180 V , I_L1 = %.f A' %I_L1)\n",
      "print('Case(b): Full-load current for armature voltage of 240 V , I_L2 = %.f A' %I_L2)"
     ],
     "language": "python",
     "metadata": {},
     "outputs": [
      {
       "output_type": "stream",
       "stream": "stdout",
       "text": [
        "Case(a): Full-load current for armature voltage of 180 V , I_L1 = 22 A\n",
        "Case(b): Full-load current for armature voltage of 240 V , I_L2 = 22 A\n"
       ]
      }
     ],
     "prompt_number": 1
    },
    {
     "cell_type": "heading",
     "level": 2,
     "metadata": {},
     "source": [
      "Example 2, Page number 594"
     ]
    },
    {
     "cell_type": "code",
     "collapsed": false,
     "input": [
      "#Variable declaration\n",
      "hp = 10.0      #Power rating of motor(hp)\n",
      "V = 600.0      #Voltage rating of motor(V)\n",
      "Va = 550.0     #Armature voltage(V)\n",
      "\n",
      "#Calculation\n",
      "I = 16.0              #Current(A). From Appendix A-3 table for 550 V\n",
      "I_L = I*(Va/V)        #Full load current(A)\n",
      "\n",
      "#Result\n",
      "print('Line current at rated load , I_L = %.1f A' %I_L)"
     ],
     "language": "python",
     "metadata": {},
     "outputs": [
      {
       "output_type": "stream",
       "stream": "stdout",
       "text": [
        "Line current at rated load , I_L = 14.7 A\n"
       ]
      }
     ],
     "prompt_number": 1
    }
   ],
   "metadata": {}
  }
 ]
}