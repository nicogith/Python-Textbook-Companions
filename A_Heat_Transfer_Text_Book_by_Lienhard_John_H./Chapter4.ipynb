{
 "metadata": {
  "name": ""
 },
 "nbformat": 3,
 "nbformat_minor": 0,
 "worksheets": [
  {
   "cells": [
    {
     "cell_type": "heading",
     "level": 1,
     "metadata": {},
     "source": [
      "Chapter 4: Analysis of heat conduction and some steady one-dimensional problems"
     ]
    },
    {
     "cell_type": "heading",
     "level": 3,
     "metadata": {},
     "source": [
      "Example 4.8, Page number: 172"
     ]
    },
    {
     "cell_type": "code",
     "collapsed": false,
     "input": [
      "from __future__ import division\n",
      "import math\n",
      "\n",
      "#Variables\n",
      "d=0.02;                                    #diameter  of  alluminium  rod,m\n",
      "k=205;                                     #thermal  conductivity  of  rod,W/(m.K)\n",
      "l=0.08;                                    #length  of  rod,  m\n",
      "T1=423;                                    #wall  temperature,  K\n",
      "T2=299;                                    #air  temperatutre,  K\n",
      "h=120;                                     #convective  coefficient,  W/(m**2*K)\n",
      "\n",
      "#Calculations\n",
      "mL=math.sqrt(h*(math.pow(l,2))/(k*d/4));   #  formula  for  mL=((h*Perimeter*l**2)/(k*Area))**0.5\n",
      "Bi=h*l/k                                   #Biot no.\n",
      "a1=(math.cosh(0)+(Bi/mL)*math.sinh(0))/(math.cosh(mL)+(Bi/mL)*math.sinh(mL));#formula  for  temperature  difference  T-Ttip\n",
      "Ttip1=T2+a1*(T1-T2);                       #  exact  tip  temperature, C\n",
      "Tt1=Ttip1-273;                             #Exact tip temp., K\n",
      "a2=(math.cosh(0)+(Bi/mL)*math.sinh(0))/(math.cosh(mL));#dimensionless temp. at tip if  heat  transfer  from  the  tip  is  not  considered\n",
      "Ttip2=T2+a2*(T1-T2);                       #Approximate tip temp., K\n",
      "Tt2=Ttip2-273;                             #Approximate tip temp., C\n",
      "\n",
      "#Results\n",
      "print \"The exact tip temperature is :\",round(Tt1,3),\"C\\n\"\n",
      "print \"Approximate tip temperature is : \",round(Tt2,3),\" C\\n\"\n",
      "print \"Thus the insulated tip approximation is adequate for the computation in this case.\"\n",
      "\n"
     ],
     "language": "python",
     "metadata": {},
     "outputs": [
      {
       "output_type": "stream",
       "stream": "stdout",
       "text": [
        "The exact tip temperature is : 111.428 C\n",
        "\n",
        "Approximate tip temperature is :  114.659  C\n",
        "\n",
        "Thus the insulated tip approximation is adequate for the computation in this case.\n"
       ]
      }
     ],
     "prompt_number": 1
    },
    {
     "cell_type": "heading",
     "level": 3,
     "metadata": {},
     "source": [
      "Example 4.9, Page number: 174"
     ]
    },
    {
     "cell_type": "code",
     "collapsed": false,
     "input": [
      "from __future__ import division\n",
      "import math\n",
      "\n",
      "#Variables\n",
      "T1=423;                                      #wall  temperature,  K\n",
      "d=0.02;                                      #diameter  of  alluminium  rod,m\n",
      "k=205;                                       #thermal  conductivity  of  rod,W/(m.K)\n",
      "l=0.08;                                      #length  of  rod,  m\n",
      "T2=299;                                      #air  temperatutre,  K  \n",
      "h=120;                                       #convective  coefficient,  W/(m**2*K)\n",
      "mL=0.8656;\n",
      "\n",
      "#Calculations\n",
      "mr=mL*(d/(2*l));                             #  by  looking  at  graph  of  1-Qact/Q(no  temp.depression)  vs.  mr*math.tanh(mL),  we  can  find  out  the  value  of  Troot.  1-Qact./Q(no  temp.  depression)  =  0.05  so  heat  flow  is  reduced  by  5  percent\n",
      "Troot=T1-(T1-T2)*0.05;                       #Actual temperature of root, K (0.05 is from graph)\n",
      "Tr=Troot-273;                                #Actual temperature of root, \u00b0C\n",
      "\n",
      "#Results\n",
      "print \"Actual temperature of root is :\",Tr,\"C , the correction is modest in this \\n\"\n",
      "\n"
     ],
     "language": "python",
     "metadata": {},
     "outputs": [
      {
       "output_type": "stream",
       "stream": "stdout",
       "text": [
        "Actual temperature of root is : 143.8 C , the correction is modest in this \n",
        "\n"
       ]
      }
     ],
     "prompt_number": 2
    },
    {
     "cell_type": "heading",
     "level": 3,
     "metadata": {},
     "source": [
      "Example 4.10, Page number: 178"
     ]
    },
    {
     "cell_type": "code",
     "collapsed": false,
     "input": [
      "from __future__ import division\n",
      "import math\n",
      "\n",
      "#Variables\n",
      "T1=308;                                    #air  temperature,  K\n",
      "Q=0.1;                                     #  heat  transferred,W\n",
      "k=16;                                      #thermal  conductivity  of  wires,  W/(m*K)\n",
      "d=0.00062;                                 #diameter  of  wire,m\n",
      "Heff=23;                                   #convection  coefficient,  W/(m**2*K)\n",
      "A=1.33*math.pow(10,-4);                    #Aera of resistor surface, m^2 (from example 2.8)\n",
      "#the  wires  act  actn  as  very  long  fins  connected  to  ressistor  hence  math.tanh(mL)=1\n",
      "\n",
      "#Calculations\n",
      "R1=1/math.sqrt(k*Heff*math.pow(math.pi,2)*math.pow(d,3)/4);       #Fin resistance, K/W\n",
      "Req=math.pow((1/R1+1/R1+7.17*A+13*A),-1);   #the  2  thermal  ressistances  are  in  parallel  to  the  thermal  ressistance  for  natural...\n",
      "#convection  and  thermal  radiation  from  the  ressistor's  surface  found  in  previous  eg.\n",
      "Tres=T1+Q*Req;                             #Resistor temperature, K\n",
      "Trs=Tres-273;                              #Resistor temperature, \u00b0C\n",
      "\n",
      "#Results  \n",
      "print \"Resistor temperature is :\",round(Trs,2),\"C or about 10 C lower than before.\\n\"\n",
      "\n"
     ],
     "language": "python",
     "metadata": {},
     "outputs": [
      {
       "output_type": "stream",
       "stream": "stdout",
       "text": [
        "Resistor temperature is : 62.68 C or about 10 C lower than before.\n",
        "\n"
       ]
      }
     ],
     "prompt_number": 11
    },
    {
     "cell_type": "heading",
     "level": 3,
     "metadata": {},
     "source": [
      "Example 4.11, Page number: 181"
     ]
    },
    {
     "cell_type": "code",
     "collapsed": false,
     "input": [
      "from __future__ import division\n",
      "import math\n",
      "\n",
      "#Variables\n",
      "D1=0.03;                                     #  outer  diameter,  m\n",
      "T1=358;                                      #hot  water  temperature,  K\n",
      "t1=0.0008;                                   #thickness  of  fins,  m\n",
      "D2=0.08;                                     #  diameter  of  fins,  m\n",
      "t2=0.02;                                     #  spacing  between  fins,  m\n",
      "h1=20;                                       #  convection  coefficient,  W/(m**2*K)\n",
      "h2=15;                                       #convection  coefficient  with  fins,  W/(m**2*K)\n",
      "To=295;                                      #surrounding  temperature,  K\n",
      "\n",
      "#Calculations\n",
      "Q=math.pi*D1*h1*(T1-To);                     #  if  fins  are  not  added.\n",
      "Q1=math.ceil(Q1);                            #heat  loss  without  fins,W/m\n",
      "#  we  set  wall  temp.=water  temp..since  the  wall  is  constantly  heated  by  water,  we  should  not  have  a  root  temp.  depression  problem  after  the  fins  are  added.hence  by  looking  at  the  graph,  ml(l/Perimeter)**0.5=(h*(D2/2-D1/2)/(125*0.025*t1))  =  0.306,  we  obtain  n(efficiency)=89  percent\n",
      "Qfin=math.ceil(Q*(t2-t1)/t2  +  0.89*(2*3.14*(math.pow(D2,2)/4-math.pow(D1,2)/4))*50*h2*(T1-To)) #Heat transferred with fins, K/W\n",
      "\n",
      "#Results\n",
      "print \"Heat trnsferred without fins is :\",Q1,\"W/m\\n\"\n",
      "print \"Heat transferred with fins is :\", round(Qfin,3),\"W/m or 4.02 times heat loss without fins.\\n\"\n",
      "\n"
     ],
     "language": "python",
     "metadata": {},
     "outputs": [
      {
       "output_type": "stream",
       "stream": "stdout",
       "text": [
        "Heat trnsferred without fins is : 199.0 W/m\n",
        "\n",
        "Heat transferred with fins is : 478.0 W/m or 4.02 times heat loss without fins.\n",
        "\n"
       ]
      }
     ],
     "prompt_number": 9
    }
   ],
   "metadata": {}
  }
 ]
}