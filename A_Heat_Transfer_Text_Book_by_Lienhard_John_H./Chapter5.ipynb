{
 "metadata": {
  "name": ""
 },
 "nbformat": 3,
 "nbformat_minor": 0,
 "worksheets": [
  {
   "cells": [
    {
     "cell_type": "heading",
     "level": 1,
     "metadata": {},
     "source": [
      "Chapter 5: Transient and multidimensional heat conduction "
     ]
    },
    {
     "cell_type": "heading",
     "level": 3,
     "metadata": {},
     "source": [
      "Example 5.2, Page number: 212"
     ]
    },
    {
     "cell_type": "code",
     "collapsed": false,
     "input": [
      "from __future__ import division\n",
      "import math\n",
      "\n",
      "#Variables\n",
      "d1=0.1;                                                                  #  diameter  of  sphere,  m\n",
      "T1=303;                                                                  #  environment  temp.,K\n",
      "T2=278;                                                                  #  fridge  temp.,  K\n",
      "h=6;                                                                     #convection  coefficient,  W/(m**2*K)\n",
      "k=0.603;                                                                 #thermal  conductivity,W/(m*K)\n",
      "a=997.6;                                                                 #  density  of  water,  kg/m**3\n",
      "c=4180;                                                                  #heat  capacity,  J/(kg*K)\n",
      "\n",
      "#Calculations\n",
      "F=(k/(a*c))*3600/(math.pow(d1,2))/4;\n",
      "a1=math.pow(h*(d1/2)/k,-1)                                              #  Biot  no.=1/2.01  therefore  we  read  from  fig.  in  upper  left  hand  corner\n",
      "Tcen=a1*(T1-T2)+T2;                                              \t\t#  temperature  of  the  center  of  apple  after  1  hour, K\n",
      "Tc=Tcen-273;                                                            #  temperature  of  the  center  of  apple  after  1  hour, \u00b0C\n",
      "F1=1.29                                                                 #Bi  is  still  1/2.01,  by  looking  at  the  graph  we  can  find  time.\n",
      "t=F1*a*c*math.pow(d1/2,2)/k-2;                                                    #Time to bring the temp equal to 283k , seconds.\n",
      "#finally  we  look  up  at  Bi=1/2.01  and  fouling  factor  is  1.29,  for  spheres  heta  removal  is  43.67  kJ  per  apple.\n",
      "x=43.67;                                                                #heat  removal  for  an  apple, kJ\n",
      "X=12*x;                                                                 #total  heat  removal,kJ\n",
      "\n",
      "#Results\n",
      "print \"Temperature after an hour is :\",Tc,\"C\\n\"\n",
      "print \"Time to bring the temp equal to 283k is :\",round(t,3),\"s or 6 hr 12 min\\n\"\n",
      "print \"Total energy removal is :\",X,\"kJ\\n\"\n",
      " #end\n"
     ],
     "language": "python",
     "metadata": {},
     "outputs": [
      {
       "output_type": "stream",
       "stream": "stdout",
       "text": [
        "Temperature after an hour is : 55.25 C\n",
        "\n",
        "Time to bring the temp equal to 283k is : 22300.068 s or 6 hr 12 min\n",
        "\n",
        "Total energy removal is : 524.04 kJ\n",
        "\n"
       ]
      }
     ],
     "prompt_number": 3
    },
    {
     "cell_type": "heading",
     "level": 3,
     "metadata": {},
     "source": [
      "Example 5.3, Page number: 215"
     ]
    },
    {
     "cell_type": "code",
     "collapsed": false,
     "input": [
      "from __future__ import division\n",
      "import math\n",
      "\n",
      "#Variables\n",
      "d1=0.001;\t\t\t\t                 #diameter  of  nichrome,  m\n",
      "h=30000;                                 #convection  coefficient  ,  W/(m**2*K)\n",
      "T1=373;                                  #  wire  temperature,  K\n",
      "k=13.8;                                  #thermal  conductivity,W/(m*K)\n",
      "a=3.43*10**-6;                           # Thermal Diffusivity, m^2/s      \n",
      "w = 2*math.pi*60;                        # Frequency of current in rad/s\n",
      "#heat  is  being  generated  in  proportion  to  product  of  voltage  and  current,  if  the  boiling  action  removes  heat  rapidly  enough  in  comparison  with  the  heat  capacity  of  the  wire,the  surface  temperature  may  well  vary.\n",
      "\n",
      "#Calculations\n",
      "Bi  = h*d1/2/k;                             #  biot  number  comes  ot  to  be  1.09  by  looking  at  the  chart  of  cylinders,  we  find  that,          (Tmax-Tav)/(Tav-To)=0.04\n",
      "phi = w*d1**2/4/a;                          # value  of  a=  w*d1**(2)/4/a1  comes  out  to  be  27.5.\n",
      "TF=0.04;                                    #  (from the charts for cylinders, Fig. 5.12)temperature  fluctuation  of  4  percent  is  not  serious  and  experiment  is  valid.\n",
      "\n",
      "#Results \n",
      "print \"Biot number: \",round(Bi,1);\n",
      "print \"Psi(\u03a8): \",round(phi,1);\n",
      "print \"The temperature fluctuation is : \", TF,\"this fluctuation is probably not serious.It therefore appears that the experiment is valid.\\n\"\n"
     ],
     "language": "python",
     "metadata": {},
     "outputs": [
      {
       "output_type": "stream",
       "stream": "stdout",
       "text": [
        "Biot number:  1.1\n",
        "Psi(\u03a8):  27.5\n",
        "The temperature fluctuation is :  0.04 this fluctuation is probably not serious.It therefore appears that the experiment is valid.\n",
        "\n"
       ]
      }
     ],
     "prompt_number": 6
    },
    {
     "cell_type": "heading",
     "level": 3,
     "metadata": {},
     "source": [
      "Example 5.4, Page number:224"
     ]
    },
    {
     "cell_type": "code",
     "collapsed": false,
     "input": [
      "from __future__ import division\n",
      "import math\n",
      "\n",
      "#Variables\n",
      "t=0.003;                                    #half  thickness  of  sword,  m\n",
      "a=1.5*math.pow(10,-5);                      #Thermal diffusivity, m^2/s\n",
      "\n",
      "#Calculations\n",
      "Tmax=math.pow(t,2)/(math.pow(3.64,2)*a);    #Maximum time for sword to be in semi infinite region, seconds\n",
      "\n",
      "#Results\n",
      "print \"Maximum time for sword to be in semi infinite region is :\",round(Tmax,4),\"s\\n\"\n",
      "print \"Thus the quench would be felt at the centerline of the sword within only 1/20 s. the thermal diffusivity of clay is smaller than that of steel by a factor of about 30, so the quench time of coated steel must continue for over 1s before the temperature of the steel is affected at all, if the clay and sword thickness are comparable\"\n",
      "\n"
     ],
     "language": "python",
     "metadata": {},
     "outputs": [
      {
       "output_type": "stream",
       "stream": "stdout",
       "text": [
        "Maximum time for sword to be in semi infinite region is : 0.0453 s\n",
        "\n",
        "Thus the quench would be felt at the centerline of the sword within only 1/20 s. the thermal diffusivity of clay is smaller than that of steel by a factor of about 30, so the quench time of coated steel must continue for over 1s before the temperature of the steel is affected at all, if the clay and sword thickness are comparable\n"
       ]
      }
     ],
     "prompt_number": 5
    },
    {
     "cell_type": "heading",
     "level": 3,
     "metadata": {},
     "source": [
      "Example 5.5, Page number:226"
     ]
    },
    {
     "cell_type": "code",
     "collapsed": false,
     "input": [
      "from __future__ import division\n",
      "import math\n",
      "\n",
      "#Variables\n",
      "Tburn=65;                                     #Skin threshold, C\n",
      "Tbody=37;                                     #Body temp, C\n",
      "Tflame=800;                                   #Flame temp, C\n",
      "h=100;                                        #convective  heat  transfer  coefficient,  W/(m**2*K)\n",
      "k=0.63;                                       #  thermal  conductivity,W/(m*K)\n",
      "#the  short  exposure  to  the  flame  causes  only  a  very  superficial  heating,so  we  consider  the  finger  to  be  semi-infinite  region.it  turns  out  that  the  burn  threshold  of  human  skin,Tburn  is  about  65  C.  h=100  W/(m**2*K),  we  shall  assume  that  the  thermal  conductivity  of  human  flesh  equals  that  of  its  major  component  -  water  and  that  the  thermal  diffusivity  is  equal  to  the  known  value  for  beef.\n",
      "#  a=0.963,  BE=h*x/k=0(since  x=0  at  the  surface)\n",
      "#  b**2=(h**2)*(0.135*10**-6)*t/(k**2)=0.0034*t.  On  solving  error  function  by  trial  and  error  method,  we  get  the  value  of  t=0.33  sec.\n",
      "\n",
      "#Calculations\n",
      "a=(Tburn-Tflame)/(Tbody-Tflame);\n",
      "beta=(1-a)*(math.sqrt(math.pi))/2;\n",
      "#  from fig. 5.16,  it  would  require  about  1/3  se  to  bring  the  skin  to  burn  point.\n",
      "\n",
      "#Results\n",
      "print \"It would require about 1/3 sec to bring the skin to burn point\"\n",
      "\n",
      "\n"
     ],
     "language": "python",
     "metadata": {},
     "outputs": [
      {
       "output_type": "stream",
       "stream": "stdout",
       "text": [
        "It would require about 1/3 sec to bring the skin to burn point\n"
       ]
      }
     ],
     "prompt_number": 10
    },
    {
     "cell_type": "heading",
     "level": 3,
     "metadata": {},
     "source": [
      "Example 5.7, Page number:234"
     ]
    },
    {
     "cell_type": "code",
     "collapsed": false,
     "input": [
      "from __future__ import division\n",
      "import math\n",
      "\n",
      "#Variables\n",
      "b=0.139*math.pow(10,-6);                           #thermal  diffusivity,  m**2/s\n",
      "t=365*24*3600;                                     #seconds in a year\n",
      "min=2.356;                                         #first minima from fig 5.19\n",
      "#w=2*3.14  rad/yr  ,  a=w*t=0  at  present.first  we  find  the  depths  at  which  a=0  curve  reaches  its  local  extrema.(we  pick  the  a=0  curve  because  it)  gives  the  highest  temperature  at  t=o.).tan(o-e)=1  so  e=3%pi/4,  7%pi/4....and  the  first  minima  occurs  where  e=3%pi/4=2.356.\n",
      "\n",
      "#Calculations\n",
      "x=min/math.sqrt((2*math.pi/(2*b*t)));  #depth  of  digging  of  earth  to  find  the  temperature  wave, m\n",
      "\n",
      "#Results\n",
      "print \"Depth of digging of earth is :\",round(x,3),\" m, if we dug in the earth, we would find it growing older until it reached a maximum coldness at a depth of about 2.8 m.Farther down, it would begin to warm up again, but nt much. in midwinter, the reverse would be true \\n\"\n"
     ],
     "language": "python",
     "metadata": {},
     "outputs": [
      {
       "output_type": "stream",
       "stream": "stdout",
       "text": [
        "Depth of digging of earth is : 2.783  m, if we dug in the earth, we would find it growing older until it reached a maximum coldness at a depth of about 2.8 m.Farther down, it would begin to warm up again, but nt much. in midwinter, the reverse would be true \n",
        "\n"
       ]
      }
     ],
     "prompt_number": 14
    },
    {
     "cell_type": "heading",
     "level": 3,
     "metadata": {},
     "source": [
      "Example 5.8, Page number:240"
     ]
    },
    {
     "cell_type": "code",
     "collapsed": false,
     "input": [
      "from __future__ import division\n",
      "import math\n",
      "\n",
      "#Variables\n",
      "l=0.08;                                            #distance  between  metal  walls,m\n",
      "k=0.12;                                            #thermal  conductivity  of  insulating  material,  w/(m*K)\n",
      "l1=0.04;                                           #length  of  ribs,m\n",
      "l2=0.14;                                           #projected  legth  of  wall,m\n",
      "T1=40;                                             #temperature  of  1st  wall,C\n",
      "T2=0;                                              #temperature  of  wall,  C\n",
      "hc=6.15;                                           #Heat flow channels\n",
      "ii=5.6;                                            #Isothermal increments\n",
      "\n",
      "#Calculations\n",
      "#by  looking  at  the  configuration  plot,  there  are  approximately  5.6  isothermal  increments  and  6.15  flow  channels.\n",
      "Q=2*(hc/ii)*k*(T1-T2);                            #factor  of  2  accounts  for  the  fact  that  there  are  two  halves  in  the  section.\n",
      "T=2.1/ii*(T1-T2);                                 #(using proportionality and fig 5.23)Temperature in the middle of of wall, 2 cm from a rib, \u00b0C\n",
      "\n",
      "#Results\n",
      "print \"Temperature in the middle of of wall, 2 cm from a rib is :\",T,\"C\\n\"\n"
     ],
     "language": "python",
     "metadata": {},
     "outputs": [
      {
       "output_type": "stream",
       "stream": "stdout",
       "text": [
        "Temperature in the middle of of wall, 2 cm from a rib is : 15.0 C\n",
        "\n"
       ]
      }
     ],
     "prompt_number": 15
    },
    {
     "cell_type": "heading",
     "level": 3,
     "metadata": {},
     "source": [
      "Example 5.9, Page number:242"
     ]
    },
    {
     "cell_type": "code",
     "collapsed": false,
     "input": [
      "from __future__ import division\n",
      "import math\n",
      "\n",
      "#Variables\n",
      "r=3;                             #  radius  ratio  of  one-quarter  section  of  cylinder\n",
      "\n",
      "#Calculations\n",
      "S=math.pi/(2*math.log(r));       #  shape  factor\n",
      "\n",
      "#Results\n",
      "print \"Shape factor is :\",round(S,3),\"\\nThe quarter cylinder will be pictured for the radius ratio of 3, but for the different sizes, in both the cases it will be 1.43.\\n\"\n"
     ],
     "language": "python",
     "metadata": {},
     "outputs": [
      {
       "output_type": "stream",
       "stream": "stdout",
       "text": [
        "Shape factor is : 1.43 \n",
        "The quarter cylinder will be pictured for the radius ratio of 3, but for the different sizes, in both the cases it will be 1.43.\n",
        "\n"
       ]
      }
     ],
     "prompt_number": 4
    },
    {
     "cell_type": "heading",
     "level": 3,
     "metadata": {},
     "source": [
      "Example 5.11, Page number:244"
     ]
    },
    {
     "cell_type": "code",
     "collapsed": false,
     "input": [
      "from __future__ import division\n",
      "import math\n",
      "\n",
      "#Variables\n",
      "Q=14;                                  #steady  heat  transfer,W\n",
      "D=0.06;                                #diameter  of  heat  source,m\n",
      "l=0.3;                                 #  length  of  source  below  surface  ,m\n",
      "T=308;                                 #temperature  of  heat  source,K\n",
      "T1=294;                                #temperature  of  surface,K\n",
      "\n",
      "#Calculations\n",
      "k=(Q/(T-T1))*(1-(D/2)/(D*10))/(4*3.14*D/2)+0.025;#  thermal  conductivity  of  soil, W/m.K\n",
      "\n",
      "#Results\n",
      "print \"Thermal conductivity is :\",round(k,3),\"W/(m*K)\\n\"\n"
     ],
     "language": "python",
     "metadata": {},
     "outputs": [
      {
       "output_type": "stream",
       "stream": "stdout",
       "text": [
        "Thermal conductivity is : 2.546 W/(m*K)\n",
        "\n"
       ]
      }
     ],
     "prompt_number": 3
    },
    {
     "cell_type": "heading",
     "level": 3,
     "metadata": {},
     "source": [
      "Example 5.12, Page number:250"
     ]
    },
    {
     "cell_type": "code",
     "collapsed": false,
     "input": [
      "from __future__ import division\n",
      "import math\n",
      "\n",
      "#Variables\n",
      "l=0.04;                                         #  length  of  square  rod,  m\n",
      "T1=373;                                         #  temerature  of  rod,  K\n",
      "T2=293;                                         #  temperature  of  coolant,K\n",
      "h=800;                                          #convective  heat  transfer  coefficient,  W/(m**2*K)\n",
      "a1=0.93;                                        #  ratio  of  temperature  difference  for  Fo1=0.565,  Bi1=0.2105,  (x/l)1=0\n",
      "a2=0.91;                                        #  ratio  of  temperature  difference  for  Fo2=0.565,  Bi2=0.2105,  (x/l)2=0.5\n",
      "\n",
      "#Calculations\n",
      "a=a1*a2;                                        #ratio  of  temperature  difference  at  the  axial  line  of  interest\n",
      "T=(T1-T2)*a+T2;                                 #temperature  on  a  line  1  cm.  from  one  side  and  2  cm.  from  the  adjoining  side  after  10  sec. in K\n",
      "Ta=T-273;                                       #in \u00b0C\n",
      "\n",
      "#Results\n",
      "print \"Temperature is : \",Ta,\"C\\n\"\n"
     ],
     "language": "python",
     "metadata": {},
     "outputs": [
      {
       "output_type": "stream",
       "stream": "stdout",
       "text": [
        "Temperature is :  87.704 C\n",
        "\n"
       ]
      }
     ],
     "prompt_number": 2
    },
    {
     "cell_type": "heading",
     "level": 3,
     "metadata": {},
     "source": [
      "Example 5.13, Page number: 251"
     ]
    },
    {
     "cell_type": "code",
     "collapsed": false,
     "input": [
      "from __future__ import division\n",
      "import math\n",
      "\n",
      "#Variables\n",
      "T1=373;                             #  temperature  of  iron  rod,K\n",
      "T2=293;                             #  temperature  of  coolant,K\n",
      "#Biot  no.,  Bi1=Bi2=0.2105,Fo1=Fo2=0.565  \n",
      "a1=0.10;                            #Fin effectiveness\n",
      "a2=0.10;                            #Fin effectiveness\n",
      "\n",
      "#Calculations\n",
      "a=a1+a2*(1-a1);                    \n",
      "T=(T1-T2)*(1-a)+T2;                #mean  temperature,K\n",
      "Ta=T-273;                          #mean temperature in \u00b0C\n",
      "\n",
      "#Results\n",
      "print \"Mean temperature is :\",Ta,\"C\\n\"\n"
     ],
     "language": "python",
     "metadata": {},
     "outputs": [
      {
       "output_type": "stream",
       "stream": "stdout",
       "text": [
        "Mean temperature is : 84.8 C\n",
        "\n"
       ]
      }
     ],
     "prompt_number": 1
    }
   ],
   "metadata": {}
  }
 ]
}