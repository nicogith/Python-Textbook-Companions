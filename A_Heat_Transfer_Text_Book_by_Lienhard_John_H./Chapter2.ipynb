{
 "metadata": {
  "name": ""
 },
 "nbformat": 3,
 "nbformat_minor": 0,
 "worksheets": [
  {
   "cells": [
    {
     "cell_type": "heading",
     "level": 1,
     "metadata": {},
     "source": [
      "Chapter 2: Heat conduction concepts, thermal resistance, and the overall heat transfer coefficient "
     ]
    },
    {
     "cell_type": "heading",
     "level": 3,
     "metadata": {},
     "source": [
      "Example 2.3, Page number: 64"
     ]
    },
    {
     "cell_type": "code",
     "collapsed": false,
     "input": [
      "from __future__ import division\n",
      "\n",
      "#Variables\n",
      "l=1;                                          #  tube  length,  m\n",
      "m=0.01;                                       #  mass  fraction\n",
      "D12=2.84*10**-5;                              #  diffusivity,  m**2/s\n",
      "a=1.18;                                       #  density,  kg/m**3\n",
      "\n",
      "#Calculations\n",
      "J=a*D12*m/l;\t\t\t\t\t\t\t\t  #steady  state  flux  of  water  from  one  side  to  the  other,kg/(m**2*s)\n",
      "\n",
      "#Results\n",
      "print \"Steady flux of water is\",J,\"kg/(m^2*s)\"\n"
     ],
     "language": "python",
     "metadata": {},
     "outputs": [
      {
       "output_type": "stream",
       "stream": "stdout",
       "text": [
        "Steady flux of water is 3.3512e-07 kg/(m^2*s)\n"
       ]
      }
     ],
     "prompt_number": 1
    },
    {
     "cell_type": "heading",
     "level": 3,
     "metadata": {},
     "source": [
      "Example 2.7, Page number: 72"
     ]
    },
    {
     "cell_type": "code",
     "collapsed": false,
     "input": [
      "from __future__ import division\n",
      "import math\n",
      "\n",
      "#Variables\n",
      "h=20;                                  #convective  heat  transfer  coefficient,  W/(m**2*K)\n",
      "k=0.074;                               #thermal  conductivity,  J/(m*K)\n",
      "\n",
      "#Calculations\n",
      "Ro=k/h;                                #  formula  for  critical  thickness  of  insulation, m.\n",
      "\n",
      "#Results\n",
      "print \"Critical thickness of insulation is :\",Ro,\"m\\n\"\n",
      "print \"Insulation will not even start to do any good until ratio of outer radius and inner radius is 2.32 or outer radius is  0.0058 m.\"\n"
     ],
     "language": "python",
     "metadata": {},
     "outputs": [
      {
       "output_type": "stream",
       "stream": "stdout",
       "text": [
        "Critical thickness of insulation is : 0.0037 m\n",
        "\n",
        "Insulation will not even start to do any good until ratio of outer radius and inner radius is 2.32 or outer radius is  0.0058 m.\n"
       ]
      }
     ],
     "prompt_number": 3
    },
    {
     "cell_type": "heading",
     "level": 3,
     "metadata": {},
     "source": [
      "Example 2.8, Page number: 76"
     ]
    },
    {
     "cell_type": "code",
     "collapsed": false,
     "input": [
      "from __future__ import division\n",
      "import math\n",
      "\n",
      "#Variables\n",
      "P=0.1;                                               #dissipating  power,W\n",
      "D=0.0036;                                            #outer  diameter  of  cylinder,  m\n",
      "l=0.01;                                              #length  of  cylinder,  m\n",
      "T=308;                                               #temperature  of  air  in  the  cabinet,K\n",
      "Test=323;                                            #Estimated temp of resistor, K\n",
      "h=13;                                                #convection  coefficient,  W/(m**2*K)\n",
      "e=0.9;\t\t\t\t\t\t                         #emmisivity\n",
      "A=1.33*math.pow(10,-4);                              #area  of  ressistor's  surface,  m**2\n",
      "sigma=5.67*math.pow(10,-8);                          #Stefan-Boltzmann constant, Wm**-2K**-4\n",
      "\n",
      "#Calculations\n",
      "Tm=(T+Test)/2;                                       #ressistor's  temperature  at  50  K\n",
      "Hr=4*sigma*math.pow(Tm,3)*e;                         #radiative  heat  transfer  coefficient,W/(m**2*K)\n",
      "Rteq=1/(A*(Hr+h));                                   #Equivalent thermal resistance K/W\n",
      "Tres=T+P*Rteq;                                       #Resistor's temp. C\n",
      "#we  guessed  a  ressistor's  temperature  of  323K  in  finding  Hr,recomputing  with  this  higher  temperature,\n",
      "#we  have  Tm=327K  and  Hr=7.17W/(m**2*K).  if  we  repeat  the  rest  of  calculations,  we  get  a  new  value  Tres=345.3K,\n",
      "#since  the  use  of  hr  is  an  approximation,  we  should  check  its  applicability:  1/4*((345.3-308)/327)**2=0.00325<<1,\n",
      "#in  this  case,  the  approximation  is  a  very  good  one.\n",
      "Tr=Tres-273.06;                                      #Resistor's temp. , K\n",
      "\n",
      "#Results\n",
      "print \"Temperature of ressistor is :\",round(Tr,3),\"K\\n\"\n",
      "print \"Since 1/4*(temperature diffference/mean temperature)= 1/4*((72.3-35)/327)^2=0.00325<<1, in this case, the approximation is a very good one.\"\n"
     ],
     "language": "python",
     "metadata": {},
     "outputs": [
      {
       "output_type": "stream",
       "stream": "stdout",
       "text": [
        "Temperature of ressistor is : 73.676 K\n",
        "\n",
        "Since 1/4*(temperature diffference/mean temperature)= 1/4*((72.3-35)/327)^2=0.00325<<1, in this case, the approximation is a very good one.\n"
       ]
      }
     ],
     "prompt_number": 2
    },
    {
     "cell_type": "heading",
     "level": 3,
     "metadata": {},
     "source": [
      "Example 2.9, Page number: 77"
     ]
    },
    {
     "cell_type": "code",
     "collapsed": false,
     "input": [
      "from __future__ import division\n",
      "import math\n",
      "\n",
      "#Variables\n",
      "k=10;                                         #thermal  conductivity  of  ressistor,  W/(m*K)\n",
      "a=2000;                                       #density  of  ressistor,  kg/m**3\n",
      "l=0.01;                                       #length  of  cylinder,  m\n",
      "A=1.33*math.pow(10,-4);                       #area  of  ressistor's  surface,  m**2\n",
      "T1=308;                                       #temperature  of  air  in  the  cabinet,K\n",
      "Cp=700;                                       #heat  capacity  of  ressistor,  J/kg/K\n",
      "Heff=18.44;                                   #the  effective  heat    transfer  coefficient  of  parallel  convection  and  radiation  process,    W/(m**2*K)\n",
      "D=0.0036;                                     #outer  diameter  of  cylinder,  m\n",
      "\n",
      "#Calculations\n",
      "Bi=Heff*(D/2)/k;                              #Biot no.\n",
      "T=a*Cp*math.pi*l*math.pow(D,2)/(4*Heff*A);    #since  from  previous  example,To=72.3C,  we  have  Tres=T1+(To-T)*exp(-t/T),Tres=308+(37.3)*.exp(-t/T).  95%  of  the  temperature  drop  has  occured  when  t=T*3=174s.\n",
      "t=3*T;                                        #Time for 95 percent cooling of ressistor, seconds.\n",
      "\n",
      "#Results\n",
      "print \"Time for 95 percent cooling of ressistor is :\",t,\"s\\n\"\n"
     ],
     "language": "python",
     "metadata": {},
     "outputs": [
      {
       "output_type": "stream",
       "stream": "stdout",
       "text": [
        "Time for 95 percent cooling of ressistor is : 174.313737829 s\n",
        "\n"
       ]
      }
     ],
     "prompt_number": 4
    },
    {
     "cell_type": "heading",
     "level": 3,
     "metadata": {},
     "source": [
      "Example 2.10, Page number: 79"
     ]
    },
    {
     "cell_type": "code",
     "collapsed": false,
     "input": [
      "from __future__ import division\n",
      "import math\n",
      "\n",
      "#Variables\n",
      "h1=200;                              #convective  heat  transfer  coefficient,  W/(m**2*K)\n",
      "a=1/160000;                          #1/a=l/Kal,  l=0.001m,  Kal=160  W/(m*K)\n",
      "h2=5000;                             #convective  heat  transfer  coefficient  during  boiling,W/(m**2*K)\n",
      "\n",
      "#Calculations\n",
      "U=1/(1/h1+a+1/h2);   \t\t\t\t #Overall heat transfer coefficient,W/(m^2*K) \n",
      "\n",
      "#Results\n",
      "print \"Overall heat transfer coefficient is :\",round(U,3),\"W/(m^2*K)\\n\"\n"
     ],
     "language": "python",
     "metadata": {},
     "outputs": [
      {
       "output_type": "stream",
       "stream": "stdout",
       "text": [
        "Overall heat transfer coefficient is : 192.077 W/(m^2*K)\n",
        "\n"
       ]
      }
     ],
     "prompt_number": 6
    },
    {
     "cell_type": "heading",
     "level": 3,
     "metadata": {},
     "source": [
      "Example 2.12, Page number: 85"
     ]
    },
    {
     "cell_type": "code",
     "collapsed": false,
     "input": [
      "from __future__ import division\n",
      "import math\n",
      "\n",
      "#Variables\n",
      "Rf=0.0005;                            #fouling  ressistance,m**2*K/W\n",
      "U=5;                                  #heat  transfer  coefficient,W/(m**2*K)\n",
      "\n",
      "#Calculations\n",
      "Ucor=(U*Rf+1)/(U);\t\t\t\t\t  #Corrected heat transfer coefficient, W/m^2.K\n",
      "\n",
      "#Results\n",
      "print \"Corrected heat transfer coefficient is :\", Ucor,\"W/(m^2*K)\\n Therefore the fouling is entirely irrelevant to domestic heat holds.\"\n",
      "\n"
     ],
     "language": "python",
     "metadata": {},
     "outputs": [
      {
       "output_type": "stream",
       "stream": "stdout",
       "text": [
        "Corrected heat transfer coefficient is : 0.2005 W/(m^2*K)\n",
        " Therefore the fouling is entirely irrelevant to domestic heat holds.\n"
       ]
      }
     ],
     "prompt_number": 7
    },
    {
     "cell_type": "heading",
     "level": 3,
     "metadata": {},
     "source": [
      "Example 2.13, Page number: 85"
     ]
    },
    {
     "cell_type": "code",
     "collapsed": false,
     "input": [
      "from __future__ import division\n",
      "\n",
      "#Variables\n",
      "U1=4000;                                       # overall  heat  transfer  coefficient  of  water  cooled  steam  condenser,  W/(m**2*K)\n",
      "Rf1=0.0006;                                    # lower  limit  of  fouling  ressistance  of  water  side,  m**2*K/W\n",
      "Rf2=0.0020;                                    # upper  limit  of  fouling  ressistance  of  water  side,  m**2*K/W\n",
      "\n",
      "#Calculations\n",
      "U2=U1/(U1*Rf1+1);\t\t\t\t\t\t\t   #Upper  limit of the corrected overall heat transfer coefficient\n",
      "U3=U1/(U1*Rf2+1);\t\t\t\t\t\t\t   #Lower limit of corrected overall heat transfer coefficient\n",
      "\n",
      "#Results\n",
      "print \"Upper  limit of the corrected overall heat transfer coefficient is :\",round(U2,3),\"W/(m^2*K)\\n\"\n",
      "print \"Lower limit of corrected overall heat transfer coefficient is :\",round(U3,3),\"W/m^2/K, U is reduced from 4000 to between 444 and 1176 W/(m^2*K),fouling is crucial in this case and engineering was in serious error.\\n\"\n",
      " #end\n"
     ],
     "language": "python",
     "metadata": {},
     "outputs": [
      {
       "output_type": "stream",
       "stream": "stdout",
       "text": [
        "Upper  limit of the corrected overall heat transfer coefficient is : 1176.471 W/(m^2*K)\n",
        "\n",
        "Lower limit of corrected overall heat transfer coefficient is : 444.444 W/m^2/K, U is reduced from 4000 to between 444 and 1176 W/(m^2*K),fouling is crucial in this case and engineering was in serious error.\n",
        "\n"
       ]
      }
     ],
     "prompt_number": 8
    }
   ],
   "metadata": {}
  }
 ]
}