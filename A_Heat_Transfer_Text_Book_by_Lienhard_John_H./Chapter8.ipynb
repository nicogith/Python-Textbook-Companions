{
 "metadata": {
  "name": ""
 },
 "nbformat": 3,
 "nbformat_minor": 0,
 "worksheets": [
  {
   "cells": [
    {
     "cell_type": "heading",
     "level": 1,
     "metadata": {},
     "source": [
      "Chapter 8: Natural convection in singlephase fluids and during film condensation "
     ]
    },
    {
     "cell_type": "heading",
     "level": 3,
     "metadata": {},
     "source": [
      "Example 8.1, Page number: 410"
     ]
    },
    {
     "cell_type": "code",
     "collapsed": false,
     "input": [
      "from __future__ import division\n",
      "import math\n",
      "\n",
      "#Variables\n",
      "T1=313;                                              #fluid  temp.,K\n",
      "T2=287;                                              #air  temp.,K\n",
      "H=0.4;                                               #height  of  sides,m\n",
      "Pr=0.711;                                            #prandtl  no.\n",
      "b=1/T2;                                              #  b=1/v*d(R*T/p)/dt=1/To characterisation  constant  of  thermal  expansion  of  solid,  K**-1\n",
      "g=9.8;                                               #gravity constant\n",
      "nu=1.566*10**-5;                                     #dynamic viscocity, m^3/s\n",
      "\n",
      "#Calculations\n",
      "RaL=g*b*(T1-T2)*H**3/(nu*2.203*10**-5);              #Rayleigh  no.\n",
      "Nu=0.678*RaL**(0.25)*(Pr/(0.952+Pr))**(1/4);\t\t #  nusselt  no.\n",
      "h=Nu*0.02614/H                                       #  average  heat  transfer  coefficient,  W/m**2/K\n",
      "q=h*(T1-T2)                                          #  average  heat  transfer,W/m**2\n",
      "c=3.936*((0.952+Pr)/Pr**2)**(1/4)*(1/(RaL/Pr)**0.25);#boundary  layer  thickness.,m\n",
      "\n",
      "#Results\n",
      "print \"Average heat transfer coefficient is : \",round(h,3),\"W/m^2/K\\n\"\n",
      "print \"Average heat transfer is :\",round(q,3),\"W/m^2\\n\"\n",
      "print \"Boundary layer thickness is :\",round(c,4),\"m\\n\"\n",
      "print \"Thus the BL thickness at the end of the plate is only 4 percent of the height, or 1.72 cm thick.this is thicker thsan typical forced convection BL but it is still reasonably thin.\"\n"
     ],
     "language": "python",
     "metadata": {},
     "outputs": [
      {
       "output_type": "stream",
       "stream": "stdout",
       "text": [
        "Average heat transfer coefficient is :  4.059 W/m^2/K\n",
        "\n",
        "Average heat transfer is : 105.528 W/m^2\n",
        "\n",
        "Boundary layer thickness is : 0.043 m\n",
        "\n",
        "Thus the BL thickness at the end of the plate is only 4 percent of the height, or 1.72 cm thick.this is thicker thsan typical forced convection BL but it is still reasonably thin.\n"
       ]
      }
     ],
     "prompt_number": 1
    },
    {
     "cell_type": "heading",
     "level": 3,
     "metadata": {},
     "source": [
      "Example 8.3, Page number: 413"
     ]
    },
    {
     "cell_type": "code",
     "collapsed": false,
     "input": [
      "from __future__ import division\n",
      "import math\n",
      "\n",
      "#Variables\n",
      "T1=323;                                                #wall  temp.,K\n",
      "T2=293;                                                #air  temp.,K\n",
      "H=0.3;                                                 #height  of  wall,  m\n",
      "v2=2.318*10**-5;                                       #molecular  diffusivity,  m**2/s\n",
      "Pr=0.71;                                               #prandtl  no.\n",
      "\n",
      "#Calculations\n",
      "v1=16.45*10**-6;                                       #  molecular  diffusivity,  m**2/s\n",
      "b=1/T2;                                                #  b=1/v*d(R*T/p)/dt=1/To      characterisation  constant  of  thermal  expansion  of  solid,  K**-1\n",
      "Ral=9.8*b*(T1-T2)*H**3/((1.566*10**-5)*(2.203*10**-5));#  Rayleigh  no.\n",
      "Nu=0.678*Ral**(0.25)*(Pr/(0.952+Pr))**(1/4);\t\t  #  nusselt  no.\n",
      "h=Nu*0.0267/H                                         #  average  heat  transfer  coefficient,  W/m**2/K\n",
      "Nu1=0.68+0.67*((Ral)**(1/4)/(1+(0.492/Pr)**(9/16))**(4/9));#churchill  correlation  \n",
      "h1=Nu1*(0.0267/0.3)-.11;                              #average  heat  transfer  coefficient,  W/m**2/K\n",
      "   \n",
      "#Results   \n",
      "print \"Correlation average heat transfer coefficient is :\",round(h1,3),\"W/m^2/K\\n\"\n",
      "print \"The prediction is therefore within 5 percent of corelation .we should use the latter result in preference to the theoritical one, although the difference is slight.\"\n"
     ],
     "language": "python",
     "metadata": {},
     "outputs": [
      {
       "output_type": "stream",
       "stream": "stdout",
       "text": [
        "Correlation average heat transfer coefficient is : 4.259 W/m^2/K\n",
        "\n",
        "The prediction is therefore within 5 percent of corelation .we should use the latter result in preference to the theoritical one, although the difference is slight.\n"
       ]
      }
     ],
     "prompt_number": 3
    },
    {
     "cell_type": "heading",
     "level": 3,
     "metadata": {},
     "source": [
      "Example 8.4, Page number: 417"
     ]
    },
    {
     "cell_type": "code",
     "collapsed": false,
     "input": [
      "from __future__ import division\n",
      "import math\n",
      "from numpy import mat\n",
      "from numpy import array\n",
      "\n",
      "#Variables\n",
      "T1=400;                                                      #hot  oil  temp.,K\n",
      "D=0.005;                                                     #diameter  of  line  carrying  oil,  m\n",
      "T2=300;                                                      #temp.  of  air  around  the  tube,K\n",
      "Tav=350;                                                     #average  BI  temp.,K\n",
      "\n",
      "\n",
      "#Calculations & Results\n",
      "#we  evaluate  properties  at  this  temp.  and  write  g  as  ge*(g-level),  where  ge  is  g  at  the  earth  surface  and  the  g-level  is  the  fraction  of  ge  in  the  space  vehicle.\n",
      "b=1/T2;                                                      #  b=1/v*d(R*T/p)/dt=1/To      characterisation  constant  of  thermal  expansion  of  solid,  K**-1\n",
      "v1=2.062*10**-5;                                             #  molecular  diffusivity,  m**2/s\n",
      "v2=2.92*10**-5;                                              #molecular  diffusivity,  m**2/s\n",
      "Pr=0.706;                                                    #prandtl  no.\n",
      "g=array(([10**-6,  10**-5,  10**-4,  10**-2]));\n",
      "i=0;\n",
      "while i<4:\n",
      "    Ral=0;\n",
      "    Nu=0;\n",
      "    h=0;\n",
      "    Q=0;\n",
      "    Ral=(9.8*b*((T1-T2))*(D**(3))/(v1*v2))*g.item(i);\t\t#  Rayleigh  no.\n",
      "       \n",
      "    Nu=(0.6+0.387*(Ral/(1+(0.559/Pr)**(9/16))**(16/9))**(1/6))**2;\n",
      "    #Nu(i)=(0.6+0.387*((Ral)/(1+(0.559/Pr)**(9/16))**(16/9))**1/6)**2;   churchill  correlation.  \n",
      "    print \"Nusselt no. are : \",round(Nu,2),\"\\n\"\n",
      "    h=Nu*0.0297/D;                                          #  convective  heat  transfer  coefficient,W/(m**2*K)\n",
      "    print \"Convective heat transfer coefficient are : \",round(h,2),\"W/(m^2*K)\\n\"\n",
      "    Q=math.pi*D*h*(T1-T2);                                  #heat  transfer,W/m\n",
      "    print \"Heat transfer is :\",round(Q,2),\"W/m of tube\\n\"\n",
      "    i=i+1;\n",
      "\n"
     ],
     "language": "python",
     "metadata": {},
     "outputs": [
      {
       "output_type": "stream",
       "stream": "stdout",
       "text": [
        "Nusselt no. are :  0.48 \n",
        "\n",
        "Convective heat transfer coefficient are :  2.87 W/(m^2*K)\n",
        "\n",
        "Heat transfer is : 4.51 W/m of tube\n",
        "\n",
        "Nusselt no. are :  0.55 \n",
        "\n",
        "Convective heat transfer coefficient are :  3.25 W/(m^2*K)\n",
        "\n",
        "Heat transfer is : 5.11 W/m of tube\n",
        "\n",
        "Nusselt no. are :  0.65 \n",
        "\n",
        "Convective heat transfer coefficient are :  3.85 W/(m^2*K)\n",
        "\n",
        "Heat transfer is : 6.05 W/m of tube\n",
        "\n",
        "Nusselt no. are :  1.09 \n",
        "\n",
        "Convective heat transfer coefficient are :  6.45 W/(m^2*K)\n",
        "\n",
        "Heat transfer is : 10.13 W/m of tube\n",
        "\n"
       ]
      }
     ],
     "prompt_number": 4
    },
    {
     "cell_type": "heading",
     "level": 3,
     "metadata": {},
     "source": [
      "Example 8.5, Page number: 426"
     ]
    },
    {
     "cell_type": "code",
     "collapsed": false,
     "input": [
      "from __future__ import division\n",
      "import math\n",
      "\n",
      "#Variables\n",
      "T2=300;                                                           #air  temp.,K\n",
      "P=15;                                                             #delivered  power,W\n",
      "D=0.17;                                                           #diameter  of  heater,m\n",
      "v1=1.566*10**-5;                                                  #molecular  diffusivity,  m**2/s\n",
      "b=1/T2;                                                           #b=1/v*d(R*T/p)/dt=1/To characterisation  constant  of  thermal  expansion  of  solid,  K**-1\n",
      "Pr=0.71;                                                          #prandtl  no.\n",
      "v2=2.203*10**-5;                                                  #molecular  diffusivity,  m**2/s\n",
      "v3=3.231*10**-5;                                                  #molecular  diffusivity  at  a  b  except  at  365  K.,  m**2/s\n",
      "v4=2.277*10**-5;                                                  #molecular  diffusivity  at  a  b  except  at  365  K.,  m**2/s\n",
      "k1=0.02614;                                                       #thermal  conductivity\n",
      "k2=0.0314;                                                        #thermal  conductivity\n",
      "\n",
      "#Calculations\n",
      "#we  have  no  formula  for  this  situation,  so  the  problem  calls  for  some  guesswork.following  the  lead  of  churchill  and  chau,  we  replace  RaD  with  RaD1/NuD  in  eq.      \n",
      "#(NuD)**(6/5)=0.82*(RaD1)**(1/5)*Pr**0.034\n",
      "delT=1.18*P/(3.14*D**(2)/4)*(D/k1)/((9.8*b*661*D**(4)/(0.02164*v1*v2))**(1/6)*Pr**(0.028));\n",
      "#in  the  preceding  computation,  all  the  properties  were  evaluated  at  T2.mow  we  must  return  the  calculation,reevaluating  all  properties  except  b  at  365  K.\n",
      "delTc=1.18*661*(D/k2)/((9.8*b*661*D**(4)/(k2*v3*v4))**(1/6)*(0.99));\n",
      "TS=T2+delTc;\n",
      "TS1=TS-271.54\n",
      "\n",
      "#Results\n",
      "print \"Average surface temp. is :\",round(TS1,4),\"K\\n\"\n",
      "print \"That is rather hot.obviously, the cooling process is quite ineffective in this case.\"\n",
      "\n"
     ],
     "language": "python",
     "metadata": {},
     "outputs": [
      {
       "output_type": "stream",
       "stream": "stdout",
       "text": [
        "Average surface temp. is : 169.0288 K\n",
        "\n",
        "That is rather hot.obviously, the cooling process is quite ineffective in this case.\n"
       ]
      }
     ],
     "prompt_number": 5
    },
    {
     "cell_type": "heading",
     "level": 3,
     "metadata": {},
     "source": [
      "Example 8.6, Page number: 435"
     ]
    },
    {
     "cell_type": "code",
     "collapsed": false,
     "input": [
      "from __future__ import division\n",
      "import math\n",
      "\n",
      "#Variables\n",
      "T2=363;                                                # temp.  of  strip,K\n",
      "T1=373;                                                #saturated  temp.,K\n",
      "H=0.3;                                                 #height  of  strip,m\n",
      "Pr=1.86;                                               #prandtl  no.\n",
      "Hfg=2257;                                              #latent heat. kj/kg\n",
      "ja=4.211*10/Hfg;                                       #jakob no.\n",
      "a1=961.9;                                              #density of  water,kg/m**3\n",
      "a2=0.6;                                                #density of  air,kg/m**3\n",
      "k=0.677;                                               #thermal conductivity,W/(m*K)\n",
      "\n",
      "#Calculations\n",
      "Hfg1=Hfg*(1+(0.683-0.228/Pr)*ja);              \t\t   #corrected  latent  heat,kj/kg\n",
      "delta=(4*k*(T1-T2)*(2.99*10**(-4))*0.3/(a1*(a1-a2)*9.806*Hfg1*1000))**(0.25)*1000;\n",
      "Nul=4/3*H/delta;                                       #average  nusselt  no.\n",
      "q=Nul*k*(T1-T2)/H;                                     #  heat  flow  on  an  area  about  half  the  size  of  a  desktop,W/m**2\n",
      "Q=q*H;                                                 #overall  heat  transfer  per  meter,kW/m\n",
      "m=Q/(Hfg1);                                            #mass  rate  of  condensation  per  meter,kg/(m*s)\n",
      "\n",
      "#Results\n",
      "print \"Overall heat transfer per meter is :\",round(Q,4),\"kW/m^2\\n\"\n",
      "print \"Film thickness at the bottom is :\",round(delta,4),\"mm\\n\"\n",
      "print \"Mass rate of condensation per meter. is : \",round(m,4),\"kg/(m*s)\\n\"\n"
     ],
     "language": "python",
     "metadata": {},
     "outputs": [
      {
       "output_type": "stream",
       "stream": "stdout",
       "text": [
        "Overall heat transfer per meter is : 26.0118 kW/m^2\n",
        "\n",
        "Film thickness at the bottom is : 0.1041 mm\n",
        "\n",
        "Mass rate of condensation per meter. is :  0.0114 kg/(m*s)\n",
        "\n"
       ]
      }
     ],
     "prompt_number": 6
    }
   ],
   "metadata": {}
  }
 ]
}