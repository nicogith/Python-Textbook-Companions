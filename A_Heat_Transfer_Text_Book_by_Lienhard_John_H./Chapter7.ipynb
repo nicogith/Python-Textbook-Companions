{
 "metadata": {
  "name": ""
 },
 "nbformat": 3,
 "nbformat_minor": 0,
 "worksheets": [
  {
   "cells": [
    {
     "cell_type": "heading",
     "level": 1,
     "metadata": {},
     "source": [
      "Chapter 7: Forced convection in a variety of configurations "
     ]
    },
    {
     "cell_type": "heading",
     "level": 3,
     "metadata": {},
     "source": [
      "Example 7.1, Page number: 350"
     ]
    },
    {
     "cell_type": "code",
     "collapsed": false,
     "input": [
      "from __future__ import division\n",
      "import math\n",
      "\n",
      "#Variables\n",
      "D=0.001;                                      #diameter  of  tube,m\n",
      "T1=293;                                       #temperature  of  cold  water,  K\n",
      "T2=347;                                       #temperature  of  hot  water,  K\n",
      "T3=320;                                       #operating  temperature  of  hot  water,  K\n",
      "Q=6000;                                       #heat  flux,W/m**2\n",
      "v=0.2  ;                                      #speed  of  water,m/s\n",
      "k=0.6367;                                     #thermal  conductivity,W/(m*K)\n",
      "\n",
      "#Calculations\n",
      "v1=1.541*10**-7;                              #  molecular  diffusivity,  m**2/s\n",
      "v2=0.556*10**-6;                              #molecular  diffusivity,  m**2/s\n",
      "Re=D*v/v2;                                    #reynolds  no.\n",
      "L=D*(54-11/48*Q*D/k)*v*k/(4*Q*v1);            #length  that  is  down  the  tube  for  water  reach  to  74  C  at  its  hottest  point,m\n",
      "\n",
      "#Results\n",
      "print \"Length that is down the tube for water reach to 74 C at its hottest point is :\",round(L,3),\"m ,while we did not evaluate the thermal entry length here, it may be shown to be much, much less than 1785 diametres.\\n\"\n"
     ],
     "language": "python",
     "metadata": {},
     "outputs": [
      {
       "output_type": "stream",
       "stream": "stdout",
       "text": [
        "Length that is down the tube for water reach to 74 C at its hottest point is : 1.785 m ,while we did not evaluate the thermal entry length here, it may be shown to be much, much less than 1785 diametres.\n",
        "\n"
       ]
      }
     ],
     "prompt_number": 7
    },
    {
     "cell_type": "heading",
     "level": 3,
     "metadata": {},
     "source": [
      "Example 7.2, Page number: 354"
     ]
    },
    {
     "cell_type": "code",
     "collapsed": false,
     "input": [
      "from __future__ import division\n",
      "import math\n",
      "\n",
      "#Variables\n",
      "T1 = 300;                                     #  air  temp.,K\n",
      "T2=313;                                       #  final  air  temp.,K\n",
      "v=2;                                          #  air  velocity,m/s\n",
      "D=0.01;                                       #  inner  diameter  of  pipe,m\n",
      "l=0.2;                                        #  length  surrounded  by  heater\n",
      "nu=16.4*10**-6;                               #  Dynamic viscocity, m^2/s\n",
      "Pr=0.711;                                     #  prandtl  no.\n",
      "Cp=1004;                                      #  Specific heat, J/kg.K\n",
      "k=0.0266;                                     #  thermal  conductivity ,W/(m.K)\n",
      "\n",
      "#Calculations\n",
      "Red=v*D/(nu);                                 #  reynolds  no.\n",
      "G=Red*Pr*D/l;                                 #  graetz  no.\n",
      "Q=1.159*Cp*v*(T2-T1)*(1/80);                  #  power  input,  W/m**2\n",
      "Tex=T2+Q*D/(5.05*k)                      #  wall  temp.  at  the  exit,K\n",
      "Tex1=Tex-273;\n",
      "\n",
      "#Results\n",
      "print \"Power input is :\",Q,\"W/m^2\\n\"\n",
      "print \"Wall temp. at the exit is:\",round(Tex1,3),\" C\\n\"\n"
     ],
     "language": "python",
     "metadata": {},
     "outputs": [
      {
       "output_type": "stream",
       "stream": "stdout",
       "text": [
        "Power input is : 378.1817 W/m^2\n",
        "\n",
        "Wall temp. at the exit is: 68.153  C\n",
        "\n"
       ]
      }
     ],
     "prompt_number": 2
    },
    {
     "cell_type": "heading",
     "level": 3,
     "metadata": {},
     "source": [
      "Example 7.3, Page number: 362"
     ]
    },
    {
     "cell_type": "code",
     "collapsed": false,
     "input": [
      "from __future__ import division\n",
      "import math\n",
      "\n",
      "#Variables\n",
      "m=21.5;                                            #mass  flow  rate,  kg/s\n",
      "D=0.12;                                            #diameter  of  pipe,  m\n",
      "T1=363;                                            #pipe  temperature,K\n",
      "T2=323;                                            #bulk  temp.  of  fluid,K\n",
      "a=977;                                             #density,  kg/m**3\n",
      "Uw=3.1*10**-4;                                     #wall  side  viscosity,N*s/m**2\n",
      "Ub=5.38*10**-4;                                    #bulk  viscosity,  N*s/m**2\n",
      "Pr=2.47;                                           #prandtl  no.\n",
      "nu=4.07*10**-7;                                    #dynamic viscocity, m^2/s\n",
      "k=0.661;                                           #thermal  conductivity ,W/(m.K)\n",
      "\n",
      "#Calculations\n",
      "rt=Ub/Uw;                                          #Ration of bulk and wall side viscocities\n",
      "u=m/(a*math.pi*(D/2)**2);                          #average  velocity,m/s\n",
      "Re=u*D/(nu);                                       #reynolds  no.\n",
      "f=1/(1.82/2.303*math.log(Re)-1.64)**2;             #formula  for  friction  factor  for  smooth  pipes\n",
      "Nu=(f/8*Re*Pr)/(1.07+12.7*math.sqrt(f/8)*(Pr**(2/3)-1))*rt**0.11;#formula  for  nusselt  no.in  fully  developed  flow  in  smooth  pipes\n",
      "h=Nu*k/D                                           #  convective  heat  transfer  coefficient,W/(m**2)/K\n",
      "#corrected  friction  factor  =  friction  factor  at  bulk  temp.*K  where  K=(7-u1/u2)/6  for  wall  temp.>bulk  temp.\n",
      "f1=f*((7-rt)/6);                                   #corrected  friction  factor\n",
      "\n",
      "#Results\n",
      "print \"Correlation friction factor. is :\",round(f1,4),\"\\n\"\n",
      "print \"Convection heat transfer coefficient is :\",round(h,1),\"W/(m^2)/K \\n\"\n"
     ],
     "language": "python",
     "metadata": {},
     "outputs": [
      {
       "output_type": "stream",
       "stream": "stdout",
       "text": [
        "Correlation friction factor. is : 0.0112 \n",
        "\n",
        "Convection heat transfer coefficient is : 8904.1 W/(m^2)/K \n",
        "\n"
       ]
      }
     ],
     "prompt_number": 10
    },
    {
     "cell_type": "heading",
     "level": 3,
     "metadata": {},
     "source": [
      "Example 7.4, Page number: 364"
     ]
    },
    {
     "cell_type": "code",
     "collapsed": false,
     "input": [
      "from __future__ import division\n",
      "import math\n",
      "\n",
      "#Variables\n",
      "m=21.5;                                            #mass  flow  rate,  kg/s\n",
      "e=260*10**-6;                                      #wall  roughness,m\n",
      "D=0.12;                                            #diameter  of  pipe,  m\n",
      "T1=363;                                            #pipe  temperature,K\n",
      "T2=323;                                            #bulk  temp.  of  fluid,K\n",
      "a=977;                                             #density,  kg/m**3\n",
      "Uw=3.1*10**-4;                                     #  wall  side  viscosity,N*s/m**2\n",
      "Ub=5.38*10**-4;                                    #bulk  viscosity,  N*s/m**2\n",
      "Pr=2.47;                                           #prandtl  no.\n",
      "k=0.661;                                           #thermal  conductivity ,W/(m.K)\n",
      "\n",
      "#Calculations\n",
      "u=m/(a*math.pi*(D/2)**2);                          #average  velocity,m/s\n",
      "Re=u*D/(4.07*10**-7);                              #reynolds  no.\n",
      "f=math.pow((1.8*math.log((6.9/Re+(e/D/3.7)**1.11),10)),-2);#friction  factor  from  haaland  equation.\n",
      "Re1=Re*e/D*math.sqrt(f/8);                         #roughness  reynols  no.\n",
      "Nu=(f/8)*Re*Pr/(1+math.sqrt(f/8)*(4.5*Re1**(0.2)*math.sqrt(Pr)-8.48));#correlation  for  local  nusselt  no.\n",
      "h=Nu*k/D/1000;                                     #convection  heat  transfer  coefficient,  kW/(m**2*K)\n",
      "\n",
      "#Results\n",
      "print \"Correlation friction factor is :\",round(f,6),\"\\n\"\n",
      "print \"Convection heat transfer coefficient is :\",round(h,1),\"kw/(m^2*K)\\n\"\n",
      "print \"In this case wall roughness causes a factor of 1.8 increase in h and a factor of 2 increase in f and the pumping power.we have omitted the variable properties hre as they were developed for smooth walled pipes\",\" t in this case wall roughness causes a factor of 1.8 increase in h and a factor of 2 increase in f and the pumping power.we have omitted the variable properties hre as they were developed for smooth walled pipes.\"\n"
     ],
     "language": "python",
     "metadata": {},
     "outputs": [
      {
       "output_type": "stream",
       "stream": "stdout",
       "text": [
        "Correlation friction factor is : 0.024241 \n",
        "\n",
        "Convection heat transfer coefficient is : 16.4 kw/(m^2*K)\n",
        "\n",
        "In this case wall roughness causes a factor of 1.8 increase in h and a factor of 2 increase in f and the pumping power.we have omitted the variable properties hre as they were developed for smooth walled pipes  t in this case wall roughness causes a factor of 1.8 increase in h and a factor of 2 increase in f and the pumping power.we have omitted the variable properties hre as they were developed for smooth walled pipes.\n"
       ]
      }
     ],
     "prompt_number": 18
    },
    {
     "cell_type": "heading",
     "level": 3,
     "metadata": {},
     "source": [
      "Example 7.5, Page number: 369"
     ]
    },
    {
     "cell_type": "code",
     "collapsed": false,
     "input": [
      "from __future__ import division\n",
      "import math\n",
      "\n",
      "#Variables\n",
      "T1  =  293;                                 #  air  temp.,K\n",
      "D=0.01;                                     #  inner  diameter  of  pipe,m\n",
      "v=0.7                                       #  air  velocity,m/s\n",
      "T2=333;                                     #pipe  wall  temp.,K\n",
      "t=0.25;                                     #  distance  down  the  stream\n",
      "\n",
      "#Calculations\n",
      "Re=v*D/(1.66*10**-5);                       #  reynolds  no.\n",
      "#  the  flow  is  therefore  laminar,  to  account  for  the  thermal  entry  region,  we  compute  the  graetz  no.\n",
      "Gz=Re*(0.709)*D/t;                          #  graetz  no.\n",
      "Nu=4.32                                     #  nusselt  no.,  Nu=3.657+(0.0668*Gz**(1/3)/(0.04+Gz**(-2/3)))\n",
      "h=3.657*(0.0268)/D;                         #  average    convective  heat  transfer  coefficient.  W/(m**2*K)\n",
      "a=1-math.exp((-h/(1.14*1007*v))*(4*t)/D);   #  (Tb-T1)/(T2-T1)=a  (suppose)\n",
      "Tb=a*(T2-T1)+T1;                            #  temperature  0.25  m  farther  down  stream.\n",
      "Tb1=Tb-270.6;\n",
      "\n",
      "#Results\n",
      "print \"Temperature 0.25 m farther down stream is :\",round(Tb1,3),\" C\\n\"\n"
     ],
     "language": "python",
     "metadata": {},
     "outputs": [
      {
       "output_type": "stream",
       "stream": "stdout",
       "text": [
        "Temperature 0.25 m farther down stream is : 50.586  C\n",
        "\n"
       ]
      }
     ],
     "prompt_number": 19
    },
    {
     "cell_type": "heading",
     "level": 3,
     "metadata": {},
     "source": [
      "Example 7.6, Page number: 371"
     ]
    },
    {
     "cell_type": "code",
     "collapsed": false,
     "input": [
      "from __future__ import division\n",
      "import math\n",
      "\n",
      "#Variables\n",
      "Tbin=290;                                      #inlet  bulk  temp.,K\n",
      "v=1;                                           #speed  of  air,  m/s\n",
      "a=0.09;                                        #area  of  steel,m**2\n",
      "l=15;                                          #length  of  duct  running  outdoors  through  awarm  air,m\n",
      "To=310;                                        #temp.  of  warm  air,K\n",
      "h=5;                                           #heat  transfer  coefficient  due  to  natural  convection  and  thermal  radiation.\n",
      "Dh=0.3;                                        #hydraulic  diameter,m\n",
      "\n",
      "#Calculations\n",
      "Re=v*Dh/(1.578*10**-5);                        #reynolds  no.at  Tbin\n",
      "Pr=0.713;                                      #prandtl  no.\n",
      "f=1/(1.82/2.303*math.log(Re)-1.64)**2;         #  formula  for  friction  factor  for  smooth  pipes\n",
      "Nu=(f/8*Re*Pr)/(1.07+12.7*(f/8)**(0.5)*(Pr**(2/3)-1));#formula  for  nusselt  no.in  fully  developed  flow  in  smooth  pipes\n",
      "h=Nu*0.02623/Dh;                               #  convective  heat  transfer  coefficient,W/(m**2)/K\n",
      "#the  remaining  problem  is  to  find  the  bulk  temperature  change.the  thin  metal  duct  wall  offers  little  thermal  ressistance,  but  convection  ressistance  outside  the  duct  must  be  considered.\n",
      "U=(1/4.371+1/5)**-1;                           #U=1/Ain*(1/(h*A)in+1/(h*A)out)**-1\n",
      "Tbout=(To-Tbin)*(1-math.exp(-U*4*l/(1.217*v*1007*Dh)))+Tbin;#outlet  bulk  temp.,  K\n",
      "Tbt1=Tbout-273;\t\t\t\t\t\t\t\t   #outlet  bulk  temp. in degree C\n",
      "\n",
      "#Results\n",
      "print \"Outside bulk temp. change is :\",round(Tbt1,3),\"C\\n\"\n"
     ],
     "language": "python",
     "metadata": {},
     "outputs": [
      {
       "output_type": "stream",
       "stream": "stdout",
       "text": [
        "Outside bulk temp. change is : 23.331 C\n",
        "\n"
       ]
      }
     ],
     "prompt_number": 2
    },
    {
     "cell_type": "heading",
     "level": 3,
     "metadata": {},
     "source": [
      "Example 7.7, Page number: 379"
     ]
    },
    {
     "cell_type": "code",
     "collapsed": false,
     "input": [
      "from __future__ import division\n",
      "import math\n",
      "\n",
      "#Variables\n",
      "D=0.0001;                                             #diameter  of  heater,m\n",
      "T1  =  293;                                           #air  temp.,K\n",
      "T2=313;                                               #heater  temp.,K\n",
      "p=17.8;                                               #dissipating  heat,W/m\n",
      "\n",
      "#Calculations\n",
      "h=p/(3.14*D*(T2-T1));                                 #  average    convective  heat  transfer  coefficient.  W/(m**2*K)\n",
      "Nu=h*D/0.0264;                                        #nusselt  no.,  Nu=h*D/thermal  conductivity\n",
      "Pr=0.71;                                              #prandtl    no.\n",
      "Re=((Nu-0.3)*(1+(0.4/Pr)**(2/3))**0.25/(0.62*Pr**(1/3)))**2;#reynolds  no.\n",
      "u=1.596*10**(-5)/(D)*Re+0.2;                          #air  velocity,  m/s\n",
      "\n",
      "#Results\n",
      "print \"Air velocity is :\",round(u,3),\"m/s\\n\"\n",
      "print \"The data scatter in Red is quite small less than 10 percent, it would appear. therefore, this method can be used to measure local velocities with good accuracy.if the device is calliberated, its accuracy is improved further, such an air speed indicator is called a hot wire anemometer.\"\n"
     ],
     "language": "python",
     "metadata": {},
     "outputs": [
      {
       "output_type": "stream",
       "stream": "stdout",
       "text": [
        "Air velocity is : 73.895 m/s\n",
        "\n",
        "The data scatter in Red is quite small less than 10 percent, it would appear. therefore, this method can be used to measure local velocities with good accuracy.if the device is calliberated, its accuracy is improved further, such an air speed indicator is called a hot wire anemometer.\n"
       ]
      }
     ],
     "prompt_number": 1
    }
   ],
   "metadata": {}
  }
 ]
}