{
 "metadata": {
  "name": ""
 },
 "nbformat": 3,
 "nbformat_minor": 0,
 "worksheets": [
  {
   "cells": [
    {
     "cell_type": "heading",
     "level": 1,
     "metadata": {},
     "source": [
      "Chapter 11: An introduction to mass transfer"
     ]
    },
    {
     "cell_type": "heading",
     "level": 3,
     "metadata": {},
     "source": [
      "Example 11.1, Page number:603"
     ]
    },
    {
     "cell_type": "code",
     "collapsed": false,
     "input": [
      "from __future__ import division\n",
      "\n",
      "#Variables\n",
      "Mn2=0.7556;                    #mass  fraction  of  nitrogen\n",
      "Mo2=0.2315;                    #mass  fraction  of  oxygen\n",
      "Mar=0.01289;                   #mass  fraction  of  argon  gas\n",
      "M1=28.02;                      #molar  mass  of  N2,kg/kmol\n",
      "M2=32;                         #molar  mass  of  O2,kg/kmol\n",
      "M3=39.95  ;                    #molar  mass  of  Ar,kg/kmol\n",
      "p=101325;                      #Atmospheric pressure in Pascal(Pa)\n",
      "R=8314.5;                      #Gas constant, J/kmol-K\n",
      "T=300;                         #Approximate room temperature, K\n",
      "\n",
      "#Calculations\n",
      "Mair=(Mn2/M1+Mo2/M2+Mar/M3)**-1;                  #molar  mass  of  air,kg/kmol\n",
      "Xo2=Mo2*Mair/M2;                                  #mole  fraction  of  O2\n",
      "PO2=Xo2*p;                                        #partial  pressure  of  O2,Pa\n",
      "Co2=PO2/(R*T);                                    #molar  volume  of  O2,kmol/m**3\n",
      "ao2=Co2*M2;                                       #density  of  O2,kg/m**3\n",
      "\n",
      "\n",
      "#Result\n",
      "print \"Mole fraction of O2 is :\",round(Xo2,4),\"\\n\"\n",
      "print \"Partial pressure of O2 is :\",round(PO2,4),\"\\n\"\n",
      "print \"Molar volume of O2 is :\",round(Co2,4),\" kmol/m^3\\n\"\n",
      "print \"Density of O2 is :\",round(ao2,4),\" kg/m^3\\n\"\n",
      " #end"
     ],
     "language": "python",
     "metadata": {},
     "outputs": [
      {
       "output_type": "stream",
       "stream": "stdout",
       "text": [
        "Mole fraction of O2 is : 0.2095 \n",
        "\n",
        "Partial pressure of O2 is : 21232.5938 \n",
        "\n",
        "Molar volume of O2 is : 0.0085  kmol/m^3\n",
        "\n",
        "Density of O2 is : 0.2724  kg/m^3\n",
        "\n"
       ]
      }
     ],
     "prompt_number": 14
    },
    {
     "cell_type": "heading",
     "level": 3,
     "metadata": {},
     "source": [
      "Example 11.2, Page number: 606"
     ]
    },
    {
     "cell_type": "code",
     "collapsed": false,
     "input": [
      "from __future__ import division\n",
      "\n",
      "#Variables\n",
      "r=0.00241;                     #rate  of  consumption  of  carbon,kg/(m**2*s)\n",
      "Mo2=0.2;                       #concentration  of  oxygen  at  surface  s\n",
      "Mco2=0.052;                    #concentration  of  CO2  at  surface  s\n",
      "sd=0.29;                       #density  of  surface  s,kg/m**3\n",
      "\n",
      "#since  carbon  flows  through  a  second  imaginary  surface  u,  the  mass  fluxes  are  relatedd  by Ncu=-12/32*No2s=12/44*Nco2s\n",
      "#the  minus  sign  arises  because  the  O2  flow  is  opposite  the  C  and  CO2  flows.in  steady  state  if  we  apply  mass  conservation  to  the  control  volume  between  the  u  and  s  surface,  wee  find  that  the  total  mass  flux  entering  the  u  surface  equals  that  leaving  the  s  surface\n",
      "Ncu=r;                          #mass  fluxes  of  carbon  in  u  surface,kg/m**2/s\n",
      "\n",
      "#Calculations\n",
      "No2s=-32/12*Ncu;                #mass  flux  of  O2  in  surface  s,kg/(m**2*s)\n",
      "Nco2s=44/12*Ncu;                #mass  flux  of  CO2  in  surface  s,kg/(m**2*s)\n",
      "Vo2s=No2s/(Mo2*sd);             #mass  average  speed,m/s\n",
      "Vco2s=Nco2s/(sd);               #mass  average  speed,m/s\n",
      "Vs=(Nco2s+No2s)/sd;             #effective  mass  average  speed,m/s\n",
      "j1=sd*Mo2*(Vo2s-Vs);            #diffusional  mass  flux,kg/(m**2*s)\n",
      "j2=sd*Mco2*(Vco2s-Vs);          #diffusional  mass  flux,kg/(m**2*s)\n",
      "#the  diffusional  mass  fluxes  are  very  nearly  equal  to  the  species  m  ss  fluxes.  tha  is  because  the  mass  average  speed  is  much  less  than  species  speeds.\n",
      "\n",
      "N1 = Ncu/12;                      #mole  flux  of  carbon  through  the  surface  s,kmol/(m**2*s)\n",
      "N2 = -N1;                         #mole  flux  of  oxygen  through  the  surface  s,kmol/(m**2*s)\n",
      "\n",
      "#Result\n",
      "print \"Mass flux of O2 through an imaginary surface is :\",round(j1,5),\"kg/(m^2*s)\\n\"\n",
      "print \"Mass flux of CO2 through an imaginary surface is :\",round(j2,5),\"kg/(m^2*s)\\n\"\n",
      "\n",
      "print \"Mole flux of Co2 through an imaginary surface is :\",round(N1,5),\"kmol/(m^2*s)\\n\"\n",
      "print \"Mole flux of O2through an imaginary surface is :\",round(N2,5),\"kmol/(m^2*s)\\n\"\n",
      "print \"The two diffusional mole fluxes sum to zero themselves because ther is no convective mole flux for other species to diffuse against. the reader may find the velocity of the interface.that calculation shows the interface to be receding so slowly that the velocities are equal to those that would be seen by a stationary observer.\"\n",
      " #end\n"
     ],
     "language": "python",
     "metadata": {},
     "outputs": [
      {
       "output_type": "stream",
       "stream": "stdout",
       "text": [
        "Mass flux of O2 through an imaginary surface is : -0.00691 kg/(m^2*s)\n",
        "\n",
        "Mass flux of CO2 through an imaginary surface is : 0.00033 kg/(m^2*s)\n",
        "\n",
        "Mole flux of Co2 through an imaginary surface is : 0.0002 kmol/(m^2*s)\n",
        "\n",
        "Mole flux of O2through an imaginary surface is : -0.0002 kmol/(m^2*s)\n",
        "\n",
        "The two diffusional mole fluxes sum to zero themselves because ther is no convective mole flux for other species to diffuse against. the reader may find the velocity of the interface.that calculation shows the interface to be receding so slowly that the velocities are equal to those that would be seen by a stationary observer.\n"
       ]
      }
     ],
     "prompt_number": 15
    },
    {
     "cell_type": "heading",
     "level": 3,
     "metadata": {},
     "source": [
      "Example 11.3, Page number: 617"
     ]
    },
    {
     "cell_type": "code",
     "collapsed": false,
     "input": [
      "from __future__ import division\n",
      "import math\n",
      "\n",
      "#Variables\n",
      "T1=276;                                                                #temp.of  air,K\n",
      "aa=3.711;                                                              #lennard  jones  constant  or  collision  diameter,A\n",
      "ab=2.827;                                                              #lennard  jones  constant  or  collision  diameter,A\n",
      "b1=78.6;                                                               #lennard  jones  constant,K\n",
      "b2=59.7;                                                               #lennard  jones  constant,K\n",
      "Ma=28.97;                                                              #Molecular mass of air, kg/kmol\n",
      "Mh=2.016;                                                              #Molecular mass of hydrogen, kg/kmol\n",
      "\n",
      "#Calculations\n",
      "a=(aa+ab)/2;                                                           #effective  molecular  diameter  for  collisions  of  hydrogen  and  air,m\n",
      "b=math.sqrt(b1*b2);                                                    #effective  potential  well  depth,K\n",
      "c=T1/b;        \n",
      "\n",
      "d=0.8822;                                                              #potential  well  function, from table 11.3\n",
      "Dab=(1.8583*math.pow(10,-7))*math.pow(T1,1.5)/(math.pow(a,2)*d)*math.sqrt(1/Mh+1/Ma);             #diffusion  coefficient  of  hydrogen  in  air,m**2/s\n",
      "\n",
      "\n",
      "#Result\n",
      "print \"Diffusion coefficient of hydrogen in air is :\",round(Dab,6),\"m^2/s an experimental value from table is 6.34*10^-5 m^2/s,so the prediction is high by 5 percent.\\n\"\n",
      " #end\n"
     ],
     "language": "python",
     "metadata": {},
     "outputs": [
      {
       "output_type": "stream",
       "stream": "stdout",
       "text": [
        "Diffusion coefficient of hydrogen in air is : 6.6e-05 m^2/s an experimental value from table is 6.34*10^-5 m^2/s,so the prediction is high by 5 percent.\n",
        "\n"
       ]
      }
     ],
     "prompt_number": 2
    },
    {
     "cell_type": "heading",
     "level": 3,
     "metadata": {},
     "source": [
      "Example 11.4, Page number: 625"
     ]
    },
    {
     "cell_type": "code",
     "collapsed": false,
     "input": [
      "from __future__ import division\n",
      "import math\n",
      "from numpy import array\n",
      "\n",
      "#Variables\n",
      "T1=373.15;                                                           #temp.of  tea,K\n",
      "XN2=0.7808;                                                          #mole  fraction  of  nitrogen\n",
      "XO2=0.2095;                                                          #mole  fraction  of  oxygen\n",
      "Xar=0.0093;                                                          #mole  fraction  of\n",
      "Cp=1006                                                                  #mixture  diffusivity,j/(kg*K)\n",
      "\n",
      "#Calculations\n",
      "a=array(([3.798,  3.467,  3.542]));                                     #collisin  diameter,m\n",
      "b=array(([71.4,  106.7,  93.3]));                                       #lennard  jones  constant,K\n",
      "M=array(([28.02,  32,  39.95]));                                        #molar  masses,kg/kmol\n",
      "c=array(([0.9599,  1.057,  1.021]));                                    #potential  well  function\n",
      "d=array(([1.8*10**-5,  2.059*10**-5,  2.281*10**-5]));                  #calculated  viscosity,kg/(m*s)\n",
      "e=array(([1.8*10**-5,  2.07*10**-5,  2.29*10**-5]));                    #  theoritical  viscosity,kg/(m*s)\n",
      "f=array(([0.0260,  0.02615,  0.01787]));                                #theoritical  thermal  conducitvity,W/(m*K)\n",
      "\n",
      "u=2.6693*10**-6*(M*T1)**0.5/((a**2*c));                                  #viscosity,kg/(m*s)\n",
      "k=0.083228/((a**2*c*(T1/M**0.5)))                                        #thermal  conductivity,W/(m*s)\n",
      "umc = XN2*u.item(0)/0.9978+XO2*u.item(1)/1.008+Xar*u.item(2)/0.9435  ;   #calculated  mixture  viscosity,kg/(m*s)\n",
      "umc1=1.857*10**-5;\n",
      "\n",
      "umd=XN2*e.item(0)/0.9978+XO2*e.item(1)/1.008+e.item(2)*Xar/0.9435;       #theoritical  mixture  viscosity,kg/(m*s)\n",
      "kmc=XN2*k.item(0)/0.9978+XO2*k.item(1)/1.008+Xar*k.item(2)/0.9435;       #calculated  thermal  conducitvity,W/(m*K)\n",
      "kmc1=0.02623;\n",
      "kmd=XN2*f.item(0)/0.9978+XO2*f.item(1)/1.008+Xar*f.item(2)/0.9435;       #theoritical  thermal  conductivity,  W/(m*K)\n",
      "pr=umd*Cp/kmd;                                                           #prandtl  no.\n",
      "\n",
      "#Result\n",
      "print \"Theoritical mixture viscosity is :\",round(umc1,6),\"kg/(m*s)\\n\"\n",
      "print \"Calculated mixture viscosity is :\",round(umd,6),\"kg/(m*s)\\n\"\n",
      "print \"Theoritical thermal conducitvity is :\",round(kmc1,4),\" W/(m*K)\\n\"\n",
      "print \"Calculated thermal conducitvity is :\",round(kmd,4),\"W/(m*K)\\n\"                                           \n",
      "print \"Prandtl no. is :\",round(pr,4),\"\\n\"\n",
      "\n",
      "\n"
     ],
     "language": "python",
     "metadata": {},
     "outputs": [
      {
       "output_type": "stream",
       "stream": "stdout",
       "text": [
        "Theoritical mixture viscosity is : 1.9e-05 kg/(m*s)\n",
        "\n",
        "Calculated mixture viscosity is : 1.9e-05 kg/(m*s)\n",
        "\n",
        "Theoritical thermal conducitvity is : 0.0262  W/(m*K)\n",
        "\n",
        "Calculated thermal conducitvity is : 0.026 W/(m*K)\n",
        "\n",
        "Prandtl no. is : 0.7214 \n",
        "\n"
       ]
      }
     ],
     "prompt_number": 1
    },
    {
     "cell_type": "heading",
     "level": 3,
     "metadata": {},
     "source": [
      "Example 11.5, Page number: 632"
     ]
    },
    {
     "cell_type": "code",
     "collapsed": false,
     "input": [
      "from __future__ import division\n",
      "import math\n",
      "from numpy import array\n",
      "import matplotlib.pyplot as plt\n",
      "%matplotlib inline\n",
      "\n",
      "#Variables\n",
      "Patm=101.325;\t\t\t#Atmospheric pressure in kPa.\n",
      "Mh20=18.02;\t\t\t\t#Molecular mass of H20 in kg/kmol.\n",
      "Mair=28.96;\t\t\t\t#Molecular mass of air in kg/kmol.\n",
      "Psat  =array(([0.6113,  1.2276,  2.3385,  4.2461,  7.3837,  12.35,  19.941,  31.188,  47.39,  70.139,  101.325]));\t\t#Saturated pressure of watrer in kPa \n",
      "T=array(([0.01,  10,  20,  30,  40,  50,  60,  70,  80,  90,  100]));\t\t#Temperature of air in in degree C\n",
      "#Calculations\n",
      "xw=Psat/Patm;\t\t\t\t\n",
      "\n",
      "mw=(xw*Mh20)/(xw*Mh20+(1-xw)*Mair);\t\t#Mass fraction of water vapour.\n",
      "#Result\n",
      "plt.plot(T,mw);\n",
      "plt.xlabel(\"Temperature(Degree C)\")\n",
      "plt.ylabel(\"Mass  fraction  of  water  vapour\");\n",
      "plt.show()\n",
      "\n",
      "\n"
     ],
     "language": "python",
     "metadata": {},
     "outputs": [
      {
       "metadata": {},
       "output_type": "display_data",
       "png": "[encoded data removed]",
       "text": [
        "<matplotlib.figure.Figure at 0x7f4109404550>"
       ]
      }
     ],
     "prompt_number": 2
    },
    {
     "cell_type": "heading",
     "level": 3,
     "metadata": {},
     "source": [
      "Example 11.6, Page number: 634"
     ]
    },
    {
     "cell_type": "code",
     "collapsed": false,
     "input": [
      "from __future__ import division\n",
      "import math\n",
      "\n",
      "#Variables\n",
      "T1=263.15;                                                   #temp.of  ice,K\n",
      "p=101.325;                                                   #Atmospheric pressure, KPa\n",
      "Molw=18.02;                                                  #Molecular mass of water vapour, g/mol\n",
      "Mola=28.96;                                                  #Molecular mass of air, g/mol\n",
      "\n",
      "#Calculations\n",
      "Pv=math.exp(21.99-6141/(T1));                                #vapor  pressure,KPa\n",
      "xw=Pv/p;                                                     #mole  fraction  of  water\n",
      "mw=xw*Molw/(xw*Molw+(1-xw)*Mola);                         #mass  fraction\n",
      "\n",
      "#Result\n",
      "print \"Mass fraction of watervapor above the surface of ice is :\",round(mw,5),\"\\n\"\n",
      "#end\n"
     ],
     "language": "python",
     "metadata": {},
     "outputs": [
      {
       "output_type": "stream",
       "stream": "stdout",
       "text": [
        "Mass fraction of watervapor above the surface of ice is : 0.0016 \n",
        "\n"
       ]
      }
     ],
     "prompt_number": 26
    },
    {
     "cell_type": "heading",
     "level": 3,
     "metadata": {},
     "source": [
      "Example 11.10, Page number:"
     ]
    },
    {
     "cell_type": "code",
     "collapsed": false,
     "input": [
      "from __future__ import division\n",
      "\n",
      "#Variables\n",
      "T1=303;                                      #  isothermal  temp.,K\n",
      "v=5;                                         #air  speed,m/s\n",
      "l=0.05;                                      #length  of  naphthalene  model  that  is  flat,  m\n",
      "Mnap=128.2;                                  #molar  mass  of  naphthalene,kg/kmol\n",
      "nu=1.867*10**-5;                             #Dynamic viscocity, m^2/s\n",
      "\n",
      "#Calculations\n",
      "D=0.86*(10**-5);                             #diffusion  coefficient  of  naphthalene  in  air,m/s\n",
      "\n",
      "Pv=10**(11.45-3729.3/T1)*133.31;             #vapor  pressure of napthalene,  Pa\n",
      "xn=Pv/101325;                                #mole  fraction    of  naphthalene\n",
      "mn=xn*Mnap/(xn*Mnap+(1-xn)*28.96);           #mass  fraction  of  naphthalene\n",
      "mnp=0;                                       #mass  fraction  of  naphthalene  in  free  stream  is  0\n",
      "\n",
      "Rel=v*l/nu;                                  #reynolds  no.\n",
      "Sc=nu/D;                                     #schimidt  no.\n",
      "Nul=0.664*math.sqrt(Rel)*(Sc**(1/3));        #mass  transfer  nusselt  no.\n",
      "Gmn=D*Nul*1.166/l;                           #gas  phase  mass  transfer  coefficient,kg/(m**2*s)\n",
      "n=Gmn*(mn-mnp);                              #average  mass  flux,kg/(m**2*s)\n",
      "n1=n*1000*3600;# average mass flux, g/m**2.h\n",
      "\n",
      "#Result\n",
      "print \"Average rate of loss of naphthalene from a part of model is :\",round(n,7),\"kg/(m^2*s) or \",round(n1),\"g/(m^2*h)\\n\"\n",
      "print \"Naphthalene sublimatin can be used to infer heat transfer coefficient by measuring the loss of naphthalene from a model over some length of time.since the schimidt no. of naphthalene is not generally equal to prandtl no. under the conditions of interest, some assumption about the dependence of nusselt no. on the prandtl no. must usually be introduced.\\n\"\n",
      " #end\n"
     ],
     "language": "python",
     "metadata": {},
     "outputs": [
      {
       "output_type": "stream",
       "stream": "stdout",
       "text": [
        "Average rate of loss of naphthalene from a part of model is : 1.61e-05 kg/(m^2*s) or  58.0 g/(m^2*h)\n",
        "\n",
        "Naphthalene sublimatin can be used to infer heat transfer coefficient by measuring the loss of naphthalene from a model over some length of time.since the schimidt no. of naphthalene is not generally equal to prandtl no. under the conditions of interest, some assumption about the dependence of nusselt no. on the prandtl no. must usually be introduced.\n",
        "\n"
       ]
      }
     ],
     "prompt_number": 16
    },
    {
     "cell_type": "heading",
     "level": 3,
     "metadata": {},
     "source": [
      "Example 11.11, Page number:"
     ]
    },
    {
     "cell_type": "code",
     "collapsed": false,
     "input": [
      "from __future__ import division\n",
      "\n",
      "#Variables\n",
      "T1=300;                                                            #temp.  of  helium-water  tube,K\n",
      "h=0.4;                                                             #height  of  vertical  wall,m\n",
      "m=0.087*10**-3;                                                    #flow  rate  of  helium,kg/(m**2*s)\n",
      "#this  is  a  uniform  flux  natural  convection  problem.\n",
      "Mhes=0.01;                                                         #  assuming  the  value  of  mass  fraction  of  helium  at  the  wall  to  be  0.01\n",
      "Mhef=Mhes/2;                                                       #film  composition\n",
      "af=1.141;                                                          #film  density,kg/m**3\n",
      "wd=1.107;                                                          #wall  density,kg/m**3\n",
      "Dha=7.119*10**-5;                                                  #diffusion  coefficient,m**2/s\n",
      "u=1.857*10**-5;                                                    #film  viscosity  at  300K,kg/(m*s)\n",
      "aa=1.177;                                                          #air  density,kg/m**3\n",
      "g=9.8;                                                             #Gravity constant, m/s**2\n",
      "#Calculations\n",
      "Sc=(u/af)/Dha;                                                      #schimidt  no.\n",
      "Ra1=g*(aa-wd)*m*h**4/(u*af*Dha**2*Mhes);                            #Rayleigh  no.\n",
      "Nu=6/5*(Ra1*Sc/(4+9*math.sqrt(Sc)+10*Sc))**(1/5);                         #approximate  nusselt  no.\n",
      "s=m*h/(af*Dha*Nu);                                                  #average concentration of helium at the wall\n",
      "#thus  we  have  obtained  an  average  wall  concentration  14  oercent  higher  than  our  initial  guess  of  Mhes.we  repeat  this  calclations  with  revised  values  of  densities  to  obtain  Mhes  =  0.01142\n",
      "\n",
      "\n",
      "#Result\n",
      "print \"Average conentration of helium at the wall is \",round(s,5),\",since the result is within  0.5 percent of our second guess, a third iteration is not needed\"\n",
      " #end\n"
     ],
     "language": "python",
     "metadata": {},
     "outputs": [
      {
       "output_type": "stream",
       "stream": "stdout",
       "text": [
        "Average conentration of helium at the wall is  0.01136 ,since the result is within  0.5 percent of our second guess, a third iteration is not needed\n"
       ]
      }
     ],
     "prompt_number": 17
    },
    {
     "cell_type": "heading",
     "level": 3,
     "metadata": {},
     "source": [
      "Example 11.14, Page number:"
     ]
    },
    {
     "cell_type": "code",
     "collapsed": false,
     "input": [
      "from __future__ import division\n",
      "import math\n",
      "\n",
      "#Variables\n",
      "T1=325;                                                                   #temp.  of  helium-water  tube,K\n",
      "l=0.2;                                                                    #length  of  tube,m\n",
      "x=0.01;                                                                   #  mole  fraction  of  water\n",
      "R=8314.472;                                                               #gas  constant,J/(kmol*K)\n",
      "Mw=18.02;#Molecular mass of water, g/mol\n",
      "#the  vapor  pressure  of  the  liquid  water  is  approximately  the  saturation  pressure  at  the  water  temp.\n",
      "\n",
      "#Calculations\n",
      "p=1.341*10000  ;                                                          #vapor  pressure  using  steam  table,Pa\n",
      "x1=p/101325;                                                              #mole  fraction  of  saturated  water\n",
      "c=101325/(R*T1);                                                          #mole  concentration  in  tube,kmol/m**3\n",
      "D12=1.067*math.pow(10,-4);                                                #diffusivity  ofwater  with  respect  to  helium,m**2/s  \n",
      "Nw=c*D12*math.log(1+(x-x1)/(x1-1))/l  ;                                   #molar  evaporation  rate,kmol/(m**2*s)\n",
      "nw=Nw*Mw;                                                              #  mass  evaporation  rate,kg/(m**2*s)\n",
      "\n",
      "#S=1+(x1-1)*math.exp(Nw*y/(c*D12))  conentration  distribution  of  water-vapor\n",
      "#Result\n",
      "print \"Conentration distribution of water-vapor is  : x1(y)=1-0.8677*exp(0.6593*y) where y is expressed in meters.\\n\"\n"
     ],
     "language": "python",
     "metadata": {},
     "outputs": [
      {
       "output_type": "stream",
       "stream": "stdout",
       "text": [
        "Conentration distribution of water-vapor is  : x1(y)=1-0.8677*exp(0.6593*y) where y is expressed in meters.\n",
        "\n"
       ]
      }
     ],
     "prompt_number": 18
    },
    {
     "cell_type": "heading",
     "level": 3,
     "metadata": {},
     "source": [
      "Example 11.15, Page number:"
     ]
    },
    {
     "cell_type": "code",
     "collapsed": false,
     "input": [
      "from __future__ import division\n",
      "\n",
      "#Variables\n",
      "T1=1473;                                                                #suraface  temp.of  hot  water,K\n",
      "x=0.05;                                                                 #mass  fraction  of  water\n",
      "Gm=0.017;                                                               #average  mass    transfer  coefficient,kg/(m**2*s)\n",
      "A=0.04;                                                                 #suraface  area  of  pan,m**2\n",
      "\n",
      " #only  water  vapour  passes  through  the  liquid  surface,  since  air  is  not  strongly  absorbed  into  water  under  normal  conditions.\n",
      "#Calculations\n",
      "p=38.58*1000;                                                           #saturation  pressure  of  water,kPa\n",
      "Xwater=p/101325;                                                        #mole  fraction  of  saturated  water\n",
      "Mwater=Xwater*18.02/(Xwater*18.02+(1-Xwater)*28.96);                    #mass  fraction  of  saturated  water\n",
      "\n",
      "B=(x-Mwater)/(Mwater-1);                                                #mass  transfer  driving  force\n",
      "m=Gm*B*A;                                                               #evaporation  rate,kg/s\n",
      "\n",
      "#Result\n",
      "print \"Evaporation rate is:\",round(m,6),\" kg/s\"\n",
      "\n"
     ],
     "language": "python",
     "metadata": {},
     "outputs": [
      {
       "output_type": "stream",
       "stream": "stdout",
       "text": [
        "Evaporation rate is: 0.000213  kg/s\n"
       ]
      }
     ],
     "prompt_number": 23
    },
    {
     "cell_type": "heading",
     "level": 3,
     "metadata": {},
     "source": [
      "Example 11.16, Page number:"
     ]
    },
    {
     "cell_type": "code",
     "collapsed": false,
     "input": [
      "from __future__ import division\n",
      "import math\n",
      "\n",
      "#Variables\n",
      "T1=298;                                                               #temp.of  air,K\n",
      "T2=323.15;                                                            #film  temp.,K\n",
      "x=0.05;                                                               #mass  fraction  of  water  at  75  C\n",
      "Gm=0.017;                                                             #average  mass    transfer  coefficient,kg/(m**2*s)\n",
      "A=0.04;                                                               #suraface  area  of  pan,m**2\n",
      "l=0.2;                                                                #length  of  pan  in  flow  direction,m\n",
      "v=5;                                                                  #air  speed,m/s\n",
      "m=(x+0.277)/2;                                                        #film  composition  of  water  at  50  C\n",
      "Mf=26.34;                                                             #mixture  molecular  weight,kg/kmol\n",
      "p=101325;                                                             #Atmospheric pressure, Pa\n",
      "R=8314.5;                                                             #Gas constant, J/kmol-K\n",
      "Uf=1.75*math.pow(10,-5);                                              #film  viscosity,kg/(m*s)\n",
      "B=0.314;                                                              #mass  transfer  driving  force\n",
      "D=2.96*math.pow(10,-5);                                               #diffusivity  of  water  in  air,m**2/s\n",
      "df=0.993;                                                             #Density of ideal air, kg/m**#\n",
      "\n",
      "#Calculations\n",
      "af=p*Mf/(R*T2);                                 \t                  #film  density  from  ideal  gas  law,kg/m**3\n",
      "Vf=Uf/af;                                                             #kinematic  viscosity,m**2/s\n",
      "Rel=v*l/Vf;                                                           #reynolds  no.  comes  out  to  be  56,800  so  the  flow  is  laminar.\n",
      "Sc=Vf/D;                                                              #scimidt  no.\n",
      "Nu=0.664*math.sqrt(Rel)*math.pow(Sc,1/3);                             #nussselt  no.\n",
      "Gmw1=Nu*(D*df/l);                                                     #appropriate  value  of  mass  transfer  gas  phase  coeffficient  of  water  in  air,kg/(m**2*s)\n",
      "Gmw=Gmw1*(math.log(1+B)/B);                                  \t      #mass  transfer  gas  phase  coeffficient  of  water  in  air,kg/(m**2*s)\n",
      "\n",
      "#Results\n",
      "print \"Mass transfer gas phase coeffficient of water in air is :\",round(Gmw,4),\"kg/(m^2*s)\\nIn this caes, the blowing factor is 0.870. Thus the mild blowing has reduced the mass transfer coefficient by about 13 percent\"\n"
     ],
     "language": "python",
     "metadata": {},
     "outputs": [
      {
       "output_type": "stream",
       "stream": "stdout",
       "text": [
        "0.01955648559 133.069905487\n",
        "Mass transfer gas phase coeffficient of water in air is : 0.017 kg/(m^2*s)\n",
        "In this caes, the blowing factor is 0.870. Thus the mild blowing has reduced the mass transfer coefficient by about 13 percent\n"
       ]
      }
     ],
     "prompt_number": 28
    }
   ],
   "metadata": {}
  }
 ]
}