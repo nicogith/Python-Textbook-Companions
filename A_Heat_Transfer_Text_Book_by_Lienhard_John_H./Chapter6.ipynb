{
 "metadata": {
  "name": ""
 },
 "nbformat": 3,
 "nbformat_minor": 0,
 "worksheets": [
  {
   "cells": [
    {
     "cell_type": "heading",
     "level": 1,
     "metadata": {},
     "source": [
      "Chapter 6:Laminar and turbulent boundary layers "
     ]
    },
    {
     "cell_type": "heading",
     "level": 3,
     "metadata": {},
     "source": [
      "Example 6.2, Page number: 284"
     ]
    },
    {
     "cell_type": "code",
     "collapsed": false,
     "input": [
      "from __future__ import division\n",
      "import math\n",
      "\n",
      "#Variables\n",
      "T1=300;                                                          #air  temperature,K\n",
      "v=1.5;                                                           #air  velocity,  m/s\n",
      "t=0.5;                                                           #thickness,  m\n",
      "u=1.853*math.pow(10,-5);                                         #dynamic  viscosity,kg/(m*s)\n",
      "v1=1.566*math.pow(10,-5);                                        #kinematic  viscosity,m**2/s\n",
      "\n",
      "#Calculations\n",
      "Rex=v*t/v1;                                                      #reynolds  no.  is  low  enough  to  permit  the  use  of  laminar  flow  analysis.\n",
      "b=4.92*t/(math.sqrt(Rex))*100;                                   # b.l. thickness,  cm\n",
      "#in  this  case  b/x=1.124/50=0.0225  so  laminar  flow  is  valid.\n",
      "v2=0.8604*math.sqrt(v1*v/t);\n",
      "#since  v2  grows  larger  as  x  grows  smaller,  the  condition  v2<u  is  not  satisfied  very  near  the  leading  edge.\n",
      "#in  this  case  del/thickness  is  0.0225.\n",
      "x=0.8604*math.sqrt(v1*v/t);                                       #velocity,m/s\n",
      "y=x/t;\n",
      "\n",
      "#Results\n",
      "print \"Boundary layer thickness is :\",round(b,3),\"cm\\n\"\n",
      "print \"Since velocity grows larger as thickness grows smaller, the condition x<<u is not satisfied very near the leading edge. therefore the BI approximation themselves breakdown.\"\n",
      "\n"
     ],
     "language": "python",
     "metadata": {},
     "outputs": [
      {
       "output_type": "stream",
       "stream": "stdout",
       "text": [
        "Boundary layer thickness is : 1.124 cm\n",
        "\n",
        "Since velocity grows larger as thickness grows smaller, the condition x<<u is not satisfied very near the leading edge. therefore the BI approximation themselves breakdown.\n"
       ]
      }
     ],
     "prompt_number": 5
    },
    {
     "cell_type": "heading",
     "level": 3,
     "metadata": {},
     "source": [
      "Example 6.3, Page number: 291"
     ]
    },
    {
     "cell_type": "code",
     "collapsed": false,
     "input": [
      "from __future__ import division\n",
      "import math\n",
      "\n",
      "#Variables\n",
      "l=0.5;                                                     #total  length  of  surface,m\n",
      "Cf=0.00607;                                                #overall  friction  coefficient\n",
      "\n",
      "#Calculations\n",
      "tw=1.183*(2.25)*Cf/2;                                      #  wall  shear,  kg/(m*s**2)\n",
      "a=0.5;                                                     #ratio  of  wall  shear    at  x=l  and  average  wall  shear\n",
      "#tw(x)=twavg  where  0.664/(x**0.5)=1.328/(47,)893,  x=1/8  m  thus  the  wall  shear  stress  plummets  to  twavg  one  fourth  of  the  way  from  the  leading  edge  and  drops  only  to  one  half      of  twavg  in  the  remaining  75  percent  plate.x<600*1.566*10**(-5)/1.5=0.0063  m.\n",
      "#  preceding  analysis  should  be  good  over  almost  99  percent  of  the  0.5  m  length  of  the  surface.\n",
      "\n",
      "#Results\n",
      "print \"Overall friction coefficient is :\",Cf,\"\\n\"\n",
      "print \"Wall shear is :\",tw,\"kg/(m*s^2)\\n\"\n",
      "print \"The preceding analysis should be good over almost 99 percent of the 0.5m length of the surface.\"\n"
     ],
     "language": "python",
     "metadata": {},
     "outputs": [
      {
       "output_type": "stream",
       "stream": "stdout",
       "text": [
        "Overall friction coefficient is : 0.00607 \n",
        "\n",
        "Wall shear is : 0.00807841125 kg/(m*s^2)\n",
        "\n",
        "The preceding analysis should be good over almost 99 percent of the 0.5m length of the surface.\n"
       ]
      }
     ],
     "prompt_number": 7
    },
    {
     "cell_type": "heading",
     "level": 3,
     "metadata": {},
     "source": [
      "Example 6.4, Page number: 296"
     ]
    },
    {
     "cell_type": "code",
     "collapsed": false,
     "input": [
      "from __future__ import division\n",
      "import math\n",
      "\n",
      "#Variables\n",
      "l=0.06;                                                                  #length  of  heater,  m\n",
      "p=15;                                                                    #pressure  of  heater,  atm\n",
      "T1=440;                                                                  #temperature  of  heater,  K\n",
      "v=2;                                                                     #free  stream  velocity,m/s\n",
      "T2=460;                                                                  #constant  temperature  of  heater,  K\n",
      "T3=450;                                                                  #mean temperature  of  heater,  K\n",
      "k=0.674;                                                                 #thermal  conductivity ,W/(m.K)\n",
      "\n",
      "#Calculations\n",
      "q=2*(0.332)*(k/l)*math.sqrt(v*l/(1.72*10**-7))*(T2-T1)/1000;\t\t     #(from Fig 6.10)formula  for  heat  flux  is  q=2*(0.664)*k/l*(Rel**0.5)*(T2-T1), in kW/m^2\n",
      "\n",
      "#Results\n",
      "print \"Heat flux is :\",round(q,3),\"kW/m^2\\n\"\n"
     ],
     "language": "python",
     "metadata": {},
     "outputs": [
      {
       "output_type": "stream",
       "stream": "stdout",
       "text": [
        "Heat flux is : 124.604 kW/m^2\n",
        "\n"
       ]
      }
     ],
     "prompt_number": 7
    },
    {
     "cell_type": "heading",
     "level": 3,
     "metadata": {},
     "source": [
      "Example 6.5, Page number: 308"
     ]
    },
    {
     "cell_type": "code",
     "collapsed": false,
     "input": [
      "from __future__ import division\n",
      "import math\n",
      "\n",
      "#Variables\n",
      "T1=293;                                                  #air  temperature,K\n",
      "v=15;                                                    #air  velocity,m/s\n",
      "T2=383;                                                  #temperature  of  plate,K\n",
      "l=0.5;                                                   #length  of  plate,m\n",
      "w=0.5;                                                   #width  of  plate,m\n",
      "Pr=0.707;                                                #prandtl  no.\n",
      "k=0.02885;                                               #thermal  conductivity  of ,W/(m.K)\n",
      "\n",
      "#Calculations\n",
      "Rel=v*l/(0.0000194);                                     #reynolds  no.\n",
      "Nul=0.664*(Rel)**0.5*Pr**(1/3);                      \t #nusset  no.\n",
      "h1=367.8*(k)/l;                                          #average  convection  coefficient,  W/(m**2*K)\n",
      "Q=h1*l**(2)*(T2-T1);                                     #heat  transferred,W\n",
      "h2=h1/2                                                  #convection  coefficient  at  trailing  ,  W/(m**2*K)\n",
      "a1=4.92*l/math.sqrt(Rel)*1000                            #hydrodynamic  boundary  layer,m\n",
      "a2=a1/(Pr)**(1/3);                                       #thermal  boundary  layer,mm\n",
      "\n",
      "#Results\n",
      "print \"Average heat trensfer coefficient is :\",round(h1,3),\"W/m^2/K\\n\"\n",
      "print \"Total heat transferred is\",round(Q,3),\"W\\n\"\n",
      "print \"Convection coefficient at trailing is :\",round(h2,3),\"W/(m^2*K)\\n\"\n",
      "print \"Hydrodynamic boundary layer is : \",round(a1,3),\"m\\n\"\n",
      "print \"Thermal boundary layer is : \",round(a2,3),\"mm\\n\"\n"
     ],
     "language": "python",
     "metadata": {},
     "outputs": [
      {
       "output_type": "stream",
       "stream": "stdout",
       "text": [
        "Average heat trensfer coefficient is : 21.222 W/m^2/K\n",
        "\n",
        "Total heat transferred is 477.496 W\n",
        "\n",
        "Convection coefficient at trailing is : 10.611 W/(m^2*K)\n",
        "\n",
        "Hydrodynamic boundary layer is :  3.956 m\n",
        "\n",
        "Thermal boundary layer is :  4.441 mm\n",
        "\n"
       ]
      }
     ],
     "prompt_number": 5
    },
    {
     "cell_type": "heading",
     "level": 3,
     "metadata": {},
     "source": [
      "Example 6.6, Page number: 310"
     ]
    },
    {
     "cell_type": "code",
     "collapsed": false,
     "input": [
      "from __future__ import division\n",
      "import math\n",
      "\n",
      "#Variables\n",
      "T1=288;                                                    #  air  temperature,K\n",
      "v=1.8;                                                     #  air  velocity,m/s\n",
      "l=0.6;                                                     #  length  of  panel,  m\n",
      "Q=420;                                                     #  power  per  unit  area,  m**2\n",
      "T2=378;                                                    #  maximum  temperature  of  surface,  K\n",
      "k=0.0278;                                                  #thermal  conductivity  of ,W/(m.K)\n",
      "Pr=0.709;                                                  #Prandtl no.\n",
      "\n",
      "#Calculations\n",
      "T3=Q*l/(k)/(0.453*(l*v/(1.794*10**-5))**(0.50)*(Pr)**(1/3));#maximum  temperature  difference  \n",
      "Twmax=T1+T3;                                               #Twmax  comes  out  to  be  106.5  C,  this  is  very  close  to  105  C,if  105  is  at  all  conservative,  Q  =  420  should  be  safe.\n",
      "T4=0.453/0.6795*T3;                                        #average  temperature  difference,K\n",
      "Twavg=T1+T4;                                               #average  wall  temperature,K\n",
      "Twa=Twavg-273;                                             #average wall temp. in \u00b0C\n",
      "\n",
      "#Results\n",
      "print \"Average wall temperature is :\",round(Twa,3),\"C\\n\"\n"
     ],
     "language": "python",
     "metadata": {},
     "outputs": [
      {
       "output_type": "stream",
       "stream": "stdout",
       "text": [
        "Average wall temperature is : 75.975 C\n",
        "\n"
       ]
      }
     ],
     "prompt_number": 4
    },
    {
     "cell_type": "heading",
     "level": 3,
     "metadata": {},
     "source": [
      "Example 6.8, Page number: 313"
     ]
    },
    {
     "cell_type": "code",
     "collapsed": false,
     "input": [
      "from __future__ import division\n",
      "import math\n",
      "\n",
      "#Variables\n",
      "v=15;                                              #air  velocity,m/s\n",
      "T2=383;                                            #  temperature  of  plate,K\n",
      "l=0.5;                                             #  length  of  plate,m\n",
      "w=0.5;                                             # width  of  plate,m\n",
      "Pr=0.707;                                          #  prandtl  no.\n",
      "rho=1.05;                                          #Air desnity, kg/m^3\n",
      "#Calculations\n",
      "Rel=v*l/(0.0000194);                               #reynolds  no.\n",
      "Nul=0.664*math.sqrt(Rel)*Pr**(1/3);                #  nusset  no.\n",
      "Cf=2*Nul/(Rel*Pr**(1/3));                          #friction  coefficient\n",
      "s=Cf*0.5*rho*v**2;                                 #drag  shear,  kg/(m*s**2)\n",
      "f=s*0.5**2;                                        #drag  force,  N\n",
      "\n",
      "#Results\n",
      "print \"Drag force on heat transfer surface is :\",round(f,5),\"N\\n\"\n",
      "\n"
     ],
     "language": "python",
     "metadata": {},
     "outputs": [
      {
       "output_type": "stream",
       "stream": "stdout",
       "text": [
        "Drag force on heat transfer surface is : 0.06307 N\n",
        "\n"
       ]
      }
     ],
     "prompt_number": 8
    },
    {
     "cell_type": "heading",
     "level": 3,
     "metadata": {},
     "source": [
      "Example 6.9, Page number: 328"
     ]
    },
    {
     "cell_type": "code",
     "collapsed": false,
     "input": [
      "from __future__ import division\n",
      "import math\n",
      "\n",
      "#Variables\n",
      "T1=297;                                                #  river  water  temp.,K\n",
      "T2=283;                                                #  ocean  water  temp.,  K\n",
      "n=5;                                                   #  no.  of  knots\n",
      "k=0.5927;                                              #  thermal  conductivity,W/(m*K)\n",
      "a=998.8;                                               #density  of  water,  kg/m**3\n",
      "Cp=4187;                                               #  heat  capacity,  J/kg/K\n",
      "Pr=7.66;                                               #Prandtle no.\n",
      "x=1;                                                   #distance  from  forward  edge,m\n",
      "v=1.085*10**-6;                                        #  kinematic  viscosity,  m**2/s\n",
      "u=2.572;                                               # velocity  of  knot,m/s\n",
      "\n",
      "#Calculations\n",
      "T3=(T1+T2)/2;                                          #  avg.  temp.,K\n",
      "Rex=u/v                                                # reynolds  no.\n",
      "Cf=0.455/(math.log(0.06*Rex))**2                       #  friction  coefficient\n",
      "h=k/x*0.032*(Rex)**(0.8)*Pr**(0.43);                   #  heat  transfer  coefficient,W/(m**2*K)\n",
      "h1=a*Cp*u*Cf/2/(1+12.8*(Pr**0.68-1)*math.sqrt(Cf/2));  #heat  transfer  coefficient,W/(m**2*K)\n",
      "\n",
      "#Results\n",
      "print \"Friction coefficient is :\",round(Cf,5),\"\\n\"\n",
      "print \"Convective heat transfer coefficient at a distance of 1 m fom the forward edge is :\",round(h,3),\"W/(m^2*K)\\n\"\n",
      "print \"Heat transfer coefficient by another method is :\",round(h1,3),\"W/(m^2*K)\\n\"\n",
      "print \"The two values of h differ by about 18 percent, which is within the uncertainity \\n\"\n"
     ],
     "language": "python",
     "metadata": {},
     "outputs": [
      {
       "output_type": "stream",
       "stream": "stdout",
       "text": [
        "Friction coefficient is : 0.00323 \n",
        "\n",
        "Convective heat transfer coefficient at a distance of 1 m fom the forward edge is : 5728.966 W/(m^2*K)\n",
        "\n",
        "Heat transfer coefficient by another method is : 6843.244 W/(m^2*K)\n",
        "\n",
        "The two values of h differ by about 18 percent, which is within the uncertainity \n",
        "\n"
       ]
      }
     ],
     "prompt_number": 9
    },
    {
     "cell_type": "heading",
     "level": 3,
     "metadata": {},
     "source": [
      "Example 6.10, Page number: 329"
     ]
    },
    {
     "cell_type": "code",
     "collapsed": false,
     "input": [
      "from __future__ import division\n",
      "import math\n",
      "\n",
      "#Variables\n",
      "l=2;                                               #  length  of  plate,m\n",
      "p=1000;                                            #  power  density,W/m**2\n",
      "u=10;                                              #  air  velocity,m/s\n",
      "T1=290;                                            #  wind  tunnel  temp.,K\n",
      "p2=1;                                              #  pressure,atm\n",
      "v=1.578*10**-5;                                    #  kinematic  viscosity,  m**2/s\n",
      "k=0.02623;                                         #  thermal  conductivity,W/(m*K)\n",
      "Pr=0.713;                                          #  prandtl  no.\n",
      "Rel=u*l/v;                                         #  reynolds  no.  at  10  m/s\n",
      "Nul=1845;                                          #  nusselt  no.\n",
      "Re=400000;                                         #Reynolds no. at the end of turbulent transition engine\n",
      "\n",
      "#Calculations\n",
      "h=Nul*k/l;                                         #convection  coefficient,W/(m**2*K)\n",
      "Tavg=T1+p/h;                                       #Average temperature of plate, K\n",
      "\n",
      "#to  take  better  account  of  the  transition  region,  we  can  use  churchill  eqn.\n",
      "x=Rel*Pr**(2/3)/(math.sqrt(1+(0.0468/Pr)**(2/3)));    \n",
      "x1=1.875*x*Re/Rel;\n",
      "Nul1=0.45+0.6774*math.sqrt(x)*math.sqrt(1+((x/12500)**(3/5))/(1+(x1/x)**3.5)**0.4);\n",
      "H=Nul1*k/l;                                        #convection  coefficient,W/(m**2*K)\n",
      "Tw=290+1000/H;                                     #average  temperature  of  plate,K\n",
      "\n",
      "#Results\n",
      "print \"Average temperature of plate is :\",round(Tavg,2),\" K\\n\"\n",
      "print \"Average temperature of plate is :\",round(Tw,2),\" K , thus in this case, the average heat transfer coefficient is 33 percent higher when the transition regime is included.\\n\"\n"
     ],
     "language": "python",
     "metadata": {},
     "outputs": [
      {
       "output_type": "stream",
       "stream": "stdout",
       "text": [
        "Average temperature of plate is : 331.33  K\n",
        "\n",
        "Average temperature of plate is : 321.54  K , thus in this case, the average heat transfer coefficient is 33 percent higher when the transition regime is included.\n",
        "\n"
       ]
      }
     ],
     "prompt_number": 23
    }
   ],
   "metadata": {}
  }
 ]
}