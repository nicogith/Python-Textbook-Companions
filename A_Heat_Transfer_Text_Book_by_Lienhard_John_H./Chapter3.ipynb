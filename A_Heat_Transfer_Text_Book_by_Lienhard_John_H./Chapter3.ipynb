{
 "metadata": {
  "name": ""
 },
 "nbformat": 3,
 "nbformat_minor": 0,
 "worksheets": [
  {
   "cells": [
    {
     "cell_type": "heading",
     "level": 1,
     "metadata": {},
     "source": [
      "Chapter 3 - Heat exchanger design "
     ]
    },
    {
     "cell_type": "heading",
     "level": 3,
     "metadata": {},
     "source": [
      "Example 3.3, Page number: 113"
     ]
    },
    {
     "cell_type": "code",
     "collapsed": false,
     "input": [
      "from __future__ import division\n",
      "import math\n",
      "\n",
      "#Variables\n",
      "T1=20;                                   #Entering  Temperature  of  Water,  K\n",
      "T2=40;                                   #Exit  Temperature  of  water,  K\n",
      "m=25/60                                  #Condensation  rate  of  steam,  kg/s\n",
      "T3=60;                                   #Condensation  Temperature,K\n",
      "A=12;                                    #area  of  exchanger,  m**2\n",
      "h=2358.7*math.pow(10,3);                 #latent  heat,  J/kg\n",
      "Cp=4174;                                 #Specific heat of water, J/kg K\n",
      "\n",
      "#Calculations\n",
      "U=(m*h)/(A*((T2-T1)/math.log((T3-T1)/(T3-T2))));#Overall heat transfer coefficient, W/(m^2*K)\n",
      "Mh=(m*h)/(Cp*(T2-T1));\t\t             #Required flow of water, kg/s\n",
      "\n",
      "#Results\n",
      "print \"Overall heat transfer coefficient is :\",round(U,1),\"W/(m^2*K)\\n\"\n",
      "print \"Required flow of water is :\",round(Mh,2),\"kg/s\\n\"\n"
     ],
     "language": "python",
     "metadata": {},
     "outputs": [
      {
       "output_type": "stream",
       "stream": "stdout",
       "text": [
        "Overall heat transfer coefficient is : 2838.4 W/(m^2*K)\n",
        "\n",
        "Required flow of water is : 11.77 kg/s\n",
        "\n"
       ]
      }
     ],
     "prompt_number": 7
    },
    {
     "cell_type": "heading",
     "level": 3,
     "metadata": {},
     "source": [
      "Example 3.4, Page number: 117"
     ]
    },
    {
     "cell_type": "code",
     "collapsed": false,
     "input": [
      "from __future__ import division\n",
      "import math\n",
      "\n",
      "#Variables\n",
      "m=5.795;                              #flow  rate  of  oil,  kg/s\n",
      "T1=454;                               #Entering  Temperature  of  oil,  K\n",
      "T2=311;                               #Exit  Temperature  of  oil,  K\n",
      "T3=305;                               #  Entering  Temperature  of  water,  K\n",
      "T4=322;                               #Exit  Temperature  of  water,  K\n",
      "c=2282;                               #heat  capacity,  J/(kg*K)\n",
      "U=416;                                #overall  heat  transfer  coefficient  ,  J/(m**2*K*s)\n",
      "F=0.92;                               #Correction  factor  for  2  shell  and  4  tube-pass  exchanger,\n",
      "#since  R=(T1-T2)/(T4-T3)=8.412  >1,  P=(T4-T3)/(T1-T2)=0.114,we  can  get  this  value  of  F  by  using  value  of  P  =R*0.114\n",
      "\n",
      "#Calculations\n",
      "A=(m*c*(T1-T2))/(U*F*((T1-T4-T2+T3)/math.log((T1-T4)/(T2-T3))));#Area for heat exchanger, m^2.\n",
      "\n",
      "#Results\n",
      "print \"Area for heat exchanger is :\",round(A,3),\"m^2\\n\"\n"
     ],
     "language": "python",
     "metadata": {},
     "outputs": [
      {
       "output_type": "stream",
       "stream": "stdout",
       "text": [
        "Area for heat exchanger is : 121.216 m^2\n",
        "\n"
       ]
      }
     ],
     "prompt_number": 8
    },
    {
     "cell_type": "heading",
     "level": 3,
     "metadata": {},
     "source": [
      "Example 3.5, Page number: 112"
     ]
    },
    {
     "cell_type": "code",
     "collapsed": false,
     "input": [
      "from __future__ import division\n",
      "import math\n",
      "\n",
      "#Variables\n",
      "T1=313;                                                    #entering  temperature  of  cold  water,  K\n",
      "T2=423;                                                    #Entering  temperature  of  hot  water,  K\n",
      "Cc=20000;                                                  #heat  capacity  of  cold  water,  W/K\n",
      "Ch=10000;                                                  #heat  capacity  of  hot  water,  W/K\n",
      "A=30;                                                      #area,  m**2\n",
      "U=500;                                                     #overall  heat  transfer  coefficient,  w/(m**2*K)\n",
      "e=0.596;                                                   #no.  of  transfer  units(NTU)=(U*A)/Ch=1.5,  the  effectiveness  of  heat  exchanger  e  can  be  found  by  using  this  value  of  NTU\n",
      "\n",
      "#Calculations\n",
      "Q=e*Ch*(T2-T1);\t\t\t\t\t\t\t\t#Heat transfer, W\n",
      "Q1=Q/1000\t\t\t\t\t     \t\t\t#Heat transfer, KW\n",
      "Texh=T2-Q/Ch;\t\t\t\t\t\t\t\t#exit hot water temperature, K \n",
      "Tn1=Texh-273;\t\t\t\t\t\t\t\t#exit hot water temperature, C\n",
      "Texc=T1+Q/Cc\t\t\t\t\t\t\t\t#exit cold water temperature, K\n",
      "Tn2=Texc-273;\t\t\t\t\t\t\t\t#exit cold water temperature, C\n",
      "\n",
      "#Results\n",
      "print \"Heat transfer is :\",Q1,\"KW\\n\"\n",
      "print \"The exit hot water temperature is:\",Tn1,\"C\\n\"\n",
      "print \"The exit cold water temperature is :\",Tn2,\"C\\n\"\n"
     ],
     "language": "python",
     "metadata": {},
     "outputs": [
      {
       "output_type": "stream",
       "stream": "stdout",
       "text": [
        "Heat transfer is : 655.6 KW\n",
        "\n",
        "The exit hot water temperature is: 84.44 C\n",
        "\n",
        "The exit cold water temperature is : 72.78 C\n",
        "\n"
       ]
      }
     ],
     "prompt_number": 2
    },
    {
     "cell_type": "heading",
     "level": 3,
     "metadata": {},
     "source": [
      "Example 3.6, Page number: 123"
     ]
    },
    {
     "cell_type": "code",
     "collapsed": false,
     "input": [
      "from __future__ import division\n",
      "import math\n",
      "\n",
      "#Variables\n",
      "T1=313;                                          #entering  temperature  of  cold  water,  K\n",
      "T2=423;                                          #Entering  temperature  of  hot  water,  K\n",
      "T3=363;                                          #Exit  temperature  of  hot  water,  K\n",
      "Cc=20000;                                        #heat  capacity  of  cold  water,  W/K\n",
      "Ch=10000;                                        #heat  capacity  of  hot  water,  W/K\n",
      "U=500;                                           #overall  heat  transfer  coefficient,  w/(m**2*K)\n",
      "\n",
      "#Calculations\n",
      "T4=T1+(Ch/Cc)*(T2-T3);\t\t            \t\t #Exit cold fluid temp. K\n",
      "\n",
      "e=(T2-T3)/(T2-T1);\t\t\t                 \t #Effectiveness method\n",
      "NTU=1.15;\t\t\t\t\t                     #No. of transfer unit\n",
      "A1=Ch*(NTU)/U;                                   #  since  NTU=1.15=U*A/Ch,  Area can  be  found  by  using  this  formula\n",
      "#another  way  to  calculate  the  area  is  by  using log  mean  diameter  method\n",
      "LMTD=(T2-T1-T3+T4)/math.log((T2-T1)/(T3-T4));        #Logarithmic mean temp. difference\n",
      "A2=Ch*(T2-T3)/(U*LMTD);\t\t\t\t             #Aera by method 2, in meters^2.\n",
      "\n",
      "#Results\n",
      "print \"Area is :\",A1,\"m^2\\n\"\n",
      "print \"Area is :\",round(A2,3),\"m^2\\n\"\n",
      "print \"There is difference of 1 percent in answers which reflects graph reading inaccuracy.\"\n",
      "#  we  can  see  that  area  calulated  is  same  in  above  2  methods.\n"
     ],
     "language": "python",
     "metadata": {},
     "outputs": [
      {
       "output_type": "stream",
       "stream": "stdout",
       "text": [
        "Area is : 23.0 m^2\n",
        "\n",
        "Area is : 22.73 m^2\n",
        "\n",
        "There is difference of 1 percent in answers which reflects graph reading inaccuracy.\n"
       ]
      }
     ],
     "prompt_number": 19
    }
   ],
   "metadata": {}
  }
 ]
}