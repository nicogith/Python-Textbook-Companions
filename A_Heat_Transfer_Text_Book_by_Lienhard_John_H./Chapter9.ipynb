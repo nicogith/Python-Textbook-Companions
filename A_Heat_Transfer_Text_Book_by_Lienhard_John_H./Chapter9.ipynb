{
 "metadata": {
  "name": ""
 },
 "nbformat": 3,
 "nbformat_minor": 0,
 "worksheets": [
  {
   "cells": [
    {
     "cell_type": "heading",
     "level": 1,
     "metadata": {},
     "source": [
      "Chapter 9 : Heat transfer in boiling and \n",
      "other phase-change \n",
      "configurations "
     ]
    },
    {
     "cell_type": "heading",
     "level": 3,
     "metadata": {},
     "source": [
      "Example 9.1, Page number: 467"
     ]
    },
    {
     "cell_type": "code",
     "collapsed": false,
     "input": [
      "from __future__ import division\n",
      "import math\n",
      "\n",
      "#Variables\n",
      "T2=363;                                           #  temp.  of  strip,K\n",
      "T1=373;                                           #saturated  temp.,K\n",
      "p=1.013*10**5;                                    #pressure  of  water,N/m**2\n",
      "psat=1.203*10**5;                                 #saturated  pressure  at  108  C,N/m**2\n",
      "psat1=1.769*10**5;                                #saturated  pressure  at  116  C,N/m**2\n",
      "a=57.36*10**-3;                                   #surface  tension,  N/mat  Tsat=108  C\n",
      "a1=55.78*10**-3;                                  #surface  tension,  N/mat  Tsat=116  C\n",
      "\n",
      "#Calculations\n",
      "Rb=2*a/(psat-p)*1000;                             #bulk  radius  at  108  C,  mm\n",
      "Rb1=2*a1/(psat1-p)*1000;                          #  bulk  radius  at  116  C,  mm\n",
      "\n",
      "#Results\n",
      "print \"Bulk radius at 108 C is :\",Rb,\" mm\\n\"\n",
      "print \"Bulk radius at 116 C is :\",Rb1,\"mm\\n\"\n",
      "print \"This means that the active nucleation sites would be holes with diameters very roughly on the order magnitude of 0.005 mm atleast on the heater .that is within the ransge of roughness of commercially finished surfaces.\"\n",
      "\n"
     ],
     "language": "python",
     "metadata": {},
     "outputs": [
      {
       "output_type": "stream",
       "stream": "stdout",
       "text": [
        "Bulk radius at 108 C is : 0.00603789473684  mm\n",
        "\n",
        "Bulk radius at 116 C is : 0.00147566137566 mm\n",
        "\n",
        "This means that the active nucleation sites would be holes with diameters very roughly on the order magnitude of 0.005 mm atleast on the heater .that is within the ransge of roughness of commercially finished surfaces.\n"
       ]
      }
     ],
     "prompt_number": 1
    },
    {
     "cell_type": "heading",
     "level": 3,
     "metadata": {},
     "source": [
      "Example 9.2, Page number: 470"
     ]
    },
    {
     "cell_type": "code",
     "collapsed": false,
     "input": [
      "from __future__ import division\n",
      "import math\n",
      "\n",
      "#Variables\n",
      "q=800;                                          #power  delivered  per  unit  area,KW/m**2\n",
      "T1=373;                                         #saturated  temp.of  water,  K\n",
      "delT=22;                                        #  temp.  difference,K\n",
      "Cp=4.22;                                        #heat  capacity  of  water,kj/(kg*K)\n",
      "Pr=1.75;                                        #prandtl  no.\n",
      "a=958;                                          #desity  difference,kg/m**3\n",
      "s=0.0589;                                       #surface  tension,kg/s**2\n",
      "Hfg=2257;                                       #latent  heat,kj/kg\n",
      "drho=958;                                       #\n",
      "mu=0.0000282;                                   #\n",
      "g=980;\n",
      "\n",
      "#Calculations\n",
      "#by  using  rohensow  correlation  applied  data  for  water  boiling  on  0.61  mm  diameter  platinum  wire\n",
      "RHS=mu*Cp**3/(Hfg**2*Pr**3)*math.sqrt(g*(drho)/s)  #RHS of equation 9.4\n",
      "Csf=(RHS*(delT)**3/(q))**(1/3);          #surface  correction  factor  of  the  heater  surface\n",
      "\n",
      "#Results\n",
      "print \"Surface correction factor of the heater surface is :\",round(Csf,5),\", this value compares favorably with Csf for a platinum or copper surface under water.\\n\"\n"
     ],
     "language": "python",
     "metadata": {},
     "outputs": [
      {
       "output_type": "stream",
       "stream": "stdout",
       "text": [
        "Surface correction factor of the heater surface is : 0.01604 , this value compares favorably with Csf for a platinum or copper surface under water.\n",
        "\n"
       ]
      }
     ],
     "prompt_number": 27
    },
    {
     "cell_type": "heading",
     "level": 3,
     "metadata": {},
     "source": [
      "Example 9.3, Page number: 477"
     ]
    },
    {
     "cell_type": "code",
     "collapsed": false,
     "input": [
      "from __future__ import division\n",
      "import math\n",
      "\n",
      "#Variables\n",
      "p=1.013*10**5;                                  #pressure  of  water,N/m**2\n",
      "D=0.1;                                          #inside  diameter,m\n",
      "l=0.04;                                         #wavelength,m\n",
      "a=0.0589;                                       #surface  tension,N/m\n",
      "b=0.577;                                        #density  of  gas,  kg/m**3\n",
      "\n",
      "#Calculations\n",
      "u=math.sqrt(2*math.pi*a/(b*l));                   #the  flow  will  be  helmholtz  stable  until  the  steam  velocity  reaches  this  value.\n",
      "\n",
      "#Results\n",
      "print \"Steam velocity required to destablize the liquid flow is :\",round(u,4),\"m/s ,beyond that, the liquid will form whitecaps and be blown back upward.\\n\"\n"
     ],
     "language": "python",
     "metadata": {},
     "outputs": [
      {
       "output_type": "stream",
       "stream": "stdout",
       "text": [
        "Steam velocity required to destablize the liquid flow is : 4.0043 m/s ,beyond that, the liquid will form whitecaps and be blown back upward.\n",
        "\n"
       ]
      }
     ],
     "prompt_number": 3
    },
    {
     "cell_type": "heading",
     "level": 3,
     "metadata": {},
     "source": [
      "Example 9.4, Page number: 478"
     ]
    },
    {
     "cell_type": "code",
     "collapsed": false,
     "input": [
      "from __future__ import division\n",
      "import math\n",
      "\n",
      "#Variables\n",
      "a=13600;                                          #desity  difference,kg/m**3\n",
      "s=0.487;                                          #surface  tension,kg/s**2\n",
      "\n",
      "#Calculations\n",
      "L=2*math.pi*(3**0.5)*math.sqrt(s/(9.8*a))*100;    #spacing  wavelength,cm\n",
      "\n",
      "#Results\n",
      "print \"Maximum spacing is :\",round(L,4),\"cm\\n\"\n",
      "print \"Actually this spacing would give the maximum rate of collapse.it can be shown that collapse would begin at 1/3^0.5 times this value or at 1.2 cm.\"\n"
     ],
     "language": "python",
     "metadata": {},
     "outputs": [
      {
       "output_type": "stream",
       "stream": "stdout",
       "text": [
        "Maximum spacing is : 2.0803 cm\n",
        "\n",
        "Actually this spacing would give the maximum rate of collapse.it can be shown that collapse would begin at 1/3^0.5 times this value or at 1.2 cm.\n"
       ]
      }
     ],
     "prompt_number": 1
    },
    {
     "cell_type": "heading",
     "level": 3,
     "metadata": {},
     "source": [
      "Example 9.5, Page number: 481"
     ]
    },
    {
     "cell_type": "code",
     "collapsed": false,
     "input": [
      "from __future__ import division\n",
      "\n",
      "#Variables\n",
      "T1=373;                                        #saturated  temp.of  water,  K\n",
      "a=957.6;                                       #desity  difference,kg/m**3\n",
      "s=0.0589;                                      #surface  tension,kg/s**2\n",
      "Hfg=2257*1000;                                 #latent  heat,J/kg\n",
      "a2=0.597;                                      #density  of  gas,  kg/m**3\n",
      "g=9.8;                                         #Gravitational constant, m/s^2\n",
      "\n",
      "#Calculations\n",
      "Qmax=0.149*math.sqrt(a2)*Hfg*(g*a*s)**0.25/1000000;\n",
      "\n",
      "#Results\n",
      "print \"Peak heat flux is : \",round(Qmax,3),\",from figure it can be shown that qmax =1.16 MW/m^2, which is less by only about 8 percent.\\n\"\n"
     ],
     "language": "python",
     "metadata": {},
     "outputs": [
      {
       "output_type": "stream",
       "stream": "stdout",
       "text": [
        "Peak heat flux is :  1.26 ,from figure it can be shown that qmax =1.16 MW/m^2, which is less by only about 8 percent.\n",
        "\n"
       ]
      }
     ],
     "prompt_number": 2
    },
    {
     "cell_type": "heading",
     "level": 3,
     "metadata": {},
     "source": [
      "Example 9.6, Page number: 481"
     ]
    },
    {
     "cell_type": "code",
     "collapsed": false,
     "input": [
      "from __future__ import division\n",
      "\n",
      "#Variables\n",
      "T1=628;                                       #saturated  temp.of  water,  K\n",
      "a=13996;                                      #desity  difference,kg/m**3\n",
      "s=0.418;                                      #surface  tension,kg/s**2\n",
      "Hfg=292500;                                   #latent  heat,J/kg\n",
      "a2=4;                                         #density  of  mercury,  kg/m**3\n",
      "g=9.8;                                        #Gravitational constant, m/s^2\n",
      "\n",
      "#Calculations\n",
      "Qmax=0.149*math.sqrt(a2)*Hfg*math.pow((g*a*s),0.25)/(10**6);#Peak heat flux in MW/m^2\n",
      "\n",
      "#Results\n",
      "print \"Peak heat flux is :\",round(Qmax,3),\"MW/m^2\\n\"\n",
      "print \"The result is very close to that for water,the increase in density and surface tension have not been compensated by amuch lower latent heat.\"\n"
     ],
     "language": "python",
     "metadata": {},
     "outputs": [
      {
       "output_type": "stream",
       "stream": "stdout",
       "text": [
        "Peak heat flux is : 1.349 MW/m^2\n",
        "\n",
        "The result is very close to that for water,the increase in density and surface tension have not been compensated by amuch lower latent heat.\n"
       ]
      }
     ],
     "prompt_number": 7
    },
    {
     "cell_type": "heading",
     "level": 3,
     "metadata": {},
     "source": [
      "Example 9.7, Page number: 485"
     ]
    },
    {
     "cell_type": "code",
     "collapsed": false,
     "input": [
      "from __future__ import division\n",
      "import math\n",
      "\n",
      "#Variables\n",
      "T1=373;                                               #saturated  temp.of  water,  K\n",
      "a=958  ;                                              #desity  difference,kg/m**3\n",
      "s=0.0589;                                             #surface  tension,kg/s**2\n",
      "Hfg=2257000;                                          #latent  heat,J/kg\n",
      "a2=0.597;                                             #density  of  gas,  kg/m**3\n",
      "A=400*10**-4;                                         #area  of  mettalic  body,m**2\n",
      "V=0.0006;                                             #volume  of  body,  m**3\n",
      "g=9.8;                                                #Gravitational constant, m/s^2\n",
      "\n",
      "#Calculations\n",
      "Qmax=(0.131*math.sqrt(a2)*Hfg*math.pow((g*a*s),0.25))*0.9*A/1000  ;#large  rate  of  energy  removal,  KW     as  the  cooling  process  progresses,it  goes  through  the  boiling  curve  from  film  boiling,through  qmin,  up  the  transitional  boiling  regime,through  qmax  and  down  the3  nucleate  boiling  curve.  \n",
      "#R=V/A*(9.8*a/s)**0.5       since  this  value  comes  out  to  be  6.0,  which  is  larger  than  the  specified  lower  bound  of  about  4.\n",
      "#to  complete  the  calculation,  it  is  necessary  to  check  whether  or  not  rate  is  large  enough  to  justify  the  use.\n",
      "R=V/A*math.sqrt(g*958/0.0589);                          #the  most  rapid  rate  of  heat  removal  during  the  quench\n",
      "\n",
      "#Results\n",
      "print \"The heat flow is  :\",round(Qmax,1),\"KW\\n\"\n",
      "print \"The most rapid rate of heat removal during the quench is :\",round(R),\", this is larger than the specified lower bound of about 4.\\n\"\n"
     ],
     "language": "python",
     "metadata": {},
     "outputs": [
      {
       "output_type": "stream",
       "stream": "stdout",
       "text": [
        "The heat flow is  : 39.9 KW\n",
        "\n",
        "The most rapid rate of heat removal during the quench is : 6.0 , this is larger than the specified lower bound of about 4.\n",
        "\n"
       ]
      }
     ],
     "prompt_number": 11
    },
    {
     "cell_type": "heading",
     "level": 3,
     "metadata": {},
     "source": [
      "Example 9.8, Page number: 488"
     ]
    },
    {
     "cell_type": "code",
     "collapsed": false,
     "input": [
      "from __future__ import division\n",
      "import math\n",
      "\n",
      "#Variables\n",
      "T1=373;                                             #saturated  temp.of  water,  K\n",
      "a=958;                                              #desity  difference,kg/m**3\n",
      "s=0.0589;                                           #surface  tension,kg/s**2\n",
      "Hfg=2257*1000;                                      #latent  heat,J/kg\n",
      "a2=0.597;                                           #density  of  gas,  kg/m**3\n",
      "g=9.8;                                              #Gravitational constant, m/s^2\n",
      "\n",
      "#Calculations\n",
      "Qmin=0.09*a2*Hfg*(g*a*s/(959**2))**0.25;            #Using equation 9.34\n",
      "\n",
      "#Results\n",
      "print \"peak heat flux is :\",round(Qmin),\"W/m^2  ,from the figure, we read 20000 W/m^2, which is the same, within the accuracy of graph.\\n\"\n"
     ],
     "language": "python",
     "metadata": {},
     "outputs": [
      {
       "output_type": "stream",
       "stream": "stdout",
       "text": [
        "peak heat flux is : 18990.0 W/m^2  ,from the figure, we read 20000 W/m^2, which is the same, within the accuracy of graph.\n",
        "\n"
       ]
      }
     ],
     "prompt_number": 14
    },
    {
     "cell_type": "heading",
     "level": 3,
     "metadata": {},
     "source": [
      "Example 9.9, Page number: 502"
     ]
    },
    {
     "cell_type": "code",
     "collapsed": false,
     "input": [
      "from __future__ import division\n",
      "import math\n",
      "\n",
      "#Variables\n",
      "T1=480;                                              #bulk  temp.of  water,  K\n",
      "m=0.6;                                               #mass  flow  rate  of  saturated  water,kg/s\n",
      "D=0.05;                                              #diameter  of  vertical  tube,m\n",
      "p=184000;                                            #heating  rate  f  tube,  W/m**2\n",
      "A=0.001964;                                          #area  of  the  pipe,m**2\n",
      "Pr=0.892;                                            #prandtl  no.\n",
      "x=0.2;                                               #quality\n",
      "a1=9.014;                                            #density  of  gas,kg/m**3\n",
      "a2=856.5                                             #density  of  water,  kg/m**3\n",
      "Hfg=1913*1000;                                       #latent  heat,J/kg\n",
      "muf=1.297*10**-4                                     #\n",
      "\n",
      "#Calculations\n",
      "G=m/A;                                               #superficial  mass  flux\n",
      "Relo=G*D/(1.297*10**-4);                             #reynolds  no.  for  liquid  only.\n",
      "f=1/(1.82/2.303*math.log(Relo)-1.64)**2;             #  formula  for  friction  factor  for  smooth  pipes\n",
      "Nu=(f/8*Relo*Pr)/(1.07+12.7*math.sqrt(f/8)*(Pr**(2/3)-1));#formula  for  nusselt  no.in  fully  developed  flow  in  smooth  pipes\n",
      "hlo=0.659*Nu/D;                                      #heat  transfer  coefficient,w/(m**2*K)\n",
      "Co=((1-x)/x)**0.8*math.sqrt(a1/a2);                  #  Convection  no.\n",
      "Bo=p/(G*Hfg);                                        #  boiling  no.\n",
      "Hfg1=(1-x)**0.8*(0.6683*Co**(-0.2)+1058*Bo**0.7)*hlo;#heat  transfer  coefficient  for  nucleate  boiling  dominant,  w/(m**2*K)\n",
      "Hfg2=(1-x)**0.8*(1.136*Co**(-0.9)+667.2*Bo**0.7)*hlo;#heat  transfer  coefficient  for  connective  boiling  dominant,  w/(m**2*K)\n",
      "#since  the  second  value  is  larger,we  will  use  it.\n",
      "Tw=T1+p/Hfg2;                                        #wall  temperature  ,K\n",
      "Tw1=Tw-273;                                          #wall  temperature  ,C\n",
      "\n",
      "#Results\n",
      "print \"Wall temperature  is :\",round(Tw1,3),\"C\\n\"\n",
      "\n"
     ],
     "language": "python",
     "metadata": {},
     "outputs": [
      {
       "output_type": "stream",
       "stream": "stdout",
       "text": [
        "Wall temperature  is : 220.389 C\n",
        "\n"
       ]
      }
     ],
     "prompt_number": 15
    }
   ],
   "metadata": {}
  }
 ]
}