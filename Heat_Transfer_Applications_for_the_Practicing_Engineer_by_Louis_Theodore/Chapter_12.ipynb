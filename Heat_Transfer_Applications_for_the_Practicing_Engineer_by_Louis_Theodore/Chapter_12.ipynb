{
 "metadata": {
  "name": "",
  "signature": "sha256:2b2623ff77afaafd7c16fc0720e69537bf598cad89dca70b267d9306235c5968"
 },
 "nbformat": 3,
 "nbformat_minor": 0,
 "worksheets": [
  {
   "cells": [
    {
     "cell_type": "heading",
     "level": 1,
     "metadata": {},
     "source": [
      "Chapter 12: Condensation and Boiling"
     ]
    },
    {
     "cell_type": "heading",
     "level": 3,
     "metadata": {},
     "source": [
      "ILLUSTRATIVE EXAMPLE 12.2, Page number: 206"
     ]
    },
    {
     "cell_type": "code",
     "collapsed": false,
     "input": [
      "\n",
      "\n",
      "#Variable declaration:\n",
      "C = 1                       #Number of constituents\n",
      "P = 1                       #Number of phases\n",
      "\n",
      "#Calculation:\n",
      "F = C-P+2                   #Number of degrees of freedom\n",
      "\n",
      "#Result:\n",
      "print \"The number of degrees of freedom is :\",F,\" .\""
     ],
     "language": "python",
     "metadata": {},
     "outputs": [
      {
       "output_type": "stream",
       "stream": "stdout",
       "text": [
        "The number of degrees of freedom is : 2  .\n"
       ]
      }
     ],
     "prompt_number": 2
    },
    {
     "cell_type": "heading",
     "level": 3,
     "metadata": {},
     "source": [
      "ILLUSTRATIVE EXAMPLE 12.4, Page number: 209"
     ]
    },
    {
     "cell_type": "code",
     "collapsed": false,
     "input": [
      "\n",
      "\n",
      "#Variable declaration:\n",
      "\n",
      "U1 = 1237.1                     #Internnal energy of gas (Btu/lb)\n",
      "U2_g = 1112.2                   #Internal energy of gas (Btu/lb)\n",
      "U2_l = 343.15                   #Internal energy of liquid (Btu/lb)\n",
      "\n",
      "#Calculation:\n",
      "Q = 0.5*(U2_g+U2_l)-1*U1        #Heat removed (Btu/lb)\n",
      "\n",
      "#Result:\n",
      "print \"Heat removed from the system during the process is :\",round(Q,1),\" Btu/lb .\""
     ],
     "language": "python",
     "metadata": {},
     "outputs": [
      {
       "output_type": "stream",
       "stream": "stdout",
       "text": [
        "Heat removed from the system during the process is : -509.4  Btu/lb .\n"
       ]
      }
     ],
     "prompt_number": 4
    },
    {
     "cell_type": "heading",
     "level": 3,
     "metadata": {},
     "source": [
      "ILLUSTRATIVE EXAMPLE 12.5, Page number: 212"
     ]
    },
    {
     "cell_type": "code",
     "collapsed": false,
     "input": [
      "\n",
      "from __future__ import division\n",
      "from sympy import symbols,solve\n",
      "\n",
      "#Variable declaration:\n",
      "T1 = 99.0                           #Mean film temperature (\u00b0C)\n",
      "T2 = 98.0                           #Plate surface temperature (\u00b0C)\n",
      "g = 9.807                           #Gravitational acceleration (m/s^2)\n",
      "#From Appendix:\n",
      "T3 = 100.0                          #Saturation temperatre (\u00b0C)\n",
      "h_vap1 = 970.3                      #Latent heat of steam in Btu/lb (Btu/lb)\n",
      "h_vap2 = 2.255*10**6                #Latent heat of steam in J/kg (J/kg)\n",
      "p_v = 0.577                         #Density of steam (kg/m^3)\n",
      "p_l = 960.0                         #Density of liquid water condensate (kg/m^3)\n",
      "mu_l = 2.82*10**-4                  #Absolute viscosity of liquid water condensate (kg/m.s)\n",
      "k = 0.68                            #Thermal conductivity of water (W/m.K)\n",
      "#From table 12.2\n",
      "Z = 0.4                             #Height of rectangular plate (m)\n",
      "Pw = 0.2                            #Wetted perimeter of rectangular plate (m)\n",
      "h = symbols('h')                    #Average heat transfer coefficient (W/m^2.K)\n",
      "\n",
      "#Calculation:\n",
      "A = Z*Pw                            #Heat transfer area of plate (m^2)\n",
      "R = A/Pw                            #Ratio A/Pw (m)\n",
      "v_l = mu_l/p_l                      #Kinematic viscosity of liquid water condensate (m^2/s)\n",
      "Co1 = (h/k)*(v_l**2/g/(1-p_v/p_l))**(1/3)    #Condensation number (in terms of the average heat transfer coefficient)\n",
      "Re = 4*h*Z*(T3-T2)/(mu_l*h_vap2)    #Reynolds number in terms of the average heat transfer coefficient\n",
      "#From equation 12.14:\n",
      "CO1 = 0.0077*Re**Z                  #Co in terms of Reynolds number for flow type 1\n",
      "x1 = solve(Co1-CO1,h)               #Solving heat transfer coefficient (W/m^2.K)\n",
      "h1 =x1[1];                          #Average heat transfer coefficient for flow type 1 (W/m^2.K)\n",
      "Re1 = Re.subs(h,h1);                #Reynolds number for flow type 1\n",
      "CO2 = 1.874*Re**(-1/3)              #Co in terms of Reynolds number for flow tupe 2\n",
      "x2 = solve(Co1-CO2,h)               #Solving average heat transfer coefficient for flow type 2 (W/m^2.K)\n",
      "h2 = x2[0];                         #Average heat transfer coefficient for flow type 2 (W/m^2.K)\n",
      "Re2 = Re.subs(h,h2)                 #Reynolds number for flow type 2\n",
      "\n",
      "#Result:\n",
      "print \"The type of condensation flow type 2 is laminar.\"\n",
      "print \"And the condensation heat transfer coefficient is :\",round(h2,-1),\" W/m^2.K .\"\n"
     ],
     "language": "python",
     "metadata": {},
     "outputs": [
      {
       "output_type": "stream",
       "stream": "stdout",
       "text": [
        "The type of condensation flow type 2 is laminar.\n",
        "And the condensation heat transfer coefficient is : 14700.0  W/m^2.K .\n"
       ]
      }
     ],
     "prompt_number": 14
    },
    {
     "cell_type": "heading",
     "level": 3,
     "metadata": {},
     "source": [
      "ILLUSTRATIVE EXAMPLE 12.6, Page number: 214"
     ]
    },
    {
     "cell_type": "code",
     "collapsed": false,
     "input": [
      "\n",
      "\n",
      "#Variable declaration:\n",
      "#From example 12.5:\n",
      "Re = 73.9                       #Reynolds number\n",
      "mu_l = 2.82*10**-4              #Absolute viscosity of liquid water condensate (kg/m.s)\n",
      "Pw = 0.2                        #Wetted perimeter of rectangular plate (m)\n",
      "h = 14700.0                     #Heat transfer coefficient (W/m^2.K)\n",
      "T_sat = 100.0                   #Saturation temperature (\u00b0C)\n",
      "Ts = 98.0                       #Surface temperature (\u00b0C)\n",
      "A = 0.2*0.4                     #Heat transfer area of plate (m^2) \n",
      "\n",
      "#Calculation:\n",
      "m1 = Re*mu_l/4.0                #Mass flow rate of condensate (kg/m.s)\n",
      "m = Pw*m1                       #Mass flow rate of condensate (kg/s)\n",
      "Co = (3.038*10**-5)*h           #Condensation number\n",
      "Q = h*A*(T_sat-Ts)              #Heat transfer rate (W)\n",
      "\n",
      "#Result:\n",
      "print \"1. The mass flow rate of condensate is :\",round(m1,4),\" kg/m.s . \"\n",
      "print \"2. The heat transfer rate is :\",round(Q/10**3,2),\" kW . \""
     ],
     "language": "python",
     "metadata": {},
     "outputs": [
      {
       "output_type": "stream",
       "stream": "stdout",
       "text": [
        "1. The mass flow rate of condensate is : 0.0052  kg/m.s . \n",
        "2. The heat transfer rate is : 2.35  kW . \n"
       ]
      }
     ],
     "prompt_number": 6
    },
    {
     "cell_type": "heading",
     "level": 3,
     "metadata": {},
     "source": [
      "ILLUSTRATIVE EXAMPLE 12.7, Page number: 215"
     ]
    },
    {
     "cell_type": "code",
     "collapsed": false,
     "input": [
      "\n",
      "#Variable declaration:\n",
      "T_sat = 126.0                   #Saturation temperature (\u00b0F)\n",
      "T = 64.0                        #Surface temperature of tube (\u00b0F)\n",
      "g = 32.2                        #Gravitational acceleration (ft^2/s)\n",
      "D = 4.0/12.0                    #Outside diameter of tube (ft)\n",
      "\n",
      "#Calculation:\n",
      "Tf = (T_sat+T)/2.0               #Mean film temperature (\u00b0F)\n",
      "#From approximate values of key properties:\n",
      "h_vap = 1022.0                  #Latent heat of steam (Btu/lb)\n",
      "p_v = 0.00576                   #Density of steam (lb/ft^3)\n",
      "p_l = 62.03                     #Density of liquid (lb/ft^3)\n",
      "k_l = 0.364                     #Thermal conductivity of liquid (Btu/h.ft.\u00b0F)\n",
      "mu_l = 4.26*10**-4              #Absolute viscosity of liquid water condensate (lb/ft.s)\n",
      "h = 0.725*((p_l*(p_l-p_v)*g*h_vap*k_l**3)/(mu_l*D*(T_sat-T)/3600.0))**(1.0/4.0)   #Average heat transfer coefficient (Btu/h.ft^2.\u00b0F)\n",
      "\n",
      "#Result:\n",
      "print \"The average heat transfer coefficient is :\",round(h,1),\" Btu/h.ft^2.\u00b0F .\""
     ],
     "language": "python",
     "metadata": {},
     "outputs": [
      {
       "output_type": "stream",
       "stream": "stdout",
       "text": [
        "The average heat transfer coefficient is : 911.4  Btu/h.ft^2.\u00b0F .\n"
       ]
      }
     ],
     "prompt_number": 7
    },
    {
     "cell_type": "heading",
     "level": 3,
     "metadata": {},
     "source": [
      "ILLUSTRATIVE EXAMPLE 12.9, Page number: 222"
     ]
    },
    {
     "cell_type": "code",
     "collapsed": false,
     "input": [
      "\n",
      "#Variable declaration:\n",
      "Qs1 = 9800.0                        #Heat flux (W/m^2)\n",
      "Ts1 = 102.0                         #Original surface temperature (\u00b0C)\n",
      "Ts2 = 103.0                         #New surface temperature (\u00b0C)\n",
      "Tsat = 100.0                        #Saturation temperature (\u00b0C)\n",
      "\n",
      "#Calculation:\n",
      "h1 = Qs1/(Ts1-Tsat)                 #Original heat transfer coefficient (W/m^2.K)\n",
      "DT1 = (Ts1 - Tsat)                  #Original excess temperature (\u00b0C)\n",
      "DT2 = (Ts2 - Tsat)                  #New excess temperature (\u00b0C)\n",
      "n = 0.25                            #Value of n for laminar flow\n",
      "h2 = h1*(DT2/DT1)**(n)              #New heat transfer coefficient (W/m^2.K)\n",
      "Qs2 = h2*(Ts2-Tsat)                 #New heat flux (W/m^2)\n",
      "\n",
      "#Result:\n",
      "print \"The new heat flux is :\",round(Qs2),\" W/m^2.K . \""
     ],
     "language": "python",
     "metadata": {},
     "outputs": [
      {
       "output_type": "stream",
       "stream": "stdout",
       "text": [
        "The new heat flux is : 16268.0  W/m^2.K . \n"
       ]
      }
     ],
     "prompt_number": 9
    },
    {
     "cell_type": "heading",
     "level": 3,
     "metadata": {},
     "source": [
      "ILLUSTRATIVE EXAMPLE 12.10, Page number: 223"
     ]
    },
    {
     "cell_type": "code",
     "collapsed": false,
     "input": [
      "\n",
      "#Variable declaration:\n",
      "#From example 12.9:\n",
      "Ts1 = 102.0                         #Original surface temperature (\u00b0C)\n",
      "Ts2 = 103.0                         #New surface temperature (\u00b0C)\n",
      "Tsat = 100.0                        #Saturation temperature (\u00b0C)\n",
      "\n",
      "#Calculation:\n",
      "DTe1 = (Ts1 - Tsat)                 #Original excess temperature (\u00b0C)\n",
      "DTe2 = (Ts2 - Tsat)                 #New excess temperature (\u00b0C)\n",
      "\n",
      "#Result:\n",
      "print \"The original excess temperature is: DTe = \",DTe1,\" \u00b0C .\"\n",
      "print \"The new excess temperature is: DTe = \",DTe2,\" \u00b0C .\"\n",
      "if ((DTe1 < 5) and (DTe2 < 5)):\n",
      "    print \"The assumption of the free convection mechanism is valid since DTe < 5\u00b0C.\""
     ],
     "language": "python",
     "metadata": {},
     "outputs": [
      {
       "output_type": "stream",
       "stream": "stdout",
       "text": [
        "The original excess temperature is: DTe =  2.0  \u00b0C .\n",
        "The new excess temperature is: DTe =  3.0  \u00b0C .\n",
        "The assumption of the free convection mechanism is valid since DTe < 5\u00b0C.\n"
       ]
      }
     ],
     "prompt_number": 10
    },
    {
     "cell_type": "heading",
     "level": 3,
     "metadata": {},
     "source": [
      "ILLUSTRATIVE EXAMPLE 12.11, Page number: 223"
     ]
    },
    {
     "cell_type": "code",
     "collapsed": false,
     "input": [
      "\n",
      "\n",
      "#Variable declaration:\n",
      "#From example 12.9:\n",
      "Cp = 4127.0                         #heat capacity (J/kg . K)\n",
      "DTe = 3.0                           #New excess temperature (\u00b0C)\n",
      "h_vap = 2.26*10**6                  #latent heat of vaporization (J/kg)\n",
      "\n",
      "#Calculation:\n",
      "Ja_L = Cp*DTe/h_vap                 #Liquid Jakob number\n",
      "\n",
      "#Result:\n",
      "print \"The liquid Jakob number is :\",round(Ja_L,5),\" .\""
     ],
     "language": "python",
     "metadata": {},
     "outputs": [
      {
       "output_type": "stream",
       "stream": "stdout",
       "text": [
        "The liquid Jakob number is : 0.00548  .\n"
       ]
      }
     ],
     "prompt_number": 11
    },
    {
     "cell_type": "heading",
     "level": 3,
     "metadata": {},
     "source": [
      "ILLUSTRATIVE EXAMPLE 12.12, Page number: 223"
     ]
    },
    {
     "cell_type": "code",
     "collapsed": false,
     "input": [
      "\n",
      "\n",
      "#Variable declaration:\n",
      "Ts = 106.0                      #Surface temperature (\u00b0C)\n",
      "Tsat = 100.0                    #Saturation temperature (\u00b0C)\n",
      "\n",
      "#Calculation:\n",
      "DTe = Ts-Tsat                   #Excess temperature (\u00b0C)\n",
      "#From table 12.5:\n",
      "C1 = 5.56                       #Constant C1\n",
      "n1 = 3.0                        #Constant n1\n",
      "C2 = 1040.0                     #Constant C2\n",
      "n2 = 1.0/3.0                    #Constant n2\n",
      "P = 1.0                         #Absolute pressure (atm)\n",
      "Pa = 1.0                        #Ambient absolute pressure (atm)\n",
      "\n",
      "#Calculation:\n",
      "h1 = C1*DTe**n1*(P/Pa)**0.4     #Boiling water heat transfer coefficient (W/m^2)\n",
      "Qs1 = h1*DTe                    #Surface flux (W/m^2)\n",
      "h2 = C2*DTe**n2*(P/Pa)**0.4     #Second Boiling water heat transfer coefficient (W/m^2)\n",
      "Qs2 = h2*DTe                   #Second Surface flux (W/m^2) \n",
      "\n",
      "#Result:\n",
      "   \n",
      "if (Qs1/10**3 > 15.8 and Qs1/10**3 < 236):\n",
      "    print \"The boiling regime is :\",round(Qs1/10**3,1),\" kW/m^2 .\"\n",
      "    print \"The heat transfer coefficient is :\",round(h1), \" W/m^2 .\"\n",
      "elif (Qs1/10**3 < 15.8):\n",
      "    print \"The boiling regime is :\",round(Qs2/10**3,2),\" kW/m^2 .\"\n",
      "    print \"The heat transfer coefficient is :\",round(h2), \" W/m^2 .\""
     ],
     "language": "python",
     "metadata": {},
     "outputs": [
      {
       "output_type": "stream",
       "stream": "stdout",
       "text": [
        "The boiling regime is : 11.34  kW/m^2 .\n",
        "The heat transfer coefficient is : 1890.0  W/m^2 .\n"
       ]
      }
     ],
     "prompt_number": 12
    },
    {
     "cell_type": "heading",
     "level": 3,
     "metadata": {},
     "source": [
      "ILLUSTRATIVE EXAMPLE 12.13, Page number: 224"
     ]
    },
    {
     "cell_type": "code",
     "collapsed": false,
     "input": [
      "\n",
      "\n",
      "from math import pi\n",
      "\n",
      "#Variable declaration:\n",
      "#From example 12.12:\n",
      "Qs1 = 11340.0                   #Surface flux (W/m^2)\n",
      "D = 0.3                         #Diameter of electric heater (m)\n",
      "\n",
      "#Calculation:\n",
      "A = pi*(D/2.0)**2               #Surface area of heater (m^2)\n",
      "Qs = Qs1*A                      #Heat transfer rate (W)\n",
      "\n",
      "#Result:\n",
      "print \"The rate of heat transfer is :\",round(Qs),\" W .\""
     ],
     "language": "python",
     "metadata": {},
     "outputs": [
      {
       "output_type": "stream",
       "stream": "stdout",
       "text": [
        "The rate of heat transfer is : 802.0  W .\n"
       ]
      }
     ],
     "prompt_number": 13
    }
   ],
   "metadata": {}
  }
 ]
}