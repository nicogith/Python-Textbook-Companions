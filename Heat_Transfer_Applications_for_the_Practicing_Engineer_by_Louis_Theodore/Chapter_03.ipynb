{
 "metadata": {
  "name": "",
  "signature": "sha256:18e19bec17b5f55566a2079756ce3fc602f406d3355e580aba8938f8d7833673"
 },
 "nbformat": 3,
 "nbformat_minor": 0,
 "worksheets": [
  {
   "cells": [
    {
     "cell_type": "heading",
     "level": 1,
     "metadata": {},
     "source": [
      "Chapter 3: Process Variables"
     ]
    },
    {
     "cell_type": "heading",
     "level": 3,
     "metadata": {},
     "source": [
      "ILLUSTRATIVE EXAMPLE 3.2, Page number: 17"
     ]
    },
    {
     "cell_type": "code",
     "collapsed": false,
     "input": [
      "\n",
      " \n",
      "#Variable Declaration:\n",
      "Q1 = 8.03                       #Years(part 1)\n",
      "D = 365                         #Days in a year\n",
      "H = 24                          #Hours in a day\n",
      "M = 60                          #Minutes in an hour\n",
      "S = 60                          #Seconds in a minute\n",
      "Q2 = 150                        #Miles per hour(part 2)\n",
      "FM = 5280                       #Feet in a mile\n",
      "YF = 1.0/3.0                    #Yard in a feet\n",
      "Q3 = 100                        #Meter per second square(part 3)\n",
      "Cmm = 100                       #Centimeter in a meter\n",
      "FC = 1.0/30.48                  #Feet in a centimeter\n",
      "SsMs = 60**2                    #Second square in a minute square\n",
      "Q4 = 0.03                       #Gram per centimeter cube (part 4)\n",
      "PG = 1.0/454.0                  #Pound  in a gram\n",
      "CF = (30.48)**3                 #Centimeter in a feet\n",
      " \n",
      "#Calculation:\n",
      "A1 = Q1*D*H*M*S                 #Seconds (s)\n",
      "A2 = Q2*FM*YF                   #Yards per hour (yd/hr)\n",
      "A3 = Q3*Cmm*FC*SsMs             #Feet per min square (ft/min^2)\n",
      "A4 = Q4*PG*CF                   #Pound per feet cube (lb/ft^3)\n",
      " \n",
      "#Results:\n",
      "print \"1. Seconds in\",Q1,\"year is:\",round(A1/10**8,2),\" x 10**8 s\"\n",
      "print \"2. Yards per hour in\",Q2,\"miles per hour is:\",round(A2/10**5,1),\" x 10**5 yd/h\"\n",
      "print \"3. Feets per minute square in\",Q3,\"meter per square is:\",round(A3/10**6,3),\" x 10**6 ft/min^2\"\n",
      "print \"4. Pounds per feet cube in\",Q4,\"gram per centimeter cube is:\",round(A4),\"lb/ft^3\""
     ],
     "language": "python",
     "metadata": {},
     "outputs": [
      {
       "output_type": "stream",
       "stream": "stdout",
       "text": [
        "1. Seconds in 8.03 year is: 2.53  x 10**8 s\n",
        "2. Yards per hour in 150 miles per hour is: 2.6  x 10**5 yd/h\n",
        "3. Feets per minute square in 100 meter per square is: 1.181  x 10**6 ft/min^2\n",
        "4. Pounds per feet cube in 0.03 gram per centimeter cube is: 2.0 lb/ft^3\n"
       ]
      }
     ],
     "prompt_number": 2
    },
    {
     "cell_type": "heading",
     "level": 3,
     "metadata": {},
     "source": [
      "ILLUSTRATIVE EXAMPLE 3.3, Page number: 21"
     ]
    },
    {
     "cell_type": "code",
     "collapsed": false,
     "input": [
      "\n",
      " \n",
      "#Variable Declaration:\n",
      "Q1 = 32.2                   #Gravitational acceleration (ft/s^2) (part 1)\n",
      "CF = 32.2                   #Conversion factor (lb.ft/lbf.s^2)\n",
      "M = 100                     #Mass (lb)\n",
      "SA = 3                      #Surface area (in^2)\n",
      "FsIs = (1.0/12.0)**2        #Feet square in a inch square\n",
      "Q2 = 14.7                   #Atmospheric pressure (psi) (part 2)\n",
      "GP = 35                     #Gauge Pressure (psig)\n",
      " \n",
      "#Caculations:\n",
      "F = M*Q1/CF                 #Force (lbf)\n",
      "P = F/SA/FsIs               #Pressure at the base (lbf/ft^2)\n",
      "Pa = GP+Q2                  #Absolute pressure (psia)\n",
      " \n",
      "#Results:\n",
      "print \"1. Pressure at the base is:\",round(P),\"lbf/ft^2\"\n",
      "print \"2. Absolute pressure is:\",round(Pa,1),\"psia\""
     ],
     "language": "python",
     "metadata": {},
     "outputs": [
      {
       "output_type": "stream",
       "stream": "stdout",
       "text": [
        "1. Pressure at the base is: 4800.0 lbf/ft^2\n",
        "2. Absolute pressure is: 49.7 psia\n"
       ]
      }
     ],
     "prompt_number": 3
    },
    {
     "cell_type": "heading",
     "level": 3,
     "metadata": {},
     "source": [
      "ILLUSTRATIVE EXAMPLE 3.4, Page number: 23"
     ]
    },
    {
     "cell_type": "code",
     "collapsed": false,
     "input": [
      "\n",
      " \n",
      "#Variable Declaration:\n",
      "Q1 = 20.0                   #Mass (lb) (part 1)\n",
      "MH = 1.008                  #Molecular weight of H (lb/lbmol)\n",
      "MO = 15.999                 #Molecular weight of O (lb/lbmol)\n",
      "Q2 = 454                    #Gram in pound (part 2)\n",
      "Q3 = 6.023*10**23           #Avogadro nuber (part 3)\n",
      " \n",
      "#Calculations:\n",
      "Mol = 2*MH+MO               #Molecular weight of water (lb/lbmol)\n",
      "A1 = Q1/Mol                 #Pound.moles of water (lbmol)\n",
      "A2 = Q1*Q2/Mol              #Gram.moles of water (gmol)\n",
      "A3 = A2*Q3                  #Molecules of water (molecules)\n",
      " \n",
      "#Results:\n",
      "print \"1. Pound.moles of water is:\",round(A1,2),\"lbmol water\"\n",
      "print \"2. Gram.moles of water is:\",round(A2),\"gmol water\"\n",
      "print \"3. Molecules of water is:\",round(A3/10**26,3),\" x 10**26 molecules\""
     ],
     "language": "python",
     "metadata": {},
     "outputs": [
      {
       "output_type": "stream",
       "stream": "stdout",
       "text": [
        "1. Pound.moles of water is: 1.11 lbmol water\n",
        "2. Gram.moles of water is: 504.0 gmol water\n",
        "3. Molecules of water is: 3.036  x 10**26 molecules\n"
       ]
      }
     ],
     "prompt_number": 4
    },
    {
     "cell_type": "heading",
     "level": 3,
     "metadata": {},
     "source": [
      "ILLUSTRATIVE EXAMPLE 3.5, Page number: 25"
     ]
    },
    {
     "cell_type": "code",
     "collapsed": false,
     "input": [
      "\n",
      " \n",
      "#Variable declaration:\n",
      "SG = 0.92               #Specific gavity of liquid, methanol\n",
      "DW = 62.4               #Density of reference substance, water (lb/ft^3)\n",
      " \n",
      "#Calculation:\n",
      "DM = SG*DW              #Density of methanol (lb/ft^3)\n",
      " \n",
      "#Result:\n",
      "print \"Density of methanol is:\",round(DM,1),\"lb/ft^3\""
     ],
     "language": "python",
     "metadata": {},
     "outputs": [
      {
       "output_type": "stream",
       "stream": "stdout",
       "text": [
        "Density of methanol is: 57.4 lb/ft^3\n"
       ]
      }
     ],
     "prompt_number": 7
    },
    {
     "cell_type": "heading",
     "level": 3,
     "metadata": {},
     "source": [
      "ILLUSTRATIVE EXAMPLE 3.6, Page number: 27\n"
     ]
    },
    {
     "cell_type": "code",
     "collapsed": false,
     "input": [
      "\n",
      " \n",
      "#Variable declaration:\n",
      "SG = 0.8                    #Specific Gravity\n",
      "AV = 0.02                   #Absolute Viscosity (cP)\n",
      "cP = 1                      #Viscosity of centipoise (cP)\n",
      "VcP = 6.72 * 10**-4         #Pound per feet.sec in a centipoise (lb/ft.s)\n",
      "pR = 62.43                  #Reference density (lb/ft^3)\n",
      " \n",
      "#Calculations:\n",
      "u = AV*VcP/cP               #Viscosity of gas (lb/ft.s)\n",
      "p = SG*pR                   #Density of gas (lb/ft^3)\n",
      "v = u/p                     #Kinematic viscosity of gas (ft^2/s)\n",
      " \n",
      "#Result:\n",
      "print \"Kinematic viscosity of gas is:\",round(v/10**-7,3),\"x 10**-7 ft^2/s\""
     ],
     "language": "python",
     "metadata": {},
     "outputs": [
      {
       "output_type": "stream",
       "stream": "stdout",
       "text": [
        "Kinematic viscosity of gas is: 2.691 x 10**-7 ft^2/s\n"
       ]
      }
     ],
     "prompt_number": 8
    },
    {
     "cell_type": "heading",
     "level": 3,
     "metadata": {},
     "source": [
      "ILLUSTRATIVE EXAMPLE 3.7, Page number: 27"
     ]
    },
    {
     "cell_type": "code",
     "collapsed": false,
     "input": [
      "\n",
      " \n",
      "#Variable declaration:\n",
      "X = 7.0                     #Coordinate X of H2SO4\n",
      "Y = 24.8                    #Coordinate Y of H2SO4\n",
      "S = 45                      #Slope\n",
      " \n",
      "#Calculations:\n",
      "#From the figure C.1 we found the intersection of curves mu = 12cP\n",
      "mu = 12\n",
      " \n",
      "#Results:\n",
      "print \"Absolute viscosity of a 98% sulfuric acid solution at 45\u00b0 C is :\",mu*10**-2,\" g/cm.s\""
     ],
     "language": "python",
     "metadata": {},
     "outputs": [
      {
       "output_type": "stream",
       "stream": "stdout",
       "text": [
        "Absolute viscosity of a 98% sulfuric acid solution at 45\u00b0 C is : 0.12  g/cm.s\n"
       ]
      }
     ],
     "prompt_number": 9
    },
    {
     "cell_type": "heading",
     "level": 3,
     "metadata": {},
     "source": [
      "ILLUSTRATIVE EXAMPLE 3.8, Page number: 28"
     ]
    },
    {
     "cell_type": "code",
     "collapsed": false,
     "input": [
      "\n",
      " \n",
      "#Variable declaration:\n",
      "CpM = 0.61                  #Heat capacity of methanol (cal/g.\u00b0C)\n",
      "G = 454                     #Grams in a pound\n",
      "B = 1.0/252.0               #Btu in a calorie\n",
      "C = 1.0/1.8                 #Degree celsius in a degree fahrenheit\n",
      " \n",
      "#Calculation:\n",
      "Cp = CpM*G*B*C              #Heat capacity in English units (Btu/lb.\u00b0F)\n",
      " \n",
      "#Result:\n",
      "print \"Heat capacity in English units is: \",round(Cp,2),\" Btu/lb.\u00b0F\""
     ],
     "language": "python",
     "metadata": {},
     "outputs": [
      {
       "output_type": "stream",
       "stream": "stdout",
       "text": [
        "Heat capacity in English units is:  0.61  Btu/lb.\u00b0F\n"
       ]
      }
     ],
     "prompt_number": 10
    },
    {
     "cell_type": "heading",
     "level": 3,
     "metadata": {},
     "source": [
      "ILLUSTRATIVE EXAMPLE 3.9, Page number: 29"
     ]
    },
    {
     "cell_type": "code",
     "collapsed": false,
     "input": [
      "\n",
      " \n",
      "#Variable declaration:\n",
      "kM = 0.0512                 #Thermal conductivity of methanol (cal/m.s\u00b0C)\n",
      "B = 1.0/252.0               #Btu in a calorie\n",
      "M = 0.3048                  #Meters in a feet\n",
      "S = 3600                    #Seconds in an hour\n",
      "C = 1.0/1.8                 #Degree celsius in a degree fahrenheit\n",
      " \n",
      "#Calculation:\n",
      "k = kM*B*M*S*C              #Thermal conductivity in English units (Btu/ft.h.\u00b0F)\n",
      " \n",
      "#Result:\n",
      "print \"Thermal coductivity in English units is:\",round(k,3),\"Btu/ft.h.\u00b0F\""
     ],
     "language": "python",
     "metadata": {},
     "outputs": [
      {
       "output_type": "stream",
       "stream": "stdout",
       "text": [
        "Thermal coductivity in English units is: 0.124 Btu/ft.h.\u00b0F\n"
       ]
      }
     ],
     "prompt_number": 11
    },
    {
     "cell_type": "heading",
     "level": 3,
     "metadata": {},
     "source": [
      "ILLUSTRATIVE EXAMPLE 3.11, Page number: 31"
     ]
    },
    {
     "cell_type": "code",
     "collapsed": false,
     "input": [
      "\n",
      " \n",
      "#Variable declaration:\n",
      "D = 5                       #Diameter of pipe (ft)\n",
      "V = 10                      #Fluid velocity (ft/s)\n",
      "p = 50                      #Fluid density (lb/ft^3)\n",
      "u = 0.65                    #Fluid viscosity (lb/ft.s)\n",
      "F = 1.0/12.0                #Feet in an inch\n",
      "VCp = 6.72*10**-4           #Viscosity of centipoise (lb/ft.s)\n",
      " \n",
      "#Calculation:\n",
      "A = D*V*p*F/u/VCp           #Reynolds Number\n",
      " \n",
      "#Result:\n",
      "if(A>2100):\n",
      "    print \"The Reynolds number is :\",round(A,-2),\"; therefore, the flow is turbulent.\"\n",
      "elif(A<2100):\n",
      "     print \"The Reynolds number is :\",round(A,-2),\"; therefore, the flow is not turbulent.\""
     ],
     "language": "python",
     "metadata": {},
     "outputs": [
      {
       "output_type": "stream",
       "stream": "stdout",
       "text": [
        "The Reynolds number is : 477000.0 ; therefore, the flow is turbulent.\n"
       ]
      }
     ],
     "prompt_number": 13
    },
    {
     "cell_type": "heading",
     "level": 3,
     "metadata": {},
     "source": [
      "ILLUSTRATIVE EXAMPLE 3.12, Page number: 32"
     ]
    },
    {
     "cell_type": "code",
     "collapsed": false,
     "input": [
      "\n",
      "#Variable declaration:\n",
      "#For the problem at hand, take as a basis 1 kilogram of water and assume the potential energy to be zero at ground level conditions.\n",
      "z1 = 0                      #Intial height from ground level (m)\n",
      "z2 = 10                     #Final height from ground level (m)\n",
      "PE1 = 0                     #Initial potential energy at z1 (J)\n",
      "m = 1                       #Mass of water (kg)\n",
      "g = 9.8                     #Gravitational acceleration (m/s^2)\n",
      "gc = 1                      #Conversion factor\n",
      " \n",
      "#Calculations:\n",
      "PE2 = m*(g/gc)*z2           #Final potential energy at z2 (J)\n",
      " \n",
      "#Result:\n",
      "print \"The potential energy of water is :\",PE2,\"J \""
     ],
     "language": "python",
     "metadata": {},
     "outputs": [
      {
       "output_type": "stream",
       "stream": "stdout",
       "text": [
        "The potential energy of water is : 98.0 J \n"
       ]
      }
     ],
     "prompt_number": 14
    }
   ],
   "metadata": {}
  }
 ]
}