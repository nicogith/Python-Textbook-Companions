{
 "metadata": {
  "name": "",
  "signature": "sha256:da9a4303c6fc07c594d52c82662dd9ab6e23eae788f020d82b784ed3a6873663"
 },
 "nbformat": 3,
 "nbformat_minor": 0,
 "worksheets": [
  {
   "cells": [
    {
     "cell_type": "heading",
     "level": 1,
     "metadata": {},
     "source": [
      "Chapter 4: The Conservation Law for Momentum"
     ]
    },
    {
     "cell_type": "heading",
     "level": 3,
     "metadata": {},
     "source": [
      "ILLUSTRATIVE EXAMPLE 4.1, Page number: 39"
     ]
    },
    {
     "cell_type": "code",
     "collapsed": false,
     "input": [
      "\n",
      "\n",
      "#Variable declaration:\n",
      "Vx_in = 420                     #Entry Velocity in X direction (m/s)\n",
      "Vx_out = 0                      #Exit Velocity in X direction (m/s)\n",
      "Vy_in = 0                       #Entry Velocity in Y direction (m/s)\n",
      "Vy_out = 420                    #Exit Velocity in Y direction (m/s)\n",
      "m =  0.15                       #Rate of water entrained by the steam (kg/s)\n",
      "lb = 1.0/4.46                   #Pound force in a newton force\n",
      "\n",
      "#Calculations:\n",
      "Mx_out = m*Vx_out               #Rate of change of momentum at entry in x-direction (kg.m)\n",
      "Mx_in = m*Vx_in                 #Rate of change of momentum at exit in x-direction  (kg.m)\n",
      "My_out = m*Vy_out               #Rate of change of momentum at entry in y-direction (kg.m)\n",
      "My_in = m*Vy_in                 #Rate of change of momentum at exit in y-direction  (kg.m)\n",
      "Fxgc = (Mx_out - Mx_in)*lb      #Force in X direction (lbf)\n",
      "Fygc = (My_out - My_in)*lb      #Force in X direction (lbf)\n",
      "\n",
      "#Results:\n",
      "if Fxgc < 1:\n",
      "    print \"The x-direction supporting force acting on the 90\u00b0 elbow is :\",round(-Fxgc,1),\" lbf acting toward the left. \"\n",
      "else:\n",
      "    print \"The x-direction supporting force acting on the 90\u00b0 elbow is :\",round(Fxgc,1),\" lbf acting toward the right. \"\n",
      "if Fygc < 1:\n",
      "    print \"The y-direction supporting force acting on the 90\u00b0 elbow is :\",round(-Fygc,1),\" lbf acting downwards. \"    \n",
      "else:\n",
      "    print \"The y-direction supporting force acting on the 90\u00b0 elbow is :\",round(Fygc,1),\" lbf acting upwards. \""
     ],
     "language": "python",
     "metadata": {},
     "outputs": [
      {
       "output_type": "stream",
       "stream": "stdout",
       "text": [
        "The x-direction supporting force acting on the 90\u00b0 elbow is : 14.1  lbf acting toward the left. \n",
        "The y-direction supporting force acting on the 90\u00b0 elbow is : 14.1  lbf acting upwards. \n"
       ]
      }
     ],
     "prompt_number": 6
    },
    {
     "cell_type": "heading",
     "level": 3,
     "metadata": {},
     "source": [
      "ILLUSTRATIVE EXAMPLE 4.2 Page number: 40"
     ]
    },
    {
     "cell_type": "code",
     "collapsed": false,
     "input": [
      "\n",
      "\n",
      "from math import sqrt,degrees,atan2\n",
      "\n",
      "#Variable declaration:\n",
      "Fx = -63                                #Force component in X direction (N)\n",
      "Fy = 63                                 #Force component in Y direction (N)\n",
      "lbf = 0.22481                           #Pound-forrce in unit newton (lbf)\n",
      "\n",
      "#Calculations:\n",
      "Fr = sqrt(Fx**2 + Fy**2)*lbf            #The resultant supporting force (lbf)\n",
      "u = degrees(atan2(Fy,Fx))               #Angle between the positive x axis and the direction of the force (degrees)\n",
      "\n",
      "#Result: \n",
      "if (0<u<90):\n",
      "    print \"The supporting force is :\",round(Fr,1),\" lbf acting at\",u,\"\u00b0 i.e in the \u201cnortheast\u201d direction.\"\n",
      "elif (90<u<180):\n",
      "    print \"The supporting force is :\",round(Fr,1),\" lbf acting at\",u,\"\u00b0 i.e in the \u201cnorthwest\u201d direction.\"\n",
      "elif (180<u<270):\n",
      "    print \"The supporting force is :\",round(Fr,1),\" lbf acting at\",u,\"\u00b0 i.e in the \u201csouthwest\u201d direction.\"\n",
      "elif (270<u<360):\n",
      "    print \"The supporting force is :\",round(Fr,1),\" lbf acting at\",u,\"\u00b0 i.e in the \u201csoutheast\u201d direction.\""
     ],
     "language": "python",
     "metadata": {},
     "outputs": [
      {
       "output_type": "stream",
       "stream": "stdout",
       "text": [
        "The supporting force is : 20.0  lbf acting at 135.0 \u00b0 i.e in the \u201cnorthwest\u201d direction.\n"
       ]
      }
     ],
     "prompt_number": 4
    },
    {
     "cell_type": "heading",
     "level": 3,
     "metadata": {},
     "source": [
      "ILLUSTRATIVE EXAMPLE 4.3, Page number: 42"
     ]
    },
    {
     "cell_type": "code",
     "collapsed": false,
     "input": [
      "\n",
      "\n",
      "#Variable declaration:\n",
      "R1_in = 10000                   #Rate of fuel fed into the boiler (lb/h)\n",
      "R2_1n = 20000                   #Rate of air fed into the boiler (lb/h)\n",
      "R3_in = 2000                    #Rate of methane fed into the boiler (lb/h)\n",
      "\n",
      "#Calculations:\n",
      "m_in = R1_in + R2_1n + R3_in    #Rate of mass in (lb/h)\n",
      "m_out = m_in                    #Rate of mass out (lb/h)\n",
      "\n",
      "#Result:\n",
      "print \"The rate of the product gases exit from the incinerator is :\",round(m_in),\" lb/h\""
     ],
     "language": "python",
     "metadata": {},
     "outputs": [
      {
       "output_type": "stream",
       "stream": "stdout",
       "text": [
        "The rate of the product gases exit from the incinerator is : 32000.0  lb/h\n"
       ]
      }
     ],
     "prompt_number": 7
    },
    {
     "cell_type": "heading",
     "level": 3,
     "metadata": {},
     "source": [
      "ILLUSTRATIVE EXAMPLE 4.4, Page number: 42"
     ]
    },
    {
     "cell_type": "code",
     "collapsed": false,
     "input": [
      "\n",
      "\n",
      "#Variable declaration:\n",
      "E1 = 65                             #Efficiency of spray tower (%)\n",
      "E2 = 98                             #Efficiency of packed column (%)\n",
      "m_in = 76                           #Mass flow rate of HCl entering the system (lb/h)\n",
      "\n",
      "#Calculations:\n",
      "m1_out = (1 - E1/100.0)*m_in        #Mass flow rate of HCl leaving the spray tower (lb/h)\n",
      "m2_out = (1 - E2/100.0)*m1_out      #Mass flow rate of HCl entering the packed column (lb/h)\n",
      "E = (m_in - m2_out)/m_in            #Overall fractional efficiency (%)\n",
      "\n",
      "#Result:\n",
      "print \"The mass flow rate of HCl leaving the spray tower is :\",round(m1_out,2),\" lb/h HCL\"\n",
      "print \"The mass flow rate of HCl entering the packed column is :\",round(m2_out,3),\" lb/h HCL\"\n",
      "print \"The overall fractional efficiency is :\",round(E*100,1),\" %\""
     ],
     "language": "python",
     "metadata": {},
     "outputs": [
      {
       "output_type": "stream",
       "stream": "stdout",
       "text": [
        "The mass flow rate of HCl leaving the spray tower is : 26.6  lb/h HCL\n",
        "The mass flow rate of HCl entering the packed column is : 0.532  lb/h HCL\n",
        "The overall fractional efficiency is : 99.3  %\n"
       ]
      }
     ],
     "prompt_number": 6
    },
    {
     "cell_type": "heading",
     "level": 3,
     "metadata": {},
     "source": [
      "ILLUSTRATIVE EXAMPLE 4.5, Page number: 43"
     ]
    },
    {
     "cell_type": "code",
     "collapsed": false,
     "input": [
      "\n",
      "\n",
      "#Variable declaration:\n",
      "m1 = 1000                   #Flowrate data 1 (lb/min)\n",
      "m2 = 1000                   #Flowrate data 2 (lb/min)\n",
      "m4 = 200                    #Flowrate data 4 (lb/min)\n",
      "\n",
      "#Calculations:\n",
      "m5 = m1 + m2 - m4           #Flowrate data 5 (lb/min)\n",
      "m6 = m2                     #Flowrate data 6 (lb/min)\n",
      "m = m5 - m6                 #Flowrate of water lost in operation (lb/min)\n",
      "\n",
      "#Result:\n",
      "print \"The amount of water lost by evaporation in the operation is\", round(m),\" lb/min\""
     ],
     "language": "python",
     "metadata": {},
     "outputs": [
      {
       "output_type": "stream",
       "stream": "stdout",
       "text": [
        "The amount of water lost by evaporation in the operation is 800.0  lb/min\n"
       ]
      }
     ],
     "prompt_number": 8
    },
    {
     "cell_type": "heading",
     "level": 3,
     "metadata": {},
     "source": [
      "ILLUSTRATIVE EXAMPLE 4.6, Page number: 44"
     ]
    },
    {
     "cell_type": "code",
     "collapsed": false,
     "input": [
      "\n",
      "#Variable declaration:\n",
      "q1 = 1000.0                   #Volumetric flowrate from tank 1 (gal/day)\n",
      "q2 = 1000.0                   #Volumetric flowrate from tank 2 (gal/day)\n",
      "q3 = 2000.0                   #Volumetric flowrate from tank 3 (gal/day)\n",
      "q4 = 200.0                    #Volumetric flowrate from tank 4 (gal/day)\n",
      "q5 = 1800.0                   #Volumetric flowrate from tank 5 (gal/day)\n",
      "q6 = 1000.0                   #Volumetric flowrate from tank 6 (gal/day)\n",
      "C1 = 4.0                      #Phosphate concentration in tank 1 (ppm)\n",
      "C2 = 0.0                      #Phosphate concentration in tank 2 (ppm)\n",
      "C3 = 2.0                      #Phosphate concentration in tank 3 (ppm)\n",
      "C4 = 20.0                     #Phosphate concentration in tank 4 (ppm)\n",
      "C5 = 0.0                      #Phosphate concentration in tank 5 (ppm)\n",
      "C6 = 0.0                      #Phosphate concentration in tank 6 (ppm)\n",
      "Cf = 120000.0                 #conversion factor for water (gal/10**6lb)\n",
      "\n",
      "#Calculations:\n",
      "C1q1 = C1*q1/Cf             #Data 1 (lb/day)\n",
      "C2q2 = C2*q2/Cf             #Data 2 (lb/day)\n",
      "C3q3 = C3*q3/Cf             #Data 3 (lb/day)\n",
      "C4q4 = C4*q4/Cf             #Data 4 (lb/day)\n",
      "C5q5 = C5*q5/Cf             #Data 5 (lb/day)\n",
      "C6q6 = C6*q6/Cf             #Data 6 (lb/day)\n",
      "\n",
      "#Results:\n",
      "if (((C1q1 + C2q2) == C3q3) and  C3q3 == (C4q4 + C5q5) and C5q5 == C6q6 and C2q2 == C6q6):\n",
      "     print \"The data appear to be consistent .\"\n",
      "else:\n",
      "     print \"The data appear to be inconsistent .\""
     ],
     "language": "python",
     "metadata": {},
     "outputs": [
      {
       "output_type": "stream",
       "stream": "stdout",
       "text": [
        "The data appear to be consistent .\n"
       ]
      }
     ],
     "prompt_number": 9
    },
    {
     "cell_type": "heading",
     "level": 3,
     "metadata": {},
     "source": [
      "ILLUSTRATIVE EXAMPLE 4.7, Page number: 48"
     ]
    },
    {
     "cell_type": "code",
     "collapsed": false,
     "input": [
      "\n",
      "\n",
      "#Variable declaration:\n",
      "Dz = 3000                       #Height (ft)\n",
      "V0 = 500000                     #Flowrate of water (gal/min)\n",
      "n = 30                          #Turbine efficiency (%)\n",
      "m = 0.3048                      #Meters in a feet\n",
      "m3 = 0.00378                    #Meters-cube in a gallon\n",
      "g = 9.8                         #Gravitational acceleration (m/s^2)\n",
      "gc = 1                          #Conversion factor\n",
      "MW = 10**(-6)                   #Megawatt in newton-meter-per-second\n",
      "\n",
      "#Calculations:\n",
      "V1 = (V0*m3)*1000.0/60.0        #The mass flow rate of the water in kilograms/second (kg/s)\n",
      "DPE = V1*g*Dz*m/gc*MW           #The loss in potential energy (MW)\n",
      "AP = n/100.0*DPE                #The actual power output (MW)\n",
      "\n",
      "#Result:\n",
      "print \"The power generated by the lake located is :\",round(AP,1),\" MW\""
     ],
     "language": "python",
     "metadata": {},
     "outputs": [
      {
       "output_type": "stream",
       "stream": "stdout",
       "text": [
        "The power generated by the lake located is : 84.7  MW\n"
       ]
      }
     ],
     "prompt_number": 10
    },
    {
     "cell_type": "heading",
     "level": 3,
     "metadata": {},
     "source": [
      "ILLUSTRATIVE EXAMPLE 4.8, Page number: 50"
     ]
    },
    {
     "cell_type": "code",
     "collapsed": false,
     "input": [
      "\n",
      "\n",
      "#Variable declaration:\n",
      "n = 111.4                   #Flowrate of air stream (lbmol/min)\n",
      "H1 = 1170                   #Average heat capacity at 200\u00b0F (Btu/lbmol)\n",
      "H2 = 4010                   #Average heat capacity at 600\u00b0F (Btu/lbmol)\n",
      "\n",
      "#Calculation:\n",
      "Q = n*(H2 - H1)             #The heat transfer rate (Btu/min)\n",
      "\n",
      "#Result:\n",
      "print \"The heat transfer rate required is:\",round(Q/10**5,2),\" x 10**5 Btu/min\""
     ],
     "language": "python",
     "metadata": {},
     "outputs": [
      {
       "output_type": "stream",
       "stream": "stdout",
       "text": [
        "The heat transfer rate required is: 3.16  x 10**5 Btu/min\n"
       ]
      }
     ],
     "prompt_number": 11
    },
    {
     "cell_type": "heading",
     "level": 3,
     "metadata": {},
     "source": [
      "ILLUSTRATIVE EXAMPLE 4.9, Page number: 50"
     ]
    },
    {
     "cell_type": "code",
     "collapsed": false,
     "input": [
      "\n",
      "\n",
      "#Variable declaration:\n",
      "n = 600                     #The mass flow rate of fluid (lbmol/min)\n",
      "Cp_AV = 0.271               #Heat capacity (Btu/lbmol . \u00b0F)\n",
      "T1 = 200                    #Initial temperature(\u00b0F)\n",
      "T2 = 600                    #Final temperature(\u00b0F)\n",
      "\n",
      "#Calcultaion:\n",
      "Q = n*Cp_AV*(T2 - T1)       #The required heat rate (Btu/min)\n",
      "\n",
      "#Result:\n",
      "print \"The required heat rate is :\",round(Q,-2),\" Btu/min\""
     ],
     "language": "python",
     "metadata": {},
     "outputs": [
      {
       "output_type": "stream",
       "stream": "stdout",
       "text": [
        "The required heat rate is : 65000.0  Btu/min\n"
       ]
      }
     ],
     "prompt_number": 12
    },
    {
     "cell_type": "heading",
     "level": 3,
     "metadata": {},
     "source": [
      "ILLUSTRATIVE EXAMPLE 4.10, Page number: 51"
     ]
    },
    {
     "cell_type": "code",
     "collapsed": false,
     "input": [
      "\n",
      "\n",
      "#Variable declaration:\n",
      "T_c1 = 20                               #Initial cold fluid temperature (\u00b0C)\n",
      "T_h1 = 82                               #Initial hot fluid temperature (\u00b0C)\n",
      "T_h2 = 94                               #Final hot fluid temperature (\u00b0C)\n",
      "\n",
      "#Calculation:\n",
      "T_c2 = (T_h2 - T_h1 + T_c1)             #Final cold fluid temperature (\u00b0C)\n",
      "\n",
      "#Result:\n",
      "print \"The heat transfer rate is:\",round(T_c2),\" \u00b0C\"\n",
      "print \"There is a printing mistake in book regarding unit of the final result.\""
     ],
     "language": "python",
     "metadata": {},
     "outputs": [
      {
       "output_type": "stream",
       "stream": "stdout",
       "text": [
        "The heat transfer rate is: 32.0  \u00b0C\n",
        "There is a printing mistake in book regarding unit of the final result.\n"
       ]
      }
     ],
     "prompt_number": 13
    },
    {
     "cell_type": "heading",
     "level": 3,
     "metadata": {},
     "source": [
      "ILLUSTRATIVE EXAMPLE 4.11, Page number: 51"
     ]
    },
    {
     "cell_type": "code",
     "collapsed": false,
     "input": [
      "\n",
      "\n",
      "#Variable declaration:\n",
      "Q = -5.5*10**6                  #The heat transferred out from the gas (W)\n",
      "Cp = 1090.0                     #The average heat capacity of the gas (J/(kg . \u00b0C))\n",
      "m = 9.0                         #The gas mass flow rate (kg/s)\n",
      "T1 = 650                        #The gas inlet temperature (\u00b0C)\n",
      "\n",
      "#Calculation:\n",
      "T2 = Q/(m*Cp)+T1                #The gas outlet temperature (\u00b0C)\n",
      "\n",
      "#Result:\n",
      "print \"The gas outlet temperature is :\",round(T2),\" \u00b0C\""
     ],
     "language": "python",
     "metadata": {},
     "outputs": [
      {
       "output_type": "stream",
       "stream": "stdout",
       "text": [
        "The gas outlet temperature is : 89.0  \u00b0C\n"
       ]
      }
     ],
     "prompt_number": 14
    },
    {
     "cell_type": "heading",
     "level": 3,
     "metadata": {},
     "source": [
      "ILLUSTRATIVE EXAMPLE 4.12, Page number: 52"
     ]
    },
    {
     "cell_type": "code",
     "collapsed": false,
     "input": [
      "\n",
      "\n",
      "#Variable declaration:\n",
      "n = 3500.0                      #Inlet flowrate of water (gal/min)\n",
      "Cp_W = 75.4                     #Heat capacity of water (J/(gmol . \u00b0C)\n",
      "p = 62.4                        #Density of water (lb/ft^3)\n",
      "M = 24*60.0                     #Minutes in a day (min/day)\n",
      "G = 7.48                        #Gallons in a feet cube (gal/ft^3)\n",
      "gm = 454.0                      #Grams in a pound (g/lb)\n",
      "J = 1054.0                      #Joules in a Btu (J/Btu)\n",
      "g = 18.0                        #Grams in a gmol (g/gmol)\n",
      "F = 1.8                         #Degree fahrenheit in a degree celcius (\u00b0F)\n",
      "Ti = 38.0                       #Initial temperature (\u00b0F)\n",
      "Tf = 36.2                       #Final temperature (\u00b0F)\n",
      "\n",
      "#Calculations:\n",
      "T= Ti-Tf                        #Temperature loss (\u00b0F)\n",
      "m = n*p*M/G                     #Mass flow rate of water (lb/day)\n",
      "Cp = Cp_W*gm/J/g/F              #Heat capacity in cosistent units (Btu/(lb.\u00b0F))\n",
      "Q = m*Cp*T                      #Rate of heat flow from water (Btu/day)\n",
      "\n",
      "#Result:\n",
      "print \"The rate of Btu removed from the water per day is :\",round(Q/10**8,2),\" x 10**8 Btu/day .\"\n",
      "print \"There is a calculation mistake in the book regarding the final result.\""
     ],
     "language": "python",
     "metadata": {},
     "outputs": [
      {
       "output_type": "stream",
       "stream": "stdout",
       "text": [
        "The rate of Btu removed from the water per day is : 0.76  x 10**8 Btu/day .\n",
        "There is a calculation mistake in the book regarding the final result.\n"
       ]
      }
     ],
     "prompt_number": 15
    }
   ],
   "metadata": {}
  }
 ]
}