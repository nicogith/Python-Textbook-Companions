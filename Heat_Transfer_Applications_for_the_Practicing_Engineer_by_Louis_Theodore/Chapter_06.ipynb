{
 "metadata": {
  "name": "",
  "signature": "sha256:54e2e4fc776d95c57fe6ec3f8739ba703b59fc814a535a0e713a806e8b2afe6d"
 },
 "nbformat": 3,
 "nbformat_minor": 0,
 "worksheets": [
  {
   "cells": [
    {
     "cell_type": "heading",
     "level": 1,
     "metadata": {},
     "source": [
      "Chapter 6: Heat Exchanger Pipes and Tubes"
     ]
    },
    {
     "cell_type": "heading",
     "level": 3,
     "metadata": {},
     "source": [
      "ILLUSTRATIVE EXAMPLE 6.1, Page number: 73"
     ]
    },
    {
     "cell_type": "code",
     "collapsed": false,
     "input": [
      "\n",
      "\n",
      "#Variable declaration:\n",
      "NPS = 2                     #Nominal pipe size (inch)\n",
      "SN = 40                     #Schedule number\n",
      "\n",
      "#Calculation:\n",
      "#From Table 6.2, we obtain that the inside diameter of steel pipe is ID = 2.067 in.\n",
      "ID = 2.067\n",
      "\n",
      "#Result:\n",
      "print \"The inside diameter of steel pipe is :\",ID,\" in.\""
     ],
     "language": "python",
     "metadata": {},
     "outputs": [
      {
       "output_type": "stream",
       "stream": "stdout",
       "text": [
        "The inside diameter of steel pipe is : 2.067  in.\n"
       ]
      }
     ],
     "prompt_number": 1
    },
    {
     "cell_type": "heading",
     "level": 3,
     "metadata": {},
     "source": [
      "ILLUSTRATIVE EXAMPLE 6.2, Page number: 73"
     ]
    },
    {
     "cell_type": "code",
     "collapsed": false,
     "input": [
      "\n",
      "\n",
      "#Variable declaration:\n",
      "NPS = 3                     #Nominal pipe size (inch)\n",
      "SN = 40                     #Schedule number\n",
      "\n",
      "#Calculation:\n",
      "#From Table 6.2, we obtain that the inside diameter of steel pipe is ID = 3.068 in, outside diameter OD = 3.5 in, wal thickness WT = 0.216 in, and pipe weight PW = 7.58 lb/ft.\n",
      "ID = 3.068\n",
      "OD = 3.5\n",
      "WT = 0.216\n",
      "PW = 7.58\n",
      "\n",
      "#Result:\n",
      "print \"The inside diameter of steel pipe is :\",ID,\" in\"\n",
      "print \"The outside diameter of steel pipe is :\",OD,\" in\"\n",
      "print \"The wall thickness of steel pipe is :\",WT,\" in\"\n",
      "print \"The weight of steel pipe is :\",PW,\" lb/ft.\""
     ],
     "language": "python",
     "metadata": {},
     "outputs": [
      {
       "output_type": "stream",
       "stream": "stdout",
       "text": [
        "The inside diameter of steel pipe is : 3.068  in\n",
        "The outside diameter of steel pipe is : 3.5  in\n",
        "The wall thickness of steel pipe is : 0.216  in\n",
        "The weight of steel pipe is : 7.58  lb/ft.\n"
       ]
      }
     ],
     "prompt_number": 2
    },
    {
     "cell_type": "heading",
     "level": 3,
     "metadata": {},
     "source": [
      "ILLUSTRATIVE EXAMPLE 6.3, Page number: 73"
     ]
    },
    {
     "cell_type": "code",
     "collapsed": false,
     "input": [
      "\n",
      "\n",
      "#Variable declaration:\n",
      "ID = 0.957                  #Inside diameter of pipe (in)\n",
      "OD = 1.315                  #Outside diameter of pipe (in)\n",
      "WT = 0.179                  #Wall thickness of pipe (in)\n",
      "PW = 2.17                   #Weight of pipe (lb/ft)\n",
      "\n",
      "#Calculation:\n",
      "#From Table 6.2, it indicates that the steel pipe is 1 inch schedule 80.\n",
      "NSP = 1\n",
      "SN = 80\n",
      "\n",
      "#Result:\n",
      "print \"The nominal size of the pipe is :\",NSP,\" in.\"\n",
      "print \"The schedule number of the pipe is:\",SN,\".\""
     ],
     "language": "python",
     "metadata": {},
     "outputs": [
      {
       "output_type": "stream",
       "stream": "stdout",
       "text": [
        "The nominal size of the pipe is : 1  in.\n",
        "The schedule number of the pipe is: 80 .\n"
       ]
      }
     ],
     "prompt_number": 3
    },
    {
     "cell_type": "heading",
     "level": 3,
     "metadata": {},
     "source": [
      "ILLUSTRATIVE EXAMPLE 6.4, Page number: 75"
     ]
    },
    {
     "cell_type": "code",
     "collapsed": false,
     "input": [
      "\n",
      "#Variable declaration:\n",
      "S = 3/4                         #Tube size (in)\n",
      "BWG = 16                        #Birmingham Wire Gauge number (gauge)\n",
      "\n",
      "#calculation:\n",
      "#From table 6.3, we get:\n",
      "ID = 0.620                      #Internal diameter of tube (in)\n",
      "WT = 0.065                      #Wall thickness of tube (in)\n",
      "OD = ID+2*WT                    #Outside diameter of tube (in)\n",
      "EA = 0.1963                     #External area per foot (ft)\n",
      "\n",
      "#Result:\n",
      "print \"The inside diameter is :\",ID,\" in\"\n",
      "print \"The wall thickness is :\",WT,\" in\"\n",
      "print \"The outside diamater is :\",OD,\" in\"\n",
      "print \"The external area per foot per foot :\",EA,\" ft.\""
     ],
     "language": "python",
     "metadata": {},
     "outputs": [
      {
       "output_type": "stream",
       "stream": "stdout",
       "text": [
        "The inside diameter is : 0.62  in\n",
        "The wall thickness is : 0.065  in\n",
        "The outside diamater is : 0.75  in\n",
        "The external area per foot per foot : 0.1963  ft.\n"
       ]
      }
     ],
     "prompt_number": 4
    },
    {
     "cell_type": "heading",
     "level": 3,
     "metadata": {},
     "source": [
      "ILLUSTRATIVE EXAMPLE 6.11, Page number: 81"
     ]
    },
    {
     "cell_type": "code",
     "collapsed": false,
     "input": [
      "\n",
      "\n",
      "#Variable declaration:\n",
      "a = 1                           #Length of cross-section (m)\n",
      "b = 0.25                        #Width of cross-section (m)\n",
      "v = 1*10**-5                    #Kinematic viscosity of air (m^2/s)\n",
      "Re = 2300.0                     #Reynolds Number\n",
      "cm = 100                        #Cenitmeters in a meter\n",
      "\n",
      "#Calculation:\n",
      "Dh = 2*a*b/(a+b)                #Hydraulic diameter of duct (m)\n",
      "V = Re*v/Dh*cm                  #Maximum air velocity (cm/s)\n",
      "\n",
      "#Result:\n",
      "print \"The maximum air velocity before the flow becomes turbulent is :\",round(V,1),\" cm/s.\""
     ],
     "language": "python",
     "metadata": {},
     "outputs": [
      {
       "output_type": "stream",
       "stream": "stdout",
       "text": [
        "The maximum air velocity before the flow becomes turbulent is : 5.8  cm/s.\n"
       ]
      }
     ],
     "prompt_number": 11
    },
    {
     "cell_type": "heading",
     "level": 3,
     "metadata": {},
     "source": [
      "ILLUSTRATIVE EXAMPLE 6.12, Page number: 82"
     ]
    },
    {
     "cell_type": "code",
     "collapsed": false,
     "input": [
      "\n",
      "\n",
      "#Variable declaration:\n",
      "q = 0.486                       #Flow rate of fluid (ft^3/s)\n",
      "D = 2.0/12.0                    #Diameter of tube in feet (ft)\n",
      "pi = 3.14                       #Value of pi\n",
      "p = 70.0                        #Density of fluid (lb/ft^3)\n",
      "u = 0.1806                      #Viscosity of fluid (lb/ft)\n",
      "\n",
      "#Calculation:\n",
      "V = 4*q/pi/D**2                 #Flow velocity (ft/s)\n",
      "Re = D*V*p/u                    #Reynolds Number\n",
      "\n",
      "#Result:\n",
      "if(Re<2100):\n",
      "    print \"The flow is laminar.\"\n",
      "elif(Re>2100):\n",
      "    print \"The flow is turbulant.\""
     ],
     "language": "python",
     "metadata": {},
     "outputs": [
      {
       "output_type": "stream",
       "stream": "stdout",
       "text": [
        "The flow is laminar.\n"
       ]
      }
     ],
     "prompt_number": 12
    },
    {
     "cell_type": "heading",
     "level": 3,
     "metadata": {},
     "source": [
      "ILLUSTRATIVE EXAMPLE 6.13, Page number: 82"
     ]
    },
    {
     "cell_type": "code",
     "collapsed": false,
     "input": [
      "\n",
      "\n",
      "#Variable declaration:\n",
      "#From example 6.12, we have:\n",
      "D = 2.0/12.0                    #Diameter of pipe in feet (ft)\n",
      "Re = 1440.0                     #Reynolds number\n",
      "\n",
      "#Calculation:\n",
      "Lc = 0.05*D*Re                  #Length of pipe (ft)\n",
      "\n",
      "#Result:\n",
      "print \"The pipe length to ensure a fully developed flow is:\",Lc,\" ft.\"\n",
      "print \"This is an abnormally long calming length for a pipe (or tube) in a heat exchanger.\""
     ],
     "language": "python",
     "metadata": {},
     "outputs": [
      {
       "output_type": "stream",
       "stream": "stdout",
       "text": [
        "The pipe length to ensure a fully developed flow is: 12.0  ft.\n",
        "This is an abnormally long calming length for a pipe (or tube) in a heat exchanger.\n"
       ]
      }
     ],
     "prompt_number": 22
    },
    {
     "cell_type": "heading",
     "level": 3,
     "metadata": {},
     "source": [
      "ILLUSTRATIVE EXAMPLE 6.14, Page number: 82"
     ]
    },
    {
     "cell_type": "code",
     "collapsed": false,
     "input": [
      "\n",
      "\n",
      "#Variable declaration:\n",
      "u = 6.72*10**-4                     #Viscosity of water (lb/ft.s)\n",
      "p = 62.4                            #Density of water (lb/ft^3)\n",
      "#For laminar flow:\n",
      "Re = 2100.0                        #Reynolds number\n",
      "#From table 6.2, we have:\n",
      "D = 2.067/12.0                      #Inside diameter of pipe (ft)\n",
      "\n",
      "#Calculation:\n",
      "V = Re*u/D/p                        #Average velocity of water flowing (ft/s)\n",
      "\n",
      "#Result:\n",
      "print \"The average velocity of water flowing is:\",round(V,2),\" ft/s.\""
     ],
     "language": "python",
     "metadata": {},
     "outputs": [
      {
       "output_type": "stream",
       "stream": "stdout",
       "text": [
        "The average velocity of water flowing is: 0.13  ft/s.\n"
       ]
      }
     ],
     "prompt_number": 14
    }
   ],
   "metadata": {}
  }
 ]
}