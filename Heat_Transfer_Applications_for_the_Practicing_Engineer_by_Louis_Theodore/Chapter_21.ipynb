{
 "metadata": {
  "name": "",
  "signature": "sha256:bd26ff767164e3be8b1fcb13ef6fd471083a3c697418421a2ed4fbad1197f805"
 },
 "nbformat": 3,
 "nbformat_minor": 0,
 "worksheets": [
  {
   "cells": [
    {
     "cell_type": "heading",
     "level": 1,
     "metadata": {},
     "source": [
      "Chapter 21: Entropy Considerations and Analysis"
     ]
    },
    {
     "cell_type": "heading",
     "level": 3,
     "metadata": {},
     "source": [
      "ILLUSTRATIVE EXAMPLE 21.1, Page number: 460"
     ]
    },
    {
     "cell_type": "code",
     "collapsed": false,
     "input": [
      "\n",
      "from __future__ import division\n",
      "from math import log\n",
      "\n",
      "#Variable declaration:\n",
      "m = 1                           #Mass flowrate (lb)\n",
      "cP = 1                          #Heat capacity (Btu/lb.\u00b0F)\n",
      "#From figure 21.3:\n",
      "T1 = 300                        #Temperature of hot fluid leaving exchanger (\u00b0F)\n",
      "T2 = 540                        #Temperature of hot fluid entering exchanger (\u00b0F)\n",
      "T3 = 60                         #Temperature of cold fluid leaving exchanger (\u00b0F)\n",
      "T4 = 300                        #Temperature of cold fluid entering exchanger (\u00b0F)\n",
      "\n",
      "#Calculation:\n",
      "DSh = m*cP*log((T1+460)/(T2+460))      #Entropy for hot fluid (Btu/\u00b0F)\n",
      "DSc = m*cP*log((T4+460)/(T3+460))      #Entropy for cold fluid (Btu/\u00b0F)\n",
      "DSa = DSh+DSc                   #Entropy for one exchanger (Btu/\u00b0F)\n",
      "DSt = DSa*2                     #Total entropy change (Btu/\u00b0F)\n",
      "\n",
      "#Result:\n",
      "print \"The entropy chage is :\",round(DSt,4),\" Btu/\u00b0F .\"\n",
      "if (DSt>0):\n",
      "    print \"There is a positive entropy change.\"\n",
      "else :\n",
      "    print \"There is a negative entropy change.\""
     ],
     "language": "python",
     "metadata": {},
     "outputs": [
      {
       "output_type": "stream",
       "stream": "stdout",
       "text": [
        "The entropy chage is : 0.2101  Btu/\u00b0F .\n",
        "There is a positive entropy change.\n"
       ]
      }
     ],
     "prompt_number": 1
    },
    {
     "cell_type": "heading",
     "level": 3,
     "metadata": {},
     "source": [
      "ILLUSTRATIVE EXAMPLE 21.2, Page number: 461"
     ]
    },
    {
     "cell_type": "code",
     "collapsed": false,
     "input": [
      "\n",
      "\n",
      "from __future__ import division\n",
      "from math import log\n",
      "\n",
      "#Variable declaration:\n",
      "#From example 21.1:\n",
      "DSh = -0.2744                   #Entropy for hot fluid (Btu/\u00b0F)\n",
      "DSc = 0.3795                    #Entropy for cold fluid (Btu/\u00b0F)\n",
      "m = 1                           #Mass flowrate (lb)\n",
      "cP = 1                          #Heat capacity (Btu/lb.\u00b0F)\n",
      "#From figure 21.4:\n",
      "DT = 0                          #Temperature difference driving force (\u00b0F)\n",
      "DS_D = 0                        #Entropy for D exchanger (Btu/\u00b0F)\n",
      "\n",
      "#Calculation:\n",
      "DS_C = DSh+DSc                  #Entropy for C exchanger (Btu/\u00b0F)\n",
      "DSt = DS_C+DS_D                 #Total entropy change of exchangers (Btu/\u00b0F)\n",
      "\n",
      "#Result:\n",
      "print \"The total entropy change is :\",DSt,\" Btu/\u00b0F .\""
     ],
     "language": "python",
     "metadata": {},
     "outputs": [
      {
       "output_type": "stream",
       "stream": "stdout",
       "text": [
        "The total entropy change is : 0.1051  Btu/\u00b0F .\n"
       ]
      }
     ],
     "prompt_number": 3
    },
    {
     "cell_type": "heading",
     "level": 3,
     "metadata": {},
     "source": [
      "ILLUSTRATIVE EXAMPLE 21.3, Page number: 462"
     ]
    },
    {
     "cell_type": "code",
     "collapsed": false,
     "input": [
      "\n",
      "from math import log\n",
      "\n",
      "#Variable declaration:\n",
      "#From figure 21.5:\n",
      "m = 2                           #Mass flowrate (lb)\n",
      "cP = 1                          #Heat capacity (Btu/lb.\u00b0F)\n",
      "DS1 = -0.2744                   #Entropy for hot fluid for E exchanger (Btu/\u00b0F)\n",
      "T1 = 180                        #Temperature cold fluid entering the E exchabger (\u00b0F)\n",
      "T2 = 60                         #Temperature cold fluid leaving the E exchabger (\u00b0F)\n",
      "\n",
      "#Calculation:\n",
      "DS2 = m*cP*log((T1+460)/(T2+460))   #Entropy for cold fluid for E exchanger (Btu/\u00b0F)\n",
      "DS_E = DS1+DS2                  #Entropy for E exchanger (Btu/\u00b0F)\n",
      "DS_F = DS_E                     #Entropy for F exchanger (Btu/\u00b0F)\n",
      "DSt = DS_F+DS_E                 #Entropy change in exchangers E and F (Btu/\u00b0F)\n",
      "\n",
      "#Result:\n",
      "print \"The entropy change in exchangers E and F is :\",round(DSt,4),\" Btu/\u00b0F .\""
     ],
     "language": "python",
     "metadata": {},
     "outputs": [
      {
       "output_type": "stream",
       "stream": "stdout",
       "text": [
        "The entropy change in exchangers E and F is : 0.2818  Btu/\u00b0F .\n"
       ]
      }
     ],
     "prompt_number": 4
    }
   ],
   "metadata": {}
  }
 ]
}