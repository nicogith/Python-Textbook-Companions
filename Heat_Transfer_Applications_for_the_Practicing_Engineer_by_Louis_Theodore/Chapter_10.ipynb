{
 "metadata": {
  "name": "",
  "signature": "sha256:5a160b2a8858072f2a32a8c5f96e1426d911509afe45130ab4e23facf3414ba2"
 },
 "nbformat": 3,
 "nbformat_minor": 0,
 "worksheets": [
  {
   "cells": [
    {
     "cell_type": "heading",
     "level": 1,
     "metadata": {},
     "source": [
      "Chapter 10: Free Convection"
     ]
    },
    {
     "cell_type": "heading",
     "level": 3,
     "metadata": {},
     "source": [
      "ILLUSTRATIVE EXAMPLE 10.1, Page number: 163"
     ]
    },
    {
     "cell_type": "code",
     "collapsed": false,
     "input": [
      "\n",
      "\n",
      "#Variable declaration:\n",
      "Gr = 100.0                  #Grashof number\n",
      "Re = 50.0                   #Reynolds number\n",
      "\n",
      "#Calculation:\n",
      "LT = Gr/Re**2               #Measure of influence of convection effect\n",
      "\n",
      "#Result:\n",
      "if (LT<1.0):\n",
      "    print \"The free convection effects can be neglected.\"\n",
      "elif (LT>1.0):\n",
      "    print \"The free convection effects can not be neglected.\""
     ],
     "language": "python",
     "metadata": {},
     "outputs": [
      {
       "output_type": "stream",
       "stream": "stdout",
       "text": [
        "The free convection effects can be neglected.\n"
       ]
      }
     ],
     "prompt_number": 1
    },
    {
     "cell_type": "heading",
     "level": 3,
     "metadata": {},
     "source": [
      "ILLUSTRATIVE EXAMPLE 10.2, Page number: 166"
     ]
    },
    {
     "cell_type": "code",
     "collapsed": false,
     "input": [
      "\n",
      "\n",
      "#Variable declaration:\n",
      "Ts = 110.0+273.0                #Surface temperature of plate (K)\n",
      "Too = 30.0+273.0                #Ambient air temperature (K)\n",
      "L = 3.5                         #Height of plate (m)\n",
      "g = 9.807                       #Gravitational acceleration (m^2/s)\n",
      "\n",
      "#Calculation:\n",
      "Tf = (Ts+Too)/2                 #Film temperature (K)\n",
      "DT = Ts - Too                   #Temperature difference between surface and air (K)\n",
      "#From appendix:\n",
      "v = 2.0*10**-5                  #Kinematic viscosity for air (m^2/s)\n",
      "k = 0.029                       #Thermal conductivity for air (W/m.K)\n",
      "Pr = 0.7                        #Prandtl number\n",
      "B = 1.0/Tf                      #Coefficient of expansion (K^-1)\n",
      "Gr = g*B*DT*L**3/v**2           #Grashof number\n",
      "Ra = Gr*Pr                      #Rayleigh number\n",
      "\n",
      "#Result:\n",
      "print \"The Grashof number is :\",round(Gr/10**11,2),\" x 10^11 .\"\n",
      "print \"The Rayleigh number is :\",round(Ra/10**11,2),\" x 10^11 .\""
     ],
     "language": "python",
     "metadata": {},
     "outputs": [
      {
       "output_type": "stream",
       "stream": "stdout",
       "text": [
        "The Grashof number is : 2.45  x 10^11 .\n",
        "The Rayleigh number is : 1.72  x 10^11 .\n"
       ]
      }
     ],
     "prompt_number": 2
    },
    {
     "cell_type": "heading",
     "level": 3,
     "metadata": {},
     "source": [
      "ILLUSTRATIVE EXAMPLE 10.3, Page number: 166"
     ]
    },
    {
     "cell_type": "code",
     "collapsed": false,
     "input": [
      "\n",
      "\n",
      "#Variable declaration:\n",
      "#From example 10.2:\n",
      "Ra = 1.71*10**11                #Rayleigh number\n",
      "\n",
      "#Result:\n",
      "if (Ra>10**9):\n",
      "    print \"The convection flow category is turbulent.\"\n",
      "elif(Ra<10**9):\n",
      "    print \"The convection flow category is laminar.\""
     ],
     "language": "python",
     "metadata": {},
     "outputs": [
      {
       "output_type": "stream",
       "stream": "stdout",
       "text": [
        "The convection flow category is turbulent.\n"
       ]
      }
     ],
     "prompt_number": 3
    },
    {
     "cell_type": "heading",
     "level": 3,
     "metadata": {},
     "source": [
      "ILLUSTRATIVE EXAMPLE 10.4, Page number: 167"
     ]
    },
    {
     "cell_type": "code",
     "collapsed": false,
     "input": [
      "\n",
      "\n",
      "#Variable declaration:\n",
      "#From Table 10.1:\n",
      "c = 0.1                             #Constant c\n",
      "m = 1.0/3.0                         #Constant for turbulent free conection\n",
      "#From example 10.2:\n",
      "Ra = 1.71*10**11                    #Rayleigh number\n",
      "k = 0.029                           #Thermal conductivity (W/m.K)\n",
      "L = 3.5                             #Thickness of plate (m)\n",
      "\n",
      "#Calculation:\n",
      "Nu = c*Ra**m                        #Average Nusselt number\n",
      "h = Nu*k/L                          #Average heat transfer coefficient (W/m^2.K)\n",
      "\n",
      "#Result:\n",
      "print \"The average heat transfer coefficient is :\",round(h,1),\" W/m^2.K .\""
     ],
     "language": "python",
     "metadata": {},
     "outputs": [
      {
       "output_type": "stream",
       "stream": "stdout",
       "text": [
        "The average heat transfer coefficient is : 4.6  W/m^2.K .\n"
       ]
      }
     ],
     "prompt_number": 4
    },
    {
     "cell_type": "heading",
     "level": 3,
     "metadata": {},
     "source": [
      "ILLUSTRATIVE EXAMPLE 10.6, Page number: 167"
     ]
    },
    {
     "cell_type": "code",
     "collapsed": false,
     "input": [
      "\n",
      "\n",
      "from math import log,e\n",
      "\n",
      "#Variable declaration:\n",
      "Ts = 200.0+460.0                #Surface temperature of pipe (\u00b0R)\n",
      "Too = 70.0+460.0                #Air temperature (\u00b0R)\n",
      "D = 0.5                         #Diameter of pipe (ft)\n",
      "R = 0.73                        #Universal gas constant (ft^3.atm.R^\u22121.lb.mol^\u22121)\n",
      "P = 1.0                         #Atmospheric pressure (Pa)\n",
      "MW = 29.0                       #Molecular weight of fluid (mol)\n",
      "#From Appendix:\n",
      "mu = 1.28*10**-5                #Absolute viscosity (lb/ft.s)\n",
      "k = 0.016/3600.0                #Thermal conductivity (Btu/s.ft.\u00b0F)\n",
      "g = 32.174                      #Gravitational acceleration (ft/s^2)\n",
      "\n",
      "#Calculation:\n",
      "Tav = (Ts+Too)/2                #Average temperature (\u00b0R)\n",
      "v = R*Tav/P                     #kinematic viscosity (ft^3/lbmol)\n",
      "p = MW/v                        #Air density (lb/ft^3)\n",
      "B = 1.0/Tav                     #Coefficient of expansion (\u00b0R^-1)\n",
      "DT = Ts-Too                     #Temperature difference (\u00b0R)\n",
      "Gr = D**3*p**2*g*B*DT/mu**2     #Grashof number\n",
      "#From equation 10.5:\n",
      "Cp = 0.25                       #Air heat capacity (Btu/lb.\u00b0F)\n",
      "Pr = Cp*mu/k                    #Prandtl number\n",
      "GrPr = 10**8.24                 #Rayleigh number\n",
      "#From Holman^(3):\n",
      "Nu = 10**(1.5)                  #Nusselt number\n",
      "h = Nu*(k/D)*3600.0             #Air heat transfer film coefficient (Btu/h.ft.\u00b0F)\n",
      "\n",
      "#Result:\n",
      "print \"The required air heat transfer film coefficient is :\",round(h,2),\" Btu/h.ft.\u00b0F .\""
     ],
     "language": "python",
     "metadata": {},
     "outputs": [
      {
       "output_type": "stream",
       "stream": "stdout",
       "text": [
        "The required air heat transfer film coefficient is : 1.01  Btu/h.ft.\u00b0F .\n"
       ]
      }
     ],
     "prompt_number": 6
    },
    {
     "cell_type": "heading",
     "level": 3,
     "metadata": {},
     "source": [
      "ILLUSTRATIVE EXAMPLE 10.7, Page number: 168"
     ]
    },
    {
     "cell_type": "code",
     "collapsed": false,
     "input": [
      "\n",
      "\n",
      "#Variable declaration:\n",
      "Ts = 120.0+460                  #Surface temperature of plate (\u00b0R)\n",
      "Too = 60.0+460                  #Ambient temperature of nitrogen (\u00b0R)\n",
      "L = 6                           #Height of plate (ft)\n",
      "#From Appendix:\n",
      "p = 0.0713                      #Air density (lb/ft^3)\n",
      "k = 0.01514                     #Thermal conductivity (Btu/h.ft.\u00b0F)\n",
      "v = 16.82*10**-5                #Kinematic viscosity (ft^2/s)\n",
      "Pr = 0.713                      #Prandtl number\n",
      "g = 32.2                        #Gravitational acceleration (ft/s^2)\n",
      "\n",
      "#Calculation:\n",
      "Tf = (Ts+Too)/2                 #Mean film temperature (\u00b0R)\n",
      "B = 1.0/Tf                      #Coefficient of expansion (\u00b0R^-1)\n",
      "Gr = g*B*(Ts-Too)*L**3/v**2     #Grashof number\n",
      "Ra = Gr*Pr                      #Rayleigh number\n",
      "#From equation 10.13(Table 10.2) and costants from Table 10.1:\n",
      "h = 0.10*(k/L)*Ra**(1.0/3.0)    #Free convection heat transfer coefficient (Btu/h.ft^2.\u00b0F)\n",
      "\n",
      "#Result:\n",
      "print \"The free convection heat transfer coefficient is :\",round(h,3),\" Btu/h.ft^2.\u00b0F .\"\n",
      "print \"There is a calculation mistake in the book for calculating 'Gr', so, value of 'h' alters from that given.\""
     ],
     "language": "python",
     "metadata": {},
     "outputs": [
      {
       "output_type": "stream",
       "stream": "stdout",
       "text": [
        "The free convection heat transfer coefficient is : 0.675  Btu/h.ft^2.\u00b0F .\n",
        "There is a calculation mistake in the book for calculating 'Gr', so, value of 'h' alters from that given.\n"
       ]
      }
     ],
     "prompt_number": 7
    },
    {
     "cell_type": "heading",
     "level": 3,
     "metadata": {},
     "source": [
      "ILLUSTRATIVE EXAMPLE 10.8, Page number: 169"
     ]
    },
    {
     "cell_type": "code",
     "collapsed": false,
     "input": [
      "\n",
      "\n",
      "#Variable declaration:\n",
      "#From example:\n",
      "h = 0.675                       #Free convection heat transfer coefficient (Btu/h.ft^2.\u00b0F)\n",
      "A = 6.0*8.0                     #Area of plate (ft^2)\n",
      "Ts = 120.0                      #Surface temperature of plate (\u00b0F)\n",
      "Too = 60.0                      #Ambient temperature of nitrogen (\u00b0F)\n",
      "\n",
      "#Calculation:\n",
      "Q = h*A*(Ts-Too)                #Heat loss (Btu/h)\n",
      "\n",
      "#Result:\n",
      "print \"The heat loss is :\",round(Q,-1),\" Btu/h .\"\n",
      "print \" The 'h' obtained in the previous example differs, therefore, 'Q' obtained here also fiffers from that given in book.\""
     ],
     "language": "python",
     "metadata": {},
     "outputs": [
      {
       "output_type": "stream",
       "stream": "stdout",
       "text": [
        "The heat loss is : 1940.0  Btu/h .\n",
        " The 'h' obtained in the previous example differs, therefore, 'Q' obtained here also fiffers from that given in book.\n"
       ]
      }
     ],
     "prompt_number": 8
    },
    {
     "cell_type": "heading",
     "level": 3,
     "metadata": {},
     "source": [
      "ILLUSTRATIVE EXAMPLE 10.9, Page number: 169"
     ]
    },
    {
     "cell_type": "code",
     "collapsed": false,
     "input": [
      "\n",
      "\n",
      "#Variable declaration:\n",
      "Ts = 113.0+273.0                    #Surface temperature of bulb (K)\n",
      "Too = 31.0+273.0                    #Ambient air temperature (K)\n",
      "D = 0.06                            #Diameter of sphere (m)\n",
      "g = 9.8                             #Gravitational acceleration (m/s^2)\n",
      "\n",
      "#Calculation:\n",
      "Tf = (Ts+Too)/2                     #Mean temperature (K)\n",
      "#From Appendix:\n",
      "v = (22.38*10**-5)*0.0929           #Kinematic viscosity (m^2/s)\n",
      "Pr = 0.70                           #Prandtl number\n",
      "k = 0.01735*1.729                   #Thermal conductivity (W/m.K)\n",
      "B = 1.0/(Tf)                        #Coefficient of expansion (K^-1)\n",
      "Gr = g*B*(Ts-Too)*D**3/v**2         #Grashof number\n",
      "Ra = Gr*Pr                          #Rayleigh number\n",
      "\n",
      "#From equation 10.13:\n",
      "h = (k/D)*0.6*Ra**(1.0/4.0)         #Heat transferred from bulb (W/m^2.K)\n",
      "\n",
      "#Result:\n",
      "print \"The heat transferred from bulb to air is :\",round(h,2),\" W/m^2.K .\""
     ],
     "language": "python",
     "metadata": {},
     "outputs": [
      {
       "output_type": "stream",
       "stream": "stdout",
       "text": [
        "The heat transferred from bulb to air is : 9.01  W/m^2.K .\n"
       ]
      }
     ],
     "prompt_number": 9
    },
    {
     "cell_type": "heading",
     "level": 3,
     "metadata": {},
     "source": [
      "ILLUSTRATIVE EXAMPLE 10.10, Page number: 170"
     ]
    },
    {
     "cell_type": "code",
     "collapsed": false,
     "input": [
      "\n",
      "\n",
      "from math import pi\n",
      "\n",
      "#Variable declaration:\n",
      "#From example 10.9:\n",
      "h = 9.01                    #Heat transferred from bulb (W/m^2.K)\n",
      "D = 0.06                    #Diameter of sphere (m)\n",
      "Ts = 113.0+273.0            #Surface temperature of bulb (K)\n",
      "Too = 31.0+273.0            #Ambient air temperature (K)\n",
      "\n",
      "#Calculation:\n",
      "A = pi*D**2                 #Surface area of bulb (m^2)\n",
      "Q = h*A*(Ts-Too)            #Heat transfer lost by free convection from light bulb (W)\n",
      "\n",
      "#Result:\n",
      "print \"The heat transfer lost by free convection from light bulb is :\",round(Q,2),\" W .\""
     ],
     "language": "python",
     "metadata": {},
     "outputs": [
      {
       "output_type": "stream",
       "stream": "stdout",
       "text": [
        "The heat transfer lost by free convection from light bulb is : 8.36  W .\n"
       ]
      }
     ],
     "prompt_number": 10
    },
    {
     "cell_type": "heading",
     "level": 3,
     "metadata": {},
     "source": [
      "ILLUSTRATIVE EXAMPLE 10.11, Page number: 170"
     ]
    },
    {
     "cell_type": "code",
     "collapsed": false,
     "input": [
      "\n",
      "\n",
      "#Variable declaration:\n",
      "#From example 10.9-10.10:\n",
      "Q = 8.36                        #Heat transfer lost by free convection from light bulb (W)\n",
      "\n",
      "#Calculation:\n",
      "E = Q/100.0*(100.0)             #Percent energy lost by free convection (%)\n",
      "\n",
      "#Result:\n",
      "print \"The percentage of the energy lost by free convection is :\",round(E,2),\" % .\"\n",
      "print \"The energy lost fraction is :\",round(E/100.0,4),\" .\""
     ],
     "language": "python",
     "metadata": {},
     "outputs": [
      {
       "output_type": "stream",
       "stream": "stdout",
       "text": [
        "The percentage of the energy lost by free convection is : 8.36  % .\n",
        "The energy lost fraction is : 0.0836  .\n"
       ]
      }
     ],
     "prompt_number": 11
    },
    {
     "cell_type": "heading",
     "level": 3,
     "metadata": {},
     "source": [
      "ILLUSTRATIVE EXAMPLE 10.13, Page number: 175"
     ]
    },
    {
     "cell_type": "code",
     "collapsed": false,
     "input": [
      "\n",
      "\n",
      "#Variable declaration:\n",
      "F = 50.0                        #Buoyancy flux of gas (m^4/s^3)\n",
      "u = 4.0                         #wind speed (m/s)\n",
      "\n",
      "#Calculation:\n",
      "xc = 14*F**(5.0/8.0)            #Downward distance (m)\n",
      "xf = 3.5*xc                     #distance of transition from first stage of rise to the second stage of rise (m)\n",
      "Dh = 1.6*F**(1.0/3.0)*u**-1*xf**(2.0/3.0)   #Plume rise (m)\n",
      "\n",
      "#Result:\n",
      "print \"The plume rise is :\",round(Dh),\" m .\""
     ],
     "language": "python",
     "metadata": {},
     "outputs": [
      {
       "output_type": "stream",
       "stream": "stdout",
       "text": [
        "The plume rise is : 101.0  m .\n"
       ]
      }
     ],
     "prompt_number": 13
    }
   ],
   "metadata": {}
  }
 ]
}