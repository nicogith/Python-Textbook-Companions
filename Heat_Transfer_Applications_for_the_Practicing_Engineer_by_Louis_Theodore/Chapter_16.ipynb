{
 "metadata": {
  "name": "",
  "signature": "sha256:4d89093b0aef649c7f239bf75c18374320afd98a6f8286cbe2c1fcb242b5a141"
 },
 "nbformat": 3,
 "nbformat_minor": 0,
 "worksheets": [
  {
   "cells": [
    {
     "cell_type": "heading",
     "level": 1,
     "metadata": {},
     "source": [
      "Chapter 16: Shell and Tube Heat Exchangers"
     ]
    },
    {
     "cell_type": "heading",
     "level": 3,
     "metadata": {},
     "source": [
      "ILLUSTRATIVE EXAMPLE 16.5, Page number: 334"
     ]
    },
    {
     "cell_type": "code",
     "collapsed": false,
     "input": [
      "\n",
      "from math import log\n",
      "\n",
      "#Variable declaration:\n",
      "#From figure 16.13, for ideal countercurrent heat exchanger:\n",
      "T1 = 150.0                      #Inlet temperature of hot fluid (\u00b0F)\n",
      "T2 = 100.0                      #Outet temperature of hot fluid (\u00b0F)\n",
      "t1 = 50.0                       #Inlet temperature of cold fluid (\u00b0F)\n",
      "t2 = 80.0                       #Outet temperature of hot fluid (\u00b0F)\n",
      "#From figure 16.14, for shell and tube exchanger:\n",
      "T_1 = 50.0                      #Inlet temperature of cold fluid (\u00b0F)\n",
      "T_2 = 80.0                      #Outet temperature of hot fluid (\u00b0F)\n",
      "t_1 = 150.0                     #Inlet temperature of hot fluid (\u00b0F)\n",
      "t_2 = 100.0                     #Outet temperature of hot fluid (\u00b0F)\n",
      "\n",
      "#Calculation:\n",
      "DT1 = T1 - t2                   #Temperature driving force 1 (\u00b0F)\n",
      "DT2 = T2 - t1                   #Temperature driving force 1 (\u00b0F)\n",
      "DTlm1 = ((DT1-DT2)/log(DT1/DT2))  #Log mean temperature driving force for ideal countercurrent heat exchanger (\u00b0F)\n",
      "P = (t2-t1)/(T1 - t1)           #Dimensionless ratio P\n",
      "R = (T1-T2)/(t2-t1)             #Dimensionless ratio R\n",
      "#From figure 16.7:\n",
      "F = 0.925                       #Correction Factor\n",
      "DTlm2 = F*DTlm1                 #Log mean temperature driving force for shell and tube exchanger (\u00b0F)\n",
      "\n",
      "#Result:\n",
      "print \"The log mean temperature difference for ideal system is :\",round(DTlm1,1),\" \u00b0F .\"\n",
      "print \"The log mean temperature difference for real system is :\",round(DTlm2,2),\" \u00b0F .\""
     ],
     "language": "python",
     "metadata": {},
     "outputs": [
      {
       "output_type": "stream",
       "stream": "stdout",
       "text": [
        "The log mean temperature difference for ideal system is : 59.4  \u00b0F .\n",
        "The log mean temperature difference for real system is : 54.98  \u00b0F .\n"
       ]
      }
     ],
     "prompt_number": 5
    },
    {
     "cell_type": "heading",
     "level": 3,
     "metadata": {},
     "source": [
      "ILLUSTRATIVE EXAMPLE 16.6, Page number: 335"
     ]
    },
    {
     "cell_type": "code",
     "collapsed": false,
     "input": [
      "\n",
      "from math import log\n",
      "5\n",
      "#Variable declaration:\n",
      "T1 = 400.0                      #Temperature of fluid entering the shell (\u00b0F)\n",
      "T2 = 250.0                      #Temperature of fluid leaving the shell (\u00b0F)\n",
      "t1 = 100.0                      #Temperature of fluid entering the tube (\u00b0F)\n",
      "t2 = 175.0                      #Temperature of fluid leaving the tube (\u00b0F)\n",
      "\n",
      "#Calculation:\n",
      "DT1 = T1 - T2                   #Temperature driving force 1 (\u00b0F)\n",
      "DT2 = t2 - t1                   #Temperature driving force 1 (\u00b0F)\n",
      "DTlm1 = ((DT1-DT2)/log(DT1/DT2))  #Log mean temperature driving force for ideal countercurrent heat exchanger (\u00b0F)\n",
      "P = (t2-t1)/(T1 - t1)           #Dimensionless ratio P\n",
      "R = (T1-T2)/(t2-t1)             #Dimensionless ratio R\n",
      "#From figure 16.8:\n",
      "F = 0.985                       #Correction factor\n",
      "DTlm2 = F*DTlm1                 #Log mean temperature driving force for shell and tube exchanger (\u00b0F)\n",
      "\n",
      "#Result:\n",
      "print \"The log mean temperature difference between the hot fluid and the cold fluid is :\",round(DTlm2,1),\" \u00b0F .\""
     ],
     "language": "python",
     "metadata": {},
     "outputs": [
      {
       "output_type": "stream",
       "stream": "stdout",
       "text": [
        "The log mean temperature difference between the hot fluid and the cold fluid is : 106.6  \u00b0F .\n"
       ]
      }
     ],
     "prompt_number": 6
    },
    {
     "cell_type": "heading",
     "level": 3,
     "metadata": {},
     "source": [
      "ILLUSTRATIVE EXAMPLE 16.7, Page number: 336"
     ]
    },
    {
     "cell_type": "code",
     "collapsed": false,
     "input": [
      "\n",
      "#Variable declaration:\n",
      "#From example 16.5:\n",
      "P1 = 0.30                        #Dimensionless ratio P\n",
      "R1 = 1.67                        #Dimensionless ratio R\n",
      "#From example 16.6:\n",
      "P2 = 0.30                        #Dimensionless ratio P\n",
      "R2 = 1.67                        #Dimensionless ratio R\n",
      "\n",
      "#Calculation:\n",
      "#Applying Equation 16.27:\n",
      "F1 = 0.92                        #Correction Factor\n",
      "#Applying Equation 16.33:\n",
      "F2 = 0.985                       #Correction Factor\n",
      "#From example 16.6:\n",
      "LMTD1 = 59.4                      #Log mean temperature driving force 1 for ideal countercurrent heat exchanger (\u00b0F)\n",
      "LMTD2 = 108.0                     #Log mean temperature driving force 2 for ideal countercurrent heat exchanger (\u00b0F)\n",
      "DTlm1 = F1*LMTD1                  #Log mean temperature driving force 1 for shell and tube exchanger (\u00b0F)\n",
      "DTlm2 = F2*LMTD2                  #Log mean temperature driving force 2 for shell and tube exchanger (\u00b0F)\n",
      "\n",
      "#Result:\n",
      "print \"The log mean temperature difference for real system (in example 16.5) is :\",round(DTlm1,2),\" \u00b0F .\"\n",
      "print \"The log mean temperature difference for real system (in example 16.6) is :\",round(DTlm2,1),\" \u00b0F .\""
     ],
     "language": "python",
     "metadata": {},
     "outputs": [
      {
       "output_type": "stream",
       "stream": "stdout",
       "text": [
        "The log mean temperature difference for real system (in example 16.5) is : 54.65  \u00b0F .\n",
        "The log mean temperature difference for real system (in example 16.6) is : 106.4  \u00b0F .\n"
       ]
      }
     ],
     "prompt_number": 7
    },
    {
     "cell_type": "heading",
     "level": 3,
     "metadata": {},
     "source": [
      "ILLUSTRATIVE EXAMPLE 16.8, Page number: 337"
     ]
    },
    {
     "cell_type": "code",
     "collapsed": false,
     "input": [
      "\n",
      "\n",
      "from math import log\n",
      "\n",
      "#Variable declaration:\n",
      "t2 = 75.0                       #Temperature of water leaving the shell (\u00b0C)\n",
      "t1 = 35.0                       #Temperature of water enteringing the shell (\u00b0C)\n",
      "T2 = 75.0                       #Temperature of oil leaving the tube (\u00b0C)\n",
      "T1 = 110.0                      #Temperature of oil entering the tube (\u00b0C)\n",
      "m = 1.133                       #Mass flowrate of water (kg/s)\n",
      "cp = 4180.0                     #Heat capacity of water (J/kg.K)\n",
      "F = 0.965                       #Correction factor\n",
      "U = 350.0                       #Overall heat transfer coefficient (W/m^2.K)\n",
      "\n",
      "#Calculation:\n",
      "Q = m*cp*(t2-t1)                #Heat load (W)\n",
      "DT1 = T1-t2                     #Temperature driving force 1 (\u00b0C)\n",
      "DT2 = T2-t1                     #Temperature driving force 2 (\u00b0C)\n",
      "DTlm1 = (DT1-DT2)/log(DT1/DT2)+273.0  #Countercurrent log-mean temperature difference (K)\n",
      "DTlm2 = F*DTlm1                 #Corrected log-mean temperature difference (K)\n",
      "A = Q/(U*DTlm2)                 #Required heat transfer area (m^2)\n",
      "\n",
      "#Result:\n",
      "print \"The required heat-transfer area is :\",round(A,3),\" m^2 .\""
     ],
     "language": "python",
     "metadata": {},
     "outputs": [
      {
       "output_type": "stream",
       "stream": "stdout",
       "text": [
        "The required heat-transfer area is : 1.807  m^2 .\n"
       ]
      }
     ],
     "prompt_number": 8
    },
    {
     "cell_type": "heading",
     "level": 3,
     "metadata": {},
     "source": [
      "ILLUSTRATIVE EXAMPLE 16.10, Page number: 338"
     ]
    },
    {
     "cell_type": "code",
     "collapsed": false,
     "input": [
      "\n",
      "\n",
      "from math import log\n",
      "\n",
      "#Variable declaration:\n",
      "t2 = 84.0                       #Temperature of water leaving the tube (\u00b0C)\n",
      "t1 = 16.0                       #Temperature of water entering the tube (\u00b0C)\n",
      "m1 = 10000.0/3600.0             #Mass flowrate of water (kg/s)\n",
      "T2 = 94.0                       #Temperature of oil leaving the shell (\u00b0C)\n",
      "T1 = 160.0                      #Temperature of oil entering the shell (\u00b0C)\n",
      "\n",
      "#Calculation:\n",
      "Tw = (t1+t2)/2.0                #Average bulk temperature of water (\u00b0C)\n",
      "To = (T1+T2)/2.0                #Average bulk temperature of oil (\u00b0C)\n",
      "#From table 16.1:\n",
      "p1 = 987.0                      #Density of water (kg/m^3)\n",
      "cp1 = 4176.0                    #Heat capacity of water (J/kg.\u00b0C)\n",
      "p2 = 822.0                      #Density of oil (kg/m^3)\n",
      "Q = m1*cp1*(t2-t1)              #Heat load (W)\n",
      "cp2 = 4820.0                    #Heat capacity of oil (J/kg.\u00b0C)\n",
      "m2 = Q/(cp2*(T1-T2))            #Mass flowrate of oil (kg/s)\n",
      "DT1 = T2-t1                     #Temperature driving force 1 (\u00b0C)\n",
      "DT2 = T1-t2                     #Temperature driving force 2 (\u00b0C)\n",
      "DTlm1 = ((DT1-DT2)/log(DT1/DT2))  #Log mean temperature driving force for ideal countercurrent heat exchanger (\u00b0C)\n",
      "P = (t2-t1)/(T1 - t1)           #Dimensionless ratio P\n",
      "R = (T1-T2)/(t2-t1)             #Dimensionless ratio R\n",
      "#From figure 16.7:\n",
      "F = 0.965                       #Correction factor\n",
      "DTlm2 = F*DTlm1                 #Log mean temperature driving force for 1-4 shell and tube exchanger (\u00b0C)\n",
      "\n",
      "#Result:\n",
      "print \"1. The heat load is :\",round(Q/10**6,3),\" MW .\"\n",
      "print \"2. The countercurrent flow log mean temperature difference is :\",round(DTlm1),\" \u00b0C .\"\n",
      "print \"3. The F correction factor and the corrected log mean temperature difference is :\",round(DTlm2,1),\" \u00b0C .\""
     ],
     "language": "python",
     "metadata": {},
     "outputs": [
      {
       "output_type": "stream",
       "stream": "stdout",
       "text": [
        "1. The heat load is : 0.789  MW .\n",
        "2. The countercurrent flow log mean temperature difference is : 77.0  \u00b0C .\n",
        "3. The F correction factor and the corrected log mean temperature difference is : 74.3  \u00b0C .\n"
       ]
      }
     ],
     "prompt_number": 10
    },
    {
     "cell_type": "heading",
     "level": 3,
     "metadata": {},
     "source": [
      "ILLUSTRATIVE EXAMPLE 16.11, Page number: 340"
     ]
    },
    {
     "cell_type": "code",
     "collapsed": false,
     "input": [
      "\n",
      "\n",
      "from math import pi\n",
      "\n",
      "#Variable declaration:\n",
      "#From example 16.10:\n",
      "U = 350.0                       #Over all heat transfer coefficient (W/m^2.\u00b0C)\n",
      "DTlm = 74.3                     #Log mean temperature driving force for 1-4 shell and tube exchanger (\u00b0C)\n",
      "Q = 788800.0                    #Heat load (W)\n",
      "Nt = 11.0                       #Number of tubes per pass\n",
      "Np = 4.0                        #Number of passes\n",
      "Di = 0.0229                     #Inside diameter of tube (m)\n",
      "\n",
      "#Calculation:\n",
      "A = Q/(U*DTlm)                  #Heat transfer area required for heat exchanger (m^2)\n",
      "N = Nt*Np                       #Total number of tubes\n",
      "L = A/(pi*Di*N)                 #Tube length (m)\n",
      "\n",
      "#Result:\n",
      "print \"The heat transfer area required for the heat exchanger is :\",round(A,2),\" m^2 .\"\n",
      "print \"The length of the tubes required for the heat exchanger is :\",round(L*3.28,1),\" ft .\""
     ],
     "language": "python",
     "metadata": {},
     "outputs": [
      {
       "output_type": "stream",
       "stream": "stdout",
       "text": [
        "The heat transfer area required for the heat exchanger is : 30.33  m^2 .\n",
        "The length of the tubes required for the heat exchanger is : 31.4  ft .\n"
       ]
      }
     ],
     "prompt_number": 11
    },
    {
     "cell_type": "heading",
     "level": 3,
     "metadata": {},
     "source": [
      "ILLUSTRATIVE EXAMPLE 16.18, Page number: 349"
     ]
    },
    {
     "cell_type": "code",
     "collapsed": false,
     "input": [
      "\n",
      "\n",
      "#Variable declaration:\n",
      "#From example 16.10:\n",
      "m1 = 2.778                      #Mass flowrate of water (kg/s)\n",
      "cp1 = 4176.0                    #Heat capacity of water (J/kg.\u00b0C)\n",
      "cp2 = 4820.0                    #Heat capacity of oil (J/kg.\u00b0C)\n",
      "m2 = 2.48                       #Mass flowrate of oil (kg/s)\n",
      "t2 = 84.0                       #Temperature of water leaving the tube (\u00b0C)\n",
      "t1 = 16.0                       #Temperature of water entering the tube (\u00b0C)\n",
      "T2 = 94.0                       #Temperature of oil leaving the shell (\u00b0C)\n",
      "T1 = 160.0                      #Temperature of oil entering the shell (\u00b0C)\n",
      "U = 350.0                       #Over all heat transfer coefficient (W/m^2.\u00b0C)\n",
      "A = 30.33                       #Heat transfer area required for heat exchanger (m^2)\n",
      "\n",
      "#Calculation:\n",
      "C1 = m1*cp1                     #Capacitance rate of water (W/\u00b0C)\n",
      "C2 = m2*cp2                     #Capacitance rate of oil (W/\u00b0C)\n",
      "Q = C1*(t2-t1)                  #Heat load of water (W)\n",
      "Qmax = C1*(T1-t1)               #Maximum heat load of water (W)\n",
      "E = Q/Qmax                      #Effectiveness\n",
      "if (C1<C2):\n",
      "    Cmin = C1                   #Minimum capacitance rate (W/\u00b0C)\n",
      "    Cmax = C2                   #Maximum capacitance rate (W/\u00b0C)\n",
      "else:\n",
      "    Cmin = C2                   #Minimum capacitance rate (W/\u00b0C)\n",
      "    Cmax = C1                   #Maximum capacitance rate (W/\u00b0C)\n",
      "NTU = U*A/Cmin                  #Number of transfer units\n",
      "C = Cmin/Cmax                   #Capacitance rate ratio\n",
      "\n",
      "#Result:\n",
      "print \"The effectiveness is :\",round(E,3),\".\"\n",
      "print \"The number of transfer units is :\",round(NTU,3),\".\"\n",
      "print \"The capacitance rate ratio is :\",round(C,3),\".\""
     ],
     "language": "python",
     "metadata": {},
     "outputs": [
      {
       "output_type": "stream",
       "stream": "stdout",
       "text": [
        "The effectiveness is : 0.472 .\n",
        "The number of transfer units is : 0.915 .\n",
        "The capacitance rate ratio is : 0.97 .\n"
       ]
      }
     ],
     "prompt_number": 18
    },
    {
     "cell_type": "heading",
     "level": 3,
     "metadata": {},
     "source": [
      "ILLUSTRATIVE EXAMPLE 16.19, Page number: 351"
     ]
    },
    {
     "cell_type": "code",
     "collapsed": false,
     "input": [
      "\n",
      "\n",
      "from math import log\n",
      "\n",
      "#Variable declaration:\n",
      "#From table 16.4:\n",
      "Cw = 11680.3                    #Capacitance rate of water (W/\u00b0C)\n",
      "t2 = 65.0                       #Temperature of water leaving the tube (\u00b0C)\n",
      "t1 = 20.0                       #Temperature of water entering the tube (\u00b0C)\n",
      "T2 = 107.3                      #Temperature of steam leaving the shell (\u00b0C)\n",
      "T1 = 107.3                      #Temperature of steam entering the shell (\u00b0C)\n",
      "hv = 2.238*10**6                #Latenet heat of condensation for steam (J/kg)\n",
      "U = 2000.0                      #Overall heat transfer coefficient (W/m^2.\u00b0C)\n",
      "\n",
      "#Calculation:\n",
      "Q = Cw*(t2-t1)                  #Heat load (W)\n",
      "m2 = Q/hv                       #Steam condensation rate (kg/s)\n",
      "DT1 = T2-t1                     #Temperature driving force 1 (\u00b0C)\n",
      "DT2 = T1-t2                     #Temperature driving force 2 (\u00b0C)\n",
      "DTlm1 = ((DT1-DT2)/log(DT1/DT2))  #Log mean temperature driving force for ideal countercurrent heat exchanger (\u00b0C)\n",
      "F = 1.0                         #Correction factor (since, T2 = T1)\n",
      "DTlm2 = F*DTlm1                 #Log mean temperature driving force for shell and tube exchanger (\u00b0C)\n",
      "A1 = Q/(U*DTlm2)                #Heat transfer area using LMTD method (m^2)\n",
      "E = (t2-t1)/(T1-t1)             #Effectiveness\n",
      "#From figure 16.18:\n",
      "NTU = 0.7                       #Number of transfer units\n",
      "A2 = (NTU*Cw)/U                 #Heat transfer area using E-NTU method (m^2)\n",
      "\n",
      "#Result:\n",
      "print \"The heat transfr area for the exchanger (using LMTD method) is :\",round(A1,2),\" m^2 .\"\n",
      "print \"The heat transfr area for the exchanger (using E-NTU method) is :\",round(A2,1),\" m^2 .\""
     ],
     "language": "python",
     "metadata": {},
     "outputs": [
      {
       "output_type": "stream",
       "stream": "stdout",
       "text": [
        "The heat transfr area for the exchanger (using LMTD method) is : 4.23  m^2 .\n",
        "The heat transfr area for the exchanger (using E-NTU method) is : 4.1  m^2 .\n"
       ]
      }
     ],
     "prompt_number": 19
    },
    {
     "cell_type": "heading",
     "level": 3,
     "metadata": {},
     "source": [
      "ILLUSTRATIVE EXAMPLE 16.21, Page number: 353"
     ]
    },
    {
     "cell_type": "code",
     "collapsed": false,
     "input": [
      "\n",
      "from math import pi,log\n",
      "\n",
      "#Variable declaration:\n",
      "#From table 16.5:\n",
      "t2 = 75.0                       #Temperature of water leaving the shell (\u00b0C)\n",
      "t1 = 35.0                       #Temperature of water entering the shell (\u00b0C\n",
      "T2 = 75.0                       #Temperature of oil leaving the tube (\u00b0C)\n",
      "T1 = 110.0                      #Temperature of oil entering the tube (\u00b0C)\n",
      "mw = 1.133                      #Mass flowrtae of water (kg/s)\n",
      "cpw = 4180.0                    #Heat capacity of water (J/kg.K)\n",
      "cpo = 1900.0                    #Heat capacity of oil (J/kg.K)\n",
      "p = 850.0                       #Density of oil (kg/m^3)\n",
      "Di = 0.01905                    #Inside diameter of tube (m)\n",
      "V = 0.3                         #Average velocity of oil flow inside the tube (m/s)\n",
      "Np = 2.0                        #Number of passes\n",
      "Uc = 350.0                      #Overall heat transfer coefficient for clean heat exchanger (W/m^2)\n",
      "Rf = 0.00027                    #Fouling factor (m^2.K/w)\n",
      "\n",
      "#Calculation:\n",
      "Cw = mw*cpw                     #Water capacitance rate (W/K)\n",
      "Q = Cw*(t2-t1)                  #Heat load (W)\n",
      "Co = Q/(T1-T2)                  #Oil capacitance rate (W/K)\n",
      "mo = Co/cpo                     #Total flowrate of oil (kg/s)\n",
      "if (Cw<Co):\n",
      "    Cmin = Cw                   #Minimum capacitance rate (W/K)\n",
      "    Cmax = Co                   #Maximum capacitance rate (W/K)\n",
      "else:\n",
      "    Cmin = Co                   #Minimum capacitance rate (W/K)\n",
      "    Cmax = Cw                   #Maximum capacitance rate (W/K)\n",
      "m_ot = p*V*(pi/4.0)*Di**2       #Oil flowrate per tube (kg/s)\n",
      "Nt = mo/m_ot                    #Number of tubes per pass\n",
      "N = Nt*Np                       #Number of tubes\n",
      "DT1 = T2-t1                     #Temperature driving force 1 (\u00b0C)\n",
      "DT2 = T1-t2                     #Temperature driving force 2 (\u00b0C)\n",
      "DTlm1 = ((DT1-DT2)/log(DT1/DT2))  #Log mean temperature driving force for ideal countercurrent heat exchanger (\u00b0C)\n",
      "P = (t2-t1)/(T1 - t1)           #Dimensionless parameter P\n",
      "R = (T1-T2)/(t2-t1)             #Dimensionless parameter R\n",
      "#From figure 16.7:\n",
      "F = 0.81                        #Correction factor\n",
      "DTlm2 = F*DTlm1                 #Log mean temperature driving force for shell and tube exchanger (\u00b0C)\n",
      "Ud = 1.0/(1.0/Uc+Rf)            #Dirty overall heat transfer coefficient (W/m^2.K)\n",
      "A = Q/(Ud*DTlm2)                #Required heat transfer area (m^2)\n",
      "L = A/(N*pi*Di)                 #Tube length (m)\n",
      "\n",
      "#Result:\n",
      "print \"1. The mass flow rate of the oil is :\",round(mo,2),\" kg/s .\"\n",
      "print \"2. The minimum and maximum heat capacity rate is :\",round(Cmin),\" and \",round(Cmax,1),\" W/K .\"\n",
      "print \"3. The heat load, Q is :\",round(Q),\" W .\"\n",
      "print \"4. The total number of tubes is :\",round(N,-1),\".\"\n",
      "print \"5. The tube length is :\",round(L,1),\" m .\""
     ],
     "language": "python",
     "metadata": {},
     "outputs": [
      {
       "output_type": "stream",
       "stream": "stdout",
       "text": [
        "1. The mass flow rate of the oil is : 2.85  kg/s .\n",
        "2. The minimum and maximum heat capacity rate is : 4736.0  and  5412.5  W/K .\n",
        "3. The heat load, Q is : 189438.0  W .\n",
        "4. The total number of tubes is : 80.0 .\n",
        "5. The tube length is : 4.2  m .\n"
       ]
      }
     ],
     "prompt_number": 21
    },
    {
     "cell_type": "heading",
     "level": 3,
     "metadata": {},
     "source": [
      "ILLUSTRATIVE EXAMPLE 16.22, Page number: 356"
     ]
    },
    {
     "cell_type": "code",
     "collapsed": false,
     "input": [
      "\n",
      "#Variable declaration:\n",
      "#From example 16.22:\n",
      "t2 = 75.0                       #Temperature of water leaving the shell (\u00b0F)\n",
      "t1 = 35.0                       #Temperature of water entering the shell (\u00b0F)\n",
      "T2 = 75.0                       #Temperature of oil leaving the tube (\u00b0F)\n",
      "T1 = 110.0                      #Temperature of oil entering the tube (\u00b0F)\n",
      "U = 320.0                       #Overall heat transfer coefficient (W/m^2.K)\n",
      "A = 19.5                        #Required heat transfer area (m^2)\n",
      "Cmin = 4736.0                   #Minimum capacitance rate (W/K)\n",
      "\n",
      "#Calculation:\n",
      "DT1 = t2-t1                     #Actual water temperature change (\u00b0F)\n",
      "DT2 = T1 - t1                   #Maximum water temperature change (\u00b0F)\n",
      "E = DT1/DT2                     #Effectiveness\n",
      "NTU = (U*A)/Cmin                #Number of transfer units\n",
      "\n",
      "#Result:\n",
      "print \"The effectiveness is :\",round(E,3),\".\"\n",
      "print \"The NTU is :\",round(NTU,3),\".\""
     ],
     "language": "python",
     "metadata": {},
     "outputs": [
      {
       "output_type": "stream",
       "stream": "stdout",
       "text": [
        "The effectiveness is : 0.533 .\n",
        "The NTU is : 1.318 .\n"
       ]
      }
     ],
     "prompt_number": 22
    }
   ],
   "metadata": {}
  }
 ]
}