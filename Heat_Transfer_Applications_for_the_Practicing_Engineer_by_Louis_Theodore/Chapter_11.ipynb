{
 "metadata": {
  "name": "",
  "signature": "sha256:063e55263471b05545d8cee123782ea0408a4dbcfbef0baacac009fc80ca4fe1"
 },
 "nbformat": 3,
 "nbformat_minor": 0,
 "worksheets": [
  {
   "cells": [
    {
     "cell_type": "heading",
     "level": 1,
     "metadata": {},
     "source": [
      "Chapter 11: Radiation"
     ]
    },
    {
     "cell_type": "heading",
     "level": 3,
     "metadata": {},
     "source": [
      "ILLUSTRATIVE EXAMPLE 11.3, Page number: 181"
     ]
    },
    {
     "cell_type": "code",
     "collapsed": false,
     "input": [
      "\n",
      "\n",
      "from sympy import symbols, integrate,oo,exp,pi\n",
      "\n",
      "#Variable declaration:\n",
      "l = symbols('l')                        #Wavelength (mu.m)\n",
      "I = 40*exp(-l**2)                       #Intensity of radiation (Btu/h.ft^2.mu.m)\n",
      "\n",
      "#Calculation:\n",
      "E = integrate(I, (l,0,oo)).evalf()      #Total emissive power (Btu/h.ft^2)\n",
      "\n",
      "#Result:\n",
      "print \"The total emissive power is :\",round(E,1),\" Btu/h.ft^2 .\" "
     ],
     "language": "python",
     "metadata": {},
     "outputs": [
      {
       "output_type": "stream",
       "stream": "stdout",
       "text": [
        "The total emissive power is : 35.4  Btu/h.ft^2 .\n"
       ]
      }
     ],
     "prompt_number": 3
    },
    {
     "cell_type": "heading",
     "level": 3,
     "metadata": {},
     "source": [
      "ILLUSTRATIVE EXAMPLE 11.4, Page number: 182"
     ]
    },
    {
     "cell_type": "code",
     "collapsed": false,
     "input": [
      "\n",
      "\n",
      "#Variable declaration:\n",
      "l = 0.25                            #Wavelength (mu.m)\n",
      "#From equation 11.4:\n",
      "lT = 2884                           #Product of wavelength and absolute temperature (mu.m.\u00b0R)\n",
      "\n",
      "#Calculation:\n",
      "T = lT/l                            #Sun's temperature (\u00b0R)\n",
      "\n",
      "#Result:\n",
      "print \"The Sun's temperature is :\",round(T,-2),\" \u00b0R .\"\n",
      "print \"The Sun's temperature in fahrenheit scale is :\",round(T-460,-3),\" \u00b0F .\""
     ],
     "language": "python",
     "metadata": {},
     "outputs": [
      {
       "output_type": "stream",
       "stream": "stdout",
       "text": [
        "The Sun's temperature is : 11500.0  \u00b0R .\n",
        "The Sun's temperature in fahrenheit scale is : 11000.0  \u00b0F .\n"
       ]
      }
     ],
     "prompt_number": 4
    },
    {
     "cell_type": "heading",
     "level": 3,
     "metadata": {},
     "source": [
      "ILLUSTRATIVE EXAMPLE 11.5, Page number: 188"
     ]
    },
    {
     "cell_type": "code",
     "collapsed": false,
     "input": [
      "\n",
      "\n",
      "#Variable declaration:\n",
      "T1 = 1500.0+460.0                   #Absolute temperature 1 (\u00b0R)\n",
      "T2 = 1000.0+460.0                   #Absolute temperature 2 (\u00b0R)\n",
      "\n",
      "#Calculation:\n",
      "X = T1**4/T2**4                     #Ratio of quantity of heat transferred\n",
      "x = 100*(T1**4-T2**4)/T2**4         #Percentage increase in heat transfer (%)\n",
      "\n",
      "#Result:\n",
      "print \"The ratio of the quantity/rate of heat transferred is :\",round(X,2),\" .\"\n",
      "print \"The percentage increase in heat transfer is :\",round(x),\"%\""
     ],
     "language": "python",
     "metadata": {},
     "outputs": [
      {
       "output_type": "stream",
       "stream": "stdout",
       "text": [
        "The ratio of the quantity/rate of heat transferred is : 3.25  .\n",
        "The percentage increase in heat transfer is : 225.0 %\n"
       ]
      }
     ],
     "prompt_number": 5
    },
    {
     "cell_type": "heading",
     "level": 3,
     "metadata": {},
     "source": [
      "ILLUSTRATIVE EXAMPLE 11.6, Page number: 189"
     ]
    },
    {
     "cell_type": "code",
     "collapsed": false,
     "input": [
      "\n",
      "\n",
      "#Variable declaration:\n",
      "T1 = 1200.0+460.0                       #Absolute temperature of wall 1 (\u00b0R)\n",
      "T2 = 800.0+460.0                        #Absolute temperature of wall 2 (\u00b0R)\n",
      "\n",
      "#Calculation:\n",
      "#From equation 11.23:\n",
      "X = 0.173*((T1/100.0)**4-(T2/100.0)**4) #Heat removed from colder wall (Btu/h.ft^2)\n",
      "\n",
      "#Result:\n",
      "print \"The heat removed from the colder wall to maintain a steady-state is :\",round(X),\" Btu/h.ft^2 .\""
     ],
     "language": "python",
     "metadata": {},
     "outputs": [
      {
       "output_type": "stream",
       "stream": "stdout",
       "text": [
        "The heat removed from the colder wall to maintain a steady-state is : 8776.0  Btu/h.ft^2 .\n"
       ]
      }
     ],
     "prompt_number": 6
    },
    {
     "cell_type": "heading",
     "level": 3,
     "metadata": {},
     "source": [
      "ILLUSTRATIVE EXAMPLE 11.7, Page number: 190"
     ]
    },
    {
     "cell_type": "code",
     "collapsed": false,
     "input": [
      "\n",
      "\n",
      "#Variable declaration:\n",
      "s = 0.173                       #Stefan-Boltzmann constant (Btu/h.ft^2.\u00b0R)\n",
      "EH = 0.5                        #Energy transferred from hotter body (Btu/h.ft^2)\n",
      "EC = 0.75                       #Energy transferred to colder body (Btu/h.ft^2)\n",
      "TH = 1660.0                     #Absolute temperature of hotter body (\u00b0R)\n",
      "TC = 1260.0                     #Absolute temperature of colder body (\u00b0R)\n",
      "\n",
      "#Calculation:\n",
      "E = s*((TH/100.0)**4-(TC/100.0)**4)/((1.0/EH)+(1.0/EC)-1.0) #Net energy exchange per unit area (Btu/h.ft^2)\n",
      "\n",
      "#Result:\n",
      "print \"The net energy exchange per unit area is :\",round(E,-1),\" Btu/h.ft^2 .\""
     ],
     "language": "python",
     "metadata": {},
     "outputs": [
      {
       "output_type": "stream",
       "stream": "stdout",
       "text": [
        "The net energy exchange per unit area is : 3760.0  Btu/h.ft^2 .\n"
       ]
      }
     ],
     "prompt_number": 7
    },
    {
     "cell_type": "heading",
     "level": 3,
     "metadata": {},
     "source": [
      "ILLUSTRATIVE EXAMPLE 11.8, Page number: 191"
     ]
    },
    {
     "cell_type": "code",
     "collapsed": false,
     "input": [
      "\n",
      "\n",
      "#Variable declaration:\n",
      "#From example 11.6-11.7:\n",
      "E1 = 8776.0                     #Energy exchange between black bodies (Btu/h.ft^2)\n",
      "E2 = 3760.0                     #Energy exchange between non-black bodies (Btu/h.ft^2)\n",
      "\n",
      "#Calculation:\n",
      "D = (E1-E2)/E1*100              #Percent difference in energy (%)\n",
      "\n",
      "#Result:\n",
      "print \"The percent difference relative to the black body is:\",round(D,1),\" % .\""
     ],
     "language": "python",
     "metadata": {},
     "outputs": [
      {
       "output_type": "stream",
       "stream": "stdout",
       "text": [
        "The percent difference relative to the black body is: 57.2  % .\n"
       ]
      }
     ],
     "prompt_number": 1
    },
    {
     "cell_type": "heading",
     "level": 3,
     "metadata": {},
     "source": [
      "ILLUSTRATIVE EXAMPLE 11.9, Page number: 192"
     ]
    },
    {
     "cell_type": "code",
     "collapsed": false,
     "input": [
      "\n",
      "\n",
      "#Variable declaration:\n",
      "s = 0.173*10**-8                        #Stefan-Boltzmann constant (Btu/h.ft^2.\u00b0R)\n",
      "TH = 300.0+460.0                        #Absolute temperature of external surface (\u00b0R)\n",
      "TC = 75.0+460.0                         #Absolute temperature of duct (\u00b0R)\n",
      "#From Table 6.2:\n",
      "AH = 0.622                              #External surface area of pipe (ft^2)\n",
      "#From Table 11.2:\n",
      "EH = 0.44                               #Emissivity of oxidized steel\n",
      "AC = 4.0*1.0*1.0                        #External surface area of duct (ft^2)\n",
      "EC = 0.23                               #Emissivity of galvanized zinc\n",
      "\n",
      "#Calculation:\n",
      "FE = 1.0/(1.0/EH+((AH/AC)*(1.0/EC-1.0))) #Emissivity correction factor\n",
      "Q = FE*AH*s*(TH**4-TC**4)                #Net radiation heat transfer (Btu/h.ft)\n",
      "\n",
      "#Result:\n",
      "print \"The net radiation heat transfer is :\",round(Q,2),\" Btu/h.ft^2 .\"\n",
      "print \"There is a calculation error in book.\""
     ],
     "language": "python",
     "metadata": {},
     "outputs": [
      {
       "output_type": "stream",
       "stream": "stdout",
       "text": [
        "The net radiation heat transfer is : 96.96  Btu/h.ft^2 .\n",
        "There is a calculation error in book.\n"
       ]
      }
     ],
     "prompt_number": 9
    },
    {
     "cell_type": "heading",
     "level": 3,
     "metadata": {},
     "source": [
      "ILLUSTRATIVE EXAMPLE 11.10, Page number: 193"
     ]
    },
    {
     "cell_type": "code",
     "collapsed": false,
     "input": [
      "\n",
      "\n",
      "#Variable declaration:\n",
      "TH = 140.0+460.0                    #Absolute outside temperature of pipe (ft^2)\n",
      "TC = 60.0+460.0                     #Absolute temperature of surrounding atmosphere (ft^2)\n",
      "A = 10.0                            #Area of pipe (ft^2)\n",
      "E = 0.9                             #Emissivity of pipe\n",
      "\n",
      "#Calculation:\n",
      "Q = E*A*0.173*((TH/100.0)**4-(TC/100.0)**4) #Heat loss due to radiation (Btu/h)\n",
      "\n",
      "#Result:\n",
      "print \"The heat loss due to radiation is :\",round(Q,-1),\" Btu/h .\""
     ],
     "language": "python",
     "metadata": {},
     "outputs": [
      {
       "output_type": "stream",
       "stream": "stdout",
       "text": [
        "The heat loss due to radiation is : 880.0  Btu/h .\n"
       ]
      }
     ],
     "prompt_number": 10
    },
    {
     "cell_type": "heading",
     "level": 3,
     "metadata": {},
     "source": [
      "ILLUSTRATIVE EXAMPLE 11.11, Page number: 193"
     ]
    },
    {
     "cell_type": "code",
     "collapsed": false,
     "input": [
      "\n",
      "\n",
      "#Variable declaration:\n",
      "#Froma example 11.10:\n",
      "Q = 880.0                   #Heat loss due to radiation (Btu/h)\n",
      "A = 10.0                    #Area of pipe (ft^2)\n",
      "TH = 140.0                  #Absolute outside temperature of pipe (\u00b0F)\n",
      "TC = 60.0                   #Absolute temperature of surrounding atmosphere (\u00b0F)\n",
      "\n",
      "#Calculation:\n",
      "hr = Q/(A*(TH-TC))          #Radiation heat transfer coefficient (Btu/h.ft^2.\u00b0F)\n",
      "\n",
      "#Result:\n",
      "print \"The radiation heat transfer coefficient is :\",round(hr,1),\" Btu/h.ft^2.\u00b0F .\""
     ],
     "language": "python",
     "metadata": {},
     "outputs": [
      {
       "output_type": "stream",
       "stream": "stdout",
       "text": [
        "The radiation heat transfer coefficient is : 1.1  Btu/h.ft^2.\u00b0F .\n"
       ]
      }
     ],
     "prompt_number": 11
    },
    {
     "cell_type": "heading",
     "level": 3,
     "metadata": {},
     "source": [
      "ILLUSTRATIVE EXAMPLE 11.12, Page number: 194"
     ]
    },
    {
     "cell_type": "code",
     "collapsed": false,
     "input": [
      "\n",
      "\n",
      "from math import pi\n",
      "\n",
      "#Variable declaration:\n",
      "D = 0.0833                          #Diameter of tube (ft)\n",
      "L = 2.0                             #Length of tube (ft)\n",
      "h = 2.8                             #Heat transfer coefficient (Btu/h.ft^2.\u00b0F)\n",
      "Ta1 = 1500.0+460.0                  #Temperature of hot air in furnace (\u00b0R)\n",
      "Ta2 = 1350.0+460.0                  #Temperature of hot air in the furnace brick walls (\u00b0R)\n",
      "Tt = 600.0+460.0                    #Surface temperature of tube (\u00b0R)\n",
      "E = 0.6                             #Surface emissivity of tube\n",
      "s = 0.1713*10**-8                   #Stefan-Boltzmann constant\n",
      "\n",
      "\n",
      "#Calculation:\n",
      "#Case 1:\n",
      "A = pi*D*L                          #Area of tube (ft^2)\n",
      "Qc = round(h*A*(Ta1-Tt),-1)         #Convection heat transfer from air to tube (Btu/h)\n",
      "Qr = round(E*s*A*(Ta2**4-Tt**4),-2) #Radiation feat transfer from wall to tube (Btu/h)\n",
      "Q = Qr+Qc                           #Total heat transfer (Btu/h)\n",
      "#Case 2:\n",
      "Qp = Qr/Q*100                       #Radiation percent \n",
      "#Case 3:\n",
      "hr = Qr/(A*(Ta2-Tt))                #Radiation heat transfer coefficient (Btu/h.ft^2.\u00b0F)\n",
      "#Case 4:\n",
      "T = Ta2-Tt                          #Temperature difference (\u00b0F)\n",
      "\n",
      "#Result:\n",
      "print \"1. The convective heat transferred to the metal tube is :\",Qc,\" Btu/h .\"\n",
      "print \"   The radiative heat transferred to the metal tube is :\",Qr,\" Btu/h .\"\n",
      "print \"   The total heat transferred to the metal tube is :\",Q,\" Btu/h .\"\n",
      "print \"2. The percent of total heat transferred by radiation is :\",round(Qp,1),\" % .\"\n",
      "print \"3. The radiation heat transfer coefficient is :\",round(hr,1),\" Btu/h.ft^2.\u00b0F .\"\n",
      "if (T > 200):\n",
      "    print \"4. The use of the approximation Equation (11.30), hr = 4EsTav^3, is not appropriate.\"\n",
      "elif (T < 200):\n",
      "    print \"4. The use of the approximation Equation (11.30), hr = 4EsTav^3, is appropriate.\""
     ],
     "language": "python",
     "metadata": {},
     "outputs": [
      {
       "output_type": "stream",
       "stream": "stdout",
       "text": [
        "1. The convective heat transferred to the metal tube is : 1320.0  Btu/h .\n",
        "   The radiative heat transferred to the metal tube is : 5100.0  Btu/h .\n",
        "   The total heat transferred to the metal tube is : 6420.0  Btu/h .\n",
        "2. The percent of total heat transferred by radiation is : 79.4  % .\n",
        "3. The radiation heat transfer coefficient is : 13.0  Btu/h.ft^2.\u00b0F .\n",
        "4. The use of the approximation Equation (11.30), hr = 4EsTav^3, is not appropriate.\n"
       ]
      }
     ],
     "prompt_number": 14
    },
    {
     "cell_type": "heading",
     "level": 3,
     "metadata": {},
     "source": [
      "ILLUSTRATIVE EXAMPLE 11.13, Page number: 194"
     ]
    },
    {
     "cell_type": "code",
     "collapsed": false,
     "input": [
      "\n",
      "\n",
      "#Variable declaration:\n",
      "Q = 5.0                         #Radiation heat transfer (W)\n",
      "E = 1.0                         #Emissivity of filament\n",
      "s = 5.669*10**-8                #Stefan-Boltzmann constant\n",
      "T1 = 900.0+273.0                #Light bulb temperature (K)\n",
      "T2 = 150.0+273.0                #Glass bulb temperature (K)\n",
      "\n",
      "#Calculation:\n",
      "A = Q/(E*s*(T1**4-T2**4))       #Surface area of the filament (m^2)\n",
      "\n",
      "#Result:\n",
      "print \"The surface area of the filament is :\",round(A*10**4,2), \"cm^2\""
     ],
     "language": "python",
     "metadata": {},
     "outputs": [
      {
       "output_type": "stream",
       "stream": "stdout",
       "text": [
        "The surface area of the filament is : 0.47 cm^2\n"
       ]
      }
     ],
     "prompt_number": 13
    },
    {
     "cell_type": "heading",
     "level": 3,
     "metadata": {},
     "source": [
      "ILLUSTRATIVE EXAMPLE 11.14, Page number: 195"
     ]
    },
    {
     "cell_type": "code",
     "collapsed": false,
     "input": [
      "\n",
      "\n",
      "\n",
      "from math import pi\n",
      "\n",
      "#Variable declaration:\n",
      "T1 = 127.0+273.0                    #Surface temperature (K)\n",
      "T2 = 20.0+273.0                     #Wall temperature (K)\n",
      "T3 = 22.0+273.0                     #Air temperature (K)\n",
      "s = 5.669*10**-8                    #Stefan-Boltzmann constant\n",
      "e = 0.76                            #Surface emissivity of anodized aluminium\n",
      "D = 0.06                            #Diameter of pipe (m)\n",
      "L = 100.0                           #Length of pipe (m)\n",
      "h = 15.0                            #Pipe convective heat transfer coefficient (W/m^2.K)\n",
      "\n",
      "#Calculation:\n",
      "Eb = s*T1**4                        #Emissive energy of pipe (W/m^2)\n",
      "E = e*Eb                            #Emissive power from surface of pipe (W/m^2)\n",
      "A = pi*D*L                          #Surface area of pipe (m^2)\n",
      "Qc = h*A*(T1-T3)                    #Convection heat transfer to air (W)\n",
      "Qr = e*s*A*(T1**4-T2**4)            #Radiation heat transfer rate (W)\n",
      "Q = Qc+Qr                           #Total heat transfer rate (Btu/h)\n",
      "Tav = (T1+T2)/2.0                   #Average temperature (K)\n",
      "hr = 4*e*s*Tav**3                   #Radiation heat transfer coefficient (W/m^2.K)\n",
      "\n",
      "#Result:\n",
      "print \"The emissive power from surface of pipe is :\",round(E),\" W/m^2 .\"\n",
      "print \"The convection heat transfer to air is :\",round(Qc/10**3,1),\" kW .\"\n",
      "print \"The radiation heat transfer rate is :\",round(Qr/10**3,1),\" kW \"\n",
      "print \"The radiation heat transfer coefficient is :\",round(hr,1),\" W/m^2.K .\""
     ],
     "language": "python",
     "metadata": {},
     "outputs": [
      {
       "output_type": "stream",
       "stream": "stdout",
       "text": [
        "The emissive power from surface of pipe is : 1103.0  W/m^2 .\n",
        "The convection heat transfer to air is : 29.7  kW .\n",
        "The radiation heat transfer rate is : 14.8  kW \n",
        "The radiation heat transfer coefficient is : 7.2  W/m^2.K .\n"
       ]
      }
     ],
     "prompt_number": 15
    },
    {
     "cell_type": "heading",
     "level": 3,
     "metadata": {},
     "source": [
      "ILLUSTRATIVE EXAMPLE 11.15, Page number: 196"
     ]
    },
    {
     "cell_type": "code",
     "collapsed": false,
     "input": [
      "\n",
      "\n",
      "#Variable declaration:\n",
      "#From example 11.14:\n",
      "Qc = 15.0                       #Convection heat transfer coefficient (W/m^2.K)\n",
      "hr = 7.2                        #Radiation heat transfer coefficient (W/m^2.K)\n",
      "\n",
      "#Calculation:\n",
      "X = hr/(Qc+hr)*100.0            #Percent heat transfer by radiation (%)\n",
      "\n",
      "#Result:\n",
      "print \"The percent heat transfer by radiation is :\",round(X,1),\" % .\""
     ],
     "language": "python",
     "metadata": {},
     "outputs": [
      {
       "output_type": "stream",
       "stream": "stdout",
       "text": [
        "The percent heat transfer by radiation is : 32.4  % .\n"
       ]
      }
     ],
     "prompt_number": 16
    },
    {
     "cell_type": "heading",
     "level": 3,
     "metadata": {},
     "source": [
      "ILLUSTRATIVE EXAMPLE 11.16, Page number: 200"
     ]
    },
    {
     "cell_type": "code",
     "collapsed": false,
     "input": [
      "\n",
      "\n",
      "#Variable declaration:\n",
      "FV = 1.0                            #Correction factor\n",
      "#From example 11.9:\n",
      "FE = 0.358                          #Emissivity correction factor\n",
      "TH = 300.0+460.0                    #Absolute temperature of external surface (\u00b0R)\n",
      "TC = 75.0+460.0                     #Absolute temperature of duct (\u00b0R)\n",
      "AH = 0.622                          #Area of pipe (ft^2)\n",
      "s = 0.173*10**-8                    #Stefan-Boltzmann constant\n",
      "\n",
      "#Calculation:\n",
      "Q = FV*FE*AH*s*(TH**4-TC**4)        #Heat transfer rate (Btu/h.ft)\n",
      "\n",
      "#Result:\n",
      "print \"The heat transfer rate is :\",round(Q,2),\" Btu/h.ft\"\n",
      "print \"Since, 'Q' obtained in (11.9) is 96.96 Btu/h.ft, the solution does not match with book.\""
     ],
     "language": "python",
     "metadata": {},
     "outputs": [
      {
       "output_type": "stream",
       "stream": "stdout",
       "text": [
        "The heat transfer rate is : 96.96  Btu/h.ft\n",
        "Since, 'Q' obtained in (11.9) is 96.96 Btu/h.ft, the solution does not match with book.\n"
       ]
      }
     ],
     "prompt_number": 17
    },
    {
     "cell_type": "heading",
     "level": 3,
     "metadata": {},
     "source": [
      "ILLUSTRATIVE EXAMPLE 11.17, Page number: 200"
     ]
    },
    {
     "cell_type": "code",
     "collapsed": false,
     "input": [
      "\n",
      "\n",
      "#Variable declaration:\n",
      "#From figure 11.2:\n",
      "L = 1.0                                 #Space between plates (m)\n",
      "X = 0.5                                 #Length of plate (m)\n",
      "Y = 2.0                                 #Width of plate (m)\n",
      "s = 5.669*10**-8                        #Stefan-Boltzmann constant\n",
      "TH = 2000.0+273.0                       #Temperature of hotter plate (K)\n",
      "TC = 1000.0+273.0                       #Temperature of colder plate (K)\n",
      "Btu = 0.2934*10**-3                     #Btu/h in a KW\n",
      "\n",
      "#Calculation:\n",
      "A = X*Y                                 #Area of plate (m^2)\n",
      "Z1 = Y/L                                #Ratio of width with space\n",
      "Z2 = X/L                                #Ratio of length with space\n",
      "#From figure 11.2:\n",
      "FV = 0.18                               #Correction factor\n",
      "FE = 1.0                                #Emissivity correction factor\n",
      "Q1 = FV*FE*s*A*(TH**4-TC**4)            #Net radiant heat exchange between plates (kW)\n",
      "Q2 = Q1/Btu                             #Net radiant heat exchange between plates in Btu/h (Btu/h)\n",
      "\n",
      "#Result:\n",
      "print \"The net radiant heat exchange between plates is :\",round(Q1,-2),\" kW .\"\n",
      "print \"The net radiant heat exchange between plates in Btu/h is :\",round(Q2/10**8,2),\" x 10^8 Btu/h .\""
     ],
     "language": "python",
     "metadata": {},
     "outputs": [
      {
       "output_type": "stream",
       "stream": "stdout",
       "text": [
        "The net radiant heat exchange between plates is : 245600.0  kW .\n",
        "The net radiant heat exchange between plates in Btu/h is : 8.37  x 10^8 Btu/h .\n"
       ]
      }
     ],
     "prompt_number": 18
    }
   ],
   "metadata": {}
  }
 ]
}