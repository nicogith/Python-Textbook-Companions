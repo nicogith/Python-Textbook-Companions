{
 "metadata": {
  "name": "",
  "signature": "sha256:14824d48a431915b3dac3068270b7ce0d86b9e98bf4622dc413ebf717903e290"
 },
 "nbformat": 3,
 "nbformat_minor": 0,
 "worksheets": [
  {
   "cells": [
    {
     "cell_type": "heading",
     "level": 1,
     "metadata": {},
     "source": [
      "Chapter 28: Open-Ended Problems"
     ]
    },
    {
     "cell_type": "heading",
     "level": 3,
     "metadata": {},
     "source": [
      "ILLUSTRATIVE EXAMPLE 28.11, Page number: 600"
     ]
    },
    {
     "cell_type": "code",
     "collapsed": false,
     "input": [
      "\n",
      "\n",
      "hm1 = 50000                      #Mass flowrate (lb/h)\n",
      "hcP1 = 0.65                      #Heat capacity (Btu/lb.\u00b0F)\n",
      "hTi1 = 70                        #Inlet temperature (\u00b0F)\n",
      "hTo1 = 300                       #Outlet temperature (\u00b0F)\n",
      "#For stream 2 to be heated:\n",
      "hm2 = 60000                      #Mass flowrate (lb/h)\n",
      "hcP2 = 0.58                      #Heat capacity (Btu/lb.\u00b0F)\n",
      "hTi2 = 120                       #Inlet temperature (\u00b0F)\n",
      "hTo2 = 310                       #Outlet temperature (\u00b0F)\n",
      "#For stream 3 to be heated:\n",
      "hm3 = 80000                      #Mass flowrate (lb/h)\n",
      "hcP3 = 0.78                      #Heat capacity (Btu/lb.\u00b0F)\n",
      "hTi3 = 90                        #Inlet temperature (\u00b0F)\n",
      "hTo3 = 250                       #Outlet temperature (\u00b0F)\n",
      "#From table 28.4:\n",
      "#For stream 1 to be cooled:\n",
      "cm1 = 60000                      #Mass flowrate (lb/h)\n",
      "ccP1 = 0.70                      #Heat capacity (Btu/lb.\u00b0F)\n",
      "cTi1 = 420                       #Inlet temperature (\u00b0F)\n",
      "cTo1 = 120                       #Outlet temperature (\u00b0F)\n",
      "#For stream 2 to be cooled:\n",
      "cm2 = 40000                      #Mass flowrate (lb/h)\n",
      "ccP2 = 0.52                      #Heat capacity (Btu/lb.\u00b0F)\n",
      "cTi2 = 300                       #Inlet temperature (\u00b0F)\n",
      "cTo2 = 100                       #Outlet temperature (\u00b0F)\n",
      "#For stream 3 to be cooled:\n",
      "cm3 = 35000                      #Mass flowrate (lb/h)\n",
      "ccP3 = 0.60                      #Heat capacity (Btu/lb.\u00b0F)\n",
      "cTi3 = 240                       #Inlet temperature (\u00b0F)\n",
      "cTo3 = 90                        #Outlet temperature (\u00b0F)\n",
      "\n",
      "#Calculation:\n",
      "H1 = hm1*hcP1*(hTo1-hTi1)        #Heating duty for stream 1 (Btu/h)\n",
      "H2 = hm2*hcP2*(hTo2-hTi2)        #Heating duty for stream 2 (Btu/h)\n",
      "H3 = hm3*hcP3*(hTo3-hTi3)        #Heating duty for stream 1 (Btu/h)\n",
      "H = H1+H2+H3                     #Total heating duty (Btu/h)\n",
      "C1 = cm1*ccP1*(cTi1-cTo1)        #Cooling duty for stream 1 (Btu/h)\n",
      "C2 = cm2*ccP2*(cTi2-cTo2)        #Cooling duty for stream 2 (Btu/h)\n",
      "C3 = cm3*ccP3*(cTi3-cTo3)        #Cooling duty for stream 1 (Btu/h)\n",
      "C = C1+C2+C3                     #Total Cooling duty (Btu/h)\n",
      "\n",
      "#Result:\n",
      "print \"Table: Duty Requirements.\"\n",
      "print \"Stream                   Duty, Btu/h\"\n",
      "print \"1                       \",round(H1)\n",
      "print \"2                       \",round(H2)\n",
      "print \"3                       \",round(H3)\n",
      "print \"4                       \",round(C1)\n",
      "print \"5                       \",round(C2)\n",
      "print \"6                       \",round(C3)"
     ],
     "language": "python",
     "metadata": {},
     "outputs": [
      {
       "output_type": "stream",
       "stream": "stdout",
       "text": [
        "Table: Duty Requirements.\n",
        "Stream                   Duty, Btu/h\n",
        "1                        7475000.0\n",
        "2                        6612000.0\n",
        "3                        9984000.0\n",
        "4                        12600000.0\n",
        "5                        4160000.0\n",
        "6                        3150000.0\n"
       ]
      }
     ],
     "prompt_number": 11
    }
   ],
   "metadata": {}
  }
 ]
}