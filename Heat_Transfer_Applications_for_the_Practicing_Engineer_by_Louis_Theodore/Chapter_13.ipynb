{
 "metadata": {
  "name": "",
  "signature": "sha256:c1f753b566ef5be1a578722a730958eae554497c733345943c47490976e91069"
 },
 "nbformat": 3,
 "nbformat_minor": 0,
 "worksheets": [
  {
   "cells": [
    {
     "cell_type": "heading",
     "level": 1,
     "metadata": {},
     "source": [
      "Chapter 13: Refrigeration and Cryogenics"
     ]
    },
    {
     "cell_type": "heading",
     "level": 3,
     "metadata": {},
     "source": [
      "ILLUSTRATIVE EXAMPLE 13.1, Page number: 237"
     ]
    },
    {
     "cell_type": "code",
     "collapsed": false,
     "input": [
      "\n",
      "\n",
      "#Variable declaration:\n",
      "LR = 7.5/12.0                           #Thickness of refractory (ft)\n",
      "LI = 3.0/12.0                           #Thickness of insulation (ft)\n",
      "LS = 0.25/12.0                          #Thickness of steel (ft)\n",
      "kR = 0.75                               #Thermal conductivity of refractory\n",
      "kI = 0.08                               #Thermal conductivity of insulation\n",
      "kS = 26.0                               #Thermal conductivity of steel\n",
      "TR = 2000.0                             #Average surface temperature of the inner face of the refractory (\u00b0F)\n",
      "TS = 220.0                              #Average surface temperature of the outer face of the steel (\u00b0F)\n",
      "\n",
      "#Calculation:\n",
      "DT = TR-TS                              #Temperature difference (\u00b0F)\n",
      "Q = DT/(LR/kR+LI/kI+LS/kS)              #Heat loss (Btu/h.ft^2)(here representing Qdot/A)\n",
      "\n",
      "#Result:\n",
      "print \"The heat loss is :\",round(Q),\" Btu/h.ft^2 .\""
     ],
     "language": "python",
     "metadata": {},
     "outputs": [
      {
       "output_type": "stream",
       "stream": "stdout",
       "text": [
        "The heat loss is : 450.0  Btu/h.ft^2 .\n"
       ]
      }
     ],
     "prompt_number": 2
    },
    {
     "cell_type": "heading",
     "level": 3,
     "metadata": {},
     "source": [
      "ILLUSTRATIVE EXAMPLE 13.2, Page number: 239"
     ]
    },
    {
     "cell_type": "code",
     "collapsed": false,
     "input": [
      "\n",
      "\n",
      "#Variable declaration:\n",
      "LR = 7.5/12.0                           #Thickness of refractory (ft)\n",
      "kR = 0.75                               #Thermal conductivity of refractory\n",
      "TR = 2000.0                             #Average surface temperature of the inner face of the refractory (\u00b0F)\n",
      "Q = 450.0                               #Heat loss (Btu/h.ft^2)\n",
      "\n",
      "#Calculation:\n",
      "TI = TR - Q*(LR/kR)                     #Temperature of the boundary where the refractory meets the insulation (\u00b0F)\n",
      "\n",
      "#Result:\n",
      "print \"The temperature of the boundary where the refractory meets the insulation is :\",round(TI),\" \u00b0F .\""
     ],
     "language": "python",
     "metadata": {},
     "outputs": [
      {
       "output_type": "stream",
       "stream": "stdout",
       "text": [
        "The temperature of the boundary where the refractory meets the insulation is : 1625.0  \u00b0F .\n"
       ]
      }
     ],
     "prompt_number": 3
    },
    {
     "cell_type": "heading",
     "level": 3,
     "metadata": {},
     "source": [
      "ILLUSTRATIVE EXAMPLE 13.3, Page number: 239"
     ]
    },
    {
     "cell_type": "code",
     "collapsed": false,
     "input": [
      "\n",
      "\n",
      "#Variable declaration:\n",
      "QbyA = 70000.0                    #Total heat loss (Btu/h)\n",
      "Q = 450.0                       #Heat loss (Btu/h.ft^2)\n",
      "\n",
      "#Calculation:\n",
      "A = QbyA/Q                        #Area available for heat transfer (ft^2)\n",
      "\n",
      "#Result:\n",
      "print \"The area available for heat transfer is :\",round(A,1),\" ft^2 .\""
     ],
     "language": "python",
     "metadata": {},
     "outputs": [
      {
       "output_type": "stream",
       "stream": "stdout",
       "text": [
        "The area available for heat transfer is : 155.6  ft^2 .\n"
       ]
      }
     ],
     "prompt_number": 4
    },
    {
     "cell_type": "heading",
     "level": 3,
     "metadata": {},
     "source": [
      "ILLUSTRATIVE EXAMPLE 13.9, Page number: 245"
     ]
    },
    {
     "cell_type": "code",
     "collapsed": false,
     "input": [
      "\n",
      "\n",
      "#Variable declaration:\n",
      "h_out = 390.0                   #Enthalpy of the fluid that exits from the evaporator (kJ/kg)\n",
      "h_in = 230.0                    #Enthalpy of the fluid that enters the unit (kJ/kg)\n",
      "\n",
      "#Calculation:\n",
      "QC = h_out - h_in               #Heat absorbed by the evaporator (kJ/kg)\n",
      "\n",
      "#Result:\n",
      "print \"The heat absorbed by the evaporator is :\",round(QC),\" kJ/kg .\""
     ],
     "language": "python",
     "metadata": {},
     "outputs": [
      {
       "output_type": "stream",
       "stream": "stdout",
       "text": [
        "The heat absorbed by the evaporator is : 160.0  kJ/kg .\n"
       ]
      }
     ],
     "prompt_number": 10
    },
    {
     "cell_type": "heading",
     "level": 3,
     "metadata": {},
     "source": [
      "ILLUSTRATIVE EXAMPLE 13.10, Page number: 246"
     ]
    },
    {
     "cell_type": "code",
     "collapsed": false,
     "input": [
      "\n",
      "\n",
      "#Variable declaration:\n",
      "#From example 13.9:\n",
      "TS = -10.0+273.0                    #Fluid\u2019s saturation temperature expressed in Kelvin (K)\n",
      "QC = 160.0                          #Heat absorbed by the evaporator (kJ/kg)\n",
      "\n",
      "#Calcuation:\n",
      "DS = QC/TS                          #Fluid\u2019s change in entropy(kJ/kg.K)\n",
      "\n",
      "#Result:\n",
      "print \"The fluid's change in entropy across the evaporator is :\",round(DS,2),\" kJ/kg.K .\""
     ],
     "language": "python",
     "metadata": {},
     "outputs": [
      {
       "output_type": "stream",
       "stream": "stdout",
       "text": [
        "The fluid's change in entropy across the evaporator is : 0.61  kJ/kg.K .\n"
       ]
      }
     ],
     "prompt_number": 11
    },
    {
     "cell_type": "heading",
     "level": 3,
     "metadata": {},
     "source": [
      "ILLUSTRATIVE EXAMPLE 13.11, Page number: 247"
     ]
    },
    {
     "cell_type": "code",
     "collapsed": false,
     "input": [
      "\n",
      "\n",
      "#Variable declaration:\n",
      "#From figure 13.2:\n",
      "h1 = 390.0                      #Fluid enthalpy on entering the compressor (kJ/kg)\n",
      "h2 = 430.0                      #Fluid enthalpy on leaving the compressor (kJ/kg)\n",
      "h3 = 230.0                      #Fluid enthalpy on leaving the condenser (kJ/kg)\n",
      "\n",
      "#Calculation:\n",
      "QH = h2 - h3                    #Heat rejected from the condenser (kJ/kg)\n",
      "W_in = h2 - h1                  #Change in enthalpy across the compressor (kJ/kg)\n",
      "QC = QH - W_in                  #Heat absorbed by the evaporator (kJ/kg)\n",
      "\n",
      "#Result:\n",
      "print \"The heat absorbed by the evaporator of the refrigerator is :\",round(QC),\" kJ/kg .\""
     ],
     "language": "python",
     "metadata": {},
     "outputs": [
      {
       "output_type": "stream",
       "stream": "stdout",
       "text": [
        "The heat absorbed by the evaporator of the refrigerator is : 160.0  kJ/kg .\n"
       ]
      }
     ],
     "prompt_number": 12
    },
    {
     "cell_type": "heading",
     "level": 3,
     "metadata": {},
     "source": [
      "ILLUSTRATIVE EXAMPLE 13.12, Page number: 248"
     ]
    },
    {
     "cell_type": "code",
     "collapsed": false,
     "input": [
      "\n",
      "\n",
      "#Variable declaration:\n",
      "#From example 13.11:\n",
      "W_in = 40.0                  #Change in enthalpy across the compressor (kJ/kg)\n",
      "QC = 160.0                   #Heat absorbed by the evaporator (kJ/kg)\n",
      "\n",
      "#Calculation:\n",
      "COP = QC/W_in               #Refrigerator\u2019s C.O.P.\n",
      "\n",
      "#Result:\n",
      "print \"the refrigerator's C.O.P. is :\",round(COP),\" .\""
     ],
     "language": "python",
     "metadata": {},
     "outputs": [
      {
       "output_type": "stream",
       "stream": "stdout",
       "text": [
        "the refrigerator's C.O.P. is : 4.0  .\n"
       ]
      }
     ],
     "prompt_number": 13
    },
    {
     "cell_type": "heading",
     "level": 3,
     "metadata": {},
     "source": [
      "ILLUSTRATIVE EXAMPLE 13.13, Page number: 250"
     ]
    },
    {
     "cell_type": "code",
     "collapsed": false,
     "input": [
      "\n",
      "#Variable declaration:\n",
      "h1 = 548.0                          #Steam enthalpy at the entry and exit to the boiler (kJ/kg)\n",
      "h2 = 3989.0                         #Steam enthalpy at the entry and exit to the turbine (kJ/kg)\n",
      "h3 = 2491.0                         #Steam enthalpy at the entry and exit to the pump (kJ/kg)\n",
      "QH = 2043.0                         #Heat rejected by the condenser (kJ/kg)\n",
      "\n",
      "#Calculation:\n",
      "h4 = h3 - QH                        #Steam enthalpy at the entry and exit to the condenser (kJ/kg)\n",
      "Qb = h2 - h1                        #Enthalpy change across the boiler (kJ/kg)\n",
      "\n",
      "#Result:\n",
      "print \"The enthalpy change across the boiler is :\",round(Qb),\" kJ/kg .\""
     ],
     "language": "python",
     "metadata": {},
     "outputs": [
      {
       "output_type": "stream",
       "stream": "stdout",
       "text": [
        "The enthalpy change across the boiler is : 3441.0  kJ/kg .\n"
       ]
      }
     ],
     "prompt_number": 14
    },
    {
     "cell_type": "heading",
     "level": 3,
     "metadata": {},
     "source": [
      "ILLUSTRATIVE EXAMPLE 13.14, Page number: 251"
     ]
    },
    {
     "cell_type": "code",
     "collapsed": false,
     "input": [
      "\n",
      "#Variable declaration:\n",
      "#From example 13.4:\n",
      "h1 = 548.0                          #Steam enthalpy at the entry and exit to the boiler (kJ/kg)\n",
      "h2 = 3989.0                         #Steam enthalpy at the entry and exit to the turbine (kJ/kg)\n",
      "h3 = 2491.0                         #Steam enthalpy at the entry and exit to the pump (kJ/kg)\n",
      "h4 = 448.0                          #Steam enthalpy at the entry and exit to the condenser (kJ/kg)\n",
      "Qb = 3441.0                         #Enthalpy change across the boiler (kJ/kg)\n",
      "\n",
      "#Calculation:\n",
      "Wt = h2 - h3                        #Work produced by the turbine (kJ/kg)\n",
      "Wp = h1 - h4                        #Work used by the pump (kJ/kg)\n",
      "W_net = Wt - Wp                     #Net work by subtracting the pump work from the turbine work (kJ/kg)\n",
      "n_th = W_net/Qb                     #Thermal efficiency\n",
      "\n",
      "#Result:\n",
      "print \"The thermal efficiency is :\",round(n_th*100,1),\" % .\""
     ],
     "language": "python",
     "metadata": {},
     "outputs": [
      {
       "output_type": "stream",
       "stream": "stdout",
       "text": [
        "The thermal efficiency is : 40.6  % .\n"
       ]
      }
     ],
     "prompt_number": 15
    },
    {
     "cell_type": "heading",
     "level": 3,
     "metadata": {},
     "source": [
      "ILLUSTRATIVE EXAMPLE 13.15, Page number: 252"
     ]
    },
    {
     "cell_type": "code",
     "collapsed": false,
     "input": [
      "\n",
      "\n",
      "#Variable declaration:\n",
      "#From table 13.4:\n",
      "x3 = 0.9575                         #Mass fraction vapour at point 3\n",
      "h3 = 2491.0                         #Steam enthalpy at the entry and exit to the pump (kJ/kg)\n",
      "s3 = 7.7630                         #Entropy at the entry and exit to the pump (kJ/kg.K)\n",
      "s4 = 1.4410                         #Entropy at the entry and exit to the condenser (kJ/kg.K)\n",
      "#From example13.14:\n",
      "h4 = 448.0                          #Steam enthalpy at the entry and exit to the condenser (kJ/kg)\n",
      "\n",
      "#Calculation:\n",
      "Q_out = h3 - h4                     #Heat rejected (kJ/kg)\n",
      "DS = s3 - s4                        #Process change in entropy (kJ/kg)\n",
      "T3 = Q_out/DS                       #Temperature at point 3 (K)\n",
      "\n",
      "#Result:\n",
      "print \"The temperature at point 3 is :\",round(T3),\" K .\"\n",
      "print \"Or, the temperature at point 3 is :\",round(T3-273),\" \u00b0C .\""
     ],
     "language": "python",
     "metadata": {},
     "outputs": [
      {
       "output_type": "stream",
       "stream": "stdout",
       "text": [
        "The temperature at point 3 is : 323.0  K .\n",
        "Or, the temperature at point 3 is : 50.0  \u00b0C .\n"
       ]
      }
     ],
     "prompt_number": 16
    }
   ],
   "metadata": {}
  }
 ]
}