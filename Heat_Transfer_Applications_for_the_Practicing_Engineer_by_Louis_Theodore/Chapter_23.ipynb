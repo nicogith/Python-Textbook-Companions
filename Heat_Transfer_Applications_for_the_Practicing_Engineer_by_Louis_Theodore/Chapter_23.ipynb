{
 "metadata": {
  "name": "",
  "signature": "sha256:ea99fc2be6052cbd9b5accb00ac50cd0a25a5282b964ce8d492c2c528e36d584"
 },
 "nbformat": 3,
 "nbformat_minor": 0,
 "worksheets": [
  {
   "cells": [
    {
     "cell_type": "heading",
     "level": 1,
     "metadata": {},
     "source": [
      "Chapter 23: Environmental Management"
     ]
    },
    {
     "cell_type": "heading",
     "level": 3,
     "metadata": {},
     "source": [
      "ILLUSTRATIVE EXAMPLE 23.6, Page number: 498"
     ]
    },
    {
     "cell_type": "code",
     "collapsed": false,
     "input": [
      "\n",
      "from __future__ import division\n",
      "\n",
      "#Variable declaration:\n",
      "Q = 20000                   #Fuel input (Btu)\n",
      "e = 1                       #Energy produced (kW.h)\n",
      "Btu = 3412                  #Units Btu in 1 kW.h\n",
      "\n",
      "#Calulation:\n",
      "ER = Q/Btu                  #Energy requirement in 1990 (kW.h)\n",
      "E = e/ER*100                #Efficiency of energy conversion (%)\n",
      "\n",
      "#Result:\n",
      "print \"The efficiency of energy conversion is :\",round(E,1),\" % .\""
     ],
     "language": "python",
     "metadata": {},
     "outputs": [
      {
       "output_type": "stream",
       "stream": "stdout",
       "text": [
        "The efficiency of energy conversion is : 17.1  % .\n"
       ]
      }
     ],
     "prompt_number": 6
    },
    {
     "cell_type": "heading",
     "level": 3,
     "metadata": {},
     "source": [
      "ILLUSTRATIVE EXAMPLE 23.7, Page number: 499"
     ]
    },
    {
     "cell_type": "code",
     "collapsed": false,
     "input": [
      "\n",
      "\n",
      "from __future__ import division\n",
      "\n",
      "#Variable declaration:\n",
      "ADL1 = 2                        #Average daily load (MW)\n",
      "R = 25/100                      #Reduction in electrical load (%)\n",
      "\n",
      "#Calculation:\n",
      "L = 1-R                         #New load fraction\n",
      "ADL2 = ADL1*L                   #New average daily load (MW)\n",
      "AR = ADL1-ADL2                  #Average reduction in electrical load (MW)\n",
      "\n",
      "#Result:\n",
      "print \"The new Average daily load for the plant is :\",ADL2,\" MW.\"\n",
      "print \"The average reduction in electrical load is :\",AR,\" MW.\""
     ],
     "language": "python",
     "metadata": {},
     "outputs": [
      {
       "output_type": "stream",
       "stream": "stdout",
       "text": [
        "The new Average daily load for the plant is : 1.5  MW.\n",
        "The average reduction in electrical load is : 0.5  MW.\n"
       ]
      }
     ],
     "prompt_number": 7
    }
   ],
   "metadata": {}
  }
 ]
}