{
 "metadata": {
  "name": "",
  "signature": "sha256:057d6eaa086db820c820c1a5a80f0143b18739ecbe1b8c285287723cf460e4b6"
 },
 "nbformat": 3,
 "nbformat_minor": 0,
 "worksheets": [
  {
   "cells": [
    {
     "cell_type": "heading",
     "level": 1,
     "metadata": {},
     "source": [
      "Chapter 7: Steady-State Heat Conduction"
     ]
    },
    {
     "cell_type": "heading",
     "level": 3,
     "metadata": {},
     "source": [
      "ILLUSTRATIVE EXAMPLE 7.1, Page number: 93"
     ]
    },
    {
     "cell_type": "code",
     "collapsed": false,
     "input": [
      "\n",
      "\n",
      "#Variable declaration:\n",
      "Q = 3000.0              #The rate of heat flow through the glass window (W)\n",
      "L = 0.01                #Thickness of glass window (m)\n",
      "A = 3.0                 #Area of heat transfer (m^2)\n",
      "TC = 10+273             #Temperature at the outside surface (K)\n",
      "k = 1.4                 #Thermal onductivity of glass (W/m.K)\n",
      "\n",
      "#Calculation:\n",
      "TH = TC+Q*L/k/A         #Temperature at the inner surface (K)\n",
      "\n",
      "#Result:\n",
      "print \"The temperature at the inner surface is :\",round(TH,1),\" K\"\n",
      "print \"The temperature at the inner surface is :\",round(TH-273,1),\" \u00b0C\""
     ],
     "language": "python",
     "metadata": {},
     "outputs": [
      {
       "output_type": "stream",
       "stream": "stdout",
       "text": [
        "The temperature at the inner surface is : 290.1  K\n",
        "The temperature at the inner surface is : 17.1  \u00b0C\n"
       ]
      }
     ],
     "prompt_number": 1
    },
    {
     "cell_type": "heading",
     "level": 3,
     "metadata": {},
     "source": [
      "ILLUSTRATIVE EXAMPLE 7.2, Page number: 94"
     ]
    },
    {
     "cell_type": "code",
     "collapsed": false,
     "input": [
      "\n",
      "\n",
      "#Variable declaration:\n",
      "k = 0.026               #Thermal conductivity of insulating material (Btu/ft.h.\u00b0F)\n",
      "L = 1.0                 #Thickness of insulating material (ft)\n",
      "TC = 70.0               #Temperature on the cold side surface (\u00b0F)\n",
      "TH = 210.0              #Temperature on the hot side surface (\u00b0F)\n",
      "c = 0.252               #Kilocalorie per hour in a Btu per hour\n",
      "m = 0.093               #meter square in a feet square\n",
      "\n",
      "#Calculation:\n",
      "DT = TH-TC              #Change in temperature (\u00b0F)\n",
      "Q1 = k*DT/L             #Rate of heat flux throughthe wall (Btu/f^t2.h.)\n",
      "Q2 = Q1*c/m             #Rate of heat flux throughthe wall in SI units (kcal/m^2.h)\n",
      "\n",
      "#Result:\n",
      "print \"The rate of heat flux in Btu/ft^2.h is :\",round(Q1,3),\" Btu/ft^2.h .\"\n",
      "print \"The rate of heat flux in SI units is :\",round(Q2,3),\" kcal/m^2.h .\""
     ],
     "language": "python",
     "metadata": {},
     "outputs": [
      {
       "output_type": "stream",
       "stream": "stdout",
       "text": [
        "The rate of heat flux in Btu/ft^2.h is : 3.64  Btu/ft^2.h .\n",
        "The rate of heat flux in SI units is : 9.863  kcal/m^2.h .\n"
       ]
      }
     ],
     "prompt_number": 2
    },
    {
     "cell_type": "heading",
     "level": 3,
     "metadata": {},
     "source": [
      "ILLUSTRATIVE EXAMPLE 7.3, Page number: 94"
     ]
    },
    {
     "cell_type": "code",
     "collapsed": false,
     "input": [
      "\n",
      "\n",
      "#Variable declaration:\n",
      "TH = 1592.0                     #Temperature of inside surface (K)\n",
      "TC = 1364.0                     #Temperature of outside surface (K)\n",
      "H = 3.0                         #Height of furnace wall (m)\n",
      "W = 1.2                         #Width of furnace wall (m)\n",
      "L = 0.17                        #Thickness furnace wall (m)\n",
      "m = 0.0929                      #Meter square per second in a feet square per second\n",
      "Btu = 3.412                     #Btu per hour in a Watt\n",
      "Btu2 = 0.3171                   #Btu per feet square hour in a watt per meter square\n",
      "\n",
      "#Calculation:\n",
      "Tav = (TH+TC)/2                 #Average wall temperature (K)\n",
      "#From Table in Appendix:\n",
      "p = 2645.0                      #Density of material (kg/m^3)\n",
      "k = 1.8                         #Thermal conductivity (W/m.K)\n",
      "Cp = 960.0                      #Heat capacity of material (J/kg.K)\n",
      "a = k/(p*Cp)/m                  #Thermal diffusivity (ft^2/s)\n",
      "t = (TC-TH)/L                   #Temperature gradient (\u00b0C/m)\n",
      "A = H*W                         #Heat transfer area (m^2)\n",
      "Q1 = k*A*(TH-TC)/L*Btu          #Heat transfer rate (Btu/h)\n",
      "Q2 = k*(TH-TC)/L*Btu2           #Heat transfer flux (Btu/h.ft^2)\n",
      "R = L/(k*A)                     #Thermal resistance (\u00b0C/W)\n",
      "\n",
      "#Result:\n",
      "print \"The temperature gradient is :\",round(t),\" \u00b0C/m.\"\n",
      "print \"The heat transfer rate is :\",round(Q1),\" Btu/h.\"\n",
      "print \"The heat transfer flux is :\",round(Q2,1),\" Btu/h.ft^2.\""
     ],
     "language": "python",
     "metadata": {},
     "outputs": [
      {
       "output_type": "stream",
       "stream": "stdout",
       "text": [
        "The temperature gradient is : -1341.0  \u00b0C/m.\n",
        "The heat transfer rate is : 29653.0  Btu/h.\n",
        "The heat transfer flux is : 765.5  Btu/h.ft^2.\n"
       ]
      }
     ],
     "prompt_number": 3
    },
    {
     "cell_type": "heading",
     "level": 3,
     "metadata": {},
     "source": [
      "ILLUSTRATIVE EXAMPLE 7.4, Page number: 96"
     ]
    },
    {
     "cell_type": "code",
     "collapsed": false,
     "input": [
      "\n",
      "\n",
      "#Variable declaration:\n",
      "TH = 25.0                   #Temperature at inner suface of wall (\u00b0C)\n",
      "TC = -15.0                  #Temperature at outer suface of wall (\u00b0C)\n",
      "L = 0.3                     #Thickness of wall (m)\n",
      "k = 1.0                     #Thermal conductivity of concrete (W/m)\n",
      "A = 30.0                    #Sueface area of wall (m^2)\n",
      "\n",
      "#Calculation:\n",
      "DT = TH-TC                  #Driving force for heat transfer (\u00b0C) (part 2)\n",
      "R = L/(k*A)                 #Thermal resistance (\u00b0C/W) (part 3)\n",
      "Q = DT/R/10**3              #Heat loss through the wall (kW)\n",
      "\n",
      "#Result:\n",
      "print \"1. Theoretical part.\"\n",
      "print \"2. The driving force for heat transfer is :\",DT,\" \u00b0C.\"\n",
      "print \"3. The heat loss through the wall is :\",Q,\" kW.\""
     ],
     "language": "python",
     "metadata": {},
     "outputs": [
      {
       "output_type": "stream",
       "stream": "stdout",
       "text": [
        "1. Theoretical part.\n",
        "2. The driving force for heat transfer is : 40.0  \u00b0C.\n",
        "3. The heat loss through the wall is : 4.0  kW.\n"
       ]
      }
     ],
     "prompt_number": 4
    },
    {
     "cell_type": "heading",
     "level": 3,
     "metadata": {},
     "source": [
      "ILLUSTRATIVE EXAMPLE 7.5, Page number: 97"
     ]
    },
    {
     "cell_type": "code",
     "collapsed": false,
     "input": [
      "\n",
      "\n",
      "#Variable declaration:\n",
      "TC = 27.0                   #Inside temperature of walls (\u00b0C)\n",
      "TH = 68.7                   #Outside temperature of walls (\u00b0C)\n",
      "LC = 6*0.0254               #Thickness of concrete (m)\n",
      "LB = 8*0.0254               #Thickness of cork-board (m)\n",
      "LW = 1*0.0254               #Thickness of wood (m)\n",
      "kC = 0.762                  #Thermal conductivity of concrete (W/m.K)\n",
      "kB = 0.0433                 #Thermal conductivity of cork-board (W/m.K)\n",
      "kW = 0.151                  #Thermal conductivity of wood (W/m.K)\n",
      "\n",
      "#Calculation:\n",
      "RC = LC/kC                  #Thermal resistance of concrete (K/W)\n",
      "RB = LB/kB                  #Thermal resistance of cork-board (K/W)\n",
      "RW = LW/kW                  #Thermal resistance of wood (K/W)\n",
      "Q = (TC-TH)/(RC+RB+RW)      #Heat transfer rate across the wall (W)\n",
      "T = -(Q*RW-TC)              #Interface temperature between wood and cork-board (K)\n",
      "\n",
      "#Result:\n",
      "print \"The heat transfer rate across the wall is :\",round(Q,3),\" W.\"\n",
      "print \"The interface temperature between wood and cork-board is :\",round(T,1),\" \u00b0C.\"\n",
      "print \"The interface temperature between wood and cork-board is :\",round(T+273,1),\" K.\""
     ],
     "language": "python",
     "metadata": {},
     "outputs": [
      {
       "output_type": "stream",
       "stream": "stdout",
       "text": [
        "The heat transfer rate across the wall is : -8.239  W.\n",
        "The interface temperature between wood and cork-board is : 28.4  \u00b0C.\n",
        "The interface temperature between wood and cork-board is : 301.4  K.\n"
       ]
      }
     ],
     "prompt_number": 5
    },
    {
     "cell_type": "heading",
     "level": 3,
     "metadata": {},
     "source": [
      "ILLUSTRATIVE EXAMPLE 7.6, Page number: 98"
     ]
    },
    {
     "cell_type": "code",
     "collapsed": false,
     "input": [
      "\n",
      "\n",
      "from math import pi, log\n",
      "from sympy import symbols\n",
      "\n",
      "#Variable declaration:\n",
      "Z = symbols ('z')                       #Length of pipe\n",
      "D1s = 4.0                               #Glass wool inside diameter (in)\n",
      "D2s = 8.0                               #Glass wool outside diameter (in)\n",
      "D1a = 3.0                               #Asbestos inside diameter (in)\n",
      "D2a = 4.0                               #Asbestos outside diameter (in)\n",
      "TH = 500.0                              #Outer surface temperature of pipe (\u00b0F)\n",
      "TC = 100.0                              #Outer surface temperature of glass wool (\u00b0F)\n",
      "La = 0.5/12.0                           #Thickness of asbestos (ft)\n",
      "Lb = 2.0/12.0                           #Thickness of glss wool (ft)\n",
      "ka = 0.120                              #Thermal conductivity of asbestos (Btu/h.ft.\u00b0F)\n",
      "kb = 0.0317                             #Thermal conductivity of asbestos (Btu/h.ft.\u00b0F)\n",
      "\n",
      "#Calculation:\n",
      "Aa = (pi*Z*(D2a-D1a)/12.0)/log(D2a/D1a) #Area of asbestos (ft^2)\n",
      "Ab = (pi*Z*(D2s-D1s)/12.0)/log(D2s/D1s) #Area of glass wool (ft^2)\n",
      "Q1 = (TH-TC)/(La/(ka*Aa)+Lb/(kb*Ab))    #Steady-state heat transfer per foot of pipe (Btu/h.)\n",
      "Q2 = Q1/Z                               #Factorization of Q/Z (Btu/h.ft)\n",
      "\n",
      "#Result:\n",
      "print \"The steady-state heat transfer per foot of pipe, Z, is :\",round(Q1/Z,1),\" x z Btu/h.\"\n",
      "print \"The steady-state heat transfer factorizating out Z is :\",round(Q2,1),\" Btu/h.ft.\""
     ],
     "language": "python",
     "metadata": {},
     "outputs": [
      {
       "output_type": "stream",
       "stream": "stdout",
       "text": [
        "The steady-state heat transfer per foot of pipe, Z, is : 103.6  x z Btu/h.\n",
        "The steady-state heat transfer factorizating out Z is : 103.6  Btu/h.ft.\n"
       ]
      }
     ],
     "prompt_number": 6
    },
    {
     "cell_type": "heading",
     "level": 3,
     "metadata": {},
     "source": [
      "ILLUSTRATIVE EXAMPLE 7.7, Page number: 99"
     ]
    },
    {
     "cell_type": "code",
     "collapsed": false,
     "input": [
      "\n",
      "\n",
      "#Variable declaration:\n",
      "#From example 7.6:\n",
      "TH = 500                                #Outer surface temperature of pipe (\u00b0F)\n",
      "Lb = 2.0/12.0                           #Thickness of glss wool (ft)\n",
      "kb = 0.0317                             #Thermal conductivity of asbestos (Btu/h.ft.\u00b0F)\n",
      "Ab = 1.51                               #Area of glass wool (ft^2)\n",
      "Q = 103.5                               #Steady-state heat transfer per foot of pipe (Btu/h.)\n",
      "La = 0.5/12.0                           #Thickness of asbestos (ft)\n",
      "ka = 0.120                              #Thermal conductivity of asbestos (Btu/h.ft.\u00b0F)\n",
      "Aa = 0.91                               #Area of asbestos (ft^2)\n",
      "TC = 100                                #Outer surface temperature of glass wool (\u00b0F)\n",
      "\n",
      "#Calculation:\n",
      "Ti_b = -((Lb*Q)/(kb*Ab)-TH)             #Interfacial temperature of glass wool layer (\u00b0F)\n",
      "Ti_a = (Q*La)/(ka*Aa)+TC                #Interfacial temperature of asbestos layer (\u00b0F)\n",
      "\n",
      "#Result:\n",
      "print \"The interfacial temperature of glass wool layer is :\",round(Ti_b),\" \u00b0F.\"\n",
      "print \"The interfacial temperature of asbestos layer is :\",round(Ti_a,1),\" \u00b0F.\""
     ],
     "language": "python",
     "metadata": {},
     "outputs": [
      {
       "output_type": "stream",
       "stream": "stdout",
       "text": [
        "The interfacial temperature of glass wool layer is : 140.0  \u00b0F.\n",
        "The interfacial temperature of asbestos layer is : 139.5  \u00b0F.\n"
       ]
      }
     ],
     "prompt_number": 7
    },
    {
     "cell_type": "heading",
     "level": 3,
     "metadata": {},
     "source": [
      "ILLUSTRATIVE EXAMPLE 7.8, Page number: 100"
     ]
    },
    {
     "cell_type": "code",
     "collapsed": false,
     "input": [
      "\n",
      "\n",
      "from sympy import cos,symbols,diff,pi\n",
      "\n",
      "#Variable declaration:\n",
      "z,h,k = symbols('z, h, k')      #Length, height, thermal conductivity\n",
      "T = 100*cos((pi*z)/(2*h))       #Temperature of solid slab\n",
      "\n",
      "#Calculation:\n",
      "DT = diff(T,z)                  #Temperature at z\n",
      "Q = -k*(DT)                     #Heat flux in slab (Btu/s.ft^2)\n",
      "Q1 = Q.subs(z,0)                #Heat flux in slab at z = 0 (Btu/s.ft^2)\n",
      "Q2 = Q.subs(z,h)                #Heat flux in slab at z = h (Btu/s.ft^2)\n",
      "\n",
      "#Result:\n",
      "print \"The heat flux in slab is :\",Q,\" Btu/s.ft^2 .\"\n",
      "print \"The heat flux in slab at z = 0 is :\",Q1,\" Btu/s.ft^2 .\"\n",
      "print \"The heat flux in slab at z = h is :5\",Q2,\" Btu/s.ft^2 .\""
     ],
     "language": "python",
     "metadata": {},
     "outputs": [
      {
       "output_type": "stream",
       "stream": "stdout",
       "text": [
        "The heat flux in slab is : 50*pi*k*sin(pi*z/(2*h))/h  Btu/s.ft^2 .\n",
        "The heat flux in slab at z = 0 is : 0  Btu/s.ft^2 .\n",
        "The heat flux in slab at z = h is :5 50*pi*k/h  Btu/s.ft^2 .\n"
       ]
      }
     ],
     "prompt_number": 8
    }
   ],
   "metadata": {}
  }
 ]
}