{
 "metadata": {
  "name": "",
  "signature": "sha256:f803274ef7ccff0534bae20ab018bc7691f3977ae1b9f41d5ea33a08004d0ffb"
 },
 "nbformat": 3,
 "nbformat_minor": 0,
 "worksheets": [
  {
   "cells": [
    {
     "cell_type": "heading",
     "level": 1,
     "metadata": {},
     "source": [
      "Chapter 8: Unsteady-State Heat Conduction"
     ]
    },
    {
     "cell_type": "heading",
     "level": 3,
     "metadata": {},
     "source": [
      "ILLUSTRATIVE EXAMPLE 8.4, Page number: 122"
     ]
    },
    {
     "cell_type": "code",
     "collapsed": false,
     "input": [
      "\n",
      "\n",
      "from math import pi,sin,e\n",
      "\n",
      "#Variable declaration:\n",
      "k = 9.1                 #Thermal coductivity of steel rod (Btu/h.ft.\u00b0F)\n",
      "p = 0.29*1728           #Density of steel rod (lb/ft^3)\n",
      "Cp = 0.12               #Heat capacity of steel rod (Btu/lb.\u00b0F)\n",
      "P = 15+14.7             #Absolute pressure (psia)\n",
      "Ta = 71.0               #Initial temperature (\u00b0F)\n",
      "L = 20.0/12.0           #Length of rod (ft)\n",
      "t = 30.0/60.0           #Time taken (h)\n",
      "x = 0.875/12.0          #Length from one of end (ft)\n",
      "#From assumption:\n",
      "n = 1.0                 #First term\n",
      "#From tables in Appendix:\n",
      "Ts = 249.7              #Saturated steam temperature (\u00b0F)\n",
      "\n",
      "#Calculation:\n",
      "a = k/(p*Cp)            #Thermal diffusivity  (ft^2/s)\n",
      "T = Ts+(Ta-Ts)*(((n+1)*(-1)**2 + 1 )/pi)*e**((-a*((n*pi)/L)**2)*t)*sin((n*pi*x)/L) #Temperature 0.875 inches from one of the ends after 30 minutes (\u00b0F)\n",
      "\n",
      "#Result:\n",
      "print \"The temperature 0.875 inches from one of the ends after 30 minutes is :\",round(T),\" \u00b0F.\""
     ],
     "language": "python",
     "metadata": {},
     "outputs": [
      {
       "output_type": "stream",
       "stream": "stdout",
       "text": [
        "The temperature 0.875 inches from one of the ends after 30 minutes is : 232.0  \u00b0F.\n"
       ]
      }
     ],
     "prompt_number": 4
    }
   ],
   "metadata": {}
  }
 ]
}