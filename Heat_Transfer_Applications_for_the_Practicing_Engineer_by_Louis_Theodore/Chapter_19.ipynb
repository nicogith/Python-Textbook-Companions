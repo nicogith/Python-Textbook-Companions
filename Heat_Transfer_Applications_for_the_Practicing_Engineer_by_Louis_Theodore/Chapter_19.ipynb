{
 "metadata": {
  "name": "",
  "signature": "sha256:e60aa082c3bd1f8f9672b5ca74c6357f1b26803a7fb296a1d0a644ab9efb4ea1"
 },
 "nbformat": 3,
 "nbformat_minor": 0,
 "worksheets": [
  {
   "cells": [
    {
     "cell_type": "heading",
     "level": 1,
     "metadata": {},
     "source": [
      "Chapter 19: Insulation and Refractory"
     ]
    },
    {
     "cell_type": "heading",
     "level": 3,
     "metadata": {},
     "source": [
      "ILLUSTRATIVE EXAMPLE 19.1, Page number: 413"
     ]
    },
    {
     "cell_type": "code",
     "collapsed": false,
     "input": [
      "\n",
      "\n",
      "from __future__ import division\n",
      "\n",
      "#Variable declaration:\n",
      "H = 2.5                         #Height of wall (m)\n",
      "W = 4                           #Width of wall (m)\n",
      "h = 11                          #Convective heat transfer coefficient (W/m^2.K)\n",
      "T1 = 24                         #Outside surface temperature (\u00b0C)\n",
      "T3 = -15                        #Outside air temperature (\u00b0C)\n",
      "L = 7.62/10**3                  #Insulation thickness (m)\n",
      "k = 0.04                        #Thermal conductivity of wool (W/m.K)\n",
      "\n",
      "#Calculation:\n",
      "A = H*W                         #Heat transfer area (m^2)\n",
      "Q = h*A*(T1-T3)                 #Heat transfer rate (W)\n",
      "Ri = L/(k*A)                    #Insuation resistance (K/W)\n",
      "Rc = 1/(h*A)                    #Convective resitance (K/W)\n",
      "R = Ri+Rc                       #Total resistance (K/W)\n",
      "Qt = (T1-T3)/R                  #Revised heat transfer rate (Btu/h)\n",
      " \n",
      "#Result:\n",
      "print \"1. The heat transfer rate without insulation is :\",round(Q),\" W .\"\n",
      "print \"Or, the heat transfer rate without insulation is :\",round(Q*3.412),\" Btu/h .\"\n",
      "print \"2. The revised heat transfer rate with insulation is :\",round(Qt),\" W .\"\n",
      "print \"Or, the revised heat transfer rate with insulation is :\",round(Qt*3.412),\" Btu/h .\"\n",
      "print \"There is a calculation mistake in book.\""
     ],
     "language": "python",
     "metadata": {},
     "outputs": [
      {
       "output_type": "stream",
       "stream": "stdout",
       "text": [
        "1. The heat transfer rate without insulation is : 4290.0  W .\n",
        "Or, the heat transfer rate without insulation is : 14637.0  Btu/h .\n",
        "2. The revised heat transfer rate with insulation is : 1386.0  W .\n",
        "Or, the revised heat transfer rate with insulation is : 4729.0  Btu/h .\n",
        "There is a calculation mistake in book.\n"
       ]
      }
     ],
     "prompt_number": 4
    },
    {
     "cell_type": "heading",
     "level": 3,
     "metadata": {},
     "source": [
      "ILLUSTRATIVE EXAMPLE 19.2, Page number: 414"
     ]
    },
    {
     "cell_type": "code",
     "collapsed": false,
     "input": [
      "\n",
      "\n",
      "#Variable declaration:\n",
      "#From example 19.1:\n",
      "T1 = 24                         #Outside surface temperature (\u00b0C)\n",
      "Ri = 0.0191                     #Insulation resistance (K/W)\n",
      "Q = 1383                        #Revised heat transfer rate (Btu/h)\n",
      "\n",
      "#Calculation:\n",
      "T2 = T1-Q*Ri                    #Temperature at outer surface of insulation (\u00b0C)\n",
      "\n",
      "#Result:\n",
      "print \"The temperature at the outer surface of the insulation is :\",round(T2,1),\" \u00b0C .\""
     ],
     "language": "python",
     "metadata": {},
     "outputs": [
      {
       "output_type": "stream",
       "stream": "stdout",
       "text": [
        "The temperature at the outer surface of the insulation is : -2.4  \u00b0C .\n"
       ]
      }
     ],
     "prompt_number": 5
    },
    {
     "cell_type": "heading",
     "level": 3,
     "metadata": {},
     "source": [
      "ILLUSTRATIVE EXAMPLE 19.3, Page number: 415"
     ]
    },
    {
     "cell_type": "code",
     "collapsed": false,
     "input": [
      "\n",
      "\n",
      "#Variable declaration:\n",
      "#From example 19.1:\n",
      "h = 11                          #Convective heat transfer coefficient (W/m^2.K)\n",
      "L = 7.62/10**3                  #Insulation thickness (m)\n",
      "k = 0.04                        #Thermal conductivity of wool (W/m.K)\n",
      "\n",
      "#Calculation:\n",
      "Bi = h*L/k                      #Biot number\n",
      "\n",
      "#Result:\n",
      "print \"The Biot nmuber is :\",round(Bi,1),\" .\""
     ],
     "language": "python",
     "metadata": {},
     "outputs": [
      {
       "output_type": "stream",
       "stream": "stdout",
       "text": [
        "The Biot nmuber is : 2.1  .\n"
       ]
      }
     ],
     "prompt_number": 6
    },
    {
     "cell_type": "heading",
     "level": 3,
     "metadata": {},
     "source": [
      "ILLUSTRATIVE EXAMPLE 19.4, Page number: 415"
     ]
    },
    {
     "cell_type": "code",
     "collapsed": false,
     "input": [
      "\n",
      "\n",
      "from __future__ import division\n",
      "\n",
      "#Variable declaration:\n",
      "k = 0.022                       #Thermal conductivity of glass wool (Btu/h.ft.\u00b0F)\n",
      "T1 = 400                        #Inside wall temperature (\u00b0F)\n",
      "T2 = 25                         #Outside wall temperature (\u00b0C)\n",
      "L = 3/12                        #Length of insulation cover (ft)\n",
      "\n",
      "#Calculation:\n",
      "T_2 = T2*(9/5)+32               #Outside wall temperature in fahrenheit scale (\u00b0F)\n",
      "QbyA = k*(T1-T_2)/L              #Heat flux across the wall (Btu/h.ft^2)\n",
      "\n",
      "#Result:\n",
      "print \"The heat flux across the wall is :\",round(QbyA,1),\" Btu/h.ft^2 .\""
     ],
     "language": "python",
     "metadata": {},
     "outputs": [
      {
       "output_type": "stream",
       "stream": "stdout",
       "text": [
        "The heat flux across the wall is : 28.4  Btu/h.ft^2 .\n"
       ]
      }
     ],
     "prompt_number": 7
    },
    {
     "cell_type": "heading",
     "level": 3,
     "metadata": {},
     "source": [
      "ILLUSTRATIVE EXAMPLE 19.5, Page number: 415"
     ]
    },
    {
     "cell_type": "code",
     "collapsed": false,
     "input": [
      "\n",
      "\n",
      "from __future__ import division\n",
      "\n",
      "#Variable declaration:\n",
      "w = 8                           #Width of wall (m)\n",
      "H = 3                           #Height of wall (m)\n",
      "h = 21                          #Convective heat transfer coefficient between the air and the surface (W/m^2.K)\n",
      "T1 = -18                        #Outside surace of wall temperature (\u00b0C)\n",
      "T3 = 26                         #Surrounding air temperature (\u00b0C)\n",
      "l1 = 80/100                     #Reduction in cooling load\n",
      "k = 0.0433                      #Thermal conductivity of cork board insulation (W/m.K)\n",
      "T = 12000                       #Units Btu/h in 1 ton of refrigeration\n",
      "\n",
      "#Calculation:\n",
      "A = w*H                         #Heat transfer area (m^2) (part 1)\n",
      "Q1 = h*A*(T1-T3)                #Rate of heat flow in the absence of insulation (W)\n",
      "Q2 = Q1*3.4123/T                #Rate of heat flow in the absence of insulation (ton of refrigeration)\n",
      "l2 = 1-l1                       #Reduced cooling load (part 2)\n",
      "Q3 = l2*Q1                      #Heat rate with insulation (W)\n",
      "Rt = (T1-T3)/Q3                 #Total thermal resistance (\u00b0C/W)\n",
      "R2 = 1/(h*A)                    #Convection thermal resistance (\u00b0C/W)\n",
      "R1 = Rt-R2                      #Insulation conduction resistance (\u00b0C/W)\n",
      "L = R1*k*A                      #Required insulation thickness (m)\n",
      "\n",
      "#Result:\n",
      "print \"1. The rate of heat flow through the rectangular wall without insulation is :\",round(Q1/10**3,2),\" kW .\"\n",
      "print \"Or, the rate of heat flow through the rectangular wall without insulation in tons of refrigeration is :\",round(Q2,1),\" ton of refrigeration .\"\n",
      "if (Q1<0):\n",
      "    print \"   The negative sign indicates heat flow from the surrounding air into the cold room.\"\n",
      "else :\n",
      "    print \"   The positive sign indicates heat flow from the surrounding air into the cold room.\"\n",
      "print \"2. The required thickness of the insulation board is :\",round(L*10**3,2),\" mm .\""
     ],
     "language": "python",
     "metadata": {},
     "outputs": [
      {
       "output_type": "stream",
       "stream": "stdout",
       "text": [
        "1. The rate of heat flow through the rectangular wall without insulation is : -22.18  kW .\n",
        "Or, the rate of heat flow through the rectangular wall without insulation in tons of refrigeration is : -6.3  ton of refrigeration .\n",
        "   The negative sign indicates heat flow from the surrounding air into the cold room.\n",
        "2. The required thickness of the insulation board is : 8.25  mm .\n"
       ]
      }
     ],
     "prompt_number": 12
    },
    {
     "cell_type": "heading",
     "level": 3,
     "metadata": {},
     "source": [
      "ILLUSTRATIVE EXAMPLE 19.6, Page number: 417"
     ]
    },
    {
     "cell_type": "code",
     "collapsed": false,
     "input": [
      "\n",
      "\n",
      "#Variable declaration:\n",
      "#From example 19.5:\n",
      "Q = -4435.2                     #Heat rate with insulation (W)\n",
      "R2 = 0.00198                    #Convection thermal resistance (\u00b0C/W)\n",
      "T3 = 26                         #Surrounding air temperature (\u00b0C)\n",
      "h = 21                          #Convective heat transfer coefficient between the air and the surface (W/m^2.K)\n",
      "k = 0.0433                      #Thermal conductivity of cork board insulation (W/m.K)\n",
      "L = 0.00825                     #Required insulation thickness (m)\n",
      "\n",
      "#Calculation:\n",
      "T2 = T3+Q*R2                    #Interface temperature (\u00b0C) (part 1)\n",
      "Bi = h*L/k                      #Biot number (part 2)\n",
      "\n",
      "#Result:\n",
      "print \"1. The interface temperature is :\",round(T2,2),\" \u00b0C .\"\n",
      "print \"2. The Biot number is :\",round(Bi),\" .\"\n",
      "print \"3. Theoretical part.\""
     ],
     "language": "python",
     "metadata": {},
     "outputs": [
      {
       "output_type": "stream",
       "stream": "stdout",
       "text": [
        "1. The interface temperature is : 17.22  \u00b0C .\n",
        "2. The Biot number is : 4.0  .\n",
        "3. Theoretical part.\n"
       ]
      }
     ],
     "prompt_number": 9
    },
    {
     "cell_type": "heading",
     "level": 3,
     "metadata": {},
     "source": [
      "ILLUSTRATIVE EXAMPLE 19.7, Page number: 417"
     ]
    },
    {
     "cell_type": "code",
     "collapsed": false,
     "input": [
      "\n",
      "from __future__ import division\n",
      "from math import pi,log\n",
      "\n",
      "#Variable declaration:\n",
      "D2 = 0.5/10**3                  #External diameter of needle (m)\n",
      "h3 = 12                         #Heat transfer coefficient (W/m^2.K)\n",
      "L = 1                           #Insulation thickness (m)\n",
      "T1 = 95                         #Reactant temperature (\u00b0C)\n",
      "T3 = 20                         #Ambient air temperature (\u00b0C)\n",
      "k1 = 16                         #Thermal conductivity of needle (W/m.K)\n",
      "k3 = 0.0242                     #Thermal conductivity of air (W/m.K)\n",
      "D3 = 2/10**3                    #Diameter of rubber tube (m)\n",
      "\n",
      "#Calculation:\n",
      "r2 = D2/2                       #External radius of needle (m)\n",
      "r3 = D3/2                       #Radius of rubber tube (m)\n",
      "Rt1 = 1/(h3*(2*pi*r2*L))        #Thermal resistance (\u00b0C/W)\n",
      "Q1 = (T1-T3)/Rt1                #Rate of heat flow in the absence of insulation (W)\n",
      "Bi = h3*D2/k1                   #Biot number \n",
      "Nu = h3*D2/k3                   #Nusselt number\n",
      "R2 = log(r3/r2)                 #Thermal resistance of needle (\u00b0C/W)\n",
      "R3 = 1/(h3*(2*pi*r3*L))         #Thermal resistance of rubber tube (\u00b0C/W)\n",
      "Rt2 = R2+R3                     #Total thermal resistance (\u00b0C/W)\n",
      "Q2 = (T1-T3)/Rt2                #Rate of heat loss (W)\n",
      "\n",
      "#Result:\n",
      "print \"1. The rate of the heat loss from the hypodermic needle with the rubber insulation is :\",round(Q1,2),\" W .\"\n",
      "print \"   The rate of the heat loss from the hypodermic needle without the rubber insulation is :\",round(Q2,2),\" W .\"\n",
      "print \"2. The Biot number is :\",round(Bi,6),\" .\"\n",
      "print \"   The nusselt number is :\",round(Nu,3),\" .\""
     ],
     "language": "python",
     "metadata": {},
     "outputs": [
      {
       "output_type": "stream",
       "stream": "stdout",
       "text": [
        "1. The rate of the heat loss from the hypodermic needle with the rubber insulation is : 1.41  W .\n",
        "   The rate of the heat loss from the hypodermic needle without the rubber insulation is : 5.12  W .\n",
        "2. The Biot number is : 0.000375  .\n",
        "   The nusselt number is : 0.248  .\n"
       ]
      }
     ],
     "prompt_number": 11
    },
    {
     "cell_type": "heading",
     "level": 3,
     "metadata": {},
     "source": [
      "ILLUSTRATIVE EXAMPLE 19.9, Page number: 420"
     ]
    },
    {
     "cell_type": "code",
     "collapsed": false,
     "input": [
      "\n",
      "\n",
      "from __future__ import division\n",
      "from math import log, pi\n",
      "\n",
      "#Variable declaration:\n",
      "h = 140                             #Convention heat transfer coefficient (W/m^2.K)\n",
      "D1 = 10/10**3                       #Rod diameter (m)\n",
      "L = 2.5                             #Rod length (m)\n",
      "T1 = 200                            #Surface temperature of rod (\u00b0C)\n",
      "T2 = 25                             #Fluid temperature (\u00b0C)\n",
      "k = 1.4                             #Thermal conductivity of bakellite (W/m.K)\n",
      "l = 55/10**3                        #Insulation thickness (m)\n",
      "\n",
      "#Calculation:\n",
      "Q1 = h*pi*D1*L*(T1-T2)              #Rate of heat transfer for the bare rod (W) (part 1)\n",
      "Bi = 2                              #Critical Biot number (part 2)\n",
      "D2 = Bi*k/h                         #Critical diameter associated with the bakelite coating (m)\n",
      "r2 = D2/2                           #Critical radius associated with the bakelite coating (m)\n",
      "r1 = D1/2                           #Rod radius (m)\n",
      "R1 = log(r2/r1)/(2*pi*k*L)          #Insulation conduction resistance (\u00b0C/W)\n",
      "R2 = 1/(h*(2*pi*r2*L))              #Convection thermal resistance (\u00b0C/W)\n",
      "Rt1 = R1+R2                         #Total thermal resistance (\u00b0C/W)\n",
      "Qc = (T1-T2)/Rt1                    #Heat transfer rate at the critical radius (W)\n",
      "r3 = r1+l                           #New radius associated with the bakelite coating after insulation (m) (part 3)\n",
      "R3 = log(r3/r1)/(2*pi*k*L)          #Insulation conduction bakelite resistance (\u00b0C/W)\n",
      "R4 = 1/(h*(2*pi*r3*L))              #Convection bakelite thermal resistance (\u00b0C/W)\n",
      "Rt2 = R3+R4                         #Total bakelite thermal resistance (\u00b0C/W)\n",
      "Q2 = (T1-T2)/Rt2                    #Heat transfer rate at the bakelite critical radius (W)\n",
      "Re = ((Q1-Q2)/Q1)*100               #Percent reduction in heat transfer rate relative to the case of a bare rod (%)\n",
      "\n",
      "#Result:\n",
      "print \"1. The rate of heat transfer for the bare rod is :\",round(Q1),\" W .\"\n",
      "print \"2. The critical radius associated with the bakelite coating is :\",round(r2*10**3),\" mm.\"\n",
      "print \" & the heat transfer rate at the critical radius is :\",round(Qc),\" W .\"\n",
      "print \"3. The fractional reduction in heat transfer rate relative to the case of a bare rod is :\",round(Re,1),\" % .\""
     ],
     "language": "python",
     "metadata": {},
     "outputs": [
      {
       "output_type": "stream",
       "stream": "stdout",
       "text": [
        "1. The rate of heat transfer for the bare rod is : 1924.0  W .\n",
        "2. The critical radius associated with the bakelite coating is : 10.0  mm.\n",
        " & the heat transfer rate at the critical radius is : 2273.0  W .\n",
        "3. The fractional reduction in heat transfer rate relative to the case of a bare rod is : 24.6  % .\n"
       ]
      }
     ],
     "prompt_number": 15
    },
    {
     "cell_type": "heading",
     "level": 3,
     "metadata": {},
     "source": [
      "ILLUSTRATIVE EXAMPLE 19.10, Page number: 421"
     ]
    },
    {
     "cell_type": "code",
     "collapsed": false,
     "input": [
      "\n",
      "\n",
      "from __future__ import division\n",
      "from math import pi, log\n",
      "\n",
      "#Variable declaration:\n",
      "r1 = 1.1/100                    #Inside radius of pipe (m)\n",
      "r2 = 1.3/100                    #Outside radius of pipe (m)\n",
      "r3 = 3.8/100                    #Outside radius of asbestos insulation (m)\n",
      "L = 1                           #Length of tube (m)\n",
      "h1 = 190                        #Heat transfer coefficient from ethylene glycol to the stainless steel pipe (W/m^2.K)\n",
      "k2 = 19                         #Thermal conductivity of pipe (W/m.K)\n",
      "h2 = 14                         #Outside heat transfer coefficient from the air to the surface of the insulation (W/m^2.K)\n",
      "k3 = 0.2                        #Thermal conductivity of asbestos (W/m.K)\n",
      "T1 = 124                        #Hot ethylene glycol temperature (\u00b0C)\n",
      "T5 = 2                          #Surrounding air temperature (\u00b0C)\n",
      "k4 = 0.0242                     #Thermal conductivity of air (W/m.K)\n",
      "\n",
      "#Calculation:\n",
      "A1 = 2*pi*r1*L                  #Inside surface area of pipe (m^2) (part1)\n",
      "A2 = 2*pi*r2*L                  #Outside surface area of pipe (m^2)\n",
      "A3 = 2*pi*r3*L                  #Outside surface area of asbestos insulation (m^2)\n",
      "R1 = 1/(h1*A1)                  #Inside convection resistance (\u00b0C/W)\n",
      "R2 = log(r2/r1)/(2*pi*k2*L)     #Conduction resistance through the tube (\u00b0C/W)\n",
      "R3 = 1/(h2*A2)                  #Outside convection resistance (\u00b0C/W)\n",
      "Rt1 = R1+R2+R3                  #Total resistance without insulation (\u00b0C/W)\n",
      "Q1 = (T1 - T5)/Rt1              #Heat transfer rate without insulation (W)\n",
      "R4 = log(r3/r2)/(2*pi*k3*L)     #Conduction resistance associated with the insulation (\u00b0C/W) (part 2)\n",
      "R5 = 1/(h2*A3)                  #Outside convection resistance (\u00b0C/W)\n",
      "Rt2 = R1+R2+R4+R5               #Total rsistance with the insulation (\u00b0C/W)\n",
      "Q2 = (T1-T5)/Rt2                #Heat transfer rate with the insulation (W)\n",
      "U1 = 1/(Rt2*A1)                 #Overall heat transfer coefficient based on the inside area (W/m^2.K) (part 3)\n",
      "U3 = 1/(Rt2*A3)                 #Overall heat transfer coefficient based on the outside area (W/m^2.K) (part 4)\n",
      "T3 = T1-(R1+R2)*Q2              #Temperature at the steel\u2013insulation interface (\u00b0C) (part 5)\n",
      "Bi1 = h2*(2*r3)/k3              #Outside Biot number (part 6)\n",
      "Bi2 = h1*(2*r1)/k2              #Inside Biot number\n",
      "Nu = h1*(2*r1)/k4               #Nusselt number of the air\n",
      "rlm = (r3-r2)/log(r3/r2)        #Log mean radius of the insulation (m) (part 7)\n",
      "\n",
      "#Result:\n",
      "print \"1. The rate of heat transfer without insulation is :\",round(Q1,1),\" W.\"\n",
      "print \"2. The rate of heat transfer with insulation is :\",round(Q2,1),\" W.\"\n",
      "print \"3. The overall heat transfer coefficient based on the inside area of the tube is :\",round(U1,2),\" W/m^2.K .\"\n",
      "print \"4. The overall heat transfer coefficient based on the outside area of the insulation is :\",round(U3,1),\" W/m^2.K .\"\n",
      "print \"5. The temperature, T3, at the steel\u2013insulation interface is :\",round(T3,1),\" \u00b0C.\"\n",
      "print \"6. The inside Biot numbers is :\",round(Bi2,2),\" .\"\n",
      "print \"   The outside Biot numbers is :\",round(Bi1,2),\" .\"\n",
      "print \"   The Nusselt number is :\",round(Nu,1),\" .\"\n",
      "print \"7. The log mean radius of insulation is :\",round(rlm*100,2),\" cm.\"\n",
      "print \"There is a printing mistake in book for unit in part 7.\""
     ],
     "language": "python",
     "metadata": {},
     "outputs": [
      {
       "output_type": "stream",
       "stream": "stdout",
       "text": [
        "1. The rate of heat transfer without insulation is : 128.1  W.\n",
        "2. The rate of heat transfer with insulation is : 99.2  W.\n",
        "3. The overall heat transfer coefficient based on the inside area of the tube is : 11.76  W/m^2.K .\n",
        "4. The overall heat transfer coefficient based on the outside area of the insulation is : 3.4  W/m^2.K .\n",
        "5. The temperature, T3, at the steel\u2013insulation interface is : 116.3  \u00b0C.\n",
        "6. The inside Biot numbers is : 0.22  .\n",
        "   The outside Biot numbers is : 5.32  .\n",
        "   The Nusselt number is : 172.7  .\n",
        "7. The log mean radius of insulation is : 2.33  cm.\n",
        "There is a printing mistake in book for unit in part 7.\n"
       ]
      }
     ],
     "prompt_number": 16
    },
    {
     "cell_type": "heading",
     "level": 3,
     "metadata": {},
     "source": [
      "ILLUSTRATIVE EXAMPLE 19.11, Page number: 424"
     ]
    },
    {
     "cell_type": "code",
     "collapsed": false,
     "input": [
      "\n",
      "\n",
      "from __future__ import division\n",
      "from math import pi\n",
      "\n",
      "#Variable declaration:\n",
      "h1 = 800                        #Heat transfer coefficient for steam condensing inside coil (Btu/h.ft^2.\u00b0F)\n",
      "h2 = 40                         #Heat transfer coefficient for oil outside coil (Btu/h.ft^2.\u00b0F)\n",
      "h3 = 40                         #Heat transfer coefficient for oil inside tank wal (Btu/h.ft^2.\u00b0F)\n",
      "h4 = 2                          #Heat transfer coefficient for outer tank wall to ambient air (Btu/h.ft^2.\u00b0F)\n",
      "k1 = 0.039                      #Thermal conductivity of insulation layer (Btu/h.ft.\u00b0F)\n",
      "l1 = 2/12                       #Thickness of insulation layer (ft)\n",
      "D = 10                          #Diameter of tank (ft)\n",
      "H = 30                          #Height of tank (ft)\n",
      "k2 = 224                        #Thermal conductivity of copper tube (Btu/h.ft.\u00b0F)\n",
      "l2 = (3/4)/12                   #Thickness of insulation layer (ft)\n",
      "T1 = 120                        #Temperature of tank (\u00b0F)\n",
      "T2 = 5                          #Outdoor temperature (\u00b0F)\n",
      "\n",
      "#Calculation:\n",
      "Uo1 = 1/(1/h3+(l1/k1)+1/h4)     #Overall heat transfer coefficient for tank (Btu/h.ft^2.\u00b0F)\n",
      "At = pi*(D+2*l1)*H              #Surface area of tank (ft^2)\n",
      "Q = Uo1*At*(T1-T2)              #Heat transfer rate lost from the tank (Btu/h)\n",
      "#From table 6.3:\n",
      "l2 = 0.049/12                   #Thickness of coil (ft)\n",
      "A = 0.1963                      #Area of 18 guage, 3/4-inch copper tube (ft^2/ft)\n",
      "Uo2 = 1/(1/h2+(l2/k2)+1/h1)     #Overall heat transfer coefficient for coil (Btu/h.ft^2.\u00b0F)\n",
      "#From steam tables:\n",
      "Tst = 240                       #Temperature for 10 psia (24.7 psia) steam (\u00b0F)\n",
      "Ac = Q/(Uo2*(Tst-T1))           #Area of tube (ft^2)\n",
      "L = Ac/A                        #Lengt of tube (ft)\n",
      "\n",
      "#Result:\n",
      "print \"The length ofcopper tubing required is :\",round(L,1),\" ft .\""
     ],
     "language": "python",
     "metadata": {},
     "outputs": [
      {
       "output_type": "stream",
       "stream": "stdout",
       "text": [
        "The length ofcopper tubing required is : 26.0  ft .\n"
       ]
      }
     ],
     "prompt_number": 17
    },
    {
     "cell_type": "heading",
     "level": 3,
     "metadata": {},
     "source": [
      "ILLUSTRATIVE EXAMPLE 19.12, Page number: 426"
     ]
    },
    {
     "cell_type": "code",
     "collapsed": false,
     "input": [
      "\n",
      "from __future__ import division\n",
      "from math import pi, log\n",
      "from numpy import array,log as LOG\n",
      "\n",
      "#Variable declaration:\n",
      "#For 1-inch pipe schedule 40:\n",
      "Di = 1.049/12                   #Inside diameter (ft)\n",
      "Do = 1.315/12                   #Outside diameter (ft)\n",
      "L = 8000                        #Length of pipe (ft)\n",
      "hi = 2000                       #Heat transfer coefficient inside of the pipe (Btu/h.ft^2.\u00b0F)\n",
      "ho = 100                        #Outside heat transfer coefficient (Btu/h.ft.\u00b0F)\n",
      "kl = 0.01                       #Thermal conductivity of insulation (Btu/h.ft.\u00b0F)\n",
      "T1 = 240                        #Steam temperature (\u00b0F)\n",
      "T2 = 20                         #Air temperature (\u00b0F)\n",
      "k = 24.8                        #Thermal conductivity for steel (Btu/h.ft.\u00b0F)\n",
      "Dxl = array([3/8,1/2,3/4,1])/12 #thickness(ft)\n",
      "amt = array([1.51,3.54,5.54,8.36])/6 #Cost per feet($)   \n",
      "\n",
      "#Calculation:\n",
      "D_ = (Do-Di)/log(Do/Di)         #Log-mean diameter of the pipe (ft)\n",
      "Dl = Do+2*(Dxl)                 #Insulation thickness (ft)\n",
      "D_l = (Dl-Do)/LOG(Dl/Do)        #Log mean diameter of pipe (ft)\n",
      "Dxw = (Do-Di)/2                 #Pipe thickness (ft)\n",
      "Rw = Dxw/(k*pi*D_*L)            #Wall resistance ((Btu/h.\u00b0F)^-1)\n",
      "Ri = 1/(hi*pi*Di*L)             #Inside steam convection resistance ((Btu/h.\u00b0F)^-1)\n",
      "Rl = Dxl/(kl*pi*D_l*L)          #Insulation resistance ((Btu/h.\u00b0F)^-1)\n",
      "Ro = 1/(ho*pi*Dl*L)             #Outside air convection resistance ((Btu/h.\u00b0F)^-1)\n",
      "R = Ri+Rw+Rl+Ro                 #Total resistance  ((Btu/h.\u00b0F)^-1)\n",
      "Uo = 1/(R*pi*Dl*L)              #Overall outside heat transfer coefficient (Btu/h.ft^2.\u00b0F)\n",
      "Ui = 1/(R*pi*Di*L)              #Overall inside heat transfer coefficient (Btu/h.ft^2.\u00b0F)\n",
      "dT = T1-T2\n",
      "Ai = pi*Di*L                    #Inside area (ft^2)\n",
      "Q = Ui*Ai*dT                   #Energy loss (Btu/h)\n",
      "def energyPerDollar(Q1,Q2,amt1,amt2):\n",
      "    return round((Q1-Q2)/(8000*(amt2-amt1)),1)\n",
      "\n",
      "#Results:\n",
      "print \"Energy saved per dollar ingoing from 3/8 to 1/2 inch is :\",energyPerDollar(Q[0],Q[1],amt[0],amt[1]),' Btu/h.$'\n",
      "print \"Energy saved per dollar ingoing from 1/2 to 3/4 inch is :\",energyPerDollar(Q[1],Q[2],amt[1],amt[2]),' Btu/h.$'\n",
      "print \"Energy saved per dollar ingoing from 3/4 to 1 inch is :\",energyPerDollar(Q[2],Q[3],amt[2],amt[3]),' Btu/h.$'"
     ],
     "language": "python",
     "metadata": {},
     "outputs": [
      {
       "output_type": "stream",
       "stream": "stdout",
       "text": [
        "Energy saved per dollar ingoing from 3/8 to 1/2 inch is : 18.2  Btu/h.$\n",
        "Energy saved per dollar ingoing from 1/2 to 3/4 inch is : 18.8  Btu/h.$\n",
        "Energy saved per dollar ingoing from 3/4 to 1 inch is : 6.8  Btu/h.$\n"
       ]
      }
     ],
     "prompt_number": 3
    },
    {
     "cell_type": "heading",
     "level": 3,
     "metadata": {},
     "source": [
      "ILLUSTRATIVE EXAMPLE 19.16, Page number: 434"
     ]
    },
    {
     "cell_type": "code",
     "collapsed": false,
     "input": [
      "\n",
      "\n",
      "from __future__ import division\n",
      "\n",
      "#Variable declaration:\n",
      "ki = 0.44                       #Thermal conductivity of insulation (Btu/h.ft.\u00b0F)\n",
      "ho = 1.32                       #Air flow coefficient (Btu/h.ft^2.\u00b0F)\n",
      "OD = 2                          #Outside diameter of pipe (in)\n",
      "\n",
      "#Calculation:\n",
      "rc = (ki/ho)*12                 #Outer critical radius of insulation (in)\n",
      "ro = OD/2                       #Outside radius of pipe (in)\n",
      "L = rc-ro                       #Critical insulation thickness (in)\n",
      "\n",
      "#Result:\n",
      "print \"The outer critical radius of insulation is :\",round(rc),\" in .\"\n",
      "if ro<rc:\n",
      "    print \"Since, ro<rc, the heat loss will increase as insulation is added.\"\n",
      "else :\n",
      "    print \"Sice, ro>rc, the heat loss will decrease as insulation is added.\""
     ],
     "language": "python",
     "metadata": {},
     "outputs": [
      {
       "output_type": "stream",
       "stream": "stdout",
       "text": [
        "The outer critical radius of insulation is : 4.0  in .\n",
        "Since, ro<rc, the heat loss will increase as insulation is added.\n"
       ]
      }
     ],
     "prompt_number": 21
    },
    {
     "cell_type": "heading",
     "level": 3,
     "metadata": {},
     "source": [
      "ILLUSTRATIVE EXAMPLE 19.18, Page number: 439"
     ]
    },
    {
     "cell_type": "code",
     "collapsed": false,
     "input": [
      "\n",
      "\n",
      "from __future__ import division\n",
      "\n",
      "#Variable declaration:\n",
      "Lf = 6/12                           #Length of firebrick (ft)\n",
      "kf = 0.61                           #Thermal conductivity of firebrick (Btu/h.ft.\u00b0F)\n",
      "A = 480                             #Surface area of wall (ft^2)\n",
      "Lw = 8/12                           #Length of rock wool (ft)\n",
      "kw = 0.023                          #Thermal conductivity of rock wool (Btu/h.ft.\u00b0F)\n",
      "T1 = 1900                           #Temperature of insulation of firebrick (\u00b0F)\n",
      "T2 = 140                            #Temperature of insulation of rock wool (\u00b0F)\n",
      "\n",
      "#Calculation:\n",
      "Rf = Lf/(kf*A)                      #Resistance of firebrick (h.\u00b0F/Btu)\n",
      "Rw = Lw/(kw*A)                      #Resistance of rock wool (h.\u00b0F/Btu)\n",
      "R = Rf+Rw                           #Total resitance (h.\u00b0F/Btu)\n",
      "Q = (T1-T2)/R                       #Heat loss through the wall (Btu/h)\n",
      "\n",
      "#Result:\n",
      "print \"The heat loss through the wall is :\",round(Q),\" Btu/h .\"\n",
      " "
     ],
     "language": "python",
     "metadata": {},
     "outputs": [
      {
       "output_type": "stream",
       "stream": "stdout",
       "text": [
        "The heat loss through the wall is : 28344.0  Btu/h .\n"
       ]
      }
     ],
     "prompt_number": 24
    },
    {
     "cell_type": "heading",
     "level": 3,
     "metadata": {},
     "source": [
      "ILLUSTRATIVE EXAMPLE 19.19, Page number: 440"
     ]
    },
    {
     "cell_type": "code",
     "collapsed": false,
     "input": [
      "\n",
      "\n",
      "from __future__ import division\n",
      "\n",
      "#Variable declaration:\n",
      "h1 = 1700                       #Steam heat-transfer coefficient (Btu/h.ft^2.\u00b0F)\n",
      "h2 = 2                          #Air heat-transfer coefficient (Btu/h.ft^2.\u00b0F)\n",
      "A = 1                           #Area of base (ft^2) (assumption)\n",
      "k1 = 26                         #Thermal conductivity of steel (Btu/h.ft.\u00b0F)\n",
      "k2 = 218                        #Thermal conductivity of copper (Btu/h.ft.\u00b0F)\n",
      "t = 0.375                       #Thickness of steel sheet (in)\n",
      "h3 = 2500                       #Increased steam heat-transfer coefficient (Btu/h.ft^2.\u00b0F)\n",
      "h4 = 12                         #Increased air heat-transfer coefficient (Btu/h.ft^2.\u00b0F)\n",
      "\n",
      "#Calculation:\n",
      "R1 = 1/(h1*A)                   #Steam resistance (h.\u00b0F/Btu)\n",
      "R2 = 1/(h2*A)                   #Air resistance (h.\u00b0F/Btu)\n",
      "R3 = (t/12)/(k1*A)              #Steel resistance (h.\u00b0F/Btu)\n",
      "Rt1 = R1+R2+R3                  #Total resistance (with steel) (h.\u00b0F/Btu)\n",
      "R4 = (t/12)/(k2*A)              #Copper resistance (h.\u00b0F/Btu) (part 1)\n",
      "Rt2 = R1+R2+R4                  #Total resistance (with copper) (h.\u00b0F/Btu)\n",
      "R5 = 1/(h1*A)                   #New steam resistance (h.\u00b0F/Btu)\n",
      "Rt3 = R5+R2+R3                  #Total resistance after increasing the steam coefficient (h.\u00b0F/Btu)\n",
      "R6 = 1/(h4*A)                   #Air resistance (h.\u00b0F/Btu)\n",
      "Rt4 = R1+R6+R3                  #Total resistance after increasing the air coefficient (h.\u00b0F/Btu)\n",
      "\n",
      "#Result:\n",
      "if (Rt1==Rt2):\n",
      "    print \"1.The rate of heat transfer is essentially unaffected.\"\n",
      "else :\n",
      "    print \"1. The rate of heat transfer is essentially affected.\"\n",
      "if (Rt1==Rt3):\n",
      "    print \"2. The rate is again unaffected.\"\n",
      "else :\n",
      "    print \"2. The rate is again affected.\"\n",
      "if (Rt1==Rt4):\n",
      "    print \"3. The rate is unaffected for this case.\"\n",
      "else :\n",
      "    print \"3. The rate is affected for this case.\""
     ],
     "language": "python",
     "metadata": {},
     "outputs": [
      {
       "output_type": "stream",
       "stream": "stdout",
       "text": [
        "1. The rate of heat transfer is essentially affected.\n",
        "2. The rate is again unaffected.\n",
        "3. The rate is affected for this case.\n"
       ]
      }
     ],
     "prompt_number": 25
    },
    {
     "cell_type": "heading",
     "level": 3,
     "metadata": {},
     "source": [
      "ILLUSTRATIVE EXAMPLE 19.20, Page number: 441"
     ]
    },
    {
     "cell_type": "code",
     "collapsed": false,
     "input": [
      "\n",
      "\n",
      "from __future__ import division\n",
      "from math import pi, log, exp\n",
      "\n",
      "#Variable declaration:\n",
      "rfo = 12/2                      #Outside radius of firebrick (ft)\n",
      "rfi = 5.167                     #Inside radius of firebrick (ft)\n",
      "rso = 6.479                     #Outside radius of sil-o-cel (ft)\n",
      "rsi = 6.063                     #Inside radius of fsil-o-cel (ft)\n",
      "L = 30                          #Length of incinerator (ft)\n",
      "kf = 0.608                      #Thermal conductivity of firebrick (Btu/h.ft.\u00b0F)\n",
      "ks = 0.035                      #Thermal conductivity of sil-o-cel (Btu/h.ft.\u00b0F)\n",
      "\n",
      "#Calculation:\n",
      "Rf= log(rfo/rfi)/(2*pi*L*kf)    #Resistance of firebrick (h.ft.\u00b0F/Btu)\n",
      "Rs= log(rso/rsi)/(2*pi*L*ks)    #Resistance of sil-o-cel (h.ft.\u00b0F/Btu)\n",
      "R = Rf+Rs                       #Total resistance (h.ft.\u00b0F/Btu)\n",
      "ro = exp(R*(2*pi*L*ks))*rso     #New outside radius of sil-o-cel (ft)\n",
      "r= ro-rso                       #Extra thickness (ft)\n",
      "\n",
      "#Result:\n",
      "print \"The extra thickness is :\",round(r,3),\" ft.\"\n",
      "print \"Or, the extra thickness is :\",round(r*12,2),\" in.\""
     ],
     "language": "python",
     "metadata": {},
     "outputs": [
      {
       "output_type": "stream",
       "stream": "stdout",
       "text": [
        "The extra thickness is : 0.504  ft.\n",
        "Or, the extra thickness is : 6.05  in.\n"
       ]
      }
     ],
     "prompt_number": 28
    }
   ],
   "metadata": {}
  }
 ]
}