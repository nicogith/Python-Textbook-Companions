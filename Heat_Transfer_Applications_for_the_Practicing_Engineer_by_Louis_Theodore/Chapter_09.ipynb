{
 "metadata": {
  "name": "",
  "signature": "sha256:717821d247948d7fb9af37b8a67927013610ff26888719ba58ba9ef00c80f713"
 },
 "nbformat": 3,
 "nbformat_minor": 0,
 "worksheets": [
  {
   "cells": [
    {
     "cell_type": "heading",
     "level": 1,
     "metadata": {},
     "source": [
      "Chapter 9: Forced Convection"
     ]
    },
    {
     "cell_type": "heading",
     "level": 3,
     "metadata": {},
     "source": [
      "ILLUSTRATIVE EXAMPLE 9.1, Page number: 135"
     ]
    },
    {
     "cell_type": "code",
     "collapsed": false,
     "input": [
      "\n",
      "\n",
      "#Variable declaration:\n",
      "D = 1.0                     #Diamete of vessel (ft)\n",
      "L = 1.5                     #Length of vessel (ft)\n",
      "T1 = 390.0                  #Surface temperature of vessel (\u00b0F)\n",
      "T2 = 50.0                   #Surrounding temperature of vessel (\u00b0F)\n",
      "h = 4.0                     #Convective heat transfer coefficient (Btu/h.ft.\u00b0F)\n",
      "\n",
      "#Calculation:\n",
      "A = pi*D*L+2*pi*(D/2)**2    #Total heat transfer area (ft^2)\n",
      "Q = h*A*(T1-T2)             #Rate of heat transfer (Btu/h)\n",
      "R = 1/(h*A)                 #Thermal resistance (\u00b0F.h/Btu)\n",
      "\n",
      "#Result:\n",
      "print \"The thermal resistance of vessel wal is :\",round(R,4),\" \u00b0F.h/Btu .\""
     ],
     "language": "python",
     "metadata": {},
     "outputs": [
      {
       "output_type": "stream",
       "stream": "stdout",
       "text": [
        "The thermal resistance of vessel wal is : 0.0398  \u00b0F.h/Btu .\n"
       ]
      }
     ],
     "prompt_number": 9
    },
    {
     "cell_type": "heading",
     "level": 3,
     "metadata": {},
     "source": [
      "ILLUSTRATIVE EXAMPLE 9.2, Page number: 135"
     ]
    },
    {
     "cell_type": "code",
     "collapsed": false,
     "input": [
      "'''Referring to the previous example, convert the resistance to K/W and \u00b0C/W.\n",
      "'''\n",
      "\n",
      "#Variable declaration:\n",
      "#From example 9.1:\n",
      "R = 0.0398                      #Theral resistance (\u00b0F.h/Btu)\n",
      "Btu = 3.412                     #Btu/h in a watt\n",
      "C = 1.8                         #Change in degree fahrenheit for a degree change in celsius\n",
      "K = 1                           #Change in degree celsius for a unit change in Kelvin\n",
      "\n",
      "#Calculation:\n",
      "Rc = R*Btu/C                    #Thermal resistance in degree cesius per watt (\u00b0C/W)\n",
      "Rk = Rc/K                       #Thermal resistance in Kelvin per watt (K/W)\n",
      "\n",
      "#Result:\n",
      "print \"The thermal resistance in \u00b0C/W is :\",round(Rc,3),\" \u00b0C/W.\"\n",
      "print \"The thermal resistance in K/W is :\",round(Rk,3),\" K/W.\""
     ],
     "language": "python",
     "metadata": {},
     "outputs": [
      {
       "output_type": "stream",
       "stream": "stdout",
       "text": [
        "The thermal resistance in \u00b0C/W is : 0.075  \u00b0C/W.\n",
        "The thermal resistance in K/W is : 0.075  K/W.\n"
       ]
      }
     ],
     "prompt_number": 2
    },
    {
     "cell_type": "heading",
     "level": 3,
     "metadata": {},
     "source": [
      "ILLUSTRATIVE EXAMPLE 9.3, Page number: 136"
     ]
    },
    {
     "cell_type": "code",
     "collapsed": false,
     "input": [
      "\n",
      "\n",
      "#Variable declaration:\n",
      "h = 48.0                    #Convective heat transfer coefficient (Btu/h.ft.\u00b0F)\n",
      "A = 2*1.5                   #Total heat transfer area (ft^2)\n",
      "Ts = 530.0                  #Surface temperature of plate (\u00b0F)\n",
      "Tm = 105.0                  #Maintained temperature of opposite side of plate (\u00b0F)\n",
      "kW = 3.4123*10**3           #Units kW in a Btu/h\n",
      "\n",
      "#Calculation:\n",
      "Q = h*A*(Ts-Tm)             #Heat transfer rate in Btu/h (Btu/h)\n",
      "Q1 = Q/kW                   #Heat transfer rate in kW (kW)\n",
      "\n",
      "#Result:\n",
      "print \"The heat transfer rate in Btu/h is :\",round(Q),\" Btu/h.\"\n",
      "print \"The heat transfer rate in kW is :\",round(Q1,2),\" kW.\""
     ],
     "language": "python",
     "metadata": {},
     "outputs": [
      {
       "output_type": "stream",
       "stream": "stdout",
       "text": [
        "The heat transfer rate in Btu/h is : 61200.0  Btu/h.\n",
        "The heat transfer rate in kW is : 17.94  kW.\n"
       ]
      }
     ],
     "prompt_number": 3
    },
    {
     "cell_type": "heading",
     "level": 3,
     "metadata": {},
     "source": [
      "ILLUSTRATIVE EXAMPLE 9.4, Page number: 136"
     ]
    },
    {
     "cell_type": "code",
     "collapsed": false,
     "input": [
      "\n",
      "\n",
      "#Variable declaration:\n",
      "TS = 10+273                     #Outer surface temperature of wall (K)\n",
      "Q = 3000.0                      #Heat transfer rate (W)\n",
      "h = 100.0                       #Convection coefficient of air (W/m^2)\n",
      "A = 3.0                         #Area of glass window (m^2)\n",
      "\n",
      "#Calculation:\n",
      "TM = TS-Q/(h*A)                 #Bulk temperature of fluid (K)\n",
      "\n",
      "#Result:\n",
      "print \"The bulk temperature of fluid is :\",round(TM),\" K.\"\n",
      "print \"The bulk temperature of fluid is :\",round(TM-273),\" \u00b0C.\""
     ],
     "language": "python",
     "metadata": {},
     "outputs": [
      {
       "output_type": "stream",
       "stream": "stdout",
       "text": [
        "The bulk temperature of fluid is : 273.0  K.\n",
        "The bulk temperature of fluid is : 0.0  \u00b0C.\n"
       ]
      }
     ],
     "prompt_number": 22
    },
    {
     "cell_type": "heading",
     "level": 3,
     "metadata": {},
     "source": [
      "ILLUSTRATIVE EXAMPLE 9.5, Page number: 137"
     ]
    },
    {
     "cell_type": "code",
     "collapsed": false,
     "input": [
      "\n",
      "\n",
      "#Variable declaration:\n",
      "h = 24.0                    #Plant operating hour per day (h/day)\n",
      "d = 350.0                   #Plant operating day per year (day/yr)\n",
      "\n",
      "#Calculation:\n",
      "N = h*d                     #Operating hours per year (h/yr)\n",
      "#From example 9.1:\n",
      "Q = 8545.0                  #Rate of energy loss (Btu/h)\n",
      "Qy = Q*N                    #Steady-state energy loss yearly (Btu/yr)\n",
      "\n",
      "#Result:\n",
      "print \"The yearly steady-state energy loss is :\",round(Qy/10**7,2),\" x 10^7 Btu/yr.\""
     ],
     "language": "python",
     "metadata": {},
     "outputs": [
      {
       "output_type": "stream",
       "stream": "stdout",
       "text": [
        "The yearly steady-state energy loss is : 7.18  x 10^7 Btu/yr.\n"
       ]
      }
     ],
     "prompt_number": 23
    },
    {
     "cell_type": "heading",
     "level": 3,
     "metadata": {},
     "source": [
      "ILLUSTRATIVE EXAMPLE 9.7, Page number: 148"
     ]
    },
    {
     "cell_type": "code",
     "collapsed": false,
     "input": [
      "\n",
      "from sympy import symbols, integrate\n",
      "\n",
      "#Variable declaration:\n",
      "x = 0.3                         #Length from the leading age of the plate (m)\n",
      "L = 1.2                         #Length of plate (m)\n",
      "TS = 58.0                       #Surface temperature of plate (\u00b0C)\n",
      "Ta = 21.0                       #Temperature of flowing air (\u00b0C)\n",
      "\n",
      "#Calculation:\n",
      "hx = 25/x**0.4                  #Local heat transfer coefficient at 0.3m (W/m^2.K) (Part 1)\n",
      "y = symbols('y')                #Length\n",
      "hy = 25/y**0.4                  #hx at the end of the plate (W/m^2.K)\n",
      "h = integrate(hy, (y,0,L))/L    #Average heat transfer coefficient (W/m^2.K)\n",
      "Q = hx*(TS-Ta)                  #Heat flux at 0.3m from leading edge of plate (W/m^2)\n",
      "hL = 25/L**0.4                  #Local heat transfer coefficient at plate end (W/m^2.K) (Part 2) \n",
      "r = h/hL                        #Ratio h/hL at the end of the plate\n",
      "\n",
      "#Result:\n",
      "print \"1. The heat flux at 0.3 m from the leading edge of the plate is :\",round(Q),\" W/m^2.\"\n",
      "print \"2. The local heat transfer coefficient at the end of the plate is :\",round(hL,1),\" W/m^2.K.\"\n",
      "print \"3. The ratio h/hL at the end of plate is :\",round(r,3),\" .\""
     ],
     "language": "python",
     "metadata": {},
     "outputs": [
      {
       "output_type": "stream",
       "stream": "stdout",
       "text": [
        "1. The heat flux at 0.3 m from the leading edge of the plate is : 1497.0  W/m^2.\n",
        "2. The local heat transfer coefficient at the end of the plate is : 23.2  W/m^2.K.\n",
        "3. The ratio h/hL at the end of plate is : 1.667  .\n"
       ]
      }
     ],
     "prompt_number": 25
    },
    {
     "cell_type": "heading",
     "level": 3,
     "metadata": {},
     "source": [
      "ILLUSTRATIVE EXAMPLE 9.8, Page number: 150"
     ]
    },
    {
     "cell_type": "code",
     "collapsed": false,
     "input": [
      "\n",
      "\n",
      "#Variable declaration:\n",
      "#From example 9.7:\n",
      "b = 1.0                     #Width of plate (m)\n",
      "L = 1.2                     #Length of plate (m)\n",
      "TS = 58.0                   #Surface temperture of plate (\u00b0C)\n",
      "Ta = 21.0                   #Air flow temperature (\u00b0C)\n",
      "h = 38.7                    #Average heat transfer coefficient (W/m^2.K)\n",
      "\n",
      "#Calculation:\n",
      "A = b*L                     #Area for heat transfer for the entire plate (m^2)\n",
      "Q = h*A*(TS-Ta)             #Rate of heat transfer over the whole length of the plate (W)\n",
      "\n",
      "#Result:\n",
      "print \"The rate of heat transfer over the whole length of the plate is :\",round(Q,-1),\" W.\""
     ],
     "language": "python",
     "metadata": {},
     "outputs": [
      {
       "output_type": "stream",
       "stream": "stdout",
       "text": [
        "The rate of heat transfer over the whole length of the plate is : 1720.0  W.\n"
       ]
      }
     ],
     "prompt_number": 26
    },
    {
     "cell_type": "heading",
     "level": 3,
     "metadata": {},
     "source": [
      "ILLUSTRATIVE EXAMPLE 9.9, Page number: 150"
     ]
    },
    {
     "cell_type": "code",
     "collapsed": false,
     "input": [
      "\n",
      "from math import pi\n",
      "#Variable declaration:\n",
      "m = 0.075                           #Mass rate of air flow (kg/s)\n",
      "D = 0.225                           #Diameter of tube (m)\n",
      "mu = 208*10**-7                     #Dynamic viscosity of fluid (N)\n",
      "Pr = 0.71                           #Prandtl number\n",
      "k = 0.030                           #Thermal conductivity of air (W/m.K)\n",
      "\n",
      "#Calculation:\n",
      "Re = 4*m/(pi*D*mu)                  #Reynolds number\n",
      "#From equation 9.26:\n",
      "Nu = 0.023*(Re**0.8)*(Pr**0.3)      #Nusselt number\n",
      "h = (k/D)*Nu                        #Heat transfer coefficient of air (W/m^2.K)\n",
      "\n",
      "#Result:\n",
      "print \"The Heat transfer coefficient of air is :\",round(h,2),\" W/m^2.K.\""
     ],
     "language": "python",
     "metadata": {},
     "outputs": [
      {
       "output_type": "stream",
       "stream": "stdout",
       "text": [
        "The Heat transfer coefficient of air is : 7.76  W/m^2.K.\n"
       ]
      }
     ],
     "prompt_number": 27
    },
    {
     "cell_type": "heading",
     "level": 3,
     "metadata": {},
     "source": [
      "ILLUSTRATIVE EXAMPLE 9.10, Page number: 150"
     ]
    },
    {
     "cell_type": "code",
     "collapsed": false,
     "input": [
      "\n",
      "\n",
      "#Variable declaration:\n",
      "D = 0.902/12.0                  #Inside diameter of tube (ft)\n",
      "T_in = 60.0                     #Temperature water entering the tube (\u00b0F)\n",
      "T_out = 70.0                    #Temperature water leaving the tube (\u00b0F)\n",
      "V = 7.0                         #Average wave velocity water (ft/s)\n",
      "p = 62.3                        #Density of water (lb/ft^3)\n",
      "mu = 2.51/3600.0                #Dynamic viscosity of water (lb/ft.s)\n",
      "Cp = 1.0                        #Viscosity of centipoise (Btu/lb.\u00b0F)\n",
      "k = 0.34                        #Thermal conductivity of water (Btu/h.ft.\u00b0F)\n",
      "\n",
      "#Calculation:\n",
      "Re = D*V*p/mu                   #Reynolds Number\n",
      "Pr = Cp*mu/k*3600               #Prandtl number\n",
      "#From equation 9.26:\n",
      "Nu = 0.023*(Re**0.8)*(Pr**0.4)  #Nusselt number\n",
      "h = (k/D)*Nu                    #Average film heat transfer coefficient (Btu/h.ft^2.\u00b0F)\n",
      "\n",
      "#Result:\n",
      "print \"The required average film heat transfer coefficient is :\",round(h),\" Btu/h.ft^2.\u00b0F.\""
     ],
     "language": "python",
     "metadata": {},
     "outputs": [
      {
       "output_type": "stream",
       "stream": "stdout",
       "text": [
        "The required average film heat transfer coefficient is : 1265.0  Btu/h.ft^2.\u00b0F.\n"
       ]
      }
     ],
     "prompt_number": 4
    },
    {
     "cell_type": "heading",
     "level": 3,
     "metadata": {},
     "source": [
      "ILLUSTRATIVE EXAMPLE 9.11, Page number: 151"
     ]
    },
    {
     "cell_type": "code",
     "collapsed": false,
     "input": [
      "\n",
      "\n",
      "#Variable declaration:\n",
      "P = 1.0132 * 10**5              #Air pressure (Pa)\n",
      "T = 300.0+273.0                 #Air temperature (K)\n",
      "V = 5.0                         #Air flow velocity (m/s)\n",
      "D = 2.54/100.0                  #Diameter of tube (m)\n",
      "R = 287.0                       #Gas constant (m^2/s^2.K)\n",
      "#From Appendix:\n",
      "Pr = 0.713                      #Prandtl number of nitrogen\n",
      "mu = 1.784*10**(-5)             #Dynamic viscosity of nitrogen (kg/m.s)\n",
      "k = 0.0262                      #Thermal conductivity of nitrogen (W/m.K)\n",
      "Cp = 1.041                      #Heat capacity of nitrogen (kJ/kg.K)\n",
      "\n",
      "#Calculation:\n",
      "p = P/(R*T)                     #Density of air\n",
      "Re = D*V*p/mu                   #Reynolds number\n",
      "#From table 9.5:\n",
      "Nu = 0.023*(Re**0.8)*(Pr**0.3)  #Nusselt number\n",
      "h = (k/D)*Nu                    #Heat transfer coefficient (W/m^2.K)\n",
      "\n",
      "#Result:\n",
      "print \"The required Heat transfer coefficient is :\",round(h,2),\" W/m^2.K.\""
     ],
     "language": "python",
     "metadata": {},
     "outputs": [
      {
       "output_type": "stream",
       "stream": "stdout",
       "text": [
        "The required Heat transfer coefficient is : 17.57  W/m^2.K.\n"
       ]
      }
     ],
     "prompt_number": 10
    },
    {
     "cell_type": "heading",
     "level": 3,
     "metadata": {},
     "source": [
      "ILLUSTRATIVE EXAMPLE 9.12, Page number: 152"
     ]
    },
    {
     "cell_type": "code",
     "collapsed": false,
     "input": [
      "\n",
      "\n",
      "#Variable declaration:\n",
      "T1 = 15.0                   #Water entering temperature (\u00b0C)\n",
      "T2 = 60.0                   #Water leaving temperature (\u00b0C)\n",
      "D = 0.022                   #Inside diameter of tube (m)\n",
      "V = 0.355                   #Average water flow velocity (m/s)\n",
      "TC = 150.0                  #Outside wall temperature (\u00b0C)\n",
      "#From Appendix:\n",
      "p = 993.0                   #Density of water (kg/m^3)\n",
      "mu = 0.000683               #Dynamic viscosity of water (kg/m.s)\n",
      "Cp = 4.17*10**3             #Heat capacity of water (J/kg.K)\n",
      "k = 0.63                    #Thermal conductivity of water (W/m.K)\n",
      "\n",
      "#Calculation:\n",
      "Tav1 = (T1+T2)/2.0          #Average bulk temperature of water (\u00b0C)\n",
      "Re = D*V*p/mu               #Reynolds number\n",
      "Pr = Cp*mu/k                #Prandtl number\n",
      "Tav2 = (Tav1+TC)/2.0        #Fluid's average wall temperature (\u00b0C)\n",
      "#From Appendix:\n",
      "mu_w = 0.000306             #Dynamic viscosity of fluid at wall (kg/m.s)\n",
      "#From Table 9.5:\n",
      "h = (k/D)*0.027*Re**0.8*Pr**0.33*(mu/mu_w)**0.14    #Heat transfer coefficient for water (W/m^2.K)\n",
      "\n",
      "#Result:\n",
      "print \"The heat transfer coefficient for water is :\",round(h,1),\" W/m^2.K.\"\n"
     ],
     "language": "python",
     "metadata": {},
     "outputs": [
      {
       "output_type": "stream",
       "stream": "stdout",
       "text": [
        "The heat transfer coefficient for water is : 2497.3  W/m^2.K.\n"
       ]
      }
     ],
     "prompt_number": 11
    },
    {
     "cell_type": "heading",
     "level": 3,
     "metadata": {},
     "source": [
      "ILLUSTRATIVE EXAMPLE 9.13, Page number: 153"
     ]
    },
    {
     "cell_type": "code",
     "collapsed": false,
     "input": [
      "\n",
      "\n",
      "#Variable declaration:\n",
      "#From example 9.7:\n",
      "h = 38.7                    #Average heat transfer coefficient (W/m^2.K)\n",
      "L = 1.2                     #Length of plate (m)\n",
      "k = 0.025                   #Thermal conductivity of air (W/m)\n",
      "\n",
      "#Calculation:\n",
      "Bi = h*L/k                  #Average Biot number\n",
      "\n",
      "#Result:\n",
      "print \"The average Biot number is :\",round(Bi),\" .\""
     ],
     "language": "python",
     "metadata": {},
     "outputs": [
      {
       "output_type": "stream",
       "stream": "stdout",
       "text": [
        "The average Biot number is : 1858.0  .\n"
       ]
      }
     ],
     "prompt_number": 12
    },
    {
     "cell_type": "heading",
     "level": 3,
     "metadata": {},
     "source": [
      "ILLUSTRATIVE EXAMPLE 9.14, Page number: 154"
     ]
    },
    {
     "cell_type": "code",
     "collapsed": false,
     "input": [
      "\n",
      "from math import pi\n",
      "#Variable declaration:\n",
      "k = 60.0                    #Thermal conductivity of rod (W/m.K)\n",
      "p = 7850.0                  #Density of rod (kg/m^3)\n",
      "Cp = 434.0                  #Heat capacity of rod (J/kg.K)\n",
      "h = 140.0                   #Convection heat transfer coefficient (W/m^2.K)\n",
      "D = 0.01                    #Diameter of rod (m)\n",
      "kf = 0.6                    #Thermal conductivity of fluid (W/m.K)\n",
      "L = 2.5                     #Length of rod (m)\n",
      "Ts = 250.0                  #Surface temperature of rod (\u00b0C)\n",
      "Tf = 25.0                   #Fluid temperature (\u00b0C)\n",
      "\n",
      "#Calculation:\n",
      "#Case 1:\n",
      "a = k/(p*Cp)                #Thermal diffusivity of bare rod (m^2/s)\n",
      "#Case 2:\n",
      "Nu = h*D/kf                 #Nusselt number\n",
      "#Case 3:\n",
      "Bi = h*D/k                  #Biot number of bare rod\n",
      "#Case 4:\n",
      "Q = h*(pi*D*L)*(Ts-Tf)      #Heat transferred from rod to fluid (W)\n",
      "\n",
      "#Result:\n",
      "print \"1. The thermal diffusivity of the bare rod is :\",round(a/10**-5,2),\" x 10^-5 m^2/s.\"\n",
      "print \"2. The nusselt number is :\",round(Nu,2),\" .\"\n",
      "print \"3. The Biot number is :\",round(Bi,4),\" .\"\n",
      "print \"4. The heat transferred from the rod to the fluid is :\",round(Q),\" W.\""
     ],
     "language": "python",
     "metadata": {},
     "outputs": [
      {
       "output_type": "stream",
       "stream": "stdout",
       "text": [
        "1. The thermal diffusivity of the bare rod is : 1.76  x 10^-5 m^2/s.\n",
        "2. The nusselt number is : 2.33  .\n",
        "3. The Biot number is : 0.0233  .\n",
        "4. The heat transferred from the rod to the fluid is : 2474.0  W.\n"
       ]
      }
     ],
     "prompt_number": 14
    }
   ],
   "metadata": {}
  }
 ]
}