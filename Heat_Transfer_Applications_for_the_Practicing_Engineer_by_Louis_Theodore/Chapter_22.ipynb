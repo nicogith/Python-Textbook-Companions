{
 "metadata": {
  "name": "",
  "signature": "sha256:02a3e83bf8e73eb737ccd32c864c102b912719b43e71a2afa02159b5cd3f3cf2"
 },
 "nbformat": 3,
 "nbformat_minor": 0,
 "worksheets": [
  {
   "cells": [
    {
     "cell_type": "heading",
     "level": 1,
     "metadata": {},
     "source": [
      "Chapter 22: Design Principles and Industrial Applications"
     ]
    },
    {
     "cell_type": "heading",
     "level": 3,
     "metadata": {},
     "source": [
      "ILLUSTRATIVE EXAMPLE 22.6, Page number: 471"
     ]
    },
    {
     "cell_type": "code",
     "collapsed": false,
     "input": [
      "\n",
      "from __future__ import division\n",
      "from sympy import symbols,solve\n",
      "\n",
      "#Variable declaration:\n",
      "#From steam tables:\n",
      "h1 = 1572                           #Enthalpy for super heated steam at (P = 40 atm, T = 1000\u00b0F) (Btu/lb)\n",
      "h2 = 1316                           #Enthalpy for super heated steam at (P = 20 atm, T = 600\u00b0F) (Btu/lb)\n",
      "h3 = 1151                           #Enthalpy for saturated steam (Btu/lb)\n",
      "h4 = 28.1                           #Enthalpy for saturated water (Btu/lb)\n",
      "m1 = 1000                           #Mass flowrate of  steam (lb/h)\n",
      "m = symbols('m')                    #Mass flow rate of steam (lb/h)\n",
      "\n",
      "#Calculation:\n",
      "Dh1 = m1*(h3-h4)                    #The change in enthalpy for the vaporization of the water stream (Btu/h)\n",
      "Dh2 = m*(h1-h2)                     #The change in enthalpy for the cooling of the water stream (Btu/h)\n",
      "x = solve(Dh1-Dh2,m)                #Mass flowrate of steam (lb/h)\n",
      "m2 = x[0];                          #Mass flowrate of steam (lb/h)\n",
      "\n",
      "#Result:\n",
      "print \"The mass flowrate of the utility steam required is :\",round(m2),\" lb/h.\""
     ],
     "language": "python",
     "metadata": {},
     "outputs": [
      {
       "output_type": "stream",
       "stream": "stdout",
       "text": [
        "The mass flowrate of the utility steam required is : 4386.0  lb/h.\n"
       ]
      }
     ],
     "prompt_number": 6
    },
    {
     "cell_type": "heading",
     "level": 3,
     "metadata": {},
     "source": [
      "ILLUSTRATIVE EXAMPLE 22.7, Page number: 473"
     ]
    },
    {
     "cell_type": "code",
     "collapsed": false,
     "input": [
      "\n",
      "\n",
      "from __future__ import division\n",
      "\n",
      "#Variable declaration:\n",
      "#From table 22.1:\n",
      "QH1 = 12*10**6                  #Heat duty for process unit 1 (Btu/h)\n",
      "QH2 = 6*10**6                   #Heat duty for process unit 2 (Btu/h)\n",
      "QH3 = 23.5*10**6                #Heat duty for process unit 3 (Btu/h)\n",
      "QH4 = 17*10**6                  #Heat duty for process unit 4 (Btu/h)\n",
      "QH5 = 31*10**6                  #Heat duty for process unit 5 (Btu/h)\n",
      "T1 = 90                         #Supply water temperature (\u00b0F)\n",
      "T2 = 115                        #Return water temperature (\u00b0F)\n",
      "cP = 1                          #Cooling water heat capacity (Btu/(lb.\u00b0F))\n",
      "p = 62*0.1337                   #Density of water (lb/gal)\n",
      "BDR = 5/100                     #Blow-down rate\n",
      "\n",
      "#Calculation:\n",
      "QHL = (QH1+QH2+QH3+QH4+QH5)/60  #Heat load (Btu/min)\n",
      "DT = T2-T1                      #Change in temperature (\u00b0F)\n",
      "qCW = round(QHL,-5)/(DT*cP*p)   #Required cooling water flowrate (gpm)\n",
      "qBD = BDR*qCW                   #Blow-down flow (gpm)\n",
      "\n",
      "#Result:\n",
      "print \"The total flowrate of cooling water required for the services is :\",round(qCW,-1),\" gpm.\"\n",
      "print \"The required blow-down flow is :\",round(qBD),\" gpm.\""
     ],
     "language": "python",
     "metadata": {},
     "outputs": [
      {
       "output_type": "stream",
       "stream": "stdout",
       "text": [
        "The total flowrate of cooling water required for the services is : 7240.0  gpm.\n",
        "The required blow-down flow is : 362.0  gpm.\n"
       ]
      }
     ],
     "prompt_number": 7
    },
    {
     "cell_type": "heading",
     "level": 3,
     "metadata": {},
     "source": [
      "ILLUSTRATIVE EXAMPLE 22.8, Page number: 474"
     ]
    },
    {
     "cell_type": "code",
     "collapsed": false,
     "input": [
      "\n",
      "\n",
      "from __future__ import division\n",
      "\n",
      "#Variable declaration:\n",
      "Q1 = 10*10**6                       #Unit heat duty for process unit 1 (Btu/h)\n",
      "Q2 = 8*10**6                        #Unit heat duty for process unit 2 (Btu/h)\n",
      "Q3 = 12*10**6                       #Unit heat duty for process unit 3 (Btu/h)\n",
      "Q4 = 20*10**6                       #Unit heat duty for process unit 4 (Btu/h)\n",
      "hv = 751                            #Enthalpy of vaporization for pressure 500 psig (Btu/lb)\n",
      "\n",
      "#Calculation:\n",
      "mB1 = Q1/hv                         #Mass flowrate of 500 psig steam through unit 1 (lb/h)\n",
      "mB2 = Q2/hv                         #Mass flowrate of 500 psig steam through unit 2 (lb/h)\n",
      "mB3 = Q3/hv                         #Mass flowrate of 500 psig steam through unit 3 (lb/h)\n",
      "mB4 = Q4/hv                         #Mass flowrate of 500 psig steam through unit 4 (lb/h)\n",
      "mBT = mB1+mB2+mB3+mB4               #Total steam required (lb/h)\n",
      "\n",
      "#Result:\n",
      "print \"The total steam required is :\", round(mBT,-1),\" lb/h.\""
     ],
     "language": "python",
     "metadata": {},
     "outputs": [
      {
       "output_type": "stream",
       "stream": "stdout",
       "text": [
        "The total steam required is : 66580.0  lb/h.\n"
       ]
      }
     ],
     "prompt_number": 8
    },
    {
     "cell_type": "heading",
     "level": 3,
     "metadata": {},
     "source": [
      "ILLUSTRATIVE EXAMPLE 22.9, Page number: 474"
     ]
    },
    {
     "cell_type": "code",
     "collapsed": false,
     "input": [
      "\n",
      "\n",
      "from __future__ import division\n",
      "from sympy import symbols,solve\n",
      "from math import log,pi\n",
      "\n",
      "#Variable declaration:\n",
      "po = 53*16.0185                     #Density of oil (kg/m^3)\n",
      "co = 0.46*4186.7                    #Heat capacity of oil (J/kg.\u00b0C)\n",
      "muo = 150/1000                      #Dynamic viscosity of oil (kg/m.s)\n",
      "ko = 0.11*1.7303                    #Thermal conductivity of oil (W/m.\u00b0C)\n",
      "qo = 28830*4.381*10**-8             #Volumetric flowrate of oil (m^3/s)\n",
      "pw = 964                            #Density of water (kg/m^3)\n",
      "cw = 4204                           #Heat capacity of water (J/kg.\u00b0C)\n",
      "muw = 0.7/3600*1.4881               #Dynamic viscosity of water (kg/m.s)\n",
      "kw = 0.678                          #Thermal conductivity of water (W/m.\u00b0C)\n",
      "qw = 8406*4.381*10**-8              #Volumetric flowrate of water (m^3/s)\n",
      "t1 = 23.5                           #Initial temperature of oil (\u00b0C)\n",
      "t2 = 27                             #Final temperature of oil (\u00b0C)\n",
      "T1 = 93                             #Water heating temperature of water (\u00b0C)\n",
      "T2 = symbols('T2')                  #Minimum temperature of heating water (\u00b0C)\n",
      "A = symbols('A')                    #Heat transfer area (m^2)\n",
      "Uc = 35.4                           #Clean heat transfer coefficient (W/m^2.K)\n",
      "Rf = 0.0007                         #Thermal resistance (m^2.K/W)\n",
      "D = 6*0.0254                        #Inside diameter of pipe (m)\n",
      "\n",
      "#Calculation:\n",
      "vo = muo/po                         #Kinematic viscosity of oil (m^2/s)\n",
      "mo = po*qo                          #Mass flowrate of oil (kg/s)\n",
      "vw = muw/pw                         #Kinematic viscosity of  (m^2/s)\n",
      "mw = pw*qw                          #Masss flow rate of water (kg/s)\n",
      "Q1 = mo*co*(t2-t1)                  #Duty of exchanger of oil (W)\n",
      "T2m = t1                            #Lowest possible temperature of the water (\u00b0C) (part 1)\n",
      "Qmw = mw*cw*(T1-T2m)                #Maximum duty of exchanger of water (W) (part 2)\n",
      "Q2 = mw*cw*(T1-T2)                  #Duty of exchanger of water in terms of T2 (W)\n",
      "x = solve(Q1-Q2,T2)                 #Solving value for T2 (\u00b0C)\n",
      "T3 = x[0];                          #Minimum temperature of heating water (\u00b0C)\n",
      "DT1 = T3-t1                         #Inlet temperature difference (\u00b0C)\n",
      "DT2 = T1-t2                         #Outlet temperature difference (\u00b0C)\n",
      "DTlm = (DT1-DT2)/log(DT1/DT2)       #Log mean temperature difference (\u00b0C)\n",
      "Ud1 = 1/Uc+Rf                       #Dirty heat transfer coefficient (W/m^2.K) (part 3)\n",
      "Ud2 = 34.6                          #Dirty heat transfer coefficient (W/m^2.\u00b0C)\n",
      "Q3 = Ud2*A*DTlm                     #Duty of exchanger (W) (part 4)\n",
      "y = solve(Q1-Q3,A)                  #Heat transfer area (m^2)\n",
      "A1 = y[0];                          #Required heat transfer area (m^2)\n",
      "L = A1/(pi*D)                       #Required heat transfer length (m)\n",
      "Qmo = mo*co*(T1-t1)                 #Maximum duty of exchanger of oil (W) (part 5)\n",
      "Qm = Qmw                            #Maximum duty of exchanger (W)\n",
      "E = Q1/Qm*100                       #Effectiveness (%)\n",
      "NTU = Ud2*A1/(mw*cw)                #Number of transfer units\n",
      "\n",
      "#Result:\n",
      "print \"1. The lowest possible temperature of the water is :\",T2m,\" \u00b0C .\"\n",
      "print \"2. The log mean temperature difference is :\",round(DTlm,2),\" \u00b0C .\"\n",
      "print \"3. The overall heat transfer coefficient for the new clean exchanger is :\",round(Ud2,1),\" (W/m^2.\u00b0C .\"\n",
      "print \"4. The length of the double pipe heat exchanger is :\",round(L,2),\" m .\"\n",
      "print \"5. The effectiveness of the exchanger is :\",round(E,2),\" % .\"\n",
      "print \"   The NTU of the exchanger is :\",round(NTU,4),\" .\""
     ],
     "language": "python",
     "metadata": {},
     "outputs": [
      {
       "output_type": "stream",
       "stream": "stdout",
       "text": [
        "1. The lowest possible temperature of the water is : 23.5  \u00b0C .\n",
        "2. The log mean temperature difference is : 65.33  \u00b0C .\n",
        "3. The overall heat transfer coefficient for the new clean exchanger is : 34.6  (W/m^2.\u00b0C .\n",
        "4. The length of the double pipe heat exchanger is : 6.68  m .\n",
        "5. The effectiveness of the exchanger is : 6.97  % .\n",
        "   The NTU of the exchanger is : 0.0741  .\n"
       ]
      }
     ],
     "prompt_number": 9
    },
    {
     "cell_type": "heading",
     "level": 3,
     "metadata": {},
     "source": [
      "ILLUSTRATIVE EXAMPLE 22.10, Page number: 477"
     ]
    },
    {
     "cell_type": "code",
     "collapsed": false,
     "input": [
      "\n",
      "\n",
      "from __future__ import division\n",
      "from math import log,pi\n",
      "\n",
      "#Variable declaration:\n",
      "#From example 22.9:\n",
      "t1 = 23.5                           #Initial temperature of oil (\u00b0C)\n",
      "t2 = 27                             #Final temperature of oil (\u00b0C)\n",
      "T1 = 93                             #Water heating temperature of water (\u00b0C)\n",
      "T2 = 88.16                          #Minimum temperature of heating water (\u00b0C)\n",
      "U = 34.6                            #Overall heat transfer coefficient (W/m^2.\u00b0C)\n",
      "Q = 7227.2                          #Duty of exchanger (W)\n",
      "D = 6*0.0254                        #Inside diameter of pipe (m)\n",
      "l = 6.68                            #Previous heat transfer length (m)\n",
      "\n",
      "#Calculation:\n",
      "DT1 = T1-t1                         #Inlet temperature difference (\u00b0C)\n",
      "DT2 = T2-t2                         #Outlet temperature difference (\u00b0C)\n",
      "DTlm = (DT1-DT2)/log(DT1/DT2)       #Log mean temperature difference (\u00b0C)\n",
      "A = Q/(U*DTlm)                      #Required heat transfer area (m^2)\n",
      "L = A/(pi*D)                        #Required heat transfer length (m)\n",
      "\n",
      "#Result:\n",
      "print \"The length of the parallel pipe heat exchanger is :\",round(L,2),\" m .\"\n",
      "if L>l:\n",
      "    print \"The tube length would increase slightly.\"\n",
      "elif L<l:\n",
      "    print \"The tube length would decrease slightly.\""
     ],
     "language": "python",
     "metadata": {},
     "outputs": [
      {
       "output_type": "stream",
       "stream": "stdout",
       "text": [
        "The length of the parallel pipe heat exchanger is : 6.69  m .\n",
        "The tube length would increase slightly.\n"
       ]
      }
     ],
     "prompt_number": 10
    },
    {
     "cell_type": "heading",
     "level": 3,
     "metadata": {},
     "source": [
      "ILLUSTRATIVE EXAMPLE 22.12, Page number: 478"
     ]
    },
    {
     "cell_type": "code",
     "collapsed": false,
     "input": [
      "\n",
      "\n",
      "from __future__ import division\n",
      "from scipy.optimize import fsolve\n",
      "from math import log\n",
      "\n",
      "#Variable declaration:\n",
      "T = 80                                #Pipe surface temperature (\u00b0F)\n",
      "t1 = 10                               #Inlet temperature of brine solution (\u00b0F)\n",
      "m = 1200                              #mass flowrate of solution (kg/s)\n",
      "c = 0.99                              #Heat capacity of brine solution (Btu/lb.\u00b0F)\n",
      "A = 2.5                               #Heat transfer area (ft^2)\n",
      "U1 = 150                              #Overall heat transfer coefficient at temperature approach (Btu/h.ft^2.\u00b0F)\n",
      "U2 = 140                              #Overall heat transfer coefficient at inlet brine temperature (Btu/h.ft^2.\u00b0F)\n",
      "\n",
      "#Calculation:\n",
      "DT1 = T-t1                            #Temperature approach at the pipe entrance (\u00b0F)\n",
      "\n",
      "def equation(DT2):\n",
      "\tQ1 = m*c*(DT1-DT2)               #Energy balance to the brine solution across the full length of the pipe (Btu/h)\n",
      "\tDTlm = (DT1-DT2)*log(DT2/DT1)    #Log mean temperature difference (\u00b0F)\n",
      "\tQ2 = A*(U2*DT1-U1*DT2)/log((U2*DT1)/(U1*DT2)) #Heat transfer rate (Btu/h)\n",
      "\treturn Q2-Q1\t\n",
      "t2 = round(T-fsolve(equation,1),1)\t   #The temperature of the brine solution (\u00b0F)\n",
      "\n",
      "#Results:\n",
      "print 'The temperature of brine solution is: ',(t2-32)/1.8,'\u00b0C'"
     ],
     "language": "python",
     "metadata": {},
     "outputs": [
      {
       "output_type": "stream",
       "stream": "stdout",
       "text": [
        "The temperature of brine solution is:  -2.0 \u00b0C\n"
       ]
      }
     ],
     "prompt_number": 1
    },
    {
     "cell_type": "heading",
     "level": 3,
     "metadata": {},
     "source": [
      "ILLUSTRATIVE EXAMPLE 22.13, Page number: 479"
     ]
    },
    {
     "cell_type": "code",
     "collapsed": false,
     "input": [
      "\n",
      "\n",
      "from __future__ import division\n",
      "from math import log\n",
      "\n",
      "#Variable declaration:\n",
      "m = 1200                            #mass flowrate of solution (kg/s)\n",
      "c = 0.99                            #Heat capacity of brine solution (Btu/lb.\u00b0F)\n",
      "DT1 = 70                            #Temperature approach at the pipe entrance (\u00b0F)\n",
      "DT2 = 51.6                          #Temperature difference at the pipe exit (\u00b0F)\n",
      "\n",
      "#Calculation:\n",
      "Q = m*c*(DT1-DT2)                   #Heat transfer rate (Btu/h)\n",
      "DTlm = (DT1-DT2)/log(DT1/DT2)       #Log mean temperature difference (\u00b0F)\n",
      "\n",
      "#Result:\n",
      "print \"1. The rate of heat transfer is :\",round(Q,-1),\" Btu/h.\"\n",
      "print \"Or, the rate of heat transfer is :\",round(Q/3.412),\" W.\"\n",
      "print \"2. The log mean temperature difference is :\",round(DTlm,1),\" \u00b0F.\"\n",
      "print \"Or, the log mean temperature difference is :\",round(DTlm/1.8,1),\" \u00b0C.\""
     ],
     "language": "python",
     "metadata": {},
     "outputs": [
      {
       "output_type": "stream",
       "stream": "stdout",
       "text": [
        "1. The rate of heat transfer is : 21860.0  Btu/h.\n",
        "Or, the rate of heat transfer is : 6407.0  W.\n",
        "2. The log mean temperature difference is : 60.3  \u00b0F.\n",
        "Or, the log mean temperature difference is : 33.5  \u00b0C.\n"
       ]
      }
     ],
     "prompt_number": 13
    },
    {
     "cell_type": "heading",
     "level": 3,
     "metadata": {},
     "source": [
      "ILLUSTRATIVE EXAMPLE 22.23, Page number: 484"
     ]
    },
    {
     "cell_type": "code",
     "collapsed": false,
     "input": [
      "\n",
      "\n",
      "from __future__ import division\n",
      "from math import log\n",
      "\n",
      "#Variable declaration:\n",
      "Too = 100                           #Steam temperature (\u00b0C)\n",
      "Ti = 18                             #Initial temperature of liquid TCA (\u00b0C)\n",
      "Tf = 74                             #Final temperature of liquid TCA (\u00b0C)\n",
      "t = 180                             #Heating time (s)\n",
      "p = 87.4                            #Density of TCA (lb/ft^3)\n",
      "V = 18                              #Kinematic viscosity of TCA (m^2/s)\n",
      "cp = 0.23                           #Heat capacity of TCA (Btu/lb.\u00b0F)\n",
      "U = 200                             #Overall heat transfer coefficient (Btu/h.ft^2.\u00b0F)\n",
      "\n",
      "#Calculation:\n",
      "ui = Too-Ti                         #Initial excess temperature (\u00b0C)\n",
      "uf = Too-Tf                         #Final excess temperature (\u00b0C)\n",
      "R = log(ui/uf)                      #Ratio t/r\n",
      "r = t/R                             #Thermal time constant (s)\n",
      "A = p*V*cp/(3600*U*r)               #Required heating area (ft^3)\n",
      "Ti_F = Ti*9/5+32                    #Initial temperature in fahrenheit scale (\u00b0F)\n",
      "Tf_F = Tf*9/5+32                    #Final temperature in fahrenheit scale (\u00b0F)\n",
      "Q = p*V*cp*(Tf_F-Ti_F)              #Total amount of heat added (Btu)\n",
      "\n",
      "#Result:\n",
      "print \"1. The required surface area of the heating coil is :\",(A,1),\" ft^3 .\"\n",
      "print \"2. The total heat added to the liquid TCA is :\",round(Q),\" Btu .\""
     ],
     "language": "python",
     "metadata": {},
     "outputs": [
      {
       "output_type": "stream",
       "stream": "stdout",
       "text": [
        "1. The required surface area of the heating coil is : (3.2068907918330814e-06, 1)  ft^3 .\n",
        "2. The total heat added to the liquid TCA is : 36473.0  Btu .\n"
       ]
      }
     ],
     "prompt_number": 25
    },
    {
     "cell_type": "heading",
     "level": 3,
     "metadata": {},
     "source": [
      "ILLUSTRATIVE EXAMPLE 22.24, Page number: 486"
     ]
    },
    {
     "cell_type": "code",
     "collapsed": false,
     "input": [
      "\n",
      "#Variable declaration:\n",
      "m1 = 62000                      #Mass flowrate of alcohol (lb/h)\n",
      "h1 = 365                        #Enthalpy of vapour (Btu/lb)\n",
      "cp = 1                          #Heat capacity of water (Btu/lb.\u00b0F)\n",
      "T1 = 85                         #Entering temperature of water (\u00b0F)\n",
      "T2 = 120                        #Exit temperature of water (\u00b0F)\n",
      "a1 = 2.11                       #Flow area for the shell side (ft^2)\n",
      "N = 700                         #Total number of tubes\n",
      "a2 = 0.546                      #Flow area per tube (in^2/tube)\n",
      "n = 4                           #Number of tube passes\n",
      "p = 62.5                        #Density of water (lb/ft^3)\n",
      "L = 16                          #Length of condenser (ft)\n",
      "hio = 862.4                     #Cooling water inside film coefficient (Btu/h.ft^2.\u00b0F)\n",
      "g = 9.8                         #Gravitational accleration (m^2/s)\n",
      "Rf = 0.003                      #Fouling factor (Btu/h.ft^2.\u00b0F)\n",
      "\n",
      "#Calculation:\n",
      "Q1 = m1*h1                      #Heat loss from alcohol (Btu/h)\n",
      "Q2 = Q1                         #Heat gained by water (Btu/h)\n",
      "DT = T2-T1                      #Temperature difference (\u00b0F)\n",
      "m2 = Q2/(cp*DT)                 #Water mass flow rate (lb/h)\n",
      "LMTD = ((T2-32)-(T1-32))/log((T2-32)/(T1-32))   #Log mean temperature difference (\u00b0F)\n",
      "at = (N*a2)/(144*n)             #Total flow area for tube side (ft^2)\n",
      "G1 = m1/a1                      #Mass velocity of flow in shell side (lb/h.ft^2)\n",
      "G2 = m2/at                      #Mass velocity of flow in tube side (lb/h.ft^2)\n",
      "V = G2/(3600*p)                 #Velocity of water (ft/s)\n",
      "G3 = m1/(L*N)**(2/3)            #Loading G (lb/h.ft)\n",
      "#For alcohol:\n",
      "kf = 0.105                      #Thermal conductivity (Btu/h.ft.\u00b0F)\n",
      "muf = 0.55*2.42                 #Dynamic viscosity (lb/ft.h)\n",
      "sf = 0.79                       #\n",
      "pf = sf*p                       #Density (lb/ft^3)\n",
      "h = 151*(((kf**3)*(pf**2)*g*muf)/((muf**2)*n*G3))**(1/3)   #Heat transfer coefficient for the shell side (Btu/h.ft^2.\u00b0F)\n",
      "ho = h                          #Outside heat transfer coefficient of the tube bundle (Btu/h.ft^2.\u00b0F)\n",
      "Uc = (hio*ho)/(hio+ho)          #Overall heat transfer coefficient for a new (clean) heat exchanger (Btu/h.ft^2.\u00b0F)\n",
      "A = N*L*0.2618                  #Area for heat transfer (ft^2)\n",
      "Ud = Q1/(A*DT)                  #Design (D) overall heat transfer coefficient (Btu/h.ft^2.\u00b0F)\n",
      "Rd = (Uc-Ud)/(Uc*Ud)            #Dirt (d) factor (Btu/h.ft^2.\u00b0F)\n",
      "\n",
      "#Result:\n",
      "print \"The dirt (d) factor is :\",round(Rd,4),\" Btu/h.ft^2.\u00b0F .\"\n",
      "if (Rd>Rd):\n",
      "    print \"Therefore, the exchanger as specified is unsuitable for these process conditions since the fouling factor is above the recommended value. Cleaning is recommended.\"\n",
      "else:\n",
      "    print \"Therefore, the exchanger as specified is suitable for these process conditions since the fouling factor is below the recommended value. Cleaning is not recommended.\""
     ],
     "language": "python",
     "metadata": {},
     "outputs": [
      {
       "output_type": "stream",
       "stream": "stdout",
       "text": [
        "The dirt (d) factor is : -0.0157  Btu/h.ft^2.\u00b0F .\n",
        "Therefore, the exchanger as specified is suitable for these process conditions since the fouling factor is below the recommended value. Cleaning is not recommended.\n"
       ]
      }
     ],
     "prompt_number": 27
    }
   ],
   "metadata": {}
  }
 ]
}