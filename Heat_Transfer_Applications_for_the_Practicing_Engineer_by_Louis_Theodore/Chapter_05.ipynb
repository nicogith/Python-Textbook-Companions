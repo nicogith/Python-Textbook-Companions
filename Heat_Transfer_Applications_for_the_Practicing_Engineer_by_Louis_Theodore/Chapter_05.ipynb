{
 "metadata": {
  "name": "",
  "signature": "sha256:33ba4a11fa0be53b880079008a0280bb47a9d8531c545010b70c7a3f75197aa0"
 },
 "nbformat": 3,
 "nbformat_minor": 0,
 "worksheets": [
  {
   "cells": [
    {
     "cell_type": "heading",
     "level": 1,
     "metadata": {},
     "source": [
      "Chapter 5: Gas Laws"
     ]
    },
    {
     "cell_type": "heading",
     "level": 3,
     "metadata": {},
     "source": [
      "ILLUSTRATIVE EXAMPLE 5.1, Page number: 56"
     ]
    },
    {
     "cell_type": "code",
     "collapsed": false,
     "input": [
      "\n",
      "#Variable declaration:\n",
      "qi = 3500                       #Initial volumetric flow rate of gas (acfm)\n",
      "Ti = 100.0                      #Initial temperature (\u00b0F)\n",
      "Tf = 300.0                      #Final temperature (\u00b0F)\n",
      "\n",
      "#Calculation:\n",
      "Ti_R = Ti+460                   #Initial temperatur in Rankine scale (\u00b0R)\n",
      "Tf_R = Tf+460                   #Final temperatur in Rankine scale (\u00b0R)\n",
      "qf = qi*(Tf_R/Ti_R)             #Final volumetric flow rate of gas (acfm)\n",
      "\n",
      "#Result:\n",
      "print \"The final volumetric flow rate of gas is :\",round(qf),\" acfm\""
     ],
     "language": "python",
     "metadata": {},
     "outputs": [
      {
       "output_type": "stream",
       "stream": "stdout",
       "text": [
        "The final volumetric flow rate of gas is : 4750.0  acfm\n"
       ]
      }
     ],
     "prompt_number": 1
    },
    {
     "cell_type": "heading",
     "level": 3,
     "metadata": {},
     "source": [
      "ILLUSTRATIVE EXAMPLE 5.2, Page number: 57"
     ]
    },
    {
     "cell_type": "code",
     "collapsed": false,
     "input": [
      "\n",
      "\n",
      "#Variable declaration:\n",
      "qi = 3500                       #Initial volumetric flow rate of gas (acfm)\n",
      "Pi = 1.0                        #Iitial pressure (atm)\n",
      "Pf = 3.0                        #Final pressure (atm)\n",
      "\n",
      "#Calculation:\n",
      "qf = qi*(Pi/Pf)                 #Final volumetric flow rate of gas (acfm)\n",
      "\n",
      "#Result:\n",
      "print \"The volumetric flow rate of the gas (100\u00b0F, 1 atm) is:\",round(qf),\" acfm\""
     ],
     "language": "python",
     "metadata": {},
     "outputs": [
      {
       "output_type": "stream",
       "stream": "stdout",
       "text": [
        "The volumetric flow rate of the gas (100\u00b0F, 1 atm) is: 1167.0  acfm\n"
       ]
      }
     ],
     "prompt_number": 2
    },
    {
     "cell_type": "heading",
     "level": 3,
     "metadata": {},
     "source": [
      "ILLUSTRATIVE EXAMPLE 5.3, Page number: 57"
     ]
    },
    {
     "cell_type": "code",
     "collapsed": false,
     "input": [
      "\n",
      "\n",
      "#Variable declaration:\n",
      "qi = 3500                       #Initial volumetric flow rate of the gas (acfm)\n",
      "Pi = 1.0                        #Initial pressure (atm)\n",
      "Pf = 3.0                        #Final pressure (atm)\n",
      "Tf = 300.0+460.0                #Final temperature in Rankine scale (\u00b0R)\n",
      "Ti = 100.0+460.0                #Initial temperature in Rankine scale (\u00b0R)\n",
      "\n",
      "#Calculation:\n",
      "qf = qi*(Pi/Pf)*(Tf/Ti)         #Final volumetric flow rate of the gas (acfm)\n",
      "\n",
      "#Result:\n",
      "print \"The volumetric flow rate of the gas at 300\u00b0F temperature is :\",round(qf),\" acfm\""
     ],
     "language": "python",
     "metadata": {},
     "outputs": [
      {
       "output_type": "stream",
       "stream": "stdout",
       "text": [
        "The volumetric flow rate of the gas at 300\u00b0F temperature is : 1583.0  acfm\n"
       ]
      }
     ],
     "prompt_number": 4
    },
    {
     "cell_type": "heading",
     "level": 3,
     "metadata": {},
     "source": [
      "ILLUSTRATIVE EXAMPLE 5.4, Page number: 59"
     ]
    },
    {
     "cell_type": "code",
     "collapsed": false,
     "input": [
      "\n",
      "\n",
      "#Variable declaration:\n",
      "P = 14.7                    #Absolute pressure of air (psia)\n",
      "MW = 29                     #Molecular weight of air (lb/lbmol)\n",
      "T = 75+460                  #Temperature in Rankine scale (\u00b0R)\n",
      "R = 10.73                   #Universal gas constant (ft^3.psi/lbmol.\u00b0R)\n",
      "\n",
      "#Calculation:\n",
      "p = P*MW/R/T                #Density of air (lb/ft^3)\n",
      "\n",
      "#Result:\n",
      "print \"The density of air at 75\u00b0F and 14.7 psia is :\",round(p,4),\" lb/ft^3\""
     ],
     "language": "python",
     "metadata": {},
     "outputs": [
      {
       "output_type": "stream",
       "stream": "stdout",
       "text": [
        "The density of air at 75\u00b0F and 14.7 psia is : 0.0743  lb/ft^3\n"
       ]
      }
     ],
     "prompt_number": 5
    },
    {
     "cell_type": "heading",
     "level": 3,
     "metadata": {},
     "source": [
      "ILLUSTRATIVE EXAMPLE 5.5, Page number: 59"
     ]
    },
    {
     "cell_type": "code",
     "collapsed": false,
     "input": [
      "\n",
      "\n",
      "#Variable declaration:\n",
      "n = 1                           #Molar flow rate of gas (lbmol/h)\n",
      "R = 10.73                       #Universal gas constant (ft^3.psi/lbmol.\u00b0R)\n",
      "T = 60+460                      #Temperature in Rankine scale (\u00b0R)\n",
      "P = 14.7                        #Absolute pressure of gas (psia)\n",
      "\n",
      "#Calculation:\n",
      "V = n*R*T/P                     #Volume of gas (ft^3)\n",
      "\n",
      "#Result:\n",
      "print \"The volume of given ideal gas is :\",round(V,1),\" ft^3\""
     ],
     "language": "python",
     "metadata": {},
     "outputs": [
      {
       "output_type": "stream",
       "stream": "stdout",
       "text": [
        "The volume of given ideal gas is : 379.6  ft^3\n"
       ]
      }
     ],
     "prompt_number": 6
    },
    {
     "cell_type": "heading",
     "level": 3,
     "metadata": {},
     "source": [
      "ILLUSTRATIVE EXAMPLE 5.6, Page number: 59"
     ]
    },
    {
     "cell_type": "code",
     "collapsed": false,
     "input": [
      "\n",
      "\n",
      "#Variable declaration:\n",
      "P = 1.2                         #Abslute pressure of gas (psia)\n",
      "MW = 29                         #Molecular weight of gas (g/gmol)\n",
      "R = 82.06                       #Universal gas constant (atm.cm^3/gmol.K)\n",
      "T = 20+273                      #Temperature in Kelvin (K)\n",
      "\n",
      "#Calculation:\n",
      "p = P*MW/R/T                    #Dendity of gas (g/cm^3)\n",
      "\n",
      "#Result:\n",
      "print \"The density of given gas is :\",round(p,5),\" g/cm^3\""
     ],
     "language": "python",
     "metadata": {},
     "outputs": [
      {
       "output_type": "stream",
       "stream": "stdout",
       "text": [
        "The density of given gas is : 0.00145  g/cm^3\n"
       ]
      }
     ],
     "prompt_number": 7
    },
    {
     "cell_type": "heading",
     "level": 3,
     "metadata": {},
     "source": [
      "ILLUSTRATIVE EXAMPLE 5.7, Page number: 60"
     ]
    },
    {
     "cell_type": "code",
     "collapsed": false,
     "input": [
      "\n",
      "\n",
      "#Variable declaration:\n",
      "R = 10.73                       #Universal gas constant (psia . ft^3/lbmol .\u00b0R)\n",
      "T = 70+460                      #Temperature in Rankine scale (\u00b0R)\n",
      "v = 10.58                       #Specific volume (ft^3/lb)\n",
      "P = 14.7                        #Absolute pressure (psia)\n",
      "\n",
      "#Calculation:\n",
      "MW = R*T/v/P                    #Molecular weight of gas (lb/lbmol)\n",
      "\n",
      "#Result:\n",
      "print \"The molecular weight of the gas is :\",round(MW,2),\" lb/lbmol.\"\n",
      "print \"It appears that the gas is HCl (i.e., hydrogen chloride).\""
     ],
     "language": "python",
     "metadata": {},
     "outputs": [
      {
       "output_type": "stream",
       "stream": "stdout",
       "text": [
        "The molecular weight of the gas is : 36.57  lb/lbmol.\n",
        "It appears that the gas is HCl (i.e., hydrogen chloride).\n"
       ]
      }
     ],
     "prompt_number": 7
    },
    {
     "cell_type": "heading",
     "level": 3,
     "metadata": {},
     "source": [
      "ILLUSTRATIVE EXAMPLE 5.8, Page number: 61"
     ]
    },
    {
     "cell_type": "code",
     "collapsed": false,
     "input": [
      "\n",
      "\n",
      "#Variable declaration:\n",
      "qs = 30000                      #Volumetric flow rate at standard conditions (scfm)\n",
      "Ta = 1100+460                   #Actual absolute temperature in Rankine scale (\u00b0R)\n",
      "Ts = 60+460                     #Standard absolute temperature in Rankine scale (\u00b0R)\n",
      "\n",
      "#Calculation:\n",
      "qa = qs*Ta/Ts                   #Volumetric flow rate at actual conditions (acfm)\n",
      "\n",
      "#Result:\n",
      "print \"The volumetric flow rate in actual cubic feet per minute is :\",round(qa),\"  acfm\""
     ],
     "language": "python",
     "metadata": {},
     "outputs": [
      {
       "output_type": "stream",
       "stream": "stdout",
       "text": [
        "The volumetric flow rate in actual cubic feet per minute is : 90000.0   acfm\n"
       ]
      }
     ],
     "prompt_number": 9
    },
    {
     "cell_type": "heading",
     "level": 3,
     "metadata": {},
     "source": [
      "ILLUSTRATIVE EXAMPLE 5.9, Page number: 62"
     ]
    },
    {
     "cell_type": "code",
     "collapsed": false,
     "input": [
      "\n",
      "\n",
      "#Variable declaration:\n",
      "qs = 1000                       #Volumetric flow rate at standard conditions (scfm)\n",
      "Ta = 300+460                    #Actual absolute temperature in Rankine scale (\u00b0R)\n",
      "Ts = 70+460                     #Standard absolute temperature in Rankine scale (\u00b0R)\n",
      "A = 2.0                         #Inlet area of stack (ft^2)\n",
      "\n",
      "#Calculations:\n",
      "qa = qs*Ta/Ts                   #Volumetric flow rate at actual conditions (acfm)\n",
      "v = qa/A/60                     #Velocity of gas (ft/s)\n",
      "\n",
      "#Result:\n",
      "print \"The velocity of the gas through the stack inlet is :\",round(v),\" ft/s\""
     ],
     "language": "python",
     "metadata": {},
     "outputs": [
      {
       "output_type": "stream",
       "stream": "stdout",
       "text": [
        "The velocity of the gas through the stack inlet is : 12.0  ft/s\n"
       ]
      }
     ],
     "prompt_number": 10
    },
    {
     "cell_type": "heading",
     "level": 3,
     "metadata": {},
     "source": [
      "ILLUSTRATIVE EXAMPLE 5.10, Page number: 62"
     ]
    },
    {
     "cell_type": "code",
     "collapsed": false,
     "input": [
      "\n",
      "\n",
      "#Variable declaration:\n",
      "qs1 = 5000.0                    #Volumetric flow rate of C6H5Cl at standard conditions (scfm)\n",
      "qs2 = 3000.0                    #Volumetric flow rate of air at standard conditions (scfm)\n",
      "Ta = 70+460.0                   #Actual absolute temperature in Rankine scale (\u00b0R)\n",
      "Ts = 60+460.0                   #Standard absolute temperature in Rankine scale (\u00b0R)\n",
      "V = 387.0                       #Volume occupied by one lbmol of any ideal gas (ft^3)\n",
      "M1 = 112.5                      #Molecular weight of C6H5Cl (lb/lbmol)\n",
      "M2 = 29.0                       #Molecular weight of air (lb/lbmol)\n",
      "T = 60.0                        #Absolute temperature (\u00b0F)\n",
      "\n",
      "#Calculations:\n",
      "qa1 = qs1*(Ta/Ts)               #Volumetric flow rate of C6H5Cl at actual conditions (acfm)\n",
      "qa2 = qs2*(Ta/Ts)               #Volumetric flow rate of air at actual conditions (acfm)\n",
      "n1 = qa1/V                      #Molar flow rate of C6H5Cl (lbmol/min)\n",
      "n2 = qa2/V                      #Molar flow rate of air (lbmol/min)\n",
      "m1 = n1*M1*T                    #Mass flow rate of C6H5Cl (lb/h)\n",
      "m2 = n2*M2*T                    #Mass flow rate of air (lb/h)\n",
      "m_in = m1+m2                    #Total mass flow rate of both streams entering the oxidizer (lb/h)\n",
      "m_out = m_in                    #Total mass flow rate of both streams exit the cooler (lb/h)\n",
      "\n",
      "#Result:\n",
      "print \"The rate of the products exit the cooler is :\",round(m_out),\" lb/h\""
     ],
     "language": "python",
     "metadata": {},
     "outputs": [
      {
       "output_type": "stream",
       "stream": "stdout",
       "text": [
        "The rate of the products exit the cooler is : 102634.0  lb/h\n"
       ]
      }
     ],
     "prompt_number": 11
    },
    {
     "cell_type": "heading",
     "level": 3,
     "metadata": {},
     "source": [
      "ILLUSTRATIVE EXAMPLE 5.11, Page number: 64"
     ]
    },
    {
     "cell_type": "code",
     "collapsed": false,
     "input": [
      "\n",
      "#Variable declaration:\n",
      "p = 0.15                        #Partial pressure of SO3 (mm Hg)\n",
      "P = 760.0                       #Atmospheric pressure (mm Hg)\n",
      "m = 10**6                       #Particles in a million\n",
      "\n",
      "#Calculation:\n",
      "y = p/P                         #Mole fraction of SO3\n",
      "ppm = y*m                       #Parts per million of SO3 (ppm)\n",
      "\n",
      "#Result:\n",
      "print \"The parts per million of SO3 in the exhaust is :\",round(ppm),\" ppm .\""
     ],
     "language": "python",
     "metadata": {},
     "outputs": [
      {
       "output_type": "stream",
       "stream": "stdout",
       "text": [
        "The parts per million of SO3 in the exhaust is : 197.0  ppm .\n"
       ]
      }
     ],
     "prompt_number": 12
    }
   ],
   "metadata": {}
  }
 ]
}