{
 "metadata": {
  "name": "",
  "signature": "sha256:4239ad8a8aef7d8398d3c69721341c39df37be6f21def1df2b04a8d6ccbef700"
 },
 "nbformat": 3,
 "nbformat_minor": 0,
 "worksheets": [
  {
   "cells": [
    {
     "cell_type": "heading",
     "level": 1,
     "metadata": {},
     "source": [
      "Chapter 18: Other Heat Exchange Equipment"
     ]
    },
    {
     "cell_type": "heading",
     "level": 3,
     "metadata": {},
     "source": [
      "ILLUSTRATIVE EXAMPLE 18.2, Page number: 384"
     ]
    },
    {
     "cell_type": "code",
     "collapsed": false,
     "input": [
      "\n",
      "\n",
      "from __future__ import division\n",
      "\n",
      "#Variable declaration:\n",
      "T1 = 25                      #Temperature of H2SO4 (\u00b0C)\n",
      "m = 50+200                   #Mass of H2SO4 (lb)\n",
      "#From figure 18.2:\n",
      "W1 = 50+100                  #Weight of H2SO4 (lb)\n",
      "W2 = 100                     #Weight of H2O (lb)\n",
      "\n",
      "#Calculation:\n",
      "m = W1/(W1+W2)*100          #Percent weight of H2SO4 (%)\n",
      "m2 = W1+W2                  #Mass of mixture (lb)\n",
      "#From fgure 18.2:\n",
      "T2 = 140                    #Final temperature between the 50% solution and pure H2SO4 at  25\u00b0C (\u00b0F)\n",
      "h1 = -86                    #Specific heat capacity of H2O (Btu/lb)\n",
      "h2 = -121.5                 #Specific heat capacity of H2SO4 (Btu/lb)\n",
      "Q = m2*(h2-h1)              #Heat transferred (Btu)\n",
      "\n",
      "#Result:\n",
      "print \"The final temperature between the 50% solution and pure H2SO4 at  25\u00b0C is :\",round(T2),\" \u00b0F .\"\n",
      "print \"The heat transferred is :\",round(Q),\" Btu .\""
     ],
     "language": "python",
     "metadata": {},
     "outputs": [
      {
       "output_type": "stream",
       "stream": "stdout",
       "text": [
        "The final temperature between the 50% solution and pure H2SO4 at  25\u00b0C is : 140.0  \u00b0F .\n",
        "The heat transferred is : -8875.0  Btu .\n"
       ]
      }
     ],
     "prompt_number": 2
    },
    {
     "cell_type": "heading",
     "level": 3,
     "metadata": {},
     "source": [
      "ILLUSTRATIVE EXAMPLE 18.3, Page number: 386"
     ]
    },
    {
     "cell_type": "code",
     "collapsed": false,
     "input": [
      "\n",
      "\n",
      "from __future__ import division\n",
      "\n",
      "#Variable declaration:\n",
      "F = 10000                       #Mass flow rate of NaOH (lb/h)\n",
      "C1 = 10                         #Old concentration of NaOH solution (%)\n",
      "C2 = 75                         #New concentration of NaOH solution (%)\n",
      "h1 = 1150                       #Enthalpy of saturated steam at 14.7 psia (Btu/lb)\n",
      "U = 500                         #Overall heat transfer coefficient (Btu/h.ft^2.\u00b0F)\n",
      "T1 = 212                        #Absolute temperature of evaporator (\u00b0F)\n",
      "T2 = 340                        #Saturated steam temperature (\u00b0F)\n",
      "\n",
      "#Calculation:\n",
      "L = F*(C1/100)/(C2/100)         #Flow rate of steam leaving the evaporator (lb/h)\n",
      "V = F-L                         #Overall material balance (lb/h)\n",
      "#From figure 18.3:\n",
      "hF = 81                         #Enthalpy of solution entering the unit (Btu/lb)\n",
      "hL = 395                        #Enthalpy of the 75% NaOH solution (Btu/lb)\n",
      "Q = round(V)*h1+round(L)*hL-F*hF    #Evaporator heat required (Btu/h)\n",
      "A = Q/(U*(T2-T1))               #Area of the evaporaor (ft^2)\n",
      "\n",
      "#Result:\n",
      "print \"The heat transfer rate required for the evaporator is :\",round(Q,-2),\" Btu/h .\"\n",
      "print \"The area requirement in the evaporator is :\",round(A,1),\" ft^2 .\""
     ],
     "language": "python",
     "metadata": {},
     "outputs": [
      {
       "output_type": "stream",
       "stream": "stdout",
       "text": [
        "The heat transfer rate required for the evaporator is : 9683600.0  Btu/h .\n",
        "The area requirement in the evaporator is : 151.3  ft^2 .\n"
       ]
      }
     ],
     "prompt_number": 3
    },
    {
     "cell_type": "heading",
     "level": 3,
     "metadata": {},
     "source": [
      "ILLUSTRATIVE EXAMPLE 18.4, Page number: 388"
     ]
    },
    {
     "cell_type": "code",
     "collapsed": false,
     "input": [
      "\n",
      "\n",
      "from __future__ import division\n",
      "\n",
      "#Variable declaration:\n",
      "U1 = 240                    #Overall heat transfer coefficient for first effect (Btu/h.ft^2.\u00b0F)\n",
      "U2 = 200                    #Overall heat transfer coefficient for second effect (Btu/h.ft^2.\u00b0F)\n",
      "U3 = 125                    #Overall heat transfer coefficient for third effect (Btu/h.ft^2.\u00b0F)\n",
      "A1 = 125                    #Heating surface area in first effect (ft^3)\n",
      "A2 = 150                    #Heating surface area in second effect (ft^3)\n",
      "A3 = 160                    #Heating surface area in third effect (ft^3)\n",
      "T1 = 400                    #Condensation stream temperature in the first effect (\u00b0F)\n",
      "T2 = 120                    #Vapor leaving temperature in the first effect (\u00b0F)\n",
      "\n",
      "#Calculation:\n",
      "R1 = 1/(U1*A1)              #Resistance across first effect\n",
      "R2 = 1/(U2*A2)              #Resistance across second effect\n",
      "R3 = 1/(U3*A3)              #Resistance across third effect\n",
      "R = R1+R2+R3                #Total resistance\n",
      "DT1 = (R1/R)*(T1-T2)        #Temperature drop across the heating surface in the first effect (\u00b0F)\n",
      "\n",
      "#Result:\n",
      "print \"The temperature drop across the heating surface in the first effect is :\",round(DT1),\" \u00b0F .\""
     ],
     "language": "python",
     "metadata": {},
     "outputs": [
      {
       "output_type": "stream",
       "stream": "stdout",
       "text": [
        "The temperature drop across the heating surface in the first effect is : 80.0  \u00b0F .\n"
       ]
      }
     ],
     "prompt_number": 4
    },
    {
     "cell_type": "heading",
     "level": 3,
     "metadata": {},
     "source": [
      "ILLUSTRATIVE EXAMPLE 18.6, Page number: 389"
     ]
    },
    {
     "cell_type": "code",
     "collapsed": false,
     "input": [
      "\n",
      "from __future__ import division\n",
      "\n",
      "#Variable declaration:\n",
      "F = 5000                        #Mass of soltuion fed in the evaporator (lb)\n",
      "xF = 2/100                      #Concentration of feed\n",
      "xL = 5/100                      #Concentration of liquor\n",
      "U = 280                         #Overall heat transfer coefficient (Btu/h.ft^2.\u00b0F)\n",
      "#From figure 18.1 & 18.3:\n",
      "TF = 100                        #Feed temperature (\u00b0F)\n",
      "TS = 227                        #Steam temperature (\u00b0F)\n",
      "TV = 212                        #Vapour temperature (\u00b0F)\n",
      "TL = 212                        #Liquor temperature (\u00b0F)\n",
      "TC = 227                        #Condensate temperature (\u00b0F)\n",
      "\n",
      "#Calculation:\n",
      "#From steam tables:\n",
      "hF = 68                         #Enthalpy of feed (Btu/lb)\n",
      "hL = 180                        #Enthalpy of liquor (Btu/lb)\n",
      "hV = 1150                       #Enthalpy of vapour (Btu/lb)\n",
      "hS = 1156                       #Enthalpy of steam (Btu/lb)\n",
      "hC = 195                        #Enthalpy of condensate (Btu/lb)\n",
      "s1 = F*xF                       #Total solids in feed (lb)\n",
      "w = F-s1                        #Total water in feed (lb)\n",
      "s2 = F*xF                       #Total solids in liquor (lb)\n",
      "L = s2/xL                       #Total water in liquor (lb)\n",
      "V = F-L                         #Overall balance (lb)\n",
      "S = (V*hV+L*hL-F*hF)/(hS-hC)    #Mass of steam (lb)\n",
      "Q = S*(hS-hC)                   #Total heat requirement (Btu)\n",
      "A = Q/(U*(TS-TL))               #Required surface aea (ft^2)\n",
      "\n",
      "#Result:\n",
      "print \"The mass of vapor produced is :\",round(V),\" lb .\"\n",
      "print \"The total mass of steam required is :\",round(S),\" lb .\"\n",
      "print \"The surface area required is :\",round(A),\" ft^2 .\""
     ],
     "language": "python",
     "metadata": {},
     "outputs": [
      {
       "output_type": "stream",
       "stream": "stdout",
       "text": [
        "The mass of vapor produced is : 3000.0  lb .\n",
        "The total mass of steam required is : 3611.0  lb .\n",
        "The surface area required is : 826.0  ft^2 .\n"
       ]
      }
     ],
     "prompt_number": 6
    },
    {
     "cell_type": "heading",
     "level": 3,
     "metadata": {},
     "source": [
      "ILLUSTRATIVE EXAMPLE 18.7, Page number: 390"
     ]
    },
    {
     "cell_type": "code",
     "collapsed": false,
     "input": [
      "\n",
      "\n",
      "from __future__ import division\n",
      "\n",
      "#Variable declaration:\n",
      "F = 5000                        #Mass flow rate of NaOH (lb/h)\n",
      "xF = 20/100                     #Old concentration of NaOH solution\n",
      "TF = 100                        #Feed temperature (\u00b0F)\n",
      "xL = 40/100                     #New concentration of NaOH solution\n",
      "xv = 0                          #Vapour concentration at x\n",
      "yv = 0                          #Vapour concentration at y\n",
      "T1 = 198                        #Boiling temperature of solution in the evaporator (\u00b0F)\n",
      "T2 = 125                        #Saturated steam temperature (\u00b0F)\n",
      "U = 400                         #Overall heat transfer coefficient (Btu/h.ft^2.\u00b0F)\n",
      "Ts = 228                        #Steam temperature (\u00b0F)\n",
      "\n",
      "#Calculation:\n",
      "#From steam tables at 228\u00b0F and 5 psig:\n",
      "hS = 1156                       #Enthalpy of steam (Btu/lb)\n",
      "hC = 196                        #Enthalpy of condensate (Btu/lb)\n",
      "hV = hS-hC                      #Enthalpy of vapour (Btu/lb)\n",
      "Tw = 125.4                      #Boiling point of water at 4 in Hg absolute (\u00b0F)\n",
      "hS2 = 1116                      #Enthalpy of saturated steam at 125\u00b0F (Btu/lb)\n",
      "hs = 0.46                       #Heat capacity of superheated steam (Btu/lb.\u00b0F)\n",
      "#From figure 18.3:\n",
      "hF = 55                         #Enthalpy of feed (Btu/lb)\n",
      "hL = 177                        #Enthalpy of liquor (Btu/lb)\n",
      "L = F*xF/xL                     #Mass of liquor (lb)\n",
      "V = L                           #Mass of vapour (lb)\n",
      "hV = hS2+hs*(T1-T2)             #Enthalpy of vapour leaving the solution (Btu/lb)\n",
      "S = (V*hV+L*hL-F*hF)/(hS-hC)    #Mass flow rate of steam (lb/h)\n",
      "Q = S*(hS-hC)                   #Total heat requirement (Btu)\n",
      "A = Q/(U*(Ts-T1))               #Required heat transfer area (ft^2)\n",
      "\n",
      "#Result:\n",
      "print \"The steam flow rate is :\",round(S,-1),\" lb/h .\"\n",
      "print \"The required heat transfer area is :\",round(A),\" ft^2 .\""
     ],
     "language": "python",
     "metadata": {},
     "outputs": [
      {
       "output_type": "stream",
       "stream": "stdout",
       "text": [
        "The steam flow rate is : 3170.0  lb/h .\n",
        "The required heat transfer area is : 253.0  ft^2 .\n"
       ]
      }
     ],
     "prompt_number": 7
    },
    {
     "cell_type": "heading",
     "level": 3,
     "metadata": {},
     "source": [
      "ILLUSTRATIVE EXAMPLE 18.10, Page number: 398"
     ]
    },
    {
     "cell_type": "code",
     "collapsed": false,
     "input": [
      "\n",
      "\n",
      "from __future__ import division\n",
      "\n",
      "#Variable declaration:\n",
      "T1 = 2000                       #Hot gas temperature (\u00b0F)\n",
      "T2 = 550                        #Cool gas temperature (\u00b0F)\n",
      "T3 = 330                        #Steam temperature (\u00b0F)\n",
      "T4 = 140                        #Water temperature (\u00b0F)\n",
      "m = 30000                       #Mass flow rate of steam (lb/h)\n",
      "cp = 0.279                      #Average heat capacity of gas (Btu/lb.\u00b0F)\n",
      "N = 800                         #Number of boiler tubes\n",
      "\n",
      "#Calculation:\n",
      "DT = (T1-T3)/(T2-T3)            #Temperature difference ratio\n",
      "Tav = (T1+T2)/2                 #Average gas temperature (\u00b0F)\n",
      "#From steam tables (Appendix):\n",
      "hs = 1187.7                     #Steam enthalpy (Btu/lb)\n",
      "hw = 107.89                     #Water enthalpy (Btu/lb)\n",
      "Q = m*(hs-hw)                   #Heat duty (Btu/h)\n",
      "mh = Q/cp*(T1-T2)               #Mass flow rate of gas (lb/h)\n",
      "x = mh/N                        #Gas mass flow rate per tube (lb/h)\n",
      "#From figure 18.5:\n",
      "L = 15                          #Length of boiler tubes (ft)\n",
      "\n",
      "#Result:\n",
      "print \"The length of boiler tubes is :\",L,\" ft .\""
     ],
     "language": "python",
     "metadata": {},
     "outputs": [
      {
       "output_type": "stream",
       "stream": "stdout",
       "text": [
        "The length of boiler tubes is : 15  ft .\n"
       ]
      }
     ],
     "prompt_number": 10
    },
    {
     "cell_type": "heading",
     "level": 3,
     "metadata": {},
     "source": [
      "ILLUSTRATIVE EXAMPLE 18.12, Page number: 399"
     ]
    },
    {
     "cell_type": "code",
     "collapsed": false,
     "input": [
      "\n",
      "from __future__ import division\n",
      "\n",
      "#Variable declaration:\n",
      "T1 = 1800                       #Hot gas temperature (\u00b0F)\n",
      "T2 = 500                        #Cool gas temperature (\u00b0F)\n",
      "#From steam tables:\n",
      "Tw = 312                        #Boiling point of water at 80 psia (\u00b0F)\n",
      "m1 = 120000                     #Mass flow rate of flue gas (lb/h)\n",
      "D = 2/12                        #Inside diameter of tube (ft)\n",
      "cp = 0.26                       #Average heat capacity of flue gas (Btu/lb.\u00b0F)\n",
      "\n",
      "#Calculation:\n",
      "DT = (T1-Tw)/(T2-Tw)            #Temperature difference ratio\n",
      "Tav = (T1+T2)/2                 #Average gas temperature (\u00b0F)\n",
      "#From figure 18.4:\n",
      "x = 150                         #Gas mass flow rate per tube (m/N) (lb/h)\n",
      "N = m1/x                        #Number of tubes\n",
      "L = 21.5                        #Length of tubes (ft)\n",
      "A = N*L*D                       #Total heat transfer area (ft^2)\n",
      "Q = m1*cp*(T1-T2)               #Heat duty (Btu/h)\n",
      "#From steam tables (Appendix):\n",
      "hs = 1183.1                     #Steam enthalpy at 80 psia (Btu/lb)\n",
      "hw = 168.1                      #Water enthalpy at 200\u00b0F (Btu/lb)\n",
      "m2 = Q/(hs-hw)                  #Mass flow rate of water (lb/h)\n",
      "\n",
      "#Result:\n",
      "print \"The required heat transfer area is :\",round(A),\" ft^2 .\"\n",
      "print \"The tube length is :\",L,\" ft .\"\n",
      "print \"The heat duty is :\",round(Q/10**7,2),\" x 10^7 .\"\n",
      "print \"The water mass flow rate is :\",round(m2,-4),\" lb/h .\""
     ],
     "language": "python",
     "metadata": {},
     "outputs": [
      {
       "output_type": "stream",
       "stream": "stdout",
       "text": [
        "The required heat transfer area is : 2867.0  ft^2 .\n",
        "The tube length is : 21.5  ft .\n",
        "The heat duty is : 4.06  x 10^7 .\n",
        "The water mass flow rate is : 40000.0  lb/h .\n"
       ]
      }
     ],
     "prompt_number": 12
    },
    {
     "cell_type": "heading",
     "level": 3,
     "metadata": {},
     "source": [
      "ILLUSTRATIVE EXAMPLE 18.18, Page number: 407"
     ]
    },
    {
     "cell_type": "code",
     "collapsed": false,
     "input": [
      "\n",
      "\n",
      "#Variable declaration:\n",
      "m1 = 144206                     #Mass flow rate of flue gas (lb/h)\n",
      "cp = 0.3                        #Average flue gas heat capacity (Btu/lb.\u00b0F)\n",
      "T1 = 2050                       #Initial temperature of gas (\u00b0F)\n",
      "T2 = 560                        #Final temperature of gas (\u00b0F)\n",
      "T3 = 70                         #Ambient air temperature (\u00b0F)\n",
      "\n",
      "#Calculation:\n",
      "Q = m1*cp*(T1-T2)               #Duty rate (Btu/h)\n",
      "#From appendix:\n",
      "cpa = 0.243                     #Average ambient air heat capacity 70\u00b0F (Btu/lb.\u00b0F)\n",
      "MW = 29                         #Molecular weight of air at 70\u00b0F\n",
      "ma = round(Q,-5)/(cpa*(T2-T3))  #Mass of air required (lb/h)\n",
      "m2 = round(ma)/MW               #Moles of air required (lb mol/h)\n",
      "m3 = round(ma)*13.32            #Volume of air required (ft^3/h)\n",
      "\n",
      "#Result:\n",
      "print \"The mass of air required is :\",round(ma,-2),\" lb/h .\"\n",
      "print \"The moles of air required is :\",round(m2,-1),\"lb mol/h .\"\n",
      "print \"The volume of air required is :\",round(m3,-3),\" ft^3/h .\""
     ],
     "language": "python",
     "metadata": {},
     "outputs": [
      {
       "output_type": "stream",
       "stream": "stdout",
       "text": [
        "The mass of air required is : 541700.0  lb/h .\n",
        "The moles of air required is : 18680.0 lb mol/h .\n",
        "The volume of air required is : 7215000.0  ft^3/h .\n"
       ]
      }
     ],
     "prompt_number": 18
    },
    {
     "cell_type": "heading",
     "level": 3,
     "metadata": {},
     "source": [
      "ILLUSTRATIVE EXAMPLE 18.19, Page number: 407"
     ]
    },
    {
     "cell_type": "code",
     "collapsed": false,
     "input": [
      "\n",
      "#Variable declaration:\n",
      "#From example 18.19:\n",
      "m1 = 144200                     #Mass flow rate of flue gas (lb/h)\n",
      "m2 = 541700                     #Mass flow rate of air (lb/h)\n",
      "R = 0.73                        #Universal gas constant (psia.ft^3/lbmol.\u00b0R)\n",
      "P = 1                           #Absolute pressure (psia)\n",
      "T = 1020                        #Absolute temperature (\u00b0R)\n",
      "MW = 29                         #Molecular weight of air\n",
      "t = 1.5                         #Residence time (s)\n",
      "\n",
      "#Calculation:\n",
      "m = m1+m2                       #Total mass flow rate of the gas (lb/h)\n",
      "q = m*R*T/(P*MW)                #Volumetric flow at 560\u00b0F (ft^3/h)\n",
      "V = q*t/3600                    #Volume of tank (ft^3)\n",
      "\n",
      "#Result:\n",
      "print \"The total mass flow rate of the gas is :\",round(m,-2),\" lb/h .\"\n",
      "print \"The volumetric flow at 560\u00b0F is :\",round(q/10**7,2),\" x 10^7 ft^3/h .\"\n",
      "print \"The volume of tank is :\",round(V),\" ft^3 .\""
     ],
     "language": "python",
     "metadata": {},
     "outputs": [
      {
       "output_type": "stream",
       "stream": "stdout",
       "text": [
        "The total mass flow rate of the gas is : 685900.0  lb/h .\n",
        "The volumetric flow at 560\u00b0F is : 1.76  x 10^7 ft^3/h .\n",
        "The volume of tank is : 7338.0  ft^3 .\n"
       ]
      }
     ],
     "prompt_number": 19
    },
    {
     "cell_type": "heading",
     "level": 3,
     "metadata": {},
     "source": [
      "ILLUSTRATIVE EXAMPLE 18.20, Page number: 408"
     ]
    },
    {
     "cell_type": "code",
     "collapsed": false,
     "input": [
      "\n",
      "\n",
      "from __future__ import division\n",
      "from math import pi\n",
      "\n",
      "#Variable declaration:\n",
      "#Fro example 18.20:\n",
      "V = 7335                    #Volume of tank (ft^3)\n",
      "\n",
      "#Calculation:\n",
      "D = (4*V/pi)**(1/3)         #Diameter of tank (ft)\n",
      "H = D                       #Height of tube (ft)\n",
      "\n",
      "#Result:\n",
      "print \"The diameter of tank is :\",round(H,2),\" ft .\"\n",
      "print \"The height of tube is :\",round(D,2),\" ft .\""
     ],
     "language": "python",
     "metadata": {},
     "outputs": [
      {
       "output_type": "stream",
       "stream": "stdout",
       "text": [
        "The diameter of tank is : 21.06  ft .\n",
        "The height of tube is : 21.06  ft .\n"
       ]
      }
     ],
     "prompt_number": 21
    },
    {
     "cell_type": "heading",
     "level": 3,
     "metadata": {},
     "source": [
      "ILLUSTRATIVE EXAMPLE 18.21, Page number: 408"
     ]
    },
    {
     "cell_type": "code",
     "collapsed": false,
     "input": [
      "\n",
      "\n",
      "from __future__ import division\n",
      "\n",
      "#Variable declaration:\n",
      "m1 = 144206                     #Mass flow rate of flue gas (lb/h)\n",
      "cp1 = 0.3                       #Average heat capacities of the flue gas (Btu/lb\u00b0F)\n",
      "cp2 = 0.88                      #Average heat capacities of the solid (Btu/lb\u00b0F)\n",
      "#From example 18.18:\n",
      "T1 = 550                        #Initial temperature of gas (\u00b0F)\n",
      "T2 = 2050                       #Final temperature of gas (\u00b0F)\n",
      "T3 = 70                         #Initial temperature of solid (\u00b0F)\n",
      "T4 = 550-40                     #Final temperature of solid (\u00b0F)\n",
      "\n",
      "#Calculation:\n",
      "Dhf = m1*cp1*(T2-T1)            #For the flue gas, the enthalpy change for one hour of operation (Btu)\n",
      "Dhs = round(Dhf,-4)             #For the solids, the enthalpy change for one hour of operation (Btu)\n",
      "m2 = Dhs/(cp2*(T4-T3))          #Mass of solid (lb)\n",
      "\n",
      "#Result:\n",
      "print \"The mass of solid is :\",round(m2),\" lb .\""
     ],
     "language": "python",
     "metadata": {},
     "outputs": [
      {
       "output_type": "stream",
       "stream": "stdout",
       "text": [
        "The mass of solid is : 167588.0  lb .\n"
       ]
      }
     ],
     "prompt_number": 22
    },
    {
     "cell_type": "heading",
     "level": 3,
     "metadata": {},
     "source": [
      "ILLUSTRATIVE EXAMPLE 18.22, Page number: 409"
     ]
    },
    {
     "cell_type": "code",
     "collapsed": false,
     "input": [
      "\n",
      "\n",
      "from __future__ import division\n",
      "from math import log,sqrt,pi\n",
      "\n",
      "#Variable declaration:\n",
      "#From example 18.21:\n",
      "m = 144206                      #Mass flow rate of flue gas (lb/h)\n",
      "cp = 0.3                        #Average heat capacities of the flue gas (Btu/lb\u00b0F)\n",
      "T1 = 2050                       #Initial temperature of gas (\u00b0F)\n",
      "T2 = 180                        #Final temperature of gas (\u00b0F)\n",
      "T3 = 60                         #Ambient air temperature (\u00b0F)\n",
      "U = 1.5                         #Overall heat transfer coefficient for cooler (Btu/h.ft^2.\u00b0F)\n",
      "MW = 28.27                      #Molecular weight of gas\n",
      "R = 379                         #Universal gas constant (psia.ft^3/lbmol.\u00b0R)\n",
      "v = 60                          #Duct or pipe velcity at inlet (2050\u00b0F) (ft/s)\n",
      "\n",
      "#Calculation:\n",
      "Q = m*cp*(T1-T2)                #Heat duty (Btu/h)\n",
      "DTlm = ((T1-T3)-(T2-T3))/log((T1-T3)/(T2-T3))   #Log-mean temperature difference (\u00b0F)\n",
      "A1 = round(Q,-5)/(U*round(DTlm))                 #Radiative surface area (ft^2)\n",
      "q = m*R*(T1+460)/(T3+460)/MW    #Volumetric flow at inlet (ft^3/h)\n",
      "A2 = q/(v*3600)                 #Duct area (ft^2)\n",
      "D = sqrt(A2*4/pi)               #Duct diameter (ft)\n",
      "L = A1/(pi*D)                   #Length of required heat exchange ducting (ft)\n",
      "\n",
      "#Result:\n",
      "print \" The radiative surface area required is :\",round(A1,-1),\" ft^2 .\"\n",
      "print \" The length of required heat exchange ducting is :\",round(L),\" ft .\""
     ],
     "language": "python",
     "metadata": {},
     "outputs": [
      {
       "output_type": "stream",
       "stream": "stdout",
       "text": [
        " The radiative surface area required is : 80980.0  ft^2 .\n",
        " The length of required heat exchange ducting is : 3476.0  ft .\n"
       ]
      }
     ],
     "prompt_number": 23
    }
   ],
   "metadata": {}
  }
 ]
}