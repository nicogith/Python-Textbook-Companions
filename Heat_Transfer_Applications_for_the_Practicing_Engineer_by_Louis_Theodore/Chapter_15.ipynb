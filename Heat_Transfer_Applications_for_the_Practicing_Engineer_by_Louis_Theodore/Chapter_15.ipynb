{
 "metadata": {
  "name": "",
  "signature": "sha256:9c90790dace23fbdfc3e0ce273ce32b43acc5cfa1b423fc8f4e186650e91a101"
 },
 "nbformat": 3,
 "nbformat_minor": 0,
 "worksheets": [
  {
   "cells": [
    {
     "cell_type": "heading",
     "level": 1,
     "metadata": {},
     "source": [
      "Chapter 15: Double Pipe Heat Exchangers"
     ]
    },
    {
     "cell_type": "heading",
     "level": 3,
     "metadata": {},
     "source": [
      "ILLUSTRATIVE EXAMPLE 15.2, Page number: 290"
     ]
    },
    {
     "cell_type": "code",
     "collapsed": false,
     "input": [
      "\n",
      "\n",
      "#Variable declaration:\n",
      "Q = 12000.0                     #Heat transfer rate (Btu/h)\n",
      "U = 48.0                        #Overall heat coefficient (Btu/ft^2.h.\u00b0F)\n",
      "DTlm = 50.0                     #Log mean temperature difference (\u00b0F)\n",
      "\n",
      "#Calculation:\n",
      "A = Q/(U*DTlm)                  #Area of exchanger (ft^2)\n",
      "\n",
      "#Result:\n",
      "print \"The area of the exchanger is :\",round(A),\" ft^2 .\""
     ],
     "language": "python",
     "metadata": {},
     "outputs": [
      {
       "output_type": "stream",
       "stream": "stdout",
       "text": [
        "The area of the exchanger is : 5.0  ft^2 .\n"
       ]
      }
     ],
     "prompt_number": 2
    },
    {
     "cell_type": "heading",
     "level": 3,
     "metadata": {},
     "source": [
      "ILLUSTRATIVE EXAMPLE 15.3, Page number: 291"
     ]
    },
    {
     "cell_type": "code",
     "collapsed": false,
     "input": [
      "\n",
      "\n",
      "from sympy import symbols,solve,log\n",
      "\n",
      "#Variable declaration:\n",
      "Q = 56760                           #Heat transfer rate (Btu/h)\n",
      "U = 35.35                           #Overall heat coefficient (Btu/ft.h.\u00b0F)\n",
      "A = 32.1                            #Area of exachanger (ft^2)\n",
      "t1 = 63.0                           #Outlet cold water temperature (\u00b0F)\n",
      "T1 = 164                            #Outlet hot water temperature (\u00b0F)\n",
      "T2 = 99                             #Inlet hot water temperature (\u00b0F)\n",
      "t2 = symbols('t2')                  #Inlet cold water temperature (\u00b0F)\n",
      "\n",
      "#Calculation:\n",
      "DTlm = Q/(U*A)                      #Log mean temperature difference (\u00b0F)\n",
      "dT1 = T1-t1                         #Temperature approach at pipe outlet (\u00b0F)\n",
      "dT2 = T2-t2                         #Temperature approach at pipe inlet (\u00b0F)\n",
      "Eq = (dT2-dT1)/log(dT2/dT1)-DTlm\n",
      "R = solve(Eq,t2)                    #Inlet cold water temperature (\u00b0F)\n",
      "\n",
      "#Result:\n",
      "print \"The inlet cold water temperature is : \",round(R[0]),\" \u00b0F.\""
     ],
     "language": "python",
     "metadata": {},
     "outputs": [
      {
       "output_type": "stream",
       "stream": "stdout",
       "text": [
        "The inlet cold water temperature is :  79.0  \u00b0F.\n"
       ]
      }
     ],
     "prompt_number": 26
    },
    {
     "cell_type": "heading",
     "level": 3,
     "metadata": {},
     "source": [
      "ILLUSTRATIVE EXAMPLE 15.4, Page number: 292"
     ]
    },
    {
     "cell_type": "code",
     "collapsed": false,
     "input": [
      "\n",
      "\n",
      "#Variable declaration:\n",
      "m = 14.6                         #Flow rate of water inside the tube (lb/min)\n",
      "Cp = 1                           #Heat capacity of water (Btu/lb.\u00b0F)\n",
      "t2 = 79                          #Initial temperature of water (\u00b0F)\n",
      "t1 = 63                          #Final temperature of water (\u00b0F)\n",
      "#From example 15.3:\n",
      "Q1 = 56760                       #Old heat transfer rate (Btu/h)\n",
      "\n",
      "#Calculation:\n",
      "Q2 = m*Cp*(t2-t1)                #New heat transfer rate (Btu/min)\n",
      "\n",
      "#Result:\n",
      "print \"The new heat transfer rate is :\",round(Q2),\" Btu/min.\" \n",
      "print \"Or, the new heat transfer rate is :\",round(Q2*60),\" Btu/h.\"\n",
      "if (Q1==Q2) :\n",
      "    print \"This result agree with the Q\u02d9 provided in the problem statement. Shakespeare is wrong, nothing is rotten there.\"\n",
      "else :\n",
      "    print \"This result does not agree with the Q\u02d9 provided in the problem statement. Shakespeare is right, something is indeed rotten.\""
     ],
     "language": "python",
     "metadata": {},
     "outputs": [
      {
       "output_type": "stream",
       "stream": "stdout",
       "text": [
        "The new heat transfer rate is : 234.0  Btu/min.\n",
        "Or, the new heat transfer rate is : 14016.0  Btu/h.\n",
        "This result does not agree with the Q\u02d9 provided in the problem statement. Shakespeare is right, something is indeed rotten.\n"
       ]
      }
     ],
     "prompt_number": 8
    },
    {
     "cell_type": "heading",
     "level": 3,
     "metadata": {},
     "source": [
      "ILLUSTRATIVE EXAMPLE 15.5, Page number: 292"
     ]
    },
    {
     "cell_type": "code",
     "collapsed": false,
     "input": [
      "\n",
      "\n",
      "from math import log\n",
      "\n",
      "#Variable declaration:\n",
      "T1 = 210.0                          #Initial temperature of oil (\u00b0F)\n",
      "T2 = 170.0                          #Final temperature of oil (\u00b0F)\n",
      "T3 = 60.0                           #Surface temperature of oil (\u00b0F)\n",
      "m = 8000.0                          #Flow rate of oil inside tube (lb/h)\n",
      "cp = 0.55                           #Heat capacity of oil (Btu/lb.\u00b0F)\n",
      "U = 63.0                            #Overall heat teansfer coefficient (Btu.h.ft^2.\u00b0F)\n",
      "\n",
      "#Calculation:\n",
      "DT1 = T1-T3                         #Temperature difference 1 (\u00b0F)\n",
      "DT2 = T2-T3                         #Temperature difference 2 (\u00b0F)\n",
      "DTlm = (DT1-DT2)/log(DT1/DT2)       #Log mean temerature difference (\u00b0F)\n",
      "Q = m*cp*(T1-T2)                    #Heat transferred (Btu/h)\n",
      "A = Q/(U*DTlm)                      #Heat transfer area (ft^2)\n",
      "\n",
      "#Result:\n",
      "print \"The required heat transfer area is :\",round(A,2),\" ft^2 .\""
     ],
     "language": "python",
     "metadata": {},
     "outputs": [
      {
       "output_type": "stream",
       "stream": "stdout",
       "text": [
        "The required heat transfer area is : 21.66  ft^2 .\n"
       ]
      }
     ],
     "prompt_number": 5
    },
    {
     "cell_type": "heading",
     "level": 3,
     "metadata": {},
     "source": [
      "ILLUSTRATIVE EXAMPLE 15.6, Page number: 293"
     ]
    },
    {
     "cell_type": "code",
     "collapsed": false,
     "input": [
      "\n",
      "from math import log\n",
      "\n",
      "#Variable declaration:\n",
      "T1 = 140.0                          #Initial temperature of hot water (\u00b0F)\n",
      "T2 = 110.0                          #Final temperature of hot water (\u00b0F)\n",
      "T3 = 60.0                           #Initial temperature of cold water (\u00b0F)\n",
      "T4 = 90.0                           #Initial temperature of cold water (\u00b0F)\n",
      "DTlm2 = 50.0                        #Log mean temerature difference for countercurrent flow, a constant (\u00b0F) (part 2)\n",
      "m = 100.0*60                        #Water flow rate (lb/h)\n",
      "cp = 1.0                            ##Heat capacity of water (Btu/lb.\u00b0F)\n",
      "U = 750.0                           #Overall heat teansfer coefficient (Btu.h.ft^2.\u00b0F)\n",
      "\n",
      "#Calculation:\n",
      "DT1 = T1-T3                         #Temperature difference 1 (\u00b0F) (part 1)\n",
      "DT2 = T2-T4                         #Temperature difference 2 (\u00b0F)\n",
      "DTlm1 = (DT1-DT2)/log(DT1/DT2)      #Log mean temerature difference (\u00b0F)\n",
      "Q = m*cp*(T1-T2)                    #Heat transferred (Btu/h)\n",
      "Ap = Q/(U*DTlm1)                     #Heat transfer area for parallel flow (ft^2)\n",
      "Ac = Q/(U*DTlm2)                    #Heat transfer area for counter flow (ft^2)\n",
      "\n",
      "#Result:\n",
      "print \"1. The double pipe co-current flow is :\",round(Ap,2),\" ft^2 .\"\n",
      "print \"1. The double pipe countercurrent flow is :\",round(Ac,2),\" ft^2 .\""
     ],
     "language": "python",
     "metadata": {},
     "outputs": [
      {
       "output_type": "stream",
       "stream": "stdout",
       "text": [
        "1. The double pipe co-current flow is : 5.55  ft^2 .\n",
        "1. The double pipe countercurrent flow is : 4.8  ft^2 .\n"
       ]
      }
     ],
     "prompt_number": 6
    },
    {
     "cell_type": "heading",
     "level": 3,
     "metadata": {},
     "source": [
      "ILLUSTRATIVE EXAMPLE 15.8, Page number: 294"
     ]
    },
    {
     "cell_type": "code",
     "collapsed": false,
     "input": [
      "\n",
      "\n",
      "from __future__ import division\n",
      "from math import pi,log\n",
      "\n",
      "#Variable declaration:\n",
      "uC = 3.7*10**-4                            \t    #Viscosity of benzene (lb/ft.s)\n",
      "uH = 2.05*10**-4                          \t    #Viscosity of water @200 \u00b0F (lb/ft.s)\n",
      "u2 = 2.16*10**-4 \t\t\t\t                 #Viscosity of water @192 \u00b0F (lb/ft.s)\n",
      "pC = 54.8                                       #Density of benzene (lb/ft^3)\n",
      "pH = 60.13                                      #Density of water (lb/ft^3)\n",
      "cpC = 0.415                                     #Specific heat capacity of benzene (Btu/lb.\u00b0F)\n",
      "cpH = 1                                         #Specific heat capacity of water (Btu/lb.\u00b0F)\n",
      "sgC = 0.879                                     \n",
      "kC = 0.092                                      #Thermal conductivity of benzene (Btu/h.ft.\u00b0F)\n",
      "kH = 0.392                                      #Thermal conductivity of water @200 \u00b0F  (Btu/h.ft.\u00b0F)\n",
      "k2 = 0.390\t\t\t\t\t                 #Thermal conductivity of water @192 \u00b0F  (Btu/h.ft.\u00b0F)\n",
      "mC = 2500\t \t\t\t                     #Flow rate of benzene (lb/s)\n",
      "mH = 4000                                       #Flow rate of water (lb/s)\n",
      "Re = 13000                                      #Reynolds number\n",
      "dTc = 120-60\t\t\t\t\t                 #Difference in temperature heating for benzene\n",
      "Tw = 200\t\t\t\t                          #Temperatperature of hot water (\u00b0F)\n",
      "#For 2-inch schedule 40 pipe\n",
      "Ai = 0.541                                      #Inside area of pipe (ft^2/ft)\n",
      "Ao = 0.622                                      #Outside area of pipe (ft^2/ft)\n",
      "Di = 2.067                                      #Inside diameter of pipe (inch)\n",
      "Do =  2.375                                     #Outside diameter of pipe (inch)\n",
      "Si = 0.0233                                     #Inside surface area of pipe (ft^2)\n",
      "dXw = 0.128                                     #Width of pipe (ft)\n",
      "\n",
      "#For 4-inch schedule 40 pipe\n",
      "Dio = 4.026                                     #Inside diameter of pipe (inch)\n",
      "Doi = Do                                        #Outside diameter of pipe (inch)\n",
      "kw = 26                                         \n",
      "\n",
      "#Calculations:\n",
      "def St(Re,Pr):\t\t\t\t                 #Dittus Boelter equation\n",
      "\treturn 0.023*Re**-0.2*Pr**-0.667\n",
      "#For inside tubes:\n",
      "Dicalc = 4*mC/(Re*pi*uC)/3600                   #Inside diameter (ft)\n",
      "mHcalc = Re*pi*uH*(Doi+Dio)/4*3600/12           #Mass flow rate of water (lb/h)\n",
      "Q = mC*cpC*dTc\t\t\t\t\t             #Heat in water (Btu/h)\n",
      "dTH = Q/mH                                      #Temperature difference of water (\u00b0F)\n",
      "THo = Tw - dTH                                  #Outlet temperature of water (\u00b0F)\n",
      "THav = (Tw+THo)/2                               #Average temperature of water (\u00b0F) \n",
      "#For benzene:\n",
      "PrC = cpC*uC/kC*3600                            #Prandtl number\n",
      "StC = round(St(13000, PrC),5)                   #Stanton number\n",
      "hi = StC*cpC*mC/Si                              #Heat transfer coefficient (Btu/h.ft^2.\u00b0F)\n",
      "#For water:\n",
      "ReH = 4*mH/3600/(pi*u2*(Doi+Dio)/12)            #Reynolds number\n",
      "PrH = round(cpH*(u2)/k2*3600 ,2)                #Prandtl number\n",
      "StH = round(St(ReH, PrH),5)                     #Stanton number\n",
      "Sann = round(pi/4*(Dio**2-Doi**2)/144,4)        #Surface area of annulus (ft^2)\n",
      "ho = round(StH*cpH*mH/Sann)                     #Heat transfer coefficient (Btu/h.ft^2.\u00b0F)\n",
      "#For pipe:\n",
      "Dlm = round((Do-Di)/log(Do/Di)*12,3)            #Log mean difference in diameter (ft)\n",
      "Uo = 1/(Do/Di/hi + dXw*Do/kw/Dlm + 1/ho)        #Overall heat transfer coefficient (Btu/h.ft^2.\u00b0F)\n",
      "dTlm = (124.4-80)/log(124.4/80)                 #Log mean temperature difference (\u00b0F)\n",
      "L = Q/(Uo*0.622*dTlm)                           #Length of pipe (ft)\n",
      "\n",
      "#Result:\n",
      "print 'The required length of pipe: ',round(L,1), 'ft'"
     ],
     "language": "python",
     "metadata": {},
     "outputs": [
      {
       "output_type": "stream",
       "stream": "stdout",
       "text": [
        "The required length of pipe:  31.4 ft\n"
       ]
      }
     ],
     "prompt_number": 8
    },
    {
     "cell_type": "heading",
     "level": 3,
     "metadata": {},
     "source": [
      "ILLUSTRATIVE EXAMPLE 15.10, Page number: 300"
     ]
    },
    {
     "cell_type": "code",
     "collapsed": false,
     "input": [
      "\n",
      "\n",
      "from __future__ import division\n",
      "from math import e\n",
      "\n",
      "#Variable declaration:\n",
      "MC = 2000.0     \n",
      "mc = 1000.0\n",
      "U = 2000.0\n",
      "A = 10.0\n",
      "T1 = 300.0\n",
      "t1 = 60.0\n",
      "\n",
      "#Calculation:\n",
      "B = 1.0/mc \n",
      "b = 1.0/MC\n",
      "x = B/b\n",
      "y = U*(B-b)\n",
      "T2 = ((x-y)*T1 + x*(e-y)*t1)/(2*e-1)\n",
      "t2 = t1+(T1-T2)/x\n",
      "\n",
      "#Result:\n",
      "print \"T2 = :\",round(T2),\" \u00b0F\"\n",
      "print \"t2 = :\",round(t2),\" \u00b0F\""
     ],
     "language": "python",
     "metadata": {},
     "outputs": [
      {
       "output_type": "stream",
       "stream": "stdout",
       "text": [
        "T2 = : 114.0  \u00b0F\n",
        "t2 = : 153.0  \u00b0F\n"
       ]
      }
     ],
     "prompt_number": 10
    },
    {
     "cell_type": "heading",
     "level": 3,
     "metadata": {},
     "source": [
      "ILLUSTRATIVE EXAMPLE 15.11, Page number: 301"
     ]
    },
    {
     "cell_type": "code",
     "collapsed": false,
     "input": [
      "\n",
      "\n",
      "from sympy import symbols,solve,log\n",
      "\n",
      "#Variable declaration:\n",
      "h1 = 1200.0                         #Hot film coefficient (Btu/h.ft^2.\u00b0F)\n",
      "h2 = 1175.0                         #Cold film coefficient (Btu/h.ft^2.\u00b0F)\n",
      "L = 200.0                           #Length of pipe (ft)\n",
      "MC = 30000.0\n",
      "mc = 22300.0\n",
      "T1 = 300.0                          #Inlet temperature of hot fluid in pipe (\u00b0F)\n",
      "t1 = 60.0                           #Inlet temperature of cold fluid in pipe (\u00b0F)\n",
      "T2 = symbols('T2')                   #Outlet temperature of hot fluid \u00b0F\n",
      "t2 = symbols('t2')                   #Outlet temperature of cold fluid \u00b0F\n",
      "#From table 6.2:\n",
      "ID = 2.067                          #Inside diameter of pipe (in)\n",
      "OD = 2.375                          #Outside diameter of pipe (in)\n",
      "Dx = 0.154                          #Thickness of pipe (in)\n",
      "Ai = 0.541                          #Inside sectional area of pipe (ft^2/ft)\n",
      "k = 25.0                            #Thermal conductivity of pipe (Btu/h)\n",
      "\n",
      "#Calculation:\n",
      "Ui = 1.0/((1.0/h1) +(Dx/(k*12.0))+(1.0/(h2*(OD/ID))))    #Overall heat transfer coefficient (Btu/h.ft^2.\u00b0F)\n",
      "Ai1 = Ai*L                          #Inside area of pipe (ft^3/ft)\n",
      "QH = MC*(T1-T2)                     #Heat transfer rate of hot fluid (Btu/h)\n",
      "QC = mc*(t2-t1)                     #Heat transfer rate of cold fluid (Btu/h)\n",
      "t2ht = 195                          #t2 by hit and trial\n",
      "x = solve(QC-QH,T2)\n",
      "T2 = x[0]\n",
      "DTlm = (T1-t1-T2+t2)/log((T1-t1)/(T2-t2))  #Log mean temperature difference (\u00b0F)\n",
      "Q = Ui*Ai1*DTlm.subs(t2,t2ht)       #Total heat transfer rate (Btu/h)\n",
      "\n",
      "#Result:\n",
      "print \"T2 :\", round(T2.subs(t2,t2ht)),\"(\u00b0F)\"\n",
      "print \"t2 :\", t2.subs(t2,t2ht),\"(\u00b0F)\"\n",
      "print \"Qdot :\", round(Q/10**6) ,\"x 10**6 Btu/h\""
     ],
     "language": "python",
     "metadata": {},
     "outputs": [
      {
       "output_type": "stream",
       "stream": "stdout",
       "text": [
        "T2 : 200.0 (\u00b0F)\n",
        "t2 : 195 (\u00b0F)\n",
        "Qdot : 3.0 x 10**6 Btu/h\n"
       ]
      }
     ],
     "prompt_number": 23
    },
    {
     "cell_type": "heading",
     "level": 3,
     "metadata": {},
     "source": [
      "ILLUSTRATIVE EXAMPLE 15.12, Page number: 302"
     ]
    },
    {
     "cell_type": "code",
     "collapsed": false,
     "input": [
      "\n",
      "\n",
      "from __future__ import division\n",
      "from math import log,e\n",
      "\n",
      "#Variable declaration:\n",
      "B = 3.33*10**-5\n",
      "b = 4.48*10**-5\n",
      "#From example 15.11:\n",
      "A = 108.2                           #Inside area of pipe (ft^3/ft)\n",
      "U = 482                             #Overall heat transfer coefficient (Btu/h.ft^2.\u00b0F)\n",
      "MC = 30000.0\n",
      "mc = 23000.0\n",
      "T1 = 300.0                          #Inlet temperature of hot fluid in pipe (\u00b0F)\n",
      "t1 = 60.0                           #Inlet temperature of cold fluid in pipe (\u00b0F)\n",
      "\n",
      "#Calculation:\n",
      "#From equation 15.28:\n",
      "T2 = ((B/b)*(e**(U*A*(B-b))-1)*t1+T1*(B/b-1))/((B/b)*e**(U*A*(B-b))-1) #Outlet temperature of hot fluid (\u00b0F)\n",
      "#From equation 15.32:\n",
      "t2 = ((b/B)*(e**(U*A*(b-B))-1)*T1+t1*(b/B-1))/((b/B)*e**(U*A*(b-B))-1) #Outlet temperature of cold fluid (\u00b0F)\n",
      "DT = ((T2-t1)-(T1-t2))/(log((T2-t1)/(T1-t2))) #Log mean difference temperature (\u00b0F)\n",
      "Q1 = U*A*DT                         #Heat transfer rate of hot fluid (Btu/h)\n",
      "Q2 = MC*(T1-T2)                     #Heat transfer rate of cold fluid (Btu/h)\n",
      "\n",
      "#Result:\n",
      "print \"The heat load is :\",round(Q2,-3),\" Btu/h.\""
     ],
     "language": "python",
     "metadata": {},
     "outputs": [
      {
       "output_type": "stream",
       "stream": "stdout",
       "text": [
        "The heat load is : 4078000.0  Btu/h.\n"
       ]
      }
     ],
     "prompt_number": 27
    },
    {
     "cell_type": "heading",
     "level": 3,
     "metadata": {},
     "source": [
      "ILLUSTRATIVE EXAMPLE 15.14, Page number: 305"
     ]
    },
    {
     "cell_type": "code",
     "collapsed": false,
     "input": [
      "\n",
      "from __future__ import division\n",
      "from math import log,pi\n",
      "\n",
      "#Variable declaration:\n",
      "Ts = 100.0                      #Saturation temperature (\u00b0C)\n",
      "t1 = 25.0                       #Initial temperature of water (\u00b0C)\n",
      "t2 = 73.0                       #Final temperature of water (\u00b0C)\n",
      "m = 228.0/3600.0                #Mass flow rate of water (kg/s)\n",
      "cp = 4174.0                     #Heat capacity of water (J/kg.K)\n",
      "m_s = 55.0/3600.0               #Mass flow rate of steam (kg/s)\n",
      "h_vap = 2.26*10**26             #Latent heat of condensation (J/kg)\n",
      "k = 54.0                        #Thermal conductivity for 0.5% carbon steel (W/m.K)\n",
      "rii = 0.013                     #Inner radius of inner pipe of the double pipe heat exchanger (m)\n",
      "roi = 0.019                     #Outer radius of inner pipe of the double pipe heat exchanger (m)\n",
      "Rf = 0.0002                     #Fouling factor (m^2.K/W)\n",
      "Uc = 0.00045                    #Clean overall heat transfer coefficient (W/m^2.K)\n",
      "\n",
      "#Calculation:\n",
      "DT1 = Ts-t1                     #Temperature driving force at end 1 (K)\n",
      "DT2 = Ts-t2                     #Temperature driving force at end 2 (K)\n",
      "DTlm = (DT1-DT2)/(log(DT1/DT2))   #Log mean difference temperature (\u00b0C)\n",
      "Cw =m*cp                        #Capacitance rate of water (W/K)\n",
      "Q = Cw*(t2-t1)                  #Heat transfer rate (W)\n",
      "Qmax1 = Cw*(Ts-t1)              #Maximum heat term from the water stream (W)\n",
      "Qmax2 = m_s*h_vap               #Maximum heat term from the steam (W)\n",
      "E = Q/Qmax1                     #Effectiveness\n",
      "Lmin = (Q*(log(roi/rii)))/(2*pi*k*(Ts-t1))    #Minimum required length of heat exchanger (m)\n",
      "Ud = 1.0/(1.0/Uc+Rf)            #Dirty overall heat transfer coefficient (W/m^2.K)\n",
      "\n",
      "#Result:\n",
      "print \"1. The temperature profile of the water and steam along the length of the exchanger is :\",round(DTlm),\" \u00b0C .\"\n",
      "print \"2. Effectiveness of energy from steam to heat the water is :\",round(E,3),\" .\"\n",
      "print \"3. The minimum length of the heat exchanger is :\",round(Lmin,3),\" m .\"\n",
      "print \"4. The dirty overall heat transfer coefficient :\",round(Ud,5),\" W/m^2.K .\"\n",
      "print \"5. U_dirty: \", round(1/Ud,-1),\" W/m^2.K\""
     ],
     "language": "python",
     "metadata": {},
     "outputs": [
      {
       "output_type": "stream",
       "stream": "stdout",
       "text": [
        "1. The temperature profile of the water and steam along the length of the exchanger is : 47.0  \u00b0C .\n",
        "2. Effectiveness of energy from steam to heat the water is : 0.64  .\n",
        "3. The minimum length of the heat exchanger is : 0.189  m .\n",
        "4. The dirty overall heat transfer coefficient : 0.00045  W/m^2.K .\n",
        "5. U_dirty:  2220.0  W/m^2.K\n"
       ]
      }
     ],
     "prompt_number": 24
    },
    {
     "cell_type": "heading",
     "level": 3,
     "metadata": {},
     "source": [
      "ILLUSTRATIVE EXAMPLE 15.15, Page number: 308"
     ]
    },
    {
     "cell_type": "code",
     "collapsed": false,
     "input": [
      "\n",
      "\n",
      "from math import pi\n",
      "\n",
      "#Variable declaration:\n",
      "Q = 12700.0                 #Heat transfer rate (W)\n",
      "Ud = 2220.0                 #Dirty overall heat transfer coefficient (W/m^2.K)\n",
      "DTlm = 47.0                 #Log mean difference temperature (\u00b0C)\n",
      "rii = 0.013                 #Inner radius of inner pipe of the double pipe heat exchanger (m)\n",
      "#Calculation:\n",
      "A = Q/(Ud*DTlm)             #Heat transfer area (m^2)\n",
      "L = A/(2*pi*rii)            #Tube length (m)\n",
      "\n",
      "#Result:\n",
      "print \"The heat transfer area is :\",round(A,4),\" m^2 .\"\n",
      "print \"The length of the heat exchanger is :\",round(L,2),\" m .\""
     ],
     "language": "python",
     "metadata": {},
     "outputs": [
      {
       "output_type": "stream",
       "stream": "stdout",
       "text": [
        "The heat transfer area is : 0.1217  m^2 .\n",
        "The length of the heat exchanger is : 1.49  m .\n"
       ]
      }
     ],
     "prompt_number": 15
    },
    {
     "cell_type": "heading",
     "level": 3,
     "metadata": {},
     "source": [
      "ILLUSTRATIVE EXAMPLE 15.16, Page number: 308"
     ]
    },
    {
     "cell_type": "code",
     "collapsed": false,
     "input": [
      "\n",
      "\n",
      "#Variable declaration:\n",
      "Ud = 2220.0                 #Dirty overall heat transfer coefficient (W/m^2.K)\n",
      "A = 0.1217                  #Heat transfer area (m^2)\n",
      "Cw = 264.0                  #Capacitance rate of water (W/K)\n",
      "\n",
      "#Calculation:\n",
      "NTU = (Ud*A)/Cw             #Number of transfer units of the exchanger\n",
      "\n",
      "#Result:\n",
      "print \"The number of transfer units (NTU) of the exchanger is :\",round(NTU,2),\" .\""
     ],
     "language": "python",
     "metadata": {},
     "outputs": [
      {
       "output_type": "stream",
       "stream": "stdout",
       "text": [
        "The number of transfer units (NTU) of the exchanger is : 1.02  .\n"
       ]
      }
     ],
     "prompt_number": 16
    },
    {
     "cell_type": "heading",
     "level": 3,
     "metadata": {},
     "source": [
      "ILLUSTRATIVE EXAMPLE 15.18, Page number: 309"
     ]
    },
    {
     "cell_type": "code",
     "collapsed": false,
     "input": [
      "\n",
      "\n",
      "#Variable declaration:\n",
      "Ao = 1.85                           #Area of heat exchanger (ft^2)\n",
      "\n",
      "#Calculation:\n",
      "#From figure 15.6:\n",
      "y = 0.560*10**-3                    #Intercept 1/UoAo (\u00b0F.h/Btu)\n",
      "ho = 1.0/(Ao*y)                     #Thermal conductivity for heat exchanger (Btu/h.ft^2.\u00b0F)\n",
      "\n",
      "#Result:\n",
      "print \"Thermal conductivity for the heat exchanger is :\",round(ho),\" Btu/h.ft^2.\u00b0F .\""
     ],
     "language": "python",
     "metadata": {},
     "outputs": [
      {
       "output_type": "stream",
       "stream": "stdout",
       "text": [
        "Thermal conductivity for the heat exchanger is : 965.0  Btu/h.ft^2.\u00b0F .\n"
       ]
      }
     ],
     "prompt_number": 18
    },
    {
     "cell_type": "heading",
     "level": 3,
     "metadata": {},
     "source": [
      "ILLUSTRATIVE EXAMPLE 15.19, Page number: 310"
     ]
    },
    {
     "cell_type": "code",
     "collapsed": false,
     "input": [
      "\n",
      "\n",
      "#Variable declaration:\n",
      "#From figure 15.7:\n",
      "a = 0.00126\n",
      "b = 0.0276\n",
      "\n",
      "#Calculation:\n",
      "ho = 1.0/a                          #The value of ho (Btu/h.ft^2.\u00b0F)\n",
      "\n",
      "#Result:\n",
      "print \"Thermal conductivity is :\",round(ho),\" Btu/h.ft^2.\u00b0F .\""
     ],
     "language": "python",
     "metadata": {},
     "outputs": [
      {
       "output_type": "stream",
       "stream": "stdout",
       "text": [
        "Thermal conductivity is : 794.0  Btu/h.ft^2.\u00b0F .\n"
       ]
      }
     ],
     "prompt_number": 19
    },
    {
     "cell_type": "heading",
     "level": 3,
     "metadata": {},
     "source": [
      "ILLUSTRATIVE EXAMPLE 15.20, Page number: 311"
     ]
    },
    {
     "cell_type": "code",
     "collapsed": false,
     "input": [
      "\n",
      "\n",
      "#Variable declaration:\n",
      "Di = 0.902/12.0                     #Inside diameter of tube (ft)\n",
      "Do = 1.0/12.0                       #Outside diameter of tube (ft)\n",
      "k = 60.0                            #Thermal conductivity of tube (Btu/h.ft^2.\u00b0F)                         \n",
      "\n",
      "#Calculation:\n",
      "#From example 15.19:\n",
      "a = 0.00126\n",
      "Dr = (Do - Di)/2.0                  #Radial thickness of tube wall  (ft)\n",
      "Rw = Dr/k                           #Resistance of wall (Btu/h.\u00b0F)\n",
      "ho = 1.0/(a-Rw)                     #The revised ho (Btu/h.ft^2.\u00b0F)\n",
      "\n",
      "#Result:\n",
      "print \"The revised ho is :\",round(ho),\" Btu/h.ft^2.\u00b0F .\""
     ],
     "language": "python",
     "metadata": {},
     "outputs": [
      {
       "output_type": "stream",
       "stream": "stdout",
       "text": [
        "The revised ho is : 839.0  Btu/h.ft^2.\u00b0F .\n"
       ]
      }
     ],
     "prompt_number": 20
    },
    {
     "cell_type": "heading",
     "level": 3,
     "metadata": {},
     "source": [
      "ILLUSTRATIVE EXAMPLE 15.21, Page number: 312"
     ]
    },
    {
     "cell_type": "code",
     "collapsed": false,
     "input": [
      "\n",
      "\n",
      "#Variable declaration:\n",
      "a1 = 0.00044                #Term 'a' for U_clean\n",
      "a2 = 0.00089                #Term 'a' for U_dirty\n",
      "\n",
      "#Calculation:\n",
      "Rs = a2 - a1                #Resistance associated with the scale\n",
      "hs = 1.0/Rs                 #Scale film coefficient (Btu/h.ft^2.\u00b0F)\n",
      "\n",
      "#Result:\n",
      "print \"The scale film coefficient neglecting the wall resistance is:\",round(hs),\" Btu/h.ft^2.\u00b0F .\""
     ],
     "language": "python",
     "metadata": {},
     "outputs": [
      {
       "output_type": "stream",
       "stream": "stdout",
       "text": [
        "The scale film coefficient neglecting the wall resistance is: 2222.0  Btu/h.ft^2.\u00b0F .\n"
       ]
      }
     ],
     "prompt_number": 21
    }
   ],
   "metadata": {}
  }
 ]
}