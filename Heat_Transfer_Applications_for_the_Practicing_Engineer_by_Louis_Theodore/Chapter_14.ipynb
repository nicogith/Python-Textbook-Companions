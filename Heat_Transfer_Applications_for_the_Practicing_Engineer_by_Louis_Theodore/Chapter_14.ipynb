{
 "metadata": {
  "name": "",
  "signature": "sha256:e3c042bf60cf5ea8673efb2741d5df5f7935daa012691b520a2d1357e838bd6c"
 },
 "nbformat": 3,
 "nbformat_minor": 0,
 "worksheets": [
  {
   "cells": [
    {
     "cell_type": "heading",
     "level": 1,
     "metadata": {},
     "source": [
      "Chapter 14: Introduction to Heat Exchangers"
     ]
    },
    {
     "cell_type": "heading",
     "level": 3,
     "metadata": {},
     "source": [
      "ILLUSTRATIVE EXAMPLE 14.1, Page number: 259"
     ]
    },
    {
     "cell_type": "code",
     "collapsed": false,
     "input": [
      "\n",
      "\n",
      "#Variable declaration:\n",
      "scfm = 20000.0                  #Volumetric flow rate of air at standard conditions (scfm)\n",
      "H1 = 1170.0                     #Enthalpy at 200\u00b0F (Btu/lbmol)\n",
      "H2 = 14970.0                    #Enthalpy at 2000\u00b0F (Btu/lbmol)\n",
      "Cp = 7.53                       #Average heat capacity (Btu/lbmol.\u00b0F)\n",
      "T1 = 200.0                      #Initial temperature (\u00b0F)\n",
      "T2 = 2000.0                     #Final temperature (\u00b0F)\n",
      "\n",
      "#Calculation:\n",
      "n = scfm/359.0                  #Flow rate of air in a molar flow rate (lbmol/min)\n",
      "DH = H2 - H1                    #Change in enthalpy (Btu/lbmol)\n",
      "DT = T2 - T1                    #Change in temperature (\u00b0F)\n",
      "Q1 = n*DH                       #Heat transfer rate using enthalpy data (Btu/min)\n",
      "Q2 = n*Cp*DT                    #Heat transfer rate using the average heat capacity data (Btu/min)\n",
      "\n",
      "#Result:\n",
      "print \"The heat transfer rate using enthalpy data is :\",round(Q1/10**5,2),\" x 10^5 Btu/min.\"\n",
      "print \"The heat transfer rate using the average heat capacity data is :\",round(Q2/10**5,2),\" x 10^5 Btu/min.\""
     ],
     "language": "python",
     "metadata": {},
     "outputs": [
      {
       "output_type": "stream",
       "stream": "stdout",
       "text": [
        "The heat transfer rate using enthalpy data is : 7.69  x 10^5 Btu/min.\n",
        "The heat transfer rate using the average heat capacity data is : 7.55  x 10^5 Btu/min.\n"
       ]
      }
     ],
     "prompt_number": 2
    },
    {
     "cell_type": "heading",
     "level": 3,
     "metadata": {},
     "source": [
      "ILLUSTRATIVE EXAMPLE 14.2, Page number: 259"
     ]
    },
    {
     "cell_type": "code",
     "collapsed": false,
     "input": [
      "\n",
      "\n",
      "#Variable declaration:\n",
      "n = 1200.0                  #Flow rate of air in a molar flow rate (lbmol/min)\n",
      "Cp = 0.26                   #Average heat capacity (Btu/lbmol.\u00b0F)\n",
      "T1 = 200.0                  #Initial temperature (\u00b0F)\n",
      "T2 = 1200.0                 #Final temperature (\u00b0F)\n",
      "\n",
      "#Calculation:\n",
      "DT = T2 - T1                #Change in temperature (\u00b0F)\n",
      "Q = n*Cp*DT                 #Required heat rate (Btu/min)\n",
      "\n",
      "#Result:\n",
      "print \"The required heat rate is :\",round(Q/10**5,2),\" x 10^5 Btu/min .\""
     ],
     "language": "python",
     "metadata": {},
     "outputs": [
      {
       "output_type": "stream",
       "stream": "stdout",
       "text": [
        "The required heat rate is : 3.12  x 10^5 Btu/min .\n"
       ]
      }
     ],
     "prompt_number": 3
    },
    {
     "cell_type": "heading",
     "level": 3,
     "metadata": {},
     "source": [
      "ILLUSTRATIVE EXAMPLE 14.3, Page number: 260"
     ]
    },
    {
     "cell_type": "code",
     "collapsed": false,
     "input": [
      "\n",
      "\n",
      "#Variable declaration:\n",
      "Tc1 = 25.0                  #Initial temperature of cold fluid (\u00b0C)\n",
      "Th1 = 72.0                  #Initial temperature of hot fluid (\u00b0C)\n",
      "Th2 = 84.0                  #Final temperature of hot fluid (\u00b0C)\n",
      "\n",
      "#Calculation:\n",
      "#From equation 14.2:\n",
      "Tc2 = (Th2-Th1)+Tc1         #Final temperature of cold fluid (\u00b0C)\n",
      "\n",
      "#Result:\n",
      "print \"The final temperature of the cold liquid is :\",Tc2,\" \u00b0C .\"\n",
      "print \"There is a printing mistake in unit of final temperature in book.\""
     ],
     "language": "python",
     "metadata": {},
     "outputs": [
      {
       "output_type": "stream",
       "stream": "stdout",
       "text": [
        "The final temperature of the cold liquid is : 37.0  \u00b0C .\n",
        "There is a printing mistake in unit of final temperature in book.\n"
       ]
      }
     ],
     "prompt_number": 4
    },
    {
     "cell_type": "heading",
     "level": 3,
     "metadata": {},
     "source": [
      "ILLUSTRATIVE EXAMPLE 14.4, Page number: 265"
     ]
    },
    {
     "cell_type": "code",
     "collapsed": false,
     "input": [
      "\n",
      "\n",
      "#Variable declaration:\n",
      "Ts = 100.0                  #Steam temperature at 1 atm (\u00b0C)\n",
      "Tl = 25.0                   #Fluid temperature (\u00b0C)\n",
      "\n",
      "#Calculation:\n",
      "DTlm = Ts - Tl              #Log mean temperature difference (\u00b0C)\n",
      "\n",
      "#Result:\n",
      "print \"The LMTD is :\",DTlm,\" \u00b0C .\""
     ],
     "language": "python",
     "metadata": {},
     "outputs": [
      {
       "output_type": "stream",
       "stream": "stdout",
       "text": [
        "The LMTD is : 75.0  \u00b0C .\n"
       ]
      }
     ],
     "prompt_number": 5
    },
    {
     "cell_type": "heading",
     "level": 3,
     "metadata": {},
     "source": [
      "ILLUSTRATIVE EXAMPLE 14.5, Page number: 265"
     ]
    },
    {
     "cell_type": "code",
     "collapsed": false,
     "input": [
      "\n",
      "\n",
      "from math import log\n",
      "\n",
      "#Variable declaration:\n",
      "Ts = 100.0                      #Steam temperature at 1 atm (\u00b0C)\n",
      "T1 = 25.0                       #Initial fluid temperature (\u00b0C)\n",
      "T2 = 80.0                       #Final fluid temperature (\u00b0C)\n",
      "\n",
      "#Calculation:\n",
      "DT1 = Ts - T1                   #Temperature difference driving force at the fluid entrance (\u00b0C)\n",
      "DT2 = Ts - T2                   #Temperature driving force at the fluid exit (\u00b0C)\n",
      "DTlm = (DT1 - DT2)/log(DT1/DT2) #Log mean temperature difference (\u00b0C)\n",
      "\n",
      "#Result:\n",
      "print \"The LMTD is :\",round(DTlm,1),\" \u00b0C .\"\n",
      "print \"There is a calculation mistake regarding final result in book.\""
     ],
     "language": "python",
     "metadata": {},
     "outputs": [
      {
       "output_type": "stream",
       "stream": "stdout",
       "text": [
        "The LMTD is : 41.6  \u00b0C .\n",
        "There is a calculation mistake regarding final result in book.\n"
       ]
      }
     ],
     "prompt_number": 6
    },
    {
     "cell_type": "heading",
     "level": 3,
     "metadata": {},
     "source": [
      "ILLUSTRATIVE EXAMPLE 14.6, Page number: 266"
     ]
    },
    {
     "cell_type": "code",
     "collapsed": false,
     "input": [
      "\n",
      "\n",
      "from math import log\n",
      "\n",
      "#Variable declaration:\n",
      "T1 = 500.0                      #Temperature of hot fluid entering the heat exchanger (\u00b0F)\n",
      "T2 = 400.0                      #Temperature of hot fluid exiting the heat exchanger (\u00b0F)\n",
      "t1 = 120.0                      #Temperature of cold fluid entering the heat exchanger (\u00b0F)\n",
      "t2 = 310.0                      #Temperature of cold fluid exiting the heat exchanger (\u00b0F)\n",
      "\n",
      "#Calculation:\n",
      "DT1 = T1 - t2                   #Temperature difference driving force at the heat exchanger entrance (\u00b0F)\n",
      "DT2 = T2 - t1                   #Temperature difference driving force at the heat exchanger exit (\u00b0F)\n",
      "DTlm = (DT1 - DT2)/(log(DT1/DT2))   #LMTD (driving force) for the heat exchanger (\u00b0F)\n",
      "\n",
      "#Result:\n",
      "print \"The LMTD (driving force) for the heat exchanger is :\",round(DTlm),\" \u00b0F .\""
     ],
     "language": "python",
     "metadata": {},
     "outputs": [
      {
       "output_type": "stream",
       "stream": "stdout",
       "text": [
        "The LMTD (driving force) for the heat exchanger is : 232.0  \u00b0F .\n"
       ]
      }
     ],
     "prompt_number": 7
    },
    {
     "cell_type": "heading",
     "level": 3,
     "metadata": {},
     "source": [
      "ILLUSTRATIVE EXAMPLE 14.7, Page number: 267"
     ]
    },
    {
     "cell_type": "code",
     "collapsed": false,
     "input": [
      "\n",
      "\n",
      "from math import log\n",
      "\n",
      "#Variable declaration:\n",
      "m = 8000.0                  #Rate of oil flow inside the tube (lb/h)\n",
      "Cp = 0.55                   #Heat capacity of oil (Btu/lb.\u00b0F)\n",
      "T1 = 210.0                  #Initial temperature of oil (\u00b0F)\n",
      "T2 = 170.0                  #Final temperature of oil (\u00b0F)\n",
      "t = 60.0                    #Tube surface temperature (\u00b0F)\n",
      "\n",
      "#Calculation:\n",
      "DT = T2 - T1                #Change in temperature (\u00b0F)\n",
      "Q = m*Cp*DT                 #Heat transferred from the heavy oil (Btu/h)\n",
      "DT1 = T1 - t                #Temperature difference driving force at the pipe entrance (\u00b0F)\n",
      "DT2 = T2 - t                #Temperature difference driving force at the pipe exit (\u00b0F)\n",
      "DTlm = (DT1 - DT2)/(log(DT1/DT2))   #LMTD (driving force) for the heat exchanger (\u00b0F)\n",
      "\n",
      "#Result:\n",
      "print \"The heat transfer rate is :\",round(Q),\" Btu/h .\"\n",
      "print \"The LMTD for the heat exchanger is :\",round(DTlm),\" \u00b0F .\""
     ],
     "language": "python",
     "metadata": {},
     "outputs": [
      {
       "output_type": "stream",
       "stream": "stdout",
       "text": [
        "The heat transfer rate is : -176000.0  Btu/h .\n",
        "The LMTD for the heat exchanger is : 129.0  \u00b0F .\n"
       ]
      }
     ],
     "prompt_number": 8
    },
    {
     "cell_type": "heading",
     "level": 3,
     "metadata": {},
     "source": [
      "ILLUSTRATIVE EXAMPLE 14.8, Page number: 267"
     ]
    },
    {
     "cell_type": "code",
     "collapsed": false,
     "input": [
      "\n",
      "\n",
      "from math import log\n",
      "\n",
      "#Variable declaration:\n",
      "T1 = 138.0                  #Temperature of oil entering the cooler (\u00b0F)\n",
      "T2 = 103.0                  #Temperature of oil leaving the cooler (\u00b0F)\n",
      "t1 = 88.0                   #Temperature of coolant entering the cooler (\u00b0F)\n",
      "t2 = 98.0                   #Temperature of coolant leaving the cooler (\u00b0F)\n",
      "\n",
      "#Calculation:\n",
      "#For counter flow unit:\n",
      "DT1 = T1 - t2               #Temperature difference driving force at the cooler entrance (\u00b0F)\n",
      "DT2 = T2 - t1               #Temperature difference driving force at the cooler exit (\u00b0F)\n",
      "DTlm1 = (DT1 - DT2)/(log(DT1/DT2))   #LMTD (driving force) for the heat exchanger (\u00b0F)\n",
      "#For parallel flow unit:\n",
      "DT3 = T1 - t1               #Temperature difference driving force at the cooler entrance (\u00b0F)\n",
      "DT4 = T2 - t2               #Temperature difference driving force at the cooler exit (\u00b0F)\n",
      "DTlm2 = (DT3 - DT4)/(log(DT3/DT4))   #LMTD (driving force) for the heat exchanger (\u00b0F)\n",
      "\n",
      "#Result:\n",
      "print \"The LMTD for counter-current flow unit is :\",round(DTlm1,1),\" \u00b0F .\"\n",
      "print \"The LMTD for parallel flow unit is :\",round(DTlm2,1),\" \u00b0F .\""
     ],
     "language": "python",
     "metadata": {},
     "outputs": [
      {
       "output_type": "stream",
       "stream": "stdout",
       "text": [
        "The LMTD for counter-current flow unit is : 25.5  \u00b0F .\n",
        "The LMTD for parallel flow unit is : 19.5  \u00b0F .\n"
       ]
      }
     ],
     "prompt_number": 9
    },
    {
     "cell_type": "heading",
     "level": 3,
     "metadata": {},
     "source": [
      "ILLUSTRATIVE EXAMPLE 14.10, Page number: 272"
     ]
    },
    {
     "cell_type": "code",
     "collapsed": false,
     "input": [
      "\n",
      "\n",
      "#Variable declaration:\n",
      "A = 1.0                         #Surface area of glass (m^2)\n",
      "h1 = 11.0                       #Heat transfer coefficient inside room (W/m^2.K)\n",
      "L2 = 0.125*0.0254               #Thickness of glass (m)\n",
      "k2 = 1.4                        #Thermal conductivity of glass (W/m.K)\n",
      "h3 = 9.0                        #Heat transfer coefficient from window to surrounding cold air (W/m^2.K)\n",
      "\n",
      "#Calculation:\n",
      "R1 = 1.0/(h1*A)                 #Internal convection resistance (K/W)\n",
      "R2 = L2/(k2*A)                  #Conduction resistance through glass panel (K/W)\n",
      "R3 = 1.0/(h3*A)                 #Outside convection resistance (K/W)\n",
      "Rt = R1+R2+R3                   #Total thermal resistance (K/W)\n",
      "U = 1.0/(A*Rt)                  #Overall heat transfer coefficient (W/m^2.K)\n",
      "\n",
      "#Result:\n",
      "print \"The overall heat transfer coefficient is :\",round(U,1),\" W/m^2.K .\""
     ],
     "language": "python",
     "metadata": {},
     "outputs": [
      {
       "output_type": "stream",
       "stream": "stdout",
       "text": [
        "The overall heat transfer coefficient is : 4.9  W/m^2.K .\n"
       ]
      }
     ],
     "prompt_number": 11
    },
    {
     "cell_type": "heading",
     "level": 3,
     "metadata": {},
     "source": [
      "ILLUSTRATIVE EXAMPLE 14.11, Page number: 273"
     ]
    },
    {
     "cell_type": "code",
     "collapsed": false,
     "input": [
      "\n",
      "\n",
      "#Variable declaration:\n",
      "Dx = 0.049/12.0                     #Thickness of copper plate (ft)\n",
      "h1 = 208.0                          #Film coefficient of surface one (Btu/h.ft^2.\u00b0F)\n",
      "h2 = 10.8                           #Film coefficient of surface two (Btu/h.ft^2.\u00b0F)\n",
      "k = 220.0                           #Thermal conductivity for copper (W/m.K)\n",
      "\n",
      "#Calculation:\n",
      "U = 1.0/(1.0/h1+Dx/k+1.0/h2)        #Overall heat transfer coefficient (Btu/h.ft^2.\u00b0F)\n",
      "\n",
      "#Result:\n",
      "print \"The overall heat transfer coefficient is :\",round(U,2),\" Btu/h.ft^2.\u00b0F .\""
     ],
     "language": "python",
     "metadata": {},
     "outputs": [
      {
       "output_type": "stream",
       "stream": "stdout",
       "text": [
        "The overall heat transfer coefficient is : 10.26  Btu/h.ft^2.\u00b0F .\n"
       ]
      }
     ],
     "prompt_number": 12
    },
    {
     "cell_type": "heading",
     "level": 3,
     "metadata": {},
     "source": [
      "ILLUSTRATIVE EXAMPLE 14.12, Page number: 274"
     ]
    },
    {
     "cell_type": "code",
     "collapsed": false,
     "input": [
      "\n",
      "\n",
      "#Variable declaration:\n",
      "Do = 0.06                        #Outside diameter of pipe (m)\n",
      "Di = 0.05                        #Inside diameter of pipe (m)\n",
      "ho = 8.25                        #Outside coefficient (W/m^2.K)\n",
      "hi = 2000.0                      #Inside coefficient (W/m^2.K)\n",
      "R = 1.33*10**-4                  #Resistance for steel (m^2.K/W)\n",
      "\n",
      "#Calculation:\n",
      "U = 1.0/(Do/(hi*Di)+R+1.0/ho)    #Overall heat transfer coefficient (W/m^2.\u00b0K)\n",
      "\n",
      "#Result:\n",
      "print \"The overall heat transfer coefficient is :\",round(U,2),\" W/m^2.\u00b0K .\""
     ],
     "language": "python",
     "metadata": {},
     "outputs": [
      {
       "output_type": "stream",
       "stream": "stdout",
       "text": [
        "The overall heat transfer coefficient is : 8.2  W/m^2.\u00b0K .\n"
       ]
      }
     ],
     "prompt_number": 13
    },
    {
     "cell_type": "heading",
     "level": 3,
     "metadata": {},
     "source": [
      "ILLUSTRATIVE EXAMPLE 14.14, Page number: 274"
     ]
    },
    {
     "cell_type": "code",
     "collapsed": false,
     "input": [
      "\n",
      "\n",
      "from math import pi,log\n",
      "\n",
      "#Variable declaration:\n",
      "Di = 0.825/12.0                         #Pipe inside diameter (ft)\n",
      "Do = 1.05/12.0                          #Pipe outside diameter (ft)\n",
      "Dl = 4.05/12.0                           #Insulation thickness (ft)\n",
      "l = 1.0                                 #Pipe length (ft)\n",
      "kp = 26.0                               #Thermal conductivity of pipe (Btu/h.ft.\u00b0F)\n",
      "kl = 0.037                              #Thermal conductivity of insulation (Btu/h.ft.\u00b0F)\n",
      "hi = 800.0                              #Steam film coefficient (Btu/h.ft^2.\u00b0F)\n",
      "ho = 2.5                                #Air film coefficient (Btu/h.ft^2.\u00b0F)\n",
      "\n",
      "#Calculation:\n",
      "ri = Di/2.0                             #Pipe inside radius (ft)\n",
      "ro = Do/2.0                             #Pipe outside radius (ft)\n",
      "rl = Dl/2.0                             #Insulation radius (ft)\n",
      "Ai = pi*Di*l                            #Inside area of pipe (ft^2)\n",
      "Ao = pi*Do*l                            #Outside area of pipe (ft^2)\n",
      "Al = pi*Dl*l                            #Insulation area of pipe (ft^2)\n",
      "A_Plm = (Ao-Ai)/log(Ao/Ai)              #Log mean area for steel pipe (ft^2)\n",
      "A_Ilm = (Al-Ao)/log(Al/Ao)              #Log mean area for insulation (ft^2)\n",
      "Ri = 1.0/(hi*Ai)                        #Air resistance (m^2.K/W)\n",
      "Ro = 1.0/(ho*Al)                        #Steam resistance (m^2.K/W)\n",
      "Rp = (ro-ri)/(kp*A_Plm)                 #Pipe resistance (m^2.K/W)\n",
      "Rl = (rl-ro)/(kl*A_Ilm)                 #Insulation resistance (m^2.K/W)\n",
      "U = 1.0/(Ai*(Ri+Rp+Ro+Rl))              #Overall heat coefficient based on the inside area (Btu/h.ft^2.\u00b0F)\n",
      "\n",
      "#Result:\n",
      "print \"The overall heat transfer coefficient based on the inside area of the pipe is :\",round(U,3),\" Btu/h.ft^2.\u00b0F .\""
     ],
     "language": "python",
     "metadata": {},
     "outputs": [
      {
       "output_type": "stream",
       "stream": "stdout",
       "text": [
        "The overall heat transfer coefficient based on the inside area of the pipe is : 0.748  Btu/h.ft^2.\u00b0F .\n"
       ]
      }
     ],
     "prompt_number": 15
    },
    {
     "cell_type": "heading",
     "level": 3,
     "metadata": {},
     "source": [
      "ILLUSTRATIVE EXAMPLE 14.15, Page number: 275"
     ]
    },
    {
     "cell_type": "code",
     "collapsed": false,
     "input": [
      "\n",
      "\n",
      "from math import pi\n",
      "\n",
      "#Variable declaration:\n",
      "#From example 14.14:\n",
      "Di = 0.825/12.0                         #Pipe inside diameter (ft)\n",
      "L = 1.0                                 #Pipe length (ft)\n",
      "Ui = 0.7492                             #Overall heat coefficient (Btu/h.ft^2.\u00b0F)\n",
      "Ts = 247.0                              #Steam temperature (\u00b0F)\n",
      "ta = 60.0                               #Air temperature (\u00b0F)\n",
      "\n",
      "#Calculation:\n",
      "Ai = pi*Di*L                            #Inside area of pipe (ft^2)\n",
      "Q = Ui*Ai*(Ts-ta)                       #Heat transfer rate (Btu/h)\n",
      "\n",
      "#Result:\n",
      "print \"The heat transfer rate is :\",round(Q,1),\" Btu/h .\""
     ],
     "language": "python",
     "metadata": {},
     "outputs": [
      {
       "output_type": "stream",
       "stream": "stdout",
       "text": [
        "The heat transfer rate is : 30.3  Btu/h .\n"
       ]
      }
     ],
     "prompt_number": 16
    },
    {
     "cell_type": "heading",
     "level": 3,
     "metadata": {},
     "source": [
      "ILLUSTRATIVE EXAMPLE 14.16, Page number: 276"
     ]
    },
    {
     "cell_type": "code",
     "collapsed": false,
     "input": [
      "\n",
      "\n",
      "#Variable declaration:\n",
      "hw = 200.0                      #Water heat coefficient (Btu/h.ft^2.\u00b0F)\n",
      "ho = 50.0                       #Oil heat coefficient (Btu/h.ft^2.\u00b0F)\n",
      "hf = 1000.0                     #Fouling heat coefficient (Btu/h.ft^2.\u00b0F)\n",
      "DTlm = 90.0                     #Log mean temperature difference (\u00b0F)\n",
      "A = 15.0                        #Area of wall (ft^2)\n",
      "\n",
      "#Calculation:\n",
      "X = 1.0/hw+1.0/ho+1.0/hf        #Equation 14.34 for constant A\n",
      "U = 1.0/X                       #Overall heat coeffocient (Btu/h.ft^2.\u00b0F)\n",
      "Q = U*A*DTlm                    #Heat transfer rate (Btu/h)\n",
      "\n",
      "#Result:\n",
      "print \"The heat transfer rate is :\",round(Q,-1),\" Btu/h .\""
     ],
     "language": "python",
     "metadata": {},
     "outputs": [
      {
       "output_type": "stream",
       "stream": "stdout",
       "text": [
        "The heat transfer rate is : 51920.0  Btu/h .\n"
       ]
      }
     ],
     "prompt_number": 17
    },
    {
     "cell_type": "heading",
     "level": 3,
     "metadata": {},
     "source": [
      "ILLUSTRATIVE EXAMPLE 14.17, Page number: 277"
     ]
    },
    {
     "cell_type": "code",
     "collapsed": false,
     "input": [
      "\n",
      "\n",
      "from __future__ import division\n",
      "from sympy import symbols,log,nsolve\n",
      "\n",
      "\n",
      "#Variable declaration:\n",
      "T = 80.0                        #Pipe surface temperature (\u00b0F)\n",
      "t1 = 10.0                       #Brine inlet temperature (\u00b0F)\n",
      "DT2 = symbols('DT2')            #Discharge temperature of the brine solution (\u00b0F)\n",
      "m = 20*60                       #Flowrate of brine solution (lb/h)\n",
      "Cp = 0.99                       #Heat capacity of brine solution (Btu/lb.\u00b0F)\n",
      "U1 = 150                        #Overall heat transfer coefficient at brine solution entrance (Btu/h.ft^2.\u00b0F)\n",
      "U2 = 140                        #Overall heat transfer coefficientat at brine solution exit (Btu/h.ft^2.\u00b0F)\n",
      "A = 2.5                         #Pipe surface area for heat transfer (ft^2)\n",
      "\n",
      "#Calculation:\n",
      "DT1 = T-t1                      #Temperature approach at the pipe entrance (\u00b0F)\n",
      "Q = m*Cp*(DT1-DT2)              #Energy balance to the brine solution across the full length of the pipe (Btu/h)\n",
      "DT1m = (DT1-DT2)/log(DT1/DT2)   #Equation for the LMTD\n",
      "QQ = A*(U2*DT1-U1*DT2)/log(U2*DT1/U1/DT2)   #Equation for the heat transfer rate (Btu/h)\n",
      "E = QQ-Q                        #Energy balance equation\n",
      "R = nsolve([E],[DT2],[1.2])     #\n",
      "DT = R[0]                       #Log mean temperature difference\n",
      "t2 = T-DT                       #In discharge temperature of the brine solution (\u00b0F)\n",
      "t2c = 5/9*(t2-32)               #In discharge temperature of the brine solution in \u00b0C (c/5 = (F-32)/9)\n",
      "_Q_ = Q.subs(DT2,DT)            #Heat transfer rate (Btu/h)\n",
      "\n",
      "#Result:\n",
      "print \"The temperature approach at the brine inlet side is :\",round(DT1,1),\" \u00b0F.\"\n",
      "print \"Or, the temperature approach at the brine inlet side is :\",round(DT1/1.8,1),\" \u00b0C.\"\n",
      "print \"The exit temperature of the brine solution is :\",round(t2,1),\" \u00b0F.\"\n",
      "print \"Or, the exit temperature of the brine solution is :\",round((t2-32)/1.8,1),\" \u00b0C.\"\n",
      "print \"The rate of heat transfer is :\",round(_Q_,-1),\" Btu/h.\"\n",
      "print \"Or, the rate of heat transfer is :\",round(_Q_/3.412,-2),\" W.\""
     ],
     "language": "python",
     "metadata": {},
     "outputs": [
      {
       "output_type": "stream",
       "stream": "stdout",
       "text": [
        "The temperature approach at the brine inlet side is : 70.0  \u00b0F.\n",
        "Or, the temperature approach at the brine inlet side is : 38.9  \u00b0C.\n",
        "The exit temperature of the brine solution is : 28.4  \u00b0F.\n",
        "Or, the exit temperature of the brine solution is : -2.0  \u00b0C.\n",
        "The rate of heat transfer is : 21830.0  Btu/h.\n",
        "Or, the rate of heat transfer is : 6400.0  W.\n"
       ]
      }
     ],
     "prompt_number": 18
    }
   ],
   "metadata": {}
  }
 ]
}