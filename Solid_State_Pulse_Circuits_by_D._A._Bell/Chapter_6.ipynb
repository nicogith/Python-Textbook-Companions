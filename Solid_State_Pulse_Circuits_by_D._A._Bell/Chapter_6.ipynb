{
 "metadata": {
  "name": "",
  "signature": "sha256:2f949cb189e4ffe46407c71647ee02b403727da1a90ca5f4d17ddb91292bba92"
 },
 "nbformat": 3,
 "nbformat_minor": 0,
 "worksheets": [
  {
   "cells": [
    {
     "cell_type": "heading",
     "level": 1,
     "metadata": {},
     "source": [
      "Chapter 6 - Schmitt Trigger Circuits and Voltage Comparators"
     ]
    },
    {
     "cell_type": "heading",
     "level": 2,
     "metadata": {},
     "source": [
      "Example E1 - Pg 179"
     ]
    },
    {
     "cell_type": "code",
     "collapsed": false,
     "input": [
      "#Caption:Determine schmitt trigger circuit components for designing it\n",
      "u=5.#Upper trigger point voltage(in volts)\n",
      "Vbe=0.7#Base emitter voltage(in volts)\n",
      "I=2.#Collector current(in mA)\n",
      "hfe=100.\n",
      "Vcc=12.#Collector voltage(in volt)\n",
      "Vce=0.2#Saturated collector emitter voltage(in volts)\n",
      "Ve=u-Vbe\n",
      "Re=Ve/I\n",
      "Rc=(Vcc-Ve-Vce)/I\n",
      "i=I/10.\n",
      "R2=u/i\n",
      "Ib2=I/hfe\n",
      "I2=u/i\n",
      "It=Ib2+i\n",
      "r=(Vcc-u)/It\n",
      "R1=r-Rc\n",
      "print '%s %.2f %s %.2f %s %.f %s %.1f' %('Circuit components are \\nRe(in kilo ohm)=',Re,'\\nRc2(in kilo ohm)=',Rc,'\\nR2(in kilo ohm)=',R2,'\\nR1(in kilo ohm)=',R1)"
     ],
     "language": "python",
     "metadata": {},
     "outputs": [
      {
       "output_type": "stream",
       "stream": "stdout",
       "text": [
        "Circuit components are \n",
        "Re(in kilo ohm)= 2.15 \n",
        "Rc2(in kilo ohm)= 3.75 \n",
        "R2(in kilo ohm)= 25 \n",
        "R1(in kilo ohm)= 28.1\n"
       ]
      }
     ],
     "prompt_number": 1
    },
    {
     "cell_type": "heading",
     "level": 2,
     "metadata": {},
     "source": [
      "Example E2 - Pg 181"
     ]
    },
    {
     "cell_type": "code",
     "collapsed": false,
     "input": [
      "#Caption:Find circuit components for designing a schmitt trigger circuit\n",
      "u=5.#Upper trigger point voltage(in volts)\n",
      "Vbe=0.7#Base emitter voltage(in volts)\n",
      "I=2.#Collector current(in mA)\n",
      "hfe=100.\n",
      "Vcc=12.#Collector voltage(in volt)\n",
      "Vce=0.2#Saturated collector emitter voltage(in volts)\n",
      "l=3.#Lower trigger point voltage(in volts)\n",
      "Ve=u-Vbe\n",
      "Re=2.2\n",
      "R1=23.6\n",
      "Rc=(Vcc-Ve-Vce)/I\n",
      "R2=22\n",
      "i=I/10.\n",
      "Ib2=I/hfe\n",
      "I2=u/i\n",
      "It=Ib2+i\n",
      "r=(Vcc-u)/It\n",
      "I1=l/R2\n",
      "Ie=(l-Vbe)/Re\n",
      "Rc1=Vcc-(I1*(r+R2))/Ie\n",
      "\n",
      "print '%s %.1f %s %.2f %s %.f %s %.1f' %('Circuit components are \\nRe(in kilo ohm)=',Re,'\\nRc1(in kilo ohm)=',Rc1,'\\nR2(in kilo ohm)=',R2,'\\nR1(in kilo ohm)=',R1)"
     ],
     "language": "python",
     "metadata": {},
     "outputs": [
      {
       "output_type": "stream",
       "stream": "stdout",
       "text": [
        "Circuit components are \n",
        "Re(in kilo ohm)= 2.2 \n",
        "Rc1(in kilo ohm)= 4.98 \n",
        "R2(in kilo ohm)= 22 \n",
        "R1(in kilo ohm)= 23.6\n"
       ]
      }
     ],
     "prompt_number": 3
    },
    {
     "cell_type": "heading",
     "level": 2,
     "metadata": {},
     "source": [
      "Example E3 - Pg 183"
     ]
    },
    {
     "cell_type": "code",
     "collapsed": false,
     "input": [
      "#Caption:Determine Largest speed up capacitance\n",
      "f=1.#Frequency(in Mhz)\n",
      "R1=22.#Resistance(in kilo ohm)\n",
      "R2=22.#Resistance(in kilo ohm)\n",
      "Rc1=4.7#Resistance(in kilo ohm)\n",
      "R=R1*(Rc1+R2)/(R1+Rc1+R2)\n",
      "t=1./f\n",
      "C=t*1000./(2.3*R)\n",
      "print '%s %.f' %('Required Capacitance(in pF)=',C)"
     ],
     "language": "python",
     "metadata": {},
     "outputs": [
      {
       "output_type": "stream",
       "stream": "stdout",
       "text": [
        "Required Capacitance(in pF)= 36\n"
       ]
      }
     ],
     "prompt_number": 4
    },
    {
     "cell_type": "heading",
     "level": 2,
     "metadata": {},
     "source": [
      "Example E4 - Pg 186"
     ]
    },
    {
     "cell_type": "code",
     "collapsed": false,
     "input": [
      "#Caption:Calculate R1,R2 and Actual UTP and LTP\n",
      "u=3.#Upper trigger voltage(in volts)\n",
      "Ib=500.#Max base current(in nA)\n",
      "Vcc=15.#Collector voltage(in volts)\n",
      "i=Ib*0.1\n",
      "R2=u*1000./i\n",
      "I=u/R2\n",
      "Vo=Vcc-1\n",
      "Vr1=Vo-u\n",
      "R1=Vr1/I\n",
      "utp=Vo*R2/(R1+R2)\n",
      "ltp=-utp\n",
      "print '%s %.f %s %.f %s %.1f %s %.1f' %('Circuit components \\nR1(in kilo ohm)=',R1,'\\nR2(in kilo ohm)=',R2,'\\nactual UTP(in volts)=',utp,'\\nactual LTP(in volts)=',ltp)\n",
      "\n",
      "#utp and ltp values are corrected "
     ],
     "language": "python",
     "metadata": {},
     "outputs": [
      {
       "output_type": "stream",
       "stream": "stdout",
       "text": [
        "Circuit components \n",
        "R1(in kilo ohm)= 220 \n",
        "R2(in kilo ohm)= 60 \n",
        "actual UTP(in volts)= 3.0 \n",
        "actual LTP(in volts)= -3.0\n"
       ]
      }
     ],
     "prompt_number": 5
    },
    {
     "cell_type": "heading",
     "level": 2,
     "metadata": {},
     "source": [
      "Example E5 - Pg 189"
     ]
    },
    {
     "cell_type": "code",
     "collapsed": false,
     "input": [
      "#Caption:Design Schmitt circuit components R1,R2,R3,R4 and R5\n",
      "u=3.#Upper trigger voltage(in volts)\n",
      "Ib=500.#Max base current(in nA)\n",
      "Vf=0.7#Forward diode voltage(in volts)\n",
      "Vk1=-2.#Voltage(in volts)\n",
      "Vcc=15.#Collector voltage(in volts)\n",
      "Vk2=-Vk1\n",
      "i=Ib*0.1\n",
      "R2=u*1000./i\n",
      "I=u/R2\n",
      "Vo=Vcc-1\n",
      "Vr1=Vo-u\n",
      "R1=Vr1/I\n",
      "I4=100.*i\n",
      "Va1=Vk1+Vf\n",
      "Vee=-Vcc\n",
      "V4=Va1-Vee\n",
      "R4=V4*1000./I4\n",
      "Va2=Vk2+Vf\n",
      "V5=Va2-Va1\n",
      "R5=V5*1000./I4\n",
      "R3=(Vcc-Va2)*1000./I4\n",
      "print '%s %.f %s %.f %s %.2f %s %.2f %s %.f' %('R1(in kilo ohm)=',R1,'\\nR2(in kilo ohm)=',R2,'\\nR3(in kilo ohm)=',R3,'\\nR4(in kilo ohm)=',R4,'\\nR5(in kilo ohm)=',R5)"
     ],
     "language": "python",
     "metadata": {},
     "outputs": [
      {
       "output_type": "stream",
       "stream": "stdout",
       "text": [
        "R1(in kilo ohm)= 220 \n",
        "R2(in kilo ohm)= 60 \n",
        "R3(in kilo ohm)= 2.46 \n",
        "R4(in kilo ohm)= 2.74 \n",
        "R5(in kilo ohm)= 1\n"
       ]
      }
     ],
     "prompt_number": 6
    },
    {
     "cell_type": "heading",
     "level": 2,
     "metadata": {},
     "source": [
      "Example E6 - Pg 192"
     ]
    },
    {
     "cell_type": "code",
     "collapsed": false,
     "input": [
      "#Caption:Design a non inverting schmitt trigger circuit\n",
      "Vcc=15.#Collector voltage(in volts)\n",
      "u=2.#Upper trigger point(in volts)\n",
      "Ib=500.#Base current(in nA)\n",
      "I2=Ib*0.1\n",
      "Vo=Vcc-1\n",
      "R2=Vo*1000./I2\n",
      "i=Vo*1000./R2\n",
      "R1=u*1000./i\n",
      "print '%s %.1f %s %.f' %('Circuit components \\nR1(in kilo ohm)=',R1,'\\nR2(in kilo ohm)=',R2)"
     ],
     "language": "python",
     "metadata": {},
     "outputs": [
      {
       "output_type": "stream",
       "stream": "stdout",
       "text": [
        "Circuit components \n",
        "R1(in kilo ohm)= 40.0 \n",
        "R2(in kilo ohm)= 280\n"
       ]
      }
     ],
     "prompt_number": 7
    }
   ],
   "metadata": {}
  }
 ]
}