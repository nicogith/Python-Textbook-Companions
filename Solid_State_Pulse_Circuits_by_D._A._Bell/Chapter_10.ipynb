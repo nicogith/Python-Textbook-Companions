{
 "metadata": {
  "name": "",
  "signature": "sha256:d6dce9450ff5762e74d24ec873c125e55f0da76ef5ec731320a5f691097d6889"
 },
 "nbformat": 3,
 "nbformat_minor": 0,
 "worksheets": [
  {
   "cells": [
    {
     "cell_type": "heading",
     "level": 1,
     "metadata": {},
     "source": [
      "Chapter 10 - Basic Logic Gates and Logic Functions"
     ]
    },
    {
     "cell_type": "heading",
     "level": 2,
     "metadata": {},
     "source": [
      "Example E1 - Pg 313"
     ]
    },
    {
     "cell_type": "code",
     "collapsed": false,
     "input": [
      "#Caption:Determine low and high voltage outputs and resistance for desinging the gate circuit\n",
      "Vcc=5.#Supply voltage(in volts)\n",
      "Vf=0.7#Diode forward voltage(in volts)\n",
      "I=0.5#Collector current(in mA)\n",
      "Vce=0.2#Collector emitter voltage(in volts)\n",
      "R=(Vcc-Vf-Vce)/I\n",
      "Vl=Vce+Vf\n",
      "Vh=Vcc\n",
      "print '%s %.1f %s %.f %s %.1f' %('Lowvoltage outputs(in volts)=',Vl,'\\nhigh voltage outputs(in volts)=',Vh,'\\nRequired resistance(in kilo ohm)=',R)"
     ],
     "language": "python",
     "metadata": {},
     "outputs": [
      {
       "output_type": "stream",
       "stream": "stdout",
       "text": [
        "Lowvoltage outputs(in volts)= 0.9 \n",
        "high voltage outputs(in volts)= 5 \n",
        "Required resistance(in kilo ohm)= 8.2\n"
       ]
      }
     ],
     "prompt_number": 1
    },
    {
     "cell_type": "heading",
     "level": 2,
     "metadata": {},
     "source": [
      "Example E2 - Pg 315"
     ]
    },
    {
     "cell_type": "code",
     "collapsed": false,
     "input": [
      "#Caption:Find minimum value of the resistance to design OR Gate\n",
      "Rc=3.3#Collector resistance(in kilo ohm)\n",
      "V=3.508#Gate output voltage(in volts)\n",
      "Vcc=5.#Supply voltage(in volts)\n",
      "Vf=0.7#Forward diode voltage(in volts)\n",
      "I=(Vcc-Vf-V)/Rc\n",
      "R=V/I\n",
      "print '%s %.1f' %('Minimum value of resistance to design the circuit is(in kilo ohm)=',R)"
     ],
     "language": "python",
     "metadata": {},
     "outputs": [
      {
       "output_type": "stream",
       "stream": "stdout",
       "text": [
        "Minimum value of resistance to design the circuit is(in kilo ohm)= 14.6\n"
       ]
      }
     ],
     "prompt_number": 2
    }
   ],
   "metadata": {}
  }
 ]
}