{
 "metadata": {
  "name": "",
  "signature": "sha256:15f85d6f61d4b6a1042826b7462beabaf536952c7c03e1ccf7c6cc8bf5becf3e"
 },
 "nbformat": 3,
 "nbformat_minor": 0,
 "worksheets": [
  {
   "cells": [
    {
     "cell_type": "heading",
     "level": 1,
     "metadata": {},
     "source": [
      "Chapter 14 - Digital Counting and Measurment"
     ]
    },
    {
     "cell_type": "heading",
     "level": 2,
     "metadata": {},
     "source": [
      "Example E1 - Pg 453"
     ]
    },
    {
     "cell_type": "code",
     "collapsed": false,
     "input": [
      "#Caption:Determine Resistors Rc and Rb\n",
      "#Ex14.1\n",
      "Vcc=5.#Collector voltage(in volts)\n",
      "Vi=5.#Input voltage(in volts)\n",
      "Vf=1.2#Diode forward voltage(in volts)\n",
      "hfe=100.\n",
      "I=20.#Diode minimum forward current(in mA)\n",
      "Vce=0.2#Collector emitter saturated voltage(in volts)\n",
      "Vbe=0.7#Base emitter voltage(in volts)\n",
      "Rc=(Vcc-Vf-Vce)*1000./I\n",
      "Ib=I*1000./hfe\n",
      "Rb=(Vi-Vbe)*1000./Ib\n",
      "print '%s %.f' %('Resistors are Rc(in kilo ohm) =',Rc)\n",
      "print '%s %.1f' %('Resistors are Rb(in kilo ohm) =',Rb)"
     ],
     "language": "python",
     "metadata": {},
     "outputs": [
      {
       "output_type": "stream",
       "stream": "stdout",
       "text": [
        "Resistors are Rc(in kilo ohm) = 180\n",
        "Resistors are Rb(in kilo ohm) = 21.5\n"
       ]
      }
     ],
     "prompt_number": 1
    },
    {
     "cell_type": "heading",
     "level": 2,
     "metadata": {},
     "source": [
      "Example E5 - Pg 475"
     ]
    },
    {
     "cell_type": "code",
     "collapsed": false,
     "input": [
      "#Caption:Determine meter indication when time base uses (a)6 decade counter (b)4 decade counter\n",
      "#Ex14.5\n",
      "f=3500.#Applied frequency(in hz)\n",
      "F=10.**6.#Clock generator frequency(in hz)\n",
      "f1=F/(10.**6.)\n",
      "t1=1./f1\n",
      "c1=f*t1\n",
      "print '%s %.f' %('Cycles of input counted during t1=',c1)\n",
      "f2=F/(10.**4.)\n",
      "t2=1./f2\n",
      "c2=f*t2\n",
      "print '%s %.f' %('Cycles of input counted during t2=',c2)"
     ],
     "language": "python",
     "metadata": {},
     "outputs": [
      {
       "output_type": "stream",
       "stream": "stdout",
       "text": [
        "Cycles of input counted during t1= 3500\n",
        "Cycles of input counted during t2= 35\n"
       ]
      }
     ],
     "prompt_number": 2
    },
    {
     "cell_type": "heading",
     "level": 2,
     "metadata": {},
     "source": [
      "Example E6 - Pg 483"
     ]
    },
    {
     "cell_type": "code",
     "collapsed": false,
     "input": [
      "#Caption:Determine required current\n",
      "#Ex14.6\n",
      "c=1280.#Input wave clock cycles\n",
      "f=200.#Output frequency(in khz)\n",
      "p=1000.#Pulses during t2\n",
      "V=1.#Input voltage(in volts)\n",
      "R=10.#Resistance(in kilo ohm)\n",
      "C=0.1#Capacitance(in micro farad)\n",
      "I=V*1000./R\n",
      "T=1000./f\n",
      "t1=T*c\n",
      "vo=(I*t1)/(C*1000.)\n",
      "t2=T*p\n",
      "Ir=C*vo*1000./t2\n",
      "print '%s %.f' %('Required current(in micro ampere)=',Ir)"
     ],
     "language": "python",
     "metadata": {},
     "outputs": [
      {
       "output_type": "stream",
       "stream": "stdout",
       "text": [
        "Required current(in micro ampere)= 128\n"
       ]
      }
     ],
     "prompt_number": 3
    }
   ],
   "metadata": {}
  }
 ]
}