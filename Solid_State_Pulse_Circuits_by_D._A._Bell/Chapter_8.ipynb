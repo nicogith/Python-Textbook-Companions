{
 "metadata": {
  "name": "",
  "signature": "sha256:d81e43eab651aa6fd30f500bbb1e0bd8705caa6c96a13be542013eec088004c3"
 },
 "nbformat": 3,
 "nbformat_minor": 0,
 "worksheets": [
  {
   "cells": [
    {
     "cell_type": "heading",
     "level": 1,
     "metadata": {},
     "source": [
      "Chapter 8 - IC Timer Circuits"
     ]
    },
    {
     "cell_type": "heading",
     "level": 2,
     "metadata": {},
     "source": [
      "Example E1 - Pg 239"
     ]
    },
    {
     "cell_type": "code",
     "collapsed": false,
     "input": [
      "#Caption:Design a 555 monostable circuit\n",
      "t=1.#Pulse width(in ms)\n",
      "Vcc=15.#Supply voltage(in volts)\n",
      "Ith=0.25#Threshold current(in micro Ampere)\n",
      "Ic=100.*Ith\n",
      "R=Vcc*1000./(3.*Ic)\n",
      "C=t*10.**6./(1.*R)\n",
      "print '%s %.f %s %.f' %('Components required for designing 555 monostable circuit are \\nR(in kilo ohm)=',R,'\\nC(in pF)=',C)"
     ],
     "language": "python",
     "metadata": {},
     "outputs": [
      {
       "output_type": "stream",
       "stream": "stdout",
       "text": [
        "Components required for designing 555 monostable circuit are \n",
        "R(in kilo ohm)= 200 \n",
        "C(in pF)= 5000\n"
       ]
      }
     ],
     "prompt_number": 2
    },
    {
     "cell_type": "heading",
     "level": 2,
     "metadata": {},
     "source": [
      "Example E2 - Pg 243"
     ]
    },
    {
     "cell_type": "code",
     "collapsed": false,
     "input": [
      "#/Caption:Design a 555 astable multivibrator\n",
      "p=2.#Pulse repetition frequency(in Khz)\n",
      "d=0.66#Duty cycle\n",
      "Ic=1.#Minimum collector voltage selected(in mA)\n",
      "Vcc=18.#Supply voltage(in volts)\n",
      "t=1000./p\n",
      "t1=d*t\n",
      "t2=t-t1\n",
      "R=Vcc/(3*Ic)\n",
      "C=t1*0.001/(0.693*R)\n",
      "Rb=t2*0.001/(0.693*C)\n",
      "Ra=R-Rb\n",
      "print '%s %.1f %s %.2f %s %.2f' %('Components required to design the circuit are resistors \\nRa(in kilo ohm)=',3.3,'\\nRb(in kilo ohm)=',Rb,'\\nCapacitance(in micro farad)=',C)"
     ],
     "language": "python",
     "metadata": {},
     "outputs": [
      {
       "output_type": "stream",
       "stream": "stdout",
       "text": [
        "Components required to design the circuit are resistors \n",
        "Ra(in kilo ohm)= 3.3 \n",
        "Rb(in kilo ohm)= 3.09 \n",
        "Capacitance(in micro farad)= 0.08\n"
       ]
      }
     ],
     "prompt_number": 3
    },
    {
     "cell_type": "heading",
     "level": 2,
     "metadata": {},
     "source": [
      "Example E3 - Pg 244"
     ]
    },
    {
     "cell_type": "code",
     "collapsed": false,
     "input": [
      "#Caption:Determine actual PRF and duty cycle\n",
      "C=0.082#Capacitance(in micro farad)\n",
      "Ra=3.3#Resistance(in kilo ohm)\n",
      "Rb=2.7#Resistance(in kilo ohm)\n",
      "t1=0.693*C*(Ra+Rb)*1000.\n",
      "t2=0.693*C*Rb*1000.\n",
      "T=t1+t2\n",
      "P=1000./T\n",
      "d=t1*100./T\n",
      "print '%s %.f %s %.2f' %('Duty cycle(in %)=',d,'\\nPRF(in Khz)=',P)"
     ],
     "language": "python",
     "metadata": {},
     "outputs": [
      {
       "output_type": "stream",
       "stream": "stdout",
       "text": [
        "Duty cycle(in %)= 69 \n",
        "PRF(in Khz)= 2.02\n"
       ]
      }
     ],
     "prompt_number": 4
    },
    {
     "cell_type": "heading",
     "level": 2,
     "metadata": {},
     "source": [
      "Example E4 - Pg 254"
     ]
    },
    {
     "cell_type": "code",
     "collapsed": false,
     "input": [
      "#Caption:Design a square wave generator using 7555 CMOS\n",
      "V=5.#Supply voltage(in volts)\n",
      "f1=1.#Frequency(in khz)\n",
      "f2=3.#Frequency(in khz)\n",
      "C=0.01#Capacitance(in micro farad)\n",
      "Ra=47.#Choosed resistor(in kilo ohm)\n",
      "t1=1./(0.979*f1)\n",
      "t2=1./(2.*f2)\n",
      "R=t1/(0.693*C)\n",
      "Rb=R-Ra\n",
      "print '%s %.f %s %.f %s %.2f' %('Components required to design the circuit are \\nRa(in kilo ohm)=',Ra,'\\nRb(in kilo ohm)=',Rb,'\\nCapacitance(in micro farad)=',C)"
     ],
     "language": "python",
     "metadata": {},
     "outputs": [
      {
       "output_type": "stream",
       "stream": "stdout",
       "text": [
        "Components required to design the circuit are \n",
        "Ra(in kilo ohm)= 47 \n",
        "Rb(in kilo ohm)= 100 \n",
        "Capacitance(in micro farad)= 0.01\n"
       ]
      }
     ],
     "prompt_number": 5
    }
   ],
   "metadata": {}
  }
 ]
}