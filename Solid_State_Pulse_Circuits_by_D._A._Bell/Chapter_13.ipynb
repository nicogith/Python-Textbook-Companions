{
 "metadata": {
  "name": "",
  "signature": "sha256:f9475ffbc67754cff4c4dd7e2520c8d46bc60bf8586e00e3a5ba9355352315e0"
 },
 "nbformat": 3,
 "nbformat_minor": 0,
 "worksheets": [
  {
   "cells": [
    {
     "cell_type": "heading",
     "level": 1,
     "metadata": {},
     "source": [
      "Chapter 13 - Bistable Multivibrators (Flip-Flops)"
     ]
    },
    {
     "cell_type": "heading",
     "level": 2,
     "metadata": {},
     "source": [
      "Example E1 - Pg 413"
     ]
    },
    {
     "cell_type": "code",
     "collapsed": false,
     "input": [
      "#Caption:Determine the capacitance for flip flop design and triggering frequency \n",
      "#Ex13.4\n",
      "R1=16.1#Resistor(in kilo ohm)\n",
      "R2=27#Resistor(in kilo ohm)\n",
      "t=260#time(in ns)\n",
      "R=R1*R2/(R1+R2)\n",
      "C=t/(0.1*R)\n",
      "f=10**6/(2.3*C*R)\n",
      "print '%s %.f %s %.f' %(\"Capacitance(in pF)=\",C,\"\\nFrequency(in Khz)=\",f)"
     ],
     "language": "python",
     "metadata": {},
     "outputs": [
      {
       "output_type": "stream",
       "stream": "stdout",
       "text": [
        "Capacitance(in pF)= 258 \n",
        "Frequency(in Khz)= 167\n"
       ]
      }
     ],
     "prompt_number": 1
    },
    {
     "cell_type": "heading",
     "level": 2,
     "metadata": {},
     "source": [
      "Example E4 - Pg 423 "
     ]
    },
    {
     "cell_type": "code",
     "collapsed": false,
     "input": [
      "#Caption:Design a collector coupled bistable multivibrator\n",
      "#Ex13.1\n",
      "V=5.#Supply voltage(in volts)\n",
      "Ic=2.#Saturated collector current(in mA)\n",
      "Vce=0.2#Collector emitter voltage(in volts)\n",
      "hfe=70.\n",
      "Vbe=0.7#Base emitter voltage(in volts)\n",
      "Vbb=-5.#Base voltage(in volts)\n",
      "Rc=(V-Vce)/Ic\n",
      "Ib=Ic/hfe\n",
      "Vb1=Vbe-Vbb\n",
      "I2=Ic/10.\n",
      "R2=Vb1/I2\n",
      "I2=Vb1/R2\n",
      "R=(V-Vbe)/(I2+Ib)\n",
      "R1=R-Rc\n",
      "print '%s %.1f %.1f %.1f' %('Components required to design the circuit are resistors(in kilo ohm)=',Rc,R1,R2)\n",
      "\n",
      "#R1 value is corrected "
     ],
     "language": "python",
     "metadata": {},
     "outputs": [
      {
       "output_type": "stream",
       "stream": "stdout",
       "text": [
        "Components required to design the circuit are resistors(in kilo ohm)= 2.4 16.4 28.5\n"
       ]
      }
     ],
     "prompt_number": 2
    }
   ],
   "metadata": {}
  }
 ]
}