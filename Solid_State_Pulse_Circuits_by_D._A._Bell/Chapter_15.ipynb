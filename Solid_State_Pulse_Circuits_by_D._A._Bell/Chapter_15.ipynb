{
 "metadata": {
  "name": "",
  "signature": "sha256:c536e76d90eae6f1eede1cdd9e694d9c8eb0678157f5d1a96e0f9e1b8f802232"
 },
 "nbformat": 3,
 "nbformat_minor": 0,
 "worksheets": [
  {
   "cells": [
    {
     "cell_type": "heading",
     "level": 1,
     "metadata": {},
     "source": [
      "Chapter 15 - Sampling, Conversion, Modulation and Multiplexing"
     ]
    },
    {
     "cell_type": "heading",
     "level": 2,
     "metadata": {},
     "source": [
      "Example E1 - Pg 496"
     ]
    },
    {
     "cell_type": "code",
     "collapsed": false,
     "input": [
      "#Caption:Determine the errors due to Rs and Rd\n",
      "#Ex15.1\n",
      "Vs=1.#Source voltage(in volts)\n",
      "Rs=100.#Source resistance(in ohm)\n",
      "Rl=10.#Load resistance(in kilo ohm)\n",
      "Rd=30.#Drain resistance(in ohm)\n",
      "Vgs=10.#Gate source voltage(in volts)\n",
      "V1=-(Vs+Vgs+1.)\n",
      "Id=Vs/(Rs+Rd+Rl)\n",
      "e1=(Id*Rs)*100./(Vs)\n",
      "e2=(Id*Rd)*100./(Vs)\n",
      "print '%s %.2f' %('Errors due to Rs(in %)=',e1)\n",
      "print '%s %.2f' %('Errors due to Rd(in %)=',e2)\n",
      "#Calclation error in textbook"
     ],
     "language": "python",
     "metadata": {},
     "outputs": [
      {
       "output_type": "stream",
       "stream": "stdout",
       "text": [
        "Errors due to Rs(in %)= 71.43\n",
        "Errors due to Rd(in %)= 21.43\n"
       ]
      }
     ],
     "prompt_number": 1
    },
    {
     "cell_type": "heading",
     "level": 2,
     "metadata": {},
     "source": [
      "Example E2 - Pg 501"
     ]
    },
    {
     "cell_type": "code",
     "collapsed": false,
     "input": [
      "#Caption:Determine capacitance and minimum acquisition time\n",
      "#Ex15.2\n",
      "Vs=1.#Supply voltage(in volts)\n",
      "a=0.25#Accuracy(in %)\n",
      "t=500.#Holding time(in micro sec)\n",
      "Ib=500.#Maximum base current(in nA)\n",
      "Rd=30.#Drain Resistance(in ohm)\n",
      "v=Vs*0.1/100.\n",
      "C=Ib*t*10.**(-9.)/v\n",
      "T=7.*C*Rd\n",
      "print '%s %.2f' %('Required capacitance(in micro farad)=',C,)\n",
      "print '%s %.1f' %('Required acquisition time(in micro sec)=',T)"
     ],
     "language": "python",
     "metadata": {},
     "outputs": [
      {
       "output_type": "stream",
       "stream": "stdout",
       "text": [
        "Required capacitance(in micro farad)= 0.25\n",
        "Required acquisition time(in micro sec)= 52.5\n"
       ]
      }
     ],
     "prompt_number": 2
    },
    {
     "cell_type": "heading",
     "level": 2,
     "metadata": {},
     "source": [
      "Example E3 - Pg 502"
     ]
    },
    {
     "cell_type": "code",
     "collapsed": false,
     "input": [
      "#Caption:Determine the error due to capacitance\n",
      "#Ex15.3\n",
      "Vgs=10.#Gate source voltage(in volts)\n",
      "C=10.5#Capacitance(in pF)\n",
      "Vs=1.#Supply voltage(in volts)\n",
      "C1=0.25#Capacitance(in micro farad)\n",
      "V1=-(Vs+Vgs+1.)\n",
      "Vgsm=Vs-(V1)\n",
      "Q=C*Vgsm\n",
      "Vo=Q/C1\n",
      "e=Vo*10.**(-6.)*100./Vs\n",
      "print '%s %.2f' %('Error due to capacitance(in %)=',e)"
     ],
     "language": "python",
     "metadata": {},
     "outputs": [
      {
       "output_type": "stream",
       "stream": "stdout",
       "text": [
        "Error due to capacitance(in %)= 0.05\n"
       ]
      }
     ],
     "prompt_number": 3
    },
    {
     "cell_type": "heading",
     "level": 2,
     "metadata": {},
     "source": [
      "Example E4 - Pg 505"
     ]
    },
    {
     "cell_type": "code",
     "collapsed": false,
     "input": [
      "#caption:Calculate the output voltage\n",
      "#Ex15.4\n",
      "Vie=1.#Input voltage for resistor Re(in volts)\n",
      "Vid=0#Input voltage for resistor Rd(in volts)\n",
      "Vic=1.#Input voltage for resistor Rc(in volts)\n",
      "Vib=1.#Input voltag for resistor Rb(in volts)\n",
      "Via=0#Input voltage for resistor Ra(in volts)\n",
      "R=16.#Input Resistor(in kilo ohm)\n",
      "re=1.#Resistor(in kilo ohm)\n",
      "rd=2.#Resistor(in kilo ohm)\n",
      "rc=4.#Resistor(in kilo ohm)\n",
      "rb=8.#Resistor(in kilo ohm)\n",
      "ra=16.#Resistor(in kilo ohm)\n",
      "Vo=R*((Vie/re)+(Vid/rd)+(Vic/rc)+(Vib/rb)+(Via/ra))\n",
      "print '%s %.f' %('Output voltage(in volts)=',Vo)"
     ],
     "language": "python",
     "metadata": {},
     "outputs": [
      {
       "output_type": "stream",
       "stream": "stdout",
       "text": [
        "Output voltage(in volts)= 22\n"
       ]
      }
     ],
     "prompt_number": 4
    }
   ],
   "metadata": {}
  }
 ]
}