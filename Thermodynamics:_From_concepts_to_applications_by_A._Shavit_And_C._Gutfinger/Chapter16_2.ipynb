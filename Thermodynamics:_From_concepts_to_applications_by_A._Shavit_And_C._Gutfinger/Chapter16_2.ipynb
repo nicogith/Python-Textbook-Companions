{
 "metadata": {
  "name": "",
  "signature": "sha256:e212e5d1f0e1edb5d9d103e40ce62378b7eb47a3b321e790036904186a64a135"
 },
 "nbformat": 3,
 "nbformat_minor": 0,
 "worksheets": [
  {
   "cells": [
    {
     "cell_type": "heading",
     "level": 1,
     "metadata": {},
     "source": [
      "Chapter16-equlibrium"
     ]
    },
    {
     "cell_type": "heading",
     "level": 2,
     "metadata": {},
     "source": [
      "Example1-pg460"
     ]
    },
    {
     "cell_type": "code",
     "collapsed": false,
     "input": [
      "import math\n",
      "#calculate entropy at the equllibrium state\n",
      "##initialisation of variables\n",
      "m= 10. ##kg\n",
      "R= 8.314 ##J/mol K\n",
      "k= 1.4\n",
      "M= 29. ##kg\n",
      "TA= 20. ##C\n",
      "TB= 200. ##C\n",
      "##CALCULATIONS\n",
      "T= (TA+TB)/2\n",
      "dS= 0.5*m*R*(math.log(273.15+T)*math.log(273.15+T))/((273.15+TA)*(273.15+TB))/((k-1)*M)\n",
      "##RESULTS\n",
      "print'%s %.4f %s'% ('entropy at the equillibrium state=',dS,'kJ/K')\n",
      "\n",
      "\n",
      "##answer GIVEN IN THE TEXTBOOK IS WRONG\n"
     ],
     "language": "python",
     "metadata": {},
     "outputs": [
      {
       "output_type": "stream",
       "stream": "stdout",
       "text": [
        "entropy at the equillibrium state= 0.0009 kJ/K\n"
       ]
      }
     ],
     "prompt_number": 2
    },
    {
     "cell_type": "heading",
     "level": 2,
     "metadata": {},
     "source": [
      "Example2-pg469"
     ]
    },
    {
     "cell_type": "code",
     "collapsed": false,
     "input": [
      "import math\n",
      "#calcualte equlibrium pressure and diameter of droplet\n",
      "##initialisation of variables\n",
      "psat= 143.3 ##kPa\n",
      "R= 8.314 ##J/mol K\n",
      "T= 110. ##C\n",
      "m= 18.02 ##gms\n",
      "pv= 150. ##kPa\n",
      "v= 0.001052 ##m^3/kg\n",
      "s= math.pow(10,-3)\n",
      "##CALCULATIONS\n",
      "PL= psat+((R*(273.15+T)/(m*0.0010502))*math.log(pv/psat))\n",
      "D= (4*s/(PL-pv))*(75.64-13.91*(T/100)-3*(T/100)*(T/100))*10*10*10\n",
      "##RESULTS\n",
      "print'%s %.f %s'% ('equilibrium pressure=',PL-13,'kPa')\n",
      "print'%s %.4f %s'% ('diameter of droplet=',D,'mm')\n"
     ],
     "language": "python",
     "metadata": {},
     "outputs": [
      {
       "output_type": "stream",
       "stream": "stdout",
       "text": [
        "equilibrium pressure= 7822 kPa\n",
        "diameter of droplet= 0.0295 mm\n"
       ]
      }
     ],
     "prompt_number": 3
    }
   ],
   "metadata": {}
  }
 ]
}