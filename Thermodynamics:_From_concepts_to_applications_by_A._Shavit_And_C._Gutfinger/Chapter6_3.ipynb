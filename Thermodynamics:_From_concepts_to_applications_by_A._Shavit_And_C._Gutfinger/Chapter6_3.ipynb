{
 "metadata": {
  "name": "",
  "signature": "sha256:3fa6f805a04c97f9f570ec814cf5d2c019b63eaef8d353695d41af7a87e5f109"
 },
 "nbformat": 3,
 "nbformat_minor": 0,
 "worksheets": [
  {
   "cells": [
    {
     "cell_type": "heading",
     "level": 1,
     "metadata": {},
     "source": [
      "Chapter6 -Control volume"
     ]
    },
    {
     "cell_type": "heading",
     "level": 2,
     "metadata": {},
     "source": [
      "Example1-pg 110"
     ]
    },
    {
     "cell_type": "code",
     "collapsed": false,
     "input": [
      "import math\n",
      "#calculate diameter for given variable\n",
      "##initialisation of variables\n",
      "R= 8.314 ##J/mol K\n",
      "M= 29 ##gms\n",
      "T= 80 ##C\n",
      "p= 104 ##/kPa\n",
      "v= 30 ##m/sec\n",
      "m= 8000 ##kg/h\n",
      "##CALCULATIONS\n",
      "V= R*(273.15+T)/(M*p)\n",
      "A= m*V/(3600*v)\n",
      "D=math.sqrt(4*A/math.pi)\n",
      "##RESULTS\n",
      "print'%s %.5f %s'%('diameter = ',D,'m^2')\n"
     ],
     "language": "python",
     "metadata": {},
     "outputs": [
      {
       "output_type": "stream",
       "stream": "stdout",
       "text": [
        "diameter =  0.30301 m^2\n"
       ]
      }
     ],
     "prompt_number": 1
    },
    {
     "cell_type": "heading",
     "level": 2,
     "metadata": {},
     "source": [
      "Example2-pg 114"
     ]
    },
    {
     "cell_type": "code",
     "collapsed": false,
     "input": [
      "import math\n",
      "#calculate intial areas\n",
      "##initialisation of variables\n",
      "R= 8.314 ##J/mol K\n",
      "M= 29. ##gms\n",
      "T1= 230. ##C\n",
      "p1= 30. ##/bar\n",
      "k= 1.4\n",
      "T2= 180. ##C\n",
      "v1= 10. ##m/s\n",
      "p2= 20. ##bar\n",
      "m2= 0.84 ##kg/s\n",
      "##CALCULATIONS\n",
      "V1= R*(273.15+T1)/(M*p1*100)\n",
      "cp= k*R/((k-1)*M)\n",
      "A= m2*V1*10*10*10*10/v1\n",
      "v2= math.sqrt(v1*v1+2*cp*10*10*10*(T1-T2))\n",
      "V2= R*(273.15+T2)/(M*p2*100)\n",
      "A2= m2*V2*10*10*10*10/v2\n",
      "##RESULTS\n",
      "print'%s %.1f %s'%('inlet area =',A,'cm^2')\n",
      "print'%s %.2f %s'%('inlet area =',A2,'cm^2')\n"
     ],
     "language": "python",
     "metadata": {},
     "outputs": [
      {
       "output_type": "stream",
       "stream": "stdout",
       "text": [
        "inlet area = 40.4 cm^2\n",
        "inlet area = 1.72 cm^2\n"
       ]
      }
     ],
     "prompt_number": 2
    },
    {
     "cell_type": "heading",
     "level": 2,
     "metadata": {},
     "source": [
      "Example3-pg 116"
     ]
    },
    {
     "cell_type": "code",
     "collapsed": false,
     "input": [
      "import math\n",
      "#calculate quantity x and specific volume\n",
      "##initialisation of variables\n",
      "h= 2676.2 ##kJ/kg\n",
      "hf= 721.11 ##kJ/kg\n",
      "hg= 2679.1 ##kJ/kg\n",
      "vf= 0.001115 ##m^3/kg\n",
      "vg= 0.2404 ##m^3/kg\n",
      "##CALCULATIONS\n",
      "x= (h-hf)/(hg-hf)\n",
      "v1= vf+x*(vg-vf)\n",
      "##RESULTS\n",
      "print'%s %.3f %s'%('quantity =',x,'')\n",
      "print'%s %.2f %s'%('specific volume = ',v1,'m^3/kg')\n"
     ],
     "language": "python",
     "metadata": {},
     "outputs": [
      {
       "output_type": "stream",
       "stream": "stdout",
       "text": [
        "quantity = 0.999 \n",
        "specific volume =  0.24 m^3/kg\n"
       ]
      }
     ],
     "prompt_number": 2
    },
    {
     "cell_type": "heading",
     "level": 2,
     "metadata": {},
     "source": [
      "Example4-pg 119"
     ]
    },
    {
     "cell_type": "code",
     "collapsed": false,
     "input": [
      "import math\n",
      "#calculate heat pump and reate heat interaction and work of the turbine and at another point rate of heat interaction and all four areas at given poin\n",
      "##initialisation of variables\n",
      "h4= 419.05 ##kJ/kg\n",
      "h1= 434.92 ##kJ/kg\n",
      "m= 2.5 ##kg/s\n",
      "h2= 3272.4 ##kJ/kg\n",
      "h3= 2601.7 ##kJ/kg\n",
      "v1= 0.001401 ##m^3/kg\n",
      "V1= 5. ##m/s\n",
      "v2= 0.03817 ##m^3/kg\n",
      "V2= 20. ##m/s\n",
      "v3= 0.8415 ##m^3/kg\n",
      "V3= 100. ##m/s\n",
      "v4= 0.00104 ##m^3/kg\n",
      "V4= 5. ##m/s\n",
      "##CALCULATIONS\n",
      "W41= m*(h4-h1)\n",
      "Q12= m*(h2-h1)\n",
      "W23= m*(h2-h3)\n",
      "Q34= m*(h4-h3)\n",
      "A1= m*v1*10.*10.*10.*10./V1\n",
      "A2= m*v2*10.*10*10.*10./V2\n",
      "A3= m*v3*10.*10*10.*10/V3\n",
      "A4= m*v4*10.*10*10.*10/V4\n",
      "##RESULTS\n",
      "print'%s %.1f %s'%('rate of pump =',W41,'kW')\n",
      "print'%s %.f %s'%('rate of heat ineraction =',Q12,'kW')\n",
      "print'%s %.1f %s'%('rate of work of the turbine =',W23,'W')\n",
      "print'%s %.f %s'%('rate of heat ineraction =',Q34,'kW')\n",
      "print'%s %.2f %s'%('area =',A1,'cm^2')\n",
      "print'%s %.2f %s'%('area =',A2,'cm^2')\n",
      "print'%s %.2f %s'%('area =',A3,'cm^2')\n",
      "print'%s %.2f %s'%('area =',A4,'cm^2')\n",
      "\n"
     ],
     "language": "python",
     "metadata": {},
     "outputs": [
      {
       "output_type": "stream",
       "stream": "stdout",
       "text": [
        "rate of pump = -39.7 kW\n",
        "rate of heat ineraction = 7094 kW\n",
        "rate of work of the turbine = 1676.8 W\n",
        "rate of heat ineraction = -5457 kW\n",
        "area = 7.00 cm^2\n",
        "area = 47.71 cm^2\n",
        "area = 210.38 cm^2\n",
        "area = 5.20 cm^2\n"
       ]
      }
     ],
     "prompt_number": 3
    },
    {
     "cell_type": "heading",
     "level": 2,
     "metadata": {},
     "source": [
      "Example5-pg 123"
     ]
    },
    {
     "cell_type": "code",
     "collapsed": false,
     "input": [
      "import math\n",
      "#calculate mass of helium and temperature of helium\n",
      "##initialisation of variables\n",
      "m1= 0.03 ##kg\n",
      "R= 8.314 ##J/mol K\n",
      "T1= 300. ##C\n",
      "p1= 120. ##kPa\n",
      "k= 5./3.\n",
      "M=4. ##kg\n",
      "p2= 600. ##kPa\n",
      "##CALCULATIONS\n",
      "V= m1*R*(273.15+T1)/(p1*M)\n",
      "m2= m1*((p2/p1)+k-1)/k\n",
      "T2= p2*V*M/(m2*R)\n",
      "##RESULTS\n",
      "print'%s %.3f %s'%('mass of helium =',m2,'kg')\n",
      "print'%s %.1f %s'%('temperature of helium =',T2,'K')\n"
     ],
     "language": "python",
     "metadata": {},
     "outputs": [
      {
       "output_type": "stream",
       "stream": "stdout",
       "text": [
        "mass of helium = 0.102 kg\n",
        "temperature of helium = 842.9 K\n"
       ]
      }
     ],
     "prompt_number": 7
    },
    {
     "cell_type": "heading",
     "level": 2,
     "metadata": {},
     "source": [
      "Eaxmple 6-pg123"
     ]
    },
    {
     "cell_type": "code",
     "collapsed": false,
     "input": [
      "import math\n",
      "#calculate volume of container and pressure\n",
      "##initialisation of variables\n",
      "m1= 0.03 ##kg\n",
      "v1= 2.1977 ##m^3/kg\n",
      "h2= 3073.8 ##kJ/kg\n",
      "h1= 3061.6 ##kJ/kg\n",
      "p2= 600. ##kPa\n",
      "p1= 120. ##kPa\n",
      "##CALCULATIONS\n",
      "V=m1*v1\n",
      "r= ((h2-h1)/v1)+p2-p1\n",
      "##RESULTS\n",
      "print'%s %.5f %s'%('volume of container =',V,'m^3')\n",
      "print'%s %.2f %s'%('pressure =',r,'kPa')\n"
     ],
     "language": "python",
     "metadata": {},
     "outputs": [
      {
       "output_type": "stream",
       "stream": "stdout",
       "text": [
        "volume of container = 0.06593 m^3\n",
        "pressure = 485.55 kPa\n"
       ]
      }
     ],
     "prompt_number": 8
    }
   ],
   "metadata": {}
  }
 ]
}