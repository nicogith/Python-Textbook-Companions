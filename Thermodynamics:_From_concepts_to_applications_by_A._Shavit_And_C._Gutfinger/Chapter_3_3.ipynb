{
 "metadata": {
  "name": "",
  "signature": "sha256:6d28037b4c9a453240f29bc629f78e4da0796902d617a06cee6c7af7af12458e"
 },
 "nbformat": 3,
 "nbformat_minor": 0,
 "worksheets": [
  {
   "cells": [
    {
     "cell_type": "heading",
     "level": 1,
     "metadata": {},
     "source": [
      "chapter3-Work energy and heat first law of thermodynamics"
     ]
    },
    {
     "cell_type": "heading",
     "level": 2,
     "metadata": {},
     "source": [
      "Example 3 - Pg 25"
     ]
    },
    {
     "cell_type": "code",
     "collapsed": false,
     "input": [
      "import math\n",
      "##calculate the work interaction of spring\n",
      "##initialisation of variables\n",
      "m= 5 ##kg\n",
      "g= 9.8 ##m/sec^2\n",
      "k= 500 ##N/m\n",
      "##CALCULATIONS\n",
      "x= m*g/k\n",
      "W= -m*g*x\n",
      "##RESULTS\n",
      "print'%s %.2f %s'% ('work interaction of spring = ',W,'J')\n"
     ],
     "language": "python",
     "metadata": {},
     "outputs": [
      {
       "output_type": "stream",
       "stream": "stdout",
       "text": [
        "work interaction of spring =  -4.80 J\n"
       ]
      }
     ],
     "prompt_number": 2
    },
    {
     "cell_type": "heading",
     "level": 2,
     "metadata": {},
     "source": [
      "Example 4 pg 27"
     ]
    },
    {
     "cell_type": "code",
     "collapsed": false,
     "input": [
      "import math\n",
      "##calculate the work done by the gas\n",
      "##initialisation of variables\n",
      "m= 500 ##kg\n",
      "V= 50 ##L\n",
      "P= 700 ##kPa\n",
      "T= 25 ##C\n",
      "P0= 100 ##kPa\n",
      "g= 9.8 ##m/sec^2\n",
      "A= 200 ##cm^2\n",
      "V1= 100 ##L\n",
      "##CALCULATIONS\n",
      "pe= P0*math.pow(10,3)+(m*g/(A*(math.pow(10,-4))))\n",
      "W= pe*(V1-V)*(math.pow(10,-6))\n",
      "##RESULTS\n",
      "print'%s %.2f %s'% ('work of the gas =',W,'kJ')"
     ],
     "language": "python",
     "metadata": {},
     "outputs": [
      {
       "output_type": "stream",
       "stream": "stdout",
       "text": [
        "work of the gas = 17.25 kJ\n"
       ]
      }
     ],
     "prompt_number": 3
    },
    {
     "cell_type": "heading",
     "level": 2,
     "metadata": {},
     "source": [
      "Example 5 pg 32"
     ]
    },
    {
     "cell_type": "code",
     "collapsed": false,
     "input": [
      "import math\n",
      "##calcualte the energy change in process 1,2,3 and work in third process\n",
      "##initialisation of variables\n",
      "W= 5 ##kJ\n",
      "Q= 23 ##kJ\n",
      "Q1= -50 ##kJ\n",
      "W1= 0 ##kJ\n",
      "##CALCULATIONS\n",
      "E1= Q-W\n",
      "E2= Q1-W1\n",
      "E3= -(E1+E2)\n",
      "W3= -E3\n",
      "##RESULTS\n",
      "print '%s %.f %s'%('energy change in process 1 =',E1,'kJ')\n",
      "print'%s %.f %s'% ('energy change in process 2 = ',E2,'kJ')\n",
      "print '%s %.f %s'%('energy change in process 3 = ',E3,'kJ')\n",
      "print '%s %.f %s'%('Work in third process = ',W3,'kJ')\n"
     ],
     "language": "python",
     "metadata": {},
     "outputs": [
      {
       "output_type": "stream",
       "stream": "stdout",
       "text": [
        "energy change in process 1 = 18 kJ\n",
        "energy change in process 2 =  -50 kJ\n",
        "energy change in process 3 =  32 kJ\n",
        "Work in third process =  -32 kJ\n"
       ]
      }
     ],
     "prompt_number": 4
    },
    {
     "cell_type": "heading",
     "level": 2,
     "metadata": {},
     "source": [
      "Example 6 pg 34"
     ]
    },
    {
     "cell_type": "code",
     "collapsed": false,
     "input": [
      "import math\n",
      "##calculat the car mileage of given variable\n",
      "##initialisation of variables\n",
      "V= 12 ##km/L\n",
      "##CALCULATIONS\n",
      "MPG= V*3.7854/1.609\n",
      "##RESULTS\n",
      "print'%s %.2f %s'%('car mileage =',MPG,'MPG')\n"
     ],
     "language": "python",
     "metadata": {},
     "outputs": [
      {
       "output_type": "stream",
       "stream": "stdout",
       "text": [
        "car mileage = 28.23 MPG\n"
       ]
      }
     ],
     "prompt_number": 5
    },
    {
     "cell_type": "heading",
     "level": 2,
     "metadata": {},
     "source": [
      "Example 7 pg 35"
     ]
    },
    {
     "cell_type": "code",
     "collapsed": false,
     "input": [
      "import math\n",
      "##find whether salesman is honest or not\n",
      "##initialisation of variables\n",
      "p= 800 ##atm\n",
      "P= 10000 ##psi\n",
      "x= 14.696 ##psi/atm\n",
      "##CALCULATIONS\n",
      "P1= p*x\n",
      "##RESULTS\n",
      "if (P1>P):\n",
      "\tprint (\"Salesman is honest\")\n",
      "\n"
     ],
     "language": "python",
     "metadata": {},
     "outputs": [
      {
       "output_type": "stream",
       "stream": "stdout",
       "text": [
        "Salesman is honest\n"
       ]
      }
     ],
     "prompt_number": 6
    }
   ],
   "metadata": {}
  }
 ]
}