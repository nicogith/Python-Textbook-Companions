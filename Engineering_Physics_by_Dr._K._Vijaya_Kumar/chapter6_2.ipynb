{
 "metadata": {
  "name": "chapter6 (1)"
 },
 "nbformat": 3,
 "nbformat_minor": 0,
 "worksheets": [
  {
   "cells": [
    {
     "cell_type": "heading",
     "level": 1,
     "metadata": {},
     "source": "Dielectric Properties"
    },
    {
     "cell_type": "heading",
     "level": 2,
     "metadata": {},
     "source": "Example number 6.1, Page number 187"
    },
    {
     "cell_type": "code",
     "collapsed": false,
     "input": "# To calculate the energy stored in the condenser and polarizing the dielectric\n\n#import module\nimport math\nfrom __future__ import division\n\n#Variable decleration\nC=2;    #capacitance in micro farad\nC=C*10**-6;    #capacitance in farad\nV=1000;         #voltage in Volts\nepsilon_r=100;    \n\n#Calculation\nW=(C*(V**2))/2;\nC0=C/epsilon_r;\nW0=(C0*(V**2))/2;\nW_0=1-W0;\n\n#Result\nprint(\"energy stored in the condenser in Joule is\",W);\nprint(\"energy stored in the dielectric in Joule is\",W_0);",
     "language": "python",
     "metadata": {},
     "outputs": [
      {
       "output_type": "stream",
       "stream": "stdout",
       "text": "('energy stored in the condenser in Joule is', 1.0)\n('energy stored in the dielectric in Joule is', 0.99)\n"
      }
     ],
     "prompt_number": 1
    },
    {
     "cell_type": "heading",
     "level": 2,
     "metadata": {},
     "source": "Example number 6.2, Page number 188"
    },
    {
     "cell_type": "code",
     "collapsed": false,
     "input": "# To calculate the ratio between electronic and ionic polarizability\n\n#import module\nimport math\nfrom __future__ import division\n\n#Variable decleration\nepsilon_r=4.94;\nN=2.69;     #let n**2 be N\n\n#Calculaion\n#(epsilon_r-1)/(epsilon_r+2) = (N*alpha)/(3*epsilon_0)\n#alpha = alpha_e+alpha_i\n#therefore (epsilon_r-1)/(epsilon_r+2) = (N*(alpha_e+alpha_i))/(3*epsilon_0)\n#let (N*(alpha_e+alpha_i))/(3*epsilon_0) be X\nX=(epsilon_r-1)/(epsilon_r+2);\n#Ez=n^2\n#therefore (N-1)/(N+2) = (N*alpha_e)/(3*epsilon_0)\n#let (N*alpha_e)/(3*epsilon_0) be Y\nY=(N-1)/(N+2);\n#dividing X/Y = (N*(alpha_e+alpha_i))/(N*alpha_e)\n#therefore X/Y = 1+(alpha_i/alpha_e)\n#let alpha_i/alpha_e be A\nR=(X/Y)-1;\nR=math.ceil(R*10**4)/10**4;   #rounding off to 4 decimals\n\n#Result\nprint(\"ratio between electronic and ionic polarizability is\",R);\n\n#answer given in the book is wrong in the second part",
     "language": "python",
     "metadata": {},
     "outputs": [
      {
       "output_type": "stream",
       "stream": "stdout",
       "text": "('ratio between electronic and ionic polarizability is', 0.5756)\n"
      }
     ],
     "prompt_number": 3
    },
    {
     "cell_type": "heading",
     "level": 2,
     "metadata": {},
     "source": "Example number 6.3, Page number 188"
    },
    {
     "cell_type": "code",
     "collapsed": false,
     "input": "# To calculate the dielectric constant of the material\n\n#import module\nimport math\nfrom __future__ import division\n\n#Variable decleration\nN=3*10**28;   #atoms per m^3\nalpha_e=10**-40;   #farad m^2\nepsilon_0=8.854*10**-12;    #f/m\n\n#Calculation\nepsilon_r=1+(N*alpha_e/epsilon_0);\nepsilon_r=math.ceil(epsilon_r*10**3)/10**3;   #rounding off to 3 decimals\n\n#Result\nprint(\"dielectric constant of the material is\",epsilon_r);",
     "language": "python",
     "metadata": {},
     "outputs": [
      {
       "output_type": "stream",
       "stream": "stdout",
       "text": "('dielectric constant of the material is', 1.339)\n"
      }
     ],
     "prompt_number": 5
    },
    {
     "cell_type": "heading",
     "level": 2,
     "metadata": {},
     "source": "Example number 6.4, Page number 189"
    },
    {
     "cell_type": "code",
     "collapsed": false,
     "input": "# To calculate the electronic polarizability of He atoms\n\n#import module\nimport math\nfrom __future__ import division\n\n#Variable decleration\nepsilon_0=8.854*10**-12;    #f/m\nepsilon_r=1.0000684;\n\n#Calculation\nN=2.7*10**25;               #atoms per m^3\nalpha_e=(epsilon_0*(epsilon_r-1))/N;\n\n#Result\nprint(\"electronic polarizability of He atoms in Fm^2 is\",alpha_e);",
     "language": "python",
     "metadata": {},
     "outputs": [
      {
       "output_type": "stream",
       "stream": "stdout",
       "text": "('electronic polarizability of He atoms in Fm^2 is', 2.2430133333322991e-41)\n"
      }
     ],
     "prompt_number": 6
    },
    {
     "cell_type": "heading",
     "level": 2,
     "metadata": {},
     "source": "Example number 6.5, Page number 189"
    },
    {
     "cell_type": "code",
     "collapsed": false,
     "input": "# To calculate the capacitance and charge\n\n#import module\nimport math\nfrom __future__ import division\n\n#Variable decleration\nepsilon_0=8.854*10**-12;    #f/m\nA=100;    #area in cm^2\nA=A*10**-4;   #area in m^2\nV=100;   #potential in V\nd=1;   #plate seperation in cm\n\n#Calculation\nd=d*10**-2;    #plate seperation in m\nC=(epsilon_0*A)/d;\nQ=C*V;\n\n#Result\nprint(\"charge on the plates in F is\",C);\nprint(\"charge on the capacitor in coulomb is\",Q);",
     "language": "python",
     "metadata": {},
     "outputs": [
      {
       "output_type": "stream",
       "stream": "stdout",
       "text": "('charge on the plates in F is', 8.854e-12)\n('charge on the capacitor in coulomb is', 8.854e-10)\n"
      }
     ],
     "prompt_number": 7
    },
    {
     "cell_type": "heading",
     "level": 2,
     "metadata": {},
     "source": "Example number 6.6, Page number 190"
    },
    {
     "cell_type": "code",
     "collapsed": false,
     "input": "# To calculate the resultant voltage across the capacitors\n\n#import module\nimport math\nfrom __future__ import division\n\n\n#Variable decleration\nQ=2*10**-10;   #charge in coulomb\nd=4;   #plate seperation in mm\nd=d*10**-3;    #plate seperation in m\nepsilon_r=3.5;\nepsilon_0=8.85*10**-12;    #f/m\nA=650;    #area in mm^2\n\n#Calculation\nA=A*10**-6;    #area in m^2\nV=(Q*d)/(epsilon_0*epsilon_r*A);\nV=math.ceil(V*10**3)/10**3;   #rounding off to 3 decimals\n\n#Result\nprint(\"voltage across the capacitor in Volts is\",V);",
     "language": "python",
     "metadata": {},
     "outputs": [
      {
       "output_type": "stream",
       "stream": "stdout",
       "text": "('voltage across the capacitor in Volts is', 39.735)\n"
      }
     ],
     "prompt_number": 9
    },
    {
     "cell_type": "heading",
     "level": 2,
     "metadata": {},
     "source": "Example number 6.7, Page number 190"
    },
    {
     "cell_type": "code",
     "collapsed": false,
     "input": "# To calculate the dielectric displacement\n\n#import module\nimport math\nfrom __future__ import division\n\n\n#Variable decleration\nV=10;   #potential in volts\nd=2*10**-3;    #plate seperation in m\nepsilon_r=6;    #dielectric constant\nepsilon_0=8.85*10**-12;    #f/m\n\n#Calculation\nE=V/d;\nD=epsilon_0*epsilon_r*E;\n\n#Result\nprint(\"dielectric displacement in cm^-2 is\",D);\n\n#answer given in the book is wrong in the 7th decimal point",
     "language": "python",
     "metadata": {},
     "outputs": [
      {
       "output_type": "stream",
       "stream": "stdout",
       "text": "('dielectric displacement in cm^-2 is', 2.6549999999999994e-07)\n"
      }
     ],
     "prompt_number": 10
    },
    {
     "cell_type": "heading",
     "level": 2,
     "metadata": {},
     "source": "Example number 6.8, Page number 191"
    },
    {
     "cell_type": "code",
     "collapsed": false,
     "input": "# To calculate the polarizability and relative permittivity of He\n\n#import module\nimport math\nfrom __future__ import division\n\n\n#Variable decleration\nR=0.55;    #radius of He atom in angstrom\nR=R*10**-10;    #radius of He atom in m\nepsilon_0=8.84*10**-12;    #f/m\nN=2.7*10**25;\n\n#Calculation\nalpha_e=4*math.pi*epsilon_0*R**3;\nepsilon_r=(N*alpha_e/epsilon_0)+1;\nepsilon_r=math.ceil(epsilon_r*10**6)/10**6;   #rounding off to 6 decimals\n\n#Result\nprint(\"polarizability in farad m^2 is\",alpha_e);\nprint(\"relative permitivity is\",epsilon_r);",
     "language": "python",
     "metadata": {},
     "outputs": [
      {
       "output_type": "stream",
       "stream": "stdout",
       "text": "('polarizability in farad m^2 is', 1.848205241292183e-41)\n('relative permitivity is', 1.000057)\n"
      }
     ],
     "prompt_number": 12
    },
    {
     "cell_type": "heading",
     "level": 2,
     "metadata": {},
     "source": "Example number 6.9, Page number 191"
    },
    {
     "cell_type": "code",
     "collapsed": false,
     "input": "# To calculate the field strength and total dipole moment\n\n#import module\nimport math\nfrom __future__ import division\n\n\n#Variable decleration\nV=15;    #potential difference in volts\nC=6;    #capacity in micro farad\nC=C*10**-6;    #capacity in farad\nepsilon_0=8.84*10**-12;    #f/m\nepsilon_r=8;\nA=360;     #surface area in cm^2\n\n#Calculation\nA=A*10**-4;    #surface area in m^2\nE=(V*C)/(epsilon_0*epsilon_r*A);\nd=epsilon_0*(epsilon_r-1)*V*A;\n\n#Result\nprint(\"field strength in V/m is\",E);\nprint(\"total dipole moment in cm is\",d);\n\n#answer for field strength E given in the book is wrong ",
     "language": "python",
     "metadata": {},
     "outputs": [
      {
       "output_type": "stream",
       "stream": "stdout",
       "text": "('field strength in V/m is', 35350678.73303167)\n('total dipole moment in cm is', 3.34152e-11)\n"
      }
     ],
     "prompt_number": 13
    },
    {
     "cell_type": "heading",
     "level": 2,
     "metadata": {},
     "source": "Example number 6.10, Page number 191"
    },
    {
     "cell_type": "code",
     "collapsed": false,
     "input": "# To calculate the complex polarisability of material\n\n#import module\nimport math\nfrom __future__ import division\n\n#Variable decleration\nepsilonr=4.36;      #dielectric constant\nt=2.8*10**-2;       #loss tangent(t)\nN=4*10**28;         #number of electrons\nepsilon0=8.84*10**-12;      \n\n#Calculation\nepsilon_r = epsilonr*t;\nepsilonstar = (complex(epsilonr,-epsilon_r));\nalphastar = (epsilonstar-1)/(epsilonstar+2);\nalpha_star = 3*epsilon0*alphastar/N;             #complex polarizability(Fm**2)\n\n#Result\nprint(\"the complex polarizability in F-m^2 is\"'alphastar',alpha_star);\n#disp('j',I,R);\n#by taking 10^-40 common we get alphastar = (3.5-j0.06)*10^-40 F-m^2",
     "language": "python",
     "metadata": {},
     "outputs": [
      {
       "output_type": "stream",
       "stream": "stdout",
       "text": "('the complex polarizability in F-m^2 isalphastar', (3.5037933503257222e-40-6.000743833211258e-42j))\n"
      }
     ],
     "prompt_number": 11
    },
    {
     "cell_type": "code",
     "collapsed": false,
     "input": "",
     "language": "python",
     "metadata": {},
     "outputs": []
    }
   ],
   "metadata": {}
  }
 ]
}