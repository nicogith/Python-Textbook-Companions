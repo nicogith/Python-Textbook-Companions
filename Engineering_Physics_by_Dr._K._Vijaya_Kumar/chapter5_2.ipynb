{
 "metadata": {
  "name": "",
  "signature": "sha256:19dabe1afe46093105a84b4746899bd5b483ca26e3b557510765740ff72179af"
 },
 "nbformat": 3,
 "nbformat_minor": 0,
 "worksheets": [
  {
   "cells": [
    {
     "cell_type": "heading",
     "level": 1,
     "metadata": {},
     "source": [
      "Superconductivity"
     ]
    },
    {
     "cell_type": "heading",
     "level": 2,
     "metadata": {},
     "source": [
      "Example number 5.1, Page number 148"
     ]
    },
    {
     "cell_type": "code",
     "collapsed": false,
     "input": [
      " \n",
      "#importing modules\n",
      "import math\n",
      "\n",
      "#Variable declaration\n",
      "Tc=3.7;        #in kelvin\n",
      "Hc_0=0.0306;         \n",
      "T=2\n",
      "\n",
      "#Calculation\n",
      "Hc_2k=Hc_0*(1-((T/Tc)**2));\n",
      "Hc_2k=math.ceil(Hc_2k*10**5)/10**5;   #rounding off to 5 decimals\n",
      "\n",
      "#Result\n",
      "print(\"the critical feild at 2K in tesla is\",Hc_2k);\n"
     ],
     "language": "python",
     "metadata": {},
     "outputs": [
      {
       "output_type": "stream",
       "stream": "stdout",
       "text": [
        "('the critical feild at 2K in tesla is', 0.02166)\n"
       ]
      }
     ],
     "prompt_number": 4
    },
    {
     "cell_type": "heading",
     "level": 2,
     "metadata": {},
     "source": [
      "Example number 5.2, Page number 149\n"
     ]
    },
    {
     "cell_type": "code",
     "collapsed": false,
     "input": [
      " \n",
      "#importing modules\n",
      "import math\n",
      "\n",
      "#Variable declaration\n",
      "T=4.2;                     #in kelvin\n",
      "Tc=7.18;                   #in kelvin\n",
      "Hc_0=6.5*10**4;            #in amp per meter\n",
      "D=10**-3\n",
      "\n",
      "#Calculation\n",
      "R=D/2;                      #radius is equal to half of diameter\n",
      "Hc_T=Hc_0*(1-((T/Tc)**2));\n",
      "Hc_T=math.ceil(Hc_T*10)/10;   #rounding off to 1 decimals\n",
      "Ic=2*math.pi*R*Hc_T        #critical current is calculated by 2*pi*r*Hc(T)\n",
      "Ic=math.ceil(Ic*10**2)/10**2;   #rounding off to 2 decimals\n",
      "\n",
      "#Result\n",
      "print(\"the critical feild in Tesla is\",round(Hc_T));\n",
      "print(\"the critical current in Amp is\",Ic);\n"
     ],
     "language": "python",
     "metadata": {},
     "outputs": [
      {
       "output_type": "stream",
       "stream": "stdout",
       "text": [
        "('the critical feild in Tesla is', 42759.0)\n",
        "('the critical current in Amp is', 134.34)\n"
       ]
      }
     ],
     "prompt_number": 19
    },
    {
     "cell_type": "heading",
     "level": 2,
     "metadata": {},
     "source": [
      "Example number 5.3, Page number 149\n"
     ]
    },
    {
     "cell_type": "code",
     "collapsed": false,
     "input": [
      " \n",
      "#importing modules\n",
      "import math\n",
      "\n",
      "#Variable declaration\n",
      "lamda_T=75          #in nm\n",
      "T=3.5          \n",
      "HgTc=4.12          #in K\n",
      "\n",
      "#Calculation\n",
      "lamda_o=lamda_T*math.sqrt(1-((T/HgTc)**4));\n",
      "lamda_o=math.ceil(lamda_o*10**2)/10**2;   #rounding off to 2 decimals\n",
      "\n",
      "#Result\n",
      "print(\"the pentration depth at 0k is\",lamda_o);"
     ],
     "language": "python",
     "metadata": {},
     "outputs": [
      {
       "output_type": "stream",
       "stream": "stdout",
       "text": [
        "('the pentration depth at 0k is', 51.92)\n"
       ]
      }
     ],
     "prompt_number": 29
    },
    {
     "cell_type": "heading",
     "level": 2,
     "metadata": {},
     "source": [
      "Example number 5.4, Page number 150"
     ]
    },
    {
     "cell_type": "code",
     "collapsed": false,
     "input": [
      " \n",
      "#importing modules\n",
      "import math\n",
      "\n",
      "#Variable declaration\n",
      "lamda_T1=396             #pentration depth in armstrong\n",
      "lamda_T2=1730            #pentration depth in armstrong\n",
      "T1=3                     #temperature in K\n",
      "T2=7.1                   #temperature in K\n",
      "\n",
      "#Calculation\n",
      "#lamda_T2**2=lamda_0**2*(((Tc**4-T2**4)/Tc**4)**-1)\n",
      "#lamda_T1**2=lamda_0**2*(((Tc**4-T1**4)/Tc**4)**-1)\n",
      "#dividing lamda_T2**2 by lamda_T1**2 = (Tc**4-T1**4)/(Tc**4-T2**4)\n",
      "#let A=lamda_T2**2 and B=lamda_T1**2\n",
      "A=lamda_T2**2\n",
      "B=lamda_T1**2\n",
      "C=A/B\n",
      "C=math.ceil(C*10**4)/10**4;   #rounding off to 4 decimals\n",
      "X=T1**4\n",
      "Y=T2**4\n",
      "Y=math.ceil(Y*10**2)/10**2;   #rounding off to 2 decimals\n",
      "#C*((TC**4)-Y)=(Tc**4)-X\n",
      "#C*(Tc**4)-(Tc**4)=C*Y-X\n",
      "#(Tc**4)*(C-1)=(C*Y)-X\n",
      "#let Tc**4 be D\n",
      "#D*(C-1)=(C*Y)-X\n",
      "D=((C*Y)-X)/(C-1)\n",
      "D=math.ceil(D*10)/10;   #rounding off to 1 decimals\n",
      "Tc=D**(1/4)\n",
      "Tc=math.ceil(Tc*10**4)/10**4;   #rounding off to 4 decimals\n",
      "\n",
      "#Result\n",
      "print(\"the pentration depth at 0k is\",Tc);"
     ],
     "language": "python",
     "metadata": {},
     "outputs": [
      {
       "output_type": "stream",
       "stream": "stdout",
       "text": [
        "('the pentration depth at 0k is', 7.1932)\n"
       ]
      }
     ],
     "prompt_number": 44
    },
    {
     "cell_type": "heading",
     "level": 2,
     "metadata": {},
     "source": [
      "Example number 5.5, Page number 150"
     ]
    },
    {
     "cell_type": "code",
     "collapsed": false,
     "input": [
      " \n",
      "#importing modules\n",
      "import math\n",
      "\n",
      "#Variable declaration\n",
      "Tc=7.2            #in K\n",
      "Ho=6.5*10**3      #in amp per m\n",
      "T=5               #in K\n",
      "\n",
      "#Calculation\n",
      "Hc=Ho*(1-((T/Tc)**2))\n",
      "Hc=math.ceil(Hc*10**2)/10**2;   #rounding off to 2 decimals\n",
      "\n",
      "#Result\n",
      "print(\"the critical magnetic feild at 5K in amp per m is\",Hc)\n",
      "\n",
      "# answer given in the book is wrong"
     ],
     "language": "python",
     "metadata": {},
     "outputs": [
      {
       "output_type": "stream",
       "stream": "stdout",
       "text": [
        "('the critical magnetic feild at 5K in amp per m is', 3365.36)\n"
       ]
      }
     ],
     "prompt_number": 33
    },
    {
     "cell_type": "heading",
     "level": 2,
     "metadata": {},
     "source": [
      "Example number 5.6, Page number 151"
     ]
    },
    {
     "cell_type": "code",
     "collapsed": false,
     "input": [
      " \n",
      "#importing modules\n",
      "import math\n",
      "\n",
      "#Variable declaration\n",
      "Tc=3.5            #in K\n",
      "Ho=3.2*10**3      #in amp per m\n",
      "T=2.5             #in K\n",
      "\n",
      "#Calculation\n",
      "Hc=Ho*(1-((T/Tc)**2))\n",
      "Hc=math.ceil(Hc*10**2)/10**2;   #rounding off to 2 decimals\n",
      "\n",
      "#Result\n",
      "print(\"the critical magnetic feild at 5K in amp per m is\",Hc)\n",
      "\n",
      "#answer in the book is wrong"
     ],
     "language": "python",
     "metadata": {},
     "outputs": [
      {
       "output_type": "stream",
       "stream": "stdout",
       "text": [
        "('the critical magnetic feild at 5K in amp per m is', 1567.35)\n"
       ]
      }
     ],
     "prompt_number": 45
    },
    {
     "cell_type": "heading",
     "level": 2,
     "metadata": {},
     "source": [
      "Example number 5.7, Page number 151"
     ]
    },
    {
     "cell_type": "code",
     "collapsed": false,
     "input": [
      " \n",
      "#importing modules\n",
      "import math\n",
      "\n",
      "#Variable declaration\n",
      "Hc=5*10**3        #in amp per m\n",
      "Ho=2*10**4        #in amp per m\n",
      "T=6               #in K\n",
      "\n",
      "#Calculation\n",
      "Tc=T/math.sqrt(1-(Hc/Ho))\n",
      "Tc=math.ceil(Tc*10**2)/10**2;   #rounding off to 2 decimals\n",
      "\n",
      "#Result\n",
      "print(\"the critical magnetic feild at 5K in amp per m is\",Tc)\n",
      "\n",
      "#answer in the book is wrong"
     ],
     "language": "python",
     "metadata": {},
     "outputs": [
      {
       "output_type": "stream",
       "stream": "stdout",
       "text": [
        "('the critical magnetic feild at 5K in amp per m is', 6.93)\n"
       ]
      }
     ],
     "prompt_number": 66
    },
    {
     "cell_type": "heading",
     "level": 2,
     "metadata": {},
     "source": [
      "Example number 5.8, Page number 152"
     ]
    },
    {
     "cell_type": "code",
     "collapsed": false,
     "input": [
      " \n",
      "#importing modules\n",
      "import math\n",
      "\n",
      "#Variable declaration\n",
      "Hc=2*10**3        #in amp per m\n",
      "R=0.02           #in m\n",
      "\n",
      "#Calculation\n",
      "Ic=2*math.pi*R*Hc\n",
      "Ic=math.ceil(Ic*10**2)/10**2;   #rounding off to 2 decimals\n",
      "\n",
      "#Result\n",
      "print(\"the critical current is\",Ic)\n",
      "\n",
      "#answer in the book is wrong"
     ],
     "language": "python",
     "metadata": {},
     "outputs": [
      {
       "output_type": "stream",
       "stream": "stdout",
       "text": [
        "('the critical magnetic feild at 5K in amp per m is', 251.33)\n"
       ]
      }
     ],
     "prompt_number": 2
    },
    {
     "cell_type": "heading",
     "level": 2,
     "metadata": {},
     "source": [
      "Example number 5.9, Page number 152"
     ]
    },
    {
     "cell_type": "code",
     "collapsed": false,
     "input": [
      " \n",
      "#importing modules\n",
      "import math\n",
      "\n",
      "#Variable declaration\n",
      "M1=199.5       #in a.m.u\n",
      "T1=5            #in K\n",
      "T2=5.1          #in K\n",
      "\n",
      "#Calculation\n",
      "M2=((T1/T2)**2)*M1\n",
      "M2=math.ceil(M2*10**3)/10**3;   #rounding off to 3 decimals\n",
      "\n",
      "#Result\n",
      "print(\"the isotopic mass of M2 is\",M2)"
     ],
     "language": "python",
     "metadata": {},
     "outputs": [
      {
       "output_type": "stream",
       "stream": "stdout",
       "text": [
        "('the isotopic mass of M2 is', 191.754)\n"
       ]
      }
     ],
     "prompt_number": 4
    },
    {
     "cell_type": "heading",
     "level": 2,
     "metadata": {},
     "source": [
      "Example number 5.10, Page number 152"
     ]
    },
    {
     "cell_type": "code",
     "collapsed": false,
     "input": [
      "import math\n",
      "from __future__ import division\n",
      "\n",
      "#Variable declaration\n",
      "D=3*10**-3        #in meters\n",
      "Tc=8              #in K \n",
      "T=5               #in K \n",
      "Ho=5*10**4\n",
      "\n",
      "#Calculation\n",
      "R=D/2\n",
      "Hc=Ho*(1-((T/Tc)**2))\n",
      "Ic=2*math.pi*R*Hc\n",
      "Ic=math.ceil(Ic*10**3)/10**3;   #rounding off to 3 decimals\n",
      "\n",
      "#Result\n",
      "print(\"critical magnetic feild in amp per m is\",round(Hc));\n",
      "print(\"critical current in amp is\",Ic);\n",
      "\n",
      "#answer in the book is wrong"
     ],
     "language": "python",
     "metadata": {},
     "outputs": [
      {
       "output_type": "stream",
       "stream": "stdout",
       "text": [
        "('critical magnetic feild in amp per m is', 30469.0)\n",
        "('critical current in amp is', 287.162)\n"
       ]
      }
     ],
     "prompt_number": 22
    },
    {
     "cell_type": "heading",
     "level": 2,
     "metadata": {},
     "source": [
      "Example number 5.11, Page number 153"
     ]
    },
    {
     "cell_type": "code",
     "collapsed": false,
     "input": [
      " \n",
      "#importing modules\n",
      "import math\n",
      "\n",
      "#Variable declaration\n",
      "M1=199.5       \n",
      "M2=203.4       \n",
      "Tc1=4.185            #in K\n",
      "\n",
      "#Calculation\n",
      "Tc2=Tc1*math.sqrt(M1/M2)\n",
      "Tc2=math.ceil(Tc2*10**3)/10**3;   #rounding off to 3 decimals\n",
      "\n",
      "#Result\n",
      "print(\"the critical temperature is\",Tc2)"
     ],
     "language": "python",
     "metadata": {},
     "outputs": [
      {
       "output_type": "stream",
       "stream": "stdout",
       "text": [
        "('the critical temperature is', 4.145)\n"
       ]
      }
     ],
     "prompt_number": 3
    },
    {
     "cell_type": "heading",
     "level": 2,
     "metadata": {},
     "source": [
      "Example number 5.12, Page number 154"
     ]
    },
    {
     "cell_type": "code",
     "collapsed": false,
     "input": [
      " \n",
      "#importing modules\n",
      "import math\n",
      "from __future__ import division\n",
      "\n",
      "#Variable declaration\n",
      "V=8.5*10**-6           #in volts\n",
      "e=1.6*10**-19          #in C\n",
      "h=6.626*10**-24\n",
      "\n",
      "#Calculation\n",
      "new=2*e*V/h\n",
      "new=math.ceil(new*10**5)/10**5;   #rounding off to 5 decimals\n",
      "\n",
      "#Result\n",
      "print(\"EM wave generated frequency in Hz is\",new)\n",
      "\n"
     ],
     "language": "python",
     "metadata": {},
     "outputs": [
      {
       "output_type": "stream",
       "stream": "stdout",
       "text": [
        "('EM wave generated frequency in Hz is', 0.41051)\n"
       ]
      }
     ],
     "prompt_number": 24
    },
    {
     "cell_type": "heading",
     "level": 2,
     "metadata": {},
     "source": [
      "Example number 5.13, Page number 154"
     ]
    },
    {
     "cell_type": "code",
     "collapsed": false,
     "input": [
      " \n",
      "#Variable declaration\n",
      "p1=1      #in mm\n",
      "p2=6      #in mm\n",
      "Tc1=5     #in K\n",
      "\n",
      "#Calculation\n",
      "Tc2=Tc1*(p2/p1);\n",
      "\n",
      "#Result\n",
      "print(\"the critical temperature in K is\",round(Tc2))"
     ],
     "language": "python",
     "metadata": {},
     "outputs": [
      {
       "output_type": "stream",
       "stream": "stdout",
       "text": [
        "('the critical temperature in K is', 30.0)\n"
       ]
      }
     ],
     "prompt_number": 14
    },
    {
     "cell_type": "heading",
     "level": 2,
     "metadata": {},
     "source": [
      "Example number 5.14, Page number 154\n"
     ]
    },
    {
     "cell_type": "code",
     "collapsed": false,
     "input": [
      " \n",
      "#Variable declaration\n",
      "Tc=8.7        #in K\n",
      "Hc=6*10**5         #in A per m\n",
      "Ho=3*10**6       #in A per m\n",
      "\n",
      "#Calculation\n",
      "T=Tc*(math.sqrt(1-(Hc/Ho)))\n",
      "\n",
      "#Result\n",
      "print(\" maximum critical temperature in K is\",T)\n",
      "\n",
      "#answer given in the book is wrong"
     ],
     "language": "python",
     "metadata": {},
     "outputs": [
      {
       "output_type": "stream",
       "stream": "stdout",
       "text": [
        "(' maximum critical temperature in K is', 7.781516561699267)\n"
       ]
      }
     ],
     "prompt_number": 15
    },
    {
     "cell_type": "code",
     "collapsed": false,
     "input": [],
     "language": "python",
     "metadata": {},
     "outputs": []
    }
   ],
   "metadata": {}
  }
 ]
}