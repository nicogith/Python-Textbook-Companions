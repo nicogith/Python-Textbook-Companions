{
 "metadata": {
  "name": "",
  "signature": "sha256:88c8946645e4f3f31d0d74d88b4d147ad878a660c1c0e5aff6962c72b58f187c"
 },
 "nbformat": 3,
 "nbformat_minor": 0,
 "worksheets": [
  {
   "cells": [
    {
     "cell_type": "heading",
     "level": 1,
     "metadata": {},
     "source": [
      "chapter 4:Shear stress in Beams and Related Problems "
     ]
    },
    {
     "cell_type": "heading",
     "level": 2,
     "metadata": {},
     "source": [
      "Example 7.1 page number 365"
     ]
    },
    {
     "cell_type": "code",
     "collapsed": false,
     "input": [
      "#Given\n",
      "shear_v = 3000      #N - Transmitted vetical shear \n",
      "shear_al = 700      #N - The maximum allowable  \n",
      "#We will divide this into two parts\n",
      "l_1 = 50.0   #mm \n",
      "l_2 = 200.0  #mm \n",
      "b_1 = 200.0  #mm \n",
      "b_2 = 50.0   #mm\n",
      "A_1 = l_1* b_1  #mm2 - area of part_1\n",
      "y_1 = 25.0      #mm com distance \n",
      "A_2 =l_2*b_2    #mm2 - area of part_1\n",
      "y_2 = 150.0     #in com distance \n",
      "y_net = (A_1*y_1  +A_2*y_2)/(A_1+A_2)               #mm - The com of the whole system\n",
      "c_max = (4-y_net)                                   #mm - The maximum distace from com to end\n",
      "c_min  = y_net                                      #mm - the minimum distance from com to end\n",
      "I_1 = b_1*(l_1**3)/12 + A_1*((y_1-y_net)**2)        #Parallel axis theorm\n",
      "I_2 =  b_2*(l_2**3)/12 + A_2*((y_2-y_net)**2)\n",
      "I_net = I_1 + I_2      #mm4 - the total moment of inertia\n",
      "Q = A_1*(-y_1+y_net)   #mm3\n",
      "q = shear_v*Q/I_net    #N/mm - Shear flow\n",
      "d = shear_al/q         # The space between the nails \n",
      "print \"The minimal space between the nails \",round(d,0) ,\"mm\""
     ],
     "language": "python",
     "metadata": {},
     "outputs": [
      {
       "output_type": "stream",
       "stream": "stdout",
       "text": [
        "The minimal space between the nails  42.0 mm\n"
       ]
      }
     ],
     "prompt_number": 8
    },
    {
     "cell_type": "heading",
     "level": 2,
     "metadata": {},
     "source": [
      "Example 7.2 pagenumber 365"
     ]
    },
    {
     "cell_type": "code",
     "collapsed": false,
     "input": [
      "#Given \n",
      "l = 6        #m -length of the beam \n",
      "p = 3        #KN-m _ the load applied\n",
      "R_a = l*p/2  #KN -The reaction at a, Since the system is symmetry \n",
      "R_b = l*p/2  #KN -The reaction at b \n",
      "l_s = 10     #mm - The length of the screw \n",
      "shear_al = 2 #KN - The maximum load the screw can take \n",
      "I = 2.36*(10**9) #mm2 The moment of inertia of the whole system\n",
      "#We will divide this into two parts\n",
      "l_1 = 50.0   #mm \n",
      "l_2 = 50.0   #mm \n",
      "b_1 = 100.0  #mm \n",
      "b_2 = 200.0  #mm\n",
      "A_1 = l_1* b_1   #in2 - area of part_1\n",
      "y_1 = 200.0      #mm com distance \n",
      "A_2 =l_2*b_2     #mm2 - area of part_1\n",
      "y_2 = 225.0      #in com distance\n",
      "Q = 2*A_1*y_1 + A_2*y_2 # mm3 For the whole system\n",
      "q = R_a*Q*(10**3)/I     #N/mm The shear flow \n",
      "d = shear_al*(10**3)/q  #mm The space between the nails\n",
      "print \"The minimal space between the nails \",round(d,0),\"mm\"\n",
      "\n"
     ],
     "language": "python",
     "metadata": {},
     "outputs": [
      {
       "output_type": "stream",
       "stream": "stdout",
       "text": [
        "The minimal space between the nails  123.0 mm\n"
       ]
      }
     ],
     "prompt_number": 11
    },
    {
     "cell_type": "heading",
     "level": 2,
     "metadata": {},
     "source": [
      "Example 7.6 page number 376"
     ]
    },
    {
     "cell_type": "code",
     "collapsed": false,
     "input": [
      "#Given\n",
      "#we will divide this into two equal parts and other part\n",
      "l = 10.0     # in - The height \n",
      "t  = 0.1     # in - The width\n",
      "b = 5.0      #mm- The width of the above part \n",
      "A = t* b     #in2 - area of part\n",
      "y_net = l/2  # The com of the system \n",
      "y_1 = l      # The position of teh com of part_2\n",
      "I_1 = t*(l**3)/12          #in4 The moment of inertia of part 1\n",
      "I_2 = 2*A*((y_1-y_net)**2) #in4 The moment of inertia of part 2  \n",
      "I = I_1 + I_2              #in4 The moment of inertia \n",
      "e = (b**2)*(l**2)*t/(4*I)  #in the formula of channels\n",
      "l_sc = e - t/2             #in- The shear centre \n",
      "print \"The shear centre from outside vertical face is \",l_sc ,\"in\""
     ],
     "language": "python",
     "metadata": {},
     "outputs": [
      {
       "output_type": "stream",
       "stream": "stdout",
       "text": [
        "The shear centre from outside vertical face is  1.825 in\n"
       ]
      }
     ],
     "prompt_number": 23
    },
    {
     "cell_type": "heading",
     "level": 2,
     "metadata": {},
     "source": [
      "Example 7.8 page number 387"
     ]
    },
    {
     "cell_type": "code",
     "collapsed": false,
     "input": [
      "#Given \n",
      "dia = 10.0           #mm - The diameter of the cylinder \n",
      "c = dia/2            #mm - the radius of the cylinder \n",
      "A = 3.14*(c**2)      #mm2 The area of the crossection \n",
      "y = 4*c/(3*3.14)     #mm The com of cylinder \n",
      "I = 3.14*(c**4)/4    #mm4 - The moment of inertia of the cylinder\n",
      "j = 3.14*(dia**4)/32 #mm4\n",
      "T = 20.0             #N.m - The torque \n",
      "V = 250.0            #N - The shear \n",
      "M = 25.0             #N-m The bending moment \n",
      "Q = A*y/2  #mm\n",
      "stress_dmax = 4*V/(3*A)                   #V*Q/(I*d)  #Mpa The direct maximum stress\n",
      "stress_tmax = T*c*(10**3)/j               #-Mpa The torsion  maximum  stress\n",
      "stress_total = stress_dmax + stress_tmax  #Mpa The total stress\n",
      "print \"The direct maximum stress\",round(stress_dmax,2),\"Mpa\"\n",
      "print \"The torsion  maximum  stress\",round(stress_tmax,2),\"Mpa\"\n",
      "print \"The total stress\",round(stress_total,2),\"Mpa\"\n",
      "\n"
     ],
     "language": "python",
     "metadata": {},
     "outputs": [
      {
       "output_type": "stream",
       "stream": "stdout",
       "text": [
        " The direct maximum stress 4.25 Mpa\n",
        "The torsion  maximum  stress 101.91 Mpa\n",
        "The total stress 106.16 Mpa\n"
       ]
      }
     ],
     "prompt_number": 38
    },
    {
     "cell_type": "heading",
     "level": 2,
     "metadata": {},
     "source": [
      "Example 7.9 page number 393"
     ]
    },
    {
     "cell_type": "code",
     "collapsed": false,
     "input": [
      "#Given\n",
      "dia = 15      #mm - The diameter of the rod\n",
      "h = 0.5       #mt - The freely falling height \n",
      "A = 3.14*(dia**2)/4 #mm2 The area of the crossection\n",
      "E = 200             #Gpa -Youngs modulus\n",
      "L = 750             #mm - The total length of the rod\n",
      "G = 80              #gpa - Shear modulus \n",
      "N = 10              #number of live coils\n",
      "d = 5               #mm the diameter of live coil \n",
      "m = 3               # the mass of freely falling body\n",
      "H = 500             #mm -from mass to spring  \n",
      "F= m*9.81           #Kg the force due to that mass\n",
      "#e = e_rod + e_spr\n",
      "#e_rod\n",
      "e_rod = p*L*(10**-3)/(A*E)                  #mm The elongation due to freely falling body\n",
      "#e_spr\n",
      "e_spr = 64*F*(dia**3)*N*(10**-3)/(G*(d**4)) #mm The elongation due to spring\n",
      "e = e_rod + e_spr                           #mm The total elongation \n",
      "p_dyn =F*(1+pow((1+(2*H/e)),0.5))\n",
      "Stress_max = p_dyn/A                        #MPa - The maximum stress in the system \n",
      "print \"The maximum stress in the system \",round(Stress_max,2),\"Mpa\""
     ],
     "language": "python",
     "metadata": {},
     "outputs": [
      {
       "output_type": "stream",
       "stream": "stdout",
       "text": [
        "The maximum stress in the system  4.84 Mpa\n"
       ]
      }
     ],
     "prompt_number": 43
    },
    {
     "cell_type": "code",
     "collapsed": false,
     "input": [],
     "language": "python",
     "metadata": {},
     "outputs": []
    }
   ],
   "metadata": {}
  }
 ]
}