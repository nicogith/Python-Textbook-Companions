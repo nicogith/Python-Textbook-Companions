{
 "metadata": {
  "name": "",
  "signature": "sha256:71148b069e338fd0ffabcfe7f6bd37d7ab47477a297f58633926ede4f66ab53c"
 },
 "nbformat": 3,
 "nbformat_minor": 0,
 "worksheets": [
  {
   "cells": [
    {
     "cell_type": "heading",
     "level": 2,
     "metadata": {},
     "source": [
      "Chapter 5:Axial force, Shear and Bending moment "
     ]
    },
    {
     "cell_type": "heading",
     "level": 2,
     "metadata": {},
     "source": [
      "Example5.2 pagenumber 231"
     ]
    },
    {
     "cell_type": "code",
     "collapsed": false,
     "input": [
      "#Given \n",
      "L_ab = 0.4  #mt The total length of the rod\n",
      "M = 200     #N_m - the moment acting on rod\n",
      "l_1 = 0.1   #mt -moment acting point the distance from 'a'\n",
      "R_1 = 100   #N - The Force acting \n",
      "l_2 = 0.2   #mt -R_1 acting point the distance from 'a'\n",
      "R_2 = 160   #N The Force acting \n",
      "l_3 = 0.3   #mt -R_2 acting point the distance from 'a'\n",
      "#caliculations\n",
      "\n",
      "#F_X = 0 forces in x directions \n",
      "R_A_X = 0   # since there are no forces in X-direction \n",
      "R_B_X = 0\n",
      "#M_A = 0 momentum at point a is zero\n",
      "\n",
      "# M + R_1*l_2 + R_2*l_3 = R_B*L_ab *the moment for a force is FxL\n",
      "R_B_Y =  (M + R_1*l_2 + R_2*l_3)/L_ab\n",
      "\n",
      "#M_B= 0 momentum at point b is zero\n",
      "# R_A_Y*L_ab + M - R_1*l_2 - R_2*0.1 = 0\n",
      "\n",
      "R_A_Y = -(M - R_1*l_2 - R_2*0.1)/L_ab\n",
      "    \n",
      "print \"The X,Y components of reaction force at A is \",R_A_X,\",\",R_A_Y,\"N\"\n",
      "print \"The X,Y components of reaction force at B is \",R_B_X,\",\",R_B_Y,\"N\""
     ],
     "language": "python",
     "metadata": {},
     "outputs": [
      {
       "output_type": "stream",
       "stream": "stdout",
       "text": [
        "The X,Y components of reaction force at A is  0 , -410.0 N\n",
        "The X,Y components of reaction force at B is  0 , 670.0 N\n"
       ]
      }
     ],
     "prompt_number": 8
    },
    {
     "cell_type": "heading",
     "level": 2,
     "metadata": {},
     "source": [
      "Example 5.2 page number 233"
     ]
    },
    {
     "cell_type": "code",
     "collapsed": false,
     "input": [
      "#Given   \n",
      "P_Max  = 10   #N - the maximum distribution in a triangular distribution\n",
      "L = 3         #mt the total length of force distribution \n",
      "L_X = 5       #mt - the horizantal length of the rod\n",
      "#caliculations \n",
      "\n",
      "F_y = P_Max*L*0.5 #N - The force due to triangular distribition \n",
      "L_com  = 2*L /3   #mt - the resultant force acting as a result of distribution acting position \n",
      "#F_X = 0 forces in x directions\n",
      "R_A_X = 0         # since there are no forces in X-direction\n",
      "R_B_X = 0\n",
      "#M_A = 0 momentum at point a is zero\n",
      "#F_y*L_com - R_B_Y*L_X = 0\n",
      "R_B_Y = F_y*L_com/L_X\n",
      "\n",
      "#M_B= 0 momentum at point b is zero\n",
      "#- R_A_Y*L_X = F_y*(L_X-L )\n",
      "\n",
      "R_A_Y = - F_y*L/L_X \n",
      "print \"The X,Y components of reaction force at A is \",R_A_X,\",\",R_A_Y,\"N\"\n",
      "print \"The X,Y components of reaction force at B is \",R_B_X,\",\",R_B_Y,\"N\"\n"
     ],
     "language": "python",
     "metadata": {},
     "outputs": [
      {
       "output_type": "stream",
       "stream": "stdout",
       "text": [
        "The X,Y components of reaction force at A is  0 , -9.0 N\n",
        "The X,Y components of reaction force at B is  0 , 6.0 N\n"
       ]
      }
     ],
     "prompt_number": 9
    },
    {
     "cell_type": "heading",
     "level": 2,
     "metadata": {},
     "source": [
      "\n",
      "Example 5.3 page number 233\n",
      "\n",
      "\n",
      "\n"
     ]
    },
    {
     "cell_type": "code",
     "collapsed": false,
     "input": [
      "#given\n",
      "F = 5       #K - force acting on the system\n",
      "tan = (4/3) # the Tan of the angle of force with x axis\n",
      "l_ab = 12   #inch - the total length of ab \n",
      "l = 3       # inch - Distance from 'a'\n",
      "#caliculation\n",
      "F_X = 4 #K\n",
      "F_Y = 3 #k\n",
      "\n",
      "#M_A = 0 momentum at point a is zero\n",
      "# F_X*l- R_B_Y*l_ab = 0 \n",
      "R_B_Y = F_X*l/l_ab\n",
      "\n",
      "#M_B= 0 momentum at point b is zero\n",
      "# R_A_Y*l_ab - F_X*(l_ab - l)\n",
      "R_A_Y = F_X*(l_ab - l)/l_ab\n",
      "    \n",
      "#F_X = 0 forces in x directions\n",
      "R_A_X = F_Y + R_B_Y  \n",
      "R_B_X = R_B_Y      # since the angle is 45 degrees\n",
      "\n",
      "#resultants \n",
      "R_A = pow(R_A_X**2 + R_A_Y**2,0.5)\n",
      "R_B = pow(R_B_X**2 + R_B_Y**2,0.5)\n",
      "\n",
      "print \"The X,Y components and resultant of reaction force at A is \",R_A_X,\",\",R_A_Y,\",\",R_A,\"N\"\n",
      "print \"The X,Y components and resultant of reaction force at B is \",R_B_X,\",\",R_B_Y,\",\",round(R_B,2),\"N\"\n",
      "\n"
     ],
     "language": "python",
     "metadata": {},
     "outputs": [
      {
       "output_type": "stream",
       "stream": "stdout",
       "text": [
        "The X,Y components and resultant of reaction force at A is  4 , 3 , 5.0 N\n",
        "The X,Y components and resultant of reaction force at B is  1 , 1 , 1.41 N\n"
       ]
      }
     ],
     "prompt_number": 11
    },
    {
     "cell_type": "heading",
     "level": 2,
     "metadata": {},
     "source": [
      "Example 5.4 page number 239"
     ]
    },
    {
     "cell_type": "code",
     "collapsed": false,
     "input": [
      "#Given   \n",
      "P_Max  = 10   #N - the maximum distribution in a triangular distribution\n",
      "L = 3         #mt the total length of force distribution \n",
      "L_X = 5       #mt - the horizantal length of the rod\n",
      "#caliculations \n",
      "\n",
      "F_y = P_Max*L*0.5 #N - The force due to triangular distribition \n",
      "L_com  = 2*L /3   #mt - the resultant force acting as a result of distribution acting position \n",
      "#F_X = 0 forces in x directions\n",
      "R_A_X = 0         # since there are no forces in X-direction\n",
      "R_B_X = 0\n",
      "#M_A = 0 momentum at point a is zero\n",
      "#F_y*L_com - R_B_Y*L_X = 0\n",
      "R_B_Y = F_y*L_com/L_X\n",
      "\n",
      "#M_B= 0 momentum at point b is zero\n",
      "#- R_A_Y*L_X = F_y*(L_X-L )\n",
      "\n",
      "R_A_Y = - F_y*L/L_X\n",
      "\n",
      "#For a---a section \n",
      "l_a = 2 #mt - a---a section from a \n",
      "l_com_a = 2*l_a/3\n",
      "v_a = R_A_Y + 0.5*l_a*(10.0*2/3) #*(10*2/3) because the maximum moves\n",
      "\n",
      "M_a =  (10.0*0.66)*l_a*(0.33) + R_A_Y*l_a \n",
      "\n",
      "#For b---b section \n",
      "\n",
      "v_b = F_y + R_A_Y #equilabrium conditions\n",
      "M_b =  (F_Y + R_A_Y)*(-1)\n",
      "\n",
      "print \"The force and moment in section a--a are\",round(v_a,2),\"KN ,\",M_a,\"KN-m\"\n",
      "print \"The force and moment in section b--b are\",v_b,\"KN ,\",M_b,\"KN-m\""
     ],
     "language": "python",
     "metadata": {},
     "outputs": [
      {
       "output_type": "stream",
       "stream": "stdout",
       "text": [
        "The force and moment in section a--a are -2.33 KN , -13.644 KN-m\n",
        "The force and moment in section b--b are 6.0 KN , 6.0 KN-m\n"
       ]
      }
     ],
     "prompt_number": 34
    },
    {
     "cell_type": "heading",
     "level": 2,
     "metadata": {},
     "source": [
      "Example 5.5 page number 241"
     ]
    },
    {
     "cell_type": "code",
     "collapsed": false,
     "input": [
      "#Given \n",
      "#Lets divide the section into two sections \n",
      "l_ac = 10 # ft -The total length of the rod\n",
      "R = 5     #k - The applies force at c\n",
      "tan = 4/3 # The tan of the angle of the force \n",
      "l_ab = 5  #ft - The distance of applied force from A\n",
      "R_y = 4 #k,downwards X- component of the force\n",
      "R_X = 3 #k Y- component of the force , lets consider only Y direction since we are concentrating on the Shears \n",
      "\n",
      "#F_Y = 0 forces in Y directions\n",
      "#R_A +R_B =  R_y\n",
      "#M_c = 0 making the moment zero at point c \n",
      "#Caliculations \n",
      "# R_A= R_B*(l_ac - l_ab)/(l_ab) so R_A = R_B\n",
      "\n",
      "R_A =  R_y/2 #F_Y = 0\n",
      "R_B =  R_y/2\n",
      "#considering section x--x\n",
      "l_x = 2       #ft - length of section from A\n",
      "v_x = R_A     #k ,F_X = 0 \n",
      "M_x = R_A*l_x #k-ft M_c = 0\n",
      "\n",
      "#considering section at midpoint t--t\n",
      "l_t =  2        #ft - length of section from A\n",
      "v_t = 0         #k ,F_X = 0 \n",
      "M_t = (R_A)*l_t #k-ft M_c = 0\n",
      "\n",
      "##considering section y---y\n",
      "l_y = 2       #ft - length of section from B\n",
      "v_y = - R_B   #k ,F_X = 0 \n",
      "M_y = R_B*l_y #k-ft M_c = 0\n",
      "\n",
      "#Graph\n",
      "%matplotlib inline\n",
      "import math \n",
      "from matplotlib.pyplot import plot,suptitle,xlabel,ylabel\n",
      "#Drawing of shear and bending moment diagram\n",
      "print \"Given problem is for drawing diagram, this diagram is drawn by step by step manner. \"\n",
      "X = [0,2,4.9999999999999,5,5.00000000000000001,7,10] # For graph precision \n",
      "\n",
      "V = [R_A,v_x,v_x,v_t,v_y,v_y,-R_B];\t\t\t#Shear matrix\n",
      "M = [0,M_x,M_t,M_t,M_t,M_y,0];\t\t\t#Bending moment matrix\n",
      "plot(X,V);\t\t\t#Shear diagram\n",
      "plot(X,M,'r');\t\t\t#Bending moment diagram\n",
      "suptitle( 'Shear and bending moment diagram')\n",
      "xlabel('X axis')\n",
      "ylabel( 'Y axis') ;"
     ],
     "language": "python",
     "metadata": {},
     "outputs": [
      {
       "output_type": "stream",
       "stream": "stdout",
       "text": [
        "Given problem is for drawing diagram, this diagram is drawn by step by step manner. \n"
       ]
      },
      {
       "metadata": {},
       "output_type": "display_data",
       "png": "[encoded data removed]",
       "text": [
        "<matplotlib.figure.Figure at 0x87a5ac8>"
       ]
      }
     ],
     "prompt_number": 42
    },
    {
     "cell_type": "heading",
     "level": 2,
     "metadata": {},
     "source": [
      "Example 5.6 pagenumber 243 "
     ]
    },
    {
     "cell_type": "code",
     "collapsed": false,
     "input": [
      "#Given\n",
      "l = 1                       #L - Length of the cantilever \n",
      "F_app = ((2**0.5))*2        #p - force applies \n",
      "tan = 1                     # The angle of force applied\n",
      "F_app_x = F_app/((2**0.5))  #p The horizantal component of the force , neglected \n",
      "F_app_y = F_app/((2**0.5))  #p  The Vertical component of the force \n",
      "#F_Y = 0 \n",
      "R_A = 1 #p\n",
      "\n",
      "#Considering  section 1-----1\n",
      "l_1 = 0.5       # The length of the section from one end\n",
      "v_1 = R_A       #F_Y = 0\n",
      "M_1 = -R_A*l_1  #MAking moment at section 1 = 0\n",
      "\n",
      "#considering end of cantilever\n",
      "l_2 = 1       # The length of the section from one end\n",
      "v_2 = R_A     #F_Y = 0\n",
      "M_2 = -R_A*l_2#MAking moment at section 1 = 0\n",
      "\n",
      "#Graph\n",
      "%matplotlib inline\n",
      "import math \n",
      "from matplotlib.pyplot import plot,suptitle,xlabel,ylabel\n",
      "#Drawing of shear and bending moment diagram\n",
      "print \"Given problem is for drawing diagram, this diagram is drawn by step by step manner. \"\n",
      "X = [0,0.5,1] # For graph precision \n",
      "\n",
      "V = [R_A,v_1,v_2 ];\t\t\t#Shear matrix\n",
      "M = [0,M_1,M_2];\t\t\t#Bending moment matrix\n",
      "plot(X,V);\t\t\t        #Shear diagram\n",
      "plot(X,M,'r');\t\t\t    #Bending moment diagram\n",
      "suptitle( 'Shear and bending moment diagram')\n",
      "xlabel('X axis')\n",
      "ylabel( 'Y axis') ;\n",
      "\n",
      "\n",
      "\n",
      "\n",
      "\n"
     ],
     "language": "python",
     "metadata": {},
     "outputs": [
      {
       "output_type": "stream",
       "stream": "stdout",
       "text": [
        "Given problem is for drawing diagram, this diagram is drawn by step by step manner. \n"
       ]
      },
      {
       "metadata": {},
       "output_type": "display_data",
       "png": "[encoded data removed]",
       "text": [
        "<matplotlib.figure.Figure at 0x8154208>"
       ]
      }
     ],
     "prompt_number": 128
    },
    {
     "cell_type": "heading",
     "level": 2,
     "metadata": {},
     "source": [
      "Example 5.7 page number 243"
     ]
    },
    {
     "cell_type": "code",
     "collapsed": false,
     "input": [
      "#Given\n",
      "l_ab = 3  #L - The total length lets say '3L'\n",
      "R_1 = 1   #p - The force applied at b\n",
      "R_2 = 1   #p - The force applied at c\n",
      "l_ab = 1  #L\n",
      "l_bc = 1  #L \n",
      "\n",
      "#Logical step \n",
      "#Since the system is in symmetry we can avoid moment M = 0 caliculations\n",
      "\n",
      "#F_Y = 0 \n",
      "R_A = (R_1 + R_2)/2\n",
      "R_B = (R_1 + R_2)/2\n",
      "\n",
      "#Lets take '3' sections \n",
      "#Considering section 1-----1 at 0.5L\n",
      "l_1 = 0.5     #L - distance of the section from the A\n",
      "v_1 = R_A     #F_Y = 0 \n",
      "M_1 = R_A*l_1 #MAking moment at section 1 = 0\n",
      "\n",
      "#Considering section 2-----2 at 1L\n",
      "l_2 = 1       #L - distance of the section from the A\n",
      "v_2 = R_A     #F_Y = 0 \n",
      "M_2 = R_A*l_2 #MAking moment at section 2 = 0\n",
      "\n",
      "#Considering section 3-----3 at 1.5L\n",
      "l_3 = 1.5       #L - distance of the section from the A\n",
      "v_3 = 0        #F_Y = 0 \n",
      "M_3 = R_A*l_2  #MAking moment at section 2 = 0 and symmetry \n",
      "\n",
      "#GRAPH\n",
      "#Since the symmetry exists the graphs are also symmetry\n",
      "%matplotlib inline\n",
      "import math \n",
      "from matplotlib.pyplot import plot,suptitle,xlabel,ylabel\n",
      "#Drawing of shear and bending moment diagram\n",
      "print \"Given problem is for drawing diagram, this diagram is drawn by step by step manner. \"\n",
      "X = [0,0.5,1,1.000000001,1.5,1.999999999999,2,2.5,3] # For graph precision \n",
      "\n",
      "V = [R_A,v_1,v_2,v_3,v_3,v_3,-v_2,-v_1,-R_B];\t\t\t#Shear matrix\n",
      "M = [0,M_1,M_2,1,1,1,M_2,M_1,0];\t\t\t#Bending moment matrix\n",
      "plot(X,V);\t\t\t#Shear diagram\n",
      "plot(X,M);\t\t\t#Bending moment diagram\n",
      "suptitle( 'Shear and bending moment diagram')\n",
      "xlabel('X axis')\n",
      "ylabel( 'Y axis') ;"
     ],
     "language": "python",
     "metadata": {},
     "outputs": [
      {
       "output_type": "stream",
       "stream": "stdout",
       "text": [
        "Given problem is for drawing diagram, this diagram is drawn by step by step manner. \n"
       ]
      },
      {
       "metadata": {},
       "output_type": "display_data",
       "png": "[encoded data removed]",
       "text": [
        "<matplotlib.figure.Figure at 0x8154240>"
       ]
      }
     ],
     "prompt_number": 127
    },
    {
     "cell_type": "heading",
     "level": 2,
     "metadata": {},
     "source": [
      "Example 5.8 page nmber 244"
     ]
    },
    {
     "cell_type": "code",
     "collapsed": false,
     "input": [
      "#Given \n",
      "l_ab = 1.0   #L - The length of the beam\n",
      "F_D = 1.0    #W - The force distribution \n",
      "F = F_D*l_ab #WL - The force applied\n",
      "#Beause of symmetry the moment caliculations can be neglected\n",
      "#F_Y = 0\n",
      "R_A = F/2 #wl - The reactive force at A\n",
      "R_B = F/2 #wl - The reactive force at B\n",
      "\n",
      "#considering many sections \n",
      "\n",
      "#section 1--1\n",
      "l_1 = [0,0.1,0.2,0.3,0.4,0.5,0.6,0.7,0.8,0.9,1] #L taking each section at 0.1L distance \n",
      "M_1 = [0,0,0,0,0,0,0,0,0,0,0]\n",
      "v = [0,0,0,0,0,0,0,0,0,0,0]\n",
      "for i in range(10):\n",
      "    v[i] = R_A - F_D*l_1[i]  \n",
      "    M_1[i] = R_A*l_1[i] - F_D*(l_1[i]**2)/2 #M = 0 in the section\n",
      "print R_A\n",
      "#Graphs\n",
      "import numpy as np\n",
      "values = [0.5,0,-0.5]\n",
      "y = np.array(values)\n",
      "t = np.linspace(0,1,3)\n",
      "poly_coeff = np.polyfit(t, y, 2)\n",
      "import matplotlib.pyplot as plt\n",
      "plt.plot(t, y, 'o')\n",
      "plt.plot(t, np.poly1d(poly_coeff)(t), '-')\n",
      "plt.show()\n",
      "\n",
      "import numpy as np\n",
      "values = M_1\n",
      "y = np.array(values)\n",
      "t = np.linspace(0,1,11)\n",
      "poly_coeff = np.polyfit(t, y, 2)\n",
      "import matplotlib.pyplot as plt\n",
      "plt.plot(t, y, 'o')\n",
      "plt.plot(t, np.poly1d(poly_coeff)(t), '-')\n",
      "plt.show()"
     ],
     "language": "python",
     "metadata": {},
     "outputs": [
      {
       "output_type": "stream",
       "stream": "stdout",
       "text": [
        "0.5\n"
       ]
      },
      {
       "metadata": {},
       "output_type": "display_data",
       "png": "[encoded data removed]",
       "text": [
        "<matplotlib.figure.Figure at 0x87884e0>"
       ]
      },
      {
       "metadata": {},
       "output_type": "display_data",
       "png": "[encoded data removed]",
       "text": [
        "<matplotlib.figure.Figure at 0x9e8f588>"
       ]
      }
     ],
     "prompt_number": 111
    },
    {
     "cell_type": "heading",
     "level": 2,
     "metadata": {},
     "source": [
      "Example 5.9 page number 245"
     ]
    },
    {
     "cell_type": "code",
     "collapsed": false,
     "input": [
      "#Given   \n",
      "P_Max  = 10   #N - the maximum distribution in a triangular distribution\n",
      "L = 3         #mt the total length of force distribution \n",
      "L_X = 5       #mt - the horizantal length of the rod\n",
      "#caliculations \n",
      "\n",
      "F_y = P_Max*L*0.5 #N - The force due to triangular distribition \n",
      "L_com  = 2*L /3   #mt - the resultant force acting as a result of distribution acting position \n",
      "#F_X = 0 forces in x directions\n",
      "R_A_X = 0         # since there are no forces in X-direction\n",
      "R_B_X = 0\n",
      "#M_A = 0 momentum at point a is zero\n",
      "#F_y*L_com - R_B_Y*L_X = 0\n",
      "R_B_Y = F_y*L_com/L_X\n",
      "\n",
      "#M_B= 0 momentum at point b is zero\n",
      "#- R_A_Y*L_X = F_y*(L_X-L )\n",
      "\n",
      "R_A_Y = - F_y*L/L_X\n",
      "\n",
      "#caliculating for some random value\n",
      "#For a---a section \n",
      "l_a = 2 #mt - a---a section from a \n",
      "l_com_a = 2*l_a/3\n",
      "v_a = R_A_Y + 0.5*l_a*(10.0*2/3) #*(10*2/3) because the maximum moves\n",
      "\n",
      "M_a =  (10.0*0.66)*l_a*(0.33) + R_A_Y*l_a\n",
      "\n",
      "print \"The force and moment in section a--a are\",round(v_a,2),\"KN ,\",M_a,\"KN-m\"\n",
      "\n"
     ],
     "language": "python",
     "metadata": {},
     "outputs": [
      {
       "output_type": "stream",
       "stream": "stdout",
       "text": [
        "The force and moment in section a--a are -2.33 KN , -13.644 KN-m\n"
       ]
      }
     ],
     "prompt_number": 112
    },
    {
     "cell_type": "heading",
     "level": 2,
     "metadata": {},
     "source": [
      "Example 5.13 page number 254"
     ]
    },
    {
     "cell_type": "code",
     "collapsed": false,
     "input": [
      "#Given\n",
      "l_ab = 4  #L - The total length lets say '3L'\n",
      "R_1 = 1   #p - The force applied at b\n",
      "R_2 = 1   #p - The force applied at c\n",
      "l_ab = 1  #L\n",
      "l_bc = 3 #L \n",
      "\n",
      "#Logical step \n",
      "#Since the system is in symmetry we can avoid moment M = 0 caliculations\n",
      "\n",
      "#F_Y = 0 \n",
      "R_A = (R_1 + R_2)/2\n",
      "R_B = (R_1 + R_2)/2\n",
      "\n",
      "#Lets take '3' sections \n",
      "#Considering section 1-----1 at 0.5L\n",
      "l_1 = 0.5    #L - distance of the section from the A\n",
      "v_1 = R_A     #F_Y = 0 \n",
      "M_1 = R_A*l_1 #MAking moment at section 1 = 0\n",
      "\n",
      "#Considering section 2-----2 at 1L\n",
      "l_2 = 1       #L - distance of the section from the A\n",
      "v_2 = R_A     #F_Y = 0 \n",
      "M_2 = R_A*l_2 #MAking moment at section 2 = 0\n",
      "\n",
      "#Considering section 3-----3 at 1.5L\n",
      "l_3 = 3       #L - distance of the section from the A\n",
      "v_3 = 0        #F_Y = 0 \n",
      "M_3 = R_A*l_2  #MAking moment at section 2 = 0 and symmetry \n",
      "\n",
      "#GRAPH\n",
      "#Since the symmetry exists the graphs are also symmetry\n",
      "%matplotlib inline\n",
      "import math \n",
      "from matplotlib.pyplot import plot,suptitle,xlabel,ylabel\n",
      "#Drawing of shear and bending moment diagram\n",
      "print \"Given problem is for drawing diagram, this diagram is drawn by step by step manner. \"\n",
      "X = [0,0.5,1,1.0000001,2,2.9999999999,3,3.5,4] # For graph precision \n",
      "\n",
      "V = [R_A,v_1,v_2,v_3,v_3,v_3,-v_2,-v_1,-R_B];\t\t\t#Shear matrix\n",
      "M = [0,M_1,M_2,M_3,M_3,M_3,M_2,M_1,0];\t\t\t#Bending moment matrix\n",
      "plot(X,V);\t\t\t#Shear diagram\n",
      "plot(X,M);\t\t\t#Bending moment diagram\n",
      "suptitle( 'Shear and bending moment diagram')\n",
      "xlabel('X axis')\n",
      "ylabel( 'Y axis') ;"
     ],
     "language": "python",
     "metadata": {},
     "outputs": [
      {
       "output_type": "stream",
       "stream": "stdout",
       "text": [
        "Given problem is for drawing diagram, this diagram is drawn by step by step manner. \n"
       ]
      },
      {
       "metadata": {},
       "output_type": "display_data",
       "png": "[encoded data removed]",
       "text": [
        "<matplotlib.figure.Figure at 0x9e8f1d0>"
       ]
      }
     ],
     "prompt_number": 126
    },
    {
     "cell_type": "heading",
     "level": 2,
     "metadata": {},
     "source": [
      "Example 5.14 page number 255"
     ]
    },
    {
     "cell_type": "code",
     "collapsed": false,
     "input": [
      "#Given\n",
      "l = 1.0 #l - The length of the beam\n",
      "p = 1.0 #W - The total load applied\n",
      "#since it is triangular distribution \n",
      "l_com = 0.66*l#l - The distance of force of action from one end\n",
      "#F_Y = 0\n",
      "#R_A + R_B = p\n",
      "#M_a = 0 Implies that R_B = 2*R_A\n",
      "R_A = p/3.0\n",
      "R_B = 2.0*p/3\n",
      "\n",
      "#Taking Many sections \n",
      "\n",
      "#Section 1----1\n",
      "l = [0,0.1,0.2,0.3,0.4,0.5,0.6,0.7,0.8,0.9,1] #L taking each section at 0.1L distance \n",
      "M = [0,0,0,0,0,0,0,0,0,0,0]\n",
      "v = [0,0,0,0,0,0,0,0,0,0,0]\n",
      "for i in range(10):\n",
      "    v[i] = p*(l[i]**2) - p/3.0\n",
      "    M[i] = p*(l[i]**3)/(3.0)- p*l[i]/3.0\n",
      "\n",
      "v[10] = R_B #again concluded Because the value is tearing of  \n",
      "\n",
      "\n",
      "#Graph\n",
      "import numpy as np\n",
      "values = M\n",
      "y = np.array(values)\n",
      "t = np.linspace(0,1,11)\n",
      "poly_coeff = np.polyfit(t, y, 2)\n",
      "import matplotlib.pyplot as plt\n",
      "plt.plot(t, y, 'o')\n",
      "plt.plot(t, np.poly1d(poly_coeff)(t), '-')\n",
      "plt.show()\n",
      "import numpy as np\n",
      "values = v\n",
      "y = np.array(values)\n",
      "t = np.linspace(0,1,11)\n",
      "poly_coeff = np.polyfit(t, y, 2)\n",
      "import matplotlib.pyplot as plt\n",
      "plt.plot(t, y, 'o')\n",
      "plt.plot(t, np.poly1d(poly_coeff)(t), '-')\n",
      "plt.show()\n",
      "\n",
      "\n",
      "\n",
      "\n"
     ],
     "language": "python",
     "metadata": {},
     "outputs": [
      {
       "metadata": {},
       "output_type": "display_data",
       "png": "[encoded data removed]",
       "text": [
        "<matplotlib.figure.Figure at 0x80c3f98>"
       ]
      },
      {
       "metadata": {},
       "output_type": "display_data",
       "png": "[encoded data removed]",
       "text": [
        "<matplotlib.figure.Figure at 0xa487c18>"
       ]
      }
     ],
     "prompt_number": 5
    },
    {
     "cell_type": "heading",
     "level": 2,
     "metadata": {},
     "source": [
      "Example 5.16 page number 259"
     ]
    },
    {
     "cell_type": "code",
     "collapsed": false,
     "input": [
      "#Given\n",
      "l = 6.0      #a - length of the rod\n",
      "F = 1.0      #p - force applies in x direction \n",
      "d = 1.0      #a \n",
      "M = 1.0      #pa - torque applies on the rod\n",
      "l_ab = 4.0   #a application of torque point from A\n",
      "#M = 0 implies that\n",
      "R_A =  F/6.0 #p - The reaction at A\n",
      "R_B = - R_A  #F_Y = 0\n",
      "\n",
      "#Caliculations \n",
      "\n",
      "#Taking sections \n",
      "#Section 1---1\n",
      "l_1 = 1 #a - the length of the section \n",
      "M_1 = - R_A*l_1  #M = 0\n",
      "\n",
      "#Section 2---2\n",
      "l_2 = 4 #a - the length of the section \n",
      "M_2 = - R_A*l_2  #M = 0\n",
      "\n",
      "l_4 = 2 #a - the length of the section \n",
      "M_4 = 1/3.0 #pa #M = 0 '-M' because there is moment couple in between\n",
      "\n",
      "\n",
      "#Section 3---3\n",
      "l_3 = 1 #a - the length of the section \n",
      "M_3 = 1/6.0#pa M = 0 '-M' because there is moment couple in between\n",
      "print R_A\n",
      "\n",
      "#GRAPH\n",
      "#Since the symmetry exists the graphs are also symmetry\n",
      "%matplotlib inline\n",
      "import math \n",
      "from matplotlib.pyplot import plot,suptitle,xlabel,ylabel\n",
      "#Drawing of shear and bending moment diagram\n",
      "print \"Given problem is for drawing diagram, this diagram is drawn by step by step manner. \"\n",
      "X = [0,1,4,4.00001,5,6] # For graph precision \n",
      "M = [0,M_1,M_2,M_4,M_3,0];\t\t\t#Bending moment matrix\n",
      "plot(X,M);\t\t\t#Bending moment diagram\n",
      "suptitle( 'Shear and bending moment diagram')\n",
      "xlabel('X axis')\n",
      "ylabel( 'Y axis') ;\n",
      "\n",
      "\n",
      "\n",
      "\n",
      "\n",
      "\n",
      "\n",
      "\n"
     ],
     "language": "python",
     "metadata": {},
     "outputs": [
      {
       "output_type": "stream",
       "stream": "stdout",
       "text": [
        "0.166666666667\n",
        "Given problem is for drawing diagram, this diagram is drawn by step by step manner. \n"
       ]
      },
      {
       "metadata": {},
       "output_type": "display_data",
       "png": "[encoded data removed]",
       "text": [
        "<matplotlib.figure.Figure at 0x9e65940>"
       ]
      }
     ],
     "prompt_number": 150
    },
    {
     "cell_type": "code",
     "collapsed": false,
     "input": [],
     "language": "python",
     "metadata": {},
     "outputs": []
    }
   ],
   "metadata": {}
  }
 ]
}