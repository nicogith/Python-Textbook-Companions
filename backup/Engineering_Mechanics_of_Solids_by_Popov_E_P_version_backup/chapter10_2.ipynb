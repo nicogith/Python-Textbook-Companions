{
 "cells": [
  {
   "cell_type": "markdown",
   "metadata": {},
   "source": [
    "# Chapter 10:Deflections of beams "
   ]
  },
  {
   "cell_type": "markdown",
   "metadata": {},
   "source": [
    "## Example 10.1 page number 501"
   ]
  },
  {
   "cell_type": "code",
   "execution_count": 1,
   "metadata": {
    "collapsed": false
   },
   "outputs": [
    {
     "name": "stdout",
     "output_type": "stream",
     "text": [
      "The maximum bending stress developed in the saw  300.0 Mpa\n"
     ]
    }
   ],
   "source": [
    "#Given \n",
    "dia = 400   #mm - The diameter of a pulley\n",
    "E = 200     #Gpa - Youngs modulus\n",
    "t = 0.6     #mm - The thickness of band\n",
    "c = t/2     #mm - The maximum stress is seen \n",
    "#Caliculations\n",
    "\n",
    "stress_max = E*c*(10**3)/(dia/2) #Mpa - The maximum stress on the crossection occurs at the ends\n",
    "print \"The maximum bending stress developed in the saw \",stress_max,\"Mpa\""
   ]
  },
  {
   "cell_type": "markdown",
   "metadata": {},
   "source": [
    "## Example 10.3 page number 512"
   ]
  },
  {
   "cell_type": "code",
   "execution_count": 4,
   "metadata": {
    "collapsed": false
   },
   "outputs": [
    {
     "name": "stdout",
     "output_type": "stream",
     "text": [
      "a) The maximum displacement in y direction is -0.0130208333333 W(l**4)/EI \n",
      "a) The maximum deflection occured at 0.5 L\n"
     ]
    },
    {
     "data": {
      "image/png": "[encoded data removed]",
      "text/plain": [
       "<matplotlib.figure.Figure at 0xc31ce48>"
      ]
     },
     "metadata": {},
     "output_type": "display_data"
    },
    {
     "name": "stdout",
     "output_type": "stream",
     "text": [
      "b) The above graph is bending moment graph\n"
     ]
    },
    {
     "data": {
      "image/png": "[encoded data removed]",
      "text/plain": [
       "<matplotlib.figure.Figure at 0xbfd30f0>"
      ]
     },
     "metadata": {},
     "output_type": "display_data"
    },
    {
     "name": "stdout",
     "output_type": "stream",
     "text": [
      "b)The above graph is beam displacement graph\n",
      "b)The maximum occures in the middle from the above graph  \n"
     ]
    }
   ],
   "source": [
    "#Given\n",
    "import numpy\n",
    "l_ab = 1.0   #L in - The length of the beam\n",
    "F_D = 1.0    #W lb/in - The force distribution \n",
    "F = F_D*l_ab #WL - The force applied\n",
    "#Beause of symmetry the moment caliculations can be neglected\n",
    "#F_Y = 0\n",
    "R_A = F/2 #wl - The reactive force at A\n",
    "R_B = F/2 #wl - The reactive force at B\n",
    "#EI - The flxure rigidity is constant and 1/EI =1 # k\n",
    "\n",
    "#part - A\n",
    "#section 1--1\n",
    "l_1 = [0,0.1,0.2,0.3,0.4,0.5,0.6,0.7,0.8,0.9,1] #L taking each section at 0.1L distance \n",
    "M_1 = [0,0,0,0,0,0,0,0,0,0,0]\n",
    "v = [0,0,0,0,0,0,0,0,0,0,0]\n",
    "for i in range(10):\n",
    "    v[i] = R_A - F_D*l_1[i]  \n",
    "    M_1[i] = R_A*l_1[i] - F_D*(l_1[i]**2)/2\n",
    "# (EI)y'' = M_1[i] we will integrate M_1[i] twice where variable is l_1[i]\n",
    "#(EI)y'- \n",
    "\n",
    "M_1_intg1 = R_A*(l_1[i]**2)/4 - F_D*(l_1[i]**3)/6 - F_D*(l_ab**3)*l_1[i]/24 #integration of x**n = x**n+1/n+1\n",
    "#(EI)y- Using end conditions for caliculating constants \n",
    "\n",
    "M_1_intg2 = R_A*(l_1[i]**3)/12.0 - F_D*(l_1[i]**4)/24.0 + F_D*(l_ab**3)*l_1[i]/24.0 \n",
    "#Equations \n",
    "\n",
    "l_1 = [0,0.1,0.2,0.3,0.4,0.5,0.6,0.7,0.8,0.9,1] #L taking each section at 0.1L distance \n",
    "M_1_intg2 = [0,0,0,0,0,0,0,0,0,0,0]\n",
    "Y = [0,0,0,0,0,0,0,0,0,0,0]\n",
    "for i in range(10):\n",
    "    M_1_intg2[i] = (l_1[i]**3)/12.0 - (l_1[i]**4)/24.0 - l_1[i]/24.0   # discluding every term for ruling out float values\n",
    "    Y[i] = M_1_intg2[i] #W(l**4)/EI  k = 1/EI\n",
    "#The precision is very less while caliculating through this equation because the least count in X direction is 0.1\n",
    "print \"a) The maximum displacement in y direction is\",min(Y),\"W(l**4)/EI \"\n",
    "print \"a) The maximum deflection occured at\",l_1[Y.index(min(Y))],\"L\"\n",
    "\n",
    "#Part - B\n",
    "#Graphs\n",
    "import numpy as np\n",
    "values = M_1\n",
    "y = np.array(values)\n",
    "t = np.linspace(0,1,11)\n",
    "poly_coeff = np.polyfit(t, y, 2)\n",
    "import matplotlib.pyplot as plt\n",
    "%matplotlib inline\n",
    "plt.plot(t, y, 'o')\n",
    "plt.plot(t, np.poly1d(poly_coeff)(t), '-')\n",
    "plt.show()\n",
    "print \"b) The above graph is bending moment graph\"\n",
    "import numpy as np\n",
    "values = Y \n",
    "y = np.array(values)\n",
    "t = np.linspace(0,1,11)\n",
    "poly_coeff = np.polyfit(t, y, 2)\n",
    "import matplotlib.pyplot as plt\n",
    "plt.plot(t, y, 'o')\n",
    "plt.plot(t, np.poly1d(poly_coeff)(t), '-')\n",
    "plt.show()\n",
    "print \"b)The above graph is beam displacement graph\"\n",
    "print \"b)The maximum occures in the middle from the above graph  \"\n",
    "\n",
    "\n",
    "   \n",
    "\n",
    "\n"
   ]
  },
  {
   "cell_type": "markdown",
   "metadata": {},
   "source": [
    "## Example 10.4 page number 514"
   ]
  },
  {
   "cell_type": "code",
   "execution_count": 7,
   "metadata": {
    "collapsed": false
   },
   "outputs": [
    {
     "data": {
      "image/png": "[encoded data removed]",
      "text/plain": [
       "<matplotlib.figure.Figure at 0x41576d8>"
      ]
     },
     "metadata": {},
     "output_type": "display_data"
    },
    {
     "name": "stdout",
     "output_type": "stream",
     "text": [
      "b) The above graph is bending moment graph\n"
     ]
    },
    {
     "data": {
      "image/png": "[encoded data removed]",
      "text/plain": [
       "<matplotlib.figure.Figure at 0xdd95b70>"
      ]
     },
     "metadata": {},
     "output_type": "display_data"
    }
   ],
   "source": [
    "#Given\n",
    "import numpy\n",
    "l_ab = 1.0   #L in - The length of the beam\n",
    "F_D = 1.0    #W lb/in - The force distribution \n",
    "F = F_D*l_ab #WL - The force applied\n",
    "#Beause of symmetry the moment caliculations can be neglected\n",
    "#F_Y = 0\n",
    "R_A = F/2    #wl - The reactive force at A\n",
    "R_B = F/2    #wl - The reactive force at B\n",
    "#EI - The flxure rigidity is constant and 1/EI =1 # k\n",
    "#M_A and M_B are applied at the ends\n",
    "\n",
    "#part - A\n",
    "#section 1--1\n",
    "l_1 = [0,0.1,0.2,0.3,0.4,0.5,0.6,0.7,0.8,0.9,1]    #L taking each section at 0.1L distance \n",
    "M = [0,0,0,0,0,0,0,0,0,0,0]\n",
    "for i in range(10):\n",
    "    M[i] = l_1[i]/2.0 - (l_1[i]**2)/2.0 -1.0/12.0    #The moment euation at 1--1 section\n",
    "# M_1 = R_A*l_1[i]/2.0 - F_D*(l_1[i]**2)/2.0 -F_D*(l_ab**2)/12.0  #The moment euation at 1--1 section    \n",
    "# (EI)y'' = M_1[i] we will integrate M_1[i] twice where variable is l_1[i]\n",
    "#(EI)y'\n",
    "M_1_intg1 = R_A*(l_1[i]**2)/4 - F_D*(l_1[i]**3)/6 - F_D*(l_ab**2)*l_1[i]/12.0 #integration of x**n = x**n+1/n+1\n",
    "#(EI)y\n",
    "M_1_intg2[i] = R_A*(l_1[i]**3)/12.0 - F_D*(l_1[i]**4)/24.0 + F_D*(l_ab**2)*(l_1[i]**2)/24.0   \n",
    "\n",
    "l_1 = [0,0.1,0.2,0.3,0.4,0.5,0.6,0.7,0.8,0.9,1] #L taking each section at 0.1L distance \n",
    "M_1_intg2 = [0,0,0,0,0,0,0,0,0,0,0]\n",
    "Y = [0,0,0,0,0,0,0,0,0,0,0]\n",
    "for i in range(10):\n",
    "    M_1_intg2[i] = (l_1[i]**3)/12.0 - (l_1[i]**4)/24.0 - (l_1[i]**2)/24.0   # discluding every term for ruling out float values\n",
    "    Y[i] = M_1_intg2[i] #W(l**4)/EI  k = 1/EI\n",
    "    \n",
    "#Part - B\n",
    "#Graphs\n",
    "import numpy as np\n",
    "values = M\n",
    "y = np.array(values)\n",
    "t = np.linspace(0,1,11)\n",
    "poly_coeff = np.polyfit(t, y, 2)\n",
    "import matplotlib.pyplot as plt\n",
    "%matplotlib inline \n",
    "plt.plot(t, y, 'o')\n",
    "plt.plot(t, np.poly1d(poly_coeff)(t), '-')\n",
    "plt.show()\n",
    "print \"b) The above graph is bending moment graph\"\n",
    "import numpy as np\n",
    "values = Y \n",
    "y = np.array(values)\n",
    "t = np.linspace(0,1,11)\n",
    "poly_coeff = np.polyfit(t, y, 2)\n",
    "import matplotlib.pyplot as plt\n",
    "plt.plot(t, y, 'o')\n",
    "plt.plot(t, np.poly1d(poly_coeff)(t), '-')\n",
    "plt.show()\n",
    "\n",
    "\n",
    " \n"
   ]
  },
  {
   "cell_type": "markdown",
   "metadata": {},
   "source": [
    "## Example 10.5 page number 517"
   ]
  },
  {
   "cell_type": "code",
   "execution_count": 8,
   "metadata": {
    "collapsed": false
   },
   "outputs": [
    {
     "name": "stdout",
     "output_type": "stream",
     "text": [
      "The reaction at A is 0.375 WL\n",
      "The reaction at B is 1.125 WL\n",
      "The reaction at C is 0.375 WL\n"
     ]
    }
   ],
   "source": [
    "#Given \n",
    "#because of symmetry the problem can be solved by considering first half\n",
    "#Given\n",
    "import numpy\n",
    "l_ab = 1.0       #L in - The length of the beam\n",
    "F_D = 1.0        #W lb/in - The force distribution \n",
    "F = F_D*l_ab     #WL - The force applied\n",
    "#Beause of symmetry the moment caliculations can be neglected\n",
    "#EI - The flxure rigidity is constant and 1/EI =1 # k\n",
    "\n",
    "#part - A\n",
    "#section 1--1\n",
    "l_1 = [0,0.1,0.2,0.3,0.4,0.5,0.6,0.7,0.8,0.9,1] #L taking each section at 0.1L distance \n",
    "M_1 = [0,0,0,0,0,0,0,0,0,0,0]\n",
    "v = [0,0,0,0,0,0,0,0,0,0,0]\n",
    "for i in range(10):\n",
    "    v[i] = R_A - F_D*l_1[i]  \n",
    "    M_1[i] = R_A*l_1[i] - F_D*(l_1[i]**2)/2\n",
    "# (EI)y'' = M_1[i] we will integrate M_1[i] twice where variable is l_1[i]\n",
    "#(EI)y'\n",
    "M_1_intg1 = R_A*(l_1[i]**2)/2 - F_D*(l_1[i]**3)/6 - F_D*(l_ab**3)*l_1[i]/48 #integration of x**n = x**n+1/n+1\n",
    "#(EI)y\n",
    "M_1_intg2[i] = R_A*(l_1[i]**3)/6 - F_D*(l_1[i]**4)/24.0 - F_D*(l_ab**3)*l_1[i]/48.0 \n",
    "#Equations \n",
    "#R_A = #wl Unknown- The reactive force at A\n",
    "#R_B = #wl - The reactive force at B\n",
    "\n",
    "# M_1_intg2[10] = 0, the displacement at the end of rod is 0 since its rigid \n",
    "R_A =  (F_D*(l_1[10]**4)/24.0 + F_D*(l_ab**3)*l_1[10]/48.0)/((l_1[10]**3)/6.0)\n",
    "R_C = R_A #WL - symmetry\n",
    "R_B = 1-R_A+R_B # WL - F_Y = 0, the equilibrium in Y direction\n",
    "print \"The reaction at A is\",R_A ,\"WL\"\n",
    "print \"The reaction at B is\",R_B ,\"WL\"\n",
    "print \"The reaction at C is\",R_C ,\"WL\"\n"
   ]
  },
  {
   "cell_type": "markdown",
   "metadata": {},
   "source": [
    "## Example 10.7 page number 521 "
   ]
  },
  {
   "cell_type": "code",
   "execution_count": 10,
   "metadata": {
    "collapsed": false
   },
   "outputs": [
    {
     "data": {
      "image/png": "[encoded data removed]",
      "text/plain": [
       "<matplotlib.figure.Figure at 0xdee8748>"
      ]
     },
     "metadata": {},
     "output_type": "display_data"
    },
    {
     "name": "stdout",
     "output_type": "stream",
     "text": [
      "b) The shape from x belongs to 0<x<4\n"
     ]
    },
    {
     "name": "stderr",
     "output_type": "stream",
     "text": [
      "C:\\Users\\Kowshik\\AppData\\Local\\Enthought\\Canopy\\User\\lib\\site-packages\\numpy\\lib\\polynomial.py:588: RankWarning: Polyfit may be poorly conditioned\n",
      "  warnings.warn(msg, RankWarning)\n"
     ]
    },
    {
     "data": {
      "image/png": "[encoded data removed]",
      "text/plain": [
       "<matplotlib.figure.Figure at 0xdd95748>"
      ]
     },
     "metadata": {},
     "output_type": "display_data"
    },
    {
     "name": "stdout",
     "output_type": "stream",
     "text": [
      "b) The shape from x belongs to 4<x<5\n"
     ]
    }
   ],
   "source": [
    "l_ac = 5 #m - The length of the beam \n",
    "l_ab = 4 #m - The length of ac on beam \n",
    "l_bc = 1 #m - The length of bc on beam \n",
    "F = 20 #N - force applied on beam at 'b'\n",
    "I_ab = 4 #I The moment of inertia of part AB \n",
    "I_bc = 1 #I - The momemt of inertia of part BC\n",
    "R_A = F*(l_bc/l_ac) #N- The reaction at joint A\n",
    "R_B = F*(l_ab/l_ac) #N- The reaction at joint B\n",
    "E = 1 #E youngs modulus\n",
    "\n",
    "#0<x<4\n",
    "x = [0,1,2,3,4]\n",
    "M = [0,0,0,0,0]\n",
    "y = [0,0,0,0,0]\n",
    "for i in range(5):\n",
    "    M[i] = 4*x[i] #integration of x**n = x**n+1/n+1\n",
    "    #y_2[i] = 4*x[i]/(E*I_ab) #The \n",
    "    #y_1[i] = 4*(x[i]**2)/(E*I_ab) -4.8/(E*I_bc)  #The constant can be found by conditions y(o) = y(c) = 0\n",
    "    y[i]  =   4*(x[i]**2)/(6*E*I_ab)  -4.8*x[i]/(E*I_bc)  #elastic curve constant can be found by Y_1(0) = 0 \n",
    "\n",
    "\n",
    "#0<x_1<1\n",
    "x_1 = [4,5]\n",
    "m = [0,0]\n",
    "Y = [0,0]\n",
    "for i in range(2):\n",
    "    m[i] = 16 - 16*x_1[i]    #integration of x**n = x**n+1/n+1\n",
    "   # Y_2 = (16 - 16*x_1[i])/(E*I_ab) \n",
    "    #Y_1 = (16*x_1[i]-8*(x_1[i]**2) +8 - 4.8)/(E*I_ab)#The constant can be found by conditions y(o) = y(c) = 0\n",
    "    Y[i] =  (8*(x_1[i]**2)-8*(x_1[i]**3)/3 +(8-4.8)*x_1[i] - 4*4.8 )/(E*I_ab) #elastic curve constant can be found by Y_1(0) = 0\n",
    "\n",
    "#Graphs\n",
    "import numpy as np\n",
    "values = y\n",
    "y = np.array(values)\n",
    "t = np.linspace(0,1,5)\n",
    "poly_coeff = np.polyfit(t, y, 2)\n",
    "import matplotlib.pyplot as plt\n",
    "%matplotlib inline \n",
    "plt.plot(t, y, 'o')\n",
    "plt.plot(t, np.poly1d(poly_coeff)(t), '-')\n",
    "plt.show()\n",
    "print \"b) The shape from x belongs to 0<x<4\"\n",
    "import numpy as np\n",
    "values = Y \n",
    "y = np.array(values)\n",
    "t = np.linspace(0,1,2)\n",
    "poly_coeff = np.polyfit(t, y, 2)\n",
    "import matplotlib.pyplot as plt\n",
    "plt.plot(t, y, 'o')\n",
    "plt.plot(t, np.poly1d(poly_coeff)(t), '-')\n",
    "plt.show()\n",
    "print \"b) The shape from x belongs to 4<x<5\"\n",
    "\n",
    "\n",
    "\n",
    "\n",
    "\n",
    "\n",
    "\n"
   ]
  },
  {
   "cell_type": "markdown",
   "metadata": {},
   "source": [
    "## Example 10.10 page number 529"
   ]
  },
  {
   "cell_type": "code",
   "execution_count": 11,
   "metadata": {
    "collapsed": false
   },
   "outputs": [
    {
     "name": "stdout",
     "output_type": "stream",
     "text": [
      "The deflection of point D -5.56 mm\n"
     ]
    }
   ],
   "source": [
    "k = 24.0*(10**12)    #N.mm2 Flexure rigidity\n",
    "E = 200.0            #Gpa - Youngs modulus of the string\n",
    "l = 5000.0           #mm - The length of the string\n",
    "C_A = 300.0          #mm2 - crossection area \n",
    "P = 50.0             #KN - The force applies at the end \n",
    "a = 2000.0           #mm - The distance C-F\n",
    "x = 1#X - let it be a variable X\n",
    "y_d = x*(a**3)/(3*k)                                 #Xmm The displacement at D, lets keep the variable in units part\n",
    "y_p  = -P*(10**3)*(16*(a**3)-12*(a**3)+(a**3))/(k*6) #mm The displacement due to p \n",
    "e_rod = l/(C_A*E*(10**3))                            #Xmm -deflection, The varible is in units \n",
    "e_rod\n",
    "X = y_p/(2*e_rod+y_d)  # By equating deflections \n",
    "y_d_1 = X*(a**3)/(3*k) # the deflection of point D\n",
    "print \"The deflection of point D\",round(y_d_1,2),\"mm\""
   ]
  },
  {
   "cell_type": "markdown",
   "metadata": {},
   "source": [
    "## Example 10.11 page number 530  "
   ]
  },
  {
   "cell_type": "code",
   "execution_count": 13,
   "metadata": {
    "collapsed": false
   },
   "outputs": [
    {
     "name": "stdout",
     "output_type": "stream",
     "text": [
      "the horizantal component of deflection 0.246 in\n",
      "the vertical component of deflection 0.073 in\n",
      "the resultant deflection 0.257 in\n"
     ]
    }
   ],
   "source": [
    "import math \n",
    "l = 15          #in - The length of the crossection \n",
    "b = 33.9        #in - the width of the crossection\n",
    "L = 100         #in The length of the cantilever \n",
    "E = 29*(10**6)  #psi The youngs modulus of the material used \n",
    "I_Z = 315       #in4 - the moment of inertia wrt Z axis \n",
    "I_y = 8.13      #in4 - the moment of inertia wrt Y axis\n",
    "o = 5           # degrees - the angle of acting force \n",
    "P = 2000        #k the acting force \n",
    "P_h = P*math.sin(math.radians(o)) #k - The horizantal component of P\n",
    "P_v = P*math.cos(math.radians(o)) #k - The vertical  component of P\n",
    "e_h =  P_h*(L**3)/(3*E*I_y)       # the horizantal component of deflection \n",
    "e_v =  P_v*(L**3)/(3*E*I_Z )      # the vertical component of deflection\n",
    "e = pow((e_h**2 + e_v**2),0.5)\n",
    "print \"the horizantal component of deflection\",round(e_h,3) ,\"in\"\n",
    "print \"the vertical component of deflection\",round(e_v,3) ,\"in\"\n",
    "print \"the resultant deflection\",round(e,3) ,\"in\""
   ]
  },
  {
   "cell_type": "markdown",
   "metadata": {},
   "source": [
    "## Example 10.13 page number 533"
   ]
  },
  {
   "cell_type": "code",
   "execution_count": 14,
   "metadata": {
    "collapsed": false
   },
   "outputs": [
    {
     "name": "stdout",
     "output_type": "stream",
     "text": [
      "a) The maximum deflection when the beam is on rigid supports 0.03 mm with impact factor 71.7 b) The maximum deflection when the beam is on spring supports 0.28 mm with impact factor 24.17\n"
     ]
    }
   ],
   "source": [
    "#Given \n",
    "l = 50.0           #mm - The length of the crossection \n",
    "b = 50.0           #mm - the width of the crossection\n",
    "m = 15.3           # mass of the falling body\n",
    "h = 75.0           #mm - The height of the falling body \n",
    "p = m*9.81         #N the force acted due to the body\n",
    "L = 1000.0         #mm The length of the cantilever\n",
    "E = 200  #Gpa The youngs modulus of the material used \n",
    "I = (l**4)/12 #mm - the moment of inertia \n",
    "k = 300 #N/mm -the stiffness of the spring \n",
    "#Rigid supports \n",
    "e = m*9.81*(L**3)*(10**-3)/(48*E*I) #mm - the deflection of beam \n",
    "imp_fact_a = 1 +pow((1 +2*h/e),0.5) #no units , impact factor \n",
    "#spring supports\n",
    "e_spr = h/k #mm the elongation due to spring \n",
    "e_total = e_spr + e \n",
    "imp_fact_b =  1 +pow((1 +2*h/e_total),0.5) #no units , impact factor\n",
    "print \"a) The maximum deflection when the beam is on rigid supports\",round(e,3),\"mm with impact factor\",round(imp_fact_a ,2),\n",
    "print \"b) The maximum deflection when the beam is on spring supports\",round(e_total,2),\"mm with impact factor\",round(imp_fact_b,2) ,\n",
    "\n",
    "\n"
   ]
  },
  {
   "cell_type": "markdown",
   "metadata": {},
   "source": [
    "## Example 10.15 page number 536 "
   ]
  },
  {
   "cell_type": "code",
   "execution_count": 15,
   "metadata": {
    "collapsed": false
   },
   "outputs": [
    {
     "name": "stdout",
     "output_type": "stream",
     "text": [
      "the ultimate capacity 120 K-in\n",
      "the ultimate curvature 0.000806666666667 in*-1\n"
     ]
    }
   ],
   "source": [
    "#Given\n",
    "E = 30*(10**3) #ksi - The youngs modulus of the material \n",
    "stress_y = 40 #Ksi - yield stress\n",
    "stress_max = 24.2 #Ksi - the maximum stress\n",
    "l = 2          #in - The length of the crossection \n",
    "b = 3       #in - the width of the crossection\n",
    "h = 3 #in - the depth of the crossection\n",
    "#lets check ultimate capacity for a 2 in deep section \n",
    "M_ul = stress_y*b*(l**2)/4 #K-in the ultimate capacity \n",
    "curvature = 2*stress_y/(E*(h/2) ) #in*-1 the curvature of the beam \n",
    "curvature_max = stress_max/(E*(h/2)) #in*-1 The maximum curvature \n",
    "print \"the ultimate capacity\",M_ul,\"K-in\"\n",
    "print \"the ultimate curvature\",curvature_max,\"in*-1\"\n",
    "\n"
   ]
  },
  {
   "cell_type": "markdown",
   "metadata": {},
   "source": [
    "## Example 10.16 page number 543"
   ]
  },
  {
   "cell_type": "code",
   "execution_count": 16,
   "metadata": {
    "collapsed": false
   },
   "outputs": [
    {
     "name": "stdout",
     "output_type": "stream",
     "text": [
      "The maximum deflection at tip B -4.11 mm\n",
      "The slope at the tip  B -0.0 radians\n"
     ]
    }
   ],
   "source": [
    "#Given \n",
    "l_ad = 1600 #mm - The total length of the beam \n",
    "l_ab = 600  #mm - The length of AB\n",
    "l_bc = 600  #mm - The length of BC\n",
    "e_1 = 0.24  #mm - deflection \n",
    "e_2 = 0.48  #mm - deflection\n",
    "E = 35      #Gpa\n",
    "#Caliculation \n",
    "\n",
    "A_afe = -(l_ab+l_bc)*e_1*(10**-3)/(2*E)\n",
    "A_afe = -(l_ab)*e_2*(10**-3)/(4*E)\n",
    "y_1_b = A_afe + A_afe #rad the slope at the tip  B\n",
    "x_1 = 1200            #com from B\n",
    "x_2 = 800             #com from B\n",
    "y_b = A_afe*x_1 + A_afe*x_2 #mm The maximum deflection at tip B\n",
    "print\"The maximum deflection at tip B\",round(y_b,2),\"mm\"\n",
    "print \"The slope at the tip  B\",round(y_1_b,2) ,\"radians\""
   ]
  },
  {
   "cell_type": "markdown",
   "metadata": {},
   "source": [
    "## Example 10.19 page number 547 "
   ]
  },
  {
   "cell_type": "code",
   "execution_count": 17,
   "metadata": {
    "collapsed": false
   },
   "outputs": [
    {
     "name": "stdout",
     "output_type": "stream",
     "text": [
      " The maximum displacement in y direction is -0.0130208333333 W(l**4)/EI \n",
      " The maximum deflection occured at 0.5 L\n",
      " The maximum deflection is -0.05775 W(l**3)/EI \n"
     ]
    }
   ],
   "source": [
    "#Given\n",
    "import numpy\n",
    "l_ab = 1.0   #L in - The length of the beam\n",
    "F_D = 1.0    #W lb/in - The force distribution \n",
    "F = F_D*l_ab #WL - The force applied\n",
    "#Beause of symmetry the moment caliculations can be neglected\n",
    "#F_Y = 0\n",
    "R_A = F/2 #wl - The reactive force at A\n",
    "R_B = F/2 #wl - The reactive force at B\n",
    "#EI - The flxure rigidity is constant and 1/EI =1 # k\n",
    "\n",
    "#part - A\n",
    "#section 1--1\n",
    "l_1 = [0,0.1,0.2,0.3,0.4,0.5,0.6,0.7,0.8,0.9,1] #L taking each section at 0.1L distance \n",
    "M_1 = [0,0,0,0,0,0,0,0,0,0,0]\n",
    "v = [0,0,0,0,0,0,0,0,0,0,0]\n",
    "for i in range(10):\n",
    "    v[i] = R_A - F_D*l_1[i]  \n",
    "    M_1[i] = R_A*l_1[i] - F_D*(l_1[i]**2)/2\n",
    "# (EI)y'' = M_1[i] we will integrate M_1[i] twice where variable is l_1[i]\n",
    "#(EI)y'- \n",
    "\n",
    "M_1_intg1 = R_A*(l_1[i]**2)/4 - F_D*(l_1[i]**3)/6 - F_D*(l_ab**3)*l_1[i]/24 #deflection integration of x**n = x**n+1/n+1\n",
    "#(EI)y- Using end conditions for caliculating constants \n",
    "\n",
    "M_1_intg2 = R_A*(l_1[i]**3)/12.0 - F_D*(l_1[i]**4)/24.0 + F_D*(l_ab**3)*l_1[i]/24.0 \n",
    "#Equations \n",
    "\n",
    "l_1 = [0,0.1,0.2,0.3,0.4,0.5,0.6,0.7,0.8,0.9,1] #L taking each section at 0.1L distance \n",
    "M_1_intg2 = [0,0,0,0,0,0,0,0,0,0,0]\n",
    "Y = [0,0,0,0,0,0,0,0,0,0,0]\n",
    "for i in range(10):\n",
    "    M_1_intg2[i] = (l_1[i]**3)/12.0 - (l_1[i]**4)/24.0 - l_1[i]/24.0   # discluding every term for ruling out float values\n",
    "    Y[i] = M_1_intg2[i] #W(l**4)/EI  k = 1/EI\n",
    "#The precision is very less while caliculating through this equation because the least count in X direction is 0.1\n",
    "print \" The maximum displacement in y direction is\",min(Y),\"W(l**4)/EI \"\n",
    "print \" The maximum deflection occured at\",l_1[Y.index(min(Y))],\"L\"\n",
    "\n",
    "l_1 = [0,0.1,0.2,0.3,0.4,0.5,0.6,0.7,0.8,0.9,1] #L taking each section at 0.1L distance \n",
    "M_1_intg1 = [0,0,0,0,0,0,0,0,0,0,0]\n",
    "Y = [0,0,0,0,0,0,0,0,0,0,0]\n",
    "for i in range(10):\n",
    "    M_1_intg1[i] = R_A*(l_1[i]**2)/4 - F_D*(l_1[i]**3)/6 - F_D*(l_ab**3)*l_1[i]/24\n",
    "print \" The maximum deflection is\",min(M_1_intg1 ),\"W(l**3)/EI \""
   ]
  },
  {
   "cell_type": "markdown",
   "metadata": {},
   "source": [
    "## Example 10.23 page number 554 "
   ]
  },
  {
   "cell_type": "code",
   "execution_count": 18,
   "metadata": {
    "collapsed": false
   },
   "outputs": [
    {
     "name": "stdout",
     "output_type": "stream",
     "text": [
      "The moment at the end is  -0.0833333333333 wl**2\n"
     ]
    }
   ],
   "source": [
    "import numpy\n",
    "l_ab = 1.0   #L in - The length of the beam\n",
    "F_D = 1.0    #W lb/in - The force distribution \n",
    "F = F_D*l_ab #WL - The force applied\n",
    "#Beause of symmetry the moment caliculations can be neglected\n",
    "#F_Y = 0\n",
    "R_A = F/2    #wl - The reactive force at A\n",
    "R_B = F/2    #wl - The reactive force at B\n",
    "#EI - The flxure rigidity is constant and 1/EI =1 # k\n",
    "#M_A and M_B are applied at the ends\n",
    "\n",
    "#part - A\n",
    "#section 1--1\n",
    "l_1 = [0,0.1,0.2,0.3,0.4,0.5,0.6,0.7,0.8,0.9,1]    #L taking each section at 0.1L distance \n",
    "M = [0,0,0,0,0,0,0,0,0,0,0]\n",
    "for i in range(10):\n",
    "    M[i] = l_1[i]/2.0 - (l_1[i]**2)/2.0 -1.0/12.0    #The moment euation at 1--1 section\n",
    "# M_1 = R_A*l_1[i]/2.0 - F_D*(l_1[i]**2)/2.0 -F_D*(l_ab**2)/12.0  #The moment euation at 1--1 section    \n",
    "# (EI)y'' = M_1[i] we will integrate M_1[i] twice where variable is l_1[i]\n",
    "#(EI)y'\n",
    "M_1_intg1 = R_A*(l_1[i]**2)/4 - F_D*(l_1[i]**3)/6 - F_D*(l_ab**2)*l_1[i]/12.0 #integration of x**n = x**n+1/n+1\n",
    "#(EI)y\n",
    "M_1_intg2[i] = R_A*(l_1[i]**3)/12.0 - F_D*(l_1[i]**4)/24.0 + F_D*(l_ab**2)*(l_1[i]**2)/24.0   \n",
    "\n",
    "l_1 = [0,0.1,0.2,0.3,0.4,0.5,0.6,0.7,0.8,0.9,1] #L taking each section at 0.1L distance \n",
    "M_1_intg2 = [0,0,0,0,0,0,0,0,0,0,0]\n",
    "Y = [0,0,0,0,0,0,0,0,0,0,0]\n",
    "for i in range(10):\n",
    "    M_1_intg2[i] = (l_1[i]**3)/12.0 - (l_1[i]**4)/24.0 - (l_1[i]**2)/24.0   # discluding every term for ruling out float values\n",
    "    Y[i] = M_1_intg2[i] #W(l**4)/EI  k = 1/EI\n",
    "    \n",
    "print \"The moment at the end is \",M[0],\"wl**2\""
   ]
  },
  {
   "cell_type": "markdown",
   "metadata": {},
   "source": [
    "## Example 10.25 pagenumber 556"
   ]
  },
  {
   "cell_type": "code",
   "execution_count": 20,
   "metadata": {
    "collapsed": false
   },
   "outputs": [
    {
     "data": {
      "image/png": "[encoded data removed]",
      "text/plain": [
       "<matplotlib.figure.Figure at 0xc04ddd8>"
      ]
     },
     "metadata": {},
     "output_type": "display_data"
    },
    {
     "data": {
      "image/png": "[encoded data removed]",
      "text/plain": [
       "<matplotlib.figure.Figure at 0xc7cf240>"
      ]
     },
     "metadata": {},
     "output_type": "display_data"
    }
   ],
   "source": [
    "\n",
    "# This problem is divided into two parts\n",
    "#Part _1\n",
    "#Given\n",
    "l = 1.0 #l - The length of the beam\n",
    "p = 1.0 #W - The total load applied\n",
    "#since it is triangular distribution \n",
    "l_com = 0.66*L #l - The distance of force of action from one end\n",
    "#F_Y = 0\n",
    "#R_A + R_B = p\n",
    "#M_a = 0 Implies that R_B = 2*R_A\n",
    "R_A = p/3.0\n",
    "R_B = 2.0*p/3\n",
    "\n",
    "#Taking Many sections \n",
    "\n",
    "#Section 1----1\n",
    "l = [0,0.1,0.2,0.3,0.4,0.5,0.6,0.7,0.8,0.9,1] #L taking each section at 0.1L distance \n",
    "M = [0,0,0,0,0,0,0,0,0,0,0]\n",
    "v = [0,0,0,0,0,0,0,0,0,0,0]\n",
    "for i in range(10):\n",
    "    v[i] = p*(l[i]**2) - p/3.0\n",
    "    M[i] = p*(l[i]**3)/(3.0)- p*l[i]/3.0\n",
    "\n",
    "v[10] = R_B #again concluded Because the value is tearing of  \n",
    "\n",
    "\n",
    "#Graph\n",
    "import numpy as np\n",
    "values = M\n",
    "y = np.array(values)\n",
    "t = np.linspace(0,1,11)\n",
    "poly_coeff = np.polyfit(t, y, 2)\n",
    "import matplotlib.pyplot as plt\n",
    "plt.plot(t, y, 'o')\n",
    "plt.plot(t, np.poly1d(poly_coeff)(t), '-')\n",
    "plt.show()\n",
    "import numpy as np\n",
    "values = v\n",
    "y = np.array(values)\n",
    "t = np.linspace(0,1,11)\n",
    "poly_coeff = np.polyfit(t, y, 2)\n",
    "import matplotlib.pyplot as plt\n",
    "%matplotlib inline\n",
    "plt.plot(t, y, 'o')\n",
    "plt.plot(t, np.poly1d(poly_coeff)(t), '-')\n",
    "plt.show()\n",
    "\n",
    "\n",
    "#part B\n"
   ]
  },
  {
   "cell_type": "code",
   "execution_count": null,
   "metadata": {
    "collapsed": false
   },
   "outputs": [],
   "source": []
  }
 ],
 "metadata": {
  "kernelspec": {
   "display_name": "Python 2",
   "language": "python",
   "name": "python2"
  },
  "language_info": {
   "codemirror_mode": {
    "name": "ipython",
    "version": 2
   },
   "file_extension": ".py",
   "mimetype": "text/x-python",
   "name": "python",
   "nbconvert_exporter": "python",
   "pygments_lexer": "ipython2",
   "version": "2.7.10"
  }
 },
 "nbformat": 4,
 "nbformat_minor": 0
}
