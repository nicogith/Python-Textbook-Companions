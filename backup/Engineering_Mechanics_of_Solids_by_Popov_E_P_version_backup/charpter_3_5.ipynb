{
 "cells": [
  {
   "cell_type": "markdown",
   "metadata": {},
   "source": [
    "# Chaper 3:Generalized hooke's law, Pressure vessels and Thick walled cylinders"
   ]
  },
  {
   "cell_type": "markdown",
   "metadata": {},
   "source": [
    "## Example 3.1 page number 141"
   ]
  },
  {
   "cell_type": "code",
   "execution_count": 7,
   "metadata": {
    "collapsed": false
   },
   "outputs": [
    {
     "name": "stdout",
     "output_type": "stream",
     "text": [
      "the stiffness constant is  64.0 N/mm\n"
     ]
    }
   ],
   "source": [
    "#Given\n",
    "from numpy.random import randn\n",
    "th = 8     #mm - thickness \n",
    "G =  0.64  #N/mm2 -shear modulus\n",
    " \n",
    "a = 40     #mm length\n",
    "b = 20     #mm width \\\n",
    "Area = a*b #mm2\n",
    "e =  randn()   # lets say any random vale\n",
    "strain =  e/th # strain in shearing case\n",
    "#caliculations\n",
    "\n",
    "stress =G*strain\n",
    "F = stress*Area\n",
    "#stiffness =  froce/displacement\n",
    "k = F/e #N/mm\n",
    "print \"the stiffness constant is \",k,\"N/mm\"\n",
    "\n",
    "\n"
   ]
  },
  {
   "cell_type": "markdown",
   "metadata": {},
   "source": [
    "## Example 3.2 page number 149"
   ]
  },
  {
   "cell_type": "code",
   "execution_count": 12,
   "metadata": {
    "collapsed": false
   },
   "outputs": [
    {
     "name": "stdout",
     "output_type": "stream",
     "text": [
      "The change in the dimension between parallel faces is  -0.025 mm\n"
     ]
    }
   ],
   "source": [
    "#Given\n",
    "a = 50          #mm - length of a cube\n",
    "E =  200        # Gpa - the youngs modulus \n",
    "v =  0.25       # no units- poissions ratio \n",
    "pressure =  200 # Mpa - pressure acting on all sides \n",
    "#pressure is a compressive stress \n",
    "S_x = -200 # Gpa - The stress in X direction \n",
    "S_y = -200 # Gpa - The stress in Y direction\n",
    "S_z = -200 # Gpa - The stress in Z direction\n",
    "#Caliculations\n",
    "\n",
    "e = S_x*pow(10,-3)/E - v*S_y*pow(10,-3)/E-v*S_z*pow(10,-3)/E#mm - considering all three directions \n",
    "x = e*a #mmThe change in the dimension between parallel faces\n",
    "print \"The change in the dimension between parallel faces is \",x,\"mm\"\n"
   ]
  },
  {
   "cell_type": "markdown",
   "metadata": {},
   "source": [
    "## Example 3.3 page number 154"
   ]
  },
  {
   "cell_type": "code",
   "execution_count": 15,
   "metadata": {
    "collapsed": false
   },
   "outputs": [
    {
     "name": "stdout",
     "output_type": "stream",
     "text": [
      "The Hoop stress is  80.0 mm\n",
      "The longitudinal stress is  40.0 mm\n",
      "The change in daimeter of the cylinder is 0.35 mm\n"
     ]
    }
   ],
   "source": [
    "#Given\n",
    "R = 1000    # mm - radius of the cylinder \n",
    "t =  10     #mm - thickness of the cylinder\n",
    "p_in = 0.80 #Mpa- Internal pressure \n",
    "E = 200     #Mpa- youngs modulus \n",
    "v = 0.25    # poission ratio\n",
    "#caliculations\n",
    "\n",
    "Stress_1 = p_in*R/t     #Mpa -Hoop stress                    #From derived expressions \n",
    "Stress_2 = p_in*R/(2*t) #Mpa- Longitudinal stress \n",
    "e = Stress_1*pow(10,-3)/E-v*Stress_2*pow(10,-3)/E\n",
    "dia_change = e*R        #mm- The change in daimeter of the cylinder \n",
    "print \"The Hoop stress is \",Stress_1,\"mm\"\n",
    "print \"The longitudinal stress is \",Stress_2, \"mm\"\n",
    "print \"The change in daimeter of the cylinder is\",dia_change,\"mm\""
   ]
  },
  {
   "cell_type": "markdown",
   "metadata": {},
   "source": [
    "## Example 3.4 page number 156"
   ]
  },
  {
   "cell_type": "code",
   "execution_count": 9,
   "metadata": {
    "collapsed": false
   },
   "outputs": [
    {
     "name": "stdout",
     "output_type": "stream",
     "text": [
      "The maximum stress is  40.0 mm\n",
      "The change in daimeter of the cylinder is 0.15 mm\n"
     ]
    }
   ],
   "source": [
    "#Given\n",
    "R = 1000             #mm - radius of the cylinder\n",
    "th = 10              #mm - thickness of the cylinder\n",
    "E = 200              #Mpa- youngs modulus \n",
    "v = 0.25             # poission ratio\n",
    "p_in = 0.80          #Mpa- Internal pressure\n",
    "t =  10               #mm - thickness of the cylinder\n",
    "#caliculations\n",
    "\n",
    "Stress_1 = p_in*R/(2*t) #Mpa -Hoop stress                    #From derived expressions \n",
    "Stress_2 = p_in*R/(2*t) #Mpa- Longitudinal stress\n",
    "# Hoop stress and Longitudinal stress are same in this case\n",
    "e = Stress_1*pow(10,-3)/E-v*Stress_2*pow(10,-3)/E\n",
    "dia_change = e*R        #mm- The change in daimeter of the cylinder\n",
    "print \"The maximum stress is \",Stress_2, \"mm\"\n",
    "print \"The change in daimeter of the cylinder is\",dia_change,\"mm\"\n"
   ]
  },
  {
   "cell_type": "markdown",
   "metadata": {},
   "source": [
    "## Example 3.5 page number 156"
   ]
  },
  {
   "cell_type": "code",
   "execution_count": 31,
   "metadata": {
    "collapsed": false
   },
   "outputs": [
    {
     "name": "stdout",
     "output_type": "stream",
     "text": [
      "The diameter of each bolt is 1.41985914794 mm\n"
     ]
    }
   ],
   "source": [
    "#Given\n",
    "p_in = 0.7   #Mpa - internal pressure \n",
    "n_bolts = 20 # number of bolts \n",
    "dia = 650    #mm - bolt circle diameter \n",
    "stress_allow = 125 #mm Maximum alowable stress\n",
    "Stress_conc = 2    #stress concentration\n",
    "d = 25             #mm \n",
    "#caliculations\n",
    "\n",
    "F = p_in*3.14*pow(((dia-2*d)/2),2)*pow(10,6) #N\n",
    "F_each = F/n_bolts #N- force per each Bolt\n",
    "A = Stress_conc*F_each/(stress_allow*pow(10,-6)) #mm2 The bolt area \n",
    "Bolt_dia = 2*pow((round(A,3)/3.14),0.5)*pow(10,-7) #mm the bolt daimeter\n",
    "print \"The diameter of each bolt is\",Bolt_dia,\"mm\"\n",
    "\n"
   ]
  },
  {
   "cell_type": "markdown",
   "metadata": {},
   "source": [
    "## Example 3.6 page number 166"
   ]
  },
  {
   "cell_type": "code",
   "execution_count": 3,
   "metadata": {
    "collapsed": false
   },
   "outputs": [
    {
     "ename": "ImportError",
     "evalue": "No module named randn",
     "output_type": "error",
     "traceback": [
      "\u001b[1;31m---------------------------------------------------------------------------\u001b[0m",
      "\u001b[1;31mImportError\u001b[0m                               Traceback (most recent call last)",
      "\u001b[1;32m<ipython-input-3-f3772d92c540>\u001b[0m in \u001b[0;36m<module>\u001b[1;34m()\u001b[0m\n\u001b[0;32m      1\u001b[0m \u001b[1;31m#Given\u001b[0m\u001b[1;33m\u001b[0m\u001b[1;33m\u001b[0m\u001b[0m\n\u001b[1;32m----> 2\u001b[1;33m \u001b[1;32mimport\u001b[0m \u001b[0mrandn\u001b[0m\u001b[1;33m\u001b[0m\u001b[0m\n\u001b[0m\u001b[0;32m      3\u001b[0m \u001b[0mr_1\u001b[0m \u001b[1;33m=\u001b[0m \u001b[0mrandn\u001b[0m\u001b[1;33m(\u001b[0m\u001b[1;33m)\u001b[0m\u001b[1;31m# let r_1 is a random number\u001b[0m\u001b[1;33m\u001b[0m\u001b[0m\n\u001b[0;32m      4\u001b[0m \u001b[0mt\u001b[0m \u001b[1;33m=\u001b[0m  \u001b[1;36m0.1\u001b[0m\u001b[1;33m*\u001b[0m\u001b[0mr_1\u001b[0m \u001b[1;31m#Thickness\u001b[0m\u001b[1;33m\u001b[0m\u001b[0m\n\u001b[0;32m      5\u001b[0m \u001b[0mr_2\u001b[0m \u001b[1;33m=\u001b[0m \u001b[0mr_1\u001b[0m\u001b[1;33m+\u001b[0m\u001b[0mt\u001b[0m  \u001b[1;31m#Outer Radius\u001b[0m\u001b[1;33m\u001b[0m\u001b[0m\n",
      "\u001b[1;31mImportError\u001b[0m: No module named randn"
     ]
    }
   ],
   "source": [
    "#Given\n",
    "from numpy.random import randn\n",
    "r_1 = randn()# let r_1 is a random number \n",
    "t =  0.1*r_1 #Thickness\n",
    "r_2 = r_1+t  #Outer Radius\n",
    "#caliculations\n",
    "\n",
    "stress_1_a=  ((r_1**2)/((r_2**2)-(r_1**2)))*(1+((r_2**2)/(r_1**2)))#p -r =r_2\n",
    "stress_2_a=  ((r_1**2)/((r_2**2)-(r_1**2)))*(1+((r_2**2)/(r_2**2)))#p -r =r_1\n",
    "stress_avg_a=(stress_1_a+stress_2_a)/2 #p\n",
    "print \"The average stress in case a is\",stress_avg_a,\"p\"\n",
    "\n",
    "#Case-B\n",
    "#Given\n",
    "r_1 = randn()# let r_1 is a random number \n",
    "r_2_b= 4*r_1 \n",
    "#caliculations\n",
    "\n",
    "stress_1_b =  ((r_1**2)/((r_2_b**2)-(r_1**2)))*(1+((r_2_b**2)/(r_1**2)))#p -r =r_2\n",
    "stress_2_b=  ((r_1**2)/((r_2_b**2)-(r_1**2)))*(1+((r_2_b**2)/(r_2_b**2)))#p -r =r_1\n",
    "stress_avg_b=(stress_1_b+stress_2_b)/2 #p\n",
    "print \"The average stress in case b is\",stress_2_b,\"p\"\n",
    "\n"
   ]
  },
  {
   "cell_type": "code",
   "execution_count": null,
   "metadata": {
    "collapsed": false
   },
   "outputs": [],
   "source": []
  }
 ],
 "metadata": {
  "kernelspec": {
   "display_name": "Python 2",
   "language": "python",
   "name": "python2"
  },
  "language_info": {
   "codemirror_mode": {
    "name": "ipython",
    "version": 2
   },
   "file_extension": ".py",
   "mimetype": "text/x-python",
   "name": "python",
   "nbconvert_exporter": "python",
   "pygments_lexer": "ipython2",
   "version": "2.7.10"
  }
 },
 "nbformat": 4,
 "nbformat_minor": 0
}
