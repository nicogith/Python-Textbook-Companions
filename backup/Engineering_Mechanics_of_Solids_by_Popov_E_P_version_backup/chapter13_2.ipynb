{
 "cells": [
  {
   "cell_type": "markdown",
   "metadata": {},
   "source": [
    "# Chapter 13: Statically Indeterminate Problems"
   ]
  },
  {
   "cell_type": "markdown",
   "metadata": {},
   "source": [
    "## Example 13.2 page number 693"
   ]
  },
  {
   "cell_type": "code",
   "execution_count": 10,
   "metadata": {
    "collapsed": false
   },
   "outputs": [
    {
     "name": "stdout",
     "output_type": "stream",
     "text": [
      "a) The maximum displacement in y direction is -0.208333333333 W(l**4)/EI \n",
      "a) The maximum deflection occured at 1.0 L\n",
      "The reaction at the mid of the bar 1.25 WL\n"
     ]
    },
    {
     "data": {
      "image/png": "[encoded data removed]",
      "text/plain": [
       "<matplotlib.figure.Figure at 0x7fad208>"
      ]
     },
     "metadata": {},
     "output_type": "display_data"
    },
    {
     "name": "stdout",
     "output_type": "stream",
     "text": [
      "b)The above graph is beam displacement graph\n",
      "b)The minimum occures in the middle from the above graph  \n"
     ]
    }
   ],
   "source": [
    "#Given \n",
    "#First we will solve without the reaction at middle\n",
    "#Given\n",
    "import numpy\n",
    "import matplotlib.pyplot as plt\n",
    "import numpy as np\n",
    "l_ab = 1.0   #2L in - The length of the beam\n",
    "F_D = 1.0    #W lb/in - The force distribution \n",
    "F = F_D*l_ab #WL - The force applied\n",
    "#Beause of symmetry the moment caliculations can be neglected\n",
    "#F_Y = 0\n",
    "R_A = F/2 #wl - The reactive force at A\n",
    "R_B = F/2 #wl - The reactive force at B\n",
    "#EI - The flxure rigidity is constant and 1/EI =1 # k\n",
    "\n",
    "#part - A\n",
    "#section 1--1\n",
    "l_1 = [0,0.1,0.2,0.3,0.4,0.5,0.6,0.7,0.8,0.9,1] #L taking each section at 0.2L distance \n",
    "M_1 = [0,0,0,0,0,0,0,0,0,0,0]\n",
    "v = [0,0,0,0,0,0,0,0,0,0,0]\n",
    "for i in range(10):\n",
    "    v[i] = R_A - F_D*l_1[i]  \n",
    "    M_1[i] = R_A*l_1[i] - F_D*(l_1[i]**2)/2\n",
    "# (EI)y'' = M_1[i] we will integrate M_1[i] twice where variable is l_1[i]\n",
    "#(EI)y'- \n",
    "\n",
    "M_1_intg1 = R_A*(l_1[i]**2)/4 - F_D*(l_1[i]**3)/6 - F_D*(l_ab**3)*l_1[i]/24 #integration of x**n = x**n+1/n+1\n",
    "#(EI)y- Using end conditions for caliculating constants \n",
    "\n",
    "M_1_intg2 = R_A*(l_1[i]**3)/12.0 - F_D*(l_1[i]**4)/24.0 + F_D*(l_ab**3)*l_1[i]/24.0 \n",
    "#Equations \n",
    "\n",
    "l_1 = [0,0.1,0.2,0.3,0.4,0.5,0.6,0.7,0.8,0.9,1] #L taking each section at 0.2L distance \n",
    "M_1_intg2 = [0,0,0,0,0,0,0,0,0,0,0]\n",
    "Y = [0,0,0,0,0,0,0,0,0,0,0]\n",
    "for i in range(10):\n",
    "    M_1_intg2[i] = (l_1[i]**3)/12.0 - (l_1[i]**4)/24.0 - l_1[i]/24.0   # discluding every term for ruling out float values\n",
    "    Y[i] = M_1_intg2[i] #W(l**4)/EI  k = 1/EI\n",
    "Y_min = 16*min(Y)\n",
    "print \"a) The maximum displacement in y direction is\",16*min(Y),\"W(l**4)/EI \"\n",
    "print \"a) The maximum deflection occured at\",2*l_1[Y.index(min(Y))],\"L\"\n",
    "f_bb = 2**3/48.0 #l**3/EI - flexibility coefficient\n",
    "Reac = - Y_min/f_bb #WL , The reaction at the mid of the bar\n",
    "print \"The reaction at the mid of the bar\",Reac ,\"WL\"\n",
    "\n",
    "#Graphs \n",
    "Y.extend(Y) #Because of symmetry\n",
    "values = Y \n",
    "y = np.array(values)\n",
    "t = np.linspace(0,1,22)\n",
    "poly_coeff = np.polyfit(t, y, 2)\n",
    "\n",
    "plt.plot(t, y, 'o')\n",
    "plt.plot(t, np.poly1d(poly_coeff)(t), '-')\n",
    "plt.show()\n",
    "print \"b)The above graph is beam displacement graph\"\n",
    "print \"b)The minimum occures in the middle from the above graph  \"\n",
    "\n",
    "\n",
    "\n",
    "\n",
    "\n"
   ]
  },
  {
   "cell_type": "markdown",
   "metadata": {},
   "source": [
    "## Example 13.3 page number 694 "
   ]
  },
  {
   "cell_type": "code",
   "execution_count": 26,
   "metadata": {
    "collapsed": false
   },
   "outputs": [
    {
     "name": "stdout",
     "output_type": "stream",
     "text": [
      "The reactive moment at A i.e M_A -0.0714285714286 WL**2\n",
      "The reactive force at A i.e R_A -1.14285714286 WL\n"
     ]
    }
   ],
   "source": [
    "#Given \n",
    "#First we will solve without the reaction at middle\n",
    "#Given\n",
    "import numpy\n",
    "l_ab = 1.0   #2L in - The length of the beam\n",
    "F_D = 1.0    #W lb/in - The force distribution \n",
    "F = F_D*l_ab #WL - The force applied\n",
    "#Beause of symmetry the moment caliculations can be neglected\n",
    "#F_Y = 0\n",
    "R_A = F/2 #wl - The reactive force at A\n",
    "R_B = F/2 #wl - The reactive force at B\n",
    "#EI - The flxure rigidity is constant and 1/EI =1 # k\n",
    "\n",
    "#part - A\n",
    "#section 1--1\n",
    "l_1 = [0,0.1,0.2,0.3,0.4,0.5,0.6,0.7,0.8,0.9,1] #L taking each section at 0.2L distance \n",
    "M_1 = [0,0,0,0,0,0,0,0,0,0,0]\n",
    "v = [0,0,0,0,0,0,0,0,0,0,0]\n",
    "for i in range(10):\n",
    "    v[i] = R_A - F_D*l_1[i]  \n",
    "    M_1[i] = R_A*l_1[i] - F_D*(l_1[i]**2)/2\n",
    "# (EI)y'' = M_1[i] we will integrate M_1[i] twice where variable is l_1[i]\n",
    "#(EI)y'- \n",
    "\n",
    "M_1_intg1 = R_A*(l_1[i]**2)/4 - F_D*(l_1[i]**3)/6 - F_D*(l_ab**3)*l_1[i]/24 #integration of x**n = x**n+1/n+1\n",
    "#(EI)y- Using end conditions for caliculating constants \n",
    "\n",
    "M_1_intg2 = R_A*(l_1[i]**3)/12.0 - F_D*(l_1[i]**4)/24.0 + F_D*(l_ab**3)*l_1[i]/24.0 \n",
    "#Equations \n",
    "\n",
    "l_1 = [0,0.1,0.2,0.3,0.4,0.5,0.6,0.7,0.8,0.9,1] #L taking each section at 0.2L distance \n",
    "M_1_intg2 = [0,0,0,0,0,0,0,0,0,0,0]\n",
    "Y = [0,0,0,0,0,0,0,0,0,0,0]\n",
    "for i in range(10):\n",
    "    M_1_intg2[i] = (l_1[i]**3)/12.0 - (l_1[i]**4)/24.0 - l_1[i]/24.0   # discluding every term for ruling out float values\n",
    "    Y[i] = M_1_intg2[i] #W(l**4)/EI  k = 1/EI\n",
    "e_1 = 16*min(Y)         #WL4/EI - The maximum defection \n",
    "e_2 = - F_D*((2*l_ab)**3)/24.0 #WL3/EI - The maximum angle\n",
    "#Caliculating for momentum and force\n",
    "f_ab = ((2*l_ab)**2)/16.0 #L2/EI \n",
    "f_bb = ((2*l_ab)**3)/48.0 #L3/EI \n",
    "f_aa = 2*l_ab/3.0 #L/EI\n",
    "f_ba = ((l_ab)**2)/4.0 #L2/EI\n",
    "#F*X = e - Matrix multiplication \n",
    "#Solving for X\n",
    "a = np.array([[f_aa,f_ba], [f_ba,f_bb]])\n",
    "b = np.array([e_2,e_1])\n",
    "x = np.linalg.solve(a, b)\n",
    "print \"The reactive moment at A i.e M_A\",x[0],\"WL**2\"\n",
    "print \"The reactive force at A i.e R_A\",x[1],\"WL\"\n"
   ]
  },
  {
   "cell_type": "code",
   "execution_count": null,
   "metadata": {
    "collapsed": false
   },
   "outputs": [],
   "source": [
    "#Given \n"
   ]
  }
 ],
 "metadata": {
  "kernelspec": {
   "display_name": "Python 2",
   "language": "python",
   "name": "python2"
  },
  "language_info": {
   "codemirror_mode": {
    "name": "ipython",
    "version": 2
   },
   "file_extension": ".py",
   "mimetype": "text/x-python",
   "name": "python",
   "nbconvert_exporter": "python",
   "pygments_lexer": "ipython2",
   "version": "2.7.10"
  }
 },
 "nbformat": 4,
 "nbformat_minor": 0
}
