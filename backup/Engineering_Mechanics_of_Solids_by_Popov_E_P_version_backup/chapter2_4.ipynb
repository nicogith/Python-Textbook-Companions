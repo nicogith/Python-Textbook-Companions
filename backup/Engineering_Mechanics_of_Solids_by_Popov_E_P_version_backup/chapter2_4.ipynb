{
 "cells": [
  {
   "cell_type": "markdown",
   "metadata": {},
   "source": [
    "# Chapter 2:Axial strains and Deformations in bars "
   ]
  },
  {
   "cell_type": "markdown",
   "metadata": {},
   "source": [
    "## Example 2.1 page number 77"
   ]
  },
  {
   "cell_type": "code",
   "execution_count": 77,
   "metadata": {
    "collapsed": false
   },
   "outputs": [
    {
     "name": "stdout",
     "output_type": "stream",
     "text": [
      "The total deflection is : 1.0 mm\n"
     ]
    }
   ],
   "source": [
    "l_ob = 2000 #mm - length of rod ob\n",
    "l_bc = 1000 #mm - length of rod bc\n",
    "l_cd = 1500 #mm - length of rod cd\n",
    "p_ob = 100  #kN - Force in rods \n",
    "p_bc = -150 #KN\n",
    "p_cd = 50   #KN \n",
    "A_ob = 1000 #mm2 - Area of rod ob\n",
    "A_bc = 2000 #mm2 - Area of rod bc \n",
    "A_cd = 1000 #mm2 - Area of rod cd\n",
    "E = 200.0 #GPA \n",
    "# the total deflection is algebraic sums of `deflection in each module \n",
    "e_1 = p_ob*l_ob/(A_ob*E)\n",
    "e_2 = p_bc*l_bc/(A_bc*E)\n",
    "e_3 = p_cd*l_cd/(A_cd*E)\n",
    "#All units are satisfied \n",
    "e_total = e_1+ e_2 + e_3\n",
    "print \"The total deflection is :\",round(e_total,3) ,\"mm\"\n"
   ]
  },
  {
   "cell_type": "markdown",
   "metadata": {},
   "source": [
    "## Example 2.4 page number 80"
   ]
  },
  {
   "cell_type": "code",
   "execution_count": 36,
   "metadata": {
    "collapsed": false
   },
   "outputs": [
    {
     "name": "stdout",
     "output_type": "stream",
     "text": [
      "0.0112677358491\n",
      "The vertical stiffness of the combination is 113.14 kips/inch\n"
     ]
    }
   ],
   "source": [
    "p_app = 3 #Kips - applied force \n",
    "P_A = 2.23 #Kips  \n",
    "p_B = -2.83 #kips - compressive force\n",
    "l_ab = 6.71 #inch\n",
    "l_bc = 8.29 #inch\n",
    "s_ab = 17.8 #ksi - tensile stress\n",
    "s_bc = -12.9 #ksi - compressive stress\n",
    "E = 10.6 * pow(10,3) #ksi -youngs modulus \n",
    "e_ab = s_ab*l_ab/E\n",
    "\n",
    "e_bc = s_bc*l_bc/E\n",
    "x = e_ab/e_bc #the Ratio of cosines of the deflected angles \n",
    "# t_1 and t_2 be deflected angles \n",
    "#t_2 = 180-45-26.6-t_1 the sum of angles is 360\n",
    "#t_1 = 52.2 degress\n",
    "import math\n",
    "e = e_ab/math.acos(math.radians(52.2)) #inch\n",
    "k  = p_app/e # kips/in vertical stiffness of the combination\n",
    "print \"The vertical stiffness of the combination is\",round(k,3),\"kips/inch\"\n",
    "\n",
    "\n",
    "\n"
   ]
  },
  {
   "cell_type": "markdown",
   "metadata": {},
   "source": [
    "## Example 2.6 page number 83"
   ]
  },
  {
   "cell_type": "code",
   "execution_count": 34,
   "metadata": {
    "collapsed": false
   },
   "outputs": [
    {
     "name": "stdout",
     "output_type": "stream",
     "text": [
      "The lateral strain is: 0.00243 no units\n",
      "The longitudinal strain is: 0.00073 no units\n",
      "The poissions ratio is: 3.32876712329 no units\n",
      "Youngs modulus: 69.8 N/mm2\n"
     ]
    }
   ],
   "source": [
    "dia = 50 #mm - diameter of aluminium \n",
    "p = 100 # KN - instant force applid\n",
    "dia_c = 0.1215 #mm- change in diameter \n",
    "l_c = 0.219 #mm - change in length\n",
    "l = 300 #mm - length \n",
    "strain_dia = dia_c/dia # lateral strain \n",
    "strain_l = l_c/l #longitudinal strain \n",
    "po = strain_dia/strain_l # poission ratio \n",
    "area = 3.14*dia*dia/4 #mm2 area\n",
    "E = p*l/(area*l_c) #N/mm2 youngs modulus \n",
    "print \"The lateral strain is:\",strain_dia,\"no units\"\n",
    "print \"The longitudinal strain is:\",strain_l,\"no units\"\n",
    "print \"The poissions ratio is:\",po,\"no units\"\n",
    "print \"Youngs modulus:\",round(E,2),\"N/mm2\""
   ]
  },
  {
   "cell_type": "markdown",
   "metadata": {},
   "source": [
    "## Example 2.7 page number 86"
   ]
  },
  {
   "cell_type": "code",
   "execution_count": 2,
   "metadata": {
    "collapsed": false
   },
   "outputs": [
    {
     "name": "stdout",
     "output_type": "stream",
     "text": [
      "The displacement in point B is : 0.00795578950395 in\n"
     ]
    }
   ],
   "source": [
    "T = 12.9*pow(10,-6) #/F\n",
    "t = 100.00 # F \n",
    "l_ab = 6.71 #inch\n",
    "l_bc = 8.29 #inch\n",
    "e_ab = T*t*l_ab #in-elongation \n",
    "e_bc = T*t*l_bc #in-elongation\n",
    "k = e_ab/e_bc # ratio of cosines of deflected angles \n",
    "# t_1 and t_2 be deflected angles \n",
    "#t_2 = 180-45-26.6-t_1 the sum of angles is 360\n",
    "t_1 = 26.6\n",
    "import math\n",
    "e = e_ab/math.acos(math.radians(26.6))\n",
    "print \"The displacement in point B is :\",e ,\"in\"\n",
    "\n",
    "\n",
    "\n"
   ]
  },
  {
   "cell_type": "markdown",
   "metadata": {},
   "source": [
    "## Example 2.11 page number "
   ]
  },
  {
   "cell_type": "code",
   "execution_count": 1,
   "metadata": {
    "collapsed": false
   },
   "outputs": [
    {
     "name": "stdout",
     "output_type": "stream",
     "text": [
      "The maximum stress is: 3.59377281766 Mpa\n"
     ]
    }
   ],
   "source": [
    "mass = 4 #kg \n",
    "dist = 1 #mt freely falling distance\n",
    "l = 1500 #mm length of rod\n",
    "d = 15 #mm diameter\n",
    "l_ab = 6.71 #inch\n",
    "l_bc = 8.29 #inch\n",
    "E =  200  #GPA youngs modulus \n",
    "k = 4.5 # N/mm stiffness costant\n",
    "F =  mass*9.81# The force applying\n",
    "Area =  3.14*(d**2)/4  \n",
    "# Two cases \n",
    "#youngs modulus \n",
    "e_y = F*l/(Area*E*pow(10,3))\n",
    "# stiffness\n",
    "e_f = F/k \n",
    "#total\n",
    "e = e_y +e_f\n",
    "k = 1+(2/(e*pow(10,-3)))\n",
    "stress_max_1 = F*(1+pow(k,0.5))/Area\n",
    "print \"The maximum stress is:\",stress_max_1,\"Mpa\"\n",
    "\n",
    "\n",
    "\n"
   ]
  },
  {
   "cell_type": "markdown",
   "metadata": {},
   "source": [
    "## Example 2.12 page number 103"
   ]
  },
  {
   "cell_type": "code",
   "execution_count": 75,
   "metadata": {
    "collapsed": false
   },
   "outputs": [
    {
     "name": "stdout",
     "output_type": "stream",
     "text": [
      "The reactions at bottom is -1.25 p\n"
     ]
    }
   ],
   "source": [
    "flex_a = 1#f\n",
    "flex_b = 2#f\n",
    "#removing lower support and solving FBD\n",
    "e = -2 -(2+1)#fp\n",
    "#e_1 = (2+1+1)*R\n",
    "#e_1 = -e Making the elongations zero since the both ends are fixed\n",
    "R = e/(2+1+1.0) #p\n",
    "print \"The reactions at bottom is\",R,\"p\"\n"
   ]
  },
  {
   "cell_type": "markdown",
   "metadata": {},
   "source": [
    "## Example 2.19 page number 113"
   ]
  },
  {
   "cell_type": "code",
   "execution_count": 2,
   "metadata": {
    "collapsed": false
   },
   "outputs": [
    {
     "name": "stdout",
     "output_type": "stream",
     "text": [
      "The end deflection is 0.12 in\n"
     ]
    }
   ],
   "source": [
    "#Given \n",
    "l = 30 #in - The length of the rod\n",
    "p_1 = 80 #kips - The Force on the end\n",
    "p_2  = 125 #kips - The force on the other end\n",
    "A_s = 0.5 #in2 - The crossection of the steel rod\n",
    "A_a = 0.5 #in2 - The crossection of the aluminium \n",
    "E_a = 10*(10**6) #psi - The youngs modulus of the aluminium \n",
    "E_s = 30*(10**6) #psi - The youngs modulus of the steel\n",
    "#Internally stastically indeterminant \n",
    "p_a = p_1/4 #From solving we get p_s = 3*P_a\n",
    "#From material properties point of view \n",
    "#stress_steel = stress_aluminium\n",
    "e = p_a*l*(10**3)/(A_a*E_a) #The end deflection \n",
    "print \"The end deflection is\",e,\"in\"\n"
   ]
  },
  {
   "cell_type": "code",
   "execution_count": null,
   "metadata": {
    "collapsed": false
   },
   "outputs": [],
   "source": []
  }
 ],
 "metadata": {
  "kernelspec": {
   "display_name": "Python 2",
   "language": "python",
   "name": "python2"
  },
  "language_info": {
   "codemirror_mode": {
    "name": "ipython",
    "version": 2
   },
   "file_extension": ".py",
   "mimetype": "text/x-python",
   "name": "python",
   "nbconvert_exporter": "python",
   "pygments_lexer": "ipython2",
   "version": "2.7.10"
  }
 },
 "nbformat": 4,
 "nbformat_minor": 0
}
