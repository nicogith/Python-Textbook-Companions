{
 "metadata": {
  "name": "",
  "signature": "sha256:80919ef508ad236e7f1f086d7446583820ebc3068a9c6be2a6a7308865841039"
 },
 "nbformat": 3,
 "nbformat_minor": 0,
 "worksheets": [
  {
   "cells": [
    {
     "cell_type": "heading",
     "level": 1,
     "metadata": {},
     "source": [
      "Chapter 7 : Forces in beams and cable"
     ]
    },
    {
     "cell_type": "heading",
     "level": 2,
     "metadata": {},
     "source": [
      "Example 7.1  Page No : 335"
     ]
    },
    {
     "cell_type": "code",
     "collapsed": false,
     "input": [
      "import math \n",
      "\n",
      "# Given Data\n",
      "P = 2400.;\t\t\t#N, Vertical Force applied at D\n",
      "AB = 2.7;\t\t\t#m, perpendicular dismath.tance between A and B\n",
      "BE = 2.7;\t\t\t#m, perpendicular dismath.tance between E and B\n",
      "BK = 1.5;\t\t\t#m, perpendicular dismath.tance between B and K\n",
      "AJ = 1.2;\t\t\t#m, perpendicular dismath.tance between A and J\n",
      "EF = 4.8;\t\t\t#m, perpendicular dismath.tance between E and F\n",
      "BD = 3.6;\t\t\t#m, perpendicular dismath.tance between D and B\n",
      "#For entire truss\n",
      "#By free body diagram we get the force at A, B , c\n",
      "A = 1800.;\t\t\t#N\n",
      "B = 1200.;\t\t\t#N\n",
      "C = 3600.;\t\t\t#N\n",
      "\n",
      "# Calculations and Results\n",
      "alpha = math.degrees(math.atan(EF/(AB+BE)));\t\t\t#rad\n",
      "#a. Internal forces at j\n",
      "#Applying sum(M_J) = 0\n",
      "M = A*AJ;\t\t\t#N.m,Couple on member ACF at J\n",
      "#Applying sum(Fx) = 0\n",
      "F = A*math.cos(math.radians(alpha));\t\t\t#N, Axial force at J\n",
      "#Applying sum(Fy) = 0\n",
      "V = A*math.sin(math.radians(alpha));\t\t\t#N, shearing force at J\n",
      "print \"Thus, Internal forces at J are equivalent to  Couple M  =  %.0f N.m  \\\n",
      "\\nAxial force F =  %.0f N  \\\n",
      "\\nShearing force V =  %.0f N\"%(M,F,V);\n",
      "\n",
      "#a. Internal forces at K\n",
      "#Applying sum(M_K) = 0\n",
      "M = B*BK;\t\t\t#N.m,Couple on frame\n",
      "#Applying sum(Fx) = 0\n",
      "F = 0;\t\t\t#N, Axial force at J\n",
      "#Applying sum(Fy) = 0\n",
      "V = -B;\t\t\t#N, shearing force at J\n",
      "print \"Thus, Internal forces at K are equivalent to  Couple M  =  %.0f N.m  \\\n",
      "\\nAxial force F =  %.0f N  \\\n",
      "\\nShearing force V =  %.0f N\"%(M,F,V);\n"
     ],
     "language": "python",
     "metadata": {},
     "outputs": [
      {
       "output_type": "stream",
       "stream": "stdout",
       "text": [
        "Thus, Internal forces at J are equivalent to  Couple M  =  2160 N.m  \n",
        "Axial force F =  1345 N  \n",
        "Shearing force V =  1196 N\n",
        "Thus, Internal forces at K are equivalent to  Couple M  =  1800 N.m  \n",
        "Axial force F =  0 N  \n",
        "Shearing force V =  -1200 N\n"
       ]
      }
     ],
     "prompt_number": 4
    },
    {
     "cell_type": "heading",
     "level": 2,
     "metadata": {},
     "source": [
      "Example 7.2  Page No : 344"
     ]
    },
    {
     "cell_type": "code",
     "collapsed": false,
     "input": [
      "%matplotlib inline\n",
      "import math \n",
      "from matplotlib.pyplot import plot,suptitle,xlabel,ylabel\n",
      "#Drawing of shear and bending moment diagram\n",
      "print \"Given problem is for drawing diagram, this diagram is drawn by step by step manner. \"\n",
      "\n",
      "# Given Data\n",
      "F_A = -20.;\t\t\t#kN, force applied at A\n",
      "F_C = -40.;\t\t\t#kN, force applied at C\n",
      "AB = 2.5;\t\t\t#m, perpendicular dismath.tance between A and B\n",
      "BC = 3.;\t\t\t#m, perpendicular dismath.tance between C and B\n",
      "CD = 2.;\t\t\t#m, perpendicular dismath.tance between C and D\n",
      "#By free body of entire beam\n",
      "#By sum(m_D) = 0\n",
      "\n",
      "# Calculations and Results\n",
      "R_B = -(CD*F_C+(AB+BC+CD)*F_A)/(BC+CD);\t\t\t#kN, Reaction atB\n",
      "#By sum(m_A) = 0\n",
      "R_D = -(BC*F_C-(AB)*F_A)/(BC+CD);\t\t\t#kN, Reaction atB\n",
      "#For section 1\n",
      "#Applying sum(Fy) = 0\n",
      "V1 = F_A;\t\t\t#kN\n",
      "#Applying sum(M1) = 0\n",
      "M1 = V1*0;\t\t\t#kN.m\n",
      "\n",
      "#For section 2\n",
      "#Applying sum(Fy) = 0\n",
      "V2 = F_A;\t\t\t#kN\n",
      "#Applying sum(M1) = 0\n",
      "M2 = F_A*AB;\t\t\t#kN.m\n",
      "\n",
      "#For section 3\n",
      "#Applying sum(Fy) = 0\n",
      "V3 = R_B+F_A;\t\t\t#kN\n",
      "#Applying sum(M1) = 0\n",
      "M3 = F_A*AB;\t\t\t#kN.m\n",
      "\n",
      "#For section 4\n",
      "#Applying sum(Fy) = 0\n",
      "V4 = R_B+F_A;\t\t\t#kN\n",
      "#Applying sum(M1) = 0\n",
      "M4 = F_A*(AB+BC)+R_B*BC \t\t\t#kN.m\n",
      "\n",
      "#For section 5\n",
      "#Applying sum(Fy) = 0\n",
      "V5 = R_B+F_A+F_C;\t\t\t#kN\n",
      "#Applying sum(M1) = 0\n",
      "M5 = F_A*(AB+BC)+R_B*BC\t\t\t#kN.m\n",
      "\n",
      "#For section 6\n",
      "#Applying sum(Fy) = 0\n",
      "V6 = R_B+F_A+F_C;\t\t\t#kN\n",
      "#Applying sum(M1) = 0\n",
      "M6 = V6*0\t\t\t#kN.m\n",
      "X = [0,2.5,2.5,5.5,5.5,7.5]\n",
      "\n",
      "V = [V1,V2,V3,V4,V5,V6];\t\t\t#Shear matrix\n",
      "M = [M1,M2,M3,M4,M5,M6];\t\t\t#Bending moment matrix\n",
      "plot(X,V);\t\t\t#Shear diagram\n",
      "plot(X,M,'r');\t\t\t#Bending moment diagram\n",
      "suptitle( 'Shear and bending moment diagram')\n",
      "xlabel('X axis')\n",
      "ylabel( 'Y axis') ;\n"
     ],
     "language": "python",
     "metadata": {},
     "outputs": [
      {
       "output_type": "stream",
       "stream": "stdout",
       "text": [
        "Given problem is for drawing diagram, this diagram is drawn by step by step manner. \n"
       ]
      },
      {
       "metadata": {},
       "output_type": "display_data",
       "png": "[encoded data removed]",
       "text": [
        "<matplotlib.figure.Figure at 0x10ef97650>"
       ]
      }
     ],
     "prompt_number": 7
    },
    {
     "cell_type": "heading",
     "level": 2,
     "metadata": {},
     "source": [
      "Example 7.3  Page No : 0"
     ]
    },
    {
     "cell_type": "code",
     "collapsed": false,
     "input": [
      "%matplotlib inline\n",
      "import math \n",
      "from matplotlib.pyplot import plot,suptitle,xlabel,ylabel\n",
      "\n",
      "#Drawing of shear and bending moment diagram\n",
      "#Values taken in N and m instead of lb and in\n",
      "print \"Given problem is for drawing diagram%( this diagram is drawn by step by step manner. \"\n",
      "\n",
      "# Given Data\n",
      "F_AC = 40.;\t\t\t#lb/in, distributed load applied at A to C\n",
      "F_E = 400.;\t\t\t#lb, force applied at E\n",
      "AC = 12.;\t\t\t#in, perpendicular dismath.tance between A and B\n",
      "CD = 6.;\t\t\t#in, perpendicular dismath.tance between C and D\n",
      "DE = 4.;\t\t\t#in, perpendicular dismath.tance between E and D\n",
      "EB = 10.;\t\t\t#in, perpendicular dismath.tance between E and B\n",
      "AB = 32.;\t\t\t#in, length of beam AB\n",
      "\n",
      "# Calculations and Results\n",
      "F = F_AC*AC;\t\t\t#N, Force due to districuted load at AC/2\n",
      "#By free body of entire beam\n",
      "#By sum(m_A) = 0\n",
      "By = (F*(AC/2)+F_E*(AC+CD+DE))/AB;\t\t\t#N,Y componet of Reaction at B\n",
      "#By sum(m_B) = 0\n",
      "#print (By)\n",
      "A = (F*(AB-AC/2)+F_E*EB)/AB;\t\t\t#N, Reaction at A\n",
      "#by sum(Fx) = 0\n",
      "#print (A)\n",
      "Bx = 0;\t\t\t#N, xcomponent of rection at B\n",
      "#Diagrams\n",
      "#For section A to C\n",
      "#Applying sum(Fy) = 0\n",
      "\n",
      "i = 0;\n",
      "X = []\n",
      "V = []\n",
      "M = []\n",
      "for x in range(0,13,2):\n",
      "    i = i+1;\n",
      "    X.append(x);\n",
      "    V.append(A-F*x);\t\t\t#N\n",
      "    #Applying sum(M1) = 0\n",
      "    M.append(A*x-F/2*x**2);\t\t\t#N.m\n",
      "\n",
      "#For section Cto D\n",
      "#Applying sum(Fy) = 0\n",
      "for x in range(12,19,2):\n",
      "    i = i+1;\n",
      "    X.append(x);\n",
      "    V.append(A-F);\t\t\t#N\n",
      "    #Applying sum(M1) = 0\n",
      "    M.append( A*x-F*(x-0.15));\t\t\t#N.m\n",
      "\n",
      "for x in range(18,33,2):\n",
      "    i = i+1;\n",
      "    X.append(x);\n",
      "    #Applying sum(Fy) = 0\n",
      "    V.append(A-F-F_E);\t\t\t#N\n",
      "    #Applying sum(M1) = 0\n",
      "    M.append(A*x-F*(x-0.15)+F_E*DE-F_E*(x-0.045));\t\t\t#N.m\n",
      "\n",
      "plot(X,V,'r');\t\t\t#Shear diagram\n",
      "plot(X,M,'-');\t\t\t#Bending moment diagram\n",
      "suptitle( 'Shear and bending moment diagram')\n",
      "xlabel('X axis')\n",
      "ylabel('Y axis') ;\n",
      "\n"
     ],
     "language": "python",
     "metadata": {},
     "outputs": [
      {
       "output_type": "stream",
       "stream": "stdout",
       "text": [
        "Given problem is for drawing diagram%( this diagram is drawn by step by step manner. \n"
       ]
      },
      {
       "metadata": {},
       "output_type": "display_data",
       "png": "[encoded data removed]",
       "text": [
        "<matplotlib.figure.Figure at 0x1090b1690>"
       ]
      }
     ],
     "prompt_number": 9
    },
    {
     "cell_type": "heading",
     "level": 2,
     "metadata": {},
     "source": [
      "Example 7.4  Page No : 0"
     ]
    },
    {
     "cell_type": "code",
     "collapsed": false,
     "input": [
      "%matplotlib inline\n",
      "import math \n",
      "from matplotlib.pyplot import plot\n",
      "\n",
      "#Drawing of shear and bending moment diagram\n",
      "# Given Data\n",
      "print \"Given problem is for drawing diagram%( this diagram is drawn by step by step manner. \"\n",
      "F_B = 500.;\t\t\t#N, force applied at B\n",
      "F_C = 500.;\t\t\t#N, force applied at C.\n",
      "F_DE = 2400.;\t\t\t#N/m, distributed load applied at D to E\n",
      "AB = 0.4;\t\t\t#m, perpendicular dismath.tance between A and B\n",
      "BC = 0.4;\t\t\t#m, perpendicular dismath.tance between C and B\n",
      "CD = 0.4;\t\t\t#m, perpendicular dismath.tance between C and D\n",
      "DE = 0.3;\t\t\t#m, perpendicular dismath.tance between E and D\n",
      "F_E = F_DE*DE;\t\t\t#N, force exerted at DE/2 from E\n",
      "\n",
      "#By free body of entire beam\n",
      "#By sum(m_D) = 0\n",
      "A = (CD*F_C+(BC+CD)*F_B-F_E*DE/2)/(AB+BC+CD);\t\t\t#N, Reaction at A\n",
      "#By sum(Fy) = 0\n",
      "Dy = F_C+F_B+F_E-A;\t\t\t#N,Y component of  Reaction at D\n",
      "#By sum(Fx) = 0\n",
      "Dx = 0;\t\t\t#N,Y component of  Reaction at D\n",
      "#For section 1\n",
      "#Applying sum(Fy) = 0\n",
      "V1 = A;\t\t\t#N, shear force from A to B\n",
      "\n",
      "#For section 2\n",
      "#Applying sum(Fy) = 0\n",
      "V2 = A-F_B;\t\t\t#N, shear force from B to C\n",
      "\n",
      "#For section 3\n",
      "#Applying sum(Fy) = 0\n",
      "V3 = A-F_B-F_C;\t\t\t#N, shear force  from C to D\n",
      "\n",
      "#For section 4\n",
      "#Applying sum(Fy) = 0\n",
      "V4 = A-F_B-F_C+Dy;\t\t\t#N, shear force At D\n",
      "\n",
      "#For section 5\n",
      "#Applying sum(Fy) = 0\n",
      "V5 = 0;\t\t\t#N, shear force at A\n",
      "#Area under bending curve is change in bending moment of that 2 points\n",
      "MA = 0;\t\t\t#N.m\n",
      "MB = MA+V1*AB;\t\t\t#N.m\n",
      "MC = MB+V2*BC;\t\t\t#N.m\n",
      "MD = MC+V3*CD;\t\t\t#N.m\n",
      "ME = MD+1./2*V4*AB;\t\t\t#N.m\n",
      "\n",
      "\n",
      "X = [0,0.4,0.4,0.8,0.8,1.2,1.2,1.5];\n",
      "V = [V1,V1,V2,V2,V3,V3,V4,V5];\t\t\t#Shear matrix,\n",
      "\n",
      "plot(X,V);\t\t\t#Shear diagram\n",
      "X = [0,AB,AB+BC,AB+BC+CD,AB+BC+CD+DE];\n",
      "M = [MA,MB,MC,MD,ME];\t\t\t#Bending moment matrix\n",
      "plot(X,M,'r');\t\t\t#Bending moment diagram\n",
      "suptitle( 'Shear and bending moment diagram')\n",
      "xlabel('X axis')\n",
      "ylabel('Y axis') ;\n",
      "\n"
     ],
     "language": "python",
     "metadata": {},
     "outputs": [
      {
       "output_type": "stream",
       "stream": "stdout",
       "text": [
        "Given problem is for drawing diagram%( this diagram is drawn by step by step manner. \n"
       ]
      },
      {
       "metadata": {},
       "output_type": "display_data",
       "png": "[encoded data removed]",
       "text": [
        "<matplotlib.figure.Figure at 0x10efd1a50>"
       ]
      }
     ],
     "prompt_number": 12
    },
    {
     "cell_type": "heading",
     "level": 2,
     "metadata": {},
     "source": [
      "Example 7.5  Page No : 0"
     ]
    },
    {
     "cell_type": "code",
     "collapsed": false,
     "input": [
      "%matplotlib inline\n",
      "import math \n",
      "from matplotlib.pyplot import plot\n",
      "#Drawing of shear and bending moment diagram\n",
      "\n",
      "# Given Data\n",
      "w = 20.;\t\t\t#kN/m, distributed load applied at D to E\n",
      "AB = 6.;\t\t\t#m, perpendicular dismath.tance between A and B\n",
      "BC = 3.;\t\t\t#m, perpendicular dismath.tance between C and B\n",
      "\n",
      "# Calculations and Results\n",
      "F_B = w*AB;\t\t\t#kN, force exerted at AB/2 from A\n",
      "\n",
      "#By free body of entire beam\n",
      "#By sum(m_C) = 0\n",
      "RA = (F_B*(AB/2+BC))/(AB+BC);\t\t\t#kN, Reaction at A\n",
      "\n",
      "#By sum(m_A) = 0\n",
      "RC = (F_B*(AB/2)/(AB+BC));\t\t\t#kN, Reaction at C\n",
      "\n",
      "#For section 1\n",
      "#Applying sum(Fy) = 0\n",
      "VA = RA;\t\t\t#N, shear force just to right to A\n",
      "\n",
      "#For section 2\n",
      "#Applying sum(Fy) = 0\n",
      "VB = VA-F_B;\t\t\t#kN, shear force just left to B\n",
      "\n",
      "#For section 3\n",
      "#Applying sum(Fy) = 0\n",
      "VC = VB;\t\t\t#kN, shear force  from B to C\n",
      "\n",
      "\n",
      "#Bending moment at each end is zero\n",
      "# Maximum bending moment is at D where V = 0\n",
      "VD = 0;\t\t\t#kN\n",
      "\n",
      "x = -(VD-VA)/w;\t\t\t#m, location of maximum bending moment\n",
      "print \"Maximum bending moment is at D x =  %.0f m from A\"%(x);\n",
      "MA = 0;\t\t\t#kN.m\n",
      "MD = MA+1/2*VA*x;\t\t\t#kN.m, maximum bending moment is at D\n",
      "MB = MD+1/2*VB*(AB-x);\t\t\t#N.m\n",
      "MC = MB+VB*BC;\t\t\t#N.m\n",
      "\n",
      "print \"Maximum bending moment is at MD =  %.0fkN. m from A\"%(MD);\n",
      "X = [0,x,AB,AB+BC];\t\t\t#m, \n",
      "V = [VA,VD,VB,VC];\t\t\t#kN,Shear matrix,\n",
      "\n",
      "plot(X,V);\t\t\t#Shear diagram\n",
      "X = [0,x,AB,AB+BC];\t\t\t#m\n",
      "M = [MA,MD,MB,MC];\t\t\t#kN.m,Bending moment matrix\n",
      "plot(X,M,'r');\t\t\t#Bending moment diagram\n",
      "suptitle( 'Shear and bending moment diagram')\n",
      "xlabel('X axis')\n",
      "ylabel('Y axis') ;\n"
     ],
     "language": "python",
     "metadata": {},
     "outputs": [
      {
       "output_type": "stream",
       "stream": "stdout",
       "text": [
        "Maximum bending moment is at D x =  4 m from A\n",
        "Maximum bending moment is at MD =  0kN. m from A\n"
       ]
      },
      {
       "metadata": {},
       "output_type": "display_data",
       "png": "[encoded data removed]",
       "text": [
        "<matplotlib.figure.Figure at 0x10a6f7550>"
       ]
      }
     ],
     "prompt_number": 13
    },
    {
     "cell_type": "heading",
     "level": 2,
     "metadata": {},
     "source": [
      "Example 7.8  Page No : 0"
     ]
    },
    {
     "cell_type": "code",
     "collapsed": false,
     "input": [
      "import math \n",
      "from numpy.linalg import solve\n",
      "from numpy import array\n",
      "\n",
      "# given data\n",
      "F_B = 30.;\t\t\t#kN, Vertical Force applied at B\n",
      "F_C = 60.;\t\t\t#kN, Vertical Force applied at C\n",
      "F_D = 20.;\t\t\t#kN, Vertical Force applied at D\n",
      "AB = 6.;\t\t\t#m, perpendicular dismath.tance between A and B\n",
      "BC = 3.;\t\t\t#m, perpendicular dismath.tance between C and B\n",
      "CD = 4.5;\t\t\t#m, perpendicular dismath.tance between c and D\n",
      "DE = 4.5;\t\t\t#m, perpendicular dismath.tance between D and E\n",
      "AE = 6.;\t\t\t#m, vertical perpendicular dismath.tance between A and E\n",
      "AC = 1.5;\t\t\t#m, vertical perpendicular dismath.tance between A and C\n",
      "#For entire cable\n",
      "#Sum(M_E) = 0, AB*Ax-Ay*(AB+BC+CD+DE)+F_B*(BC+CD+DE)+F_C*(CD+DE)+F_D*(DE) = 0\n",
      "\n",
      "# Calculations and Results\n",
      "#Free body ABC \n",
      "#Sum(M_c) = 0 gives -Ax*AC-Ay*(AB+BC)+F_B*BC = 0\n",
      "#we get 2 equations in Ax and Ay\n",
      "A = [[AB,-(AB+BC+CD+DE)],[-AC,-(AB+BC)]];\t\t\t#Matrix of coeficients\n",
      "B = [[-(F_B*(BC+CD+DE)+F_C*(CD+DE)+F_D*(DE))],[-F_B*BC]]; \n",
      "X = solve(A,-array(B));\t\t\t#kN, Solution matrix\n",
      "Ax = X[0];\t\t\t#kN, X component of reaction at A\n",
      "Ay = X[1];\t\t\t#kN, Y component of reaction at A\n",
      "\n",
      "#a. Elevation of points B and D\n",
      "#Free body AB\n",
      "#sum(M_B) = 0\n",
      "yB = -Ay*AB/Ax;\t\t\t#m, below A\n",
      "print \"Elevation of point B is %.2f m below A\"%(yB);\n",
      "#free body ABCD\n",
      "#sum(M_D) = 0\n",
      "yD = (Ay*(AB+BC+CD)-F_B*(BC+CD)-F_C*CD)/Ax;\t\t\t#m, above A\n",
      "print \"Elevation of point D is %.2f m above A\"%(yD);\n",
      "\n",
      "#Maximum slope and maximum tension\n",
      "theta = math.atan((AE-yD)/DE);\t\t\t#rad \n",
      "Tmax = -Ax/math.cos(theta);\t\t\t#kN, maximum tension\n",
      "theta = theta/math.pi*180;\t\t\t#degree\n",
      "\n",
      "print \"Maximum slope is theta =  %.1f degree and maximum tension in the cable is Tmax =  %.1f kN \"%(theta,Tmax);"
     ],
     "language": "python",
     "metadata": {},
     "outputs": [
      {
       "output_type": "stream",
       "stream": "stdout",
       "text": [
        "Elevation of point B is 1.67 m below A\n",
        "Elevation of point D is -9.25 m above A\n",
        "Maximum slope is theta =  73.6 degree and maximum tension in the cable is Tmax =  -318.0 kN \n"
       ]
      }
     ],
     "prompt_number": 15
    },
    {
     "cell_type": "heading",
     "level": 2,
     "metadata": {},
     "source": [
      "Example 7.9  Page No : 0"
     ]
    },
    {
     "cell_type": "code",
     "collapsed": false,
     "input": [
      "import math \n",
      "\n",
      "# Given Data\n",
      "yB = 0.5;\t\t\t#m, sag of the cable\n",
      "m = 0.75;\t\t\t#kg/m, mass per unit length\n",
      "g = 9.81;\t\t\t#m/s**2, acceleration due to gravity\n",
      "AB = 40.;\t\t\t#m, dismath.tance AB\n",
      "\n",
      "# Calculations and Results\n",
      "#a. Load P\n",
      "w = m*g;\t\t\t#N/m , Load per unit length\n",
      "xB = AB/2;\t\t\t#m, dismath.tance CB\n",
      "W = w*xB;\t\t\t#N, applied at halfway of CB\n",
      "\n",
      "#Summing moments about B\n",
      "#sum(M_B) = 0\n",
      "To = W*xB/2/yB;\t\t\t#N\n",
      "#from force triangle\n",
      "TB = math.sqrt(To**2+W**2);\t\t\t#N,  = P, as tension on each side is same\n",
      "print \"Magnitude of load P =  %.0f N \"%(TB);\n",
      "#slope of cable at B\n",
      "theta = math.atan(W/To);\t\t\t#rad\n",
      "theta = theta*180/math.pi;\t\t\t#degree, conversion to degree\n",
      "print \"Slope of cable at B is theta =  %.1f degree\"%(theta);\n",
      "#length of cable\n",
      "#applying eq. 7.10\n",
      "sB = xB*(1+2./3*(yB/xB)**2);\t\t\t#m\n",
      "\n",
      "print \"Total length of cable from A to B is Length =  %.4f m\"%(2*sB);\n",
      "\n"
     ],
     "language": "python",
     "metadata": {},
     "outputs": [
      {
       "output_type": "stream",
       "stream": "stdout",
       "text": [
        "Magnitude of load P =  2947 N \n",
        "Slope of cable at B is theta =  2.9 degree\n",
        "Total length of cable from A to B is Length =  40.0167 m\n"
       ]
      }
     ],
     "prompt_number": 16
    },
    {
     "cell_type": "heading",
     "level": 2,
     "metadata": {},
     "source": [
      "Example 7.10  Page No : 0"
     ]
    },
    {
     "cell_type": "code",
     "collapsed": false,
     "input": [
      "import math \n",
      "\n",
      "# Given Data\n",
      "AB = 150.;\t\t\t#m, dismath.tance AB\n",
      "s = 30.;\t\t\t#m, sag of cable\n",
      "w = 45.;\t\t\t#N/m Uniform weigth per unit length of cable\n",
      "\n",
      "#Equation of cable, by 7.16\n",
      "#Coordinates of B\n",
      "\n",
      "xB = AB/2;\t\t\t#m\n",
      "C = [99,105,98.4,90];\t\t\t#trial values\n",
      "\n",
      "# Calculations and Results\n",
      "for i in range(4):\n",
      "    if ((30/C[i]+1)-math.cosh(xB/C[i]))<0.0001:\n",
      "        c = C[i];\n",
      "        break;\n",
      "\n",
      "yB = s+c;\t\t\t#m\n",
      "\n",
      "#Maximum and minimum values of tension\n",
      "Tmin = w*c;\t\t\t#N, To\n",
      "Tmax = w*yB;\t\t\t#N TB\n",
      "print \"Minimum value of tension in cable is Tmin =  %.0f N\"%(Tmin);\n",
      "print \"Maximum value of tension in cable is Tmax =  %.0f N\"%(Tmax);\n",
      "#Length of cable\n",
      "\n",
      "S_CB = math.sqrt(yB**2-c**2);\t\t\t#m, one halph length by 7.17\n",
      "S_AB = 2*S_CB;\t\t\t#m, full length of cable\n",
      "\n",
      "print \"Fulllength of cable is s_AB =  %.0f m\"%(S_AB);\n",
      "\n"
     ],
     "language": "python",
     "metadata": {},
     "outputs": [
      {
       "output_type": "stream",
       "stream": "stdout",
       "text": [
        "Minimum value of tension in cable is Tmin =  4455 N\n",
        "Maximum value of tension in cable is Tmax =  5805 N\n",
        "Fulllength of cable is s_AB =  165 m\n"
       ]
      }
     ],
     "prompt_number": 17
    }
   ],
   "metadata": {}
  }
 ]
}