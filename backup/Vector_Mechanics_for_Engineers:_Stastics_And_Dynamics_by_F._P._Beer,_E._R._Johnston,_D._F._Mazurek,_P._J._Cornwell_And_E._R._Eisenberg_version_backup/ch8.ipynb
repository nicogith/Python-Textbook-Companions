{
 "metadata": {
  "name": "",
  "signature": "sha256:7af7f34ed557e59fd4022f8fd1f88cb3f2e438f82d36d10da43ff287edeb4cbb"
 },
 "nbformat": 3,
 "nbformat_minor": 0,
 "worksheets": [
  {
   "cells": [
    {
     "cell_type": "heading",
     "level": 1,
     "metadata": {},
     "source": [
      "Chapter 8 : Friction"
     ]
    },
    {
     "cell_type": "heading",
     "level": 2,
     "metadata": {},
     "source": [
      "Example 8.1  Page No : 396"
     ]
    },
    {
     "cell_type": "code",
     "collapsed": false,
     "input": [
      "import math \n",
      "\n",
      "# Given Data\n",
      "h = 100.;\t\t\t#lb, horizontal force\n",
      "W = 300.;\t\t\t#lb, weight of block\n",
      "us = 0.2;\t\t\t# Coeffiecient of static friction\n",
      "uk = 0.20;\t\t\t#Co = efficient of kinetic friction\n",
      "\n",
      "# Calculations and Results\n",
      "#Applying sumFx  = 0 , we get\n",
      "F = h-3./5*W;\t\t\t#lb, Force along plane\n",
      "F = -F\n",
      "#Applying sumFy = 0, we get\n",
      "N = 4./5*W\t\t\t#lb, Normal force to the plane\n",
      "print \"Force F required to maintain the equillibrium is thus %.0f lb, up and to right\"%(F);\n",
      "\n",
      "# Maximum friction force\n",
      "Fm = us*N;\t\t\t#lb,Maximum friction force\n",
      "print \" Maximum friction force is %.2f lb is less than that of required to maintain equillibrium\\\n",
      "\\n that is %.2f lb  So, equillibrium will nat maintain and block wil move down\"%(Fm,F);\n",
      "# Actual value of friction force\n",
      "Fk = (0.6*300)-(h)-(Fm);\t\t\t#lb, Actual value of friction force\n",
      "print \"Actual value of friction force is %.2f lb directed up and to the right\"%(Fk);\n"
     ],
     "language": "python",
     "metadata": {},
     "outputs": [
      {
       "output_type": "stream",
       "stream": "stdout",
       "text": [
        "Force F required to maintain the equillibrium is thus 80 lb, up and to right\n",
        " Maximum friction force is 48.00 lb is less than that of required to maintain equillibrium\n",
        " that is 80.00 lb  So, equillibrium will nat maintain and block wil move down\n",
        "Actual value of friction force is 32.00 lb directed up and to the right\n"
       ]
      }
     ],
     "prompt_number": 2
    },
    {
     "cell_type": "heading",
     "level": 2,
     "metadata": {},
     "source": [
      "Example 8.2  Page No : 397"
     ]
    },
    {
     "cell_type": "code",
     "collapsed": false,
     "input": [
      "import math \n",
      "\n",
      "# Given Data\n",
      "F = 800.;\t\t\t#N Firce in verical direction\n",
      "us = 0.35;\t\t\t# Coeffiecient of static friction\n",
      "uk = 0.25;\t\t\t#Co = efficient of kinetic friction\n",
      "theta = 25.;\t\t\t#degree, angle of inclination\n",
      "\n",
      "# Calculations and Results\n",
      "theta = theta*math.pi/180;\t\t\t#rad, Conversion into radian\n",
      "# Force P start block moving up\n",
      "# At static equillibrium Tan(Theta_s) = us\n",
      "theta_s = math.atan(us);\t\t\t#rad\n",
      "P = F*math.tan(theta+theta_s);\t\t\t#N,Force P to start block moving up\n",
      "print \"Force P to start block moving up is %.0f N\"%(P);\n",
      "\n",
      "\n",
      "# Force P to keep block moving up\n",
      "# At kinetic equillibrium Tan(Theta_k) = uk\n",
      "theta_k = math.atan(uk);\t\t\t#rad\n",
      "P = F*math.tan(theta+theta_k);\t\t\t#N,Force P to keep block moving up\n",
      "print \"Force P to keep block moving up is %.0f N\"%(P);\n",
      "\n",
      "\n",
      "# Force P to prevent  block from sliding down\n",
      "\n",
      "theta_s = math.atan(us);\t\t\t#rad\n",
      "P = F*math.tan(theta-theta_s);\t\t\t#N,Force P to prevent  block from sliding down\n",
      "print \"Force P to prevent  block from sliding down is %.0f N\"%(P);\n"
     ],
     "language": "python",
     "metadata": {},
     "outputs": [
      {
       "output_type": "stream",
       "stream": "stdout",
       "text": [
        "Force P to start block moving up is 780 N\n",
        "Force P to keep block moving up is 649 N\n",
        "Force P to prevent  block from sliding down is 80 N\n"
       ]
      }
     ],
     "prompt_number": 3
    },
    {
     "cell_type": "heading",
     "level": 2,
     "metadata": {},
     "source": [
      "Example 8.3  Page No : 0"
     ]
    },
    {
     "cell_type": "code",
     "collapsed": false,
     "input": [
      "import math \n",
      "\n",
      "# Given Data\n",
      "us = 0.25;\t\t\t# Coeffiecient of static friction\n",
      "\n",
      "# Calculations and Results\n",
      "#Applying equillibrium equation we get relation in x\n",
      "print \"Apply equillibrium equations. It is theoritical part. \";\n",
      "x = 12-(.75*2)+1.5\t\t\t#in, Dismath.tance at which the applied load can be supported\n",
      "print \"Minimum dismath.tance at which the applied load can be supported is %.0f in\"%(x);\n"
     ],
     "language": "python",
     "metadata": {},
     "outputs": [
      {
       "output_type": "stream",
       "stream": "stdout",
       "text": [
        "Apply equillibrium equations. It is theoritical part. \n",
        "Minimum dismath.tance at which the applied load can be supported is 12 in\n"
       ]
      }
     ],
     "prompt_number": 4
    },
    {
     "cell_type": "heading",
     "level": 2,
     "metadata": {},
     "source": [
      "Example 8.4  Page No : 411"
     ]
    },
    {
     "cell_type": "code",
     "collapsed": false,
     "input": [
      "import math \n",
      "\n",
      "# Given Data\n",
      "F = 400.;\t\t\t#lb, force exerte\n",
      "us = 0.35;\t\t\t# Coeffiecient of static friction\n",
      "phi = math.degrees(math.atan(us));\t\t\t#rad, angle of friction\n",
      "#print (phi)\n",
      "theta = 8.;\t\t\t#degree, angle of inclination\n",
      "theta = theta*math.pi/180;\t\t\t#rad, Conversion into radian\n",
      "\n",
      "# Calculations and Results\n",
      "#Umath.sing math.sine rule\n",
      "#force p to raise block\n",
      "#free body , block B\n",
      "R1 = F*math.sin(math.radians(109.3))/(math.sin(math.radians(43.4)))\n",
      "#free body wedge A\n",
      "P = R1*math.sin(math.radians(46.6))/(math.sin(math.radians(70.7)))\n",
      "print \" force required to raise block is P = %.0f lb\"%(P);\n",
      "\n",
      "#force to lower block\n",
      "#free body , block B\n",
      "R1 = F*math.sin(math.radians(70.7))/(math.sin(math.radians(98.0)))\n",
      "#free body wedge A\n",
      "P = R1*math.sin(math.radians(30.6))/(math.sin(math.radians(70.7)))\n",
      "print \" force required to lower block is P = %.0f lb\"%(P);\n"
     ],
     "language": "python",
     "metadata": {},
     "outputs": [
      {
       "output_type": "stream",
       "stream": "stdout",
       "text": [
        " force required to raise block is P = 423 lb\n",
        " force required to lower block is P = 206 lb\n"
       ]
      }
     ],
     "prompt_number": 5
    },
    {
     "cell_type": "heading",
     "level": 2,
     "metadata": {},
     "source": [
      "Example 8.5  Page No : 412"
     ]
    },
    {
     "cell_type": "code",
     "collapsed": false,
     "input": [
      "import math \n",
      "\n",
      "# Given Data\n",
      "pitch = 2.;\t\t\t#mm, pitch of screw\n",
      "d = 10.;\t\t\t#mm, mean diameter of thread\n",
      "r = d/2;\t\t\t#mm, radius\n",
      "us = 0.30;\t\t\t# Coeffiecient of static friction\n",
      "M = 40.;\t\t\t#kN.m , Maximum couple\n",
      "\n",
      "# Calculations and Results\n",
      "#Force exerted by clamp\n",
      "L = 2*pitch;\t\t\t#mm, as screw is double threaded\n",
      "theta = math.atan(L/(2*math.pi*r));\t\t\t#rad, angle of inclination\n",
      "phi = math.atan(us);\t\t\t#rad, angle of friction\n",
      "Q = M/r*1000;\t\t\t#N, Force applied to block representing screw\n",
      "Q = Q/1000\t\t\t#kN, Conversion into kN\n",
      "W = Q/math.tan(theta+phi);\t\t\t#kN, Magnitude of force exerted on the piece of wood \n",
      "print \"Magnitude of force exerted on the piece of wood  is W =  %.2f kN \"%(W);\n",
      "#Couple required to loosen clamp\n",
      "Q = W*math.tan(phi-theta);\t\t\t#kN, Force required to loosen clamp\n",
      "Couple = Q*r;\t\t\t#N.m, Couple required to loosen clamp\n",
      "print \"Couple  required to loosen clamp is %.2f N.m\"%(Couple);\n"
     ],
     "language": "python",
     "metadata": {},
     "outputs": [
      {
       "output_type": "stream",
       "stream": "stdout",
       "text": [
        "Magnitude of force exerted on the piece of wood  is W =  18.01 kN \n",
        "Couple  required to loosen clamp is 14.97 N.m\n"
       ]
      }
     ],
     "prompt_number": 6
    },
    {
     "cell_type": "heading",
     "level": 2,
     "metadata": {},
     "source": [
      "Example 8.6  Page No : 423"
     ]
    },
    {
     "cell_type": "code",
     "collapsed": false,
     "input": [
      "import math \n",
      "from sympy.mpmath import cot\n",
      "#from numpy import cot\n",
      "\n",
      "# Given Data\n",
      "r = 1.\t\t\t#in in\n",
      "us = 0.20;\t\t\t# Coeffiecient of static friction between shaft and pully\n",
      "\n",
      "# Calculations and Results\n",
      "#Vertical Force required to raise load\n",
      "rf = r*us;\t\t\t#in, Perpendicular dismath.tance from the center Of pully to line of action \n",
      "#summing moment about B\n",
      "P1 = (2.20*500)/1.8\t\t\t#lb , downward Force required to raise load\n",
      "print \"Force required to raise load is %f lb in downward direction\"%(P1);\n",
      "\n",
      "#Vertcal Force required to hold load\n",
      "\n",
      "#summing moment about C\n",
      "P = (1.80*500)/2.20\t\t\t#lb , downward Force required to hold load\n",
      "print \"Force required to hold load is %.0f lb in downward direction\"%(P);\n",
      "\n",
      "#Horizontal force P to start raimath.sing the load\n",
      "OE = rf;\t\t\t#mm,\n",
      "OD = math.sqrt(2)*2;\t\t\t#in, pythagorus theorm\n",
      "theta = math.asin(OE/OD);\t\t\t#rad, \n",
      "\n",
      "# from force triangle\n",
      "P = 500*cot(math.radians(40.9));\t\t\t#lb, Horizontal force P to start raimath.sing the load\n",
      "print \"Horizontal force P required to start raising the load is %.0f lb\"%(P);\n"
     ],
     "language": "python",
     "metadata": {},
     "outputs": [
      {
       "output_type": "stream",
       "stream": "stdout",
       "text": [
        "Force required to raise load is 611.111111 lb in downward direction\n",
        "Force required to hold load is 409 lb in downward direction\n",
        "Horizontal force P required to start raising the load is 577 lb\n"
       ]
      }
     ],
     "prompt_number": 11
    },
    {
     "cell_type": "heading",
     "level": 2,
     "metadata": {},
     "source": [
      "Example 8.7  Page No : 431"
     ]
    },
    {
     "cell_type": "code",
     "collapsed": false,
     "input": [
      "import math \n",
      "\n",
      "# Given Data\n",
      "T1 = 150.;\t\t\t#N, Force on free end of hawser\n",
      "T2 = 7500.;\t\t\t#N, Force on other end of hawser\n",
      "\n",
      "# Calculations and Results\n",
      "#a, coefficient of friction\n",
      "bta = 2*2*math.pi;\t\t\t#rad, angle of contact, 2 turns\n",
      "#By equation 8.13\n",
      "us = math.log(T2/T1)/bta;\t\t\t# Co-efficient of static friction\n",
      "print \"Coefficient of static friction between hawser and ballard is us =  %0.3f \"%(us);\n",
      "\n",
      "#Number of wraps when tension in hawser = 75 kN\n",
      "\n",
      "bta = 3*2*math.pi\t\t\t#in rad\n",
      "#One turn  =  2* pi angle, bta corresponds to\n",
      "ten = T1*math.exp(bta*us)\n",
      "print \"Tension  is %f N  \"%(ten);\n"
     ],
     "language": "python",
     "metadata": {},
     "outputs": [
      {
       "output_type": "stream",
       "stream": "stdout",
       "text": [
        "Coefficient of static friction between hawser and ballard is us =  0.311 \n",
        "Tension  is 53033.008589 N  \n"
       ]
      }
     ],
     "prompt_number": 12
    },
    {
     "cell_type": "heading",
     "level": 2,
     "metadata": {},
     "source": [
      "Example 8.8  Page No : 432"
     ]
    },
    {
     "cell_type": "code",
     "collapsed": false,
     "input": [
      "import math \n",
      "\n",
      "#Given\n",
      "T2 = 600.;\t\t\t#lb, Tension from side 2\n",
      "us = 0.25;\t\t\t# Coeffiecient of static friction between pulley and belt\n",
      "bta = (2*math.pi)/3;\t\t\t#Co = efficient of kinetic friction between pulley and belt\n",
      "r1 = 8.\t\t\t#in in\n",
      "#Pulley B\n",
      "\n",
      "# Calculations\n",
      "T1 = T2/(math.exp(us*bta))\t\t\t#N, Tension from side 1\n",
      "#print (T1)\n",
      "\n",
      "#Pulley A\n",
      "#Aumming moment about A\n",
      "MA = (T2*r1)-(T1*r1);\t\t\t#lb-ft, Couple MA applied to pulley which is equal and opposite to torque \n",
      "\n",
      "# Results\n",
      "print \"The largest torque which can be exerted by belt on pulley A is MA =  %0.0f lb-in\"%(MA);\n",
      "\n"
     ],
     "language": "python",
     "metadata": {},
     "outputs": [
      {
       "output_type": "stream",
       "stream": "stdout",
       "text": [
        "The largest torque which can be exerted by belt on pulley A is MA =  1957 lb-in\n"
       ]
      }
     ],
     "prompt_number": 13
    }
   ],
   "metadata": {}
  }
 ]
}