{
 "metadata": {
  "name": "",
  "signature": "sha256:fcad62d4182da6d583aab9d0ade5bf3f92b1a0b38ca115e34e1f0f2aae8691f0"
 },
 "nbformat": 3,
 "nbformat_minor": 0,
 "worksheets": [
  {
   "cells": [
    {
     "cell_type": "heading",
     "level": 1,
     "metadata": {},
     "source": [
      "Chapter 3 : Rigid bodies equivalent systems of forces"
     ]
    },
    {
     "cell_type": "heading",
     "level": 2,
     "metadata": {},
     "source": [
      "Example 3.1  Page No : 85"
     ]
    },
    {
     "cell_type": "code",
     "collapsed": false,
     "input": [
      "import math \n",
      "\n",
      "# Given Data\n",
      "F = 100.; \t\t\t# lb , Vertical force applied to end of lever\n",
      "theta = 60.;\t\t\t# degree, angle made by lever with +ve X axis\n",
      "l = 24.; \t\t\t#  , length of lever\n",
      "\n",
      "# Calculations and Results\n",
      "# a ) Momemt about O\n",
      "d = l*math.cos(math.radians(theta));\t\t\t# mm ,perpendicular dismath.tance from  o to the line of action\n",
      "\n",
      "Mo = F*d;\t\t\t# N.m, Magnitude of moment about O \n",
      "print \"Magnitude of moment about O of the 500 N is %d lb.in and it is in clockwise direction\\\n",
      "\\n as force tends to rotate lever clockwise\"%(Mo);\n",
      "\n",
      "# b) Horizontal force\n",
      "\n",
      "d = l*math.sin(math.radians(theta));\t\t\t#in, perpendicular dismath.tance from  o to the line of action\n",
      "\n",
      "F = Mo/d;\t\t\t# N, Horizontal Force at A required to produce same Moment about O\n",
      "print \"Magnitude of Horizontal Force at A required to produce same Moment about O is %f lb \"%(F);\n",
      "\n",
      "# c)Smallest force\n",
      "\n",
      "# F is smaller when d is maximum in expression Mo = F*d, so we choose force perpendicular to OA\n",
      "Mo = 1200.\t\t\t#in lb\n",
      "d = 24.\t\t\t# in ,perpendicular dismath.tance from  o to the line of action\n",
      "F = Mo/d;\t\t\t# N, Smallest Force at A required to produce same Moment about O\n",
      "print \"Magnitude of smallest Force at A required to produce same Moment about O is %f lb \"%(F);\n",
      "\n",
      "#d) 1200 N vertical force\n",
      "Mo = 1200.;\t\t\t# lb-in,\n",
      "F = 240.\t\t\t#in lb\n",
      "d = Mo/F;\t\t\t# m, perpendicular dismath.tance from  o to the line of action of force\n",
      "OB = d/math.cos(math.radians(theta));\t\t\t#m, dismath.tance of point B from O\n",
      "\n",
      "print \"Verical force of 1200 N must act at %f in far from the shaft to create same moment about O\"%(OB);"
     ],
     "language": "python",
     "metadata": {},
     "outputs": [
      {
       "output_type": "stream",
       "stream": "stdout",
       "text": [
        "Magnitude of moment about O of the 500 N is 1200 lb.in and it is in clockwise direction\n",
        " as force tends to rotate lever clockwise\n",
        "Magnitude of Horizontal Force at A required to produce same Moment about O is 57.735027 lb \n",
        "Magnitude of smallest Force at A required to produce same Moment about O is 50.000000 lb \n",
        "Verical force of 1200 N must act at 10.000000 in far from the shaft to create same moment about O\n"
       ]
      }
     ],
     "prompt_number": 1
    },
    {
     "cell_type": "heading",
     "level": 2,
     "metadata": {},
     "source": [
      "Example 3.2  Page No : 86"
     ]
    },
    {
     "cell_type": "code",
     "collapsed": false,
     "input": [
      "import math \n",
      "from numpy.linalg import det\n",
      "\n",
      "# Given data\n",
      "F = 800.; \t\t\t# N , Force applied on bracket\n",
      "theta = 60.;\t\t\t# degree, angle made by lever with +ve X axis\n",
      "theta = theta*math.pi/180;\t\t\t# Conversion of angle into radian\n",
      "r_AB = [-0.2, 0.16];\t\t\t#m vector drawn from B to A resolved in recmath.tangular component\n",
      "\n",
      "# Calculations\n",
      "F = [F*math.cos(theta), F*math.sin(theta)]\t\t\t#N , vector F resolved in recmath.tangular component \n",
      "k = 1;\t\t\t# Unit vector along Z axis \n",
      "# M_B = r_AB * F relation 3.7 from section 3.5\n",
      "M_B = det([r_AB, F])*k;\t\t\t# N.m \n",
      "\n",
      "# Results\n",
      "print \"The moment of force 800 N about B is %.2f N.m . -ve sign shows its acting clockwise\"%(M_B);"
     ],
     "language": "python",
     "metadata": {},
     "outputs": [
      {
       "output_type": "stream",
       "stream": "stdout",
       "text": [
        "The moment of force 800 N about B is -202.56 N.m . -ve sign shows its acting clockwise\n"
       ]
      }
     ],
     "prompt_number": 2
    },
    {
     "cell_type": "heading",
     "level": 2,
     "metadata": {},
     "source": [
      "Example 3.3  Page No : 86"
     ]
    },
    {
     "cell_type": "code",
     "collapsed": false,
     "input": [
      "import math \n",
      "\n",
      "# Given data\n",
      "P = 30.; \t\t\t# lb, Force applied to shift lever \n",
      "alpha = 20.;\t\t\t# degree, angle made by force P with -ve X axis\n",
      "\n",
      "# Calculations\n",
      "Q = P*math.sin(math.radians(alpha))\t\t\t#in degree\n",
      "d = 3\t\t\t#in ft\n",
      "M_o = Q*d\t\t\t#N.m , here negative signs are taken as each component creates moment clockwise\n",
      "\n",
      "# Results\n",
      "print \"The moment of force P about B is %.2f lb-ft . -ve sign  shows its acting clockwise\"%(M_o);"
     ],
     "language": "python",
     "metadata": {},
     "outputs": [
      {
       "output_type": "stream",
       "stream": "stdout",
       "text": [
        "The moment of force P about B is 30.78 lb-ft . -ve sign  shows its acting clockwise\n"
       ]
      }
     ],
     "prompt_number": 4
    },
    {
     "cell_type": "heading",
     "level": 2,
     "metadata": {},
     "source": [
      "Example 3.4  Page No : 87"
     ]
    },
    {
     "cell_type": "code",
     "collapsed": false,
     "input": [
      "import math \n",
      "from numpy.linalg import norm,det\n",
      "\n",
      "# Given data\n",
      "# M_A = r_CA * F relation 3.7 from section 3.5\n",
      "f = 200.; \t\t\t# N , Magnitude of Force directed along CD\n",
      "r_CA = [0.3,0, 0.08];\t\t\t#m, vector AC reprecsented in recmath.tangular component\n",
      "#lambda = CD/norm(CD)-m, Unit vector along CD\n",
      "#F = f*lambda;\t\t\t#m, Force \n",
      "CD = [-0.3, 0.24, -0.32];\t\t\t#Vector CD resolved into recmath.tangular component\n",
      "# norm(CD); m, magnitude of vector CD\n",
      "\n",
      "# Calculations\n",
      "lambda1 = CD/norm(CD);\t\t\t#m, Unit vector along CD\n",
      "F = f*lambda1;\t\t\t#m, Force \n",
      "# M_A = r_CA * F relation 3.7 from section 3.5\n",
      "#i = 1; j = 1; k = 1; Unit vectors along X, Y and Z direction respectively\n",
      "\n",
      "# Componenets of moment M_A along X,Y and Z direction respectively\n",
      "M_Ax = det([[r_CA[1],r_CA[2]],[F[1], F[2]]]);\t\t\t#N.m\n",
      "M_Ay = -det([[r_CA[0],r_CA[2]] , [F[0],F[2]]]);\t\t\t#N.m\n",
      "M_Az = det([[r_CA[0],r_CA[1]],[F[0], F[1]]]);\t\t\t# N.m \n",
      "\n",
      "# Results\n",
      "print \"Answer can be written as M_B  =  %.2f N.m i + %.2f N.m j + %.2f N.m k \"%(M_Ax,M_Ay,M_Az);"
     ],
     "language": "python",
     "metadata": {},
     "outputs": [
      {
       "output_type": "stream",
       "stream": "stdout",
       "text": [
        "Answer can be written as M_B  =  -7.68 N.m i + 28.80 N.m j + 28.80 N.m k \n"
       ]
      }
     ],
     "prompt_number": 6
    },
    {
     "cell_type": "heading",
     "level": 2,
     "metadata": {},
     "source": [
      "Example 3.6  Page No : 0"
     ]
    },
    {
     "cell_type": "code",
     "collapsed": false,
     "input": [
      "#Given data\n",
      "# Moment arms\n",
      "Fx = -30.;\t\t\t#in lb\n",
      "Fy = 20.;\t\t\t#in lb\n",
      "Fz = 20.;\t\t\t#in lb\n",
      "\n",
      "#couple Forces \n",
      "x = 18.;\t\t\t#iN\n",
      "y = 12.;\t\t\t#iN\n",
      "z = 9.;\t\t\t#iN\n",
      "\n",
      "# Calculations\n",
      "Mx = Fx*x;\t\t\t#N.m, Component of Moment along X axis\n",
      "My = Fy*y;\t\t\t#N.m, Component of Moment along Y axis\n",
      "Mz = Fz*z;\t\t\t#N.m, Component of Moment along Z axis\n",
      "\n",
      "# Results\n",
      "#This three moments represent component of math.single couple M \n",
      "print \"Couple M equivalent to two couple can be written as  M  =  %.2f lb-in i + %.2f lb-in j + %.2f lb-in k \"%(Mx,My,Mz);\n"
     ],
     "language": "python",
     "metadata": {},
     "outputs": [
      {
       "output_type": "stream",
       "stream": "stdout",
       "text": [
        "Couple M equivalent to two couple can be written as  M  =  -540.00 lb-in i + 240.00 lb-in j + 180.00 lb-in k \n"
       ]
      }
     ],
     "prompt_number": 7
    },
    {
     "cell_type": "heading",
     "level": 2,
     "metadata": {},
     "source": [
      "Example 3.7  Page No : 113"
     ]
    },
    {
     "cell_type": "code",
     "collapsed": false,
     "input": [
      "import math \n",
      "\n",
      "# Given Data\n",
      "Mo = 24.;\t\t\t#N.m *k, Couple of moment \n",
      "f = -400.;\t\t\t#N, Magnitude of force\n",
      "OB = 300.;\t\t\t#mm,Dismath.tance of force from point O\n",
      "theta = 60.;\t\t\t# degree, angle made by lever with +ve X axis\n",
      "\n",
      "# Calculations and Results\n",
      "x = math.cos(math.radians(theta))\n",
      "BC = Mo/(-f*x);\t\t\t#m \n",
      "BC = BC*1000;\t\t\t#mm, Conversion into millimeter\n",
      "print (BC)\n",
      "OC = OB+BC;\t\t\t#mm, Dismath.tance from the shaft to the point of application of this equivalenet force\n",
      "\n",
      "print \"Distance from the shaft to the point of application of this equivalenet single force is %f mm\"%(OC)\n"
     ],
     "language": "python",
     "metadata": {},
     "outputs": [
      {
       "output_type": "stream",
       "stream": "stdout",
       "text": [
        "120.0\n",
        "Distance from the shaft to the point of application of this equivalenet single force is 420.000000 mm\n"
       ]
      }
     ],
     "prompt_number": 8
    }
   ],
   "metadata": {}
  }
 ]
}