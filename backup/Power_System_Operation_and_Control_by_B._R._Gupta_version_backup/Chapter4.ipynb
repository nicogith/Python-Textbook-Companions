{
 "metadata": {
  "name": "",
  "signature": "sha256:d4343686248bdcf3008e99590e00a02578e59b6d649633ef952a482176f262f1"
 },
 "nbformat": 3,
 "nbformat_minor": 0,
 "worksheets": [
  {
   "cells": [
    {
     "cell_type": "heading",
     "level": 1,
     "metadata": {},
     "source": [
      "Ch-4 : Modelling of Turbine, Generator & Automatic Controllers"
     ]
    },
    {
     "cell_type": "heading",
     "level": 2,
     "metadata": {},
     "source": [
      "exa 4.1 page 107"
     ]
    },
    {
     "cell_type": "code",
     "collapsed": false,
     "input": [
      "kVA=4000 #kVA#rating\n",
      "f1_nl=50 #Hz(No load frequency of machine1)\n",
      "f1_fl=47.5 #Hz(No load frequency of machine1)\n",
      "f2_nl=50 #Hz(No load frequency of machine2)\n",
      "f2_fl=48 #Hz(No load frequency of machine2)\n",
      "L=6000 #kW(Load)\n",
      "from sympy import symbols, solve\n",
      "L1=symbols('L1') #Load of machine1\n",
      "#f1_nl-(f1_nl-f1_fl)*L1/kVA=f1_nl-(f2_nl-f2_fl)*L2/kVA where L2=L-L1\n",
      "L1=(f2_nl-f2_fl)*L/((f1_nl-f1_fl)+(f2_nl-f2_fl)) #kW\n",
      "L2=L-L1 #kW\n",
      "print \"Part(a)\" \n",
      "print \"Load supplied by first machine = %0.2f kW\"%L1 \n",
      "print \"Load supplied by second machine = %0.2f kW \"%L2 \n",
      "print \"Part(b)\" \n",
      "L2=4000 #kW#Machine2 is supplying 4000kW\n",
      "fdrop1=f1_nl-f1_fl #Hz(frequency drop of machine 1)\n",
      "fdrop2=f2_nl-f2_fl #Hz(frequency drop of machine 2)\n",
      "L1=L2*fdrop2/fdrop1 #kW#Load supplied by machine 1\n",
      "L=L1+L2 #kW#Total Load\n",
      "print \"Total load supplied without getting over loaded = %0.2f kW\"%L"
     ],
     "language": "python",
     "metadata": {},
     "outputs": [
      {
       "output_type": "stream",
       "stream": "stdout",
       "text": [
        "Part(a)\n",
        "Load supplied by first machine = 2666.67 kW\n",
        "Load supplied by second machine = 3333.33 kW \n",
        "Part(b)\n",
        "Total load supplied without getting over loaded = 7200.00 kW\n"
       ]
      }
     ],
     "prompt_number": 1
    },
    {
     "cell_type": "heading",
     "level": 2,
     "metadata": {},
     "source": [
      "exa 4.2 page 107"
     ]
    },
    {
     "cell_type": "code",
     "collapsed": false,
     "input": [
      "from math import degrees, acos, asin, atan, sqrt, cos, sin\n",
      "Lt=3000 #kW#Total Load\n",
      "pf=0.8 #Power factor Lagging\n",
      "I=150 #A\n",
      "ZA=0.4+1J*12 #ohm#synchronous impedence\n",
      "ZB=0.5+1J*10 #ohm#synchronous impedence\n",
      "Vt=6.6 #kV#Terminal Voltage\n",
      "L=Lt/2 #kW#Load supplied by each machine\n",
      "LA=L #kW\n",
      "LB=L #kW\n",
      "#LB=sqrt(3)*Vt*IB*cosd(theta_B) \n",
      "theta_B=acos(LB/sqrt(3)/Vt/I) #radian\n",
      "IB=I*(cos(theta_B)-1J*sin(theta_B)) #A\n",
      "I_total=Lt/sqrt(3)/Vt/pf #A#Total Current\n",
      "IA_plus_IB=I_total*(0.8-1J*0.6) #A\n",
      "IA=IA_plus_IB-IB #A\n",
      "cos_thetaA=(IA).real/abs(IA) #lagging power factor\n",
      "EA=Vt/sqrt(3)+IA*ZA/1000 #kV per phase\n",
      "del_A=atan((EA).imag/(EA).real) #radian#Load Angle\n",
      "emf_A=abs(EA) #kV per phase#Induced emf of machine A\n",
      "EB=Vt/sqrt(3)+IB*ZB/1000 #kV per phase\n",
      "del_B=atan((EB).imag/(EB).real) #radian#Load Angle\n",
      "emf_B=abs(EB) #kV per phase#Induced emf of machine A\n",
      "IA=abs(IA) #A\n",
      "print \"Current on machine A = %0.2f A \"%IA \n",
      "pfA=cos_thetaA #power factor\n",
      "print \"Lagging power factor of machine A = %0.4f\"%pfA \n",
      "print \"Induced emf of machine A = %0.2f kV per phase \"%emf_A, \n",
      "print \"Load angle of machine A = %0.2f degree \"%degrees(del_A) \n",
      "print \"Load angle of machine B = %0.2f degree \"%degrees(del_B) \n",
      "print \"Induced emf of machine B = %0.2f kV per phase\"%emf_B \n",
      "#Answer in the textbook is not accurate."
     ],
     "language": "python",
     "metadata": {},
     "outputs": [
      {
       "output_type": "stream",
       "stream": "stdout",
       "text": [
        "Current on machine A = 180.64 A \n",
        "Lagging power factor of machine A = 0.7264\n",
        "Induced emf of machine A = 5.57 kV per phase  Load angle of machine A = 15.90 degree \n",
        "Load angle of machine B = 15.49 degree \n",
        "Induced emf of machine B = 4.78 kV per phase\n"
       ]
      }
     ],
     "prompt_number": 2
    },
    {
     "cell_type": "heading",
     "level": 2,
     "metadata": {},
     "source": [
      "exa 4.3 page 111"
     ]
    },
    {
     "cell_type": "code",
     "collapsed": false,
     "input": [
      "from __future__ import division\n",
      "from math import pi\n",
      "P=5 #MVA\n",
      "V=1000 #V\n",
      "speed=1500 #rpm#speed\n",
      "ns=speed/60 #rps\n",
      "f=50 #Hz\n",
      "pf=0.8 #Power factor Lagging\n",
      "Xs=20 #%#synchronous reluctance\n",
      "Xs=Xs/100 #/p.u.\n",
      "print \"Part(a)\" \n",
      "V=1 #p.u.#on no load\n",
      "E=1 #p.u.#on no load\n",
      "Ps=V*E/Xs #p.u.\n",
      "Ps=Ps*P #MW per elect. radian\n",
      "Ps=Ps*1000 #kW per elect. radian\n",
      "#1 mech. radian=pi/90 elect. radian\n",
      "Ps=Ps*pi/90 #kW per mech. degree\n",
      "print \"Synchronising power per mech. degree = %0.2f kW\"%Ps \n",
      "d=0.5 #degree##displacement\n",
      "Ts=Ps*1000*d/2/pi/ns #N-m\n",
      "print \"Synchronising torque = %0.2f N-m\"%Ts \n",
      "print \"Part(b)\" \n",
      "theta=acos(pf) #radian\n",
      "E=V+(cos(theta)-1J*sin(theta))*1J*Xs #p.u.\n",
      "Ps=V*E/Xs #p.u.\n",
      "Ps=Ps*P #MW per elect. radian\n",
      "Ps=Ps*1000 #kW per elect. radian\n",
      "#1 mech. radian=pi/90 elect. radian\n",
      "Ps=Ps*pi/90 #kW per mech. degree\n",
      "Ps=abs(Ps) #kW per mech. degree\n",
      "print \"Synchronising power per mech. degree = %0.2f kW \"%Ps \n",
      "d=0.5 #degree##displacement\n",
      "Ts=abs(Ps)*1000*d/2/pi/ns #N-m\n",
      "print \"Synchronising torque = %0.2f N-m \"%Ts \n",
      "#Answer in the textbook is not accurate."
     ],
     "language": "python",
     "metadata": {},
     "outputs": [
      {
       "output_type": "stream",
       "stream": "stdout",
       "text": [
        "Part(a)\n",
        "Synchronising power per mech. degree = 872.66 kW\n",
        "Synchronising torque = 2777.78 N-m\n",
        "Part(b)\n",
        "Synchronising power per mech. degree = 987.31 kW \n",
        "Synchronising torque = 3142.70 N-m \n"
       ]
      }
     ],
     "prompt_number": 3
    },
    {
     "cell_type": "heading",
     "level": 2,
     "metadata": {},
     "source": [
      "exa 4.4 page 112"
     ]
    },
    {
     "cell_type": "code",
     "collapsed": false,
     "input": [
      "P=2 #MVA\n",
      "V=6000 #V\n",
      "speed=750 #rpm#speed\n",
      "ns=speed/60 #rps\n",
      "Zs=6 #ohm/phase\n",
      "f=50 #Hz\n",
      "pf=0.8 #Power factor Lagging\n",
      "#Calculation\n",
      "I=P*10**6/sqrt(3)/V #A#Current\n",
      "theta=acos(pf) #radian\n",
      "E=V/sqrt(3)+I*(cos(theta)-1J*sin(theta))*1J*Zs #V\n",
      "Ps=V*sqrt(3)*E/Zs/1000 #kw per elect. radian\n",
      "Ps=Ps*4*pi/180 #kW per mech. degree\n",
      "Ps=abs(Ps) #kW per mech. degree\n",
      "print \"Synchronising power per mech. degree = %0.2f kW \"%Ps \n",
      "Ts=abs(Ps)*1000/2/pi/ns #N-m\n",
      "print \"Synchronising torque = %0.2f N-m\" %Ts\n",
      "#Answer in the textbook is not accurate."
     ],
     "language": "python",
     "metadata": {},
     "outputs": [
      {
       "output_type": "stream",
       "stream": "stdout",
       "text": [
        "Synchronising power per mech. degree = 514.92 kW \n",
        "Synchronising torque = 6556.12 N-m\n"
       ]
      }
     ],
     "prompt_number": 4
    },
    {
     "cell_type": "heading",
     "level": 2,
     "metadata": {},
     "source": [
      "exa 4.5 page 112"
     ]
    },
    {
     "cell_type": "code",
     "collapsed": false,
     "input": [
      "I=100 #A#/Current\n",
      "V=11 #kV\n",
      "Xs=4 #ohm/phase\n",
      "f=50 #Hz\n",
      "pf=0.8 #Power factor Lagging\n",
      "#Calculation\n",
      "theta=acos(pf) #radian\n",
      "print \"Part(a)\" \n",
      "E=V*1000/sqrt(3)+I*(cos(theta)-1J*sin(theta))*1J*Xs #V\n",
      "Del=atan((E).imag/(E).real) #radian\n",
      "E=abs(E) #V/phase\n",
      "print \"Open circuit phase emf  %0.2f V/phase \"%E \n",
      "print \"Angle delta = %0.2f degree\"%degrees(Del) \n",
      "print \"Part(b)\" \n",
      "del_dash=10+degrees(Del) #degree\n",
      "P_by_V=E*sin(del_dash*pi/180)/Xs #per phase\n",
      "#P=V*I*cos_fi\n",
      "I_cos_fi=P_by_V \n",
      "#V*1000/sqrt(3)+I*(cos_fi-%i*sin_fi)*%i*Xs=E\n",
      "I_sin_fi=(sqrt(E**2-(4*I_cos_fi**2))-V*1000/sqrt(3))/4 \n",
      "tan_fi=I_sin_fi/I_cos_fi \n",
      "fi=degrees(atan(tan_fi)) #degree\n",
      "I=I_cos_fi/cos(fi*pi/180) #A\n",
      "print \"New load current = %0.2f A \"%I \n",
      "pf=cos(fi*pi/180) #lagging power factor\n",
      "print \"Its power factor = %0.4f lagging \" %pf\n",
      "print \"Part(c)\" \n",
      "pf1=0.8 #/original power factor\n",
      "Idash=I*pf/pf1 #Current\n",
      "print \"New value of load current = %0.2f A \"%Idash \n",
      "#Answer is slightly differ because of accuracy in calculations."
     ],
     "language": "python",
     "metadata": {},
     "outputs": [
      {
       "output_type": "stream",
       "stream": "stdout",
       "text": [
        "Part(a)\n",
        "Open circuit phase emf  6598.62 V/phase \n",
        "Angle delta = 2.78 degree\n",
        "Part(b)\n",
        "New load current = 368.57 A \n",
        "Its power factor = 0.9901 lagging \n",
        "Part(c)\n",
        "New value of load current = 456.13 A \n"
       ]
      }
     ],
     "prompt_number": 5
    },
    {
     "cell_type": "heading",
     "level": 2,
     "metadata": {},
     "source": [
      "exa 4.6 page 119"
     ]
    },
    {
     "cell_type": "code",
     "collapsed": false,
     "input": [
      "G=200 #MVA\n",
      "H=6 #MJ/MVA#/Inertia Constant\n",
      "V=11 #kV\n",
      "f=50 #Hz\n",
      "L1=120 #MW\n",
      "L2=160 #MW\n",
      "\n",
      "#Calculation\n",
      "print \"Part(a)\" \n",
      "Es=G*H #MJ##Stored Energy\n",
      "print \"Stored energy = %0.2f MJ \"%Es \n",
      "print \"Part(b)\" \n",
      "Pa=L1-L2 #MW\n",
      "M=G*H/180/f #MJ-sec/elect.deg.\n",
      "alfa=-Pa/M #elect.deg./sec**2#/Retardation\n",
      "print \"Motor retardation = %0.2f elect.deg.sec**2\" %alfa\n",
      "print \"Part(c)\" \n",
      "n=5 #cycles\n",
      "t=n/f #sec\n",
      "del_change=1/2*-alfa*t**2 #elect.deg.\n",
      "print \"Change in power angle = %0.2f elect.deg. \"%del_change \n",
      "alfa=alfa*60/(180*4) #rpm/sec\n",
      "ns=1500 #rpm\n",
      "nr=ns+(-alfa)*t #rpm #/rotor speed\n",
      "print \"Rotor speed at the end of 5 cycle = %0.2f rpm \"%nr \n",
      "print \"Part(d)\"\n",
      "H2=4 #MJ/MVA\n",
      "G2=150 #MVA\n",
      "Gb=100 #MVA\n",
      "Heb=H*G/Gb+H2*G2/Gb #MJ/MVA\n",
      "print \"Inertia constant for the equivalent generator = %0.2f MJ/MVA \"%Heb "
     ],
     "language": "python",
     "metadata": {},
     "outputs": [
      {
       "output_type": "stream",
       "stream": "stdout",
       "text": [
        "Part(a)\n",
        "Stored energy = 1200.00 MJ \n",
        "Part(b)\n",
        "Motor retardation = 300.00 elect.deg.sec**2\n",
        "Part(c)\n",
        "Change in power angle = -1.50 elect.deg. \n",
        "Rotor speed at the end of 5 cycle = 1497.50 rpm \n",
        "Part(d)\n",
        "Inertia constant for the equivalent generator = 18.00 MJ/MVA \n"
       ]
      }
     ],
     "prompt_number": 6
    }
   ],
   "metadata": {}
  }
 ]
}