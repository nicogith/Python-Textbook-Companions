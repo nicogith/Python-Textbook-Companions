{
 "metadata": {
  "name": "",
  "signature": "sha256:70df2c2ea162c91143e39d28a0492123af67480921c2426118d0264aa7d3e7f6"
 },
 "nbformat": 3,
 "nbformat_minor": 0,
 "worksheets": [
  {
   "cells": [
    {
     "cell_type": "heading",
     "level": 1,
     "metadata": {},
     "source": [
      "Ch- 2 : Economic Operation of Power System & Unit Commitment"
     ]
    },
    {
     "cell_type": "heading",
     "level": 2,
     "metadata": {},
     "source": [
      "exa 2.2 page 39"
     ]
    },
    {
     "cell_type": "code",
     "collapsed": false,
     "input": [
      "from __future__ import division\n",
      "from sympy.mpmath import quad\n",
      "#For equal incremental cost\n",
      "L1=125 #MW\n",
      "L2=100 #MW\n",
      "#For equal sharing\n",
      "L=(L1+L2)/2 #MW\n",
      "#Change in cost Unit 1\n",
      "f1 = lambda P1:0.2*P1+30 \n",
      "dC1=quad(f1,[L1,L]) #Rs./hour\n",
      "#Change in cost Unit 2\n",
      "f2 = lambda P2 : 0.15*P2+40\n",
      "dC2=quad(f2,[L2,L]) #Rs./hour\n",
      "dCyearly=(dC1+dC2)*24*365 #Rs./year\n",
      "print \"Saving per year in economic load allocation = %0.2f Rs./year \"%(dCyearly) \n",
      "#Answer in the textbook is not accurate."
     ],
     "language": "python",
     "metadata": {},
     "outputs": [
      {
       "output_type": "stream",
       "stream": "stdout",
       "text": [
        "Saving per year in economic load allocation = 239531.25 Rs./year \n"
       ]
      }
     ],
     "prompt_number": 1
    },
    {
     "cell_type": "heading",
     "level": 2,
     "metadata": {},
     "source": [
      "exa 2.3 page 43"
     ]
    },
    {
     "cell_type": "code",
     "collapsed": false,
     "input": [
      "L=400 #/MW#/total load\n",
      "delPD=50 #MW#increase in demand\n",
      "#dC1/dP1=0.2*P1+30\n",
      "#dC2/dP2=0.15*P2+40\n",
      "twoC1=0.2 #from above equation\n",
      "twoC2=0.15 #from above equation\n",
      "delP1_by_delPD=(1/twoC1)/(1/twoC1+1/twoC2) \n",
      "delP2_by_delPD=(1/twoC2)/(1/twoC1+1/twoC2) \n",
      "delP1=delP1_by_delPD*delPD #MW\n",
      "print \"Increase in generation of unit1 = %0.2f MW  \"%delP1 \n",
      "delP2=delP2_by_delPD*delPD #MW\n",
      "print \"Increase in generation of unit2 = %0.2f MW  \"%delP2 \n",
      "P1=L/2+delP1 #load on unit 1\n",
      "print \"Total load on unit1 = %0.2f MW \"%P1 \n",
      "P2=L/2+delP2 #load on unit 2\n",
      "print \"Total load on unit2 = %0.2f MW\" %P2\n",
      "print \"Checking incremental cost :\" \n",
      "dC1_by_dP1=0.2*P1+30 #Rs./MWh\n",
      "print \"Incremental cost of unit 1 = %0.2f Rs./MWh \"%dC1_by_dP1 \n",
      "dC2_by_dP2=0.2*P2+30 #Rs./MWh\n",
      "print \"Incremental cost of unit 2 = %0.2f Rs./MWh \"%dC2_by_dP2 \n",
      "print \"Conclusion : Cost are same(Approximately).\" \n",
      "#Note : Values calculated in the book are slightly wrong because of accuracy in calculation as compared to scilab accuracy."
     ],
     "language": "python",
     "metadata": {},
     "outputs": [
      {
       "output_type": "stream",
       "stream": "stdout",
       "text": [
        "Increase in generation of unit1 = 21.43 MW  \n",
        "Increase in generation of unit2 = 28.57 MW  \n",
        "Total load on unit1 = 221.43 MW \n",
        "Total load on unit2 = 228.57 MW\n",
        "Checking incremental cost :\n",
        "Incremental cost of unit 1 = 74.29 Rs./MWh \n",
        "Incremental cost of unit 2 = 75.71 Rs./MWh \n",
        "Conclusion : Cost are same(Approximately).\n"
       ]
      }
     ],
     "prompt_number": 2
    },
    {
     "cell_type": "heading",
     "level": 2,
     "metadata": {},
     "source": [
      "exa 2.5 page 47"
     ]
    },
    {
     "cell_type": "code",
     "collapsed": false,
     "input": [
      "from math import atan, cos\n",
      "I1=0.8 #p.u.\n",
      "I2=1 #p.u.\n",
      "Za=0.04+1J*0.12 #p.u.\n",
      "Zb=0.03+1J*0.1 #p.u.\n",
      "Zc=0.03+1J*0.12 #p.u.\n",
      "V=1 #p.u.\n",
      "#Solution : \n",
      "V1=V+(I1+I2)*Za+I1*(Zb) #p.u.\n",
      "V2=V+(I1+I2)*Za+I2*(Zc) #p.u.\n",
      "P1=(I1*V1).real #p.u.\n",
      "P2=(I2*V2).real #p.u.\n",
      "fi1=atan((V1.imag)/(V1.real)) \n",
      "fi2=atan((V2.imag)/(V2.real)) \n",
      "print \"Loss Coefficients are : \"\n",
      "B11=((Za.real)+(Zb.real))/(abs(V1)**2*cos(fi1)**2) #p.u.\n",
      "print \"B11 = %0.5f\"%B11,\"p.u.\" \n",
      "B22=((Za.real)+(Zc.real))/(abs(V2)**2*cos(fi2)**2) #p.u.\n",
      "print \"B22 = %0.4f\"%B22,\"p.u. \" \n",
      "B12=((Za.real))/(abs(V1)*abs(V2)*cos(fi1)*cos(fi2)) #p.u.\n",
      "print \"B12 = %0.4f\"%B12,\"p.u.\" \n",
      "PL=P1**2*B11+P2**2*B22+2*P1*P2*B12 #p.u.\n",
      "print \"Transmission Loss = %0.6f p.u.\" %PL\n",
      "#Note : Values calculated in the book are slightly wrong because of accuracy in calculation as compared to scilab accuracy."
     ],
     "language": "python",
     "metadata": {},
     "outputs": [
      {
       "output_type": "stream",
       "stream": "stdout",
       "text": [
        "Loss Coefficients are : \n",
        "B11 = 0.05827 p.u.\n",
        "B22 = 0.0576 p.u. \n",
        "B12 = 0.0331 p.u.\n",
        "Transmission Loss = 0.178800 p.u.\n"
       ]
      }
     ],
     "prompt_number": 3
    },
    {
     "cell_type": "heading",
     "level": 2,
     "metadata": {},
     "source": [
      "exa 2.7 page 53"
     ]
    },
    {
     "cell_type": "code",
     "collapsed": false,
     "input": [
      "from math import atan, degrees, cos, pi\n",
      "Za=0.03+1J*0.09 #p.u.\n",
      "Ia=1.5-1J*0.4 #p.u.\n",
      "Zb=0.10+1J*0.30 #p.u.\n",
      "Ib=0.5-1J*0.2 #p.u.\n",
      "Zc=0.03+1J*0.09 #p.u.\n",
      "Ic=1-1J*0.1 #p.u.\n",
      "Zd=0.04+1J*0.12 #p.u.\n",
      "Id=1-1J*0.2 #p.u.\n",
      "Ze=0.04+1J*0.12 #p.u.\n",
      "Ie=1.5-1J*0.3 #p.u.\n",
      "V=1 #p.u.\n",
      "base=100 #MVA\n",
      "#Solution\n",
      "#Currents of load\n",
      "IL1=0.4 #p.u.\n",
      "IL2=0.6 #p.u.\n",
      "#Current distribution factors :\n",
      "Na1=1; Na2=0 \n",
      "Nb1=0.6; Nb2=-0.4 \n",
      "Nc1=0 ;Nc2=1 \n",
      "Nd1=0.4; Nd2=0.4 \n",
      "Ne1=0.6 ;Ne2=0.6 \n",
      "#Bus Voltages\n",
      "V1=V+Ia*Za #p.u.\n",
      "V2=V-Ib*Zb+Ic*Zc #p.u.\n",
      "#Phase Angles\n",
      "theta1=degrees(atan((Ia.imag)/(Ia.real)) )#degree\n",
      "theta2=degrees(atan((Ic.imag)/(Ic.real)) )#degree\n",
      "#Power Factors : \n",
      "cos_fi1=cos(atan((V1.imag)/(V1.real))-theta1*pi/180) #source 1 power factor\n",
      "cos_fi2=cos(atan((V2.imag)/(V2.real))-theta2*pi/180) #source 2 power factor\n",
      "print \"Loss formula Coefficients in p.u. :\"\n",
      "B11=(Na1**2*(Za.real)+Nb1**2*(Zb.real)+Nc1**2*(Zc.real)+Nd1**2*(Zd.real)+Ne1**2*(Ze.real))/(abs(V1)**2*cos_fi1) #p.u.\n",
      "print \"B11 = %0.5f p.u \"%B11 \n",
      "B22=(Na2**2*(Za.real)+Nb2**2*(Zb.real)+Nc2**2*(Zc.real)+Nd2**2*(Zd.real)+Ne2**2*(Ze.real))/(abs(V2)**2*cos_fi2) #p.u.\n",
      "print \"B22 = %0.5f p.u\" %B22\n",
      "B12=(Na1*Na2*(Za.real)+Nb1*Nb2*(Zb.real)+Nc1*Nc2*(Zc.real)+Nd1*Nd2*(Zd.real)+Ne1*Ne2*(Zc).real)/(abs(V1)*abs(V2)*cos_fi1*cos_fi2*(cos(theta1*pi/180-theta2*pi/180))) #p.u.\n",
      "print \"B12 = %0.5f\"%B12,\"p.u \" \n",
      "#Converting p.u. to actual value\n",
      "print \"Loss formula Coefficients in MW**-1 :\"\n",
      "B11=B11/base #MW**-1\n",
      "print \"B11 = %0.5f\"%B11,\"MW**-1\" \n",
      "B22=B22/base #MW**-1\n",
      "print \"B22 = %0.5f\"%B22,\"MW**-1\" \n",
      "B12=B12/base #MW**-1\n",
      "print \"B12 = %0.5f\"%B12,\"MW**-1\" \n",
      "#Note : Values calculated in the book are slightly wrong because of accuracy in calculation as compared to scilab accuracy."
     ],
     "language": "python",
     "metadata": {},
     "outputs": [
      {
       "output_type": "stream",
       "stream": "stdout",
       "text": [
        "Loss formula Coefficients in p.u. :\n",
        "B11 = 0.07877 p.u \n",
        "B22 = 0.07735 p.u\n",
        "B12 = -0.00732 p.u \n",
        "Loss formula Coefficients in MW**-1 :\n",
        "B11 = 0.00079 MW**-1\n",
        "B22 = 0.00077 MW**-1\n",
        "B12 = -0.00007 MW**-1\n"
       ]
      }
     ],
     "prompt_number": 4
    },
    {
     "cell_type": "heading",
     "level": 2,
     "metadata": {},
     "source": [
      "exa 2.8 page 54"
     ]
    },
    {
     "cell_type": "code",
     "collapsed": false,
     "input": [
      "#dC1/dP1=0.2*P1+22 #Rs./MWh\n",
      "#dC2/dP2=0.15*P2+30 #Rs./MWh\n",
      "B22=0; B12=0 #Because Loss is independent wrt P2\n",
      "P1=100 #MW\n",
      "PL=15 #MW\n",
      "B11=PL/P1**2 #MW**-1\n",
      "L1=1/(1-0.003*P1)#Penalty Factor plant 1\n",
      "L2=1 #Penalty Factor of plant 2\n",
      "lamda=60 \n",
      "#lamda=dC1/dP1*L1=dC2/dP2*L2\n",
      "#dC1/dP1*L1=dC2/dP2*L2\n",
      "P2=((0.2*P1+22)*L1-30)/0.15 #MW\n",
      "P=P1+P2-B11*P1**2 #MW#Total Load\n",
      "print \"Required generation at plant1 = %0.2f MW \"%P1 \n",
      "print \"Required generation at plant2 = %0.2f MW\" %P2\n",
      "print \"Total Load = %0.2f MW \"%P "
     ],
     "language": "python",
     "metadata": {},
     "outputs": [
      {
       "output_type": "stream",
       "stream": "stdout",
       "text": [
        "Required generation at plant1 = 100.00 MW \n",
        "Required generation at plant2 = 200.00 MW\n",
        "Total Load = 285.00 MW \n"
       ]
      }
     ],
     "prompt_number": 5
    },
    {
     "cell_type": "heading",
     "level": 2,
     "metadata": {},
     "source": [
      "exa 2.9 page 55"
     ]
    },
    {
     "cell_type": "code",
     "collapsed": false,
     "input": [
      "#dC1/dP1=0.2*P1+22 #Rs./MWh\n",
      "#dC2/dP2=0.15*P2+30 #Rs./MWh\n",
      "B22=0 ;B12=0 #Because Loss is independent wrt P2\n",
      "P1=100 #MW\n",
      "PL=15 #MW\n",
      "B11=PL/P1**2 #MW**-1\n",
      "L1=1/(1-0.003*P1) #Penalty Factor plant 1\n",
      "L2=1 #Penalty Factor of plant 2\n",
      "lamda=60 \n",
      "#lamda=dC1/dP1*L1=dC2/dP2*L2\n",
      "#dC1/dP1*L1=dC2/dP2*L2\n",
      "P2=((0.2*P1+22)*L1-30)/0.15 #MW\n",
      "P=P1+P2-B11*P1**2 #MW#Total Load\n",
      "#dC1/dP1=dC2/dP2  neglecting transmission loss\n",
      "#clear('P2') #for recalculation\n",
      "#0.2*P1-0.15*P2-8=0 #/eqn(1)\n",
      "#P1=0.75*P2+40 #P1+P2-B11*P1**2-P=0 #eqn(2)\n",
      "#1.75*P2-B11*P1**2=P-40\n",
      "#Eqn=[-B11 1.75 40-P] \n",
      "from sympy import symbols, solve\n",
      "P22 = symbols('P22')\n",
      "Eqn=-B11*P22**2+1.75*P22+40-P \n",
      "P22=solve(Eqn, P22)\n",
      "P2=P22[0]#MW#neglecting higher value\n",
      "P1=0.75*P2+40 #MW\n",
      "from sympy.mpmath import quad\n",
      "dC1=quad(lambda P: 0.2*P+22,[100,P1]) #Rs.#Additional Cost plant1\n",
      "dC2=quad(lambda P: 0.15*P+30,[200,P2]) #Rs.#Decreased Cost  plant2\n",
      "dC=dC1+dC2 #Rs./hour#Net change in cost\n",
      "print \"Taking transmission loss in account, Net saving per hour in fuel cost = %0.2f Rs./hour \"%dC \n",
      "#Note : Values calculated in the book are slightly wrong because of accuracy in calculation as compared to scilab accuracy."
     ],
     "language": "python",
     "metadata": {},
     "outputs": [
      {
       "output_type": "stream",
       "stream": "stdout",
       "text": [
        "Taking transmission loss in account, Net saving per hour in fuel cost = 854.74 Rs./hour \n"
       ]
      }
     ],
     "prompt_number": 6
    },
    {
     "cell_type": "heading",
     "level": 2,
     "metadata": {},
     "source": [
      "exa 2.10 page 55"
     ]
    },
    {
     "cell_type": "code",
     "collapsed": false,
     "input": [
      "B11=0.001 #MW**-1\n",
      "B22=0.0024 #MW**-1\n",
      "B12=-0.0005 #MW**-1\n",
      "#dC1/dP1=0.8*P1+16 #Rs./MWh\n",
      "#dC2/dP2=0.08*P2+12 #Rs./MWh\n",
      "lamda=20 \n",
      "#Iterations for calculating value\n",
      "P1 = range(0,10)\n",
      "P1[0]=0 \n",
      "P2 = range(0,10)\n",
      "P2[0]=0 \n",
      "for i in range(1,10):\n",
      "    P1[i] =( 0.2+0.001*P2[i-1])/0.006 \n",
      "    P2[i] = (0.4+0.001*P1[i])/0.0088 \n",
      "    if P1[i]==P1[i-1]:\n",
      "        break \n",
      "    \n",
      "\n",
      "P1=P1[i] #MW\n",
      "print \"Generation P1 = %0.2f MW\" %P1\n",
      "P2=P2[i] #MW\n",
      "print \"Generation P2 = %02.f MW \"%P2 \n",
      "PL=B11*P1**2+2*B12*P1*P2+B22*P2**2 #MW\n",
      "print \"Transmission Loss = %0.2f MW \"%PL \n",
      "Pr=P1+P2-PL #MW\n",
      "print \"Received Power = %0.2f MW \"%Pr "
     ],
     "language": "python",
     "metadata": {},
     "outputs": [
      {
       "output_type": "stream",
       "stream": "stdout",
       "text": [
        "Generation P1 = 41.70 MW\n",
        "Generation P2 = 50 MW \n",
        "Transmission Loss = 5.69 MW \n",
        "Received Power = 86.20 MW \n"
       ]
      }
     ],
     "prompt_number": 7
    },
    {
     "cell_type": "heading",
     "level": 2,
     "metadata": {},
     "source": [
      "exa 2.11 page 56"
     ]
    },
    {
     "cell_type": "code",
     "collapsed": false,
     "input": [
      "#C1=561+7.92*P1+0.001562*P1**2 #Rs./hour\n",
      "#C2=310+7.85*P2+0.00194*P2**2 #Rs./hour\n",
      "a1=561 ;a2=310 \n",
      "b1=7.92 ;b2=7.85 \n",
      "c1=0.001562 ;c2=0.00194 \n",
      "ce=c1*c2/(c1+c2) \n",
      "be=ce*(b1/c1+b2/c2) \n",
      "ae=a1-b1**2/4/c1+a2-b2**2/4/c2+be**2/4/ce \n",
      "print \"Coefficients are : \" \n",
      "print \"ae = \",(ae),\" & be = \",(be)\n",
      "print \"ce = \",ce\n",
      "from sympy import symbols\n",
      "PT = symbols('PT') \n",
      "CT = round(ae,2)+round(be,2)*PT+round(ce,4)*PT**2\n",
      "print \"Cost Characteristics : \",CT\n",
      "#print \"CT=870.753+7.8888*PT+0.0008653*PT**2\" "
     ],
     "language": "python",
     "metadata": {},
     "outputs": [
      {
       "output_type": "stream",
       "stream": "stdout",
       "text": [
        "Coefficients are : \n",
        "ae =  870.650199886  & be =  7.88877784123\n",
        "ce =  0.000865299828669\n",
        "Cost Characteristics :  0.0009*PT**2 + 7.89*PT + 870.65\n"
       ]
      }
     ],
     "prompt_number": 8
    },
    {
     "cell_type": "heading",
     "level": 2,
     "metadata": {},
     "source": [
      "exa 2.12 page 57"
     ]
    },
    {
     "cell_type": "code",
     "collapsed": false,
     "input": [
      "from sympy import symbols,solve\n",
      "#C1=7700+52.8*P1+5.5*10**-3*P1**2 #Rs./hour\n",
      "#C2=2500+15*P2+0.05*P2**2 #Rs./hour\n",
      "a1=7700 ;a2=2500 \n",
      "b1=52.8 ;b2=15 \n",
      "c1=5.5*10**-3 ;c2=0.05 \n",
      "P1, P2 = symbols('P1 P2')\n",
      "dC1bydP1=52.8+2*5.5*10**-3*P1 \n",
      "dC2bydP2=15+2*0.05*P2 \n",
      "print \"For 1200 MW Load :\" \n",
      "P=1200 #MW\n",
      "#Let loads of unit are P1 & 1200-P1\n",
      "#Economical Loading dC1/dP1=dC2/dP2\n",
      "eqn=52.8+2*5.5*10**-3*P1-15-2*0.05*(1200-P1) \n",
      "P1=solve(eqn, P1)[0] #MW\n",
      "P2=P-P1 #MW\n",
      "print \"P1 = %0.2f MW \"%P1 \n",
      "print \"P2 = %0.2f MW \"%P2 \n",
      "print \"For 900 MW Load :\" \n",
      "P=900 #MW\n",
      "#clear('P1','P2') \n",
      "P1, P2 = symbols('P1 P2')\n",
      "#Let loads of unit are P1 & 900-P1\n",
      "#Economical Loading dC1/dP1=dC2/dP2\n",
      "eqn=52.8+2*5.5*10**-3*P1-15-2*0.05*(900-P1) \n",
      "P1=solve(eqn, P1)[0] #MW\n",
      "P2=P-P1 #MW\n",
      "print \"P1 = %0.2f MW \"%P1 \n",
      "print \"P2 = %0.2f MW \"%P2 \n",
      "print \"For 500 MW Load :\" \n",
      "P=500 #MW\n",
      "#clear('P1','P2') \n",
      "P1, P2 = symbols('P1 P2')\n",
      "#Let loads of unit are P1 & 500-P1\n",
      "#Economical Loading dC1/dP1=dC2/dP2\n",
      "eqn=52.8+2*5.5*10**-3*P1-15-2*0.05*(500-P1) \n",
      "P1=solve(eqn, P1)[0] #MW\n",
      "P2=P-P1 #MW\n",
      "#Minimum load is 200MW\n",
      "if P1<200:\n",
      "    P2=P1+P2\n",
      "    P1=0 \n",
      "print \"P1 = %0.2f MW \"%P1 \n",
      "print \"P2 = %0.2f MW \"%P2 \n",
      "C=(2500+15*P2+0.05*P2**2)*10 #Rs.#Operating cost for 10 hour\n",
      "print \"Operating cost for 10 hour = %0.2f Rs. \"%C \n",
      "print \"Other option : \" \n",
      "P1=200 #MW\n",
      "P2=300 #MW\n",
      "print \"P1 = %0.2f MW \"%P1 \n",
      "print \"P2 = %0.2f MW \"%P2 \n",
      "C1=7700+52.8*P1+5.5*10**-3*P1**2 #Rs./hour\n",
      "C2=2500+15*P2+0.05*P2**2 #Rs./hour\n",
      "C=10*(C1+C2) #Rs.#Operating cost for 10 hour\n",
      "print \"Operating cost for 10 hour = %0.2f Rs. \"%C \n"
     ],
     "language": "python",
     "metadata": {},
     "outputs": [
      {
       "output_type": "stream",
       "stream": "stdout",
       "text": [
        "For 1200 MW Load :\n",
        "P1 = 740.54 MW \n",
        "P2 = 459.46 MW \n",
        "For 900 MW Load :\n",
        "P1 = 470.27 MW "
       ]
      },
      {
       "output_type": "stream",
       "stream": "stdout",
       "text": [
        "\n",
        "P2 = 429.73 MW \n",
        "For 500 MW Load :\n",
        "P1 = 0.00 MW \n",
        "P2 = 500.00 MW \n",
        "Operating cost for 10 hour = 225000.00 Rs. \n",
        "Other option : \n",
        "P1 = 200.00 MW \n",
        "P2 = 300.00 MW \n",
        "Operating cost for 10 hour = 299800.00 Rs. \n"
       ]
      }
     ],
     "prompt_number": 9
    },
    {
     "cell_type": "heading",
     "level": 2,
     "metadata": {},
     "source": [
      "exa 2.13 page 58"
     ]
    },
    {
     "cell_type": "code",
     "collapsed": false,
     "input": [
      "#C1=2000+20*P1+0.05*P1**2 #Rs./hour\n",
      "#C2=2750+26*P2+0.03091*P2**2 #Rs./hour\n",
      "P1=350 #MW\n",
      "P2=550 #MW\n",
      "C1=2000+20*P1+0.05*P1**2 #Rs./hour\n",
      "C2=2750+26*P2+0.03091*P2**2 #Rs./hour\n",
      "C=C1+C2 #Rs./hour\n",
      "print \"(a) Total Cost = %0.2f Rs./hour \"%C \n",
      "P=P1+P2 #MW#Total Load\n",
      "P1, P2 = symbols('P1 P2')\n",
      "dC1bydP1=20+2*0.05*P1 \n",
      "dC2bydP2=26+2*0.03091*P2 \n",
      "print \"(b) For Economic Scheduling\"\n",
      "#dC1/dP1=dC2/dP2 for economic sheduling\n",
      "#Let loads of unit are P1 & P-P1\n",
      "eqn=20+2*0.05*P1-26-2*0.03091*(P-P1) \n",
      "P1=solve(eqn, P1)[0] #MW\n",
      "P2=P-P1 #MW\n",
      "print \"Loads P1 & P2 = %0.2f & %0.2f MW\"%(P1, P2)\n",
      "C1=2000+20*P1+0.05*P1**2 #Rs./hour\n",
      "C2=2750+26*P2+0.03091*P2**2 #Rs./hour\n",
      "Cnew=C1+C2 #Rs./hour\n",
      "print \"Total Cost = %0.2f Rs./hour \"%Cnew \n",
      "saving=C-Cnew #Rs./hour\n",
      "print \"Total saving  %0.2f Rs./hour \"%saving \n",
      "Lt=P1-350 #MW#Tie line load\n",
      "print \"Tie line load from Plant1 to Plant2 = %0.2f MW  \"%Lt"
     ],
     "language": "python",
     "metadata": {},
     "outputs": [
      {
       "output_type": "stream",
       "stream": "stdout",
       "text": [
        "(a) Total Cost = 41525.28 Rs./hour \n",
        "(b) For Economic Scheduling\n",
        "Loads P1 & P2 = 380.90 & 519.10 MW"
       ]
      },
      {
       "output_type": "stream",
       "stream": "stdout",
       "text": [
        "\n",
        "Total Cost = 41448.00 Rs./hour \n",
        "Total saving  77.28 Rs./hour \n",
        "Tie line load from Plant1 to Plant2 = 30.90 MW  \n"
       ]
      }
     ],
     "prompt_number": 10
    },
    {
     "cell_type": "heading",
     "level": 2,
     "metadata": {},
     "source": [
      "exa 2.14 page 59"
     ]
    },
    {
     "cell_type": "code",
     "collapsed": false,
     "input": [
      "#C=5000+450*P+0.5*P**2 #Rs./hour\n",
      "e1=+2 #%#error\n",
      "e2=-2 #%#error\n",
      "P=200 #MW#Total Load\n",
      "#Considering error\n",
      "P1, P2 = symbols('P1 P2')\n",
      "C1=(5000+450*P+0.5*P1**2)*0.98 #Rs./hour\n",
      "C2=(5000+450*P+0.5*P2**2)*1.02 #Rs./hour\n",
      "#Let loads of unit are P1 & P-P1\n",
      "#dC1/dP1=dC2/dP2 for economic sheduling\n",
      "eqn=450*0.98+2*0.5*P1*0.98-450*1.02-2*0.5*(P-P1)*1.02 \n",
      "P1=solve(eqn, P1)[0] #MW\n",
      "P2=P-P1 #MW\n",
      "#if no instrumention error\n",
      "C1=(5000+450*P1+0.5*P1**2)*0.98 #Rs./hour\n",
      "C2=(5000+450*P2+0.5*P2**2)*1.02 #Rs./hour\n",
      "C=C1+C2 #Rs./hour\n",
      "#Due to intrumentation error\n",
      "P1=P/2 #MW\n",
      "P2=P/2 #MW\n",
      "C1=(5000+450*P1+0.5*P1**2)*0.98 #Rs./hour\n",
      "C2=(5000+450*P2+0.5*P2**2)*1.02 #Rs./hour\n",
      "Cerr=C1+C2 #Rs./hour\n",
      "Cextra=Cerr-C #Rs,/hour\n",
      "print \"Extra operating cost = %0.2f Rs./hour \"%Cextra "
     ],
     "language": "python",
     "metadata": {},
     "outputs": [
      {
       "output_type": "stream",
       "stream": "stdout",
       "text": [
        "Extra operating cost = 121.00 Rs./hour \n"
       ]
      }
     ],
     "prompt_number": 11
    },
    {
     "cell_type": "heading",
     "level": 2,
     "metadata": {},
     "source": [
      "exa 2.15 page 59"
     ]
    },
    {
     "cell_type": "code",
     "collapsed": false,
     "input": [
      "P1, P2, P3 = symbols('P1 P2 P3')\n",
      "Q1=0.002*P1**2+0.86*P1+20 #tons/hour\n",
      "Q2=0.004*P2**2+1.08*P2+20 #tons/hour\n",
      "Q3=0.0028*P3**2+0.64*P3+36 #tons/hour\n",
      "Pmax=120 #MW\n",
      "Pmin=36 #MW\n",
      "P=200 #MW\n",
      "C=500 #Rs./ton\n",
      "#C1=C*Q1 C2=C*Q2 C3=C*Q3 #Rs./ton\n",
      "dC1bydP1=2*P1+430 #Rs./hour\n",
      "dC2bydP2=4*P2+540 #Rs./hour\n",
      "dC3bydP3=2.8*P3+320 #Rs./hour\n",
      "#P1+P2+P3=P\n",
      "A1=[1 ,1 ,1] #Coefficient Matrix\n",
      "B1=[P] #Coefficient Matrix\n",
      "#For minimal cost above 3 equation should be equal\n",
      "#eqn1=2*P1-4*P2+430-540 \n",
      "#eqn2=4*P2-2.8*P3-320+540 \n",
      "A2=[0 ,4 ,-2.8] #Coefficient Matrix\n",
      "B2=[-540+320] #Coefficient Matrix\n",
      "#eqn3=-2*P1+2.8*P3+320-430 \n",
      "A3=[-2 ,0 ,2.8] #Coefficient Matrix\n",
      "B3=[430-320] #Coefficient Matrix\n",
      "#solving by matrix method\n",
      "import numpy as np\n",
      "A=np.mat([A1[:] ,A2[:], A3[:]]) #Coefficient Matrix\n",
      "B=[B1 ,B2 ,B3] #Coefficient Matrix\n",
      "X=A**-1*B #Solution Matrix\n",
      "P1=X[0] #MW\n",
      "P2=X[1] #MW\n",
      "P3=X[2] #MW\n",
      "Pmax=120 #MW\n",
      "Pmin=36 #MW\n",
      "if P2<Pmin:\n",
      "   P2=Pmin #MW     \n",
      "\n",
      "#P1+P3=P-P2#eqn(4)\n",
      "A1=[1 ,1] #Coefficient Matrix\n",
      "B1=[P-P2] #Coefficient Matrix\n",
      "#eqn3=-2*P1+2.8*P3+320-430 \n",
      "A2=[-2, 2.8] #Coefficient Matrix\n",
      "B2=[430-320] #Coefficient Matrix\n",
      "#solving by matrix method\n",
      "A=np.mat([A1[:], A2[:]]) #Coefficient Matrix\n",
      "B=np.mat([B1[:], B2[:]]) #Coefficient Matrix\n",
      "X=A**-1*B #Solution Matrix\n",
      "P1=X[0] #MW\n",
      "P3=X[1] #MW\n",
      "print \"According to optimum scheduling, Load distriution is :\" \n",
      "print \"P1 = %0.2f MW \"%P1 \n",
      "print \"P2 = %0.2f MW \"%P2 \n",
      "print \"P3 = %0.2f MW \"%P3 "
     ],
     "language": "python",
     "metadata": {},
     "outputs": [
      {
       "output_type": "stream",
       "stream": "stdout",
       "text": [
        "According to optimum scheduling, Load distriution is :\n",
        "P1 = 72.75 MW \n",
        "P2 = 36.00 MW \n",
        "P3 = 91.25 MW \n"
       ]
      }
     ],
     "prompt_number": 12
    },
    {
     "cell_type": "heading",
     "level": 2,
     "metadata": {},
     "source": [
      "exa 2.16 page 60"
     ]
    },
    {
     "cell_type": "code",
     "collapsed": false,
     "input": [
      "L=30 #MW\n",
      "#I=(32+32*L+1.68*L**2)*10**5 \n",
      "t1=18 #/hours\n",
      "t2=6 #/hours\n",
      "#Full load 18 hours\n",
      "I1=(32+32*L+1.68*L**2)*10**5*t1 #kJ\n",
      "#Half load 6 hours\n",
      "I2=(32+32*L/2+1.68*(L/2)**2)*10**5*t2\n",
      "I=I1+I2 #kJ\n",
      "print \"(a) Heat input per day = %0.2e kJ \"%I \n",
      "E=L*t1+L/2*t2 #MWh#/Energy produced in 24 hours\n",
      "Lu=E/(t1+t2) #MW\n",
      "Inew=(32+32*Lu+1.68*Lu**2)*10**5*(t1+t2) #kJ\n",
      "saving=I-Inew #/kJ\n",
      "saving=saving/(E*1000) #kJ/kWh\n",
      "print \"(b) Saving in heat per kWh of energy = %0.2f kJ/kWh \" %saving"
     ],
     "language": "python",
     "metadata": {},
     "outputs": [
      {
       "output_type": "stream",
       "stream": "stdout",
       "text": [
        "(a) Heat input per day = 5.04e+09 kJ \n",
        "(b) Saving in heat per kWh of energy = 270.00 kJ/kWh \n"
       ]
      }
     ],
     "prompt_number": 13
    },
    {
     "cell_type": "heading",
     "level": 2,
     "metadata": {},
     "source": [
      "exa 2.17 page 61"
     ]
    },
    {
     "cell_type": "code",
     "collapsed": false,
     "input": [
      "P=800 #MW(Total Load)\n",
      "#Using Variable for Cost Curve Equation\n",
      "P1, P2, P3 = symbols('P1 P2 P3')\n",
      "#Cost Curve Equation\n",
      "C1=450+6.5*P1+0.0013*P1**2 #Rs./hour\n",
      "C2=300+7.8*P2+0.0019*P2**2 #Rs./hour\n",
      "C3=80+8.1*P3+0.005*P3**2 #Rs./hour\n",
      "#Part(a) is not computational\n",
      "#Part (b)\n",
      "dC1BydP1=6.5+2*0.0013*P1 #Rs./MWh#/eqn(1)\n",
      "dC2BydP2=7.8+2*0.0019*P2 #Rs./MWh#/eqn(2)\n",
      "dC3BydP3=8.1+2*0.005*P3 #Rs./MWh#/eqn(3)\n",
      "#P1+P2+P3=P #MW#/eqn(4)\n",
      "A1=[1 ,1 ,1] #Coefficient Matrix\n",
      "B1=[800] #Coefficient Matrix\n",
      "#Equating eqn(1) & (2)\n",
      "A2=[2*0.0013, -2*0.0019, 0] #Coefficient Matrix\n",
      "B2=[7.8-6.5] #Coefficient Matrix\n",
      "#Equating eqn(2) & (3)\n",
      "A3=[0 ,2*0.0019, -2*0.005] #Coefficient Matrix\n",
      "B3=[8.1-7.8] #Coefficient Matrix\n",
      "#Solution By Matrix method\n",
      "import numpy as np\n",
      "A=np.mat([A1[:], A2[:], A3]) #Coefficient Matrix\n",
      "B=np.mat([B1[:], B2[:], B3[:]]) #Coefficient Matrix\n",
      "X=A**-1*B #Solution Matrix\n",
      "P1=X[0] #MW\n",
      "P2=X[1] #MW\n",
      "P3=X[2] #MW\n",
      "print \"(b) According to optimum scheduling, Load distriution is :\" \n",
      "print \"P1 = %0.2f MW\" %P1\n",
      "print \"P2 = %0.2f MW\" %P2\n",
      "print \"P3 = %0.2f MW\" %P3\n",
      "#Part(c)\n",
      "print \"(c) Optimum scheduling : \" \n",
      "P1max=600 #MW\n",
      "P1min=100 #MW\n",
      "P2max=400 #MW\n",
      "P2min=50 #MW\n",
      "P3max=200 #MW\n",
      "P3min=50 #MW\n",
      "if P2<P2max and P2>P2min:\n",
      "    print \"P2 is within maximum and minimum limits.\" \n",
      "    P1=P1max #MW\n",
      "    P3=P3min #MW\n",
      "    P2=P-P1-P3 #MW\n",
      "\n",
      "#Lambda=dC2/dP2 as P2 is niether maximum limit nor minimum limit.\n",
      "dC2BydP2=7.8+2*0.0019*P2 #Rs./MWh\n",
      "lamda=dC2BydP2 #Rs./MWh\n",
      "dC1BydP1=6.5+2*0.0013*P1 #Rs./MWh\n",
      "dC3BydP3=8.1+2*0.005*P3 #Rs./MWh\n",
      "if dC1BydP1<lamda :\n",
      "    print \"Condition for P1 satisfied.\" \n",
      "\n",
      "if dC3BydP3>lamda:\n",
      "    print \"Condition for P3 satisfied.\" \n",
      "\n",
      "print \"Load distribution is : \" \n",
      "print \"P1 = %0.2f MW\" %P1\n",
      "print \"P2 = %0.2f MW\" %P2\n",
      "print \"P3 = %0.2f MW\" %P3"
     ],
     "language": "python",
     "metadata": {},
     "outputs": [
      {
       "output_type": "stream",
       "stream": "stdout",
       "text": [
        "(b) According to optimum scheduling, Load distriution is :\n",
        "P1 = 669.73 MW\n",
        "P2 = 116.13 MW\n",
        "P3 = 14.13 MW\n",
        "(c) Optimum scheduling : \n",
        "P2 is within maximum and minimum limits.\n",
        "Condition for P1 satisfied.\n",
        "Condition for P3 satisfied.\n",
        "Load distribution is : \n",
        "P1 = 600.00 MW\n",
        "P2 = 150.00 MW\n",
        "P3 = 50.00 MW\n"
       ]
      }
     ],
     "prompt_number": 14
    },
    {
     "cell_type": "heading",
     "level": 2,
     "metadata": {},
     "source": [
      "exa 2.18 page 62"
     ]
    },
    {
     "cell_type": "code",
     "collapsed": false,
     "input": [
      "import numpy as np\n",
      "Bmn=np.mat([[0.0676, 0.00953, -0.00507],[0.00953 ,0.0521, 0.00901],[-0.00507, 0.00901, 0.0294]]) #Loss Coefficient\n",
      "Bno=np.mat([[-0.0766],[0.00342],[0.0189]]) #Loss Coefficient\n",
      "Boo=0.04357 #Loss Coefficient\n",
      "P1=107.9 #MW\n",
      "P2=50 #MW\n",
      "P3=60 #MW\n",
      "#solution : \n",
      "#PL=np.mat([[P1], [P2], [P3]])*Bmn+np.mat([[P1], [P2], [P3]])*Bno+Boo #MW\n",
      "PL=np.mat([P1, P2, P3])*Bmn+np.mat([P1, P2, P3])*Bno+Boo #MW\n",
      "pl= 0\n",
      "for x in range(0,1):\n",
      "    for y in range(0,3):\n",
      "        pl+= PL[x,y]\n",
      "print \"Transmission Loss = %0.2f MW \"%-pl \n",
      "#Note : Values calculated in the book are slightly wrong because of accuracy in calculation as compared to scilab accuracy."
     ],
     "language": "python",
     "metadata": {},
     "outputs": [
      {
       "output_type": "stream",
       "stream": "stdout",
       "text": [
        "Transmission Loss = 7.44 MW \n"
       ]
      }
     ],
     "prompt_number": 15
    },
    {
     "cell_type": "heading",
     "level": 2,
     "metadata": {},
     "source": [
      "exa 2.19 page 64"
     ]
    },
    {
     "cell_type": "code",
     "collapsed": false,
     "input": [
      "#lambda1=0.1*P1+20 #Rs./MWh\n",
      "#lambda2=0.12*P2+16 #Rs./MWh\n",
      "P=180 #MW\n",
      "#Let loads are P1 & P-P1\n",
      "#Economical loading lambda1=lambda2\n",
      "P1, P2 = symbols('P1 P2')\n",
      "eqn=0.1*P1+20-0.12*(P-P1)-16 \n",
      "P1=solve(eqn, P1)[0] #MW\n",
      "P2=P-P1 #MW\n",
      "print \"Load P1 = %0.2f MW \"%P1 \n",
      "print \"Load P2 = %0.2f MW \"%P2"
     ],
     "language": "python",
     "metadata": {},
     "outputs": [
      {
       "output_type": "stream",
       "stream": "stdout",
       "text": [
        "Load P1 = 80.00 MW \n",
        "Load P2 = 100.00 MW \n"
       ]
      }
     ],
     "prompt_number": 16
    },
    {
     "cell_type": "heading",
     "level": 2,
     "metadata": {},
     "source": [
      "exa 2.20 page 65"
     ]
    },
    {
     "cell_type": "code",
     "collapsed": false,
     "input": [
      "#F1=0.004*P1**2+2*P1+80 #Rs./hr\n",
      "#F2=0.006*P2**2+1.5*P2+100 #Rs./hr\n",
      "P=250 #MW\n",
      "P1, P2 = symbols('P1 P2')\n",
      "dF1bydP1=2*0.004*P1+2 \n",
      "dF2bydP2=2*0.006*P2+1.5 \n",
      "#Let loads are P1 & P-P1\n",
      "#Economical loading lambda1=lambda2\n",
      "eqn=2*0.004*P1+2-2*0.006*(P-P1)-1.5 \n",
      "P1=solve(eqn, P1)[0] #MW\n",
      "P2=P-P1 #MW\n",
      "print \"Load P1 = %0.2f MW \"%P1 \n",
      "print \"Load P2 = %0.2f MW \"%P2"
     ],
     "language": "python",
     "metadata": {},
     "outputs": [
      {
       "output_type": "stream",
       "stream": "stdout",
       "text": [
        "Load P1 = 125.00 MW \n",
        "Load P2 = 125.00 MW \n"
       ]
      }
     ],
     "prompt_number": 17
    },
    {
     "cell_type": "heading",
     "level": 2,
     "metadata": {},
     "source": [
      "exa 2.21 page 65"
     ]
    },
    {
     "cell_type": "code",
     "collapsed": false,
     "input": [
      "#F1=(8*P1+0.024*P1**2+80)*10**6 #Btu./hr\n",
      "#F2=(6*P2+0.04*P2**2+120)*10**6 #Btu./hr\n",
      "Pmax=100 #MW\n",
      "Pmin=10 #MW\n",
      "C=2.5 #Rs./million Btu\n",
      "#C1=2.5*F1/10**6\n",
      "#C2=2.5*F2/10**6\n",
      "#For Maximum Load of 100 MW\n",
      "P1, P2 = symbols('P1 P2')\n",
      "dC1bydP1=8*2.5+2.5*2*0.024*P1 \n",
      "dC2bydP2=6*2.5+2.5*2*0.04*P2 \n",
      "#Let loads are P1 & Pmax-P1\n",
      "#Economical loading lambda1=lambda2\n",
      "eqn=8*2.5+2.5*2*0.024*P1-6*2.5-2.5*2*0.04*(Pmax-P1) \n",
      "P1=solve(eqn, P1)[0] #MW\n",
      "P2=Pmax-P1 #MW\n",
      "C1=2.5*((8*P1+0.024*P1**2+80)*10**6)/10**6 #Rs./hour\n",
      "C2=2.5*((6*P2+0.04*P2**2+120)*10**6)/10**6 #Rs./hour\n",
      "C100=(C1+C2)*12 #Rs.(Total cost of 12 hours on 100MW load)\n",
      "#For Maximum load of 50 MW\n",
      "#Let loads are P1 & Pmax-P1\n",
      "#Economical loading : lambda1=lambda2\n",
      "Pmax1=50 #MW\n",
      "P1, P2 = symbols('P1 P2')\n",
      "eqn=8*2.5+2.5*2*0.024*P1-6*2.5-2.5*2*0.04*(Pmax1-P1) \n",
      "P1=solve(eqn, P1)[0] #MW\n",
      "P2=Pmax1-P1 #MW\n",
      "C1=2.5*((8*P1+0.024*P1**2+80)*10**6)/10**6 #Rs./hour\n",
      "C2=2.5*((6*P2+0.04*P2**2+120)*10**6)/10**6 #Rs./hour\n",
      "C50=(C1+C2)*12 #Rs.(Total cost of 12 hours on 50MW load)\n",
      "C=C100+C50 #Rs.(Total cost for 24 hours)\n",
      "print \"Minimum total cost for 24 hours = %0.2f Rs. \"%C \n",
      "E=(Pmax*12+Pmax1*12)*10**3 #kWh\n",
      "#Operating cost per unit energy\n",
      "Co=C/E #Rs./kWh\n",
      "print \"Operating cost per unit energy = %0.2f Rs./kWh \"%Co \n",
      "#Answer is wrong in the textbook. Calculation mistake in energy generation calculation & Cost calculation.\n"
     ],
     "language": "python",
     "metadata": {},
     "outputs": [
      {
       "output_type": "stream",
       "stream": "stdout",
       "text": [
        "Minimum total cost for 24 hours = 49312.50 Rs. \n",
        "Operating cost per unit energy = 0.03 Rs./kWh \n"
       ]
      }
     ],
     "prompt_number": 18
    },
    {
     "cell_type": "heading",
     "level": 2,
     "metadata": {},
     "source": [
      "exa 2.22 page 66"
     ]
    },
    {
     "cell_type": "code",
     "collapsed": false,
     "input": [
      "#F1=0.05*P1**2+21.5*P1+800 #Rs./hr\n",
      "#F2=0.1*P2**2+27*P2+500 #Rs./hr\n",
      "#F3=0.07*P3**2+16*P3+900 #Rs./hr\n",
      "PT=200 #MW\n",
      "Pmax=120 #MW\n",
      "Pmin=39 #MW\n",
      "#coefficients : \n",
      "c1=0.05; c2=0.1; c3=0.07 \n",
      "b1=21.5 ;b2=27 ;b3=16 \n",
      "a1=800 ;a2=500 ;a3=900 \n",
      "lamda=(1/2*(b1/c1+b2/c2+b3/c3)+PT)/(1/2*(1/c1+1/c2+1/c3)) \n",
      "#Economical loading dF1/dP1=dF2/dP2=dF3/dP3\n",
      "from sympy import symbols, solve\n",
      "P1=symbols('P1') \n",
      "P2=symbols('P2') \n",
      "P3=symbols('P3') \n",
      "dF1bydP1=2*0.05*P1+21.5 \n",
      "dF2bydP2=2*0.1*P2+27 \n",
      "dF2bydP3=2*0.07*P3+16 \n",
      "#Solving equation :\n",
      "import numpy as np\n",
      "A=np.mat([[2*0.05 ,0 ,0] ,[0 ,2*0.1, 0], [0, 0, 2*0.07]]) \n",
      "B=np.mat([[lamda-21.5], [lamda-27], [lamda-16]]) \n",
      "X=A**-1*B \n",
      "P1=X[0] #MW\n",
      "P2=X[1] #MW\n",
      "P3=X[2] #MW\n",
      "if P2<Pmin:\n",
      "    P2=Pmin \n",
      "\n",
      "P1plusP3=PT-P2 #MW\n",
      "#dF1/dP1=dF3/dP3\n",
      "#Let loads are P1 & P1plusP3-P1\n",
      "P1=symbols('P1') \n",
      "P3=symbols('P3') \n",
      "eqn=2*0.05*P1+21.5-2*0.07*(P1plusP3-P1)-16 \n",
      "P1=solve(eqn, P1)[0] #MW\n",
      "P3=P1plusP3-P1 #MW\n",
      "print \"Optimum scheduling :\" \n",
      "print \"Loads P1, P2 & P3 are %0.2f, %0.2f & %0.2f MWs \" %(P1, P2, P3)\n",
      "F1=0.05*P1**2+21.5*P1+800 #Rs./hr\n",
      "F2=0.1*P2**2+27*P2+500 #Rs./hr\n",
      "F3=0.07*P3**2+16*P3+900 #Rs./hr\n",
      "C=F1+F2+F3 #Rs/hour\n",
      "print \"For this schedule, total cost per hour = %0.2f Rs./hour \" %C"
     ],
     "language": "python",
     "metadata": {},
     "outputs": [
      {
       "output_type": "stream",
       "stream": "stdout",
       "text": [
        "Optimum scheduling :\n",
        "Loads P1, P2 & P3 are 71.00, 39.00 & 90.00 MWs \n",
        "For this schedule, total cost per hour = 7190.65 Rs./hour \n"
       ]
      }
     ],
     "prompt_number": 19
    },
    {
     "cell_type": "heading",
     "level": 2,
     "metadata": {},
     "source": [
      "exa 2.23 page 67"
     ]
    },
    {
     "cell_type": "code",
     "collapsed": false,
     "input": [
      "#dF1/dP1=0.025*P1+15 #\n",
      "#dF2/dP2=0.05*P2+20 #\n",
      "PL=15.625 #MW\n",
      "P1=125 #MW\n",
      "lamda=24 #Rs. per MWh\n",
      "B11=PL/P1**2 #Coefficient Loss\n",
      "#dF2/dP2*L2=lambda\n",
      "P2=symbols('P2') \n",
      "L2=1 #penalty factor\n",
      "eqn=(0.05*P2+20)*L2-lamda \n",
      "P2=solve(eqn, P2)[0] #MW\n",
      "#PL=B11*P1**2\n",
      "P1=symbols('P1') \n",
      "dPLbydP1=2*B11*P1 \n",
      "L1=1/(1-dPLbydP1) #penalty factor\n",
      "eqn=(0.025*P1+15)-lamda/L1\n",
      "#P1=solve(numer(eqn)) #MW\n",
      "P1=solve((eqn), P1)[0] #MW\n",
      "print \"Generation P1 & P2 are %0.2f & %0.2f MW\"%(P1, P2)\n",
      "PL=B11*P1**2 #MW\n",
      "LD=P1-PL+P2 #MW\n",
      "print \"Load Demand = %0.2f MW \"%LD "
     ],
     "language": "python",
     "metadata": {},
     "outputs": [
      {
       "output_type": "stream",
       "stream": "stdout",
       "text": [
        "Generation P1 & P2 are 123.29 & 80.00 MW\n",
        "Load Demand = 188.09 MW \n"
       ]
      }
     ],
     "prompt_number": 20
    },
    {
     "cell_type": "heading",
     "level": 2,
     "metadata": {},
     "source": [
      "exa 2.24 page 68"
     ]
    },
    {
     "cell_type": "code",
     "collapsed": false,
     "input": [
      "#dC1/dP1=0.02*P1+16 #\n",
      "#dC2/dP2=0.04*P2+20 #\n",
      "PL=10 #MW\n",
      "P1=100 #MW\n",
      "lamda=25 #Rs. per MWh\n",
      "B11=PL/P1**2; B22=0; B12=0 #Coefficient Loss\n",
      "#dF2/dP2*L2=lambda\n",
      "P2=symbols('P2') \n",
      "L2=1 #penalty factor\n",
      "eqn=(0.04*P2+20)*L2-lamda \n",
      "P2=solve(eqn, P2)[0] #MW\n",
      "#PL=B11*P1**2\n",
      "P1=symbols('P1') \n",
      "dPLbydP1=2*B11*P1 \n",
      "L1=1/(1-dPLbydP1) #penalty factor\n",
      "eqn=(0.02*P1+16)-lamda/L1\n",
      "P1=solve((eqn), P1)[0] #MW\n",
      "print \"Generation P1 & P2 are %0.2f & %0.2f MW\"%(P1, P2)\n",
      "PL=B11*P1**2 #MW\n",
      "LD=P1-PL+P2 #MW\n",
      "print \"Load Demand = %0.2f MW \"%LD"
     ],
     "language": "python",
     "metadata": {},
     "outputs": [
      {
       "output_type": "stream",
       "stream": "stdout",
       "text": [
        "Generation P1 & P2 are 128.57 & 125.00 MW\n",
        "Load Demand = 237.04 MW \n"
       ]
      }
     ],
     "prompt_number": 21
    }
   ],
   "metadata": {}
  }
 ]
}