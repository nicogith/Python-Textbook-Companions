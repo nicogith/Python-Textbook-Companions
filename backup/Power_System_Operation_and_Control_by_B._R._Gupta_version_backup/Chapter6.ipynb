{
 "metadata": {
  "name": "",
  "signature": "sha256:af61fb7eed7d4ff39296b02a1d4e98cabd8ac46cf41e81ede4624c653dbd8b75"
 },
 "nbformat": 3,
 "nbformat_minor": 0,
 "worksheets": [
  {
   "cells": [
    {
     "cell_type": "heading",
     "level": 1,
     "metadata": {},
     "source": [
      "Ch-6 : Reactive Power Control"
     ]
    },
    {
     "cell_type": "heading",
     "level": 2,
     "metadata": {},
     "source": [
      "exa 6.1 page 201"
     ]
    },
    {
     "cell_type": "code",
     "collapsed": false,
     "input": [
      "from math import sqrt, atan, pi, degrees, cos\n",
      "from scipy.linalg import expm\n",
      "kV=220 #kV\n",
      "Z=0.8+1J*0.2 #pu\n",
      "V=1 #V(Voltage at load terminal)\n",
      "X=0.2+0.05 #pu(line and transformer reactance)\n",
      "P=(Z).real #pu\n",
      "Q=(Z).imag #pu\n",
      "BaseMVA=100 #MVA\n",
      "BasekV=220 #kV\n",
      "I=sqrt((P**2+Q**2)/V**2)*expm([[1J*atan(-(Z).imag/(Z).real)]])[0,0] #pu\n",
      "Vb=V+I*(X*expm([[1J*pi/2]]))[0,0] #pu(Voltage at 200 kV bus)\n",
      "fi_p=(atan((Vb).imag/(Vb).real)) #degree(power angle)\n",
      "Vb=abs(Vb)*kV #kV(Voltage at 200 kV bus)\n",
      "pf=cos(fi_p+(atan((Z).imag/(Z).real))) #power factor at 220 kV bus\n",
      "print \"Voltage at 220 kV bus = %0.2f kV \"%Vb \n",
      "print \"Power factor at 220 kV bus %0.4f lagging \"%pf"
     ],
     "language": "python",
     "metadata": {},
     "outputs": [
      {
       "output_type": "stream",
       "stream": "stdout",
       "text": [
        "Voltage at 220 kV bus = 235.15 kV \n",
        "Power factor at 220 kV bus 0.9076 lagging \n"
       ]
      }
     ],
     "prompt_number": 1
    },
    {
     "cell_type": "heading",
     "level": 2,
     "metadata": {},
     "source": [
      "exa 6.2 page 201"
     ]
    },
    {
     "cell_type": "code",
     "collapsed": false,
     "input": [
      "from scipy.linalg import expm\n",
      "kV=220 #kV\n",
      "Z=0.8+1J*0.2 #pu\n",
      "V=1 #V(Voltage at load terminal)\n",
      "X=0.2+0.05 #pu(line and transformer reactance)\n",
      "P=(Z).real #pu\n",
      "Q=(Z).imag #pu\n",
      "BaseMVA=100 #MVA\n",
      "BasekV=220 #kV\n",
      "I=sqrt((P**2+Q**2)/V**2) #pu\n",
      "Vb=V+I*(X*expm([[1J*pi/2]])) #pu(Voltage at 200 kV bus)\n",
      "fi_p=degrees(atan((Vb).imag/(Vb).real)) #degree(power angle)\n",
      "Vb=abs(Vb)*kV #kV(Voltage at 200 kV bus)\n",
      "pf=cos(fi_p*pi/180) #power factor at 220 kV bus\n",
      "print \"Voltage at 220 kV bus = %0.2f kV \"%Vb \n",
      "print \"Power factor at 220 kV bus = %0.4f lagging \"%pf"
     ],
     "language": "python",
     "metadata": {},
     "outputs": [
      {
       "output_type": "stream",
       "stream": "stdout",
       "text": [
        "Voltage at 220 kV bus = 224.63 kV \n",
        "Power factor at 220 kV bus = 0.9794 lagging \n"
       ]
      }
     ],
     "prompt_number": 2
    },
    {
     "cell_type": "heading",
     "level": 2,
     "metadata": {},
     "source": [
      "exa 6.3 page 202"
     ]
    },
    {
     "cell_type": "code",
     "collapsed": false,
     "input": [
      "from cmath import sinh, cosh, tan, sin\n",
      "import cmath as cmt\n",
      "l=350 #km(length of line)\n",
      "Z=cmt.rect(180,75*pi/180) #ohm/phase(Total)\n",
      "Y=cmt.rect(1*10**-3,90*pi/180) #Siemens/phase(Total)\n",
      "z=Z/l #ohm/km\n",
      "y=Y/l #Siemens/km\n",
      "re=l*cmt.sqrt(z*y) #\n",
      "Zc=cmt.sqrt(z/y) #ohm\n",
      "print \"Part(a) A,B,C,D parameters are : \" \n",
      "A=cosh(re) #unitless\n",
      "D=A #unitless\n",
      "B=Zc*sinh(re) #ohm\n",
      "C=sinh(re)/Zc #unitless\n",
      "A_mag=abs(A) #unitless\n",
      "A_angle=atan((A).imag/(A).real) #radian\n",
      "B_mag=abs(B) #ohm\n",
      "B_angle=atan((B).imag/(B).real) #radian\n",
      "C_mag=abs(C) #unitless\n",
      "C_angle=atan((C).imag/(C).real) #radian\n",
      "C_angle=(degrees(C_angle)+180)*180/pi #degree(Converting -ve to +ve angle)\n",
      "D_mag=abs(D) #unitless\n",
      "D_angle=atan((D).imag/(D).real) #radian\n",
      "print \"Magnitude of A : %0.2f \"% A_mag \n",
      "print \"Angle of A = %0.2f degree  \"%degrees(A_angle) \n",
      "print \"Magnitude of B = %0.2f ohm\"%B_mag \n",
      "print \"Angle of B = %0.2f degree \"%degrees(B_angle) \n",
      "print \"Magnitude of C : %0.2f\"%C_mag \n",
      "print \"Angle of C = %0.2f degree  \"%degrees(C_angle) \n",
      "print \"Magnitude of D : %0.2f\"%D_mag \n",
      "print \"Angle of D = %0.2f degree\" %degrees(D_angle)\n",
      "#60% series compensation\n",
      "B=B-1J*60/100*abs(Z)*sin(atan((Z).imag/(Z).real)) #ohm(considering series compensation=60%)\n",
      "#For Equivalent pi-circuit\n",
      "print \"Part(b) A,B,C,D parameters of compensated line are : \" \n",
      "Ydash=2/Zc*((cosh(re)-1)/sinh(re)) #S\n",
      "A=1+B*Ydash/2 #unitless\n",
      "D=A #unitless\n",
      "C=2*Ydash/2+B*(Ydash/2)**2 #unitless\n",
      "A_mag=abs(A) #unitless\n",
      "A_angle=atan((A).imag/(A).real) #radian\n",
      "B_mag=abs(B) #ohm\n",
      "B_angle=atan((B).imag/(B).real) #radian\n",
      "C_mag=abs(C) #unitless\n",
      "C_angle=atan((C).imag/(C).real) #radian\n",
      "C_angle=(degrees(C_angle)+180)*180/pi #radian(Converting -ve to +ve angle)\n",
      "D_mag=abs(D) #unitless\n",
      "D_angle=atan((D).imag/(D).real) #degree\n",
      "print \"Magnitude of A : %0.2f \"% A_mag \n",
      "print \"Angle of A = %0.2f degree  \"%degrees(A_angle) \n",
      "print \"Magnitude of B = %0.2f ohm\"%B_mag \n",
      "print \"Angle of B = %0.2f degree \"%degrees(B_angle) \n",
      "print \"Magnitude of C : %0.2f\"%C_mag \n",
      "print \"Angle of C = %0.2f degree  \"%degrees(C_angle) \n",
      "print \"Magnitude of D : %0.2f\"%D_mag \n",
      "print \"Angle of D = %0.2f degree\" %degrees(D_angle)\n",
      "#Answer for some parts are not accurate in the textbook."
     ],
     "language": "python",
     "metadata": {},
     "outputs": [
      {
       "output_type": "stream",
       "stream": "stdout",
       "text": [
        "Part(a) A,B,C,D parameters are : \n",
        "Magnitude of A : 0.91 \n",
        "Angle of A = 1.42 degree  \n",
        "Magnitude of B = 174.83 ohm\n",
        "Angle of B = 75.45 degree \n",
        "Magnitude of C : 0.00\n",
        "Angle of C = 296930.22 degree  \n",
        "Magnitude of D : 0.91\n",
        "Angle of D = 1.42 degree\n",
        "Part(b) A,B,C,D parameters of compensated line are : \n",
        "Magnitude of A : 0.97 \n",
        "Angle of A = 1.33 degree  \n",
        "Magnitude of B = 78.37 ohm\n",
        "Angle of B = 55.91 degree \n",
        "Magnitude of C : 0.00\n",
        "Angle of C = 296850.37 degree  \n",
        "Magnitude of D : 0.97\n",
        "Angle of D = 1.33 degree\n"
       ]
      }
     ],
     "prompt_number": 5
    },
    {
     "cell_type": "heading",
     "level": 2,
     "metadata": {},
     "source": [
      "exa 6.4 page 202"
     ]
    },
    {
     "cell_type": "code",
     "collapsed": false,
     "input": [
      "from cmath import rect, sqrt\n",
      "from numpy import conj\n",
      "l=350 #km(length of line)\n",
      "Z=rect(180,75*pi/180) #ohm/phase(Total)\n",
      "Y=rect(1*10**-3,90*pi/180) #Siemens/phase(Total)\n",
      "z=Z/l #ohm/km\n",
      "y=Y/l #Siemens/km\n",
      "re=l*sqrt(z*y) #\n",
      "Zc=sqrt(z/y) #ohm\n",
      "print \"For Uncompensated Line, Constants are :\" \n",
      "B=Z #ohm#B Parameter\n",
      "A=1+Z*Y/2 #unitless#A Parameter\n",
      "D=A #unitless#D Parameter\n",
      "C=Y*(1+Z*Y/4) #S#C Parameter\n",
      "A_mag=abs(A) #unitless\n",
      "A_angle=atan((A).imag/(A).real) #radian\n",
      "B_mag=abs(B) #ohm\n",
      "B_angle=atan((B).imag/(B).real) #radian\n",
      "C_mag=abs(C) #unitless\n",
      "C_angle=atan((C).imag/(C).real) #radian\n",
      "C_angle=(degrees(C_angle)+180)*180/pi #radian(Converting -ve to +ve angle)\n",
      "D_mag=abs(D) #unitless\n",
      "D_angle=atan((D).imag/(D).real) #degree\n",
      "print \"Magnitude and Angle of B = %0.2f ohm & %0.2f degree \"%(B_mag,B_angle) \n",
      "print \"Magnitude and Angle of A = %0.2f & %0.2f degree \"%(A_mag,A_angle) \n",
      "print \"Magnitude and Angle of D = %0.2f & %0.2f degree \"%(D_mag,D_angle) \n",
      "\n",
      "print \"Magnitude of C is %0.2f\"%C_mag \n",
      "print \"Angle of C = %0.2f degree\"%C_angle\n",
      "print \"For Compensated Line, Constants are :\" \n",
      "B=Z-0.6*1J*406 #ohm#B Parameter\n",
      "A=1+conj(B)*Y/2 #unitless#A Parameter\n",
      "D=A #unitless#D Parameter\n",
      "C=Y*(1+Z*Y/4) #S#C Parameter\n",
      "A_mag=abs(A) #unitless\n",
      "A_angle=atan((A).imag/(A).real) #radian\n",
      "B_mag=abs(B) #ohm\n",
      "B_angle=atan((B).imag/(B).real) #radian\n",
      "C_mag=abs(C) #unitless\n",
      "C_angle=atan((C).imag/(C).real) #radian\n",
      "C_angle=(degrees(C_angle)+180)*180/pi #radian(Converting -ve to +ve angle)\n",
      "D_mag=abs(D) #unitless\n",
      "D_angle=atan((D).imag/(D).real) #degree\n",
      "print \"Magnitude and Angle of B = %0.2f ohm & %0.2f degree \"%(B_mag,B_angle) \n",
      "print \"Magnitude and Angle of A = %0.2f & %0.2f degree \"%(A_mag,A_angle) \n",
      "print \"Magnitude and Angle of D = %0.2f & %0.2f degree \"%(D_mag,D_angle) \n",
      "print \"Magnitude of C is %0.2f\"%C_mag \n",
      "print \"Angle of C = %0.2f degree\"%C_angle\n"
     ],
     "language": "python",
     "metadata": {},
     "outputs": [
      {
       "output_type": "stream",
       "stream": "stdout",
       "text": [
        "For Uncompensated Line, Constants are :\n",
        "Magnitude and Angle of B = 180.00 ohm & 1.31 degree \n",
        "Magnitude and Angle of A = 0.91 & 0.03 degree \n",
        "Magnitude and Angle of D = 0.91 & 0.03 degree \n",
        "Magnitude of C is 0.00\n",
        "Angle of C = 5196.59 degree\n",
        "For Compensated Line, Constants are :\n",
        "Magnitude and Angle of B = 83.86 ohm & -0.98 degree \n",
        "Magnitude and Angle of A = 0.97 & 0.02 degree \n",
        "Magnitude and Angle of D = 0.97 & 0.02 degree \n",
        "Magnitude of C is 0.00\n",
        "Angle of C = 5196.59 degree\n"
       ]
      }
     ],
     "prompt_number": 6
    },
    {
     "cell_type": "heading",
     "level": 2,
     "metadata": {},
     "source": [
      "exa 6.5 page 203"
     ]
    },
    {
     "cell_type": "code",
     "collapsed": false,
     "input": [
      "kv1=220 #kv\n",
      "kv2=132 #kv\n",
      "baseMVA=200 #MVA\n",
      "#Base impedence in 132 kv circuit\n",
      "baseZ2=kv2**2/baseMVA #ohm\n",
      "z1=1J*75 #ohm\n",
      "z2=1J*70 #ohm\n",
      "z3=1J*90 #ohm\n",
      "z1=z1/baseZ2 #pu\n",
      "z2=z2/baseZ2 #pu\n",
      "z3=z3/baseZ2 #pu\n",
      "X_AD=1J*0.08+z1 #pu#Reactance from A to D\n",
      "X_BD=1J*0.08+z2 #pu#Reactance from A to D\n",
      "Zp=z3*X_AD*X_BD/(z3*X_AD+z3*X_BD+X_BD+X_AD) #parallel combination\n",
      "sc_D=baseMVA/abs(Zp) #MVA#Short Circuit MVA at D\n",
      "delQBYdelV=sc_D/kv2 #MVA/kv\n",
      "delQ=delQBYdelV*4 #MVar\n",
      "print \"Var injection at Bus D = %0.2f MVar\" %delQ\n",
      "#Answer in the textbook is not accurate."
     ],
     "language": "python",
     "metadata": {},
     "outputs": [
      {
       "output_type": "stream",
       "stream": "stdout",
       "text": [
        "Var injection at Bus D = 18.48 MVar\n"
       ]
      }
     ],
     "prompt_number": 7
    },
    {
     "cell_type": "heading",
     "level": 2,
     "metadata": {},
     "source": [
      "exa 6.6 page 204"
     ]
    },
    {
     "cell_type": "code",
     "collapsed": false,
     "input": [
      "from cmath import rect, acos\n",
      "A=rect(0.98,3*pi/180) #Constant\n",
      "B=rect(110,75*pi/180) #ohm/phase\n",
      "P=50 #MVA\n",
      "pf=0.8 #lagging\n",
      "V=132 #kV\n",
      "#Formula : Pr=|Vs|*|Vr|/|B|*cosd(Beta-delta)-|A|*|Vr|**2/|B|*cosd(Beta-alfa) :\n",
      "betaSUBdelta=acos((P*pf+abs(A)*V**2/abs(B)*cos(atan((B).imag/(B).real)-atan((A).imag/(A).real)))/V**2*abs(B)) \n",
      "Qr=V**2/abs(B)*sin(betaSUBdelta)-abs(A)*V**2/abs(B)*sin(atan((B).imag/(B).real)-atan((A).imag/(A).real)) #MVar\n",
      "Qr=P*0.6-Qr #MVar#Since load require lagging component\n",
      "print \"(a) Capacity of shunt compensation equipment = %0.2f MVar   \" %Qr.real\n",
      "#part(b)\n",
      "#Formula : Pr=|Vs|*|Vr|/|B|*cosd(Beta-delta)-|A|*|Vr|**2/|B|*cosd(Beta-alfa) :\n",
      "P=0 #MW\n",
      "betaSUBdelta=acos((P*pf+abs(A)*V**2/abs(B)*cos(atan((B).imag/B.real)-atan((A).imag/(A).real)))/V**2*abs(B)) \n",
      "Qr=V**2/abs(B)*sin(betaSUBdelta)-abs(A)*V**2/abs(B)*sin(atan((B).imag/(B).real)-atan((A).imag/(A).real)) #MVar\n",
      "Qr=P*0.6-Qr #MVar#Since load require lagging component\n",
      "print \"(b) Capacity of shunt compensation equipment = %0.2f MVar \"%-Qr.real "
     ],
     "language": "python",
     "metadata": {},
     "outputs": [
      {
       "output_type": "stream",
       "stream": "stdout",
       "text": [
        "(a) Capacity of shunt compensation equipment = 45.91 MVar   \n",
        "(b) Capacity of shunt compensation equipment = 3.33 MVar \n"
       ]
      }
     ],
     "prompt_number": 12
    },
    {
     "cell_type": "heading",
     "level": 2,
     "metadata": {},
     "source": [
      "exa 6.7 page 206"
     ]
    },
    {
     "cell_type": "code",
     "collapsed": false,
     "input": [
      "from math import acos, sin\n",
      "V=220 #kV\n",
      "Z=20+1J*60 #ohm\n",
      "Pr=100 #MVA\n",
      "pf=0.8 #lagging pf\n",
      "P=Pr*10**6*pf/3 #W\n",
      "theta=acos(pf) #radian\n",
      "Q=Pr*10**6*sin(theta)/3 #Vars\n",
      "V1=V/sqrt(3)*1000 #V\n",
      "V2=V1 #V\n",
      "#ts**2*[1-(R*P+X*Q)/V1/V2]=V2/V1\n",
      "ts=sqrt(V2/V1/(1-((Z).real*P+(Z).imag*Q)/V1/V2)) \n",
      "tr=1/ts \n",
      "print \"Tap settings : ts = %0.2f \"%ts.real\n",
      "print \"tr = %0.2f \"%tr.real"
     ],
     "language": "python",
     "metadata": {},
     "outputs": [
      {
       "output_type": "stream",
       "stream": "stdout",
       "text": [
        "Tap settings : ts = 1.06 \n",
        "tr = 0.94 \n"
       ]
      }
     ],
     "prompt_number": 15
    },
    {
     "cell_type": "heading",
     "level": 2,
     "metadata": {},
     "source": [
      "exa 6.8 page 207"
     ]
    },
    {
     "cell_type": "code",
     "collapsed": false,
     "input": [
      "from __future__ import division\n",
      "kV1=132 #kV\n",
      "kV2=33 #kV\n",
      "kV3=11 #kV\n",
      "MVA1=75 #MVA\n",
      "MVA2=50 #MVA\n",
      "MVA3=25 #MVA\n",
      "X=0.12 #p.u.\n",
      "#part(a)\n",
      "P=60 #MW\n",
      "V1=125 #kV\n",
      "V1=V1/kV1 #p.u.\n",
      "Q=MVA2/MVA1 #p.u.\n",
      "#V1=Vn+X*Q/Vn\n",
      "from sympy import symbols, solve\n",
      "Vn=symbols('Vn') \n",
      "eqn=Vn**2-V1*Vn+X*Q\n",
      "Vn=solve(eqn, Vn) #p.u.\n",
      "Vn=Vn[0] #p.u.\n",
      "Vn=Vn*kV1 #kV\n",
      "k=Vn/kV2 #Transformer ratio\n",
      "print \"Under Load condition, transformer ratio = %0.3f \"%k \n",
      "#part(b)\n",
      "V1=140 #kV\n",
      "V1=V1/kV1 #p.u.\n",
      "Q=MVA3/MVA1 #p.u.\n",
      "#V1=Vn+X*Q/Vn\n",
      "Vn=symbols('Vn') \n",
      "eqn=Vn**2-V1*Vn+X*Q\n",
      "Vn=solve(eqn, Vn) #p.u.\n",
      "Vn=Vn[0] #p.u.\n",
      "Vn=Vn*kV1 #kV\n",
      "k=Vn/kV2 #Transformer ratio\n",
      "print \"Under No Load condition, transformer ratio = %0.3f\" % k"
     ],
     "language": "python",
     "metadata": {},
     "outputs": [
      {
       "output_type": "stream",
       "stream": "stdout",
       "text": [
        "Under Load condition, transformer ratio = 0.375 \n",
        "Under No Load condition, transformer ratio = 0.157"
       ]
      },
      {
       "output_type": "stream",
       "stream": "stdout",
       "text": [
        "\n"
       ]
      }
     ],
     "prompt_number": 16
    },
    {
     "cell_type": "heading",
     "level": 2,
     "metadata": {},
     "source": [
      "exa 6.9 page 209"
     ]
    },
    {
     "cell_type": "code",
     "collapsed": false,
     "input": [
      "from math import tan, acos\n",
      "V=132 #kV\n",
      "Z=25+1J*66 #ohm\n",
      "Pr=100 #MW\n",
      "pf=0.9 #lagging pf\n",
      "P=Pr*10**6/3 #W\n",
      "theta=acos(pf) #radian\n",
      "Q=Pr*10**6*tan(theta)/3 #vars\n",
      "V1=V/sqrt(3)*1000 #V\n",
      "V2=V1 #V\n",
      "#ts**2*[1-(R*P+X*Q)/V1/V2]=V2/V1\n",
      "ts=sqrt(V2/V1/(1-((Z).real*P+(Z).imag*Q)/V1/V2)) \n",
      "tr=1/ts \n",
      "print \"Tap settings : ts = %0.2f \"%ts.real \n",
      "print \"tr = %0.2f \"%tr.real"
     ],
     "language": "python",
     "metadata": {},
     "outputs": [
      {
       "output_type": "stream",
       "stream": "stdout",
       "text": [
        "Tap settings : ts = 1.22 \n",
        "tr = 0.82 \n"
       ]
      }
     ],
     "prompt_number": 18
    }
   ],
   "metadata": {}
  }
 ]
}