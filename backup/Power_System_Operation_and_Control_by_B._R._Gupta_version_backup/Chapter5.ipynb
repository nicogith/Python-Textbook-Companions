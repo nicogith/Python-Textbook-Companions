{
 "metadata": {
  "name": "",
  "signature": "sha256:b45200f85baf8ca49b3eb8c7e7ad096c02135fdb6a27b2db5c0131f5c89667ec"
 },
 "nbformat": 3,
 "nbformat_minor": 0,
 "worksheets": [
  {
   "cells": [
    {
     "cell_type": "heading",
     "level": 1,
     "metadata": {},
     "source": [
      "Ch-5 : Load Frequency Control"
     ]
    },
    {
     "cell_type": "heading",
     "level": 2,
     "metadata": {},
     "source": [
      "exa 5.1 page 145"
     ]
    },
    {
     "cell_type": "code",
     "collapsed": false,
     "input": [
      "from __future__ import division\n",
      "P=100 #MW\n",
      "drop=4 #%(No load to full load drop)\n",
      "f=50 #Hz\n",
      "print \"Part(i)\" \n",
      "p=1 #MW(For calculating per unit MW)\n",
      "R=(drop/100)*f/p #Hz/p.u.MW\n",
      "print \"Speed regulation = %0.2f Hz/p.u.MW\" %R\n",
      "R=(drop/100)*f/P #Hz/MW\n",
      "print \"Speed regulation = %0.2f Hz/MW\" %R\n",
      "print \"Part(ii)\" \n",
      "del_f=-0.1 #Hz(Frequency drop)\n",
      "delP=-1/R*del_f #MW(Change in power output)\n",
      "print \"Change in power output = %0.2f MW \"%delP"
     ],
     "language": "python",
     "metadata": {},
     "outputs": [
      {
       "output_type": "stream",
       "stream": "stdout",
       "text": [
        "Part(i)\n",
        "Speed regulation = 2.00 Hz/p.u.MW\n",
        "Speed regulation = 0.02 Hz/MW\n",
        "Part(ii)\n",
        "Change in power output = 5.00 MW \n"
       ]
      }
     ],
     "prompt_number": 1
    },
    {
     "cell_type": "heading",
     "level": 2,
     "metadata": {},
     "source": [
      "exa 5.2 page 146"
     ]
    },
    {
     "cell_type": "code",
     "collapsed": false,
     "input": [
      "from math import sqrt\n",
      "P=100 #MVA\n",
      "f=50 #Hz\n",
      "H=5 #kW-sec/kVA(Constant)\n",
      "delP=50 #MW(Increased Load)\n",
      "td=0.5 #s(Time delay)\n",
      "P=P/1000 #kVA\n",
      "KE=P*H #kW-sec\n",
      "delP=delP/1000 #kW(Increased Load)\n",
      "KE_loss=delP*td #kW-s\n",
      "f_new=sqrt((KE-KE_loss)/KE)*f #Hz\n",
      "f_dev=(f-f_new)/f*100 #%(Frequency deviation)\n",
      "print \"Frequency deviation = %0.2f %%\"%f_dev"
     ],
     "language": "python",
     "metadata": {},
     "outputs": [
      {
       "output_type": "stream",
       "stream": "stdout",
       "text": [
        "Frequency deviation = 2.53 %\n"
       ]
      }
     ],
     "prompt_number": 2
    },
    {
     "cell_type": "heading",
     "level": 2,
     "metadata": {},
     "source": [
      "exa 5.3 page 146"
     ]
    },
    {
     "cell_type": "code",
     "collapsed": false,
     "input": [
      "P1=500 #MW\n",
      "P2=200 #MW\n",
      "f=50 #Hz\n",
      "delP=140 #MW(System load increase)\n",
      "f_new=49.5 #Hz(Frequency after drop)\n",
      "delP1=delP*P1/(P1+P2) #MW\n",
      "delP2=delP*P2/(P1+P2) #MW\n",
      "f_dev=f_new-f #Hz\n",
      "#For delPdash=0, R1 &R2 can be calculated as :\n",
      "R1=-1/delP1*f_dev #Hz/MW\n",
      "R2=-1/delP2*f_dev #Hz/MW\n",
      "print \"Value of R for unit 1 & 2 are : %0.4f & %0.4f Hz/MW \"%(R1, R2) "
     ],
     "language": "python",
     "metadata": {},
     "outputs": [
      {
       "output_type": "stream",
       "stream": "stdout",
       "text": [
        "Value of R for unit 1 & 2 are : 0.0050 & 0.0125 Hz/MW \n"
       ]
      }
     ],
     "prompt_number": 3
    },
    {
     "cell_type": "heading",
     "level": 2,
     "metadata": {},
     "source": [
      "exa 5.4 page 146"
     ]
    },
    {
     "cell_type": "code",
     "collapsed": false,
     "input": [
      "\n",
      "f=50 #Hz\n",
      "R=2 #Hz/pu MW\n",
      "Pr=10000 #MW(Rated Capacity)\n",
      "P=Pr/2 #MW(Operating Power)\n",
      "delP=2 #%(Load Increase)\n",
      "del_f=f*1/100 #Hz(1% change in frequency)\n",
      "del_PL=P*1/100 #MW(1% change in load)\n",
      "#Rate of change of load with frequency :\n",
      "D=del_PL/del_f #MW/Hz\n",
      "D=D/Pr #p.u. MW/Hz\n",
      "#Frequency response characteristic : \n",
      "Beta=D+1/R #p.u. MW/Hz\n",
      "M=delP/100*P #MW\n",
      "M=M/Pr #p.u. MW\n",
      "del_fo=-M/Beta #Hz\n",
      "print \"Static frequency drop = %0.2f Hz\"%del_fo\n",
      "R=float('inf')\n",
      "Beta=D+1/R #p.u. MW/Hz\n",
      "del_fo=-M/Beta #Hz\n",
      "print \"If speed governer loop is open, frequency drop = %0.2f Hz \"%del_fo"
     ],
     "language": "python",
     "metadata": {},
     "outputs": [
      {
       "output_type": "stream",
       "stream": "stdout",
       "text": [
        "Static frequency drop = -0.02 Hz\n",
        "If speed governer loop is open, frequency drop = -1.00 Hz \n"
       ]
      }
     ],
     "prompt_number": 4
    },
    {
     "cell_type": "heading",
     "level": 2,
     "metadata": {},
     "source": [
      "exa 5.5 page 147"
     ]
    },
    {
     "cell_type": "code",
     "collapsed": false,
     "input": [
      "C=10000 #MW(Control area capacity)\n",
      "P=5000 #MW\n",
      "H=5 #s\n",
      "R=3 #Hz/pu MW\n",
      "f=50 #Hz\n",
      "del_f=f*1/100 #Hz\n",
      "del_PL=P*1/100 #MW\n",
      "D=del_PL/del_f #MW/Hz\n",
      "D=D/C #p.u. MW/Hz\n",
      "#Primary ALFC loop parameters :\n",
      "Kp=1/D #Hz/p.u. MW\n",
      "Tp=2*H/f/D #s\n",
      "print \"Primary ALFC loop parameters :\"\n",
      "print \"Kp = %0.2f Hz/p.u. MW \"%Kp \n",
      "print \"Tp = %0.2f seconds \"%Tp"
     ],
     "language": "python",
     "metadata": {},
     "outputs": [
      {
       "output_type": "stream",
       "stream": "stdout",
       "text": [
        "Primary ALFC loop parameters :\n",
        "Kp = 100.00 Hz/p.u. MW \n",
        "Tp = 20.00 seconds \n"
       ]
      }
     ],
     "prompt_number": 5
    },
    {
     "cell_type": "heading",
     "level": 2,
     "metadata": {},
     "source": [
      "exa 5.6 page 147"
     ]
    },
    {
     "cell_type": "code",
     "collapsed": false,
     "input": [
      "f=50 #Hz\n",
      "R=2 #Hz/pu MW\n",
      "Pr=10000 #MW(Rated Capacity)\n",
      "P=Pr/2 #MW(Operating Power)\n",
      "delP=2 #%(Load Increase)\n",
      "del_f=f*1/100 #Hz(1% change in frequency)\n",
      "del_PL=P*1/100 #MW(1% change in load)\n",
      "#Rate of change of load with frequency :\n",
      "D=del_PL/del_f #MW/Hz\n",
      "D=D/Pr #p.u. MW/Hz\n",
      "#Frequency response characteristic : \n",
      "Beta=D+1/R #p.u. MW/Hz\n",
      "M=delP/100*P #MW\n",
      "M=M/Pr #p.u. MW\n",
      "del_fo=-M/Beta #Hz\n",
      "delP_fo=-del_fo*(D*Pr) #MW\n",
      "print \"Frequency drop contribution to increase in load = %0.2f MW\" %delP_fo\n",
      "delP_gen=-del_fo/R*Pr #MW\n",
      "print \"Increase in generation to meet the increase load = %.2f MW \" %delP_gen "
     ],
     "language": "python",
     "metadata": {},
     "outputs": [
      {
       "output_type": "stream",
       "stream": "stdout",
       "text": [
        "Frequency drop contribution to increase in load = 1.96 MW\n",
        "Increase in generation to meet the increase load = 98.04 MW \n"
       ]
      }
     ],
     "prompt_number": 6
    },
    {
     "cell_type": "heading",
     "level": 2,
     "metadata": {},
     "source": [
      "exa 5.7 page 152"
     ]
    },
    {
     "cell_type": "code",
     "collapsed": false,
     "input": [
      "G=100 #MVA\n",
      "f=50 #Hz\n",
      "n=3000 #rpm\n",
      "L=25 #MW#Load\n",
      "td=0.5 #sec\n",
      "H=4.5 #MW-sec/MVA\n",
      "#Calculation\n",
      "KE=H*G #MW-sec##at no load\n",
      "KE_Loss=L*td #MW-sec#/due to increase in load\n",
      "f_new=sqrt((KE-KE_Loss)/KE)*f #Hz\n",
      "delF=(f-f_new)/f*100 #%##frequency deviation\n",
      "print \"Frequency deviation = %0.2f %%\" %delF"
     ],
     "language": "python",
     "metadata": {},
     "outputs": [
      {
       "output_type": "stream",
       "stream": "stdout",
       "text": [
        "Frequency deviation = 1.40 %\n"
       ]
      }
     ],
     "prompt_number": 7
    },
    {
     "cell_type": "heading",
     "level": 2,
     "metadata": {},
     "source": [
      "exa 5.8 page 152"
     ]
    },
    {
     "cell_type": "code",
     "collapsed": false,
     "input": [
      "C=4000 #MW\n",
      "f=50 #Hz\n",
      "L=2500 #MW#Load\n",
      "R=2 #Hz/p.u.MW##Speed regulation constant\n",
      "H=5 #sec##Inertia constant\n",
      "delPL=2 #%##change in load\n",
      "delf=1 #%##change in frequency\n",
      "print \"Part(a)\" \n",
      "D=delPL/delf*L/f #MW/Hz\n",
      "D=D/C #p.u.MW/Hz\n",
      "Beta=D+1/R #p.u.MW/Hz\n",
      "delf0=-0.2 #Hz\n",
      "M=-(delf0)*Beta #p.u.MW\n",
      "M=M*C #MW\n",
      "print \"Largest change in step load = %0.2f MW \"%M \n",
      "print \"Part(b)\" \n",
      "Kp=1/D #Hz/p.u.MW\n",
      "Tp=2*H/f/D #sec\n",
      "Tdash=(R+Kp)/R/Tp #sec\n",
      "print \"(R+Kp)/(R*Tp) = %0.2f seconds \"%(Tdash) \n",
      "print 'Change in frequency as a funtion of time, \\ndelf(t) = -0.2*(1-epsilon**(%.3f*t))'%(Tdash) "
     ],
     "language": "python",
     "metadata": {},
     "outputs": [
      {
       "output_type": "stream",
       "stream": "stdout",
       "text": [
        "Part(a)\n",
        "Largest change in step load = 420.00 MW \n",
        "Part(b)\n",
        "(R+Kp)/(R*Tp) = 2.62 seconds \n",
        "Change in frequency as a funtion of time, \n",
        "delf(t) = -0.2*(1-epsilon**(2.625*t))\n"
       ]
      }
     ],
     "prompt_number": 8
    },
    {
     "cell_type": "heading",
     "level": 2,
     "metadata": {},
     "source": [
      "exa 5.9 page 153"
     ]
    },
    {
     "cell_type": "code",
     "collapsed": false,
     "input": [
      "C=4000 #MW\n",
      "f=50 #Hz\n",
      "L=C #MW#Load\n",
      "R=2.5 #%##Speed regulation constant\n",
      "H=5 #sec##Inertia constant\n",
      "delPL=1 #%##change in load\n",
      "delf=1 #%##change in frequency\n",
      "print \"Part(a)\" \n",
      "Ls=80 #MW #increase in step to load\n",
      "R=R/100*f #z/p.u.MW\n",
      "D=delPL/delf*L/f #MW/Hz\n",
      "D=D/C #p.u.MW/Hz\n",
      "M=Ls/L #unitless#for given step load\n",
      "Kp=1/D #Hz/p.u.MW\n",
      "Tp=2*H/f/D #sec\n",
      "Tdash1=(R+Kp)/R/Tp #sec\n",
      "print \"(R+Kp)/(R*Tp) = %0.2f seconds \"%Tdash1 \n",
      "Tdash2=(R*Kp*M)/(R+Kp) #sec\n",
      "print \"(R*Kp*M)/(R+Kp) = %0.2f seconds\"%Tdash2\n",
      "delf0=-Tdash2 #Hz##Static frequency error\n",
      "print \"Static frequency error = %0.2f Hz \"%delf0 \n",
      "print \"Part(b)\" \n",
      "Ki=(1+Kp/R)**2/4/Tp/Kp #p.u.MW/Hz\n",
      "print \"Critical value of Ki = %0.2f p.u.MW/Hz \"%Ki"
     ],
     "language": "python",
     "metadata": {},
     "outputs": [
      {
       "output_type": "stream",
       "stream": "stdout",
       "text": [
        "Part(a)\n",
        "(R+Kp)/(R*Tp) = 4.10 seconds \n",
        "(R*Kp*M)/(R+Kp) = 0.02 seconds\n",
        "Static frequency error = -0.02 Hz \n",
        "Part(b)\n",
        "Critical value of Ki = 0.84 p.u.MW/Hz \n"
       ]
      }
     ],
     "prompt_number": 9
    },
    {
     "cell_type": "heading",
     "level": 2,
     "metadata": {},
     "source": [
      "exa 5.10 page 154"
     ]
    },
    {
     "cell_type": "code",
     "collapsed": false,
     "input": [
      "from sympy import symbols, solve\n",
      "s=symbols('s') #for transfer function\n",
      "Tg=0.2 #sec#/time constant of governing system\n",
      "Tt=2 #sec#/time constant of turbine\n",
      "Gr=1/(1+Tg*s) #Transfer function of governer\n",
      "Gt=1/(1+Tt*s) #Transfer function of turbine\n",
      "C=1500 #MW\n",
      "f=50 #Hz\n",
      "R=4 #%##Speed regulation constant\n",
      "H=5 #sec##Inertia constant\n",
      "delPL=1 #%##change in load\n",
      "delf=1 #%##change in frequency\n",
      "print \"Part(a)\" \n",
      "R=R/100*f #z/p.u.MW\n",
      "D=delPL/delf*C/f #MW/Hz\n",
      "D=D/C #p.u.MW/Hz\n",
      "Kp=1/D #Hz/p.u.MW\n",
      "Tp=2*H/f/D #sec\n",
      "Gp=Kp/(1+Tp*s) #Transfer function of power system\n",
      "delFs=-Gp/(1+Gr*Gt*Gp/R) \n",
      "print \"delFs = M/s*\",delFs \n",
      "print \"Part(b)\" \n",
      "delf0_by_M=-Kp/(1+Kp/R) #Hz\n",
      "delf0=delf/100*f #Hz\n",
      "M=delf0/delf0_by_M #p.u.MW\n",
      "M=M*C #MW\n",
      "print \"Largest step change = %0.2f MW \"%M \n",
      "#Transfer functions multiplication Gr*Gt*Gp is calculated & it is not possible to show together without calculated as in the book."
     ],
     "language": "python",
     "metadata": {},
     "outputs": [
      {
       "output_type": "stream",
       "stream": "stdout",
       "text": [
        "Part(a)\n",
        "delFs = M/s* -50.0/((1 + 25.0/((0.2*s + 1)*(2*s + 1)*(10.0*s + 1)))*(10.0*s + 1))\n",
        "Part(b)\n",
        "Largest step change = -390.00 MW \n"
       ]
      }
     ],
     "prompt_number": 10
    },
    {
     "cell_type": "heading",
     "level": 2,
     "metadata": {},
     "source": [
      "exa 5.11 page 157"
     ]
    },
    {
     "cell_type": "code",
     "collapsed": false,
     "input": [
      "GA=5000 #MW\n",
      "GB=10000 #MW\n",
      "R=2 #Hz/p.u.MW##Speed regulation constant\n",
      "D=0.01 #p.u.MW/Hz\n",
      "Ls=100 #MW#Load increase\n",
      "RA=R*GB/GA #Hz/p.u.MW\n",
      "DA=D*GA/GB #p.u.MW/Hz\n",
      "RB=R #Hz/p.u.MW\n",
      "DB=D #p.u.MW/Hz\n",
      "Beta_A=DA+1/RA #p.u.MW/Hz\n",
      "Beta_B=DB+1/RB #p.u.MW/Hz\n",
      "MA=0 #Load increase\n",
      "MB=Ls/GB #p.u.MW\n",
      "delf0=-MB/(Beta_A+Beta_B) #Hz\n",
      "print \"Static frequency drop = %0.2f Hz \"%delf0 \n",
      "delPAB=Beta_A*MB/(Beta_A+Beta_B) #p.u.MW\n",
      "delPAB=delPAB*GB #MW\n",
      "print \"Change in tie line power = %0.2f MW \"%delPAB "
     ],
     "language": "python",
     "metadata": {},
     "outputs": [
      {
       "output_type": "stream",
       "stream": "stdout",
       "text": [
        "Static frequency drop = -0.01 Hz \n",
        "Change in tie line power = 33.33 MW \n"
       ]
      }
     ],
     "prompt_number": 11
    },
    {
     "cell_type": "heading",
     "level": 2,
     "metadata": {},
     "source": [
      "exa 5.12 page 159"
     ]
    },
    {
     "cell_type": "code",
     "collapsed": false,
     "input": [
      "GA=500 #MW\n",
      "GB=2000 #MW\n",
      "RA=2.5 #Hz/p.u.MW##Speed regulation constant\n",
      "RB=2 #Hz/p.u.MW##Speed regulation constant\n",
      "Ls=20 #MW#Load increase\n",
      "f=50 #Hz\n",
      "delL=1 #%##change in load\n",
      "delf=1 #%##change in frequency\n",
      "DA=delL/delf*GA/f #MW/Hz\n",
      "DA=DA/GB #p.u.MW/Hz\n",
      "DB=delL/delf*GB/f #MW/Hz\n",
      "DB=DB/GB #p.u.MW/Hz\n",
      "RA=RA*GB/GA #Hz/p.u.MW\n",
      "Beta_A=DA+1/RA #p.u.MW/Hz\n",
      "Beta_B=DB+1/RB #p.u.MW/Hz\n",
      "print \"Part(a)\" \n",
      "MA=Ls/GB #unitless\n",
      "MB=0 #unitless\n",
      "delf0=-MA/(Beta_A+Beta_B) #Hz\n",
      "print \"Change in frequency = %0.2f Hz \"%delf0 \n",
      "delPAB=-Beta_B*MA/(Beta_B+Beta_A) #p.u.MW\n",
      "delPAB=delPAB*GB #MW\n",
      "print \"Change in tie line power = %0.2f MW \"%delPAB \n",
      "print \"Part(b)\" \n",
      "MB=Ls/GB #unitless\n",
      "MA=0 #unitless\n",
      "delf0=-MB/(Beta_A+Beta_B) #Hz\n",
      "print \"Change in frequency = %0.2f Hz \"%delf0 \n",
      "delPAB=Beta_A*MB/(Beta_B+Beta_A) #p.u.MW\n",
      "delPAB=delPAB*GB #MW\n",
      "print \"Change in tie line power = %0.2f MW \"%delPAB "
     ],
     "language": "python",
     "metadata": {},
     "outputs": [
      {
       "output_type": "stream",
       "stream": "stdout",
       "text": [
        "Part(a)\n",
        "Change in frequency = -0.02 Hz \n",
        "Change in tie line power = -16.64 MW \n",
        "Part(b)\n",
        "Change in frequency = -0.02 Hz \n",
        "Change in tie line power = 3.36 MW \n"
       ]
      }
     ],
     "prompt_number": 12
    },
    {
     "cell_type": "heading",
     "level": 2,
     "metadata": {},
     "source": [
      "exa 5.13 page 160"
     ]
    },
    {
     "cell_type": "code",
     "collapsed": false,
     "input": [
      "from math import cos, pi\n",
      "G=4000 #MW\n",
      "R=2 #Hz/p.u.MW##Speed regulation constant\n",
      "H=5 #sec\n",
      "C=600 #MW#Capacity\n",
      "theta=40 #degree#/Power angle\n",
      "f=50 #Hz\n",
      "print \"Part(a)\" \n",
      "T=C/G*cos(pi/180*theta) #sec\n",
      "omega0=sqrt((2*pi*f*T/H-(f/4/R/H)**2)) #radian/sec\n",
      "print \"Frequency of oscillation = %0.2f radian/sec \"%omega0 \n",
      "print \"Part(b)\" \n",
      "delLB=100 #MW#change in load in area B\n",
      "delPAB=delLB/2 #MW#because Beta_A=Beta_B\n",
      "print \"Change in tie line power = %0.2f MW \"%delPAB \n",
      "print \"Part(c)\" \n",
      "omega0=sqrt((2*pi*f*T/H)) #radian/sec\n",
      "print \"Frequency of oscillation = %0.2f radian/sec \"%omega0"
     ],
     "language": "python",
     "metadata": {},
     "outputs": [
      {
       "output_type": "stream",
       "stream": "stdout",
       "text": [
        "Part(a)\n",
        "Frequency of oscillation = 2.38 radian/sec \n",
        "Part(b)\n",
        "Change in tie line power = 50.00 MW \n",
        "Part(c)\n",
        "Frequency of oscillation = 2.69 radian/sec \n"
       ]
      }
     ],
     "prompt_number": 13
    },
    {
     "cell_type": "heading",
     "level": 2,
     "metadata": {},
     "source": [
      "exa 5.14 page 168"
     ]
    },
    {
     "cell_type": "code",
     "collapsed": false,
     "input": [
      "C1=300 #MW\n",
      "C2=400 #MW\n",
      "G1=4 #%#droop characteristics of governer\n",
      "G2=5 #%#droop characteristics of governer\n",
      "L=600 #MW\n",
      "f=50 #Hz\n",
      "#Load on first generator =L1\n",
      "#Load on second generator =L-L1\n",
      "#f-G1*f/100*(L1/C1)=f-G2*f/100*(L2/C2)\n",
      "L1=G2*L/C2/(G1/C1+G2/C2) #MW\n",
      "L2=L-L1 #MW\n",
      "print \"Load on first generator = %0.2f MW \"%L1 \n",
      "print \"Load on second generator = %0.2f MW \"%L2 \n",
      "fLoad=f*(1-L1/C1*G1/100) #Hz\n",
      "print \"Frequency at load = %0.2f Hz \"%fLoad"
     ],
     "language": "python",
     "metadata": {},
     "outputs": [
      {
       "output_type": "stream",
       "stream": "stdout",
       "text": [
        "Load on first generator = 290.32 MW \n",
        "Load on second generator = 309.68 MW \n",
        "Frequency at load = 48.06 Hz \n"
       ]
      }
     ],
     "prompt_number": 14
    },
    {
     "cell_type": "heading",
     "level": 2,
     "metadata": {},
     "source": [
      "exa 5.15  page 169"
     ]
    },
    {
     "cell_type": "code",
     "collapsed": false,
     "input": [
      "G=100 #MVA\n",
      "f=50 #Hz\n",
      "delL=50 #MW\n",
      "Tc=0.4 #sec\n",
      "H=5 #/kWs/kVA\n",
      "KE=G*1000*H #kWs\n",
      "delKE=delL*1000*Tc ##kWs#/due to decrease in load\n",
      "fnew=sqrt((KE+delKE)/KE) *f #Hz\n",
      "fdev=(fnew-f)/f*100 #%\n",
      "print \"New frequency = %0.2f Hz \"%fnew \n",
      "print \"Frequency deviation = %0.2f %%\"%fdev"
     ],
     "language": "python",
     "metadata": {},
     "outputs": [
      {
       "output_type": "stream",
       "stream": "stdout",
       "text": [
        "New frequency = 50.99 Hz \n",
        "Frequency deviation = 1.98 %\n"
       ]
      }
     ],
     "prompt_number": 15
    },
    {
     "cell_type": "heading",
     "level": 2,
     "metadata": {},
     "source": [
      "exa 5.16 page 169"
     ]
    },
    {
     "cell_type": "code",
     "collapsed": false,
     "input": [
      "G=100 #MVA\n",
      "f=50 #Hz\n",
      "delL=60 #MW\n",
      "Tc=0.35 #sec\n",
      "H=5 #/kWs/kVA\n",
      "KE=G*1000*H #kWs\n",
      "delKE=(G-delL)*1000*Tc ##kWs#/due to decrease in load\n",
      "fnew=sqrt((KE+delKE)/KE) *f #Hz\n",
      "fdev=(fnew-f)/f*100 #%\n",
      "print \"New frequency = %0.2f Hz \"%fnew \n",
      "print \"Frequency deviation = %0.2f %%\" %fdev"
     ],
     "language": "python",
     "metadata": {},
     "outputs": [
      {
       "output_type": "stream",
       "stream": "stdout",
       "text": [
        "New frequency = 50.70 Hz \n",
        "Frequency deviation = 1.39 %\n"
       ]
      }
     ],
     "prompt_number": 16
    },
    {
     "cell_type": "heading",
     "level": 2,
     "metadata": {},
     "source": [
      "exa 5.17 page 169"
     ]
    },
    {
     "cell_type": "code",
     "collapsed": false,
     "input": [
      "KE=1500 #MJ\n",
      "Pin=5 #MW\n",
      "f=50 #Hz\n",
      "t=1 #sec\n",
      "delKE=Pin*t ##MJ#/due to power inputs\n",
      "fnew=sqrt((KE+delKE)/KE) *f #Hz\n",
      "delf=fnew-f #/Hz/second\n",
      "print \"Frequency increase rate = %0.2f Hz/sec \"%delf"
     ],
     "language": "python",
     "metadata": {},
     "outputs": [
      {
       "output_type": "stream",
       "stream": "stdout",
       "text": [
        "Frequency increase rate = 0.08 Hz/sec \n"
       ]
      }
     ],
     "prompt_number": 17
    },
    {
     "cell_type": "heading",
     "level": 2,
     "metadata": {},
     "source": [
      "exa 5.18 page 169"
     ]
    },
    {
     "cell_type": "code",
     "collapsed": false,
     "input": [
      "C=2000 #MW#/Capacity\n",
      "L=1000 #MW#Load\n",
      "H=5 #kWs/KVA\n",
      "R=2.4 #Hz/puMW#Regulation\n",
      "f=50 #Hz\n",
      "delL=1 #%##change in load\n",
      "delf=1 #%##change in frequency\n",
      "D=delL/delf*L/f #MW/Hz\n",
      "D=D/C #p.u.MW/Hz\n",
      "Kp=1/D #Hz/p.u.MW\n",
      "Tp=2*H/f/D #sec\n",
      "print \"Primary ALFC loop parameters are : \" \n",
      "print \"D = \",D,\"p.u.MW/Hz\" \n",
      "print \"Kp = \",Kp,\"Hz/p.u.MW\" \n",
      "print \"Tp = \",Tp,\"sec \" "
     ],
     "language": "python",
     "metadata": {},
     "outputs": [
      {
       "output_type": "stream",
       "stream": "stdout",
       "text": [
        "Primary ALFC loop parameters are : \n",
        "D =  0.01 p.u.MW/Hz\n",
        "Kp =  100.0 Hz/p.u.MW\n",
        "Tp =  20.0 sec \n"
       ]
      }
     ],
     "prompt_number": 18
    },
    {
     "cell_type": "heading",
     "level": 2,
     "metadata": {},
     "source": [
      "exa 5.19 page 170"
     ]
    },
    {
     "cell_type": "code",
     "collapsed": false,
     "input": [
      "Tp=10 #sec\n",
      "Tg=0 #sec\n",
      "Tt=0 #sec\n",
      "Kp=100 #Hz/p.u.MW\n",
      "R=3 #/Hz/CuMW\n",
      "delPD=0.1 #p.u.\n",
      "Ki=0.1 #constant\n",
      "f=50 #Hz\n",
      "from sympy import symbols\n",
      "s=symbols('s') \n",
      "delFs=-Kp/Tp*(delPD/(s**2+s*((1+Kp/R)/Tp)+Ki*Kp/Tp))\n",
      "n=1 #cycle\n",
      "time_error=n/f #sec\n",
      "print \"Total time error = %0.3f sec\"%time_error"
     ],
     "language": "python",
     "metadata": {},
     "outputs": [
      {
       "output_type": "stream",
       "stream": "stdout",
       "text": [
        "Total time error = 0.020 sec\n"
       ]
      }
     ],
     "prompt_number": 19
    },
    {
     "cell_type": "heading",
     "level": 2,
     "metadata": {},
     "source": [
      "exa 5.20 page 171"
     ]
    },
    {
     "cell_type": "code",
     "collapsed": false,
     "input": [
      "L=14 #MW#Total Load\n",
      "C1=15 #MW\n",
      "R1=3 #%#speed regulation\n",
      "C2=4 #MW\n",
      "R2=4 #%#speed regulation\n",
      "LB=4 #MW#Load on bus bar\n",
      "LA=10 #MW#/Load on bus bar\n",
      "f=50 #Hz\n",
      "#Load on station A= L1 MW\n",
      "#Load on station B= L-L1 MW\n",
      "#f-C1*f/100*(L1/C1)=f-C2*f/100*(L2/C2)\n",
      "L1=R2*L/C2/(R1/C1+R2/C2) #MW\n",
      "L2=L-L1 #MW\n",
      "print \"Load generation at station A = %0.2f MW \"%L1 \n",
      "print \"Load generation at station B = %0.2f MW \"%L2\n",
      "Pt=L1-LA #MW#Power transmitted A to B\n",
      "f_oper=f-R1/100/C1*(L1)*f #Hz\n",
      "print \"Operating Frequency = %0.2f Hz \"%f_oper "
     ],
     "language": "python",
     "metadata": {},
     "outputs": [
      {
       "output_type": "stream",
       "stream": "stdout",
       "text": [
        "Load generation at station A = 11.67 MW \n",
        "Load generation at station B = 2.33 MW \n",
        "Operating Frequency = 48.83 Hz \n"
       ]
      }
     ],
     "prompt_number": 20
    },
    {
     "cell_type": "heading",
     "level": 2,
     "metadata": {},
     "source": [
      "exa 5.21 page 171"
     ]
    },
    {
     "cell_type": "code",
     "collapsed": false,
     "input": [
      "C1=300 #MW\n",
      "C2=400 #MW\n",
      "G1=4 #%#droop characteristics of governer\n",
      "G2=6 #%#droop characteristics of governer\n",
      "L=400 #MW\n",
      "f=50 #Hz\n",
      "L1=C1*L/(C1+C2) #MW#Load on 300 MW generator\n",
      "L2=L*C2/(C1+C2) #MW#Load on 400 MW generator\n",
      "f01=f*(C1)/(C1-G1/100*L1) #Hz#/No load frequency\n",
      "print \"No load frequency of 300 MW generator = %0.2f Hz \"%f01 \n",
      "f02=f*(C2)/(C2-G2/100*L2) #Hz#/No load frequency\n",
      "print \"No load frequency of 400 MW generator = %0.2f Hz \"%f02"
     ],
     "language": "python",
     "metadata": {},
     "outputs": [
      {
       "output_type": "stream",
       "stream": "stdout",
       "text": [
        "No load frequency of 300 MW generator = 51.17 Hz \n",
        "No load frequency of 400 MW generator = 51.78 Hz \n"
       ]
      }
     ],
     "prompt_number": 21
    },
    {
     "cell_type": "heading",
     "level": 2,
     "metadata": {},
     "source": [
      "exa 5.22 page 174"
     ]
    },
    {
     "cell_type": "code",
     "collapsed": false,
     "input": [
      "C1=200 #MW\n",
      "C2=100 #MW\n",
      "R1=1.5 #%#speed regulation\n",
      "R2=3 #%#speed regulation\n",
      "L=100 #MW#/Load on each bus\n",
      "f=50 #Hz\n",
      "RA=R1/100*f/C1 #Hz/MW\n",
      "RB=R2/100*f/C2 #Hz/MW\n",
      "#Let PA= generation at plant A\n",
      "#PB=2*L-PA will be generation at plant B\n",
      "#RA*PA=RB*PB\n",
      "PA=RB*2*L/(RA+RB) #MW\n",
      "PB=2*L-PA #MW\n",
      "print \"Load generation at plant A = %0.2f MW \"%PA \n",
      "print \"Load generation at plant B = %0.2f MW \"%PB\n",
      "Pt=PA-L #MW#/Power transfer\n",
      "print \"Power transfer from A to B = %0.2f MW \"%Pt "
     ],
     "language": "python",
     "metadata": {},
     "outputs": [
      {
       "output_type": "stream",
       "stream": "stdout",
       "text": [
        "Load generation at plant A = 160.00 MW \n",
        "Load generation at plant B = 40.00 MW \n",
        "Power transfer from A to B = 60.00 MW \n"
       ]
      }
     ],
     "prompt_number": 22
    },
    {
     "cell_type": "heading",
     "level": 2,
     "metadata": {},
     "source": [
      "exa 5.23 page 174"
     ]
    },
    {
     "cell_type": "code",
     "collapsed": false,
     "input": [
      "from math import acos\n",
      "Z=1.5+1J*2.5 #ohm\n",
      "V=11 #kV\n",
      "P=20 #MW\n",
      "pf=0.8 #power factor\n",
      "theta=acos(pf*pi/180) \n",
      "I=P*1000/sqrt(3)/V/pf #\n",
      "from cmath import rect\n",
      "I=rect(I,-theta*pi/180) #A\\\n",
      "Vdrop=I*Z #V\n",
      "Vboost=Vdrop #V\n",
      "print \"Voltage boost needed at station A = \",(Vboost),\"V\""
     ],
     "language": "python",
     "metadata": {},
     "outputs": [
      {
       "output_type": "stream",
       "stream": "stdout",
       "text": [
        "Voltage boost needed at station A =  (2056.63661402+3225.71419437j) V\n"
       ]
      }
     ],
     "prompt_number": 23
    },
    {
     "cell_type": "heading",
     "level": 2,
     "metadata": {},
     "source": [
      "exa 5.24 page 174"
     ]
    },
    {
     "cell_type": "code",
     "collapsed": false,
     "input": [
      "from math import degrees, atan, sin, acos, cos, pi\n",
      "Z=3+1J*9 #%#/impedence\n",
      "Z=Z/100 #p.u.#/Impedence\n",
      "I=1 #p.u.\n",
      "IZ=Z #p.u.\n",
      "print \"Part(a)\" \n",
      "#2*I**2-2*cos(del)=[abs(IZ)]**2\n",
      "cos_del=degrees(acos((2*I**2-(abs(IZ))**2)/2)) #degree\n",
      "print \"Phase angle between two station = %0.2f degree \"%cos_del \n",
      "angle_abc=87.277 #/degree\n",
      "theta=180-angle_abc-degrees(atan((IZ).imag/(IZ).real)) #degree\n",
      "Preal=I**2*cos(pi/180*theta) #p.u.\n",
      "print \"Real power transfer = %0.2f p.u. \"%Preal \n",
      "Preactive=I**2*sin(pi/180*theta) #p.u.\n",
      "print \"Reactive power transfer = %0.2f p.u.\"%Preactive \n",
      "print \"Part(b)\" \n",
      "#1.05**2+1**2-2*1.05*cos(del)=[abs(IZ)]**2\n",
      "cos_del=degrees(acos((1.05**2+1**2-(abs(IZ))**2)/2/1.05)) #degree\n",
      "print \"Phase angle between two station = %0.2f degree \"%cos_del \n",
      "angle_dbc=60.53 #/degree\n",
      "theta=degrees(atan((IZ).imag/(IZ).real))-angle_dbc#degree\n",
      "Preal=I**2*cos(pi/180*theta) #p.u.\n",
      "print \"Real power transfer = %0.2f p.u. \"%Preal \n",
      "Preactive=I**2*sin(pi/180*theta) #p.u.\n",
      "print \"Reactive power transfer = %0.2f p.u. \"%Preactive \n",
      "#Answer in the textbook is not accurate."
     ],
     "language": "python",
     "metadata": {},
     "outputs": [
      {
       "output_type": "stream",
       "stream": "stdout",
       "text": [
        "Part(a)\n",
        "Phase angle between two station = 5.44 degree \n",
        "Real power transfer = 0.93 p.u. \n",
        "Reactive power transfer = 0.36 p.u.\n",
        "Part(b)\n",
        "Phase angle between two station = 4.51 degree \n",
        "Real power transfer = 0.98 p.u. \n",
        "Reactive power transfer = 0.19 p.u. \n"
       ]
      }
     ],
     "prompt_number": 24
    }
   ],
   "metadata": {}
  }
 ]
}