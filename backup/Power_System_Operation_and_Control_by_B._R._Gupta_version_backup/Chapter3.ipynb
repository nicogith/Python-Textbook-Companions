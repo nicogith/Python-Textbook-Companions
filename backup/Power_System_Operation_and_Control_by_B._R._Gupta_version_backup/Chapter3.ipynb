{
 "metadata": {
  "name": "",
  "signature": "sha256:069f3652d0985b68c88deb4b29ec7c9faf615f62221a7a1d559cf07f972df11e"
 },
 "nbformat": 3,
 "nbformat_minor": 0,
 "worksheets": [
  {
   "cells": [
    {
     "cell_type": "heading",
     "level": 1,
     "metadata": {},
     "source": [
      "Ch-3 : Hydrothermal Coordination"
     ]
    },
    {
     "cell_type": "heading",
     "level": 2,
     "metadata": {},
     "source": [
      "exa 3.1 page 83"
     ]
    },
    {
     "cell_type": "code",
     "collapsed": false,
     "input": [
      "from __future__ import division\n",
      "head=205 #m(Mean Head)\n",
      "A=1000 #km**2(Catchment area)\n",
      "rf=125 #cm(Annual Rainfall)\n",
      "a=80 #%(Available rainfall for power generation)\n",
      "LF=75 #%(Load factor)\n",
      "head_loss=5 #m(Head Loss)\n",
      "Eta_turbine=0.9 #Efficiency of turbine\n",
      "Eta_generator=0.95 #Efficiency of generator\n",
      "#Calculation\n",
      "WaterUsed=A*10**6*rf/100*a/100 #m**3/year(Discharge)\n",
      "WaterUsed=WaterUsed/(365*24*60*60) #m**3/sec\n",
      "Eff_Head=head-head_loss #m(Effective Head)\n",
      "P=735.5/75*WaterUsed*Eff_Head*Eta_turbine*Eta_generator/1000 #MW(Load of station)\n",
      "Ppeak=P/(LF/100) #MW(Peak Load )\n",
      "print \"MW rating of station = %0.2f MW\"%Ppeak \n",
      "#type ot turbine\n",
      "if head>200:\n",
      "    print \"Pelton turbine is more suitable because head>200 meter.\" \n",
      "else:\n",
      "    print \"Pelton turbine is not suitable\""
     ],
     "language": "python",
     "metadata": {},
     "outputs": [
      {
       "output_type": "stream",
       "stream": "stdout",
       "text": [
        "MW rating of station = 70.90 MW\n",
        "Pelton turbine is more suitable because head>200 meter.\n"
       ]
      }
     ],
     "prompt_number": 1
    },
    {
     "cell_type": "heading",
     "level": 2,
     "metadata": {},
     "source": [
      "exa 3.2 page 85"
     ]
    },
    {
     "cell_type": "code",
     "collapsed": false,
     "input": [
      "WF=50 #m**3/sec(Water flow)\n",
      "head=90 #m\n",
      "LF=75 #%(Load factor)\n",
      "Eta=90 #%(Efficiency of hydro plant)\n",
      "L=5 #%(Transmission losses)\n",
      "TC=350 #MW\n",
      "hp=140 #MW#Hydro power\n",
      "#Calculation\n",
      "P=735.5/75*WF*head*Eta/100/1000 #MW(Power available)\n",
      "Pnet=P*(100-L)/100 #MW#/Net Available hydro power\n",
      "E=Pnet*24 #MW-hours##Hydro Energy\n",
      "print \"Available hydro energy = %0.2f MW-hours\"%E\n",
      "C1=hp/((100-L)/100) #MW#Capacity of hydro plant\n",
      "print \"Capacity of hydro plant = %0.2f MW \"%C1 \n",
      "C2=TC-hp #MW#Capacity of thermal plant\n",
      "print \"Capacity of thermal plant = %0.2f MW \"%C2"
     ],
     "language": "python",
     "metadata": {},
     "outputs": [
      {
       "output_type": "stream",
       "stream": "stdout",
       "text": [
        "Available hydro energy = 905.55 MW-hours\n",
        "Capacity of hydro plant = 147.37 MW \n",
        "Capacity of thermal plant = 210.00 MW \n"
       ]
      }
     ],
     "prompt_number": 2
    },
    {
     "cell_type": "heading",
     "level": 2,
     "metadata": {},
     "source": [
      "exa 3.3 page 92"
     ]
    },
    {
     "cell_type": "code",
     "collapsed": false,
     "input": [
      "P1=700 #MW(Load for 14 hours)\n",
      "P2=500 #MW(Load for 10 hours)\n",
      "B22=0.0005 #Loss Coefficient\n",
      "t1=14 #hour\n",
      "t2=10 #hour\n",
      "r2=2.5 #Rs/hour/(m**3/sec\n",
      "#Characteristics of units : \n",
      "#C1=(24+0.02*P1)*P1 #Rs./hour\n",
      "#W2=(6+0.0025*P2)*P2 #m**3/sec\n",
      "lamda=37.944 #Rs./MWh(For peak load conditions)\n",
      "P1=348.6 #MW(For peak load conditions)\n",
      "P2=454.84 #MW(For peak load conditions)\n",
      "PL=103.44 #MW(For peak load conditions)\n",
      "lambda_dash=31.73 #Rs./MWh(For peak load conditions)\n",
      "P1_dash=193.25 #MW(For peak off conditions)\n",
      "P2_dash=378.25 #MW(For peak off conditions)\n",
      "PL_dash=71.50 #MW(For peak off conditions)\n",
      "W=((6+0.0025*P2)*P2*t1+(6+0.0025*P2_dash)*P2_dash*t2)*3600/10**3 #m**3#D3ily water used\n",
      "print \"Daily water used by plant = %0.2f m**3\" %W\n",
      "C=(24+0.02*P1)*P1*t1+(24+0.02*P1_dash)*P1_dash*t2 #Rs.\n",
      "print \"Daily operating cost of plant = %0.2f Rs.  \"%C "
     ],
     "language": "python",
     "metadata": {},
     "outputs": [
      {
       "output_type": "stream",
       "stream": "stdout",
       "text": [
        "Daily water used by plant = 258189.00 m**3\n",
        "Daily operating cost of plant = 205004.86 Rs.  \n"
       ]
      }
     ],
     "prompt_number": 3
    },
    {
     "cell_type": "heading",
     "level": 2,
     "metadata": {},
     "source": [
      "exa 3.4 page 93"
     ]
    },
    {
     "cell_type": "code",
     "collapsed": false,
     "input": [
      "\n",
      "t1=14 #hour(working hour of hydro station)\n",
      "t2=24 #hour(Working hour of steam station)\n",
      "#Characteristics of units : \n",
      "#C=(5+8*Ps+0.05*Ps**2) #Rs./hour\n",
      "#dW/dPh=30+0.05*Ph #m**3/MW-sec\n",
      "W=500*10**6 #m**3(Water Quantity used)\n",
      "Ps=250 #MW(Load on steam station)\n",
      "lamda=8+0.1*Ps #Rs./MW-hour\n",
      "#W=Ph*(30+0.05*Ph)*t1*3600 #\n",
      "#0.05*Ph**2*t1*3600+Ph*30*t1*3600-W=0\n",
      "from sympy import symbols, solve\n",
      "Ph=symbols('Ph') \n",
      "Ph=solve(0.05*Ph**2*t1*3600+Ph*30*t1*3600-W, Ph) #MW\n",
      "Ph=Ph[1] #MW#Leaving negative root\n",
      "print \"Load on hydro plant = %0.2f MW\"%Ph \n",
      "r=lamda/(30+0.05*Ph) #Rs./hour/(m**3/sec)\n",
      "print \"Cost of water use = %0.2f Rs./hour/(m**3/sec)\"%r \n",
      "#Answer is slightly differ due to accuracy in calculations."
     ],
     "language": "python",
     "metadata": {},
     "outputs": [
      {
       "output_type": "stream",
       "stream": "stdout",
       "text": [
        "Load on hydro plant = 237.04 MW\n",
        "Cost of water use = 0.79 Rs./hour/(m**3/sec)\n"
       ]
      }
     ],
     "prompt_number": 4
    }
   ],
   "metadata": {}
  }
 ]
}