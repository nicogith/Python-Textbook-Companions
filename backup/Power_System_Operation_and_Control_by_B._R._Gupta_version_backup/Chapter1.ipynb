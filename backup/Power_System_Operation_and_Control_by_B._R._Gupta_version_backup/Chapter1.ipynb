{
 "metadata": {
  "name": "",
  "signature": "sha256:157c81ca45c25f5c9b68a8a7337d5214dee7e7e0f1df3168b61c9836541cb6d6"
 },
 "nbformat": 3,
 "nbformat_minor": 0,
 "worksheets": [
  {
   "cells": [
    {
     "cell_type": "heading",
     "level": 1,
     "metadata": {},
     "source": [
      "Ch-1 : Introduction"
     ]
    },
    {
     "cell_type": "heading",
     "level": 2,
     "metadata": {},
     "source": [
      "exa 1.1 page 1"
     ]
    },
    {
     "cell_type": "code",
     "collapsed": false,
     "input": [
      "from __future__ import division\n",
      "import numpy as np\n",
      "B=100 #W(8Bulb)\n",
      "F=60 #W(2Fan)\n",
      "L=100 #W(2Light)\n",
      "LoadConnected=8*B+2*F+2*L #W\n",
      "print \"(a) Connected Load = %0.2f W \"%LoadConnected\n",
      "#12 midnight to 5am\n",
      "demand1=1*F #W\n",
      "#5am to 7am\n",
      "demand2=2*F+1*L #W\n",
      "#7am to 9am\n",
      "demand3=0 #W\n",
      "#9am to 6pm\n",
      "demand4=2*F #W\n",
      "#6pm to midnight\n",
      "demand5=2*F+4*B #W\n",
      "DEMAND=np.array([demand1,demand2, demand3, demand4, demand5])\n",
      "max_demand=max(DEMAND) \n",
      "print \"(b) Maximum demand = %0.2f W \"%max_demand \n",
      "df=max_demand/LoadConnected #demand factor\n",
      "print \"(c) Demand factor = %0.3f\"%df \n",
      "E=demand1*5+demand2*2+demand3*2+demand4*9+demand5*6 #Wh\n",
      "E=E/1000 #kWh\n",
      "print \"(d) Energy consumed during 24 hours = %0.2f kWh \"%E\n",
      "Edash=LoadConnected*24/1000 #kWh\n",
      "print \"(e) Energy consumed during 24 hours if all devices are used = %0.2f kWh\"%Edash"
     ],
     "language": "python",
     "metadata": {},
     "outputs": [
      {
       "output_type": "stream",
       "stream": "stdout",
       "text": [
        "(a) Connected Load = 1120.00 W \n",
        "(b) Maximum demand = 520.00 W \n",
        "(c) Demand factor = 0.464\n",
        "(d) Energy consumed during 24 hours = 4.94 kWh \n",
        "(e) Energy consumed during 24 hours if all devices are used = 26.88 kWh\n"
       ]
      }
     ],
     "prompt_number": 1
    },
    {
     "cell_type": "heading",
     "level": 2,
     "metadata": {},
     "source": [
      "exa 1.2 page 3"
     ]
    },
    {
     "cell_type": "code",
     "collapsed": false,
     "input": [
      "import numpy as np\n",
      "LoadA=2.5*1000 #W\n",
      "#12 midnight to 5am\n",
      "d1A=100 #W\n",
      "#5am to 6am\n",
      "d2A=1.1*1000 #W\n",
      "#6am to 8am\n",
      "d3A=200 #W\n",
      "#8am to 5pm\n",
      "d4A=0 #W\n",
      "#5pm to 12 midnight\n",
      "d5A=500 #W\n",
      "LoadB=3*1000 #W\n",
      "#11 pm to 7am\n",
      "d1B=0 #W\n",
      "#7 am to 8 am\n",
      "d2B=300 #W\n",
      "#8 am to 10 am\n",
      "d3B=1*1000 #W\n",
      "#10 am to 6 pm\n",
      "d4B=200 #W\n",
      "#6 pm to 11 pm\n",
      "d5B=600 #W\n",
      "DEMAND_A=np.array([d1A, d2A, d3A, d4A, d5A]) #W\n",
      "DEMAND_B=np.array([d1B, d2B, d3B, d4B, d5B]) #W\n",
      "max_demand_A=max(DEMAND_A) #W\n",
      "max_demand_B=max(DEMAND_B) #W\n",
      "df_A=max_demand_A/LoadA #demand factor\n",
      "df_B=max_demand_B/LoadB #demand factor\n",
      "print \"Demand factor of consumer A & B are : %0.2f & %0.2f\"%(df_A,df_B) \n",
      "gd_factor=(max_demand_A+max_demand_B)/max_demand_A \n",
      "print \"Group diversity factor = %0.3f\"%gd_factor\n",
      "E_A=d1A*5+d2A*1+d3A*2+d4A*9+d5A*7 #Wh\n",
      "E_B=d1B*8+d2B*1+d3B*2+d4B*8+d5B*5 #Wh\n",
      "E_A=E_A/1000 #kWh\n",
      "E_B=E_B/1000 #kWh\n",
      "print \"Energy consumed by A & B during 24 hours = %0.2f & %0.2f kWh \"%(E_A,E_B)\n",
      "Emax_A=max_demand_A*24/1000 #kWh\n",
      "Emax_B=max_demand_B*24/1000 #kWh\n",
      "print \"Maximum energy consumer A & B can consume during 24 hours = %0.2f & %0.2f kWh \"%(Emax_A,Emax_B)\n",
      "ratio_A=E_A/Emax_A \n",
      "ratio_B=E_B/Emax_B \n",
      "print \"Ratio of actual energy to maximum energy of consumer A & B : %0.4f & %0.4f\"%(ratio_A,ratio_B) "
     ],
     "language": "python",
     "metadata": {},
     "outputs": [
      {
       "output_type": "stream",
       "stream": "stdout",
       "text": [
        "Demand factor of consumer A & B are : 0.44 & 0.33\n",
        "Group diversity factor = 1.909\n",
        "Energy consumed by A & B during 24 hours = 5.50 & 6.90 kWh \n",
        "Maximum energy consumer A & B can consume during 24 hours = 26.40 & 24.00 kWh \n",
        "Ratio of actual energy to maximum energy of consumer A & B : 0.2083 & 0.2875\n"
       ]
      }
     ],
     "prompt_number": 2
    },
    {
     "cell_type": "heading",
     "level": 2,
     "metadata": {},
     "source": [
      "exa 1.3 page 6"
     ]
    },
    {
     "cell_type": "code",
     "collapsed": false,
     "input": [
      "n1=600 #No. of apartments\n",
      "L1=5 #kW#Each Apartment Load\n",
      "n2=20 #No. of general purpose shops\n",
      "L2=2 #kW#Each Shop Load\n",
      "df=0.8 #demand factor\n",
      "#1 Floor mill\n",
      "L3=10 #kW#Load\n",
      "df3=0.7 #demand factor\n",
      "#1 Saw mill\n",
      "L4=5 #kW#Load\n",
      "df4=0.8 #demand factor\n",
      "#1 Laundry\n",
      "L5=20 #kW#Load\n",
      "df5=0.65 #demand factor\n",
      "#1 Cinema\n",
      "L6=80 #kW#Load\n",
      "df6=0.5 #demand factor\n",
      "#Street lights\n",
      "n7=200 #no. of tube lights\n",
      "L7=40 #W#Load of each light\n",
      "#Residential Load\n",
      "df8=0.5 #demand factor\n",
      "gdf_r=3 #group diversity factor\n",
      "pdf_r=1.25 #peak diversity factor\n",
      "#Commertial Load\n",
      "gdf_c=2 #group diversity factor\n",
      "pdf_c=1.6 #peak diversity factor\n",
      "#Solution :\n",
      "#Maximum demand of each apartment\n",
      "dmax_1a=L1*df8 #kW\n",
      "#Maximum demand of 600 apartment\n",
      "dmax_a=n1*dmax_1a/gdf_r #kW\n",
      "#demand of apartments at system peak time\n",
      "d_a_sp=dmax_a/pdf_r #kW\n",
      "#Maximum Commercial demand\n",
      "dmax_c=(n2*L2*df+L3*df3+L4*df4+L5*df5+L6*df6)/gdf_c #kW\n",
      "#Commercial demand at system peak time\n",
      "d_c_sp=dmax_c/pdf_c #kW\n",
      "#demand of street light at system peak time\n",
      "d_sl_sp=n7*L7/1000 #kW\n",
      "#Increase in system peak demand\n",
      "DI=d_a_sp+d_c_sp+d_sl_sp #kW\n",
      "print \"Increase in system peak demand  %0.2f kW\" %DI,"
     ],
     "language": "python",
     "metadata": {},
     "outputs": [
      {
       "output_type": "stream",
       "stream": "stdout",
       "text": [
        "Increase in system peak demand  438.00 kW\n"
       ]
      }
     ],
     "prompt_number": 3
    },
    {
     "cell_type": "heading",
     "level": 2,
     "metadata": {},
     "source": [
      "exa 1.4 page 12"
     ]
    },
    {
     "cell_type": "code",
     "collapsed": false,
     "input": [
      "#12 to 5 am\n",
      "L1=20 #MW\n",
      "t1=5 #hours\n",
      "#5 to 9 am\n",
      "L2=40 #MW\n",
      "t2=4 #hours\n",
      "#9 to 6 pm\n",
      "L3=80 #MW\n",
      "t3=9 #hours\n",
      "#6 to 10 pm\n",
      "L4=100 #MW\n",
      "t4=4 #hours\n",
      "#10 to 12 am\n",
      "L5=20 #MW\n",
      "t5=2 #hours\n",
      "#Energy Poduced in 24 hours\n",
      "E=L1*t1+L2*t2+L3*t3+L4*t4+L5*t5 #MWh\n",
      "print \"Energy Supplied by the plant in 24 hours = %0.2f MWh\" %E\n",
      "LF=E/24 #%#Load Factor\n",
      "print \"Load Factor = %0.2f %% \"%LF "
     ],
     "language": "python",
     "metadata": {},
     "outputs": [
      {
       "output_type": "stream",
       "stream": "stdout",
       "text": [
        "Energy Supplied by the plant in 24 hours = 1420.00 MWh\n",
        "Load Factor = 59.17 % \n"
       ]
      }
     ],
     "prompt_number": 4
    },
    {
     "cell_type": "heading",
     "level": 2,
     "metadata": {},
     "source": [
      "exa 1.5 page 13"
     ]
    },
    {
     "cell_type": "code",
     "collapsed": false,
     "input": [
      "C=125 #MW#Installed Capacity\n",
      "#12 to 5 am\n",
      "L1=20 #MW\n",
      "t1=5 #hours\n",
      "#5 to 9 am\n",
      "L2=40 #MW\n",
      "t2=4 #hours\n",
      "#9 to 6 pm\n",
      "L3=80 #MW\n",
      "t3=9 #hours\n",
      "#6 to 10 pm\n",
      "L4=100 #MW\n",
      "t4=4 #hours\n",
      "#10 to 12 am\n",
      "L5=20 #MW\n",
      "t5=2 #hours\n",
      "#Energy Poduced in 24 hours\n",
      "E=L1*t1+L2*t2+L3*t3+L4*t4+L5*t5 #MWh\n",
      "LF=E/24 #%#Load Factor\n",
      "CF=LF/C #%#Capacity Factor\n",
      "print \"Capacity Factor = %0.3f\" %CF\n",
      "UF=100/C #%#Utilisation Factor\n",
      "print \"Utilisation Factor = %.1f\" %UF"
     ],
     "language": "python",
     "metadata": {},
     "outputs": [
      {
       "output_type": "stream",
       "stream": "stdout",
       "text": [
        "Capacity Factor = 0.473\n",
        "Utilisation Factor = 0.8\n"
       ]
      }
     ],
     "prompt_number": 5
    },
    {
     "cell_type": "heading",
     "level": 2,
     "metadata": {},
     "source": [
      "exa 1.6 page 13"
     ]
    },
    {
     "cell_type": "code",
     "collapsed": false,
     "input": [
      "%matplotlib inline\n",
      "from matplotlib.pyplot import plot, show, title, xlabel, ylabel, subplot\n",
      "from numpy import array\n",
      "import numpy as np\n",
      "#12 to 5 am & 10 to 12 am\n",
      "L1=20 #MW\n",
      "E1=L1*24 #MWh\n",
      "#5 to 9 am\n",
      "L2=40 #MW\n",
      "E2=E1+(L2-L1)*17 #MWh\n",
      "#9 to 6 pm\n",
      "L3=80 #MW\n",
      "E3=E2+(L3-L2)*13 #MWh\n",
      "#6 to 10 pm\n",
      "L4=100 #MW\n",
      "E4=E3+(L4-L3)*4 #MWh\n",
      "#Plotting Energy load curve\n",
      "L=np.array([0,L1,L2,L3,L4]) #MW\n",
      "E=np.array([0,E1,E2,E3,E4]) #Mwh\n",
      "subplot(2,1,1)\n",
      "plot(E,L)\n",
      "xlabel('Energy(MWh)') \n",
      "ylabel('Load(MW)') \n",
      "title('Energy Load Curve') \n",
      "#Energy Supplied\n",
      "#Upto 5am\n",
      "t1=5 #hours\n",
      "E1=L1*t1 #MWh\n",
      "#Upto 9am\n",
      "t2=4 #hours\n",
      "E2=E1+L2*t2 #MWh\n",
      "#Upto 6pm\n",
      "t3=9 #hours\n",
      "E3=E2+L3*t3 #MWh\n",
      "#Upto 10pm\n",
      "t4=4 #hours\n",
      "E4=E3+L4*t4 #MWh\n",
      "#Upto 12pm\n",
      "t4=2 #hours\n",
      "E4=E3+L4*t4 #MWh\n",
      "#Plotting Mass curve\n",
      "T=[0,1,2,3,4] #MW\n",
      "E=[0,E1,E2,E3,E4] #Mwh\n",
      "subplot(2,1,2)\n",
      "plot(T,E)\n",
      "ylabel('Ener2y(MWh)') \n",
      "xlabel('0-1: 12-5am 1-2: 5-9am 2-3: 9-6pm 3-4: 6-10pm above4: 10-12pm') \n",
      "title('Mass Curve') \n",
      "show()"
     ],
     "language": "python",
     "metadata": {},
     "outputs": [
      {
       "metadata": {},
       "output_type": "display_data",
       "png": "[encoded data removed]",
       "text": [
        "<matplotlib.figure.Figure at 0x7f26e82c2e90>"
       ]
      }
     ],
     "prompt_number": 6
    },
    {
     "cell_type": "heading",
     "level": 2,
     "metadata": {},
     "source": [
      "exa 1.7 page 14"
     ]
    },
    {
     "cell_type": "code",
     "collapsed": false,
     "input": [
      "dmax=40 #MW#Maximum demand\n",
      "CF=0.5 #Capacity Factor\n",
      "UF=0.8 #Utilisation Factor\n",
      "LF=CF/UF #/Load Factor\n",
      "print \"(a) Load Factor : %0.3f\"%LF \n",
      "C=dmax/UF #MW#Plant Capacity\n",
      "print \"(b) Plant Capacity = %0.2f MW \"%C \n",
      "RC=C-dmax #MW#Reserve Capacity\n",
      "print \"(c) Reserve Capacity = %0.02f MW  \"%RC \n",
      "p=dmax*LF*24*365 #MWh#Annual Energy Production\n",
      "print \"(d) Annual Energy Production = %0.2f MWh \"%p "
     ],
     "language": "python",
     "metadata": {},
     "outputs": [
      {
       "output_type": "stream",
       "stream": "stdout",
       "text": [
        "(a) Load Factor : 0.625\n",
        "(b) Plant Capacity = 50.00 MW \n",
        "(c) Reserve Capacity = 10.00 MW  \n",
        "(d) Annual Energy Production = 219000.00 MWh \n"
       ]
      }
     ],
     "prompt_number": 7
    },
    {
     "cell_type": "heading",
     "level": 2,
     "metadata": {},
     "source": [
      "exa 1.8 page 14"
     ]
    },
    {
     "cell_type": "code",
     "collapsed": false,
     "input": [
      "%matplotlib inline\n",
      "from matplotlib.pyplot import plot, show, title, xlabel, ylabel, subplot\n",
      "from numpy import array\n",
      "L1=50 #MW#Initial\n",
      "t1=5 #hours\n",
      "L2=50 #MW#5am\n",
      "t2=4 #hours\n",
      "L3=100 #MW#9am\n",
      "t3=9 #hours\n",
      "L4=100 #MW#6pm\n",
      "t4=2 #hours\n",
      "L5=150 #MW#8pm\n",
      "t5=2 #hours\n",
      "L6=80 #MW#10pm\n",
      "t6=2 #hours\n",
      "L7=50 #MW\n",
      "#Energy Required in 24 hours\n",
      "E=L1*t1+(L2+L3)/2*t2+(L3+L4)/2*t3+(L4+L5)/2*t4+(L5+L6)/2*t5+(L6+L1)/2*t6 #MWh\n",
      "print \"Energy required in one day = %0.2f MWh \"%E \n",
      "DLF=E/L5/24*100 #%#Daily Load Factor\n",
      "print \"Daily Load Factor = %0.2f %%\" %DLF\n",
      "#Plotting load curve\n",
      "T=np.array([0,1,2,3,4,5,6]) #Slots\n",
      "L=np.array([L1,L2,L3,L4,L5,L6,L7]) #MW\n",
      "plot(T,L)\n",
      "ylabel('Load(MW)') \n",
      "xlabel('0-1: 12-5am 1-2: 5-9am 2-3: 9-6pm 3-4: 6-8pm 4-5:8-10pm 5-6 :10-12pm') \n",
      "title('Chronological Load Curve') \n",
      "show()"
     ],
     "language": "python",
     "metadata": {},
     "outputs": [
      {
       "output_type": "stream",
       "stream": "stdout",
       "text": [
        "Energy required in one day = 2060.00 MWh \n",
        "Daily Load Factor = 57.22 %\n"
       ]
      },
      {
       "metadata": {},
       "output_type": "display_data",
       "png": "[encoded data removed]",
       "text": [
        "<matplotlib.figure.Figure at 0x7f26d514bd90>"
       ]
      }
     ],
     "prompt_number": 8
    },
    {
     "cell_type": "heading",
     "level": 2,
     "metadata": {},
     "source": [
      "exa 1.9 page 15"
     ]
    },
    {
     "cell_type": "code",
     "collapsed": false,
     "input": [
      "print \"load duration curve in fig1\"\n",
      "print \"the energy consumed upto different times is as \"\n",
      "a=[0, 5 ,9 ,18, 20, 22, 24]  #time in matrix format\n",
      "b=[50, 50 ,100 ,100 ,150 ,80 ,50] #load in matrix format\n",
      "\n",
      "z = range(0,6)\n",
      "for x in range (0,6):\n",
      "   z[x]=((b[x]+b[x+1])/2)*(a[x+1]-a[x])\n",
      "\n",
      "et=0\n",
      "q = range(0,7)\n",
      "m = range(0,7)\n",
      "ett = range(0,6)\n",
      "for x in range(0,6):\n",
      "    et=et+z[x] \n",
      "    A=a[(x)]\n",
      "    ett[x]=et \n",
      "    q[x]=a[x+1]\n",
      "    print \"\\nfrom mid night upto %d,energy=%dMWh\"%(A,et)\n",
      "n = sorted(range(len(b)), key=lambda k: b[k], reverse=True)\n",
      "m = sorted(b, reverse=True)\n",
      "print \"energy curve in fig 2\"\n",
      "t=[0, 3.88, 15.88 ,19.88, 23]\n",
      "k = range(0,6)\n",
      "for j in range(0,6):\n",
      "    k[j]=a[(j+1)]\n",
      "M =range(0,5)\n",
      "#rearranging for mass  curve\n",
      "for i in range(0,5):\n",
      "    M[i] = m[i]\n",
      "Q = range(0,6)\n",
      "for i in range(0,6):\n",
      "    Q[i] = q[i]\n",
      "    \n",
      "    \n",
      "subplot(121) \n",
      "plot(t,M) \n",
      "title(\"load duration\")\n",
      "xlabel(\"hours\")\n",
      "ylabel(\"MW\")\n",
      "subplot(122) \n",
      "plot(Q,ett) \n",
      "title(\"energy curve\")\n",
      "xlabel(\"time\")\n",
      "ylabel(\"MWh\")\n",
      "show()"
     ],
     "language": "python",
     "metadata": {},
     "outputs": [
      {
       "output_type": "stream",
       "stream": "stdout",
       "text": [
        "load duration curve in fig1\n",
        "the energy consumed upto different times is as \n",
        "\n",
        "from mid night upto 0,energy=250MWh\n",
        "\n",
        "from mid night upto 5,energy=550MWh\n",
        "\n",
        "from mid night upto 9,energy=1450MWh\n",
        "\n",
        "from mid night upto 18,energy=1700MWh\n",
        "\n",
        "from mid night upto 20,energy=1930MWh\n",
        "\n",
        "from mid night upto 22,energy=2060MWh\n",
        "energy curve in fig 2\n"
       ]
      },
      {
       "metadata": {},
       "output_type": "display_data",
       "png": "[encoded data removed]",
       "text": [
        "<matplotlib.figure.Figure at 0x7f26d4f5edd0>"
       ]
      }
     ],
     "prompt_number": 9
    },
    {
     "cell_type": "heading",
     "level": 2,
     "metadata": {},
     "source": [
      "exa 1.10 page 15"
     ]
    },
    {
     "cell_type": "code",
     "collapsed": false,
     "input": [
      "from __future__ import division\n",
      "E=438*10**4 #kWh\n",
      "LF=20 #% annual\n",
      "CF=15 #%#Capacity Factor\n",
      "Lmax=E/(LF/100)/24/365 #kW\n",
      "Lmax=Lmax/1000 #MW\n",
      "C=Lmax/CF*LF #MW#Plant Capacity\n",
      "print \"Plant Capacity = %0.2f MW \"%C \n",
      "RC=C-Lmax #MW#Reserve Capacity\n",
      "print \"Reserve Capacity = %0.2f MW\"%RC"
     ],
     "language": "python",
     "metadata": {},
     "outputs": [
      {
       "output_type": "stream",
       "stream": "stdout",
       "text": [
        "Plant Capacity = 3.33 MW \n",
        "Reserve Capacity = 0.83 MW\n"
       ]
      }
     ],
     "prompt_number": 10
    },
    {
     "cell_type": "heading",
     "level": 2,
     "metadata": {},
     "source": [
      "exa 1.11 page 16"
     ]
    },
    {
     "cell_type": "code",
     "collapsed": false,
     "input": [
      "L1=10000 #kW\n",
      "L2=6000 #kW\n",
      "L3=8000 #kW\n",
      "L4=7000 #kW\n",
      "df=1.5 #diversity factor\n",
      "LF=65 #%#Load Factor\n",
      "Dinc=60 #%#Increase in maximum demand\n",
      "L=L1+L2+L3+L4 #kW#Sum \n",
      "L=L/1000 #MW\n",
      "Dmax=L/df #MW\n",
      "print \"Maximum demand on station = %0.3f MWh \" %Dmax\n",
      "E=Dmax*365*24*LF/100 #MWh#Annual Energy\n",
      "print \"Annual Energy Supplied = %0.0f MWh \"%E \n",
      "Din_max=Dinc/100*Dmax #MW\n",
      "C=Dmax+Din_max #MW\n",
      "print \"Installed Capacity = %0.3f MW\"%C"
     ],
     "language": "python",
     "metadata": {},
     "outputs": [
      {
       "output_type": "stream",
       "stream": "stdout",
       "text": [
        "Maximum demand on station = 20.667 MWh \n",
        "Annual Energy Supplied = 117676 MWh \n",
        "Installed Capacity = 33.067 MW\n"
       ]
      }
     ],
     "prompt_number": 11
    },
    {
     "cell_type": "heading",
     "level": 2,
     "metadata": {},
     "source": [
      "exa 1.12 page 16"
     ]
    },
    {
     "cell_type": "code",
     "collapsed": false,
     "input": [
      "#Arranging data for Load Duration Curve\n",
      "#week days 5-9pm load\n",
      "L1=350 #MW\n",
      "t1=4*5 #hours\n",
      "#week days 8-12am & 1-5pm load\n",
      "L2=250 #MW\n",
      "t2=t1+8*5 #hours\n",
      "#saturday & sunday 5-9pm load\n",
      "L3=200 #MW\n",
      "t3=t2+4*2 #hours\n",
      "#All days 150MW load\n",
      "L4=150 #MW\n",
      "t4=t3+6*5+15*2 #hours\n",
      "#All days 100MW load\n",
      "L5=100 #MW\n",
      "t5=t4+6*5+5*2 #hours\n",
      "A=31600 #Total Load Curve Area\n",
      "LF=A/L1/24/7*100 #%#Weekly load factor\n",
      "print \"Weekly Load factor = %0.2f %%\"%LF\n",
      "print \"Load Duration Curve is shown in figure.\" \n",
      "#Load Duration Curve\n",
      "L=[L1 ,L2, L3, L4, L5] #MW\n",
      "T=[t1 ,t2 ,t3 ,t4 ,t5] #hours\n",
      "%matplotlib inline\n",
      "from matplotlib.pyplot import plot, title, xlabel, ylabel, show\n",
      "plot(T,L) \n",
      "title('Load Duration Curve')\n",
      "xlabel('Time(Hours)')\n",
      "ylabel('Load(MW)') \n",
      "show()"
     ],
     "language": "python",
     "metadata": {},
     "outputs": [
      {
       "output_type": "stream",
       "stream": "stdout",
       "text": [
        "Weekly Load factor = 53.74 %\n",
        "Load Duration Curve is shown in figure.\n"
       ]
      },
      {
       "metadata": {},
       "output_type": "display_data",
       "png": "[encoded data removed]",
       "text": [
        "<matplotlib.figure.Figure at 0x7f26d50a3a50>"
       ]
      }
     ],
     "prompt_number": 12
    },
    {
     "cell_type": "heading",
     "level": 2,
     "metadata": {},
     "source": [
      "exa 1.13 page 17"
     ]
    },
    {
     "cell_type": "code",
     "collapsed": false,
     "input": [
      "LF=0.825 #Daily Load Factor\n",
      "ratio1=0.87 #daily peak load to monthly peak load\n",
      "ratio2=0.78 #monthly peak load to annually peak load\n",
      "LF_annual=LF*ratio1*ratio2 #Annual Load Factor\n",
      "print \"Annual Load Factor : %0.4f\" %LF_annual"
     ],
     "language": "python",
     "metadata": {},
     "outputs": [
      {
       "output_type": "stream",
       "stream": "stdout",
       "text": [
        "Annual Load Factor : 0.5598\n"
       ]
      }
     ],
     "prompt_number": 13
    },
    {
     "cell_type": "heading",
     "level": 2,
     "metadata": {},
     "source": [
      "exa 1.14 page 19"
     ]
    },
    {
     "cell_type": "code",
     "collapsed": false,
     "input": [
      "#Transformer1\n",
      "Lm=300 #kW\n",
      "df_m=0.6 #demand factor\n",
      "Lc=100 #kW#Commercial Load\n",
      "df_c=0.5 #demand factor\n",
      "#Transformer2\n",
      "Lr2=500 #kW#Residential Load\n",
      "df_Lr2=0.4 #demand factor\n",
      "#Transformer3\n",
      "Lr3=400 #kW\n",
      "df_Lr3=0.5 #demand factor\n",
      "#Diversity factors\n",
      "df1=2.3 \n",
      "df2=2.5 \n",
      "df3=2 \n",
      "DF=1.4 #Diversity factor between transformers\n",
      "#Solution :\n",
      "print \"Part(a)\" \n",
      "Lp1=(Lm*df_m+Lc*df_c)/df1 #kW#Peak load on Transformer1\n",
      "print \"Peak load on Transformer1 = %0.2f kW\"%Lp1\n",
      "Lp2=Lr2*df_Lr2/df2 #kW#Peak load on Transformer2\n",
      "print \"Peak load on Transformer2 = %0.2f kW\"%Lp2 \n",
      "Lp3=Lr3*df_Lr3/df3 #kW#Peak load on Transformer3\n",
      "print \"Peak load on Transformer3 = %0.2f kW \"%Lp3 \n",
      "print \"Part(b)\" \n",
      "LpF=(Lp1+Lp2+Lp3)/DF #Peak load on feeder\n",
      "print \"Peak load on feeder = %0.2f kW \"%LpF "
     ],
     "language": "python",
     "metadata": {},
     "outputs": [
      {
       "output_type": "stream",
       "stream": "stdout",
       "text": [
        "Part(a)\n",
        "Peak load on Transformer1 = 100.00 kW\n",
        "Peak load on Transformer2 = 80.00 kW\n",
        "Peak load on Transformer3 = 100.00 kW \n",
        "Part(b)\n",
        "Peak load on feeder = 200.00 kW \n"
       ]
      }
     ],
     "prompt_number": 14
    },
    {
     "cell_type": "heading",
     "level": 2,
     "metadata": {},
     "source": [
      "exa 1.16 page 23"
     ]
    },
    {
     "cell_type": "code",
     "collapsed": false,
     "input": [
      "L=[20, 25, 30 ,25 ,35 ,20] #MW\n",
      "T=[6, 4, 2 ,4 ,4 ,4] #Hours\n",
      "Lmax=max(L) #MW\n",
      "print \"(a) Maximum demand = %0.2f MW \"%Lmax \n",
      "E=L[0]*sum(T)+(L[1]-L[0])*T[1]+(L[2]-L[0])*T[2]+(L[3]-L[0])*T[3]+(L[4]-L[0])*T[4]+(L[5]-L[0])*T[5] #MWh\n",
      "E=E*1000 #kWh\n",
      "print \"(b) Units generated per day = %0.e kWh \"%E \n",
      "Lavg=E/sum(T) #/kWh\n",
      "Lavg=Lavg/1000 #/MW\n",
      "print \"(c) Average Load = %0.2f MW \"%Lavg \n",
      "LF=Lavg/Lmax*100 #%\n",
      "print \"(d) Load Factor = %0.2f %%\" %LF"
     ],
     "language": "python",
     "metadata": {},
     "outputs": [
      {
       "output_type": "stream",
       "stream": "stdout",
       "text": [
        "(a) Maximum demand = 35.00 MW \n",
        "(b) Units generated per day = 6e+05 kWh \n",
        "(c) Average Load = 25.00 MW \n",
        "(d) Load Factor = 71.43 %\n"
       ]
      }
     ],
     "prompt_number": 15
    },
    {
     "cell_type": "heading",
     "level": 2,
     "metadata": {},
     "source": [
      "exa 1.17 page 24"
     ]
    },
    {
     "cell_type": "code",
     "collapsed": false,
     "input": [
      "from math import acos, sin\n",
      "pf=0.8 #power factor\n",
      "delf=1 #%#drop in frequency(delf/f)\n",
      "#delP=-2*(sind(theta))**2*delf\n",
      "theta=acos(pf) #degree\n",
      "delP_BY_delf=-2*sin(theta)**2 #increase in load wrt frequency\n",
      "print \"1%% drop in frequency, Increased in Load = %0.2f %%\"%-delP_BY_delf "
     ],
     "language": "python",
     "metadata": {},
     "outputs": [
      {
       "output_type": "stream",
       "stream": "stdout",
       "text": [
        "1% drop in frequency, Increased in Load = 0.72 %\n"
       ]
      }
     ],
     "prompt_number": 16
    },
    {
     "cell_type": "heading",
     "level": 2,
     "metadata": {},
     "source": [
      "exa 1.18 page 24"
     ]
    },
    {
     "cell_type": "code",
     "collapsed": false,
     "input": [
      "Lmax=100 #MW\n",
      "LF=40 #%#Load Factor\n",
      "Lavg=Lmax*LF/100 #MW\n",
      "E=Lavg*24*365 #MWh\n",
      "print \"Energy generated in a year = %0.f MWh \"%E "
     ],
     "language": "python",
     "metadata": {},
     "outputs": [
      {
       "output_type": "stream",
       "stream": "stdout",
       "text": [
        "Energy generated in a year = 350400 MWh \n"
       ]
      }
     ],
     "prompt_number": 17
    },
    {
     "cell_type": "heading",
     "level": 2,
     "metadata": {},
     "source": [
      "exa 1.19 page 25"
     ]
    },
    {
     "cell_type": "code",
     "collapsed": false,
     "input": [
      "from math import sqrt\n",
      "V=400 #V\n",
      "s1=0.03 #initial slip\n",
      "delV=1 #%#/Voltage Drop\n",
      "R1=0.290 #ohm/phase\n",
      "R2=0.15 #ohm/phase\n",
      "X=0.7 #ohm/phase(X1+X2)\n",
      "#V1**2*s1=V2**2*s2 for speed independent torque\n",
      "#taking for calculating s2\n",
      "V1=1 #V \n",
      "V2=V1-V1*delV/100 #V\n",
      "s2=V1**2/V2**2*s1 #slip\n",
      "I2ByI1=sqrt((R1+R2/s1)**2+X**2)/sqrt((R1+R2/s2)**2+X**2)*(V2/V1)\n",
      "delI=(I2ByI1-1)*100 #%#Current Increase\n",
      "print \"1%% drop in Voltage increases current by = %0.2f %%\"%delI\n",
      "#P=(R1+R2/s)*I**2\n",
      "P2ByP1=(R1+R2/s2)/(R1+R2/s1)*I2ByI1**2 #ratio\n",
      "delP=(1-P2ByP1)*100 #%#Power Decrease\n",
      "print \"1%% drop in Voltage decreases power input by = %0.1f %%\"%delP \n",
      "#Answer in the textbook is not accurate."
     ],
     "language": "python",
     "metadata": {},
     "outputs": [
      {
       "output_type": "stream",
       "stream": "stdout",
       "text": [
        "1% drop in Voltage increases current by = 0.86 %\n",
        "1% drop in Voltage decreases power input by = 0.2 %\n"
       ]
      }
     ],
     "prompt_number": 18
    }
   ],
   "metadata": {}
  }
 ]
}