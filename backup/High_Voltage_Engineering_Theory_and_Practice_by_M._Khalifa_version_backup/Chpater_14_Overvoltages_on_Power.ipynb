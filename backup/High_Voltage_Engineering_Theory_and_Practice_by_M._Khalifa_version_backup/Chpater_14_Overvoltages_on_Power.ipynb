{
 "cells": [
  {
   "cell_type": "markdown",
   "metadata": {},
   "source": [
    "# Chpater 14 Overvoltages on Power systems"
   ]
  },
  {
   "cell_type": "markdown",
   "metadata": {},
   "source": [
    "## Example 14_1 pgno453"
   ]
  },
  {
   "cell_type": "code",
   "execution_count": 2,
   "metadata": {
    "collapsed": false
   },
   "outputs": [
    {
     "name": "stdout",
     "output_type": "stream",
     "text": [
      "\n",
      " f1 =  Hz 183.776298474\n",
      "\n",
      " Time to crest =  micro seconds 1360.0\n"
     ]
    }
   ],
   "source": [
    "#Chapter 14,Example 1, page 453\n",
    "#Determine the time to crest \n",
    "\n",
    "\n",
    "I = 400 # mH of inductance\n",
    "L = 500*10**-3 # mH\n",
    "C = 1.5*10**-6 # micro F\n",
    "from math import pi,sqrt\n",
    "f = 1/(2*pi*sqrt(L*C))  \n",
    "t = 10**6/(4*f) # calulation done in the text is wrong\n",
    "print\"\\n f1 =  Hz\",f\n",
    "print\"\\n Time to crest =  micro seconds\",round(t)\n",
    "\n",
    "\n"
   ]
  },
  {
   "cell_type": "code",
   "execution_count": null,
   "metadata": {
    "collapsed": true
   },
   "outputs": [],
   "source": []
  }
 ],
 "metadata": {
  "kernelspec": {
   "display_name": "Python 2",
   "language": "python",
   "name": "python2"
  },
  "language_info": {
   "codemirror_mode": {
    "name": "ipython",
    "version": 2
   },
   "file_extension": ".py",
   "mimetype": "text/x-python",
   "name": "python",
   "nbconvert_exporter": "python",
   "pygments_lexer": "ipython2",
   "version": "2.7.9"
  }
 },
 "nbformat": 4,
 "nbformat_minor": 0
}
