{
 "cells": [
  {
   "cell_type": "markdown",
   "metadata": {},
   "source": [
    "# Chapter 16 High Voltage Genration"
   ]
  },
  {
   "cell_type": "markdown",
   "metadata": {},
   "source": [
    "## Example 16_1 pgno:556"
   ]
  },
  {
   "cell_type": "code",
   "execution_count": 1,
   "metadata": {
    "collapsed": false
   },
   "outputs": [
    {
     "name": "stdout",
     "output_type": "stream",
     "text": [
      "\n",
      " Part (a)\n",
      "\n",
      " Ripple Voltage =  V 2000.0\n",
      "\n",
      " Part (b)\n",
      "\n",
      " Voltage drop =  V 11000.0\n",
      "\n",
      " Part (c)\n",
      "\n",
      " Average output voltage =  kV 271.842712475\n",
      "\n",
      " Part (d)\n",
      "\n",
      " Ripple Factor in percentage =  3.88908729653\n"
     ]
    }
   ],
   "source": [
    "\n",
    "#Chapter 16,Example 1, page 556\n",
    "#Determine the (a)ripple voltage (b)voltage drop (c)Average output volatge (d)ripple factor \n",
    "\n",
    "I1 = 5*10**-3 # A\n",
    "C2 = 0.05*10**-6 # F\n",
    "C1 = 0.01*10**-6 # F\n",
    "Vs = 100 # kV\n",
    "f = 50 # Hz \n",
    "\n",
    "from math import sqrt\n",
    "# (a) Ripple voltage\n",
    "print\"\\n Part (a)\"\n",
    "delV = I1/(C2*f)\n",
    "print\"\\n Ripple Voltage =  V\", delV\n",
    "# (b) Voltage drop \n",
    "print\"\\n Part (b)\"\n",
    "Vd = I1/f*((1/C1)+(1/(2*C2)))\n",
    "print\"\\n Voltage drop =  V\", Vd\n",
    "# (c) Average output voltage \n",
    "print\"\\n Part (c)\"\n",
    "Vav = 2*Vs*sqrt(2)-Vd*10**-3\n",
    "print\"\\n Average output voltage =  kV\", round(Vav,1)\n",
    "# (d) Ripple factor \n",
    "print\"\\n Part (d)\"\n",
    "RF = Vd*10**-3/(2*Vs*sqrt(2)) \n",
    "print\"\\n Ripple Factor in percentage = \", round(RF*100,2)\n",
    "\n",
    "\n",
    "\n",
    "\n",
    "\n",
    "\n"
   ]
  },
  {
   "cell_type": "markdown",
   "metadata": {},
   "source": [
    "## Example 16_2 pgno:556"
   ]
  },
  {
   "cell_type": "code",
   "execution_count": 3,
   "metadata": {
    "collapsed": false
   },
   "outputs": [
    {
     "name": "stdout",
     "output_type": "stream",
     "text": [
      "\n",
      " Part (a)\n",
      "\n",
      " Ripple Voltage =  kV 21.0\n",
      "\n",
      " Part (b)\n",
      "\n",
      " Voltage drop =  kV 12.5\n",
      "\n",
      " Part (c)\n",
      "\n",
      " Average output voltage =  kV 411.76\n",
      "\n",
      " Part (d)\n",
      "\n",
      " Ripple Factor in percentage =  2.95\n"
     ]
    }
   ],
   "source": [
    "#Chapter 16,Example 2, page 556\n",
    "#Determine the (a)ripple voltage (b)voltage drop (c)Average output volatge (d)ripple factor \n",
    "\n",
    "I1 = 5*10**-3 # A\n",
    "C3 = 0.10*10**-6 # F\n",
    "C2 = 0.05*10**-6 # F\n",
    "C1 = 0.01*10**-6 # F\n",
    "Vs = 100 # kV\n",
    "f = 50 # Hz \n",
    "\n",
    "from math import sqrt\n",
    "# (a) Ripple voltage\n",
    "print\"\\n Part (a)\"\n",
    "delV = I1/f*((2/C1)+(1/C3))\n",
    "print\"\\n Ripple Voltage =  kV\", delV*10**-3\n",
    "# (b) Voltage drop \n",
    "print\"\\n Part (b)\"\n",
    "Vd = I1/f*((1/C2)+(1/C1)+(1/(2*C3)))\n",
    "print\"\\n Voltage drop =  kV\", round(Vd*10**-3,1)\n",
    "# (c) Average output voltage \n",
    "print\"\\n Part (c)\"\n",
    "Vav = 3*Vs*sqrt(2)-Vd*10**-3\n",
    "print\"\\n Average output voltage =  kV\", round(Vav,2)\n",
    "# (d) Ripple factor \n",
    "print\"\\n Part (d)\"\n",
    "RF = Vd*10**-3/(3*Vs*sqrt(2)) \n",
    "print\"\\n Ripple Factor in percentage = \", round(RF*100,2)\n",
    "\n",
    "# Answers may vary due to round off error\n"
   ]
  },
  {
   "cell_type": "markdown",
   "metadata": {},
   "source": [
    "## Example 16_3 pgno:557"
   ]
  },
  {
   "cell_type": "code",
   "execution_count": 8,
   "metadata": {
    "collapsed": false
   },
   "outputs": [
    {
     "name": "stdout",
     "output_type": "stream",
     "text": [
      "\n",
      " Part (a)\n",
      "\n",
      " Ripple Voltage = kV 52.0\n",
      "\n",
      " Part (b)\n",
      "\n",
      " Voltage drop =  kV 872.0\n",
      "\n",
      " Part (c)\n",
      "\n",
      " Average output voltage =  kV 6715.55843272\n",
      "\n",
      " Part (d)\n",
      "\n",
      " Ripple Factor in percentage =  10.704810993\n",
      "\n",
      " Part (e)\n",
      "\n",
      " Optimum number of stages =  stages 21.0\n"
     ]
    }
   ],
   "source": [
    "#Chapter 16,Example 3, page 557\n",
    "#Determine the (a)ripple voltage (b)voltage drop (c)Average output volatge (d)ripple factor (e)optimum number of stages\n",
    "\n",
    "I1 = 5*10**-3 # A\n",
    "C = 0.15*10**-6 # F\n",
    "Vs = 200 # kV\n",
    "f = 50 # Hz \n",
    "n = 12\n",
    "from math import sqrt\n",
    "# (a) Ripple voltage\n",
    "print\"\\n Part (a)\"\n",
    "delV = I1*n*(n+1)/(f*C*2)\n",
    "print\"\\n Ripple Voltage = kV\", delV*10**-3\n",
    "# (b) Voltage drop \n",
    "print\"\\n Part (b)\"\n",
    "a = I1/(f*C)\n",
    "Vd = a*((2/3*n**3)+(n**2/2)-(n/6)+(n*(n+1)/4))\n",
    "print\"\\n Voltage drop =  kV\", Vd*10**-3*12\n",
    "# (c) Average output voltage \n",
    "print\"\\n Part (c)\"\n",
    "Vav = 2*n*Vs*sqrt(2)-Vd*10**-3\n",
    "print\"\\n Average output voltage =  kV\", Vav\n",
    "# (d) Ripple factor \n",
    "print\"\\n Part (d)\"\n",
    "RF = Vd*10**-3/(2*n*Vs*sqrt(2))*10 \n",
    "print\"\\n Ripple Factor in percentage = \", RF*100\n",
    "# (e) Optimum number of stages\n",
    "print\"\\n Part (e)\"\n",
    "nopt = sqrt(Vs*sqrt(2)*10**3*f*C/I1) \n",
    "print\"\\n Optimum number of stages =  stages\", round(nopt)\n",
    "\n",
    "# Answers may vary due to round off error\n"
   ]
  },
  {
   "cell_type": "markdown",
   "metadata": {},
   "source": [
    "## Example 16_4 pgno:558"
   ]
  },
  {
   "cell_type": "code",
   "execution_count": 9,
   "metadata": {
    "collapsed": false
   },
   "outputs": [
    {
     "name": "stdout",
     "output_type": "stream",
     "text": [
      "\n",
      " Reactance of the cable =  k ohm 125.0\n",
      "\n",
      " Leakage reactance of the transformer =  k ohm 50.0\n",
      "\n",
      " Additional series reactance =  k ohm 75.0\n",
      "\n",
      " Inductance of required series inductor =  H 238.732414638\n",
      "\n",
      " Total circuit resistance =  k ohm 21.875\n",
      "\n",
      " maximum current that can be supplied by the transformer =  A 0.4\n",
      "\n",
      " Exciting voltage of transformer secondary =  kV 8.75\n",
      "\n",
      " Input voltage of transformer primary =  V 7.7\n",
      "\n",
      " Input power of the transformer =  kW 3.5\n"
     ]
    }
   ],
   "source": [
    "#Chapter 16,Example 4, page 558\n",
    "#Determine the input voltage and power\n",
    "from math import pi\n",
    "Vc = 500*10**3 # V\n",
    "A = 4 # A\n",
    "Xl = 8./100. # in percentage \n",
    "kV = 250.\n",
    "Xc = Vc/A # Reactance of the cable\n",
    "XL = Xl*(kV**2/100)*10**3 # Leakage reactance of the transformer\n",
    "Radd = Xc-XL # Additional series reactance\n",
    "Ind = Radd/(2*pi*XL) # Inductance of required series inductor\n",
    "R = 3.5/100.*(kV**2/100)*10**3  # Total circuit resistance\n",
    "Imax = 100./250. # maximum current that can be supplied by the transformer\n",
    "Vex = Imax*R # Exciting voltage of transformer secondary\n",
    "Vin = Vex*220/kV # Input voltage of transformer primary\n",
    "P = Vin*100./220. # Input power of the transformer\n",
    "print\"\\n Reactance of the cable =  k ohm\", Xc*10**-3\n",
    "print\"\\n Leakage reactance of the transformer =  k ohm\", XL*10**-3\n",
    "print\"\\n Additional series reactance =  k ohm\", Radd*10**-3\n",
    "print\"\\n Inductance of required series inductor =  H\", Ind*10**3\n",
    "print\"\\n Total circuit resistance =  k ohm\", R*10**-3\n",
    "print\"\\n maximum current that can be supplied by the transformer =  A\", Imax\n",
    "print\"\\n Exciting voltage of transformer secondary =  kV\", Vex*10**-3\n",
    "print\"\\n Input voltage of transformer primary =  V\", Vin*10**-3\n",
    "print\"\\n Input power of the transformer =  kW\", P*10**-3\n",
    "\n",
    "# Answers may vary due to round off error\n",
    "\n"
   ]
  },
  {
   "cell_type": "markdown",
   "metadata": {},
   "source": [
    "## Example 16_5 pgno:559"
   ]
  },
  {
   "cell_type": "code",
   "execution_count": 10,
   "metadata": {
    "collapsed": false
   },
   "outputs": [
    {
     "name": "stdout",
     "output_type": "stream",
     "text": [
      "\n",
      " Charging current=  micro A 0.5\n",
      "\n",
      " Potential difference =  MV 50.0\n"
     ]
    }
   ],
   "source": [
    "#Chapter 16,Example 5,page 559\n",
    "#Determine the charging current and potential difference\n",
    "\n",
    "ps = 0.5*10**-6 # C/m**2\n",
    "u = 10 # m/s\n",
    "w = 0.1 # m\n",
    "I = ps*u*w \n",
    "Rl = 10**14 # ohm\n",
    "V = I*Rl*10**-6\n",
    "print\"\\n Charging current=  micro A\", I*10**6\n",
    "print\"\\n Potential difference =  MV\", V\n",
    "\n",
    "# Answers may vary due to round off error\n"
   ]
  },
  {
   "cell_type": "markdown",
   "metadata": {},
   "source": [
    "## Example 16_6 pgno:560"
   ]
  },
  {
   "cell_type": "code",
   "execution_count": 12,
   "metadata": {
    "collapsed": false
   },
   "outputs": [
    {
     "name": "stdout",
     "output_type": "stream",
     "text": [
      "\n",
      " Theta =  micro S 4.94772675074\n",
      "\n",
      " Neta =  0.986880297225\n",
      "\n",
      " Alpha =   6.96319779479\n",
      "\n",
      " T1 =  microS 1.11048978183\n",
      "\n",
      " T2 =  microS 49.9720401825\n",
      "\n",
      " Generated lighting impulse =  wave 0.0222222222222\n",
      "\n",
      " alpha1 =  microS 0.0145885577162\n",
      "\n",
      " alpha2 =  microS 2.80011732464\n",
      "\n",
      " e(t) =  * (e**t - f**t) 99.721740833 -0.015 -2.8\n"
     ]
    }
   ],
   "source": [
    "#Chapter 16,Example 6,page 560\n",
    "#Determine the wave generated\n",
    "\n",
    "# With refrence to table 16.1\n",
    "C1 = 0.125*10**-6 # F\n",
    "C2 = 1*10**-9 # F\n",
    "R1 = 360. # ohm\n",
    "R2 = 544. # ohm\n",
    "V0 = 100. # kV\n",
    "from math import sqrt\n",
    "theta = sqrt(C1*C2*R1*R2)\n",
    "neta = 1/(1+(1+R1/R2)*C2/C1)\n",
    "alpha = R2*C1/(2*theta*neta)\n",
    "print\"\\n Theta =  micro S\",theta*10**6\n",
    "print\"\\n Neta = \",neta\n",
    "print\"\\n Alpha =  \",alpha\n",
    "# Coresponding to alpha the following can be deduced from Fig 16.12\n",
    "T2 = 10.1*theta*10**6\n",
    "T1 = T2/45\n",
    "imp = T1/T2 # generated lighting impulse\n",
    "# From equations 16.41 and 16.42\n",
    "a1 = (alpha-sqrt(alpha**2-1))*10**-6/(theta) \n",
    "a2 = (alpha+sqrt(alpha**2-1))*10**-6/theta \n",
    "print\"\\n T1 =  microS\", T1\n",
    "print\"\\n T2 =  microS\", T2\n",
    "print\"\\n Generated lighting impulse =  wave\", imp\n",
    "print\"\\n alpha1 =  microS\", a1\n",
    "print\"\\n alpha2 =  microS\", a2\n",
    "# According to equation 16.40\n",
    "et = neta*(alpha*V0)/sqrt(alpha**2-1)\n",
    "print\"\\n e(t) =  * (e**t - f**t)\",et,round(-a1,3),round(-a2,2) # Equation of the wave form generated by the impulese\n",
    "\n",
    "#Answers may vary due to round off error \n"
   ]
  },
  {
   "cell_type": "markdown",
   "metadata": {},
   "source": [
    "## Example 16_7 pgno:561"
   ]
  },
  {
   "cell_type": "code",
   "execution_count": 14,
   "metadata": {
    "collapsed": false
   },
   "outputs": [
    {
     "name": "stdout",
     "output_type": "stream",
     "text": [
      "\n",
      " Theta =  micro S 4.94772675074\n",
      "\n",
      " Neta =  0.598886775171\n",
      "\n",
      " Alpha =   11.4743604205\n",
      "\n",
      " T1 =  microS 0.670004664163\n",
      "\n",
      " T2 =  microS 80.4005596995\n",
      "\n",
      " alpha1 =  microS 0.00882394544921\n",
      "\n",
      " alpha2 =  microS 4.62941134867\n",
      "\n",
      " e(t) =  * (e**t - f**t) 60.1174165831 -0.0088 -4.63\n"
     ]
    }
   ],
   "source": [
    "#Chapter 16,Example 6,page 561\n",
    "#Determine the wave generated\n",
    "\n",
    "C1 = 0.125*10**-6 # F\n",
    "C2 = 1*10**-9 # F\n",
    "R1 = 360. # ohm\n",
    "R2 = 544. # ohm\n",
    "V0 = 100. # kV\n",
    "from math import sqrt\n",
    "theta = sqrt(C1*C2*R1*R2)\n",
    "neta = 1/(1+R1/R2+C2/C1)\n",
    "alpha = R2*C1/(2*theta*neta)\n",
    "print\"\\n Theta =  micro S\",theta*10**6\n",
    "print\"\\n Neta = \",neta\n",
    "print\"\\n Alpha =  \",alpha\n",
    "# Coresponding to alpha the following can be deduced from Fig 16.12\n",
    "T2 = 16.25*theta*10**6\n",
    "T1 = T2/120\n",
    "# From equations 16.41 and 16.42\n",
    "a1 = (alpha-sqrt(alpha**2-1))*10**-6/(theta) \n",
    "a2 = (alpha+sqrt(alpha**2-1))*10**-6/theta \n",
    "print\"\\n T1 =  microS\", T1 # Answer given in the text is wrong\n",
    "print\"\\n T2 =  microS\", T2 \n",
    "print\"\\n alpha1 =  microS\", a1\n",
    "print\"\\n alpha2 =  microS\", a2\n",
    "# According to equation 16.40\n",
    "et = neta*(alpha*V0)/sqrt(alpha**2-1)\n",
    "print\"\\n e(t) =  * (e**t - f**t)\",et,round(-a1,4),round(-a2,2) # Equation of the wave form generated by the impulese\n",
    "\n",
    "#Answers may vary due to round off error \n"
   ]
  },
  {
   "cell_type": "markdown",
   "metadata": {},
   "source": [
    "## Example 16_8 pgno:562"
   ]
  },
  {
   "cell_type": "code",
   "execution_count": 16,
   "metadata": {
    "collapsed": false
   },
   "outputs": [
    {
     "name": "stdout",
     "output_type": "stream",
     "text": [
      "\n",
      " Theta =  micro S 416.666666667\n",
      "\n",
      " X =   0.063\n",
      "\n",
      " R1 =  k Ohm 53.3539946227\n",
      "\n",
      " R2 =  k Ohm 26.0315820533\n",
      "\n",
      " neta =   0.976\n"
     ]
    }
   ],
   "source": [
    "#Chapter 16,Example 8,page 562\n",
    "#Determine the circuit efficiency\n",
    "\n",
    "C1 = 0.125*10**-6 # F\n",
    "C2 = 1*10**-9 # F\n",
    "T2 = 2500.\n",
    "T1 = 250.\n",
    "from math import sqrt\n",
    "# Bsaed on Figure 16.12\n",
    "T2T1 = T2/T1\n",
    "a = 4. # alpha\n",
    "theta = T2/6.\n",
    "# From table 16.1\n",
    "X = (1/a**2)*(1+C2/C1)\n",
    "R1 = (a*theta*10**-6/C2)*(1-sqrt(1-X))\n",
    "R2 = (a*theta*10**-6/(C1+C2))*(1+sqrt(1-X))\n",
    "neta = 1/(1+(1+R1/R2)*C2/C1)\n",
    "print\"\\n Theta =  micro S\", theta\n",
    "print\"\\n X =  \", X\n",
    "print\"\\n R1 =  k Ohm\", R1*10**-3\n",
    "print\"\\n R2 =  k Ohm\", R2*10**-3\n",
    "print\"\\n neta =  \", round(neta,3)\n",
    "\n",
    "# Answers may vary due to round off error\n"
   ]
  },
  {
   "cell_type": "markdown",
   "metadata": {},
   "source": [
    "## Example 16_9 pgno:563"
   ]
  },
  {
   "cell_type": "code",
   "execution_count": 18,
   "metadata": {
    "collapsed": false
   },
   "outputs": [
    {
     "name": "stdout",
     "output_type": "stream",
     "text": [
      "\n",
      " Theta =  micro S 5.26315789474\n",
      "\n",
      " X =   0.025634765625\n",
      "\n",
      " V0 =   960.0\n",
      "\n",
      " R1 =  Ohm 434.546374554\n",
      "\n",
      " R2 =  Ohm 3187.32736562\n",
      "\n",
      " R1/n =  Ohm 54.3182968192\n",
      "\n",
      " R2/n =  Ohm 398.415920703\n",
      "\n",
      " neta =   0.946237811669\n",
      "\n",
      " Maximum output voltage =  kV 908.388299202\n",
      "\n",
      " Energy rating =  J 9216.0\n"
     ]
    }
   ],
   "source": [
    "#Chapter 16,Example 9,page 563\n",
    "#Determine the maximum output voltage and energy rating\n",
    "\n",
    "n = 8.\n",
    "C1 = 0.16/n # micro F\n",
    "C2 = 0.001 # micro F\n",
    "T2 = 50.\n",
    "T1 = 1.2\n",
    "from math import sqrt\n",
    "# beased on figure 16.12\n",
    "a = 6.4 # alpha\n",
    "theta = T2/9.5\n",
    "X = (1/a**2)*(1+C2/C1)\n",
    "R1 = (a*theta*10**-6/C2)*(1-sqrt(1-X))\n",
    "R2 = (a*theta*10**-6/(C1+C2))*(1+sqrt(1-X))\n",
    "R1n = R1/n\n",
    "R2n = R2/n\n",
    "V0 = n*120 \n",
    "neta = 1/(1+(1+R1/R2)*C2/C1)\n",
    "V = neta*V0\n",
    "E = 1./2.*C1*V0**2 \n",
    "print\"\\n Theta =  micro S\", theta\n",
    "print\"\\n X =  \", X\n",
    "print\"\\n V0 =  \", V0\n",
    "print\"\\n R1 =  Ohm\", R1*10**6 \n",
    "print\"\\n R2 =  Ohm\", R2*10**6 \n",
    "print\"\\n R1/n =  Ohm\", R1n*10**6\n",
    "print\"\\n R2/n =  Ohm\", R2n*10**6\n",
    "print\"\\n neta =  \", neta\n",
    "print\"\\n Maximum output voltage =  kV\", V\n",
    "print\"\\n Energy rating =  kJ\", E/1000\n",
    "\n",
    "# Answers greatly vary due to round off error\n"
   ]
  },
  {
   "cell_type": "markdown",
   "metadata": {},
   "source": [
    "## Example 16_10 pgno:564"
   ]
  },
  {
   "cell_type": "code",
   "execution_count": 20,
   "metadata": {
    "collapsed": false
   },
   "outputs": [
    {
     "name": "stdout",
     "output_type": "stream",
     "text": [
      "\n",
      " R1 =  Ohm 840\n",
      "\n",
      " R2 =  Ohm 4800\n",
      "\n",
      " Theta =  microS 6.48074069841\n",
      "\n",
      " Neta =  0.912408759124\n",
      "\n",
      " Alpha =   4.22791178896\n",
      "\n",
      " T1 =  microS 1.81\n",
      "\n",
      " T2 =  microS 45.37\n"
     ]
    }
   ],
   "source": [
    "#Chapter 16,Example 10,page 564\n",
    "#Determine the from and tail times\n",
    "\n",
    "n = 12\n",
    "C1 = 0.125*10**-6/n # micro F\n",
    "C2 = 0.001*10**-6 # micro F\n",
    "R1 = 70*n # ohm\n",
    "R2 = 400*n # ohm\n",
    "from math import sqrt\n",
    "# beased on figure 16.15\n",
    "theta = sqrt(C1*C2*R1*R2)\n",
    "neta = 1/(1+R1/R2+C2/C1)\n",
    "a = R2*C1/(2*theta*neta) # alpha\n",
    "T2 = 7*theta*10**6\n",
    "T1 = T2/25\n",
    "print\"\\n R1 =  Ohm\", R1 \n",
    "print\"\\n R2 =  Ohm\", R2 \n",
    "print\"\\n Theta =  microS\",theta*10**6\n",
    "print\"\\n Neta = \",neta\n",
    "print\"\\n Alpha =  \",a\n",
    "print\"\\n T1 =  microS\", round(T1,2) \n",
    "print\"\\n T2 =  microS\", round(T2,2) \n",
    "\n",
    "# Answers greatly vary due to round off error\n"
   ]
  },
  {
   "cell_type": "markdown",
   "metadata": {},
   "source": [
    "## Example 16_ 11pgno:564"
   ]
  },
  {
   "cell_type": "code",
   "execution_count": 23,
   "metadata": {
    "collapsed": false
   },
   "outputs": [
    {
     "name": "stdout",
     "output_type": "stream",
     "text": [
      "\n",
      " R =  ohm 1.97423402868\n",
      "\n",
      " y =  s**-1 123389.626793\n",
      "\n",
      " I(t) =  * exp(t) * sin(t) A 15.625 -12.33896 20000.0\n"
     ]
    }
   ],
   "source": [
    "#Chapter 16,Example 11,page 564\n",
    "#Determine the equation generated by impulse\n",
    "from math import sqrt\n",
    "w = 0.02*10**6 # s**-1 obtained by solving eq 16.47 iteratively\n",
    "R = sqrt(4-(sqrt(8*8*4)*0.02)**2) # solved the simplified equation\n",
    "L = 8*10**-6\n",
    "V = 25*10**3\n",
    "# In equation 16.46\n",
    "y = R/(2*L)\n",
    "# Deriving the equation\n",
    "a = V/(w*L)\n",
    "print\"\\n R =  ohm\",R\n",
    "print\"\\n y =  s**-1\",y\n",
    "print\"\\n I(t) =  * exp(t) * sin(t) A\",a/10000,round(-y,1)/10000,w\n",
    "\n",
    "# Answers may vary due to round off error\n"
   ]
  },
  {
   "cell_type": "code",
   "execution_count": null,
   "metadata": {
    "collapsed": true
   },
   "outputs": [],
   "source": []
  }
 ],
 "metadata": {
  "kernelspec": {
   "display_name": "Python 2",
   "language": "python",
   "name": "python2"
  },
  "language_info": {
   "codemirror_mode": {
    "name": "ipython",
    "version": 2
   },
   "file_extension": ".py",
   "mimetype": "text/x-python",
   "name": "python",
   "nbconvert_exporter": "python",
   "pygments_lexer": "ipython2",
   "version": "2.7.9"
  }
 },
 "nbformat": 4,
 "nbformat_minor": 0
}
