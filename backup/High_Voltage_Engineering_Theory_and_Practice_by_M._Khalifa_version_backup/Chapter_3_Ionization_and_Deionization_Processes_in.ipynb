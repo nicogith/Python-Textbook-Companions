{
 "cells": [
  {
   "cell_type": "markdown",
   "metadata": {},
   "source": [
    "# Chapter 3 Ionization and Deionization Processes in Gases"
   ]
  },
  {
   "cell_type": "markdown",
   "metadata": {},
   "source": [
    "## Example 3_1 pgno:130"
   ]
  },
  {
   "cell_type": "code",
   "execution_count": 1,
   "metadata": {
    "collapsed": false
   },
   "outputs": [
    {
     "name": "stdout",
     "output_type": "stream",
     "text": [
      "Velocity of Oxygen (O2)=  m^2/s^2 102978\n",
      "Velocity of Oxygen (O)=  m/s 320.901854155\n"
     ]
    }
   ],
   "source": [
    "#Chapter 3, Exmaple 1, page 103\n",
    "#Movement of oxygen molecule\n",
    "\n",
    "#using equation 3.3\n",
    "R = 3814 # J/Kg.mol.K\n",
    "T = 300 # K\n",
    "M = 32 # mol^-1\n",
    "V2 = 3*R*(T/M)\n",
    "V = (V2)**0.5\n",
    "print\"Velocity of Oxygen (O2)=  m^2/s^2\",V2\n",
    "#Since Oxygen is a diatomic gas\n",
    "print\"Velocity of Oxygen (O)=  m/s\",V\n",
    "#Velocity of oxygen is about 300 m/s\n",
    "\n",
    "#Answer given in the textbook is wrong\n"
   ]
  },
  {
   "cell_type": "markdown",
   "metadata": {},
   "source": [
    "## Example 3_2 pgno:104"
   ]
  },
  {
   "cell_type": "code",
   "execution_count": 2,
   "metadata": {
    "collapsed": false
   },
   "outputs": [
    {
     "name": "stdout",
     "output_type": "stream",
     "text": [
      "\n",
      "G =  m^3\t0.001563967325\n",
      "K.E =  J\t157.960699825\n"
     ]
    }
   ],
   "source": [
    "#Chapter 3, Exmaple 2, page 104\n",
    "#Kinetic energy of oxygen molecule\n",
    "#from Eq.3.2\n",
    "G = (2*10**-3/32)*(8314*298*1.01*10**5)*10**-10\n",
    "print\"\\nG =  m^3\\t\",G # Answer is is wrong in the text \n",
    "#From equation 3.1\n",
    "mv2 = 3/2*1.01*10**5 # 1/2*m0*v^2\n",
    "KE = mv2*G#total transalational K.E\n",
    "print\"K.E =  J\\t\",KE\n",
    "#Answer may varry due to round off error\n"
   ]
  },
  {
   "cell_type": "markdown",
   "metadata": {},
   "source": [
    "## Example 3_3 pgno:104"
   ]
  },
  {
   "cell_type": "code",
   "execution_count": 4,
   "metadata": {
    "collapsed": false
   },
   "outputs": [
    {
     "name": "stdout",
     "output_type": "stream",
     "text": [
      "\n",
      "N =  3.63168110755e-20\n",
      "\n",
      "Pressure = N/m**2 0.196\n"
     ]
    }
   ],
   "source": [
    "#Chapter 3, Exmaple 3, page 104\n",
    "#Maximum pressure in the chamber\n",
    "from math import pi\n",
    "#Making use of equation 3.10\n",
    "N1 = (4*pi*1.7*1.7*0.10*10**-10*10**-10)\n",
    "N = 1/N1\n",
    "#Using equation 3.2\n",
    "R = 8314 # J/Kg*mol*K \n",
    "M = 28 # Mol**-1\n",
    "N = 220*10**-8 # Kg\n",
    "T = 300 # K\n",
    "p =  N/M*R*T\n",
    "print\"\\nN = \",N1\n",
    "print\"\\nPressure = N/m**2\",round(p,3)\n",
    "\n",
    "#Answer vary due to round off error\n"
   ]
  },
  {
   "cell_type": "markdown",
   "metadata": {},
   "source": [
    "## Example 3_4 pgno:105"
   ]
  },
  {
   "cell_type": "code",
   "execution_count": 6,
   "metadata": {
    "collapsed": false
   },
   "outputs": [
    {
     "name": "stdout",
     "output_type": "stream",
     "text": [
      "\n",
      "K.E =  J 1.6e-19\n",
      "\n",
      "Temperature = K 7729.0\n"
     ]
    }
   ],
   "source": [
    "#Chapter 3, Exmaple 4, page 105\n",
    "#Temperature & Average K.E of He atom\n",
    "\n",
    "m0 = 1\n",
    "v2 = 1.6*10**-19 # V**2\n",
    "KE = m0*v2\n",
    "#Using equation 3.3\n",
    "T = 2*KE/(3*1.38*10**-23) \n",
    "print\"\\nK.E =  J\",KE\n",
    "print\"\\nTemperature = K\",round(T)\n",
    "  \n"
   ]
  },
  {
   "cell_type": "markdown",
   "metadata": {},
   "source": [
    "## Example 3_5 pgno:105"
   ]
  },
  {
   "cell_type": "code",
   "execution_count": 8,
   "metadata": {
    "collapsed": false
   },
   "outputs": [
    {
     "name": "stdout",
     "output_type": "stream",
     "text": [
      "\n",
      "Volume of He =  m^3 11.15\n"
     ]
    }
   ],
   "source": [
    "#Chapter 3, Exmaple 5, page 105\n",
    "#Volume of Helium \n",
    "\n",
    "# Using equation 3.2\n",
    "G = (1*8314*273)/(2.016*1.01*10**5)\n",
    "print\"\\nVolume of He =  m^3\",round(G,2)\n",
    "\n",
    "\n"
   ]
  },
  {
   "cell_type": "markdown",
   "metadata": {},
   "source": [
    "## Example 3_6 pgno:105"
   ]
  },
  {
   "cell_type": "code",
   "execution_count": 11,
   "metadata": {
    "collapsed": false
   },
   "outputs": [
    {
     "name": "stdout",
     "output_type": "stream",
     "text": [
      " \n",
      " Mean free path = *n0  0.367879441171\n",
      "\n",
      " 5 times mean free path = *n0  0.0067\n"
     ]
    }
   ],
   "source": [
    "#Chapter 3, Exmaple 6, page 105\n",
    "#Determine mean free path \n",
    "from math import e\n",
    "#(a) Mean free path\n",
    "na = e**-1\n",
    "#(b) 5 times mean free path\n",
    "nb = e**-5\n",
    "print\"\\n Mean free path = *n0 \",na\n",
    "print\"\\n 5 times mean free path = *n0 \",round(nb,4)\n",
    "\n"
   ]
  },
  {
   "cell_type": "markdown",
   "metadata": {},
   "source": [
    "## Example 3_7 pgno:105"
   ]
  },
  {
   "cell_type": "code",
   "execution_count": 13,
   "metadata": {
    "collapsed": false
   },
   "outputs": [
    {
     "name": "stdout",
     "output_type": "stream",
     "text": [
      "\n",
      "V**2 =  m**2/s**2 1702247.19101\n",
      "\n",
      "Mean square velocity = m/s 1305.0\n"
     ]
    }
   ],
   "source": [
    "#Chapter 3, Exmaple 7, page 105\n",
    "#Mean square velocity of Helium \n",
    "\n",
    "#based on equation 3.2 and 3.3 we derive the gas density\n",
    "N = 178*10**-3 # kg/m**3\n",
    "# calculating mean square velocity\n",
    "v2 = (3*1.01*10**5)/N\n",
    "print\"\\nV**2 =  m**2/s**2\",v2\n",
    "v = (v2)**0.5\n",
    "print\"\\nMean square velocity = m/s\",round(v)\n",
    "\n",
    "\n"
   ]
  },
  {
   "cell_type": "markdown",
   "metadata": {},
   "source": [
    "## Example 3_8 pgno:106"
   ]
  },
  {
   "cell_type": "code",
   "execution_count": 16,
   "metadata": {
    "collapsed": false
   },
   "outputs": [
    {
     "name": "stdout",
     "output_type": "stream",
     "text": [
      "\n",
      "1/2*m*v^2 =  J 4.0434e-19\n",
      "\n",
      "Energy of free electron =  eV 3.317125\n"
     ]
    }
   ],
   "source": [
    "#Chapter 3, Exmaple 8, page 106\n",
    "#Energy of free electron\n",
    "\n",
    "#Using equation 3.3\n",
    "mv2 = (3/2*1.38*10**-21*293) # 1/2*m*v^2\n",
    "E = mv2*10**38/1.6*10**-19+0.79\n",
    "print\"\\n1/2*m*v^2 =  J\",mv2\n",
    "print\"\\nEnergy of free electron =  eV\",round(E,2)\n",
    "\n",
    "#Answers may vary due to round off error\n"
   ]
  },
  {
   "cell_type": "markdown",
   "metadata": {},
   "source": [
    "## Example 3_9 pgno:106"
   ]
  },
  {
   "cell_type": "code",
   "execution_count": 17,
   "metadata": {
    "collapsed": false
   },
   "outputs": [
    {
     "name": "stdout",
     "output_type": "stream",
     "text": [
      "\n",
      "Number od atoms per cm^3 =  4.5183e+22\n",
      "\n",
      "Average vloume occupied by one atom = cm^3 2.21322178696e-23\n",
      "\n",
      "Average separation between atoms = cm 2.807641e-08\n"
     ]
    }
   ],
   "source": [
    "#Chapter 3, Exmaple 9, page 106\n",
    "#Average separation and volume occupied by one atom\n",
    "\n",
    "NA = 6.0244*10**23\n",
    "NoA = NA*0.075 # Number of atoms/cm^3\n",
    "V = 1/NoA # Average volume occupied by one atom\n",
    "S = 2.807641e-08#nthroot(V,3) #  Average separation between atoms\n",
    "print\"\\nNumber od atoms per cm^3 = \",NoA\n",
    "print\"\\nAverage vloume occupied by one atom = cm^3\",V\n",
    "print\"\\nAverage separation between atoms = cm\",S\n",
    "\n",
    "\n",
    "#Answers may vary due to round off error\n"
   ]
  },
  {
   "cell_type": "markdown",
   "metadata": {},
   "source": [
    "## Example 3_10 pgno:106"
   ]
  },
  {
   "cell_type": "code",
   "execution_count": 18,
   "metadata": {
    "collapsed": false
   },
   "outputs": [
    {
     "name": "stdout",
     "output_type": "stream",
     "text": [
      "\n",
      "Photon energy eV =   62.25\n",
      "\n",
      "Kinetic energy eV =   48.65\n",
      "\n",
      "Velocity m/s =   4133873.88319\n"
     ]
    }
   ],
   "source": [
    "#Chapter 3, Exmaple 10, page 106\n",
    "#KE and velocity of photoelectron\n",
    "\n",
    "h = 4.15*10**-15\n",
    "c = 3*10**8\n",
    "l = 200*10**-10\n",
    "BE = 13.6 # Binding energy\n",
    "PE = h*c/l\n",
    "KE = PE-BE # Kinetic energy of photoelectron\n",
    "Ve = ((2*KE*1.6*10**-19)/9.11*10**-31)**0.5*10**31\n",
    "print\"\\nPhoton energy eV =  \",PE\n",
    "print\"\\nKinetic energy eV =  \",KE\n",
    "print\"\\nVelocity m/s =  \",Ve\n",
    "\n",
    "#Answer may vary due to round off error\n"
   ]
  },
  {
   "cell_type": "markdown",
   "metadata": {},
   "source": [
    "## Example 3_11 pgno:107"
   ]
  },
  {
   "cell_type": "code",
   "execution_count": 20,
   "metadata": {
    "collapsed": false
   },
   "outputs": [
    {
     "name": "stdout",
     "output_type": "stream",
     "text": [
      "\n",
      "Liquid photon absorption coefficient cm^-1 =   0.0896\n"
     ]
    }
   ],
   "source": [
    "#Chapter 3, Exmaple 11, page 107\n",
    "#Find the absorption coefficient\n",
    "from math import log\n",
    "# Using equation 3.20\n",
    "x = 20.\n",
    "I0 = 6.\n",
    "Mu = -1/x*log(1/I0)\n",
    "print\"\\nLiquid photon absorption coefficient cm^-1 =  \",round(Mu,4)\n",
    "\n",
    " \n"
   ]
  },
  {
   "cell_type": "markdown",
   "metadata": {},
   "source": [
    "## Example 3_12 pgno:107"
   ]
  },
  {
   "cell_type": "code",
   "execution_count": 21,
   "metadata": {
    "collapsed": false
   },
   "outputs": [
    {
     "name": "stdout",
     "output_type": "stream",
     "text": [
      "\n",
      "Binding Energy =  eV  12.45\n"
     ]
    }
   ],
   "source": [
    "#Chapter 3, Exmaple 12, page 107\n",
    "#Binding energy\n",
    "h = 4.15*10**-15\n",
    "c = 3*10**8\n",
    "Imax = 1000*10**-10\n",
    "We = h*c/Imax\n",
    "print\"\\nBinding Energy =  eV \",We\n",
    "\n",
    "#Answer may vary due to round off errorS\n"
   ]
  },
  {
   "cell_type": "markdown",
   "metadata": {},
   "source": [
    "## Example 3_14 pgno:108"
   ]
  },
  {
   "cell_type": "code",
   "execution_count": 23,
   "metadata": {
    "collapsed": false
   },
   "outputs": [
    {
     "name": "stdout",
     "output_type": "stream",
     "text": [
      "\n",
      "N =  atoms/m**3  3.52749208584e+22\n",
      "\n",
      "ra =  m  2.7696940413e-10\n"
     ]
    }
   ],
   "source": [
    "#Chapter 3, Exmaple 14, page 108\n",
    "#Diameter of argon atom\n",
    "from math import pi\n",
    "#As derived from example 13\n",
    "N = (1.01*10**5/760)/(1.38*10**-23*273)\n",
    "print\"\\nN =  atoms/m**3 \",N\n",
    "#Use equation 3.10\n",
    "ra = ((85*10**2)/(pi*3.527*10**22))**0.5 \n",
    "print\"\\nra =  m \",ra\n",
    "\n",
    "#Answer may vary due to round off error\n"
   ]
  },
  {
   "cell_type": "markdown",
   "metadata": {},
   "source": [
    "## Example 3_15 pgno:109"
   ]
  },
  {
   "cell_type": "code",
   "execution_count": 24,
   "metadata": {
    "collapsed": false
   },
   "outputs": [
    {
     "name": "stdout",
     "output_type": "stream",
     "text": [
      "\\Mobility of electrons =  m**2/s*V  9375.0\n"
     ]
    }
   ],
   "source": [
    "#Chapter 3, Exmaple 15, page 109\n",
    "#Mobility of electrons\n",
    "\n",
    "Ie = 3\n",
    "d = 0.8\n",
    "A = 8*10**-4\n",
    "Vne = 20*10**17 #V*ne\n",
    "e = 1.6*10**-19\n",
    "ke = (Ie*d)/(A*Vne*e)\n",
    "print\"\\Mobility of electrons =  m**2/s*V \",ke\n",
    "\n"
   ]
  },
  {
   "cell_type": "markdown",
   "metadata": {},
   "source": [
    "## Example 3_17 pgno:110"
   ]
  },
  {
   "cell_type": "code",
   "execution_count": 26,
   "metadata": {
    "collapsed": false
   },
   "outputs": [
    {
     "name": "stdout",
     "output_type": "stream",
     "text": [
      "\n",
      "+(0.02) =  ions/m^3  1911913074.19\n",
      "\n",
      "+(-0.02) =  ions/m^3  5.23036331254e+11\n"
     ]
    }
   ],
   "source": [
    "#Chapter 3, Exmaple 17, page 110\n",
    "#Determine the ion density\n",
    "from math import e\n",
    "#Based on equation 3.50 and 3.52\n",
    "nplus = 10**11*e**(-1.6*10**-19*5*0.02/(1.38*10**-23*293))\n",
    "nminus = 10**10*e**(-1.6*10**-19*5*-0.02/(1.38*10**-23*293)) #textbook uses 0.02 inseatead of -0.02. In the program I have used -0.02\n",
    "print\"\\n+(0.02) =  ions/m^3 \",nplus\n",
    "print\"\\n+(-0.02) =  ions/m^3 \",nminus\n",
    "\n",
    "#answers may vary due to round off error\n"
   ]
  },
  {
   "cell_type": "markdown",
   "metadata": {},
   "source": [
    "## Example 3_18 pgno:110"
   ]
  },
  {
   "cell_type": "code",
   "execution_count": 27,
   "metadata": {
    "collapsed": false
   },
   "outputs": [
    {
     "name": "stdout",
     "output_type": "stream",
     "text": [
      "\n",
      " r1^2-r2^2 =   3.03255e-05\n",
      "\n",
      " r2 =  m  0.00551502493195\n"
     ]
    }
   ],
   "source": [
    "#Chapter 3, Exmaple 18, page 110\n",
    "#Determine the diameter\n",
    "\n",
    "#Based on the equation 3.40\n",
    "k = 1.38*10**-23\n",
    "T = 293\n",
    "z2z1 = 0.05\n",
    "e = 1.6*10**-19\n",
    "E = 250\n",
    "r1 = 0.09*10**-6\n",
    "r1r2 = (6*k*T*z2z1)/(e*E)\n",
    "r2 = (r1+r1r2)**0.5\n",
    "print\"\\n r1^2-r2^2 =  \",r1r2\n",
    "print\"\\n r2 =  m \",r2\n",
    "\n",
    "#answers may vary due to round off error\n"
   ]
  },
  {
   "cell_type": "markdown",
   "metadata": {},
   "source": [
    "## Example 3_19 pgno:111"
   ]
  },
  {
   "cell_type": "code",
   "execution_count": 30,
   "metadata": {
    "collapsed": false
   },
   "outputs": [
    {
     "name": "stdout",
     "output_type": "stream",
     "text": [
      "\n",
      " lambda =  m  0.000222148172831\n",
      "\n",
      " Vi =  V  28.5\n"
     ]
    }
   ],
   "source": [
    "#Chapter 3, Exmaple 19, page 111\n",
    "#Determine mean free path and ionization\n",
    "\n",
    "#(a)Mean free path\n",
    "#Based on equation 3.14 and 3.15\n",
    "lamb = 1/(9003*0.5);\n",
    "#(b)Ionization potential\n",
    "Vi = 256584./9003.\n",
    "print\"\\n lambda =  m \",lamb\n",
    "print\"\\n Vi =  V \",round(Vi,1)\n",
    "\n",
    "#answers may vary due to round off error\n"
   ]
  },
  {
   "cell_type": "code",
   "execution_count": null,
   "metadata": {
    "collapsed": true
   },
   "outputs": [],
   "source": []
  },
  {
   "cell_type": "code",
   "execution_count": null,
   "metadata": {
    "collapsed": true
   },
   "outputs": [],
   "source": []
  }
 ],
 "metadata": {
  "kernelspec": {
   "display_name": "Python 2",
   "language": "python",
   "name": "python2"
  },
  "language_info": {
   "codemirror_mode": {
    "name": "ipython",
    "version": 2
   },
   "file_extension": ".py",
   "mimetype": "text/x-python",
   "name": "python",
   "nbconvert_exporter": "python",
   "pygments_lexer": "ipython2",
   "version": "2.7.9"
  }
 },
 "nbformat": 4,
 "nbformat_minor": 0
}
