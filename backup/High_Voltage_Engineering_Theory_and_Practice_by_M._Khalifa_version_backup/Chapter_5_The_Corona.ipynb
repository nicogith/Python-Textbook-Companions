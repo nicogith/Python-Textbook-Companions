{
 "cells": [
  {
   "cell_type": "markdown",
   "metadata": {},
   "source": [
    "# Chapter 5 The Corona Discharge"
   ]
  },
  {
   "cell_type": "markdown",
   "metadata": {},
   "source": [
    "## Example 5_2 pgno:173"
   ]
  },
  {
   "cell_type": "code",
   "execution_count": 8,
   "metadata": {
    "collapsed": false
   },
   "outputs": [
    {
     "name": "stdout",
     "output_type": "stream",
     "text": [
      "\n",
      " Part (a): based on equation 4.13\n",
      "\n",
      " Breakdown voltage =  V or  kV 9005.94518519 9.0\n",
      "\n",
      " Part (b):Corrsponding to an avelanche size of 10**8\n",
      "\n",
      " Breakdown voltage =  V or  kV 9688.16740741 9.7\n",
      "\n",
      " Part (c):According to criteria expressed by Equations 5.4 and 5.5\n",
      "\n",
      " Breakdown voltage =  kV or  kV 9.4 9.2\n"
     ]
    }
   ],
   "source": [
    "#Chapter 5, Exmaple 2, page 173\n",
    "#Calculate breakdown voltage\n",
    "\n",
    "#(a)Based on equation 4.13\n",
    "p = 101.3 # kPa\n",
    "Ep = 2400.4/0.027\n",
    "E = p*Ep\n",
    "d = 1*10**-3 # 1 mm\n",
    "Vs1 = E*d\n",
    "print\"\\n Part (a): based on equation 4.13\"\n",
    "print\"\\n Breakdown voltage =  V or  kV\",Vs1,round(Vs1*10**-3)\n",
    "\n",
    "#(b)Corrsponding to an avelanche size of 10**8\n",
    "p = 101.3 # kPa\n",
    "Cp = Ep*0.027*p\n",
    "Vs2 = (18.42 + (Cp*10**-3))/0.027\n",
    "print\"\\n Part (b):Corrsponding to an avelanche size of 10**8\"\n",
    "print\"\\n Breakdown voltage =  V or  kV\",Vs2,round(Vs2*10**-3,1)\n",
    "\n",
    "#(b)According to criteria expressed by Equations 5.4 and 5.5\n",
    "p = 101.3 # kPa\n",
    "Vs3a = 9.4\n",
    "Vs3b = 9.2\n",
    "print\"\\n Part (c):According to criteria expressed by Equations 5.4 and 5.5\"\n",
    "print\"\\n Breakdown voltage =  kV or  kV\",Vs3a,Vs3b\n",
    "\n",
    "#Answer may vary due to round off error\n",
    "\n"
   ]
  },
  {
   "cell_type": "markdown",
   "metadata": {},
   "source": [
    "## Example 5_3 pgno:174"
   ]
  },
  {
   "cell_type": "code",
   "execution_count": 9,
   "metadata": {
    "collapsed": false
   },
   "outputs": [
    {
     "name": "stdout",
     "output_type": "stream",
     "text": [
      "\n",
      " Part (a): based on equation 5.14\n",
      "\n",
      " Breakdown voltage =  kV or  kV 27.0178355556 45.03\n",
      "\n",
      " Part (b):According to eqution 5.13\n",
      "\n",
      " Breakdown voltage =  V or  kV 27.7000577778 45.71\n",
      "\n",
      " Part (c):According to criteria expressed by Equations 5.4 and 5.5\n",
      "\n",
      " Breakdown voltage =  kV or  kV 27.7 45.5\n"
     ]
    }
   ],
   "source": [
    "#Chapter 5, Exmaple 3, page 174\n",
    "#Calculate breakdown voltage at atm pressure 3 and 5\n",
    "\n",
    "#(a)Based on equation 5.14\n",
    "p = 101.3 # kPa\n",
    "Ep = 2400.4/0.027\n",
    "E = p*Ep\n",
    "d = 1*10**-3 # 1 mm\n",
    "Vs13 = E*d*3 # at 3 atm\n",
    "Vs15 = E*d*5 # at 5 atm\n",
    "print\"\\n Part (a): based on equation 5.14\"\n",
    "print\"\\n Breakdown voltage =  kV or  kV\",Vs13*10**-3,round(Vs15*10**-3,2)\n",
    "\n",
    "#(b)According to eqution 5.13\n",
    "p = 101.3 # kPa\n",
    "Cp3 = Ep*0.027*p*3 # at 3 atm\n",
    "Vs23 = (18.42 + (Cp3*10**-3))/0.027\n",
    "Cp5 = Ep*0.027*p*5 # at 5 atm\n",
    "Vs25 = (18.42 + (Cp5*10**-3))/0.027\n",
    "print\"\\n Part (b):According to eqution 5.13\"\n",
    "print\"\\n Breakdown voltage =  V or  kV\",Vs23*10**-3,round(Vs25*10**-3,2)\n",
    "\n",
    "#(b)According to criteria expressed by Equations 5.4 and 5.5\n",
    "p = 101.3 # kPa\n",
    "Vs3a = 27.73 # at 3 atm\n",
    "Vs3b = 45.5 # at 5 atm\n",
    "print\"\\n Part (c):According to criteria expressed by Equations 5.4 and 5.5\"\n",
    "print\"\\n Breakdown voltage =  kV or  kV\",round(Vs3a,1),round(Vs3b,1)\n",
    "\n",
    "#Answer may vary due to round off error\n"
   ]
  },
  {
   "cell_type": "markdown",
   "metadata": {},
   "source": [
    "## Example 5_8 pgno:179"
   ]
  },
  {
   "cell_type": "code",
   "execution_count": 11,
   "metadata": {
    "collapsed": false
   },
   "outputs": [
    {
     "name": "stdout",
     "output_type": "stream",
     "text": [
      "\n",
      " E0 =  kVpeak/cm 39.0\n",
      "\n",
      " Part (a)\n",
      "\n",
      " The postive corona =  kVpeak 241.8\n",
      "\n",
      " The negative corona =  kV 171.0\n",
      "\n",
      " Part (b)\n",
      "\n",
      " The postive corona =  kVpeak 324.48\n",
      "\n",
      " The negative corona =  kV 228.8\n",
      "\n",
      " Part (c)\n",
      "\n",
      " The postive corona =  kVpeak 388.83\n",
      "\n",
      " The negative corona =  kV 274.2\n",
      "\n",
      " Part (d)\n",
      "\n",
      " The postive corona =  kVpeak 444.21\n",
      "\n",
      " The negative corona =  kV 313.2\n"
     ]
    }
   ],
   "source": [
    "#Chapter 5, Exmaple 8, page 179\n",
    "#Calculate corona onset voltage\n",
    "\n",
    "s = 4 # cm\n",
    "r = 1 # cm\n",
    "D = 5*10^2 # cm\n",
    "dt = 1\n",
    "E0 = 30*dt*(1 + 0.3*(dt*r)**0.5)\n",
    "print\"\\n E0 =  kVpeak/cm\",E0\n",
    "#using equations (5.18), the positive and negative corona\n",
    "En = 27.501 # kVpeak/cm\n",
    "#part a\n",
    "Vp1 = 6.2*E0\n",
    "Vn1 = 6.2*En\n",
    "print\"\\n Part (a)\"\n",
    "print\"\\n The postive corona =  kVpeak\",Vp1\n",
    "print\"\\n The negative corona =  kV\",round(Vn1)\n",
    "#part b\n",
    "Vp2 = 8.32*E0\n",
    "Vn2 = 8.32*En\n",
    "print\"\\n Part (b)\"\n",
    "print\"\\n The postive corona =  kVpeak\",Vp2\n",
    "print\"\\n The negative corona =  kV\",round(Vn2,1)\n",
    "#part c\n",
    "Vp3 = 9.97*E0\n",
    "Vn3 = 9.97*En\n",
    "print\"\\n Part (c)\"\n",
    "print\"\\n The postive corona =  kVpeak\",Vp3\n",
    "print\"\\n The negative corona =  kV\",round(Vn3,1)\n",
    "#part d\n",
    "Vp4 = 11.39*E0\n",
    "Vn4 = 11.39*En\n",
    "print\"\\n Part (d)\"\n",
    "print\"\\n The postive corona =  kVpeak\",Vp4\n",
    "print\"\\n The negative corona =  kV\",round(Vn4,1)\n",
    "\n",
    "#Answer CONSIDERABLY vary due to round off error.\n",
    "\n",
    "\n",
    "\n",
    "\n",
    "\n"
   ]
  },
  {
   "cell_type": "markdown",
   "metadata": {},
   "source": [
    "## Example 5_9 pgno:180"
   ]
  },
  {
   "cell_type": "code",
   "execution_count": 12,
   "metadata": {
    "collapsed": false
   },
   "outputs": [
    {
     "name": "stdout",
     "output_type": "stream",
     "text": [
      "\n",
      " Mean geometric distance between the conductors  m 6.004626\n",
      "\n",
      " E0 =  kVpeak/cm 39.0\n",
      "\n",
      " V0peak =  kVpeak 249.510313968\n",
      "\n",
      " V0 =  kV 175.9\n"
     ]
    }
   ],
   "source": [
    "#Chapter 5, Exmaple 9, page 180\n",
    "#Calculate corona onset voltage\n",
    "from math import log\n",
    "t = 5*5*8.66 # the three side of the trangle in m\n",
    "Deq = 6.004626#nthroot(t,3) \n",
    "dt = 1 #delta = 1 at standard temperature and pressure\n",
    "r = 1 #radius of the conductor\n",
    "En = 27.501 # kVpeak/cm\n",
    "E0 = 30*dt*(1 + 0.3*(dt*r)**0.5)\n",
    "V0peak = E0*log(Deq*10**2)\n",
    "V0 = En*log(Deq*10**2)\n",
    "\n",
    "print\"\\n Mean geometric distance between the conductors  m\",Deq\n",
    "print\"\\n E0 =  kVpeak/cm\",E0\n",
    "print\"\\n V0peak =  kVpeak\",V0peak\n",
    "print\"\\n V0 =  kV\",round(V0,1)\n",
    "\n",
    "#Answers may vary due to round off error\n",
    "\n"
   ]
  },
  {
   "cell_type": "markdown",
   "metadata": {},
   "source": [
    "## Example 5_10 pgno:180"
   ]
  },
  {
   "cell_type": "code",
   "execution_count": 13,
   "metadata": {
    "collapsed": false
   },
   "outputs": [
    {
     "name": "stdout",
     "output_type": "stream",
     "text": [
      "\n",
      " Reative air density   0.600612870276\n",
      "\n",
      " Corona onset field = kVpeak/cm 19.409458636\n",
      "\n",
      " V0peak =  kVpeak 124.175900467\n",
      "\n",
      " V0 =  kV 175.943157549\n",
      "\n",
      " Ration of V0 =   1.56300480127\n",
      "\n",
      " Corona power loss Pc =  kW/km 6.51960146384\n",
      "\n",
      " Corona current =  mA/Km 41.1\n"
     ]
    }
   ],
   "source": [
    "#Chapter 5, Exmaple 10, page 180\n",
    "#Calculate corona power loss\n",
    "from math import log\n",
    "p = 75 # pressure\n",
    "t = 35 # temprature\n",
    "m1 = 0.92\n",
    "m2 = 0.95\n",
    "t = 5*5*8.66 # the three side of the trangle in m\n",
    "Deq = 6.004626#nthroot(t,3) \n",
    "dt = (3.92*p)/(273+t) #Relative air density\n",
    "E0 = 30*dt*(1 + 0.3*(dt)**0.5)*m1*m2\n",
    "En = 27.501 # kVpeak/cm\n",
    "Vph = (275*10**3)/(3)**0.5\n",
    "V0peak = E0*log(Deq*10**2)\n",
    "V0 = En*log(Deq*10**2)\n",
    "V0ratio = 275/V0\n",
    "print\"\\n Reative air density  \",dt\n",
    "print\"\\n Corona onset field = kVpeak/cm\",E0\n",
    "print\"\\n V0peak =  kVpeak\",V0peak\n",
    "print\"\\n V0 =  kV\",V0\n",
    "print\"\\n Ration of V0 =  \",V0ratio\n",
    "K = 0.05 # K factor\n",
    "Pc = (3.73*K*50*Vph**2)/(Deq*10**2)**2\n",
    "Cc = Pc*10**3/Vph\n",
    "print\"\\n Corona power loss Pc =  kW/km\",Pc*10**-5\n",
    "print\"\\n Corona current =  mA/Km\",round(Cc*10**-2,1)\n",
    "\n",
    "#Answer vary due to round off error\n",
    "#Some of the answers provided in the textbook are wrong\n"
   ]
  },
  {
   "cell_type": "markdown",
   "metadata": {},
   "source": [
    "## Example 5_11 pgno:180"
   ]
  },
  {
   "cell_type": "code",
   "execution_count": 15,
   "metadata": {
    "collapsed": false
   },
   "outputs": [
    {
     "name": "stdout",
     "output_type": "stream",
     "text": [
      "\n",
      " E0 =  kVpeak/cm or 20 kV/cm 28.3912466575\n",
      "\n",
      " V0 =  kV 425.955402321\n",
      "\n",
      " V0 (line to line) =  kV 737.8\n",
      "\n",
      " Voltage (line to line) =  kV 1312.5\n",
      "\n",
      " Envelope radius = 5 cm\n"
     ]
    }
   ],
   "source": [
    "#Chapter 5, Exmaple 11, page 180\n",
    "#Calculate corona onset voltage and effective corona envelope\n",
    "from math import log\n",
    "#(a) corona onset voltage\n",
    "r = 3.175 # cm\n",
    "h = 13 # m\n",
    "m= 0.9 # m1 and m2\n",
    "dt = 1 # Relative air density\n",
    "E0 = 30*dt*(1 + 0.3/(r)**0.5)*m*m\n",
    "V0 = 20*r*log(2*h*10**2/r)\n",
    "print\"\\n E0 =  kVpeak/cm or 20 kV/cm\",E0\n",
    "print\"\\n V0 =  kV\",V0\n",
    "print\"\\n V0 (line to line) =  kV\",round(V0*(3)**0.5,1)\n",
    "\n",
    "#(b)Corona envelope at 2.5 p.u\n",
    "V = 2.5*525 # line to line voltage * 2.5\n",
    "print\"\\n Voltage (line to line) =  kV\",V\n",
    "#Solving the equations in trila and error method\n",
    "print\"\\n Envelope radius = 5 cm\"\n",
    "\n",
    "# Answers may vary due to round off error.\n",
    " \n"
   ]
  },
  {
   "cell_type": "code",
   "execution_count": null,
   "metadata": {
    "collapsed": true
   },
   "outputs": [],
   "source": []
  }
 ],
 "metadata": {
  "kernelspec": {
   "display_name": "Python 2",
   "language": "python",
   "name": "python2"
  },
  "language_info": {
   "codemirror_mode": {
    "name": "ipython",
    "version": 2
   },
   "file_extension": ".py",
   "mimetype": "text/x-python",
   "name": "python",
   "nbconvert_exporter": "python",
   "pygments_lexer": "ipython2",
   "version": "2.7.9"
  }
 },
 "nbformat": 4,
 "nbformat_minor": 0
}
