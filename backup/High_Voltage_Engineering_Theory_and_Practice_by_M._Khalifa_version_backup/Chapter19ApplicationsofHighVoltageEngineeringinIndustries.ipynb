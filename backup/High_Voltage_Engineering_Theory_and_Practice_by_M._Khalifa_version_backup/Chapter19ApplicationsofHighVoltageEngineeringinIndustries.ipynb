{
 "cells": [
  {
   "cell_type": "markdown",
   "metadata": {},
   "source": [
    "# Chapter 19 Applications of High Voltage Engineering in Industries "
   ]
  },
  {
   "cell_type": "markdown",
   "metadata": {},
   "source": [
    "## Example 19_1 pgno:665"
   ]
  },
  {
   "cell_type": "code",
   "execution_count": 1,
   "metadata": {
    "collapsed": false
   },
   "outputs": [
    {
     "name": "stdout",
     "output_type": "stream",
     "text": [
      "\n",
      " The seperation between the particles =  m 1.63265306122\n"
     ]
    }
   ],
   "source": [
    " #Chapter 19,Example 1,page 665\n",
    "#Determine the sepration between the particles\n",
    "\n",
    "# Based on the equations 19.6, 19.7, 19.8, 19.9 and 19.10\n",
    "E = 8*10**5 # V/m\n",
    "qm = 10*10**-6 # C/kg, qm = q/m\n",
    "y = -1 # m\n",
    "t = (1*2/9.8)\n",
    "x = 1./2.*qm*E*t\n",
    "print\"\\n The seperation between the particles =  m\",round(2*x,3)\n",
    "\n",
    "# Answers may vary due to round off error\n"
   ]
  },
  {
   "cell_type": "markdown",
   "metadata": {},
   "source": [
    "## Example 19_2 pgno:667"
   ]
  },
  {
   "cell_type": "code",
   "execution_count": 2,
   "metadata": {
    "collapsed": false
   },
   "outputs": [
    {
     "name": "stdout",
     "output_type": "stream",
     "text": [
      "\n",
      " The pumping pressure P =  N/m**2 900.0\n"
     ]
    }
   ],
   "source": [
    "#Chapter 19,Example 2,page 667\n",
    "#Determine the pumping pressure\n",
    "\n",
    "p0 = 30*10**-3 # C/m**3\n",
    "V = 30*10**3 # V\n",
    "P = p0*V\n",
    "print\"\\n The pumping pressure P =  N/m**2\",P\n",
    "# Answers may vary due to round off error\n"
   ]
  },
  {
   "cell_type": "markdown",
   "metadata": {},
   "source": [
    "## Example 19_4 pgno:670"
   ]
  },
  {
   "cell_type": "code",
   "execution_count": 4,
   "metadata": {
    "collapsed": false
   },
   "outputs": [
    {
     "name": "stdout",
     "output_type": "stream",
     "text": [
      "\n",
      " The vertical displacement of the drop =  m 0.0029\n"
     ]
    }
   ],
   "source": [
    "#Chapter 19,Example 4,page 670\n",
    "#Determine the vertical displacement of the drop\n",
    "\n",
    "d = 0.03*10**-3 # m\n",
    "p = 2000 # kg/m**3\n",
    "q = 100*10**-15 # C\n",
    "V0 = 3500. # V\n",
    "d2 = 2*10**-3 # m\n",
    "L1 = 15*10**-3 # m\n",
    "L2 = 12*10**-3 # m\n",
    "Vz = 25. # m/s\n",
    "from math import pi\n",
    "m = 4./3.*pi*(1./2.*d)**3*p\n",
    "t0 = L1/Vz\n",
    "Vx0 = q*V0*t0/(m*d2)\n",
    "x0 = 1./2.*Vx0*t0\n",
    "t1 = (L1+L2)/Vz\n",
    "x1 = x0+Vx0*(t1-t0)\n",
    "\n",
    "print\"\\n The vertical displacement of the drop =  m\",round(x1,4)\n",
    " \n",
    "# Answers may vary due to round off error\n"
   ]
  },
  {
   "cell_type": "markdown",
   "metadata": {},
   "source": [
    "## Example 19_5 pgno672"
   ]
  },
  {
   "cell_type": "code",
   "execution_count": 5,
   "metadata": {
    "collapsed": false
   },
   "outputs": [
    {
     "name": "stdout",
     "output_type": "stream",
     "text": [
      "\n",
      " Ea =  V/m 902570.520843\n",
      "\n",
      " Eb =  V/m 300856.840281\n",
      "\n",
      " Charge density =  C/m**2 2.65957446809e-06\n"
     ]
    }
   ],
   "source": [
    "#Chapter 19,Example 5,page 672\n",
    "#Determine the electric stress and charge density\n",
    "\n",
    "a = 25*10**-6 # m\n",
    "b = 75*10**-6 # m\n",
    "Er = 2.8\n",
    "ps = 25*10**-6 # C/m**3\n",
    "E0 = 8.84*10**-12\n",
    "\n",
    "Ea = (b*ps)/(ps*E0+b*Er*E0)\n",
    "Eb = (a*ps)/(ps*E0+b*Er*E0) # the negative noation is removed to obtain positive answer as in the book \n",
    "psc = E0*Eb\n",
    "\n",
    "print\"\\n Ea =  V/m\",Ea\n",
    "print\"\\n Eb =  V/m\",Eb\n",
    "print\"\\n Charge density =  C/m**2\",psc\n",
    "\n",
    "# Answers may vary due to round off error\n"
   ]
  },
  {
   "cell_type": "markdown",
   "metadata": {},
   "source": [
    "## Example 19_6 pgno:675"
   ]
  },
  {
   "cell_type": "code",
   "execution_count": 6,
   "metadata": {
    "collapsed": false
   },
   "outputs": [
    {
     "name": "stdout",
     "output_type": "stream",
     "text": [
      "\n",
      " Current density =  A/m**2 5.304e-08\n"
     ]
    }
   ],
   "source": [
    "#Chapter 19,Example 6,page 675\n",
    "#Determine the current density\n",
    "\n",
    "\n",
    "E0 = 8.84*10**-12\n",
    "Us = 1.5*10**-3*10**-4\n",
    "V = 100\n",
    "d3 = 10**-6 # d**3\n",
    "J = 4*E0*Us*V**2/d3\n",
    "print\"\\n Current density =  A/m**2\",J\n",
    "\n",
    "# Answer may vary due to round off error\n"
   ]
  },
  {
   "cell_type": "markdown",
   "metadata": {},
   "source": [
    "## Example 19_7 pgno:676"
   ]
  },
  {
   "cell_type": "code",
   "execution_count": 8,
   "metadata": {
    "collapsed": false
   },
   "outputs": [
    {
     "name": "stdout",
     "output_type": "stream",
     "text": [
      "\n",
      " Thickness of the dust layer =  m 0.00177\n"
     ]
    }
   ],
   "source": [
    "#Chapter 19,Example 7,page 676\n",
    "#Determine the thickness of dust layer\n",
    "\n",
    "Edb = 3*10**6\n",
    "E0 = 8.84*10**-12\n",
    "p0 = 15*10**-3\n",
    "d = Edb*E0/p0\n",
    "print\"\\n Thickness of the dust layer =  m\",round(d,5)\n",
    "\n",
    "# Answers may vary due to round off errors\n"
   ]
  },
  {
   "cell_type": "markdown",
   "metadata": {},
   "source": [
    "## Example 19_8 pgno:676"
   ]
  },
  {
   "cell_type": "code",
   "execution_count": 9,
   "metadata": {
    "collapsed": false
   },
   "outputs": [
    {
     "name": "stdout",
     "output_type": "stream",
     "text": [
      "\n",
      " Ion velocity =  m/s 71010.8899112\n",
      "\n",
      " Populsion force =  N 0.0197152859477\n"
     ]
    }
   ],
   "source": [
    "#Chapter 19,Example 8,page 676\n",
    "#Determine the velocity of the ejected ions and propolsion force\n",
    "from math import sqrt\n",
    "mi = 133*1.67*10**-27 # kg\n",
    "qi = 1.6*10**-19 # C\n",
    "Va = 3500 # V\n",
    "I = 0.2 # A\n",
    "vi = sqrt(2*qi*Va/mi)\n",
    "F = vi*mi*I/qi\n",
    "print\"\\n Ion velocity =  m/s\",vi\n",
    "print\"\\n Populsion force =  N\",F\n",
    "\n",
    "# Answers may vary due to round off errors\n"
   ]
  },
  {
   "cell_type": "markdown",
   "metadata": {},
   "source": [
    "## Example 19_9 pgno:667"
   ]
  },
  {
   "cell_type": "code",
   "execution_count": 11,
   "metadata": {
    "collapsed": false
   },
   "outputs": [
    {
     "name": "stdout",
     "output_type": "stream",
     "text": [
      "\n",
      " Velocity =  m/s2 2.0\n",
      "\n",
      " Position of the particle =  m 0.24\n"
     ]
    }
   ],
   "source": [
    "#Chapter 19,Example 9,page 677\n",
    "#Determine the position of the particle \n",
    "\n",
    "V = 120*10**3 # applied voltage in V\n",
    "d = 0.6 #  space b/w the plates in m\n",
    "vd = 1.2 # vertical dimention in m \n",
    "qm = 10*10**-6 # charge to mass C/kg \n",
    "y = 4.9\n",
    "from math import sqrt\n",
    "t0 = sqrt(vd/y)\n",
    "# based on eq 19.51 and 19.52\n",
    "dx2 = qm*V/d\n",
    "x = t0**2\n",
    "print\"\\n Velocity =  m/s2\",dx2\n",
    "print\"\\n Position of the particle =  m\",round(x,2)\n",
    "\n",
    "# Answer may vary due to round off error\n"
   ]
  },
  {
   "cell_type": "markdown",
   "metadata": {},
   "source": [
    "## Example 19_10 pgno:679"
   ]
  },
  {
   "cell_type": "code",
   "execution_count": 13,
   "metadata": {
    "collapsed": false
   },
   "outputs": [
    {
     "name": "stdout",
     "output_type": "stream",
     "text": [
      "\n",
      " The minimum voltage required for gnerating drops witha charge of 50 pC per drop =  kV 11.81\n"
     ]
    }
   ],
   "source": [
    "#Chapter 19,Example 10,page 679\n",
    "#Determine the minimum voltage required for gnerating drops witha charge of 50 pC per drop\n",
    "from math import pi,log\n",
    "q = 50*10**-12\n",
    "a = 25*10**-6\n",
    "b = 750*10**-6\n",
    "E0 = 8.84*10**-12\n",
    "r = 50*10**-6 \n",
    "V = (3*q*b**2*log(b/a))/(7*pi*E0*r**3)\n",
    "print\"\\n The minimum voltage required for gnerating drops witha charge of 50 pC per drop =  kV\",round(V*10**-6,2)\n",
    "\n",
    "# Answers may vary due to round off error\n"
   ]
  },
  {
   "cell_type": "code",
   "execution_count": null,
   "metadata": {
    "collapsed": true
   },
   "outputs": [],
   "source": []
  }
 ],
 "metadata": {
  "kernelspec": {
   "display_name": "Python 2",
   "language": "python",
   "name": "python2"
  },
  "language_info": {
   "codemirror_mode": {
    "name": "ipython",
    "version": 2
   },
   "file_extension": ".py",
   "mimetype": "text/x-python",
   "name": "python",
   "nbconvert_exporter": "python",
   "pygments_lexer": "ipython2",
   "version": "2.7.9"
  }
 },
 "nbformat": 4,
 "nbformat_minor": 0
}
