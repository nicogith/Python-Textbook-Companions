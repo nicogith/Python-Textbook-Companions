{
 "cells": [
  {
   "cell_type": "markdown",
   "metadata": {},
   "source": [
    "# Chapter 12 High Voltage cables "
   ]
  },
  {
   "cell_type": "markdown",
   "metadata": {},
   "source": [
    "## Example 12_1 pgno403"
   ]
  },
  {
   "cell_type": "code",
   "execution_count": 2,
   "metadata": {
    "collapsed": false
   },
   "outputs": [
    {
     "name": "stdout",
     "output_type": "stream",
     "text": [
      "\n",
      " Radius =  cm  4.8\n",
      "\n",
      " Inner radial thickness = cm  2.8\n",
      "\n",
      " Outer radial thickness =  cm 0.2\n",
      "\n",
      " Vpeak of outer dielectric =  kV 70.0374989883\n",
      "\n",
      " Vpeak of inner dielectric =  kV 4.89863934243\n",
      "\n",
      " Peak voltage of cable =  kV 74.9361383307\n",
      "\n",
      " Safe opearating voltage =  kV 53.0\n"
     ]
    }
   ],
   "source": [
    "#Chapter 12, Exmaple 1, page 403\n",
    "#Calculate radial thickness of insulating layer\n",
    "from math import log\n",
    "#based on equation 12.15 and v1alues of E1 and E2 \n",
    "E1 = 40. # kV/cm\n",
    "E2 = 25. # kV/cm\n",
    "ep1 = 6. # permittives of the material\n",
    "ep2 = 4. #permittives of the material\n",
    "d1 = 4. # cm\n",
    "d2 = 10. # cm\n",
    "r1 = 2. # cm\n",
    "r2 = (E1*ep1*2)/(E2*ep2)\n",
    "inner = r2-(d1/2)\n",
    "outer = (d2/2)-r2\n",
    "#based on equation 12.16\n",
    "V1peak = E1*r1*log(r2/r1) # inner dielectric\n",
    "V2peak = E2*r2*log(d2/(2*r2)) # outter dielectric\n",
    "Vcab = V1peak+V2peak # Peak volatge of cable\n",
    "rms = Vcab/(2)**0.5\n",
    "print\"\\n Radius =  cm \",r2\n",
    "print\"\\n Inner radial thickness = cm \",inner\n",
    "print\"\\n Outer radial thickness =  cm\",outer\n",
    "print\"\\n Vpeak of outer dielectric =  kV\", V1peak\n",
    "print\"\\n Vpeak of inner dielectric =  kV\", V2peak\n",
    "print\"\\n Peak voltage of cable =  kV\", Vcab\n",
    "print\"\\n Safe opearating voltage =  kV\", round(rms)\n",
    "\n",
    "\n"
   ]
  },
  {
   "cell_type": "markdown",
   "metadata": {},
   "source": [
    "## Example 12_2 pgno404"
   ]
  },
  {
   "cell_type": "code",
   "execution_count": 4,
   "metadata": {
    "collapsed": false
   },
   "outputs": [
    {
     "name": "stdout",
     "output_type": "stream",
     "text": [
      "\n",
      " Radius =  cm  2.57\n"
     ]
    }
   ],
   "source": [
    "#Chapter 12, Exmaple 2, page 404\n",
    "#Calculate optimum value of r\n",
    "\n",
    "#Based on equation 12.17\n",
    "V1 = 100 # kV\n",
    "V2 = 55 # kV\n",
    "r = V1*(2)**0.5/V2\n",
    "print\"\\n Radius =  cm \",round(r,2)\n",
    "\n",
    "\n"
   ]
  },
  {
   "cell_type": "markdown",
   "metadata": {},
   "source": [
    "## Example 12_3 pgno406"
   ]
  },
  {
   "cell_type": "code",
   "execution_count": 9,
   "metadata": {
    "collapsed": false
   },
   "outputs": [
    {
     "name": "stdout",
     "output_type": "stream",
     "text": [
      "\n",
      " Resistivity of insulation material = 10**10 ohm/m  4.53\n"
     ]
    }
   ],
   "source": [
    "#Chapter 12, Exmaple 3, page 406\n",
    "#Calculate resistivity\n",
    "from math import log,pi\n",
    "l = 10**4 # cable length in m\n",
    "Rr = 3/1.5 # R/r ratio\n",
    "ins = 0.5*10**6 # insulation in ohms\n",
    "p = 2*pi*l*ins/log(Rr)\n",
    "print\"\\n Resistivity of insulation material = 10**10 ohm/m \",round(p/10**10,2)\n",
    "\n",
    " \n"
   ]
  },
  {
   "cell_type": "markdown",
   "metadata": {},
   "source": [
    "## Example 12_4 pgno406"
   ]
  },
  {
   "cell_type": "code",
   "execution_count": 11,
   "metadata": {
    "collapsed": false
   },
   "outputs": [
    {
     "name": "stdout",
     "output_type": "stream",
     "text": [
      "\n",
      " C4 =  mircoF  5.0\n",
      "\n",
      " Line charging current =  A  18.1379936423\n",
      "\n",
      " Charging =  kVA  314.16\n"
     ]
    }
   ],
   "source": [
    "#Chapter 12, Exmaple 4, page 406\n",
    "#Calculate resistivity\n",
    "from math import pi\n",
    "# Baased on Equation 12.1*10**2\n",
    "c4 = 0.5*10**2/10 # micro F\n",
    "Ic = 2*10**4*2*pi*5*50*10**-6/(3)**0.5\n",
    "C = ((3)**0.5*10000*Ic)*(10**-9*10**6)\n",
    "print\"\\n C4 =  mircoF \",c4\n",
    "print\"\\n Line charging current =  A \",Ic\n",
    "print\"\\n Charging =  kVA \",round(C,2)\n",
    "\n"
   ]
  },
  {
   "cell_type": "markdown",
   "metadata": {},
   "source": [
    "## Example 12_5 pgno408"
   ]
  },
  {
   "cell_type": "code",
   "execution_count": 13,
   "metadata": {
    "collapsed": false
   },
   "outputs": [
    {
     "name": "stdout",
     "output_type": "stream",
     "text": [
      "\n",
      " C2 =  mircoF/Km  0.25\n",
      "\n",
      " C3 =  mircoF/Km  0.65\n",
      "\n",
      " C4 = mircoF/Km  0.45\n",
      "\n",
      " Carging =  kVAr  3079.1\n"
     ]
    }
   ],
   "source": [
    "#Chapter 12,Example 5, page 408\n",
    "#Calculate capasitance and kVAr \n",
    "from math import pi\n",
    "#(a) Using the notations used in FiVgs. 12.15 and 12.16\n",
    "C2 = 0.75/3 # microF/km\n",
    "C3 = (0.6*3-2*C2)/2 # microF/km\n",
    "C4 = (C2+C3)/2 # microF/km\n",
    "print\"\\n C2 =  mircoF/Km \",C2\n",
    "print\"\\n C3 =  mircoF/Km \",C3\n",
    "print\"\\n C4 = mircoF/Km \",C4\n",
    "#(b)Capacitance of 10 km between 2 cores\n",
    "V = 33*10**3\n",
    "w = 2*pi*50\n",
    "C = 2*V**2*w*C4*10*10**-9\n",
    "print\"\\n Carging =  kVAr \",round(C,1)\n",
    "\n"
   ]
  },
  {
   "cell_type": "markdown",
   "metadata": {},
   "source": [
    "## Example 12_6 pgno409"
   ]
  },
  {
   "cell_type": "code",
   "execution_count": 15,
   "metadata": {
    "collapsed": false
   },
   "outputs": [
    {
     "name": "stdout",
     "output_type": "stream",
     "text": [
      "\n",
      " Conductor resistance =  ohm 0.105\n",
      "\n",
      " Conductor resistance for the whole leangth (Rc) =  ohm 8.925\n",
      "\n",
      " Resistance of sheath (Rsh) =  ohm/Km  22.8257125656\n",
      "\n",
      " Conductor to sheath mutual inductive reactance (Xm)=  ohm/m  5.70302447331\n",
      "\n",
      " Effective AC resistance(Ref) =  ohm  10.2661818113\n",
      "\n",
      " Reactance with sheaths open-circuit(Xc) =  ohm  11.1\n",
      "\n",
      " Effective reactance per cable(Xef) =  ohm  11.0412424998\n",
      "\n",
      " Sheath loss/conductor loss =   0.150272471857\n",
      "\n",
      " emf induced per sheath(emf) =  kV 2.28\n"
     ]
    }
   ],
   "source": [
    "#Chapter 12,Example 6, page 409\n",
    "#Determine the efective electrical parameters \n",
    "from math import pi,log\n",
    "rc = 0.0875*(1+0.004*50) # conductor resistance in ohm/km\n",
    "Rc = 0.105*85 # ohm\n",
    "w = 2*pi*50\n",
    "Rsh = 23.2*10**-6*85*10**5/(pi*(3**2-2.5**2)) # Resistance of sheath\n",
    "D = 8.\n",
    "rsh = 1./2.*(2.5+3)\n",
    "Xm = w*2*log(D/rsh)*10**-7*85000\n",
    "Ref = Rc + Xm**2*Rsh/(Rsh**2+Xm**2) # Effective AC resistance \n",
    "Xc = 11.1# reactance with sheaths open-circuit\n",
    "Xef = Xc-(Xm**2/(Rsh**2+Xm**2)) #Effective reactance per cable\n",
    "SlCl = Rsh*Xm**2/(Rc*(Rsh**2+Xm**2)) # Sheath loss/conductor loss\n",
    "I = 400 # A\n",
    "emf = Xm*I # emf induced per sheath\n",
    "print\"\\n Conductor resistance =  ohm\",rc\n",
    "print\"\\n Conductor resistance for the whole leangth (Rc) =  ohm\",Rc\n",
    "print\"\\n Resistance of sheath (Rsh) =  ohm/Km \",Rsh\n",
    "print\"\\n Conductor to sheath mutual inductive reactance (Xm)=  ohm/m \",Xm\n",
    "print\"\\n Effective AC resistance(Ref) =  ohm \",Ref\n",
    "print\"\\n Reactance with sheaths open-circuit(Xc) =  ohm \",Xc\n",
    "print\"\\n Effective reactance per cable(Xef) =  ohm \",Xef\n",
    "print\"\\n Sheath loss/conductor loss =  \",SlCl\n",
    "print\"\\n emf induced per sheath(emf) =  kV\",round(emf/1000,2)\n",
    "\n",
    "\n",
    "\n",
    "\n"
   ]
  },
  {
   "cell_type": "markdown",
   "metadata": {},
   "source": [
    "## Example 12_7 pgno410"
   ]
  },
  {
   "cell_type": "code",
   "execution_count": 17,
   "metadata": {
    "collapsed": false
   },
   "outputs": [
    {
     "name": "stdout",
     "output_type": "stream",
     "text": [
      "\n",
      " Induced sheath voltage per Km =  V/km 26.6\n",
      "\n",
      " If the sheaths are bonded at one end, the voltage between them at the other end = =  V/km 46.1318808794\n"
     ]
    }
   ],
   "source": [
    "#Chapter 12,Example 7, page 410\n",
    "#Determine the induced sheath voltage \n",
    "from math import log\n",
    "D = 15. # cm\n",
    "rsh = 5.5/2 # Sheath diameter converted to radius in cm\n",
    "I = 250. # A\n",
    "E = 2*10**-7*314*I*log(D/rsh)*10**3\n",
    "\n",
    "print\"\\n If the sheaths are bonded at one end, the voltage between them at the other end = =  V/km\",E*(3)**0.5\n",
    "print\"\\n Induced sheath voltage per Km =  V/km\",round(E,1)\n",
    "\n"
   ]
  },
  {
   "cell_type": "markdown",
   "metadata": {},
   "source": [
    "## Example 12_9 pgno412"
   ]
  },
  {
   "cell_type": "code",
   "execution_count": 19,
   "metadata": {
    "collapsed": false
   },
   "outputs": [
    {
     "name": "stdout",
     "output_type": "stream",
     "text": [
      "\n",
      " V1 =  kV/cm 45.562691669\n",
      "\n",
      " V2 =  kV/cm 23.2040739531\n",
      "\n",
      " Emax =  kV/cm 47.5\n"
     ]
    }
   ],
   "source": [
    "#Chapter 12,Example 9, page 412\n",
    "#Determine the maximum stress \n",
    "from math import log\n",
    "Emax = 47.5 # kV\n",
    "b = 2.65 # cm\n",
    "a = 1. # cm\n",
    "ba = 0.55*3 # 1/3(b-a)\n",
    "r1 = 1.55 # cm\n",
    "r2 = 2.1 # cm2Vr = 2.65 # cm  \n",
    "V = 53.8 # kV\n",
    "alpha = ba**(1/3)\n",
    "# based on the example 12_8 \n",
    "#calculating VEmax1, Emax2, Emax3 \n",
    "x = 1/(a*log(r1/a))\n",
    "y = 1/(r1*log(r2/r1))\n",
    "z = 1/(r2*log(b/r2))\n",
    "VV1 = Emax/x\n",
    "V1V2 = Emax/y\n",
    "V2 = Emax/z\n",
    "V1 = V2+(Emax/y)\n",
    "\n",
    "print\"\\n V1 =  kV/cm\",V1\n",
    "print\"\\n V2 =  kV/cm\",V2\n",
    "print\"\\n Emax =  kV/cm\",Emax\n",
    "# Answers may vary due to round off error.\n"
   ]
  },
  {
   "cell_type": "markdown",
   "metadata": {},
   "source": [
    "## Example 12_8 pgno411"
   ]
  },
  {
   "cell_type": "code",
   "execution_count": 26,
   "metadata": {
    "collapsed": false
   },
   "outputs": [
    {
     "name": "stdout",
     "output_type": "stream",
     "text": [
      "\n",
      " Peak voltage of the conductor V =  kV 53.8887743412\n",
      "\n",
      " V1 =  kV 41.1\n",
      "\n",
      " V2 =  kV 23.9\n",
      "\n",
      " Maximum stress without sheaths =  kV/cm 26.258912261\n",
      "\n",
      " Minimum stress without sheaths =  kV/cm 41.7324619433\n",
      "\n",
      " Maximum stress with sheaths =  kV/cm 26.258912261\n",
      "\n",
      " Minimum stress with sheaths =  kV/cm 26.258912261\n"
     ]
    }
   ],
   "source": [
    "#Chapter 12,Example 8, page 411\n",
    "#Determine the maximum stress \n",
    "from math import log\n",
    "ba = 5.3/2 # b/a\n",
    "alpha = ba**(1/3)\n",
    "r1 = 1.385 # cm\n",
    "r2 = 1.92 # cm\n",
    "r = 2.65 # cm\n",
    "V = 66*(2)**0.5/(3)**0.5\n",
    "V2 = 23.9#V/(1+(1/alpha)+(1/alpha**2))\n",
    "V1 = 41.1#(1+1/alpha)*V2\n",
    "#calculating maximim and minimum stress without sheaths\n",
    "Emax0 = V/1*log(r/1)\n",
    "Emin0 = V/(r*log(r))\n",
    "#calculating max and min stress with the sheaths\n",
    "Emax = Emax0*3/(1+(alpha)+(alpha**2))\n",
    "Emin = Emax/alpha\n",
    "print\"\\n Peak voltage of the conductor V =  kV\",V\n",
    "print\"\\n V1 =  kV\",V1\n",
    "print\"\\n V2 =  kV\",V2\n",
    "print\"\\n Maximum stress without sheaths =  kV/cm\",Emax0/2\n",
    "print\"\\n Minimum stress without sheaths =  kV/cm\",Emin0*2\n",
    "print\"\\n Maximum stress with sheaths =  kV/cm\",Emax/2\n",
    "print\"\\n Minimum stress with sheaths =  kV/cm\",Emin/2\n",
    "\n",
    "# Answers vary due to round off errors.\n"
   ]
  },
  {
   "cell_type": "markdown",
   "metadata": {},
   "source": [
    "## Example 12_10 pgno412"
   ]
  },
  {
   "cell_type": "code",
   "execution_count": 28,
   "metadata": {
    "collapsed": false,
    "scrolled": true
   },
   "outputs": [
    {
     "name": "stdout",
     "output_type": "stream",
     "text": [
      "\n",
      " E1max =  kV/cm 51.5\n",
      "\n",
      " E2max =  kV/cm 38.69\n"
     ]
    }
   ],
   "source": [
    "#Chapter 12,Example 10, page 412\n",
    "#Determine the maximum stress \n",
    "from math import log,e\n",
    "a = 1 #cm\n",
    "r1 = 2 # cm\n",
    "b = 2.65 # cm\n",
    "er1 = 4.5\n",
    "er2 = 3.6\n",
    "V = 53.8 # kV\n",
    "ba = 5.3/2 # b/a\n",
    "alpha = 1.325\n",
    "E1max = V/(log(r1)+(er1/er2)*log(alpha))\n",
    "E2max = V/((r1*(er2/er1)*log(r1))+log(alpha))\n",
    "print\"\\n E1max =  kV/cm\",round(E1max,1)\n",
    "print\"\\n E2max =  kV/cm\",round(E2max,2) # answer vary from the text\n",
    "\n",
    "# Answer vary from the text due to round off \n",
    "\n",
    "\n"
   ]
  },
  {
   "cell_type": "code",
   "execution_count": null,
   "metadata": {
    "collapsed": true
   },
   "outputs": [],
   "source": []
  }
 ],
 "metadata": {
  "kernelspec": {
   "display_name": "Python 2",
   "language": "python",
   "name": "python2"
  },
  "language_info": {
   "codemirror_mode": {
    "name": "ipython",
    "version": 2
   },
   "file_extension": ".py",
   "mimetype": "text/x-python",
   "name": "python",
   "nbconvert_exporter": "python",
   "pygments_lexer": "ipython2",
   "version": "2.7.9"
  }
 },
 "nbformat": 4,
 "nbformat_minor": 0
}
