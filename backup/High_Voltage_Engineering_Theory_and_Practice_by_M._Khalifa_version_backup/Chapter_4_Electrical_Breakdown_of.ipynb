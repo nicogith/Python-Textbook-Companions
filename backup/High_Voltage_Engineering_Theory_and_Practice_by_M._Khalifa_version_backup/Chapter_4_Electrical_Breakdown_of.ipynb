{
 "cells": [
  {
   "cell_type": "markdown",
   "metadata": {},
   "source": [
    "# Chapter 4 Electrical Breakdown of Gases"
   ]
  },
  {
   "cell_type": "markdown",
   "metadata": {},
   "source": [
    "## Example 4_1 pgno:139"
   ]
  },
  {
   "cell_type": "code",
   "execution_count": 1,
   "metadata": {
    "collapsed": false
   },
   "outputs": [
    {
     "name": "stdout",
     "output_type": "stream",
     "text": [
      "\n",
      " Part (a)\n",
      " alpha =  m^-1 460.517018599\n",
      "\n",
      " Part (b)\n",
      " I0 =   2.7e-09\n",
      "\n",
      " No of electrons emitted =  electrons/s 16875000000.0\n"
     ]
    }
   ],
   "source": [
    "#Chapter 4, Exmaple 1, page 139\n",
    "#Claculate alpha and No. of electrons emmited\n",
    "from math import log,e\n",
    "#Claculate (a)alpha\n",
    "d2 = 0.01\n",
    "d1 = 0.005\n",
    "I2 = 2.7*10**-7\n",
    "I1 = 2.7*10**-8\n",
    "alpha = 1/(d2-d1)*log(I2/I1)\n",
    "#(b)number of electrons emmited from cathode per second\n",
    "I0 = I1*e**(-alpha*d1)\n",
    "n0 = I0/(1.6*10**-19)\n",
    "print\"\\n Part (a)\\n alpha =  m^-1\",alpha\n",
    "print\"\\n Part (b)\\n I0 =  \",I0\n",
    "print\"\\n No of electrons emitted =  electrons/s\",n0\n",
    "#Answer may vary due to round off error\n"
   ]
  },
  {
   "cell_type": "markdown",
   "metadata": {},
   "source": [
    "## Example 4_2 pgno:140"
   ]
  },
  {
   "cell_type": "code",
   "execution_count": 2,
   "metadata": {
    "collapsed": false
   },
   "outputs": [
    {
     "name": "stdout",
     "output_type": "stream",
     "text": [
      "\n",
      " a*d =   20.7232658369\n",
      "\n",
      " electrode space =  m 0.045\n"
     ]
    }
   ],
   "source": [
    "#Chapter 4, Exmaple 2, page 140\n",
    "#Claculate electrode space\n",
    "from math import log\n",
    "#based on the values of example 1\n",
    "d2 = 0.01\n",
    "d1 = 0.005\n",
    "I2 = 2.7*10**-7\n",
    "I1 = 2.7*10**-8\n",
    "a = 1/(d2-d1)*log(I2/I1) # alpha\n",
    "#10**9 = %e**a(a*d) \n",
    "#multiplying log on bith sides log(10**9) = a*d\n",
    "ad = log(10**9)\n",
    "print\"\\n a*d =  \",ad\n",
    "d = ad/a\n",
    "print\"\\n electrode space =  m\",d\n",
    "\n",
    "\n"
   ]
  },
  {
   "cell_type": "markdown",
   "metadata": {},
   "source": [
    "## Example 4_3 pgno:140"
   ]
  },
  {
   "cell_type": "code",
   "execution_count": 5,
   "metadata": {
    "collapsed": false
   },
   "outputs": [
    {
     "name": "stdout",
     "output_type": "stream",
     "text": [
      "\n",
      " Avalanche size =  m 6766.0\n"
     ]
    }
   ],
   "source": [
    "#Chapter 4, Exmaple 3, page 140\n",
    "#Claculate size of developed avalanche\n",
    "import scipy\n",
    "from scipy import integrate\n",
    "\n",
    "\n",
    "a = 4*10**4\n",
    "b = 15*10**5\n",
    "#Rewriting equation 4.2\n",
    "x0=0;x1=0.0005;\n",
    "def fun1(x):\n",
    "\ty=a-b*(x)**0.5\n",
    "\treturn y\n",
    "X=scipy.integrate.quad(fun1,x0,x1);\n",
    "expX=6765.964568 \n",
    "As = expX # Avelanche size\n",
    "print\"\\n Avalanche size =  m\",round(As)\n",
    " \n",
    "#Answers may vary due to round of error\n"
   ]
  },
  {
   "cell_type": "markdown",
   "metadata": {},
   "source": [
    "## Example 4_4 pgno:141"
   ]
  },
  {
   "cell_type": "code",
   "execution_count": 7,
   "metadata": {
    "collapsed": false
   },
   "outputs": [
    {
     "name": "stdout",
     "output_type": "stream",
     "text": [
      "\n",
      "  m or  m away from the cathode 0.0517 0.00155\n"
     ]
    }
   ],
   "source": [
    "#Chapter 4, Exmaple 4, page 141\n",
    "#Claculate distance to produce avalanche\n",
    "\n",
    "#Rewrite equation 4.2\n",
    "#using the values of a and b from previous example\n",
    "#convert integartion to quaderatic equation form\n",
    "#x=poly(0,\"x\");\n",
    "import numpy\n",
    "\n",
    "p=numpy.array([7.5*10**5, 59.97-4*10**4, 59.97])\n",
    "r=numpy.roots(p)\n",
    " #obtaining the roots\n",
    "print\"\\n  m or  m away from the cathode\",round(r[0],4),round(r[1],5)\n",
    "\n",
    "#Answer may vary due to round of error.\n"
   ]
  },
  {
   "cell_type": "markdown",
   "metadata": {},
   "source": [
    "## Example 4_5 pgno:141"
   ]
  },
  {
   "cell_type": "code",
   "execution_count": 9,
   "metadata": {
    "collapsed": false
   },
   "outputs": [
    {
     "name": "stdout",
     "output_type": "stream",
     "text": [
      "\n",
      " Minimum distance =  m 0.0011\n"
     ]
    }
   ],
   "source": [
    "#Chapter 4, Exmaple 5, page 141\n",
    "#Claculate minimum distance to produce avalanche of size 10^19\n",
    "\n",
    "#Rewriting equation 4.2 and converting it into quadratic equation\n",
    "#x=poly(0,\"x\");\n",
    "import numpy\n",
    "\n",
    "p=numpy.array([7.5*10**5, 4*10**4, 43.75])\n",
    "r=numpy.roots(p)\n",
    " #obtaining the roots\n",
    "print\"\\n Minimum distance =  m\",round(-r[1],4)# other root is disregarded\n",
    "\n",
    "#Answer may vary due to round of error.\n"
   ]
  },
  {
   "cell_type": "markdown",
   "metadata": {},
   "source": [
    "## Example 4_7 pgno:142"
   ]
  },
  {
   "cell_type": "code",
   "execution_count": 11,
   "metadata": {
    "collapsed": false
   },
   "outputs": [
    {
     "name": "stdout",
     "output_type": "stream",
     "text": [
      "\n",
      " E =  V/m 4500000.0\n",
      "\n",
      " Alpha =  m^-1 2397.29425605\n",
      "\n",
      " Total secondary coefficient of ionization =   0.00834\n"
     ]
    }
   ],
   "source": [
    "#Chapter 4, Exmaple 7, page 142\n",
    "#Claculate secondary coefficient\n",
    "from math import exp\n",
    "#Using equation 3.15\n",
    "E = 9*10**3/0.002\n",
    "T = 11253.7 # m^-7*kPa^-1\n",
    "B = 273840 # V/mkPa\n",
    "p = 101.3 # kPa or 1 atm\n",
    "d = 0.002 # m\n",
    "alpha = p*T*exp(-B*p/E)\n",
    "Y = 1/(exp(alpha*d)-1)\n",
    "print\"\\n E =  V/m\",E\n",
    "print\"\\n Alpha =  m^-1\",alpha\n",
    "print\"\\n Total secondary coefficient of ionization =  \",round(Y,5)\n",
    "\n",
    "\n",
    "#Answer may vary due to round off error\n"
   ]
  },
  {
   "cell_type": "markdown",
   "metadata": {},
   "source": [
    "## Example 4_8 pgno:143"
   ]
  },
  {
   "cell_type": "code",
   "execution_count": 13,
   "metadata": {
    "collapsed": false
   },
   "outputs": [
    {
     "name": "stdout",
     "output_type": "stream",
     "text": [
      "\n",
      " Alpha 1 =  m^-1 39.8\n",
      "\n",
      " Alpha 2 =  m^-1 39.8\n",
      "\n",
      " Alpha 3 =  m^-1 41.97\n",
      "\n",
      " From the above results we can understand that ionization mechanism must be acting at d3 \n",
      "\n",
      " secondary ionization coefficient =   0.0363\n"
     ]
    }
   ],
   "source": [
    "#Chapter 4, Exmaple 8, page 143\n",
    "#Claculate first and secondary ionization coefficient\n",
    "from math import log\n",
    "from math import exp\n",
    "#(a)first ionization coefficient\n",
    "#Using equation 4.7a\n",
    "d1 = 0.005\n",
    "a1d1 = log(1.22)\n",
    "a1 = a1d1/d1\n",
    "\n",
    "d2 = 0.01504\n",
    "a2d2 = log(1.82)\n",
    "a2 = a2d2/d2\n",
    "\n",
    "d3 = 0.019 # wrong value used in the text\n",
    "a3d3 = log(2.22)\n",
    "a3 = a3d3/d3\n",
    "\n",
    "print\"\\n Alpha 1 =  m^-1\",round(a1,1)\n",
    "print\"\\n Alpha 2 =  m^-1\",round(a2,1)\n",
    "print\"\\n Alpha 3 =  m^-1\",round(a3,2)\n",
    "print\"\\n From the above results we can understand that ionization mechanism must be acting at d3 \"\n",
    "\n",
    "#secondary ionization coefficient\n",
    "I = 2.22\n",
    "e = exp(a1*d3)\n",
    "Y = (I-e)/(I*(e-1))\n",
    "print\"\\n secondary ionization coefficient =  \",round(Y,4)\n",
    "\n",
    "#Answer may vary due to round off error.\n",
    "\n"
   ]
  },
  {
   "cell_type": "markdown",
   "metadata": {},
   "source": [
    "## Example 4_9 pgno:144"
   ]
  },
  {
   "cell_type": "code",
   "execution_count": 16,
   "metadata": {
    "collapsed": false
   },
   "outputs": [
    {
     "name": "stdout",
     "output_type": "stream",
     "text": [
      "\n",
      " Distance =  m 0.085\n",
      "\n",
      " E =  V/m 1596.0\n",
      "\n",
      " Volatge  =  V 135.37\n"
     ]
    }
   ],
   "source": [
    "#Chapter 4, Exmaple 9, page 144\n",
    "#Claculate distance and voltage\n",
    "from math import log\n",
    "a = 39.8 # alpha\n",
    "Y = 0.0354 # corfficient\n",
    "p = 0.133 # kPa\n",
    "Ep = 12000 # E/P , unit : V/m*kPa\n",
    "\n",
    "d = (1/a)*(log(1/Y + 1)) # distance\n",
    "E = Ep*p\n",
    "V = E*d\n",
    "\n",
    "print\"\\n Distance =  m\",round(d,3)\n",
    "print\"\\n E =  V/m\",E\n",
    "print\"\\n Volatge  =  V\",round(V,2)\n",
    "\n",
    "#Answers may vary due to round off error\n"
   ]
  },
  {
   "cell_type": "markdown",
   "metadata": {},
   "source": [
    "## Example 4_10 pgno:144"
   ]
  },
  {
   "cell_type": "code",
   "execution_count": 18,
   "metadata": {
    "collapsed": false
   },
   "outputs": [
    {
     "name": "stdout",
     "output_type": "stream",
     "text": [
      "\n",
      " E =  V/m 5952875.253\n",
      "\n",
      " Voltage breakdown = kV 5.95\n",
      "\n",
      " Voltage breakdown = kV 4.68\n"
     ]
    }
   ],
   "source": [
    "#Chapter 4, Exmaple 10, page 144\n",
    "#Claculate (a)Raether's criterion (b)Meek and Lobe's criterion\n",
    "from math import log\n",
    "#(a)Raether's criterion\n",
    "# as assumed by Raether and based equation 3.3, 3.50, 4.22 and 4.23\n",
    "d = 0.001 # m\n",
    "alpha = 10792.2 # m**-1\n",
    "p = 101.3 #kPa**-1\n",
    "ap = 106.54 # alpha/p Unit: m**-1*kPa**-1\n",
    "T = 11253.7 # m**-1*kPa**-1\n",
    "B = 273840 # V/m*kPa\n",
    "Ep = 58764.81 # E/p Unit:V/m*kPa\n",
    "\n",
    "ad = 17.7 + log(d)\n",
    "E = Ep*p\n",
    "Vs = E*d*10**-3 #Voltage breakdown\n",
    "print\"\\n E =  V/m\",E\n",
    "print\"\\n Voltage breakdown = kV\",round(Vs,2)\n",
    "\n",
    "#(b)Meek and Loeb's criterion\n",
    "#Using equation 4.11 and based on 4.24 & 4,25 \n",
    "#+ we get Er = 468*10**4 V/m\n",
    "Er = 468*10**4 # V/m\n",
    "Vs2 = Er*0.001*10**-3\n",
    "print\"\\n Voltage breakdown = kV\",Vs2\n",
    "\n",
    "# Answers may vary due to round of error\n"
   ]
  },
  {
   "cell_type": "markdown",
   "metadata": {},
   "source": [
    "## Example 4_11 pgno:146"
   ]
  },
  {
   "cell_type": "code",
   "execution_count": 20,
   "metadata": {
    "collapsed": false
   },
   "outputs": [
    {
     "name": "stdout",
     "output_type": "stream",
     "text": [
      "\n",
      " Electron drift velocity = m/s 250000.0\n",
      "\n",
      " alpha =  m**-1 114.3\n"
     ]
    }
   ],
   "source": [
    "#Chapter 4, Exmaple 11, page 146\n",
    "#Claculate the first Townsend's ionization coefficient\n",
    "\n",
    "t = 0.2*10**-6 # transit time of electrons in seconds\n",
    "d = 0.05 # m\n",
    "ve = d/t\n",
    "TC = 35*10**-9 # Time constant\n",
    "a = 1/(ve*TC)\n",
    "print\"\\n Electron drift velocity = m/s\",ve\n",
    "print\"\\n alpha =  m**-1\",round(a,1)\n",
    "\n",
    "\n"
   ]
  },
  {
   "cell_type": "markdown",
   "metadata": {},
   "source": [
    "## Example 4_12 pgno:146"
   ]
  },
  {
   "cell_type": "code",
   "execution_count": 22,
   "metadata": {
    "collapsed": false
   },
   "outputs": [
    {
     "name": "stdout",
     "output_type": "stream",
     "text": [
      "\n",
      " Ea =  V/m 2828427.12475\n",
      "\n",
      " x = *sin(3.14*t) 1.26043075492\n",
      "\n",
      " t =  ms 0.0252934474843\n",
      "\n",
      " fmax =  Hz 630.2\n"
     ]
    }
   ],
   "source": [
    "#Chapter 4, Exmaple 12, page 146\n",
    "#Travel time and maximum frequency\n",
    "from math import pi\n",
    "from math import asin\n",
    "\n",
    "#(a)Determine the travel time\n",
    "Ea = 200*(2)**0.5*10**3/0.1\n",
    "x = 1.4*10**-4*2828.4*10**3/(2*pi*50)\n",
    "d = 0.1\n",
    "print\"\\n Ea =  V/m\",Ea\n",
    "print\"\\n x = *sin(3.14*t)\",x\n",
    "#obtaining t from x\n",
    "t = asin(d/x)/3.14\n",
    "print\"\\n t =  ms\",t# answer mentioned in the text is wrong\n",
    "#(b)Determine the maximum frequency\n",
    "k = 1.4*10**-4\n",
    "fmax = k*Ea/(2*pi*d)\n",
    "print\"\\n fmax =  Hz\",round(fmax,1)\n",
    "\n"
   ]
  },
  {
   "cell_type": "code",
   "execution_count": null,
   "metadata": {
    "collapsed": true
   },
   "outputs": [],
   "source": []
  }
 ],
 "metadata": {
  "kernelspec": {
   "display_name": "Python 2",
   "language": "python",
   "name": "python2"
  },
  "language_info": {
   "codemirror_mode": {
    "name": "ipython",
    "version": 2
   },
   "file_extension": ".py",
   "mimetype": "text/x-python",
   "name": "python",
   "nbconvert_exporter": "python",
   "pygments_lexer": "ipython2",
   "version": "2.7.9"
  }
 },
 "nbformat": 4,
 "nbformat_minor": 0
}
