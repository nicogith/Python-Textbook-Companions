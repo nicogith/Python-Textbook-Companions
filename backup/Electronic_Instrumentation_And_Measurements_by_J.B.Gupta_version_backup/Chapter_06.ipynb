{
 "metadata": {
  "name": "",
  "signature": "sha256:7af95e71b6cf98d68e11993a774d3756f4ae51c9cf67e86b78531811773b4bb7"
 },
 "nbformat": 3,
 "nbformat_minor": 0,
 "worksheets": [
  {
   "cells": [
    {
     "cell_type": "heading",
     "level": 1,
     "metadata": {},
     "source": [
      "Chapter - 6 : Resistance Measurements"
     ]
    },
    {
     "cell_type": "heading",
     "level": 2,
     "metadata": {},
     "source": [
      "Example :  6.1 - Page No : 156\n",
      " "
     ]
    },
    {
     "cell_type": "code",
     "collapsed": false,
     "input": [
      "#Given data\n",
      "V= 100 # in volt\n",
      "I=5 # in mA\n",
      "I=I*10**-3 # in amp\n",
      "VS= 1000 # sensitivity of voltmeter in ohm\n",
      "VR= 150 # voltmeter range in volt\n",
      "Rv= VS*VR # in ohm\n",
      "# Part (i)\n",
      "Rm= V/I # in ohm\n",
      "Rm= Rm*10**-3 # in kohm\n",
      "print \"Apparent value of unknown resistor = %0.f kohm\" %Rm \n",
      "\n",
      "# Part (ii)\n",
      "Rx= V/(I*(1-V/(I*Rv))) # in ohm\n",
      "Rx= Rx*10**-3 #/ in kohm\n",
      "print \"Actual value of unknown resistor = %0.3f kohm\" %Rx\n",
      "\n",
      "# Part (iii)\n",
      "epsilon_r= (Rm-Rx)/Rx*100 # in %\n",
      "print \"Error percentage due to loading effect of voltmeter = %0.2f %%\" %epsilon_r "
     ],
     "language": "python",
     "metadata": {},
     "outputs": [
      {
       "output_type": "stream",
       "stream": "stdout",
       "text": [
        "Apparent value of unknown resistor = 20 kohm\n",
        "Actual value of unknown resistor = 23.077 kohm\n",
        "Error percentage due to loading effect of voltmeter = -13.33 %\n"
       ]
      }
     ],
     "prompt_number": 1
    },
    {
     "cell_type": "heading",
     "level": 2,
     "metadata": {},
     "source": [
      "Example :  6.2 - Page No : 156"
     ]
    },
    {
     "cell_type": "code",
     "collapsed": false,
     "input": [
      "from __future__ import division\n",
      "from math import sqrt\n",
      "#Given data\n",
      "V=38.4 # in volt\n",
      "I=0.4 # in amp\n",
      "ammeterRange= 1 # in amp\n",
      "voltmeterRange= 50 # in volt\n",
      "inst_acc= 1/2 # instrument accurcy in %\n",
      "R= 100 # resistance in ohm\n",
      "\n",
      "R_A= 2.5 # in ohm\n",
      "R_V= 6000 # in ohm\n",
      "Rx= sqrt(R_A*R_V) # in ohm\n",
      "print \"Value of unknown resistance = %0.1f ohm\" %Rx\n",
      "print \"Since the unknown resistance is of value smaller than \",round(Rx,1),\" ohm, the voltmeter should be connected\"\n",
      "print \"directly across the unknown resistance as it will give more accurate result\"\n",
      "Rm= V/I # in ohm\n",
      "Rx= V/(I*(1-V/(I*R_V))) # in ohm\n",
      "ErrorAmmeter= inst_acc*ammeterRange/R # Error in ammeter reading in amp\n",
      "ErrorVoltmeter= inst_acc*voltmeterRange/R # Error in voltmeter reading in volt\n",
      "# Percentage error at 0.4 A reading \n",
      "E1= ErrorAmmeter/0.4*100 #in %\n",
      "# Percentage error at 38.4 V reading \n",
      "E2= ErrorVoltmeter/38.4*100 #in %\n",
      "#Error due to ammeter and voltmeter\n",
      "E= sqrt(E1**2+E2**2) \n",
      "#Absolute error due to ammeter and voltmeter\n",
      "Error_ammeter_voltmeter= E/R*Rx # in pos and neg\n",
      "print \"\\nAbsolute error due to ammeter and voltmeter = %0.3f ohm\" %Error_ammeter_voltmeter\n",
      "print \"So the resistance is specified as (\",round(Rx,2),\"\u00b1\",round(Error_ammeter_voltmeter,3),\") ohm\""
     ],
     "language": "python",
     "metadata": {},
     "outputs": [
      {
       "output_type": "stream",
       "stream": "stdout",
       "text": [
        "Value of unknown resistance = 122.5 ohm\n",
        "Since the unknown resistance is of value smaller than  122.5  ohm, the voltmeter should be connected\n",
        "directly across the unknown resistance as it will give more accurate result\n",
        "\n",
        "Absolute error due to ammeter and voltmeter = 1.375 ohm\n",
        "So the resistance is specified as ( 97.56 \u00b1 1.375 ) ohm\n"
       ]
      }
     ],
     "prompt_number": 12
    },
    {
     "cell_type": "heading",
     "level": 2,
     "metadata": {},
     "source": [
      "Example :  6.3 - Page No : 157"
     ]
    },
    {
     "cell_type": "code",
     "collapsed": false,
     "input": [
      " #Given data\n",
      "V=120 # in volt\n",
      "I=8 # in amp\n",
      "R_A= 0.3 # in ohm\n",
      "ammeterReading= 0.01 # in A\n",
      "voltmeterReading= 0.1 # in V\n",
      "AmmeterRange= 10 #in A\n",
      "VoltmeterRange= 150 #in V\n",
      "EA= 0.25 # constructional error of the ammeter in %\n",
      "EV= 0.5 # constructional error of the voltmeter in %\n",
      "\n",
      "Rm= V/I # in ohm\n",
      "Rx= Rm-R_A # in ohm\n",
      "ErrorAmmeter= ammeterReading/AmmeterRange*100 # in %\n",
      "ErrorVoltmeter= voltmeterReading/VoltmeterRange*100 # in %\n",
      "del_I= ErrorAmmeter+EA # in %\n",
      "del_V= ErrorVoltmeter+EV # in %\n",
      "# since R=V/I\n",
      "TotalError= del_I+del_V # in % in neg and pos\n",
      "print \"Total systematic error in measurement = \u00b1 %0.3f %%\" %TotalError\n",
      "print \"So the value of Rx is specified as : (\",round(Rx,1),\"\u00b1\",round(Rx*TotalError/100,3),\") ohm\"\n",
      "    "
     ],
     "language": "python",
     "metadata": {},
     "outputs": [
      {
       "output_type": "stream",
       "stream": "stdout",
       "text": [
        "Total systematic error in measurement = \u00b1 0.917 %\n",
        "So the value of Rx is specified as : ( 14.7 \u00b1 0.135 ) ohm\n"
       ]
      }
     ],
     "prompt_number": 13
    },
    {
     "cell_type": "heading",
     "level": 2,
     "metadata": {},
     "source": [
      "Example :  6.4 - Page No : 164"
     ]
    },
    {
     "cell_type": "code",
     "collapsed": false,
     "input": [
      " #Given data\n",
      "P=100 # in ohm\n",
      "Q=10 # in ohm\n",
      "S=46 # in ohm\n",
      "R= P*S/Q #in ohm\n",
      "print \"The value of unknown resistance = %0.f ohm\" %R"
     ],
     "language": "python",
     "metadata": {},
     "outputs": [
      {
       "output_type": "stream",
       "stream": "stdout",
       "text": [
        "The value of unknown resistance = 460 ohm\n"
       ]
      }
     ],
     "prompt_number": 17
    },
    {
     "cell_type": "heading",
     "level": 2,
     "metadata": {},
     "source": [
      "Example :  6.5 - Page No : 164"
     ]
    },
    {
     "cell_type": "code",
     "collapsed": false,
     "input": [
      " #Given data\n",
      "S=6 # in ohm\n",
      "AB= 25 # in cm\n",
      "BC= 75 # in cm\n",
      "R= S*AB/BC # in ohm\n",
      "print \"The value of unknown resistance = %0.f ohm\" %R"
     ],
     "language": "python",
     "metadata": {},
     "outputs": [
      {
       "output_type": "stream",
       "stream": "stdout",
       "text": [
        "The value of unknown resistance = 2 ohm\n"
       ]
      }
     ],
     "prompt_number": 18
    },
    {
     "cell_type": "heading",
     "level": 2,
     "metadata": {},
     "source": [
      "Example :  6.6 - Page No : 164"
     ]
    },
    {
     "cell_type": "code",
     "collapsed": false,
     "input": [
      " #Given data\n",
      "resistor= 5000 # in ohm\n",
      "LVR1= resistor-resistor*0.1/100 # Limiting value of 5000 ohm resistor in negative error\n",
      "LVR2= resistor+resistor*0.1/100  #Limiting value of 5000 ohm resistor in positve error\n",
      "print \"Limiting value of 5000 ohm resistance =\",int(LVR1),\"to\",int(LVR2),\"ohm\"\n",
      "print \"Thus dials of 1000 , 100 , 10 and 1 ohm would to be adjusted\" "
     ],
     "language": "python",
     "metadata": {},
     "outputs": [
      {
       "output_type": "stream",
       "stream": "stdout",
       "text": [
        "Limiting value of 5000 ohm resistance = 4995 to 5005 ohm\n",
        "Thus dials of 1000 , 100 , 10 and 1 ohm would to be adjusted\n"
       ]
      }
     ],
     "prompt_number": 21
    },
    {
     "cell_type": "heading",
     "level": 2,
     "metadata": {},
     "source": [
      "Example :  6.7 - Page No : 164"
     ]
    },
    {
     "cell_type": "code",
     "collapsed": false,
     "input": [
      " #Given data\n",
      "P=100 # in ohm\n",
      "Q=100 # in ohm\n",
      "S=230 # in ohm\n",
      "R=P*S/Q # in ohm\n",
      "del_P_BY_P= 0.02 # in %\n",
      "del_Q_BY_Q= 0.02 # in %\n",
      "del_S_BY_S= 0.01 # in %\n",
      "del_R_BY_R= del_P_BY_P + del_Q_BY_Q + del_S_BY_S # in %\n",
      "print \"Relative limiting error of unknown resistance = %0.2f %%\" %del_R_BY_R\n",
      "print \"So limiting values of unknown resistance =\",round(R-R*del_R_BY_R/100,3),\"to\",round(R+R*del_R_BY_R/100,3),\"ohm\""
     ],
     "language": "python",
     "metadata": {},
     "outputs": [
      {
       "output_type": "stream",
       "stream": "stdout",
       "text": [
        "Relative limiting error of unknown resistance = 0.05 %\n",
        "So limiting values of unknown resistance = 229.885 to 230.115 ohm\n"
       ]
      }
     ],
     "prompt_number": 24
    },
    {
     "cell_type": "heading",
     "level": 2,
     "metadata": {},
     "source": [
      "Example :  6.8 - Page No : 165"
     ]
    },
    {
     "cell_type": "code",
     "collapsed": false,
     "input": [
      " #Given data\n",
      "P=1000 # in ohm\n",
      "Q=1000 # in ohm\n",
      "S=100 # in ohm\n",
      "E=2 # in volt\n",
      "Rg=50 # in ohm\n",
      "R_desh= 101 # in ohm\n",
      "R=Q*S/P # in ohm\n",
      "del_R= R_desh-R # in ohm\n",
      "E_Th= E*((R+del_R)/(R+del_R+S)- P/(P+Q)) # in volt\n",
      "R_Th= ((R+del_R)*S/(R+del_R+S)+ P*Q/(P+Q)) #in ohm\n",
      "Ig= E_Th/(R_Th+Rg) # in amp\n",
      "Ig=Ig*10**+6 # in micro amp\n",
      "print \"The galvanometer current = %0.3f \u00b5A\" %Ig"
     ],
     "language": "python",
     "metadata": {},
     "outputs": [
      {
       "output_type": "stream",
       "stream": "stdout",
       "text": [
        "The galvanometer current = 8.288 \u00b5A\n"
       ]
      }
     ],
     "prompt_number": 27
    },
    {
     "cell_type": "heading",
     "level": 2,
     "metadata": {},
     "source": [
      "Example :  6.9 - Page No : 165"
     ]
    },
    {
     "cell_type": "code",
     "collapsed": false,
     "input": [
      " #Given data\n",
      "P=100 # in ohm\n",
      "Q=1000 # in ohm\n",
      "S=2000 # in ohm\n",
      "E=5 # in volt\n",
      "Si= 5 # in mm/miuA\n",
      "Rg=200 # in ohm\n",
      "R_desh= 202 # in ohm\n",
      "R=P*S/Q # in ohm\n",
      "del_R= R_desh-R # in ohm\n",
      "E_Th= E*((R+del_R)/(R+del_R+S)- P/(P+Q)) # in volt\n",
      "R_Th= ((R+del_R)*S/(R+del_R+S)+ P*Q/(P+Q)) #in ohm\n",
      "Ig= E_Th/(R_Th+Rg) # in amp\n",
      "Ig=Ig*10**+6 # in micro amp\n",
      "theta= Si*Ig # in mm\n",
      "print \"Deflection of the galvanometer = %0.1f mm\" %theta\n",
      "S_B= theta/del_R # in mm/ohm\n",
      "print \"Sensitivity of the bridge = %0.2f mm/ohm\" %S_B"
     ],
     "language": "python",
     "metadata": {},
     "outputs": [
      {
       "output_type": "stream",
       "stream": "stdout",
       "text": [
        "Deflection of the galvanometer = 43.5 mm\n",
        "Sensitivity of the bridge = 21.76 mm/ohm\n"
       ]
      }
     ],
     "prompt_number": 30
    },
    {
     "cell_type": "heading",
     "level": 2,
     "metadata": {},
     "source": [
      "Example :  6.10 - Page No : 166"
     ]
    },
    {
     "cell_type": "code",
     "collapsed": false,
     "input": [
      " #Given data\n",
      "P=1000 # in ohm\n",
      "Q=100 # in ohm\n",
      "R=200 # in ohm\n",
      "E=5 # in volt\n",
      "Si1= 10 # in mm/miuA\n",
      "Si2= 5 # in mm/miuA\n",
      "Rg1= 400 # in ohm\n",
      "Rg2= 100 # in ohm\n",
      "S=R*Q/P # in ohm\n",
      "R_Th= R*S/(R+S)+ P*Q/(P+Q) # in ohm\n",
      "# theta=Si1*E*S*del_R/((R+S)**2*(R_Th+Rg))\n",
      "# RatioTheta21= theta2/theta1  \n",
      "RatioTheta21= Si2/Si1*(R_Th+Rg1)/(R_Th+Rg2) \n",
      "print \"Ratio of deflection on two galvanometers = %0.3f\" %RatioTheta21"
     ],
     "language": "python",
     "metadata": {},
     "outputs": [
      {
       "output_type": "stream",
       "stream": "stdout",
       "text": [
        "Ratio of deflection on two galvanometers = 1.217\n"
       ]
      }
     ],
     "prompt_number": 31
    },
    {
     "cell_type": "heading",
     "level": 2,
     "metadata": {},
     "source": [
      "Example :  6.11 - Page No : 167"
     ]
    },
    {
     "cell_type": "code",
     "collapsed": false,
     "input": [
      " #Given data\n",
      "P=500 # in ohm\n",
      "S=P \n",
      "Q=S \n",
      "R=P \n",
      "R_Th=R # in ohm\n",
      "Rg=100 # in ohm\n",
      "E=10 # in volt\n",
      "Ig= 1 # in nA\n",
      "Ig=Ig*10**-9 #in amp\n",
      "# Formula Ig= E_Th/(R_Th+Rg) and E_Th= E*del_R/(4*R) so\n",
      "# Ig= (E*del_R/(4*R))/(R_Th+Rg) and\n",
      "del_R= Ig*(R_Th+Rg)*4*R/E # in ohm\n",
      "del_R= del_R*10**3 #in mohm\n",
      "print \"The smallest change in resistance = %0.2f m ohm\" %del_R"
     ],
     "language": "python",
     "metadata": {},
     "outputs": [
      {
       "output_type": "stream",
       "stream": "stdout",
       "text": [
        "The smallest change in resistance = 0.12 m ohm\n"
       ]
      }
     ],
     "prompt_number": 33
    },
    {
     "cell_type": "heading",
     "level": 2,
     "metadata": {},
     "source": [
      "Example :  6.12 - Page No : 167"
     ]
    },
    {
     "cell_type": "code",
     "collapsed": false,
     "input": [
      " #Given data\n",
      "R=200 # in ohm\n",
      "S=R \n",
      "P=S \n",
      "Q=P \n",
      "r=2 # in ohm\n",
      "E=24 # in volt\n",
      "Power= 0.5 # in W\n",
      "# Formula Power= I**2/R\n",
      "I= sqrt(Power/R) # in A\n",
      "print \"Maximum power dissipation = %0.2f A\" %I\n",
      "V=I*2*R # in volt\n",
      "# Formula E= V+2*I*(r+R)\n",
      "R= (E-V)/(2*I)-r # in ohm\n",
      "print \"Series resistance = %0.f ohm\" %R"
     ],
     "language": "python",
     "metadata": {},
     "outputs": [
      {
       "output_type": "stream",
       "stream": "stdout",
       "text": [
        "Maximum power dissipation = 0.05 A\n",
        "Series resistance = 38 ohm\n"
       ]
      }
     ],
     "prompt_number": 35
    },
    {
     "cell_type": "heading",
     "level": 2,
     "metadata": {},
     "source": [
      "Example :  6.13 - Page No : 167"
     ]
    },
    {
     "cell_type": "code",
     "collapsed": false,
     "input": [
      " #Given data\n",
      "P=10000 # in ohm\n",
      "Q=10 # in ohm\n",
      "S=5 # in kohm\n",
      "S=S*10**3 # in ohm\n",
      "E=12 # in volt\n",
      "R=P*S/Q # in ohm\n",
      "print \"(i) : The maximum value of resistance that can be measurement with the given argument = %0.f Mohm\" %(R*10**-6)\n",
      "R_Th= R*S/(R+S)+ P*Q/(P+Q) # in ohm\n",
      "\n",
      "# Part (ii)\n",
      "theta= 2.5 # in mm\n",
      "Rg=100 # in ohm\n",
      "Si=100 # in mm/miuA\n",
      "Si=Si*10**6 # in mm/amp\n",
      "del_R= theta*(R_Th+Rg)*(R+S)**2/(Si*E*S) # in ohm\n",
      "print \"(ii) : Change in resistance  = %0.2f kohm\" %(del_R*10**-3)"
     ],
     "language": "python",
     "metadata": {},
     "outputs": [
      {
       "output_type": "stream",
       "stream": "stdout",
       "text": [
        "(i) : The maximum value of resistance that can be measurement with the given argument = 5 Mohm\n",
        "(ii) : Change in resistance  = 53.28 kohm\n"
       ]
      }
     ],
     "prompt_number": 38
    },
    {
     "cell_type": "heading",
     "level": 2,
     "metadata": {},
     "source": [
      "Example :  6.14 - Page No : 171"
     ]
    },
    {
     "cell_type": "code",
     "collapsed": false,
     "input": [
      " #Given data\n",
      "p=200.62 # in ohm\n",
      "q=400 # in ohm\n",
      "P=200.48 # in ohm\n",
      "Q=400 # in ohm\n",
      "S=100.03 # in micro ohm\n",
      "S=S*10**-6 # in ohm\n",
      "r=700 # in micro ohm\n",
      "r=r*10**-6 # in ohm\n",
      "X= P*S/Q+q*r/(p+q)*(P/Q-p/q) # in ohm\n",
      "print \"Unknown resistance = %0.4f micro ohm\" %(X*10**+6)"
     ],
     "language": "python",
     "metadata": {},
     "outputs": [
      {
       "output_type": "stream",
       "stream": "stdout",
       "text": [
        "Unknown resistance = 49.9719 micro ohm\n"
       ]
      }
     ],
     "prompt_number": 41
    }
   ],
   "metadata": {}
  }
 ]
}