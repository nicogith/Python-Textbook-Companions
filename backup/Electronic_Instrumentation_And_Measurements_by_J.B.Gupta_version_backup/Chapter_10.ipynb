{
 "metadata": {
  "name": "",
  "signature": "sha256:e3beb8b0630c35bb63d0b674a53a03c2bc95fc955abe45777c3c8a090f6bed5e"
 },
 "nbformat": 3,
 "nbformat_minor": 0,
 "worksheets": [
  {
   "cells": [
    {
     "cell_type": "heading",
     "level": 1,
     "metadata": {},
     "source": [
      "Chapter - 10 : Instrument Calibration and Recorders"
     ]
    },
    {
     "cell_type": "heading",
     "level": 2,
     "metadata": {},
     "source": [
      "Example :  10.1 - Page No : 284\n",
      " "
     ]
    },
    {
     "cell_type": "code",
     "collapsed": false,
     "input": [
      "#Given data\n",
      "FullScale= 25 # in volt\n",
      "\n",
      "VR= 5 # voltmeter reading in volt\n",
      "Error= -0.25 # in volt\n",
      "Error_Reading= Error/VR*100 # % of reading\n",
      "print \"Error percentage of reading    = %0.f %% of reading\" %Error_Reading \n",
      "Error_FullScale= Error/FullScale*100 # % of full scale\n",
      "print \"Error percentage of full scale = %0.f %% of full-scale\" %Error_FullScale\n",
      "\n",
      "VR= 10 # voltmeter reading in volt\n",
      "Error= 0.25 # in volt\n",
      "Error_Reading= Error/VR*100 # % of reading\n",
      "print \"Error percentage of reading    = %0.1f %% of reading\" %Error_Reading \n",
      "Error_FullScale= Error/FullScale*100 # % of full scale\n",
      "print \"Error percentage of full scale = %0.f %% of full-scale\" %Error_FullScale\n",
      "\n",
      "VR= 20 # voltmeter reading in volt\n",
      "Error= -0.4 # in volt\n",
      "Error_Reading= Error/VR*100 # % of reading\n",
      "print \"Error percentage of reading    = %0.f %% of reading\" %Error_Reading \n",
      "Error_FullScale= Error/FullScale*100 # % of full scale\n",
      "print \"Error percentage of full scale = %0.1f %% of full-scale\" %Error_FullScale"
     ],
     "language": "python",
     "metadata": {},
     "outputs": [
      {
       "output_type": "stream",
       "stream": "stdout",
       "text": [
        "Error percentage of reading    = -5 % of reading\n",
        "Error percentage of full scale = -1 % of full-scale\n",
        "Error percentage of reading    = 2.5 % of reading\n",
        "Error percentage of full scale = 1 % of full-scale\n",
        "Error percentage of reading    = -2 % of reading\n",
        "Error percentage of full scale = -1.6 % of full-scale\n"
       ]
      }
     ],
     "prompt_number": 3
    },
    {
     "cell_type": "heading",
     "level": 2,
     "metadata": {},
     "source": [
      "Example :  10.2 - Page No : 286"
     ]
    },
    {
     "cell_type": "code",
     "collapsed": false,
     "input": [
      " #Given data\n",
      "Pm=1250 # in watt\n",
      "V=255 # in volt\n",
      "I=4.8 # in amp\n",
      "P=V*I #/ in watt\n",
      "AbsoluteError= Pm-P # in watt\n",
      "print \"Absolute Error = %0.f watt\" %AbsoluteError \n",
      "PerError= AbsoluteError/Pm*100 # in %\n",
      "print \"Percentage Error = %0.2f %%\" %PerError"
     ],
     "language": "python",
     "metadata": {},
     "outputs": [
      {
       "output_type": "stream",
       "stream": "stdout",
       "text": [
        "Absolute Error = 26 watt\n",
        "Percentage Error = 2.08 %\n"
       ]
      }
     ],
     "prompt_number": 4
    }
   ],
   "metadata": {}
  }
 ]
}