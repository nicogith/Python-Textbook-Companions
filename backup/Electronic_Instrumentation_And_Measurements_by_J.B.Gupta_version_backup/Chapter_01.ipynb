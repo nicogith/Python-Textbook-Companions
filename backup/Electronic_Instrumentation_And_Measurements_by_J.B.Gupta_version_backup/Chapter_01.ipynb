{
 "metadata": {
  "name": "",
  "signature": "sha256:c3629d79b20d53403694041229a5d247c5124b08a5efee82e15fa82e9980a3f5"
 },
 "nbformat": 3,
 "nbformat_minor": 0,
 "worksheets": [
  {
   "cells": [
    {
     "cell_type": "heading",
     "level": 1,
     "metadata": {},
     "source": [
      "Chapter - 1 : Units, Dimensions and Standards"
     ]
    },
    {
     "cell_type": "heading",
     "level": 2,
     "metadata": {},
     "source": [
      "Example - 1.1 : Page No- 14"
     ]
    },
    {
     "cell_type": "code",
     "collapsed": false,
     "input": [
      "from __future__ import division\n",
      "# Given data\n",
      "V_desh= 100 # in V\n",
      "I_desh= 10 # in amp\n",
      "R_desh= V_desh/I_desh # in \u03a9\n",
      "print \"New unit of resistance = %0.f \u03a9\" %R_desh\n",
      "C_desh= I_desh/V_desh # in F\n",
      "print \"New unit of capacitance = %0.1f Farad\" %C_desh\n",
      "L_desh= V_desh/I_desh # in L\n",
      "print \"New unit of inductance = %0.f Henrys\" %L_desh"
     ],
     "language": "python",
     "metadata": {},
     "outputs": [
      {
       "output_type": "stream",
       "stream": "stdout",
       "text": [
        "New unit of resistance = 10 \u03a9\n",
        "New unit of capacitance = 0.1 Farad\n",
        "New unit of inductance = 10 Henrys\n"
       ]
      }
     ],
     "prompt_number": 4
    }
   ],
   "metadata": {}
  }
 ]
}