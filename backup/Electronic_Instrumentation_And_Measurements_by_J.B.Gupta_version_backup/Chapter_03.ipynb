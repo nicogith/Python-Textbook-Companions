{
 "metadata": {
  "name": "",
  "signature": "sha256:4e527403e3e23cec992884b304469d3eb94c6edd5b7caf76ef7e787ddafbe409"
 },
 "nbformat": 3,
 "nbformat_minor": 0,
 "worksheets": [
  {
   "cells": [
    {
     "cell_type": "heading",
     "level": 1,
     "metadata": {},
     "source": [
      "Chapter - 3 : PMMC Instruments"
     ]
    },
    {
     "cell_type": "heading",
     "level": 2,
     "metadata": {},
     "source": [
      "Example : 3.1 - Page No : 57"
     ]
    },
    {
     "cell_type": "code",
     "collapsed": false,
     "input": [
      " #Given data\n",
      "N= 100 \n",
      "A=4*3 # in cm**2\n",
      "A=A*10**-4 # in m**2\n",
      "i=20 # in mA\n",
      "i=i*10**-3 # in A\n",
      "B=0.05 # in T\n",
      "T=N*i*B*A #in Nm\n",
      "print \"Torque developed by the coil = %0.1e Nm\" %T"
     ],
     "language": "python",
     "metadata": {},
     "outputs": [
      {
       "output_type": "stream",
       "stream": "stdout",
       "text": [
        "Torque developed by the coil = 1.2e-04 Nm\n"
       ]
      }
     ],
     "prompt_number": 2
    },
    {
     "cell_type": "heading",
     "level": 2,
     "metadata": {},
     "source": [
      "Example : 3.2 - Page No : 57"
     ]
    },
    {
     "cell_type": "code",
     "collapsed": false,
     "input": [
      " #Given data\n",
      "N= 125 \n",
      "A=4*2.5 # in cm**2\n",
      "A=A*10**-4 # in m**2\n",
      "i=25 # in mA\n",
      "i=i*10**-3 # in A\n",
      "B=0.06 # in T\n",
      "Td=N*i*B*A #in Nm\n",
      "Tc_BY_theta= 25*10**-7 # in Nm/\u00b0\n",
      "# Formula Tc=Td\n",
      "theta= Td/Tc_BY_theta # in \u00b0\n",
      "print \"Deflection = %0.f degree\" %theta"
     ],
     "language": "python",
     "metadata": {},
     "outputs": [
      {
       "output_type": "stream",
       "stream": "stdout",
       "text": [
        "Deflection = 75 degree\n"
       ]
      }
     ],
     "prompt_number": 4
    },
    {
     "cell_type": "heading",
     "level": 2,
     "metadata": {},
     "source": [
      "Example : 3.3 - Page No :57"
     ]
    },
    {
     "cell_type": "code",
     "collapsed": false,
     "input": [
      "from __future__ import division\n",
      "#Given data\n",
      "N= 100 \n",
      "B=6*10**-2 # in Wb/m**2\n",
      "A=3*4 # in cm**2\n",
      "A=A*10**-4 # in m**2\n",
      "V=300 # in volt\n",
      "R=12000 # in ohm\n",
      "i= V/R # in amp\n",
      "Td=N*i*B*A #in Nm\n",
      "Tc_BY_theta= 25*10**-7 # in Nm/\u00b0\n",
      "# Formula Tc=Td\n",
      "theta= Td/Tc_BY_theta # in \u00b0\n",
      "print \"Deflection = %0.f degree\" %theta"
     ],
     "language": "python",
     "metadata": {},
     "outputs": [
      {
       "output_type": "stream",
       "stream": "stdout",
       "text": [
        "Deflection = 72 degree\n"
       ]
      }
     ],
     "prompt_number": 7
    },
    {
     "cell_type": "heading",
     "level": 2,
     "metadata": {},
     "source": [
      "Example : 3.4 - Page No : 62"
     ]
    },
    {
     "cell_type": "code",
     "collapsed": false,
     "input": [
      "from numpy import pi\n",
      "#Given data\n",
      "d= 42 # in mm\n",
      "d=d*10**-3 # in meter\n",
      "r= 0.6 # in meter\n",
      "# Formula d= 2*theta*r\n",
      "theta= d/(2*r) # radian\n",
      "theta= 180*theta/pi # in \u00b0\n",
      "print \"Angle through which coil turn = %0.f\u00b0\" %theta "
     ],
     "language": "python",
     "metadata": {},
     "outputs": [
      {
       "output_type": "stream",
       "stream": "stdout",
       "text": [
        "Angle through which coil turn = 2\u00b0\n"
       ]
      }
     ],
     "prompt_number": 10
    },
    {
     "cell_type": "heading",
     "level": 2,
     "metadata": {},
     "source": [
      "Example : 3.5 - Page No : 62"
     ]
    },
    {
     "cell_type": "code",
     "collapsed": false,
     "input": [
      " #Given data\n",
      "B=1.8*10**-3 # in Wb/m**2\n",
      "K= 1.4*10**-7 # in Nm/radian\n",
      "theta= 90 # in \u00b0\n",
      "theta=theta*pi/180 \n",
      "Tc= K*theta # in N-m\n",
      "i=5 # in mA\n",
      "i=i*10**-3 # in amp\n",
      "A=1.5*1.2 # in cm**2\n",
      "A=A*10**-4 # in m**2\n",
      "# Formula Tc= Td= B*i*A*N \n",
      "N= Tc/(B*i*A) \n",
      "N=round(N) \n",
      "print \"Number of turns = %0.f\" %N "
     ],
     "language": "python",
     "metadata": {},
     "outputs": [
      {
       "output_type": "stream",
       "stream": "stdout",
       "text": [
        "Number of turns = 136\n"
       ]
      }
     ],
     "prompt_number": 13
    },
    {
     "cell_type": "heading",
     "level": 2,
     "metadata": {},
     "source": [
      "Example : 3.6 - Page No : 63"
     ]
    },
    {
     "cell_type": "code",
     "collapsed": false,
     "input": [
      " #Given data\n",
      "B=0.1 # in T\n",
      "C= 100*10**-7 # in Nm/radian\n",
      "theta= 120 # in \u00b0\n",
      "theta=theta*pi/180 \n",
      "Tc= C*theta # in N-m\n",
      "N=200 # number of turns\n",
      "A=2.5*2 # in cm**2\n",
      "A=A*10**-4 # in m**2\n",
      "# Formula Tc= Td= B*i*A*N \n",
      "i= Tc/(B*A*N) # in amp\n",
      "print \"Current in the coil = %0.4f mA\" %(i*10**3)"
     ],
     "language": "python",
     "metadata": {},
     "outputs": [
      {
       "output_type": "stream",
       "stream": "stdout",
       "text": [
        "Current in the coil = 2.0944 mA\n"
       ]
      }
     ],
     "prompt_number": 14
    },
    {
     "cell_type": "heading",
     "level": 2,
     "metadata": {},
     "source": [
      "Example : 3.7 - Page No : 63"
     ]
    },
    {
     "cell_type": "code",
     "collapsed": false,
     "input": [
      " #Given data\n",
      "d=150 # in mm\n",
      "i=2.5 # in micro amp\n",
      "R=200 # in ohm\n",
      "V= R*i # in micro volt\n",
      "r=2.5 # in meter\n",
      "# Part(i)\n",
      "Si= d/i # in mm/micro amp\n",
      "print \"Current sensitivity = %0.f mm/\u00b5A\" %Si\n",
      "\n",
      "# Part(ii)\n",
      "Sv= d/V # in mm/micro volt\n",
      "print \"Voltage sensitivity = %0.1f mm/\u00b5V\" %Sv\n",
      "\n",
      "# Part(iii)\n",
      "So= 1/(1/60*10**-6) # in ohm/mm\n",
      "So=So*10**-6 # in Mohm\n",
      "print \"Megohm sensitivity  = %0.f Mohm/mm\" %So\n",
      "\n",
      "# Part(iv)\n",
      "i=5 # in micro amp\n",
      "d=60*i # in mm\n",
      "d=d*10**-3 # in meter\n",
      "theta=d/(2*r) #in radian \n",
      "print \"The value of deflection = %0.2f radians\" %theta"
     ],
     "language": "python",
     "metadata": {},
     "outputs": [
      {
       "output_type": "stream",
       "stream": "stdout",
       "text": [
        "Current sensitivity = 60 mm/\u00b5A\n",
        "Voltage sensitivity = 0.3 mm/\u00b5V\n",
        "Megohm sensitivity  = 60 Mohm/mm\n",
        "The value of deflection = 0.06 radians\n"
       ]
      }
     ],
     "prompt_number": 19
    },
    {
     "cell_type": "heading",
     "level": 2,
     "metadata": {},
     "source": [
      "Example : 3.8 - Page No : 65"
     ]
    },
    {
     "cell_type": "code",
     "collapsed": false,
     "input": [
      " #Given data\n",
      "Im= 50*10**-6 # in amp\n",
      "Rm= 1000 # in ohm\n",
      "I=1 # in amp\n",
      "Rs= Rm/(I/Im-1) # in ohm\n",
      "print \"Resistance of ammeter shunt required = %0.7f ohm\" %Rs"
     ],
     "language": "python",
     "metadata": {},
     "outputs": [
      {
       "output_type": "stream",
       "stream": "stdout",
       "text": [
        "Resistance of ammeter shunt required = 0.0500025 ohm\n"
       ]
      }
     ],
     "prompt_number": 21
    },
    {
     "cell_type": "heading",
     "level": 2,
     "metadata": {},
     "source": [
      "Example : 3.9 - Page No : 65"
     ]
    },
    {
     "cell_type": "code",
     "collapsed": false,
     "input": [
      "from fractions import Fraction\n",
      "#Given data\n",
      "Rm= 1.0 # in ohm\n",
      "Rse= 4999 # in ohm\n",
      "V=250 # full scale deflection voltage in volt\n",
      "# Formula V= Im*(Rm+Rse)\n",
      "Im= V/(Rm+Rse) # in amp\n",
      "\n",
      "# Part(a)\n",
      "Rs= 1/4999 # in ohm\n",
      "Is= Im*Rm/Rs #in amp\n",
      "I= Im+Is # in amp\n",
      "print \"Current range = %0.f A\" %I\n",
      "\n",
      "# Part(b)\n",
      "I=50 # in amp\n",
      "N=I/Im \n",
      "Rs= Rm/(N-1) # in ohm\n",
      "print \"Required shunt resistance =\",Fraction(Rs).limit_denominator(1000),\"ohm\""
     ],
     "language": "python",
     "metadata": {},
     "outputs": [
      {
       "output_type": "stream",
       "stream": "stdout",
       "text": [
        "Current range = 250 A\n",
        "Required shunt resistance = 1/999 ohm\n"
       ]
      }
     ],
     "prompt_number": 27
    },
    {
     "cell_type": "heading",
     "level": 2,
     "metadata": {},
     "source": [
      "Example : 3.10 - Page No : 66"
     ]
    },
    {
     "cell_type": "code",
     "collapsed": false,
     "input": [
      " #Given data\n",
      "Im= 50 # in micro amp\n",
      "Im=Im*10**-6 # in amp\n",
      "Rm= 49 # in ohm\n",
      "Rs= 1 # in ohm\n",
      "Is= Im*Rm/Rs #in amp\n",
      "I= Im+Is # in amp\n",
      "# (i)\n",
      "I1= I # in amp\n",
      "I2= I*0.5 # in amp\n",
      "I3= I*0.1 # in amp\n",
      "print \"Main circuit current at FSD = %0.1f mA\" %(I1*10**3)\n",
      "print \"Main circuit current at 0.5 FSD = %0.2f mA\" %(I2*10**3)\n",
      "print \"Main circuit current at 0.1 FSD = %0.2f mA\" %(I3*10**3)\n"
     ],
     "language": "python",
     "metadata": {},
     "outputs": [
      {
       "output_type": "stream",
       "stream": "stdout",
       "text": [
        "Main circuit current at FSD = 2.5 mA\n",
        "Main circuit current at 0.5 FSD = 1.25 mA\n",
        "Main circuit current at 0.1 FSD = 0.25 mA\n"
       ]
      }
     ],
     "prompt_number": 29
    },
    {
     "cell_type": "heading",
     "level": 2,
     "metadata": {},
     "source": [
      "Example : 3.11 - Page No : 67"
     ]
    },
    {
     "cell_type": "code",
     "collapsed": false,
     "input": [
      " #Given data\n",
      "Rm= 40 # in ohm\n",
      "Im= 1 # in mA\n",
      "# For switch at position 1 (lowest range of 10 mA)\n",
      "I=10 # in mA\n",
      "N1= I/Im \n",
      "R1= Rm/(N1-1) # in ohm\n",
      "# For switch at position 2 (range of 20 mA)\n",
      "I=20 # in mA\n",
      "N2= I/Im \n",
      "R2= (R1+Rm)/N2 # in ohm\n",
      "# For switch at position 3 (range of 30 mA)\n",
      "I=30 # in mA\n",
      "N3= I/Im \n",
      "R3= (R1+Rm)/N3 # in ohm\n",
      "# For switch at position 4 (range of 40 mA)\n",
      "I=40 # in mA\n",
      "N4= I/Im \n",
      "R4= (R1+Rm)/N4 # in ohm\n",
      "# For switch at position 5 (range of 50 mA)\n",
      "I=50 # in mA\n",
      "N5= I/Im \n",
      "R5= (R1+Rm)/N5 # in ohm\n",
      "r1= R1-R2 # in ohm\n",
      "r2= R2-R3 # in ohm\n",
      "r3= R3-R4 # in ohm\n",
      "r4= R4-R5 # in ohm\n",
      "r5= R5 # in ohm\n",
      "print \"Resistance of the various sections of the Ayrton's shunt :\"\n",
      "print \"r1 = %0.3f ohm\" %r1\n",
      "print \"r2 = %0.4f ohm\" %r2\n",
      "print \"r3 = %0.4f ohm\" %r3\n",
      "print \"r4 = %0.3f ohm\" %r4\n",
      "print \"r5 = %0.3f ohm\" %r5\n"
     ],
     "language": "python",
     "metadata": {},
     "outputs": [
      {
       "output_type": "stream",
       "stream": "stdout",
       "text": [
        "Resistance of the various sections of the Ayrton's shunt :\n",
        "r1 = 2.222 ohm\n",
        "r2 = 0.7407 ohm\n",
        "r3 = 0.3704 ohm\n",
        "r4 = 0.222 ohm\n",
        "r5 = 0.889 ohm\n"
       ]
      }
     ],
     "prompt_number": 34
    },
    {
     "cell_type": "heading",
     "level": 2,
     "metadata": {},
     "source": [
      "Example : 3.12 - Page No : 68"
     ]
    },
    {
     "cell_type": "code",
     "collapsed": false,
     "input": [
      " #Given data\n",
      "Rm= 1000 # in ohm\n",
      "Im= 1 # in mA\n",
      "Im=Im*10**-3 # in amp\n",
      "r3=0.05 # in ohm\n",
      "r2=0.45 # in ohm\n",
      "r1=4.5 # in ohm\n",
      "# For switch at contact 1\n",
      "Rm1= Rm # in ohm\n",
      "Rs1= r1+r2+r3 # in ohm\n",
      "I1= Im*(Rm1/Rs1+1) # in A\n",
      "I1=I1*10**3 # in mA\n",
      "I1=round((I1/10))*10 \n",
      "\n",
      "print \"Ammeter range at contact 1 = %0.f mA\" %I1\n",
      "# For switch at contact 2\n",
      "Rm2= Rm+r1 # in ohm\n",
      "Rs2= r2+r3 # in ohm\n",
      "I2= Im*(Rm2/Rs2+1) # in A\n",
      "I2=round(I2) \n",
      "print \"Ammeter range at contact 2 = %0.f A\" %I2\n",
      "\n",
      "# For switch at contact 3\n",
      "Rm3= Rm+r1+r2 # in ohm\n",
      "Rs3= r3 # in ohm\n",
      "I3= Im*(Rm3/Rs3+1) # in A\n",
      "I3=round(I3) \n",
      "print \"Ammeter range at contact 3 = %0.f A\" %I3"
     ],
     "language": "python",
     "metadata": {},
     "outputs": [
      {
       "output_type": "stream",
       "stream": "stdout",
       "text": [
        "Ammeter range at contact 1 = 200 mA\n",
        "Ammeter range at contact 2 = 2 A\n",
        "Ammeter range at contact 3 = 20 A\n"
       ]
      }
     ],
     "prompt_number": 35
    },
    {
     "cell_type": "heading",
     "level": 2,
     "metadata": {},
     "source": [
      "Example : 3.13 - Page No : 70"
     ]
    },
    {
     "cell_type": "code",
     "collapsed": false,
     "input": [
      "from fractions import Fraction \n",
      "#Given data\n",
      "Rm= 10 # in ohm\n",
      "Im= 50 # in mA\n",
      "Im=Im*10**-3 # in amp\n",
      "V=750 # in volt\n",
      "R= V/Im-Rm # in ohm\n",
      "print \"External resistance = %0.f ohm\" %R\n",
      "# Part(ii)\n",
      "I=100 # in A\n",
      "N=I/Im \n",
      "Rs= Rm/(N-1) # in ohm\n",
      "print \"Shunt resistance required =\",Fraction(Rs).limit_denominator(10000),\"ohm\""
     ],
     "language": "python",
     "metadata": {},
     "outputs": [
      {
       "output_type": "stream",
       "stream": "stdout",
       "text": [
        "External resistance = 14990 ohm\n",
        "Shunt resistance required = 10/1999 ohm\n"
       ]
      }
     ],
     "prompt_number": 39
    },
    {
     "cell_type": "heading",
     "level": 2,
     "metadata": {},
     "source": [
      "Example : 3.14  - Page No : 70"
     ]
    },
    {
     "cell_type": "code",
     "collapsed": false,
     "input": [
      " #Given data\n",
      "Tc= 120*10**-6 # in N-m\n",
      "B= 0.5 # in wb/m**2\n",
      "N=100 \n",
      "A= 4*3 # in cm**2\n",
      "A=A*10**-4# in m**2\n",
      "Rm=0 \n",
      "V= 100*1 \n",
      "# Formula Tc= Td = B*I*N*A\n",
      "I= Tc/(B*N*A) # in amp\n",
      "R= V/I-Rm # in ohm\n",
      "print \"External required resistance = %0.f ohm\" %R"
     ],
     "language": "python",
     "metadata": {},
     "outputs": [
      {
       "output_type": "stream",
       "stream": "stdout",
       "text": [
        "External required resistance = 50000 ohm\n"
       ]
      }
     ],
     "prompt_number": 40
    },
    {
     "cell_type": "heading",
     "level": 2,
     "metadata": {},
     "source": [
      "Example : 3.15 - Page No : 71"
     ]
    },
    {
     "cell_type": "code",
     "collapsed": false,
     "input": [
      " #Given data\n",
      "Im= 0.2*10**-3 # in amp\n",
      "Rm= 10 # in ohm\n",
      "V=100 # in volt\n",
      "R= V/Im-Rm # in ohm\n",
      "print \"External required resistance = %0.2f kohm\" %(R*10**-3)\n",
      "Im1= 0.75*Im #in amp\n",
      "V1= Im1*(R+Rm) # in volt\n",
      "print \"Applied voltage at instrument current 0.75 FSD = %0.f volts\" %V1 \n",
      "\n",
      "Im2= 0.5*Im #in amp\n",
      "V2= Im2*(R+Rm) # in volt\n",
      "print \"Applied voltage at instrument current 0.5 FSD  = %0.f volts\" %V2 \n",
      "\n",
      "Im3= 0.25*Im #in amp\n",
      "V3= Im3*(R+Rm) # in volt\n",
      "print \"Applied voltage at instrument current 0.25 FSD = %0.f volts\" %V3 \n",
      "\n",
      "Im4= 0.1*Im #in amp\n",
      "V4= Im4*(R+Rm) # in volt\n",
      "print \"Applied voltage at instrument current 0.1 FSD  = %0.f volts\" %V4 \n"
     ],
     "language": "python",
     "metadata": {},
     "outputs": [
      {
       "output_type": "stream",
       "stream": "stdout",
       "text": [
        "External required resistance = 499.99 kohm\n",
        "Applied voltage at instrument current 0.75 FSD = 75 volts\n",
        "Applied voltage at instrument current 0.5 FSD  = 50 volts\n",
        "Applied voltage at instrument current 0.25 FSD = 25 volts\n",
        "Applied voltage at instrument current 0.1 FSD  = 10 volts\n"
       ]
      }
     ],
     "prompt_number": 44
    },
    {
     "cell_type": "heading",
     "level": 2,
     "metadata": {},
     "source": [
      "Example : 3.16 - Page No : 72"
     ]
    },
    {
     "cell_type": "code",
     "collapsed": false,
     "input": [
      " #Given data\n",
      "CS= 0.1*10**-3 # current sensitivity in amp\n",
      "VS= 1/CS # voltage sensitivity in ohm/volt\n",
      "VS= VS*10**-3 # in kohm/volt\n",
      "Rm=500 # in ohm\n",
      "Rm=Rm*10**-3 # in kohm\n",
      "\n",
      "# (i) 0-10 V range\n",
      "V=10 # full scale delection voltage in volt\n",
      "R_T= VS*V # in kohm\n",
      "R1= R_T-Rm # in kohm\n",
      "print \"Additional required resistance at 0-10 V range  = %0.1f kohm\" %R1\n",
      "\n",
      "# (ii) 0-50 V range\n",
      "V=50 # full scale delection voltage in volt\n",
      "R_T= VS*V # in kohm\n",
      "R2= R_T-R1-Rm # in kohm\n",
      "print \"Additional required resistance at 0-50 V range  = %0.f kohm\" %R2\n",
      "\n",
      "# (i) 0-100 V range\n",
      "V=100 # full scale delection voltage in volt\n",
      "R_T= VS*V # in kohm\n",
      "R3= R_T-R1-R2-Rm # in kohm\n",
      "print \"Additional required resistance at 0-100 V range = %0.f kohm\" %R3\n",
      "\n",
      "# (i) 0-500 V range\n",
      "V=500 # full scale delection voltage in volt\n",
      "R_T= VS*V # in kohm\n",
      "R4= R_T-R1-R2-R3-Rm # in kohm\n",
      "print \"Additional required resistance at 0-500 V range = %0.f kohm\" %R4\n"
     ],
     "language": "python",
     "metadata": {},
     "outputs": [
      {
       "output_type": "stream",
       "stream": "stdout",
       "text": [
        "Additional required resistance at 0-10 V range  = 99.5 kohm\n",
        "Additional required resistance at 0-50 V range  = 400 kohm\n",
        "Additional required resistance at 0-100 V range = 500 kohm\n",
        "Additional required resistance at 0-500 V range = 4000 kohm\n"
       ]
      }
     ],
     "prompt_number": 47
    },
    {
     "cell_type": "heading",
     "level": 2,
     "metadata": {},
     "source": [
      "Example : 3.17 - Page No : 74"
     ]
    },
    {
     "cell_type": "code",
     "collapsed": false,
     "input": [
      " #Given data\n",
      "E= 1.5 # in V\n",
      "R1addRm= 10 # addition of R1 and Rm in kohm\n",
      "Rx= 0 \n",
      "R=R1addRm+Rx # in kohm\n",
      "R=R*10**3 # in ohm\n",
      "I= E/R #meter FSD current in amp\n",
      "\n",
      "# At 0.8 FSD\n",
      "Im= 0.8*I # in amp\n",
      "R= E/Im # in ohm\n",
      "R=R*10**-3 # in kohm\n",
      "Rx= R-R1addRm #in kohm\n",
      "print \"Unknown resistance at 0.8 FSD  = %0.1f k\u03a9\" %Rx\n",
      "\n",
      "# At 0.5 FSD\n",
      "Im= 0.5*I # in amp\n",
      "R= E/Im # in ohm\n",
      "R=R*10**-3 # in kohm\n",
      "Rx= R-R1addRm #in kohm\n",
      "print \"Unknown resistance at 0.5 FSD  = %0.f k\u03a9\" %Rx\n",
      "\n",
      "# At 0.25 FSD\n",
      "Im= 0.25*I # in amp\n",
      "R= E/Im # in ohm\n",
      "R=R*10**-3 # in kohm\n",
      "Rx= R-R1addRm #in kohm\n",
      "print \"Unknown resistance at 0.25 FSD = %0.f k\u03a9\" %Rx\n",
      "\n",
      "# At 0.1 FSD\n",
      "Im= 0.1*I # in amp\n",
      "R= E/Im # in ohm\n",
      "R=R*10**-3 # in kohm\n",
      "Rx= R-R1addRm #in kohm\n",
      "print \"Unknown resistance at 0.1 FSD  = %0.f k\u03a9\" %Rx\n"
     ],
     "language": "python",
     "metadata": {},
     "outputs": [
      {
       "output_type": "stream",
       "stream": "stdout",
       "text": [
        "Unknown resistance at 0.8 FSD  = 2.5 k\u03a9\n",
        "Unknown resistance at 0.5 FSD  = 10 k\u03a9\n",
        "Unknown resistance at 0.25 FSD = 30 k\u03a9\n",
        "Unknown resistance at 0.1 FSD  = 90 k\u03a9\n"
       ]
      }
     ],
     "prompt_number": 50
    },
    {
     "cell_type": "heading",
     "level": 2,
     "metadata": {},
     "source": [
      "Example : 3.18 - Page No : 74"
     ]
    },
    {
     "cell_type": "code",
     "collapsed": false,
     "input": [
      " #Given data\n",
      "Rm= 50 # in ohm\n",
      "R1= 10 # in kohm\n",
      "R1=R1*10**3 # in ohm\n",
      "R2= 50 # in ohm\n",
      "Im_FSD= 100*10**-6 #meter FSD current in amp\n",
      "\n",
      "# At 0.5 FSD , with 1.5 V\n",
      "E=1.5 # in volt\n",
      "Im= 0.5*Im_FSD # in amp\n",
      "Vm= Im*Rm # in volt\n",
      "I0= Vm/R2 #in amp\n",
      "I=I0+Im # in amp\n",
      "Rx= E/I-R1 # in ohm\n",
      "Rx=Rx*10**-3 #in kohm\n",
      "print \"Unknown resistance at 0.5 FSD with 1.5 V = %0.f kohm\" %Rx\n",
      "# With E= 1.25 V and Rx=0\n",
      "E=1.25 # in volt\n",
      "Rx=0 \n",
      "I=E/(R1+Rx) # in amp\n",
      "I0=I-Im_FSD # in amp\n",
      "Vm= Im_FSD*Rm # in volt\n",
      "R2= Vm/I0 # in ohm\n",
      "print \"Zero adjuster resistance = %0.f ohm\" %R2\n",
      "\n",
      "# At 0.5 FSD , with 1.25 V\n",
      "E=1.25 # in volt\n",
      "Im= 0.5*Im_FSD # in amp\n",
      "Vm= Im*Rm # in volt\n",
      "I0= Vm/R2 #in amp\n",
      "I=I0+Im # in amp\n",
      "Rx= E/I-R1 # in ohm\n",
      "Rx=Rx*10**-3 #in kohm\n",
      "print \"Unknown resistance at 0.5 FSD with 1.25 V = %0.f kohm\" %Rx"
     ],
     "language": "python",
     "metadata": {},
     "outputs": [
      {
       "output_type": "stream",
       "stream": "stdout",
       "text": [
        "Unknown resistance at 0.5 FSD with 1.5 V = 5 kohm\n",
        "Zero adjuster resistance = 200 ohm\n",
        "Unknown resistance at 0.5 FSD with 1.25 V = 10 kohm\n"
       ]
      }
     ],
     "prompt_number": 51
    }
   ],
   "metadata": {}
  }
 ]
}