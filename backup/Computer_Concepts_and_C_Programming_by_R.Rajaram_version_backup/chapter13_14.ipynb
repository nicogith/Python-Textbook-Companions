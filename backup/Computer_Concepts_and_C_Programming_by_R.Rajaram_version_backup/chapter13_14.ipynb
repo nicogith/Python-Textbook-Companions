{
 "metadata": {
  "name": "",
  "signature": "sha256:1ba129031b3dd7ed7efce1207bad751b6003f133c0f192eb72df391881da05bb"
 },
 "nbformat": 3,
 "nbformat_minor": 0,
 "worksheets": [
  {
   "cells": [
    {
     "cell_type": "heading",
     "level": 1,
     "metadata": {},
     "source": [
      "13:STRUCTURE AND UNIONS"
     ]
    },
    {
     "cell_type": "heading",
     "level": 2,
     "metadata": {},
     "source": [
      "13.2.1, page number:203"
     ]
    },
    {
     "cell_type": "code",
     "collapsed": false,
     "input": [
      "from collections import namedtuple\n",
      "MyStruct = namedtuple(\"MyStruct\", \"regno fees\")\n",
      "\n",
      "integer = MyStruct(\"1234\", \" \")\n",
      "real = MyStruct(\" \",\"320.17\")\n",
      "integer=integer._replace(fees=real.fees)\n",
      "real=real._replace(regno=integer.regno)\n",
      "\n",
      "print \"Reg_no : \",real.regno,\",Reg.no : \",integer.fees"
     ],
     "language": "python",
     "metadata": {},
     "outputs": [
      {
       "output_type": "stream",
       "stream": "stdout",
       "text": [
        "Reg_no :  1234 ,Reg.no :  320.17\n"
       ]
      }
     ],
     "prompt_number": 1
    },
    {
     "cell_type": "heading",
     "level": 2,
     "metadata": {},
     "source": [
      "13.3.1, page number:203"
     ]
    },
    {
     "cell_type": "code",
     "collapsed": false,
     "input": [
      "from collections import namedtuple\n",
      "MyStruct = namedtuple(\"MyStruct\", \"regno fees\")\n",
      "\n",
      "\n",
      "student = MyStruct(\"1234\", \"320.17\")\n",
      "\n",
      "print \"Reg.no : \",student.regno,\",Reg.no : \",student.fees"
     ],
     "language": "python",
     "metadata": {},
     "outputs": [
      {
       "output_type": "stream",
       "stream": "stdout",
       "text": [
        "Reg.no :  1234 ,Reg.no :  320.17\n"
       ]
      }
     ],
     "prompt_number": 2
    },
    {
     "cell_type": "heading",
     "level": 2,
     "metadata": {},
     "source": [
      "13.4.1, page number:204"
     ]
    },
    {
     "cell_type": "code",
     "collapsed": false,
     "input": [
      "from collections import namedtuple\n",
      "MyStruct = namedtuple(\"MyStruct\", \"regno fees\")\n",
      "\n",
      "integer = MyStruct(\"1234\", \"320.17\")\n",
      "real = MyStruct(\"\",\"\")\n",
      "real=real._replace(regno=integer.regno,fees=integer.fees)\n",
      "\n",
      "print \"Reg_no : \",real.regno,\",Reg.no : \",real.fees"
     ],
     "language": "python",
     "metadata": {},
     "outputs": [
      {
       "output_type": "stream",
       "stream": "stdout",
       "text": [
        "Reg_no :  1234 ,Reg.no :  320.17\n"
       ]
      }
     ],
     "prompt_number": 3
    }
   ],
   "metadata": {}
  }
 ]
}