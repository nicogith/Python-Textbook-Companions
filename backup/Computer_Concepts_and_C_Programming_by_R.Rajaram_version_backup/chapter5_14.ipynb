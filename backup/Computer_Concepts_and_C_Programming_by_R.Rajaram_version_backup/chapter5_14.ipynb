{
 "metadata": {
  "name": "",
  "signature": "sha256:fc199f6967bdaa418c011f64a9259bafc6cecf83675a6e55fed36bd7ff1a9671"
 },
 "nbformat": 3,
 "nbformat_minor": 0,
 "worksheets": [
  {
   "cells": [
    {
     "cell_type": "heading",
     "level": 1,
     "metadata": {},
     "source": [
      "5:C PROGRAMMING"
     ]
    },
    {
     "cell_type": "heading",
     "level": 2,
     "metadata": {},
     "source": [
      "5.3,page number:124"
     ]
    },
    {
     "cell_type": "code",
     "collapsed": false,
     "input": [
      "print \"Welcome to C programming.\"\n"
     ],
     "language": "python",
     "metadata": {},
     "outputs": [
      {
       "output_type": "stream",
       "stream": "stdout",
       "text": [
        "Welcome to C programming.\n"
       ]
      }
     ],
     "prompt_number": 1
    }
   ],
   "metadata": {}
  }
 ]
}