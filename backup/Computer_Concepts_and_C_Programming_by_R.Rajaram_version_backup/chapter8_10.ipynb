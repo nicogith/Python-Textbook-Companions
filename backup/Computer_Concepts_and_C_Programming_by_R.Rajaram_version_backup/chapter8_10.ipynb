{
 "metadata": {
  "name": "",
  "signature": "sha256:9ca261b12dda6340bfb56a529d7d5db69661ff51a7fd92655edb700a9cae8e3b"
 },
 "nbformat": 3,
 "nbformat_minor": 0,
 "worksheets": [
  {
   "cells": [
    {
     "cell_type": "heading",
     "level": 1,
     "metadata": {},
     "source": [
      "8.MANAGING INPUT AND OUTPUT OPERATORS"
     ]
    },
    {
     "cell_type": "heading",
     "level": 2,
     "metadata": {},
     "source": [
      "8.1.1,page number:152"
     ]
    },
    {
     "cell_type": "code",
     "collapsed": false,
     "input": [
      "print \"tce\""
     ],
     "language": "python",
     "metadata": {},
     "outputs": [
      {
       "output_type": "stream",
       "stream": "stdout",
       "text": [
        "tce\n"
       ]
      }
     ],
     "prompt_number": 1
    },
    {
     "cell_type": "heading",
     "level": 2,
     "metadata": {},
     "source": [
      "8.2.1,page number:153"
     ]
    },
    {
     "cell_type": "code",
     "collapsed": false,
     "input": [
      "print \"Enter Text :\"\n",
      "str=raw_input()\n",
      "print \"Text entered is:\\n\",str"
     ],
     "language": "python",
     "metadata": {},
     "outputs": [
      {
       "output_type": "stream",
       "stream": "stdout",
       "text": [
        "Enter Text :\n"
       ]
      },
      {
       "name": "stdout",
       "output_type": "stream",
       "stream": "stdout",
       "text": [
        "C programming Language is modern and advanced;it enables adressing bits and bytes.\n"
       ]
      },
      {
       "output_type": "stream",
       "stream": "stdout",
       "text": [
        "Text entered is:\n",
        "C programming Language is modern and advanced;it enables adressing bits and bytes.\n"
       ]
      }
     ],
     "prompt_number": 2
    },
    {
     "cell_type": "heading",
     "level": 2,
     "metadata": {},
     "source": [
      "8.3.1,page number:155"
     ]
    },
    {
     "cell_type": "code",
     "collapsed": false,
     "input": [
      "print \"Enter an Integer :\"\n",
      "number=int(input())\n",
      "print \"The Square Of \",number,\"is\",number*number"
     ],
     "language": "python",
     "metadata": {},
     "outputs": [
      {
       "output_type": "stream",
       "stream": "stdout",
       "text": [
        "Enter an Integer :\n"
       ]
      },
      {
       "name": "stdout",
       "output_type": "stream",
       "stream": "stdout",
       "text": [
        "6\n"
       ]
      },
      {
       "output_type": "stream",
       "stream": "stdout",
       "text": [
        "The Square Of  6 is 36\n"
       ]
      }
     ],
     "prompt_number": 3
    }
   ],
   "metadata": {}
  }
 ]
}