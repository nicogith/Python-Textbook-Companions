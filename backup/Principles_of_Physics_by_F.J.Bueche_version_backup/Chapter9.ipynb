{
 "metadata": {
  "name": "",
  "signature": "sha256:233302014269b24da4024327815295a69860454a17ca20816030528c9e7cb7d4"
 },
 "nbformat": 3,
 "nbformat_minor": 0,
 "worksheets": [
  {
   "cells": [
    {
     "cell_type": "heading",
     "level": 1,
     "metadata": {},
     "source": [
      "Chapter 09: Mechanical properties of Matter"
     ]
    },
    {
     "cell_type": "heading",
     "level": 2,
     "metadata": {},
     "source": [
      "Ex9.1:pg-269"
     ]
    },
    {
     "cell_type": "code",
     "collapsed": false,
     "input": [
      "  #Example 9_1\n",
      " \n",
      "  \n",
      "  #To find its mass and how large a cube of ice has the same mass\n",
      "pu=18680.0     #units in Kg/meter**3\n",
      "s=2*10**-2     #units in meters\n",
      "vu=s**3.0     #units in meter**3\n",
      "mu=pu*vu      #units in Kg\n",
      "print \"Mass Mu=\",round(mu,3),\" Kg\\n\"\n",
      "pi=920     #units in Kg/meter**3\n",
      "vi=mu/pi     #units in meter**3\n",
      "ss=vi**(1/3.0)*10**2     #units in cm\n",
      "print \"Side length of ice cube is=\",round(ss,2),\"cm\" \n"
     ],
     "language": "python",
     "metadata": {},
     "outputs": [
      {
       "output_type": "stream",
       "stream": "stdout",
       "text": [
        "Mass Mu= 0.149  Kg\n",
        "\n",
        "Side length of ice cube is= 5.46 cm\n"
       ]
      }
     ],
     "prompt_number": 12
    },
    {
     "cell_type": "heading",
     "level": 2,
     "metadata": {},
     "source": [
      "Ex9.2:pg-269"
     ]
    },
    {
     "cell_type": "code",
     "collapsed": false,
     "input": [
      "  #Example 9_2\n",
      " \n",
      "  \n",
      "  #To calculate the cross sectional area and how far the ball will stretch the wire\n",
      "m=40.0     #units in Kg\n",
      "g=9.8     #units in meter/sec**2\n",
      "F=m*g     #units in Kg meter/sec**2\n",
      "stress=0.48*10**8     #units in Newton/meter**2\n",
      "A=F/stress     #units in meter**2\n",
      "r=sqrt(A/math.pi)*10.0**3     #units in mm\n",
      "print \"The radius of the wire should be r=\",round(r,1),\" mm and the cross sectional area is A=\",round(A),\"meter**2\"\n",
      "y=200.0*10**9      #units in Newton/meter**2\n",
      "strain=stress/y\n",
      "L0=15     #units in meters\n",
      "deltaL=strain*L0     #units in meters\n",
      "deltaL=deltaL*10**3      #units in mm\n",
      "print \"\\nThe ball stretches the wire a distance of deltaL=\",round(deltaL,2),\"mm\" \n"
     ],
     "language": "python",
     "metadata": {},
     "outputs": [
      {
       "output_type": "stream",
       "stream": "stdout",
       "text": [
        "The radius of the wire should be r= 1.6  mm and the cross sectional area is A= 0.0 meter**2\n",
        "\n",
        "The ball stretches the wire a distance of deltaL= 3.6 mm\n"
       ]
      }
     ],
     "prompt_number": 13
    },
    {
     "cell_type": "heading",
     "level": 2,
     "metadata": {},
     "source": [
      "Ex9.7:pg-273"
     ]
    },
    {
     "cell_type": "code",
     "collapsed": false,
     "input": [
      "  #Example 9_7\n",
      " \n",
      "  \n",
      "  #To find out by what factor the blood flow in an artery is reduced\n",
      "r1_r2=1/2.0    #The ratio by which the radius is altered in arterys\n",
      "R1_R2=1/r1_r2**4           #Ratio by which flow is altered\n",
      "print \"The flow rate is reduced by a factor of \",round(R1_R2)\n"
     ],
     "language": "python",
     "metadata": {},
     "outputs": [
      {
       "output_type": "stream",
       "stream": "stdout",
       "text": [
        "The flow rate is reduced by a factor of  16.0\n"
       ]
      }
     ],
     "prompt_number": 15
    },
    {
     "cell_type": "heading",
     "level": 2,
     "metadata": {},
     "source": [
      "Ex9.9:pg-274"
     ]
    },
    {
     "cell_type": "code",
     "collapsed": false,
     "input": [
      "  #Example 9_9\n",
      " \n",
      "  \n",
      "  #To compare the pressures at A and at B\n",
      "p=1000      #Units in Kg/Meter**3\n",
      "va=0.2     #units in meters/sec\n",
      "vb=2     #units in meters/sec\n",
      "Pa_Pb=-0.5*p*(va**2-vb**2)      #units in Pa\n",
      "print \"Pressure Difference at A and B is Pa-Pb=\",round(Pa_Pb),\" Pa therefore Preasure at A is High than at B\"\n"
     ],
     "language": "python",
     "metadata": {},
     "outputs": [
      {
       "output_type": "stream",
       "stream": "stdout",
       "text": [
        "Pressure Difference at A and B is Pa-Pb= 1980.0  Pa therefore Preasure at A is High than at B\n"
       ]
      }
     ],
     "prompt_number": 16
    },
    {
     "cell_type": "heading",
     "level": 2,
     "metadata": {},
     "source": [
      "Ex9.10:pg-276"
     ]
    },
    {
     "cell_type": "code",
     "collapsed": false,
     "input": [
      "  #Example 9_10\n",
      " \n",
      "  \n",
      "  #To  find out how fast a raindrop becomes turbulent\n",
      "Nr=10     #Number of molecules\n",
      "n=1.9*10**-5     #Units in PI\n",
      "p=1.29     #Units in Kg/Meter**3\n",
      "d=3*10**-3     #Units in meters\n",
      "vc=(Nr*n)/(p*d)       #units in meters/sec\n",
      "print \"The speed of the rain drop is Vc=\",round(vc,3),\" meters/sec\"\n"
     ],
     "language": "python",
     "metadata": {},
     "outputs": [
      {
       "output_type": "stream",
       "stream": "stdout",
       "text": [
        "The speed of the rain drop is Vc= 0.049  meters/sec\n"
       ]
      }
     ],
     "prompt_number": 17
    },
    {
     "cell_type": "heading",
     "level": 2,
     "metadata": {},
     "source": [
      "Ex9.11:pg-277"
     ]
    },
    {
     "cell_type": "code",
     "collapsed": false,
     "input": [
      "  #Example 9_11\n",
      " \n",
      "  \n",
      "  #To find out what horsepower is required\n",
      "p=1.29    #Units in Kg/Meter**3\n",
      "Cd=0.45\n",
      "af=2     #Units in Meter**2\n",
      "v=20     #Units in meters/sec\n",
      "M=1000     #units in Kg\n",
      "F=(0.5*p*Cd*af*v**2)+((M/1000)*((110+(1.1*v))))     #Units in Newtons\n",
      "Power=F*v     #Units in Watts\n",
      "Power=Power/747.3061       #units in Horse Power\n",
      "reqHPower=Power**2     #unis in Horse power\n",
      "print \"The required power is=\",round(reqHPower),\" hp\"\n",
      "  #In text book the answer is printed wrong as 80 Hp the correct answer is 95Hp\n"
     ],
     "language": "python",
     "metadata": {},
     "outputs": [
      {
       "output_type": "stream",
       "stream": "stdout",
       "text": [
        "The required power is= 95.0  hp\n"
       ]
      }
     ],
     "prompt_number": 18
    },
    {
     "cell_type": "heading",
     "level": 2,
     "metadata": {},
     "source": [
      "Ex9.12:pg-278"
     ]
    },
    {
     "cell_type": "code",
     "collapsed": false,
     "input": [
      "  #Example 9_12\n",
      " \n",
      "  \n",
      "  #To find out the sedimentation rate of sphrical particles\n",
      "b=2*10**-3     #units in cm\n",
      "g=9.8      #Units in meters/sec**2\n",
      "n=1     #units in m PI\n",
      "Pp_Pt=1050     #units in Kg/Meter**3\n",
      "vt=(((2*b**2*g)/(9*n))/(2*Pp_Pt))*10**6        #units in cm/sec\n",
      "print \"Sedimentation is vt=\",round(vt,4),\"cm/sec\"\n",
      "  #in text book answer  is printed wrong as vt=4.36*10**-3 cm/sec but the correct answer is vt=4.14*10**-3 cm/sec\n"
     ],
     "language": "python",
     "metadata": {},
     "outputs": [
      {
       "output_type": "stream",
       "stream": "stdout",
       "text": [
        "Sedimentation is vt= 0.0041 cm/sec\n"
       ]
      }
     ],
     "prompt_number": 21
    }
   ],
   "metadata": {}
  }
 ]
}