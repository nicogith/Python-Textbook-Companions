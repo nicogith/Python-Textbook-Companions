{
 "cells": [
  {
   "cell_type": "markdown",
   "metadata": {},
   "source": [
    "# Chapter 27:The Atomic Nucleus"
   ]
  },
  {
   "cell_type": "markdown",
   "metadata": {},
   "source": [
    "## Ex27.1:pg-1242"
   ]
  },
  {
   "cell_type": "code",
   "execution_count": 1,
   "metadata": {
    "collapsed": false
   },
   "outputs": [
    {
     "name": "stdout",
     "output_type": "stream",
     "text": [
      "The fraction of atomic mass of Uranium is due to its electrons is= 0.000215\n"
     ]
    }
   ],
   "source": [
    "  #Example 27_1\n",
    " \n",
    "  \n",
    "#What fraction of atomic mass of Uranium is due to its electrons\n",
    "n=92        #Units in constant\n",
    "mass=0.000549       #Units in u\n",
    "tmass=235       #units in u\n",
    "per=(n*mass)/tmass         #Units in fractions\n",
    "print \"The fraction of atomic mass of Uranium is due to its electrons is=\",round(per,6)\n"
   ]
  },
  {
   "cell_type": "markdown",
   "metadata": {},
   "source": [
    "## Ex27.2:pg-1243"
   ]
  },
  {
   "cell_type": "code",
   "execution_count": 3,
   "metadata": {
    "collapsed": false
   },
   "outputs": [
    {
     "name": "stdout",
     "output_type": "stream",
     "text": [
      "The density of gold nucleus is p=\n",
      "2.30561808801e+17 Kg/meter**3\n"
     ]
    }
   ],
   "source": [
    "  #Example 27_2\n",
    "import math \n",
    "  \n",
    "#To find the density of gold nucleus\n",
    "r=6.97*10**-15             #Units in meters\n",
    "a=197       #Units in u\n",
    "v=(4/3.0)*math.pi*r**3       #Units in meter**3\n",
    "m1=1.66*10**-27         #Units in Kg/u\n",
    "mass=a*m1          #Units in Kg\n",
    "p=mass/v      #Units in Kg/meter**3\n",
    "print \"The density of gold nucleus is p=\"\n",
    "print p,\"Kg/meter**3\"\n"
   ]
  },
  {
   "cell_type": "markdown",
   "metadata": {},
   "source": [
    "## Ex27.3:pg-1243"
   ]
  },
  {
   "cell_type": "code",
   "execution_count": 4,
   "metadata": {
    "collapsed": false
   },
   "outputs": [
    {
     "name": "stdout",
     "output_type": "stream",
     "text": [
      "The energy required to change the mass of a system is= 933.7  MeV\n"
     ]
    }
   ],
   "source": [
    "  #Example 27_3\n",
    " \n",
    "  \n",
    "#To calculate the energy required to change the mass of a system\n",
    "c=3*10**8          #units in meters/sec\n",
    "m=1.66*10**-27      #Units in g\n",
    "e=m*c**2          #Units in J\n",
    "e=e/(1.6*10**-19)*10**-6        #Units in MeV\n",
    "print \"The energy required to change the mass of a system is=\",round(e,1),\" MeV\"\n",
    "#In text book answer is printed wrong as e=931.5Mev the correct answer is933.7 MeV\n"
   ]
  },
  {
   "cell_type": "markdown",
   "metadata": {},
   "source": [
    "## Ex27.4:pg-1243"
   ]
  },
  {
   "cell_type": "code",
   "execution_count": 5,
   "metadata": {
    "collapsed": false
   },
   "outputs": [
    {
     "name": "stdout",
     "output_type": "stream",
     "text": [
      "The binding energy of deuterium is E= 2.22  MeV \n"
     ]
    }
   ],
   "source": [
    "  #Example 27_4\n",
    " \n",
    "  \n",
    "#To compute the binding energy of deuterium\n",
    "m1=2.014102          #Units in u\n",
    "m2=0.000549      #Units in u\n",
    "total=m1-m2        #Unts in u\n",
    "m3=1.007276      #Units in u\n",
    "m4=1.008665          #Units in u\n",
    "suma=m3+m4          #Units in u\n",
    "massdefect=suma-total      #units in u\n",
    "e1=931.5    #Units in MeV\n",
    "m5=1             #Units iin eV\n",
    "e=massdefect*e1/m5         #Units in MeV\n",
    "print \"The binding energy of deuterium is E=\",round(e,2),\" MeV \"\n"
   ]
  },
  {
   "cell_type": "markdown",
   "metadata": {},
   "source": [
    "## Ex27.5:pg-1245"
   ]
  },
  {
   "cell_type": "code",
   "execution_count": 6,
   "metadata": {
    "collapsed": false
   },
   "outputs": [
    {
     "name": "stdout",
     "output_type": "stream",
     "text": [
      "After 48 days only  0.313  mg will remain\n"
     ]
    }
   ],
   "source": [
    "  #Example 27_5\n",
    " \n",
    "  \n",
    "#To find how much of the orignal I will still present\n",
    "d1=20.0       #Units in mg\n",
    "d2=d1/2          #Units in mg\n",
    "d3=d2/2          #Units in mg\n",
    "d4=d3/2          #Units in mg\n",
    "d5=d4/2          #Units in mg\n",
    "d6=d5/2         #Units in mg\n",
    "d7=d6/2             #Units in mg\n",
    "print \"After 48 days only \",round(d7,3),\" mg will remain\"\n"
   ]
  },
  {
   "cell_type": "markdown",
   "metadata": {},
   "source": [
    "## Ex27.6:pg-1246"
   ]
  },
  {
   "cell_type": "code",
   "execution_count": 8,
   "metadata": {
    "collapsed": false
   },
   "outputs": [
    {
     "name": "stdout",
     "output_type": "stream",
     "text": [
      "The number of dis integrations per sec=\n",
      "-36195210827.7\n"
     ]
    }
   ],
   "source": [
    "  #Example 27_6\n",
    " \n",
    "  \n",
    "#To find how many radium atoms in the vial undergo decay\n",
    "t1=5.1*10**10     #Units in sec\n",
    "lamda=0.693/t1       #Units in sec**-1\n",
    "n1=6.02*10**26          #Units in atoms/Kmol\n",
    "n2=226   #Units in Kg/Kmol\n",
    "m1=0.001        #Units in Kg\n",
    "N=n1*m1/n2           #Units in number of atoms\n",
    "deltat=1         #Units in sec\n",
    "deltan=-lamda*N*deltat         #Units in Number\n",
    "print \"The number of dis integrations per sec=\"\n",
    "print deltan\n",
    "\n"
   ]
  },
  {
   "cell_type": "markdown",
   "metadata": {},
   "source": [
    "## Ex27.7:pg-1247"
   ]
  },
  {
   "cell_type": "code",
   "execution_count": 10,
   "metadata": {
    "collapsed": false
   },
   "outputs": [
    {
     "name": "stdout",
     "output_type": "stream",
     "text": [
      "The fraction of uranium remains undecayed today is= 0.54\n"
     ]
    }
   ],
   "source": [
    "  #Example 27_7\n",
    " \n",
    "  \n",
    "#To find what fraction of uranium remains undecayed today\n",
    "t1=4.5*10**9     #Units in Years\n",
    "lamda=0.693/t1       #Units in years**-1\n",
    "t=4*10.0**9       #Units in Years\n",
    "n_no=math.e**(-lamda*t)           #Units in Fractions\n",
    "print \"The fraction of uranium remains undecayed today is=\",round(n_no,2)\n"
   ]
  },
  {
   "cell_type": "markdown",
   "metadata": {},
   "source": [
    "## Ex27.8:pg-1248"
   ]
  },
  {
   "cell_type": "code",
   "execution_count": 11,
   "metadata": {
    "collapsed": false
   },
   "outputs": [
    {
     "name": "stdout",
     "output_type": "stream",
     "text": [
      "The decay constant is lamda= 0.00878  h**-1\n",
      " The Half life is t0.5= 79.0  h\n"
     ]
    }
   ],
   "source": [
    "  #Example 27_8\n",
    " \n",
    "  \n",
    "#To calculate the decay constant and half life of substance\n",
    "n_no=0.9       #Units in constant\n",
    "t=12     #Units in h\n",
    "lamda=math.log(1/n_no)/t           #Units in h**-1\n",
    "t1=round(0.693/lamda)           #Units in h\n",
    "print \"The decay constant is lamda=\",round(lamda,7),\" h**-1\\n The Half life is t0.5=\",round(t1),\" h\"\n"
   ]
  },
  {
   "cell_type": "markdown",
   "metadata": {},
   "source": [
    "## Ex27.9:pg-1249"
   ]
  },
  {
   "cell_type": "code",
   "execution_count": 12,
   "metadata": {
    "collapsed": false
   },
   "outputs": [
    {
     "name": "stdout",
     "output_type": "stream",
     "text": [
      "The approximate energy of the emitted alpha particle is E= 1.56  MeV\n"
     ]
    }
   ],
   "source": [
    "  #Example 27_9\n",
    " \n",
    "  \n",
    "#To fnd the approximate energy of the emitted alpha particle\n",
    "m1=222.01753         #Units in u\n",
    "m3=4.00263           #Units in u\n",
    "m2=218.00893          #Units in u\n",
    "massloss=m1-(m2+m3)         #Units in u\n",
    "e1=931.5           #Units in MeV\n",
    "e=e1/massloss*10**-5       #Units in MeV\n",
    "print \"The approximate energy of the emitted alpha particle is E=\",round(e,2),\" MeV\"\n",
    "  #In textbook answer s printed wrong as E=5.56eV the correct answer is E=1.56 eV\n"
   ]
  },
  {
   "cell_type": "markdown",
   "metadata": {},
   "source": [
    "## Ex27.10:pg-1250"
   ]
  },
  {
   "cell_type": "code",
   "execution_count": 14,
   "metadata": {
    "collapsed": false
   },
   "outputs": [
    {
     "name": "stdout",
     "output_type": "stream",
     "text": [
      "The percentage of original amount still remainng is N/No= 78.212  Percent\n"
     ]
    }
   ],
   "source": [
    "  #Example 27_10\n",
    "import math  \n",
    "#To find the fraction of original amount still existence in earth\n",
    "t1=1.41*10**10          #Units in Years\n",
    "lamda=0.693/t1         #Units in year**-1\n",
    "t=5*10**9        #Units in years\n",
    "n_no=math.e**-(lamda*t)         #Units in constant\n",
    "n_no=n_no*100      #Units in percentage\n",
    "print \"The percentage of original amount still remainng is N/No=\",round(n_no,3),\" Percent\"\n"
   ]
  },
  {
   "cell_type": "markdown",
   "metadata": {},
   "source": [
    "## Ex27.11:pg-1251"
   ]
  },
  {
   "cell_type": "code",
   "execution_count": 15,
   "metadata": {
    "collapsed": false
   },
   "outputs": [
    {
     "name": "stdout",
     "output_type": "stream",
     "text": [
      "The activity of sr=\n",
      "5.25130010147e+12\n",
      "Bq\n"
     ]
    }
   ],
   "source": [
    "  #Example 27_11\n",
    " \n",
    "  \n",
    "#To find the activity of sr\n",
    "t1=28      #units in Years\n",
    "t1=t1*86400*365      #Units in sec\n",
    "acti=6.022*10**26        #Units of Bq\n",
    "m1=90       #Units in Kg\n",
    "m2=0.001      #Units in Kg\n",
    "N=(m2/m1)*acti      #Units in constant\n",
    "activity=0.693*N/t1      #Units in Bq\n",
    "print \"The activity of sr=\"\n",
    "print activity\n",
    "print \"Bq\"\n"
   ]
  },
  {
   "cell_type": "markdown",
   "metadata": {},
   "source": [
    "## Ex27.12:pg-1252"
   ]
  },
  {
   "cell_type": "code",
   "execution_count": 16,
   "metadata": {
    "collapsed": false
   },
   "outputs": [
    {
     "name": "stdout",
     "output_type": "stream",
     "text": [
      "The age of the axe handle is t= 27959.0  years\n"
     ]
    }
   ],
   "source": [
    "  #Example 27_12\n",
    "import math \n",
    "  \n",
    "#To estimate the age of the axe handle\n",
    "n_no=0.034\n",
    "t1=5730    #Units in Years\n",
    "t=-(math.log(n_no)*t1)/0.693   #Units in Years\n",
    "print \"The age of the axe handle is t=\",round(t),\" years\"\n",
    "  #In textbook answer is printed wrong as t=28000 years correct answer is t=27958 years \n"
   ]
  },
  {
   "cell_type": "markdown",
   "metadata": {},
   "source": [
    "## Ex27.13:pg-1253"
   ]
  },
  {
   "cell_type": "code",
   "execution_count": 17,
   "metadata": {
    "collapsed": false
   },
   "outputs": [
    {
     "name": "stdout",
     "output_type": "stream",
     "text": [
      "The energy released in the reaction E= 163.0  MeV\n"
     ]
    }
   ],
   "source": [
    "  #Example 27_13\n",
    "  \n",
    "  \n",
    "#To find the energy released in the reaction\n",
    "m1=141.91635      #Units in u\n",
    "m2=89.91972      #Units in u\n",
    "m3=4.03466       #Units in u\n",
    "n2=36           #Units in Constant\n",
    "n1=56           #Units in Constant\n",
    "n4=92         #units in constant\n",
    "m5=236.04564            #Units in u\n",
    "loss=m5-(m1+m2+m3)+n4-(n1+n2)                  #Units in u\n",
    "e1=931.5          #units n MeV\n",
    "energy=round(e1*loss)          #units in MeV\n",
    "print \"The energy released in the reaction E=\",round(energy),\" MeV\"\n"
   ]
  }
 ],
 "metadata": {
  "kernelspec": {
   "display_name": "Python 2",
   "language": "python",
   "name": "python2"
  },
  "language_info": {
   "codemirror_mode": {
    "name": "ipython",
    "version": 2
   },
   "file_extension": ".py",
   "mimetype": "text/x-python",
   "name": "python",
   "nbconvert_exporter": "python",
   "pygments_lexer": "ipython2",
   "version": "2.7.11"
  }
 },
 "nbformat": 4,
 "nbformat_minor": 0
}
