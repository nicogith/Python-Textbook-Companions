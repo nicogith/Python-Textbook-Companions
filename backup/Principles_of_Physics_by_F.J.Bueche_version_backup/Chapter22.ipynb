{
 "cells": [
  {
   "cell_type": "markdown",
   "metadata": {},
   "source": [
    "# Chapter 22:The properties of Light"
   ]
  },
  {
   "cell_type": "markdown",
   "metadata": {},
   "source": [
    "## Ex22.1:pg-1067"
   ]
  },
  {
   "cell_type": "code",
   "execution_count": 1,
   "metadata": {
    "collapsed": false
   },
   "outputs": [
    {
     "name": "stdout",
     "output_type": "stream",
     "text": [
      "The position of the image is i= 6.0  cm\n",
      "The Size of the image is I= 0.0  cm High\n"
     ]
    }
   ],
   "source": [
    "  #Example 22_1\n",
    " \n",
    "  \n",
    "#To find the position and size of the image\n",
    "d1=5      #units in cm\n",
    "d2=30       #units in cm\n",
    "i=(d1*d2)/(d2-d1)     #Units in cm\n",
    "d3=2             #units in cm\n",
    "I=(i/d2)*d3        #units in cm\n",
    "print \"The position of the image is i=\",round(i),\" cm\\nThe Size of the image is I=\",round(I,2),\" cm High\"       \n"
   ]
  },
  {
   "cell_type": "markdown",
   "metadata": {},
   "source": [
    "## Ex22.2:pg-1068"
   ]
  },
  {
   "cell_type": "code",
   "execution_count": 2,
   "metadata": {
    "collapsed": false
   },
   "outputs": [
    {
     "name": "stdout",
     "output_type": "stream",
     "text": [
      "The position of the image is i= -10.0  cm\n"
     ]
    }
   ],
   "source": [
    "  #Example 22_2\n",
    " \n",
    "  \n",
    "#To find the location of the image\n",
    "d1=10      #units in cm\n",
    "d2=5       #units in cm\n",
    "i=(d1*d2)/(d2-d1)     #Units in cm\n",
    "print \"The position of the image is i=\",round(i),\" cm\"\n"
   ]
  },
  {
   "cell_type": "markdown",
   "metadata": {},
   "source": [
    "## Ex22.3:pg-1069"
   ]
  },
  {
   "cell_type": "code",
   "execution_count": 4,
   "metadata": {
    "collapsed": false
   },
   "outputs": [
    {
     "name": "stdout",
     "output_type": "stream",
     "text": [
      "The location of the image is i= -30.0  cm\n",
      " The relative size of the image is I_O= 0.4  cm\n"
     ]
    }
   ],
   "source": [
    "  #Example 22_3\n",
    " \n",
    "  \n",
    "#To find the location of the image and its relative size\n",
    "r=100.0              #Unts in cm\n",
    "d1=-r/2      #units in cm\n",
    "d2=75.0       #units in cm\n",
    "i=(d1*d2)/(d2-d1)     #Units in cm\n",
    "p=75      #units in cm\n",
    "sizee=-i/p             #units in cm\n",
    "print \"The location of the image is i=\",round(i),\" cm\\n The relative size of the image is I_O=\",round(sizee,2),\" cm\"\n"
   ]
  },
  {
   "cell_type": "markdown",
   "metadata": {},
   "source": [
    "## Ex22.4:pg-1069"
   ]
  },
  {
   "cell_type": "code",
   "execution_count": 7,
   "metadata": {
    "collapsed": false
   },
   "outputs": [
    {
     "name": "stdout",
     "output_type": "stream",
     "text": [
      "The angle at which the light emerges in air is theta= 53.0  degrees\n"
     ]
    }
   ],
   "source": [
    "#Example 22_4\n",
    " \n",
    "import math  \n",
    "#To find the angle at which the light emerge in to the air\n",
    "theta=37        #Units in degrees\n",
    "n1=1.33       #Units in constant\n",
    "n2=1       #Units in constant\n",
    "thetaa=math.asin((n1*math.sin(theta*math.pi/180))/n2)*180/math.pi            #units in degrees\n",
    "print \"The angle at which the light emerges in air is theta=\",round(thetaa),\" degrees\" \n"
   ]
  },
  {
   "cell_type": "markdown",
   "metadata": {},
   "source": [
    "## Ex22.5:pg-1068"
   ]
  },
  {
   "cell_type": "code",
   "execution_count": 8,
   "metadata": {
    "collapsed": false
   },
   "outputs": [
    {
     "name": "stdout",
     "output_type": "stream",
     "text": [
      "We have Theta1=Theta4 \n",
      "Which shows that A unform layer of transparent material does not change the direction of the beam of light\n"
     ]
    }
   ],
   "source": [
    "  #Example 22_5\n",
    " \n",
    "  \n",
    "#At what angle does the light emerges from the bottom of the dish\n",
    "print \"We have Theta1=Theta4 \\nWhich shows that A unform layer of transparent material does not change the direction of the beam of light\"\n"
   ]
  },
  {
   "cell_type": "markdown",
   "metadata": {},
   "source": [
    "## Ex22.6:pg-1068"
   ]
  },
  {
   "cell_type": "code",
   "execution_count": 10,
   "metadata": {
    "collapsed": false
   },
   "outputs": [
    {
     "name": "stdout",
     "output_type": "stream",
     "text": [
      "From the diagram we notice that eyes will assume that the three rays come from image position indicated and as we see the image is virtual, erect and enlarged\n",
      "\n",
      "The image is located at i= -10.0  cm\n"
     ]
    }
   ],
   "source": [
    "  #Example 22_6\n",
    " \n",
    "  \n",
    "#To draw a ray diagram to locate the image\n",
    "print \"From the diagram we notice that eyes will assume that the three rays come from image position indicated and as we see the image is virtual, erect and enlarged\"\n",
    "d1=10      #units in cm\n",
    "d2=5       #units in cm\n",
    "i=(d1*d2)/(d2-d1)     #Units in cm\n",
    "print \"\\nThe image is located at i=\",round(i,2),\" cm\"\n"
   ]
  },
  {
   "cell_type": "markdown",
   "metadata": {},
   "source": [
    "## Ex22.7:pg-1068"
   ]
  },
  {
   "cell_type": "code",
   "execution_count": 12,
   "metadata": {
    "collapsed": false
   },
   "outputs": [
    {
     "name": "stdout",
     "output_type": "stream",
     "text": [
      "From the ray diagram we have noticed that the image is virtual, erect and dimnished in size\n",
      "\n",
      "The image is located at i= 3.0  cm\n"
     ]
    }
   ],
   "source": [
    "  #Example 22_7\n",
    " \n",
    "  \n",
    "#To find the image position by means of the ray diagram\n",
    "print \"From the ray diagram we have noticed that the image is virtual, erect and dimnished in size\"\n",
    "d1=5      #units in cm\n",
    "d2=-10       #units in cm\n",
    "i=(d1*d2)/(d2-d1)     #Units in cm\n",
    "print \"\\nThe image is located at i=\",round(i,2),\" cm\"\n"
   ]
  },
  {
   "cell_type": "markdown",
   "metadata": {},
   "source": [
    "## Ex22.8:pg-1069"
   ]
  },
  {
   "cell_type": "code",
   "execution_count": 15,
   "metadata": {
    "collapsed": false
   },
   "outputs": [
    {
     "name": "stdout",
     "output_type": "stream",
     "text": [
      "\n",
      "The image is located at i= -13.33  cm\n",
      "\n",
      "The Size of the image is I= 1.0  cm\n"
     ]
    }
   ],
   "source": [
    "  #Example 22_8\n",
    " \n",
    "  \n",
    "#To find the image positon and size\n",
    "d1=-20      #units in cm\n",
    "d2=40.0       #units in cm\n",
    "i=(d1*d2)/(d2-d1)     #Units in cm\n",
    "print \"\\nThe image is located at i=\",round(i,2),\" cm\"\n",
    "d3=3.0            #units in cm\n",
    "I=(-i*d3)/d2     #units in cm\n",
    "print \"\\nThe Size of the image is I=\",round(I),\" cm\"\n"
   ]
  }
 ],
 "metadata": {
  "kernelspec": {
   "display_name": "Python 2",
   "language": "python",
   "name": "python2"
  },
  "language_info": {
   "codemirror_mode": {
    "name": "ipython",
    "version": 2
   },
   "file_extension": ".py",
   "mimetype": "text/x-python",
   "name": "python",
   "nbconvert_exporter": "python",
   "pygments_lexer": "ipython2",
   "version": "2.7.11"
  }
 },
 "nbformat": 4,
 "nbformat_minor": 0
}
