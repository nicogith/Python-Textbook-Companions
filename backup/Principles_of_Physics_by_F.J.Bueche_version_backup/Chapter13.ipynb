{
 "cells": [
  {
   "cell_type": "markdown",
   "metadata": {},
   "source": [
    "# Chapter 13:Vibrations and Waves"
   ]
  },
  {
   "cell_type": "markdown",
   "metadata": {},
   "source": [
    "## Ex13.1:pg-508## "
   ]
  },
  {
   "cell_type": "code",
   "execution_count": 3,
   "metadata": {
    "collapsed": false
   },
   "outputs": [
    {
     "name": "stdout",
     "output_type": "stream",
     "text": [
      "Maximum velocity is Vmax= 1.4  Meter/sec\n",
      "\n",
      "Maximum acceleration is Amax= 4.9  meter/sec**2\n",
      "\n",
      "Velocity at x=0.1 meters is=  1.36  meters/sec\n",
      "\n",
      "Acceleration at x=0.1 meters is=  -1.23  meters/sec**2\n",
      "\n"
     ]
    }
   ],
   "source": [
    "  #Example 13_1\n",
    "import math  \n",
    "  #To find the maximum velocity and acceleration and the same when x=10cm\n",
    "xo=0.4       #Units in Meters\n",
    "k=24.5         #Units in N/M\n",
    "m=2             #Units in Kg\n",
    "vmax=xo*(math.sqrt(k/m))         #Units in meters/sec\n",
    "print \"Maximum velocity is Vmax=\",round(vmax,1),\" Meter/sec\\n\"\n",
    "amax=(k*xo)/m              #Units in meter/sec**2\n",
    "print \"Maximum acceleration is Amax=\",round(amax,1),\" meter/sec**2\\n\"\n",
    "x=0.1            #Units in meters\n",
    "v=math.sqrt((k/m)*(xo**2-x**2))          #Units in meters/Sec\n",
    "print \"Velocity at x=0.1 meters is= \",round(v,2),\" meters/sec\\n\"\n",
    "a=-(k*x)/m   #Units in meter/sec**2\n",
    "print \"Acceleration at x=0.1 meters is= \",round(a,2),\" meters/sec**2\\n\"\n"
   ]
  },
  {
   "cell_type": "markdown",
   "metadata": {},
   "source": [
    "## Ex13.2:pg-512## "
   ]
  },
  {
   "cell_type": "code",
   "execution_count": 5,
   "metadata": {
    "collapsed": false
   },
   "outputs": [
    {
     "name": "stdout",
     "output_type": "stream",
     "text": [
      "The frequency of vibrations is f= 0.56  Hz\n"
     ]
    }
   ],
   "source": [
    "  #Example 13_2\n",
    " \n",
    "import math \n",
    "  #To find the frequency of the vibrations\n",
    "spring=24.5         #Units in N/m\n",
    "m=2        #Units in Kg\n",
    "f=(1/(2*math.pi))*math.sqrt(spring/m)          #Units in Hz\n",
    "print \"The frequency of vibrations is f=\",round(f,2),\" Hz\"\n"
   ]
  },
  {
   "cell_type": "markdown",
   "metadata": {},
   "source": [
    "## Ex13.3:pg-513"
   ]
  },
  {
   "cell_type": "code",
   "execution_count": 0,
   "metadata": {
    "collapsed": false
   },
   "outputs": [],
   "source": [
    "  #Example 13_3\n",
    " \n",
    "  \n",
    "  #To find the tension required in string\n",
    "m=0.002           #Units in Kg\n",
    "l=0.6          #Units in meters\n",
    "v=300       #Units in meters/sec\n",
    "T=(m/l)*v**2       #Units in N\n",
    "print \"Tension required in the string is T=\",round(T),\" N\"\n"
   ]
  },
  {
   "cell_type": "markdown",
   "metadata": {},
   "source": [
    "## Ex13.4:pg-514"
   ]
  },
  {
   "cell_type": "code",
   "execution_count": 6,
   "metadata": {
    "collapsed": false
   },
   "outputs": [
    {
     "name": "stdout",
     "output_type": "stream",
     "text": [
      "The first resonance frequency is F1= 2.0  Hz\n",
      "\n",
      "The second resonance frequency is F2= 4.0  Hz\n",
      "\n",
      "The third resonance frequency is F3= 6.0  Hz\n",
      "\n"
     ]
    }
   ],
   "source": [
    "  #Example 13_4\n",
    " \n",
    "  \n",
    "  #To draw a picture on the first three resonance frequencies\n",
    "l=6        #Units in meters\n",
    "n=1\n",
    "lamda1=(2*l)/n        #Units in meters\n",
    "n=2\n",
    "lamda2=(2*l)/n        #Units in meters\n",
    "n=3\n",
    "lamda3=(2*l)/n        #Units in meters\n",
    "speed=24         #Units in meters/sec\n",
    "f1=speed/lamda1             #Units in Hz\n",
    "f2=speed/lamda2             #Units in Hz\n",
    "f3=speed/lamda3             #Units in Hz\n",
    "print \"The first resonance frequency is F1=\",round(f1),\" Hz\\n\"\n",
    "print \"The second resonance frequency is F2=\",round(f2),\" Hz\\n\"\n",
    "print \"The third resonance frequency is F3=\",round(f3),\" Hz\\n\"\n"
   ]
  },
  {
   "cell_type": "markdown",
   "metadata": {},
   "source": [
    "## Ex13.5:pg-515 "
   ]
  },
  {
   "cell_type": "code",
   "execution_count": 0,
   "metadata": {
    "collapsed": false
   },
   "outputs": [],
   "source": [
    "  #Example 13_5\n",
    " \n",
    "  \n",
    "  #To find the speed of the wave\n",
    "l=300*10**-2       #Units in Meters\n",
    "lamda3=(l*2)/3       #Units in meters\n",
    "f=20         #Units in sec**-1 or Hz\n",
    "v=f*lamda3         #Units in meters/sec\n",
    "print \"The speed of the wave is v=\",round(v),\" meters/sec\"\n"
   ]
  },
  {
   "cell_type": "markdown",
   "metadata": {},
   "source": [
    "## Ex13.6:pg-516"
   ]
  },
  {
   "cell_type": "code",
   "execution_count": 8,
   "metadata": {
    "collapsed": false
   },
   "outputs": [
    {
     "name": "stdout",
     "output_type": "stream",
     "text": [
      "The youngs modulus is Y=\n",
      "1.961071965e+11 N/meters**2\n"
     ]
    }
   ],
   "source": [
    "  #Example 13_6\n",
    " \n",
    "  \n",
    "  #To find the youngs modulus\n",
    "lamda=1.85      #Units in meters\n",
    "f=2700       #units in sec**-1\n",
    "v=lamda*f        #Units in meters/sec\n",
    "density=7.86*10**3        #Units in Kg/meter**3\n",
    "y=v**2*density     #Units in N/meters**2\n",
    "print \"The youngs modulus is Y=\"\n",
    "print y,\"N/meters**2\"\n"
   ]
  }
 ],
 "metadata": {
  "kernelspec": {
   "display_name": "Python 2",
   "language": "python",
   "name": "python2"
  },
  "language_info": {
   "codemirror_mode": {
    "name": "ipython",
    "version": 2
   },
   "file_extension": ".py",
   "mimetype": "text/x-python",
   "name": "python",
   "nbconvert_exporter": "python",
   "pygments_lexer": "ipython2",
   "version": "2.7.11"
  }
 },
 "nbformat": 4,
 "nbformat_minor": 0
}
