{
 "cells": [
  {
   "cell_type": "markdown",
   "metadata": {},
   "source": [
    "# Chapter 03:Uniform Accelerated Motion"
   ]
  },
  {
   "cell_type": "markdown",
   "metadata": {},
   "source": [
    "## Ex3.1:pg-97"
   ]
  },
  {
   "cell_type": "code",
   "execution_count": 1,
   "metadata": {
    "collapsed": false
   },
   "outputs": [
    {
     "name": "stdout",
     "output_type": "stream",
     "text": [
      "The Instantaneous Velocity at P Vp= 10.0  meters/sec\n",
      "\n",
      "The Instantaneous Velocity at Q Vq= 0.0  meters/sec\n",
      "\n",
      "The Instantaneous Velocity at N Vn= -10.0  meters/sec\n",
      "\n",
      "The Average Velocity between A and Q is VAQ= 10.0  meters/sec\n",
      "\n",
      "The Average Velocity between A and M is VAM= 0.0  meters/sec\n",
      "\n"
     ]
    }
   ],
   "source": [
    "  import math #Example 3_1\n",
    "\n",
    "\n",
    "  #To find the balls instantaneous velocity and Average Velocity\n",
    "d1=8.6     #units in meters\n",
    "t1=0.86     #units in sec\n",
    "vp=d1/t1     #units in meters/sec\n",
    "print \"The Instantaneous Velocity at P Vp=\",round(vp),\" meters/sec\\n\"\n",
    "  #The ball stops at position Q Hence vp=0 met/sec\n",
    "vq=0    #units in meters/sec\n",
    "print \"The Instantaneous Velocity at Q Vq=\",round(vq,10),\" meters/sec\\n\"\n",
    "d2=-10.2     #units in meters\n",
    "t2=1.02     #units in sec\n",
    "vn=d2/t2     #units in meters/sec\n",
    "print \"The Instantaneous Velocity at N Vn=\",round(vn),\" meters/sec\\n\"\n",
    "d3=20     #units in meters\n",
    "t3=2.0     #units in sec\n",
    "vAQ=d3/t3     #units in meters/sec\n",
    "print \"The Average Velocity between A and Q is VAQ=\",round(vAQ),\" meters/sec\\n\"\n",
    "d4=0     #units in meters\n",
    "t4=4.0     #units in sec\n",
    "vAM=d4/t4     #units in meters/sec\n",
    "print \"The Average Velocity between A and M is VAM=\",round(vAM,10),\" meters/sec\\n\"\n"
   ]
  },
  {
   "cell_type": "markdown",
   "metadata": {},
   "source": [
    "## Ex3.2:pg-98"
   ]
  },
  {
   "cell_type": "code",
   "execution_count": 2,
   "metadata": {
    "collapsed": false
   },
   "outputs": [
    {
     "name": "stdout",
     "output_type": "stream",
     "text": [
      "Acceleration a= -10.0  meters/sec**2\n"
     ]
    }
   ],
   "source": [
    "  import math #Example 3_2\n",
    "\n",
    "\n",
    "  #To calculate the Acceleration\n",
    "v1=20.0    #units in meters/sec\n",
    "v2=15.0    #units in meters/sec\n",
    "t1=0    #units in sec\n",
    "t2=0.5    #units in sec\n",
    "c_v=v2-v1     #units in meters/sec\n",
    "c_t=t2-t1     #units in sec\n",
    "acceleration=c_v/c_t    #units in meters/sec**2\n",
    "print \"Acceleration a=\",round(acceleration,2),\" meters/sec**2\"\n"
   ]
  },
  {
   "cell_type": "markdown",
   "metadata": {},
   "source": [
    "## Ex3.3:pg-98"
   ]
  },
  {
   "cell_type": "code",
   "execution_count": 3,
   "metadata": {
    "collapsed": false
   },
   "outputs": [
    {
     "name": "stdout",
     "output_type": "stream",
     "text": [
      "Acceleration is a= 0.5  meters/sec\n",
      "\n",
      "Distance travelled is x= 25.0  meters\n"
     ]
    }
   ],
   "source": [
    "  import math #Example 3_3\n",
    "\n",
    "\n",
    "  #To find acceleration and the distance it travels in time\n",
    "vf=5.0    #units in meters/sec\n",
    "v0=0   #units in meters/sec\n",
    "t=10.0    #units in sec\n",
    "a=(vf-v0)/t     #units in meters/sec**2\n",
    "v_1=(vf+v0)/2     #unis in meters/sec\n",
    "x=v_1*t    #units in meters\n",
    "print \"Acceleration is a=\",round(a,1),\" meters/sec\\n\"\n",
    "print \"Distance travelled is x=\",round(x),\" meters\"\n"
   ]
  },
  {
   "cell_type": "markdown",
   "metadata": {},
   "source": [
    "## Ex3.4:pg-99"
   ]
  },
  {
   "cell_type": "code",
   "execution_count": 4,
   "metadata": {
    "collapsed": false
   },
   "outputs": [
    {
     "name": "stdout",
     "output_type": "stream",
     "text": [
      "Acceleration is a= -0.625  meters/sec**2\n",
      "\n",
      "Time taken to stop t= 8.0  sec\n"
     ]
    }
   ],
   "source": [
    "  import math #Example 3_4\n",
    "\n",
    "\n",
    "  #To find acceleration and time taken to stop\n",
    "v0=5.0    #units in meters/sec\n",
    "vf=0     #units in meters/sec\n",
    "v_1=(v0+vf)/2    #units in meters/sec\n",
    "x=20.0     #units in meters\n",
    "t=x/v_1     #units in sec\n",
    "a=(vf-v0)/t    #units in meters/sec**2\n",
    "print \"Acceleration is a=\",round(a,3),\" meters/sec**2\\n\"\n",
    "print \"Time taken to stop t=\",round(t),\" sec\"\n"
   ]
  },
  {
   "cell_type": "markdown",
   "metadata": {},
   "source": [
    "## Ex3.5:pg-100"
   ]
  },
  {
   "cell_type": "code",
   "execution_count": 6,
   "metadata": {
    "collapsed": false
   },
   "outputs": [
    {
     "name": "stdout",
     "output_type": "stream",
     "text": [
      "Speed vf= 12.65  meters/sec\n",
      "\n",
      "Time taken T= 3.16  sec\n"
     ]
    }
   ],
   "source": [
    "  import math #Example 3_5\n",
    "\n",
    "  \n",
    "  #To calculate the speed and time to cover\n",
    "a=4.0    #units in meters/sec**2\n",
    "x=20.0     #units in meters\n",
    "vf=math.sqrt(a*x*2)    #units in meters/sec\n",
    "t=vf/a    #units in sec\n",
    "print \"Speed vf=\",round(vf,2),\" meters/sec\\n\"\n",
    "print \"Time taken T=\",round(t,2),\" sec\"\n"
   ]
  },
  {
   "cell_type": "markdown",
   "metadata": {},
   "source": [
    "## Ex3.6:pg-112"
   ]
  },
  {
   "cell_type": "code",
   "execution_count": 7,
   "metadata": {
    "collapsed": false
   },
   "outputs": [
    {
     "name": "stdout",
     "output_type": "stream",
     "text": [
      "Time taken by a car to travel is T= 7.0  sec\n"
     ]
    }
   ],
   "source": [
    "  import math #Example 3_6\n",
    " \n",
    " \n",
    "  #To find the time taken by a car to travel\n",
    "x=98.0    #uniys in meters\n",
    "a=4.0     #units in meters/sec**2\n",
    "t=math.sqrt((2*x)/a)    #units in sec\n",
    "print \"Time taken by a car to travel is T=\",round(t),\" sec\"\n"
   ]
  },
  {
   "cell_type": "markdown",
   "metadata": {},
   "source": [
    "## Ex3.7:pg-112"
   ]
  },
  {
   "cell_type": "code",
   "execution_count": 8,
   "metadata": {
    "collapsed": false
   },
   "outputs": [
    {
     "name": "stdout",
     "output_type": "stream",
     "text": [
      "Time taken to travel T= 5.6  sec\n"
     ]
    }
   ],
   "source": [
    "  import math #Example 3_7\n",
    "   \n",
    "  #To calculate the time taken to travel\n",
    "v0=16.7    #units in meters/sec\n",
    "a=1.5    #units in meters/sec**2\n",
    "x=70    #units in meters\n",
    "t=-((-v0)+math.sqrt(v0**2-(4*(a/2)*x)))/(2*(a/2))    #units in sec\n",
    "print \"Time taken to travel T=\",round(t,1),\" sec\"\n"
   ]
  },
  {
   "cell_type": "markdown",
   "metadata": {},
   "source": [
    "## Ex3.8:pg-114"
   ]
  },
  {
   "cell_type": "code",
   "execution_count": 9,
   "metadata": {
    "collapsed": false
   },
   "outputs": [
    {
     "name": "stdout",
     "output_type": "stream",
     "text": [
      "Acceleration a= 43200.0  km/h**2\n"
     ]
    }
   ],
   "source": [
    "  import math #Example 3_8\n",
    " \n",
    "  \n",
    "  #To calculate the acceleration\n",
    "vf=30.0    #units in meters/sec\n",
    "v0=0    #units in meters/sec\n",
    "t=9.0    #units in sec\n",
    "a=(vf-v0)/t    #units in meters/sec**2\n",
    "a=a*(1/1000.0)*(3600.0/1)*(3600.0/1)    #units in km/h**2\n",
    "print \"Acceleration a=\",round(a),\" km/h**2\"\n"
   ]
  },
  {
   "cell_type": "markdown",
   "metadata": {},
   "source": [
    "## Ex3.9:pg-114"
   ]
  },
  {
   "cell_type": "code",
   "execution_count": 14,
   "metadata": {
    "collapsed": false
   },
   "outputs": [
    {
     "name": "stdout",
     "output_type": "stream",
     "text": [
      "The bridge is y= -44.0  meters above the water\n"
     ]
    }
   ],
   "source": [
    "  import math #Example 3_9\n",
    " \n",
    "  \n",
    "  #To find how above the water is the bridge\n",
    "v0=0    #units in meters/sec\n",
    "t=3.0    #units in sec\n",
    "a=-9.8     #units in meters/sec**2\n",
    "y=(v0*t)+(0.5*a*t**2)    #units in meters\n",
    "print \"The bridge is y=\",round(y),\" meters above the water\"\n"
   ]
  },
  {
   "cell_type": "markdown",
   "metadata": {},
   "source": [
    "## Ex3.10:pg-115"
   ]
  },
  {
   "cell_type": "code",
   "execution_count": 10,
   "metadata": {
    "collapsed": false
   },
   "outputs": [
    {
     "name": "stdout",
     "output_type": "stream",
     "text": [
      "Distance it travels is y= 11.5  meters\n",
      "\n",
      "The speed is vf= -15.0  meters/sec\n",
      "\n",
      "Time taken is T= 3.06  sec\n"
     ]
    }
   ],
   "source": [
    "  import math #Example 3_10\n",
    " \n",
    "  #To find out how high does it goes and its speed and how long will it be in air \n",
    "vf=0    #units in meters/sec\n",
    "v0=15    #units in meters/sec\n",
    "a=-9.8    #units in meters/sec**2\n",
    "y=(vf**2-v0**2)/(2*a)     #units in meters\n",
    "print \"Distance it travels is y=\",round(y,1),\" meters\\n\"\n",
    "vf=-math.sqrt(2*a*-y)    #units in meters/sec\n",
    "print \"The speed is vf=\",round(vf),\" meters/sec\\n\"\n",
    "t=vf/(0.5*a)    #units in sec\n",
    "print \"Time taken is T=\",round(t,2),\" sec\"\n"
   ]
  },
  {
   "cell_type": "markdown",
   "metadata": {},
   "source": [
    "## Ex3.11:pg-116"
   ]
  },
  {
   "cell_type": "code",
   "execution_count": 11,
   "metadata": {
    "collapsed": false
   },
   "outputs": [
    {
     "name": "stdout",
     "output_type": "stream",
     "text": [
      "The speed by which the ball has to be thrown is v= 14.7  meters/sec\n"
     ]
    }
   ],
   "source": [
    "  import math #Example 3_11\n",
    " \n",
    "  \n",
    "  #To find out how fast a ball must be thrown\n",
    "a=9.8    #unita in meters/sec**2\n",
    "t=3    #units in sec\n",
    "v=(0.5*a*t**2)/t\n",
    "print \"The speed by which the ball has to be thrown is v=\",round(v,1),\" meters/sec\"\n"
   ]
  },
  {
   "cell_type": "markdown",
   "metadata": {},
   "source": [
    "## Ex3.12:pg-117"
   ]
  },
  {
   "cell_type": "code",
   "execution_count": 12,
   "metadata": {
    "collapsed": false
   },
   "outputs": [
    {
     "name": "stdout",
     "output_type": "stream",
     "text": [
      "The ball hits the ground at x= 9.58  meters\n"
     ]
    }
   ],
   "source": [
    "  import math #Example 3_12\n",
    " \n",
    " \n",
    "#To find out where the ball will hit the ground\n",
    "#Horizontal\n",
    "y=2    #units in meters\n",
    "a=9.8    #units in meters/sec**2\n",
    "t=math.sqrt(y/(0.5*a))    #units in sec\n",
    "v=15    #units in meters/sec\n",
    "x=v*t    #units in sec\n",
    "print \"The ball hits the ground at x=\",round(x,2),\" meters\"\n"
   ]
  },
  {
   "cell_type": "markdown",
   "metadata": {},
   "source": [
    "## Ex3.13:pg-118"
   ]
  },
  {
   "cell_type": "code",
   "execution_count": 13,
   "metadata": {
    "collapsed": false
   },
   "outputs": [
    {
     "name": "stdout",
     "output_type": "stream",
     "text": [
      "The arrow hits y= 9.3  meters above the straight point\n",
      "\n",
      "The Vertical componet of velocity is v= 11.9  meters/sec\n",
      "\n",
      "As V is Positive the arrow is in its way up\n",
      "\n",
      "The magnitude of velocity is vtotal= 26.8  meters/sec\n"
     ]
    }
   ],
   "source": [
    "  import math #Example 3_13\n",
    " \n",
    "  \n",
    "  #To find out at what height above ground does it hit wall and is it still going up befor it hits or down\n",
    "v_1=24.0    #units in meters/sec\n",
    "x=15.0     #units in meters\n",
    "t=x/v_1     #units in sec\n",
    "v0=18    #units in meters/sec\n",
    "a=-9.8    #units in meters/sec**2\n",
    "y=(v0*t)+(0.5*a*t**2)    #units in meters\n",
    "print \"The arrow hits y=\",round(y,1),\" meters above the straight point\\n\"\n",
    "v=v0+(a*t)     #units in meters/sec\n",
    "print \"The Vertical componet of velocity is v=\",round(v,1),\" meters/sec\\n\"\n",
    "print \"As V is Positive the arrow is in its way up\\n\"\n",
    "vtotal=math.sqrt(v**2+v_1**2)     #units in meters/sec\n",
    "print \"The magnitude of velocity is vtotal=\",round(vtotal,1),\" meters/sec\"\n"
   ]
  }
 ],
 "metadata": {
  "kernelspec": {
   "display_name": "Python 2",
   "language": "python",
   "name": "python2"
  },
  "language_info": {
   "codemirror_mode": {
    "name": "ipython",
    "version": 2
   },
   "file_extension": ".py",
   "mimetype": "text/x-python",
   "name": "python",
   "nbconvert_exporter": "python",
   "pygments_lexer": "ipython2",
   "version": "2.7.11"
  }
 },
 "nbformat": 4,
 "nbformat_minor": 0
}
