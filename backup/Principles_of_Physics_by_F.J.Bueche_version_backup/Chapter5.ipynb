{
 "metadata": {
  "name": "",
  "signature": "sha256:8f34af9d7ab4f4986ce62fe277146eddcd673716e93f679d03460223f2973812"
 },
 "nbformat": 3,
 "nbformat_minor": 0,
 "worksheets": [
  {
   "cells": [
    {
     "cell_type": "heading",
     "level": 1,
     "metadata": {},
     "source": [
      "Chapter 05:Work and Energy"
     ]
    },
    {
     "cell_type": "heading",
     "level": 2,
     "metadata": {},
     "source": [
      "Ex5.1:pg-159"
     ]
    },
    {
     "cell_type": "code",
     "collapsed": false,
     "input": [
      "  #Example 5_1\n",
      " \n",
      "import math \n",
      "  #To calculate the work done\n",
      "Fs=8.0     #units in meters\n",
      "W=Fs*round(math.cos(math.pi/2.0))     #units in Joules\n",
      "print \"The work done is W=\",round(W),\" Joules\"\n"
     ],
     "language": "python",
     "metadata": {},
     "outputs": [
      {
       "output_type": "stream",
       "stream": "stdout",
       "text": [
        "The work done is W= 0.0  Joules\n"
       ]
      }
     ],
     "prompt_number": 6
    },
    {
     "cell_type": "heading",
     "level": 2,
     "metadata": {},
     "source": [
      "Ex5.2:pg-159"
     ]
    },
    {
     "cell_type": "code",
     "collapsed": false,
     "input": [
      "  #Example 5_2\n",
      " \n",
      "  \n",
      "  #To calculate the work done when lifting object as well as lowering the object\n",
      "Fs=1.0     #units in terms of Fs\n",
      "theta=0     #units in degrees\n",
      "W=Fs*math.cos(theta*math.pi/180)     #units in terms of m, g and h\n",
      "print \"Work done when lifting is W=mgh*\",round(W),\"\\n\"\n",
      "theta=180.0     #units in degrees\n",
      "W=Fs*math.cos(theta*math.pi/180)     #units in terms of m, g and h\n",
      "print \"Work done when downing is W=mgh*\",round(W),\"\\n\"\n"
     ],
     "language": "python",
     "metadata": {},
     "outputs": [
      {
       "output_type": "stream",
       "stream": "stdout",
       "text": [
        "Work done when lifting is W=mgh* 1.0 \n",
        "\n",
        "Work done when downing is W=mgh* -1.0 \n",
        "\n"
       ]
      }
     ],
     "prompt_number": 8
    },
    {
     "cell_type": "heading",
     "level": 2,
     "metadata": {},
     "source": [
      "Ex5.3:pg-160"
     ]
    },
    {
     "cell_type": "code",
     "collapsed": false,
     "input": [
      "  #Example 5_3\n",
      " \n",
      "  \n",
      "  #To find the work done by the pulling force\n",
      "F=20.0     #units in Newtons\n",
      "d=5     #units in meters\n",
      "W=F*d     #units in joules\n",
      "print \"Work done is W=\",round(W),\" Joules\"\n"
     ],
     "language": "python",
     "metadata": {},
     "outputs": [
      {
       "output_type": "stream",
       "stream": "stdout",
       "text": [
        "Work done is W= 100.0  Joules\n"
       ]
      }
     ],
     "prompt_number": 10
    },
    {
     "cell_type": "heading",
     "level": 2,
     "metadata": {},
     "source": [
      "Ex5.4:pg-160"
     ]
    },
    {
     "cell_type": "code",
     "collapsed": false,
     "input": [
      "  #Example 5_4\n",
      " \n",
      "  \n",
      "  #To find out the power being developed in motor\n",
      "m=200    #units on Kg\n",
      "g=9.8     #units in meters/sec**2\n",
      "Fy=m*g     #units in Newtons\n",
      "vy=0.03     #units in meter/sec\n",
      "P=Fy*vy     #units in Watts\n",
      "P=P*(1.0/746)    #units in hp\n",
      "print \"Power developed P=\",round(P,5),\" hp\"\n"
     ],
     "language": "python",
     "metadata": {},
     "outputs": [
      {
       "output_type": "stream",
       "stream": "stdout",
       "text": [
        "Power developed P= 0.07882  hp\n"
       ]
      }
     ],
     "prompt_number": 11
    },
    {
     "cell_type": "heading",
     "level": 2,
     "metadata": {},
     "source": [
      "Ex5.5:pg-161"
     ]
    },
    {
     "cell_type": "code",
     "collapsed": false,
     "input": [
      "  #Example 5_5\n",
      " \n",
      "  \n",
      "  #To calculate the average frictional force developed\n",
      "m=2000    #units in Kg\n",
      "vf=20     #units in meters/sec\n",
      "d=100    #units in meters\n",
      "f=(0.5*m*vf**2)/d     #units in Newtons\n",
      "print \"Average frictional force f=\",round(f),\" N\"\n"
     ],
     "language": "python",
     "metadata": {},
     "outputs": [
      {
       "output_type": "stream",
       "stream": "stdout",
       "text": [
        "Average frictional force f= 4000.0  N\n"
       ]
      }
     ],
     "prompt_number": 12
    },
    {
     "cell_type": "heading",
     "level": 2,
     "metadata": {},
     "source": [
      "Ex5.6:pg-162"
     ]
    },
    {
     "cell_type": "code",
     "collapsed": false,
     "input": [
      "    #Example 5_6\n",
      " \n",
      "import math\n",
      "  #To find out how fast the car is going\n",
      "f=4000.0     #units in Newtons\n",
      "s=50.0     #units in meters\n",
      "theta=180.0     #units in degrees\n",
      "m=2000.0      #units in Kg\n",
      "v0=20     #units in meter/sec\n",
      "vf=math.sqrt((2*((f*s*math.cos(theta*math.pi/180))+(0.5*m*v0**2)))/m)      #units in meter/sec\n",
      "print \"The speed of the car is vf=\",round( ,1),\" meters/sec\",vf)\n"
     ],
     "language": "python",
     "metadata": {},
     "outputs": []
    },
    {
     "cell_type": "heading",
     "level": 2,
     "metadata": {},
     "source": [
      "Ex5.7:pg-163"
     ]
    },
    {
     "cell_type": "code",
     "collapsed": false,
     "input": [
      "  #Example 5_7\n",
      "\n",
      "import math\n",
      "  \n",
      "  #To find the required tension in the rope\n",
      "m=40     #units in Kg\n",
      "g=9.8     #units in meters/sec**2\n",
      "theta=0    #units in degrees\n",
      "vf=0.3     #units in meters/sec\n",
      "s=0.5     #units in meters\n",
      "T=round((m*g)+((0.5*m*vf**2)/(s*math.cos(theta*math.pi/180))))     #units in Newtons\n",
      "print \"Tension in the rope is T=\",round(T),\" N\"\n"
     ],
     "language": "python",
     "metadata": {},
     "outputs": [
      {
       "output_type": "stream",
       "stream": "stdout",
       "text": [
        "Tension in the rope is T= 396.0  N\n"
       ]
      }
     ],
     "prompt_number": 14
    },
    {
     "cell_type": "heading",
     "level": 2,
     "metadata": {},
     "source": [
      "Ex5.8:pg-163"
     ]
    },
    {
     "cell_type": "code",
     "collapsed": false,
     "input": [
      "  #Example 5_8\n",
      "import math \n",
      "  \n",
      "  #To calculate the frictional force\n",
      "m=900.0    #units in Kg\n",
      "v0=20.0     #units in meters/sec\n",
      "s=30      #units in meters\n",
      "f=(0.5*m*v0**2)/s      #units in Newtons\n",
      "print \"Frictional force required is f=\",round(f),\" N\"\n"
     ],
     "language": "python",
     "metadata": {},
     "outputs": [
      {
       "output_type": "stream",
       "stream": "stdout",
       "text": [
        "Frictional force required is f= 6000.0  N\n"
       ]
      }
     ],
     "prompt_number": 15
    },
    {
     "cell_type": "heading",
     "level": 2,
     "metadata": {},
     "source": [
      "Ex5.9:pg-164"
     ]
    },
    {
     "cell_type": "code",
     "collapsed": false,
     "input": [
      "  #Example 5_9\n",
      " \n",
      "  \n",
      "  #To find out how fast a a ball is going\n",
      "m=3      #units in Kg\n",
      "g=9.8     #units in meters/sec**2\n",
      "hf=0     #units in meters\n",
      "h0=4     #units in meters\n",
      "vf=2*sqrt(((m*g*-(hf-h0))*0.5)/m)     #units in meters/sec\n",
      "print \"The ball is moving with a speed of vf=\",round(vf,2),\" meters/sec\"\n"
     ],
     "language": "python",
     "metadata": {},
     "outputs": [
      {
       "output_type": "stream",
       "stream": "stdout",
       "text": [
        "The ball is moving with a speed of vf= 8.85  meters/sec\n"
       ]
      }
     ],
     "prompt_number": 16
    },
    {
     "cell_type": "heading",
     "level": 2,
     "metadata": {},
     "source": [
      "Ex5.10:pg-164"
     ]
    },
    {
     "cell_type": "code",
     "collapsed": false,
     "input": [
      "  #Example 5_10\n",
      " \n",
      "  \n",
      "  #To calculate how large the average frictional force\n",
      "a=9.8     #units in meters/sec**2\n",
      "s=4     #units in meters\n",
      "v=6      #units in meters/sec\n",
      "m=3     #units on Kg\n",
      "f=m*((a*s)-(0.5*v**2))/s     #units in Newtons\n",
      "print \"The average frictional force f=\",round(f,1),\" N\"\n"
     ],
     "language": "python",
     "metadata": {},
     "outputs": [
      {
       "output_type": "stream",
       "stream": "stdout",
       "text": [
        "The average frictional force f= 15.9  N\n"
       ]
      }
     ],
     "prompt_number": 17
    },
    {
     "cell_type": "heading",
     "level": 2,
     "metadata": {},
     "source": [
      "Ex5.11:pg-165"
     ]
    },
    {
     "cell_type": "code",
     "collapsed": false,
     "input": [
      "  #Example 5_11\n",
      " \n",
      "import math  \n",
      "  #To find out how fast a car is going at points B and C\n",
      "m=300    #units in Kg\n",
      "g=9.8    #units in meters/sec**2\n",
      "hb_ha=10     #units in meters\n",
      "f=20     #units in Newtons\n",
      "s=60     #units in meters\n",
      "vf=2*math.sqrt((0.5*((m*g*(hb_ha))-(f*s)))/m)     #units in meters/sec\n",
      "print \"The car is going at a speed of vf=\",round(vf,1),\" meters/sec at point B\\n\"\n",
      "hc_ha=2     #units in meters\n",
      "vf=2*math.sqrt((0.5*((m*g*(hc_ha))-(f*s)))/m)     #units in meters/sec\n",
      "print \"The car is going at a speed of vf=\",round(vf,2),\" meters/sec at point C\\n\"\n"
     ],
     "language": "python",
     "metadata": {},
     "outputs": [
      {
       "output_type": "stream",
       "stream": "stdout",
       "text": [
        "The car is going at a speed of vf= 13.7  meters/sec at point B\n",
        "\n",
        "The car is going at a speed of vf= 5.59  meters/sec at point C\n",
        "\n"
       ]
      }
     ],
     "prompt_number": 19
    },
    {
     "cell_type": "heading",
     "level": 2,
     "metadata": {},
     "source": [
      "Ex5.12:pg-166"
     ]
    },
    {
     "cell_type": "code",
     "collapsed": false,
     "input": [
      "  #Example 5_12\n",
      " \n",
      "  \n",
      "  #How far the average velocity and how far beyond B does the car goes\n",
      "m=2000    #units in Kg\n",
      "vb=5     #units in meters/sec\n",
      "va=20      #units in meters/sec\n",
      "hb_ha=8     #units in meters\n",
      "g=9.8     #units in meters/sec**2\n",
      "sab=100    #units in meters\n",
      "f=-((0.5*m*(vb**2-va**2))+(m*g*(hb_ha)))/sab     #units in Newtons\n",
      "print \"Average frictional force is f=\",round(f),\" N\\n\"\n",
      "Sbe=(0.5*m*vb**2)/f     #units in meters\n",
      "print \"The distance by which the car goes beyond is Sbe=\",round(Sbe,1),\" meters\"\n",
      "  #In text book answer is printed wrong as f=2180 N but correct answer is f=2182N\n"
     ],
     "language": "python",
     "metadata": {},
     "outputs": [
      {
       "output_type": "stream",
       "stream": "stdout",
       "text": [
        "Average frictional force is f= 2182.0  N\n",
        "\n",
        "The distance by which the car goes beyond is Sbe= 11.5  meters\n"
       ]
      }
     ],
     "prompt_number": 20
    },
    {
     "cell_type": "heading",
     "level": 2,
     "metadata": {},
     "source": [
      "Ex5.13:pg-167"
     ]
    },
    {
     "cell_type": "code",
     "collapsed": false,
     "input": [
      "  #Example 5_13\n",
      " \n",
      "  \n",
      "  #To find out how large the force is required\n",
      "m=2     #units in Kg\n",
      "g=9.8     #units in meters/sec**2\n",
      "hc_ha=10.03     #units in meters\n",
      "sbc=0.030     #units in meters\n",
      "f=(m*g*(hc_ha))/sbc     #units in Newtons\n",
      "print \"The average force required is f=\",round(f),\" N\"\n",
      "  #In text book answer is printed wrong as f=6550 N correct answer is f=6552N\n"
     ],
     "language": "python",
     "metadata": {},
     "outputs": [
      {
       "output_type": "stream",
       "stream": "stdout",
       "text": [
        "The average force required is f= 6553.0  N\n"
       ]
      }
     ],
     "prompt_number": 21
    },
    {
     "cell_type": "heading",
     "level": 2,
     "metadata": {},
     "source": [
      "Ex5.14:pg-168"
     ]
    },
    {
     "cell_type": "code",
     "collapsed": false,
     "input": [
      "  #Example 5_14\n",
      " \n",
      "  \n",
      "  #To find out how fast the pendulum is moving \n",
      "  #At point A\n",
      "hb_ha=0.35    #units in Meters\n",
      "g=9.8     #units in meters/sec**2\n",
      "vb=sqrt((g*hb_ha)/0.5)     #units in meters/sec\n",
      "print \"The velocity of pendulum at point B is vb=\",round(vb,2),\" meters/sec\\n\"\n",
      "print \"From A to C hc=ha and Vc=Va=0 so Frictional force is Negligible at point C\"\n"
     ],
     "language": "python",
     "metadata": {},
     "outputs": [
      {
       "output_type": "stream",
       "stream": "stdout",
       "text": [
        "The velocity of pendulum at point B is vb= 2.62  meters/sec\n",
        "\n",
        "From A to C hc=ha and Vc=Va=0 so Frictional force is Negligible at point C\n"
       ]
      }
     ],
     "prompt_number": 23
    },
    {
     "cell_type": "heading",
     "level": 2,
     "metadata": {},
     "source": [
      "Ex5.15:pg-169"
     ]
    },
    {
     "cell_type": "code",
     "collapsed": false,
     "input": [
      "  #Example 5_15\n",
      " \n",
      "  \n",
      "  #To find out how large a force is required\n",
      "m=2000   #units in Kg\n",
      "vf=15     #units in meters/sec\n",
      "f1=500     #units in Newtons\n",
      "F=((0.5*m*(vf**2))/80)+f1     #units in Newtons\n",
      "print \"Force required is F=\",round(F),\" N\"\n",
      "  #In text book the answer is printed wrong as F=3300 N but the correct answer is 3312 N\n"
     ],
     "language": "python",
     "metadata": {},
     "outputs": [
      {
       "output_type": "stream",
       "stream": "stdout",
       "text": [
        "Force required is F= 3313.0  N\n"
       ]
      }
     ],
     "prompt_number": 24
    },
    {
     "cell_type": "heading",
     "level": 2,
     "metadata": {},
     "source": [
      "Ex5.16:pg-169"
     ]
    },
    {
     "cell_type": "code",
     "collapsed": false,
     "input": [
      "  #Example 5_16\n",
      " \n",
      "  \n",
      "  #To find IMA AMA and Efficiency of the system\n",
      "si=3.0\n",
      "so=1\n",
      "IMA=si/so\n",
      "Fo=2000.0    #units in Newtons\n",
      "Fi=800.0     #units in Newtons\n",
      "AMA=Fo/Fi\n",
      "effi=AMA/IMA*100\n",
      "print \"IMA=\",round(IMA,2),\"\\n\"\n",
      "print \"AMA=\",round(AMA,2),\"\\n\"\n",
      "print \"Percentage of efficiency is \",round(effi),\" percent\"\n"
     ],
     "language": "python",
     "metadata": {},
     "outputs": [
      {
       "output_type": "stream",
       "stream": "stdout",
       "text": [
        "IMA= 3.0 \n",
        "\n",
        "AMA= 2.5 \n",
        "\n",
        "Percentage of efficiency is  83.0  percent\n"
       ]
      }
     ],
     "prompt_number": 25
    }
   ],
   "metadata": {}
  }
 ]
}