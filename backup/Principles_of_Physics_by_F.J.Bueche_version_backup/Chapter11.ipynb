{
 "cells": [
  {
   "cell_type": "markdown",
   "metadata": {},
   "source": [
    "# Chapter 11:Thermal Properties of Matter"
   ]
  },
  {
   "cell_type": "markdown",
   "metadata": {},
   "source": [
    "## Ex11.1:pg-303"
   ]
  },
  {
   "cell_type": "code",
   "execution_count": 3,
   "metadata": {
    "collapsed": false
   },
   "outputs": [
    {
     "name": "stdout",
     "output_type": "stream",
     "text": [
      "The heat required for 400 gm of water is Q= 2000.0  Cal\n",
      "\n",
      "The heat required for 400 gm of copper is Q= -186.0  Cal\n",
      "\n"
     ]
    }
   ],
   "source": [
    "  #Example 11_1\n",
    " \n",
    "  \n",
    "  #To find out how much heat is required to change the temperature\n",
    "  #With 400 Grams of water\n",
    "c=1      #units in cal/g Centigrade\n",
    "m=400     #Units in gm\n",
    "t=5       #Units in centigrade\n",
    "q=c*m*t      #Units in Cal\n",
    "print \"The heat required for 400 gm of water is Q=\",round(q),\" Cal\\n\"\n",
    "  #With 400 grams of copper\n",
    "c=0.093      #units in cal/g Centigrade\n",
    "m=400     #Units in gm\n",
    "t=-5       #Units in centigrade\n",
    "q=c*m*t      #Units in Cal\n",
    "print \"The heat required for 400 gm of copper is Q=\",round(q),\" Cal\\n\"\n"
   ]
  },
  {
   "cell_type": "markdown",
   "metadata": {},
   "source": [
    "## Ex11.2:pg-303"
   ]
  },
  {
   "cell_type": "code",
   "execution_count": 4,
   "metadata": {
    "collapsed": false
   },
   "outputs": [
    {
     "name": "stdout",
     "output_type": "stream",
     "text": [
      "When it crystallizes heat required is Q= 4000.0  Cal\n",
      "\n",
      "When it condenses heat required is Q= 26950.0  Cal\n",
      "\n"
     ]
    }
   ],
   "source": [
    "  #Example 11_2\n",
    " \n",
    "  \n",
    "  #To findout how much water is released\n",
    "  #When it crystallizes\n",
    "m=50      #Units in gm\n",
    "h=80      #Units in Cal/gm\n",
    "q=m*h      #Units in Cal\n",
    "print \"When it crystallizes heat required is Q=\",round(q),\" Cal\\n\"\n",
    "  #When it Condenses\n",
    "m=50      #Units in gm\n",
    "h=539      #Units in Cal/gm\n",
    "q=m*h      #Units in Cal\n",
    "print \"When it condenses heat required is Q=\",round(q),\" Cal\\n\"\n",
    "  #In textbook answer is printed wrong as Q=27000 cal but the correct answer is Q=26950 Cal\n"
   ]
  },
  {
   "cell_type": "markdown",
   "metadata": {},
   "source": [
    "## Ex11.3:pg-304"
   ]
  },
  {
   "cell_type": "code",
   "execution_count": 5,
   "metadata": {
    "collapsed": false
   },
   "outputs": [
    {
     "name": "stdout",
     "output_type": "stream",
     "text": [
      "The amount of ice that has to be added is M= 54.0  gm\n"
     ]
    }
   ],
   "source": [
    "  #Example 11_3\n",
    " \n",
    "  \n",
    "  #To findout the amount of Ice that has to be added\n",
    "m=200      #Units in gm\n",
    "c=1        #Units in Cal/gm Centigrade\n",
    "tf=60      #Units in Centigrade\n",
    "to=98      #Units in Centigrade\n",
    "change=m*c*(tf-to)       #units in Cal\n",
    "tf=60   #Units in centigrade\n",
    "to=0      #Units in centigrade\n",
    "Hf=80      #Units in Cal/gm\n",
    "change1=Hf+c*(tf-to)       #Units in Cal/gm\n",
    "M=change/-(change1)\n",
    "print \"The amount of ice that has to be added is M=\",round(M,1),\" gm\"\n"
   ]
  },
  {
   "cell_type": "markdown",
   "metadata": {},
   "source": [
    "## Ex11.4:pg-305"
   ]
  },
  {
   "cell_type": "code",
   "execution_count": 6,
   "metadata": {
    "collapsed": false
   },
   "outputs": [
    {
     "name": "stdout",
     "output_type": "stream",
     "text": [
      "The specific heat of metal is Cm= 0.216  cal/gm C\n"
     ]
    }
   ],
   "source": [
    "  #Example 11_4\n",
    " \n",
    "  \n",
    "  #To findout the specific heat capacity of the metal\n",
    "m=400        #Units in gm\n",
    "c=0.65         #Units in Cal/gm Centigrade\n",
    "tf=23.1       #Units in Centigrade\n",
    "to=18       #Units in Centigrade\n",
    "oil=m*c*(tf-to)         #units in cal\n",
    "m1=80        #Units in gm\n",
    "tf=23.1       #Units in Centigrade\n",
    "to=100       #Units in Centigrade\n",
    "cm=m1*(tf-to)         #units in in terms of cm and gm Centigrade\n",
    "cmm=oil/-cm            #Units in Cal/gm Centigrade\n",
    "print \"The specific heat of metal is Cm=\",round(cmm,3),\" cal/gm C\"\n"
   ]
  },
  {
   "cell_type": "markdown",
   "metadata": {},
   "source": [
    "## Ex11.5:pg-305"
   ]
  },
  {
   "cell_type": "code",
   "execution_count": 7,
   "metadata": {
    "collapsed": false
   },
   "outputs": [
    {
     "name": "stdout",
     "output_type": "stream",
     "text": [
      "The time taken is t= 449.0  sec\n"
     ]
    }
   ],
   "source": [
    "  #Example 11_5\n",
    " \n",
    "  \n",
    "  #To findout how long does the heater takes to heat\n",
    "m=500        #Units in gm\n",
    "c=0.033         #Units in Cal/gm Centigrade\n",
    "tf=357       #Units in Centigrade\n",
    "to=20.0       #Units in Centigrade\n",
    "m1=30         #Units in gm\n",
    "hv=65       #Units in cal/gm\n",
    "Hg=((m*c*(tf-to))+(m1*hv))*4.1808135         #units in Joules\n",
    "delivered=70        #Units in Joule/Sec\n",
    "t=Hg/delivered       #Units in sec\n",
    "print \"The time taken is t=\",round(t),\" sec\"\n",
    "  #In textbook answer printed wrong as t=450 sec correct answer is t=448 sec\n"
   ]
  },
  {
   "cell_type": "markdown",
   "metadata": {},
   "source": [
    "## Ex11.6:pg-306"
   ]
  },
  {
   "cell_type": "code",
   "execution_count": 8,
   "metadata": {
    "collapsed": false
   },
   "outputs": [
    {
     "name": "stdout",
     "output_type": "stream",
     "text": [
      "the rise in temperature is DeltaT= 38.6  C\n"
     ]
    }
   ],
   "source": [
    "  #Example 11_6\n",
    " \n",
    "  \n",
    "  #To findout the rise in temperature\n",
    "m=0.01     #Units in Kg\n",
    "v=100         #Units in meters/sec\n",
    "KE=(0.5*m*v**2)/4.1808135        #units in Cal\n",
    "m=10      #units in gm\n",
    "c=0.031   #units in cal/gm Centigrade\n",
    "t=KE/(m*c)\n",
    "print \"the rise in temperature is DeltaT=\",round(t,1),\" C\"\n"
   ]
  },
  {
   "cell_type": "markdown",
   "metadata": {},
   "source": [
    "## Ex11.8:pg-307"
   ]
  },
  {
   "cell_type": "code",
   "execution_count": 10,
   "metadata": {
    "collapsed": false
   },
   "outputs": [
    {
     "name": "stdout",
     "output_type": "stream",
     "text": [
      "The slab is longer by= 0.01  meters\n"
     ]
    }
   ],
   "source": [
    "  #Example 11_8\n",
    " \n",
    "  \n",
    "  #To findout how much longer is at 35 degrees\n",
    "alpha=10*10**-6   #Units in Centigrade\n",
    "dist=20.0   #Unis in meters\n",
    "t=50      #Units in centigrade\n",
    "L=alpha*dist*t        #Units in meters\n",
    "print \"The slab is longer by=\",round(L,3),\" meters\"\n"
   ]
  },
  {
   "cell_type": "markdown",
   "metadata": {},
   "source": [
    "## Ex11.9:pg-308"
   ]
  },
  {
   "cell_type": "code",
   "execution_count": 11,
   "metadata": {
    "collapsed": false
   },
   "outputs": [
    {
     "name": "stdout",
     "output_type": "stream",
     "text": [
      "The new diameter of the hole is= 2.0076  cm\n"
     ]
    }
   ],
   "source": [
    "  #Example 11_9\n",
    " \n",
    "  \n",
    "  #To findout how large a diameter  when the sheet is heated\n",
    "dist=2         #Units in cm\n",
    "delta=19*10**-6        #Units in Centigrade**-1\n",
    "t=200        #Units in centigrade\n",
    "L=dist*delta*t           #Units in cm\n",
    "print \"The new diameter of the hole is=\",round(2+L,4),\" cm\"\n"
   ]
  },
  {
   "cell_type": "markdown",
   "metadata": {},
   "source": [
    "## Ex11.10:pg-309"
   ]
  },
  {
   "cell_type": "code",
   "execution_count": 12,
   "metadata": {
    "collapsed": false
   },
   "outputs": [
    {
     "name": "stdout",
     "output_type": "stream",
     "text": [
      "The change in benzene volume is V30= 101.253  cm**3\n"
     ]
    }
   ],
   "source": [
    "  #Example 11_10\n",
    " \n",
    "  \n",
    "  #To findout the change in benzene volume\n",
    "delta=1.24*10**-3       #Units in Centigrade**-1\n",
    "t=10       #Units in Centigrade\n",
    "v10=100.0         #Units in cm**3  \n",
    "v20=delta*t+v10       #Units in cm**3\n",
    "V=v20*delta*t     #Units in cm**3\n",
    "v30=V+v20     #Units in cm**3\n",
    "print \"The change in benzene volume is V30=\",round(v30,3),\" cm**3\"\n",
    "    #In textbook the answer is printed wrng as V3=0102.5 cm**3 the correct answer is V3=101.253 cm**3     \n"
   ]
  },
  {
   "cell_type": "markdown",
   "metadata": {},
   "source": [
    "## Ex11.11:pg-309"
   ]
  },
  {
   "cell_type": "code",
   "execution_count": 13,
   "metadata": {
    "collapsed": false
   },
   "outputs": [
    {
     "name": "stdout",
     "output_type": "stream",
     "text": [
      "The ice melts by  116.0  gm\n"
     ]
    }
   ],
   "source": [
    "  #Example 11_11\n",
    " \n",
    "  \n",
    "  #To findout how much ice melts each hour\n",
    "s=30      #Units in cm\n",
    "a=s*s*10**-4      #units in meter**2\n",
    "k=0.032     #Units in W/K meter\n",
    "t=25    #Units in K\n",
    "l=0.040         #Units in meters\n",
    "q_t=(6*k*((a*t)/l))/4.1808135      #Units in cal/sec\n",
    "Q=3600*q_t      #Units in cal\n",
    "qq=80      #Units in cal/gm\n",
    "melted=Q/qq        #Units in gm\n",
    "print \"The ice melts by \",round(melted),\" gm\"\n"
   ]
  },
  {
   "cell_type": "markdown",
   "metadata": {},
   "source": [
    "## Ex11.12:pg-310"
   ]
  },
  {
   "cell_type": "code",
   "execution_count": 15,
   "metadata": {
    "collapsed": false
   },
   "outputs": [
    {
     "name": "stdout",
     "output_type": "stream",
     "text": [
      "The radiation defers by  34.0  percent\n"
     ]
    }
   ],
   "source": [
    "  #Example 11_12\n",
    " \n",
    "  \n",
    "  #To compare the energy emitted per unit area of our body to with the same emissivity\n",
    "t1=37.0      #Units in Centigrade\n",
    "t1=273+t1         #Units in K\n",
    "t2=15      #Units in Centigrade\n",
    "t2=273+t2         #Units in K\n",
    "tb_tc=(t1/t2)**4         #Units in terms of (Tb/Tc)**4\n",
    "tb_tc=tb_tc*100         #In terms of percentage\n",
    "print \"The radiation defers by \",round(tb_tc-100),\" percent\"\n",
    "\n",
    "  #In textbook answer is printed wrong as 40% the correct answer is 34%\n"
   ]
  },
  {
   "cell_type": "markdown",
   "metadata": {},
   "source": [
    "## Ex11.13:pg-310"
   ]
  },
  {
   "cell_type": "code",
   "execution_count": 2,
   "metadata": {
    "collapsed": false
   },
   "outputs": [
    {
     "name": "stdout",
     "output_type": "stream",
     "text": [
      "The amount of heat lost is Q= 736363.6  J\n"
     ]
    }
   ],
   "source": [
    "  #Example 11_13\n",
    " \n",
    "  \n",
    "  #To findout how much heat is lost through it\n",
    "a=15     #Unis in meter**2\n",
    "t=30.0      #Units in K\n",
    "R=2.2   #Units in Meter**2 K/W\n",
    "q_t=(a*t)/R      #Units in W\n",
    "T=3600.0       #Units in sec\n",
    "Q=q_t*T         #Units in J\n",
    "print \"The amount of heat lost is Q=\",round(Q,1),\" J\"\n"
   ]
  }
 ],
 "metadata": {
  "kernelspec": {
   "display_name": "Python 2",
   "language": "python",
   "name": "python2"
  },
  "language_info": {
   "codemirror_mode": {
    "name": "ipython",
    "version": 2
   },
   "file_extension": ".py",
   "mimetype": "text/x-python",
   "name": "python",
   "nbconvert_exporter": "python",
   "pygments_lexer": "ipython2",
   "version": "2.7.11"
  }
 },
 "nbformat": 4,
 "nbformat_minor": 0
}
