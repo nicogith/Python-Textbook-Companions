{
 "cells": [
  {
   "cell_type": "markdown",
   "metadata": {},
   "source": [
    "# Chapter 26: Energy levels and Spectra"
   ]
  },
  {
   "cell_type": "markdown",
   "metadata": {},
   "source": [
    "## Ex26.1:pg-1208"
   ]
  },
  {
   "cell_type": "code",
   "execution_count": 1,
   "metadata": {
    "collapsed": false
   },
   "outputs": [
    {
     "name": "stdout",
     "output_type": "stream",
     "text": [
      "The ionization energy of the hydrogen atom is E= 13.6  eV\n"
     ]
    }
   ],
   "source": [
    "  #Example 26_1\n",
    " \n",
    "  \n",
    "#To find the ionization energy of the hydrogen atom\n",
    "e=13.6        #units in eV\n",
    "print \"The ionization energy of the hydrogen atom is E=\",round(e,1),\" eV\"\n"
   ]
  },
  {
   "cell_type": "markdown",
   "metadata": {},
   "source": [
    "## Ex26.2:pg-1209"
   ]
  },
  {
   "cell_type": "code",
   "execution_count": 2,
   "metadata": {
    "collapsed": false
   },
   "outputs": [
    {
     "name": "stdout",
     "output_type": "stream",
     "text": [
      "The wavelength of fourth line in Paschen series is= 1002.0  nm\n"
     ]
    }
   ],
   "source": [
    "  #Example 26_2\n",
    " \n",
    "  \n",
    "  #To find the wavelength of fourth line in Paschen series\n",
    "n1=3     #Units in constant\n",
    "n2=7     #Units in constant\n",
    "r=1.0974*10**7         #units in meter**-1\n",
    "lamda=round((1/r)*((n1**2*n2**2)/(n2**2-n1**2))*10**9)       #Units in nm\n",
    "print \"The wavelength of fourth line in Paschen series is=\",round(lamda),\" nm\"\n"
   ]
  },
  {
   "cell_type": "markdown",
   "metadata": {},
   "source": [
    "## Ex26.3:pg-1209"
   ]
  },
  {
   "cell_type": "code",
   "execution_count": 4,
   "metadata": {
    "collapsed": false
   },
   "outputs": [
    {
     "name": "stdout",
     "output_type": "stream",
     "text": [
      "The energy associated with line 1 is E1= -54.4  eV\n",
      "The energy associated with line 2 is E2= -13.6  eV\n",
      "The energy associated with line 3 is E3= -6.04  eV\n",
      "\n",
      "The first line of balmer series is lamda= 163.0  nm and belongs to the ultraviolet region\n"
     ]
    }
   ],
   "source": [
    "  #Example 26_3\n",
    " \n",
    "  \n",
    "  #To draw the energy level diagram and the find the first line of balmer type series\n",
    "n=1\n",
    "e1=-54.4/n**2      #units in ev\n",
    "n=2\n",
    "e2=-54.4/n**2      #units in ev\n",
    "n=3\n",
    "e3=-54.4/n**2      #units in ev\n",
    "print \"The energy associated with line 1 is E1=\",round(e1,1),\" eV\\nThe energy associated with line 2 is E2=\",round(e2,1),\" eV\\nThe energy associated with line 3 is E3=\",round(e3,2),\" eV\\n\"\n",
    "e1=1       #units in eV\n",
    "e2=7.6       #Units in eV\n",
    "lamda1=1240         #units in nm\n",
    "lamda=(e1/e2)*lamda1        #Units in nm\n",
    "print \"The first line of balmer series is lamda=\",round(lamda),\" nm and belongs to the ultraviolet region\"\n"
   ]
  },
  {
   "cell_type": "markdown",
   "metadata": {},
   "source": [
    "## Ex26.4:pg-1209"
   ]
  },
  {
   "cell_type": "code",
   "execution_count": 5,
   "metadata": {
    "collapsed": false
   },
   "outputs": [
    {
     "name": "stdout",
     "output_type": "stream",
     "text": [
      "The longest wavelength of light capable of ionizing hydrogen atom is lamda= 91.2  nm\n"
     ]
    }
   ],
   "source": [
    "  #Example 26_4\n",
    " \n",
    "  \n",
    "  #To find the longest wavelength of light capable of ionizing hydrogen atom\n",
    "  #First method\n",
    "R=1.097*10**7          #Units in meter**-1\n",
    "lamda=(1/R)*10**9                 #Units in meters\n",
    "  #Second method\n",
    "E=13.6        #units in eV\n",
    "e1=1        #units in eV\n",
    "lamda3=1240.0         #Units in eV\n",
    "lamda2=(e1/E)*(lamda3)        #Units in nm\n",
    "print \"The longest wavelength of light capable of ionizing hydrogen atom is lamda=\",round(lamda2,1),\" nm\"\n"
   ]
  },
  {
   "cell_type": "markdown",
   "metadata": {},
   "source": [
    "## Ex26.5:pg-1210"
   ]
  },
  {
   "cell_type": "code",
   "execution_count": 6,
   "metadata": {
    "collapsed": false
   },
   "outputs": [
    {
     "name": "stdout",
     "output_type": "stream",
     "text": [
      "The energy difference between n=1 and n=2 level is E= 17713.0  eV\n"
     ]
    }
   ],
   "source": [
    "  #Example 26_5\n",
    " \n",
    "  \n",
    "  #To find  the energy difference between the n is 1 and n is 2 level\n",
    "e1=1        #Units in eV\n",
    "lamda2=1240        #Units in eV\n",
    "lamda3=0.07       #Units in eV\n",
    "e2=lamda2/lamda3        #Units in eV\n",
    "e=e2-e1            #Units in eV\n",
    "print \"The energy difference between n=1 and n=2 level is E=\",round(e),\" eV\"\n",
    "  #In textbook answer is prinred wrong as E=18000 eV the correct answer is E=17713 eV \n"
   ]
  }
 ],
 "metadata": {
  "kernelspec": {
   "display_name": "Python 2",
   "language": "python",
   "name": "python2"
  },
  "language_info": {
   "codemirror_mode": {
    "name": "ipython",
    "version": 2
   },
   "file_extension": ".py",
   "mimetype": "text/x-python",
   "name": "python",
   "nbconvert_exporter": "python",
   "pygments_lexer": "ipython2",
   "version": "2.7.11"
  }
 },
 "nbformat": 4,
 "nbformat_minor": 0
}
