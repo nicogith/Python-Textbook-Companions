{
 "cells": [
  {
   "cell_type": "markdown",
   "metadata": {},
   "source": [
    "# Chapter 25:Three Revolutionary Concepts"
   ]
  },
  {
   "cell_type": "markdown",
   "metadata": {},
   "source": [
    "## Ex25.1:pg-1164"
   ]
  },
  {
   "cell_type": "code",
   "execution_count": 3,
   "metadata": {
    "collapsed": false
   },
   "outputs": [
    {
     "name": "stdout",
     "output_type": "stream",
     "text": [
      "The particle lves by a time of=\n",
      "8.33e-08 Sec\n"
     ]
    }
   ],
   "source": [
    "  #Example 25_1\n",
    "import math  \n",
    "  #To find out how long does a particle lives when shooted\n",
    "l=2.6*10**-8          #units in sec\n",
    "t=0.95           #units in c\n",
    "life=l/math.sqrt(1-t**2)        #units in sec\n",
    "print \"The particle lves by a time of=\"\n",
    "print round(life,10),\"Sec\"\n"
   ]
  },
  {
   "cell_type": "markdown",
   "metadata": {},
   "source": [
    "## Ex25.2:pg-1164"
   ]
  },
  {
   "cell_type": "code",
   "execution_count": 4,
   "metadata": {
    "collapsed": false
   },
   "outputs": [
    {
     "name": "stdout",
     "output_type": "stream",
     "text": [
      "The original time that is required to complete a round trip is= 0.4  Years or  5.0  Months\n"
     ]
    }
   ],
   "source": [
    "  #Example 25_2\n",
    "import math \n",
    "  \n",
    "#How log it would take according to earth clockfor a space ship to make a round trip\n",
    "fac=0.9990            #Units in c\n",
    "relfactor=math.sqrt(1-fac**2)        #units in constant\n",
    "time1=4.5       #Units in Years\n",
    "time=2*time1     #Units in Years\n",
    "oritime=relfactor*time       #Units in years\n",
    "print \"The original time that is required to complete a round trip is=\",round(oritime,1),\" Years or \",round(12*oritime),\" Months\"\n"
   ]
  },
  {
   "cell_type": "markdown",
   "metadata": {},
   "source": [
    "## Ex25.3:pg-1164"
   ]
  },
  {
   "cell_type": "code",
   "execution_count": 5,
   "metadata": {
    "collapsed": false
   },
   "outputs": [
    {
     "name": "stdout",
     "output_type": "stream",
     "text": [
      "In every day life our clocks never come any where close to such high speeds. The electrons in a beam such as that in television tube are easily accelerated to relativistic speeds\n"
     ]
    }
   ],
   "source": [
    "  #Example 25_3\n",
    " \n",
    "  \n",
    "  #To graph the relativistic factor and explain why we do not observe relativistic time delaton n everyfay phenomena\n",
    "print \"In every day life our clocks never come any where close to such high speeds. The electrons in a beam such as that in television tube are easily accelerated to relativistic speeds\"\n"
   ]
  },
  {
   "cell_type": "markdown",
   "metadata": {},
   "source": [
    "## Ex25.4:pg-1165"
   ]
  },
  {
   "cell_type": "code",
   "execution_count": 6,
   "metadata": {
    "collapsed": false
   },
   "outputs": [
    {
     "name": "stdout",
     "output_type": "stream",
     "text": [
      "She notices there is no change in stick. The length contraction effect concerns objects moving at high speed relative to observer. The meter stick is at rest relative to observer.\n"
     ]
    }
   ],
   "source": [
    "  #Example 25_4\n",
    " \n",
    "  \n",
    "  #To find out what does the women notice about the length of the stick as she starts rotating\n",
    "print \"She notices there is no change in stick. The length contraction effect concerns objects moving at high speed relative to observer. The meter stick is at rest relative to observer.\"\n"
   ]
  },
  {
   "cell_type": "markdown",
   "metadata": {},
   "source": [
    "## Ex25.5:pg-1166"
   ]
  },
  {
   "cell_type": "code",
   "execution_count": 7,
   "metadata": {
    "collapsed": false
   },
   "outputs": [
    {
     "name": "stdout",
     "output_type": "stream",
     "text": [
      "The energy that is obtained by changing all mass to energy is E=\n",
      "9e+15\n",
      "J\n"
     ]
    }
   ],
   "source": [
    "  #Example 25_5\n",
    " \n",
    "  \n",
    "  #To compare the energy that obtained by changing all mass to energy\n",
    "m=0.1         #units in Kg\n",
    "c=3*10**8        #Units in meters/sec\n",
    "e=m*c**2          #units in J    \n",
    "print \"The energy that is obtained by changing all mass to energy is E=\"\n",
    "print e\n",
    "print \"J\"\n"
   ]
  },
  {
   "cell_type": "markdown",
   "metadata": {},
   "source": [
    "## Ex25.6:pg-1167"
   ]
  },
  {
   "cell_type": "code",
   "execution_count": 12,
   "metadata": {
    "collapsed": false
   },
   "outputs": [
    {
     "name": "stdout",
     "output_type": "stream",
     "text": [
      "The apparent mass of High speed electron is mo=\n",
      "1.01823376491e-30\n",
      "Kg\n"
     ]
    }
   ],
   "source": [
    "  #Example 25_6\n",
    "import math  \n",
    "#To find the apparent mass of a high speed electron\n",
    "rati=1/3.0    #units in constant\n",
    "mo=9.6*10**-31        #units in Kg\n",
    "m=mo/(math.sqrt(1-rati**2))     #Units in Kg\n",
    "print \"The apparent mass of High speed electron is mo=\"\n",
    "print m\n",
    "print \"Kg\"\n",
    "  #In textbook answer printed wrong as m=9.*10**-31 Kg the correct answer is m=1.018*10**-30  \n"
   ]
  },
  {
   "cell_type": "markdown",
   "metadata": {},
   "source": [
    "## Ex25.7:pg-1168"
   ]
  },
  {
   "cell_type": "code",
   "execution_count": 14,
   "metadata": {
    "collapsed": false
   },
   "outputs": [
    {
     "name": "stdout",
     "output_type": "stream",
     "text": [
      "The energy of photon is E= 1.0  eV\n"
     ]
    }
   ],
   "source": [
    "  #Example 25_7\n",
    " \n",
    "  \n",
    "#To find the energy of the photon in a beam\n",
    "h=6.626*10**-34       #units in J\n",
    "c=3*10.0**8      #units in meters/sec\n",
    "lamda=1240*10**-9      #units in meters\n",
    "e=(h*c)/lamda       #units in J\n",
    "e=e/(1.6*10**-19)         #Units in eV\n",
    "print \"The energy of photon is E=\",round(e),\" eV\"\n"
   ]
  },
  {
   "cell_type": "markdown",
   "metadata": {},
   "source": [
    "## Ex25.8:pg-1168"
   ]
  },
  {
   "cell_type": "code",
   "execution_count": 16,
   "metadata": {
    "collapsed": false
   },
   "outputs": [
    {
     "name": "stdout",
     "output_type": "stream",
     "text": [
      "The energy with radio waves is E1=\n",
      "1.24e-08\n",
      "eV\n",
      "\n",
      "The energy with green light is E2=\n",
      "2.25454545455\n",
      "eV\n",
      "\n",
      "The energy with photon is E3=\n",
      "6200.0\n",
      "eV\n",
      "\n"
     ]
    }
   ],
   "source": [
    "  #Example 25_8\n",
    " \n",
    "  \n",
    "  #To find the energy of photonn each case\n",
    "dist1=1240.0*10**-9        #units in meters\n",
    "lamda1=100.0        #units in meters\n",
    "e1=dist1/lamda1       #Units in eV\n",
    "dist2=1240.0        #units in nano meters\n",
    "lamda2=550.0        #units in meters\n",
    "e2=dist2/lamda2       #Units in eV\n",
    "dist3=1240.0        #units in nano meters\n",
    "lamda3=0.2        #units in meters\n",
    "e3=dist3/lamda3       #Units in eV\n",
    "print \"The energy with radio waves is E1=\"\n",
    "print e1\n",
    "print \"eV\\n\"\n",
    "print \"The energy with green light is E2=\"\n",
    "print e2\n",
    "print \"eV\\n\"\n",
    "print \"The energy with photon is E3=\"\n",
    "print e3\n",
    "print \"eV\\n\"\n"
   ]
  },
  {
   "cell_type": "markdown",
   "metadata": {},
   "source": [
    "## Ex25.9:pg-1165"
   ]
  },
  {
   "cell_type": "code",
   "execution_count": 17,
   "metadata": {
    "collapsed": false
   },
   "outputs": [
    {
     "name": "stdout",
     "output_type": "stream",
     "text": [
      "The value of work function for material is Phi= 1.89  eV\n"
     ]
    }
   ],
   "source": [
    "  #Example 25_9\n",
    " \n",
    "  \n",
    "#To find the value of work function for material\n",
    "h=6.63*10**-34       #units in J\n",
    "c=3*10.0**8      #units in meters/sec\n",
    "lamda=5*10.0**-7           #units in meters\n",
    "vo=0.6            #units in V\n",
    "e=1.6*10**-19        #units in eV\n",
    "phi=((h*c)/lamda)-(vo*e)            #Units in J\n",
    "\n",
    "phi=phi/(1.6*10**-19)     #units in eV\n",
    "\n",
    "print \"The value of work function for material is Phi=\",round(phi,2),\" eV\"\n"
   ]
  },
  {
   "cell_type": "markdown",
   "metadata": {},
   "source": [
    "## Ex25.10:pg-1167"
   ]
  },
  {
   "cell_type": "code",
   "execution_count": 18,
   "metadata": {
    "collapsed": false
   },
   "outputs": [
    {
     "name": "stdout",
     "output_type": "stream",
     "text": [
      "The be-broglies wavelength is lamda=\n",
      "1.45714285714e-11\n",
      "Meters\n"
     ]
    }
   ],
   "source": [
    "  #Example 25_10\n",
    " \n",
    "  \n",
    "#To calculate the be-broglies wavelength\n",
    "h=6.63*10**-34       #units in J\n",
    "c=5*10**7        #units in meters/sec\n",
    "m=9.1*10**-31    #Units in Kg\n",
    "lamda=h/(m*c)         #units in meters\n",
    "print \"The be-broglies wavelength is lamda=\"\n",
    "print lamda\n",
    "print \"Meters\"\n"
   ]
  },
  {
   "cell_type": "markdown",
   "metadata": {},
   "source": [
    "## Ex25.11:pg-1167"
   ]
  },
  {
   "cell_type": "code",
   "execution_count": 19,
   "metadata": {
    "collapsed": false
   },
   "outputs": [
    {
     "name": "stdout",
     "output_type": "stream",
     "text": [
      "The diffraction pattern that would be obtained by shooting bullet is math.sin(theta)=\n",
      "1.6575e-29\n",
      "Radians\n",
      " The diffraction angles are so small that the particles will travel essentially straight through the slit\n"
     ]
    }
   ],
   "source": [
    "  #Example 25_11\n",
    " \n",
    "  \n",
    "  #To describe the diffraction pattern that would be obtained by shooting bullet\n",
    "h=6.63*10**-34       #units in J\n",
    "m=10**-4        #Units in Kg\n",
    "c=200       #units in meters/sec\n",
    "p=m*c      #units in Kg meter/sec\n",
    "lamda=h/p              #units in meters\n",
    "width=0.2*10**-2       #units in meters\n",
    "sintheta=lamda/width        #units in radians\n",
    "print \"The diffraction pattern that would be obtained by shooting bullet is math.sin(theta)=\"\n",
    "print sintheta\n",
    "print \"Radians\\n The diffraction angles are so small that the particles will travel essentially straight through the slit\"\n"
   ]
  }
 ],
 "metadata": {
  "kernelspec": {
   "display_name": "Python 2",
   "language": "python",
   "name": "python2"
  },
  "language_info": {
   "codemirror_mode": {
    "name": "ipython",
    "version": 2
   },
   "file_extension": ".py",
   "mimetype": "text/x-python",
   "name": "python",
   "nbconvert_exporter": "python",
   "pygments_lexer": "ipython2",
   "version": "2.7.11"
  }
 },
 "nbformat": 4,
 "nbformat_minor": 0
}
