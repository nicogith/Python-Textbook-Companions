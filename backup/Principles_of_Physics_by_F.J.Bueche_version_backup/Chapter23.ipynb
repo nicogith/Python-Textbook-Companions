{
 "cells": [
  {
   "cell_type": "markdown",
   "metadata": {},
   "source": [
    "# Chapter 23:Optical Devices"
   ]
  },
  {
   "cell_type": "markdown",
   "metadata": {},
   "source": [
    "## Ex23.1:pg-1094"
   ]
  },
  {
   "cell_type": "code",
   "execution_count": 1,
   "metadata": {
    "collapsed": false
   },
   "outputs": [
    {
     "name": "stdout",
     "output_type": "stream",
     "text": [
      "The focal length of the reading glasses is f= 37.5  cm\n"
     ]
    }
   ],
   "source": [
    "  #Example 23_1\n",
    " \n",
    "  \n",
    "#To find the focal length of the reading glasses\n",
    "d1=25.0       #units in cm\n",
    "d2=-75        #units in cm\n",
    "f=(d1*d2)/(d2+d1)     #Units in cm\n",
    "print \"The focal length of the reading glasses is f=\",round(f,2),\" cm\"\n"
   ]
  },
  {
   "cell_type": "markdown",
   "metadata": {},
   "source": [
    "## Ex23.2:pg-1094"
   ]
  },
  {
   "cell_type": "code",
   "execution_count": 2,
   "metadata": {
    "collapsed": false
   },
   "outputs": [
    {
     "name": "stdout",
     "output_type": "stream",
     "text": [
      "The focal length of the corrective lens is f= 50.0  cm\n"
     ]
    }
   ],
   "source": [
    "  #Example 23_2\n",
    " \n",
    "  \n",
    "  #To find the focal length of the corrective lens\n",
    "d1=-50.0           #units in cm\n",
    "f=-(d1)         #Units in cm\n",
    "print \"The focal length of the corrective lens is f=\",round(f),\" cm\"\n"
   ]
  },
  {
   "cell_type": "markdown",
   "metadata": {},
   "source": [
    "## Ex23.3:pg-1095"
   ]
  },
  {
   "cell_type": "code",
   "execution_count": 3,
   "metadata": {
    "collapsed": false
   },
   "outputs": [
    {
     "name": "stdout",
     "output_type": "stream",
     "text": [
      "The combined focal length is= 0.3  cm\n"
     ]
    }
   ],
   "source": [
    "  #Example 23_3\n",
    " \n",
    "  \n",
    "#To find the focal length of the combination\n",
    "d1=20.0            #units in cm\n",
    "d2=-30.0             #units in cm\n",
    "d3=60.0           #units in cm\n",
    "p1=100/d1         #units in dipoters\n",
    "p2=100/d2         #units in dipoters\n",
    "p3=100/d3         #units in dipoters\n",
    "p=1/(p1+p2+p3)          #Units in diopters\n",
    "print \"The combined focal length is=\",round(p,1),\" cm\"\n"
   ]
  }
 ],
 "metadata": {
  "kernelspec": {
   "display_name": "Python 2",
   "language": "python",
   "name": "python2"
  },
  "language_info": {
   "codemirror_mode": {
    "name": "ipython",
    "version": 2
   },
   "file_extension": ".py",
   "mimetype": "text/x-python",
   "name": "python",
   "nbconvert_exporter": "python",
   "pygments_lexer": "ipython2",
   "version": "2.7.11"
  }
 },
 "nbformat": 4,
 "nbformat_minor": 0
}
