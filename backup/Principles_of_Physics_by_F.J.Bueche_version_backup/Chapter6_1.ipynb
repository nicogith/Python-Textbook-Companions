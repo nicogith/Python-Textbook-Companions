{
 "cells": [
  {
   "cell_type": "markdown",
   "metadata": {},
   "source": [
    "# Chapter 06:Linear Momentum"
   ]
  },
  {
   "cell_type": "markdown",
   "metadata": {},
   "source": [
    "## Ex6.1:pg-189"
   ]
  },
  {
   "cell_type": "code",
   "execution_count": 2,
   "metadata": {
    "collapsed": false
   },
   "outputs": [
    {
     "name": "stdout",
     "output_type": "stream",
     "text": [
      "The average retarding force is F= -2500.0  Newtons\n"
     ]
    }
   ],
   "source": [
    "  import math  #Example 6_1\n",
    " \n",
    "  \n",
    "  #To calculate how large is the average force retarding its motion\n",
    "m=1500    #units in Kg\n",
    "vf=15.0     #units in meters/sec\n",
    "v0=20     #units in meters/sec\n",
    "t=3    #units in sec\n",
    "f=((m*vf)-(m*v0))/t     #Units in Newtons\n",
    "print \"The average retarding force is F=\",round(f),\" Newtons\"\n"
   ]
  },
  {
   "cell_type": "markdown",
   "metadata": {},
   "source": [
    "## Ex6.2:pg-190"
   ]
  },
  {
   "cell_type": "code",
   "execution_count": 3,
   "metadata": {
    "collapsed": false
   },
   "outputs": [
    {
     "name": "stdout",
     "output_type": "stream",
     "text": [
      "The average stopping force the tree exerts on the car is F=\n",
      "-160000.0 Newtons\n"
     ]
    }
   ],
   "source": [
    "  import math  #Example 6_2\n",
    " \n",
    "  \n",
    "  #To estimate the average stopping force the tree exerts on the car\n",
    "m=1200    #units in Kg\n",
    "vf=0     #units in meters/sec\n",
    "v0=20     #units in meters/sec\n",
    "v=0.5*(vf+v0)     #units in meters/sec\n",
    "s=1.5     #units in meters\n",
    "t=s/v     #units in sec  \n",
    "f=((m*vf)-(m*v0))/t     #Units in Newtons\n",
    "print \"The average stopping force the tree exerts on the car is F=\"\n",
    "print f,\"Newtons\"\n"
   ]
  },
  {
   "cell_type": "markdown",
   "metadata": {},
   "source": [
    "## Ex6.3:pg-191"
   ]
  },
  {
   "cell_type": "code",
   "execution_count": 4,
   "metadata": {
    "collapsed": false
   },
   "outputs": [
    {
     "name": "stdout",
     "output_type": "stream",
     "text": [
      "The car is moving at vf= 8.0  Meters/sec\n",
      "\n",
      "The positive sign of vf Indicate the car is moving in the direction the truck was moving\n"
     ]
    }
   ],
   "source": [
    "  import math  #Example 6_3\n",
    " \n",
    "  \n",
    "  #To find out how fast and the direction car moving\n",
    "m1=30000     #units in Kg\n",
    "m2=1200      #units in Kg\n",
    "v10=10     #units in meters/sec\n",
    "v20=-25     #units in meters/sec\n",
    "vf=((m1*v10)+(m2*v20))/(m1+m2)    #unis in meters/sec\n",
    "print \"The car is moving at vf=\",round(vf,2),\" Meters/sec\\n\"\n",
    "print \"The positive sign of vf Indicate the car is moving in the direction the truck was moving\"\n"
   ]
  },
  {
   "cell_type": "markdown",
   "metadata": {},
   "source": [
    "## Ex6.5:pg-193"
   ]
  },
  {
   "cell_type": "code",
   "execution_count": 5,
   "metadata": {
    "collapsed": false
   },
   "outputs": [
    {
     "name": "stdout",
     "output_type": "stream",
     "text": [
      "The velocity V2f= 0.2  meters/sec or  20.0  cm/sec\n",
      "\n",
      "The velocity V1f= -0.1  meters/sec or  10.0  cm/sec\n",
      "\n"
     ]
    }
   ],
   "source": [
    "  import math  #Example 6_5\n",
    " \n",
    "  \n",
    "  #To find the velocity of each ball after collision\n",
    "m1=0.04     #units in kg\n",
    "m2=0.08     #units in kg\n",
    "v1=0.3     #units in meters/sec\n",
    "v2f=(2*m1*v1)/(m1+m2)        #units in meters/sec\n",
    "v2f1=v2f*100     #units in cm/sec\n",
    "print \"The velocity V2f=\",round(v2f,1),\" meters/sec or \",round(v2f1),\" cm/sec\\n\"\n",
    "v1f=((m1*v1)-(m2*v2f))/m1    #units in meters/sec\n",
    "v1f1=-v1f*100     #units in cm/sec\n",
    "print \"The velocity V1f=\",round(v1f,1),\" meters/sec or \",round(v1f1),\" cm/sec\\n\"\n"
   ]
  },
  {
   "cell_type": "markdown",
   "metadata": {},
   "source": [
    "## Ex6.6:pg-196"
   ]
  },
  {
   "cell_type": "code",
   "execution_count": 6,
   "metadata": {
    "collapsed": false
   },
   "outputs": [
    {
     "name": "stdout",
     "output_type": "stream",
     "text": [
      "The speed of the pelet before collision is V10= 487.0  meters/sec\n"
     ]
    }
   ],
   "source": [
    "  import math  #Example 6_6\n",
    " \n",
    "  \n",
    "  #To calculate the speed of the pellet before collision\n",
    "h=0.30        #units in meters\n",
    "g=9.8         #units in meters/sec**2\n",
    "v=math.sqrt(2*g*h)       #units in meters/sec\n",
    "m1=2     #units in Kgs\n",
    "m2=0.010     #units in kgs\n",
    "v10=((m1+m2)*v)/m2      #units in meters/sec\n",
    "print \"The speed of the pelet before collision is V10=\",round(v10),\" meters/sec\"\n",
    "  #In textbook the answer is printed wrong as V10=486 meters/sec the correct answer is V10=487 meters/sec\n"
   ]
  },
  {
   "cell_type": "markdown",
   "metadata": {},
   "source": [
    "## Ex6.7:pg-196"
   ]
  },
  {
   "cell_type": "code",
   "execution_count": 7,
   "metadata": {
    "collapsed": false
   },
   "outputs": [
    {
     "name": "stdout",
     "output_type": "stream",
     "text": [
      "The Thrust is F= 65000000.0  Newtons\n"
     ]
    }
   ],
   "source": [
    "   import math  #Example 6_7\n",
    " \n",
    "  \n",
    "  #To calculate how large a forward push given to the rocket\n",
    "m=1300     #units in Kgs\n",
    "vf=50000     #units in meters/sec\n",
    "v0=0        #units in meters/sec\n",
    "F=((m*vf)-(m*v0))          #units in Newtons\n",
    "print \"The Thrust is F=\",round(F),\" Newtons\"\n"
   ]
  },
  {
   "cell_type": "markdown",
   "metadata": {},
   "source": [
    "## Ex6.8:pg-197"
   ]
  },
  {
   "cell_type": "code",
   "execution_count": 8,
   "metadata": {
    "collapsed": false
   },
   "outputs": [
    {
     "name": "stdout",
     "output_type": "stream",
     "text": [
      "The Z component of velocity is Vz= 0.0  meters/sec\n",
      "\n",
      "The Y component of velocity is Vy= -0.6 *V0\n",
      "\n",
      "The X component of velocity is Vx= -1.8 *V0\n"
     ]
    }
   ],
   "source": [
    "  import math  #Example 6_8\n",
    " \n",
    "  \n",
    "  #To determine the velocity of the third peice\n",
    "momentumbefore=0     #units in kg meter/s\n",
    "m=0.33      #units in Kgs\n",
    "vz=momentumbefore/m\n",
    "print \"The Z component of velocity is Vz=\",round(vz),\" meters/sec\\n\"\n",
    "m=0.33      #units in Kgs\n",
    "v0=0.6      #units in meters/sec\n",
    "vy=-(m*v0)/m      #interms of v0 and meters/sec\n",
    "print \"The Y component of velocity is Vy=\",round(vy,1),\"*V0\\n\"\n",
    "v01=1     #units in meters/sec\n",
    "v02=0.8       #units in meters/sec\n",
    "vx=-((v01+v02)*m)/m      #interms of v0 and units in meters/sec\n",
    "print \"The X component of velocity is Vx=\",round(vx,1),\"*V0\"\n"
   ]
  },
  {
   "cell_type": "markdown",
   "metadata": {},
   "source": [
    "## Ex6.9:pg-198"
   ]
  },
  {
   "cell_type": "code",
   "execution_count": 9,
   "metadata": {
    "collapsed": false
   },
   "outputs": [
    {
     "name": "stdout",
     "output_type": "stream",
     "text": [
      "After the collision the second ball moves at a speed of v= 4.1  Meters/sec\n"
     ]
    }
   ],
   "source": [
    "  import math  #Example 6_9\n",
    " \n",
    "  \n",
    "  #To find out the velocity of second ball after collision\n",
    "v1=5     #units in meters/sec\n",
    "theta=50.0     #units in degrees\n",
    "v2=2     #units in meters/sec\n",
    "vx=v1/(v2*math.cos(theta*math.pi/180))    #units in meters/sec\n",
    "vy=-(v2*math.cos(theta*math.pi/180))      #units in meters/sec\n",
    "v=math.sqrt(vx**2+vy**2)      #units in meters/sec\n",
    "print \"After the collision the second ball moves at a speed of v=\",round(v,2),\" Meters/sec\"\n",
    "  #in textbook the answer is printed wrong as 4.01 meters/sec the correct answer is 4.1 meters/sec\n"
   ]
  },
  {
   "cell_type": "markdown",
   "metadata": {},
   "source": [
    "## Ex6.10:pg-199"
   ]
  },
  {
   "cell_type": "code",
   "execution_count": 11,
   "metadata": {
    "collapsed": false
   },
   "outputs": [
    {
     "name": "stdout",
     "output_type": "stream",
     "text": [
      "The average speed of the nitrogen molecule in air is V= 492.0  meters/sec\n"
     ]
    }
   ],
   "source": [
    "  import math  #Example 6_10\n",
    " \n",
    "  \n",
    "  #To find the average speed of the nitrogen molecule in air\n",
    "ap=1.01*10**5     #units in Newton/meter**2\n",
    "nofmol=2.69*10**25     #Number of molecules\n",
    "nitmass=4.65*10**-26     #units in Kg\n",
    "v=math.sqrt((ap*3)/(nofmol*nitmass))     #units in meters/sec\n",
    "print \"The average speed of the nitrogen molecule in air is V=\",round(v),\" meters/sec\"\n"
   ]
  }
 ],
 "metadata": {
  "kernelspec": {
   "display_name": "Python 2",
   "language": "python",
   "name": "python2"
  },
  "language_info": {
   "codemirror_mode": {
    "name": "ipython",
    "version": 2
   },
   "file_extension": ".py",
   "mimetype": "text/x-python",
   "name": "python",
   "nbconvert_exporter": "python",
   "pygments_lexer": "ipython2",
   "version": "2.7.11"
  }
 },
 "nbformat": 4,
 "nbformat_minor": 0
}
