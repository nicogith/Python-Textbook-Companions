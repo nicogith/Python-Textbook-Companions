{
 "cells": [
  {
   "cell_type": "markdown",
   "metadata": {},
   "source": [
    "# Chapter 19:Electromagnetic Induction"
   ]
  },
  {
   "cell_type": "markdown",
   "metadata": {},
   "source": [
    "## Ex19.1:pg-938"
   ]
  },
  {
   "cell_type": "code",
   "execution_count": 0,
   "metadata": {
    "collapsed": false
   },
   "outputs": [],
   "source": [
    "  #Example 19_1\n",
    " \n",
    "  \n",
    "  #To find the flux in the room\n",
    "l=4         #Units in meters\n",
    "b=0.8         #Units in meters\n",
    "theta=20        #Units in degrees\n",
    "a=l*b       #Units in meters**2\n",
    "b=4*10**-5         #Units in T\n",
    "thetaa=math.cos(theta*math.pi/180)         #Units in radians\n",
    "phi=b*thetaa*a        #Units in T meters**2\n",
    "print \"The flux in the room is Phi=\",round( ,5),\" T meters**2\",phi)\n"
   ]
  },
  {
   "cell_type": "markdown",
   "metadata": {},
   "source": [
    "## Ex19.2:pg-939"
   ]
  },
  {
   "cell_type": "code",
   "execution_count": 0,
   "metadata": {
    "collapsed": false
   },
   "outputs": [],
   "source": [
    "  #Example 19_2\n",
    " \n",
    "  \n",
    "  #To find how large is the average EMF induced\n",
    "b=0.5          #Units in T\n",
    "a=4*10**-4          #Units in meters**2\n",
    "phi2=b*a            #Units in Wb\n",
    "phi1=0            #Units in Wb\n",
    "deltaPHI=phi2-phi1       #Units in Wb\n",
    "n=100         #Units in Constant\n",
    "deltaT=2*10**-2          #Units in sec\n",
    "emf=(n*deltaPHI)/deltaT          #Units in V\n",
    "print \"The average emf Induced is emf=\",round( ),\" V\",emf)\n"
   ]
  },
  {
   "cell_type": "markdown",
   "metadata": {},
   "source": [
    "## Ex19.3:pg-939"
   ]
  },
  {
   "cell_type": "code",
   "execution_count": 0,
   "metadata": {
    "collapsed": false
   },
   "outputs": [],
   "source": [
    "  #Example 19_3\n",
    " \n",
    "  \n",
    "  #To findout how large an emf is generated\n",
    "m=0.5         #Units in H\n",
    "i=1          #Units in A\n",
    "t=0.01           #Units in sec\n",
    "emf=m*(i/t)             #Units in V\n",
    "print \"The emf generated is emf=\",round( ),\" V\",emf)\n"
   ]
  },
  {
   "cell_type": "markdown",
   "metadata": {},
   "source": [
    "## Ex19.4:pg-939"
   ]
  },
  {
   "cell_type": "code",
   "execution_count": 0,
   "metadata": {
    "collapsed": false
   },
   "outputs": [],
   "source": [
    "  #Example 19_4\n",
    " \n",
    "  \n",
    "  #To Calculate the value of selfinductance\n",
    "print \"The Self Inductance is L=Uo*n**2*D*A\")\n"
   ]
  },
  {
   "cell_type": "markdown",
   "metadata": {},
   "source": [
    "## Ex19.5:pg-939"
   ]
  },
  {
   "cell_type": "code",
   "execution_count": 0,
   "metadata": {
    "collapsed": false
   },
   "outputs": [],
   "source": [
    "  #Example 19_5\n",
    " \n",
    "  \n",
    "  #To find the time constant of the circuit and the final energy stored\n",
    "l=0.5     #Units in H\n",
    "r1=2          #Units in Ohms\n",
    "r2=4              #Units in Ohms\n",
    "r=r1+r2          #Units in Ohms\n",
    "l_r=l/r    #Units in sec\n",
    "i=2          #Units in A\n",
    "ene=0.5*l*i**2\n",
    "print \"The time constant is L/R=\",round( ,4),\" Sec\\n The energy stored is=\",round( ),\" J\",l_r,ene)\n"
   ]
  },
  {
   "cell_type": "markdown",
   "metadata": {},
   "source": [
    "## Ex19.6:pg-940"
   ]
  },
  {
   "cell_type": "code",
   "execution_count": 2,
   "metadata": {
    "collapsed": false
   },
   "outputs": [
    {
     "name": "stdout",
     "output_type": "stream",
     "text": [
      "The emf induced in the rod is emf= 0.000542  V\n"
     ]
    }
   ],
   "source": [
    "  #Example 19_6\n",
    "import math  \n",
    "#To find the emf induced in the rod\n",
    "b=0.6*10**-4         #Units in T\n",
    "v=3         #Units in meters/sec\n",
    "d=5          #Units in meters\n",
    "theta=53            #Units in degrees\n",
    "thetaa=math.cos(theta*math.pi/180)          #Units in radians\n",
    "emf=b*v*d*thetaa        #Units in V\n",
    "print \"The emf induced in the rod is emf=\",round(emf,6),\" V\"\n"
   ]
  },
  {
   "cell_type": "markdown",
   "metadata": {},
   "source": [
    "## Ex19.7:pg-940"
   ]
  },
  {
   "cell_type": "code",
   "execution_count": 3,
   "metadata": {
    "collapsed": false
   },
   "outputs": [
    {
     "name": "stdout",
     "output_type": "stream",
     "text": [
      "The back emf developed is EMF= 104.0  V\n"
     ]
    }
   ],
   "source": [
    "  #Example 19_7\n",
    " \n",
    "  \n",
    "#To calculate the Back emf developed\n",
    "i=3           #Units in A\n",
    "r=2.0               #Units in Ohms\n",
    "v=110.0              #Units in Ohms\n",
    "e=v-(i*r)         #Units in V\n",
    "print \"The back emf developed is EMF=\",round(e),\" V\"\n"
   ]
  }
 ],
 "metadata": {
  "kernelspec": {
   "display_name": "Python 2",
   "language": "python",
   "name": "python2"
  },
  "language_info": {
   "codemirror_mode": {
    "name": "ipython",
    "version": 2
   },
   "file_extension": ".py",
   "mimetype": "text/x-python",
   "name": "python",
   "nbconvert_exporter": "python",
   "pygments_lexer": "ipython2",
   "version": "2.7.11"
  }
 },
 "nbformat": 4,
 "nbformat_minor": 0
}
