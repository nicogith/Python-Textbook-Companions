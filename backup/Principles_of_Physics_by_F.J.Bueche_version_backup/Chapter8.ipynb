{
 "cells": [
  {
   "cell_type": "markdown",
   "metadata": {},
   "source": [
    "# Chapter 08: Rotational work energy and momentum"
   ]
  },
  {
   "cell_type": "markdown",
   "metadata": {},
   "source": [
    "## Ex8.1:pg-240"
   ]
  },
  {
   "cell_type": "code",
   "execution_count": null,
   "metadata": {
    "collapsed": false
   },
   "outputs": [],
   "source": [
    "  #Example 8_1\n",
    " \n",
    "  \n",
    "  #To find the rotational kinetic energy\n",
    "m=5.98*10**24      #units in Kg\n",
    "r=6.37*10**6     #units in meters\n",
    "I=(2/5)*m*r**2     #units in Kg meter**2\n",
    "t=86400     #units in sec\n",
    "w=(2*math.pi)/(t)   #units in rad/sec\n",
    "KE=0.5*(I*w**2)         #units in joules\n",
    "print \"The rotational kinetic energy is KE=\")\n",
    "print KE)\n",
    "print \"Joules\")\n"
   ]
  },
  {
   "cell_type": "markdown",
   "metadata": {},
   "source": [
    "## Ex8.2:pg-242"
   ]
  },
  {
   "cell_type": "code",
   "execution_count": 9,
   "metadata": {
    "collapsed": false
   },
   "outputs": [
    {
     "name": "stdout",
     "output_type": "stream",
     "text": [
      "Angular acceleration is alpha= 0.384  rad/sec**2\n"
     ]
    }
   ],
   "source": [
    "  #Example 8_2\n",
    " \n",
    "  \n",
    "  #To find the angular acceleration of the wheel\n",
    "m=30     #units in Kg\n",
    "k=0.25      #units in meters\n",
    "I=m*k**2       #units in Kg meter**2\n",
    "force=1.8     #units in Newtons\n",
    "levelarm=0.40      #nits in meters\n",
    "tou=force*levelarm      #units in Newton meter\n",
    "alpha=tou/I      #units in rad/sec**2\n",
    "print \"Angular acceleration is alpha=\",round(alpha,3),\" rad/sec**2\"\n"
   ]
  },
  {
   "cell_type": "markdown",
   "metadata": {},
   "source": [
    "## Ex8.3:pg-242"
   ]
  },
  {
   "cell_type": "code",
   "execution_count": 10,
   "metadata": {
    "collapsed": false
   },
   "outputs": [
    {
     "name": "stdout",
     "output_type": "stream",
     "text": [
      "The time taken is t= 15.7  sec\n",
      "\n",
      "The wheel goes a distance of theta= 98.7  rad\n",
      "\n",
      "The rotational kinetic energy is KE= 197.0  Joules\n"
     ]
    }
   ],
   "source": [
    "  #Example 8_3\n",
    " \n",
    "  \n",
    "  #To find out how long does it take to accelerate and how far does wheel turn in this time and the rotational kinetic energy\n",
    "force=8     #units in Newtons\n",
    "arm=0.25      #units in meters\n",
    "tou=force*arm     #units in Newton meter\n",
    "m=80      #units in Kg\n",
    "b=arm     #units in meters\n",
    "I=0.5*m*b**2         #units in Kg meter**2\n",
    "alpha=tou/I         #units in rad/sec**2\n",
    "wf=4*math.pi        #units in rad/sec\n",
    "w0=0        #units in rad/sec\n",
    "t=(wf-w0)/alpha   #units in sec\n",
    "print \"The time taken is t=\",round(t,1),\" sec\\n\"\n",
    "theta=0.5*(wf+w0)*t    #units in radians\n",
    "print \"The wheel goes a distance of theta=\",round(theta,1),\" rad\\n\"\n",
    "KE=0.5*I*wf**2         #units in Joules\n",
    "print \"The rotational kinetic energy is KE=\",round(KE),\" Joules\"\n"
   ]
  },
  {
   "cell_type": "markdown",
   "metadata": {},
   "source": [
    "## Ex8.4:pg-243"
   ]
  },
  {
   "cell_type": "code",
   "execution_count": 11,
   "metadata": {
    "collapsed": false
   },
   "outputs": [
    {
     "name": "stdout",
     "output_type": "stream",
     "text": [
      "The angular acceleration is alpha= 1.37  rad/sec**2\n",
      "\n",
      "The objects goes a distance of y= 51.4  meters\n"
     ]
    }
   ],
   "source": [
    "  #Example 8_4\n",
    " \n",
    "  \n",
    "  #To find out the angular acceleration and the distance the object falls\n",
    "f1=29.4     #units in Newtons\n",
    "r1=0.75     #units in meters\n",
    "m1=40     #units in Kgs\n",
    "r2=0.6     #units in meters\n",
    "m2=3     #units in Kgs\n",
    "alpha=(f1*r1)/((m1*r2**2)+(m2*r1**2))             #units in rad/sec**2\n",
    "print \"The angular acceleration is alpha=\",round(alpha,2),\" rad/sec**2\\n\"\n",
    "a=r1*alpha      #units in meters/sec**2\n",
    "t=10     #units in sec\n",
    "y=0.5*a*t**2     #units in meters\n",
    "print \"The objects goes a distance of y=\",round(y,1),\" meters\"\n"
   ]
  },
  {
   "cell_type": "markdown",
   "metadata": {},
   "source": [
    "## Ex8.5:pg-244"
   ]
  },
  {
   "cell_type": "code",
   "execution_count": 12,
   "metadata": {
    "collapsed": false
   },
   "outputs": [
    {
     "name": "stdout",
     "output_type": "stream",
     "text": [
      "The object is moving at v= 1.28  meters/sec\n"
     ]
    }
   ],
   "source": [
    "  #Example 8_5\n",
    " \n",
    "  \n",
    "  #To find the speed of the object\n",
    "m=3    #units in Kg\n",
    "g=9.8     #units in meters/sec**2\n",
    "h=0.80      #units in meters\n",
    "m1=3     #units in Kg\n",
    "m2=14.4     #units in Kg\n",
    "r=0.75     #units in meters\n",
    "v=sqrt((m*g*h)/((0.5*m1)+((0.5*m2)/r**2)))\n",
    "print \"The object is moving at v=\",round(v,2),\" meters/sec\"\n"
   ]
  },
  {
   "cell_type": "markdown",
   "metadata": {},
   "source": [
    "## Ex8.8:pg-247"
   ]
  },
  {
   "cell_type": "code",
   "execution_count": 15,
   "metadata": {
    "collapsed": false
   },
   "outputs": [
    {
     "name": "stdout",
     "output_type": "stream",
     "text": [
      "The sun would take for one revolution in time=\n",
      "0.000216 sec\n"
     ]
    }
   ],
   "source": [
    "  #Example 8_8\n",
    " \n",
    "  \n",
    "  #To find out how long does the sun take to complete one revolution\n",
    "ra_rb=10.0**5\n",
    "noofrev=1.0/25      #units in rev/day\n",
    "wafter=(ra_rb)**2*(noofrev)\n",
    "t=86400     #units in sec\n",
    "time=t/wafter     #units in sec\n",
    "print \"The sun would take for one revolution in time=\"\n",
    "print time,\"sec\"\n"
   ]
  },
  {
   "cell_type": "markdown",
   "metadata": {},
   "source": [
    "## Ex8.9:pg-248"
   ]
  },
  {
   "cell_type": "code",
   "execution_count": 16,
   "metadata": {
    "collapsed": false
   },
   "outputs": [
    {
     "name": "stdout",
     "output_type": "stream",
     "text": [
      "The rotational speed is Wf= 1.63  rev/sec\n"
     ]
    }
   ],
   "source": [
    "  #Example 8_9\n",
    " \n",
    "  \n",
    "  #To find out the rotational speed \n",
    "m=0.3     #units in Kg\n",
    "r=0.035     #units in meters\n",
    "Iw=0.5*m*r**2      #units in Kg meter**2\n",
    "Ibt=8*10**-4      #units in Kg meter**2\n",
    "w0=2     #units in rev/sec\n",
    "wf=(Ibt*w0)/(Ibt+Iw)     #units in rev/sec\n",
    "print \"The rotational speed is Wf=\",round(wf,2),\" rev/sec\"\n"
   ]
  }
 ],
 "metadata": {
  "kernelspec": {
   "display_name": "Python 2",
   "language": "python",
   "name": "python2"
  },
  "language_info": {
   "codemirror_mode": {
    "name": "ipython",
    "version": 2
   },
   "file_extension": ".py",
   "mimetype": "text/x-python",
   "name": "python",
   "nbconvert_exporter": "python",
   "pygments_lexer": "ipython2",
   "version": "2.7.11"
  }
 },
 "nbformat": 4,
 "nbformat_minor": 0
}
