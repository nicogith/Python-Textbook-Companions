{
 "cells": [
  {
   "cell_type": "markdown",
   "metadata": {},
   "source": [
    "# Chapter 16:Electric Potential"
   ]
  },
  {
   "cell_type": "markdown",
   "metadata": {},
   "source": [
    "## Ex16.1:pg-731"
   ]
  },
  {
   "cell_type": "code",
   "execution_count": 26,
   "metadata": {
    "collapsed": false
   },
   "outputs": [
    {
     "name": "stdout",
     "output_type": "stream",
     "text": [
      "The magnitude of electric field is E= 2400.0  V/meters\n"
     ]
    }
   ],
   "source": [
    "  #Example 16_1\n",
    " \n",
    "  \n",
    "#To find the magnitude of the electric field\n",
    "v=12.0        #Units in V\n",
    "d=5.0*10**-3        #units in Meters\n",
    "e=v/d           #Units in V/meter\n",
    "print \"The magnitude of electric field is E=\",round(e),\" V/meters\"\n"
   ]
  },
  {
   "cell_type": "markdown",
   "metadata": {},
   "source": [
    "## Ex16.2:pg-731"
   ]
  },
  {
   "cell_type": "code",
   "execution_count": 25,
   "metadata": {
    "collapsed": false
   },
   "outputs": [
    {
     "name": "stdout",
     "output_type": "stream",
     "text": [
      "The speed of the proton is Vab= 92858.79  meters/sec\n"
     ]
    }
   ],
   "source": [
    "  #Example 16_2\n",
    " \n",
    "  \n",
    "#To calculate the speed of the proton\n",
    "q=1.6*10**-19      #Units in C\n",
    "vab=45      #Units in V\n",
    "m=1.67*10**-27        #Units in Kg\n",
    "va=math.sqrt((2*q*vab)/m)       #Units in meters/sec\n",
    "print \"The speed of the proton is Vab=\",round(va,2),\" meters/sec\"\n"
   ]
  },
  {
   "cell_type": "markdown",
   "metadata": {},
   "source": [
    "## Ex16.3:pg-733"
   ]
  },
  {
   "cell_type": "code",
   "execution_count": 24,
   "metadata": {
    "collapsed": false
   },
   "outputs": [
    {
     "name": "stdout",
     "output_type": "stream",
     "text": [
      "The speed of the electron is Vab= 3975777.37  meters/sec\n"
     ]
    }
   ],
   "source": [
    "  #Example 16_3\n",
    "import math  \n",
    "#To find the sped of an electron\n",
    "e=1.6*10**-19      #Units in C\n",
    "vab=45      #Units in V\n",
    "m=9.11*10**-31        #Units in Kg\n",
    "va=math.sqrt((2*e*vab)/m)       #Units in meters/sec\n",
    "print \"The speed of the electron is Vab=\",round(va,2),\" meters/sec\"\n"
   ]
  },
  {
   "cell_type": "markdown",
   "metadata": {},
   "source": [
    "## Ex16.4:pg-735"
   ]
  },
  {
   "cell_type": "code",
   "execution_count": 22,
   "metadata": {
    "collapsed": false
   },
   "outputs": [
    {
     "name": "stdout",
     "output_type": "stream",
     "text": [
      "Charged metal object have an equi potential volume so its surface is am equi potential volume\n",
      "Because lines of force must be perpendiculat ro equipotential lines and surfaces.\n"
     ]
    }
   ],
   "source": [
    "  #Example 16_4\n",
    " \n",
    "  \n",
    "  #To sketch the equipotentials and electric field lines near a charged metal object\n",
    "print \"Charged metal object have an equi potential volume so its surface is am equi potential volume\\nBecause lines of force must be perpendiculat ro equipotential lines and surfaces.\"\n"
   ]
  },
  {
   "cell_type": "markdown",
   "metadata": {},
   "source": [
    "## Ex16.5:pg-735"
   ]
  },
  {
   "cell_type": "code",
   "execution_count": 21,
   "metadata": {
    "collapsed": false
   },
   "outputs": [
    {
     "name": "stdout",
     "output_type": "stream",
     "text": [
      "The work done in carrying proton is=\n",
      "1.44e-18\n",
      "Joules\n",
      "\n",
      "The work done in carrying electron is=\n",
      "-1.44e-18\n",
      "Joules\n",
      "\n"
     ]
    }
   ],
   "source": [
    "  #Example 16_5\n",
    " \n",
    "  \n",
    "#To find the work done in carrying a proton and for an electron\n",
    "q=1.6*10**-19   #Units in C\n",
    "vab=9.0            #Units in V\n",
    "work=q*vab        #Units in J\n",
    "print \"The work done in carrying proton is=\"\n",
    "print work\n",
    "print \"Joules\\n\"\n",
    "q=-1.6*10**-19   #Units in C\n",
    "work=q*vab        #Units in J\n",
    "print \"The work done in carrying electron is=\"\n",
    "print work\n",
    "print \"Joules\\n\"\n"
   ]
  },
  {
   "cell_type": "markdown",
   "metadata": {},
   "source": [
    "## Ex16.6:pg-736"
   ]
  },
  {
   "cell_type": "code",
   "execution_count": 18,
   "metadata": {
    "collapsed": false
   },
   "outputs": [
    {
     "name": "stdout",
     "output_type": "stream",
     "text": [
      "The speed of proton before it strikes is Vb= 7756781.9  meters/sec\n"
     ]
    }
   ],
   "source": [
    "  #Example 16_6\n",
    "import math  \n",
    "  #To calculate the speed just befor it strikes it\n",
    "va=8*10**6         #Units in meters/sec\n",
    "q=1.6*10**-19         #Units in C\n",
    "m=1.67*10**-27        #Units in Kg\n",
    "vab=20000   #Units in V\n",
    "vb=math.sqrt(va**2-((2*q*vab)/m))        #Units in meters/sec\n",
    "print \"The speed of proton before it strikes is Vb=\",round(vb,1),\" meters/sec\"\n"
   ]
  },
  {
   "cell_type": "markdown",
   "metadata": {},
   "source": [
    "## Ex16.7:pg-737"
   ]
  },
  {
   "cell_type": "code",
   "execution_count": 14,
   "metadata": {
    "collapsed": false
   },
   "outputs": [
    {
     "name": "stdout",
     "output_type": "stream",
     "text": [
      "Since each proton has a minimum energy of 13.6 eV and a charge of 1.602*10**-19 C\n",
      " The required potential difference is=13.6 eV\n"
     ]
    }
   ],
   "source": [
    "  #Example 16_7\n",
    " \n",
    "  \n",
    "  #To calculate the minimum value of Vab needed\n",
    "print \"Since each proton has a minimum energy of 13.6 eV and a charge of 1.602*10**-19 C\\n The required potential difference is=13.6 eV\"\n"
   ]
  },
  {
   "cell_type": "markdown",
   "metadata": {},
   "source": [
    "## Ex16.8:pg-737"
   ]
  },
  {
   "cell_type": "code",
   "execution_count": 13,
   "metadata": {
    "collapsed": false
   },
   "outputs": [
    {
     "name": "stdout",
     "output_type": "stream",
     "text": [
      "The speed of electron is v= 4150286.78  meters/sec\n"
     ]
    }
   ],
   "source": [
    "  #Example 16_8\n",
    "import math  \n",
    "  #To find out the speed of the proton\n",
    "k=9*10**9         #Units in N meter**2/C**2\n",
    "q=5*10.0**-6   #Units in C\n",
    "r=0.5         #Units in meters\n",
    "v1=(k*q)/r     #Units in V\n",
    "q=1.6*10**-19           #Units in V\n",
    "m=1.672*10**-27           #Units in Kg\n",
    "v=math.sqrt((v1*q*2)/m)     #Units in V\n",
    "print \"The speed of electron is v=\",round(v,2),\" meters/sec\"\n"
   ]
  },
  {
   "cell_type": "markdown",
   "metadata": {},
   "source": [
    "## Ex16.9:pg-739"
   ]
  },
  {
   "cell_type": "code",
   "execution_count": 11,
   "metadata": {
    "collapsed": false
   },
   "outputs": [
    {
     "name": "stdout",
     "output_type": "stream",
     "text": [
      "Due to 5*10**-8 C V1= 4500.0  V\n",
      "Due to 8*10**-8 C V2= 7200.0  V\n",
      "Due to 40*10**-8 C V3= -18000.0  V\n",
      " Absolute potential at B is Vb= -6300.0  V\n"
     ]
    }
   ],
   "source": [
    "  #Example 16_9\n",
    " \n",
    "  \n",
    "  #To compute the absolute potential at B\n",
    "k=9*10**9         #Units in N meter**2/C**2\n",
    "q=5*10.0**-8   #Units in C\n",
    "r=0.1         #Units in meters\n",
    "v1=(k*q)/r     #Units in V\n",
    "q=8*10**-8   #Units in C\n",
    "r=0.1         #Units in meters\n",
    "v2=(k*q)/r     #Units in V\n",
    "q=40*10**-8   #Units in C\n",
    "r=0.2         #Units in meters\n",
    "v3=-(k*q)/r     #Units in V\n",
    "vb=v1+v2+v3            #Units in V        \n",
    "print \"Due to 5*10**-8 C V1=\",round(v1),\" V\\nDue to 8*10**-8 C V2=\",round(v2),\" V\\nDue to 40*10**-8 C V3=\",round(v3),\" V\\n Absolute potential at B is Vb=\",round(vb),\" V\"\n",
    "      \n"
   ]
  },
  {
   "cell_type": "markdown",
   "metadata": {},
   "source": [
    "## Ex16.10:pg-739"
   ]
  },
  {
   "cell_type": "code",
   "execution_count": 9,
   "metadata": {
    "collapsed": false
   },
   "outputs": [
    {
     "name": "stdout",
     "output_type": "stream",
     "text": [
      "The absolute potential is V= 27.2  V\n",
      "\n",
      "The energy that is required is W=\n",
      "4.35e-18 J\n"
     ]
    }
   ],
   "source": [
    "  #Example 16_10\n",
    " \n",
    "  \n",
    "  #To find the absolute potential and how much energy is needed to pull the electrons from atom\n",
    "k=9*10**9         #Units in N meter**2/C**2\n",
    "q=1.6*10**-19   #Units in C\n",
    "r=5.3*10**-11         #Units in meters\n",
    "v=(k*q)/r     #Units in V\n",
    "print \"The absolute potential is V=\",round(v,1),\" V\\n\"\n",
    "Vinfinity=0              #Units in V\n",
    "deltaV=Vinfinity-v           #Units in V\n",
    "work=-q*deltaV             #Units in J\n",
    "print \"The energy that is required is W=\"\n",
    "print round(work,20),\"J\"  \n"
   ]
  }
 ],
 "metadata": {
  "kernelspec": {
   "display_name": "Python 2",
   "language": "python",
   "name": "python2"
  },
  "language_info": {
   "codemirror_mode": {
    "name": "ipython",
    "version": 2
   },
   "file_extension": ".py",
   "mimetype": "text/x-python",
   "name": "python",
   "nbconvert_exporter": "python",
   "pygments_lexer": "ipython2",
   "version": "2.7.11"
  }
 },
 "nbformat": 4,
 "nbformat_minor": 0
}
