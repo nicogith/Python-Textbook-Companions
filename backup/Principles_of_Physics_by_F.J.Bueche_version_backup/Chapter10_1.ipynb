{
 "cells": [
  {
   "cell_type": "markdown",
   "metadata": {},
   "source": [
    "# Chapter 10: Gases and the Kinetic Theory"
   ]
  },
  {
   "cell_type": "markdown",
   "metadata": {},
   "source": [
    "## Ex10.1:pg-288"
   ]
  },
  {
   "cell_type": "code",
   "execution_count": 1,
   "metadata": {
    "collapsed": false
   },
   "outputs": [
    {
     "name": "stdout",
     "output_type": "stream",
     "text": [
      "The pressure in the lungs is Pl= 109289.6  Pa\n"
     ]
    }
   ],
   "source": [
    "   import math   #Example 10_1\n",
    "  \n",
    "  #To find out the pressure in Lungs\n",
    "h=6     #units in cm Hg\n",
    "Pa=76      #Units in cm Hg\n",
    "Pl=(h+Pa)        #units in cm Hg\n",
    "\n",
    "Pl=Pl*10**-2     #units in Meters Hg\n",
    "g=9.8      #Units in Meters/cm**2\n",
    "H=13600     #Constant   \n",
    "Pl=Pl*H*g     #Units in Pa\n",
    "print \"The pressure in the lungs is Pl=\",round(Pl,1),\" Pa\"\n"
   ]
  },
  {
   "cell_type": "markdown",
   "metadata": {},
   "source": [
    "## Ex10.2:pg-288"
   ]
  },
  {
   "cell_type": "code",
   "execution_count": 2,
   "metadata": {
    "collapsed": false
   },
   "outputs": [
    {
     "name": "stdout",
     "output_type": "stream",
     "text": [
      "The Mass per atom is= 1.054e-25 Kg/Atom\n"
     ]
    }
   ],
   "source": [
    "  import math   #Example 10_2\n",
    " \n",
    "  \n",
    "  #To find the mass of copper atom\n",
    "maa=63.5      #Units in Kgs\n",
    "n=6.022*10**26      #Units in number of atoms\n",
    "Mass=maa/n       #units in Kg/atom\n",
    "print \"The Mass per atom is=\",round(Mass,28),\"Kg/Atom\"\n"
   ]
  },
  {
   "cell_type": "markdown",
   "metadata": {},
   "source": [
    "## Ex10.3:pg-289"
   ]
  },
  {
   "cell_type": "code",
   "execution_count": 3,
   "metadata": {
    "collapsed": false
   },
   "outputs": [
    {
     "name": "stdout",
     "output_type": "stream",
     "text": [
      "The volume associated is  2.46e-29 Meter**3/Atom\n"
     ]
    }
   ],
   "source": [
    "  import math   #Example 10_3\n",
    " \n",
    "  \n",
    "  #To find te volume associted with mercury atom in liquid mercury\n",
    "M=201.0     #Units in Kg/Kmol\n",
    "n=6.02*10**26     #units in K mol**-2\n",
    "mo=M/n      #units in Kg\n",
    "n1=13600.0      #units in Kg/Meter**3\n",
    "noatoms=n1/mo      #units in atoms/Meter**3\n",
    "volume_atom=1/noatoms       #units in Meter**3/Atom\n",
    "print \"The volume associated is \",round(volume_atom,31),\"Meter**3/Atom\"\n"
   ]
  },
  {
   "cell_type": "markdown",
   "metadata": {},
   "source": [
    "## Ex10.4:pg-289"
   ]
  },
  {
   "cell_type": "code",
   "execution_count": 4,
   "metadata": {
    "collapsed": false
   },
   "outputs": [
    {
     "name": "stdout",
     "output_type": "stream",
     "text": [
      "Volume occupied is V= 22.4  Meter**3/Kmol\n"
     ]
    }
   ],
   "source": [
    "  import math   #Example 10_4\n",
    " \n",
    "  \n",
    "  #To find the volume that one kilomole of an ideal gas occupies\n",
    "p=1.013*10**5     #units in Pa\n",
    "t=273.15      #units in K\n",
    "n=1    #units in K mol\n",
    "R=8314      #units in J/Kmol K\n",
    "v=(n*R*t)/p      #units in Meter**3/Kmol\n",
    "print \"Volume occupied is V=\",round(v,1),\" Meter**3/Kmol\"\n"
   ]
  },
  {
   "cell_type": "markdown",
   "metadata": {},
   "source": [
    "## Ex10.5:pg-290"
   ]
  },
  {
   "cell_type": "code",
   "execution_count": 5,
   "metadata": {
    "collapsed": false
   },
   "outputs": [
    {
     "name": "stdout",
     "output_type": "stream",
     "text": [
      "The pressure in the container is P= 249.0  Pa\n"
     ]
    }
   ],
   "source": [
    "  import math   #Example 10_5\n",
    " \n",
    "  \n",
    "  #To find the gas pressure in the container\n",
    "v=5*10**-3     #units in meter**3\n",
    "t=300.0      #units in K\n",
    "m1=14*10**-6   #Units in Kg\n",
    "M=28    #Units in Kg/Kmol  \n",
    "n=m1/M    #units in K mol\n",
    "R=8314      #units in J/Kmol K\n",
    "p=(n*R*t)/v      #units in Meter**3/Kmol\n",
    "print \"The pressure in the container is P=\",round(p),\" Pa\"\n"
   ]
  },
  {
   "cell_type": "markdown",
   "metadata": {},
   "source": [
    "## Ex10.6:pg-291"
   ]
  },
  {
   "cell_type": "code",
   "execution_count": 6,
   "metadata": {
    "collapsed": false
   },
   "outputs": [
    {
     "name": "stdout",
     "output_type": "stream",
     "text": [
      "The mass of air in flask is= 5.82e-05 Kg\n"
     ]
    }
   ],
   "source": [
    "  import math   #Example 10_6\n",
    " \n",
    "  \n",
    "  #To determine the mass of the air in flask\n",
    "p=1.013*10**5     #Units in Pa\n",
    "v=50*10**-6     #Units in meter**3\n",
    "M=28.0      #Units in Kg/Mol\n",
    "R=8314.0      #units in J/Kmol K\n",
    "T=293      #units in K\n",
    "m=(p*v*M)/(R*T)      #Units in Kg\n",
    "print \"The mass of air in flask is=\",round(m,7),\"Kg\"\n"
   ]
  },
  {
   "cell_type": "markdown",
   "metadata": {},
   "source": [
    "## Ex10.7:pg-292"
   ]
  },
  {
   "cell_type": "code",
   "execution_count": 7,
   "metadata": {
    "collapsed": false
   },
   "outputs": [
    {
     "name": "stdout",
     "output_type": "stream",
     "text": [
      "The final pressure in the drum is P2= 1.14  atm\n"
     ]
    }
   ],
   "source": [
    "  import math   #Example 10_7\n",
    " \n",
    "  \n",
    "  #To find out the final pressure in the drum\n",
    "p1=1      #Units in atm\n",
    "t2=333.0      #units in K\n",
    "t1=293.0      #units in K\n",
    "p2=p1*(t2/t1)     #units in atm\n",
    "print \"The final pressure in the drum is P2=\",round(p2,2),\" atm\"\n"
   ]
  },
  {
   "cell_type": "markdown",
   "metadata": {},
   "source": [
    "## Ex10.8:pg-292"
   ]
  },
  {
   "cell_type": "code",
   "execution_count": 8,
   "metadata": {
    "collapsed": false
   },
   "outputs": [
    {
     "name": "stdout",
     "output_type": "stream",
     "text": [
      "The final volume of gas in terms of original volume is V2= 0.05467 *V1\n"
     ]
    }
   ],
   "source": [
    "  import math   #Example 10_8\n",
    " \n",
    "  \n",
    "  #To find the final volume of gas\n",
    "\n",
    "t1=27.0     #Units in Centigrade\n",
    "t1=t1+273      #Units in Kelvin\n",
    "t2=547.0     #Units in Centigrade\n",
    "t2=t2+273      #Units in Kelvin\n",
    "t1=27.0     #Units in Centigrade\n",
    "t1=t1+273      #Units in Kelvin\n",
    "t1=27.0     #Units in Centigrade\n",
    "t1=t1+273      #Units in Kelvin\n",
    "p2=3700.0      #units in cm Hg\n",
    "p1=74.0       #units in cm Hg\n",
    "v1_v2=1/((t1/t2)*(p2/p1))       #In terms of V1\n",
    "print \"The final volume of gas in terms of original volume is V2=\",round(v1_v2,5),\"*V1\"\n"
   ]
  },
  {
   "cell_type": "markdown",
   "metadata": {},
   "source": [
    "## Ex10.9:pg-293"
   ]
  },
  {
   "cell_type": "code",
   "execution_count": 9,
   "metadata": {
    "collapsed": false
   },
   "outputs": [
    {
     "name": "stdout",
     "output_type": "stream",
     "text": [
      "The Final pressure is P2= 328.0  K Pa\n"
     ]
    }
   ],
   "source": [
    "  import math   #Example 10_9\n",
    " \n",
    "  \n",
    "  #To find the pressure after the car has been driven at high speed\n",
    "t2=308      #Units in K\n",
    "t1=273.0      #Units in K\n",
    "p2_p1=(t2)/t1       #In terms of P1\n",
    "P1=190.0           #Units in K Pa  \n",
    "P2=101              #Units in K Pa  \n",
    "P2=p2_p1*(P1+P2)      #Units in K Pa \n",
    "print \"The Final pressure is P2=\",round(P2),\" K Pa\" \n",
    "  #In text book the answer is printed wrong as P2=329 K Pa but the correct answer is 328 K Pa \n"
   ]
  },
  {
   "cell_type": "markdown",
   "metadata": {},
   "source": [
    "## Ex10.10:pg-294"
   ]
  },
  {
   "cell_type": "code",
   "execution_count": 10,
   "metadata": {
    "collapsed": false
   },
   "outputs": [
    {
     "name": "stdout",
     "output_type": "stream",
     "text": [
      "The nitrogen molecule goes at a speed of V= 517.0  meter/sec\n"
     ]
    }
   ],
   "source": [
    "  import math   #Example 10_10\n",
    "\n",
    "\n",
    "  \n",
    "  #To findout how fast the nitrogen molecule moving in air\n",
    "M=28.0       #Units in Kg/Mol\n",
    "Na=6.02*10**26      #Units in K mol**-1\n",
    "mo=M/Na     #Units in Kg\n",
    "k=1.38*10**-23      #units in J/K\n",
    "T=27+273.0      #Units in K\n",
    "v2=(3*k*T)/mo      #unit in Meter**2/Sec**2\n",
    "v=math.sqrt(v2)       #Units in meter/sec\n",
    "print \"The nitrogen molecule goes at a speed of V=\",round(v),\" meter/sec\"\n",
    "  #In text book the answer is printed wrong as v=517 m/sec the correct answer is v=516 meter/ sec\n"
   ]
  }
 ],
 "metadata": {
  "kernelspec": {
   "display_name": "Python 2",
   "language": "python",
   "name": "python2"
  },
  "language_info": {
   "codemirror_mode": {
    "name": "ipython",
    "version": 2
   },
   "file_extension": ".py",
   "mimetype": "text/x-python",
   "name": "python",
   "nbconvert_exporter": "python",
   "pygments_lexer": "ipython2",
   "version": "2.7.11"
  }
 },
 "nbformat": 4,
 "nbformat_minor": 0
}
