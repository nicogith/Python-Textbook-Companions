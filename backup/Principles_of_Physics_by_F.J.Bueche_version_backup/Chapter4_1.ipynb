{
 "cells": [
  {
   "cell_type": "markdown",
   "metadata": {},
   "source": [
    "# Chapter04: Newtons Law"
   ]
  },
  {
   "cell_type": "markdown",
   "metadata": {},
   "source": [
    "## Ex4.1:pg-147"
   ]
  },
  {
   "cell_type": "code",
   "execution_count": 1,
   "metadata": {
    "collapsed": false
   },
   "outputs": [
    {
     "name": "stdout",
     "output_type": "stream",
     "text": [
      "The force required is F= 900.0  N\n"
     ]
    }
   ],
   "source": [
    "  import math   #Example 4_1\n",
    " \n",
    "  \n",
    "  #To calculate the force required\n",
    "vf=12    #units in meters/sec\n",
    "v0=0     #units in meters/sec\n",
    "t=8    #units in sec\n",
    "a=(vf-v0)/t     #units in meters/sec**2\n",
    "m=900    #units in Kg\n",
    "F=m*a    #units in Newtons\n",
    "print \"The force required is F=\",round(F),\" N\"\n"
   ]
  },
  {
   "cell_type": "markdown",
   "metadata": {},
   "source": [
    "## Ex4.2:pg-147"
   ]
  },
  {
   "cell_type": "code",
   "execution_count": 2,
   "metadata": {
    "collapsed": false
   },
   "outputs": [
    {
     "name": "stdout",
     "output_type": "stream",
     "text": [
      "The Frictional force that is required is f= 540.0  N\n"
     ]
    }
   ],
   "source": [
    "  import math   #Example 4_2\n",
    " \n",
    "  \n",
    "  #To find the friction force that opposes the motion\n",
    "F1=500    #units in Newtons\n",
    "F2=800    #units in Newtons\n",
    "theta=30    #units in degrees\n",
    "Fn=F1+(F2*math.sin(theta*math.pi/180))    #units in Newtons\n",
    "u=0.6\n",
    "f=u*Fn     #units in Newtons\n",
    "print \"The Frictional force that is required is f=\",round(f),\" N\"\n"
   ]
  },
  {
   "cell_type": "markdown",
   "metadata": {},
   "source": [
    "## Ex4.3:pg-153"
   ]
  },
  {
   "cell_type": "code",
   "execution_count": 4,
   "metadata": {
    "collapsed": false
   },
   "outputs": [
    {
     "name": "stdout",
     "output_type": "stream",
     "text": [
      "The wagon accelerates at ax= 8.7  meters/sec**2\n",
      "\n",
      "Force by which the ground pushing is P= 30.0  N\n"
     ]
    }
   ],
   "source": [
    "  import math   #Example 4_3\n",
    " \n",
    "  \n",
    "  #To find out at what rate the wagon accelerate and how large a force the ground pushing up on wagon\n",
    "F1=90     #units in Newtons\n",
    "F2=60     #units in Newtons\n",
    "P=F1-F2    #units in Newtons\n",
    "F3=100     #units in Newtons\n",
    "F4=math.sqrt(F3**2-F2**2)    #units in Newtons\n",
    "a=9.8    #units in meters/sec**2\n",
    "ax=(F4*a)/F1     #units in Meters/sec**2\n",
    "print \"The wagon accelerates at ax=\",round(ax,1),\" meters/sec**2\\n\"\n",
    "print \"Force by which the ground pushing is P=\",round(P),\" N\"\n"
   ]
  },
  {
   "cell_type": "markdown",
   "metadata": {},
   "source": [
    "## Ex4.4:pg-153"
   ]
  },
  {
   "cell_type": "code",
   "execution_count": 5,
   "metadata": {
    "collapsed": false
   },
   "outputs": [
    {
     "name": "stdout",
     "output_type": "stream",
     "text": [
      "The car goes by x= 21.1  meters\n"
     ]
    }
   ],
   "source": [
    "  import math   #Example 4_4\n",
    " \n",
    "  \n",
    "  # To calculate How far does the car goes\n",
    "w1=3300      #units in lb\n",
    "F1=4.45     #units in Newtons\n",
    "w2=1       #units in lb\n",
    "weight=w1*(F1/w2)    #units in Newtons\n",
    "g=9.8     #units in meters/sec**2\n",
    "Mass=weight/g     #units in Kg\n",
    "speed=38     #units in mi/h\n",
    "speed=speed*(1.61)*(1/3600)     #units in Km/sec\n",
    "stoppingforce=0.7*(weight)     #units in Newtons\n",
    "a=stoppingforce/-(Mass)     #units in meters/sec**2\n",
    "vf=0\n",
    "v0=17     #units in meters/sec\n",
    "x=(vf**2-v0**2)/(2*a)\n",
    "print \"The car goes by x=\",round(x,1),\" meters\"\n",
    "  #In text book the answer is printed wrong as x=20.9 meters the correct answer is x=21.1 meters\n"
   ]
  },
  {
   "cell_type": "markdown",
   "metadata": {},
   "source": [
    "## Ex4.5:pg-155"
   ]
  },
  {
   "cell_type": "code",
   "execution_count": 6,
   "metadata": {
    "collapsed": false
   },
   "outputs": [
    {
     "name": "stdout",
     "output_type": "stream",
     "text": [
      "Acceleration is a= 3.3  meters/sec**2\n"
     ]
    }
   ],
   "source": [
    "  import math   #Example 4_5\n",
    " \n",
    "  \n",
    "  #To find the acceleration of the masses\n",
    "w1=10     #units in Kg\n",
    "w2=5     #units in Kg\n",
    "f1=98     #units in Newtons\n",
    "f2=49     #units in Newtons\n",
    "w=w1/w2\n",
    "T=round((f1+(w*f2))/(w+1))     #units in Newtons\n",
    "a=(f1-T)/w1     #units in meters/sec**2\n",
    "print \"Acceleration is a=\",round(a,1),\" meters/sec**2\"\n"
   ]
  },
  {
   "cell_type": "markdown",
   "metadata": {},
   "source": [
    "## Ex4.6:pg-156"
   ]
  },
  {
   "cell_type": "code",
   "execution_count": 7,
   "metadata": {
    "collapsed": false
   },
   "outputs": [
    {
     "name": "stdout",
     "output_type": "stream",
     "text": [
      "Acceleration a= 3.1  meters/sec**2\n"
     ]
    }
   ],
   "source": [
    "  import math   #Example 4_6\n",
    " \n",
    "\n",
    "  #To find the acceleration of the objects\n",
    "w1=0.4     #units in Kg\n",
    "w2=0.2      #units in Kg\n",
    "w=w1/w2\n",
    "a=9.8     #units in meters/sec**2\n",
    "f=0.098     #units in Newtons\n",
    "c=w2*a     #units in Newtons\n",
    "T=((w*c)+f)/(1+w)       #units in Newtons\n",
    "a=(T-f)/w1     #units in meters/sec**2\n",
    "print \"Acceleration a=\",round(a,1),\" meters/sec**2\"\n"
   ]
  },
  {
   "cell_type": "markdown",
   "metadata": {},
   "source": [
    "## Ex4.7:pg-157"
   ]
  },
  {
   "cell_type": "code",
   "execution_count": 8,
   "metadata": {
    "collapsed": false
   },
   "outputs": [
    {
     "name": "stdout",
     "output_type": "stream",
     "text": [
      "The lower limit of the speed v0= 8.3  meter/sec\n"
     ]
    }
   ],
   "source": [
    "  import math   #Example 4_7\n",
    " \n",
    "  \n",
    "  #To estimate the lower limit for the speed\n",
    "  #In a practical situation u should be atleast 0.5\n",
    "u=0.5\n",
    "g=9.8     #units in meter/sec**2\n",
    "x=7     #units in meters\n",
    "v0=math.sqrt(2*u*g*x)     #units in meters/sec\n",
    "print \"The lower limit of the speed v0=\",round(v0,1),\" meter/sec\"\n"
   ]
  },
  {
   "cell_type": "markdown",
   "metadata": {},
   "source": [
    "## Ex4.9:pg-158"
   ]
  },
  {
   "cell_type": "code",
   "execution_count": 9,
   "metadata": {
    "collapsed": false
   },
   "outputs": [
    {
     "name": "stdout",
     "output_type": "stream",
     "text": [
      "The force required is P= 600.0  N\n"
     ]
    }
   ],
   "source": [
    "  import math   #Example 4_9\n",
    " \n",
    "  \n",
    "  #To calculate how large a force must push on car to accelerate\n",
    "m=1200    #units in Kg\n",
    "g=9.8     #units in meters/sec**2\n",
    "d1=4     #units in meters\n",
    "d2=40     #units in meters\n",
    "a=0.5     #units in meters/sec**2\n",
    "P=((m*g)*(d1/d2))+(m*a)     #units in Newtons\n",
    "print \"The force required is P=\",round(P),\" N\"\n",
    "  #In text book the answer is printed wrong as P=1780 N but the correct answer is P=1776 N\n"
   ]
  },
  {
   "cell_type": "markdown",
   "metadata": {},
   "source": [
    "## Ex4.10:pg-159"
   ]
  },
  {
   "cell_type": "code",
   "execution_count": 10,
   "metadata": {
    "collapsed": false
   },
   "outputs": [
    {
     "name": "stdout",
     "output_type": "stream",
     "text": [
      "The tension in the rope is T= 568.0  N\n"
     ]
    }
   ],
   "source": [
    "  import math   #Example 4_10\n",
    " \n",
    "  \n",
    "  #To calculate the tension in the rope\n",
    "u=0.7\n",
    "sintheta=(6.0/10)\n",
    "w1=50     #units in Kg\n",
    "g=9.8     #units in meter/sec**2\n",
    "costheta=(8.0/10)\n",
    "Fn=w1*g*costheta      #units in Newtons\n",
    "f=u*Fn     #units in Newtons\n",
    "T=f+(w1*g*sintheta)\n",
    "print \"The tension in the rope is T=\",round(T),\" N\"\n"
   ]
  },
  {
   "cell_type": "markdown",
   "metadata": {},
   "source": [
    "## Ex4.11:pg-159"
   ]
  },
  {
   "cell_type": "code",
   "execution_count": 11,
   "metadata": {
    "collapsed": false
   },
   "outputs": [
    {
     "name": "stdout",
     "output_type": "stream",
     "text": [
      "Acceleration a= 1.6  meters/sec**2\n"
     ]
    }
   ],
   "source": [
    "  import math   #Example 4_11\n",
    " \n",
    "  \n",
    "  #To find the acceleration of the system\n",
    "w1=7.0     #units in Kg\n",
    "a=9.8     #units in meters/sec**2\n",
    "w2=5     #units in Kg\n",
    "w=w1/w2\n",
    "F1=29.4     #units in Newtons\n",
    "F2=20     #units in Newtons\n",
    "f=(F1+F2)      #units in Newtons\n",
    "T1=w1*a      #units in Newtons\n",
    "T=(T1+(w*f))/(1+w)      #units in Newtons\n",
    "a=((w1*a)-T)/w1     #units in meters/sec**2\n",
    "print \"Acceleration a=\",round(a,2),\" meters/sec**2\"\n"
   ]
  }
 ],
 "metadata": {
  "kernelspec": {
   "display_name": "Python 2",
   "language": "python",
   "name": "python2"
  },
  "language_info": {
   "codemirror_mode": {
    "name": "ipython",
    "version": 2
   },
   "file_extension": ".py",
   "mimetype": "text/x-python",
   "name": "python",
   "nbconvert_exporter": "python",
   "pygments_lexer": "ipython2",
   "version": "2.7.11"
  }
 },
 "nbformat": 4,
 "nbformat_minor": 0
}
