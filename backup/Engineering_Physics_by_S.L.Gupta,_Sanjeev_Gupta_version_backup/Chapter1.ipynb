{
 "cells": [
  {
   "cell_type": "markdown",
   "metadata": {},
   "source": [
    "# 1: Bonding in Solids"
   ]
  },
  {
   "cell_type": "markdown",
   "metadata": {},
   "source": [
    "# Example number 1.1, Page number 10"
   ]
  },
  {
   "cell_type": "code",
   "execution_count": 1,
   "metadata": {
    "collapsed": false
   },
   "outputs": [
    {
     "name": "stdout",
     "output_type": "stream",
     "text": [
      "potential energy is -3.981 eV\n"
     ]
    }
   ],
   "source": [
    "#importing modules\n",
    "import math\n",
    "from __future__ import division\n",
    "\n",
    "#Variable declaration    \n",
    "e=1.6*10**-19;      #charge(coulomb)\n",
    "x=9*10**9;          \n",
    "r0=2.81*10**-10;    #equilibrium distance(m)\n",
    "A=1.748;      #madelung constant\n",
    "n=9;       #repulsive exponent value\n",
    "\n",
    "#Calculations\n",
    "U0=-(x*A*e/r0)*(1-1/n);       #potential energy(eV)\n",
    "\n",
    "#Result\n",
    "print \"potential energy is\",round(U0/2,3),\"eV\""
   ]
  },
  {
   "cell_type": "markdown",
   "metadata": {},
   "source": [
    "# Example number 1.2, Page number 10"
   ]
  },
  {
   "cell_type": "code",
   "execution_count": 2,
   "metadata": {
    "collapsed": false
   },
   "outputs": [
    {
     "name": "stdout",
     "output_type": "stream",
     "text": [
      "ionic cohesive energy is -6.45 eV\n",
      "atomic cohesive energy is -6.17 eV\n"
     ]
    }
   ],
   "source": [
    "#importing modules\n",
    "import math\n",
    "from __future__ import division\n",
    "\n",
    "#Variable declaration    \n",
    "e=1.6*10**-19;      #charge(coulomb)\n",
    "x=9*10**9;          \n",
    "r0=3.56*10**-10;    #equilibrium distance(m)\n",
    "A=1.763;      #madelung constant\n",
    "n=10.5;       #repulsive exponent value\n",
    "IE=3.89;      #ionisation energy(eV)\n",
    "EA=-3.61;     #electron affinity(eV)\n",
    "\n",
    "#Calculations\n",
    "U0=-(x*A*e/r0)*(1-1/n);       #ionic cohesive energy(eV)\n",
    "U=U0+IE+EA;               #atomic cohesive energy(eV)\n",
    "\n",
    "#Result\n",
    "print \"ionic cohesive energy is\",round(U0,2),\"eV\"\n",
    "print \"atomic cohesive energy is\",round(U,2),\"eV\""
   ]
  },
  {
   "cell_type": "markdown",
   "metadata": {},
   "source": [
    "# Example number 1.3, Page number 11"
   ]
  },
  {
   "cell_type": "code",
   "execution_count": 3,
   "metadata": {
    "collapsed": false
   },
   "outputs": [
    {
     "name": "stdout",
     "output_type": "stream",
     "text": [
      "binding energy is 669 *10**3 kJ/kmol\n",
      "answer in the book varies due to rounding off errors\n"
     ]
    }
   ],
   "source": [
    "#importing modules\n",
    "import math\n",
    "from __future__ import division\n",
    "\n",
    "#Variable declaration    \n",
    "N=6.02*10**26;           #Avagadro Number\n",
    "e=1.6*10**-19;      #charge(coulomb)\n",
    "x=9*10**9;          \n",
    "r0=0.324*10**-9;    #equilibrium distance(m)\n",
    "A=1.748;      #madelung constant\n",
    "n=9.5;       #repulsive exponent value\n",
    "\n",
    "#Calculations\n",
    "U0=(A*e*x/r0)*(1-1/n);     \n",
    "U=round(U0,2)*N*e*10**-3;      #binding energy(kJ/kmol)\n",
    "\n",
    "#Result\n",
    "print \"binding energy is\",int(U/10**3),\"*10**3 kJ/kmol\"\n",
    "print \"answer in the book varies due to rounding off errors\""
   ]
  }
 ],
 "metadata": {
  "kernelspec": {
   "display_name": "Python 2",
   "language": "python",
   "name": "python2"
  },
  "language_info": {
   "codemirror_mode": {
    "name": "ipython",
    "version": 2
   },
   "file_extension": ".py",
   "mimetype": "text/x-python",
   "name": "python",
   "nbconvert_exporter": "python",
   "pygments_lexer": "ipython2",
   "version": "2.7.11"
  }
 },
 "nbformat": 4,
 "nbformat_minor": 0
}
