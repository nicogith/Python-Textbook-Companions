{
 "cells": [
  {
   "cell_type": "markdown",
   "metadata": {},
   "source": [
    "# 9: Physics of Semiconductor Devices"
   ]
  },
  {
   "cell_type": "markdown",
   "metadata": {},
   "source": [
    "# Example number 9.1, Page number 256"
   ]
  },
  {
   "cell_type": "code",
   "execution_count": 1,
   "metadata": {
    "collapsed": false
   },
   "outputs": [
    {
     "name": "stdout",
     "output_type": "stream",
     "text": [
      "value of current is 120.73 micro A\n"
     ]
    }
   ],
   "source": [
    "#importing modules\n",
    "import math\n",
    "from __future__ import division\n",
    "\n",
    "#Variable declaration    \n",
    "I0=0.3;     #current(micro A)\n",
    "V=0.15;      #voltage(V)\n",
    "\n",
    "#Calculations\n",
    "I=I0*(math.exp(40*V)-1);      #value of current(micro A)\n",
    "\n",
    "#Result\n",
    "print \"value of current is\",round(I,2),\"micro A\""
   ]
  },
  {
   "cell_type": "markdown",
   "metadata": {},
   "source": [
    "# Example number 9.2, Page number 256"
   ]
  },
  {
   "cell_type": "code",
   "execution_count": 2,
   "metadata": {
    "collapsed": false
   },
   "outputs": [
    {
     "name": "stdout",
     "output_type": "stream",
     "text": [
      "reverse saturation current is 5.043 nA\n",
      "answer in the book is wrong\n"
     ]
    }
   ],
   "source": [
    "#importing modules\n",
    "import math\n",
    "from __future__ import division\n",
    "\n",
    "#Variable declaration    \n",
    "I=10*10**-3;     #current(A)\n",
    "V=0.75;      #voltage(V)\n",
    "T=300;    #temperature(K)\n",
    "eta=2;\n",
    "\n",
    "#Calculations\n",
    "VT=T/11600;\n",
    "I0=I*10**9/(math.exp(V/(eta*VT))-1);      #reverse saturation current(nA)\n",
    "\n",
    "#Result\n",
    "print \"reverse saturation current is\",round(I0,3),\"nA\"\n",
    "print \"answer in the book is wrong\""
   ]
  },
  {
   "cell_type": "markdown",
   "metadata": {},
   "source": [
    "# Example number 9.3, Page number 256"
   ]
  },
  {
   "cell_type": "code",
   "execution_count": 3,
   "metadata": {
    "collapsed": false
   },
   "outputs": [
    {
     "name": "stdout",
     "output_type": "stream",
     "text": [
      "voltage applied is 0.3336 V\n"
     ]
    }
   ],
   "source": [
    "#importing modules\n",
    "import math\n",
    "from __future__ import division\n",
    "\n",
    "#Variable declaration    \n",
    "J=10**5;     #current density(amp/m**2)\n",
    "T=300;    #temperature(K)\n",
    "eta=1;\n",
    "J0=250*10**-3;     #saturation current density(A/m**2)\n",
    "\n",
    "#Calculations\n",
    "VT=T/11600;\n",
    "x=(J/J0)+1;\n",
    "V=math.log(x)*VT;     #voltage applied(V)\n",
    "\n",
    "#Result\n",
    "print \"voltage applied is\",round(V,4),\"V\""
   ]
  },
  {
   "cell_type": "markdown",
   "metadata": {},
   "source": [
    "# Example number 9.4, Page number 257"
   ]
  },
  {
   "cell_type": "code",
   "execution_count": 4,
   "metadata": {
    "collapsed": false
   },
   "outputs": [
    {
     "name": "stdout",
     "output_type": "stream",
     "text": [
      "rectification ratio is 343\n",
      "answer in the book is wrong\n"
     ]
    }
   ],
   "source": [
    "#importing modules\n",
    "import math\n",
    "from __future__ import division\n",
    "\n",
    "#Variable declaration    \n",
    "I0=4*10**-6;     #current(A)\n",
    "T=273+25;    #temperature(K)\n",
    "V=0.15;      #voltage(V)\n",
    "eta=1;\n",
    "\n",
    "#Calculations\n",
    "VT=T/11600;\n",
    "IF=I0*(math.exp(V/VT)-1);     #forward current(A)\n",
    "IR=I0*(math.exp(-V/VT)-1);     #reverse current(A)\n",
    "r=-IF/IR;       #rectification ratio\n",
    "\n",
    "#Result\n",
    "print \"rectification ratio is\",int(r)\n",
    "print \"answer in the book is wrong\""
   ]
  },
  {
   "cell_type": "markdown",
   "metadata": {},
   "source": [
    "# Example number 9.5, Page number 257"
   ]
  },
  {
   "cell_type": "code",
   "execution_count": 5,
   "metadata": {
    "collapsed": false
   },
   "outputs": [
    {
     "name": "stdout",
     "output_type": "stream",
     "text": [
      "voltage applied is -0.06 Volt\n"
     ]
    }
   ],
   "source": [
    "#importing modules\n",
    "import math\n",
    "from __future__ import division\n",
    "\n",
    "#Variable declaration    \n",
    "T=300;    #temperature(K)\n",
    "eta=1;\n",
    "I0=1;\n",
    "I=-0.9*I0;     #saturation current density(A/m**2)\n",
    "\n",
    "#Calculations\n",
    "VT=T/11600;\n",
    "x=(I/I0)+1;\n",
    "V=math.log(x)*VT;     #voltage applied(V)\n",
    "\n",
    "#Result\n",
    "print \"voltage applied is\",round(V,2),\"Volt\""
   ]
  }
 ],
 "metadata": {
  "kernelspec": {
   "display_name": "Python 2",
   "language": "python",
   "name": "python2"
  },
  "language_info": {
   "codemirror_mode": {
    "name": "ipython",
    "version": 2
   },
   "file_extension": ".py",
   "mimetype": "text/x-python",
   "name": "python",
   "nbconvert_exporter": "python",
   "pygments_lexer": "ipython2",
   "version": "2.7.11"
  }
 },
 "nbformat": 4,
 "nbformat_minor": 0
}
