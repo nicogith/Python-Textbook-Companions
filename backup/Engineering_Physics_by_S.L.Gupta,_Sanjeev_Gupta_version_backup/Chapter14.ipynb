{
 "cells": [
  {
   "cell_type": "markdown",
   "metadata": {},
   "source": [
    "# 14: Acoustics of Buildings and Acoustic Quieting"
   ]
  },
  {
   "cell_type": "markdown",
   "metadata": {},
   "source": [
    "# Example number 14.1, Page number 399"
   ]
  },
  {
   "cell_type": "code",
   "execution_count": 1,
   "metadata": {
    "collapsed": false
   },
   "outputs": [
    {
     "name": "stdout",
     "output_type": "stream",
     "text": [
      "total absorption in hall is 825.0 OWU\n"
     ]
    }
   ],
   "source": [
    "#importing modules\n",
    "import math\n",
    "from __future__ import division\n",
    "\n",
    "#Variable declaration    \n",
    "V=7500;      #volume(m**3)\n",
    "T=1.5;       #time(sec)\n",
    "\n",
    "#Calculations\n",
    "aS=0.165*V/T;     #total absorption in hall(OWU)\n",
    "\n",
    "#Result\n",
    "print \"total absorption in hall is\",aS,\"OWU\""
   ]
  },
  {
   "cell_type": "markdown",
   "metadata": {},
   "source": [
    "# Example number 14.2, Page number 399"
   ]
  },
  {
   "cell_type": "code",
   "execution_count": 2,
   "metadata": {
    "collapsed": false
   },
   "outputs": [
    {
     "name": "stdout",
     "output_type": "stream",
     "text": [
      "reverberation time when hall is empty is 2.08 sec\n",
      "reverberation time with full capacity of audience is 0.362 sec\n",
      "reverberation time with audience in cushioned chairs is 0.42 sec\n"
     ]
    }
   ],
   "source": [
    "#importing modules\n",
    "import math\n",
    "from __future__ import division\n",
    "\n",
    "#Variable declaration    \n",
    "V=1500;      #volume(m**3)\n",
    "A1=112;      #area of plastered walls(m**2)\n",
    "A2=130;      #area of wooden floor(m**2)\n",
    "A3=170;      #area of plastered ceiling(m**2)\n",
    "A4=20;       #area of wooden door(m**2)\n",
    "n=100;     #number of cushioned chairs\n",
    "A5=120;    #area of audience(m**2)\n",
    "C1=0.03;    #coefficient of absorption in plastered walls\n",
    "C2=0.06;    #coefficient of absorption in wooden floor\n",
    "C3=0.04;    #coefficient of absorption in plastered ceiling\n",
    "C4=0.06;    #coefficient of absorption in wooden door\n",
    "C5=1.0;     #coefficient of absorption in cushioned chairs\n",
    "C6=4.7;     #coefficient of absorption in audience\n",
    "\n",
    "#Calculations\n",
    "a1=A1*C1;    #absorption due to plastered walls\n",
    "a2=A2*C2;    #absorption due to wooden floor\n",
    "a3=A3*C3;    #absorption due to plastered ceiling\n",
    "a4=A4*C4;    #absorption due to wooden door\n",
    "a5=n*C5;     #absorption due to cushioned chairs\n",
    "a6=A5*C6;    #absorption due to audience \n",
    "aS=a1+a2+a3+a4+a5;       #total absorption in hall\n",
    "T1=0.165*V/aS;       #reverberation time when hall is empty(sec)\n",
    "T2=0.165*V/(aS+a6);    #reverberation time with full capacity of audience(sec)\n",
    "T3=0.165*V/((n*C6)+aS);    #reverberation time with audience in cushioned chairs(sec)\n",
    "\n",
    "#Result\n",
    "print \"reverberation time when hall is empty is\",round(T1,2),\"sec\"\n",
    "print \"reverberation time with full capacity of audience is\",round(T2,3),\"sec\"\n",
    "print \"reverberation time with audience in cushioned chairs is\",round(T3,2),\"sec\""
   ]
  },
  {
   "cell_type": "markdown",
   "metadata": {},
   "source": [
    "# Example number 14.3, Page number 401"
   ]
  },
  {
   "cell_type": "code",
   "execution_count": 3,
   "metadata": {
    "collapsed": false
   },
   "outputs": [
    {
     "name": "stdout",
     "output_type": "stream",
     "text": [
      "average sound absorption coefficient is 0.24\n",
      "reverberation time is 1.8 sec\n"
     ]
    }
   ],
   "source": [
    "#importing modules\n",
    "import math\n",
    "from __future__ import division\n",
    "\n",
    "#Variable declaration    \n",
    "V=1200;      #volume(m**3)\n",
    "a1=220;      #area of wall(m**2)\n",
    "a2=120;      #area of floor(m**2)\n",
    "a3=120;      #area of ceiling(m**2)\n",
    "C1=0.03;    #coefficient of absorption in wall\n",
    "C2=0.80;    #coefficient of absorption in floor\n",
    "C3=0.06;    #coefficient of absorption in ceiling\n",
    "\n",
    "#Calculations\n",
    "A1=a1*C1;    #absorption due to plastered walls\n",
    "A2=a2*C2;    #absorption due to wooden floor\n",
    "A3=a3*C3;    #absorption due to plastered ceiling\n",
    "aS=a1+a2+a3;       #total absorption in hall\n",
    "abar=(A1+A2+A3)/aS;    #average sound absorption coefficient\n",
    "AS=abar*aS;       #total absorption of room(metric sabines)\n",
    "T=0.165*V/AS;       #reverberation time(sec)\n",
    "\n",
    "#Result\n",
    "print \"average sound absorption coefficient is\",round(abar,2)\n",
    "print \"reverberation time is\",round(T,1),\"sec\""
   ]
  },
  {
   "cell_type": "markdown",
   "metadata": {},
   "source": [
    "# Example number 14.4, Page number 401"
   ]
  },
  {
   "cell_type": "code",
   "execution_count": 5,
   "metadata": {
    "collapsed": false
   },
   "outputs": [
    {
     "name": "stdout",
     "output_type": "stream",
     "text": [
      "acoustic power is 1.4e-06 watt\n",
      "answer in the book is wrong\n"
     ]
    }
   ],
   "source": [
    "#importing modules\n",
    "import math\n",
    "from __future__ import division\n",
    "\n",
    "#Variable declaration    \n",
    "I0=10**-12;      #standard intensity level(watt/m**2)\n",
    "A=1.4;     #area(m**2)\n",
    "il=60;     #intensity level(decibels)\n",
    "\n",
    "#Calculations\n",
    "x=10**(il/10);\n",
    "I=x*10**-12;      #intensity level(watt/m**2)\n",
    "Ap=I*A;      #acoustic power(watt)\n",
    "\n",
    "#Result\n",
    "print \"acoustic power is\",Ap,\"watt\"\n",
    "print \"answer in the book is wrong\""
   ]
  }
 ],
 "metadata": {
  "kernelspec": {
   "display_name": "Python 2",
   "language": "python",
   "name": "python2"
  },
  "language_info": {
   "codemirror_mode": {
    "name": "ipython",
    "version": 2
   },
   "file_extension": ".py",
   "mimetype": "text/x-python",
   "name": "python",
   "nbconvert_exporter": "python",
   "pygments_lexer": "ipython2",
   "version": "2.7.11"
  }
 },
 "nbformat": 4,
 "nbformat_minor": 0
}
