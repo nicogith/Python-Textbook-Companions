{
 "cells": [
  {
   "cell_type": "markdown",
   "metadata": {},
   "source": [
    "# 12: Lasers"
   ]
  },
  {
   "cell_type": "markdown",
   "metadata": {},
   "source": [
    "# Example number 12.1, Page number 360"
   ]
  },
  {
   "cell_type": "code",
   "execution_count": 1,
   "metadata": {
    "collapsed": false
   },
   "outputs": [
    {
     "name": "stdout",
     "output_type": "stream",
     "text": [
      "energy of photon is 1.96 eV\n",
      "momentum of photon is 1.05 *10**-27 kg m/s\n"
     ]
    }
   ],
   "source": [
    "#importing modules\n",
    "import math\n",
    "from __future__ import division\n",
    "\n",
    "#Variable declaration\n",
    "e=1.6*10**-19;     #charge(coulomb)\n",
    "c=3*10**8;   #velocity of matter wave(m/s)\n",
    "h=6.62*10**-34;    #plank's constant(Js)\n",
    "lamda=6328*10**-10;    #wavelength(m)\n",
    "\n",
    "#Calculation\n",
    "E=h*c/(lamda*e);    #energy of photon(eV)\n",
    "p=h/lamda;      #momentum of photon(kg m/s)\n",
    "\n",
    "#Result\n",
    "print \"energy of photon is\",round(E,2),\"eV\"\n",
    "print \"momentum of photon is\",round(p*10**27,2),\"*10**-27 kg m/s\""
   ]
  },
  {
   "cell_type": "markdown",
   "metadata": {},
   "source": [
    "# Example number 12.2, Page number 360"
   ]
  },
  {
   "cell_type": "code",
   "execution_count": 2,
   "metadata": {
    "collapsed": false
   },
   "outputs": [
    {
     "name": "stdout",
     "output_type": "stream",
     "text": [
      "energy of laser pulse is 7.94 joule\n"
     ]
    }
   ],
   "source": [
    "#importing modules\n",
    "import math\n",
    "from __future__ import division\n",
    "\n",
    "#Variable declaration\n",
    "c=3*10**8;   #velocity of matter wave(m/s)\n",
    "h=6.62*10**-34;    #plank's constant(Js)\n",
    "lamda=7000*10**-10;    #wavelength(m)\n",
    "n=2.8*10**19;       #number of ions\n",
    "\n",
    "#Calculation\n",
    "E=n*h*c/lamda;    #energy of laser pulse(joule)\n",
    "\n",
    "#Result\n",
    "print \"energy of laser pulse is\",round(E,2),\"joule\""
   ]
  },
  {
   "cell_type": "markdown",
   "metadata": {},
   "source": [
    "# Example number 12.3, Page number 361"
   ]
  },
  {
   "cell_type": "code",
   "execution_count": 3,
   "metadata": {
    "collapsed": false
   },
   "outputs": [
    {
     "name": "stdout",
     "output_type": "stream",
     "text": [
      "number of oscillations is 5 *10**4\n",
      "coherence time is 9.82 *10**-11 s\n"
     ]
    }
   ],
   "source": [
    "#importing modules\n",
    "import math\n",
    "from __future__ import division\n",
    "\n",
    "#Variable declaration\n",
    "c=3*10**8;   #velocity of matter wave(m/s)\n",
    "l=2.945*10**-2;\n",
    "lamda=5890*10**-10;    #wavelength(m)\n",
    "\n",
    "#Calculation\n",
    "n=l/lamda;       #number of oscillations\n",
    "tow_c=l/c;       #coherence time(s)\n",
    "\n",
    "#Result\n",
    "print \"number of oscillations is\",int(n/10**4),\"*10**4\"\n",
    "print \"coherence time is\",round(tow_c*10**11,2),\"*10**-11 s\""
   ]
  },
  {
   "cell_type": "markdown",
   "metadata": {},
   "source": [
    "# Example number 12.4, Page number 361"
   ]
  },
  {
   "cell_type": "code",
   "execution_count": 4,
   "metadata": {
    "collapsed": false
   },
   "outputs": [
    {
     "name": "stdout",
     "output_type": "stream",
     "text": [
      "intensity of beam is 7.5 kW/m**2\n"
     ]
    }
   ],
   "source": [
    "#importing modules\n",
    "import math\n",
    "from __future__ import division\n",
    "\n",
    "#Variable declaration\n",
    "P=10*10**-3;     #power(W)\n",
    "d=1.3*10**-3;      #diameter(m)\n",
    "\n",
    "#Calculation\n",
    "I=4*P/(math.pi*d**2);      #intensity of beam(W/m**2)\n",
    "\n",
    "#Result\n",
    "print \"intensity of beam is\",round(I/10**3,1),\"kW/m**2\""
   ]
  },
  {
   "cell_type": "markdown",
   "metadata": {},
   "source": [
    "# Example number 12.5, Page number 361"
   ]
  },
  {
   "cell_type": "code",
   "execution_count": 5,
   "metadata": {
    "collapsed": false
   },
   "outputs": [
    {
     "name": "stdout",
     "output_type": "stream",
     "text": [
      "number of ions is 3.49 *10**18\n"
     ]
    }
   ],
   "source": [
    "#importing modules\n",
    "import math\n",
    "from __future__ import division\n",
    "\n",
    "#Variable declaration\n",
    "c=3*10**8;   #velocity of matter wave(m/s)\n",
    "h=6.62*10**-34;    #plank's constant(Js)\n",
    "lamda=6940*10**-10;    #wavelength(m)\n",
    "P=1;     #power(J)\n",
    "\n",
    "#Calculation\n",
    "n=P*lamda/(h*c);    #number of ions\n",
    "\n",
    "#Result\n",
    "print \"number of ions is\",round(n/10**18,2),\"*10**18\""
   ]
  },
  {
   "cell_type": "markdown",
   "metadata": {},
   "source": [
    "# Example number 12.6, Page number 362"
   ]
  },
  {
   "cell_type": "code",
   "execution_count": 8,
   "metadata": {
    "collapsed": false
   },
   "outputs": [
    {
     "name": "stdout",
     "output_type": "stream",
     "text": [
      "population ratio is e** -80\n"
     ]
    }
   ],
   "source": [
    "#importing modules\n",
    "import math\n",
    "from __future__ import division\n",
    "\n",
    "#Variable declaration\n",
    "c=3*10**8;   #velocity of matter wave(m/s)\n",
    "h=6.62*10**-34;    #plank's constant(Js)\n",
    "lamda=6*10**-7;    #wavelength(m)\n",
    "e=1.6*10**-19;     #charge(coulomb)\n",
    "k=8.6*10**-5;\n",
    "T=300;        #temperature(K)\n",
    "\n",
    "#Calculation\n",
    "E=h*c/(lamda*e);    #energy(eV)\n",
    "N=-E/(k*T);            #population ratio\n",
    "\n",
    "#Result\n",
    "print \"population ratio is e**\",int(N)"
   ]
  },
  {
   "cell_type": "markdown",
   "metadata": {},
   "source": [
    "# Example number 12.7, Page number 362"
   ]
  },
  {
   "cell_type": "code",
   "execution_count": 9,
   "metadata": {
    "collapsed": false
   },
   "outputs": [
    {
     "name": "stdout",
     "output_type": "stream",
     "text": [
      "coherence length is 11.36 km\n",
      "answer varies due to rounding off errors\n"
     ]
    }
   ],
   "source": [
    "#importing modules\n",
    "import math\n",
    "from __future__ import division\n",
    "\n",
    "#Variable declaration\n",
    "lamda=10.66*10**-6;    #wavelength(m)\n",
    "delta_lamda=10**-5*10**-9;      #line width(m)\n",
    "\n",
    "#Calculation\n",
    "cl=lamda**2/delta_lamda;      #coherence length(m)\n",
    "\n",
    "#Result\n",
    "print \"coherence length is\",round(cl/10**3,2),\"km\"\n",
    "print \"answer varies due to rounding off errors\""
   ]
  },
  {
   "cell_type": "markdown",
   "metadata": {},
   "source": [
    "# Example number 12.8, Page number 362"
   ]
  },
  {
   "cell_type": "code",
   "execution_count": 10,
   "metadata": {
    "collapsed": false
   },
   "outputs": [
    {
     "name": "stdout",
     "output_type": "stream",
     "text": [
      "areal speed is 0.117 *10**-8 m**2\n",
      "intensity of image is 428.48 *10**5 watt/m**2\n",
      "answer given in the book is wrong\n"
     ]
    }
   ],
   "source": [
    "#importing modules\n",
    "import math\n",
    "from __future__ import division\n",
    "\n",
    "#Variable declaration\n",
    "lamda=7000*10**-10;    #wavelength(m)\n",
    "d=5*10**-3;        #aperture(m)\n",
    "f=0.2;       #focal length(m)\n",
    "P=50*10**-3;      #power(W)\n",
    "\n",
    "#Calculation\n",
    "d_theta=1.22*lamda/d;       #angular speed(radian)\n",
    "A=(d_theta*f)**2;           #areal speed(m**2)\n",
    "I=P/A;                #intensity of image(watt/m**2)\n",
    "\n",
    "#Result\n",
    "print \"areal speed is\",round(A*10**8,3),\"*10**-8 m**2\"\n",
    "print \"intensity of image is\",round(I/10**5,2),\"*10**5 watt/m**2\"\n",
    "print \"answer given in the book is wrong\""
   ]
  }
 ],
 "metadata": {
  "kernelspec": {
   "display_name": "Python 2",
   "language": "python",
   "name": "python2"
  },
  "language_info": {
   "codemirror_mode": {
    "name": "ipython",
    "version": 2
   },
   "file_extension": ".py",
   "mimetype": "text/x-python",
   "name": "python",
   "nbconvert_exporter": "python",
   "pygments_lexer": "ipython2",
   "version": "2.7.11"
  }
 },
 "nbformat": 4,
 "nbformat_minor": 0
}
