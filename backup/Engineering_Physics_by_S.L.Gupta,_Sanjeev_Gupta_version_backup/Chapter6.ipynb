{
 "cells": [
  {
   "cell_type": "markdown",
   "metadata": {},
   "source": [
    "# 6: Principles of Quantum Mechanics"
   ]
  },
  {
   "cell_type": "markdown",
   "metadata": {},
   "source": [
    "# Example number 6.1, Page number 157"
   ]
  },
  {
   "cell_type": "code",
   "execution_count": 11,
   "metadata": {
    "collapsed": false
   },
   "outputs": [
    {
     "name": "stdout",
     "output_type": "stream",
     "text": [
      "de-broglie wavelength of ball is 6.625e-34 m\n",
      "de-broglie wavelength of proton is 1.8 angstrom\n",
      "de-broglie wavelength of electron is 2.27 *10**14 m\n",
      "answer for de-broglie wavelength of electron in the book is wrong\n"
     ]
    }
   ],
   "source": [
    "#importing modules\n",
    "import math\n",
    "from __future__ import division\n",
    "\n",
    "#Variable declaration    \n",
    "h=6.625*10**-34;        #planck's constant(J-sec)\n",
    "m=0.05;         #mass(kg)\n",
    "v=20;           #velocity(m/sec)\n",
    "mp=1.67*10**-27;    #mass of proton(kg)\n",
    "vp=2200;      #velocity of proton(m/sec)\n",
    "me=9.11*10**-31;     #mass of electron(kg)\n",
    "E=10*1.602*10**-19;      #kinetic energy(J)\n",
    "\n",
    "#Calculations\n",
    "lamda_ball=h/(m*v);        #de-broglie wavelength of ball(m)\n",
    "lamda_p=h*10**10/(mp*vp);        #de-broglie wavelength of proton(angstrom)\n",
    "lamda_e=h/(2*me*E);        #de-broglie wavelength of electron(m)\n",
    "\n",
    "#Result\n",
    "print \"de-broglie wavelength of ball is\",lamda_ball,\"m\"\n",
    "print \"de-broglie wavelength of proton is\",round(lamda_p,2),\"angstrom\"\n",
    "print \"de-broglie wavelength of electron is\",round(lamda_e/10**14,2),\"*10**14 m\"\n",
    "print \"answer for de-broglie wavelength of electron in the book is wrong\""
   ]
  },
  {
   "cell_type": "markdown",
   "metadata": {},
   "source": [
    "# Example number 6.2, Page number 158"
   ]
  },
  {
   "cell_type": "code",
   "execution_count": 6,
   "metadata": {
    "collapsed": false
   },
   "outputs": [
    {
     "name": "stdout",
     "output_type": "stream",
     "text": [
      "de-broglie wavelength in 1st case is 1.225 angstrom\n",
      "de-broglie wavelength in 2nd case is 0.1225 angstrom\n",
      "de-broglie wavelength in 3rd case is 0.153 angstrom\n",
      "de-broglie wavelength in 4th case is 0.1225 angstrom\n",
      "de-broglie wavelength in 5th case is 0.3963 angstrom\n"
     ]
    }
   ],
   "source": [
    "#importing modules\n",
    "import math\n",
    "from __future__ import division\n",
    "\n",
    "#Variable declaration    \n",
    "h=6.63*10**-34;        #planck's constant(J-sec)\n",
    "m=1.673*10**-27;    #mass of proton(kg)\n",
    "v=10**4;      #velocity of proton(m/sec)\n",
    "V1=100;       #potential difference in 1st case(V)\n",
    "V2=10000;       #potential difference in 2nd case(V)\n",
    "V3=6400;       #potential difference in 3rd case(V)\n",
    "\n",
    "\n",
    "#Calculations\n",
    "lamda1=12.25/math.sqrt(V1)        #de-broglie wavelength in 1st case(angstrom)\n",
    "lamda2=12.25/math.sqrt(V2)        #de-broglie wavelength in 2nd case(angstrom)\n",
    "lamda3=12.25/math.sqrt(V3)        #de-broglie wavelength in 3rd case(angstrom)\n",
    "lamda4=12.25/math.sqrt(V2)        #de-broglie wavelength in 4th case(angstrom)\n",
    "lamda5=h/(m*v);        #de-broglie wavelength of proton(m)\n",
    "\n",
    "#Result\n",
    "print \"de-broglie wavelength in 1st case is\",lamda1,\"angstrom\"\n",
    "print \"de-broglie wavelength in 2nd case is\",lamda2,\"angstrom\"\n",
    "print \"de-broglie wavelength in 3rd case is\",round(lamda3,3),\"angstrom\"\n",
    "print \"de-broglie wavelength in 4th case is\",lamda4,\"angstrom\"\n",
    "print \"de-broglie wavelength of proton is\",round(lamda5*10**10,4),\"angstrom\""
   ]
  },
  {
   "cell_type": "markdown",
   "metadata": {},
   "source": [
    "# Example number 6.3, Page number 158"
   ]
  },
  {
   "cell_type": "code",
   "execution_count": 9,
   "metadata": {
    "collapsed": false
   },
   "outputs": [
    {
     "name": "stdout",
     "output_type": "stream",
     "text": [
      "de-broglie wavelength of proton is 2.64 *10**-14 m\n"
     ]
    }
   ],
   "source": [
    "#importing modules\n",
    "import math\n",
    "from __future__ import division\n",
    "\n",
    "#Variable declaration    \n",
    "h=6.62*10**-34;        #planck's constant(J-sec)\n",
    "m=1.67*10**-27;    #mass of proton(kg)\n",
    "vc=3*10**8;      #velocity of light(m/sec)\n",
    "\n",
    "#Calculations\n",
    "v=vc/20;         #velocity of proton(m/sec)\n",
    "lamda=h/(m*v);        #de-broglie wavelength of proton(m)\n",
    "\n",
    "#Result\n",
    "print \"de-broglie wavelength of proton is\",round(lamda*10**14,2),\"*10**-14 m\""
   ]
  },
  {
   "cell_type": "markdown",
   "metadata": {},
   "source": [
    "# Example number 6.4, Page number 159"
   ]
  },
  {
   "cell_type": "code",
   "execution_count": 13,
   "metadata": {
    "collapsed": false
   },
   "outputs": [
    {
     "name": "stdout",
     "output_type": "stream",
     "text": [
      "energy of neutron is 8.13 *10**-2 eV\n"
     ]
    }
   ],
   "source": [
    "#importing modules\n",
    "import math\n",
    "from __future__ import division\n",
    "\n",
    "#Variable declaration    \n",
    "h=6.60*10**-34;        #planck's constant(J-sec)\n",
    "m=1.674*10**-27;    #mass of proton(kg)\n",
    "lamda=10**-10;        #de-broglie wavelength(m)\n",
    "e=1.6*10**-19;        #charge of electron(c)\n",
    "\n",
    "#Calculations\n",
    "E=h**2/(2*m*lamda**2);      #energy of neutron(J)\n",
    "E=E/e;               #energy of neutron(eV)\n",
    "\n",
    "#Result\n",
    "print \"energy of neutron is\",round(E*10**2,2),\"*10**-2 eV\""
   ]
  },
  {
   "cell_type": "markdown",
   "metadata": {},
   "source": [
    "# Example number 6.5, Page number 159"
   ]
  },
  {
   "cell_type": "code",
   "execution_count": 20,
   "metadata": {
    "collapsed": false
   },
   "outputs": [
    {
     "name": "stdout",
     "output_type": "stream",
     "text": [
      "energy of electron is 167217.6 eV\n",
      "answer in the book is wrong\n"
     ]
    }
   ],
   "source": [
    "#importing modules\n",
    "import math\n",
    "from __future__ import division\n",
    "\n",
    "#Variable declaration    \n",
    "h=6.62*10**-34;        #planck's constant(J-sec)\n",
    "m=9.1*10**-31;    #mass of electron(kg)\n",
    "lamda=3*10**-12;        #de-broglie wavelength(m)\n",
    "e=1.6*10**-19;        #charge of electron(c)\n",
    "\n",
    "#Calculations\n",
    "E=h**2/(2*m*lamda**2);      #energy of electron(J)\n",
    "E=E/e;               #energy of electron(eV)\n",
    "\n",
    "#Result\n",
    "print \"energy of electron is\",round(E,1),\"eV\"\n",
    "print \"answer in the book is wrong\""
   ]
  },
  {
   "cell_type": "markdown",
   "metadata": {},
   "source": [
    "# Example number 6.6, Page number 159"
   ]
  },
  {
   "cell_type": "code",
   "execution_count": 2,
   "metadata": {
    "collapsed": false
   },
   "outputs": [
    {
     "name": "stdout",
     "output_type": "stream",
     "text": [
      "kinetic energy of electron is 4.34 *10**-6 eV\n"
     ]
    }
   ],
   "source": [
    "#importing modules\n",
    "import math\n",
    "from __future__ import division\n",
    "\n",
    "#Variable declaration    \n",
    "h=6.63*10**-34;        #planck's constant(J-sec)\n",
    "m=9.1*10**-31;    #mass of electron(kg)\n",
    "lamda=5896*10**-10;        #de-broglie wavelength(m)\n",
    "e=1.6*10**-19;        #charge of electron(c)\n",
    "\n",
    "#Calculations\n",
    "K=h**2/(2*m*lamda**2);      #energy of electron(J)\n",
    "K=K/e;               #kinetic energy of electron(eV)\n",
    "\n",
    "#Result\n",
    "print \"kinetic energy of electron is\",round(K*10**6,2),\"*10**-6 eV\""
   ]
  },
  {
   "cell_type": "markdown",
   "metadata": {},
   "source": [
    "# Example number 6.7, Page number 160"
   ]
  },
  {
   "cell_type": "code",
   "execution_count": 5,
   "metadata": {
    "collapsed": false
   },
   "outputs": [
    {
     "name": "stdout",
     "output_type": "stream",
     "text": [
      "voltage is 934.9 V\n",
      "answer in the book is wrong\n"
     ]
    }
   ],
   "source": [
    "#importing modules\n",
    "import math\n",
    "from __future__ import division\n",
    "\n",
    "#Variable declaration    \n",
    "h=6.6*10**-34;        #planck's constant(J-sec)\n",
    "m=9.1*10**-31;    #mass of electron(kg)\n",
    "lamda=0.4*10**-10;        #de-broglie wavelength(m)\n",
    "e=1.6*10**-19;        #charge of electron(c)\n",
    "\n",
    "#Calculations\n",
    "V=h**2/(2*m*e*lamda**2);      #voltage(V)\n",
    "\n",
    "#Result\n",
    "print \"voltage is\",round(V,1),\"V\"\n",
    "print \"answer in the book is wrong\""
   ]
  },
  {
   "cell_type": "markdown",
   "metadata": {},
   "source": [
    "# Example number 6.8, Page number 160"
   ]
  },
  {
   "cell_type": "code",
   "execution_count": 11,
   "metadata": {
    "collapsed": false
   },
   "outputs": [
    {
     "name": "stdout",
     "output_type": "stream",
     "text": [
      "velocity of neutron is 3.97 *10**3 m/sec\n",
      "kinetic energy of neutron is 0.08225 eV\n",
      "answer for kinetic energy in the book is wrong\n"
     ]
    }
   ],
   "source": [
    "#importing modules\n",
    "import math\n",
    "from __future__ import division\n",
    "\n",
    "#Variable declaration    \n",
    "h=6.63*10**-34;        #planck's constant(J-sec)\n",
    "m=1.67*10**-27;    #mass of neutron(kg)\n",
    "lamda=10**-10;        #de-broglie wavelength(m)\n",
    "e=1.6*10**-19;        #charge of electron(c)\n",
    "\n",
    "#Calculations\n",
    "v=h/(m*lamda);          #velocity of neutron(m/sec)\n",
    "E=m*v**2/(2*e);      #kinetic energy of neutron(eV)\n",
    "\n",
    "#Result\n",
    "print \"velocity of neutron is\",round(v/10**3,2),\"*10**3 m/sec\"\n",
    "print \"kinetic energy of neutron is\",round(E,5),\"eV\"\n",
    "print \"answer for kinetic energy in the book is wrong\""
   ]
  },
  {
   "cell_type": "markdown",
   "metadata": {},
   "source": [
    "# Example number 6.9, Page number 161"
   ]
  },
  {
   "cell_type": "code",
   "execution_count": 15,
   "metadata": {
    "collapsed": false
   },
   "outputs": [
    {
     "name": "stdout",
     "output_type": "stream",
     "text": [
      "wavelength of photon is 12.4 angstrom\n",
      "wavelength of electron is 0.39 angstrom\n"
     ]
    }
   ],
   "source": [
    "#importing modules\n",
    "import math\n",
    "from __future__ import division\n",
    "\n",
    "#Variable declaration    \n",
    "h=6.6*10**-34;        #planck's constant(J-sec)\n",
    "m=9.1*10**-31;    #mass of electron(kg)\n",
    "c=3*10**8;      #velocity of light(m/sec)\n",
    "e=1.6*10**-19;        #charge of electron(c)\n",
    "E=1000;      #energy of electron(eV)\n",
    "\n",
    "#Calculations\n",
    "lamda_p=h*c*10**10/(E*e);      #wavelength of photon(angstrom)\n",
    "lamda_e=h*10**10/math.sqrt(2*m*E*e);     #wavelength of electron(angstrom)\n",
    "\n",
    "#Result\n",
    "print \"wavelength of photon is\",round(lamda_p,1),\"angstrom\"\n",
    "print \"wavelength of electron is\",round(lamda_e,2),\"angstrom\""
   ]
  },
  {
   "cell_type": "markdown",
   "metadata": {},
   "source": [
    "# Example number 6.10, Page number 161"
   ]
  },
  {
   "cell_type": "code",
   "execution_count": 20,
   "metadata": {
    "collapsed": false
   },
   "outputs": [
    {
     "name": "stdout",
     "output_type": "stream",
     "text": [
      "wavelength of photo-electron is 0.1 angstrom\n"
     ]
    }
   ],
   "source": [
    "#importing modules\n",
    "import math\n",
    "from __future__ import division\n",
    "\n",
    "#Variable declaration    \n",
    "h=6.6*10**-34;        #planck's constant(J-sec)\n",
    "m=9.1*10**-31;    #mass of electron(kg)\n",
    "c=3*10**8;      #velocity of light(m/sec)\n",
    "lamda=0.82*10**-10;    #wavelength(m)\n",
    "\n",
    "#Calculations\n",
    "E=h*c/lamda;          #energy(J)\n",
    "lamda=h*10**10/math.sqrt(2*m*E);     #wavelength of photo-electron(angstrom)\n",
    "\n",
    "#Result\n",
    "print \"wavelength of photo-electron is\",round(lamda,1),\"angstrom\""
   ]
  },
  {
   "cell_type": "markdown",
   "metadata": {},
   "source": [
    "# Example number 6.11, Page number 162"
   ]
  },
  {
   "cell_type": "code",
   "execution_count": 24,
   "metadata": {
    "collapsed": false
   },
   "outputs": [
    {
     "name": "stdout",
     "output_type": "stream",
     "text": [
      "wavelength of electron is 0.0242 angstrom\n",
      "answer in the book varies due to rounding off errors\n"
     ]
    }
   ],
   "source": [
    "#importing modules\n",
    "import math\n",
    "from __future__ import division\n",
    "\n",
    "#Variable declaration    \n",
    "h=6.6*10**-34;        #planck's constant(J-sec)\n",
    "m=9.1*10**-31;    #mass of electron(kg)\n",
    "c=3*10**8;      #velocity of light(m/sec)\n",
    "\n",
    "#Calculations\n",
    "lamda=h*10**10/(m*c);        #wavelength of electron(angstrom)\n",
    "\n",
    "#Result\n",
    "print \"wavelength of electron is\",round(lamda,4),\"angstrom\"\n",
    "print \"answer in the book varies due to rounding off errors\""
   ]
  },
  {
   "cell_type": "markdown",
   "metadata": {},
   "source": [
    "# Example number 6.12, Page number 162"
   ]
  },
  {
   "cell_type": "code",
   "execution_count": 27,
   "metadata": {
    "collapsed": false
   },
   "outputs": [
    {
     "name": "stdout",
     "output_type": "stream",
     "text": [
      "de-broglie wavelength of neutron is 2.86 *10**-18 m\n"
     ]
    }
   ],
   "source": [
    "#importing modules\n",
    "import math\n",
    "from __future__ import division\n",
    "\n",
    "#Variable declaration    \n",
    "h=6.625*10**-34;        #planck's constant(J-sec)\n",
    "m=1.675*10**-27;    #mass of neutron(kg)\n",
    "e=1.6*10**-19;        #charge of electron(c)\n",
    "E=10**14;      #energy of neutron(eV)\n",
    "\n",
    "#Calculations\n",
    "v=math.sqrt(2*E*e/m);      #velocity(m/sec)\n",
    "lamda=h/(m*v);        #de-broglie wavelength of neutron(m)\n",
    "\n",
    "#Result\n",
    "print \"de-broglie wavelength of neutron is\",round(lamda*10**18,2),\"*10**-18 m\""
   ]
  },
  {
   "cell_type": "markdown",
   "metadata": {},
   "source": [
    "# Example number 6.13, Page number 162"
   ]
  },
  {
   "cell_type": "code",
   "execution_count": 33,
   "metadata": {
    "collapsed": false
   },
   "outputs": [
    {
     "name": "stdout",
     "output_type": "stream",
     "text": [
      "de-broglie wavelength of neutron is 7.998 *10**-15 m\n",
      "answer in the book is wrong\n"
     ]
    }
   ],
   "source": [
    "#importing modules\n",
    "import math\n",
    "from __future__ import division\n",
    "\n",
    "#Variable declaration    \n",
    "h=6.625*10**-34;        #planck's constant(J-sec)\n",
    "m=1.675*10**-27;    #mass of neutron(kg)\n",
    "e=1.6*10**-19;        #charge of electron(c)\n",
    "E=12.8*10**6;      #energy of neutron(eV)\n",
    "\n",
    "#Calculations\n",
    "v=math.sqrt(2*E*e/m);      #velocity(m/sec)\n",
    "lamda=h/(m*v);        #de-broglie wavelength of neutron(m)\n",
    "\n",
    "#Result\n",
    "print \"de-broglie wavelength of neutron is\",round(lamda*10**15,3),\"*10**-15 m\"\n",
    "print \"answer in the book is wrong\""
   ]
  },
  {
   "cell_type": "markdown",
   "metadata": {},
   "source": [
    "# Example number 6.14, Page number 163"
   ]
  },
  {
   "cell_type": "code",
   "execution_count": 39,
   "metadata": {
    "collapsed": false
   },
   "outputs": [
    {
     "name": "stdout",
     "output_type": "stream",
     "text": [
      "de-broglie wavelength of proton is 0.0004 angstrom\n",
      "answer in the book is wrong\n"
     ]
    }
   ],
   "source": [
    "#importing modules\n",
    "import math\n",
    "from __future__ import division\n",
    "\n",
    "#Variable declaration    \n",
    "h=6.62*10**-34;        #planck's constant(J-sec)\n",
    "m=9.1*10**-31;    #mass of electron(kg)\n",
    "mp=1836*m;       #mass of photon(kg)\n",
    "c=3*10**8;       #velocity of light(m/sec)\n",
    "e=1.6*10**-19;        #charge of electron(c)\n",
    "\n",
    "#Calculations\n",
    "E=m*c**2;      #energy(J)\n",
    "v=math.sqrt(2*E/mp);      #velocity(m/sec)\n",
    "lamda=h*10**10/(mp*v);        #de-broglie wavelength of proton(angstrom)\n",
    "\n",
    "#Result\n",
    "print \"de-broglie wavelength of proton is\",round(lamda,4),\"angstrom\"\n",
    "print \"answer in the book is wrong\""
   ]
  },
  {
   "cell_type": "markdown",
   "metadata": {},
   "source": [
    "# Example number 6.15, Page number 163"
   ]
  },
  {
   "cell_type": "code",
   "execution_count": 41,
   "metadata": {
    "collapsed": false
   },
   "outputs": [
    {
     "name": "stdout",
     "output_type": "stream",
     "text": [
      "wavelength of thermal neutron is 1.777 angstrom\n"
     ]
    }
   ],
   "source": [
    "#importing modules\n",
    "import math\n",
    "from __future__ import division\n",
    "\n",
    "#Variable declaration    \n",
    "h=6.60*10**-34;        #planck's constant(J-sec)\n",
    "m=1.67*10**-27;    #mass of neutron(kg)\n",
    "k=8.6*10**-5;      #boltzmann constant(eV/deg)\n",
    "e=1.6*10**-19;        #charge of electron(c)\n",
    "T=300;      #temperature(K)\n",
    "\n",
    "#Calculations\n",
    "lamda=h*10**10/math.sqrt(2*m*k*e*T);     #wavelength of thermal neutron(angstrom)\n",
    "\n",
    "#Result\n",
    "print \"wavelength of thermal neutron is\",round(lamda,3),\"angstrom\""
   ]
  },
  {
   "cell_type": "markdown",
   "metadata": {},
   "source": [
    "# Example number 6.16, Page number 164"
   ]
  },
  {
   "cell_type": "code",
   "execution_count": 43,
   "metadata": {
    "collapsed": false
   },
   "outputs": [
    {
     "name": "stdout",
     "output_type": "stream",
     "text": [
      "interplanar spacing is 1.78 angstrom\n"
     ]
    }
   ],
   "source": [
    "#importing modules\n",
    "import math\n",
    "from __future__ import division\n",
    "\n",
    "#Variable declaration    \n",
    "h=6.62*10**-34;        #planck's constant(J-sec)\n",
    "mn=1.67*10**-27;    #mass of neutron(kg)\n",
    "k=1.38*10**-23;      #boltzmann constant(eV/deg)\n",
    "T=300;      #temperature(K)\n",
    "\n",
    "#Calculations\n",
    "E=k*T;         #energy(J)\n",
    "p=math.sqrt(2*mn*E);      #momentum\n",
    "d=h*10**10/p;         #interplanar spacing(angstrom)\n",
    "\n",
    "#Result\n",
    "print \"interplanar spacing is\",round(d,2),\"angstrom\""
   ]
  },
  {
   "cell_type": "markdown",
   "metadata": {},
   "source": [
    "# Example number 6.17, Page number 164"
   ]
  },
  {
   "cell_type": "code",
   "execution_count": 47,
   "metadata": {
    "collapsed": false
   },
   "outputs": [
    {
     "name": "stdout",
     "output_type": "stream",
     "text": [
      "interplanar spacing is 0.38 angstrom\n",
      "answer in the book is wrong\n"
     ]
    }
   ],
   "source": [
    "#importing modules\n",
    "import math\n",
    "from __future__ import division\n",
    "\n",
    "#Variable declaration    \n",
    "h=6.62*10**-34;        #planck's constant(J-sec)\n",
    "m=9*10**-31;    #mass of neutron(kg)\n",
    "e=1.6*10**-19;        #charge of electron(c)\n",
    "V=344;       #potential difference(V)\n",
    "theta=60*math.pi/180;         #angle(radian)\n",
    "\n",
    "#Calculations\n",
    "d=h*10**10/(2*math.sin(theta)*math.sqrt(2*m*e*V));         #interplanar spacing(angstrom)\n",
    "\n",
    "#Result\n",
    "print \"interplanar spacing is\",round(d,2),\"angstrom\"\n",
    "print \"answer in the book is wrong\""
   ]
  },
  {
   "cell_type": "markdown",
   "metadata": {},
   "source": [
    "# Example number 6.18, Page number 171"
   ]
  },
  {
   "cell_type": "code",
   "execution_count": 50,
   "metadata": {
    "collapsed": false
   },
   "outputs": [
    {
     "name": "stdout",
     "output_type": "stream",
     "text": [
      "uncertainity in momentum is 1.65e-24 kg m/sec\n"
     ]
    }
   ],
   "source": [
    "#importing modules\n",
    "import math\n",
    "from __future__ import division\n",
    "\n",
    "#Variable declaration    \n",
    "h=6.6*10**-34;        #planck's constant(J-sec)\n",
    "deltax=4*10**-10;       #uncertainity in position of electron(m)\n",
    "\n",
    "#Calculations\n",
    "delta_px=h/deltax;       #uncertainity in momentum(kg m/sec)\n",
    "\n",
    "#Result\n",
    "print \"uncertainity in momentum is\",delta_px,\"kg m/sec\""
   ]
  },
  {
   "cell_type": "markdown",
   "metadata": {},
   "source": [
    "# Example number 6.19, Page number 171"
   ]
  },
  {
   "cell_type": "code",
   "execution_count": 55,
   "metadata": {
    "collapsed": false
   },
   "outputs": [
    {
     "name": "stdout",
     "output_type": "stream",
     "text": [
      "uncertainity in position of electron is 0.02418 m\n",
      "answer in the book is wrong\n"
     ]
    }
   ],
   "source": [
    "#importing modules\n",
    "import math\n",
    "from __future__ import division\n",
    "\n",
    "#Variable declaration    \n",
    "h=6.6*10**-34;        #planck's constant(J-sec)\n",
    "m=9.1*10**-31;    #mass of electron(kg)\n",
    "v=600;     #speed(m/sec)\n",
    "a=0.005/100;     #accuracy(%)\n",
    "\n",
    "#Calculations\n",
    "deltav=v*a;       #uncertainity in speed(kg m/sec)\n",
    "delta_px=m*deltav;       #uncertainity in momentum(kg m/sec)\n",
    "deltax=h/delta_px;       #uncertainity in position of electron(m)\n",
    "\n",
    "#Result\n",
    "print \"uncertainity in position of electron is\",round(deltax,5),\"m\"\n",
    "print \"answer in the book is wrong\""
   ]
  },
  {
   "cell_type": "markdown",
   "metadata": {},
   "source": [
    "# Example number 6.20, Page number 172 Theoritical "
   ]
  },
  {
   "cell_type": "markdown",
   "metadata": {},
   "source": [
    "# Example number 6.21, Page number 172"
   ]
  },
  {
   "cell_type": "code",
   "execution_count": 59,
   "metadata": {
    "collapsed": false
   },
   "outputs": [
    {
     "name": "stdout",
     "output_type": "stream",
     "text": [
      "uncertainity in momentum is 6.63e-23 kg m/sec\n",
      "uncertainity in velocity is 7.286 *10**7 m/sec\n"
     ]
    }
   ],
   "source": [
    "#importing modules\n",
    "import math\n",
    "from __future__ import division\n",
    "\n",
    "#Variable declaration    \n",
    "h=6.63*10**-34;        #planck's constant(J-sec)\n",
    "m0=9.1*10**-31;    #mass of electron(kg)\n",
    "deltax=0.1*10**-10;       #uncertainity in position of electron(m)\n",
    "\n",
    "#Calculations\n",
    "delta_p=h/deltax;       #uncertainity in momentum(kg m/sec)\n",
    "delta_v=delta_p/m0;      #uncertainity in velocity(m/sec)\n",
    "\n",
    "#Result\n",
    "print \"uncertainity in momentum is\",delta_p,\"kg m/sec\"\n",
    "print \"uncertainity in velocity is\",round(delta_v/10**7,3),\"*10**7 m/sec\""
   ]
  },
  {
   "cell_type": "markdown",
   "metadata": {},
   "source": [
    "# Example number 6.22, Page number 172"
   ]
  },
  {
   "cell_type": "code",
   "execution_count": 15,
   "metadata": {
    "collapsed": false
   },
   "outputs": [
    {
     "name": "stdout",
     "output_type": "stream",
     "text": [
      "uncertainity in velocity is 1835\n"
     ]
    }
   ],
   "source": [
    "#importing modules\n",
    "import math\n",
    "from __future__ import division\n",
    "\n",
    "#Variable declaration    \n",
    "me=9.10*10**-31;    #mass of electron(kg)\n",
    "mp=1.67*10**-27;    #mass of electron(kg)\n",
    "\n",
    "#Calculations\n",
    "uv=mp/me;      #uncertainity in velocity\n",
    "\n",
    "#Result\n",
    "print \"uncertainity in velocity is\",int(uv)"
   ]
  },
  {
   "cell_type": "markdown",
   "metadata": {},
   "source": [
    "# Example number 6.23, Page number 172"
   ]
  },
  {
   "cell_type": "code",
   "execution_count": 16,
   "metadata": {
    "collapsed": false
   },
   "outputs": [
    {
     "name": "stdout",
     "output_type": "stream",
     "text": [
      "smallest possible uncertainity in position of electron is 0.019 angstrom\n"
     ]
    }
   ],
   "source": [
    "#importing modules\n",
    "import math\n",
    "from __future__ import division\n",
    "\n",
    "#Variable declaration    \n",
    "h=6.62*10**-34;        #planck's constant(J-sec)\n",
    "m0=9*10**-31;    #mass of electron(kg)\n",
    "v=3*10**7;     #velocity of electron(m/sec)\n",
    "c=3*10**8;     #velocity of light(m/sec)\n",
    "\n",
    "#Calculations\n",
    "deltax_min=h*10**10*math.sqrt(1-(v**2/c**2))/(4*math.pi*m0*v);       #smallest possible uncertainity in position of electron(angstrom)\n",
    "\n",
    "#Result\n",
    "print \"smallest possible uncertainity in position of electron is\",round(deltax_min,3),\"angstrom\""
   ]
  },
  {
   "cell_type": "markdown",
   "metadata": {},
   "source": [
    "# Example number 6.24, Page number 173"
   ]
  },
  {
   "cell_type": "code",
   "execution_count": 17,
   "metadata": {
    "collapsed": false
   },
   "outputs": [
    {
     "name": "stdout",
     "output_type": "stream",
     "text": [
      "minimum uncertainity in velocity of electron is 7.3 *10**5 m/s\n"
     ]
    }
   ],
   "source": [
    "#importing modules\n",
    "import math\n",
    "from __future__ import division\n",
    "\n",
    "#Variable declaration    \n",
    "h=6.6*10**-34;        #planck's constant(J-sec)\n",
    "m=9*10**-31;    #mass of electron(kg)\n",
    "deltax_max=10*10**-10;     #length of box(m)\n",
    "\n",
    "#Calculations\n",
    "deltavx_min=h/(deltax_max*m);       #minimum uncertainity in velocity of electron(m/s)\n",
    "\n",
    "#Result\n",
    "print \"minimum uncertainity in velocity of electron is\",round(deltavx_min/10**5,1),\"*10**5 m/s\""
   ]
  },
  {
   "cell_type": "markdown",
   "metadata": {},
   "source": [
    "# Example number 6.25 Page number 173"
   ]
  },
  {
   "cell_type": "code",
   "execution_count": 18,
   "metadata": {
    "collapsed": false
   },
   "outputs": [
    {
     "name": "stdout",
     "output_type": "stream",
     "text": [
      "time required is 1.9 *10**-8 second\n"
     ]
    }
   ],
   "source": [
    "#importing modules\n",
    "import math\n",
    "from __future__ import division\n",
    "\n",
    "#Variable declaration    \n",
    "dlamda=10**-4*10**-10;      #width(m)\n",
    "lamda=6000*10**-10;      #wavelength(m)\n",
    "c=3*10**8;         #velocity of light(m/sec)\n",
    "\n",
    "#Calculations\n",
    "delta_t=lamda**2/(2*math.pi*c*dlamda);       #time required(second)\n",
    "\n",
    "#Result\n",
    "print \"time required is\",round(delta_t*10**8,1),\"*10**-8 second\""
   ]
  },
  {
   "cell_type": "markdown",
   "metadata": {},
   "source": [
    "# Example number 6.26 Page number 174"
   ]
  },
  {
   "cell_type": "code",
   "execution_count": 19,
   "metadata": {
    "collapsed": false
   },
   "outputs": [
    {
     "name": "stdout",
     "output_type": "stream",
     "text": [
      "uncertainity in position of electron is 1.6903 *10**-8 m\n",
      "answer in the book is wrong\n"
     ]
    }
   ],
   "source": [
    "#importing modules\n",
    "import math\n",
    "from __future__ import division\n",
    "\n",
    "#Variable declaration    \n",
    "h=6.63*10**-34;        #planck's constant(J-sec)\n",
    "m=9.1*10**-31;    #mass of electron(kg)\n",
    "v=3.5*10**7;     #speed(cm/sec)\n",
    "a=0.0098/100;     #accuracy(%)\n",
    "\n",
    "#Calculations\n",
    "deltav=v*a;       #uncertainity in speed(kg m/sec)\n",
    "delta_p=m*deltav;       #uncertainity in momentum(kg m/sec)\n",
    "deltax=h/(4*math.pi*delta_p);       #uncertainity in position of electron(m)\n",
    "\n",
    "#Result\n",
    "print \"uncertainity in position of electron is\",round(deltax*10**8,4),\"*10**-8 m\"\n",
    "print \"answer in the book is wrong\""
   ]
  },
  {
   "cell_type": "markdown",
   "metadata": {},
   "source": [
    "# Example number 6.27 Page number 174"
   ]
  },
  {
   "cell_type": "code",
   "execution_count": 20,
   "metadata": {
    "collapsed": false
   },
   "outputs": [
    {
     "name": "stdout",
     "output_type": "stream",
     "text": [
      "uncertainity in position of dust particle is 9.58 *10**-10 m\n"
     ]
    }
   ],
   "source": [
    "#importing modules\n",
    "import math\n",
    "from __future__ import division\n",
    "\n",
    "#Variable declaration    \n",
    "h=6.62*10**-34;        #planck's constant(J-sec)\n",
    "m=10**-6;    #mass of electron(kg)\n",
    "deltav=5.5*10**-20;     #speed(m/sec)\n",
    "\n",
    "#Calculations\n",
    "delta_p=m*deltav;       #uncertainity in momentum(kg m/sec)\n",
    "deltax=h/(4*math.pi*delta_p);       #uncertainity in position of dust particle(m)\n",
    "\n",
    "#Result\n",
    "print \"uncertainity in position of dust particle is\",round(deltax*10**10,2),\"*10**-10 m\""
   ]
  },
  {
   "cell_type": "markdown",
   "metadata": {},
   "source": [
    "# Example number 6.28 Page number 175"
   ]
  },
  {
   "cell_type": "code",
   "execution_count": 21,
   "metadata": {
    "collapsed": false
   },
   "outputs": [
    {
     "name": "stdout",
     "output_type": "stream",
     "text": [
      "uncertainity in energy is 3.3 *10**-4 eV\n"
     ]
    }
   ],
   "source": [
    "#importing modules\n",
    "import math\n",
    "from __future__ import division\n",
    "\n",
    "#Variable declaration    \n",
    "delta_t=10**-12;       #life time(s)\n",
    "hby2pi=1.054*10**-34;     \n",
    "e=1.6*10**-19;        #charge of electron(c)\n",
    "\n",
    "#Calculations\n",
    "deltaE=hby2pi/(2*e*delta_t);       #uncertainity in energy(eV)\n",
    "\n",
    "#Result\n",
    "print \"uncertainity in energy is\",round(deltaE*10**4,1),\"*10**-4 eV\""
   ]
  },
  {
   "cell_type": "markdown",
   "metadata": {},
   "source": [
    "# Example number 6.29 Page number 175"
   ]
  },
  {
   "cell_type": "code",
   "execution_count": 22,
   "metadata": {
    "collapsed": false
   },
   "outputs": [
    {
     "name": "stdout",
     "output_type": "stream",
     "text": [
      "minimum uncertainity in frequency is 8.0 *10**6 s-1\n"
     ]
    }
   ],
   "source": [
    "#importing modules\n",
    "import math\n",
    "from __future__ import division\n",
    "\n",
    "#Variable declaration    \n",
    "delta_t=10**-8;       #life time(s)\n",
    "\n",
    "#Calculations\n",
    "deltav=1/(4*math.pi*delta_t);       #minimum uncertainity in frequency(s-1)\n",
    "\n",
    "#Result\n",
    "print \"minimum uncertainity in frequency is\",round(deltav/10**6),\"*10**6 s-1\""
   ]
  },
  {
   "cell_type": "markdown",
   "metadata": {},
   "source": [
    "# Example number 6.30 Page number 175"
   ]
  },
  {
   "cell_type": "code",
   "execution_count": 23,
   "metadata": {
    "collapsed": false
   },
   "outputs": [
    {
     "name": "stdout",
     "output_type": "stream",
     "text": [
      "minimum energy is 13.18997 keV\n",
      "answer in the book varies due to rounding off errors\n"
     ]
    }
   ],
   "source": [
    "#importing modules\n",
    "import math\n",
    "from __future__ import division\n",
    "\n",
    "#Variable declaration    \n",
    "h=6.63*10**-34;        #planck's constant(J-sec)\n",
    "e=1.6*10**-19;        #charge of electron(c)\n",
    "delta_t=2.5*10**-14*10**-6;       #life time(s)\n",
    "\n",
    "#Calculations\n",
    "deltaE=h*10**-3/(4*math.pi*delta_t*e);       #minimum energy(keV)\n",
    "\n",
    "#Result\n",
    "print \"minimum energy is\",round(deltaE,5),\"keV\"\n",
    "print \"answer in the book varies due to rounding off errors\""
   ]
  },
  {
   "cell_type": "markdown",
   "metadata": {},
   "source": [
    "# Example number 6.31 Page number 183"
   ]
  },
  {
   "cell_type": "code",
   "execution_count": 24,
   "metadata": {
    "collapsed": false
   },
   "outputs": [
    {
     "name": "stdout",
     "output_type": "stream",
     "text": [
      "least energy is 37.649 eV\n",
      "answer in the book is wrong\n"
     ]
    }
   ],
   "source": [
    "#importing modules\n",
    "import math\n",
    "from __future__ import division\n",
    "\n",
    "#Variable declaration    \n",
    "h=6.63*10**-34;        #planck's constant(J-sec)\n",
    "e=1.602*10**-19;        #charge of electron(c)\n",
    "L=10**-10;        #width(m)\n",
    "m=9.11*10**-31;    #mass of electron(kg)\n",
    "\n",
    "\n",
    "#Calculations\n",
    "E1=h**2/(8*m*e*L**2);     #least energy(eV)\n",
    "\n",
    "#Result\n",
    "print \"least energy is\",round(E1,3),\"eV\"\n",
    "print \"answer in the book is wrong\""
   ]
  },
  {
   "cell_type": "markdown",
   "metadata": {},
   "source": [
    "# Example number 6.32 Page number 184"
   ]
  },
  {
   "cell_type": "code",
   "execution_count": 25,
   "metadata": {
    "collapsed": false
   },
   "outputs": [
    {
     "name": "stdout",
     "output_type": "stream",
     "text": [
      "1st least energy is 6 eV\n",
      "2nd least energy is 24 eV\n",
      "3rd least energy is 54 eV\n"
     ]
    }
   ],
   "source": [
    "#importing modules\n",
    "import math\n",
    "from __future__ import division\n",
    "\n",
    "#Variable declaration    \n",
    "h=6.63*10**-34;        #planck's constant(J-sec)\n",
    "e=1.6*10**-19;        #charge of electron(c)\n",
    "L=2.5*10**-10;        #width(m)\n",
    "m=9.1*10**-31;    #mass of electron(kg)\n",
    "n1=1;\n",
    "n2=2;\n",
    "n3=3;\n",
    "\n",
    "#Calculations\n",
    "E=h**2/(8*m*e*L**2);     #energy(eV)\n",
    "E1=n1**2*h**2/(8*m*e*L**2);     #1st least energy(eV)\n",
    "E2=n2**2*h**2/(8*m*e*L**2);     #2nd least energy(eV)\n",
    "E3=n3**2*h**2/(8*m*e*L**2);     #3rd least energy(eV)\n",
    "\n",
    "#Result\n",
    "print \"1st least energy is\",int(E1),\"eV\"\n",
    "print \"2nd least energy is\",int(E2),\"eV\"\n",
    "print \"3rd least energy is\",int(E3),\"eV\""
   ]
  },
  {
   "cell_type": "markdown",
   "metadata": {},
   "source": [
    "# Example number 6.33 Page number 184"
   ]
  },
  {
   "cell_type": "code",
   "execution_count": 26,
   "metadata": {
    "collapsed": false
   },
   "outputs": [
    {
     "name": "stdout",
     "output_type": "stream",
     "text": [
      "wavelength in 1st energy state is 20 angstrom\n",
      "wavelength in 2nd energy state is 10 angstrom\n",
      "wavelength in 3rd energy state is 6.67 angstrom\n",
      "1st least energy is 0.38 eV\n",
      "2nd least energy is 1.5095 eV\n",
      "3rd least energy is 3.396 eV\n",
      "answers for 2nd and 3rd least energies varies due to rounding off errors\n"
     ]
    }
   ],
   "source": [
    "#importing modules\n",
    "import math\n",
    "from __future__ import division\n",
    "\n",
    "#Variable declaration    \n",
    "h=6.63*10**-34;        #planck's constant(J-sec)\n",
    "e=1.6*10**-19;        #charge of electron(c)\n",
    "L=10**-9;        #width(m)\n",
    "m=9.1*10**-31;    #mass of electron(kg)\n",
    "n1=1;\n",
    "n2=2;\n",
    "n3=3;\n",
    "\n",
    "#Calculations\n",
    "lamda1=2*L*10**10/n1;        #wavelength in 1st energy state(angstrom)\n",
    "lamda2=2*L*10**10/n2;        #wavelength in 2nd energy state(angstrom)\n",
    "lamda3=2*L*10**10/n3;        #wavelength in 3rd energy state(angstrom)\n",
    "E=h**2/(8*m*e*L**2);     #energy(eV)\n",
    "E1=n1**2*h**2/(8*m*e*L**2);     #1st least energy(eV)\n",
    "E2=n2**2*h**2/(8*m*e*L**2);     #2nd least energy(eV)\n",
    "E3=n3**2*h**2/(8*m*e*L**2);     #3rd least energy(eV)\n",
    "\n",
    "#Result\n",
    "print \"wavelength in 1st energy state is\",int(lamda1),\"angstrom\"\n",
    "print \"wavelength in 2nd energy state is\",int(lamda2),\"angstrom\"\n",
    "print \"wavelength in 3rd energy state is\",round(lamda3,2),\"angstrom\"\n",
    "print \"1st least energy is\",round(E1,2),\"eV\"\n",
    "print \"2nd least energy is\",round(E2,4),\"eV\"\n",
    "print \"3rd least energy is\",round(E3,3),\"eV\"\n",
    "print \"answers for 2nd and 3rd least energies varies due to rounding off errors\""
   ]
  },
  {
   "cell_type": "markdown",
   "metadata": {},
   "source": [
    "# Example number 6.34 Page number 185"
   ]
  },
  {
   "cell_type": "code",
   "execution_count": 27,
   "metadata": {
    "collapsed": false
   },
   "outputs": [
    {
     "name": "stdout",
     "output_type": "stream",
     "text": [
      "1st least energy is 37.69 eV\n",
      "2nd least energy is 150 eV\n",
      "energy difference between ground state and 1st excited state is 113.08 eV\n",
      "answer in the book varies due to rounding off errors\n"
     ]
    }
   ],
   "source": [
    "#importing modules\n",
    "import math\n",
    "from __future__ import division\n",
    "\n",
    "#Variable declaration    \n",
    "h=6.626*10**-34;        #planck's constant(J-sec)\n",
    "e=1.60*10**-19;        #charge of electron(c)\n",
    "L=10**-10;        #width(m)\n",
    "m=9.1*10**-31;    #mass of electron(kg)\n",
    "n1=1;\n",
    "n2=2;\n",
    "\n",
    "#Calculations\n",
    "E=h**2/(8*m*e*L**2);     #energy(eV)\n",
    "E1=n1**2*h**2/(8*m*e*L**2);     #1st least energy(eV)\n",
    "E2=n2**2*h**2/(8*m*e*L**2);     #2nd least energy(eV)\n",
    "Ed=E2-E1;         #energy difference between ground state and 1st excited state(eV)\n",
    "\n",
    "#Result\n",
    "print \"1st least energy is\",round(E1,2),\"eV\"\n",
    "print \"2nd least energy is\",int(E2),\"eV\"\n",
    "print \"energy difference between ground state and 1st excited state is\",round(Ed,2),\"eV\"\n",
    "print \"answer in the book varies due to rounding off errors\""
   ]
  },
  {
   "cell_type": "markdown",
   "metadata": {},
   "source": [
    "# Example number 6.35 Page number 185"
   ]
  },
  {
   "cell_type": "code",
   "execution_count": 28,
   "metadata": {
    "collapsed": false
   },
   "outputs": [
    {
     "name": "stdout",
     "output_type": "stream",
     "text": [
      "1st least energy is 3.4 *10**-45 eV\n",
      "2nd least energy is 13.6 *10**-45 eV\n",
      "3rd least energy is 30.6 *10**-45 eV\n",
      "energy levels are so close to each other that the energy states cannot be observed\n"
     ]
    }
   ],
   "source": [
    "#importing modules\n",
    "import math\n",
    "from __future__ import division\n",
    "\n",
    "#Variable declaration    \n",
    "h=6.6*10**-34;        #planck's constant(J-sec)\n",
    "e=1.6*10**-19;        #charge of electron(c)\n",
    "L=10**-1;        #width(m)\n",
    "m=10**-2;    #mass of electron(kg)\n",
    "n1=1;\n",
    "n2=2;\n",
    "n3=3;\n",
    "\n",
    "#Calculations\n",
    "E=h**2/(8*m*e*L**2);     #energy(eV)\n",
    "E1=n1**2*h**2/(8*m*e*L**2);     #1st least energy(eV)\n",
    "E2=n2**2*h**2/(8*m*e*L**2);     #2nd least energy(eV)\n",
    "E3=n3**2*h**2/(8*m*e*L**2);     #3rd least energy(eV)\n",
    "\n",
    "#Result\n",
    "print \"1st least energy is\",round(E1*10**45,1),\"*10**-45 eV\"\n",
    "print \"2nd least energy is\",round(E2*10**45,1),\"*10**-45 eV\"\n",
    "print \"3rd least energy is\",round(E3*10**45,1),\"*10**-45 eV\"\n",
    "print \"energy levels are so close to each other that the energy states cannot be observed\""
   ]
  },
  {
   "cell_type": "markdown",
   "metadata": {},
   "source": [
    "# Example number 6.36 Page number 186"
   ]
  },
  {
   "cell_type": "code",
   "execution_count": 8,
   "metadata": {
    "collapsed": false
   },
   "outputs": [
    {
     "name": "stdout",
     "output_type": "stream",
     "text": [
      "mass of particle is 9.3 *10**-31 kg\n",
      "quantum state is 10.4\n"
     ]
    }
   ],
   "source": [
    "#importing modules\n",
    "import math\n",
    "from __future__ import division\n",
    "\n",
    "#Variable declaration    \n",
    "h=6.63*10**-34;        #planck's constant(J-sec)\n",
    "e=1.602*10**-19;        #charge of electron(c)\n",
    "L=0.2*10**-9;        #width(m)\n",
    "n5=5;\n",
    "En=10**3;          #energy(eV)\n",
    "E5=230;     #energy of particle(eV)\n",
    "\n",
    "#Calculations2\n",
    "E5=230*e;        #energy(J)\n",
    "E1=E5/n5**2;       #energy in 1st state(J)\n",
    "m=h**2/(8*E1*L**2);     #mass of particle(kg)\n",
    "n=math.sqrt(En*e/E1);      #quantum state\n",
    "\n",
    "#Result\n",
    "print \"mass of particle is\",round(m*10**31,1),\"*10**-31 kg\"\n",
    "print \"quantum state is\",round(n,1)"
   ]
  },
  {
   "cell_type": "markdown",
   "metadata": {},
   "source": [
    "# Example number 6.37 Page number 186"
   ]
  },
  {
   "cell_type": "code",
   "execution_count": 29,
   "metadata": {
    "collapsed": false
   },
   "outputs": [
    {
     "name": "stdout",
     "output_type": "stream",
     "text": [
      "probability of finding the particle is 0.4\n"
     ]
    }
   ],
   "source": [
    "#importing modules\n",
    "import math\n",
    "from __future__ import division\n",
    "\n",
    "#Variable declaration    \n",
    "L=25*10**-10;        #width(m)\n",
    "deltax=5*10**-10;        #interval(m)\n",
    "\n",
    "#Calculations2\n",
    "P=2*deltax/L;         #probability of finding the particle\n",
    "\n",
    "#Result\n",
    "print \"probability of finding the particle is\",P"
   ]
  },
  {
   "cell_type": "markdown",
   "metadata": {},
   "source": [
    "# Example number 6.38 Page number 187"
   ]
  },
  {
   "cell_type": "code",
   "execution_count": 35,
   "metadata": {
    "collapsed": false
   },
   "outputs": [
    {
     "name": "stdout",
     "output_type": "stream",
     "text": [
      "probability of finding the particle is 0.0161 a**2\n",
      "expectation value of position of particle is 0.25 a**2\n"
     ]
    }
   ],
   "source": [
    "#importing modules\n",
    "import math\n",
    "from __future__ import division\n",
    "from scipy.integrate import quad\n",
    "\n",
    "#Variable declaration    \n",
    "a=1;        #assume\n",
    "\n",
    "#Calculations2\n",
    "def zintg(x):\n",
    "    return (a*x)**2  \n",
    "\n",
    "P=quad(zintg,0.35,0.45)[0]       #probability of finding the particle\n",
    "\n",
    "def zintg(x):\n",
    "    return x*(a*x)**2  \n",
    "\n",
    "X=quad(zintg,0,1)[0]       #expectation value of position of particle\n",
    "\n",
    "#Result\n",
    "print \"probability of finding the particle is\",round(P,4),\"a**2\"\n",
    "print \"expectation value of position of particle is\",X,\"a**2\""
   ]
  }
 ],
 "metadata": {
  "kernelspec": {
   "display_name": "Python 2",
   "language": "python",
   "name": "python2"
  },
  "language_info": {
   "codemirror_mode": {
    "name": "ipython",
    "version": 2
   },
   "file_extension": ".py",
   "mimetype": "text/x-python",
   "name": "python",
   "nbconvert_exporter": "python",
   "pygments_lexer": "ipython2",
   "version": "2.7.11"
  }
 },
 "nbformat": 4,
 "nbformat_minor": 0
}
