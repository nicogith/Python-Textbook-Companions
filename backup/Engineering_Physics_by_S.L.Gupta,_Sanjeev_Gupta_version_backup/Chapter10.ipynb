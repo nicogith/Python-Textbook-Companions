{
 "cells": [
  {
   "cell_type": "markdown",
   "metadata": {},
   "source": [
    "# 10: Dielectric Properties"
   ]
  },
  {
   "cell_type": "markdown",
   "metadata": {},
   "source": [
    "# Example number 10.1, Page number 276"
   ]
  },
  {
   "cell_type": "code",
   "execution_count": 1,
   "metadata": {
    "collapsed": false
   },
   "outputs": [
    {
     "name": "stdout",
     "output_type": "stream",
     "text": [
      "relative permittivity is 5.86\n"
     ]
    }
   ],
   "source": [
    "#importing modules\n",
    "import math\n",
    "from __future__ import division\n",
    "\n",
    "#Variable declaration    \n",
    "P=4.3*10**-8;     #polarisation(per cm**2)\n",
    "epsilon0=8.85*10**-12;        #relative permeability(F/m)\n",
    "E=1000;         #electric field(V/m)\n",
    "\n",
    "#Calculations\n",
    "epsilonr=1+(P/(epsilon0*E));        #relative permittivity\n",
    "\n",
    "#Result\n",
    "print \"relative permittivity is\",round(epsilonr,2)"
   ]
  },
  {
   "cell_type": "markdown",
   "metadata": {},
   "source": [
    "# Example number 10.2, Page number 276"
   ]
  },
  {
   "cell_type": "code",
   "execution_count": 2,
   "metadata": {
    "collapsed": false
   },
   "outputs": [
    {
     "name": "stdout",
     "output_type": "stream",
     "text": [
      "electric displacement is 36 *10**-6 C/m**2\n",
      "polarisation is 27 *10**-6 C/m**2\n"
     ]
    }
   ],
   "source": [
    "#importing modules\n",
    "import math\n",
    "from __future__ import division\n",
    "\n",
    "#Variable declaration    \n",
    "k=4;\n",
    "epsilon0=9*10**-12;        #relative permeability(F/m)\n",
    "E=10**6;         #electric field(V/m)\n",
    "\n",
    "#Calculations\n",
    "D=k*epsilon0*E;     #electric displacement(C/m**2)\n",
    "P=epsilon0*E*(k-1);      #polarisation(C/m**2)\n",
    "\n",
    "#Result\n",
    "print \"electric displacement is\",int(D*10**6),\"*10**-6 C/m**2\"\n",
    "print \"polarisation is\",int(P*10**6),\"*10**-6 C/m**2\""
   ]
  },
  {
   "cell_type": "markdown",
   "metadata": {},
   "source": [
    "# Example number 10.3, Page number 277"
   ]
  },
  {
   "cell_type": "code",
   "execution_count": 3,
   "metadata": {
    "collapsed": false
   },
   "outputs": [
    {
     "name": "stdout",
     "output_type": "stream",
     "text": [
      "electric field is 0.113 N/C\n",
      "polarisation is 4e-12 C/m**2\n",
      "induced dipole moment is 2e-18 cm\n"
     ]
    }
   ],
   "source": [
    "#importing modules\n",
    "import math\n",
    "from __future__ import division\n",
    "\n",
    "#Variable declaration    \n",
    "k=5;\n",
    "epsilon0=8.86*10**-12;        #relative permeability(F/m)\n",
    "D=5*10**-12;        #electric displacement(C/m**2)\n",
    "V=0.5*10**-6;\n",
    "\n",
    "#Calculations\n",
    "E=D/(k*epsilon0);     #electric field(N/C)\n",
    "P=D*(1-(1/k));      #polarisation(C/m**2)\n",
    "dm=P*V;        #induced dipole moment(cm)\n",
    "\n",
    "#Result\n",
    "print \"electric field is\",round(E,3),\"N/C\"\n",
    "print \"polarisation is\",P,\"C/m**2\"\n",
    "print \"induced dipole moment is\",dm,\"cm\""
   ]
  },
  {
   "cell_type": "markdown",
   "metadata": {
    "collapsed": true
   },
   "source": [
    "# Example number 10.4, Page number 277"
   ]
  },
  {
   "cell_type": "code",
   "execution_count": 5,
   "metadata": {
    "collapsed": false
   },
   "outputs": [
    {
     "name": "stdout",
     "output_type": "stream",
     "text": [
      "dipole moment is 2.43 *10**-41 coul x metre\n"
     ]
    }
   ],
   "source": [
    "#importing modules\n",
    "import math\n",
    "from __future__ import division\n",
    "\n",
    "#Variable declaration    \n",
    "k=1.000074;\n",
    "epsilon0=8.85*10**-12;        #relative permeability(F/m)\n",
    "E=1;               #electric field(N/C)\n",
    "n=2.69*10**25;     #molecular density\n",
    "\n",
    "#Calculations\n",
    "p=epsilon0*E*(k-1)/n;    #dipole moment(coulx metre)\n",
    "\n",
    "#Result\n",
    "print \"dipole moment is\",round(p*10**41,2),\"*10**-41 coul x metre\""
   ]
  },
  {
   "cell_type": "markdown",
   "metadata": {},
   "source": [
    "# Example number 10.5, Page number 278"
   ]
  },
  {
   "cell_type": "code",
   "execution_count": 6,
   "metadata": {
    "collapsed": false
   },
   "outputs": [
    {
     "name": "stdout",
     "output_type": "stream",
     "text": [
      "dipole moment is 3.97 *10**-36 coul-metre\n",
      "atomic polarizability is 4.4 *10**-41 coul-m**2/volt\n"
     ]
    }
   ],
   "source": [
    "#importing modules\n",
    "import math\n",
    "from __future__ import division\n",
    "\n",
    "#Variable declaration    \n",
    "k=1.000134;\n",
    "epsilon0=8.85*10**-12;        #relative permeability(F/m)\n",
    "E=90000;               #electric field(N/C)\n",
    "N=6.023*10**26;       #avagadro number\n",
    "\n",
    "#Calculations\n",
    "n=N/22.4;\n",
    "p=epsilon0*E*(k-1)/n;    #dipole moment(coul-metre)\n",
    "alpha=p/E;    #atomic polarizability(coul-m**2/volt)\n",
    "\n",
    "#Result\n",
    "print \"dipole moment is\",round(p*10**36,2),\"*10**-36 coul-metre\"\n",
    "print \"atomic polarizability is\",round(alpha*10**41,1),\"*10**-41 coul-m**2/volt\""
   ]
  },
  {
   "cell_type": "markdown",
   "metadata": {},
   "source": [
    "# Example number 10.6, Page number 278"
   ]
  },
  {
   "cell_type": "code",
   "execution_count": 7,
   "metadata": {
    "collapsed": false
   },
   "outputs": [
    {
     "name": "stdout",
     "output_type": "stream",
     "text": [
      "electric field is 1.43 *10**3 volt/m\n",
      "electric displacement is 8.9e-08 C/m**2\n",
      "dipole moment is 7.6 *10**-8 C/m**2\n"
     ]
    }
   ],
   "source": [
    "#importing modules\n",
    "import math\n",
    "from __future__ import division\n",
    "\n",
    "#Variable declaration    \n",
    "k=7;\n",
    "epsilon0=8.9*10**-12;        #relative permeability(F/m)\n",
    "V0=100;        #potential difference(V)\n",
    "d=10**-2;      #displacement(m)\n",
    "\n",
    "#Calculations\n",
    "E0=V0/d;       #electric field intensity(volt/m)\n",
    "E=E0/k;     #electric field(N/C)\n",
    "D=k*E*epsilon0;       #electric displacement(C/m**2)\n",
    "p=epsilon0*E*(k-1);    #dipole moment(coul-metre)\n",
    "\n",
    "#Result\n",
    "print \"electric field is\",round(E/10**3,2),\"*10**3 volt/m\"\n",
    "print \"electric displacement is\",D,\"C/m**2\"\n",
    "print \"dipole moment is\",round(p*10**8,1),\"*10**-8 C/m**2\""
   ]
  },
  {
   "cell_type": "markdown",
   "metadata": {},
   "source": [
    "# Example number 10.7, Page number 279"
   ]
  },
  {
   "cell_type": "code",
   "execution_count": 10,
   "metadata": {
    "collapsed": false
   },
   "outputs": [
    {
     "name": "stdout",
     "output_type": "stream",
     "text": [
      "dielectric constant is 5.0\n",
      "permittivity is 44.25 *10**-12 coul**2/nt-m**2\n"
     ]
    }
   ],
   "source": [
    "#importing modules\n",
    "import math\n",
    "from __future__ import division\n",
    "\n",
    "#Variable declaration    \n",
    "epsilon0=8.85*10**-12;        #relative permeability(F/m)\n",
    "chi=35.4*10**-12;     #electric susceptibility(coul**2/nt-m**2)\n",
    "\n",
    "#Calculations\n",
    "k=1+(chi/epsilon0);      #dielectric constant\n",
    "epsilon=epsilon0*k;      #permittivity(coul**2/nt-m**2) \n",
    "\n",
    "#Result\n",
    "print \"dielectric constant is\",k\n",
    "print \"permittivity is\",round(epsilon*10**12,2),\"*10**-12 coul**2/nt-m**2\""
   ]
  },
  {
   "cell_type": "markdown",
   "metadata": {},
   "source": [
    "# Example number 10.8, Page number 279"
   ]
  },
  {
   "cell_type": "code",
   "execution_count": 11,
   "metadata": {
    "collapsed": false
   },
   "outputs": [
    {
     "name": "stdout",
     "output_type": "stream",
     "text": [
      "dipole moment is 2.4437 *10**-41 C/m**2\n",
      "answer in the book is wrong\n"
     ]
    }
   ],
   "source": [
    "#importing modules\n",
    "import math\n",
    "from __future__ import division\n",
    "\n",
    "#Variable declaration    \n",
    "epsilon0=8.85*10**-12;        #relative permeability(F/m)\n",
    "E=100;               #electric field(N/C)\n",
    "epsilonr=1.000074;   #dielectric constant\n",
    "n=2.68*10**27;      #density\n",
    "\n",
    "#Calculations\n",
    "p=epsilon0*E*(epsilonr-1)/n;    #dipole moment(coul-metre)\n",
    "\n",
    "#Result\n",
    "print \"dipole moment is\",round(p*10**41,4),\"*10**-41 C/m**2\"\n",
    "print \"answer in the book is wrong\""
   ]
  },
  {
   "cell_type": "markdown",
   "metadata": {},
   "source": [
    "# Example number 10.9, Page number 287"
   ]
  },
  {
   "cell_type": "code",
   "execution_count": 12,
   "metadata": {
    "collapsed": false
   },
   "outputs": [
    {
     "name": "stdout",
     "output_type": "stream",
     "text": [
      "electronic polarizability is 1.6557 *10**-41 Fm**2\n",
      "relative permittivity is 1.0018\n"
     ]
    }
   ],
   "source": [
    "#importing modules\n",
    "import math\n",
    "from __future__ import division\n",
    "\n",
    "#Variable declaration    \n",
    "epsilon0=8.85*10**-12;        #relative permeability(F/m)\n",
    "R=0.053*10**-9;      #radius(nm)\n",
    "N=9.8*10**26;     #number of atoms\n",
    "\n",
    "#Calculations\n",
    "alphae=4*math.pi*epsilon0*R**3;    #electronic polarizability(Fm**2)\n",
    "epsilonr=1+(4*math.pi*N*R**3);     #relative permittivity\n",
    "\n",
    "#Result\n",
    "print \"electronic polarizability is\",round(alphae*10**41,4),\"*10**-41 Fm**2\"\n",
    "print \"relative permittivity is\",round(epsilonr,4)"
   ]
  },
  {
   "cell_type": "markdown",
   "metadata": {},
   "source": [
    "# Example number 10.10, Page number 288"
   ]
  },
  {
   "cell_type": "code",
   "execution_count": 13,
   "metadata": {
    "collapsed": false
   },
   "outputs": [
    {
     "name": "stdout",
     "output_type": "stream",
     "text": [
      "electronic polarizability is 2.242e-41 Fm**2\n",
      "answer varies due to rounding off errors\n"
     ]
    }
   ],
   "source": [
    "#importing modules\n",
    "import math\n",
    "from __future__ import division\n",
    "\n",
    "#Variable declaration    \n",
    "epsilon0=8.85*10**-12;        #relative permeability(F/m)\n",
    "epsilonr=1.0000684;       #dielectric constant\n",
    "N=2.7*10**25;     #number of atoms\n",
    "\n",
    "#Calculations\n",
    "alphae=epsilon0*(epsilonr-1)/N;    #electronic polarizability(Fm**2)\n",
    "\n",
    "#Result\n",
    "print \"electronic polarizability is\",alphae,\"Fm**2\"\n",
    "print \"answer varies due to rounding off errors\""
   ]
  },
  {
   "cell_type": "markdown",
   "metadata": {},
   "source": [
    "# Example number 10.11, Page number 288"
   ]
  },
  {
   "cell_type": "code",
   "execution_count": 14,
   "metadata": {
    "collapsed": false
   },
   "outputs": [
    {
     "name": "stdout",
     "output_type": "stream",
     "text": [
      "dielectric constant is 1.339\n"
     ]
    }
   ],
   "source": [
    "#importing modules\n",
    "import math\n",
    "from __future__ import division\n",
    "\n",
    "#Variable declaration    \n",
    "epsilon0=8.854*10**-12;        #relative permeability(F/m)\n",
    "alphae=10**-40;       #dielectric polarizability(Fm**2)\n",
    "N=3*10**28;     #number of atoms\n",
    "\n",
    "#Calculations\n",
    "epsilonr=1+(N*alphae/epsilon0);    #dielectric constant\n",
    "\n",
    "#Result\n",
    "print \"dielectric constant is\",round(epsilonr,3)"
   ]
  },
  {
   "cell_type": "markdown",
   "metadata": {},
   "source": [
    "# Example number 10.12, Page number 288"
   ]
  },
  {
   "cell_type": "code",
   "execution_count": 15,
   "metadata": {
    "collapsed": false
   },
   "outputs": [
    {
     "name": "stdout",
     "output_type": "stream",
     "text": [
      "electronic polarizability is 7.9 *10**-40 Fm**2\n",
      "answer in the book is wrong\n"
     ]
    }
   ],
   "source": [
    "#importing modules\n",
    "import math\n",
    "from __future__ import division\n",
    "\n",
    "#Variable declaration    \n",
    "epsilon0=8.85*10**-12;        #relative permeability(F/m)\n",
    "epsilonr=1.0024;       #dielectric constant\n",
    "N=2.7*10**25;     #number of atoms\n",
    "\n",
    "#Calculations\n",
    "alphae=epsilon0*(epsilonr-1)/N;    #electronic polarizability(Fm**2)\n",
    "\n",
    "#Result\n",
    "print \"electronic polarizability is\",round(alphae*10**40,1),\"*10**-40 Fm**2\"\n",
    "print \"answer in the book is wrong\""
   ]
  },
  {
   "cell_type": "markdown",
   "metadata": {},
   "source": [
    "# Example number 10.13, Page number 289"
   ]
  },
  {
   "cell_type": "code",
   "execution_count": 16,
   "metadata": {
    "collapsed": false
   },
   "outputs": [
    {
     "name": "stdout",
     "output_type": "stream",
     "text": [
      "radius of electron cloud is 5.86 *10**-11 m\n",
      "displacement is 6.99987 *10**-17 m\n"
     ]
    }
   ],
   "source": [
    "#importing modules\n",
    "import math\n",
    "from __future__ import division\n",
    "\n",
    "#Variable declaration    \n",
    "epsilonr=1.0000684;       #dielectric constant\n",
    "N=2.7*10**25;     #number of atoms\n",
    "X=1/(9*10**9);\n",
    "E=10**6;        #electric field(V/m)\n",
    "Z=2;     #atomic number\n",
    "e=1.6*10**-19;         #electron charge(coulomb)\n",
    "\n",
    "#Calculations\n",
    "R=((epsilonr-1)/(4*math.pi*N))**(1/3);     #radius of electron cloud(m)\n",
    "x=X*E*R**3/(Z*e);         #displacement(m)\n",
    "\n",
    "#Result\n",
    "print \"radius of electron cloud is\",round(R*10**11,2),\"*10**-11 m\"\n",
    "print \"displacement is\",round(x*10**17,5),\"*10**-17 m\""
   ]
  },
  {
   "cell_type": "markdown",
   "metadata": {},
   "source": [
    "# Example number 10.14, Page number 293"
   ]
  },
  {
   "cell_type": "code",
   "execution_count": 17,
   "metadata": {
    "collapsed": false
   },
   "outputs": [
    {
     "name": "stdout",
     "output_type": "stream",
     "text": [
      "dielectric constant is 1.38\n"
     ]
    }
   ],
   "source": [
    "#importing modules\n",
    "import math\n",
    "from __future__ import division\n",
    "\n",
    "#Variable declaration    \n",
    "epsilon0=8.85*10**-12;       #dielectric constant\n",
    "N=3*10**28;     #number of atoms\n",
    "alphae=10**-40;       #dielectric polarizability(Fm**2)\n",
    "\n",
    "#Calculations\n",
    "x=N*alphae/(3*epsilon0);\n",
    "epsilonr=(1+(2*x))/(1-x);       #dielectric constant\n",
    "\n",
    "#Result\n",
    "print \"dielectric constant is\",round(epsilonr,2)"
   ]
  },
  {
   "cell_type": "markdown",
   "metadata": {},
   "source": [
    "# Example number 10.15, Page number 294"
   ]
  },
  {
   "cell_type": "code",
   "execution_count": 18,
   "metadata": {
    "collapsed": false
   },
   "outputs": [
    {
     "name": "stdout",
     "output_type": "stream",
     "text": [
      "dielectric constant is 3.8\n"
     ]
    }
   ],
   "source": [
    "#importing modules\n",
    "import math\n",
    "from __future__ import division\n",
    "\n",
    "#Variable declaration    \n",
    "epsilon0=8.85*10**-12;       #dielectric constant\n",
    "Na=6.023*10**26;     #number of atoms\n",
    "M=32;       #atomic mass\n",
    "alphae=3.28*10**-40;       #dielectric polarizability(Fm**2)\n",
    "rho=2.08*10**3;         #density(kg/m**3)\n",
    "\n",
    "#Calculations\n",
    "x=Na*rho*alphae/(M*3*epsilon0);\n",
    "epsilonr=(1+(2*x))/(1-x);       #dielectric constant\n",
    "\n",
    "#Result\n",
    "print \"dielectric constant is\",round(epsilonr,1)"
   ]
  },
  {
   "cell_type": "markdown",
   "metadata": {},
   "source": [
    "# Example number 10.16, Page number 294"
   ]
  },
  {
   "cell_type": "code",
   "execution_count": 19,
   "metadata": {
    "collapsed": false
   },
   "outputs": [
    {
     "name": "stdout",
     "output_type": "stream",
     "text": [
      "electronic polarizability is 3.29 *10**-40 Fm**2\n"
     ]
    }
   ],
   "source": [
    "#importing modules\n",
    "import math\n",
    "from __future__ import division\n",
    "\n",
    "#Variable declaration    \n",
    "epsilon0=8.85*10**-12;       #dielectric constant\n",
    "Na=6.02*10**26;     #number of atoms\n",
    "epsilonr=3.75;       #dielectric constant\n",
    "M=32;       #atomic mass\n",
    "rho=2050;         #density(kg/m**3)\n",
    "gama=1/3;       #internal field constant\n",
    "\n",
    "#Calculations\n",
    "N=Na*rho/M;     #number of atoms\n",
    "alphae=((epsilonr-1)/(epsilonr+2))*(3*epsilon0/N);       #electronic polarizability(Fm**2)\n",
    "\n",
    "#Result\n",
    "print \"electronic polarizability is\",round(alphae*10**40,2),\"*10**-40 Fm**2\""
   ]
  },
  {
   "cell_type": "markdown",
   "metadata": {},
   "source": [
    "# Example number 10.17, Page number 295"
   ]
  },
  {
   "cell_type": "code",
   "execution_count": 20,
   "metadata": {
    "collapsed": false
   },
   "outputs": [
    {
     "name": "stdout",
     "output_type": "stream",
     "text": [
      "ratio between electronic and ionic polarizability is 1.738\n"
     ]
    }
   ],
   "source": [
    "#importing modules\n",
    "import math\n",
    "from __future__ import division\n",
    "\n",
    "#Variable declaration    \n",
    "epsilonr=4.94;       #dielectric constant\n",
    "n2=2.69;\n",
    "\n",
    "#Calculations\n",
    "x=(epsilonr-1)/(epsilonr+2);\n",
    "y=(n2-1)/(n2+2);\n",
    "alpha=1/((x/y)-1);       #ratio between electronic and ionic polarizability\n",
    "\n",
    "#Result\n",
    "print \"ratio between electronic and ionic polarizability is\",round(alpha,3)"
   ]
  },
  {
   "cell_type": "markdown",
   "metadata": {},
   "source": [
    "# Example number 10.18, Page number 296"
   ]
  },
  {
   "cell_type": "code",
   "execution_count": 21,
   "metadata": {
    "collapsed": false
   },
   "outputs": [
    {
     "name": "stdout",
     "output_type": "stream",
     "text": [
      "percentage of ionic polarizability is 51.4 %\n"
     ]
    }
   ],
   "source": [
    "#importing modules\n",
    "import math\n",
    "from __future__ import division\n",
    "\n",
    "#Variable declaration    \n",
    "epsilonr=5.6;       #dielectric constant\n",
    "n=1.5;\n",
    "\n",
    "#Calculations\n",
    "x=(epsilonr+2)/(epsilonr-1);\n",
    "y=(n**2-1)/(n**2+2);\n",
    "alpha=(1-(x*y))*100;       #percentage of ionic polarizability\n",
    "\n",
    "#Result\n",
    "print \"percentage of ionic polarizability is\",round(alpha,1),\"%\""
   ]
  }
 ],
 "metadata": {
  "kernelspec": {
   "display_name": "Python 2",
   "language": "python",
   "name": "python2"
  },
  "language_info": {
   "codemirror_mode": {
    "name": "ipython",
    "version": 2
   },
   "file_extension": ".py",
   "mimetype": "text/x-python",
   "name": "python",
   "nbconvert_exporter": "python",
   "pygments_lexer": "ipython2",
   "version": "2.7.11"
  }
 },
 "nbformat": 4,
 "nbformat_minor": 0
}
