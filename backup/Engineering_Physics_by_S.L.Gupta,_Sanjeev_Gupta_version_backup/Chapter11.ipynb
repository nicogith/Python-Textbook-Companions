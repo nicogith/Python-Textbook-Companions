{
 "cells": [
  {
   "cell_type": "markdown",
   "metadata": {},
   "source": [
    "# 11: Magnetic Properties"
   ]
  },
  {
   "cell_type": "markdown",
   "metadata": {},
   "source": [
    "# Example number 11.1, Page number 312"
   ]
  },
  {
   "cell_type": "code",
   "execution_count": 1,
   "metadata": {
    "collapsed": false
   },
   "outputs": [
    {
     "name": "stdout",
     "output_type": "stream",
     "text": [
      "relative permeability is 318.3\n",
      "susceptibility is 317.3\n",
      "answer in the book varies due to rounding off errors\n"
     ]
    }
   ],
   "source": [
    "#importing modules\n",
    "import math\n",
    "from __future__ import division\n",
    "\n",
    "#Variable declaration\n",
    "mew0=4*math.pi*10**-7;\n",
    "B=0.2;     #magnetic induction(web/m**2)\n",
    "H=500;        #magnetic field intensity(amp/m)\n",
    "\n",
    "#Calculation\n",
    "mewr=B/(mew0*H);      #relative permeability\n",
    "chi=mewr-1;       #susceptibility\n",
    "\n",
    "#Result\n",
    "print \"relative permeability is\",round(mewr,1)\n",
    "print \"susceptibility is\",round(chi,1)\n",
    "print \"answer in the book varies due to rounding off errors\""
   ]
  },
  {
   "cell_type": "markdown",
   "metadata": {},
   "source": [
    "# Example number 11.2, Page number 312"
   ]
  },
  {
   "cell_type": "code",
   "execution_count": 2,
   "metadata": {
    "collapsed": false
   },
   "outputs": [
    {
     "name": "stdout",
     "output_type": "stream",
     "text": [
      "relative permeability is 1.00000000948\n",
      "absolute permeability is 1.257 *10**-6\n"
     ]
    }
   ],
   "source": [
    "#importing modules\n",
    "import math\n",
    "from __future__ import division\n",
    "\n",
    "#Variable declaration\n",
    "mew0=4*math.pi*10**-7;\n",
    "chi=948*10**-11;       #susceptibility\n",
    "\n",
    "#Calculation\n",
    "mewr=1+chi;      #relative permeability\n",
    "mew=mewr*mew0;       #absolute permeability\n",
    "\n",
    "#Result\n",
    "print \"relative permeability is\",mewr\n",
    "print \"absolute permeability is\",round(mew*10**6,3),\"*10**-6\""
   ]
  },
  {
   "cell_type": "markdown",
   "metadata": {},
   "source": [
    "# Example number 11.3, Page number 312"
   ]
  },
  {
   "cell_type": "code",
   "execution_count": 3,
   "metadata": {
    "collapsed": false
   },
   "outputs": [
    {
     "name": "stdout",
     "output_type": "stream",
     "text": [
      "relative permeability is 2154\n",
      "answer in the book is wrong\n"
     ]
    }
   ],
   "source": [
    "#importing modules\n",
    "import math\n",
    "from __future__ import division\n",
    "\n",
    "#Variable declaration\n",
    "H=6.5*10**-4;      #magnetizing force(amp/m)\n",
    "M=1.4;       #magnetic field(T)\n",
    "\n",
    "#Calculation\n",
    "chi=M/H;    \n",
    "mewr=1+chi;       #relative permeability\n",
    "\n",
    "#Result\n",
    "print \"relative permeability is\",int(mewr)\n",
    "print \"answer in the book is wrong\""
   ]
  },
  {
   "cell_type": "markdown",
   "metadata": {},
   "source": [
    "# Example number 11.4, Page number 312"
   ]
  },
  {
   "cell_type": "code",
   "execution_count": 4,
   "metadata": {
    "collapsed": false
   },
   "outputs": [
    {
     "name": "stdout",
     "output_type": "stream",
     "text": [
      "relative permeability is 16\n"
     ]
    }
   ],
   "source": [
    "#importing modules\n",
    "import math\n",
    "from __future__ import division\n",
    "\n",
    "#Variable declaration\n",
    "H=220;      #magnetizing force(amp/m)\n",
    "M=3300;       #magnetic field(T)\n",
    "\n",
    "#Calculation\n",
    "chi=(M/H)+1;      #relative permeability\n",
    "\n",
    "#Result\n",
    "print \"relative permeability is\",int(chi)"
   ]
  },
  {
   "cell_type": "markdown",
   "metadata": {},
   "source": [
    "# Example number 11.5, Page number 313"
   ]
  },
  {
   "cell_type": "code",
   "execution_count": 5,
   "metadata": {
    "collapsed": false
   },
   "outputs": [
    {
     "name": "stdout",
     "output_type": "stream",
     "text": [
      "permeability of rod is 0.625 *10**-3 weber/amp.m\n"
     ]
    }
   ],
   "source": [
    "#importing modules\n",
    "import math\n",
    "from __future__ import division\n",
    "\n",
    "#Variable declaration\n",
    "H=1600;      #magnetizing force(amp/m)\n",
    "phi=4*10**-4;     #flux(weber)\n",
    "A=4*10**-4;     #area(m**2)\n",
    "\n",
    "#Calculation\n",
    "B=phi/A;\n",
    "mew=B/H;      #permeability of rod(weber/amp.m)\n",
    "\n",
    "#Result\n",
    "print \"permeability of rod is\",mew*10**3,\"*10**-3 weber/amp.m\""
   ]
  },
  {
   "cell_type": "markdown",
   "metadata": {},
   "source": [
    "# Example number 11.6, Page number 313"
   ]
  },
  {
   "cell_type": "code",
   "execution_count": 6,
   "metadata": {
    "collapsed": false
   },
   "outputs": [
    {
     "name": "stdout",
     "output_type": "stream",
     "text": [
      "magnetisation of material is 1.5 *10**3 A/m\n",
      "flux density is 1.259 T\n",
      "answer in the book varies due to rounding off errors\n"
     ]
    }
   ],
   "source": [
    "#importing modules\n",
    "import math\n",
    "from __future__ import division\n",
    "\n",
    "#Variable declaration\n",
    "H=10**6;      #magnetizing force(amp/m)\n",
    "mew0=4*math.pi*10**-7;\n",
    "chi=1.5*10**-3;       #susceptibility\n",
    "\n",
    "#Calculation\n",
    "M=chi*H;      #magnetisation of material(A/m)\n",
    "B=mew0*(M+H);    #flux density(T)\n",
    "\n",
    "#Result\n",
    "print \"magnetisation of material is\",M/10**3,\"*10**3 A/m\"\n",
    "print \"flux density is\",round(B,3),\"T\"\n",
    "print \"answer in the book varies due to rounding off errors\""
   ]
  },
  {
   "cell_type": "markdown",
   "metadata": {},
   "source": [
    "# Example number 11.7, Page number 313"
   ]
  },
  {
   "cell_type": "code",
   "execution_count": 7,
   "metadata": {
    "collapsed": false
   },
   "outputs": [
    {
     "name": "stdout",
     "output_type": "stream",
     "text": [
      "flux density is 2.0 *10**-2 weber/metre**2\n",
      "magnetic intensity is 32 amp-turn/metre\n",
      "permeability of ring is 6250.0 *10**-7 weber/amp-metre\n",
      "relative permeability is 497.4\n",
      "magnetic susceptibility is 496\n",
      "answer in the book is wrong\n"
     ]
    }
   ],
   "source": [
    "#importing modules\n",
    "import math\n",
    "from __future__ import division\n",
    "\n",
    "#Variable declaration\n",
    "mew0=4*math.pi*10**-7;\n",
    "phi=2*10**-6;     #flux(weber)\n",
    "A=10**-4;     #area(m**2)\n",
    "N=300;      #number of turns\n",
    "l=30*10**-2;    #length(m)\n",
    "i=0.032;     #current(ampere)\n",
    "\n",
    "#Calculation\n",
    "B=phi/A;       #flux density(weber/metre**2)\n",
    "n=N/l;\n",
    "H=n*i;        #magnetic intensity(amp-turn/metre)\n",
    "mew=B/H;      #permeability of ring(weber/amp-metre)\n",
    "mewr=mew/mew0;      #relative permeability\n",
    "chi=mewr-1;      #magnetic susceptibility\n",
    "\n",
    "#Result\n",
    "print \"flux density is\",B*10**2,\"*10**-2 weber/metre**2\"\n",
    "print \"magnetic intensity is\",int(H),\"amp-turn/metre\"\n",
    "print \"permeability of ring is\",mew*10**7,\"*10**-7 weber/amp-metre\"\n",
    "print \"relative permeability is\",round(mewr,1)\n",
    "print \"magnetic susceptibility is\",int(chi)\n",
    "print \"answer in the book is wrong\""
   ]
  },
  {
   "cell_type": "markdown",
   "metadata": {},
   "source": [
    "# Example number 11.8, Page number 316"
   ]
  },
  {
   "cell_type": "code",
   "execution_count": 9,
   "metadata": {
    "collapsed": false
   },
   "outputs": [
    {
     "name": "stdout",
     "output_type": "stream",
     "text": [
      "magnetic moment is 9.53 *10**-24 A-m**2\n",
      "answer in the book varies due to rounding off errors\n"
     ]
    }
   ],
   "source": [
    "#importing modules\n",
    "import math\n",
    "from __future__ import division\n",
    "\n",
    "#Variable declaration\n",
    "new=6.5*10**15;        #frequency(Hz)\n",
    "r=0.54*10**-10;        #radius(m)\n",
    "e=1.6*10**-19;     #charge(coulomb)\n",
    "\n",
    "#Calculation\n",
    "mew_m=e*new*math.pi*r**2;      #magnetic moment(A-m**2)\n",
    "\n",
    "#Result\n",
    "print \"magnetic moment is\",round(mew_m*10**24,2),\"*10**-24 A-m**2\"\n",
    "print \"answer in the book varies due to rounding off errors\""
   ]
  },
  {
   "cell_type": "markdown",
   "metadata": {},
   "source": [
    "# Example number 11.9, Page number 317"
   ]
  },
  {
   "cell_type": "code",
   "execution_count": 10,
   "metadata": {
    "collapsed": false
   },
   "outputs": [
    {
     "name": "stdout",
     "output_type": "stream",
     "text": [
      "bohr's magneton is 9.29 *10**-24 J/T\n"
     ]
    }
   ],
   "source": [
    "#importing modules\n",
    "import math\n",
    "from __future__ import division\n",
    "\n",
    "#Variable declaration\n",
    "e=1.6*10**-19;     #charge(coulomb)\n",
    "m=9.1*10**-31;       #mass(kg)\n",
    "h=6.64*10**-34;    #plank's constant(Js)\n",
    "\n",
    "#Calculation\n",
    "mewb=e*h/(4*math.pi*m);      #bohr's magneton(J/T)\n",
    "\n",
    "#Result\n",
    "print \"bohr's magneton is\",round(mewb*10**24,2),\"*10**-24 J/T\""
   ]
  }
 ],
 "metadata": {
  "kernelspec": {
   "display_name": "Python 2",
   "language": "python",
   "name": "python2"
  },
  "language_info": {
   "codemirror_mode": {
    "name": "ipython",
    "version": 2
   },
   "file_extension": ".py",
   "mimetype": "text/x-python",
   "name": "python",
   "nbconvert_exporter": "python",
   "pygments_lexer": "ipython2",
   "version": "2.7.11"
  }
 },
 "nbformat": 4,
 "nbformat_minor": 0
}
