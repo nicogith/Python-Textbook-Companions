{
 "metadata": {
  "name": "",
  "signature": "sha256:8da78b3914613cbb3785b48315fd900bd210e4e84b50eb2e4aa86b6821a0f0e1"
 },
 "nbformat": 3,
 "nbformat_minor": 0,
 "worksheets": [
  {
   "cells": [
    {
     "cell_type": "heading",
     "level": 1,
     "metadata": {},
     "source": [
      "Chapter 3 Atoms and the Bohr model"
     ]
    },
    {
     "cell_type": "heading",
     "level": 2,
     "metadata": {},
     "source": [
      "Example 3.1 Page no 39"
     ]
    },
    {
     "cell_type": "code",
     "collapsed": false,
     "input": [
      "#Given\n",
      "E=-3.4                                       #ev\n",
      "h=6.63*10**-34                               #Js\n",
      "\n",
      "#Calculation\n",
      "import math\n",
      "n=math.sqrt(-13.6/E)\n",
      "M=(n*h)/(2.0*math.pi)\n",
      "\n",
      "#Result\n",
      "print\"Angular momentum of electron is given by \",round(M,36),\" Js\" "
     ],
     "language": "python",
     "metadata": {},
     "outputs": [
      {
       "output_type": "stream",
       "stream": "stdout",
       "text": [
        "Angular momentum of electron is given by  2.11e-34  Js\n"
       ]
      }
     ],
     "prompt_number": 7
    },
    {
     "cell_type": "heading",
     "level": 2,
     "metadata": {},
     "source": [
      "Example 3.2 Page no 40"
     ]
    },
    {
     "cell_type": "code",
     "collapsed": false,
     "input": [
      "#Given\n",
      "E=13.6                          #ev\n",
      "n1=4\n",
      "n2=2\n",
      "\n",
      "#Calculation\n",
      "energy=E*((1/2.0**2)-(1/4.0**2))\n",
      "\n",
      "#Result\n",
      "print\"Energy of photon emitted in the transition is \",energy,\"ev\""
     ],
     "language": "python",
     "metadata": {},
     "outputs": [
      {
       "output_type": "stream",
       "stream": "stdout",
       "text": [
        "Energy of photon emitted in the transition is  2.55 ev\n"
       ]
      }
     ],
     "prompt_number": 7
    },
    {
     "cell_type": "heading",
     "level": 2,
     "metadata": {},
     "source": [
      "Example 3.3 Page no 40"
     ]
    },
    {
     "cell_type": "code",
     "collapsed": false,
     "input": [
      "#Given\n",
      "n1=3\n",
      "n2=2\n",
      "E1=-1.5                                       #ev\n",
      "E2=-3.4                                       #ev\n",
      "h=6.63*10**-34                                 #Js\n",
      "c=3*10**8                                      #m/s\n",
      "e=1.6*10**-19\n",
      "\n",
      "#Calculation\n",
      "v=(h*c)/((E1-E2)*e)\n",
      "\n",
      "#Result\n",
      "print\"Wavelength is \",round(v,10),\"m\""
     ],
     "language": "python",
     "metadata": {},
     "outputs": [
      {
       "output_type": "stream",
       "stream": "stdout",
       "text": [
        "Wavelength is  6.543e-07 m\n"
       ]
      }
     ],
     "prompt_number": 131
    },
    {
     "cell_type": "heading",
     "level": 2,
     "metadata": {},
     "source": [
      "Example 3.4 Page no 40"
     ]
    },
    {
     "cell_type": "code",
     "collapsed": false,
     "input": [
      "#Given\n",
      "v=1200                                 #A\n",
      "R=1.097*10**7                          #m-1\n",
      "n1=2.0\n",
      "n2=3.0\n",
      "\n",
      "#Calculation\n",
      "v1=(R*(1-(1/n1**2)))\n",
      "v2=(R*(1-(1/n2**2)))\n",
      "V=v1/v2\n",
      "V1=V*v\n",
      "\n",
      "#Result\n",
      "print\"Wavelength of the second line is \", V1,\"A\""
     ],
     "language": "python",
     "metadata": {},
     "outputs": [
      {
       "output_type": "stream",
       "stream": "stdout",
       "text": [
        "Wavelength of the second line is  1012.5 A\n"
       ]
      }
     ],
     "prompt_number": 136
    },
    {
     "cell_type": "heading",
     "level": 2,
     "metadata": {},
     "source": [
      "Example 3.5 Page no 41"
     ]
    },
    {
     "cell_type": "code",
     "collapsed": false,
     "input": [
      "#Given\n",
      "R=1.097*10**7                            #m-1\n",
      "n=2\n",
      "\n",
      "#Calculation\n",
      "v=n**2/(3.0*R)\n",
      "v1=1/R                                  # for n=infinite\n",
      "\n",
      "#Result\n",
      "print\"longest wavelength is \",round(v*10**10,0),\"A\"\n",
      "print\"shortest wavelength is \",round(v1*10**10,1),\"A\""
     ],
     "language": "python",
     "metadata": {},
     "outputs": [
      {
       "output_type": "stream",
       "stream": "stdout",
       "text": [
        "longest wavelength is  1215.0 A\n",
        "shortest wavelength is  911.6 A\n"
       ]
      }
     ],
     "prompt_number": 138
    },
    {
     "cell_type": "heading",
     "level": 2,
     "metadata": {},
     "source": [
      "Example 3.6 Page no 41"
     ]
    },
    {
     "cell_type": "code",
     "collapsed": false,
     "input": [
      "#Given\n",
      "E=47.2                               # 3ev\n",
      "n1=2\n",
      "n2 =3\n",
      "\n",
      "#Calculation\n",
      "import math\n",
      "Z=math.sqrt(E/(13.6*((1/2.0**2)-(1/3.0**2))))\n",
      "\n",
      "#Result\n",
      "print\"Atomic number of the atom is \",round(Z,0)"
     ],
     "language": "python",
     "metadata": {},
     "outputs": [
      {
       "output_type": "stream",
       "stream": "stdout",
       "text": [
        "Atomic number of the atom is  5.0\n"
       ]
      }
     ],
     "prompt_number": 13
    },
    {
     "cell_type": "heading",
     "level": 2,
     "metadata": {},
     "source": [
      "Example 3.7 Page no 42"
     ]
    },
    {
     "cell_type": "code",
     "collapsed": false,
     "input": [
      "#Given\n",
      "Z=1.0\n",
      "n=1.0                                       #for the ground state of hydrogen\n",
      "Z1=4                                      #for Be++\n",
      "n1=2.0\n",
      "\n",
      "#Calculation\n",
      "import math\n",
      "n1=math.sqrt((n**2/Z)*Z1)\n",
      "r=(Z1**2/n1**2)/(Z**2/n**2)               #Ratio of two energies\n",
      "\n",
      "#Result\n",
      "print\"nBe++= \", n1\n",
      "print\"comparison is \",r"
     ],
     "language": "python",
     "metadata": {},
     "outputs": [
      {
       "output_type": "stream",
       "stream": "stdout",
       "text": [
        "nBe++=  2.0\n",
        "comparison is  4.0\n"
       ]
      }
     ],
     "prompt_number": 143
    },
    {
     "cell_type": "heading",
     "level": 2,
     "metadata": {},
     "source": [
      "Example 3.8 Page no 42"
     ]
    },
    {
     "cell_type": "code",
     "collapsed": false,
     "input": [
      "#Given\n",
      "Z=3.0\n",
      "n=3                                          #for Li++\n",
      "Z1=1.0\n",
      "n1=1                                         #for hydrogen\n",
      "\n",
      "#Calculation\n",
      "r=(n**2/Z)/(n1**2/Z1)\n",
      "\n",
      "#Result\n",
      "print\"orbital ratio of two states \",r"
     ],
     "language": "python",
     "metadata": {},
     "outputs": [
      {
       "output_type": "stream",
       "stream": "stdout",
       "text": [
        "orbital ratio of two states  3.0\n"
       ]
      }
     ],
     "prompt_number": 144
    },
    {
     "cell_type": "heading",
     "level": 2,
     "metadata": {},
     "source": [
      "Example 3.9 Page no 42"
     ]
    },
    {
     "cell_type": "code",
     "collapsed": false,
     "input": [
      "#Given\n",
      "v=970.6                              #A\n",
      "h=6.63*10**-34                       #Js \n",
      "c=3*10**8                            #m/s\n",
      "\n",
      "#Calculation\n",
      "import math\n",
      "E=((h*c)/(v*e))*10**10\n",
      "En=-13.6+E\n",
      "n=math.sqrt(-13.6/En)\n",
      "E3=-13.6/(3.0**2)\n",
      "vmax=(h*c)/((-E3+En)*(1.6*10**-19))\n",
      "\n",
      "#Result\n",
      "print\"Longest wavelength is \",round(vmax*10**10),\"A\""
     ],
     "language": "python",
     "metadata": {},
     "outputs": [
      {
       "output_type": "stream",
       "stream": "stdout",
       "text": [
        "Longest wavelength is  17292.0 A\n"
       ]
      }
     ],
     "prompt_number": 159
    },
    {
     "cell_type": "heading",
     "level": 2,
     "metadata": {},
     "source": [
      "Example 3.10 Page no 43"
     ]
    },
    {
     "cell_type": "code",
     "collapsed": false,
     "input": [
      "#Given\n",
      "Z=2\n",
      "E=13.6                               #ev\n",
      "E0=10.04                             #ev\n",
      "\n",
      "#Calculation\n",
      "Ei=Z**2*E\n",
      "E1=-Ei\n",
      "E3=E1/(3.0**2)\n",
      "Ee=E0+E3\n",
      "\n",
      "#Result\n",
      "print\"Required stopping potential is \", round(Ee,0),\"V\""
     ],
     "language": "python",
     "metadata": {},
     "outputs": [
      {
       "output_type": "stream",
       "stream": "stdout",
       "text": [
        "Required stopping potential is  4.0 V\n"
       ]
      }
     ],
     "prompt_number": 50
    },
    {
     "cell_type": "heading",
     "level": 2,
     "metadata": {},
     "source": [
      "Example 3.11 Page no 44"
     ]
    },
    {
     "cell_type": "code",
     "collapsed": false,
     "input": [
      "#Given\n",
      "Ei=4*2.2*10**-18                           #Joule\n",
      "h=6.6*10**-34                              #Js\n",
      "c=3*10**8                                  #m/s\n",
      "\n",
      "#Calculation\n",
      "E1=-Ei\n",
      "E2=E1/(2.0**2)\n",
      "v=(h*c)/(Ei+E2)\n",
      "\n",
      "#Result\n",
      "print\"Wavelength is \", round(v*10**10,0),\"A\""
     ],
     "language": "python",
     "metadata": {},
     "outputs": [
      {
       "output_type": "stream",
       "stream": "stdout",
       "text": [
        "Wavelength is  300.0 A\n"
       ]
      }
     ],
     "prompt_number": 173
    },
    {
     "cell_type": "heading",
     "level": 2,
     "metadata": {},
     "source": [
      "Example 3.12 Page no 44"
     ]
    },
    {
     "cell_type": "code",
     "collapsed": false,
     "input": [
      "#Given\n",
      "n1=3\n",
      "n2 =1\n",
      "E=13.6                                  #ev\n",
      "\n",
      "#Calculation\n",
      "E1=E/(3.0**2)                            #Binding energy of the atom in n=3 state\n",
      "energy=E-E1                              #Energy required for the atomic electron to jump from n=1 to n=3 state\n",
      "\n",
      "#Result\n",
      "print\"The electron beam must, therefore be accelerated through a potential difference of \",round(energy,2),\"V\""
     ],
     "language": "python",
     "metadata": {},
     "outputs": [
      {
       "output_type": "stream",
       "stream": "stdout",
       "text": [
        "The electron beam must, therefore be accelerated through a potential difference of  12.09 V\n"
       ]
      }
     ],
     "prompt_number": 58
    },
    {
     "cell_type": "heading",
     "level": 2,
     "metadata": {},
     "source": [
      "Example 3.13 Page no 46"
     ]
    },
    {
     "cell_type": "code",
     "collapsed": false,
     "input": [
      "#Given\n",
      "Rh=1.09678*10**7                             #m-1\n",
      "Rhe=1.09722*10**7                            #m-1\n",
      "\n",
      "#Calculation\n",
      "Mr=(Rhe-Rh)/(Rh-(Rhe/4.0))                  #ratio of electron mass\n",
      "\n",
      "#Result\n",
      "print\"Ratio of the electron mas to the proton mass \",round(Mr*10**4,2),\"*10**-4\""
     ],
     "language": "python",
     "metadata": {},
     "outputs": [
      {
       "output_type": "stream",
       "stream": "stdout",
       "text": [
        "Ratio of the electron mas to the proton mass  5.35 *10**-4\n"
       ]
      }
     ],
     "prompt_number": 6
    }
   ],
   "metadata": {}
  }
 ]
}