{
 "metadata": {
  "name": "",
  "signature": "sha256:b24ac6268abeb9e8ceafeb2b8fcac357229b810faa15684921ddb633803d3d99"
 },
 "nbformat": 3,
 "nbformat_minor": 0,
 "worksheets": [
  {
   "cells": [
    {
     "cell_type": "heading",
     "level": 1,
     "metadata": {},
     "source": [
      "Chapter 4 Wave nature of matter and the need for a wave function"
     ]
    },
    {
     "cell_type": "heading",
     "level": 2,
     "metadata": {},
     "source": [
      "Example 4.1 Page no 58"
     ]
    },
    {
     "cell_type": "code",
     "collapsed": false,
     "input": [
      "#Given \n",
      "V=100                                     #volts\n",
      "\n",
      "#Calculation \n",
      "import math\n",
      "wavelength=12.3/(math.sqrt(V))\n",
      "\n",
      "#Result\n",
      "print\"de Broglie wavelength of electrons \", wavelength,\"A\""
     ],
     "language": "python",
     "metadata": {},
     "outputs": [
      {
       "output_type": "stream",
       "stream": "stdout",
       "text": [
        "de Broglie wavelength of electrons  1.23 A\n"
       ]
      }
     ],
     "prompt_number": 5
    },
    {
     "cell_type": "heading",
     "level": 2,
     "metadata": {},
     "source": [
      "Example 4.2 Page no 58"
     ]
    },
    {
     "cell_type": "code",
     "collapsed": false,
     "input": [
      "#Given\n",
      "K=100                                       #ev\n",
      "h=6.63*10**-34\n",
      "m=9.1*10**-31\n",
      "e=1.6*10**-19\n",
      "\n",
      "#Calculation\n",
      "import math\n",
      "v=h/(math.sqrt(2*m*K*e))\n",
      "\n",
      "#Result\n",
      "print\"de broglie wavelength of electrons \",round(v*10**10,1),\"A\""
     ],
     "language": "python",
     "metadata": {},
     "outputs": [
      {
       "output_type": "stream",
       "stream": "stdout",
       "text": [
        "de broglie wavelength of electrons  1.2 A\n"
       ]
      }
     ],
     "prompt_number": 109
    },
    {
     "cell_type": "heading",
     "level": 2,
     "metadata": {},
     "source": [
      "Example 4.3 Page no 58"
     ]
    },
    {
     "cell_type": "code",
     "collapsed": false,
     "input": [
      "#Given\n",
      "m=1.675*10**-27                                 #mass of neutron in kg\n",
      "v=1.4*10**-10                                   #de broglie wavelength in m\n",
      "h=6.63*10**-34                                  #Js\n",
      "\n",
      "#Calculation \n",
      "K=(h**2/(2*m*(v**2)))/(1.6*10**-19)\n",
      "\n",
      "#Result\n",
      "print\"Kinetic energy of neutron is \", round(K*10**2,2),\"*10**-2 ev\""
     ],
     "language": "python",
     "metadata": {},
     "outputs": [
      {
       "output_type": "stream",
       "stream": "stdout",
       "text": [
        "Kinetic energy of neutron is  4.18 *10**-2 ev\n"
       ]
      }
     ],
     "prompt_number": 113
    },
    {
     "cell_type": "heading",
     "level": 2,
     "metadata": {},
     "source": [
      "Example 4.4 Page no 58"
     ]
    },
    {
     "cell_type": "code",
     "collapsed": false,
     "input": [
      "#Given\n",
      "E=-3.4                                        #total energy in ev\n",
      "h=6.63*10**-34                                #Js\n",
      "m=9.1*10**-31\n",
      "e=1.6*10**-19                                   \n",
      "\n",
      "#Calculation\n",
      "import math\n",
      "K=-E\n",
      "v=h/(math.sqrt(2*m*K*e))\n",
      "\n",
      "#Result \n",
      "print\"(a) Kinetic energy \",K,\"ev\"\n",
      "print\"(b) de broglie wavelength of the electron is \",round(v*10**10,3),\"A\""
     ],
     "language": "python",
     "metadata": {},
     "outputs": [
      {
       "output_type": "stream",
       "stream": "stdout",
       "text": [
        "(a) Kinetic energy  3.4 ev\n",
        "(b) de broglie wavelength of the electron is  6.663 A\n"
       ]
      }
     ],
     "prompt_number": 64
    },
    {
     "cell_type": "heading",
     "level": 2,
     "metadata": {},
     "source": [
      "Example 4.5 Page no 59"
     ]
    },
    {
     "cell_type": "code",
     "collapsed": false,
     "input": [
      "#Given\n",
      "m=1.672*10**-27                         #mass of neutron in kg\n",
      "h=6.60*10**-34                          #Js\n",
      "v=1.0*10**-10                           #de broglie wavelength in m\n",
      "\n",
      "#Calculation\n",
      "K=(h**2/(2.0*m*v**2))/(1.6*10**-19)\n",
      "\n",
      "#Result\n",
      "print\"Kinetic energy of a neutron is \", round(K*10**2,2),\"*10**-2 ev\""
     ],
     "language": "python",
     "metadata": {},
     "outputs": [
      {
       "output_type": "stream",
       "stream": "stdout",
       "text": [
        "Kinetic energy of a neutron is  8.14 *10**-2 ev\n"
       ]
      }
     ],
     "prompt_number": 116
    },
    {
     "cell_type": "heading",
     "level": 2,
     "metadata": {},
     "source": [
      "Example 4.6 Page no 59"
     ]
    },
    {
     "cell_type": "code",
     "collapsed": false,
     "input": [
      "#Given\n",
      "m=10*10**-3                                        #mass of a ball in kg \n",
      "v=1                                                #Speed in m/s\n",
      "h=6.63*10**-34                                     #Js\n",
      "\n",
      "#Calculation\n",
      "V=h/(m*v)                                          #Wavelength\n",
      "\n",
      "#Result\n",
      "print \"de broglie wavelength is \",V,\"m\"\n",
      "print\"This wavelength is negligible compared to the dimensions of the ball. therefore its effect can not be observed.\""
     ],
     "language": "python",
     "metadata": {},
     "outputs": [
      {
       "output_type": "stream",
       "stream": "stdout",
       "text": [
        "de broglie wavelength is  6.63e-32 m\n",
        "This wavelength is negligible compared to the dimensions of the ball. therefore its effect can not be observed.\n"
       ]
      }
     ],
     "prompt_number": 87
    },
    {
     "cell_type": "heading",
     "level": 2,
     "metadata": {},
     "source": [
      "Example 4.7 Page no 59"
     ]
    },
    {
     "cell_type": "code",
     "collapsed": false,
     "input": [
      "#Given\n",
      "T=27                            #temperature in degree c\n",
      "K=1.38*10**-23                  #boltzmann constant in J/K\n",
      "h=6.63*10**-34                  #Js\n",
      "m=1.67*10**-27\n",
      "\n",
      "#Calculation\n",
      "import math\n",
      "T1=T+273\n",
      "v=h/(math.sqrt(2*m*K*T1))\n",
      "\n",
      "#Result\n",
      "print\"de broglie wavelength is \",round(v*10**10,2),\"A\"\n"
     ],
     "language": "python",
     "metadata": {},
     "outputs": [
      {
       "output_type": "stream",
       "stream": "stdout",
       "text": [
        "de broglie wavelength is  1.78 A\n"
       ]
      }
     ],
     "prompt_number": 94
    },
    {
     "cell_type": "heading",
     "level": 2,
     "metadata": {},
     "source": [
      "Example 4.10 Page no 64"
     ]
    },
    {
     "cell_type": "code",
     "collapsed": false,
     "input": [
      "#Given\n",
      "V=100                                    #ev\n",
      "a=10                                     #degree\n",
      "n=1\n",
      "\n",
      "#Calculation\n",
      "import math\n",
      "v=12.3/(math.sqrt(V))                   #De broglie wavelength\n",
      "d=v/(2*math.sin(a*3.14/180.0))\n",
      "n=(2*d)/v\n",
      "\n",
      "#Result\n",
      "print\"(a) Spacing between the crystal plane is \", round(d,2),\"A\"\n",
      "print\"(b) Peaks in the interference pattern is \",round(n,2)\n",
      "print\"the largest possible value of n is 5\""
     ],
     "language": "python",
     "metadata": {},
     "outputs": [
      {
       "output_type": "stream",
       "stream": "stdout",
       "text": [
        "(a) Spacing between the crystal plane is  3.54 A\n",
        "(b) Peaks in the interference pattern is  5.76\n",
        "the largest possible value of n is 5\n"
       ]
      }
     ],
     "prompt_number": 117
    }
   ],
   "metadata": {}
  }
 ]
}