{
 "metadata": {
  "name": "",
  "signature": "sha256:df09a01a18ea5b59bfa81431af3bf540f8785c24b7f1fddb025b95df17f9d0c1"
 },
 "nbformat": 3,
 "nbformat_minor": 0,
 "worksheets": [
  {
   "cells": [
    {
     "cell_type": "heading",
     "level": 1,
     "metadata": {},
     "source": [
      "Chapter 7 particle in a potential well"
     ]
    },
    {
     "cell_type": "heading",
     "level": 2,
     "metadata": {},
     "source": [
      "Example 7.4 Page no 134"
     ]
    },
    {
     "cell_type": "code",
     "collapsed": false,
     "input": [
      "#Given\n",
      "m=9.1*10**-31                               #Kg\n",
      "h=1.05*10**-34                              #Js\n",
      "ev=1.6*10**-19\n",
      "n1=1\n",
      "n2=2 \n",
      "n3=3\n",
      "a=10**-10                                   #m\n",
      "\n",
      "#Calculation\n",
      "import math\n",
      "E1=((n1**2*math.pi**2*h**2)/(8.0*m*a**2))/(1.6*10**-19)                    #ev\n",
      "E2=n2**2*E1\n",
      "E3=n3**2*E1\n",
      "\n",
      "#Result \n",
      "print\"three lowest energy levels are \",round(E1,1),\"ev,\", round(E2,1),\"ev and \",round(E3,2),\"ev\"\n",
      "print \"their eigenfunctions are 1/10**-5*cos(pie*x/2*10**-10),1/10**-5*sin(pie*x/10**-10) and 1/10**-5*cos(3*pie*x/2*10**-10)\""
     ],
     "language": "python",
     "metadata": {},
     "outputs": [
      {
       "output_type": "stream",
       "stream": "stdout",
       "text": [
        "three lowest energy levels are  9.3 ev, 37.4 ev and  84.08 ev\n",
        "their eigenfunctions are 1/10**-5*cos(pie*x/2*10**-10),1/10**-5*sin(pie*x/10**-10) and 1/10**-5*cos(3*pie*x/2*10**-10)\n"
       ]
      }
     ],
     "prompt_number": 14
    },
    {
     "cell_type": "heading",
     "level": 2,
     "metadata": {},
     "source": [
      "Example 7.5 Page no 135"
     ]
    },
    {
     "cell_type": "code",
     "collapsed": false,
     "input": [
      "#Given\n",
      "m=10.0*10**-3                                            #kgram\n",
      "l= 10.0*10**-2                                           #Length in m\n",
      "h=1.054*10**-34\n",
      "n1=1\n",
      "n2=2 \n",
      "n3=3\n",
      "\n",
      "#Calculation\n",
      "E1=(((3.14*h*n1)**2)/(2.0*m*(l**2)))/(1.6*10**-19)\n",
      "E2=(((3.14*h*n2)**2)/(2.0*m*(l**2)))/(1.6*10**-19)\n",
      "E3=(((3.14*h*n3)**2)/(2.0*m*(l**2)))/(1.6*10**-19)\n",
      "\n",
      "#Result\n",
      "print\"energies are \", round(E1,46),\"ev,\",round(E2,46),\"ev,\",round(E3,45),\"ev\"\n",
      "print\"these energies are extremely small and close together and hence can't be measured\""
     ],
     "language": "python",
     "metadata": {},
     "outputs": [
      {
       "output_type": "stream",
       "stream": "stdout",
       "text": [
        "energies are  3.4e-45 ev, 1.37e-44 ev, 3.1e-44 ev\n",
        "these energies are extremely small and close together and hence can't be measured\n"
       ]
      }
     ],
     "prompt_number": 84
    },
    {
     "cell_type": "heading",
     "level": 2,
     "metadata": {},
     "source": [
      "Example 7.7 Page no 136"
     ]
    },
    {
     "cell_type": "code",
     "collapsed": false,
     "input": [
      "#Given\n",
      "L=10**-9                                         #Width in m\n",
      "v=9.0*10**-9\n",
      "h=1.054*10**-34                                  #Js\n",
      "c=3*10**8                                        #m/s\n",
      "m=9.1*10**-31\n",
      "v1=(9.0+1)*10**-9\n",
      "v2=(9.0-1)*10**-9\n",
      "\n",
      "#Calculation\n",
      "import math\n",
      "n=math.sqrt((4*c*m*(L**2))/(v*math.pi*h))\n",
      "n1=math.sqrt((4*c*m*(L**2))/(v1*math.pi*h))\n",
      "n2=math.sqrt((4*c*m*(L**2))/(v2*math.pi*h))\n",
      "\n",
      "#Result\n",
      "print\"value of n is \",round(n,0),\", When + sign is taken \",round(n2,0),\", when -ve sign is taken \",round(n1,0)"
     ],
     "language": "python",
     "metadata": {},
     "outputs": [
      {
       "output_type": "stream",
       "stream": "stdout",
       "text": [
        "value of n is  19.0 , When + sign is taken  20.0 , when -ve sign is taken  18.0\n"
       ]
      }
     ],
     "prompt_number": 15
    },
    {
     "cell_type": "heading",
     "level": 2,
     "metadata": {},
     "source": [
      "Example 7.8 Page no 136"
     ]
    },
    {
     "cell_type": "code",
     "collapsed": false,
     "input": [
      "#Given\n",
      "L1=0.4\n",
      "L2=0.6\n",
      "L=1                                                #Say\n",
      "\n",
      "#Calculation\n",
      "import math\n",
      "dx=(L2-L1)*L\n",
      "#for ground state\n",
      "P1=2/L*(math.sin(math.pi*L/2.0*L))**2*dx\n",
      "#for first excited state\n",
      "P2=2/L*(math.sin(2*math.pi*L/2.0*L))**2*dx\n",
      "#for second excited state\n",
      "P3=2/L*(math.sin(3*math.pi*L/2.0*L))**2*dx\n",
      "\n",
      "#Result\n",
      "print\"(a) probability for ground state \", P1\n",
      "print\"(b) probability for first excited state \",round(P2,1)\n",
      "print\"(c) Probability for second excited state \", P3"
     ],
     "language": "python",
     "metadata": {},
     "outputs": [
      {
       "output_type": "stream",
       "stream": "stdout",
       "text": [
        "(a) probability for ground state  0.4\n",
        "(b) probability for first excited state  0.0\n",
        "(c) Probability for second excited state  0.4\n"
       ]
      }
     ],
     "prompt_number": 16
    },
    {
     "cell_type": "heading",
     "level": 2,
     "metadata": {},
     "source": [
      "Example 7.9 Page no 140"
     ]
    },
    {
     "cell_type": "code",
     "collapsed": false,
     "input": [
      "#Given\n",
      "a=10.0**-14                             #m\n",
      "m=1.6*10**-27                         #mass of a nucleon in kg\n",
      "h=1.054*10**-34                       #Js\n",
      "\n",
      "#Calculation\n",
      "import math\n",
      "Emin=((3*(math.pi**2)*(h**2))/(2.0*m*(a**2)))/(1.6*10**-19)\n",
      "\n",
      "#Result\n",
      "print\"minimum energy of a nucleon is \", round(Emin*10**-6,1),\"Mev\""
     ],
     "language": "python",
     "metadata": {},
     "outputs": [
      {
       "output_type": "stream",
       "stream": "stdout",
       "text": [
        "minimum energy of a nucleon is  6.4 Mev\n"
       ]
      }
     ],
     "prompt_number": 17
    }
   ],
   "metadata": {}
  }
 ]
}