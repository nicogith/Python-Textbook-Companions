{
 "metadata": {
  "name": "",
  "signature": "sha256:b28e13437e72a8d6bfe6e7e88f944bafb4762aecc71f80de95734c39265374bd"
 },
 "nbformat": 3,
 "nbformat_minor": 0,
 "worksheets": [
  {
   "cells": [
    {
     "cell_type": "heading",
     "level": 1,
     "metadata": {},
     "source": [
      "Chapter 5 Wave packets and the uncertainty principles"
     ]
    },
    {
     "cell_type": "heading",
     "level": 2,
     "metadata": {},
     "source": [
      "Example 5.2 Page no 89"
     ]
    },
    {
     "cell_type": "code",
     "collapsed": false,
     "input": [
      "#Given\n",
      "r=10.0**-14                                 #m\n",
      "h=1.054*10**-34                             #Js\n",
      "m=1.67*10**-27\n",
      "\n",
      "#Calculation\n",
      "p=h/r\n",
      "E=(h**2/(2*m*(r**2)))/(1.6*10**-13)\n",
      "\n",
      "#Result\n",
      "print\"Kinetic energy \",round(E,2),\"Mev\""
     ],
     "language": "python",
     "metadata": {},
     "outputs": [
      {
       "output_type": "stream",
       "stream": "stdout",
       "text": [
        "Kinetic energy  0.21 Mev\n"
       ]
      }
     ],
     "prompt_number": 8
    },
    {
     "cell_type": "heading",
     "level": 2,
     "metadata": {},
     "source": [
      "Example 5.3 Page no 89"
     ]
    },
    {
     "cell_type": "code",
     "collapsed": false,
     "input": [
      "#Given\n",
      "E=100                                    #ev\n",
      "m=9.1*10**-31\n",
      "e=1.6*10**-19\n",
      "x=10.0**-6                                 #m\n",
      "\n",
      "#Calculation\n",
      "import math\n",
      "p=math.sqrt(2*m*E*e)\n",
      "p1=h/x\n",
      "theta=p1/p\n",
      "\n",
      "#Result\n",
      "print\"uncertainty in the angle of emergence \", round(theta*10**4,1),\"*10**-4 radians\"\n",
      "print \"4 seconds of arc\"\n"
     ],
     "language": "python",
     "metadata": {},
     "outputs": [
      {
       "output_type": "stream",
       "stream": "stdout",
       "text": [
        "uncertainty in the angle of emergence  0.2 *10**-4 radians\n",
        "4 seconds of arc\n"
       ]
      }
     ],
     "prompt_number": 44
    },
    {
     "cell_type": "heading",
     "level": 2,
     "metadata": {},
     "source": [
      "Example 5.4 Page no 90"
     ]
    },
    {
     "cell_type": "code",
     "collapsed": false,
     "input": [
      "#Given\n",
      "p=0.2*10**-3*10                           #Kg m/s\n",
      "h=1.054*10**-34\n",
      "x=1*10**-2                                #m\n",
      "\n",
      "#Calculation\n",
      "p1=h/x\n",
      "a=p1/p\n",
      "\n",
      "#Result\n",
      "print\"uncertainty in the angle of emergence \",a,\"radians\"\n",
      "print \"1.1*10**-24 seconds of arc\""
     ],
     "language": "python",
     "metadata": {},
     "outputs": [
      {
       "output_type": "stream",
       "stream": "stdout",
       "text": [
        "uncertainty in the angle of emergence  5.27e-30 radians\n",
        "1.1*10**-24 seconds of arc\n"
       ]
      }
     ],
     "prompt_number": 76
    },
    {
     "cell_type": "heading",
     "level": 2,
     "metadata": {},
     "source": [
      "Example 5.5 Page no 90"
     ]
    },
    {
     "cell_type": "code",
     "collapsed": false,
     "input": [
      "#Given\n",
      "m=50*10**-3                                    #kgram\n",
      "accuracy=0.01\n",
      "v=300                                    #m/s\n",
      "h=1.054*10**-34\n",
      "\n",
      "#Calculation\n",
      "p=m*(v*accuracy)/100.0\n",
      "x=h/p\n",
      "\n",
      "#Result\n",
      "print\"position of the bullet \",round(x,32),\"m\""
     ],
     "language": "python",
     "metadata": {},
     "outputs": [
      {
       "output_type": "stream",
       "stream": "stdout",
       "text": [
        "position of the bullet  7e-32 m\n"
       ]
      }
     ],
     "prompt_number": 59
    },
    {
     "cell_type": "heading",
     "level": 2,
     "metadata": {},
     "source": [
      "Example 5.6 Page no 91"
     ]
    },
    {
     "cell_type": "code",
     "collapsed": false,
     "input": [
      "#Given\n",
      "t=10.0**-12                                       #s\n",
      "h1=1.054*10**-34\n",
      "h=6.625*10**-34\n",
      "\n",
      "#Calculation\n",
      "E=h1/t\n",
      "v=E/h\n",
      "\n",
      "#Result\n",
      "print\"uncertainity in energy is \",E,\"J\"\n",
      "print\"uncertainity in frequency is \",round(v,-9),\"Hz\""
     ],
     "language": "python",
     "metadata": {},
     "outputs": [
      {
       "output_type": "stream",
       "stream": "stdout",
       "text": [
        "uncertainity in energy is  1.054e-22 J\n",
        "uncertainity in frequency is  1.59e+11 Hz\n"
       ]
      }
     ],
     "prompt_number": 65
    },
    {
     "cell_type": "heading",
     "level": 2,
     "metadata": {},
     "source": [
      "Example 5.8 Page no 92"
     ]
    },
    {
     "cell_type": "code",
     "collapsed": false,
     "input": [
      "#Given\n",
      "r=5*10**-15                                    #m\n",
      "h=1.05*10**-34\n",
      "m=1.67*10**-27\n",
      "e=1.6*10**-13\n",
      "\n",
      "#Calculation\n",
      "xmax=2*r                                       #maximum  uncertainity in the position of the nucleon\n",
      "pmin=h/xmax                                    #minimum uncertainity in the momentum of particle\n",
      "Kmin=pmin**2/(2.0*m*e)\n",
      "\n",
      "#Result\n",
      "print\"minimum kinetic energy is\",round(Kmin,1),\"Mev\"\n"
     ],
     "language": "python",
     "metadata": {},
     "outputs": [
      {
       "output_type": "stream",
       "stream": "stdout",
       "text": [
        "minimum kinetic energy is 0.2 Mev\n"
       ]
      }
     ],
     "prompt_number": 70
    },
    {
     "cell_type": "heading",
     "level": 2,
     "metadata": {},
     "source": [
      "Example 5.10 Page no 92"
     ]
    },
    {
     "cell_type": "code",
     "collapsed": false,
     "input": [
      "#Given\n",
      "v=6000*10**-10                                #Wavelength in m\n",
      "t=10**-8                              #s\n",
      "c=3*10**8\n",
      "\n",
      "#Calculation\n",
      "import math\n",
      "v1=v**2/(2.0*math.pi*c*t)\n",
      "\n",
      "#Result\n",
      "print\"width of a line \",round(v1,15),\"m\"\n"
     ],
     "language": "python",
     "metadata": {},
     "outputs": [
      {
       "output_type": "stream",
       "stream": "stdout",
       "text": [
        "width of a line  1.9e-14 m\n"
       ]
      }
     ],
     "prompt_number": 2
    }
   ],
   "metadata": {}
  }
 ]
}