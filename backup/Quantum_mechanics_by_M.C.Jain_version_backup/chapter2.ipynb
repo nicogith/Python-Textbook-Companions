{
 "metadata": {
  "name": "",
  "signature": "sha256:46bc70330d4213802afb03e252b2ad32eb9319ed4cc2a32fe2c16df97a5f1978"
 },
 "nbformat": 3,
 "nbformat_minor": 0,
 "worksheets": [
  {
   "cells": [
    {
     "cell_type": "heading",
     "level": 1,
     "metadata": {},
     "source": [
      "Chapter 2 Particle nature of Radiation; The origin of Quantum theory"
     ]
    },
    {
     "cell_type": "heading",
     "level": 2,
     "metadata": {},
     "source": [
      "Example 2.2 Page no-12"
     ]
    },
    {
     "cell_type": "code",
     "collapsed": false,
     "input": [
      "#Given\n",
      "E=40                                   #W\n",
      "lembda=6000*10**-10                     #m\n",
      "h=6.63*10**-34                          #Js\n",
      "c=3*10**8                            #m/s\n",
      "\n",
      "#Calculation\n",
      "n=(E*lembda)/(h*c)\n",
      "\n",
      "#Result\n",
      "print\"No. of photons emitted per second are given by \",round(n*10**-19,2),\"*10**19\""
     ],
     "language": "python",
     "metadata": {},
     "outputs": [
      {
       "output_type": "stream",
       "stream": "stdout",
       "text": [
        "No. of photons emitted per second are given by  12.07 *10**19\n"
       ]
      }
     ],
     "prompt_number": 27
    },
    {
     "cell_type": "heading",
     "level": 2,
     "metadata": {},
     "source": [
      "Example 2.3 Page no-12"
     ]
    },
    {
     "cell_type": "code",
     "collapsed": false,
     "input": [
      "#Given\n",
      "a=3.2                                    #ev\n",
      "energy=3.8                               #ev\n",
      "e=1.6*10**-19\n",
      "\n",
      "#Calculation\n",
      "c=energy-a\n",
      "Energy=c*e\n",
      "\n",
      "#Result\n",
      "print\"Kinetic energy of the photoelectron is given by \",Energy,\"Joule\""
     ],
     "language": "python",
     "metadata": {},
     "outputs": [
      {
       "output_type": "stream",
       "stream": "stdout",
       "text": [
        "Kinetic energy of the photoelectron is given by  9.6e-20 Joule\n"
       ]
      }
     ],
     "prompt_number": 31
    },
    {
     "cell_type": "heading",
     "level": 2,
     "metadata": {},
     "source": [
      "Example 2.4 Page no-12"
     ]
    },
    {
     "cell_type": "code",
     "collapsed": false,
     "input": [
      "#Given\n",
      "W=3.45                                     #ev\n",
      "h=6.63*10**-34                              #Js\n",
      "c=3*10**8                                   #m/s\n",
      "e=1.6*10**-19\n",
      "\n",
      "#Calculation\n",
      "lembda=(h*c)/(W*e)\n",
      "\n",
      "#Result\n",
      "print\"Maximum wavelength of photon is \",round(lembda*10**10,0),\"A\""
     ],
     "language": "python",
     "metadata": {},
     "outputs": [
      {
       "output_type": "stream",
       "stream": "stdout",
       "text": [
        "Maximum wavelength of photon is  3603.0 A\n"
       ]
      }
     ],
     "prompt_number": 193
    },
    {
     "cell_type": "heading",
     "level": 2,
     "metadata": {},
     "source": [
      "Example 2.5 Page no-12"
     ]
    },
    {
     "cell_type": "code",
     "collapsed": false,
     "input": [
      "#Given\n",
      "W=3                                      #ev\n",
      "h=6.63*10**-34\n",
      "e=1.6*10**-19\n",
      "lembda=3.0*10**-7                     #m\n",
      "c=3*10**8                             #m/s\n",
      "\n",
      "#Calculation\n",
      "v0=(W*e)/h\n",
      "v=c/lembda\n",
      "E=h*(v-v0)\n",
      "E1=(h*(v-v0))/(1.6*10**-19)\n",
      "V0=E/e\n",
      "\n",
      "#Result\n",
      "print\"(a) Threshold frequency \",round(v0*10**-15,2),\"*10**15 HZ\"\n",
      "print\"(b) Maximum energy of photoelectron \",round(E1,2),\"eV\"\n",
      "print\"(c) Stopping potential \",round(V0,2),\"V\""
     ],
     "language": "python",
     "metadata": {},
     "outputs": [
      {
       "output_type": "stream",
       "stream": "stdout",
       "text": [
        "(a) Threshold frequency  0.72 *10**15 HZ\n",
        "(b) Maximum energy of photoelectron  1.14 eV\n",
        "(c) Stopping potential  1.14 V\n"
       ]
      }
     ],
     "prompt_number": 197
    },
    {
     "cell_type": "heading",
     "level": 2,
     "metadata": {},
     "source": [
      "Example 2.6 Page no-13"
     ]
    },
    {
     "cell_type": "code",
     "collapsed": false,
     "input": [
      "#Given\n",
      "v0=6*10**14                              #s**-1\n",
      "h=6.63*10**-34\n",
      "e=1.6*10**-19\n",
      "V0=3\n",
      "\n",
      "#Calculaton\n",
      "W=h*v0\n",
      "W0=(h*v0)/e\n",
      "V=(e*V0+h*v0)/h\n",
      "\n",
      "#Result \n",
      "print\"work function is given by \",round(W0,3),\"ev\"\n",
      "print\"frequency is given by \",round(V*10**-15,2),\"*10**15 s-1\""
     ],
     "language": "python",
     "metadata": {},
     "outputs": [
      {
       "output_type": "stream",
       "stream": "stdout",
       "text": [
        "work function is given by  2.486 ev\n",
        "frequency is given by  1.32 *10**15 s-1\n"
       ]
      }
     ],
     "prompt_number": 88
    },
    {
     "cell_type": "heading",
     "level": 2,
     "metadata": {},
     "source": [
      "Example 2.7 Page no 13"
     ]
    },
    {
     "cell_type": "code",
     "collapsed": false,
     "input": [
      "#Given\n",
      "lembda=6800.0*10**-10                             #m\n",
      "h=6.6*10**-34\n",
      "W=2.3                                          #ev\n",
      "c=3*10**8                                      #m/s\n",
      "\n",
      "#Calculation\n",
      "E=((h*c)/lembda)/1.6*10**-19\n",
      "\n",
      "#Result\n",
      "print\"Energy is \",round(E*10**38,2),\"ev\"\n",
      "print\"since the energy of incident photon is less then the work function of Na, photoelecrticemession is not possible with the given light.\""
     ],
     "language": "python",
     "metadata": {},
     "outputs": [
      {
       "output_type": "stream",
       "stream": "stdout",
       "text": [
        "Energy is  1.82 ev\n",
        "since the energy of incident photon is less then the work function of Na, photoelecrticemession is not possible with the given light.\n"
       ]
      }
     ],
     "prompt_number": 200
    },
    {
     "cell_type": "heading",
     "level": 2,
     "metadata": {},
     "source": [
      "Example 2.8 Page no 14"
     ]
    },
    {
     "cell_type": "code",
     "collapsed": false,
     "input": [
      "#Given\n",
      "lembda=3500*10**-10                               #m\n",
      "h=6.6*10**-34\n",
      "c=3*10**8                                         #m/s\n",
      "\n",
      "#calculation \n",
      "E=((h*c)/lembda)/1.6*10**-19\n",
      "\n",
      "#Result\n",
      "print\"Energy is \" ,round(E*10**38,2),\"ev\"\n",
      "print\"1.9 ev < E < 4.2 ev,only metal B will yield photoelectrons\""
     ],
     "language": "python",
     "metadata": {},
     "outputs": [
      {
       "output_type": "stream",
       "stream": "stdout",
       "text": [
        "Energy is  3.54 ev\n",
        "1.9 ev < E < 4.2 ev,only metal B will yield photoelectrons\n"
       ]
      }
     ],
     "prompt_number": 201
    },
    {
     "cell_type": "heading",
     "level": 2,
     "metadata": {},
     "source": [
      "Example 2.9 Page no 14"
     ]
    },
    {
     "cell_type": "code",
     "collapsed": false,
     "input": [
      "#Given\n",
      "lembda=6.2*10**-6\n",
      "W=0.1                                          #ev\n",
      "h=6.6*10**-34                                  #Js\n",
      "c=3*10**8                                      #m/s\n",
      "e=1.6*10**-19\n",
      "\n",
      "#Calculation\n",
      "E=((h*c)/(lembda*e))-W\n",
      "\n",
      "#Result\n",
      "print\"Maximum kinetic energy of photoelectron \",round(E,1),\"ev\""
     ],
     "language": "python",
     "metadata": {},
     "outputs": [
      {
       "output_type": "stream",
       "stream": "stdout",
       "text": [
        "Maximum kinetic energy of photoelectron  0.1 ev\n"
       ]
      }
     ],
     "prompt_number": 112
    },
    {
     "cell_type": "heading",
     "level": 2,
     "metadata": {},
     "source": [
      "Example 2.10 Page no 14"
     ]
    },
    {
     "cell_type": "code",
     "collapsed": false,
     "input": [
      "#given\n",
      "e=1.60*10**-19                                  #C\n",
      "slope=4.12*10**-15                              #Vs\n",
      "\n",
      "#Calculation\n",
      "h=slope*e\n",
      "\n",
      "#Result\n",
      "print\"Value of plank's constant \",h,\"Js\""
     ],
     "language": "python",
     "metadata": {},
     "outputs": [
      {
       "output_type": "stream",
       "stream": "stdout",
       "text": [
        "Value of plank's constant  6.592e-34 Js\n"
       ]
      }
     ],
     "prompt_number": 114
    },
    {
     "cell_type": "heading",
     "level": 2,
     "metadata": {},
     "source": [
      "Example 2.11 Page no 15"
     ]
    },
    {
     "cell_type": "code",
     "collapsed": false,
     "input": [
      "#Given\n",
      "W=2.26*1.6*10**-19                             #ev\n",
      "v=10**6                                        #m/s\n",
      "m=9*10**-31\n",
      "\n",
      "#Calculation\n",
      "V=((1/2.0)*m*v**2+W)/h\n",
      "\n",
      "#Result\n",
      "print\"frequency of incident radiation \",round(V*10**-15,2),\"*10**15 HZ\""
     ],
     "language": "python",
     "metadata": {},
     "outputs": [
      {
       "output_type": "stream",
       "stream": "stdout",
       "text": [
        "frequency of incident radiation  1.23 *10**15 HZ\n"
       ]
      }
     ],
     "prompt_number": 118
    },
    {
     "cell_type": "heading",
     "level": 2,
     "metadata": {},
     "source": [
      "Example 2.12 Page no 15"
     ]
    },
    {
     "cell_type": "code",
     "collapsed": false,
     "input": [
      "#given\n",
      "V1=.82                                            #volts\n",
      "V2=1.85                                           #volts\n",
      "lembda1=4.0*10**-7                                #m\n",
      "lembda2=3.0*10**-7\n",
      "e=1.6*10**-19\n",
      "c=3.0*10**8                                     #m/s\n",
      "\n",
      "#Calculation\n",
      "lembda=(1/lembda2)-(1/lembda1)\n",
      "h=(e*(V2-V1))/(c*lembda)\n",
      "\n",
      "#Result\n",
      "print\"(a) plank's constant \",h,\"Js\"\n",
      "print\"(b) no, because the stopping potentialdepends only on the wavelength of light and not on its intensity.\""
     ],
     "language": "python",
     "metadata": {},
     "outputs": [
      {
       "output_type": "stream",
       "stream": "stdout",
       "text": [
        "(a) plank's constant  6.592e-34 Js\n",
        "(b) no, because the stopping potentialdepends only on the wavelength of light and not on its intensity.\n"
       ]
      }
     ],
     "prompt_number": 202
    },
    {
     "cell_type": "heading",
     "level": 2,
     "metadata": {},
     "source": [
      "Example 2.13 Page no 16"
     ]
    },
    {
     "cell_type": "markdown",
     "metadata": {},
     "source": [
      "\n"
     ]
    },
    {
     "cell_type": "code",
     "collapsed": false,
     "input": [
      "#given\n",
      "h=6.62*10**-34                              #Js\n",
      "c=3*10**8                                   #m/s\n",
      "lembda=4560.0*10**-10                         #m\n",
      "p=1*10**-3                                  #W\n",
      "a=0.5/100\n",
      "e=1.6*10**-19\n",
      "\n",
      "#calculation\n",
      "E=(h*c)/lembda\n",
      "N=p/E                                       #Number of photons incedent on the surface\n",
      "n=N*a\n",
      "I=n*e\n",
      "\n",
      "#result\n",
      "print\"Photoelectric current \",round(I*10**6,2),\"*10**-6 A\""
     ],
     "language": "python",
     "metadata": {},
     "outputs": [
      {
       "output_type": "stream",
       "stream": "stdout",
       "text": [
        "Photoelectric current  1.84 *10**-6 A\n"
       ]
      }
     ],
     "prompt_number": 131
    },
    {
     "cell_type": "heading",
     "level": 2,
     "metadata": {},
     "source": [
      "Example 2.14 Page no 22"
     ]
    },
    {
     "cell_type": "code",
     "collapsed": false,
     "input": [
      "#given\n",
      "m0=9.1*10**-31                            #Kg\n",
      "c=3*10**8                                #m/s\n",
      "h=6.6*10**-34                            #Js\n",
      "v1=2.0*10**-10                           #m\n",
      "\n",
      "#Calculation\n",
      "import math\n",
      "v= (h/(m0*c))*(1-(math.cos(90))*3.14/180.0)\n",
      "v2=v+v1\n",
      "v0=v2-v1\n",
      "E=(h*c*(v0))/(v1*v2)\n",
      "b=(1/(math.sin(90)*3.14/180.0))*((v2*10**-10/v1)-math.cos(90)*3.14/180.0)\n",
      "angle=3.14/2.0-math.atan(b)\n",
      "\n",
      "#Result\n",
      "print \"(a) the wavelength of scattered photon is \",round(v2*10**10,3),\"A\"\n",
      "print\"(b) The energy of recoil electron is \",round(E*10**17,2),\"*10**-17 J\"\n",
      "print\"(c) angle at which the recoil electron appears \",round(angle,2),\"degree\""
     ],
     "language": "python",
     "metadata": {},
     "outputs": [
      {
       "output_type": "stream",
       "stream": "stdout",
       "text": [
        "(a) the wavelength of scattered photon is  2.024 A\n",
        "(b) The energy of recoil electron is  1.19 *10**-17 J\n",
        "(c) angle at which the recoil electron appears  1.11 degree\n"
       ]
      }
     ],
     "prompt_number": 278
    },
    {
     "cell_type": "heading",
     "level": 2,
     "metadata": {},
     "source": [
      "Example 2.15 Page no 23"
     ]
    },
    {
     "cell_type": "code",
     "collapsed": false,
     "input": [
      "#Given \n",
      "E=0.9                                #Mev\n",
      "a=120                                #degree\n",
      "m=9.1*10**-31                        #Kg\n",
      "c=3*10**8                            #m/s\n",
      "\n",
      "#calculation\n",
      "b=((m*c**2)/1.6*10**-19)*10**32\n",
      "energy=E/(1+2*(E/b)*(3/4.0))\n",
      "\n",
      "#Result\n",
      "print \"energy of scattered photon \",round(energy,3),\"Mev\""
     ],
     "language": "python",
     "metadata": {},
     "outputs": [
      {
       "output_type": "stream",
       "stream": "stdout",
       "text": [
        "energy of scattered photon  0.247 Mev\n"
       ]
      }
     ],
     "prompt_number": 142
    },
    {
     "cell_type": "heading",
     "level": 2,
     "metadata": {},
     "source": [
      "Example 2.16 Page no 24"
     ]
    },
    {
     "cell_type": "code",
     "collapsed": false,
     "input": [
      "#Given\n",
      "v1=2.000*10**-10                       #m\n",
      "v2=2.048*10**-10                       #m\n",
      "a=180                                  #degree\n",
      "a1=60                                  #degree\n",
      "h=6.6*10**-34\n",
      "c=3*10**8\n",
      "\n",
      "#Calculation\n",
      "import math\n",
      "b=(v2-v1)/(1-math.cos(a*3.14/180.0))\n",
      "V=v1+b*(1-math.cos(60*3.14/180.0))\n",
      "E=(h*c*(V-v1))/(V*v1)\n",
      "\n",
      "#Result\n",
      "print\"(a) wavelength of radiation scattered at an angle of 60 degree \",round(V*10**10,3),\"A\"\n",
      "print \"(b) Energy of the recoiul electron is \",round(E*10**18,2),\"*10**-18 J\""
     ],
     "language": "python",
     "metadata": {},
     "outputs": [
      {
       "output_type": "stream",
       "stream": "stdout",
       "text": [
        "(a) wavelength of radiation scattered at an angle of 60 degree  2.012 A\n",
        "(b) Energy of the recoiul electron is  5.9 *10**-18 J\n"
       ]
      }
     ],
     "prompt_number": 277
    },
    {
     "cell_type": "heading",
     "level": 2,
     "metadata": {},
     "source": [
      "Example 2.17 Page no 24"
     ]
    },
    {
     "cell_type": "code",
     "collapsed": false,
     "input": [
      "#Given\n",
      "E=4*10**3*1.6*10**-19\n",
      "m0=9.1*10**-31\n",
      "b=6.4*10**-16\n",
      "d=102.39*10**-16\n",
      "h=6.3*10**-34\n",
      "c=3*10**8\n",
      "\n",
      "#Calculation\n",
      "import math\n",
      "p=math.sqrt(2*m0*E)\n",
      "d=b+d\n",
      "lembda=(2*h*c)/d\n",
      "\n",
      "#Result\n",
      "print\"Wavelength of incident photon is \", round(lembda*10**10,2),\"A\""
     ],
     "language": "python",
     "metadata": {},
     "outputs": [
      {
       "output_type": "stream",
       "stream": "stdout",
       "text": [
        "Wavelength of incident photon is  0.35 A\n"
       ]
      }
     ],
     "prompt_number": 233
    },
    {
     "cell_type": "heading",
     "level": 2,
     "metadata": {},
     "source": [
      "Example 2.19 Page no 26"
     ]
    },
    {
     "cell_type": "code",
     "collapsed": false,
     "input": [
      "#Given\n",
      "E=1.02                               #Mev\n",
      "b=0.51\n",
      "\n",
      "#Calculation\n",
      "import math\n",
      "alpha=E/b\n",
      "a=1/(math.sqrt(2*(alpha+2)))\n",
      "angle=2*(math.asin(a)*180/3.14)\n",
      "e=E/(1.0+alpha*(1-(math.cos(angle*3.14/180.0))))\n",
      "\n",
      "#Result\n",
      "print\"(a) Angle for symmetric scattering is \", round(angle,1),\"degree\"\n",
      "print \"(b) energy of the scattered photon is \",round(e,2),\"Mev\""
     ],
     "language": "python",
     "metadata": {},
     "outputs": [
      {
       "output_type": "stream",
       "stream": "stdout",
       "text": [
        "(a) Angle for symmetric scattering is  41.4 degree\n",
        "(b) energy of the scattered photon is  0.68 Mev\n"
       ]
      }
     ],
     "prompt_number": 263
    }
   ],
   "metadata": {}
  }
 ]
}