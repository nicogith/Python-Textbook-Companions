{
 "metadata": {
  "name": "",
  "signature": "sha256:7906c3ed6cf316425e6f8055a34bac268639221c2739520f565ed9645c9cd808"
 },
 "nbformat": 3,
 "nbformat_minor": 0,
 "worksheets": [
  {
   "cells": [
    {
     "cell_type": "heading",
     "level": 1,
     "metadata": {},
     "source": [
      "Chapter 13 Atomic structure I: One- Electron Atoms"
     ]
    },
    {
     "cell_type": "heading",
     "level": 2,
     "metadata": {},
     "source": [
      "Example 13.1 Page no 252"
     ]
    },
    {
     "cell_type": "code",
     "collapsed": false,
     "input": [
      "#Given\n",
      "d=0.1                                 #m\n",
      "v=10.0**3                               #m/s\n",
      "a=50                                  #gradient of a magnet field Wb/m**2/m\n",
      "b=9.274*10**-27                       #J/Wb/m**2\n",
      "h=1.6605*10**-27\n",
      "\n",
      "#Calculation\n",
      "M=107.868*h\n",
      "z=(b/M)*a*(d**2/v**2)\n",
      "\n",
      "#Result\n",
      "print\"seperation between the two component \",round(z*10**8,1),\"mm\""
     ],
     "language": "python",
     "metadata": {},
     "outputs": [
      {
       "output_type": "stream",
       "stream": "stdout",
       "text": [
        "seperation between the two component  2.6 mm\n"
       ]
      }
     ],
     "prompt_number": 8
    }
   ],
   "metadata": {}
  }
 ]
}