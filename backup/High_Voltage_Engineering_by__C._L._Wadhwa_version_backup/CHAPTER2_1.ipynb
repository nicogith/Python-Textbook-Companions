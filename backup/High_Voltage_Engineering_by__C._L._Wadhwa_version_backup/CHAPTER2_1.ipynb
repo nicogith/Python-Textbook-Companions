{
 "metadata": {
  "name": "",
  "signature": "sha256:01482a520223b52766395f1dfa3883fac0680371a9b1c080c40754b1ebfe2ad7"
 },
 "nbformat": 3,
 "nbformat_minor": 0,
 "worksheets": [
  {
   "cells": [
    {
     "cell_type": "heading",
     "level": 1,
     "metadata": {},
     "source": [
      "CHAPTER 2 -  Generation of High DC and AC Voltages "
     ]
    },
    {
     "cell_type": "heading",
     "level": 2,
     "metadata": {},
     "source": [
      "EXAMPLE 2.1 - PG NO.78"
     ]
    },
    {
     "cell_type": "code",
     "collapsed": false,
     "input": [
      "#Chapter 2,Example 2.1 Page 78 \n",
      "import math\n",
      "#(i) Determine volatge regulation \n",
      "C = 0.06 # micro farad\n",
      "I = 1. #mA\n",
      "f = 150. #Hz\n",
      "n = 10. \n",
      "V = (1./(f*C))*((2.*n**3./3.)+(n**2./2.))\n",
      "perc = (V*100.)/(2.*10.*100.)\n",
      "print'%s %d %s' % (\" (ia) Volatge regulation =\",round(V),\" kV \\n \")\n",
      "print'%s %d %s' % (\" (ib) percentage volatge regulation =\",round(perc),\"% \\n \")\n",
      "#(ii) Ripple volatge\n",
      "delV = (1./(f*C))*(n*(n+1.)/2.)\n",
      "perc = (delV*100)/(2*10*100)\n",
      "print'%s %.1f %s' % (\" (iia) The ripple votage = \",delV,\" kV \\n \")\n",
      "print'%s %.1f %s' % (\" (iib) percentage ripple votage =\",perc,\"% \\n\")\n",
      "#(iii) Optimum no. of stages\n",
      "Vmax = 100.\n",
      "I = 10.**-3.\n",
      "OnS = math.sqrt(Vmax*f*C*10**-6*10**3/I)\n",
      "#(iv) Maximum output volatge\n",
      "Vout = OnS*(4./3.)*Vmax\n",
      "print'%s %d %s' % (\" (iii) Optimum no. of stages = \",OnS,\"\\n\")\n",
      "print'%s %d %s' % (\" (iv) Maximum output volatge =\",Vout,\"KV\\n \")\n",
      "\n",
      "# Answers may vary due to round off error\n"
     ],
     "language": "python",
     "metadata": {},
     "outputs": [
      {
       "output_type": "stream",
       "stream": "stdout",
       "text": [
        " (ia) Volatge regulation = 80  kV \n",
        " \n",
        " (ib) percentage volatge regulation = 4 % \n",
        " \n",
        " (iia) The ripple votage =  6.1  kV \n",
        " \n",
        " (iib) percentage ripple votage = 0.3 % \n",
        "\n",
        " (iii) Optimum no. of stages =  30 \n",
        "\n",
        " (iv) Maximum output volatge = 4000 KV\n",
        " \n"
       ]
      }
     ],
     "prompt_number": 1
    },
    {
     "cell_type": "heading",
     "level": 2,
     "metadata": {},
     "source": [
      "EXAMPLE 2.2 - PG NO.79"
     ]
    },
    {
     "cell_type": "code",
     "collapsed": false,
     "input": [
      "#Chapter 2,Example 2.2 Page 79\n",
      "# based on the circuit Fig.Ex.2.2\n",
      "V = 100. # kVA\n",
      "R = (1./100.)*(200.**2./0.1) # Resistance of transformer\n",
      "r = (5./100.)*(200.**2./0.1) # reactance of transformer\n",
      "print'%s %d %s' % (\" Resistance of transformer =\",R/1000,\"K ohm \\n \")\n",
      "print'%s %d %s' % (\" Reactance of transformer =\",r/1000,\"K ohm \\n \")\n",
      "rC = 400./0.5 # Reactance of capacitor\n",
      "rI = 20. # Inductive reactance\n",
      "ArI = rC-rI # Additional inductive reactance\n",
      "Ic = ArI*1000./314. # inductance required\n",
      "TrC = 8. # total reactance in cercuit in Kohm\n",
      "I = 0.5\n",
      "Vsec = I*TrC # Secondary voltage\n",
      "Vp = 4.*(250./200.) # primary voltage\n",
      "print'%s %d %s' % (\" Reactance of capacitor = \",rC,\" K ohm \\n \")\n",
      "print'%s %d %s' % (\" Inductive reactance = \",rI,\" ohm \\n \")\n",
      "print'%s %d %s' % (\" Additional inductive reactance = \",ArI,\"K ohm\\n \")\n",
      "print'%s %d %s' % (\" Inductive required = \",Ic,\" H \\n \")\n",
      "print'%s %d %s' % (\" Total reactance in cercuit = \",TrC,\" K ohm \\n \")\n",
      "print'%s %d %s' % (\" Secondary voltage = \",Vsec,\"kV \\n \")\n",
      "print'%s %d %s' % (\" Secondary voltage = \",Vp,\" volts \\n \")\n",
      " \n",
      "# Answers may vary due to round off error\n"
     ],
     "language": "python",
     "metadata": {},
     "outputs": [
      {
       "output_type": "stream",
       "stream": "stdout",
       "text": [
        " Resistance of transformer = 4 K ohm \n",
        " \n",
        " Reactance of transformer = 20 K ohm \n",
        " \n",
        " Reactance of capacitor =  800  K ohm \n",
        " \n",
        " Inductive reactance =  20  ohm \n",
        " \n",
        " Additional inductive reactance =  780 K ohm\n",
        " \n",
        " Inductive required =  2484  H \n",
        " \n",
        " Total reactance in cercuit =  8  K ohm \n",
        " \n",
        " Secondary voltage =  4 kV \n",
        " \n",
        " Secondary voltage =  5  volts \n",
        " \n"
       ]
      }
     ],
     "prompt_number": 2
    }
   ],
   "metadata": {}
  }
 ]
}