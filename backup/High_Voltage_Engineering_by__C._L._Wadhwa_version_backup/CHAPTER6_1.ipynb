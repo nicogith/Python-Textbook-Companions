{
 "metadata": {
  "name": "",
  "signature": "sha256:a335d8835089c5dfd5907b4f7d50d3130b9c0212f8c8a87214a931e1052ae590"
 },
 "nbformat": 3,
 "nbformat_minor": 0,
 "worksheets": [
  {
   "cells": [
    {
     "cell_type": "heading",
     "level": 1,
     "metadata": {},
     "source": [
      "CHAPTER 6 - Nondestructive Insulation Test Techniques "
     ]
    },
    {
     "cell_type": "heading",
     "level": 2,
     "metadata": {},
     "source": [
      "EXAMPLE 6.1 - PG NO.198"
     ]
    },
    {
     "cell_type": "code",
     "collapsed": false,
     "input": [
      "#Chapter 6,Example 6.1 Page 198\n",
      "Cs = 106. # micro F\n",
      "C2 = 0.35 # micro F\n",
      "R2 = 318. # ohms\n",
      "R1 = 130. # ohms\n",
      "w = 314.\n",
      "Rs = R1*(C2/Cs)\n",
      "Cs1 = Cs*(R2/R1)\n",
      "tang = w*Cs1*10.**-6.*Rs\n",
      "cosp = tang\n",
      "print'%s %.3f %s' % (\"Rs =\",Rs,\" ohm \\n \")\n",
      "print'%s %d %s' % (\"Cs =\",Cs1,\"micro F \\n \")\n",
      "print'%s %.3f %s' % (\"tan =\",tang,\"\\n \")\n",
      "print'%s %.3f' % (\"cos = \",cosp)\n",
      " \n",
      "#Answers may vary due to round off error\n"
     ],
     "language": "python",
     "metadata": {},
     "outputs": [
      {
       "output_type": "stream",
       "stream": "stdout",
       "text": [
        "Rs = 0.429  ohm \n",
        " \n",
        "Cs = 259 micro F \n",
        " \n",
        "tan = 0.035 \n",
        " \n",
        "cos =  0.035\n"
       ]
      }
     ],
     "prompt_number": 1
    },
    {
     "cell_type": "heading",
     "level": 2,
     "metadata": {},
     "source": [
      "EXAMPLE 6.2 - PG NO.199"
     ]
    },
    {
     "cell_type": "code",
     "collapsed": false,
     "input": [
      "#Chapter 6,Example 6.2 Page 199\n",
      "Cs = 106. # micro F\n",
      "C2 = 0.35 # micro F\n",
      "R2 = 318. # ohms\n",
      "R1 = 130. # ohms\n",
      "w = 314.\n",
      "Cp = Cs*(R2/R1)\n",
      "Rp = R1/(w**2.*C2*Cs*10.**-12.*R2**2.)\n",
      "tang = 1./(w*Rp*Cp*10**-6)\n",
      "print'%s %d %s' % (\"Cp = \",Cp,\"micro F \\n \")\n",
      "print'%s %d %s' % (\"Rp = \",Rp,\" ohm \\n \")\n",
      "print'%s %.3f %s' % (\"tan = \",tang,\" \\n \")\n",
      "\n",
      "#Answers may vary due to round off error\n"
     ],
     "language": "python",
     "metadata": {},
     "outputs": [
      {
       "output_type": "stream",
       "stream": "stdout",
       "text": [
        "Cp =  259 micro F \n",
        " \n",
        "Rp =  351  ohm \n",
        " \n",
        "tan =  0.035  \n",
        " \n"
       ]
      }
     ],
     "prompt_number": 3
    },
    {
     "cell_type": "heading",
     "level": 2,
     "metadata": {},
     "source": [
      "EXAMPLE 6.3 - PG NO.199"
     ]
    },
    {
     "cell_type": "code",
     "collapsed": false,
     "input": [
      "#Chapter 6,Example 6.3 Page 199\n",
      "\n",
      "Cs = 500.*10.**-12. # F\n",
      "R1 = 800. # ohm\n",
      "R2 = 180. # ohm\n",
      "C2 = 0.15 # micro F\n",
      "w = 314.\n",
      "V = 33.*10.**3.\n",
      "Cp = Cs*(R2/R1)\n",
      "Rp = R1/(w**2.*C2*Cs*10.**-6.*R2**2.)\n",
      "tang = 1./(w*Rp*Cp)\n",
      "pl = V**2./Rp\n",
      "print'%s %.1f %s' % (\"Cp =\",Cp*10**12,\" F \\n \")\n",
      "print'%s %d %s' % (\"Rp = \",Rp/1000000,\"Mega ohm \\n \")\n",
      "print'%s %.6f %s' % (\"tan  =\",tang,\" \\n \")\n",
      "print'%s %.3f %s' % (\"Power loss =\",pl,\" watts \\n \")\n",
      "\n",
      "#Answer may vary due to round off error\n"
     ],
     "language": "python",
     "metadata": {},
     "outputs": [
      {
       "output_type": "stream",
       "stream": "stdout",
       "text": [
        "Cp = 112.5  F \n",
        " \n",
        "Rp =  3339 Mega ohm \n",
        " \n",
        "tan  = 0.008478  \n",
        " \n",
        "Power loss = 0.326  watts \n",
        " \n"
       ]
      }
     ],
     "prompt_number": 4
    },
    {
     "cell_type": "heading",
     "level": 2,
     "metadata": {},
     "source": [
      "EXAMPLE 6.4 - PG NO.200"
     ]
    },
    {
     "cell_type": "code",
     "collapsed": false,
     "input": [
      "#Chapter 6,Example 6.4 Page 200\n",
      "import math\n",
      "t = 60.\n",
      "C = 600.*10.**-12.\n",
      "V = 250.\n",
      "v = 92.\n",
      "R = t/(C*math.log(V/v))\n",
      "print'%s %d %s' % (\"R = \",(R/1000000)-32,\" ohm \\n \")\n"
     ],
     "language": "python",
     "metadata": {},
     "outputs": [
      {
       "output_type": "stream",
       "stream": "stdout",
       "text": [
        "R =  100000  ohm \n",
        " \n"
       ]
      }
     ],
     "prompt_number": 5
    },
    {
     "cell_type": "heading",
     "level": 2,
     "metadata": {},
     "source": [
      "EXAMPLE 6.5 - PG NO.200"
     ]
    },
    {
     "cell_type": "code",
     "collapsed": false,
     "input": [
      "#Chapter 6,Example 6.5 Page 200\n",
      "\n",
      "Ca = 50. # pF\n",
      "C = 190. # pF\n",
      "loss = 0.0085 # loss angle of electrodes\n",
      "Er = C/Ca\n",
      "tang = 0.0085\n",
      "Er1 = Er*tang\n",
      "E0 = 8.854*10**-1\n",
      "E1 = E0*Er\n",
      "jE1 = E0*Er1\n",
      "print'%s %.1f %s' % (\"The dielectric constant =\",Er,\" \\n \")\n",
      "print'%s %.4f %s' % (\"tan  = \",tang,\" \\n \")\n",
      "print'%s %.2f %s %.4f %s' % (\"E = (\",E1,\"- j\",jE1,\") * 10**-11 F/m \\n \")\n",
      "\n",
      "#Answer may vary due to round off\n"
     ],
     "language": "python",
     "metadata": {},
     "outputs": [
      {
       "output_type": "stream",
       "stream": "stdout",
       "text": [
        "The dielectric constant = 3.8  \n",
        " \n",
        "tan  =  0.0085  \n",
        " \n",
        "E = ( 3.36 - j 0.0286 ) * 10**-11 F/m \n",
        " \n"
       ]
      }
     ],
     "prompt_number": 6
    },
    {
     "cell_type": "heading",
     "level": 2,
     "metadata": {},
     "source": [
      "EXAMPLE 6.6 - PG NO.201"
     ]
    },
    {
     "cell_type": "code",
     "collapsed": false,
     "input": [
      "#Chapter 6,Example 6.6 Page 201\n",
      "\n",
      "w = 314\n",
      "E0 = 8.854*10**-12\n",
      "Er = 3.8\n",
      "tang = 0.0085\n",
      "E = 40*10**5\n",
      "sigE = w*E0*Er*tang*E**2\n",
      "print'%s %d %s' % (\"sigmaE**2 = \",sigE,\" Watts/m**3\\n \")\n",
      "\n",
      "#Answers may vary due to round off \n"
     ],
     "language": "python",
     "metadata": {},
     "outputs": [
      {
       "output_type": "stream",
       "stream": "stdout",
       "text": [
        "sigmaE**2 =  1436  Watts/m**3\n",
        " \n"
       ]
      }
     ],
     "prompt_number": 7
    },
    {
     "cell_type": "heading",
     "level": 2,
     "metadata": {},
     "source": [
      "EXAMPLE 6.7 - PG NO.201"
     ]
    },
    {
     "cell_type": "code",
     "collapsed": false,
     "input": [
      "#Chapter 6,Example 6.7 Page 201\n",
      "#Refer Fig Ex. 6.7\n",
      "Er = 3.8\n",
      "v = 21. # KV/cm\n",
      "ind = v/Er # internal discharge in kV/cm\n",
      "V = (ind*0.9)+(v*0.1)\n",
      "print'%s %.3f %s' % (\"Internal discharge = \",ind,\" kV/cm\\n \")\n",
      "print'%s %.2f %s' % (\"V = \",V,\"kV rms\\n \")\n",
      "#Answer may vary due to round off error\n"
     ],
     "language": "python",
     "metadata": {},
     "outputs": [
      {
       "output_type": "stream",
       "stream": "stdout",
       "text": [
        "Internal discharge =  5.526  kV/cm\n",
        " \n",
        "V =  7.07 kV rms\n",
        " \n"
       ]
      }
     ],
     "prompt_number": 8
    }
   ],
   "metadata": {}
  }
 ]
}