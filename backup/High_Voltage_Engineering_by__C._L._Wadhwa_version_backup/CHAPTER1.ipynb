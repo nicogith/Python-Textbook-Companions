{
 "metadata": {
  "name": "",
  "signature": "sha256:cb7821e52dda76fa27e45154f9c14ca9fa493fbd763be86cc9be92d018411582"
 },
 "nbformat": 3,
 "nbformat_minor": 0,
 "worksheets": [
  {
   "cells": [
    {
     "cell_type": "heading",
     "level": 1,
     "metadata": {},
     "source": [
      "CHAPTER 1 - Breakdown Mechanism of Gases Liquid and Solid Materials"
     ]
    },
    {
     "cell_type": "heading",
     "level": 2,
     "metadata": {},
     "source": [
      "EXAMPLE 1.1 - PG NO.51"
     ]
    },
    {
     "cell_type": "code",
     "collapsed": false,
     "input": [
      "#Chapter 1,Example 1.1 Page 51\n",
      "import math\n",
      "I = 600. # micor amps\n",
      "x = 0.5 # distance in cm\n",
      "V = 10. # kV\n",
      "I2 = 60. # micro amps\n",
      "x2 = 0.1 # distance in cm \n",
      "#Calculation 600 = I0*exp(0.5*alpha) and 60 = I0*exp(0.1*alpha)\n",
      "alpha =math.log(600./60.)/(0.5-0.1)\n",
      "print'%s %.3f %s' %(\"Townsends first ionising coefficient = \",alpha,\" ionizing collisions/cm\")\n",
      "\n",
      "#Answers may vary due to round of error  \n",
      "\n"
     ],
     "language": "python",
     "metadata": {},
     "outputs": [
      {
       "output_type": "stream",
       "stream": "stdout",
       "text": [
        "Townsends first ionising coefficient =  5.756  ionizing collisions/cm\n"
       ]
      }
     ],
     "prompt_number": 1
    },
    {
     "cell_type": "heading",
     "level": 2,
     "metadata": {},
     "source": [
      "EXAMPLE 1.2 - PG NO.52"
     ]
    },
    {
     "cell_type": "code",
     "collapsed": false,
     "input": [
      "#Chapter 1,Example 1.2 Page 52\n",
      "import math\n",
      "# Refering the table in example 1.2\n",
      "# slope between any two points (math.log(I/I0)/x)\n",
      "# taking the gap between 2 and 2.5 mm\n",
      "I1= 1.5*10**-12\n",
      "I2= 5.6*10**-12\n",
      "I0 = 6*10**-14\n",
      "gi1 = math.log(I1/I0) # gradual increase when gap is 2\n",
      "gi2 = math.log(I2/I0) # gradual increase when gap is 2.5 #claculation in text is wrong\n",
      "slope = (gi1-gi2)/0.05\n",
      "print'%s %.3f %s' %(\"Slope = \", -slope,'\\n') \n",
      "#evaluvating ghama\n",
      "e1 = math.exp(-slope*0.5)\n",
      "e2 = math.exp(-slope*0.5) # -1 is ignored due to the large magnitude\n",
      "ghama = (7*10**7-6*e1)/(e2*7*10**7)\n",
      "print'%s %.3f %s' %(\"Ghama for set 1= \", ghama*100000,\"*10^-5 /cm \\n \")\n",
      "#Gap between the slope for set 2\n",
      "alpha = math.log(12./8.)/0.05\n",
      "print'%s %.1f %s' %(\"Alpha = \", alpha,\" collosions/cm \\n\")\n",
      "e1 = math.exp(alpha*0.5)\n",
      "e2 = math.exp(alpha*0.5) # -1 is ignored due to the large magnitude\n",
      "ghama = (2*10**5-e1)/(e2*2*10**5)\n",
      "print'%s %.1f %s' %(\"Ghama for set 2=\", ghama*100,\"*10^-2 colissions/cm \\n\")\n",
      "\n",
      "#Answers may vary due to round of error  \n"
     ],
     "language": "python",
     "metadata": {},
     "outputs": [
      {
       "output_type": "stream",
       "stream": "stdout",
       "text": [
        "Slope =  26.346 \n",
        "\n",
        "Ghama for set 1=  0.182 *10^-5 /cm \n",
        " \n",
        "Alpha =  8.1  collosions/cm \n",
        "\n",
        "Ghama for set 2= 1.7 *10^-2 colissions/cm \n",
        "\n"
       ]
      }
     ],
     "prompt_number": 2
    },
    {
     "cell_type": "heading",
     "level": 2,
     "metadata": {},
     "source": [
      "EXAMPLE 1.3 - PG NO.53"
     ]
    },
    {
     "cell_type": "code",
     "collapsed": false,
     "input": [
      "#Chapter 1,Example 1.3 Page 53\n",
      "\n",
      "#employing equation Vb = K*d**n\n",
      "#88 = K*4**n --- eq(1)  165 = K*8**n ---eq(2) \n",
      "#dividing eq(2)/q(1)\n",
      "Vb1 = 88.\n",
      "Vb2 = 165.\n",
      "n1 = 0.6286/0.693\n",
      "K1 = Vb1/4**n1\n",
      "#135 = K*6**n --- eq(1)  212 = K*10**n ---eq(2) \n",
      "#dividing eq(2)/q(1) \n",
      "Vb1 = 135.\n",
      "Vb2 = 212.\n",
      "n2 = 0.4513/0.5128\n",
      "K2 = Vb1/6.**n2\n",
      "n = (n1+n2)/2.\n",
      "K = (K1+K2)/2.\n",
      "print'%s %.2f %s %.2f' % (\"n =\",n,\"K = \",K,)\n",
      "\n",
      "#Answer may vary due to round of error \n"
     ],
     "language": "python",
     "metadata": {},
     "outputs": [
      {
       "output_type": "stream",
       "stream": "stdout",
       "text": [
        "n = 0.89 K =  26.46\n"
       ]
      }
     ],
     "prompt_number": 3
    },
    {
     "cell_type": "heading",
     "level": 2,
     "metadata": {},
     "source": [
      "EXAMPLE 1.4 - PG NO.53"
     ]
    },
    {
     "cell_type": "code",
     "collapsed": false,
     "input": [
      "#Chapter 1,Example 1.4 Page 53\n",
      "# Determine (pd)min Vbmin\n",
      "import math\n",
      "A = 12.\n",
      "B = 365.\n",
      "e = 2.718\n",
      "ghama = 0.02\n",
      "K = 51.\n",
      "pd = (e/A)*math.log(1.+(1./ghama))\n",
      "Vbmin = (B/A)*e*math.log(K)\n",
      "print'%s %.2f %s %d %s' % (\"(pd)min = \",pd,\" Vbmin = \",Vbmin,\"Volts\")\n",
      "\n",
      "#Answers may vary due to round of error\n"
     ],
     "language": "python",
     "metadata": {},
     "outputs": [
      {
       "output_type": "stream",
       "stream": "stdout",
       "text": [
        "(pd)min =  0.89  Vbmin =  325 Volts\n"
       ]
      }
     ],
     "prompt_number": 4
    }
   ],
   "metadata": {}
  }
 ]
}