{
 "cells": [
  {
   "cell_type": "markdown",
   "metadata": {},
   "source": [
    "# Chapter 16 : Two Phase Flow"
   ]
  },
  {
   "cell_type": "markdown",
   "metadata": {},
   "source": [
    "## Example 16.2 Page no 183"
   ]
  },
  {
   "cell_type": "code",
   "execution_count": 1,
   "metadata": {
    "collapsed": false
   },
   "outputs": [
    {
     "name": "stdout",
     "output_type": "stream",
     "text": [
      " Example 16.2 page no 183\n",
      "\n",
      "\n",
      "\n",
      " Y_g=32.71 \n",
      "\n",
      " P_drop_t=88.63 psf/100 ft\n",
      "\n",
      " Y_l =12.03 \n",
      "\n",
      " P_drop=90.21 psf/100ft\n"
     ]
    }
   ],
   "source": [
    "from __future__ import division\n",
    "print \" Example 16.2 page no 183\\n\\n\"\n",
    "#cal. pressure drop if the flow for both phases is turbulent\n",
    "#a. since the flow is tt and 1<X<10 ,apply equatuion 16.16b to obtain Y_g\n",
    "X=1.66\n",
    "Y_g=5.80+6.7143*X+6.9643*X**2-0.75*X**3\n",
    "print \"\\n Y_g=%0.2f \"%(Y_g)#\n",
    "#the value of Y_g is an excellent agreement with the values provided by lockhart and Martinelli\n",
    "#then pressure drop is\n",
    "P_drop_g=2.71\n",
    "P_drop_t=Y_g*P_drop_g\n",
    "print \"\\n P_drop_t=%0.2f psf/100 ft\"%(P_drop_t)#\n",
    "#b. applying eq. 16.17b to generate Y_l\n",
    "Y_l=18.219*X**-.8192\n",
    "print \"\\n Y_l =%0.2f \"%(Y_l)#\n",
    "#pressure drop from eq. 16.2\n",
    "P_drop_l=7.50\n",
    "P_drop=Y_l*P_drop_l\n",
    "print \"\\n P_drop=%0.2f psf/100ft\"%(P_drop)# "
   ]
  },
  {
   "cell_type": "markdown",
   "metadata": {},
   "source": [
    "## Example 16.3 Page no 185"
   ]
  },
  {
   "cell_type": "code",
   "execution_count": 2,
   "metadata": {
    "collapsed": false
   },
   "outputs": [
    {
     "name": "stdout",
     "output_type": "stream",
     "text": [
      " Example 16.3 page no 185\n",
      "\n",
      "\n",
      "\n",
      " Y_G_tv=20.48 \n",
      "\n",
      " pressure drop P_drop_a=55.51 psf/100 ft\n",
      "\n",
      " Y_l_tv=8.07 \n",
      "\n",
      " P_drop_b=60.52 psf/100 f\n"
     ]
    }
   ],
   "source": [
    "print \" Example 16.3 page no 185\\n\\n\"\n",
    "#if the flow for the gas phase is turbulent and the liquid phase is viscous\n",
    "#cal. pressure drop total\n",
    "X=1.66#from ex. 16.1\n",
    "Y_G_tv=20-21.81*X+16.357*X**2-1.8333*X**3\n",
    "print \"\\n Y_G_tv=%0.2f \"%(Y_G_tv)#\n",
    "#pressure drop from eq 16.1\n",
    "P_drop_g=2.71\n",
    "P_drop_a=Y_G_tv*P_drop_g\n",
    "print \"\\n pressure drop P_drop_a=%0.2f psf/100 ft\"%(P_drop_a)#\n",
    "#b. applying eq 16.20b to generate Y_l\n",
    "Y_l_tv=11.702*X**-0.7334\n",
    "print \"\\n Y_l_tv=%0.2f \"%(Y_l_tv)#\n",
    "#pressure drop from equation 16.2\n",
    "P_drop_l=7.50\n",
    "P_drop_b=Y_l_tv*P_drop_l\n",
    "print \"\\n P_drop_b=%0.2f psf/100 f\"%(P_drop_b)#"
   ]
  },
  {
   "cell_type": "markdown",
   "metadata": {},
   "source": [
    "## Example 16.4 Page no 187"
   ]
  },
  {
   "cell_type": "code",
   "execution_count": 3,
   "metadata": {
    "collapsed": false
   },
   "outputs": [
    {
     "name": "stdout",
     "output_type": "stream",
     "text": [
      "Example 16.4 page no 187\n",
      "\n",
      "\n",
      "\n",
      " Y_G=12.45 \n",
      "\n",
      " pressure drop P_drop=33.74 psf/100 ft\n",
      "\n",
      " Y_l =4.88 \n",
      "\n",
      " pressure drop P_drop_b=36.61 psf/100 ft\n"
     ]
    }
   ],
   "source": [
    "print \"Example 16.4 page no 187\\n\\n\"\n",
    "#if flow for both phases is laminar then cal pressure drop total\n",
    "#a. apply eq. 16.22b to obtain Y_G\n",
    "X=1.66\n",
    "Y_G=10-10.405*X+8.6786*X**2-0.9167*X**3\n",
    "print \"\\n Y_G=%0.2f \"%(Y_G)#\n",
    "#pressure drop from eq 16.1\n",
    "P_drop_g=2.71\n",
    "P_drop=Y_G*P_drop_g\n",
    "print \"\\n pressure drop P_drop=%0.2f psf/100 ft\"%(P_drop)#\n",
    "#b. apply eq 16.23b to generate Y_l\n",
    "Y_l=6.4699*X**-0.556\n",
    "print \"\\n Y_l =%0.2f \"%(Y_l)#\n",
    "#pressure drop from eq. 16.2\n",
    "P_drop_l=7.50\n",
    "P_drop_b=Y_l*P_drop_l\n",
    "print \"\\n pressure drop P_drop_b=%0.2f psf/100 ft\"%(P_drop_b)#"
   ]
  },
  {
   "cell_type": "markdown",
   "metadata": {},
   "source": [
    "## Example 16.6 Page no 191"
   ]
  },
  {
   "cell_type": "code",
   "execution_count": 4,
   "metadata": {
    "collapsed": false
   },
   "outputs": [
    {
     "name": "stdout",
     "output_type": "stream",
     "text": [
      "\n",
      " Example 16.6 page no 191\n",
      "\n",
      "\n",
      "\n",
      " S=0.03 \n",
      "\n",
      " velocity v_a =3.07 ft/s\n",
      " velocity v_k=1.03 ft/s\n",
      "\n",
      " R_e_a=3557.49\n",
      "R_e_k=6145.91 \n"
     ]
    }
   ],
   "source": [
    "from math import pi\n",
    "print \"\\n Example 16.6 page no 191\\n\\n\"\n",
    "#a mixture of air(a) and kerosene(k) are flowing in a horizontal pipe \n",
    "rho_a=0.075#density of airlb/ft**3\n",
    "meu_a=1.24e-5#viscosity of air ,lb/ft.s\n",
    "q_a=5.3125#flow rate ft**3/s\n",
    "rho_k=52.1#density of kerosene,lb/ft**3\n",
    "meu_k=0.00168#viscosity lof kerosene,lb/ft.s\n",
    "q_k=1.790#flow rate ft**3/s\n",
    "D=.19167#diameter of pipe ,ft\n",
    "S=(pi/4)*D**2#cross sectional area,ft**2\n",
    "print \"\\n S=%0.2f \"%(S)#\n",
    "#superficial velocity of each phase can be obtained by applying either eq, 16.7 and 16.8\n",
    "v_a=q_a/(S*60)#for air\n",
    "v_k=q_k/(S*60)#for kerosene\n",
    "print \"\\n velocity v_a =%0.2f ft/s\\n velocity v_k=%0.2f ft/s\"%(v_a,v_k)#\n",
    "R_e_a=D*rho_a*v_a/meu_a#reynolds no. of Air\n",
    "R_e_k=D*rho_k*v_k/meu_k#reynolds no. of kerosene\n",
    "print \"\\n R_e_a=%0.2f\\nR_e_k=%0.2f \"%(R_e_a,R_e_k)#"
   ]
  }
 ],
 "metadata": {
  "kernelspec": {
   "display_name": "Python 2",
   "language": "python",
   "name": "python2"
  },
  "language_info": {
   "codemirror_mode": {
    "name": "ipython",
    "version": 2
   },
   "file_extension": ".py",
   "mimetype": "text/x-python",
   "name": "python",
   "nbconvert_exporter": "python",
   "pygments_lexer": "ipython2",
   "version": "2.7.9"
  }
 },
 "nbformat": 4,
 "nbformat_minor": 0
}
