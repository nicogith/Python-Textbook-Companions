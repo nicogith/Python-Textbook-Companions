{
 "cells": [
  {
   "cell_type": "markdown",
   "metadata": {},
   "source": [
    "# Chapter 2 : Unit and Dimensions"
   ]
  },
  {
   "cell_type": "markdown",
   "metadata": {},
   "source": [
    "## Example 2.1(1)  Page no.10"
   ]
  },
  {
   "cell_type": "code",
   "execution_count": 1,
   "metadata": {
    "collapsed": false
   },
   "outputs": [
    {
     "name": "stdout",
     "output_type": "stream",
     "text": [
      "Example 2.1(1) Page no. 10\n",
      "\n",
      "\n",
      "8.03 yr =a\n",
      "\n",
      "\n",
      "8.03 yr is 253234080.00 seconds \n",
      "\n",
      "\n"
     ]
    }
   ],
   "source": [
    "from __future__ import division\n",
    "print \"Example 2.1(1) Page no. 10\\n\\n\"\n",
    "#convert 8.03 yr to seconds\n",
    "print \"8.03 yr =a\\n\\n\"\n",
    "yr=365#day\n",
    "day=24#h\n",
    "h=60#min\n",
    "Min=60#second\n",
    "a=8.03*365*24*60*60\n",
    "print \"8.03 yr is %0.2f seconds \\n\\n\"%(a)"
   ]
  },
  {
   "cell_type": "markdown",
   "metadata": {},
   "source": [
    "## Example 2.1(2) Page no. 10"
   ]
  },
  {
   "cell_type": "code",
   "execution_count": 2,
   "metadata": {
    "collapsed": false
   },
   "outputs": [
    {
     "name": "stdout",
     "output_type": "stream",
     "text": [
      "Example 2.1(2) Page no.10\n",
      "\n",
      "\n",
      "150 mile/h =x\n",
      "\n",
      "\n",
      "150 mile/h is 264000.00 yd/h\n",
      "\n"
     ]
    }
   ],
   "source": [
    "print \"Example 2.1(2) Page no.10\\n\\n\"\n",
    "#convert 150 mile/h to yard/h\n",
    "print \"150 mile/h =x\\n\\n\"\n",
    "mile=5280.0#ft\n",
    "ft=(1/3)#yd\n",
    "x=150*5280*(1.0/3)\n",
    "print \"150 mile/h is %0.2f yd/h\\n\"%(x)"
   ]
  },
  {
   "cell_type": "markdown",
   "metadata": {},
   "source": [
    "## Example 2.1(3) Page no. 10"
   ]
  },
  {
   "cell_type": "code",
   "execution_count": 3,
   "metadata": {
    "collapsed": false
   },
   "outputs": [
    {
     "name": "stdout",
     "output_type": "stream",
     "text": [
      "Example 2.1(3) Page no. 10\n",
      "\n",
      "\n",
      "100 m/s**2 =a\n",
      "\n",
      "\n",
      "100 m/s**2 is 1181102.36 ft/min**2\n",
      "\n"
     ]
    }
   ],
   "source": [
    "print \"Example 2.1(3) Page no. 10\\n\\n\"\n",
    "#convert 100 m/s**2 to ft/min**2\n",
    "print \"100 m/s**2 =a\\n\\n\"\n",
    "m =100#cm\n",
    "cm=(1/30.48)#ft\n",
    "min=60#sec\n",
    "a=100*100*(1/30.48)*(60)**2\n",
    "print \"100 m/s**2 is %0.2f ft/min**2\\n\"%(a)"
   ]
  },
  {
   "cell_type": "markdown",
   "metadata": {},
   "source": [
    "## Example 2.1(4) Page no. 10"
   ]
  },
  {
   "cell_type": "code",
   "execution_count": 4,
   "metadata": {
    "collapsed": false
   },
   "outputs": [
    {
     "name": "stdout",
     "output_type": "stream",
     "text": [
      "Example 2.1(4) Page no.10\n",
      "\n",
      " \n",
      "0.03g/cm**3 =x\n",
      "\n",
      "0.03g/cm**3 is 1.87 lb/ft**3\n",
      "\n"
     ]
    }
   ],
   "source": [
    "print \"Example 2.1(4) Page no.10\\n\\n \"\n",
    "#convert 0.03g/cm**3 to lb/ft**3\n",
    "print \"0.03g/cm**3 =x\\n\"\n",
    "g=(1/454)#lb\n",
    "ft=(30.48)**3#cm**3\n",
    "x=0.03*(1.0/454)*(30.48)**3\n",
    "print \"0.03g/cm**3 is %0.2f lb/ft**3\\n\"%(x)"
   ]
  }
 ],
 "metadata": {
  "kernelspec": {
   "display_name": "Python 2",
   "language": "python",
   "name": "python2"
  },
  "language_info": {
   "codemirror_mode": {
    "name": "ipython",
    "version": 2
   },
   "file_extension": ".py",
   "mimetype": "text/x-python",
   "name": "python",
   "nbconvert_exporter": "python",
   "pygments_lexer": "ipython2",
   "version": "2.7.9"
  }
 },
 "nbformat": 4,
 "nbformat_minor": 0
}
