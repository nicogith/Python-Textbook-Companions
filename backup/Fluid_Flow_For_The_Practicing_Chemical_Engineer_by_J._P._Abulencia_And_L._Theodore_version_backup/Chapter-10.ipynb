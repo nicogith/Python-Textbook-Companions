{
 "cells": [
  {
   "cell_type": "markdown",
   "metadata": {},
   "source": [
    "# Chapter 10 : Law of Hydrostatics"
   ]
  },
  {
   "cell_type": "markdown",
   "metadata": {},
   "source": [
    "## Example 10.1 Page no 98 "
   ]
  },
  {
   "cell_type": "code",
   "execution_count": 2,
   "metadata": {
    "collapsed": false
   },
   "outputs": [
    {
     "name": "stdout",
     "output_type": "stream",
     "text": [
      "Example 10.1  pagr no. 98\n",
      "\n",
      "\n",
      "\n",
      " height of mercury h=2.493 ft\n",
      " density of mercury rho=848.700 lb/ft**3\n",
      " atmospheric pressure P_at=2116.000 psf \n",
      "gauge pressure P=2115.809 psf\n",
      " absolute pressure P_ab=4232.000 psf\n"
     ]
    }
   ],
   "source": [
    "from __future__ import division\n",
    "print \"Example 10.1  pagr no. 98\\n\\n\"\n",
    "# in a column of liquid\n",
    "h=2.493#height of the liquid (mercury) column\n",
    "rho=848.7#density of mercury\n",
    "P_at=2116#atmospheric pressure \n",
    "print \"\\n height of mercury h=%0.3f ft\\n density of mercury rho=%0.3f lb/ft**3\\n atmospheric pressure P_at=%0.3f psf \"%(h,rho,P_at)#\n",
    "#refer to equation 10.5\n",
    "g=9.8\n",
    "g_c=9.8\n",
    "P=rho*(g/g_c)*h#gauge pressure \n",
    "P_ab=round(P+P_at)#absolute pressure\n",
    "print \"gauge pressure P=%0.3f psf\\n absolute pressure P_ab=%0.3f psf\"%(P,P_ab)#"
   ]
  },
  {
   "cell_type": "markdown",
   "metadata": {},
   "source": [
    "## Example 10.2 Page no 99"
   ]
  },
  {
   "cell_type": "code",
   "execution_count": 3,
   "metadata": {
    "collapsed": false
   },
   "outputs": [
    {
     "name": "stdout",
     "output_type": "stream",
     "text": [
      "Example 10.2 page no 99\n",
      "\n",
      "\n",
      "\n",
      " density rho=1000.000 kg/m**3\n",
      " pressure P1=10.000 atm\n",
      " pressure P2=1.000 atm\n",
      " height at ocean surface z1=0.000 m\n",
      " \n",
      " depth z2=-92.987 m\n"
     ]
    }
   ],
   "source": [
    "print \"Example 10.2 page no 99\\n\\n\"\n",
    "#determining the depth of  atlantic ocean \n",
    "rho=1000#density of water\n",
    "P1=10#pressure at which depth is to be determine\n",
    "P2=1#pressure at the ocean surface z1\n",
    "z1=0#ocean surface\n",
    "g=9.807#gravitational constant\n",
    "print \"\\n density rho=%0.3f kg/m**3\\n pressure P1=%0.3f atm\\n pressure P2=%0.3f atm\\n height at ocean surface z1=%0.3f m\"%(rho,P1,P2,z1)#\n",
    "z2=z1-(P1-P2)*101325/(rho*g)#depth  at pressure P2\n",
    "print \" \\n depth z2=%0.3f m\"%(z2)#"
   ]
  },
  {
   "cell_type": "markdown",
   "metadata": {},
   "source": [
    "## Example 10.3 Page no 99 "
   ]
  },
  {
   "cell_type": "code",
   "execution_count": 4,
   "metadata": {
    "collapsed": false
   },
   "outputs": [
    {
     "name": "stdout",
     "output_type": "stream",
     "text": [
      "Example 10.3 page no 99 fig 10.1\n",
      "\n",
      "\n",
      "\n",
      "\n",
      " density of water rho=1000.000 kg/m**3\n",
      " density of oil rho_oil=890.000 kg/m**3\n",
      "\n",
      " depth at point 1, z1=0.000 m\n",
      " pressure P1=1.000 atm\n",
      " depth at point 2,z2=-10.980 m\n",
      "\n",
      " gauge pressure P2_gu=95835.965 Pag\n",
      "\n",
      " depth z3=-13.720 m\n",
      " pressure at bottom P3=122707.145 Pag\n",
      "\n",
      " diameter of tank d=6.100 m\n",
      " surface area of tank s=29.225 m**2\n",
      "\n",
      " absolute pressure P3_ab=224032.145 Pag\n",
      " pressure force at bottom F=6.55e+06 N\n",
      "\n",
      " force on the side of the tank F_s=5.73e+06  N\n"
     ]
    }
   ],
   "source": [
    "from math import pi\n",
    "from sympy.mpmath import quad\n",
    "print \"Example 10.3 page no 99 fig 10.1\\n\\n\\n\"\n",
    "#a cylindrical tank contain water and immiscible  oil ,tank isvopen to the atmosphere\n",
    "rho=1000#density of water \n",
    "SG=0.89#special gravity of oil\n",
    "rho_oil=rho*SG#density of oil\n",
    "print \"\\n density of water rho=%0.3f kg/m**3\\n density of oil rho_oil=%0.3f kg/m**3\"%(rho,rho_oil)#\n",
    "#applying bernoulli equationbetween point 1 and 2 to calculate the gauge pressure at water oil interface\n",
    "z1=0#depth at surface\n",
    "P1=1#pressure at point 1\n",
    "z2=-10.98#depth at point 2\n",
    "print \"\\n depth at point 1, z1=%0.3f m\\n pressure P1=%0.3f atm\\n depth at point 2,z2=%0.3f m\"%(z1,P1,z2)#\n",
    "g=9.807#gravitational constant\n",
    "P2_gu=rho_oil*g*(z1-z2)#gauge pressure at point 2\n",
    "print \"\\n gauge pressure P2_gu=%0.3f Pag\"%(P2_gu)#\n",
    "#gauge preesure at bottom z3\n",
    "z3=-13.72\n",
    "P3=P2_gu+rho*g*(z2-z3)\n",
    "print \"\\n depth z3=%0.3f m\\n pressure at bottom P3=%0.3f Pag\"%(z3,P3)#\n",
    "d=6.1#diameter  of tank\n",
    "s=pi*d**2/4#surface area of tank \n",
    "print \"\\n diameter of tank d=%0.3f m\\n surface area of tank s=%0.3f m**2\"%(d,s)#\n",
    "P3_ab=P3+101325#absolute pressure\n",
    "F=P3_ab*s#pressure force at the bottom of tank\n",
    "print \"\\n absolute pressure P3_ab=%0.3f Pag\\n pressure force at bottom F=%0.2e N\"%(P3_ab,F)# \n",
    "#the force on the side of the tank ,within water layer\n",
    "F_s=(pi*d)*quad(lambda z:-11910-9807*z,[-13.72,-10.98])#\n",
    "print \"\\n force on the side of the tank F_s=%0.2e  N\"%(F_s)#"
   ]
  },
  {
   "cell_type": "markdown",
   "metadata": {},
   "source": [
    "## Example 10.4 Page no 102 "
   ]
  },
  {
   "cell_type": "code",
   "execution_count": 5,
   "metadata": {
    "collapsed": false
   },
   "outputs": [
    {
     "name": "stdout",
     "output_type": "stream",
     "text": [
      " Example 10.4 page n0 102 \n",
      "\n",
      "\n",
      "\n",
      " weight of air W_a=200.000 lbf\n",
      " weight of water W_w=120.000 lbf\n",
      " sp.weight of water gamma_w=62.400 lbf/ft**3\n",
      "\n",
      "buoyant force F_b=80.000 lbf\n",
      "\n",
      " volume displaced V_dis=1.282 ft**3\n",
      "\n",
      " density of block rho_b=156.000 lb/ft**3\n"
     ]
    }
   ],
   "source": [
    "print \" Example 10.4 page n0 102 \\n\\n\"\n",
    "W_a=200#weight of material in air\n",
    "W_w=120#weight of material in water\n",
    "gamma_w=62.4#specific weight of water\n",
    "print \"\\n weight of air W_a=%0.3f lbf\\n weight of water W_w=%0.3f lbf\\n sp.weight of water gamma_w=%0.3f lbf/ft**3\"%(W_a,W_w,gamma_w)#\n",
    "F_b=W_a-W_w#buoyant force\\\n",
    "print \"\\nbuoyant force F_b=%0.3f lbf\"%(F_b)#\n",
    "V_dis=F_b/gamma_w#volume displaced\n",
    "print \"\\n volume displaced V_dis=%0.3f ft**3\"%(V_dis)#\n",
    "rho_b=W_a/V_dis#density of block\n",
    "print \"\\n density of block rho_b=%0.3f lb/ft**3\"%(rho_b)##printing mistake in book\n",
    "#assumption of rho_b>rho_w is justified"
   ]
  },
  {
   "cell_type": "markdown",
   "metadata": {},
   "source": [
    "## Example 10.5 Page no 103"
   ]
  },
  {
   "cell_type": "code",
   "execution_count": 6,
   "metadata": {
    "collapsed": false
   },
   "outputs": [
    {
     "name": "stdout",
     "output_type": "stream",
     "text": [
      "\n",
      " Example 10.5 page no 103\n",
      "\n",
      "\n",
      "\n",
      " force F=0.130 N\n",
      " sp.gravity SG=1.300 \n",
      " stem diameter D=0.008 m\n",
      " density rho_w=1000.000 kg/m**3\n",
      " g=ravitational acc. g=9.807 m/s**2\n",
      "\n",
      " height h=0.061 m\n"
     ]
    }
   ],
   "source": [
    "print \"\\n Example 10.5 page no 103\\n\\n\"\n",
    "#a hydrometer is a liquid specific gravity indicator with the value being indicated by the level at which the surface of the liquid intersects the sten when floating in avliquid\n",
    "F=0.13#the total hydrometer weight, N\n",
    "SG=1.3#sp. gravity of liquid\n",
    "D=.008#stem diameter of hydrometer,m\n",
    "rho_w=1000#density of water ,kg/m**3\n",
    "g=9.807\n",
    "pi=22/7\n",
    "print \"\\n force F=%0.3f N\\n sp.gravity SG=%0.3f \\n stem diameter D=%0.3f m\\n density rho_w=%0.3f kg/m**3\\n g=ravitational acc. g=%0.3f m/s**2\"%(F,SG,D,rho_w,g)#\n",
    "h=(4*F/(pi*D**2*rho_w*g))*(1-1/SG)#height where it will float\n",
    "print \"\\n height h=%0.3f m\"%(h)#"
   ]
  },
  {
   "cell_type": "markdown",
   "metadata": {},
   "source": [
    "## Example 10.6 Page no 105"
   ]
  },
  {
   "cell_type": "code",
   "execution_count": 7,
   "metadata": {
    "collapsed": false
   },
   "outputs": [
    {
     "name": "stdout",
     "output_type": "stream",
     "text": [
      "\n",
      " Example 10.6 page no 105 fig. 10.3\n",
      "\n",
      "\n",
      "\n",
      " \n",
      " pressure P=1.817 psi\n",
      "\n",
      "  pressure at right leg P_r=14.700 psia\n",
      " pressure due to water height P_w=1.298 psi\n",
      "\n",
      " absolute pressure P_a=14.181 psia\n",
      " gauge pressure P_g=-0.519 psig\n",
      "\n",
      "pressure in psfa P_af=2042 psfa\n",
      " pressure in psfg P_gf=-75 psfg\n"
     ]
    }
   ],
   "source": [
    "print \"\\n Example 10.6 page no 105 fig. 10.3\\n\\n\\n\"\n",
    "# since the density of air is effectively zero,the contribution of air to the 3 ft. manometer can be neglected\n",
    "#the contribution due to the carbon tetrachloride can be found by using the hydrostatic equation\n",
    "rho=62.3#density of water\n",
    "SG=1.4#/specific gravity of ccl4\n",
    "h=3#height in manometer\n",
    "P=rho*SG*h/144#factor 144 for psf to psi\n",
    "print \" \\n pressure P=%0.3f psi\"%(P)#\n",
    "P_r=14.7#the right leg of manometer is open to atmosphere,atmospheric pressure at this point\n",
    "#contribution to the prssure due to the height of water above pressure gauge\n",
    "P_w=rho*h/144\n",
    "print \"\\n  pressure at right leg P_r=%0.3f psia\\n pressure due to water height P_w=%0.3f psi\"%(P_r,P_w)#\n",
    "P_a=P_r-P+P_w#absolute pressure\n",
    "P_g=P_a-14.7#gauge pressure \n",
    "print \"\\n absolute pressure P_a=%0.3f psia\\n gauge pressure P_g=%0.3f psig\"%(P_a,P_g)#  \n",
    "P_af=P_a*144\n",
    "P_gf=round(P_g*144)\n",
    "print \"\\npressure in psfa P_af=%0.f psfa\\n pressure in psfg P_gf=%0.f psfg\"%(P_af,P_gf)#"
   ]
  }
 ],
 "metadata": {
  "kernelspec": {
   "display_name": "Python 2",
   "language": "python",
   "name": "python2"
  },
  "language_info": {
   "codemirror_mode": {
    "name": "ipython",
    "version": 2
   },
   "file_extension": ".py",
   "mimetype": "text/x-python",
   "name": "python",
   "nbconvert_exporter": "python",
   "pygments_lexer": "ipython2",
   "version": "2.7.9"
  }
 },
 "nbformat": 4,
 "nbformat_minor": 0
}
