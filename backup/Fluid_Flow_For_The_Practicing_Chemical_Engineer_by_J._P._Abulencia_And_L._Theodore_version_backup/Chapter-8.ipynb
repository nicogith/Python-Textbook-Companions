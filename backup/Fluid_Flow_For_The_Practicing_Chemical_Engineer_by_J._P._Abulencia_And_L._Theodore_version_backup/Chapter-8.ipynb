{
 "cells": [
  {
   "cell_type": "markdown",
   "metadata": {},
   "source": [
    "# Chapter 8 : Conservation Law of Energy"
   ]
  },
  {
   "cell_type": "markdown",
   "metadata": {},
   "source": [
    "## Example 8.1 Page no 75"
   ]
  },
  {
   "cell_type": "code",
   "execution_count": 2,
   "metadata": {
    "collapsed": false
   },
   "outputs": [
    {
     "name": "stdout",
     "output_type": "stream",
     "text": [
      "Example 8.1 page no 75\n",
      "\n",
      "\n",
      "\n",
      " heat capacity Cp=1090.000 J/kg.deg c\n",
      " mass flow rate M_dot=9.000 kg/s\n",
      " gas inlet temperature T1=650.000 deg c\n",
      " heat transferred Q=5500000.000 W\n",
      "\n",
      "  temperature T2=89 deg c \n"
     ]
    }
   ],
   "source": [
    "from __future__ import division\n",
    "print \"Example 8.1 page no 75\\n\\n\"\n",
    "# heat is transferred from a gas \n",
    "Cp=1090#average heat capacity of gas\n",
    "M_dot=9#mass flow rate \n",
    "T1=650#gas inlet temperature\n",
    "#kinetic and potential enargy effects are neglected,there is no shaft work\n",
    "Q=5.5e+6#heat transferred\n",
    "delta_H=Q#since there are no kinetic,potential,and shaft work effects\n",
    "print \"\\n heat capacity Cp=%0.3f J/kg.deg c\\n mass flow rate M_dot=%0.3f kg/s\\n gas inlet temperature T1=%0.3f deg c\\n heat transferred Q=%0.3f W\"%(Cp,M_dot,T1,Q)#\n",
    "T2=round(-Q/(M_dot*Cp)) + T1\n",
    "print \"\\n  temperature T2=%0.f deg c \"%(T2)#"
   ]
  },
  {
   "cell_type": "markdown",
   "metadata": {},
   "source": [
    "## Example 8.2 Page no 77 "
   ]
  },
  {
   "cell_type": "code",
   "execution_count": 3,
   "metadata": {
    "collapsed": false
   },
   "outputs": [
    {
     "name": "stdout",
     "output_type": "stream",
     "text": [
      "Example 8.2 page no 77  fig 8.2 \n",
      "\n",
      "\n",
      "\n",
      "\n",
      " flow rate q1=8.000 m**3/s\n",
      " flow rate q2=6.000 m**3/s\n",
      " flow rate q3=14.000 m**3/s\n",
      " enthalpy h1=250.000 j/kg\n",
      " enthalpy h2=150.000 j/kg\n",
      " enthalpy h3=200.000 j/kg\n",
      " density of fluid rho=800.000 kg/m**3\n",
      "\n",
      " enthalpy H=107.239 hp\n",
      "\n",
      " work W_dot=107.239 hp\n"
     ]
    }
   ],
   "source": [
    "print \"Example 8.2 page no 77  fig 8.2 \\n\\n\\n\"\n",
    "#fluid flow in a device\n",
    "#fluid flow with in the control volume is steady\n",
    "q1=8#flow rate at section 1,direction in\n",
    "q2=6#flow rate at section 2, direction in\n",
    "q3=14#flow rate at section 3,direction out\n",
    "h1=250#enthalpy at section 1\n",
    "h2=150#enthalpy at section 2\n",
    "h3=200#enthalpy at section 3\n",
    "rho=800#density of fluid\n",
    "print \"\\n flow rate q1=%0.3f m**3/s\\n flow rate q2=%0.3f m**3/s\\n flow rate q3=%0.3f m**3/s\\n enthalpy h1=%0.3f j/kg\\n enthalpy h2=%0.3f j/kg\\n enthalpy h3=%0.3f j/kg\\n density of fluid rho=%0.3f kg/m**3\"%(q1,q2,q3,h1,h2,h3,rho)#\n",
    "#applying total energy balance\n",
    "hp=746#1 hp=746 kw\n",
    "H=rho*(q1*h1+q2*h2-q3*h3)/hp\n",
    "print \"\\n enthalpy H=%0.3f hp\"%(H)#\n",
    "#for adiabatic steady operation, Q_dot=0\n",
    "W_dot=H#W_dot is work \n",
    "print \"\\n work W_dot=%0.3f hp\"%(W_dot)#\n",
    "#since work is positive ,the surroundings must be doing work on the system through some device"
   ]
  },
  {
   "cell_type": "markdown",
   "metadata": {},
   "source": [
    "## Example 8.5 Page no 81"
   ]
  },
  {
   "cell_type": "code",
   "execution_count": 4,
   "metadata": {
    "collapsed": false
   },
   "outputs": [
    {
     "name": "stdout",
     "output_type": "stream",
     "text": [
      " Example 8.5 page no 81 fig 8.3\n",
      "\n",
      "\n",
      "\n",
      "\n",
      " elevation head at section 1 z1=9.000 m\n",
      " height at section h2=1.000 m\n",
      " diameter of cylindrical tank D1=3.000 m\n",
      " diameter of outlet hole of tank D2=0.300 m\n",
      " gravitational acc. g=9.807 m/s**2\n",
      "\n",
      " time t=90.319 sec\n",
      "\n",
      "  x=-0.010\n"
     ]
    }
   ],
   "source": [
    "from math import sqrt\n",
    "print \" Example 8.5 page no 81 fig 8.3\\n\\n\\n\"\n",
    "#a cylindrical tank filled with water\n",
    "#applying bernoulli equation\n",
    "z1=9#elevation head at section 1\n",
    "h2=1#height at section 2\n",
    "D1=3#diameter of cylindrical tank \n",
    "D2=.3#diameter of outlet hole of tank\n",
    "g=9.807#gravitational acceleration\n",
    "print \"\\n elevation head at section 1 z1=%0.3f m\\n height at section h2=%0.3f m\\n diameter of cylindrical tank D1=%0.3f m\\n diameter of outlet hole of tank D2=%0.3f m\\n gravitational acc. g=%0.3f m/s**2\"%(z1,h2,D1,D2,g)#\n",
    "t=2*((sqrt(z1)-sqrt(h2))/((sqrt(2*g))*(D2/D1)**2))\n",
    "print \"\\n time t=%0.3f sec\"%(t)#\n",
    "x=-(D2/D1)**2#ratio of a/g\n",
    "print \"\\n  x=%0.3f\"%(x)#\n",
    "#for this example the maximum acceleration is 1% of g,therefore saftey use Bernoulli equation  "
   ]
  }
 ],
 "metadata": {
  "kernelspec": {
   "display_name": "Python 2",
   "language": "python",
   "name": "python2"
  },
  "language_info": {
   "codemirror_mode": {
    "name": "ipython",
    "version": 2
   },
   "file_extension": ".py",
   "mimetype": "text/x-python",
   "name": "python",
   "nbconvert_exporter": "python",
   "pygments_lexer": "ipython2",
   "version": "2.7.9"
  }
 },
 "nbformat": 4,
 "nbformat_minor": 0
}
