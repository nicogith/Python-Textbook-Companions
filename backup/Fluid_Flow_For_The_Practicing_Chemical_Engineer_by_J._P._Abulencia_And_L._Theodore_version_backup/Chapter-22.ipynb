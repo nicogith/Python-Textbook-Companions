{
 "cells": [
  {
   "cell_type": "markdown",
   "metadata": {},
   "source": [
    "# Chapter 22 : Industrial Application"
   ]
  },
  {
   "cell_type": "markdown",
   "metadata": {},
   "source": [
    "## Example 22.4 Page no 298"
   ]
  },
  {
   "cell_type": "code",
   "execution_count": 2,
   "metadata": {
    "collapsed": false
   },
   "outputs": [
    {
     "name": "stdout",
     "output_type": "stream",
     "text": [
      "Example 22.4 page no 298\n",
      "\n",
      "\n",
      "\n",
      " velocity v=113.49 ft/s\n",
      "\n",
      " circumference c=3.78 ft/rotation\n",
      "\n",
      " diameter D=1.20 ft\n"
     ]
    }
   ],
   "source": [
    "from __future__ import division\n",
    "from math import sqrt,pi\n",
    "print \"Example 22.4 page no 298\\n\\n\"\n",
    "#a centrifugal pump operating at 1800 rpm ,we have to find the impeller diameter needed to develop a head of 200 ft\n",
    "h=200#height,ft\n",
    "g=32.2#gravitational acc. ft/s**2\n",
    "v=sqrt(2*g*h)#velocity needed to develop a head of 200 ft\n",
    "print \"\\n velocity v=%.2f ft/s\"%(v)#\n",
    "N=1800#pump operating at this rotational speed,in rpm\n",
    "c=v*60/N#the number of feet that the impeller travels in one rotations\n",
    "#this c represents the circumference of the impeller  since it is equal to one rotation \n",
    "print \"\\n circumference c=%.2f ft/rotation\"%(c)#\n",
    "D=c/pi#diameter of the impeller\n",
    "print \"\\n diameter D=%.2f ft\"%(D)#"
   ]
  },
  {
   "cell_type": "markdown",
   "metadata": {},
   "source": [
    "## Example 22.5 Page no 299"
   ]
  },
  {
   "cell_type": "code",
   "execution_count": 3,
   "metadata": {
    "collapsed": false
   },
   "outputs": [
    {
     "name": "stdout",
     "output_type": "stream",
     "text": [
      "Example 22.5 page no 299\n",
      "\n",
      "\n",
      "\n",
      " reynolds no R_e=169425.74 \n",
      "\n",
      " h_f frictional  loss=10.86 J \n",
      "\n",
      " e_l total elbow loss=2.56 J/kg\n",
      "\n",
      " potential energy PE=215.82 J/kg\n",
      "\n",
      " total energy TE=229.24 J/kg\n",
      "\n",
      " theoritical power W_dot_s=4575.71 J/s\n",
      "\n",
      " equivalent head h=23.37 m \n"
     ]
    }
   ],
   "source": [
    "print \"Example 22.5 page no 299\\n\\n\"\n",
    "#water for a processing plant is required to be stored in a reservoir\n",
    "#assume the properties of water at 20 deg C are\n",
    "rho=998#density,kg/m**3\n",
    "meu=0.001#viscosity,N.s/m**2\n",
    "L=120#length of pipe,m\n",
    "D=0.15#diameter  of pipe,m\n",
    "S=(pi/4)*D**2#cross sectional area of pipe\n",
    "#given:\n",
    "q=1.2/60#volumetric flow rate,m**3/s\n",
    "v=q/S#flow velocity,m/s\n",
    "R_e=D*v*rho/meu#reynolds no\n",
    "print \"\\n reynolds no R_e=%.2f \"%(R_e)#\n",
    "#from value of R_e ,flow is clearly turbulent\n",
    "k=0.0005#roughness factor for galvanized iron\n",
    "K_r=k/D#relative roughness\n",
    "f=0.0053#fricion factor from fig. 14.2\n",
    "h_f=4*f*(L/D)*(v**2/2)#friction loss of energy\n",
    "print \"\\n h_f frictional  loss=%.2f J \"%(h_f)#\n",
    "#for right elbows (from table 18.1),the estimated value of resistance coff. K for one regular 90 deg elbows is 0.5\n",
    "K=4#resstance coeff.\n",
    "V_h=v**2/2#velociy head\n",
    "e_l=K*V_h#the total loss from the elbows\n",
    "print \"\\n e_l total elbow loss=%.2f J/kg\"%(e_l)#\n",
    "#the energy to move 1 kg of water against a head of 22m of water is\n",
    "z=22#height,m\n",
    "g=9.81#grav. acc,m/s**2\n",
    "PE=z*g\n",
    "print \"\\n potential energy PE=%.2f J/kg\"%(PE)#\n",
    "TE = h_f + e_l  + PE#total requirement per kg\n",
    "print \"\\n total energy TE=%.2f J/kg\"%(TE)#\n",
    "W_dot_s= TE*q*rho#theoretical power requirement \n",
    "print \"\\n theoritical power W_dot_s=%.2f J/s\"%(W_dot_s)# \n",
    "h=TE/g#head equivalent to the energy requirement \n",
    "print \"\\n equivalent head h=%.2f m \"%(h)#"
   ]
  },
  {
   "cell_type": "markdown",
   "metadata": {},
   "source": [
    "## Example 22.6 Page no 301"
   ]
  },
  {
   "cell_type": "code",
   "execution_count": 4,
   "metadata": {
    "collapsed": false
   },
   "outputs": [
    {
     "name": "stdout",
     "output_type": "stream",
     "text": [
      "Example 22.6 page no 301\n",
      "\n",
      "\n",
      "\n",
      " reynolds no =8.91e+02 \n",
      "\n",
      " gauge reading h=0.17 ft \n"
     ]
    }
   ],
   "source": [
    "from __future__ import division\n",
    "print \"Example 22.6 page no 301\\n\\n\"\n",
    "#oil is flowing through a standard 3/2 inch steel pipe containing a 1 inch square edged orifice\n",
    "v_gal=400#orifice velocity of oil in gal/hr\n",
    "v_o=400*144/(0.785*3600*7.48)#orifice velocity in ft/hr\n",
    "D_o=1/12#diameter of orifice\n",
    "rho=0.87*62.4#density of oil\n",
    "meu=20.6*0.000672#viscosity of oil\n",
    "R_e=D_o*v_o*rho/meu\n",
    "print \"\\n reynolds no =%.2e \"%(R_e)#\n",
    "D_r=0.62#ratio of orifice plate to pipe diametersD_o/D1 = 1/1.61\n",
    "C_d=0.76#discharge coeff. fro fig 19.8\n",
    "g=32.2#grav. acc. ft/s**2\n",
    "h=(v_o**2/(2*g*(C_d)**2))*(1-D_r**4)#height of oil in gauge reading\n",
    "print \"\\n gauge reading h=%.2f ft \"%(h)#"
   ]
  },
  {
   "cell_type": "markdown",
   "metadata": {},
   "source": [
    "## Example 22.7 Page no 302"
   ]
  },
  {
   "cell_type": "code",
   "execution_count": 5,
   "metadata": {
    "collapsed": false
   },
   "outputs": [
    {
     "name": "stdout",
     "output_type": "stream",
     "text": [
      "Example 22.7 page no 302\n",
      "\n",
      " \n",
      "\n",
      " orifice veloctiy v_o=60.76 ft/s\n",
      "\n",
      " R_e_o reynolds no =92475.80 \n",
      "\n",
      " mass flow rate m_dot=403.00 lb/hr\n"
     ]
    }
   ],
   "source": [
    "print \"Example 22.7 page no 302\\n\\n \"\n",
    "#natural gas consisting of essentially pure methane flows through a long straight standard 10 inch steel pipe into which is inserted a square edged orifice 2.50 inches in diameter ,with pressure taps ,each 5 inch from the orifice plate\n",
    "#manometer is attached across the orifice reads 1.60 in H20\n",
    "D_o=2.50#diameter of orifice\n",
    "D_1=10.15#diameter of plate\n",
    "D_r=D_o/D_1#ratio of diameters\n",
    "#assuming the reynolds no R_e in the orifice to be over 30,000\n",
    "C_o=0.61#coeff. of discharge from R_e value\n",
    "g=32.2#garv. acc ft/s**2\n",
    "rho_m=62.4#density of medium (water)\n",
    "rho=0.054#density of methane gas,lb/ft**3\n",
    "h=1.60#manometer reading height,in\n",
    "meu=12*0.011*0.000672#viscosity \n",
    "v_o= C_o*sqrt((2*g*h*rho_m)/(12*rho))# orifice velocity\n",
    "print \"\\n orifice veloctiy v_o=%.2f ft/s\"%(v_o)#\n",
    "R_e_o=D_o*v_o*rho/meu#reynolds no in the orifice\n",
    "print \"\\n R_e_o reynolds no =%.2f \"%(R_e_o)#\n",
    "#from R_e_o value C_o=0.61 is permissible\n",
    "m_dot=round(v_o*(pi/4)*(D_o**2)*rho*(3600/144))#mass flow rate \n",
    "print \"\\n mass flow rate m_dot=%.2f lb/hr\"%(m_dot)#"
   ]
  },
  {
   "cell_type": "markdown",
   "metadata": {},
   "source": [
    "## Example 22.8 Page no 303"
   ]
  },
  {
   "cell_type": "code",
   "execution_count": 6,
   "metadata": {
    "collapsed": false
   },
   "outputs": [
    {
     "name": "stdout",
     "output_type": "stream",
     "text": [
      "Example 22.8 page no 303\n",
      "\n",
      "\n",
      "\n",
      " vol.flow rate q=0.09 m**3/s\n",
      "\n",
      " mach no. M_a =0.10 \n",
      "\n",
      " pressure at point 2=129436.49 Pa\n"
     ]
    }
   ],
   "source": [
    "print \"Example 22.8 page no 303\\n\\n\"\n",
    "#refer to fig 22.1\n",
    "D1=.1#upstream diameter(at station 1),m\n",
    "D2=.06#downstream diameter(station 2),m\n",
    "S2=(pi/4)*D2**2#cross sectional area at point 2\n",
    "rho=1.22#density of air  from ideal gas law\n",
    "rho_m=827#density of medium,kg.m**3\n",
    "g=9.8#gravitational acc.\n",
    "h=0.08#manometer head,m\n",
    "#from bernoulli equation\n",
    "v2=sqrt(2*g*h*((rho_m/rho)-1))#velocity at point 2\n",
    "v1=v2*(D2/D1)**2#velocity at point 1\n",
    "q=v2*S2#volumatric flow rate\n",
    "print \"\\n vol.flow rate q=%.2f m**3/s\"%(q)#\n",
    "#calculation of mach number from equation 15.1\n",
    "T=293#temperature in k\n",
    "c=20*sqrt(T)#speed of light at this temperature,m/s\n",
    "M_a=v2/c#mach no.\n",
    "print \"\\n mach no. M_a =%.2f \"%(M_a)#\n",
    "#noting that M_a=0.095 < 0.3 , we can conclude that flow is incompressible#given \n",
    "P1=130000 #absolute pressure at point 1,pa\n",
    "#by using bernoulli eq for P2\n",
    "P2=P1-rho*v2**2*(1-(D2/D1)**4)/2#pressure at point 2\n",
    "print \"\\n pressure at point 2=%.2f Pa\"%(P2)#"
   ]
  },
  {
   "cell_type": "markdown",
   "metadata": {},
   "source": [
    "## Example 22.9 Page no 305 "
   ]
  },
  {
   "cell_type": "code",
   "execution_count": 7,
   "metadata": {
    "collapsed": false
   },
   "outputs": [
    {
     "name": "stdout",
     "output_type": "stream",
     "text": [
      "\n",
      " Example 22.9 page no 305\n",
      "\n",
      "\n",
      "\n",
      " h_s =305.56 ft.lbf/lb\n",
      "\n",
      " frictional loss h_f=-643.25 ft.lbf/lb\n"
     ]
    }
   ],
   "source": [
    "print \"\\n Example 22.9 page no 305\\n\\n\"\n",
    "#water is flowing from an elevated reservoir through a conduit to a turbine at a lower level and out of the turbine through a similar conduit  \n",
    "#refer to fig 22.2\n",
    "#since the diameter of the conduit is the same at location 1 and 2 ,kinetic energy effects can be  neglected and bernoulli eq. takes the form\n",
    "#P/rho  + z(g/g_c)  -h_s + h_f  = 0\n",
    "P1=30#/pressure at point 1,psia\n",
    "z1=300#height of point 1,ft\n",
    "P2=18#pressure at point 2,psia\n",
    "z2=-10#height of point 2,ft\n",
    "rho=62.4#density\n",
    "m_dot=3600#mass flow rate,tons/hr\n",
    "W_dot =1000#output at the shaft of turbine,hp\n",
    "neta=0.9#efficiency of turbine\n",
    "h_s=W_dot*550*3600/(neta*m_dot*2000)#\n",
    "print \"\\n h_s =%.2f ft.lbf/lb\"%(h_s)#\n",
    "#put this value in bernoulli eq.\n",
    "h_f=(P2-P1)*144/rho + (z2-z1) -h_s#frictional loss\n",
    "print \"\\n frictional loss h_f=%.2f ft.lbf/lb\"%(h_f)"
   ]
  },
  {
   "cell_type": "markdown",
   "metadata": {},
   "source": [
    "## Example 22.10 Page no 306"
   ]
  },
  {
   "cell_type": "code",
   "execution_count": 8,
   "metadata": {
    "collapsed": false
   },
   "outputs": [
    {
     "name": "stdout",
     "output_type": "stream",
     "text": [
      "\n",
      " Example 22.10 page no 306\n",
      "\n",
      "\n",
      "\n",
      " dynamic head D_h=0.92 m\n",
      "\n",
      " pressure at point 3 P3=78265.03 Pa\n",
      "\n",
      "  NPSH=7.06 m\n",
      "\n",
      " new pressure at point 3 P3_n_ab=86273.97 Pa absolute\n",
      "\n",
      " height z3=0.85 m\n"
     ]
    }
   ],
   "source": [
    "print \"\\n Example 22.10 page no 306\\n\\n\"\n",
    "#benzene is pumped from a large tank to a delivery station \n",
    "#refer fig 22.3\n",
    "q=0.003#vol. flow rate,m**3/s\n",
    "#tank is at atmosphric pressure\n",
    "D=0.03#diameter of suction and discharge line,m\n",
    "v_2=q/((pi/4)*D**2)#discharge velocity,m/s\n",
    "#since all diameters are same likewise velocities are same\n",
    "v_3=v_2\n",
    "g=9.807#grav. acc.\n",
    "D_h=(v_3**2)/(2*g)#dynamic head\n",
    "print \"\\n dynamic head D_h=%.2f m\"%(D_h)#\n",
    "z1=0#height at point 1,tank level\n",
    "z2=1.8#height at point 3\n",
    "#applying bernoulli's eq. between the top of the tank(open to theatomsphere)and the inlet to the pump(station3)\n",
    "rho=865#density of benzene,kg/m**3\n",
    "P3=101325-(z2+D_h)*(rho*g)#ptressure at point 3\n",
    "print \"\\n pressure at point 3 P3=%.2f Pa\"%(P3)#\n",
    "P_v=26200#vapor pressure of benzene,Pa\n",
    "NPSH =  (P3 - P_v)/(rho*g) +  D_h\n",
    "print \"\\n  NPSH=%.2f m\"%(NPSH)\n",
    "#the manufacturer NPSH is 8 m, which is greater than the calculated NPSH  of 7.06m,therfore, the suction point of pump must be lowered \n",
    "#calculation of new pressure\n",
    "NPSH_m=8#NPSH by manufacturer\n",
    "P3_n_ab=8*(rho*g)-D_h*(rho*g) + P_v\n",
    "print \"\\n new pressure at point 3 P3_n_ab=%.2f Pa absolute\"%(P3_n_ab)#\n",
    "P3_n_bz=-1.77#pressure in terms of benzene height,m\n",
    "z3=-P3_n_bz -D_h#desired height of point 3\n",
    "print \"\\n height z3=%.2f m\"%(z3)#  "
   ]
  },
  {
   "cell_type": "markdown",
   "metadata": {},
   "source": [
    "## Example 22.11 Page no 308"
   ]
  },
  {
   "cell_type": "code",
   "execution_count": 9,
   "metadata": {
    "collapsed": false
   },
   "outputs": [
    {
     "name": "stdout",
     "output_type": "stream",
     "text": [
      "Example 22.11 page no 308\n",
      "\n",
      "\n",
      "\n",
      " reynolds no. R_e=427481.50\n",
      "\n",
      " frictional loss h_fp=109.93 ft.lbf/lb\n",
      "\n",
      " total frictional loss h_f_total=128.27 ft.lbf/lb\n",
      "\n",
      " W_dot_s=85.35 hp\n"
     ]
    }
   ],
   "source": [
    "print \"Example 22.11 page no 308\\n\\n\"\n",
    "#a storage tank on top of a building pumps 60 deg F water through an open pipe to it from a reservoir \n",
    "q=1.36#vol. flow rate ,ft**3/s\n",
    "D=0.333#diameter of pipe,ft\n",
    "S=pi/4*D**2#cross sectional area,ft**2\n",
    "v2=q/S#flow velocity,ft/s\n",
    "rho=62.37#density of water,lb/ft**3\n",
    "meu=1.129*6.72e-4#viscosity of water\n",
    "R_e=D*v2*rho/meu#reynolds no.\n",
    "print \"\\n reynolds no. R_e=%.2f\"%(R_e )#\n",
    "#from R_e we can conclude that flow is turbulent\n",
    "k=0.0018#roughness factor\n",
    "K_r=k/D#relative roughness\n",
    "f=0.0046#friction factor\n",
    "L=525#length of pipe,ft\n",
    "g_c=32.174#grav. acc\n",
    "h_fp=(4*f*L*v2**2)/(D*2*g_c)#frictional loss due to the length of pipe\n",
    "print \"\\n frictional loss h_fp=%.2f ft.lbf/lb\"%(h_fp)#\n",
    "#friction due to the fitings from table 18.1\n",
    "K_ff_gate=2*0.11#loss coeff. due to gates\n",
    "K_ff_elbows=5*0.64#loss coeff. due to elbows\n",
    "#friction due to the sudden contraction is obtained from eq. 18.10 .\n",
    "#note that D1/D2=0,since the upstream diameter is singnificantly larger than the downward diameter \n",
    "K_c=0.42#coeff. of sudden contraction\n",
    "K_e=1#coeff. of sudden expansion\n",
    "K_s=K_ff_gate +K_ff_elbows +K_e +K_c#sum of loss coeff.\n",
    "h_f=K_s*v2**2/(2*g_c)#friction losses due to fitting,expansion,contraction\n",
    "h_f_total=h_fp + h_f#total frictional losses\n",
    "print \"\\n total frictional loss h_f_total=%.2f ft.lbf/lb\"%(h_f_total)#\n",
    "v1=0\n",
    "P_drop=0#pressure drop\n",
    "z1=0#reservoir water level\n",
    "z2=200#height of reservoir\n",
    "W_s=(v2**2-v1**2)/(2*g_c)  + (z2-z1)  + h_f_total#power requirement\n",
    "m_dot=q*rho#mass flow rate,lb/s\n",
    "neta=0.6#efficiency of pump\n",
    "W_dot_s=m_dot*W_s/(550*neta)#actual horsepower requirement\n",
    "print \"\\n W_dot_s=%.2f hp\"%(W_dot_s)#"
   ]
  },
  {
   "cell_type": "markdown",
   "metadata": {},
   "source": [
    "## Example 22.12 Page no 311"
   ]
  },
  {
   "cell_type": "code",
   "execution_count": 10,
   "metadata": {
    "collapsed": false
   },
   "outputs": [
    {
     "name": "stdout",
     "output_type": "stream",
     "text": [
      "Example 22.12 page no 311\n",
      "\n",
      "\n",
      "\n",
      " frictional loss h_f =224.91 ft.lbf/lb\n",
      "\n",
      " q=0.34 ft**3/s \n",
      "\n",
      " brake horse power bhp=18.11 hp\n"
     ]
    }
   ],
   "source": [
    "print \"Example 22.12 page no 311\\n\\n\"\n",
    "#turpentine is being moved  from a large storage tank to a blender through a 700 ft pipeline\n",
    "rho=62.4#density\n",
    "SG=0.872#specific gravity of terpentine\n",
    "rho_t=SG*rho#density of turpentine\n",
    "v=12.67#av. velocity of the turpentine in the line,ft/s\n",
    "z1=20#height of top surface in the storage tank above floor level,ft\n",
    "z2=90#height of discharge end of pipe,ft\n",
    "neta=0.74#efficiency of pump\n",
    "W_s=401.9#average energy delivered by pump,ft/lbf/lb\n",
    "g_c=32.174#grav.acc\n",
    "L=700#length of pipeline\n",
    "#from bernoulli eq.\n",
    "h_f= neta*W_s - v**2/(2*g_c) - (z2-z1)#frictional loss  if there is no pressure drop\n",
    "print \"\\n frictional loss h_f =%.2f ft.lbf/lb\"%(h_f)#  \n",
    "k_c=0.4#coeff. of contraction\n",
    "k_e=0.9#coeff. of expansion\n",
    "k_f=0.2#coeff. of bends and valve\n",
    "#making equation(1) from the friction coeff. due to fittings between f and D,f=0.0293*D \n",
    "#making another equation(2) from Reynolds number in terms D ,R_e=582250*D\n",
    "#from trial and error method we get D\n",
    "D=0.184#diameter\n",
    "S=pi*D**2/4#cross sectional area\n",
    "S=0.0266\n",
    "q=v*S#volumetric flow rate \n",
    "print \"\\n q=%.2f ft**3/s \"%(q)#\n",
    "m_dot=rho_t*q#mass flow rate\n",
    "bhp =m_dot*W_s/(550*neta)#brake horse power\n",
    "print \"\\n brake horse power bhp=%.2f hp\"%(bhp)#"
   ]
  },
  {
   "cell_type": "markdown",
   "metadata": {},
   "source": [
    "## Example 22.13 Page no 313"
   ]
  },
  {
   "cell_type": "code",
   "execution_count": 11,
   "metadata": {
    "collapsed": false
   },
   "outputs": [
    {
     "name": "stdout",
     "output_type": "stream",
     "text": [
      "Example 22.13 page no 313\n",
      "\n",
      "\n",
      "\n",
      " R_e reynolds no=589.08 \n",
      "\n",
      " Pressure gradient P_grad=0.00 Pa/m\n",
      "\n",
      " fanning friction factor f=0.03 \n",
      "\n",
      " darcy friction factor f_d=0.11 \n",
      "\n",
      " friction loss h_f=0.04 m\n",
      "\n",
      " friction power loss W_f=0.00 W\n"
     ]
    }
   ],
   "source": [
    "print \"Example 22.13 page no 313\\n\\n\"\n",
    "#hydrogen flows through a horizontal pipe\n",
    "#properties of hydrogen at 20 deg C from table A.3 in the appendix\n",
    "rho=0.0838#density of hydrogen,kg/m**3\n",
    "meu=9.05e-6#viscosity,kg/m.s\n",
    "D=0.08#diameter of pipe,m\n",
    "L=1#unit length of pipe,m\n",
    "q=0.0004#vol. flow rate ,m**3/s\n",
    "S=.000503#cross sectional area\n",
    "v=q/S#flow velocity,m/s\n",
    "m_dot=rho*q#mass flow rate,kg/s\n",
    "R_e=(D*v*rho/meu)#reynolds no.\n",
    "print \"\\n R_e reynolds no=%.2f \"%(R_e)#\n",
    "#since R_e is 593<2100, flow is laminar\n",
    "#since the tube is horizontal z1=z2,calculation of pressure gradient(P/L)\n",
    "P_grad= 128*meu*q/(pi*D**4)#pressure gradient\n",
    "print \"\\n Pressure gradient P_grad=%.2f Pa/m\"%(P_grad)\n",
    "v_max=2*v#m/s\n",
    "#calculation of fanning friction factor\n",
    "#since the flow is laminar \n",
    "f=16/R_e#fanning friction factor\n",
    "print \"\\n fanning friction factor f=%.2f \"%(f)#\n",
    "f_d=4*f#darcy friction factor\n",
    "print \"\\n darcy friction factor f_d=%.2f \"%(f_d)#\n",
    "g=9.807#grav. acc.\n",
    "h_f=f_d*(L/D)*(v**2/(2*g))#friction loss\n",
    "print \"\\n friction loss h_f=%.2f m\"%(h_f)#\n",
    "W_f = m_dot*g*h_f#friction power loss\n",
    "print \"\\n friction power loss W_f=%.2f W\"%(W_f)# "
   ]
  },
  {
   "cell_type": "markdown",
   "metadata": {},
   "source": [
    "## Example 22.14 Page no 315"
   ]
  },
  {
   "cell_type": "code",
   "execution_count": 12,
   "metadata": {
    "collapsed": false
   },
   "outputs": [
    {
     "name": "stdout",
     "output_type": "stream",
     "text": [
      "Example 22.14 page no 315\n",
      "\n",
      "\n",
      "\n",
      " reynolds no R_e=4447617.59 \n",
      "\n",
      " ideal shaft work W_s_id=29304.00 W \n",
      "\n",
      " actual shaft work W_s_ac=36630.00 W\n",
      "\n",
      " f_inc=133.33 \n"
     ]
    }
   ],
   "source": [
    "print \"Example 22.14 page no 315\\n\\n\"\n",
    "#gasoline is pump through a horizontal cast iron pipe\n",
    "L=30#length of pipe\n",
    "D=0.2#diameter of pipe,m\n",
    "S=(pi/4)*D**2#cross sectional area\n",
    "q=0.3#vol. flow rate ,m**3/s\n",
    "v=q/S#flow velocity,m/s\n",
    "rho=680#density of gasoline,kg/m**3\n",
    "meu=2.92e-4#viscosity of gasoline,kg/m.s\n",
    "R_e=D*v*rho/meu#reynolds no.\n",
    "print \"\\n reynolds no R_e=%.2f \"%(R_e)#\n",
    "#since R_e is >4000 flow is turbulent\n",
    "k=0.00026#roughness factor from table 14.1 for cast iron,m\n",
    "K_r=k/D#relative roughness\n",
    "f=0.00525#fanning friction factor from fig 14.2\n",
    "#Note that the flow corresponds to complete turbulence in the rough pipe\n",
    "g=9.807#gravitational acceleration\n",
    "#h_f=4*f*(L/D)*(v**2/(2*g))#head loss\n",
    "h_f=14.647\n",
    "#applying bernoulli equation to the fluid in the pipe\n",
    "#in this case the pipe is horizontal (z1=z2) with constant diameter (v1=v2) and no shaft head (h_s=0)\n",
    "#first convert the friction head to a pressure difference\n",
    "P_diff=rho*g*h_f#pressure difference \n",
    "P_diff= 97.68*10**3#after round off\n",
    "W_s_id=q*P_diff#ideal shaft work\n",
    "print \"\\n ideal shaft work W_s_id=%.2f W \"%(W_s_id)#\n",
    "neta=0.8#efficiency of pump\n",
    "W_s_ac=W_s_id/neta#actual shaft work \n",
    "print \"\\n actual shaft work W_s_ac=%.2f W\"%(W_s_ac)#\n",
    "f_s=0.009#friction factor smooth\n",
    "f_r=0.021#friction factor roughnes\n",
    "k=f_r/f_s\n",
    "f_inc=100*(k-1)#percentage increment in f due to roughness \n",
    "print \"\\n f_inc=%.2f \"%(f_inc)#"
   ]
  },
  {
   "cell_type": "markdown",
   "metadata": {},
   "source": [
    "## Example 22.15 Page no 316"
   ]
  },
  {
   "cell_type": "code",
   "execution_count": 13,
   "metadata": {
    "collapsed": false
   },
   "outputs": [
    {
     "name": "stdout",
     "output_type": "stream",
     "text": [
      "\n",
      " Example 22.15 page no 316\n",
      "\n",
      "\n",
      "\n",
      " flow velocity v=0.06 m/s\n",
      "\n",
      " reynolds no R_e=156991.90 \n",
      "\n",
      " pressure drop P_drop=1.35 Pa\n",
      "\n",
      " friction power loss W_dot_f=0.34 W\n"
     ]
    }
   ],
   "source": [
    "print \"\\n Example 22.15 page no 316\\n\\n\"\n",
    "#liquid benzene flows through a smooth horizontal iron pipe \n",
    "D=2.3#diameter of pipe,m\n",
    "L=146.304#length of pipe,m\n",
    "S=(pi/4)*D**2#cross sectional area,m**2\n",
    "q=4000#vol. flow rate,gal/min\n",
    "v=q/(S*264.17*60)#flow velocity\n",
    "print \"\\n flow velocity v=%.2f m/s\"%(v)#\n",
    "rho=899#density of benzene\n",
    "meu=0.0008#viscosity of benzene,kg/m.s\n",
    "R_e = D*v*rho/meu#reynolds no\n",
    "print \"\\n reynolds no R_e=%.2f \"%(R_e)#\n",
    "#since the reynolds number falls in the turbulent regime,determine the fanning friction factor from fig. 14.2\n",
    "f=0.0032#fanning friction factor\n",
    "# calculation of pressure drop with the assumption of no height and velocity change , and no pump work \n",
    "#since only frictional losses are to be considered\n",
    "#applying eq. 14.3\n",
    "P_drop = 4*f*(L/D)*(v**2/2)*rho#pressure drop\n",
    "print \"\\n pressure drop P_drop=%.2f Pa\"%(P_drop)#\n",
    "W_dot_f=q*P_drop/(264.17*60)#friction power loss\n",
    "print \"\\n friction power loss W_dot_f=%.2f W\"%(W_dot_f)#"
   ]
  },
  {
   "cell_type": "markdown",
   "metadata": {},
   "source": [
    "## Example 22.16 Page no 317"
   ]
  },
  {
   "cell_type": "code",
   "execution_count": 14,
   "metadata": {
    "collapsed": false
   },
   "outputs": [
    {
     "name": "stdout",
     "output_type": "stream",
     "text": [
      "\n",
      " Example 22.16 page no 317\n",
      "\n",
      "\n",
      "\n",
      " work extracted from the system W_s=563.54 Btu/lb \n",
      "\n",
      " W_dot_s =253592134.06 Btu/h\n",
      "\n",
      " power generated W_hp=99585.63 hp\n"
     ]
    }
   ],
   "source": [
    "print \"\\n Example 22.16 page no 317\\n\\n\"\n",
    "#a power plant employs steam to generate power \n",
    "#adiabatic conditions\n",
    "z1=0#steam vertical position at inlet,ft\n",
    "z2=-20#steam vertical position at outlet,ft\n",
    "v1=120#steam velocity at inlet,ft/s\n",
    "v2=330#steam velocity at outlet,ft/s\n",
    "H1=1505.4#steam enthalpy at inlet \n",
    "H2=940#steam enthalpy at outlet\n",
    "Q=0#for adiabatic conditions\n",
    "g_c=32.174#grav .acc\n",
    "#applying energy equation\n",
    "W_s=-(z2/778) - v2**2/(2*g_c*778) - H2  +z1 + v1**2/(2*g_c*778) + H1#work extracted from system\n",
    "print \"\\n work extracted from the system W_s=%.2f Btu/lb \"%(W_s)#\n",
    "m_dot=450000#mass flow rate ,lb/h\n",
    "W_dot_s=m_dot*W_s#total power generated by the turbine \n",
    "print \"\\n W_dot_s =%.2f Btu/h\"%(W_dot_s)##approx calculation in book \n",
    "W_hp=W_dot_s*3.927e-4#power generated in horsepower hp\n",
    "print \"\\n power generated W_hp=%.2f hp\"%(W_hp)##approx calculation in book"
   ]
  }
 ],
 "metadata": {
  "kernelspec": {
   "display_name": "Python 2",
   "language": "python",
   "name": "python2"
  },
  "language_info": {
   "codemirror_mode": {
    "name": "ipython",
    "version": 2
   },
   "file_extension": ".py",
   "mimetype": "text/x-python",
   "name": "python",
   "nbconvert_exporter": "python",
   "pygments_lexer": "ipython2",
   "version": "2.7.9"
  }
 },
 "nbformat": 4,
 "nbformat_minor": 0
}
