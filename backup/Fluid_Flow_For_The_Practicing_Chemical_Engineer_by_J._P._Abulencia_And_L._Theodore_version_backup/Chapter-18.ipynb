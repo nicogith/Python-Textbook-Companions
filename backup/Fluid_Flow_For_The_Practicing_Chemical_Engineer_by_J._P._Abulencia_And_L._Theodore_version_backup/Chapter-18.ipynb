{
 "cells": [
  {
   "cell_type": "markdown",
   "metadata": {},
   "source": [
    "# Chapter 18 : Valves and Fittings"
   ]
  },
  {
   "cell_type": "markdown",
   "metadata": {},
   "source": [
    "## Example 18.1 Page no 225"
   ]
  },
  {
   "cell_type": "code",
   "execution_count": 2,
   "metadata": {
    "collapsed": false
   },
   "outputs": [
    {
     "name": "stdout",
     "output_type": "stream",
     "text": [
      "\n",
      " Example 18.1 page no 225\n",
      "\n",
      "\n",
      "\n",
      " K_se coeff. of sudden expansion=0.56 \n"
     ]
    }
   ],
   "source": [
    "from __future__ import division\n",
    "print \"\\n Example 18.1 page no 225\\n\\n\"\n",
    "#there is a sudden expansion in which the diameter D1 doubls to D2,D2=2D1\n",
    "#if D1=1 then D2=2\n",
    "D1=1.0#diameter D1\n",
    "D2=2#diameter D2\n",
    "K_se=(1-(D1/D2)**2)**2# coefficent of sudden expansion \n",
    "print \"\\n K_se coeff. of sudden expansion=%0.2f \"%(K_se)#"
   ]
  },
  {
   "cell_type": "markdown",
   "metadata": {},
   "source": [
    "## Example 18.2 Page no 227"
   ]
  },
  {
   "cell_type": "code",
   "execution_count": 3,
   "metadata": {
    "collapsed": false
   },
   "outputs": [
    {
     "name": "stdout",
     "output_type": "stream",
     "text": [
      "\n",
      " Example 18.2 page no 227\n",
      "\n",
      "\n",
      "\n",
      " L_eq_gate=21.00 in\n",
      "\n",
      " L_eq_globe=900.00 in \n"
     ]
    }
   ],
   "source": [
    "print \"\\n Example 18.2 page no 227\\n\\n\"\n",
    "#cal. equivalent length of pipe that would cause the same head los  for gate and globe valve located in piping\n",
    "D=3#diameter  of pipe,in\n",
    "L_gate=7#L/D ratio for fully open gate valve\n",
    "L_globe=300#L/D ratio for globe valve \n",
    "L_eq_gate=L_gate*D#equivalent length for gate valve\n",
    "print \"\\n L_eq_gate=%0.2f in\"%(L_eq_gate)#\n",
    "L_eq_globe=L_globe*D#equivalent length for globe valve\n",
    "print \"\\n L_eq_globe=%0.2f in \"%(L_eq_globe)#"
   ]
  },
  {
   "cell_type": "markdown",
   "metadata": {},
   "source": [
    "## Example 18.3 Page no 227"
   ]
  },
  {
   "cell_type": "code",
   "execution_count": 4,
   "metadata": {
    "collapsed": false
   },
   "outputs": [
    {
     "name": "stdout",
     "output_type": "stream",
     "text": [
      "\n",
      " Example 18.3 page no 227\n",
      "\n",
      "\n",
      "\n",
      " reynolds no R_e=29017.86 \n",
      "\n",
      " friction factor f=0.01 \n",
      "\n",
      " pressure drop P_drop=2689.88 lbf/ft**2 \n"
     ]
    }
   ],
   "source": [
    "print \"\\n Example 18.3 page no 227\\n\\n\"\n",
    "# water is flowing at room temperature\n",
    "rho=62.4#density  of water,lb/ft**3\n",
    "meu=6.72e-4#viscosity of water,lb/ft.s\n",
    "D=0.03125#diameter of pipe\n",
    "v=10#velocity \n",
    "R_e=D*v*rho/meu#reynolds no.\n",
    "print \"\\n reynolds no R_e=%0.2f \"%(R_e)#\n",
    "f=0.0015+0.125/R_e**.30#equation for friction factor\n",
    "print \"\\n friction factor f=%0.2f \"%(f)#\n",
    "L=30#length of pipe\n",
    "gc=32.2#gravitational constant\n",
    "P_drop=2*f*rho*v**2*L/(D*gc)#pressure drop \n",
    "print \"\\n pressure drop P_drop=%0.2f lbf/ft**2 \"%(P_drop)#"
   ]
  },
  {
   "cell_type": "markdown",
   "metadata": {},
   "source": [
    "## Example 18.4 Page no 229"
   ]
  },
  {
   "cell_type": "code",
   "execution_count": 5,
   "metadata": {
    "collapsed": false
   },
   "outputs": [
    {
     "name": "stdout",
     "output_type": "stream",
     "text": [
      "\n",
      " Example 18.4 pageno 229\n",
      "\n",
      "\n",
      "\n",
      " friction loss due to globe valve h_f=34.16 ft.lbf/lb\n"
     ]
    }
   ],
   "source": [
    "print \"\\n Example 18.4 pageno 229\\n\\n\"\n",
    "#refer to example 18.3\n",
    "#applying eq 18.4 for friction loss by globe valve\n",
    "K_f=22#coeff of expansion loss\n",
    "v=10#velocity\n",
    "gc=32.2#ravitational constant\n",
    "h_f=K_f*v**2/(2*gc)#friction loss due to globe valve\n",
    "print \"\\n friction loss due to globe valve h_f=%0.2f ft.lbf/lb\"%(h_f)#"
   ]
  },
  {
   "cell_type": "markdown",
   "metadata": {},
   "source": [
    "## Example 18.5 Page no 230"
   ]
  },
  {
   "cell_type": "code",
   "execution_count": 6,
   "metadata": {
    "collapsed": false
   },
   "outputs": [
    {
     "name": "stdout",
     "output_type": "stream",
     "text": [
      " Example 18.5 page no. 230\n",
      "\n",
      "\n",
      "\n",
      " total pressure drop P_d_t=4814.78 lbf/ft**2\n"
     ]
    }
   ],
   "source": [
    "print \" Example 18.5 page no. 230\\n\\n\"\n",
    "#refer to example no. 18.3 and 18.4\n",
    "P_drop=34.16#pressure drop ,ft\n",
    "h_f=43#friction loss due to fitting\n",
    "rho=62.4#density,lb/ft**3\n",
    "P_d_t=(P_drop+h_f)*rho#total pressure drop\n",
    "print \"\\n total pressure drop P_d_t=%0.2f lbf/ft**2\"%(P_d_t)#"
   ]
  },
  {
   "cell_type": "markdown",
   "metadata": {},
   "source": [
    "## Example 18.6 Page no 230"
   ]
  },
  {
   "cell_type": "code",
   "execution_count": 7,
   "metadata": {
    "collapsed": false
   },
   "outputs": [
    {
     "name": "stdout",
     "output_type": "stream",
     "text": [
      "Example 18.6 page no 230\n",
      "\n",
      "\n",
      "\n",
      " h_f=120.05 \n",
      "\n",
      " reynolds number R_e=904180.14 \n",
      "\n",
      " vol. flow rate q=6.40 ft**3/s\n"
     ]
    }
   ],
   "source": [
    "from math import sqrt, pi\n",
    "print \"Example 18.6 page no 230\\n\\n\"\n",
    "k=0.00085#relative roughness of pipe ,ft\n",
    "D=0.833#diameter  of pipe,ft\n",
    "f=0.005#we assume fanning friction factor ,0.004-0.005,select upper limit\n",
    "K=0.45#entrance loss coefficient is estimated from eq. 18.10 and 18.11\n",
    "L=5000#length of pipe,ft\n",
    "h_f=4*f*(L/D)#the friction head loss in terms of the line velocity\n",
    "print \"\\n h_f=%0.2f \"%(h_f)##printing mistake in book 12 instead of 120\n",
    "#applying bernoulli equation between points 1 and 2 to calculate v2\n",
    "h_s=0#no shaft head\n",
    "v1=0#large tank\n",
    "#because both locations open to the atmosphere,P1=P2=0 psig\n",
    "h=260#height from point 1 to 2\n",
    "V2_h=sqrt(h/(1+h_f+K))#total velocity head at point 2\n",
    "g=32.174\n",
    "V2=V2_h*2*g\n",
    "V2=11.75\n",
    "neu=1.0825e-5#viscosity\n",
    "R_e=D*(V2)/neu#reynolds number\n",
    "print \"\\n reynolds number R_e=%0.2f \"%(R_e)##printing mistake in book due to value of h_f\n",
    "q=V2*(pi*(D**2)/4)#volumatric flow rate\n",
    "print \"\\n vol. flow rate q=%0.2f ft**3/s\"%(q)##printing mistake in book due to value of h_f"
   ]
  },
  {
   "cell_type": "markdown",
   "metadata": {},
   "source": [
    "## Example 18.7 Page no 232"
   ]
  },
  {
   "cell_type": "code",
   "execution_count": 8,
   "metadata": {
    "collapsed": false
   },
   "outputs": [
    {
     "name": "stdout",
     "output_type": "stream",
     "text": [
      "Example 18.7 page no 232\n",
      "\n",
      "\n",
      "\n",
      " relative roughness K_r=0.00 \n",
      "\n",
      " flow velocity v=2.64 m/s\n",
      "\n",
      " reynolds no R_e=205941.18 \n",
      "\n",
      " head loss h_f=377.37 J/kg\n",
      "\n",
      " major friction losses h_s=377.37 J/kg\n"
     ]
    }
   ],
   "source": [
    "print \"Example 18.7 page no 232\\n\\n\"\n",
    "#two large water  reservoirs are connected by a pipe\n",
    "D=0.0779#diameter of pipe (m), by appendix A.5 for 3 inch schdule 40 pipe\n",
    "k=0.046*1e-3#roughness of pipe\n",
    "K_r=k/D#relative roughness\n",
    "print \"\\n relative roughness K_r=%0.2f \"%(K_r)#\n",
    "q=0.0126#flow rate of water m**3/s,\n",
    "S=(pi/4)*D**2#cross sectional area of pipe\n",
    "v=q/S#flow velocity of water\n",
    "print \"\\n flow velocity v=%0.2f m/s\"%(v)#\n",
    "neu=1e-6#viscosity of water\n",
    "R_e=v*D/neu#reynolds no\n",
    "print \"\\n reynolds no R_e=%0.2f \"%(R_e)#\n",
    "#from R_e and relative roughness K_r ,obtain friction factor \n",
    "f=0.00345\n",
    "L=2000*.3048#length of pipe,m\n",
    "h_f=4*f*(L/D)*(v**2/2)\n",
    "print \"\\n head loss h_f=%0.2f J/kg\"%(h_f)#\n",
    "#apply bernoulli equation between station 1 and 2. Note that P1=P2=1 atm,v1=v2,z1=z2\n",
    "#P_drop/rho + V**2/2g + z =  h_s - h_f\n",
    "#whera h_s is the major friction loss\n",
    "#above equation reduces to h_s=h_f\n",
    "h_s=h_f#h_s is major friction loss\n",
    "print \"\\n major friction losses h_s=%0.2f J/kg\"%(h_s)# "
   ]
  },
  {
   "cell_type": "markdown",
   "metadata": {},
   "source": [
    "## Example 18.8 Page no 233"
   ]
  },
  {
   "cell_type": "code",
   "execution_count": 9,
   "metadata": {
    "collapsed": false
   },
   "outputs": [
    {
     "name": "stdout",
     "output_type": "stream",
     "text": [
      "\n",
      " Example 18.8 page no 233\n",
      "\n",
      "\n",
      "\n",
      " W_dot fluid power=5985.00 kw\n"
     ]
    }
   ],
   "source": [
    "print \"\\n Example 18.8 page no 233\\n\\n\"\n",
    "#refer to example no 18.7\n",
    "rho=1000#density\n",
    "g=9.807#gravitational acc.\n",
    "h_f=38.39#head loss\n",
    "P_rise=rho*g*h_f#pressure rise across the pump\n",
    "P_rise=475000#in book by mistake this value instead original value \n",
    "q=0.0126#flow rate from example 18.7\n",
    "W_dot=q*P_rise#ideal pumping requirement(the fluid power)\n",
    "print \"\\n W_dot fluid power=%0.2f kw\"%(W_dot)##printing mistake in book in putting value of P_rise"
   ]
  }
 ],
 "metadata": {
  "kernelspec": {
   "display_name": "Python 2",
   "language": "python",
   "name": "python2"
  },
  "language_info": {
   "codemirror_mode": {
    "name": "ipython",
    "version": 2
   },
   "file_extension": ".py",
   "mimetype": "text/x-python",
   "name": "python",
   "nbconvert_exporter": "python",
   "pygments_lexer": "ipython2",
   "version": "2.7.9"
  }
 },
 "nbformat": 4,
 "nbformat_minor": 0
}
