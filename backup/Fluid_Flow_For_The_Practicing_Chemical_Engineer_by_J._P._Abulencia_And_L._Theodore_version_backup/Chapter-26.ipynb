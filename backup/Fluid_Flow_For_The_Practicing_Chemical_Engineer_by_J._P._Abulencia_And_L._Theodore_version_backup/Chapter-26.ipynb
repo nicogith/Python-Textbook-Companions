{
 "cells": [
  {
   "cell_type": "markdown",
   "metadata": {},
   "source": [
    "# Chapter 26 : Fluidization"
   ]
  },
  {
   "cell_type": "markdown",
   "metadata": {},
   "source": [
    "## Example 26.2 Page no 382"
   ]
  },
  {
   "cell_type": "code",
   "execution_count": 1,
   "metadata": {
    "collapsed": false
   },
   "outputs": [
    {
     "name": "stdout",
     "output_type": "stream",
     "text": [
      "Example 26.2 page no 384\n",
      "\n",
      "\n",
      "\n",
      " superficial velocity v_s=0.04 ft/s\n",
      "\n",
      " R_e=22.93\n",
      "\n",
      " superficial velocity v_s_t=0.01 ft/s\n",
      "\n",
      " reynolds no R_e_t=6.14 \n",
      "\n",
      " vol. flow rate q=2.62e-04 ft**3/s\n"
     ]
    }
   ],
   "source": [
    "from __future__ import division\n",
    "from math import sqrt,pi\n",
    "print \"Example 26.2 page no 384\\n\\n\"\n",
    "#a water softner unit consists of a large diameter tank ,the bottom of tank is connected to a vertical ion exchange pipe\n",
    "h_f=1.25#total fluid height \n",
    "h_l=h_f\n",
    "g=32.174#grav. acc\n",
    "e=0.25# bed porosity  \n",
    "d_p=0.00417#ion exchange resin particle diameter,ft\n",
    "L=1#pipe length ,ft\n",
    "#assume turbulent flow ,apply burke purmer equation\n",
    "v_s=sqrt(g*h_f*e**3*d_p/(1.75*(1-e)*L))#superficial velocity\n",
    "print \"\\n superficial velocity v_s=%.2f ft/s\"%(v_s)#\n",
    "meu=6.76e-4#absolute viscosity of water\n",
    "rho=62.4#density of water\n",
    "#check for turbulent flow \n",
    "R_e=d_p*v_s*rho/((1-e)*meu)\n",
    "print \"\\n R_e=%.2f\"%(R_e)#\n",
    "#since reynold no is low the calculation is not valid \n",
    "#assume laminar flow and use Blake-Kozeny equation 26.9\n",
    "v_s_t=rho*g*h_f*e**3*d_p**2/(150*meu*((1-e)**2)*L)#superficial velocity\n",
    "print \"\\n superficial velocity v_s_t=%.2f ft/s\"%(v_s_t)#\n",
    "#check the porous medium reynolds no\n",
    "R_e_t=v_s_t*d_p*rho/((1-e)*meu)\n",
    "print \"\\n reynolds no R_e_t=%.2f \"%(R_e_t)#\n",
    "#since reynolds no R_e < 10,the flow is therfor laminar\n",
    "D=0.167#diameter of pipe\n",
    "S=(pi/4)*D**2#empty cross sectional area\n",
    "q=v_s_t*S#volumetric flow rate\n",
    "print \"\\n vol. flow rate q=%.2e ft**3/s\"%(q)#"
   ]
  },
  {
   "cell_type": "markdown",
   "metadata": {},
   "source": [
    "## Example 26.3 Page no 384"
   ]
  },
  {
   "cell_type": "code",
   "execution_count": 2,
   "metadata": {
    "collapsed": false
   },
   "outputs": [
    {
     "name": "stdout",
     "output_type": "stream",
     "text": [
      "Example 26.3 page no 384\n",
      "\n",
      "\n",
      "\n",
      " superficial velocity v_s=0.04 ft/s\n",
      "\n",
      " R_e=22.93\n",
      "\n",
      " superficial velocity v_s_t=0.01 ft/s\n",
      "\n",
      " reynolds no R_e_t=6.14 \n",
      "\n",
      " fricion pressure drop P_drop_fr=78.00 psf\n",
      "\n",
      " pressure drop across across the resin bed P_drop_r=15.60 psf\n"
     ]
    }
   ],
   "source": [
    "print \"Example 26.3 page no 384\\n\\n\"\n",
    "#refer to Example 26.2\n",
    "#a water softner unit consists of a large diameter tank ,the bottom of tank is connected to a vertical ion exchange pipe\n",
    "h_f=1.25#total fluid height \n",
    "h_l=h_f\n",
    "g=32.174#grav. acc\n",
    "e=0.25# bed porosity  \n",
    "d_p=0.00417#ion exchange resin particle diameter,ft\n",
    "L=1#pipe length ,ft\n",
    "#assume turbulent flow ,apply burke purmer equation\n",
    "v_s=sqrt(g*h_f*e**3*d_p/(1.75*(1-e)*L))#superficial velocity\n",
    "print \"\\n superficial velocity v_s=%.2f ft/s\"%(v_s)#\n",
    "meu=6.76e-4#absolute viscosity of water\n",
    "rho=62.4#density of water\n",
    "#check for turbulent flow \n",
    "R_e=d_p*v_s*rho/((1-e)*meu)\n",
    "print \"\\n R_e=%.2f\"%(R_e)#\n",
    "#since reynold no is low the calculation is not valid \n",
    "#assume laminar flow and use Blake-Kozeny equation 26.9\n",
    "v_s_t=rho*g*h_f*e**3*d_p**2/(150*meu*((1-e)**2)*L)#superficial velocity\n",
    "print \"\\n superficial velocity v_s_t=%.2f ft/s\"%(v_s_t)#\n",
    " #check the porous medium reynolds no\n",
    "R_e_t=v_s_t*d_p*rho/((1-e)*meu)\n",
    "print \"\\n reynolds no R_e_t=%.2f \"%(R_e_t)#\n",
    "#since reynolds no R_e < 10,the flow is therfor laminar\n",
    "#calculation of the  pressure drop due to friction and the pressure drop across the resin bed \n",
    "k=e**3*d_p**2/(150*(1-e)**2)#packed bed permeability\n",
    "P_drop_fr=rho*h_f#friction pressure drop across resin bed,psf\n",
    "print \"\\n fricion pressure drop P_drop_fr=%.2f psf\"%(P_drop_fr)# \n",
    "z_d=-1#length from point 2 to 3,ft\n",
    "P_drop_r=rho*(z_d+h_f)#pressure drop across the resi bed\n",
    "print \"\\n pressure drop across across the resin bed P_drop_r=%.2f psf\"%(P_drop_r)#\n",
    " "
   ]
  },
  {
   "cell_type": "markdown",
   "metadata": {},
   "source": [
    "## Example 26.4 Page no 387"
   ]
  },
  {
   "cell_type": "code",
   "execution_count": 3,
   "metadata": {
    "collapsed": false
   },
   "outputs": [
    {
     "name": "stdout",
     "output_type": "stream",
     "text": [
      "\n",
      "Example 26.4 page no 387\n",
      "\n",
      "\n",
      "\n",
      " min. fluidization velocity v_mf=0.25 m/s\n",
      "\n",
      " Reynolds no R_e=1.79 \n",
      "\n",
      " mass flow rate m_dot =0.01 kg/s\n",
      "\n",
      " gas pressure drop P_fr=3560.00 Pa\n"
     ]
    }
   ],
   "source": [
    "print \"\\nExample 26.4 page no 387\\n\\n\"\n",
    "#air is used to fluidize a bed of speherical particles\n",
    "D=0.2#bed diameter,m\n",
    "d_p=7.4e-5#diameter of 200 mesh particles from table 23.2,m\n",
    "rho_s=2200#ultimate solid density\n",
    "rho_f=1.2#density of air\n",
    "meu=1.89e-5#viscosity of air\n",
    "g=9.807#grav. constant\n",
    "e=0.45#bed porosity\n",
    "L_mf=0.3#length at minimum fluidization\n",
    "#assume laminar flow \n",
    "#applying equation 26.29\n",
    "v_mf=(1-e)*g*rho_s*d_p**2/(150*e**3*meu)#minimum fluidizaton veloctiy \n",
    "print \"\\n min. fluidization velocity v_mf=%.2f m/s\"%(v_mf)#\n",
    "#check the flow regime\n",
    "R_e=v_mf*d_p/(meu*(1-e))\n",
    "print \"\\n Reynolds no R_e=%.2f \"%(R_e)#\n",
    "#since R_e= 1.79 <10,flow is laminar\n",
    "m_dot=pi*v_mf*D**2*rho_f/4#mass flow rate\n",
    "print \"\\n mass flow rate m_dot =%.2f kg/s\"%(m_dot)#\n",
    "P_fr=round((1-e)*rho_s*g*L_mf)#gas pressure drop across the bed\n",
    "print \"\\n gas pressure drop P_fr=%.2f Pa\"%(P_fr)#"
   ]
  },
  {
   "cell_type": "markdown",
   "metadata": {},
   "source": [
    "## Example 26.5 Page no 389"
   ]
  },
  {
   "cell_type": "code",
   "execution_count": 4,
   "metadata": {
    "collapsed": false
   },
   "outputs": [
    {
     "name": "stdout",
     "output_type": "stream",
     "text": [
      "Example 26.5 page no 389\n",
      "\n",
      "\n",
      "\n",
      " pressure drop P_rop=18.08 lb/ft**2\n"
     ]
    }
   ],
   "source": [
    "print \"Example 26.5 page no 389\\n\\n\"\n",
    "#air  flowing through a 10 ft packed bed\n",
    "V_o=4.65#superficial velocity,ft/s\n",
    "meu_g=1.3e-5#viscosity of air \n",
    "rho_g=0.67#density of air,lb/ft**3\n",
    "e=0.89#void volume\n",
    "g_c=32.2#grav. constant\n",
    "L=10#length of packed bed \n",
    "d_p=0.007815#effective particle diameter\n",
    "P_drop = ((150*V_o*meu_g/(g_c*d_p**2))*((1-e)**2/e**3) + (1.75*rho_g*V_o**2/(g_c*d_p))*((1-e)**2/e**3))*L#pressure drop\n",
    "print \"\\n pressure drop P_rop=%.2f lb/ft**2\"%(P_drop)##calculation error in book \n",
    " "
   ]
  },
  {
   "cell_type": "markdown",
   "metadata": {},
   "source": [
    "## Example 26.6 Page no 392 "
   ]
  },
  {
   "cell_type": "code",
   "execution_count": 5,
   "metadata": {
    "collapsed": false
   },
   "outputs": [
    {
     "name": "stdout",
     "output_type": "stream",
     "text": [
      "Example 26.6 page no 392\n",
      "\n",
      "\n",
      "\n",
      "pressure drop P_drop=583.84 psf\n"
     ]
    }
   ],
   "source": [
    "print \"Example 26.6 page no 392\\n\\n\"\n",
    "#a bed of pulverized is to be fluidized with liquid oil\n",
    "D=4#diameter of bed ,ft\n",
    "d_p=0.00137#particle diameter ,ft \n",
    "rho_s=84#coal particle density ,lb/ft**3\n",
    "rho_f=55#oil density,lb/ft**3\n",
    "e_mf=0.38#void fraction\n",
    "L_mf=8#bed height at minimum fluidization,ft\n",
    "P_drop=(rho_s-rho_f)*(1-e_mf)*L_mf +rho_f*L_mf \n",
    "\n",
    "print \"\\npressure drop P_drop=%.2f psf\"%(P_drop)#"
   ]
  },
  {
   "cell_type": "markdown",
   "metadata": {},
   "source": [
    "## Example 26.7 Page no 393"
   ]
  },
  {
   "cell_type": "code",
   "execution_count": 6,
   "metadata": {
    "collapsed": false
   },
   "outputs": [
    {
     "name": "stdout",
     "output_type": "stream",
     "text": [
      "Example 26.7 page no 393\n",
      "\n",
      "\n",
      "\n",
      " superficial velocity v_s=0.01 ft/s\n",
      "\n",
      " vol. floe rate q=0.12 ft**3/s\n",
      "\n",
      " reynolds no R_e=0.15\n",
      "\n",
      " since R_e is less than 10 ,flow is laminar\n"
     ]
    }
   ],
   "source": [
    "print \"Example 26.7 page no 393\\n\\n\"\n",
    "#refer to example 26.6\n",
    "D=4#diameter of bed ,ft\n",
    "d_p=0.00137#particle diameter ,ft \n",
    "rho_s=84#coal particle density ,lb/ft**3\n",
    "rho_f=55#oil density,lb/ft**3\n",
    "meu_f=3.13e-4#viscosity of oil\n",
    "e_mf=0.38#void fraction\n",
    "L_mf=8#bed height at minimum fluidization,ft\n",
    "L_f=10#bed height,ft\n",
    "e=1-L_mf*(1-e_mf)/L_f#bed voidage\n",
    "g=32.174#grav acc\n",
    "v_s=(d_p**2)*g*(e**3)*(rho_s-rho_f)/(150*meu_f*(1-e)) #superficial velocity\n",
    "print \"\\n superficial velocity v_s=%.2f ft/s\"%(v_s)#\n",
    "q=(pi/4)*D**2*v_s#volumetric flow rate\n",
    "print \"\\n vol. floe rate q=%.2f ft**3/s\"%(q)#\n",
    "#check on the laminar flow assumption\n",
    "meu_f=0.01\n",
    "R_e=d_p*v_s*rho_f/(meu_f*(1-e))\n",
    "print \"\\n reynolds no R_e=%.2f\"%(R_e)#\n",
    "print \"\\n since R_e is less than 10 ,flow is laminar\""
   ]
  },
  {
   "cell_type": "markdown",
   "metadata": {},
   "source": [
    "## Example 26.8 Page no 393"
   ]
  },
  {
   "cell_type": "code",
   "execution_count": 7,
   "metadata": {
    "collapsed": false
   },
   "outputs": [
    {
     "name": "stdout",
     "output_type": "stream",
     "text": [
      " Example 26.8 page no 393\n",
      "\n",
      "\n",
      "\n",
      " head loss h_f=1224.30 ft of propane \n",
      "\n",
      " pressure P1=4303.69 psf\n"
     ]
    }
   ],
   "source": [
    "print \" Example 26.8 page no 393\\n\\n\"\n",
    "#refer to example 25.6\n",
    "#obtain the porous medium friction factor usingthe burke -plummer equation \n",
    "#/since the flow is turbulent ,eq.26.6 applies\n",
    "f_pm=1.75#porous medium friction facot\n",
    "v_s=2#superficial velocity\n",
    "e=.4#porosity\n",
    "L=50#length of bed\n",
    "d_p=0.0833#particle diameter\n",
    "g=32.174#grav. acc\n",
    "h_f=(f_pm)*(v_s**2)*(1-e)*L/(g*(e**3)*d_p)#head loss\n",
    "print \"\\n head loss h_f=%.2f ft of propane \"%(h_f)#\n",
    "#applying bernoulli eq. between the entrance and gas exit \n",
    "#neglect the dynamic head\n",
    "P2=4320#pressure at the bottom of the catalyst bed\n",
    "rho_f=0.0128#density of fluid\n",
    "z_d=-50#length from point 2 to 3,z2-z1\n",
    "P1 = P2 + rho_f*(z_d-h_f)# absolute pressure of the inlet gas\n",
    "print \"\\n pressure P1=%.2f psf\"%(P1)#\n",
    "#since flow is turbulent , permeablity of the medium k can not be calculated"
   ]
  },
  {
   "cell_type": "markdown",
   "metadata": {},
   "source": [
    "## Example 26.9 Page no 394"
   ]
  },
  {
   "cell_type": "code",
   "execution_count": 8,
   "metadata": {
    "collapsed": false
   },
   "outputs": [
    {
     "name": "stdout",
     "output_type": "stream",
     "text": [
      "Example 26.9 page no 394\n",
      "\n",
      "\n",
      "\n",
      " superficial velocity v_s=0.75 m/s\n",
      "\n",
      "pressure drop P_drop=2.36e+07 Pa\n"
     ]
    }
   ],
   "source": [
    "print \"Example 26.9 page no 394\\n\\n\"\n",
    "#turbulent flow of water through a carbon bed\n",
    "d_p=0.001#particle diameter\n",
    "meu=0.001#viscosity of water\n",
    "e=0.25#porosity\n",
    "R_e=1000#R_e is >1000 for turbulent flow,for minimum pressure drop\n",
    "rho=1000#density of water,kg/m**3\n",
    "v_s=R_e*meu*(1-e)/(d_p*rho)#superficial velocity\n",
    "print \"\\n superficial velocity v_s=%.2f m/s\"%(v_s)#\n",
    "phi_s=1#spehercity\n",
    "L=0.5#length of bed,m\n",
    "P_drop = 1.75*rho*L*v_s**2*(1-e)/(phi_s*d_p*(e**3))#presssure drop\n",
    "print \"\\npressure drop P_drop=%.2e Pa\"%(P_drop)#"
   ]
  },
  {
   "cell_type": "markdown",
   "metadata": {},
   "source": [
    "## Example 26.10 Page no 395"
   ]
  },
  {
   "cell_type": "code",
   "execution_count": 9,
   "metadata": {
    "collapsed": false
   },
   "outputs": [
    {
     "name": "stdout",
     "output_type": "stream",
     "text": [
      "Example 26.10 page no 395\n",
      "\n",
      "\n",
      "\n",
      " zero porosity bed height L_o=0.17 m\n",
      "\n",
      " velocity at min. fluidization v_mf=0.01 m/s\n",
      "\n",
      " expanded bed height L_f=1.83 m\n",
      " bed inventory m=45.62 kg\n"
     ]
    }
   ],
   "source": [
    "print \"Example 26.10 page no 395\\n\\n\"\n",
    "#a bed of 200 mesh particles is fluidized with air\n",
    "d_b=0.2#diameter of bed,m\n",
    "d_p=7.4e-5#particle diameter\n",
    "L_mf=0.3#bed height at minimum fludization\n",
    "e_mf=0.45#bed porosity at min. fluidization\n",
    "L_o=L_mf*(1-e_mf)#the zero porosity bed height \n",
    "print \"\\n zero porosity bed height L_o=%.2f m\"%(L_o)#\n",
    "rho_s=2200#density of particles \n",
    "rho_f=1.2#density of fluid\n",
    "g=9.807#grav. acc\n",
    "meu_f=1.89e-5#viscosity of fluid\n",
    "#assuming laminar flow ,use equation  26.9\n",
    "v_mf =(e_mf**3)*(g*(rho_s-rho_f)*(d_p**2))/(150*(1-e_mf)*meu_f)#velocity at minimum fluidization\n",
    "print \"\\n velocity at min. fluidization v_mf=%.2f m/s\"%(v_mf)#\n",
    "v_t=0.35#terminal velocity from example 26.3\n",
    "e=0.91#value of e porosity from eq26.9\n",
    "L_f=L_o/(1-e)#expanded bed height L_f\n",
    "m=rho_s*pi*d_b**2*L_o#bed inventory\n",
    "print \"\\n expanded bed height L_f=%.2f m\\n bed inventory m=%.2f kg\"%(L_f,m)#"
   ]
  },
  {
   "cell_type": "markdown",
   "metadata": {},
   "source": [
    "## Example 26.11 Page no 396"
   ]
  },
  {
   "cell_type": "code",
   "execution_count": 10,
   "metadata": {
    "collapsed": false
   },
   "outputs": [
    {
     "name": "stdout",
     "output_type": "stream",
     "text": [
      "\n",
      " Example 26.11 page no 396\n",
      "\n",
      "\n",
      "\n",
      " zero porosity bed height L_o=0.17 m\n",
      "\n",
      " velocity at min. fluidization v_mf=0.01 m/s\n",
      "\n",
      " fluidization mode F_mf=0.07 \n"
     ]
    }
   ],
   "source": [
    "print \"\\n Example 26.11 page no 396\\n\\n\"\n",
    "#refer to illustrative example 26.9\n",
    "d_p=7.4e-5#particle diameter\n",
    "L_mf=0.3#bed height at minimum fludization\n",
    "e_mf=0.45#bed porosity at min. fluidization\n",
    "L_o=L_mf*(1-e_mf)#the zero porosity bed height \n",
    "print \"\\n zero porosity bed height L_o=%.2f m\"%(L_o)#\n",
    "rho_s=2200#density of particles \n",
    "rho_f=1.2#density of fluid\n",
    "g=9.807#grav. acc\n",
    "meu_f=1.89e-5#viscosity of fluid\n",
    "#assuming laminar flow ,use equation  26.9\n",
    "v_mf =(e_mf**3)*(g*(rho_s-rho_f)*(d_p**2))/(150*(1-e_mf)*meu_f)#velocity at minimum fluidization\n",
    "print \"\\n velocity at min. fluidization v_mf=%.2f m/s\"%(v_mf)#\n",
    "F_mf=v_mf**2/(g*d_p)#fluidization mode\n",
    "print \"\\n fluidization mode F_mf=%.2f \"%(F_mf)#\n",
    "#from value of F_mf ,fluidization is smoth,F_mf =0.66<0.13"
   ]
  }
 ],
 "metadata": {
  "kernelspec": {
   "display_name": "Python 2",
   "language": "python",
   "name": "python2"
  },
  "language_info": {
   "codemirror_mode": {
    "name": "ipython",
    "version": 2
   },
   "file_extension": ".py",
   "mimetype": "text/x-python",
   "name": "python",
   "nbconvert_exporter": "python",
   "pygments_lexer": "ipython2",
   "version": "2.7.9"
  }
 },
 "nbformat": 4,
 "nbformat_minor": 0
}
