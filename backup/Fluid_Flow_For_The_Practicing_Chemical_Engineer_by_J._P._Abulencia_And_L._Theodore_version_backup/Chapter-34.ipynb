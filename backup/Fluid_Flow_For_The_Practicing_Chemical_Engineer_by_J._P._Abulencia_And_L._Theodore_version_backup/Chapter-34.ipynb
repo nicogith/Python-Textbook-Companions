{
 "cells": [
  {
   "cell_type": "markdown",
   "metadata": {},
   "source": [
    "# Chapter 34 : Open Ended Problems"
   ]
  },
  {
   "cell_type": "markdown",
   "metadata": {},
   "source": [
    "## Example 34.4 Page no 548"
   ]
  },
  {
   "cell_type": "code",
   "execution_count": 1,
   "metadata": {
    "collapsed": false
   },
   "outputs": [
    {
     "name": "stdout",
     "output_type": "stream",
     "text": [
      "Example 34.4 page no 548\n",
      "\n",
      "\n",
      "\n",
      " KE=990.13 ft.lbf/s\n"
     ]
    }
   ],
   "source": [
    "print \"Example 34.4 page no 548\\n\\n\"\n",
    "#a gas stream is discharged through a stack\n",
    "m_dot =10000#mass flow ratein acfm\n",
    "v=50#velcoity in  ft/s\n",
    "KE=m_dot*v**2*(29/(379*32.2*60))#others are conversion factor for unit\n",
    "print \"\\n KE=%.2f ft.lbf/s\"%(KE)##printing mistake in book"
   ]
  }
 ],
 "metadata": {
  "kernelspec": {
   "display_name": "Python 2",
   "language": "python",
   "name": "python2"
  },
  "language_info": {
   "codemirror_mode": {
    "name": "ipython",
    "version": 2
   },
   "file_extension": ".py",
   "mimetype": "text/x-python",
   "name": "python",
   "nbconvert_exporter": "python",
   "pygments_lexer": "ipython2",
   "version": "2.7.9"
  }
 },
 "nbformat": 4,
 "nbformat_minor": 0
}
