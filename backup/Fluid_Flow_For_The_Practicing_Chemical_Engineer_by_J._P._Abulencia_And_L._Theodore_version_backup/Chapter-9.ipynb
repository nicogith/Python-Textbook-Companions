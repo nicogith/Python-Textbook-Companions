{
 "cells": [
  {
   "cell_type": "markdown",
   "metadata": {},
   "source": [
    "# Chapter 9 : Conservation law for Momentum"
   ]
  },
  {
   "cell_type": "markdown",
   "metadata": {},
   "source": [
    "## Example 9.1 Page no 87"
   ]
  },
  {
   "cell_type": "code",
   "execution_count": 2,
   "metadata": {
    "collapsed": false
   },
   "outputs": [
    {
     "name": "stdout",
     "output_type": "stream",
     "text": [
      "Example 9.1 page no 87\n",
      "\n",
      "\n",
      "\n",
      " density rho=62.400 lb/ft**3\n",
      " horizontal velocity of water v=100.000 ft/s\n",
      " flow rate q=0.500 ft**3/s\n",
      "\n",
      " momentum rate M_in=96.894 lbf\n",
      "\n",
      " net horizontal force F=-96.894 lbf\n"
     ]
    }
   ],
   "source": [
    "from __future__ import division\n",
    "print \"Example 9.1 page no 87\\n\\n\"\n",
    "#a horizontal water jet impinges on avertical plate\n",
    "rho=62.4#density of water\n",
    "v=100#horizontal velocity of water\n",
    "q=0.5#flow rate\n",
    "g=32.2#gravitational constant\n",
    "print \"\\n density rho=%0.3f lb/ft**3\\n horizontal velocity of water v=%0.3f ft/s\\n flow rate q=%0.3f ft**3/s\"%(rho,v,q)#\n",
    "M_in=(rho*q*v)/g#momentum rate of inlet water in the horizontal direction\n",
    "print \"\\n momentum rate M_in=%0.3f lbf\"%(M_in)#\n",
    "M_out=0#momentum rate of water out\n",
    "F=M_out-M_in\n",
    "print \"\\n net horizontal force F=%0.3f lbf\"%(F)#\n",
    "#negative sign indicate that to hold the plate in place, a force must be exerted in a direction opposite to that of the water flow"
   ]
  },
  {
   "cell_type": "markdown",
   "metadata": {},
   "source": [
    "## Example 9.2 Page no 87"
   ]
  },
  {
   "cell_type": "code",
   "execution_count": 3,
   "metadata": {
    "collapsed": false
   },
   "outputs": [
    {
     "name": "stdout",
     "output_type": "stream",
     "text": [
      "Example 9.2 page no 87\n",
      "\n",
      "\n",
      "mass flow rate m_dot=0.150 kg/s\n",
      " velocity in x direction V_in=420.000 m/s\n",
      " velocity out in  the x direction=0.000=m/s\n",
      "\n",
      " force F_x=-63.000 N\n",
      "velocity in y dir V_in_y=0.000 m/s\n",
      " velocity out y dir V_out_y=420.000 m/s\n",
      "\n",
      " force in y dir F_y=63.000 N\n",
      "\n",
      " resultant force F_res=89.095 N\n"
     ]
    }
   ],
   "source": [
    "from math import sqrt\n",
    "print \"Example 9.2 page no 87\\n\\n\"\n",
    "#a horizontal line carries saturated steam\n",
    "#water is entrained by the steam,and line is bend\n",
    "#select the control volume as the fluid in the bend and apply amass balance\n",
    "#since m1_dot=m2_dot,v1=v2\n",
    "m_dot=0.15#mass flow rate\n",
    "V_in_x=420#velocity in horizontal x direction\n",
    "V_out_x=0#velocity out ,horizontal direction\n",
    "print \"mass flow rate m_dot=%0.3f kg/s\\n velocity in x direction V_in=%0.3f m/s\\n velocity out in  the x direction=%0.3f=m/s\"%(m_dot,V_in_x,V_out_x)#\n",
    "#applying linear horizontal balance in x direction\n",
    "F_x=m_dot*V_out_x-m_dot*V_in_x#force in x-dir\n",
    "print \"\\n force F_x=%0.3f N\"%(F_x)#\n",
    "#the x-dir force acting on the 90 deg elbow therefore,F_x=+63 N\n",
    "V_in_y=0#velocity in vertical in y direction\n",
    "V_out_y=420#velocity out vertical in y direction\n",
    "print \"velocity in y dir V_in_y=%0.3f m/s\\n velocity out y dir V_out_y=%0.3f m/s\"%(V_in_y,V_out_y)#\n",
    "F_y=m_dot*V_out_y-m_dot*V_in_y#force in y dir\n",
    "print \"\\n force in y dir F_y=%0.3f N\"%(F_y)#\n",
    "#y dir force is acting on the elbow is therefore F_y=-63 N\n",
    "F_res=sqrt(F_x*F_x+F_y*F_y)#resultant force F_res\n",
    "print \"\\n resultant force F_res=%0.3f N\"%(F_res)#\n",
    "#this is the force required to hold the elbow"
   ]
  },
  {
   "cell_type": "markdown",
   "metadata": {},
   "source": [
    "## Example  9.3 Page no 88"
   ]
  },
  {
   "cell_type": "code",
   "execution_count": 4,
   "metadata": {
    "collapsed": false
   },
   "outputs": [
    {
     "name": "stdout",
     "output_type": "stream",
     "text": [
      "Example 9.3 page no 88\n",
      "\n",
      "\n",
      "density  rho=62.400 lb/ft**3\n",
      " diameter D=0.167 ft\n",
      " momentum M_dot_out=0.000 lbf\n",
      " forc in x dir F_x=5.000 lbf\n",
      "\n",
      " momentum M_dot_in=5.000 lbf\n",
      "\n",
      " surface area S=0.022 ft**2\n",
      "\n",
      " velocity =10.849 ft/s\n",
      "\n",
      " volumatric flow rate q=0.238 ft**3/s\n",
      " mass flow rate m_dot=14.828 lb/s\n"
     ]
    }
   ],
   "source": [
    "from math import pi\n",
    "print \"Example 9.3 page no 88\\n\\n\"\n",
    "#water flow in a pipe\n",
    "rho=62.4#density of water \n",
    "D=0.167#diameter of pipe\n",
    "g=32.174#gravitational constant\n",
    "M_dot_out=0#momentum out in x dir\n",
    "F_x=5#foce in the x dir\n",
    "print \"density  rho=%0.3f lb/ft**3\\n diameter D=%0.3f ft\\n momentum M_dot_out=%0.3f lbf\\n forc in x dir F_x=%0.3f lbf\"%(rho,D,M_dot_out,F_x)#\n",
    "M_dot_in=M_dot_out+F_x#momentum in \n",
    "print \"\\n momentum M_dot_in=%0.3f lbf\"%(M_dot_in)#\n",
    "S=(pi*D**2)/4#surface area \n",
    "print \"\\n surface area S=%0.3f ft**2\"%(S)#\n",
    "v=sqrt((M_dot_in*g)/(rho*S))\n",
    "print \"\\n velocity =%0.3f ft/s\"%(v)#\n",
    "q=S*v#volumatric flow rate \n",
    "m_dot=rho*q#mass flow rate\n",
    "print \"\\n volumatric flow rate q=%0.3f ft**3/s\\n mass flow rate m_dot=%0.3f lb/s\"%(q,m_dot)#"
   ]
  },
  {
   "cell_type": "markdown",
   "metadata": {},
   "source": [
    "## Example 9.4 Page no 89 "
   ]
  },
  {
   "cell_type": "code",
   "execution_count": 5,
   "metadata": {
    "collapsed": false
   },
   "outputs": [
    {
     "name": "stdout",
     "output_type": "stream",
     "text": [
      "Example 9.4 page no 89 fig. 9.2\n",
      "\n",
      "\n",
      "\n",
      "\n",
      " density rho=1000.000 kg/m**3\n",
      " viscosity meu=0.001000 kg/m.s\n",
      " volumatric flow rate q=0.025 m**3/s\n",
      " diametetr at section1 D1=0.100 m\n",
      " diameter at section2 D2=0.030 m\n",
      "\n",
      " surface area at section 1 S1=0.008 m**2\n",
      " surface area at section 2 S2=0.001 m**2\n",
      "\n",
      " velocity at sec1 v1=3.183 m/s\n",
      " velocity at sec2 v2=35.368 m/s\n",
      "\n",
      " pressure at point2 P2=0.000 Pag(pascal gauge)\n",
      " pressure atpoint1 P1=620373.346 Pag\n",
      "\n",
      " mass flow rate m_dot1=25.000 kg/s\n",
      " mass flow rate m_dot2=25.000 kg/s\n",
      "\n",
      " momentum rate M_dot1_x=79.577 N\n",
      " momentum rate M_dot2_x=884.194 N\n",
      "\n",
      " force from momentum balance F_x=-4067.784 N\n"
     ]
    }
   ],
   "source": [
    "print \"Example 9.4 page no 89 fig. 9.2\\n\\n\\n\"\n",
    "#water is discharged through a fire hose\n",
    "rho=1000#density of water \n",
    "meu=0.001#viscosity of water\n",
    "q=0.025#flow rate  at section 1\n",
    "D1=.1#diameter at section 1\n",
    "D2=.03#diameter at section 2\n",
    "print \"\\n density rho=%0.3f kg/m**3\\n viscosity meu=%3f kg/m.s\\n volumatric flow rate q=%0.3f m**3/s\\n diametetr at section1 D1=%0.3f m\\n diameter at section2 D2=%0.3f m\"%(rho,meu,q,D1,D2)#\n",
    "S1=(pi*D1**2)/4\n",
    "S2=(pi*D2**2)/4\n",
    "print \"\\n surface area at section 1 S1=%0.3f m**2\\n surface area at section 2 S2=%0.3f m**2\"%(S1,S2)#\n",
    "v1=q/S1#velocity at section1\n",
    "v2=q/S2#velocity at section2\n",
    "print \"\\n velocity at sec1 v1=%0.3f m/s\\n velocity at sec2 v2=%0.3f m/s\"%(v1,v2)#\n",
    "#appuing bernoulli's equation between point 1 and 2\n",
    "P2=0#pressure at point 2\n",
    "P1=(rho/2)*(v2**2-v1**2)#pressure at point 1\n",
    "print \"\\n pressure at point2 P2=%0.3f Pag(pascal gauge)\\n pressure atpoint1 P1=%0.3f Pag\"%(P2,P1)#\n",
    "m_dot1=25#mass flow rate at section 1\n",
    "m_dot2=25#mass flow rate at section 2\n",
    "print \"\\n mass flow rate m_dot1=%0.3f kg/s\\n mass flow rate m_dot2=%0.3f kg/s\"%(m_dot1,m_dot2)#\n",
    "M_dot1_x=m_dot1*v1#momentum rate in x dir at section 1\n",
    "M_dot2_x=m_dot2*v2#momentum rate in x dir at section 2\n",
    "print \"\\n momentum rate M_dot1_x=%0.3f N\\n momentum rate M_dot2_x=%0.3f N\"%(M_dot1_x,M_dot2_x)#\n",
    "#applying momentum balance in the x direction\n",
    "F_x=M_dot2_x-M_dot1_x-P1*S1#force from momentum balance\n",
    "print \"\\n force from momentum balance F_x=%0.3f N\"%(F_x)#"
   ]
  }
 ],
 "metadata": {
  "kernelspec": {
   "display_name": "Python 2",
   "language": "python",
   "name": "python2"
  },
  "language_info": {
   "codemirror_mode": {
    "name": "ipython",
    "version": 2
   },
   "file_extension": ".py",
   "mimetype": "text/x-python",
   "name": "python",
   "nbconvert_exporter": "python",
   "pygments_lexer": "ipython2",
   "version": "2.7.9"
  }
 },
 "nbformat": 4,
 "nbformat_minor": 0
}
