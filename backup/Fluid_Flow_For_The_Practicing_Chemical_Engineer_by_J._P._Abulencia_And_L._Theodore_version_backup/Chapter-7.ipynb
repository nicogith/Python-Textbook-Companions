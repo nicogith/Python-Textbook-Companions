{
 "cells": [
  {
   "cell_type": "markdown",
   "metadata": {},
   "source": [
    "# Chapter 7 : Conservation Law for Mass"
   ]
  },
  {
   "cell_type": "markdown",
   "metadata": {},
   "source": [
    "## Example 7.1 Page no. 64"
   ]
  },
  {
   "cell_type": "code",
   "execution_count": 2,
   "metadata": {
    "collapsed": false
   },
   "outputs": [
    {
     "name": "stdout",
     "output_type": "stream",
     "text": [
      "example no. 7.1 page no. 64\n",
      "\n",
      "\n",
      "\n",
      " Rf=4000.000 kg/hr\n",
      " Ra=8000.000 kg/hr\n",
      " Rm=550.000 kg/hr\n",
      " Rin=12550.000 kg/hr\n",
      " Rout=12550.000 kg/hr\n"
     ]
    }
   ],
   "source": [
    "from __future__ import division\n",
    "print \"example no. 7.1 page no. 64\\n\\n\"\n",
    "#applying coservation of mass\n",
    "# rate of mass in-rate of mass out+rate of mass generated=rate of mass accumlated\n",
    "#according to conditions in this example\n",
    "#rate of mass in = rate of mass out\n",
    "Rf=4000#rate of feed of gaseous waste into an incinerator\n",
    "Ra=8000#rate of air feed\n",
    "Rm=550#rate of methane added for combustion\n",
    "Rin=Rf+Ra+Rm#total rate of mass in\n",
    "Rout=Rin#Rout is rate of mass out\n",
    "print \"\\n Rf=%0.3f kg/hr\\n Ra=%0.3f kg/hr\\n Rm=%0.3f kg/hr\\n Rin=%0.3f kg/hr\\n Rout=%0.3f kg/hr\"%(Rf,Ra,Rm,Rin,Rout)#"
   ]
  },
  {
   "cell_type": "markdown",
   "metadata": {},
   "source": [
    "## Example 7.2 Page no. 65"
   ]
  },
  {
   "cell_type": "code",
   "execution_count": 3,
   "metadata": {
    "collapsed": false
   },
   "outputs": [
    {
     "name": "stdout",
     "output_type": "stream",
     "text": [
      "Example 7.2 page no. 65\n",
      "\n",
      "\n",
      "\n",
      " diameter D1=0.140 m\n",
      " diameter D2=0.070 m\n",
      " v1=2.000 m/s\n",
      " Surface area S1=0.015 m**2\n",
      " density of water rho=1000.000  kg/m**3 \n",
      "\n",
      " volumatric flow rate q1=0.031 m**3/s\n",
      " mass flow ratem1=30.788 kg/s\n",
      " mass flux G=2000.000 kg/m**2*s\n",
      "\n",
      " surface areaS1=0.015 m**2\n",
      " volumatric flow rate q2=0.031 m**3/s\n",
      "\n",
      " velocity v2=8.000 m/s\n"
     ]
    }
   ],
   "source": [
    "from math import pi\n",
    "print \"Example 7.2 page no. 65\\n\\n\"\n",
    "#water flowing through a converging circular pipe fig 7.3\n",
    "#we have to determine mass and volumatric flow rates, mass flux of water \n",
    "D1=.14# diameter of pipe at section 1\n",
    "D2=.07#diameter of pipe at section2\n",
    "v1=2#velocity at section\n",
    "S1=pi*(D1**2)/4#surface area at section 1\n",
    "rho=1000#density of water\n",
    "print \"\\n diameter D1=%0.3f m\\n diameter D2=%0.3f m\\n v1=%0.3f m/s\\n Surface area S1=%0.3f m**2\\n density of water rho=%0.3f  kg/m**3 \"%(D1,D2,v1,S1,rho)# \n",
    "q1= S1*v1#volumatric flow rate at section 1\n",
    "m1=rho*q1#mass flow rate at section 1\n",
    "G=m1/S1#mass flux at section 1\n",
    "print \"\\n volumatric flow rate q1=%0.3f m**3/s\\n mass flow ratem1=%0.3f kg/s\\n mass flux G=%0.3f kg/m**2*s\"%(q1,m1,G)#\n",
    "S2=(pi*D2**2)/4\n",
    "q2=q1#q2 volumatric flow rate at section 2,due to steady flow q1=q2\n",
    "print \"\\n surface areaS1=%0.3f m**2\\n volumatric flow rate q2=%0.3f m**3/s\"%(S1,q1)\n",
    "v2=(v1*S1)/S2#v2 velocity at section 2\n",
    "print \"\\n velocity v2=%0.3f m/s\"%(v2)\n",
    "#conclusion :decrease cross section area results in an increase in flow velocity for an incompressible fluid. "
   ]
  },
  {
   "cell_type": "markdown",
   "metadata": {},
   "source": [
    "## Example 7.3 Page no 66"
   ]
  },
  {
   "cell_type": "code",
   "execution_count": 4,
   "metadata": {
    "collapsed": false
   },
   "outputs": [
    {
     "name": "stdout",
     "output_type": "stream",
     "text": [
      "Example 7.3 page no 66,fig 7.4\n",
      "\n",
      "\n",
      "\n",
      "\n",
      " velocity v1=5.000 m/s \n",
      " surface area S1=0.200 m**2/s\n",
      " velocity v2=7.000 m/s\n",
      " surface area S2=0.300 m**2/s\n",
      " velocity v3=12.000 m/s\n",
      " surface area S3=0.250 m**2/s\n",
      " surface area S4=0.150 m**2/s\n",
      "\n",
      " volumatric flow rate q1=1.000 m**3/s\n",
      " volumatric flow rate q2=2.100  m**3/s\n",
      " volumatrisc flow rate q3=3.000 m**3/s\n",
      "\n",
      " volumatric flow rate q4=0.100 m**3/s\n",
      " velocity v4=0.667 m/s \n",
      "\n",
      " mass flow rate m=80.000 kg/s\n"
     ]
    }
   ],
   "source": [
    "print \"Example 7.3 page no 66,fig 7.4\\n\\n\\n\"\n",
    "#fluid device has four openings as shoen in figure\n",
    "#we have to calculate magnitude and direction of velocity,mass flow rate at section 4\n",
    "rho=800#density of fluid \n",
    "v1=5#velocity at section 1\n",
    "S1=0.2#surface area at section 1\n",
    "v2=7#velocity at section 2\n",
    "S2=0.3#surface area at section 2\n",
    "v3=12#velocity at section 3\n",
    "S3=0.25#surface area at section 3\n",
    "S4=0.15#surface area at section 4\n",
    "print \"\\n velocity v1=%0.3f m/s \\n surface area S1=%0.3f m**2/s\\n velocity v2=%0.3f m/s\\n surface area S2=%0.3f m**2/s\\n velocity v3=%0.3f m/s\\n surface area S3=%0.3f m**2/s\\n surface area S4=%0.3f m**2/s\"%(v1,S1,v2,S2,v3,S3,S4)#\n",
    "q1=v1*S1#volumatric flow rate at section 1\n",
    "q2=v2*S2#volumatric flow rate at section 2\n",
    "q3=v3*S3#volumatric flow rate at section 3\n",
    "print \"\\n volumatric flow rate q1=%0.3f m**3/s\\n volumatric flow rate q2=%0.3f  m**3/s\\n volumatrisc flow rate q3=%0.3f m**3/s\"%(q1,q2,q3)#\n",
    "#applying continuity equation\n",
    "q4=q1+q2-q3#volumatric flow rate at section 4\n",
    "v4=q4/S4#velocity at section 4\n",
    "print \"\\n volumatric flow rate q4=%0.3f m**3/s\\n velocity v4=%0.3f m/s \"%(q4,v4)#\n",
    "m=rho*q4#mass flow rate at section 4\n",
    "print \"\\n mass flow rate m=%0.3f kg/s\"%(m)#"
   ]
  },
  {
   "cell_type": "markdown",
   "metadata": {},
   "source": [
    "## Example 7.4 Page no 67"
   ]
  },
  {
   "cell_type": "code",
   "execution_count": 5,
   "metadata": {
    "collapsed": false
   },
   "outputs": [
    {
     "name": "stdout",
     "output_type": "stream",
     "text": [
      "Example 7.4 page no,fig 7.5\n",
      "\n",
      "\n",
      "\n",
      "\n",
      " calculation:\n",
      "  calculation  of liquid  bypassed B=0.0833 \n"
     ]
    }
   ],
   "source": [
    "from sympy import symbols, solve\n",
    "print \"Example 7.4 page no,fig 7.5\\n\\n\"\n",
    "#Given pollutant in ppm in liquid stream ,some pollutant in discharge volume \n",
    "#calculate what fraction of liquid bypass\n",
    "#liquid stream having 600 ppm pollutant\n",
    "#pollutant in the discharge stream is 50 ppm\n",
    "#if B =factio of liquid bypassed,then 1-B= fraction of liquid treated\n",
    "#performing a pollutant mass balance around point2 in fig. 7.5\n",
    "#B=poly([0],'x')#\n",
    "B=symbols('x')\n",
    "N=solve((1-B)*0+600*B-50*1,B)\n",
    "print \"\\n\\n calculation:\\n  calculation  of liquid  bypassed B=%.4f \"%N[0]"
   ]
  },
  {
   "cell_type": "markdown",
   "metadata": {},
   "source": [
    "## Example 7.5 Page no 67"
   ]
  },
  {
   "cell_type": "code",
   "execution_count": 6,
   "metadata": {
    "collapsed": false
   },
   "outputs": [
    {
     "name": "stdout",
     "output_type": "stream",
     "text": [
      "Example 7.5 page no 67\n",
      "\n",
      "\n",
      "\n",
      " diameter at inlet d1=0.090 m\n",
      " volumatric flow rate at inlet q_in=0.025 m**3/s\n",
      " diameter d2=0.040 m\n",
      " volumatric flow rate at outlet q_out=0.004 m**3/s\n",
      "\n",
      " volumatric flow in tank=0.022 m**3/s\n",
      " diameter of tank D=1.400 m\n",
      " surface area of tank S=1.539 m**2\n",
      "\n",
      " rate of water level rise R_z=0.014 m/s\n"
     ]
    }
   ],
   "source": [
    "from math import pi\n",
    "print \"Example 7.5 page no 67\\n\\n\"\n",
    "#water flow in tank inletand outlet pipes\n",
    "#applying continuity principle to the control volume\n",
    "#since generation rate =0\n",
    "d1=0.09#diameter of inlet pipe\n",
    "v_in=4#velocity,m/s\n",
    "v_out=3#velocity,m/s\n",
    "q_in=(pi*d1**2)*v_in/4#volumatric flow rate at inlet \n",
    "d2=0.04#diameter of outlet pipe\n",
    "q_out=(pi*d2**2)*v_out/4\n",
    "print \"\\n diameter at inlet d1=%0.3f m\\n volumatric flow rate at inlet q_in=%0.3f m**3/s\\n diameter d2=%0.3f m\\n volumatric flow rate at outlet q_out=%0.3f m**3/s\"%(d1,q_in,d2,q_out)#\n",
    "q=q_in-q_out#for an incmpressible fluid of volume v, q=(dv/dt)=q_in-q_out\n",
    "D=1.4#diameter of tank\n",
    "S=(pi*D**2)/4\n",
    "print \"\\n volumatric flow in tank=%0.3f m**3/s\\n diameter of tank D=%0.3f m\\n surface area of tank S=%0.3f m**2\"%( q,D,S)#\n",
    "#z=fluid height\n",
    "R_z=(q_in-q_out)/S#R_z rate of water level rise\n",
    "print \"\\n rate of water level rise R_z=%0.3f m/s\"%(R_z)#\n",
    "#R_z is positive ,the water level is rising in the tank from it's initial height of 1.5 m"
   ]
  }
 ],
 "metadata": {
  "kernelspec": {
   "display_name": "Python 2",
   "language": "python",
   "name": "python2"
  },
  "language_info": {
   "codemirror_mode": {
    "name": "ipython",
    "version": 2
   },
   "file_extension": ".py",
   "mimetype": "text/x-python",
   "name": "python",
   "nbconvert_exporter": "python",
   "pygments_lexer": "ipython2",
   "version": "2.7.9"
  }
 },
 "nbformat": 4,
 "nbformat_minor": 0
}
