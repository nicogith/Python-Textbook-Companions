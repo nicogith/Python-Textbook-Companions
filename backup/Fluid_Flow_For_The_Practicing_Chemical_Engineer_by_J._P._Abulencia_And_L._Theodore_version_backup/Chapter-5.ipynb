{
 "cells": [
  {
   "cell_type": "markdown",
   "metadata": {},
   "source": [
    "# Chapter 5 : Newtonian Fluids"
   ]
  },
  {
   "cell_type": "markdown",
   "metadata": {},
   "source": [
    "## Example 5.2 page no. 42"
   ]
  },
  {
   "cell_type": "code",
   "execution_count": 1,
   "metadata": {
    "collapsed": false
   },
   "outputs": [
    {
     "name": "stdout",
     "output_type": "stream",
     "text": [
      "Example 5.2 page no 42\n",
      "\n",
      "\n",
      "given \n",
      " kinamatic viscosity =1.660000 ft**2/hr\n",
      " rho=0.080000 lb/ft**3\n",
      " d=0.083300 ft\n",
      " v1=300.00 ft/hr\n",
      " v2=0.000e+00 ft/hr\n",
      " gc=4.170e+08 (ft*lb/hr)/lbf*hr\n",
      "\n",
      " force tou_xy=1.147e-06  lbf/ft**2\n"
     ]
    }
   ],
   "source": [
    "from __future__ import division\n",
    "print \"Example 5.2 page no 42\\n\\n\"\n",
    "#To calculate the force to maintain movement of left plate \n",
    "#velocity of moving plate is equal to the velocity of the plate and velocity of the gas at the surface of the stationary plate is zero\n",
    "k=1.66#kinamatic viscosity of gas\n",
    "rho=0.08#density of gas\n",
    "d=0.0833#distance between plate\n",
    "v1=300#velocity of left plate\n",
    "v2=0#velocity of stationary plate\n",
    "g_c=4.17*10**(8)#gravitational constant\n",
    "print \"given \\n kinamatic viscosity =%2f ft**2/hr\\n rho=%2f lb/ft**3\\n d=%4f ft\\n v1=%0.2f ft/hr\\n v2=%0.3e ft/hr\\n gc=%0.3e (ft*lb/hr)/lbf*hr\"%(k,rho,d,v1,v2,g_c)#\n",
    "tou_xy=-k*rho*((v2-v1)/(g_c*d))#the frce necessary to mantain the movement of the left plate\n",
    "print \"\\n force tou_xy=%0.3e  lbf/ft**2\"%(tou_xy)#"
   ]
  },
  {
   "cell_type": "markdown",
   "metadata": {},
   "source": [
    "## Example 5.3 Page no. 45"
   ]
  },
  {
   "cell_type": "code",
   "execution_count": 2,
   "metadata": {
    "collapsed": false
   },
   "outputs": [
    {
     "name": "stdout",
     "output_type": "stream",
     "text": [
      "Example  5.3 page no. 45\n",
      "\n",
      "\n",
      "Given :\n",
      " diameter =0.25 ft\n",
      " height =0.500 ft\n",
      " Torque=15.300 ft.lbf\n",
      "\n",
      " force =122.400 lbf\n",
      "\n",
      " shear stress tou=311.689 psf\n"
     ]
    }
   ],
   "source": [
    "from numpy import pi\n",
    "print \"Example  5.3 page no. 45\\n\\n\"\n",
    "D=0.25#diameter of fixed inner cylinder of viscometer\n",
    "L=0.5#height of fixed inner cylinder of viscometer\n",
    "T=15.3#measured torque\n",
    "print \"Given :\\n diameter =%.2f ft\\n height =%0.3f ft\\n Torque=%0.3f ft.lbf\"%(D,L,T)#\n",
    "F=(2*T)/D\n",
    "print \"\\n force =%0.3f lbf\"%(F)#\n",
    "#the shear stress(force parallel to the surface) using equation 5.11\n",
    "tou=F/(pi*D*L)\n",
    "print \"\\n shear stress tou=%0.3f psf\"%( tou)#"
   ]
  },
  {
   "cell_type": "markdown",
   "metadata": {},
   "source": [
    "## Example 5.4 page no. 45"
   ]
  },
  {
   "cell_type": "code",
   "execution_count": 3,
   "metadata": {
    "collapsed": false
   },
   "outputs": [
    {
     "name": "stdout",
     "output_type": "stream",
     "text": [
      "Example 5.4 page no. 45\n",
      "\n",
      "\n",
      "\n",
      " omega=26.200 rad/s\n",
      " diameter D =0.250 ft\n",
      " linear velocity =3.275000 ft/s\n",
      "\n",
      " clearance d=0.001000 ft\n",
      " vel. gradient=39300.000 1/s\n",
      " gravitational constant gc=32.140000 ft/s*S\n",
      "\n",
      " tou=311.700 psf\n",
      " meu=0.255 lb/ft*s\n",
      "\n",
      " kinematic viscosity=0.004211 (ft*ft)/s\n"
     ]
    }
   ],
   "source": [
    "print \"Example 5.4 page no. 45\\n\\n\"\n",
    "#refer to example no 5.3\n",
    "#determine dynamic viscosity and kinematic viscosity\n",
    "omega=26.2#angular rotation speed \n",
    "D=0.25#diameter of fixed inner cylinder of viscometer\n",
    "v=omega*D/2\n",
    "print \"\\n omega=%0.3f rad/s\\n diameter D =%0.3f ft\\n linear velocity =%2f ft/s\"%(omega,D,v)#\n",
    "d=0.001#clearance betwween two cylinder of visometer\n",
    "vel_gradient =v/(d/12)#velocity gradient\n",
    "gc=32.14#gravitational constant\n",
    "print \"\\n clearance d=%5f ft\\n vel. gradient=%0.3f 1/s\\n gravitational constant gc=%3f ft/s*S\"%(d,vel_gradient,gc)#\n",
    "tou=311.7#shear stress tou\n",
    "meu=gc*tou/vel_gradient\n",
    "print \"\\n tou=%0.3f psf\\n meu=%0.3f lb/ft*s\"%(tou,meu)#\n",
    "rho=60.528#density of oil\n",
    "neu=meu/rho#kinamatic viscosity\n",
    "print \"\\n kinematic viscosity=%5f (ft*ft)/s\"%(neu)#"
   ]
  }
 ],
 "metadata": {
  "kernelspec": {
   "display_name": "Python 2",
   "language": "python",
   "name": "python2"
  },
  "language_info": {
   "codemirror_mode": {
    "name": "ipython",
    "version": 2
   },
   "file_extension": ".py",
   "mimetype": "text/x-python",
   "name": "python",
   "nbconvert_exporter": "python",
   "pygments_lexer": "ipython2",
   "version": "2.7.9"
  }
 },
 "nbformat": 4,
 "nbformat_minor": 0
}
