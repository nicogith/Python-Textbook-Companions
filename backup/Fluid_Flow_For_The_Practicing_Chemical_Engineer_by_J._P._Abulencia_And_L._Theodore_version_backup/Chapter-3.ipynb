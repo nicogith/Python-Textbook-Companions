{
 "cells": [
  {
   "cell_type": "markdown",
   "metadata": {},
   "source": [
    "# Chapter 3 : Key Terms and Definitions"
   ]
  },
  {
   "cell_type": "markdown",
   "metadata": {},
   "source": [
    "## Example 3.2 Page no. 25"
   ]
  },
  {
   "cell_type": "code",
   "execution_count": 2,
   "metadata": {
    "collapsed": false
   },
   "outputs": [
    {
     "name": "stdout",
     "output_type": "stream",
     "text": [
      "Example 3.2 Page no. 25\n",
      "\n",
      "\n",
      "surface tension=0.07N/m\n",
      " Radius = 4.00e-03 m\n",
      " theta = 0 degree\n",
      " g=9.81m/s**2\n",
      " rho=1000.00kg/m**3\n",
      "\n",
      "height of liquid rise = 3.63e-03 m\n",
      "\n"
     ]
    }
   ],
   "source": [
    "from __future__ import division\n",
    "from numpy import cos\n",
    "print \"Example 3.2 Page no. 25\\n\\n\"\n",
    "#given temperature(T),pressure(P),capilLary tube diameter(D),water density(rho),contact angle(ththetaeta)\n",
    "sigma=0.0712#surface tension (sigma)of water at 30 degree C temperature in appendix A.4\n",
    "D=0.008\n",
    "R=D/2\n",
    "theta=0\n",
    "g=9.807\n",
    "rho=1000\n",
    "print \"surface tension=%0.2fN/m\\n Radius = %0.2e m\\n theta = %0.f degree\\n g=%0.2fm/s**2\\n rho=%0.2fkg/m**3\\n\"%(sigma,R,theta,g,rho)\n",
    "h=(2.0*sigma*cos(0))/(rho*g*R)#height rise of the liquid\n",
    "print \"height of liquid rise = %0.2e m\\n\"%(h)"
   ]
  },
  {
   "cell_type": "markdown",
   "metadata": {},
   "source": [
    "## Example 3.3 Page no. 26"
   ]
  },
  {
   "cell_type": "code",
   "execution_count": 3,
   "metadata": {
    "collapsed": false
   },
   "outputs": [
    {
     "name": "stdout",
     "output_type": "stream",
     "text": [
      "Example 3.3 Page no. 26\n",
      "\n",
      "\n",
      "rho=996.00\\kg/m**3\n",
      " surface tension (sigma)=0.07 N/m\n",
      "\n",
      "theta=0.00 degree \n",
      " g=9.81 m/s**2\n",
      " h=0.001 m\n",
      "\n",
      "R=0.015 m\n",
      " D=0.029 m\n",
      "\n"
     ]
    }
   ],
   "source": [
    "print \"Example 3.3 Page no. 26\\n\\n\"\n",
    "#given at 30 degree temerature\n",
    "#properties of water from appendix A.2 density(rho),surface tension(sigma)\n",
    "rho=996\n",
    "sigma=0.071\n",
    "print \"rho=%0.2f\\kg/m**3\\n surface tension (sigma)=%0.2f N/m\\n\"%(rho,sigma)\n",
    "theta=0#negligible angle of contact\n",
    "g=9.807\n",
    "h=0.001#less than one milimeter\n",
    "print \"theta=%0.2f degree \\n g=%0.2f m/s**2\\n h=%0.3f m\\n\"%(theta,g,h)\n",
    "R=(2*sigma*cos(0))/(rho*g*h)#by capiilary rise equation\n",
    "D=2*R\n",
    "print \"R=%0.3f m\\n D=%0.3f m\\n\"%(R,D)\n",
    "#if the tube diameter is greater than 0.029075 mm, then the capillary rise will be less than 1mm"
   ]
  },
  {
   "cell_type": "markdown",
   "metadata": {},
   "source": [
    "## Example 3.4 Page no. 28"
   ]
  },
  {
   "cell_type": "code",
   "execution_count": 4,
   "metadata": {
    "collapsed": false
   },
   "outputs": [
    {
     "name": "stdout",
     "output_type": "stream",
     "text": [
      "Example 3.4 page no 28\n",
      "\n",
      "\n",
      "\n",
      " F_p=8.66 lbf\n",
      "\n",
      " F-n=5.00 lbf\n",
      "\n",
      " tou=4.33 psf\n",
      " P=2.50 psf\n"
     ]
    }
   ],
   "source": [
    "from math import pi, sin\n",
    "print \"Example 3.4 page no 28\\n\\n\"#\n",
    "S=2#surface area ft**2\n",
    "F=10#magnitude of force,lbf\n",
    "theta=pi/6#angle\n",
    "F_p=F*cos(theta)#parallel comp. of force\n",
    "print \"\\n F_p=%0.2f lbf\"%(F_p)#\n",
    "F_n=F*sin(theta)#normal comp. of force\n",
    "print \"\\n F-n=%0.2f lbf\"%(F_n)#\n",
    "tou=F_p/S#shear stress\n",
    "P=F_n/S#pressure\n",
    "print \"\\n tou=%0.2f psf\\n P=%0.2f psf\"%(tou,P)#"
   ]
  },
  {
   "cell_type": "markdown",
   "metadata": {},
   "source": [
    "## Example 3.5 Page no. 30"
   ]
  },
  {
   "cell_type": "code",
   "execution_count": 5,
   "metadata": {
    "collapsed": false
   },
   "outputs": [
    {
     "name": "stdout",
     "output_type": "stream",
     "text": [
      "Example 3.5 Page no. 30\n",
      "\n",
      "\n",
      "m=1.00 kg\n",
      " g=9.80 m/s**2\n",
      " Z1=0.00 m\n",
      " Z2=10.00 m\n",
      "\n",
      "PE1=0J\n",
      " PE2=98.00J\n",
      " PE=98.00J\n",
      "\n"
     ]
    }
   ],
   "source": [
    "print \"Example 3.5 Page no. 30\\n\\n\"\n",
    "#determine potential energy of water \n",
    "# given height,mass of water,g\n",
    "m=1\n",
    "g=9.8\n",
    "Z1=0#at ground level\n",
    "Z2=10#at 10 m above from ground level\n",
    "print \"m=%0.2f kg\\n g=%0.2f m/s**2\\n Z1=%0.2f m\\n Z2=%0.2f m\\n\"%(m,g,Z1,Z2)\n",
    "PE1=m*g*Z1#potential energy at ground level\n",
    "PE2=m*g*Z2#potential energy at 10m height\n",
    "PE= PE2-PE1\n",
    "print \"PE1=%0.fJ\\n PE2=%0.2fJ\\n PE=%0.2fJ\\n\"%(PE1,PE2,PE)"
   ]
  }
 ],
 "metadata": {
  "kernelspec": {
   "display_name": "Python 2",
   "language": "python",
   "name": "python2"
  },
  "language_info": {
   "codemirror_mode": {
    "name": "ipython",
    "version": 2
   },
   "file_extension": ".py",
   "mimetype": "text/x-python",
   "name": "python",
   "nbconvert_exporter": "python",
   "pygments_lexer": "ipython2",
   "version": "2.7.9"
  }
 },
 "nbformat": 4,
 "nbformat_minor": 0
}
