{
 "cells": [
  {
   "cell_type": "markdown",
   "metadata": {},
   "source": [
    "# Chapter 17 : Prime Movers"
   ]
  },
  {
   "cell_type": "markdown",
   "metadata": {},
   "source": [
    "## Example 17.1 Page no 201"
   ]
  },
  {
   "cell_type": "code",
   "execution_count": 1,
   "metadata": {
    "collapsed": false
   },
   "outputs": [
    {
     "name": "stdout",
     "output_type": "stream",
     "text": [
      "Example 17.1 page no 201\n",
      "\n",
      "\n",
      "\n",
      " power requirement h_p_b=33.10 bhp\n"
     ]
    }
   ],
   "source": [
    "from __future__ import division\n",
    "print \"Example 17.1 page no 201\\n\\n\"\n",
    "#fan are operating for transporting gas\n",
    "#two fans fan(a)and fan(b)\n",
    "D_a=46#diameter of blade of fan (a)\n",
    "rpm_a=1575#operating speed of fan(a)\n",
    "D_b=42#diameter of blade of fan(b)\n",
    "rpm_b=1625#operating speed of fan(b)\n",
    "h_p_a=47.5#power requirement of fan (a)\n",
    "h_p_b=(rpm_b**3/rpm_a**3)*(D_b/D_a)**5*h_p_a#power requirement of fan(b)\n",
    "print \"\\n power requirement h_p_b=%.2f bhp\"%(h_p_b)#"
   ]
  },
  {
   "cell_type": "markdown",
   "metadata": {},
   "source": [
    "## Example 17.2 Page no 201"
   ]
  },
  {
   "cell_type": "code",
   "execution_count": 2,
   "metadata": {
    "collapsed": false
   },
   "outputs": [
    {
     "name": "stdout",
     "output_type": "stream",
     "text": [
      "Example 17.2 page no 201\n",
      "\n",
      "\n",
      "\n",
      "new flow rate q_n=15123.97 acfm\n",
      "\n",
      "new pressureP_n=7.68 in H20\n",
      "\n",
      " new powerhp_n=17.62 bhp\n"
     ]
    }
   ],
   "source": [
    "print \"Example 17.2 page no 201\\n\\n\"\n",
    "rpm=1694#speed of fan \n",
    "q=12200#flow rate of q_a\n",
    "rpm_n=2100#new speed of fan \n",
    "q_n=q*(rpm_n/rpm)#new flow rate\n",
    "print \"\\nnew flow rate q_n=%.2f acfm\"%(q_n)#\n",
    "#applyingeq 17.5\n",
    "P=5#pressure ,in\n",
    "P_n=P*(rpm_n**2/rpm**2)#new pressure\n",
    "print \"\\nnew pressureP_n=%.2f in H20\"%(P_n)#\n",
    "#required power is calculated using eq. 17.6\n",
    "hp=9.25#power at 1694 speed\n",
    "hp_n=hp*(rpm_n**3/rpm**3)#new power required\n",
    "print \"\\n new powerhp_n=%.2f bhp\"%(hp_n)#"
   ]
  },
  {
   "cell_type": "markdown",
   "metadata": {},
   "source": [
    "## Example 17.3 Page no. 201"
   ]
  },
  {
   "cell_type": "code",
   "execution_count": 3,
   "metadata": {
    "collapsed": false
   },
   "outputs": [
    {
     "name": "stdout",
     "output_type": "stream",
     "text": [
      "\\Example 17.3 page no 201\n",
      "\n",
      "\n",
      "\n",
      " total pressure P_drop=10.80 in H20\n",
      "\n",
      " brake horse power bhp=17.55 bhp\n"
     ]
    }
   ],
   "source": [
    "print \"\\Example 17.3 page no 201\\n\\n\"\n",
    "# a gas stream in a process\n",
    "P_l_m=4.4# minor pressure loss for duct work,valves etc,in\n",
    "P_l_mz=6.4#major pressure loss due to pieces of equipment,in\n",
    "P_drop=P_l_m+P_l_mz#total pressure drop\n",
    "print \"\\n total pressure P_drop=%.2f in H20\"%(P_drop)#\n",
    "#applying eq 17.7\n",
    "q=6500#flow rate ,acfm\n",
    "neta=0.63#overall fan-motor effficiency \n",
    "bhp=1.575e-4*q*P_drop/neta#brake horse power required\n",
    "#1.575e-5 is aconversion factor for horse power\n",
    "print \"\\n brake horse power bhp=%.2f bhp\"%(bhp)#"
   ]
  },
  {
   "cell_type": "markdown",
   "metadata": {},
   "source": [
    "## Example 17.4 Page no 208"
   ]
  },
  {
   "cell_type": "code",
   "execution_count": 4,
   "metadata": {
    "collapsed": false
   },
   "outputs": [
    {
     "name": "stdout",
     "output_type": "stream",
     "text": [
      " Example 17.4 page no 208\n",
      "\n",
      "\n",
      "\n",
      " pressure P=20.00 kpa\n"
     ]
    }
   ],
   "source": [
    "print \" Example 17.4 page no 208\\n\\n\"\n",
    "#a pump is in process\n",
    "#given: parabolic pump pressure flow \n",
    "#P=a-b*q**2  equation\n",
    "#a and  b calculate from conditions\n",
    "a=25\n",
    "b=5\n",
    "#then equation becomes P=25-5*q**2\n",
    "#pressure at 1m**3/s  flow rate\n",
    "q=1#flow rate,m**3/s\n",
    "P=a-b*q**2#pressure\n",
    "print \"\\n pressure P=%.2f kpa\"%(P)#"
   ]
  },
  {
   "cell_type": "markdown",
   "metadata": {},
   "source": [
    "## Example 17.6 Page no 214"
   ]
  },
  {
   "cell_type": "code",
   "execution_count": 5,
   "metadata": {
    "collapsed": false
   },
   "outputs": [
    {
     "name": "stdout",
     "output_type": "stream",
     "text": [
      "\n",
      " Example 17.6 page no. 214\n",
      "\n",
      "\n",
      "\n",
      " total head hc=36.24 ft of water\n",
      "\n",
      " m_dot mass flow rate =4.87 lb/s\n",
      "\n",
      " fluid power requirement W_dot=176.40 lbf.ft/s\n",
      "\n",
      " brake horse power bhp=0.53 bhp\n"
     ]
    }
   ],
   "source": [
    "print \"\\n Example 17.6 page no. 214\\n\\n\"\n",
    "#the total head developed by a centrifugal pump is given by a equation \n",
    "#hc=42-0.0047*q**2\n",
    "#the pump is to be used in a water flow system in which the pump head in feet of water is given by eq.\n",
    "#hp=12+0.0198*q**2\n",
    "#for cal. flow rate hc=hp\n",
    "q=35#from condition hc=hp,gpm\n",
    "hc=42-0.0047*q**2#total head\n",
    "print \"\\n total head hc=%.2f ft of water\"%(hc)#\n",
    "rho=62.40#density\n",
    "q_c=0.078#flow rate in cfs unit\n",
    "m_dot=rho*q_c#mass flow rate\n",
    "print \"\\n m_dot mass flow rate =%.2f lb/s\"%(m_dot)#\n",
    "W_dot=m_dot*hc#fluid power requirement can be calculated\n",
    "print \"\\n fluid power requirement W_dot=%.2f lbf.ft/s\"%(W_dot)#\n",
    "neta=.6#efficiency\n",
    "W_dot_hp=.32#fluid power requirement in hp\n",
    "bhp=W_dot_hp/neta#brake horse power\n",
    "print \"\\n brake horse power bhp=%.2f bhp\"%(bhp)#"
   ]
  },
  {
   "cell_type": "markdown",
   "metadata": {},
   "source": [
    "## Example 17.8  Page no 216"
   ]
  },
  {
   "cell_type": "code",
   "execution_count": 6,
   "metadata": {
    "collapsed": false
   },
   "outputs": [
    {
     "name": "stdout",
     "output_type": "stream",
     "text": [
      " Example 17.8 page no 216\n",
      "\n",
      "\n",
      "\n",
      " energy requirement W_s=-1163.53 btu/lbmol of air\n",
      "\n",
      " power hp=-2.34e+05 ft .lbf/min\n"
     ]
    }
   ],
   "source": [
    "print \" Example 17.8 page no 216\\n\\n\"\n",
    "#compressed air is to be employed in the nozzle\n",
    "T1=520#temperature\n",
    "P2=40#pressure\n",
    "P1=14.7#atmosphric pressure\n",
    "gamma=1.3#degree of freedom\n",
    "R=1.987#gas constant\n",
    "W_s=-(gamma*R*T1/(gamma-1))*((P2/P1)**((gamma-1)/gamma)-1)#compreesd energy requirement \n",
    "print \"\\n energy requirement W_s=%.2f btu/lbmol of air\"%(W_s)#\n",
    "hp=W_s*(7.5/29)*778#power\n",
    "print \"\\n power hp=%.2e ft .lbf/min\"%(hp)#"
   ]
  }
 ],
 "metadata": {
  "kernelspec": {
   "display_name": "Python 2",
   "language": "python",
   "name": "python2"
  },
  "language_info": {
   "codemirror_mode": {
    "name": "ipython",
    "version": 2
   },
   "file_extension": ".py",
   "mimetype": "text/x-python",
   "name": "python",
   "nbconvert_exporter": "python",
   "pygments_lexer": "ipython2",
   "version": "2.7.9"
  }
 },
 "nbformat": 4,
 "nbformat_minor": 0
}
