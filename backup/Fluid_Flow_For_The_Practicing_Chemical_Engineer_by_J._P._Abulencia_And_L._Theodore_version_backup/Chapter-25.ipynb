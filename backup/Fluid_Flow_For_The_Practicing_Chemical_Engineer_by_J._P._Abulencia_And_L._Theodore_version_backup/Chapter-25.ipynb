{
 "cells": [
  {
   "cell_type": "markdown",
   "metadata": {},
   "source": [
    "# Chapter 25 : Porous Media and Packed Beds"
   ]
  },
  {
   "cell_type": "markdown",
   "metadata": {},
   "source": [
    "## Example 25.1 Page no 370"
   ]
  },
  {
   "cell_type": "code",
   "execution_count": 2,
   "metadata": {
    "collapsed": false
   },
   "outputs": [
    {
     "name": "stdout",
     "output_type": "stream",
     "text": [
      "Example 25.1 page no 370\n",
      "\n",
      "\n",
      "\n",
      " effective partcle diameter D_p=5.50 mm \n"
     ]
    }
   ],
   "source": [
    "from __future__ import division\n",
    "print \"Example 25.1 page no 370\\n\\n\"\n",
    "#calculation of efffective particle diameter for a set of packing\n",
    "V=0.2#packing volume\n",
    "n=100#no. of particle assume\n",
    "V_p=V*1000/n#the volume of single particle,mm**2#\n",
    "S_p=2.18#average surface area of particle,mm**2\n",
    "a_p=S_p/V_p#specific surface area of particle ,(mm)**-1\n",
    "D_p = 6/a_p#effective diameter of particle,mm\n",
    "print \"\\n effective partcle diameter D_p=%.2f mm \"%(D_p)#"
   ]
  },
  {
   "cell_type": "markdown",
   "metadata": {},
   "source": [
    "## Example 25.2 Page no 371"
   ]
  },
  {
   "cell_type": "code",
   "execution_count": 3,
   "metadata": {
    "collapsed": false
   },
   "outputs": [
    {
     "name": "stdout",
     "output_type": "stream",
     "text": [
      "Example 25.2 page no 371\n",
      "\n",
      "\n",
      "\n",
      " Reynolds no R_e=6463.00 \n"
     ]
    }
   ],
   "source": [
    "print \"Example 25.2 page no 371\\n\\n\"\n",
    "#refer to example 25.1\n",
    "V=0.2#packing volume\n",
    "n=100#no. of particle assume\n",
    "V_p=V*1000/n#the volume of single particle,mm**2#\n",
    "S_p=2.18#average surface area of particle,mm**2\n",
    "a_p=S_p/V_p#specific surface area of particle ,(mm)**-1\n",
    "D_p = 6/a_p#effective diameter of particle,mm\n",
    "D_p=5.50#round off value for accurate answer\n",
    "rho=0.235#density of fluid,g/cm**3\n",
    "meu=2e-4#viscosity,g/cm.s\n",
    "v=10#interstitial velocity ,cm\n",
    "R_e=round((D_p/v)*rho*v/meu)#reynolds no\n",
    "print \"\\n Reynolds no R_e=%.2f \"%(R_e)#\n",
    "#from R_e value we can conclude that the flow of fluid would be in the turbulent region"
   ]
  },
  {
   "cell_type": "markdown",
   "metadata": {},
   "source": [
    "## Example 25.3 Page no 372"
   ]
  },
  {
   "cell_type": "code",
   "execution_count": 4,
   "metadata": {
    "collapsed": false
   },
   "outputs": [
    {
     "name": "stdout",
     "output_type": "stream",
     "text": [
      "Example 25.3 page no 372\n",
      "\n",
      "\n",
      "\n",
      " particle specific surface a_p =3.47 cm**-1 \n",
      "\n",
      " effective particle diameter d_p_e=1.73 cm\n"
     ]
    }
   ],
   "source": [
    "from math import pi\n",
    "print \"Example 25.3 page no 372\\n\\n\"\n",
    "#air flows across a packed bed \n",
    "d_p=1.5#diamter of cylinderical particles,cm\n",
    "h=2.5#height ,cm\n",
    "V_p=pi*d_p**2*h/(4)#volume of the cylinderical particles\n",
    "S_p=pi*d_p*h + 2*(pi*d_p**2/4)#cylinderical particle surface area,cm**2\n",
    "a_p=S_p/V_p#particle specific surface \n",
    "print \"\\n particle specific surface a_p =%.2f cm**-1 \"%(a_p)#\n",
    "d_p_e=6/a_p#effective particle diameter\n",
    "print \"\\n effective particle diameter d_p_e=%.2f cm\"%(d_p_e)#"
   ]
  },
  {
   "cell_type": "markdown",
   "metadata": {},
   "source": [
    "## Example 25.4 Page no 373"
   ]
  },
  {
   "cell_type": "code",
   "execution_count": 5,
   "metadata": {
    "collapsed": false
   },
   "outputs": [
    {
     "name": "stdout",
     "output_type": "stream",
     "text": [
      "\n",
      "Example 25.4 page no 373\n",
      "\n",
      "\n",
      "\n",
      " specific particle surface area a_p=8.00 in**-1\n",
      "\n",
      " effective particle diameter d_p_e=0.75 in\n"
     ]
    }
   ],
   "source": [
    "from __future__ import division\n",
    "print \"\\nExample 25.4 page no 373\\n\\n\"\n",
    "#a absorber bed consists of cube particles \n",
    "L=3/4#edge length of particle\n",
    "V_p=L**3#volume of particle \n",
    "S_p=6*L**2#surface area of particle\n",
    "a_p=6*L**2/L**3#specific particle surface area\n",
    "print \"\\n specific particle surface area a_p=%.2f in**-1\"%(a_p)#\n",
    "d_p_e = L#effective particle diameter = edge length\n",
    "print \"\\n effective particle diameter d_p_e=%.2f in\"%(d_p_e)"
   ]
  },
  {
   "cell_type": "markdown",
   "metadata": {},
   "source": [
    "## Example 25.5 Page no 373"
   ]
  },
  {
   "cell_type": "code",
   "execution_count": 6,
   "metadata": {
    "collapsed": false
   },
   "outputs": [
    {
     "name": "stdout",
     "output_type": "stream",
     "text": [
      "Example 25.5 page no 373\n",
      "\n",
      "\n",
      "\n",
      " superficial velocity v_s=2.00 ft/s\n",
      "\n",
      " interstitial velocity v_i=5.00 ft/s\n",
      "\n",
      " bulk density rho_b=46.37 lb/ft**3\n",
      "\n",
      " specific surface area a_p=72.03 ft**-1\n",
      "\n",
      " bed specific surface a_b=43.22 ft**-1\n"
     ]
    }
   ],
   "source": [
    "print \"Example 25.5 page no 373\\n\\n\"\n",
    "#gas(propane) flows through a catalyst tower\n",
    "Mw=44.1#molecular weight\n",
    "P=4320#pressre at the bottom of the catalyst bed,psf\n",
    "R=10.73#gas constant\n",
    "T=960#temperature,Rankine\n",
    "rho=P*Mw/(R*T*144)#density of propane\n",
    "L=50#height of bed,ft\n",
    "D=20#diameter of bed,ft\n",
    "V=pi*D**2*L/4#bed volume\n",
    "theta=10#contact time,s\n",
    "e=0.4#bed porosity\n",
    "q=V*e/theta#volumetric flow rate\n",
    "v_s=4*q/(pi*D**2)#superficial  velocity\n",
    "print \"\\n superficial velocity v_s=%.2f ft/s\"%(v_s)#\n",
    "v_i=v_s/e#interstitial velocity\n",
    "print \"\\n interstitial velocity v_i=%.2f ft/s\"%(v_i)#\n",
    "rho_s=77.28#ultimate density(spheres )\n",
    "rho_b=(1-e)*rho_s#bulk density\n",
    "print \"\\n bulk density rho_b=%.2f lb/ft**3\"%(rho_b)#\n",
    "d_p=0.0833#diameter of particles\n",
    "a_p=6/d_p#specific surface area\n",
    "print \"\\n specific surface area a_p=%.2f ft**-1\"%(a_p)#\n",
    "a_b=a_p*(1-e)#bed specific surface\n",
    "print \"\\n bed specific surface a_b=%.2f ft**-1\"%(a_b)"
   ]
  },
  {
   "cell_type": "markdown",
   "metadata": {},
   "source": [
    "## Example 25.6 Page no 375"
   ]
  },
  {
   "cell_type": "code",
   "execution_count": 7,
   "metadata": {
    "collapsed": false
   },
   "outputs": [
    {
     "name": "stdout",
     "output_type": "stream",
     "text": [
      "Example 25.6 page no 375\n",
      "\n",
      "\n",
      "\n",
      " hydraulic diameter D_h=0.04 ft\n",
      " hydrulic radius r_h=0.009 ft\n"
     ]
    }
   ],
   "source": [
    "print \"Example 25.6 page no 375\\n\\n\"\n",
    "#refer to example 25.5\n",
    "d_p=0.0833#diameter of particles,ft\n",
    "e=0.4#bed porosity\n",
    "D_h=2/3*(e/(1-e))*d_p#hydraulic diameter\n",
    "r_h=D_h/4#hydrulic radius\n",
    "print \"\\n hydraulic diameter D_h=%.2f ft\\n hydrulic radius r_h=%.3f ft\"%(D_h,r_h)# "
   ]
  }
 ],
 "metadata": {
  "kernelspec": {
   "display_name": "Python 2",
   "language": "python",
   "name": "python2"
  },
  "language_info": {
   "codemirror_mode": {
    "name": "ipython",
    "version": 2
   },
   "file_extension": ".py",
   "mimetype": "text/x-python",
   "name": "python",
   "nbconvert_exporter": "python",
   "pygments_lexer": "ipython2",
   "version": "2.7.9"
  }
 },
 "nbformat": 4,
 "nbformat_minor": 0
}
