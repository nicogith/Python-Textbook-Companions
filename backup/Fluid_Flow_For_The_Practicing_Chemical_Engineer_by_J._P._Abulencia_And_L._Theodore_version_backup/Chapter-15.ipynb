{
 "cells": [
  {
   "cell_type": "markdown",
   "metadata": {},
   "source": [
    "# Chapter 15 : Compressible and Sonic Flow"
   ]
  },
  {
   "cell_type": "markdown",
   "metadata": {},
   "source": [
    "## Example 15.2 Page no 169"
   ]
  },
  {
   "cell_type": "code",
   "execution_count": 1,
   "metadata": {
    "collapsed": false
   },
   "outputs": [
    {
     "name": "stdout",
     "output_type": "stream",
     "text": [
      " Example 15.2 page no 169\n",
      "\n",
      "\n",
      "\n",
      " speed of sound on nitrogen c=349.01 m/s\n",
      "\n",
      " mach no. M_a=0.235 \n"
     ]
    }
   ],
   "source": [
    "from __future__ import division\n",
    "from math import sqrt\n",
    "print \" Example 15.2 page no 169\\n\\n\"\n",
    "#nitrogen gas is flowing in a duct,neglect compressibility effects\n",
    "T=293#temperature,k\n",
    "R=8314.4#gas constant\n",
    "k=1.4#for nitrogen\n",
    "M=28#molecular weight of nitrogen\n",
    "c=sqrt(k*R*T/M)#speed of sound in nitrogen \n",
    "print \"\\n speed of sound on nitrogen c=%0.2f m/s\"%(c)#\n",
    "v=82#flow velocity \n",
    "M_a=v/c#mach no.\n",
    "print \"\\n mach no. M_a=%0.3f \"%(M_a)#"
   ]
  },
  {
   "cell_type": "markdown",
   "metadata": {},
   "source": [
    "## Example 15.3 Page no 170"
   ]
  },
  {
   "cell_type": "code",
   "execution_count": 2,
   "metadata": {
    "collapsed": false
   },
   "outputs": [
    {
     "name": "stdout",
     "output_type": "stream",
     "text": [
      "Example 15.3 page no 170\n",
      "\n",
      "\n",
      "\n",
      " speed of sound in propane c=266.91 m/s\n",
      "\n",
      " M_a mach no=0.16 \n",
      "\n",
      " reynolds no R_e=872394.75 \n"
     ]
    }
   ],
   "source": [
    "print \"Example 15.3 page no 170\\n\\n\"\n",
    "#propane is flowing in a tube\n",
    "k=1.3#degree of freedom for propane\n",
    "T=290#temperature,k\n",
    "M=44#mol. weight \n",
    "R=8314.4#gas constant\n",
    "c=sqrt((k*R*T)/M)#speed of sound in propane\n",
    "print \"\\n speed of sound in propane c=%0.2f m/s\"%(c)#\n",
    "v=43#average velocity\n",
    "M_a=v/c#mach no.\n",
    "print \"\\n M_a mach no=%0.2f \"%(M_a)#\n",
    "#mach no is< 0.3,that's why flow is incompressible\n",
    "rho=6.39#density,kg/m**3\n",
    "meu=8e-6#viscosity ,m**2/s\n",
    "D=0.0254#inside diameter of tube\n",
    "R_e=D*rho*v/meu#reynolds no.\n",
    "print \"\\n reynolds no R_e=%0.2f \"%(R_e)#\n",
    "#because R_e is >4000,flow is turbulent"
   ]
  },
  {
   "cell_type": "markdown",
   "metadata": {},
   "source": [
    "## Example 15.6 Page no 173"
   ]
  },
  {
   "cell_type": "code",
   "execution_count": 3,
   "metadata": {
    "collapsed": false
   },
   "outputs": [
    {
     "name": "stdout",
     "output_type": "stream",
     "text": [
      "Example 15.6 page no 173\n",
      "\n",
      "\n",
      "\n",
      " pressure drop P_drop=35.00 psia\n"
     ]
    }
   ],
   "source": [
    "from math import pi\n",
    "print \"Example 15.6 page no 173\\n\\n\"\n",
    "#methane is flowing through a horizontal steel pipe\n",
    "m_dot=10#mass flow rate, lb/s\n",
    "D=1#diameter of pipe,ft\n",
    "G=m_dot/((pi/4)*D**2)#mass velocity flux\n",
    "P=89.7#inlet pressure\n",
    "T=530#temprature,k\n",
    "MW=16#mol. weight\n",
    "R=10.73#gas constant\n",
    "#applying eq 15.7\n",
    "rho=P*MW/(R*T)#density\n",
    "f=0.008#friction factor\n",
    "L=15840#length of pipe,ft\n",
    "g_c=32.2#gravitational constant\n",
    "P_drop=(2*f*L*(G**2))/(g_c*rho*D)#pressure drop\n",
    "P1=89.7#inlet pressure,psia\n",
    "P2=P1-(P_drop/144)\n",
    "P2=54.7#corrected value\n",
    "P_drop=P1-P2#updated value of P_drop\n",
    "print \"\\n pressure drop P_drop=%0.2f psia\"%(P_drop)#"
   ]
  },
  {
   "cell_type": "markdown",
   "metadata": {},
   "source": [
    "## Example 15.7 Page no 174"
   ]
  },
  {
   "cell_type": "code",
   "execution_count": 7,
   "metadata": {
    "collapsed": false
   },
   "outputs": [
    {
     "name": "stdout",
     "output_type": "stream",
     "text": [
      "Example 15.7 page no 174\n",
      "\n",
      "\n",
      "\n",
      " reynolds no R_e=1718538.57 \n"
     ]
    }
   ],
   "source": [
    "print \"Example 15.7 page no 174\\n\\n\"\n",
    "#refr to example 15.6\n",
    "D=1#diameter of pipe\n",
    "G=12.7#mass velocity flux\n",
    "meu=7.39e-6#viscosity,lb/ft.s\n",
    "R_e=(D*G)/(meu)#reynolds no\n",
    "print \"\\n reynolds no R_e=%0.2f \"%(R_e)#"
   ]
  },
  {
   "cell_type": "markdown",
   "metadata": {},
   "source": [
    "## Example 15.8 Page no 174"
   ]
  },
  {
   "cell_type": "code",
   "execution_count": 5,
   "metadata": {
    "collapsed": false
   },
   "outputs": [
    {
     "name": "stdout",
     "output_type": "stream",
     "text": [
      "Example no page no 174\n",
      "\n",
      "\n",
      "\\ density rho =3.31 kg/m**3\n",
      "\n",
      " G mass velocity flux =99.40 kg/m**2.s\n",
      "\n",
      " pressure drop P__2=2.52 atm\n",
      "\n",
      " P_drop pressure=0.18 atm\n"
     ]
    }
   ],
   "source": [
    "print \"Example no page no 174\\n\\n\"\n",
    "#air flowing through a steel pipe \n",
    "P_1=2.7#pressure,atm\n",
    "T=288#temperature,k\n",
    "v=30#velocity at the entrance of the pipe ,m/s\n",
    "Mw=29#mol. weight of air\n",
    "V=22.4#standard volume\n",
    "T_s=273#st. temp\n",
    "P_s=1#st. pressure\n",
    "rho=(Mw*P_1*T_s)/(V*T*P_s)#density \n",
    "print \"\\ density rho =%0.2f kg/m**3\"%(rho)#\n",
    "G=v*rho#mass veocity flux\n",
    "print \"\\n G mass velocity flux =%0.2f kg/m**2.s\"%(G)#\n",
    "f=0.004#friction factor\n",
    "D=0.085#diameter ,m\n",
    "L=65#length of pipe,m\n",
    "#gravitational constant\n",
    "P_2=P_1-2*f*L*G**2/(rho*D*101325)#pressure drop across the line\n",
    "#factor 101325 for atm\n",
    "print \"\\n pressure drop P__2=%0.2f atm\"%(P_2)#\n",
    "P_drop=P_1-P_2#pressure drop\n",
    "print \"\\n P_drop pressure=%0.2f atm\"%(P_drop)#"
   ]
  },
  {
   "cell_type": "markdown",
   "metadata": {},
   "source": [
    "## Example 15.9 Page no 175"
   ]
  },
  {
   "cell_type": "code",
   "execution_count": 6,
   "metadata": {
    "collapsed": false
   },
   "outputs": [
    {
     "name": "stdout",
     "output_type": "stream",
     "text": [
      " Example 15.9 page no 175\n",
      "\n",
      "\n",
      "\n",
      " reynolds no R_e=485086.21 \n"
     ]
    }
   ],
   "source": [
    "print \" Example 15.9 page no 175\\n\\n\"\n",
    "#refer to Example 15.9\n",
    "meu=1.74e-5#viscosity,kg/m.s\n",
    "D=0.085#diameter of pipe\n",
    "G=99.3#mass velocity flux\n",
    "R_e=D*G/meu#reynolds no.\n",
    "print \"\\n reynolds no R_e=%0.2f \"%(R_e)#"
   ]
  }
 ],
 "metadata": {
  "kernelspec": {
   "display_name": "Python 2",
   "language": "python",
   "name": "python2"
  },
  "language_info": {
   "codemirror_mode": {
    "name": "ipython",
    "version": 2
   },
   "file_extension": ".py",
   "mimetype": "text/x-python",
   "name": "python",
   "nbconvert_exporter": "python",
   "pygments_lexer": "ipython2",
   "version": "2.7.9"
  }
 },
 "nbformat": 4,
 "nbformat_minor": 0
}
