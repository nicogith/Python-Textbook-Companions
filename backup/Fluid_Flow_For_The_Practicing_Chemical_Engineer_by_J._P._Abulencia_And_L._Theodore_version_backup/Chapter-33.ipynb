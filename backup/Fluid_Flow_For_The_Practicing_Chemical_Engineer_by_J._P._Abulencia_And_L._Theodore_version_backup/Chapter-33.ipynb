{
 "cells": [
  {
   "cell_type": "markdown",
   "metadata": {},
   "source": [
    "# Chapter 33 : Biomedical Engineering "
   ]
  },
  {
   "cell_type": "markdown",
   "metadata": {},
   "source": [
    "## Example 33.1 Page no 524"
   ]
  },
  {
   "cell_type": "code",
   "execution_count": 2,
   "metadata": {
    "collapsed": false
   },
   "outputs": [
    {
     "name": "stdout",
     "output_type": "stream",
     "text": [
      "Example 33.1 Page no 524\n",
      "\n",
      "\n",
      "\n",
      " viscosity meu_e=8.40e-04 lb/ft.s\n"
     ]
    }
   ],
   "source": [
    "from __future__ import division\n",
    "print \"Example 33.1 Page no 524\\n\\n\"\n",
    "#unit conversion of viscosity of blood\n",
    "meu_cp=1.25#vicosity of blood in cp\n",
    "meu_e=meu_cp*6.72e-4#viscosity in english unit,lb/ft.s\n",
    "print \"\\n viscosity meu_e=%0.2e lb/ft.s\"%(meu_e)"
   ]
  },
  {
   "cell_type": "markdown",
   "metadata": {},
   "source": [
    "## Example 33.2 Page no 525"
   ]
  },
  {
   "cell_type": "code",
   "execution_count": 3,
   "metadata": {
    "collapsed": false
   },
   "outputs": [
    {
     "name": "stdout",
     "output_type": "stream",
     "text": [
      "Example 33.2 Page no 525\n",
      "\n",
      "\n",
      "\n",
      " P1=3.15 inHg\n",
      " P2=3.57 ft H2O\n",
      "P3=42.83 in H2O\n",
      " P4=1.55 psia\n",
      "P5=222.74 psfa\n",
      "P6=10663.16 N/m**2\n"
     ]
    }
   ],
   "source": [
    "print \"Example 33.2 Page no 525\\n\\n\"\n",
    "#unit conversion of poressure given in mmHg into various units\n",
    "P=80#pressure given in mmHg\n",
    "P1=P*(29.92/760)#pressure , in Hg\n",
    "P2=P*(33.91/760)#pressure ,ft H2O\n",
    "P3=P2*12#pressure ,in H2O\n",
    "P4=P*(14.7/760)#pressure ,psia\n",
    "P5=P*(2116/760)#pressure ,psfa\n",
    "P6=P*(1.013e+5/760)#pressure ,N/m**2\n",
    "print \"\\n P1=%0.2f inHg\\n P2=%0.2f ft H2O\\nP3=%0.2f in H2O\\n P4=%0.2f psia\\nP5=%0.2f psfa\\nP6=%0.2f N/m**2\"%(P1,P2,P3,P4,P5,P6)##in book answers are round off after decimal but there are exact answers"
   ]
  },
  {
   "cell_type": "markdown",
   "metadata": {},
   "source": [
    "## Example 33.5 Page no 527"
   ]
  },
  {
   "cell_type": "code",
   "execution_count": 4,
   "metadata": {
    "collapsed": false
   },
   "outputs": [
    {
     "name": "stdout",
     "output_type": "stream",
     "text": [
      "Example 33.5 Page no 527\n",
      "\n",
      "\n",
      "\n",
      " ratio of diameters D_r=1.41 \n"
     ]
    }
   ],
   "source": [
    "from math import sqrt\n",
    "from __future__ import division\n",
    "print \"Example 33.5 Page no 527\\n\\n\"\n",
    "#an artery branches into two smaller equal area arteries so that velocity is same\n",
    "#because q1=q2,volumetric flow rate\n",
    "#q1=q2=q/2\n",
    "#because s1=s2,cross sectional area\n",
    "#s1=s2=s/2\n",
    "#let the values \n",
    "q=1#flow rate at inlet artery \n",
    "q1=q/2#flow rate at outlet artery\n",
    "s=1#area of inlet artery\n",
    "s1=s/2#area of outlet artery\n",
    "#v=q/s\n",
    "D_r=sqrt(q/q1)#ratio of diameters\n",
    "print \"\\n ratio of diameters D_r=%0.2f \"%(D_r)#"
   ]
  },
  {
   "cell_type": "markdown",
   "metadata": {},
   "source": [
    "## Example 33.6 Page no 528"
   ]
  },
  {
   "cell_type": "code",
   "execution_count": 5,
   "metadata": {
    "collapsed": false
   },
   "outputs": [
    {
     "name": "stdout",
     "output_type": "stream",
     "text": [
      "Example 33.6 Page no 528\n",
      "\n",
      "\n",
      "\n",
      " velocity v3=4.52 mm/s\n"
     ]
    }
   ],
   "source": [
    "print \"Example 33.6 Page no 528\\n\\n\"\n",
    "#a blood vessel branches into three openings \n",
    "#we have to find the velocity in 3 rd opening\n",
    "a=0.2#cross sectional area of inlet 1,m**2\n",
    "v=5#velocity inlet 1,mm/s\n",
    "a1=0.08#area of branch1,m**2\n",
    "v1=7#velocity in branch2,mm/s\n",
    "a2=0.025#area of branch,m**2\n",
    "v2=12#velocity in branch,mm/s\n",
    "a3=0.031#area of branch,m**2\n",
    "q=a*v#flow rate at inlet\n",
    "q1=a1*v1#flow rate at branch 1\n",
    "q2=a2*v2#flow rate at branch 2\n",
    "q3=q-q1-q2#flow rate in branch 3\n",
    "v3=q3/a3#velocity in branch 3\n",
    "print \"\\n velocity v3=%0.2f mm/s\"%(v3)#\n",
    " "
   ]
  },
  {
   "cell_type": "markdown",
   "metadata": {},
   "source": [
    "## Example 33.7 Page no 531"
   ]
  },
  {
   "cell_type": "code",
   "execution_count": 6,
   "metadata": {
    "collapsed": false
   },
   "outputs": [
    {
     "name": "stdout",
     "output_type": "stream",
     "text": [
      "Example 33.7 Page no 531\n",
      "\n",
      "\n",
      "\n",
      " flow velocity v=19.01 cm/s\n"
     ]
    }
   ],
   "source": [
    "from math import pi\n",
    "print \"Example 33.7 Page no 531\\n\\n\"\n",
    "#blood flowing through the arota\n",
    "D=2.5#diameter of arota\n",
    "S=pi*D**2/4#cross sectional area,cm**2\n",
    "q=93.3#volumeric flow rate,cm**3/s\n",
    "v=q/S#flow velocity\n",
    "print \"\\n flow velocity v=%0.2f cm/s\"%(v)#"
   ]
  },
  {
   "cell_type": "markdown",
   "metadata": {},
   "source": [
    "## Example 33.8 Page no 531"
   ]
  },
  {
   "cell_type": "code",
   "execution_count": 7,
   "metadata": {
    "collapsed": false
   },
   "outputs": [
    {
     "name": "stdout",
     "output_type": "stream",
     "text": [
      "Example 33.8 Page no 531\n",
      "\n",
      "\n",
      "\n",
      " no.of times heart beats T=3.11e+09 \n"
     ]
    }
   ],
   "source": [
    "print \"Example 33.8 Page no 531\\n\\n\"\n",
    "#one of the auther of this book is 74 year old ,we have to determine the no. of times that the the auther's heart has to beat to date\n",
    "Y=74#age in year\n",
    "d=365#days\n",
    "h=24#hours\n",
    "m=60#minutes\n",
    "b=80#heart beats per minutes\n",
    "T=Y*d*h*m*b# no. of times heart beats\n",
    "print \"\\n no.of times heart beats T=%0.2e \"%(T)#"
   ]
  },
  {
   "cell_type": "markdown",
   "metadata": {},
   "source": [
    "## Example 33.9 Page no 531"
   ]
  },
  {
   "cell_type": "code",
   "execution_count": 8,
   "metadata": {
    "collapsed": false
   },
   "outputs": [
    {
     "name": "stdout",
     "output_type": "stream",
     "text": [
      "\n",
      " Example 33.9 Page no 531\n",
      "\n",
      "\n",
      "\n",
      " Volume of blood  V=2.18e+11 ml\n"
     ]
    }
   ],
   "source": [
    "print \"\\n Example 33.9 Page no 531\\n\\n\"\n",
    "#refer to example no 33.8\n",
    "Y=74#age in year\n",
    "d=365#days\n",
    "h=24#hours\n",
    "m=60#minutes\n",
    "b=80#heart beats per minutes\n",
    "T=Y*d*h*m*b# no. of times heart beats\n",
    "v=70#volume of blood discharge with  each blood,ml\n",
    "V=T*v#volume of blood that has circulated through the auther's system over his lifetime\n",
    "print \"\\n Volume of blood  V=%0.2e ml\"%(V)# "
   ]
  },
  {
   "cell_type": "markdown",
   "metadata": {},
   "source": [
    "## Example 33.10 Page no 532"
   ]
  },
  {
   "cell_type": "code",
   "execution_count": 9,
   "metadata": {
    "collapsed": false
   },
   "outputs": [
    {
     "name": "stdout",
     "output_type": "stream",
     "text": [
      "Example 33.10 Page no 532\n",
      "\n",
      "\n",
      "\n",
      " pressure drop P_drop=1.69 ft*lbf/lb\n"
     ]
    }
   ],
   "source": [
    "print \"Example 33.10 Page no 532\\n\\n\"\n",
    "#the flow of blood from the arota to the atrium is reprsented by a vessel\n",
    "meu=1.1*6.72e-4#viscosity of blood\n",
    "L=0.3#length of vessel,mile\n",
    "g_c=32.2#grav. acc\n",
    "rho=62.4#density of blood \n",
    "D=2.53/30.48#diameter of vessel,ft\n",
    "P_drop=32*meu*(19/30.48)*5280*L/(rho*D**2*g_c)\n",
    "print \"\\n pressure drop P_drop=%0.2f ft*lbf/lb\"%(P_drop)\n",
    "#since the model is resonable from the fluid dynamics perspective"
   ]
  },
  {
   "cell_type": "markdown",
   "metadata": {},
   "source": [
    "## Example 33.12 Page no 534"
   ]
  },
  {
   "cell_type": "code",
   "execution_count": 10,
   "metadata": {
    "collapsed": false
   },
   "outputs": [
    {
     "name": "stdout",
     "output_type": "stream",
     "text": [
      "\n",
      " Example 33.12 Page no 534\n",
      "\n",
      "\n",
      "\n",
      "power generated hp=0.55 hp\n"
     ]
    }
   ],
   "source": [
    "print \"\\n Example 33.12 Page no 534\\n\\n\"\n",
    "#estimation of power generated by human heart\n",
    "P_drop=60#pressure drop in the circulatory system,mmHg\n",
    "q=0.0033#volumetric flow rate,ft**3/s\n",
    "hp=(q*P_drop*14.7*(144/760))#power generated \n",
    "print \"\\npower generated hp=%0.2f hp\"%(hp)##calculation error in book"
   ]
  }
 ],
 "metadata": {
  "kernelspec": {
   "display_name": "Python 2",
   "language": "python",
   "name": "python2"
  },
  "language_info": {
   "codemirror_mode": {
    "name": "ipython",
    "version": 2
   },
   "file_extension": ".py",
   "mimetype": "text/x-python",
   "name": "python",
   "nbconvert_exporter": "python",
   "pygments_lexer": "ipython2",
   "version": "2.7.9"
  }
 },
 "nbformat": 4,
 "nbformat_minor": 0
}
