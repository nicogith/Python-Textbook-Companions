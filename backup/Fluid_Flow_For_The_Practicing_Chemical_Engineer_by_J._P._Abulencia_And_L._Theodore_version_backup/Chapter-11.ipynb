{
 "cells": [
  {
   "cell_type": "markdown",
   "metadata": {},
   "source": [
    "# Chapter 11 : Ideal Gas Law"
   ]
  },
  {
   "cell_type": "markdown",
   "metadata": {},
   "source": [
    "## Example 11.2 Page no. 113"
   ]
  },
  {
   "cell_type": "code",
   "execution_count": 2,
   "metadata": {
    "collapsed": false
   },
   "outputs": [
    {
     "name": "stdout",
     "output_type": "stream",
     "text": [
      "Example 11.2-Page no.113\n",
      "\n",
      "\n",
      "density of gas rho =0.076lb/ft**3\n"
     ]
    }
   ],
   "source": [
    "from __future__ import division\n",
    "print \"Example 11.2-Page no.113\\n\\n\"\n",
    "#given\n",
    "#Pressure(P),Temp.(T),Molecular wt. of gas(M)\n",
    "P=1#atm\n",
    "T_d=60#degree F\n",
    "M=29#gram\n",
    "#Gas constant R\n",
    "R=.73\n",
    "T=T_d+460#  rankin\n",
    "#density of gaS\n",
    "rho=(P*M)/(R*T)\n",
    "print \"density of gas rho =%0.3flb/ft**3\"%(rho)"
   ]
  },
  {
   "cell_type": "markdown",
   "metadata": {},
   "source": [
    "## Example 11.3 Page no. 114"
   ]
  },
  {
   "cell_type": "code",
   "execution_count": 3,
   "metadata": {
    "collapsed": false
   },
   "outputs": [
    {
     "name": "stdout",
     "output_type": "stream",
     "text": [
      "Example 11.3-Page no. 114\n",
      "\n",
      "\n",
      "actual volumetric flowrate Qa=4461.54 acfm\n"
     ]
    }
   ],
   "source": [
    "print \"Example 11.3-Page no. 114\\n\\n\"\n",
    "#given\n",
    "#standard volumetric flowrate of a gas stream(Qs),standard conditions,actual conditions\n",
    "Qs=2000#scfm\n",
    "Ps=1#atm\n",
    "Ts=60#degree F\n",
    "Pa=1#atm\n",
    "Ta=700#degree F\n",
    "Ta=Ta+460#rankin\n",
    "Ts=Ts+460#rankin\n",
    "Qa=Qs*(Ta/Ts)*(Ps/Pa)\n",
    "print \"actual volumetric flowrate Qa=%.2f acfm\"%(Qa)"
   ]
  },
  {
   "cell_type": "markdown",
   "metadata": {},
   "source": [
    "## Example 11.4 Page no. 115"
   ]
  },
  {
   "cell_type": "code",
   "execution_count": 4,
   "metadata": {
    "collapsed": false
   },
   "outputs": [
    {
     "name": "stdout",
     "output_type": "stream",
     "text": [
      "Example 11.4-Page no. 115\n",
      "\n",
      "\n",
      "standard volumetric flowrate Qs=654.48 scfm\n"
     ]
    }
   ],
   "source": [
    "print \"Example 11.4-Page no. 115\\n\\n\"\n",
    "#given\n",
    "#mass flowrate of flue gas ,average moleculer weight flue gas,standard conditions\n",
    "m=50#lb/min\n",
    "M=29#lb/lbmol\n",
    "Ts=60#degree F\n",
    "Ps=1#atm\n",
    "R=0.73#atm.ft**3/(lbmol.degree R)\n",
    "Ts=Ts+460#rankin\n",
    "Qs=(m/M)*(R*Ts/Ps)\n",
    "print \"standard volumetric flowrate Qs=%0.2f scfm\"%(Qs)"
   ]
  },
  {
   "cell_type": "markdown",
   "metadata": {},
   "source": [
    "## Example 11.5 Page no. 116"
   ]
  },
  {
   "cell_type": "code",
   "execution_count": 5,
   "metadata": {
    "collapsed": false
   },
   "outputs": [
    {
     "name": "stdout",
     "output_type": "stream",
     "text": [
      "Example 11.5-Page no.1 116\n",
      "\n",
      "\n",
      "molecular weight of gas Mw=32.02\n"
     ]
    }
   ],
   "source": [
    "print \"Example 11.5-Page no.1 116\\n\\n\"\n",
    "#given\n",
    "#specific volume(V),temperature(T),pressure(P)\n",
    "V=12.084#ft**3/lb\n",
    "T=70#degree F\n",
    "P=1#atm\n",
    "R=0.73\n",
    "T=T+460#rankin\n",
    "Mw=(R*T)/(P*V)\n",
    "print \"molecular weight of gas Mw=%0.2f\"%(Mw)"
   ]
  },
  {
   "cell_type": "markdown",
   "metadata": {},
   "source": [
    "## Example 11.6 Page no 118"
   ]
  },
  {
   "cell_type": "code",
   "execution_count": 6,
   "metadata": {
    "collapsed": false
   },
   "outputs": [
    {
     "name": "stdout",
     "output_type": "stream",
     "text": [
      "Example 11.6 page no 118\n",
      "\n",
      "\n",
      "\n",
      "Volume of gas V=0.63 L/gmol\n"
     ]
    }
   ],
   "source": [
    "print \"Example 11.6 page no 118\\n\\n\"\n",
    "#first and second viral coeff.\n",
    "B=-0.159#m**3/kgmol\n",
    "C=0.009#(m**3/kgmol)**2\n",
    "V_new=0\n",
    "V=0.820#\n",
    "for i in range(1,4):\n",
    "    V_new=(1+(B)/V+(C)/(V**2))/1.22\n",
    "    V=V_new\n",
    "print \"\\nVolume of gas V=%0.2f L/gmol\"%(V)"
   ]
  },
  {
   "cell_type": "markdown",
   "metadata": {},
   "source": [
    "## Example 11.7 Page no 118"
   ]
  },
  {
   "cell_type": "code",
   "execution_count": 7,
   "metadata": {
    "collapsed": false
   },
   "outputs": [
    {
     "name": "stdout",
     "output_type": "stream",
     "text": [
      "Example 11.7 page no 118\n",
      "\n",
      "\n",
      "\n",
      " Volume V=48.80 ft**3/lbmol \n"
     ]
    }
   ],
   "source": [
    "print \"Example 11.7 page no 118\\n\\n\"\n",
    "#given\n",
    "T_c=343# critical temperature,deg R\n",
    "P_c=45.4#critical pressure,atm\n",
    "#emplying redlich kwong (R-K)equation\n",
    "R=0.73#gas constant \n",
    "a=round(0.42748*R**2*T_c**2.5/P_c)#R-k constant\n",
    "b=0.08664*R*T_c/P_c#R-k constant\n",
    "#   V_new=[[490/(V-b)]-[a/(25.9*V*V+b)]]/10\n",
    "# V=V_new\n",
    "#by trial and error method\n",
    "V=48.8\n",
    "print \"\\n Volume V=%0.2f ft**3/lbmol \"%(V)#"
   ]
  }
 ],
 "metadata": {
  "kernelspec": {
   "display_name": "Python 2",
   "language": "python",
   "name": "python2"
  },
  "language_info": {
   "codemirror_mode": {
    "name": "ipython",
    "version": 2
   },
   "file_extension": ".py",
   "mimetype": "text/x-python",
   "name": "python",
   "nbconvert_exporter": "python",
   "pygments_lexer": "ipython2",
   "version": "2.7.9"
  }
 },
 "nbformat": 4,
 "nbformat_minor": 0
}
