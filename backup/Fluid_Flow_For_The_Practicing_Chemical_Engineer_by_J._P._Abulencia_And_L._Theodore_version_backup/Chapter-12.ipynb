{
 "cells": [
  {
   "cell_type": "markdown",
   "metadata": {},
   "source": [
    "# Chapter 12 : Flow Mechanisms"
   ]
  },
  {
   "cell_type": "markdown",
   "metadata": {},
   "source": [
    "## Example 12.1 Page no 124"
   ]
  },
  {
   "cell_type": "code",
   "execution_count": 1,
   "metadata": {
    "collapsed": false
   },
   "outputs": [
    {
     "name": "stdout",
     "output_type": "stream",
     "text": [
      "Example 12.1 page no 124\n",
      "\n",
      "\n",
      "\n",
      " temperature at inlet T_i=660.00 k\n",
      " diameter at inlet D_1=6.00 ft\n",
      " velocity at inlet v_1=25.00 ft/s\n",
      "\n",
      " area at ilet A_1=28.27 st**2\n",
      " volumatric flow rate at inlet q_1=706.86 ft**3/s\n",
      "\n",
      " temperature T_2=2360.00 k\n",
      " velocity of flow at outlet v_2=40.00 ft/s\n",
      "\n",
      " volumatric flow rate at outlet q_2=2527.55 ft**3/s\n",
      " cross sectional area at outlet A_2=63.19 ft**2 \n",
      "\n",
      " diameter at outlet D_2=8.97 ft \n"
     ]
    }
   ],
   "source": [
    "from __future__ import division\n",
    "from math import pi,sqrt\n",
    "print \"Example 12.1 page no 124\\n\\n\"\n",
    "T_i=660#temperature of flue at inlet in furnsce\n",
    "D_1=6#inside diameter of pipe,ft\n",
    "v_1=25#velocity  at inlet\n",
    "print \"\\n temperature at inlet T_i=%0.2f k\\n diameter at inlet D_1=%0.2f ft\\n velocity at inlet v_1=%0.2f ft/s\"%(T_i,D_1,v_1)#\n",
    "A_1=pi/4*D_1**2#\n",
    "q_1=A_1*v_1#volumatric flow rate at inlet\n",
    "print\"\\n area at ilet A_1=%0.2f st**2\\n volumatric flow rate at inlet q_1=%0.2f ft**3/s\"%(A_1,q_1)#\n",
    "#applying charle's law for volumatic flow out of the scrubber\n",
    "#given\n",
    "T_2=2360#the temperature up to which furnace heats the gas\n",
    "v_2=40#velocity of flow at outlet\n",
    "print \"\\n temperature T_2=%0.2f k\\n velocity of flow at outlet v_2=%0.2f ft/s\"%(T_2,v_2)#\n",
    "q_2=q_1*(T_2/T_i)#volumatric flow rate at outlet\n",
    "A_2=q_2/v_2# cross sectional area at outlet duct\n",
    "print \"\\n volumatric flow rate at outlet q_2=%0.2f ft**3/s\\n cross sectional area at outlet A_2=%0.2f ft**2 \"%(q_2,A_2)#\n",
    "D_2=sqrt(4*A_2/pi)#diameter at outlet\n",
    "print \"\\n diameter at outlet D_2=%0.2f ft \"%(D_2)#"
   ]
  },
  {
   "cell_type": "markdown",
   "metadata": {},
   "source": [
    "## Example 12.2 Page no 125"
   ]
  },
  {
   "cell_type": "code",
   "execution_count": 2,
   "metadata": {
    "collapsed": false
   },
   "outputs": [
    {
     "name": "stdout",
     "output_type": "stream",
     "text": [
      "Example 12.2 page no 125\n",
      "\n",
      "\n",
      "\n",
      " diameter of tube L=2.54 cm\n",
      " density  rho=1.50 gm/cm**3\n",
      " velocity v=20.00 cm/s\n",
      " viscosity meu=0.01 g/cm*s\n",
      "\n",
      " Reynolds no. R_e=9769.23 \n"
     ]
    }
   ],
   "source": [
    "print \"Example 12.2 page no 125\\n\\n\"\n",
    "#to calculate reynolds number\n",
    "L=2.54#diameter of tube in cm\n",
    "rho=1.50#density of liquid in gm/cm**3\n",
    "v=20#velocity of flow in cm/s\n",
    "meu=0.78e-2#viscosity of liquid in g/cm*s\n",
    "print \"\\n diameter of tube L=%0.2f cm\\n density  rho=%0.2f gm/cm**3\\n velocity v=%0.2f cm/s\\n viscosity meu=%0.2f g/cm*s\"%(L,rho,v,meu)#\n",
    "R_e=L*rho*v/meu#reynolds number\n",
    "print \"\\n Reynolds no. R_e=%0.2f \"%(R_e)#"
   ]
  },
  {
   "cell_type": "markdown",
   "metadata": {},
   "source": [
    "## Example 12.3 Page no 126"
   ]
  },
  {
   "cell_type": "code",
   "execution_count": 3,
   "metadata": {
    "collapsed": false
   },
   "outputs": [
    {
     "name": "stdout",
     "output_type": "stream",
     "text": [
      "\n",
      " Example 12.3 page no 126\n",
      "\n",
      "\n",
      "\n",
      " velocity v = 3.80 m/s\n",
      " diameter D=0.45 m\n",
      " density rho=1.20 kg/m**3\n",
      " viscosity meu=1.73e-05 kg/m*s\n",
      "\n",
      " reynoldsno R_e = 118612.72 \n"
     ]
    }
   ],
   "source": [
    "print \"\\n Example 12.3 page no 126\\n\\n\"\n",
    "#to determine the teynolds no of a gas stream \n",
    "v=3.8#velocity through the duct \n",
    "D=0.45#duct diameter\n",
    "rho=1.2#density of gas\n",
    "meu=1.73e-5#viscosity of gas\n",
    "print \"\\n velocity v = %0.2f m/s\\n diameter D=%0.2f m\\n density rho=%0.2f kg/m**3\\n viscosity meu=%0.2e kg/m*s\"%(v,D,rho,meu)#\n",
    "R_e=D*v*rho/meu#reynolds no\n",
    "print \"\\n reynoldsno R_e = %0.2f \"%(R_e)#"
   ]
  },
  {
   "cell_type": "markdown",
   "metadata": {},
   "source": [
    "## Example 12.5 Page no 128"
   ]
  },
  {
   "cell_type": "code",
   "execution_count": 4,
   "metadata": {
    "collapsed": false
   },
   "outputs": [
    {
     "name": "stdout",
     "output_type": "stream",
     "text": [
      " Example 12.5 page no 128\n",
      "\n",
      "\n",
      "\n",
      " volumatric flow rate  q = 0.006 m**3/s\n",
      "\n",
      " mass flow rate m_dot=5.43 kg/s\n",
      "\n",
      " average velocity v_av=2.00 m/s\n"
     ]
    }
   ],
   "source": [
    "print \" Example 12.5 page no 128\\n\\n\"\n",
    "SG=0.96#sp.gravity of a liquid\n",
    "R=0.03#radius of long circular tube through which liquid  flow\n",
    "#flow rate is related with the diameter of circular tube \n",
    "q=2*pi*(3*R**2-(200/3)*R**3)#\n",
    "print \"\\n volumatric flow rate  q = %0.3f m**3/s\"%(q)#\n",
    "rho_w=1000#density of water \n",
    "rho_l=SG*rho_w#density of liquid\n",
    "m_dot=rho_l*q#mass flow rate \n",
    "print \"\\n mass flow rate m_dot=%0.2f kg/s\"%(m_dot)#\n",
    "s=pi*R**2#surface area\n",
    "v_av=q/s#average velocity\n",
    "print \"\\n average velocity v_av=%0.2f m/s\"%(v_av)#"
   ]
  },
  {
   "cell_type": "markdown",
   "metadata": {},
   "source": [
    "## Example 12.6 Page no 129"
   ]
  },
  {
   "cell_type": "code",
   "execution_count": 5,
   "metadata": {
    "collapsed": false
   },
   "outputs": [
    {
     "name": "stdout",
     "output_type": "stream",
     "text": [
      "Example 12.6 page no 129\n",
      "\n",
      "\n",
      "\n",
      " time t=3539.82 s\n"
     ]
    }
   ],
   "source": [
    "print \"Example 12.6 page no 129\\n\\n\"\n",
    "#refer to example 12.6\n",
    "V=20#volume of liquid passes through the section,m**3\n",
    "q=0.00565#volumatric flow rate \n",
    "t=V/q#time to pass liquid pass through volume V\n",
    "print \"\\n time t=%0.2f s\"%(t)#"
   ]
  },
  {
   "cell_type": "markdown",
   "metadata": {},
   "source": [
    "## Example 12.7 Page no 130"
   ]
  },
  {
   "cell_type": "code",
   "execution_count": 6,
   "metadata": {
    "collapsed": false
   },
   "outputs": [
    {
     "name": "stdout",
     "output_type": "stream",
     "text": [
      "Example 12.7 page no. 130\n",
      "\n",
      "\n",
      "\n",
      " actual volumatric flow rate q=1461.54 acfm \n",
      "\n",
      " average velocity v=21.54 ft/s\n",
      "\n",
      " density rho=0.06 lb/ft**3\n",
      "\n",
      " mass flow rate m_dot=0.13 lb/s\n",
      "\n",
      "v_m=6.55\n",
      "\n",
      " reynolds no R_e=103737.71 \n"
     ]
    }
   ],
   "source": [
    "print \"Example 12.7 page no. 130\\n\\n\"\n",
    "#a gas is flowing through a circular duct\n",
    "D=1.2#diameter of duct,ft\n",
    "T=760#temperature,k\n",
    "P=1#pressure\n",
    "T_s=520#standard temperature\n",
    "P_s=1#standard pressure\n",
    "q_s=1000# standard volumatric flow rate,in scfm(given)\n",
    "q=q_s*(T/T_s)*(P/P_s)#actual volumatric flow rate\n",
    "print \"\\n actual volumatric flow rate q=%0.2f acfm \"%(q)#\n",
    "s=pi*D**2/4#cross sectional area\n",
    "s_m=s*0.0929#area in m**2 \n",
    "v=(q/s)/60#velocity\n",
    "print \"\\n average velocity v=%0.2f ft/s\"%(v)#\n",
    "MW=33#mlecular weight of gas\n",
    "R=0.7302#gas constant\n",
    "rho=(P*MW)/(R*T)#density  from ideal gas law\n",
    "print \"\\n density rho=%0.2f lb/ft**3\"%(rho)#\n",
    "m_dot=rho*v*s_m#mass flow rate \n",
    "print \"\\n mass flow rate m_dot=%0.2f lb/s\"%(m_dot)##printing mistake in book\n",
    "D_m=0.366#diamter in m\n",
    "v_m=6.55#velocity in m/s\n",
    "rho_m=rho*(0.4536/.3048**3)#density in kg/m**3\n",
    "rho_m=0.952#round off value\n",
    "print \"\\nv_m=%0.2f\"%(v_m)#\n",
    "meu=2.2e-5#viscosity of gas in \n",
    "R_e=D_m*v_m*rho_m/meu#reynolds no\n",
    "print \"\\n reynolds no R_e=%0.2f \"%(R_e)##calculation error in book"
   ]
  }
 ],
 "metadata": {
  "kernelspec": {
   "display_name": "Python 2",
   "language": "python",
   "name": "python2"
  },
  "language_info": {
   "codemirror_mode": {
    "name": "ipython",
    "version": 2
   },
   "file_extension": ".py",
   "mimetype": "text/x-python",
   "name": "python",
   "nbconvert_exporter": "python",
   "pygments_lexer": "ipython2",
   "version": "2.7.9"
  }
 },
 "nbformat": 4,
 "nbformat_minor": 0
}
