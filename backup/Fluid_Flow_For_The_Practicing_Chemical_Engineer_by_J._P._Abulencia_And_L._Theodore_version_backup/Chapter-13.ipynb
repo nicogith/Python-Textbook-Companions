{
 "cells": [
  {
   "cell_type": "markdown",
   "metadata": {},
   "source": [
    "# Chapter 13 : Laminar Flow in Pipe"
   ]
  },
  {
   "cell_type": "markdown",
   "metadata": {},
   "source": [
    "## Example 13.1 Page no 136"
   ]
  },
  {
   "cell_type": "code",
   "execution_count": 1,
   "metadata": {
    "collapsed": false
   },
   "outputs": [
    {
     "name": "stdout",
     "output_type": "stream",
     "text": [
      "Example 13.1 page no 136\n",
      "\n",
      "\n",
      "\n",
      " velocity v_w=0.13 ft/s\n",
      "\n",
      " velocity of air v_a=1.44 ft/s\n",
      "\n",
      " velocity of oil v_o=22.00 ft/s\n"
     ]
    }
   ],
   "source": [
    "from __future__ import division\n",
    "print \"Example 13.1 page no 136\\n\\n\"\n",
    "#calculate average velocities for which th flow will be viscous,laminar\n",
    "#(a) water at 60 deg F in a 2-inch standard pipe \n",
    "R_e=2100#reynolds number <2100, for laminar flow\n",
    "meu_w=6.72e-4#viscosity of water,lb/ft.s\n",
    "rho_w=62.4#density of water,lb/ft**3\n",
    "D_w=2.067#diameter  of pipe,ft\n",
    "v_w=(R_e*meu_w)/((D_w/12)*rho_w)#velocity of water\n",
    "print \"\\n velocity v_w=%0.2f ft/s\"%(v_w)#\n",
    "#(b) air at 60 deg F and 5 psig in a 2 inch standard pipe\n",
    "meu_a=12.1e-6#viscosity of air ,lb/ft.s\n",
    "rho_a=.1024# density of air,lb/ft**3\n",
    "D_a=0.17225#diameter of pipe ,ft\n",
    "v_a=(R_e*meu_a)/(D_a*rho_a)#velocity of air\n",
    "print \"\\n velocity of air v_a=%0.2f ft/s\"%(v_a)#\n",
    "#(c) oil of a viscosity of 300 cP and SG of .92 in a 4 inch standard pipe\n",
    "meu_o=300*6.72e-4#viscosity of oil ,lb/ft.s\n",
    "rho_o=0.92*62.4#density of oil, lb/ft**3\n",
    "D_o=.3355#diameter of pipe,ft\n",
    "v_o=round((R_e*meu_o)/(D_o*rho_o))#velocity of oil\n",
    "print \"\\n velocity of oil v_o=%0.2f ft/s\"%(v_o)#"
   ]
  },
  {
   "cell_type": "markdown",
   "metadata": {},
   "source": [
    "## Example 13.2 Page no 137"
   ]
  },
  {
   "cell_type": "code",
   "execution_count": 2,
   "metadata": {
    "collapsed": false
   },
   "outputs": [
    {
     "name": "stdout",
     "output_type": "stream",
     "text": [
      " Example 13.2 page no 137\n",
      "\n",
      "\n",
      "\n",
      " pressure drop per unit length P_l=0.09 psf/ft\n"
     ]
    }
   ],
   "source": [
    "print \" Example 13.2 page no 137\\n\\n\"\n",
    "#refer to part a of example 1\n",
    "#appplying Hagen-Poiseuille equation\n",
    "meu=6.72e-4#viscosity of water\n",
    "v=0.13#velocity of water\n",
    "D=2.067/12#diameter of pipe\n",
    "P_l=32*meu*v/(D**2)\n",
    "print \"\\n pressure drop per unit length P_l=%0.2f psf/ft\"%(P_l)#"
   ]
  },
  {
   "cell_type": "markdown",
   "metadata": {},
   "source": [
    "## Example 13.4 Page no 138"
   ]
  },
  {
   "cell_type": "code",
   "execution_count": 3,
   "metadata": {
    "collapsed": false
   },
   "outputs": [
    {
     "name": "stdout",
     "output_type": "stream",
     "text": [
      " Example 13.4 page no 138\n",
      "\n",
      " \n",
      "\n",
      " hydraulic diameter D=0.40 m\n",
      "\n",
      " velocity of air v=0.06 m/s\n"
     ]
    }
   ],
   "source": [
    "print \" Example 13.4 page no 138\\n\\n \"\n",
    "#an air conducting duct has a rectangular cross section\n",
    "w=1#width of rectangular section \n",
    "h=0.25#height of rectangular section\n",
    "D=2*w*h/(w+h)#equivalent or hydraulic diameter\n",
    "print \"\\n hydraulic diameter D=%0.2f m\"%(D)\n",
    "R_e=2300#critical reynolds no\n",
    "neu=1e-5#kinematic viscosity of air\n",
    "v=R_e*neu/D#velocity\n",
    "print \"\\n velocity of air v=%0.2f m/s\"%(v)#"
   ]
  },
  {
   "cell_type": "markdown",
   "metadata": {},
   "source": [
    "## Example 13.5 Page no 139"
   ]
  },
  {
   "cell_type": "code",
   "execution_count": 4,
   "metadata": {
    "collapsed": false
   },
   "outputs": [
    {
     "name": "stdout",
     "output_type": "stream",
     "text": [
      " Example 13.5 page no 139\n",
      "\n",
      "\n",
      "flow velocity v=22.27 ft/s\n",
      "\n",
      " dynamic viscosity meu=0.18 lb/ft.s\n",
      "\n",
      " reynolds no R_e=1438.12 \n",
      "\n",
      " friction factor f=0.01 \n",
      "\n",
      " entance length L_e=11.99 ft\n"
     ]
    }
   ],
   "source": [
    "from math import pi\n",
    "print \" Example 13.5 page no 139\\n\\n\"\n",
    "#a circulsr horizontal tube cntains asphalt\n",
    "D=0.1667#diameter of tube,ft\n",
    "s=pi*D**2/4#surface area of tube,ft**2\n",
    "q=0.486#volumatric flow rate,ft**3/s\n",
    "v=q/s#flow velocity\n",
    "print \"flow velocity v=%0.2f ft/s\"%(v)#\n",
    "g=32.174\n",
    "P_grad=144#pressure gradient ,psf/ft\n",
    "meu=(pi*P_grad*g*D**4)/(128*q)#dynamic viscosity,laminar flow\n",
    "print \"\\n dynamic viscosity meu=%0.2f lb/ft.s\"%(meu)#\n",
    "#check on the laminar flow\n",
    "rho=70#density,lb/ft**3\n",
    "R_e=D*v*rho/meu#reynlods number\n",
    "print \"\\n reynolds no R_e=%0.2f \"%(R_e)#\n",
    "f=16/R_e#fanning friction factor\n",
    "print \"\\n friction factor f=%0.2f \"%(f)#\n",
    "#the pipe must be longer than the entrance length to have fully developed flow\n",
    "L_e=0.05*D*R_e#entrance length\n",
    "print \"\\n entance length L_e=%0.2f ft\"%(L_e)#"
   ]
  },
  {
   "cell_type": "markdown",
   "metadata": {},
   "source": [
    "## Example 13.6 Page no 140"
   ]
  },
  {
   "cell_type": "code",
   "execution_count": 5,
   "metadata": {
    "collapsed": false
   },
   "outputs": [
    {
     "name": "stdout",
     "output_type": "stream",
     "text": [
      " Example 13.6 page no 140\n",
      "\n",
      "\n",
      "vol. flow rate q=0.01 m**3/s\n",
      "\n",
      " av. velocity v_av=8.00 m/s\n",
      " mass flow rate m_dot=12.60 kg/s\n",
      " mass flux G=10080.00 kg/m**2.s\n",
      " linear mometum flux M_dot=100.80 N \n"
     ]
    }
   ],
   "source": [
    "from sympy.mpmath import quad\n",
    "print \" Example 13.6 page no 140\\n\\n\"\n",
    "#liquid glycerin flows in a tube \n",
    "#to obtain the properties of glycerine  use table A.2 in the appendix\n",
    "rho=1260#density,kg/m**3\n",
    "meu=1.49#viscosity,kg/ms\n",
    "neu=meu/rho#kinematic viscosity,m**2/s\n",
    "R=0.02#by no slip condition radius of tube,m\n",
    "q=32*pi*quad(lambda r:r-2500*r**3,[0,R]) #volumatric flow rate from the given parabolic velocity distribution\n",
    "print \"vol. flow rate q=%0.2f m**3/s\"%(q)#\n",
    "r=0#for average velocity for laminar flow\n",
    "v_av=16*(1-2500*r**2)/2#average velocity\n",
    "q=0.010#approximation\n",
    "m_dot=q*rho#mass flow rate\n",
    "G=rho*v_av#mass flux \n",
    "M_dot=m_dot*v_av#inear momentum flux\n",
    "print \"\\n av. velocity v_av=%0.2f m/s\\n mass flow rate m_dot=%0.2f kg/s\\n mass flux G=%0.2f kg/m**2.s\\n linear mometum flux M_dot=%0.2f N \"%(v_av,m_dot,G,M_dot)#"
   ]
  },
  {
   "cell_type": "markdown",
   "metadata": {},
   "source": [
    "## Example 13.7 Page no 142"
   ]
  },
  {
   "cell_type": "code",
   "execution_count": 6,
   "metadata": {
    "collapsed": false
   },
   "outputs": [
    {
     "name": "stdout",
     "output_type": "stream",
     "text": [
      "Example 13.7 page no 142\n",
      "\n",
      "\n",
      "\n",
      " reynolds no R_e=135.30 \n",
      "\n",
      " time t=87.72 min\n"
     ]
    }
   ],
   "source": [
    "print \"Example 13.7 page no 142\\n\\n\"\n",
    "#refer to example 13.6\n",
    "rho=1260#density,kg/m**3\n",
    "v=8#flow velocity,m**2/s\n",
    "D=0.02#diameter,m\n",
    "meu=1.49#viscosity\n",
    "R_e=rho*v*D/meu#reynolds no\n",
    "print \"\\n reynolds no R_e=%0.2f \"%(R_e)#\n",
    "V=14000#volume in gallons of glycerine pass through a cross section of tube \n",
    "q=159.6#flow rate\n",
    "t=V/q#time\n",
    "print \"\\n time t=%0.2f min\"%(t)#"
   ]
  }
 ],
 "metadata": {
  "kernelspec": {
   "display_name": "Python 2",
   "language": "python",
   "name": "python2"
  },
  "language_info": {
   "codemirror_mode": {
    "name": "ipython",
    "version": 2
   },
   "file_extension": ".py",
   "mimetype": "text/x-python",
   "name": "python",
   "nbconvert_exporter": "python",
   "pygments_lexer": "ipython2",
   "version": "2.7.9"
  }
 },
 "nbformat": 4,
 "nbformat_minor": 0
}
