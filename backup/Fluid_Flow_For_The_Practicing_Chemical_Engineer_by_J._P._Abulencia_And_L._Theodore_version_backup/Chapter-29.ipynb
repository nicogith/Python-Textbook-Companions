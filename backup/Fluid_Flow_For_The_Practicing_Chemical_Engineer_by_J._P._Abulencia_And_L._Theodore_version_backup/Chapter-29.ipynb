{
 "cells": [
  {
   "cell_type": "markdown",
   "metadata": {},
   "source": [
    "# Chapter 29 : Accident and emergency"
   ]
  },
  {
   "cell_type": "markdown",
   "metadata": {},
   "source": [
    "## Example 29.2 Page no 455"
   ]
  },
  {
   "cell_type": "code",
   "execution_count": 1,
   "metadata": {
    "collapsed": false
   },
   "outputs": [
    {
     "name": "stdout",
     "output_type": "stream",
     "text": [
      "Example 29.2 page no 455\n",
      "\n",
      "\n",
      "\n",
      " probability P=1.98e-05  \n"
     ]
    }
   ],
   "source": [
    "from __future__ import division\n",
    "from math import factorial\n",
    "print \"Example 29.2 page no 455\\n\\n\"\n",
    "#the probability distribution of the number of defectives in a sample of five pump drawn with replacement from lot of 1000 pump\n",
    "#the probability distribution of x, thenumber of sucess in n performances of th erandom experiment is the probability distribution function \n",
    "#P(x) = (factorial(n)/factorial(x)*(factorial n -factorial x))*(p**x*q**n-x)\n",
    "n=5#no. of performances\n",
    "x=3#no. of successes \n",
    "p=0.05#probability of sucesses when the sample of pump is drawn with replacement\n",
    "q=1-p#probability of faliure\n",
    "P=factorial(n)*((p**x)*(q**(n-x)))/(factorial(x)*(factorial(n)-factorial(x)))#probability when x=3#probability when x=3/factorial(x)*(factorial(n)-factorial(x))*(p**x*q**(n-x))#probability when x=3\n",
    "print \"\\n probability P=%.2e  \"%(P)# #calculation error in book"
   ]
  },
  {
   "cell_type": "markdown",
   "metadata": {},
   "source": [
    "## Examctple 29.3 Page no 455"
   ]
  },
  {
   "cell_type": "code",
   "execution_count": 2,
   "metadata": {
    "collapsed": false
   },
   "outputs": [
    {
     "name": "stdout",
     "output_type": "stream",
     "text": [
      "Example 29.3 page no 455\n",
      "\n",
      " reynolds no. R_e=807607.46 \n",
      "\n",
      " pressure drop in duct P_drop_d=12.71 lbf/ft**2\n",
      "\n",
      " total pressure drop P_drop_t=33.51 lbf/ft**2\n",
      "\n",
      " power required hp=30.46 hp \n"
     ]
    }
   ],
   "source": [
    "from math import sqrt,pi\n",
    "print \"Example 29.3 page no 455\"\n",
    "#an iron foundry has four work stations that are connected to single duct\n",
    "v_air=4000#the minimum air velocity required for general foundry dust,ft/min\n",
    "v_air_s=v_air/60#velocity of air in ft/s\n",
    "n=4#no. of duct\n",
    "q_e=3000#each duct transport air,acfm\n",
    "q=n*q_e#total transport,acfm\n",
    "A=q/v_air#cross sectional area required ,ft**2\n",
    "D=sqrt(4*A/pi)#duct diameter,ft\n",
    "rho=0.075#density of air\n",
    "meu=1.21e-5#viscosity of air\n",
    "R_e=D*rho*v_air_s/meu#reynolds no\n",
    "print \"\\n reynolds no. R_e=%.2f \"%(R_e)#\n",
    "f=0.003#/fanning friction factor,since R_e >20000\n",
    "L=400#duct length\n",
    "g_c=32.2#grav. acc.\n",
    "P_drop_d=(4*f*L*v_air_s**2*rho)/(2*g_c*D)#pressure drop in the duct\n",
    "print \"\\n pressure drop in duct P_drop_d=%.2f lbf/ft**2\"%(P_drop_d)#\n",
    "P_drop_h=0.5*5.2#pressure drop in  hood\n",
    "P_drop_cyc=3.5*5.2#pressure drop in cyclone cleaner\n",
    "P_drop_t=P_drop_d + P_drop_h + P_drop_cyc#total prssure drop\n",
    "print \"\\n total pressure drop P_drop_t=%.2f lbf/ft**2\"%(P_drop_t)#\n",
    "neta=0.4#pump efficiency\n",
    "hp=(P_drop_t*q/neta)*3.03e-5#power required in hp\n",
    "print \"\\n power required hp=%.2f hp \"%(hp)#"
   ]
  },
  {
   "cell_type": "markdown",
   "metadata": {},
   "source": [
    "## Example 29.6 Page no 458"
   ]
  },
  {
   "cell_type": "code",
   "execution_count": 3,
   "metadata": {
    "collapsed": false
   },
   "outputs": [
    {
     "name": "stdout",
     "output_type": "stream",
     "text": [
      "Example 29.6 page no 458\n",
      "\n",
      "\n",
      "\n",
      " penetration associated with failed bags P_tc=0.07 \n",
      "\n",
      " no. of bags L=1.52 \n"
     ]
    }
   ],
   "source": [
    "print \"Example 29.6 page no 458\\n\\n\"\n",
    "#a baghouse has been used to clean a particulate gas steam\n",
    "l_i=5#inlet loading,grains/ft**3\n",
    "l_o=0.03#outlet loading,grains/ft**3\n",
    "l_o_max=0.4#maximum outlet loading,grains/ft**3\n",
    "E_b=(l_i-l_o)/l_i#efficiency before bag failure\n",
    "P_t=1-E_b#penetration before bag failure\n",
    "E=(l_i-l_o_max)/l_i#efficiency on regulatory conditions\n",
    "P_t_r=1-E#penetration regulatory conditons\n",
    "P_tc=P_t_r-P_t#penetration associated with failed bags\n",
    "print \"\\n penetration associated with failed bags P_tc=%.2f \"%(P_tc)#\n",
    "P_drop=6#pressure drop,in of H2O\n",
    "T=250#temperature,deg F\n",
    "q=50000#volumetric flow rate,acfm\n",
    "D=8#diamter of bags,in\n",
    "L= q*P_tc/(0.582*P_drop**0.5*D**2*(T+460)**0.5)#number of bag failure that the system can tolerate and still remain in compliance\n",
    "print \"\\n no. of bags L=%.2f \"%(L)#\n",
    "#thus if two bags fail,baghouse is out of complance"
   ]
  },
  {
   "cell_type": "markdown",
   "metadata": {},
   "source": [
    "## Example 29.7 Page no 461"
   ]
  },
  {
   "cell_type": "code",
   "execution_count": 4,
   "metadata": {
    "collapsed": false
   },
   "outputs": [
    {
     "name": "stdout",
     "output_type": "stream",
     "text": [
      "Example 29.7 page no 461\n",
      "\n",
      "\n",
      "\n",
      " n_air=45444.92 gmol\n",
      "\n",
      " mole fraction of HC x_hc=16503.22 ppb \n"
     ]
    }
   ],
   "source": [
    "print \"Example 29.7 page no 461\\n\\n\"\n",
    "#a reactor is located in a relatively large laboratory,the reactor  can emit as much as of hydrocarbon into the room if a safety valves ruptures\n",
    "v=1100#volume of reactor,m**3\n",
    "T=295#temperature of reactor,K\n",
    "v_s=0.0224#volume of gas at STP,m**3\n",
    "T_s=273#standard temperature,K\n",
    "n_air=(v/v_s)*(T_s/T)#total gmoles of air in the room\n",
    "print \"\\n n_air=%.2f gmol\"%(n_air)#\n",
    "v_r=0.75#Hydrocarbon emit by reactor,gmol\n",
    "x_hc= (v_r/(n_air + v_r))*10**9#mole fraction of hydrocarbon in the room,parts per billion \n",
    "print \"\\n mole fraction of HC x_hc=%.2f ppb \"%(x_hc)# \n",
    " "
   ]
  }
 ],
 "metadata": {
  "kernelspec": {
   "display_name": "Python 2",
   "language": "python",
   "name": "python2"
  },
  "language_info": {
   "codemirror_mode": {
    "name": "ipython",
    "version": 2
   },
   "file_extension": ".py",
   "mimetype": "text/x-python",
   "name": "python",
   "nbconvert_exporter": "python",
   "pygments_lexer": "ipython2",
   "version": "2.7.9"
  }
 },
 "nbformat": 4,
 "nbformat_minor": 0
}
