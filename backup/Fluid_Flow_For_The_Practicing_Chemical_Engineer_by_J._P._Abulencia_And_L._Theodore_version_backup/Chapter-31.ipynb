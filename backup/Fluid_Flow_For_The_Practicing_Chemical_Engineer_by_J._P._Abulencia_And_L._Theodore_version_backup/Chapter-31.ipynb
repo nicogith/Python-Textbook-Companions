{
 "cells": [
  {
   "cell_type": "markdown",
   "metadata": {},
   "source": [
    "# Chapter 31 : Numerical Methods"
   ]
  },
  {
   "cell_type": "markdown",
   "metadata": {},
   "source": [
    "## Example 31.1 Page no 486"
   ]
  },
  {
   "cell_type": "code",
   "execution_count": 2,
   "metadata": {
    "collapsed": false
   },
   "outputs": [
    {
     "name": "stdout",
     "output_type": "stream",
     "text": [
      "Example 31.1 Page no 486\n",
      "\n",
      " \n",
      "\n",
      " X= \n",
      "[[ 5.]\n",
      " [ 3.]\n",
      " [-2.]]\n",
      "\n",
      "X1=5.00\n",
      "X2=3.00 \n",
      "X3=-2.00\n"
     ]
    }
   ],
   "source": [
    "from __future__ import division\n",
    "from numpy import mat\n",
    "print \"Example 31.1 Page no 486\\n\\n \"\n",
    "#set of linear algebric equation using gauss elimination\n",
    "A=mat([[3,-2,1],[1,4,-2],[2,-3,-4]])#matrix A\n",
    "B=mat([[7],[21],[9]])#matrix B\n",
    "X=(A**-1)*B\n",
    "print \"\\n X= \\n\",(X)#\n",
    "X1=X[0]#value of X1\n",
    "X2=X[1]#value of X2\n",
    "X3=X[2]#value of X3\n",
    "print \"\\nX1=%.2f\\nX2=%.2f \\nX3=%.2f\"%(X1,X2,X3)#"
   ]
  },
  {
   "cell_type": "markdown",
   "metadata": {},
   "source": [
    "## Example 31.2 Page no 492"
   ]
  },
  {
   "cell_type": "code",
   "execution_count": 3,
   "metadata": {
    "collapsed": false
   },
   "outputs": [
    {
     "name": "stdout",
     "output_type": "stream",
     "text": [
      "Example 31.2 Page no 492\n",
      "\n",
      "\n",
      "\n",
      " T1=1.10 k\n",
      "\n",
      " T2=1.01 k\n",
      "\n",
      " T3=1.00 k\n"
     ]
    }
   ],
   "source": [
    "print \"Example 31.2 Page no 492\\n\\n\"\n",
    "#the vapor pressure p' for a new synthetic chemical at a given temperature\n",
    "t1=1100#assume intial actual temperature,k\n",
    "T1=t1*1e-3#temperature,k\n",
    "print \"\\n T1=%.2f k\"%(T1)#\n",
    "f1=T1**3 -2*T1**2 + 2*T1 -1#function of T,f(T)\n",
    "f_d1=3*T1**2 -4*T1 + 2#derivative of f(T)\n",
    "#using newton rapson formula to estimate T2\n",
    "T2=T1 -(f1/f_d1)#temperature T2\n",
    "print \"\\n T2=%.2f k\"%(T2)#\n",
    "f2=T2**3 -2*T2**2 + 2*T2 -1\n",
    "f_d2=3*T2**2 -4*T2 + 2\n",
    "T3=T2 -(f2/f_d2)#temperature T3\n",
    "print \"\\n T3=%.2f k\"%(T3)#\n",
    "#finally the best estimate is T3,t=1.000095"
   ]
  },
  {
   "cell_type": "markdown",
   "metadata": {},
   "source": [
    "## Example 31.3 Page no 493"
   ]
  },
  {
   "cell_type": "code",
   "execution_count": 4,
   "metadata": {
    "collapsed": false
   },
   "outputs": [
    {
     "name": "stdout",
     "output_type": "stream",
     "text": [
      "Example 31.3 Page no 493\n",
      "\n",
      "\n",
      "\n",
      " v6=10.09 ft/s \n"
     ]
    }
   ],
   "source": [
    "from sympy import symbols, solve\n",
    "print \"Example 31.3 Page no 493\\n\\n\"\n",
    "#friction factor for smooth tubes can be approximated by\n",
    "#f = 0.079*R_e**(-1/4),if 2000< R_e<2e-5\n",
    "# average velocity in the system ,involving the flow of water at 60 deg F is given by \n",
    "#v =sqrt(2180/(213.4R_e**(-1/4) + 10), flow of water at 60 deg F\n",
    "#R_e=12168v,putting this value and by simplifying we get\n",
    "v=symbols('v')\n",
    "f=213.5*v**2 +105.03*v- 22896.08*v\n",
    "#df=derivat(213.5*v**2 +105.03*v- 22896.08*v)\n",
    "df=- 22791.05 + 427*v \n",
    "v1=5\n",
    "f1=213.5*v1**2 +105.03*v1- 22896.08*v1# value of f at v=5\n",
    "df1=- 22791.05 + 427*v1#value of df at v=5\n",
    "v2=v1-(f1/df1)\n",
    "#by iteration we get values of v3,v4,v5,v6\n",
    "#at v6 result converges\n",
    "v6=10.09\n",
    "print \"\\n v6=%.2f ft/s \"%(v6)#"
   ]
  },
  {
   "cell_type": "markdown",
   "metadata": {},
   "source": [
    "## Example 31.4 Page no 497"
   ]
  },
  {
   "cell_type": "code",
   "execution_count": 5,
   "metadata": {
    "collapsed": false
   },
   "outputs": [
    {
     "name": "stdout",
     "output_type": "stream",
     "text": [
      "Example 31.4 Page no 497\n",
      "\n",
      "\n",
      "\n",
      " I=0.90 \n"
     ]
    }
   ],
   "source": [
    "from sympy import mpmath\n",
    "print \"Example 31.4 Page no 497\\n\\n\"\n",
    "#integration\n",
    "I=mpmath.quad(lambda x:(1-0.4*x**2)/((1-x)*(1-0.4*x)-1.19*x**2),[0,0.468])\n",
    "print \"\\n I=%.2f \"%(I)#"
   ]
  }
 ],
 "metadata": {
  "kernelspec": {
   "display_name": "Python 2",
   "language": "python",
   "name": "python2"
  },
  "language_info": {
   "codemirror_mode": {
    "name": "ipython",
    "version": 2
   },
   "file_extension": ".py",
   "mimetype": "text/x-python",
   "name": "python",
   "nbconvert_exporter": "python",
   "pygments_lexer": "ipython2",
   "version": "2.7.9"
  }
 },
 "nbformat": 4,
 "nbformat_minor": 0
}
