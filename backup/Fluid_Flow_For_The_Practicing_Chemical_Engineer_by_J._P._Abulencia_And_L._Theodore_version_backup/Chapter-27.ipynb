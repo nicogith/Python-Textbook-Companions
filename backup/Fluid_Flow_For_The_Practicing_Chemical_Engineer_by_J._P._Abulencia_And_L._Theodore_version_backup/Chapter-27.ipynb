{
 "cells": [
  {
   "cell_type": "markdown",
   "metadata": {},
   "source": [
    "# Chapter 27 : Filteration"
   ]
  },
  {
   "cell_type": "markdown",
   "metadata": {},
   "source": [
    "## Example 27.2 Page no 413"
   ]
  },
  {
   "cell_type": "code",
   "execution_count": 1,
   "metadata": {
    "collapsed": false
   },
   "outputs": [
    {
     "name": "stdout",
     "output_type": "stream",
     "text": [
      "Example 27.2 page no 413\n",
      "\n",
      "\n",
      "\n",
      " filter colth area A=720.00 ft**2\n"
     ]
    }
   ],
   "source": [
    "from __future__ import division\n",
    "print \"Example 27.2 page no 413\\n\\n\"\n",
    "#plate and frame filter press is to be employed to filter a slurry \n",
    "m_dot_slurry=600*60#mass flow rate ,lb/h\n",
    "m=0.1#sluury contain 10% by mass solid\n",
    "m_dot_solids = m*m_dot_slurry#the solid flow rate in the slurry\n",
    "a=(1/5)#filter colth area required for 1 lb/h of solid\n",
    "A=m_dot_solids*(a)#filter colth area for 3600 lb/h of solids\n",
    "print \"\\n filter colth area A=%0.2f ft**2\"%(A)#"
   ]
  },
  {
   "cell_type": "markdown",
   "metadata": {},
   "source": [
    "## Example 27.4 Page no 414"
   ]
  },
  {
   "cell_type": "code",
   "execution_count": 2,
   "metadata": {
    "collapsed": false
   },
   "outputs": [
    {
     "name": "stdout",
     "output_type": "stream",
     "text": [
      "Example 27.4 page no. 414\n",
      "\n",
      "\n",
      "\n",
      " coeff. K_c=3894.00 s/ft**6\n",
      " coeff. q_r=217.00 s/ft**3\n"
     ]
    }
   ],
   "source": [
    "print \"Example 27.4 page no. 414\\n\\n\"\n",
    "m=1947#slope of curve b/w t/V vs V,s/ft**6\n",
    "K_c=2*m\n",
    "c=217#intercept on graph\n",
    "q_r=c#reciprocal of q\n",
    "print \"\\n coeff. K_c=%0.2f s/ft**6\\n coeff. q_r=%0.2f s/ft**3\"%(K_c,q_r)"
   ]
  },
  {
   "cell_type": "markdown",
   "metadata": {},
   "source": [
    "## Example 27.5 Page no 415"
   ]
  },
  {
   "cell_type": "code",
   "execution_count": 3,
   "metadata": {
    "collapsed": false
   },
   "outputs": [
    {
     "name": "stdout",
     "output_type": "stream",
     "text": [
      "Example 27.5 page no 415\n",
      "\n",
      "\n",
      "R_m=1.18e+10 ft\n",
      "\n",
      " alpha=1.79e+10 ft/lb\n"
     ]
    }
   ],
   "source": [
    "print \"Example 27.5 page no 415\\n\\n\"\n",
    "#refer to example 27.4\n",
    "meu=5.95e-4#viscosity \n",
    "g_c=32.174#grav. acc\n",
    "P_drop=20*144#pressure drop\n",
    "q_o=(1/217)#flow rate \n",
    "S=0.35#filteration area per unit\n",
    "K_c=3894#coefficentc\n",
    "c=4.142#slurry conentration  \n",
    "R_m=S*g_c*P_drop/(q_o*meu)#filteration coeff.\n",
    "print \"R_m=%0.2e ft\"%(R_m)#\n",
    "alpha=K_c*S**2*g_c*P_drop/(c*meu)#filteration coeff.\n",
    "print \"\\n alpha=%0.2e ft/lb\"%(alpha)#"
   ]
  },
  {
   "cell_type": "markdown",
   "metadata": {},
   "source": [
    "## Example 27.7 Page no 418"
   ]
  },
  {
   "cell_type": "code",
   "execution_count": 4,
   "metadata": {
    "collapsed": false
   },
   "outputs": [
    {
     "name": "stdout",
     "output_type": "stream",
     "text": [
      "Example 27.7 page no 418\n",
      "\n",
      "\n",
      "\n",
      " specific cake resistance alpha_o=9.77e+10 ft/lb\n"
     ]
    }
   ],
   "source": [
    "print \"Example 27.7 page no 418\\n\\n\"\n",
    "#the following result were obtained during the running of a filteration experiment \n",
    "alpha=4.57e+11#cake resistance,ft/lb\n",
    "P_drop=1554#pressure drop ,lbf/ft**2\n",
    "alpha_o=alpha/(P_drop**0.21)#specific cake resistance\n",
    "print \"\\n specific cake resistance alpha_o=%0.2e ft/lb\"%(alpha_o)#"
   ]
  },
  {
   "cell_type": "markdown",
   "metadata": {},
   "source": [
    "## Example 27.9 Page no 418"
   ]
  },
  {
   "cell_type": "code",
   "execution_count": 5,
   "metadata": {
    "collapsed": false
   },
   "outputs": [
    {
     "name": "stdout",
     "output_type": "stream",
     "text": [
      "Example 27.9 page no 418\n",
      "\n",
      "\n",
      "\n",
      " washing time t_w=16.50 min\n",
      "\n",
      " flow rate q_c=56.34 gal/hr \n"
     ]
    }
   ],
   "source": [
    "print \"Example 27.9 page no 418\\n\\n\"\n",
    "#a filter press operates at a constant pressure\n",
    "P=50#pressure,psig\n",
    "q=10#flow rate,ft**3/min\n",
    "#applying eq.27.12\n",
    "#q = P/(B*V_s + C)\n",
    "#in this case,V_s=0\n",
    "C=P/q#constant\n",
    "#for constant pressure applying equation 27.13\n",
    "#t = B*V_s**2/(2P) + C*V_s/P\n",
    "t=60#time ,min\n",
    "V_s=100#volume,ft**3\n",
    "B= 2*P*t/(V_s**2) - 2*C/V_s#constant\n",
    "#during the washing cycle t_w = V_w/q_w\n",
    "#B and C remain same\n",
    "V_w=15#volume of water for washing per hr\n",
    "t_w= V_w*(B*V_s + C)/P#time in washing\n",
    "print \"\\n washing time t_w=%0.2f min\"%(t_w)#\n",
    "t_d=30#time for dumping and cleanig\n",
    "t_c=(t + t_w +t_d)/60#collecting time,in hr\n",
    "q_c =V_s/t_c#flow rate for 100 ft**3\n",
    "print \"\\n flow rate q_c=%0.2f gal/hr \"%(q_c)# "
   ]
  }
 ],
 "metadata": {
  "kernelspec": {
   "display_name": "Python 2",
   "language": "python",
   "name": "python2"
  },
  "language_info": {
   "codemirror_mode": {
    "name": "ipython",
    "version": 2
   },
   "file_extension": ".py",
   "mimetype": "text/x-python",
   "name": "python",
   "nbconvert_exporter": "python",
   "pygments_lexer": "ipython2",
   "version": "2.7.9"
  }
 },
 "nbformat": 4,
 "nbformat_minor": 0
}
