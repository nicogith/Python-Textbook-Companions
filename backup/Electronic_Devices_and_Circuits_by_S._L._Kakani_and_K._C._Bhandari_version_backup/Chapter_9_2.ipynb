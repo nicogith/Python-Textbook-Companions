{
 "metadata": {
  "name": "",
  "signature": "sha256:18f46455ac6bb4531327a629132bc2c4fc08dd747165df43064aceca96736d0b"
 },
 "nbformat": 3,
 "nbformat_minor": 0,
 "worksheets": [
  {
   "cells": [
    {
     "cell_type": "heading",
     "level": 1,
     "metadata": {},
     "source": [
      "Chapter 9 - Negative Feedback Amplifier using Op-Amp"
     ]
    },
    {
     "cell_type": "heading",
     "level": 2,
     "metadata": {},
     "source": [
      "Example E1 - Pg 475"
     ]
    },
    {
     "cell_type": "code",
     "collapsed": false,
     "input": [
      "#Ex9_1 Pg-475\n",
      "#calculate Close loop Bandwidth\n",
      "Aol= 250000. #open loop gain\n",
      "fol=160. #open loop frequency in HZ\n",
      "Acl=50. #close loop gain\n",
      "fcl=Aol/Acl*fol #close loop frequency in Hz\n",
      "print '%s %.0f' %(\"Close loop Bandwidth = %.0f kHz\",fcl*10**-3) \n"
     ],
     "language": "python",
     "metadata": {},
     "outputs": [
      {
       "output_type": "stream",
       "stream": "stdout",
       "text": [
        "Close loop Bandwidth = %.0f kHz 800\n"
       ]
      }
     ],
     "prompt_number": 1
    },
    {
     "cell_type": "heading",
     "level": 2,
     "metadata": {},
     "source": [
      "Example E2 - 475"
     ]
    },
    {
     "cell_type": "code",
     "collapsed": false,
     "input": [
      "#Ex9_2 Pg-475\n",
      "#calculate Close loop Bandwidth\n",
      "Aol= 50000. #open loop gain\n",
      "fol=14. #open loop frequency in HZ\n",
      "fcl=(Aol+1)*fol #close loop frequency in Hz\n",
      "print '%s %.0f' %(\"Close loop Bandwidth = kHz\",fcl*10**-3)\n"
     ],
     "language": "python",
     "metadata": {},
     "outputs": [
      {
       "output_type": "stream",
       "stream": "stdout",
       "text": [
        "Close loop Bandwidth = kHz 700\n"
       ]
      }
     ],
     "prompt_number": 2
    },
    {
     "cell_type": "heading",
     "level": 2,
     "metadata": {},
     "source": [
      "Example E3 - 475"
     ]
    },
    {
     "cell_type": "code",
     "collapsed": false,
     "input": [
      "#Ex9_3 Pg-475\n",
      "#calculate Close loop Bandwidth\n",
      "Aol_Beta_1= 2500. #open loop gain\n",
      "fol=20. #open loop frequency in HZ\n",
      "fcl=Aol_Beta_1*fol #close loop frequency in Hz\n",
      "print '%s %.0f' %(\"Close loop Bandwidth = kHz\",fcl*10**-3)\n"
     ],
     "language": "python",
     "metadata": {},
     "outputs": [
      {
       "output_type": "stream",
       "stream": "stdout",
       "text": [
        "Close loop Bandwidth = kHz 50\n"
       ]
      }
     ],
     "prompt_number": 3
    },
    {
     "cell_type": "heading",
     "level": 2,
     "metadata": {},
     "source": [
      "Example E4 - 475"
     ]
    },
    {
     "cell_type": "code",
     "collapsed": false,
     "input": [
      "#Ex9_4 Pg-475\n",
      "#calculate Close loop Bandwidth,Peak value of output\n",
      "import math\n",
      "funi=1.*10.**(6.) #unity frequency in Hz\n",
      "Sr=0.5/10.**(-6.) #slew rate in V/sec\n",
      "Acl=10. #close loop gain\n",
      "fcl=funi/Acl #close loop frequency in Hz\n",
      "print '%s %.0f' %(\"(1)Close loop Bandwidth = kHz\",fcl*10**-3)\n",
      "Vp_max=Sr/(2.*math.pi*fcl) #output peak value\n",
      "print '%s %.3f' %(\"(2)Peak value of output = V\",Vp_max)\n"
     ],
     "language": "python",
     "metadata": {},
     "outputs": [
      {
       "output_type": "stream",
       "stream": "stdout",
       "text": [
        "(1)Close loop Bandwidth = kHz 100\n",
        "(2)Peak value of output = V 0.796\n"
       ]
      }
     ],
     "prompt_number": 4
    },
    {
     "cell_type": "heading",
     "level": 2,
     "metadata": {},
     "source": [
      "Example E5 - 475"
     ]
    },
    {
     "cell_type": "code",
     "collapsed": false,
     "input": [
      "#Ex9_5 Pg-475\n",
      "#calculate Feedback fraction,Ideal closed loop gain,Exact closed loop voltage gain\n",
      "Aol= 88. #open loop gain in db\n",
      "R1=2.7*10.**(3.) #resistor R1 in ohm\n",
      "R2=68.*10.**(3.) #resistor R2 in ohm\n",
      "Beta=R1/(R1+R2) #Feedback fraction\n",
      "print '%s %.3f' %(\"Feedback fraction = \",Beta)\n",
      "Acl=1./Beta #ideal closed loop gain\n",
      "print '%s %.2f' %(\"Ideal closed loop gain = \",Acl)\n",
      "Aol=10.**(88./20.) #open loop gain\n",
      "Acl=Aol/(1.+Beta*Aol) #exact closed loop voltage gain\n",
      "print '%s %.2f' %(\"Exact closed loop voltage gain = \",Acl)\n"
     ],
     "language": "python",
     "metadata": {},
     "outputs": [
      {
       "output_type": "stream",
       "stream": "stdout",
       "text": [
        "Feedback fraction =  0.038\n",
        "Ideal closed loop gain =  26.19\n",
        "Exact closed loop voltage gain =  26.16\n"
       ]
      }
     ],
     "prompt_number": 5
    },
    {
     "cell_type": "heading",
     "level": 2,
     "metadata": {},
     "source": [
      "Example E6 - 476"
     ]
    },
    {
     "cell_type": "code",
     "collapsed": false,
     "input": [
      "#Ex9_6 Pg-476\n",
      "#calculate Feedback fraction,Closed loop input impedance\n",
      "Aol=20000.#open loop gain\n",
      "R1=100. #resistor R1 in ohm\n",
      "R2=7.5*10.**(3.) #resistor R2 in ohm\n",
      "Rin=3.*10.**(6.) #input resistor in ohm\n",
      "Rcm=500.*10.**(6.) \n",
      "Beta=R1/(R1+R2) #Feedback fraction\n",
      "print '%s %.5f' %(\"Feedback fraction = 1\\\\76 =\",Beta)\n",
      "Req=(Rin*Rcm)/(Rin+Rcm) #equivalent resistance of Rin and Rcm\n",
      "Zcl=(1.+Beta*Aol)*Req #closed loop input impedance (textbook answer is wrong)\n",
      "print '%s %.0f %s' %(\"Closed loop input impedance =\",Zcl*10**-6,\"Mohm\")\n"
     ],
     "language": "python",
     "metadata": {},
     "outputs": [
      {
       "output_type": "stream",
       "stream": "stdout",
       "text": [
        "Feedback fraction = 1\\76 = 0.01316\n",
        "Closed loop input impedance = 788 Mohm\n"
       ]
      }
     ],
     "prompt_number": 6
    },
    {
     "cell_type": "heading",
     "level": 2,
     "metadata": {},
     "source": [
      "Example E7 - 477"
     ]
    },
    {
     "cell_type": "code",
     "collapsed": false,
     "input": [
      "#Ex9_7 Pg-477\n",
      "#calculate Current gain,Output current\n",
      "R1=1.8 #resistor R1 in ohm\n",
      "R2=1.5*10.**(3.) #resistor R2 in ohm\n",
      "Iin=1.*10.**(-3.) #input current in A\n",
      "Ai=1.+(R2/R1) #Current gain\n",
      "print '%s %.0f' %(\"Current gain =\",Ai)\n",
      "Il=Ai*Iin #Output current\n",
      "print '%s %.0f' %(\"Output current = mA pp\",Il*10**3)\n"
     ],
     "language": "python",
     "metadata": {},
     "outputs": [
      {
       "output_type": "stream",
       "stream": "stdout",
       "text": [
        "Current gain = 834\n",
        "Output current = mA pp 834\n"
       ]
      }
     ],
     "prompt_number": 7
    },
    {
     "cell_type": "heading",
     "level": 2,
     "metadata": {},
     "source": [
      "Example E8 - 477"
     ]
    },
    {
     "cell_type": "code",
     "collapsed": false,
     "input": [
      "#Ex9_8 Pg-477\n",
      "#calculate Output current,Load power,Load power\n",
      "R1=2.7 #resistor R1 in ohm\n",
      "R2=1.#resistor R2 in ohm\n",
      "Vin=0.5 #input voltage in V\n",
      "Io=Vin/R1 #output current\n",
      "print '%s %.0f' %(\"(1) Output current = mA\",Io*10**3)\n",
      "P=Io**2.*R2 #load power\n",
      "print '%s %.1f' %(\"(2a) Load power = mW\",P*10**3)\n",
      "R2=2 # new load resistor R2 in ohm\n",
      "P=Io**2*R2 #load power\n",
      "print '%s %.1f' %(\"(2b) Load power = mW\",P*10**3)\n"
     ],
     "language": "python",
     "metadata": {},
     "outputs": [
      {
       "output_type": "stream",
       "stream": "stdout",
       "text": [
        "(1) Output current = mA 185\n",
        "(2a) Load power = mW 34.3\n",
        "(2b) Load power = mW 68.6\n"
       ]
      }
     ],
     "prompt_number": 8
    }
   ],
   "metadata": {}
  }
 ]
}