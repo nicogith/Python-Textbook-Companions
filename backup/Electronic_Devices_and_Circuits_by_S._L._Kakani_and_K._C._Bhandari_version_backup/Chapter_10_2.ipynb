{
 "metadata": {
  "name": "",
  "signature": "sha256:017344ec446b2c2e8ad8b128b8a4c2356c4e878a7f90334d54884a65f44f6378"
 },
 "nbformat": 3,
 "nbformat_minor": 0,
 "worksheets": [
  {
   "cells": [
    {
     "cell_type": "heading",
     "level": 1,
     "metadata": {},
     "source": [
      "Chapter 10 - Operational Amplifier"
     ]
    },
    {
     "cell_type": "heading",
     "level": 2,
     "metadata": {},
     "source": [
      "Example E1 - Pg 490"
     ]
    },
    {
     "cell_type": "code",
     "collapsed": false,
     "input": [
      "#Ex10_1 Pg-490\n",
      "#calculate Common moce voltage gain,Output voltage\n",
      "Rc=1.*10.**(6.) #collector resisstor in ohm\n",
      "Re=2.*10.**(6.) #emitter resistor in ohm\n",
      "Vin=1.*10.**(-3.) #input voltage in V\n",
      "Acm=Rc/Re #Common moce voltage gain\n",
      "print '%s %.1f' %(\"Common moce voltage gain =\",Acm) \n",
      "Vo=Acm*Vin #output voltage\n",
      "print '%s %.1f' %(\"Output voltage = mV\",Vo*1e3)\n",
      "print '%s' %(\"Thus a differential amplifier in common mode attenuates the input signal rather than amplifying it\")\n"
     ],
     "language": "python",
     "metadata": {},
     "outputs": [
      {
       "output_type": "stream",
       "stream": "stdout",
       "text": [
        "Common moce voltage gain = 0.5\n",
        "Output voltage = mV 0.5\n",
        "Thus a differential amplifier in common mode attenuates the input signal rather than amplifying it\n"
       ]
      }
     ],
     "prompt_number": 2
    },
    {
     "cell_type": "heading",
     "level": 2,
     "metadata": {},
     "source": [
      "Example E2 - Pg 491"
     ]
    },
    {
     "cell_type": "code",
     "collapsed": false,
     "input": [
      "#Ex10_2 Pg-491\n",
      "#calculate Amplified output voltage,Attenuated output voltage\n",
      "A=150. #voltage gain\n",
      "Acm=0.5 #common mode voltage gain\n",
      "Vin=1.*10.**(-3.) #input voltage in V\n",
      "Vo=A*Vin #output voltage\n",
      "print '%s %.2f' %(\"Amplified output voltage = V\",Vo)\n",
      "Vo=Acm*Vin #output voltage\n",
      "print '%s %.1f' %(\"Attenuated output voltage = mV\",Vo*1e3)\n"
     ],
     "language": "python",
     "metadata": {},
     "outputs": [
      {
       "output_type": "stream",
       "stream": "stdout",
       "text": [
        "Amplified output voltage = V 0.15\n",
        "Attenuated output voltage = mV 0.5\n"
       ]
      }
     ],
     "prompt_number": 1
    },
    {
     "cell_type": "heading",
     "level": 2,
     "metadata": {},
     "source": [
      "Example E3 - Pg 517"
     ]
    },
    {
     "cell_type": "code",
     "collapsed": false,
     "input": [
      "#Ex10_3 Pg-517\n",
      "#calculate Amplified output voltage\n",
      "R1=10.*10.**(3.) #resistor R1 in ohm\n",
      "Rf=50.*10.**(3.) #feedback resistor in ohm\n",
      "Vin=10.*10.**(-3.) #input voltage in V\n",
      "Ro=5000. #load resistor in ohm\n",
      "print '%s' %(\"A'' = Vo/Vi = (-1)*Rf/R1*(1+1/A*(1+Rf/R1))**-1 \")\n",
      "A=5000. \n",
      "Vo=Vin*(Rf/R1)/(1+1/A*(1+Rf/R1)) #output voltage\n",
      "print '%s %.0f' %(\"\\n When gain A =\",A)\n",
      "print '%s %.1f' %(\" \\n Amplified output voltage = mV\",Vo*1e3)\n",
      "A=10000.\n",
      "Vo=Vin*(Rf/R1)/(1+1/A*(1+Rf/R1))\n",
      "print '%s %.0f' %(\"\\n When gain A=%.0f\",A)\n",
      "print '%s %.2f' %(\" \\n Amplified output voltage = mV\",Vo*1e3)\n",
      "A=5000.\n",
      "Rout=Ro/(1.+A*R1/Rf) #load resistance\n",
      "print '%s %.3f' %(\" \\n Ro = ohm\",Rout)\n",
      "A=10000.\n",
      "Rout=Ro/(1.+A*R1/Rf) #load resistance\n",
      "print'%s %.3f' %(\"\\nRo = ohm\",Rout)\n"
     ],
     "language": "python",
     "metadata": {},
     "outputs": [
      {
       "output_type": "stream",
       "stream": "stdout",
       "text": [
        "A'' = Vo/Vi = (-1)*Rf/R1*(1+1/A*(1+Rf/R1))**-1 \n",
        "\n",
        " When gain A = 5000\n",
        " \n",
        " Amplified output voltage = mV 49.9\n",
        "\n",
        " When gain A=%.0f 10000\n",
        " \n",
        " Amplified output voltage = mV 49.97\n",
        " \n",
        " Ro = ohm 4.995\n",
        "\n",
        "Ro = ohm 2.499\n"
       ]
      }
     ],
     "prompt_number": 3
    },
    {
     "cell_type": "heading",
     "level": 2,
     "metadata": {},
     "source": [
      "Example E4 - Pg 518"
     ]
    },
    {
     "cell_type": "code",
     "collapsed": false,
     "input": [
      "#Ex10_4 Pg-518\n",
      "#calculate Magnitude of Closed loop gain,Closed loop frequency,Output voltage\n",
      "R1=1.5*10.**(3.) #resistor R1 in ohm\n",
      "Rf=75.*10.**(3.) #feedback resistor in ohm\n",
      "Vin=10.*10.**(-3.) #input voltage in V\n",
      "funi=1.*10.**(6.) #unity frequency in Hz\n",
      "Acl=(-1.)*Rf/R1 #closed loop gain\n",
      "print '%s %.0f' %(\"Magnitude of Closed loop gain =\",abs(Acl))\n",
      "fcl=funi/abs(Acl) #closed loop frequency\n",
      "print '%s %.0f' %(\"Closed loop frequency = kHz\",fcl*1e-3)\n",
      "Vout=abs(Acl)*Vin #output voltage\n",
      "print '%s %.1f' %(\"Output voltage = mV pp\",Vout*1e3)\n"
     ],
     "language": "python",
     "metadata": {},
     "outputs": [
      {
       "output_type": "stream",
       "stream": "stdout",
       "text": [
        "Magnitude of Closed loop gain = 50\n",
        "Closed loop frequency = kHz 20\n",
        "Output voltage = mV pp 500.0\n"
       ]
      }
     ],
     "prompt_number": 4
    },
    {
     "cell_type": "heading",
     "level": 2,
     "metadata": {},
     "source": [
      "Example E5 - Pg 518"
     ]
    },
    {
     "cell_type": "code",
     "collapsed": false,
     "input": [
      "#Ex10_5 Pg-518\n",
      "#calculate When resistor 100 k-ohm is in zero position & maximum position\n",
      "R1=2.*10.**(3.) #resistor R1 in ohm\n",
      "Rf=0 #feedback resistor in ohm\n",
      "print '%s' %(\"(1) When resistor 100 k-ohm is in zero position\")\n",
      "A=1+Rf/R1 #gain\n",
      "print '%s %.0f' %(\"Gain =\",A)\n",
      "Rf=100.*10.**(3.)\n",
      "print '%s' %(\"\\n(2)When resistor 100 k-ohm is in maximum position\")\n",
      "A=1.+Rf/R1 #gain\n",
      "print '%s %.0f' %(\"Gain =\",A)\n"
     ],
     "language": "python",
     "metadata": {},
     "outputs": [
      {
       "output_type": "stream",
       "stream": "stdout",
       "text": [
        "(1) When resistor 100 k-ohm is in zero position\n",
        "Gain = 1\n",
        "\n",
        "(2)When resistor 100 k-ohm is in maximum position\n",
        "Gain = 51\n"
       ]
      }
     ],
     "prompt_number": 5
    },
    {
     "cell_type": "heading",
     "level": 2,
     "metadata": {},
     "source": [
      "Example E6 - Pg 519"
     ]
    },
    {
     "cell_type": "code",
     "collapsed": false,
     "input": [
      "#Ex10_6 Pg-519\n",
      "#calculate voltage gain,Amplified output voltage\n",
      "R1=50.*10.**(3.) #resistor R1 in ohm\n",
      "Rf=300.*10.**(3.) #feedback resistor in ohm\n",
      "Vin=1. #input voltage in V\n",
      "print '%s' %(\"In the inverting mode,voltage gain is \")\n",
      "print '%s' %(\"A'' = Vo/Vi = (-1)*Rf/R1*(1+1/A*(1+Rf/R1))**-1 \")\n",
      "A=10000. \n",
      "Vo=(-1.)*Vin*(Rf/R1)/(1.+1./A*(1.+Rf/R1)) #output voltage\n",
      "print '%s %.3f' %(\"\\nAmplified output voltage = V\",Vo)\n"
     ],
     "language": "python",
     "metadata": {},
     "outputs": [
      {
       "output_type": "stream",
       "stream": "stdout",
       "text": [
        "In the inverting mode,voltage gain is \n",
        "A'' = Vo/Vi = (-1)*Rf/R1*(1+1/A*(1+Rf/R1))**-1 \n",
        "\n",
        "Amplified output voltage = V -5.996\n"
       ]
      }
     ],
     "prompt_number": 6
    },
    {
     "cell_type": "heading",
     "level": 2,
     "metadata": {},
     "source": [
      "Example E7 - Pg 519"
     ]
    },
    {
     "cell_type": "code",
     "collapsed": false,
     "input": [
      "#Ex10_7 Pg-519\n",
      "#calculate Power Bandwidth\n",
      "import math\n",
      "Sr=15./1e-6 #slew rate in V/sec\n",
      "Vp=10. #peak output voltage\n",
      "fmax=Sr/(2.*math.pi*Vp) #Power Bandwidth\n",
      "print '%s %.3f' %(\"Power Bandwidth = kHz\",fmax*1e-3)\n"
     ],
     "language": "python",
     "metadata": {},
     "outputs": [
      {
       "output_type": "stream",
       "stream": "stdout",
       "text": [
        "Power Bandwidth = kHz 238.732\n"
       ]
      }
     ],
     "prompt_number": 7
    },
    {
     "cell_type": "heading",
     "level": 2,
     "metadata": {},
     "source": [
      "Example E8 - Pg 519"
     ]
    },
    {
     "cell_type": "code",
     "collapsed": false,
     "input": [
      "#Ex10_8 Pg-519\n",
      "#calculate Input resistance and Output resistance of buffer circuit\n",
      "A=5000. #voltage gain\n",
      "Ri=10000. #input resistor in ohm\n",
      "Ro=100. #load resistor in ohm\n",
      "Rf=0 #feedback resistor in ohm\n",
      "Rin=A*Ri/(1+Rf/Ri) #input resistance of buffer circuit\n",
      "print '%s %.0f' %(\"Input resistance of buffer circuit = *1e7 ohm\",Rin*1e-7)\n",
      "Rout=Ro/A*(1.+Rf/Ri) #output resistance of buffer circuit\n",
      "print '%s %.2f' %(\"Output resistance of buffer circuit = ohm\",Rout)\n"
     ],
     "language": "python",
     "metadata": {},
     "outputs": [
      {
       "output_type": "stream",
       "stream": "stdout",
       "text": [
        "Input resistance of buffer circuit = *1e7 ohm 5\n",
        "Output resistance of buffer circuit = ohm 0.02\n"
       ]
      }
     ],
     "prompt_number": 8
    }
   ],
   "metadata": {}
  }
 ]
}