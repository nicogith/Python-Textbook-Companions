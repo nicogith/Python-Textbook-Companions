{
 "metadata": {
  "name": "",
  "signature": "sha256:30ef5343042903d8510275136ddf0764ce01b270d174089f40bb683199c9a8e1"
 },
 "nbformat": 3,
 "nbformat_minor": 0,
 "worksheets": [
  {
   "cells": [
    {
     "cell_type": "heading",
     "level": 1,
     "metadata": {},
     "source": [
      "Chapter 6 - Thermal Stability"
     ]
    },
    {
     "cell_type": "heading",
     "level": 2,
     "metadata": {},
     "source": [
      "Example E1 - Pg 333"
     ]
    },
    {
     "cell_type": "code",
     "collapsed": false,
     "input": [
      "#Ex6_1 Pg-333\n",
      "#calculate The relation for thermal stability\n",
      "Ta=25. #ambient temperature in degree celsius\n",
      "tetha=10. #thermal resistance \n",
      "Pd=2. #power dessipated in transistor\n",
      "Tj=Ta+tetha*Pd #collector base junction transistor temperature\n",
      "print '%s %.0f' %(\"\\nCollector base junction transistor temperature=degree celcius\\n\",Tj)\n",
      "print '%s' %(\"tetha=10 degree celcius/watt means for every watt consumed its temperature will rise by 10 degree celcius\")\n",
      "print '%s' %(\"\\nWhile using a transistor,we must keep in mind that it must not reach a condition called thermal runaway.\\nThe heat released at collector base junction must not exceed the rate at which heat can dissipated under steady state. For this,\\n \")\n",
      "print '%s' %(\"(del_Pd/del_Tj) < (1/tetha)\")\n",
      "print '%s' %(\"This is the relation for thermal stability.\")\n"
     ],
     "language": "python",
     "metadata": {},
     "outputs": [
      {
       "output_type": "stream",
       "stream": "stdout",
       "text": [
        "\n",
        "Collector base junction transistor temperature=degree celcius\n",
        " 45\n",
        "tetha=10 degree celcius/watt means for every watt consumed its temperature will rise by 10 degree celcius\n",
        "\n",
        "While using a transistor,we must keep in mind that it must not reach a condition called thermal runaway.\n",
        "The heat released at collector base junction must not exceed the rate at which heat can dissipated under steady state. For this,\n",
        " \n",
        "(del_Pd/del_Tj) < (1/tetha)\n",
        "This is the relation for thermal stability.\n"
       ]
      }
     ],
     "prompt_number": 1
    },
    {
     "cell_type": "heading",
     "level": 2,
     "metadata": {},
     "source": [
      "Example E2 - Pg 335"
     ]
    },
    {
     "cell_type": "code",
     "collapsed": false,
     "input": [
      "#Ex6_2 Pg-335\n",
      "#calculate the dissipation capability at 50 degree celcius\n",
      "print '%s' %(\"Draw a vertical line from temperature axis at 50 degree celcius to cut the 71 degree celcius line.\\nJoin the point of intersection P through a horizontal line at Y-axis.\\nThe point where it intersects Y-axis gives the value of permissible dissipation equal to 45 of maximum rating.\\n\")\n",
      "per=.45 #permissible dissipation in percentage\n",
      "max_diss=165. #maximum dissipation\n",
      "diss_cap=per*max_diss #dissipation capability\n",
      "print '%s' %(\"The dissipation capability at 50 degree celcius\")\n",
      "print '%s %.0f' %(\"= %.0f mW \\n \",diss_cap)\n",
      "print '%s' %(\"Its value ranges from (0.2) degree celcius/watt to (1000) degree celcius/watt for a transistor  that has an efficient heat sink\")\n",
      "print '%s' %(\"Tj = Ta + tetha*Pd\")\n",
      "print '%s' %(\"The above equation reflects that collector-junction temperature Tj of the transistor will be higher than ambient temperature Ta by an amount equal to the product of tetha and Pd.\")\n"
     ],
     "language": "python",
     "metadata": {},
     "outputs": [
      {
       "output_type": "stream",
       "stream": "stdout",
       "text": [
        "Draw a vertical line from temperature axis at 50 degree celcius to cut the 71 degree celcius line.\n",
        "Join the point of intersection P through a horizontal line at Y-axis.\n",
        "The point where it intersects Y-axis gives the value of permissible dissipation equal to 45 of maximum rating.\n",
        "\n",
        "The dissipation capability at 50 degree celcius\n",
        "= %.0f mW \n",
        "  74\n",
        "Its value ranges from (0.2) degree celcius/watt to (1000) degree celcius/watt for a transistor  that has an efficient heat sink\n",
        "Tj = Ta + tetha*Pd\n",
        "The above equation reflects that collector-junction temperature Tj of the transistor will be higher than ambient temperature Ta by an amount equal to the product of tetha and Pd.\n"
       ]
      }
     ],
     "prompt_number": 2
    },
    {
     "cell_type": "heading",
     "level": 2,
     "metadata": {},
     "source": [
      "Example E3 - Pg 335"
     ]
    },
    {
     "cell_type": "code",
     "collapsed": false,
     "input": [
      "#Ex6_3 Pg-335\n",
      "#calculate The operating point coordinates\n",
      "Rb=200.*10.**(3.) #base resistance in ohm\n",
      "Vcc=10. #supply voltage in V\n",
      "Vbe=0.7 #voltage drop in V\n",
      "Rl=2.*10.**(3.) #load resistor in ohm\n",
      "Beta=50. #transistor gain\n",
      "print '%s' %(\"If Beta=50\")\n",
      "Ib=(Vcc-Vbe)/Rb #base current in A\n",
      "Ic=Beta*Ib #collector current\n",
      "Vce=Vcc-Ic*Rl #collector emitter voltage\n",
      "print '%s %.2f %.2f' %(\"The operating point coordinates are [V,mA]\\n\",Vce, Ic*10**3)\n",
      "print '%s' %(\"\\nIf Beta=60\")\n",
      "Beta2=60 #second transistor gain \n",
      "Ic2=Beta2*Ib #collector current\n",
      "Vce2=Vcc-Ic2*Rl #collector emitter voltage\n",
      "print '%s %.2f %.2f' %(\"The operating point coordinates are [V,mA]\\n\",Vce2, Ic2*10**3)\n"
     ],
     "language": "python",
     "metadata": {},
     "outputs": [
      {
       "output_type": "stream",
       "stream": "stdout",
       "text": [
        "If Beta=50\n",
        "The operating point coordinates are [V,mA]\n",
        " 5.35 2.33\n",
        "\n",
        "If Beta=60\n",
        "The operating point coordinates are [V,mA]\n",
        " 4.42 2.79\n"
       ]
      }
     ],
     "prompt_number": 3
    },
    {
     "cell_type": "heading",
     "level": 2,
     "metadata": {},
     "source": [
      "Example E4 - Pg 335"
     ]
    },
    {
     "cell_type": "code",
     "collapsed": false,
     "input": [
      "#Ex6_4 Pg-335\n",
      "#calculate The collector emitter voltage\n",
      "Rb=330.*10.**(3.) #base resistance in ohm\n",
      "Vcc=15. #supply voltage in V\n",
      "Vbe=0.7 #voltage drop in V\n",
      "Rl=3.3*10.**(3.) #load resistor in ohm\n",
      "Beta=60. #transistor gain\n",
      "Ib=(Vcc-Vbe)/Rb #base current in A\n",
      "Ic=Beta*Ib #collector current (value in textbook is wrong)\n",
      "Vce=Vcc-(Ic+Ib)*Rl \n",
      "print '%s %.2f' %(\"The collector emitter voltage=V\",Vce)\n",
      "#collector emitter voltage (value in textbook is wrong) \n"
     ],
     "language": "python",
     "metadata": {},
     "outputs": [
      {
       "output_type": "stream",
       "stream": "stdout",
       "text": [
        "The collector emitter voltage=V 6.28\n"
       ]
      }
     ],
     "prompt_number": 4
    }
   ],
   "metadata": {}
  }
 ]
}