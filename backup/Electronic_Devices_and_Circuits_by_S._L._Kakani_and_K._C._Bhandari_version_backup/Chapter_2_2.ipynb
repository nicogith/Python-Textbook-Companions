{
 "metadata": {
  "name": "",
  "signature": "sha256:553ed0bdcad0d42e6fbf264c6ca8491f3d6465fe1d96c2874ece02c52e9b1c4a"
 },
 "nbformat": 3,
 "nbformat_minor": 0,
 "worksheets": [
  {
   "cells": [
    {
     "cell_type": "heading",
     "level": 1,
     "metadata": {},
     "source": [
      "Chapter 2 - Semiconductor Physics"
     ]
    },
    {
     "cell_type": "heading",
     "level": 2,
     "metadata": {},
     "source": [
      "Example E1 - Pg 87"
     ]
    },
    {
     "cell_type": "code",
     "collapsed": false,
     "input": [
      "#calculate Conductivity of pure silicon crystal\n",
      "print '%s' %(\"Conductivity of pure silicon crystal is given by\")\n",
      "print '%s' %(\"   sigma = ni*e*(ue + uh)\")\n",
      "uh=480. #mobility in cm**2/Volt-sec\n",
      "ue=1350. #mobility of electrons in cm**2/Volt-sec\n",
      "e=1.6*10.**(-19.) #electron charge\n",
      "ni=1.072*10.**10. #density of electron hole\n",
      "sigma_i=ni*e*(uh+ue) #conductivity of silicon\n",
      "print '%s %.2f' %(\"\\n Conductivity of pure silicon crystal = %.8f ohm**(-1)/cm \\n\",sigma_i)\n",
      "print '%s' %(\"Resistivity of silicon is given by\")\n",
      "rho=1./sigma_i #resistivity of silicon\n",
      "print '%s %.2f' %(\"\\n Resistivity of pure silicon crystal = %.0f ohm-cm \\n\",rho)\n"
     ],
     "language": "python",
     "metadata": {},
     "outputs": [
      {
       "output_type": "stream",
       "stream": "stdout",
       "text": [
        "Conductivity of pure silicon crystal is given by\n",
        "   sigma = ni*e*(ue + uh)\n",
        "\n",
        " Conductivity of pure silicon crystal = %.8f ohm**(-1)/cm \n",
        " 0.00\n",
        "Resistivity of silicon is given by\n",
        "\n",
        " Resistivity of pure silicon crystal = %.0f ohm-cm \n",
        " 318591.47\n"
       ]
      }
     ],
     "prompt_number": 1
    },
    {
     "cell_type": "heading",
     "level": 2,
     "metadata": {},
     "source": [
      "Example E2 - Pg 87"
     ]
    },
    {
     "cell_type": "code",
     "collapsed": false,
     "input": [
      "#Ex2_2 Pg-87\n",
      "#calculate Conductivity of pure silicon crystal, Resistivity of pure phosphorous\n",
      "print '%s' %(\"sigma = u*e*n\")\n",
      "u=1200. #mobility\n",
      "e=1.6*10.**(-19.) #electron charge\n",
      "n=10.**13. #phosphorous concentration\n",
      "sigma=u*e*n #conductivity \n",
      "print '%s %.2f' %(\"\\n Conductivity of pure silicon crystal = %.5f ohm**(-1)/cm \\n\",sigma)\n",
      "rho=1./sigma #resistivity\n",
      "print '%s %.2f' %(\"\\n Resistivity of pure phosphorous = %.0f ohm-cm \\n\",rho)\n"
     ],
     "language": "python",
     "metadata": {},
     "outputs": [
      {
       "output_type": "stream",
       "stream": "stdout",
       "text": [
        "sigma = u*e*n\n",
        "\n",
        " Conductivity of pure silicon crystal = %.5f ohm**(-1)/cm \n",
        " 0.00\n",
        "\n",
        " Resistivity of pure phosphorous = %.0f ohm-cm \n",
        " 520.83\n"
       ]
      }
     ],
     "prompt_number": 2
    },
    {
     "cell_type": "heading",
     "level": 2,
     "metadata": {},
     "source": [
      "Example E4 - Pg 88"
     ]
    },
    {
     "cell_type": "code",
     "collapsed": false,
     "input": [
      "#Ex2_4 Pg-88\n",
      "#calculate the ratio of n_p/n_i\n",
      "print '%s' %(\"(n_i)**2 = n*p = n_p*N_a\")\n",
      "ni=2.5*10.**19. #density of electron hole\n",
      "Na=1.1*10.**20. #acceptor density\n",
      "np=(ni**2.)/Na\n",
      "N=np/ni \n",
      "print '%s %.2f' %(\"\\n The ratio of n_p/n_i = %.4f\",N)\n"
     ],
     "language": "python",
     "metadata": {},
     "outputs": [
      {
       "output_type": "stream",
       "stream": "stdout",
       "text": [
        "(n_i)**2 = n*p = n_p*N_a\n",
        "\n",
        " The ratio of n_p/n_i = %.4f 0.23\n"
       ]
      }
     ],
     "prompt_number": 3
    },
    {
     "cell_type": "heading",
     "level": 2,
     "metadata": {},
     "source": [
      "Example E5 - Pg 88"
     ]
    },
    {
     "cell_type": "code",
     "collapsed": false,
     "input": [
      "#Ex2_5 Pg-88\n",
      "#calculate number density of donor atoms\n",
      "print '%s' %(\"sigma_n = u_n*e*N_d\")\n",
      "e=1.6*1e-19 #electron charge\n",
      "sigma=5. #conductivity in mho/cm\n",
      "un=3850. #mobility of electrons\n",
      "Nd=sigma/(e*un) #concentration\n",
      "print '%s %.2f' %(\"Number density of donor atoms = %.1f*1e16 per cm**3\",Nd*1e-16)\n",
      "#the answer in the book is wrong the correct answer is 0.8*1e16 per cm**3\n"
     ],
     "language": "python",
     "metadata": {},
     "outputs": [
      {
       "output_type": "stream",
       "stream": "stdout",
       "text": [
        "sigma_n = u_n*e*N_d\n",
        "Number density of donor atoms = %.1f*1e16 per cm**3 0.81\n"
       ]
      }
     ],
     "prompt_number": 4
    },
    {
     "cell_type": "heading",
     "level": 2,
     "metadata": {},
     "source": [
      "Example E6 - Pg 88"
     ]
    },
    {
     "cell_type": "code",
     "collapsed": false,
     "input": [
      "#Ex2_6 Pg-88\n",
      "#calculate Eg\n",
      "print '%s' %(\"We know forbidden energy gap between conduction and valence bands for a semiconductor is nearly 1 eV.\\nFor Ge and Si,energy gap is 0.785 eV and 1.21 eV respectively at 0K.\\nEnergy gap decreases with increase in temperature which is represented by the expression.\\nObviously, Si and Ge will remain semiconductors at 1000K ambient temperature.\\n\")\n",
      "print '%s' %(\"Eg(T) = 1.21 - 3.6*10**(-4)*T (For Si)\")\n",
      "T=1000. #temperature\n",
      "Eg=1.21 - 3.6*10**(-4)*T\n",
      "print '%s %.2f %s' %(\"\\nEg(1000)=\",1.21 - 3.6*10**(-4)*T,\"eV\\n\")\n"
     ],
     "language": "python",
     "metadata": {},
     "outputs": [
      {
       "output_type": "stream",
       "stream": "stdout",
       "text": [
        "We know forbidden energy gap between conduction and valence bands for a semiconductor is nearly 1 eV.\n",
        "For Ge and Si,energy gap is 0.785 eV and 1.21 eV respectively at 0K.\n",
        "Energy gap decreases with increase in temperature which is represented by the expression.\n",
        "Obviously, Si and Ge will remain semiconductors at 1000K ambient temperature.\n",
        "\n",
        "Eg(T) = 1.21 - 3.6*10**(-4)*T (For Si)\n",
        "\n",
        "Eg(1000)= 0.85 eV\n",
        "\n"
       ]
      }
     ],
     "prompt_number": 5
    },
    {
     "cell_type": "heading",
     "level": 2,
     "metadata": {},
     "source": [
      "Example E7 - Pg 88"
     ]
    },
    {
     "cell_type": "code",
     "collapsed": false,
     "input": [
      "#Ex2_7 Pg-88\n",
      "#calculate Avg relaxation time of electrons\n",
      "print '%s' %(\"Relaxation time in terms of mobility is given by\")\n",
      "print '%s' %(\"t=m*u/e\")\n",
      "print '%s' %(\"\\n\\nTaking effective mass of electron an holes in consideration,\\nrelaxation time is given by\\n\")\n",
      "print '%s' %(\"t=m_star*u/e\")\n",
      "print '%s' %(\"(a)For electrons,m_star = 0.259*m_0\")\n",
      "m0=9.1*10.**(-31.) \n",
      "ue=0.135 #mobility of electrons\n",
      "e=1.6*10.**(-19.) #electron charge\n",
      "t_e=(0.259*m0*ue)/e\n",
      "print '%s %.2f %s' %(\"\\nAverage relaxation time of eletrons =\",t_e*1e13,\"*1e-13 secs\\n\")\n",
      "uh=0.048 #mobility of holes\n",
      "print '%s' %(\"(b)For holes in the valance band,m=0.537*m_0\")\n",
      "t_h=(0.537*m0*uh)/e\n",
      "print '%s %.2f %s' %(\"\\nAverage relaxation time of eletrons =\",t_h*1e13,\"*1e-13 secs\\n\")\n"
     ],
     "language": "python",
     "metadata": {},
     "outputs": [
      {
       "output_type": "stream",
       "stream": "stdout",
       "text": [
        "Relaxation time in terms of mobility is given by\n",
        "t=m*u/e\n",
        "\n",
        "\n",
        "Taking effective mass of electron an holes in consideration,\n",
        "relaxation time is given by\n",
        "\n",
        "t=m_star*u/e\n",
        "(a)For electrons,m_star = 0.259*m_0\n",
        "\n",
        "Average relaxation time of eletrons = 1.99 *1e-13 secs\n",
        "\n",
        "(b)For holes in the valance band,m=0.537*m_0\n",
        "\n",
        "Average relaxation time of eletrons = 1.47 *1e-13 secs\n",
        "\n"
       ]
      }
     ],
     "prompt_number": 6
    },
    {
     "cell_type": "heading",
     "level": 2,
     "metadata": {},
     "source": [
      "Example E8 - Pg 89"
     ]
    },
    {
     "cell_type": "code",
     "collapsed": false,
     "input": [
      "#Ex2_8 Pg-89\n",
      "#calculation of Total conduction current density\n",
      "import math\n",
      "print '%s' %(\"Conductivity of an intrinsic material is given by \")\n",
      "print '%s' %(\"sigma = e*ni*un*(1+up/un)\")\n",
      "sigma_i=100./60. \n",
      "ni=2.5*10.**19. #concentration of intrinsic carrier in m**3\n",
      "up_un=0.5\n",
      "e=1.6*10.**(-19.) #electron charge\n",
      "un=(sigma_i/(e*ni*(1+(up_un)))) #concentration of electrons\n",
      "up=un/2. #holes concentratin\n",
      "print '%s' %(\"Let n be eletron concentration and p be hole con-centration for doped sample. Sincethe sample is electrically neutral,we have\")\n",
      "print '%s' %(\"Nd + p = Na + n\")\n",
      "print '%s' %(\"Where Nd is donor concentration and Na is acceptor concentration,assumed to be fully ionized. From mass action law,we have np =ni**2*S0\")\n",
      "print '%s' %(\"Nd + (ni**2)/n = Na + n\")\n",
      "print '%s' %(\"or n**2 + (Na-Nd)*n-ni**2 = 0\")\n",
      "print '%s' %(\"or n=0.5*([Nd-N])(+/-) sqrt(Nd-Na)**2 + 4*ni**2)\")\n",
      "print '%s' %(\"n is positive and hence we can drop negative sign before the radical\")\n",
      "Nd=10.**20. #number density of donor atoms /m**3\n",
      "Na=5.*10.**19. #number of acceptor atoms in /m**3\n",
      "n=0.5*((Nd-Na)+ math.sqrt((Nd-Na)**2 + 4*ni**2)) #electron concentration for doped sample\n",
      "p=ni**2./n #hole concentration for doped sample\n",
      "conduct_doped=e*(n*un+p*up) #conductivity of doped sample(value in textbook is wrong)\n",
      "print '%s %.2f' %(\"\\n Conductivity of doped sample = %.2f S/m \\n\",conduct_doped)\n",
      "\n",
      "print '%s' %(\"We have assumed that carrier mobilities in the doped signal sample are the same as those in the intrinsic material.This assumption is justified by the low doping level, and Coulomb scaterring Applied by the ionized impurities is weak at 300K.\")\n",
      "print '%s' %(\"Applied electric field\")\n",
      "\n",
      "F_cm=2. #applied electric field in V/cm\n",
      "F_m=2.*100. #applied electric field in V/m\n",
      "J=conduct_doped*F_m #total conduction current density\n",
      "J_cm=J/1000. #cm**2 to m**2s\n",
      "\n",
      "print '%s %.2f' %(\"Total conduction current density = %.0f A/m**2\",J) \n",
      "print '%s %.2f' %(\"\\n                               = %.2f A/cm**2\",J_cm)\n"
     ],
     "language": "python",
     "metadata": {},
     "outputs": [
      {
       "output_type": "stream",
       "stream": "stdout",
       "text": [
        "Conductivity of an intrinsic material is given by \n",
        "sigma = e*ni*un*(1+up/un)\n",
        "Let n be eletron concentration and p be hole con-centration for doped sample. Sincethe sample is electrically neutral,we have\n",
        "Nd + p = Na + n\n",
        "Where Nd is donor concentration and Na is acceptor concentration,assumed to be fully ionized. From mass action law,we have np =ni**2*S0\n",
        "Nd + (ni**2)/n = Na + n\n",
        "or n**2 + (Na-Nd)*n-ni**2 = 0\n",
        "or n=0.5*([Nd-N])(+/-) sqrt(Nd-Na)**2 + 4*ni**2)\n",
        "n is positive and hence we can drop negative sign before the radical\n",
        "\n",
        " Conductivity of doped sample = %.2f S/m \n",
        " 2.91\n",
        "We have assumed that carrier mobilities in the doped signal sample are the same as those in the intrinsic material.This assumption is justified by the low doping level, and Coulomb scaterring Applied by the ionized impurities is weak at 300K.\n",
        "Applied electric field\n",
        "Total conduction current density = %.0f A/m**2 582.52\n",
        "\n",
        "                               = %.2f A/cm**2 0.58\n"
       ]
      }
     ],
     "prompt_number": 7
    },
    {
     "cell_type": "heading",
     "level": 2,
     "metadata": {},
     "source": [
      "Example E9 - Pg 91"
     ]
    },
    {
     "cell_type": "code",
     "collapsed": false,
     "input": [
      "#Ex2_9 Pg-91\n",
      "print '%s' %(\"For P-type,Nd=0. By charge neutrality and mass action law,\")\n",
      "print '%s' %(\"      p + Nd = p = +na = (ni)**2/n\")\n",
      "print '%s' %(\"or    n**2 + Na*n - (ni)**2 = 0\")\n",
      "print '%s' %(\"Solving the quadratic equation for n and discharging the extraneous negative root,one obtains\")\n",
      "print '%s' %(\"      n = 0.5*(-Na + sqrt(Na**2 + 4*ni**2))\")\n",
      "print '%s' %(\"Knowing n,one obtains from mass action law p = ni**2/n\")\n",
      "print '%s' %(\"For N-type doping,Na=0. By analogous procedure,\")\n",
      "print '%s' %(\"      p = 0.5*(-Nd +sqrt(Nd**2 + 4*Ni**2));  n=ni**2/p\")\n"
     ],
     "language": "python",
     "metadata": {},
     "outputs": [
      {
       "output_type": "stream",
       "stream": "stdout",
       "text": [
        "For P-type,Nd=0. By charge neutrality and mass action law,\n",
        "      p + Nd = p = +na = (ni)**2/n\n",
        "or    n**2 + Na*n - (ni)**2 = 0\n",
        "Solving the quadratic equation for n and discharging the extraneous negative root,one obtains\n",
        "      n = 0.5*(-Na + sqrt(Na**2 + 4*ni**2))\n",
        "Knowing n,one obtains from mass action law p = ni**2/n\n",
        "For N-type doping,Na=0. By analogous procedure,\n",
        "      p = 0.5*(-Nd +sqrt(Nd**2 + 4*Ni**2));  n=ni**2/p\n"
       ]
      }
     ],
     "prompt_number": 8
    },
    {
     "cell_type": "heading",
     "level": 2,
     "metadata": {},
     "source": [
      "Example E10 - Pg 91"
     ]
    },
    {
     "cell_type": "code",
     "collapsed": false,
     "input": [
      "#Ex2_10 Pg-91\n",
      "e=1.6*10.**(-19.) #electron charge\n",
      "un=700. #mobility of silicon\n",
      "n=10**17. #concentration of phosphorous atoms\n",
      "sigma=e*un*n #conductivity\n",
      "print '%s %.2f' %(\"Conductivity = %.1f (ohm-cm)**-1\",sigma)\n",
      "res=sigma**(-1) #resistivity\n",
      "print '%s %.2f' %(\"\\n Resistivity = %.4f ohm-cm\",res)\n",
      "Rh=-(e*n)**(-1) #hall coefficient\n",
      "print '%s %.2f' %(\"\\n Hall coefficient = %.1f cm**3/C\",Rh)\n",
      "Ix=10**-3. \n",
      "Bz=10**(-5.) \n",
      "x=10**(-2.)\n",
      "Vh=(Ix*Bz*Rh)/x\n",
      "print '%s %.2f' %(\"\\n Hall Volage = %.1f uV\",Vh*10.**6.)\n"
     ],
     "language": "python",
     "metadata": {},
     "outputs": [
      {
       "output_type": "stream",
       "stream": "stdout",
       "text": [
        "Conductivity = %.1f (ohm-cm)**-1 11.20\n",
        "\n",
        " Resistivity = %.4f ohm-cm 0.09\n",
        "\n",
        " Hall coefficient = %.1f cm**3/C -62.50\n",
        "\n",
        " Hall Volage = %.1f uV -62.50\n"
       ]
      }
     ],
     "prompt_number": 9
    },
    {
     "cell_type": "heading",
     "level": 2,
     "metadata": {},
     "source": [
      "Example E11 - Pg 91"
     ]
    },
    {
     "cell_type": "code",
     "collapsed": false,
     "input": [
      "#Ex2_11 Pg-91\n",
      "print '%s' %(\"(a) Hall coefficient is\")\n",
      "print '%s' %(\"Rh = Eh/(Jx*B)\")\n",
      "Vh=21.4*10.**(-3.) #hall voltage\n",
      "b=1.7*10.**(-2.) #breadth\n",
      "Eh=Vh/b #electric field\n",
      "t=0.052*10.**(-3.) #thickness\n",
      "I=200*10.**(-6.) #current\n",
      "Jx=I/(b*t) #current density\n",
      "B=0.5 #magnetic field\n",
      "Rh=Eh/(Jx*B)\n",
      "print '%s %.2f' %(\"\\n Hall coefficient = %.6f m**3/C \\n\\n\",Rh)\n",
      "\n",
      "print '%s' %(\"(b) Electrons per unit volume,\")\n",
      "e=1.6*10.**(-19.) #electron charge\n",
      "n=1/(Rh*e) #electrons per unit volume\n",
      "print '%s %.2f' %(\"\\n\\n Electrons per unit volume = %.0f electrons/m**3 \\n\\n\",n)\n",
      "V=195.*10.**(-3.) #voltage\n",
      "I=200.*10.**(-6.) #current  \n",
      "R=V/I #resistance\n",
      "print '%s' %(\"Since R=(l/(A*sigma) = (l/(A*e*n*R))\")\n",
      "l=2.65*10.**(-2.) #length\n",
      "w=1.7*10.**(-2.) #width\n",
      "t=0.052*10.**(-3.) #thicknes\n",
      "A=t*w #area\n",
      "sigma=l/(A*e*n*R) #conductivity\n",
      "print '%s %.2f' %(\"\\n\\n Conductivity = %.3f m**3/Vs\",sigma)\n"
     ],
     "language": "python",
     "metadata": {},
     "outputs": [
      {
       "output_type": "stream",
       "stream": "stdout",
       "text": [
        "(a) Hall coefficient is\n",
        "Rh = Eh/(Jx*B)\n",
        "\n",
        " Hall coefficient = %.6f m**3/C \n",
        "\n",
        " 0.01\n",
        "(b) Electrons per unit volume,\n",
        "\n",
        "\n",
        " Electrons per unit volume = %.0f electrons/m**3 \n",
        "\n",
        " 561646297627606056960.00\n",
        "Since R=(l/(A*sigma) = (l/(A*e*n*R))\n",
        "\n",
        "\n",
        " Conductivity = %.3f m**3/Vs 0.34\n"
       ]
      }
     ],
     "prompt_number": 10
    }
   ],
   "metadata": {}
  }
 ]
}