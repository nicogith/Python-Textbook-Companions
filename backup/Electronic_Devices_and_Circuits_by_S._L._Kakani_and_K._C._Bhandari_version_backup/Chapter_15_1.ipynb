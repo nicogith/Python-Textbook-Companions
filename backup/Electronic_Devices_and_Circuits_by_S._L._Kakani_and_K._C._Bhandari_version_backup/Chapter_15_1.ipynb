{
 "metadata": {
  "name": "",
  "signature": "sha256:a909a7db08a7758f81190506b42caa1478b1be849707f941d9b31e833e8c5e3b"
 },
 "nbformat": 3,
 "nbformat_minor": 0,
 "worksheets": [
  {
   "cells": [
    {
     "cell_type": "heading",
     "level": 1,
     "metadata": {},
     "source": [
      "Chapter 15 - Communication System"
     ]
    },
    {
     "cell_type": "heading",
     "level": 2,
     "metadata": {},
     "source": [
      "Example E1 - Pg 773"
     ]
    },
    {
     "cell_type": "code",
     "collapsed": false,
     "input": [
      "#Ex15_1 Pg-773\n",
      "#calculte Total power\n",
      "Pc=10000. #carrier input power in watt\n",
      "m=30./100. #modulation of 30%\n",
      "print '%s' %(\"Total power = carrier power*(1+m**2/2)\")\n",
      "Pt=Pc*(1.+m**2./2.) #total power\n",
      "print '%s %.2f' %(\"            = W\",Pt*1e-3)\n"
     ],
     "language": "python",
     "metadata": {},
     "outputs": [
      {
       "output_type": "stream",
       "stream": "stdout",
       "text": [
        "Total power = carrier power*(1+m**2/2)\n",
        "            = W 10.45\n"
       ]
      }
     ],
     "prompt_number": 1
    },
    {
     "cell_type": "heading",
     "level": 2,
     "metadata": {},
     "source": [
      "Example E2 - Pg 774"
     ]
    },
    {
     "cell_type": "code",
     "collapsed": false,
     "input": [
      "#Ex15_2 Pg-774\n",
      "#calculte Total current\n",
      "import math\n",
      "Ic=100. #carrier current in A\n",
      "m=80./100. #modulation of 80%\n",
      "print '%s' %(\"Total current = carrier current*(1+m**2/2)\")\n",
      "It=Ic*math.sqrt(1.+m**2./2.) #total power\n",
      "print '%s %.1f' %(\"              = A\",It)\n",
      "change_I=It-Ic #change in current\n",
      "print '%s %.1f' %(\"Therefore, increase in current due to modulation = A\",change_I)\n"
     ],
     "language": "python",
     "metadata": {},
     "outputs": [
      {
       "output_type": "stream",
       "stream": "stdout",
       "text": [
        "Total current = carrier current*(1+m**2/2)\n",
        "              = A 114.9\n",
        "Therefore, increase in current due to modulation = A 14.9\n"
       ]
      }
     ],
     "prompt_number": 2
    },
    {
     "cell_type": "heading",
     "level": 2,
     "metadata": {},
     "source": [
      "Example E3 - Pg 774"
     ]
    },
    {
     "cell_type": "code",
     "collapsed": false,
     "input": [
      "#Ex15_3 Pg-774\n",
      "#calculte Modulation Factor,Amplitude of each sideband,Frequenc of sidebands,Bandwidth of the wave\n",
      "Em=5. #modulated wave amplitude\n",
      "Ec=100. #carrier wave amplitude\n",
      "Fm=50. #frequency of modulated wave\n",
      "Fc=10.*10.**(3.) #frequency of carrier wave \n",
      "print '%s' %(\"(1)Modulation Factor\")\n",
      "m=Em/Ec #modulation factor\n",
      "per_m=m*100. #modulation factor in percentage\n",
      "print '%s %.0f' %(\"m =\",per_m)\n",
      "print '%s' %(\"(2)Amplitude of each sideband = m*Ec/2\")\n",
      "Amp=m*Ec/2. #amplitude of each sideband\n",
      "print '%s %.1f' %(\"=\",Amp)\n",
      "USB=Fc+Fm #upper side band\n",
      "LSB=Fc-Fm #lower side band\n",
      "print '%s' %(\"(3)Frequenc of sidebands\")\n",
      "print '%s %.0f' %(\"USB = Hz\",USB)\n",
      "print '%s %.0f' %(\"LSB = Hz\",LSB)\n",
      "print '%s' %(\"(4) Bandwidth of the wave\")\n",
      "BW=2*Fm #Bandwidth\n",
      "print '%s %.0f' %(\"BW =\",BW)\n"
     ],
     "language": "python",
     "metadata": {},
     "outputs": [
      {
       "output_type": "stream",
       "stream": "stdout",
       "text": [
        "(1)Modulation Factor\n",
        "m = 5\n",
        "(2)Amplitude of each sideband = m*Ec/2\n",
        "= 2.5\n",
        "(3)Frequenc of sidebands\n",
        "USB = Hz 10050\n",
        "LSB = Hz 9950\n",
        "(4) Bandwidth of the wave\n",
        "BW = 100\n"
       ]
      }
     ],
     "prompt_number": 3
    },
    {
     "cell_type": "heading",
     "level": 2,
     "metadata": {},
     "source": [
      "Example E4 - Pg 774"
     ]
    },
    {
     "cell_type": "code",
     "collapsed": false,
     "input": [
      "#Ex15_4 Pg-774\n",
      "#calculte Modulation factor\n",
      "Vmax=600. #peak to peak voltage\n",
      "Vmin=100. #valley to valley voltage\n",
      "print '%s' %(\"From figure 15.49, we have\")\n",
      "m=(Vmax-Vmin)/(Vmax+Vmin) #modulation factor\n",
      "per_m=m*100. #modulation factor in percentage\n",
      "print '%s %.1f' %(\"Modulation factor = \",per_m )\n"
     ],
     "language": "python",
     "metadata": {},
     "outputs": [
      {
       "output_type": "stream",
       "stream": "stdout",
       "text": [
        "From figure 15.49, we have\n",
        "Modulation factor =  71.4\n"
       ]
      }
     ],
     "prompt_number": 4
    },
    {
     "cell_type": "heading",
     "level": 2,
     "metadata": {},
     "source": [
      "Example E5 - Pg 775"
     ]
    },
    {
     "cell_type": "code",
     "collapsed": false,
     "input": [
      "#Ex15_5 Pg-775\n",
      "#calculte Modulation factor,Carrier Amplitude,omega,Signal frequency,Emax ,Emin,BW\n",
      "import math\n",
      "print '%s' %(\"The standard equation of AM wave is\")\n",
      "print '%s' %(\" e = Ec*(1+m*sin(omega_m*t)*sin(omega_c*t)) -->eqn 1\")\n",
      "print '%s' %(\"Given the equation\")\n",
      "print '%s' %(\" e = 20*(1+0.7*sin(6280*t)*sin(628000*t))   --eqn 2\")\n",
      "print '%s' %(\"Comparing eqn 1 and eqn 2 one obtains\")\n",
      "print '%s' %(\"(1)Modulation factor, m = 0.7\")\n",
      "m=0.7 #modulation factor\n",
      "print '%s' %(\"(2)Carrier Amplitude, Ec = 20 V\")\n",
      "Ec=20. #carrier wave amplitude in V\n",
      "print '%s' %(\"(3)omega_m = 6280\")\n",
      "omega_m=6280 #modulating frequency\n",
      "Fm=omega_m/(2.*math.pi) #signal frequency\n",
      "print '%s %.0f' %(\"Signal frequency = kHz\",Fm*1e-3)\n",
      "omega_c=628000. #carrier frequency in Hz\n",
      "Fc=omega_c/(2.*math.pi) \n",
      "print '%s %.0f' %(\"(4)Signal frequency = kHz\",Fc*1e-3)\n",
      "Emax=Ec+m*Ec #minimum amplitude of wave\n",
      "print '%s %.0f' %(\"(5)Emax = V\",Emax)\n",
      "Emin=Ec-m*Ec #minimum amplitude of wave\n",
      "print '%s %.0f' %(\"(5)Emin = V\",Emin)\n",
      "BW=2.*Fm #Bandwidth\n",
      "print '%s %.0f' %(\"(6)BW = kHZ\",BW*1e-3)\n"
     ],
     "language": "python",
     "metadata": {},
     "outputs": [
      {
       "output_type": "stream",
       "stream": "stdout",
       "text": [
        "The standard equation of AM wave is\n",
        " e = Ec*(1+m*sin(omega_m*t)*sin(omega_c*t)) -->eqn 1\n",
        "Given the equation\n",
        " e = 20*(1+0.7*sin(6280*t)*sin(628000*t))   --eqn 2\n",
        "Comparing eqn 1 and eqn 2 one obtains\n",
        "(1)Modulation factor, m = 0.7\n",
        "(2)Carrier Amplitude, Ec = 20 V\n",
        "(3)omega_m = 6280\n",
        "Signal frequency = kHz 1\n",
        "(4)Signal frequency = kHz 100\n",
        "(5)Emax = V 34\n",
        "(5)Emin = V 6\n",
        "(6)BW = kHZ 2\n"
       ]
      }
     ],
     "prompt_number": 5
    },
    {
     "cell_type": "heading",
     "level": 2,
     "metadata": {},
     "source": [
      "Example E6 - Pg 776"
     ]
    },
    {
     "cell_type": "code",
     "collapsed": false,
     "input": [
      "#Ex15_6 Pg-776\n",
      "#calculte Total power\n",
      "Pc=10000. #carrier power in watt\n",
      "m=0.9 #modulation factor\n",
      "print '%s' %(\"We have\")\n",
      "print '%s' %(\"Total power = carrier power*(1+m**2/2)\")\n",
      "Pt=Pc*(1.+m**2./2.) #total power\n",
      "print '%s %.0f' %(\"            = kW\",Pt*1e-3)\n",
      "print '%s' %(\"This will be the maximum power handeled by the transmitter.\\nNow,increased unmodulated carrier power can be obtained by\")\n",
      "m=40./100. #modulation in terms of percentage\n",
      "Pt=14000. #total power\n",
      "Pc=Pt/(1.+m**2./2.) #neew carrier power\n",
      "print '%s %.2f' %(\"Pc = kW\",Pc*1e-3)\n"
     ],
     "language": "python",
     "metadata": {},
     "outputs": [
      {
       "output_type": "stream",
       "stream": "stdout",
       "text": [
        "We have\n",
        "Total power = carrier power*(1+m**2/2)\n",
        "            = kW 14\n",
        "This will be the maximum power handeled by the transmitter.\n",
        "Now,increased unmodulated carrier power can be obtained by\n",
        "Pc = kW 12.96\n"
       ]
      }
     ],
     "prompt_number": 6
    },
    {
     "cell_type": "heading",
     "level": 2,
     "metadata": {},
     "source": [
      "Example E7 - Pg 776"
     ]
    },
    {
     "cell_type": "code",
     "collapsed": false,
     "input": [
      "#Ex15_7 Pg-776\n",
      "#calculte standard equations for modulated voltage wave\n",
      "import math\n",
      "print '%s' %(\"Given the equation\")\n",
      "print '%s' %(\"\\nE = 100*sin(628000*t)+25*sin(621720*t)\\n-25*cos(634280*t))\\n\")\n",
      "m=50./100. #modulation factor in percentage\n",
      "Ec=100. #carrier wave amplitude in V\n",
      "Em=10. #modulated wave amplitude in V\n",
      "Fc=100000. #carier frequency in Hz\n",
      "Fm=1000. #modulating frequency in Hz\n",
      "pi=3.14 \n",
      "omega_c=2.*pi*Fc #carier frequency\n",
      "omega_m=2.*pi*Em #modulating frequency \n",
      "print '%s' %(\"Now,putting these equation in the standard equations for modulated voltage wave,\")\n",
      "print '%s' %(\"  e = Ec*sin(omega_c*t)+m*Ec/2*cos(omega_c-omega_m)*t-m*Ec/2*cos(omega_c-omega_m)*t\")\n",
      "USB=omega_c+omega_m #upper sideband\n",
      "LSB=omega_c-omega_m #lower sideband\n",
      "mEc=m*Ec/2.\n",
      "print '%s %.0f' %(\"\\n=100*sin(628000*t)+%.0f*sin(%.0f*t)-%.0f*cos(%.0f*t))\",mEc)\n",
      "print '%s %.0f' %(\"\\n=100*sin(628000*t)+%.0f*sin(%.0f*t)-%.0f*cos(%.0f*t))\",USB)\n",
      "print '%s %.0f' %(\"\\n=100*sin(628000*t)+%.0f*sin(%.0f*t)-%.0f*cos(%.0f*t))\",mEc)\n",
      "print '%s %.0f' %(\"\\n=100*sin(628000*t)+%.0f*sin(%.0f*t)-%.0f*cos(%.0f*t))\",LSB)\n"
     ],
     "language": "python",
     "metadata": {},
     "outputs": [
      {
       "output_type": "stream",
       "stream": "stdout",
       "text": [
        "Given the equation\n",
        "\n",
        "E = 100*sin(628000*t)+25*sin(621720*t)\n",
        "-25*cos(634280*t))\n",
        "\n",
        "Now,putting these equation in the standard equations for modulated voltage wave,\n",
        "  e = Ec*sin(omega_c*t)+m*Ec/2*cos(omega_c-omega_m)*t-m*Ec/2*cos(omega_c-omega_m)*t\n",
        "\n",
        "=100*sin(628000*t)+%.0f*sin(%.0f*t)-%.0f*cos(%.0f*t)) 25\n",
        "\n",
        "=100*sin(628000*t)+%.0f*sin(%.0f*t)-%.0f*cos(%.0f*t)) 628063\n",
        "\n",
        "=100*sin(628000*t)+%.0f*sin(%.0f*t)-%.0f*cos(%.0f*t)) 25\n",
        "\n",
        "=100*sin(628000*t)+%.0f*sin(%.0f*t)-%.0f*cos(%.0f*t)) 627937\n"
       ]
      }
     ],
     "prompt_number": 7
    }
   ],
   "metadata": {}
  }
 ]
}