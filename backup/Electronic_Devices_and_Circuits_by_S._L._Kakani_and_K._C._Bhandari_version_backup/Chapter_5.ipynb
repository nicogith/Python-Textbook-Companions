{
 "metadata": {
  "name": "",
  "signature": "sha256:0fc065a608f382e46ef4cfe7a37f8897fcb5ae3ef927491454131279917b9b2c"
 },
 "nbformat": 3,
 "nbformat_minor": 0,
 "worksheets": [
  {
   "cells": [
    {
     "cell_type": "heading",
     "level": 1,
     "metadata": {},
     "source": [
      "Chapter 5 - Transistors"
     ]
    },
    {
     "cell_type": "heading",
     "level": 2,
     "metadata": {},
     "source": [
      "Example E1 - Pg 278"
     ]
    },
    {
     "cell_type": "code",
     "collapsed": false,
     "input": [
      "#Ex5_1 Pg-278\n",
      "#calculate Collector current,Emitter current\n",
      "alpha_dc=0.97 #transistor current gain\n",
      "ICBO=10.*10.**(-6.) #collector to base leakage current in A\n",
      "Ib=50.*10.**(-6.) #base current in A\n",
      "Ic=((alpha_dc*Ib)/(1.-alpha_dc))+(ICBO/(1.-alpha_dc)) #collector current\n",
      "print '%s %.2f' %(\"Collector current =mA\",Ic*10**3)\n",
      "Ie=Ic+Ib #emitter current\n",
      "print '%s %.0f' %(\"Emitter curren=mA\",Ie*10**3)\n"
     ],
     "language": "python",
     "metadata": {},
     "outputs": [
      {
       "output_type": "stream",
       "stream": "stdout",
       "text": [
        "Collector current =mA 1.95\n",
        "Emitter curren=mA 2\n"
       ]
      }
     ],
     "prompt_number": 1
    },
    {
     "cell_type": "heading",
     "level": 2,
     "metadata": {},
     "source": [
      "Example E2 - Pg 279"
     ]
    },
    {
     "cell_type": "code",
     "collapsed": false,
     "input": [
      "#Ex5_2 Pg-279\n",
      "#calculate Common current gain factor alpha_dc,Dc emitter current gain factor beta,Emitter current\n",
      "Ic=5.255*10.**(-3.) #collector current in A\n",
      "Ib=100.*10.**(-6.) #base current in A\n",
      "ICBO=5.*10.**(-6.) #collector to base leakage current in A\n",
      "alpha_dc=(Ic-ICBO)/(Ib+Ic) #common current gain factor\n",
      "print '%s %.2f' %(\"Common current gain factor alpha_dc=\",alpha_dc)  \n",
      "Beta=alpha_dc/(1-alpha_dc) #Dc emitter current gain factor value in text book is wrong\n",
      "print '%s %.2f' %(\"\\nDc emitter current gain factor beta =\",Beta)\n",
      "Ie=Ic+Ib #emitter current value in text book wrong\n",
      "print '%s %.3f' %(\"\\nEmitter current=mA\",Ie*10**3)\n"
     ],
     "language": "python",
     "metadata": {},
     "outputs": [
      {
       "output_type": "stream",
       "stream": "stdout",
       "text": [
        "Common current gain factor alpha_dc= 0.98\n",
        "\n",
        "Dc emitter current gain factor beta = 50.00\n",
        "\n",
        "Emitter current=mA 5.355\n"
       ]
      }
     ],
     "prompt_number": 2
    },
    {
     "cell_type": "heading",
     "level": 2,
     "metadata": {},
     "source": [
      "Example E3 - Pg 279"
     ]
    },
    {
     "cell_type": "code",
     "collapsed": false,
     "input": [
      "#Ex5_3 Pg-279\n",
      "#calculate Dc emitter current gain factor beta,Emitter current,Common current gain factor alpha_dc,Collector current\n",
      "Ic=12.427*10.**(-3.) #collector current in A\n",
      "Ib=200.*10.**(-6.) #base current in A\n",
      "ICBO=7.*10.**(-6.) #collector to base leakage current in A\n",
      "Beta=(Ic-ICBO)/(Ib+ICBO) #Dc emitter current gain factor (value in texbook is wrong)\n",
      "print '%s %.0f' %(\"\\nDc emitter current gain factor beta=\",Beta)\n",
      "Ie=Ic+Ib #emitter current \n",
      "print '%s %.1f' %(\"\\nEmitter current=mA\",Ie*10**3)\n",
      "alpha_dc=(Ic-ICBO)/(Ib+Ic) #common current gain factor\n",
      "print '%s %.2f' %(\"\\nCommon current gain factor alpha_dc=\",alpha_dc)  \n",
      "Ib=150.*10.**(-6.) #new base current\n",
      "Ic=Beta*Ib+(Beta+1.)*ICBO #collector current (value in textbook is wrong)\n",
      "print '%s %.3f' %(\"\\nCollector current=mA\",Ic*10**3)\n"
     ],
     "language": "python",
     "metadata": {},
     "outputs": [
      {
       "output_type": "stream",
       "stream": "stdout",
       "text": [
        "\n",
        "Dc emitter current gain factor beta= 60\n",
        "\n",
        "Emitter current=mA 12.6\n",
        "\n",
        "Common current gain factor alpha_dc= 0.98\n",
        "\n",
        "Collector current=mA 9.427\n"
       ]
      }
     ],
     "prompt_number": 3
    }
   ],
   "metadata": {}
  }
 ]
}