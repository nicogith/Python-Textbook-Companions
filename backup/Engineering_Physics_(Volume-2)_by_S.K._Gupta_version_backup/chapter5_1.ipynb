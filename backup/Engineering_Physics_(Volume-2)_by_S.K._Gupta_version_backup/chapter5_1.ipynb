{
 "metadata": {
  "name": "",
  "signature": "sha256:cc6c5a4a0e0adf2cdedcb0781ed844438a49a2dfa38fdca65079fafeb0f6b0cf"
 },
 "nbformat": 3,
 "nbformat_minor": 0,
 "worksheets": [
  {
   "cells": [
    {
     "cell_type": "heading",
     "level": 1,
     "metadata": {},
     "source": [
      "Chapter5:ULTRASONIC"
     ]
    },
    {
     "cell_type": "heading",
     "level": 2,
     "metadata": {},
     "source": [
      "Eg1:pg-177"
     ]
    },
    {
     "cell_type": "code",
     "collapsed": false,
     "input": [
      "v=5760   #velocity of propagation of ultrasonic sound wave along X-direction in m/s\n",
      "t=1.0*10**-3 #thickness of a piezo-electric quartz plate in meter\n",
      "lamda=2*t #wavelength in meter(since t=lamda/2 corresponding to fundamental frequency)\n",
      "V=v/lamda #fundamental frequency of the crystal\n",
      "print\"fundamental frequency of the crystal=\",V/10**6,\"MHz\""
     ],
     "language": "python",
     "metadata": {},
     "outputs": [
      {
       "output_type": "stream",
       "stream": "stdout",
       "text": [
        "fundamental frequency of the crystal= 2.88 MHz\n"
       ]
      }
     ],
     "prompt_number": 1
    },
    {
     "cell_type": "heading",
     "level": 2,
     "metadata": {},
     "source": [
      "Eg2:pg-177"
     ]
    },
    {
     "cell_type": "code",
     "collapsed": false,
     "input": [
      "Y=7.9*10**10 #Young's modulus in newton/m**2\n",
      "p=2650       #density for Quartz in Kg/m**3\n",
      "t=0.005      #thickness of a Quartz crystal in meter\n",
      "v=sqrt(Y/p)  #velocity for longitudinal vibrations in m/sec\n",
      "lamda=2*t #wavelength in meter(since t=lamda/2 corresponding to fundamental frequency)\n",
      "V=v/lamda #fundamental frequency of the crystal\n",
      "print\"fundamental frequency of the crystal=\",int(round(V/10**3)),\"KHz\""
     ],
     "language": "python",
     "metadata": {},
     "outputs": [
      {
       "output_type": "stream",
       "stream": "stdout",
       "text": [
        "fundamental frequency of the crystal= 546 KHz\n"
       ]
      }
     ],
     "prompt_number": 5
    },
    {
     "cell_type": "heading",
     "level": 2,
     "metadata": {},
     "source": [
      "Eg3:pg-177"
     ]
    },
    {
     "cell_type": "code",
     "collapsed": false,
     "input": [
      "f=200.*10**3 #frequency of ultrasonic sound in Hz\n",
      "S_a=340      #speed of sound in air in m/s\n",
      "S_w=1486     #speed of sound in water in m/s\n",
      "lamda_r=S_a/f#wavelength of reflected sound in metre\n",
      "print\"Wavelength of reflected sound=\",\"{:.2e}\".format(lamda_r),\"m\"\n",
      "lamda_t=S_w/f#wavelength of transmitted sound in metre\n",
      "print\"Wavelength of transmitted sound=\",\"{:.2e}\".format(lamda_t),\"m\""
     ],
     "language": "python",
     "metadata": {},
     "outputs": [
      {
       "output_type": "stream",
       "stream": "stdout",
       "text": [
        "Wavelength of reflected sound= 1.70e-03 m\n",
        "Wavelength of transmitted sound= 7.43e-03 m\n"
       ]
      }
     ],
     "prompt_number": 4
    },
    {
     "cell_type": "code",
     "collapsed": false,
     "input": [],
     "language": "python",
     "metadata": {},
     "outputs": []
    }
   ],
   "metadata": {}
  }
 ]
}