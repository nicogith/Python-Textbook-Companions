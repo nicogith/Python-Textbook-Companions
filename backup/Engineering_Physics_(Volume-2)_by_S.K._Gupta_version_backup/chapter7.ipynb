{
 "metadata": {
  "name": "",
  "signature": "sha256:145edbfaabde16eb44fa3dc5f3d7e002b74573834c4739b553449ef2b9fabc14"
 },
 "nbformat": 3,
 "nbformat_minor": 0,
 "worksheets": [
  {
   "cells": [
    {
     "cell_type": "heading",
     "level": 1,
     "metadata": {},
     "source": [
      "Chapter7:SUPERCONDUCTIVITY"
     ]
    },
    {
     "cell_type": "heading",
     "level": 2,
     "metadata": {},
     "source": [
      "Eg1:pg-272"
     ]
    },
    {
     "cell_type": "code",
     "collapsed": false,
     "input": [
      "Tc=3.7      #critical temperature in K\n",
      "Hc_0=0.0306 #critical magnetic field in Tesla at 0K\n",
      "T=2         #temperature in K\n",
      "Hc=Hc_0*(1-(T/Tc)**2)\n",
      "print\"Critical field at 2 K is \",round(Hc,4),\"Tesla\""
     ],
     "language": "python",
     "metadata": {},
     "outputs": [
      {
       "output_type": "stream",
       "stream": "stdout",
       "text": [
        "Critical field at 2 K is  0.0217 Tesla\n"
       ]
      }
     ],
     "prompt_number": 1
    },
    {
     "cell_type": "heading",
     "level": 2,
     "metadata": {},
     "source": [
      "Eg2:pg-272"
     ]
    },
    {
     "cell_type": "code",
     "collapsed": false,
     "input": [
      "Tc=7.2     #transition temperature in K\n",
      "T=5        #temperature in K\n",
      "Hc_T=3.3e4 #critical magnetic field at 5K in A/m\n",
      "Hc_0=Hc_T/(1-(T/Tc)**2)\n",
      "print\"Maximum value of H at 0 K is \",\"{:.2e}\".format(Hc_0),\"A/m\""
     ],
     "language": "python",
     "metadata": {},
     "outputs": [
      {
       "output_type": "stream",
       "stream": "stdout",
       "text": [
        "Maximum value of H at 0 K is  6.37e+04 A/m\n"
       ]
      }
     ],
     "prompt_number": 2
    },
    {
     "cell_type": "heading",
     "level": 2,
     "metadata": {},
     "source": [
      "Eg3:pg-273"
     ]
    },
    {
     "cell_type": "code",
     "collapsed": false,
     "input": [
      "Tc=7.2  #critical temperature in K\n",
      "Hc_0=1  #let,critical magnetic field at 0K\n",
      "Hc_T=0.1*Hc_0 #critical magnetic field at T Kelvin\n",
      "T=sqrt(1-Hc_T/Hc_0)*Tc\n",
      "print\"Temperature is \",round(T,2),\"K\""
     ],
     "language": "python",
     "metadata": {},
     "outputs": [
      {
       "output_type": "stream",
       "stream": "stdout",
       "text": [
        "Temperature is  6.83 K\n"
       ]
      }
     ],
     "prompt_number": 3
    },
    {
     "cell_type": "heading",
     "level": 2,
     "metadata": {},
     "source": [
      "Eg4:pg-273"
     ]
    },
    {
     "cell_type": "code",
     "collapsed": false,
     "input": [
      "T=4.2        #temperature in K\n",
      "Hc_0=0.0803  #critical magnetic field at 0K in Wb/m**2\n",
      "Tc=7.2       #critical temperature for Pb in K\n",
      "Hc_T=Hc_0*(1-(T/Tc)**2)\n",
      "print\"Critical field at 4.2 K is \",round(Hc_T,5),\"Tesla\"#answer is wrong in book"
     ],
     "language": "python",
     "metadata": {},
     "outputs": [
      {
       "output_type": "stream",
       "stream": "stdout",
       "text": [
        "Critical field at 4.2 K is  0.05298 Tesla\n"
       ]
      }
     ],
     "prompt_number": 4
    },
    {
     "cell_type": "heading",
     "level": 2,
     "metadata": {},
     "source": [
      "Eg5:pg-273"
     ]
    },
    {
     "cell_type": "code",
     "collapsed": false,
     "input": [
      "Hc_T=105e3 #critical magnetic field at T Kelvin in A/m\n",
      "Hc_0=150e3 #critical magnetic field at 0K in A/m\n",
      "Tc=9.2     #critical temperature in K\n",
      "T=sqrt(1-Hc_T/Hc_0)*Tc\n",
      "print\"Temperature is \",round(T,2),\"K\""
     ],
     "language": "python",
     "metadata": {},
     "outputs": [
      {
       "output_type": "stream",
       "stream": "stdout",
       "text": [
        "Temperature is  5.04 K\n"
       ]
      }
     ],
     "prompt_number": 5
    },
    {
     "cell_type": "heading",
     "level": 2,
     "metadata": {},
     "source": [
      "Eg6:pg-274"
     ]
    },
    {
     "cell_type": "code",
     "collapsed": false,
     "input": [
      "Hc_T=1e5  #critical magnetic field at 8K in A/m\n",
      "T=8       #temperature in K\n",
      "Hc_0=2e5  #critical magnetic field at 0K in A/m\n",
      "Tc=T/sqrt(1-Hc_T/Hc_0)\n",
      "print\"Transition temperature is \",round(Tc,1),\"K\""
     ],
     "language": "python",
     "metadata": {},
     "outputs": [
      {
       "output_type": "stream",
       "stream": "stdout",
       "text": [
        "Transition temperature is  11.3 K\n"
       ]
      }
     ],
     "prompt_number": 1
    },
    {
     "cell_type": "heading",
     "level": 2,
     "metadata": {},
     "source": [
      "Eg7:pg-274"
     ]
    },
    {
     "cell_type": "code",
     "collapsed": false,
     "input": [
      "Tc=7.26   #critical temperature in K\n",
      "Hc_0=8e5  #critical magnetic field at 0K in A/m\n",
      "Hc_T=4e4  #critical magnetic field at T kelvin in A/m\n",
      "T=sqrt(1-Hc_T/Hc_0)*Tc\n",
      "print\"T =\",round(T,2),\"K\",\"\\nThe temperature of the metal should be held below\",round(T,2),\"K\" "
     ],
     "language": "python",
     "metadata": {},
     "outputs": [
      {
       "output_type": "stream",
       "stream": "stdout",
       "text": [
        "T = 7.08 K \n",
        "The temperature of the metal should be held below 7.08 K\n"
       ]
      }
     ],
     "prompt_number": 7
    },
    {
     "cell_type": "heading",
     "level": 2,
     "metadata": {},
     "source": [
      "Eg8:pg-275"
     ]
    },
    {
     "cell_type": "code",
     "collapsed": false,
     "input": [
      "T1=14       #temperature in K\n",
      "T2=12       #temperature in K\n",
      "T=4.2       #temperature in K\n",
      "Hc_T1=0.176 #critical magnetic field at temperature T1\n",
      "Hc_T2=0.528 #critical magnetic field at temperature T2\n",
      "Tc=sqrt((Hc_T2*T1**2-Hc_T1*T2**2)/(Hc_T2-Hc_T1))\n",
      "Tc=int(Tc*10)/10. #rounding off\n",
      "Hc_0=Hc_T1/(1-(T1/Tc)**2)\n",
      "Hc_T=Hc_0*(1-(T/Tc)**2)\n",
      "print\"Transition temperature is \",Tc,\"K\"\n",
      "print\"Critical field at 0 K is \",round(Hc_0,3),\"Tesla\"\n",
      "print\"Critical field at 4.2 K is \",round(Hc_T,2),\"Tesla\"\n",
      "#answers in book are wrong because value of T2 is taken as 13K in calculation which is wrong."
     ],
     "language": "python",
     "metadata": {},
     "outputs": [
      {
       "output_type": "stream",
       "stream": "stdout",
       "text": [
        "Transition temperature is  14.8 K\n",
        "Critical field at 0 K is  1.673 Tesla\n",
        "Critical field at 4.2 K is  1.54 Tesla\n"
       ]
      }
     ],
     "prompt_number": 9
    },
    {
     "cell_type": "heading",
     "level": 2,
     "metadata": {},
     "source": [
      "Eg9:pg-275"
     ]
    },
    {
     "cell_type": "code",
     "collapsed": false,
     "input": [
      "D=1.0      #diameter of Pb wire in mm\n",
      "Bc=0.0548  #in Tesla\n",
      "mu_0=4*math.pi*1e-7 #absolute permeability of air in N/A**2\n",
      "Ic=math.pi*D*1e-3*Bc/mu_0\n",
      "print\"Current is \",int(Ic),\"amp\""
     ],
     "language": "python",
     "metadata": {},
     "outputs": [
      {
       "output_type": "stream",
       "stream": "stdout",
       "text": [
        "Current is  137 amp\n"
       ]
      }
     ],
     "prompt_number": 10
    },
    {
     "cell_type": "heading",
     "level": 2,
     "metadata": {},
     "source": [
      "Eg10:pg-276"
     ]
    },
    {
     "cell_type": "code",
     "collapsed": false,
     "input": [
      "Hc_0=6.5e3   #critical magnetic field at 0K in A/m\n",
      "Tc=7.18      #critical temperature in K\n",
      "Hc_T=4.5e3   #critical magnetic field at T Kelvin in A/m\n",
      "T=sqrt(1-Hc_T/Hc_0)*Tc\n",
      "print\"Temperature is \",round(T,2),\"K\"\n",
      "D=2          #diameter of the lead wire in mm\n",
      "r=D/2          \n",
      "Ic=2*math.pi*r*1e-3*Hc_T\n",
      "Jc=Ic/(math.pi*(r*1e-3)**2)\n",
      "print\"Critical current density is \",\"{:.1e}\".format(Jc),\"A/m**2\""
     ],
     "language": "python",
     "metadata": {},
     "outputs": [
      {
       "output_type": "stream",
       "stream": "stdout",
       "text": [
        "Temperature is  3.98 K\n",
        "Critical current density is  9.0e+06 A/m**2\n"
       ]
      }
     ],
     "prompt_number": 11
    },
    {
     "cell_type": "heading",
     "level": 2,
     "metadata": {},
     "source": [
      "Eg11:pg-281"
     ]
    },
    {
     "cell_type": "code",
     "collapsed": false,
     "input": [
      "T=3.5       #temperature in K\n",
      "lamda_T=750 #penetration depth of Hg at 3.5K in Angstrom\n",
      "Tc=4.153    #critical temperature in K\n",
      "lamda_0=lamda_T*sqrt(round(1-(T/Tc)**4,3))\n",
      "print\"Penetration depth at 0 K is\",round(lamda_0,1),\"Angstrom\"#answer is wrong in book because of calculation mistake  "
     ],
     "language": "python",
     "metadata": {},
     "outputs": [
      {
       "output_type": "stream",
       "stream": "stdout",
       "text": [
        "Penetration depth at 0 K is 528.2 Angstrom\n"
       ]
      }
     ],
     "prompt_number": 12
    },
    {
     "cell_type": "heading",
     "level": 2,
     "metadata": {},
     "source": [
      "Eg12:pg-281"
     ]
    },
    {
     "cell_type": "code",
     "collapsed": false,
     "input": [
      "m=9.1e-31     #mass of electron kg\n",
      "mu_0=12.56e-7 #absolute permeability of air in N/A**2\n",
      "e=1.6e-19     #charge of electron in coulomb\n",
      "ns=1e28       #number of super electrons per meter cube\n",
      "lamda_0=sqrt(m/(mu_0*ns*e**2))\n",
      "lamda_0=round(lamda_0,9)*1e10\n",
      "print\"Penetration depth at 0 K is \",int(lamda_0),\"Angstrom\"\n",
      "Tc=3          #critical temperature in K\n",
      "T=1.          #temperature in K\n",
      "lamda_T=lamda_0/sqrt(1-(T/Tc)**4)\n",
      "print\"Penetration depth at 1 K is \",int(lamda_T),\"Angstrom\"\n",
      "#in book lamda(at 3K) is printed,which is wrong. Correct notation is lamda(at 1K)"
     ],
     "language": "python",
     "metadata": {},
     "outputs": [
      {
       "output_type": "stream",
       "stream": "stdout",
       "text": [
        "Penetration depth at 0 K is  530 Angstrom\n",
        "Penetration depth at 1 K is  533 Angstrom\n"
       ]
      }
     ],
     "prompt_number": 13
    },
    {
     "cell_type": "heading",
     "level": 2,
     "metadata": {},
     "source": [
      "Eg13:pg-286"
     ]
    },
    {
     "cell_type": "code",
     "collapsed": false,
     "input": [
      "Tc=9.25     #critical temperature in K\n",
      "T=0         #temperature in K\n",
      "Kb=1.38e-23 #Boltzmann's constant in J/K\n",
      "Eg=3.53*Kb*Tc/(1.6e-19)\n",
      "h=6.63e-34  #planck constant joule-sec\n",
      "c=3e8       #speed of light in m/sec\n",
      "print\"Energy gap Eg is \",round(Eg*1e3,2),\"meV\"\n",
      "lamda_min=h*c/round(Eg*1.6e-19,23)\n",
      "print\"Minimum photon wavelength is \",\"{:.2e}\".format(lamda_min),\"m\"\n",
      "print\"  This wavelength lie in the far-infrared region of electromagnetic radiations.\"\n",
      "v=round(Eg*1.6e-19,23)/h\n",
      "print\"Frequency needed is \",\"{:.2e}\".format(v),\"s**-1\""
     ],
     "language": "python",
     "metadata": {},
     "outputs": [
      {
       "output_type": "stream",
       "stream": "stdout",
       "text": [
        "Energy gap Eg is  2.82 meV\n",
        "Minimum photon wavelength is  4.42e-04 m\n",
        "  This wavelength lie in the far-infrared region of electromagnetic radiations.\n",
        "Frequency needed is  6.79e+11 s**-1\n"
       ]
      }
     ],
     "prompt_number": 14
    },
    {
     "cell_type": "heading",
     "level": 2,
     "metadata": {},
     "source": [
      "Eg14:pg-286"
     ]
    },
    {
     "cell_type": "code",
     "collapsed": false,
     "input": [
      "M=200.59  #average atomic mass of Hg in amu\n",
      "m=204     #mass of isotope in amu\n",
      "T=4.153   #temperature in K\n",
      "t=4.118   #temperature in K\n",
      "dM=m-M\n",
      "dTc=t-T\n",
      "alpha=-(M*dTc/(dM*T))\n",
      "print\"Isotope effect coefficient is \",round(alpha,3)"
     ],
     "language": "python",
     "metadata": {},
     "outputs": [
      {
       "output_type": "stream",
       "stream": "stdout",
       "text": [
        "Isotope effect coefficient is  0.496\n"
       ]
      }
     ],
     "prompt_number": 16
    },
    {
     "cell_type": "code",
     "collapsed": false,
     "input": [],
     "language": "python",
     "metadata": {},
     "outputs": []
    }
   ],
   "metadata": {}
  }
 ]
}