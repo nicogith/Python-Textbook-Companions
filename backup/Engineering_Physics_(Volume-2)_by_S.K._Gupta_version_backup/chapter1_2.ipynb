{
 "metadata": {
  "name": "",
  "signature": "sha256:77926a328b2a3cbd7d962f407c81543826ca86a4cf2545ea94614bd858a6328b"
 },
 "nbformat": 3,
 "nbformat_minor": 0,
 "worksheets": [
  {
   "cells": [
    {
     "cell_type": "heading",
     "level": 1,
     "metadata": {},
     "source": [
      "Chapter1:WAVE MECHANICS"
     ]
    },
    {
     "cell_type": "heading",
     "level": 2,
     "metadata": {},
     "source": [
      "Eg1:pg-12"
     ]
    },
    {
     "cell_type": "code",
     "collapsed": false,
     "input": [
      "h=6.62*10**-34   #planck constant in joule-sec\n",
      "m=9.1*10**-31    #mass of electron in kg\n",
      "q=1.6*10**-19    #charge of electron in coulombs\n",
      "#V energy of electron in eV\n",
      "lamda=round(((h/sqrt(2*m*q))*10**10),2) \n",
      "print\"de-Broglie wavelength for an electron of energy V ev is= %s/sqrt(V) Angstrom\"%lamda"
     ],
     "language": "python",
     "metadata": {},
     "outputs": [
      {
       "output_type": "stream",
       "stream": "stdout",
       "text": [
        "de-Broglie wavelength for an electron of energy V ev is= 12.27/sqrt(V) Angstrom\n"
       ]
      }
     ],
     "prompt_number": 1
    },
    {
     "cell_type": "heading",
     "level": 2,
     "metadata": {},
     "source": [
      "Eg2:pg-12"
     ]
    },
    {
     "cell_type": "code",
     "collapsed": false,
     "input": [
      "import math\n",
      "h=6.63*10**-34   #planck constant in joule-sec\n",
      "m=9.1*10**-31    #mass of electron in kg\n",
      "q=1.6*10**-19    #charge of electron in coulombs\n",
      "V=50.            #potential difference in volts(given)\n",
      "lamda=int(((h/sqrt(2*m*q))*10**10)*1e2)*1e-2/sqrt(V)   #lamda=h/sqrt(2mE)=h/sqrt(2mqV)\n",
      "print\"de-Broglie wavelength = \", round(lamda,4),\"Angstrom\"     "
     ],
     "language": "python",
     "metadata": {},
     "outputs": [
      {
       "output_type": "stream",
       "stream": "stdout",
       "text": [
        "de-Broglie wavelength =  1.7367 Angstrom\n"
       ]
      }
     ],
     "prompt_number": 2
    },
    {
     "cell_type": "heading",
     "level": 2,
     "metadata": {},
     "source": [
      "Eg3:pg-12"
     ]
    },
    {
     "cell_type": "code",
     "collapsed": false,
     "input": [
      "import math\n",
      "h=6.62*10**-34   #planck constant in joule-sec\n",
      "m=9.1*10**-31    #mass of electron in kg\n",
      "q=1.6*10**-19    #charge of electron in coulombs\n",
      "V=100.           #potential difference in volts(given)\n",
      "E=q*V\n",
      "lamda=round(((h/sqrt(2*m*q))*10**10),2)/sqrt(V)   #lamda=h/sqrt(2mE)=h/sqrt(2mqV)\n",
      "print\"de-Broglie wavelength =\",round(lamda,3),\"Angstrom\""
     ],
     "language": "python",
     "metadata": {},
     "outputs": [
      {
       "output_type": "stream",
       "stream": "stdout",
       "text": [
        "de-Broglie wavelength = 1.227 Angstrom\n"
       ]
      }
     ],
     "prompt_number": 3
    },
    {
     "cell_type": "heading",
     "level": 2,
     "metadata": {},
     "source": [
      "Eg4:pg-12"
     ]
    },
    {
     "cell_type": "code",
     "collapsed": false,
     "input": [
      "h=6.6*10**-34    #planck constant in joule-sec\n",
      "m=9.0*10**-31    #mass of electron in kg\n",
      "KE=(15*10**3)*(1.6*10**-19) #Kinetic Energy of electron in joule\n",
      "v=sqrt((2*KE)/m) #KE=1/2(mv**2) joule\n",
      "p=m*v            #momentum of electron in Kg-m/sec\n",
      "lamda=h/p        #de-broglie wavelength\n",
      "print\"de-Broglie wavelength is=\",round(lamda*10**10,1),\"Angstrom\""
     ],
     "language": "python",
     "metadata": {},
     "outputs": [
      {
       "output_type": "stream",
       "stream": "stdout",
       "text": [
        "de-Broglie wavelength is= 0.1 Angstrom\n"
       ]
      }
     ],
     "prompt_number": 4
    },
    {
     "cell_type": "heading",
     "level": 2,
     "metadata": {},
     "source": [
      "Eg5:pg-13"
     ]
    },
    {
     "cell_type": "code",
     "collapsed": false,
     "input": [
      "h=6.62*10**-34   #planck constant in joule-sec\n",
      "m=1.67*10**-27   #mass of neutron in Kg\n",
      "lamda=10**-10    #de-broglie wavelength in meter(given)\n",
      "v=h/(m*lamda)    #since lamda=h/mv \n",
      "KE=(1./2)*m*v**2 #in joule\n",
      "KE=KE/(1.6*10**-19) #in eV\n",
      "print\"Velocity of neutron is= %.2e m/sec\"%v\n",
      "print\"Kinetic Energy of Neutron is= \",round(KE,3),\"eV\""
     ],
     "language": "python",
     "metadata": {},
     "outputs": [
      {
       "output_type": "stream",
       "stream": "stdout",
       "text": [
        "Velocity of neutron is= 3.96e+03 m/sec\n",
        "Kinetic Energy of Neutron is=  0.082 eV\n"
       ]
      }
     ],
     "prompt_number": 5
    },
    {
     "cell_type": "heading",
     "level": 2,
     "metadata": {},
     "source": [
      "Eg6:pg-13"
     ]
    },
    {
     "cell_type": "code",
     "collapsed": false,
     "input": [
      "h=6.6*10**-34    #planck constant in joule-sec\n",
      "m=9.1*10**-31    #mass of electron in kg\n",
      "q=1.6*10**-19    #charge of electron in coulombs\n",
      "E=(1.25*10**3)*(1.6*10**-19) #Kinetic energy in joule\n",
      "lamda=h/sqrt(2*m*E)\n",
      "print\"wavelength is =\",\"{:.2e}\".format(lamda),\"m\""
     ],
     "language": "python",
     "metadata": {},
     "outputs": [
      {
       "output_type": "stream",
       "stream": "stdout",
       "text": [
        "wavelength is = 3.46e-11 m\n"
       ]
      }
     ],
     "prompt_number": 6
    },
    {
     "cell_type": "heading",
     "level": 2,
     "metadata": {},
     "source": [
      "Eg7:pg-13"
     ]
    },
    {
     "cell_type": "code",
     "collapsed": false,
     "input": [
      "h=6.63*10**-34     #planck constant in joule-sec\n",
      "mo=1.67*10**-27    #mass of proton in Kg\n",
      "v=2.0*10**8        #speed of proton in m/sec\n",
      "c=3*10**8          #speed of light in m/sec\n",
      "p=(mo*v)/sqrt(1-(v/c)**2) #momentum of proton\n",
      "lamda=h/p\n",
      "print\"wavelength is =\",\"{:.2e}\".format(lamda*10**10),\"Angstrom\""
     ],
     "language": "python",
     "metadata": {},
     "outputs": [
      {
       "output_type": "stream",
       "stream": "stdout",
       "text": [
        "wavelength is = 1.48e-05 Angstrom\n"
       ]
      }
     ],
     "prompt_number": 7
    },
    {
     "cell_type": "heading",
     "level": 2,
     "metadata": {},
     "source": [
      "Eg8:pg-14"
     ]
    },
    {
     "cell_type": "code",
     "collapsed": false,
     "input": [
      "h=6.62*10**-34   #planck constant in joule-sec\n",
      "mp=1.67*10**-27  #mass of proton in Kg\n",
      "c=3*10**8        #speed of light in m/sec\n",
      "v=c/20           #speed of proton in m/sec\n",
      "lamda=h/(mp*v)\n",
      "print\"de-Broglie wavelength =\",\"{:.3e}\".format(lamda),\"m\""
     ],
     "language": "python",
     "metadata": {},
     "outputs": [
      {
       "output_type": "stream",
       "stream": "stdout",
       "text": [
        "de-Broglie wavelength = 2.643e-14 m\n"
       ]
      }
     ],
     "prompt_number": 8
    },
    {
     "cell_type": "heading",
     "level": 2,
     "metadata": {},
     "source": [
      "Eg9:pg-14"
     ]
    },
    {
     "cell_type": "code",
     "collapsed": false,
     "input": [
      "h=6.62*10**-34   #planck constant in joule-sec\n",
      "m=9.1*10**-31    #mass of electron in kg\n",
      "c=3*10**8        #speed of light in m/sec\n",
      "lamda=2.0*10**-10#wavelength of electron and photon in meter\n",
      "#(a) momenta\n",
      "Pe=h/lamda       #momentum of electron in Kg-m/s\n",
      "Pp=h/lamda       #momentum of photon in kg-m/s\n",
      "print\"(a)Since wavelength of photon is same as that of an electron, therefore their moments is also same   i.e \",Pe,\"Kg-m/s\"\n",
      "\n",
      "#(b) total energies\n",
      "me=mo=m\n",
      "KE=(Pe**2)/(2*me)   #Kinetic energy of electron in joule\n",
      "Re=mo*c**2          #rest energy of electron in joule\n",
      "Re=Re/(1.6*10**-19) #in eV\n",
      "Ee=Re/10**6 #total energy of electron in Mev(since K.E. of electron is negligible compared to its rest energy so total energy is equal to the rest energy)                  \n",
      "Ep=Pp*c #total energy of photon in joule(since rest energy of photon is zero so its total energy is same as its K.E.)       \n",
      "Ep=(Ep/(1.6*10**-19))*10**-3 #in KeV\n",
      "print\"(b)Total energy of electron is\",round(Ee,2),\"MeV\",\"\\n   Total energy of photon is\",round(Ep,2),\"KeV\"\n",
      "\n",
      "#(c) ratio of kinetic energies\n",
      "Ke=round((KE/(1.6*10**-19)),1)#Kinetic energy of electron in eV\n",
      "Kp=round(Ep,2)*(10**3)  #Kinetic energy of photon in eV\n",
      "ratio=Ke/Kp\n",
      "print\"(c)Ratio of kinetic energies=\",\"{:.2e}\".format(ratio)"
     ],
     "language": "python",
     "metadata": {},
     "outputs": [
      {
       "output_type": "stream",
       "stream": "stdout",
       "text": [
        "(a)Since wavelength of photon is same as that of an electron, therefore their moments is also same   i.e  3.31e-24 Kg-m/s\n",
        "(b)Total energy of electron is 0.51 MeV \n",
        "   Total energy of photon is 6.21 KeV\n",
        "(c)Ratio of kinetic energies= 6.05e-03\n"
       ]
      }
     ],
     "prompt_number": 9
    },
    {
     "cell_type": "heading",
     "level": 2,
     "metadata": {},
     "source": [
      "Eg10:pg-15"
     ]
    },
    {
     "cell_type": "code",
     "collapsed": false,
     "input": [
      "h=6.62*10**-34   #planck constant in joule-sec\n",
      "m=1.67*10**-27   #mass of neutron in Kg\n",
      "c=3*10**8        #speed of light in m/sec\n",
      "E=28.8           #Kinetic energy of neutron in eV(given)\n",
      "E=28.8*1.6*(10**-19)#in joule\n",
      "Rn=m*c**2        #Rest mass energy of neutron in joule\n",
      "Rn=(Rn/(1.6*10**-19))/10**6 #in MeV\n",
      "#since Kinetic energy of neutron under consideration is very small compared to its rest mass energy,the relativistic consideration may be ignored.   \n",
      "lamda=h/sqrt(2*m*E)\n",
      "print\"de-Broglie wavelength=\",round(lamda*10**10,5),\"Angstrom\""
     ],
     "language": "python",
     "metadata": {},
     "outputs": [
      {
       "output_type": "stream",
       "stream": "stdout",
       "text": [
        "de-Broglie wavelength= 0.05336 Angstrom\n"
       ]
      }
     ],
     "prompt_number": 10
    },
    {
     "cell_type": "heading",
     "level": 2,
     "metadata": {},
     "source": [
      "Eg11:pg-15"
     ]
    },
    {
     "cell_type": "code",
     "collapsed": false,
     "input": [
      "h=6.63*10**-34    #planck constant in joule-sec\n",
      "m=4*1.67*10**-27  #mass of alpha particle Kg=4*mass of proton\n",
      "q=2*1.6*10**-19   #for alpha particle q=2*e coulomb\n",
      "V=200             #potential difference in volts \n",
      "lamda=h/sqrt(2*m*q*V)\n",
      "print\"de-Broglie wavelength=\",round(lamda*10**10,5),\"Angstrom\""
     ],
     "language": "python",
     "metadata": {},
     "outputs": [
      {
       "output_type": "stream",
       "stream": "stdout",
       "text": [
        "de-Broglie wavelength= 0.00717 Angstrom\n"
       ]
      }
     ],
     "prompt_number": 11
    },
    {
     "cell_type": "heading",
     "level": 2,
     "metadata": {},
     "source": [
      "Eg12:pg-15"
     ]
    },
    {
     "cell_type": "code",
     "collapsed": false,
     "input": [
      "h=6.63*10**-34    #planck constant in joule-sec\n",
      "m=9.1*10**-31     #mass of electron in kg\n",
      "mo=m              #for velocity much less than the velocity of light, m=mo\n",
      "#(a)wavelength for a ball of mass 1.0Kg and v=1.0m/s\n",
      "v=1.0       #speed of ball in m/sec\n",
      "mass=1.0    #mass of ball in Kg\n",
      "lamda=h/(mass*v)\n",
      "print\"de-Broglie wavelength for a ball of mass 1.0Kg and v=1.0m/s =\",\"{:.2e}\".format(lamda*10**10),\"Angstrom\"\n",
      "\n",
      "#(b)wavelength for an electron of mass 9.1*10**-31 Kg and v=10**6 m/sec\n",
      "v=10**6    #speed of electron in m/sec\n",
      "lamda=h/(mo*v)\n",
      "print\"de-Broglie wavelength for an electron of mass 9.1*10**-31Kg and v=10**6m/sec =\",round(lamda*10**10,2),\"Angstrom\""
     ],
     "language": "python",
     "metadata": {},
     "outputs": [
      {
       "output_type": "stream",
       "stream": "stdout",
       "text": [
        "de-Broglie wavelength for a ball of mass 1.0Kg and v=1.0m/s = 6.63e-24 Angstrom\n",
        "de-Broglie wavelength for an electron of mass 9.1*10**-31Kg and v=10**6m/sec = 7.29 Angstrom\n"
       ]
      }
     ],
     "prompt_number": 12
    },
    {
     "cell_type": "heading",
     "level": 2,
     "metadata": {},
     "source": [
      "Eg13:pg-16"
     ]
    },
    {
     "cell_type": "code",
     "collapsed": false,
     "input": [
      "h=6.63*10**-34   #planck constant in joule-sec\n",
      "m=1.67*10**-27   #mass of neutron in Kg\n",
      "c=3*10**8        #speed of light in m/sec\n",
      "E=1.             #Kinetic energy of neutron in eV\n",
      "Rn=m*c**2        #rest mass energy of neutron in joule\n",
      "Rn=(Rn/(1.6*10**-19))/10**6 #in MeV\n",
      "#Kinetic energy of given neutron 1eV is very small as compared to its rest mass energy,therefore the relativistic consideration may be ignored       \n",
      "E=1*1.6*10**-19  #in joule\n",
      "lamda=h/sqrt(2*m*E)\n",
      "print\"de-Broglie wavelength=\",round(lamda*10**10,3),\"Angstrom\""
     ],
     "language": "python",
     "metadata": {},
     "outputs": [
      {
       "output_type": "stream",
       "stream": "stdout",
       "text": [
        "de-Broglie wavelength= 0.287 Angstrom\n"
       ]
      }
     ],
     "prompt_number": 13
    },
    {
     "cell_type": "heading",
     "level": 2,
     "metadata": {},
     "source": [
      "Eg14:pg-16"
     ]
    },
    {
     "cell_type": "code",
     "collapsed": false,
     "input": [
      "h=6.62*10**-34    #planck constant in joule-sec\n",
      "m=1.675*10**-27   #mass of neutron in Kg\n",
      "c=3*10**8         #speed of light in m/sec\n",
      "E=12.8            #energy of neutron in MeV\n",
      "Rn=m*c**2         #rest mass energy of neutron in joule\n",
      "Rn=(Rn/(1.6*10**-19))/10**6 # in MeV\n",
      "#since the given energy 12.8MeV is very small as compared to the rest mass energy,therefore the relativistic consideration may be ignored   \n",
      "E=E*(10**6)*(1.6*10**-19)    # in eV\n",
      "lamda=h/sqrt(2*m*E)\n",
      "print\"de-Broglie wavelength=\",\"{:.1e}\".format(lamda*10**10),\"Angstrom\""
     ],
     "language": "python",
     "metadata": {},
     "outputs": [
      {
       "output_type": "stream",
       "stream": "stdout",
       "text": [
        "de-Broglie wavelength= 8.0e-05 Angstrom\n"
       ]
      }
     ],
     "prompt_number": 14
    },
    {
     "cell_type": "heading",
     "level": 2,
     "metadata": {},
     "source": [
      "Eg15:pg-17"
     ]
    },
    {
     "cell_type": "code",
     "collapsed": false,
     "input": [
      "h=6.6*10**-34    #planck constant joule-sec\n",
      "m=9.1*10**-31    #mass of electron kg\n",
      "e=1.6*10**-19    #charge of electron in coulomb\n",
      "lamda=0.40*10**-10#wavelength in meter\n",
      "V=(h**2)/round(((lamda**2)*2*m*e),72)#lamda=h/sqrt(2mE)=h/sqrt(2meV)\n",
      "print\"applied voltage=\",round(V,2),\"Volt\" "
     ],
     "language": "python",
     "metadata": {},
     "outputs": [
      {
       "output_type": "stream",
       "stream": "stdout",
       "text": [
        "applied voltage= 934.76 Volt\n"
       ]
      }
     ],
     "prompt_number": 15
    },
    {
     "cell_type": "heading",
     "level": 2,
     "metadata": {},
     "source": [
      "Eg17:pg-17"
     ]
    },
    {
     "cell_type": "code",
     "collapsed": false,
     "input": [
      "h=6.6*10**-34    #planck constant in joule-sec\n",
      "m=1.67*10**-27   #mass of neutron in Kg\n",
      "K=8.6*10**-5     #Boltzmann constant in eV/degree\n",
      "K=K*1.6*10**-19  #in J/K\n",
      "T=27+273         #temperature in Kelvin\n",
      "E=K*T            #energy of particle\n",
      "lamda=h/round(sqrt(2*m*E),26)\n",
      "print\"wavelength=\",round(lamda*10**10,3),\"Angstrom\""
     ],
     "language": "python",
     "metadata": {},
     "outputs": [
      {
       "output_type": "stream",
       "stream": "stdout",
       "text": [
        "wavelength= 1.779 Angstrom\n"
       ]
      }
     ],
     "prompt_number": 16
    },
    {
     "cell_type": "heading",
     "level": 2,
     "metadata": {},
     "source": [
      "Eg18:pg-18"
     ]
    },
    {
     "cell_type": "code",
     "collapsed": false,
     "input": [
      "h=6.62*10**-34    #planck constant in joule-sec\n",
      "m=4.65*10**-26    #mass of nitrogen atom in Kg\n",
      "T=27+273          #Temperature in Kelvin\n",
      "K=1.38*10**-23    #Boltzmann constant in J/K\n",
      "E=(3./2)*K*T      #for nitrogen atom E=(3/2)*K*T\n",
      "lamda=h/sqrt(2*m*E) \n",
      "print\"de-Broglie wavelength=\",round(lamda*10**10,4),\"Angstrom\""
     ],
     "language": "python",
     "metadata": {},
     "outputs": [
      {
       "output_type": "stream",
       "stream": "stdout",
       "text": [
        "de-Broglie wavelength= 0.2755 Angstrom\n"
       ]
      }
     ],
     "prompt_number": 17
    },
    {
     "cell_type": "heading",
     "level": 2,
     "metadata": {},
     "source": [
      "Eg19:pg-18"
     ]
    },
    {
     "cell_type": "code",
     "collapsed": false,
     "input": [
      "h=6.62*10**-34    #planck constant in joule-sec\n",
      "m=6.7*10**-27     #mass of helium atom in Kg\n",
      "K=1.38*10**-23    #Boltzmann constant in J/K\n",
      "T=400             #Temperature in Kelvin\n",
      "E=(3./2)*K*T      #for helium atom E=(3/2)*K*T\n",
      "lamda=h/sqrt(2*m*E)\n",
      "print\"de-Broglie wavelength=\",round(lamda*10**10,3),\"Angstrom\""
     ],
     "language": "python",
     "metadata": {},
     "outputs": [
      {
       "output_type": "stream",
       "stream": "stdout",
       "text": [
        "de-Broglie wavelength= 0.628 Angstrom\n"
       ]
      }
     ],
     "prompt_number": 18
    },
    {
     "cell_type": "heading",
     "level": 2,
     "metadata": {},
     "source": [
      "Eg20:pg-18"
     ]
    },
    {
     "cell_type": "code",
     "collapsed": false,
     "input": [
      "E=100*1.6*10**-19  #kinetic energy of electron in joule\n",
      "m=9.0*10**-31      #mass of electron in Kg\n",
      "h=6.62*10**-34     #planck constant joule-sec\n",
      "D=20               #distance of screen from foil in cm\n",
      "diameter=2.44      #diameter of ring in cm\n",
      "r=diameter/2       #radius of ring in cm\n",
      "lamda=h/sqrt(2*m*E)\n",
      "tan_theta=r/D\n",
      "#for small value of theta tan(theta)=sin(theta)\n",
      "#According to Bragg's law, 2d(sin(theta))=n*lamda\n",
      "n=1\n",
      "sin_theta=tan_theta\n",
      "d=(n*lamda)/(2*sin_theta)\n",
      "print\"spacing of the related lattice planes in the metal=\",round(d*10**10,2),\"Angstrom\""
     ],
     "language": "python",
     "metadata": {},
     "outputs": [
      {
       "output_type": "stream",
       "stream": "stdout",
       "text": [
        "spacing of the related lattice planes in the metal= 10.11 Angstrom\n"
       ]
      }
     ],
     "prompt_number": 19
    },
    {
     "cell_type": "heading",
     "level": 2,
     "metadata": {},
     "source": [
      "Eg21:pg-19"
     ]
    },
    {
     "cell_type": "code",
     "collapsed": false,
     "input": [
      "import math\n",
      "r=0.53*10**-10  #radius of first Bohr orbit in hydrogen atom in Meter\n",
      "h=6.6*10**-34   #planck constant in joule-sec\n",
      "m=9.1*10**-31   #mass of electron in Kg\n",
      "lamda=2*math.pi*r#since 2*pi*r=n*lamda where n=1 for the first Bohr orbit, So lamda=2*pi*r=h/(m*v)\n",
      "v=h/(lamda*m)\n",
      "print\"velocity of electron=\",\"{:.2e}\".format(v),\"m/s\""
     ],
     "language": "python",
     "metadata": {},
     "outputs": [
      {
       "output_type": "stream",
       "stream": "stdout",
       "text": [
        "velocity of electron= 2.18e+06 m/s\n"
       ]
      }
     ],
     "prompt_number": 20
    },
    {
     "cell_type": "heading",
     "level": 2,
     "metadata": {},
     "source": [
      "Eg22:pg-19"
     ]
    },
    {
     "cell_type": "code",
     "collapsed": false,
     "input": [
      "h=6.63*10**-34   #planck constant in joule-sec\n",
      "mo=9.1*10**-31   #rest mass of electron in Kg\n",
      "lamda=5896*10**-10#wavelength in meter\n",
      "#Since lamda=h/(mo*v) and Kinetic energy=(1/2)*mo*v**2 \n",
      "#therefore on putting v=h/(mo*lamda) in equation of Kinetic energy\n",
      "K=((h/lamda)**2)/(2*mo)  #kinetic energy of electron in joule\n",
      "K=K/(1.6*10**-19)   #in eV\n",
      "print\"Kinetic energy of electron=\",\"{:.2e}\".format(K),\"eV\""
     ],
     "language": "python",
     "metadata": {},
     "outputs": [
      {
       "output_type": "stream",
       "stream": "stdout",
       "text": [
        "Kinetic energy of electron= 4.34e-06 eV\n"
       ]
      }
     ],
     "prompt_number": 21
    },
    {
     "cell_type": "heading",
     "level": 2,
     "metadata": {},
     "source": [
      "Eg23:pg-20"
     ]
    },
    {
     "cell_type": "code",
     "collapsed": false,
     "input": [
      "h=6.63*10**-34    #planck constant in joule-sec\n",
      "mo=1.67*10**-27   #rest mass of neutron in Kg\n",
      "lamda=10**-10     #de-broglie wavelength in meter\n",
      "v=h/(mo*lamda)    #velocity of neutron in m/s (since lamda=h/(mo*v))\n",
      "print\"velocity of neutron=\",\"{:.2e}\".format(v),\"m/s\"\n",
      "K=(mo*v**2)/2     #kinetic energy of neutron in joule\n",
      "K=K/(1.6*10**-19) #in eV\n",
      "print\"kinetic energy of neutron=\",round(K,3),\"eV\""
     ],
     "language": "python",
     "metadata": {},
     "outputs": [
      {
       "output_type": "stream",
       "stream": "stdout",
       "text": [
        "velocity of neutron= 3.97e+03 m/s\n",
        "kinetic energy of neutron= 0.082 eV\n"
       ]
      }
     ],
     "prompt_number": 22
    },
    {
     "cell_type": "heading",
     "level": 2,
     "metadata": {},
     "source": [
      "Eg25:pg-21"
     ]
    },
    {
     "cell_type": "code",
     "collapsed": false,
     "input": [
      "h=6.62*10**-34   #planck constant in joule-sec\n",
      "mo=9.1*10**-31   #rest mass of electron in Kg\n",
      "c=3e8            #speed of light in m/sec\n",
      "K=1              #Kinetic energy in MeV\n",
      "Re=(mo*c**2/(1.6*10**-19))/10**6 #rest mass energy of electron in Mev\n",
      "lamda=h*c/sqrt(K*(K+(2*Re)))\n",
      "print\"Wavelength is %.2e Angstrom\"%(lamda*1e10/(1.6e-19*1e6))\n",
      "#answer is wrong in book because of calculation mistake"
     ],
     "language": "python",
     "metadata": {},
     "outputs": [
      {
       "output_type": "stream",
       "stream": "stdout",
       "text": [
        "Wavelength is 8.73e-03 Angstrom\n"
       ]
      }
     ],
     "prompt_number": 23
    },
    {
     "cell_type": "heading",
     "level": 2,
     "metadata": {},
     "source": [
      "Eg26:pg-22"
     ]
    },
    {
     "cell_type": "code",
     "collapsed": false,
     "input": [
      "h=6.63*10**-34    #planck constant in joule-sec\n",
      "mo=9.1*10**-31    #rest mass of electron in Kg(in book it is given wrong in question)\n",
      "c=3*10**8         #speed of light in m/sec\n",
      "\n",
      "#(a)wavelength associated with 1MeV electron\n",
      "K=1              #kinetic energy of electron in MeV\n",
      "Re=(mo*c**2/(1.6*10**-19))/10**6 #rest mass energy of electron in Mev\n",
      "#since given K.E(1MeV)of electron is comparable with its rest mass energy \n",
      "#therefore relativistic variation of mass with velocity is taken in to account\n",
      "d=round(sqrt(K*(K+(2*Re))),2)*1.6*10**-13 #value of sqrt(K*(K+(2*mo*c**2))) in volt\n",
      "lamda=h*c/d\n",
      "print\"wavelength associated with 1MeV electron=\",\"{:.2e}\".format(lamda*10**10),\"Angstrom\"\n",
      "\n",
      "#(b)wavelength associated with 1MeV proton\n",
      "K=1*1.6*10**-13             #kinetic energy of electron in volt\n",
      "mo=1.67*10**-27  #rest mass of proton in Kg\n",
      "Rp=(mo*c**2/(1.6*10**-19))/10**6 #rest mass energy of proton in Mev\n",
      "#since given K.E(1MeV)of proton is much less than its rest mass energy \n",
      "#therefore relativistic effect can be ignored\n",
      "lamda=h/sqrt(2*mo*K)\n",
      "print\"wavelength associated with 1MeV proton=\",\"{:.2e}\".format(lamda*10**10),\"Angstrom\"\n",
      "\n",
      "#(c)wavelength associated with 1MeV photon\n",
      "#since rest mass of photon is zero so its rest mass energy is also zero\n",
      "E=K    #Energy of photon is entirely kinetic energy in volt\n",
      "lamda=h*c/E\n",
      "print\"wavelength associated with 1MeV photon=\",\"{:.2e}\".format(lamda*10**10),\"Angstrom\""
     ],
     "language": "python",
     "metadata": {},
     "outputs": [
      {
       "output_type": "stream",
       "stream": "stdout",
       "text": [
        "wavelength associated with 1MeV electron= 8.75e-03 Angstrom\n",
        "wavelength associated with 1MeV proton= 2.87e-04 Angstrom\n",
        "wavelength associated with 1MeV photon= 1.24e-02 Angstrom\n"
       ]
      }
     ],
     "prompt_number": 24
    },
    {
     "cell_type": "heading",
     "level": 2,
     "metadata": {},
     "source": [
      "Eg27:pg-23"
     ]
    },
    {
     "cell_type": "code",
     "collapsed": false,
     "input": [
      "import math\n",
      "V=54.            #potential difference in volt\n",
      "lamda=12.28/sqrt(V)   #de-Broglie wavelength of electron\n",
      "phi=50           #angle of scattering in degree\n",
      "sin_phi=sin(math.radians(phi))\n",
      "D=lamda/sin_phi  #according to Bragg's law for normal incidence lamda=D*(sin phi),where D is the distance between two consecutive atoms in the surface layer             \n",
      "print\"Distance between two neighbouring atoms in the surface of Ni-crystal=\",round(D,2),\"Angstrom\"\n",
      "theta=90-(phi/2) #glancing angle in degree\n",
      "sin_theta=sin(math.radians(theta))\n",
      "d=lamda/(2*sin_theta)   \n",
      "print\"Distance between successive Bragg's planes of Ni-crystal=\",round(d,2),\"Angstrom\""
     ],
     "language": "python",
     "metadata": {},
     "outputs": [
      {
       "output_type": "stream",
       "stream": "stdout",
       "text": [
        "Distance between two neighbouring atoms in the surface of Ni-crystal= 2.18 Angstrom\n",
        "Distance between successive Bragg's planes of Ni-crystal= 0.92 Angstrom\n"
       ]
      }
     ],
     "prompt_number": 26
    },
    {
     "cell_type": "heading",
     "level": 2,
     "metadata": {},
     "source": [
      "Eg28:pg-24"
     ]
    },
    {
     "cell_type": "code",
     "collapsed": false,
     "input": [
      "import math\n",
      "V=54.                 #potential difference in volt\n",
      "lamda=12.28/sqrt(V)   #de-Broglie wavelength of electron\n",
      "D=2.15                #distance between successive atoms of crystal plane in angstrom\n",
      "\n",
      "#for first order diffraction\n",
      "n=1       \n",
      "phi=math.asin(n*lamda/D)#Bragg's equation, D*sin(phi)=n*lamda,where phi is angle of scattering \n",
      "phi=math.degrees(phi)# in degree\n",
      "#for second order diffraction\n",
      "n=2\n",
      "sin_phi_2=n*lamda/D\n",
      "print\"since sin_phi_2=\",round(sin_phi_2,2),\">1 which is impossible because sin(phi) can never exceed 1.Hence second and third orders can't occur.\"\n",
      "\n",
      "#when V is increased from 54volt to 60 volt\n",
      "V=60.\n",
      "n=1\n",
      "lamda=12.28/sqrt(V)#de-Broglie wavelength of electron\n",
      "phi=math.asin(n*lamda/D)\n",
      "phi=math.degrees(phi)\n",
      "print\"When accelerating potential were changed from 54volt to 60volt, first order diffracted beams occur at=\",int(round(phi)),\"degree\"\n"
     ],
     "language": "python",
     "metadata": {},
     "outputs": [
      {
       "output_type": "stream",
       "stream": "stdout",
       "text": [
        "since sin_phi_2= 1.55 >1 which is impossible because sin(phi) can never exceed 1.Hence second and third orders can't occur.\n",
        "When accelerating potential were changed from 54volt to 60volt, first order diffracted beams occur at= 48 degree\n"
       ]
      }
     ],
     "prompt_number": 27
    },
    {
     "cell_type": "heading",
     "level": 2,
     "metadata": {},
     "source": [
      "Eg30:pg-28"
     ]
    },
    {
     "cell_type": "code",
     "collapsed": false,
     "input": [
      "h=6.63*10**-34    #planck constant in joule-sec\n",
      "mo=9.1*10**-31    #rest mass of electron in kg\n",
      "c=3*10**8         #speed of light in m/sec\n",
      "lamda=10**-12     #wavelength in meter\n",
      "pc=(h*c/lamda)/(1.6*10**-19)\n",
      "Eo=(mo*c**2)/(1.6*10**-19)#rest energy of electron in eV\n",
      "E=sqrt((pc**2)+(Eo**2))   #total energy of electron eV\n",
      "v=round(sqrt(1-(Eo/E)**2),3)\n",
      "print\"Group velocity of the de-Broglie waves,Vg = v = %s*c\"%v\n",
      "Vp=round((1/sqrt(1-(Eo/E)**2)),2)   \n",
      "print\"Phase velocity of the de-Broglie waves,Vp= %s*c\"%Vp"
     ],
     "language": "python",
     "metadata": {},
     "outputs": [
      {
       "output_type": "stream",
       "stream": "stdout",
       "text": [
        "Group velocity of the de-Broglie waves,Vg = v = 0.925*c\n",
        "Phase velocity of the de-Broglie waves,Vp= 1.08*c\n"
       ]
      }
     ],
     "prompt_number": 29
    },
    {
     "cell_type": "heading",
     "level": 2,
     "metadata": {},
     "source": [
      "Eg31:pg-29"
     ]
    },
    {
     "cell_type": "code",
     "collapsed": false,
     "input": [
      "h=6.63*10**-34    #planck constant in joule-sec\n",
      "mo=9.1*10**-31    #rest mass of electron in kg\n",
      "c=3*10**8         #speed of light in m/sec\n",
      "lamda=2.0*10**-12     #wavelength in meter  \n",
      "pc=round((h*c/lamda)/(1.6*10**-16),2)#in KeV\n",
      "Eo=int((mo*c**2)/(1.6*10**-16))#rest energy of electron in KeV\n",
      "E=round(sqrt((pc**2)+(Eo**2)),2)#total energy of electron KeV\n",
      "KE=E-Eo\n",
      "print\"Kinetic energy of electron=\",KE,\"KeV\"\n",
      "v=round(sqrt(1-(Eo/E)**2),4)\n",
      "print\"Group velocity of the de-Broglie waves,Vg = v = %s*c\"%v\n",
      "Vp=round((1/sqrt(1-(Eo/E)**2)),2)\n",
      "print\"Phase velocity of the de-Broglie waves,Vp= %s*c\"%Vp"
     ],
     "language": "python",
     "metadata": {},
     "outputs": [
      {
       "output_type": "stream",
       "stream": "stdout",
       "text": [
        "Kinetic energy of electron= 293.65 KeV\n",
        "Group velocity of the de-Broglie waves,Vg = v = 0.7725*c\n",
        "Phase velocity of the de-Broglie waves,Vp= 1.29*c\n"
       ]
      }
     ],
     "prompt_number": 30
    },
    {
     "cell_type": "heading",
     "level": 2,
     "metadata": {},
     "source": [
      "Eg33:pg-39"
     ]
    },
    {
     "cell_type": "code",
     "collapsed": false,
     "input": [
      "import math\n",
      "#From Heisenberg uncertainty relation (delta_x*delta_p)>=h   or delta_p>=h/delta_x\n",
      "h=6.63*10**-34          #planck constant joule-sec\n",
      "delta_x=0.2*10**-10     #uncertainty in position in meter\n",
      "delta_p=h/(2*math.pi*delta_x) #uncertainty in momentum \n",
      "print\"Uncertainty in momentum =\",\"{:.2e}\".format(delta_p),\"Kg-ms-1\""
     ],
     "language": "python",
     "metadata": {},
     "outputs": [
      {
       "output_type": "stream",
       "stream": "stdout",
       "text": [
        "Uncertainty in momentum = 5.28e-24 Kg-ms-1\n"
       ]
      }
     ],
     "prompt_number": 31
    },
    {
     "cell_type": "heading",
     "level": 2,
     "metadata": {},
     "source": [
      "Eg34:pg-39"
     ]
    },
    {
     "cell_type": "code",
     "collapsed": false,
     "input": [
      "import math\n",
      "#From Heisenberg uncertainty relation (delta_x*delta_p)>=h   or delta_x>=h/delta_p\n",
      "h=6.62*10**-34    #planck constant in joule-sec\n",
      "mo=9.0*10**-31    #rest mass of electron in kg\n",
      "c=3*10**8         #speed of light in m/sec\n",
      "v=3.0*10**7       #velocity of electron in m/sec\n",
      "delta_p=mo*v/sqrt(1-(v/c)**2)#maximum uncertainty in momentum\n",
      "delta_x=h/(2*math.pi*delta_p)#smallest uncertainty in position \n",
      "print\"Smallest possible uncertainty in position of an electron=\",round(delta_x*10**10,4),\"Angstrom\""
     ],
     "language": "python",
     "metadata": {},
     "outputs": [
      {
       "output_type": "stream",
       "stream": "stdout",
       "text": [
        "Smallest possible uncertainty in position of an electron= 0.0388 Angstrom\n"
       ]
      }
     ],
     "prompt_number": 32
    },
    {
     "cell_type": "heading",
     "level": 2,
     "metadata": {},
     "source": [
      "Eg35:pg-40"
     ]
    },
    {
     "cell_type": "code",
     "collapsed": false,
     "input": [
      "#From Heisenberg uncertainty relation (delta_x*delta_p)>=h   or delta_p>=h/delta_x\n",
      "h=1.05*10**-34    #planck constant in joule-sec\n",
      "m=9.1*10**-31     # mass of electron in kg\n",
      "delta_x=1.1*10**-8#uncertainty in position in meter\n",
      "delta_p=h/delta_x #uncertainty in momentum\n",
      "delta_v=delta_p/m #minimum uncertainty in velocity\n",
      "print\"minimum uncertainty in velocity of an electron=\",\"{:.2e}\".format(delta_v),\"m/s\""
     ],
     "language": "python",
     "metadata": {},
     "outputs": [
      {
       "output_type": "stream",
       "stream": "stdout",
       "text": [
        "minimum uncertainty in velocity of an electron= 1.05e+04 m/s\n"
       ]
      }
     ],
     "prompt_number": 33
    },
    {
     "cell_type": "heading",
     "level": 2,
     "metadata": {},
     "source": [
      "Eg36:pg-40"
     ]
    },
    {
     "cell_type": "code",
     "collapsed": false,
     "input": [
      "import math\n",
      "#From Heisenberg uncertainty relation (delta_x*delta_p)>=h   or delta_p>=h/delta_x\n",
      "h=6.62*10**-34   #planck constant in joule-sec\n",
      "m=9.1*10**-31    #mass of electron in kg\n",
      "delta_x=10*10**-10#uncertainty in position in meter\n",
      "delta_p=h/(2*math.pi*delta_x)#uncertainty in momentum in Kg-m/s\n",
      "delta_v=delta_p/m #uncertainty in velocity of an electron\n",
      "print\"uncertainty in velocity of an electron=\",\"{:.2e}\".format(delta_v),\"m/s\""
     ],
     "language": "python",
     "metadata": {},
     "outputs": [
      {
       "output_type": "stream",
       "stream": "stdout",
       "text": [
        "uncertainty in velocity of an electron= 1.16e+05 m/s\n"
       ]
      }
     ],
     "prompt_number": 34
    },
    {
     "cell_type": "heading",
     "level": 2,
     "metadata": {},
     "source": [
      "Eg37:pg-40"
     ]
    },
    {
     "cell_type": "code",
     "collapsed": false,
     "input": [
      "import math\n",
      "#From Heisenberg uncertainty relation (delta_x*delta_p)>=h   or delta_x>=h/delta_p\n",
      "h=6.62*10**-34   #planck constant in joule-sec\n",
      "m=9.0*10**-31    #mass of electron in kg\n",
      "v=1.05*10**4     #speed of electron in m/s\n",
      "p=m*v            #momentum of electron in Kg-m/s\n",
      "delta_p=(0.01/100)*p#uncertainty in momentum(since uncertainty in value of p is 0.01% of its value)\n",
      "delta_x=h/(2*math.pi*delta_p)#uncertainty in position of electron\n",
      "print\"uncertainty in the position of electron=\",\"{:.3e}\".format(delta_x),\"m\""
     ],
     "language": "python",
     "metadata": {},
     "outputs": [
      {
       "output_type": "stream",
       "stream": "stdout",
       "text": [
        "uncertainty in the position of electron= 1.115e-04 m\n"
       ]
      }
     ],
     "prompt_number": 35
    },
    {
     "cell_type": "heading",
     "level": 2,
     "metadata": {},
     "source": [
      "Eg38:pg-40"
     ]
    },
    {
     "cell_type": "code",
     "collapsed": false,
     "input": [
      "import math\n",
      "#From Heisenberg uncertainty relation (delta_x*delta_p)>=h   or delta_x>=h/delta_p\n",
      "h=6.63*10**-34   #planck constant in joule-sec\n",
      "m=9.0*10**-31    #mass of electron in kg\n",
      "v=600            #speed of electron in m/s\n",
      "delta_v=(.005/100)*v#uncertainty in velocity of an electron in m/s\n",
      "delta_p=m*delta_v#uncertainty in momentum of an electron in Kg-m/s\n",
      "#value of delta_p is wrong in book\n",
      "delta_x=h/(2*math.pi*delta_p)#uncertainty in position of electron\n",
      "print\"uncertainty in position of electron=\",round(delta_x,4),\"m\"#answer is wrong in book"
     ],
     "language": "python",
     "metadata": {},
     "outputs": [
      {
       "output_type": "stream",
       "stream": "stdout",
       "text": [
        "uncertainty in position of electron= 0.0039 m\n"
       ]
      }
     ],
     "prompt_number": 36
    },
    {
     "cell_type": "heading",
     "level": 2,
     "metadata": {},
     "source": [
      "Eg39:pg-41"
     ]
    },
    {
     "cell_type": "code",
     "collapsed": false,
     "input": [
      "import math\n",
      "h=6.63*10**-34  #planck constant in joule-sec\n",
      "m=9*10**-31     #mass of electron in kg\n",
      "v=6.6*10**4     #speed of electron in m/s\n",
      "p=m*v           #momentum of electron in Kg-m/s\n",
      "delta_p=(0.01/100)*p#uncertainty in momentum(since uncertainty in value of p is 0.01% of its value)\n",
      "delta_x=h/(2*math.pi*delta_p)#uncertainty in position of electron(From Heisenberg uncertainty relation)\n",
      "print\"uncertainty in the position of electron=\",\"{:.2e}\".format(delta_x),\"m\""
     ],
     "language": "python",
     "metadata": {},
     "outputs": [
      {
       "output_type": "stream",
       "stream": "stdout",
       "text": [
        "uncertainty in the position of electron= 1.78e-05 m\n"
       ]
      }
     ],
     "prompt_number": 37
    },
    {
     "cell_type": "heading",
     "level": 2,
     "metadata": {},
     "source": [
      "Eg40:pg-41"
     ]
    },
    {
     "cell_type": "code",
     "collapsed": false,
     "input": [
      "import math\n",
      "h=6.63*10**-34 #planck constant in joule-sec\n",
      "m=9.1*10**-31  #mass of electron in kg\n",
      "r=0.5*10**-10  #radius of hydrogen atom in meter\n",
      "delta_x=r      #uncertainty in position of electron meter\n",
      "delta_Px=round(h/(2*math.pi*delta_x),25)#uncertainty in momentum of electron in Kg-m/s(From Heisenberg uncertainty relation)\n",
      "p=delta_Px #momentum of electron(since magnitude of momentum can't be less than that of uncertainty)\n",
      "KE=((p**2)/(2*m))/(1.6*10**-19)#Kinetic energy in eV\n",
      "print\"Kinetic energy=\",round(KE,1),\"eV\""
     ],
     "language": "python",
     "metadata": {},
     "outputs": [
      {
       "output_type": "stream",
       "stream": "stdout",
       "text": [
        "Kinetic energy= 15.1 eV\n"
       ]
      }
     ],
     "prompt_number": 38
    },
    {
     "cell_type": "heading",
     "level": 2,
     "metadata": {},
     "source": [
      "Eg41:pg-41"
     ]
    },
    {
     "cell_type": "code",
     "collapsed": false,
     "input": [
      "import math\n",
      "h=6.63*10**-34 #planck constant in joule-sec\n",
      "m=9.0*10**-31  #mass of electron in kg\n",
      "v=5.00*10**3   #speed of electron in m/s\n",
      "p=m*v          #momentum of electron in Kg-m/s\n",
      "delta_p=(0.003/100)*p#uncertainty in momentum(since uncertainty in value of p is 0.003% of its value)\n",
      "delta_x=h/(2*math.pi*delta_p)#uncertainty in position of electron(From Heisenberg uncertainty relation)\n",
      "print\"uncertainty in the position of electron=\",\"{:.2e}\".format(delta_x),\"m\""
     ],
     "language": "python",
     "metadata": {},
     "outputs": [
      {
       "output_type": "stream",
       "stream": "stdout",
       "text": [
        "uncertainty in the position of electron= 7.82e-04 m\n"
       ]
      }
     ],
     "prompt_number": 39
    },
    {
     "cell_type": "heading",
     "level": 2,
     "metadata": {},
     "source": [
      "Eg42:pg-41"
     ]
    },
    {
     "cell_type": "code",
     "collapsed": false,
     "input": [
      "import math\n",
      "h=6.63*10**-34  #planck constant in joule-sec\n",
      "m=9.1*10**-31   #mass of electron in kg\n",
      "r=0.53*10**-10  #radius of hydrogen atom in meter\n",
      "delta_x=r       #uncertainty in position of electron in meter\n",
      "delta_Px=h/(2*math.pi*delta_x)#uncertainty in momentum of electron in Kg-m/s(From Heisenberg uncertainty relation)\n",
      "p=delta_Px #momentum of electron(since magnitude of momentum can't be less than that of uncertainty)\n",
      "KE=((p**2)/(2*m))/(1.6*10**-19)#Kinetic energy in eV\n",
      "print\"Minimum energy=\",round(KE,1),\"eV\""
     ],
     "language": "python",
     "metadata": {},
     "outputs": [
      {
       "output_type": "stream",
       "stream": "stdout",
       "text": [
        "Minimum energy= 13.6 eV\n"
       ]
      }
     ],
     "prompt_number": 40
    },
    {
     "cell_type": "heading",
     "level": 2,
     "metadata": {},
     "source": [
      "Eg43:pg-42"
     ]
    },
    {
     "cell_type": "code",
     "collapsed": false,
     "input": [
      "import math\n",
      "c=3*10**8           #speed of light in m/sec\n",
      "dlamda=(10**-4)*(10**-10)   #width of spectral line in meter\n",
      "lamda=5000*10**-10  #wavelength of spectral line in meter\n",
      "\n",
      "#From Heisenberg uncertainty relation (delta_E*delta_t)>=h  or delta_t>=h/(2*pi*delta_E)\n",
      "#since E=h*c/lamda so delta_E=(h*c/lamda**2)*dlamda\n",
      "#putting value of delta_E in Heisenberg uncertainty relation,delta_t=lamda**2/(2*pi*c*dlamda)\n",
      "delta_t=(lamda**2)/(2*math.pi*c*dlamda)\n",
      "print\"minimum time required=\",\"{:.3e}\".format(delta_t),\"sec\""
     ],
     "language": "python",
     "metadata": {},
     "outputs": [
      {
       "output_type": "stream",
       "stream": "stdout",
       "text": [
        "minimum time required= 1.326e-08 sec\n"
       ]
      }
     ],
     "prompt_number": 41
    },
    {
     "cell_type": "heading",
     "level": 2,
     "metadata": {},
     "source": [
      "Eg44:pg-42"
     ]
    },
    {
     "cell_type": "code",
     "collapsed": false,
     "input": [
      "import math\n",
      "h=6.62*10**-34  #planck constant joule-sec\n",
      "m=9.0*10**-31   #mass of electron kg\n",
      "delta_x=.01*10**-2#uncertainty in position of a particle in meter\n",
      "#(a)uncertainty in momentum of  particle\n",
      "delta_p=h/(2*math.pi*delta_x)#From Heisenberg uncertainty relation\n",
      "print\"uncertainty in momentum of  particle=\",\"{:.3e}\".format(delta_p),\"Kg-m/s\"\n",
      "\n",
      "#(b)uncertainty in velocity of electron\n",
      "delta_x=5*10**-10 #uncertainty in position of a electron in meter\n",
      "delta_p=h/(2*math.pi*delta_x)\n",
      "delta_v=delta_p/m\n",
      "print\"uncertainty in velocity of electron=\",\"{:.2e}\".format(delta_v),\"m/s\"\n",
      "\n",
      "#(c)uncertainty in velocity of alpha-particle\n",
      "mp=1.67*10**-27 #mass of proton in Kg\n",
      "m=4*mp          #mass of alpha=particle in Kg\n",
      "delta_x=5*10**-10 #uncertainty in position of alpha-particle in meter\n",
      "delta_p=h/(2*math.pi*delta_x)\n",
      "delta_v=delta_p/m\n",
      "print\"uncertainty in velocity of alpha-particle=\",round(delta_v,2),\"m/s\"\n"
     ],
     "language": "python",
     "metadata": {},
     "outputs": [
      {
       "output_type": "stream",
       "stream": "stdout",
       "text": [
        "uncertainty in momentum of  particle= 1.054e-30 Kg-m/s\n",
        "uncertainty in velocity of electron= 2.34e+05 m/s\n",
        "uncertainty in velocity of alpha-particle= 31.55 m/s\n"
       ]
      }
     ],
     "prompt_number": 42
    },
    {
     "cell_type": "heading",
     "level": 2,
     "metadata": {},
     "source": [
      "Eg45:pg-43"
     ]
    },
    {
     "cell_type": "code",
     "collapsed": false,
     "input": [
      "import math\n",
      "#From Heisenberg uncertainty relation for energy E and time t,  (delta_E*delta_t)>=h\n",
      "#Also E=h*v  or delta_E=h*(delta_v)\n",
      "#putting this value in uncertainty relation, delta_v>=1/(2*pi*delta_t)\n",
      "delta_t=10**-8 #uncertainty in time in sec\n",
      "delta_v=1/(2*math.pi*delta_t)   \n",
      "print\"minimum uncertainty in the frequency=\",\"{:.3e}\".format(delta_v),\"sec-1\""
     ],
     "language": "python",
     "metadata": {},
     "outputs": [
      {
       "output_type": "stream",
       "stream": "stdout",
       "text": [
        "minimum uncertainty in the frequency= 1.592e+07 sec-1\n"
       ]
      }
     ],
     "prompt_number": 43
    },
    {
     "cell_type": "heading",
     "level": 2,
     "metadata": {},
     "source": [
      "Eg46:pg-43"
     ]
    },
    {
     "cell_type": "code",
     "collapsed": false,
     "input": [
      "import math\n",
      "#From Heisenberg uncertainty relation for energy E and time t,  (delta_E*delta_t)>=h\n",
      "#Also E=h*v  or delta_E=h*(delta_v)\n",
      "#putting this value in uncertainty relation, delta_v>=1/(2*pi*delta_t)\n",
      "delta_t=10**-8 #uncertainty in time in sec\n",
      "delta_v=1/(2*math.pi*delta_t)   \n",
      "print\"minimum uncertainty in the frequency=\",\"{:.3e}\".format(delta_v),\"sec-1\""
     ],
     "language": "python",
     "metadata": {},
     "outputs": [
      {
       "output_type": "stream",
       "stream": "stdout",
       "text": [
        "minimum uncertainty in the frequency= 1.592e+07 sec-1\n"
       ]
      }
     ],
     "prompt_number": 44
    },
    {
     "cell_type": "heading",
     "level": 2,
     "metadata": {},
     "source": [
      "Eg47:pg-43"
     ]
    },
    {
     "cell_type": "code",
     "collapsed": false,
     "input": [
      "import math\n",
      "h=6.62*10**-34  #planck constant joule-sec\n",
      "m=9.0*10**-31   #mass of electron kg\n",
      "delta_x=1*10**-10#uncertainty in position of a electron in meter\n",
      "delta_p=h/(2*math.pi*delta_x)#uncertainty in momentum of electron in Kg-m/s(From Heisenberg uncertainty relation)     \n",
      "E=(1*10**3)*(1.6*10**-19)#energy in joule\n",
      "p=sqrt(2*m*E) #momentum in Kg-m/s\n",
      "percentage=(delta_p/p)*100\n",
      "print\"Percentage of uncertainty in its momentum=\",round(percentage,1),\"%\""
     ],
     "language": "python",
     "metadata": {},
     "outputs": [
      {
       "output_type": "stream",
       "stream": "stdout",
       "text": [
        "Percentage of uncertainty in its momentum= 6.2 %\n"
       ]
      }
     ],
     "prompt_number": 45
    },
    {
     "cell_type": "heading",
     "level": 2,
     "metadata": {},
     "source": [
      "Eg48:pg-43"
     ]
    },
    {
     "cell_type": "code",
     "collapsed": false,
     "input": [
      "import math\n",
      "h=6.63*10**-34  #planck constant joule-sec\n",
      "delta_t=2.5*10**-20 #uncertainty in time in sec\n",
      "delta_E=h/(2*math.pi*delta_t)#From Heisenberg uncertainty relation for energy E and time t\n",
      "delta_E=delta_E/(1.6*10**-19)\n",
      "print\"minimum error=\",round(delta_E/10**3,3),\"KeV\""
     ],
     "language": "python",
     "metadata": {},
     "outputs": [
      {
       "output_type": "stream",
       "stream": "stdout",
       "text": [
        "minimum error= 26.38 KeV\n"
       ]
      }
     ],
     "prompt_number": 46
    },
    {
     "cell_type": "heading",
     "level": 2,
     "metadata": {},
     "source": [
      "Eg49:pg-44"
     ]
    },
    {
     "cell_type": "code",
     "collapsed": false,
     "input": [
      "import math\n",
      "h=1.054*10**-34  #planck constant joule-sec\n",
      "delta_t=10**-12  #uncertainty in time in sec\n",
      "delta_E=h/(2*delta_t)#uncertainty in energy(From Heisenberg uncertainty relation)\n",
      "delta_E=delta_E/(1.6*10**-19)\n",
      "print\"uncertainty in energy of gamma-ray photon emitted=\",\"{:.1e}\".format(delta_E),\"eV\""
     ],
     "language": "python",
     "metadata": {},
     "outputs": [
      {
       "output_type": "stream",
       "stream": "stdout",
       "text": [
        "uncertainty in energy of gamma-ray photon emitted= 3.3e-04 eV\n"
       ]
      }
     ],
     "prompt_number": 47
    },
    {
     "cell_type": "heading",
     "level": 2,
     "metadata": {},
     "source": [
      "Eg50:pg-44"
     ]
    },
    {
     "cell_type": "code",
     "collapsed": false,
     "input": [
      "h=6.62*10**-34  #planck constant joule-sec\n",
      "m=9.1*10**-31   #mass of electron kg\n",
      "e=1.6*10**-19   #charge of electron in coulomb\n",
      "V=1000.          #potential difference in volt\n",
      "delta_V=12      #in volt\n",
      "#delta_P=m*e*delta_V/sqrt(2*m*e*V)\n",
      "#From Heisenberg uncertainty relation  delta_x*delta_p)>=h   or delta_x>=h/delta_p\n",
      "delta_x=((h*sqrt(2.0))/sqrt(m*e))*(sqrt(V)/delta_V)\n",
      "print\"uncertainty in position of an electron=\",round(delta_x,11),\"m =\",round(delta_x*1e10,1),\"Angstrom\"\n",
      "#answer in book is wrong"
     ],
     "language": "python",
     "metadata": {},
     "outputs": [
      {
       "output_type": "stream",
       "stream": "stdout",
       "text": [
        "uncertainty in position of an electron= 6.47e-09 m = 64.7 Angstrom\n"
       ]
      }
     ],
     "prompt_number": 48
    },
    {
     "cell_type": "heading",
     "level": 2,
     "metadata": {},
     "source": [
      "Eg51:pg-44"
     ]
    },
    {
     "cell_type": "code",
     "collapsed": false,
     "input": [
      "import math\n",
      "#According to uncertainty principle  (delta_x*delta_p)>=h ......eq.1\n",
      "#momentum,p=h/lamda or p*lamda=h ........eq.2\n",
      "#on differentiating eq.2 and solving we get delta_p=(h*delta_lamda)/lamda**2,put this value in eq.1\n",
      "#we get (delta_x*delta_lamda)>=(lamda**2)/2*pi\n",
      "lamda=10**-10  #wavelength in meter\n",
      "delta_lamda=lamda*10**-6#since uncertainty in wavelength is given to be in ratio 1/10**6\n",
      "delta_x=lamda/(2*math.pi*10**-6)#since (delta_x)=(lamda**2)/(2*pi*delta_lamda)\n",
      "print\"uncertainty in position=\"\"{:.2e}\".format(delta_x),\"m\""
     ],
     "language": "python",
     "metadata": {},
     "outputs": [
      {
       "output_type": "stream",
       "stream": "stdout",
       "text": [
        "uncertainty in position=1.59e-05 m\n"
       ]
      }
     ],
     "prompt_number": 49
    },
    {
     "cell_type": "heading",
     "level": 2,
     "metadata": {},
     "source": [
      "Eg52:pg-54"
     ]
    },
    {
     "cell_type": "code",
     "collapsed": false,
     "input": [
      "h=6.63*10**-34   #planck constant in joule-sec\n",
      "m=9.11*10**-31   #mass of electron in kg\n",
      "L=10**-10        #width of box in meter\n",
      "n=1              #minimum energy of the particle is obtained for n=1\n",
      "E=(n*h)**2/(8*m*L**2) #in joule\n",
      "E=round(E,20)/(1.6*10**-19)#in eV\n",
      "print\"energy of an electron=\",round(E,2),\"eV\""
     ],
     "language": "python",
     "metadata": {},
     "outputs": [
      {
       "output_type": "stream",
       "stream": "stdout",
       "text": [
        "energy of an electron= 37.69 eV\n"
       ]
      }
     ],
     "prompt_number": 50
    },
    {
     "cell_type": "heading",
     "level": 2,
     "metadata": {},
     "source": [
      "Eg54:pg-54"
     ]
    },
    {
     "cell_type": "code",
     "collapsed": false,
     "input": [
      "import math\n",
      "delta_x=5*10**-10 #uncertainty in position in meter\n",
      "L=25*10**-10      #width of box in meter\n",
      "x=L/2             #at the center of the box x=L/2\n",
      "n=1               #since the particle is in the state of least energy so n=1\n",
      "def si(x):   #si(x) is the wave function of particle moving in an infinite potential well\n",
      " return sqrt(2/L)*sin(n*math.pi*x/L)\n",
      "p=(abs(si(x))**2)*delta_x\n",
      "print\"probability =\",round(p,1)"
     ],
     "language": "python",
     "metadata": {},
     "outputs": [
      {
       "output_type": "stream",
       "stream": "stdout",
       "text": [
        "probability = 0.4\n"
       ]
      }
     ],
     "prompt_number": 51
    },
    {
     "cell_type": "heading",
     "level": 2,
     "metadata": {},
     "source": [
      "Eg57:pg-56"
     ]
    },
    {
     "cell_type": "code",
     "collapsed": false,
     "input": [
      "h=6.63*10**-34  #planck constant in joule-sec\n",
      "m=9.1*10**-31   #mass of electron in kg\n",
      "L=2.5*10**-10   #width of box in meter\n",
      "#first lowest permitted energy value\n",
      "n=1\n",
      "E=(n*h)**2/(8*m*L**2) #in joule\n",
      "E=E/(1.6*10**-19)    #in eV\n",
      "print\"first lowest permitted energy value=\",round(E,2),\"eV\"\n",
      "#second lowest permitted energy value\n",
      "n=2\n",
      "E=round(E,2)*n**2 #in eV\n",
      "print\"second lowest permitted energy value=\",round(E,2),\"eV\""
     ],
     "language": "python",
     "metadata": {},
     "outputs": [
      {
       "output_type": "stream",
       "stream": "stdout",
       "text": [
        "first lowest permitted energy value= 6.04 eV\n",
        "second lowest permitted energy value= 24.16 eV\n"
       ]
      }
     ],
     "prompt_number": 52
    },
    {
     "cell_type": "heading",
     "level": 2,
     "metadata": {},
     "source": [
      "Eg58:pg-56"
     ]
    },
    {
     "cell_type": "code",
     "collapsed": false,
     "input": [
      "#five antinodes signify that particle is in 5th quantum state i.e n=5\n",
      "E5=5**2            #energy of the 5th quantum state\n",
      "E1=230*1.6*10**-19 #energy of the 1st quantum state in joule\n",
      "E1=round(E1/E5,20)\n",
      "h=6.62*10**-34     #planck constant in joule-sec\n",
      "L=0.2*10**-9       #width of well in meter\n",
      "#for n=1\n",
      "m=h**2/(8*E1*L**2) #in Kg(since En=(n*h)**2/(8*m*L**2))\n",
      "print\"mass of the particle=\",\"{:.2e}\".format(m),\"Kg\"\n",
      "En=(1*10**3)*(1.6*10**-19)#in joule(given)\n",
      "n=sqrt(En/E1)\n",
      "print\"since n=\",round(n,2),\" is not an integer. Hence,En=1KeV is not permitted value of energy.\""
     ],
     "language": "python",
     "metadata": {},
     "outputs": [
      {
       "output_type": "stream",
       "stream": "stdout",
       "text": [
        "mass of the particle= 9.32e-31 Kg\n",
        "since n= 10.43  is not an integer. Hence,En=1KeV is not permitted value of energy.\n"
       ]
      }
     ],
     "prompt_number": 53
    },
    {
     "cell_type": "heading",
     "level": 2,
     "metadata": {},
     "source": [
      "Eg59:pg-57"
     ]
    },
    {
     "cell_type": "code",
     "collapsed": false,
     "input": [
      "from scipy import integrate\n",
      "x1=0.35  #lower limit\n",
      "x2=0.45  #upper limit\n",
      "#Wn=a*x is wave function\n",
      "p=integrate.quad(lambda x: x**2,x1,x2)\n",
      "p=round(p[0],4)\n",
      "print\"Probability= %s*a**2\"%p\n",
      "X=integrate.quad(lambda x: x**3,0,1)\n",
      "X=(X[0])\n",
      "print\"Expectation value <x> of particle's position= %s*a**2\"%X"
     ],
     "language": "python",
     "metadata": {},
     "outputs": [
      {
       "output_type": "stream",
       "stream": "stdout",
       "text": [
        "Probability= 0.0161*a**2\n",
        "Expectation value <x> of particle's position= 0.25*a**2\n"
       ]
      }
     ],
     "prompt_number": 54
    },
    {
     "cell_type": "heading",
     "level": 2,
     "metadata": {},
     "source": [
      "Eg60:pg-58"
     ]
    },
    {
     "cell_type": "code",
     "collapsed": false,
     "input": [
      "import math\n",
      "L = 1      # let unit length\n",
      "x1=0.45*L  #lower limit\n",
      "x2=0.55*L  #upper limit\n",
      "n=1        #for ground state\n",
      "p = (1/L)*((x2-(L/(2*math.pi*n) *math.sin(2*x2*math.pi*n/L)))- (x1-(L/(2*math.pi*n) *math.sin(2*x1*math.pi*n/L))))\n",
      "p_per = p*100 # probability of finding particle in percentage\n",
      "print(\"Probability of finding particle(ground state)=\"),round(p_per,1),\"%\"\n",
      "n=2        #for first excited state\n",
      "p = (1/L)*((x2-(L/(2*math.pi*n) *math.sin(2*x2*math.pi*n/L)))- (x1-(L/(2*math.pi*n) *math.sin(2*x1*math.pi*n/L))))\n",
      "p_per = p*100 # probability of finding particle in percentage\n",
      "print(\"Probability of finding particle(first excited state)=\"),round(p_per,2),\"%\""
     ],
     "language": "python",
     "metadata": {},
     "outputs": [
      {
       "output_type": "stream",
       "stream": "stdout",
       "text": [
        "Probability of finding particle(ground state)= 19.8 %\n",
        "Probability of finding particle(first excited state)= 0.65 %\n"
       ]
      }
     ],
     "prompt_number": 55
    },
    {
     "cell_type": "heading",
     "level": 2,
     "metadata": {},
     "source": [
      "Eg61:pg-58"
     ]
    },
    {
     "cell_type": "code",
     "collapsed": false,
     "input": [
      "L = 1e-8      # length of box in cm\n",
      "h = 6.626e-34 # Plank constant in joule-sec\n",
      "m = 9.1e-31   # mass of electron in Kg\n",
      "\n",
      "E1 = (h)**2/(8*m*(L*1e-2)**2) # Calculation of energy of ground state in Joule\n",
      "E1_eV = round(E1/1.6e-19 )# Calculation of energy in eV\n",
      "E2_eV =2**2*E1_eV # Calculation of energy of first excited state in eV\n",
      "del_E = E2_eV - E1_eV # calculation of difference between first state and ground state\n",
      "print(\"Energy difference between ground state and first excited state =\"),int(del_E),\"eV\""
     ],
     "language": "python",
     "metadata": {},
     "outputs": [
      {
       "output_type": "stream",
       "stream": "stdout",
       "text": [
        "Energy difference between ground state and first excited state = 114 eV\n"
       ]
      }
     ],
     "prompt_number": 56
    },
    {
     "cell_type": "heading",
     "level": 2,
     "metadata": {},
     "source": [
      "Eg62:pg-59"
     ]
    },
    {
     "cell_type": "code",
     "collapsed": false,
     "input": [
      "import math\n",
      "a=1    #let\n",
      "n=2    #for second energy state\n",
      "x=a/2  #at the center of the box\n",
      "W2=sqrt(2./a)*(sin((n*math.pi*x)/a))#wave function of particle in second energy state\n",
      "print\"probability of finding particle in interval del_x, p=del_x*(W2)**2= \",int(W2)\n",
      "#probability of finding particle in interval del_x is, p=del_x*(W2)**2"
     ],
     "language": "python",
     "metadata": {},
     "outputs": [
      {
       "output_type": "stream",
       "stream": "stdout",
       "text": [
        "probability of finding particle in interval del_x, p=del_x*(W2)**2=  0\n"
       ]
      }
     ],
     "prompt_number": 57
    },
    {
     "cell_type": "heading",
     "level": 2,
     "metadata": {},
     "source": [
      "Eg63:pg-59"
     ]
    },
    {
     "cell_type": "code",
     "collapsed": false,
     "input": [
      "import math\n",
      "L = 2.     # length of box in Angstrom\n",
      "x1=1.6000  #lower limit in Angstrom\n",
      "x2=1.6001  #upper limit in Angstrom\n",
      "n=1        #given\n",
      "p = (1/L)*((x2-(L/(2*math.pi*n) *math.sin(2*x2*math.pi*n/L)))- (x1-(L/(2*math.pi*n) *math.sin(2*x1*math.pi*n/L))))\n",
      "print\"Probability of finding particle=\",\"{:.2e}\".format(p)"
     ],
     "language": "python",
     "metadata": {},
     "outputs": [
      {
       "output_type": "stream",
       "stream": "stdout",
       "text": [
        "Probability of finding particle= 3.45e-05\n"
       ]
      }
     ],
     "prompt_number": 58
    },
    {
     "cell_type": "heading",
     "level": 2,
     "metadata": {},
     "source": [
      "Eg64:pg-60"
     ]
    },
    {
     "cell_type": "code",
     "collapsed": false,
     "input": [
      "lamda=1.21*10**-10  #de-Broglie wavelength in meter\n",
      "L=lamda/2           #length of a loop in meter\n",
      "#since there are 7 loops between the walls of the box \n",
      "a=7*L\n",
      "print\"Distance between the walls=\", a,\"m\""
     ],
     "language": "python",
     "metadata": {},
     "outputs": [
      {
       "output_type": "stream",
       "stream": "stdout",
       "text": [
        "Distance between the walls= 4.235e-10 m\n"
       ]
      }
     ],
     "prompt_number": 59
    },
    {
     "cell_type": "heading",
     "level": 2,
     "metadata": {},
     "source": [
      "Eg65:pg-60"
     ]
    },
    {
     "cell_type": "code",
     "collapsed": false,
     "input": [
      "L = 10**-9   # width of potential well in meter\n",
      "h = 6.63e-34 # Plank constant in joule-sec\n",
      "m = 9.1e-31  # mass of electron in Kg\n",
      "n1=1\n",
      "n2=2\n",
      "n3=3\n",
      "lamda1 = 2*L/n1 # Calculation of wavelength\n",
      "lamda2 = 2*L/n2 # Calculation of wavelength\n",
      "lamda3 = 2*L/n3 # Calculation of wavelength\n",
      "E=h**2/(8*m*L**2) # Calculation of energy in Joule\n",
      "E=round(E/(1.6*10**-19),2) # Calculation of energy in eV\n",
      "E1_eV = n1**2*E # Calculation of energy in eV\n",
      "E2_eV = n2**2*E # Calculation of energy in eV\n",
      "E3_eV = n3**2*E # Calculation of energy in eV\n",
      "print\"For first energy state: wavelength in angstrom & Energy in eV=\",int(lamda1*10**10),\",\",round(E1_eV,2)\n",
      "print\"For second energy state: wavelength in angstrom & Energy in eV=\",int(lamda2*10**10),\",\",round(E2_eV,2)\n",
      "print\"For third energy state: wavelength in angstrom & Energy in eV=\",round(lamda3*10**10,1),\",\",round(E3_eV,2)"
     ],
     "language": "python",
     "metadata": {},
     "outputs": [
      {
       "output_type": "stream",
       "stream": "stdout",
       "text": [
        "For first energy state: wavelength in angstrom & Energy in eV= 20 , 0.38\n",
        "For second energy state: wavelength in angstrom & Energy in eV= 10 , 1.52\n",
        "For third energy state: wavelength in angstrom & Energy in eV= 6.7 , 3.42\n"
       ]
      }
     ],
     "prompt_number": 60
    },
    {
     "cell_type": "heading",
     "level": 2,
     "metadata": {},
     "source": [
      "Eg66:pg-60"
     ]
    },
    {
     "cell_type": "code",
     "collapsed": false,
     "input": [
      "c=3*10**10  #speed of light in cm/sec\n",
      "del_t=2*10**-7#uncertainty in time in sec\n",
      "#x is the distance between source and reflecting object\n",
      "del_x=(c/2)*del_t\n",
      "print\"Uncertainty in distance=\",int(del_x),\"cm\""
     ],
     "language": "python",
     "metadata": {},
     "outputs": [
      {
       "output_type": "stream",
       "stream": "stdout",
       "text": [
        "Uncertainty in distance= 3000 cm\n"
       ]
      }
     ],
     "prompt_number": 61
    },
    {
     "cell_type": "code",
     "collapsed": false,
     "input": [],
     "language": "python",
     "metadata": {},
     "outputs": []
    }
   ],
   "metadata": {}
  }
 ]
}