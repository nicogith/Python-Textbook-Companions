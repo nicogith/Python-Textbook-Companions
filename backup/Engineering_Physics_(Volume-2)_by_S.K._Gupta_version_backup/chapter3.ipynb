{
 "metadata": {
  "name": "",
  "signature": "sha256:ca10cc57956bed4f1b4d18744134bc27c9e2980c82af910dabf566547448b24f"
 },
 "nbformat": 3,
 "nbformat_minor": 0,
 "worksheets": [
  {
   "cells": [
    {
     "cell_type": "heading",
     "level": 1,
     "metadata": {},
     "source": [
      "Chapter3:DIELECTRIC PROPERTIES OF MATERIALS"
     ]
    },
    {
     "cell_type": "heading",
     "level": 2,
     "metadata": {},
     "source": [
      "Eg1:pg-119"
     ]
    },
    {
     "cell_type": "code",
     "collapsed": false,
     "input": [
      "Eg=6.0    #dielectric constant of glass plate\n",
      "dg=0.25   #thickness of glass plate in mm\n",
      "Ep=3.0    #dielectric constant of plastic film\n",
      "dp=0.1    #thickness of plastic film in mm\n",
      "Eo=8.85e-12 #permittivity of free space in F/m \n",
      "A=1       #let surface area be 1\n",
      "Cg=Eg*Eo*A/dg\n",
      "Cp=Ep*Eo*A/dp\n",
      "ratio=Cg/Cp\n",
      "print\"Cg = \",ratio,\"Cp\"\n",
      "print\"Since Cp>Cg,the plastic film filled capacitor holds more charge than the glass plate filled capacitor\""
     ],
     "language": "python",
     "metadata": {},
     "outputs": [
      {
       "output_type": "stream",
       "stream": "stdout",
       "text": [
        "Cg =  0.8 Cp\n",
        "Since Cp>Cg,the plastic film filled capacitor holds more charge than the glass plate filled capacitor\n"
       ]
      }
     ],
     "prompt_number": 1
    },
    {
     "cell_type": "heading",
     "level": 2,
     "metadata": {},
     "source": [
      "Eg2:pg-120"
     ]
    },
    {
     "cell_type": "code",
     "collapsed": false,
     "input": [
      "Er=2.8    #dielectric constant of a dielectric material\n",
      "D=3e-8    #magnitude of electric displacement vector in C/m**2\n",
      "p=(Er-1)*D/Er\n",
      "print\"Polarization is \",round(p,10),\"C/m**2\""
     ],
     "language": "python",
     "metadata": {},
     "outputs": [
      {
       "output_type": "stream",
       "stream": "stdout",
       "text": [
        "Polarization is  1.93e-08 C/m**2\n"
       ]
      }
     ],
     "prompt_number": 3
    },
    {
     "cell_type": "heading",
     "level": 2,
     "metadata": {},
     "source": [
      "Eg3:pg-120"
     ]
    },
    {
     "cell_type": "code",
     "collapsed": false,
     "input": [
      "E=1000     #electric field in V/m\n",
      "p=4.3e-8   #polarization in C/m**2\n",
      "Eo=8.85e-12#permittivity of free space in F/m \n",
      "Er=1+(p/(Eo*E))\n",
      "print\"Relative permittivity of NaCl is \",round(Er,2)"
     ],
     "language": "python",
     "metadata": {},
     "outputs": [
      {
       "output_type": "stream",
       "stream": "stdout",
       "text": [
        "Relative permittivity of NaCl is  5.86\n"
       ]
      }
     ],
     "prompt_number": 4
    },
    {
     "cell_type": "heading",
     "level": 2,
     "metadata": {},
     "source": [
      "Eg4:pg-120"
     ]
    },
    {
     "cell_type": "code",
     "collapsed": false,
     "input": [
      "Er=1.000074  #dielectric constant of helium \n",
      "Eo=8.85e-12  #permittivity of free space in F/m (in book F/m2 is printed which is wrong)\n",
      "E=100        #electric field in V/m\n",
      "Na=6e23      #Avogadro number\n",
      "V=22.4       #volume occupied by 1gm atom of gas at NTP in litres\n",
      "N=Na/(V*1e-3)\n",
      "p=Eo*(Er-1)*E\n",
      "P=p/N\n",
      "print\"Induced dipole moment is \",round(P,42),\"Cm\"#answer in book is in different form as 24.42e-40 Cm"
     ],
     "language": "python",
     "metadata": {},
     "outputs": [
      {
       "output_type": "stream",
       "stream": "stdout",
       "text": [
        "Induced dipole moment is  2.445e-39 Cm\n"
       ]
      }
     ],
     "prompt_number": 5
    },
    {
     "cell_type": "heading",
     "level": 2,
     "metadata": {},
     "source": [
      "Eg5:pg-121"
     ]
    },
    {
     "cell_type": "code",
     "collapsed": false,
     "input": [
      "Epsilon=1.46e-10 #permittivity of diamond in C**2/Nm**2\n",
      "Eo=8.86e-12      #permittivity of free space in C**2/Nm**2\n",
      "Er=Epsilon/Eo    \n",
      "X=Eo*(Er-1)\n",
      "print\"Dielectric constant is \",round(Er,2)\n",
      "print\"Electrical susceptibility is \",round(X,12),\"C**2/Nm**2\""
     ],
     "language": "python",
     "metadata": {},
     "outputs": [
      {
       "output_type": "stream",
       "stream": "stdout",
       "text": [
        "Dielectric constant is  16.48\n",
        "Electrical susceptibility is  1.37e-10 C**2/Nm**2\n"
       ]
      }
     ],
     "prompt_number": 6
    },
    {
     "cell_type": "heading",
     "level": 2,
     "metadata": {},
     "source": [
      "Eg6:pg-121"
     ]
    },
    {
     "cell_type": "code",
     "collapsed": false,
     "input": [
      "Xe=35.4e-12   #electrical susceptibility in C**2/Nm**2\n",
      "Eo=8.85e-12   #permittivity of free space in C**2/Nm**2 \n",
      "K=1+(Xe/Eo)\n",
      "Epsilon=Eo*K\n",
      "print\"Dielectric constant is \",int(K)\n",
      "print\"Permittivity of the material is \",Epsilon,\"C**2/Nm**2\"\n",
      "#answer in book is in different form as 44.25e-12 C**2/Nm**2"
     ],
     "language": "python",
     "metadata": {},
     "outputs": [
      {
       "output_type": "stream",
       "stream": "stdout",
       "text": [
        "Dielectric constant is  5\n",
        "Permittivity of the material is  4.425e-11 C**2/Nm**2\n"
       ]
      }
     ],
     "prompt_number": 7
    },
    {
     "cell_type": "heading",
     "level": 2,
     "metadata": {},
     "source": [
      "Eg7:pg-121"
     ]
    },
    {
     "cell_type": "code",
     "collapsed": false,
     "input": [
      "Vo=60   #applied potential difference in volt\n",
      "V=30    #reduced potential difference in volt\n",
      "K=Vo/V\n",
      "print\"Dielectric constant of the liquid is \",K"
     ],
     "language": "python",
     "metadata": {},
     "outputs": [
      {
       "output_type": "stream",
       "stream": "stdout",
       "text": [
        "Dielectric constant of the liquid is  2\n"
       ]
      }
     ],
     "prompt_number": 8
    },
    {
     "cell_type": "heading",
     "level": 2,
     "metadata": {},
     "source": [
      "Eg8:pg-121"
     ]
    },
    {
     "cell_type": "code",
     "collapsed": false,
     "input": [
      "Vo=100   #potential difference in volts\n",
      "t=0.3    #thickness of insulator in cm\n",
      "A=100    #area in cm**2\n",
      "d=1      #separation between plates in cm\n",
      "K=7      #dielectric constant \n",
      "Eo=8.9e-12 #permittivity of free space in C**2/Nm**2\n",
      "E_o=Vo/(d*1e-2)\n",
      "E=E_o/K\n",
      "D=K*Eo*E\n",
      "p=(K-1)*Eo*E\n",
      "print\"E = \",\"{:.2e}\".format(E),\"Volt/m\"\n",
      "print\"D = \",D,\"C/m**2\"\n",
      "print\"p = \",round(p,9),\"C/m**2\""
     ],
     "language": "python",
     "metadata": {},
     "outputs": [
      {
       "output_type": "stream",
       "stream": "stdout",
       "text": [
        "E =  1.43e+03 Volt/m\n",
        "D =  8.9e-08 C/m**2\n",
        "p =  7.6e-08 C/m**2\n"
       ]
      }
     ],
     "prompt_number": 9
    },
    {
     "cell_type": "heading",
     "level": 2,
     "metadata": {},
     "source": [
      "Eg9:pg-122"
     ]
    },
    {
     "cell_type": "code",
     "collapsed": false,
     "input": [
      "E=6e4       #electric field in V/m\n",
      "K=1.000134  #dielectric constant of neon\n",
      "Eo=8.9e-12  #permittivity of free space in F/m\n",
      "Na=6e23     #Avogadro number\n",
      "V=22.4      #volume occupied by 1gm atom of gas at NTP in litres\n",
      "p=Eo*(K-1)*E\n",
      "N=Na/(V*1e-3)\n",
      "P=p/N\n",
      "alpha=P/(Eo*E)\n",
      "print\"Induced dipole moment is\",round(P,38),\"Cm\"\n",
      "print\"Atomic polarizability of neon is \",round(alpha,32),\"m**3\"\n",
      "#answer in book is wrong"
     ],
     "language": "python",
     "metadata": {},
     "outputs": [
      {
       "output_type": "stream",
       "stream": "stdout",
       "text": [
        "Induced dipole moment is 2.67e-36 Cm\n",
        "Atomic polarizability of neon is  5e-30 m**3\n"
       ]
      }
     ],
     "prompt_number": 13
    },
    {
     "cell_type": "heading",
     "level": 2,
     "metadata": {},
     "source": [
      "Eg11:pg-123"
     ]
    },
    {
     "cell_type": "code",
     "collapsed": false,
     "input": [
      "Er=1.0024   #dielectric constant of argon atom\n",
      "N=2.7e25    #number of atoms per cubic meter\n",
      "Eo=8.85e-12 #permittivity of free space in F/m\n",
      "alpha_e=Eo*(Er-1)/N\n",
      "print\"Electronic polarizability is \",round(alpha_e,41),\"Fm**2\"\n",
      "#answer is wrong in book"
     ],
     "language": "python",
     "metadata": {},
     "outputs": [
      {
       "output_type": "stream",
       "stream": "stdout",
       "text": [
        "Electronic polarizability is  7.9e-40 Fm**2\n"
       ]
      }
     ],
     "prompt_number": 15
    },
    {
     "cell_type": "heading",
     "level": 2,
     "metadata": {},
     "source": [
      "Eg12:pg-123"
     ]
    },
    {
     "cell_type": "code",
     "collapsed": false,
     "input": [
      "import math\n",
      "N=9.8e26    #number of atoms in volume of one cubic meter of hydrogen gas\n",
      "Eo=8.85e-12 #permittivity of free space in F/m\n",
      "ao=0.53e-10 #radius of hydrogen atom in meter\n",
      "alpha=4*math.pi*Eo*ao**3\n",
      "Er=1+(4*math.pi*N*ao**3)\n",
      "print\"Polarizability is \",round(alpha,43),\"Fm**2\"\n",
      "print\"Relative permittivity is \",round(Er,4)"
     ],
     "language": "python",
     "metadata": {},
     "outputs": [
      {
       "output_type": "stream",
       "stream": "stdout",
       "text": [
        "Polarizability is  1.66e-41 Fm**2\n",
        "Relative permittivity is  1.0018\n"
       ]
      }
     ],
     "prompt_number": 16
    },
    {
     "cell_type": "heading",
     "level": 2,
     "metadata": {},
     "source": [
      "Eg13:pg-124"
     ]
    },
    {
     "cell_type": "code",
     "collapsed": false,
     "input": [
      "alpha_300=2.5e-39 # total polarizability in C**2m/N at 300 K\n",
      "alpha_400=2.0e-39 # total polarizability in C**2m/N at 400 K\n",
      "T1 =300           # temperature in Kelvin\n",
      "T2 =400           # temperature in Kelvin\n",
      "beta=(alpha_300-alpha_400)*(T1*T2/(T2-T1))\n",
      "alpha_def_300=alpha_300 - beta/300\n",
      "alpha_oriant_300=beta/300\n",
      "alpha_oriant_400=beta/400\n",
      "print\"Deformational Polarizability is \",alpha_def_300,\"C**2mN**-1\"\n",
      "print\"Orientational Polarizability at %d K is \"%T1,alpha_oriant_300,\"C**2mN**-1\"\n",
      "print\"Orientational Polarizability at %d K is \"%T2,alpha_oriant_400,\"C**2mN**-1\""
     ],
     "language": "python",
     "metadata": {},
     "outputs": [
      {
       "output_type": "stream",
       "stream": "stdout",
       "text": [
        "Deformational Polarizability is  5e-40 C**2mN**-1\n",
        "Orientational Polarizability at 300 K is  2e-39 C**2mN**-1\n",
        "Orientational Polarizability at 400 K is  1.5e-39 C**2mN**-1\n"
       ]
      }
     ],
     "prompt_number": 17
    },
    {
     "cell_type": "heading",
     "level": 2,
     "metadata": {},
     "source": [
      "Eg14:pg-132"
     ]
    },
    {
     "cell_type": "code",
     "collapsed": false,
     "input": [
      "m=32              # Atomic weight of sulphur\n",
      "d=2.08            # Density in g/cm**3\n",
      "alpha_e=3.28e-40  # Electronic polarizability in Fm**2\n",
      "Na=6.023e23       # Avogadro Number\n",
      "Eo=8.85e-12       # Permittivity of free space in F/m\n",
      "N=Na*d*1e6/m      \n",
      "k=N*alpha_e/(3*Eo)\n",
      "epsilon_r = (1+ k*2)/(1-k)# Calculation of relative permittivity\n",
      "print\"Relative dielectric constant is \",round(epsilon_r,1)"
     ],
     "language": "python",
     "metadata": {},
     "outputs": [
      {
       "output_type": "stream",
       "stream": "stdout",
       "text": [
        "Relative dielectric constant is  3.8\n"
       ]
      }
     ],
     "prompt_number": 18
    },
    {
     "cell_type": "heading",
     "level": 2,
     "metadata": {},
     "source": [
      "Eg15:pg-132"
     ]
    },
    {
     "cell_type": "code",
     "collapsed": false,
     "input": [
      "n=1.5  # Refractive index\n",
      "Er=5.6 # Static dielectric constant\n",
      "per=(1-((n**2-1)/(n**2+2))*(Er+2)/(Er-1))*100 # Pecentage of ionic polarizability\n",
      "print\"Percentage of ionic polarizability is \",round(per,1),\"%\""
     ],
     "language": "python",
     "metadata": {},
     "outputs": [
      {
       "output_type": "stream",
       "stream": "stdout",
       "text": [
        "Percentage of ionic polarizability is  51.4 %\n"
       ]
      }
     ],
     "prompt_number": 20
    },
    {
     "cell_type": "heading",
     "level": 2,
     "metadata": {},
     "source": [
      "Eg16:pg-133"
     ]
    },
    {
     "cell_type": "code",
     "collapsed": false,
     "input": [
      "n=sqrt(2.69) # Refractive index\n",
      "Er=4.94      # Static dielectric constant\n",
      "k1=(Er-1)/(Er+2)\n",
      "k2=(n**2-1)/(n**2+2)\n",
      "ratio=1/round(((k1/k2)-1),3) \n",
      "print\"Ratio of electronic to ionic polarizability is \",round(ratio,3)\n",
      "#in book ai/ae is mentioned instead of ae/ai in final answer which is wrong"
     ],
     "language": "python",
     "metadata": {},
     "outputs": [
      {
       "output_type": "stream",
       "stream": "stdout",
       "text": [
        "Ratio of electronic to ionic polarizability is  1.736\n"
       ]
      }
     ],
     "prompt_number": 21
    },
    {
     "cell_type": "heading",
     "level": 2,
     "metadata": {},
     "source": [
      "Eg17:pg-133"
     ]
    },
    {
     "cell_type": "code",
     "collapsed": false,
     "input": [
      "Er=6.75  #dielectric constant of glass\n",
      "n=1.5    #refractive index of glass\n",
      "f=1e9    #frequency in Hz\n",
      "per=(Er-n**2)*100/(Er-1)\n",
      "print\"Percentage attributed to ionic polarizability is \",round(per,1),\"%\""
     ],
     "language": "python",
     "metadata": {},
     "outputs": [
      {
       "output_type": "stream",
       "stream": "stdout",
       "text": [
        "Percentage attributed to ionic polarizability is  78.3 %\n"
       ]
      }
     ],
     "prompt_number": 22
    },
    {
     "cell_type": "heading",
     "level": 2,
     "metadata": {},
     "source": [
      "Eg18:pg-142"
     ]
    },
    {
     "cell_type": "code",
     "collapsed": false,
     "input": [
      "t=5.5e-3    #thickness of quartz crystal plate in meter\n",
      "p=2.65e3    #density of quartz crystal in Kg/m**3\n",
      "Y=8e10      #Young's modulus of quartz in N/m**2 (value is wrong in question in book)\n",
      "m=1         \n",
      "f=m*sqrt(Y/p)/(2*t)\n",
      "print\"Frequency is \",int(f*1e-3),\"KHz\""
     ],
     "language": "python",
     "metadata": {},
     "outputs": [
      {
       "output_type": "stream",
       "stream": "stdout",
       "text": [
        "Frequency is  499 KHz\n"
       ]
      }
     ],
     "prompt_number": 23
    },
    {
     "cell_type": "heading",
     "level": 2,
     "metadata": {},
     "source": [
      "Eg19:pg-148"
     ]
    },
    {
     "cell_type": "code",
     "collapsed": false,
     "input": [
      "import cmath\n",
      "Er=4.36     #real part of dielectric constant of bakelite\n",
      "N=4e28      #number of atoms per cubic meter\n",
      "tan_d=2.8e-2#loss tangent at 1 MHz freuqency\n",
      "Eo=8.853e-12#permittivity of free space in F/m\n",
      "alpha=(3*Eo/N)*(Er*(1-(1j*tan_d))-1)/(Er*(1-(1j*tan_d))+2)\n",
      "x=round(alpha.real*1e40,1)\n",
      "y=round(alpha.imag*1e40,2)\n",
      "alpha=complex(x,y)\n",
      "print\"Complex polarizability is \",alpha*1e-40,\"Fm**2\"\n",
      "#in book answer is in different form and as (3.5-0.06i)*10**-40\n",
      "#in book unit of answer is not mentioned"
     ],
     "language": "python",
     "metadata": {},
     "outputs": [
      {
       "output_type": "stream",
       "stream": "stdout",
       "text": [
        "Complex polarizability is  (3.5e-40-6e-42j) Fm**2\n"
       ]
      }
     ],
     "prompt_number": 24
    },
    {
     "cell_type": "heading",
     "level": 2,
     "metadata": {},
     "source": [
      "Eg20:pg-149"
     ]
    },
    {
     "cell_type": "code",
     "collapsed": false,
     "input": [
      "import math \n",
      "t=18e-6   # Relaxation time in second\n",
      "Er_d=1    # let real part of dielectric constant be 1\n",
      "Er_dd=1   # let imaginary part of dielectric constant be 1\n",
      "f=1/(2*math.pi*t) # Calculation of frequency\n",
      "delta=math.atan(Er_dd/Er_d)\n",
      "phi=90-(delta*180/math.pi) # Calculation of phase difference\n",
      "print\"Frequency is \",round(f/1e3,1),\"KHz\"\n",
      "print\"Phase difference between current and voltage is %d degree\"%(phi)\n",
      "print\"Current leads the voltage \"#this part is not mentioned in answer in book"
     ],
     "language": "python",
     "metadata": {},
     "outputs": [
      {
       "output_type": "stream",
       "stream": "stdout",
       "text": [
        "Frequency is  8.8 KHz\n",
        "Phase difference between current and voltage is 45 degree\n",
        "Current leads the voltage \n"
       ]
      }
     ],
     "prompt_number": 25
    },
    {
     "cell_type": "code",
     "collapsed": false,
     "input": [],
     "language": "python",
     "metadata": {},
     "outputs": []
    }
   ],
   "metadata": {}
  }
 ]
}