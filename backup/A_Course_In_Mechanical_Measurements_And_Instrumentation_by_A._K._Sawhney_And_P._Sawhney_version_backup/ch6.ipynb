{
 "metadata": {
  "name": "",
  "signature": "sha256:918235f4b2bfd4a24a1f3adb5ce3a07d29dd6848cf00df31612a375f1aec5802"
 },
 "nbformat": 3,
 "nbformat_minor": 0,
 "worksheets": [
  {
   "cells": [
    {
     "cell_type": "heading",
     "level": 1,
     "metadata": {},
     "source": [
      "Chapter 6 : Signal Conditioning"
     ]
    },
    {
     "cell_type": "heading",
     "level": 2,
     "metadata": {},
     "source": [
      "Example 6.1  Page No : 283"
     ]
    },
    {
     "cell_type": "code",
     "collapsed": false,
     "input": [
      "# Variables\n",
      "A = 100.;\n",
      "R1 = 1.*10**3;\n",
      "\n",
      "# Calculations\n",
      "Rf = -A*R1;\n",
      "\n",
      "# Results\n",
      "print \"feedback resistance (ohm) = \", Rf\n"
     ],
     "language": "python",
     "metadata": {},
     "outputs": [
      {
       "output_type": "stream",
       "stream": "stdout",
       "text": [
        "feedback resistance (ohm) =  -100000.0\n"
       ]
      }
     ],
     "prompt_number": 1
    },
    {
     "cell_type": "heading",
     "level": 2,
     "metadata": {},
     "source": [
      "Example 6.2  Page No : 285"
     ]
    },
    {
     "cell_type": "code",
     "collapsed": false,
     "input": [
      "\n",
      "# Variables\n",
      "Rf = 10.;\n",
      "R1 = 1.;\n",
      "Avol = 200000.;\n",
      "\n",
      "# Calculations\n",
      "A = -(Rf/R1)*(1./(1.+(1./Avol)*((R1+Rf)/R1)));\n",
      "\n",
      "# Results\n",
      "print \"closed loop gain = \", A\n"
     ],
     "language": "python",
     "metadata": {},
     "outputs": [
      {
       "output_type": "stream",
       "stream": "stdout",
       "text": [
        "closed loop gain =  -9.99945003025\n"
       ]
      }
     ],
     "prompt_number": 2
    },
    {
     "cell_type": "heading",
     "level": 2,
     "metadata": {},
     "source": [
      "Example 6.3  Page No : 287"
     ]
    },
    {
     "cell_type": "code",
     "collapsed": false,
     "input": [
      "\n",
      "# Calculations and Results\n",
      "Sa = 10;\n",
      "print \" saturation voltage = \", Sa\n",
      "Vom = Sa;\n",
      "print \"maximum output voltage\", Vom\n"
     ],
     "language": "python",
     "metadata": {},
     "outputs": [
      {
       "output_type": "stream",
       "stream": "stdout",
       "text": [
        " saturation voltage =  10\n",
        "maximum output voltage 10\n"
       ]
      }
     ],
     "prompt_number": 3
    },
    {
     "cell_type": "heading",
     "level": 2,
     "metadata": {},
     "source": [
      "Example 6.4  Page No : 289"
     ]
    },
    {
     "cell_type": "code",
     "collapsed": false,
     "input": [
      "\n",
      "# Variables\n",
      "Vos = 5.*10**-3;\n",
      "Rf = 10.;\n",
      "R1 = 1.;\n",
      "\n",
      "# Calculations\n",
      "Vo = -Vos*(1+Rf/R1);\n",
      "\n",
      "# Results\n",
      "print \"output voltage due to offset voltage (V) = \", Vo\n"
     ],
     "language": "python",
     "metadata": {},
     "outputs": [
      {
       "output_type": "stream",
       "stream": "stdout",
       "text": [
        "output voltage due to offset voltage (V) =  -0.055\n"
       ]
      }
     ],
     "prompt_number": 4
    },
    {
     "cell_type": "heading",
     "level": 2,
     "metadata": {},
     "source": [
      "Example 6.5  Page No : 291"
     ]
    },
    {
     "cell_type": "code",
     "collapsed": false,
     "input": [
      "# Variables\n",
      "Rf = 10.;\n",
      "R1 = 1;\n",
      "\n",
      "# Calculations\n",
      "A = Rf/R1;\n",
      "\n",
      "# Results\n",
      "print \"Amplification Factor = \", A\n"
     ],
     "language": "python",
     "metadata": {},
     "outputs": [
      {
       "output_type": "stream",
       "stream": "stdout",
       "text": [
        "Amplification Factor =  10.0\n"
       ]
      }
     ],
     "prompt_number": 5
    },
    {
     "cell_type": "heading",
     "level": 2,
     "metadata": {},
     "source": [
      "Example 6.6  Page No : 293"
     ]
    },
    {
     "cell_type": "code",
     "collapsed": false,
     "input": [
      "\n",
      "# Variables\n",
      "V1 = 1.;\n",
      "V2 = -2.;\n",
      "Rf = 500.;\n",
      "R1 = 250.;\n",
      "R2 = 100.;\n",
      "\n",
      "# Calculations\n",
      "Vo = -(((Rf/R1)*V1)+((Rf/R2)*V2));\n",
      "\n",
      "# Results\n",
      "print \"output voltage(V) = \", Vo\n"
     ],
     "language": "python",
     "metadata": {},
     "outputs": [
      {
       "output_type": "stream",
       "stream": "stdout",
       "text": [
        "output voltage(V) =  8.0\n"
       ]
      }
     ],
     "prompt_number": 6
    },
    {
     "cell_type": "heading",
     "level": 2,
     "metadata": {},
     "source": [
      "Example 6.7  Page No : 295"
     ]
    },
    {
     "cell_type": "code",
     "collapsed": false,
     "input": [
      "\n",
      "# Variables\n",
      "Rf = 100.*10**3;\n",
      "R1 = 1*10**3;\n",
      "\n",
      "# Calculations and Results\n",
      "A = Rf/R1;\n",
      "print \"Gain = \", A\n",
      "print \"If multiplier is 10\",\n",
      "A = 10;\n",
      "Rf = A*R1;\n",
      "print \" feedback resistance (Ohm) = \", Rf\n"
     ],
     "language": "python",
     "metadata": {},
     "outputs": [
      {
       "output_type": "stream",
       "stream": "stdout",
       "text": [
        "Gain =  100.0\n",
        "If multiplier is 10  feedback resistance (Ohm) =  10000\n"
       ]
      }
     ],
     "prompt_number": 7
    },
    {
     "cell_type": "heading",
     "level": 2,
     "metadata": {},
     "source": [
      "Example 6.8  Page No : 297"
     ]
    },
    {
     "cell_type": "code",
     "collapsed": false,
     "input": [
      "\n",
      "# Variables\n",
      "g = 10.;\n",
      "Rf = 10.;\n",
      "\n",
      "# Calculations and Results\n",
      "R1 = Rf/g;\n",
      "print \"resistance R1(Kilo-ohms) = \", R1\n",
      "R2 = Rf/(0.5*g);\n",
      "print \"resistance R1(Kilo-ohms) = \", R2\n",
      "R3 = Rf/(0.333*g);\n",
      "print \"resistance R1(Kilo-ohms) = \", R3\n"
     ],
     "language": "python",
     "metadata": {},
     "outputs": [
      {
       "output_type": "stream",
       "stream": "stdout",
       "text": [
        "resistance R1(Kilo-ohms) =  1.0\n",
        "resistance R1(Kilo-ohms) =  2.0\n",
        "resistance R1(Kilo-ohms) =  3.003003003\n"
       ]
      }
     ],
     "prompt_number": 8
    },
    {
     "cell_type": "heading",
     "level": 2,
     "metadata": {},
     "source": [
      "Example 6.9  Page No : 299"
     ]
    },
    {
     "cell_type": "code",
     "collapsed": false,
     "input": [
      "\n",
      "# Variables\n",
      "Voramp = -10;\n",
      "print \"if voltage source is 10V then RC =  1 ms and if C = 1 micro-F\"\n",
      "\n",
      "# Calculations\n",
      "C = 1;\n",
      "R = 1*10**-3*10**6;\n",
      "\n",
      "# Results\n",
      "print \"value of resistance (ohm) =  \", R\n"
     ],
     "language": "python",
     "metadata": {},
     "outputs": [
      {
       "output_type": "stream",
       "stream": "stdout",
       "text": [
        "if voltage source is 10V then RC =  1 ms and if C = 1 micro-F\n",
        "value of resistance (ohm) =   1000.0\n"
       ]
      }
     ],
     "prompt_number": 9
    },
    {
     "cell_type": "heading",
     "level": 2,
     "metadata": {},
     "source": [
      "Example 6.10  Page No : 301"
     ]
    },
    {
     "cell_type": "code",
     "collapsed": false,
     "input": [
      "\n",
      "# Variables\n",
      "V2 = 5.*10**-3;\n",
      "V1 = 3.*10**-3;\n",
      "Vo = 300.*10**-3;\n",
      "\n",
      "# Calculations and Results\n",
      "Vd = V2-V1;\n",
      "Ad = Vo/Vd;\n",
      "print \"difference mode gain = \", Ad\n",
      "V2 = 155*10**-3;\n",
      "V1 = 153*10**-3;\n",
      "Vo = Ad*(V2-V1);\n",
      "print \"output voltage (V) = \", Vo\n"
     ],
     "language": "python",
     "metadata": {},
     "outputs": [
      {
       "output_type": "stream",
       "stream": "stdout",
       "text": [
        "difference mode gain =  150.0\n",
        "output voltage (V) =  0.3\n"
       ]
      }
     ],
     "prompt_number": 10
    },
    {
     "cell_type": "heading",
     "level": 2,
     "metadata": {},
     "source": [
      "Example 6.11  Page No : 303"
     ]
    },
    {
     "cell_type": "code",
     "collapsed": false,
     "input": [
      "\n",
      "# Variables\n",
      "Vo = 3.;\n",
      "Vd = 30.*10**-3;\n",
      "\n",
      "# Calculations and Results\n",
      "Ad = Vo/Vd;\n",
      "print \"difference mode gain = \", Ad\n",
      "Vo = 5.*10**-3;\n",
      "Vc = 500.*10**-3;\n",
      "Ac = Vo/Vc;\n",
      "print \"Common mode gain = \", Ac\n",
      "CMRR = Ad/Ac;\n",
      "print \"Common mode rejection ratio = \", CMRR\n"
     ],
     "language": "python",
     "metadata": {},
     "outputs": [
      {
       "output_type": "stream",
       "stream": "stdout",
       "text": [
        "difference mode gain =  100.0\n",
        "Common mode gain =  0.01\n",
        "Common mode rejection ratio =  10000.0\n"
       ]
      }
     ],
     "prompt_number": 11
    },
    {
     "cell_type": "heading",
     "level": 2,
     "metadata": {},
     "source": [
      "Example 6.12  Page No : 305"
     ]
    },
    {
     "cell_type": "code",
     "collapsed": false,
     "input": [
      "\n",
      "# Variables\n",
      "V2 = 30.*10**-3;\n",
      "V1 = -30.*10**-3;\n",
      "Vd = V2-V1;\n",
      "Ad = 150.;\n",
      "Vos = Ad*Vd;\n",
      "Ac = 0.04;\n",
      "Vc = 600.*10**-3;\n",
      "\n",
      "# Calculations\n",
      "Von = Ac*Vc;\n",
      "SNR = Vos/Von;\n",
      "CMRR = Ad/Ac;\n",
      "\n",
      "# Results\n",
      "print \"Signal to Noise Ratio = \", SNR\n",
      "\n",
      "print \"CMRR = \", CMRR\n"
     ],
     "language": "python",
     "metadata": {},
     "outputs": [
      {
       "output_type": "stream",
       "stream": "stdout",
       "text": [
        "Signal to Noise Ratio =  375.0\n",
        "CMRR =  3750.0\n"
       ]
      }
     ],
     "prompt_number": 12
    },
    {
     "cell_type": "heading",
     "level": 2,
     "metadata": {},
     "source": [
      "Example 6.13  Page No : 307"
     ]
    },
    {
     "cell_type": "code",
     "collapsed": false,
     "input": [
      "\n",
      "# Variables\n",
      "Ci = 10.*10**-12;\n",
      "Vi = 10.;\n",
      "Eo = 8.85*10**-12;\n",
      "\n",
      "# Calculations and Results\n",
      "A = 200.*10**-6;\n",
      "K = -Ci*Vi/(Eo*A);\n",
      "print \"sensitivity (V/mm) = \", K\n",
      "d = 1*10**-6;\n",
      "Vo = K*d;\n",
      "print \"output voltage (V) = \", Vo\n"
     ],
     "language": "python",
     "metadata": {},
     "outputs": [
      {
       "output_type": "stream",
       "stream": "stdout",
       "text": [
        "sensitivity (V/mm) =  -56497.1751412\n",
        "output voltage (V) =  -0.0564971751412\n"
       ]
      }
     ],
     "prompt_number": 13
    },
    {
     "cell_type": "heading",
     "level": 2,
     "metadata": {},
     "source": [
      "Example 6.14  Page No : 309"
     ]
    },
    {
     "cell_type": "code",
     "collapsed": false,
     "input": [
      "import math\n",
      "\n",
      "# Calculations and Results\n",
      "MXtc =  10.**10*1000*10**-12;\n",
      "print \"Maximum time constant (s)\", MXtc\n",
      "MNtc =  10.**8*10*10**-12;\n",
      "print \"Minimum time constant (s)\", MNtc\n",
      "AR = 0.95;\n",
      "fmin = (AR)/(2*math.pi*MXtc*(1-AR**2)**0.5);\n",
      "print \"minimum frequency (Hz)\", fmin\n",
      "fmax = (AR)/(2*math.pi*MNtc*(1-AR**2)**0.5);\n",
      "print \"Maximum frequency (Hz)\", fmax\n"
     ],
     "language": "python",
     "metadata": {},
     "outputs": [
      {
       "output_type": "stream",
       "stream": "stdout",
       "text": [
        "Maximum time constant (s) 10.0\n",
        "Minimum time constant (s) 0.001\n",
        "minimum frequency (Hz) 0.0484218556919\n",
        "Maximum frequency (Hz) 484.218556919\n"
       ]
      }
     ],
     "prompt_number": 15
    },
    {
     "cell_type": "heading",
     "level": 2,
     "metadata": {},
     "source": [
      "Example 6.15  Page No : 311"
     ]
    },
    {
     "cell_type": "code",
     "collapsed": false,
     "input": [
      "import math \n",
      "\n",
      "# Variables\n",
      "g = 0.501;\n",
      "f = 50;\n",
      "\n",
      "# Calculations and Results\n",
      "w = 2*math.pi*f;\n",
      "tc = (1-g**2)**0.5/(w*g);\n",
      "print \"time constant (s)\", tc\n",
      "R = 10000;\n",
      "C = (tc/R)*10**6;\n",
      "print \"capacitance (micro-F)\", C\n"
     ],
     "language": "python",
     "metadata": {},
     "outputs": [
      {
       "output_type": "stream",
       "stream": "stdout",
       "text": [
        "time constant (s) 0.00549861130167\n",
        "capacitance (micro-F) 0.549861130167\n"
       ]
      }
     ],
     "prompt_number": 16
    },
    {
     "cell_type": "heading",
     "level": 2,
     "metadata": {},
     "source": [
      "Example 6.16  Page No : 313"
     ]
    },
    {
     "cell_type": "code",
     "collapsed": false,
     "input": [
      "import math \n",
      "\n",
      "# Variables\n",
      "R1 = 10.*10**3;\n",
      "R2 = 1.*10**6;\n",
      "\n",
      "# Calculations and Results\n",
      "A = R2/(R1+R2);\n",
      "print \"gain = \", A\n",
      "C2 = (0.01)*10**-6;\n",
      "C1 = 100.*10**-12;\n",
      "fcl = 1./(2*math.pi*C2*R2);\n",
      "print \"lower cut off frequency (Hz)\", fcl\n",
      "fcu = 1./(2*math.pi*R1*C1);\n",
      "print \"upper cut off frequency (Hz)\", fcu\n"
     ],
     "language": "python",
     "metadata": {},
     "outputs": [
      {
       "output_type": "stream",
       "stream": "stdout",
       "text": [
        "gain =  0.990099009901\n",
        "lower cut off frequency (Hz) 15.9154943092\n",
        "upper cut off frequency (Hz) 159154.943092\n"
       ]
      }
     ],
     "prompt_number": 17
    },
    {
     "cell_type": "heading",
     "level": 2,
     "metadata": {},
     "source": [
      "Example 6.17  Page No : 315"
     ]
    },
    {
     "cell_type": "code",
     "collapsed": false,
     "input": [
      "import math \n",
      "\n",
      "# Variables\n",
      "R = 1.*10**6;\n",
      "fo = 10.*10**3;\n",
      "\n",
      "# Calculations\n",
      "C = 1/(2*math.pi*fo*R);\n",
      "\n",
      "# Results\n",
      "print \"the value of C (F)\", C\n"
     ],
     "language": "python",
     "metadata": {},
     "outputs": [
      {
       "output_type": "stream",
       "stream": "stdout",
       "text": [
        "the value of C (F) 1.59154943092e-11\n"
       ]
      }
     ],
     "prompt_number": 18
    },
    {
     "cell_type": "heading",
     "level": 2,
     "metadata": {},
     "source": [
      "Example 6.19  Page No : 317"
     ]
    },
    {
     "cell_type": "code",
     "collapsed": false,
     "input": [
      "import math \n",
      "\n",
      "# Variables\n",
      "Rt = 100.;\n",
      "K = 1.;\n",
      "\n",
      "# Calculations and Results\n",
      "Rb = K*Rt;\n",
      "ei = 10;\n",
      "print \"When K = 1\"\n",
      "eo = ((K*Rt/Rb)/(1+(K*Rt/Rb)))*ei;\n",
      "print \"output voltage (V) =  \", eo\n",
      "Se = (ei*Rb)/((Rb+K*Rt)**2);\n",
      "print \"sensitivity (V/ohm) =  \", Se\n",
      "K = 0.95;\n",
      "print \"When K = 0.95\",\n",
      "eo = ((K*Rt/Rb)/(1+(K*Rt/Rb)))*ei;\n",
      "print \"output voltage (V) =  \", eo\n",
      "Se = (ei*Rb)/((Rb+K*Rt)**2);\n",
      "print \"sensitivity (V/ohm) =  \", Se\n"
     ],
     "language": "python",
     "metadata": {},
     "outputs": [
      {
       "output_type": "stream",
       "stream": "stdout",
       "text": [
        "When K = 1\n",
        "output voltage (V) =   5.0\n",
        "sensitivity (V/ohm) =   0.025\n",
        "When K = 0.95 output voltage (V) =   4.87179487179\n",
        "sensitivity (V/ohm) =   0.0262984878369\n"
       ]
      }
     ],
     "prompt_number": 19
    },
    {
     "cell_type": "heading",
     "level": 2,
     "metadata": {},
     "source": [
      "Example 6.20  Page No : 319"
     ]
    },
    {
     "cell_type": "code",
     "collapsed": false,
     "input": [
      "import math \n",
      "\n",
      "# Variables\n",
      "ei = 100.;\n",
      "K = 0.25;\n",
      "print \"When K = 0.25\"\n",
      "\n",
      "# Calculations and Results\n",
      "eo = ((K/6)/(1+(K/6)))*ei;\n",
      "print \"output voltage (V) =  \", eo\n",
      "K = 0.5;\n",
      "print \"When K = 0.5\",\n",
      "eo = ((K/6)/(1+(K/6)))*ei;\n",
      "print \"output voltage (V) =  \", eo\n",
      "K = 0.6;\n",
      "print \"When K = 0.6\",\n",
      "eo = ((K/6)/(1+(K/6)))*ei;\n",
      "print \"output voltage (V) =  \", eo\n",
      "K = 0.8;\n",
      "print \"When K = 0.8\",\n",
      "eo = ((K/6)/(1+(K/6)))*ei;\n",
      "print \"output voltage (V) =  \", eo\n"
     ],
     "language": "python",
     "metadata": {},
     "outputs": [
      {
       "output_type": "stream",
       "stream": "stdout",
       "text": [
        "When K = 0.25\n",
        "output voltage (V) =   4.0\n",
        "When K = 0.5 output voltage (V) =   7.69230769231\n",
        "When K = 0.6 output voltage (V) =   9.09090909091\n",
        "When K = 0.8 output voltage (V) =   11.7647058824\n"
       ]
      }
     ],
     "prompt_number": 20
    },
    {
     "cell_type": "heading",
     "level": 2,
     "metadata": {},
     "source": [
      "Example 6.21  Page No : 321"
     ]
    },
    {
     "cell_type": "code",
     "collapsed": false,
     "input": [
      "import math \n",
      "\n",
      "# Variables\n",
      "R2 = 119;\n",
      "R3 = 119.7;\n",
      "R1 = 120.4;\n",
      "R4 = R2*R3/R1;\n",
      "R4 = 121.2;\n",
      "ei = 12;\n",
      "\n",
      "# Calculations\n",
      "eo = ((R1*R4-R2*R3)/((R1+R3)*(R2+R4)))*ei;\n",
      "\n",
      "# Results\n",
      "print \" output voltage (V) = \", eo\n"
     ],
     "language": "python",
     "metadata": {},
     "outputs": [
      {
       "output_type": "stream",
       "stream": "stdout",
       "text": [
        " output voltage (V) =  0.0724469161996\n"
       ]
      }
     ],
     "prompt_number": 21
    },
    {
     "cell_type": "heading",
     "level": 2,
     "metadata": {},
     "source": [
      "Example 6.22  Page No : 323"
     ]
    },
    {
     "cell_type": "code",
     "collapsed": false,
     "input": [
      "\n",
      "# Variables\n",
      "ei = 6.;\n",
      "R = 10000.;\n",
      "print \"if dR = 0.05R\"\n",
      "\n",
      "# Calculations and Results\n",
      "dR = 0.05*R;\n",
      "eo = ((dR/R)/(4+2*(dR/R)))*ei;\n",
      "print \"output voltage (V)\", eo\n",
      "print \"if dR = -0.05R\"\n",
      "dR = -0.05*R;\n",
      "eo = ((dR/R)/(4+2*(dR/R)))*ei;\n",
      "print \"output voltage (V)\", eo\n"
     ],
     "language": "python",
     "metadata": {},
     "outputs": [
      {
       "output_type": "stream",
       "stream": "stdout",
       "text": [
        "if dR = 0.05R\n",
        "output voltage (V) 0.0731707317073\n",
        "if dR = -0.05R\n",
        "output voltage (V) -0.0769230769231\n"
       ]
      }
     ],
     "prompt_number": 22
    },
    {
     "cell_type": "heading",
     "level": 2,
     "metadata": {},
     "source": [
      "Example 6.23  Page No : 325"
     ]
    },
    {
     "cell_type": "code",
     "collapsed": false,
     "input": [
      "# Variables\n",
      "R2 = 800;\n",
      "R3 = 800;\n",
      "R4 = 800;\n",
      "Rm = 100;\n",
      "R = 800.;\n",
      "ei = 4;\n",
      "\n",
      "# Calculations\n",
      "im = 0.8*10**-6;\n",
      "dR = (im*R**2)*(4*(1+Rm/R))/ei;\n",
      "R1 = R+dR;\n",
      "\n",
      "# Results\n",
      "print \"resistance of unknown resistor (ohm) = \", R1\n"
     ],
     "language": "python",
     "metadata": {},
     "outputs": [
      {
       "output_type": "stream",
       "stream": "stdout",
       "text": [
        "resistance of unknown resistor (ohm) =  800.576\n"
       ]
      }
     ],
     "prompt_number": 23
    },
    {
     "cell_type": "heading",
     "level": 2,
     "metadata": {},
     "source": [
      "Example 6.24  Page No : 327"
     ]
    },
    {
     "cell_type": "code",
     "collapsed": false,
     "input": [
      "\n",
      "# Variables\n",
      "R2 = 1000.;\n",
      "R3 = 1000.;\n",
      "R1 = 1010.;\n",
      "R4 = 1000.;\n",
      "ei = 100.;\n",
      "\n",
      "# Calculations and Results\n",
      "eo = ((R1*R4-R2*R3)/((R1+R3)*(R2+R4)))*ei;\n",
      "print \" open circuit voltage (V) = \", eo\n",
      "Ro = (R1*R4/(R1+R4))+(R2*R3/(R2+R3));\n",
      "Rm = 4000;\n",
      "im = eo/(Ro+Rm);\n",
      "print \"current (A) = \", im\n"
     ],
     "language": "python",
     "metadata": {},
     "outputs": [
      {
       "output_type": "stream",
       "stream": "stdout",
       "text": [
        " open circuit voltage (V) =  0.248756218905\n",
        "current (A) =  4.97265042268e-05\n"
       ]
      }
     ],
     "prompt_number": 25
    },
    {
     "cell_type": "heading",
     "level": 2,
     "metadata": {},
     "source": [
      "Example 6.25  Page No : 329"
     ]
    },
    {
     "cell_type": "code",
     "collapsed": false,
     "input": [
      "\n",
      "# Variables\n",
      "R = 100.;\n",
      "P = 250.*10**-3;\n",
      "\n",
      "# Calculations and Results\n",
      "i = (P/R)**0.5;\n",
      "print \"maximum permissible current (A) = \", i\n",
      "ei = 2*i*R;\n",
      "print \"maximum supply voltage (V) = \", ei\n",
      "Rs = 100.;\n",
      "Ps = 10.**2/Rs;\n",
      "print \"Power dissipation in series resistance (W)\", Ps\n"
     ],
     "language": "python",
     "metadata": {},
     "outputs": [
      {
       "output_type": "stream",
       "stream": "stdout",
       "text": [
        "maximum permissible current (A) =  0.05\n",
        "maximum supply voltage (V) =  10.0\n",
        "Power dissipation in series resistance (W) 1.0\n"
       ]
      }
     ],
     "prompt_number": 26
    },
    {
     "cell_type": "heading",
     "level": 2,
     "metadata": {},
     "source": [
      "Example 6.26  Page No : 331"
     ]
    },
    {
     "cell_type": "code",
     "collapsed": false,
     "input": [
      "\n",
      "# Variables\n",
      "P = (0.1/0.2)*10**-3;\n",
      "R = 1000.;\n",
      "eim = 2*(P*R)**0.5;\n",
      "dth = 0.1;\n",
      "\n",
      "# Calculations\n",
      "dR = (4.5/100)*dth*R;\n",
      "eom = (dR/(4*R))*eim;\n",
      "Sem = eom/dth;\n",
      "\n",
      "# Results\n",
      "print \"maximum voltage sensitivity of the bridge (V) = \", Sem\n"
     ],
     "language": "python",
     "metadata": {},
     "outputs": [
      {
       "output_type": "stream",
       "stream": "stdout",
       "text": [
        "maximum voltage sensitivity of the bridge (V) =  0.0159099025767\n"
       ]
      }
     ],
     "prompt_number": 27
    },
    {
     "cell_type": "heading",
     "level": 2,
     "metadata": {},
     "source": [
      "Example 6.27  Page No : 333"
     ]
    },
    {
     "cell_type": "code",
     "collapsed": false,
     "input": [
      "\n",
      "# Calculations and Results\n",
      "Reso = 10.*10**-3/10;\n",
      "print \"resolution of the instrument = \", Reso\n",
      "n = 10.;\n",
      "Q = 10/2**n;\n",
      "Eq = Q/(2*3**0.5);\n",
      "print \"quantization error = \", Eq\n",
      "D = (2**n)-1;\n",
      "print \"decesion levels = \", D\n"
     ],
     "language": "python",
     "metadata": {},
     "outputs": [
      {
       "output_type": "stream",
       "stream": "stdout",
       "text": [
        "resolution of the instrument =  0.001\n",
        "quantization error =  0.00281909311128\n",
        "decesion levels =  1023.0\n"
       ]
      }
     ],
     "prompt_number": 28
    },
    {
     "cell_type": "heading",
     "level": 2,
     "metadata": {},
     "source": [
      "Example 6.28  Page No : 335"
     ]
    },
    {
     "cell_type": "code",
     "collapsed": false,
     "input": [
      "\n",
      "# Variables\n",
      "Ra = 10.;\n",
      "b = 5.;\n",
      "\n",
      "# Calculations and Results\n",
      "Wmsb = Ra/2;\n",
      "print \"weight of MSB (V) = \", Wmsb\n",
      "Wlsb = Ra/2**b;\n",
      "print \"weight of LSB (V) = \", Wlsb\n"
     ],
     "language": "python",
     "metadata": {},
     "outputs": [
      {
       "output_type": "stream",
       "stream": "stdout",
       "text": [
        "weight of MSB (V) =  5.0\n",
        "weight of LSB (V) =  0.3125\n"
       ]
      }
     ],
     "prompt_number": 29
    },
    {
     "cell_type": "heading",
     "level": 2,
     "metadata": {},
     "source": [
      "Example 6.29  Page No : 337"
     ]
    },
    {
     "cell_type": "code",
     "collapsed": false,
     "input": [
      "\n",
      "# Variables\n",
      "E = 10.;\n",
      "\n",
      "# Calculations and Results\n",
      "ER = E*256/255;\n",
      "print \"Reference voltage (V) = \", ER\n",
      "n = 8.;\n",
      "CVlsb = (2**-n)*ER;\n",
      "PC = CVlsb*100/E;\n",
      "print \"Percentage change  = \", PC\n"
     ],
     "language": "python",
     "metadata": {},
     "outputs": [
      {
       "output_type": "stream",
       "stream": "stdout",
       "text": [
        "Reference voltage (V) =  10.0392156863\n",
        "Percentage change  =  0.392156862745\n"
       ]
      }
     ],
     "prompt_number": 30
    },
    {
     "cell_type": "heading",
     "level": 2,
     "metadata": {},
     "source": [
      "Example 6.30  Page No : 339"
     ]
    },
    {
     "cell_type": "code",
     "collapsed": false,
     "input": [
      "import math \n",
      "\n",
      "# Calculations and Results\n",
      "n = 14.;\n",
      "print \"number of bits  = \", n\n",
      "E = 10.;\n",
      "Q = 10.;\n",
      "LSB = E/2**n;\n",
      "print \"Value of LSB (V)  = \", LSB\n",
      "Eq = Q/(2*(3**0.5));\n",
      "print \"Quantization error (V)  = \", Eq\n",
      "fh = 1000.;\n",
      "fs = 5*fh;\n",
      "print \"minimum sampling rate (Hz)  = \", fs\n",
      "a = 1./16384;\n",
      "ta = 1./(2*math.pi*fh)*a;\n",
      "print \"Aperature time (s)  = \", ta\n",
      "Dr = 6*n;\n",
      "print \"dynamic range (db)  = \", Dr\n"
     ],
     "language": "python",
     "metadata": {},
     "outputs": [
      {
       "output_type": "stream",
       "stream": "stdout",
       "text": [
        "number of bits  =  14.0\n",
        "Value of LSB (V)  =  0.0006103515625\n",
        "Quantization error (V)  =  2.88675134595\n",
        "minimum sampling rate (Hz)  =  5000.0\n",
        "Aperature time (s)  =  9.71404681957e-09\n",
        "dynamic range (db)  =  84.0\n"
       ]
      }
     ],
     "prompt_number": 31
    },
    {
     "cell_type": "heading",
     "level": 2,
     "metadata": {},
     "source": [
      "Example 6.31  Page No : 341"
     ]
    },
    {
     "cell_type": "code",
     "collapsed": false,
     "input": [
      "# Variables\n",
      "ER = 10.;\n",
      "n = 6.;\n",
      "\n",
      "# Calculations and Results\n",
      "Imax = 10*10**-3;\n",
      "R = ER*((2**n)-1)/((2**(n-2))*Imax);\n",
      "print \"resistance (ohm) = \", R\n",
      "LSB = ER/((2**(n-1))*R);\n",
      "print \"smallest output current (A)\", LSB\n"
     ],
     "language": "python",
     "metadata": {},
     "outputs": [
      {
       "output_type": "stream",
       "stream": "stdout",
       "text": [
        "resistance (ohm) =  3937.5\n",
        "smallest output current (A) 7.93650793651e-05\n"
       ]
      }
     ],
     "prompt_number": 32
    },
    {
     "cell_type": "heading",
     "level": 2,
     "metadata": {},
     "source": [
      "Example 6.32  Page No : 343"
     ]
    },
    {
     "cell_type": "code",
     "collapsed": false,
     "input": [
      "\n",
      "# Variables\n",
      "n = 6.;\n",
      "R = 10000.;\n",
      "Io =  (10./10*10**3)*(1*1+1*0.5+1*0.25+0*0.125+1*0.0625)*10**-6;\n",
      "Rf = 5000;\n",
      "\n",
      "# Calculations\n",
      "Eo = -Io*Rf;\n",
      "\n",
      "# Results\n",
      "print \"Output voltage (V) = \", Eo\n"
     ],
     "language": "python",
     "metadata": {},
     "outputs": [
      {
       "output_type": "stream",
       "stream": "stdout",
       "text": [
        "Output voltage (V) =  -9.0625\n"
       ]
      }
     ],
     "prompt_number": 33
    },
    {
     "cell_type": "heading",
     "level": 2,
     "metadata": {},
     "source": [
      "Example 6.33  Page No : 345"
     ]
    },
    {
     "cell_type": "code",
     "collapsed": false,
     "input": [
      "# Calculations and Results\n",
      "print \"Set d3 = 1\"\n",
      "Output = 5./2**1;\n",
      "print \"since 3.217>2.5  so d3 = 1\"\n",
      "print \"Set d2 = 1\"\n",
      "Output = (5./2**1)+(5./2**2);\n",
      "print \"since 3.217< 3.75  so d2 = 0\"\n",
      "print \"Set d1 = 1\",\n",
      "Output = (5./2**1)+(5./2**3);\n",
      "print \"since 3.217>3.125  so d1 = 1\",\n",
      "print \"Set d0 = 1\",\n",
      "Output = (5./2**1)+(5./2**3)+(5./2**4);\n",
      "print \"since 3.217<3.4375  so d0 = 0\",\n",
      "print \"Output of successive approximation A/D  =  1010\",\n"
     ],
     "language": "python",
     "metadata": {},
     "outputs": [
      {
       "output_type": "stream",
       "stream": "stdout",
       "text": [
        "Set d3 = 1\n",
        "since 3.217>2.5  so d3 = 1\n",
        "Set d2 = 1\n",
        "since 3.217< 3.75  so d2 = 0\n",
        "Set d1 = 1 since 3.217>3.125  so d1 = 1 Set d0 = 1 since 3.217<3.4375  so d0 = 0 Output of successive approximation A/D  =  1010\n"
       ]
      }
     ],
     "prompt_number": 34
    },
    {
     "cell_type": "heading",
     "level": 2,
     "metadata": {},
     "source": [
      "Example 6.34  Page No : 347"
     ]
    },
    {
     "cell_type": "code",
     "collapsed": false,
     "input": [
      "\n",
      "# Variables\n",
      "t = 400.;\n",
      "T = t/4;\n",
      "C = 1.*10**-6;\n",
      "v = 20;\n",
      "i = C*100*v/(T);\n",
      "R = 1*10**3;\n",
      "\n",
      "# Calculations\n",
      "e_o = i*R;\n",
      "\n",
      "# Results\n",
      "print \"output voltage(V)\", e_o\n"
     ],
     "language": "python",
     "metadata": {},
     "outputs": [
      {
       "output_type": "stream",
       "stream": "stdout",
       "text": [
        "output voltage(V) 0.02\n"
       ]
      }
     ],
     "prompt_number": 35
    }
   ],
   "metadata": {}
  }
 ]
}