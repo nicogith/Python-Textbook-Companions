{
 "metadata": {
  "name": "",
  "signature": "sha256:94ad83571615597b6a84f943391994f2595055abbe147d494a554f5f30f9f17e"
 },
 "nbformat": 3,
 "nbformat_minor": 0,
 "worksheets": [
  {
   "cells": [
    {
     "cell_type": "heading",
     "level": 1,
     "metadata": {},
     "source": [
      "Chapter 8 : Metrology"
     ]
    },
    {
     "cell_type": "heading",
     "level": 2,
     "metadata": {},
     "source": [
      "Example 8.1  Page No : 369"
     ]
    },
    {
     "cell_type": "code",
     "collapsed": false,
     "input": [
      "# Calculations and Results\n",
      "Dd = 52.215;\n",
      "print \"desired value = \", Dd\n",
      "Pb = 4;\n",
      "print \"Protected block = \", Pb\n",
      "R = Dd-Pb;\n",
      "print \"Reminder = \", R\n",
      "Tp = 1.005;\n",
      "print \"thousand  block = \", Tp\n",
      "R = R-Tp;\n",
      "print \"Reminder = \", R\n",
      "Hp = 1.010;\n",
      "print \"Hunderths block = \", Hp\n",
      "R = R-Hp;\n",
      "print \"Reminder = \", R\n",
      "Ttp = 2.20;\n",
      "print \"tenths block = \", Ttp\n",
      "R = R-Ttp;\n",
      "print \"Reminder = \", R\n",
      "Up = 4;\n",
      "print \"unit block = \", Up\n",
      "R = R-Up;\n",
      "print \"Reminder = \", R\n",
      "Tp = 40;\n",
      "print \"Tens block = \", Tp\n",
      "R = R-Tp;\n",
      "print \"Reminder = \", R\n"
     ],
     "language": "python",
     "metadata": {},
     "outputs": [
      {
       "output_type": "stream",
       "stream": "stdout",
       "text": [
        "desired value =  52.215\n",
        "Protected block =  4\n",
        "Reminder =  48.215\n",
        "thousand  block =  1.005\n",
        "Reminder =  47.21\n",
        "Hunderths block =  1.01\n",
        "Reminder =  46.2\n",
        "tenths block =  2.2\n",
        "Reminder =  44.0\n",
        "unit block =  4\n",
        "Reminder =  40.0\n",
        "Tens block =  40\n",
        "Reminder =  0.0\n"
       ]
      }
     ],
     "prompt_number": 2
    },
    {
     "cell_type": "heading",
     "level": 2,
     "metadata": {},
     "source": [
      "Example 8.2  Page No : 371"
     ]
    },
    {
     "cell_type": "code",
     "collapsed": false,
     "input": [
      "import math \n",
      "\n",
      "# Variables\n",
      "Ps = 200.*10**3;\n",
      "r = 0.6;\n",
      "d2 = 0.5;\n",
      "d1 = 0.5;\n",
      "\n",
      "# Calculations and Results\n",
      "a = (d2/d1**2);\n",
      "x1 = (1.1-r)/(2*a);\n",
      "print \"x1 = \", x1\n",
      "r = 0.8;\n",
      "d2 = 0.5;\n",
      "d1 = 0.5;\n",
      "a = (d2/d1**2);\n",
      "x2 = (1.1-r)/(2*a);\n",
      "print \"x2 = \", x2\n",
      "x = x1-x2;\n",
      "print \"so the range is x (mm)\", x\n",
      "hS = math.pi*d2*10**-3;\n",
      "A2 = math.pi*d2*10**-6*(x1+x2)/2;\n",
      "pS = -0.4*Ps/A2;\n",
      "pgS = 25*10**-3/1000;\n",
      "S = hS*pS*pgS;\n",
      "print \"sensitivity = \", S\n"
     ],
     "language": "python",
     "metadata": {},
     "outputs": [
      {
       "output_type": "stream",
       "stream": "stdout",
       "text": [
        "x1 =  0.125\n",
        "x2 =  0.075\n",
        "so the range is x (mm) 0.05\n",
        "sensitivity =  -20000.0\n"
       ]
      }
     ],
     "prompt_number": 3
    },
    {
     "cell_type": "heading",
     "level": 2,
     "metadata": {},
     "source": [
      "Example 8.3  Page No : 373"
     ]
    },
    {
     "cell_type": "code",
     "collapsed": false,
     "input": [
      "\n",
      "# Variables\n",
      "Pi = 70.*10**3;\n",
      "r = 0.4;\n",
      "d2 = 1.6;\n",
      "d1 = 0.75;\n",
      "\n",
      "# Calculations and Results\n",
      "a = (d2/d1**2);\n",
      "x1 = (1.1-r)/(2*a);\n",
      "print \"x1 = \", x1\n",
      "r = 0.9;\n",
      "x2 = (1.1-r)/(2*a);\n",
      "print \"x2 = \", x2\n",
      "x = x1-x2;\n",
      "print \"so the range is x (mm)\", x\n",
      "d = -2*a;\n",
      "Wr = 12.5/Pi;\n",
      "Wx = Wr/d;\n",
      "print \"uncertainity in lacement (mm)\",Wx\n"
     ],
     "language": "python",
     "metadata": {},
     "outputs": [
      {
       "output_type": "stream",
       "stream": "stdout",
       "text": [
        "x1 =  0.123046875\n",
        "x2 =  0.03515625\n",
        "so the range is x (mm) 0.087890625\n",
        "uncertainity in lacement (mm) -3.13895089286e-05\n"
       ]
      }
     ],
     "prompt_number": 4
    },
    {
     "cell_type": "heading",
     "level": 2,
     "metadata": {},
     "source": [
      "Example 8.4  Page No : 375"
     ]
    },
    {
     "cell_type": "code",
     "collapsed": false,
     "input": [
      "\n",
      "# Variables\n",
      "N = 12.;\n",
      "lem = 0.644;\n",
      "\n",
      "# Calculations\n",
      "d = N*lem/2;\n",
      "\n",
      "# Results\n",
      "print \"difference between height of workpieces and pile of slip gauges (micro-meter)\", d\n"
     ],
     "language": "python",
     "metadata": {},
     "outputs": [
      {
       "output_type": "stream",
       "stream": "stdout",
       "text": [
        "difference between height of workpieces and pile of slip gauges (micro-meter) 3.864\n"
       ]
      }
     ],
     "prompt_number": 5
    },
    {
     "cell_type": "heading",
     "level": 2,
     "metadata": {},
     "source": [
      "Example 8.5  Page No : 377"
     ]
    },
    {
     "cell_type": "code",
     "collapsed": false,
     "input": [
      "\n",
      "# Variables\n",
      "N = 5.;\n",
      "lem = 546.*10**-9;\n",
      "\n",
      "# Calculations and Results\n",
      "d = ((2*N-1)*lem*10**6)/4;\n",
      "print \"seperation distance between two surfaces(micro-meter)\", d\n",
      "x = 75;\n",
      "th = math.atan(d/x);\n",
      "print \"angle of tilt\", th\n"
     ],
     "language": "python",
     "metadata": {},
     "outputs": [
      {
       "output_type": "stream",
       "stream": "stdout",
       "text": [
        "seperation distance between two surfaces(micro-meter) 1.2285\n",
        "angle of tilt 0.0163785352938\n"
       ]
      }
     ],
     "prompt_number": 6
    },
    {
     "cell_type": "heading",
     "level": 2,
     "metadata": {},
     "source": [
      "Example 8.6  Page No : 379"
     ]
    },
    {
     "cell_type": "code",
     "collapsed": false,
     "input": [
      "\n",
      "# Variables\n",
      "x = 20./12;\n",
      "L = 50-10;\n",
      "lem = 0.6;\n",
      "\n",
      "# Calculations\n",
      "d = (L*lem)/(2*x);\n",
      "\n",
      "# Results\n",
      "print \"difference in diameters of the rollers(micro-meter)\", d\n"
     ],
     "language": "python",
     "metadata": {},
     "outputs": [
      {
       "output_type": "stream",
       "stream": "stdout",
       "text": [
        "difference in diameters of the rollers(micro-meter) 7.2\n"
       ]
      }
     ],
     "prompt_number": 7
    },
    {
     "cell_type": "heading",
     "level": 2,
     "metadata": {},
     "source": [
      "Example 8.7  Page No : 381"
     ]
    },
    {
     "cell_type": "code",
     "collapsed": false,
     "input": [
      "\n",
      "# Variables\n",
      "d = 4.5-2.5;\n",
      "\n",
      "# Calculations\n",
      "Tg = 2*(0.5)*0.509;\n",
      "\n",
      "# Results\n",
      "print \"change in thickness along its length(micro-meter)\", Tg\n"
     ],
     "language": "python",
     "metadata": {},
     "outputs": [
      {
       "output_type": "stream",
       "stream": "stdout",
       "text": [
        "change in thickness along its length(micro-meter) 0.509\n"
       ]
      }
     ],
     "prompt_number": 8
    }
   ],
   "metadata": {}
  }
 ]
}