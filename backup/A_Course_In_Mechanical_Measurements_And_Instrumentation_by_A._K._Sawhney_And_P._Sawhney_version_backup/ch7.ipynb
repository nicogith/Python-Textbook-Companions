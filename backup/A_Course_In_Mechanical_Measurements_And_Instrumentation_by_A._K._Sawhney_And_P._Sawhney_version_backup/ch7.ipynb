{
 "metadata": {
  "name": "",
  "signature": "sha256:f0558a3d67a6c58d34e0e0a67cd439be2d1883ea7cc3c2cdd41f8e1ab303c0ee"
 },
 "nbformat": 3,
 "nbformat_minor": 0,
 "worksheets": [
  {
   "cells": [
    {
     "cell_type": "heading",
     "level": 1,
     "metadata": {},
     "source": [
      "Chapter 7 : Display Devices and recorders"
     ]
    },
    {
     "cell_type": "heading",
     "level": 2,
     "metadata": {},
     "source": [
      "Example 7.1  Page No : 349"
     ]
    },
    {
     "cell_type": "code",
     "collapsed": false,
     "input": [
      "\n",
      "# Variables\n",
      "N  =  4.;\n",
      "\n",
      "# Calculations and Results\n",
      "R = 1./10**N;\n",
      "print \"Resolution of the meter = \", R\n",
      "VR = 1;\n",
      "R1 = VR*R;\n",
      "print \"Resolution of the meter for voltage range 1V = \", R1\n",
      "VR1 = 10;\n",
      "R2 = VR1*R;\n",
      "print \"Resolution of the meter for voltage range 10V = \", R2\n"
     ],
     "language": "python",
     "metadata": {},
     "outputs": [
      {
       "output_type": "stream",
       "stream": "stdout",
       "text": [
        "Resolution of the meter =  0.0001\n",
        "Resolution of the meter for voltage range 1V =  0.0001\n",
        "Resolution of the meter for voltage range 10V =  0.001\n"
       ]
      }
     ],
     "prompt_number": 1
    },
    {
     "cell_type": "heading",
     "level": 2,
     "metadata": {},
     "source": [
      "Example 7.2  Page No : 351"
     ]
    },
    {
     "cell_type": "code",
     "collapsed": false,
     "input": [
      "# Variables\n",
      "N  =  3.;\n",
      "\n",
      "# Calculations and Results\n",
      "R = 1./10**N;\n",
      "print \"Resolution of the meter = \", R\n",
      "print \"12.98 will be layed as 12.980 on 10V scale\"\n",
      "VR = 1.;\n",
      "R1 = VR*R;\n",
      "print \"Resolution of the meter for voltage range 1V = \", R1\n",
      "print \"0.6973 will be layed as 0.6973 on 1V scale\"\n",
      "VR1 = 10;\n",
      "R2 = VR1*R;\n",
      "print \"Resolution of the meter for voltage range 10V = \", R2\n",
      "print \"0.6973 will be layed as 00.697 on 10V scale\""
     ],
     "language": "python",
     "metadata": {},
     "outputs": [
      {
       "output_type": "stream",
       "stream": "stdout",
       "text": [
        "Resolution of the meter =  0.001\n",
        "12.98 will be layed as 12.980 on 10V scale\n",
        "Resolution of the meter for voltage range 1V =  0.001\n",
        "0.6973 will be layed as 0.6973 on 1V scale\n",
        "Resolution of the meter for voltage range 10V =  0.01\n",
        "0.6973 will be layed as 00.697 on 10V scale\n"
       ]
      }
     ],
     "prompt_number": 2
    },
    {
     "cell_type": "heading",
     "level": 2,
     "metadata": {},
     "source": [
      "Example 7.3  Page No : 353"
     ]
    },
    {
     "cell_type": "code",
     "collapsed": false,
     "input": [
      "\n",
      "# Variables\n",
      "R = 5.;\n",
      "\n",
      "# Calculations and Results\n",
      "V = 0.005*R;\n",
      "print \"0.5 percent of the reading\", V\n",
      "TPE = V+0.01;\n",
      "print \"Total possible error (V) = \", TPE\n",
      "R1 = 0.10;\n",
      "V1 = 0.005*R1;\n",
      "TPE1 = V1+0.01;\n",
      "print \"Total possible error (V) = \", TPE1\n",
      "PE = (TPE1/0.1)*100;\n",
      "print \"Percentage error = \", PE\n"
     ],
     "language": "python",
     "metadata": {},
     "outputs": [
      {
       "output_type": "stream",
       "stream": "stdout",
       "text": [
        "0.5 percent of the reading 0.025\n",
        "Total possible error (V) =  0.035\n",
        "Total possible error (V) =  0.0105\n",
        "Percentage error =  10.5\n"
       ]
      }
     ],
     "prompt_number": 3
    },
    {
     "cell_type": "heading",
     "level": 2,
     "metadata": {},
     "source": [
      "Example 7.4  Page No : 355"
     ]
    },
    {
     "cell_type": "code",
     "collapsed": false,
     "input": [
      "# Variables\n",
      "N = 034;\n",
      "t = 10.*10**-3;\n",
      "\n",
      "# Calculations\n",
      "f = N/t;\n",
      "\n",
      "# Results\n",
      "print \"frequency(Hz) = \", f\n"
     ],
     "language": "python",
     "metadata": {},
     "outputs": [
      {
       "output_type": "stream",
       "stream": "stdout",
       "text": [
        "frequency(Hz) =  2800.0\n"
       ]
      }
     ],
     "prompt_number": 4
    },
    {
     "cell_type": "heading",
     "level": 2,
     "metadata": {},
     "source": [
      "Example 7.5  Page No : 357"
     ]
    },
    {
     "cell_type": "code",
     "collapsed": false,
     "input": [
      "\n",
      "# Variables\n",
      "R = 5*10**6;\n",
      "\n",
      "# Calculations and Results\n",
      "V = 0.00005*R;\n",
      "print \"0.005 percent of the reading(micro sec) = \", V\n",
      "LSD = 1;\n",
      "ME = V+1;\n",
      "print \"Maximum error (micro sec) = \", ME\n",
      "R = 500;\n",
      "V = 0.00005*R;\n",
      "print \"0.005 percent of the reading(sec) = \", V\n",
      "LSD = 1;\n",
      "ME = V+1;\n",
      "print \"Maximum error (sec) = \", ME\n"
     ],
     "language": "python",
     "metadata": {},
     "outputs": [
      {
       "output_type": "stream",
       "stream": "stdout",
       "text": [
        "0.005 percent of the reading(micro sec) =  250.0\n",
        "Maximum error (micro sec) =  251.0\n",
        "0.005 percent of the reading(sec) =  0.025\n",
        "Maximum error (sec) =  1.025\n"
       ]
      }
     ],
     "prompt_number": 5
    },
    {
     "cell_type": "heading",
     "level": 2,
     "metadata": {},
     "source": [
      "Example 7.6  Page No : 359"
     ]
    },
    {
     "cell_type": "code",
     "collapsed": false,
     "input": [
      "import math\n",
      "\n",
      "# Variables\n",
      "D = 8.*10**-3;\n",
      "\n",
      "# Calculations and Results\n",
      "A = D**2;\n",
      "print \"A = \", A\n",
      "J = 8*10**-3;\n",
      "K = 16*10**-3;\n",
      "B = 4*J*K;\n",
      "print \"B = \", B\n",
      "print \"since A<B so the instrument is underdanped\",\n",
      "th = (100*math.pi)/180;\n",
      "i = 10*10**-3;\n",
      "F = 0.2*10**-6;\n",
      "G = (K*th+F)/i;\n",
      "l = 65*10**-3;\n",
      "d = 25*10**-3;\n",
      "N = G/(B*l*d);\n",
      "print \"number of turns = \", N\n",
      "i = F/G;\n",
      "print \"current required to overcome friction (A)\", i\n"
     ],
     "language": "python",
     "metadata": {},
     "outputs": [
      {
       "output_type": "stream",
       "stream": "stdout",
       "text": [
        " A =  6.4e-05\n",
        "B =  0.000512\n",
        "since A<B so the instrument is underdanped number of turns =  3356426.44614\n",
        "current required to overcome friction (A) 7.16192114565e-08\n"
       ]
      }
     ],
     "prompt_number": 8
    },
    {
     "cell_type": "heading",
     "level": 2,
     "metadata": {},
     "source": [
      "Example 7.7  Page No : 361"
     ]
    },
    {
     "cell_type": "code",
     "collapsed": false,
     "input": [
      "\n",
      "# Variables\n",
      "Lam = 2.5*6.25;\n",
      "f = 50000;\n",
      "\n",
      "# Calculations\n",
      "S = Lam*10**-6*f;\n",
      "\n",
      "# Results\n",
      "print \"speed(m/s) = \", S\n"
     ],
     "language": "python",
     "metadata": {},
     "outputs": [
      {
       "output_type": "stream",
       "stream": "stdout",
       "text": [
        "speed(m/s) =  0.78125\n"
       ]
      }
     ],
     "prompt_number": 9
    },
    {
     "cell_type": "heading",
     "level": 2,
     "metadata": {},
     "source": [
      "Example 7.8  Page No : 363"
     ]
    },
    {
     "cell_type": "code",
     "collapsed": false,
     "input": [
      "\n",
      "# Calculations\n",
      "ND = 12000/1.5;\n",
      "\n",
      "# Results\n",
      "print \"Number density (numbers/mm)\", ND\n"
     ],
     "language": "python",
     "metadata": {},
     "outputs": [
      {
       "output_type": "stream",
       "stream": "stdout",
       "text": [
        "Number density (numbers/mm) 8000.0\n"
       ]
      }
     ],
     "prompt_number": 10
    },
    {
     "cell_type": "heading",
     "level": 2,
     "metadata": {},
     "source": [
      "Example 7.9  Page No : 365"
     ]
    },
    {
     "cell_type": "code",
     "collapsed": false,
     "input": [
      "\n",
      "# Variables\n",
      "Y1 = 1.25;\n",
      "Y2 = 2.5;\n",
      "\n",
      "# Calculations\n",
      "PA = math.asin(Y1/Y2);\n",
      "\n",
      "# Results\n",
      "print \"phase angle (degree)\", PA\n",
      "print \"possible angle are 30 degree and 330 degree\",\n"
     ],
     "language": "python",
     "metadata": {},
     "outputs": [
      {
       "output_type": "stream",
       "stream": "stdout",
       "text": [
        "phase angle (degree) 0.523598775598\n",
        "possible angle are 30 degree and 330 degree\n"
       ]
      }
     ],
     "prompt_number": 11
    },
    {
     "cell_type": "heading",
     "level": 2,
     "metadata": {},
     "source": [
      "Example 7.10  Page No : 367"
     ]
    },
    {
     "cell_type": "code",
     "collapsed": false,
     "input": [
      "import math\n",
      "\n",
      "# Calculations and Results\n",
      "print \"if spot generating pattern moves in the clockwise direction\"\n",
      "Y1 = 0;\n",
      "Y2 = 5;\n",
      "PA = math.asin(Y1/Y2);\n",
      "print \"phase angle (degree)\", PA\n",
      "Y1 = 2.5;\n",
      "Y2 = 5;\n",
      "PA = math.asin(Y1/Y2);\n",
      "print \"phase angle (degree)\", PA\n",
      "Y1 = 3.5;\n",
      "Y2 = 5;\n",
      "PA = math.asin(Y1/Y2);\n",
      "print \"phase angle (degree)\", PA\n",
      "Y1 = 2.5;\n",
      "Y2 = 5;\n",
      "PA = 180-(math.asin(Y1/Y2));\n",
      "print \"phase angle (degree)\", PA\n",
      "\n"
     ],
     "language": "python",
     "metadata": {},
     "outputs": [
      {
       "output_type": "stream",
       "stream": "stdout",
       "text": [
        "if spot generating pattern moves in the clockwise direction\n",
        "phase angle (degree) 0.0\n",
        "phase angle (degree) 0.523598775598\n",
        "phase angle (degree) 0.775397496611\n",
        "phase angle (degree) 179.476401224\n"
       ]
      }
     ],
     "prompt_number": 12
    }
   ],
   "metadata": {}
  }
 ]
}