{
 "metadata": {
  "name": "",
  "signature": "sha256:dcab5285f135b4dffae4292e0eb7017128ede4af1f4e78fe0491e5a728481399"
 },
 "nbformat": 3,
 "nbformat_minor": 0,
 "worksheets": [
  {
   "cells": [
    {
     "cell_type": "heading",
     "level": 1,
     "metadata": {},
     "source": [
      "Chapter 5 : Primary Sensing Elements and Transducers"
     ]
    },
    {
     "cell_type": "heading",
     "level": 2,
     "metadata": {},
     "source": [
      "Example 5.1  Page No : 179"
     ]
    },
    {
     "cell_type": "code",
     "collapsed": false,
     "input": [
      "\n",
      "# Variables\n",
      "D = 15.*10**-3;\n",
      "P = 300.*10**3;\n",
      "sm = 300.*10**6;\n",
      "\n",
      "# Calculations and Results\n",
      "t = (3*D**2*P/(16*sm))**0.5;\n",
      "print \" thickness(m) = \", t\n",
      "P = 150*10**3;\n",
      "v = 0.28;\n",
      "E = 200*10**9;\n",
      "dm = 3*(1-v**2)*D**4*P/(256*E*t**3);\n",
      "print \" deflection at center for Pressure of 150 kN/m2(m) = \", dm\n"
     ],
     "language": "python",
     "metadata": {},
     "outputs": [
      {
       "output_type": "stream",
       "stream": "stdout",
       "text": [
        " thickness(m) =  0.000205395959064\n",
        " deflection at center for Pressure of 150 kN/m2(m) =  4.73232289684e-05\n"
       ]
      }
     ],
     "prompt_number": 1
    },
    {
     "cell_type": "heading",
     "level": 2,
     "metadata": {},
     "source": [
      "Example 5.2  Page No : 181"
     ]
    },
    {
     "cell_type": "code",
     "collapsed": false,
     "input": [
      "import math\n",
      "\n",
      "T = 100.;\n",
      "G = 80.*10**9;\n",
      "d = 2.*15*10**-3;\n",
      "\n",
      "# Calculations\n",
      "th = 16*T/(math.pi*G*d**3)\n",
      "\n",
      "# Results\n",
      "print \" angle of twist(rad) = \", th\n"
     ],
     "language": "python",
     "metadata": {},
     "outputs": [
      {
       "output_type": "stream",
       "stream": "stdout",
       "text": [
        " angle of twist(rad) =  0.000235785100877\n"
       ]
      }
     ],
     "prompt_number": 4
    },
    {
     "cell_type": "heading",
     "level": 2,
     "metadata": {},
     "source": [
      "Example 5.3  Page No : 183"
     ]
    },
    {
     "cell_type": "code",
     "collapsed": false,
     "input": [
      "import math \n",
      "\n",
      "# Variables\n",
      "E = 110*10**9;\n",
      "t = 0.073*10**-3;\n",
      "b = 0.51*10**-3;\n",
      "l = 370*10**-3;\n",
      "\n",
      "# Calculations\n",
      "th = math.pi/2;\n",
      "T = (E*b*t**3)*th/(12*l);\n",
      "\n",
      "# Results\n",
      "print \" Controlling torque(Nm) = \", T\n"
     ],
     "language": "python",
     "metadata": {},
     "outputs": [
      {
       "output_type": "stream",
       "stream": "stdout",
       "text": [
        " Controlling torque(Nm) =  7.72090748389e-06\n"
       ]
      }
     ],
     "prompt_number": 5
    },
    {
     "cell_type": "heading",
     "level": 2,
     "metadata": {},
     "source": [
      "Example 5.4  Page No : 185"
     ]
    },
    {
     "cell_type": "code",
     "collapsed": false,
     "input": [
      "import math \n",
      "\n",
      "# Variables\n",
      "Rnormal = 10000./2;\n",
      "Rpl = 10000./50;\n",
      "Rc1 = Rnormal-3850;\n",
      "\n",
      "# Calculations and Results\n",
      "Dnormal = Rc1/Rpl;\n",
      "print \"Displacement(mm) = \", Dnormal\n",
      "Rc2 = Rnormal-7560;\n",
      "Dnormal = Rc2/Rpl;\n",
      "print \"Displacement(mm) = \", Dnormal\n",
      "print \"since one lacement is positive and other is negative so two lacements are in the opposite direction\"\n",
      "Re = 10*1./200;\n",
      "print \"Resolution (mm) = \", Re\n"
     ],
     "language": "python",
     "metadata": {},
     "outputs": [
      {
       "output_type": "stream",
       "stream": "stdout",
       "text": [
        "Displacement(mm) =  5.75\n",
        "Displacement(mm) =  -12.8\n",
        "since one lacement is positive and other is negative so two lacements are in the opposite direction\n",
        "Resolution (mm) =  0.05\n"
       ]
      }
     ],
     "prompt_number": 6
    },
    {
     "cell_type": "heading",
     "level": 2,
     "metadata": {},
     "source": [
      "Example 5.5  Page No : 187"
     ]
    },
    {
     "cell_type": "code",
     "collapsed": false,
     "input": [
      "%matplotlib inline\n",
      "import math \n",
      "from matplotlib.pyplot import plot\n",
      "\n",
      "# Variables\n",
      "# plot the graph of error versus K\n",
      "K = [0,    0.25,    0.5,    0.75,    1];\n",
      "V = [0,    -0.174,    -0.454,    -0.524,    0];\n",
      "\n",
      "# Results\n",
      "plot(K,V)\n"
     ],
     "language": "python",
     "metadata": {},
     "outputs": [
      {
       "metadata": {},
       "output_type": "pyout",
       "prompt_number": 8,
       "text": [
        "[<matplotlib.lines.Line2D at 0x103fd9ad0>]"
       ]
      },
      {
       "metadata": {},
       "output_type": "display_data",
       "png": "[encoded data removed]",
       "text": [
        "<matplotlib.figure.Figure at 0x1038299d0>"
       ]
      }
     ],
     "prompt_number": 8
    },
    {
     "cell_type": "heading",
     "level": 2,
     "metadata": {},
     "source": [
      "Example 5.6  Page No : 189"
     ]
    },
    {
     "cell_type": "code",
     "collapsed": false,
     "input": [
      "\n",
      "# Variables\n",
      "RAB = 125.;\n",
      "Rtotal = 5000.;\n",
      "R2 = 75/125.*Rtotal;\n",
      "R4 = 2500.;\n",
      "ei = 5.;\n",
      "\n",
      "# Calculations\n",
      "eo = ((R2/Rtotal)-(R4/Rtotal))*ei;\n",
      "\n",
      "# Results\n",
      "print \"output voltage (V) = \", eo\n"
     ],
     "language": "python",
     "metadata": {},
     "outputs": [
      {
       "output_type": "stream",
       "stream": "stdout",
       "text": [
        "output voltage (V) =  0.5\n"
       ]
      }
     ],
     "prompt_number": 9
    },
    {
     "cell_type": "heading",
     "level": 2,
     "metadata": {},
     "source": [
      "Example 5.7  Page No : 191"
     ]
    },
    {
     "cell_type": "code",
     "collapsed": false,
     "input": [
      "# Variables\n",
      "Rm = 10000.;\n",
      "Rp = Rm/15.;\n",
      "R = 600.;\n",
      "P = 5.;\n",
      "\n",
      "# Calculations and Results\n",
      "ei =  (P*R)**0.5;\n",
      "print \"Maximum excitation voltage (V) = \", ei\n",
      "S = ei/360;\n",
      "print \"Sensitivity (V/degree) = \", S\n"
     ],
     "language": "python",
     "metadata": {},
     "outputs": [
      {
       "output_type": "stream",
       "stream": "stdout",
       "text": [
        "Maximum excitation voltage (V) =  54.7722557505\n",
        "Sensitivity (V/degree) =  0.152145154863\n"
       ]
      }
     ],
     "prompt_number": 10
    },
    {
     "cell_type": "heading",
     "level": 2,
     "metadata": {},
     "source": [
      "Example 5.8  Page No : 193"
     ]
    },
    {
     "cell_type": "code",
     "collapsed": false,
     "input": [
      "# Variables\n",
      "Rwga = 1./400;\n",
      "\n",
      "# Calculations\n",
      "Re = Rwga/5;\n",
      "\n",
      "# Results\n",
      "print \"Resolution (mm) = \", Re\n"
     ],
     "language": "python",
     "metadata": {},
     "outputs": [
      {
       "output_type": "stream",
       "stream": "stdout",
       "text": [
        "Resolution (mm) =  0.0005\n"
       ]
      }
     ],
     "prompt_number": 11
    },
    {
     "cell_type": "heading",
     "level": 2,
     "metadata": {},
     "source": [
      "Example 5.9  Page No : 195"
     ]
    },
    {
     "cell_type": "code",
     "collapsed": false,
     "input": [
      "\n",
      "# Variables\n",
      "mo = 0.8;\n",
      "sr = 250;\n",
      "sm = sr/mo;\n",
      "\n",
      "# Calculations and Results\n",
      "R = sm*1;\n",
      "print \"resolution of 1mm movement\", R\n",
      "Rq = 300/1000;\n",
      "print \"resolution required = \", Rq\n",
      "print \"since the resolution of potentiometer is higher than the resolution required so it is suitable for the application\",\n"
     ],
     "language": "python",
     "metadata": {},
     "outputs": [
      {
       "output_type": "stream",
       "stream": "stdout",
       "text": [
        "resolution of 1mm movement 312.5\n",
        "resolution required =  0\n",
        "since the resolution of potentiometer is higher than the resolution required so it is suitable for the application\n"
       ]
      }
     ],
     "prompt_number": 12
    },
    {
     "cell_type": "heading",
     "level": 2,
     "metadata": {},
     "source": [
      "Example 5.10  Page No : 197"
     ]
    },
    {
     "cell_type": "code",
     "collapsed": false,
     "input": [
      "# Calculations and Results\n",
      "Pd = (10.**2)/150;\n",
      "print \"Power dissipation (W) = \", Pd\n",
      "th_pot = 80.+Pd*30*10**-3;\n",
      "PDa = 1-(10*10**-3)*(th_pot-35);\n",
      "print \"Power dissipation allowed(W) = \", PDa\n",
      "print \"Since power dissipation is higher than the dissipation allowed so potentiometer is not suitable\"\n",
      "\n"
     ],
     "language": "python",
     "metadata": {},
     "outputs": [
      {
       "output_type": "stream",
       "stream": "stdout",
       "text": [
        "Power dissipation (W) =  0.666666666667\n",
        "Power dissipation allowed(W) =  0.5498\n",
        "Since power dissipation is higher than the dissipation allowed so potentiometer is not suitable\n"
       ]
      }
     ],
     "prompt_number": 13
    },
    {
     "cell_type": "heading",
     "level": 2,
     "metadata": {},
     "source": [
      "Example 5.11  Page No : 199"
     ]
    },
    {
     "cell_type": "code",
     "collapsed": false,
     "input": [
      "\n",
      "# Variables\n",
      "Gf = 4.2;\n",
      "\n",
      "# Calculations\n",
      "v = (Gf-1)/2;\n",
      "\n",
      "# Results\n",
      "print \"Possion s ratio = \", v\n"
     ],
     "language": "python",
     "metadata": {},
     "outputs": [
      {
       "output_type": "stream",
       "stream": "stdout",
       "text": [
        "Possion s ratio =  1.6\n"
       ]
      }
     ],
     "prompt_number": 14
    },
    {
     "cell_type": "heading",
     "level": 2,
     "metadata": {},
     "source": [
      "Example 5.12  Page No : 201"
     ]
    },
    {
     "cell_type": "code",
     "collapsed": false,
     "input": [
      "\n",
      "# Variables\n",
      "strain = -5.*10**-6;\n",
      "Gf = -12.1;\n",
      "R = 120.;\n",
      "\n",
      "# Calculations and Results\n",
      "dR_nickel = Gf*R*strain;\n",
      "print \"change in resistance of nickel(ohm) = \", dR_nickel\n",
      "Gf = 2;\n",
      "R = 120;\n",
      "dR_nicrome = Gf*R*strain;\n",
      "print \"change in resistance of nicrome(ohm) = \", dR_nicrome\n"
     ],
     "language": "python",
     "metadata": {},
     "outputs": [
      {
       "output_type": "stream",
       "stream": "stdout",
       "text": [
        "change in resistance of nickel(ohm) =  0.00726\n",
        "change in resistance of nicrome(ohm) =  -0.0012\n"
       ]
      }
     ],
     "prompt_number": 15
    },
    {
     "cell_type": "heading",
     "level": 2,
     "metadata": {},
     "source": [
      "Example 5.13  Page No : 203"
     ]
    },
    {
     "cell_type": "code",
     "collapsed": false,
     "input": [
      "\n",
      "# Variables\n",
      "s = 100.*10**6;\n",
      "E = 200.*10**9;\n",
      "\n",
      "# Calculations\n",
      "strain = s/E;\n",
      "Gf = 2;\n",
      "r_perunit = Gf*strain*100;\n",
      "\n",
      "# Results\n",
      "print \"Percentage change in resistance = \", r_perunit\n"
     ],
     "language": "python",
     "metadata": {},
     "outputs": [
      {
       "output_type": "stream",
       "stream": "stdout",
       "text": [
        "Percentage change in resistance =  0.1\n"
       ]
      }
     ],
     "prompt_number": 16
    },
    {
     "cell_type": "heading",
     "level": 2,
     "metadata": {},
     "source": [
      "Example 5.14  Page No : 205"
     ]
    },
    {
     "cell_type": "code",
     "collapsed": false,
     "input": [
      "\n",
      "# Variables\n",
      "b = 0.02;\n",
      "d = 0.003;\n",
      "I = (b*d**3)/12;\n",
      "E = 200*10**9;\n",
      "x = 12.7*10**-3;\n",
      "l = 0.25;\n",
      "F = 3*E*I*x/l**3;\n",
      "x = 0.15;\n",
      "M = F*x;\n",
      "t = 0.003;\n",
      "\n",
      "# Calculations\n",
      "s = (M*t)/(I*2);\n",
      "strain = s/E;\n",
      "dR = 0.152;\n",
      "R = 120;\n",
      "Gf = (dR/R)/strain;\n",
      "\n",
      "# Results\n",
      "print \"Gauge factor = \", Gf\n"
     ],
     "language": "python",
     "metadata": {},
     "outputs": [
      {
       "output_type": "stream",
       "stream": "stdout",
       "text": [
        "Gauge factor =  2.30873918538\n"
       ]
      }
     ],
     "prompt_number": 17
    },
    {
     "cell_type": "heading",
     "level": 2,
     "metadata": {},
     "source": [
      "Example 5.15  Page No : 207"
     ]
    },
    {
     "cell_type": "code",
     "collapsed": false,
     "input": [
      "\n",
      "# Variables\n",
      "dR = 0.013;\n",
      "R = 240;\n",
      "l = 0.1;\n",
      "Gf = 2.2;\n",
      "\n",
      "# Calculations and Results\n",
      "dl = (dR/R)*l/Gf;\n",
      "print \"change in length(m) = \", dl\n",
      "strain = dl/l;\n",
      "E = 207*10**9;\n",
      "s = E*strain;\n",
      "A = 4*10**-4;\n",
      "F = s*A;\n",
      "print \"Force(N)\", F\n"
     ],
     "language": "python",
     "metadata": {},
     "outputs": [
      {
       "output_type": "stream",
       "stream": "stdout",
       "text": [
        "change in length(m) =  2.46212121212e-06\n",
        "Force(N) 2038.63636364\n"
       ]
      }
     ],
     "prompt_number": 18
    },
    {
     "cell_type": "heading",
     "level": 2,
     "metadata": {},
     "source": [
      "Example 5.16  Page No : 209"
     ]
    },
    {
     "cell_type": "code",
     "collapsed": false,
     "input": [
      "\n",
      "# Variables\n",
      "th1 = 30.;\n",
      "th2 = 60.;\n",
      "th0 = th1+th2/2;\n",
      "Rth1 = 4.8;\n",
      "Rth2 = 6.2;\n",
      "Rth0 = 5.5;\n",
      "\n",
      "# Calculations\n",
      "ath0 = (1/Rth0)*(Rth2-Rth1)/(th2-th1);\n",
      "\n",
      "# Results\n",
      "print \"alpha at o degree(/degree C) = \", ath0\n",
      "print \"5.5[1+0.0085(th-45)]\",\n"
     ],
     "language": "python",
     "metadata": {},
     "outputs": [
      {
       "output_type": "stream",
       "stream": "stdout",
       "text": [
        "alpha at o degree(/degree C) =  0.00848484848485\n",
        "5.5[1+0.0085(th-45)]\n"
       ]
      }
     ],
     "prompt_number": 19
    },
    {
     "cell_type": "heading",
     "level": 2,
     "metadata": {},
     "source": [
      "Example 5.17  Page No : 211"
     ]
    },
    {
     "cell_type": "code",
     "collapsed": false,
     "input": [
      "\n",
      "# Variables\n",
      "th1 = 100.;\n",
      "th2 = 130.;\n",
      "\n",
      "# Calculations\n",
      "th0 = th1+th2/2;\n",
      "Rth1 = 573.40;\n",
      "Rth2 = 605.52;\n",
      "Rth0 = 589.48;\n",
      "ath0 = (1/Rth0)*(Rth2-Rth1)/(th2-th1);\n",
      "\n",
      "# Results\n",
      "print \"alpha at o degree(/degree C) = \", ath0\n",
      "print \"Linear approximation is: Rth =  589.48[1+0.00182(th-115)]\",\n"
     ],
     "language": "python",
     "metadata": {},
     "outputs": [
      {
       "output_type": "stream",
       "stream": "stdout",
       "text": [
        "alpha at o degree(/degree C) =  0.00181629006356\n",
        "Linear approximation is: Rth =  589.48[1+0.00182(th-115)]\n"
       ]
      }
     ],
     "prompt_number": 20
    },
    {
     "cell_type": "heading",
     "level": 2,
     "metadata": {},
     "source": [
      "Example 5.18  Page No : 213"
     ]
    },
    {
     "cell_type": "code",
     "collapsed": false,
     "input": [
      "\n",
      "# Variables\n",
      "Rth0 = 100.;\n",
      "ath0 = 0.00392;\n",
      "dth = 65.-25;\n",
      "\n",
      "# Calculations and Results\n",
      "R65 = Rth0*(1+ath0*dth);\n",
      "print \"resistance at 65 degree C(ohm) = \", R65\n",
      "\n",
      "th = (((150./100)-1)/ath0)+25;\n",
      "print \"Temperature (degree C)\", th\n"
     ],
     "language": "python",
     "metadata": {},
     "outputs": [
      {
       "output_type": "stream",
       "stream": "stdout",
       "text": [
        "resistance at 65 degree C(ohm) =  115.68\n",
        "Temperature (degree C) 152.551020408\n"
       ]
      }
     ],
     "prompt_number": 22
    },
    {
     "cell_type": "heading",
     "level": 2,
     "metadata": {},
     "source": [
      "Example 5.19  Page No : 215"
     ]
    },
    {
     "cell_type": "code",
     "collapsed": false,
     "input": [
      "\n",
      "# Variables\n",
      "Rth0 = 10;\n",
      "ath0 = 0.00393;\n",
      "dth = 150-20;\n",
      "\n",
      "# Calculations\n",
      "R150 = Rth0*(1+ath0*dth);\n",
      "\n",
      "# Results\n",
      "print \"resistance at 150 degree C(ohm) = \", R150\n"
     ],
     "language": "python",
     "metadata": {},
     "outputs": [
      {
       "output_type": "stream",
       "stream": "stdout",
       "text": [
        "resistance at 150 degree C(ohm) =  15.109\n"
       ]
      }
     ],
     "prompt_number": 23
    },
    {
     "cell_type": "heading",
     "level": 2,
     "metadata": {},
     "source": [
      "Example 5.20  Page No : 217"
     ]
    },
    {
     "cell_type": "code",
     "collapsed": false,
     "input": [
      "\n",
      "# Variables\n",
      "th = 30.;\n",
      "th0 = 50.;\n",
      "tc = 120.;\n",
      "\n",
      "# Calculations\n",
      "t = -120*(math.log(1-(th/th0)));\n",
      "\n",
      "# Results\n",
      "print \"time(s) = \", t\n"
     ],
     "language": "python",
     "metadata": {},
     "outputs": [
      {
       "output_type": "stream",
       "stream": "stdout",
       "text": [
        "time(s) =  109.954887825\n"
       ]
      }
     ],
     "prompt_number": 24
    },
    {
     "cell_type": "heading",
     "level": 2,
     "metadata": {},
     "source": [
      "Example 5.21  Page No : 219"
     ]
    },
    {
     "cell_type": "code",
     "collapsed": false,
     "input": [
      "\n",
      "# Variables\n",
      "R25 = 100;\n",
      "ath = -0.05;\n",
      "dth = 35-25;\n",
      "\n",
      "# Calculations\n",
      "R35 = R25*(1+ath*dth);\n",
      "\n",
      "# Results\n",
      "print \"resistance at 35 degree C(ohm) = \", R35\n"
     ],
     "language": "python",
     "metadata": {},
     "outputs": [
      {
       "output_type": "stream",
       "stream": "stdout",
       "text": [
        "resistance at 35 degree C(ohm) =  50.0\n"
       ]
      }
     ],
     "prompt_number": 25
    },
    {
     "cell_type": "heading",
     "level": 2,
     "metadata": {},
     "source": [
      "Example 5.22  Page No : 221"
     ]
    },
    {
     "cell_type": "code",
     "collapsed": false,
     "input": [
      "import math\n",
      "# Variables\n",
      "Ro = 3980.;\n",
      "Ta = 273.;\n",
      "\n",
      "# Calculations and Results\n",
      "print \"3980 =  a*3980*math.exp(b/273)\",\n",
      "Rt50 = 794;\n",
      "Ta50 = 273+50;\n",
      "print \"794 =  a*3980*math.exp(b/323)\",\n",
      "print \"on solving\",\n",
      "print \" b = 2843\", \"a = 30*10**-6\"\n",
      "Ta40 = 273+40;\n",
      "Rt40 = (30*10**-6)*3980*math.exp(2843./313);\n",
      "print \"resistance at 40 degree C (ohm)\", Rt40\n",
      "Rt100 = (30*10**-6)*3980*math.exp(2843./373);\n",
      "print \"resistance at 100 degree C (ohm)\", Rt100\n"
     ],
     "language": "python",
     "metadata": {},
     "outputs": [
      {
       "output_type": "stream",
       "stream": "stdout",
       "text": [
        "3980 =  a*3980*math.exp(b/273) 794 =  a*3980*math.exp(b/323) on solving  b = 2843 a = 30*10**-6\n",
        "resistance at 40 degree C (ohm) 1051.3086649\n",
        "resistance at 100 degree C (ohm) 243.887690913\n"
       ]
      }
     ],
     "prompt_number": 26
    },
    {
     "cell_type": "heading",
     "level": 2,
     "metadata": {},
     "source": [
      "Example 5.23  Page No : 223"
     ]
    },
    {
     "cell_type": "code",
     "collapsed": false,
     "input": [
      "\n",
      "# Calculations\n",
      "th = ((1-1800./2000)/0.05)+70;\n",
      "dth = th-70;\n",
      "\n",
      "# Results\n",
      "print \"change in temperature (degree C)\", dth\n"
     ],
     "language": "python",
     "metadata": {},
     "outputs": [
      {
       "output_type": "stream",
       "stream": "stdout",
       "text": [
        "change in temperature (degree C) 2.0\n"
       ]
      }
     ],
     "prompt_number": 27
    },
    {
     "cell_type": "heading",
     "level": 2,
     "metadata": {},
     "source": [
      "Example 5.24  Page No : 225"
     ]
    },
    {
     "cell_type": "code",
     "collapsed": false,
     "input": [
      "\n",
      "# Variables\n",
      "C = 500.*10**-12;\n",
      "R20 = 10000.*(1-0.05*(20-25));\n",
      "\n",
      "# Calculations and Results\n",
      "f20 = 1/(2*math.pi*R20*C);\n",
      "print \"Frequency of oscillation at 20 degree C (Hz)\", f20\n",
      "R25 = 10000*(1-0.05*(25-25));\n",
      "f25 = 1./(2*math.pi*R25*C);\n",
      "print \"Frequency of oscillation at 25 degree C (Hz)\", f25\n",
      "R30 = 10000*(1-0.05*(30-25));\n",
      "f30 = 1./(2*math.pi*R30*C);\n",
      "print \"Frequency of oscillation at 30 degree C (Hz)\", f30\n"
     ],
     "language": "python",
     "metadata": {},
     "outputs": [
      {
       "output_type": "stream",
       "stream": "stdout",
       "text": [
        "Frequency of oscillation at 20 degree C (Hz) 25464.7908947\n",
        "Frequency of oscillation at 25 degree C (Hz) 31830.9886184\n",
        "Frequency of oscillation at 30 degree C (Hz) 42441.3181578\n"
       ]
      }
     ],
     "prompt_number": 28
    },
    {
     "cell_type": "heading",
     "level": 2,
     "metadata": {},
     "source": [
      "Example 5.25  Page No : 227"
     ]
    },
    {
     "cell_type": "code",
     "collapsed": false,
     "input": [
      "\n",
      "# Calculations and Results\n",
      "Se_thermocouple = 500-(-72);\n",
      "print \"Sensitivity of thermocouple (micro V/degree C) = \", Se_thermocouple\n",
      "Vo = Se_thermocouple*100*10**-6;\n",
      "print \"maximum output voltage(V) = \", Vo\n"
     ],
     "language": "python",
     "metadata": {},
     "outputs": [
      {
       "output_type": "stream",
       "stream": "stdout",
       "text": [
        "Sensitivity of thermocouple (micro V/degree C) =  572\n",
        "maximum output voltage(V) =  0.0572\n"
       ]
      }
     ],
     "prompt_number": 29
    },
    {
     "cell_type": "heading",
     "level": 2,
     "metadata": {},
     "source": [
      "Example 5.26  Page No : 229"
     ]
    },
    {
     "cell_type": "code",
     "collapsed": false,
     "input": [
      "# calculations and results\n",
      "ET = 27.07+0.8;\n",
      "print 'Required e.m.f.(mV)',ET\n",
      "print \"temperature corresponding to 27.87 mV is 620 degree C\",\n"
     ],
     "language": "python",
     "metadata": {},
     "outputs": [
      {
       "output_type": "stream",
       "stream": "stdout",
       "text": [
        "Required e.m.f.(mV) 27.87\n",
        "temperature corresponding to 27.87 mV is 620 degree C\n"
       ]
      }
     ],
     "prompt_number": 30
    },
    {
     "cell_type": "heading",
     "level": 2,
     "metadata": {},
     "source": [
      "Example 5.27  Page No : 231"
     ]
    },
    {
     "cell_type": "code",
     "collapsed": false,
     "input": [
      "\n",
      "# Variables\n",
      "Rm = 50;\n",
      "Re = 12;\n",
      "\n",
      "# Calculations and Results\n",
      "E = 33.3*10**-3;\n",
      "i = 0.1*10**-3;\n",
      "Rs = (E/i)-Rm-Re;\n",
      "print \"series resistance (ohm) = \", Rs\n",
      "Re = 13;\n",
      "i1 = E/(Rs+Re+Rm);\n",
      "AE = ((i1-i)/i)*800;\n",
      "print \"approximate error due to rise in resistance of 1 ohm in Re (degree C) = \", AE\n",
      "R_change = 50*0.00426*10;\n",
      "i1 = E/(Rs+Re+Rm+R_change);\n",
      "AE = ((i1-i)/i)*800;\n",
      "print \"approximate error due to rise in Temp. of 10 (degree C) = \", AE\n"
     ],
     "language": "python",
     "metadata": {},
     "outputs": [
      {
       "output_type": "stream",
       "stream": "stdout",
       "text": [
        "series resistance (ohm) =  271.0\n",
        "approximate error due to rise in resistance of 1 ohm in Re (degree C) =  -2.39520958084\n",
        "approximate error due to rise in Temp. of 10 (degree C) =  -7.44949870586\n"
       ]
      }
     ],
     "prompt_number": 31
    },
    {
     "cell_type": "heading",
     "level": 2,
     "metadata": {},
     "source": [
      "Example 5.28  Page No : 233"
     ]
    },
    {
     "cell_type": "code",
     "collapsed": false,
     "input": [
      "# Variables\n",
      "E_20 = 0.112*10**-3;# emf at 20degree C\n",
      "E_900 = 8.446*10**-3;\n",
      "E_1200 = 11.946*10**-3;\n",
      "\n",
      "# Calculations and Results\n",
      "E1 = E_900-E_20;\n",
      "E2 = E_1200-E_20;\n",
      "print \"E1 = 1.08*R1/(R1+2.5+R2)      (i)\",\n",
      "print \"E2 = 1.08*(R1+2.5)/(R1+2.5+R2)      (ii)\",\n",
      "print \"on solving (i) and (ii)\",\n",
      "R1 = 5.95;\n",
      "R2 = 762.6;\n",
      "print \"value of resistance R1 (ohm) = \", R1\n",
      "print \"value of resistance R2 (ohm) = \", R2\n"
     ],
     "language": "python",
     "metadata": {},
     "outputs": [
      {
       "output_type": "stream",
       "stream": "stdout",
       "text": [
        "E1 = 1.08*R1/(R1+2.5+R2)      (i) E2 = 1.08*(R1+2.5)/(R1+2.5+R2)      (ii) on solving (i) and (ii) value of resistance R1 (ohm) =  5.95\n",
        "value of resistance R2 (ohm) =  762.6\n"
       ]
      }
     ],
     "prompt_number": 32
    },
    {
     "cell_type": "heading",
     "level": 2,
     "metadata": {},
     "source": [
      "Example 5.29  Page No : 235"
     ]
    },
    {
     "cell_type": "code",
     "collapsed": false,
     "input": [
      "\n",
      "# Calculations\n",
      "linearity_percentage = (0.003/1.5)*100;\n",
      "\n",
      "# Results\n",
      "print \"percentage linearity = \", linearity_percentage\n"
     ],
     "language": "python",
     "metadata": {},
     "outputs": [
      {
       "output_type": "stream",
       "stream": "stdout",
       "text": [
        "percentage linearity =  0.2\n"
       ]
      }
     ],
     "prompt_number": 33
    },
    {
     "cell_type": "heading",
     "level": 2,
     "metadata": {},
     "source": [
      "Example 5.30  Page No : 237"
     ]
    },
    {
     "cell_type": "code",
     "collapsed": false,
     "input": [
      "\n",
      "# Variables\n",
      "print \"lacement = 0.5\"\n",
      "Vo = 2.*10**-3;\n",
      "Se_LVDT = Vo\n",
      "print \"lacement \"\n",
      "print \"senstivity of the LVDT (V/mm)\", Se_LVDT\n",
      "\n",
      "# Calculations and Results\n",
      "Af = 250.;\n",
      "Se_instrument = Se_LVDT*Af;\n",
      "print \"senstivity of instrument (V/mm)\", Se_instrument\n",
      "sd = 5./100;\n",
      "Vo_min = 50./5;\n",
      "Re_instrument = 1*1/1000;\n",
      "print \"resolution of instrument in mm\", Re_instrument\n"
     ],
     "language": "python",
     "metadata": {},
     "outputs": [
      {
       "output_type": "stream",
       "stream": "stdout",
       "text": [
        "lacement = 0.5\n",
        "lacement \n",
        "senstivity of the LVDT (V/mm) 0.002\n",
        "senstivity of instrument (V/mm) 0.5\n",
        "resolution of instrument in mm 0\n"
       ]
      }
     ],
     "prompt_number": 34
    },
    {
     "cell_type": "heading",
     "level": 2,
     "metadata": {},
     "source": [
      "Example 5.31  Page No : 239"
     ]
    },
    {
     "cell_type": "code",
     "collapsed": false,
     "input": [
      "# Variables\n",
      "b = 0.02;\n",
      "t = 0.004;\n",
      "I = (1./12)*b*t**3;\n",
      "F = 25.;\n",
      "l = 0.25;\n",
      "E = 200.*10**9;\n",
      "\n",
      "# Calculations and Results\n",
      "x = (F*l**3)/(3*E*I);\n",
      "print \"deflection (m)\", x\n",
      "DpF = x/F;\n",
      "Se = DpF*0.5*1000;\n",
      "Re = (10./1000)*(2./10);\n",
      "F_min = Re/Se;\n",
      "F_max = 10/Se;\n",
      "print \"minimum force (N)\", F_min\n",
      "print \"maximum force (N)\", F_max\n",
      "print \"\", Se\n"
     ],
     "language": "python",
     "metadata": {},
     "outputs": [
      {
       "output_type": "stream",
       "stream": "stdout",
       "text": [
        "deflection (m) 0.006103515625\n",
        "minimum force (N) 0.016384\n",
        "maximum force (N) 81.92\n",
        " 0.1220703125\n"
       ]
      }
     ],
     "prompt_number": 35
    },
    {
     "cell_type": "heading",
     "level": 2,
     "metadata": {},
     "source": [
      "Example 5.32  Page No : 241"
     ]
    },
    {
     "cell_type": "code",
     "collapsed": false,
     "input": [
      "print \"permittivity of the air e0 = 8.85*10**-12\"\n",
      "# Variables\n",
      "e0 = 8.85*10**-12;\n",
      "w = 25*10**-3;\n",
      "\n",
      "# Calculations\n",
      "d = 0.25*10**-3;\n",
      "Se = -4*e0*w/d;\n",
      "\n",
      "# Results\n",
      "print \"sensitivity of the transducer (F/m) = \", Se\n"
     ],
     "language": "python",
     "metadata": {},
     "outputs": [
      {
       "output_type": "stream",
       "stream": "stdout",
       "text": [
        "permittivity of the air e0 = 8.85*10**-12\n",
        "sensitivity of the transducer (F/m) =  -3.54e-09\n"
       ]
      }
     ],
     "prompt_number": 37
    },
    {
     "cell_type": "heading",
     "level": 2,
     "metadata": {},
     "source": [
      "Example 5.33  Page No : 243"
     ]
    },
    {
     "cell_type": "code",
     "collapsed": false,
     "input": [
      "\n",
      "# Variables\n",
      "C1 = 370*10**-12;\n",
      "d1 = 3.5*10**-3;\n",
      "\n",
      "# Calculations\n",
      "d2 = 2.9*10**-3;\n",
      "C2 = C1*d1/d2;\n",
      "\n",
      "# Results\n",
      "print \"the value of the capacitance afte the application of pressure (F) = \", C2\n"
     ],
     "language": "python",
     "metadata": {},
     "outputs": [
      {
       "output_type": "stream",
       "stream": "stdout",
       "text": [
        "the value of the capacitance afte the application of pressure (F) =  4.46551724138e-10\n"
       ]
      }
     ],
     "prompt_number": 38
    },
    {
     "cell_type": "heading",
     "level": 2,
     "metadata": {},
     "source": [
      "Example 5.34  Page No : 245"
     ]
    },
    {
     "cell_type": "code",
     "collapsed": false,
     "input": [
      "\n",
      "# Variables\n",
      "fo1 = 100.*10**3;\n",
      "d1 = 4.;\n",
      "d2 = 3.7;\n",
      "\n",
      "# Calculations\n",
      "fo2 = ((d2/d1)**0.5)*fo1;\n",
      "dfo = fo1-fo2;\n",
      "\n",
      "# Results\n",
      "print \"change in frequency of the oscillator (Hz)\", dfo\n"
     ],
     "language": "python",
     "metadata": {},
     "outputs": [
      {
       "output_type": "stream",
       "stream": "stdout",
       "text": [
        "change in frequency of the oscillator (Hz) 3823.07969164\n"
       ]
      }
     ],
     "prompt_number": 39
    },
    {
     "cell_type": "heading",
     "level": 2,
     "metadata": {},
     "source": [
      "Example 5.35  Page No : 247"
     ]
    },
    {
     "cell_type": "code",
     "collapsed": false,
     "input": [
      "import math \n",
      "\n",
      "# Variables\n",
      "L_air = (3.1-3)/2;\n",
      "D_stress = 100/L_air;\n",
      "e0 = 8.85*10**-12;\n",
      "l = 20.*10**-3;\n",
      "D2 = 3.1;\n",
      "D1 = 3;\n",
      "\n",
      "# Calculations and Results\n",
      "C = (2*math.pi)*e0*l/(math.log(D2/D1));\n",
      "print \"capacitance(F) = \", C\n",
      "l = (20*10**-3)-(2*10**-3);\n",
      "C_new = (2*math.pi)*e0*l/(math.log(D2/D1));\n",
      "C_change = C-C_new;\n",
      "print \"change in capacitance(F) = \", C_change\n"
     ],
     "language": "python",
     "metadata": {},
     "outputs": [
      {
       "output_type": "stream",
       "stream": "stdout",
       "text": [
        "capacitance(F) =  3.39167370734e-11\n",
        "change in capacitance(F) =  3.39167370734e-12\n"
       ]
      }
     ],
     "prompt_number": 40
    },
    {
     "cell_type": "heading",
     "level": 2,
     "metadata": {},
     "source": [
      "Example 5.36  Page No : 249"
     ]
    },
    {
     "cell_type": "code",
     "collapsed": false,
     "input": [
      "import math \n",
      "\n",
      "# Variables\n",
      "M = 0.95;\n",
      "w = 2.*math.pi*20;\n",
      "\n",
      "# Calculations and Results\n",
      "tc = (1/w)*((M**2)/(1-M**2))**0.5;\n",
      "print \"time constant (s)\", tc\n",
      "ph = ((math.pi/2)-(math.atan(w*tc)))*(180/math.pi);\n",
      "print \"phase shift(deg)\", ph\n",
      "C = (8.85*10**-12*300*10**-6)/(0.125*10**-3);\n",
      "R = tc/C;\n",
      "print \"series resistance (ohm)\", R\n",
      "M = 1./(1+(1./(2*math.pi*5*tc)**2))**0.5;\n",
      "print \"amplitude ratio = \", M\n",
      "Eb = 100;\n",
      "x = 0.125*10**-3;\n",
      "Vs = Eb/x;\n",
      "print \"voltage sensitivity (V/m)\", Vs\n",
      "\n"
     ],
     "language": "python",
     "metadata": {},
     "outputs": [
      {
       "output_type": "stream",
       "stream": "stdout",
       "text": [
        "time constant (s) 0.0242109278459\n",
        "phase shift(deg) 18.1948723388\n",
        "series resistance (ohm) 1139874192.37\n",
        "amplitude ratio =  0.605390338483\n",
        "voltage sensitivity (V/m) 800000.0\n"
       ]
      }
     ],
     "prompt_number": 41
    },
    {
     "cell_type": "heading",
     "level": 2,
     "metadata": {},
     "source": [
      "Example 5.37  Page No : 251"
     ]
    },
    {
     "cell_type": "code",
     "collapsed": false,
     "input": [
      "import math \n",
      "\n",
      "# Variables\n",
      "e0 = 8.85*10**-12;\n",
      "A = 500*10**-6;\n",
      "d = 0.2*10**-3;\n",
      "C = e0*A/d;\n",
      "d1 = 0.18*10**-3;\n",
      "C_new = e0*A/d1;\n",
      "\n",
      "# Calculations and Results\n",
      "C_change = C_new-C;\n",
      "Ratio = (C_change/C)/(0.02/0.2);\n",
      "print \"ratio of per unit change of capacitance to per unit change of diaplacement\", Ratio\n",
      "d1 = 0.19*10**-3;\n",
      "e1 = 1;\n",
      "d2 = 0.01*10**-3;\n",
      "e2 = 8;\n",
      "C = (e0*A)/((d1/e1)+(d2/e2));\n",
      "d1_new = 0.17*10**-3;\n",
      "C_new = (e0*A)/((d1_new/e1)+(d2/e2));\n",
      "C_change = C_new-C;\n",
      "Ratio = (C_change/C)/(0.02/0.2);\n",
      "print \"ratio of per unit change of capacitance to per unit change of diaplacement\", Ratio\n"
     ],
     "language": "python",
     "metadata": {},
     "outputs": [
      {
       "output_type": "stream",
       "stream": "stdout",
       "text": [
        "ratio of per unit change of capacitance to per unit change of diaplacement 1.11111111111\n",
        "ratio of per unit change of capacitance to per unit change of diaplacement 1.16788321168\n"
       ]
      }
     ],
     "prompt_number": 42
    },
    {
     "cell_type": "heading",
     "level": 2,
     "metadata": {},
     "source": [
      "Example 5.40  Page No : 253"
     ]
    },
    {
     "cell_type": "code",
     "collapsed": false,
     "input": [
      "\n",
      "# Variables\n",
      "g = 0.055;\n",
      "t = 2*10**-3;\n",
      "P = 1.5*10**6;\n",
      "\n",
      "# Calculations and Results\n",
      "Eo = g*t*P;\n",
      "print \"output voltage(V) = \", Eo\n",
      "e = 40.6*10**-12;\n",
      "d = e*g;\n",
      "print \"charge sensitivity (C/N) = \", d\n"
     ],
     "language": "python",
     "metadata": {},
     "outputs": [
      {
       "output_type": "stream",
       "stream": "stdout",
       "text": [
        "output voltage(V) =  165.0\n",
        "charge sensitivity (C/N) =  2.233e-12\n"
       ]
      }
     ],
     "prompt_number": 43
    },
    {
     "cell_type": "heading",
     "level": 2,
     "metadata": {},
     "source": [
      "Example 5.41  Page No : 255"
     ]
    },
    {
     "cell_type": "code",
     "collapsed": false,
     "input": [
      "\n",
      "# Variables\n",
      "g = 0.055;\n",
      "t = 1.5*10**-3;\n",
      "Eo = 100;\n",
      "\n",
      "# Calculations\n",
      "P =  Eo/(g*t);\n",
      "A = 25.*10**-6;\n",
      "F = P*A;\n",
      "\n",
      "# Results\n",
      "print \"Force(N) = \", F\n"
     ],
     "language": "python",
     "metadata": {},
     "outputs": [
      {
       "output_type": "stream",
       "stream": "stdout",
       "text": [
        "Force(N) =  30.303030303\n"
       ]
      }
     ],
     "prompt_number": 44
    },
    {
     "cell_type": "heading",
     "level": 2,
     "metadata": {},
     "source": [
      "Example 5.42  Page No : 257"
     ]
    },
    {
     "cell_type": "code",
     "collapsed": false,
     "input": [
      "# Variables\n",
      "A = 25.*10**-6;\n",
      "F = 5.;\n",
      "P = F/A;\n",
      "d = 150*10**-12;\n",
      "e = 12.5*10**-9;\n",
      "g = d/(e);\n",
      "t = 1.25*10**-3;\n",
      "\n",
      "# Calculations\n",
      "Eo = (g*t*P);\n",
      "strain = P/(12*10**6);\n",
      "Q = d*F;\n",
      "C = Q/Eo;\n",
      "\n",
      "# Results\n",
      "print \"strain = \", strain\n",
      "print \"charge(C) = \", Q\n",
      "print \"capacitance(F) = \", C\n"
     ],
     "language": "python",
     "metadata": {},
     "outputs": [
      {
       "output_type": "stream",
       "stream": "stdout",
       "text": [
        "strain =  0.0166666666667\n",
        "charge(C) =  7.5e-10\n",
        "capacitance(F) =  2.5e-10\n"
       ]
      }
     ],
     "prompt_number": 45
    },
    {
     "cell_type": "heading",
     "level": 2,
     "metadata": {},
     "source": [
      "Example 5.43  Page No : 259"
     ]
    },
    {
     "cell_type": "code",
     "collapsed": false,
     "input": [
      "import math \n",
      "\n",
      "# Variables\n",
      "d = 2.*10**-12;\n",
      "t = 1.*10**-3;\n",
      "Fmax = 0.01;\n",
      "e0 = 8.85*10**-12;\n",
      "er = 5.;\n",
      "\n",
      "# Calculations and Results\n",
      "A = 100*10**-6;\n",
      "Eo_peak_to_peak = 2*d*t*Fmax/(e0*er*A);\n",
      "print \"peak voltage swing under open conditions\", Eo_peak_to_peak\n",
      "Rl = 100*10**6;\n",
      "Cl = 20*10**-12;\n",
      "d1 = 1*10**-3;\n",
      "Cp = e0*er*A/d1;\n",
      "C = Cp+Cl;\n",
      "w = 1000;\n",
      "m = (w*Cp*Rl/(1+(w*C*Rl)**2)**0.5);\n",
      "El_peak_to_peak = (2*d*t*Fmax/(e0*er*A))*m;\n",
      "\n",
      "print \"peak voltage swing under loaded conditions\", El_peak_to_peak\n",
      "E = 90*10**9;\n",
      "dt = 2*Fmax*t/(A*E);\n",
      "print \"maximum change in crystal thickness (m)\", dt\n"
     ],
     "language": "python",
     "metadata": {},
     "outputs": [
      {
       "output_type": "stream",
       "stream": "stdout",
       "text": [
        "peak voltage swing under open conditions 0.0090395480226\n",
        "peak voltage swing under loaded conditions 0.00151556405344\n",
        "maximum change in crystal thickness (m) 2.22222222222e-12\n"
       ]
      }
     ],
     "prompt_number": 47
    },
    {
     "cell_type": "heading",
     "level": 2,
     "metadata": {},
     "source": [
      "Example 5.44  Page No : 261"
     ]
    },
    {
     "cell_type": "code",
     "collapsed": false,
     "input": [
      "import math \n",
      "\n",
      "# Variables\n",
      "M = 0.95;\n",
      "tc = 1.5*10**-3;\n",
      "\n",
      "# Calculations and Results\n",
      "w = (1/tc)*((M**2)/(1-M**2))**0.5;\n",
      "print \"minimum frequency (rad/s)\", w\n",
      "ph = ((math.pi/2)-(math.atan(w*tc)))*(180/math.pi);\n",
      "print \"phase shift(deg)\", ph\n"
     ],
     "language": "python",
     "metadata": {},
     "outputs": [
      {
       "output_type": "stream",
       "stream": "stdout",
       "text": [
        "minimum frequency (rad/s) 2028.2899482\n",
        "phase shift(deg) 18.1948723388\n"
       ]
      }
     ],
     "prompt_number": 49
    },
    {
     "cell_type": "heading",
     "level": 2,
     "metadata": {},
     "source": [
      "Example 5.45  Page No : 263"
     ]
    },
    {
     "cell_type": "code",
     "collapsed": false,
     "input": [
      "import math \n",
      "\n",
      "# Variables\n",
      "Kq = 40.*10**-3;\n",
      "Cp = 1000.*10**-12;\n",
      "\n",
      "# Calculations and Results\n",
      "K = Kq/Cp;\n",
      "print \"sensitivity of the transducer(V/m)\", K\n",
      "Cc = 300*10**-12;\n",
      "Ca = 50*10**-12;\n",
      "C = Cp+Cc+Ca;\n",
      "Hf = Kq/C;\n",
      "print \"high frequency sensitivity (V/m)\", Hf\n",
      "R = 1*10**6;\n",
      "tc = R*C;\n",
      "M = 0.95;\n",
      "w = (1/tc)*((M**2)/(1-M**2))**0.5;\n",
      "f = w/(2*math.pi);\n",
      "print \"minimum frequency (s)\", w\n",
      "print \"now f = 10Hz\",\n",
      "f = 10;\n",
      "w = 2*math.pi*f;\n",
      "tc = (1/w)*((M**2)/(1-M**2))**0.5;\n",
      "C_new = tc/R;\n",
      "Ce = C_new-C;\n",
      "print \"external shunt capacitance(F)\", Ce\n",
      "Hf_new = Kq/C_new;\n",
      "print \"new value of high frequency sensitivity (V/m)\", Hf_new\n"
     ],
     "language": "python",
     "metadata": {},
     "outputs": [
      {
       "output_type": "stream",
       "stream": "stdout",
       "text": [
        "sensitivity of the transducer(V/m) 40000000.0\n",
        "high frequency sensitivity (V/m) 29629629.6296\n",
        "minimum frequency (s) 2253.655498\n",
        "now f = 10Hz external shunt capacitance(F) 4.70718556919e-08\n",
        "new value of high frequency sensitivity (V/m) 826073.256145\n"
       ]
      }
     ],
     "prompt_number": 50
    },
    {
     "cell_type": "heading",
     "level": 2,
     "metadata": {},
     "source": [
      "Example 5.46  Page No : 265"
     ]
    },
    {
     "cell_type": "code",
     "collapsed": false,
     "input": [
      "import math \n",
      "#\n",
      "\n",
      "# Variables\n",
      "R = 10.**6;\n",
      "C = 2500.*10**-12;\n",
      "tc = R*C;\n",
      "t = 2.*10**-3;\n",
      "d = 100.*10**-12;\n",
      "\n",
      "# Calculations and Results\n",
      "F = 0.1;\n",
      "el = 10.**3*(d*F*(math.exp(-t/tc))/C);\n",
      "print \"voltage just before t = 2ms (mV)\", el\n",
      "el_after = 10.**3*(d*F*(math.exp(-t/tc)-1)/C);\n",
      "print \"voltage just after t = 2ms (mV)\", el_after\n",
      "print \"when t = 10ms\",\n",
      "t = 10.*10**-3;\n",
      "T = 2.*10\n",
      "e_10 = 10.**3*(d*F*(math.exp((-T/tc)-1))*(math.exp(-(t-T))/tc)/C)\n",
      "print \"output voltage 10 ms after the application of impulse(mV) \", e_10\n"
     ],
     "language": "python",
     "metadata": {},
     "outputs": [
      {
       "output_type": "stream",
       "stream": "stdout",
       "text": [
        "voltage just before t = 2ms (mV) 1.79731585647\n",
        "voltage just after t = 2ms (mV) -2.20268414353\n",
        "when t = 10ms output voltage 10 ms after the application of impulse(mV)  0.0\n"
       ]
      }
     ],
     "prompt_number": 55
    },
    {
     "cell_type": "heading",
     "level": 2,
     "metadata": {},
     "source": [
      "Example 5.47  Page No : 267"
     ]
    },
    {
     "cell_type": "code",
     "collapsed": false,
     "input": [
      "import math \n",
      "# to prove time constant should be approximately 20T to keep undershoot within 5%\n",
      "# Variables\n",
      "print \"Let T = 1\",\n",
      "T = 1.;\n",
      "el = 0.95;\n",
      "\n",
      "# Calculations\n",
      "tc = -T/math.log(el);\n",
      "\n",
      "# Results\n",
      "print \"time constant\", tc\n",
      "print \"as T = 1 so time constant should be approximately equal to 20T\",\n"
     ],
     "language": "python",
     "metadata": {},
     "outputs": [
      {
       "output_type": "stream",
       "stream": "stdout",
       "text": [
        "Let T = 1 time constant 19.4957257462\n",
        "as T = 1 so time constant should be approximately equal to 20T\n"
       ]
      }
     ],
     "prompt_number": 56
    },
    {
     "cell_type": "heading",
     "level": 2,
     "metadata": {},
     "source": [
      "Example 5.48  Page No : 269"
     ]
    },
    {
     "cell_type": "code",
     "collapsed": false,
     "input": [
      "# Variables\n",
      "Kh = -1*10**-6;\n",
      "I = 3;\n",
      "B = 0.5;\n",
      "\n",
      "# Calculations\n",
      "t = 2.*10**-3;\n",
      "Eh = Kh*I*B/t;\n",
      "\n",
      "# Results\n",
      "print \"output voltage (V)\", Eh\n"
     ],
     "language": "python",
     "metadata": {},
     "outputs": [
      {
       "output_type": "stream",
       "stream": "stdout",
       "text": [
        "output voltage (V) -0.00075\n"
       ]
      }
     ],
     "prompt_number": 57
    },
    {
     "cell_type": "heading",
     "level": 2,
     "metadata": {},
     "source": [
      "Example 5.49  Page No : 271"
     ]
    },
    {
     "cell_type": "code",
     "collapsed": false,
     "input": [
      "# Calculations\n",
      "Th_wavelength = 1.24*10**-6/1.8\n",
      "\n",
      "# Results\n",
      "print \"Threshold wavelength (m)\", Th_wavelength\n"
     ],
     "language": "python",
     "metadata": {},
     "outputs": [
      {
       "output_type": "stream",
       "stream": "stdout",
       "text": [
        "Threshold wavelength (m) 6.88888888889e-07\n"
       ]
      }
     ],
     "prompt_number": 58
    },
    {
     "cell_type": "heading",
     "level": 2,
     "metadata": {},
     "source": [
      "Example 5.50  Page No : 273"
     ]
    },
    {
     "cell_type": "code",
     "collapsed": false,
     "input": [
      "\n",
      "# Variables\n",
      "E_imparted = (1.24*10**-6)/(0.2537*10**-6);\n",
      "B_energy = E_imparted-4.30;\n",
      "em_ratio = 0.176*10**12;\n",
      "\n",
      "# Calculations\n",
      "v = (2*B_energy*em_ratio)**0.5;\n",
      "\n",
      "# Results\n",
      "print \"maximum velocity of emitted photo electrons (m/s)\", v\n"
     ],
     "language": "python",
     "metadata": {},
     "outputs": [
      {
       "output_type": "stream",
       "stream": "stdout",
       "text": [
        "maximum velocity of emitted photo electrons (m/s) 454815.603242\n"
       ]
      }
     ],
     "prompt_number": 59
    },
    {
     "cell_type": "heading",
     "level": 2,
     "metadata": {},
     "source": [
      "Example 5.51  Page No : 275"
     ]
    },
    {
     "cell_type": "code",
     "collapsed": false,
     "input": [
      "import math\n",
      "\n",
      "# Variables\n",
      "Ri = 30;\n",
      "Rf = 100;\n",
      "t = 10.;\n",
      "tc = 72.;\n",
      "\n",
      "# Calculations\n",
      "Rt = Ri+(Rf-Ri)*(1-math.exp(-t/tc));\n",
      "\n",
      "# Results\n",
      "print \"resistance of the cell (K ohm)\", Rt\n"
     ],
     "language": "python",
     "metadata": {},
     "outputs": [
      {
       "output_type": "stream",
       "stream": "stdout",
       "text": [
        "resistance of the cell (K ohm) 39.0772691917\n"
       ]
      }
     ],
     "prompt_number": 60
    },
    {
     "cell_type": "heading",
     "level": 2,
     "metadata": {},
     "source": [
      "Example 5.52  Page No : 277"
     ]
    },
    {
     "cell_type": "code",
     "collapsed": false,
     "input": [
      "import math \n",
      "\n",
      "# Calculations and Results\n",
      "I_power = 250*0.2*10**-6;\n",
      "print \"incident power (W)\", I_power\n",
      "\n",
      "Rl = 10.*10**3;\n",
      "C = 2.*10**-12;\n",
      "fc = 1./(2*math.pi*Rl*C);\n",
      "print \"cut off frequency (Hz)\", fc\n"
     ],
     "language": "python",
     "metadata": {},
     "outputs": [
      {
       "output_type": "stream",
       "stream": "stdout",
       "text": [
        "incident power (W) 5e-05\n",
        "cut off frequency (Hz) 7957747.15459\n"
       ]
      }
     ],
     "prompt_number": 61
    },
    {
     "cell_type": "heading",
     "level": 2,
     "metadata": {},
     "source": [
      "Example 5.53  Page No : 279"
     ]
    },
    {
     "cell_type": "code",
     "collapsed": false,
     "input": [
      "import math \n",
      "\n",
      "# Variables\n",
      "I = 2.2*10**-3;\n",
      "Eo = 0.33;\n",
      "Rl = 100.;\n",
      "\n",
      "# Calculations and Results\n",
      "Ri = (Eo/I)-100;\n",
      "print \"internal resistance of cell (ohm)\", Ri\n",
      "Vo = 0.33*(math.log(25)/math.log(10));\n",
      "print \"open circuit voltage for a radiant incidence of 25 W/m2 (V) = \", Vo\n"
     ],
     "language": "python",
     "metadata": {},
     "outputs": [
      {
       "output_type": "stream",
       "stream": "stdout",
       "text": [
        "internal resistance of cell (ohm) 50.0\n",
        "open circuit voltage for a radiant incidence of 25 W/m2 (V) =  0.461320202862\n"
       ]
      }
     ],
     "prompt_number": 62
    },
    {
     "cell_type": "heading",
     "level": 2,
     "metadata": {},
     "source": [
      "Example 5.54  Page No : 281"
     ]
    },
    {
     "cell_type": "code",
     "collapsed": false,
     "input": [
      "import math \n",
      "\n",
      "# Variables\n",
      "A = 1935*10**-6;\n",
      "r = 0.914;\n",
      "S_angle = A/r**2;\n",
      "I = 180.;\n",
      "\n",
      "# Calculations\n",
      "L_flux = I*S_angle;\n",
      "\n",
      "# Results\n",
      "print \"lumnious flux = \", L_flux\n",
      "print \"Corresponding to lumnious flux o.417 lm and a load resistance of 800 ohm the current is 120 micro Ampere\",\n"
     ],
     "language": "python",
     "metadata": {},
     "outputs": [
      {
       "output_type": "stream",
       "stream": "stdout",
       "text": [
        "lumnious flux =  0.416928019765\n",
        "Corresponding to lumnious flux o.417 lm and a load resistance of 800 ohm the current is 120 micro Ampere\n"
       ]
      }
     ],
     "prompt_number": 63
    }
   ],
   "metadata": {}
  }
 ]
}