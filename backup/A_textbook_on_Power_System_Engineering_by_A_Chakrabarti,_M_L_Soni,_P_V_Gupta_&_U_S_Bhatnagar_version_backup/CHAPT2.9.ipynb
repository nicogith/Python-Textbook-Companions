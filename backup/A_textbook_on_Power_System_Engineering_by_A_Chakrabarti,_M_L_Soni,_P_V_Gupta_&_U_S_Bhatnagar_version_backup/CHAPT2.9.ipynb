{
 "metadata": {
  "name": ""
 },
 "nbformat": 3,
 "nbformat_minor": 0,
 "worksheets": [
  {
   "cells": [
    {
     "cell_type": "heading",
     "level": 1,
     "metadata": {},
     "source": [
      "CHAPTER 2.9: LOAD FLOW STUDY USING COMPUTER TECHNIQUES"
     ]
    },
    {
     "cell_type": "heading",
     "level": 2,
     "metadata": {},
     "source": [
      "Example 2.9.1, Page number 235-236"
     ]
    },
    {
     "cell_type": "code",
     "collapsed": false,
     "input": [
      "import scipy\n",
      "from numpy import *\n",
      "\n",
      "#Variable declaration\n",
      "Z_L1 = complex(14.3,97)       #Series impedance of line L1(ohm)\n",
      "Z_PL1 = complex(0,-3274)      #Shunt impedance of line L1(ohm)\n",
      "Z_L2 = complex(7.13,48.6)     #Series impedance of line L2(ohm)\n",
      "Z_PL2 = complex(0,-6547)      #Shunt impedance of line L2(ohm)\n",
      "Z_L3 = complex(9.38,64)       #Series impedance of line L3(ohm)\n",
      "Z_PL3 = complex(0,-4976)      #Shunt impedance of line L3(ohm)\n",
      "\n",
      "#Calculation\n",
      "Y_S12 = 1.0/Z_L1                  #Series admittance(mho)\n",
      "Y_P12 = 1.0/Z_PL1                 #Shunt admittance(mho)\n",
      "Y_S23 = 1.0/Z_L3                  #Series admittance(mho)\n",
      "Y_P23 = 1.0/Z_PL3                 #Shunt admittance(mho)\n",
      "Y_S13 = 1.0/Z_L2                  #Series admittance(mho)\n",
      "Y_P13 = 1.0/Z_PL2                 #Shunt admittance(mho)\n",
      "Y_11 = Y_P12+Y_P13+Y_S12+Y_S13    #Admittance(mho)\n",
      "Y_12 = -Y_S12                     #Admittance(mho)\n",
      "Y_13 = -Y_S13                     #Admittance(mho)\n",
      "Y_21 = Y_12                       #Admittance(mho)\n",
      "Y_22 = Y_P12+Y_P23+Y_S12+Y_S23    #Admittance(mho)\n",
      "Y_23 = -Y_S23                     #Admittance(mho)\n",
      "Y_31 = Y_13                       #Admittance(mho)\n",
      "Y_32 = Y_23                       #Admittance(mho)\n",
      "Y_33 = Y_P13+Y_P23+Y_S23+Y_S13    #Admittance(mho)\n",
      "Y_bus = [[Y_11, Y_12, Y_13],\n",
      "         [Y_21, Y_22, Y_23],\n",
      "         [Y_31, Y_32, Y_33]]\n",
      "\n",
      "#Result\n",
      "print('[Y_bus] = \\n')\n",
      "print(array(Y_bus))"
     ],
     "language": "python",
     "metadata": {},
     "outputs": [
      {
       "output_type": "stream",
       "stream": "stdout",
       "text": [
        "[Y_bus] = \n",
        "\n",
        "[[ 0.00444257-0.02977441j -0.00148749+0.01008999j -0.00295508+0.0201426j ]\n",
        " [-0.00148749+0.01008999j  0.00372938-0.02488001j -0.00224188+0.01529642j]\n",
        " [-0.00295508+0.0201426j  -0.00224188+0.01529642j  0.00519696-0.03508532j]]\n"
       ]
      }
     ],
     "prompt_number": 1
    },
    {
     "cell_type": "heading",
     "level": 2,
     "metadata": {},
     "source": [
      "Example 2.9.2, Page number 236"
     ]
    },
    {
     "cell_type": "code",
     "collapsed": false,
     "input": [
      "import scipy\n",
      "from numpy import *\n",
      "from sympy import *\n",
      "\n",
      "#Variable declaration\n",
      "Z_2 = complex(0,0.2)          #Impedance(ohm)\n",
      "Z_5 = complex(0,0.4)          #Impedance(ohm)\n",
      "Z_8 = complex(0,0.2)          #Impedance(ohm)\n",
      "Y_1 = complex(0,0.01)         #Admittance(mho)\n",
      "Y_3 = Y_1                     #Admittance(mho)\n",
      "Y_4 = complex(0,0.05)         #Admittance(mho)\n",
      "Y_6 = Y_4                     #Admittance(mho)\n",
      "Y_7 = complex(0,0.03)         #Admittance(mho)\n",
      "Y_9 = Y_7                     #Admittance(mho)\n",
      "\n",
      "#Calculation\n",
      "Y_2 = 1.0/Z_2                     #Admittance(mho)\n",
      "Y_5 = 1.0/Z_5                     #Admittance(mho)\n",
      "Y_8 = 1.0/Z_8                     #Admittance(mho)\n",
      "V_1 = Symbol('V_1')               #Voltage\n",
      "V_2 = Symbol('V_2')               #Voltage\n",
      "V_3 = Symbol('V_3')               #Voltage\n",
      "I_1 = (Y_1+Y_2+Y_4+Y_5)*V_1-Y_2*V_2-Y_5*V_3     #Bus current\n",
      "I_2 = -Y_2*V_1+(Y_2+Y_3+Y_8+Y_9)*V_2-Y_8*V_3    #Bus current\n",
      "I_3 = -Y_5*V_1-Y_8*V_2+(Y_5+Y_6+Y_7+Y_8)*V_3    #Bus current\n",
      "\n",
      "#Result\n",
      "print('[Y_bus] = [[-j7.44  j5.0   j2.5]')\n",
      "print('           [j5.0   -j9.96  j5.0]')\n",
      "print('           [j5.0    j5.0   -j7.42]]')"
     ],
     "language": "python",
     "metadata": {},
     "outputs": [
      {
       "output_type": "stream",
       "stream": "stdout",
       "text": [
        "[Y_bus] = [[-j7.44  j5.0   j2.5]\n",
        "           [j5.0   -j9.96  j5.0]\n",
        "           [j5.0    j5.0   -j7.42]]\n"
       ]
      }
     ],
     "prompt_number": 1
    },
    {
     "cell_type": "heading",
     "level": 2,
     "metadata": {},
     "source": [
      "Example 2.9.3, Page number 236-237"
     ]
    },
    {
     "cell_type": "code",
     "collapsed": false,
     "input": [
      "import math\n",
      "import cmath\n",
      "import scipy\n",
      "from numpy import *\n",
      "\n",
      "#Variable declaration\n",
      "V_a = 1.0                                   #Voltage(p.u)\n",
      "V_b = 1.0*cmath.exp(1j*-36.87*math.pi/180)  #Voltage(p.u)\n",
      "V_c = 1.0                                   #Voltage(p.u)\n",
      "Z_1 = complex(0,1)                          #Reactance(p.u)\n",
      "Z_2 = complex(0,1)                          #Reactance(p.u)\n",
      "Z_3 = complex(0,1)                          #Reactance(p.u)\n",
      "Z_13 = complex(0,0.4)                       #Reactance(p.u)\n",
      "Z_23 = complex(0,0.4)                       #Reactance(p.u)\n",
      "Z_14 = complex(0,0.2)                       #Reactance(p.u)\n",
      "Z_24 = complex(0,0.2)                       #Reactance(p.u)\n",
      "Z_34 = complex(0,0.2)                       #Reactance(p.u)\n",
      "Z_12 = complex(0,0)                         #Reactance(p.u)\n",
      "\n",
      "#Calculation\n",
      "I_1 = V_a/Z_1         #Current injection vector(p.u)\n",
      "I_2 = V_b/Z_2         #Current injection vector(p.u)\n",
      "I_3 = V_c/Z_3         #Current injection vector(p.u)\n",
      "I_4 = 0.0             #Current injection vector(p.u)\n",
      "y1 = 1.0/Z_1          #Admittance(p.u)\n",
      "y2 = 1.0/Z_2          #Admittance(p.u)\n",
      "y3 = 1.0/Z_3          #Admittance(p.u)\n",
      "y13 = 1.0/Z_13        #Admittance(p.u)\n",
      "y23 = 1.0/Z_23        #Admittance(p.u)\n",
      "y14 = 1.0/Z_14        #Admittance(p.u)\n",
      "y24 = 1.0/Z_24        #Admittance(p.u)\n",
      "y34 = 1.0/Z_34        #Admittance(p.u)\n",
      "y12 = 0.0             #Admittance(p.u)\n",
      "Y_11 = y1+y13+y14     #Equivalent admittance(p.u)\n",
      "Y_12 = y12            #Equivalent admittance(p.u)\n",
      "Y_13 = -y13           #Equivalent admittance(p.u)\n",
      "Y_14 = -y14           #Equivalent admittance(p.u)\n",
      "Y_21 = Y_12           #Equivalent admittance(p.u)\n",
      "Y_22 = y2+y23+y24     #Equivalent admittance(p.u)\n",
      "Y_23 = -y23           #Equivalent admittance(p.u)\n",
      "Y_24 = -y24           #Equivalent admittance(p.u)\n",
      "Y_31 = Y_13           #Equivalent admittance(p.u)\n",
      "Y_32 = Y_23           #Equivalent admittance(p.u)\n",
      "Y_33 = y3+y13+y23+y34 #Equivalent admittance(p.u)\n",
      "Y_34 = -y34           #Equivalent admittance(p.u)\n",
      "Y_41 = Y_14           #Equivalent admittance(p.u)\n",
      "Y_42 = Y_24           #Equivalent admittance(p.u)\n",
      "Y_43 = Y_34           #Equivalent admittance(p.u)\n",
      "Y_44 = y14+y24+y34    #Equivalent admittance(p.u)\n",
      "Y_bus = [[Y_11, Y_12, Y_13, Y_14],\n",
      "         [Y_21, Y_22, Y_23, Y_24],\n",
      "         [Y_31, Y_32, Y_33, Y_34],\n",
      "         [Y_41, Y_42, Y_43, Y_44]]                #Bus admittance matrix\n",
      "Y_bus_inv = linalg.inv(Y_bus)                     #Inverse of bus admittance matrix\n",
      "I = array([[I_1],\n",
      "     [I_2],\n",
      "     [I_3],\n",
      "     [I_4]])                                      #Current matrix\n",
      "def MatrixMul( mtx_a, mtx_b):\n",
      "    tpos_b = zip( *mtx_b)\n",
      "    rtn = [[ sum( ea*eb for ea,eb in zip(Y_bus_inv,I)) for I in tpos_b] for Y_bus_inv in mtx_a]\n",
      "    return rtn\n",
      "v = MatrixMul( Y_bus_inv, I )\n",
      "V = array(v)\n",
      "\n",
      "#Result\n",
      "print('Voltage at bus 1, V_1 = %.4f%.4fj p.u' %(V[0,0].real,V[0,0].imag))\n",
      "print('Voltage at bus 2, V_2 = %.4f%.4fj p.u' %(V[1,0].real,V[1,0].imag))\n",
      "print('Voltage at bus 3, V_3 = %.4f%.4fj p.u' %(V[2,0].real,V[2,0].imag))\n",
      "print('Voltage at bus 4, V_4 = %.4f%.4fj p.u' %(V[3,0].real,V[3,0].imag))\n",
      "print('\\nNOTE: Node equation matrix could not be represented in a single equation. Hence, it is not displayed')"
     ],
     "language": "python",
     "metadata": {},
     "outputs": [
      {
       "output_type": "stream",
       "stream": "stdout",
       "text": [
        "Voltage at bus 1, V_1 = 0.9426-0.1721j p.u\n",
        "Voltage at bus 2, V_2 = 0.9191-0.2427j p.u\n",
        "Voltage at bus 3, V_3 = 0.9383-0.1852j p.u\n",
        "Voltage at bus 4, V_4 = 0.9333-0.2000j p.u\n",
        "\n",
        "NOTE: Node equation matrix could not be represented in a single equation. Hence, it is not displayed\n"
       ]
      }
     ],
     "prompt_number": 1
    },
    {
     "cell_type": "heading",
     "level": 2,
     "metadata": {},
     "source": [
      "Example 2.9.4, Page number 237-238"
     ]
    },
    {
     "cell_type": "code",
     "collapsed": false,
     "input": [
      "import math\n",
      "import cmath\n",
      "import scipy\n",
      "from numpy import *\n",
      "\n",
      "#Variable declaration\n",
      "V_a = 1.0                                   #Voltage(p.u)\n",
      "V_b = 1.0*cmath.exp(1j*-36.87*math.pi/180)  #Voltage(p.u)\n",
      "V_c = 1.0                                   #Voltage(p.u)\n",
      "Z_1 = complex(0,1)                          #Reactance(p.u)\n",
      "Z_2 = complex(0,1)                          #Reactance(p.u)\n",
      "Z_3 = complex(0,1)                          #Reactance(p.u)\n",
      "Z_13 = complex(0,0.4)                       #Reactance(p.u)\n",
      "Z_23 = complex(0,0.4)                       #Reactance(p.u)\n",
      "Z_14 = complex(0,0.2)                       #Reactance(p.u)\n",
      "Z_24 = complex(0,0.2)                       #Reactance(p.u)\n",
      "Z_34 = complex(0,0.2)                       #Reactance(p.u)\n",
      "Z_12 = complex(0,0)                         #Reactance(p.u)\n",
      "\n",
      "#Calculation\n",
      "I_1 = V_a/Z_1         #Current injection vector(p.u)\n",
      "I_2 = V_b/Z_2         #Current injection vector(p.u)\n",
      "I_3 = V_c/Z_3         #Current injection vector(p.u)\n",
      "I_4 = 0.0             #Current injection vector(p.u)\n",
      "y1 = 1.0/Z_1          #Admittance(p.u)\n",
      "y2 = 1.0/Z_2          #Admittance(p.u)\n",
      "y3 = 1.0/Z_3          #Admittance(p.u)\n",
      "y13 = 1.0/Z_13        #Admittance(p.u)\n",
      "y23 = 1.0/Z_23        #Admittance(p.u)\n",
      "y14 = 1.0/Z_14        #Admittance(p.u)\n",
      "y24 = 1.0/Z_24        #Admittance(p.u)\n",
      "y34 = 1.0/Z_34        #Admittance(p.u)\n",
      "y12 = 0.0             #Admittance(p.u)\n",
      "Y_11 = y1+y13+y14     #Equivalent admittance(p.u)\n",
      "Y_12 = y12            #Equivalent admittance(p.u)\n",
      "Y_13 = -y13           #Equivalent admittance(p.u)\n",
      "Y_14 = -y14           #Equivalent admittance(p.u)\n",
      "Y_21 = Y_12           #Equivalent admittance(p.u)\n",
      "Y_22 = y2+y23+y24     #Equivalent admittance(p.u)\n",
      "Y_23 = -y23           #Equivalent admittance(p.u)\n",
      "Y_24 = -y24           #Equivalent admittance(p.u)\n",
      "Y_31 = Y_13           #Equivalent admittance(p.u)\n",
      "Y_32 = Y_23           #Equivalent admittance(p.u)\n",
      "Y_33 = y3+y13+y23+y34 #Equivalent admittance(p.u)\n",
      "Y_34 = -y34           #Equivalent admittance(p.u)\n",
      "Y_41 = Y_14           #Equivalent admittance(p.u)\n",
      "Y_42 = Y_24           #Equivalent admittance(p.u)\n",
      "Y_43 = Y_34           #Equivalent admittance(p.u)\n",
      "Y_44 = y14+y24+y34    #Equivalent admittance(p.u)\n",
      "Y_bus = array([[Y_11, Y_12, Y_13, Y_14],\n",
      "         [Y_21, Y_22, Y_23, Y_24],\n",
      "         [Y_31, Y_32, Y_33, Y_34],\n",
      "         [Y_41, Y_42, Y_43, Y_44]])                #Bus admittance matrix\n",
      "K = Y_bus[0:2,0:2]\n",
      "L = Y_bus[0:2,2:4]\n",
      "N = Y_bus[2:4,0:2]\n",
      "M = Y_bus[2:4,2:4]\n",
      "M_inv = linalg.inv(M)                              #Inverse of matrix M\n",
      "def MatrixMul( mtx_a, mtx_b):\n",
      "    tpos_b = zip( *mtx_b)\n",
      "    rtn = [[ sum( ea*eb for ea,eb in zip(M_inv,N)) for N in tpos_b] for M_inv in mtx_a]\n",
      "    return rtn\n",
      "v = MatrixMul( M_inv, N )                          #Multiplication of marix [M^-1][N]\n",
      "def MatrixMul( mtx_a, mtx_b):\n",
      "    tpos_b = zip( *mtx_b)\n",
      "    rtn = [[ sum( ea*eb for ea,eb in zip(L,v)) for v in tpos_b] for L in mtx_a]\n",
      "    return rtn\n",
      "V = array(MatrixMul( L, v ))                       #Multiplication of marix [L][M^-1][N]\n",
      "Y_bus_new = K-V                                    #New bus admittance matrix\n",
      "\n",
      "#Result\n",
      "print('[Y_bus]new = \\n')\n",
      "print(Y_bus_new)\n",
      "print('\\nNOTE: ERROR: Mistake in representing the sign in final answer in textbook')"
     ],
     "language": "python",
     "metadata": {},
     "outputs": [
      {
       "output_type": "stream",
       "stream": "stdout",
       "text": [
        "[Y_bus]new = \n",
        "\n",
        "[[ 0.-4.97321429j  0.+3.52678571j]\n",
        " [ 0.+3.52678571j  0.-4.97321429j]]\n",
        "\n",
        "NOTE: ERROR: Mistake in representing the sign in final answer in textbook\n"
       ]
      }
     ],
     "prompt_number": 1
    },
    {
     "cell_type": "heading",
     "level": 2,
     "metadata": {},
     "source": [
      "Example 2.9.5, Page number 238"
     ]
    },
    {
     "cell_type": "code",
     "collapsed": false,
     "input": [
      "import math\n",
      "import cmath\n",
      "import scipy\n",
      "from numpy import *\n",
      "\n",
      "#Variable declaration\n",
      "I_1 = 2.0                                   #Voltage(p.u)\n",
      "I_2 = 2.0*cmath.exp(1j*45.0*math.pi/180)    #Voltage(p.u)\n",
      "y1 = complex(0,-1.0)                        #Admittance(p.u)\n",
      "y2 = complex(0,-2.0)                        #Admittance(p.u)\n",
      "y12 = complex(0,-2.0)                       #Admittance(p.u)\n",
      "\n",
      "#Calculation\n",
      "E_1 = I_1*y1                           #Voltage element(p.u)\n",
      "E_2 = I_2*y2                           #Voltage element(p.u)\n",
      "Y_11 = y1+y12                          #Self Admittance(p.u)\n",
      "Y_12 = -y12                            #Mutual Admittance(p.u)\n",
      "Y_21 = Y_12                            #Mutual Admittance(p.u)\n",
      "Y_22 = y2+y12                          #Self Admittance(p.u)\n",
      "Y_bus = [[Y_11, Y_12],\n",
      "         [Y_21, Y_22]]                 #Bus admittance matrix\n",
      "Y_bus_inv = linalg.inv(Y_bus)          #Inverse of bus admittance matrix\n",
      "I = [[I_1],\n",
      "         [I_2]]                        #Current matrix\n",
      "def MatrixMul( mtx_a, mtx_b):\n",
      "    tpos_b = zip( *mtx_b)\n",
      "    rtn = [[ sum( ea*eb for ea,eb in zip(Y_bus_inv,I)) for I in tpos_b] for Y_bus_inv in mtx_a]\n",
      "    return rtn\n",
      "V = array(MatrixMul( Y_bus_inv, I ))     #Multiplication of marix [Y_bus^-1][I]\n",
      "V_1 = V[0,0]                             #Voltage(p.u)\n",
      "V_2 = V[1,0]                             #Voltage(p.u)\n",
      "\n",
      "#Result\n",
      "print('Impedance elements in the impedance diagram are:')\n",
      "print('  E_1 = %.f\u2220%.f\u00b0 p.u' %(abs(E_1),cmath.phase(E_1)*180/math.pi))\n",
      "print('  E_2 = %.f\u2220%.f\u00b0 p.u' %(abs(E_2),cmath.phase(E_2)*180/math.pi))\n",
      "print('  Y_11 = %.1fj p.u' %Y_11.imag)\n",
      "print('  Y_12 = Y_21 = %.1fj p.u' %Y_12.imag)\n",
      "print('  Y_22 = %.1fj p.u' %Y_22.imag)\n",
      "print('V_1 = %.3f\u2220%.1f\u00b0 p.u' %(abs(V_1),cmath.phase(V_1)*180/math.pi))\n",
      "print('V_2 = %.3f\u2220%.1f\u00b0 p.u' %(abs(V_2),cmath.phase(V_2)*180/math.pi))\n",
      "print('\\nNOTE: ERROR: Calculation mistake in V_1 in textbook')"
     ],
     "language": "python",
     "metadata": {},
     "outputs": [
      {
       "output_type": "stream",
       "stream": "stdout",
       "text": [
        "Impedance elements in the impedance diagram are:\n",
        "  E_1 = 2\u2220-90\u00b0 p.u\n",
        "  E_2 = 4\u2220-45\u00b0 p.u\n",
        "  Y_11 = -3.0j p.u\n",
        "  Y_12 = Y_21 = 2.0j p.u\n",
        "  Y_22 = -4.0j p.u\n",
        "V_1 = 1.399\u2220104.6\u00b0 p.u\n",
        "V_2 = 1.159\u2220117.2\u00b0 p.u\n",
        "\n",
        "NOTE: ERROR: Calculation mistake in V_1 in textbook\n"
       ]
      }
     ],
     "prompt_number": 1
    },
    {
     "cell_type": "heading",
     "level": 2,
     "metadata": {},
     "source": [
      "Example 2.9.6, Page number 238"
     ]
    },
    {
     "cell_type": "code",
     "collapsed": false,
     "input": [
      "import scipy\n",
      "from numpy import *\n",
      "\n",
      "#Variable declaration\n",
      "Y_bus = [[-1j*10.5, 0, 1j*5.0, 1j*5.0],\n",
      "         [0, -1j*8.0, 1j*2.5, 1j*5.0],\n",
      "         [1j*5.0, 1j*2.5, -1j*18.0, 1j*10.0],\n",
      "         [1j*5.0, 1j*5.0, 1j*10.0, -1j*20.0]]          #Bus admittance matrix\n",
      "\n",
      "#Calculation\n",
      "Z_bus = linalg.inv(Y_bus)                              #Bus impedance matrix\n",
      "\n",
      "#Result\n",
      "print('[Z_bus] = \\n')\n",
      "print(array(Z_bus))"
     ],
     "language": "python",
     "metadata": {},
     "outputs": [
      {
       "output_type": "stream",
       "stream": "stdout",
       "text": [
        "[Z_bus] = \n",
        "\n",
        "[[ 0.+0.72386446j  0.+0.62004326j  0.+0.65609229j  0.+0.66402307j]\n",
        " [ 0.+0.62004326j  0.+0.73828407j  0.+0.64167267j  0.+0.66041817j]\n",
        " [ 0.+0.65609229j  0.+0.64167267j  0.+0.70223504j  0.+0.67555876j]\n",
        " [ 0.+0.66402307j  0.+0.66041817j  0.+0.67555876j  0.+0.71888969j]]\n"
       ]
      }
     ],
     "prompt_number": 1
    },
    {
     "cell_type": "heading",
     "level": 2,
     "metadata": {},
     "source": [
      "Example 2.9.7, Page number 239"
     ]
    },
    {
     "cell_type": "code",
     "collapsed": false,
     "input": [
      "import scipy\n",
      "from numpy import *\n",
      "\n",
      "#Variable declaration\n",
      "Y_C = complex(0,0.1)              #Shunt admittance(mho)\n",
      "Z_L = complex(0,0.2)              #Series impedance(mho)\n",
      "\n",
      "#Calculation\n",
      "Y_L = 1.0/Z_L                     #Series admittance(mho)\n",
      "Y_11 = Y_C+Y_C+Y_L+Y_L            #Admittance(mho)\n",
      "Y_12 = -Y_L                       #Admittance(mho)\n",
      "Y_13 = -Y_L                       #Admittance(mho)\n",
      "Y_21 = Y_12                       #Admittance(mho)\n",
      "Y_22 = Y_L+Y_L+Y_C+Y_C            #Admittance(mho)\n",
      "Y_23 = -Y_L                       #Admittance(mho)\n",
      "Y_31 = Y_13                       #Admittance(mho)\n",
      "Y_32 = Y_23                       #Admittance(mho)\n",
      "Y_33 = Y_L+Y_L+Y_C+Y_C            #Admittance(mho)\n",
      "Y_bus = array([[Y_11, Y_12, Y_13],\n",
      "         [Y_21, Y_22, Y_23],\n",
      "         [Y_31, Y_32, Y_33]])     #Bus admittance matrix\n",
      "S_11 = Y_bus[0,0].conjugate()\n",
      "S_12 = Y_bus[0,1].conjugate()\n",
      "S_13 = Y_bus[0,2].conjugate()\n",
      "S_21 = S_12\n",
      "S_22 = Y_bus[1,1].conjugate()\n",
      "S_23 = Y_bus[1,2].conjugate()\n",
      "S_31 = S_13\n",
      "S_32 = S_23\n",
      "S_33 = Y_bus[2,2].conjugate()\n",
      "\n",
      "#Result\n",
      "print('Power flow expressions are:')\n",
      "print('S_1 = %.1fj|V_1|**2 %.1fjV_1*V_2(conj) %.1fjV_3(conj)' %(S_11.imag,S_12.imag,S_13.imag))\n",
      "print('S_2 = %.1fjV_2*V_1(conj) + %.1fj|V_2|**2 %.1fjV_2*V_3(conj)' %(S_21.imag,S_22.imag,S_23.imag))\n",
      "print('S_3 = %.1fjV_3*V_1(conj) %.1fjV_3*V_2(conj) + %.1fj|V_3|**2' %(S_31.imag,S_32.imag,S_33.imag))"
     ],
     "language": "python",
     "metadata": {},
     "outputs": [
      {
       "output_type": "stream",
       "stream": "stdout",
       "text": [
        "Power flow expressions are:\n",
        "S_1 = 9.8j|V_1|**2 -5.0jV_1*V_2(conj) -5.0jV_3(conj)\n",
        "S_2 = -5.0jV_2*V_1(conj) + 9.8j|V_2|**2 -5.0jV_2*V_3(conj)\n",
        "S_3 = -5.0jV_3*V_1(conj) -5.0jV_3*V_2(conj) + 9.8j|V_3|**2\n"
       ]
      }
     ],
     "prompt_number": 1
    },
    {
     "cell_type": "heading",
     "level": 2,
     "metadata": {},
     "source": [
      "Example 2.9.8, Page number 242"
     ]
    },
    {
     "cell_type": "code",
     "collapsed": false,
     "input": [
      "import math\n",
      "import cmath\n",
      "\n",
      "#Variable declaration\n",
      "V_1 = 1.0                        #Voltage(p.u)\n",
      "S_g2 = complex(0,1.0)            #Complex power generated(p.u)\n",
      "S_D2 = complex(0.5,1.0)          #Complex power demand(p.u)\n",
      "Z_L = complex(0,0.5)             #Impedance(p.u)\n",
      "\n",
      "#Calculation\n",
      "Y_L = 1.0/Z_L                                         #Admittance(p.u)\n",
      "Y_22 = Y_L                                            #Admittance(mho)\n",
      "Y_21 = -Y_L                                           #Admittance(mho)\n",
      "S_2 = S_g2-S_D2\n",
      "V_2_0 = 1.0                                           #Initial guess\n",
      "V_2_1 = 1.0/Y_22*((S_2/V_2_0.conjugate())-Y_21*V_1)   #V_2(p.u). In 1st iteration\n",
      "V_2_2 = 1.0/Y_22*((S_2/V_2_1.conjugate())-Y_21*V_1)   #V_2(p.u). In 2nd iteration\n",
      "V_2_3 = 1.0/Y_22*((S_2/V_2_2.conjugate())-Y_21*V_1)   #V_2(p.u). In 3rd iteration\n",
      "V_2_4 = 1.0/Y_22*((S_2/V_2_3.conjugate())-Y_21*V_1)   #V_2(p.u). In 4th iteration\n",
      "V_2_5 = 1.0/Y_22*((S_2/V_2_4.conjugate())-Y_21*V_1)   #V_2(p.u). In 5th iteration\n",
      "V_2_6 = 1.0/Y_22*((S_2/V_2_5.conjugate())-Y_21*V_1)   #V_2(p.u). In 6th iteration\n",
      "\n",
      "#Result\n",
      "print('By G-S method, V_2 = %.6f\u2220%.5f\u00b0 p.u' %(abs(V_2_6),cmath.phase(V_2_6)*180/math.pi))"
     ],
     "language": "python",
     "metadata": {},
     "outputs": [
      {
       "output_type": "stream",
       "stream": "stdout",
       "text": [
        "By G-S method, V_2 = 0.965948\u2220-14.99508\u00b0 p.u\n"
       ]
      }
     ],
     "prompt_number": 1
    },
    {
     "cell_type": "heading",
     "level": 2,
     "metadata": {},
     "source": [
      "Example 2.9.9, Page number 243-244"
     ]
    },
    {
     "cell_type": "code",
     "collapsed": false,
     "input": [
      "import math\n",
      "import cmath\n",
      "\n",
      "#Variable declaration\n",
      "V_1 = 1.0                        #Voltage(p.u)\n",
      "S_D2 = complex(1.0,0.5)          #Complex power demand(p.u)\n",
      "Z_L = complex(0,0.5)             #Reactance(p.u)\n",
      "\n",
      "#Calculation\n",
      "Y_L = 1.0/Z_L                    #Admittance(p.u)\n",
      "Y_22 = Y_L                       #Admittance(mho)\n",
      "Y_21 = -Y_L                      #Admittance(mho)\n",
      "V_2_0 = 1.0                      #Initial guess\n",
      "Q_2_0 = 2.0*(1-V_2_0.real)\n",
      "V_2_1 = 1+((0.75+1j*Q_2_0)/(Y_21*V_2_0.conjugate()))   #V_2(p.u). In 1st iteration\n",
      "Q_2_1 = 2.0*(1-V_2_1.real)\n",
      "V_2_2 = 1+((0.75+1j*Q_2_1)/(Y_21*V_2_1.conjugate()))   #V_2(p.u). In 2nd iteration\n",
      "Q_2_2 = 2.0*(1-V_2_2.real)\n",
      "V_2_3 = 1+((0.75+1j*Q_2_2)/(Y_21*V_2_2.conjugate()))   #V_2(p.u). In 3rd iteration\n",
      "Q_2_3 = 2.0*(1-V_2_2.real)\n",
      "V_2_4 = 1+((0.75+1j*Q_2_3)/(Y_21*V_2_3.conjugate()))   #V_2(p.u). In 4th iteration\n",
      "Q_2_4 = 2.0*(1-V_2_2.real)\n",
      "V_2_5 = 1+((0.75+1j*Q_2_4)/(Y_21*V_2_4.conjugate()))   #V_2(p.u). In 5th iteration\n",
      "\n",
      "#Result\n",
      "print('Q_2 = %.4f p.u' %(abs(Q_2_4)))\n",
      "print('V_2 = %.4f\u2220%.4f\u00b0 p.u' %(abs(V_2_5),cmath.phase(V_2_5)*180/math.pi))\n",
      "print('\\nNOTE: ERROR: Changes in the answer is due to substituition mistake in the textbook')"
     ],
     "language": "python",
     "metadata": {},
     "outputs": [
      {
       "output_type": "stream",
       "stream": "stdout",
       "text": [
        "Q_2 = 0.2466 p.u\n",
        "V_2 = 1.0539\u2220-21.1868\u00b0 p.u\n",
        "\n",
        "NOTE: ERROR: Changes in the answer is due to substituition mistake in the textbook\n"
       ]
      }
     ],
     "prompt_number": 1
    },
    {
     "cell_type": "heading",
     "level": 2,
     "metadata": {},
     "source": [
      "Example 2.9.10, Page number 244"
     ]
    },
    {
     "cell_type": "code",
     "collapsed": false,
     "input": [
      "import math\n",
      "import cmath\n",
      "\n",
      "#Variable declaration\n",
      "V_1 = 1.3                        #Voltage at bus 1(p.u)\n",
      "V_3 = 1.0                        #Voltage at bus 3(p.u)\n",
      "V_4 = 1.0                        #Voltage at bus 4(p.u)\n",
      "Y_22 = complex(3.67,-11.0)       #Self admittance(p.u)\n",
      "Y_21 = complex(-2.0,6.0)         #Mutual admittance(p.u)\n",
      "Y_23 = complex(-0.67,2.0)        #Mutual admittance(p.u)\n",
      "Y_24 = complex(-1.0,3.0)         #Mutual admittance(p.u)\n",
      "S_2 = complex(0.5,-0.2)          #Power(p.u)\n",
      "\n",
      "#Calculation\n",
      "S_2_0_conj = S_2.conjugate()       #P_2-jQ_2(p.u)\n",
      "V_2_0 = 1.0                        #Initial guess\n",
      "V_2_1 = 1.0/Y_22*((S_2_0_conj/V_2_0.conjugate())-Y_21*V_1-Y_23*V_3-Y_24*V_4)   #V_2(p.u). In 1st iteration\n",
      "\n",
      "#Result\n",
      "print('After 1st iteration, V_2 = %.3f\u2220%.3f\u00b0 p.u' %(abs(V_2_1),cmath.phase(V_2_1)*180/math.pi))\n",
      "print('\\nNOTE: ERROR: Changes in the answer is due to wrong substituition for V_1 i.e bus 1 voltage')"
     ],
     "language": "python",
     "metadata": {},
     "outputs": [
      {
       "output_type": "stream",
       "stream": "stdout",
       "text": [
        "After 1st iteration, V_2 = 1.162\u22202.285\u00b0 p.u\n",
        "\n",
        "NOTE: ERROR: Changes in the answer is due to wrong substituition for V_1 i.e bus 1 voltage\n"
       ]
      }
     ],
     "prompt_number": 1
    }
   ],
   "metadata": {}
  }
 ]
}