{
 "metadata": {
  "name": ""
 },
 "nbformat": 3,
 "nbformat_minor": 0,
 "worksheets": [
  {
   "cells": [
    {
     "cell_type": "heading",
     "level": 1,
     "metadata": {},
     "source": [
      "CHAPTER 3.9: PROTECTION OF TRANSFORMERS"
     ]
    },
    {
     "cell_type": "heading",
     "level": 2,
     "metadata": {},
     "source": [
      "Example 3.9.2, Page number 635-636"
     ]
    },
    {
     "cell_type": "code",
     "collapsed": false,
     "input": [
      "#Variable declaration\n",
      "V_lv = 220.0                 #LV side voltage of transformer(V)\n",
      "V_hv = 11000.0               #HV side voltage of transformer(V)\n",
      "ratio_CT = 600.0/(5/3**0.5)  #CT ratio on LV side of transformer\n",
      "\n",
      "#Calculation\n",
      "CT_pri = 600.0           #Primary CT\n",
      "CT_sec = 5.0/3**0.5      #Secondary CT\n",
      "I_1 = V_lv/V_hv*CT_pri   #Line current in secondary of transformer corresponding to primary winding(A)\n",
      "I_2 = CT_sec*3**0.5      #Current in secondary of CT(A)\n",
      "\n",
      "#Result\n",
      "print('Ratio of CTs on 11000 V side = %.f : %.f ' %(I_1,I_2))\n",
      "print('\\nNOTE: ERROR: Mistake in representing the final answer in textbook solution')"
     ],
     "language": "python",
     "metadata": {},
     "outputs": [
      {
       "output_type": "stream",
       "stream": "stdout",
       "text": [
        "Ratio of CTs on 11000 V side = 12 : 5 \n",
        "\n",
        "NOTE: ERROR: Mistake in representing the final answer in textbook solution\n"
       ]
      }
     ],
     "prompt_number": 1
    },
    {
     "cell_type": "heading",
     "level": 2,
     "metadata": {},
     "source": [
      "Example 3.9.3, Page number 636"
     ]
    },
    {
     "cell_type": "code",
     "collapsed": false,
     "input": [
      "#Variable declaration\n",
      "V_lv = 11.0*10**3       #LV side voltage of transformer(V)\n",
      "V_hv = 66.0*10**3       #HV side voltage of transformer(V)\n",
      "ratio_CT = 250.0/5      #CT ratio on LV side of transformer\n",
      "\n",
      "#Calculation\n",
      "V_hv_phase = V_hv/3**0.5          #HV side phase voltage(V)\n",
      "ratio_main_T = V_hv_phase/V_lv    #Ratio of main transformer\n",
      "I_2 = 250.0                       #Primary CT\n",
      "I_1 = I_2/(ratio_main_T*3**0.5)   #Primary line current(A)\n",
      "CT_sec = 5.0                      #Secondary CT\n",
      "secondary_side = CT_sec/3**0.5    #HV side CT secondary\n",
      "\n",
      "#Result\n",
      "print('Ratio of CTs on high voltage side = %.1f : %.1f = (%.f/%.2f\u221a3) : (%.f/\u221a3) ' %(I_1,secondary_side,I_2,ratio_main_T,CT_sec))"
     ],
     "language": "python",
     "metadata": {},
     "outputs": [
      {
       "output_type": "stream",
       "stream": "stdout",
       "text": [
        "Ratio of CTs on high voltage side = 41.7 : 2.9 = (250/3.46\u221a3) : (5/\u221a3) \n"
       ]
      }
     ],
     "prompt_number": 1
    },
    {
     "cell_type": "heading",
     "level": 2,
     "metadata": {},
     "source": [
      "Example 3.9.4, Page number 636"
     ]
    },
    {
     "cell_type": "code",
     "collapsed": false,
     "input": [
      "#Variable declaration\n",
      "V_hv = 33.0           #HV side voltage of transformer(kV)\n",
      "V_lv = 6.6            #LV side voltage of transformer(kV)\n",
      "ratio_CT = 100.0/1    #CT ratio on LV side of transformer\n",
      "\n",
      "#Calculation\n",
      "CT_pri = 100.0              #Primary CT\n",
      "CT_sec = 1.0                #Secondary CT\n",
      "I_hv = V_lv/V_hv*CT_pri     #Line current on HV side(A)\n",
      "I_lv = CT_sec/3**0.5        #Line current on LV side(A)\n",
      "\n",
      "#Result\n",
      "print('Ratio of protective CTs on 33 kV side = %.f : %.f/\u221a3 = %.f : %.f ' %(I_hv,CT_sec,3**0.5*I_hv,I_lv*3**0.5))"
     ],
     "language": "python",
     "metadata": {},
     "outputs": [
      {
       "output_type": "stream",
       "stream": "stdout",
       "text": [
        "Ratio of protective CTs on 33 kV side = 20 : 1/\u221a3 = 35 : 1 \n"
       ]
      }
     ],
     "prompt_number": 1
    },
    {
     "cell_type": "heading",
     "level": 2,
     "metadata": {},
     "source": [
      "Example 3.9.5, Page number 636-637"
     ]
    },
    {
     "cell_type": "code",
     "collapsed": false,
     "input": [
      "#Variable declaration\n",
      "kVA = 200.0          #Transformer rating(kVA)\n",
      "E_1 = 11000.0        #HV side voltage of transformer(kV)\n",
      "E_2 = 400.0          #LV side voltage of transformer(kV)\n",
      "ratio_CT = 500.0/5   #CT ratio on LV side of transformer\n",
      "I_f = 750.0          #Fault current(A)\n",
      "\n",
      "#Calculation\n",
      "I_2 = 500.0                   #Primary CT\n",
      "I_1 = 5.0                     #Secondary CT\n",
      "I_1_T = E_2*I_2/(3**0.5*E_1)  #Primary current in transformer(A)\n",
      "I_hv_T = I_1_T*3**0.5         #Equivalent line current on HV side(A)\n",
      "I_pilot_lv = I_1*3**0.5       #Pilot current on LV side(A)\n",
      "\n",
      "#Result\n",
      "print('CT ratios on high voltage side = %.2f : %.2f ' %(I_hv_T,I_pilot_lv))\n",
      "print('\\nNOTE: Circulating current is not calculated')"
     ],
     "language": "python",
     "metadata": {},
     "outputs": [
      {
       "output_type": "stream",
       "stream": "stdout",
       "text": [
        "CT ratios on high voltage side = 18.18 : 8.66 \n",
        "\n",
        "NOTE: Circulating current is not calculated\n"
       ]
      }
     ],
     "prompt_number": 1
    },
    {
     "cell_type": "heading",
     "level": 2,
     "metadata": {},
     "source": [
      "Example 3.9.6, Page number 640"
     ]
    },
    {
     "cell_type": "code",
     "collapsed": false,
     "input": [
      "#Variable declaration\n",
      "MVA = 50.0        #Transformer rating(MVA)\n",
      "V_hv = 132.0      #HV side voltage of transformer(kV)\n",
      "V_lv = 33.0       #LV side voltage of transformer(kV)\n",
      "CT_sec = 1.0      #Secondary CT rating\n",
      "\n",
      "#Calculation\n",
      "I_FL = MVA*1000/(3**0.5*V_lv)                       #Full-load current(A)\n",
      "CT_ratio_33kV = I_FL/CT_sec                         #CT ratio on 33 kV side\n",
      "CT_ratio_132kV = (I_FL*V_lv/V_hv)/(CT_sec/3**0.5)   #CT ratio on 132 kV side\n",
      "\n",
      "#Result\n",
      "print('CT ratio on 33 kV side = %.f : 1 ' %CT_ratio_33kV)\n",
      "print('CT ratio on 132 kV side = %.f : 1 = %.f\u221a3 : 1 ' %(CT_ratio_132kV,CT_ratio_132kV/3**0.5))"
     ],
     "language": "python",
     "metadata": {},
     "outputs": [
      {
       "output_type": "stream",
       "stream": "stdout",
       "text": [
        "CT ratio on 33 kV side = 875 : 1 \n",
        "CT ratio on 132 kV side = 379 : 1 = 219\u221a3 : 1 \n"
       ]
      }
     ],
     "prompt_number": 1
    }
   ],
   "metadata": {}
  }
 ]
}