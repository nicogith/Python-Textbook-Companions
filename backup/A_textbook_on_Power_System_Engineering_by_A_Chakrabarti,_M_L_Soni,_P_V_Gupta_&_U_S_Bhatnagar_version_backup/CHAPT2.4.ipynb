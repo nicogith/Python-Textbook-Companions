{
 "metadata": {
  "name": ""
 },
 "nbformat": 3,
 "nbformat_minor": 0,
 "worksheets": [
  {
   "cells": [
    {
     "cell_type": "heading",
     "level": 1,
     "metadata": {},
     "source": [
      "CHAPTER 2.4: OVERHEAD LINE INSULATORS"
     ]
    },
    {
     "cell_type": "heading",
     "level": 2,
     "metadata": {},
     "source": [
      "Example 2.4.1, Page number 183"
     ]
    },
    {
     "cell_type": "code",
     "collapsed": false,
     "input": [
      "#Variable declaration\n",
      "V_1 = 9.0       #Potential across top unit(kV)\n",
      "V_2 = 11.0      #Potential across middle unit(kV)\n",
      "n = 3.0         #Number of disc insulators\n",
      "\n",
      "#Calculation\n",
      "#Case(a)\n",
      "K = (V_2-V_1)/V_1         #Ratio of capacitance b/w pin & earth to self capacitance\n",
      "#Case(b)\n",
      "V_3 = V_2+(V_1+V_2)*K     #Potential across bottom unit(kV)\n",
      "V = V_1+V_2+V_3           #Voltage between line and earth(kV)\n",
      "V_l = 3**0.5*V            #Line voltage(kV)\n",
      "#Case(c)\n",
      "eff = V/(n*V_3)*100       #String efficiency(%)\n",
      "\n",
      "#Result\n",
      "print('Case(a): Ratio of capacitance b/w pin & earth to self-capacitance of each unit, K = %.2f ' %K)\n",
      "print('Case(b): Line voltage = %.2f kV' %V_l)\n",
      "print('Case(c): String efficiency = %.f percent' %eff)"
     ],
     "language": "python",
     "metadata": {},
     "outputs": [
      {
       "output_type": "stream",
       "stream": "stdout",
       "text": [
        "Case(a): Ratio of capacitance b/w pin & earth to self-capacitance of each unit, K = 0.22 \n",
        "Case(b): Line voltage = 61.39 kV\n",
        "Case(c): String efficiency = 76 percent\n"
       ]
      }
     ],
     "prompt_number": 1
    },
    {
     "cell_type": "heading",
     "level": 2,
     "metadata": {},
     "source": [
      "Example 2.4.2, Page number 183-184"
     ]
    },
    {
     "cell_type": "code",
     "collapsed": false,
     "input": [
      "from sympy import *\n",
      "\n",
      "#Variable declaration\n",
      "C = Symbol('C')\n",
      "m = 10.0              #Mutual capacitance of top insulator\n",
      "\n",
      "#Calculation\n",
      "X = 1*C+m*C                  #Mutual capacitance\n",
      "Y = (1.0+2)*C+m*C            #Mutual capacitance\n",
      "Z = (1.0+2+3)*C+m*C          #Mutual capacitance\n",
      "U = (1.0+2+3+4)*C+m*C        #Mutual capacitance\n",
      "V = (1.0+2+3+4+5)*C+m*C      #Mutual capacitance\n",
      "\n",
      "#Result\n",
      "print('Mutual capacitance of each unit:')\n",
      "print(' X = ' +repr(X)+'')\n",
      "print(' Y = ' +repr(Y)+'')\n",
      "print(' Z = ' +repr(Z)+'')\n",
      "print(' U = ' +repr(U)+'')\n",
      "print(' V = ' +repr(V)+'')"
     ],
     "language": "python",
     "metadata": {},
     "outputs": [
      {
       "output_type": "stream",
       "stream": "stdout",
       "text": [
        "Mutual capacitance of each unit:\n",
        " X = 11.0*C\n",
        " Y = 13.0*C\n",
        " Z = 16.0*C\n",
        " U = 20.0*C\n",
        " V = 25.0*C\n"
       ]
      }
     ],
     "prompt_number": 1
    },
    {
     "cell_type": "heading",
     "level": 2,
     "metadata": {},
     "source": [
      "Example 2.4.3, Page number 184"
     ]
    },
    {
     "cell_type": "code",
     "collapsed": false,
     "input": [
      "from sympy import *\n",
      "\n",
      "#Variable declaration\n",
      "V = Symbol('V')\n",
      "n = 3.0             #Number of insulators\n",
      "\n",
      "#Calculation\n",
      "V_1 = 155.0/475.0*V          #Potential across top unit\n",
      "V_2 = 154.0/155.0*V_1        #Potential across middle unit\n",
      "V_3 = 166.0/155.0*V_1        #Potential across bottom unit\n",
      "eff = V*100/(n*V_3)          #String efficiency(%)\n",
      "\n",
      "#Result\n",
      "print('Voltage across top unit, V_1 = ' +repr(V_1)+'')\n",
      "print('Voltage across middle unit, V_2 = ' +repr(V_2)+'')\n",
      "print('Voltage across bottom unit, V_3 = ' +repr(V_3)+'')\n",
      "print('String efficiency = %.2f percent' %eff)"
     ],
     "language": "python",
     "metadata": {},
     "outputs": [
      {
       "output_type": "stream",
       "stream": "stdout",
       "text": [
        "Voltage across top unit, V_1 = 0.326315789473684*V\n",
        "Voltage across middle unit, V_2 = 0.32421052631579*V\n",
        "Voltage across bottom unit, V_3 = 0.349473684210526*V\n",
        "String efficiency = 95.38 percent\n"
       ]
      }
     ],
     "prompt_number": 1
    },
    {
     "cell_type": "heading",
     "level": 2,
     "metadata": {},
     "source": [
      "Example 2.4.4, Page number 184-185"
     ]
    },
    {
     "cell_type": "code",
     "collapsed": false,
     "input": [
      "#Variable declaration\n",
      "V_3 = 17.5          #Voltage across line unit(kV)\n",
      "c = 1.0/8           #Shunt capacitance = 1/8 of insulator capacitance\n",
      "n = 3.0             #Number of insulators\n",
      "\n",
      "#Calculation\n",
      "K = c                       #String constant\n",
      "V_1 = V_3/(1+3*K+K**2)      #Voltage across top unit(kV)\n",
      "V_2 = (1+K)*V_1             #Voltage across middle unit(kV)\n",
      "V = V_1+V_2+V_3             #Voltage between line & earth(kV)\n",
      "eff = V*100/(n*V_3)         #String efficiency(%)\n",
      "\n",
      "#Result\n",
      "print('Line to neutral voltage, V = %.2f kV' %V)\n",
      "print('String efficiency = %.2f percent' %eff)"
     ],
     "language": "python",
     "metadata": {},
     "outputs": [
      {
       "output_type": "stream",
       "stream": "stdout",
       "text": [
        "Line to neutral voltage, V = 44.24 kV\n",
        "String efficiency = 84.27 percent\n"
       ]
      }
     ],
     "prompt_number": 1
    },
    {
     "cell_type": "heading",
     "level": 2,
     "metadata": {},
     "source": [
      "Example 2.4.5, Page number 185"
     ]
    },
    {
     "cell_type": "code",
     "collapsed": false,
     "input": [
      "#Variable declaration\n",
      "n = 8.0               #Number of insulators\n",
      "\n",
      "#Calculation\n",
      "A = 1.0/(n-1)         #Line to pin capacitance\n",
      "B = 2.0/(n-2)         #Line to pin capacitance\n",
      "C = 3.0/(n-3)         #Line to pin capacitance\n",
      "D = 4.0/(n-4)         #Line to pin capacitance\n",
      "E = 5.0/(n-5)         #Line to pin capacitance\n",
      "F = 6.0/(n-6)         #Line to pin capacitance\n",
      "G = 7.0/(n-7)         #Line to pin capacitance\n",
      "\n",
      "#Result\n",
      "print('Line-to-pin capacitance are:')\n",
      "print(' A = %.3f*C' %A)\n",
      "print(' B = %.3f*C' %B)\n",
      "print(' C = %.3f*C' %C)\n",
      "print(' D = %.3f*C' %D)\n",
      "print(' E = %.3f*C' %E)\n",
      "print(' F = %.3f*C' %F)\n",
      "print(' G = %.3f*C' %G)"
     ],
     "language": "python",
     "metadata": {},
     "outputs": [
      {
       "output_type": "stream",
       "stream": "stdout",
       "text": [
        "Line-to-pin capacitance are:\n",
        " A = 0.143*C\n",
        " B = 0.333*C\n",
        " C = 0.600*C\n",
        " D = 1.000*C\n",
        " E = 1.667*C\n",
        " F = 3.000*C\n",
        " G = 7.000*C\n"
       ]
      }
     ],
     "prompt_number": 1
    },
    {
     "cell_type": "heading",
     "level": 2,
     "metadata": {},
     "source": [
      "Example 2.4.6, Page number 186"
     ]
    },
    {
     "cell_type": "code",
     "collapsed": false,
     "input": [
      "#Variable declaration\n",
      "m = 6.0               #Mutual capacitance\n",
      "n = 5.0               #Number of insulators\n",
      "\n",
      "#Calculation\n",
      "E_4 = (1+(1/m))                                    #Voltage across 4th insulator as percent of E_5(%)\n",
      "E_3 = (1+(3/m)+(1/m**2))                           #Voltage across 3rd insulator as percent of E_5(%)\n",
      "E_2 = (1+(6/m)+(5/m**2)+(1/m**3))                  #Voltage across 2nd insulator as percent of E_5(%)\n",
      "E_1 = (1+(10/m)+(15/m**2)+(7/m**3)+(1/m**4))       #Voltage across 1st insulator as percent of E_5(%)\n",
      "E_5 = 100/(E_4+E_3+E_2+E_1+1)                      #Voltage across 5th insulator as percent of E_5(%)\n",
      "E4 = E_4*E_5                                       #Voltage across 4th insulator as percent of E_5(%)\n",
      "E3 = E_3*E_5                                       #Voltage across 3rd insulator as percent of E_5(%)\n",
      "E2 = E_2*E_5                                       #Voltage across 2nd insulator as percent of E_5(%)\n",
      "E1 = E_1*E_5                                       #Voltage across 1st insulator as percent of E_5(%)\n",
      "eff = 100/(n*E1/100)                               #String efficiency(%)\n",
      "\n",
      "#Result\n",
      "print('Voltage distribution as a percentage of voltage of conductor to earth are:')\n",
      "print(' E_1 = %.2f percent' %E1)\n",
      "print(' E_2 = %.2f percent' %E2)\n",
      "print(' E_3 = %.1f percent' %E3)\n",
      "print(' E_4 = %.1f percent' %E4)\n",
      "print(' E_5 = %.2f percent' %E_5)\n",
      "print('String efficiency = %.f percent' %eff)\n",
      "print('\\nNOTE: Changes in obtained answer from that of textbook is due to more precision')"
     ],
     "language": "python",
     "metadata": {},
     "outputs": [
      {
       "output_type": "stream",
       "stream": "stdout",
       "text": [
        "Voltage distribution as a percentage of voltage of conductor to earth are:\n",
        " E_1 = 34.80 percent\n",
        " E_2 = 23.94 percent\n",
        " E_3 = 17.1 percent\n",
        " E_4 = 13.0 percent\n",
        " E_5 = 11.17 percent\n",
        "String efficiency = 57 percent\n",
        "\n",
        "NOTE: Changes in obtained answer from that of textbook is due to more precision\n"
       ]
      }
     ],
     "prompt_number": 1
    },
    {
     "cell_type": "heading",
     "level": 2,
     "metadata": {},
     "source": [
      "Example 2.4.7, Page number 186-187"
     ]
    },
    {
     "cell_type": "code",
     "collapsed": false,
     "input": [
      "#Variable declaration\n",
      "n = 3.0              #Number of insulators\n",
      "C_1 = 0.2            #Capacitance in terms of C\n",
      "C_2 = 0.1            #Capacitance in terms of C\n",
      "\n",
      "#Calculation\n",
      "#Without guard ring\n",
      "e_2_a = 13.0/13.3                 #Potential across middle unit as top unit\n",
      "e_1_a = 8.3/6.5*e_2_a             #Potential across bottom unit\n",
      "E_a = 1+(1/(8.3/6.5))+(1/e_1_a)   #Voltage in terms of e_1\n",
      "eff_a = E_a/n*100                 #String efficiency(%)\n",
      "e1_a = 1/E_a                      #Voltage across bottom unit as a % of line voltage\n",
      "e2_a = 1/(8.3/6.5)*e1_a           #Voltage across middle unit as a % of line voltage\n",
      "e3_a = 1/e_1_a*e1_a               #Voltage across top unit as a % of line voltage\n",
      "#With guard ring\n",
      "e_2_b = 15.4/15.5                 #Potential across middle unit as top unit\n",
      "e_1_b = 8.3/7.7*e_2_b             #Potential across bottom unit\n",
      "E_b = 1+(1/(8.3/7.7))+(1/e_1_b)   #Voltage in terms of e_1\n",
      "eff_b = E_b/n*100                 #String efficiency(%)\n",
      "e1_b = 1/E_b                      #Voltage across bottom unit as a % of line voltage\n",
      "e2_b = 1/(8.3/7.7)*e1_b           #Voltage across middle unit as a % of line voltage\n",
      "e3_b = 1/e_1_b*e1_b               #Voltage across top unit as a % of line voltage\n",
      "\n",
      "#Result\n",
      "print('Without guard ring:')\n",
      "print(' Voltage across bottom unit, e_1 = %.2f*E' %e1_a)\n",
      "print(' Voltage across bottom unit, e_2 = %.2f*E' %e2_a)\n",
      "print(' Voltage across bottom unit, e_3 = %.2f*E' %e3_a)\n",
      "print('String efficiency = %.1f percent' %eff_a)\n",
      "print('\\nWith guard ring:')\n",
      "print(' Voltage across bottom unit, e_1 = %.2f*E' %e1_b)\n",
      "print(' Voltage across bottom unit, e_2 = %.2f*E' %e2_b)\n",
      "print(' Voltage across bottom unit, e_3 = %.3f*E' %e3_b)\n",
      "print('String efficiency = %.2f percent' %eff_b)"
     ],
     "language": "python",
     "metadata": {},
     "outputs": [
      {
       "output_type": "stream",
       "stream": "stdout",
       "text": [
        "Without guard ring:\n",
        " Voltage across bottom unit, e_1 = 0.39*E\n",
        " Voltage across bottom unit, e_2 = 0.30*E\n",
        " Voltage across bottom unit, e_3 = 0.31*E\n",
        "String efficiency = 86.1 percent\n",
        "\n",
        "With guard ring:\n",
        " Voltage across bottom unit, e_1 = 0.35*E\n",
        " Voltage across bottom unit, e_2 = 0.32*E\n",
        " Voltage across bottom unit, e_3 = 0.326*E\n",
        "String efficiency = 95.38 percent\n"
       ]
      }
     ],
     "prompt_number": 1
    },
    {
     "cell_type": "heading",
     "level": 2,
     "metadata": {},
     "source": [
      "Example 2.4.8, Page number 187-188"
     ]
    },
    {
     "cell_type": "code",
     "collapsed": false,
     "input": [
      "#Variable declaration\n",
      "n = 3.0              #Number of insulators\n",
      "\n",
      "#Calculation\n",
      "V_1 = 0.988                 #Voltage across top unit as middle unit\n",
      "V_3 = 1.362                 #Voltage across bottom unit as middle unit\n",
      "V_2 = 1/(V_1+1+V_3)         #Voltage across middle unit as % of line voltage to earth\n",
      "V1 = V_1*V_2*100            #Voltage across top unit as % of line voltage to earth\n",
      "V2 = V_2*100                #Voltage across middle unit as % of line voltage to earth\n",
      "V3 = V_3*V_2*100            #Voltage across bottom unit as % of line voltage to earth\n",
      "eff = 100/(n*V3/100)        #String efficiency(%)\n",
      "\n",
      "#Result\n",
      "print('Case(a): Voltage across top unit as a percentage of line voltage to earth, V_1 = %.2f percent' %V1)\n",
      "print('         Voltage across middle unit as a percentage of line voltage to earth, V_2 = %.2f percent' %V2)\n",
      "print('         Voltage across bottom unit as a percentage of line voltage to earth, V_3 = %.2f percent' %V3)\n",
      "print('Case(b): String efficiency = %.2f percent' %eff)"
     ],
     "language": "python",
     "metadata": {},
     "outputs": [
      {
       "output_type": "stream",
       "stream": "stdout",
       "text": [
        "Case(a): Voltage across top unit as a percentage of line voltage to earth, V_1 = 29.49 percent\n",
        "         Voltage across middle unit as a percentage of line voltage to earth, V_2 = 29.85 percent\n",
        "         Voltage across bottom unit as a percentage of line voltage to earth, V_3 = 40.66 percent\n",
        "Case(b): String efficiency = 81.99 percent\n"
       ]
      }
     ],
     "prompt_number": 1
    },
    {
     "cell_type": "heading",
     "level": 2,
     "metadata": {},
     "source": [
      "Example 2.4.9, Page number 188"
     ]
    },
    {
     "cell_type": "code",
     "collapsed": false,
     "input": [
      "#Variable declaration\n",
      "n = 3.0              #Number of insulators\n",
      "V = 20.0             #Voltage across each conductor(kV)\n",
      "c = 1.0/5            #Capacitance ratio\n",
      "\n",
      "#Calculation\n",
      "V_2 = 6.0/5.0            #Voltage across middle unit as top unit\n",
      "V_1 = V/(1+2*V_2)        #Voltage across top unit(kV)\n",
      "V_3 = V_2*V_1            #Voltage across bottom unit(kV)\n",
      "C_x = c*(1+(1/V_2))      #Capacitance required\n",
      "\n",
      "#Result\n",
      "print('Case(a): Voltage on the line-end unit, V_3 = %.2f kV' %V_3)\n",
      "print('Case(b): Value of capacitance required, Cx = %.3f*C' %C_x)"
     ],
     "language": "python",
     "metadata": {},
     "outputs": [
      {
       "output_type": "stream",
       "stream": "stdout",
       "text": [
        "Case(a): Voltage on the line-end unit, V_3 = 7.06 kV\n",
        "Case(b): Value of capacitance required, Cx = 0.367*C\n"
       ]
      }
     ],
     "prompt_number": 1
    }
   ],
   "metadata": {}
  }
 ]
}