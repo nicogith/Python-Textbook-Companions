{
 "metadata": {
  "name": ""
 },
 "nbformat": 3,
 "nbformat_minor": 0,
 "worksheets": [
  {
   "cells": [
    {
     "cell_type": "heading",
     "level": 1,
     "metadata": {},
     "source": [
      "CHAPTER 4.7: CONTROL OF MOTORS"
     ]
    },
    {
     "cell_type": "heading",
     "level": 2,
     "metadata": {},
     "source": [
      "Example 4.7.1, Page number 798"
     ]
    },
    {
     "cell_type": "code",
     "collapsed": false,
     "input": [
      "#Variable declaration\n",
      "no = 2.0         #Number of motors\n",
      "V_m = 48.0       #Uniform speed(kmph)\n",
      "t = 30.0         #Time(sec)\n",
      "F_t_m = 13350.0  #Average tractive effort per motor(N)\n",
      "\n",
      "#Calculation\n",
      "F_t = no*F_t_m                  #Average tractive effort(N)\n",
      "energy = t*F_t*V_m/(2*3600**2)  #Useful energy for acceleration(kWh)\n",
      "energy_loss = energy/no         #Approximate loss of energy in starting rheostats(kWh)\n",
      "\n",
      "#Result\n",
      "print('Approximate loss of energy in starting rheostats = %.3f kWh' %energy_loss)"
     ],
     "language": "python",
     "metadata": {},
     "outputs": [
      {
       "output_type": "stream",
       "stream": "stdout",
       "text": [
        "Approximate loss of energy in starting rheostats = 0.742 kWh\n"
       ]
      }
     ],
     "prompt_number": 1
    },
    {
     "cell_type": "heading",
     "level": 2,
     "metadata": {},
     "source": [
      "Example 4.7.2, Page number 798"
     ]
    },
    {
     "cell_type": "code",
     "collapsed": false,
     "input": [
      "#Variable declaration\n",
      "W = 175.0        #Weight of multiple unit train(tonnes)\n",
      "no = 6.0         #Number of motors\n",
      "F_t = 69000.0    #Total tractive effort(N)\n",
      "V = 600.0        #Line voltage(V)\n",
      "I = 200.0        #Average current(A)\n",
      "V_m = 38.6       #Speed(kmph)\n",
      "R = 0.15         #Resistance of each motor(ohm)\n",
      "\n",
      "#Calculation\n",
      "alpha = F_t/(277.8*W)                             #Acceleration(km phps)\n",
      "T = V_m/alpha                                     #Time for acceleration(sec)\n",
      "t_s = (V-2*I*R)*T/(2*(V-I*R))                     #Duration of starting period(sec)\n",
      "t_p = T-t_s                                       #(sec)\n",
      "energy_total_series = no/2*V*I*t_s                #Total energy supplied in series position(watt-sec)\n",
      "energy_total_parallel = no*V*I*t_p                #Total energy supplied in parallel position(watt-sec)\n",
      "total_energy = (energy_total_series+energy_total_parallel)/(1000*3600)         #Energy supplied during starting period(kWh)\n",
      "energy_waste_series = (no/2)/2*(V-2*I*R)*I*t_s    #Energy wasted in starting resistance in series position(watt-sec)\n",
      "energy_waste_parallel = no*(V/2)/2*I*t_p          #Energy wasted in starting resistance in parallel position(watt-sec)\n",
      "total_energy_waste = (energy_waste_series+energy_waste_parallel)/(1000*3600)   #Total energy wasted in starting resistance(kWh)\n",
      "energy_lost = (no*I**2*R*T)/(1000*3600)           #Energy lost in motor resistance(kWh)\n",
      "useful_energy = T*F_t*V_m/(2*3600**2)             #Useful energy supplied to train(kWh)\n",
      "\n",
      "#Result\n",
      "print('Energy supplied during the starting period = %.2f kWh' %total_energy)\n",
      "print('Energy lost in the starting resistance = %.1f kWh' %total_energy_waste)\n",
      "print('Useful energy supplied to the train = %.1f kWh' %useful_energy)"
     ],
     "language": "python",
     "metadata": {},
     "outputs": [
      {
       "output_type": "stream",
       "stream": "stdout",
       "text": [
        "Energy supplied during the starting period = 4.15 kWh\n",
        "Energy lost in the starting resistance = 1.3 kWh\n",
        "Useful energy supplied to the train = 2.8 kWh\n"
       ]
      }
     ],
     "prompt_number": 1
    },
    {
     "cell_type": "heading",
     "level": 2,
     "metadata": {},
     "source": [
      "Example 4.7.3, Page number 799"
     ]
    },
    {
     "cell_type": "code",
     "collapsed": false,
     "input": [
      "#Variable declaration\n",
      "W = 132.0          #Weight of electric train(tonnes)\n",
      "no = 4.0           #Number of motors\n",
      "V = 600.0          #Voltage of motor(V)\n",
      "I = 400.0          #Current per motor(A)\n",
      "F_t_m = 19270.0    #Tractive effort per motor at 400A & 600V(N)\n",
      "V_m = 39.0         #Train speed(kmph)\n",
      "G = 1.0            #Gradient\n",
      "r = 44.5           #Resistance to traction(N/tonne)\n",
      "inertia = 10.0     #Rotational inertia(%)\n",
      "R = 0.1            #Resistance of each motor(ohm)\n",
      "\n",
      "#Calculation\n",
      "W_e = W*(100+inertia)/100                              #Accelerating weight of train(tonne)\n",
      "F_t = F_t_m*no                                         #Total tractive effort at 400A & 600V(N)\n",
      "alpha = (F_t-W*r-98.1*W*G)/(277.8*W_e)                 #Acceleration(km phps)\n",
      "T = V_m/alpha                                          #Time for acceleration(sec)\n",
      "t_s = (V-2*I*R)*T/(2*(V-I*R))                          #Duration of starting period(sec)\n",
      "V_transition = alpha*t_s                               #Speed at transition(km phps)\n",
      "t_p = T-t_s                                            #(sec)\n",
      "loss_series = (no/2*((V-2*I*R)/2)*I*t_s)/(1000*3600)   #Energy lost during series period(kWh)\n",
      "loss_parallel = (no*(V/2)/2*I*t_p)/(1000*3600)         #Energy lost during parallel period(kWh)\n",
      "\n",
      "#Result\n",
      "print('Case(i)  : Duration of starting period, t_s = %.1f sec' %t_s)\n",
      "print('Case(ii) : Speed of train at transition, \u03b1t = %.1f sec' %V_transition)\n",
      "print('Case(iii): Case(a): Rheostatic losses during series starting = %.2f kWh' %loss_series)\n",
      "print('           Case(b): Rheostatic losses during parallel starting = %.2f kWh' %loss_parallel)\n",
      "print('\\nNOTE: ERROR: Calculation mistakes in the textbook solution')"
     ],
     "language": "python",
     "metadata": {},
     "outputs": [
      {
       "output_type": "stream",
       "stream": "stdout",
       "text": [
        "Case(i)  : Duration of starting period, t_s = 12.5 sec\n",
        "Case(ii) : Speed of train at transition, \u03b1t = 18.1 sec\n",
        "Case(iii): Case(a): Rheostatic losses during series starting = 0.72 kWh\n",
        "           Case(b): Rheostatic losses during parallel starting = 0.96 kWh\n",
        "\n",
        "NOTE: ERROR: Calculation mistakes in the textbook solution\n"
       ]
      }
     ],
     "prompt_number": 1
    }
   ],
   "metadata": {}
  }
 ]
}