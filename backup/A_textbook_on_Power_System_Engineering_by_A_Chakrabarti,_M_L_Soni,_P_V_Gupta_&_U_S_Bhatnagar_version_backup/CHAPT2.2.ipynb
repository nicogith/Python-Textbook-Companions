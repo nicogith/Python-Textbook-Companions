{
 "metadata": {
  "name": ""
 },
 "nbformat": 3,
 "nbformat_minor": 0,
 "worksheets": [
  {
   "cells": [
    {
     "cell_type": "heading",
     "level": 1,
     "metadata": {},
     "source": [
      "CHAPTER 2.2: CONSTANTS OF OVERHEAD TRANSMISSION LINES"
     ]
    },
    {
     "cell_type": "heading",
     "level": 2,
     "metadata": {},
     "source": [
      "Example 2.2.1, Page number 100"
     ]
    },
    {
     "cell_type": "code",
     "collapsed": false,
     "input": [
      "import math\n",
      "\n",
      "#Variable declaration\n",
      "D = 100.0           #Distance between conductors(cm)\n",
      "d = 1.25            #Diameter of conductor(cm)\n",
      "f = 50.0            #Frequency(Hz)\n",
      "\n",
      "#Calculation\n",
      "r_GMR = 0.7788*d/2.0                 #GMR of conductor(cm)\n",
      "L = 4.0*10**-4*math.log(D/r_GMR)     #Loop inductance(H/km)\n",
      "X_L = 2*math.pi*f*L                  #Reactance of transmission line(ohm)\n",
      "\n",
      "#Result\n",
      "print('Loop inductance of transmission line, L = %.2e H/km' %L)\n",
      "print('Reactance of transmission line, X_L = %.2f ohm' %X_L)"
     ],
     "language": "python",
     "metadata": {},
     "outputs": [
      {
       "output_type": "stream",
       "stream": "stdout",
       "text": [
        "Loop inductance of transmission line, L = 2.13e-03 H/km\n",
        "Reactance of transmission line, X_L = 0.67 ohm\n"
       ]
      }
     ],
     "prompt_number": 1
    },
    {
     "cell_type": "heading",
     "level": 2,
     "metadata": {},
     "source": [
      "Example 2.2.2, Page number 101"
     ]
    },
    {
     "cell_type": "code",
     "collapsed": false,
     "input": [
      "import math\n",
      "\n",
      "#Variable declaration\n",
      "l = 100.0           #Length of 3-phase transmission line(km)\n",
      "D = 120.0           #Distance between conductors(cm)\n",
      "d = 0.5             #Diameter of conductor(cm)\n",
      "\n",
      "#Calculation\n",
      "r_GMR = 0.7788*d/2.0                 #GMR of conductor(cm)\n",
      "L = 2.0*10**-4*math.log(D/r_GMR)     #Inductance per phase(H/km)\n",
      "L_l = L*l                            #Inductance per phase for 100km length(H)\n",
      "\n",
      "#Result\n",
      "print('Inductance per phase of the system, L = %.4f H' %L_l)\n",
      "print('\\nNOTE: ERROR: In textbook to calculate L, log10 is used instead of ln i.e natural logarithm. So, there is change in answer')"
     ],
     "language": "python",
     "metadata": {},
     "outputs": [
      {
       "output_type": "stream",
       "stream": "stdout",
       "text": [
        "Inductance per phase of the system, L = 0.1285 H\n",
        "\n",
        "NOTE: ERROR: In textbook to calculate L, log10 is used instead of ln i.e natural logarithm. So, there is change in answer\n"
       ]
      }
     ],
     "prompt_number": 1
    },
    {
     "cell_type": "heading",
     "level": 2,
     "metadata": {},
     "source": [
      "Example 2.2.3, Page number 101"
     ]
    },
    {
     "cell_type": "code",
     "collapsed": false,
     "input": [
      "import math\n",
      "\n",
      "#Variable declaration\n",
      "D = 135.0           #Spacing between conductors(cm)\n",
      "r = 0.8             #Radius of conductor(cm)\n",
      "\n",
      "#Calculation\n",
      "L = (1+4*math.log(D/r))*10**-7*1000.0     #Loop inductance per km(H)\n",
      "L_mH = L*1000.0                           #Loop inductance per km(mH)\n",
      "\n",
      "#Result\n",
      "print('Loop inductance of line per km, L = %.2f mH' %L_mH)"
     ],
     "language": "python",
     "metadata": {},
     "outputs": [
      {
       "output_type": "stream",
       "stream": "stdout",
       "text": [
        "Loop inductance of line per km, L = 2.15 mH\n"
       ]
      }
     ],
     "prompt_number": 1
    },
    {
     "cell_type": "heading",
     "level": 2,
     "metadata": {},
     "source": [
      "Example 2.2.4, Page number 101"
     ]
    },
    {
     "cell_type": "code",
     "collapsed": false,
     "input": [
      "import math\n",
      "\n",
      "#Variable declaration\n",
      "l = 80.0            #Length of 3-phase transmission line(km)\n",
      "D = 100.0           #Distance between conductors(cm)\n",
      "d = 1.0             #Diameter of conductor(cm)\n",
      "\n",
      "#Calculation\n",
      "r_GMR = 0.7788*d/2.0                 #GMR of conductor(cm)\n",
      "L = 2.0*10**-7*math.log(D/r_GMR)     #Inductance per phase(H/m)\n",
      "L_l = L*l*1000.0                     #Inductance per phase for 80km(H)\n",
      "\n",
      "#Result\n",
      "print('Inductance per phase of the system, L = %.4f H' %L_l)\n",
      "print('\\nNOTE: ERROR: Calculation mistake in textbook to find Inductance per phase of the system')"
     ],
     "language": "python",
     "metadata": {},
     "outputs": [
      {
       "output_type": "stream",
       "stream": "stdout",
       "text": [
        "Inductance per phase of the system, L = 0.0888 H\n",
        "\n",
        "NOTE: ERROR: Calculation mistake in textbook to find Inductance per phase of the system\n"
       ]
      }
     ],
     "prompt_number": 1
    },
    {
     "cell_type": "heading",
     "level": 2,
     "metadata": {},
     "source": [
      "Example 2.2.5, Page number 103-104"
     ]
    },
    {
     "cell_type": "code",
     "collapsed": false,
     "input": [
      "import math\n",
      "\n",
      "#Variable declaration\n",
      "D_a_b = 120.0            #Distance between conductors a & b(cm)\n",
      "D_a_bb = 140.0           #Distance between conductors a & b'(cm)\n",
      "D_aa_b = 100.0           #Distance between conductors a' & b(cm)\n",
      "D_aa_bb = 120.0          #Distance between conductors a' & b'(cm)\n",
      "D_a_aa = 20.0            #Distance between conductors a & a'(cm)\n",
      "d = 2.0                  #Diameter of conductor(cm)\n",
      "\n",
      "#Calculation\n",
      "D_m = (D_a_b*D_a_bb*D_aa_b*D_aa_bb)**(1.0/4)          #Mutual GMD(cm)\n",
      "D_a_a = 0.7788*d/2.0                                  #Self GMD of conductor a(cm)\n",
      "D_aa_aa = D_a_a                                       #Self GMD of conductor a'(cm)\n",
      "D_aa_a = D_a_aa                                       #Distance between conductors a' & a(cm)\n",
      "D_s = (D_a_a*D_a_aa*D_aa_aa*D_aa_a)**(1.0/4)          #Self GMD(cm)\n",
      "L = 4*10**-4*math.log(D_m/D_s)                        #Total inductance of the line(H/km)\n",
      "L_mH = L*1000.0                                       #Total inductance of the line(mH/km)\n",
      "\n",
      "#Result\n",
      "print('Total inductance of the line, L = %.2f mH/km' %L_mH)"
     ],
     "language": "python",
     "metadata": {},
     "outputs": [
      {
       "output_type": "stream",
       "stream": "stdout",
       "text": [
        "Total inductance of the line, L = 1.36 mH/km\n"
       ]
      }
     ],
     "prompt_number": 1
    },
    {
     "cell_type": "heading",
     "level": 2,
     "metadata": {},
     "source": [
      "Example 2.2.6, Page number 104"
     ]
    },
    {
     "cell_type": "code",
     "collapsed": false,
     "input": [
      "import math\n",
      "\n",
      "#Variable declaration\n",
      "D_a_b = 175.0            #Distance between conductors a & b(cm)\n",
      "D_a_aa = 90.0            #Distance between conductors a & a'(cm)\n",
      "d = 2.5                  #Diameter of conductor(cm)\n",
      "\n",
      "#Calculation\n",
      "GMR = 0.7788*d/2.0                                    #GMR(cm)\n",
      "D_a_a = GMR                                           #Self GMD of conductor a(cm)\n",
      "D_aa_aa = D_a_a                                       #Self GMD of conductor a'(cm)\n",
      "D_aa_a = 90.0                                         #Distance between conductors a' & a(cm)\n",
      "D_s = (D_a_a*D_a_aa*D_aa_aa*D_aa_a)**(1.0/4)          #Self GMD of conductor A = Self GMD of conductor B(cm)\n",
      "D_a_bb = (D_a_aa**2+D_a_b**2)**(1.0/2)                #Distance between conductors a & b'(cm)\n",
      "D_m = ((D_a_b*D_a_bb)**2)**(1.0/4)                    #Mutual GMD(cm)\n",
      "L = 4*10**-4*math.log(D_m/D_s)                        #Inductance of the line(H/km)\n",
      "\n",
      "#Result\n",
      "print('Inductance of the line, L = %.1e H/km' %L)"
     ],
     "language": "python",
     "metadata": {},
     "outputs": [
      {
       "output_type": "stream",
       "stream": "stdout",
       "text": [
        "Inductance of the line, L = 1.2e-03 H/km\n"
       ]
      }
     ],
     "prompt_number": 1
    },
    {
     "cell_type": "heading",
     "level": 2,
     "metadata": {},
     "source": [
      "Example 2.2.7, Page number 104"
     ]
    },
    {
     "cell_type": "code",
     "collapsed": false,
     "input": [
      "import math\n",
      "\n",
      "#Variable declaration\n",
      "D_a_a = 100.0            #Distance between conductors a & a(cm)\n",
      "D_a_b = 25.0             #Distance between conductors a & b(cm)\n",
      "d = 2.0                  #Diameter of conductor(cm)\n",
      "\n",
      "#Calculation\n",
      "r = d/2.0                                             #Conductor radius(cm)\n",
      "GMR = 0.7788*r                                        #GMR(cm)\n",
      "D_a_aa = GMR                                          #GMR of conductors a & a'(cm)\n",
      "D_aa_a = D_a_aa                                       #GMR of conductors a' & a(cm)\n",
      "D_aa_aa = D_a_a                                       #GMR of conductors a' & a'(cm)\n",
      "D_s = (D_a_a*D_a_aa*D_aa_aa*D_aa_a)**(1.0/4)          #Self GMD of conductor A = Self GMD of conductor B(cm)\n",
      "D_a_bb = (D_a_a**2+D_a_b**2)**(1.0/2)                 #Distance between conductors a & b'(cm)\n",
      "D_aa_b = D_a_bb                                       #Distance between conductors a' & b(cm)\n",
      "D_aa_bb = D_a_b                                       #Distance between conductors a' & b'(cm)\n",
      "D_m = (D_a_b*D_a_bb*D_aa_b*D_aa_bb)**(1.0/4)          #Mutual GMD(cm)\n",
      "L = 2*10**-7*math.log(D_m/D_s)                        #Inductance/conductor/mt(H)\n",
      "L_mH = 2.0*L*1000.0*1000.0                            #Loop inductance per km(mH)\n",
      "\n",
      "#Result\n",
      "print('Inductance per km of the double circuit line, L = %.1f mH' %L_mH)"
     ],
     "language": "python",
     "metadata": {},
     "outputs": [
      {
       "output_type": "stream",
       "stream": "stdout",
       "text": [
        "Inductance per km of the double circuit line, L = 0.7 mH\n"
       ]
      }
     ],
     "prompt_number": 1
    },
    {
     "cell_type": "heading",
     "level": 2,
     "metadata": {},
     "source": [
      "Example 2.2.8, Page number 104-105"
     ]
    },
    {
     "cell_type": "code",
     "collapsed": false,
     "input": [
      "#Variable declaration\n",
      "n = 7.0          #Number of strands\n",
      "r = 1.0          #Radius of each conductor. Assume it 1 for calculation purpose\n",
      "\n",
      "#Calculation\n",
      "D_1_2 = 2.0*r                                     #Distance between conductor 1 & 2\n",
      "D_1_6 = 2.0*r                                     #Distance between conductor 1 & 6\n",
      "D_1_7 = 2.0*r                                     #Distance between conductor 1 & 7\n",
      "D_3_4 = 2.0*r                                     #Distance between conductor 3 & 4\n",
      "D_1_4 = 4.0*r                                     #Distance between conductor 1 & 4\n",
      "D_1_3 = (D_1_4**2-D_3_4**2)**(1.0/2)              #Distance between conductor 1 & 3\n",
      "D_1_5 = D_1_3                                     #Distance between conductor 1 & 5\n",
      "GMR = 0.7788*r                                    #GMR\n",
      "n_o = n-1                                         #Number of outside strands\n",
      "D_s = (GMR**n*(D_1_2**2*D_1_3**2*D_1_4*D_1_7)**6*(2*r)**n_o)**(1.0/49)   #GMR\n",
      "overall_radius = 3*r                              #Overall conductor radius\n",
      "ratio = D_s/overall_radius                        #Ratio of GMR to overall conductor radius\n",
      "\n",
      "#Result\n",
      "print('Geometric mean radius of the conductor, D_s = %.3f*r' %D_s)\n",
      "print('Ratio of GMR to overall conductor radius = %.4f ' %ratio)"
     ],
     "language": "python",
     "metadata": {},
     "outputs": [
      {
       "output_type": "stream",
       "stream": "stdout",
       "text": [
        "Geometric mean radius of the conductor, D_s = 2.177*r\n",
        "Ratio of GMR to overall conductor radius = 0.7256 \n"
       ]
      }
     ],
     "prompt_number": 1
    },
    {
     "cell_type": "heading",
     "level": 2,
     "metadata": {},
     "source": [
      "Example 2.2.9, Page number 108-109"
     ]
    },
    {
     "cell_type": "code",
     "collapsed": false,
     "input": [
      "import math\n",
      "\n",
      "#Variable declaration\n",
      "d = 1.8                  #Diameter of conductor(cm)\n",
      "D_A_B = 4.0              #Distance between conductor A & B(cm)\n",
      "D_B_C = 9.0              #Distance between conductor B & C(cm)\n",
      "D_A_C = 6.0              #Distance between conductor A & C(cm)\n",
      "\n",
      "#Calculation\n",
      "D_eq = (D_A_B*D_B_C*D_A_C)**(1.0/3)      #Equivalent distance(cm)\n",
      "r_GMR = 0.7788*d/2.0                     #GMR(cm)\n",
      "L = 2*10**-4*math.log(D_eq/r_GMR)        #Inductance per phase(H/km)\n",
      "L_mH = L*1000.0                          #Inductance per phase(mH/km)\n",
      "\n",
      "#Result\n",
      "print('Inductance of the line per phase, L = %.3f mH/km' %L_mH)\n",
      "print('\\nNOTE: ERROR: Calculation mistake in the textbook')"
     ],
     "language": "python",
     "metadata": {},
     "outputs": [
      {
       "output_type": "stream",
       "stream": "stdout",
       "text": [
        "Inductance of the line per phase, L = 0.429 mH/km\n",
        "\n",
        "NOTE: ERROR: Calculation mistake in the textbook\n"
       ]
      }
     ],
     "prompt_number": 1
    },
    {
     "cell_type": "heading",
     "level": 2,
     "metadata": {},
     "source": [
      "Example 2.2.10, Page number 109"
     ]
    },
    {
     "cell_type": "code",
     "collapsed": false,
     "input": [
      "import math\n",
      "\n",
      "#Variable declaration\n",
      "d = 5.0                  #Diameter of conductor(cm)\n",
      "d_1 = 400.0              #Distance between conductor 1 & 2(cm)\n",
      "d_2 = 500.0              #Distance between conductor 2 & 3(cm)\n",
      "d_3 = 600.0              #Distance between conductor 1 & 3(cm)\n",
      "\n",
      "#Calculation\n",
      "D_eq = (d_1*d_2*d_3)**(1.0/3)                     #Equivalent distance(cm)\n",
      "r_GMR = 0.7788*d/2.0                              #GMR(cm)\n",
      "L = 0.2*math.log(D_eq/r_GMR)                      #Inductance per phase per km(mH)\n",
      "\n",
      "#Result\n",
      "print('Inductance per km of 3 phase transmission line, L = %.3f mH' %L)\n",
      "print('\\nNOTE: ERROR: Calculation mistake in the textbook')"
     ],
     "language": "python",
     "metadata": {},
     "outputs": [
      {
       "output_type": "stream",
       "stream": "stdout",
       "text": [
        "Inductance per km of 3 phase transmission line, L = 1.107 mH\n",
        "\n",
        "NOTE: ERROR: Calculation mistake in the textbook\n"
       ]
      }
     ],
     "prompt_number": 1
    },
    {
     "cell_type": "heading",
     "level": 2,
     "metadata": {},
     "source": [
      "Example 2.2.11, Page number 109"
     ]
    },
    {
     "cell_type": "code",
     "collapsed": false,
     "input": [
      "import math\n",
      "\n",
      "#Variable declaration\n",
      "d = 3.0                   #Diameter of conductor(cm)\n",
      "D_12 = 200.0              #Distance between conductor 1 & 2(cm)\n",
      "D_23 = 200.0              #Distance between conductor 2 & 3(cm)\n",
      "D_31 = 400.0              #Distance between conductor 1 & 3(cm)\n",
      "\n",
      "#Calculation\n",
      "D_eq = (D_12*D_23*D_31)**(1.0/3)              #Equivalent distance(cm)\n",
      "r = d/2.0                                     #Radius of conductor(cm)\n",
      "L = (0.5+2*math.log(D_eq/r))*10**-7           #Inductance/phase/m(H)\n",
      "L_mH = L*1000.0*1000.0                        #Inductance per phase per km(mH)\n",
      "\n",
      "#Result\n",
      "print('Inductance of each conductor per phase per km, L = %.3f mH' %L_mH)\n",
      "print('\\nNOTE: ERROR: Calculation mistake in the textbook')"
     ],
     "language": "python",
     "metadata": {},
     "outputs": [
      {
       "output_type": "stream",
       "stream": "stdout",
       "text": [
        "Inductance of each conductor per phase per km, L = 1.075 mH\n",
        "\n",
        "NOTE: ERROR: Calculation mistake in the textbook\n"
       ]
      }
     ],
     "prompt_number": 1
    },
    {
     "cell_type": "heading",
     "level": 2,
     "metadata": {},
     "source": [
      "Example 2.2.12, Page number 109-110"
     ]
    },
    {
     "cell_type": "code",
     "collapsed": false,
     "input": [
      "import math\n",
      "import cmath\n",
      "\n",
      "#Variable declaration\n",
      "d = 2.0                   #Diameter of conductor(cm)\n",
      "D_ab = 400.0              #Distance between conductor a & b(cm)\n",
      "D_bc = 400.0              #Distance between conductor b & c(cm)\n",
      "D_ca = 800.0              #Distance between conductor c & a(cm)\n",
      "\n",
      "#Calculation\n",
      "I_ab = 1.0*cmath.exp(1j*-240.0*math.pi/180)                                                 #I_a/I_b\n",
      "I_cb = 1.0*cmath.exp(1j*-120.0*math.pi/180)                                                 #I_c/I_b\n",
      "r_GMR = 0.7788*d/2.0                                                                        #GMR(cm)\n",
      "L_a = 2.0*10**-7*complex(math.log((D_ab*D_ca)**0.5/r_GMR),(3**0.5/2*math.log(D_ab/D_ca)))   #Inductance per phase of A(H/m)\n",
      "L_amH = L_a*10.0**6                                                                         #Inductance per phase of A(mH/km)\n",
      "L_b = 2.0*10**-7*complex(math.log((D_bc*D_ab)**0.5/r_GMR),(3**0.5/2*math.log(D_bc/D_ab)))   #Inductance per phase of B(H/m)\n",
      "L_bmH = L_b*10.0**6                                                                         #Inductance per phase of B(mH/km)\n",
      "L_c = 2.0*10**-7*complex(math.log((D_ca*D_bc)**0.5/r_GMR),(3**0.5/2*math.log(D_ca/D_bc)))   #Inductance per phase of C(H/m)\n",
      "L_cmH = L_c*10.0**6                                                                         #Inductance per phase of C(mH/km)\n",
      "D_eq = (D_ab*D_bc*D_ca)**(1.0/3)                                                            #Equivalent distance(cm)\n",
      "L_avg = 0.2*math.log(D_eq/r_GMR)                                                            #Average inductance per phase(mH/km)\n",
      "\n",
      "#Result\n",
      "print('Inductance of conductor a, L_a = (%.4f%.2fj) mH/km' %(L_amH.real,L_amH.imag))\n",
      "print('Inductance of conductor b, L_b = (%.4f+%.2fj) mH/km' %(L_bmH.real,L_bmH.imag))\n",
      "print('Inductance of conductor c, L_c = (%.4f+%.2fj) mH/km' %(L_cmH.real,L_cmH.imag))\n",
      "print('Average inductance of each phase, L_avg = %.3f mH/km' %L_avg)"
     ],
     "language": "python",
     "metadata": {},
     "outputs": [
      {
       "output_type": "stream",
       "stream": "stdout",
       "text": [
        "Inductance of conductor a, L_a = (1.3176-0.12j) mH/km\n",
        "Inductance of conductor b, L_b = (1.2483+0.00j) mH/km\n",
        "Inductance of conductor c, L_c = (1.3176+0.12j) mH/km\n",
        "Average inductance of each phase, L_avg = 1.295 mH/km\n"
       ]
      }
     ],
     "prompt_number": 1
    },
    {
     "cell_type": "heading",
     "level": 2,
     "metadata": {},
     "source": [
      "Example 2.2.13, Page number 110"
     ]
    },
    {
     "cell_type": "code",
     "collapsed": false,
     "input": [
      "import math\n",
      "\n",
      "#Variable declaration\n",
      "D_a_a = 0.9                   #Self GMD of conductor a(cm)\n",
      "D_a_aa = 40.0                 #Distance between conductor a & a'(cm)\n",
      "D_a_b = 1000.0                #Distance between conductor a & b(cm)\n",
      "D_a_bb = 1040.0               #Distance between conductor a & b'(cm)\n",
      "D_aa_b = 960.0                #Distance between conductor a' & b(cm)\n",
      "D_c_a = 2000.0                #Distance between conductor a & c(cm)\n",
      "D_c_aa = 1960.0               #Distance between conductor a' & c(cm)\n",
      "D_cc_a = 2040.0               #Distance between conductor a & c'(cm)\n",
      "\n",
      "#Calculation\n",
      "D_aa_aa = D_a_a                                   #Self GMD of conductor a'(cm)\n",
      "D_aa_a = D_a_aa                                   #Distance between conductor a' & a(cm)\n",
      "D_s1 = (D_a_a*D_a_aa*D_aa_aa*D_aa_a)**(1.0/4)     #Self GMD in position 1(cm)\n",
      "D_s2 = D_s1                                       #Self GMD in position 2(cm)\n",
      "D_s3 = D_s1                                       #Self GMD in position 3(cm)\n",
      "D_s = (D_s1*D_s2*D_s3)**(1.0/3)                   #Equivalent self GMD(cm)\n",
      "D_aa_bb = D_a_b                                   #Distance between conductor a' & b'(cm)\n",
      "D_AB = (D_a_b*D_a_bb*D_aa_b*D_aa_bb)**(1.0/4)     #Mutual GMD(cm)\n",
      "D_BC = D_AB                                       #Mutual GMD(cm)\n",
      "D_cc_aa = D_c_a                                   #Distance between conductor a' & c'(cm)\n",
      "D_CA = (D_c_a*D_c_aa*D_cc_a*D_cc_aa)**(1.0/4)     #Mutual GMD(cm)\n",
      "D_m = (D_AB*D_BC*D_CA)**(1.0/3)                   #Equivalent Mutual GMD(cm)\n",
      "L = 0.2*math.log(D_m/D_s)                         #Inductance per phase(mH/km)\n",
      "\n",
      "#Result\n",
      "print('Inductance per phase, L = %.3f mH/km' %L)"
     ],
     "language": "python",
     "metadata": {},
     "outputs": [
      {
       "output_type": "stream",
       "stream": "stdout",
       "text": [
        "Inductance per phase, L = 1.069 mH/km\n"
       ]
      }
     ],
     "prompt_number": 1
    },
    {
     "cell_type": "heading",
     "level": 2,
     "metadata": {},
     "source": [
      "Example 2.2.14, Page number 110-111"
     ]
    },
    {
     "cell_type": "code",
     "collapsed": false,
     "input": [
      "import math\n",
      "\n",
      "#Variable declaration\n",
      "r = 6.0/1000                #Radius of conductor(m)\n",
      "D_a_cc = 5.0                #Distance between conductor a & c'(m)\n",
      "D_b_bb = 6.0                #Distance between conductor b & b'(m)\n",
      "D_c_aa = 5.0                #Distance between conductor c & a'(m)\n",
      "D_acc_bbb = 3.0             #Distance between conductor ac' & bb'(m)\n",
      "D_bbb_caa = 3.0             #Distance between conductor bb' & ca'(m)\n",
      "D_a_c = 6.0                 #Distance between conductor a & c(m)\n",
      "\n",
      "#Calculation\n",
      "r_GMR = 0.7788*r                                                  #GMR of conductor(m)\n",
      "D_a_b = (D_acc_bbb**2+((D_b_bb-D_a_cc)/2)**2)**(1.0/2)            #Distance between conductor a & b(m)\n",
      "D_a_bb = (D_acc_bbb**2+(D_a_cc+(D_b_bb-D_a_cc)/2)**2)**(1.0/2)    #Distance between conductor a & b'(m)\n",
      "D_a_aa = ((D_acc_bbb+D_bbb_caa)**2+D_c_aa**2)**(1.0/2)            #Distance between conductor a & a'(m)\n",
      "D_a_a = r_GMR                                                     #Self GMD of conductor a(m)\n",
      "D_aa_aa = D_a_a                                                   #Self GMD of conductor a'(m)\n",
      "D_aa_a = D_a_aa                                                   #Distance between conductor a' & a(m)\n",
      "D_S1 = (D_a_a*D_a_aa*D_aa_aa*D_aa_a)**(1.0/4)                     #Self GMD in position 1(m)\n",
      "D_bb_b = D_b_bb                                                   #Distance between conductor b' & b(m)\n",
      "D_S2 = (D_a_a*D_b_bb*D_aa_aa*D_bb_b)**(1.0/4)                     #Self GMD in position 2(m)\n",
      "D_S3 = (D_a_a*D_a_aa*D_aa_aa*D_aa_a)**(1.0/4)                     #Self GMD in position 3(m)\n",
      "D_S = (D_S1*D_S2*D_S3)**(1.0/3)                                   #Equivalent self GMD(m)\n",
      "D_aa_bb = D_a_b                                                   #Distance between conductor a' & b'(m)\n",
      "D_aa_b = D_a_bb                                                   #Distance between conductor a' & b(m)\n",
      "D_AB = (D_a_b*D_a_bb*D_aa_b*D_aa_bb)**(1.0/4)                     #Mutual GMD(m)\n",
      "D_BC = D_AB                                                       #Mutual GMD(m)\n",
      "D_c_a = D_a_c                                                     #Distance between conductor c & a(m)\n",
      "D_cc_aa = D_c_a                                                   #Distance between conductor a' & c'(m)\n",
      "D_cc_a = D_a_cc                                                   #Distance between conductor c' & a(m)\n",
      "D_CA = (D_c_a*D_c_aa*D_cc_a*D_cc_aa)**(1.0/4)                     #Mutual GMD(m)\n",
      "D_m = (D_AB*D_BC*D_CA)**(1.0/3)                                   #Equivalent Mutual GMD(m)\n",
      "L = 0.2*math.log(D_m/D_S)                                         #Inductance per phase(mH/km)\n",
      "\n",
      "#Result\n",
      "print('Inductance per phase, L = %.2f mH/km' %L)"
     ],
     "language": "python",
     "metadata": {},
     "outputs": [
      {
       "output_type": "stream",
       "stream": "stdout",
       "text": [
        "Inductance per phase, L = 0.65 mH/km\n"
       ]
      }
     ],
     "prompt_number": 1
    },
    {
     "cell_type": "heading",
     "level": 2,
     "metadata": {},
     "source": [
      "Example 2.2.15, Page number 111"
     ]
    },
    {
     "cell_type": "code",
     "collapsed": false,
     "input": [
      "#Variable declaration\n",
      "D_eq = 2.88                     #Equilateral spacing of line(m)\n",
      "\n",
      "#Calculation\n",
      "D = D_eq/2**(1.0/3)             #Distance(m)\n",
      "D_13 = 2.0*D                    #Distance between conductor 1 & 3(m)\n",
      "D_12 = D                        #Distance between conductor 1 & 2(m)\n",
      "D_23 = D                        #Distance between conductor 2 & 3(m)\n",
      "\n",
      "#Result\n",
      "print('Spacing between conductor 1 & 2 to keep inductance same, D_12 = %.1f m' %D_12)\n",
      "print('Spacing between conductor 2 & 3 to keep inductance same, D_23 = %.1f m' %D_23)\n",
      "print('Spacing between conductor 1 & 3 to keep inductance same, D_13 = %.1f m' %D_13)"
     ],
     "language": "python",
     "metadata": {},
     "outputs": [
      {
       "output_type": "stream",
       "stream": "stdout",
       "text": [
        "Spacing between conductor 1 & 2 to keep inductance same, D_12 = 2.3 m\n",
        "Spacing between conductor 2 & 3 to keep inductance same, D_23 = 2.3 m\n",
        "Spacing between conductor 1 & 3 to keep inductance same, D_13 = 4.6 m\n"
       ]
      }
     ],
     "prompt_number": 1
    },
    {
     "cell_type": "heading",
     "level": 2,
     "metadata": {},
     "source": [
      "Example 2.2.16, Page number 112"
     ]
    },
    {
     "cell_type": "code",
     "collapsed": false,
     "input": [
      "import math\n",
      "\n",
      "#Variable declaration\n",
      "l = 40.0      #Length of line(km)\n",
      "d = 5.0/1000  #Diameter of wire(m)\n",
      "D = 1.5       #Spacing between conductor(m)\n",
      "h = 7.0       #Height of conductors above ground(m)\n",
      "\n",
      "#Calculation\n",
      "r = d/2                                                       #Radius of wire(m)\n",
      "e = 1.0/(36*math.pi)*10**-9                                   #Constant \u03b5_0\n",
      "#Neglecting presence of ground\n",
      "C_ab_1 = math.pi*e/(math.log(D/r))                            #Capacitance(F/m)\n",
      "C_ab_12 = C_ab_1*l*1000.0*10**6                               #Capacitance(\u03bcF)\n",
      "#Taking presence of ground\n",
      "C_ab_2 = math.pi*e/math.log(D/(r*(1+(D/(2*h))**2)**(1.0/2)))  #Capacitance(F/m)\n",
      "C_ab_22 = C_ab_2*l*1000.0*10**6                               #Capacitance(\u03bcF)\n",
      "\n",
      "#Result\n",
      "print('Capacitance of line neglecting presence of ground, C_ab = %.3f \u03bcF' %C_ab_12)\n",
      "print('Capacitance of line taking presence of ground, C_ab = %.3f \u03bcF' %C_ab_22)"
     ],
     "language": "python",
     "metadata": {},
     "outputs": [
      {
       "output_type": "stream",
       "stream": "stdout",
       "text": [
        "Capacitance of line neglecting presence of ground, C_ab = 0.174 \u03bcF\n",
        "Capacitance of line taking presence of ground, C_ab = 0.174 \u03bcF\n"
       ]
      }
     ],
     "prompt_number": 1
    },
    {
     "cell_type": "heading",
     "level": 2,
     "metadata": {},
     "source": [
      "Example 2.2.17, Page number 114-115"
     ]
    },
    {
     "cell_type": "code",
     "collapsed": false,
     "input": [
      "import math\n",
      "\n",
      "#Variable declaration\n",
      "d = 2.0/100    #Diameter of conductor(m)\n",
      "D_AB = 4.0     #Spacing between conductor A & B(m)\n",
      "D_BC = 4.0     #Spacing between conductor B & C(m)\n",
      "D_CA = 8.0     #Spacing between conductor C & A(m)\n",
      "\n",
      "#Calculation\n",
      "r = d/2                                                                     #Radius of conductor(m)\n",
      "D = 4.0                                                                     #Assuming coomon distance(m)\n",
      "e = 1.0/(36*math.pi)*10**-9                                                 #Constant \u03b5_0\n",
      "C_A = 2*math.pi*e/(math.log(D/r)-complex(-0.5,0.866)*math.log(2))*1000.0    #Capacitance of conductor A(F/km)\n",
      "C_Au = C_A*10.0**6                                                          #Capacitance of conductor A(\u03bcF/km)\n",
      "C_B = 2*math.pi*e/math.log(D/r)*1000.0                                      #Capacitance of conductor B(F/km)\n",
      "C_Bu = C_B*10.0**6                                                          #Capacitance of conductor B(\u03bcF/km)\n",
      "C_C = 2*math.pi*e/(math.log(D/r)-complex(-0.5,-0.866)*math.log(2))*1000.0   #Capacitance of conductor C(F/km)\n",
      "C_Cu = C_C*10.0**6                                                          #Capacitance of conductor C(\u03bcF/km)\n",
      "\n",
      "#Result\n",
      "print('Capacitance of conductor A, C_A = (%.5f+%.6fj) \u03bcF/km' %(C_Au.real,C_Au.imag))\n",
      "print('Capacitance of conductor B, C_B = %.6f \u03bcF/km' %C_Bu)\n",
      "print('Capacitance of conductor C, C_C = (%.5f%.6fj) \u03bcF/km' %(C_Cu.real,C_Cu.imag))"
     ],
     "language": "python",
     "metadata": {},
     "outputs": [
      {
       "output_type": "stream",
       "stream": "stdout",
       "text": [
        "Capacitance of conductor A, C_A = (0.00869+0.000823j) \u03bcF/km\n",
        "Capacitance of conductor B, C_B = 0.009272 \u03bcF/km\n",
        "Capacitance of conductor C, C_C = (0.00869-0.000823j) \u03bcF/km\n"
       ]
      }
     ],
     "prompt_number": 1
    },
    {
     "cell_type": "heading",
     "level": 2,
     "metadata": {},
     "source": [
      "Example 2.2.18, Page number 115"
     ]
    },
    {
     "cell_type": "code",
     "collapsed": false,
     "input": [
      "import math\n",
      "\n",
      "#Variable declaration\n",
      "d = 2.0/100    #Diameter of conductor(m)\n",
      "D_AB = 4.0     #Spacing between conductor A & B(m)\n",
      "D_BC = 4.0     #Spacing between conductor B & C(m)\n",
      "D_CA = 8.0     #Spacing between conductor C & A(m)\n",
      "\n",
      "#Calculation\n",
      "r = d/2                                              #Radius of conductor(m)\n",
      "e = 1.0/(36*math.pi)*10**-9                          #Constant \u03b5_0\n",
      "D_eq = (D_AB*D_BC*D_CA)**(1.0/3)                     #Equivalent distance(m)\n",
      "C_n = 2*math.pi*e/math.log(D_eq/r)*1000.0            #Capacitance to neutral(F/km)\n",
      "C_nu = C_n*10.0**6                                   #Capacitance to neutral(\u03bcF/km)\n",
      "\n",
      "#Result\n",
      "print('New value of capacitance, C_n = %.5f \u03bcF/km' %C_nu)\n",
      "print('\\nNOTE: Changes in the obtained answer from that of textbook is due to more approximation in the textbook')"
     ],
     "language": "python",
     "metadata": {},
     "outputs": [
      {
       "output_type": "stream",
       "stream": "stdout",
       "text": [
        "New value of capacitance, C_n = 0.00893 \u03bcF/km\n",
        "\n",
        "NOTE: Changes in the obtained answer from that of textbook is due to more approximation in the textbook\n"
       ]
      }
     ],
     "prompt_number": 1
    },
    {
     "cell_type": "heading",
     "level": 2,
     "metadata": {},
     "source": [
      "Example 2.2.19, Page number 115"
     ]
    },
    {
     "cell_type": "code",
     "collapsed": false,
     "input": [
      "import math\n",
      "\n",
      "#Variable declaration\n",
      "d = 2.6        #Outside diameter of conductor(cm)\n",
      "D_RY = 8.0     #Spacing between conductor R & Y(m)\n",
      "D_YB = 8.0     #Spacing between conductor Y & B(m)\n",
      "D_RB = 16.0    #Spacing between conductor R & B(m)\n",
      "h = 13.0       #Height of conductor from ground(m)\n",
      "\n",
      "#Calculation\n",
      "r = d/2                                                                  #Radius of conductor(m)\n",
      "e = 1.0/(36*math.pi)*10**-9                                              #Constant \u03b5_0\n",
      "h_12 = (D_RY**2+(2*h)**2)**(1.0/2)                                       #Height of conductor 1 & 2(m)\n",
      "h_23 = h_12                                                              #Height of conductor 2 & 3(m)\n",
      "h_31 = (D_RB**2+(2*h)**2)**(1.0/2)                                       #Height of conductor 3 & 1(m)\n",
      "h_1 = 2*h                                                                #Height of transposed conductor 1(m)\n",
      "h_2 = 2*h                                                                #Height of transposed conductor 2(m)\n",
      "h_3 = 2*h                                                                #Height of transposed conductor 3(m)\n",
      "D_eq = (D_RY*D_YB*D_RB)**(1.0/3)                                         #Equivalent distance(m)\n",
      "h_123 = (h_12*h_23*h_31)**(1.0/3)                                        #Height(m)\n",
      "h_1_2_3 = (h_1*h_2*h_3)**(1.0/3)                                         #Height(m)\n",
      "C_n = 2*math.pi*e/(math.log(D_eq*100/r)-math.log(h_123/h_1_2_3))*1000.0  #Capacitance of conductor A(F/km)\n",
      "\n",
      "#Result\n",
      "print('Capacitance per phase to neutral of a line, C_n = %.1e F/km' %C_n)"
     ],
     "language": "python",
     "metadata": {},
     "outputs": [
      {
       "output_type": "stream",
       "stream": "stdout",
       "text": [
        "Capacitance per phase to neutral of a line, C_n = 8.5e-09 F/km\n"
       ]
      }
     ],
     "prompt_number": 1
    },
    {
     "cell_type": "heading",
     "level": 2,
     "metadata": {},
     "source": [
      "Example 2.2.20, Page number 117-118"
     ]
    },
    {
     "cell_type": "code",
     "collapsed": false,
     "input": [
      "import math\n",
      "\n",
      "#Variable declaration\n",
      "d = 2.5        #Diameter of conductor(cm)\n",
      "D = 200.0      #Distance of separation(cm)\n",
      "l = 100.0      #Length of line(km)\n",
      "\n",
      "#Calculation\n",
      "r = d/2                                          #Radius of conductor(cm)\n",
      "e = 1.0/(36*math.pi)*10**-9                      #Constant \u03b5_0\n",
      "D_m = (D*(3**0.5)*D*(3**0.5)*D*D)**(1.0/4)       #Mutual GMD(cm)\n",
      "D_s = (2*D*r)**(1.0/2)                           #Self GMD(cm)\n",
      "C_n = 2*math.pi*e/math.log(D_m/D_s)*1000.0       #Phase-to-neutral capacitance(F/km)\n",
      "C_nu = C_n*l*10.0**6                             #Phase-to-neutral capacitance(\u03bcF)\n",
      "\n",
      "#Result\n",
      "print('Phase-to-neutral capacitance, C_n = %.2f \u03bcF' %C_nu)"
     ],
     "language": "python",
     "metadata": {},
     "outputs": [
      {
       "output_type": "stream",
       "stream": "stdout",
       "text": [
        "Phase-to-neutral capacitance, C_n = 2.25 \u03bcF\n"
       ]
      }
     ],
     "prompt_number": 1
    },
    {
     "cell_type": "heading",
     "level": 2,
     "metadata": {},
     "source": [
      "Example 2.2.21, Page number 118"
     ]
    },
    {
     "cell_type": "code",
     "collapsed": false,
     "input": [
      "import math\n",
      "\n",
      "#Variable declaration\n",
      "d = 2.5/100        #Diameter of conductor(m)\n",
      "D = 5.0            #Distance of separation(m)\n",
      "h = 2.0            #Height of separation(m)\n",
      "\n",
      "#Calculation\n",
      "r = d/2                                          #Radius of conductor(m)\n",
      "e = 1.0/(36*math.pi)*10**-9                      #Constant \u03b5_0\n",
      "m = (D**2+h**2)**(1.0/2)                         #(m)\n",
      "n = (D**2+(h*2)**2)**(1.0/2)                     #(m)\n",
      "D_ab = (D*m)**(1.0/2)                            #Distance between conductor a & b(m)\n",
      "D_bc = (D*m)**(1.0/2)                            #Distance between conductor b & c(m)\n",
      "D_ca = (2*D*h)**(1.0/2)                          #Distance between conductor c & a(m)\n",
      "D_eq = (D_ab*D_bc*D_ca)**(1.0/3)                 #Equivalent GMD(m)\n",
      "D_s1 = (r*n)**(1.0/2)                            #Self GMD in position 1(m)\n",
      "D_s2 = (r*h)**(1.0/2)                            #Self GMD in position 2(m)\n",
      "D_s3 = (r*n)**(1.0/2)                            #Self GMD in position 3(m)\n",
      "D_s = (D_s1*D_s2*D_s3)**(1.0/3)                  #Self GMD(m)\n",
      "C_n = 2*math.pi*e/math.log(D_eq/D_s)*1000.0      #Capacitance per phase to neutral(F/km)\n",
      "C_nu = C_n*10.0**6                               #Capacitance per phase to neutral(\u03bcF/km)\n",
      "\n",
      "#Result\n",
      "print('Capacitance per phase to neutral, C_n = %.2f \u03bcF' %C_nu)"
     ],
     "language": "python",
     "metadata": {},
     "outputs": [
      {
       "output_type": "stream",
       "stream": "stdout",
       "text": [
        "Capacitance per phase to neutral, C_n = 0.02 \u03bcF\n"
       ]
      }
     ],
     "prompt_number": 1
    },
    {
     "cell_type": "heading",
     "level": 2,
     "metadata": {},
     "source": [
      "Example 2.2.22, Page number 119"
     ]
    },
    {
     "cell_type": "code",
     "collapsed": false,
     "input": [
      "import math\n",
      "\n",
      "#Variable declaration\n",
      "d = 2.5/100        #Diameter of conductor(m)\n",
      "V = 132.0*10**3    #Line voltage(V)\n",
      "f = 50.0           #Frequency(Hz)\n",
      "h = 4.0            #Height(m)\n",
      "H = 8.0            #Height of separation(m)\n",
      "D_1_33 = 7.0       #Distance between conductors 1 & 3'(m)\n",
      "D_1_22 = 9.0       #Distance between conductors 1 & 2'(m)\n",
      "D_1_11 = 8.0       #Distance between conductors 1 & 1'(m)\n",
      "D_1 = 1.0          #Distance(m)\n",
      "\n",
      "#Calculation\n",
      "r = d/2                                          #Radius of conductor(m)\n",
      "e = 1.0/(36*math.pi)*10**-9                      #Constant \u03b5_0\n",
      "D_12 = (h**2+D_1**2)**(1.0/2)                    #Distance between conductors 1 & 2(m)\n",
      "D_122 = (h**2+D_1_11**2)**(1.0/2)                #Distance between conductors 1 & 2'(m)\n",
      "D_111 = (D_1_11**2+D_1_33**2)**(1.0/2)           #Distance between conductors 1 & 1'(m)\n",
      "D_1_2 = (D_12*D_122)**(1.0/2)                    #Mutual GMD(m)\n",
      "D_2_3 = (D_12*D_122)**(1.0/2)                    #Mutual GMD(m)\n",
      "D_3_1 = (D_1_33*D_1_11)**(1.0/2)                 #Mutual GMD(m)\n",
      "D_eq = (D_1_2*D_2_3*D_3_1)**(1.0/3)              #Equivalent GMD(m)\n",
      "D_s1 = (r*D_111)**(1.0/2)                        #Self GMD in position 1(m)\n",
      "D_s2 = (r*D_1_22)**(1.0/2)                       #Self GMD in position 2(m)\n",
      "D_s3 = (r*D_111)**(1.0/2)                        #Self GMD in position 3(m)\n",
      "D_s = (D_s1*D_s2*D_s3)**(1.0/3)                  #Self GMD(m)\n",
      "C_n = 2*math.pi*e/math.log(D_eq/D_s)             #Capacitance per phase to neutral(F/m)\n",
      "X_cn = 1/(2.0*math.pi*f*C_n)                     #Capacitive reactance to neutral(ohms/m)\n",
      "V_ph = V/(3**0.5)                                #Phase voltage(V)\n",
      "I_charg = V_ph/X_cn*1000.0                       #Charging current per phase(A/km)\n",
      "\n",
      "#Result\n",
      "print('Capacitive reactance to neutral, X_cn = %.2e ohms/m' %X_cn)\n",
      "print('Charging current per phase, I_charg = %.3f A/km' %I_charg)"
     ],
     "language": "python",
     "metadata": {},
     "outputs": [
      {
       "output_type": "stream",
       "stream": "stdout",
       "text": [
        "Capacitive reactance to neutral, X_cn = 1.67e+08 ohms/m\n",
        "Charging current per phase, I_charg = 0.457 A/km\n"
       ]
      }
     ],
     "prompt_number": 1
    },
    {
     "cell_type": "heading",
     "level": 2,
     "metadata": {},
     "source": [
      "Example 2.2.23, Page number 119"
     ]
    },
    {
     "cell_type": "code",
     "collapsed": false,
     "input": [
      "import math\n",
      "\n",
      "#Variable declaration\n",
      "d = 0.8/100        #Diameter of conductor(m)\n",
      "f = 50.0           #Frequency(Hz)\n",
      "D_a_b = 5.0        #Distance between conductors a & b(m)\n",
      "D_b_c = 5.0        #Distance between conductors b & c(m)\n",
      "D_c_a = 8.0        #Distance between conductors c & a(m)\n",
      "l = 25.0           #Length of line(km)\n",
      "\n",
      "#Calculation\n",
      "r = d/2                                          #Radius of conductor(m)\n",
      "e = 8.854*10**-12                                #Constant \u03b5_0\n",
      "D_e = (D_a_b*D_b_c*D_c_a)**(1.0/3)               #Equivalent GMD(m)\n",
      "L = 2*((1.0/4)+math.log(D_e/r))*10**-4           #Inductance(H/km)\n",
      "X_L = 2*math.pi*f*L                              #Inductive reactance per km(ohms)\n",
      "C = math.pi*e/math.log(D_e/r)                    #Capacitance(F/m)\n",
      "C_l = C*1000.0*l                                 #Capacitance for entire length(F)\n",
      "C_lu = C_l*10.0**6                               #Capacitance for entire length(\u03bcF)\n",
      "X_c = 1/(2.0*math.pi*f*C_l)                      #Capacitive reactance to neutral(ohm)\n",
      "X_ck = X_c/1000.0                                #Capacitive reactance to neutral(kilo-ohm)\n",
      "\n",
      "#Result\n",
      "print('Inductive reactance of the line per kilometer per phase, X_L = %.3f ohm' %X_L)\n",
      "print('Capacitance of the line, C = %.3f \u03bcF' %C_lu)\n",
      "print('Capacitive reactance of the line, X_c = %.1f kilo-ohm' %X_ck)\n",
      "print('\\nNOTE: ERROR: Change in obtained answer from that of textbook due to wrong substitution in finding Capacitance') "
     ],
     "language": "python",
     "metadata": {},
     "outputs": [
      {
       "output_type": "stream",
       "stream": "stdout",
       "text": [
        "Inductive reactance of the line per kilometer per phase, X_L = 0.474 ohm\n",
        "Capacitance of the line, C = 0.095 \u03bcF\n",
        "Capacitive reactance of the line, X_c = 33.4 kilo-ohm\n",
        "\n",
        "NOTE: ERROR: Change in obtained answer from that of textbook due to wrong substitution in finding Capacitance\n"
       ]
      }
     ],
     "prompt_number": 1
    },
    {
     "cell_type": "heading",
     "level": 2,
     "metadata": {},
     "source": [
      "Example 2.2.24, Page number 119-120"
     ]
    },
    {
     "cell_type": "code",
     "collapsed": false,
     "input": [
      "import math\n",
      "\n",
      "#Variable declaration\n",
      "V = 250.0          #Line voltage(V)\n",
      "f = 50.0           #Frequency(Hz)\n",
      "D = 1.5            #Distance of separation(m)\n",
      "d = 1.5/100        #Diameter of conductor(m)\n",
      "l = 50.0           #Length of line(km)\n",
      "\n",
      "#Calculation\n",
      "#Case(i)\n",
      "r = d/2                                          #Radius of conductor(m)\n",
      "e = 8.854*10**-12                                #Constant \u03b5_0\n",
      "C = math.pi*e/math.log(D/r)                      #Capacitance(F/m)\n",
      "C_l = C*1000.0*l                                 #Capacitance for entire length(F)\n",
      "C_lu = C_l*10.0**6                               #Capacitance for entire length(\u03bcF)\n",
      "#Case(ii)\n",
      "I_charg = 2.0*math.pi*f*C_l*V*1000.0             #Charging current(mA)\n",
      "\n",
      "#Result\n",
      "print('Case(i) : Capacitance of the line, C = %.3f \u03bcF' %C_lu)\n",
      "print('Case(ii): Charging current, I_charg = %.2f mA' %I_charg) "
     ],
     "language": "python",
     "metadata": {},
     "outputs": [
      {
       "output_type": "stream",
       "stream": "stdout",
       "text": [
        "Case(i) : Capacitance of the line, C = 0.262 \u03bcF\n",
        "Case(ii): Charging current, I_charg = 20.62 mA\n"
       ]
      }
     ],
     "prompt_number": 1
    },
    {
     "cell_type": "heading",
     "level": 2,
     "metadata": {},
     "source": [
      "Example 2.2.25, Page number 120"
     ]
    },
    {
     "cell_type": "code",
     "collapsed": false,
     "input": [
      "import math\n",
      "\n",
      "#Variable declaration\n",
      "d_1 = 6.0              #Distance between conductor 1 & 2(m)\n",
      "d_2 = 6.0              #Distance between conductor 2 & 3(m)\n",
      "d_3 = 12.0             #Distance between conductor 3 & 1(m)\n",
      "dia = 1.24/100         #Diameter of conductor(m)\n",
      "l = 100.0              #Length of line(km)\n",
      "\n",
      "#Calculation\n",
      "r = dia/2                                    #Radius of conductor(m)\n",
      "e = 8.854*10**-12                            #Constant \u03b5_0\n",
      "d = (d_1*d_2*d_3)**(1.0/3)                   #Distance(m)\n",
      "C = 2*math.pi*e/math.log(d/r)                #Capacitance(F/m)\n",
      "C_l = C*1000.0*l                             #Capacitance for entire length(F)\n",
      "C_lu = C_l*10.0**6                           #Capacitance for entire length(\u03bcF)\n",
      "\n",
      "#Result\n",
      "print('Capacitance of the line, C = %.3f \u03bcF' %C_lu)"
     ],
     "language": "python",
     "metadata": {},
     "outputs": [
      {
       "output_type": "stream",
       "stream": "stdout",
       "text": [
        "Capacitance of the line, C = 0.783 \u03bcF\n"
       ]
      }
     ],
     "prompt_number": 1
    },
    {
     "cell_type": "heading",
     "level": 2,
     "metadata": {},
     "source": [
      "Example 2.2.26, Page number 120"
     ]
    },
    {
     "cell_type": "code",
     "collapsed": false,
     "input": [
      "import math\n",
      "\n",
      "#Variable declaration\n",
      "d = 2.0                #Spacing between conductors(m)\n",
      "dia = 1.25/100         #Diameter of conductor(m)\n",
      "\n",
      "#Calculation\n",
      "r = dia/2                           #Radius of conductor(m)\n",
      "e = 8.854*10**-12                   #Constant \u03b5_0\n",
      "C = 2*math.pi*e/math.log(d/r)       #Capacitance(F/m)\n",
      "C_u = C*1000*10.0**6                #Capacitance for entire length(\u03bcF/km)\n",
      "\n",
      "#Result\n",
      "print('Capacitance of each line conductor, C = %.4f \u03bcF/km' %C_u)"
     ],
     "language": "python",
     "metadata": {},
     "outputs": [
      {
       "output_type": "stream",
       "stream": "stdout",
       "text": [
        "Capacitance of each line conductor, C = 0.0096 \u03bcF/km\n"
       ]
      }
     ],
     "prompt_number": 1
    }
   ],
   "metadata": {}
  }
 ]
}