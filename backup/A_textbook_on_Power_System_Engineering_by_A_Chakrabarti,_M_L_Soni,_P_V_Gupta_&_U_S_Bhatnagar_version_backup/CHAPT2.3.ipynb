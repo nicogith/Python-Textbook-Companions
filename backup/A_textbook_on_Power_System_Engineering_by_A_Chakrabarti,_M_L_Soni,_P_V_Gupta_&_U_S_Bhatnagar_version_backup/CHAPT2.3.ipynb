{
 "metadata": {
  "name": ""
 },
 "nbformat": 3,
 "nbformat_minor": 0,
 "worksheets": [
  {
   "cells": [
    {
     "cell_type": "heading",
     "level": 1,
     "metadata": {},
     "source": [
      "CHAPTER 2.3: STEADY STATE CHARACTERISTICS AND PERFORMANCE OF TRANSMISSION LINES"
     ]
    },
    {
     "cell_type": "heading",
     "level": 2,
     "metadata": {},
     "source": [
      "Example 2.3.1, Page number 127-128"
     ]
    },
    {
     "cell_type": "code",
     "collapsed": false,
     "input": [
      "#Variable declaration\n",
      "P = 2.0*10**6           #Power delivered(W)\n",
      "V_r = 33.0*10**3        #Receiving end voltage(V)\n",
      "PF_r = 0.8              #Receiving end lagging power factor\n",
      "R = 10.0                #Total resistance of the line(ohm)\n",
      "X = 18.0                #Total inductive resistance of the line(ohm)\n",
      "\n",
      "#Calculation\n",
      "#Case(i)\n",
      "I = P/(V_r*PF_r)                     #Line current(A)\n",
      "sin_phi_r = (1-PF_r**2)**0.5         #Sin\u03c6_R\n",
      "V_s = V_r+I*R*PF_r+I*X*sin_phi_r     #Sending end voltage(V)\n",
      "reg = (V_s-V_r)/V_r*100              #Voltage regulation(%)\n",
      "#Case(ii)\n",
      "PF_s  = (V_r*PF_r+I*R)/V_s           #Sending end lagging power factor\n",
      "#Case(iii)\n",
      "loss = I**2*R                        #Losses(W)\n",
      "P_s = P+loss                         #Sending end power(W)\n",
      "n = P/P_s*100                        #Transmission efficiency(%)\n",
      "\n",
      "#Result\n",
      "print('Case(i)  : Percentage voltage regulation = %.3f percent' %reg)\n",
      "print('Case(ii) : Sending end power factor = %.2f (lag)' %PF_s)\n",
      "print('Case(iii): Transmission efficiency, \u03b7 = %.2f percent' %n)\n",
      "print('\\nNOTE: ERROR: pf is 0.8 and not 0.9 as mentioned in the textbook problem statement')"
     ],
     "language": "python",
     "metadata": {},
     "outputs": [
      {
       "output_type": "stream",
       "stream": "stdout",
       "text": [
        "Case(i)  : Percentage voltage regulation = 4.316 percent\n",
        "Case(ii) : Sending end power factor = 0.79 (lag)\n",
        "Case(iii): Transmission efficiency, \u03b7 = 97.21 percent\n",
        "\n",
        "NOTE: ERROR: pf is 0.8 and not 0.9 as mentioned in the textbook problem statement\n"
       ]
      }
     ],
     "prompt_number": 1
    },
    {
     "cell_type": "heading",
     "level": 2,
     "metadata": {},
     "source": [
      "Example 2.3.2, Page number 128-129"
     ]
    },
    {
     "cell_type": "code",
     "collapsed": false,
     "input": [
      "#Variable declaration\n",
      "l = 10.0                 #Length(km)\n",
      "V_s = 11.0*10**3         #Sending end voltage(V)\n",
      "P = 1000.0*10**3         #Load delivered at receiving end(W)\n",
      "PF_r = 0.8               #Receiving end lagging power factor\n",
      "r = 0.5                  #Resistance of each conductor(ohm/km)\n",
      "x = 0.56                 #Reactance of each conductor(ohm/km)\n",
      "\n",
      "#Calculation\n",
      "#Case(a)\n",
      "R = r*l                             #Resistance per phase(ohm)\n",
      "X = x*l                             #Reactance per phase(ohm)\n",
      "E_s = V_s/3**0.5                    #Phase voltage(V)\n",
      "I = P/(3**0.5*V_s*PF_r)             #Line current(A)\n",
      "#Case(b)\n",
      "sin_phi_r = (1-PF_r**2)**0.5        #Sin\u03c6_R\n",
      "E_r = E_s-I*R*PF_r-I*X*sin_phi_r    #Receiving end voltage(V)\n",
      "E_r_ll = 3**0.5*E_r/1000            #Receiving end line to line voltage(kV)\n",
      "#Case(c)\n",
      "loss = 3*I**2*R                     #Loss in the transmission line(W)\n",
      "P_s = P+loss                        #Sending end power(W)\n",
      "n = P/P_s*100                       #Transmission efficiency(%)\n",
      "#Alternate method\n",
      "Z = R**2+X**2\n",
      "P_A = 1.0/3*P                       #Load delivered(W/phase)\n",
      "Q = 1.0*P*sin_phi_r/(3*PF_r)        #Reactive load delivered(VAR/phase)\n",
      "A = (V_s**2/3.0)-2*(P_A*R+Q*X)      #Constant\n",
      "B = (1/9.0)*P**2*Z/PF_r**2          #Constant\n",
      "const = (A**2-4*B)**0.5             #sqrt(A^2-4B)\n",
      "E_r_A = ((A+const)/2)**0.5/1000.0   #Receiving end voltage(kV/phase)\n",
      "E_r_A_ll = 3**0.5*E_r_A             #Receiving end line-line voltage(kV)\n",
      "I_A = P/(3**0.5*E_r_A_ll*1000*PF_r) #Line current(A)\n",
      "loss_A = 3*I_A**2*R                 #Loss in the transmission line(W)\n",
      "P_s_A = P+loss_A                    #Sending end power(W)\n",
      "n_A = P/P_s_A*100                   #Transmission efficiency(%)\n",
      "\n",
      "#Result\n",
      "print('Case(a): Line current, |I| = %.1f A' %I)\n",
      "print('Case(b): Receiving end voltage, E_r = %.f V (line-to-neutral) = %.2f kV (line-to-line)' %(E_r,E_r_ll))\n",
      "print('Case(c): Efficiency of transmission = %.2f percent' %n)\n",
      "print('\\nAlternative solution by mixed condition:')\n",
      "print('Case(a): Line current, |I| = %.1f A' %I_A)\n",
      "print('Case(b): Receiving end voltage, E_r = %.3f kV/phase = %.2f kV (line-line)' %(E_r_A,E_r_A_ll))\n",
      "print('Case(c): Efficiency of transmission = %.2f percent' %n_A)"
     ],
     "language": "python",
     "metadata": {},
     "outputs": [
      {
       "output_type": "stream",
       "stream": "stdout",
       "text": [
        "Case(a): Line current, |I| = 65.6 A\n",
        "Case(b): Receiving end voltage, E_r = 5868 V (line-to-neutral) = 10.16 kV (line-to-line)\n",
        "Case(c): Efficiency of transmission = 93.93 percent\n",
        "\n",
        "Alternative solution by mixed condition:\n",
        "Case(a): Line current, |I| = 71.6 A\n",
        "Case(b): Receiving end voltage, E_r = 5.823 kV/phase = 10.09 kV (line-line)\n",
        "Case(c): Efficiency of transmission = 92.87 percent\n"
       ]
      }
     ],
     "prompt_number": 1
    },
    {
     "cell_type": "heading",
     "level": 2,
     "metadata": {},
     "source": [
      "Example 2.3.3, Page number 129"
     ]
    },
    {
     "cell_type": "code",
     "collapsed": false,
     "input": [
      "#Variable declaration\n",
      "I = 200.0               #Line current(A)\n",
      "PF_r = 0.8              #Receiving end lagging power factor\n",
      "R = 0.6                 #Total resistance of the line(ohm)\n",
      "X = 1.0                 #Total inductive resistance of the line(ohm)\n",
      "n  = 0.93               #Efficiency(%)\n",
      "\n",
      "#Calculation\n",
      "V_r = 3*I**2*R/((3*I*PF_r/n)-3*I*PF_r)   #Receiving end phase voltage(V)\n",
      "sin_phi_r = (1-PF_r**2)**0.5             #Sin\u03c6_R\n",
      "V_s = V_r+I*R*PF_r+I*X*sin_phi_r         #Sending end voltage(V)\n",
      "V_s_ll = 3**0.5*V_s                      #Sending end line voltage(V)\n",
      "\n",
      "#Result\n",
      "print('Sending end voltage, V_s(line-line)  = %.2f V' %V_s_ll)"
     ],
     "language": "python",
     "metadata": {},
     "outputs": [
      {
       "output_type": "stream",
       "stream": "stdout",
       "text": [
        "Sending end voltage, V_s(line-line)  = 3825.85 V\n"
       ]
      }
     ],
     "prompt_number": 1
    },
    {
     "cell_type": "heading",
     "level": 2,
     "metadata": {},
     "source": [
      "Example 2.3.4, Page number 129"
     ]
    },
    {
     "cell_type": "code",
     "collapsed": false,
     "input": [
      "#Variable declaration\n",
      "P = 15.0*10**6            #Load delivered at receiving end(W)\n",
      "PF_r = 0.85               #Receiving end lagging power factor\n",
      "r = 0.905                 #Resistance of each conductor(ohm/km)\n",
      "V_r = 132.0*10**3         #Receiving end voltage(V)\n",
      "loss_per = 7.5/100        #Loss\n",
      "\n",
      "#Calculation\n",
      "loss = loss_per*P             #Losses in line(W)\n",
      "I = P/(3**0.5*V_r*PF_r)       #Line current(A)\n",
      "l = loss/(3*I**2*r)           #Length of line(km)\n",
      "\n",
      "#Result\n",
      "print('Distance over which load is delivered, l = %.2f km' %l)"
     ],
     "language": "python",
     "metadata": {},
     "outputs": [
      {
       "output_type": "stream",
       "stream": "stdout",
       "text": [
        "Distance over which load is delivered, l = 69.55 km\n"
       ]
      }
     ],
     "prompt_number": 1
    },
    {
     "cell_type": "heading",
     "level": 2,
     "metadata": {},
     "source": [
      "Example 2.3.5, Page number 130"
     ]
    },
    {
     "cell_type": "code",
     "collapsed": false,
     "input": [
      "import math\n",
      "\n",
      "#Variable declaration\n",
      "f = 50.0                 #Frequency(Hz)\n",
      "l = 20.0                 #Length(km)\n",
      "P = 5.0*10**6            #Load delivered at receiving end(W)\n",
      "PF_r = 0.8               #Receiving end lagging power factor\n",
      "r = 0.02                 #Resistance of each conductor(ohm/km)\n",
      "L = 0.65*10**-3          #Inductance of each conductor(H/km)\n",
      "E_r = 10.0*10**3         #Receiving end voltage(V)\n",
      "\n",
      "#Calculation\n",
      "R = r*l                                     #Resistance per phase(ohm)\n",
      "X = 2*math.pi*f*L*l                         #Reactance per phase(ohm)\n",
      "#Case(a)\n",
      "I = P/(E_r*PF_r)                            #Line current(A)\n",
      "sin_phi_r = (1-PF_r**2)**0.5                #Sin\u03c6_R\n",
      "E_s = E_r+I*R*PF_r+I*X*sin_phi_r            #Sending end voltage(V)\n",
      "E_s_kV = E_s/1000.0                         #Sending end voltage(kV)\n",
      "reg = (E_s-E_r)/E_r*100                     #Voltage regulation(%)\n",
      "#Case(b)\n",
      "reg_new = reg/2                             #New regulation(%)\n",
      "E_s_new = (reg_new/100)*E_r+E_r             #New value of sending end voltage(V)\n",
      "tan_phi_r1 = ((E_s_new-E_r)*(E_r/P)-R)/X    #tan\u03c6_r1\n",
      "phi_r1 = math.atan(tan_phi_r1)              #\u03c6_r1(radians)\n",
      "phi_r1d = phi_r1*180/math.pi                #\u03c6_r1(degree)\n",
      "PF_r1 = math.cos(phi_r1)                    #Lagging power factor of receiving end\n",
      "sin_phi_r1 = (1-PF_r1**2)**0.5              #Sin\u03c6_r1\n",
      "I_R_new = P/(E_r*PF_r1)                     #New line current(A)\n",
      "I_R = I_R_new*complex(PF_r1,-sin_phi_r1)\n",
      "I_c = I_R-I*complex(PF_r,-sin_phi_r)        #Capacitive current(A)\n",
      "I_C = I_c.imag                              #Imaginary part of Capacitive current(A)\n",
      "c = I_C/(2*math.pi*f*E_r)*10.0**6           #Capacitance(\u00b5F)\n",
      "#Case(c)\n",
      "loss_1 = I**2*R                             #Loss(W)\n",
      "n_1 = P/(P+loss_1)*100                      #Transmission efficiency(%)\n",
      "loss_2 = I_R_new**2*R                       #Loss(W)\n",
      "n_2 = P/(P+loss_2)*100                      #Transmission efficiency(%)\n",
      "\n",
      "#Result\n",
      "print('Case(a): Sending end voltage, E_s = %.2f kV' %E_s_kV)\n",
      "print('         Voltage regulation of the line = %.1f percent' %reg)\n",
      "print('Case(b): Value of capacitors to be placed in parallel with load, c = %.2f \u00b5F' %c)\n",
      "print('Case(c): Transmission efficiency in part(a), \u03b7_1 = %.2f percent' %n_1)\n",
      "print('         Transmission efficiency in part(b), \u03b7_2 = %.1f percent' %n_2)"
     ],
     "language": "python",
     "metadata": {},
     "outputs": [
      {
       "output_type": "stream",
       "stream": "stdout",
       "text": [
        "Case(a): Sending end voltage, E_s = 11.73 kV\n",
        "         Voltage regulation of the line = 17.3 percent\n",
        "Case(b): Value of capacitors to be placed in parallel with load, c = 67.48 \u00b5F\n",
        "Case(c): Transmission efficiency in part(a), \u03b7_1 = 96.97 percent\n",
        "         Transmission efficiency in part(b), \u03b7_2 = 97.8 percent\n"
       ]
      }
     ],
     "prompt_number": 1
    },
    {
     "cell_type": "heading",
     "level": 2,
     "metadata": {},
     "source": [
      "Example 2.3.6, Page number 130-131"
     ]
    },
    {
     "cell_type": "code",
     "collapsed": false,
     "input": [
      "import math\n",
      "import cmath\n",
      "\n",
      "#Variable declaration\n",
      "f = 50.0                                             #Frequency(Hz)\n",
      "l = 10.0                                             #Line length(km)\n",
      "Z_l = 0.5*cmath.exp(1j*60.0*math.pi/180)             #Load impedance(ohm/km)\n",
      "P = 316.8*10**3                                      #Load side power(W)\n",
      "PF_r = 0.8                                           #Load side power factor\n",
      "E_r = 3.3*10**3                                      #Load bus voltage(V)\n",
      "\n",
      "#Calculation\n",
      "Z_line = Z_l*l                                       #Load impedance(ohm)\n",
      "I_r = P/(E_r*PF_r)*cmath.exp(1j*-math.acos(PF_r))    #Line current(A)\n",
      "sin_phi_r = (1-PF_r**2)**0.5                         #Sin\u03c6_R\n",
      "E_s = E_r+I_r*Z_line                                 #Sending end voltage(V)\n",
      "reg = (abs(E_s)-abs(E_r))/abs(E_r)*100               #Voltage regulation(%)\n",
      "R = Z_line.real                                      #Resistance of the load line(ohm)\n",
      "loss = abs(I_r)**2*R                                 #Loss in the transmission line(W)\n",
      "loss_kW = loss/1000.0                                #Loss in the transmission line(kW)\n",
      "P_s = P+loss                                         #Sending end power(W)\n",
      "angle_Er_Es = cmath.phase(E_s)*180/math.pi           #Angle between V_r and V_s(\u00b0)\n",
      "angle_Er_Ir = math.acos(PF_r)*180/math.pi            #Angle between V_r and I_r(\u00b0)\n",
      "angle_Es_Is = angle_Er_Es+angle_Er_Ir                #Angle between V_s and I_s(\u00b0)\n",
      "PF_s = math.cos(angle_Es_Is*math.pi/180)             #Sending end power factor\n",
      "\n",
      "#Result\n",
      "print('Voltage regulation = %.2f percent' %reg)\n",
      "print('Sending end voltage, E_s = %.f\u2220%.1f\u00b0 V' %(abs(E_s),cmath.phase(E_s)*180/math.pi))\n",
      "print('Line loss = %.f kW' %loss_kW)\n",
      "print('Sending end power factor = %.2f ' %PF_s)"
     ],
     "language": "python",
     "metadata": {},
     "outputs": [
      {
       "output_type": "stream",
       "stream": "stdout",
       "text": [
        "Voltage regulation = 16.94 percent\n",
        "Sending end voltage, E_s = 3859\u22203.5\u00b0 V\n",
        "Line loss = 36 kW\n",
        "Sending end power factor = 0.76 \n"
       ]
      }
     ],
     "prompt_number": 1
    },
    {
     "cell_type": "heading",
     "level": 2,
     "metadata": {},
     "source": [
      "Example 2.3.7, Page number 132-133"
     ]
    },
    {
     "cell_type": "code",
     "collapsed": false,
     "input": [
      "import math\n",
      "import cmath\n",
      "\n",
      "#Variable declaration\n",
      "V_s = 66.0                    #Voltage(kV)\n",
      "f = 50.0                      #Frequency(Hz)\n",
      "l = 150.0                     #Line length(km)\n",
      "r = 0.25                      #Resistance of each conductor(ohm/km)\n",
      "x = 0.5                       #Inductive reactance of each conductor(ohm/km)\n",
      "y = 0.04*10**-4               #Capacitive admittance(s/km)\n",
      "\n",
      "#Calculation\n",
      "#Case(a)\n",
      "R = r*l                                          #Total resistance(ohm)\n",
      "X = x*l                                          #Inductive reactance(ohm)\n",
      "Y = y*l                                          #Capacitive resistance(s)\n",
      "Y_2 = Y/2                                        #1/2 of Capacitive resistance(s)\n",
      "#Case(b)\n",
      "Z = complex(R,X)                                 #Total impedance(ohm)\n",
      "A = 1+(Y*cmath.exp(1j*90.0*math.pi/180)*Z/2)     #Line constant\n",
      "V_R_noload = V_s/abs(A)                          #Receiving end voltage at no-load(kV)\n",
      "\n",
      "#Result\n",
      "print('Case(a): Total resistance, R = %.1f ohm' %R)\n",
      "print('         Inductive reactance, X = %.1f ohm' %X)\n",
      "print('         Capacitive resistance, Y = %.1e s' %Y)\n",
      "print('         Capacitive resistance, Y/2 = %.1e s' %Y_2)\n",
      "print('Case(b): Receiving end voltage at no-load, V_R = %.2f kV' %V_R_noload)"
     ],
     "language": "python",
     "metadata": {},
     "outputs": [
      {
       "output_type": "stream",
       "stream": "stdout",
       "text": [
        "Case(a): Total resistance, R = 37.5 ohm\n",
        "         Inductive reactance, X = 75.0 ohm\n",
        "         Capacitive resistance, Y = 6.0e-04 s\n",
        "         Capacitive resistance, Y/2 = 3.0e-04 s\n",
        "Case(b): Receiving end voltage at no-load, V_R = 67.51 kV\n"
       ]
      }
     ],
     "prompt_number": 1
    },
    {
     "cell_type": "heading",
     "level": 2,
     "metadata": {},
     "source": [
      "Example 2.3.8, Page number 133-134"
     ]
    },
    {
     "cell_type": "code",
     "collapsed": false,
     "input": [
      "import math\n",
      "import cmath\n",
      "\n",
      "#Variable declaration\n",
      "f = 50.0                      #Frequency(Hz)\n",
      "V_r = 132.0*10**3             #Line voltage at receiving end(V)\n",
      "L = 100.0                     #Line length(km)\n",
      "r = 0.17                      #Resistance(ohm/km/phase)\n",
      "l = 1.1*10**-3                #Inductance(H/km/phase)\n",
      "c = 0.0082*10**-6             #Capacitance(F/km/phase)\n",
      "P_L = 70.0*10**6              #Load at receiving end(W)\n",
      "PF_r = 0.8                    #Lagging load power factor\n",
      "\n",
      "#Calculation\n",
      "E_r = V_r/3**0.5                                                   #Receiving end phase voltage(V)\n",
      "I_r = P_L/(3**0.5*V_r*PF_r)*cmath.exp(1j*-math.acos(PF_r))         #Receiving end current(A)\n",
      "R = r*L                                                            #Total resistance(ohm/phase)\n",
      "X = 2*math.pi*f*l*L                                                #Inductive reactance(ohm/phase)\n",
      "Z = complex(R,X)                                                   #Total impedance(ohm/phase)\n",
      "Y = 2*math.pi*f*c*cmath.exp(1j*90.0*math.pi/180)/L                 #Shunt admittance of line(mho/phase)\n",
      "E = E_r+I_r*(Z/2)                                                  #Voltage across shunt admittance(V/phase)\n",
      "I_s = I_r+E*Y                                                      #Sending end current(A)\n",
      "E_s = E+I_s*(Z/2)                                                  #Sending end voltage(V/phase)\n",
      "E_s_ll = 3**0.5*abs(E_s)/1000                                      #Sending end line to line voltage(kV)\n",
      "angle_Er_Es = cmath.phase(E_s)*180/math.pi                         #Angle between E_r and V_s(\u00b0)\n",
      "angle_Er_Is = cmath.phase(I_s)*180/math.pi                         #Angle between E_r and I_s(\u00b0)\n",
      "angle_Es_Is = angle_Er_Es-angle_Er_Is                              #Angle between E_s and I_s(\u00b0)\n",
      "PF_s = math.cos(angle_Es_Is*math.pi/180)                           #Sending end power factor\n",
      "\n",
      "#Result\n",
      "print('Voltage at sending end, E_s = %.2f\u2220%.2f\u00b0 V/phase = %.f kV (line-to-line)' %(abs(E_s),cmath.phase(E_s)*180/math.pi,E_s_ll))\n",
      "print('Current at sending end, I_s = %.1f\u2220%.1f\u00b0 A' %(abs(I_s),cmath.phase(I_s)*180/math.pi))\n",
      "print('Sending end Power factor = %.3f (lagging)' %PF_s)"
     ],
     "language": "python",
     "metadata": {},
     "outputs": [
      {
       "output_type": "stream",
       "stream": "stdout",
       "text": [
        "Voltage at sending end, E_s = 89599.59\u22204.27\u00b0 V/phase = 155 kV (line-to-line)\n",
        "Current at sending end, I_s = 382.7\u2220-36.9\u00b0 A\n",
        "Sending end Power factor = 0.753 (lagging)\n"
       ]
      }
     ],
     "prompt_number": 1
    },
    {
     "cell_type": "heading",
     "level": 2,
     "metadata": {},
     "source": [
      "Example 2.3.9, Page number 134"
     ]
    },
    {
     "cell_type": "code",
     "collapsed": false,
     "input": [
      "import math\n",
      "import cmath\n",
      "\n",
      "#Variable declaration\n",
      "f = 50.0                      #Frequency(Hz)\n",
      "E_r = 66.0*10**3              #Line voltage at receiving end(V)\n",
      "l = 120.0                     #Line length(km)\n",
      "r = 0.1                       #Resistance(ohm/km/phase)\n",
      "x = 0.3                       #Inductive reactance(ohm/km/phase)\n",
      "y = 0.04*10**-4               #Capacitive susceptance(S/km/phase)\n",
      "P_L = 10.0*10**6              #Load at receiving end(W)\n",
      "PF_r = 0.8                    #Lagging load power factor\n",
      "\n",
      "#Calculation\n",
      "R = r*l                                                            #Total resistance(ohm/phase)\n",
      "X = x*l                                                            #Inductive reactance(ohm/phase)\n",
      "Y = y*l                                                            #Susceptance(mho)\n",
      "Z = complex(R,X)                                                   #Total impedance(ohm/phase)\n",
      "V_r = E_r/3**0.5                                                   #Receiving end phase voltage(V)\n",
      "I_r = P_L/(3**0.5*E_r*PF_r)*cmath.exp(1j*-math.acos(PF_r))         #Load current(A)\n",
      "V_1 = V_r+I_r*(Z/2)                                                #Voltage across capacitor(V)\n",
      "I_c = 1j*Y*V_1                                                     #Charging current(A)\n",
      "I_s = I_r+I_c                                                      #Sending end current(A)\n",
      "V_s = V_1+I_s*(Z/2)                                                #Sending end voltage(V/phase)\n",
      "V_s_ll = 3**0.5*abs(V_s)/1000.0                                    #Sending end line to line voltage(kV)\n",
      "angle_Vr_Vs = cmath.phase(V_s)*180/math.pi                         #Angle between V_r and V_s(\u00b0)\n",
      "angle_Vr_Is = cmath.phase(I_s)*180/math.pi                         #Angle between V_r and I_s(\u00b0)\n",
      "angle_Vs_Is = angle_Vr_Vs-angle_Vr_Is                              #Angle between V_s and I_s(\u00b0)\n",
      "PF_s = math.cos(angle_Vs_Is*math.pi/180)                           #Sending end power factor\n",
      "P_s = 3*abs(V_s*I_s)*PF_s                                          #Sending end power(W)\n",
      "n = P_L/P_s*100                                                    #Transmission efficiency(%)\n",
      "\n",
      "#Result\n",
      "print('Sending end voltage, |V_s| = %.f V/phase = %.3f V (line-to-line)' %(abs(V_s),V_s_ll))\n",
      "print('Sending end current, |I_s| = %.2f A' %abs(I_s))\n",
      "print('Transmission efficiency = %.2f percent' %n)\n",
      "print('\\nNOTE: ERROR: Calculation mistake in finding sending end power factor')\n",
      "print('      Changes in the obtained answer from that of textbook is due to more precision')"
     ],
     "language": "python",
     "metadata": {},
     "outputs": [
      {
       "output_type": "stream",
       "stream": "stdout",
       "text": [
        "Sending end voltage, |V_s| = 41243 V/phase = 71.435 V (line-to-line)\n",
        "Sending end current, |I_s| = 98.57 A\n",
        "Transmission efficiency = 96.25 percent\n",
        "\n",
        "NOTE: ERROR: Calculation mistake in finding sending end power factor\n",
        "      Changes in the obtained answer from that of textbook is due to more precision\n"
       ]
      }
     ],
     "prompt_number": 1
    },
    {
     "cell_type": "heading",
     "level": 2,
     "metadata": {},
     "source": [
      "Example 2.3.10, Page number 135"
     ]
    },
    {
     "cell_type": "code",
     "collapsed": false,
     "input": [
      "import math\n",
      "import cmath\n",
      "\n",
      "#Variable declaration\n",
      "f = 50.0                      #Frequency(Hz)\n",
      "l = 125.0                     #Line length(km)\n",
      "P_r = 40.0*10**6              #Load at receiving end(VA)\n",
      "V_r = 110.0*10**3             #Line voltage at receiving end(V)\n",
      "PF_r = 0.8                    #Lagging load power factor\n",
      "R = 11.0                      #Resistance(ohm/phase)\n",
      "X = 38.0                      #Inductive reactance(ohm/phase)\n",
      "Y = 3.0*10**-4                #Capacitive susceptance(S)\n",
      "\n",
      "#Calculation\n",
      "#Case(i)\n",
      "E_r = V_r/3**0.5                                                   #Receiving end phase voltage(V)\n",
      "Z = complex(R,X)                                                   #Total impedance(ohm/phase)\n",
      "I_c1 = E_r*(Y/2)*cmath.exp(1j*90.0*math.pi/180)                    #Current through shunt admittance at receiving end(A)\n",
      "I_r = P_r/(3**0.5*V_r)*cmath.exp(1j*-math.acos(PF_r))              #Load current(A)\n",
      "I = I_r+I_c1                                                       #Current through series impedance(A)\n",
      "E_s = I*Z+E_r                                                      #Voltage across shunt admittance at sending end(V)\n",
      "E_s_ll = 3**0.5*E_s/1000.0                                         #Line to line voltage at sending end(kV)\n",
      "I_c2 = E_s*(Y/2)*cmath.exp(1j*90.0*math.pi/180)                    #Current through shunt admittance at sending end(A)\n",
      "#Case(ii)\n",
      "I_s = I_c2+I_r                                                     #Sending end current(A)\n",
      "angle_Er_Es = cmath.phase(E_s)*180/math.pi                         #Angle between E_r and E_s(\u00b0)\n",
      "angle_Er_Is = cmath.phase(I_s)*180/math.pi                         #Angle between E_r and I_s(\u00b0)\n",
      "angle_Es_Is = angle_Er_Es-angle_Er_Is                              #Angle between E_s and I_s(\u00b0)\n",
      "PF_s = math.cos(angle_Es_Is*math.pi/180)                           #Sending end power factor\n",
      "\n",
      "#Result\n",
      "print('Case(i) : Line to line voltage at sending end, E_s = %.f kV' %(abs(E_s_ll)))\n",
      "print('Case(ii): Sending end power factor = %.3f ' %PF_s)\n",
      "print('\\nNOTE: Answer in the textbook are incomplete')"
     ],
     "language": "python",
     "metadata": {},
     "outputs": [
      {
       "output_type": "stream",
       "stream": "stdout",
       "text": [
        "Case(i) : Line to line voltage at sending end, E_s = 121 kV\n",
        "Case(ii): Sending end power factor = 0.779 \n",
        "\n",
        "NOTE: Answer in the textbook are incomplete\n"
       ]
      }
     ],
     "prompt_number": 1
    },
    {
     "cell_type": "heading",
     "level": 2,
     "metadata": {},
     "source": [
      "Example 2.3.11, Page number 135-137"
     ]
    },
    {
     "cell_type": "code",
     "collapsed": false,
     "input": [
      "import math\n",
      "import cmath\n",
      "\n",
      "#Variable declaration\n",
      "f = 50.0                      #Frequency(Hz)\n",
      "R = 28.0                      #Resistance(ohm/phase)\n",
      "X = 63.0                      #Inductive reactance(ohm/phase)\n",
      "Y = 4.0*10**-4                #Capacitive susceptance(mho)\n",
      "P_r = 75.0*10**6              #Load at receiving end(VA)\n",
      "PF_r = 0.8                    #Lagging load power factor\n",
      "V_r = 132.0*10**3             #Line voltage at receiving end(V)\n",
      "\n",
      "#Calculation\n",
      "#Case(i) Nominal T method\n",
      "Z = complex(R,X)                                                   #Total impedance(ohm/phase)\n",
      "E_r = V_r/3**0.5                                                   #Receiving end phase voltage(V)\n",
      "I_r = P_r/(3**0.5*V_r)*cmath.exp(1j*-math.acos(PF_r))              #Line current at receiving end(A)\n",
      "E = E_r+I_r*(Z/2)\n",
      "I_c = 1j*Y*E                                                       #Capacitive current(A)\n",
      "I_s = I_r+I_c                                                      #Sending end current(A)\n",
      "v_drop = I_s*(Z/2)                                                 #Voltage drop(V)\n",
      "E_s = E+I_s*(Z/2)                                                  #Sending end voltage(V)\n",
      "E_s_kV = E_s/1000.0                                                #Sending end voltage(kV)\n",
      "E_s_ll= 3**0.5*abs(E_s)                                            #Sending end line voltage(V)\n",
      "E_s_llkV = E_s_ll/1000.0                                           #Sending end line voltage(kV)\n",
      "angle_Er_Es = cmath.phase(E_s)*180/math.pi                         #Angle between E_r and E_s(\u00b0)\n",
      "angle_Er_Is = cmath.phase(I_s)*180/math.pi                         #Angle between E_r and I_s(\u00b0)\n",
      "angle_Es_Is = angle_Er_Es-angle_Er_Is                              #Angle between E_s and I_s(\u00b0)\n",
      "PF_s = math.cos(angle_Es_Is*math.pi/180)                           #Sending end power factor\n",
      "P_s = 3**0.5*E_s_ll*abs(I_s)*PF_s                                  #Power at sending end(W)\n",
      "reg = (abs(E_s_ll)-V_r)/V_r*100                                    #Regulation(%)\n",
      "n = (P_r*PF_r)/P_s*100                                             #Transmission efficiency(%)\n",
      "#Case(ii) Nominal \u03c0 method\n",
      "I_c2 = E_r*(1j*Y/2)                                                #Current through shunt admittance at receiving end(A)\n",
      "I = I_r+I_c2                                                       #Line current(A)\n",
      "E_s_p = E_r+I*Z                                                    #Sending end voltage(V)\n",
      "E_s_pkV = E_s_p/1000.0                                             #Sending end voltage(kV)\n",
      "E_s_pll = 3**0.5*abs(E_s_p)                                        #Sending end line voltage(V)\n",
      "E_s_pllkV = E_s_pll/1000.0                                         #Sending end line voltage(kV)\n",
      "I_c1 = E_s_p*(1j*Y/2)                                              #Current through shunt admittance at sending end(A)\n",
      "I_s_p = I+I_c1                                                     #Sending end current(A)\n",
      "angle_Er_Esp = cmath.phase(E_s)*180/math.pi                        #Angle between E_r and E_s(\u00b0)\n",
      "angle_Er_Isp = cmath.phase(I_s)*180/math.pi                        #Angle between E_r and I_s(\u00b0)\n",
      "angle_Es_Isp = angle_Er_Esp-angle_Er_Isp                           #Angle between E_s and I_s(\u00b0)\n",
      "PF_s_p = math.cos(angle_Es_Isp*math.pi/180)                        #Sending end power factor\n",
      "P_s_p = 3**0.5*E_s_pll*abs(I_s_p)*PF_s_p                           #Power at sending end(W)\n",
      "reg_p = (abs(E_s_pll)-V_r)/V_r*100                                 #Regulation(%)\n",
      "n_p = (P_r*PF_r)/P_s_p*100                                         #Transmission efficiency(%)\n",
      "\n",
      "#Result\n",
      "print('(i) Nominal T method')\n",
      "print('Case(a): Voltage at sending end, E_s = %.2f\u2220%.2f\u00b0 kV = %.1f kV (line-to-line)' %(abs(E_s_kV),cmath.phase(E_s_kV)*180/math.pi,E_s_llkV))\n",
      "print('Case(b): Sending end current, I_s = %.1f\u2220%.2f\u00b0 A' %(abs(I_s),cmath.phase(I_s)*180/math.pi))\n",
      "print('Case(c): Power factor at sending end = %.4f (lagging)' %PF_s)\n",
      "print('Case(d): Regulation = %.2f percent' %reg)\n",
      "print('Case(e): Efficiency of transmission = %.2f percent' %n)\n",
      "print('\\n(ii) Nominal \u03c0 method')\n",
      "print('Case(a): Voltage at sending end, E_s = %.2f\u2220%.2f\u00b0 kV = %.1f kV (line-to-line)' %(abs(E_s_pkV),cmath.phase(E_s_pkV)*180/math.pi,E_s_pllkV))\n",
      "print('Case(b): Sending end current, I_s = %.1f\u2220%.2f\u00b0 A' %(abs(I_s_p),cmath.phase(I_s_p)*180/math.pi))\n",
      "print('Case(c): Power factor at sending end = %.4f (lagging)' %PF_s_p)\n",
      "print('Case(d): Regulation = %.2f percent' %reg_p)\n",
      "print('Case(e): Efficiency of transmission = %.2f percent' %n_p)\n",
      "print('\\nNOTE: Changes in the obtained answer from that of textbook is due to more precision here and more approximation in textbook')"
     ],
     "language": "python",
     "metadata": {},
     "outputs": [
      {
       "output_type": "stream",
       "stream": "stdout",
       "text": [
        "(i) Nominal T method\n",
        "Case(a): Voltage at sending end, E_s = 95.53\u22206.87\u00b0 kV = 165.5 kV (line-to-line)\n",
        "Case(b): Sending end current, I_s = 306.7\u2220-31.97\u00b0 A\n",
        "Case(c): Power factor at sending end = 0.7789 (lagging)\n",
        "Case(d): Regulation = 25.35 percent\n",
        "Case(e): Efficiency of transmission = 87.63 percent\n",
        "\n",
        "(ii) Nominal \u03c0 method\n",
        "Case(a): Voltage at sending end, E_s = 95.69\u22206.87\u00b0 kV = 165.7 kV (line-to-line)\n",
        "Case(b): Sending end current, I_s = 306.8\u2220-32.00\u00b0 A\n",
        "Case(c): Power factor at sending end = 0.7789 (lagging)\n",
        "Case(d): Regulation = 25.55 percent\n",
        "Case(e): Efficiency of transmission = 87.48 percent\n",
        "\n",
        "NOTE: Changes in the obtained answer from that of textbook is due to more precision here and more approximation in textbook\n"
       ]
      }
     ],
     "prompt_number": 1
    },
    {
     "cell_type": "heading",
     "level": 2,
     "metadata": {},
     "source": [
      "Example 2.3.12, Page number 143"
     ]
    },
    {
     "cell_type": "code",
     "collapsed": false,
     "input": [
      "#Variable declaration\n",
      "E_s = 275.0                 #Sending end voltage(kV)\n",
      "f = 50.0                    #Frequency(Hz)\n",
      "l = 400.0                   #Line length(km)\n",
      "x = 0.05                    #Inductive reactance(ohm/km)\n",
      "y = 3.0*10**-6              #Line charging susceptance(S/km)\n",
      "r = 0.0                     #Lossless line\n",
      "\n",
      "#Calculation\n",
      "#Case(a)\n",
      "R = r*l                     #Total resistance(ohm/phase)\n",
      "X = x*l                     #Inductive reactance(ohm/phase)\n",
      "Y = y*l                     #Susceptance(mho)\n",
      "Z = complex(R,X)            #Total impedance(ohm/phase)\n",
      "A = 1+(Y*Z/2)*1j            #Line constant\n",
      "E_r = E_s/abs(A)            #Receiving end voltage at no load(kV)\n",
      "#case(b)\n",
      "Z_0 = (X/Y)**0.5            #Load at receiving end(ohm)\n",
      "#Case(c)\n",
      "Z_0_new = 1.2*Z_0           #New load at receiving station(ohm)\n",
      "\n",
      "#Result\n",
      "print('Case(a): Receiving end voltage on open circuit = %.1f kV' %E_r)\n",
      "print('Case(b): Load at receiving end for flat voltage profile on line, Z_0 = %.1f \u03a9' %Z_0)\n",
      "print('Case(c): Distributed inductive reactance of the line is to be increased as, Loading for new voltage profile = %.2f \u03a9' %Z_0_new)"
     ],
     "language": "python",
     "metadata": {},
     "outputs": [
      {
       "output_type": "stream",
       "stream": "stdout",
       "text": [
        "Case(a): Receiving end voltage on open circuit = 278.3 kV\n",
        "Case(b): Load at receiving end for flat voltage profile on line, Z_0 = 129.1 \u03a9\n",
        "Case(c): Distributed inductive reactance of the line is to be increased as, Loading for new voltage profile = 154.92 \u03a9\n"
       ]
      }
     ],
     "prompt_number": 1
    },
    {
     "cell_type": "heading",
     "level": 2,
     "metadata": {},
     "source": [
      "Example 2.3.13, Page number 143-144"
     ]
    },
    {
     "cell_type": "code",
     "collapsed": false,
     "input": [
      "import math\n",
      "import cmath\n",
      "\n",
      "#Variable declaration\n",
      "V_r = 220.0*10**3           #Receiving end voltage(V)\n",
      "Z = complex(20,100)         #Impedance(ohm/phase)\n",
      "Y = 1j*0.0010               #Admittance(mho)\n",
      "I_r = 300.0                 #Receiving end current(A)\n",
      "PF_r = 0.9                  #Lagging power factor\n",
      "\n",
      "#Calculation\n",
      "V_2 = V_r/3**0.5                           #Receiving end phase voltage(V)\n",
      "I_2 = I_r*cmath.exp(1j*-math.acos(PF_r))   #Receiving end current(A)\n",
      "I_C2 = (Y/2)*V_2                           #Capacitive current at receiving end(A)\n",
      "I = I_2+I_C2\n",
      "V_1 = V_2+I*Z                              #Voltage across shunt admittance at sending end(V)\n",
      "V_1kV = V_1/1000.0                         #Voltage across shunt admittance at sending end(kV)\n",
      "I_C1 = (Y/2)*V_1                           #Capacitive current at sending end(A)\n",
      "I_1 = I_C1+I_2                             #Sending end current(A)\n",
      "\n",
      "#Result\n",
      "print('Sending end voltage, V_1 = %.2f\u2220%.2f\u00b0 kV' %(abs(V_1kV),cmath.phase(V_1kV)*180/math.pi))\n",
      "print('Sending end current, I_1 = %.3f\u2220%.4f\u00b0 A' %(abs(I_1),cmath.phase(I_1)*180/math.pi))"
     ],
     "language": "python",
     "metadata": {},
     "outputs": [
      {
       "output_type": "stream",
       "stream": "stdout",
       "text": [
        "Sending end voltage, V_1 = 141.49\u222010.45\u00b0 kV\n",
        "Sending end current, I_1 = 264.353\u2220-13.3849\u00b0 A\n"
       ]
      }
     ],
     "prompt_number": 1
    },
    {
     "cell_type": "heading",
     "level": 2,
     "metadata": {},
     "source": [
      "Example 2.3.14, Page number 144"
     ]
    },
    {
     "cell_type": "code",
     "collapsed": false,
     "input": [
      "import math\n",
      "import cmath\n",
      "\n",
      "#Variable declaration\n",
      "f = 50.0                      #Frequency(Hz)\n",
      "r = 0.1                       #Resistance(ohm/km)\n",
      "l = 1.4*10**-3                #Inductance(H/km)\n",
      "c = 8.0*10**-9                #Capacitance(F/km)\n",
      "g = 4.0*10**-8                #conductance(mho/km)\n",
      "V_r = 400.0                   #Receiving end voltage(kV)\n",
      "x = 200.0                     #Length of line(km)\n",
      "\n",
      "#Calculation\n",
      "V_2 = V_r/3**0.5                         #Receiving end phase voltage(kV)\n",
      "z = r+1j*2*math.pi*f*l                   #Total impedance(ohm/km)\n",
      "y = g+1j*2*math.pi*f*c                   #Total susceptance(mho/km)\n",
      "Z_c = (z/y)**0.5                         #Surge impedance(ohm)\n",
      "gamma = (z*y)**0.5                       #\u03b3\n",
      "#Case(i)\n",
      "V_0_plus = V_2/2                         #Incident voltage to neutral at receiving end(kV)\n",
      "#Case(ii)\n",
      "V_0_minus = V_2/2                        #Reflected voltage to neutral at receiving end(kV)\n",
      "#Case(iii)\n",
      "gamma_l = gamma*x                        #\u03b3l\n",
      "V_1_plus = (V_2/2)*cmath.exp(gamma_l)    #Incident voltage to neutral at 200 km from receiving end(kV)\n",
      "V_1_minus = (V_2/2)*cmath.exp(-gamma_l)  #Reflected voltage to neutral at 200 km from receiving end(kV)\n",
      "#Case(iv)\n",
      "V_1 = V_1_plus+V_1_minus                 #Resultant voltage to neutral(kV)\n",
      "V_L = abs(V_1)                           #Resultant voltage to neutral(kV)\n",
      "V_L_ll = 3**0.5*V_L                      #Line to line voltage at 200 km from receiving end(kV)\n",
      "\n",
      "#Result\n",
      "print('Case(i)  : Incident voltage to neutral at receiving end, V_0_plus = %.1f\u2220%.f\u00b0 kV' %(abs(V_0_plus),cmath.phase(V_0_plus)*180/math.pi))\n",
      "print('Case(ii) : Reflected voltage to neutral at receiving end, V_0_minus = %.1f\u2220%.f\u00b0 kV' %(abs(V_0_minus),cmath.phase(V_0_minus)*180/math.pi))\n",
      "print('Case(iii): Incident voltage to neutral at 200 km from receiving end, V_1_plus = (%.3f+%.2f) kV' %(V_1_plus.real,V_1_plus.imag))\n",
      "print('Case(iv) : Resultant voltage to neutral at 200 km from receiving end, V_L = %.2f kV' %V_L)\n",
      "print('           Line to line voltage at 200 km from receiving end = %.2f kV' %V_L_ll)"
     ],
     "language": "python",
     "metadata": {},
     "outputs": [
      {
       "output_type": "stream",
       "stream": "stdout",
       "text": [
        "Case(i)  : Incident voltage to neutral at receiving end, V_0_plus = 115.5\u22200\u00b0 kV\n",
        "Case(ii) : Reflected voltage to neutral at receiving end, V_0_minus = 115.5\u22200\u00b0 kV\n",
        "Case(iii): Incident voltage to neutral at 200 km from receiving end, V_1_plus = (115.808+24.86) kV\n",
        "Case(iv) : Resultant voltage to neutral at 200 km from receiving end, V_L = 225.87 kV\n",
        "           Line to line voltage at 200 km from receiving end = 391.23 kV\n"
       ]
      }
     ],
     "prompt_number": 1
    },
    {
     "cell_type": "heading",
     "level": 2,
     "metadata": {},
     "source": [
      "Example 2.3.15, Page number 145"
     ]
    },
    {
     "cell_type": "code",
     "collapsed": false,
     "input": [
      "import math\n",
      "import cmath\n",
      "\n",
      "#Variable declaration\n",
      "f = 50.0                      #Frequency(Hz)\n",
      "L = 200.0                     #Line length(km)\n",
      "l = 1.20*10**-3               #Inductance(H/km)\n",
      "c = 8.0*10**-9                #Capacitance(F/km)\n",
      "r = 0.15                      #Resistance(ohm/km)\n",
      "g = 0.0                       #Conductance(mho/km)\n",
      "\n",
      "#Calculation\n",
      "z = r+1j*2*math.pi*f*l                  #Total impedance(ohm/km)\n",
      "Z = z*L                                 #Total impedance(ohm)\n",
      "y = g+1j*2*math.pi*f*c                  #Total susceptance(mho/km)\n",
      "Y = y*L                                 #Total susceptance(mho/km)\n",
      "gamma_l = (Z*Y)**0.5                    #\u03b3l\n",
      "alpha_l = gamma_l.real                  #\u03b1l\n",
      "beta_l = gamma_l.imag                   #\u03b2l\n",
      "Z_c = (Z/Y)**0.5                        #Surge impedance(ohm)\n",
      "A = cmath.cosh(gamma_l)                 #Constant\n",
      "B = Z_c*cmath.sinh(gamma_l)             #Constant(ohm)\n",
      "C = (1/Z_c)*cmath.sinh(gamma_l)         #Constant(S)\n",
      "D = A                                   #Constant\n",
      "\n",
      "#Result\n",
      "print('A = D = %.3f\u2220%.2f\u00b0 ' %(abs(A),cmath.phase(A)*180/math.pi))\n",
      "print('B = %.2f\u2220%.3f\u00b0 \u03a9' %(abs(B),cmath.phase(B)*180/math.pi))\n",
      "print('C = %.2e\u2220%.3f\u00b0 S' %(abs(C),cmath.phase(C)*180/math.pi))"
     ],
     "language": "python",
     "metadata": {},
     "outputs": [
      {
       "output_type": "stream",
       "stream": "stdout",
       "text": [
        "A = D = 0.981\u22200.44\u00b0 \n",
        "B = 80.64\u222068.447\u00b0 \u03a9\n",
        "C = 4.99e-04\u222090.144\u00b0 S\n"
       ]
      }
     ],
     "prompt_number": 1
    },
    {
     "cell_type": "heading",
     "level": 2,
     "metadata": {},
     "source": [
      "Example 2.3.16, Page number 145-146"
     ]
    },
    {
     "cell_type": "code",
     "collapsed": false,
     "input": [
      "import math\n",
      "import cmath\n",
      "\n",
      "#Variable declaration\n",
      "V_r = 132.0*10**3           #Receiving end voltage(V)\n",
      "f = 50.0                    #Frequency(Hz)\n",
      "L = 200.0                   #Line length(km)\n",
      "l = 1.3*10**-3              #Inductance(H/km)\n",
      "c = 9.0*10**-9              #Capacitance(F/km)\n",
      "r = 0.2                     #Resistance(ohm/km)\n",
      "g = 0.0                     #Conductance(mho/km)\n",
      "P_r = 50.0*10**6            #Power received(VA)\n",
      "PF_r = 0.8                  #Lagging power factor at receiving end\n",
      "\n",
      "#Calculation\n",
      "z = r+1j*2*math.pi*f*l                              #Total impedance(ohm/km)\n",
      "y = g+1j*2*math.pi*f*c                              #Total susceptance(mho/km)\n",
      "Z_c = (z/y)**0.5                                    #Surge impedance(ohm)\n",
      "gamma = (z*y)**0.5                                  #\u03b3\n",
      "gamma_l = gamma*L                                   #\u03b3l\n",
      "cosh_gl = cmath.cosh(gamma_l)                       #cosh \u03b3l\n",
      "sinh_gl = cmath.sinh(gamma_l)                       #sinh \u03b3l\n",
      "V_2 = V_r/(3**0.5)                                  #Receiving end phase voltage(V)\n",
      "I_2 = P_r/(3*V_2)*cmath.exp(1j*-math.acos(PF_r))    #Line current(A)\n",
      "V_1 = V_2*cosh_gl+I_2*Z_c*sinh_gl                   #Sending end voltage(V)\n",
      "V_1kV = V_1/1000.0                                  #Sending end voltage(kV)\n",
      "I_1 = (V_2/Z_c)*sinh_gl+I_2*cosh_gl                 #Sending end current(A)\n",
      "angle_V2_V1 = cmath.phase(V_1)*180/math.pi          #Angle between V_2 and V_1(\u00b0)\n",
      "angle_V2_I1 = cmath.phase(I_1)*180/math.pi          #Angle between V_2 and I_1(\u00b0)\n",
      "angle_V1_I1 = angle_V2_V1-angle_V2_I1               #Angle between V_1 and I_1(\u00b0)\n",
      "PF_s = math.cos(angle_V1_I1*math.pi/180)            #Sending end power factor\n",
      "P_1 = 3*abs(V_1*I_1)*PF_s                           #Sending end power(W)\n",
      "P_2 = P_r*PF_r                                      #Receiving end power(W)\n",
      "n = P_2/P_1*100                                     #Efficiency\n",
      "\n",
      "#Result\n",
      "print('Sending end voltage, V_1 = %.3f\u2220%.4f\u00b0 kV per phase' %(abs(V_1kV),cmath.phase(V_1kV)*180/math.pi))\n",
      "print('Sending end current, I_1 = %.3f\u2220%.2f\u00b0 A' %(abs(I_1),cmath.phase(I_1)*180/math.pi))\n",
      "print('Power factor = %.3f ' %PF_s)\n",
      "print('Efficiency, \u03b7 = %.2f percent' %n)"
     ],
     "language": "python",
     "metadata": {},
     "outputs": [
      {
       "output_type": "stream",
       "stream": "stdout",
       "text": [
        "Sending end voltage, V_1 = 92.532\u22206.1382\u00b0 kV per phase\n",
        "Sending end current, I_1 = 191.395\u2220-25.85\u00b0 A\n",
        "Power factor = 0.848 \n",
        "Efficiency, \u03b7 = 88.77 percent\n"
       ]
      }
     ],
     "prompt_number": 1
    },
    {
     "cell_type": "heading",
     "level": 2,
     "metadata": {},
     "source": [
      "Example 2.3.17, Page number 147-148"
     ]
    },
    {
     "cell_type": "code",
     "collapsed": false,
     "input": [
      "import math\n",
      "import cmath\n",
      "\n",
      "#Variable declaration\n",
      "f = 50.0                    #Frequency(Hz)\n",
      "L = 160.0                   #Line length(km)\n",
      "r = 0.15                     #Resistance(ohm/km/phase)\n",
      "l = 1.2*10**-3              #Inductance(H/km/phase)\n",
      "c = 0.008*10**-6              #Capacitance(F/km/phase)\n",
      "g = 0.0                     #Conductance(mho/km/phase)\n",
      "\n",
      "#Calculation\n",
      "#Case(i) Using convergent series(Complex angles) method\n",
      "z = r+1j*2*math.pi*f*l                    #Impedance(ohm/km)\n",
      "Z = z*L                                   #Total series impedance(ohm)\n",
      "y = g+1j*2*math.pi*f*c                    #Shunt admittance(S/km)\n",
      "Y = y*L                                   #Total shunt admittance(S)\n",
      "A = 1+(Y*Z/2)+((Y*Z)**2/24)               #Constant\n",
      "B = Z*(1+(Y*Z/6)+((Y*Z)**2/120))          #Constant(ohm)\n",
      "C = Y*(1+(Y*Z/6)+((Y*Z)**2/120))          #Constant(mho)\n",
      "D = A                                     #Constant\n",
      "#Case(ii) Using convergent series(Real angles) method\n",
      "gamma_l = (Z*Y)**0.5                      #\u03b3l\n",
      "alpha_l = gamma_l.real                    #\u03b1l\n",
      "beta_l = gamma_l.imag                     #\u03b2l\n",
      "Z_c = (Z/Y)**0.5                          #Surge impedance(ohm)\n",
      "A_2 = cmath.cosh(gamma_l)                 #Constant\n",
      "B_2 = Z_c*cmath.sinh(gamma_l)             #Constant(ohm)\n",
      "C_2 = (1/Z_c)*cmath.sinh(gamma_l)         #Constant(mho)\n",
      "D_2 = A_2                                 #Constant\n",
      "\n",
      "#Result\n",
      "print('Case(i): Using convergent series(Complex Angles) method')\n",
      "print('A = D = %.3f\u2220%.1f\u00b0 ' %(abs(A),cmath.phase(A)*180/math.pi))\n",
      "print('B = %.f\u2220%.1f\u00b0 ohm' %(abs(B),cmath.phase(B)*180/math.pi))\n",
      "print('C = %.4f\u2220%.1f\u00b0 mho' %(abs(C),cmath.phase(C)*180/math.pi))\n",
      "print('\\nCase(ii): Using convergent series(Real Angles) method')\n",
      "print('A = D = %.3f\u2220%.1f\u00b0 ' %(abs(A_2),cmath.phase(A_2)*180/math.pi))\n",
      "print('B = %.1f\u2220%.1f\u00b0 ohm' %(abs(B_2),cmath.phase(B_2)*180/math.pi))\n",
      "print('C = %.4f\u2220%.1f\u00b0 S' %(abs(C_2),cmath.phase(C_2)*180/math.pi))\n",
      "print('\\nNOTE: Slight change in obtained answer from that of textbook is due to more precision')"
     ],
     "language": "python",
     "metadata": {},
     "outputs": [
      {
       "output_type": "stream",
       "stream": "stdout",
       "text": [
        "Case(i): Using convergent series(Complex Angles) method\n",
        "A = D = 0.988\u22200.3\u00b0 \n",
        "B = 65\u222068.4\u00b0 ohm\n",
        "C = 0.0004\u222090.1\u00b0 mho\n",
        "\n",
        "Case(ii): Using convergent series(Real Angles) method\n",
        "A = D = 0.988\u22200.3\u00b0 \n",
        "B = 64.7\u222068.4\u00b0 ohm\n",
        "C = 0.0004\u222090.1\u00b0 S\n",
        "\n",
        "NOTE: Slight change in obtained answer from that of textbook is due to more precision\n"
       ]
      }
     ],
     "prompt_number": 1
    },
    {
     "cell_type": "heading",
     "level": 2,
     "metadata": {},
     "source": [
      "Example 2.3.18, Page number 148"
     ]
    },
    {
     "cell_type": "code",
     "collapsed": false,
     "input": [
      "import math\n",
      "import cmath\n",
      "\n",
      "#Variable declaration\n",
      "V_r = 220.0*10**3                    #Line voltage at receiving end(V)\n",
      "Z = complex(40,200)                  #Impedance per phase(ohm)\n",
      "Y = 1j*0.0015                        #Admittance(mho)\n",
      "I_r = 200.0                          #Receiving end current(A)\n",
      "PF_r = 0.95                          #Lagging power factor\n",
      "\n",
      "#Calculation\n",
      "#Case(a)\n",
      "A = 1+(Y*Z/2)+((Y*Z)**2/24)                               #Constant\n",
      "B = Z*(1+(Y*Z/6)+((Y*Z)**2/120)+((Y*Z)**3/5040))          #Constant(ohm)\n",
      "C = Y*(1+(Y*Z/6)+((Y*Z)**2/120)+((Y*Z)**3/5040))          #Constant(mho)\n",
      "D = A                                                     #Constant\n",
      "E_r = V_r/3**0.5                                          #Receiving end phase voltage(V)\n",
      "I_r1 = I_r*cmath.exp(1j*-math.acos(PF_r))                 #Line current(A)\n",
      "E_s = A*E_r+B*I_r1                                        #Sending end voltage(V)\n",
      "E_s_ll = 3**0.5*E_s/1000.0                                #Sending end line voltage(kV)\n",
      "#Case(b)\n",
      "I_s = C*E_r+D*I_r1                                        #Sending end current(A)\n",
      "\n",
      "#Result\n",
      "print('Case(a): Sending end voltage, E_s = %.1f\u2220%.2f\u00b0 kV (line-to-line)' %(abs(E_s_ll),cmath.phase(E_s_ll)*180/math.pi))\n",
      "print('Case(b): Sending end current, I_s = %.1f\u2220%.2f\u00b0 A' %(abs(I_s),cmath.phase(I_s)*180/math.pi))\n",
      "print('\\nNOTE: ERROR: Z = (40+j200)\u03a9, not Z=(60+j200)\u03a9 as given in problem statement')\n",
      "print('      Changes in obtained answer from that of textbook is due to more precision')"
     ],
     "language": "python",
     "metadata": {},
     "outputs": [
      {
       "output_type": "stream",
       "stream": "stdout",
       "text": [
        "Case(a): Sending end voltage, E_s = 229.7\u222016.46\u00b0 kV (line-to-line)\n",
        "Case(b): Sending end current, I_s = 209.8\u222039.42\u00b0 A\n",
        "\n",
        "NOTE: ERROR: Z = (40+j200)\u03a9, not Z=(60+j200)\u03a9 as given in problem statement\n",
        "      Changes in obtained answer from that of textbook is due to more precision\n"
       ]
      }
     ],
     "prompt_number": 1
    },
    {
     "cell_type": "heading",
     "level": 2,
     "metadata": {},
     "source": [
      "Example 2.3.19, Page number 148-149"
     ]
    },
    {
     "cell_type": "code",
     "collapsed": false,
     "input": [
      "import math\n",
      "import cmath\n",
      "\n",
      "#Variable declaration\n",
      "V_r = 220.0*10**3                    #Line voltage at receiving end(V)\n",
      "Z = complex(40,200)                  #Impedance per phase(ohm)\n",
      "Y = 1j*0.0015                        #Admittance(S)\n",
      "I_R = 200.0                          #Receiving end current(A)\n",
      "PF_r = 0.95                          #Lagging power factor\n",
      "\n",
      "#Calculation\n",
      "#Case(i) Nominal \u03c0 method\n",
      "#Case(a)\n",
      "E_r = V_r/3**0.5                             #Receiving end phase voltage(V)\n",
      "I_r = I_R*cmath.exp(1j*-math.acos(PF_r))     #Line current(A)\n",
      "Y_2 = Y/2.0                                  #Admittance(S)\n",
      "I_c2 = Y_2*E_r                               #Current through shunt admittance at receiving end(A)\n",
      "I = I_r+I_c2                                 #Current through impedance(A)\n",
      "IZ_drop = I*Z                                #Voltage drop(V)\n",
      "E_s = E_r+IZ_drop                            #Sending end voltage(V)\n",
      "E_s_kV = E_s/1000.0                          #Sending end voltage(kV)\n",
      "#Case(b)\n",
      "I_c1 = E_s*Y_2                               #Current through shunt admittance at sending end(A)\n",
      "I_s = I+I_c1                                 #Sending end current(A)\n",
      "#Case(ii) Nominal T method\n",
      "#Case(a)\n",
      "I_r_Z2 = I_r*Z/2                             #Voltage drop at receiving end(V)\n",
      "E = E_r+I_r_Z2                               #Voltage(V)\n",
      "I_c = Y*E                                    #Current through shunt admittance(A)\n",
      "I_s_2 = I_c+I_r                              #Sending end current(A)\n",
      "I_s_Z2 = I_s_2*(Z/2)                         #Voltage drop at sending end(V)\n",
      "E_s_2 = I_s_Z2+E                             #Sending end voltage(V)\n",
      "E_s_2kV = E_s_2/1000.0                       #Sending end voltage(kV)\n",
      "\n",
      "#Result\n",
      "print('Case(i): Nominal \u03c0 method')\n",
      "print('         Case(a): Sending end voltage, E_s = %.1f\u2220%.2f\u00b0 kV' %(abs(E_s_kV),cmath.phase(E_s_kV)*180/math.pi))\n",
      "print('         Case(b): Sending end current, I_s = %.1f\u2220%.2f\u00b0 A' %(abs(I_s),cmath.phase(I_s)*180/math.pi))\n",
      "print('Case(ii): Nominal T method')\n",
      "print('         Case(a): Sending end voltage, E_s = %.1f\u2220%.2f\u00b0 kV' %(abs(E_s_2kV),cmath.phase(E_s_2kV)*180/math.pi))\n",
      "print('         Case(b): Sending end current, I_s = %.1f\u2220%.2f\u00b0 A' %(abs(I_s_2),cmath.phase(I_s_2)*180/math.pi))\n",
      "print('\\nThe results are tabulated below')\n",
      "print('________________________________________________________')\n",
      "print('METHOD            E_s(kV)                I_s(A)')\n",
      "print('________________________________________________________')\n",
      "print('Rigorous        \u221a3*132.6\u222016.46\u00b0        209.8\u222039.42\u00b0')\n",
      "print('Nominal \u03c0       \u221a3*%.1f\u2220%.2f\u00b0        %.1f\u2220%.2f\u00b0' %(abs(E_s_kV),cmath.phase(E_s_kV)*180/math.pi,abs(I_s),cmath.phase(I_s)*180/math.pi))\n",
      "print('Nominal T       \u221a3*%.1f\u2220%.2f\u00b0        %.1f\u2220%.2f\u00b0' %(abs(E_s_2kV),cmath.phase(E_s_2kV)*180/math.pi,abs(I_s_2),cmath.phase(I_s_2)*180/math.pi))"
     ],
     "language": "python",
     "metadata": {},
     "outputs": [
      {
       "output_type": "stream",
       "stream": "stdout",
       "text": [
        "Case(i): Nominal \u03c0 method\n",
        "         Case(a): Sending end voltage, E_s = 134.0\u222017.07\u00b0 kV\n",
        "         Case(b): Sending end current, I_s = 205.8\u222038.76\u00b0 A\n",
        "Case(ii): Nominal T method\n",
        "         Case(a): Sending end voltage, E_s = 131.3\u222016.34\u00b0 kV\n",
        "         Case(b): Sending end current, I_s = 217.2\u222041.22\u00b0 A\n",
        "\n",
        "The results are tabulated below\n",
        "________________________________________________________\n",
        "METHOD            E_s(kV)                I_s(A)\n",
        "________________________________________________________\n",
        "Rigorous        \u221a3*132.6\u222016.46\u00b0        209.8\u222039.42\u00b0\n",
        "Nominal \u03c0       \u221a3*134.0\u222017.07\u00b0        205.8\u222038.76\u00b0\n",
        "Nominal T       \u221a3*131.3\u222016.34\u00b0        217.2\u222041.22\u00b0\n"
       ]
      }
     ],
     "prompt_number": 1
    },
    {
     "cell_type": "heading",
     "level": 2,
     "metadata": {},
     "source": [
      "Example 2.3.20, Page number 149-153"
     ]
    },
    {
     "cell_type": "code",
     "collapsed": false,
     "input": [
      "import math\n",
      "import cmath\n",
      "\n",
      "#Variable declaration\n",
      "f = 50.0                  #Frequency(Hz)\n",
      "L = 280.0                 #Line length(km)\n",
      "Z = complex(35,140)       #Series impedance(ohm)\n",
      "Y = 1j*930.0*10**-6       #Shunt admittance(S)\n",
      "P_r = 40.0*10**6          #Power delivered(W)\n",
      "V_r = 220.0*10**3         #Voltage at receiving end(V)\n",
      "PF_r = 0.9                #Lagging power factor\n",
      "\n",
      "#Calculation\n",
      "R = Z.real                                                     #Resistance of the line(ohm)\n",
      "#Case(a)\n",
      "I_r_a = P_r/(3**0.5*V_r*PF_r)*cmath.exp(1j*-math.acos(PF_r))   #Receiving end current(A)\n",
      "I_s_a = I_r_a                                                  #Sending end current(A)\n",
      "V_r_a = V_r/3**0.5                                             #Phase voltage at receiving end(V)\n",
      "V_s_a = V_r_a+I_r_a*Z                                          #Sending end voltage(V)\n",
      "V_s_a_ll = 3**0.5*V_s_a                                        #Sending end line voltage(V)\n",
      "V_s_a_llkv = V_s_a_ll/1000.0                                   #Sending end line voltage(kV)\n",
      "reg_a = (abs(V_s_a_ll)-V_r)/V_r*100                            #Voltage regulation(%)\n",
      "loss_a = 3*abs(I_r_a)**2*R                                     #Line loss(W)\n",
      "input_a = P_r+loss_a                                           #Input to line(W)\n",
      "n_a = P_r/input_a*100                                          #Efficiency of transmission(%)\n",
      "A_a = 1.0                                                      #Constant\n",
      "B_a = Z                                                        #Constant(ohm)\n",
      "C_a = 0                                                        #Constant(mho)\n",
      "D_a = A_a                                                      #Constant\n",
      "#Case(b)\n",
      "V_b = V_r_a+I_r_a*Z/2                                  #Voltage drop across shunt admittance(V)\n",
      "I_c_b = Y*V_b                                          #Current through shunt admittance(A)\n",
      "I_s_b = I_r_a+I_c_b                                    #Sending end current(A)\n",
      "V_s_b = V_b+I_s_b*Z/2                                  #Sending end voltage(V)\n",
      "V_s_b_ll = 3**0.5*V_s_b                                #Sending end line voltage(V)\n",
      "V_s_b_llkv = V_s_b_ll/1000.0                           #Sending end line voltage(kV)\n",
      "angle_V_Is_b = cmath.phase(I_s_b)*180/math.pi          #Angle between V_r and I_s_b(\u00b0)\n",
      "angle_V_Vs_b = cmath.phase(V_s_b)*180/math.pi          #Angle between V_r and V_s_b(\u00b0)\n",
      "angle_Is_Vs_b = angle_V_Is_b-angle_V_Vs_b              #Angle between V_s_b and I_s_b(\u00b0)\n",
      "PF_s_b = math.cos(angle_Is_Vs_b*math.pi/180)           #Sending end power factor\n",
      "P_s_b = 3**0.5*abs(V_s_b_ll*I_s_b)*PF_s_b              #Sending end power(W)\n",
      "n_b = P_r/P_s_b*100                                    #Efficiency of transmission(%)\n",
      "reg_b = (abs(V_s_b_ll)-V_r)/V_r*100                    #Voltage regulation(%)\n",
      "A_b = 1+(1.0/2)*Y*Z                                    #Constant\n",
      "B_b = Z*(1+(1.0/4)*Y*Z)                                #Constant(ohm)\n",
      "C_b =Y                                                 #Constant(mho)\n",
      "D_b = A_b                                              #Constant\n",
      "#Alternative solution for case(b)\n",
      "V_s_ba = A_b*V_r_a+B_b*I_r_a                           #Sending end voltage(V)\n",
      "V_s_ba_ll = 3**0.5*V_s_ba                              #Sending end line voltage(V)\n",
      "V_s_ba_llkv = V_s_ba_ll/1000.0                         #Sending end line voltage(kV)\n",
      "I_s_ba = C_b*V_r_a+D_b*I_r_a                           #Sending end current(A)\n",
      "angle_V_Is_ba = cmath.phase(I_s_ba)*180/math.pi        #Angle between V_r and I_s_b(\u00b0)\n",
      "angle_V_Vs_ba = cmath.phase(V_s_ba)*180/math.pi        #Angle between V_r and V_s_b(\u00b0)\n",
      "angle_Is_Vs_ba = angle_V_Is_ba-angle_V_Vs_ba           #Angle between V_s_b and I_s_b(\u00b0)\n",
      "PF_s_ba = math.cos(angle_Is_Vs_ba*math.pi/180)         #Sending end power factor\n",
      "P_s_ba = 3**0.5*abs(V_s_ba_ll*I_s_ba)*PF_s_ba          #Sending end power(W)\n",
      "n_ba = P_r/P_s_ba*100                                  #Efficiency of transmission(%)\n",
      "reg_ba = (abs(V_s_ba_ll)-V_r)/V_r*100                  #Voltage regulation(%)\n",
      "#Case(c)\n",
      "I_c2_c = Y/2.0*V_r_a                              #Current through shunt admittance at receiving end(A)\n",
      "I_c = I_r_a+I_c2_c                                #Current through impedance(A)\n",
      "V_s_c = V_r_a+I_c*Z                               #Sending end voltage(V)\n",
      "V_s_c_ll = 3**0.5*V_s_c                           #Sending end line voltage(V)\n",
      "V_s_c_llkv = V_s_c_ll/1000.0                      #Sending end line voltage(kV)\n",
      "I_c1_c = V_s_c*Y/2.0                              #Current through shunt admittance at sending end(A)\n",
      "I_s_c = I_c+I_c1_c                                #Sending end current(A)\n",
      "angle_V_Is_c = cmath.phase(I_s_c)*180/math.pi     #Angle between V_r and I_s_c(\u00b0)\n",
      "angle_V_Vs_c = cmath.phase(V_s_c)*180/math.pi     #Angle between V_r and V_s_c(\u00b0)\n",
      "angle_Is_Vs_c = angle_V_Is_c-angle_V_Vs_c         #Angle between V_s_c and I_s_c(\u00b0)\n",
      "PF_s_c = math.cos(angle_Is_Vs_c*math.pi/180)      #Sending end power factor\n",
      "P_s_c = 3**0.5*abs(V_s_c_ll*I_s_c)*PF_s_c         #Sending end power(W)\n",
      "n_c = P_r/P_s_c*100                               #Efficiency of transmission(%)\n",
      "reg_c = (abs(V_s_c_ll)-V_r)/V_r*100               #Voltage regulation(%)\n",
      "A_c = 1+(1.0/2)*Y*Z                               #Constant\n",
      "B_c = Z                                           #Constant(ohm)\n",
      "C_c =Y*(1+(1.0/4)*Y*Z)                            #Constant(mho)\n",
      "D_c = A_c                                         #Constant\n",
      "#Alternative solution for case(c)\n",
      "V_s_ca = A_c*V_r_a+B_c*I_r_a                      #Sending end voltage(V)\n",
      "V_s_ca_ll = 3**0.5*V_s_ca                         #Sending end line voltage(V)\n",
      "V_s_ca_llkv = V_s_ca_ll/1000.0                    #Sending end line voltage(kV)\n",
      "I_s_ca = C_c*V_r_a+D_c*I_r_a                      #Sending end current(A)\n",
      "angle_V_Is_ca = cmath.phase(I_s_ca)*180/math.pi   #Angle between V_r and I_s_c(\u00b0)\n",
      "angle_V_Vs_ca = cmath.phase(V_s_ca)*180/math.pi   #Angle between V_r and V_s_c(\u00b0)\n",
      "angle_Is_Vs_ca = angle_V_Is_ca-angle_V_Vs_ca      #Angle between V_s_b and I_s_c(\u00b0)\n",
      "PF_s_ca = math.cos(angle_Is_Vs_ca*math.pi/180)    #Sending end power factor\n",
      "P_s_ca = 3**0.5*abs(V_s_ca_ll*I_s_ca)*PF_s_ca     #Sending end power(W)\n",
      "n_ca = P_r/P_s_ca*100                             #Efficiency of transmission(%)\n",
      "reg_ca = (abs(V_s_ca_ll)-V_r)/V_r*100             #Voltage regulation(%)\n",
      "#Case(d).(i)\n",
      "gamma_l = (Y*Z)**0.5                                                #\u03b3l\n",
      "Z_c = (Z/Y)**0.5                                                    #Surge impedance(ohm)\n",
      "V_s_d1 = V_r_a*cmath.cosh(gamma_l)+I_r_a*Z_c*cmath.sinh(gamma_l)    #Sending end voltage(V)\n",
      "V_s_d1_ll = 3**0.5*V_s_d1                                           #Sending end line voltage(V)\n",
      "V_s_d1_llkv = V_s_d1_ll/1000.0                                      #Sending end line voltage(kV)\n",
      "I_s_d1 = V_r_a/Z_c*cmath.sinh(gamma_l)+I_r_a*cmath.cosh(gamma_l)    #Sending end current(A)\n",
      "angle_V_Is_d1 = cmath.phase(I_s_d1)*180/math.pi                     #Angle between V_r and I_s_d(\u00b0)\n",
      "angle_V_Vs_d1 = cmath.phase(V_s_d1)*180/math.pi                     #Angle between V_r and V_s_d(\u00b0)\n",
      "angle_Is_Vs_d1 = angle_V_Is_d1-angle_V_Vs_d1                        #Angle between V_s_d and I_s_d(\u00b0)\n",
      "PF_s_d1 = math.cos(angle_Is_Vs_d1*math.pi/180)                      #Sending end power factor\n",
      "P_s_d1 = 3**0.5*abs(V_s_d1_ll*I_s_d1)*PF_s_d1                       #Sending end power(W)\n",
      "n_d1 = P_r/P_s_d1*100                                               #Efficiency of transmission(%)\n",
      "reg_d1 = (abs(V_s_d1_ll)-V_r)/V_r*100                               #Voltage regulation(%)\n",
      "A_d1 = cmath.cosh(gamma_l)                                          #Constant\n",
      "B_d1 = Z_c*cmath.sinh(gamma_l)                                      #Constant(ohm)\n",
      "C_d1 = (1/Z_c)*cmath.sinh(gamma_l)                                  #Constant(mho)\n",
      "D_d1 = A_d1                                                         #Constant\n",
      "#Case(d).(ii)\n",
      "A_d2 = (1+(Y*Z/2)+((Y*Z)**2/24.0))                       #Constant\n",
      "B_d2 = Z*(1+(Y*Z/6)+((Y*Z)**2/120))                      #Constant(ohm)\n",
      "C_d2 = Y*(1+(Y*Z/6)+((Y*Z)**2/120))                      #Constant(mho)\n",
      "D_d2 = A_d2                                              #Constant\n",
      "V_s_d2 = A_d2*V_r_a+B_d2*I_r_a                           #Sending end voltage(V)\n",
      "V_s_d2_ll = 3**0.5*V_s_d2                                #Sending end line voltage(V)\n",
      "V_s_d2_llkv = V_s_d2_ll/1000.0                           #Sending end line voltage(kV)\n",
      "I_s_d2 = C_d2*V_r_a+D_d2*I_r_a                           #Sending end current(A)\n",
      "angle_V_Is_d2 = cmath.phase(I_s_d2)*180/math.pi          #Angle between V_r and I_s_d(\u00b0)\n",
      "angle_V_Vs_d2 = cmath.phase(V_s_d2)*180/math.pi          #Angle between V_r and V_s_d(\u00b0)\n",
      "angle_Is_Vs_d2 = angle_V_Is_d2-angle_V_Vs_d2             #Angle between V_s_d and I_s_d(\u00b0)\n",
      "PF_s_d2 = math.cos(angle_Is_Vs_d2*math.pi/180)           #Sending end power factor\n",
      "P_s_d2 = 3**0.5*abs(V_s_d2_ll*I_s_d2)*PF_s_d2            #Sending end power(W)\n",
      "n_d2 = P_r/P_s_d2*100                                    #Efficiency of transmission(%)\n",
      "reg_d2 = (abs(V_s_d2_ll)-V_r)/V_r*100                    #Voltage regulation(%)\n",
      "\n",
      "#Result\n",
      "print('Case(a): Short line approximation')\n",
      "print('Sending end voltage, V_s = %.1f\u2220%.1f\u00b0 kV (line-to-line)' %(abs(V_s_a_llkv),cmath.phase(V_s_a_llkv)*180/math.pi))\n",
      "print('Voltage regulation = %.1f percent' %reg_a)\n",
      "print('Transmission efficiency, \u03b7 = %.1f percent' %n_a)\n",
      "print('A = D = %.f ' %A_a)\n",
      "print('B = %.1f\u2220%.1f\u00b0 ohm' %(abs(B_a),cmath.phase(B_a)*180/math.pi))\n",
      "print('C = %.f ' %C_a)\n",
      "print('\\nCase(b): Nominal T method approximation')\n",
      "print('Sending end voltage, V_s = %.1f\u2220%.1f\u00b0 kV (line-to-line)' %(abs(V_s_b_llkv),cmath.phase(V_s_b_llkv)*180/math.pi))\n",
      "print('Voltage regulation = %.2f percent' %reg_b)\n",
      "print('Transmission efficiency, \u03b7 = %.1f percent' %n_b)\n",
      "print('A = D = %.3f\u2220%.2f\u00b0 ' %(abs(A_b),cmath.phase(A_b)*180/math.pi))\n",
      "print('B = %.1f\u2220%.1f\u00b0 ohm' %(abs(B_b),cmath.phase(B_b)*180/math.pi))\n",
      "print('C = %.2e\u2220%.f\u00b0 S' %(abs(C_b),cmath.phase(C_b)*180/math.pi))\n",
      "print('\\tALTERNATIVE SOLUTION:')\n",
      "print('\\tSending end voltage, V_s = %.1f\u2220%.1f\u00b0 kV (line-to-line)' %(abs(V_s_ba_llkv),cmath.phase(V_s_ba_llkv)*180/math.pi))\n",
      "print('\\tVoltage regulation = %.2f percent' %reg_ba)\n",
      "print('\\tTransmission efficiency, \u03b7 = %.1f percent' %n_ba)\n",
      "print('\\tA = D = %.3f\u2220%.2f\u00b0 ' %(abs(A_b),cmath.phase(A_b)*180/math.pi))\n",
      "print('\\tB = %.1f\u2220%.1f\u00b0 ohm' %(abs(B_b),cmath.phase(B_b)*180/math.pi))\n",
      "print('\\tC = %.2e\u2220%.f\u00b0 S' %(abs(C_b),cmath.phase(C_b)*180/math.pi))\n",
      "print('\\nCase(c): Nominal \u03c0 method approximation')\n",
      "print('Sending end voltage, V_s = %.f\u2220%.1f\u00b0 kV (line-to-line)' %(abs(V_s_c_llkv),cmath.phase(V_s_c_llkv)*180/math.pi))\n",
      "print('Voltage regulation = %.2f percent' %reg_c)\n",
      "print('Transmission efficiency, \u03b7 = %.1f percent' %n_c)\n",
      "print('A = D = %.3f\u2220%.2f\u00b0 ' %(abs(A_c),cmath.phase(A_c)*180/math.pi))\n",
      "print('B = %.1f\u2220%.1f\u00b0 ohm' %(abs(B_c),cmath.phase(B_c)*180/math.pi))\n",
      "print('C = %.2e\u2220%.1f\u00b0 mho' %(abs(C_c),cmath.phase(C_c)*180/math.pi))\n",
      "print('\\tALTERNATIVE SOLUTION:')\n",
      "print('\\tSending end voltage, V_s = %.1f\u2220%.1f\u00b0 kV (line-to-line)' %(abs(V_s_ca_llkv),cmath.phase(V_s_ca_llkv)*180/math.pi))\n",
      "print('\\tVoltage regulation = %.2f percent' %reg_ca)\n",
      "print('\\tTransmission efficiency, \u03b7 = %.1f percent' %n_ca)\n",
      "print('\\tA = D = %.3f\u2220%.2f\u00b0 ' %(abs(A_c),cmath.phase(A_c)*180/math.pi))\n",
      "print('\\tB = %.1f\u2220%.1f\u00b0 ohm' %(abs(B_c),cmath.phase(B_c)*180/math.pi))\n",
      "print('\\tC = %.2e\u2220%.f\u00b0 S' %(abs(C_c),cmath.phase(C_c)*180/math.pi))\n",
      "print('\\nCase(d): Long Line Rigorous Solution')\n",
      "print(' Case(i): Using Convergent Series (Real Angles) Method')\n",
      "print(' Sending end voltage, V_s = %.f\u2220%.1f\u00b0 kV (line-to-line)' %(abs(V_s_d1_llkv),cmath.phase(V_s_d1_llkv)*180/math.pi))\n",
      "print(' Voltage regulation = %.2f percent' %reg_d1)\n",
      "print(' Transmission efficiency, \u03b7 = %.1f percent' %n_d1)\n",
      "print(' A = D = %.3f\u2220%.2f\u00b0 ' %(abs(A_d1),cmath.phase(A_d1)*180/math.pi))\n",
      "print(' B = %.f\u2220%.1f\u00b0 ohm' %(abs(B_d1),cmath.phase(B_d1)*180/math.pi))\n",
      "print(' C = %.2e\u2220%.1f\u00b0 mho' %(abs(C_d1),cmath.phase(C_d1)*180/math.pi))\n",
      "print('\\n Case(ii): Using Convergent Series (Complex Angles) Method')\n",
      "print(' Sending end voltage, V_s = %.f\u2220%.1f\u00b0 kV (line-to-line)' %(abs(V_s_d2_llkv),cmath.phase(V_s_d2_llkv)*180/math.pi))\n",
      "print(' Voltage regulation = %.2f percent' %reg_d2)\n",
      "print(' Transmission efficiency, \u03b7 = %.1f percent' %n_d2)\n",
      "print(' A = D = %.3f\u2220%.2f\u00b0 ' %(abs(A_d2),cmath.phase(A_d2)*180/math.pi))\n",
      "print(' B = %.1f\u2220%.1f\u00b0 ohm' %(abs(B_d2),cmath.phase(B_d2)*180/math.pi))\n",
      "print(' C = %.2e\u2220%.1f\u00b0 mho' %(abs(C_d2),cmath.phase(C_d2)*180/math.pi))\n",
      "print('\\nNOTE: Changes in obtained answer from that of textbook is due to more precision')"
     ],
     "language": "python",
     "metadata": {},
     "outputs": [
      {
       "output_type": "stream",
       "stream": "stdout",
       "text": [
        "Case(a): Short line approximation\n",
        "Sending end voltage, V_s = 239.7\u22205.4\u00b0 kV (line-to-line)\n",
        "Voltage regulation = 9.0 percent\n",
        "Transmission efficiency, \u03b7 = 96.6 percent\n",
        "A = D = 1 \n",
        "B = 144.3\u222076.0\u00b0 ohm\n",
        "C = 0 \n",
        "\n",
        "Case(b): Nominal T method approximation\n",
        "Sending end voltage, V_s = 225.0\u22206.5\u00b0 kV (line-to-line)\n",
        "Voltage regulation = 2.28 percent\n",
        "Transmission efficiency, \u03b7 = 96.4 percent\n",
        "A = D = 0.935\u22201.00\u00b0 \n",
        "B = 139.6\u222076.4\u00b0 ohm\n",
        "C = 9.30e-04\u222090\u00b0 S\n",
        "\tALTERNATIVE SOLUTION:\n",
        "\tSending end voltage, V_s = 225.0\u22206.5\u00b0 kV (line-to-line)\n",
        "\tVoltage regulation = 2.28 percent\n",
        "\tTransmission efficiency, \u03b7 = 96.4 percent\n",
        "\tA = D = 0.935\u22201.00\u00b0 \n",
        "\tB = 139.6\u222076.4\u00b0 ohm\n",
        "\tC = 9.30e-04\u222090\u00b0 S\n",
        "\n",
        "Case(c): Nominal \u03c0 method approximation\n",
        "Sending end voltage, V_s = 226\u22206.6\u00b0 kV (line-to-line)\n",
        "Voltage regulation = 2.67 percent\n",
        "Transmission efficiency, \u03b7 = 97.2 percent\n",
        "A = D = 0.935\u22201.00\u00b0 \n",
        "B = 144.3\u222076.0\u00b0 ohm\n",
        "C = 9.00e-04\u222090.5\u00b0 mho\n",
        "\tALTERNATIVE SOLUTION:\n",
        "\tSending end voltage, V_s = 225.9\u22206.6\u00b0 kV (line-to-line)\n",
        "\tVoltage regulation = 2.67 percent\n",
        "\tTransmission efficiency, \u03b7 = 97.2 percent\n",
        "\tA = D = 0.935\u22201.00\u00b0 \n",
        "\tB = 144.3\u222076.0\u00b0 ohm\n",
        "\tC = 9.00e-04\u222090\u00b0 S\n",
        "\n",
        "Case(d): Long Line Rigorous Solution\n",
        " Case(i): Using Convergent Series (Real Angles) Method\n",
        " Sending end voltage, V_s = 225\u22206.5\u00b0 kV (line-to-line)\n",
        " Voltage regulation = 2.47 percent\n",
        " Transmission efficiency, \u03b7 = 97.0 percent\n",
        " A = D = 0.936\u22200.98\u00b0 \n",
        " B = 141\u222076.3\u00b0 ohm\n",
        " C = 9.10e-04\u222090.3\u00b0 mho\n",
        "\n",
        " Case(ii): Using Convergent Series (Complex Angles) Method\n",
        " Sending end voltage, V_s = 225\u22206.5\u00b0 kV (line-to-line)\n",
        " Voltage regulation = 2.47 percent\n",
        " Transmission efficiency, \u03b7 = 97.0 percent\n",
        " A = D = 0.936\u22200.97\u00b0 \n",
        " B = 141.2\u222076.3\u00b0 ohm\n",
        " C = 9.10e-04\u222090.3\u00b0 mho\n",
        "\n",
        "NOTE: Changes in obtained answer from that of textbook is due to more precision\n"
       ]
      }
     ],
     "prompt_number": 1
    },
    {
     "cell_type": "heading",
     "level": 2,
     "metadata": {},
     "source": [
      "Example 2.3.21, Page number 153"
     ]
    },
    {
     "cell_type": "code",
     "collapsed": false,
     "input": [
      "import math\n",
      "import cmath\n",
      "\n",
      "#Variable declaration\n",
      "V_r = 132.0*10**3                              #Line voltage at receiving end(V)\n",
      "P_L = 45.0*10**6                               #Load delivered(VA)\n",
      "PF_r = 0.8                                     #Lagging power factor\n",
      "A = 0.99*cmath.exp(1j*0.3*math.pi/180)         #Constant\n",
      "B = 70.0*cmath.exp(1j*69.0*math.pi/180)        #Constant(ohms)\n",
      "C = A                                          #Constant\n",
      "D = 4.0*10**-4*cmath.exp(1j*90.0*math.pi/180)  #Constant\n",
      "\n",
      "#Calculation\n",
      "E_r = V_r/3**0.5                                          #Receiving end phase voltage(V)\n",
      "I_r = P_L/(3**0.5*V_r)*cmath.exp(1j*-math.acos(PF_r))     #Line current(A)\n",
      "E_s = A*E_r+B*I_r                                         #Sending end voltage(V)\n",
      "E_s_llkV = 3**0.5*E_s/1000.0                              #Sending end line voltage(kV)\n",
      "I_s = C*I_r+D*E_r                                         #Sending end current(A)\n",
      "angle_Er_Es = cmath.phase(E_s)*180/math.pi                #Angle between E_r and E_s(\u00b0)\n",
      "angle_Er_Is = cmath.phase(I_s)*180/math.pi                #Angle between E_r and I_s(\u00b0)\n",
      "angle_Es_Is = angle_Er_Es-angle_Er_Is                     #Angle between E_s and I_s(\u00b0)\n",
      "PF_s = math.cos(angle_Es_Is*math.pi/180)                  #Sending end power factor\n",
      "P_s = 3*abs(E_s*I_s)*PF_s                                 #Sending end power(W)\n",
      "P_skW = P_s/1000.0                                        #Sending end power(kW)\n",
      "P_r = P_L*PF_r                                            #Receiving end power(W)\n",
      "n = P_r/P_s*100                                           #Transmission efficiency(%)\n",
      "\n",
      "#Result\n",
      "print('Case(i)  : Sending end voltage, E_s = %.1f\u2220%.f\u00b0 kV (line-to-line)' %(abs(E_s_llkV),cmath.phase(E_s_llkV)*180/math.pi))\n",
      "print('Case(ii) : Sending end current, I_s = %.1f\u2220%.1f\u00b0 A' %(abs(I_s),cmath.phase(I_s)*180/math.pi))\n",
      "print('Case(iii): Sending end power, P_s = %.f kW' %(P_skW))\n",
      "print('Case(iv) : Efficiency of transmission = %.2f percent' %n)\n",
      "print('\\nNOTE: Changes in obtained answer from that textbook is due to more precision')"
     ],
     "language": "python",
     "metadata": {},
     "outputs": [
      {
       "output_type": "stream",
       "stream": "stdout",
       "text": [
        "Case(i)  : Sending end voltage, E_s = 151.5\u22205\u00b0 kV (line-to-line)\n",
        "Case(ii) : Sending end current, I_s = 178.4\u2220-28.7\u00b0 A\n",
        "Case(iii): Sending end power, P_s = 38915 kW\n",
        "Case(iv) : Efficiency of transmission = 92.51 percent\n",
        "\n",
        "NOTE: Changes in obtained answer from that textbook is due to more precision\n"
       ]
      }
     ],
     "prompt_number": 1
    },
    {
     "cell_type": "heading",
     "level": 2,
     "metadata": {},
     "source": [
      "Example 2.3.23, Page number 156"
     ]
    },
    {
     "cell_type": "code",
     "collapsed": false,
     "input": [
      "import math\n",
      "import cmath\n",
      "\n",
      "#Variable declaration\n",
      "A_1 = 0.98*cmath.exp(1j*2.0*math.pi/180)         #Constant of 1st line\n",
      "B_1 = 28.0*cmath.exp(1j*69.0*math.pi/180)        #Constant of 1st line(ohms)\n",
      "C_1 = 0.0002*cmath.exp(1j*88.0*math.pi/180)      #Constant of 1st line(mho)\n",
      "D_1 = A_1                                        #Constant of 1st line\n",
      "A_2 = 0.95*cmath.exp(1j*3.0*math.pi/180)         #Constant of 2nd line\n",
      "B_2 = 40.0*cmath.exp(1j*85.0*math.pi/180)        #Constant of 2nd line(ohms)\n",
      "C_2 = 0.0004*cmath.exp(1j*90.0*math.pi/180)      #Constant of 2nd line(mho)\n",
      "D_2 = A_2                                        #Constant of 2nd line\n",
      "\n",
      "#Calculation\n",
      "A = A_1*A_2+B_1*C_2         #Constant\n",
      "B = A_1*B_2+B_1*D_2         #Constant(ohm)\n",
      "C = C_1*A_2+D_1*C_2         #Constant(mho)\n",
      "D = C_1*B_2+D_1*D_2         #Constant\n",
      "\n",
      "#Result\n",
      "print('A = %.3f\u2220%.1f\u00b0 ' %(abs(A),cmath.phase(A)*180/math.pi))\n",
      "print('B = %.1f\u2220%.f\u00b0 ohm' %(abs(B),cmath.phase(B)*180/math.pi))\n",
      "print('C = %.6f\u2220%.1f\u00b0 mho' %(abs(C),cmath.phase(C)*180/math.pi))\n",
      "print('D = %.3f\u2220%.1f\u00b0 ' %(abs(D),cmath.phase(D)*180/math.pi))"
     ],
     "language": "python",
     "metadata": {},
     "outputs": [
      {
       "output_type": "stream",
       "stream": "stdout",
       "text": [
        "A = 0.921\u22205.3\u00b0 \n",
        "B = 65.3\u222081\u00b0 ohm\n",
        "C = 0.000582\u222091.7\u00b0 mho\n",
        "D = 0.923\u22205.1\u00b0 \n"
       ]
      }
     ],
     "prompt_number": 1
    },
    {
     "cell_type": "heading",
     "level": 2,
     "metadata": {},
     "source": [
      "Example 2.3.24, Page number 156-157"
     ]
    },
    {
     "cell_type": "code",
     "collapsed": false,
     "input": [
      "import math\n",
      "import cmath\n",
      "\n",
      "#Variable declaration\n",
      "A = 0.94*cmath.exp(1j*1.5*math.pi/180)         #Constant\n",
      "B = 150.0*cmath.exp(1j*67.2*math.pi/180)       #Constant(ohm)\n",
      "D = A                                          #Constant\n",
      "Y_t = 0.00025*cmath.exp(1j*-75.0*math.pi/180)  #Shunt admittance(mho)\n",
      "Z_t = 100.0*cmath.exp(1j*70.0*math.pi/180)     #Series impedance(ohm)\n",
      "\n",
      "#Calculation\n",
      "C = (A*D-1)/B               #Constant(mho)\n",
      "A_0 = A*(1+Y_t*Z_t)+B*Y_t   #Constant\n",
      "B_0 = A*Z_t+B               #Constant(ohm)\n",
      "C_0 = C*(1+Y_t*Z_t)+D*Y_t   #Constant(mho)\n",
      "D_0 = C*Z_t+D               #Constant\n",
      "\n",
      "#Result\n",
      "print('A_0 = %.3f\u2220%.f\u00b0 ' %(abs(A_0),cmath.phase(A_0)*180/math.pi))\n",
      "print('B_0 = %.f\u2220%.1f\u00b0 ohm' %(abs(B_0),cmath.phase(B_0)*180/math.pi))\n",
      "print('C_0 = %.6f\u2220%.1f\u00b0 mho' %(abs(C_0),cmath.phase(C_0)*180/math.pi))\n",
      "print('D_0 = %.3f\u2220%.1f\u00b0 ' %(abs(D_0),cmath.phase(D_0)*180/math.pi))\n",
      "print('\\nNOTE: Changes in obtained answer from that of textbook is due to more precision')"
     ],
     "language": "python",
     "metadata": {},
     "outputs": [
      {
       "output_type": "stream",
       "stream": "stdout",
       "text": [
        "A_0 = 1.000\u22201\u00b0 \n",
        "B_0 = 244\u222068.9\u00b0 ohm\n",
        "C_0 = 0.000640\u222085.7\u00b0 mho\n",
        "D_0 = 0.861\u22203.4\u00b0 \n",
        "\n",
        "NOTE: Changes in obtained answer from that of textbook is due to more precision\n"
       ]
      }
     ],
     "prompt_number": 1
    },
    {
     "cell_type": "heading",
     "level": 2,
     "metadata": {},
     "source": [
      "Example 2.3.25, Page number 163"
     ]
    },
    {
     "cell_type": "code",
     "collapsed": false,
     "input": [
      "import math\n",
      "\n",
      "#Variable declaration\n",
      "z = complex(0.2,0.6)     #Per phase impedance(ohm)\n",
      "V_r = 6351.0             #Receiving end voltage per phase(V)\n",
      "reg = 7.5/100.0          #Voltage regulation\n",
      "\n",
      "#Calculation\n",
      "V_s = (1+reg)*V_r                                  #Sending end voltage per phase(V)\n",
      "R = z.real                                         #Resistance of the line(ohm)\n",
      "X = z.imag                                         #Reactance of the line(ohm)\n",
      "Z = (R**2+X**2)**0.5                               #Impedance per phase(ohm)\n",
      "P_m = (V_r**2/Z)*((Z*V_s/V_r)-R)                   #Maximum power transmitted through line(W/phase)\n",
      "P_m_MW = P_m/10**6                                 #Maximum power transmitted through line(MW/phase)\n",
      "P_m_MWtotal = 3*P_m_MW                             #Total maximum power(MW)\n",
      "Q = -(V_r**2*X)/Z**2                               #Reactive power per phase(Var)\n",
      "Q_MW = Q/10**6                                     #Reactive power per phase(MVAR)\n",
      "phi_r = math.atan(abs(Q_MW/P_m_MW))*180/math.pi    #\u03a6_r(\u00b0)\n",
      "PF_r = math.cos(phi_r*math.pi/180)                 #Receiving end lagging PF\n",
      "I = P_m/(V_r*PF_r)                                 #Current delivered(A)\n",
      "I_KA = I/1000.0                                    #Current delivered(KA)\n",
      "loss = 3*I**2*R                                    #Total line loss(W)\n",
      "loss_MW = loss/10**6                               #Total line loss(MW)\n",
      "\n",
      "#Result\n",
      "print('Maximum power transmitted through the line, P_m = %.1f MW' %P_m_MWtotal)\n",
      "print('Receiving end power factor = %.2f (lagging)' %PF_r)\n",
      "print('Total line loss = %.2f MW' %loss_MW)"
     ],
     "language": "python",
     "metadata": {},
     "outputs": [
      {
       "output_type": "stream",
       "stream": "stdout",
       "text": [
        "Maximum power transmitted through the line, P_m = 91.8 MW\n",
        "Receiving end power factor = 0.45 (lagging)\n",
        "Total line loss = 68.39 MW\n"
       ]
      }
     ],
     "prompt_number": 1
    },
    {
     "cell_type": "heading",
     "level": 2,
     "metadata": {},
     "source": [
      "Example 2.3.26, Page number 163-164"
     ]
    },
    {
     "cell_type": "code",
     "collapsed": false,
     "input": [
      "import math\n",
      "import cmath\n",
      "\n",
      "#Variable declaration\n",
      "L = 100.0              #Length of line(km)\n",
      "PF_r = 1.0             #Receiving end Power factor\n",
      "Z_c = 400.0            #Characteristic impedance(ohm)\n",
      "beta = 1.2*10**-3      #Propagation constant(rad/km)\n",
      "V_s = 230.0            #Sending end voltage(kV)\n",
      "\n",
      "#Calculation\n",
      "beta_L = beta*L                             #(rad)\n",
      "beta_L_d = beta_L*180/math.pi               #(\u00b0)\n",
      "A = math.cos(beta_L)                        #Constant\n",
      "B = 1j*Z_c*math.sin(beta_L)                 #Constant\n",
      "alpha_angle = cmath.phase(A)*180/math.pi    #\u03b1(\u00b0)\n",
      "beta_angle = cmath.phase(B)*180/math.pi     #\u03b2(\u00b0)\n",
      "V_r = V_s                                   #Receiving end voltage due to lossless line(kV)\n",
      "P_max = (V_s*V_r/abs(B))-(abs(A)*V_r**2/abs(B))*math.cos((beta_angle-alpha_angle)*math.pi/180)   #Maximum power transferred(MW)\n",
      "\n",
      "#Result\n",
      "print('Maximum power that can be transferred to the load at receiving end, P_max = %.f MW' %P_max)\n",
      "print('\\nNOTE: Changes in obtained answer from that of textbook is due to more precision')"
     ],
     "language": "python",
     "metadata": {},
     "outputs": [
      {
       "output_type": "stream",
       "stream": "stdout",
       "text": [
        "Maximum power that can be transferred to the load at receiving end, P_max = 1105 MW\n",
        "\n",
        "NOTE: Changes in obtained answer from that of textbook is due to more precision\n"
       ]
      }
     ],
     "prompt_number": 1
    },
    {
     "cell_type": "heading",
     "level": 2,
     "metadata": {},
     "source": [
      "Example 2.3.27, Page number 168-170"
     ]
    },
    {
     "cell_type": "code",
     "collapsed": false,
     "input": [
      "import math\n",
      "import cmath\n",
      "\n",
      "#Variable declaration\n",
      "L = 160.0                                        #Length of line(km)\n",
      "P_r = 90.0*10**6                                 #Load(W)\n",
      "PF_r = 0.85                                      #Receiving end lagging power factor\n",
      "E_r = 230.0*10**3                                #Receiving end voltage(V)\n",
      "A = 0.9785*cmath.exp(1j*0.3*math.pi/180)         #Constant\n",
      "B = 85.2*cmath.exp(1j*77.47*math.pi/180)         #Constant(ohm)\n",
      "C = 0.000503*cmath.exp(1j*90.1*math.pi/180)      #Constant(mho)\n",
      "D = A                                            #Constant\n",
      "load_c = 120.0                                   #Load(MW). At case(c)\n",
      "\n",
      "#Calculation\n",
      "V_r = E_r/3**0.5                                  #Receiving end phase voltage(V)\n",
      "I_r = P_r/(3**0.5*E_r*PF_r)                       #Line current(A)\n",
      "#Case(a)\n",
      "V_s_ph = E_r*85.2/V_r                             #Sending end voltage per phase(kV)\n",
      "V_s = 3**0.5*V_s_ph                               #Sending end line voltage(kV)\n",
      "I_s = 36.0*10**6/(V_s_ph*10**3)                   #Sending end current(A)\n",
      "theta_s = 27.0                                    #\u03b8_s(\u00b0)\n",
      "PF_s = math.cos(theta_s*math.pi/180)              #Sending end power factor\n",
      "regulation = (V_s-(E_r/1000.0))/(E_r/1000.0)*100  #Regulation\n",
      "P_s = 3*V_s_ph*I_s*PF_s*1000.0                    #Sending end power(W)\n",
      "n = P_r/P_s*100                                   #Efficiency(%)\n",
      "#Case(b)\n",
      "load_b = 25.0*3                                   #Load carried for 8% regulation(MW)\n",
      "#Case(c)\n",
      "power_phase = load_c/3.0                          #Power per phase(MW)\n",
      "V_s_c = 238*85.2/(V_r/1000)                       #Voltage(kV)\n",
      "drop_phase_c = V_s_c-133.0                        #Drop per phase(kV)\n",
      "MVAR_phase_c = 16.0                               #MVAR per phase\n",
      "MVAR_c = 3*MVAR_phase_c                           #Total MVAR required\n",
      "#Case(d)\n",
      "MVAR_leading = 11.5*20                            #Leading MVAR per phase\n",
      "MVAR_3_d = 3*MVAR_leading                         #Leading MVAR for all 3 diagram\n",
      "#Case(e)\n",
      "P_e = 8.15*20                                     #Maximum power for one phase(MW)\n",
      "P_e_total = 3*P_e                                 #Maximum power for all three phases(MW)\n",
      "theta_e = 50.5                                    #\u03b8_r(\u00b0)\n",
      "PF_e = math.cos(theta_e*math.pi/180)              #Power factor\n",
      "\n",
      "#Result\n",
      "print('Case(a): Sending end voltage = %.f kV (line-to-line)' %V_s)\n",
      "print('         Sending end current, |I_s| = %.f A' %I_s)\n",
      "print('         Sending end power factor = %.2f ' %PF_s)\n",
      "print('         Regulation = %.1f percent' %regulation)\n",
      "print('         Efficiency of transmission line = %.1f percent' %n)\n",
      "print('Case(b): Load carried at 8 percent regulation = %.f MW' %load_b)\n",
      "print('Case(c): Voltage drop per phase = %.1f kV' %drop_phase_c)\n",
      "print('         Total MVAR required = %.f MVAR' %MVAR_c)\n",
      "print('Case(d): Leading MVAR = %.f MVAR' %MVAR_3_d)\n",
      "print('Case(e): Maximum power transmitted = %.f MW' %P_e_total)\n",
      "print('         Corresponding power factor = %.3f (leading)' %PF_e)\n",
      "print('\\nNOTE: ERROR: PF = 0.85, not PF = 0.8 as given in textbook statement')\n",
      "print('      All values are taken directly from textbook circle diagram')"
     ],
     "language": "python",
     "metadata": {},
     "outputs": [
      {
       "output_type": "stream",
       "stream": "stdout",
       "text": [
        "Case(a): Sending end voltage = 256 kV (line-to-line)\n",
        "         Sending end current, |I_s| = 244 A\n",
        "         Sending end power factor = 0.89 \n",
        "         Regulation = 11.1 percent\n",
        "         Efficiency of transmission line = 93.5 percent\n",
        "Case(b): Load carried at 8 percent regulation = 75 MW\n",
        "Case(c): Voltage drop per phase = 19.7 kV\n",
        "         Total MVAR required = 48 MVAR\n",
        "Case(d): Leading MVAR = 690 MVAR\n",
        "Case(e): Maximum power transmitted = 489 MW\n",
        "         Corresponding power factor = 0.636 (leading)\n",
        "\n",
        "NOTE: ERROR: PF = 0.85, not PF = 0.8 as given in textbook statement\n",
        "      All values are taken directly from textbook circle diagram\n"
       ]
      }
     ],
     "prompt_number": 1
    },
    {
     "cell_type": "heading",
     "level": 2,
     "metadata": {},
     "source": [
      "Example 2.3.28, Page number 170-172"
     ]
    },
    {
     "cell_type": "code",
     "collapsed": false,
     "input": [
      "import math\n",
      "import cmath\n",
      "\n",
      "#Variable declaration\n",
      "E_r = 220.0                                      #Receiving end voltage(kV)\n",
      "P_r = 75.0                                       #Load(MW)\n",
      "PF_r = 0.8                                       #Receiving end lagging power factor\n",
      "A = 0.9055*cmath.exp(1j*0.6*math.pi/180)         #Constant\n",
      "B = 156.0*cmath.exp(1j*84.5*math.pi/180)         #Constant(ohm)\n",
      "C = 0.00116*cmath.exp(1j*90.2*math.pi/180)       #Constant(mho)\n",
      "D = A                                            #Constant\n",
      "\n",
      "#Calculation\n",
      "#Case(i)\n",
      "P_base = E_r**2/abs(B)              #Base power(MW)\n",
      "V_s_pu = 1.135                      #Sending end voltage(p.u)\n",
      "V_s = V_s_pu*E_r                    #Sending end voltage(kV)\n",
      "delta = 11.8                        #Phase shift between sending & receiving end voltage(\u00b0)\n",
      "#Case(ii)\n",
      "P_s_real = 0.249*P_base             #Sending end real power(MW)\n",
      "P_s_reactive = 0.035*P_base         #Sending end reactive power(MW)\n",
      "line_loss = P_s_real-P_r            #Line loss(MW)\n",
      "#Case(iii)\n",
      "P_s_max = 1.26*P_base               #Sending end maximum power(MW)\n",
      "P_r_max = 1.035*P_base              #Receiving end maximum power(MW)\n",
      "#Case(iv)\n",
      "SPM_cap = 0.03*P_base               #SPM capacity to improve pf(MVAR)\n",
      "#Case(v)\n",
      "V_s_5 = 1.105*E_r                   #Sending end voltage(kV)\n",
      "reg = (V_s_5-E_r)/E_r*100           #Voltage regulation(%)\n",
      "reg_noSPM = (V_s-E_r)/E_r*100       #Voltage regulation without SPM(%)\n",
      "\n",
      "#Result\n",
      "print('Case(i)  : Sending end voltage = %.f kV' %V_s)\n",
      "print('           Phase shift between sending end & receiving end voltage, \u03b4 = %.1f\u00b0 ' %delta)\n",
      "print('Case(ii) : Sending end real power = %.1f MW' %P_s_real)\n",
      "print('           Sending end reactive power = %.2f MVAR' %P_s_reactive)\n",
      "print('           Line loss = %.1f MW' %line_loss)\n",
      "print('Case(iii): Maximum power transmitted from sending end = %.f MW' %P_s_max)\n",
      "print('           Maximum power received at receiving end = %.2f MW' %P_r_max)\n",
      "print('Case(iv) : SPM capacity to improve power factor = %.1f MVAR' %SPM_cap)\n",
      "print('Case(v)  : Voltage regulation with SPM = %.1f percent' %reg)\n",
      "print('           Voltage regulation without SPM = %.1f percent' %reg_noSPM)\n",
      "print('           Regulation is improved from %.1f to %.1f percent with SPM installation' %(reg_noSPM,reg))\n",
      "print('\\nNOTE: Some values are taken directly from textbook circle diagram')"
     ],
     "language": "python",
     "metadata": {},
     "outputs": [
      {
       "output_type": "stream",
       "stream": "stdout",
       "text": [
        "Case(i)  : Sending end voltage = 250 kV\n",
        "           Phase shift between sending end & receiving end voltage, \u03b4 = 11.8\u00b0 \n",
        "Case(ii) : Sending end real power = 77.3 MW\n",
        "           Sending end reactive power = 10.86 MVAR\n",
        "           Line loss = 2.3 MW\n",
        "Case(iii): Maximum power transmitted from sending end = 391 MW\n",
        "           Maximum power received at receiving end = 321.12 MW\n",
        "Case(iv) : SPM capacity to improve power factor = 9.3 MVAR\n",
        "Case(v)  : Voltage regulation with SPM = 10.5 percent\n",
        "           Voltage regulation without SPM = 13.5 percent\n",
        "           Regulation is improved from 13.5 to 10.5 percent with SPM installation\n",
        "\n",
        "NOTE: Some values are taken directly from textbook circle diagram\n"
       ]
      }
     ],
     "prompt_number": 1
    },
    {
     "cell_type": "heading",
     "level": 2,
     "metadata": {},
     "source": [
      "Example 2.3.29, Page number 172-173"
     ]
    },
    {
     "cell_type": "code",
     "collapsed": false,
     "input": [
      "import math\n",
      "import cmath\n",
      "\n",
      "#Variable declaration\n",
      "V_s = 250.0                                      #Sending end voltage(kV)\n",
      "V_r = 230.0                                      #Receiving end voltage(kV)\n",
      "A = 0.9785*cmath.exp(1j*0.3*math.pi/180)         #Constant\n",
      "B = 85.2*cmath.exp(1j*77.47*math.pi/180)         #Constant(ohm)\n",
      "D = A                                            #Constant\n",
      "\n",
      "#Calculation\n",
      "cos_beta = math.cos(cmath.phase(B))       #cos\u03b2\n",
      "line_loss_1 = 0.2*20*2*cos_beta           #Line loss when 90MW is supplied(MW/phase)\n",
      "line_loss_1_total = 3*line_loss_1         #Total line loss(MW)\n",
      "line_loss_2 = 0.13*20*2*cos_beta           #Minimum line loss(MW/phase)\n",
      "line_loss_2_total = 3*line_loss_2         #Total minimum line loss(MW)\n",
      "power = 3*0.2*20     #Receiving end power(MW)\n",
      "PF = 0.174     #Power factor\n",
      "\n",
      "#Result\n",
      "print('Line loss when 90MW is supplied to load at receiving end = %.2f MW/phase = %.2f MW (total)' %(line_loss_1,line_loss_1_total))\n",
      "print('Minimum line loss = %.3f MW/phase = %.3f MW (total)' %(line_loss_2,line_loss_2_total))\n",
      "print('Receiving end power = %.f MW' %power)\n",
      "print('Power factor = %.3f ' %PF)\n",
      "print('\\nNOTE: Changes in obtained answer from that of textbook is due to more precision')\n",
      "print('      Some values are taken directly from textbook circle diagram')"
     ],
     "language": "python",
     "metadata": {},
     "outputs": [
      {
       "output_type": "stream",
       "stream": "stdout",
       "text": [
        "Line loss when 90MW is supplied to load at receiving end = 1.74 MW/phase = 5.21 MW (total)\n",
        "Minimum line loss = 1.128 MW/phase = 3.384 MW (total)\n",
        "Receiving end power = 12 MW\n",
        "Power factor = 0.174 \n",
        "\n",
        "NOTE: Changes in obtained answer from that of textbook is due to more precision\n",
        "      Some values are taken directly from textbook circle diagram\n"
       ]
      }
     ],
     "prompt_number": 1
    }
   ],
   "metadata": {}
  }
 ]
}