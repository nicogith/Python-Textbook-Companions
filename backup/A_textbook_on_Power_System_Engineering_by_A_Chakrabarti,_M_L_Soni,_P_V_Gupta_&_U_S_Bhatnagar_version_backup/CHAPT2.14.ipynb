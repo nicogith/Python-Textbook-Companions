{
 "metadata": {
  "name": ""
 },
 "nbformat": 3,
 "nbformat_minor": 0,
 "worksheets": [
  {
   "cells": [
    {
     "cell_type": "heading",
     "level": 1,
     "metadata": {},
     "source": [
      "CHAPTER 2.14: LIGHTNING AND PROTECTION AGAINST OVERVOLTAGES DUE TO LIGHTNING"
     ]
    },
    {
     "cell_type": "heading",
     "level": 2,
     "metadata": {},
     "source": [
      "Example 2.14.1, Page number 382"
     ]
    },
    {
     "cell_type": "code",
     "collapsed": false,
     "input": [
      "#Variable declaration\n",
      "RI_072 = 72000.0     #Charactersistic of lightning arrester\n",
      "Z_c = 500.0          #Surge impedance(ohm)\n",
      "V = 500.0            #Surge voltage(kV)\n",
      "\n",
      "#Calculation\n",
      "#Case(a)\n",
      "V_a = 2.0*V            #Voltage at the end of line at open-circuit(kV)\n",
      "ratio_a = V_a/V        #Ratio of voltage when line in open-circuited\n",
      "#Case(b)\n",
      "I = V*1000/Z_c         #Surge current(A)\n",
      "R = RI_072/(I)**0.72   #Resistance of LA(ohm)\n",
      "ratio_b = R/Z_c        #Ratio of voltage when line is terminated by arrester\n",
      "\n",
      "#Result\n",
      "print('Case(a): Ratio of voltages appearing at the end of a line when line is open-circuited = %.f' %ratio_a)\n",
      "print('Case(b): Ratio of voltages appearing at the end of a line when line is terminated by arrester = %.f' %ratio_b)"
     ],
     "language": "python",
     "metadata": {},
     "outputs": [
      {
       "output_type": "stream",
       "stream": "stdout",
       "text": [
        "Case(a): Ratio of voltages appearing at the end of a line when line is open-circuited = 2\n",
        "Case(b): Ratio of voltages appearing at the end of a line when line is terminated by arrester = 1\n"
       ]
      }
     ],
     "prompt_number": 1
    },
    {
     "cell_type": "heading",
     "level": 2,
     "metadata": {},
     "source": [
      "Example 2.14.2, Page number 384"
     ]
    },
    {
     "cell_type": "code",
     "collapsed": false,
     "input": [
      "#Variable declaration\n",
      "rating = 5000.0       #Rating of transformer(kVA)\n",
      "V_hv = 66.0           #HV voltage(kV)\n",
      "V_lv = 11.0           #LV voltage(kV)\n",
      "V = 66.0              #System voltage(kV)\n",
      "fluctuation = 0.1     #Voltage fluctuations\n",
      "BIL = 350.0           #BIL for 66kV(kV)\n",
      "dynamic_ov = 1.3      #Dynamic over-voltage = 1.3*system operating voltage\n",
      "V_power_freq = 1.5    #Power frequency breakdown voltage of arrester = 1.5*arrester rating(kV)\n",
      "lower_limit = 0.05    #Margin of lower limit of arrester rating\n",
      "\n",
      "#Calculation & Result\n",
      "V_rating = V*(1+fluctuation)*0.8*(1+lower_limit)          #Voltage rating of arrester(kV)\n",
      "if(round(V_rating,1)==51):\n",
      "    V_rating_choosen = 50.0                               #Arrester rating choosen(kV)\n",
      "    V_discharge = 176.0                                   #Discharge voltage for 50kV arrester(kV)\n",
      "    protective_margin = BIL-V_discharge                   #Protective margin available(kV)\n",
      "    V_power_frequency_bd = V_rating_choosen*V_power_freq  #Power frequency breakdown voltage(kV)\n",
      "    Over_voltage_dynamic = dynamic_ov*V/3**0.5            #Dynamic overvoltage(kV)\n",
      "    if(V_power_frequency_bd>Over_voltage_dynamic):\n",
      "        print('First arrester with rating 50 kV (rms) & discharge voltage 176 kV chosen is suitable')\n",
      "if(round(V_rating,1)==61):\n",
      "    V_rating_choosen = 60.0                               #Arrester rating choosen(kV)\n",
      "    V_discharge = 220.0                                   #Discharge voltage for 50kV arrester(kV)\n",
      "    protective_margin = BIL-V_discharge                   #Protective margin available(kV)\n",
      "    V_power_frequency_bd = V_rating_choosen*V_power_freq  #Power frequency breakdown voltage(kV)\n",
      "    Over_voltage_dynamic = dynamic_ov*V/3**0.5            #Dynamic overvoltage(kV)\n",
      "    if(V_power_frequency_bd>Over_voltage_dynamic):\n",
      "        print('Second arrester with rating 60 kV (rms) & discharge voltage 220 kV chosen is suitable')\n",
      "if(round(V_rating,1)==74):\n",
      "    V_rating_choosen = 73.0                               #Arrester rating choosen(kV)\n",
      "    V_discharge = 264.0                                   #Discharge voltage for 50kV arrester(kV)\n",
      "    protective_margin = BIL-V_discharge                   #Protective margin available(kV)\n",
      "    V_power_frequency_bd = V_rating_choosen*V_power_freq  #Power frequency breakdown voltage(kV)\n",
      "    Over_voltage_dynamic = dynamic_ov*V/3**0.5            #Dynamic overvoltage(kV)\n",
      "    if(V_power_frequency_bd>Over_voltage_dynamic):\n",
      "        print('Second arrester with rating 73 kV (rms) & discharge voltage 264 kV chosen is suitable')"
     ],
     "language": "python",
     "metadata": {},
     "outputs": [
      {
       "output_type": "stream",
       "stream": "stdout",
       "text": [
        "Second arrester with rating 60 kV (rms) & discharge voltage 220 kV chosen is suitable\n"
       ]
      }
     ],
     "prompt_number": 1
    }
   ],
   "metadata": {}
  }
 ]
}