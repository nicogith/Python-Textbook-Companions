{
 "cells": [
  {
   "cell_type": "markdown",
   "metadata": {},
   "source": [
    "# Chapter9 - Directed Graphs"
   ]
  },
  {
   "cell_type": "markdown",
   "metadata": {},
   "source": [
    "## Ex9.1 Pg 233"
   ]
  },
  {
   "cell_type": "code",
   "execution_count": 2,
   "metadata": {
    "collapsed": false
   },
   "outputs": [
    {
     "name": "stdout",
     "output_type": "stream",
     "text": [
      "adjacency matrix of graph G is: \n",
      "[[0 0 0 1]\n",
      " [1 0 1 1]\n",
      " [1 0 0 1]\n",
      " [1 0 1 0]]\n",
      "the number of ones in A is equal to the number of edges  in the graph i.e 8\n"
     ]
    }
   ],
   "source": [
    "from numpy import mat\n",
    "A=mat([[0,0, 0, 1],[1, 0, 1, 1],[1, 0, 0, 1],[1, 0, 1, 0]])\n",
    "print 'adjacency matrix of graph G is: \\n',A\n",
    "A2=A**2\n",
    "A3=A**3\n",
    "print 'the number of ones in A is equal to the number of edges  in the graph i.e 8'"
   ]
  },
  {
   "cell_type": "markdown",
   "metadata": {},
   "source": [
    "## Ex9.2 Pg 234"
   ]
  },
  {
   "cell_type": "code",
   "execution_count": 3,
   "metadata": {
    "collapsed": false
   },
   "outputs": [
    {
     "name": "stdout",
     "output_type": "stream",
     "text": [
      "adjacency matrix of graph G is : \n",
      "[[0 0 0 1]\n",
      " [1 0 1 1]\n",
      " [1 0 0 1]\n",
      " [1 0 1 0]]\n",
      "Replacing non zero entries of B4 with 1 ,we get path (reachability) matrix P is:\n",
      "[1, 1, 1, 1, 0, 0, 0, 0, 1, 1, 1, 1, 1, 1, 1, 1]\n",
      "there are zero entries in P,therefore the graph is not strongly connected\n"
     ]
    }
   ],
   "source": [
    "A=mat([[0, 0, 0, 1],[1, 0, 1, 1],[1 ,0 ,0 ,1],[1, 0, 1, 0]])\n",
    "print 'adjacency matrix of graph G is : \\n',A\n",
    "A4=A**4#\n",
    "A3=A**3#\n",
    "A2=A**2#\n",
    "B4=A+A2+A3+A4#\n",
    "B4=[4, 11, 7 ,7 ,0, 0, 0 ,0 ,3 ,7 ,4 ,4 ,4, 11, 7, 7]\n",
    "for i in range(0,16):\n",
    "    if(B4[i]!=0):\n",
    "        B4[i]=1\n",
    "print 'Replacing non zero entries of B4 with 1 ,we get path (reachability) matrix P is:\\n',B4\n",
    "print 'there are zero entries in P,therefore the graph is not strongly connected'"
   ]
  }
 ],
 "metadata": {
  "kernelspec": {
   "display_name": "Python 2",
   "language": "python",
   "name": "python2"
  },
  "language_info": {
   "codemirror_mode": {
    "name": "ipython",
    "version": 2
   },
   "file_extension": ".py",
   "mimetype": "text/x-python",
   "name": "python",
   "nbconvert_exporter": "python",
   "pygments_lexer": "ipython2",
   "version": "2.7.9"
  }
 },
 "nbformat": 4,
 "nbformat_minor": 0
}
