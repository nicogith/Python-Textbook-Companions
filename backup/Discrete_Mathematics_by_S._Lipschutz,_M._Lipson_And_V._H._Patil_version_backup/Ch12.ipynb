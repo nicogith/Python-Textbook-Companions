{
 "cells": [
  {
   "cell_type": "markdown",
   "metadata": {},
   "source": [
    "# Chapter12- Algebric systems"
   ]
  },
  {
   "cell_type": "markdown",
   "metadata": {},
   "source": [
    "## Ex12.4 Pg 365"
   ]
  },
  {
   "cell_type": "code",
   "execution_count": 1,
   "metadata": {
    "collapsed": false
   },
   "outputs": [
    {
     "name": "stdout",
     "output_type": "stream",
     "text": [
      "since a and b are not equal so subtraction is non-commutative on Z(set of integers)\n",
      "since g and k are not equal matrix multiplication is non-commutative\n",
      "since h and j are not equal so exponential operation is non associative on the set of positive integers N\n"
     ]
    }
   ],
   "source": [
    "a=(8-4)-3\n",
    "b=8-(4-3)\n",
    "print 'since a and b are not equal so subtraction is non-commutative on Z(set of integers)'\n",
    "\n",
    "from numpy import mat\n",
    "a=mat([[1, 2],[3, 4]])\n",
    "b=mat([[5 ,6],[0, -2]])\n",
    "g= a*b\n",
    "k= b*a\n",
    "print 'since g and k are not equal matrix multiplication is non-commutative'\n",
    "\n",
    "h=(2**2)**3\n",
    "j=2**(2**3)\n",
    "print 'since h and j are not equal so exponential operation is non associative on the set of positive integers N'\n"
   ]
  },
  {
   "cell_type": "markdown",
   "metadata": {},
   "source": [
    "## Ex12.17 Pg 380"
   ]
  },
  {
   "cell_type": "code",
   "execution_count": 6,
   "metadata": {
    "collapsed": false
   },
   "outputs": [
    {
     "name": "stdout",
     "output_type": "stream",
     "text": [
      "roots of f(t) are as follows:\n",
      "2\n",
      "-3/2 + sqrt(17)/2\n",
      "-sqrt(17)/2 - 3/2\n"
     ]
    }
   ],
   "source": [
    "from sympy import symbols, solve\n",
    "t=symbols('t')\n",
    "f=t**3+t**2-8*t+4\n",
    "r=solve(f,t)\n",
    "print 'roots of f(t) are as follows:'\n",
    "for r in r:\n",
    "    print r"
   ]
  },
  {
   "cell_type": "markdown",
   "metadata": {},
   "source": [
    "## Ex12.18 Pg 382"
   ]
  },
  {
   "cell_type": "code",
   "execution_count": 8,
   "metadata": {
    "collapsed": false
   },
   "outputs": [
    {
     "name": "stdout",
     "output_type": "stream",
     "text": [
      "the real roots of h(t) are 1 and -2\n",
      "-2\n",
      "1\n",
      "3/2 - sqrt(11)*I/2\n",
      "3/2 + sqrt(11)*I/2\n",
      "\n",
      "roots of f(t) are as follows:\n",
      "-1/2 + sqrt(13)/2\n",
      "2 - 3*I\n",
      "2 + 3*I\n",
      "-sqrt(13)/2 - 1/2\n"
     ]
    }
   ],
   "source": [
    "t=symbols('t')\n",
    "h=t**4-2*t**3+11*t-10\n",
    "r=solve(h,t)\n",
    "print 'the real roots of h(t) are 1 and -2'\n",
    "for r in r:\n",
    "    print r\n",
    "\n",
    "t=symbols('t')\n",
    "f=t**4-3*t**3+6*t**2+25*t-39\n",
    "r=solve(f,t)\n",
    "print '\\nroots of f(t) are as follows:'\n",
    "for r in r:\n",
    "    print r\n"
   ]
  }
 ],
 "metadata": {
  "kernelspec": {
   "display_name": "Python 2",
   "language": "python",
   "name": "python2"
  },
  "language_info": {
   "codemirror_mode": {
    "name": "ipython",
    "version": 2
   },
   "file_extension": ".py",
   "mimetype": "text/x-python",
   "name": "python",
   "nbconvert_exporter": "python",
   "pygments_lexer": "ipython2",
   "version": "2.7.9"
  }
 },
 "nbformat": 4,
 "nbformat_minor": 0
}
