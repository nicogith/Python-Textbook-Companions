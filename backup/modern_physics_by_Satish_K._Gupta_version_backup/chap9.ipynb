{
 "metadata": {
  "name": "",
  "signature": "sha256:3404f51fc9045816d89b5507acdfe9797796d47a0805fc064b3ee38cacd900d7"
 },
 "nbformat": 3,
 "nbformat_minor": 0,
 "worksheets": [
  {
   "cells": [
    {
     "cell_type": "heading",
     "level": 1,
     "metadata": {},
     "source": [
      "Chapter 9 Chemical effects of current"
     ]
    },
    {
     "cell_type": "heading",
     "level": 2,
     "metadata": {},
     "source": [
      "Example 9.1 Page no 285"
     ]
    },
    {
     "cell_type": "code",
     "collapsed": false,
     "input": [
      "#Given\n",
      "m=1*10**-3                         #kg\n",
      "I=2                                  #A\n",
      "z=3.3*10**-7                          #kg/C\n",
      "\n",
      "#Calculation\n",
      "t=m/(z*I)\n",
      "\n",
      "#Result\n",
      "print\"Time required is\", round(t,1),\"s\""
     ],
     "language": "python",
     "metadata": {},
     "outputs": [
      {
       "output_type": "stream",
       "stream": "stdout",
       "text": [
        "Time required is 1515.2 s\n"
       ]
      }
     ],
     "prompt_number": 5
    },
    {
     "cell_type": "heading",
     "level": 2,
     "metadata": {},
     "source": [
      "Example 9.2 Page no 285"
     ]
    },
    {
     "cell_type": "code",
     "collapsed": false,
     "input": [
      "#Given\n",
      "m=0.15*10**-3                      #Kg\n",
      "z=3.3*10**-7                         #Kg/C\n",
      "t=900                                  #S\n",
      "I1=0.6                                #A\n",
      "\n",
      "#Calculation\n",
      "I=m/(z*t)\n",
      "I2=I-I1\n",
      "\n",
      "#Result\n",
      "print\"Correction required for the ammeter reading is\", round(I2,1),\"A\""
     ],
     "language": "python",
     "metadata": {},
     "outputs": [
      {
       "output_type": "stream",
       "stream": "stdout",
       "text": [
        "Correction required for the ammeter reading is -0.1 A\n"
       ]
      }
     ],
     "prompt_number": 10
    },
    {
     "cell_type": "heading",
     "level": 2,
     "metadata": {},
     "source": [
      "Example 9.3 Page no 285"
     ]
    },
    {
     "cell_type": "code",
     "collapsed": false,
     "input": [
      "#Given\n",
      "t=0.002                         #m\n",
      "A=72                             #cm**2\n",
      "d=8.9                             #g/cm**3\n",
      "z=33*10**-5                        #g/C\n",
      "I=5                                  #A\n",
      "\n",
      "#Calculation\n",
      "V=t*A\n",
      "m=V*d\n",
      "t1=m/(z*I)\n",
      "\n",
      "#Result\n",
      "print\"Time required is\", round(t1,0),\"S\""
     ],
     "language": "python",
     "metadata": {},
     "outputs": [
      {
       "output_type": "stream",
       "stream": "stdout",
       "text": [
        "Time required is 777.0 S\n"
       ]
      }
     ],
     "prompt_number": 17
    },
    {
     "cell_type": "heading",
     "level": 2,
     "metadata": {},
     "source": [
      "Example 9.4 Page no 286"
     ]
    },
    {
     "cell_type": "code",
     "collapsed": false,
     "input": [
      "#Given\n",
      "m1=2                            #g\n",
      "m2=1                            #g\n",
      "t=1800                          #s\n",
      "z1=1118*10**-6                  \n",
      "z2=3294*10**-7 \n",
      "a=6\n",
      "\n",
      "#Calculation\n",
      "l1=m1/(z1*t)\n",
      "l2=m2/(z2*t)\n",
      "l=l1+l2\n",
      "p=l*a\n",
      "\n",
      "#Result\n",
      "print\"Power of the current is\",round(p,3),\"W\""
     ],
     "language": "python",
     "metadata": {},
     "outputs": [
      {
       "output_type": "stream",
       "stream": "stdout",
       "text": [
        "Power of the current is 16.082 W\n"
       ]
      }
     ],
     "prompt_number": 25
    },
    {
     "cell_type": "heading",
     "level": 2,
     "metadata": {},
     "source": [
      "Example 9.5 Page no 286"
     ]
    },
    {
     "cell_type": "code",
     "collapsed": false,
     "input": [
      "#Given\n",
      "m1=0.403*10**-3                    #Kg\n",
      "z1=1.12*10**-6\n",
      "z2=3.3*10**-7\n",
      "t=900                               #s\n",
      "e=12                                #V\n",
      "\n",
      "#Calculation\n",
      "m2=(m1*z2)/z1\n",
      "d=(e*m1)/z1\n",
      "\n",
      "#Result\n",
      "print\"(a) Mass of the copper deposited is\",round(m2*10**3,3),\"10**-3\"\n",
      "print\"(b) The energy supplied by the battery is\",round(d*10**-3,2),\"10**3\",\"J\""
     ],
     "language": "python",
     "metadata": {},
     "outputs": [
      {
       "output_type": "stream",
       "stream": "stdout",
       "text": [
        "(a) Mass of the copper deposited is 0.119 10**-3\n",
        "(b) The energy supplied by the battery is 4.32 10**3 J\n"
       ]
      }
     ],
     "prompt_number": 51
    },
    {
     "cell_type": "heading",
     "level": 2,
     "metadata": {},
     "source": [
      "Example 9.6 Page no 286"
     ]
    },
    {
     "cell_type": "code",
     "collapsed": false,
     "input": [
      "#Given\n",
      "r=100                                #ohm\n",
      "t=600                                #s\n",
      "z=3.3*10**-7\n",
      "m=10**-4\n",
      "\n",
      "#Calculation\n",
      "I=m/(z*t)\n",
      "Q=I**2*r*t\n",
      "\n",
      "#Result\n",
      "print\"Heat produced in the resistance coil is\",round(Q,1),\"J\""
     ],
     "language": "python",
     "metadata": {},
     "outputs": [
      {
       "output_type": "stream",
       "stream": "stdout",
       "text": [
        "Heat produced in the resistance coil is 15304.6 J\n"
       ]
      }
     ],
     "prompt_number": 64
    },
    {
     "cell_type": "heading",
     "level": 2,
     "metadata": {},
     "source": [
      "Example 9.7 Page no 286"
     ]
    },
    {
     "cell_type": "code",
     "collapsed": false,
     "input": [
      "#Given\n",
      "a=1.008\n",
      "v=1\n",
      "m1=1.05*10**-8\n",
      "a1=63.54\n",
      "v1=2\n",
      "m2=3.29*10**-7\n",
      "a2=107.9\n",
      "v2=1\n",
      "m3=1.12*10**-6\n",
      "a3=55.85\n",
      "v3=3\n",
      "\n",
      "#Calculation\n",
      "#For water voltameter\n",
      "E=a/v\n",
      "s=m1/E\n",
      "\n",
      "#For copper voltameter\n",
      "E2=a1/v1\n",
      "s1=m2/E2\n",
      "\n",
      "#For silver voltameter\n",
      "E3=a2/v2\n",
      "s2=m3/E3\n",
      "\n",
      "#For iron voltameter\n",
      "E4=a3/v3\n",
      "m4=(s/a)*E4\n",
      "\n",
      "#Result\n",
      "print\"Mass of hydrogen liberated is\",round(s*10**8,4)*10**-8\n",
      "print\"Mass of copper deposited is\",round(s1*10**8,4)*10**-8\n",
      "print\"Mass of silver deposited is\",round(s2*10**8,4)*10**-8\n",
      "print\"Mass of iron deposited is\", round(m4*10**7,2)*10**-7,\"Kg/C\""
     ],
     "language": "python",
     "metadata": {},
     "outputs": [
      {
       "output_type": "stream",
       "stream": "stdout",
       "text": [
        "Mass of hydrogen liberated is 1.0417e-08\n",
        "Mass of copper deposited is 1.0356e-08\n",
        "Mass of silver deposited is 1.038e-08\n",
        "Mass of iron deposited is 1.92e-07 Kg/C\n"
       ]
      }
     ],
     "prompt_number": 104
    },
    {
     "cell_type": "heading",
     "level": 2,
     "metadata": {},
     "source": [
      "Example 9.8 Page no 287"
     ]
    },
    {
     "cell_type": "code",
     "collapsed": false,
     "input": [
      "#Given\n",
      "m=2.5                       #g\n",
      "I=10                        #A\n",
      "F=96500                     #C/mol\n",
      "m1=63.5\n",
      "n=2.0\n",
      "\n",
      "#Calculation\n",
      "E=m1/n\n",
      "t=m*F/(E*I)\n",
      "\n",
      "#Result\n",
      "print\"Time required is\",round(t,1),\"S\""
     ],
     "language": "python",
     "metadata": {},
     "outputs": [
      {
       "output_type": "stream",
       "stream": "stdout",
       "text": [
        "Time required is 759.8 S\n"
       ]
      }
     ],
     "prompt_number": 110
    },
    {
     "cell_type": "heading",
     "level": 2,
     "metadata": {},
     "source": [
      "Example 9.9 Page no 287"
     ]
    },
    {
     "cell_type": "code",
     "collapsed": false,
     "input": [
      "#Given\n",
      "m=16.43                            #g\n",
      "t=4000                             #s\n",
      "F=96485                            #C/mol\n",
      "m1=63.54\n",
      "n=2.0\n",
      "I1=12.6                            #A\n",
      "\n",
      "#Calculation\n",
      "E=m1/n\n",
      "I=m*F/(E*t)\n",
      "I2=I1-I\n",
      "\n",
      "#Result\n",
      "print\"Error in the ammeter reading is\", round(I2,3),\"A\""
     ],
     "language": "python",
     "metadata": {},
     "outputs": [
      {
       "output_type": "stream",
       "stream": "stdout",
       "text": [
        "Error in the ammeter reading is 0.126 A\n"
       ]
      }
     ],
     "prompt_number": 119
    },
    {
     "cell_type": "heading",
     "level": 2,
     "metadata": {},
     "source": [
      "Example 9.10 Page no 287"
     ]
    },
    {
     "cell_type": "code",
     "collapsed": false,
     "input": [
      "#Given\n",
      "t=600                              #S\n",
      "m=5.92                             #g\n",
      "F=96500                             #C/mol\n",
      "V1=1.62                             #V\n",
      "V2=1.34\n",
      "m1=63.5\n",
      "n=2.0\n",
      "\n",
      "#Calculation\n",
      "V=V1-V2\n",
      "E=m1/n\n",
      "I=m*F/(E*t)\n",
      "R=V/I\n",
      "\n",
      "#Result\n",
      "print\"Resistance of the voltmeter is\",round(R*10**3,2),\"m ohm\""
     ],
     "language": "python",
     "metadata": {},
     "outputs": [
      {
       "output_type": "stream",
       "stream": "stdout",
       "text": [
        "Resistance of the voltmeter is 9.34 m ohm\n"
       ]
      }
     ],
     "prompt_number": 123
    },
    {
     "cell_type": "heading",
     "level": 2,
     "metadata": {},
     "source": [
      "Example 9.11 Page no 287"
     ]
    },
    {
     "cell_type": "code",
     "collapsed": false,
     "input": [
      "#Given\n",
      "E=8                  #V\n",
      "r=1                     #ohm\n",
      "R=15                    #ohm\n",
      "E1=120\n",
      "t=300                    #s\n",
      "\n",
      "#Calculation\n",
      "I=(E1-E)/(R+r)\n",
      "V=E+(I*r)\n",
      "E12=E*I*t\n",
      "\n",
      "#Result\n",
      "print\"(a) Current in the circuit is\", I,\"A\"\n",
      "print\"(b) Terminal voltage across the battery is\",V,\"V\"\n",
      "print\"(c) Chemical energy stored in the battery is\",E12,\"J\""
     ],
     "language": "python",
     "metadata": {},
     "outputs": [
      {
       "output_type": "stream",
       "stream": "stdout",
       "text": [
        "(a) Current in the circuit is 7 A\n",
        "(b) Terminal voltage across the battery is 15 V\n",
        "(c) Chemical energy stored in the battery is 16800 J\n"
       ]
      }
     ],
     "prompt_number": 133
    },
    {
     "cell_type": "heading",
     "level": 2,
     "metadata": {},
     "source": [
      "Example 9.12 Page no 288"
     ]
    },
    {
     "cell_type": "code",
     "collapsed": false,
     "input": [
      "#Given\n",
      "I=10                          #A\n",
      "t=300                         #S\n",
      "m=2.016\n",
      "n=2.0\n",
      "n1=1.0\n",
      "m1=1.008\n",
      "F=96500\n",
      "V=22.4\n",
      "\n",
      "#Calculation\n",
      "q=I*t\n",
      "M=m/n\n",
      "M2=m1/n1\n",
      "q1=F*m/m1\n",
      "V1=V*q/q1\n",
      "\n",
      "#Result\n",
      "print\"Volume of hydrogen is\",round(V1,4),\"litre\""
     ],
     "language": "python",
     "metadata": {},
     "outputs": [
      {
       "output_type": "stream",
       "stream": "stdout",
       "text": [
        "Volume of hydrogen is 0.3482 litre\n"
       ]
      }
     ],
     "prompt_number": 136
    },
    {
     "cell_type": "heading",
     "level": 2,
     "metadata": {},
     "source": [
      "Example 9.13 Page no 288"
     ]
    },
    {
     "cell_type": "code",
     "collapsed": false,
     "input": [
      "#Given\n",
      "w=107.9                           #g/mol\n",
      "r=2                               #ohm\n",
      "E=12                              #V\n",
      "V=10\n",
      "F=96500\n",
      "t=1800\n",
      "\n",
      "#Calculation\n",
      "R=r*(V/(E-V))\n",
      "I=E/(R+r)\n",
      "E=w/I\n",
      "z=E/F\n",
      "m=z*I*t\n",
      "\n",
      "#Result\n",
      "print\"Silver deposited at the cathode is\", round(m,2),\"g\""
     ],
     "language": "python",
     "metadata": {},
     "outputs": [
      {
       "output_type": "stream",
       "stream": "stdout",
       "text": [
        "Silver deposited at the cathode is 2.01 g\n"
       ]
      }
     ],
     "prompt_number": 143
    },
    {
     "cell_type": "heading",
     "level": 2,
     "metadata": {},
     "source": [
      "Example 9.14 Page no 288"
     ]
    },
    {
     "cell_type": "code",
     "collapsed": false,
     "input": [
      "#Given\n",
      "I=5.0                      #A\n",
      "a=0.5                      #mole\n",
      "n=1\n",
      "F=96500\n",
      "I1=10                       #A\n",
      "t1=9650*2\n",
      "n1=2.0\n",
      "m=63.54\n",
      "m2=55.85\n",
      "n2=3.0\n",
      "\n",
      "#Calculation\n",
      "q=F*a\n",
      "t=q/I\n",
      "E=m/n1\n",
      "m1=(E*I1*t1)/F\n",
      "E3=m2/n2\n",
      "m3=(E3*I1*t1)/F\n",
      "\n",
      "#Result\n",
      "print\"Molar mass of copper is\", m1,\"equal to its atomic mass i.e 1 mole of copper is liberated.\"\n",
      "print\"Molar mass of iron is\",round(m3,3),\"Hence 2/3 mole of iron will be deposited.\""
     ],
     "language": "python",
     "metadata": {},
     "outputs": [
      {
       "output_type": "stream",
       "stream": "stdout",
       "text": [
        "Molar mass of copper is 63.54 equal to its atomic mass i.e 1 mole of copper is liberated.\n",
        "Molar mass of iron is 37.233 Hence 2/3 mole of iron will be deposited.\n"
       ]
      }
     ],
     "prompt_number": 153
    }
   ],
   "metadata": {}
  }
 ]
}