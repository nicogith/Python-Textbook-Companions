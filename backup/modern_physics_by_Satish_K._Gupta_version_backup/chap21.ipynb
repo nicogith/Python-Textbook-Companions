{
 "metadata": {
  "name": "",
  "signature": "sha256:07c4b928a455230c9db333bb0062ec9efe3c0f7899f2ff1857d420b5212b1285"
 },
 "nbformat": 3,
 "nbformat_minor": 0,
 "worksheets": [
  {
   "cells": [
    {
     "cell_type": "heading",
     "level": 1,
     "metadata": {},
     "source": [
      "Chapter 21 Refraction Of Light"
     ]
    },
    {
     "cell_type": "heading",
     "level": 2,
     "metadata": {},
     "source": [
      "Example 21.1 Page no 650"
     ]
    },
    {
     "cell_type": "code",
     "collapsed": false,
     "input": [
      "#Given\n",
      "U=1.5\n",
      "c=3.0*10**8                          #m s**-1\n",
      "\n",
      "#Calculation\n",
      "v=c/U\n",
      "\n",
      "#Result\n",
      "print\" Speed of light in glass is\",v*10**-8,\"10**8\",\"m s**-1\""
     ],
     "language": "python",
     "metadata": {},
     "outputs": [
      {
       "output_type": "stream",
       "stream": "stdout",
       "text": [
        " Speed of light in glass is 2.0 10**8 m s**-1\n"
       ]
      }
     ],
     "prompt_number": 6
    },
    {
     "cell_type": "heading",
     "level": 2,
     "metadata": {},
     "source": [
      "Example 21.2 Page no 650"
     ]
    },
    {
     "cell_type": "code",
     "collapsed": false,
     "input": [
      "#Given\n",
      "u=1.33\n",
      "Lu=589*10**-9                             #m\n",
      "c=3*10**8\n",
      "\n",
      "#Calculation\n",
      "v=c/Lu\n",
      "v1=c/u\n",
      "Lw=v1/v\n",
      "\n",
      "#Result\n",
      "print\"(a) Wavelenght of light after reflection is\",Lu*10**9,\"10**-9\"\n",
      "print\" Velocity of light after reflection is\",c*10**-8,\"10**8\",\"m s**-1\"\n",
      "print\" Frqequency of light after reflection is\",round(v*10**-14,4),\"10**14\",\"Hz\"\n",
      "print\"(b) Frequency of light after refraction is\",round(v*10**-14,4),\"10**14\",\"Hz\"\n",
      "print\" Velocity of light after refraction is\",round(v1*10**-8,3),\"10**8\",\"m s**-1\"\n",
      "print\" Wavelength of light after refraction is\",round(Lw*10**9,2),\"nm\" "
     ],
     "language": "python",
     "metadata": {},
     "outputs": [
      {
       "output_type": "stream",
       "stream": "stdout",
       "text": [
        "(a) Wavelenght of light after reflection is 589.0 10**-9\n",
        " Velocity of light after reflection is 3.0 10**8 m s**-1\n",
        " Frqequency of light after reflection is 5.0934 10**14 Hz\n",
        "(b) Frequency of light after refraction is 5.0934 10**14 Hz\n",
        " Velocity of light after refraction is 2.256 10**8 m s**-1\n",
        " Wavelength of light after refraction is 442.86 nm\n"
       ]
      }
     ],
     "prompt_number": 35
    },
    {
     "cell_type": "heading",
     "level": 2,
     "metadata": {},
     "source": [
      "Example 21.3 Page no 651"
     ]
    },
    {
     "cell_type": "code",
     "collapsed": false,
     "input": [
      "#Given\n",
      "i=60\n",
      "u=1.5\n",
      "t=0.1                          #m\n",
      "\n",
      "#Calculation\n",
      "import math\n",
      "r=(math.sin(60*3.14/180.0))/u\n",
      "a=math.asin(r)*180/3.14\n",
      "d=t/math.cos(r*3.14/180.0)*(math.sin(24*3.14/180.0))\n",
      "\n",
      "#Result\n",
      "print\"The lateral shift produced is\",round(d,4),\"m\""
     ],
     "language": "python",
     "metadata": {},
     "outputs": [
      {
       "output_type": "stream",
       "stream": "stdout",
       "text": [
        "The lateral shift produced is 0.0407 m\n"
       ]
      }
     ],
     "prompt_number": 48
    },
    {
     "cell_type": "heading",
     "level": 2,
     "metadata": {},
     "source": [
      "Example 21.4 Page no 651"
     ]
    },
    {
     "cell_type": "code",
     "collapsed": false,
     "input": [
      "#Given\n",
      "A=4/3.0\n",
      "A1=3/2.0\n",
      "I=30\n",
      "\n",
      "#Calculation\n",
      "import math\n",
      "S=A1/A\n",
      "R=math.sin(30*3.16/180.0)/S\n",
      "A=math.asin(R)*180/3.14\n",
      "\n",
      "#Result\n",
      "print\"The angle of refraction is\",round(A,0)"
     ],
     "language": "python",
     "metadata": {},
     "outputs": [
      {
       "output_type": "stream",
       "stream": "stdout",
       "text": [
        "The angle of refraction is 27.0\n"
       ]
      }
     ],
     "prompt_number": 59
    },
    {
     "cell_type": "heading",
     "level": 2,
     "metadata": {},
     "source": [
      "Example 21.5 Page no 651"
     ]
    },
    {
     "cell_type": "code",
     "collapsed": false,
     "input": [
      "#Given\n",
      "t=15\n",
      "u=1.5\n",
      "\n",
      "#Calculation\n",
      "d=t*(1-(1/u))\n",
      "\n",
      "#Result\n",
      "print\" Real thickness of glass slab is\",d,\"cm\"\n",
      "print\" The answer does not depend upon the location of the slab\""
     ],
     "language": "python",
     "metadata": {},
     "outputs": [
      {
       "output_type": "stream",
       "stream": "stdout",
       "text": [
        " Real thickness of glass slab is 5.0 cm\n",
        " The answer does not depend upon the location of the slab\n"
       ]
      }
     ],
     "prompt_number": 67
    },
    {
     "cell_type": "heading",
     "level": 2,
     "metadata": {},
     "source": [
      "Example 21.6 Page no 651"
     ]
    },
    {
     "cell_type": "code",
     "collapsed": false,
     "input": [
      "#Given\n",
      "c=3*10**8                         #m s**-1\n",
      "v=2.0*10**8                         #m s**-1\n",
      "t=6.0                              #cm\n",
      "\n",
      "#Calculation\n",
      "u=c/v\n",
      "d=t*(1-(1/u))\n",
      "\n",
      "#Result\n",
      "print\"An ink dot appear to be rasied\",d,\"cm\""
     ],
     "language": "python",
     "metadata": {},
     "outputs": [
      {
       "output_type": "stream",
       "stream": "stdout",
       "text": [
        "An ink dot appear to be rasied 2.0 cm\n"
       ]
      }
     ],
     "prompt_number": 73
    },
    {
     "cell_type": "heading",
     "level": 2,
     "metadata": {},
     "source": [
      "Example 21.7 Page no 651"
     ]
    },
    {
     "cell_type": "code",
     "collapsed": false,
     "input": [
      "#Given\n",
      "d=12.5                          #cm\n",
      "a=9.4                           #cm\n",
      "u=1.63\n",
      "\n",
      "#Calculation\n",
      "S=d/a\n",
      "S1=d/u\n",
      "S3=a-S1\n",
      "\n",
      "#Result\n",
      "print\"The refractive index of water is\",round(S,2)\n",
      "print\"The refractive index of liquid is\",round(S1,2),\"cm\"\n",
      "print\"Distance is\",round(S3,2),\"cm\""
     ],
     "language": "python",
     "metadata": {},
     "outputs": [
      {
       "output_type": "stream",
       "stream": "stdout",
       "text": [
        "The refractive index of water is 1.33\n",
        "The refractive index of liquid is 7.67 cm\n",
        "Distance is 1.73 cm\n"
       ]
      }
     ],
     "prompt_number": 84
    },
    {
     "cell_type": "heading",
     "level": 2,
     "metadata": {},
     "source": [
      "Example 21.8 Page no 651"
     ]
    },
    {
     "cell_type": "code",
     "collapsed": false,
     "input": [
      "#Given\n",
      "A=4/3.0\n",
      "d=0.015                            #m\n",
      "\n",
      "#Calculatiom\n",
      "t=d/(1-(1/A))\n",
      "\n",
      "#Result\n",
      "print\"The height upto which water must be poured into the beaker is\",t,\"m\""
     ],
     "language": "python",
     "metadata": {},
     "outputs": [
      {
       "output_type": "stream",
       "stream": "stdout",
       "text": [
        "The height upto which water must be poured into the beaker is 0.06 m\n"
       ]
      }
     ],
     "prompt_number": 91
    },
    {
     "cell_type": "heading",
     "level": 2,
     "metadata": {},
     "source": [
      "Example 21.9 Page no 652"
     ]
    },
    {
     "cell_type": "code",
     "collapsed": false,
     "input": [
      "#Given\n",
      "A=3/2.0\n",
      "A1=4/3.0\n",
      "t1=6\n",
      "t2=4\n",
      "\n",
      "#Calculation\n",
      "d1=t1*(1-(1/A))\n",
      "d2=t2*(1-(1/A1))\n",
      "d3=d1+d2\n",
      "\n",
      "#Result\n",
      "print\"The apparent position of an object is\",d3,\"cm\""
     ],
     "language": "python",
     "metadata": {},
     "outputs": [
      {
       "output_type": "stream",
       "stream": "stdout",
       "text": [
        "The apparent position of an object is 3.0 cm\n"
       ]
      }
     ],
     "prompt_number": 102
    },
    {
     "cell_type": "heading",
     "level": 2,
     "metadata": {},
     "source": [
      "Example 21.10 Page no 652"
     ]
    },
    {
     "cell_type": "code",
     "collapsed": false,
     "input": [
      "#Given\n",
      "S=1.5\n",
      "W=1.33\n",
      "\n",
      "#Calculation\n",
      "import math\n",
      "A=S/W\n",
      "C=1/A\n",
      "Q=math.asin(C)*180/3.14\n",
      "\n",
      "#Result\n",
      "print\"The critical angle for a glass water interface is\",round(Q,0),\"degree\""
     ],
     "language": "python",
     "metadata": {},
     "outputs": [
      {
       "output_type": "stream",
       "stream": "stdout",
       "text": [
        "The critical angle for a glass water interface is 62.0 degree\n"
       ]
      }
     ],
     "prompt_number": 124
    },
    {
     "cell_type": "heading",
     "level": 2,
     "metadata": {},
     "source": [
      "Example 21.11 Page no 652"
     ]
    },
    {
     "cell_type": "code",
     "collapsed": false,
     "input": [
      "#Given\n",
      "I=40                             #degree\n",
      "A=15                             #degree\n",
      "\n",
      "#Calculation\n",
      "import math\n",
      "r=I-A\n",
      "u=(math.sin(40*3.14/180.0))/(math.sin(25*3.14/180.0))\n",
      "c=1/u\n",
      "A=math.asin(c)*180/3.14\n",
      "\n",
      "#Result\n",
      "print\"The critical angle is\",round(A,1),\"degree\""
     ],
     "language": "python",
     "metadata": {},
     "outputs": [
      {
       "output_type": "stream",
       "stream": "stdout",
       "text": [
        "The critical angle is 41.1 degree\n"
       ]
      }
     ],
     "prompt_number": 123
    },
    {
     "cell_type": "heading",
     "level": 2,
     "metadata": {},
     "source": [
      "Example 21.12 Page no 652"
     ]
    },
    {
     "cell_type": "code",
     "collapsed": false,
     "input": [
      "#Given\n",
      "u=1.5\n",
      "h=20\n",
      "\n",
      "#Calculation\n",
      "import math\n",
      "C=1/u\n",
      "A=math.asin(C)*180/3.14\n",
      "r=h*math.tan(A*3.14/180.0)\n",
      "D=math.pi*r**2\n",
      "\n",
      "#Result \n",
      "print\"The required surface area is\",round(D,1),\"cm**2\""
     ],
     "language": "python",
     "metadata": {},
     "outputs": [
      {
       "output_type": "stream",
       "stream": "stdout",
       "text": [
        "The required surface area is 1005.3 cm**2\n"
       ]
      }
     ],
     "prompt_number": 138
    },
    {
     "cell_type": "heading",
     "level": 2,
     "metadata": {},
     "source": [
      "Example 21.13 Page no 653"
     ]
    },
    {
     "cell_type": "code",
     "collapsed": false,
     "input": [
      "#Given\n",
      "A=60                                  #degree\n",
      "B=1.45\n",
      "\n",
      "#Calculation\n",
      "import math\n",
      "I=1/(math.sin(A*3.14/180.0))\n",
      "Z=B/I\n",
      "\n",
      "#Result\n",
      "print\"The refractive index of the liquid is\",round(Z,3)"
     ],
     "language": "python",
     "metadata": {},
     "outputs": [
      {
       "output_type": "stream",
       "stream": "stdout",
       "text": [
        "The refractive index of the liquid is 1.255\n"
       ]
      }
     ],
     "prompt_number": 143
    },
    {
     "cell_type": "heading",
     "level": 2,
     "metadata": {},
     "source": [
      "Example 21.14 Page no 653"
     ]
    },
    {
     "cell_type": "code",
     "collapsed": false,
     "input": [
      "#Given\n",
      "A=1.68\n",
      "A1=1.44\n",
      "A2=90                               #degree\n",
      "\n",
      "#Calculation\n",
      "import math\n",
      "K=A/A1\n",
      "C=1/K\n",
      "Q=math.asin(C)*180/3.14\n",
      "r=A2-Q\n",
      "I=A*math.sin(r*3.14/180.0)\n",
      "Q1=math.asin(I)*180/3.14\n",
      "\n",
      "#Result\n",
      "print\"Refraction index of glass fibre is\",round(Q1,0),\"degree\"\n",
      "print\"All rays having angle of incidence between 0 degree to 60 degree will suffer total internal reflection\" "
     ],
     "language": "python",
     "metadata": {},
     "outputs": [
      {
       "output_type": "stream",
       "stream": "stdout",
       "text": [
        "Refraction index of glass fibre is 60.0 degree\n",
        "All rays having angle of incidence between 0 degree to 60 degree will suffer total internal reflection\n"
       ]
      }
     ],
     "prompt_number": 161
    },
    {
     "cell_type": "heading",
     "level": 2,
     "metadata": {},
     "source": [
      "Example 21.15 Page no 653"
     ]
    },
    {
     "cell_type": "code",
     "collapsed": false,
     "input": [
      "#Given\n",
      "u1=1\n",
      "u2=1.5\n",
      "u=-10.0                           #cm\n",
      "v=-40.0                          #cm\n",
      "\n",
      "#Calculation\n",
      "R=(u2-u1)/((-u1/u)+(u2/v))\n",
      "\n",
      "#Result\n",
      "print\"Radius of curvature is\", R,\"cm\""
     ],
     "language": "python",
     "metadata": {},
     "outputs": [
      {
       "output_type": "stream",
       "stream": "stdout",
       "text": [
        "Radius of curvature is 8.0 cm\n"
       ]
      }
     ],
     "prompt_number": 178
    },
    {
     "cell_type": "heading",
     "level": 2,
     "metadata": {},
     "source": [
      "Example 21.16 Page no 653"
     ]
    },
    {
     "cell_type": "code",
     "collapsed": false,
     "input": [
      "#Given\n",
      "u=-60.0                             #cm\n",
      "R=25.0                              #cm\n",
      "u1=1\n",
      "u2=1.5\n",
      "R1=0.25\n",
      "\n",
      "#Calculation\n",
      "v=u2/(((u2-u1)/R)+(u1/u))\n",
      "P=(u2-u1)/R1\n",
      "\n",
      "#Result\n",
      "print\"Position of the image is\", v,\"cm\"\n",
      "print\"Power of refracting surface is\",P,\"dioptre\""
     ],
     "language": "python",
     "metadata": {},
     "outputs": [
      {
       "output_type": "stream",
       "stream": "stdout",
       "text": [
        "Position of the image is 450.0 cm\n",
        "Power of refracting surface is 2.0 dioptre\n"
       ]
      }
     ],
     "prompt_number": 191
    },
    {
     "cell_type": "heading",
     "level": 2,
     "metadata": {},
     "source": [
      "Example 21.17 Page no 654 "
     ]
    },
    {
     "cell_type": "code",
     "collapsed": false,
     "input": [
      "#Given\n",
      "U1=1.5\n",
      "U2=1\n",
      "\n",
      "\n",
      "#Calculation\n",
      "x=(U1+U2)/(U1-U2)\n",
      "\n",
      "#Result\n",
      "print\"Distance of the object is\",x,\"R\""
     ],
     "language": "python",
     "metadata": {},
     "outputs": [
      {
       "output_type": "stream",
       "stream": "stdout",
       "text": [
        "Distance of the object is 5.0 R\n"
       ]
      }
     ],
     "prompt_number": 194
    },
    {
     "cell_type": "heading",
     "level": 2,
     "metadata": {},
     "source": [
      "Example 21.18 Page no 654"
     ]
    },
    {
     "cell_type": "code",
     "collapsed": false,
     "input": [
      "#Given\n",
      "u1=1\n",
      "u2=1.5\n",
      "u=-10.0                           #cm\n",
      "R=-5.0 \n",
      "\n",
      "#Calculation\n",
      "v=u1/((u1-u2)/R+(u2/u))\n",
      "\n",
      "#Result\n",
      "print\"Position of the image is\",v,\"cm\""
     ],
     "language": "python",
     "metadata": {},
     "outputs": [
      {
       "output_type": "stream",
       "stream": "stdout",
       "text": [
        "Position of the image is -20.0 cm\n"
       ]
      }
     ],
     "prompt_number": 196
    },
    {
     "cell_type": "heading",
     "level": 2,
     "metadata": {},
     "source": [
      "Example 21.19 Page no 654"
     ]
    },
    {
     "cell_type": "code",
     "collapsed": false,
     "input": [
      "#Given\n",
      "u=1.5\n",
      "R=-5.0                              #cm\n",
      "OC=2\n",
      "\n",
      "#Calculation\n",
      "u1=R+OC\n",
      "v=1/((1-u)/R+(u/u1))\n",
      "\n",
      "#Result\n",
      "print\"Apparent position of the bubble is\", v,\"cm\""
     ],
     "language": "python",
     "metadata": {},
     "outputs": [
      {
       "output_type": "stream",
       "stream": "stdout",
       "text": [
        "Apparent position of the bubble is -2.5 cm\n"
       ]
      }
     ],
     "prompt_number": 202
    },
    {
     "cell_type": "heading",
     "level": 2,
     "metadata": {},
     "source": [
      "Example 21.20 Page no 654"
     ]
    },
    {
     "cell_type": "code",
     "collapsed": false,
     "input": [
      "#Given\n",
      "R=-0.02                            #m\n",
      "u=1.54\n",
      "v=-0.01                             #m\n",
      "\n",
      "#calculation\n",
      "u1=-u/((1-u)/R-(1/v))\n",
      "\n",
      "#Result\n",
      "print\"Real depth of bubble is\", round(u1,4),\"m\""
     ],
     "language": "python",
     "metadata": {},
     "outputs": [
      {
       "output_type": "stream",
       "stream": "stdout",
       "text": [
        "Real depth of bubble is -0.0121 m\n"
       ]
      }
     ],
     "prompt_number": 206
    },
    {
     "cell_type": "heading",
     "level": 2,
     "metadata": {},
     "source": [
      "Example 21.21 Page no 655"
     ]
    },
    {
     "cell_type": "code",
     "collapsed": false,
     "input": [
      "#Given\n",
      "R=7.5                       #cm\n",
      "u=4/3.0\n",
      "\n",
      "#Calculation\n",
      "v=1/((1-u)/R)\n",
      "\n",
      "#Result\n",
      "print\"It get focussed at\",v,\"cm\""
     ],
     "language": "python",
     "metadata": {},
     "outputs": [
      {
       "output_type": "stream",
       "stream": "stdout",
       "text": [
        "It get focussed at -22.5 cm\n"
       ]
      }
     ],
     "prompt_number": 213
    },
    {
     "cell_type": "heading",
     "level": 2,
     "metadata": {},
     "source": [
      "Example 21.22 Page no 655"
     ]
    },
    {
     "cell_type": "code",
     "collapsed": false,
     "input": [
      "#given\n",
      "u=1.55\n",
      "f=20                               #cm\n",
      "\n",
      "#Calculation\n",
      "R=(u-1)*2*f\n",
      "\n",
      "#Result\n",
      "print\"Radius of curvature is,\",R,\"cm\""
     ],
     "language": "python",
     "metadata": {},
     "outputs": [
      {
       "output_type": "stream",
       "stream": "stdout",
       "text": [
        "Radius of curvature is, 22.0 cm\n"
       ]
      }
     ],
     "prompt_number": 215
    },
    {
     "cell_type": "heading",
     "level": 2,
     "metadata": {},
     "source": [
      "Example 21.23 Page no 655"
     ]
    },
    {
     "cell_type": "code",
     "collapsed": false,
     "input": [
      "#Given\n",
      "u=1.5\n",
      "f=0.3\n",
      "\n",
      "#Calculation\n",
      "R=(u-1)*f\n",
      "\n",
      "#Result\n",
      "print\"Radius of curvature is\", R,\"m\""
     ],
     "language": "python",
     "metadata": {},
     "outputs": [
      {
       "output_type": "stream",
       "stream": "stdout",
       "text": [
        "Radius of curvature is 0.15 m\n"
       ]
      }
     ],
     "prompt_number": 218
    },
    {
     "cell_type": "heading",
     "level": 2,
     "metadata": {},
     "source": [
      "Example 21.24 Page no 655"
     ]
    },
    {
     "cell_type": "code",
     "collapsed": false,
     "input": [
      "#Given\n",
      "a=2.0\n",
      "\n",
      "#Calculation\n",
      "u=(a+1)/a\n",
      "\n",
      "#Result\n",
      "print\"Refractive index is\",u"
     ],
     "language": "python",
     "metadata": {},
     "outputs": [
      {
       "output_type": "stream",
       "stream": "stdout",
       "text": [
        "Refractive index is 1.5\n"
       ]
      }
     ],
     "prompt_number": 219
    },
    {
     "cell_type": "heading",
     "level": 2,
     "metadata": {},
     "source": [
      "Example 21.25 Page no 655"
     ]
    },
    {
     "cell_type": "code",
     "collapsed": false,
     "input": [
      "#Given\n",
      "ug=1.5\n",
      "uc=1.63\n",
      "R1=20.0                        #cm\n",
      "R2=-20.0\n",
      "\n",
      "#Calculation\n",
      "fair=1/((ug-1)*(1/R1-1/R2))\n",
      "ug1=ug/uc\n",
      "fc=1/((ug1-1)*(1/R1-1/R2))\n",
      "\n",
      "#Result\n",
      "print\"Focal length of the lens is\",round(fc,1),\"cm\""
     ],
     "language": "python",
     "metadata": {},
     "outputs": [
      {
       "output_type": "stream",
       "stream": "stdout",
       "text": [
        "Focal length of the lens is -125.4 cm\n"
       ]
      }
     ],
     "prompt_number": 225
    },
    {
     "cell_type": "heading",
     "level": 2,
     "metadata": {},
     "source": [
      "Example 21.26 Page no 656"
     ]
    },
    {
     "cell_type": "code",
     "collapsed": false,
     "input": [
      "#Given\n",
      "fair=0.2                    #m\n",
      "ug=1.50\n",
      "uw=1.33\n",
      "\n",
      "#Calculation\n",
      "R=1/(fair*(ug-1))\n",
      "ug1=ug/uw\n",
      "fw=1/((ug1-1)*R)\n",
      "f=fw-fair\n",
      "\n",
      "#Result\n",
      "print\"Change in focal length is\", round(f,2),\"m\""
     ],
     "language": "python",
     "metadata": {},
     "outputs": [
      {
       "output_type": "stream",
       "stream": "stdout",
       "text": [
        "Change in focal length is 0.58 m\n"
       ]
      }
     ],
     "prompt_number": 234
    },
    {
     "cell_type": "heading",
     "level": 2,
     "metadata": {},
     "source": [
      "Example 21.27 Page no 656"
     ]
    },
    {
     "cell_type": "code",
     "collapsed": false,
     "input": [
      "#Given\n",
      "u1=1.2\n",
      "u2=1.3\n",
      "a=13.0\n",
      "\n",
      "#Calculation\n",
      "u=u1/u2\n",
      "f=1/((-1/a)*(1/(u1-1)))\n",
      "\n",
      "#Result\n",
      "print\"Focal length is\", f,\"f\""
     ],
     "language": "python",
     "metadata": {},
     "outputs": [
      {
       "output_type": "stream",
       "stream": "stdout",
       "text": [
        "Focal length is -2.6 f\n"
       ]
      }
     ],
     "prompt_number": 237
    },
    {
     "cell_type": "heading",
     "level": 2,
     "metadata": {},
     "source": [
      "Example 21.28 Page no 656"
     ]
    },
    {
     "cell_type": "code",
     "collapsed": false,
     "input": [
      "#Given\n",
      "f=20.0                    #cm\\\n",
      "u=12.0\n",
      "f1=-20.0\n",
      "\n",
      "#Calculation\n",
      "v=1/(1/f+1/u)\n",
      "v1=1/(1/f1+1/u)\n",
      "\n",
      "#Result\n",
      "print\"(a) Beam will converge at a point of distant\",v,\"cm\"\n",
      "print\"(b) Beam will converge at a point of distant\",v1,\"cm\""
     ],
     "language": "python",
     "metadata": {},
     "outputs": [
      {
       "output_type": "stream",
       "stream": "stdout",
       "text": [
        "(a) Beam will converge at a point of distant 7.5 cm\n",
        "(b) Beam will converge at a point of distant 30.0 cm\n"
       ]
      }
     ],
     "prompt_number": 244
    },
    {
     "cell_type": "heading",
     "level": 2,
     "metadata": {},
     "source": [
      "Example 21.29 Page no 656"
     ]
    },
    {
     "cell_type": "code",
     "collapsed": false,
     "input": [
      "#Given\n",
      "f=-0.2                           #m\n",
      "v=0.3                            #m\n",
      "\n",
      "#Calculation\n",
      "u=1/(1/v-1/f)\n",
      "\n",
      "#Result\n",
      "print\"The position of the point is\",u,\"m\""
     ],
     "language": "python",
     "metadata": {},
     "outputs": [
      {
       "output_type": "stream",
       "stream": "stdout",
       "text": [
        "The position of the point is 0.12 m\n"
       ]
      }
     ],
     "prompt_number": 249
    },
    {
     "cell_type": "heading",
     "level": 2,
     "metadata": {},
     "source": [
      "Example 21.30 Page no 656"
     ]
    },
    {
     "cell_type": "code",
     "collapsed": false,
     "input": [
      "#Given\n",
      "f=10.0                                 #cm\n",
      "c=20                                 #cm\n",
      "o=5.0\n",
      "\n",
      "#Calculation\n",
      "u=-(c-o)\n",
      "u1=-(c+o)\n",
      "v1=1/((1/f)+(1/u))\n",
      "v2=1/((1/f)+(1/u1))\n",
      "v=v1-v2\n",
      "\n",
      "#Result\n",
      "print\"Length of image of needle is\", round(v,2),\"cm\""
     ],
     "language": "python",
     "metadata": {},
     "outputs": [
      {
       "output_type": "stream",
       "stream": "stdout",
       "text": [
        "Length of image of needle is 13.33 cm\n"
       ]
      }
     ],
     "prompt_number": 273
    },
    {
     "cell_type": "heading",
     "level": 2,
     "metadata": {},
     "source": [
      "Example 21.31 Page no 657"
     ]
    },
    {
     "cell_type": "code",
     "collapsed": false,
     "input": [
      "#Given\n",
      "u=-30.0\n",
      "v=20.0\n",
      "R1=10.0\n",
      "R2=-15.0\n",
      "ug1=1.33\n",
      "\n",
      "#Calculation\n",
      "f=1/(-1/u+1/v)\n",
      "ug=(1/f+1/6.0)*6.0\n",
      "fw=1/(((ug/ug1)-1)*(1/R1-1/R2))\n",
      "\n",
      "#Result\n",
      "print\"Focal length of the lens is\", f,\"cm\"\n",
      "print\"Focal length of the lens is\",round(fw,2),\"cm\""
     ],
     "language": "python",
     "metadata": {},
     "outputs": [
      {
       "output_type": "stream",
       "stream": "stdout",
       "text": [
        "Focal length of the lens is 12.0 cm\n",
        "Focal length of the lens is 46.94 cm\n"
       ]
      }
     ],
     "prompt_number": 289
    },
    {
     "cell_type": "heading",
     "level": 2,
     "metadata": {},
     "source": [
      "Example 21.32 Page no 657"
     ]
    },
    {
     "cell_type": "code",
     "collapsed": false,
     "input": [
      "#Given\n",
      "f=0.12\n",
      "m=-3.0\n",
      "\n",
      "#Calculation\n",
      "u=(f/m)-f\n",
      "\n",
      "#Result\n",
      "print\"Distance between object and lens is\", u,\"m\""
     ],
     "language": "python",
     "metadata": {},
     "outputs": [
      {
       "output_type": "stream",
       "stream": "stdout",
       "text": [
        "Distance between object and lens is -0.16 m\n"
       ]
      }
     ],
     "prompt_number": 292
    },
    {
     "cell_type": "heading",
     "level": 2,
     "metadata": {},
     "source": [
      "Example 21.33 Page no 657"
     ]
    },
    {
     "cell_type": "code",
     "collapsed": false,
     "input": [
      "#Given\n",
      "m=-19.0\n",
      "v=10\n",
      "\n",
      "#Calculation\n",
      "f=v/(-m+1)\n",
      "\n",
      "#Result\n",
      "print\"Focal length of the lens is\",f,\"m\""
     ],
     "language": "python",
     "metadata": {},
     "outputs": [
      {
       "output_type": "stream",
       "stream": "stdout",
       "text": [
        "Focal length of the lens is 0.5 m\n"
       ]
      }
     ],
     "prompt_number": 296
    },
    {
     "cell_type": "heading",
     "level": 2,
     "metadata": {},
     "source": [
      "Example 21.34 Page no 657"
     ]
    },
    {
     "cell_type": "code",
     "collapsed": false,
     "input": [
      "#Given\n",
      "m=4\n",
      "f=20\n",
      "\n",
      "#Calculation\n",
      "u=m+1-f\n",
      "v=f-(m*f)\n",
      "\n",
      "#Result\n",
      "print\"Object is at\", u,\"cm\"\n",
      "print\"Image is at\",v,\"cm\""
     ],
     "language": "python",
     "metadata": {},
     "outputs": [
      {
       "output_type": "stream",
       "stream": "stdout",
       "text": [
        "Object is at -15 cm\n",
        "Image is at -60 cm\n"
       ]
      }
     ],
     "prompt_number": 301
    },
    {
     "cell_type": "heading",
     "level": 2,
     "metadata": {},
     "source": [
      "Example 21.35 Page no 657"
     ]
    },
    {
     "cell_type": "code",
     "collapsed": false,
     "input": [
      "#Given\n",
      "O=5                      #cm\n",
      "u=-45.0                       #cm\n",
      "v=90.0\n",
      "\n",
      "#Calculation\n",
      "f=-1/(1/u-1/v)\n",
      "I=v*O/u\n",
      "\n",
      "#Result\n",
      "print\"Focal length is\", f,\"cm\"\n",
      "print\"size of the image is\",I,\"cm\""
     ],
     "language": "python",
     "metadata": {},
     "outputs": [
      {
       "output_type": "stream",
       "stream": "stdout",
       "text": [
        "Focal length is 30.0 cm\n",
        "size of the image is -10.0 cm\n"
       ]
      }
     ],
     "prompt_number": 309
    },
    {
     "cell_type": "heading",
     "level": 2,
     "metadata": {},
     "source": [
      "Example 21.36 Page no 658"
     ]
    },
    {
     "cell_type": "code",
     "collapsed": false,
     "input": [
      "#Given\n",
      "O=3                                    #cm\n",
      "u=-14.0\n",
      "f=-21.0\n",
      "\n",
      "#Calculation\n",
      "v=1/(1/f+1/u)\n",
      "I=O*v/u\n",
      "\n",
      "#Result\n",
      "print\"Image produced by the lens is\",I,\"cm\""
     ],
     "language": "python",
     "metadata": {},
     "outputs": [
      {
       "output_type": "stream",
       "stream": "stdout",
       "text": [
        "Image produced by the lens is 1.8 cm\n"
       ]
      }
     ],
     "prompt_number": 3
    },
    {
     "cell_type": "heading",
     "level": 2,
     "metadata": {},
     "source": [
      "Example 21.37 Page no 658"
     ]
    },
    {
     "cell_type": "code",
     "collapsed": false,
     "input": [
      "#Given\n",
      "R1=0.20\n",
      "R2=-0.2\n",
      "u=1.5\n",
      "u1=1.25\n",
      "\n",
      "#Calculation\n",
      "P1=(u-1)*(1/R1-1/R2)\n",
      "u2=u/u1\n",
      "P2=(u2-1)*(-1/R2-1/R2)\n",
      "P=P1/P2\n",
      "\n",
      "#Result\n",
      "print\"Ratio of power of lens is\", P"
     ],
     "language": "python",
     "metadata": {},
     "outputs": [
      {
       "output_type": "stream",
       "stream": "stdout",
       "text": [
        "Ratio of power of lens is 2.5\n"
       ]
      }
     ],
     "prompt_number": 8
    },
    {
     "cell_type": "heading",
     "level": 2,
     "metadata": {},
     "source": [
      "Example 21.38 Page no 658"
     ]
    },
    {
     "cell_type": "code",
     "collapsed": false,
     "input": [
      "#Given\n",
      "f1=15.0                   #cm\n",
      "f2=30.0\n",
      "\n",
      "#Calculation\n",
      "f=1/(1/f1+1/f2)\n",
      "P=1/f\n",
      "\n",
      "#Result\n",
      "print\"Power is\",f*10**-2,\"m\"\n",
      "print\"Focal length is\",P*10**2,\"D\""
     ],
     "language": "python",
     "metadata": {},
     "outputs": [
      {
       "output_type": "stream",
       "stream": "stdout",
       "text": [
        "Power is 0.1 m\n",
        "Focal length is 10.0 D\n"
       ]
      }
     ],
     "prompt_number": 16
    },
    {
     "cell_type": "heading",
     "level": 2,
     "metadata": {},
     "source": [
      "Example 21.39 Page no 658"
     ]
    },
    {
     "cell_type": "code",
     "collapsed": false,
     "input": [
      "#Given\n",
      "P1=-1.5                        #D\n",
      "P2=2.75\n",
      "\n",
      "#Calculation\n",
      "P=P1+P2\n",
      "f=1/P\n",
      "\n",
      "#Result\n",
      "print\"Focal length is\",f,\"m\""
     ],
     "language": "python",
     "metadata": {},
     "outputs": [
      {
       "output_type": "stream",
       "stream": "stdout",
       "text": [
        "Focal length is 0.8 m\n"
       ]
      }
     ],
     "prompt_number": 18
    },
    {
     "cell_type": "heading",
     "level": 2,
     "metadata": {},
     "source": [
      "Example 21.40 Page no 659"
     ]
    },
    {
     "cell_type": "code",
     "collapsed": false,
     "input": [
      "#Given\n",
      "a=0.11\n",
      "a1=0.07\n",
      "\n",
      "#Calculation\n",
      "x=a-a1\n",
      "u=(a1-0.01)/x\n",
      "\n",
      "#Result\n",
      "print\"Refractive index is\",u"
     ],
     "language": "python",
     "metadata": {},
     "outputs": [
      {
       "output_type": "stream",
       "stream": "stdout",
       "text": [
        "Refractive index is 1.5\n"
       ]
      }
     ],
     "prompt_number": 24
    },
    {
     "cell_type": "heading",
     "level": 2,
     "metadata": {},
     "source": [
      "Example 21.41 Page no 659"
     ]
    },
    {
     "cell_type": "code",
     "collapsed": false,
     "input": [
      "#Given\n",
      "a=70                                #Degree\n",
      "\n",
      "#Calculation\n",
      "import math\n",
      "a=1/(math.sin(a*3.14/180.0))\n",
      "a1=math.atan(a)*180/3.14\n",
      "u=1/math.sin(a1*3.14/180.0)\n",
      "\n",
      "#Result\n",
      "print\"Critical angle is\", round(u,3)"
     ],
     "language": "python",
     "metadata": {},
     "outputs": [
      {
       "output_type": "stream",
       "stream": "stdout",
       "text": [
        "Critical angle is 1.372\n"
       ]
      }
     ],
     "prompt_number": 29
    },
    {
     "cell_type": "heading",
     "level": 2,
     "metadata": {},
     "source": [
      "Example 21.42 Page no 659"
     ]
    },
    {
     "cell_type": "code",
     "collapsed": false,
     "input": [
      "#Given\n",
      "a=180                          #degree\n",
      "b=90\n",
      "c=45\n",
      "\n",
      "#Calculation\n",
      "import math\n",
      "r=a-(b+c)\n",
      "A=1.352*math.sin(r*3.14/180.0)\n",
      "A1=math.asin(A)*180/3.14\n",
      "\n",
      "#Result\n",
      "print\"(a) Angle of incidence is sin-1[(math.sqrt(u**2-u1**2)-u1)/math.sqrt(2)]\"\n",
      "print\"(b) Angle of incidence at face AB is\",round(A1,0),\"Degree\""
     ],
     "language": "python",
     "metadata": {},
     "outputs": [
      {
       "output_type": "stream",
       "stream": "stdout",
       "text": [
        "(a) Angle of incidence is sin-1[(math.sqrt(u**2-u1**2)-u1)/math.sqrt(2)]\n",
        "(b) Angle of incidence at face AB is 73.0 Degree\n"
       ]
      }
     ],
     "prompt_number": 34
    },
    {
     "cell_type": "heading",
     "level": 2,
     "metadata": {},
     "source": [
      "Example 21.43 Page no 660"
     ]
    },
    {
     "cell_type": "code",
     "collapsed": false,
     "input": [
      "#Given\n",
      "u=40.0                         #cm\n",
      "R=10.0\n",
      "u1=1\n",
      "u2=1.5\n",
      "\n",
      "\n",
      "#Calculation\n",
      "v=u2/(((u2-u1)/R)+(u1/u))\n",
      "\n",
      "#Result\n",
      "print\"Position of the image is\", v,\"cm\""
     ],
     "language": "python",
     "metadata": {},
     "outputs": [
      {
       "output_type": "stream",
       "stream": "stdout",
       "text": [
        "Position of the image is 20.0 cm\n"
       ]
      }
     ],
     "prompt_number": 38
    },
    {
     "cell_type": "heading",
     "level": 2,
     "metadata": {},
     "source": [
      "Example 21.44 Page no 660"
     ]
    },
    {
     "cell_type": "code",
     "collapsed": false,
     "input": [
      "#Given\n",
      "x=0.04\n",
      "y=8/300.0\n",
      "u=-0.04\n",
      "v=-16/500.0\n",
      "\n",
      "#Calculation\n",
      "U=x/y\n",
      "R=(1-U)/(-U/u+1/v)\n",
      "f=1/((U-1)/R)\n",
      "\n",
      "print\"(i) Refractive index is\",U\n",
      "print\"(ii) Radius of curvature is\",R,\"m\"\n",
      "print\"(iii) Focal length is\",f,\"m\""
     ],
     "language": "python",
     "metadata": {},
     "outputs": [
      {
       "output_type": "stream",
       "stream": "stdout",
       "text": [
        "(i) Refractive index is 1.5\n",
        "(ii) Radius of curvature is -0.08 m\n",
        "(iii) Focal length is -0.16 m\n"
       ]
      }
     ],
     "prompt_number": 53
    },
    {
     "cell_type": "heading",
     "level": 2,
     "metadata": {},
     "source": [
      "Example 21.46 Page no 661"
     ]
    },
    {
     "cell_type": "code",
     "collapsed": false,
     "input": [
      "#Given\n",
      "OI=90.0                     #cm\n",
      "O1O2=20\n",
      "x=35                          #cm\n",
      "\n",
      "#Calculation\n",
      "f=(OI-x)*x/((OI-x)+x)\n",
      "\n",
      "#Result\n",
      "print\"Focal length of the lens is\", round(f,1),\"cm\""
     ],
     "language": "python",
     "metadata": {},
     "outputs": [
      {
       "output_type": "stream",
       "stream": "stdout",
       "text": [
        "Focal length of the lens is 21.4 cm\n"
       ]
      }
     ],
     "prompt_number": 71
    },
    {
     "cell_type": "heading",
     "level": 2,
     "metadata": {},
     "source": [
      "Example 21.47 Page no 662"
     ]
    },
    {
     "cell_type": "code",
     "collapsed": false,
     "input": [
      "#Given\n",
      "m=-4\n",
      "a=1.5\n",
      "u=0.3\n",
      "\n",
      "#Calculation\n",
      "x=a/(-m+1)\n",
      "v=a-u\n",
      "f=1/(1/u+1/v)\n",
      "\n",
      "#Result\n",
      "print\"Focal length of the lens is\", f,\"m\""
     ],
     "language": "python",
     "metadata": {},
     "outputs": [
      {
       "output_type": "stream",
       "stream": "stdout",
       "text": [
        "Focal length of the lens is 0.24 m\n"
       ]
      }
     ],
     "prompt_number": 61
    },
    {
     "cell_type": "heading",
     "level": 2,
     "metadata": {},
     "source": [
      "Example 21.48 Page no 662"
     ]
    },
    {
     "cell_type": "code",
     "collapsed": false,
     "input": [
      "#Given\n",
      "P1=8.0                        #dioptre\n",
      "P2=2.0\n",
      "\n",
      "#Calculation\n",
      "f1=1/P1\n",
      "f2=1/P2\n",
      "\n",
      "#Result\n",
      "print\"Focal length of lens 1 is\",f1,\"m\"\n",
      "print\"Focal length of lens 2 is\",f2,\"m\""
     ],
     "language": "python",
     "metadata": {},
     "outputs": [
      {
       "output_type": "stream",
       "stream": "stdout",
       "text": [
        "Focal length of lens 1 is 0.125 m\n",
        "Focal length of lens 2 is 0.5 m\n"
       ]
      }
     ],
     "prompt_number": 66
    }
   ],
   "metadata": {}
  }
 ]
}