{
 "metadata": {
  "name": "",
  "signature": "sha256:caf7ddcffb734a0e87ae0e90d77de524bc76c7023aae29373fc9035427092542"
 },
 "nbformat": 3,
 "nbformat_minor": 0,
 "worksheets": [
  {
   "cells": [
    {
     "cell_type": "heading",
     "level": 1,
     "metadata": {},
     "source": [
      "Chapter 25 Interference of light "
     ]
    },
    {
     "cell_type": "heading",
     "level": 2,
     "metadata": {},
     "source": [
      "Example 25.1 Page no 728"
     ]
    },
    {
     "cell_type": "code",
     "collapsed": false,
     "input": [
      "#Given\n",
      "w1=4\n",
      "w2=9.0\n",
      "a=25\n",
      "\n",
      "#Calculation\n",
      "I=w1/w2\n",
      "Imax=a/1.0\n",
      "\n",
      "#Result\n",
      "print\"Ratio of intensity is\",Imax"
     ],
     "language": "python",
     "metadata": {},
     "outputs": [
      {
       "output_type": "stream",
       "stream": "stdout",
       "text": [
        "Ratio of intensity is 25.0\n"
       ]
      }
     ],
     "prompt_number": 1
    },
    {
     "cell_type": "heading",
     "level": 2,
     "metadata": {},
     "source": [
      "Example 25.2 Page no 728"
     ]
    },
    {
     "cell_type": "code",
     "collapsed": false,
     "input": [
      "#Given\n",
      "l=4800*10**-10                         #m\n",
      "b=0.6*10**-2\n",
      "b1=0.0045\n",
      "\n",
      "#Calculation\n",
      "a=l/b\n",
      "l1=a*b1*2\n",
      "\n",
      "#Result\n",
      "print\"Wavelenght of the light is\", l1*10**10,\"A\""
     ],
     "language": "python",
     "metadata": {},
     "outputs": [
      {
       "output_type": "stream",
       "stream": "stdout",
       "text": [
        "Wavelenght of the light is 7200.0 A\n"
       ]
      }
     ],
     "prompt_number": 6
    },
    {
     "cell_type": "heading",
     "level": 2,
     "metadata": {},
     "source": [
      "Example 25.3 Page no 728"
     ]
    },
    {
     "cell_type": "code",
     "collapsed": false,
     "input": [
      "#Given\n",
      "d=1.5*10**-3\n",
      "D=1                                   #m\n",
      "w=3.93                               #mm\n",
      "D1=1.5\n",
      "\n",
      "#Calculation\n",
      "b=w/10.0\n",
      "l=(b*10**-3*d)/D\n",
      "a=(10*D1*l)/d\n",
      "\n",
      "#Result\n",
      "print\"Wavelength of the light is\", l,\"m\"\n",
      "print\"Width of 10 fringes is\",a*10**3,\"*10**-3 m\""
     ],
     "language": "python",
     "metadata": {},
     "outputs": [
      {
       "output_type": "stream",
       "stream": "stdout",
       "text": [
        "Wavelength of the light is 5.895e-07 m\n",
        "Width of 10 fringes is 5.895 *10**-3 m\n"
       ]
      }
     ],
     "prompt_number": 18
    },
    {
     "cell_type": "heading",
     "level": 2,
     "metadata": {},
     "source": [
      "Example 25.4 Page no 729"
     ]
    },
    {
     "cell_type": "code",
     "collapsed": false,
     "input": [
      "#Given\n",
      "d=0.02                      #cm\n",
      "D=80\n",
      "l=6*10**-5\n",
      "n=5\n",
      "\n",
      "#Calculation\n",
      "y5=n*D*l/d\n",
      "\n",
      "#Result\n",
      "print\"Distance of fifth bright fringe is\",y5,\"cm\""
     ],
     "language": "python",
     "metadata": {},
     "outputs": [
      {
       "output_type": "stream",
       "stream": "stdout",
       "text": [
        "Distance of fifth bright fringe is 1.2 cm\n"
       ]
      }
     ],
     "prompt_number": 20
    },
    {
     "cell_type": "heading",
     "level": 2,
     "metadata": {},
     "source": [
      "Example 25.5 Page no 729"
     ]
    },
    {
     "cell_type": "code",
     "collapsed": false,
     "input": [
      "#Given\n",
      "d=3*10**-4\n",
      "D=1.5\n",
      "y4=10**-2                      #m\n",
      "\n",
      "#Calculation\n",
      "l=y4*d/(4*D)\n",
      "\n",
      "#Result\n",
      "print\"Wavelength of light is\",l,\"m\""
     ],
     "language": "python",
     "metadata": {},
     "outputs": [
      {
       "output_type": "stream",
       "stream": "stdout",
       "text": [
        "Wavelength of light is 5e-07 m\n"
       ]
      }
     ],
     "prompt_number": 22
    },
    {
     "cell_type": "heading",
     "level": 2,
     "metadata": {},
     "source": [
      "Example 25.6 Page no 729"
     ]
    },
    {
     "cell_type": "code",
     "collapsed": false,
     "input": [
      "#Given\n",
      "d=0.125*10**-3                   #m\n",
      "l=4500*10**-10\n",
      "D=1\n",
      "\n",
      "#Calculation\n",
      "y2=2*D*l/d\n",
      "y21=2*y2\n",
      "\n",
      "#Result\n",
      "print\"Seperation between bright fringe on both sides of central maximum is\",y21*10**3,\"*10**-3 m\""
     ],
     "language": "python",
     "metadata": {},
     "outputs": [
      {
       "output_type": "stream",
       "stream": "stdout",
       "text": [
        "Seperation between bright fringe on both sides of central maximum is 14.4 *10**-3 m\n"
       ]
      }
     ],
     "prompt_number": 27
    },
    {
     "cell_type": "heading",
     "level": 2,
     "metadata": {},
     "source": [
      "Example 25.7 Page no 729"
     ]
    },
    {
     "cell_type": "code",
     "collapsed": false,
     "input": [
      "#Given\n",
      "d=0.012                      #m\n",
      "D=100\n",
      "l=6000*10**-8                   #cm\n",
      "n=2\n",
      "\n",
      "#Calculation\n",
      "y2=(n**2+1)*D*l/(n*d)\n",
      "\n",
      "#result\n",
      "print\"Distance of 3rd dark band is\",y2,\"cm\""
     ],
     "language": "python",
     "metadata": {},
     "outputs": [
      {
       "output_type": "stream",
       "stream": "stdout",
       "text": [
        "Distance of 3rd dark band is 1.25 cm\n"
       ]
      }
     ],
     "prompt_number": 29
    },
    {
     "cell_type": "heading",
     "level": 2,
     "metadata": {},
     "source": [
      "Example 25.8 Page no 729"
     ]
    },
    {
     "cell_type": "code",
     "collapsed": false,
     "input": [
      "#Given\n",
      "d=2*10**-4                  #m\n",
      "D=1.5\n",
      "y3=1.8*10**-2\n",
      "\n",
      "#Calculation\n",
      "l=2*y3*d/(7*D)\n",
      "\n",
      "#Result\n",
      "print\"Wavelength of the light is\", round(l*10**7,2)*10**-7,\"m\""
     ],
     "language": "python",
     "metadata": {},
     "outputs": [
      {
       "output_type": "stream",
       "stream": "stdout",
       "text": [
        "Wavelength of the light is 6.86e-07 m\n"
       ]
      }
     ],
     "prompt_number": 35
    },
    {
     "cell_type": "heading",
     "level": 2,
     "metadata": {},
     "source": [
      "Example 25.9 Page no 729"
     ]
    },
    {
     "cell_type": "code",
     "collapsed": false,
     "input": [
      "#Given\n",
      "b=2*10**-3\n",
      "l=6.0*10**-7\n",
      "u=1.33\n",
      "\n",
      "#calculation\n",
      "l1=b/l\n",
      "b2=(b*l)/(u*l)\n",
      "\n",
      "#Result\n",
      "print\"Fringe width is\",round(b2*10**3,2),\"mm\""
     ],
     "language": "python",
     "metadata": {},
     "outputs": [
      {
       "output_type": "stream",
       "stream": "stdout",
       "text": [
        "Fringe width is 1.5 mm\n"
       ]
      }
     ],
     "prompt_number": 13
    },
    {
     "cell_type": "heading",
     "level": 2,
     "metadata": {},
     "source": [
      "Example 25.10 Page no 729"
     ]
    },
    {
     "cell_type": "code",
     "collapsed": false,
     "input": [
      "#Given\n",
      "l=6000*10**-10                    #m\n",
      "d=10**-3\n",
      "D=1\n",
      "n=10\n",
      "\n",
      "#Calculation\n",
      "a10=n*l/d\n",
      "b=(D*l)/d\n",
      "\n",
      "#Result\n",
      "print\"(a) Angular position of 10th maximum is\",a10,\"radian\"\n",
      "print\"(b) Separation of the two adjacent minima is\",b*10**3,\"mm\""
     ],
     "language": "python",
     "metadata": {},
     "outputs": [
      {
       "output_type": "stream",
       "stream": "stdout",
       "text": [
        "(a) Angular position of 10th maximum is 0.006 radian\n",
        "(b) Separation of the two adjacent minima is 0.6 mm\n"
       ]
      }
     ],
     "prompt_number": 18
    },
    {
     "cell_type": "heading",
     "level": 2,
     "metadata": {},
     "source": [
      "Example 25.11 Page no 730"
     ]
    },
    {
     "cell_type": "code",
     "collapsed": false,
     "input": [
      "#Given\n",
      "l=6000*10**-10                                   #m\n",
      "r=0\n",
      "n=7\n",
      "\n",
      "#Calculation\n",
      "t=n*l/2.0\n",
      "\n",
      "#Result\n",
      "print\"Difference of the film is\", t,\"m\""
     ],
     "language": "python",
     "metadata": {},
     "outputs": [
      {
       "output_type": "stream",
       "stream": "stdout",
       "text": [
        "Difference of the film is 2.1e-06 m\n"
       ]
      }
     ],
     "prompt_number": 21
    },
    {
     "cell_type": "heading",
     "level": 2,
     "metadata": {},
     "source": [
      "Example 25.12 Page no 730"
     ]
    },
    {
     "cell_type": "code",
     "collapsed": false,
     "input": [
      "#Given\n",
      "u=1.4\n",
      "t=10**-4               #cm\n",
      "n1=4.0\n",
      "n2=5.0\n",
      "n3=6.0\n",
      "n4=7.0\n",
      "N1=9\n",
      "N2=11\n",
      "N3=13\n",
      "\n",
      "#Calculation\n",
      "a=2*u*t*10**8\n",
      "l1=a/n1\n",
      "l2=a/n2\n",
      "l3=a/n3\n",
      "l4=a/n4\n",
      "L1=2*a/N1\n",
      "L2=2*a/N2\n",
      "L3=2*a/N3\n",
      "\n",
      "#Result\n",
      "print\"(i) Wavelength When the reflection is weak is\",l1,\"A ,\",l2,\"A ,\",round(l3,0),\"A ,\",l4,\"A\"\n",
      "print\"(ii) Wavelength when the reflection is strong is\",round(L1,0),\"A ,\",round(L2,0),\"A ,\",round(L3,0),\"A\""
     ],
     "language": "python",
     "metadata": {},
     "outputs": [
      {
       "output_type": "stream",
       "stream": "stdout",
       "text": [
        "(i) Wavelength When the reflection is weak is 7000.0 A , 5600.0 A , 4667.0 A , 4000.0 A\n",
        "(ii) Wavelength when the reflection is strong is 6222.0 A , 5091.0 A , 4308.0 A\n"
       ]
      }
     ],
     "prompt_number": 43
    },
    {
     "cell_type": "heading",
     "level": 2,
     "metadata": {},
     "source": [
      "Example 25.13 Page no 730"
     ]
    },
    {
     "cell_type": "code",
     "collapsed": false,
     "input": [
      "#Given\n",
      "n1=10\n",
      "l1=4358*10**-10                   #m\n",
      "l2=5893.0*10**-10\n",
      "\n",
      "#Calculation\n",
      "n2=n1*l1/l2\n",
      "\n",
      "#Result\n",
      "print\"Number of fringes is\",round(n2,1)"
     ],
     "language": "python",
     "metadata": {},
     "outputs": [
      {
       "output_type": "stream",
       "stream": "stdout",
       "text": [
        "Number of fringes is 7.4\n"
       ]
      }
     ],
     "prompt_number": 45
    }
   ],
   "metadata": {}
  }
 ]
}