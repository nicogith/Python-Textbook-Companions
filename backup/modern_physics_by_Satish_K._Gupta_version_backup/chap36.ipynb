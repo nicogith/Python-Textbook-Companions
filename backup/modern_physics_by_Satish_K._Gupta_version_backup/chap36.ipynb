{
 "metadata": {
  "name": "",
  "signature": "sha256:d9296ed3bbb0144b6fddcd9bd9b4d00b56d458558332cd059b27e6750c38d570"
 },
 "nbformat": 3,
 "nbformat_minor": 0,
 "worksheets": [
  {
   "cells": [
    {
     "cell_type": "heading",
     "level": 1,
     "metadata": {},
     "source": [
      "Chapter 36 Space Communication"
     ]
    },
    {
     "cell_type": "heading",
     "level": 2,
     "metadata": {},
     "source": [
      "Example 36.1 Page no 990"
     ]
    },
    {
     "cell_type": "code",
     "collapsed": false,
     "input": [
      "#Given\n",
      "AB=2*10**5                         #m\n",
      "CN=100                             #km\n",
      "C=3.0*10**8\n",
      "\n",
      "#Calculation\n",
      "Tg=AB/C\n",
      "Q=(math.sqrt(CN**2+CN**2))+(math.sqrt(CN**2+CN**2))\n",
      "Ts=Q*10**3/C\n",
      "W=(Ts-Tg)\n",
      "\n",
      "#Result\n",
      "print\"The time delay is\",round(W*10**4,2),\"*10**-4 s\""
     ],
     "language": "python",
     "metadata": {},
     "outputs": [
      {
       "output_type": "stream",
       "stream": "stdout",
       "text": [
        "The time delay is 2.76 *10**-4 s\n"
       ]
      }
     ],
     "prompt_number": 57
    },
    {
     "cell_type": "heading",
     "level": 2,
     "metadata": {},
     "source": [
      "Example 36.2 Page no 990"
     ]
    },
    {
     "cell_type": "code",
     "collapsed": false,
     "input": [
      "#Given\n",
      "H=80                       #m\n",
      "R=6.4*10**6\n",
      "W=800                      #km**-2\n",
      "\n",
      "#Calculation\n",
      "import math\n",
      "D=math.sqrt(2*H*R)\n",
      "A=math.pi*D**2\n",
      "S=A*W\n",
      "\n",
      "#Result\n",
      "print\"(a) The radius of the circle is\",D*10**-4,\"10**4 m\"\n",
      "print\"(b) The population covered by the transmission is\",round(S*10**-12,3),\"*10**6\""
     ],
     "language": "python",
     "metadata": {},
     "outputs": [
      {
       "output_type": "stream",
       "stream": "stdout",
       "text": [
        "(a) The radius of the circle is 3.2 10**4 m\n",
        "(b) The population covered by the transmission is 2.574 *10**6\n"
       ]
      }
     ],
     "prompt_number": 32
    }
   ],
   "metadata": {}
  }
 ]
}