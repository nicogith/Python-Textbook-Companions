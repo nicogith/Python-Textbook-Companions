{
 "metadata": {
  "name": "",
  "signature": "sha256:14dd6f2dca7ff6e4458a0a97e28043f8703a45199dee1a45b482cebdf3ee0a74"
 },
 "nbformat": 3,
 "nbformat_minor": 0,
 "worksheets": [
  {
   "cells": [
    {
     "cell_type": "heading",
     "level": 1,
     "metadata": {},
     "source": [
      "Chapter 18 Alternating current"
     ]
    },
    {
     "cell_type": "heading",
     "level": 2,
     "metadata": {},
     "source": [
      "Example 18.2 Page no 555"
     ]
    },
    {
     "cell_type": "code",
     "collapsed": false,
     "input": [
      "#Given\n",
      "f1=100\n",
      "f2=2.0\n",
      "I0=50\n",
      "\n",
      "#Calculation\n",
      "import math\n",
      "f=f1/f2\n",
      "Im=0.636*I0\n",
      "Iv=0.707*I0\n",
      "I=I0*math.sin(60*3.14/180.0)\n",
      "\n",
      "#Result\n",
      "print\"(i) Frequency of A.C applied is\",f,\"c.p.s\"\n",
      "print\"(ii) Mean value of current is\",Im,\"A\"\n",
      "print\"(iii) Virtual value of current is\",Iv,\"A\"\n",
      "print\"(iv) Value of current is\",round(I,1),\"A\""
     ],
     "language": "python",
     "metadata": {},
     "outputs": [
      {
       "output_type": "stream",
       "stream": "stdout",
       "text": [
        "(i) Frequency of A.C applied is 50.0 c.p.s\n",
        "(ii) Mean value of current is 31.8 A\n",
        "(iii) Virtual value of current is 35.35 A\n",
        "(iv) Value of current is 43.3 A\n"
       ]
      }
     ],
     "prompt_number": 10
    },
    {
     "cell_type": "heading",
     "level": 1,
     "metadata": {},
     "source": [
      "Example 18.3 Page no 555"
     ]
    },
    {
     "cell_type": "code",
     "collapsed": false,
     "input": [
      "#Given\n",
      "R=10.0                     #ohm\n",
      "E0=200\n",
      "\n",
      "#Calculation\n",
      "import math\n",
      "Ev=E0/math.sqrt(2)\n",
      "Iv=Ev/R\n",
      "Pav=Ev*Iv\n",
      "\n",
      "#Result\n",
      "print\"(i) r.m.s value of voltage is\", E0,\"V\"\n",
      "print\"(ii) r.m.s value of current is\",round(Iv,2),\"A\"\n",
      "print\"(iii)Power dissipated is\",Pav,\"W\""
     ],
     "language": "python",
     "metadata": {},
     "outputs": [
      {
       "output_type": "stream",
       "stream": "stdout",
       "text": [
        "(i) r.m.s value of voltage is 200 V\n",
        "(ii) r.m.s value of current is 14.14 A\n",
        "(iii)Power dissipated is 2000.0 W\n"
       ]
      }
     ],
     "prompt_number": 18
    },
    {
     "cell_type": "heading",
     "level": 2,
     "metadata": {},
     "source": [
      "Example 18.4 Page no 555"
     ]
    },
    {
     "cell_type": "code",
     "collapsed": false,
     "input": [
      "#Given\n",
      "L=1                       #H\n",
      "Ev=110                   #V\n",
      "f=70                                   #Hz\n",
      "\n",
      "#Calculation\n",
      "import math\n",
      "Xl=2*3.14*f*L\n",
      "I=Ev/Xl\n",
      "I0=math.sqrt(2)*I\n",
      "\n",
      "#Result\n",
      "print\"(a) Reactance is\", round(Xl,0)\n",
      "print\"(b) Current through inductance is\",round(I,2),\"A\"\n",
      "print\"(c) Peak value of current is\",round(I0,3),\"A\""
     ],
     "language": "python",
     "metadata": {},
     "outputs": [
      {
       "output_type": "stream",
       "stream": "stdout",
       "text": [
        "(a) Reactance is 440.0\n",
        "(b) Current through inductance is 0.25 A\n",
        "(c) Peak value of current is 0.354 A\n"
       ]
      }
     ],
     "prompt_number": 28
    },
    {
     "cell_type": "heading",
     "level": 2,
     "metadata": {},
     "source": [
      "Example 18.5 Page no 555"
     ]
    },
    {
     "cell_type": "code",
     "collapsed": false,
     "input": [
      "#Given\n",
      "L=2*10**-3\n",
      "w=200                      #rad/s\n",
      "I0=0.2\n",
      "\n",
      "#Calculation\n",
      "Xl=w*L\n",
      "e=L*I0*w\n",
      "I0=e/Xl\n",
      "\n",
      "#Result\n",
      "print\"Maximum value of induced current is\", I0,\"A\""
     ],
     "language": "python",
     "metadata": {},
     "outputs": [
      {
       "output_type": "stream",
       "stream": "stdout",
       "text": [
        "Maximum value of induced current is 0.2 A\n"
       ]
      }
     ],
     "prompt_number": 35
    },
    {
     "cell_type": "heading",
     "level": 2,
     "metadata": {},
     "source": [
      "Example 18.6 Page no 555"
     ]
    },
    {
     "cell_type": "code",
     "collapsed": false,
     "input": [
      "#Given\n",
      "C=10*10**-6                 #F\n",
      "f=50                        #cycles/s\n",
      "Ev=110\n",
      "\n",
      "#Calculation\n",
      "import math\n",
      "Xc=1/(math.pi*2*f*C)\n",
      "Iv=Ev/Xc\n",
      "\n",
      "#Result\n",
      "print\"Virtual value of current is\", round(Iv,3),\"A\""
     ],
     "language": "python",
     "metadata": {},
     "outputs": [
      {
       "output_type": "stream",
       "stream": "stdout",
       "text": [
        "Virtual value of current is 0.346 A\n"
       ]
      }
     ],
     "prompt_number": 40
    },
    {
     "cell_type": "heading",
     "level": 2,
     "metadata": {},
     "source": [
      "Example 18.7 Page no 555"
     ]
    },
    {
     "cell_type": "code",
     "collapsed": false,
     "input": [
      "#Given\n",
      "L=4\n",
      "R=30                           #ohm\n",
      "Ev=200\n",
      "f=50\n",
      "\n",
      "#Calculation\n",
      "import math\n",
      "Xl=2*math.pi*f*(L/math.pi)\n",
      "Z=math.sqrt(R**2+Xl**2)\n",
      "Iv=Ev/Z\n",
      "\n",
      "#Result\n",
      "print\"current flowing in the circuit is\", round(Iv,3),\"A\""
     ],
     "language": "python",
     "metadata": {},
     "outputs": [
      {
       "output_type": "stream",
       "stream": "stdout",
       "text": [
        "current flowing in the circuit is 0.499 A\n"
       ]
      }
     ],
     "prompt_number": 5
    },
    {
     "cell_type": "heading",
     "level": 2,
     "metadata": {},
     "source": [
      "Example 18.8 Page no 556"
     ]
    },
    {
     "cell_type": "code",
     "collapsed": false,
     "input": [
      "#Given\n",
      "E=100\n",
      "I=1.0\n",
      "Iv=0.5\n",
      "f=50\n",
      "\n",
      "#Calculation\n",
      "import math\n",
      "R=E/I\n",
      "Z=E/Iv\n",
      "Xl=math.sqrt(Z**2-R**2)\n",
      "L=Xl/(2*math.pi*f)\n",
      "\n",
      "#Result\n",
      "print\"Inductance of the coil is\", round(L,2),\"H\"\n",
      "print\"Resistance is\",R,\"ohm\"\n",
      "print\"Impedence is\",Z,\"ohm\""
     ],
     "language": "python",
     "metadata": {},
     "outputs": [
      {
       "output_type": "stream",
       "stream": "stdout",
       "text": [
        "Inductance of the coil is 0.55 H\n",
        "Resistance is 100.0 ohm\n",
        "Impedence is 200.0 ohm\n"
       ]
      }
     ],
     "prompt_number": 18
    },
    {
     "cell_type": "heading",
     "level": 2,
     "metadata": {},
     "source": [
      "Example 18.9 Page no 556"
     ]
    },
    {
     "cell_type": "code",
     "collapsed": false,
     "input": [
      "#Given\n",
      "L=0.50                          #H\n",
      "R=100.0                           #ohm\n",
      "f=50                             #Hz\n",
      "Ev=240\n",
      "\n",
      "#Calculation\n",
      "import math\n",
      "Iv=Ev/(math.sqrt(R**2+(2*math.pi*f*L)**2))\n",
      "I0=math.sqrt(2)*Iv\n",
      "a=2*math.pi*f*L/R\n",
      "a1=math.atan(a)*180/3.14\n",
      "\n",
      "#Result\n",
      "print\"(a) Maximum current in the coil is\", round(I0,3),\"A\"\n",
      "print\"(b) Phase difference is\",round(a1,1),\"degree (e.m.f. leads current)\""
     ],
     "language": "python",
     "metadata": {},
     "outputs": [
      {
       "output_type": "stream",
       "stream": "stdout",
       "text": [
        "(a) Maximum current in the coil is 1.823 A\n",
        "(b) Phase difference is 57.5 degree (e.m.f. leads current)\n"
       ]
      }
     ],
     "prompt_number": 29
    },
    {
     "cell_type": "heading",
     "level": 2,
     "metadata": {},
     "source": [
      "Example 18.10 Page no 556"
     ]
    },
    {
     "cell_type": "code",
     "collapsed": false,
     "input": [
      "#Given\n",
      "Ev=220\n",
      "Iv=0.5\n",
      "\n",
      "#Calculation\n",
      "import math\n",
      "R=Ev/Iv\n",
      "Xl=Ev/Iv\n",
      "Z=math.sqrt(R**2+Xl**2)\n",
      "Iv1=Ev/Z\n",
      "\n",
      "#Result\n",
      "print\"(a) X is a resistor of\",R,\"ohm\\n and Y is a inductor of\",Xl,\"ohm\"\n",
      "print\"(b) Current in the circuit is\",round(Iv1,3),\"A\""
     ],
     "language": "python",
     "metadata": {},
     "outputs": [
      {
       "output_type": "stream",
       "stream": "stdout",
       "text": [
        "(a) X is a resistor of 440.0 ohm\n",
        " and Y is a inductor of 440.0 ohm\n",
        "(b) Current in the circuit is 0.354 A\n"
       ]
      }
     ],
     "prompt_number": 37
    },
    {
     "cell_type": "heading",
     "level": 2,
     "metadata": {},
     "source": [
      "Example 18.11 Page no 556"
     ]
    },
    {
     "cell_type": "code",
     "collapsed": false,
     "input": [
      "#Given\n",
      "Z=100                          #ohm\n",
      "a=45                           #degree\n",
      "f=1000\n",
      "\n",
      "#Calculation\n",
      "import math\n",
      "Xl=Z/math.sqrt(2)\n",
      "L=Xl/(2*math.pi*f)\n",
      "\n",
      "#Result\n",
      "print\"Self inductance of the coil is\", round(L*10**2,4),\"*10**-2 H\""
     ],
     "language": "python",
     "metadata": {},
     "outputs": [
      {
       "output_type": "stream",
       "stream": "stdout",
       "text": [
        "Self inductance of the coil is 1.1254 *10**-2 H\n"
       ]
      }
     ],
     "prompt_number": 43
    },
    {
     "cell_type": "heading",
     "level": 2,
     "metadata": {},
     "source": [
      "Example 18.12 Page no 556"
     ]
    },
    {
     "cell_type": "code",
     "collapsed": false,
     "input": [
      "#Given\n",
      "R=10                                #ohm\n",
      "Ev=220\n",
      "f=50                                  #Hz\n",
      "Iv=2.0                                #A\n",
      "\n",
      "#Calculation\n",
      "import math\n",
      "Z=Ev/Iv\n",
      "Xc=math.sqrt(Z**2-R**2)\n",
      "\n",
      "#Result\n",
      "print\"Reactance of the capacitor is\",round(Xc,2),\"ohm\""
     ],
     "language": "python",
     "metadata": {},
     "outputs": [
      {
       "output_type": "stream",
       "stream": "stdout",
       "text": [
        "Reactance of the capacitor is 109.54 ohm\n"
       ]
      }
     ],
     "prompt_number": 46
    },
    {
     "cell_type": "heading",
     "level": 2,
     "metadata": {},
     "source": [
      "Example 18.13 Page no 556"
     ]
    },
    {
     "cell_type": "code",
     "collapsed": false,
     "input": [
      "#Given\n",
      "R=10\n",
      "C=0.1*10**-6                 #F\n",
      "Ev=100                          #V\n",
      "f=50\n",
      "\n",
      "#Calculation\n",
      "import math\n",
      "Z=math.sqrt(R**2+(1/(2*math.pi*f*C))**2)\n",
      "Iv=Ev/Z\n",
      "\n",
      "#Result\n",
      "print\"Current in the circuit is\", round(Iv*10**3,3),\"*10**-3 A\""
     ],
     "language": "python",
     "metadata": {},
     "outputs": [
      {
       "output_type": "stream",
       "stream": "stdout",
       "text": [
        "Current in the circuit is 3.142 *10**-3 A\n"
       ]
      }
     ],
     "prompt_number": 51
    },
    {
     "cell_type": "heading",
     "level": 2,
     "metadata": {},
     "source": [
      "Example 18.14 Page no 557"
     ]
    },
    {
     "cell_type": "code",
     "collapsed": false,
     "input": [
      "#Given\n",
      "C=100*10**-6\n",
      "R=40\n",
      "Ev=110\n",
      "f=60\n",
      "\n",
      "#Calculation\n",
      "import math\n",
      "Iv=Ev/(math.sqrt(R**2+(1/(2*math.pi*f*C)**2)))\n",
      "Iv1=math.sqrt(2)*Iv\n",
      "a=1/(2*math.pi*f*C*R)\n",
      "a1=math.atan(a)*180/3.14\n",
      "\n",
      "#Result\n",
      "print\"(a) Maximum current in the circuit is\", round(Iv1,2),\"A\"\n",
      "print\"(b) Phase lag between the current maximum and voltage maximum is\",round(a1,2),\"degree (e.m.f. lags behind the current)\""
     ],
     "language": "python",
     "metadata": {},
     "outputs": [
      {
       "output_type": "stream",
       "stream": "stdout",
       "text": [
        "(a) Maximum current in the circuit is 3.24 A\n",
        "(b) Phase lag between the current maximum and voltage maximum is 33.57 degree (e.m.f. lags behind the current)\n"
       ]
      }
     ],
     "prompt_number": 62
    },
    {
     "cell_type": "heading",
     "level": 2,
     "metadata": {},
     "source": [
      "Example 18.15 page no 557"
     ]
    },
    {
     "cell_type": "code",
     "collapsed": false,
     "input": [
      "#Given\n",
      "C=100*10**-6\n",
      "R=50                              #ohm\n",
      "L=0.5                             #H\n",
      "Ev=110\n",
      "f=50\n",
      "\n",
      "#Calculation\n",
      "import math\n",
      "Z=math.sqrt(R**2+(2*math.pi*f*L-1/(2*math.pi*f*C))**2)\n",
      "I0=Ev/Z\n",
      "\n",
      "#Result\n",
      "print\"r.m.s value of current is\", round(I0,3),\"A\""
     ],
     "language": "python",
     "metadata": {},
     "outputs": [
      {
       "output_type": "stream",
       "stream": "stdout",
       "text": [
        "r.m.s value of current is 0.816 A\n"
       ]
      }
     ],
     "prompt_number": 68
    },
    {
     "cell_type": "heading",
     "level": 2,
     "metadata": {},
     "source": [
      "Example 18.16 Page no 557"
     ]
    },
    {
     "cell_type": "code",
     "collapsed": false,
     "input": [
      "#Given\n",
      "L=0.1                   #H\n",
      "C=25*10**-6\n",
      "R=25.0\n",
      "e=314\n",
      "E0=310\n",
      "\n",
      "#Calculation\n",
      "import math\n",
      "f=e/(2*math.pi)\n",
      "Xl=2*math.pi*f*L\n",
      "Xc=1/(2*math.pi*f*C)\n",
      "A=Xc-Xl\n",
      "Z=math.sqrt(R**2+(Xc-Xl)**2)\n",
      "Ev=E0/math.sqrt(2)\n",
      "Iv=Ev/Z\n",
      "a1=(Xc-Xl)/R\n",
      "a2=math.atan(a1)*180/3.14\n",
      "a3=a2*math.pi/180.0\n",
      "V=Iv*Xc\n",
      "V1=Iv*Xl\n",
      "V2=Iv*R\n",
      "L=1/(((2*math.pi*f)**2)*C)\n",
      "\n",
      "#Result\n",
      "print\"(a) The frequency of the e.m.f is\",round(f,0),\"cycle s**-1\" \n",
      "print\"(b) The reactance of the circuit is\",round(A,0),\"ohm\"\n",
      "print\"(c) The impedance of the circuit is\",round(Z,1),\"ohm\"\n",
      "print\"(d) The current in the circuit is\",round(Iv,2),\"A\"\n",
      "print\"(e) The phase angle of the current is\",round(a3,3),\"rad\"\n",
      "print\"(f) The expression for the instantaneous value of the current is 3.125 cos(314t-1.316)\"\n",
      "print\"(g) Effective voltage across the capacitor is\",round(V,1),\"V\"\n",
      "print\" Effective Voltage across the inductor is\",round(V1,1),\"V\"\n",
      "print\"Effective voltage across the resistor is\",round(V2,2),\"V\"\n",
      "print\"(h) Value of inductance is\",round(L,3),\"H\""
     ],
     "language": "python",
     "metadata": {},
     "outputs": [
      {
       "output_type": "stream",
       "stream": "stdout",
       "text": [
        "(a) The frequency of the e.m.f is 50.0 cycle s**-1\n",
        "(b) The reactance of the circuit is 96.0 ohm\n",
        "(c) The impedance of the circuit is 99.2 ohm\n",
        "(d) The current in the circuit is 2.21 A\n",
        "(e) The phase angle of the current is 1.317 rad\n",
        "(f) The expression for the instantaneous value of the current is 3.125 cos(314t-1.316)\n",
        "(g) Effective voltage across the capacitor is 281.5 V\n",
        " Effective Voltage across the inductor is 69.4 V\n",
        "Effective voltage across the resistor is 55.25 V\n",
        "(h) Value of inductance is 0.406 H\n"
       ]
      }
     ],
     "prompt_number": 113
    },
    {
     "cell_type": "heading",
     "level": 2,
     "metadata": {},
     "source": [
      "Example 18.17 Page no 558"
     ]
    },
    {
     "cell_type": "code",
     "collapsed": false,
     "input": [
      "#Given\n",
      "f=50                             #Hz\n",
      "L=101.5*10**-3\n",
      "\n",
      "#Calculation\n",
      "import math\n",
      "C=1/((2*math.pi*f)**2*L)\n",
      "\n",
      "#Result\n",
      "print\"Capacitance of the capacitor is\",round(C*10**6,0),\"micro F\""
     ],
     "language": "python",
     "metadata": {},
     "outputs": [
      {
       "output_type": "stream",
       "stream": "stdout",
       "text": [
        "Capacitance of the capacitor is 100.0 micro F\n"
       ]
      }
     ],
     "prompt_number": 117
    },
    {
     "cell_type": "heading",
     "level": 2,
     "metadata": {},
     "source": [
      "Example 18.18 Page no 558"
     ]
    },
    {
     "cell_type": "code",
     "collapsed": false,
     "input": [
      "#Given\n",
      "Ev=230                         #V\n",
      "L=5                              #H\n",
      "C=80*10**-6\n",
      "R=40.0\n",
      "\n",
      "#Calculation\n",
      "import math\n",
      "f=1/(math.pi*2*math.sqrt(L*C))\n",
      "E0=math.sqrt(2)*Ev\n",
      "A=E0/R\n",
      "\n",
      "#Result\n",
      "print\"(i) Angular frequency is\", round(f,2),\"Hz\"\n",
      "print\"(ii) Impedence of circuit is\",R,\"ohm\"\n",
      "print\"(iii) Amplitude of the current is\",round(A,2)"
     ],
     "language": "python",
     "metadata": {},
     "outputs": [
      {
       "output_type": "stream",
       "stream": "stdout",
       "text": [
        "(i) Angular frequency is 7.96 Hz\n",
        "(ii) Impedence of circuit is 40.0 ohm\n",
        "(iii) Amplitude of the current is 8.13\n"
       ]
      }
     ],
     "prompt_number": 126
    },
    {
     "cell_type": "heading",
     "level": 2,
     "metadata": {},
     "source": [
      "Example 18.19 Page no 558"
     ]
    },
    {
     "cell_type": "code",
     "collapsed": false,
     "input": [
      "#Given\n",
      "C=2*10**-6                      #F\n",
      "R=100                            #ohm\n",
      "L=8                              #H\n",
      "E=200                            #V\n",
      "\n",
      "#Calculation\n",
      "import math\n",
      "F=1/((2*math.pi*math.sqrt(L*C)))\n",
      "D=2*math.pi*F*L\n",
      "L1=E/R\n",
      "\n",
      "#Result\n",
      "print\"The resonant frequency is\",round(F,2),\"Hz\"\n",
      "print\"(i) The inductive and capacitive reactances of the circuit is\",D,\"ohm\"\n",
      "print\"(ii) Total impedance of the circuit is 100\",\"ohm\"\n",
      "print\"(iii) Peak value of current is\",L1,\"A\"\n",
      "print\"(iv) The voltages across inductor and resistor differ in phase by\",\"90\"\n",
      "print\"(v) The voltages across inductor and capacitor differ in phase by\",\"180\""
     ],
     "language": "python",
     "metadata": {},
     "outputs": [
      {
       "output_type": "stream",
       "stream": "stdout",
       "text": [
        "The resonant frequency is 39.79 Hz\n",
        "(i) The inductive and capacitive reactances of the circuit is 2000.0 ohm\n",
        "(ii) Total impedance of the circuit is 100 ohm\n",
        "(iii) Peak value of current is 2 A\n",
        "(iv) The voltages across inductor and resistor differ in phase by 90\n",
        "(v) The voltages across inductor and capacitor differ in phase by 180\n"
       ]
      }
     ],
     "prompt_number": 144
    },
    {
     "cell_type": "heading",
     "level": 2,
     "metadata": {},
     "source": [
      "Example 18.20 Page no 558"
     ]
    },
    {
     "cell_type": "code",
     "collapsed": false,
     "input": [
      "#Given\n",
      "Ev=220                        #V\n",
      "f=50                          #Hz\n",
      "R=100.0                         #ohm\n",
      "Vr=65                         #V\n",
      "Vc=415                        #V\n",
      "Vl=204                        #V\n",
      "\n",
      "#Calculation\n",
      "import math\n",
      "Iv=Vr/R\n",
      "Xl=Vl/Iv\n",
      "L=Xl/(2*math.pi*f)\n",
      "Xc=Vc/Iv\n",
      "C=1/(2*math.pi*f*Xc)\n",
      "C1=1/(4*math.pi**2*f**2*L)\n",
      "\n",
      "#Result\n",
      "print\"(i) The current in the circuit is\",Iv,\"A\"\n",
      "print\"(ii) The value of the inductor is\",round(L,0),\"H\"\n",
      "print\"(iii) The value of the capacitor C is\",round(C*10**6,1),\"micro F\"\n",
      "print\"(iv) The value of C required to produce resonance is\",round(C1*10**6,1),\"micro F\""
     ],
     "language": "python",
     "metadata": {},
     "outputs": [
      {
       "output_type": "stream",
       "stream": "stdout",
       "text": [
        "(i) The current in the circuit is 0.65 A\n",
        "(ii) The value of the inductor is 1.0 H\n",
        "(iii) The value of the capacitor C is 5.0 micro F\n",
        "(iv) The value of C required to produce resonance is 10.1 micro F\n"
       ]
      }
     ],
     "prompt_number": 189
    },
    {
     "cell_type": "heading",
     "level": 2,
     "metadata": {},
     "source": [
      "Example 18.21 Page no 559"
     ]
    },
    {
     "cell_type": "code",
     "collapsed": false,
     "input": [
      "#Given\n",
      "L=3                           #H\n",
      "C=27*10**-6\n",
      "R=7.4                         #ohm\n",
      "\n",
      "#Calculation\n",
      "import math\n",
      "w0=1/(math.sqrt(L*C))\n",
      "Q=1/R*(math.sqrt(L/C))\n",
      "\n",
      "#Result\n",
      "print\"Resonant frequency is\", round(w0,1),\"rad/s\"\n",
      "print\"Q factor is\",round(Q,2)"
     ],
     "language": "python",
     "metadata": {},
     "outputs": [
      {
       "output_type": "stream",
       "stream": "stdout",
       "text": [
        "Resonant frequency is 111.1 rad/s\n",
        "Q factor is 45.05\n"
       ]
      }
     ],
     "prompt_number": 196
    },
    {
     "cell_type": "heading",
     "level": 2,
     "metadata": {},
     "source": [
      "Example 18.22 Page no 559"
     ]
    },
    {
     "cell_type": "code",
     "collapsed": false,
     "input": [
      "#Given\n",
      "R=30                           #ohm\n",
      "Xl=40\n",
      "E0=220\n",
      "I0=1 \n",
      "\n",
      "#Calculation\n",
      "import math\n",
      "Z=math.sqrt(R**2+Xl**2)\n",
      "a=R/Z\n",
      "Pav=E0*I0*a/(math.sqrt(2)*math.sqrt(2))\n",
      "\n",
      "#Result\n",
      "print\"Power consumed in the circuit is\", Pav,\"Watt\""
     ],
     "language": "python",
     "metadata": {},
     "outputs": [
      {
       "output_type": "stream",
       "stream": "stdout",
       "text": [
        "Power consumed in the circuit is 66.0 Watt\n"
       ]
      }
     ],
     "prompt_number": 201
    },
    {
     "cell_type": "heading",
     "level": 2,
     "metadata": {},
     "source": [
      "Example 18.23 Page no 559"
     ]
    },
    {
     "cell_type": "code",
     "collapsed": false,
     "input": [
      "#Given\n",
      "Ev=100\n",
      "f=50                              #Hz\n",
      "C=10*10**-6\n",
      "R=100\n",
      "\n",
      "#Calculation\n",
      "import math\n",
      "Xc=1/(2*math.pi*f*C)\n",
      "Iv=Ev/Xc\n",
      "Pav=Ev*Iv*Ev/(math.sqrt(Ev**2+Xc**2))\n",
      "\n",
      "#Result\n",
      "print\"(a) The reactance of the capacitor is\",round(Xc,2),\"ohm\"\n",
      "print\"(b) Current flowing is\",round(Iv,3),\"A\"\n",
      "print\"(c) Average power supplied is\",round(Pav,2),\"W\""
     ],
     "language": "python",
     "metadata": {},
     "outputs": [
      {
       "output_type": "stream",
       "stream": "stdout",
       "text": [
        "(a) The reactance of the capacitor is 318.31 ohm\n",
        "(b) Current flowing is 0.314 A\n",
        "(c) Average power supplied is 9.42 W\n"
       ]
      }
     ],
     "prompt_number": 214
    },
    {
     "cell_type": "heading",
     "level": 2,
     "metadata": {},
     "source": [
      "Example 18.24 Page no 559"
     ]
    },
    {
     "cell_type": "code",
     "collapsed": false,
     "input": [
      "#Given\n",
      "V=60.0\n",
      "P=10\n",
      "Ev=100\n",
      "f=60                            #Hz\n",
      "\n",
      "#Calculation\n",
      "import math\n",
      "I=P/V\n",
      "R=f/I\n",
      "Z=Ev/I\n",
      "L=math.sqrt(Z**2-R**2)/(2*math.pi*f)\n",
      "R1=Z-R\n",
      "\n",
      "#Result\n",
      "print\"(i) The inductance is\", round(L,3),\"henry\"\n",
      "print\"(ii) Value of resistance is\",R1,\"ohm\"\n",
      "print\"(iii) If resistance is used in the place of inductance, the electrical energy is wasted.\""
     ],
     "language": "python",
     "metadata": {},
     "outputs": [
      {
       "output_type": "stream",
       "stream": "stdout",
       "text": [
        "(i) The inductance is 1.273 henry\n",
        "(ii) Value of resistance is 240.0 ohm\n",
        "(iii) If resistance is used in the place of inductance, the electrical energy is wasted.\n"
       ]
      }
     ],
     "prompt_number": 224
    },
    {
     "cell_type": "heading",
     "level": 2,
     "metadata": {},
     "source": [
      "Example 18.25 Page no 559"
     ]
    },
    {
     "cell_type": "code",
     "collapsed": false,
     "input": [
      "#Given\n",
      "V=50.0                          #V\n",
      "P=20                            #watt\n",
      "Ev=250                          #V\n",
      "f=50\n",
      "\n",
      "#Calculation\n",
      "import math\n",
      "I=P/V\n",
      "R=V/I\n",
      "Z=Ev/I\n",
      "C=1/(2*math.pi*f*Ev*math.sqrt(6))\n",
      "\n",
      "#Result\n",
      "print\"Value of capacitance required is\", round(C*10**6,3)*10**-6,\"F\""
     ],
     "language": "python",
     "metadata": {},
     "outputs": [
      {
       "output_type": "stream",
       "stream": "stdout",
       "text": [
        "Value of capacitance required is 5.198e-06 F\n"
       ]
      }
     ],
     "prompt_number": 233
    },
    {
     "cell_type": "heading",
     "level": 2,
     "metadata": {},
     "source": [
      "Example 18.26 Page no 560"
     ]
    },
    {
     "cell_type": "code",
     "collapsed": false,
     "input": [
      "#Given\n",
      "Ev=200\n",
      "f=50                    #H\n",
      "R=50\n",
      "L=0.3\n",
      "C=40*10**-6\n",
      "\n",
      "#Calculation\n",
      "import math\n",
      "Xl=2*math.pi*f*L\n",
      "Xc=1/(2*math.pi*f*C)\n",
      "Z=math.sqrt(R**2+(Xl-Xc)**2)\n",
      "Iv=Ev/Z\n",
      "a=R/Z\n",
      "Pav=Ev*Iv*a\n",
      "\n",
      "#Result\n",
      "print\"Impedence in the circuit is\", round(Z,2),\"ohm\"\n",
      "print\"Power in the circuit is\",round(Pav,1),\"watt\""
     ],
     "language": "python",
     "metadata": {},
     "outputs": [
      {
       "output_type": "stream",
       "stream": "stdout",
       "text": [
        "Impedence in the circuit is 52.11 ohm\n",
        "Power in the circuit is 736.6 watt\n"
       ]
      }
     ],
     "prompt_number": 244
    },
    {
     "cell_type": "heading",
     "level": 2,
     "metadata": {},
     "source": [
      "Example 18.27 Page no 560"
     ]
    },
    {
     "cell_type": "code",
     "collapsed": false,
     "input": [
      "#Given\n",
      "Ev=200                      #v\n",
      "L=5                       #H\n",
      "C=80\n",
      "R=40.0\n",
      "\n",
      "#Calculation\n",
      "import math\n",
      "W=10**3/(math.sqrt(L*C))\n",
      "Iv=Ev/R\n",
      "I0=math.sqrt(2)*Iv\n",
      "Pav=Ev*L*math.cos(0*3.14/180.0)\n",
      "\n",
      "print\"(a) Angular frequency is\",W,\"rad s**-1\"\n",
      "print\"(b) The current amplitude is\",round(I0,2),\"A\" \n",
      "print\"(c) The power dissipation in the circuit is\",Pav,\"Watt\""
     ],
     "language": "python",
     "metadata": {},
     "outputs": [
      {
       "output_type": "stream",
       "stream": "stdout",
       "text": [
        "(a) Angular frequency is 50.0 rad s**-1\n",
        "(b) The current amplitude is 7.07 A\n",
        "(c) The power dissipation in the circuit is 1000.0 Watt\n"
       ]
      }
     ],
     "prompt_number": 272
    },
    {
     "cell_type": "heading",
     "level": 2,
     "metadata": {},
     "source": [
      "Example 18.28 Page no 560"
     ]
    },
    {
     "cell_type": "code",
     "collapsed": false,
     "input": [
      "#Given\n",
      "L=5.0                                 #H\n",
      "C=80*10**-6                           #F\n",
      "R=40.0                                  #ohm\n",
      "Ev=230                                #V\n",
      "\n",
      "#Calculation\n",
      "import math\n",
      "D=1/math.sqrt(L*C)\n",
      "Iv=Ev/R\n",
      "I0=math.sqrt(2)*Iv\n",
      "S=Iv*R\n",
      "S1=Iv*D*L\n",
      "S2=Iv/(1/D*C)\n",
      "S3=Iv/(D*L-1/D*C)\n",
      "\n",
      "#Result\n",
      "print\"(a) The resonant angular frequency is\",D,\"rad s**-1\"\n",
      "print\"(b) The impedance of the circuit and the amplitude of curremt is\",round(I0,2),\"A\"\n",
      "print\"(c) The R.M.S. potential drop across LC is\",round(S3,0)"
     ],
     "language": "python",
     "metadata": {},
     "outputs": [
      {
       "output_type": "stream",
       "stream": "stdout",
       "text": [
        "(a) The resonant angular frequency is 50.0 rad s**-1\n",
        "(b) The impedance of the circuit and the amplitude of curremt is 8.13 A\n",
        "(c) The R.M.S. potential drop across LC is 0.0\n"
       ]
      }
     ],
     "prompt_number": 282
    },
    {
     "cell_type": "heading",
     "level": 2,
     "metadata": {},
     "source": [
      "Example 18.29 Page no 560"
     ]
    },
    {
     "cell_type": "code",
     "collapsed": false,
     "input": [
      "#Given\n",
      "L=0.12                                  #H\n",
      "C=480*10**-9                            #F\n",
      "R=23                                    #ohm\n",
      "Ev=230                                  #V\n",
      "\n",
      "#Calculation\n",
      "import math\n",
      "D=1/(math.sqrt(L*C))\n",
      "Iv=Ev/(math.sqrt(R**2+(D*L-1/D*C))**2)\n",
      "I0=(math.sqrt(2)*Ev)/(math.sqrt(R**2+(D*L-1/D*C))**2)\n",
      "I1=(math.sqrt(2)*Ev)/R\n",
      "EvIv=Ev*(I1/math.sqrt(2))\n",
      "\n",
      "#Result\n",
      "print\"(a) The source frequency is\",round(D,1),\"rad s**-1\"\n",
      "print\" The maximum value is\",round(I1,2),\"A\"\n",
      "print\"(b) Average power will also be maximum at resonant frequency is\",round(D,1),\"rad s**-1\" \n",
      "print\" The value of this maximum power is\",EvIv,\"Watt\""
     ],
     "language": "python",
     "metadata": {},
     "outputs": [
      {
       "output_type": "stream",
       "stream": "stdout",
       "text": [
        "(a) The source frequency is 4166.7 rad s**-1\n",
        " The maximum value is 14.14 A\n",
        "(b) Average power will also be maximum at resonant frequency is 4166.7 rad s**-1\n",
        " The value of this maximum power is 2300.0 Watt\n"
       ]
      }
     ],
     "prompt_number": 298
    },
    {
     "cell_type": "heading",
     "level": 2,
     "metadata": {},
     "source": [
      "Example 18.30 Page no 561"
     ]
    },
    {
     "cell_type": "code",
     "collapsed": false,
     "input": [
      "#Given\n",
      "L=80*10**-3                         #H\n",
      "C=60*10**-6                         #F\n",
      "Ev=230                              #V\n",
      "f=50                                #Hz\n",
      "\n",
      "#Calculation\n",
      "import math\n",
      "Iv=-Ev/((2*math.pi*f*L)-(1/(2*math.pi*f*C)))\n",
      "I0=math.sqrt(2)*Iv\n",
      "Iv1=Iv*2*math.pi*f*L\n",
      "Iv2=Iv*(1/(2*math.pi*f*C))\n",
      "Pav=math.cos(90*3.14/180.0)*Ev\n",
      "Pav1=math.cos(-90*3.14/180.0)*Ev\n",
      "\n",
      "#Result\n",
      "print\"(a) The current amplitude is\",round(Iv,2),\"A\",\"and r.m.s. value is\",round(I0,2),\"A\"\n",
      "print\"(b) The r.m.s. value of potential drops across L is\",round(Iv1,1),\"V\",\"and across C is\",round(Iv2,1),\"W\"\n",
      "print\"(c) The average power transferred to the inductor is\",round(Pav,0)\n",
      "print\"(d) The average power transferred to the capacitor is\",round(Pav1,0)\n",
      "print\"(e) Total average power absorbed is zero\""
     ],
     "language": "python",
     "metadata": {},
     "outputs": [
      {
       "output_type": "stream",
       "stream": "stdout",
       "text": [
        "(a) The current amplitude is 8.24 A and r.m.s. value is 11.65 A\n",
        "(b) The r.m.s. value of potential drops across L is 207.0 V and across C is 437.0 W\n",
        "(c) The average power transferred to the inductor is 0.0\n",
        "(d) The average power transferred to the capacitor is 0.0\n",
        "(e) Total average power absorbed is zero\n"
       ]
      }
     ],
     "prompt_number": 357
    }
   ],
   "metadata": {}
  }
 ]
}