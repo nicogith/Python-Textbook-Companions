{
 "metadata": {
  "name": "",
  "signature": "sha256:17722fc50855830105e8bbc1d5e7f4e9c2450186689d4bcffcae55541cf58a10"
 },
 "nbformat": 3,
 "nbformat_minor": 0,
 "worksheets": [
  {
   "cells": [
    {
     "cell_type": "heading",
     "level": 1,
     "metadata": {},
     "source": [
      "Chapter 20 Electromagnetic Waves"
     ]
    },
    {
     "cell_type": "heading",
     "level": 2,
     "metadata": {},
     "source": [
      "Example 20.1 Page no 618"
     ]
    },
    {
     "cell_type": "code",
     "collapsed": false,
     "input": [
      "#Given\n",
      "L=5.5*10**-7                            #m\n",
      "c=3*10**8                               #m s**-1\n",
      "u=1.5\n",
      "\n",
      "#Calculation\n",
      "V=c/L\n",
      "T=L/c\n",
      "v=c/u\n",
      "L1=v*T\n",
      "\n",
      "#Result\n",
      "print\"(a) The frequency is\",round(V*10**-14,3),\"10**8\",\"MHz\",\"and time period is\",round(T*10**15,1),\"10**-19\",\"micro s\"\n",
      "print\"(b) The wavelenght in glass is\",round(L1*10**7,1),\"10**-7\",\"m\""
     ],
     "language": "python",
     "metadata": {},
     "outputs": [
      {
       "output_type": "stream",
       "stream": "stdout",
       "text": [
        "(a) The frequency is 5.455 10**8 MHz and time period is 1.8 10**-19 micro s\n",
        "(b) The wavelenght in glass is 3.7 10**-7 m\n"
       ]
      }
     ],
     "prompt_number": 20
    },
    {
     "cell_type": "heading",
     "level": 2,
     "metadata": {},
     "source": [
      "Example 20.2 Page no 619"
     ]
    },
    {
     "cell_type": "code",
     "collapsed": false,
     "input": [
      "#Given\n",
      "V=2*10**8                             #m s**-1\n",
      "Ur=1.0\n",
      "C=3*10**8\n",
      "\n",
      "#Calculation\n",
      "Er=(C**2)/(V**2*Ur)\n",
      "\n",
      "#Result \n",
      "print\" The relative permittivity is\",Er"
     ],
     "language": "python",
     "metadata": {},
     "outputs": [
      {
       "output_type": "stream",
       "stream": "stdout",
       "text": [
        " The relative permittivity is 2.25\n"
       ]
      }
     ],
     "prompt_number": 24
    },
    {
     "cell_type": "heading",
     "level": 2,
     "metadata": {},
     "source": [
      "Example 20.3 Page no 619"
     ]
    },
    {
     "cell_type": "code",
     "collapsed": false,
     "input": [
      "#Given\n",
      "C=3*10**8\n",
      "V=10**8\n",
      "E0=0.5\n",
      "\n",
      "#Calculation\n",
      "L=C/V\n",
      "Bz=E0/C\n",
      "\n",
      "#Result\n",
      "print\"(a) There is the positive direction of x-axis of propagation of electromagnetic waves\"\n",
      "print\"(b) The wavelengh of the wave is\",L,\"m\"\n",
      "print\"(c) The component of associated magnetic field is\",round(Bz*10**9,0),\"cos(2*math.pi*10**8(t-x/c))\""
     ],
     "language": "python",
     "metadata": {},
     "outputs": [
      {
       "output_type": "stream",
       "stream": "stdout",
       "text": [
        "(a) There is the positive direction of x-axis of propagation of electromagnetic waves\n",
        "(b) The wavelengh of the wave is 3 m\n",
        "(c) The component of associated magnetic field is 2.0 cos(2*math.pi*10**8(t-x/c))\n"
       ]
      }
     ],
     "prompt_number": 35
    },
    {
     "cell_type": "heading",
     "level": 2,
     "metadata": {},
     "source": [
      "Example 20.4 Page no 619"
     ]
    },
    {
     "cell_type": "code",
     "collapsed": false,
     "input": [
      "#Given\n",
      "L=6*10**-3                           #m\n",
      "E0=33                                #V m**-1\n",
      "C=3.0*10**8\n",
      "\n",
      "#Calculation\n",
      "import math\n",
      "W=(2*math.pi*C)/(L)\n",
      "B=E0/C\n",
      "\n",
      "#Result\n",
      "print\"Magnetic field is\",B,\"sin*math.pi*10**11(t-x/c)\""
     ],
     "language": "python",
     "metadata": {},
     "outputs": [
      {
       "output_type": "stream",
       "stream": "stdout",
       "text": [
        "Magnetic field is 1.1e-07 sin*math.pi*10**11(t-x/c)\n"
       ]
      }
     ],
     "prompt_number": 41
    },
    {
     "cell_type": "heading",
     "level": 2,
     "metadata": {},
     "source": [
      "Example 20.5 Page no 619"
     ]
    },
    {
     "cell_type": "code",
     "collapsed": false,
     "input": [
      "#Given\n",
      "I=8\n",
      "E0=8.85*10**-12\n",
      "C=3*10**8\n",
      "\n",
      "#Calculation\n",
      "import math\n",
      "e0=math.sqrt((2*I)/(E0*C))\n",
      "\n",
      "#Result\n",
      "print\"The amplitude of the electric field is\",round(e0,1),\"N C**-1\""
     ],
     "language": "python",
     "metadata": {},
     "outputs": [
      {
       "output_type": "stream",
       "stream": "stdout",
       "text": [
        "The amplitude of the electric field is 77.6 N C**-1\n"
       ]
      }
     ],
     "prompt_number": 46
    },
    {
     "cell_type": "heading",
     "level": 2,
     "metadata": {},
     "source": [
      "Example 20.6 Page no 619"
     ]
    },
    {
     "cell_type": "code",
     "collapsed": false,
     "input": [
      "#Given\n",
      "L=0.024                                    #m\n",
      "k=5.9*10**-9\n",
      "c=3*10**8\n",
      "\n",
      "#Calculation\n",
      "V=L/k\n",
      "t=L/c\n",
      "\n",
      "#Result\n",
      "print\"(i) The number of oscillation is\",round(V*10**-6,3),\"10**6\",\"Hz\"\n",
      "print\"(ii) The coherence time is\",t,\"s\""
     ],
     "language": "python",
     "metadata": {},
     "outputs": [
      {
       "output_type": "stream",
       "stream": "stdout",
       "text": [
        "(i) The number of oscillation is 4.068 10**6 Hz\n",
        "(ii) The coherence time is 8e-11 s\n"
       ]
      }
     ],
     "prompt_number": 65
    }
   ],
   "metadata": {}
  }
 ]
}