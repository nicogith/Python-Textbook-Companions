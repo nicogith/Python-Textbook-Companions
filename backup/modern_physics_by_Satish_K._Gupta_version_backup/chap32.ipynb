{
 "metadata": {
  "name": "",
  "signature": "sha256:1a205c66d8c05960f2478abf5942d3dc43db8b63d7327dc1bc8decd646c4e601"
 },
 "nbformat": 3,
 "nbformat_minor": 0,
 "worksheets": [
  {
   "cells": [
    {
     "cell_type": "heading",
     "level": 1,
     "metadata": {},
     "source": [
      "Chapter 32 Nuclear reactions"
     ]
    },
    {
     "cell_type": "heading",
     "level": 2,
     "metadata": {},
     "source": [
      "Example 32.3 Page no 874"
     ]
    },
    {
     "cell_type": "code",
     "collapsed": false,
     "input": [
      "#Given\n",
      "r1=6.015126\n",
      "r2=1.008665\n",
      "p1=4.002603\n",
      "p2=3.016049\n",
      "a=931\n",
      "\n",
      "#Calculation\n",
      "R=r1+r2\n",
      "P=p1+p2\n",
      "M=R-P\n",
      "E=M*a\n",
      "\n",
      "#Result\n",
      "print\"Energy released is\",round(E,2),\"Mev\""
     ],
     "language": "python",
     "metadata": {},
     "outputs": [
      {
       "output_type": "stream",
       "stream": "stdout",
       "text": [
        "Energy released is 4.78 Mev\n"
       ]
      }
     ],
     "prompt_number": 3
    },
    {
     "cell_type": "heading",
     "level": 2,
     "metadata": {},
     "source": [
      "Example 32.4 Page no 874"
     ]
    },
    {
     "cell_type": "code",
     "collapsed": false,
     "input": [
      "#Given\n",
      "P=400*10**6                       #J/s\n",
      "c=3.0*10**8\n",
      "\n",
      "#Calculation\n",
      "E=P*24*60*60\n",
      "m=E/c**2\n",
      "\n",
      "#Result\n",
      "print\"U235 is\",m*10**3,\"g\""
     ],
     "language": "python",
     "metadata": {},
     "outputs": [
      {
       "output_type": "stream",
       "stream": "stdout",
       "text": [
        "U235 is 0.384 g\n"
       ]
      }
     ],
     "prompt_number": 7
    },
    {
     "cell_type": "heading",
     "level": 2,
     "metadata": {},
     "source": [
      "Example 32.5 Page no 874"
     ]
    },
    {
     "cell_type": "code",
     "collapsed": false,
     "input": [
      "#Given\n",
      "A=6.023*10**23\n",
      "w=235.0\n",
      "E=200\n",
      "e=1.6*10**-13\n",
      "\n",
      "#Calculation\n",
      "E1=((A*E)/w)*e\n",
      "E2=E1/(1000.0*3600.0)\n",
      "\n",
      "#Result\n",
      "print\"Energy released is\", round(E2*10**-4,3),\"*10**4 KWh\""
     ],
     "language": "python",
     "metadata": {},
     "outputs": [
      {
       "output_type": "stream",
       "stream": "stdout",
       "text": [
        "Energy released is 2.278 *10**4 KWh\n"
       ]
      }
     ],
     "prompt_number": 17
    },
    {
     "cell_type": "heading",
     "level": 2,
     "metadata": {},
     "source": [
      "Example 32.6 Page no 874"
     ]
    },
    {
     "cell_type": "code",
     "collapsed": false,
     "input": [
      "#Given\n",
      "E=7.6*10**13                   #J\n",
      "E1=200.0*1.6*10**-13\n",
      "h=6.023*10**23\n",
      "a=235\n",
      "\n",
      "#Calculation\n",
      "n=E/E1\n",
      "M=(a*n)/h\n",
      "\n",
      "#Result\n",
      "print\"(i) Number of uranium atom is\",n\n",
      "print\"(ii) Mass of uranium is\",round(M,2),\"g\""
     ],
     "language": "python",
     "metadata": {},
     "outputs": [
      {
       "output_type": "stream",
       "stream": "stdout",
       "text": [
        "(i) Number of uranium atom is 2.375e+24\n",
        "(ii) Mass of uranium is 926.66 g\n"
       ]
      }
     ],
     "prompt_number": 22
    },
    {
     "cell_type": "heading",
     "level": 2,
     "metadata": {},
     "source": [
      "Example 32.7 Page no 874"
     ]
    },
    {
     "cell_type": "code",
     "collapsed": false,
     "input": [
      "#Given\n",
      "m1=235.043933\n",
      "m2=140.917700\n",
      "m3=91.895400\n",
      "n1=1.0086651\n",
      "a=931.5\n",
      "\n",
      "#Calculation\n",
      "Q=(m1-m2-m3-2*(n1))*a\n",
      "\n",
      "#Result\n",
      "print\"Energy released is\",round(Q,2),\"Mev\""
     ],
     "language": "python",
     "metadata": {},
     "outputs": [
      {
       "output_type": "stream",
       "stream": "stdout",
       "text": [
        "Energy released is 198.88 Mev\n"
       ]
      }
     ],
     "prompt_number": 26
    },
    {
     "cell_type": "heading",
     "level": 2,
     "metadata": {},
     "source": [
      "Example 32.8 Page no 874"
     ]
    },
    {
     "cell_type": "code",
     "collapsed": false,
     "input": [
      "#Given\n",
      "M1=1.007825\n",
      "M2=4.002603\n",
      "M3=0.000549\n",
      "A=931.5\n",
      "S=4\n",
      "W=2\n",
      "\n",
      "#Calculation\n",
      "Q=((S*M1-M2-W*M3)*A)\n",
      "\n",
      "#Result\n",
      "print\"The energy is\",round(Q,2),\"MeV\""
     ],
     "language": "python",
     "metadata": {},
     "outputs": [
      {
       "output_type": "stream",
       "stream": "stdout",
       "text": [
        "The energy is 25.71 MeV\n"
       ]
      }
     ],
     "prompt_number": 30
    },
    {
     "cell_type": "heading",
     "level": 2,
     "metadata": {},
     "source": [
      "Example 32.9 Page no 875"
     ]
    },
    {
     "cell_type": "code",
     "collapsed": false,
     "input": [
      "#Given\n",
      "M1=1.008                   #a.m.u.\n",
      "M2=4.004                   #a.m.u.\n",
      "M3=7.016                   #a.m.u.\n",
      "A=2\n",
      "W=931\n",
      "\n",
      "#Calculation\n",
      "Q=(M3+M1-A*M2)*W\n",
      "\n",
      "#Result\n",
      "print\"The initial energy of each alpha-particle is\",Q,\"MeV\""
     ],
     "language": "python",
     "metadata": {},
     "outputs": [
      {
       "output_type": "stream",
       "stream": "stdout",
       "text": [
        "The initial energy of each alpha-particle is 14.896 MeV\n"
       ]
      }
     ],
     "prompt_number": 33
    },
    {
     "cell_type": "heading",
     "level": 2,
     "metadata": {},
     "source": [
      "Example 32.10 Page no 875"
     ]
    },
    {
     "cell_type": "code",
     "collapsed": false,
     "input": [
      "#Given\n",
      "M1=235.0439\n",
      "M2=93.9065\n",
      "M3=139.9055\n",
      "M4=1.00866\n",
      "S=931.5\n",
      "\n",
      "#Calculation\n",
      "Q=(M1-M2-M3-M4)*S\n",
      "\n",
      "#Result\n",
      "print\"Total energy is\",round(Q,2),\"MeV\"\n",
      "print\"All the available energy does not appear as the kinetic energy of fission products\""
     ],
     "language": "python",
     "metadata": {},
     "outputs": [
      {
       "output_type": "stream",
       "stream": "stdout",
       "text": [
        "Total energy is 207.95 MeV\n",
        "All the available energy does not appear as the kinetic energy of fission products\n"
       ]
      }
     ],
     "prompt_number": 38
    },
    {
     "cell_type": "heading",
     "level": 2,
     "metadata": {},
     "source": [
      "Example 32.11 Page no 875"
     ]
    },
    {
     "cell_type": "code",
     "collapsed": false,
     "input": [
      "#Given\n",
      "M1=2.014102\n",
      "M2=3.016049\n",
      "M3=4.002603\n",
      "M4=1.008665\n",
      "S=931.5\n",
      "q1=1.6*10**-19                        #C\n",
      "q2=9*10**9\n",
      "r=2*1.5*10**-15\n",
      "r1=1.38*10**-23\n",
      "\n",
      "#Calculation\n",
      "Q=(M1+M2-M3-M4)*S\n",
      "Q2=q2*(q1**2/r)\n",
      "Q3=(2*Q2)/(3*r1)\n",
      "\n",
      "#Result\n",
      "print\"(a) The amount of energy is\",round(Q,2),\"MeV\"\n",
      "print\"(b) The kinetic energy is\",Q2,\"J\"\n",
      "print\"The temperature is\",round(Q3*10**-9,2),\"*10**9 K\""
     ],
     "language": "python",
     "metadata": {},
     "outputs": [
      {
       "output_type": "stream",
       "stream": "stdout",
       "text": [
        "(a) The amount of energy is 17.59 MeV\n",
        "(b) The kinetic energy is 7.68e-14 J\n",
        "The temperature is 3.71 *10**9 K\n"
       ]
      }
     ],
     "prompt_number": 55
    }
   ],
   "metadata": {}
  }
 ]
}