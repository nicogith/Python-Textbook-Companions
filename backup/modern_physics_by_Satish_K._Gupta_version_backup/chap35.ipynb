{
 "metadata": {
  "name": "",
  "signature": "sha256:6fd837c473d583739b16708ec5ff802d29867f6cb2f48bae07778822e1c04084"
 },
 "nbformat": 3,
 "nbformat_minor": 0,
 "worksheets": [
  {
   "cells": [
    {
     "cell_type": "heading",
     "level": 1,
     "metadata": {},
     "source": [
      "Chapter 35 Analog and Digital Communication"
     ]
    },
    {
     "cell_type": "heading",
     "level": 2,
     "metadata": {},
     "source": [
      "Example 35.1 Page no 978"
     ]
    },
    {
     "cell_type": "code",
     "collapsed": false,
     "input": [
      "#Given\n",
      "Em=0.5                      \n",
      "Ec=1\n",
      "\n",
      "#Calculation\n",
      "Emax=Ec+Em\n",
      "Emin=Ec-Em\n",
      "Ma=(Emax-Emin)/(Emax+Emin)\n",
      "\n",
      "#Result\n",
      "print\"The modulation index is\",Ma"
     ],
     "language": "python",
     "metadata": {},
     "outputs": [
      {
       "output_type": "stream",
       "stream": "stdout",
       "text": [
        "The modulation index is 0.5\n"
       ]
      }
     ],
     "prompt_number": 4
    },
    {
     "cell_type": "heading",
     "level": 2,
     "metadata": {},
     "source": [
      "Example 35.2 Page no 978"
     ]
    },
    {
     "cell_type": "code",
     "collapsed": false,
     "input": [
      "#Given\n",
      "L=3.6*10**-3                     #H\n",
      "C=2.5*10**-12                    #F\n",
      "Fm=15                            #KHz\n",
      "\n",
      "#Calculation\n",
      "import math\n",
      "Fc=1/(2*math.pi*math.sqrt(L*C))*10**-3\n",
      "S=Fc+Fm\n",
      "S1=Fc-Fm\n",
      "\n",
      "#Result\n",
      "print\"Frequency of upper sideband is\",round(S,0),\"kHz\"\n",
      "print\"Frequency of lower sideband is\",round(S1,0),\"kHz\""
     ],
     "language": "python",
     "metadata": {},
     "outputs": [
      {
       "output_type": "stream",
       "stream": "stdout",
       "text": [
        "Frequency of upper sideband is 1693.0 kHz\n",
        "Frequency of lower sideband is 1663.0 kHz\n"
       ]
      }
     ],
     "prompt_number": 27
    },
    {
     "cell_type": "heading",
     "level": 2,
     "metadata": {},
     "source": [
      "Example 35.3 Page no 978"
     ]
    },
    {
     "cell_type": "code",
     "collapsed": false,
     "input": [
      "#Given\n",
      "Fm=3.2                          #kHz\n",
      "Fc=84*10**3                    #kHz\n",
      "A=96                           #kHz\n",
      "\n",
      "#Calculation\n",
      "Mf=A/Fm\n",
      "M1=Fc-Fm\n",
      "M2=Fc+Fm\n",
      "\n",
      "#Result\n",
      "print\"(a) Frequency modulation index is\",Mf\n",
      "print\"(b) Frequency range of the modulated wave is\",round(M1*10**-3,3),\"*10**3 MHz\",\"to\",round(M2*10**-3,3),\"*10**3 MHz\""
     ],
     "language": "python",
     "metadata": {},
     "outputs": [
      {
       "output_type": "stream",
       "stream": "stdout",
       "text": [
        "(a) Frequency modulation index is 30.0\n",
        "(b) Frequency range of the modulated wave is 83.997 *10**3 MHz to 84.003 *10**3 MHz\n"
       ]
      }
     ],
     "prompt_number": 44
    },
    {
     "cell_type": "heading",
     "level": 2,
     "metadata": {},
     "source": [
      "Example 35.4 Page no 979"
     ]
    },
    {
     "cell_type": "code",
     "collapsed": false,
     "input": [
      "#Given\n",
      "A=1\n",
      "B=2\n",
      "C=0\n",
      "\n",
      "#Calculation\n",
      "Q1=(A*B**0)+(C*B**1)+(C*B**2)+(C*B**3)\n",
      "Q2=(C*B**0)+(A*B**1)+(C*B**2)+(C*B**3)\n",
      "Q3=(C*B**0)+(C*B**1)+(A*B**2)+(C*B**3)\n",
      "Q4=(C*B**0)+(C*B**1)+(C*B**2)+(A*B**3)\n",
      "Q5=(A*B**0)+(C*B**1)+(C*B**2)+(A*B**3)\n",
      "Q6=(A*B**0)+(C*B**1)+(A*B**2)+(A*B**3)\n",
      "\n",
      "#Result\n",
      "print\"Input voltage 0001 is\",Q1,\"V\"\n",
      "print\"Input voltage 0010 is\",Q2,\"V\"\n",
      "print\"Input voltage 0100 is\",Q3,\"V\"\n",
      "print\"Input voltage 1000 is\",Q4,\"V\"\n",
      "print\"Input voltage 1001 is\",Q5,\"V\"\n",
      "print\"Input voltage 1101 is\",Q6,\"V\""
     ],
     "language": "python",
     "metadata": {},
     "outputs": [
      {
       "output_type": "stream",
       "stream": "stdout",
       "text": [
        "Input voltage 0001 is 1 V\n",
        "Input voltage 0010 is 2 V\n",
        "Input voltage 0100 is 4 V\n",
        "Input voltage 1000 is 8 V\n",
        "Input voltage 1001 is 9 V\n",
        "Input voltage 1101 is 13 V\n"
       ]
      }
     ],
     "prompt_number": 55
    },
    {
     "cell_type": "heading",
     "level": 2,
     "metadata": {},
     "source": [
      "Example 35.5 Page no 979"
     ]
    },
    {
     "cell_type": "code",
     "collapsed": false,
     "input": [
      "#Given\n",
      "A=2\n",
      "N=32\n",
      "\n",
      "#Calculation\n",
      "Z=A**N\n",
      "\n",
      "#Result\n",
      "print\"Number of quantisation levels is\",round(Z*10**-9,1),\"*10**9\""
     ],
     "language": "python",
     "metadata": {},
     "outputs": [
      {
       "output_type": "stream",
       "stream": "stdout",
       "text": [
        "Number of quantisation levels is 4.3 *10**9\n"
       ]
      }
     ],
     "prompt_number": 60
    },
    {
     "cell_type": "heading",
     "level": 2,
     "metadata": {},
     "source": [
      "Example 35.6 Page no 979"
     ]
    },
    {
     "cell_type": "code",
     "collapsed": false,
     "input": [
      "#Given\n",
      "S=16\n",
      "Q=8000\n",
      "\n",
      "#Calculation\n",
      "N=math.sqrt(S)\n",
      "W=Q*N\n",
      "\n",
      "#Result\n",
      "print\"The bill rate for a signal is\",W,\"bill s**-1\""
     ],
     "language": "python",
     "metadata": {},
     "outputs": [
      {
       "output_type": "stream",
       "stream": "stdout",
       "text": [
        "The bill rate for a signal is 32000.0 bill s**-1\n"
       ]
      }
     ],
     "prompt_number": 69
    }
   ],
   "metadata": {}
  }
 ]
}