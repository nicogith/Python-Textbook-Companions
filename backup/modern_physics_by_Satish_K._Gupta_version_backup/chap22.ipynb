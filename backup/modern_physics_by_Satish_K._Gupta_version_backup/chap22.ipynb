{
 "metadata": {
  "name": "",
  "signature": "sha256:168ff39597791c08930937d1b2aac6af790d1f198c96130c4b12669d6560fe5b"
 },
 "nbformat": 3,
 "nbformat_minor": 0,
 "worksheets": [
  {
   "cells": [
    {
     "cell_type": "heading",
     "level": 1,
     "metadata": {},
     "source": [
      "Chapter 22 Dispersion"
     ]
    },
    {
     "cell_type": "heading",
     "level": 2,
     "metadata": {},
     "source": [
      "Example 22.1 Page no 686"
     ]
    },
    {
     "cell_type": "code",
     "collapsed": false,
     "input": [
      "#Given\n",
      "A=60                               #Degree\n",
      "i=49\n",
      "\n",
      "#Calculation\n",
      "import math\n",
      "r=A/2.0\n",
      "u=math.sin(i*3.14/180.0)/math.sin(r*3.14/180.0)\n",
      "\n",
      "#Result\n",
      "print \"Refractive index is\",round(u,2)"
     ],
     "language": "python",
     "metadata": {},
     "outputs": [
      {
       "output_type": "stream",
       "stream": "stdout",
       "text": [
        "Refractive index is 1.51\n"
       ]
      }
     ],
     "prompt_number": 2
    },
    {
     "cell_type": "heading",
     "level": 2,
     "metadata": {},
     "source": [
      "Example 22.2 Page no 686"
     ]
    },
    {
     "cell_type": "code",
     "collapsed": false,
     "input": [
      "#Given\n",
      "u=1.5\n",
      "A=60                              #Degree\n",
      "\n",
      "#Calculation\n",
      "import math\n",
      "a1=A/2.0\n",
      "a=u*math.sin(a1*3.14/180.0)\n",
      "a2=math.asin(a)*180/3.14\n",
      "X=(a2*2)-A\n",
      "i=(A+X)/2.0\n",
      "\n",
      "#Result\n",
      "print\"Angle of deviation is\", round(X,1),\"degree\"\n",
      "print\"Angle of incidence is\",round(i,1),\"degree\""
     ],
     "language": "python",
     "metadata": {},
     "outputs": [
      {
       "output_type": "stream",
       "stream": "stdout",
       "text": [
        "Angle of deviation is 37.2 degree\n",
        "Angle of incidence is 48.6 degree\n"
       ]
      }
     ],
     "prompt_number": 13
    },
    {
     "cell_type": "heading",
     "level": 2,
     "metadata": {},
     "source": [
      "Example 22.3 Page no 686"
     ]
    },
    {
     "cell_type": "code",
     "collapsed": false,
     "input": [
      "#Given\n",
      "A=60                        #Degree\n",
      "ug=1.53\n",
      "uw=1.33\n",
      "\n",
      "#Calculation\n",
      "import math\n",
      "ug1=ug/uw\n",
      "a2=A/2.0\n",
      "a1=ug1*math.sin(a2*3.14/180.0)\n",
      "a2=math.asin(a1)*180/3.14\n",
      "d=(a2*2)-A\n",
      "\n",
      "#Result\n",
      "print\"Angle of minimum deviation is\", round(d,1),\"Degree\""
     ],
     "language": "python",
     "metadata": {},
     "outputs": [
      {
       "output_type": "stream",
       "stream": "stdout",
       "text": [
        "Angle of minimum deviation is 10.2 Degree\n"
       ]
      }
     ],
     "prompt_number": 20
    },
    {
     "cell_type": "heading",
     "level": 2,
     "metadata": {},
     "source": [
      "Example 22.4 Page no 686"
     ]
    },
    {
     "cell_type": "code",
     "collapsed": false,
     "input": [
      "#Given\n",
      "ug=1.6\n",
      "uw=1.33\n",
      "i=40                                #Degree\n",
      "A=60\n",
      "\n",
      "#Calculation\n",
      "ug1=ug/uw\n",
      "r1=math.asin(math.sin(i*3.14/180.0)/ug1)*180/3.14\n",
      "r2=A-r1\n",
      "e=math.asin(ug1*math.sin(r2*3.14/180.0))*180/3.14\n",
      "d=i+e-A\n",
      "\n",
      "#Result\n",
      "print\"Angle of deviation is\", round(d,0),\"Degree\""
     ],
     "language": "python",
     "metadata": {},
     "outputs": [
      {
       "output_type": "stream",
       "stream": "stdout",
       "text": [
        "Angle of deviation is 14.0 Degree\n"
       ]
      }
     ],
     "prompt_number": 29
    },
    {
     "cell_type": "heading",
     "level": 2,
     "metadata": {},
     "source": [
      "Example 22.5 Page no 686"
     ]
    },
    {
     "cell_type": "code",
     "collapsed": false,
     "input": [
      "#Given\n",
      "A=60                    #degree\n",
      "ur=1.622\n",
      "uv=1.663\n",
      "\n",
      "#Calculation\n",
      "a=A*(uv-ur)\n",
      "\n",
      "#Result\n",
      "print\"Angle of dispersion between red and violet color is\",a,\"degree\""
     ],
     "language": "python",
     "metadata": {},
     "outputs": [
      {
       "output_type": "stream",
       "stream": "stdout",
       "text": [
        "Angle of dispersion between red and violet color is 2.46 degree\n"
       ]
      }
     ],
     "prompt_number": 32
    },
    {
     "cell_type": "heading",
     "level": 2,
     "metadata": {},
     "source": [
      "Example 22.6 Page no 686"
     ]
    },
    {
     "cell_type": "code",
     "collapsed": false,
     "input": [
      "#Given\n",
      "A=60                              #Degree\n",
      "ab=53\n",
      "ar=51\n",
      "a=52.0\n",
      "\n",
      "#Calculation\n",
      "w=(ab-ar)/a\n",
      "\n",
      "#Result\n",
      "print\"Dispersive power is\",round(w,4)"
     ],
     "language": "python",
     "metadata": {},
     "outputs": [
      {
       "output_type": "stream",
       "stream": "stdout",
       "text": [
        "Dispersive power is 0.0385\n"
       ]
      }
     ],
     "prompt_number": 35
    },
    {
     "cell_type": "heading",
     "level": 2,
     "metadata": {},
     "source": [
      "Example 22.7 Page no 686"
     ]
    },
    {
     "cell_type": "code",
     "collapsed": false,
     "input": [
      "#Given\n",
      "ub=1.522\n",
      "ur=1.514\n",
      "ub1=1.662\n",
      "ur1=1.644\n",
      "\n",
      "#Calculation\n",
      "u=(ub+ur)/2.0\n",
      "w=(ub-ur)/(u-1)\n",
      "u1=(ub1+ur1)/2.0\n",
      "w1=(ub1-ur1)/(u1-1)\n",
      "\n",
      "#Result\n",
      "print\"Dispersive power of crown glass is\",round(w,4)\n",
      "print\"Dispersive power of flint galss is\",round(w1,4)"
     ],
     "language": "python",
     "metadata": {},
     "outputs": [
      {
       "output_type": "stream",
       "stream": "stdout",
       "text": [
        "Dispersive power of crown glass is 0.0154\n",
        "Dispersive power of flint galss is 0.0276\n"
       ]
      }
     ],
     "prompt_number": 43
    },
    {
     "cell_type": "heading",
     "level": 2,
     "metadata": {},
     "source": [
      "Example 22.8 Page no 687"
     ]
    },
    {
     "cell_type": "code",
     "collapsed": false,
     "input": [
      "#given\n",
      "w=0.031\n",
      "ur=1.645\n",
      "ub=1.665\n",
      "\n",
      "#Calculation\n",
      "u=1+((ub-ur)/w)\n",
      "\n",
      "#Result\n",
      "print\"Refractive index is\",round(u,3)"
     ],
     "language": "python",
     "metadata": {},
     "outputs": [
      {
       "output_type": "stream",
       "stream": "stdout",
       "text": [
        "Refractive index is 1.645\n"
       ]
      }
     ],
     "prompt_number": 46
    },
    {
     "cell_type": "heading",
     "level": 2,
     "metadata": {},
     "source": [
      "Example 22.9 Page no 687"
     ]
    },
    {
     "cell_type": "code",
     "collapsed": false,
     "input": [
      "#Given\n",
      "uv=1.523\n",
      "ur=1.515\n",
      "A=5                        #Degree\n",
      "uv1=1.688\n",
      "ur1=1.650\n",
      "\n",
      "#Calculation\n",
      "u=(uv+ur)/2.0\n",
      "u1=(uv1+ur1)/2.0\n",
      "A1=-(5*(u-1))/(u1-1)\n",
      "\n",
      "#Result\n",
      "print\"Angle of flint glass prism is\",round(A1,2),\"Degree\""
     ],
     "language": "python",
     "metadata": {},
     "outputs": [
      {
       "output_type": "stream",
       "stream": "stdout",
       "text": [
        "Angle of flint glass prism is -3.88 Degree\n"
       ]
      }
     ],
     "prompt_number": 49
    },
    {
     "cell_type": "heading",
     "level": 2,
     "metadata": {},
     "source": [
      "Example 22.10 Page no 687"
     ]
    },
    {
     "cell_type": "code",
     "collapsed": false,
     "input": [
      "#Given\n",
      "w=0.021\n",
      "u=1.53\n",
      "w1=0.045\n",
      "u1=1.65\n",
      "A1=4.2                    #degree\n",
      "\n",
      "#Calculation\n",
      "A=-w1*A1*(u1-1)/(w*(u-1))\n",
      "d=-(A*(u-1)+A1*(u1-1))\n",
      "\n",
      "#Result\n",
      "print\"Angle of prism is\", d,\"Degree\""
     ],
     "language": "python",
     "metadata": {},
     "outputs": [
      {
       "output_type": "stream",
       "stream": "stdout",
       "text": [
        "Angle of prism is 3.12 Degree\n"
       ]
      }
     ],
     "prompt_number": 56
    },
    {
     "cell_type": "heading",
     "level": 2,
     "metadata": {},
     "source": [
      "Example 22.11 Page no 687"
     ]
    },
    {
     "cell_type": "code",
     "collapsed": false,
     "input": [
      "#Given\n",
      "A=40                     #degree\n",
      "u=1.54\n",
      "\n",
      "#Calculation\n",
      "import math\n",
      "i=math.asin(u*math.sin(A*3.14/180.0))*180/3.14\n",
      "\n",
      "#Result\n",
      "print\"Angle of incidence is\",round(i,2),\"Degree\""
     ],
     "language": "python",
     "metadata": {},
     "outputs": [
      {
       "output_type": "stream",
       "stream": "stdout",
       "text": [
        "Angle of incidence is 81.72 Degree\n"
       ]
      }
     ],
     "prompt_number": 59
    },
    {
     "cell_type": "heading",
     "level": 2,
     "metadata": {},
     "source": [
      "Example 22.12 Page no 687"
     ]
    },
    {
     "cell_type": "code",
     "collapsed": false,
     "input": [
      "#Given\n",
      "u=1.524\n",
      "A=60                                   #degree\n",
      "C=41                                   #degree\n",
      "\n",
      "#calculation\n",
      "import math\n",
      "C1=1/u\n",
      "A1=math.asin(C1)*180/3.14\n",
      "r1=A-C\n",
      "i=u*math.sin(r1*3.14/180.0)\n",
      "A2=math.asin(i)*180/3.14\n",
      "\n",
      "#Result\n",
      "print\"Angle of incidence is\", round(A2,2),\"Degree\""
     ],
     "language": "python",
     "metadata": {},
     "outputs": [
      {
       "output_type": "stream",
       "stream": "stdout",
       "text": [
        "Angle of incidence is 29.75 Degree\n"
       ]
      }
     ],
     "prompt_number": 84
    },
    {
     "cell_type": "heading",
     "level": 2,
     "metadata": {},
     "source": [
      "Example 22.13 Page no 688"
     ]
    },
    {
     "cell_type": "code",
     "collapsed": false,
     "input": [
      "#Given\n",
      "u=0.015\n",
      "w=0.03\n",
      "u1=0.022\n",
      "w1=0.05\n",
      "a=2                          #degree\n",
      "\n",
      "#Calculation\n",
      "A=-u1/u\n",
      "A1=a/(A/2.0+u1/w1)\n",
      "a2=A*A1\n",
      "print\"Angle of 1st prism is\", round(A1,2),\"Degree\"\n",
      "print\"Angle of 2nd prism is\",a2,\"Degree\""
     ],
     "language": "python",
     "metadata": {},
     "outputs": [
      {
       "output_type": "stream",
       "stream": "stdout",
       "text": [
        "Angle of 1st prism is -6.82 Degree\n",
        "Angle of 2nd prism is 10.0 Degree\n"
       ]
      }
     ],
     "prompt_number": 98
    }
   ],
   "metadata": {}
  }
 ]
}