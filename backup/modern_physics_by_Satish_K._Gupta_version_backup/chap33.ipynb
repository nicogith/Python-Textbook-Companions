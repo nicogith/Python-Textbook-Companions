{
 "metadata": {
  "name": "",
  "signature": "sha256:52e9ff37336a0b3392520c7ec0e817b37056adea4740de3297c85e4e3e83dc56"
 },
 "nbformat": 3,
 "nbformat_minor": 0,
 "worksheets": [
  {
   "cells": [
    {
     "cell_type": "heading",
     "level": 1,
     "metadata": {},
     "source": [
      "Chapter 33 Solids"
     ]
    },
    {
     "cell_type": "heading",
     "level": 2,
     "metadata": {},
     "source": [
      "Example 33.1 Page no 904"
     ]
    },
    {
     "cell_type": "code",
     "collapsed": false,
     "input": [
      "#Given\n",
      "Eg=0.72*1.6*10**-19                     #J\n",
      "h=6.62*10**-34\n",
      "c=3*10**8\n",
      "\n",
      "#Calculation\n",
      "L=(h*c)/Eg\n",
      "\n",
      "#Result\n",
      "print\"The maximum wavelength of electromagnetic radiation is\",round(L*10**6,3)*10**-6,\"m\""
     ],
     "language": "python",
     "metadata": {},
     "outputs": [
      {
       "output_type": "stream",
       "stream": "stdout",
       "text": [
        "The maximum wavelength of electromagnetic radiation is 1.724e-06 m\n"
       ]
      }
     ],
     "prompt_number": 6
    },
    {
     "cell_type": "heading",
     "level": 2,
     "metadata": {},
     "source": [
      "Example 33.2 Page no 904"
     ]
    },
    {
     "cell_type": "code",
     "collapsed": false,
     "input": [
      "#Given\n",
      "n1=1.5*10**16                    #/m**3\n",
      "nh=4.5*10**22\n",
      "\n",
      "#Calculation\n",
      "ne=n1**2/nh\n",
      "\n",
      "#Result\n",
      "print\"ne in the doping silicon is\",ne*10**-9,\"*10**9 /m**3\""
     ],
     "language": "python",
     "metadata": {},
     "outputs": [
      {
       "output_type": "stream",
       "stream": "stdout",
       "text": [
        "ne in the doping silicon is 5.0 *10**9 /m**3\n"
       ]
      }
     ],
     "prompt_number": 9
    },
    {
     "cell_type": "heading",
     "level": 2,
     "metadata": {},
     "source": [
      "Example 33.3 Page no 904"
     ]
    },
    {
     "cell_type": "code",
     "collapsed": false,
     "input": [
      "#Given\n",
      "ne=8*10**19                      #/m**3\n",
      "nh=5*10**18\n",
      "ue=2.3                                #m**2/V/S\n",
      "uh=0.01\n",
      "e=1.6*10**-19\n",
      "\n",
      "#Calculation\n",
      "a=1/(e*((ne*ue)+(nh*uh)))\n",
      "\n",
      "#Result\n",
      "print\"(a) The semiconductor has greater electron concentration, it is n-type semiconductor\"\n",
      "print\"(b) Resistivity is\", round(a*10**2,3),\"*10**-2 ohm/m\""
     ],
     "language": "python",
     "metadata": {},
     "outputs": [
      {
       "output_type": "stream",
       "stream": "stdout",
       "text": [
        "(a) The semiconductor has greater electron concentration, it is n-type semiconductor\n",
        "(b) Resistivity is 3.396 *10**-2 ohm/m\n"
       ]
      }
     ],
     "prompt_number": 16
    },
    {
     "cell_type": "heading",
     "level": 2,
     "metadata": {},
     "source": [
      "Example 33.4 Page no 904"
     ]
    },
    {
     "cell_type": "code",
     "collapsed": false,
     "input": [
      "#Given\n",
      "e=1.6*10**-19                      #C\n",
      "A=500                              #ohm**-1 m**-1\n",
      "Ue=0.39                            #m**2 V**-1 s**-1\n",
      "\n",
      "#Calculation\n",
      "Ne=A/(e*Ue)\n",
      "\n",
      "#Result\n",
      "print\"The number density of donor atoms is\",round(Ne*10**-21,3)*10**21,\"m**3\""
     ],
     "language": "python",
     "metadata": {},
     "outputs": [
      {
       "output_type": "stream",
       "stream": "stdout",
       "text": [
        "The number density of donor atoms is 8.013e+21 m**3\n"
       ]
      }
     ],
     "prompt_number": 23
    },
    {
     "cell_type": "heading",
     "level": 2,
     "metadata": {},
     "source": [
      "Example 33.5 Page no 904"
     ]
    },
    {
     "cell_type": "code",
     "collapsed": false,
     "input": [
      "#Given\n",
      "F=1.6*10**-19                       #E\n",
      "W=4.2*10**8\n",
      "e=2.4\n",
      "w=4.2*10**-8\n",
      "\n",
      "#Calculation\n",
      "S=F*W\n",
      "A=S/F\n",
      "E=e/w\n",
      "\n",
      "#Result\n",
      "print\"Electric field is\", round(E*10**-7,2),\"*10**7 V/m\""
     ],
     "language": "python",
     "metadata": {},
     "outputs": [
      {
       "output_type": "stream",
       "stream": "stdout",
       "text": [
        "Electric field is 5.71 *10**7 V/m\n"
       ]
      }
     ],
     "prompt_number": 30
    },
    {
     "cell_type": "heading",
     "level": 2,
     "metadata": {},
     "source": [
      "Example 33.6 Page no 904"
     ]
    },
    {
     "cell_type": "code",
     "collapsed": false,
     "input": [
      "#Given\n",
      "h=6.62*10**-34\n",
      "c=3*10**8\n",
      "l=630*10**-9\n",
      "e=1.6*10**-19\n",
      "\n",
      "#Calculation\n",
      "Eg=(h*c)/(l*e)\n",
      "\n",
      "#Result\n",
      "print\"Width of the forbidden energy gap is\",round(Eg,2),\"eV\""
     ],
     "language": "python",
     "metadata": {},
     "outputs": [
      {
       "output_type": "stream",
       "stream": "stdout",
       "text": [
        "Width of the forbidden energy gap is 1.97 eV\n"
       ]
      }
     ],
     "prompt_number": 33
    },
    {
     "cell_type": "heading",
     "level": 2,
     "metadata": {},
     "source": [
      "Example 33.7 Page no 904"
     ]
    },
    {
     "cell_type": "code",
     "collapsed": false,
     "input": [
      "#iven\n",
      "A=10**-4                         #m**2\n",
      "l=0.1                            #m\n",
      "V=2                               #V\n",
      "T=300                             #K\n",
      "ue=0.135                           #m**2/V/S\n",
      "n=1.5*10**15                       #/m**3\n",
      "uh=0.048                           #m**2/V/S\n",
      "e=1.6*10**-19\n",
      "ue1=0.39\n",
      "uh1=0.19\n",
      "n1=2.4*10**19\n",
      "\n",
      "#Calculation\n",
      "E=V/l\n",
      "ve=ue*E\n",
      "vh=uh*E\n",
      "Ie=e*A*n*ve\n",
      "Ih=e*A*n*vh\n",
      "I=Ie+Ih\n",
      "ve1=ue1*E\n",
      "ve2=uh1*E\n",
      "Ie1=e*A*n1*ve1\n",
      "Ie2=e*A*n1*ve2\n",
      "I1=Ie1+Ie2\n",
      "\n",
      "#Result\n",
      "print\"Electron current is\", Ie*10.0,\"A \\nHole current is\",Ih*10,\"A\"\n",
      "print\"Magnitude of total current is\",I*10,\"A \\nTotal current when germanium is used is\",I1*10**3,\"*10**-3 A\""
     ],
     "language": "python",
     "metadata": {},
     "outputs": [
      {
       "output_type": "stream",
       "stream": "stdout",
       "text": [
        "Electron current is 6.48e-07 A \n",
        "Hole current is 2.304e-07 A\n",
        "Magnitude of total current is 8.784e-07 A \n",
        "Total current when germanium is used is 4.4544 *10**-3 A\n"
       ]
      }
     ],
     "prompt_number": 48
    }
   ],
   "metadata": {}
  }
 ]
}