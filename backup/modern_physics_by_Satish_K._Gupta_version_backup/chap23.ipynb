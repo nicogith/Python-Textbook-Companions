{
 "metadata": {
  "name": "",
  "signature": "sha256:fd3a71d11d7e73e323877019a1c5f0e92d8e8b30b7f927fde2bcadd4742b58c1"
 },
 "nbformat": 3,
 "nbformat_minor": 0,
 "worksheets": [
  {
   "cells": [
    {
     "cell_type": "heading",
     "level": 1,
     "metadata": {},
     "source": [
      "Chapter 23 Optical instruments"
     ]
    },
    {
     "cell_type": "heading",
     "level": 2,
     "metadata": {},
     "source": [
      "Example 23.1 Page no 704"
     ]
    },
    {
     "cell_type": "code",
     "collapsed": false,
     "input": [
      "#Given\n",
      "f=5.0                         #cm\n",
      "D=25\n",
      "\n",
      "#Calculation\n",
      "M=1+(D/f)\n",
      "\n",
      "#Result\n",
      "print\"Magnifying power is\",M"
     ],
     "language": "python",
     "metadata": {},
     "outputs": [
      {
       "output_type": "stream",
       "stream": "stdout",
       "text": [
        "Magnifying power is 6.0\n"
       ]
      }
     ],
     "prompt_number": 1
    },
    {
     "cell_type": "heading",
     "level": 2,
     "metadata": {},
     "source": [
      "Example 23.2 Page no 704"
     ]
    },
    {
     "cell_type": "code",
     "collapsed": false,
     "input": [
      "#Given\n",
      "f=6.25                   #cm\n",
      "v=-25\n",
      "\n",
      "#Calculation\n",
      "u=v*f/(v-f)\n",
      "M=1+(D/f)\n",
      "M1=D/f\n",
      "\n",
      "#Result\n",
      "print\"(i) The distance of the object from the lens is\", M\n",
      "print\"(ii) Anguar magnification is\",M1"
     ],
     "language": "python",
     "metadata": {},
     "outputs": [
      {
       "output_type": "stream",
       "stream": "stdout",
       "text": [
        "(i) The distance of the object from the lens is 5.0\n",
        "(ii) Anguar magnification is 4.0\n"
       ]
      }
     ],
     "prompt_number": 6
    },
    {
     "cell_type": "heading",
     "level": 2,
     "metadata": {},
     "source": [
      "Example 23.3 Page no 704"
     ]
    },
    {
     "cell_type": "code",
     "collapsed": false,
     "input": [
      "#Given\n",
      "u=-9\n",
      "f=10                      #cm\n",
      "v1=-25.0\n",
      "\n",
      "#Calculation\n",
      "v=u*f/(u+f)\n",
      "M=v/u\n",
      "u=-v1*f/(v1-f)\n",
      "M1=1-(v1/f)\n",
      "\n",
      "#Result\n",
      "print\"(i) Magnification is\", M,\"\\n Size of each square in the image will appear as 100 mm**2\"\n",
      "print\"(ii) Magnification is\",M1"
     ],
     "language": "python",
     "metadata": {},
     "outputs": [
      {
       "output_type": "stream",
       "stream": "stdout",
       "text": [
        "(i) Magnification is 10 \n",
        " Size of each square in the image will appear as 100 mm**2\n",
        "(ii) Magnification is 3.5\n"
       ]
      }
     ],
     "prompt_number": 15
    },
    {
     "cell_type": "heading",
     "level": 2,
     "metadata": {},
     "source": [
      "Example 23.4 Page no 704"
     ]
    },
    {
     "cell_type": "code",
     "collapsed": false,
     "input": [
      "#Given\n",
      "v=-25\n",
      "f=10.0\n",
      "\n",
      "#Calculation\n",
      "u=-v*f/(f-v)\n",
      "m=-v/u\n",
      "M=1-(v/f)\n",
      "\n",
      "#Result\n",
      "print\"(a) Distance is\", round(u,2),\"cm\"\n",
      "print\"(b) Magnification is\",m\n",
      "print\"(c) Magnification is\",M"
     ],
     "language": "python",
     "metadata": {},
     "outputs": [
      {
       "output_type": "stream",
       "stream": "stdout",
       "text": [
        "(a) Distance is 7.14 cm\n",
        "(b) Magnification is 3.5\n",
        "(c) Magnification is 3.5\n"
       ]
      }
     ],
     "prompt_number": 28
    },
    {
     "cell_type": "heading",
     "level": 2,
     "metadata": {},
     "source": [
      "Example 23.5 Page no 705"
     ]
    },
    {
     "cell_type": "code",
     "collapsed": false,
     "input": [
      "#Given\n",
      "M=-30\n",
      "fe=5                      #cm\n",
      "D=25                     #cm\n",
      "\n",
      "#Calculation\n",
      "m0=M/(1+(D/fe))\n",
      "\n",
      "#Result\n",
      "print\"Magnification produced is\",m0"
     ],
     "language": "python",
     "metadata": {},
     "outputs": [
      {
       "output_type": "stream",
       "stream": "stdout",
       "text": [
        "Magnification produced is -5\n"
       ]
      }
     ],
     "prompt_number": 29
    },
    {
     "cell_type": "heading",
     "level": 2,
     "metadata": {},
     "source": [
      "Example 23.6 Page no 705"
     ]
    },
    {
     "cell_type": "code",
     "collapsed": false,
     "input": [
      "#Given\n",
      "f0=4\n",
      "u0=-6\n",
      "D=25\n",
      "fe=6.0\n",
      "\n",
      "#Calculation\n",
      "v0=f0*u0/(f0+u0)\n",
      "M=v0/u0*(1+(D/fe))\n",
      "\n",
      "#Result\n",
      "print\"Magnification produceed by the microscope is\", round(M,2)"
     ],
     "language": "python",
     "metadata": {},
     "outputs": [
      {
       "output_type": "stream",
       "stream": "stdout",
       "text": [
        "Magnification produceed by the microscope is -10.33\n"
       ]
      }
     ],
     "prompt_number": 34
    },
    {
     "cell_type": "heading",
     "level": 2,
     "metadata": {},
     "source": [
      "Example 23.7 Page no 705"
     ]
    },
    {
     "cell_type": "code",
     "collapsed": false,
     "input": [
      "#Given\n",
      "L=20\n",
      "fe=5\n",
      "f0=1.0                   \n",
      "\n",
      "#Calculation\n",
      "v01=L-fe\n",
      "u0=v01*f0/(f0-v01)\n",
      "M=v01*D/(u0*fe)\n",
      "\n",
      "#Result\n",
      "print\"Magnification power is\", M,\"\\nThe -ve sigh shows that the image formed is inverted and real\""
     ],
     "language": "python",
     "metadata": {},
     "outputs": [
      {
       "output_type": "stream",
       "stream": "stdout",
       "text": [
        "Magnification power is -70.0 \n",
        "The -ve sigh shows that the image formed is inverted and real\n"
       ]
      }
     ],
     "prompt_number": 41
    },
    {
     "cell_type": "heading",
     "level": 2,
     "metadata": {},
     "source": [
      "Example 23.8 Page no 705"
     ]
    },
    {
     "cell_type": "code",
     "collapsed": false,
     "input": [
      "#Given\n",
      "f=36                         #cm\n",
      "M=-8\n",
      "\n",
      "#Calculation\n",
      "fe=-f/(M-1)\n",
      "f0=-M*fe\n",
      "\n",
      "#Result\n",
      "print\"Focal length of the lenses is\", fe,\"cm and\",f0,\"cm\""
     ],
     "language": "python",
     "metadata": {},
     "outputs": [
      {
       "output_type": "stream",
       "stream": "stdout",
       "text": [
        "Focal length of the lenses is 4 cm and 32 cm\n"
       ]
      }
     ],
     "prompt_number": 46
    },
    {
     "cell_type": "heading",
     "level": 2,
     "metadata": {},
     "source": [
      "Example 23.9 Page no 705"
     ]
    },
    {
     "cell_type": "code",
     "collapsed": false,
     "input": [
      "#Given\n",
      "f=75                  #cm\n",
      "fe=5.0\n",
      "D=25 \n",
      "\n",
      "#Calculation\n",
      "M=-f/fe*(1+(fe/D))\n",
      "\n",
      "#Result\n",
      "print\"Magnying power is\",M"
     ],
     "language": "python",
     "metadata": {},
     "outputs": [
      {
       "output_type": "stream",
       "stream": "stdout",
       "text": [
        "Magnying power is -18.0\n"
       ]
      }
     ],
     "prompt_number": 49
    },
    {
     "cell_type": "heading",
     "level": 2,
     "metadata": {},
     "source": [
      "Example 23.10 Page no 705"
     ]
    },
    {
     "cell_type": "code",
     "collapsed": false,
     "input": [
      "#Given\n",
      "f0=140\n",
      "fe=5\n",
      "D=25.0\n",
      "\n",
      "#Calculation\n",
      "M=-f0/fe\n",
      "M1=-(f0/fe)*(1+(fe/D))\n",
      "\n",
      "#Result\n",
      "print\"(a) Magnefying power, when telescope is in normal adjustment is\", M\n",
      "print\"(b) Magnifying power, when image is formed at least distance of distinct vision is is\",M1"
     ],
     "language": "python",
     "metadata": {},
     "outputs": [
      {
       "output_type": "stream",
       "stream": "stdout",
       "text": [
        "(a) Magnefying power, when telescope is in normal adjustment is -28\n",
        "(b) Magnifying power, when image is formed at least distance of distinct vision is is -33.6\n"
       ]
      }
     ],
     "prompt_number": 54
    },
    {
     "cell_type": "heading",
     "level": 2,
     "metadata": {},
     "source": [
      "Example 23.11 Page no 706"
     ]
    },
    {
     "cell_type": "code",
     "collapsed": false,
     "input": [
      "#Given\n",
      "f0=1                        #m\n",
      "fe=0.05\n",
      "I=0.92*10**-2\n",
      "u0=38*10**-7\n",
      "fe1=5.0                        #cm\n",
      "ve=-25\n",
      "\n",
      "#Calculation\n",
      "d=I*u0/f0\n",
      "L=f0+fe\n",
      "ue=ve*fe1/(fe1-ve)\n",
      "L1=(f0*10**2)-ue\n",
      "\n",
      "#Result\n",
      "print\"(i) Distance between two lenses is\", L*10**2,\"cm\"\n",
      "print\"(ii) Distance when final image at 25 cm from the eye is\",round(L1,2),\"cm\""
     ],
     "language": "python",
     "metadata": {},
     "outputs": [
      {
       "output_type": "stream",
       "stream": "stdout",
       "text": [
        "(i) Distance between two lenses is 105.0 cm\n",
        "(ii) Distance when final image at 25 cm from the eye is 104.17 cm\n"
       ]
      }
     ],
     "prompt_number": 71
    },
    {
     "cell_type": "heading",
     "level": 2,
     "metadata": {},
     "source": [
      "Example 23.12 Page no 706"
     ]
    },
    {
     "cell_type": "code",
     "collapsed": false,
     "input": [
      "#Given\n",
      "M=-20\n",
      "R=120\n",
      "\n",
      "#Calculation\n",
      "f0=R/2.0\n",
      "fe=-f0/M\n",
      "\n",
      "#Result\n",
      "print\"Focal length of the eye piece is\",fe,\"cm\""
     ],
     "language": "python",
     "metadata": {},
     "outputs": [
      {
       "output_type": "stream",
       "stream": "stdout",
       "text": [
        "Focal length of the eye piece is 3.0 cm\n"
       ]
      }
     ],
     "prompt_number": 74
    },
    {
     "cell_type": "heading",
     "level": 2,
     "metadata": {},
     "source": [
      "Example 23.13 Page no 706"
     ]
    },
    {
     "cell_type": "code",
     "collapsed": false,
     "input": [
      "#Given\n",
      "d=0.8                        #cm\n",
      "D=508\n",
      "\n",
      "#Calculation\n",
      "B=D**2/d**2\n",
      "\n",
      "#Result\n",
      "print\"The telescope can see a star \",B,\"time sfarther than the faintest star that can be seen with naked eye.\""
     ],
     "language": "python",
     "metadata": {},
     "outputs": [
      {
       "output_type": "stream",
       "stream": "stdout",
       "text": [
        "The telescope can see a star  403225.0 time sfarther than the faintest star that can be seen with naked eye.\n"
       ]
      }
     ],
     "prompt_number": 76
    },
    {
     "cell_type": "heading",
     "level": 2,
     "metadata": {},
     "source": [
      "Example 23.14 Page no 706"
     ]
    },
    {
     "cell_type": "code",
     "collapsed": false,
     "input": [
      "#Given\n",
      "ve=-25                      #cm\n",
      "fe=6.25\n",
      "a=15\n",
      "f0=2\n",
      "\n",
      "#Calculation\n",
      "ue=-ve*fe/(ve-fe)\n",
      "v0=a+ue\n",
      "u0=f0*v0/(f0-v0)\n",
      "v01=a-fe\n",
      "u01=v01*f0/(f0-v01)\n",
      "\n",
      "#Result\n",
      "print\"(a) Distance when final image at least distance of distinct vision is\", u0,\"cm\"\n",
      "print\"(b) Distance when final image is at infinity is\",round(u01,2),\"cm\""
     ],
     "language": "python",
     "metadata": {},
     "outputs": [
      {
       "output_type": "stream",
       "stream": "stdout",
       "text": [
        "(a) Distance when final image at least distance of distinct vision is -2.5 cm\n",
        "(b) Distance when final image is at infinity is -2.59 cm\n"
       ]
      }
     ],
     "prompt_number": 87
    },
    {
     "cell_type": "heading",
     "level": 2,
     "metadata": {},
     "source": [
      "Example 23.15 Page no 707"
     ]
    },
    {
     "cell_type": "code",
     "collapsed": false,
     "input": [
      "#Given\n",
      "a=10\n",
      "D=24\n",
      "fe=20.0\n",
      "\n",
      "#Calculation\n",
      "import math\n",
      "A=a/(1+(D/fe))/100.0\n",
      "\n",
      "#Result\n",
      "print\"Angle is\", round(A,4),\"radian\""
     ],
     "language": "python",
     "metadata": {},
     "outputs": [
      {
       "output_type": "stream",
       "stream": "stdout",
       "text": [
        "Angle is 0.0455 radian\n"
       ]
      }
     ],
     "prompt_number": 95
    },
    {
     "cell_type": "heading",
     "level": 2,
     "metadata": {},
     "source": [
      "Example 23.16 Page no 707"
     ]
    },
    {
     "cell_type": "code",
     "collapsed": false,
     "input": [
      "#Given\n",
      "f0=-0.5                          #m\n",
      "fe=0.01\n",
      "d=3.48*10**6\n",
      "r=3.8*10**8\n",
      "a1=15\n",
      "\n",
      "#Calculation\n",
      "M=f0/fe\n",
      "a=d/r\n",
      "I=a*a1\n",
      "\n",
      "#Result\n",
      "print\"(a) Angular Magnification of the telescope is\",M\n",
      "print\"(b) Diameter of the image is\", round(I,3),\"m\""
     ],
     "language": "python",
     "metadata": {},
     "outputs": [
      {
       "output_type": "stream",
       "stream": "stdout",
       "text": [
        "(a) Angular Magnification of the telescope is -50.0\n",
        "(b) Diameter of the image is 0.137 m\n"
       ]
      }
     ],
     "prompt_number": 103
    }
   ],
   "metadata": {}
  }
 ]
}