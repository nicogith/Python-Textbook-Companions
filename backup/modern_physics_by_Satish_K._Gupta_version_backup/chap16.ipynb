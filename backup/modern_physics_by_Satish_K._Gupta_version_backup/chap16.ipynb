{
 "metadata": {
  "name": "",
  "signature": "sha256:03e25d70b6f5039934ebff67f76c18265eda838017719c81d51174de65a0d0cb"
 },
 "nbformat": 3,
 "nbformat_minor": 0,
 "worksheets": [
  {
   "cells": [
    {
     "cell_type": "heading",
     "level": 1,
     "metadata": {},
     "source": [
      "Chapter 16 Electromagnetic induction"
     ]
    },
    {
     "cell_type": "heading",
     "level": 2,
     "metadata": {},
     "source": [
      "Example 16.1 Page no 508"
     ]
    },
    {
     "cell_type": "code",
     "collapsed": false,
     "input": [
      "#Given\n",
      "R=5.0                            #ohm\n",
      "t=2\n",
      "a=15\n",
      "b=8\n",
      "\n",
      "#Calculation\n",
      "e=-a*t**2-(b*t)-t\n",
      "I=-e/R\n",
      "\n",
      "#Result\n",
      "print\"Induced current is\", I,\"A\""
     ],
     "language": "python",
     "metadata": {},
     "outputs": [
      {
       "output_type": "stream",
       "stream": "stdout",
       "text": [
        "Induced current is 15.6 A\n"
       ]
      }
     ],
     "prompt_number": 6
    },
    {
     "cell_type": "heading",
     "level": 2,
     "metadata": {},
     "source": [
      "Example 16.2 Page no 508"
     ]
    },
    {
     "cell_type": "code",
     "collapsed": false,
     "input": [
      "#Given\n",
      "S1=75*10**-4                               #m**2\n",
      "B1=0.8                                       #wb/m**2\n",
      "S2=100*10**-4\n",
      "B2=1.4\n",
      "t=0.05\n",
      "\n",
      "#Calculation\n",
      "a1=B1*S1\n",
      "a2=B2*S2\n",
      "a=a2-a1\n",
      "e=-a/t\n",
      "\n",
      "#Result\n",
      "print\"Induced e.m.f is\", e,\"Volt\""
     ],
     "language": "python",
     "metadata": {},
     "outputs": [
      {
       "output_type": "stream",
       "stream": "stdout",
       "text": [
        "Induced e.m.f is -0.16 Volt\n"
       ]
      }
     ],
     "prompt_number": 9
    },
    {
     "cell_type": "heading",
     "level": 2,
     "metadata": {},
     "source": [
      "Example 16.3 Page no 508"
     ]
    },
    {
     "cell_type": "code",
     "collapsed": false,
     "input": [
      "#Given\n",
      "a1=5.5*10**-4                            #Wb\n",
      "a2=0.5*10**-4\n",
      "N=1000\n",
      "t=0.1\n",
      "R=10                                        #ohm\n",
      "\n",
      "#Calculation\n",
      "a=a2-a1\n",
      "a11=N*a\n",
      "e=-(a11/t)\n",
      "I1=e/R\n",
      "I2=I1*t\n",
      "\n",
      "#Result\n",
      "print\" Induced e.m.f produced is\",e,\"V\"\n",
      "print\" Charge flowing through the coil in 0.1 is\",I2,\"C\""
     ],
     "language": "python",
     "metadata": {},
     "outputs": [
      {
       "output_type": "stream",
       "stream": "stdout",
       "text": [
        " Induced e.m.f produced is 5.0 V\n",
        " Charge flowing through the coil in 0.1 is 0.05 C\n"
       ]
      }
     ],
     "prompt_number": 27
    },
    {
     "cell_type": "heading",
     "level": 2,
     "metadata": {},
     "source": [
      "Example 16.5 Page no 509"
     ]
    },
    {
     "cell_type": "code",
     "collapsed": false,
     "input": [
      "#Given\n",
      "B=2.5*10**-3                   #Wb**-2\n",
      "L=1                            #m\n",
      "v=30                           #r.p.s\n",
      "\n",
      "#Calculation\n",
      "import math\n",
      "e=-B*math.pi*L**2*v\n",
      "\n",
      "#Result\n",
      "print\"The produced e.m.f. between its ends is\",round(e,3),\"V\""
     ],
     "language": "python",
     "metadata": {},
     "outputs": [
      {
       "output_type": "stream",
       "stream": "stdout",
       "text": [
        "The produced e.m.f. between its ends is -0.236 V\n"
       ]
      }
     ],
     "prompt_number": 31
    },
    {
     "cell_type": "heading",
     "level": 2,
     "metadata": {},
     "source": [
      "Example 16.6 Page no 509"
     ]
    },
    {
     "cell_type": "code",
     "collapsed": false,
     "input": [
      "#Given\n",
      "L=1.2                              #m\n",
      "e=10**-2                           #v\n",
      "B=5*10**-5                         #tesla\n",
      "\n",
      "#Calculation\n",
      "import math\n",
      "V=e/(B*math.pi*L**2)\n",
      "\n",
      "#Result\n",
      "print\"The rate of rotation of the wheel is\",round(V,1),\"Rotation a**-1\""
     ],
     "language": "python",
     "metadata": {},
     "outputs": [
      {
       "output_type": "stream",
       "stream": "stdout",
       "text": [
        "The rate of rotation of the wheel is 44.2 Rotation a**-1\n"
       ]
      }
     ],
     "prompt_number": 37
    },
    {
     "cell_type": "heading",
     "level": 2,
     "metadata": {},
     "source": [
      "Example 16.7 Page no 509"
     ]
    },
    {
     "cell_type": "code",
     "collapsed": false,
     "input": [
      "#Given\n",
      "D=10\n",
      "L=0.50                         #m\n",
      "B=0.40*10**-4                  #T\n",
      "V=2                            #r.p.s.\n",
      "\n",
      "#Calculation\n",
      "import math\n",
      "E=-B*math.pi*L**2*V\n",
      "\n",
      "#Result\n",
      "print\"The induced e.m.f. between the axle and the rim of the wheel is\",round(E*10**5,3),\"10**-5\",\"V\""
     ],
     "language": "python",
     "metadata": {},
     "outputs": [
      {
       "output_type": "stream",
       "stream": "stdout",
       "text": [
        "The induced e.m.f. between the axle and the rim of the wheel is -6.283 10**-5 V\n"
       ]
      }
     ],
     "prompt_number": 45
    },
    {
     "cell_type": "heading",
     "level": 2,
     "metadata": {},
     "source": [
      "Example 16.8 Page no 509"
     ]
    },
    {
     "cell_type": "code",
     "collapsed": false,
     "input": [
      "#Given\n",
      "B=0.2                            #T\n",
      "r=0.1                            #m\n",
      "R=2                              #ohm\n",
      "D=20*math.pi                     #rad s**-1\n",
      "\n",
      "#Calculation\n",
      "import math\n",
      "V=D/(2*math.pi)\n",
      "E=-B*math.pi*r**2*V\n",
      "I=E/R\n",
      "\n",
      "#Result\n",
      "print\"(i) The potential difference is\",round(E,4),\"V\"\n",
      "print\"(ii) The induced current is\",round(I,4),\"A\""
     ],
     "language": "python",
     "metadata": {},
     "outputs": [
      {
       "output_type": "stream",
       "stream": "stdout",
       "text": [
        "(i) The potential difference is -0.0628 V\n",
        "(ii) The induced current is -0.0314 A\n"
       ]
      }
     ],
     "prompt_number": 56
    },
    {
     "cell_type": "heading",
     "level": 2,
     "metadata": {},
     "source": [
      "Example 16.9 Page no 509"
     ]
    },
    {
     "cell_type": "code",
     "collapsed": false,
     "input": [
      "#Given\n",
      "B=8.0*10**-5                                #Wb m**-2\n",
      "L=2                                         #m\n",
      "v=30                                        #m s**-1\n",
      "\n",
      "#Calculation\n",
      "e=B*L*v\n",
      "\n",
      "#Result\n",
      "print\"The vertical component of earth's field is\",e*10**3,\"10**-3\""
     ],
     "language": "python",
     "metadata": {},
     "outputs": [
      {
       "output_type": "stream",
       "stream": "stdout",
       "text": [
        "The vertical component of earth's field is 4.8 10**-3\n"
       ]
      }
     ],
     "prompt_number": 61
    },
    {
     "cell_type": "heading",
     "level": 2,
     "metadata": {},
     "source": [
      "Example 16.10 Page no 509"
     ]
    },
    {
     "cell_type": "code",
     "collapsed": false,
     "input": [
      "#Givem\n",
      "l=10                               #m\n",
      "v=5                                 #m/s\n",
      "Bh=0.30*10**-4                       #Wb/m**2\n",
      "\n",
      "#Calculation\n",
      "e=Bh*l*v\n",
      "\n",
      "#Result\n",
      "print \"Instantaneous value of e.m.f. induced is\",e*10**3,\"*10**-3 V\""
     ],
     "language": "python",
     "metadata": {},
     "outputs": [
      {
       "output_type": "stream",
       "stream": "stdout",
       "text": [
        "Instantaneous value of e.m.f. induced is 1.5 *10**-3 V\n"
       ]
      }
     ],
     "prompt_number": 64
    },
    {
     "cell_type": "heading",
     "level": 2,
     "metadata": {},
     "source": [
      "Example 16.11 Page no 509"
     ]
    },
    {
     "cell_type": "code",
     "collapsed": false,
     "input": [
      "#Given\n",
      "B=0.3                                   #T\n",
      "v=10**-2                              #m/s\n",
      "l=8*10**-2\n",
      "L=1\n",
      "v1=1.0\n",
      "l2=2*10**-2\n",
      "L1=8\n",
      "\n",
      "#Calculation\n",
      "e=B*l*v\n",
      "l=L/v1\n",
      "e1=B*l2*v\n",
      "t1=L1/v1\n",
      "\n",
      "#Result\n",
      "print\"(i) Voltage developed in the direction of motion normal to the longer side is\", e*10**3,\"mv\"\n",
      "print\"(ii) Voltage developed in the direction of motion normal to the shorter side is\",e1*10**3,\"mV\""
     ],
     "language": "python",
     "metadata": {},
     "outputs": [
      {
       "output_type": "stream",
       "stream": "stdout",
       "text": [
        "(i) Voltage developed in the direction of motion normal to the longer side is 0.24 mv\n",
        "(ii) Voltage developed in the direction of motion normal to the shorter side is 0.06 mV\n"
       ]
      }
     ],
     "prompt_number": 72
    },
    {
     "cell_type": "heading",
     "level": 2,
     "metadata": {},
     "source": [
      "Example 16.12 Page no 510"
     ]
    },
    {
     "cell_type": "code",
     "collapsed": false,
     "input": [
      "#Given\n",
      "B=0.4                                   #T\n",
      "v=5                                     #m/s\n",
      "l=0.25                                 #m\n",
      "e=0.5\n",
      "R=5.0\n",
      "\n",
      "#Calculation\n",
      "e=B*l*v\n",
      "I=e/R\n",
      "\n",
      "#Result\n",
      "print\"New current is\",I,\"A\"\n",
      "print\"Direction is from the end S to R\""
     ],
     "language": "python",
     "metadata": {},
     "outputs": [
      {
       "output_type": "stream",
       "stream": "stdout",
       "text": [
        "New current is 0.1 A\n",
        "Direction is from the end S to R\n"
       ]
      }
     ],
     "prompt_number": 75
    },
    {
     "cell_type": "heading",
     "level": 2,
     "metadata": {},
     "source": [
      "Example 16.13 Page no 510"
     ]
    },
    {
     "cell_type": "code",
     "collapsed": false,
     "input": [
      "#Given\n",
      "v=500                                  #m/s\n",
      "B=5*10**-4                           #t\n",
      "a=30                                     #degree\n",
      "l=25                                    #m\n",
      "\n",
      "#Calculation\n",
      "import math\n",
      "Bv=B*math.sin(a*3.14/180.0)\n",
      "e=Bv*l*v\n",
      "\n",
      "#Result\n",
      "print\"Voltage difference is\", round(e,3),\"V\""
     ],
     "language": "python",
     "metadata": {},
     "outputs": [
      {
       "output_type": "stream",
       "stream": "stdout",
       "text": [
        "Voltage difference is 3.124 V\n"
       ]
      }
     ],
     "prompt_number": 80
    },
    {
     "cell_type": "heading",
     "level": 2,
     "metadata": {},
     "source": [
      "Example 16.14 Page no 510"
     ]
    },
    {
     "cell_type": "code",
     "collapsed": false,
     "input": [
      "#Given\n",
      "L=10*10**-3                         #H\n",
      "I=4*10**-3                           #A\n",
      "N=200.0\n",
      "\n",
      "#Calculation\n",
      "a=L*I\n",
      "A=a/N\n",
      "\n",
      "#Result\n",
      "print\"Total magnetic flux is\",a,\"Weber\"\n",
      "print\"Magnetic flux through the cross section is\",A,\"Weber\""
     ],
     "language": "python",
     "metadata": {},
     "outputs": [
      {
       "output_type": "stream",
       "stream": "stdout",
       "text": [
        "Total magnetic flux is 4e-05 Weber\n",
        "Magnetic flux through the cross section is 2e-07 Weber\n"
       ]
      }
     ],
     "prompt_number": 85
    },
    {
     "cell_type": "heading",
     "level": 2,
     "metadata": {},
     "source": [
      "Example 16.15 Page no 510"
     ]
    },
    {
     "cell_type": "code",
     "collapsed": false,
     "input": [
      "#Given\n",
      "L=10**-2                                    #H\n",
      "I1=0\n",
      "I2=1                                         #A\n",
      "l=1 \n",
      "t=0.01\n",
      "\n",
      "#Calculation\n",
      "e=-L*(l/t)\n",
      "\n",
      "#Result\n",
      "print\"Self induced e.m.f is\", e,\"V\"\n",
      "print\"The self-induced e.m.f. will act so as to oppose the growth of current.\""
     ],
     "language": "python",
     "metadata": {},
     "outputs": [
      {
       "output_type": "stream",
       "stream": "stdout",
       "text": [
        "Self induced e.m.f is -1.0 V\n",
        "The self-induced e.m.f. will act so as to oppose the growth of current.\n"
       ]
      }
     ],
     "prompt_number": 89
    },
    {
     "cell_type": "heading",
     "level": 2,
     "metadata": {},
     "source": [
      "Example 16.16 Page no 510"
     ]
    },
    {
     "cell_type": "code",
     "collapsed": false,
     "input": [
      "#Given\n",
      "n=1500                         #turns/m\n",
      "A=2*10**-4                        #m**2\n",
      "l=20                                  #A/s\n",
      "\n",
      "#Calculation\n",
      "import math\n",
      "e=-4*math.pi*n*A*l*10**-7\n",
      "\n",
      "#Result\n",
      "print\"Induced e.m.f. is\",round(e*10**6,2)*10**-6,\"V\""
     ],
     "language": "python",
     "metadata": {},
     "outputs": [
      {
       "output_type": "stream",
       "stream": "stdout",
       "text": [
        "Induced e.m.f. is -7.54e-06 V\n"
       ]
      }
     ],
     "prompt_number": 97
    },
    {
     "cell_type": "heading",
     "level": 2,
     "metadata": {},
     "source": [
      "Example 16.17 Page no 511"
     ]
    },
    {
     "cell_type": "code",
     "collapsed": false,
     "input": [
      "#Given\n",
      "e=50*10**-3                         #V\n",
      "a=8\n",
      "b=4\n",
      "t=0.5\n",
      "\n",
      "#Calculation\n",
      "l=a-b\n",
      "M=e*t/l\n",
      "\n",
      "#Result\n",
      "print\"Mutual inductance is\",M*10**3,\"*10**-3 H\""
     ],
     "language": "python",
     "metadata": {},
     "outputs": [
      {
       "output_type": "stream",
       "stream": "stdout",
       "text": [
        "Mutual inductance is 6.25 *10**-3 H\n"
       ]
      }
     ],
     "prompt_number": 101
    },
    {
     "cell_type": "heading",
     "level": 2,
     "metadata": {},
     "source": [
      "Example 16.18 Page no 511"
     ]
    },
    {
     "cell_type": "code",
     "collapsed": false,
     "input": [
      "#Given\n",
      "n1=5000                                #turns/m\n",
      "A=4*10**-4                              #m**2\n",
      "n2l=200\n",
      "u=10**-7\n",
      "\n",
      "#Calculation\n",
      "import math\n",
      "M=4*math.pi*u*n1*n2l*A\n",
      "\n",
      "#Result\n",
      "print\"Mutual inductance is\", round(M*10**4,3),\"*10**-4 H\""
     ],
     "language": "python",
     "metadata": {},
     "outputs": [
      {
       "output_type": "stream",
       "stream": "stdout",
       "text": [
        "Mutual inductance is 5.027 *10**-4 H\n"
       ]
      }
     ],
     "prompt_number": 109
    },
    {
     "cell_type": "heading",
     "level": 2,
     "metadata": {},
     "source": [
      "Example 16.19 Page no 511"
     ]
    },
    {
     "cell_type": "code",
     "collapsed": false,
     "input": [
      "#Given\n",
      "N=1200\n",
      "A=12*10**-4\n",
      "r=15*10**-2                            #m\n",
      "u=10**-7\n",
      "I=1.0\n",
      "N2=300\n",
      "I1=0\n",
      "I2=2\n",
      "t=0.05\n",
      "\n",
      "#Calculation\n",
      "import math\n",
      "n=N/(2*math.pi*r)\n",
      "B=4*math.pi*u*n\n",
      "a=B*A*N\n",
      "L=a/I\n",
      "a1=B*A*N2\n",
      "a11=a1*I1\n",
      "a12=a1*I2\n",
      "a13=a12-a11\n",
      "e=-a13/t\n",
      "\n",
      "#Result\n",
      "print\"(a) Self inductance is\", L*10**3,\"*10**-3 H\"\n",
      "print\"(b) Induced e.m.f is\", round(e,3),\"V\""
     ],
     "language": "python",
     "metadata": {},
     "outputs": [
      {
       "output_type": "stream",
       "stream": "stdout",
       "text": [
        "(a) Self inductance is 2.304 *10**-3 H\n",
        "(b) Induced e.m.f is -0.023 V\n"
       ]
      }
     ],
     "prompt_number": 124
    },
    {
     "cell_type": "heading",
     "level": 2,
     "metadata": {},
     "source": [
      "Example 16.20 Page no 511"
     ]
    },
    {
     "cell_type": "code",
     "collapsed": false,
     "input": [
      "#Given\n",
      "A=25*10**-4\n",
      "N=500\n",
      "l=30.0*10**-2                 #m\n",
      "I=2.5\n",
      "u=10**-7\n",
      "t=10.0**-3\n",
      "\n",
      "#Calculation\n",
      "import math\n",
      "n=N/l\n",
      "B=4*math.pi*u*n*I\n",
      "a=B*A*N\n",
      "a1=0-a\n",
      "e=-a1/t\n",
      "\n",
      "#Result\n",
      "print\"Average induced e.m.f. produced is\",  round(e,3),\"V\""
     ],
     "language": "python",
     "metadata": {},
     "outputs": [
      {
       "output_type": "stream",
       "stream": "stdout",
       "text": [
        "Average induced e.m.f. produced is 6.545 V\n"
       ]
      }
     ],
     "prompt_number": 130
    },
    {
     "cell_type": "heading",
     "level": 2,
     "metadata": {},
     "source": [
      "Example 16.21 Page no 511"
     ]
    },
    {
     "cell_type": "code",
     "collapsed": false,
     "input": [
      "#Given\n",
      "N=25.0\n",
      "A=2*10**-4                               #m**2\n",
      "q=7.5*10**-3\n",
      "R=0.50\n",
      "\n",
      "#Calculation\n",
      "B=R*q/(N*A)\n",
      "\n",
      "#Result\n",
      "print\"Field strength of the magnet is\" ,B,\"T\""
     ],
     "language": "python",
     "metadata": {},
     "outputs": [
      {
       "output_type": "stream",
       "stream": "stdout",
       "text": [
        "Field strength of the magnet is 0.75 T\n"
       ]
      }
     ],
     "prompt_number": 136
    },
    {
     "cell_type": "heading",
     "level": 2,
     "metadata": {},
     "source": [
      "Example 16.22 Page no 512"
     ]
    },
    {
     "cell_type": "code",
     "collapsed": false,
     "input": [
      "#Given\n",
      "B=0.50                      #T\n",
      "l=15*10**-2                    #m\n",
      "R=9.0*10**-3                     #ohm\n",
      "v=12*10**-2                    #m/s\n",
      "\n",
      "#Calculation\n",
      "e=B*v*l\n",
      "F=B*l*(e/R)\n",
      "P=F*v\n",
      "P1=e**2/R\n",
      "\n",
      "#Result\n",
      "print\"(a) Induced e.m.f is\", e*10**3,\"*10**3 V\"\n",
      "print\"The end P of the rod will become positive and the end Q will become negative\"\n",
      "print\"(b) on closing the switch, electrons collects at the end Q. Therefore , excess charge is built up i.e it doesn't open when switch is open\" \n",
      "print\"(c) The magnetic lorentz force on electron is cancelled due to the electric field set up across the two end\"\n",
      "print\"(d) Retarding force is\",F*10**2,\"*10**-2 N\"\n",
      "print\"(e) Power is\",P*10**3,\"*10*-3 W\"\n",
      "print\"(f) Dissipated power is\",P*10**3,\"*10**-3 W\"\n",
      "print\"(g) The motion of the rod does not cut field lines,hence no induced e.m.f. is produced\""
     ],
     "language": "python",
     "metadata": {},
     "outputs": [
      {
       "output_type": "stream",
       "stream": "stdout",
       "text": [
        "(a) Induced e.m.f is 9.0 *10**3 V\n",
        "The end P of the rod will become positive and the end Q will become negative\n",
        "(b) on closing the switch, electrons collects at the end Q. Therefore , excess charge is built up i.e it doesn't open when switch is open\n",
        "(c) The magnetic lorentz force on electron is cancelled due to the electric field set up across the two end\n",
        "(d) Retarding force is 7.5 *10**-2 N\n",
        "(e) Power is 9.0 *10*-3 W\n",
        "(f) Dissipated power is 9.0 *10**-3 W\n",
        "(g) The motion of the rod does not cut field lines,hence no induced e.m.f. is produced\n"
       ]
      }
     ],
     "prompt_number": 156
    },
    {
     "cell_type": "heading",
     "level": 2,
     "metadata": {},
     "source": [
      "Example 16.23 Page no 512"
     ]
    },
    {
     "cell_type": "code",
     "collapsed": false,
     "input": [
      "#Given\n",
      "a1=20*10**-2\n",
      "a2=0.3*10**-2                       #m\n",
      "x=15*10**-2\n",
      "I=2.0                                    #A\n",
      "u=10**-7\n",
      "\n",
      "#Calculation\n",
      "import math\n",
      "B1=u*2*math.pi*I*a1**2/((a1**2+x**2)**1.5)\n",
      "a=B1*math.pi*a2**2\n",
      "M=a/I\n",
      "\n",
      "#Result\n",
      "print\"(a) Flux is\", round(B1*10**6,3)*10**-6 ,\"T\"\n",
      "print\"(b) Mutual inductance is\",round(M*10**11,3)*10**-11,\"H\""
     ],
     "language": "python",
     "metadata": {},
     "outputs": [
      {
       "output_type": "stream",
       "stream": "stdout",
       "text": [
        "(a) Flux is 3.217e-06 T\n",
        "(b) Mutual inductance is 4.548e-11 H\n"
       ]
      }
     ],
     "prompt_number": 168
    },
    {
     "cell_type": "heading",
     "level": 2,
     "metadata": {},
     "source": [
      "Example 16.25 Page no 513"
     ]
    },
    {
     "cell_type": "code",
     "collapsed": false,
     "input": [
      "#Given\n",
      "N1=1500\n",
      "l1=80.0*10**-2\n",
      "l2=4*10**-2\n",
      "r2=2*10**-2\n",
      "I=3.0                        #A\n",
      "\n",
      "#Calculation\n",
      "import math\n",
      "A2=math.pi*r**2\n",
      "n1=N1/l1\n",
      "a=4*math.pi*10**-7*n1*I*4*math.pi*10**-4*100\n",
      "M=a/I\n",
      "\n",
      "#Result\n",
      "print\"Flux is\",round( a*10**4,3),\"*10**-4 Wb\"\n",
      "print\"Mutual inductance is\",round(M*10**4,2),\"*10**-4 H\""
     ],
     "language": "python",
     "metadata": {},
     "outputs": [
      {
       "output_type": "stream",
       "stream": "stdout",
       "text": [
        "Flux is 8.883 *10**-4 Wb\n",
        "Mutual inductance is 2.96 *10**-4 H\n"
       ]
      }
     ],
     "prompt_number": 181
    }
   ],
   "metadata": {}
  }
 ]
}