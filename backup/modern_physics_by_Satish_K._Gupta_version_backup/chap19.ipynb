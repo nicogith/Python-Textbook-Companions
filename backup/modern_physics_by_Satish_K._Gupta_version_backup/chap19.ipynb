{
 "metadata": {
  "name": "",
  "signature": "sha256:c81057d61d55f846d72bc0a6263de0452d74cd37dd94b021ce01d87a17a0c974"
 },
 "nbformat": 3,
 "nbformat_minor": 0,
 "worksheets": [
  {
   "cells": [
    {
     "cell_type": "heading",
     "level": 1,
     "metadata": {},
     "source": [
      "Chapter 19 Electrical machines and devices"
     ]
    },
    {
     "cell_type": "heading",
     "level": 2,
     "metadata": {},
     "source": [
      "Example 19.1 Page no 582"
     ]
    },
    {
     "cell_type": "code",
     "collapsed": false,
     "input": [
      "#Given\n",
      "Ep=2300.0                    #v\n",
      "Np=4000\n",
      "Es=230                          #v\n",
      "\n",
      "#Calculation\n",
      "Ns=Np*(Es/Ep)\n",
      "\n",
      "#Result\n",
      "print\"Number of turns is\", Ns"
     ],
     "language": "python",
     "metadata": {},
     "outputs": [
      {
       "output_type": "stream",
       "stream": "stdout",
       "text": [
        "Number of turns is 400.0\n"
       ]
      }
     ],
     "prompt_number": 2
    },
    {
     "cell_type": "heading",
     "level": 2,
     "metadata": {},
     "source": [
      "Example 19.2 Page no 582"
     ]
    },
    {
     "cell_type": "code",
     "collapsed": false,
     "input": [
      "#Given\n",
      "Ep=220.0               #v\n",
      "Es=110\n",
      "E=550                     #watt\n",
      "\n",
      "#Calculation\n",
      "Ip=E/Ep\n",
      "\n",
      "#Result\n",
      "print\"Current drawn is\",Ip,\"A\""
     ],
     "language": "python",
     "metadata": {},
     "outputs": [
      {
       "output_type": "stream",
       "stream": "stdout",
       "text": [
        "Current drawn is 2.5 A\n"
       ]
      }
     ],
     "prompt_number": 4
    },
    {
     "cell_type": "heading",
     "level": 2,
     "metadata": {},
     "source": [
      "Example 19.3 Page no 582"
     ]
    },
    {
     "cell_type": "code",
     "collapsed": false,
     "input": [
      "#Gien\n",
      "Ep=220.0                   #v\n",
      "Es=22 \n",
      "Z=220.0                    #ohm\n",
      "\n",
      "#Calculation\n",
      "Is=Es/Z\n",
      "Ip=(Es/Ep)*Is\n",
      "\n",
      "#Result\n",
      "print\"Current drawn is\",Ip,\"A\""
     ],
     "language": "python",
     "metadata": {},
     "outputs": [
      {
       "output_type": "stream",
       "stream": "stdout",
       "text": [
        "Current drawn is 0.01 A\n"
       ]
      }
     ],
     "prompt_number": 6
    },
    {
     "cell_type": "heading",
     "level": 2,
     "metadata": {},
     "source": [
      "Example 19.4 Page no 582"
     ]
    },
    {
     "cell_type": "code",
     "collapsed": false,
     "input": [
      "#Given\n",
      "Np=200.0\n",
      "Ns=1000\n",
      "Ep=200.0                   #v\n",
      "E=10**4                     #W\n",
      "\n",
      "#Calculation\n",
      "Es=(Ns/Np)*Ep\n",
      "Ip=E/Ep\n",
      "\n",
      "#Result\n",
      "print\"(a) Output voltage is\",Es,\"V\"\n",
      "print\"(b) Current is\",Ip,\"A\""
     ],
     "language": "python",
     "metadata": {},
     "outputs": [
      {
       "output_type": "stream",
       "stream": "stdout",
       "text": [
        "(a) Output voltage is 1000.0 V\n",
        "(b) Current is 50.0 A\n"
       ]
      }
     ],
     "prompt_number": 12
    },
    {
     "cell_type": "heading",
     "level": 2,
     "metadata": {},
     "source": [
      "Example 19.5 Page no 582"
     ]
    },
    {
     "cell_type": "code",
     "collapsed": false,
     "input": [
      "#Given\n",
      "ep=120\n",
      "Ip=1.85                   #A\n",
      "Is=150*10**-3\n",
      "n=0.95\n",
      "\n",
      "#Calculation\n",
      "es=n*ep*Ip/Is\n",
      "\n",
      "#result\n",
      "print\"Voltage across the secondary is\",es,\"V\""
     ],
     "language": "python",
     "metadata": {},
     "outputs": [
      {
       "output_type": "stream",
       "stream": "stdout",
       "text": [
        "Voltage across the secondary is 1406.0 V\n"
       ]
      }
     ],
     "prompt_number": 14
    },
    {
     "cell_type": "heading",
     "level": 2,
     "metadata": {},
     "source": [
      "Example 19.6 Page no 582"
     ]
    },
    {
     "cell_type": "code",
     "collapsed": false,
     "input": [
      "#Given\n",
      "K=100\n",
      "Np=100\n",
      "e=1100                          #watt\n",
      "ep=220.0\n",
      "\n",
      "#Calculation\n",
      "Ns=K*Np\n",
      "ip=e/ep\n",
      "es=K*ep\n",
      "Is=ip*ep/es\n",
      "\n",
      "#Result\n",
      "print\"(i) Number of turns is\",Ns\n",
      "print\"(ii) Current is\",ip,\"A\"\n",
      "print\"(iii) Voltage across the secondary is\",es,\"V\"\n",
      "print\"(iv) Current in the secondaryis\",Is,\"A\""
     ],
     "language": "python",
     "metadata": {},
     "outputs": [
      {
       "output_type": "stream",
       "stream": "stdout",
       "text": [
        "(i) Number of turns is 10000\n",
        "(ii) Current is 5.0 A\n",
        "(iii) Voltage across the secondary is 22000.0 V\n",
        "(iv) Current in the secondaryis 0.05 A\n"
       ]
      }
     ],
     "prompt_number": 23
    },
    {
     "cell_type": "heading",
     "level": 2,
     "metadata": {},
     "source": [
      "Example 19.7 Page no 583"
     ]
    },
    {
     "cell_type": "code",
     "collapsed": false,
     "input": [
      "#Given\n",
      "e=11000                     #W\n",
      "es=220.0                     #V\n",
      "es1=22000.0\n",
      "\n",
      "#Calculation\n",
      "Is=e/es\n",
      "V=Is**2\n",
      "Is1=e/es1\n",
      "P=Is1**2\n",
      "\n",
      "#Result\n",
      "print\"(i) Electrical energy dissipated when power is transmitted at es=220 V is\",V,\"R watt\"\n",
      "print\"(ii)Electrical energy dissipated when power is transmitted at es=22000 V is\",P,\"R watt\"\n",
      "print\"Transmission should be done at 22000 V\""
     ],
     "language": "python",
     "metadata": {},
     "outputs": [
      {
       "output_type": "stream",
       "stream": "stdout",
       "text": [
        "(i) Electrical energy dissipated when power is transmitted at es=220 V is 2500.0 R watt\n",
        "(ii)Electrical energy dissipated when power is transmitted at es=22000 V is 0.25 R watt\n",
        "Transmission should be done at 22000 V\n"
       ]
      }
     ],
     "prompt_number": 28
    },
    {
     "cell_type": "heading",
     "level": 2,
     "metadata": {},
     "source": [
      "Example 19.8 Page no 583"
     ]
    },
    {
     "cell_type": "code",
     "collapsed": false,
     "input": [
      "#Given\n",
      "B=0.1                   #T\n",
      "n=2000\n",
      "A=0.05                    #m**2\n",
      "w=2100                       #r.p.m.\n",
      "\n",
      "#calculation\n",
      "import math\n",
      "A1=2*math.pi*w/60.0\n",
      "e0=w*B*A*A1\n",
      "e=e0*math.sin(60*3.14/180.0)\n",
      "\n",
      "#Result\n",
      "print\"Maximum e.m.f is\", round(e0,0),\"V\"\n",
      "print\"Instantaneous e.m.f is\",round(e,0),\"V\""
     ],
     "language": "python",
     "metadata": {},
     "outputs": [
      {
       "output_type": "stream",
       "stream": "stdout",
       "text": [
        "Maximum e.m.f is 2309.0 V\n",
        "Instantaneous e.m.f is 1999.0 V\n"
       ]
      }
     ],
     "prompt_number": 50
    },
    {
     "cell_type": "heading",
     "level": 2,
     "metadata": {},
     "source": [
      "Example 19.9 Page no 583"
     ]
    },
    {
     "cell_type": "code",
     "collapsed": false,
     "input": [
      "#Given\n",
      "n=100\n",
      "A=3                   #m**2\n",
      "w=60                     #rad/s\n",
      "B=0.04\n",
      "R=500.0\n",
      "\n",
      "#Calculation\n",
      "e0=n*B*A*w\n",
      "I0=e0/R\n",
      "P=e0*I0\n",
      "\n",
      "#Result\n",
      "print\"(a) Maximum current is\",I0,\"A\"\n",
      "print\"(b) Maximum power is\",P,\"W\""
     ],
     "language": "python",
     "metadata": {},
     "outputs": [
      {
       "output_type": "stream",
       "stream": "stdout",
       "text": [
        "(a) Maximum current is 1.44 A\n",
        "(b) Maximum power is 1036.8 W\n"
       ]
      }
     ],
     "prompt_number": 56
    },
    {
     "cell_type": "heading",
     "level": 2,
     "metadata": {},
     "source": [
      "Example 19.10 Page no 583"
     ]
    },
    {
     "cell_type": "code",
     "collapsed": false,
     "input": [
      "#Given\n",
      "n=50\n",
      "A=2.5                #m**2\n",
      "w=60                       #rad/s\n",
      "B=0.30\n",
      "R=500.0\n",
      "\n",
      "#Calculation\n",
      "e0=n*B*A*w\n",
      "I0=e0/R\n",
      "\n",
      "#Result\n",
      "print\"(a) The maximum current is\",I0,\"A\"\n",
      "print\"(b) Current is zero when coil is vertical and flux is maximum.On the other hand current is maximum when coil is horizontal,flux is minimum\"\n",
      "print\"(c) Yes,there should be relative motion between the magnetic field and coil\""
     ],
     "language": "python",
     "metadata": {},
     "outputs": [
      {
       "output_type": "stream",
       "stream": "stdout",
       "text": [
        "(a) The maximum current is 4.5 A\n",
        "(b) Current is zero when coil is vertical and flux is maximum.On the other hand current is maximum when coil is horizontal,flux is minimum\n",
        "(c) Yes,there should be relative motion between the magnetic field and coil\n"
       ]
      }
     ],
     "prompt_number": 60
    },
    {
     "cell_type": "heading",
     "level": 2,
     "metadata": {},
     "source": [
      "Example 19.11 Page no 583"
     ]
    },
    {
     "cell_type": "code",
     "collapsed": false,
     "input": [
      "#Given\n",
      "E=220\n",
      "e=200.0\n",
      "P=5000\n",
      "\n",
      "#Calculation\n",
      "I=P/e\n",
      "R=(E-e)/I\n",
      "\n",
      "#Result\n",
      "print\"Armature current is\",I,\"A\"\n",
      "print\"Motor resistance is\",R,\"ohm\""
     ],
     "language": "python",
     "metadata": {},
     "outputs": [
      {
       "output_type": "stream",
       "stream": "stdout",
       "text": [
        "Armature current is 25.0 A\n",
        "Motor resistance is 0.8 ohm\n"
       ]
      }
     ],
     "prompt_number": 65
    },
    {
     "cell_type": "heading",
     "level": 2,
     "metadata": {},
     "source": [
      "Example 19.12 Page no 583"
     ]
    },
    {
     "cell_type": "code",
     "collapsed": false,
     "input": [
      "#Given\n",
      "R=8.5\n",
      "E=200\n",
      "I=5\n",
      "\n",
      "#Calculation\n",
      "e=E-(I*R)\n",
      "Pi=E*I\n",
      "Po=E*I-(I**2*R)\n",
      "n=Po/Pi\n",
      "\n",
      "#Result\n",
      "print\"Back e.m.f of the motor is\", e,\"V\"\n",
      "print\"Power input is\",Pi,\"W\"\n",
      "print\"Power output is\",Po,\"W\"\n",
      "print\"Efficiencyis\",n*10**2,\"%\""
     ],
     "language": "python",
     "metadata": {},
     "outputs": [
      {
       "output_type": "stream",
       "stream": "stdout",
       "text": [
        "Back e.m.f of the motor is 157.5 V\n",
        "Power input is 1000 W\n",
        "Power output is 787.5 W\n",
        "Efficiencyis 78.75 %\n"
       ]
      }
     ],
     "prompt_number": 78
    },
    {
     "cell_type": "heading",
     "level": 2,
     "metadata": {},
     "source": [
      "Example 19.13 Page no 584"
     ]
    },
    {
     "cell_type": "code",
     "collapsed": false,
     "input": [
      "#Given\n",
      "h=300\n",
      "g=9.8                              #m/s**2\n",
      "a=1000\n",
      "A=100.0\n",
      "n=60\n",
      "\n",
      "#Calculation\n",
      "m=A*a\n",
      "E=m*g*h\n",
      "P=E*n/A\n",
      "\n",
      "#Result\n",
      "print\"Electric power is\", P*10**-6,\"MW\""
     ],
     "language": "python",
     "metadata": {},
     "outputs": [
      {
       "output_type": "stream",
       "stream": "stdout",
       "text": [
        "Electric power is 176.4 MW\n"
       ]
      }
     ],
     "prompt_number": 84
    },
    {
     "cell_type": "heading",
     "level": 2,
     "metadata": {},
     "source": [
      "Example 19.14 Page no 584"
     ]
    },
    {
     "cell_type": "code",
     "collapsed": false,
     "input": [
      "#Given\n",
      "L=30              #km\n",
      "R=15                 #ohm\n",
      "V=4000.0                    #V\n",
      "P=8*10**5                  #W\n",
      "\n",
      "#Calculation\n",
      "Is=P/V\n",
      "P1=Is**2*R\n",
      "P2=P+P1\n",
      "V1=R*Is\n",
      "A=440-(V+V1)\n",
      "\n",
      "#Result\n",
      "print\"(a) Line power loss is\",P1*10**-3,\"KW\"\n",
      "print\"(b) Supplied power is\",P2*10**-3,\"KW\"\n",
      "print\"(c) Step up transformer at the plane is\",A"
     ],
     "language": "python",
     "metadata": {},
     "outputs": [
      {
       "output_type": "stream",
       "stream": "stdout",
       "text": [
        "(a) Line power loss is 600.0 KW\n",
        "(b) Supplied power is 1400.0 KW\n",
        "(c) Step up transformer at the plane is -6560.0\n"
       ]
      }
     ],
     "prompt_number": 94
    },
    {
     "cell_type": "heading",
     "level": 2,
     "metadata": {},
     "source": [
      "Example 19.15 Page no 584"
     ]
    },
    {
     "cell_type": "code",
     "collapsed": false,
     "input": [
      "#Given\n",
      "r=8*10**-2\n",
      "n=20\n",
      "w=50                         #rad/s\n",
      "B=3*10**-2                   #T\n",
      "A=64*math.pi*10**-4           #m**2\n",
      "Eav=0\n",
      "R=10                         #ohm\n",
      "\n",
      "#Calculation\n",
      "math.pi\n",
      "e0=n*B*A*w\n",
      "Pav=e0**2/(2*R)\n",
      "\n",
      "#Result\n",
      "print\" Maximum e.m.f. is\",round(e0,4),\"V\"\n",
      "print\" Average e.m.f. is zero\"\n",
      "print\" Dissipated power is\",round(Pav,4),\"W\""
     ],
     "language": "python",
     "metadata": {},
     "outputs": [
      {
       "output_type": "stream",
       "stream": "stdout",
       "text": [
        " Maximum e.m.f. is 0.6032 V\n",
        " Average e.m.f. is zero\n",
        " Dissipated power is 0.0182 W\n"
       ]
      }
     ],
     "prompt_number": 103
    }
   ],
   "metadata": {}
  }
 ]
}