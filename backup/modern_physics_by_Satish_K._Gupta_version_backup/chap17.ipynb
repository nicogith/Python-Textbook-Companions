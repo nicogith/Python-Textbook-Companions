{
 "metadata": {
  "name": "",
  "signature": "sha256:7c5cc6b58c18456d76e825a85df242d83f70c07f62b0e167355c9552ee60085c"
 },
 "nbformat": 3,
 "nbformat_minor": 0,
 "worksheets": [
  {
   "cells": [
    {
     "cell_type": "heading",
     "level": 1,
     "metadata": {},
     "source": [
      "Chapter 17 Transient Current"
     ]
    },
    {
     "cell_type": "heading",
     "level": 2,
     "metadata": {},
     "source": [
      "Example 17.1 Page no 534"
     ]
    },
    {
     "cell_type": "code",
     "collapsed": false,
     "input": [
      "#Given\n",
      "E=3                           #V\n",
      "L=2.5                        #H\n",
      "R=50.0                       #ohm\n",
      "\n",
      "#Calculation\n",
      "T=L/R\n",
      "L1=E/L\n",
      "I0=E/R\n",
      "\n",
      "#Result\n",
      "print\"(i) Time constant is\", T,\"S\"\n",
      "print\"(ii) Rate of change of current is\",L1,\"A/S\"\n",
      "print\"(iii) Maximum current is\",I0,\"A\""
     ],
     "language": "python",
     "metadata": {},
     "outputs": [
      {
       "output_type": "stream",
       "stream": "stdout",
       "text": [
        "(i) Time constant is 0.05 S\n",
        "(ii) Rate of change of current is 1.2 A/S\n",
        "(iii) Maximum current is 0.06 A\n"
       ]
      }
     ],
     "prompt_number": 7
    },
    {
     "cell_type": "heading",
     "level": 2,
     "metadata": {},
     "source": [
      "Example 17.2 Page no 534"
     ]
    },
    {
     "cell_type": "code",
     "collapsed": false,
     "input": [
      "#Given\n",
      "E=1                                  #V\n",
      "R=1                                  #ohm\n",
      "L=1                                  #H\n",
      "t=1                                  #S\n",
      "a=2.3036\n",
      "\n",
      "#Calculation\n",
      "import math\n",
      "I=1-math.exp(-E/L)\n",
      "t=a*math.log10(2)\n",
      "\n",
      "#Result\n",
      "print\"(i) Current after 1 S is\", round(I,3),\"A\"\n",
      "print\"(ii) Time to take the current to reach half its final value is\",round(t,3),\"S\""
     ],
     "language": "python",
     "metadata": {},
     "outputs": [
      {
       "output_type": "stream",
       "stream": "stdout",
       "text": [
        "(i) Current after 1 S is 0.632 A\n",
        "(ii) Time to take the current to reach half its final value is 0.693 S\n"
       ]
      }
     ],
     "prompt_number": 15
    },
    {
     "cell_type": "heading",
     "level": 2,
     "metadata": {},
     "source": [
      "Example 17.3 Page no 534"
     ]
    },
    {
     "cell_type": "code",
     "collapsed": false,
     "input": [
      "#Given\n",
      "I0=2                         #A\n",
      "L=0.1                          #H\n",
      "R=20                           #ohm\n",
      "I=0.3      \n",
      "a=3.333\n",
      "b=200.0\n",
      "\n",
      "#Calculation\n",
      "import math\n",
      "t=2.3026*math.log10(a)/b\n",
      "l=R*I*I0/L\n",
      "\n",
      "#Result\n",
      "print\"Rate of change of current is\", l,\"A/s\""
     ],
     "language": "python",
     "metadata": {},
     "outputs": [
      {
       "output_type": "stream",
       "stream": "stdout",
       "text": [
        "Rate of change of current is 120.0 A/s\n"
       ]
      }
     ],
     "prompt_number": 19
    },
    {
     "cell_type": "heading",
     "level": 2,
     "metadata": {},
     "source": [
      "Example 17.4 Page no 535"
     ]
    },
    {
     "cell_type": "code",
     "collapsed": false,
     "input": [
      "#Given\n",
      "R=2*10**6                          #ohm\n",
      "C=10**-6                           #farad\n",
      "q=0.8647\n",
      "a=0.1353\n",
      "\n",
      "#Calculation\n",
      "import math\n",
      "t=-2*2.3026*math.log10(a)\n",
      "\n",
      "#Result\n",
      "print\"Time is\", round(t,0),\"S\""
     ],
     "language": "python",
     "metadata": {},
     "outputs": [
      {
       "output_type": "stream",
       "stream": "stdout",
       "text": [
        "Time is 4.0 S\n"
       ]
      }
     ],
     "prompt_number": 29
    },
    {
     "cell_type": "heading",
     "level": 2,
     "metadata": {},
     "source": [
      "Example 17.5 Page no 535"
     ]
    },
    {
     "cell_type": "code",
     "collapsed": false,
     "input": [
      "#Given\n",
      "C=1.443*10**-6                    #F\n",
      "t=60                             #S\n",
      "\n",
      "#Calculation\n",
      "import math\n",
      "a=2.303*math.log10(2)\n",
      "R=t/(C*a)\n",
      "\n",
      "#Result\n",
      "print\"Value of resistance is\", round(R*10**-6,0),\"*10**6 ohm\""
     ],
     "language": "python",
     "metadata": {},
     "outputs": [
      {
       "output_type": "stream",
       "stream": "stdout",
       "text": [
        "Value of resistance is 60.0 *10**6 ohm\n"
       ]
      }
     ],
     "prompt_number": 36
    },
    {
     "cell_type": "heading",
     "level": 2,
     "metadata": {},
     "source": [
      "Example 17.6 Page no 535"
     ]
    },
    {
     "cell_type": "code",
     "collapsed": false,
     "input": [
      "#Given\n",
      "L=200*10**-6                       #H\n",
      "f1=8*10**5\n",
      "f2=12*10**-5                         #Hz\n",
      "\n",
      "#Calculation\n",
      "import math\n",
      "C1=1/(4*math.pi**2*f1**2*L)\n",
      "C=1/(4*math.pi**2*f2**2*L)\n",
      "\n",
      "#Result\n",
      "print\"Range of capacitor C is\",round(C*10**-8,0),\"pF\"\n",
      "print\"Range of capacitor C1 is\",round(C1*10**12,0),\"pF\""
     ],
     "language": "python",
     "metadata": {},
     "outputs": [
      {
       "output_type": "stream",
       "stream": "stdout",
       "text": [
        "Range of capacitor C is 88.0 pF\n",
        "Range of capacitor C1 is 198.0 pF\n"
       ]
      }
     ],
     "prompt_number": 52
    }
   ],
   "metadata": {}
  }
 ]
}