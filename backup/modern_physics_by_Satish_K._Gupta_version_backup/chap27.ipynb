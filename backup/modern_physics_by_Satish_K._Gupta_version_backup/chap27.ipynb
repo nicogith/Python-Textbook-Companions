{
 "metadata": {
  "name": "",
  "signature": "sha256:c77b859962fb938dcd11a74749cd47ac07047d0f8605a1cc5e5320189808ac31"
 },
 "nbformat": 3,
 "nbformat_minor": 0,
 "worksheets": [
  {
   "cells": [
    {
     "cell_type": "heading",
     "level": 1,
     "metadata": {},
     "source": [
      "Chapter 27 Polarisation of light "
     ]
    },
    {
     "cell_type": "heading",
     "level": 2,
     "metadata": {},
     "source": [
      "Example 27.1 Page no 758"
     ]
    },
    {
     "cell_type": "code",
     "collapsed": false,
     "input": [
      "#Given\n",
      "u=1.536\n",
      "\n",
      "#Calculation\n",
      "import math\n",
      "p=math.atan(u)*180/3.14\n",
      "r=90-p\n",
      "\n",
      "#Result\n",
      "print\"Angle of refraction is\", round(r,1),\"degree\""
     ],
     "language": "python",
     "metadata": {},
     "outputs": [
      {
       "output_type": "stream",
       "stream": "stdout",
       "text": [
        "Angle of refraction is 33.0 degree\n"
       ]
      }
     ],
     "prompt_number": 5
    },
    {
     "cell_type": "heading",
     "level": 2,
     "metadata": {},
     "source": [
      "Example 27.2 Page no 758"
     ]
    },
    {
     "cell_type": "code",
     "collapsed": false,
     "input": [
      "#Given\n",
      "p=60                 #degree\n",
      "\n",
      "#Calculation\n",
      "import math\n",
      "u=math.tan(p*3.14/180.0)\n",
      "C=1/u\n",
      "C1=math.asin(C)*180/3.14\n",
      "\n",
      "#Result\n",
      "print\"Critical angle is\", round(C1,1),\"Degree\""
     ],
     "language": "python",
     "metadata": {},
     "outputs": [
      {
       "output_type": "stream",
       "stream": "stdout",
       "text": [
        "Critical angle is 35.3 Degree\n"
       ]
      }
     ],
     "prompt_number": 24
    },
    {
     "cell_type": "heading",
     "level": 2,
     "metadata": {},
     "source": [
      "Example 27.3 Page no 758"
     ]
    },
    {
     "cell_type": "code",
     "collapsed": false,
     "input": [
      "#Given\n",
      "a=60                     #degree\n",
      "b=100\n",
      "\n",
      "#Calculation\n",
      "import math\n",
      "a1=90-a\n",
      "A=a/2.0\n",
      "I=(math.cos(A*3.14/180.0)**2)/2.0\n",
      "I0=b*I\n",
      "\n",
      "#result\n",
      "print\"Unpolarised light is\", round(I0,1),\"%\""
     ],
     "language": "python",
     "metadata": {},
     "outputs": [
      {
       "output_type": "stream",
       "stream": "stdout",
       "text": [
        "Unpolarised light is 37.5 %\n"
       ]
      }
     ],
     "prompt_number": 30
    }
   ],
   "metadata": {}
  }
 ]
}