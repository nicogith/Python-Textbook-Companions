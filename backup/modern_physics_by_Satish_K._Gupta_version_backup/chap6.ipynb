{
 "metadata": {
  "name": "",
  "signature": "sha256:9ba957b16289f27dba06e59c72667002157ed6d6f12727710ff725257f8649eb"
 },
 "nbformat": 3,
 "nbformat_minor": 0,
 "worksheets": [
  {
   "cells": [
    {
     "cell_type": "heading",
     "level": 1,
     "metadata": {},
     "source": [
      "Chapter 6 Current electricity"
     ]
    },
    {
     "cell_type": "heading",
     "level": 2,
     "metadata": {},
     "source": [
      "Example 6.1 Page no 191"
     ]
    },
    {
     "cell_type": "code",
     "collapsed": false,
     "input": [
      "#Given\n",
      "I=300*10**-3\n",
      "e=1.6*10**-19                         #C\n",
      "t=60                                  #S\n",
      "\n",
      "#Calculation\n",
      "q=I*t\n",
      "n=q/e\n",
      "\n",
      "#Result\n",
      "print\"Number of electron passed is\", n"
     ],
     "language": "python",
     "metadata": {},
     "outputs": [
      {
       "output_type": "stream",
       "stream": "stdout",
       "text": [
        "Number of electron passed is 1.125e+20\n"
       ]
      }
     ],
     "prompt_number": 3
    },
    {
     "cell_type": "heading",
     "level": 2,
     "metadata": {},
     "source": [
      "Example 6.2 Page no 191"
     ]
    },
    {
     "cell_type": "code",
     "collapsed": false,
     "input": [
      "#Given\n",
      "e=1.6*10**-19                          #C\n",
      "v=6.8*10**15                            #revolution/s\n",
      "r=0.51*10**-10                            #m\n",
      "\n",
      "#Calculation\n",
      "I=e*v\n",
      "\n",
      "#Result\n",
      "print\"Equivalent current is\", I*10**3,\"*10**-3 A\""
     ],
     "language": "python",
     "metadata": {},
     "outputs": [
      {
       "output_type": "stream",
       "stream": "stdout",
       "text": [
        "Equivalent current is 1.088 *10**-3 A\n"
       ]
      }
     ],
     "prompt_number": 7
    },
    {
     "cell_type": "heading",
     "level": 2,
     "metadata": {},
     "source": [
      "Example 6.3 Page no 191 "
     ]
    },
    {
     "cell_type": "code",
     "collapsed": false,
     "input": [
      "#Given\n",
      "I=10                 #A\n",
      "n=9*10**28           #/m**3\n",
      "A=10.0**-4              #m**2\n",
      "e=1.6*10**-19\n",
      "\n",
      "#Calculation\n",
      "Vd=I/(n*e*A)\n",
      "\n",
      "#Result\n",
      "print\"Drift velocity is\", round(Vd*10**6,2)*10**-6,\"m/s\""
     ],
     "language": "python",
     "metadata": {},
     "outputs": [
      {
       "output_type": "stream",
       "stream": "stdout",
       "text": [
        "Drift velocity is 6.94e-06 m/s\n"
       ]
      }
     ],
     "prompt_number": 13
    },
    {
     "cell_type": "heading",
     "level": 2,
     "metadata": {},
     "source": [
      "Example 6.4 Page no 191"
     ]
    },
    {
     "cell_type": "code",
     "collapsed": false,
     "input": [
      "#Given\n",
      "n=8.5*10**28                          #/m**3\n",
      "I=3                                   #A\n",
      "A=2.0*10**-6                          #m**2\n",
      "l=3                                   #m\n",
      "e=1.6*10**-19\n",
      "\n",
      "#Calculation\n",
      "Vd=I/(n*e*A)\n",
      "t=I/Vd\n",
      "\n",
      "#Result\n",
      "print\"Drift velocity of the electron is\", round(Vd*10**4,3),\"*10**-4 m/s\""
     ],
     "language": "python",
     "metadata": {},
     "outputs": [
      {
       "output_type": "stream",
       "stream": "stdout",
       "text": [
        "Drift velocity of the electron is 1.103 *10**-4 m/s\n"
       ]
      }
     ],
     "prompt_number": 22
    },
    {
     "cell_type": "heading",
     "level": 2,
     "metadata": {},
     "source": [
      "Example 6.5 Page no 191"
     ]
    },
    {
     "cell_type": "code",
     "collapsed": false,
     "input": [
      "#Given\n",
      "A=10**-7                    #m**2\n",
      "I=1                         #A\n",
      "K=6.023*10**23\n",
      "w=63.5\n",
      "d=9*10**3                      #Kg/m**3\n",
      "\n",
      "#Calculation\n",
      "a=(K/w)*1000\n",
      "n=a*d\n",
      "Vd=I/(n*e*A)\n",
      "\n",
      "#Result\n",
      "print\"Average drift velocity is\", round(Vd*10**4,2),\"*10**-4 m/s\""
     ],
     "language": "python",
     "metadata": {},
     "outputs": [
      {
       "output_type": "stream",
       "stream": "stdout",
       "text": [
        "Average drift velocity is 7.32 *10**-4 m/s\n"
       ]
      }
     ],
     "prompt_number": 30
    },
    {
     "cell_type": "heading",
     "level": 2,
     "metadata": {},
     "source": [
      "Example 6.6 Page no 191"
     ]
    },
    {
     "cell_type": "code",
     "collapsed": false,
     "input": [
      "#Given\n",
      "V=5                     #Volt\n",
      "l=0.1                     #m\n",
      "vd=2.5*10**-4               #m/s\n",
      "\n",
      "#Calculation\n",
      "E=V/l\n",
      "u=vd/E\n",
      "\n",
      "#Result\n",
      "print\"Electron mobility is\", u,\"m**2/V/s\""
     ],
     "language": "python",
     "metadata": {},
     "outputs": [
      {
       "output_type": "stream",
       "stream": "stdout",
       "text": [
        "Electron mobility is 5e-06 m**2/V/s\n"
       ]
      }
     ],
     "prompt_number": 34
    },
    {
     "cell_type": "heading",
     "level": 2,
     "metadata": {},
     "source": [
      "Example 6.7 Page no 191"
     ]
    },
    {
     "cell_type": "code",
     "collapsed": false,
     "input": [
      "#Given\n",
      "V=3                    #Volt\n",
      "l=0.2                  #m\n",
      "A=10**-6                #m**2\n",
      "n=8.5*10**28              #/m**3\n",
      "u=4.5*10**-6                #m**2/V/s\n",
      "e=1.6*10**-19\n",
      "\n",
      "#Calculation\n",
      "E=V/l\n",
      "I=n*A*u*E*e\n",
      "\n",
      "#Result\n",
      "print\"Current through the wire is\",round(I,2),\"A\""
     ],
     "language": "python",
     "metadata": {},
     "outputs": [
      {
       "output_type": "stream",
       "stream": "stdout",
       "text": [
        "Current through the wire is 0.92 A\n"
       ]
      }
     ],
     "prompt_number": 37
    },
    {
     "cell_type": "heading",
     "level": 2,
     "metadata": {},
     "source": [
      "Example 6.8 Page no 191"
     ]
    },
    {
     "cell_type": "code",
     "collapsed": false,
     "input": [
      "#Given\n",
      "I=1.8                #A\n",
      "A=0.5*10**-6              #m**2\n",
      "n=8.8*10**28\n",
      "e=1.6*10**-19\n",
      "\n",
      "#Calculation\n",
      "j=I/A\n",
      "vd=j/(n*e)\n",
      "\n",
      "#Result\n",
      "print\"Drift velocity is\", round(vd*10**4,2),\"*10**-4 m/s\""
     ],
     "language": "python",
     "metadata": {},
     "outputs": [
      {
       "output_type": "stream",
       "stream": "stdout",
       "text": [
        "Drift velocity is 2.56 *10**-4 m/s\n"
       ]
      }
     ],
     "prompt_number": 45
    },
    {
     "cell_type": "heading",
     "level": 2,
     "metadata": {},
     "source": [
      "Example 6.9 Page no 192"
     ]
    },
    {
     "cell_type": "code",
     "collapsed": false,
     "input": [
      "#Given\n",
      "V=1.5                              #V\n",
      "n=8.4*10**28                       #/m**3\n",
      "l=0.2                                #m\n",
      "A=0.3*10**-6                        #m**2\n",
      "I=2.4                               #A\n",
      "m=9.1*10**-31                       #Kg\n",
      "e=1.6*10**-19\n",
      "\n",
      "#Calculation\n",
      "E=V/l\n",
      "j=I/A\n",
      "t=m*j/(n*e**2*E)\n",
      "\n",
      "#Result\n",
      "print\"Average relaxation time is \", round(t*10**16,2)*10**-16,\"s\""
     ],
     "language": "python",
     "metadata": {},
     "outputs": [
      {
       "output_type": "stream",
       "stream": "stdout",
       "text": [
        "Average relaxation time is  4.51e-16 s\n"
       ]
      }
     ],
     "prompt_number": 53
    },
    {
     "cell_type": "heading",
     "level": 2,
     "metadata": {},
     "source": [
      "Example 6.10 Page no 192"
     ]
    },
    {
     "cell_type": "code",
     "collapsed": false,
     "input": [
      "#Given\n",
      "V=200                 #V\n",
      "R=100.0                  #ohm\n",
      "t=1\n",
      "\n",
      "#Calculation\n",
      "I=V/R\n",
      "q=I*t\n",
      "n=q/e\n",
      "\n",
      "#Result\n",
      "print\"Number of electrons is\", n"
     ],
     "language": "python",
     "metadata": {},
     "outputs": [
      {
       "output_type": "stream",
       "stream": "stdout",
       "text": [
        "Number of electrons is 1.25e+19\n"
       ]
      }
     ],
     "prompt_number": 55
    },
    {
     "cell_type": "heading",
     "level": 2,
     "metadata": {},
     "source": [
      "Example 6.11 Page no 192"
     ]
    },
    {
     "cell_type": "code",
     "collapsed": false,
     "input": [
      "#Given\n",
      "R=2                         #ohm\n",
      "l=1                         #m\n",
      "d=4*10**-4                     #m\n",
      "\n",
      "#Calculation\n",
      "import math\n",
      "A=(math.pi*d**2)/4.0\n",
      "a=(R*A)/l\n",
      "\n",
      "#Result\n",
      "print\"Resistivity of the material is\", round(a*10**7,3)*10**-7,\"ohm m\""
     ],
     "language": "python",
     "metadata": {},
     "outputs": [
      {
       "output_type": "stream",
       "stream": "stdout",
       "text": [
        "Resistivity of the material is 2.513e-07 ohm m\n"
       ]
      }
     ],
     "prompt_number": 62
    },
    {
     "cell_type": "heading",
     "level": 2,
     "metadata": {},
     "source": [
      "Example 6.12 Page no 192"
     ]
    },
    {
     "cell_type": "code",
     "collapsed": false,
     "input": [
      "#Given\n",
      "m=0.45                #Kg\n",
      "R=0.14                #ohm\n",
      "a=1.78*10**-8              #ohm m\n",
      "l=1.99\n",
      "d=8.93*10**3\n",
      "\n",
      "#Calculation\n",
      "import math\n",
      "l=(math.sqrt(R*m/(a*d)))/10.0\n",
      "r=math.sqrt(m/(math.pi*l*d))\n",
      "\n",
      "#Result\n",
      "print\"Radius is\", round(r*10**3,2),\"mm\"\n",
      "print\"Length is\", round(l,2),\"m\""
     ],
     "language": "python",
     "metadata": {},
     "outputs": [
      {
       "output_type": "stream",
       "stream": "stdout",
       "text": [
        "Radius is 2.84 mm\n",
        "Length is 1.99 m\n"
       ]
      }
     ],
     "prompt_number": 76
    },
    {
     "cell_type": "heading",
     "level": 2,
     "metadata": {},
     "source": [
      "Example 6.13 Page no 192"
     ]
    },
    {
     "cell_type": "code",
     "collapsed": false,
     "input": [
      "#Given\n",
      "R=5\n",
      "\n",
      "#Calculation\n",
      "R1=4*R\n",
      "\n",
      "#Result\n",
      "print\"New resistance is\",R1,\"ohm\""
     ],
     "language": "python",
     "metadata": {},
     "outputs": [
      {
       "output_type": "stream",
       "stream": "stdout",
       "text": [
        "New resistance is 20 ohm\n"
       ]
      }
     ],
     "prompt_number": 78
    },
    {
     "cell_type": "heading",
     "level": 2,
     "metadata": {},
     "source": [
      "Example 6.14 Page no 192"
     ]
    },
    {
     "cell_type": "code",
     "collapsed": false,
     "input": [
      "#Given\n",
      "l=3\n",
      "A=0.02*10**-6                      #m**2\n",
      "R=2                                 #ohm\n",
      "\n",
      "#Calculation\n",
      "a=l/(R*A)\n",
      "\n",
      "#Result\n",
      "print\"Electrical conductivity is\", a*10**-7,\"*10**7 S/m\""
     ],
     "language": "python",
     "metadata": {},
     "outputs": [
      {
       "output_type": "stream",
       "stream": "stdout",
       "text": [
        "Electrical conductivity is 7.5 *10**7 S/m\n"
       ]
      }
     ],
     "prompt_number": 82
    },
    {
     "cell_type": "heading",
     "level": 2,
     "metadata": {},
     "source": [
      "Example 6.15 Page no 193"
     ]
    },
    {
     "cell_type": "code",
     "collapsed": false,
     "input": [
      "#Given\n",
      "V=1.8                     #V\n",
      "I=1.2                       #A\n",
      "l=3                          #m\n",
      "A=5.4*10**-6                       #m**2\n",
      "\n",
      "#Calculation\n",
      "R=V/I\n",
      "G=1/R\n",
      "a=l/(R*A)\n",
      "\n",
      "#Result\n",
      "print\"Conductance is\",round(G,2),\"S\"\n",
      "print\"Conductivity is\", round(a*10**-5,1),\"*10**5 S/m\""
     ],
     "language": "python",
     "metadata": {},
     "outputs": [
      {
       "output_type": "stream",
       "stream": "stdout",
       "text": [
        "Conductance is 0.67 S\n",
        "Conductivity is 3.7 *10**5 S/m\n"
       ]
      }
     ],
     "prompt_number": 92
    },
    {
     "cell_type": "heading",
     "level": 2,
     "metadata": {},
     "source": [
      "Example 6.16 Page no 193"
     ]
    },
    {
     "cell_type": "code",
     "collapsed": false,
     "input": [
      "#Given\n",
      "R1=2.1                  #ohm\n",
      "a1=300.0                   #K\n",
      "a2=373.0\n",
      "R2=2.7                    #ohm\n",
      "\n",
      "#Calculation\n",
      "A=(R2-R1)/(R1*(a2-a1))\n",
      "\n",
      "#Result\n",
      "print\"Temperature coefficient is\", round(A*10**3,3),\"*10**-3 /K\""
     ],
     "language": "python",
     "metadata": {},
     "outputs": [
      {
       "output_type": "stream",
       "stream": "stdout",
       "text": [
        "Temperature coefficient is 3.914 *10**-3 /K\n"
       ]
      }
     ],
     "prompt_number": 99
    },
    {
     "cell_type": "heading",
     "level": 2,
     "metadata": {},
     "source": [
      "Example 6.17 Page no 193"
     ]
    },
    {
     "cell_type": "code",
     "collapsed": false,
     "input": [
      "#Given\n",
      "a1=50                           #degree\n",
      "R1=6.0                           #ohm\n",
      "a2=100                          #degree\n",
      "R=7                             #ohm\n",
      "\n",
      "#Calculation\n",
      "a=(R-R1)/(R1*(a2-a1))\n",
      "R0=R1/(1+(a*a1))\n",
      "\n",
      "#Result\n",
      "print\"Mean temperature coefficient is\", round(a,4),\"degree/C\"\n",
      "print\"Resistance of the conductor is\",round(R0,3),\"W\""
     ],
     "language": "python",
     "metadata": {},
     "outputs": [
      {
       "output_type": "stream",
       "stream": "stdout",
       "text": [
        "Mean temperature coefficient is 0.0033 degree/C\n",
        "Resistance of the conductor is 5.143 W\n"
       ]
      }
     ],
     "prompt_number": 110
    },
    {
     "cell_type": "heading",
     "level": 2,
     "metadata": {},
     "source": [
      "Example 6.18 Page no 193"
     ]
    },
    {
     "cell_type": "code",
     "collapsed": false,
     "input": [
      "#Given\n",
      "V=230                       #v\n",
      "a=27                        #degree C\n",
      "I1=3.2                       #A\n",
      "I2=2.8                        #A\n",
      "a1=1.70*10**-4                   #degree/C\n",
      "\n",
      "#Calculation\n",
      "R1=V/I1\n",
      "R2=V/I2\n",
      "a2=a+((R2-R1)/(R1*a1))\n",
      "\n",
      "#Result\n",
      "print\"Steady temperature is\", round(a2,2),\"degree C\""
     ],
     "language": "python",
     "metadata": {},
     "outputs": [
      {
       "output_type": "stream",
       "stream": "stdout",
       "text": [
        "Steady temperature is 867.34 degree C\n"
       ]
      }
     ],
     "prompt_number": 117
    },
    {
     "cell_type": "heading",
     "level": 2,
     "metadata": {},
     "source": [
      "Example 6.21 Page no 193"
     ]
    },
    {
     "cell_type": "code",
     "collapsed": false,
     "input": [
      "#Given\n",
      "R1=1                         #ohm\n",
      "R2=2        \n",
      "R3=3\n",
      "E=12                          #V\n",
      "\n",
      "#Calculation\n",
      "Rs=R1+R2+R3\n",
      "I=E/Rs\n",
      "R11=I*R1\n",
      "R12=I*R2\n",
      "R13=I*R3\n",
      "\n",
      "#Result\n",
      "print\"(a) Total resistance of the combination is\",Rs,\"ohm\"\n",
      "print\"(b) Potential drop across R1 is\",R11,\"V\"\n",
      "print\" Potential drop across R2 is\",R12,\"V\"\n",
      "print\" Potential drop across R3 is\",R13,\"V\""
     ],
     "language": "python",
     "metadata": {},
     "outputs": [
      {
       "output_type": "stream",
       "stream": "stdout",
       "text": [
        "(a) Total resistance of the combination is 6 ohm\n",
        "(b) Potential drop across R1 is 2 V\n",
        " Potential drop across R2 is 4 V\n",
        " Potential drop across R3 is 6 V\n"
       ]
      }
     ],
     "prompt_number": 125
    },
    {
     "cell_type": "heading",
     "level": 2,
     "metadata": {},
     "source": [
      "Example 6.22 Page no 193"
     ]
    },
    {
     "cell_type": "code",
     "collapsed": false,
     "input": [
      "#Given\n",
      "R1=2.0                  #ohm\n",
      "R2=4.0                  #ohm\n",
      "R3=5.0 \n",
      "E=20                         #V\n",
      "\n",
      "#calculation\n",
      "Rp=1/(1/R1+1/R2+1/R3)\n",
      "I=E/Rp\n",
      "I1=E/R1\n",
      "I2=E/R2\n",
      "I3=E/R3\n",
      "\n",
      "print\"(a) Toatl resisatnce is\", round(Rp,2),\"ohm\"\n",
      "print\"(b) Current through R1 is\",I1,\"A\"\n",
      "print\"Current through R2 is\",I2,\"A\"\n",
      "print\"Current through R3 is\",I3,\"A\""
     ],
     "language": "python",
     "metadata": {},
     "outputs": [
      {
       "output_type": "stream",
       "stream": "stdout",
       "text": [
        "(a) Toatl resisatnce is 1.05 ohm\n",
        "(b) Current through R1 is 10.0 A\n",
        "Current through R2 is 5.0 A\n",
        "Current through R3 is 4.0 A\n"
       ]
      }
     ],
     "prompt_number": 134
    },
    {
     "cell_type": "heading",
     "level": 2,
     "metadata": {},
     "source": [
      "Example 6.24 Page no 194"
     ]
    },
    {
     "cell_type": "code",
     "collapsed": false,
     "input": [
      "#Given\n",
      "R=6\n",
      "R1=2.0\n",
      "\n",
      "#calculation\n",
      "n=R/R1\n",
      "\n",
      "#Result\n",
      "print\"Number of resistance is\",n"
     ],
     "language": "python",
     "metadata": {},
     "outputs": [
      {
       "output_type": "stream",
       "stream": "stdout",
       "text": [
        "Number of resistance is 3.0\n"
       ]
      }
     ],
     "prompt_number": 135
    },
    {
     "cell_type": "heading",
     "level": 2,
     "metadata": {},
     "source": [
      "Example 6.25 Page no 194"
     ]
    },
    {
     "cell_type": "code",
     "collapsed": false,
     "input": [
      "#Given\n",
      "R1=9.0                 #ohm\n",
      "R2=5.0\n",
      "R3=3.0\n",
      "R4=7.0\n",
      "\n",
      "#Calculation\n",
      "R11=R1+R2\n",
      "R22=R3+R4\n",
      "R=1/(1/R11+1/R22+1/R22)\n",
      "\n",
      "#Result\n",
      "print\"Equivalent resistance is\",round(R,2),\"ohm\""
     ],
     "language": "python",
     "metadata": {},
     "outputs": [
      {
       "output_type": "stream",
       "stream": "stdout",
       "text": [
        "Equivalent resistance is 3.68 ohm\n"
       ]
      }
     ],
     "prompt_number": 141
    },
    {
     "cell_type": "heading",
     "level": 2,
     "metadata": {},
     "source": [
      "Example 6.26 Page no 194"
     ]
    },
    {
     "cell_type": "code",
     "collapsed": false,
     "input": [
      "#Given\n",
      "R1=3                      #ohm\n",
      "R2=3\n",
      "\n",
      "#Calculation\n",
      "R11=R1+R2\n",
      "R22=(R11*R11)/(R11+R11)\n",
      "R=R11*R1/(R11+R1)\n",
      "\n",
      "#Result\n",
      "print\"Effective resistance is\", R,\"ohm\""
     ],
     "language": "python",
     "metadata": {},
     "outputs": [
      {
       "output_type": "stream",
       "stream": "stdout",
       "text": [
        "Effective resistance is 2 ohm\n"
       ]
      }
     ],
     "prompt_number": 148
    },
    {
     "cell_type": "heading",
     "level": 2,
     "metadata": {},
     "source": [
      "Example 6.27 Page no 195"
     ]
    },
    {
     "cell_type": "code",
     "collapsed": false,
     "input": [
      "#Given\n",
      "R1=30.0                  #ohm\n",
      "R2=30.0\n",
      "E=2                    #V\n",
      "\n",
      "#Calculation\n",
      "R11=R1+R2\n",
      "R=R11*R1/(R11+R1)\n",
      "I=E/R\n",
      "\n",
      "#Result\n",
      "print\"Current through the cell is\",I,\"A\""
     ],
     "language": "python",
     "metadata": {},
     "outputs": [
      {
       "output_type": "stream",
       "stream": "stdout",
       "text": [
        "Current through the cell is 0.1 A\n"
       ]
      }
     ],
     "prompt_number": 151
    },
    {
     "cell_type": "heading",
     "level": 2,
     "metadata": {},
     "source": [
      "Example 6.28 Page no 195"
     ]
    },
    {
     "cell_type": "code",
     "collapsed": false,
     "input": [
      "#Given\n",
      "Rl=500.0                          #ohm\n",
      "E=50                            #V\n",
      "Rac=2000.0                       #ohm\n",
      "Rab=500.0 \n",
      "\n",
      "#Calculation\n",
      "Rbc=Rac-Rab\n",
      "R11=1/(1/Rbc+1/Rl)\n",
      "I=E/(Rab+R11)\n",
      "V=E-(I*Rab)\n",
      "I1=E/Rac\n",
      "Rbc1=40/I1\n",
      "\n",
      "#Result\n",
      "print\"(a) Potential difference across the load is\", round(V,2),\"V\"\n",
      "print\"(b) Resistance is\",Rbc1,\"ohm\""
     ],
     "language": "python",
     "metadata": {},
     "outputs": [
      {
       "output_type": "stream",
       "stream": "stdout",
       "text": [
        "(a) Potential difference across the load is 21.43 V\n",
        "(b) Resistance is 1600.0 ohm\n"
       ]
      }
     ],
     "prompt_number": 165
    },
    {
     "cell_type": "heading",
     "level": 2,
     "metadata": {},
     "source": [
      "Example 6.29 Page no 195"
     ]
    },
    {
     "cell_type": "code",
     "collapsed": false,
     "input": [
      "#Given\n",
      "R1=3                         #ohm\n",
      "E=9                         #V\n",
      "\n",
      "#Calcuation\n",
      "R=R1+R1+R1\n",
      "I=E/R\n",
      "I1=I/4.0\n",
      "\n",
      "#Result\n",
      "print\"Total resistance is\",R,\"ohm\"\n",
      "print\"Current is\",I1,\"A\""
     ],
     "language": "python",
     "metadata": {},
     "outputs": [
      {
       "output_type": "stream",
       "stream": "stdout",
       "text": [
        "Total resistance is 9 ohm\n",
        "Current is 0.25 A\n"
       ]
      }
     ],
     "prompt_number": 169
    },
    {
     "cell_type": "heading",
     "level": 2,
     "metadata": {},
     "source": [
      "Example 6.30 Page no 196"
     ]
    },
    {
     "cell_type": "code",
     "collapsed": false,
     "input": [
      "#Given\n",
      "R1=1                            #ohm\n",
      "R2=1 \n",
      "r=2/3.0                              #ohm\n",
      "E=1                                   #V\n",
      "\n",
      "#Calculation\n",
      "R11=R1*R2/(R1+R2)\n",
      "R=1/(1/R1+1/R2+1/R1)\n",
      "I=E/(R+r)\n",
      "\n",
      "#Result\n",
      "print\"Current drawn from the cell is\", I,\"A\""
     ],
     "language": "python",
     "metadata": {},
     "outputs": [
      {
       "output_type": "stream",
       "stream": "stdout",
       "text": [
        "Current drawn from the cell is 1.5 A\n"
       ]
      }
     ],
     "prompt_number": 174
    },
    {
     "cell_type": "heading",
     "level": 2,
     "metadata": {},
     "source": [
      "Example 6.31 Page no 196"
     ]
    },
    {
     "cell_type": "code",
     "collapsed": false,
     "input": [
      "#Given\n",
      "R=10.0                         #ohm\n",
      "r=3.33\n",
      "E=15\n",
      "\n",
      "#Calculation\n",
      "Rp=1/(1/R+(1/(R+R)))\n",
      "R1=R+Rp+R\n",
      "I=E/(R1+r)\n",
      "V=I*Rp\n",
      "I1=V/(R+R)\n",
      "I2=V/R\n",
      "\n",
      "#Result\n",
      "print\"Current flow through the main circuit is\", round(I,1),\"A\"\n",
      "print\"Current through QRS is\",round(I1,3),\"A\"\n",
      "print\"Current through QS is\",round(I2,3),\"A\""
     ],
     "language": "python",
     "metadata": {},
     "outputs": [
      {
       "output_type": "stream",
       "stream": "stdout",
       "text": [
        "Current flow through the main circuit is 0.5 A\n",
        "Current through QRS is 0.167 A\n",
        "Current through QS is 0.333 A\n"
       ]
      }
     ],
     "prompt_number": 199
    },
    {
     "cell_type": "heading",
     "level": 2,
     "metadata": {},
     "source": [
      "Example 6.32 Page no 196"
     ]
    },
    {
     "cell_type": "code",
     "collapsed": false,
     "input": [
      "#Given\n",
      "R1=2                          #ohm\n",
      "R2=3 \n",
      "R3=2.8\n",
      "E=6                          #V\n",
      "\n",
      "#calculation\n",
      "R=(R1*R2/(R1+R2))+R3\n",
      "I=E/R\n",
      "\n",
      "#Result\n",
      "print\"Current in steady state is\", round(I,1),\"A\""
     ],
     "language": "python",
     "metadata": {},
     "outputs": [
      {
       "output_type": "stream",
       "stream": "stdout",
       "text": [
        "Current in steady state is 1.6 A\n"
       ]
      }
     ],
     "prompt_number": 206
    },
    {
     "cell_type": "heading",
     "level": 2,
     "metadata": {},
     "source": [
      "Example 6.33 Page no 197"
     ]
    },
    {
     "cell_type": "code",
     "collapsed": false,
     "input": [
      "#Given\n",
      "E=10                     #v\n",
      "r=3                       #ohm\n",
      "I=0.5                       #A\n",
      "\n",
      "#Calculation\n",
      "R=(E/I)-r\n",
      "V=I*R\n",
      "\n",
      "#Result\n",
      "print\"Resistance of the resistor is\", R,\"ohm\"\n",
      "print\"Terminal voltage is\",V,\"V\""
     ],
     "language": "python",
     "metadata": {},
     "outputs": [
      {
       "output_type": "stream",
       "stream": "stdout",
       "text": [
        "Resistance of the resistor is 17.0 ohm\n",
        "Terminal voltage is 8.5 V\n"
       ]
      }
     ],
     "prompt_number": 212
    },
    {
     "cell_type": "heading",
     "level": 2,
     "metadata": {},
     "source": [
      "Example 6.35 Page no 197"
     ]
    },
    {
     "cell_type": "code",
     "collapsed": false,
     "input": [
      "#Given\n",
      "R1=3.0                        #ohm\n",
      "R2=4.0\n",
      "R3=6.0\n",
      "r=2/3.0\n",
      "E=2                             #V\n",
      "\n",
      "#Calculation\n",
      "Rp=1/(1/R1+1/R2+1/R3)\n",
      "R=Rp+r\n",
      "I=E/R\n",
      "V=I*Rp\n",
      "I1=V/R1\n",
      "\n",
      "#Result\n",
      "print\"Current drawn from the cell is\", I,\"A\"\n",
      "print\"Current through 3 Ohm resistance is\",round(I1,2),\"A\""
     ],
     "language": "python",
     "metadata": {},
     "outputs": [
      {
       "output_type": "stream",
       "stream": "stdout",
       "text": [
        "Current drawn from the cell is 1.0 A\n",
        "Current through 3 Ohm resistance is 0.44 A\n"
       ]
      }
     ],
     "prompt_number": 7
    },
    {
     "cell_type": "heading",
     "level": 2,
     "metadata": {},
     "source": [
      "Example 6.36 Page no 197"
     ]
    },
    {
     "cell_type": "code",
     "collapsed": false,
     "input": [
      "#Given\n",
      "E=8\n",
      "R=3.0\n",
      "r=1.0\n",
      "\n",
      "#Calculation\n",
      "I=E/(R+r)\n",
      "I1=I/2.0\n",
      "\n",
      "#Result\n",
      "print\"Current from the battery is\",I,\"A\"\n",
      "print\"Current through AC and ABC is\",I1,\"A\""
     ],
     "language": "python",
     "metadata": {},
     "outputs": [
      {
       "output_type": "stream",
       "stream": "stdout",
       "text": [
        "Current from the battery is 2.0 A\n",
        "Current through AC and ABC is 1.0 A\n"
       ]
      }
     ],
     "prompt_number": 11
    },
    {
     "cell_type": "heading",
     "level": 2,
     "metadata": {},
     "source": [
      "Example 6.37 Page no 198"
     ]
    },
    {
     "cell_type": "code",
     "collapsed": false,
     "input": [
      "#Given\n",
      "E=12                     #V\n",
      "R2=8                       #ohm\n",
      "r=1                          #ohm\n",
      "\n",
      "#Calculation\n",
      "R1=-((E/I)-R2-r)\n",
      "\n",
      "#Result\n",
      "print\"Value of resistance is\", R1,\"ohm\""
     ],
     "language": "python",
     "metadata": {},
     "outputs": [
      {
       "output_type": "stream",
       "stream": "stdout",
       "text": [
        "Value of resistance is 3.0 ohm\n"
       ]
      }
     ],
     "prompt_number": 17
    },
    {
     "cell_type": "heading",
     "level": 2,
     "metadata": {},
     "source": [
      "Example 6.38 Page no 198"
     ]
    },
    {
     "cell_type": "code",
     "collapsed": false,
     "input": [
      "#Given\n",
      "E1=20                         #V\n",
      "r1=1                            #ohm\n",
      "E2=8                             #Volt\n",
      "r2=2                             #ohm\n",
      "R1=12.0\n",
      "R2=6.0\n",
      "R3=4.0\n",
      "\n",
      "#Calculation\n",
      "E=E1-E2\n",
      "R11=1/(1/R1+1/R2+1/R3)\n",
      "R=R11+r1+r2+5\n",
      "I=E/R\n",
      "I1=I-1\n",
      "V1=E1-(I*r1)\n",
      "V2=E2+(I*r2)\n",
      "\n",
      "#Result\n",
      "print\"(a) Current in the circuit is\", I,\"A\"\n",
      "print\"(b) Current in the resister is\", I1,\"A\"\n",
      "print\"(c) Potential difference across 12 V battery is\", V1,\"V\"\n",
      "print\"    Potential difference across 8 V battery is\",V2,\"V\""
     ],
     "language": "python",
     "metadata": {},
     "outputs": [
      {
       "output_type": "stream",
       "stream": "stdout",
       "text": [
        "(a) Current in the circuit is 1.2 A\n",
        "(b) Current in the resister is 0.2 A\n",
        "(c) Potential difference across 12 V battery is 18.8 V\n",
        "    Potential difference across 8 V battery is 10.4 V\n"
       ]
      }
     ],
     "prompt_number": 34
    },
    {
     "cell_type": "heading",
     "level": 2,
     "metadata": {},
     "source": [
      "Example 6.39 Page no 198"
     ]
    },
    {
     "cell_type": "code",
     "collapsed": false,
     "input": [
      "#Given\n",
      "E=2                          #V\n",
      "r=0.015                       #ohm\n",
      "R=8.5\n",
      "\n",
      "#Calculation\n",
      "E1=E*6\n",
      "r1=r*6\n",
      "I=E1/(R+r1)\n",
      "V=I*R\n",
      "\n",
      "#Result\n",
      "print\"Current drawn from the supply is\", round(I,3),\"A\"\n",
      "print\"Terminal voltage is\",round(V,3),\"V\""
     ],
     "language": "python",
     "metadata": {},
     "outputs": [
      {
       "output_type": "stream",
       "stream": "stdout",
       "text": [
        "Current drawn from the supply is 1.397 A\n",
        "Terminal voltage is 11.874 V\n"
       ]
      }
     ],
     "prompt_number": 41
    },
    {
     "cell_type": "heading",
     "level": 2,
     "metadata": {},
     "source": [
      "Example 6.40 Page no 198"
     ]
    },
    {
     "cell_type": "code",
     "collapsed": false,
     "input": [
      "#Given\n",
      "E=4                #V\n",
      "I=1.5             #A\n",
      "R=6                 #ohm\n",
      "\n",
      "#Calculation\n",
      "E1=3*E\n",
      "r=((E1/I)-R)/3.0\n",
      "V=E-(I*r)\n",
      "\n",
      "#Result\n",
      "print\"(a) Internal resistance is\", round(r,2),\"ohm\"\n",
      "print\"(b) Terminal voltage is\",V,\"Volt\""
     ],
     "language": "python",
     "metadata": {},
     "outputs": [
      {
       "output_type": "stream",
       "stream": "stdout",
       "text": [
        "(a) Internal resistance is 0.67 ohm\n",
        "(b) Terminal voltage is 3.0 Volt\n"
       ]
      }
     ],
     "prompt_number": 48
    },
    {
     "cell_type": "heading",
     "level": 2,
     "metadata": {},
     "source": [
      "Example 6.41 Page no 199"
     ]
    },
    {
     "cell_type": "code",
     "collapsed": false,
     "input": [
      "#Given\n",
      "R1=15.0                       #ohm\n",
      "R2=15.0\n",
      "E=2\n",
      "V=1.6\n",
      "\n",
      "#Calculation\n",
      "R=R1*R2/(R1+R2)\n",
      "r=(((E/V)-1)*R)*4\n",
      "\n",
      "#Result\n",
      "print\"Internal resistance is\", r,\"ohm\""
     ],
     "language": "python",
     "metadata": {},
     "outputs": [
      {
       "output_type": "stream",
       "stream": "stdout",
       "text": [
        "Internal resistance is 7.5 ohm\n"
       ]
      }
     ],
     "prompt_number": 53
    },
    {
     "cell_type": "heading",
     "level": 2,
     "metadata": {},
     "source": [
      "Example 6.42 Page no 199"
     ]
    },
    {
     "cell_type": "code",
     "collapsed": false,
     "input": [
      "#Given\n",
      "E=1\n",
      "a=2\n",
      "\n",
      "#Calculation\n",
      "r=(a*E*(a-E))/(a*E*(a-E))\n",
      "\n",
      "#Result\n",
      "print\"The internal resistance is\",r,\"ohm\""
     ],
     "language": "python",
     "metadata": {},
     "outputs": [
      {
       "output_type": "stream",
       "stream": "stdout",
       "text": [
        "The internal resistance is 1 ohm\n"
       ]
      }
     ],
     "prompt_number": 66
    },
    {
     "cell_type": "heading",
     "level": 2,
     "metadata": {},
     "source": [
      "Example 6.43 Page no 199"
     ]
    },
    {
     "cell_type": "code",
     "collapsed": false,
     "input": [
      "#Given\n",
      "E=2              #V\n",
      "r=1.5            #ohm\n",
      "R=10             #ohm\n",
      "r1=1.5\n",
      "r2=1.5\n",
      "\n",
      "#Calculation\n",
      "E1=2*E\n",
      "w=r1+r2\n",
      "A=1/(1/w+1/w)\n",
      "B=R+A\n",
      "I=E1/B\n",
      "IR=I*R\n",
      "\n",
      "#Result\n",
      "print\"The potential difference across external resistance is\",round(IR,2),\"V\""
     ],
     "language": "python",
     "metadata": {},
     "outputs": [
      {
       "output_type": "stream",
       "stream": "stdout",
       "text": [
        "The potential difference across external resistance is 3.48 V\n"
       ]
      }
     ],
     "prompt_number": 63
    },
    {
     "cell_type": "heading",
     "level": 2,
     "metadata": {},
     "source": [
      "Example 6.44 Page no 200"
     ]
    },
    {
     "cell_type": "code",
     "collapsed": false,
     "input": [
      "#Given\n",
      "n=2.7*10**18\n",
      "N=1.0*10**18\n",
      "e=1.6*10**-19\n",
      "V=230                  #V\n",
      "\n",
      "#Calculation\n",
      "I=(n+N)*(e)\n",
      "R=V/I\n",
      "\n",
      "#Result\n",
      "print\"The effective resistance of the tube is\",round(R,1),\"ohm\""
     ],
     "language": "python",
     "metadata": {},
     "outputs": [
      {
       "output_type": "stream",
       "stream": "stdout",
       "text": [
        "The effective resistance of the tube is 388.5 ohm\n"
       ]
      }
     ],
     "prompt_number": 73
    },
    {
     "cell_type": "heading",
     "level": 2,
     "metadata": {},
     "source": [
      "Example 6.47 Page no 200"
     ]
    },
    {
     "cell_type": "code",
     "collapsed": false,
     "input": [
      "#Given\n",
      "X=1\n",
      "a=3\n",
      "E1=12\n",
      "r=0.5\n",
      "\n",
      "#Calculation\n",
      "import math\n",
      "X1=X+math.sqrt(a)\n",
      "I=E1/(X1+r)\n",
      "\n",
      "#Result\n",
      "print\"Current drawn is\", round(I,3),\"A\""
     ],
     "language": "python",
     "metadata": {},
     "outputs": [
      {
       "output_type": "stream",
       "stream": "stdout",
       "text": [
        "Current drawn is 3.713 A\n"
       ]
      }
     ],
     "prompt_number": 99
    },
    {
     "cell_type": "heading",
     "level": 2,
     "metadata": {},
     "source": [
      "Example 6.48 Page no 200"
     ]
    },
    {
     "cell_type": "code",
     "collapsed": false,
     "input": [
      "#Given\n",
      "R1=6\n",
      "R2=3.0\n",
      "R3=5\n",
      "E=24              #V\n",
      "I=3               #A\n",
      "\n",
      "#Calculation\n",
      "Rp=(R1*R2)/(R1+R2)\n",
      "R=R3+Rp+r\n",
      "r=R-(R3+Rp)\n",
      "V=I*Rp\n",
      "I1=V/R1\n",
      "I2=V/R2\n",
      "R11=R2+R3+r\n",
      "I11=E/R11\n",
      "\n",
      "#Result\n",
      "print\"(a) Internal resistance is\", r,\"ohm\"\n",
      "print\"   Current I1 is\",I1,\"A and I2 is\",I2,\"A\"\n",
      "print\"(b) Current in the circuit is\",round(I11,2),\"A\""
     ],
     "language": "python",
     "metadata": {},
     "outputs": [
      {
       "output_type": "stream",
       "stream": "stdout",
       "text": [
        "(a) Internal resistance is 1.0 ohm\n",
        "   Current I1 is 1.0 A and I2 is 2.0 A\n",
        "(b) Current in the circuit is 2.67 A\n"
       ]
      }
     ],
     "prompt_number": 91
    }
   ],
   "metadata": {}
  }
 ]
}