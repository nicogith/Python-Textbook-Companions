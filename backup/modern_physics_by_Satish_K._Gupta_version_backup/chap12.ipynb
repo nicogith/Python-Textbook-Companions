{
 "metadata": {
  "name": "",
  "signature": "sha256:48ced6bcb2294321844f4027bedbd6f874bf0da0aa33534190457acb1015aba8"
 },
 "nbformat": 3,
 "nbformat_minor": 0,
 "worksheets": [
  {
   "cells": [
    {
     "cell_type": "heading",
     "level": 1,
     "metadata": {},
     "source": [
      "Chapter 12 Motion of charged particle"
     ]
    },
    {
     "cell_type": "heading",
     "level": 2,
     "metadata": {},
     "source": [
      "Example 12.1 Page no 379"
     ]
    },
    {
     "cell_type": "code",
     "collapsed": false,
     "input": [
      "#Given\n",
      "m=1.6*10**-27                       #Kg\n",
      "e=1.6*10**-19\n",
      "Ey=2*10**4                           #V/m\n",
      "x=0.1                                #m\n",
      "vx=5*10**6                           #m/s\n",
      "\n",
      "#Calculation\n",
      "t=x/vx\n",
      "Fy=e*Ey\n",
      "a=Fy/m\n",
      "y=a*t**2/2.0\n",
      "\n",
      "#Result\n",
      "print\"Transverse deflection is\", y*10**3,\"mm\""
     ],
     "language": "python",
     "metadata": {},
     "outputs": [
      {
       "output_type": "stream",
       "stream": "stdout",
       "text": [
        "Transverse deflection is 0.4 mm\n"
       ]
      }
     ],
     "prompt_number": 7
    },
    {
     "cell_type": "heading",
     "level": 2,
     "metadata": {},
     "source": [
      "Example 12.2 Page no 379"
     ]
    },
    {
     "cell_type": "code",
     "collapsed": false,
     "input": [
      "#Given\n",
      "n=8*10**28                        #/m**2\n",
      "l=1                                #m\n",
      "A=8*10**-6                          #m**2\n",
      "B=5*10**-3                         #T\n",
      "F=8*10**-2                         #N\n",
      "e=1.6*10**-19                       #C\n",
      "\n",
      "#Calculation\n",
      "vd=F/(B*n*A*l*e)\n",
      "\n",
      "#Result\n",
      "print\"Drift velocity is\", vd*10**4,\"*10**-4 m/s\""
     ],
     "language": "python",
     "metadata": {},
     "outputs": [
      {
       "output_type": "stream",
       "stream": "stdout",
       "text": [
        "Drift velocity is 1.5625 *10**-4 m/s\n"
       ]
      }
     ],
     "prompt_number": 11
    },
    {
     "cell_type": "heading",
     "level": 2,
     "metadata": {},
     "source": [
      "Example 12.3 Page no 379"
     ]
    },
    {
     "cell_type": "code",
     "collapsed": false,
     "input": [
      "#Given\n",
      "q=1.6*10**-19                           #C\n",
      "v=10**7                                  #m/s\n",
      "B=3                                      #T\n",
      "\n",
      "#Calculation\n",
      "F=q*v*B\n",
      "\n",
      "#Result\n",
      "print\"Instantaneous force is\", F,\"N\""
     ],
     "language": "python",
     "metadata": {},
     "outputs": [
      {
       "output_type": "stream",
       "stream": "stdout",
       "text": [
        "Instantaneous force is 4.8e-12 N\n"
       ]
      }
     ],
     "prompt_number": 14
    },
    {
     "cell_type": "heading",
     "level": 2,
     "metadata": {},
     "source": [
      "Example 12.4 Page no 379"
     ]
    },
    {
     "cell_type": "code",
     "collapsed": false,
     "input": [
      "#Given\n",
      "I=2                              #A\n",
      "a=0.1                            #m\n",
      "u=10**-7\n",
      "q=1.6*10**-19\n",
      "v=4*10**4                        #m/s\n",
      "\n",
      "#Calculation\n",
      "import math\n",
      "B=(u*2*I)/a\n",
      "F=B*q*v\n",
      "\n",
      "#Result\n",
      "print\"Force of magnetic field is\", F,\"N\""
     ],
     "language": "python",
     "metadata": {},
     "outputs": [
      {
       "output_type": "stream",
       "stream": "stdout",
       "text": [
        "Force of magnetic field is 2.56e-20 N\n"
       ]
      }
     ],
     "prompt_number": 6
    },
    {
     "cell_type": "heading",
     "level": 2,
     "metadata": {},
     "source": [
      "Example 12.6 Page no 380"
     ]
    },
    {
     "cell_type": "code",
     "collapsed": false,
     "input": [
      "#Given\n",
      "v=10**5                        #m/s\n",
      "e=1.6*10**-19                  #C\n",
      "m=9.1*10**-31                    #Kg\n",
      "B=0.019*10**-4                   #T\n",
      "\n",
      "#Calculation\n",
      "r=m*v/(B*e)\n",
      "\n",
      "#Result\n",
      "print\"Radius of the circular path is\", round(r,3),\"m\""
     ],
     "language": "python",
     "metadata": {},
     "outputs": [
      {
       "output_type": "stream",
       "stream": "stdout",
       "text": [
        "Radius of the circular path is 0.299 m\n"
       ]
      }
     ],
     "prompt_number": 10
    },
    {
     "cell_type": "heading",
     "level": 2,
     "metadata": {},
     "source": [
      "Example 12.7 Page no 380"
     ]
    },
    {
     "cell_type": "code",
     "collapsed": false,
     "input": [
      "#Given\n",
      "e=1.6*10**-19\n",
      "m=9*10**-31                                #Kg\n",
      "T=10**-6                                    #S\n",
      "\n",
      "#Calculation\n",
      "import math\n",
      "B=2*math.pi*m/(e*T)\n",
      "\n",
      "#Result\n",
      "print\"Magnetic field is\", round(B*10**5,3)*10**-5 ,\"T\""
     ],
     "language": "python",
     "metadata": {},
     "outputs": [
      {
       "output_type": "stream",
       "stream": "stdout",
       "text": [
        "Magnetic field is 3.534e-05 T\n"
       ]
      }
     ],
     "prompt_number": 16
    },
    {
     "cell_type": "heading",
     "level": 2,
     "metadata": {},
     "source": [
      "Example 12.9 Page no 381"
     ]
    },
    {
     "cell_type": "code",
     "collapsed": false,
     "input": [
      "#Given\n",
      "m=1.67*10**-27                       #Kg\n",
      "e=1.60*10**-19\n",
      "V=10**7                                #Hz\n",
      "R=0.6                                 #m\n",
      "\n",
      "#Calculation\n",
      "import math\n",
      "B=2*math.pi*m*V/e\n",
      "Emax=(B**2*e**2*R**2/(2*m))/1.6*10**13\n",
      "\n",
      "#Result\n",
      "print\"Kinetic energy of the proton is\",round(Emax,3),\"Mev\""
     ],
     "language": "python",
     "metadata": {},
     "outputs": [
      {
       "output_type": "stream",
       "stream": "stdout",
       "text": [
        "Kinetic energy of the proton is 7.417 Mev\n"
       ]
      }
     ],
     "prompt_number": 25
    },
    {
     "cell_type": "heading",
     "level": 2,
     "metadata": {},
     "source": [
      "Example 12.10 Page no 381"
     ]
    },
    {
     "cell_type": "code",
     "collapsed": false,
     "input": [
      "#Given\n",
      "I=5                                  #A\n",
      "l=0.1                                 #m\n",
      "m=3*10**-3\n",
      "g=9.8\n",
      "a=0.5\n",
      "\n",
      "#Calculation\n",
      "w=m*g*l\n",
      "B=w/a\n",
      "\n",
      "#Result\n",
      "print\"Magnitude of the magnetic field is\", B*10**3,\"*10**-3 tesla\""
     ],
     "language": "python",
     "metadata": {},
     "outputs": [
      {
       "output_type": "stream",
       "stream": "stdout",
       "text": [
        "Magnitude of the magnetic field is 5.88 *10**-3 tesla\n"
       ]
      }
     ],
     "prompt_number": 29
    },
    {
     "cell_type": "heading",
     "level": 2,
     "metadata": {},
     "source": [
      "Example 12.11 Page no 381"
     ]
    },
    {
     "cell_type": "code",
     "collapsed": false,
     "input": [
      "#given\n",
      "I1=4                            #A\n",
      "I2=6\n",
      "r=0.03                           #m\n",
      "u=10**-7\n",
      "\n",
      "#Calculation\n",
      "F=u*2*I1*I2/r\n",
      "\n",
      "#Result\n",
      "print\"Force per unit length is\", F*10**4,\"*10**-4 N/m\""
     ],
     "language": "python",
     "metadata": {},
     "outputs": [
      {
       "output_type": "stream",
       "stream": "stdout",
       "text": [
        "Force per unit length is 1.6 *10**-4 N/m\n"
       ]
      }
     ],
     "prompt_number": 33
    },
    {
     "cell_type": "heading",
     "level": 2,
     "metadata": {},
     "source": [
      "Example 12.12 Page no 381"
     ]
    },
    {
     "cell_type": "code",
     "collapsed": false,
     "input": [
      "#Given\n",
      "I1=5                             #A\n",
      "I2=12\n",
      "r=0.4                            #m\n",
      "u=10**-7\n",
      "\n",
      "#Calculation\n",
      "F=u*2*I1*I2/r\n",
      "F1=u*2*I1*I2/r\n",
      "\n",
      "#Result\n",
      "print\"(i) Force when current flows in same direction is\", F,\"N/m\"\n",
      "print\"(ii) Force when current flows in opposite direction is\",F1,\"N/m\""
     ],
     "language": "python",
     "metadata": {},
     "outputs": [
      {
       "output_type": "stream",
       "stream": "stdout",
       "text": [
        "(i) Force when current flows in same direction is 3e-05 N/m\n",
        "(ii) Force when current flows in opposite direction is 3e-05 N/m\n"
       ]
      }
     ],
     "prompt_number": 38
    },
    {
     "cell_type": "heading",
     "level": 2,
     "metadata": {},
     "source": [
      "Example 12.13 Page no 381"
     ]
    },
    {
     "cell_type": "code",
     "collapsed": false,
     "input": [
      "#Given\n",
      "I1=300                          #A\n",
      "r=1.5*10**-2                    #m\n",
      "u=10**-7\n",
      "\n",
      "#Calculation\n",
      "F=u*2*I1*I1/r\n",
      "\n",
      "#Result\n",
      "print\"Force per unit length is\",F,\"N/m\""
     ],
     "language": "python",
     "metadata": {},
     "outputs": [
      {
       "output_type": "stream",
       "stream": "stdout",
       "text": [
        "Force per unit length is 1.2 N/m\n"
       ]
      }
     ],
     "prompt_number": 40
    },
    {
     "cell_type": "heading",
     "level": 2,
     "metadata": {},
     "source": [
      "Example 12.14 Page no 381"
     ]
    },
    {
     "cell_type": "code",
     "collapsed": false,
     "input": [
      "#Given\n",
      "I=10                       #A\n",
      "n=100\n",
      "A=8*10**-2                  #m**2\n",
      "B=5                         #T\n",
      "\n",
      "#Calculation\n",
      "import math\n",
      "t=n*B*I*A*math.cos(60*3.14/180.0)\n",
      "\n",
      "#Result\n",
      "print\"Torque is\", round(t,0),\"Nm\""
     ],
     "language": "python",
     "metadata": {},
     "outputs": [
      {
       "output_type": "stream",
       "stream": "stdout",
       "text": [
        "Torque is 200.0 Nm\n"
       ]
      }
     ],
     "prompt_number": 44
    },
    {
     "cell_type": "heading",
     "level": 2,
     "metadata": {},
     "source": [
      "Example 12.15 Page no 381"
     ]
    },
    {
     "cell_type": "code",
     "collapsed": false,
     "input": [
      "#Given\n",
      "n=30\n",
      "I=6                        #A\n",
      "B=1                           #T\n",
      "r=8*10**-2                     #m\n",
      "\n",
      "#Calculation\n",
      "import math\n",
      "A=math.pi*r**2\n",
      "t=n*B*I*A*math.sin(60*3.14/180.0)\n",
      "\n",
      "#Result\n",
      "print\"(a) Magnitude of the counter torque is\", round(t,3),\"Nm\"\n",
      "print\"(b) Torque on the planar loop is independent of its shape, the torque will remain unchanged.\""
     ],
     "language": "python",
     "metadata": {},
     "outputs": [
      {
       "output_type": "stream",
       "stream": "stdout",
       "text": [
        "(a) Magnitude of the counter torque is 3.133 Nm\n",
        "(b) Torque on the planar loop is independent of its shape, the torque will remain unchanged.\n"
       ]
      }
     ],
     "prompt_number": 50
    },
    {
     "cell_type": "heading",
     "level": 2,
     "metadata": {},
     "source": [
      "Example 12.16 Page no 382"
     ]
    },
    {
     "cell_type": "code",
     "collapsed": false,
     "input": [
      "#Given\n",
      "B=100*10**-4                             #T\n",
      "I=10                                     #A\n",
      "l=44\n",
      "\n",
      "#Calculation\n",
      "import math\n",
      "r=l/(2.0*math.pi)\n",
      "A=math.pi*r**2\n",
      "t=B*I*A\n",
      "\n",
      "#Result\n",
      "print\"Maximum torque is\", round(t*10**-1,2),\"*10**-3 Nm\""
     ],
     "language": "python",
     "metadata": {},
     "outputs": [
      {
       "output_type": "stream",
       "stream": "stdout",
       "text": [
        "Maximum torque is 1.54 *10**-3 Nm\n"
       ]
      }
     ],
     "prompt_number": 62
    },
    {
     "cell_type": "heading",
     "level": 2,
     "metadata": {},
     "source": [
      "Example 12.17 Page no 382"
     ]
    },
    {
     "cell_type": "code",
     "collapsed": false,
     "input": [
      "#Given\n",
      "n=20\n",
      "r=10*10**-2                          #m\n",
      "B=0.10                               #T\n",
      "I=5                                   #A\n",
      "n1=10**29                             #/m**3\n",
      "A1=10**-5                             #m**2\n",
      "\n",
      "#Calculation\n",
      "import math\n",
      "A=math.pi*r**2\n",
      "t=n*B*I*A*math.sin(0*3.14/180.0)\n",
      "F=B*I/(n1*A1)\n",
      "\n",
      "#Result\n",
      "print\"(a) Total torque on the coil is\", t\n",
      "print\"(b) Net force on a planar loop in a magnetic field is always zero\"\n",
      "print\"(c) Average force is\",F,\"N\""
     ],
     "language": "python",
     "metadata": {},
     "outputs": [
      {
       "output_type": "stream",
       "stream": "stdout",
       "text": [
        "(a) Total torque on the coil is 0.0\n",
        "(b) Net force on a planar loop in a magnetic field is always zero\n",
        "(c) Average force is 5e-25 N\n"
       ]
      }
     ],
     "prompt_number": 68
    },
    {
     "cell_type": "heading",
     "level": 2,
     "metadata": {},
     "source": [
      "Example 12.18 Page no 382"
     ]
    },
    {
     "cell_type": "code",
     "collapsed": false,
     "input": [
      "#Given\n",
      "A=5*10**-4                          #m**2\n",
      "n=60\n",
      "a=18                                 #degree\n",
      "B=90*10**-4                          #T\n",
      "I=0.20*10**-3                        #A\n",
      "\n",
      "#calculation\n",
      "k=n*B*I*A/a\n",
      "\n",
      "#Result\n",
      "print\"Torsional constant is\",k,\"N m per degree\""
     ],
     "language": "python",
     "metadata": {},
     "outputs": [
      {
       "output_type": "stream",
       "stream": "stdout",
       "text": [
        "Torsional constant is 3e-09 N m per degree\n"
       ]
      }
     ],
     "prompt_number": 70
    },
    {
     "cell_type": "heading",
     "level": 2,
     "metadata": {},
     "source": [
      "Example 12.21 Page no 383"
     ]
    },
    {
     "cell_type": "code",
     "collapsed": false,
     "input": [
      "#Given\n",
      "G=15                           #ohm\n",
      "Ig=2*10**-3                    #A\n",
      "I=5                            #A\n",
      "\n",
      "#Calculation\n",
      "S=Ig*G/(I-Ig)\n",
      "\n",
      "#Result\n",
      "print\"Shunt resistance is\",round(S,3),\"Ohm\""
     ],
     "language": "python",
     "metadata": {},
     "outputs": [
      {
       "output_type": "stream",
       "stream": "stdout",
       "text": [
        "Shunt resistance is 0.006 Ohm\n"
       ]
      }
     ],
     "prompt_number": 74
    },
    {
     "cell_type": "heading",
     "level": 2,
     "metadata": {},
     "source": [
      "Example 12.22 Page no 383"
     ]
    },
    {
     "cell_type": "code",
     "collapsed": false,
     "input": [
      "#Given\n",
      "V=50*10**-3                          #V\n",
      "G=100.0                                #ohm\n",
      "\n",
      "#Calculation\n",
      "Ig=V/G\n",
      "S=Ig*G/(I-Ig)\n",
      "\n",
      "#Result\n",
      "print\"Shunt resistance is\", round(S,2),\"ohm\""
     ],
     "language": "python",
     "metadata": {},
     "outputs": [
      {
       "output_type": "stream",
       "stream": "stdout",
       "text": [
        "Shunt resistance is 0.01 ohm\n"
       ]
      }
     ],
     "prompt_number": 79
    },
    {
     "cell_type": "heading",
     "level": 2,
     "metadata": {},
     "source": [
      "Example 12.23 Page no 383"
     ]
    },
    {
     "cell_type": "code",
     "collapsed": false,
     "input": [
      "#Given\n",
      "G=100                          #ohm\n",
      "Ig=5*10**-3                    #A\n",
      "I=5                            #A\n",
      "\n",
      "#Calculation\n",
      "S=Ig*G/(I-Ig)\n",
      "\n",
      "#Result\n",
      "print\"Shunt resistance is\",S"
     ],
     "language": "python",
     "metadata": {},
     "outputs": [
      {
       "output_type": "stream",
       "stream": "stdout",
       "text": [
        "Shunt resistance is 0.1001001001\n"
       ]
      }
     ],
     "prompt_number": 80
    },
    {
     "cell_type": "heading",
     "level": 2,
     "metadata": {},
     "source": [
      "Example 12.24 Page no 383"
     ]
    },
    {
     "cell_type": "code",
     "collapsed": false,
     "input": [
      "#Given\n",
      "G=5                          #ohm\n",
      "Ig=15.0*10**-3                   #A\n",
      "I=1.5\n",
      "V=1.5                          #V\n",
      "\n",
      "#Calculation\n",
      "S=Ig*G/(I-Ig)\n",
      "R=(V/Ig)-G\n",
      "\n",
      "#Result\n",
      "print\"(a) To enable galvanometer to read 1.5 A is\", round(S,2),\"ohm\"\n",
      "print\"(b) To enable galvanometer to read 1.5 V is\",R,\"ohm\""
     ],
     "language": "python",
     "metadata": {},
     "outputs": [
      {
       "output_type": "stream",
       "stream": "stdout",
       "text": [
        "(a) To enable galvanometer to read 1.5 A is 0.05 ohm\n",
        "(b) To enable galvanometer to read 1.5 V is 95.0 ohm\n"
       ]
      }
     ],
     "prompt_number": 88
    },
    {
     "cell_type": "heading",
     "level": 2,
     "metadata": {},
     "source": [
      "Example 12.25 Page no 383"
     ]
    },
    {
     "cell_type": "code",
     "collapsed": false,
     "input": [
      "#Given\n",
      "G=10                        #ohm\n",
      "Ig=25.0*10**-3                #A\n",
      "V=120                       #V\n",
      "I=20                         #A\n",
      "\n",
      "#Calculation\n",
      "R=(V/Ig)-G\n",
      "S=Ig*G/(I-Ig)\n",
      "\n",
      "#Result\n",
      "print\"(a) To convert the galvanometer into the voltmeter reading is\" ,R,\"ohm\"\n",
      "print\"(b) To convert the galvanometer into the ammeter reading is\",round(S,4),\"ohm\""
     ],
     "language": "python",
     "metadata": {},
     "outputs": [
      {
       "output_type": "stream",
       "stream": "stdout",
       "text": [
        "(a) To convert the galvanometer into the voltmeter reading is 4790.0 ohm\n",
        "(b) To convert the galvanometer into the ammeter reading is 0.0125 ohm\n"
       ]
      }
     ],
     "prompt_number": 95
    },
    {
     "cell_type": "heading",
     "level": 2,
     "metadata": {},
     "source": [
      "Example 12.26 Page no 383"
     ]
    },
    {
     "cell_type": "code",
     "collapsed": false,
     "input": [
      "#Given\n",
      "E=3                           #v\n",
      "R=55                             #ohm\n",
      "Ra=1\n",
      "I=50*10**-3                     #A\n",
      "\n",
      "#Calculation\n",
      "r=(E/I)-(R+Ra)\n",
      "\n",
      "#Result\n",
      "print\"Value of r is\", r,\"ohm\""
     ],
     "language": "python",
     "metadata": {},
     "outputs": [
      {
       "output_type": "stream",
       "stream": "stdout",
       "text": [
        "Value of r is 4.0 ohm\n"
       ]
      }
     ],
     "prompt_number": 98
    },
    {
     "cell_type": "heading",
     "level": 2,
     "metadata": {},
     "source": [
      "Example 12.27 Page no 384"
     ]
    },
    {
     "cell_type": "code",
     "collapsed": false,
     "input": [
      "#Given\n",
      "E=60                          #V\n",
      "R1=400                        #ohm\n",
      "R2=300\n",
      "V1=30.0\n",
      "a=120000\n",
      "\n",
      "#Calculation\n",
      "Rv=(-V1*a)/(V1*(R1+R2)-E*R1)\n",
      "R=Rv*R2/(Rv+R2)\n",
      "I1=E/(R+R1)\n",
      "V=I1*R\n",
      "\n",
      "#Result\n",
      "print\"Voltmeter reads\", V,\"V\""
     ],
     "language": "python",
     "metadata": {},
     "outputs": [
      {
       "output_type": "stream",
       "stream": "stdout",
       "text": [
        "Voltmeter reads 22.5 V\n"
       ]
      }
     ],
     "prompt_number": 108
    },
    {
     "cell_type": "heading",
     "level": 2,
     "metadata": {},
     "source": [
      "Example 12.28 Page no 384"
     ]
    },
    {
     "cell_type": "code",
     "collapsed": false,
     "input": [
      "#Given\n",
      "Rv=400.0\n",
      "E=84                                #V\n",
      "r=100.0\n",
      "r1=200\n",
      "\n",
      "#Calculation\n",
      "R=1/(1/Rv+1/100.0)\n",
      "R1=R+200\n",
      "I=E/R1\n",
      "I1=I/5.0\n",
      "V=I1*Rv\n",
      "R2=r+r1\n",
      "I2=E/R2\n",
      "V2=I2*r\n",
      "\n",
      "#Result\n",
      "print\"(a) Reading on voltmeter is\", V,\"V\"\n",
      "print\"(b) Potential difference is\",V2,\"V\""
     ],
     "language": "python",
     "metadata": {},
     "outputs": [
      {
       "output_type": "stream",
       "stream": "stdout",
       "text": [
        "(a) Reading on voltmeter is 24.0 V\n",
        "(b) Potential difference is 28.0 V\n"
       ]
      }
     ],
     "prompt_number": 122
    },
    {
     "cell_type": "heading",
     "level": 2,
     "metadata": {},
     "source": [
      "Example 12.29 Page no 385"
     ]
    },
    {
     "cell_type": "code",
     "collapsed": false,
     "input": [
      "#Given\n",
      "E=120                             #v\n",
      "Rv=10**4                          #ohm\n",
      "a=4.0\n",
      "\n",
      "#Calculation\n",
      "x=(Rv*(E-a))/a\n",
      "\n",
      "#Result\n",
      "print\"Large resistance is\", x*10**-3,\"K ohm\""
     ],
     "language": "python",
     "metadata": {},
     "outputs": [
      {
       "output_type": "stream",
       "stream": "stdout",
       "text": [
        "Large resistance is 290.0 K ohm\n"
       ]
      }
     ],
     "prompt_number": 131
    },
    {
     "cell_type": "heading",
     "level": 2,
     "metadata": {},
     "source": [
      "Example 12.30 Page no 385"
     ]
    },
    {
     "cell_type": "code",
     "collapsed": false,
     "input": [
      "#Given\n",
      "B=0.75                          #T\n",
      "E=9*10**5                        #V/m\n",
      "V=15*10**3\n",
      "\n",
      "#Calculation\n",
      "v=E/B\n",
      "a=v**2/(2.0*V)\n",
      "\n",
      "#Result\n",
      "print\"The value of e/m is\", a*10**-7,\"*10**7 C/Kg\""
     ],
     "language": "python",
     "metadata": {},
     "outputs": [
      {
       "output_type": "stream",
       "stream": "stdout",
       "text": [
        "The value of e/m is 4.8 *10**7 C/Kg\n"
       ]
      }
     ],
     "prompt_number": 127
    },
    {
     "cell_type": "heading",
     "level": 2,
     "metadata": {},
     "source": [
      "Example 12.31 Page no 385"
     ]
    },
    {
     "cell_type": "code",
     "collapsed": false,
     "input": [
      "#Given\n",
      "m=9.11*10**-31                           #Kg\n",
      "e=1.60*10**-19                           #C\n",
      "B=0.40*10**-4                             #T\n",
      "a=18*1.6*10**-16\n",
      "PQ=0.30\n",
      "a2=1.52                                  #degree\n",
      "\n",
      "#calculation\n",
      "import math\n",
      "r=math.sqrt(2*m*a)/(B*e)\n",
      "a1=(PQ/r)\n",
      "PA=r*(1-math.cos(a2*3.14/180.0))\n",
      "\n",
      "#Result\n",
      "print\"up and down deflection of the beam is\", round(PA*10**3,0),\"mm\""
     ],
     "language": "python",
     "metadata": {},
     "outputs": [
      {
       "output_type": "stream",
       "stream": "stdout",
       "text": [
        "up and down deflection of the beam is 4.0 mm\n"
       ]
      }
     ],
     "prompt_number": 153
    },
    {
     "cell_type": "heading",
     "level": 2,
     "metadata": {},
     "source": [
      "Example 12.32 Page no 386"
     ]
    },
    {
     "cell_type": "code",
     "collapsed": false,
     "input": [
      "#Given\n",
      "m=60*10**-3\n",
      "g=9.8\n",
      "I=5\n",
      "l=0.45\n",
      "\n",
      "#Calculation\n",
      "B=m*g/(I*l)\n",
      "T=2*m*g\n",
      "\n",
      "#Result\n",
      "print\"(i) Magnetic field is\", round(B,3),\"T\"\n",
      "print\"(ii) Total tension in the wire is\",T,\"N\""
     ],
     "language": "python",
     "metadata": {},
     "outputs": [
      {
       "output_type": "stream",
       "stream": "stdout",
       "text": [
        "(i) Magnetic field is 0.261 T\n",
        "(ii) Total tension in the wire is 1.176 N\n"
       ]
      }
     ],
     "prompt_number": 161
    },
    {
     "cell_type": "heading",
     "level": 2,
     "metadata": {},
     "source": [
      "Example 12.33 Page no 386"
     ]
    },
    {
     "cell_type": "code",
     "collapsed": false,
     "input": [
      "#Given\n",
      "B=0.15                         #T\n",
      "m=0.30                          #Kg/m\n",
      "a=30                              #degree\n",
      "g=9.8                           #m/s**2\n",
      "\n",
      "#Calculation\n",
      "import math\n",
      "I=m*g*math.tan(a*3.14/180.0)/B\n",
      "\n",
      "#Result\n",
      "print\"Value of current is\", round(I,2),\"A\""
     ],
     "language": "python",
     "metadata": {},
     "outputs": [
      {
       "output_type": "stream",
       "stream": "stdout",
       "text": [
        "Value of current is 11.31 A\n"
       ]
      }
     ],
     "prompt_number": 165
    },
    {
     "cell_type": "heading",
     "level": 2,
     "metadata": {},
     "source": [
      "Example 12.34 Page no 386"
     ]
    },
    {
     "cell_type": "code",
     "collapsed": false,
     "input": [
      "#Given\n",
      "I1=4                           #A\n",
      "I2=3\n",
      "r=3.0*10**-2                      #m\n",
      "u=10**-7\n",
      "l=5*10**-2\n",
      "\n",
      "#Calculation\n",
      "F=u*2*I1*I2/r\n",
      "F1=F*l\n",
      "\n",
      "#Result\n",
      "print\"Total force is\", F1,\"N (attractive force)\""
     ],
     "language": "python",
     "metadata": {},
     "outputs": [
      {
       "output_type": "stream",
       "stream": "stdout",
       "text": [
        "Total force is 4e-06 N (attractive force)\n"
       ]
      }
     ],
     "prompt_number": 171
    },
    {
     "cell_type": "heading",
     "level": 2,
     "metadata": {},
     "source": [
      "Example 12.35 Page no 386"
     ]
    },
    {
     "cell_type": "code",
     "collapsed": false,
     "input": [
      "#Given\n",
      "AB=25*10**-2                         #m\n",
      "BC=10*10**-2\n",
      "r1=2.0*10**-2                        #m\n",
      "I1=15                                #A\n",
      "I2=25                                 #A\n",
      "u=10**-7\n",
      "\n",
      "#Calculation\n",
      "r2=BC+r1\n",
      "F1=u*2*I1*I2*AB/r1\n",
      "F2=u*2*I1*I2*AB/r2\n",
      "F=F1-F2\n",
      "\n",
      "#Result\n",
      "print\"Net force on the loop is\", F*10**4,\"*10**-4 N (towards XY)\""
     ],
     "language": "python",
     "metadata": {},
     "outputs": [
      {
       "output_type": "stream",
       "stream": "stdout",
       "text": [
        "Net force on the loop is 7.8125 *10**-4 N (towards XY)\n"
       ]
      }
     ],
     "prompt_number": 182
    },
    {
     "cell_type": "heading",
     "level": 2,
     "metadata": {},
     "source": [
      "Example 12.36 Page no 387"
     ]
    },
    {
     "cell_type": "code",
     "collapsed": false,
     "input": [
      "#Given\n",
      "M=30*10**-3                         #Kg\n",
      "g=9.8                                #m/s**2\n",
      "l=0.5                                #m\n",
      "r=10**-2\n",
      "u=10**-7\n",
      "\n",
      "#Calculation\n",
      "import math\n",
      "I=math.sqrt((M*g*r)/(u*2*l))\n",
      "\n",
      "#Result\n",
      "print\"Value of current is\", round(I,2),\"A\""
     ],
     "language": "python",
     "metadata": {},
     "outputs": [
      {
       "output_type": "stream",
       "stream": "stdout",
       "text": [
        "Value of current is 171.46 A\n"
       ]
      }
     ],
     "prompt_number": 186
    },
    {
     "cell_type": "heading",
     "level": 2,
     "metadata": {},
     "source": [
      "Example 12.37 Page no 387"
     ]
    },
    {
     "cell_type": "code",
     "collapsed": false,
     "input": [
      "#Given\n",
      "n=900\n",
      "l=0.6\n",
      "u=10**-7\n",
      "l2=0.02                                   #m\n",
      "l1=6\n",
      "m=2.5*10**-3                               #Kg\n",
      "g=9.8\n",
      "\n",
      "#Calculation\n",
      "import math\n",
      "n1=n/l\n",
      "B=4*math.pi*n1\n",
      "F=B*l1*l2\n",
      "I=m*g/F\n",
      "\n",
      "#Result\n",
      "print\"Current in the winding of the secondary is\", round(I*10**7,1),\"A\""
     ],
     "language": "python",
     "metadata": {},
     "outputs": [
      {
       "output_type": "stream",
       "stream": "stdout",
       "text": [
        "Current in the winding of the secondary is 108.3 A\n"
       ]
      }
     ],
     "prompt_number": 197
    },
    {
     "cell_type": "heading",
     "level": 2,
     "metadata": {},
     "source": [
      "Example 12.38 Page no 387"
     ]
    },
    {
     "cell_type": "code",
     "collapsed": false,
     "input": [
      "#Given\n",
      "A=1.6*10**-3                          #m**2\n",
      "n=200\n",
      "B=0.2                                  #T\n",
      "a=30                                    #degree\n",
      "K=10**-6                                 #N m /degree\n",
      "a1=0.1\n",
      "\n",
      "#Calculation\n",
      "Imax=K*a/(n*B*A)\n",
      "Imin=K*a1/(n*B*A)\n",
      "\n",
      "#Result\n",
      "print\"(i) Minimum current is\",round(Imax*10**4,2),\"*10**-4 A\"\n",
      "print\"(ii) Smallest current that can be detected is\",Imin,\"A\""
     ],
     "language": "python",
     "metadata": {},
     "outputs": [
      {
       "output_type": "stream",
       "stream": "stdout",
       "text": [
        "(i) Minimum current is 4.69 *10**-4 A\n",
        "(ii) Smallest current that can be detected is 1.5625e-06 A\n"
       ]
      }
     ],
     "prompt_number": 204
    },
    {
     "cell_type": "heading",
     "level": 2,
     "metadata": {},
     "source": [
      "Example 12.39 Page no 388 "
     ]
    },
    {
     "cell_type": "code",
     "collapsed": false,
     "input": [
      "#Given\n",
      "R=5000.0                                  #ohm/V\n",
      "V=5\n",
      "V1=20.0\n",
      "\n",
      "#Calculation\n",
      "Ig=1/R\n",
      "G=V/Ig\n",
      "R1=(V1/Ig)-G\n",
      "Rn=R1+G\n",
      "Rv=Rn/V1\n",
      "\n",
      "#Result\n",
      "print\"New voltmeter will be still graded as\", Rv,\"ohm/V\""
     ],
     "language": "python",
     "metadata": {},
     "outputs": [
      {
       "output_type": "stream",
       "stream": "stdout",
       "text": [
        "New voltmeter will be still graded as 5000.0 ohm/V\n"
       ]
      }
     ],
     "prompt_number": 212
    },
    {
     "cell_type": "heading",
     "level": 2,
     "metadata": {},
     "source": [
      "Example 12.40 Page no 388"
     ]
    },
    {
     "cell_type": "code",
     "collapsed": false,
     "input": [
      "#Given\n",
      "V1=100                         #V\n",
      "Rv=400.0              \n",
      "\n",
      "#Calculation\n",
      "I1=V1/Rv\n",
      "V=I1*20\n",
      "V2=V1+V\n",
      "V3=V2-V1\n",
      "\n",
      "#Result\n",
      "print\"Error in the reading of the voltmeter is\",V3,\"V\""
     ],
     "language": "python",
     "metadata": {},
     "outputs": [
      {
       "output_type": "stream",
       "stream": "stdout",
       "text": [
        "Error in the reading of the voltmeter is 5.0 V\n"
       ]
      }
     ],
     "prompt_number": 215
    }
   ],
   "metadata": {}
  }
 ]
}