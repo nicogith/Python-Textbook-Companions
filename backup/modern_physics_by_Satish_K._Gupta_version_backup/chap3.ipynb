{
 "metadata": {
  "name": "",
  "signature": "sha256:c3ec75ccee40d0eb91752b49524186dbe794af4f0e24a564bb72af8d09f81af1"
 },
 "nbformat": 3,
 "nbformat_minor": 0,
 "worksheets": [
  {
   "cells": [
    {
     "cell_type": "heading",
     "level": 1,
     "metadata": {},
     "source": [
      "Chapter 3 Electric potential"
     ]
    },
    {
     "cell_type": "heading",
     "level": 2,
     "metadata": {},
     "source": [
      "Example 3.1 Page no 65"
     ]
    },
    {
     "cell_type": "code",
     "collapsed": false,
     "input": [
      "#Given\n",
      "q=4.0                               #c\n",
      "Va=-10                            #V\n",
      "Wab=100                           #joule\n",
      "\n",
      "#Calculation\n",
      "V=(Wab/q)+Va\n",
      "\n",
      "#Result\n",
      "print\"The value of V is\", V,\"Volts\""
     ],
     "language": "python",
     "metadata": {},
     "outputs": [
      {
       "output_type": "stream",
       "stream": "stdout",
       "text": [
        "The value of V is 15.0 Volts\n"
       ]
      }
     ],
     "prompt_number": 4
    },
    {
     "cell_type": "heading",
     "level": 2,
     "metadata": {},
     "source": [
      "Example 3.2 Page no 65"
     ]
    },
    {
     "cell_type": "code",
     "collapsed": false,
     "input": [
      "#Given\n",
      "Z=79\n",
      "e=1.6*10**-19                      #C\n",
      "r=6.6*10**-15                      #m\n",
      "m=9*10**9\n",
      "\n",
      "#Calculation\n",
      "q=Z*e\n",
      "V=(m*q)/r\n",
      "\n",
      "#Result\n",
      "print\"Electric potential at the surface of a gold nucleus is\", round(V*10**-7,3),\"*10**7 V\""
     ],
     "language": "python",
     "metadata": {},
     "outputs": [
      {
       "output_type": "stream",
       "stream": "stdout",
       "text": [
        "Electric potential at the surface of a gold nucleus is 1.724 *10**7 V\n"
       ]
      }
     ],
     "prompt_number": 10
    },
    {
     "cell_type": "heading",
     "level": 2,
     "metadata": {},
     "source": [
      "Example 3.3 Page no 65"
     ]
    },
    {
     "cell_type": "code",
     "collapsed": false,
     "input": [
      "#Given\n",
      "q=4*10**-7                         #C\n",
      "r=0.09                              #m\n",
      "m=9*10**9\n",
      "a=2*10**-9\n",
      "\n",
      "#Calculation\n",
      "Vp=(m*q)/r\n",
      "W=a*Vp\n",
      "\n",
      "#Result\n",
      "print\"(a) Potential at point P is\", Vp*10**-4,\"*10**4 V\"\n",
      "print\"(b) Work done is\", W,\"J\""
     ],
     "language": "python",
     "metadata": {},
     "outputs": [
      {
       "output_type": "stream",
       "stream": "stdout",
       "text": [
        "(a) Potential at point P is 4.0 *10**4 V\n",
        "(b) Work done is 8e-05 J\n"
       ]
      }
     ],
     "prompt_number": 17
    },
    {
     "cell_type": "heading",
     "level": 2,
     "metadata": {},
     "source": [
      "Example 3.4 Page no 66"
     ]
    },
    {
     "cell_type": "code",
     "collapsed": false,
     "input": [
      "#Given\n",
      "q=20*10**-6                              #C\n",
      "r1=0.1                                  #m\n",
      "r2=0.05                                   #m\n",
      "m=9*10**9\n",
      "e=1.6*10**-19\n",
      "\n",
      "#Calculation\n",
      "Va=(m*q)/r1\n",
      "Vb=(m*q)/r2\n",
      "Wab=-(Va-Vb)*e\n",
      "\n",
      "#Result\n",
      "print\"Potential at point A is\", Va*10**-6,\"*10**6 V\"\n",
      "print\"Potential at point b is\", Vb*10**-6,\"*10**6 V\"\n",
      "print\"Work done is\",Wab,\"J\""
     ],
     "language": "python",
     "metadata": {},
     "outputs": [
      {
       "output_type": "stream",
       "stream": "stdout",
       "text": [
        "Potential at point A is 1.8 *10**6 V\n",
        "Potential at point b is 3.6 *10**6 V\n",
        "Work done is 2.88e-13 J\n"
       ]
      }
     ],
     "prompt_number": 29
    },
    {
     "cell_type": "heading",
     "level": 2,
     "metadata": {},
     "source": [
      "Example 3.5 Page no 66"
     ]
    },
    {
     "cell_type": "code",
     "collapsed": false,
     "input": [
      "#Given\n",
      "m=9.0*10**9\n",
      "r=0.5\n",
      "a=16\n",
      "\n",
      "#Calculation\n",
      "q=(a*r)/m\n",
      "\n",
      "#Result\n",
      "print\"Magnitude of charge is\", round(q*10**10,2)*10**-10,\"C\""
     ],
     "language": "python",
     "metadata": {},
     "outputs": [
      {
       "output_type": "stream",
       "stream": "stdout",
       "text": [
        "Magnitude of charge is 8.89e-10 C\n"
       ]
      }
     ],
     "prompt_number": 35
    },
    {
     "cell_type": "heading",
     "level": 2,
     "metadata": {},
     "source": [
      "Example 3.6 Page no 66"
     ]
    },
    {
     "cell_type": "code",
     "collapsed": false,
     "input": [
      "#Given\n",
      "q1=2*10**-6                          #c\n",
      "q2=-2*10**-6\n",
      "q3=-3*10**-6\n",
      "q4=6*10**-6\n",
      "r=1.0                                  #m\n",
      "m=9*10**9\n",
      "\n",
      "#Calculation\n",
      "V=m*(q1+q2+q3+q4)/r\n",
      "\n",
      "#Result\n",
      "print\"Potential at the centre of the square is\",V*10**-4,\"*10**4 V\""
     ],
     "language": "python",
     "metadata": {},
     "outputs": [
      {
       "output_type": "stream",
       "stream": "stdout",
       "text": [
        "Potential at the centre of the square is 2.7 *10**4 V\n"
       ]
      }
     ],
     "prompt_number": 41
    },
    {
     "cell_type": "heading",
     "level": 2,
     "metadata": {},
     "source": [
      "Example 3.7 Page no 66"
     ]
    },
    {
     "cell_type": "code",
     "collapsed": false,
     "input": [
      "#Given\n",
      "m=9*10**9\n",
      "q=5*10**-6\n",
      "r=0.1\n",
      "\n",
      "#Calculation\n",
      "V=(6*m*q)/r\n",
      "\n",
      "#Result\n",
      "print\"Potential at the centre of the hexagon is\", V*10**-6,\"*10**6 V\""
     ],
     "language": "python",
     "metadata": {},
     "outputs": [
      {
       "output_type": "stream",
       "stream": "stdout",
       "text": [
        "Potential at the centre of the hexagon is 2.7 *10**6 V\n"
       ]
      }
     ],
     "prompt_number": 45
    },
    {
     "cell_type": "heading",
     "level": 2,
     "metadata": {},
     "source": [
      "Example 3.9 Page no 67"
     ]
    },
    {
     "cell_type": "code",
     "collapsed": false,
     "input": [
      "#Given\n",
      "r=0.1                            #m\n",
      "q=200*10**-6                     #C\n",
      "m=9*10**9\n",
      "\n",
      "#Calculation\n",
      "V=(m*q)/r\n",
      "\n",
      "#Result\n",
      "print\"Electric potential at the centre is\", V*10**-7,\"*10**7 V\""
     ],
     "language": "python",
     "metadata": {},
     "outputs": [
      {
       "output_type": "stream",
       "stream": "stdout",
       "text": [
        "Electric potential at the centre is 1.8 *10**7 V\n"
       ]
      }
     ],
     "prompt_number": 50
    },
    {
     "cell_type": "heading",
     "level": 2,
     "metadata": {},
     "source": [
      "Example 3.11 Page no 67"
     ]
    },
    {
     "cell_type": "code",
     "collapsed": false,
     "input": [
      "#Given\n",
      "a=0.2                         #m\n",
      "m=9*10**9\n",
      "q1=2*10**-9\n",
      "q2=4*10**-9\n",
      "q3=8*10**-9\n",
      "\n",
      "#Calculation\n",
      "import math\n",
      "V=m*((q1/a)+(q2/(a*math.sqrt(2)))+(q3/a))\n",
      "b=0.1*math.sqrt(2)\n",
      "V0=m*((q1/b)+(q2/b)+(q3/b))\n",
      "W=q*(V0-V)\n",
      "\n",
      "#Result\n",
      "print\"Required work is\",round(W*10**2,2)*10**-7,\"J\""
     ],
     "language": "python",
     "metadata": {},
     "outputs": [
      {
       "output_type": "stream",
       "stream": "stdout",
       "text": [
        "Required work is 6.27e-07 J\n"
       ]
      }
     ],
     "prompt_number": 62
    },
    {
     "cell_type": "heading",
     "level": 2,
     "metadata": {},
     "source": [
      "Example 3.12 Page no 68"
     ]
    },
    {
     "cell_type": "code",
     "collapsed": false,
     "input": [
      "#Given\n",
      "V=60\n",
      "r=0.05\n",
      "\n",
      "#Calculation\n",
      "E=-V/r\n",
      "\n",
      "#Result\n",
      "print\"Electric field intensity between the two plate is\", E,\"V/m\""
     ],
     "language": "python",
     "metadata": {},
     "outputs": [
      {
       "output_type": "stream",
       "stream": "stdout",
       "text": [
        "Electric field intensity between the two plate is -1200.0 V/m\n"
       ]
      }
     ],
     "prompt_number": 66
    },
    {
     "cell_type": "heading",
     "level": 2,
     "metadata": {},
     "source": [
      "Example 3.13 Page no 68"
     ]
    },
    {
     "cell_type": "code",
     "collapsed": false,
     "input": [
      "#Given\n",
      "e=1.6*10**-19\n",
      "m=3*10**-16                             #Kg\n",
      "r=5*10**-3                              #m\n",
      "g=9.8\n",
      "\n",
      "#Calculation\n",
      "q=10*e\n",
      "V=(m*g*r)/q\n",
      "\n",
      "#Result\n",
      "print round(V,2),\"V\""
     ],
     "language": "python",
     "metadata": {},
     "outputs": [
      {
       "output_type": "stream",
       "stream": "stdout",
       "text": [
        "9.19 V\n"
       ]
      }
     ],
     "prompt_number": 71
    },
    {
     "cell_type": "heading",
     "level": 2,
     "metadata": {},
     "source": [
      "Example 3.14 Page no 68"
     ]
    },
    {
     "cell_type": "code",
     "collapsed": false,
     "input": [
      "#Given\n",
      "q1=7*10**-6                     #c\n",
      "q2=-2*10**-6                    #C\n",
      "r12=0.18                        #m\n",
      "m=9*10**9\n",
      "\n",
      "#Calculation\n",
      "U=m*((q1*q2)/r12)\n",
      "W=0-U\n",
      "\n",
      "#Result\n",
      "print\"(a) Electrostatic potential energy of a system is\",U,\"J\"\n",
      "print\"(b) work required is\", W,\"J\""
     ],
     "language": "python",
     "metadata": {},
     "outputs": [
      {
       "output_type": "stream",
       "stream": "stdout",
       "text": [
        "(a) Electrostatic potential energy of a system is -0.7 J\n",
        "(b) work required is 0.7 J\n"
       ]
      }
     ],
     "prompt_number": 78
    },
    {
     "cell_type": "heading",
     "level": 2,
     "metadata": {},
     "source": [
      "Example 3.15 Page no 68"
     ]
    },
    {
     "cell_type": "code",
     "collapsed": false,
     "input": [
      "#Given\n",
      "m=9*10**9\n",
      "e=1.6*10**-19                             #C\n",
      "r=5.3*10**-11                             #m\n",
      "\n",
      "#Calculation\n",
      "V=(m*e)/r\n",
      "U=((m*e*-e)/r)/e\n",
      "q=2*e\n",
      "V1=(m*q)/r\n",
      "\n",
      "#Result\n",
      "print\"(a) Electric potential is\", round(V,2),\"V\"\n",
      "print\"(b) Electric potential energy is\",round(V1,2),\"V\""
     ],
     "language": "python",
     "metadata": {},
     "outputs": [
      {
       "output_type": "stream",
       "stream": "stdout",
       "text": [
        "(a) Electric potential is 27.17 V\n",
        "(b) Electric potential energy is 54.34 V\n"
       ]
      }
     ],
     "prompt_number": 91
    },
    {
     "cell_type": "heading",
     "level": 2,
     "metadata": {},
     "source": [
      "Example 3.16 Page no 69"
     ]
    },
    {
     "cell_type": "code",
     "collapsed": false,
     "input": [
      "#Given\n",
      "r12=1.5*10**-10                    #m\n",
      "r13=10.0**-10\n",
      "q1=1.6*10**-19                        #C\n",
      "q3=-1.6*10**-19\n",
      "m=9*10**9\n",
      "\n",
      "#Calculation\n",
      "U=m*(((q1**2)/r12)+((q1*q3)/r13)+((q1*q3)/r13))/q1\n",
      "\n",
      "#Result\n",
      "print\"Potential energy is\",U,\"ev\""
     ],
     "language": "python",
     "metadata": {},
     "outputs": [
      {
       "output_type": "stream",
       "stream": "stdout",
       "text": [
        "Potential energy is -19.2 ev\n"
       ]
      }
     ],
     "prompt_number": 109
    },
    {
     "cell_type": "heading",
     "level": 2,
     "metadata": {},
     "source": [
      "Example 3.17 Page no 69"
     ]
    },
    {
     "cell_type": "code",
     "collapsed": false,
     "input": [
      "#Given\n",
      "E=10**5                           #N/C\n",
      "q=10**-6                      #C\n",
      "a=0.02                           #m\n",
      "A=1\n",
      "\n",
      "#Calculation'\n",
      "import math\n",
      "p=q*a\n",
      "t=p*E*A\n",
      "W=p*E*(math.cos(0*3.14/180.0)-math.cos(180*3.14/180.0))\n",
      "\n",
      "#Result\n",
      "print\"(i) Torque acting on dipole is\",t,\"N m\"\n",
      "print\"(ii) Work done is\", round(W,3),\"J\""
     ],
     "language": "python",
     "metadata": {},
     "outputs": [
      {
       "output_type": "stream",
       "stream": "stdout",
       "text": [
        "(i) Torque acting on dipole is 0.002 N m\n",
        "(ii) Work done is 0.004 J\n"
       ]
      }
     ],
     "prompt_number": 126
    },
    {
     "cell_type": "heading",
     "level": 2,
     "metadata": {},
     "source": [
      "Example 3.18 Page no 69"
     ]
    },
    {
     "cell_type": "code",
     "collapsed": false,
     "input": [
      "#Given\n",
      "m=9*10**9\n",
      "q=8*10**-3\n",
      "q0=-2*10**-9\n",
      "ra=0.03\n",
      "rb=0.04\n",
      "\n",
      "#Calculation\n",
      "W=(m*q*q0*(1/rb-1/ra))\n",
      "\n",
      "#Result\n",
      "print\"Work done is\", W,\"J\""
     ],
     "language": "python",
     "metadata": {},
     "outputs": [
      {
       "output_type": "stream",
       "stream": "stdout",
       "text": [
        "Work done is 1.2 J\n"
       ]
      }
     ],
     "prompt_number": 129
    },
    {
     "cell_type": "heading",
     "level": 2,
     "metadata": {},
     "source": [
      "Example 3.19 Page no 69"
     ]
    },
    {
     "cell_type": "code",
     "collapsed": false,
     "input": [
      "#Given\n",
      "qa=1.5*10**-6                     #C\n",
      "qb=2.5*10**-6 \n",
      "a=0.15                                 #m\n",
      "m=9*10**9\n",
      "a1=0.18\n",
      "\n",
      "#Calculation\n",
      "import math\n",
      "V=((qa+qb)/a)*m\n",
      "Ea=m*qa/a**2\n",
      "Eb=m*qb/a**2\n",
      "E=Eb-Ea\n",
      "V1=((qa+qb)/a1)*m\n",
      "Ea1=m*qa/a1**2\n",
      "Ea2=m*qb/a1**2\n",
      "A=math.atan(15/10.0)*180/3.14\n",
      "A1=2*A\n",
      "A2=math.cos(A1*3.14/180.0)\n",
      "E3=math.sqrt(Ea1**2+Ea2**2+(2*Ea1*Ea2*A2))\n",
      "tb=Ea1*math.sin(A1*3.14/180.0)/(Ea2+Ea1*math.cos(A1*3.14/180.0))\n",
      "B=math.atan(tb)*180/3.14\n",
      "y=90-A\n",
      "Y=y+B\n",
      "\n",
      "#Result\n",
      "print \"(a) Net electric field is\",E*10**-5,\"*10**5 N/C\"\n",
      "print\"(b) Angle is\" ,round(Y,1),\"degree\""
     ],
     "language": "python",
     "metadata": {},
     "outputs": [
      {
       "output_type": "stream",
       "stream": "stdout",
       "text": [
        "(a) Net electric field is 4.0 *10**5 N/C\n",
        "(b) Angle is 69.4 degree\n"
       ]
      }
     ],
     "prompt_number": 160
    },
    {
     "cell_type": "heading",
     "level": 2,
     "metadata": {},
     "source": [
      "Example 3.23 Page no 71"
     ]
    },
    {
     "cell_type": "code",
     "collapsed": false,
     "input": [
      "#Given\n",
      "q1=-1.6*10**-19                  #C\n",
      "q2=1.6*10**19\n",
      "r12=0.53*10**-10                  #m\n",
      "m=9*10**9\n",
      "r11=1.06*10**-10\n",
      "\n",
      "#Calculation\n",
      "U=((m*q1*q2)/r12)/q2\n",
      "K=U/2.0\n",
      "E=-(U-K)\n",
      "U1=((m*q1*q2)/r11)/q2\n",
      "E1=U-U1\n",
      "\n",
      "#Result\n",
      "print \"(a) Potential energy is\",round(U,2),\"ev\"\n",
      "print\"(b) Minimum work required is\",round(E,3) ,\"ev\"\n",
      "print\"(c) Potential energy is\",round(E1,3),\"ev\""
     ],
     "language": "python",
     "metadata": {},
     "outputs": [
      {
       "output_type": "stream",
       "stream": "stdout",
       "text": [
        "(a) Potential energy is -27.17 ev\n",
        "(b) Minimum work required is 13.585 ev\n",
        "(c) Potential energy is -13.585 ev\n"
       ]
      }
     ],
     "prompt_number": 181
    },
    {
     "cell_type": "heading",
     "level": 2,
     "metadata": {},
     "source": [
      "Example 3.24 Page no 72"
     ]
    },
    {
     "cell_type": "code",
     "collapsed": false,
     "input": [
      "#Given\n",
      "E=10**6                         #V/m\n",
      "p=10**-29                       #cm\n",
      "a=6.023*10**23\n",
      "\n",
      "#Calculation\n",
      "import math\n",
      "Np=a*p\n",
      "U1=Np*E\n",
      "U2=Np*E*math.cos(60*3.14/180.0)\n",
      "U=U1-U2\n",
      "\n",
      "#Result\n",
      "print\"Heat released by the substance is\", round(U,2),\"J\""
     ],
     "language": "python",
     "metadata": {},
     "outputs": [
      {
       "output_type": "stream",
       "stream": "stdout",
       "text": [
        "Heat released by the substance is 3.01 J\n"
       ]
      }
     ],
     "prompt_number": 188
    }
   ],
   "metadata": {}
  }
 ]
}