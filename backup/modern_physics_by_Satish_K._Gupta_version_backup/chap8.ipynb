{
 "metadata": {
  "name": "",
  "signature": "sha256:a40c0c75d3ca70fc3ecf4f82797b161ff3f00d80a8c81333303a3e01cdc2b09b"
 },
 "nbformat": 3,
 "nbformat_minor": 0,
 "worksheets": [
  {
   "cells": [
    {
     "cell_type": "heading",
     "level": 1,
     "metadata": {},
     "source": [
      "Chapter 8 Thermal effects of current"
     ]
    },
    {
     "cell_type": "heading",
     "level": 2,
     "metadata": {},
     "source": [
      "Example 8.1 Page no 258"
     ]
    },
    {
     "cell_type": "code",
     "collapsed": false,
     "input": [
      "#Given\n",
      "P=100.0                            #W\n",
      "V=220.0                           #V\n",
      "\n",
      "#Calculation\n",
      "I=P/V\n",
      "R=V**2/P\n",
      "\n",
      "#Result\n",
      "print\"Resistance is\",R,\"ohm\"\n",
      "print\"Current capacity is\",round(I,3),\"A\""
     ],
     "language": "python",
     "metadata": {},
     "outputs": [
      {
       "output_type": "stream",
       "stream": "stdout",
       "text": [
        "Resistance is 484.0 ohm\n",
        "Current capacity is 0.455 A\n"
       ]
      }
     ],
     "prompt_number": 5
    },
    {
     "cell_type": "heading",
     "level": 2,
     "metadata": {},
     "source": [
      "Example 8.2 Page no 258"
     ]
    },
    {
     "cell_type": "code",
     "collapsed": false,
     "input": [
      "#Given\n",
      "e=1.6*10**-19                #C\n",
      "P=100                        #W\n",
      "V=200.0                        #V\n",
      "t=1\n",
      "\n",
      "#Calculation\n",
      "I=P/V\n",
      "q=I*t\n",
      "N=q/e\n",
      "\n",
      "#Result\n",
      "print\"Number of electrons is\", N"
     ],
     "language": "python",
     "metadata": {},
     "outputs": [
      {
       "output_type": "stream",
       "stream": "stdout",
       "text": [
        "Number of electrons is 3.125e+18\n"
       ]
      }
     ],
     "prompt_number": 9
    },
    {
     "cell_type": "heading",
     "level": 2,
     "metadata": {},
     "source": [
      "Example 8.3 Page no 258"
     ]
    },
    {
     "cell_type": "code",
     "collapsed": false,
     "input": [
      "#Given\n",
      "P1=60                        #W\n",
      "P2=100.0                 \n",
      "\n",
      "#Calculation\n",
      "I=P1/P2\n",
      "\n",
      "#Result\n",
      "print\"Hence 100 W bulb draws more current\""
     ],
     "language": "python",
     "metadata": {},
     "outputs": [
      {
       "output_type": "stream",
       "stream": "stdout",
       "text": [
        "Hence 100 W bulb draws more current\n"
       ]
      }
     ],
     "prompt_number": 10
    },
    {
     "cell_type": "heading",
     "level": 2,
     "metadata": {},
     "source": [
      "Example 8.4 Page no 259"
     ]
    },
    {
     "cell_type": "code",
     "collapsed": false,
     "input": [
      "#Given\n",
      "P1=60.0                          #W\n",
      "P2=100\n",
      "\n",
      "#Calculation\n",
      "R=P2/P1\n",
      "\n",
      "#Result\n",
      "print\"(a) 60 W bulb will dissipate more power.\"\n",
      "print\"(b) Since 60 W bulb is dissipating more power, it glows brighter.\""
     ],
     "language": "python",
     "metadata": {},
     "outputs": [
      {
       "output_type": "stream",
       "stream": "stdout",
       "text": [
        "(a) 60 W bulb will dissipate more power.\n",
        "(b) Since 60 W bulb is dissipating more power, it glows brighter.\n"
       ]
      }
     ],
     "prompt_number": 12
    },
    {
     "cell_type": "heading",
     "level": 2,
     "metadata": {},
     "source": [
      "Example 8.5 Page no 259"
     ]
    },
    {
     "cell_type": "code",
     "collapsed": false,
     "input": [
      "#Given\n",
      "P1=500.0                       #W\n",
      "V1=220                        #V\n",
      "P2=100.0\n",
      "V2=220\n",
      "\n",
      "#Calculation\n",
      "R1=V1**2/P1\n",
      "R2=V2**2/P2\n",
      "I=V2/(R1+R2)\n",
      "P11=I**2*R1\n",
      "P22=I**2*R2\n",
      "\n",
      "#Result\n",
      "print\"(i) Power consumed by heater is\",round(P11,2),\"W\"\n",
      "print\"(ii) Power consumed by electric bulb is\",round(P22,2),\"W\""
     ],
     "language": "python",
     "metadata": {},
     "outputs": [
      {
       "output_type": "stream",
       "stream": "stdout",
       "text": [
        "(i) Power consumed by heater is 13.89 W\n",
        "(ii) Power consumed by electric bulb is 69.44 W\n"
       ]
      }
     ],
     "prompt_number": 18
    },
    {
     "cell_type": "heading",
     "level": 2,
     "metadata": {},
     "source": [
      "Example 8.6 Page no 259"
     ]
    },
    {
     "cell_type": "code",
     "collapsed": false,
     "input": [
      "#Given\n",
      "P=100.0                          #W\n",
      "V=220                            #V\n",
      "V1=110\n",
      "\n",
      "#Calculation\n",
      "R=V**2/P\n",
      "P1=V1**2/R\n",
      "\n",
      "#Result\n",
      "print\"Power consumed by the bulb is\",P1,\"W\""
     ],
     "language": "python",
     "metadata": {},
     "outputs": [
      {
       "output_type": "stream",
       "stream": "stdout",
       "text": [
        "Power consumed by the bulb is 25.0 W\n"
       ]
      }
     ],
     "prompt_number": 23
    },
    {
     "cell_type": "heading",
     "level": 2,
     "metadata": {},
     "source": [
      "Example 8.7 Page no 259"
     ]
    },
    {
     "cell_type": "code",
     "collapsed": false,
     "input": [
      "#Given\n",
      "P=550                       #W\n",
      "V=220                       #V\n",
      "V1=222.2                    #V\n",
      "V2=217.8                    #V\n",
      "\n",
      "#Calculation\n",
      "R=V**2/P\n",
      "P=V1**2/R\n",
      "P1=V2**2/R\n",
      "\n",
      "#Result\n",
      "print\"minimum power is\",round(P,0),\"W\"\n",
      "print\"maximum power is\",round(P1,0),\"W\""
     ],
     "language": "python",
     "metadata": {},
     "outputs": [
      {
       "output_type": "stream",
       "stream": "stdout",
       "text": [
        "minimum power is 561.0 W\n",
        "maximum power is 539.0 W\n"
       ]
      }
     ],
     "prompt_number": 30
    },
    {
     "cell_type": "heading",
     "level": 2,
     "metadata": {},
     "source": [
      "Example 8.8 Page no 259"
     ]
    },
    {
     "cell_type": "code",
     "collapsed": false,
     "input": [
      "#Given\n",
      "V=220\n",
      "P=60.0                   #W\n",
      "P1=85\n",
      "\n",
      "#Calculation\n",
      "import math\n",
      "R=V**2/P\n",
      "V1=math.sqrt(P1*R)\n",
      "\n",
      "#Result\n",
      "print\"Voltage fluctuation is\",round(V1,1),\"V\""
     ],
     "language": "python",
     "metadata": {},
     "outputs": [
      {
       "output_type": "stream",
       "stream": "stdout",
       "text": [
        "Voltage fluctuation is 261.9 V\n"
       ]
      }
     ],
     "prompt_number": 34
    },
    {
     "cell_type": "heading",
     "level": 2,
     "metadata": {},
     "source": [
      "Example 8.9 Page no 259"
     ]
    },
    {
     "cell_type": "code",
     "collapsed": false,
     "input": [
      "#Given\n",
      "P=50*10**3                  #W\n",
      "V=5000.0\n",
      "R=20\n",
      "\n",
      "#Calculation\n",
      "I=P/V\n",
      "P1=I**2*R\n",
      "P2=P-P1\n",
      "\n",
      "#Result \n",
      "print\"Power received by the factory is\",P2*10**-3,\"Kw\""
     ],
     "language": "python",
     "metadata": {},
     "outputs": [
      {
       "output_type": "stream",
       "stream": "stdout",
       "text": [
        "Power received by the factory is 48.0 Kw\n"
       ]
      }
     ],
     "prompt_number": 42
    },
    {
     "cell_type": "heading",
     "level": 2,
     "metadata": {},
     "source": [
      "Example 8.10 Page no 260"
     ]
    },
    {
     "cell_type": "code",
     "collapsed": false,
     "input": [
      "#Given\n",
      "R2=2                      #ohm\n",
      "R3=2                      #ohm\n",
      "I=3                       #A\n",
      "\n",
      "#Calculation\n",
      "P=I**2*R2\n",
      "R1=(R2*R3)/(R2+R3)\n",
      "P1=I**2*R1\n",
      "D=P+P1\n",
      "\n",
      "#Result\n",
      "print\"The maximum power is\",D,\"W\""
     ],
     "language": "python",
     "metadata": {},
     "outputs": [
      {
       "output_type": "stream",
       "stream": "stdout",
       "text": [
        "The maximum power is 27 W\n"
       ]
      }
     ],
     "prompt_number": 50
    },
    {
     "cell_type": "heading",
     "level": 2,
     "metadata": {},
     "source": [
      "Example 8.11 Page no 260"
     ]
    },
    {
     "cell_type": "code",
     "collapsed": false,
     "input": [
      "#Given\n",
      "R=0.5                  #ohm\n",
      "I=100                  #A\n",
      "T=24*60*60\n",
      "\n",
      "#Calculation\n",
      "Q=I**2*R*T\n",
      "\n",
      "#Result\n",
      "print\"Energy is being lost per day in the form of heat is\",Q*10**-8,\"*10**8 J\""
     ],
     "language": "python",
     "metadata": {},
     "outputs": [
      {
       "output_type": "stream",
       "stream": "stdout",
       "text": [
        "Energy is being lost per day in the form of heat is 4.32 *10**8 J\n"
       ]
      }
     ],
     "prompt_number": 59
    },
    {
     "cell_type": "heading",
     "level": 2,
     "metadata": {},
     "source": [
      "Example 8.12 Page no 260"
     ]
    },
    {
     "cell_type": "code",
     "collapsed": false,
     "input": [
      "#Given\n",
      "R=50.0                     #ohm\n",
      "V=10                       #V\n",
      "T=3600                     #s\n",
      "\n",
      "#Calculation\n",
      "I=V/R\n",
      "W=I**2*R*T\n",
      "\n",
      "#Result \n",
      "print\"The source of this energy is\",W,\"J\""
     ],
     "language": "python",
     "metadata": {},
     "outputs": [
      {
       "output_type": "stream",
       "stream": "stdout",
       "text": [
        "The source of this energy is 7200.0 J\n"
       ]
      }
     ],
     "prompt_number": 64
    },
    {
     "cell_type": "heading",
     "level": 2,
     "metadata": {},
     "source": [
      "Example 8.13 Page no 260"
     ]
    },
    {
     "cell_type": "code",
     "collapsed": false,
     "input": [
      "#Given\n",
      "P=100                         #W\n",
      "V=200                         #V\n",
      "T=60\n",
      "I=10\n",
      "\n",
      "#Calculation\n",
      "R=V**2/P\n",
      "W=(P**2/R)*I*T\n",
      "\n",
      "#Result \n",
      "print\"The heat & light produced by the bulb is\",W,\"J\""
     ],
     "language": "python",
     "metadata": {},
     "outputs": [
      {
       "output_type": "stream",
       "stream": "stdout",
       "text": [
        "The heat & light produced by the bulb is 15000 J\n"
       ]
      }
     ],
     "prompt_number": 70
    },
    {
     "cell_type": "heading",
     "level": 2,
     "metadata": {},
     "source": [
      "Example 8.14 Page no 260"
     ]
    },
    {
     "cell_type": "code",
     "collapsed": false,
     "input": [
      "#Given\n",
      "R1=3                   #ohm\n",
      "R2=6\n",
      "R3=2\n",
      "V=12                     #V\n",
      "T=300                    #s\n",
      "\n",
      "#Calculation\n",
      "R12=R1*R2/(R1+R2)\n",
      "R=R12+R3\n",
      "I=V/R\n",
      "I1=I*R2/(R1+R2)\n",
      "I2=I*R1/(R1+R2)\n",
      "Q1=I1**2*R1*T\n",
      "Q2=I2**2*R2*T\n",
      "Q3=I**2*R3*T\n",
      "\n",
      "#Result \n",
      "print\"Heat produced in resistance R1 is\",Q1,\"J\"\n",
      "print\"Heat produced in resistance R2 is\",Q2,\"J\"\n",
      "print\"Heat produced in resistance R3 is\",Q3,\"J\""
     ],
     "language": "python",
     "metadata": {},
     "outputs": [
      {
       "output_type": "stream",
       "stream": "stdout",
       "text": [
        "Heat produced in resistance R1 is 3600 J\n",
        "Heat produced in resistance R2 is 1800 J\n",
        "Heat produced in resistance R3 is 5400 J\n"
       ]
      }
     ],
     "prompt_number": 82
    },
    {
     "cell_type": "heading",
     "level": 2,
     "metadata": {},
     "source": [
      "Example 8.15 Page no 260"
     ]
    },
    {
     "cell_type": "code",
     "collapsed": false,
     "input": [
      "#Given\n",
      "t1=300                           #S\n",
      "t2=600                           #S\n",
      "\n",
      "#Calculation\n",
      "t=(t1+t2)/60.0\n",
      "\n",
      "#Result\n",
      "print\"Time required to boil water is\",t,\"minute\""
     ],
     "language": "python",
     "metadata": {},
     "outputs": [
      {
       "output_type": "stream",
       "stream": "stdout",
       "text": [
        "Time required to boil water is 15.0 minute\n"
       ]
      }
     ],
     "prompt_number": 3
    },
    {
     "cell_type": "heading",
     "level": 2,
     "metadata": {},
     "source": [
      "Example 8.16 Page no 261"
     ]
    },
    {
     "cell_type": "code",
     "collapsed": false,
     "input": [
      "#Given\n",
      "R=100                         #ohm\n",
      "I=0.5                         #A\n",
      "W=10*10**-3                   #Kg\n",
      "M=250*10**-3                  #Kg\n",
      "T=1800                        #s\n",
      "C=4.2*10**3\n",
      "\n",
      "#Calculation\n",
      "Q=I**2*R*T\n",
      "V=Q/((W+M)*C)\n",
      "\n",
      "#Result\n",
      "print\"The rise of the temperature is\",round(V,1),\"C\""
     ],
     "language": "python",
     "metadata": {},
     "outputs": [
      {
       "output_type": "stream",
       "stream": "stdout",
       "text": [
        "The rise of the temperature is 41.2 C\n"
       ]
      }
     ],
     "prompt_number": 14
    },
    {
     "cell_type": "heading",
     "level": 2,
     "metadata": {},
     "source": [
      "Example 8.17 Page no 261"
     ]
    },
    {
     "cell_type": "code",
     "collapsed": false,
     "input": [
      "#Given\n",
      "V=200\n",
      "R=100\n",
      "R1=121.0\n",
      "A=1000                     #W\n",
      "B=400                       #W\n",
      "C=400                      #W\n",
      "T=116                      #h\n",
      "G=2.50\n",
      "\n",
      "#Calculation\n",
      "D=V**2/R\n",
      "D1=V**2/R1\n",
      "E=A+B+C+D1\n",
      "F=E*T\n",
      "H=F*G\n",
      "\n",
      "#Result \n",
      "print\"The bill for february is\",round(H*10**-3,2)"
     ],
     "language": "python",
     "metadata": {},
     "outputs": [
      {
       "output_type": "stream",
       "stream": "stdout",
       "text": [
        "The bill for february is 617.87\n"
       ]
      }
     ],
     "prompt_number": 26
    },
    {
     "cell_type": "heading",
     "level": 2,
     "metadata": {},
     "source": [
      "Example 8.18 Page no 261"
     ]
    },
    {
     "cell_type": "code",
     "collapsed": false,
     "input": [
      "#Given\n",
      "a=0.12                        #KWh\n",
      "b=1.44                        #KWh\n",
      "c=0.48                        #KWh\n",
      "d=0.24    \n",
      "e=0.30\n",
      "i=2.70\n",
      "g=30\n",
      "\n",
      "#Calculation\n",
      "f=a+b+c+d+e\n",
      "h=2*g*f\n",
      "k=i*h\n",
      "\n",
      "#Result\n",
      "print\"Electric bill for 2 month is\", k"
     ],
     "language": "python",
     "metadata": {},
     "outputs": [
      {
       "output_type": "stream",
       "stream": "stdout",
       "text": [
        "Electric bill for 2 month is 417.96\n"
       ]
      }
     ],
     "prompt_number": 103
    },
    {
     "cell_type": "heading",
     "level": 2,
     "metadata": {},
     "source": [
      "Example 8.19 Page no 261"
     ]
    },
    {
     "cell_type": "code",
     "collapsed": false,
     "input": [
      "#Given\n",
      "P=100*10**6                            #W\n",
      "V1=20000\n",
      "V2=200                                  #V\n",
      "\n",
      "#Calculation\n",
      "I1=P/V1\n",
      "Q1=I1**2\n",
      "I2=P/V2\n",
      "Q2=I2**2\n",
      "\n",
      "#Result\n",
      "print\"Transmission done at V1=20,000 is\", Q1*10**-5,\"10**5\"\n",
      "print\"Transmission done at V2=200 V is\", Q2*10**-10,\"10**10\"\n",
      "print\"Less power wastage when transmission is done at Q1\""
     ],
     "language": "python",
     "metadata": {},
     "outputs": [
      {
       "output_type": "stream",
       "stream": "stdout",
       "text": [
        "Transmission done at V1=20,000 is 250.0 10**5\n",
        "Transmission done at V2=200 V is 25.0 10**10\n",
        "Less power wastage when transmission is done at Q1\n"
       ]
      }
     ],
     "prompt_number": 105
    },
    {
     "cell_type": "heading",
     "level": 2,
     "metadata": {},
     "source": [
      "Example 8.20 Page no 262"
     ]
    },
    {
     "cell_type": "code",
     "collapsed": false,
     "input": [
      "#Given\n",
      "p1=4.9*10**-7                                #ohm m\n",
      "l1=8.456                                     #m\n",
      "b1=1.0                                       #mm\n",
      "t1=0.03*10**-6                                      #m\n",
      "l2=4.235\n",
      "A2=0.12*10**-6\n",
      "p2=1.1*10**-6\n",
      "\n",
      "#Calculation\n",
      "A1=b1*t1\n",
      "R1=p1*(l1/A1)\n",
      "R2=p2*(l2/A2)\n",
      "\n",
      "#Result\n",
      "print\"Rate for heat production for constantan ribbon is\", round(R1,3),\"W\"\n",
      "print\"Rate for heat production for nichrome ribbon is\",round(R2,3),\"W\""
     ],
     "language": "python",
     "metadata": {},
     "outputs": [
      {
       "output_type": "stream",
       "stream": "stdout",
       "text": [
        "Rate for heat production for constantan ribbon is 138.115 W\n",
        "Rate for heat production for nichrome ribbon is 38.821 W\n"
       ]
      }
     ],
     "prompt_number": 115
    },
    {
     "cell_type": "heading",
     "level": 2,
     "metadata": {},
     "source": [
      "Example 8.21 Page no 262"
     ]
    },
    {
     "cell_type": "code",
     "collapsed": false,
     "input": [
      "#Given\n",
      "V=50                      #V\n",
      "I=12                      #A\n",
      "d=70\n",
      "\n",
      "#Calculation\n",
      "g=V*I\n",
      "t=g*(d/100.0)\n",
      "v=t/I**2\n",
      "\n",
      "#Result \n",
      "print\"The resistance of the motor is\",round(v,2),\"ohm\""
     ],
     "language": "python",
     "metadata": {},
     "outputs": [
      {
       "output_type": "stream",
       "stream": "stdout",
       "text": [
        "The resistance of the motor is 2.92 ohm\n"
       ]
      }
     ],
     "prompt_number": 76
    },
    {
     "cell_type": "heading",
     "level": 2,
     "metadata": {},
     "source": [
      "Example 8.22 Page no 262"
     ]
    },
    {
     "cell_type": "code",
     "collapsed": false,
     "input": [
      "#Given\n",
      "a=100\n",
      "b=6\n",
      "c=8.0\n",
      "d=2.0\n",
      "f=0.50\n",
      "t=15*60\n",
      "\n",
      "#Calculation\n",
      "e=a-b*d\n",
      "x=b*f\n",
      "r=(e/c)-x\n",
      "r1=a*r\n",
      "r2=r**2*(r+b*f)\n",
      "r3=r1-r2\n",
      "M=r3*t\n",
      "\n",
      "#Result\n",
      "print\"Resistance in the charging circuit is\",r,\"ohm\"\n",
      "print\"The power supplied by the d.c source is\",r1,\"W\"\n",
      "print\"The power dissipated as heat is\",r2,\"W\"\n",
      "print\"The power stored in the battery is\",r3,\"W\"\n",
      "print\"Energy stored in the battery in 15 minute is\",M,\"J\""
     ],
     "language": "python",
     "metadata": {},
     "outputs": [
      {
       "output_type": "stream",
       "stream": "stdout",
       "text": [
        "Resistance in the charging circuit is 8.0 ohm\n",
        "The power supplied by the d.c source is 800.0 W\n",
        "The power dissipated as heat is 704.0 W\n",
        "The power stored in the battery is 96.0 W\n",
        "Energy stored in the battery in 15 minute is 86400.0 J\n"
       ]
      }
     ],
     "prompt_number": 96
    },
    {
     "cell_type": "heading",
     "level": 2,
     "metadata": {},
     "source": [
      "Example 8.23 Page no 262"
     ]
    },
    {
     "cell_type": "code",
     "collapsed": false,
     "input": [
      "#Given\n",
      "V=64                          #V\n",
      "e=2.0                         #V\n",
      "n=8\n",
      "r=1/8.0\n",
      "R=7                            #ohm\n",
      "I=3.5                             #A\n",
      "b=3600\n",
      "\n",
      "#Calculation\n",
      "Te=e*n\n",
      "R1=r*n\n",
      "E=V*I\n",
      "E1=Te*I\n",
      "E11=I**2*(R+R1)\n",
      "Em=E-(E1+E11)\n",
      "Em1=Em*b\n",
      "Ec=E1*b\n",
      "\n",
      "#Result\n",
      "print\"(a) Mechanical energy yielded by motor is\", Em1,\"J\"\n",
      "print\"(b) Chemical energy stored in the battery is\",Ec,\"J\""
     ],
     "language": "python",
     "metadata": {},
     "outputs": [
      {
       "output_type": "stream",
       "stream": "stdout",
       "text": [
        "(a) Mechanical energy yielded by motor is 252000.0 J\n",
        "(b) Chemical energy stored in the battery is 201600.0 J\n"
       ]
      }
     ],
     "prompt_number": 130
    },
    {
     "cell_type": "heading",
     "level": 2,
     "metadata": {},
     "source": [
      "Example 8.25 Page no 263"
     ]
    },
    {
     "cell_type": "code",
     "collapsed": false,
     "input": [
      "#Given\n",
      "E=24                       #V\n",
      "r=4                        #ohm\n",
      "a=1\n",
      "\n",
      "#Calculation\n",
      "R=r/(2.0-a)\n",
      "I=E/(R+r)\n",
      "\n",
      "#Result\n",
      "print\"Current drawn from the battery is\", I,\"A\""
     ],
     "language": "python",
     "metadata": {},
     "outputs": [
      {
       "output_type": "stream",
       "stream": "stdout",
       "text": [
        "Current drawn from the battery is 3.0 A\n"
       ]
      }
     ],
     "prompt_number": 134
    }
   ],
   "metadata": {}
  }
 ]
}