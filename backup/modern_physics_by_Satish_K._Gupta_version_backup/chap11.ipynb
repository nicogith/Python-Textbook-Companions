{
 "metadata": {
  "name": "",
  "signature": "sha256:516acdbb9c17332f6e1ea973b0354e9af84e691b9ea2bf4ff9f153c48f9c31a8"
 },
 "nbformat": 3,
 "nbformat_minor": 0,
 "worksheets": [
  {
   "cells": [
    {
     "cell_type": "heading",
     "level": 1,
     "metadata": {},
     "source": [
      "Chapter 11 Magnetic Effects Of Current And Magnetism "
     ]
    },
    {
     "cell_type": "heading",
     "level": 2,
     "metadata": {},
     "source": [
      "Example 11.1 Page no 350"
     ]
    },
    {
     "cell_type": "code",
     "collapsed": false,
     "input": [
      "#Given \n",
      "i=90                #A\n",
      "a=1.5               #m\n",
      "b=2\n",
      "l=10**7\n",
      "\n",
      "#Calculation\n",
      "u=l*((b*i)/a)\n",
      "\n",
      "#Result\n",
      "print\"Magnitude of the magnetic field is\",u*10**-9,\"10**-5\",\"T\"\n",
      "print\"Direction of the magnetic field is south\""
     ],
     "language": "python",
     "metadata": {},
     "outputs": [
      {
       "output_type": "stream",
       "stream": "stdout",
       "text": [
        "Magnitude of the magnetic field is 1.2 10**-5 T\n",
        "Direction of the magnetic field is south\n"
       ]
      }
     ],
     "prompt_number": 10
    },
    {
     "cell_type": "heading",
     "level": 2,
     "metadata": {},
     "source": [
      "Example 11.2 Page no 350"
     ]
    },
    {
     "cell_type": "code",
     "collapsed": false,
     "input": [
      "#Given\n",
      "I=3                  #A\n",
      "a=0.15               #m\n",
      "e=10**-7\n",
      "b=2\n",
      "\n",
      "#Calculation\n",
      "Z=(e*b*I)/a\n",
      "\n",
      "#Result\n",
      "print\"The magnitude of the magnetic field is\",Z*10**6,\"10**-6\",\"T\""
     ],
     "language": "python",
     "metadata": {},
     "outputs": [
      {
       "output_type": "stream",
       "stream": "stdout",
       "text": [
        "The magnitude of the magnetic field is 4.0 10**-6 T\n"
       ]
      }
     ],
     "prompt_number": 16
    },
    {
     "cell_type": "heading",
     "level": 2,
     "metadata": {},
     "source": [
      "Example 11.4 Page no 351"
     ]
    },
    {
     "cell_type": "code",
     "collapsed": false,
     "input": [
      "#Given\n",
      "l=10                     #A\n",
      "a=0.05                   #cm\n",
      "b=10**-7\n",
      "a1=45                      #degree\n",
      "\n",
      "#Calculation\n",
      "import math\n",
      "B=b*(l/a)*(math.sin(a1*3.14/180.0)+math.sin(a1*3.14/180.0))\n",
      "B1=4*B\n",
      "\n",
      "#Result\n",
      "print\"Magnetic field induction is\",round(B1*10**4,2),\"*10**-4 T\""
     ],
     "language": "python",
     "metadata": {},
     "outputs": [
      {
       "output_type": "stream",
       "stream": "stdout",
       "text": [
        "Magnetic field induction is 1.13 *10**-4 T\n"
       ]
      }
     ],
     "prompt_number": 38
    },
    {
     "cell_type": "heading",
     "level": 2,
     "metadata": {},
     "source": [
      "Example 11.5 Page no 351"
     ]
    },
    {
     "cell_type": "code",
     "collapsed": false,
     "input": [
      "#Given\n",
      "n=10\n",
      "a=0.08                          #m\n",
      "l=2                             #A\n",
      "v=10**-7\n",
      "\n",
      "#Calculation\n",
      "import math\n",
      "B=(v*l*math.pi*n*l)/a\n",
      "\n",
      "#Result\n",
      "print\"Magnitude of the magnetic field is\", round(B*10**4,2),\"*10**-4 T\"\n",
      "print\"Direction of the field is vertically downward.\""
     ],
     "language": "python",
     "metadata": {},
     "outputs": [
      {
       "output_type": "stream",
       "stream": "stdout",
       "text": [
        "Magnitude of the magnetic field is 1.57 *10**-4 T\n",
        "Direction of the field is vertically downward.\n"
       ]
      }
     ],
     "prompt_number": 44
    },
    {
     "cell_type": "heading",
     "level": 2,
     "metadata": {},
     "source": [
      "Example 11.6 Page no 351"
     ]
    },
    {
     "cell_type": "code",
     "collapsed": false,
     "input": [
      "#Given\n",
      "v=2.2*10**6                           #m/s\n",
      "a=0.5*10**-10                          #m\n",
      "e=1.6*10**-19\n",
      "m=10**-7                                #N/a**2\n",
      "\n",
      "#Calculation\n",
      "import math\n",
      "I=e*v/(2*math.pi*a)\n",
      "B=m*2*math.pi*I/a\n",
      "\n",
      "#Result\n",
      "print\"Magnetic field produced at the centre is\", B,\"T\""
     ],
     "language": "python",
     "metadata": {},
     "outputs": [
      {
       "output_type": "stream",
       "stream": "stdout",
       "text": [
        "Magnetic field produced at the centre is 14.08 T\n"
       ]
      }
     ],
     "prompt_number": 49
    },
    {
     "cell_type": "heading",
     "level": 2,
     "metadata": {},
     "source": [
      "Example 11.8 Page no 352"
     ]
    },
    {
     "cell_type": "code",
     "collapsed": false,
     "input": [
      "#Given\n",
      "I=10                           #A\n",
      "a=0.03                          #m\n",
      "a1=360                         #degree\n",
      "a2=90\n",
      "a3=10**-7\n",
      "\n",
      "#Calculation\n",
      "import math\n",
      "A=a1-a2\n",
      "B=a3*I*3*math.pi/(a*2.0)\n",
      "\n",
      "#Result\n",
      "print\"Magnitude of magnetic field is\", round(B*10**4,2),\"*10**-4 T\""
     ],
     "language": "python",
     "metadata": {},
     "outputs": [
      {
       "output_type": "stream",
       "stream": "stdout",
       "text": [
        "Magnitude of magnetic field is 1.57 *10**-4 T\n"
       ]
      }
     ],
     "prompt_number": 55
    },
    {
     "cell_type": "heading",
     "level": 2,
     "metadata": {},
     "source": [
      "Example 11.10 Page no 352"
     ]
    },
    {
     "cell_type": "code",
     "collapsed": false,
     "input": [
      "#Given\n",
      "n=500\n",
      "I=7                            #A\n",
      "a=0.05                          #m\n",
      "x=0.12                           #m\n",
      "m=10**-7\n",
      "\n",
      "#Calculation\n",
      "import math\n",
      "B=(2*math.pi*n*I*a**2)/(a**2+x**2)**1.5\n",
      "B1=m*2*math.pi*n*I/a\n",
      "\n",
      "#Result\n",
      "print\"(a) Magnetic field at the point on the axis is\", round(B*10**-4,1),\"*10**-3 tesla\"\n",
      "print\"(b)Magnetic field at the centre of the coil is\",round(B1*10**2,2),\"*10**-2 tesla\""
     ],
     "language": "python",
     "metadata": {},
     "outputs": [
      {
       "output_type": "stream",
       "stream": "stdout",
       "text": [
        "(a) Magnetic field at the point on the axis is 2.5 *10**-3 tesla\n",
        "(b)Magnetic field at the centre of the coil is 4.4 *10**-2 tesla\n"
       ]
      }
     ],
     "prompt_number": 69
    },
    {
     "cell_type": "heading",
     "level": 2,
     "metadata": {},
     "source": [
      "Example 11.13 Page no 353"
     ]
    },
    {
     "cell_type": "code",
     "collapsed": false,
     "input": [
      "#Given\n",
      "B=2.52*10**-3                    #T\n",
      "l=0.5                             #m\n",
      "N=500\n",
      "\n",
      "#Calculation\n",
      "import math\n",
      "n=N/l\n",
      "I=B/(4*math.pi*10**-7*n)\n",
      "\n",
      "#Result\n",
      "print\"Current in the solenoid is\", round(I,0),\"A\""
     ],
     "language": "python",
     "metadata": {},
     "outputs": [
      {
       "output_type": "stream",
       "stream": "stdout",
       "text": [
        "Current in the solenoid is 2.0 A\n"
       ]
      }
     ],
     "prompt_number": 75
    },
    {
     "cell_type": "heading",
     "level": 2,
     "metadata": {},
     "source": [
      "Example 11.14 Page no 353"
     ]
    },
    {
     "cell_type": "code",
     "collapsed": false,
     "input": [
      "#Given\n",
      "I=5                     #A\n",
      "l=2.0                       #m\n",
      "n=1000\n",
      "n1=5\n",
      "\n",
      "#Calculation\n",
      "N=n*n1\n",
      "n2=N/l\n",
      "B=4*math.pi*10**-7*n2*I\n",
      "\n",
      "#Result\n",
      "print\"Magnetic field at the center is\", round(B*10**2,2),\"*10**-2 T\""
     ],
     "language": "python",
     "metadata": {},
     "outputs": [
      {
       "output_type": "stream",
       "stream": "stdout",
       "text": [
        "Magnetic field at the center is 1.57 *10**-2 T\n"
       ]
      }
     ],
     "prompt_number": 80
    },
    {
     "cell_type": "heading",
     "level": 2,
     "metadata": {},
     "source": [
      "Example 11.15 Page no 353"
     ]
    },
    {
     "cell_type": "code",
     "collapsed": false,
     "input": [
      "#Given\n",
      "a=16.0*10**-2                      #m\n",
      "n=20\n",
      "I=16                              #A\n",
      "b=10**-7\n",
      "a1=10.0*10**-2\n",
      "n1=25\n",
      "I1=18\n",
      "\n",
      "#Calculation\n",
      "import math\n",
      "B=b*2*math.pi*n*I/a\n",
      "B1=b*2*math.pi*n1*I1/a1\n",
      "B2=B1-B\n",
      "\n",
      "#Result\n",
      "print\"Magnitude of the magnetic field is\", round(B1*10**4,2),\"*10**-4 T\"\n",
      "print\"Direction is towards west\""
     ],
     "language": "python",
     "metadata": {},
     "outputs": [
      {
       "output_type": "stream",
       "stream": "stdout",
       "text": [
        "Magnitude of the magnetic field is 28.27 *10**-4 T\n",
        "Direction is towards west\n"
       ]
      }
     ],
     "prompt_number": 88
    },
    {
     "cell_type": "heading",
     "level": 2,
     "metadata": {},
     "source": [
      "Example 11.18 Page no 355"
     ]
    },
    {
     "cell_type": "code",
     "collapsed": false,
     "input": [
      "#Given\n",
      "l=11                     #A\n",
      "s=3500\n",
      "r1=25                     #cm\n",
      "r2=26\n",
      "\n",
      "#Calculation\n",
      "import math\n",
      "w=((r1+r2)/2.0)\n",
      "l1=2*math.pi*w\n",
      "n=s/l1\n",
      "B=4*math.pi*10**-7*n*l\n",
      "\n",
      "#Result\n",
      "print\"(a) Magnetic field outside the toroid is zero\"\n",
      "print\"(b) Magnetic field inside the core is\",round(B*10**4,2),\"*10**-2 T\"\n",
      "print\"(c) Magnetic field in the empty space is zero\""
     ],
     "language": "python",
     "metadata": {},
     "outputs": [
      {
       "output_type": "stream",
       "stream": "stdout",
       "text": [
        "(a) Magnetic field outside the toroid is zero\n",
        "(b) Magnetic field inside the core is 3.02 *10**-2 T\n",
        "(c) Magnetic field in the empty space is zero\n"
       ]
      }
     ],
     "prompt_number": 105
    }
   ],
   "metadata": {}
  }
 ]
}