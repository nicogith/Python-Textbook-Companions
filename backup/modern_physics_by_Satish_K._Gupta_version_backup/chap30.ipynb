{
 "metadata": {
  "name": "",
  "signature": "sha256:75345a10ab4b01b2d63b7c49ca20de9a23e8e81cbab11c7f6d702383f9b2feef"
 },
 "nbformat": 3,
 "nbformat_minor": 0,
 "worksheets": [
  {
   "cells": [
    {
     "cell_type": "heading",
     "level": 1,
     "metadata": {},
     "source": [
      "Chapter 30 Structure Of Nucleus"
     ]
    },
    {
     "cell_type": "heading",
     "level": 2,
     "metadata": {},
     "source": [
      "Example 30.1 Page no 840"
     ]
    },
    {
     "cell_type": "code",
     "collapsed": false,
     "input": [
      "#Given\n",
      "A1=197\n",
      "A2=107.0\n",
      "\n",
      "#Calculation\n",
      "R=(A1/A2)**(0.3)\n",
      "\n",
      "#Result\n",
      "print\"The ratio of the nuclear radii of the gold and silver isotope is\",round(R,3)"
     ],
     "language": "python",
     "metadata": {},
     "outputs": [
      {
       "output_type": "stream",
       "stream": "stdout",
       "text": [
        "The ratio of the nuclear radii of the gold and silver isotope is 1.201\n"
       ]
      }
     ],
     "prompt_number": 19
    },
    {
     "cell_type": "heading",
     "level": 2,
     "metadata": {},
     "source": [
      "Example 30.2 Page no 840"
     ]
    },
    {
     "cell_type": "code",
     "collapsed": false,
     "input": [
      "#Given\n",
      "R=1.2*10**-15                       #m\n",
      "M=1.67*10**-27                      #kg\n",
      "P1=10**3                            #kg m**-3\n",
      "\n",
      "#Calculation\n",
      "import math\n",
      "V=1.3*math.pi*(R**3)\n",
      "P=M/V\n",
      "A=P/P1\n",
      "\n",
      "#Result\n",
      "print\"Nuclear matter is denser than water is\",round(A*10**-14,3),\"*10**14\",\"times\""
     ],
     "language": "python",
     "metadata": {},
     "outputs": [
      {
       "output_type": "stream",
       "stream": "stdout",
       "text": [
        "Nuclear matter is denser than water is 2.366 10**14 times\n"
       ]
      }
     ],
     "prompt_number": 42
    },
    {
     "cell_type": "heading",
     "level": 2,
     "metadata": {},
     "source": [
      "Example 30.3 Page no 840"
     ]
    },
    {
     "cell_type": "code",
     "collapsed": false,
     "input": [
      "#Given\n",
      "Mh=4.00150                      #a.m.u.\n",
      "Mp=1.00728                      #a.m.u.\n",
      "Mn=1.00867                      #a.m.u.\n",
      "W0=931.5                        #MeV\n",
      "\n",
      "#Calculation\n",
      "A=((2*Mp)+(2*Mn))-Mh\n",
      "A1=A*W0\n",
      "\n",
      "#Result\n",
      "print\"Binding energy of a-particle is\",round(A1,2),\"MeV\""
     ],
     "language": "python",
     "metadata": {},
     "outputs": [
      {
       "output_type": "stream",
       "stream": "stdout",
       "text": [
        "Binding energy of a-particle is 28.32 MeV\n"
       ]
      }
     ],
     "prompt_number": 49
    },
    {
     "cell_type": "heading",
     "level": 2,
     "metadata": {},
     "source": [
      "Example 30.4 Page no 840"
     ]
    },
    {
     "cell_type": "code",
     "collapsed": false,
     "input": [
      "#Given\n",
      "Mp=1.007275                         #a.m.u.\n",
      "Mn=1.008665                         #a.m.u.\n",
      "Mh=2.013553                         #a.m.u.\n",
      "S=2.0\n",
      "U=931.5\n",
      "\n",
      "#Calculation\n",
      "A=(Mp+Mn)-Mh\n",
      "P=A/S\n",
      "W=A*U\n",
      "L=W/S\n",
      "\n",
      "#Result\n",
      "print\"The mass defect is\",A,\"a.m.u.\" \n",
      "print\"The packing fraction is\",P,\"a.m.u.\"\n",
      "print\"The binding energy of deutron is\",round(W,2),\"MeV\"\n",
      "print\"The binding energy of per nucleon of deutron is\",round(L,2),\"MeV\""
     ],
     "language": "python",
     "metadata": {},
     "outputs": [
      {
       "output_type": "stream",
       "stream": "stdout",
       "text": [
        "The mass defect is 0.002387 a.m.u.\n",
        "The packing fraction is 0.0011935 a.m.u.\n",
        "The binding energy of deutron is 2.22 MeV\n",
        "The binding energy of per nucleon of deutron is 1.11 MeV\n"
       ]
      }
     ],
     "prompt_number": 62
    },
    {
     "cell_type": "heading",
     "level": 2,
     "metadata": {},
     "source": [
      "Example 30.5 Page no 840"
     ]
    },
    {
     "cell_type": "code",
     "collapsed": false,
     "input": [
      "#Given\n",
      "Mh=1.007825                         #a.m.u.\n",
      "Mn=1.008665                         #a.m.u.\n",
      "Mp=55.934939                        #a.m.u.\n",
      "Mb=208.980388                       #a.m.u.\n",
      "A=56.0\n",
      "Z=26\n",
      "S=931.5\n",
      "A1=209.0\n",
      "Z1=83\n",
      "\n",
      "#Calculation\n",
      "W=A-Z\n",
      "Q=((Z*Mh+W*Mn)-Mp)*S\n",
      "R=Q/A\n",
      "W1=A1-Z1\n",
      "Q1=((Z1*Mh+W1*Mn)-Mb)*S\n",
      "R1=Q1/A1\n",
      "\n",
      "#Result\n",
      "print\"The binding energy of the nuclri of Fe is\",round(Q,2),\"MeV\"\n",
      "print\"The binding energy of the nuclei of Bi is\",round(Q1,2),\"MeV\"\n",
      "print\"Binding energy per nucleon of Fe is\",round(R,2),\"MeV\"\n",
      "print\"Binding energy per nucleon of Bi is\",round(R1,3),\"MeV\""
     ],
     "language": "python",
     "metadata": {},
     "outputs": [
      {
       "output_type": "stream",
       "stream": "stdout",
       "text": [
        "The binding energy of the nuclri of Fe is 492.26 MeV\n",
        "The binding energy of the nuclei of Bi is 1640.26 MeV\n",
        "Binding energy per nucleon of Fe is 8.79 MeV\n",
        "Binding energy per nucleon of Bi is 7.848 MeV\n"
       ]
      }
     ],
     "prompt_number": 80
    }
   ],
   "metadata": {}
  }
 ]
}