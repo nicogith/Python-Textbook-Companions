{
 "metadata": {
  "name": "",
  "signature": "sha256:487f66e71ac79d9579f4a8e998f21bc6fadb0986ba14ee5d89b77699b48cadee"
 },
 "nbformat": 3,
 "nbformat_minor": 0,
 "worksheets": [
  {
   "cells": [
    {
     "cell_type": "heading",
     "level": 1,
     "metadata": {},
     "source": [
      "Chapter 28 Particle nature of radiation"
     ]
    },
    {
     "cell_type": "heading",
     "level": 2,
     "metadata": {},
     "source": [
      "Example 28.1 Page no 801"
     ]
    },
    {
     "cell_type": "code",
     "collapsed": false,
     "input": [
      "#Given\n",
      "l=4950.0*10**-10\n",
      "h=6.6*10**-34                             #js\n",
      "c=3*10**8                                 #m/s\n",
      "\n",
      "#Calculation\n",
      "E=(h*c/l)/(1.6*10**-19)\n",
      "\n",
      "#Result\n",
      "print\"Energy of each photon is\",E,\"eV\""
     ],
     "language": "python",
     "metadata": {},
     "outputs": [
      {
       "output_type": "stream",
       "stream": "stdout",
       "text": [
        "Energy of each photon is 2.5 eV\n"
       ]
      }
     ],
     "prompt_number": 7
    },
    {
     "cell_type": "heading",
     "level": 2,
     "metadata": {},
     "source": [
      "Example 28.2 Page no 801"
     ]
    },
    {
     "cell_type": "code",
     "collapsed": false,
     "input": [
      "#Given\n",
      "E=6.62                      #J\n",
      "v=10**12                          #Hz\n",
      "h=6.62*10**-34\n",
      "\n",
      "#Calculation\n",
      "E1=h*v\n",
      "n=E/(h*v)\n",
      "\n",
      "#Result\n",
      "print\"Number of photons is\",n"
     ],
     "language": "python",
     "metadata": {},
     "outputs": [
      {
       "output_type": "stream",
       "stream": "stdout",
       "text": [
        "Number of photons is 1e+22\n"
       ]
      }
     ],
     "prompt_number": 8
    },
    {
     "cell_type": "heading",
     "level": 2,
     "metadata": {},
     "source": [
      "Example 28.3 Page no 801"
     ]
    },
    {
     "cell_type": "code",
     "collapsed": false,
     "input": [
      "#Given\n",
      "h=6.62*10**-34                        #js\n",
      "c=3*10**8                            #m/s\n",
      "Iev=1.6*10**-19                      #J\n",
      "V=10**6                               #hz\n",
      "V1=5890*10**-10                       #m\n",
      "L=10.0**-10                             #m\n",
      "\n",
      "#Calculation\n",
      "E=h*v\n",
      "E1=E/Iev\n",
      "A=(h*c)/V1\n",
      "A1=A/Iev\n",
      "B=(h*c)/L\n",
      "B1=B/Iev\n",
      "\n",
      "#Result\n",
      "print\"(i) The energy of a photon with frequency 1000 Khz is\",round(E1*10**3,2),\"10**-9\",\"ev\" \n",
      "print\"(ii) The energy of a photon when wavelength is 5890A is\",round(A1,2) ,\"eV\"\n",
      "print\"(iii) The energy of a photon when wavelength is 1 A is\", B1,\"eV\""
     ],
     "language": "python",
     "metadata": {},
     "outputs": [
      {
       "output_type": "stream",
       "stream": "stdout",
       "text": [
        "(i) The energy of a photon with frequency 1000 Khz is 4.14 10**-9 ev\n",
        "(ii) The energy of a photon when wavelength is 5890A is 2.11 eV\n",
        "(iii) The energy of a photon when wavelength is 1 A is 12412.5 eV\n"
       ]
      }
     ],
     "prompt_number": 38
    },
    {
     "cell_type": "heading",
     "level": 2,
     "metadata": {},
     "source": [
      "Example 28.4 Page no 801"
     ]
    },
    {
     "cell_type": "code",
     "collapsed": false,
     "input": [
      "#Given\n",
      "l=0.66*10**-10                     #m\n",
      "h=6.62*10**-34                     #Js\n",
      "c=3*10**8                            #m/s\n",
      "\n",
      "#Calculation\n",
      "E=((h*c)/l)/(1.6*10**-19)\n",
      "\n",
      "#Result\n",
      "print\"(a) Maximum energy of photon is\",round(E*10**-3,2),\"Kev\"\n",
      "print\"(b) To produce electrons of energy 18.81 Kev,accelerating potential of 18.81 KV\""
     ],
     "language": "python",
     "metadata": {},
     "outputs": [
      {
       "output_type": "stream",
       "stream": "stdout",
       "text": [
        "(a) Maximum energy of photon is 18.81 Kev\n",
        "(b) To produce electrons of energy 18.81 Kev,accelerating potential of 18.81 KV\n"
       ]
      }
     ],
     "prompt_number": 45
    },
    {
     "cell_type": "heading",
     "level": 2,
     "metadata": {},
     "source": [
      "Example 28.5 Page no 801"
     ]
    },
    {
     "cell_type": "code",
     "collapsed": false,
     "input": [
      "#Given\n",
      "E=10.2*10**9                         #ev\n",
      "h=6.62*10**-34\n",
      "c=3*10**8\n",
      "\n",
      "#Calculation\n",
      "E1=(E/2.0)*(1.6*10**-19)\n",
      "l=(h*c)/E1\n",
      "\n",
      "#Result\n",
      "print\"Wavelength is\",round(l*10**16,3),\"10**-16\""
     ],
     "language": "python",
     "metadata": {},
     "outputs": [
      {
       "output_type": "stream",
       "stream": "stdout",
       "text": [
        "Wavelength is 2.434 10**-16\n"
       ]
      }
     ],
     "prompt_number": 60
    },
    {
     "cell_type": "heading",
     "level": 2,
     "metadata": {},
     "source": [
      "Example 28.6 Page no 802"
     ]
    },
    {
     "cell_type": "code",
     "collapsed": false,
     "input": [
      "#Given\n",
      "L=3500.0*10**-10                  #m\n",
      "h=6.62*10**-34\n",
      "c=3*10**8\n",
      "\n",
      "#Calculation\n",
      "Hv=h*c/(L*(1.6*10**-19))\n",
      "\n",
      "#Result\n",
      "print\"Energy of incident light is\", round(Hv,3),\"eV \\nMetal B will yield photoelectrons.\""
     ],
     "language": "python",
     "metadata": {},
     "outputs": [
      {
       "output_type": "stream",
       "stream": "stdout",
       "text": [
        "Energy of incident light is 3.546 eV \n",
        "Metal B will yield photoelectrons.\n"
       ]
      }
     ],
     "prompt_number": 75
    },
    {
     "cell_type": "heading",
     "level": 2,
     "metadata": {},
     "source": [
      "Example 28.7 Page no 802"
     ]
    },
    {
     "cell_type": "code",
     "collapsed": false,
     "input": [
      "#Given\n",
      "l=6000.0*10**-10             #m\n",
      "h=6.62*10**-34                    #Js\n",
      "e=1.6*10**-19\n",
      "c=3*10**8\n",
      "\n",
      "#Calculation\n",
      "v0=c/l\n",
      "w=(h*v0)/e\n",
      "\n",
      "#Result\n",
      "print\"(i) Threshold frequency is\", v0,\"Hz\"\n",
      "print\"(ii) Work function is\",round(w,3),\"eV\""
     ],
     "language": "python",
     "metadata": {},
     "outputs": [
      {
       "output_type": "stream",
       "stream": "stdout",
       "text": [
        "(i) Threshold frequency is 5e+14 Hz\n",
        "(ii) Work function is 2.069 eV\n"
       ]
      }
     ],
     "prompt_number": 83
    },
    {
     "cell_type": "heading",
     "level": 2,
     "metadata": {},
     "source": [
      "Example 28.8 Page no 802"
     ]
    },
    {
     "cell_type": "code",
     "collapsed": false,
     "input": [
      "#Given\n",
      "w=1.2*1.6*10**-19\n",
      "l=5000.0*10**-10\n",
      "c=3*10**8\n",
      "h=6.62*10**-34\n",
      "e=1.6*10**-19\n",
      "\n",
      "#Calculation\n",
      "A=((h*c)/l)-w\n",
      "V0=A/e\n",
      "\n",
      "#Result\n",
      "print\"Stopping potential is\", round(V0,2),\"V\""
     ],
     "language": "python",
     "metadata": {},
     "outputs": [
      {
       "output_type": "stream",
       "stream": "stdout",
       "text": [
        "Stopping potential is 1.28 V\n"
       ]
      }
     ],
     "prompt_number": 90
    },
    {
     "cell_type": "heading",
     "level": 2,
     "metadata": {},
     "source": [
      "Example 28.9 Page no 802"
     ]
    },
    {
     "cell_type": "code",
     "collapsed": false,
     "input": [
      "#Given\n",
      "h=6.6*10**-34                     #Js\n",
      "e=1.6*10**-19\n",
      "l=500.0*10**-9                    #m\n",
      "\n",
      "#Calculation\n",
      "w=2*e\n",
      "l0=(h*c)/w\n",
      "E=((h*c)/l)-w\n",
      "v0=E/e\n",
      "\n",
      "#Result\n",
      "print\"(i) The threshold wavelength is\", l0*10**9,\"nm\"\n",
      "print\"(ii) Maximum energy is\",E*10**19,\"*10**-19 J\"\n",
      "print\"(iii) The stopping potential is\",v0,\"V\""
     ],
     "language": "python",
     "metadata": {},
     "outputs": [
      {
       "output_type": "stream",
       "stream": "stdout",
       "text": [
        "(i) The threshold wavelength is 618.75 nm\n",
        "(ii) Maximum energy is 0.76 *10**-19 J\n",
        "(iii) The stopping potential is 0.475 V\n"
       ]
      }
     ],
     "prompt_number": 104
    },
    {
     "cell_type": "heading",
     "level": 2,
     "metadata": {},
     "source": [
      "Example 28.10 Page no 802"
     ]
    },
    {
     "cell_type": "code",
     "collapsed": false,
     "input": [
      "#Given\n",
      "V0=1.3\n",
      "l=2271*10**-10\n",
      "h=6.62*10**-34\n",
      "e=1.6*10**-19\n",
      "c=3*10**8\n",
      "\n",
      "#Calculation\n",
      "w=(h*c/l)-(V0*e)\n",
      "l0=(h*c)/w\n",
      "\n",
      "#Result\n",
      "print\"Work function of metal is\", round(l0*10**10,0),\"A\""
     ],
     "language": "python",
     "metadata": {},
     "outputs": [
      {
       "output_type": "stream",
       "stream": "stdout",
       "text": [
        "Work function of metal is 2980.0 A\n"
       ]
      }
     ],
     "prompt_number": 109
    },
    {
     "cell_type": "heading",
     "level": 2,
     "metadata": {},
     "source": [
      "Example 28.11 Page no 803"
     ]
    },
    {
     "cell_type": "code",
     "collapsed": false,
     "input": [
      "#Given\n",
      "h=6.62*10**-34\n",
      "c=3*10**8\n",
      "l=640.2*10**-9\n",
      "e=1.6*10**-19\n",
      "V0=0.54\n",
      "l1=427.2*10**-9\n",
      "\n",
      "#Calculation\n",
      "w=(h*c/l)-(e*V0)\n",
      "v0=(((h*c)/l1)-w)/e\n",
      "\n",
      "#Result\n",
      "print\"New stopping voltage is\", round(v0,3),\"V\""
     ],
     "language": "python",
     "metadata": {},
     "outputs": [
      {
       "output_type": "stream",
       "stream": "stdout",
       "text": [
        "New stopping voltage is 1.507 V\n"
       ]
      }
     ],
     "prompt_number": 115
    },
    {
     "cell_type": "heading",
     "level": 2,
     "metadata": {},
     "source": [
      "Example 28.12 Page no 803"
     ]
    },
    {
     "cell_type": "code",
     "collapsed": false,
     "input": [
      "#Given\n",
      "l=5600.0*10**-10                      #m\n",
      "h=6.625*10**-34\n",
      "c=3*10**8\n",
      "a=5\n",
      "\n",
      "#Calculation\n",
      "E=h*c/l\n",
      "n=a/E\n",
      "\n",
      "#Result\n",
      "print\"Number of visible light photon is\", round(n*10**-19,2)*10**-19"
     ],
     "language": "python",
     "metadata": {},
     "outputs": [
      {
       "output_type": "stream",
       "stream": "stdout",
       "text": [
        "Number of visible light photon is 1.41e-19\n"
       ]
      }
     ],
     "prompt_number": 121
    },
    {
     "cell_type": "heading",
     "level": 2,
     "metadata": {},
     "source": [
      "Example 28.13 Page no 803"
     ]
    },
    {
     "cell_type": "code",
     "collapsed": false,
     "input": [
      "#Given\n",
      "E=10**4                        #W\n",
      "l=500.0                    #m\n",
      "h=6.62*10**-34\n",
      "A=0.4*10**-14                #m**2\n",
      "i=10**-10                     #W/m**2\n",
      "v=6*10**14\n",
      "\n",
      "#Calculation\n",
      "E1=E*l/(h*c)\n",
      "E2=h*v\n",
      "n=A/E2\n",
      "\n",
      "#Result\n",
      "print\"(i) Number of photons emitted is\",round(E1*10**-31,3)*10**31\n",
      "print\"(ii) Number of photons is\", round(n*10**-4,0),\"*10**4\""
     ],
     "language": "python",
     "metadata": {},
     "outputs": [
      {
       "output_type": "stream",
       "stream": "stdout",
       "text": [
        "(i) Number of photons emitted is 2.518e+31\n",
        "(ii) Number of photons is 1.0 *10**4\n"
       ]
      }
     ],
     "prompt_number": 132
    },
    {
     "cell_type": "heading",
     "level": 2,
     "metadata": {},
     "source": [
      "Example 28.14 Page no 803"
     ]
    },
    {
     "cell_type": "code",
     "collapsed": false,
     "input": [
      "#Given\n",
      "A=2*10**-4                        #m**2\n",
      "An=10.0**-20\n",
      "n1=5\n",
      "i=10**-5                           #W/m**2\n",
      "\n",
      "#Calculation\n",
      "n=(A*n1)/An\n",
      "E=i*A\n",
      "E1=(E/n)/e\n",
      "t=2/E1\n",
      "\n",
      "#Result\n",
      "print\"Time required for the photoelectric emission is\",t*10**-7,\"*10**7 S\""
     ],
     "language": "python",
     "metadata": {},
     "outputs": [
      {
       "output_type": "stream",
       "stream": "stdout",
       "text": [
        "Time required for the photoelectric emission is 1.6 *10**7 S\n"
       ]
      }
     ],
     "prompt_number": 145
    }
   ],
   "metadata": {}
  }
 ]
}