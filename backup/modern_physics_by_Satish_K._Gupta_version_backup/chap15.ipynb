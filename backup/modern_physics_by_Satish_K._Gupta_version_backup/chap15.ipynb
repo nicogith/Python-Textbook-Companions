{
 "metadata": {
  "name": "",
  "signature": "sha256:859464a7b9c1dff7d24f65e6024e51cc8bc55fc7979a3e8c04919720ca49d3b9"
 },
 "nbformat": 3,
 "nbformat_minor": 0,
 "worksheets": [
  {
   "cells": [
    {
     "cell_type": "heading",
     "level": 1,
     "metadata": {},
     "source": [
      "Chapter 15 Classification of Magnetic Materials"
     ]
    },
    {
     "cell_type": "heading",
     "level": 2,
     "metadata": {},
     "source": [
      "Example 15.1 Page no 457"
     ]
    },
    {
     "cell_type": "code",
     "collapsed": false,
     "input": [
      "#Given\n",
      "q=0.12                      #TA**-1m\n",
      "q1=4*math.pi*10**-7         #TA**-1m\n",
      "\n",
      "#Calculation\n",
      "import math\n",
      "q3=q/q1\n",
      "e=q3-1\n",
      "\n",
      "#Result\n",
      "print\"Relative permeability is\",round(q3*10**-4,2),\"10**4\"\n",
      "print\"susceptibility is\",round(e*10**-4,2),\"10**4\""
     ],
     "language": "python",
     "metadata": {},
     "outputs": [
      {
       "output_type": "stream",
       "stream": "stdout",
       "text": [
        "Relative permeability is 9.55 10**4\n",
        "susceptibility is 9.55 10**4\n"
       ]
      }
     ],
     "prompt_number": 17
    },
    {
     "cell_type": "heading",
     "level": 2,
     "metadata": {},
     "source": [
      "Example 15.2 Page no 457"
     ]
    },
    {
     "cell_type": "code",
     "collapsed": false,
     "input": [
      "#Given\n",
      "A=0.5*10**-4                 #m**2\n",
      "H=1200                       #Am**-1\n",
      "W=599\n",
      "Q=4*math.pi*10**-7          #TA\"**-1m\n",
      "\n",
      "#Calculation\n",
      "import math\n",
      "Z=Q*(1+W)\n",
      "Z1=Z*H\n",
      "Z2=Z1*A\n",
      "\n",
      "#Result\n",
      "print\"(i) Z produced is\",round(Z*10**4,2),\"10**-4\",\"TA**-1m\"\n",
      "print\"(ii) Z1 produced is\",round(Z1,3),\"T\"\n",
      "print\"(iii) Z2 produced is\",round(Z2*10**5,3),\"10**-5\""
     ],
     "language": "python",
     "metadata": {},
     "outputs": [
      {
       "output_type": "stream",
       "stream": "stdout",
       "text": [
        "(i) Z produced is 7.54 10**-4 TA**-1m\n",
        "(ii) Z1 produced is 0.905 T\n",
        "(iii) Z2 produced is 4.524 10**-5\n"
       ]
      }
     ],
     "prompt_number": 66
    },
    {
     "cell_type": "heading",
     "level": 2,
     "metadata": {},
     "source": [
      "Example 15.3 Page no 457"
     ]
    },
    {
     "cell_type": "code",
     "collapsed": false,
     "input": [
      "#Given\n",
      "I=1.2                           #A\n",
      "Q=800\n",
      "A=0.15                          #m\n",
      "S=3500\n",
      "K=4*math.pi*10**-7\n",
      "\n",
      "#Calculation\n",
      "import math\n",
      "L=2*math.pi*A\n",
      "n=S/L\n",
      "B=(K*Q*S*I)/L\n",
      "\n",
      "#Result\n",
      "print\"The magnetic field in the core for a magnetising current of 1.2 A is\",B,\"T\""
     ],
     "language": "python",
     "metadata": {},
     "outputs": [
      {
       "output_type": "stream",
       "stream": "stdout",
       "text": [
        "The magnetic field in the core for a magnetising current of 1.2 A is 4.48 T\n"
       ]
      }
     ],
     "prompt_number": 73
    },
    {
     "cell_type": "heading",
     "level": 2,
     "metadata": {},
     "source": [
      "Example 15.4 Page no 457"
     ]
    },
    {
     "cell_type": "code",
     "collapsed": false,
     "input": [
      "#Given\n",
      "H=2*10**3                       #Am**-1\n",
      "I=4.8*10**-2                    #Am**-1\n",
      "T=280                           #K\n",
      "T1=320.0                          #K\n",
      "\n",
      "#Calculation\n",
      "S=I/H\n",
      "S1=S*(T/T1)\n",
      "S2=S1*H\n",
      "\n",
      "#Result\n",
      "print\"The susceptibility of aluminium is raised to 280 k is\",S*10**5,\"10**3\"\n",
      "print\"The temperature of the aluminium is raised to 320 k is\",S1\n",
      "print\"The suscepitibility and intensity of magnetistionis\",S2*10**2,\"10**-2\",\"Am**-1\""
     ],
     "language": "python",
     "metadata": {},
     "outputs": [
      {
       "output_type": "stream",
       "stream": "stdout",
       "text": [
        "The susceptibility of aluminium is raised to 280 k is 2.4 10**3\n",
        "The temperature of the aluminium is raised to 320 k is 2.1e-05\n",
        "The suscepitibility and intensity of magnetistionis 4.2 10**-2 Am**-1\n"
       ]
      }
     ],
     "prompt_number": 90
    },
    {
     "cell_type": "heading",
     "level": 2,
     "metadata": {},
     "source": [
      "Example 15.5 Page no 458"
     ]
    },
    {
     "cell_type": "code",
     "collapsed": false,
     "input": [
      "#Given\n",
      "W=3.2*10**4                    #J\n",
      "M=8.4\n",
      "D=7200\n",
      "v=50                           #cycle s**-1\n",
      "T=30*60                        #s\n",
      "\n",
      "#Calculation\n",
      "V=M/D\n",
      "Q=W/(V*v*T)\n",
      "\n",
      "#Result\n",
      "print\"The value of energy is\",round(Q,1),\"J m**-3 cycle**-1\""
     ],
     "language": "python",
     "metadata": {},
     "outputs": [
      {
       "output_type": "stream",
       "stream": "stdout",
       "text": [
        "The value of energy is 304.8 J m**-3 cycle**-1\n"
       ]
      }
     ],
     "prompt_number": 95
    },
    {
     "cell_type": "heading",
     "level": 2,
     "metadata": {},
     "source": [
      "Example 15.6 Page no 458"
     ]
    },
    {
     "cell_type": "code",
     "collapsed": false,
     "input": [
      "#Given\n",
      "m=4.5                            #Am\n",
      "l=0.06                           #m\n",
      "A=0.9*10**-4                     #m**2\n",
      "r=0.06                           #m\n",
      "J=4*math.pi*10**-7\n",
      "\n",
      "#Calculation\n",
      "I=m/A\n",
      "H1=m/(4*math.pi*r**2)\n",
      "H2=m/(4*math.pi*r**2)\n",
      "H=H1+H2\n",
      "B=J*(-H+I)\n",
      "\n",
      "#Result\n",
      "print\"(a) Intensity of the magnetisation is\", I*10**-4,\"10**4 A/m\"\n",
      "print\"(b) Magnetic intensity is\",round(H,0),\"A/m\"\n",
      "print\"(c) Magnetic induction is\",round(B*10**2,2),\"*10**-2 T\""
     ],
     "language": "python",
     "metadata": {},
     "outputs": [
      {
       "output_type": "stream",
       "stream": "stdout",
       "text": [
        "(a) Intensity of the magnetisation is 5.0 10**4 A/m\n",
        "(b) Magnetic intensity is 199.0 A/m\n",
        "(c) Magnetic induction is 6.26 *10**-2 T\n"
       ]
      }
     ],
     "prompt_number": 16
    },
    {
     "cell_type": "heading",
     "level": 2,
     "metadata": {},
     "source": [
      "Example 15.7 Page no 458"
     ]
    },
    {
     "cell_type": "code",
     "collapsed": false,
     "input": [
      "#Given\n",
      "m=1.5*10**-23                            #J/T\n",
      "n=2.0*10**24\n",
      "a=15                                     #%\n",
      "T1=4.2                                    #K\n",
      "T2=2.8\n",
      "B1=0.84                                    #T\n",
      "B2=0.98\n",
      "\n",
      "#Calculation\n",
      "M=m*n\n",
      "M1=M*(a/100.0)\n",
      "M2=M1*T1*B2/(T2*B1)\n",
      "\n",
      "#Result\n",
      "print\"Total dipole moment is\",M2,\"J/T\""
     ],
     "language": "python",
     "metadata": {},
     "outputs": [
      {
       "output_type": "stream",
       "stream": "stdout",
       "text": [
        "Total dipole moment is 7.875 J/T\n"
       ]
      }
     ],
     "prompt_number": 18
    }
   ],
   "metadata": {}
  }
 ]
}