{
 "metadata": {
  "name": "",
  "signature": "sha256:a82b820d4c986803883c47a06b19e19453881487c8189443b60dab54c2680966"
 },
 "nbformat": 3,
 "nbformat_minor": 0,
 "worksheets": [
  {
   "cells": [
    {
     "cell_type": "heading",
     "level": 1,
     "metadata": {},
     "source": [
      "Chapter 13 Magnetic dipole"
     ]
    },
    {
     "cell_type": "heading",
     "level": 2,
     "metadata": {},
     "source": [
      "Example 13.1 Page no 415"
     ]
    },
    {
     "cell_type": "code",
     "collapsed": false,
     "input": [
      "#Given\n",
      "F=14.4*10**-4                             #N\n",
      "r=0.05                                    #m\n",
      "u=10.0**-7\n",
      "F1=1.6*10**-4                             #N\n",
      "\n",
      "#Calculation\n",
      "import math\n",
      "m=math.sqrt(F*r**2/u)\n",
      "r1=math.sqrt(u*6*6/F1)\n",
      "\n",
      "#Result\n",
      "print\"Distance between the poles is\", r1,\"m\""
     ],
     "language": "python",
     "metadata": {},
     "outputs": [
      {
       "output_type": "stream",
       "stream": "stdout",
       "text": [
        "Distance between the poles is 0.15 m\n"
       ]
      }
     ],
     "prompt_number": 4
    },
    {
     "cell_type": "heading",
     "level": 2,
     "metadata": {},
     "source": [
      "Example 13.2 Page no 415"
     ]
    },
    {
     "cell_type": "code",
     "collapsed": false,
     "input": [
      "#Given\n",
      "F=0.8*10**-3\n",
      "r=0.1                             #m\n",
      "g=9.8\n",
      "u=10.0**-7\n",
      "\n",
      "#Calculation\n",
      "import math\n",
      "m=math.sqrt(F*g*r**2/(u*5.0))\n",
      "a=5*m\n",
      "\n",
      "#Result\n",
      "print\"Strength of each pole is\", round(a,1),\"A m\""
     ],
     "language": "python",
     "metadata": {},
     "outputs": [
      {
       "output_type": "stream",
       "stream": "stdout",
       "text": [
        "Strength of each pole is 62.6 A m\n"
       ]
      }
     ],
     "prompt_number": 11
    },
    {
     "cell_type": "heading",
     "level": 2,
     "metadata": {},
     "source": [
      "Example 13.4 Page no 416"
     ]
    },
    {
     "cell_type": "code",
     "collapsed": false,
     "input": [
      "#Given\n",
      "m=50                            #Am\n",
      "r=0.2                           #m\n",
      "l=0.05                          #M\n",
      "M=5                             #Am**2\n",
      "u=10**-7\n",
      "\n",
      "#Calculation\n",
      "Baxial=u*2*M*r/((r**2-l**2)**2)\n",
      "Bequi=u*M/((r**2+l**2)**1.5)\n",
      "\n",
      "#Result\n",
      "print\"(i) Magnetic field at a distance of 0.2 m from its centre on axial line is\",round(Baxial*10**4,2),\"*10**-4 T\"\n",
      "print\"(ii) Magnetic field at a distance of 0.2 m from its centre on its equitorial line is\",round(Bequi*10**5,3)*10**-5,\"T\""
     ],
     "language": "python",
     "metadata": {},
     "outputs": [
      {
       "output_type": "stream",
       "stream": "stdout",
       "text": [
        "(i) Magnetic field at a distance of 0.2 m from its centre on axial line is 1.42 *10**-4 T\n",
        "(ii) Magnetic field at a distance of 0.2 m from its centre on its equitorial line is 5.707e-05 T\n"
       ]
      }
     ],
     "prompt_number": 22
    },
    {
     "cell_type": "heading",
     "level": 2,
     "metadata": {},
     "source": [
      "Example 13.5 Page no 416"
     ]
    },
    {
     "cell_type": "code",
     "collapsed": false,
     "input": [
      "#Given\n",
      "M=12.5                              #Am**2\n",
      "OP=0.05                              #m\n",
      "u=10**-7\n",
      "\n",
      "#Calculation\n",
      "import math\n",
      "b1=(u*2*M)/(OP**3)\n",
      "b2=(u*M)/(OP**3)\n",
      "B=math.sqrt(b1**2+b2**2)\n",
      "a=b2/b1\n",
      "a1=math.atan(a*180/3.14)\n",
      "\n",
      "#Result\n",
      "print\"Magnetic field at a point midway between two magnets is\",round(B*10**2,3),\"10**-2 T\""
     ],
     "language": "python",
     "metadata": {},
     "outputs": [
      {
       "output_type": "stream",
       "stream": "stdout",
       "text": [
        "Magnetic field at a point midway between two magnets is 2.236 10**-2 T\n"
       ]
      }
     ],
     "prompt_number": 34
    },
    {
     "cell_type": "heading",
     "level": 2,
     "metadata": {},
     "source": [
      "Example 13.6 Page no 416"
     ]
    },
    {
     "cell_type": "code",
     "collapsed": false,
     "input": [
      "#Given\n",
      "B=0.3                #T\n",
      "A=30                 #Degree\n",
      "t=0.06               #Nn\n",
      "\n",
      "#Calculation\n",
      "import math\n",
      "M=t/(B*math.sin(A*3.14/180.0))\n",
      "\n",
      "#Result\n",
      "print\"Magnetic moment is\",round(M,1),\"Am**2\""
     ],
     "language": "python",
     "metadata": {},
     "outputs": [
      {
       "output_type": "stream",
       "stream": "stdout",
       "text": [
        "Magnetic moment is 0.4 Am**2\n"
       ]
      }
     ],
     "prompt_number": 38
    },
    {
     "cell_type": "heading",
     "level": 2,
     "metadata": {},
     "source": [
      "Example 13.7 Page no 416"
     ]
    },
    {
     "cell_type": "code",
     "collapsed": false,
     "input": [
      "#Given\n",
      "m=48                    #Am\n",
      "l=0.25                  #m\n",
      "a=30                   #degree\n",
      "B=0.15\n",
      "\n",
      "#Calculation\n",
      "import math\n",
      "M=m*l\n",
      "T=M*B*math.sin(a*3.14/180.0)\n",
      "\n",
      "#Result \n",
      "print\"(i) Magnetic moment is\",M,\"Am**2\"\n",
      "print\"(ii) Torque is\",round(T,1),\"Mm\""
     ],
     "language": "python",
     "metadata": {},
     "outputs": [
      {
       "output_type": "stream",
       "stream": "stdout",
       "text": [
        "(i) Magnetic moment is 12.0 Am**2\n",
        "(ii) Torque is 0.9 Mm\n"
       ]
      }
     ],
     "prompt_number": 45
    },
    {
     "cell_type": "heading",
     "level": 2,
     "metadata": {},
     "source": [
      "Example 13.8 Page no 416"
     ]
    },
    {
     "cell_type": "code",
     "collapsed": false,
     "input": [
      "#Given\n",
      "B=0.2                 #t\n",
      "a=30\n",
      "t=0.06\n",
      "\n",
      "#Calculation\n",
      "import math\n",
      "M=t/(B*math.sin(a*3.14/180.0))\n",
      "\n",
      "#Result\n",
      "print\"(a) Magnetic moment is\",round(M,1),\"An**2\"\n",
      "print\"(b) When the magnet aligns itself parallel to the magnetic field\""
     ],
     "language": "python",
     "metadata": {},
     "outputs": [
      {
       "output_type": "stream",
       "stream": "stdout",
       "text": [
        "(a) Magnetic moment is 0.6 An**2\n",
        "(b) When the magnet aligns itself parallel to the magnetic field\n"
       ]
      }
     ],
     "prompt_number": 50
    },
    {
     "cell_type": "heading",
     "level": 2,
     "metadata": {},
     "source": [
      "Example 13.9 Page no 416"
     ]
    },
    {
     "cell_type": "code",
     "collapsed": false,
     "input": [
      "#Given\n",
      "M=1.5                          #J/T\n",
      "B=0.22                         #T\n",
      "a=0\n",
      "a1=90\n",
      "\n",
      "#Calculation\n",
      "import math\n",
      "W=M*B*(math.cos(a*3.14/180.0)-math.cos(a1*3.14/180.0))\n",
      "t=M*B*math.sin(a1*3.14/180.0)\n",
      "\n",
      "#Result\n",
      "print\"Amount of work required is\", round(W,2),\"J\"\n",
      "print\"Torque is\",round(t,2),\"Nm\""
     ],
     "language": "python",
     "metadata": {},
     "outputs": [
      {
       "output_type": "stream",
       "stream": "stdout",
       "text": [
        "Amount of work required is 0.33 J\n",
        "Torque is 0.33 Nm\n"
       ]
      }
     ],
     "prompt_number": 57
    },
    {
     "cell_type": "heading",
     "level": 2,
     "metadata": {},
     "source": [
      "Example 13.10 Page no 417"
     ]
    },
    {
     "cell_type": "code",
     "collapsed": false,
     "input": [
      "#Given\n",
      "n=50\n",
      "a=0.2 \n",
      "I=12                          #A\n",
      "u=10**-7\n",
      "\n",
      "#Calculation\n",
      "import math\n",
      "B=u*2*math.pi*n*I/a\n",
      "M=n*I*math.pi*a**2\n",
      "\n",
      "#Result\n",
      "print\"(a) Magnetic moment at the centre is\",round(B*10**3,3),\"*10**-3 T\"\n",
      "print\"(b) Magnetic moment associated is\",round(M,1),\"Am**2\""
     ],
     "language": "python",
     "metadata": {},
     "outputs": [
      {
       "output_type": "stream",
       "stream": "stdout",
       "text": [
        "(a) Magnetic moment at the centre is 1.885 *10**-3 T\n",
        "(b) Magnetic moment associated is 75.4 Am**2\n"
       ]
      }
     ],
     "prompt_number": 65
    },
    {
     "cell_type": "heading",
     "level": 2,
     "metadata": {},
     "source": [
      "Example 13.11 Page no 417"
     ]
    },
    {
     "cell_type": "code",
     "collapsed": false,
     "input": [
      "#Given\n",
      "r=0.53*10**-10                      #m\n",
      "v=6.8*10**15                         #Kz\n",
      "e=1.6*10**-19                          #C\n",
      "\n",
      "#Calculation\n",
      "import math\n",
      "M=math.pi*e*v*r**2\n",
      "\n",
      "#Result\n",
      "print\"Magnetic moment is\",round(M*10**24,1)*10**-24,\"A m**2\""
     ],
     "language": "python",
     "metadata": {},
     "outputs": [
      {
       "output_type": "stream",
       "stream": "stdout",
       "text": [
        "Magnetic moment is 9.6e-24 A m**2\n"
       ]
      }
     ],
     "prompt_number": 69
    },
    {
     "cell_type": "heading",
     "level": 2,
     "metadata": {},
     "source": [
      "Example 13.12 Page no 417"
     ]
    },
    {
     "cell_type": "code",
     "collapsed": false,
     "input": [
      "#Given\n",
      "M=1.8*10**-23                         #Am**2\n",
      "v=5*10**-6                            #m**3\n",
      "a=7.8*10**3\n",
      "N=6.02*10**26\n",
      "A=56.0\n",
      "B=1.5                              #T\n",
      "a1=90                              #degree\n",
      "\n",
      "#Calculation\n",
      "import math\n",
      "m=v*a\n",
      "n=N*m/A\n",
      "M1=M*n\n",
      "t=M1*B*math.sin(a1*3.14/180.0)\n",
      "\n",
      "#Result\n",
      "print\"(a) Magnetic moment is\", round(M1,2),\"A m**2\"\n",
      "print\"(b) Torque required is\",round(t,2),\"N m\""
     ],
     "language": "python",
     "metadata": {},
     "outputs": [
      {
       "output_type": "stream",
       "stream": "stdout",
       "text": [
        "(a) Magnetic moment is 7.55 A m**2\n",
        "(b) Torque required is 11.32 N m\n"
       ]
      }
     ],
     "prompt_number": 79
    },
    {
     "cell_type": "heading",
     "level": 2,
     "metadata": {},
     "source": [
      "Example 13.13 Page no 417"
     ]
    },
    {
     "cell_type": "code",
     "collapsed": false,
     "input": [
      "#Given\n",
      "B1=1.2*10**-2                          #T\n",
      "a=15                                   #degree\n",
      "a2=60\n",
      "\n",
      "#Calculation\n",
      "a3=a2-a\n",
      "B2=B1*math.sin(a*3.14/180.0)/(math.sin(a3*3.14/180.0))\n",
      "\n",
      "#Result\n",
      "print round(B2*10**3,2),\"*10**-3 T\""
     ],
     "language": "python",
     "metadata": {},
     "outputs": [
      {
       "output_type": "stream",
       "stream": "stdout",
       "text": [
        "4.39 *10**-3 T\n"
       ]
      }
     ],
     "prompt_number": 83
    },
    {
     "cell_type": "heading",
     "level": 2,
     "metadata": {},
     "source": [
      "Example 13.14 Page no 417"
     ]
    },
    {
     "cell_type": "code",
     "collapsed": false,
     "input": [
      "#Given\n",
      "n=1000\n",
      "I=2               #A\n",
      "A=2*10**-4             #m**@\n",
      "a=30\n",
      "B=0.16\n",
      "a1=0                       #degree\n",
      "a2=180 \n",
      "\n",
      "#Calculation\n",
      "import math\n",
      "M=I*A*n\n",
      "t=M*B*math.sin(a*3.14/180.0)\n",
      "W=M*B*(math.cos(a1*3.14/180.0)-math.cos(a2*3.14/180.0))\n",
      "\n",
      "#Result\n",
      "print\"(a) Torque required is\", round(t,3),\"Nm\"\n",
      "print\"(b) Work needed is\",round(W,3),\"J\""
     ],
     "language": "python",
     "metadata": {},
     "outputs": [
      {
       "output_type": "stream",
       "stream": "stdout",
       "text": [
        "(a) Torque required is 0.032 Nm\n",
        "(b) Work needed is 0.128 J\n"
       ]
      }
     ],
     "prompt_number": 92
    }
   ],
   "metadata": {}
  }
 ]
}