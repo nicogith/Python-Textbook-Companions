{
 "metadata": {
  "name": "",
  "signature": "sha256:13c8f6846e205753ae8bd963e82228c66a5cc1ec104d777be242a6767f4586d5"
 },
 "nbformat": 3,
 "nbformat_minor": 0,
 "worksheets": [
  {
   "cells": [
    {
     "cell_type": "heading",
     "level": 1,
     "metadata": {},
     "source": [
      "Chapter 34 Semiconductor devices"
     ]
    },
    {
     "cell_type": "heading",
     "level": 2,
     "metadata": {},
     "source": [
      "Example 34.1 Page no 932"
     ]
    },
    {
     "cell_type": "code",
     "collapsed": false,
     "input": [
      "#Given\n",
      "E=3                       #V\n",
      "Vd=0.7\n",
      "R=100.0\n",
      "\n",
      "#Calculation\n",
      "V=E-Vd\n",
      "I=V/R\n",
      "\n",
      "#Result\n",
      "print\"Current in the circuit is\",I*10**3,\"mA\""
     ],
     "language": "python",
     "metadata": {},
     "outputs": [
      {
       "output_type": "stream",
       "stream": "stdout",
       "text": [
        "Current in the circuit is 23.0 mA\n"
       ]
      }
     ],
     "prompt_number": 3
    },
    {
     "cell_type": "heading",
     "level": 2,
     "metadata": {},
     "source": [
      "Example 34.2 Page no 932"
     ]
    },
    {
     "cell_type": "code",
     "collapsed": false,
     "input": [
      "#Given\n",
      "E=1.5                          #V\n",
      "Vd=0.5\n",
      "P=0.1                           #W\n",
      "\n",
      "#Calculation\n",
      "I=P/Vd\n",
      "V=E-Vd\n",
      "R=V/I\n",
      "\n",
      "#Result\n",
      "print\"Value of resistance is\",R,\"ohm\""
     ],
     "language": "python",
     "metadata": {},
     "outputs": [
      {
       "output_type": "stream",
       "stream": "stdout",
       "text": [
        "Value of resistance is 5.0 ohm\n"
       ]
      }
     ],
     "prompt_number": 8
    },
    {
     "cell_type": "heading",
     "level": 2,
     "metadata": {},
     "source": [
      "Example 34.3 Page no 932"
     ]
    },
    {
     "cell_type": "code",
     "collapsed": false,
     "input": [
      "#Given\n",
      "E=9                             #V\n",
      "Vz=6                             #V\n",
      "Rl=1000.0                          #ohm\n",
      "R=100.0                            #ohm\n",
      "\n",
      "#Calculation\n",
      "V=E-Vz\n",
      "I=V/R\n",
      "Il=Vz/Rl\n",
      "Iz=I-Il\n",
      "Pz=Vz*Iz\n",
      "\n",
      "#Result\n",
      "print\"Power dissipated in zener diode is\",Pz,\"watt\""
     ],
     "language": "python",
     "metadata": {},
     "outputs": [
      {
       "output_type": "stream",
       "stream": "stdout",
       "text": [
        "Power dissipated in zener diode is 0.144 watt\n"
       ]
      }
     ],
     "prompt_number": 11
    },
    {
     "cell_type": "heading",
     "level": 2,
     "metadata": {},
     "source": [
      "Example 34.4 Page no 932"
     ]
    },
    {
     "cell_type": "code",
     "collapsed": false,
     "input": [
      "#Given\n",
      "E0=50                              #V\n",
      "S=2.0\n",
      "\n",
      "#Calculation\n",
      "import math\n",
      "E1=50/math.sqrt(S)                 #V\n",
      "V=math.sqrt(E1**2/S)\n",
      "V1=(S*E0/math.pi)/S\n",
      "\n",
      "#Result\n",
      "print\"(a) The r.m.s. voltage across Rl is\",V,\"V\"\n",
      "print\"(b) Reading of a d.c voltametre connected across Rl is\",round(V1,2),\"V\""
     ],
     "language": "python",
     "metadata": {},
     "outputs": [
      {
       "output_type": "stream",
       "stream": "stdout",
       "text": [
        "(a) The r.m.s. voltage across Rl is 25.0 V\n",
        "(b) Reading of a d.c voltametre connected across Rl is 15.92 V\n"
       ]
      }
     ],
     "prompt_number": 22
    },
    {
     "cell_type": "heading",
     "level": 2,
     "metadata": {},
     "source": [
      "Example 34.5 Page no 933"
     ]
    },
    {
     "cell_type": "code",
     "collapsed": false,
     "input": [
      "#Given\n",
      "A=0.96\n",
      "Ie=7.2                             #mA\n",
      "\n",
      "#Calculation\n",
      "Ic=A*Ie\n",
      "Ib=Ie-Ic\n",
      "\n",
      "#Result\n",
      "print\"The base current is\",round(Ib,2),\"mA\""
     ],
     "language": "python",
     "metadata": {},
     "outputs": [
      {
       "output_type": "stream",
       "stream": "stdout",
       "text": [
        "The base current is 0.29 mA\n"
       ]
      }
     ],
     "prompt_number": 27
    },
    {
     "cell_type": "heading",
     "level": 2,
     "metadata": {},
     "source": [
      "Example 34.6 Page no 933"
     ]
    },
    {
     "cell_type": "code",
     "collapsed": false,
     "input": [
      "#Given\n",
      "B=70\n",
      "Ie=8.8                          #mA\n",
      "Ib=1.0\n",
      "Ic=70.0\n",
      "\n",
      "#Calculation\n",
      "Ib1=Ie/(Ic+Ib)\n",
      "Ic1=Ic*Ib1\n",
      "A=Ic/(Ic+Ib)\n",
      "\n",
      "#Result\n",
      "print\"The collector current is\",round(Ib1,3),\"mA\"\n",
      "print\"The base current is\",round(Ic1,2),\"mA\"\n",
      "print\"Current gain is\",round(A,3)"
     ],
     "language": "python",
     "metadata": {},
     "outputs": [
      {
       "output_type": "stream",
       "stream": "stdout",
       "text": [
        "The collector current is 0.124 mA\n",
        "The base current is 8.68 mA\n",
        "Current gain is 0.986\n"
       ]
      }
     ],
     "prompt_number": 12
    },
    {
     "cell_type": "heading",
     "level": 2,
     "metadata": {},
     "source": [
      "Example 34.7 Page no 933"
     ]
    },
    {
     "cell_type": "code",
     "collapsed": false,
     "input": [
      "#Given\n",
      "Ib=105*10**-6                       #A\n",
      "Ic=2.05*10**-3                      #A\n",
      "Ib1=27*10**-6                       #A\n",
      "Ic1=650*10**-6                      #A\n",
      "\n",
      "#Calculation\n",
      "B=Ic/Ib\n",
      "Ie=Ib+Ic\n",
      "A=Ic/Ie\n",
      "Bac=Ic1/Ib1\n",
      "\n",
      "#Result\n",
      "print\"(a) The value of B is\",round(B,1),\",Value of Ie is\",Ie*10**3,\"*10**-3 A\",\"and Value of A is\",round(A,2)\n",
      "print\"(b) The value of Bac is\",round(Bac,2)"
     ],
     "language": "python",
     "metadata": {},
     "outputs": [
      {
       "output_type": "stream",
       "stream": "stdout",
       "text": [
        "(a) The value of B is 19.5 ,Value of Ie is 2.155 *10**-3 A and Value of A is 0.95\n",
        "(b) The value of Bac is 24.07\n"
       ]
      }
     ],
     "prompt_number": 29
    },
    {
     "cell_type": "heading",
     "level": 2,
     "metadata": {},
     "source": [
      "Example 34.8 Page no 933"
     ]
    },
    {
     "cell_type": "code",
     "collapsed": false,
     "input": [
      "#Given\n",
      "Ie=7.89*10**-3                  #A\n",
      "Ic=7.8*10**-3                   #A\n",
      "\n",
      "#Calculation\n",
      "A=Ic/Ie\n",
      "B=A/(1-A)\n",
      "Ib=Ic/B\n",
      "\n",
      "#Result\n",
      "print\"change in the base current is\",Ib,\"A\""
     ],
     "language": "python",
     "metadata": {},
     "outputs": [
      {
       "output_type": "stream",
       "stream": "stdout",
       "text": [
        "change in the base current is 9e-05 A\n"
       ]
      }
     ],
     "prompt_number": 39
    },
    {
     "cell_type": "heading",
     "level": 2,
     "metadata": {},
     "source": [
      "Example 34.9 Page no 933"
     ]
    },
    {
     "cell_type": "code",
     "collapsed": false,
     "input": [
      "#Given\n",
      "Ib=20.0*10**-6                    #A\n",
      "Vbe=0.02                        #V\n",
      "Ic=2*10**-3                     #A\n",
      "Rl=5000                           #ohm\n",
      "\n",
      "#Calculation\n",
      "P=Vbe/Ib\n",
      "B=Ic/Ib\n",
      "Gm=Ic/Vbe\n",
      "Q=(Rl*Ic)/Vbe\n",
      "\n",
      "#Result\n",
      "print\"(a) The input resistance Bac is\",P,\"ohm\",\"and transconductance of the transister is\",Gm,\"ohm**-1\"\n",
      "print\"(b) The voltage gain of the amplifier is\",Q"
     ],
     "language": "python",
     "metadata": {},
     "outputs": [
      {
       "output_type": "stream",
       "stream": "stdout",
       "text": [
        "(a) The input resistance Bac is 1000.0 ohm and transconductance of the transister is 0.1 ohm**-1\n",
        "(b) The voltage gain of the amplifier is 500.0\n"
       ]
      }
     ],
     "prompt_number": 47
    },
    {
     "cell_type": "heading",
     "level": 2,
     "metadata": {},
     "source": [
      "Example 34.10 Page no 933"
     ]
    },
    {
     "cell_type": "code",
     "collapsed": false,
     "input": [
      "#Given\n",
      "Ib=15*10**-6                      #A\n",
      "Ic=2*10**-3                       #A\n",
      "R=665.0                           #ohm\n",
      "Rl=5*10**3                        #ohm\n",
      "\n",
      "#Calculation\n",
      "B=Ic/Ib\n",
      "Gm=B/R\n",
      "Av=Gm*Rl\n",
      "\n",
      "#Result \n",
      "print\"(i) Current gain is\",round(B,1)\n",
      "print\"(ii) Transconductance is\",round(Gm,1),\"ohm**-1\"\n",
      "print\"(iii) Voltage gain Av of the amplifier is\",round(Av,0)"
     ],
     "language": "python",
     "metadata": {},
     "outputs": [
      {
       "output_type": "stream",
       "stream": "stdout",
       "text": [
        "(i) Current gain is 133.3\n",
        "(ii) Transconductance is 0.2 ohm**-1\n",
        "(iii) Voltage gain Av of the amplifier is 1003.0\n"
       ]
      }
     ],
     "prompt_number": 41
    },
    {
     "cell_type": "heading",
     "level": 2,
     "metadata": {},
     "source": [
      "Example 34.11 Page no 934"
     ]
    },
    {
     "cell_type": "code",
     "collapsed": false,
     "input": [
      "#Given\n",
      "B=100.0\n",
      "Vcc=24                     #V\n",
      "Ic=1.5*10**-3              #A\n",
      "Rc=4.7*10**3\n",
      "Rb=220*10**3\n",
      "\n",
      "#Calculation\n",
      "Ib=Ic/B\n",
      "Vce=Vcc-(Ic*Rc)\n",
      "Vbe=Vcc-(Ib*Rb)\n",
      "Vbc=(Ic*Rc)-(Ib*Rb)\n",
      "\n",
      "#Result\n",
      "print\"The value of Ib is\",Ib,\"A\"\n",
      "print\"The value of Vce is\",Vce,\"V\"\n",
      "print\"The value of Vbe is\",Vbe,\"V\"\n",
      "print\"The value of Vbc is\",Vbc,\"V\"\n",
      "print\"The transistor is in saturation state\" "
     ],
     "language": "python",
     "metadata": {},
     "outputs": [
      {
       "output_type": "stream",
       "stream": "stdout",
       "text": [
        "The value of Ib is 1.5e-05 A\n",
        "The value of Vce is 16.95 V\n",
        "The value of Vbe is 20.7 V\n",
        "The value of Vbc is 3.75 V\n",
        "The transistor is in saturation state\n"
       ]
      }
     ],
     "prompt_number": 84
    },
    {
     "cell_type": "heading",
     "level": 2,
     "metadata": {},
     "source": [
      "Example 34.15 Page no 935"
     ]
    },
    {
     "cell_type": "code",
     "collapsed": false,
     "input": [
      "#Given\n",
      "Vb=5                         #V\n",
      "I=10**3                      #A\n",
      "Q=0.7\n",
      "I1=5*10**-3\n",
      "Vb1=6                         #V\n",
      "R0=1000                      #ohm\n",
      "I3=10**-3                    #A\n",
      "\n",
      "#Calculation\n",
      "R=(Vb-Q)*I\n",
      "R1=(R*10**-3)/I1\n",
      "R3=(Vb1-Q)/I1\n",
      "R4=I1**2*R3\n",
      "R5=Q*I1\n",
      "Vz=(I3*R0)+Q\n",
      "\n",
      "#Result\n",
      "print\"(a) The maximum value of R is\",R*10**-3,\"10**3\",\"ohm\"\n",
      "print\"(b) The value of R is\",R1,\"ohm\"\n",
      "print\"(c) The power dissipated across R is\",R4*10**3,\"10**-3\",\"ohm\",\"and across diode is\",R5*10**3,\"10**-3 W\"\n",
      "print\"(d) The maximum voltage Vb is\",Vz,\"V\""
     ],
     "language": "python",
     "metadata": {},
     "outputs": [
      {
       "output_type": "stream",
       "stream": "stdout",
       "text": [
        "(a) The maximum value of R is 4.3 10**3 ohm\n",
        "(b) The value of R is 860.0 ohm\n",
        "(c) The power dissipated across R is 26.5 10**-3 ohm and across diode is 3.5 10**-3 W\n",
        "(d) The maximum voltage Vb is 1.7 V\n"
       ]
      }
     ],
     "prompt_number": 148
    },
    {
     "cell_type": "heading",
     "level": 2,
     "metadata": {},
     "source": [
      "Example 34.16 Page no 935"
     ]
    },
    {
     "cell_type": "code",
     "collapsed": false,
     "input": [
      "#Given\n",
      "I0=5*10**-12                      #A\n",
      "K=8.6*10**-5                      #eVK**-1\n",
      "Q=1.6*10**-19                     #J K**-1\n",
      "V=0.6                             #volts\n",
      "V1=0.7                             #volts\n",
      "A=23.256\n",
      "A1=27.132\n",
      "\n",
      "#Calculation\n",
      "import math\n",
      "I=-I0*(Q*V/math.exp(K*Q)-1)\n",
      "Z=I*(math.exp(A)-1)\n",
      "I1=-I0*(Q*V1/math.exp(K*Q)-1)\n",
      "Z1=I1*(math.exp(A1)-1)\n",
      "S=Z1-Z\n",
      "V2=V1-V\n",
      "J=V2/S\n",
      "\n",
      "#Result\n",
      "print\"(a) The forward current at a forward voltage is\",round(Z,4),\"A\"\n",
      "print\"(b) The voltage across the diode is\",round(S,4),\"A\"\n",
      "print\"(c) The dynamic resistance is\",round(J,4),\"ohm\"\n",
      "print\"(d) For change in votage from 1V to 2V,the current will remain equal to\",I0,\"A\""
     ],
     "language": "python",
     "metadata": {},
     "outputs": [
      {
       "output_type": "stream",
       "stream": "stdout",
       "text": [
        "(a) The forward current at a forward voltage is 0.0629 A\n",
        "(b) The voltage across the diode is 2.9727 A\n",
        "(c) The dynamic resistance is 0.0336 ohm\n",
        "(d) For change in votage from 1V to 2V,the current will remain equal to 5e-12 A\n"
       ]
      }
     ],
     "prompt_number": 16
    },
    {
     "cell_type": "heading",
     "level": 2,
     "metadata": {},
     "source": [
      "Example 34.17 Page no 936"
     ]
    },
    {
     "cell_type": "code",
     "collapsed": false,
     "input": [
      "#Given\n",
      "Vbe=24*10**-3                      #V\n",
      "Ib=32*10**-6                       #A\n",
      "Ic=3.6*10**-3                      #A\n",
      "Rl=4.8*10**3\n",
      "\n",
      "#Calculation\n",
      "B=Ic/Ib\n",
      "Rbe=Vbe/Ib\n",
      "Gm=Ic/Vbe\n",
      "Av=(Rl*Ic)/Vbe\n",
      "\n",
      "#Result\n",
      "print\"(i) The current gain is\",B\n",
      "print\"(ii) The input resistance Rbe is\",Rbe,\"ohm\"\n",
      "print\"(iii) The transconductance Gm is\",Gm,\"S\"\n",
      "print\"(iv) Voltage gain Av is\",Av"
     ],
     "language": "python",
     "metadata": {},
     "outputs": [
      {
       "output_type": "stream",
       "stream": "stdout",
       "text": [
        "(i) The current gain is 112.5\n",
        "(ii) The input resistance Rbe is 750.0 ohm\n",
        "(iii) The transconductance Gm is 0.15 S\n",
        "(iv) Voltage gain Av is 720.0\n"
       ]
      }
     ],
     "prompt_number": 28
    }
   ],
   "metadata": {}
  }
 ]
}