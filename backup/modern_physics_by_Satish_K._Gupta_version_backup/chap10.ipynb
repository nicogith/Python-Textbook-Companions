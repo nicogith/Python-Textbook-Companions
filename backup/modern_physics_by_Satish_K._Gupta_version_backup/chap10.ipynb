{
 "metadata": {
  "name": "",
  "signature": "sha256:59cd979321ac17257305319649b46031fe00ee56620ef7034e9b0708b633af30"
 },
 "nbformat": 3,
 "nbformat_minor": 0,
 "worksheets": [
  {
   "cells": [
    {
     "cell_type": "heading",
     "level": 1,
     "metadata": {},
     "source": [
      "Chapter 10 Thermoelectric effect"
     ]
    },
    {
     "cell_type": "heading",
     "level": 2,
     "metadata": {},
     "source": [
      "Example 10.1 Page no 304"
     ]
    },
    {
     "cell_type": "code",
     "collapsed": false,
     "input": [
      "#Given\n",
      "a=15                              #degree C\n",
      "b=270 \n",
      "\n",
      "#Calculation\n",
      "c=(2*b)-a\n",
      "\n",
      "#Result\n",
      "print\"Temperature is\", c,\"degree C\""
     ],
     "language": "python",
     "metadata": {},
     "outputs": [
      {
       "output_type": "stream",
       "stream": "stdout",
       "text": [
        "Temperature is 525 degree C\n"
       ]
      }
     ],
     "prompt_number": 3
    },
    {
     "cell_type": "heading",
     "level": 2,
     "metadata": {},
     "source": [
      "Example 10.2 Page no 304"
     ]
    },
    {
     "cell_type": "code",
     "collapsed": false,
     "input": [
      "#Given\n",
      "a=10                         #degree C\n",
      "a1=527                    \n",
      "\n",
      "#Calculation\n",
      "a2=(a+a1)/2.0\n",
      "print\"Temperature is\",a2,\"degree C\""
     ],
     "language": "python",
     "metadata": {},
     "outputs": [
      {
       "output_type": "stream",
       "stream": "stdout",
       "text": [
        "Temperature is 268.5 degree C\n"
       ]
      }
     ],
     "prompt_number": 6
    },
    {
     "cell_type": "heading",
     "level": 2,
     "metadata": {},
     "source": [
      "Example 10.3 Page no 304"
     ]
    },
    {
     "cell_type": "code",
     "collapsed": false,
     "input": [
      "#Given\n",
      "R=100                       #ohm\n",
      "I=10**-6                     #A\n",
      "E=40.0*10**-6                   #V\n",
      "\n",
      "#Calculaton\n",
      "e=R*I\n",
      "t=e/E\n",
      "\n",
      "#Result\n",
      "print\"Smallest temperature difference is\",t,\"degree C\""
     ],
     "language": "python",
     "metadata": {},
     "outputs": [
      {
       "output_type": "stream",
       "stream": "stdout",
       "text": [
        "Smallest temperature difference is 2.5 degree C\n"
       ]
      }
     ],
     "prompt_number": 8
    },
    {
     "cell_type": "heading",
     "level": 2,
     "metadata": {},
     "source": [
      "Example 10.4 Page no 304"
     ]
    },
    {
     "cell_type": "code",
     "collapsed": false,
     "input": [
      "#Given\n",
      "a=80                    #Degree C\n",
      "b=13.31                 #micro V degree/C\n",
      "B=-0.038                 #micro V degree/C**2\n",
      "\n",
      "#Calculation\n",
      "E=(b*a)+((B*a**2)/2.0)\n",
      "an=-b/B\n",
      "\n",
      "#Result\n",
      "print\"Thermo emf of silver is\",E,\"micro V\"\n",
      "print\"Neutral temperature is\",round(an,2),\"degree C\""
     ],
     "language": "python",
     "metadata": {},
     "outputs": [
      {
       "output_type": "stream",
       "stream": "stdout",
       "text": [
        "Thermo emf of silver is 943.2 micro V\n",
        "Neutarl temperature is 350.26 degree C\n"
       ]
      }
     ],
     "prompt_number": 13
    },
    {
     "cell_type": "heading",
     "level": 2,
     "metadata": {},
     "source": [
      "Example 10.5 Page no 304"
     ]
    },
    {
     "cell_type": "code",
     "collapsed": false,
     "input": [
      "#Given\n",
      "a=14                         #micro V degree/C\n",
      "b=-0.04                      #micro V degree/C**2\n",
      "\n",
      "#Calculation\n",
      "an=-a/b\n",
      "\n",
      "#Result\n",
      "print\"Neutral temperature is\",an,\"degree C\""
     ],
     "language": "python",
     "metadata": {},
     "outputs": [
      {
       "output_type": "stream",
       "stream": "stdout",
       "text": [
        "Neutral temperature is 350.0 degree C\n"
       ]
      }
     ],
     "prompt_number": 16
    },
    {
     "cell_type": "heading",
     "level": 2,
     "metadata": {},
     "source": [
      "Example 10.6 Page no 304"
     ]
    },
    {
     "cell_type": "code",
     "collapsed": false,
     "input": [
      "#Given\n",
      "E=500                         #micro V\n",
      "a=41                         #micro V degree/C\n",
      "b=0.041                         #micro V degree/C**2\n",
      "c=-5500\n",
      "\n",
      "#Calculation\n",
      "import math\n",
      "A=-(a+(math.sqrt(a**2-4*b*c)))/(2.0*b)\n",
      "\n",
      "#Result\n",
      "print\"Temperature of hot junction is\", round(A,2),\"degree C\""
     ],
     "language": "python",
     "metadata": {},
     "outputs": [
      {
       "output_type": "stream",
       "stream": "stdout",
       "text": [
        "Temperature of hot junction is -1119.8 degree C\n"
       ]
      }
     ],
     "prompt_number": 24
    }
   ],
   "metadata": {}
  }
 ]
}