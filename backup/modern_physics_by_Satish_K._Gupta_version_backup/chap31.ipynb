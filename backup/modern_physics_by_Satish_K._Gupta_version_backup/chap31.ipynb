{
 "metadata": {
  "name": "",
  "signature": "sha256:64e0a844a3ba33dead720cfb202f40f7dab27e1a9fab7ab4975bb30624a36195"
 },
 "nbformat": 3,
 "nbformat_minor": 0,
 "worksheets": [
  {
   "cells": [
    {
     "cell_type": "heading",
     "level": 1,
     "metadata": {},
     "source": [
      "Chapter 31 Radioactivity"
     ]
    },
    {
     "cell_type": "heading",
     "level": 2,
     "metadata": {},
     "source": [
      "Example 31.1 Page no 855"
     ]
    },
    {
     "cell_type": "code",
     "collapsed": false,
     "input": [
      "#Given\n",
      "T=138.0                         #days\n",
      "E=0.693\n",
      "N=12.5\n",
      "N0=100\n",
      "\n",
      "#Calculation\n",
      "import math\n",
      "L=E/T\n",
      "N1=N/N0\n",
      "t=(2.303*math.log10(8))/L\n",
      "\n",
      "#Result\n",
      "print\"Time is\",round(t,2),\"days\""
     ],
     "language": "python",
     "metadata": {},
     "outputs": [
      {
       "output_type": "stream",
       "stream": "stdout",
       "text": [
        "Time is 414.16 days\n"
       ]
      }
     ],
     "prompt_number": 71
    },
    {
     "cell_type": "heading",
     "level": 2,
     "metadata": {},
     "source": [
      "Example 31.2 Page no 855"
     ]
    },
    {
     "cell_type": "code",
     "collapsed": false,
     "input": [
      "#Given\n",
      "T=1.42*10**17                  #s\n",
      "A=6.02*10**23                   #mol**-1\n",
      "E=0.693\n",
      "L=238.0\n",
      "\n",
      "#Calculation\n",
      "N=A/L\n",
      "L1=E/T\n",
      "Z=L1*N\n",
      "\n",
      "#Result\n",
      "print\"Disintegrations per second occur in 1g of U**238 is\",round(Z*10**-4,3),\"*10**4 s**-1\""
     ],
     "language": "python",
     "metadata": {},
     "outputs": [
      {
       "output_type": "stream",
       "stream": "stdout",
       "text": [
        "Disintegrations per second occur in 1g of U**238 is 1.234 *10**4 s**-1\n"
       ]
      }
     ],
     "prompt_number": 1
    },
    {
     "cell_type": "heading",
     "level": 2,
     "metadata": {},
     "source": [
      "Example 31.3 Page no 855"
     ]
    },
    {
     "cell_type": "code",
     "collapsed": false,
     "input": [
      "#Given\n",
      "K=-40                             #Cl\n",
      "M=0.075                           #kg mole**-1\n",
      "m=1.2*10**-6                      #kg\n",
      "A=6.0*10**23\n",
      "D=170                             #s**-1\n",
      "E=0.693\n",
      "\n",
      "#Calculation\n",
      "N=(A/M)*m\n",
      "L=D/N\n",
      "T=(E/L)\n",
      "O=T/31536000.0\n",
      "\n",
      "#Result\n",
      "print\"Half life of K40 atom is\",round(O*10**-9,3),\"*10**9 years\""
     ],
     "language": "python",
     "metadata": {},
     "outputs": [
      {
       "output_type": "stream",
       "stream": "stdout",
       "text": [
        "Half life of K40 atom is 1.241 *10**9 years\n"
       ]
      }
     ],
     "prompt_number": 81
    },
    {
     "cell_type": "heading",
     "level": 2,
     "metadata": {},
     "source": [
      "Example 31.4 Page no 856"
     ]
    },
    {
     "cell_type": "code",
     "collapsed": false,
     "input": [
      "#Given\n",
      "T=6.0                              #hours\n",
      "E=0.693\n",
      "A=6.025*10**23\n",
      "W=99.0\n",
      "S=10**-12\n",
      "t=1                                #hours\n",
      "\n",
      "#Calculation\n",
      "import math\n",
      "L=E/T\n",
      "N0=(A/W)*S\n",
      "R0=L*N0\n",
      "N=N0*math.exp(-L)\n",
      "R=L*N\n",
      "R1=L*N\n",
      "\n",
      "#Result\n",
      "print\"Activity at beginning is\", round(R0*10**-8,2),\"*10**8 /h\"\n",
      "print\"Activity at the end is\",round(R1*10**-8,3),\"*10**8 /h\""
     ],
     "language": "python",
     "metadata": {},
     "outputs": [
      {
       "output_type": "stream",
       "stream": "stdout",
       "text": [
        "Activity at beginning is 7.03 *10**8 /h\n",
        "Activity at the end is 6.262 *10**8 /h\n"
       ]
      }
     ],
     "prompt_number": 15
    },
    {
     "cell_type": "heading",
     "level": 2,
     "metadata": {},
     "source": [
      "Example 31.5 Page no 856"
     ]
    },
    {
     "cell_type": "code",
     "collapsed": false,
     "input": [
      "#Given\n",
      "t=30.0                          #years\n",
      "a=16\n",
      "\n",
      "#Calculation\n",
      "import math\n",
      "l=(2.3026*math.log10(a))/t\n",
      "T=0.693/l\n",
      "\n",
      "#Result\n",
      "print\"Half life period is\", round(T,1),\"years\""
     ],
     "language": "python",
     "metadata": {},
     "outputs": [
      {
       "output_type": "stream",
       "stream": "stdout",
       "text": [
        "Half life period is 7.5 years\n"
       ]
      }
     ],
     "prompt_number": 22
    },
    {
     "cell_type": "heading",
     "level": 2,
     "metadata": {},
     "source": [
      "Example 31.6 Page no 856"
     ]
    },
    {
     "cell_type": "code",
     "collapsed": false,
     "input": [
      "#Given\n",
      "m1=238.05081\n",
      "m2=234.04363\n",
      "m3=4.00260\n",
      "A=931.5                            #Mev\n",
      "\n",
      "#Calculation\n",
      "Ea=(m1-m2-m3)*A\n",
      "\n",
      "#Result\n",
      "print\"Kinetic energy is\",round(Ea,2),\"Mev\""
     ],
     "language": "python",
     "metadata": {},
     "outputs": [
      {
       "output_type": "stream",
       "stream": "stdout",
       "text": [
        "Kinetic energy is 4.27 Mev\n"
       ]
      }
     ],
     "prompt_number": 25
    },
    {
     "cell_type": "heading",
     "level": 2,
     "metadata": {},
     "source": [
      "Example 31.7 Page no 856"
     ]
    },
    {
     "cell_type": "code",
     "collapsed": false,
     "input": [
      "#Given\n",
      "m1=22.994466\n",
      "m2=22.989770\n",
      "A=931.5\n",
      "\n",
      "#Calculation\n",
      "Eb=(m1-m2)*A\n",
      "\n",
      "#Result\n",
      "print\"Maximum kinetic energy is\",round(Eb,3),\"Mev\""
     ],
     "language": "python",
     "metadata": {},
     "outputs": [
      {
       "output_type": "stream",
       "stream": "stdout",
       "text": [
        "Maximum kinetic energy is 4.374 Mev\n"
       ]
      }
     ],
     "prompt_number": 28
    },
    {
     "cell_type": "heading",
     "level": 2,
     "metadata": {},
     "source": [
      "Example 31.8 Page no 856"
     ]
    },
    {
     "cell_type": "code",
     "collapsed": false,
     "input": [
      "#Given\n",
      "E1=0\n",
      "E2=0.412*1.6*10**-13\n",
      "E3=1.088*1.6*10**-13\n",
      "h=6.62*10**-34\n",
      "m1=197.968233\n",
      "m2=197.966760\n",
      "a=931.5\n",
      "A=1.088\n",
      "A1=0.412\n",
      "\n",
      "#Calculation\n",
      "v1=(E3-E1)/h\n",
      "v2=(E2-E1)/h\n",
      "v3=(E3-E2)/h\n",
      "Eb1=((m1-m2)*a)-A\n",
      "Eb2=((m1-m2)*a)-A1\n",
      "\n",
      "#Result\n",
      "print\"Radiation frequencies are\",round(v1*10**-20,2)*10**20,\",\",round(v2*10**-20,3)*10**20,\"and\",round(v3*10**-20,2)*10**20\n",
      "print\"Maximum kinetic energies are\",round(Eb1,3),\"Mev and \",round(Eb2,3),\"Mev\""
     ],
     "language": "python",
     "metadata": {},
     "outputs": [
      {
       "output_type": "stream",
       "stream": "stdout",
       "text": [
        "Radiation frequencies are 2.63e+20 , 9.96e+19 and 1.63e+20\n",
        "Maximum kinetic energies are 0.284 Mev and  0.96 Mev\n"
       ]
      }
     ],
     "prompt_number": 42
    },
    {
     "cell_type": "heading",
     "level": 2,
     "metadata": {},
     "source": [
      "Example 31.9 Page no 857"
     ]
    },
    {
     "cell_type": "code",
     "collapsed": false,
     "input": [
      "#Given\n",
      "a=15\n",
      "b=9.0\n",
      "T=5730\n",
      "\n",
      "#Calculation\n",
      "import math\n",
      "A=a/b\n",
      "l=2.303*math.log10(A)\n",
      "t=(l*T)/0.693\n",
      "\n",
      "#Result\n",
      "print\"Approximation age of the indus valley civilization is\",round(t,2),\"years\""
     ],
     "language": "python",
     "metadata": {},
     "outputs": [
      {
       "output_type": "stream",
       "stream": "stdout",
       "text": [
        "Approximation age of the indus valley civilization is 4224.47 years\n"
       ]
      }
     ],
     "prompt_number": 46
    }
   ],
   "metadata": {}
  }
 ]
}