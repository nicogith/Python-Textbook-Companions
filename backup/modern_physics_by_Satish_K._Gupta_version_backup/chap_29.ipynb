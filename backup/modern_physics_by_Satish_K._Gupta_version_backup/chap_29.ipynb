{
 "metadata": {
  "name": "",
  "signature": "sha256:15f32b3e96d10d200143bd7ffbc8811afc0974b65cf155210561266d411e6511"
 },
 "nbformat": 3,
 "nbformat_minor": 0,
 "worksheets": [
  {
   "cells": [
    {
     "cell_type": "heading",
     "level": 1,
     "metadata": {},
     "source": [
      "Chapter 29 Wave Nature Of Matter"
     ]
    },
    {
     "cell_type": "heading",
     "level": 2,
     "metadata": {},
     "source": [
      "Example 29.1 Page no 815"
     ]
    },
    {
     "cell_type": "code",
     "collapsed": false,
     "input": [
      "#Given\n",
      "h=6.62*10**-34                      #Js\n",
      "Me=9.1*10**-31                      #Kg\n",
      "Ve=10**5                            #m s**-1\n",
      "Mp=1.67*10**-27                     #Kg\n",
      "Vp=10**5                            #m s**-1\n",
      "\n",
      "#Calculation\n",
      "Le=h/(Me*Ve)\n",
      "Lp=h/(Mp*Vp)\n",
      "\n",
      "#Result\n",
      "print\"The de-broglie wavelength of electron is\",round(Le*10**9,2),\"*10**-9 m\"\n",
      "print\"The de-broglie wavelenght of proton is\",round(Lp*10**12,2),\"*10**-12 m\""
     ],
     "language": "python",
     "metadata": {},
     "outputs": [
      {
       "output_type": "stream",
       "stream": "stdout",
       "text": [
        "The de-broglie wavelength of electron is 7.27 10**-9 m\n",
        "The de-broglie wavelenght of proton is 3.96 10**-12 m\n"
       ]
      }
     ],
     "prompt_number": 9
    },
    {
     "cell_type": "heading",
     "level": 2,
     "metadata": {},
     "source": [
      "Example 29.2 Page no 816"
     ]
    },
    {
     "cell_type": "code",
     "collapsed": false,
     "input": [
      "#Given\n",
      "M0=9.1*10**-31                     #Kg\n",
      "h=6.62*10**-34                     #J s\n",
      "V=0.5                              #c\n",
      "V1=1.5*10**8\n",
      "\n",
      "#Calculation\n",
      "import math\n",
      "L=(h*math.sqrt(1-V**2))/(M0*V1)\n",
      "\n",
      "#Result\n",
      "print\"The de-broglie wavelenght is\",round(L*10**12,1),\"*10**-12 m\""
     ],
     "language": "python",
     "metadata": {},
     "outputs": [
      {
       "output_type": "stream",
       "stream": "stdout",
       "text": [
        "The de-broglie wavelenght is 4.2 10**-12 m\n"
       ]
      }
     ],
     "prompt_number": 16
    },
    {
     "cell_type": "heading",
     "level": 2,
     "metadata": {},
     "source": [
      "Example 29.3 Page no 816"
     ]
    },
    {
     "cell_type": "code",
     "collapsed": false,
     "input": [
      "#Given\n",
      "h=6.6*10**-34                        #J s\n",
      "m=9.1*10**-31                        #kg\n",
      "Iev=1.6*10**-19                      #J\n",
      "E=6.4*10**-17                        #J\n",
      "\n",
      "#Calculation\n",
      "L=h/(math.sqrt(2*m*E))\n",
      "\n",
      "#Result\n",
      "print\"The de-broglie wavelenght of electron is\",round(L*10**10,2),\"A\""
     ],
     "language": "python",
     "metadata": {},
     "outputs": [
      {
       "output_type": "stream",
       "stream": "stdout",
       "text": [
        "The de-broglie wavelenght of electron is 0.61 A\n"
       ]
      }
     ],
     "prompt_number": 23
    },
    {
     "cell_type": "heading",
     "level": 2,
     "metadata": {},
     "source": [
      "Example 29.4 Page no 816"
     ]
    },
    {
     "cell_type": "code",
     "collapsed": false,
     "input": [
      "#Given\n",
      "T=300                         #K\n",
      "K=1.38*10**-23                #J\n",
      "h=6.62*10**-34\n",
      "m=1.675*10**-27\n",
      "\n",
      "#Calculation\n",
      "E=(3/2.0)*K*T\n",
      "L=h/(math.sqrt(2*m*E))\n",
      "\n",
      "#Result\n",
      "print\"The de-broglie wavelenght associated with thermal neutrons is\",round(L*10**10,3),\"*10**-10 m\""
     ],
     "language": "python",
     "metadata": {},
     "outputs": [
      {
       "output_type": "stream",
       "stream": "stdout",
       "text": [
        "The de-broglie wavelenght associated with thermal neutrons is 1.451 10**-10 m\n"
       ]
      }
     ],
     "prompt_number": 30
    },
    {
     "cell_type": "heading",
     "level": 2,
     "metadata": {},
     "source": [
      "Example 29.5 Page no 816"
     ]
    },
    {
     "cell_type": "code",
     "collapsed": false,
     "input": [
      "#Given\n",
      "L=10**-10                     #m\n",
      "h=6.62*10**-34\n",
      "c=3*10**8\n",
      "S=1.6*10**-19\n",
      "m=9.11*10**-31                #kg\n",
      "\n",
      "#Calculation\n",
      "#For X-ray photon of wavelength\n",
      "E=(h*c)/L\n",
      "E1=E/S\n",
      "#For electron of wavelength \n",
      "Mv=h/L\n",
      "E2=(Mv**2)/(2*m)\n",
      "E3=E2/S\n",
      "\n",
      "#Result\n",
      "print\"Energy of electron is\",round(E3,1),\"eV\"\n",
      "print\"It follows that X-ray photon has greater energy\""
     ],
     "language": "python",
     "metadata": {},
     "outputs": [
      {
       "output_type": "stream",
       "stream": "stdout",
       "text": [
        "Energy of electron is 150.3 eV\n",
        "It follows that X-ray photon has greater energy\n"
       ]
      }
     ],
     "prompt_number": 42
    },
    {
     "cell_type": "heading",
     "level": 2,
     "metadata": {},
     "source": [
      "Example 29.6 Page no 816"
     ]
    },
    {
     "cell_type": "code",
     "collapsed": false,
     "input": [
      "#Given\n",
      "M=1.675*10**-27                          #kg\n",
      "E=2.4*10**-17                            #J\n",
      "h=6.62*10**-34\n",
      "\n",
      "#Calculation\n",
      "import math\n",
      "L=h/(math.sqrt(2*M*E))\n",
      "\n",
      "#Result\n",
      "print\"The de-broglie wavelength of neutron is\",round(L*10**12,3)*10**-12,\" m\""
     ],
     "language": "python",
     "metadata": {},
     "outputs": [
      {
       "output_type": "stream",
       "stream": "stdout",
       "text": [
        "The de-broglie wavelength of neutron is 2.335e-12  m\n"
       ]
      }
     ],
     "prompt_number": 1
    },
    {
     "cell_type": "heading",
     "level": 2,
     "metadata": {},
     "source": [
      "Example 29.7 Page no 816"
     ]
    },
    {
     "cell_type": "code",
     "collapsed": false,
     "input": [
      "#Given\n",
      "V=50                       #kV\n",
      "E=8.0*10**-15              #J\n",
      "m=9.1*10**-31\n",
      "h=6.62*10**-34\n",
      "\n",
      "#Calculation\n",
      "import math\n",
      "L=h/(math.sqrt(2*m*E))\n",
      "\n",
      "#Result\n",
      "print\"Energy of electron is\",round(L*10**12,3),\"*10**-12 m\""
     ],
     "language": "python",
     "metadata": {},
     "outputs": [
      {
       "output_type": "stream",
       "stream": "stdout",
       "text": [
        "Energy of electron is 5.486 10**-12 m\n"
       ]
      }
     ],
     "prompt_number": 54
    }
   ],
   "metadata": {}
  }
 ]
}