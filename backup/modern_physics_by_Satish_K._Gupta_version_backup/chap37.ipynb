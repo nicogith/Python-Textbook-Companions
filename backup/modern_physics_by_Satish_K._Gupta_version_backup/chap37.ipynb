{
 "metadata": {
  "name": "",
  "signature": "sha256:10e3d0cfbf86d2f1081a9d348d19bd93a499331702a8a9f3c32ddc1a8679292a"
 },
 "nbformat": 3,
 "nbformat_minor": 0,
 "worksheets": [
  {
   "cells": [
    {
     "cell_type": "heading",
     "level": 1,
     "metadata": {},
     "source": [
      "Chapter 37 Line Communication"
     ]
    },
    {
     "cell_type": "heading",
     "level": 2,
     "metadata": {},
     "source": [
      "Example 37.1 Page no 1007"
     ]
    },
    {
     "cell_type": "code",
     "collapsed": false,
     "input": [
      "#Given\n",
      "U=1.48\n",
      "U2=1.45\n",
      "\n",
      "#Calculation\n",
      "import math\n",
      "C=U2/U\n",
      "C1=math.asin(C)*180/3.14\n",
      "\n",
      "#Result \n",
      "print\"The critical angle for a light is\",round(C1,1),\"degree\""
     ],
     "language": "python",
     "metadata": {},
     "outputs": [
      {
       "output_type": "stream",
       "stream": "stdout",
       "text": [
        "The critical angle for a light is 78.5 degree\n"
       ]
      }
     ],
     "prompt_number": 8
    },
    {
     "cell_type": "heading",
     "level": 2,
     "metadata": {},
     "source": [
      "Example 37.2 Page no 1007"
     ]
    },
    {
     "cell_type": "code",
     "collapsed": false,
     "input": [
      "#Given\n",
      "u=1.7\n",
      "u2=1.5\n",
      "\n",
      "#Calculation\n",
      "import math\n",
      "C=u2/u\n",
      "A=math.asin(C)*180/3.14\n",
      "I=math.sqrt(u**2-u2**2)\n",
      "A1=math.asin(I)*180/3.14\n",
      "\n",
      "#Result\n",
      "print\"The critical angle is\",round(A,1),\"degree\"\n",
      "print\"The angle of acceptance is\",round(A1,1),\"degree\""
     ],
     "language": "python",
     "metadata": {},
     "outputs": [
      {
       "output_type": "stream",
       "stream": "stdout",
       "text": [
        "The critical angle is 62.0 degree\n",
        "The angle of acceptance is 53.2 degree\n"
       ]
      }
     ],
     "prompt_number": 19
    },
    {
     "cell_type": "heading",
     "level": 2,
     "metadata": {},
     "source": [
      "Example 37.3 Page no 1007"
     ]
    },
    {
     "cell_type": "code",
     "collapsed": false,
     "input": [
      "#Given\n",
      "u1=1.5\n",
      "u2=1.3\n",
      "L=30                            #m\n",
      "c=3*10**8\n",
      "\n",
      "#Calculation\n",
      "import math\n",
      "V=c/u1\n",
      "t1=L/V\n",
      "C=u2/u1\n",
      "C1=math.asin(C)*180/3.14\n",
      "x=L/C\n",
      "t=x/V\n",
      "\n",
      "#Result\n",
      "print\"(a) Time taken for light in axical mode is\",t1*10**7,\"*10**-7 s\" \n",
      "print\"(b) Time taken for light in highest order mode is\",round(t*10**7,2),\"*10**-7 s\""
     ],
     "language": "python",
     "metadata": {},
     "outputs": [
      {
       "output_type": "stream",
       "stream": "stdout",
       "text": [
        "(a) Time taken for light in axical mode is 1.5 *10**-7 s\n",
        "(b) Time taken for light in highest order mode is 1.73 *10**-7 s\n"
       ]
      }
     ],
     "prompt_number": 49
    },
    {
     "cell_type": "heading",
     "level": 2,
     "metadata": {},
     "source": [
      "Example 37.5 Page no 1007"
     ]
    },
    {
     "cell_type": "code",
     "collapsed": false,
     "input": [
      "#Given\n",
      "a=0.5\n",
      "b=50.0                              #Km\n",
      "\n",
      "#Calculation\n",
      "import math\n",
      "A=10*math.log10(a)\n",
      "B=A/b\n",
      "\n",
      "#Result\n",
      "print\"Attenuation is\", round(B,2),\"dB/Km\""
     ],
     "language": "python",
     "metadata": {},
     "outputs": [
      {
       "output_type": "stream",
       "stream": "stdout",
       "text": [
        "Attenuation is -0.06 dB/Km\n"
       ]
      }
     ],
     "prompt_number": 54
    }
   ],
   "metadata": {}
  }
 ]
}