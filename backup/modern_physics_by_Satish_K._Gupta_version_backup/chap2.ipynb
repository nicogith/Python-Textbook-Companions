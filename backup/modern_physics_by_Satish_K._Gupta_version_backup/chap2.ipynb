{
 "metadata": {
  "name": "",
  "signature": "sha256:1e2d45d8326c66f64e42e0f8f482f41d5aabf3a1eabc7e50f07a0c18121fe999"
 },
 "nbformat": 3,
 "nbformat_minor": 0,
 "worksheets": [
  {
   "cells": [
    {
     "cell_type": "heading",
     "level": 1,
     "metadata": {},
     "source": [
      "Chapter 2 Electric field"
     ]
    },
    {
     "cell_type": "heading",
     "level": 2,
     "metadata": {},
     "source": [
      "Example 2.1 Page no 39"
     ]
    },
    {
     "cell_type": "code",
     "collapsed": false,
     "input": [
      "#Given\n",
      "m=10**-7                       #Kg\n",
      "q=1.6*10**-19                  #C\n",
      "g=9.8\n",
      "\n",
      "#Calculation\n",
      "E=(m*g)/q\n",
      "\n",
      "#Result\n",
      "print\"Electric field strength required is\", E"
     ],
     "language": "python",
     "metadata": {},
     "outputs": [
      {
       "output_type": "stream",
       "stream": "stdout",
       "text": [
        "Electric field strenght required is 6.125e+12\n"
       ]
      }
     ],
     "prompt_number": 2
    },
    {
     "cell_type": "heading",
     "level": 2,
     "metadata": {},
     "source": [
      "Example 2.2 Page no 39"
     ]
    },
    {
     "cell_type": "code",
     "collapsed": false,
     "input": [
      "#Given\n",
      "m=10.0**-3                 #Kg\n",
      "q=5*10**-6                 #C\n",
      "u=20                       #m/s\n",
      "E=2*10**5                  #N/C\n",
      "\n",
      "#Calculation\n",
      "F=q*E\n",
      "a=-F/m\n",
      "S=-u**2/(2.0*a)\n",
      "\n",
      "#Result\n",
      "print\"Distance travelled is\", S,\"m\""
     ],
     "language": "python",
     "metadata": {},
     "outputs": [
      {
       "output_type": "stream",
       "stream": "stdout",
       "text": [
        "Distance travelled is 0.2 m\n"
       ]
      }
     ],
     "prompt_number": 6
    },
    {
     "cell_type": "heading",
     "level": 2,
     "metadata": {},
     "source": [
      "Example 2.3 Page no 39"
     ]
    },
    {
     "cell_type": "code",
     "collapsed": false,
     "input": [
      "#Given\n",
      "E=2.55*10**4                       #V/m\n",
      "a=1.26*10**3                        #Kg/m**4\n",
      "g=9.81                               #m/s**2\n",
      "e=1.6*10**-19\n",
      "\n",
      "#Calculation\n",
      "import math\n",
      "q=12*e\n",
      "Fe=q*E\n",
      "r=((3*Fe)/(4.0*math.pi*a*g))**0.333\n",
      "\n",
      "#Result\n",
      "print\"The radius of the drop is\", round(r*10**4,5)*10**3,\"*10**-4 mm\""
     ],
     "language": "python",
     "metadata": {},
     "outputs": [
      {
       "output_type": "stream",
       "stream": "stdout",
       "text": [
        "The radius of the drop is 9.95 *10**-4 mm\n"
       ]
      }
     ],
     "prompt_number": 28
    },
    {
     "cell_type": "heading",
     "level": 2,
     "metadata": {},
     "source": [
      "Example 2.4 Page no 39"
     ]
    },
    {
     "cell_type": "code",
     "collapsed": false,
     "input": [
      "#Given\n",
      "m=80.0*10**-6                         #Kg\n",
      "q=2*10**-8                           #C\n",
      "E=20000                               #V/m\n",
      "g=9.8\n",
      "\n",
      "#Calculation\n",
      "import math\n",
      "a=(q*E)/(m*g)\n",
      "a1=math.atan(a)*180/3.14\n",
      "T=(q*E)/(math.sin(a1*3.14/180.0))\n",
      "\n",
      "#Result\n",
      "print\"Tension in the thread of the pendulum is\", round(T*10**4,1),\"*10**-4 N\"\n",
      "print\"Angle it make with the vertical is\",round(a1,2),\"Degree C\""
     ],
     "language": "python",
     "metadata": {},
     "outputs": [
      {
       "output_type": "stream",
       "stream": "stdout",
       "text": [
        "Tension in the thread of the pendulum is 8.8 *10**-4 N\n",
        "Angle it make with the vertical is 27.04 Degree C\n"
       ]
      }
     ],
     "prompt_number": 41
    },
    {
     "cell_type": "heading",
     "level": 2,
     "metadata": {},
     "source": [
      "Example 2.5 Page no 40"
     ]
    },
    {
     "cell_type": "code",
     "collapsed": false,
     "input": [
      "#Given\n",
      "q1=2.0*10**-7                    #C\n",
      "q2=1.0*10**-7                    #C\n",
      "r=10.0**-2                         #m\n",
      "m=9*10**9\n",
      "\n",
      "#Calculation\n",
      "import math\n",
      "E1=(m*q1)/r**2\n",
      "E2=(m*q2)/r**2\n",
      "\n",
      "#Result\n",
      "print\"Magnitude of field E1 is\", E1*10**-7,\"*10**7 N/C\"\n",
      "print\"Magnitude of field E2 is\", E2*10**-6,\"*10**6 N/C\""
     ],
     "language": "python",
     "metadata": {},
     "outputs": [
      {
       "output_type": "stream",
       "stream": "stdout",
       "text": [
        "Magnitude of field E1 is 1.8 *10**7 N/C\n",
        "Magnitude of field E2 is 9.0 *10**6 N/C\n"
       ]
      }
     ],
     "prompt_number": 50
    },
    {
     "cell_type": "heading",
     "level": 2,
     "metadata": {},
     "source": [
      "Example 2.6 Page no 40"
     ]
    },
    {
     "cell_type": "code",
     "collapsed": false,
     "input": [
      "#Given\n",
      "q1=5.0*10**-19                           #c\n",
      "q2=20*10**-19\n",
      "r=2.0                                 #m\n",
      "\n",
      "#Calculation\n",
      "import math\n",
      "x=-math.sqrt(q2/q1)\n",
      "x1=math.sqrt(q2/(q1*3))\n",
      "\n",
      "#Result\n",
      "print\"The point on the line joining is\", round(x,1),\"m and \",round(x1,1),\"m\""
     ],
     "language": "python",
     "metadata": {},
     "outputs": [
      {
       "output_type": "stream",
       "stream": "stdout",
       "text": [
        "The point on the line joining is -2.0 m and  1.2 m\n"
       ]
      }
     ],
     "prompt_number": 60
    },
    {
     "cell_type": "heading",
     "level": 2,
     "metadata": {},
     "source": [
      "Example 2.7 Page no 40"
     ]
    },
    {
     "cell_type": "code",
     "collapsed": false,
     "input": [
      "#Given\n",
      "r=0.2\n",
      "m=9*10**9\n",
      "qa=3*10**-6\n",
      "q=1.5*10**-9\n",
      "\n",
      "#Calculation\n",
      "a=r/2.0\n",
      "Ea=(m*qa)/a**2\n",
      "Eb=(m*qa)/a**2\n",
      "E=Ea+Eb\n",
      "F=q*E\n",
      "\n",
      "#Result\n",
      "print\"(a) Electric field at the mid point is\", E*10**-6,\"*10**6 N/C (along OB)\"\n",
      "print\"(b) Force experienced by the test charge is\",F*10**3,\"*10**-3 N (along OA)\""
     ],
     "language": "python",
     "metadata": {},
     "outputs": [
      {
       "output_type": "stream",
       "stream": "stdout",
       "text": [
        "(a) Electric field at the mid point is 5.4 *10**6 N/C (along OB)\n",
        "(b) Force experienced by the test charge is 8.1 *10**-3 N (along OA)\n"
       ]
      }
     ],
     "prompt_number": 71
    },
    {
     "cell_type": "heading",
     "level": 2,
     "metadata": {},
     "source": [
      "Example 2.8 Page no 40"
     ]
    },
    {
     "cell_type": "code",
     "collapsed": false,
     "input": [
      "#Given\n",
      "qa=16*10**-6                          #c\n",
      "qb=-9.0*10**-6                          #C\n",
      "r=0.08                                #m\n",
      "\n",
      "#Calculation\n",
      "x=-(qa/qb)*r\n",
      "\n",
      "#Result\n",
      "print\"Position of the point is\", round(x,2),\"m\""
     ],
     "language": "python",
     "metadata": {},
     "outputs": [
      {
       "output_type": "stream",
       "stream": "stdout",
       "text": [
        "Position of the point is 0.14 m\n"
       ]
      }
     ],
     "prompt_number": 82
    },
    {
     "cell_type": "heading",
     "level": 2,
     "metadata": {},
     "source": [
      "Example 2.9 Page no 41"
     ]
    },
    {
     "cell_type": "code",
     "collapsed": false,
     "input": [
      "#Given\n",
      "m=9*10**9\n",
      "qa=4*10**-6\n",
      "r=2.0*10**-2\n",
      "r1=10**-2\n",
      "qb=2*10**-6\n",
      "\n",
      "#Calculation\n",
      "import math\n",
      "Ea=(m*qa)/r**2\n",
      "Eb=(m*qb)/r1**2\n",
      "a=r1/r\n",
      "E=math.sqrt(Ea**2+Eb**2+(2*Ea*Eb*a))\n",
      "a11=Ea*(math.sin(60)*180/3.14)/(Ea+Eb*(math.cos(60)*180/3.14))\n",
      "\n",
      "#Result\n",
      "print\"Position is\", round(a11,2)"
     ],
     "language": "python",
     "metadata": {},
     "outputs": [
      {
       "output_type": "stream",
       "stream": "stdout",
       "text": [
        "Position is 0.16\n"
       ]
      }
     ],
     "prompt_number": 33
    },
    {
     "cell_type": "heading",
     "level": 2,
     "metadata": {},
     "source": [
      "Example 2.10 Page no 41"
     ]
    },
    {
     "cell_type": "code",
     "collapsed": false,
     "input": [
      "#Given\n",
      "q=500*10**-6\n",
      "r=0.1                   #m\n",
      "d=0.2\n",
      "m=9*10**9\n",
      "\n",
      "#Calculation\n",
      "p=q*r\n",
      "a=r/2.0\n",
      "R=d+a\n",
      "E=(m*2*p*R)/((R**2-a**2)**2)\n",
      "\n",
      "#Result\n",
      "print\"Electric dipole moment of the dipole is\", p,\"Cm\"\n",
      "print\"Electric field due to dipole is\",E*10**-7,\"*10**7 N/C\"\n"
     ],
     "language": "python",
     "metadata": {},
     "outputs": [
      {
       "output_type": "stream",
       "stream": "stdout",
       "text": [
        "Electric dipole moment of the dipole is 5e-05 Cm\n",
        "Electric field due to dipole is 6.25 *10**7 N/C\n"
       ]
      }
     ],
     "prompt_number": 21
    },
    {
     "cell_type": "heading",
     "level": 2,
     "metadata": {},
     "source": [
      "Example 2.11 Page no 41"
     ]
    },
    {
     "cell_type": "code",
     "collapsed": false,
     "input": [
      "#Given\n",
      "q=0.2*10**-12         #C\n",
      "w=10**-8              #m\n",
      "r=0.1                 #m\n",
      "e=9*10**9\n",
      "\n",
      "#Calculation\n",
      "p=q*w\n",
      "E=(e*2*p)/r**3\n",
      "\n",
      "#Result\n",
      "print\"The electric field at an axical point at a distance of 10cm from there mid point is\", E*10**8,\"*10**-8 N/C\""
     ],
     "language": "python",
     "metadata": {},
     "outputs": [
      {
       "output_type": "stream",
       "stream": "stdout",
       "text": [
        "The electric field at an axical point at a distance of 10cm from there mid point is 3.6 *10**-8 N/C\n"
       ]
      }
     ],
     "prompt_number": 1
    },
    {
     "cell_type": "heading",
     "level": 2,
     "metadata": {},
     "source": [
      "Example 2.13 Page no 42"
     ]
    },
    {
     "cell_type": "code",
     "collapsed": false,
     "input": [
      "#Given\n",
      "E=10.0**4\n",
      "t=9*10**-26                        #Nm\n",
      "\n",
      "#Calculation\n",
      "import math \n",
      "p=t/(E*math.sin(30*3.14/180.0))\n",
      "\n",
      "#Result\n",
      "print\"Dipole moment of the dipole is\", round(p*10**29,1),\"*10**-19 Cm\""
     ],
     "language": "python",
     "metadata": {},
     "outputs": [
      {
       "output_type": "stream",
       "stream": "stdout",
       "text": [
        "Dipole moment of the dipole is 1.8 *10**-19 Cm\n"
       ]
      }
     ],
     "prompt_number": 10
    },
    {
     "cell_type": "heading",
     "level": 2,
     "metadata": {},
     "source": [
      "Example 2.17 Page no 43"
     ]
    },
    {
     "cell_type": "code",
     "collapsed": false,
     "input": [
      "#Given\n",
      "p=-10**-7        #Cm\n",
      "i=10**5\n",
      "\n",
      "#Calculation\n",
      "F=p*i\n",
      "\n",
      "#Result\n",
      "print\"Force is given by\", F,\"N\"\n",
      "print\"Torque is zero\""
     ],
     "language": "python",
     "metadata": {},
     "outputs": [
      {
       "output_type": "stream",
       "stream": "stdout",
       "text": [
        "Force is given by -0.01 N\n",
        "Torque is zero\n"
       ]
      }
     ],
     "prompt_number": 15
    }
   ],
   "metadata": {}
  }
 ]
}