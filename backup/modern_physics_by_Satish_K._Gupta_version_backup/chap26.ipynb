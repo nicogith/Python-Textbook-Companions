{
 "metadata": {
  "name": "",
  "signature": "sha256:010c48e259f2faa6331c5ac2dae668d950f9fc1e120bf60a20ed01cae899383a"
 },
 "nbformat": 3,
 "nbformat_minor": 0,
 "worksheets": [
  {
   "cells": [
    {
     "cell_type": "heading",
     "level": 1,
     "metadata": {},
     "source": [
      "Chapter 26 Diffraction of light"
     ]
    },
    {
     "cell_type": "heading",
     "level": 2,
     "metadata": {},
     "source": [
      "Example 26.1 Page no 747"
     ]
    },
    {
     "cell_type": "code",
     "collapsed": false,
     "input": [
      "#Given\n",
      "a=0.5*10**-3                 #m\n",
      "l=6000*10**-10                 \n",
      "D=2\n",
      "\n",
      "#Calculation\n",
      "d=2*D*l/a\n",
      "\n",
      "#Result\n",
      "print\"Distance between the two dark bands is\",d*10**3,\"mm\""
     ],
     "language": "python",
     "metadata": {},
     "outputs": [
      {
       "output_type": "stream",
       "stream": "stdout",
       "text": [
        "Distance between the two dark bands is 4.8 mm\n"
       ]
      }
     ],
     "prompt_number": 3
    },
    {
     "cell_type": "heading",
     "level": 2,
     "metadata": {},
     "source": [
      "Example 26.2 Page no 747"
     ]
    },
    {
     "cell_type": "code",
     "collapsed": false,
     "input": [
      "#Given\n",
      "l=5900*10**-10                   #m\n",
      "a=11.8*10**-7\n",
      "\n",
      "#Calculation\n",
      "import math\n",
      "a=l/a\n",
      "A=math.asin(a)*180/3.14\n",
      "A1=2*A\n",
      "\n",
      "#Result\n",
      "print\"Angular position is\",round(A1,0),\"degree\""
     ],
     "language": "python",
     "metadata": {},
     "outputs": [
      {
       "output_type": "stream",
       "stream": "stdout",
       "text": [
        "Angular position is 60.0 degree\n"
       ]
      }
     ],
     "prompt_number": 10
    },
    {
     "cell_type": "heading",
     "level": 2,
     "metadata": {},
     "source": [
      "Example 26.3 Page no 747 "
     ]
    },
    {
     "cell_type": "code",
     "collapsed": false,
     "input": [
      "#Given\n",
      "l=650*10**-9\n",
      "a1=30                    #degree\n",
      "\n",
      "#Calculation\n",
      "a=l/math.sin(a1*3.14/180.0)\n",
      "a2=3*l/math.sin(a1*3.14/180.0)\n",
      "\n",
      "#Result\n",
      "print\"(a) Value of a when the 1st min. falls at 30 degree is\",round(a*10**6,1)*10**-6,\"m\"\n",
      "print\"(b) Value of a when the 1st max. falls at 30 degree is\",round(a2*10**6,2)*10**-6,\"m\""
     ],
     "language": "python",
     "metadata": {},
     "outputs": [
      {
       "output_type": "stream",
       "stream": "stdout",
       "text": [
        "(a) Value of a when the 1st min. falls at 30 degree is 1.3e-06 m\n",
        "(b) Value of a when the 1st max. falls at 30 degree is 3.9e-06 m\n"
       ]
      }
     ],
     "prompt_number": 3
    },
    {
     "cell_type": "heading",
     "level": 2,
     "metadata": {},
     "source": [
      "Example 26.4 Page no 747"
     ]
    },
    {
     "cell_type": "code",
     "collapsed": false,
     "input": [
      "#Given\n",
      "l=600.0*10**-9                   #m\n",
      "a=2*10**-3 \n",
      "\n",
      "#Calculation\n",
      "Z=a**2/l\n",
      "\n",
      "#Result\n",
      "print\"Distance is\",round(Z,2),\"m\""
     ],
     "language": "python",
     "metadata": {},
     "outputs": [
      {
       "output_type": "stream",
       "stream": "stdout",
       "text": [
        "Distance is 6.67 m\n"
       ]
      }
     ],
     "prompt_number": 19
    },
    {
     "cell_type": "heading",
     "level": 2,
     "metadata": {},
     "source": [
      "Example 26.5 Page no 747"
     ]
    },
    {
     "cell_type": "code",
     "collapsed": false,
     "input": [
      "#Given\n",
      "d=4.6*10**-6                       #rad\n",
      "l=5460*10**-10                         #m\n",
      "\n",
      "#Calculation\n",
      "D=1.22*l/d\n",
      "\n",
      "#Result\n",
      "print\"Aperture of the objective of the telescope is\",round(D,4),\"m\""
     ],
     "language": "python",
     "metadata": {},
     "outputs": [
      {
       "output_type": "stream",
       "stream": "stdout",
       "text": [
        "Aperture of the objective of the telescope is 0.1448 m\n"
       ]
      }
     ],
     "prompt_number": 24
    },
    {
     "cell_type": "heading",
     "level": 2,
     "metadata": {},
     "source": [
      "Example 26.6 Page no 748"
     ]
    },
    {
     "cell_type": "code",
     "collapsed": false,
     "input": [
      "#Given\n",
      "lr=660\n",
      "\n",
      "#Calculation\n",
      "l1=2*lr/3.0\n",
      "\n",
      "#Result\n",
      "print\"Value of lembda is\",l1,\"nm\""
     ],
     "language": "python",
     "metadata": {},
     "outputs": [
      {
       "output_type": "stream",
       "stream": "stdout",
       "text": [
        "Value of lembda is 440.0 nm\n"
       ]
      }
     ],
     "prompt_number": 26
    }
   ],
   "metadata": {}
  }
 ]
}