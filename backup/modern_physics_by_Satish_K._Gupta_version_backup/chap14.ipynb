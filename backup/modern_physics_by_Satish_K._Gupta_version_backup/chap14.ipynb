{
 "metadata": {
  "name": "",
  "signature": "sha256:04d8806c560b3bd07d87813351e39839b8f2c2b391de8dcf1afa3dc83f2be11d"
 },
 "nbformat": 3,
 "nbformat_minor": 0,
 "worksheets": [
  {
   "cells": [
    {
     "cell_type": "heading",
     "level": 1,
     "metadata": {},
     "source": [
      "Chapter 14 Earths magnetism"
     ]
    },
    {
     "cell_type": "heading",
     "level": 2,
     "metadata": {},
     "source": [
      "Example 14.3 Page no 433"
     ]
    },
    {
     "cell_type": "code",
     "collapsed": false,
     "input": [
      "#Given\n",
      "a=60                            #Degree\n",
      "Bh=0.16                          #G\n",
      "\n",
      "#Calculation\n",
      "import math\n",
      "B=Bh/cos(a*3.14/180.0)\n",
      "\n",
      "#Result\n",
      "print\"Magnitude of earth's field is\", round(B,2),\"G\""
     ],
     "language": "python",
     "metadata": {},
     "outputs": [
      {
       "output_type": "stream",
       "stream": "stdout",
       "text": [
        "Magnitude of earth's field is 0.32 G\n"
       ]
      }
     ],
     "prompt_number": 4
    },
    {
     "cell_type": "heading",
     "level": 2,
     "metadata": {},
     "source": [
      "Example 14.4 Page no 434"
     ]
    },
    {
     "cell_type": "code",
     "collapsed": false,
     "input": [
      "#Given\n",
      "a=60\n",
      "a2=45\n",
      "\n",
      "#Calculation\n",
      "import math\n",
      "a1=math.tan(a2*3.14/180.0)/math.cos(a*3.14/180.0)\n",
      "a3=math.atan(a1)*180/3.14\n",
      "\n",
      "#Result\n",
      "print\"Apparent value of the dip is\", round(a3,1),\"degree\""
     ],
     "language": "python",
     "metadata": {},
     "outputs": [
      {
       "output_type": "stream",
       "stream": "stdout",
       "text": [
        "Apparent value of the dip is 63.4 degree\n"
       ]
      }
     ],
     "prompt_number": 11
    },
    {
     "cell_type": "heading",
     "level": 2,
     "metadata": {},
     "source": [
      "Example 14.6 Page no 434"
     ]
    },
    {
     "cell_type": "code",
     "collapsed": false,
     "input": [
      "#Given\n",
      "l=30                    #cm\n",
      "l=0.15                  #m\n",
      "r=0.30                   #m\n",
      "Bh=0.34*10**-4            #T\n",
      "u=10**-7\n",
      "\n",
      "#Calculation\n",
      "M=Bh*(r**2-l**2)**2/(2*u*r)\n",
      "m=M/(2*l)\n",
      "\n",
      "#Result\n",
      "print\"Pole strength of the magnet is\",m,\"Am\""
     ],
     "language": "python",
     "metadata": {},
     "outputs": [
      {
       "output_type": "stream",
       "stream": "stdout",
       "text": [
        "Pole strength of the magnet is 8.60625 Am\n"
       ]
      }
     ],
     "prompt_number": 16
    },
    {
     "cell_type": "heading",
     "level": 2,
     "metadata": {},
     "source": [
      "Example 14.7 Page no 434"
     ]
    },
    {
     "cell_type": "code",
     "collapsed": false,
     "input": [
      "#Given\n",
      "M=0.4                       #Am**2\n",
      "r=0.1                       #m\n",
      "l=0.05                         #m\n",
      "u=10**-7\n",
      "\n",
      "#Calculation\n",
      "Bh=u*M/((r**2+l**2)**1.5)\n",
      "\n",
      "#Result\n",
      "print\"Horizontal component of earth's magnetic field is\", round(Bh*10**4,3)*10**-4,\"T\""
     ],
     "language": "python",
     "metadata": {},
     "outputs": [
      {
       "output_type": "stream",
       "stream": "stdout",
       "text": [
        "Horizontal component of earth's magnetic field is 2.86e-05 T\n"
       ]
      }
     ],
     "prompt_number": 22
    },
    {
     "cell_type": "heading",
     "level": 2,
     "metadata": {},
     "source": [
      "Example 14.8 Page no 435"
     ]
    },
    {
     "cell_type": "code",
     "collapsed": false,
     "input": [
      "#Given\n",
      "B=0.33\n",
      "a=0\n",
      "u=10**-7\n",
      "I=2.5                             #A\n",
      "\n",
      "#Calculation\n",
      "import math\n",
      "Bh=B/math.cos(a*3.14/180.0)\n",
      "a=u*2*I/(Bh*10**-4)\n",
      "\n",
      "#Result\n",
      "print\"Neutral point is\", round(a*10**2,1),\"cm\""
     ],
     "language": "python",
     "metadata": {},
     "outputs": [
      {
       "output_type": "stream",
       "stream": "stdout",
       "text": [
        "Neutral point is 1.5 cm\n"
       ]
      }
     ],
     "prompt_number": 28
    },
    {
     "cell_type": "heading",
     "level": 2,
     "metadata": {},
     "source": [
      "Example 14.9 Page no 435"
     ]
    },
    {
     "cell_type": "code",
     "collapsed": false,
     "input": [
      "#Given\n",
      "Bh=0.32                     #G\n",
      "B=0.48            \n",
      "\n",
      "#Calculation\n",
      "import math\n",
      "a=B/Bh\n",
      "a1=math.atan(a)*180/3.14\n",
      "\n",
      "#Result\n",
      "print\"New stable equilibrium is\", round(a1,1),\"degree\""
     ],
     "language": "python",
     "metadata": {},
     "outputs": [
      {
       "output_type": "stream",
       "stream": "stdout",
       "text": [
        "New stable equilibrium is 56.3 degree\n"
       ]
      }
     ],
     "prompt_number": 32
    },
    {
     "cell_type": "heading",
     "level": 2,
     "metadata": {},
     "source": [
      "Example 4.10 Page no 435"
     ]
    },
    {
     "cell_type": "code",
     "collapsed": false,
     "input": [
      "#Given\n",
      "n=22\n",
      "a=0.1                            #m\n",
      "Bh=0.3*10**-4                         #T\n",
      "u=10**-7\n",
      "\n",
      "#Calculation\n",
      "import math\n",
      "K=2*a*Bh/(n*4*math.pi*u)\n",
      "\n",
      "#Result\n",
      "print\"Reduction factor is\", round(K,3),\"A\""
     ],
     "language": "python",
     "metadata": {},
     "outputs": [
      {
       "output_type": "stream",
       "stream": "stdout",
       "text": [
        "Reduction factor is 0.217 A\n"
       ]
      }
     ],
     "prompt_number": 36
    },
    {
     "cell_type": "heading",
     "level": 2,
     "metadata": {},
     "source": [
      "Example 14.11 Page no 435"
     ]
    },
    {
     "cell_type": "code",
     "collapsed": false,
     "input": [
      "#Given\n",
      "n=40\n",
      "a=0.12\n",
      "I=0.15\n",
      "a1=45                            #degree\n",
      "u=10**-7\n",
      "\n",
      "#Calculation\n",
      "import math\n",
      "Bh=(n*u*4*math.pi*I)/(2.0*a*math.tan(a1*3.14/180.0))\n",
      "\n",
      "#Result\n",
      "print\"Strength of horizontal component is\", round(Bh*10**4,3),\"*10**-4 T\""
     ],
     "language": "python",
     "metadata": {},
     "outputs": [
      {
       "output_type": "stream",
       "stream": "stdout",
       "text": [
        "Strength of horizontal component is 0.314 *10**-4 T\n"
       ]
      }
     ],
     "prompt_number": 51
    },
    {
     "cell_type": "heading",
     "level": 2,
     "metadata": {},
     "source": [
      "Example 14.12 Page no 435"
     ]
    },
    {
     "cell_type": "code",
     "collapsed": false,
     "input": [
      "#Given\n",
      "a1=30\n",
      "a2=45                             #degree\n",
      "\n",
      "#Calculation\n",
      "import math\n",
      "n=2*math.tan(a1*3.14/180.0)/(math.tan(a2*3.14/180.0))\n",
      "\n",
      "#Result\n",
      "print\"Ratio of number of turns is\", round(n,3)"
     ],
     "language": "python",
     "metadata": {},
     "outputs": [
      {
       "output_type": "stream",
       "stream": "stdout",
       "text": [
        "Ratio of number of turns is 1.155\n"
       ]
      }
     ],
     "prompt_number": 5
    },
    {
     "cell_type": "heading",
     "level": 2,
     "metadata": {},
     "source": [
      "Example 14.13 Page no 436"
     ]
    },
    {
     "cell_type": "code",
     "collapsed": false,
     "input": [
      "#Given\n",
      "n=16\n",
      "a=0.1                        #m\n",
      "i=0.75                        #A\n",
      "Bh=5*10**-2                  #T\n",
      "v=2                           #/s\n",
      "\n",
      "#Calculation\n",
      "import math\n",
      "M=n*i*math.pi*a**2\n",
      "I=M*Bh/(4*math.pi**2*v**2)\n",
      "\n",
      "#Result\n",
      "print\"Moment of inertia is\",round(I*10**4,3),\"*10**-4 Kg m**2\""
     ],
     "language": "python",
     "metadata": {},
     "outputs": [
      {
       "output_type": "stream",
       "stream": "stdout",
       "text": [
        "Moment of inertia is 1.194 *10**-4 Kg m**2\n"
       ]
      }
     ],
     "prompt_number": 10
    },
    {
     "cell_type": "heading",
     "level": 2,
     "metadata": {},
     "source": [
      "Example 14.14 Page no 436"
     ]
    },
    {
     "cell_type": "code",
     "collapsed": false,
     "input": [
      "#Given\n",
      "T1=2.5\n",
      "T2=4.5\n",
      "M2=1.5\n",
      "\n",
      "#Calculation\n",
      "M=T2**2/(M2*T1**2)\n",
      "\n",
      "#Result\n",
      "print\"Ratio of magnetic moment is\",M"
     ],
     "language": "python",
     "metadata": {},
     "outputs": [
      {
       "output_type": "stream",
       "stream": "stdout",
       "text": [
        "Ratio of magnetic moment is 2.16\n"
       ]
      }
     ],
     "prompt_number": 11
    },
    {
     "cell_type": "heading",
     "level": 2,
     "metadata": {},
     "source": [
      "Example 14.15 Page no 436"
     ]
    },
    {
     "cell_type": "code",
     "collapsed": false,
     "input": [
      "#Given\n",
      "T1=3.0\n",
      "T2=4.0\n",
      "\n",
      "#Calculation\n",
      "M=(T2**2+T1**2)/(T2**2-T1**2)\n",
      "\n",
      "#Result\n",
      "print\"Ratio of magnetic moments is\",round(M,2)"
     ],
     "language": "python",
     "metadata": {},
     "outputs": [
      {
       "output_type": "stream",
       "stream": "stdout",
       "text": [
        "Ratio of magnetic moments is 3.57\n"
       ]
      }
     ],
     "prompt_number": 15
    },
    {
     "cell_type": "heading",
     "level": 2,
     "metadata": {},
     "source": [
      "Example 14.16 Page no 436"
     ]
    },
    {
     "cell_type": "code",
     "collapsed": false,
     "input": [
      "#Given\n",
      "a1=35                          #Degree\n",
      "B=0.39\n",
      "I=1                              #A\n",
      "a=4.0*10**-2\n",
      "u=10**-7\n",
      "\n",
      "#Calculation\n",
      "import math\n",
      "Bh=B*math.cos(a1*3.14/180.0)\n",
      "Bv=B*math.sin(a1*3.14/180.0)\n",
      "B1=(u*2*I*4/a)*10**4\n",
      "Rh=Bh-B1\n",
      "R=math.sqrt(Rh**2+Bv**2)\n",
      "Rh1=Bh+B1\n",
      "R3=math.sqrt(Rh1**2+Bv**2)\n",
      "\n",
      "#Result\n",
      "print\"Resultant magnetic field is\", round(R3,3),\"G\""
     ],
     "language": "python",
     "metadata": {},
     "outputs": [
      {
       "output_type": "stream",
       "stream": "stdout",
       "text": [
        "Resultant magnetic field is 0.566 G\n"
       ]
      }
     ],
     "prompt_number": 39
    },
    {
     "cell_type": "heading",
     "level": 2,
     "metadata": {},
     "source": [
      "Example 14.17 Page no 436"
     ]
    },
    {
     "cell_type": "code",
     "collapsed": false,
     "input": [
      "#Given\n",
      "M=5.25*10**-2                          #J/T\n",
      "Bh=0.42*10**-4                         #T\n",
      "u=10**-7\n",
      "\n",
      "#Calculation\n",
      "r=(u*M/Bh)**0.333\n",
      "r1=(u*2*M/Bh)**0.333\n",
      "\n",
      "#Result\n",
      "print\"(a) Distance from the centre of the magnet on its normal bisector is\", round(r*10**2,1),\"cm\"\n",
      "print\"(b) Distance from the centre of the magnet on its axis is\",round(r1*10**2,1),\"cm\""
     ],
     "language": "python",
     "metadata": {},
     "outputs": [
      {
       "output_type": "stream",
       "stream": "stdout",
       "text": [
        "(a) Distance from the centre of the magnet on its normal bisector is 5.0 cm\n",
        "(b) Distance from the centre of the magnet on its axis is 6.3 cm\n"
       ]
      }
     ],
     "prompt_number": 51
    },
    {
     "cell_type": "heading",
     "level": 2,
     "metadata": {},
     "source": [
      "Example 14.18 Page no 437"
     ]
    },
    {
     "cell_type": "code",
     "collapsed": false,
     "input": [
      "#Given\n",
      "I=0.35                    #A\n",
      "n=30\n",
      "a=12.0*10**-2\n",
      "u=10**-7\n",
      "\n",
      "#Calculation\n",
      "import math\n",
      "Bh=u*2*math.pi*n*I*0.707/a\n",
      "\n",
      "#Result\n",
      "print\"(a) Horizontal component of the earth's magnetic field is\", round(Bh*10**4,2),\"G\"\n",
      "print\"(b) The needle will reverse its original direction i.e.  it will point east to west.\""
     ],
     "language": "python",
     "metadata": {},
     "outputs": [
      {
       "output_type": "stream",
       "stream": "stdout",
       "text": [
        "(a) Horizontal component of the earth's magnetic field is 0.39 G\n",
        "(b) The needle will reverse its original direction i.e.  it will point east to west.\n"
       ]
      }
     ],
     "prompt_number": 60
    },
    {
     "cell_type": "heading",
     "level": 2,
     "metadata": {},
     "source": [
      "Example 14.19 Page no 437"
     ]
    },
    {
     "cell_type": "code",
     "collapsed": false,
     "input": [
      "#given\n",
      "t1=9                      #S\n",
      "t2=4.5\n",
      "Bh=0.34*10**-4                #T\n",
      "u=10**-7\n",
      "r=0.1                           #m\n",
      "\n",
      "#Calculation\n",
      "Baxial=Bh*((t1**2/t2**2)-1)\n",
      "M2=Baxial*r**2/(2*u)\n",
      "\n",
      "#Result\n",
      "print\"Magnetic moment is\", M2*10**-1,\"A m**2\""
     ],
     "language": "python",
     "metadata": {},
     "outputs": [
      {
       "output_type": "stream",
       "stream": "stdout",
       "text": [
        "Magnetic moment is 0.51 A m**2\n"
       ]
      }
     ],
     "prompt_number": 66
    }
   ],
   "metadata": {}
  }
 ]
}