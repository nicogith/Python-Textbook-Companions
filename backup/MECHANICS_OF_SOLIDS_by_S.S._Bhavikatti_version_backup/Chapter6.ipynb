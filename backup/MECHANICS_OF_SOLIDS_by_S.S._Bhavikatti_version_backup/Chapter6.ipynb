{
 "cells": [
  {
   "cell_type": "markdown",
   "metadata": {},
   "source": [
    "# Chapter6-SIMPLE MACHINES"
   ]
  },
  {
   "cell_type": "markdown",
   "metadata": {},
   "source": [
    "# Example 6.1"
   ]
  },
  {
   "cell_type": "code",
   "execution_count": 19,
   "metadata": {
    "collapsed": false
   },
   "outputs": [
    {
     "name": "stdout",
     "output_type": "stream",
     "text": [
      "Mechanical advantage-- 20.0\n",
      "Velocity Ratio 25.0\n",
      "Efficiency 0.8\n",
      "Ideal Load 12500.0\n",
      "Ideal Effort 400.0\n",
      "Effort lost in friction 100.0\n",
      "frictional resistance 2500.0\n"
     ]
    }
   ],
   "source": [
    "import math\n",
    "W = 10000.0  #Load\n",
    "P = 500.0    #Effort\n",
    "D = 20.0   #Distance moved by the effort \n",
    "d = 0.8     #Distance moved by the load \n",
    "MA=W/P         #Mechanical advantage\n",
    "VR=D/d      #Velocity Ratio\n",
    "Efficiency=MA/VR\n",
    "Pi =W/VR        #Ideal effort\n",
    "Wi = P*VR        #ideal load\n",
    "efl=P-Pi            #Effort lost in friction\n",
    "Fr=Wi-W            #frictional resistance\n",
    "print \"Mechanical advantage--\",MA\n",
    "print \"Velocity Ratio\",VR\n",
    "print \"Efficiency\",Efficiency\n",
    "print \"Ideal Load\",Wi\n",
    "print \"Ideal Effort\",Pi\n",
    "print \"Effort lost in friction\",efl\n",
    "print \"frictional resistance\",Fr\n",
    "\n",
    "\n"
   ]
  },
  {
   "cell_type": "markdown",
   "metadata": {},
   "source": [
    "# Example 6.2"
   ]
  },
  {
   "cell_type": "code",
   "execution_count": 20,
   "metadata": {
    "collapsed": false
   },
   "outputs": [
    {
     "name": "stdout",
     "output_type": "stream",
     "text": [
      "Law of machine is P= 0.05 W + 30.0\n",
      "Load is  3400.0 N\n",
      "Mechanical advantage-- 17.0\n",
      "Ideal effort is 113.333333333 N\n",
      "Effort lost in friction 86.6666666667\n",
      "Efficiency 56.6666666667\n"
     ]
    }
   ],
   "source": [
    "import math\n",
    "W1 = 2400.0  #Load 1\n",
    "P1= 150.0    #Effort1\n",
    "\n",
    "W2 = 3000.0  #Load 2\n",
    "P2= 180.0    #Effort2\n",
    "P3= 200.0    #Effort3\n",
    "#law of machine is given by P=mW+C\n",
    "m=(P2-P1)/(W2-W1)\n",
    "C=P2-m*W2\n",
    "print \"Law of machine is P=\",m,\"W\",\"+\",C\n",
    "W3=(P3-C)/m                   #Load 2\n",
    "print \"Load is \",W3,\"N\"\n",
    "MA=W3/P3         #Mechanical advantage\n",
    "print \"Mechanical advantage--\",MA\n",
    "VR=30.0      #Velocity Ratio\n",
    "Efficiency=MA/VR*100\n",
    "Pi =W3/VR        #Ideal effort\n",
    "print \"Ideal effort is\",Pi,\"N\"\n",
    "\n",
    "efl=P3-Pi            #Effort lost in friction\n",
    "\n",
    "print \"Effort lost in friction\",efl\n",
    "print \"Efficiency\",Efficiency"
   ]
  },
  {
   "cell_type": "markdown",
   "metadata": {
    "collapsed": true
   },
   "source": [
    "# Example 6.3"
   ]
  },
  {
   "cell_type": "code",
   "execution_count": 21,
   "metadata": {
    "collapsed": false
   },
   "outputs": [
    {
     "name": "stdout",
     "output_type": "stream",
     "text": [
      "Mechanical advantage-- 51.3333333333\n",
      "Velocity Ratio 85.5555555556\n",
      "Efficiency 61.7142857143\n",
      "Maximum Mechanical advantage-- 55.0\n",
      "Maximum Efficiency 64.2857142857\n"
     ]
    }
   ],
   "source": [
    "import math\n",
    "W1 = 7700.0  #Load 1\n",
    "P1= 150.0    #Effort1\n",
    "MA=W1/P1         #Mechanical advantage\n",
    "Efficiency=0.6\n",
    "VR=MA/Efficiency        #Velocity Ratio\n",
    "print \"Mechanical advantage--\",MA\n",
    "print \"Velocity Ratio\",VR\n",
    "W2 = 13200.0  #Load 2\n",
    "P2= 250.0    #Effort2\n",
    "MA=W2/P2\n",
    "Efficiency=MA/VR*100\n",
    "print \"Efficiency\",Efficiency\n",
    "#law of machine is given by P=mW+C\n",
    "m=(P2-P1)/(W2-W1)\n",
    "\n",
    "\n",
    "MMA=1/m         #Maximum Mechanical advantage\n",
    "print \"Maximum Mechanical advantage--\",MMA\n",
    "\n",
    "MaxEfficiency=MMA/VR*100\n",
    "\n",
    "print \"Maximum Efficiency\",MaxEfficiency"
   ]
  },
  {
   "cell_type": "markdown",
   "metadata": {},
   "source": [
    "# Example 6.4"
   ]
  },
  {
   "cell_type": "code",
   "execution_count": 22,
   "metadata": {
    "collapsed": false
   },
   "outputs": [
    {
     "name": "stdout",
     "output_type": "stream",
     "text": [
      "Law of machine is P= 0.06 W + 10.5\n"
     ]
    },
    {
     "data": {
      "application/javascript": [
       "/* Put everything inside the global mpl namespace */\n",
       "window.mpl = {};\n",
       "\n",
       "mpl.get_websocket_type = function() {\n",
       "    if (typeof(WebSocket) !== 'undefined') {\n",
       "        return WebSocket;\n",
       "    } else if (typeof(MozWebSocket) !== 'undefined') {\n",
       "        return MozWebSocket;\n",
       "    } else {\n",
       "        alert('Your browser does not have WebSocket support.' +\n",
       "              'Please try Chrome, Safari or Firefox ≥ 6. ' +\n",
       "              'Firefox 4 and 5 are also supported but you ' +\n",
       "              'have to enable WebSockets in about:config.');\n",
       "    };\n",
       "}\n",
       "\n",
       "mpl.figure = function(figure_id, websocket, ondownload, parent_element) {\n",
       "    this.id = figure_id;\n",
       "\n",
       "    this.ws = websocket;\n",
       "\n",
       "    this.supports_binary = (this.ws.binaryType != undefined);\n",
       "\n",
       "    if (!this.supports_binary) {\n",
       "        var warnings = document.getElementById(\"mpl-warnings\");\n",
       "        if (warnings) {\n",
       "            warnings.style.display = 'block';\n",
       "            warnings.textContent = (\n",
       "                \"This browser does not support binary websocket messages. \" +\n",
       "                    \"Performance may be slow.\");\n",
       "        }\n",
       "    }\n",
       "\n",
       "    this.imageObj = new Image();\n",
       "\n",
       "    this.context = undefined;\n",
       "    this.message = undefined;\n",
       "    this.canvas = undefined;\n",
       "    this.rubberband_canvas = undefined;\n",
       "    this.rubberband_context = undefined;\n",
       "    this.format_dropdown = undefined;\n",
       "\n",
       "    this.image_mode = 'full';\n",
       "\n",
       "    this.root = $('<div/>');\n",
       "    this._root_extra_style(this.root)\n",
       "    this.root.attr('style', 'display: inline-block');\n",
       "\n",
       "    $(parent_element).append(this.root);\n",
       "\n",
       "    this._init_header(this);\n",
       "    this._init_canvas(this);\n",
       "    this._init_toolbar(this);\n",
       "\n",
       "    var fig = this;\n",
       "\n",
       "    this.waiting = false;\n",
       "\n",
       "    this.ws.onopen =  function () {\n",
       "            fig.send_message(\"supports_binary\", {value: fig.supports_binary});\n",
       "            fig.send_message(\"send_image_mode\", {});\n",
       "            fig.send_message(\"refresh\", {});\n",
       "        }\n",
       "\n",
       "    this.imageObj.onload = function() {\n",
       "            if (fig.image_mode == 'full') {\n",
       "                // Full images could contain transparency (where diff images\n",
       "                // almost always do), so we need to clear the canvas so that\n",
       "                // there is no ghosting.\n",
       "                fig.context.clearRect(0, 0, fig.canvas.width, fig.canvas.height);\n",
       "            }\n",
       "            fig.context.drawImage(fig.imageObj, 0, 0);\n",
       "        };\n",
       "\n",
       "    this.imageObj.onunload = function() {\n",
       "        this.ws.close();\n",
       "    }\n",
       "\n",
       "    this.ws.onmessage = this._make_on_message_function(this);\n",
       "\n",
       "    this.ondownload = ondownload;\n",
       "}\n",
       "\n",
       "mpl.figure.prototype._init_header = function() {\n",
       "    var titlebar = $(\n",
       "        '<div class=\"ui-dialog-titlebar ui-widget-header ui-corner-all ' +\n",
       "        'ui-helper-clearfix\"/>');\n",
       "    var titletext = $(\n",
       "        '<div class=\"ui-dialog-title\" style=\"width: 100%; ' +\n",
       "        'text-align: center; padding: 3px;\"/>');\n",
       "    titlebar.append(titletext)\n",
       "    this.root.append(titlebar);\n",
       "    this.header = titletext[0];\n",
       "}\n",
       "\n",
       "\n",
       "\n",
       "mpl.figure.prototype._canvas_extra_style = function(canvas_div) {\n",
       "\n",
       "}\n",
       "\n",
       "\n",
       "mpl.figure.prototype._root_extra_style = function(canvas_div) {\n",
       "\n",
       "}\n",
       "\n",
       "mpl.figure.prototype._init_canvas = function() {\n",
       "    var fig = this;\n",
       "\n",
       "    var canvas_div = $('<div/>');\n",
       "\n",
       "    canvas_div.attr('style', 'position: relative; clear: both; outline: 0');\n",
       "\n",
       "    function canvas_keyboard_event(event) {\n",
       "        return fig.key_event(event, event['data']);\n",
       "    }\n",
       "\n",
       "    canvas_div.keydown('key_press', canvas_keyboard_event);\n",
       "    canvas_div.keyup('key_release', canvas_keyboard_event);\n",
       "    this.canvas_div = canvas_div\n",
       "    this._canvas_extra_style(canvas_div)\n",
       "    this.root.append(canvas_div);\n",
       "\n",
       "    var canvas = $('<canvas/>');\n",
       "    canvas.addClass('mpl-canvas');\n",
       "    canvas.attr('style', \"left: 0; top: 0; z-index: 0; outline: 0\")\n",
       "\n",
       "    this.canvas = canvas[0];\n",
       "    this.context = canvas[0].getContext(\"2d\");\n",
       "\n",
       "    var rubberband = $('<canvas/>');\n",
       "    rubberband.attr('style', \"position: absolute; left: 0; top: 0; z-index: 1;\")\n",
       "\n",
       "    var pass_mouse_events = true;\n",
       "\n",
       "    canvas_div.resizable({\n",
       "        start: function(event, ui) {\n",
       "            pass_mouse_events = false;\n",
       "        },\n",
       "        resize: function(event, ui) {\n",
       "            fig.request_resize(ui.size.width, ui.size.height);\n",
       "        },\n",
       "        stop: function(event, ui) {\n",
       "            pass_mouse_events = true;\n",
       "            fig.request_resize(ui.size.width, ui.size.height);\n",
       "        },\n",
       "    });\n",
       "\n",
       "    function mouse_event_fn(event) {\n",
       "        if (pass_mouse_events)\n",
       "            return fig.mouse_event(event, event['data']);\n",
       "    }\n",
       "\n",
       "    rubberband.mousedown('button_press', mouse_event_fn);\n",
       "    rubberband.mouseup('button_release', mouse_event_fn);\n",
       "    // Throttle sequential mouse events to 1 every 20ms.\n",
       "    rubberband.mousemove('motion_notify', mouse_event_fn);\n",
       "\n",
       "    rubberband.mouseenter('figure_enter', mouse_event_fn);\n",
       "    rubberband.mouseleave('figure_leave', mouse_event_fn);\n",
       "\n",
       "    canvas_div.on(\"wheel\", function (event) {\n",
       "        event = event.originalEvent;\n",
       "        event['data'] = 'scroll'\n",
       "        if (event.deltaY < 0) {\n",
       "            event.step = 1;\n",
       "        } else {\n",
       "            event.step = -1;\n",
       "        }\n",
       "        mouse_event_fn(event);\n",
       "    });\n",
       "\n",
       "    canvas_div.append(canvas);\n",
       "    canvas_div.append(rubberband);\n",
       "\n",
       "    this.rubberband = rubberband;\n",
       "    this.rubberband_canvas = rubberband[0];\n",
       "    this.rubberband_context = rubberband[0].getContext(\"2d\");\n",
       "    this.rubberband_context.strokeStyle = \"#000000\";\n",
       "\n",
       "    this._resize_canvas = function(width, height) {\n",
       "        // Keep the size of the canvas, canvas container, and rubber band\n",
       "        // canvas in synch.\n",
       "        canvas_div.css('width', width)\n",
       "        canvas_div.css('height', height)\n",
       "\n",
       "        canvas.attr('width', width);\n",
       "        canvas.attr('height', height);\n",
       "\n",
       "        rubberband.attr('width', width);\n",
       "        rubberband.attr('height', height);\n",
       "    }\n",
       "\n",
       "    // Set the figure to an initial 600x600px, this will subsequently be updated\n",
       "    // upon first draw.\n",
       "    this._resize_canvas(600, 600);\n",
       "\n",
       "    // Disable right mouse context menu.\n",
       "    $(this.rubberband_canvas).bind(\"contextmenu\",function(e){\n",
       "        return false;\n",
       "    });\n",
       "\n",
       "    function set_focus () {\n",
       "        canvas.focus();\n",
       "        canvas_div.focus();\n",
       "    }\n",
       "\n",
       "    window.setTimeout(set_focus, 100);\n",
       "}\n",
       "\n",
       "mpl.figure.prototype._init_toolbar = function() {\n",
       "    var fig = this;\n",
       "\n",
       "    var nav_element = $('<div/>')\n",
       "    nav_element.attr('style', 'width: 100%');\n",
       "    this.root.append(nav_element);\n",
       "\n",
       "    // Define a callback function for later on.\n",
       "    function toolbar_event(event) {\n",
       "        return fig.toolbar_button_onclick(event['data']);\n",
       "    }\n",
       "    function toolbar_mouse_event(event) {\n",
       "        return fig.toolbar_button_onmouseover(event['data']);\n",
       "    }\n",
       "\n",
       "    for(var toolbar_ind in mpl.toolbar_items) {\n",
       "        var name = mpl.toolbar_items[toolbar_ind][0];\n",
       "        var tooltip = mpl.toolbar_items[toolbar_ind][1];\n",
       "        var image = mpl.toolbar_items[toolbar_ind][2];\n",
       "        var method_name = mpl.toolbar_items[toolbar_ind][3];\n",
       "\n",
       "        if (!name) {\n",
       "            // put a spacer in here.\n",
       "            continue;\n",
       "        }\n",
       "        var button = $('<button/>');\n",
       "        button.addClass('ui-button ui-widget ui-state-default ui-corner-all ' +\n",
       "                        'ui-button-icon-only');\n",
       "        button.attr('role', 'button');\n",
       "        button.attr('aria-disabled', 'false');\n",
       "        button.click(method_name, toolbar_event);\n",
       "        button.mouseover(tooltip, toolbar_mouse_event);\n",
       "\n",
       "        var icon_img = $('<span/>');\n",
       "        icon_img.addClass('ui-button-icon-primary ui-icon');\n",
       "        icon_img.addClass(image);\n",
       "        icon_img.addClass('ui-corner-all');\n",
       "\n",
       "        var tooltip_span = $('<span/>');\n",
       "        tooltip_span.addClass('ui-button-text');\n",
       "        tooltip_span.html(tooltip);\n",
       "\n",
       "        button.append(icon_img);\n",
       "        button.append(tooltip_span);\n",
       "\n",
       "        nav_element.append(button);\n",
       "    }\n",
       "\n",
       "    var fmt_picker_span = $('<span/>');\n",
       "\n",
       "    var fmt_picker = $('<select/>');\n",
       "    fmt_picker.addClass('mpl-toolbar-option ui-widget ui-widget-content');\n",
       "    fmt_picker_span.append(fmt_picker);\n",
       "    nav_element.append(fmt_picker_span);\n",
       "    this.format_dropdown = fmt_picker[0];\n",
       "\n",
       "    for (var ind in mpl.extensions) {\n",
       "        var fmt = mpl.extensions[ind];\n",
       "        var option = $(\n",
       "            '<option/>', {selected: fmt === mpl.default_extension}).html(fmt);\n",
       "        fmt_picker.append(option)\n",
       "    }\n",
       "\n",
       "    // Add hover states to the ui-buttons\n",
       "    $( \".ui-button\" ).hover(\n",
       "        function() { $(this).addClass(\"ui-state-hover\");},\n",
       "        function() { $(this).removeClass(\"ui-state-hover\");}\n",
       "    );\n",
       "\n",
       "    var status_bar = $('<span class=\"mpl-message\"/>');\n",
       "    nav_element.append(status_bar);\n",
       "    this.message = status_bar[0];\n",
       "}\n",
       "\n",
       "mpl.figure.prototype.request_resize = function(x_pixels, y_pixels) {\n",
       "    // Request matplotlib to resize the figure. Matplotlib will then trigger a resize in the client,\n",
       "    // which will in turn request a refresh of the image.\n",
       "    this.send_message('resize', {'width': x_pixels, 'height': y_pixels});\n",
       "}\n",
       "\n",
       "mpl.figure.prototype.send_message = function(type, properties) {\n",
       "    properties['type'] = type;\n",
       "    properties['figure_id'] = this.id;\n",
       "    this.ws.send(JSON.stringify(properties));\n",
       "}\n",
       "\n",
       "mpl.figure.prototype.send_draw_message = function() {\n",
       "    if (!this.waiting) {\n",
       "        this.waiting = true;\n",
       "        this.ws.send(JSON.stringify({type: \"draw\", figure_id: this.id}));\n",
       "    }\n",
       "}\n",
       "\n",
       "\n",
       "mpl.figure.prototype.handle_save = function(fig, msg) {\n",
       "    var format_dropdown = fig.format_dropdown;\n",
       "    var format = format_dropdown.options[format_dropdown.selectedIndex].value;\n",
       "    fig.ondownload(fig, format);\n",
       "}\n",
       "\n",
       "\n",
       "mpl.figure.prototype.handle_resize = function(fig, msg) {\n",
       "    var size = msg['size'];\n",
       "    if (size[0] != fig.canvas.width || size[1] != fig.canvas.height) {\n",
       "        fig._resize_canvas(size[0], size[1]);\n",
       "        fig.send_message(\"refresh\", {});\n",
       "    };\n",
       "}\n",
       "\n",
       "mpl.figure.prototype.handle_rubberband = function(fig, msg) {\n",
       "    var x0 = msg['x0'];\n",
       "    var y0 = fig.canvas.height - msg['y0'];\n",
       "    var x1 = msg['x1'];\n",
       "    var y1 = fig.canvas.height - msg['y1'];\n",
       "    x0 = Math.floor(x0) + 0.5;\n",
       "    y0 = Math.floor(y0) + 0.5;\n",
       "    x1 = Math.floor(x1) + 0.5;\n",
       "    y1 = Math.floor(y1) + 0.5;\n",
       "    var min_x = Math.min(x0, x1);\n",
       "    var min_y = Math.min(y0, y1);\n",
       "    var width = Math.abs(x1 - x0);\n",
       "    var height = Math.abs(y1 - y0);\n",
       "\n",
       "    fig.rubberband_context.clearRect(\n",
       "        0, 0, fig.canvas.width, fig.canvas.height);\n",
       "\n",
       "    fig.rubberband_context.strokeRect(min_x, min_y, width, height);\n",
       "}\n",
       "\n",
       "mpl.figure.prototype.handle_figure_label = function(fig, msg) {\n",
       "    // Updates the figure title.\n",
       "    fig.header.textContent = msg['label'];\n",
       "}\n",
       "\n",
       "mpl.figure.prototype.handle_cursor = function(fig, msg) {\n",
       "    var cursor = msg['cursor'];\n",
       "    switch(cursor)\n",
       "    {\n",
       "    case 0:\n",
       "        cursor = 'pointer';\n",
       "        break;\n",
       "    case 1:\n",
       "        cursor = 'default';\n",
       "        break;\n",
       "    case 2:\n",
       "        cursor = 'crosshair';\n",
       "        break;\n",
       "    case 3:\n",
       "        cursor = 'move';\n",
       "        break;\n",
       "    }\n",
       "    fig.rubberband_canvas.style.cursor = cursor;\n",
       "}\n",
       "\n",
       "mpl.figure.prototype.handle_message = function(fig, msg) {\n",
       "    fig.message.textContent = msg['message'];\n",
       "}\n",
       "\n",
       "mpl.figure.prototype.handle_draw = function(fig, msg) {\n",
       "    // Request the server to send over a new figure.\n",
       "    fig.send_draw_message();\n",
       "}\n",
       "\n",
       "mpl.figure.prototype.handle_image_mode = function(fig, msg) {\n",
       "    fig.image_mode = msg['mode'];\n",
       "}\n",
       "\n",
       "mpl.figure.prototype.updated_canvas_event = function() {\n",
       "    // Called whenever the canvas gets updated.\n",
       "    this.send_message(\"ack\", {});\n",
       "}\n",
       "\n",
       "// A function to construct a web socket function for onmessage handling.\n",
       "// Called in the figure constructor.\n",
       "mpl.figure.prototype._make_on_message_function = function(fig) {\n",
       "    return function socket_on_message(evt) {\n",
       "        if (evt.data instanceof Blob) {\n",
       "            /* FIXME: We get \"Resource interpreted as Image but\n",
       "             * transferred with MIME type text/plain:\" errors on\n",
       "             * Chrome.  But how to set the MIME type?  It doesn't seem\n",
       "             * to be part of the websocket stream */\n",
       "            evt.data.type = \"image/png\";\n",
       "\n",
       "            /* Free the memory for the previous frames */\n",
       "            if (fig.imageObj.src) {\n",
       "                (window.URL || window.webkitURL).revokeObjectURL(\n",
       "                    fig.imageObj.src);\n",
       "            }\n",
       "\n",
       "            fig.imageObj.src = (window.URL || window.webkitURL).createObjectURL(\n",
       "                evt.data);\n",
       "            fig.updated_canvas_event();\n",
       "            fig.waiting = false;\n",
       "            return;\n",
       "        }\n",
       "        else if (typeof evt.data === 'string' && evt.data.slice(0, 21) == \"data:image/png;base64\") {\n",
       "            fig.imageObj.src = evt.data;\n",
       "            fig.updated_canvas_event();\n",
       "            fig.waiting = false;\n",
       "            return;\n",
       "        }\n",
       "\n",
       "        var msg = JSON.parse(evt.data);\n",
       "        var msg_type = msg['type'];\n",
       "\n",
       "        // Call the  \"handle_{type}\" callback, which takes\n",
       "        // the figure and JSON message as its only arguments.\n",
       "        try {\n",
       "            var callback = fig[\"handle_\" + msg_type];\n",
       "        } catch (e) {\n",
       "            console.log(\"No handler for the '\" + msg_type + \"' message type: \", msg);\n",
       "            return;\n",
       "        }\n",
       "\n",
       "        if (callback) {\n",
       "            try {\n",
       "                // console.log(\"Handling '\" + msg_type + \"' message: \", msg);\n",
       "                callback(fig, msg);\n",
       "            } catch (e) {\n",
       "                console.log(\"Exception inside the 'handler_\" + msg_type + \"' callback:\", e, e.stack, msg);\n",
       "            }\n",
       "        }\n",
       "    };\n",
       "}\n",
       "\n",
       "// from http://stackoverflow.com/questions/1114465/getting-mouse-location-in-canvas\n",
       "mpl.findpos = function(e) {\n",
       "    //this section is from http://www.quirksmode.org/js/events_properties.html\n",
       "    var targ;\n",
       "    if (!e)\n",
       "        e = window.event;\n",
       "    if (e.target)\n",
       "        targ = e.target;\n",
       "    else if (e.srcElement)\n",
       "        targ = e.srcElement;\n",
       "    if (targ.nodeType == 3) // defeat Safari bug\n",
       "        targ = targ.parentNode;\n",
       "\n",
       "    // jQuery normalizes the pageX and pageY\n",
       "    // pageX,Y are the mouse positions relative to the document\n",
       "    // offset() returns the position of the element relative to the document\n",
       "    var x = e.pageX - $(targ).offset().left;\n",
       "    var y = e.pageY - $(targ).offset().top;\n",
       "\n",
       "    return {\"x\": x, \"y\": y};\n",
       "};\n",
       "\n",
       "/*\n",
       " * return a copy of an object with only non-object keys\n",
       " * we need this to avoid circular references\n",
       " * http://stackoverflow.com/a/24161582/3208463\n",
       " */\n",
       "function simpleKeys (original) {\n",
       "  return Object.keys(original).reduce(function (obj, key) {\n",
       "    if (typeof original[key] !== 'object')\n",
       "        obj[key] = original[key]\n",
       "    return obj;\n",
       "  }, {});\n",
       "}\n",
       "\n",
       "mpl.figure.prototype.mouse_event = function(event, name) {\n",
       "    var canvas_pos = mpl.findpos(event)\n",
       "\n",
       "    if (name === 'button_press')\n",
       "    {\n",
       "        this.canvas.focus();\n",
       "        this.canvas_div.focus();\n",
       "    }\n",
       "\n",
       "    var x = canvas_pos.x;\n",
       "    var y = canvas_pos.y;\n",
       "\n",
       "    this.send_message(name, {x: x, y: y, button: event.button,\n",
       "                             step: event.step,\n",
       "                             guiEvent: simpleKeys(event)});\n",
       "\n",
       "    /* This prevents the web browser from automatically changing to\n",
       "     * the text insertion cursor when the button is pressed.  We want\n",
       "     * to control all of the cursor setting manually through the\n",
       "     * 'cursor' event from matplotlib */\n",
       "    event.preventDefault();\n",
       "    return false;\n",
       "}\n",
       "\n",
       "mpl.figure.prototype._key_event_extra = function(event, name) {\n",
       "    // Handle any extra behaviour associated with a key event\n",
       "}\n",
       "\n",
       "mpl.figure.prototype.key_event = function(event, name) {\n",
       "\n",
       "    // Prevent repeat events\n",
       "    if (name == 'key_press')\n",
       "    {\n",
       "        if (event.which === this._key)\n",
       "            return;\n",
       "        else\n",
       "            this._key = event.which;\n",
       "    }\n",
       "    if (name == 'key_release')\n",
       "        this._key = null;\n",
       "\n",
       "    var value = '';\n",
       "    if (event.ctrlKey && event.which != 17)\n",
       "        value += \"ctrl+\";\n",
       "    if (event.altKey && event.which != 18)\n",
       "        value += \"alt+\";\n",
       "    if (event.shiftKey && event.which != 16)\n",
       "        value += \"shift+\";\n",
       "\n",
       "    value += 'k';\n",
       "    value += event.which.toString();\n",
       "\n",
       "    this._key_event_extra(event, name);\n",
       "\n",
       "    this.send_message(name, {key: value,\n",
       "                             guiEvent: simpleKeys(event)});\n",
       "    return false;\n",
       "}\n",
       "\n",
       "mpl.figure.prototype.toolbar_button_onclick = function(name) {\n",
       "    if (name == 'download') {\n",
       "        this.handle_save(this, null);\n",
       "    } else {\n",
       "        this.send_message(\"toolbar_button\", {name: name});\n",
       "    }\n",
       "};\n",
       "\n",
       "mpl.figure.prototype.toolbar_button_onmouseover = function(tooltip) {\n",
       "    this.message.textContent = tooltip;\n",
       "};\n",
       "mpl.toolbar_items = [[\"Home\", \"Reset original view\", \"fa fa-home icon-home\", \"home\"], [\"Back\", \"Back to  previous view\", \"fa fa-arrow-left icon-arrow-left\", \"back\"], [\"Forward\", \"Forward to next view\", \"fa fa-arrow-right icon-arrow-right\", \"forward\"], [\"\", \"\", \"\", \"\"], [\"Pan\", \"Pan axes with left mouse, zoom with right\", \"fa fa-arrows icon-move\", \"pan\"], [\"Zoom\", \"Zoom to rectangle\", \"fa fa-square-o icon-check-empty\", \"zoom\"], [\"\", \"\", \"\", \"\"], [\"Download\", \"Download plot\", \"fa fa-floppy-o icon-save\", \"download\"]];\n",
       "\n",
       "mpl.extensions = [\"eps\", \"jpeg\", \"pdf\", \"png\", \"ps\", \"raw\", \"svg\", \"tif\"];\n",
       "\n",
       "mpl.default_extension = \"png\";var comm_websocket_adapter = function(comm) {\n",
       "    // Create a \"websocket\"-like object which calls the given IPython comm\n",
       "    // object with the appropriate methods. Currently this is a non binary\n",
       "    // socket, so there is still some room for performance tuning.\n",
       "    var ws = {};\n",
       "\n",
       "    ws.close = function() {\n",
       "        comm.close()\n",
       "    };\n",
       "    ws.send = function(m) {\n",
       "        //console.log('sending', m);\n",
       "        comm.send(m);\n",
       "    };\n",
       "    // Register the callback with on_msg.\n",
       "    comm.on_msg(function(msg) {\n",
       "        //console.log('receiving', msg['content']['data'], msg);\n",
       "        // Pass the mpl event to the overriden (by mpl) onmessage function.\n",
       "        ws.onmessage(msg['content']['data'])\n",
       "    });\n",
       "    return ws;\n",
       "}\n",
       "\n",
       "mpl.mpl_figure_comm = function(comm, msg) {\n",
       "    // This is the function which gets called when the mpl process\n",
       "    // starts-up an IPython Comm through the \"matplotlib\" channel.\n",
       "\n",
       "    var id = msg.content.data.id;\n",
       "    // Get hold of the div created by the display call when the Comm\n",
       "    // socket was opened in Python.\n",
       "    var element = $(\"#\" + id);\n",
       "    var ws_proxy = comm_websocket_adapter(comm)\n",
       "\n",
       "    function ondownload(figure, format) {\n",
       "        window.open(figure.imageObj.src);\n",
       "    }\n",
       "\n",
       "    var fig = new mpl.figure(id, ws_proxy,\n",
       "                           ondownload,\n",
       "                           element.get(0));\n",
       "\n",
       "    // Call onopen now - mpl needs it, as it is assuming we've passed it a real\n",
       "    // web socket which is closed, not our websocket->open comm proxy.\n",
       "    ws_proxy.onopen();\n",
       "\n",
       "    fig.parent_element = element.get(0);\n",
       "    fig.cell_info = mpl.find_output_cell(\"<div id='\" + id + \"'></div>\");\n",
       "    if (!fig.cell_info) {\n",
       "        console.error(\"Failed to find cell for figure\", id, fig);\n",
       "        return;\n",
       "    }\n",
       "\n",
       "    var output_index = fig.cell_info[2]\n",
       "    var cell = fig.cell_info[0];\n",
       "\n",
       "};\n",
       "\n",
       "mpl.figure.prototype.handle_close = function(fig, msg) {\n",
       "    fig.root.unbind('remove')\n",
       "\n",
       "    // Update the output cell to use the data from the current canvas.\n",
       "    fig.push_to_output();\n",
       "    var dataURL = fig.canvas.toDataURL();\n",
       "    // Re-enable the keyboard manager in IPython - without this line, in FF,\n",
       "    // the notebook keyboard shortcuts fail.\n",
       "    IPython.keyboard_manager.enable()\n",
       "    $(fig.parent_element).html('<img src=\"' + dataURL + '\">');\n",
       "    fig.close_ws(fig, msg);\n",
       "}\n",
       "\n",
       "mpl.figure.prototype.close_ws = function(fig, msg){\n",
       "    fig.send_message('closing', msg);\n",
       "    // fig.ws.close()\n",
       "}\n",
       "\n",
       "mpl.figure.prototype.push_to_output = function(remove_interactive) {\n",
       "    // Turn the data on the canvas into data in the output cell.\n",
       "    var dataURL = this.canvas.toDataURL();\n",
       "    this.cell_info[1]['text/html'] = '<img src=\"' + dataURL + '\">';\n",
       "}\n",
       "\n",
       "mpl.figure.prototype.updated_canvas_event = function() {\n",
       "    // Tell IPython that the notebook contents must change.\n",
       "    IPython.notebook.set_dirty(true);\n",
       "    this.send_message(\"ack\", {});\n",
       "    var fig = this;\n",
       "    // Wait a second, then push the new image to the DOM so\n",
       "    // that it is saved nicely (might be nice to debounce this).\n",
       "    setTimeout(function () { fig.push_to_output() }, 1000);\n",
       "}\n",
       "\n",
       "mpl.figure.prototype._init_toolbar = function() {\n",
       "    var fig = this;\n",
       "\n",
       "    var nav_element = $('<div/>')\n",
       "    nav_element.attr('style', 'width: 100%');\n",
       "    this.root.append(nav_element);\n",
       "\n",
       "    // Define a callback function for later on.\n",
       "    function toolbar_event(event) {\n",
       "        return fig.toolbar_button_onclick(event['data']);\n",
       "    }\n",
       "    function toolbar_mouse_event(event) {\n",
       "        return fig.toolbar_button_onmouseover(event['data']);\n",
       "    }\n",
       "\n",
       "    for(var toolbar_ind in mpl.toolbar_items){\n",
       "        var name = mpl.toolbar_items[toolbar_ind][0];\n",
       "        var tooltip = mpl.toolbar_items[toolbar_ind][1];\n",
       "        var image = mpl.toolbar_items[toolbar_ind][2];\n",
       "        var method_name = mpl.toolbar_items[toolbar_ind][3];\n",
       "\n",
       "        if (!name) { continue; };\n",
       "\n",
       "        var button = $('<button class=\"btn btn-default\" href=\"#\" title=\"' + name + '\"><i class=\"fa ' + image + ' fa-lg\"></i></button>');\n",
       "        button.click(method_name, toolbar_event);\n",
       "        button.mouseover(tooltip, toolbar_mouse_event);\n",
       "        nav_element.append(button);\n",
       "    }\n",
       "\n",
       "    // Add the status bar.\n",
       "    var status_bar = $('<span class=\"mpl-message\" style=\"text-align:right; float: right;\"/>');\n",
       "    nav_element.append(status_bar);\n",
       "    this.message = status_bar[0];\n",
       "\n",
       "    // Add the close button to the window.\n",
       "    var buttongrp = $('<div class=\"btn-group inline pull-right\"></div>');\n",
       "    var button = $('<button class=\"btn btn-mini btn-primary\" href=\"#\" title=\"Stop Interaction\"><i class=\"fa fa-power-off icon-remove icon-large\"></i></button>');\n",
       "    button.click(function (evt) { fig.handle_close(fig, {}); } );\n",
       "    button.mouseover('Stop Interaction', toolbar_mouse_event);\n",
       "    buttongrp.append(button);\n",
       "    var titlebar = this.root.find($('.ui-dialog-titlebar'));\n",
       "    titlebar.prepend(buttongrp);\n",
       "}\n",
       "\n",
       "mpl.figure.prototype._root_extra_style = function(el){\n",
       "    var fig = this\n",
       "    el.on(\"remove\", function(){\n",
       "\tfig.close_ws(fig, {});\n",
       "    });\n",
       "}\n",
       "\n",
       "mpl.figure.prototype._canvas_extra_style = function(el){\n",
       "    // this is important to make the div 'focusable\n",
       "    el.attr('tabindex', 0)\n",
       "    // reach out to IPython and tell the keyboard manager to turn it's self\n",
       "    // off when our div gets focus\n",
       "\n",
       "    // location in version 3\n",
       "    if (IPython.notebook.keyboard_manager) {\n",
       "        IPython.notebook.keyboard_manager.register_events(el);\n",
       "    }\n",
       "    else {\n",
       "        // location in version 2\n",
       "        IPython.keyboard_manager.register_events(el);\n",
       "    }\n",
       "\n",
       "}\n",
       "\n",
       "mpl.figure.prototype._key_event_extra = function(event, name) {\n",
       "    var manager = IPython.notebook.keyboard_manager;\n",
       "    if (!manager)\n",
       "        manager = IPython.keyboard_manager;\n",
       "\n",
       "    // Check for shift+enter\n",
       "    if (event.shiftKey && event.which == 13) {\n",
       "        this.canvas_div.blur();\n",
       "        event.shiftKey = false;\n",
       "        // Send a \"J\" for go to next cell\n",
       "        event.which = 74;\n",
       "        event.keyCode = 74;\n",
       "        manager.command_mode();\n",
       "        manager.handle_keydown(event);\n",
       "    }\n",
       "}\n",
       "\n",
       "mpl.figure.prototype.handle_save = function(fig, msg) {\n",
       "    fig.ondownload(fig, null);\n",
       "}\n",
       "\n",
       "\n",
       "mpl.find_output_cell = function(html_output) {\n",
       "    // Return the cell and output element which can be found *uniquely* in the notebook.\n",
       "    // Note - this is a bit hacky, but it is done because the \"notebook_saving.Notebook\"\n",
       "    // IPython event is triggered only after the cells have been serialised, which for\n",
       "    // our purposes (turning an active figure into a static one), is too late.\n",
       "    var cells = IPython.notebook.get_cells();\n",
       "    var ncells = cells.length;\n",
       "    for (var i=0; i<ncells; i++) {\n",
       "        var cell = cells[i];\n",
       "        if (cell.cell_type === 'code'){\n",
       "            for (var j=0; j<cell.output_area.outputs.length; j++) {\n",
       "                var data = cell.output_area.outputs[j];\n",
       "                if (data.data) {\n",
       "                    // IPython >= 3 moved mimebundle to data attribute of output\n",
       "                    data = data.data;\n",
       "                }\n",
       "                if (data['text/html'] == html_output) {\n",
       "                    return [cell, data, j];\n",
       "                }\n",
       "            }\n",
       "        }\n",
       "    }\n",
       "}\n",
       "\n",
       "// Register the function which deals with the matplotlib target/channel.\n",
       "// The kernel may be null if the page has been refreshed.\n",
       "if (IPython.notebook.kernel != null) {\n",
       "    IPython.notebook.kernel.comm_manager.register_target('matplotlib', mpl.mpl_figure_comm);\n",
       "}\n"
      ],
      "text/plain": [
       "<IPython.core.display.Javascript object>"
      ]
     },
     "metadata": {},
     "output_type": "display_data"
    },
    {
     "data": {
      "text/html": [
       "<img src=\"data:image/png;base64,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\">"
      ],
      "text/plain": [
       "<IPython.core.display.HTML object>"
      ]
     },
     "metadata": {},
     "output_type": "display_data"
    },
    {
     "name": "stdout",
     "output_type": "stream",
     "text": [
      "Maximum Efficiency 66.6666666667\n"
     ]
    }
   ],
   "source": [
    "%matplotlib notebook\n",
    "import matplotlib\n",
    "import numpy as np\n",
    "import matplotlib.pyplot as plt2\n",
    "W=[100.0,200.0,300.0,400.0,500.0,600.0]           #loads  \n",
    "P=[16.0,22.5,28.0,34.0,40.5,46.5]    #Efforts\n",
    "VR=25.0             #velocity ratio\n",
    "E=[0,0,0,0,0,0]  #Efficiency\n",
    "#calculating average slope\n",
    "m=(P[4]-P[1])/(W[4]-W[1])\n",
    "C=P[4]-m*W[4]\n",
    "print \"Law of machine is P=\",m,\"W\",\"+\",C\n",
    "for i in range(0,6):\n",
    "    \n",
    "    E[i]=W[i]/(25*P[i])*100                     #E=W/(P*VR)\n",
    "   \n",
    "plt2.plot(W,E)\n",
    "plt2.ylabel(\"Efficiency\")\n",
    "plt2.xlabel(\"Load\")\n",
    "plt2.show()    \n",
    "\n",
    "    \n",
    "MaxEfficiency=1/VR*100*1/m\n",
    "\n",
    "print \"Maximum Efficiency\",MaxEfficiency\n",
    "\n",
    "       \n",
    "    "
   ]
  },
  {
   "cell_type": "markdown",
   "metadata": {},
   "source": [
    "# Example 6.5"
   ]
  },
  {
   "cell_type": "code",
   "execution_count": 23,
   "metadata": {
    "collapsed": false
   },
   "outputs": [
    {
     "name": "stdout",
     "output_type": "stream",
     "text": [
      "Mechanical advantage-- 13.8888888889\n",
      "Velocity Ratio 30.0\n",
      "Efficiency 46.2962962963\n",
      "self-locking machine\n",
      "Ideal Load 10800.0\n",
      "frictional resistance 5800.0\n"
     ]
    }
   ],
   "source": [
    "\n",
    "W = 5000.0  #Load\n",
    "P = 360.0    #Effort\n",
    "\n",
    "MA=W/P         #Mechanical advantage\n",
    "VR=30.0      #Velocity Ratio\n",
    "Efficiency=MA/VR*100.0\n",
    "var=\"reversible machine\"\n",
    "if Efficiency < 50.0:\n",
    "    var=\"self-locking machine\"\n",
    "\n",
    "\n",
    "\n",
    "Wi = P*VR        #ideal load\n",
    "\n",
    "Fr=Wi-W            #frictional resistance\n",
    "print \"Mechanical advantage--\",MA\n",
    "print \"Velocity Ratio\",VR\n",
    "print \"Efficiency\",Efficiency\n",
    "print var\n",
    "print \"Ideal Load\",Wi\n",
    "\n",
    "print \"frictional resistance\",Fr\n",
    "\n",
    "\n"
   ]
  },
  {
   "cell_type": "markdown",
   "metadata": {},
   "source": [
    "# Example 6.6"
   ]
  },
  {
   "cell_type": "code",
   "execution_count": 24,
   "metadata": {
    "collapsed": false
   },
   "outputs": [
    {
     "name": "stdout",
     "output_type": "stream",
     "text": [
      "Effort is 937.5 N\n",
      "number of pulley is  4\n"
     ]
    }
   ],
   "source": [
    "import math\n",
    "W = 6000.0  #Load\n",
    "N=3.0              #number of pulleys\n",
    "VR=2**N              #Velocity Ratio\n",
    "L=0.05                     #Efficiency loss  in each pulley\n",
    "Efficiency=0.8\n",
    "MA=Efficiency*VR         #Mechanical advantage\n",
    "P = W/MA    #Effort\n",
    "print \"Effort is\",P,\"N\"\n",
    "#second case\n",
    "P=520.0\n",
    "n=0,\n",
    "for i in range(3,20):\n",
    "    if((P*(0.8-(i-3)*0.05)*(2**i)))>6000:\n",
    "        n=i\n",
    "        break\n",
    "        \n",
    "        \n",
    "print \"number of pulley is \",n\n"
   ]
  },
  {
   "cell_type": "markdown",
   "metadata": {},
   "source": [
    "# Exmple 6.7"
   ]
  },
  {
   "cell_type": "code",
   "execution_count": 25,
   "metadata": {
    "collapsed": false
   },
   "outputs": [
    {
     "name": "stdout",
     "output_type": "stream",
     "text": [
      "Effort is 2352.94117647 N\n"
     ]
    }
   ],
   "source": [
    "import math\n",
    "W = 12000.0  #Load\n",
    "N=3.0              #number of movable pulleys\n",
    "VR=2*N              #Velocity Ratio\n",
    "L=0.05                     #Efficiency loss  in each pulley\n",
    "Efficiency=0.85\n",
    "MA=Efficiency*VR         #Mechanical advantage\n",
    "P = W/MA    #Effort\n",
    "print \"Effort is\",P,\"N\"\n"
   ]
  },
  {
   "cell_type": "markdown",
   "metadata": {},
   "source": [
    "# Example 6.8"
   ]
  },
  {
   "cell_type": "code",
   "execution_count": 26,
   "metadata": {
    "collapsed": false
   },
   "outputs": [
    {
     "name": "stdout",
     "output_type": "stream",
     "text": [
      "Effort is 1923.07692308 N\n"
     ]
    }
   ],
   "source": [
    "import math\n",
    "W = 12000.0  #Load\n",
    "N1=2.0              #number of movable pulleys in  system 1\n",
    "N2=2.0              #number of movable  puleys in system 2\n",
    "VR=2*N1+2*N2              #Velocity Ratio\n",
    "L=0.05                     #Efficiency loss  in each pulley\n",
    "Efficiency=0.78\n",
    "MA=Efficiency*VR         #Mechanical advantage\n",
    "P = W/MA    #Effort\n",
    "print \"Effort is\",P,\"N\"\n"
   ]
  },
  {
   "cell_type": "markdown",
   "metadata": {},
   "source": [
    "# Example 6.9"
   ]
  },
  {
   "cell_type": "code",
   "execution_count": 27,
   "metadata": {
    "collapsed": false
   },
   "outputs": [
    {
     "name": "stdout",
     "output_type": "stream",
     "text": [
      "Efficiency 79.3650793651\n",
      "Effort lost in friction 37.1428571429\n"
     ]
    }
   ],
   "source": [
    "import math\n",
    "W = 1000.0  #Load\n",
    "N=3.0              #number of pulleys\n",
    "VR=2**N-1              #Velocity Ratio\n",
    "P = 180.0    #Effort\n",
    "MA=W/P        #Mechanical advantage\n",
    "Efficiency=MA/VR*100\n",
    "print \"Efficiency\",Efficiency\n",
    "Pi =W/VR        #Ideal effort\n",
    "\n",
    "efl=P-Pi            #Effort lost in friction\n",
    "print \"Effort lost in friction\",efl"
   ]
  },
  {
   "cell_type": "markdown",
   "metadata": {},
   "source": [
    "# Example 6.10"
   ]
  },
  {
   "cell_type": "code",
   "execution_count": 28,
   "metadata": {
    "collapsed": false
   },
   "outputs": [
    {
     "name": "stdout",
     "output_type": "stream",
     "text": [
      "Effort is 595.238095238 N\n"
     ]
    }
   ],
   "source": [
    "import math\n",
    "W = 2500.0  #Load\n",
    "N1=2.0              #number of movable pulleys in  system 1 in figure B\n",
    "N2=2.0              #number of movable  puleys in system 2 in figure C\n",
    "VR=2**N1-1+2**N2-1              #Velocity Ratio\n",
    "Efficiency=0.70\n",
    "MA=Efficiency*VR         #Mechanical advantage\n",
    "P = W/MA    #Effort\n",
    "print \"Effort is\",P,\"N\"\n"
   ]
  },
  {
   "cell_type": "markdown",
   "metadata": {},
   "source": [
    "# Example 6.11"
   ]
  },
  {
   "cell_type": "code",
   "execution_count": 29,
   "metadata": {
    "collapsed": false
   },
   "outputs": [
    {
     "name": "stdout",
     "output_type": "stream",
     "text": [
      "Velocity ratio is  2.3\n",
      "Effort is 745.341614907 N\n"
     ]
    }
   ],
   "source": [
    "D=500.0            #diameter of the wheel\n",
    "d=200.0            #diameter of axle\n",
    "tcw=6.0             #thickness of the cord on the wheel\n",
    "tca=20.0           #thickness of the cord on the axle\n",
    "W=1200              #effort\n",
    "ED=D+tcw            #Effective diameter of the wheel\n",
    "Ed=d+tca            #Effectivediameter of axle\n",
    "VR=ED/Ed           #Velocity Ratio\n",
    "print \"Velocity ratio is \",VR\n",
    "Efficiency=0.7\n",
    "MA=Efficiency*VR         #Mechanical advantage\n",
    "P = W/MA    #Effort\n",
    "print \"Effort is\",P,\"N\""
   ]
  },
  {
   "cell_type": "markdown",
   "metadata": {},
   "source": [
    "# Example 6.12"
   ]
  },
  {
   "cell_type": "code",
   "execution_count": 30,
   "metadata": {
    "collapsed": false
   },
   "outputs": [
    {
     "name": "stdout",
     "output_type": "stream",
     "text": [
      "Velocity ratio is  32.0\n",
      "Effort is 1136.36363636 N\n"
     ]
    }
   ],
   "source": [
    "D=800.0            #diameter of the wheel\n",
    "d1=250.0            #diameter of axle 1\n",
    "d2=300.0            #diameter of axle 2\n",
    "\n",
    "W=20000.0              #effort\n",
    "\n",
    "VR=(2*D)/(d2-d1)           #Velocity Ratio\n",
    "print \"Velocity ratio is \",VR\n",
    "Efficiency=0.55\n",
    "MA=Efficiency*VR         #Mechanical advantage\n",
    "P = W/MA    #Effort\n",
    "print \"Effort is\",P,\"N\""
   ]
  },
  {
   "cell_type": "markdown",
   "metadata": {},
   "source": [
    "# Example 6.13"
   ]
  },
  {
   "cell_type": "code",
   "execution_count": 31,
   "metadata": {
    "collapsed": false
   },
   "outputs": [
    {
     "name": "stdout",
     "output_type": "stream",
     "text": [
      "Velocity ratio is  3.33333333333\n",
      "Effort is 2500.0 N\n"
     ]
    }
   ],
   "source": [
    "D=500.0            #diameter of the wheel\n",
    "d=200.0            #diameter of axle \n",
    "\n",
    "W=5000.0              #effort\n",
    "\n",
    "VR=(2*D)/(D-d)           #Velocity Ratio\n",
    "print \"Velocity ratio is \",VR\n",
    "Efficiency=0.6\n",
    "MA=Efficiency*VR         #Mechanical advantage\n",
    "P = W/MA    #Effort\n",
    "print \"Effort is\",P,\"N\""
   ]
  },
  {
   "cell_type": "markdown",
   "metadata": {},
   "source": [
    "# Example 6.14"
   ]
  },
  {
   "cell_type": "code",
   "execution_count": 32,
   "metadata": {
    "collapsed": false
   },
   "outputs": [
    {
     "name": "stdout",
     "output_type": "stream",
     "text": [
      "Effort is 1741.88034188 N\n"
     ]
    }
   ],
   "source": [
    "D=40.0  #Screw diameter\n",
    "l=20.0   #Screw lwngth\n",
    "p=l/3.0  #Lead of the screw\n",
    "W=40000.0              #effort\n",
    "R = 400  #Lever length\n",
    "u = 0.12    #coefficient of friction between screw and nut\n",
    "P = (d/(2*R))*W*((u+(p/(3.14*D)))/(1-u*(p/(3.14*D))))   #Effort\n",
    "print \"Effort is\",P,\"N\"\n"
   ]
  },
  {
   "cell_type": "markdown",
   "metadata": {},
   "source": [
    "# Example 6.15"
   ]
  },
  {
   "cell_type": "code",
   "execution_count": 33,
   "metadata": {
    "collapsed": false
   },
   "outputs": [
    {
     "name": "stdout",
     "output_type": "stream",
     "text": [
      "Effort is 57.0287539936 N\n",
      "Efficiency 55.8439936484 %\n",
      "reversible machine\n",
      "The torque required to keep the load from descending 2047.61904762 Nm\n"
     ]
    }
   ],
   "source": [
    "import math\n",
    "d=50.0  #mean diameter of screw\n",
    "p=10.0  #pitch of screw\n",
    "u=0.05 #coefficient of friction at the screw thread\n",
    "R=300.0 ##Lever length\n",
    "W=6000.0 #Load\n",
    "o1=math.atan(p/(3.14*d))\n",
    "o2=math.atan(0.05)\n",
    "P=d/(2*R)*(W*math.tan(o1+o2))  #effort\n",
    "print \"Effort is\",P,\"N\"\n",
    "VR=2*3.14*R/p       #Velocity Ratio\n",
    "MA=W/P         #Mechanical advantage\n",
    "Efficiency=MA/VR*100.0\n",
    "print \"Efficiency\",Efficiency,\"%\"\n",
    "var=\"reversible machine\"\n",
    "if Efficiency < 50.0:\n",
    "    var=\"self-locking machine\"\n",
    "print var\n",
    "T =d/2.0*W*math.tan(o1-o2) #The torque required to keep the load from descending\n",
    "print \"The torque required to keep the load from descending\",T,\"Nm\"\n"
   ]
  },
  {
   "cell_type": "markdown",
   "metadata": {},
   "source": [
    "# Example 6.16"
   ]
  },
  {
   "cell_type": "code",
   "execution_count": 34,
   "metadata": {
    "collapsed": false
   },
   "outputs": [
    {
     "name": "stdout",
     "output_type": "stream",
     "text": [
      "Efficiency 12.9110001721 %\n"
     ]
    }
   ],
   "source": [
    "import math\n",
    "p1=5.0   #Pitch of smaller screw\n",
    "p2=10.0    #Pitch of larger screw\n",
    "R=500.0     #Lever arm length from centre of screw\n",
    "W=15000.0  #Load\n",
    "P=185.0    #Effort\n",
    "VR=2*3.14*R/(p2-p1)       #Velocity Ratio\n",
    "MA=W/P         #Mechanical advantage\n",
    "Efficiency=MA/VR*100.0\n",
    "\n",
    "print \"Efficiency\",Efficiency,\"%\"\n"
   ]
  },
  {
   "cell_type": "markdown",
   "metadata": {},
   "source": [
    "# Example 6.17"
   ]
  },
  {
   "cell_type": "code",
   "execution_count": 35,
   "metadata": {
    "collapsed": false
   },
   "outputs": [
    {
     "name": "stdout",
     "output_type": "stream",
     "text": [
      "Velocity Ratio is  120.0\n",
      "Law of machine is P= 0.01 W + 70.0\n",
      "Efficiency for first case 25.0 %\n",
      "Efficiency for second case 46.875 %\n"
     ]
    }
   ],
   "source": [
    "d=200.0  #Diameter of the load drum \n",
    "R = 1200.0   # Length of lever arm  \n",
    "T1 = 10.0  #Number of teeth on pinion, \n",
    "T2 = 100.0   #Number of teeth on spur wheel\n",
    "VR=R*T2/(d*T1)*2.0       #Velocity Ratio\n",
    "print \"Velocity Ratio is \",VR\n",
    "W1 = 3000.0  #Load 1\n",
    "P1= 100.0    #Effort1\n",
    "\n",
    "W2 = 9000.0  #Load 2\n",
    "P2= 160.0    #Effort2\n",
    "\n",
    "#law of machine is given by P=mW+C\n",
    "m=(P2-P1)/(W2-W1)\n",
    "C=P2-m*W2\n",
    "print \"Law of machine is P=\",m,\"W\",\"+\",C\n",
    "MA=W1/P1         #Mechanical advantage\n",
    "Efficiency=MA/VR*100.0\n",
    "\n",
    "print \"Efficiency for first case\",Efficiency,\"%\"\n",
    "MA=W2/P2         #Mechanical advantage\n",
    "Efficiency=MA/VR*100.0\n",
    "\n",
    "print \"Efficiency for second case\",Efficiency,\"%\""
   ]
  },
  {
   "cell_type": "markdown",
   "metadata": {},
   "source": [
    "# Example 6.18"
   ]
  },
  {
   "cell_type": "code",
   "execution_count": 36,
   "metadata": {
    "collapsed": false
   },
   "outputs": [
    {
     "name": "stdout",
     "output_type": "stream",
     "text": [
      "Velocity Ratio is  32.0\n",
      "LOad 3200.0 N\n"
     ]
    }
   ],
   "source": [
    "d=150.0  #Diameter of the load drum \n",
    "R = 400.0   # Length of lever arm  \n",
    "T1 = 15.0  #Number of teeth on pinion, \n",
    "T3 = 20.0  #Number of teeth on pinion, \n",
    "T2 = 45.0   #Number of teeth on spur wheel\n",
    "T4 = 40.0   #Number of teeth on spur wheel\n",
    "P= 250.0    #Effort\n",
    "Efficiency=0.4\n",
    "VR=R*T2/(d*T1)*2.0*T4/T3       #Velocity Ratio\n",
    "print \"Velocity Ratio is \",VR\n",
    "\n",
    "W=VR*Efficiency*P       #Load \n",
    "\n",
    "print \"LOad\",W,\"N\""
   ]
  }
 ],
 "metadata": {
  "anaconda-cloud": {},
  "kernelspec": {
   "display_name": "Python [Root]",
   "language": "python",
   "name": "Python [Root]"
  },
  "language_info": {
   "codemirror_mode": {
    "name": "ipython",
    "version": 2
   },
   "file_extension": ".py",
   "mimetype": "text/x-python",
   "name": "python",
   "nbconvert_exporter": "python",
   "pygments_lexer": "ipython2",
   "version": "2.7.12"
  }
 },
 "nbformat": 4,
 "nbformat_minor": 0
}
