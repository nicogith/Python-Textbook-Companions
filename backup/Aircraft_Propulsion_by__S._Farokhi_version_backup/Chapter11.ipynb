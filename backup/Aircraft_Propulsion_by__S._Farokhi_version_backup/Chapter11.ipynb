{
 "metadata": {
  "name": "",
  "signature": "sha256:6842d52576d3b9ad2f67a766b452c0923d9dd92086292bc410d0942900230b04"
 },
 "nbformat": 3,
 "nbformat_minor": 0,
 "worksheets": [
  {
   "cells": [
    {
     "cell_type": "heading",
     "level": 1,
     "metadata": {},
     "source": [
      "Chapter11-Chemical Rocket and Hypersonic propulsion "
     ]
    },
    {
     "cell_type": "heading",
     "level": 2,
     "metadata": {},
     "source": [
      "Ex1-pg644"
     ]
    },
    {
     "cell_type": "code",
     "collapsed": false,
     "input": [
      "import math\n",
      "#calcualte Diameter of the SSME nozzle exit area\n",
      "print(\"Example 11.1\")\n",
      "\n",
      "Ts=470000. ##in lb\n",
      "Tv=375000. ##in lb\n",
      "A2=(Ts-Tv)/(14.7*144.)\n",
      "D=(4.*A2/math.pi)**(1./2.)\n",
      "print'%s %.1f %s'%(\"Diameter of the SSME nozzle exit area :\",D,\"\")"
     ],
     "language": "python",
     "metadata": {},
     "outputs": [
      {
       "output_type": "stream",
       "stream": "stdout",
       "text": [
        "Example 11.1\n",
        "Diameter of the SSME nozzle exit area : 7.6 \n"
       ]
      }
     ],
     "prompt_number": 1
    },
    {
     "cell_type": "heading",
     "level": 2,
     "metadata": {},
     "source": [
      "Ex2-pg644"
     ]
    },
    {
     "cell_type": "code",
     "collapsed": false,
     "input": [
      "import math\n",
      "print(\"Example 11.2\")\n",
      "#calculate rocket thurst and effective thurst\n",
      "m=1000 ##in kg/s\n",
      "g=9.8 ##m/s**2\n",
      "Is=340. ##in s\n",
      "F=m*g*Is\n",
      "print'%s %.1f %s'%(\"(a)Rocket thrust F in N :\",F,\"\")\n",
      "c=F/m\n",
      "print'%s %.1f %s'%(\"(b)Effective exhaust velocity c in m/s :\",c,\"\")"
     ],
     "language": "python",
     "metadata": {},
     "outputs": [
      {
       "output_type": "stream",
       "stream": "stdout",
       "text": [
        "Example 11.2\n",
        "(a)Rocket thrust F in N : 3332000.0 \n",
        "(b)Effective exhaust velocity c in m/s : 3332.0 \n"
       ]
      }
     ],
     "prompt_number": 1
    },
    {
     "cell_type": "heading",
     "level": 1,
     "metadata": {},
     "source": [
      "Ex3-pg646"
     ]
    },
    {
     "cell_type": "code",
     "collapsed": false,
     "input": [
      "import math\n",
      "print(\"Example 11.3\")\n",
      "#calculate optimum thurst and nozzle exit mach number and nozzle area exapnsion\n",
      "pc=200. ##in atm\n",
      "p2=1. ##in atm\n",
      "gm=1.3\n",
      "Ath=25. ##in m**2\n",
      "Cf=((2.*gm**2.)/(gm-1.)*(2./(gm+1.))**((gm+1.)/(gm-1.))*(1.-(p2/pc)**((gm-1.)/gm)))**(1/2.)\n",
      "print'%s %.1f %s'%(\"(a)Optimum thrust coefficient Cf,opt :\",Cf,\"\")\n",
      "pc=200.*101. ##converting to MPa\n",
      "F=Ath*Cf*pc\n",
      "print'%s %.1f %s'%(\"(b)thrust F in N\",F,\"\")\n",
      "pc=200.\n",
      "M2=((2./(gm-1.))*((pc/p2)**((gm-1.)/gm)-1.))**(1/2.)\n",
      "print'%s %.1f %s'%(\"(c)Nozzle exit Mach no. M2 :\",M2,\"\")\n",
      "A=1./M2*(2./(gm+1)*(1+(gm-1.)/2.*M2**2.))**((gm+1.)/(2.*(gm-1.)))\n",
      "print'%s %.1f %s'%(\"(d)Nozzle area expansion ratio A2/Ath :\",A,\"\")\n"
     ],
     "language": "python",
     "metadata": {},
     "outputs": [
      {
       "output_type": "stream",
       "stream": "stdout",
       "text": [
        "Example 11.3\n",
        "(a)Optimum thrust coefficient Cf,opt : 1.7 \n",
        "(b)thrust F in N 833262.4 \n",
        "(c)Nozzle exit Mach no. M2 : 4.0 \n",
        "(d)Nozzle area expansion ratio A2/Ath : 15.9 \n"
       ]
      }
     ],
     "prompt_number": 2
    },
    {
     "cell_type": "heading",
     "level": 2,
     "metadata": {},
     "source": [
      "Ex4-pg648"
     ]
    },
    {
     "cell_type": "code",
     "collapsed": false,
     "input": [
      "import math\n",
      "print(\"Example 11.4\")\n",
      "#estimate combustion gas constant and moleculare weight \n",
      "Tc=2999 ##in K\n",
      "Ccr=2432 ##in m/s\n",
      "gm=1.26\n",
      "f=4.02\n",
      "R=((Ccr*gm*(2./(gm+1))**((gm+1.)/(2.*(gm-1))))**2.)/(gm*Tc)\n",
      "print'%s %.1f %s'%(\"Combustion gas constant R in J/kg.K:\",R,\"\")\n",
      "RU=8314.6 ##in j/kmol.K\n",
      "MW=RU/R\n",
      "print'%s %.1f %s'%(\"Molecular weight of the mixture in kg/kmol :\",MW,\"\")"
     ],
     "language": "python",
     "metadata": {},
     "outputs": [
      {
       "output_type": "stream",
       "stream": "stdout",
       "text": [
        "Example 11.4\n",
        "Combustion gas constant R in J/kg.K: 858.9 \n",
        "Molecular weight of the mixture in kg/kmol : 9.7 \n"
       ]
      }
     ],
     "prompt_number": 3
    },
    {
     "cell_type": "heading",
     "level": 2,
     "metadata": {},
     "source": [
      "Ex5-pg648"
     ]
    },
    {
     "cell_type": "code",
     "collapsed": false,
     "input": [
      "#calcualte The oxidizer-to-fuel mixture ratio and The molecular weight of the mixture of gases in the product of combustion in kg/kmol\n",
      "import math\n",
      "print(\"Example 11.5\")\n",
      "\n",
      "f=4.\n",
      "MW=(2.*18+2*2)/4. ##from equation\n",
      "print'%s %.1f %s'%(\"(a)The oxidizer-to-fuel mixture ratio :\",f,\"\")\n",
      "print'%s %.1f %s'%(\"(b)The molecular weight of the mixture of gases in the product of combustion in kg/kmol:\",MW,\"\")"
     ],
     "language": "python",
     "metadata": {},
     "outputs": [
      {
       "output_type": "stream",
       "stream": "stdout",
       "text": [
        "Example 11.5\n",
        "(a)The oxidizer-to-fuel mixture ratio : 4.0 \n",
        "(b)The molecular weight of the mixture of gases in the product of combustion in kg/kmol: 10.0 \n"
       ]
      }
     ],
     "prompt_number": 4
    },
    {
     "cell_type": "heading",
     "level": 2,
     "metadata": {},
     "source": [
      "Ex6-pg651"
     ]
    },
    {
     "cell_type": "code",
     "collapsed": false,
     "input": [
      "import math\n",
      "print(\"Example 11.6\")\n",
      "#calculate imporvement in Delv\n",
      "g=9.8 ##in m/s**2\n",
      "Is=400. ##in s\n",
      "\n",
      "delv1=g*Is*math.log(1./0.1) ##for pmf=0.9\n",
      "delv2=g*Is*math.log(1./0.05) ##for pmf=0.95\n",
      "delp=(delv2-delv1)/delv1*100.\n",
      "print'%s %.1f %s'%(\"% improvement in delv :\",delp,\"\")"
     ],
     "language": "python",
     "metadata": {},
     "outputs": [
      {
       "output_type": "stream",
       "stream": "stdout",
       "text": [
        "Example 11.6\n",
        "% improvement in delv : 30.1 \n"
       ]
      }
     ],
     "prompt_number": 7
    },
    {
     "cell_type": "heading",
     "level": 2,
     "metadata": {},
     "source": [
      "Ex7-pg653"
     ]
    },
    {
     "cell_type": "code",
     "collapsed": false,
     "input": [
      "import math\n",
      "#calcualte reduction in terminal speed\n",
      "print(\"Example 11.7\")\n",
      "\n",
      "g=9.8 ##in m/s**2\n",
      "Is=420. ##in s\n",
      "the=90. ##in degree\n",
      "tb=30. ##in s\n",
      "gavg=9.65 ##in m/s**2\n",
      "MR=0.1\n",
      "delv1=-g*Is*math.log(MR) ##in m/s\n",
      "delv2=-g*Is*math.log(MR)-gavg*tb\n",
      "delp=abs(delv2-delv1)/delv1*100\n",
      "print'%s %.1f %s'%(\"% reduction in terminal speed :\",delp,\"\")"
     ],
     "language": "python",
     "metadata": {},
     "outputs": [
      {
       "output_type": "stream",
       "stream": "stdout",
       "text": [
        "Example 11.7\n",
        "% reduction in terminal speed : 3.1 \n"
       ]
      }
     ],
     "prompt_number": 9
    },
    {
     "cell_type": "heading",
     "level": 2,
     "metadata": {},
     "source": [
      "Ex8-pg656"
     ]
    },
    {
     "cell_type": "code",
     "collapsed": false,
     "input": [
      "import math\n",
      "print(\"Example 11.8\")\n",
      "#calculate Terminal speed of rocket vehical excluding gravitatinal effect in m/s\n",
      "mf=0.8\n",
      "g=9.8 ##in m/s**2\n",
      "Is=345. ##in s\n",
      "delvt=-g*Is*math.log(1-mf)\n",
      "m=500000. ##in kg\n",
      "q0=100000. ##in Pa\n",
      "tb=60. ##in s\n",
      "Af=20.##in m**2\n",
      "Cd=0.3 ##mean drag coefficient\n",
      "delvd=math.log(1-mf)*(Af/m)*q0*(tb/(1-mf))*Cd\n",
      "delv=delvt+delvd\n",
      "print'%s %.1f %s'%(\"Terminal speed of rocket vehical excluding gravitatinal effect in m/s :\",delv,\"\")\n",
      "\n"
     ],
     "language": "python",
     "metadata": {},
     "outputs": [
      {
       "output_type": "stream",
       "stream": "stdout",
       "text": [
        "Example 11.8\n",
        "Terminal speed of rocket vehical excluding gravitatinal effect in m/s : 4862.1 \n"
       ]
      }
     ],
     "prompt_number": 10
    },
    {
     "cell_type": "heading",
     "level": 2,
     "metadata": {},
     "source": [
      "Ex9-pg660"
     ]
    },
    {
     "cell_type": "code",
     "collapsed": false,
     "input": [
      "import math\n",
      "#calcualte Effective exhaust speed and propulsive efficiency and Overall efficiency\n",
      "print(\"Example 11.9\")\n",
      "g=9.8 ##in m/s**2\n",
      "Is=421. ##in s\n",
      "Qr=120000000.\n",
      "v=5000. ##in m/s\n",
      "c=g*Is\n",
      "print'%s %.1f %s'%(\"(a)Effective exhaust speed c in m/s :\",c,\"\")\n",
      "ep=2.*(v/c)/(1.+(v/c)**2.)\n",
      "print'%s %.1f %s'%(\"(b)propulsive efficiency :\",ep,\"\")\n",
      "eo=c*v/Qr\n",
      "print'%s %.1f %s'%(\"(c)Overall efficiency :\",eo,\"\")"
     ],
     "language": "python",
     "metadata": {},
     "outputs": [
      {
       "output_type": "stream",
       "stream": "stdout",
       "text": [
        "Example 11.9\n",
        "(a)Effective exhaust speed c in m/s : 4125.8 \n",
        "(b)propulsive efficiency : 1.0 \n",
        "(c)Overall efficiency : 0.2 \n"
       ]
      }
     ],
     "prompt_number": 11
    },
    {
     "cell_type": "heading",
     "level": 2,
     "metadata": {},
     "source": [
      "Ex11-pg671"
     ]
    },
    {
     "cell_type": "code",
     "collapsed": false,
     "input": [
      "import math\n",
      "print(\"Example 11.11\")\n",
      " #calcualte the new chamber pressure and burning rate and the corresponding reduction in burn time\n",
      "p=7. ##in MPa, \n",
      "n=0.5 ##and \n",
      "a=5. ##cm/s \n",
      "Tdg=15. ##in degree C\n",
      "Td=15+273 ##in K\n",
      "br=0.002 ##per degree C\n",
      "pk=0.004 ##per degree C\n",
      "t=60.##s, \n",
      "\n",
      "DT=30. ## temp difference in degree C\n",
      "pc=p*(1.+pk*DT)\n",
      "print'%s %.1f %s'%(\"(a)The new chamber pressure when the initial grain temp. is 45 degree C in MPa\",pc,\"\")\n",
      "r=a*(pc/p)**n\n",
      "r=r*(1+br*DT) ##correcting for the effect of the grain temperature on burning rate.\n",
      "print'%s %.1f %s'%(\"Burning rate when grain temp. is 45 degree C\",r,\"\")\n",
      "L=a*t/100.\n",
      "tb=L*100./r ##time to burn 3m of end burning grain at 5.61cm/s\n",
      "tbn=t*(p/pc) ##burn time for a constant total impulse\n",
      "\n",
      "dt=t-tb\n",
      "print'%s %.1f %s'%(\"(b)The corresponding reduction in burn time in seconds:\",dt,\"\")\n",
      "\n",
      "\n",
      "\n",
      "\n",
      "\n",
      "\n",
      "\n",
      "\n",
      "\n"
     ],
     "language": "python",
     "metadata": {},
     "outputs": [
      {
       "output_type": "stream",
       "stream": "stdout",
       "text": [
        "Example 11.11\n",
        "(a)The new chamber pressure when the initial grain temp. is 45 degree C in MPa 7.8 \n",
        "Burning rate when grain temp. is 45 degree C 5.6 \n",
        "(b)The corresponding reduction in burn time in seconds: 6.5 \n"
       ]
      }
     ],
     "prompt_number": 12
    },
    {
     "cell_type": "heading",
     "level": 2,
     "metadata": {},
     "source": [
      "Ex12-pg678"
     ]
    },
    {
     "cell_type": "code",
     "collapsed": false,
     "input": [
      "import math\n",
      "#calculate heat flux and total heat flux and convection heat flux and wall temperature on the gas side \n",
      "print(\"Example 11.12\")\n",
      "Tg=2750. ##in K\n",
      "Ttg=Tg\n",
      "Tc=300. ## coolant bulk temp. in K\n",
      "tw=0.002 ##Wall thickness in m\n",
      "kw=43. ##thermal conductivity of the wall in W/m.C\n",
      "hg=657. ##Gas side film coefficient in W/m**2K\n",
      "hc=26000. ##Coolant side film coefficient in W/m**2K\n",
      "eg=0.05 ##emissivity of the gas \n",
      "sigma=5.67*10**(-8)##in W/m**2K\n",
      "Taw=Ttg\n",
      "\n",
      "rhf=eg*sigma*Tg**4/1000.\n",
      "print'%s %.1f %s'%(\"(a)The radiation heat flux in kW/m**2 :\",rhf,\"\")\n",
      "qw=(Ttg-Tc+(rhf*1000./hg))/((1./hg)+(tw/kw)+(1./hc))/1000.\n",
      "print'%s %.1f %s'%(\"(b)The total heat flux in kW/m**2:\",qw,\"\")\n",
      "qc=qw-rhf\n",
      "print'%s %.1f %s'%(\"(c)The convection heat in kW/m**2:\",qc,\"\")\n",
      "Twg=Taw-qc*1000./hg\n",
      "print'%s %.1f %s'%(\"(d)Wall temp. on the gas side in K:\",Twg,\"\")\n",
      "Twc=Tc+(qw*1000./hc)\n",
      "print'%s %.1f %s'%(\"(e)Wall temp. on the coolant side in K:\",Twc,\"\")\n",
      "\n"
     ],
     "language": "python",
     "metadata": {},
     "outputs": [
      {
       "output_type": "stream",
       "stream": "stdout",
       "text": [
        "Example 11.12\n",
        "(a)The radiation heat flux in kW/m**2 : 162.1 \n",
        "(b)The total heat flux in kW/m**2: 1678.1 \n",
        "(c)The convection heat in kW/m**2: 1516.0 \n",
        "(d)Wall temp. on the gas side in K: 442.6 \n",
        "(e)Wall temp. on the coolant side in K: 364.5 \n"
       ]
      }
     ],
     "prompt_number": 13
    },
    {
     "cell_type": "heading",
     "level": 1,
     "metadata": {},
     "source": [
      "Ex13-pg690"
     ]
    },
    {
     "cell_type": "code",
     "collapsed": false,
     "input": [
      "import math\n",
      "#calculate ratio of specific impulse\n",
      "print(\"Example 11.13\")\n",
      "\n",
      "Cpg=2006. ##in J/kg.K\n",
      "Cs=903. ##J/kg.K\n",
      "X1=0.18\n",
      "X2=0.16\n",
      "Tr=1.057\n",
      "Ir=(((1.-X1)*Cpg+X1*Cs)*Tr/((1.-X2)*Cpg+X2*Cs))**(1/2.) ##Ratio of specific impulse \n",
      "print'%s %.3f %s'%(\"Raio of specific impulse :\",Ir,\"\")\n"
     ],
     "language": "python",
     "metadata": {},
     "outputs": [
      {
       "output_type": "stream",
       "stream": "stdout",
       "text": [
        "Example 11.13\n",
        "Raio of specific impulse : 1.022 \n"
       ]
      }
     ],
     "prompt_number": 14
    }
   ],
   "metadata": {}
  }
 ]
}