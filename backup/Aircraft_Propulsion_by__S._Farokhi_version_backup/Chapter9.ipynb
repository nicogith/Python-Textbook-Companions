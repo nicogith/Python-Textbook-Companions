{
 "metadata": {
  "name": "",
  "signature": "sha256:18140c67b89b5f19faa1d49c4ef3005c34f2704afd507fcf868d62ee0b6f6b32"
 },
 "nbformat": 3,
 "nbformat_minor": 0,
 "worksheets": [
  {
   "cells": [
    {
     "cell_type": "heading",
     "level": 1,
     "metadata": {},
     "source": [
      "Chapter9-Aerodynamics of Gas TUrbines "
     ]
    },
    {
     "cell_type": "heading",
     "level": 2,
     "metadata": {},
     "source": [
      "Ex1-pg537"
     ]
    },
    {
     "cell_type": "code",
     "collapsed": false,
     "input": [
      "import math\n",
      "#calcualte inlet velocity and the exit double mach number and nozzle torque per unit mass flow rate \n",
      "Tt1=1800.\n",
      "M1=0.55\n",
      "alfa1=0.\n",
      "gm=1.33\n",
      "Cp=1157.\n",
      "alfa2=60.\n",
      "T1=Tt1/(1.+(gm-1)*M1**2/2.)\n",
      "a1=((gm-1.)*Cp*T1)**(1/2.)\n",
      "C1=a1*M1\n",
      "C2=C1/math.cos(alfa2/57.3)\n",
      "Tt2=Tt1\n",
      "T2=Tt2-C2**2/(2*Cp)\n",
      "a2=((gm-1)*Cp*T2)**(1/2)\n",
      "M2=C2/a2\n",
      "Ct2=C1*math.tan(alfa2/57.3)\n",
      "r=0.35\n",
      "t=0-r*Ct2\n",
      "print\"%s %.4f %s\"%(\"(a)Inlet velocity C1 in m/s :\",C1,\"\")\n",
      "print\"%s %.4f %s\"%(\"(b)The exit absolute Mach no. M2 :\",M2,\"\")\n",
      "print\"%s %.4f %s\"%(\"(c)Nozzle torque per unit mass flow rate for r1=r2=0.35m :\",t,\"\")"
     ],
     "language": "python",
     "metadata": {},
     "outputs": [
      {
       "output_type": "stream",
       "stream": "stdout",
       "text": [
        "(a)Inlet velocity C1 in m/s : 444.9857 \n",
        "(b)The exit absolute Mach no. M2 : 889.8525 \n",
        "(c)Nozzle torque per unit mass flow rate for r1=r2=0.35m : -269.7102 \n"
       ]
      }
     ],
     "prompt_number": 1
    },
    {
     "cell_type": "heading",
     "level": 2,
     "metadata": {},
     "source": [
      "Ex2-pg538"
     ]
    },
    {
     "cell_type": "code",
     "collapsed": false,
     "input": [
      "import math\n",
      "#calculate the nozzle exit flow angle\n",
      "print(\"Example 9.2\")\n",
      "M2=1.0 ##i.e choked\n",
      "Tt2=1800.\n",
      "gm=1.33\n",
      "C1=445.\n",
      "Cp=1157.\n",
      "T2=Tt2/(1.+(gm-1.)*M2**2/2.)\n",
      "a2=((gm-1.)*Cp*T2)**(1/2.) \n",
      "M2=1\n",
      "C2=M2*a2\n",
      "alfa2=math.acos(C1/C2)*180/math.pi\n",
      "print\"%s %.4f %s\"%(\"Nozzle exit flow angle if M2=1 in degrees:\",alfa2,\"\")"
     ],
     "language": "python",
     "metadata": {},
     "outputs": [
      {
       "output_type": "stream",
       "stream": "stdout",
       "text": [
        "Example 9.2\n",
        "Nozzle exit flow angle if M2=1 in degrees: 54.5931 \n"
       ]
      }
     ],
     "prompt_number": 2
    },
    {
     "cell_type": "heading",
     "level": 1,
     "metadata": {},
     "source": [
      "Ex3-pg538"
     ]
    },
    {
     "cell_type": "code",
     "collapsed": false,
     "input": [
      "import math\n",
      "#calculate axial velocity and rotor velocity and degree of reaction at this radius\n",
      "C1=411.\n",
      "alfa2=60.\n",
      "C2=800.\n",
      "W2=450.\n",
      "alfa3=13.\n",
      "C3=411.\n",
      "Cz2=C2*math.cos(60/57.3)\n",
      "Cz3=C3*math.cos(13/57.3)\n",
      "Ct2m=Cz3*math.tan(60/57.3)\n",
      "Wt2m=(450.**2.-400**2.)**(1/2.)\n",
      "Um=Ct2m-Wt2m\n",
      "Ct3=C3*math.sin(13/57.3)\n",
      "Rm=1-(Ct2m+Ct3)/(2.*Um)\n",
      "print\"%s %.4f %s\"%(\"(a)The axial velocities up- and downstream of the rotor in m/s:\",Cz2,\"c\")\n",
      "print'%.4f'%(Cz3)\n",
      "print\"%s %.4f %s\"%(\"(b)The rotor velocity Um in m/s:\",Um,\"\")\n",
      "print\"%s %.4f %s\"%(\"(c)The degree of reaction at this radius :\",Rm,\"\")"
     ],
     "language": "python",
     "metadata": {},
     "outputs": [
      {
       "output_type": "stream",
       "stream": "stdout",
       "text": [
        "(a)The axial velocities up- and downstream of the rotor in m/s: 400.0534 c\n",
        "400.4676\n",
        "(b)The rotor velocity Um in m/s: 487.3515 \n",
        "(c)The degree of reaction at this radius : 0.1936 \n"
       ]
      }
     ],
     "prompt_number": 4
    },
    {
     "cell_type": "heading",
     "level": 2,
     "metadata": {},
     "source": [
      "Ex4-pg553"
     ]
    },
    {
     "cell_type": "code",
     "collapsed": false,
     "input": [
      "import math\n",
      "#calculate the loss of turbine efficiency due to tip clearance\n",
      "Cd=0.5\n",
      "bm=-20.\n",
      "r=1.25\n",
      "phi=0.5\n",
      "chi=1.\n",
      "t=0.02\n",
      "\n",
      "De=Cd*t*r*(1-(chi/phi)*math.tan(bm/57.3))**(1/2.)\n",
      "print\"%s %.4f %s\"%(\"Loss of the turbine efficiency (eta0 times) :\",De,\"\")"
     ],
     "language": "python",
     "metadata": {},
     "outputs": [
      {
       "output_type": "stream",
       "stream": "stdout",
       "text": [
        "Loss of the turbine efficiency (eta0 times) : 0.0164 \n"
       ]
      }
     ],
     "prompt_number": 5
    },
    {
     "cell_type": "heading",
     "level": 1,
     "metadata": {},
     "source": [
      "Ex5-pg560"
     ]
    },
    {
     "cell_type": "code",
     "collapsed": false,
     "input": [
      "import math\n",
      "#calculate gas static temperature and adibatic wall temperature  on the nozzle for a turbulent boundary layer \n",
      "Tt=1700. ##total gas temp at exit\n",
      "gm=1.33 ##gamma\n",
      "Cp=1157. ##in J/kg.K\n",
      "M2=1. ##local gas Mach no.\n",
      "Pr=0.71 ## Prandtl no.\n",
      "W2=455. ## gas speed relative to rotor\n",
      "Tg=Tt/(1.+(gm-1)*(M2**2)/2.)\n",
      "print\"%s %.3f %s \"%(\"The gas static temperature Tg in K:\",Tg,\"\")\n",
      "a2=((gm-1)*Cp*Tg)**(1/2.)\n",
      "C2=a2\n",
      "r=Pr**(1/3.)\n",
      "Taw=Tg+Pr**(1/3.)*C2**2./(Cp)\n",
      "print\"%s %.3f %s \"%(\"The adiabatic wall temperatue Taw on the nozzle for a turbulent boundary layer in K:\",Taw,\"\")\n",
      "Ttr=Tg+(W2**2)/(2*Cp)\n",
      "Tawl=Tg+Pr**(1/2)*C2**2/(Cp)\n",
      "print\"%s %.3f %s \"%(\"The adiabatic wall temperature on the nozzle for a laminar boundary layer in K: \",Tawl,\"\")\n",
      "print\"%s %.3f %s \"%(\"The rotor temperature of the gas on the rotor in K:\",Ttr,\"\")"
     ],
     "language": "python",
     "metadata": {},
     "outputs": [
      {
       "output_type": "stream",
       "stream": "stdout",
       "text": [
        "The gas static temperature Tg in K: 1459.227  \n",
        "The adiabatic wall temperatue Taw on the nozzle for a turbulent boundary layer in K: 1888.820  \n",
        "The adiabatic wall temperature on the nozzle for a laminar boundary layer in K:  1940.773  \n",
        "The rotor temperature of the gas on the rotor in K: 1548.694  \n"
       ]
      }
     ],
     "prompt_number": 6
    },
    {
     "cell_type": "heading",
     "level": 2,
     "metadata": {},
     "source": [
      "Ex6-pg564"
     ]
    },
    {
     "cell_type": "code",
     "collapsed": false,
     "input": [
      "import math\n",
      "#calculate cooling fraction\n",
      "T0=288. ##in K\n",
      "p0=100. ##in kPa\n",
      "Tt3=800. ##in K\n",
      "gm=1.4\n",
      "Cpc=1.0045 ##kJ/Kg.K\n",
      "pc=25.\n",
      "ec=0.9\n",
      "Tt4=2000. ##in K\n",
      "gmc=1.33\n",
      "Cpg=1.188 ##kJ/Kg.K\n",
      "Stg=0.005 ##Gas-side Stanton no.\n",
      "Taw=2000. ##in K\n",
      "ptg=2.5 ##in Mpa\n",
      "Tawd=1200. ## desired temp. in K\n",
      "d=2. ##thickness of internally cooled wall in mm\n",
      "bms=2. ##blade mean solidity in HPT\n",
      "kw=14.9 ##in W/m.K\n",
      "Twc=870. ##in K\n",
      "S=1/2. ##S=Stc/Stg\n",
      "e=(Cpc/Cpg)*S*(Twc-Tt3)/(Tt4-Tawd)\n",
      "print\"%s %.4f %s\"%(\"Cooling fraction :\",e,\"\")\n"
     ],
     "language": "python",
     "metadata": {},
     "outputs": [
      {
       "output_type": "stream",
       "stream": "stdout",
       "text": [
        "Cooling fraction : 0.0370 \n"
       ]
      }
     ],
     "prompt_number": 7
    }
   ],
   "metadata": {}
  }
 ]
}