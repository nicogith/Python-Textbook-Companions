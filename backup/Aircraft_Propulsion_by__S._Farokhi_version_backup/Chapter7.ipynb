{
 "metadata": {
  "name": "",
  "signature": "sha256:a1103e7f537caec5a81acb255dc32d2e4804e5b54c26440e712efff2c69d7a1d"
 },
 "nbformat": 3,
 "nbformat_minor": 0,
 "worksheets": [
  {
   "cells": [
    {
     "cell_type": "heading",
     "level": 1,
     "metadata": {},
     "source": [
      "Chapter7-Axial compressor Aerodynamics"
     ]
    },
    {
     "cell_type": "heading",
     "level": 2,
     "metadata": {},
     "source": [
      "Ex1-pg397"
     ]
    },
    {
     "cell_type": "code",
     "collapsed": false,
     "input": [
      "import math\n",
      "#calculate specific work at pitch line and rotor torque per unit mass flow rate\n",
      "w=5600. ##rpm\n",
      "rm=0.5 ##m\n",
      "Ct2=145. ##m/s\n",
      "Um=w*2*math.pi*rm/60. ##Rotor tangential speed at pitchline in m/s\n",
      "Ct1=0.\n",
      "dU=Ct2-Ct1\n",
      "wc=Um*dU/1000. ## in kJ/kg\n",
      "tpm=rm*(dU)\n",
      "print'%s %.6f %s'%(\"Specific work at pitchline in\",wc, \"kJ/kg\")\n",
      "print'%s %.1f %s'%(\"Rotor torque per unit mass flow rate in \",tpm,\"m^2/s\")"
     ],
     "language": "python",
     "metadata": {},
     "outputs": [
      {
       "output_type": "stream",
       "stream": "stdout",
       "text": [
        "Specific work at pitchline in 42.516221 kJ/kg\n",
        "Rotor torque per unit mass flow rate in  72.5 m^2/s\n"
       ]
      }
     ],
     "prompt_number": 1
    },
    {
     "cell_type": "heading",
     "level": 2,
     "metadata": {},
     "source": [
      "Ex2-pg407"
     ]
    },
    {
     "cell_type": "code",
     "collapsed": false,
     "input": [
      "import math\n",
      "#calculate rotor anugular speed and rotor exit swirl and rotor specific work at pitch line and rotor mass flow rate and stotor mass flow rate and flow efficient\n",
      "rm=0.5\n",
      "Um=212. ##m/s\n",
      "Czm=155. ##m/s\n",
      "Ct1m=28. ##m/s\n",
      "Rm=0.6\n",
      "alfar=1. ##alfar=alfa3/alfa1.\n",
      "w=Um*60./(rm*2*math.pi)\n",
      "print'%s %.f %s'%(\"Rotor angular speed w in\",w,\" rpm\")\n",
      "Ct2m=2.*Um*(1.-Rm)-Ct1m\n",
      "print'%s %.f %s'%(\"Rotor exit swirl in\",Ct2m,\" m/s\")\n",
      "wcm=Um*(Ct2m-Ct1m)/1000.\n",
      "print'%s %.f %s'%(\"Rotor specific work at pitchline Wcm in\",wcm,\" kJ/kg \")\n",
      "Wt2m=Ct2m-Um\n",
      "print'%s %.f %s'%(\"Rotor relative velocity vector at rotor exit in\",Wt2m,\" m/s\")\n",
      "print(\"Hence vector is 155k-70.4e\")\n",
      "##Since alfa3=alfa1, rotor and stator torques are equal and opposite each other.\n",
      "trm=rm*(Ct2m-Ct1m)\n",
      "tsm=-1*trm\n",
      "print'%s %.f %s'%(\"Rotor torque per unit mass flow rate in\",trm,\" m^2/s\")\n",
      "print'%s %.f %s'%(\"stotor torque per unit mass flow rate in\",tsm,\" m^2/s\")  \n",
      "pshm=(Ct2m-Ct1m)/Um\n",
      "phm=Czm/Um\n",
      "print'%s %.f %s'%(\"Stage loading parameter at pitchline\",pshm,\"\")\n",
      "print'%s %.f %s'%(\"Flow coefficient\",phm,\"\")\n",
      "\n",
      "\n",
      "\n",
      "\n"
     ],
     "language": "python",
     "metadata": {},
     "outputs": [
      {
       "output_type": "stream",
       "stream": "stdout",
       "text": [
        "Rotor angular speed w in 4049  rpm\n",
        "Rotor exit swirl in 142  m/s\n",
        "Rotor specific work at pitchline Wcm in 24  kJ/kg \n",
        "Rotor relative velocity vector at rotor exit in -70  m/s\n",
        "Hence vector is 155k-70.4e\n",
        "Rotor torque per unit mass flow rate in 57  m^2/s\n",
        "stotor torque per unit mass flow rate in -57  m^2/s\n",
        "Stage loading parameter at pitchline 1 \n",
        "Flow coefficient 1 \n"
       ]
      }
     ],
     "prompt_number": 1
    },
    {
     "cell_type": "heading",
     "level": 2,
     "metadata": {},
     "source": [
      "Ex3-pg409"
     ]
    },
    {
     "cell_type": "code",
     "collapsed": false,
     "input": [
      "import math\n",
      "#determine circulation and D-factor\n",
      "Um1=200. ## in m/s\n",
      "Um2=Um1\n",
      "Cz1=150. ##in m/s\n",
      "Cz2=Cz1\n",
      "b2=-35. ##in degree \n",
      "Cm=7. ##in cm\n",
      "Sm=7. ##in cm\n",
      "W1m=((Um1**2.)+Cz1**2.)**(1/2.) \n",
      "Wt2m=Cz2*math.tan(-35/57.3)\n",
      "W2m=((Cz1)**2.+(Wt2m)**2.)**(1/2.)\n",
      "print\"%s %.1f %s\"%(\"W1m in \",W1m,\"m/s:\")\n",
      "print\"%s %.4f %s\"%(\"W2m in \",W2m,\"m/s \")\n",
      "sigma=Cm/Sm\n",
      "Wt1m=-1.*Um1\n",
      "Dm=1.-(W2m/W1m)+(abs(Wt2m-Wt1m))/(2.*sigma*W1m)\n",
      "print\"%s %.4f %s\"%(\"D-factor Dm\",Dm,\" \")\n",
      "Tm=Sm/100.*abs(Wt1m-Wt2m)\n",
      "print\"%s %.7f %s\"%(\"Circulation Tm in \",Tm,\"m^2/s\")\n"
     ],
     "language": "python",
     "metadata": {},
     "outputs": [
      {
       "output_type": "stream",
       "stream": "stdout",
       "text": [
        "W1m in  250.0 m/s:\n",
        "W2m in  183.1104 m/s \n",
        "D-factor Dm 0.4575  \n",
        "Circulation Tm in  6.6485249 m^2/s\n"
       ]
      }
     ],
     "prompt_number": 2
    },
    {
     "cell_type": "heading",
     "level": 2,
     "metadata": {},
     "source": [
      "Ex4-pg421"
     ]
    },
    {
     "cell_type": "code",
     "collapsed": false,
     "input": [
      "import math\n",
      "#calculate static pressure rise co-efficent \n",
      "W1=300. ##in m/s\n",
      "wrm=0.03\n",
      "W2min=0.72*W1\n",
      "Cp=1-(W2min/W1)**2-wrm\n",
      "print\"%s %.1f %s\"%(\"Minimum W2 in\",W2min,\" m/s :\")\n",
      "print\"%s %.3f %s\"%(\"Static pressure rise coefficient\",Cp,\"\")"
     ],
     "language": "python",
     "metadata": {},
     "outputs": [
      {
       "output_type": "stream",
       "stream": "stdout",
       "text": [
        "Minimum W2 in 216.0  m/s :\n",
        "Static pressure rise coefficient 0.452 \n"
       ]
      }
     ],
     "prompt_number": 4
    },
    {
     "cell_type": "heading",
     "level": 2,
     "metadata": {},
     "source": [
      "Ex5-pg429"
     ]
    },
    {
     "cell_type": "code",
     "collapsed": false,
     "input": [
      "import math\n",
      "#calculate total temperature ratio and compressor polytropic efficency\n",
      "ps=1.5\n",
      "es=0.9\n",
      "gm=1.4\n",
      "ts=1.+(1./es)*(ps**((gm-1.)/gm)-1.)\n",
      "ec=(gm-1.)/gm*(math.log(ps))/math.log(ts)\n",
      "print\"%s %.3f %s\"%(\"Total temperature ratio\",ts,\"\")\n",
      "print\"%s %.3f %s\"%(\"Compressor polytropic efficiency\",ec,\"\")"
     ],
     "language": "python",
     "metadata": {},
     "outputs": [
      {
       "output_type": "stream",
       "stream": "stdout",
       "text": [
        "Total temperature ratio 1.136 \n",
        "Compressor polytropic efficiency 0.906 \n"
       ]
      }
     ],
     "prompt_number": 3
    },
    {
     "cell_type": "heading",
     "level": 2,
     "metadata": {},
     "source": [
      "Ex6-pg429"
     ]
    },
    {
     "cell_type": "code",
     "collapsed": false,
     "input": [
      "import math\n",
      "#calculate mean relative flow angle and rotor section drag co-efficent and rotor circulation and rotor sectional 2d lift co-efficent\n",
      "W1=460. ##in m/s\n",
      "b1=45.##degrees\n",
      "W2=376.\n",
      "b2=30.\n",
      "c=5.25\n",
      "w=0.05\n",
      "s=3.5\n",
      "Wt1=W1*math.sin(45/57.3)\n",
      "Wt2=W2*math.sin(30/57.3)\n",
      "Wtm=(Wt1+Wt2)/2\n",
      "Wz1=W1*math.cos(45/57.3)\n",
      "Wz2=W2*math.cos(30/57.3)\n",
      "Wz=(Wz1+Wz2)/2\n",
      "bm=(math.atan(Wtm/Wz))*180/math.pi\n",
      "sigma=c/s\n",
      "Cd=w/sigma*math.cos(bm/57.3)\n",
      "T=s/100*(abs(Wt1-Wt2))\n",
      "Wm=(Wz**2+Wtm**2)**(1/2.)\n",
      "C1=2.*T/(Wm*(c/100.))-Cd*math.tan(bm/57.3)\n",
      "print\"%s %.4f %s\"%(\"mean relative flow angle :\",bm,\"\")\n",
      "print\"%s %.4f %s\"%(\"The rotor section (2D) drag coefficient :\",Cd,\"\")\n",
      "print\"%s %.4f %s\"%(\"The rotor circulation in m**2/s :\",T,\"\")\n",
      "print\"%s %.4f %s\"%(\"The rotor sectional (2D) lift coefficient :\",C1,\"\")"
     ],
     "language": "python",
     "metadata": {},
     "outputs": [
      {
       "output_type": "stream",
       "stream": "stdout",
       "text": [
        "mean relative flow angle : 38.2551 \n",
        "The rotor section (2D) drag coefficient : 0.0262 \n",
        "The rotor circulation in m**2/s : 4.8042 \n",
        "The rotor sectional (2D) lift coefficient : 0.4209 \n"
       ]
      }
     ],
     "prompt_number": 6
    },
    {
     "cell_type": "heading",
     "level": 2,
     "metadata": {},
     "source": [
      "Ex7-pg437"
     ]
    },
    {
     "cell_type": "code",
     "collapsed": false,
     "input": [
      "print \"Example 7.7\"\n",
      "%matplotlib inline\n",
      "import warnings\n",
      "warnings.filterwarnings('ignore')\n",
      "#calculate and draw the garph of degree of reaction for compressor stage with IGV and possible hub radii and possible tip radii\n",
      "import numpy\n",
      "import matplotlib\n",
      "from matplotlib import pyplot\n",
      "Rm=0.5\n",
      "b=0 #b=b/w\n",
      "i=1\n",
      "z0=numpy.linspace(0.,.5,6)\n",
      "z1=numpy.linspace(0.5,1.5,20)\n",
      "for b in z0:\n",
      "\tr=0.5\n",
      "\tvr=z1;\n",
      "\tx=numpy.zeros(20)\n",
      "\tcount=0;\n",
      "\tfor r in z1:\n",
      "\t\tR=(1-b)-((1-b)-Rm)/(r)**2\n",
      "\t\tx[count]=R\n",
      "\t\tcount=count+1;\n",
      "\tpyplot.plot(vr,x)\n",
      "\ti=i+1;\n",
      "\tpyplot.xlabel(\"r/r1 (<---------)Possible hub radii and Possible tip radii(--------->)\")\n",
      "\tpyplot.ylabel(\"R(r)\")\n",
      "\tpyplot.title(\"Degree of reaction for a compressor stage with an IGV\")\n",
      "\tpyplot.legend(\"b/w=0\",\"b/w=0.1\",\"b/w=0.2 so on\")\n"
     ],
     "language": "python",
     "metadata": {},
     "outputs": [
      {
       "output_type": "stream",
       "stream": "stdout",
       "text": [
        "Example 7.7\n"
       ]
      },
      {
       "metadata": {},
       "output_type": "display_data",
       "png": "[encoded data removed]",
       "text": [
        "<matplotlib.figure.Figure at 0x57bc0f0>"
       ]
      }
     ],
     "prompt_number": 2
    }
   ],
   "metadata": {}
  }
 ]
}