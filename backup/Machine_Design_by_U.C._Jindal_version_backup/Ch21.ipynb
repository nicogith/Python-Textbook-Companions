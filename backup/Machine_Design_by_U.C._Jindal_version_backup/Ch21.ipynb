{
 "metadata": {
  "name": "",
  "signature": "sha256:10bd9abe18e1c81566ed029a02a2720fe79b25747c3617a3cb6346d82c9110e2"
 },
 "nbformat": 3,
 "nbformat_minor": 0,
 "worksheets": [
  {
   "cells": [
    {
     "cell_type": "heading",
     "level": 1,
     "metadata": {},
     "source": [
      "Ch:21 V belt drive"
     ]
    },
    {
     "cell_type": "heading",
     "level": 2,
     "metadata": {},
     "source": [
      "exa 21-1 - Page 579"
     ]
    },
    {
     "cell_type": "code",
     "collapsed": false,
     "input": [
      "from __future__ import division\n",
      "from math import sqrt, pi, asin, degrees, exp\n",
      "P1=12*10**3#\n",
      "d=0.3#\n",
      "D=0.9#\n",
      "C=0.9#\n",
      "A=230*10**-6#\n",
      "#density is rho\n",
      "rho=1100#\n",
      "N=1500#\n",
      "#Maximum stress is sig\n",
      "sig=2.1*10**6#\n",
      "#semi groove angle is b\n",
      "b=20*pi/180#\n",
      "u=0.22#\n",
      "m=rho*A#\n",
      "v=2*pi*N*d/(60*2)#\n",
      "Tc=m*v**2#\n",
      "T1=A*sig#\n",
      "#wrap angle is thetaA\n",
      "ang=(D-d)/(2*C)#\n",
      "thetaA=pi/180*(180-(2*degrees(asin(ang))))\n",
      "thetaB=((2*pi)-thetaA)#\n",
      "x=u*thetaB#\n",
      "T2=Tc+((T1-Tc)/exp(x))#\n",
      "P2=(T1-T2)*v#\n",
      "n=P1/P2#\n",
      "n=3# #(rounding off to nearest whole number)\n",
      "print \"Tc is %0.1f N \"%(Tc)#\n",
      "print \"\\nT1 is %0.0f N \"%(T1)#\n",
      "print \"\\nT2 is %0.1f N \"%(T2)#\n",
      "print \"\\nP2 is %0.0f W \"%(P2)#\n",
      "print \"\\nn is %0.0f \"%(n)#\n",
      "  \n",
      "  "
     ],
     "language": "python",
     "metadata": {},
     "outputs": [
      {
       "output_type": "stream",
       "stream": "stdout",
       "text": [
        "Tc is 140.5 N \n",
        "\n",
        "T1 is 483 N \n",
        "\n",
        "T2 is 288.2 N \n",
        "\n",
        "P2 is 4589 W \n",
        "\n",
        "n is 3 \n"
       ]
      }
     ],
     "prompt_number": 13
    },
    {
     "cell_type": "heading",
     "level": 2,
     "metadata": {},
     "source": [
      "exa 21-2 - Page 579"
     ]
    },
    {
     "cell_type": "code",
     "collapsed": false,
     "input": [
      "from math import sin\n",
      "D=0.6#\n",
      "d=0.3#\n",
      "C=0.9#\n",
      "m=0.193#\n",
      "n=2#\n",
      "N=1500#\n",
      "u=0.3#\n",
      "v=2*pi*N/60*d/2#\n",
      "P=150*10**3#\n",
      "Tc=m*v**2#\n",
      "#let T1-T2=T\n",
      "T=P/(n*v)#\n",
      "thetaA=pi/180*(180-(2*degrees(asin((D-d)/(2*C)))))#\n",
      "thetaB=((2*pi)-thetaA)#\n",
      "#Groove angle=b\n",
      "b=17.5*pi/180#\n",
      "x=u*thetaA/sin(b)#\n",
      "y=exp(x)#\n",
      "c=(Tc*(1-y))#\n",
      "T2=(T+(Tc*(1-y)))/(y-1)#\n",
      "#T2=(T-y)/Tc#\n",
      "T1=T+Tc#\n",
      "Lp=2*sqrt((C**2)-((D-d)/2)**2)+(thetaA*d/2)+(thetaB*D/2)#\n",
      "v=sqrt(T/(3*m))#\n",
      "print \"Tc is %0.2f N \"%(Tc)#\n",
      "print \"\\nT1 is %0.0f N \"%(T1)#\n",
      "print \"\\nT2 is %0.2f N \"%(T2)#\n",
      "print \"\\nLp is %0.3f m \"%(Lp)#\n",
      "print \"\\nv is %0.2f m/s \"%(v)#\n",
      "print \"\\nThe designation of the belt is B-3251-45 \"#\n",
      "#The difference in values of T1 and T2 is due to rounding-off of values."
     ],
     "language": "python",
     "metadata": {},
     "outputs": [
      {
       "output_type": "stream",
       "stream": "stdout",
       "text": [
        "Tc is 107.15 N \n",
        "\n",
        "T1 is 3290 N \n",
        "\n",
        "T2 is 98.93 N \n",
        "\n",
        "Lp is 3.239 m \n",
        "\n",
        "v is 74.15 m/s \n",
        "\n",
        "The designation of the belt is B-3251-45 \n"
       ]
      }
     ],
     "prompt_number": 14
    },
    {
     "cell_type": "heading",
     "level": 2,
     "metadata": {},
     "source": [
      "exa 21-3 - Page 580"
     ]
    },
    {
     "cell_type": "code",
     "collapsed": false,
     "input": [
      "from math import tan\n",
      "C=1#\n",
      "m=0.35#\n",
      "d=0.25#\n",
      "P=22*10**3#\n",
      "#Let the smaller pulley dia be n\n",
      "#Let the larger pulley dia be N\n",
      "n=1000#\n",
      "N=400#\n",
      "D=d*n/N#\n",
      "v=2*pi*n*d/(60*2)#\n",
      "Tc=m*v**2#\n",
      "topwidth=22#\n",
      "h=14#\n",
      "bottomwidth=topwidth-(2*h*tan(20*pi/180))#\n",
      "A=(topwidth+bottomwidth)/2*h#\n",
      "#let allowable tension be Ta\n",
      "Ta=2.2#\n",
      "T1=A*Ta#\n",
      "u=0.28#\n",
      "thetaA=pi/180*(180-(2*degrees(asin((D-d)/(2*C)))))\n",
      "thetaB=((2*pi)-thetaA)#\n",
      "#Groove angle=b=19\n",
      "b=19*pi/180#\n",
      "x=u*thetaA/sin(b)#\n",
      "T2=Tc+((T1-Tc)/exp(x))#\n",
      "n=P/((T1-T2)*v)#\n",
      "Lp=2*sqrt((C**2)-((D-d)/2)**2)+(thetaA*d/2)+(thetaB*D/2)#\n",
      "print \"Tc is %0.2f N \"%(Tc)#\n",
      "print \"\\nT1 is %0.1f N \"%(T1)#\n",
      "print \"\\nT2 is %0.1f N \"%(T2)#\n",
      "print \"\\nn is %0.1f \"%(n)#\n",
      "print \"\\nLp is %0.3f m \"%(Lp)#\n",
      "print \"\\nThe designation of the belt is C-3414-47 \"#\n",
      "  \n",
      " # difference in value of Lp is due to rounding-off the values of thetaA and thetaB."
     ],
     "language": "python",
     "metadata": {},
     "outputs": [
      {
       "output_type": "stream",
       "stream": "stdout",
       "text": [
        "Tc is 59.97 N \n",
        "\n",
        "T1 is 520.7 N \n",
        "\n",
        "T2 is 102.7 N \n",
        "\n",
        "n is 4.0 \n",
        "\n",
        "Lp is 3.410 m \n",
        "\n",
        "The designation of the belt is C-3414-47 \n"
       ]
      }
     ],
     "prompt_number": 15
    },
    {
     "cell_type": "heading",
     "level": 2,
     "metadata": {},
     "source": [
      "exa 21-4 - Page 580"
     ]
    },
    {
     "cell_type": "code",
     "collapsed": false,
     "input": [
      "P=12*10**3#\n",
      "Ks=1.1#\n",
      "Pd=12*10**3*Ks#\n",
      "N=1440#\n",
      "B=17#\n",
      "t=11#\n",
      "d=200#\n",
      "i=3#\n",
      "D=i*d#\n",
      "C=1000#\n",
      "# since angle of contact theta is very small\n",
      "theta=(D-d)/C#\n",
      "theta=theta*180/pi#\n",
      "Kc=0.8#\n",
      "Lp=(2*C)+(pi/2*(D+d))+(((D-d)**2)/(4*C))#\n",
      "Li=Lp-45#\n",
      "Ki=1.1#\n",
      "#let number of v-belts required = n\n",
      "#let the KW rating be KWR\n",
      "KWR=5.23#\n",
      "n=(P*Ks)/(KWR*Ks*Ki*10**3)#\n",
      "n=3#\n",
      "print \"D is %0.1f mm \"%(D)#\n",
      "print \"\\nC is %0.1f mm \"%(C)#\n",
      "print \"\\nn is %0.3f \"%(n)#\n",
      "print \"\\nLi is %0.0f mm \"%(Li)"
     ],
     "language": "python",
     "metadata": {},
     "outputs": [
      {
       "output_type": "stream",
       "stream": "stdout",
       "text": [
        "D is 600.0 mm \n",
        "\n",
        "C is 1000.0 mm \n",
        "\n",
        "n is 3.000 \n",
        "\n",
        "Li is 3252 mm \n"
       ]
      }
     ],
     "prompt_number": 16
    },
    {
     "cell_type": "heading",
     "level": 2,
     "metadata": {},
     "source": [
      "exa 21-5 - Page 581"
     ]
    },
    {
     "cell_type": "code",
     "collapsed": false,
     "input": [
      "N=800;\n",
      "P=20;\n",
      "i=2.5;\n",
      "Ks=1.5; #(from table for 3-5 hrs/day)\n",
      "Pd=P*Ks;\n",
      "d=250;\n",
      "D=i*d;\n",
      "C=1.6*D;\n",
      "Lp=(2*C)+(pi*(D+d)/2)+((D-d)**2)/(4*C);\n",
      "Li=Lp+74;\n",
      "Listd=3454;\n",
      "Lp=Listd+74;\n",
      "p=[1, -1.0768, 0.0175];\n",
      "from sympy import symbols, solve\n",
      "P = symbols('P')\n",
      "expr = P**2*p[0]+P*p[1]+p[2]\n",
      "z = solve(expr, P)[1]\n",
      "KW=9.4;\n",
      "Kc=0.795;\n",
      "K1=1;\n",
      "n=Pd/(KW*Kc*K1);\n",
      "print \" C is %0.4f m \"%(z);\n",
      "print \"\\n Pd is %0.0f KW \"%(Pd);\n",
      "print \"\\n n is %0.2f KW \"%(n);\n",
      "  \n",
      "  "
     ],
     "language": "python",
     "metadata": {},
     "outputs": [
      {
       "output_type": "stream",
       "stream": "stdout",
       "text": [
        " C is 1.0603 m \n",
        "\n",
        " Pd is 30 KW \n",
        "\n",
        " n is 4.01 KW \n"
       ]
      }
     ],
     "prompt_number": 17
    }
   ],
   "metadata": {}
  }
 ]
}