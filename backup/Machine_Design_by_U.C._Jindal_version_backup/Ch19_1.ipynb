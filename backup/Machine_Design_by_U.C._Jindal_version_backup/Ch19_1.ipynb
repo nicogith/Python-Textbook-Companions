{
 "cells": [
  {
   "cell_type": "markdown",
   "metadata": {},
   "source": [
    "# Ch:19 Flywheel"
   ]
  },
  {
   "cell_type": "markdown",
   "metadata": {},
   "source": [
    "## exa 19-1 - Page 530"
   ]
  },
  {
   "cell_type": "code",
   "execution_count": 1,
   "metadata": {
    "collapsed": false
   },
   "outputs": [
    {
     "name": "stdout",
     "output_type": "stream",
     "text": [
      "axial stress is 12.76 MPa    \n",
      "\n",
      "tensile stress for theta=30deg is 38.9 MPa    \n",
      "\n",
      "tensile stress for theta=0deg is 31.74 MPa    \n"
     ]
    }
   ],
   "source": [
    "from __future__ import division\n",
    "from math import sqrt, pi, cos, sin\n",
    "R=1200#\n",
    "b=300#\n",
    "t=150#\n",
    "N=500#\n",
    "m=7100*10**-9*b*t#\n",
    "Ar=b*t#\n",
    "Aa=Ar/4#\n",
    "C=(20280/t**2)+0.957+(Ar/Aa)#\n",
    "w=2*pi*N/60#\n",
    "V=w*R*10**-3#\n",
    "siga=2*10**3*m*V**2/(C*Aa*3)#\n",
    "theta=30*pi/180#\n",
    "alpha=30*pi/180#\n",
    "x1=10**3*m*(V**2)/(b*t)#\n",
    "y1=cos(theta)/(3*C*sin(alpha))#\n",
    "z1=2000*R*10**-3/(C*t)*((1/alpha)-(cos(theta)/sin(alpha)))#\n",
    "sigrr1=x1*(1-y1+z1)#\n",
    "theta=0*pi/180#\n",
    "x2=10**3*m*(V**2)/(b*t)#\n",
    "y2=cos(theta)/(3*C*sin(alpha))#\n",
    "z2=2000*R*10**-3/(C*t)*((1/alpha)-(cos(theta)/sin(alpha)))#\n",
    "sigrr2=x2*(1-y2-z2)#\n",
    "print \"axial stress is %0.2f MPa    \"%(siga)#\n",
    "print \"\\ntensile stress for theta=30deg is %0.1f MPa    \"%(sigrr1)#\n",
    "print \"\\ntensile stress for theta=0deg is %0.2f MPa    \"%(sigrr2)#\n",
    "#The difference in the value of sigrr1 and sigrr2 is due to rounding-off of values."
   ]
  },
  {
   "cell_type": "markdown",
   "metadata": {},
   "source": [
    "## exa 19-2 - Page 530"
   ]
  },
  {
   "cell_type": "code",
   "execution_count": 2,
   "metadata": {
    "collapsed": false
   },
   "outputs": [
    {
     "name": "stdout",
     "output_type": "stream",
     "text": [
      "t is 63.37 mm    \n",
      "\n",
      "b is 126.74 mm    \n",
      "\n",
      "R is 0.682 m    \n"
     ]
    }
   ],
   "source": [
    "from math import asin, cos, sqrt,pi\n",
    "N=350#\n",
    "theta1=asin(sqrt((3-0.6)/4))#\n",
    "theta1=theta1*180/pi#\n",
    "theta2=(180)-theta1#\n",
    "#Ti=16000+6000*sind(3*theta)#\n",
    "#To=16000+3600*sind(theta)#\n",
    "a=-3600*(cos(pi/180*theta2)-cos(pi/180*theta1))#\n",
    "b=2000*(cos(pi/180*3*theta2)-cos(pi/180*3*theta1))#\n",
    "c=a+b#\n",
    "delU=c#\n",
    "Ks=0.05#\n",
    "w=2*pi*N/60#\n",
    "I=delU/(Ks*w**2)#\n",
    "V=25#\n",
    "Ir=I*0.95#\n",
    "R=V/w#\n",
    "Mr=Ir/R**2#\n",
    "rho=7150#\n",
    "t=sqrt(Mr*(10**6)/(2*pi*R*2*rho))#\n",
    "b=2*t#\n",
    "print \"t is %0.2f mm    \"%(t)#\n",
    "print \"\\nb is %0.2f mm    \"%(b)#\n",
    "print \"\\nR is %0.3f m    \"%(R)#"
   ]
  },
  {
   "cell_type": "markdown",
   "metadata": {},
   "source": [
    "## exa 19-3 - Page 531"
   ]
  },
  {
   "cell_type": "code",
   "execution_count": 3,
   "metadata": {
    "collapsed": false
   },
   "outputs": [
    {
     "name": "stdout",
     "output_type": "stream",
     "text": [
      "t is 28.16 mm    \n",
      "\n",
      "b is 42.24 mm    \n",
      "\n",
      "R is 0.2816 m    \n"
     ]
    }
   ],
   "source": [
    "from math import sqrt,pi\n",
    "N=300#\n",
    "Ks=0.03#\n",
    "rho=7150#\n",
    "Kr=0.9#\n",
    "w=2*pi*N/60#\n",
    "WD=(300*2*pi)+(4*pi*200/4)#\n",
    "Tm=400#\n",
    "delU=pi*200/16#\n",
    "Ir=Kr*delU/(w**2*Ks)#\n",
    "R=Ir/(rho*1.5*0.1*0.1*2*pi)#\n",
    "R=R**(1/5)#\n",
    "t=0.1*R*1000#\n",
    "b=1.5*t#\n",
    "print \"t is %0.2f mm    \"%(t)#\n",
    "print \"\\nb is %0.2f mm    \"%(b)#\n",
    "print \"\\nR is %0.4f m    \"%(R)#"
   ]
  },
  {
   "cell_type": "markdown",
   "metadata": {},
   "source": [
    "## exa 19-4 - Page 532"
   ]
  },
  {
   "cell_type": "code",
   "execution_count": 4,
   "metadata": {
    "collapsed": false
   },
   "outputs": [
    {
     "name": "stdout",
     "output_type": "stream",
     "text": [
      "t is 26.9 mm    \n",
      "\n",
      "b is 53.8 mm    \n",
      "\n",
      "R is 0.5 m    \n"
     ]
    }
   ],
   "source": [
    "from math import sqrt,pi\n",
    "d=20#\n",
    "t=12#\n",
    "Tus=450#\n",
    "Pmax=pi*d*t*Tus#\n",
    "WD=Pmax*t/2*10**-3#\n",
    "n=0.95#\n",
    "Wi=WD/n#\n",
    "delU=5*Wi/6#\n",
    "N=300#\n",
    "w=2*pi*N/60#\n",
    "Ks=0.2#\n",
    "I=delU/(Ks*w**2)#\n",
    "Ir=I*0.9#\n",
    "R=0.5#\n",
    "m=Ir/R**2#\n",
    "rho=7150#\n",
    "t=sqrt(m*10**6/(rho*2*pi*R*2))#\n",
    "b=2*t#\n",
    "print \"t is %0.1f mm    \"%(t)#\n",
    "print \"\\nb is %0.1f mm    \"%(b)#\n",
    "print \"\\nR is %0.1f m    \"%(R)#"
   ]
  },
  {
   "cell_type": "markdown",
   "metadata": {},
   "source": [
    "## exa 19-5 - Page 533"
   ]
  },
  {
   "cell_type": "code",
   "execution_count": 5,
   "metadata": {
    "collapsed": false
   },
   "outputs": [
    {
     "name": "stdout",
     "output_type": "stream",
     "text": [
      "R is 0.364 m    \n",
      "\n",
      "sigmax is 0.29 MPa    \n"
     ]
    }
   ],
   "source": [
    "from math import sqrt,pi\n",
    "U=(500*2*pi)+(3*pi*500/2)#\n",
    "Tm=U/(2*pi)#\n",
    "delU=2.25*pi*125/2#\n",
    "Ks=0.1#\n",
    "N=250#\n",
    "w=2*pi*N/60#\n",
    "I=delU/(Ks*w**2)#\n",
    "t=0.03#\n",
    "rho=7800#\n",
    "R=(I*2/(pi*rho*t))**(1/4)#\n",
    "V=R*w#\n",
    "v=0.3#\n",
    "sigmax=rho*V**2*(3+v)/8*10**-6#\n",
    "print \"R is %0.3f m    \"%(R)#\n",
    "print \"\\nsigmax is %0.2f MPa    \"%(sigmax)#\n",
    "  "
   ]
  },
  {
   "cell_type": "markdown",
   "metadata": {},
   "source": [
    "## exa 19-6 - Page 534"
   ]
  },
  {
   "cell_type": "code",
   "execution_count": 6,
   "metadata": {
    "collapsed": false
   },
   "outputs": [
    {
     "name": "stdout",
     "output_type": "stream",
     "text": [
      "t is 24.8 mm    \n",
      "\n",
      "b is 37.2 mm    \n"
     ]
    }
   ],
   "source": [
    "from math import sqrt,pi\n",
    "N=1.5*8*60#\n",
    "l=200#\n",
    "t=1.5/2#\n",
    "W=350*10**3#\n",
    "WD=0.15*l*W*10**-6#\n",
    "n=0.9# #since frictional effect is 10%, effciency of system is 90%\n",
    "Wi=WD/n#\n",
    "L=400#\n",
    "delU=(L-(0.15*l))/(L)*10**3*Wi#\n",
    "Ks=0.12#\n",
    "w=2*pi*N/60#\n",
    "I=delU/(Ks*w**2)#\n",
    "Ir=I*0.9#\n",
    "R=0.7#\n",
    "m=Ir/R**2#\n",
    "rho=7150#\n",
    "t=sqrt(m*10**6/(rho*2*pi*R*1.5))#\n",
    "b=1.5*t#\n",
    "print \"t is %0.1f mm    \"%(t)#\n",
    "print \"\\nb is %0.1f mm    \"%(b)#"
   ]
  },
  {
   "cell_type": "markdown",
   "metadata": {},
   "source": [
    "## exa 19-7 - Page 535"
   ]
  },
  {
   "cell_type": "code",
   "execution_count": 7,
   "metadata": {
    "collapsed": false
   },
   "outputs": [
    {
     "name": "stdout",
     "output_type": "stream",
     "text": [
      "t is 40 mm    \n",
      "\n",
      "b is 80 mm    \n",
      "\n",
      "R is 400 mm    \n"
     ]
    }
   ],
   "source": [
    "from math import sqrt,pi\n",
    "N=144#\n",
    "#Let n be no. of punches/ min\n",
    "n=8#\n",
    "#Let t be timr for 1 punch\n",
    "t=60/n#\n",
    "theta=N/60*2*pi*0.6#\n",
    "T=2.1#\n",
    "U=T*theta#\n",
    "#Let U1 be revolution of crankshaft in t sec\n",
    "U1=t*N/60*2*pi#\n",
    "delU=(U1-theta)/U1*U*10**3#\n",
    "w=2*pi*1440/60#\n",
    "Ks=0.1#\n",
    "I=delU/(Ks*w**2)#\n",
    "Ir=I*0.9#\n",
    "rho=7100#\n",
    "\n",
    "R=Ir/(rho*0.2*0.1*2*pi)#\n",
    "R=R**(1/5)#\n",
    "t=0.1*R*1000#\n",
    "b=0.2*R*10**3#\n",
    "t=40#\n",
    "b=80#\n",
    "R=400#\n",
    "# printing data in scilab o/p window\n",
    "print \"t is %0.0f mm    \"%(t)#\n",
    "print \"\\nb is %0.0f mm    \"%(b)#\n",
    "print \"\\nR is %0.0f mm    \"%(R)#"
   ]
  }
 ],
 "metadata": {
  "kernelspec": {
   "display_name": "Python 2",
   "language": "python",
   "name": "python2"
  },
  "language_info": {
   "codemirror_mode": {
    "name": "ipython",
    "version": 2
   },
   "file_extension": ".py",
   "mimetype": "text/x-python",
   "name": "python",
   "nbconvert_exporter": "python",
   "pygments_lexer": "ipython2",
   "version": "2.7.9"
  }
 },
 "nbformat": 4,
 "nbformat_minor": 0
}
