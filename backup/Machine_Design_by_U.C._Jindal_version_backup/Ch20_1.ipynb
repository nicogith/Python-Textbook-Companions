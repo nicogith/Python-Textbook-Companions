{
 "cells": [
  {
   "cell_type": "markdown",
   "metadata": {},
   "source": [
    "# Ch:20 Flat belt drive"
   ]
  },
  {
   "cell_type": "markdown",
   "metadata": {},
   "source": [
    "## exa 20-1 - Page 565"
   ]
  },
  {
   "cell_type": "code",
   "execution_count": 1,
   "metadata": {
    "collapsed": false
   },
   "outputs": [
    {
     "name": "stdout",
     "output_type": "stream",
     "text": [
      "T1 is 4167.4 N \n",
      "\n",
      "T2 is 1667.4 N \n",
      "\n",
      "t is 9.75 mm \n",
      "\n",
      "theta is 3.35 rad \n",
      "\n",
      "sigmax is 3.44 N/mm**2 \n",
      "\n",
      "sigmin is 0.855 N/mm**2 \n"
     ]
    }
   ],
   "source": [
    "from __future__ import division\n",
    "from math import sqrt, pi, asin, exp, degrees\n",
    "b=0.2#\n",
    "P=50*10**3#\n",
    "v=20#\n",
    "m=1.95#\n",
    "d=0.3#\n",
    "D=0.9#\n",
    "C=5.8#\n",
    "u=0.4#\n",
    "#Let density be rho\n",
    "rho=1000#\n",
    "E=40#\n",
    "#Let T1-T2 = T\n",
    "T=P/v#\n",
    "#Let the centrifugal tension be Tc\n",
    "Tc=m*v**2#\n",
    "alpha=degrees(asin((D+d)/(2*C)))#\n",
    "theta=180+(2*alpha)#\n",
    "theta=theta*pi/180#\n",
    "x = exp(u*theta)#\n",
    "T2=(((1-x)*Tc)-T)/(1-x)#\n",
    "#T1=T+T2#\n",
    "T1=T+T2#\n",
    "t=m/(b*rho)*10**3#\n",
    "#Let maximum stress be sigmax\n",
    "b=200#\n",
    "d=300#\n",
    "sigmax=(T1/(b*t)+((E*t)/d))#\n",
    "sigmin=(T2/(b*t))#\n",
    "print \"T1 is %0.1f N \"%(T1)#\n",
    "print \"\\nT2 is %0.1f N \"%(T2)#\n",
    "print \"\\nt is %0.2f mm \"%(t)\n",
    "print \"\\ntheta is %0.2f rad \"%(theta)\n",
    "print \"\\nsigmax is %0.2f N/mm**2 \"%(sigmax)#\n",
    "print \"\\nsigmin is %0.3f N/mm**2 \"%(sigmin)#\n",
    "#The answer for T1 is miscalculated in the book."
   ]
  },
  {
   "cell_type": "markdown",
   "metadata": {},
   "source": [
    "## exa 20-2 - Page 566"
   ]
  },
  {
   "cell_type": "code",
   "execution_count": 2,
   "metadata": {
    "collapsed": false
   },
   "outputs": [
    {
     "name": "stdout",
     "output_type": "stream",
     "text": [
      "b is 79.64 mm \n",
      "\n",
      "L is 5.10 m \n",
      "\n",
      "b1 is 79650.98 mm \n",
      "\n",
      "h1 is 0.6 mm \n",
      "\n",
      "h2 is 1.0 mm \n"
     ]
    }
   ],
   "source": [
    "from math import degrees,asin,pi,exp,sqrt\n",
    "P=12*10**3#\n",
    "d=0.2#\n",
    "D=0.5#\n",
    "C=2#\n",
    "sigmax=2*10**6#\n",
    "t=8*10**-3#\n",
    "#Let density be rho\n",
    "rho=950#\n",
    "u=0.38#\n",
    "N=1500#\n",
    "#Let angle of contact = thetad\n",
    "thetad=180-(2*degrees(asin((D-d)/(2*C))))#\n",
    "thetad=thetad*pi/180#\n",
    "thetaD=(2*pi)-thetad#\n",
    "v=(2*pi*N*d)/(60*2)#\n",
    "#Let T1-T2=T\n",
    "T=P/v#\n",
    "x=exp(u*thetad)#\n",
    "b=(T*x)/((1-x)*t*((rho*v**2)-(sigmax)))#\n",
    "b=b*10**3#\n",
    "#Let breadth of the pulley be b1\n",
    "b1=b*10**3+13# #Table 20-3\n",
    "L=sqrt((4*C**2)-(C*(D-d)**2))+((D*thetaD)+(d*thetad))/2#\n",
    "# Let pulley crown for d=h1, D=h2\n",
    "h1=0.6#  #Table 20-4\n",
    "h2=1#\n",
    "print \"b is %0.2f mm \"%(b)\n",
    "print \"\\nL is %0.2f m \"%(L)\n",
    "print \"\\nb1 is %0.2f mm \"%(b1)#\n",
    "print \"\\nh1 is %0.1f mm \"%(h1)#\n",
    "print \"\\nh2 is %0.1f mm \"%(h2)#\n",
    " "
   ]
  },
  {
   "cell_type": "markdown",
   "metadata": {},
   "source": [
    "## exa 20-3 - Page 567"
   ]
  },
  {
   "cell_type": "code",
   "execution_count": 3,
   "metadata": {
    "collapsed": false
   },
   "outputs": [
    {
     "name": "stdout",
     "output_type": "stream",
     "text": [
      "v is 15.08 m/s \n",
      "\n",
      "b is 97.364 mm \n",
      "\n",
      "L is 6.0733 m \n"
     ]
    }
   ],
   "source": [
    "from math import exp, degrees,asin,pi,sqrt\n",
    "P=11#\n",
    "N=1440#\n",
    "n=480#\n",
    "C=2.4#\n",
    "#Let power transmitte dfrom high speed belt =P1\n",
    "P1=0.0118#\n",
    "V=5#\n",
    "Ks=1.2#\n",
    "v=15#\n",
    "d=v*10**3*60/(2*pi*N)#\n",
    "d=0.2#\n",
    "D=N/n*d#\n",
    "#Let angle of contact =thetaA\n",
    "thetaA=180-(2*degrees(asin((D-d)/(2*C))))#\n",
    "thetaA=thetaA*pi/180#\n",
    "v=(2*pi*N*d)/(60*2)#\n",
    "#Let the arc of contact correction factor be Ka\n",
    "Ka=1.05#\n",
    "Pd=P*Ka*Ks#\n",
    "#Let corrected load rating=Pc\n",
    "Pc=P1*v/V#\n",
    "b=Pd/(Pc*4)#\n",
    "thetaB=(2*pi)-thetaA#\n",
    "L=sqrt((4*C**2)-((D-d)**2))+((d*thetaA/2)+(D*thetaB)/2)#\n",
    "\n",
    "print \"v is %0.2f m/s \"%(v)\n",
    "print \"\\nb is %0.3f mm \"%(b)\n",
    "print \"\\nL is %0.4f m \"%(L)#"
   ]
  },
  {
   "cell_type": "markdown",
   "metadata": {},
   "source": [
    "## exa 20-4 - Page 568"
   ]
  },
  {
   "cell_type": "code",
   "execution_count": 4,
   "metadata": {
    "collapsed": false
   },
   "outputs": [
    {
     "name": "stdout",
     "output_type": "stream",
     "text": [
      "V is 16.6 m/s \n",
      "\n",
      "b is 80 mm \n",
      "\n",
      "L is 8.404 m \n"
     ]
    }
   ],
   "source": [
    "from math import exp, degrees,asin,pi,sqrt\n",
    "N=1440#\n",
    "i=2.5#\n",
    "C=3600#\n",
    "#let load factor be LF\n",
    "LF=1.3#\n",
    "P=12*10**3#\n",
    "n=N/i#\n",
    "V=16#\n",
    "d=V*10**3*60/(2*pi*N)#\n",
    "d=220#\n",
    "D=d*i#\n",
    "V=2*pi*N*d/(2*60*1000)#\n",
    "v=5#\n",
    "#Let power transmitte dfrom high speed belt =P1\n",
    "P1=0.0118#\n",
    "#Let LR be the load rating of belt\n",
    "LR=P1/v*V#\n",
    "theta=180+(2*degrees(asin((D-d)/(2*C))))#\n",
    "theta=theta*pi/180#\n",
    "#Let Arc of contact connection factor be CF\n",
    "CF=1-(0.03/2)#\n",
    "Pd=P*LF*CF#\n",
    "b=Pd/(LR*5)#\n",
    "b=80#\n",
    "L=sqrt((4*C**2)-(D+d)**2)+(theta*(D+d)/2)#\n",
    "L=L*10**-3#\n",
    "print \"V is %0.1f m/s \"%(V)\n",
    "print \"\\nb is %0.0f mm \"%(b)\n",
    "print \"\\nL is %0.3f m \"%(L)#\n",
    "  "
   ]
  },
  {
   "cell_type": "markdown",
   "metadata": {},
   "source": [
    "## exa 20-5 - Page 569"
   ]
  },
  {
   "cell_type": "code",
   "execution_count": 5,
   "metadata": {
    "collapsed": false
   },
   "outputs": [
    {
     "name": "stdout",
     "output_type": "stream",
     "text": [
      "V is 16.59 m/s \n",
      "\n",
      "Pd is 197.77 KW \n",
      "\n",
      "P is 149.8 KW \n"
     ]
    }
   ],
   "source": [
    "from math import exp, degrees,asin,pi,sqrt\n",
    "i=3.6#\n",
    "N=1440#\n",
    "d=220#\n",
    "Ks=1.2#\n",
    "Kf=1.1#\n",
    "C=5000#\n",
    "u=0.8#\n",
    "D=i*d#\n",
    "#From table 20-7, the following data is available\n",
    "t=5#\n",
    "b=120#\n",
    "Fa=30.64#\n",
    "#let weight density be w\n",
    "w=0.106*10**5#\n",
    "Cp=0.71# #From table 20-6\n",
    "Cv=1#\n",
    "T1=Fa*b*t*Cp*Cv#\n",
    "m=w*b*t/10**6#\n",
    "V=2*pi*N*d/(2*60*1000)#\n",
    "Tc=m*V**2/9.81#\n",
    "theta=180+(2*degrees(asin((D-d)/(2*C))))#\n",
    "theta=theta*pi/180#\n",
    "x=u*theta#\n",
    "T2=Tc+((T1-Tc)/exp(x))#\n",
    "Pd=(T1-T2)*V*10**-3#\n",
    "P=Pd/(Ks*Kf)#\n",
    "print \"V is %0.2f m/s \"%(V)#\n",
    "print \"\\nPd is %0.2f KW \"%(Pd)#\n",
    "print \"\\nP is %0.1f KW \"%(P)#\n",
    "#The value of T2 is calculated incorrectly, therefore there is a difference in the values of Pd and P."
   ]
  },
  {
   "cell_type": "markdown",
   "metadata": {},
   "source": [
    "## exa 20-6 - Page 570"
   ]
  },
  {
   "cell_type": "code",
   "execution_count": 6,
   "metadata": {
    "collapsed": false
   },
   "outputs": [
    {
     "name": "stdout",
     "output_type": "stream",
     "text": [
      "V is 10.05 m/s \n",
      "\n",
      "b is 86.537 mm \n",
      "\n",
      "L is 10.049 m \n"
     ]
    }
   ],
   "source": [
    "from math import exp, degrees,asin,pi,sqrt\n",
    "i=2.5#\n",
    "C=4500#\n",
    "N=960#\n",
    "P=20*10**3#\n",
    "Ks=1.15#\n",
    "Kf=1.10#\n",
    "t=8#\n",
    "#let weight density be w\n",
    "w=0.110*10**5#\n",
    "m=w*t/10**6#\n",
    "Fa=8.75#\n",
    "d=200#\n",
    "D=i*d#\n",
    "u=0.4#\n",
    "V=2*pi*N*d/(2*60*1000)#\n",
    "Pd=P*Ks*Kf#\n",
    "Cp=1#\n",
    "Cv=0.6#\n",
    "#to find b\n",
    "T1=Fa*t*Cp*Cv#\n",
    "Tc=m*V**2/9.81#\n",
    "theta=180-(2*degrees(asin((D-d)/(2*C))))\n",
    "theta=theta*pi/180#\n",
    "x=u*theta#\n",
    "T2=Tc+((T1-Tc)/exp(x))#\n",
    "T=Pd/V#\n",
    "b=T/(T1-T2)#\n",
    "#b=90#\n",
    "L=sqrt((4*C**2)-(D+d)**2)+(theta*(D+d)/2)#\n",
    "L=L*10**-3#\n",
    "print \"V is %0.2f m/s \"%(V)\n",
    "print \"\\nb is %0.3f mm \"%(b)\n",
    "print \"\\nL is %0.3f m \"%(L)#\n",
    "  "
   ]
  },
  {
   "cell_type": "markdown",
   "metadata": {},
   "source": [
    "## exa 20-7 - Page 571"
   ]
  },
  {
   "cell_type": "code",
   "execution_count": 7,
   "metadata": {
    "collapsed": false
   },
   "outputs": [
    {
     "name": "stdout",
     "output_type": "stream",
     "text": [
      "Tc is 186 N \n",
      "\n",
      "T1 is 541.46 N \n",
      "\n",
      "T2 is 292.78 N \n",
      "\n",
      "Kf is 1.25  \n",
      "\n",
      "Pd is 4.5 KW \n"
     ]
    }
   ],
   "source": [
    "from math import exp, degrees,asin,pi,sqrt\n",
    "b=160#\n",
    "t=7#\n",
    "P=3*10**3#\n",
    "Ks=1.2#\n",
    "d=160#\n",
    "N=1440#\n",
    "D=480#\n",
    "C=2400#\n",
    "w=11200#\n",
    "u=0.4#\n",
    "Fa=7.2#\n",
    "m=w*b*t/10**6#\n",
    "V=2*pi*N*d/(2*60*1000)#\n",
    "Tc=m*V**2/9.81#\n",
    "Cp=0.6# #from table 20-6\n",
    "Cv=0.98# #from table 20-7\n",
    "Ta=Fa*b*Cp*Cv#\n",
    "T=P/V#\n",
    "theta=180-(2*degrees(asin((D-d)/(2*C))))\n",
    "theta=theta*pi/180#\n",
    "x=u*theta#\n",
    "#T2=Tc+((T1-Tc)/exp(x))#\n",
    "T2=(T+((exp(x)*Tc)-Tc))/(exp(x)-1)#\n",
    "T1=T+T2#\n",
    "Kf=Ta/T1#\n",
    "Pd=P*Ks*Kf#\n",
    "Pd=Pd*10**-3#\n",
    "print \"Tc is %0.0f N \"%(Tc)#\n",
    "print \"\\nT1 is %0.2f N \"%(T1)#\n",
    "print \"\\nT2 is %0.2f N \"%(T2)#\n",
    "print \"\\nKf is %0.2f  \"%(Kf)#\n",
    "print \"\\nPd is %0.1f KW \"%(Pd)#\n",
    "#The difference in values of T1 and T2 is due to rounding-off of values.\n",
    " "
   ]
  }
 ],
 "metadata": {
  "kernelspec": {
   "display_name": "Python 2",
   "language": "python",
   "name": "python2"
  },
  "language_info": {
   "codemirror_mode": {
    "name": "ipython",
    "version": 2
   },
   "file_extension": ".py",
   "mimetype": "text/x-python",
   "name": "python",
   "nbconvert_exporter": "python",
   "pygments_lexer": "ipython2",
   "version": "2.7.9"
  }
 },
 "nbformat": 4,
 "nbformat_minor": 0
}
