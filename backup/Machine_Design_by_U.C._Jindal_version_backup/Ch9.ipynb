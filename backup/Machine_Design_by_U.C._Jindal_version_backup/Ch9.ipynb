{
 "metadata": {
  "name": "",
  "signature": "sha256:4885451d1eb84f1c7ede3570bb9a4c180b0235da374d3be406dcc799b426e236"
 },
 "nbformat": 3,
 "nbformat_minor": 0,
 "worksheets": [
  {
   "cells": [
    {
     "cell_type": "heading",
     "level": 1,
     "metadata": {},
     "source": [
      "Ch:9 Threaded Fasteners"
     ]
    },
    {
     "cell_type": "heading",
     "level": 2,
     "metadata": {},
     "source": [
      "exa 9-1 - Page 266"
     ]
    },
    {
     "cell_type": "code",
     "collapsed": false,
     "input": [
      "from math import pi\n",
      "p1=2#\n",
      "d=16#\n",
      "dt1=d-(0.93825*p1)#\n",
      "At1=pi*dt1**2/4#\n",
      "p2=1.5#\n",
      "d=16#\n",
      "dt2=d-(0.93825*p2)#\n",
      "At2=pi*dt2**2/4#\n",
      "\n",
      "print \" At1 is %0.1f mm**2     \"%(At1)#\n",
      "print \"\\n At2 is %0.1f mm**2     \"%(At2)#"
     ],
     "language": "python",
     "metadata": {},
     "outputs": [
      {
       "output_type": "stream",
       "stream": "stdout",
       "text": [
        " At1 is 156.7 mm**2     \n",
        "\n",
        " At2 is 167.2 mm**2     \n"
       ]
      }
     ],
     "prompt_number": 2
    },
    {
     "cell_type": "heading",
     "level": 2,
     "metadata": {},
     "source": [
      "exa 9-2 - Page 266"
     ]
    },
    {
     "cell_type": "code",
     "collapsed": false,
     "input": [
      "W=20*10**3#\n",
      "n=4#\n",
      "#Let the load on each bolt be W1\n",
      "W1=W/n#\n",
      "At=W1/80#\n",
      "\n",
      "print \"At is %0.1f mm**2     \"%(At)#"
     ],
     "language": "python",
     "metadata": {},
     "outputs": [
      {
       "output_type": "stream",
       "stream": "stdout",
       "text": [
        "At is 62.0 mm**2     \n"
       ]
      }
     ],
     "prompt_number": 3
    },
    {
     "cell_type": "heading",
     "level": 2,
     "metadata": {},
     "source": [
      "exa 9-3 - Page 267"
     ]
    },
    {
     "cell_type": "code",
     "collapsed": false,
     "input": [
      "from math import atan, tan, cos\n",
      "d=18#\n",
      "p=2.5#\n",
      "dr=d-(1.2268*p)#\n",
      "dm=(d+dr)/2#\n",
      "alpha=atan(p/(pi*dm))#\n",
      "theta=pi*30/180#\n",
      "u1=0.15#\n",
      "u2=0.13#\n",
      "x=(tan(alpha)+(u1/cos(theta)))/(1-(tan(alpha)*u1/cos(theta)))#\n",
      "K=dm*x/(2*d)+(0.625*u2)#\n",
      "print \"K is %0.5f      \"%(K)#"
     ],
     "language": "python",
     "metadata": {},
     "outputs": [
      {
       "output_type": "stream",
       "stream": "stdout",
       "text": [
        "K is 0.18343      \n"
       ]
      }
     ],
     "prompt_number": 4
    },
    {
     "cell_type": "heading",
     "level": 2,
     "metadata": {},
     "source": [
      "exa 9-4 - Page 267"
     ]
    },
    {
     "cell_type": "code",
     "collapsed": false,
     "input": [
      "from math import log\n",
      "d=20#\n",
      "t=4#\n",
      "Lg=84#\n",
      "Ad=pi*d**2/4#\n",
      "Eb=205*10**3#\n",
      "Ed=105*10**3#\n",
      "kb=Ad*Eb/Lg#\n",
      "lg=80#\n",
      "x=5*(lg+(0.5*d))/(lg+(2.5*d))#\n",
      "kp=pi*Ed*d/(2*log(x))#\n",
      "At=245#\n",
      "sigb=105#\n",
      "Pe=20*10**3#\n",
      "Pb=Pe*kb/(kb+kp)#\n",
      "sigad=Pb/At#\n",
      "finalst=sigb+sigad#\n",
      "\n",
      "print \"final stress is %0.2f N/mm**2      \"%(finalst)#"
     ],
     "language": "python",
     "metadata": {},
     "outputs": [
      {
       "output_type": "stream",
       "stream": "stdout",
       "text": [
        "final stress is 123.28 N/mm**2      \n"
       ]
      }
     ],
     "prompt_number": 5
    },
    {
     "cell_type": "heading",
     "level": 2,
     "metadata": {},
     "source": [
      "exa 9-5 - Page 268"
     ]
    },
    {
     "cell_type": "code",
     "collapsed": false,
     "input": [
      "Eb=207*10**3#\n",
      "Ec=105*10**3#\n",
      "sigp=650#\n",
      "At=115#\n",
      "Pi=0.75*sigp*At#\n",
      "F=sigp*At#\n",
      "#Let the additional load Fadd\n",
      "Padd=F-Pi#\n",
      "d=14#\n",
      "Ad=pi*d**2/4#\n",
      "Lg=63#\n",
      "kb=Ad*Eb/Lg#\n",
      "lg=60#\n",
      "x=5*(lg+(0.5*d))/(lg+(2.5*d))#\n",
      "km=pi*Ec*d/(2*log(x))#\n",
      "C=kb/(kb+km)#\n",
      "Pe=Padd/C#\n",
      "K=0.2#\n",
      "Ti=Pi*K*d*10**-3#\n",
      "\n",
      "print \"Ti is %0.2f Nm      \"%(Ti)#"
     ],
     "language": "python",
     "metadata": {},
     "outputs": [
      {
       "output_type": "stream",
       "stream": "stdout",
       "text": [
        "Ti is 156.97 Nm      \n"
       ]
      }
     ],
     "prompt_number": 6
    },
    {
     "cell_type": "heading",
     "level": 2,
     "metadata": {},
     "source": [
      "exa 9-6 - Page 269"
     ]
    },
    {
     "cell_type": "code",
     "collapsed": false,
     "input": [
      "d=20#\n",
      "sigp=600#\n",
      "At=245#\n",
      "Pi=120*10**3#\n",
      "Pe=30*10**3#\n",
      "C=0.35#\n",
      "Pb=C*Pe#\n",
      "P=Pi+Pb#\n",
      "sigi=Pi/At#\n",
      "sigf=P/At#\n",
      "K=0.18#\n",
      "T=K*d*Pi*10**-3#\n",
      "E1=sigi/sigp#\n",
      "E2=sigf/sigp#\n",
      "\n",
      "print \" sigi is %0.1f MPa     \"%(sigi)#\n",
      "print \"\\n sigi is %0.2f MPa     \"%(sigf)#\n",
      "print \"\\n T is %0.0f Nm     \"%(T)#\n",
      "print \"\\n E1 is %0.3f      \"%(E1)#\n",
      "print \"\\n E2 is %0.3f      \"%(E2)#\n",
      "  \n",
      "  #Value upto tenthth place is considered in the book for value of final stress in bolt, 'sigf'"
     ],
     "language": "python",
     "metadata": {},
     "outputs": [
      {
       "output_type": "stream",
       "stream": "stdout",
       "text": [
        " sigi is 489.0 MPa     \n",
        "\n",
        " sigi is 532.65 MPa     \n",
        "\n",
        " T is 432 Nm     \n",
        "\n",
        " E1 is 0.000      \n",
        "\n",
        " E2 is 0.888      \n"
       ]
      }
     ],
     "prompt_number": 7
    },
    {
     "cell_type": "heading",
     "level": 2,
     "metadata": {},
     "source": [
      "exa 9-7 - Page 269"
     ]
    },
    {
     "cell_type": "code",
     "collapsed": false,
     "input": [
      "from math import sqrt\n",
      "p=2#\n",
      "d=16#\n",
      "dt=d-(0.938*p)#\n",
      "At=pi*dt**2/4#\n",
      "r=60*sqrt(2)#\n",
      "Td=1/(4*At)#\n",
      "Ta=120#\n",
      "T=8.722*10**-3#\n",
      "P=Ta/T*10**-3#\n",
      "\n",
      "print \"P is %0.3f kN      \"%(P)#\n",
      "  \n",
      "  #Value upto hundredth place is considered in the book for value of permissible load, 'P'"
     ],
     "language": "python",
     "metadata": {},
     "outputs": [
      {
       "output_type": "stream",
       "stream": "stdout",
       "text": [
        "P is 13.758 kN      \n"
       ]
      }
     ],
     "prompt_number": 8
    },
    {
     "cell_type": "heading",
     "level": 2,
     "metadata": {},
     "source": [
      "exa 9-8 - Page 270"
     ]
    },
    {
     "cell_type": "code",
     "collapsed": false,
     "input": [
      "sigyp=460#\n",
      "FOS=2#\n",
      "Ts=0.577*sigyp/FOS#\n",
      "At=245#\n",
      "r=100#\n",
      "P=Ts*At/1.453*10**-3#\n",
      "print \"The eccentric load is %f N       \"%(P)\n",
      "print \"P is %0.3f kN      \"%(P)#\n",
      "#Value of thousandth place of eccentric load, 'P' is misprinted in the book. "
     ],
     "language": "python",
     "metadata": {},
     "outputs": [
      {
       "output_type": "stream",
       "stream": "stdout",
       "text": [
        "The eccentric load is 22.377116 N       \n",
        "P is 22.377 kN      \n"
       ]
      }
     ],
     "prompt_number": 9
    }
   ],
   "metadata": {}
  }
 ]
}