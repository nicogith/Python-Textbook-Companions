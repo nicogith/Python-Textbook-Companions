{
 "cells": [
  {
   "cell_type": "markdown",
   "metadata": {},
   "source": [
    "# Ch:4 Manufacturing considerations"
   ]
  },
  {
   "cell_type": "markdown",
   "metadata": {},
   "source": [
    "## exa 4-1 - Page 112"
   ]
  },
  {
   "cell_type": "code",
   "execution_count": 1,
   "metadata": {
    "collapsed": false
   },
   "outputs": [
    {
     "name": "stdout",
     "output_type": "stream",
     "text": [
      " LLH is 70.0 mm \n",
      "\n",
      " ULH is 70.013 mm \n",
      "\n",
      " ULS is 69.99 mm \n",
      "\n",
      " LLS is 69.98 mm \n",
      "\n",
      " Cmax is 0.031 mm \n",
      "\n",
      " Cmin is 0.010 mm \n"
     ]
    }
   ],
   "source": [
    "from math import sqrt\n",
    "d=70#\n",
    "dmin=50#\n",
    "dmax=80#\n",
    "D=sqrt(dmin*dmax)#\n",
    "D=63#\n",
    "i=0.458*(D**(1/3))+(0.001*D)#\n",
    "\n",
    "#standard tolerance for H8 is ST1\n",
    "ST1=25*i#\n",
    "ST1=ST1*10**-3#\n",
    "#standard tolerance of shaft for grade g7 is ST2\n",
    "ST2=16*i#\n",
    "ST2=ST2*10**-3#\n",
    "es=-(2.5*(D**0.333))#\n",
    "es=es*10**-3#\n",
    "ei=es-ST2#\n",
    "#Lower limit for hole is LLH\n",
    "#Upper limit for hole is ULH\n",
    "#Upper limit for shaft is ULS\n",
    "#Lower limit for shaft is LLS\n",
    "LLH=d#\n",
    "ULH=LLH+ST1#\n",
    "ULS=LLH+es#\n",
    "LLS=ULS-ST2#\n",
    "#Maximum clearance is Cmax\n",
    "#minimum clearance is Cmin\n",
    "Cmax=ULH-LLS#\n",
    "Cmin=LLH-ULS#\n",
    "# printing data in scilab o/p window\n",
    "print \" LLH is %0.1f mm \"%(LLH)#\n",
    "print \"\\n ULH is %0.3f mm \"%(ULH)#\n",
    "print \"\\n ULS is %0.2f mm \"%(ULS)#\n",
    "print \"\\n LLS is %0.2f mm \"%(LLS)#\n",
    "print \"\\n Cmax is %0.3f mm \"%(Cmax)#\n",
    "print \"\\n Cmin is %0.3f mm \"%(Cmin)#"
   ]
  },
  {
   "cell_type": "markdown",
   "metadata": {},
   "source": [
    "## exa 4-2 - Page 112"
   ]
  },
  {
   "cell_type": "code",
   "execution_count": 2,
   "metadata": {
    "collapsed": false
   },
   "outputs": [
    {
     "name": "stdout",
     "output_type": "stream",
     "text": [
      "Cmax is 0.041 mm \n",
      "\n",
      "Cmin is 0.007 mm \n"
     ]
    }
   ],
   "source": [
    "d=25#\n",
    "#Lower limit for hole is LLH\n",
    "#Upper limit for hole is ULH\n",
    "#Upper limit for shaft is ULS\n",
    "#Lower limit for shaft is LLS\n",
    "ULH=d+0.021#\n",
    "LLH=d+0#\n",
    "ULS=d+0.041#\n",
    "LLS=d+0.028#\n",
    "#Maximum interference is Cmax\n",
    "#minimum interference is Cmin\n",
    "Cmax=ULS-LLH#\n",
    "Cmin=LLS-ULH#\n",
    "# printing data in scilab o/p window\n",
    "print \"Cmax is %0.3f mm \"%(Cmax)#\n",
    "print \"\\nCmin is %0.3f mm \"%(Cmin)#"
   ]
  },
  {
   "cell_type": "markdown",
   "metadata": {},
   "source": [
    "## exa 4-3 - Page 113"
   ]
  },
  {
   "cell_type": "code",
   "execution_count": 3,
   "metadata": {
    "collapsed": false
   },
   "outputs": [
    {
     "name": "stdout",
     "output_type": "stream",
     "text": [
      " ULH is 50.039 mm \n",
      "\n",
      " LLH is 50.000 mm \n",
      "\n",
      " ULS is 49.991 mm \n",
      "\n",
      " LLS is 49.966 mm \n",
      "\n",
      " Cmax is 0.073 mm \n",
      "\n",
      " Cmin is 0.009 mm \n",
      " Therefore, H8g7 is easy running fit\n"
     ]
    }
   ],
   "source": [
    "d=50#\n",
    "Es=0.039#\n",
    "Ei=0#\n",
    "es=-9*10**-3#\n",
    "ei=-34*10**-3#\n",
    "#Shaft dia is D\n",
    "D=d+es#\n",
    "#Lower limit for hole is LLH\n",
    "#Upper limit for hole is ULH\n",
    "#Upper limit for shaft is ULS\n",
    "#Lower limit for shaft is LLS\n",
    "ULH=d+Es#\n",
    "LLH=d+Ei#\n",
    "ULS=d+es#\n",
    "LLS=d+ei#\n",
    "#Maximum interference is Cmax\n",
    "#minimum interference is Cmin\n",
    "Cmax=ULH-LLS#\n",
    "Cmin=LLH-ULS#\n",
    "  # printing data in scilab o/p window\n",
    "print \" ULH is %0.3f mm \"%(ULH)#\n",
    "print \"\\n LLH is %0.3f mm \"%(LLH)#\n",
    "print \"\\n ULS is %0.3f mm \"%(ULS)#\n",
    "print \"\\n LLS is %0.3f mm \"%(LLS)#\n",
    "print \"\\n Cmax is %0.3f mm \"%(Cmax)#\n",
    "print \"\\n Cmin is %0.3f mm \"%(Cmin)#\n",
    "print ' Therefore, H8g7 is easy running fit'"
   ]
  },
  {
   "cell_type": "markdown",
   "metadata": {},
   "source": [
    "## exa 4-3 - Page 114"
   ]
  },
  {
   "cell_type": "code",
   "execution_count": 4,
   "metadata": {
    "collapsed": false
   },
   "outputs": [
    {
     "name": "stdout",
     "output_type": "stream",
     "text": [
      " ULH is 30.025 mm \n",
      "\n",
      " LLH is 30.000 mm \n",
      "\n",
      " ULS is 30.011 mm \n",
      "\n",
      " LLS is 29.995 mm \n",
      "\n",
      " Cmax is 0.030 mm \n",
      "\n",
      " Cmin is 0.011 mm \n"
     ]
    }
   ],
   "source": [
    "d=30#\n",
    "Es=0.025#\n",
    "Ei=0#\n",
    "es=11*10**-3#\n",
    "ei=-5*10**-3#\n",
    "#Shaft dia is D\n",
    "D=d+es#\n",
    "#Lower limit for hole is LLH\n",
    "#Upper limit for hole is ULH\n",
    "#Upper limit for shaft is ULS\n",
    "#Lower limit for shaft is LLS\n",
    "ULH=d+Es#\n",
    "LLH=d+Ei#\n",
    "ULS=d+es#\n",
    "LLS=d+ei#\n",
    "#Maximum interference is Cmax\n",
    "#minimum interference is Cmin\n",
    "Cmax=ULH-LLS#\n",
    "Cmin=ULS-LLH##\n",
    "\n",
    "  # printing data in scilab o/p window\n",
    "print \" ULH is %0.3f mm \"%(ULH)#\n",
    "print \"\\n LLH is %0.3f mm \"%(LLH)#\n",
    "print \"\\n ULS is %0.3f mm \"%(ULS)#\n",
    "print \"\\n LLS is %0.3f mm \"%(LLS)#\n",
    "print \"\\n Cmax is %0.3f mm \"%(Cmax)#\n",
    "print \"\\n Cmin is %0.3f mm \"%(Cmin)#"
   ]
  }
 ],
 "metadata": {
  "kernelspec": {
   "display_name": "Python 2",
   "language": "python",
   "name": "python2"
  },
  "language_info": {
   "codemirror_mode": {
    "name": "ipython",
    "version": 2
   },
   "file_extension": ".py",
   "mimetype": "text/x-python",
   "name": "python",
   "nbconvert_exporter": "python",
   "pygments_lexer": "ipython2",
   "version": "2.7.9"
  }
 },
 "nbformat": 4,
 "nbformat_minor": 0
}
