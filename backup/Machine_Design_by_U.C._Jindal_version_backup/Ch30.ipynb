{
 "metadata": {
  "name": "",
  "signature": "sha256:55c40faafb847932f0fdcda855b3af16f1a2e4ef45941baaf0d7ee692a22c20c"
 },
 "nbformat": 3,
 "nbformat_minor": 0,
 "worksheets": [
  {
   "cells": [
    {
     "cell_type": "heading",
     "level": 1,
     "metadata": {},
     "source": [
      "Ch:30 Chain drive"
     ]
    },
    {
     "cell_type": "heading",
     "level": 2,
     "metadata": {},
     "source": [
      "exa 30-1 - Page 778"
     ]
    },
    {
     "cell_type": "code",
     "collapsed": false,
     "input": [
      "from __future__ import division\n",
      "from math import sqrt, pi\n",
      "n1=17#\n",
      "n2=51#\n",
      "C=300#\n",
      "p=9.52#\n",
      "Ln=(2*C/p)+((n1+n2)/2)+((((n2-n1)/(2*pi))**2)*(p/C))#\n",
      "x=(Ln-((n2+n1)/(2)))**2#\n",
      "y=8*(((n2-n1)/(2*pi))**2)#\n",
      "z=Ln-((n1+n2)/2)#\n",
      "C=(p/4)*(z+(sqrt(x-y)))\n",
      "\n",
      "\n",
      "  # printing data in scilab o/p window\n",
      "print \"C is %0.2f mm \"%(C)#\n",
      "  "
     ],
     "language": "python",
     "metadata": {},
     "outputs": [
      {
       "output_type": "stream",
       "stream": "stdout",
       "text": [
        "C is 300.00 mm \n"
       ]
      }
     ],
     "prompt_number": 1
    },
    {
     "cell_type": "heading",
     "level": 2,
     "metadata": {},
     "source": [
      "exa 30-2 - Page 778"
     ]
    },
    {
     "cell_type": "code",
     "collapsed": false,
     "input": [
      "from math import tan\n",
      "G=4#\n",
      "n1=17#\n",
      "n2=n1*G#\n",
      "N1=2300#\n",
      "Kc=1.2# #from table 30-2\n",
      "p=12.7# #fom table 30-1\n",
      "D1=p*n1#\n",
      "D2=p*n2#\n",
      "phi=2*10.6#\n",
      "x=tan(phi/2)# #phi/2 = 10.6deg, from table 30-3\n",
      "Da1=(p/x)+(0.6*p)#\n",
      "Da2=(p/x*4)+(0.6*p)#\n",
      "Cmin=Kc*((Da1+Da2)/2)#\n",
      "Ln1=(2*Cmin/p)+((n1+n2)/2)+((((n2-n1)/(2*pi))**2)*(p/Cmin))#\n",
      "Ln1=80#\n",
      "print \"Ln is %0.0f  \"%(Ln1)#"
     ],
     "language": "python",
     "metadata": {},
     "outputs": [
      {
       "output_type": "stream",
       "stream": "stdout",
       "text": [
        "Ln is 80  \n"
       ]
      }
     ],
     "prompt_number": 2
    },
    {
     "cell_type": "heading",
     "level": 2,
     "metadata": {},
     "source": [
      "exa 30-3 - Page 779"
     ]
    },
    {
     "cell_type": "code",
     "collapsed": false,
     "input": [
      "N1=1000#\n",
      "N2=500#\n",
      "P=2.03*10**3# #from table 30-8\n",
      "K1=1.26#\n",
      "Ks=1#\n",
      "#let Pc be the power transmitting capacity of the chain\n",
      "Pc=P*K1/Ks#\n",
      "p=9.52#\n",
      "n1=21#\n",
      "n2=42#\n",
      "V=n1*p*N1/(60*10**3)#\n",
      "#Let the chain tension be T\n",
      "T=Pc/V#\n",
      "#Let the breaking load be BL\n",
      "BL=10700#\n",
      "FOS=BL/T#\n",
      "C=50*p#\n",
      "Ln=(2*C/p)+((n1+n2)/2)+((((n2-n1)/(2*pi))**2)*(p/C))#\n",
      "L=Ln*p#\n",
      "Pc=Pc*10**-3#\n",
      "print \" Pc is %0.2f KW  \"%(Pc)#\n",
      "print \"\\n V is %0.3f m/s  \"%(V)#\n",
      "print \"\\n T is %0.1f N  \"%(T)#\n",
      "print \"\\n FOS is %0.2f   \"%(FOS)#\n",
      "print \"\\n L is %0.2f mm  \"%(L)#\n",
      "\n",
      "#The difference in the value of L and T is due to rounding-off the values."
     ],
     "language": "python",
     "metadata": {},
     "outputs": [
      {
       "output_type": "stream",
       "stream": "stdout",
       "text": [
        " Pc is 2.56 KW  \n",
        "\n",
        " V is 3.332 m/s  \n",
        "\n",
        " T is 767.6 N  \n",
        "\n",
        " FOS is 13.94   \n",
        "\n",
        " L is 1254.01 mm  \n"
       ]
      }
     ],
     "prompt_number": 3
    },
    {
     "cell_type": "heading",
     "level": 2,
     "metadata": {},
     "source": [
      "exa 30-5 - Page 780"
     ]
    },
    {
     "cell_type": "code",
     "collapsed": false,
     "input": [
      "G=2#\n",
      "P=5000#\n",
      "Ks=1.7#\n",
      "Pd=P*Ks#\n",
      "K2=1.7#\n",
      "p=15.88#\n",
      "n1=17#\n",
      "n2=n1*G#\n",
      "D1=n1*p#\n",
      "D2=n2*p#\n",
      "C=40*p#\n",
      "Ln=(2*C/p)+((n1+n2)/2)+((((n2-n1)/(2*pi))**2)*(p/C))#\n",
      "L=Ln*p#\n",
      "print \"L is %0.2f mm  \"%(L)#\n",
      "#The difference in the value of L is due to rounding-off the values."
     ],
     "language": "python",
     "metadata": {},
     "outputs": [
      {
       "output_type": "stream",
       "stream": "stdout",
       "text": [
        "L is 1678.25 mm  \n"
       ]
      }
     ],
     "prompt_number": 4
    }
   ],
   "metadata": {}
  }
 ]
}