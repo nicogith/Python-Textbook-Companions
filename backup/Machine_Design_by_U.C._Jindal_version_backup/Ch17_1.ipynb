{
 "cells": [
  {
   "cell_type": "markdown",
   "metadata": {},
   "source": [
    "# Ch:17 Sliding contact bearings"
   ]
  },
  {
   "cell_type": "markdown",
   "metadata": {},
   "source": [
    "## exa 17-1 - Page 482"
   ]
  },
  {
   "cell_type": "code",
   "execution_count": 1,
   "metadata": {
    "collapsed": false
   },
   "outputs": [
    {
     "name": "stdout",
     "output_type": "stream",
     "text": [
      " Tav is 47.29 degC \n",
      "\n",
      " delT is 7.3 degC \n"
     ]
    }
   ],
   "source": [
    "from __future__ import division\n",
    "from math import pi, sqrt\n",
    "Ta=22#\n",
    "u=7/10**9#\n",
    "nj=20#\n",
    "r=25#\n",
    "l=2*r#\n",
    "Ao=30000#\n",
    "Uo=15.3/10**3#\n",
    "c=0.025#\n",
    "#specific weight of the material is rho\n",
    "rho=8.46*(10**-6)#\n",
    "Cp=179.8#\n",
    "Tf=Ta+(16*pi**3*u*nj**2*l*r**3/(Uo*Ao*c))#\n",
    "# avg mean film temperature is Tav\n",
    "Tav=(Tf-Ta)/2#\n",
    "x= l*c*rho*pi*r*nj*Cp*10**3#\n",
    "y=Ao*Tav*Uo#\n",
    "delT=y/x#\n",
    "print \" Tav is %0.2f degC \"%(Tav)#\n",
    "print \"\\n delT is %0.1f degC \"%(delT)#"
   ]
  },
  {
   "cell_type": "markdown",
   "metadata": {},
   "source": [
    "## exa 17-2 - Page 482"
   ]
  },
  {
   "cell_type": "code",
   "execution_count": 2,
   "metadata": {
    "collapsed": false
   },
   "outputs": [
    {
     "name": "stdout",
     "output_type": "stream",
     "text": [
      "u is 6.293 cP \n"
     ]
    }
   ],
   "source": [
    "l=60#\n",
    "d=60#\n",
    "r=d/2#\n",
    "ho=0.008#\n",
    "c=0.04#\n",
    "S=0.0446#\n",
    "nj=1260/60#\n",
    "W=6000#\n",
    "p=W/(l*d)#\n",
    "u=S*(c/r)**2*p/nj#\n",
    "u=u*10**9#\n",
    "print \"u is %0.3f cP \"%(u)#"
   ]
  },
  {
   "cell_type": "markdown",
   "metadata": {},
   "source": [
    "## exa 17-3 - Page 483"
   ]
  },
  {
   "cell_type": "code",
   "execution_count": 3,
   "metadata": {
    "collapsed": false
   },
   "outputs": [
    {
     "name": "stdout",
     "output_type": "stream",
     "text": [
      " u is 3.469 cP \n",
      "\n",
      " Q is 0.2874 lpm \n"
     ]
    }
   ],
   "source": [
    "d=60#\n",
    "r=30#\n",
    "l=60#\n",
    "c=0.8*10**-3*r#\n",
    "ho=0.2*c#\n",
    "W=21000/2#\n",
    "p=W/(l*d)#\n",
    "S=0.0446#\n",
    "nj=1440/60#\n",
    "u=S*(c/r)**2*p/nj#\n",
    "u=u*10**9#\n",
    "# since Q/(r*nj*l)=4.62\n",
    "Q=4.62*r*c*nj*l#\n",
    "Q=Q*60/10**6#\n",
    "print \" u is %0.3f cP \"%(u)#\n",
    "print \"\\n Q is %0.4f lpm \"%(Q)#"
   ]
  },
  {
   "cell_type": "markdown",
   "metadata": {},
   "source": [
    "## exa 17-4 - Page 483"
   ]
  },
  {
   "cell_type": "code",
   "execution_count": 4,
   "metadata": {
    "collapsed": false
   },
   "outputs": [
    {
     "name": "stdout",
     "output_type": "stream",
     "text": [
      " f is 0.00985  \n",
      "\n",
      " ho is 0.032 mm \n",
      "\n",
      " Q is 0.638 lpm \n",
      "\n",
      " delT is 8.3 degC \n",
      "\n",
      " Pf is 0.1337 KW \n"
     ]
    }
   ],
   "source": [
    "from numpy import mat,pi,sqrt\n",
    "l=60#\n",
    "d=60#\n",
    "r=d/2#\n",
    "W=3000#\n",
    "p=W/(l*d)#\n",
    "u=30*10**-9#\n",
    "c=0.06#\n",
    "nj=1440/60#\n",
    "S=(r/c)**2*u*nj/p#\n",
    "#For ratio l/d=1, values of different parameters are given in matrix A corresponding to S\n",
    "A=mat([[0,0,0,0,0,0],[0,1, 0.264, 0.6, 5.79, 3.99],[0,1, 0.121, 0.4 ,3.22, 4.33]])#\n",
    "#let ho/c=x\n",
    "x=(A[1,3])-((A[1,3]-(A[2,3]))*((A[1,2])-S)/((A[1,2])-(A[2,2])))#\n",
    "#let y= (r/c)*f=CFV\n",
    "y=(A[1,4])-(A[1,4]-(A[2,4]))*((A[1,2])-S)/((A[1,2])-(A[2,2]))#\n",
    "#let z=Q/(r*c*nj*l)=FV\n",
    "z=(A[1,5])-((A[1,5]-(A[2,5]))*((A[1,2])-S)/((A[1,2])-(A[2,2])))#\n",
    "f=y*c/r#\n",
    "ho=x*c#\n",
    "Q=z*r*c*nj*l#\n",
    "Q=Q*60/10**6#\n",
    "delT=8.3*p*y/z#\n",
    "#let power lost in friction be Pf\n",
    "Pf=2*pi*nj*f*W*r/10**6#\n",
    "print \" f is %0.5f  \"%(f)#\n",
    "print \"\\n ho is %0.3f mm \"%(ho)#\n",
    "print \"\\n Q is %0.3f lpm \"%(Q)#\n",
    "print \"\\n delT is %0.1f degC \"%(delT)#\n",
    "print \"\\n Pf is %0.4f KW \"%(Pf)#"
   ]
  },
  {
   "cell_type": "markdown",
   "metadata": {},
   "source": [
    "## exa 17-5 - Page 484"
   ]
  },
  {
   "cell_type": "code",
   "execution_count": 5,
   "metadata": {
    "collapsed": false
   },
   "outputs": [
    {
     "name": "stdout",
     "output_type": "stream",
     "text": [
      " d is 96 mm \n",
      "\n",
      " l is 96 mm \n",
      "\n",
      " ho is 0.0166 mm \n",
      "\n",
      " Q is 1.701 lpm \n"
     ]
    }
   ],
   "source": [
    "from math import sqrt, pi\n",
    "W=22000#\n",
    "nj=960/60#\n",
    "p=2.4#\n",
    "u=20*10**-9#\n",
    "d=sqrt(W/p)#\n",
    "d=96#\n",
    "r=d/2#\n",
    "l=d#\n",
    "S=0.0446#\n",
    "pact=W/(l*d)#\n",
    "#x=r/c#\n",
    "x=sqrt(S*pact/(u*nj))#\n",
    "c=r/x#\n",
    "ho=0.2*c#\n",
    "Q=r*c*nj*l*4.62#\n",
    "Q=Q*60/10**6#\n",
    "print \" d is %0.0f mm \"%(d)#\n",
    "print \"\\n l is %0.0f mm \"%(l)#\n",
    "print \"\\n ho is %0.4f mm \"%(ho)#\n",
    "print \"\\n Q is %0.3f lpm \"%(Q)#\n",
    "#The difference in answer to Q is due to rounding -off the value of c."
   ]
  },
  {
   "cell_type": "markdown",
   "metadata": {},
   "source": [
    "## exa 17-6 - Page 485"
   ]
  },
  {
   "cell_type": "code",
   "execution_count": 6,
   "metadata": {
    "collapsed": false
   },
   "outputs": [
    {
     "name": "stdout",
     "output_type": "stream",
     "text": [
      " pi is 3.946 MPa \n",
      "\n",
      " Q is 25.52 lpm \n"
     ]
    }
   ],
   "source": [
    "from math import log,pi\n",
    "W=400*10**3#\n",
    "Ro=200#\n",
    "Ri=160#\n",
    "ho=0.1#\n",
    "t=150#\n",
    "# specific gravity is rho\n",
    "rho=0.86#\n",
    "pi=2*W*log(Ro/Ri)/(pi*(Ro**2-Ri**2))#\n",
    "zk=(0.22*t)-(180/t)#\n",
    "z=rho*zk#\n",
    "u=z/(10**9)#\n",
    "Q=pi*pi*ho**3/(6*u*log(Ro/Ri))#\n",
    "Q=Q*60/10**6#\n",
    "print \" pi is %0.3f MPa \"%(pi)#\n",
    "print \"\\n Q is %0.2f lpm \"%(Q)#\n",
    "  \n",
    "#The difference in answer to Q is due to rounding -off of values."
   ]
  },
  {
   "cell_type": "markdown",
   "metadata": {},
   "source": [
    "## exa 17-7 - Page 486"
   ]
  },
  {
   "cell_type": "code",
   "execution_count": 7,
   "metadata": {
    "collapsed": false
   },
   "outputs": [
    {
     "name": "stdout",
     "output_type": "stream",
     "text": [
      "pi is 4.44 MPa \n",
      "\n",
      "Q is 19.629 lpm \n"
     ]
    }
   ],
   "source": [
    "from math import log, pi\n",
    "#let number of pads be n\n",
    "n=4#\n",
    "W=100*10**3#\n",
    "Ro=125#\n",
    "Ri=50#\n",
    "t=200#\n",
    "ho=0.15#\n",
    "pi=2*W*log(Ro/Ri)/(pi*(Ro**2-Ri**2))#\n",
    "zk=(0.22*t)-(180/t)#\n",
    "# specific gravity is rho\n",
    "rho=0.86#\n",
    "z=rho*zk#\n",
    "u=z/(10**9)#\n",
    "Q=pi*pi*ho**3/(6*u*log(Ro/Ri))#\n",
    "Q=Q*60/10**6#\n",
    "print \"pi is %0.2f MPa \"%(pi)#\n",
    "print \"\\nQ is %0.3f lpm \"%(Q)#"
   ]
  }
 ],
 "metadata": {
  "kernelspec": {
   "display_name": "Python 2",
   "language": "python",
   "name": "python2"
  },
  "language_info": {
   "codemirror_mode": {
    "name": "ipython",
    "version": 2
   },
   "file_extension": ".py",
   "mimetype": "text/x-python",
   "name": "python",
   "nbconvert_exporter": "python",
   "pygments_lexer": "ipython2",
   "version": "2.7.9"
  }
 },
 "nbformat": 4,
 "nbformat_minor": 0
}
