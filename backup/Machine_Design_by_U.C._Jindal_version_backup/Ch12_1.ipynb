{
 "cells": [
  {
   "cell_type": "markdown",
   "metadata": {},
   "source": [
    "# Ch:12 Welded joints"
   ]
  },
  {
   "cell_type": "markdown",
   "metadata": {},
   "source": [
    "## exa 12-1 - Page 347"
   ]
  },
  {
   "cell_type": "code",
   "execution_count": 1,
   "metadata": {
    "collapsed": false
   },
   "outputs": [
    {
     "name": "stdout",
     "output_type": "stream",
     "text": [
      "T is 73.7 MPa     \n"
     ]
    }
   ],
   "source": [
    "h=8#\n",
    "F=100*10**3#\n",
    "t=0.707*h#\n",
    "A=4*60*t#\n",
    "T=F/A#\n",
    "print \"T is %0.1f MPa     \"%(T)#"
   ]
  },
  {
   "cell_type": "markdown",
   "metadata": {},
   "source": [
    "## exa 12-2 - Page 347"
   ]
  },
  {
   "cell_type": "code",
   "execution_count": 2,
   "metadata": {
    "collapsed": false
   },
   "outputs": [
    {
     "name": "stdout",
     "output_type": "stream",
     "text": [
      "l is 639 mm     \n"
     ]
    }
   ],
   "source": [
    "FOS=3#\n",
    "Ta=95/FOS#\n",
    "P=350*10**3#\n",
    "h=12.5#\n",
    "t=0.707*h#\n",
    "l=P/(2*t*Ta)#\n",
    "print \"l is %0.0f mm     \"%(l)#"
   ]
  },
  {
   "cell_type": "markdown",
   "metadata": {},
   "source": [
    "## exa 12-3 - Page 348"
   ]
  },
  {
   "cell_type": "code",
   "execution_count": 3,
   "metadata": {
    "collapsed": false
   },
   "outputs": [
    {
     "name": "stdout",
     "output_type": "stream",
     "text": [
      "P is 81.446 kN     \n"
     ]
    }
   ],
   "source": [
    "h=12#\n",
    "t=0.707*h#\n",
    "l=60#\n",
    "Ta=80#\n",
    "P=2*l*t*Ta#\n",
    "P=P*10**-3#\n",
    "print \"P is %0.3f kN     \"%(P)#"
   ]
  },
  {
   "cell_type": "markdown",
   "metadata": {},
   "source": [
    "## exa 12-4 - Page 348"
   ]
  },
  {
   "cell_type": "code",
   "execution_count": 4,
   "metadata": {
    "collapsed": false
   },
   "outputs": [
    {
     "name": "stdout",
     "output_type": "stream",
     "text": [
      "h is 3 mm     \n"
     ]
    }
   ],
   "source": [
    "from math import sin, pi, cos, sqrt\n",
    "P=6*10**3#\n",
    "e=150+(100/2)#\n",
    "T=P*e#\n",
    "A=200#\n",
    "Td=P/A#\n",
    "r=sqrt(2*50**2)#\n",
    "Ixx=2*(100*50**2)#\n",
    "Iyy=2*100**3/12#\n",
    "IG=Ixx+Iyy#\n",
    "Ts=r*T/IG#\n",
    "Tmax=sqrt((Ts*sin(45*pi/180))**2+(Td+(Ts*cos(45*pi/180)))**2)#\n",
    "Ta=80#\n",
    "t=Tmax/Ta#\n",
    "h=sqrt(2)*t#\n",
    "h=3#\n",
    "print \"h is %0.0f mm     \"%(h)#"
   ]
  },
  {
   "cell_type": "markdown",
   "metadata": {},
   "source": [
    "## exa 12-5 - Page 349"
   ]
  },
  {
   "cell_type": "code",
   "execution_count": 5,
   "metadata": {
    "collapsed": false
   },
   "outputs": [
    {
     "name": "stdout",
     "output_type": "stream",
     "text": [
      "P is 4.972 KN     \n"
     ]
    }
   ],
   "source": [
    "from math import sqrt\n",
    "h=10#\n",
    "t=10/sqrt(2)#\n",
    "Ta=80#\n",
    "x=((50*25)+(50*0))/(50+50)#\n",
    "y=x#\n",
    "ra=sqrt(x**2+37.5**2)#\n",
    "Ixx=(7.07*50**3/12)+(50*7.07*(12.5**2))+(50*7.07*12.5**2)#\n",
    "IG=2*Ixx#\n",
    "e=100+(50-12.5)#\n",
    "Tr=16.09*10**-3#\n",
    "P=Ta/Tr#\n",
    "P=P*10**-3#\n",
    "print \"P is %0.3f KN     \"%(P)#"
   ]
  },
  {
   "cell_type": "markdown",
   "metadata": {},
   "source": [
    "## exa 12-6 - Page 350"
   ]
  },
  {
   "cell_type": "code",
   "execution_count": 6,
   "metadata": {
    "collapsed": false
   },
   "outputs": [
    {
     "name": "stdout",
     "output_type": "stream",
     "text": [
      "h is 5 mm     \n"
     ]
    }
   ],
   "source": [
    "from math import sqrt,pi\n",
    "P=16*10**3#\n",
    "l=300#\n",
    "r=50#\n",
    "M=P*l#\n",
    "A=2*pi*r#\n",
    "Ixx=pi*r**3#\n",
    "sigb=M*r/Ixx#\n",
    "Td=P/A#\n",
    "Tmax=sqrt((sigb/2)**2+(Td**2))#\n",
    "Ta=90#\n",
    "t=Tmax/Ta#\n",
    "h=sqrt(2)*t#\n",
    "h=5#\n",
    "print \"h is %0.0f mm     \"%(h)#"
   ]
  },
  {
   "cell_type": "markdown",
   "metadata": {},
   "source": [
    "## exa 12-7 - Page 350"
   ]
  },
  {
   "cell_type": "code",
   "execution_count": 7,
   "metadata": {
    "collapsed": false
   },
   "outputs": [
    {
     "name": "stdout",
     "output_type": "stream",
     "text": [
      "l is 202 mm     \n"
     ]
    }
   ],
   "source": [
    "sigut=415#\n",
    "sige=sigut/3#\n",
    "Ka=0.5#\n",
    "Kb=0.85#\n",
    "Kc=0.897#\n",
    "SCF=1.5#\n",
    "Kd=1/SCF#\n",
    "FOS=2#\n",
    "sige1=sige*Ka*Kb*Kc*Kd/FOS#\n",
    "Pa=50*10**3#\n",
    "h=10#\n",
    "t=0.707*h#\n",
    "l=Pa/(2*sige1*t)#\n",
    "print \"l is %0.0f mm     \"%(l)#"
   ]
  },
  {
   "cell_type": "markdown",
   "metadata": {},
   "source": [
    "## exa 12-8 - Page 351"
   ]
  },
  {
   "cell_type": "code",
   "execution_count": 8,
   "metadata": {
    "collapsed": false
   },
   "outputs": [
    {
     "name": "stdout",
     "output_type": "stream",
     "text": [
      "h is 3 mm     \n"
     ]
    }
   ],
   "source": [
    "from math import sqrt,pi\n",
    "l=300#\n",
    "P=30*10**3#\n",
    "T=P/(2*l)#\n",
    "Ta=124#\n",
    "t1=T/Ta#\n",
    "h1=sqrt(2)*t1#\n",
    "M=P*l#\n",
    "Ixx=2*100*110**2#\n",
    "sigb=M/Ixx*110#\n",
    "#Let the allowable bending stress is Tab\n",
    "Tab=200#\n",
    "t2=sigb/Tab#\n",
    "h2=t2/0.707#\n",
    "h2=3#\n",
    "print \"h is %0.0f mm     \"%(h2)#"
   ]
  },
  {
   "cell_type": "markdown",
   "metadata": {},
   "source": [
    "## exa 12-9 - Page 352"
   ]
  },
  {
   "cell_type": "code",
   "execution_count": 9,
   "metadata": {
    "collapsed": false
   },
   "outputs": [
    {
     "name": "stdout",
     "output_type": "stream",
     "text": [
      " h is 20 mm     \n",
      "\n",
      " a is 40 mm     \n"
     ]
    }
   ],
   "source": [
    "Ta=60#\n",
    "l1=60#\n",
    "l2=40#\n",
    "P1=Ta*0.707*l1#\n",
    "P2=Ta*0.707*l2#\n",
    "P=80*10**3#\n",
    "h=P/(P1+P2)#\n",
    "h=20#\n",
    "a=(P2*100)/(P1+P2)#\n",
    "print \" h is %0.0f mm     \"%(h)#\n",
    "print \"\\n a is %0.0f mm     \"%(a)#"
   ]
  },
  {
   "cell_type": "markdown",
   "metadata": {},
   "source": [
    "## exa 12-10 - Page 352"
   ]
  },
  {
   "cell_type": "code",
   "execution_count": 10,
   "metadata": {
    "collapsed": false
   },
   "outputs": [
    {
     "name": "stdout",
     "output_type": "stream",
     "text": [
      "h is 9 mm     \n"
     ]
    }
   ],
   "source": [
    "from math import sqrt\n",
    "P=300*10**3#\n",
    "l=500#\n",
    "A=2*l#\n",
    "Td=P/A#\n",
    "T=(350-250)*P#\n",
    "IG=(l**3*2/12)+(l*2*5**2)#\n",
    "r=sqrt(250**2+5**2)#\n",
    "Ts=T*r/IG#\n",
    "Ts=Ts+Td#\n",
    "Ta=110#\n",
    "t=Ts/Ta#\n",
    "h=t/0.707#\n",
    "h=9#\n",
    "print \"h is %0.0f mm     \"%(h)#"
   ]
  },
  {
   "cell_type": "markdown",
   "metadata": {},
   "source": [
    "## exa 12-11 - Page 353"
   ]
  },
  {
   "cell_type": "code",
   "execution_count": 11,
   "metadata": {
    "collapsed": false
   },
   "outputs": [
    {
     "name": "stdout",
     "output_type": "stream",
     "text": [
      "l is 45.4 mm     \n"
     ]
    }
   ],
   "source": [
    "t=30#\n",
    "sigut=417#\n",
    "sige=sigut/2#\n",
    "Ka=0.5#\n",
    "Kb=0.85#\n",
    "Kc=0.897#\n",
    "SCF=1.2#\n",
    "Kd=1/SCF#\n",
    "FOS=1.5#\n",
    "sige1=sige*Ka*Kb*Kc*Kd/FOS#\n",
    "Pa=60*10**3#\n",
    "l=Pa/(sige1*t)#\n",
    "print \"l is %0.1f mm     \"%(l)#"
   ]
  }
 ],
 "metadata": {
  "kernelspec": {
   "display_name": "Python 2",
   "language": "python",
   "name": "python2"
  },
  "language_info": {
   "codemirror_mode": {
    "name": "ipython",
    "version": 2
   },
   "file_extension": ".py",
   "mimetype": "text/x-python",
   "name": "python",
   "nbconvert_exporter": "python",
   "pygments_lexer": "ipython2",
   "version": "2.7.9"
  }
 },
 "nbformat": 4,
 "nbformat_minor": 0
}
