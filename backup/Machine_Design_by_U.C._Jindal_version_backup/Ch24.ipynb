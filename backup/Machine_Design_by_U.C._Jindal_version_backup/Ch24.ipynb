{
 "metadata": {
  "name": "",
  "signature": "sha256:d95986be60722ab1db01b1c918002f9e15f3dc0ce9ab06247d01ab6e633f6378"
 },
 "nbformat": 3,
 "nbformat_minor": 0,
 "worksheets": [
  {
   "cells": [
    {
     "cell_type": "heading",
     "level": 1,
     "metadata": {},
     "source": [
      "Ch:24 Rope drive"
     ]
    },
    {
     "cell_type": "heading",
     "level": 2,
     "metadata": {},
     "source": [
      "exa 24-1 - Page 635"
     ]
    },
    {
     "cell_type": "code",
     "collapsed": false,
     "input": [
      "from __future__ import division\n",
      "from math import sqrt, pi, exp, sin, asin\n",
      "P=150000#\n",
      "m=0.4#\n",
      "D=1.8#\n",
      "d=0.6#\n",
      "C=4.2#\n",
      "V=15#\n",
      "Fc=m*V**2#\n",
      "BL=44.81*10**3#\n",
      "FOS=35#\n",
      "F1=BL/FOS#\n",
      "theta=pi-(2*asin((D-d)/(2*C)))#\n",
      "beta=22.5*pi/180#\n",
      "u=0.13#\n",
      "x=u*theta/sin(beta)#\n",
      "F2=(F1-Fc)/exp(x)#\n",
      "n=P/((F1-F2)*V)#\n",
      "n=13#\n",
      "print \"n is %0.0f    \"%(n)#"
     ],
     "language": "python",
     "metadata": {},
     "outputs": [
      {
       "output_type": "stream",
       "stream": "stdout",
       "text": [
        "n is 13    \n"
       ]
      }
     ],
     "prompt_number": 1
    },
    {
     "cell_type": "heading",
     "level": 2,
     "metadata": {},
     "source": [
      "exa 24-2 - Page 635"
     ]
    },
    {
     "cell_type": "code",
     "collapsed": false,
     "input": [
      "W=1000#\n",
      "m=0.498#\n",
      "BL=78#\n",
      "d=12#\n",
      "Am=0.39*d**2#\n",
      "dw=sqrt(Am*4/(6*19*pi))#\n",
      "Ew=74.4*10**3#\n",
      "Ds=56*d#\n",
      "sigb=Ew*dw/Ds#\n",
      "Wb=sigb*pi*(d**2)/4*10**-3#\n",
      "l=20#\n",
      "Ws=m*l#\n",
      "a=1.2#\n",
      "Wa=a*(W/2+Ws)*10**-3#\n",
      "#Let the static load be Ps\n",
      "Ps=(W/2+Ws)*9.81*10**-3#\n",
      "#let the effective load  be Peff\n",
      "Peff=Ps+Wb+Wa#\n",
      "FOS1=BL/Peff#\n",
      "FOS2=BL/(5+0.612)#\n",
      "print \" annual FOS is %0.2f    \"%(FOS1)#\n",
      "print \"\\n FOS neglecting bending load is %0.1f    \"%(FOS2)#"
     ],
     "language": "python",
     "metadata": {},
     "outputs": [
      {
       "output_type": "stream",
       "stream": "stdout",
       "text": [
        " annual FOS is 5.02    \n",
        "\n",
        " FOS neglecting bending load is 13.9    \n"
       ]
      }
     ],
     "prompt_number": 2
    },
    {
     "cell_type": "heading",
     "level": 2,
     "metadata": {},
     "source": [
      "exa 24-3 - Page 636"
     ]
    },
    {
     "cell_type": "code",
     "collapsed": false,
     "input": [
      "d=12#\n",
      "sigut=1960#\n",
      "Pb=0.0025*sigut#\n",
      "Ds=480#\n",
      "F=Pb*d*Ds/2#\n",
      "W=F*2*10**-3#\n",
      "print \"W is %0.3f kN   \"%(W)#"
     ],
     "language": "python",
     "metadata": {},
     "outputs": [
      {
       "output_type": "stream",
       "stream": "stdout",
       "text": [
        "W is 28.224 kN   \n"
       ]
      }
     ],
     "prompt_number": 3
    },
    {
     "cell_type": "heading",
     "level": 2,
     "metadata": {},
     "source": [
      "exa 24-4 - Page 637"
     ]
    },
    {
     "cell_type": "code",
     "collapsed": false,
     "input": [
      "sigut=1770#\n",
      "Pb=0.0018*sigut#\n",
      "W=4000#\n",
      "a=2.5/2#\n",
      "Ws=90*0.5#\n",
      "Wa=(W+Ws)*a/9.81#\n",
      "Weff=W+Wa#\n",
      "d=sqrt(Weff*2/(23*Pb))#\n",
      "d=12#\n",
      "print \"d is %0.0f mm   \"%(d)#"
     ],
     "language": "python",
     "metadata": {},
     "outputs": [
      {
       "output_type": "stream",
       "stream": "stdout",
       "text": [
        "d is 12 mm   \n"
       ]
      }
     ],
     "prompt_number": 4
    }
   ],
   "metadata": {}
  }
 ]
}