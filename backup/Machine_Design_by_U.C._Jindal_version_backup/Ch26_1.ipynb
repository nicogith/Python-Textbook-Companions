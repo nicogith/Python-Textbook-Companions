{
 "cells": [
  {
   "cell_type": "markdown",
   "metadata": {},
   "source": [
    "# Ch:26 Helical gears"
   ]
  },
  {
   "cell_type": "markdown",
   "metadata": {},
   "source": [
    "## exa 26-1 - Page 698"
   ]
  },
  {
   "cell_type": "code",
   "execution_count": 1,
   "metadata": {
    "collapsed": false
   },
   "outputs": [
    {
     "name": "stdout",
     "output_type": "stream",
     "text": [
      "m is 4.14 mm  \n",
      "\n",
      "alpha is 20.647 deg  \n",
      "\n",
      "Pa is 90.8 mm   \n",
      "\n",
      "Pd is 72.8 mm   \n",
      "\n",
      "Ga is 215 mm   \n",
      "\n",
      "Gd is 197 mm   \n",
      "\n",
      "b is 48.55 mm   \n"
     ]
    }
   ],
   "source": [
    "from __future__ import division\n",
    "from math import sqrt, pi, sin, cos, tan, atan\n",
    "Zp=20#\n",
    "Zg=50#\n",
    "alphan=20*pi/180#\n",
    "phi=15*pi/180#\n",
    "mn=4#\n",
    "m=mn/cos(phi)#\n",
    "alpha=180/pi*atan(tan(alphan)/(cos(phi)))#\n",
    "dp=Zp*m#\n",
    "dg=Zg*m#\n",
    "ha=4#\n",
    "hd=1.25*mn#\n",
    "#Let addendum circle dia of pinion be Pa\n",
    "Pa=dp+(2*mn)#\n",
    "#Let dedendum circle dia of pinion be Pd\n",
    "Pd=dp-(2.5*mn)#\n",
    "#Let addendum circle dia of gear be Ga\n",
    "Ga=dg+(2*mn)#\n",
    "#Let dedendum circle dia of gear be Gd\n",
    "Gd=dg-(2.5*mn)#\n",
    "b=pi*mn/sin(phi)#\n",
    "print \"m is %0.2f mm  \"%(m)#\n",
    "print \"\\nalpha is %0.3f deg  \"%(alpha)#\n",
    "print \"\\nPa is %0.1f mm   \"%(Pa)#\n",
    "print \"\\nPd is %0.1f mm   \"%(Pd)#\n",
    "print \"\\nGa is %0.0f mm   \"%(Ga)#\n",
    "print \"\\nGd is %0.0f mm   \"%(Gd)#\n",
    "print \"\\nb is %0.2f mm   \"%(b)#"
   ]
  },
  {
   "cell_type": "markdown",
   "metadata": {},
   "source": [
    "## exa 26-2 - Page 698"
   ]
  },
  {
   "cell_type": "code",
   "execution_count": 2,
   "metadata": {
    "collapsed": false
   },
   "outputs": [
    {
     "name": "stdout",
     "output_type": "stream",
     "text": [
      "Pt is 747.78 N   \n",
      "\n",
      "Pa is 272.2 N  \n",
      "\n",
      "Pr is 289.64 N  \n"
     ]
    }
   ],
   "source": [
    "from math import pi, sin, cos, tan\n",
    "P=5000#\n",
    "Zp=25#\n",
    "Zg=50#\n",
    "mn=4#\n",
    "alphan=20*pi/180#\n",
    "phi=20*pi/180#\n",
    "N=1200#\n",
    "m=mn/cos(phi)#\n",
    "dp=Zp*m#\n",
    "dg=Zg*m#\n",
    "v=2*pi*N*dp/(60*2*1000)#\n",
    "Pt=P/v#\n",
    "Pa=Pt*tan(phi)#\n",
    "Pr=Pt*tan(alphan)/cos(phi)#\n",
    "print \"Pt is %0.2f N   \"%(Pt)#\n",
    "print \"\\nPa is %0.1f N  \"%(Pa)#\n",
    "print \"\\nPr is %0.2f N  \"%(Pr)#"
   ]
  },
  {
   "cell_type": "markdown",
   "metadata": {},
   "source": [
    "## exa 26-3 - Page 699"
   ]
  },
  {
   "cell_type": "code",
   "execution_count": 3,
   "metadata": {
    "collapsed": false
   },
   "outputs": [
    {
     "name": "stdout",
     "output_type": "stream",
     "text": [
      "P is 22.936 kW   \n"
     ]
    }
   ],
   "source": [
    "from math import sqrt, pi, sin, cos, tan\n",
    "Zp=24#\n",
    "Zg=72#\n",
    "alphan=20*pi/180#\n",
    "phi=24*pi/180#\n",
    "N=720#\n",
    "mn=5#\n",
    "b=50#\n",
    "sigut=600#\n",
    "BHN=360#\n",
    "Cs=1.4#\n",
    "FOS=2#\n",
    "sigb=sigut/3#\n",
    "dp=mn*Zp/cos(phi)#\n",
    "Zp=Zp/(cos(phi))**3#\n",
    "Zg=Zg/(cos(phi))**3#\n",
    "Y=0.358+((0.364-0.358)*1.48/2)#\n",
    "Sb=b*mn*sigb*Y#\n",
    "Q=(2*Zg)/(Zp+Zg)#\n",
    "K=0.16*(BHN/100)**2#\n",
    "Sw=b*dp*Q*K/(cos(phi)**2)#\n",
    "v=2*pi*N*dp/(60*2*1000)#\n",
    "Cv=5.6/(5.6+sqrt(v))#\n",
    "Peff=Sb/FOS#\n",
    "Pt=Peff*Cv/Cs#\n",
    "P=Pt*v#\n",
    "P=P*10**-3#\n",
    "print \"P is %0.3f kW   \"%(P)#\n",
    "#The difference in the value is due to rounding-off of the values."
   ]
  },
  {
   "cell_type": "markdown",
   "metadata": {},
   "source": [
    "## exa 26-4 - Page 700"
   ]
  },
  {
   "cell_type": "code",
   "execution_count": 4,
   "metadata": {
    "collapsed": false
   },
   "outputs": [
    {
     "name": "stdout",
     "output_type": "stream",
     "text": [
      "mn is 2.5 mm   \n",
      "\n",
      "TC is 1965 N  \n",
      "\n",
      "Sb is 5790.8 N  \n"
     ]
    }
   ],
   "source": [
    "from math import sqrt, pi, sin, cos, tan, atan\n",
    "Zp=25#\n",
    "Zg=100#\n",
    "P=5000#\n",
    "N=2000#\n",
    "alphan=20*pi/180#\n",
    "phi=15*pi/180#\n",
    "sigut=660#\n",
    "Cs=1.5#\n",
    "FOS=1.8#\n",
    "v=10#\n",
    "Zp1=Zp/(cos(phi))**3#\n",
    "Zg1=Zg/(cos(phi))**3#\n",
    "Y=0.348+(0.74*0.004)#\n",
    "sigb=sigut/3#\n",
    "Cv=5.6/(5.6+sqrt(v))#\n",
    "#Sb=FOS*Peff\n",
    "mn=FOS*P*Cs*60*1000*2*cos(phi)/(2*pi*N*Cv*Zp*12*sigb*Y)#\n",
    "mn=mn**(1/3)#\n",
    "mn=2.5#\n",
    "dp=mn*Zp/cos(phi)#\n",
    "Q=(2*Zg)/(Zp+Zg)#\n",
    "b=12*mn#\n",
    "Sb=12*sigb*Y#\n",
    "K=Sb*(cos(phi)**2)/(dp*Q*b)#\n",
    "BHN=sqrt(K/0.16)*100#\n",
    "dg=mn*Zg/cos(phi)#\n",
    "phip=mn+(0.25*sqrt(dp))#\n",
    "ep=16+(1.25*phip)#\n",
    "phig=mn+(0.25*sqrt(dg))#\n",
    "eg=16+(1.25*phig)#\n",
    "e=ep+eg#\n",
    "e=e*10**-3#\n",
    "r1=dp/2#\n",
    "r2=dg/2#\n",
    "Pd=e*N*Zp1*b*r1*r2/(2530*sqrt(r1**2+r2**2))#\n",
    "v=2*pi*N*dp/(60*2*1000)#\n",
    "#Let tangential component be TC\n",
    "TC=(Cs*1845/mn)+(Pd*cos(alphan)*cos(phi))#\n",
    "\n",
    "Sb=b*mn*sigb*Y#\n",
    "print \"mn is %0.1f mm   \"%(mn)#\n",
    "print \"\\nTC is %0.0f N  \"%(TC)#\n",
    "print \"\\nSb is %0.1f N  \"%(Sb)#\n",
    "#The difference in the value  of Sb is due to rounding-off of t"
   ]
  }
 ],
 "metadata": {
  "kernelspec": {
   "display_name": "Python 2",
   "language": "python",
   "name": "python2"
  },
  "language_info": {
   "codemirror_mode": {
    "name": "ipython",
    "version": 2
   },
   "file_extension": ".py",
   "mimetype": "text/x-python",
   "name": "python",
   "nbconvert_exporter": "python",
   "pygments_lexer": "ipython2",
   "version": "2.7.9"
  }
 },
 "nbformat": 4,
 "nbformat_minor": 0
}
