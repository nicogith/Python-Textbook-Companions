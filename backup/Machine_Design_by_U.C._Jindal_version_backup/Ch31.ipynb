{
 "metadata": {
  "name": "",
  "signature": "sha256:6ec60a366eb75f6b61dc10de0b002b97629539c44f0f706f948844442706e9bd"
 },
 "nbformat": 3,
 "nbformat_minor": 0,
 "worksheets": [
  {
   "cells": [
    {
     "cell_type": "heading",
     "level": 1,
     "metadata": {},
     "source": [
      "Ch:31 Seals packing and gaskets"
     ]
    },
    {
     "cell_type": "heading",
     "level": 2,
     "metadata": {},
     "source": [
      "exa 31-1 - Page 816"
     ]
    },
    {
     "cell_type": "code",
     "collapsed": false,
     "input": [
      "from __future__ import division\n",
      "from math import sqrt, pi, log\n",
      "d=18#\n",
      "lg=25+25#\n",
      "Eb=210*10**3#\n",
      "Ecl=90*10**3#\n",
      "A=pi*d**2/4#\n",
      "kb=A*Eb/lg#\n",
      "x=(5*(lg+(0.5*d))/(lg+(2.5*d)))#\n",
      "km=pi*Ecl*d/(2*log(x))#\n",
      "C=kb/(kb+km)#\n",
      "sigp=600#\n",
      "At=192#\n",
      "Pi=0.75*sigp*At#\n",
      "F=200#\n",
      "C=0.322#\n",
      "Pb=F*C*10**3#\n",
      "FOS=2#\n",
      "W=At*sigp#\n",
      "N=Pb*FOS/(W-Pi)#\n",
      "print \"N is %0.2f      \"%(N)#"
     ],
     "language": "python",
     "metadata": {},
     "outputs": [
      {
       "output_type": "stream",
       "stream": "stdout",
       "text": [
        "N is 4.47      \n"
       ]
      }
     ],
     "prompt_number": 1
    },
    {
     "cell_type": "heading",
     "level": 2,
     "metadata": {},
     "source": [
      "exa 31-2 - Page 816"
     ]
    },
    {
     "cell_type": "code",
     "collapsed": false,
     "input": [
      "d=16#\n",
      "D=1.5*d#\n",
      "t=20#\n",
      "tg=4#\n",
      "#Let Gasket diameter in compression zone be d1\n",
      "d1=D+(2*t)+tg#\n",
      "lg=40#\n",
      "E=207*10**3#\n",
      "kb=pi*d**2*E/(lg*4)#\n",
      "Ecl=90*10**3#\n",
      "x=(5*(lg+(0.5*d))/(lg+(2.5*d)))#\n",
      "kp=pi*Ecl*d/(2*log(x))#\n",
      "Ag=pi*(d1**2-d**2)/4#\n",
      "Eg=480#\n",
      "kg=Ag*Eg/tg#\n",
      "km=kg*kp/(kg+kp)#\n",
      "C=kb/(kb+km)#\n",
      "At=157#\n",
      "sigp=600#\n",
      "Pi=0.75*At*sigp/2#\n",
      "FOS=2#\n",
      "Pf=At*sigp/FOS#\n",
      "W=Pf-Pi#\n",
      "P=W/C#\n",
      "N=5#\n",
      "F=P*N#\n",
      "p=F*4/(pi*120**2)#\n",
      "print \"p is %0.3f N/mm**2     \"%(p)#"
     ],
     "language": "python",
     "metadata": {},
     "outputs": [
      {
       "output_type": "stream",
       "stream": "stdout",
       "text": [
        "p is 6.922 N/mm**2     \n"
       ]
      }
     ],
     "prompt_number": 2
    },
    {
     "cell_type": "heading",
     "level": 2,
     "metadata": {},
     "source": [
      "exa 31-3 - Page 817"
     ]
    },
    {
     "cell_type": "code",
     "collapsed": false,
     "input": [
      "sigp=600#\n",
      "FOS=3#\n",
      "siga=sigp/FOS#\n",
      "d=16#\n",
      "D=1.5*d+60#\n",
      "#Let Gasket diameter in compression zone be d1\n",
      "d1=(300-160)/2#\n",
      "#Let compressive stress in gasket for leak proof joint be sigl\n",
      "sigl=12#\n",
      "from numpy import mat\n",
      "At=mat([[1, 157],[2 ,192], [3, 245]])\n",
      "d=mat([[1 ,16],[2 ,18],[3, 20]])\n",
      "\n",
      "n=3#\n",
      "Pi = range(0,n)\n",
      "Pc = range(0,n)\n",
      "for i in range(0,n):\n",
      "    Pi[i]=At[i,1]*d[i,1]\n",
      "    Pc[i]=3*pi*(d1**2-d[i,1]**2)\n",
      "    if (Pi[i]>=Pc[i]):\n",
      "        print \"The Design is safe\"\n",
      "\n",
      "print \"d is %0.0f mm     \"%(d[i,1])#"
     ],
     "language": "python",
     "metadata": {},
     "outputs": [
      {
       "output_type": "stream",
       "stream": "stdout",
       "text": [
        "d is 20 mm     \n"
       ]
      }
     ],
     "prompt_number": 3
    }
   ],
   "metadata": {}
  }
 ]
}