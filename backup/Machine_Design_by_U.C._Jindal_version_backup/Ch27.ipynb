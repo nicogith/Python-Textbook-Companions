{
 "metadata": {
  "name": "",
  "signature": "sha256:93bf919486a82ec8604e11d18207bffbdc29a6c50aa4e9b5a65c5c915d6bd456"
 },
 "nbformat": 3,
 "nbformat_minor": 0,
 "worksheets": [
  {
   "cells": [
    {
     "cell_type": "heading",
     "level": 1,
     "metadata": {},
     "source": [
      "Ch:27 Straight bevel gears"
     ]
    },
    {
     "cell_type": "heading",
     "level": 2,
     "metadata": {},
     "source": [
      "exa 27-1 - Page 712"
     ]
    },
    {
     "cell_type": "code",
     "collapsed": false,
     "input": [
      "from math import sqrt, pi, atan, sin, tan, cos\n",
      "from __future__ import division\n",
      "P=8000#\n",
      "N1=400#\n",
      "N2=200#\n",
      "i=N1/N2# #i=Zg/Zp=dg/dp\n",
      "gamma1=atan(1/i)#\n",
      "gamma2=90-gamma1#\n",
      "rp=200#\n",
      "R=rp/sin(gamma1)#\n",
      "b=0.2*R#\n",
      "rm1=rp-(b*sin(gamma1)/2)#\n",
      "Pt=P*1000*60/(2*pi*N1*rm1)#\n",
      "alpha=20*pi/180#\n",
      "Ps=Pt*tan(alpha)#\n",
      "Pr=Ps*cos(gamma1)#\n",
      "Pa=Ps*sin(gamma1)#\n",
      "print \"Pt is %0.0f N  \"%(Pt)#\n",
      "print \"\\nPs is %0.2f N  \"%(Ps)#\n",
      "print \"\\nPr is %0.2f N  \"%(Pr)#\n",
      "print \"\\nPa  is %0.2f N  \"%(Pa)#\n",
      "\n",
      "#The difference in the values is due to rounding-off of the values."
     ],
     "language": "python",
     "metadata": {},
     "outputs": [
      {
       "output_type": "stream",
       "stream": "stdout",
       "text": [
        "Pt is 1061 N  \n",
        "\n",
        "Ps is 386.18 N  \n",
        "\n",
        "Pr is 345.41 N  \n",
        "\n",
        "Pa  is 172.71 N  \n"
       ]
      }
     ],
     "prompt_number": 1
    },
    {
     "cell_type": "heading",
     "level": 2,
     "metadata": {},
     "source": [
      "exa 27-2 - Page 712"
     ]
    },
    {
     "cell_type": "code",
     "collapsed": false,
     "input": [
      "alpha=20*pi/180#\n",
      "Zp=20#\n",
      "Zg=36#\n",
      "m=4#\n",
      "sigut=600#\n",
      "b=25#\n",
      "dp=m*Zp#\n",
      "rp=dp/2#\n",
      "dg=m*Zg#\n",
      "rg=dg/2#\n",
      "gamma1=atan(rp/rg)#\n",
      "Zpv=Zp/cos(gamma1)#\n",
      "Y=0.33+0.003*0.88#\n",
      "sigb=sigut/3#\n",
      "Sb=m*b*sigb*Y#\n",
      "print \"Zpv is %0.2f   \"%(Zpv)#\n",
      "print \"\\nSb is %0.0f N  \"%(Sb)#"
     ],
     "language": "python",
     "metadata": {},
     "outputs": [
      {
       "output_type": "stream",
       "stream": "stdout",
       "text": [
        "Zpv is 22.88   \n",
        "\n",
        "Sb is 6653 N  \n"
       ]
      }
     ],
     "prompt_number": 2
    },
    {
     "cell_type": "heading",
     "level": 2,
     "metadata": {},
     "source": [
      "exa 27-3 - Page 712"
     ]
    },
    {
     "cell_type": "code",
     "collapsed": false,
     "input": [
      "from math import asin\n",
      "m=6#\n",
      "Zp=30#\n",
      "Zg=45#\n",
      "dp=m*Zp#\n",
      "rp=dp/2#\n",
      "dg=m*Zg#\n",
      "rg=dg/2#\n",
      "R=sqrt(rg**2+rp**2)#\n",
      "gamma1=180/pi*asin(rp/R)#\n",
      "gamma2=(90-gamma1)#\n",
      "ha=6#\n",
      "hf=1.25*ha#\n",
      "phi=180/pi*atan(ha/R)#\n",
      "beta=180/pi*atan(hf/R)#\n",
      "#let Face Cone Angle be FCA\n",
      "FCA=(gamma1+phi)#\n",
      "#Let Root cone angle be RCA\n",
      "RCA=(gamma1-beta)#\n",
      "print \"gamma1 is %0.1f deg  \"%(gamma1)#\n",
      "print \"\\ngamma2 is %0.1f deg  \"%(gamma2)#\n",
      "print \"\\nR  is %0.2f mm  \"%(R)#\n",
      "print \"\\nFCA  is %0.3f deg  \"%(FCA)#\n",
      "print \"\\nRCA  is %0.2f deg  \"%(RCA)#"
     ],
     "language": "python",
     "metadata": {},
     "outputs": [
      {
       "output_type": "stream",
       "stream": "stdout",
       "text": [
        "gamma1 is 33.7 deg  \n",
        "\n",
        "gamma2 is 56.3 deg  \n",
        "\n",
        "R  is 162.25 mm  \n",
        "\n",
        "FCA  is 35.808 deg  \n",
        "\n",
        "RCA  is 31.04 deg  \n"
       ]
      }
     ],
     "prompt_number": 3
    },
    {
     "cell_type": "heading",
     "level": 2,
     "metadata": {},
     "source": [
      "exa 27-4 - Page 713"
     ]
    },
    {
     "cell_type": "code",
     "collapsed": false,
     "input": [
      "alpha=20*pi/180#\n",
      "Zp=25#\n",
      "Zg=40#\n",
      "m=5#\n",
      "b=30#\n",
      "BHN=400#\n",
      "dp=m*Zp#\n",
      "rp=dp/2#\n",
      "dg=m*Zg#\n",
      "rg=dg/2#\n",
      "gamma1=atan(rp/rg)#\n",
      "gamma1=180/pi*gamma1#\n",
      "gamma2=(90-gamma1)#\n",
      "a=cos(pi/180*gamma2)#\n",
      "Zp1=Zp/cos(gamma1)#\n",
      "Zg1=Zg/a#\n",
      "Q=(2*Zg1)/(Zp1+Zg1)#\n",
      "K=0.16*(BHN/100)**2#\n",
      "Sw=0.75*b*dp*Q*K/cos(pi/180*gamma1)#\n",
      "print \"Sw is %0.1f N  \"%(Sw)#\n",
      "  \n",
      "  #The difference in the value of Sw is due to rounding-off of the value of Q."
     ],
     "language": "python",
     "metadata": {},
     "outputs": [
      {
       "output_type": "stream",
       "stream": "stdout",
       "text": [
        "Sw is 12142.4 N  \n"
       ]
      }
     ],
     "prompt_number": 4
    },
    {
     "cell_type": "heading",
     "level": 2,
     "metadata": {},
     "source": [
      "exa 27-5 - Page 713"
     ]
    },
    {
     "cell_type": "code",
     "collapsed": false,
     "input": [
      "Zp=20#\n",
      "Zg=36#\n",
      "m=4#\n",
      "b=25#\n",
      "BHN=360#\n",
      "Np=750#\n",
      "FOS=1.75#\n",
      "dp=m*Zp#\n",
      "rp=dp/2#\n",
      "dg=m*Zg#\n",
      "rg=dg/2#\n",
      "gamma1=atan(dp/dg)#\n",
      "gamma1=180/pi*gamma1#\n",
      "gamma2=(90-gamma1)#\n",
      "a=cos(pi/180*gamma2)#\n",
      "Zp1=Zp/cos(pi/180*gamma1)#\n",
      "Zg1=Zg/a#\n",
      "Q=(2*Zg1)/(Zp1+Zg1)#\n",
      "K=0.16*(BHN/100)**2#\n",
      "R=sqrt(rp**2+rg**2)#\n",
      "Y=0.33+0.003*0.86#\n",
      "sigut=600#\n",
      "sigb=sigut/3#\n",
      "Sb=m*b*Y*sigb*(1-(b/R))#\n",
      "Sw=0.75*b*dp*Q*K/cos(pi/180*gamma1)#\n",
      "print \"Sb is %0.0f N   \"%(Sb)#\n",
      "print \"\\nSw is %0.1f N  \"%(Sw)#\n",
      "\n",
      "#The answwer to Sb is calculated incorrectly in the book."
     ],
     "language": "python",
     "metadata": {},
     "outputs": [
      {
       "output_type": "stream",
       "stream": "stdout",
       "text": [
        "Sb is 4633 N   \n",
        "\n",
        "Sw is 5438.0 N  \n"
       ]
      }
     ],
     "prompt_number": 5
    },
    {
     "cell_type": "heading",
     "level": 2,
     "metadata": {},
     "source": [
      "exa 27-6 - Page 713"
     ]
    },
    {
     "cell_type": "code",
     "collapsed": false,
     "input": [
      "Dp=300#\n",
      "rp=150#\n",
      "#Let the angular velocity ratio be i\n",
      "i=2/3#\n",
      "rg=rp/i#\n",
      "Dg=2*rg#\n",
      "R=sqrt(rp**2+rg**2)#\n",
      "P=15000#\n",
      "N=300#\n",
      "Cs=1.5#\n",
      "FOS=2#\n",
      "sigb=100#\n",
      "gamma1=atan(Dp/Dg)#\n",
      "gamma1=180/pi*gamma1#\n",
      "gamma2=(90-gamma1)#\n",
      "v=2*pi*N*rp/(60*1000)#\n",
      "Cv=5.6/(5.6+sqrt(v))#\n",
      "Pt=P/v#\n",
      "Peff=Pt*Cs/Cv#\n",
      "Sb=Peff*FOS#\n",
      "b=R/4#\n",
      "#let x=m*Y\n",
      "x=Sb/(b*sigb*(1-(b/R)))#\n",
      "m=6#\n",
      "print \"m*Y is %0.3f mm**2  \"%(x)#\n",
      "print \"\\nm is %0.0f mm  \"%(m)#"
     ],
     "language": "python",
     "metadata": {},
     "outputs": [
      {
       "output_type": "stream",
       "stream": "stdout",
       "text": [
        "m*Y is 2.613 mm**2  \n",
        "\n",
        "m is 6 mm  \n"
       ]
      }
     ],
     "prompt_number": 6
    },
    {
     "cell_type": "heading",
     "level": 2,
     "metadata": {},
     "source": [
      "exa 27-7 - Page 714"
     ]
    },
    {
     "cell_type": "code",
     "collapsed": false,
     "input": [
      "Zp=24#\n",
      "Zg=36#\n",
      "N=1400#\n",
      "P=11600#\n",
      "Cs=1.4#\n",
      "FOS=2#\n",
      "sigut=600#\n",
      "sigb=sigut/3#\n",
      "gamma1=atan(Zp/Zg)#\n",
      "gamma1=180/pi*gamma1#\n",
      "gamma2=(90-gamma1)#\n",
      "a=cos(pi/180*gamma2)#\n",
      "Zp1=Zp/cos(pi/180*gamma1)#\n",
      "Zg1=Zg/a#\n",
      "Q=(2*Zg1)/(Zp1+Zg1)#\n",
      "v=1.76#\n",
      "Pt=P/v#\n",
      "Cv=5.6/(5.6+sqrt(v))#\n",
      "Peff=Pt*Cs/Cv#\n",
      "x=Peff*FOS#\n",
      "Y=0.352+(0.003*0.85)#\n",
      "y=2*sigb*Y*(1-(6/21.63))#\n",
      "m=sqrt(x/y)#\n",
      "# Design is safe for m=4\n",
      "m=4#\n",
      "b=6*m#\n",
      "dp=24*m#\n",
      "rp=48#\n",
      "dp=dp/cos(pi/180*gamma1)#\n",
      "v=2*pi*N*rp/(60*1000)#\n",
      "Cv=5.6/(5.6+sqrt(v))#\n",
      "Sb=y*m**2#\n",
      "#Sw=Sb#\n",
      "K=Sb/(0.75*b*dp*Q)#\n",
      "BHN=sqrt(K/0.16)*100#\n",
      "print \"m is %0.0f mm  \"%(m)#\n",
      "print \"\\nBHN is %0.0f   \"%(BHN)#\n",
      "  \n",
      "  #The answwer to BHN is calculated incorrectly in the book."
     ],
     "language": "python",
     "metadata": {},
     "outputs": [
      {
       "output_type": "stream",
       "stream": "stdout",
       "text": [
        "m is 4 mm  \n",
        "\n",
        "BHN is 189   \n"
       ]
      }
     ],
     "prompt_number": 7
    },
    {
     "cell_type": "heading",
     "level": 2,
     "metadata": {},
     "source": [
      "exa 27-8 - Page 714"
     ]
    },
    {
     "cell_type": "code",
     "collapsed": false,
     "input": [
      "Zp=40#\n",
      "Zg=60#\n",
      "P=3500#\n",
      "N=600#\n",
      "Cs=1.5#\n",
      "sigb=55#\n",
      "gamma1=atan(Zp/Zg)#\n",
      "gamma1=180/pi*gamma1#\n",
      "gamma2=(90-gamma1)#\n",
      "a=cos(pi/180*gamma2)#\n",
      "Zp1=Zp/cos(pi/180*gamma1)#\n",
      "Zg1=Zg/a#\n",
      "Q=(2*Zg1)/(Zp1+Zg1)#\n",
      "# Design is safe for m=6\n",
      "m=6#\n",
      "b=6*m#\n",
      "dp=Zp*m#\n",
      "rp=dp/2#\n",
      "dg=Zg*m#\n",
      "rg=dg/2#\n",
      "R=sqrt(rp**2+rg**2)#\n",
      "print \"m is %0.0f mm  \"%(m)#\n",
      "print \"\\nb is %0.0f mm  \"%(b)#\n",
      "print \"\\nR is %0.0f mm  \"%(R)#"
     ],
     "language": "python",
     "metadata": {},
     "outputs": [
      {
       "output_type": "stream",
       "stream": "stdout",
       "text": [
        "m is 6 mm  \n",
        "\n",
        "b is 36 mm  \n",
        "\n",
        "R is 216 mm  \n"
       ]
      }
     ],
     "prompt_number": 8
    }
   ],
   "metadata": {}
  }
 ]
}