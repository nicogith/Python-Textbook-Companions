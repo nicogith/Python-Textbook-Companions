{
 "metadata": {
  "name": "",
  "signature": "sha256:b283e3fcd471f1cbe397d09e22017ed17e30966a86b52dc70653c73e3f5c2124"
 },
 "nbformat": 3,
 "nbformat_minor": 0,
 "worksheets": [
  {
   "cells": [
    {
     "cell_type": "heading",
     "level": 1,
     "metadata": {},
     "source": [
      "Ch:22 Friction clutches"
     ]
    },
    {
     "cell_type": "heading",
     "level": 2,
     "metadata": {},
     "source": [
      "exa 22-1 - Page 588"
     ]
    },
    {
     "cell_type": "code",
     "collapsed": false,
     "input": [
      "from __future__ import division\n",
      "from math import sqrt, pi\n",
      "u=0.28 #(coefficient of friction)\n",
      "N=300 #(Engine rpm)\n",
      "I=7.2 \n",
      "Pmax= 0.1# \n",
      "R1=70#\n",
      "R2=110#\n",
      "n=2# #(Both sides of the plate are effective)\n",
      "#Using Uniform Wear Theory\n",
      "#Axial Force W\n",
      "W=n*pi*Pmax*R1*(R2-R1)#\n",
      "#Frictional Torque Tf\n",
      "Tf=u*W*(R1+R2)/2*(10**-3)#\n",
      "w=2*pi*N/60#\n",
      "#Power P\n",
      "P=Tf*w#\n",
      "#Torque = Mass moment of inertia*angular acceleration\n",
      "a=Tf/I#\n",
      "t=w/a# \n",
      "#Angle turned by driving shaft theta1 through which slipping takes place\n",
      "theta1=w*t#\n",
      "#angle turned by driven shaft theta2\n",
      "theta2=a*(t**2)/2#\n",
      "E=Tf*(theta1-theta2)#\n",
      "print \"\\nThe force is %0.1f N\"%(W)#\n",
      "print \"\\nThe Torque is %0.2f Nm\"%(Tf)#\n",
      "print \"\\nThe Power is %0.0f W\"%(P)#\n",
      "print \"\\nThe angular acceleration is %0.2f rad/sec**2\"%(a)#\n",
      "print \"\\nThe time taken is %0.1f sec\"%(t)#\n",
      "print \"\\nThe energy is %0.2f Nm\"%(E)#\n",
      "\n",
      "#The difference in the answer of energy 'E' is due to rounding-off of values."
     ],
     "language": "python",
     "metadata": {},
     "outputs": [
      {
       "output_type": "stream",
       "stream": "stdout",
       "text": [
        "\n",
        "The force is 1759.3 N\n",
        "\n",
        "The Torque is 44.33 Nm\n",
        "\n",
        "The Power is 1393 W\n",
        "\n",
        "The angular acceleration is 6.16 rad/sec**2\n",
        "\n",
        "The time taken is 5.1 sec\n",
        "\n",
        "The energy is 3553.06 Nm\n"
       ]
      }
     ],
     "prompt_number": 12
    },
    {
     "cell_type": "heading",
     "level": 2,
     "metadata": {},
     "source": [
      "exa 22-2 - Page 589"
     ]
    },
    {
     "cell_type": "code",
     "collapsed": false,
     "input": [
      "#Power P\n",
      "P=80*10**3# #(Watt)\n",
      "N=3000# #(Engine rpm)\n",
      "w=2*pi*3*10**3/60\n",
      "Tf=8*10**4/w#\n",
      "Rm=100##(mm)\n",
      "p=0.2 #N/mm**2\n",
      "u=0.22 \n",
      "# let width b= (R1-R2). \n",
      "#Axial force W=2*pi*Rm*b*p\n",
      "#Torque T=u*W*Rm\n",
      "b=Tf/(u*2*pi*(Rm**2)*p)#\n",
      "b=50# \n",
      "R2=Rm+b#\n",
      "R1=Rm-b#\n",
      "Di=2*R1# #inner diameter\n",
      "W=2*pi*Rm*b*p#\n",
      "n=8# #n is number of springs\n",
      "#Axial force per spring W1\n",
      "W1=W/n#\n",
      "W1=W1+15#\n",
      "#axial deflection del\n",
      "Del=10# \n",
      "#stiffness k\n",
      "k=W1/Del#\n",
      "# Spring index C\n",
      "C=6#\n",
      "#number of coils n1\n",
      "n1=6# #Assumption\n",
      "d=k*n*n1*(C**3)/(80*10**3)#\n",
      "d=11# # Rounding off to nearest standard value\n",
      "D=C*d#\n",
      "clearance=2#\n",
      "FL=((n1+2)*d)+(2*Del)+clearance# # two end coils, therefore (2*del)\n",
      "\n",
      "print \"\\nThe Torque is %0.2f Nm\"%(Tf)#\n",
      "print \"\\nThe width is %0.0f mm\"%(b)#\n",
      "print \"\\nThe force is %0.0f N\"%(W)#\n",
      "print \"\\nThe Axial force per spring is %0.0f N\"%(W1)#\n",
      "print \"\\nThe Spring stiffness is %0.0f N/mm\"%(k)#\n",
      "print \"\\nThe Spring wire diameter is %0.0f mm\"%(d)#\n",
      "print \"\\nThe Mean coil diameter is %0.0f mm\"%(D)#\n",
      "print \"\\nThe Free length is %0.0f mm\"%(FL)#"
     ],
     "language": "python",
     "metadata": {},
     "outputs": [
      {
       "output_type": "stream",
       "stream": "stdout",
       "text": [
        "\n",
        "The Torque is 254.65 Nm\n",
        "\n",
        "The width is 50 mm\n",
        "\n",
        "The force is 6283 N\n",
        "\n",
        "The Axial force per spring is 800 N\n",
        "\n",
        "The Spring stiffness is 80 N/mm\n",
        "\n",
        "The Spring wire diameter is 11 mm\n",
        "\n",
        "The Mean coil diameter is 66 mm\n",
        "\n",
        "The Free length is 110 mm\n"
       ]
      }
     ],
     "prompt_number": 13
    },
    {
     "cell_type": "heading",
     "level": 2,
     "metadata": {},
     "source": [
      "exa 22-3 - Page 589"
     ]
    },
    {
     "cell_type": "code",
     "collapsed": false,
     "input": [
      "#Power P\n",
      "P=40*10**3 #Watt\n",
      "n1=100# #rpm\n",
      "n2=400# #rpm\n",
      "#Speed factor Ks\n",
      "Ks=0.9+0.001*n2#\n",
      "#Clutch power Pc\n",
      "Pc=P*n2/(n1*Ks)*10**-3#\n",
      "print \"\\nThe Speed factor is %0.1f \"%(Ks)#\n",
      "print \"\\nThe clutch poweris %0.0f KW\"%(Pc)#"
     ],
     "language": "python",
     "metadata": {},
     "outputs": [
      {
       "output_type": "stream",
       "stream": "stdout",
       "text": [
        "\n",
        "The Speed factor is 1.3 \n",
        "\n",
        "The clutch poweris 123 KW\n"
       ]
      }
     ],
     "prompt_number": 14
    },
    {
     "cell_type": "heading",
     "level": 2,
     "metadata": {},
     "source": [
      "exa 22-4 - Page 590"
     ]
    },
    {
     "cell_type": "code",
     "collapsed": false,
     "input": [
      "# plot Torque vs Ro/Ri\n",
      "#x=Ro/Ri\n",
      "#According to Uniform Wear theory\n",
      "x=[0, 0.2, 0.4, 0.577, 0.6, 0.8, 1.0]#\n",
      "n=len(x)#\n",
      "Tf = range(0,n)\n",
      "for i in range(0,n):\n",
      "    Tf[i]=(x[i]-(x[i]**3))#\n",
      "\n",
      "%matplotlib inline\n",
      "from matplotlib.pyplot import plot, xlabel, ylabel, show, grid\n",
      "plot (x,Tf)#\n",
      "xlabel(' Ro/Ri ')#\n",
      "ylabel('Tf')#\n",
      "grid()#\n",
      "show()"
     ],
     "language": "python",
     "metadata": {},
     "outputs": [
      {
       "metadata": {},
       "output_type": "display_data",
       "png": "[encoded data removed]",
       "text": [
        "<matplotlib.figure.Figure at 0x7fe9440af310>"
       ]
      }
     ],
     "prompt_number": 15
    },
    {
     "cell_type": "heading",
     "level": 2,
     "metadata": {},
     "source": [
      "exa 22-5 - Page 591"
     ]
    },
    {
     "cell_type": "code",
     "collapsed": false,
     "input": [
      "n1=4#\n",
      "n2=3#\n",
      "n=(n1+n2-1)#\n",
      "R2=80#\n",
      "R1=50#\n",
      "#According to Uniform Pressure Theory\n",
      "#W=p*pi*((R2**2)-(R1**2)) T=n*2*u*W*((R2**3)-(R1**3))/(((R2**2)-(R1**2))*3)\n",
      "P=15*10**3#\n",
      "N=1400#\n",
      "u=0.25#\n",
      "w=2*pi*N/60#\n",
      "T=P/w#\n",
      "W=T*3*((R2**2)-(R1**2))/(n*2*u*((R2**3)-(R1**3)))*10**3#\n",
      "p=W/(pi*((R2**2)-(R1**2)))#\n",
      "print \"\\nThe angular speed is %0.2f rad/sec\"%(w)#\n",
      "print \"\\nThe Torque is %0.3f Nm\"%(T)#\n",
      "print \"\\nThe uniform pressure is %0.3f N/mm**2\"%(p)#\n",
      "print \"\\nThe Force is %0.1f N\"%(W)#"
     ],
     "language": "python",
     "metadata": {},
     "outputs": [
      {
       "output_type": "stream",
       "stream": "stdout",
       "text": [
        "\n",
        "The angular speed is 146.61 rad/sec\n",
        "\n",
        "The Torque is 102.314 Nm\n",
        "\n",
        "The uniform pressure is 0.084 N/mm**2\n",
        "\n",
        "The Force is 1031.1 N\n"
       ]
      }
     ],
     "prompt_number": 16
    },
    {
     "cell_type": "heading",
     "level": 2,
     "metadata": {},
     "source": [
      "exa 22-6 - Page 592"
     ]
    },
    {
     "cell_type": "code",
     "collapsed": false,
     "input": [
      "P=5*10**3#\n",
      "N=1000#\n",
      "w=2*pi*N/60#\n",
      "Rm=50#\n",
      "pm=0.3#\n",
      "Tf=P/w#\n",
      "u=0.1#\n",
      "R2=50*2/(0.6+1)#\n",
      "R1=0.6*R2#\n",
      "#According to uniform Wear theory\n",
      "W=pm*Rm*(R2-R1)*2*pi#\n",
      "n=Tf*(10**3)/(u*W*Rm)#\n",
      "pmax=pm*Rm/R1#\n",
      "print \"\\nThe angular speed is %0.2f rad/sec\"%(w)#\n",
      "print \"\\nThe Torque is %0.3f Nm\"%(Tf)#\n",
      "print \"\\nThe Inner radius is %0.1f mm\"%(R1)#\n",
      "print \"\\nThe Outer radius is %0.1f mm\"%(R2)#\n",
      "print \"\\nThe number of contacting surfaces is %0.0f \"%(n)#\n",
      "print \"\\nThe max. pressure is %0.1f N/mm**2\"%(pmax)#"
     ],
     "language": "python",
     "metadata": {},
     "outputs": [
      {
       "output_type": "stream",
       "stream": "stdout",
       "text": [
        "\n",
        "The angular speed is 104.72 rad/sec\n",
        "\n",
        "The Torque is 47.746 Nm\n",
        "\n",
        "The Inner radius is 37.5 mm\n",
        "\n",
        "The Outer radius is 62.5 mm\n",
        "\n",
        "The number of contacting surfaces is 4 \n",
        "\n",
        "The max. pressure is 0.4 N/mm**2\n"
       ]
      }
     ],
     "prompt_number": 17
    },
    {
     "cell_type": "heading",
     "level": 2,
     "metadata": {},
     "source": [
      "exa 22-7 - Page 593"
     ]
    },
    {
     "cell_type": "code",
     "collapsed": false,
     "input": [
      "P=12*10**3#\n",
      "N=750 #Speed=N\n",
      "w=2*pi*N/60#\n",
      "Tf=P/w#\n",
      "p1=0.12#\n",
      "a=12.5##Semi-cone angle\n",
      "u=0.3#\n",
      "k=u*0.18246*1.121/0.21644#\n",
      "R1=(Tf*(10**3)/k)**(1/3)#\n",
      "R2=R1*1.242#\n",
      "Rm=1.121*R1#\n",
      "W=2*pi*p1*R1*(R2-R1)#\n",
      "print \"\\nThe angular speed is %0.2f rad/sec\"%(w)#\n",
      "print \"\\nThe Torque is %0.1f Nm\"%(Tf)#\n",
      "print \"\\nThe Inner radius is %0.1f mm\"%(R1)#\n",
      "print \"\\nThe Outer radius is %0.1f mm\"%(R2)#\n",
      "print \"\\nThe mean radius is %0.2f mm\"%(Rm)#\n",
      "print \"\\nThe axial force is %0.0f N\"%(W)#\n",
      "\n",
      "#The difference in the answer is due to rounding-off of values."
     ],
     "language": "python",
     "metadata": {},
     "outputs": [
      {
       "output_type": "stream",
       "stream": "stdout",
       "text": [
        "\n",
        "The angular speed is 78.54 rad/sec\n",
        "\n",
        "The Torque is 152.8 Nm\n",
        "\n",
        "The Inner radius is 81.4 mm\n",
        "\n",
        "The Outer radius is 101.1 mm\n",
        "\n",
        "The mean radius is 91.23 mm\n",
        "\n",
        "The axial force is 1208 N\n"
       ]
      }
     ],
     "prompt_number": 18
    },
    {
     "cell_type": "heading",
     "level": 2,
     "metadata": {},
     "source": [
      "exa 22-8 - Page 594"
     ]
    },
    {
     "cell_type": "code",
     "collapsed": false,
     "input": [
      "from math import sin\n",
      "#semi-cone angle is given as 15 degree\n",
      "k=sin(15*pi/180)#\n",
      "u=0.3#\n",
      "W=300#\n",
      "Rm=90/2#\n",
      "Tf=u*W*Rm/k#\n",
      "Tf=Tf*(10**-3)#\n",
      "I=0.4#\n",
      "a=Tf/I#\n",
      "N=1440#\n",
      "w=2*pi*N/60#\n",
      "t=w/a#\n",
      "#During Slipping\n",
      "theta1=w*t#\n",
      "theta2=theta1/2#\n",
      "U=Tf*(theta1-theta2)#\n",
      "print \"\\nThe Torque is %0.3f Nm\"%(Tf)#\n",
      "print \"\\nThe angular acceleration is %0.3f rad/sec**2\"%(a)#\n",
      "print \"\\nThe angular speed is %0.1f rad/sec\"%(w)#\n",
      "print \"\\nThe time taken is %0.2f sec\"%(t)#\n",
      "print \"\\nThe Energy lost in friction is %0.0f Nm\"%(U)#"
     ],
     "language": "python",
     "metadata": {},
     "outputs": [
      {
       "output_type": "stream",
       "stream": "stdout",
       "text": [
        "\n",
        "The Torque is 15.648 Nm\n",
        "\n",
        "The angular acceleration is 39.120 rad/sec**2\n",
        "\n",
        "The angular speed is 150.8 rad/sec\n",
        "\n",
        "The time taken is 3.85 sec\n",
        "\n",
        "The Energy lost in friction is 4548 Nm\n"
       ]
      }
     ],
     "prompt_number": 19
    },
    {
     "cell_type": "heading",
     "level": 2,
     "metadata": {},
     "source": [
      "exa 22-9 - Page 595"
     ]
    },
    {
     "cell_type": "code",
     "collapsed": false,
     "input": [
      "P=15*10**3#\n",
      "Ka=1.25#\n",
      "N=1500#\n",
      "w=2*pi*N/60#\n",
      "Tf=P/w#\n",
      "d=(Tf*16/(50*pi))**(1/3)#\n",
      "d=25#\n",
      "Rm=5*d#\n",
      "Pav=0.12#\n",
      "u=0.22#\n",
      "b=Tf/(pi*u*Pav*(Rm**2))#\n",
      "b=40#\n",
      "R1=Rm-(b*sin(15*pi/180)/2)#\n",
      "R2=Rm+(b*sin(15*pi/180)/2)#\n",
      "print \"\\nThe Torque is %0.2f Nm\"%(Tf)#\n",
      "print \"\\nThe shaft diameter is %0.0f mm\"%(d)#\n",
      "print \"\\nThe width is %0.0f mm\"%(b)#\n",
      "print \"\\nThe Inner radius is %0.1f mm\"%(R1)#\n",
      "print \"\\nThe Outer radius is %0.1f mm\"%(R2)#"
     ],
     "language": "python",
     "metadata": {},
     "outputs": [
      {
       "output_type": "stream",
       "stream": "stdout",
       "text": [
        "\n",
        "The Torque is 95.49 Nm\n",
        "\n",
        "The shaft diameter is 25 mm\n",
        "\n",
        "The width is 40 mm\n",
        "\n",
        "The Inner radius is 119.8 mm\n",
        "\n",
        "The Outer radius is 130.2 mm\n"
       ]
      }
     ],
     "prompt_number": 20
    },
    {
     "cell_type": "heading",
     "level": 2,
     "metadata": {},
     "source": [
      "exa 22-10 - Page 596"
     ]
    },
    {
     "cell_type": "code",
     "collapsed": false,
     "input": [
      "w2=2*pi*1400/60#\n",
      "w1=0.8*w2#\n",
      "P=40*10**3#\n",
      "T=P/w2#\n",
      "n=4#\n",
      "T1=T/4#\n",
      "R=0.16##Inner radius of drum\n",
      "r=0.13##radial distance of each shoe from axis of rotation\n",
      "u=0.22##coefficient of friction\n",
      "x=u*r*R*((w2**2)-(w1**2))\n",
      "m =T1/x#\n",
      "l=R*pi/3#\n",
      "N=T1/(R*u)#\n",
      "p=1*10**5#\n",
      "b=N/(p*l)*10**3#\n",
      "print \"\\nThe full speed is %0.1f rad/sec\"%(w2)#\n",
      "print \"\\nThe engagement speed is %0.2f rad/sec\"%(w1)#\n",
      "print \"\\nThe number of shoes is %0.0f \"%(n)#\n",
      "print \"\\nThe Torque is %0.1f Nm\"%(T)#\n",
      "print \"\\nThe Torque per shoe is %0.1f Nm\"%(T1)#\n",
      "print \"\\nThe mass per shoe is %0.2f kg\"%(m)#\n",
      "print \"\\nThe length of friction lining is %0.5f m\"%(l)#\n",
      "print \"\\nThe width is %0.1f mm\"%(b)#"
     ],
     "language": "python",
     "metadata": {},
     "outputs": [
      {
       "output_type": "stream",
       "stream": "stdout",
       "text": [
        "\n",
        "The full speed is 146.6 rad/sec\n",
        "\n",
        "The engagement speed is 117.29 rad/sec\n",
        "\n",
        "The number of shoes is 4 \n",
        "\n",
        "The Torque is 272.8 Nm\n",
        "\n",
        "The Torque per shoe is 68.2 Nm\n",
        "\n",
        "The mass per shoe is 1.93 kg\n",
        "\n",
        "The length of friction lining is 0.16755 m\n",
        "\n",
        "The width is 115.7 mm\n"
       ]
      }
     ],
     "prompt_number": 21
    }
   ],
   "metadata": {}
  }
 ]
}