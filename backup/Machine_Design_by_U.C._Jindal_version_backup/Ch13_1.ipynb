{
 "cells": [
  {
   "cell_type": "markdown",
   "metadata": {},
   "source": [
    "# Ch:13 Cotter and knuckle joints"
   ]
  },
  {
   "cell_type": "markdown",
   "metadata": {},
   "source": [
    "## exa 13-1 - Page 371"
   ]
  },
  {
   "cell_type": "code",
   "execution_count": 1,
   "metadata": {
    "collapsed": false
   },
   "outputs": [
    {
     "name": "stdout",
     "output_type": "stream",
     "text": [
      " d is 26 mm     \n",
      "\n",
      " d1 is 32 mm     \n",
      "\n",
      " d2 is 44 mm     \n",
      "\n",
      " d3 is 64 mm     \n",
      "\n",
      " d4 is 40 mm     \n",
      "\n",
      " sigbc is 103.0 MPa     \n"
     ]
    }
   ],
   "source": [
    "from math import sqrt, pi\n",
    "F=25*10**3#\n",
    "sigat=50#\n",
    "Ta=40#\n",
    "pa=80#\n",
    "d=sqrt((4*F)/(pi*sigat))#\n",
    "d=26#\n",
    "t=d/4#\n",
    "t=7#\n",
    "d1=1.2*d#\n",
    "d1=32#\n",
    "pc=F/(d1*t)#\n",
    "t=10#\n",
    "c=0.75*d#\n",
    "c=20#\n",
    "d2=44#\n",
    "tw=(d2-d1)/2#\n",
    "b=F/(2*t*Ta)#\n",
    "b=34#\n",
    "a=0.5*d#\n",
    "d3=(F/(pa*t))+d1#\n",
    "d3=64#\n",
    "e=F/(Ta*(d3-d1))#\n",
    "d4=sqrt((F*4/(pi*pa))+d1**2)#\n",
    "d4=40#\n",
    "f=0.5*d#\n",
    "sigbc=3*F*d3/(t*b**2*4)#\n",
    "print \" d is %0.0f mm     \"%(d)#\n",
    "print \"\\n d1 is %0.0f mm     \"%(d1)#\n",
    "print \"\\n d2 is %0.0f mm     \"%(d2)#\n",
    "print \"\\n d3 is %0.0f mm     \"%(d3)#\n",
    "print \"\\n d4 is %0.0f mm     \"%(d4)#\n",
    "print \"\\n sigbc is %0.1f MPa     \"%(sigbc)#"
   ]
  },
  {
   "cell_type": "markdown",
   "metadata": {},
   "source": [
    "## exa 13-2 - Page 372"
   ]
  },
  {
   "cell_type": "code",
   "execution_count": 2,
   "metadata": {
    "collapsed": false
   },
   "outputs": [
    {
     "name": "stdout",
     "output_type": "stream",
     "text": [
      " d is 21 mm     \n",
      "\n",
      " d1 is 28 mm     \n",
      "\n",
      " t is 10 mm     \n",
      "\n",
      " b is 31 mm     \n",
      "\n",
      " d2 is 40 mm     \n",
      "\n",
      " L is 138 mm     \n"
     ]
    }
   ],
   "source": [
    "from math import sqrt, pi\n",
    "P=40*10**3#\n",
    "sigut=490#\n",
    "FOS=4#\n",
    "sigts=sigut/FOS#\n",
    "sigcs=1.4*sigts#\n",
    "sigs=0.8*sigts#\n",
    "d=sqrt((4*P)/(pi*sigts))#\n",
    "d=21#\n",
    "sigcc=1.4*330/4#\n",
    "Tc=0.8*330/4#\n",
    "t=d/3#\n",
    "b=P/(2*t*Tc)#\n",
    "b=31#\n",
    "t=10#\n",
    "d1=28#\n",
    "d2=40#\n",
    "c=d/2#\n",
    "c=15#\n",
    "a=P/(2*(d2-d1)*98)#\n",
    "a=20#\n",
    "L=(2*a)+(2*b)+(2*c)+(2*3)#\n",
    "print \" d is %0.0f mm     \"%(d)#\n",
    "print \"\\n d1 is %0.0f mm     \"%(d1)#\n",
    "print \"\\n t is %0.0f mm     \"%(t)#\n",
    "print \"\\n b is %0.0f mm     \"%(b)#\n",
    "print \"\\n d2 is %0.0f mm     \"%(d2)#\n",
    "print \"\\n L is %0.0f mm     \"%(L)#"
   ]
  },
  {
   "cell_type": "markdown",
   "metadata": {},
   "source": [
    "## exa 13-3 - Page 372"
   ]
  },
  {
   "cell_type": "code",
   "execution_count": 3,
   "metadata": {
    "collapsed": false
   },
   "outputs": [
    {
     "name": "stdout",
     "output_type": "stream",
     "text": [
      " a is 33 mm     \n",
      "\n",
      " t is 11 mm     \n",
      "\n",
      " t1 is 16 mm     \n",
      "\n",
      " b is 20 mm     \n",
      "\n",
      " b1 is 25 mm     \n",
      "\n",
      " l1 is 14 mm     \n",
      "\n",
      " l2 is 14 mm     \n",
      "\n",
      " l3 is 20 mm     \n",
      "\n",
      " l4 is 11 mm     \n",
      "\n",
      " sigcr is 110.0 MPa     \n",
      "\n",
      " sigcr1 is 113.0 MPa     \n"
     ]
    }
   ],
   "source": [
    "from math import sqrt, pi\n",
    "P=40*10**3#\n",
    "sigt=60#\n",
    "sigc=125#\n",
    "T=45#\n",
    "a=sqrt(P*3/(2*sigt))#\n",
    "a=33#\n",
    "t=a/3#\n",
    "b=P/(4.5*t*T)#\n",
    "b=20#\n",
    "b1=1.25*b#\n",
    "t1=P*3/(4*a*sigt)#\n",
    "t1=16#\n",
    "l2=P/(2*2*T*t1)#\n",
    "l2=14#\n",
    "l1=P/(2*a*T)#\n",
    "l1=14#\n",
    "l3=(0.6*a)#\n",
    "l3=20#\n",
    "l4=11#\n",
    "sigcr=P/(t*a)#\n",
    "sigcr1=P/(2*t1*t)#\n",
    "print \" a is %0.0f mm     \"%(a)#\n",
    "print \"\\n t is %0.0f mm     \"%(t)#\n",
    "print \"\\n t1 is %0.0f mm     \"%(t1)#\n",
    "print \"\\n b is %0.0f mm     \"%(b)#\n",
    "print \"\\n b1 is %0.0f mm     \"%(b1)#\n",
    "print \"\\n l1 is %0.0f mm     \"%(l1)#\n",
    "print \"\\n l2 is %0.0f mm     \"%(l2)#\n",
    "print \"\\n l3 is %0.0f mm     \"%(l3)#\n",
    "print \"\\n l4 is %0.0f mm     \"%(l4)#\n",
    "print \"\\n sigcr is %0.1f MPa     \"%(sigcr)#\n",
    "print \"\\n sigcr1 is %0.1f MPa     \"%(sigcr1)#"
   ]
  },
  {
   "cell_type": "markdown",
   "metadata": {},
   "source": [
    "## exa 13-4 - Page 373"
   ]
  },
  {
   "cell_type": "code",
   "execution_count": 4,
   "metadata": {
    "collapsed": false
   },
   "outputs": [
    {
     "name": "stdout",
     "output_type": "stream",
     "text": [
      " d is 30 mm     \n",
      "\n",
      " sigt is 52.1 MPa     \n",
      "\n",
      " b is 36 mm     \n"
     ]
    }
   ],
   "source": [
    "P=50*10**3#\n",
    "sigp=380#\n",
    "FOS=4#\n",
    "sigca=80#\n",
    "Ta=50#\n",
    "sigta=sigp/FOS#\n",
    "At=P/sigta#\n",
    "d=30#\n",
    "d1=1.5*d#\n",
    "t=P/(sigca*d1)#\n",
    "t=14#\n",
    "A=(pi*(d1**2)/4)-(d1*t)#\n",
    "#let tearing stress be sigt\n",
    "sigt=P/A#\n",
    "b=P/(2*t*Ta)#\n",
    "b=36#\n",
    "print \" d is %0.0f mm     \"%(d)#\n",
    "print \"\\n sigt is %0.1f MPa     \"%(sigt)#\n",
    "print \"\\n b is %0.0f mm     \"%(b)#\n",
    "  \n",
    "#The answer to tearing stress in bolt 'sigt' is calculated incorrectly in the book."
   ]
  }
 ],
 "metadata": {
  "kernelspec": {
   "display_name": "Python 2",
   "language": "python",
   "name": "python2"
  },
  "language_info": {
   "codemirror_mode": {
    "name": "ipython",
    "version": 2
   },
   "file_extension": ".py",
   "mimetype": "text/x-python",
   "name": "python",
   "nbconvert_exporter": "python",
   "pygments_lexer": "ipython2",
   "version": "2.7.9"
  }
 },
 "nbformat": 4,
 "nbformat_minor": 0
}
