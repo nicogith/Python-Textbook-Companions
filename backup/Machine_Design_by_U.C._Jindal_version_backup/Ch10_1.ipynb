{
 "cells": [
  {
   "cell_type": "markdown",
   "metadata": {},
   "source": [
    "# Ch:10 Pipes and pipe joints"
   ]
  },
  {
   "cell_type": "markdown",
   "metadata": {},
   "source": [
    "## exa 10-1 - Page 295"
   ]
  },
  {
   "cell_type": "code",
   "execution_count": 1,
   "metadata": {
    "collapsed": false
   },
   "outputs": [
    {
     "name": "stdout",
     "output_type": "stream",
     "text": [
      " t is 12.5 mm     \n"
     ]
    }
   ],
   "source": [
    "from math import sqrt\n",
    "sigta=140/2#\n",
    "nt=0.75#\n",
    "#Let the flow rate be Q\n",
    "Q=0.25#\n",
    "v=1.2#\n",
    "D=1.13*sqrt(Q/v)#\n",
    "D=520#\n",
    "p=0.7#\n",
    "C=9#\n",
    "t=(p*D)/(2*sigta*nt)+C#\n",
    "print \" t is %0.1f mm     \"%(t)#"
   ]
  },
  {
   "cell_type": "markdown",
   "metadata": {},
   "source": [
    "## exa 10-2 - Page 295"
   ]
  },
  {
   "cell_type": "code",
   "execution_count": 2,
   "metadata": {
    "collapsed": false
   },
   "outputs": [
    {
     "name": "stdout",
     "output_type": "stream",
     "text": [
      " Pr is 302.25 kN     \n",
      "\n",
      " D1 is 250 mm     \n",
      "\n",
      " D2 is 392.6 mm     \n",
      "\n",
      " CD is 252.6 mm     \n"
     ]
    }
   ],
   "source": [
    "from math import pi,sqrt\n",
    "p=3*8#\n",
    "sigta=60#\n",
    "d=150#\n",
    "t=d/2*sqrt(((sigta+p)/(sigta-p))-1)#\n",
    "t=75*sqrt((84/36)-1)#\n",
    "t=40#\n",
    "do=d+(2*t)#\n",
    "D=d+(2*t)+20#\n",
    "w=10#\n",
    "Ds=d+(2*w)#\n",
    "P=pi*(Ds**2)*8/4#\n",
    "sigp=310#\n",
    "FOS=4#\n",
    "sigb=77.5#\n",
    "At=P/(sigb*2)#\n",
    "At=1300#\n",
    "D=250#\n",
    "db=45#\n",
    "b=D#\n",
    "a=1.8*b#\n",
    "CD=D+(2*db*1.2)#\n",
    "sigp=310#\n",
    "Pr=0.75*sigp*At#\n",
    "Pr=Pr*10**-3#\n",
    "t=40#\n",
    "D1=d+(2*t)+20#\n",
    "D2=D1+(4.6*31)#\n",
    "CD=D2-((3*t)+20)#\n",
    "print \" Pr is %0.2f kN     \"%(Pr)#\n",
    "print \"\\n D1 is %0.0f mm     \"%(D1)#\n",
    "print \"\\n D2 is %0.1f mm     \"%(D2)#\n",
    "print \"\\n CD is %0.1f mm     \"%(CD)#"
   ]
  },
  {
   "cell_type": "markdown",
   "metadata": {},
   "source": [
    "## exa 10-3 - Page 296"
   ]
  },
  {
   "cell_type": "code",
   "execution_count": 3,
   "metadata": {
    "collapsed": false
   },
   "outputs": [
    {
     "name": "stdout",
     "output_type": "stream",
     "text": [
      " d is 50 mm     \n",
      "\n",
      " t is 10 mm     \n",
      "\n",
      " B is 127 mm     \n",
      "\n",
      " R is 22.5 mm     \n",
      "\n",
      " Y is 40.66 mm     \n",
      "\n",
      " tf is 44 mm     \n"
     ]
    }
   ],
   "source": [
    "from __future__ import division\n",
    "from math import sqrt,pi\n",
    "p=14#\n",
    "d=50#\n",
    "sigyp=270#\n",
    "FOS=3#\n",
    "sigta=sigyp/FOS#\n",
    "pt=2*p#\n",
    "t=d/2*sqrt(((sigta+pt)/(sigta-pt))-1)#\n",
    "t=10#\n",
    "D1=d+(2*t)#\n",
    "Ds=D1+20#\n",
    "P=pi*(Ds**2)*p/4#\n",
    "sigba=380/4#\n",
    "At=P/(4*sigba)#\n",
    "At=245#\n",
    "db=20#\n",
    "Dd=70+(2*20)+5#\n",
    "R=db+2.5#\n",
    "B=(Dd/sqrt(2))+(2*(db+2.5))#\n",
    "B=127#\n",
    "Y=Dd/(2*sqrt(2))#\n",
    "Rm=34.12#\n",
    "M=(P*Y/2)+(P*Rm/pi)#\n",
    "sigfa=250/5#\n",
    "b=127/70#\n",
    "Z=b/6#\n",
    "tf=sqrt(M/(sigfa*Z))#\n",
    "tf=44#\n",
    "print \" d is %0.0f mm     \"%(d)#\n",
    "print \"\\n t is %0.0f mm     \"%(t)#\n",
    "print \"\\n B is %0.0f mm     \"%(B)#\n",
    "print \"\\n R is %0.1f mm     \"%(R)#\n",
    "print \"\\n Y is %0.2f mm     \"%(Y)#\n",
    "print \"\\n tf is %0.0f mm     \"%(tf)#"
   ]
  },
  {
   "cell_type": "markdown",
   "metadata": {},
   "source": [
    "## exa 10-4 - Page 297"
   ]
  },
  {
   "cell_type": "code",
   "execution_count": 4,
   "metadata": {
    "collapsed": false
   },
   "outputs": [
    {
     "name": "stdout",
     "output_type": "stream",
     "text": [
      " D is 200 mm     \n",
      "\n",
      " t is 18 mm     \n",
      "\n",
      " Y is 18.5 mm     \n",
      "\n",
      " tf is 22 mm     \n",
      "\n",
      " Deff is 267 mm     \n"
     ]
    }
   ],
   "source": [
    "from math import tan,sqrt,pi\n",
    "p=1.25#\n",
    "D=200#\n",
    "nt=0.75#\n",
    "C=9#\n",
    "sigta=20#\n",
    "t=(p*D)/(2*sigta*nt)+C#\n",
    "t=18#\n",
    "D1=D+(2*t)#\n",
    "dr=D1+10#\n",
    "sigp=310#\n",
    "sigba=sigp/4#\n",
    "db=16#\n",
    "Db=dr+32+5#\n",
    "Do=Db+(2*db)#\n",
    "P=pi*(251+db)**2*1.25/4#\n",
    "n=6#\n",
    "Y=(Db-dr)/2#\n",
    "M=P/n*Y#\n",
    "Z=dr*tan(30*pi/180)/6#\n",
    "tf=sqrt(M/(sigta*Z))#\n",
    "tf=22#\n",
    "Deff=dr+db+5#\n",
    "print \" D is %0.0f mm     \"%(D)#\n",
    "print \"\\n t is %0.0f mm     \"%(t)#\n",
    "print \"\\n Y is %0.1f mm     \"%(Y)#\n",
    "print \"\\n tf is %0.0f mm     \"%(tf)#\n",
    "print \"\\n Deff is %0.0f mm     \"%(Deff)#"
   ]
  }
 ],
 "metadata": {
  "kernelspec": {
   "display_name": "Python 2",
   "language": "python",
   "name": "python2"
  },
  "language_info": {
   "codemirror_mode": {
    "name": "ipython",
    "version": 2
   },
   "file_extension": ".py",
   "mimetype": "text/x-python",
   "name": "python",
   "nbconvert_exporter": "python",
   "pygments_lexer": "ipython2",
   "version": "2.7.9"
  }
 },
 "nbformat": 4,
 "nbformat_minor": 0
}
