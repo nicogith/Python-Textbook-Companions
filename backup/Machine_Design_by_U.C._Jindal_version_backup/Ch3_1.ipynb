{
 "cells": [
  {
   "cell_type": "markdown",
   "metadata": {},
   "source": [
    "# Ch : 3 Mechanics of solids"
   ]
  },
  {
   "cell_type": "markdown",
   "metadata": {},
   "source": [
    "## exa 3-1 - Page 72"
   ]
  },
  {
   "cell_type": "code",
   "execution_count": 8,
   "metadata": {
    "collapsed": false
   },
   "outputs": [
    {
     "name": "stdout",
     "output_type": "stream",
     "text": [
      " sigi is 146.37 N/mm**2     \n",
      "\n",
      " deli is 1.05 mm     \n",
      "\n",
      " siggradual is 1.50 N/mm**2     \n"
     ]
    }
   ],
   "source": [
    "from math import pi, sqrt\n",
    "d=10 \n",
    "l=1500 \n",
    "m=12 \n",
    "h=50 \n",
    "E=210*10**3 \n",
    "sigut=450 \n",
    "A=pi*d**2/4 \n",
    "W=m*9.81 \n",
    "sigi=W/A*(1+sqrt(1+(2*E*A*h)/(W*l))) \n",
    "deli=sigi*l/E \n",
    "siggradual=W/A \n",
    "sigsudden=2*siggradual \n",
    "print \" sigi is %0.2f N/mm**2     \"%(sigi) \n",
    "print \"\\n deli is %0.2f mm     \"%(deli) \n",
    "print \"\\n siggradual is %0.2f N/mm**2     \"%(siggradual) \n",
    "\n",
    "# The difference in the answer of sigi and siggradual is due to round-off errors."
   ]
  },
  {
   "cell_type": "markdown",
   "metadata": {},
   "source": [
    "## exa 3-2 - Page 73"
   ]
  },
  {
   "cell_type": "code",
   "execution_count": 9,
   "metadata": {
    "collapsed": false
   },
   "outputs": [
    {
     "name": "stdout",
     "output_type": "stream",
     "text": [
      "del is 16.42 mm     \n"
     ]
    }
   ],
   "source": [
    "from math import pi, sqrt\n",
    "d=5 \n",
    "A=pi*d**2/4 \n",
    "l=100*10**3 \n",
    "W=600 \n",
    "E=210*10**3 \n",
    "w=0.0784*10**-3 \n",
    "del1=W*l/(A*E) \n",
    "del2=w*l**2/(2*E) \n",
    "Del=del1+del2 \n",
    "print \"del is %0.2f mm     \"%(Del) "
   ]
  },
  {
   "cell_type": "markdown",
   "metadata": {},
   "source": [
    "## exa 3-3 - Page 73"
   ]
  },
  {
   "cell_type": "code",
   "execution_count": 10,
   "metadata": {
    "collapsed": false
   },
   "outputs": [
    {
     "name": "stdout",
     "output_type": "stream",
     "text": [
      "del is 69.41 N/mm**2     \n"
     ]
    }
   ],
   "source": [
    "from math import pi, sqrt\n",
    "m=25 \n",
    "v=3 \n",
    "E=210*10**3 \n",
    "KE=0.5*m*v**2 \n",
    "d=30 \n",
    "L=2000 \n",
    "A=pi*d**2/4 \n",
    "U=A*L/(2*E) \n",
    "Del=4*10**-5*A \n",
    "W=A*Del \n",
    "sigi=sqrt(KE*10**3/(W+U)) \n",
    "print \"del is %0.2f N/mm**2     \"%(sigi) "
   ]
  },
  {
   "cell_type": "markdown",
   "metadata": {},
   "source": [
    "## exa 3-4 - Page 74"
   ]
  },
  {
   "cell_type": "code",
   "execution_count": 11,
   "metadata": {
    "collapsed": false
   },
   "outputs": [
    {
     "name": "stdout",
     "output_type": "stream",
     "text": [
      "sigmax1 is 62.96 N/mm**2     \n",
      "\n",
      "sigmax2 is 55.56 N/mm**2     \n"
     ]
    }
   ],
   "source": [
    "P=40*10**3 \n",
    "A=60*18 \n",
    "sig=P/A \n",
    "r1=12 \n",
    "b1=60 \n",
    "SCF1=1.7 \n",
    "sigmax1=sig*SCF1 \n",
    "r2=24 \n",
    "b2=60 \n",
    "SCF2=1.5 \n",
    "sigmax2=sig*SCF2 \n",
    "print \"sigmax1 is %0.2f N/mm**2     \"%(sigmax1) \n",
    "print \"\\nsigmax2 is %0.2f N/mm**2     \"%(sigmax2) "
   ]
  },
  {
   "cell_type": "markdown",
   "metadata": {},
   "source": [
    "## exa 3-5 - Page 75"
   ]
  },
  {
   "cell_type": "code",
   "execution_count": 12,
   "metadata": {
    "collapsed": false
   },
   "outputs": [
    {
     "name": "stdout",
     "output_type": "stream",
     "text": [
      "sigt is 33.87 N/mm**2     \n",
      "\n",
      "sigb is 52.26 N/mm**2     \n"
     ]
    }
   ],
   "source": [
    "from math import pi, sqrt\n",
    "p=2.4 \n",
    "#Let axial movement of nut be La\n",
    "La=p*45/360 \n",
    "d=20 \n",
    "D=30 \n",
    "L=500 \n",
    "d1=18 \n",
    "As=pi*d1**2/4 \n",
    "Ac=pi*(D**2-d**2)/4 \n",
    "sigt=120/(3.543) \n",
    "sigb=1.543*sigt \n",
    "print \"sigt is %0.2f N/mm**2     \"%(sigt) \n",
    "print \"\\nsigb is %0.2f N/mm**2     \"%(sigb) "
   ]
  },
  {
   "cell_type": "markdown",
   "metadata": {},
   "source": [
    "## exa 3-6 - Page 76"
   ]
  },
  {
   "cell_type": "code",
   "execution_count": 13,
   "metadata": {
    "collapsed": false
   },
   "outputs": [
    {
     "name": "stdout",
     "output_type": "stream",
     "text": [
      " P is 162.73 kN     \n",
      "\n",
      " delL is 0.38 mm     \n"
     ]
    }
   ],
   "source": [
    "from __future__ import division\n",
    "delT=100 \n",
    "ab=18*10**-6 \n",
    "aa=23*10**-6 \n",
    "delta=(360*ab*delT)+(450*aa*delT) \n",
    "lc=delta-0.6 \n",
    "Ea=70*10**3 \n",
    "Eb=105*10**3 \n",
    "Aa=1600 \n",
    "Ab=1300 \n",
    "P=lc/((360/(Ab*Eb))+(450/(Aa*Ea))) \n",
    "P=P*10**-3 \n",
    "#Let the change in length be delL\n",
    "delL=(aa*450*delT)-(P*10**3*450/(Aa*Ea)) \n",
    "print \" P is %0.2f kN     \"%(P) \n",
    "print \"\\n delL is %0.2f mm     \"%(delL) \n",
    "  \n",
    "# The difference in the answer of delL is due to round-off errors."
   ]
  },
  {
   "cell_type": "markdown",
   "metadata": {},
   "source": [
    "## exa 3-7 - Page 77"
   ]
  },
  {
   "cell_type": "code",
   "execution_count": 14,
   "metadata": {
    "collapsed": false
   },
   "outputs": [
    {
     "name": "stdout",
     "output_type": "stream",
     "text": [
      "delT is 68.12 degC     \n"
     ]
    }
   ],
   "source": [
    "a=23*10**-6 \n",
    "E=70*10**3 \n",
    "l=750 \n",
    "sig=35 \n",
    "delT=((sig*l/E)+0.8)/(l*a) \n",
    "print \"delT is %0.2f degC     \"%(delT) "
   ]
  },
  {
   "cell_type": "markdown",
   "metadata": {},
   "source": [
    "## exa 3-8 - Page 78"
   ]
  },
  {
   "cell_type": "code",
   "execution_count": 15,
   "metadata": {
    "collapsed": false
   },
   "outputs": [
    {
     "name": "stdout",
     "output_type": "stream",
     "text": [
      " Stress on plane AB is 14.00 MPa     \n",
      "\n",
      " Stress on plane AB is 49.50 MPa     \n",
      "\n",
      " Principal stress p1 is 70.00 MPa     \n",
      "\n",
      " Principal stress p2 is -30.00 MPa     \n",
      "\n",
      " Principal angle theta1 is -18.50 deg     \n",
      "\n",
      " Principal angle theta2 is 71.50 deg     \n",
      "\n",
      " Maximum shear stress is 50.00 MPa     \n",
      "\n",
      " Direction of plane theta3 is 26.50 deg     \n",
      "\n",
      " Direction of plane theta4 is 116.50 deg     \n"
     ]
    }
   ],
   "source": [
    "OA=60 \n",
    "AB=30 \n",
    "OC=-20 \n",
    "CD=-30 \n",
    "theta=30 \n",
    "angBEK=2*theta \n",
    "OM=14 \n",
    "KM=49.5 \n",
    "p1=70 \n",
    "p2=-30 \n",
    "angBEH=-37 \n",
    "angBEI=143 \n",
    "theta1=angBEH/2 \n",
    "theta2=angBEI/2 \n",
    "Tmax=50 \n",
    "angBEL=53 \n",
    "angBEN=233 \n",
    "theta3=angBEL/2 \n",
    "theta4=angBEN/2 \n",
    "print \" Stress on plane AB is %0.2f MPa     \"%(OM) \n",
    "print \"\\n Stress on plane AB is %0.2f MPa     \"%(KM) \n",
    "print \"\\n Principal stress p1 is %0.2f MPa     \"%(p1) \n",
    "print \"\\n Principal stress p2 is %0.2f MPa     \"%(p2) \n",
    "print \"\\n Principal angle theta1 is %0.2f deg     \"%(theta1) \n",
    "print \"\\n Principal angle theta2 is %0.2f deg     \"%(theta2) \n",
    "print \"\\n Maximum shear stress is %0.2f MPa     \"%(Tmax) \n",
    "print \"\\n Direction of plane theta3 is %0.2f deg     \"%(theta3) \n",
    "print \"\\n Direction of plane theta4 is %0.2f deg     \"%(theta4) \n",
    "\n",
    "#The answers in the book are written in form of degrees and minutes."
   ]
  },
  {
   "cell_type": "markdown",
   "metadata": {},
   "source": [
    "## exa 3-9 - Page 78"
   ]
  },
  {
   "cell_type": "code",
   "execution_count": 16,
   "metadata": {
    "collapsed": false
   },
   "outputs": [
    {
     "name": "stdout",
     "output_type": "stream",
     "text": [
      "p1 is 121.76 MN/mm**2     \n",
      "\n",
      " p2 is -76.69 MN/mm**2     \n"
     ]
    }
   ],
   "source": [
    "E=200*10**3 \n",
    "v=0.29 \n",
    "E1=720*10**-6 \n",
    "E2=560*10**-6 \n",
    "p1=121.76 \n",
    "p2=-76.69 \n",
    "print \"p1 is %0.2f MN/mm**2     \"%(p1) \n",
    "print \"\\n p2 is %0.2f MN/mm**2     \"%(p2) "
   ]
  },
  {
   "cell_type": "markdown",
   "metadata": {},
   "source": [
    "## exa 3-10 - Page 79"
   ]
  },
  {
   "cell_type": "code",
   "execution_count": 17,
   "metadata": {
    "collapsed": false
   },
   "outputs": [
    {
     "name": "stdout",
     "output_type": "stream",
     "text": [
      "v is 0.3136     \n",
      "\n",
      "E is 99.837 kN/mm**2     \n"
     ]
    }
   ],
   "source": [
    "from math import pi, sqrt\n",
    "G=38*10**3 \n",
    "d=10 \n",
    "P=5*10**3 \n",
    "A=pi*d**2/4 \n",
    "sig=P/A \n",
    "deld=0.0002 \n",
    "#Let the lateral strain be E1\n",
    "E1=deld/d \n",
    "v=2*deld*G/(sig-(2*deld*G)) \n",
    "E=2*G*(1+v)*10**-3 \n",
    "print \"v is %0.4f     \"%(v) \n",
    "print \"\\nE is %0.3f kN/mm**2     \"%(E) "
   ]
  },
  {
   "cell_type": "markdown",
   "metadata": {},
   "source": [
    "## exa 3-11 - Page 79"
   ]
  },
  {
   "cell_type": "code",
   "execution_count": 18,
   "metadata": {
    "collapsed": false
   },
   "outputs": [
    {
     "name": "stdout",
     "output_type": "stream",
     "text": [
      "t is 12.0 mm    \n"
     ]
    }
   ],
   "source": [
    "D=1500 \n",
    "p=1.2 \n",
    "sigt=100 \n",
    "sigc=p*D/2 \n",
    "siga=p*D/4 \n",
    "P=sigc*2*10**3 \n",
    "n=0.75 \n",
    "t=sigc/(n*sigt) \n",
    "print \"t is %0.1f mm    \"%(t) "
   ]
  },
  {
   "cell_type": "markdown",
   "metadata": {},
   "source": [
    "## exa 3-12 - Page 80"
   ]
  },
  {
   "cell_type": "code",
   "execution_count": 19,
   "metadata": {
    "collapsed": false
   },
   "outputs": [
    {
     "name": "stdout",
     "output_type": "stream",
     "text": [
      "sigw is 64.52 N/mm**2    \n"
     ]
    }
   ],
   "source": [
    "D=50 \n",
    "t=1.25 \n",
    "d=0.5 \n",
    "n=1/d \n",
    "p=1.5 \n",
    "siga=p*D/(4*t) \n",
    "sigc=20.27 \n",
    "sigw=sigc/0.31416 \n",
    "print \"sigw is %0.2f N/mm**2    \"%(sigw) "
   ]
  },
  {
   "cell_type": "markdown",
   "metadata": {},
   "source": [
    "## exa 3-13 - Page 81"
   ]
  },
  {
   "cell_type": "code",
   "execution_count": 20,
   "metadata": {
    "collapsed": false
   },
   "outputs": [
    {
     "name": "stdout",
     "output_type": "stream",
     "text": [
      "t is 50.0 mm    \n"
     ]
    }
   ],
   "source": [
    "from math import pi, sqrt\n",
    "R1=50 \n",
    "p=75 \n",
    "pmax=125 \n",
    "R2=sqrt((pmax+p)*R1**2/(pmax-p)) \n",
    "t=R2-R1 \n",
    "print \"t is %0.1f mm    \"%(t) "
   ]
  },
  {
   "cell_type": "markdown",
   "metadata": {},
   "source": [
    "## exa 3-14 - Page 82"
   ]
  },
  {
   "cell_type": "code",
   "execution_count": 21,
   "metadata": {
    "collapsed": false
   },
   "outputs": [
    {
     "name": "stdout",
     "output_type": "stream",
     "text": [
      "Fa is 13.52 kN    \n"
     ]
    }
   ],
   "source": [
    "from math import pi, sqrt\n",
    "R1=40 \n",
    "R2=60 \n",
    "B=50 \n",
    "E=210*10**3 \n",
    "e=41*10**-6 \n",
    "sig=2*R1**2/(R2**2-R1**2) \n",
    "p=E*e/sig \n",
    "Fr=p*2*pi*R1*B \n",
    "u=0.2 \n",
    "Fa=u*Fr*10**-3 \n",
    "print \"Fa is %0.2f kN    \"%(Fa) "
   ]
  },
  {
   "cell_type": "markdown",
   "metadata": {},
   "source": [
    "## exa 3-15 - Page 83"
   ]
  },
  {
   "cell_type": "code",
   "execution_count": 22,
   "metadata": {
    "collapsed": false
   },
   "outputs": [
    {
     "name": "stdout",
     "output_type": "stream",
     "text": [
      "W is 1.333 kN    \n"
     ]
    }
   ],
   "source": [
    "a1=10*1.5 \n",
    "x1=15-0.75 \n",
    "a2=1.5*(15-1.5) \n",
    "x2=(15-1.5)/2 \n",
    "y1=((a1*x1)+(a2*x2))/(a1+a2) \n",
    "y2=a1-y1 \n",
    "Ixx=(10*1.5**3)/12+(10*1.5*(5.06-1.5/2)**2)+(1.5*13.5**3/12)+(1.5*13.5*(9.94-6.75)**2) \n",
    "Z1=Ixx/y1 \n",
    "Z2=Ixx/y2 \n",
    "L=3 \n",
    "sigc=50 \n",
    "W=sigc*Z1/L*10**-3 \n",
    "print \"W is %0.3f kN    \"%(W) "
   ]
  },
  {
   "cell_type": "markdown",
   "metadata": {},
   "source": [
    "## exa 3-16 - Page 83"
   ]
  },
  {
   "cell_type": "code",
   "execution_count": 23,
   "metadata": {
    "collapsed": false
   },
   "outputs": [
    {
     "name": "stdout",
     "output_type": "stream",
     "text": [
      "M is 46.410 Nm    \n"
     ]
    }
   ],
   "source": [
    "from math import pi, sqrt\n",
    "D=22 \n",
    "d=20 \n",
    "r=1 \n",
    "K=2.2 \n",
    "sigmax=130 \n",
    "sigmax=sigmax/K \n",
    "Z=pi*d**3/32 \n",
    "M=sigmax*Z*10**-3 \n",
    "print \"M is %0.3f Nm    \"%(M) "
   ]
  },
  {
   "cell_type": "markdown",
   "metadata": {},
   "source": [
    "## exa 3-17 - Page 84"
   ]
  },
  {
   "cell_type": "code",
   "execution_count": 24,
   "metadata": {
    "collapsed": false
   },
   "outputs": [
    {
     "name": "stdout",
     "output_type": "stream",
     "text": [
      "Z1/Zr is 4.84     \n",
      "\n",
      "sigmax is 41.33 N/mm**2    \n"
     ]
    }
   ],
   "source": [
    "from math import pi, sqrt\n",
    "A=(12*2)+(12*2)+(30-4) \n",
    "B=sqrt(A/2) \n",
    "D=2*B \n",
    "B1=12 \n",
    "D1=30 \n",
    "d=26 \n",
    "b=1 \n",
    "Z1=((B1*D1**3)-((B1-b)*d**3))/(B1*D1/2) \n",
    "Zr=B*D**2/6 \n",
    "#Let the ratio of both the sections be x\n",
    "x=Z1/Zr \n",
    "M=30*10**6 \n",
    "sigmax=M/(Z1*10**3) \n",
    "print \"Z1/Zr is %0.2f     \"%(x) \n",
    "print \"\\nsigmax is %0.2f N/mm**2    \"%(sigmax) "
   ]
  },
  {
   "cell_type": "markdown",
   "metadata": {},
   "source": [
    "## exa 3-19 - Page 85"
   ]
  },
  {
   "cell_type": "code",
   "execution_count": 25,
   "metadata": {
    "collapsed": false
   },
   "outputs": [
    {
     "name": "stdout",
     "output_type": "stream",
     "text": [
      "P is 49.38 kN    \n"
     ]
    }
   ],
   "source": [
    "from math import pi, sqrt\n",
    "x1=((13*3*1.5)+(2*15*8))/(39+30) \n",
    "x2=13-x1 \n",
    "A=30+39 \n",
    "E=2*10**7 \n",
    "Iyy=995.66 \n",
    "e=54.32 \n",
    "x=x2-3 \n",
    "sigb=e*x/Iyy \n",
    "sigd=1/69 \n",
    "sigr=sigd+sigb \n",
    "#Let the strain be E1\n",
    "E1=800*10**-6 \n",
    "P=E1*E/sigr \n",
    "P=P*10**-3 \n",
    "print \"P is %0.2f kN    \"%(P) "
   ]
  },
  {
   "cell_type": "markdown",
   "metadata": {},
   "source": [
    "## exa 3-20 - Page 86"
   ]
  },
  {
   "cell_type": "code",
   "execution_count": 26,
   "metadata": {
    "collapsed": false
   },
   "outputs": [
    {
     "name": "stdout",
     "output_type": "stream",
     "text": [
      "sigmax is 607.24 kN/m**2    \n",
      "\n",
      "sigmin is 232.76 kN/m**2    \n"
     ]
    }
   ],
   "source": [
    "from math import pi, sqrt\n",
    "H=20 \n",
    "D=5 \n",
    "d=3 \n",
    "rho=21 \n",
    "sigd=rho*H \n",
    "p=2 \n",
    "A=D*H \n",
    "P=p*A \n",
    "M=P*H/2 \n",
    "Z=pi*(D**4-d**4)/(32*D) \n",
    "sigb=M/Z \n",
    "sigmax=420+sigb \n",
    "sigmin=420-sigb \n",
    "print \"sigmax is %0.2f kN/m**2    \"%(sigmax) \n",
    "print \"\\nsigmin is %0.2f kN/m**2    \"%(sigmin) "
   ]
  },
  {
   "cell_type": "markdown",
   "metadata": {},
   "source": [
    "## exa 3-21 - Page 87"
   ]
  },
  {
   "cell_type": "code",
   "execution_count": 27,
   "metadata": {
    "collapsed": false
   },
   "outputs": [
    {
     "name": "stdout",
     "output_type": "stream",
     "text": [
      " T1 is 105.63 N/mm**2    \n",
      "\n",
      " theta is 4.92 deg    \n",
      "\n",
      " Tr is 70.42 N/mm**2    \n"
     ]
    }
   ],
   "source": [
    "from math import pi, sqrt\n",
    "D=30 \n",
    "R=15 \n",
    "T=0.56*10**6 \n",
    "G=82*10**3 \n",
    "J=pi*R**4/2 \n",
    "T1=T*R/J \n",
    "l=1000 \n",
    "theta=T*l/(G*J)*180/pi \n",
    "r=10 \n",
    "Tr=T1*r/R \n",
    "print \" T1 is %0.2f N/mm**2    \"%(T1) \n",
    "print \"\\n theta is %0.2f deg    \"%(theta) \n",
    "print \"\\n Tr is %0.2f N/mm**2    \"%(Tr) "
   ]
  },
  {
   "cell_type": "markdown",
   "metadata": {},
   "source": [
    "## exa 3-22 - Page 87"
   ]
  },
  {
   "cell_type": "code",
   "execution_count": 28,
   "metadata": {
    "collapsed": false
   },
   "outputs": [
    {
     "name": "stdout",
     "output_type": "stream",
     "text": [
      " Ts1 is 34.796 N/mm**2    \n",
      "\n",
      " Tc1 is 23.9 N/mm**2    \n",
      "\n",
      " theta/length is 0.623 deg/m    \n",
      "\n",
      " Ts2 is 17.398 N/mm**2    \n",
      "\n",
      " Tc2 is 11.96 N/mm**2    \n"
     ]
    }
   ],
   "source": [
    "from math import pi, sqrt\n",
    "T=8*10**3 \n",
    "d=80 \n",
    "D=110 \n",
    "l=2000 \n",
    "Gst=80*10**3 \n",
    "Gcop=Gst/2 \n",
    "Js=pi*d**4/32 \n",
    "Jc=pi*(D**4-d**4)/32 \n",
    "#Ts=0.777*Tc\n",
    "Tc=T/1.777*10**3 \n",
    "Ts=0.777*Tc \n",
    "Ts1=Ts/Js*d/2 \n",
    "Tc1=Tc/Jc*D/2 \n",
    "#Let tl be Angular twist per unit length\n",
    "tl=Ts*10**3/(Js*Gst)*180/pi \n",
    "# Let the maximum stress developed when the Torque is acting in the centre of the shaft be Ts2 & Tc2 resp. for steel and copper\n",
    "Ts2=Ts1/2 \n",
    "Tc2=Tc1/2 \n",
    "print \" Ts1 is %0.3f N/mm**2    \"%(Ts1) \n",
    "print \"\\n Tc1 is %0.1f N/mm**2    \"%(Tc1) \n",
    "print \"\\n theta/length is %0.3f deg/m    \"%(tl) \n",
    "print \"\\n Ts2 is %0.3f N/mm**2    \"%(Ts2) \n",
    "print \"\\n Tc2 is %0.2f N/mm**2    \"%(Tc2) "
   ]
  },
  {
   "cell_type": "markdown",
   "metadata": {},
   "source": [
    "## exa 3-23 - Page 88"
   ]
  },
  {
   "cell_type": "code",
   "execution_count": 29,
   "metadata": {
    "collapsed": false
   },
   "outputs": [
    {
     "name": "stdout",
     "output_type": "stream",
     "text": [
      "Tmax is 6.235 MPa    \n"
     ]
    }
   ],
   "source": [
    "from math import pi, sqrt\n",
    "D=100 \n",
    "d=75 \n",
    "r=6 \n",
    "K=1.45 \n",
    "P=20*746 \n",
    "N=400 \n",
    "w=2*pi*N/60 \n",
    "T=P/w \n",
    "Ts=16*T*10**3/(pi*d**3) \n",
    "Tmax=K*Ts \n",
    "print \"Tmax is %0.3f MPa    \"%(Tmax) "
   ]
  },
  {
   "cell_type": "markdown",
   "metadata": {},
   "source": [
    "## exa 3-24 - Page 88"
   ]
  },
  {
   "cell_type": "code",
   "execution_count": 30,
   "metadata": {
    "collapsed": false
   },
   "outputs": [
    {
     "name": "stdout",
     "output_type": "stream",
     "text": [
      "d is 21.0 mm    \n"
     ]
    }
   ],
   "source": [
    "from math import pi, sqrt\n",
    "G=84*10**3 \n",
    "T=28*10**3 \n",
    "l=1000 \n",
    "theta=pi/180 \n",
    "J=T*l/(G*theta) \n",
    "d=(J*32/pi)**(1/4) \n",
    "print \"d is %0.1f mm    \"%(d) "
   ]
  },
  {
   "cell_type": "markdown",
   "metadata": {},
   "source": [
    "## exa 3-25 - Page 89"
   ]
  },
  {
   "cell_type": "code",
   "execution_count": 31,
   "metadata": {
    "collapsed": false
   },
   "outputs": [
    {
     "name": "stdout",
     "output_type": "stream",
     "text": [
      "d is 280.5 mm    \n"
     ]
    }
   ],
   "source": [
    "from math import pi, sqrt\n",
    "P=2*10**6 \n",
    "N=200 \n",
    "w=2*pi*N/60 \n",
    "Tm=P/w \n",
    "W=5*10**3*9.81 \n",
    "l=1800 \n",
    "Mmax=W*l/4 \n",
    "Tmax=1.8*Tm*10**3 \n",
    "Me=(Mmax+sqrt(Mmax**2+Tmax**2))/2 \n",
    "Te=sqrt(Mmax**2+Tmax**2) \n",
    "sig=60 \n",
    "Ts=40 \n",
    "d1=(32*Me/(pi*sig))**(1/3) \n",
    "d2=(16*Te/(pi*Ts))**(1/3) \n",
    "print \"d is %0.1f mm    \"%(d2) "
   ]
  },
  {
   "cell_type": "markdown",
   "metadata": {},
   "source": [
    "## exa 3-26 - Page 90"
   ]
  },
  {
   "cell_type": "code",
   "execution_count": 32,
   "metadata": {
    "collapsed": false
   },
   "outputs": [
    {
     "name": "stdout",
     "output_type": "stream",
     "text": [
      " d1 is 11.38 mm    \n",
      "\n",
      " d2 is 12.3 mm    \n",
      "\n",
      " d3 is 11.74 mm    \n"
     ]
    }
   ],
   "source": [
    "from math import pi, sqrt\n",
    "Q=4*10**3 \n",
    "P=8*10**3 \n",
    "sig=P \n",
    "T=Q \n",
    "p1=(sig/2+sqrt((sig/2)**2+T**2)) \n",
    "p2=(sig/2-sqrt((sig/2)**2+T**2)) \n",
    "sigyp=285 \n",
    "FOS=3 \n",
    "siga=sigyp/3 \n",
    "A1=p1/siga \n",
    "d1=sqrt(4*A1/pi) \n",
    "A2=(p1-p2)*2/(siga*2) \n",
    "d2=sqrt(4*A2/pi) \n",
    "v=0.3 \n",
    "A3=sqrt(p1**2+p2**2-(2*v*p1*p2))/siga \n",
    "d3=sqrt(4*A3/pi) \n",
    "print \" d1 is %0.2f mm    \"%(d1) \n",
    "print \"\\n d2 is %0.1f mm    \"%(d2) \n",
    "print \"\\n d3 is %0.2f mm    \"%(d3) "
   ]
  },
  {
   "cell_type": "markdown",
   "metadata": {},
   "source": [
    "## exa 3-27 - Page 91"
   ]
  },
  {
   "cell_type": "code",
   "execution_count": 33,
   "metadata": {
    "collapsed": false
   },
   "outputs": [
    {
     "name": "stdout",
     "output_type": "stream",
     "text": [
      "The component is safe\n",
      "\n",
      "Tmax is 117.4 MPa    \n"
     ]
    }
   ],
   "source": [
    "from math import pi, sqrt\n",
    "sigx=-105 \n",
    "Txy=105 \n",
    "sigy=270 \n",
    "p1=(sigx/2+sqrt((sigx/2)**2+Txy**2)) \n",
    "p2=(sigx/2-sqrt((sigx/2)**2+Txy**2)) \n",
    "p3=0 \n",
    "Tmax=(p1-p2)/2 \n",
    "siga=sigy/2 \n",
    "if (Tmax<=siga) :\n",
    "    print \"The component is safe\"\n",
    "print \"\\nTmax is %0.1f MPa    \"%(Tmax) "
   ]
  },
  {
   "cell_type": "markdown",
   "metadata": {},
   "source": [
    "## exa 3-28 - Page 91"
   ]
  },
  {
   "cell_type": "code",
   "execution_count": 34,
   "metadata": {
    "collapsed": false
   },
   "outputs": [
    {
     "name": "stdout",
     "output_type": "stream",
     "text": [
      "N is 1324.249 rpm    \n"
     ]
    }
   ],
   "source": [
    "from math import pi, sqrt\n",
    "rho=0.0078*9.81*10**-6 \n",
    "sigc=150 \n",
    "g=9.81 \n",
    "V=sqrt(sigc*g/rho)*10**-3 \n",
    "R=1 \n",
    "w=V/R \n",
    "N=w*60/(2*pi) \n",
    "print \"N is %0.3f rpm    \"%(N) "
   ]
  },
  {
   "cell_type": "markdown",
   "metadata": {},
   "source": [
    "## exa 3-29 - Page 92"
   ]
  },
  {
   "cell_type": "code",
   "execution_count": 35,
   "metadata": {
    "collapsed": false
   },
   "outputs": [
    {
     "data": {
      "image/png": "[encoded data removed]",
      "text/plain": [
       "<matplotlib.figure.Figure at 0x7feb0a76e790>"
      ]
     },
     "metadata": {},
     "output_type": "display_data"
    },
    {
     "name": "stdout",
     "output_type": "stream",
     "text": [
      "sigrmax is 28.4 MPa  \n"
     ]
    }
   ],
   "source": [
    "from math import pi, sqrt\n",
    "%matplotlib inline\n",
    "from matplotlib.pyplot import plot, xlabel, ylabel, show, grid\n",
    "\n",
    "R1=50 \n",
    "R2=200 \n",
    "N=6*10**3 \n",
    "w=2*pi*N/60 \n",
    "v=0.28 \n",
    "rho=7800*10**-9 \n",
    "g=9810 \n",
    "k1=(3+v)/8 \n",
    "k2=(1+(3*v))/8 \n",
    "W=rho*9.81 \n",
    "x=k1*w**2*W*(R1**2+R2**2)/g \n",
    "y=k1*w**2*W*(R1*R2)**2/g \n",
    "y1=k1*w**2*W/g \n",
    "z=k2*w**2*W/g \n",
    "r=sqrt(R1*R2) \n",
    "sigrmax=x-(y/r**2)-(r**2*y1) \n",
    "r=range(50,201)\n",
    "n=len(r) \n",
    "sigr = range(0,n)\n",
    "for i in range(0,n):\n",
    "    sigr[i]=x-(y/r[i]**2)-(r[i]**2*y1)\n",
    "\n",
    "sigc = range(0,n)\n",
    "for j in range(0,n):\n",
    "    sigc[j]=y/r[j]**2-(r[j]**2*z)\n",
    "\n",
    "plot(r,sigr) \n",
    "plot (r,sigc) \n",
    "xlabel('r in mm') \n",
    "ylabel('stress in N/mm**2') \n",
    "grid()\n",
    "show()\n",
    "print \"sigrmax is %0.1f MPa  \"%(sigrmax) "
   ]
  },
  {
   "cell_type": "markdown",
   "metadata": {},
   "source": [
    "## exa 3-30 - Page 93"
   ]
  },
  {
   "cell_type": "code",
   "execution_count": 36,
   "metadata": {
    "collapsed": false
   },
   "outputs": [
    {
     "name": "stdout",
     "output_type": "stream",
     "text": [
      "t is 2.923 mm  \n"
     ]
    }
   ],
   "source": [
    "from numpy import exp\n",
    "r=500 \n",
    "to=15 \n",
    "N=3500 \n",
    "w=2*pi*N/60 \n",
    "sig=80 \n",
    "w1=0.07644*10**-3 \n",
    "g=9810 \n",
    "a=w1*w**2*r**2/(2*sig*g) \n",
    "t=to*exp(-a) \n",
    "print \"t is %0.3f mm  \"%(t) "
   ]
  },
  {
   "cell_type": "markdown",
   "metadata": {},
   "source": [
    "## exa 3-31 - Page 93"
   ]
  },
  {
   "cell_type": "code",
   "execution_count": 37,
   "metadata": {
    "collapsed": false
   },
   "outputs": [
    {
     "name": "stdout",
     "output_type": "stream",
     "text": [
      "sigB is 61.5 MPa     \n",
      "\n",
      "sigA is 36 MPa     \n"
     ]
    }
   ],
   "source": [
    "from numpy import log\n",
    "M=60*10**3 \n",
    "y1=((5*1*2.5)+(6*1*5.5))/(5+6) \n",
    "y2=6-y1 \n",
    "R=12 \n",
    "R1=R-y2 \n",
    "R1=10.136\n",
    "R2=11.136 \n",
    "R3=R1+6 \n",
    "B=6 \n",
    "b=1 \n",
    "A=(B*b)+((B-1)*b) \n",
    "#Let x= h**2/R**2\n",
    "x=R/A*((B*log(R2/R1))+(b*log(R3/R2)))-1 \n",
    "x=1/x \n",
    "#Let Maximum compressive stress at B be sigB\n",
    "sigB=M/(A*R)*(1+(x*y1/(R+y1)))*10**-2 \n",
    "#Let Maximum tensile stress at A be sigA\n",
    "sigA=M/(A*R)*((y2*x/(R-y2))-1)*10**-2 \n",
    "print \"sigB is %0.1f MPa     \"%(sigB) \n",
    "print \"\\nsigA is %0.0f MPa     \"%(sigA) \n",
    "  \n",
    "#The answer to R**2/h**2 is calculated incorrectly in the book."
   ]
  },
  {
   "cell_type": "markdown",
   "metadata": {},
   "source": [
    "## exa 3-32 - Page 94"
   ]
  },
  {
   "cell_type": "code",
   "execution_count": 38,
   "metadata": {
    "collapsed": false
   },
   "outputs": [
    {
     "name": "stdout",
     "output_type": "stream",
     "text": [
      "Ra is 96.70 N/mm**2     \n",
      "\n",
      "Rb is 70.14 N/mm**2      \n"
     ]
    }
   ],
   "source": [
    "from numpy import log\n",
    "R1=24 \n",
    "R2=30 \n",
    "R3=50 \n",
    "R4=54 \n",
    "F=200 \n",
    "y1=((16*4*2)+(2*20*14*4)+(24*6*27))/((16*4)+(2*20*4)+(24*6)) \n",
    "y2=30-y1 \n",
    "R=24+y2 \n",
    "A=(24*6)+(2*4*20)+(4*16) \n",
    "#Let x= h**2/R**2\n",
    "x=R/A*((24*log(R2/R1))+(2*4*log(R3/R2))+(16*log(R4/R3)))-1 \n",
    "x=1/x \n",
    "M=F*(60+R) \n",
    "sigd=F/A \n",
    "#Let bending stress at a be sigA\n",
    "sigA=M/(A*R)*((y2*x/(R-y2))-1) \n",
    "#Let bending stress at b be sigB\n",
    "sigB=M/(A*R)*(1+(x*y1/(R+y1))) \n",
    "#Let resultant at a be Ra\n",
    "Ra=(sigA+sigd)*10 \n",
    "#Let resultant at b be Rb\n",
    "Rb=(sigB-sigd)*10 \n",
    "print \"Ra is %0.2f N/mm**2     \"%(Ra) \n",
    "print \"\\nRb is %0.2f N/mm**2      \"%(Rb) \n",
    "#The difference in the answers are due to rounding-off of values."
   ]
  },
  {
   "cell_type": "markdown",
   "metadata": {},
   "source": [
    "## exa 3-33 - Page 95"
   ]
  },
  {
   "cell_type": "code",
   "execution_count": 39,
   "metadata": {
    "collapsed": false
   },
   "outputs": [
    {
     "name": "stdout",
     "output_type": "stream",
     "text": [
      "sigA is 31.59 MPa     \n",
      "\n",
      "sigB is 71.64 MPa     \n"
     ]
    }
   ],
   "source": [
    "from __future__ import division\n",
    "from numpy import log\n",
    "F=50 \n",
    "B1=4 \n",
    "B2=8 \n",
    "D=12 \n",
    "y1=D/3*(B1+(2*B2))/(B1+B2) \n",
    "y2=12-y1 \n",
    "R=6+y2 \n",
    "A=(B1+B2)/2*D \n",
    "#Let x= h**2/R**2\n",
    "a=(B1+((B2-B1)*(y1+R)/D))*log((R+y1)/(R-y2))\n",
    "x=R/(A)*(a -(B2-B1)) \n",
    "x=x-1 \n",
    "x=1/x \n",
    "KG=y2+8 \n",
    "M=F*KG \n",
    "sigd=F/A \n",
    "#Let bending stress at a be sigA\n",
    "sigA=M/(A*R)*(1+(x*y1/(R+y1))) \n",
    "#Let bending stress at b be sigB\n",
    "sigB=M/(A*R)*((y2*x/(R-y2))-1) \n",
    "sigA=(sigA-sigd)*10 \n",
    "sigB=(sigB+sigd)*10 \n",
    "print \"sigA is %0.2f MPa     \"%(sigA) \n",
    "print \"\\nsigB is %0.2f MPa     \"%(sigB) \n",
    "#The difference in the answers are due to rounding-off of values."
   ]
  }
 ],
 "metadata": {
  "kernelspec": {
   "display_name": "Python 2",
   "language": "python",
   "name": "python2"
  },
  "language_info": {
   "codemirror_mode": {
    "name": "ipython",
    "version": 2
   },
   "file_extension": ".py",
   "mimetype": "text/x-python",
   "name": "python",
   "nbconvert_exporter": "python",
   "pygments_lexer": "ipython2",
   "version": "2.7.9"
  }
 },
 "nbformat": 4,
 "nbformat_minor": 0
}
