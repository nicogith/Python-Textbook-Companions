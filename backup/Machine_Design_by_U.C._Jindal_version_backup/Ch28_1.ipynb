{
 "cells": [
  {
   "cell_type": "markdown",
   "metadata": {},
   "source": [
    "# Ch:28 Worm and worm wheel set"
   ]
  },
  {
   "cell_type": "markdown",
   "metadata": {},
   "source": [
    "## exa 28-1 - Page 726"
   ]
  },
  {
   "cell_type": "code",
   "execution_count": 5,
   "metadata": {
    "collapsed": false
   },
   "outputs": [
    {
     "name": "stdout",
     "output_type": "stream",
     "text": [
      "G is 30   \n",
      "\n",
      "CD is 100 mm  \n",
      "\n",
      "d  is 50 mm  \n",
      "\n",
      "D  is 150 mm  \n"
     ]
    }
   ],
   "source": [
    "from __future__ import division\n",
    "from math import sqrt, pi\n",
    "Z1=1#\n",
    "Z2=30#\n",
    "q=10#\n",
    "m=5#\n",
    "d=q*m#\n",
    "D=m*Z2#\n",
    "#let the speed reduction ratio be G\n",
    "G=Z2/Z1#\n",
    "CD=(d+D)/2#\n",
    "print \"G is %0.0f   \"%(G)#\n",
    "print \"\\nCD is %0.0f mm  \"%(CD)#\n",
    "print \"\\nd  is %0.0f mm  \"%(d)#\n",
    "print \"\\nD  is %0.0f mm  \"%(D)#"
   ]
  },
  {
   "cell_type": "markdown",
   "metadata": {},
   "source": [
    "## exa 28-2 - Page 726"
   ]
  },
  {
   "cell_type": "code",
   "execution_count": 6,
   "metadata": {
    "collapsed": false
   },
   "outputs": [
    {
     "name": "stdout",
     "output_type": "stream",
     "text": [
      "i is 52   \n",
      "\n",
      "CD is 248 mm  \n",
      "\n",
      "pa is 25.13 mm  \n",
      "\n",
      "da is 96 mm  \n",
      "\n",
      "df is 60.975 mm  \n",
      "\n",
      "Da is 431.841 mm  \n",
      "\n",
      "Df is 396.816 mm  \n"
     ]
    }
   ],
   "source": [
    "from math import tan, atan, cos,pi\n",
    "Z1=1#\n",
    "Z2=52#\n",
    "q=10#\n",
    "m=8#\n",
    "i=Z2/Z1#\n",
    "CD=((m*q)+(m*Z2))/2#\n",
    "lamda=atan(Z1/q)#\n",
    "d=q*m#\n",
    "da=m*(q+2)#\n",
    "df=m*(q+2-(4.4*cos(lamda)))#\n",
    "pa=m*pi#\n",
    "D=m*Z2#\n",
    "Da=m*(Z2+(4*cos(lamda))-2)#\n",
    "Df=m*(Z2-2-(0.4*cos(lamda)))#\n",
    "print \"i is %0.0f   \"%(i)#\n",
    "print \"\\nCD is %0.0f mm  \"%(CD)#\n",
    "print \"\\npa is %0.2f mm  \"%(pa)#\n",
    "print \"\\nda is %0.0f mm  \"%(da)#\n",
    "print \"\\ndf is %0.3f mm  \"%(df)#\n",
    "print \"\\nDa is %0.3f mm  \"%(Da)#\n",
    "print \"\\nDf is %0.3f mm  \"%(Df)#"
   ]
  },
  {
   "cell_type": "markdown",
   "metadata": {},
   "source": [
    "## exa 28-3 - Page 727"
   ]
  },
  {
   "cell_type": "code",
   "execution_count": 7,
   "metadata": {
    "collapsed": false
   },
   "outputs": [
    {
     "name": "stdout",
     "output_type": "stream",
     "text": [
      "Ptw=Pag is 1591.5 N  \n",
      "\n",
      "Paw=Ptg is 5487 N  \n",
      "\n",
      "Prw=Prg  is 1188 N  \n"
     ]
    }
   ],
   "source": [
    "from math import sqrt, pi,sin,cos,atan\n",
    "Z1=2#\n",
    "Z2=60#\n",
    "q=10#\n",
    "m=5#\n",
    "P=6000#\n",
    "N=1440#\n",
    "u=0.08#\n",
    "alpha=20*pi/180#\n",
    "lamda=atan(Z1/q)#\n",
    "d=m*q#\n",
    "w=2*pi*N/60#\n",
    "T=P/w#\n",
    "Ptw=T*10**3/(d/2)#\n",
    "a=cos(alpha)#\n",
    "b=cos(lamda)#\n",
    "x=sin(alpha)#\n",
    "y=sin(lamda)#\n",
    "Paw=Ptw*(((a*b)-(u*y))/((a*y)+(u*b)))#\n",
    "Prw=Ptw*y/((a*y)+(u*b))#\n",
    "#Paw=Ptw*((cos(alpha)*cos(lambda))-(u*sin(lambda)))/((cos(alpha)*sin(lambda))+(u*cos(lambda)))#\n",
    "#Prw=Ptw*((sin(alpha))/((cos(alpha)*sin(lambda))+(u*cos(lambda))))#\n",
    "print \"Ptw=Pag is %0.1f N  \"%(Ptw)#\n",
    "print \"\\nPaw=Ptg is %0.0f N  \"%(Paw)#\n",
    "print \"\\nPrw=Prg  is %0.0f N  \"%(Prw)#\n",
    "  \n",
    "#The difference in the value is due to rounding-off the values."
   ]
  },
  {
   "cell_type": "markdown",
   "metadata": {},
   "source": [
    "## exa 28-4 - Page 728"
   ]
  },
  {
   "cell_type": "code",
   "execution_count": 8,
   "metadata": {
    "collapsed": false
   },
   "outputs": [
    {
     "name": "stdout",
     "output_type": "stream",
     "text": [
      "P is 1.2 kW  \n",
      "\n",
      "Po is 1.047 kW  \n",
      "\n",
      "Pf is 0.153 kW  \n"
     ]
    }
   ],
   "source": [
    "from __future__ import division\n",
    "from math import sqrt, pi, cos,atan,tan,sin\n",
    "Z1=2#\n",
    "Z2=40#\n",
    "q=8#\n",
    "m=5#\n",
    "d=q*m#\n",
    "P=1.2#\n",
    "lamda=atan(Z1/q)#\n",
    "N=1000#\n",
    "Vt=2*pi*N*20/(60*1000)#\n",
    "Vs=Vt/cos(lamda)#\n",
    "u=0.032#\n",
    "alpha=20*pi/180#\n",
    "x=cos(alpha)#\n",
    "y=tan(lamda)#\n",
    "z=(cos(lamda))/sin(lamda)#\n",
    "n=(x-(u*y))/(x+(u*z))#\n",
    "#Let power output be Po\n",
    "Po=P*n#\n",
    "#Let power lost in friction be Pf\n",
    "Pf=P-Po#\n",
    "print \"P is %0.1f kW  \"%(P)#\n",
    "print \"\\nPo is %0.3f kW  \"%(Po)#\n",
    "print \"\\nPf is %0.3f kW  \"%(Pf)#\n",
    "  "
   ]
  },
  {
   "cell_type": "markdown",
   "metadata": {},
   "source": [
    "## exa 28-5 - Page 729"
   ]
  },
  {
   "cell_type": "code",
   "execution_count": 9,
   "metadata": {
    "collapsed": false
   },
   "outputs": [
    {
     "name": "stdout",
     "output_type": "stream",
     "text": [
      "n is 0.865   \n",
      "\n",
      "delT is 18.73 deg  \n"
     ]
    }
   ],
   "source": [
    "from math import sqrt, pi, cos,atan,tan,sin\n",
    "Z1=2#\n",
    "Z2=54#\n",
    "q=10#\n",
    "m=8#\n",
    "P=4000#\n",
    "A=1.8#\n",
    "K=16#\n",
    "N=1000#\n",
    "u=0.028#\n",
    "lamda=atan(Z1/q)#\n",
    "alpha=20*pi/180#\n",
    "d=m*q#\n",
    "Vt=2*pi*N*d/(2*60*1000)#\n",
    "Vs=Vt/cos(lamda)#\n",
    "x=cos(alpha)#\n",
    "y=tan(lamda)#\n",
    "z=(cos(lamda))/sin(lamda)#\n",
    "n=(x-(u*y))/(x+(u*z))#\n",
    "delT=P*(1-n)/(K*A)#\n",
    "print \"n is %0.3f   \"%(n)#\n",
    "print \"\\ndelT is %0.2f deg  \"%(delT)#"
   ]
  },
  {
   "cell_type": "markdown",
   "metadata": {},
   "source": [
    "## exa 28-6 - Page 729"
   ]
  },
  {
   "cell_type": "code",
   "execution_count": 10,
   "metadata": {
    "collapsed": false
   },
   "outputs": [
    {
     "name": "stdout",
     "output_type": "stream",
     "text": [
      "Sb is 8286 N  \n",
      "\n",
      "Sw is 3362 N  \n"
     ]
    }
   ],
   "source": [
    "from math import sqrt, pi, cos,atan,tan,sin\n",
    "Z1=1#\n",
    "Z2=30#\n",
    "q=10#\n",
    "m=6#\n",
    "#Let the ultimate strength of gear is sigut\n",
    "#Let the allowable strenth of wheel is sigb\n",
    "sigut=450#\n",
    "sigb=84#\n",
    "N=1200#\n",
    "n=N/Z2#\n",
    "alpha=20*pi/180#\n",
    "d=m*q#\n",
    "D=Z2*m#\n",
    "b=3*d/4#\n",
    "V=2*pi*n*D/(2*60*1000)#\n",
    "Cv=6/(6+V)#\n",
    "y=0.154-(0.912/Z2)#\n",
    "Y=pi*y#\n",
    "Sb=sigb*b*Cv*m*Y#\n",
    "K=0.415#\n",
    "Sw=b*D*K#\n",
    "print \"Sb is %0.0f N  \"%(Sb)#\n",
    "print \"\\nSw is %0.0f N  \"%(Sw)#\n",
    "\n",
    "#The difference in the value of Sb is due to rounding-off the values."
   ]
  }
 ],
 "metadata": {
  "kernelspec": {
   "display_name": "Python 2",
   "language": "python",
   "name": "python2"
  },
  "language_info": {
   "codemirror_mode": {
    "name": "ipython",
    "version": 2
   },
   "file_extension": ".py",
   "mimetype": "text/x-python",
   "name": "python",
   "nbconvert_exporter": "python",
   "pygments_lexer": "ipython2",
   "version": "2.7.9"
  }
 },
 "nbformat": 4,
 "nbformat_minor": 0
}
