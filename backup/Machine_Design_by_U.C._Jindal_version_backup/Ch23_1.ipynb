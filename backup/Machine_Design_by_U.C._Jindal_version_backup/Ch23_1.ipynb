{
 "cells": [
  {
   "cell_type": "markdown",
   "metadata": {},
   "source": [
    "# Ch:23 Brakes"
   ]
  },
  {
   "cell_type": "markdown",
   "metadata": {},
   "source": [
    "## exa 23-1 - Page 618"
   ]
  },
  {
   "cell_type": "code",
   "execution_count": 1,
   "metadata": {
    "collapsed": false
   },
   "outputs": [
    {
     "name": "stdout",
     "output_type": "stream",
     "text": [
      "T is 10254.8 Nm \n",
      "\n",
      "P is 20.5097 kW \n",
      "\n",
      "b is 0.18 m \n",
      "\n",
      "L is 0.271 m \n",
      "\n",
      "theta2 is 54 deg \n"
     ]
    }
   ],
   "source": [
    "from __future__ import division\n",
    "from math import asin, pi\n",
    "W=20e3#\n",
    "m=W/9.81#\n",
    "#diameter of brake drum\n",
    "Db=0.6#\n",
    "p=1#\n",
    "Vi=1#\n",
    "Vf=0#\n",
    "D=1#\n",
    "R=0.5#\n",
    "wi=Vi/R#\n",
    "wf=0#\n",
    "w=1#\n",
    "Vav=0.5#\n",
    "S=2#\n",
    "t=S/Vav#\n",
    "#angle turned by by hoist drum=theta\n",
    "theta=0.5*wi*t#\n",
    "K_E=0.5*m*Vi**2#\n",
    "P_E=2*W#\n",
    "T_E=K_E+P_E#\n",
    "T=T_E/theta#\n",
    "P=wi*T*10**-3#\n",
    "Rb=Db/2#\n",
    "Ft=0.5*T*p/Rb#\n",
    "u=0.35#\n",
    "N=Ft/u#\n",
    "#contact area of brake lining=A\n",
    "A=N/p#\n",
    "b=0.3*Db#\n",
    "L=A*10**-6/(b)#\n",
    "#angle subtended at brake drum centre=theta2\n",
    "theta2=2*(asin(L/Db))#\n",
    "theta2=theta2*180/pi# # converting radian to degree\n",
    "print \"T is %0.1f Nm \"%(T)#\n",
    "print \"\\nP is %0.4f kW \"%(P)#\n",
    "print \"\\nb is %0.2f m \"%(b)#\n",
    "print \"\\nL is %0.3f m \"%(L)#\n",
    "print \"\\ntheta2 is %0.0f deg \"%(theta2)#\n",
    " "
   ]
  },
  {
   "cell_type": "markdown",
   "metadata": {},
   "source": [
    "## exa 23-2 - Page 618"
   ]
  },
  {
   "cell_type": "code",
   "execution_count": 2,
   "metadata": {
    "collapsed": false
   },
   "outputs": [
    {
     "name": "stdout",
     "output_type": "stream",
     "text": [
      "F1 is 9600 N \n",
      "\n",
      "F2 is 4046.4 N \n",
      "\n",
      "T is 1110.72 Nm \n",
      "\n",
      "OA is 42.15 mm \n"
     ]
    }
   ],
   "source": [
    "from math import exp,pi\n",
    "b=80#\n",
    "t=2#\n",
    "theta=225*pi/180#\n",
    "u=0.22#\n",
    "#F1/F2=e**(u*theta)\n",
    "#let F1/F2=x#\n",
    "x=exp(u*theta)#\n",
    "#maximum tensile stress in steel tape is siga\n",
    "siga=60#\n",
    "A=b*t#\n",
    "F1=siga*A#\n",
    "F2=F1/x#\n",
    "r=0.2#\n",
    "T=(F1-F2)*r#\n",
    "OA=30#\n",
    "OB=100#\n",
    "OC=350#\n",
    "P=((F2*OB)+(F1*OA))/OC#\n",
    "OA=F2*OB/F1#\n",
    "print \"F1 is %0.0f N \"%(F1)#\n",
    "print \"\\nF2 is %0.1f N \"%(F2)#\n",
    "print \"\\nT is %0.2f Nm \"%(T)#\n",
    "print \"\\nOA is %0.2f mm \"%(OA)#"
   ]
  },
  {
   "cell_type": "markdown",
   "metadata": {},
   "source": [
    "## exa 23-3 - Page 619"
   ]
  },
  {
   "cell_type": "code",
   "execution_count": 3,
   "metadata": {
    "collapsed": false
   },
   "outputs": [
    {
     "name": "stdout",
     "output_type": "stream",
     "text": [
      "T is 957.75 Nmm \n",
      "\n",
      "R is 187.222 mm \n",
      "\n",
      "Rx is 8.526 kN \n",
      "\n",
      "Ry is 2.56 kN \n"
     ]
    }
   ],
   "source": [
    "from math import sin,pi\n",
    "theta=pi/3#\n",
    "r=160#\n",
    "u=0.3#\n",
    "pmax=0.9#\n",
    "b=40#\n",
    "R=(4*r*sin(theta))/((2*theta)+sin(2*theta))#\n",
    "#frictional torque is T\n",
    "T=2*u*pmax*b*(r**2)*sin(theta)#\n",
    "T=2*T*10**-3#\n",
    "Rx=0.5*pmax*b*r*((2*theta)+(sin(2*theta)))*10**-3#\n",
    "Ry=u*Rx#\n",
    "print \"T is %0.2f Nmm \"%(T)#\n",
    "print \"\\nR is %0.3f mm \"%(R)#\n",
    "print \"\\nRx is %0.3f kN \"%(Rx)#\n",
    "print \"\\nRy is %0.2f kN \"%(Ry)#"
   ]
  },
  {
   "cell_type": "markdown",
   "metadata": {},
   "source": [
    "## exa 23-4 - Page 620"
   ]
  },
  {
   "cell_type": "code",
   "execution_count": 4,
   "metadata": {
    "collapsed": false
   },
   "outputs": [
    {
     "name": "stdout",
     "output_type": "stream",
     "text": [
      "Tr is 576 Nm \n",
      "\n",
      "Mf is 695.51 Nm \n",
      "\n",
      "Mp is 1342.49 Nm \n",
      "\n",
      "Tl is 182.9 Nm \n",
      "\n",
      "Mfl is 220.79 Nm \n",
      "\n",
      "Mpl is 426.18 Nm \n",
      "\n",
      "F is 2812.9 N \n",
      "\n",
      "T is 758.9 Nm \n"
     ]
    }
   ],
   "source": [
    "from math import sin, cos, pi, sqrt\n",
    "d=320#\n",
    "r=d/2#\n",
    "b=50#\n",
    "u=0.3#\n",
    "pmax=1#\n",
    "c=115*2#\n",
    "# From to fig. 23-9, distance OA=R is calculated.\n",
    "R=sqrt(115**2+66.4**2)#\n",
    "C=115*2#\n",
    "theta1=0#\n",
    "theta2=120*pi/180#\n",
    "theta0=120*pi/180#\n",
    "thetamax=pi/2#\n",
    "Tr=u*pmax*b*r**2*(cos(theta1)-cos(theta2))/sin(thetamax)*10**-3#\n",
    "#the notation 'r' is used for moments of right hand shoe, similarly 'l' for the left shoe.\n",
    "Mfr=u*pmax*b*r*(4*r*(cos(theta1)-cos(theta2))+(R*(cos(2*theta1)-cos(2*theta2))))/(4*sin(thetamax))*10**-3#\n",
    "Mpr=pmax*b*r*R*((2*theta0)-(sin(2*theta2)-(sin(theta1))))/(4*sin(thetamax))*10**-3#\n",
    "F=(Mpr-Mfr)/c*10**3#\n",
    "#Mpl+Mfl=F*c#\n",
    "x=F*c*10**-3#\n",
    "y=(Mpr/pmax)+(Mfr/pmax)#\n",
    "pmax2=x/y#\n",
    "Tl=pmax2*Tr#\n",
    "Mpl=pmax2*Mpr#\n",
    "Mfl=pmax2*Mfr#\n",
    "T=Tl+Tr#\n",
    "print \"Tr is %0.0f Nm \"%(Tr)#\n",
    "print \"\\nMf is %0.2f Nm \"%(Mfr)#\n",
    "print \"\\nMp is %0.2f Nm \"%(Mpr)#\n",
    "print \"\\nTl is %0.1f Nm \"%(Tl)# \n",
    "print \"\\nMfl is %0.2f Nm \"%(Mfl)#\n",
    "print \"\\nMpl is %0.2f Nm \"%(Mpl)#\n",
    "print \"\\nF is %0.1f N \"%(F)#\n",
    "print \"\\nT is %0.1f Nm \"%(T)#\n",
    "  \n",
    "#The difference in the answers are due to rounding-off of values.\n",
    "  "
   ]
  },
  {
   "cell_type": "markdown",
   "metadata": {},
   "source": [
    "## exa 23-5 - Page 621"
   ]
  },
  {
   "cell_type": "code",
   "execution_count": 5,
   "metadata": {
    "collapsed": false
   },
   "outputs": [
    {
     "name": "stdout",
     "output_type": "stream",
     "text": [
      "S is 36.11 m \n",
      "\n",
      "E is 49307.97 Nm \n",
      "\n",
      "T is 300.40 Nm \n",
      "\n",
      "delT is 8.93 \n"
     ]
    }
   ],
   "source": [
    "m=1100#\n",
    "V=65*5/18#\n",
    "t=4#\n",
    "r=0.22#\n",
    "mb=12#\n",
    "C=460#\n",
    "S=0.5*V*t#\n",
    "#Total kinetic energy TE=K.E(vehicle)+K.E(rotating parts).\n",
    "TE=((0.5*m*(V**2))+(0.1*0.5*m*(V**2)))#\n",
    "E=TE/4#\n",
    "w=V/r#\n",
    "theta=S/r#\n",
    "T=E/theta#\n",
    "delT=E/(mb*C)#\n",
    "print \"S is %0.2f m \"%(S)#\n",
    "print \"\\nE is %0.2f Nm \"%(E)#\n",
    "print \"\\nT is %0.2f Nm \"%(T)#\n",
    "print \"\\ndelT is %0.2f \"%(delT)#\n",
    "  \n",
    "#The difference in the answers are due to rounding-off of values."
   ]
  },
  {
   "cell_type": "markdown",
   "metadata": {},
   "source": [
    "## exa 23-6 - Page 621"
   ]
  },
  {
   "cell_type": "code",
   "execution_count": 6,
   "metadata": {
    "collapsed": false
   },
   "outputs": [
    {
     "name": "stdout",
     "output_type": "stream",
     "text": [
      "N is 437.5 N \n",
      "\n",
      "b is 25 mm \n",
      "\n",
      "P is 173.4 N \n",
      "\n",
      "R is 316.81 N \n",
      "\n",
      "Q is 366.52 J/s \n"
     ]
    }
   ],
   "source": [
    "from math import sqrt,asin,pi\n",
    "T=35000#\n",
    "u=0.4#\n",
    "p=0.7#\n",
    "r=200#\n",
    "N=T/(u*r)\n",
    "b=sqrt(N/p)#\n",
    "l=b#\n",
    "#2theta = theta2\n",
    "theta2=2*asin(l/(2*r))#\n",
    "F=u*N#\n",
    "P=((250*N)-(u*N*80))/550#\n",
    "Ry=N-P#\n",
    "Rx=u*N#\n",
    "R=sqrt(Rx**2+Ry**2)#\n",
    "w=2*pi*100/60#\n",
    "# Rate of heat generated is Q\n",
    "Q=u*N*w*r/1000#\n",
    "print \"N is %0.1f N \"%(N)#\n",
    "print \"\\nb is %0.0f mm \"%(b)#\n",
    "print \"\\nP is %0.1f N \"%(P)#\n",
    "print \"\\nR is %0.2f N \"%(R)#\n",
    "print \"\\nQ is %0.2f J/s \"%(Q)#\n",
    "\n",
    "#The answer to Rate of heat generated 'Q' is calculated incorrectly in the book."
   ]
  },
  {
   "cell_type": "markdown",
   "metadata": {},
   "source": [
    "## exa 23-7 - Page 622"
   ]
  },
  {
   "cell_type": "code",
   "execution_count": 7,
   "metadata": {
    "collapsed": false
   },
   "outputs": [
    {
     "name": "stdout",
     "output_type": "stream",
     "text": [
      "KE is 1234.6 Nm \n",
      "\n",
      "N is 123.46 N \n",
      "\n",
      "t is 6.4 mm \n",
      "\n",
      "b is 19.2 mm \n"
     ]
    }
   ],
   "source": [
    "from math import pi,sqrt\n",
    "Vi=20*5/18#\n",
    "Vf=0#\n",
    "m=80#\n",
    "pmax=1#\n",
    "u=0.1#\n",
    "S=50#\n",
    "KE=0.5*m*Vi**2#\n",
    "N=KE/(u*S*2)#\n",
    "t=sqrt(N/(pmax*3))#\n",
    "b=3*t#\n",
    "print \"KE is %0.1f Nm \"%(KE)#\n",
    "print \"\\nN is %0.2f N \"%(N)#\n",
    "print \"\\nt is %0.1f mm \"%(t)#\n",
    "print \"\\nb is %0.1f mm \"%(b)#\n",
    "\n",
    "#The difference in the answers are due to rounding-off of values."
   ]
  }
 ],
 "metadata": {
  "kernelspec": {
   "display_name": "Python 2",
   "language": "python",
   "name": "python2"
  },
  "language_info": {
   "codemirror_mode": {
    "name": "ipython",
    "version": 2
   },
   "file_extension": ".py",
   "mimetype": "text/x-python",
   "name": "python",
   "nbconvert_exporter": "python",
   "pygments_lexer": "ipython2",
   "version": "2.7.9"
  }
 },
 "nbformat": 4,
 "nbformat_minor": 0
}
