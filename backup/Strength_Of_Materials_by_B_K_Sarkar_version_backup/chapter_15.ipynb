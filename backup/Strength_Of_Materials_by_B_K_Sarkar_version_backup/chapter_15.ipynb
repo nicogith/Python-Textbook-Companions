{
 "metadata": {
  "name": "chapter 15.ipynb"
 },
 "nbformat": 3,
 "nbformat_minor": 0,
 "worksheets": [
  {
   "cells": [
    {
     "cell_type": "heading",
     "level": 1,
     "metadata": {},
     "source": [
      "Chapter no.15:Thin Cyclindrical Shell"
     ]
    },
    {
     "cell_type": "heading",
     "level": 2,
     "metadata": {},
     "source": [
      "Problem no 15.1,Page no.351"
     ]
    },
    {
     "cell_type": "code",
     "collapsed": false,
     "input": [
      "import math\n",
      "\n",
      "#Initilization of variables\n",
      "\n",
      "D=0.8 #m #Diameter of Shell\n",
      "L=3 #m #Length of shell\n",
      "t=0.01 #m #thickness of metal\n",
      "E=200*10**9 #Pa \n",
      "p=2.5*10**6 #Pa #Internal Pressure\n",
      "m=4 #Poisson's ratio\n",
      "\n",
      "#Calculation\n",
      "\n",
      "sigma_1=p*D*(2*t)**-1 #N/m**2 #Hoop stress\n",
      "sigma_2=p*D*(4*t)**-1 #N/m**2 #Longitudinal stress\n",
      "\n",
      "e_1=1*E**-1*(sigma_1-sigma_2*m**-1) #Hoop strain\n",
      "e_2=1*E**-1*(sigma_2-sigma_1*m**-1) #Hoop strain\n",
      "\n",
      "d=e_1*D*100 #cm #Increase in Diameter\n",
      "l=e_2*L*100 #cm #Increase in Length\n",
      "\n",
      "dell_v=2*e_1+e_2 #Volumetric strain\n",
      "V=dell_v*pi*4**-1*D**2*L*10**6 #cm**3 #Increase in Volume\n",
      "\n",
      "#Result\n",
      "print\"Change in Diameter is\",round(d,3),\"cm\"\n",
      "print\"Change in Length is\",round(l,3),\"cm\"\n",
      "print\"Change in Volume is\",round(V,2),\"cm**3\""
     ],
     "language": "python",
     "metadata": {},
     "outputs": [
      {
       "output_type": "stream",
       "stream": "stdout",
       "text": [
        "Change in Diameter is 0.035 cm\n",
        "Change in Length is 0.037 cm\n",
        "Change in Volume is 1507.96 cm**3\n"
       ]
      }
     ],
     "prompt_number": 13
    },
    {
     "cell_type": "heading",
     "level": 2,
     "metadata": {},
     "source": [
      "Problem no 15.2,Page no.352"
     ]
    },
    {
     "cell_type": "code",
     "collapsed": false,
     "input": [
      "import math\n",
      "\n",
      "#Initilization of variables\n",
      "\n",
      "D=0.8 #m #iameter of water main\n",
      "h=100 #m #Pressure head\n",
      "w=10*10**3 #N/m**3 #Weight of Water\n",
      "sigma_t=20*10**6 #MPa #Permissible stress\n",
      "\n",
      "#Calculation\n",
      "\n",
      "p=w*h #N/m**2 #Pressure of inside the main\n",
      "t=p*D*(2*sigma_t)**-1*100 #m #Thcikness of metal\n",
      "\n",
      "#Result\n",
      "print\"The Thickness of metal is\",round(t,2),\"cm\""
     ],
     "language": "python",
     "metadata": {},
     "outputs": [
      {
       "output_type": "stream",
       "stream": "stdout",
       "text": [
        "The Thickness of metal is 2.0 cm\n"
       ]
      }
     ],
     "prompt_number": 21
    },
    {
     "cell_type": "heading",
     "level": 2,
     "metadata": {},
     "source": [
      "Problem no 15.3,Page no.352"
     ]
    },
    {
     "cell_type": "code",
     "collapsed": false,
     "input": [
      "import math\n",
      "\n",
      "#Initilization of variables\n",
      "\n",
      "p=2*10**6 #MPa #Steam Pressure\n",
      "t=0.02 #m #thickness of boiler plate\n",
      "sigma_t=120*10**6 #MPa #Tensile stress\n",
      "sigma_l=120*10**6 #MPa #Longitudinal stress\n",
      "rho=0.90 #% #Efficiency of Longitudinal joint\n",
      "rho_e=0.40 #% #Efficiency of circumferential joint\n",
      "\n",
      "#Calculations\n",
      "\n",
      "D_1=sigma_t*2*t*rho*p**-1 #Diameter of boiler \n",
      "D_2=sigma_l*4*t*rho_e*p**-1 #Diameter of boiler \n",
      "\n",
      "#Max diameter of boiler is equal to minimum value of diameter\n",
      "\n",
      "#Result\n",
      "print\"Maximum diameter of boiler is\",round(D_2,2),\"m\""
     ],
     "language": "python",
     "metadata": {},
     "outputs": [
      {
       "output_type": "stream",
       "stream": "stdout",
       "text": [
        "Maximum diameter of boiler is 1.92 m\n"
       ]
      }
     ],
     "prompt_number": 29
    },
    {
     "cell_type": "heading",
     "level": 2,
     "metadata": {},
     "source": [
      "Problem no 15.4,Page no.352"
     ]
    },
    {
     "cell_type": "code",
     "collapsed": false,
     "input": [
      "import math\n",
      "\n",
      "#Initilization of variables\n",
      "\n",
      "L=0.9 #m #Length of cyclindrical shell\n",
      "D=0.2 #m #Internal Diameter\n",
      "t=0.008 #m #thickness of metal\n",
      "dV=20*10**-6 #m**3 #Additional volume\n",
      "E=200*10**9 #Pa \n",
      "m=1*0.3**-1 #Poissoin's ratio\n",
      "\n",
      "#Calculations\n",
      "\n",
      "V=pi*4**-1*D**2*L #Volume of cyclinder\n",
      "\n",
      "#Let X=2*e_1+e_2\n",
      "X=dV*V**-1 #Volumetric strain   (Equation 1)\n",
      "\n",
      "#e_1=p*D*(2*E*t)**-1*(1-1*(2*m)**-1) #Circumferential strain\n",
      "#e_2=p*D*(2*E*t)**-1*(1*2**-1-1*(2*m)**-1) #Circumferential strain\n",
      "\n",
      "#substituting above values in equation 1 we get\n",
      "p=X*E*t*(D*((1-1*(2*m)**-1)+(1*4**-1-1*(2*m)**-1)))**-1*10**-3 #KN/m**2 #Pressure exerted by fluid\n",
      "sigma_t=p*D*(2*t)**-1 #KN/m**2 #hoop stress\n",
      "\n",
      "#Result\n",
      "print\"Pressure Exerted by Fluid on the cyclinder is\",round(p,2),\"KN/m**2\"\n",
      "print\"Hoop stress is\",round(sigma_t,2),\"KN/m**2\""
     ],
     "language": "python",
     "metadata": {},
     "outputs": [
      {
       "output_type": "stream",
       "stream": "stdout",
       "text": [
        "Pressure Exerted by Fluid on the cyclinder is 5956.68 KN/m**2\n",
        "Hoop stress is 74458.45 KN/m**2\n"
       ]
      }
     ],
     "prompt_number": 41
    },
    {
     "cell_type": "heading",
     "level": 2,
     "metadata": {},
     "source": [
      "Problem no 15.5,Page no.353"
     ]
    },
    {
     "cell_type": "code",
     "collapsed": false,
     "input": [
      "import math\n",
      "\n",
      "#Initilization of variables\n",
      "\n",
      "t=0.015 #m #Thickness of plate\n",
      "sigma_t=120*10**6 #Pa #tensile stress\n",
      "sigma_l=120*10**6 #Pa #Longitudinal stress\n",
      "rho=0.7 #% #Efficiency of longitudinal joints\n",
      "rho_l=0.3 #% #Efficiency of circumferential joints\n",
      "p=2*10**6 #Pa #Internal pressure\n",
      "D=1.5 #m #shell diameter\n",
      "\n",
      "#Calculations (Part-1)\n",
      "\n",
      "D_1=sigma_t*2*t*rho*p**-1    #m \n",
      "D_2=sigma_l*4*t*rho_l*p**-1  #m \n",
      "\n",
      "#Thus max diameter of shell is min of above two cases\n",
      "\n",
      "#Calculations (Part-2)\n",
      "\n",
      "p_1=sigma_t*2*t*rho*D**-1*10**-6    #MPa\n",
      "p_2=sigma_l*4*t*rho_l*D**-1*10**-6  #MPa\n",
      "\n",
      "#Thus Internal pressure is min of above two cases\n",
      "\n",
      "#Result\n",
      "print\"Max Permissible Diameter of shell is\",round(D_2,2),\"m\"\n",
      "print\"Max Permissible Internal Pressure is\",round(p_2,2),\"MPa\"\n"
     ],
     "language": "python",
     "metadata": {},
     "outputs": [
      {
       "output_type": "stream",
       "stream": "stdout",
       "text": [
        "Max Permissible Diameter of shell is 1.08 m\n",
        "Max Permissible Internal Pressure is 1.44 MPa\n"
       ]
      }
     ],
     "prompt_number": 8
    },
    {
     "cell_type": "heading",
     "level": 2,
     "metadata": {},
     "source": [
      "Problem no 15.6,Page no.354"
     ]
    },
    {
     "cell_type": "code",
     "collapsed": false,
     "input": [
      "import math\n",
      "\n",
      "#Initilization of variables\n",
      "\n",
      "L=3 #m #Length\n",
      "D=1 #m #Internal Diameter\n",
      "t=0.015 #m #thickness\n",
      "p=1.5*10**6 #Pa #Internal pressure\n",
      "E=200*10**9 #Pa \n",
      "m=1*0.3**-1 #Poissoin's ratio\n",
      "\n",
      "#Calculations\n",
      "\n",
      "sigma_t=p*D*(2*t)**-1*10**-6 #MPa #Hoop stress\n",
      "sigma_l=p*D*(4*t)**-1*10**-6 #MPa #Longitudinal stress\n",
      "\n",
      "dD=(p*D**2*(2*t*E)**-1*(1-1*(2*m)**-1))*10**2 #cm #Change in Diameter\n",
      "dL=p*D*L*(2*t*E)**-1*(1*2**-1-1*m**-1)*10**2 #cm #Change in Length\n",
      "\n",
      "V=pi*4**-1*D**2*L #Volume \n",
      "dV=p*D*(2*t*E)**-1*(5*2**-1-2*(m)**-1)*V*10**6 #cm #Change in Volume\n",
      "\n",
      "#Result\n",
      "print\"The circumferential stresses induced is\",round(sigma_t,2),\"MPa\"\n",
      "print\"The Longitudinal stresses induced is\",round(sigma_l,2),\"MPa\"\n",
      "print\"The change in dimension are:D is\",round(dD,3),\"cm\"\n",
      "print\"                           :L is\",round(dL,4),\"cm\""
     ],
     "language": "python",
     "metadata": {},
     "outputs": [
      {
       "output_type": "stream",
       "stream": "stdout",
       "text": [
        "0.02125\n",
        "The circumferential stresses induced is 50.0 MPa\n",
        "The Longitudinal stresses induced is 25.0 MPa\n",
        "The change in dimension are:D is 0.021 cm\n",
        "                           :L is 0.015 cm\n"
       ]
      }
     ],
     "prompt_number": 26
    },
    {
     "cell_type": "heading",
     "level": 2,
     "metadata": {},
     "source": [
      "Problem no 15.7,Page no.355"
     ]
    },
    {
     "cell_type": "code",
     "collapsed": false,
     "input": [
      "import math\n",
      "\n",
      "#Initilization of variables\n",
      "\n",
      "L=0.9 #m #Length of cyclinder\n",
      "D=0.4 #m #Diameter \n",
      "t=0.006 #m #thickness\n",
      "p=5*10**6 #Pa #Pressure\n",
      "E=100*10**9\n",
      "m=3 #Poissoin's ratio\n",
      "k=2.6*10**9 #Pa #Bulk modulus\n",
      "\n",
      "#Calculations\n",
      "\n",
      "#Let X=dV_1*V_1**-1\n",
      "X=p*(0.4-2*0.006)*(2*t*E)**-1*(5*2**-1-2*m**-1) #Volumetric strain\n",
      "dV_1=round(X,5)*pi*4**-1*0.388**2*L #cm**3 #Increase in volume of cyclinder\n",
      "V_1=pi*4**-1*0.388**2*L #VOlume\n",
      "dV_2=p*k**-1*V_1 #DEcrease in volume of oil due to increase in pressure\n",
      "\n",
      "dV=(dV_1+dV_2)*10**6 #Resultant additional space \n",
      "\n",
      "#Result\n",
      "print\"additional quantity of oil to be pumped is\",round(dV,2),\"cm**3\""
     ],
     "language": "python",
     "metadata": {},
     "outputs": [
      {
       "output_type": "stream",
       "stream": "stdout",
       "text": [
        "additional quantity of oil to be pumped is 519.62 cm**3\n"
       ]
      }
     ],
     "prompt_number": 23
    },
    {
     "cell_type": "heading",
     "level": 2,
     "metadata": {},
     "source": [
      "Problem no 15.8,Page no.356"
     ]
    },
    {
     "cell_type": "code",
     "collapsed": false,
     "input": [
      "import math\n",
      "\n",
      "#Initilization of variables\n",
      "\n",
      "A=1600*(3600)**-1 #Kg/sec #Amount of steam generated\n",
      "v=0.24 #m**3/kg #specific volume of steam\n",
      "sigma_t=4*10**6 #MPa #Tensile stress\n",
      "V_1=30 #m/s #Velocity of steam\n",
      "p=1*10**6 #Pa #Steam pressure\n",
      "\n",
      "#Calculation\n",
      "\n",
      "V=A*v #m**3/s #volume of steam \n",
      "D=(V*(pi*4**-1*V_1)**-1)**0.5*100 #Diameter of pipe\n",
      "t=p*D*(2*sigma_t)**-1 #Thicknes of pipe\n",
      "\n",
      "#Result\n",
      "print\"Diameter of boiler is\",round(D,2),\"cm\"\n",
      "print\"Thickness of steel plpe is\",round(t,2),\"cm\""
     ],
     "language": "python",
     "metadata": {},
     "outputs": [
      {
       "output_type": "stream",
       "stream": "stdout",
       "text": [
        "Diameter of boiler is 6.73 cm\n",
        "Thickness of steel plpe is 0.84 cm\n"
       ]
      }
     ],
     "prompt_number": 43
    },
    {
     "cell_type": "heading",
     "level": 2,
     "metadata": {},
     "source": [
      "Problem no 15.9,Page no.359"
     ]
    },
    {
     "cell_type": "code",
     "collapsed": false,
     "input": [
      "import math\n",
      "\n",
      "#Initilization of variables\n",
      "\n",
      "P=14*10**3 #N #Axial pull\n",
      "dL=0.0084 #cm #Elongation\n",
      "L=0.25 #m #Length\n",
      "p=7*10**6 #Internal pressure\n",
      "dL_2=0.0034 #cm #Longation\n",
      "d=0.0475 #m #Internal diameter \n",
      "D=0.05 #m #External Diameter\n",
      "m=0.25\n",
      "\n",
      "#Calculation\n",
      "\n",
      "t=(D-d)*2**-1 #thickness  od tube\n",
      "A=pi*4**-1*(D**2-d**2) #Area of tube\n",
      "sigma=P*A**-1 #stress\n",
      "e=dL*(L)**-1 #strain\n",
      "E=sigma*e**-1 #Modulus of Elasticity\n",
      "sigma_1=p*d*(2*t)**-1 #Hoop stress\n",
      "sigma_2=p*d*(4*t)**-1 #Longitudinal stress\n",
      "\n",
      "m=-(sigma_1*(dL_2*L**-1*E-sigma_2)**-1) #POissoin's ratio\\\n",
      "\n",
      "#Let X=1*m**-1\n",
      "X=1*m**-1 #Poissoin's ratio\n",
      "\n",
      "#Result\n",
      "print\"The value of Poissoin's ratio is\",round(X,3)\n",
      "                                            "
     ],
     "language": "python",
     "metadata": {},
     "outputs": [
      {
       "output_type": "stream",
       "stream": "stdout",
       "text": [
        "The value of Poissoin's ratio is 0.277\n"
       ]
      }
     ],
     "prompt_number": 28
    },
    {
     "cell_type": "heading",
     "level": 2,
     "metadata": {},
     "source": [
      "Problem no 15.10,Page no.357"
     ]
    },
    {
     "cell_type": "code",
     "collapsed": false,
     "input": [
      "import math\n",
      "\n",
      "#Initilization of variables\n",
      "\n",
      "D=0.8 #m #Diameter\n",
      "t=0.01 #m #Thickness \n",
      "p=5*10**6 #Pa #Pressure\n",
      "m=1*0.25**-1\n",
      "E=200*10**9 #Pa\n",
      "\n",
      "#Calculations\n",
      "\n",
      "sigma_1=5*10**6*0.8*(4*0.01)**-1 #stress\n",
      "sigma_2=sigma_1\n",
      "e_1=sigma_1*E**-1-sigma_2*(m*E)**-1 #strain\n",
      "e_v=3*e_1\n",
      "V=4*3**-1*pi*(D*2**-1)**3 #m**3  tress\n",
      "dell_v=e_v*V*10**6 #cm**3\n",
      "\n",
      "#Result\n",
      "print\"Volume of additional Fluid\",round(dell_v,3),\"cm**3\""
     ],
     "language": "python",
     "metadata": {},
     "outputs": [
      {
       "output_type": "stream",
       "stream": "stdout",
       "text": [
        "Volume of additional Fluid 301.593 cm**3\n"
       ]
      }
     ],
     "prompt_number": 37
    },
    {
     "cell_type": "heading",
     "level": 2,
     "metadata": {},
     "source": [
      "Problem no 15.11,Page no.358"
     ]
    },
    {
     "cell_type": "code",
     "collapsed": false,
     "input": [
      "\n",
      "d=0.3 #m #Diameter\n",
      "D=0.003 #m #Diameter of steel wire\n",
      "t=0.006 #m #thickness\n",
      "sigma_w=8*10**6 #Pa #Stress\n",
      "p=1*10**6 #Pa #Internal pressure\n",
      "E_s=200*10**9 #Pa #Modulus of Elasticity for steel\n",
      "E_c=100*10**9 #Pa #Modulus of Elasticity for cast iron\n",
      "m=1*0.3**-1\n",
      "\n",
      "#Calculations\n",
      "\n",
      "sigma_p=(sigma_w*pi*2**-1*d)*(2*t)**-1 #compressive hoop stress\n",
      "sigma_l=p*d*(4*t)**-1 #Longitudinal stress\n",
      "\n",
      "#when internal presure is apllied Let sigma_w_1=Tensile in wire and sigma_p_1=tensile hoop in wire\n",
      "#sigma_p_1*2*t+sigma_w_1*2*d**-1*pi*4**-1*d**2=p*D\n",
      "\n",
      "#After substituting values and further simplifying we get\n",
      "#1.2*sigma_p_1+0.471*sigma_w_1=3000    Equation 1\n",
      "\n",
      "#1*E_c**-1(sigma_p_1-sigma_1*m**-1+sigma_p)=1*E_s**-1(sigma_w_1-sigma_w)\n",
      "\n",
      "#After substituting values and further simplifying we get\n",
      "#sigma_p_1-0.5*sigma_w_1=1.36*10**6    \n",
      "#sigma_p_1=0.5*sigma_w_1-3.39*10**6   Equation 2\n",
      "\n",
      "#From Equation 2 substituting value of sigma_p_1 in Equation 1\n",
      "\n",
      "\n",
      "sigma_w_1=(40.68*10**3+0.3*10**6)*(10.71238*10**-3)**-1\n",
      "sigma_p_1=0.5*sigma_w_1-3.39*10**6\n",
      "\n",
      "#Let X=sigma_p_1 and Y=sigma_w_1\n",
      "X=sigma_p_1*10**-6 #MPa #Stresses in pipe\n",
      "Y=sigma_w_1*10**-6 #MPa #Stresses in wire\n",
      "\n",
      "#Result\n",
      "print\"Stress in the pipe is\",round(X,2),\"MN/m**2\"\n",
      "print\"Stress in the wire is\",round(Y,2),\"MN/m**2\""
     ],
     "language": "python",
     "metadata": {},
     "outputs": [
      {
       "output_type": "stream",
       "stream": "stdout",
       "text": [
        "Stress in the pipe is 12.51 MN/m**2\n",
        "Stress in the wire is 31.8 MN/m**2\n"
       ]
      }
     ],
     "prompt_number": 29
    },
    {
     "cell_type": "heading",
     "level": 2,
     "metadata": {},
     "source": [
      "Problem no 15.12,Page no.359"
     ]
    },
    {
     "cell_type": "code",
     "collapsed": false,
     "input": [
      "import math\n",
      "\n",
      "#Initilization of variables\n",
      "\n",
      "D=0.038 #m #External Diameter\n",
      "d=0.035 #m #Internal Diameter\n",
      "d_1=0.0008 #m #Steel wire diameter\n",
      "p=2*10**6 #pa #Pa #Internal Pressure\n",
      "sigma_t_1=7*10**6 #Pa #Circumferential stress\n",
      "#E_s=1.6*E_s\n",
      "m=0.3\n",
      "\n",
      "#Calculation\n",
      "\n",
      "t=(D-d)*2**-1 #m Thickness \n",
      "\n",
      "#sigma_t*2*t=pi*d*2**-1*sigma_w\n",
      "#From Above equation we get\n",
      "\n",
      "#sigma_t=0.419*sigma_w   (Equation 1)\n",
      "\n",
      "sigma_w_1=(p*d-sigma_t_1*2*t)*(2*d_1**-1*pi*4**-1*d_1**2)**-1 #stress in wire\n",
      "sigma_l=p*d*(4*t)**-1 #Longitudinal stress in tube\n",
      "\n",
      "#Now Equating equations of strain in tube and wire we get\n",
      "sigma_w=-(1.6*(sigma_t_1-sigma_l*m)-sigma_w_1)*1.67**-1*10**-6\n",
      "\n",
      "#Result\n",
      "print\"The Tension at which wire must have been wound is\",round(sigma_w,2),\"MPa\""
     ],
     "language": "python",
     "metadata": {},
     "outputs": [
      {
       "output_type": "stream",
       "stream": "stdout",
       "text": [
        "The Tension at which wire must have been wound is 20.0 MPa\n"
       ]
      }
     ],
     "prompt_number": 30
    }
   ],
   "metadata": {}
  }
 ]
}