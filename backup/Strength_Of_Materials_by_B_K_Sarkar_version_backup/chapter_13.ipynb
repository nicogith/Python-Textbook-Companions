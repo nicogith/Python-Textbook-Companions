{
 "metadata": {
  "name": "chapter 13 som.ipynb"
 },
 "nbformat": 3,
 "nbformat_minor": 0,
 "worksheets": [
  {
   "cells": [
    {
     "cell_type": "heading",
     "level": 2,
     "metadata": {},
     "source": [
      "Chapter No.13:Shear Stress in Beams"
     ]
    },
    {
     "cell_type": "heading",
     "level": 2,
     "metadata": {},
     "source": [
      "Problem no 13.2,Page No.301"
     ]
    },
    {
     "cell_type": "code",
     "collapsed": false,
     "input": [
      "import math\n",
      "\n",
      "#Initilization of variables\n",
      "#W=10*w #KN/m #u.d.l\n",
      "sigma=805*10**6 #Pa  #Bending stress\n",
      "Tou=0.85*10**6 #Pa #Shear stress\n",
      "\n",
      "#Calculations\n",
      "\n",
      "#M=W*L**2*10**-4*8**-1 #Max B.M\n",
      "#F=W*L*10**-2*2**-1 #Max S.F\n",
      "#y=h*2**-1 #depth\n",
      "#A-b*h #Area of c/s\n",
      "\n",
      "#Now using relation we get\n",
      "#sigma=M*h*(2*I)**-1   #Bending stress\n",
      "\n",
      "#AFter substituitng values we get\n",
      "#805*10**6=w*l**2*h*(16*10**5*I)**-1   #Equation 1\n",
      "\n",
      "#Again using the relation we get \n",
      "#tou=F*A*y_bar*(I*b)**-1  #shear atress\n",
      "\n",
      "#AFter substituitng values we get\n",
      "#0.85*10**6=w*L*h**2*(16*10**5*I)**-1  #Equation 2\n",
      "\n",
      "#Dividing equation 1 & 2 we get\n",
      "#L*h**-1=10\n",
      "#Let L*h**-1=Z\n",
      "z=10\n",
      "\n",
      "#Result\n",
      "print\"The Ratio of span to depth ratio is\",round(z,2)"
     ],
     "language": "python",
     "metadata": {},
     "outputs": [
      {
       "output_type": "stream",
       "stream": "stdout",
       "text": [
        "The Ratio of span to depth ratio is 10.0\n"
       ]
      }
     ],
     "prompt_number": 1
    },
    {
     "cell_type": "heading",
     "level": 2,
     "metadata": {},
     "source": [
      "Problem no 13.3,Page No.302"
     ]
    },
    {
     "cell_type": "code",
     "collapsed": false,
     "input": [
      "import math\n",
      "%matplotlib  inline\n",
      "\n",
      "#Initilization of variables\n",
      "\n",
      "L=2 #m #span\n",
      "w=20*10**3 #N/m #u.d.L\n",
      "b=12.5 #cm #width of Flange\n",
      "t=2.5 #cm #flange thickness\n",
      "w_t=2.5 #cm #web thickness\n",
      "D=20  #cm #Overall depth\n",
      "w_d=17.5 #m #Depth of web\n",
      "\n",
      "#Calculations\n",
      "\n",
      "F=w*L*2**-1 #N #Max S.F\n",
      "a_1=b*t #Area of flange\n",
      "a_2=w_d*w_t #Area of web\n",
      "y_1=t*2**-1 #C.G of flange\n",
      "y_2=w_d*2**-1+t #C.G of web\n",
      "\n",
      "#C.G of c/s\n",
      "Y=(a_1*y_1+a_2*y_2)*(a_1+a_2)**-1 \n",
      "\n",
      "#M.I about N.A\n",
      "I=b*t**3*12**-1+b*t*(Y-y_1)**2+w_t*w_d**3*12**-1+w_t*w_d*(y_2-Y)**2 \n",
      "\n",
      "#Shear Stress in flange at the junction with web\n",
      "#Let tou(Shear stress)=S \n",
      "#Change in the notifications of Shear Stress For convenience\n",
      "S_1=(F*a_1*(Y-y_1)*10**-6)*(I*10**-8*b*10**-2)**-1*10**-3 \n",
      "\n",
      "#Shear Stress in web at the junction with flange \n",
      "S_2=(F*a_1*(Y-y_1)*10**-6)*(I*10**-8*w_t*10**-2)**-1*10**-3 \n",
      "\n",
      "#Max Shear Stres at N.A\n",
      "S_max=(F*(a_1*(Y-y_1)+(w_t*(Y-t))*((Y-t)*2**-1))*10**-6)*(I*10**-8*w_t*10**-2)**-1*10**-3\n",
      "\n",
      "#Result\n",
      "print\"The Max shear stress in the beam is\",round(X_max,2),\"KN/m**2\"\n",
      "\n",
      "print\"Shear stress distribution Diagram\"\n",
      "\n",
      "#Plotting the Shear stress distribution Diagram\n",
      "\n",
      "X_1=[0,2.5,2.5,4.58,15.42]\n",
      "Y_1=[0,S_1,S_2,S_max,0]\n",
      "Z_1=[0,0,0,0,0]\n",
      "plt.plot(X_1,Y_1,X_1,Z_1)\n",
      "plt.xlabel(\"Length x in m\")\n",
      "plt.ylabel(\"Shear Stress in kN/m**2\")\n",
      "plt.show()"
     ],
     "language": "python",
     "metadata": {},
     "outputs": [
      {
       "output_type": "stream",
       "stream": "stdout",
       "text": [
        "The Max shear stress in the beam is 5644.64 KN/m**2\n",
        "Shear stress distribution Diagram\n"
       ]
      },
      {
       "metadata": {},
       "output_type": "display_data",
       "png": "[encoded data removed]",
       "text": [
        "<matplotlib.figure.Figure at 0x57624b0>"
       ]
      }
     ],
     "prompt_number": 24
    },
    {
     "cell_type": "heading",
     "level": 2,
     "metadata": {},
     "source": [
      "Problem no 13.4,Page No.303"
     ]
    },
    {
     "cell_type": "code",
     "collapsed": false,
     "input": [
      "import math\n",
      "\n",
      "#Initilization of variables\n",
      "\n",
      "F=100*10**3 #N #Shear Force\n",
      "I=11340*10**-8 #m**4 #M.I\n",
      "b=20 #cm #width of Flange\n",
      "t=5 #cm #thickness of flange\n",
      "w_d=20 #cm #Depth of web\n",
      "w_t=5 #cm #thickness of web\n",
      "\n",
      "#Calculations\n",
      "\n",
      "a_1=b*t #cm**2 #Area of flange\n",
      "a_2=w_d*w_t #cm**2 #Area of web\n",
      "y_1=t*2**-1 #cm #C.G of flange\n",
      "y_2=t+w_d*2**-1\n",
      "\n",
      "#C.G of C/s\n",
      "Y=(a_1*y_1+a_2*y_2)*(a_1+a_2)**-1\n",
      "\n",
      "#Shear Stress in flange at the junction with web\n",
      "#Let tou(Shear stress)=S \n",
      "#Change in the notifications of Shear Stress For convenience\n",
      "S_1=(F*a_1*(Y-y_1)*10**-6)*(I*b*10**-2)**-1*10**-3 \n",
      "\n",
      "#Shear Stress in web at the junction with flange \n",
      "S_2=(F*a_1*(Y-y_1)*10**-6)*(I*w_t*10**-2)**-1*10**-3 \n",
      "\n",
      "#Max Shear Stres at N.A\n",
      "S_max=(F*(a_1*(Y-y_1)+(w_t*(Y-t))*((Y-t)*2**-1))*10**-6)*(I*w_t*10**-2)**-1*10**-3\n",
      "\n",
      "#Result\n",
      "print\"Shear Stress in flange at the junction with web\",round(S_1,2),\"KN/m**2\"\n",
      "print\"Shear Stress in web at the junction with flange\",round(S_2,2),\"KN/m**2\"\n",
      "print\"Max Shear Stres at N.A\",round(S_max,2),\"KN/m**2\""
     ],
     "language": "python",
     "metadata": {},
     "outputs": [
      {
       "output_type": "stream",
       "stream": "stdout",
       "text": [
        "Shear Stress in flange at the junction with web 2755.73 KN/m**2\n",
        "Shear Stress in web at the junction with flange 11022.93 KN/m**2\n",
        "Max Shear Stres at N.A 11642.97 KN/m**2\n"
       ]
      }
     ],
     "prompt_number": 38
    },
    {
     "cell_type": "heading",
     "level": 2,
     "metadata": {},
     "source": [
      "Problem no 13.5,Page No.304"
     ]
    },
    {
     "cell_type": "code",
     "collapsed": false,
     "input": [
      "import math\n",
      "from scipy.integrate import quad\n",
      "\n",
      "\n",
      "#Initilization of variables\n",
      "\n",
      "D=50 #cm #Overall depth\n",
      "b=19 #cm #width of flange\n",
      "t=2.5 #cm #Thickness of Flange\n",
      "w_t=1.5 #cm #Web thickness\n",
      "w_d=45 #cm #web thickness\n",
      "F=400*10**3 #N #Shear Force\n",
      "I=64500*10**-8 #m**4 #M.I\n",
      "\n",
      "#Calculations  (Part-1)\n",
      " \n",
      "a_1=b*t #cm**2 #Area of flange\n",
      "a_2=w_d*w_t #cm**2 #Area of web\n",
      "y_1=t*2**-1 #cm #C.G of flange\n",
      "y_2=t+w_d*2**-1\n",
      "\n",
      "#As section is symmetrical \n",
      "Y=D*2**-1 #cm\n",
      "\n",
      "#Shear Stress in flange at the junction with web\n",
      "#Let tou(Shear stress)=S \n",
      "#Change in the notifications of Shear Stress For convenience\n",
      "S_1=(F*a_1*(Y-y_1)*10**-6)*(I*b*10**-2)**-1*10**-3 \n",
      "\n",
      "#Shear Stress in web at the junction with flange \n",
      "S_2=(F*a_1*(Y-y_1)*10**-6)*(I*w_t*10**-2)**-1*10**-3 \n",
      "\n",
      "#Max Shear Stres at N.A\n",
      "S_max=(F*(a_1*(Y-y_1)+(w_t*(Y-t))*((Y-t)*2**-1))*10**-6)*(I*w_t*10**-2)**-1*10**-3\n",
      "\n",
      "#Calculations (Part-2)\n",
      "\n",
      "#consider a strip in the flange of thickness dy at a distance y from N.A \n",
      "\n",
      "#S=F*(b*(Y-y)*(Y+y)*2**-1*10**-6)*(I*b*10**-2)**-1\n",
      "#after substituting values we get\n",
      "#S=625-y**2*(3225*10**-8)**-1\n",
      "\n",
      "#shear force carried by small strip\n",
      "#F_1=625-y**2*(3225*10**-8)**-1*b*dy*10**-4\n",
      "\n",
      "#Now Integrating above Equation we get\n",
      "def integrand(y, a, b):\n",
      "       return 625-y**2\n",
      "a =625\n",
      "b =-1\n",
      "I = quad(integrand, 22.5, 25, args=(a,b))\n",
      "\n",
      "#Shear force carried by one flange\n",
      "F_1=19*3225**-1*10**4*I[0]\n",
      "\n",
      "#Shear force carried by two flange\n",
      "F_2=2*F_1\n",
      "\n",
      "#Shear force carried by web\n",
      "F_3=F-F_2\n",
      "\n",
      "#Result\n",
      "print\"The shear Force int the section is\",round(S_max,2),\"Pa\"\n",
      "print\"Total Shear Force in the web is\",round(F_3,2),\"N\"\n",
      "\n",
      "\n",
      "print\"Shear stress distribution Diagram\"\n",
      "\n",
      "#Plotting the Shear stress distribution Diagram\n",
      "\n",
      "X_1=[0,2.5,2.5,25,47.5,47.5,50]\n",
      "Y_1=[0,S_1,S_2,S_max,S_2,S_1,0]\n",
      "Z_1=[0,0,0,0,0,0,0]\n",
      "plt.plot(X_1,Y_1,X_1,Z_1)\n",
      "plt.xlabel(\"Length x in m\")\n",
      "plt.ylabel(\"Shear Stress in kN/m**2\")\n",
      "plt.show()"
     ],
     "language": "python",
     "metadata": {},
     "outputs": [
      {
       "output_type": "stream",
       "stream": "stdout",
       "text": [
        "The shear Force int the section is 62338.5 MPa\n",
        "Total Shear Force in the web is 382202.84 N\n",
        "Shear stress distribution Diagram\n"
       ]
      },
      {
       "metadata": {},
       "output_type": "display_data",
       "png": "[encoded data removed]",
       "text": [
        "<matplotlib.figure.Figure at 0x5633a10>"
       ]
      }
     ],
     "prompt_number": 7
    },
    {
     "cell_type": "heading",
     "level": 2,
     "metadata": {},
     "source": [
      "Problem no 13.6,Page No.305"
     ]
    },
    {
     "cell_type": "code",
     "collapsed": false,
     "input": [
      "import math\n",
      "\n",
      "#Initilization of variables\n",
      "\n",
      "F=5*10**3 #N #shea Force\n",
      "b=20 #cm #width of Flange\n",
      "t=6 #cm #Thickness of flange\n",
      "w_d=20 #cm #depth of web\n",
      "w_t=6 #cm #thickness of web\n",
      "X=700 #N #Shear Looad\n",
      "\n",
      "#Calculations\n",
      "\n",
      "a_1=b*t #cm**2 #Area ofFlange\n",
      "a_2=w_d*w_t #cm**2 #Area of web\n",
      "y_1=t*2**-1 #cm #C.G of Flange\n",
      "y_2=t+w_d*2**-1 #cm #C.G of Web\n",
      "\n",
      "Y=(a_1*y_1+a_2*y_2)*(a_1+a_2)**-1\n",
      "\n",
      "#M.I about N.A\n",
      "I=b*t**3*12**-1+b*t*(Y-y_1)**2+w_t*w_d**3*12**-1+w_t*w_d*(y_2-Y)**2 \n",
      "\n",
      "#Shear Force per metre Length in Plane of contact of two Planks \n",
      "#Let Shear Force per metre Length=F_1 \n",
      "F_1=(F*a_1*(Y-y_1)*10**-6)*(I*10**-8)**-1\n",
      "\n",
      "#Spacing of nails\n",
      "s=X*F_1**-1*100\n",
      "\n",
      "#Result\n",
      "print\"The spacing of nails along the Length of beam is\",round(s,2),\"cm\""
     ],
     "language": "python",
     "metadata": {},
     "outputs": [
      {
       "output_type": "stream",
       "stream": "stdout",
       "text": [
        "The spacing of nails along the Length of beam is 2.6 cm\n"
       ]
      }
     ],
     "prompt_number": 74
    },
    {
     "cell_type": "heading",
     "level": 2,
     "metadata": {},
     "source": [
      "Problem no 13.7,Page No.306"
     ]
    },
    {
     "cell_type": "code",
     "collapsed": false,
     "input": [
      "import math\n",
      "\n",
      "#Initilization of variables\n",
      "\n",
      "L=3 #m #span\n",
      "d=5 #cm #depth of each plank\n",
      "b=15 #cm #width of plank\n",
      "d_1=1.9 #cm #Diameter of bolt\n",
      "s=12.5 #cm #spacing of bolt\n",
      "w=3.3*10**3 #N.m #u.d.l\n",
      "\n",
      "#Calculations\n",
      "\n",
      "#Shear Force at 1.5m from support\n",
      "F=w*1.5\n",
      "\n",
      "I=b*(5*d)**3*12**-1 #M.I\n",
      "A=pi*4**-1*d_1**2 #area of Bolt\n",
      "Y=5*d*2**-1 #C.G of beam\n",
      "y_1=d*2**-1 #c.G of top plank\n",
      "\n",
      "#Shear Force per metre Length \n",
      "F_1=F*b*d*(Y-y_1)*10**-6*(I*10**-8)**-1\n",
      "\n",
      "#Load carried by bolt\n",
      "W_1=F_1*s*10**-2\n",
      "\n",
      "#shear stress\n",
      "X_1=W_1*(round(A,3))**-1*10**+4\n",
      "\n",
      "#Shear Force per metre Length \n",
      "F_2=F*b*2*d*((d+y_1)-Y*10**-6)*(I*10**-8)**-1*10**-6\n",
      "\n",
      "#Load carried by bolt\n",
      "W_2=F_2*s*10**-2\n",
      "\n",
      "#shear stress\n",
      "X_2=W_2*(A*10**-4)**-1*10**-3\n",
      "\n",
      "#Reult\n",
      "print\"Shear stress in a bolt Located at 1.5 m from support is\",round(X_2,2),\"KN/m**2\""
     ],
     "language": "python",
     "metadata": {},
     "outputs": [
      {
       "output_type": "stream",
       "stream": "stdout",
       "text": [
        "Shear stress in a bolt Located at 1.5 m from support is 12570.13 KN/m**2\n"
       ]
      }
     ],
     "prompt_number": 23
    },
    {
     "cell_type": "heading",
     "level": 2,
     "metadata": {},
     "source": [
      "Problem no 13.8,Page No.307"
     ]
    },
    {
     "cell_type": "code",
     "collapsed": false,
     "input": [
      "import math\n",
      "\n",
      "#Initilization of variables\\\n",
      "\n",
      "b=15 #cm #width of plank\n",
      "t=2.5 #cm #thickness of planf\n",
      "F_1=1250 #N #Shear Force\n",
      "F_2=5*10**3 #shaear force transmitted by screw\n",
      "d=15 #cm #Depth of plank\n",
      "D=20 #cm  #Overall depth\n",
      "\n",
      "#Calculations\n",
      "\n",
      "Y=D*2**-1  #C.G of beam\n",
      "y_1=t*2**-1 #C.G of flange\n",
      "\n",
      "I=((b*D**3)-(D*2**-1*b**3))*12**-1 #cm**4 #M.I\n",
      "\n",
      "#Shear Stress in the Flange at 7.5 cm from N.A\n",
      "X_1=F_2*b*t*(Y-y_1)*10**-6*(I*10**-8*d*10**-2)**-1*10**-3\n",
      "\n",
      "#Shear Stress in the web at 7.5 cm from N.A\n",
      "X_2=X_1*d*(2*t)**-1\n",
      "\n",
      "#shear stress at N.A\n",
      "X_max=F_2*(b*t*(Y-y_1)+2*t*d*2**-1*d*4**-1)*10**-6*(I*10**-8*2*t*10**-2)**-1*10**-3\n",
      "\n",
      "#horizontal shear force per pitch length to the shearing strength of two bolts we have\n",
      "#X_h=X_2*10**3*2*t*10**-2*p\n",
      "\n",
      "#Equating horizontal shear force per pitch length to the shearing strength of two bolts we have\n",
      "p=F_1*2*(X_2*10**3*2*t*10**-2)**-1*10**2\n",
      "\n",
      "#Result\n",
      "print\"The Min spacing of screw along the beam is\",round(p,2),\"cm\""
     ],
     "language": "python",
     "metadata": {},
     "outputs": [
      {
       "output_type": "stream",
       "stream": "stdout",
       "text": [
        "The Min spacing of screw along the beam is 10.95 cm\n"
       ]
      }
     ],
     "prompt_number": 18
    },
    {
     "cell_type": "heading",
     "level": 2,
     "metadata": {},
     "source": [
      "Problem no 13.9,Page No.308"
     ]
    },
    {
     "cell_type": "code",
     "collapsed": false,
     "input": [
      "import math\n",
      "\n",
      "#Initilization of variables\n",
      "\n",
      "L=4 #m #span\n",
      "w=80*10**3 #N/m #u.d.l\n",
      "D=35 #cm #Overall depth\n",
      "b=15 #cm #width of Flange\n",
      "t=2.5 #cm #Thickness of flange\n",
      "w_d=30 #cm #Depth of web\n",
      "w_t=1.2 #cm #thickness of web\n",
      "\n",
      "#Calculations\n",
      "\n",
      "R_a=R_b=160 #KN #Reactions at supports\n",
      "\n",
      "#Shear FOrce at 1m from left support\n",
      "F=R_a*10**3-w\n",
      "\n",
      "M=R_a*10**3-w*2**-1 #B.M at 1m From support\n",
      "\n",
      "I=(b*D**3-((b-w_t)*w_d**3))*12**-1 #cm**4\n",
      "\n",
      "y=w_d*2**-1\n",
      "sigma=M*I**-1*y #N/m**2\n",
      "\n",
      "#Shear stress in Flange at the junction with web\n",
      "X_1=w*b*t*(w_d*2**-1+t*2**-1)*10**-6*(I*10**-8*b*10**-2)**-1*10**-3\n",
      "\n",
      "#Shear stress in web at the junction with Flange \n",
      "X_2=X_1*15*1.2**-1\n",
      "\n",
      "#Result\n",
      "print\"The Magnitude of Bending is\",round(sigma,2),\"N/m**2\"\n",
      "print\"Shear stress in web at the junction with Flange\",round(X_1,2),\"KN/m**2\""
     ],
     "language": "python",
     "metadata": {},
     "outputs": [
      {
       "output_type": "stream",
       "stream": "stdout",
       "text": [
        "The Magnitude of Bending is 79.84 N/m**2\n",
        "Shear stress in web at the junction with Flange 1441.64 KN/m**2\n"
       ]
      }
     ],
     "prompt_number": 16
    },
    {
     "cell_type": "heading",
     "level": 2,
     "metadata": {},
     "source": [
      "Problem no 13.10,Page No.309"
     ]
    },
    {
     "cell_type": "code",
     "collapsed": false,
     "input": [
      "import math\n",
      "\n",
      "#Initilization of variables\n",
      "\n",
      "b=25 #cm #width of top FLange\n",
      "t=5 #cm #thickness of top Flange\n",
      "D=35 #cm #Depth of overall section\n",
      "w_d=25 #cm #depth of web\n",
      "w_t=5 #cm #thickness of web\n",
      "t_1=5 #cm #thickness of bottom Flange\n",
      "b_1=15 #cm #width of bottom Flange\n",
      "sigma=17.5*10**6\n",
      "F=100*10**3 #N #S.F\n",
      "\n",
      "#Calculations\n",
      "\n",
      "a_1=b*t #area of top flange\n",
      "a_2=w_d*w_t #area of web\n",
      "a_3=b_1*t_1 #area of bottom Flange\n",
      "y_1=t*2**-1 #C.G of top flange\n",
      "y_3=D-(t_1*2**-1) #C.G of bottom Flange \n",
      "y_2=D*2**-1 #c.G of Web\n",
      "\n",
      "Y=(a_1*y_1+a_2*y_2+a_3*y_3)*(a_1+a_2+a_3)**-1\n",
      "\n",
      "I=b*t**3*12**-1+b*t*(Y-y_1)**2+w_t*w_d**3*12**-1+w_t*w_d*(D*2**-1-Y)**2+b_1*t_1**3*12**-1+b_1*t_1*(y_3-Y)**2\n",
      "\n",
      "M=sigma*I*10**-8*(Y*10**-2)**-1 #B.M\n",
      "\n",
      "#Shear Stress in upper Flange at the junction with web\n",
      "S_1=F*b*t*(Y-y_1)*10**-6*(I*10**-8*b*10**-2)**-1*10**-3\n",
      "\n",
      "#Shear Stress in web at the junction with upper Flange \n",
      "S_2=S_1*b*t**-1\n",
      "\n",
      "#Max shear stress at the N.A\n",
      "S=F*(b*t*(Y-y_1)+w_t*(Y-t)*(Y-t)*2**-1)*10**-6*(I*10**-8*w_t*10**-2)**-1*10**-3\n",
      "\n",
      "#Shear Stress in Lower Flange at the junction with web\n",
      "S_3=F*(a_3*(D-Y-t_1*2**-1))*10**-6*(I*10**-8*b_1*10**-2)**-1*10**-3\n",
      "\n",
      "#Shear Stress in web at the junction with Lower Flange \n",
      "S_4=S_3*b_1*t_1**-1\n",
      "\n",
      "#Result\n",
      "print\"The Bending Moment section can take is\",round(M,2),\"N-m\"\n",
      "print\"The shear stress Distribution Diagram\"\n",
      "\n",
      "#Plotting the Shear stress distribution Diagram\n",
      "\n",
      "X_1=[0,5,5,15.19,30,30,35]\n",
      "Y_1=[0,S_1,S_2,S,S_3,S_4,0]\n",
      "Z_1=[0,0,0,0,0,0,0]\n",
      "plt.plot(X_1,Y_1,X_1,Z_1)\n",
      "plt.xlabel(\"Length x in m\")\n",
      "plt.ylabel(\"Shear Stress in kN/m**2\")\n",
      "plt.show()\n"
     ],
     "language": "python",
     "metadata": {},
     "outputs": [
      {
       "output_type": "stream",
       "stream": "stdout",
       "text": [
        "The Bending Moment section can take is 57821.07 N-m\n",
        "The shear stress Distribution Diagram\n"
       ]
      },
      {
       "metadata": {},
       "output_type": "display_data",
       "png": "[encoded data removed]",
       "text": [
        "<matplotlib.figure.Figure at 0x5641790>"
       ]
      }
     ],
     "prompt_number": 11
    },
    {
     "cell_type": "code",
     "collapsed": false,
     "input": [],
     "language": "python",
     "metadata": {},
     "outputs": []
    }
   ],
   "metadata": {}
  }
 ]
}