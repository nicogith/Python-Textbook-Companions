{
 "metadata": {
  "name": "chapter 16 som.ipynb"
 },
 "nbformat": 3,
 "nbformat_minor": 0,
 "worksheets": [
  {
   "cells": [
    {
     "cell_type": "heading",
     "level": 1,
     "metadata": {},
     "source": [
      "Chapter 16:Riveted Joints"
     ]
    },
    {
     "cell_type": "heading",
     "level": 2,
     "metadata": {},
     "source": [
      "Problem 16.1,Page no.366"
     ]
    },
    {
     "cell_type": "code",
     "collapsed": false,
     "input": [
      "import math\n",
      "\n",
      "#Initilization of variables\n",
      "\n",
      "t=1 #cm #thickness of plates\n",
      "sigma_t=150 #MPa #Working stress\n",
      "sigma_c=212.5 #MPa #crushing stress\n",
      "sigma_s=94.5 #MPa #shearing stress\n",
      "\n",
      "#Calculation (Part-1)\n",
      "\n",
      "#P_s=pi*4**-1*d**2*sigma_s #N #Shearing strength\n",
      "#After substituting values and further simplifying we get\n",
      "#P_s=pi*4**-1*d**2*94.5*10**6 #N \n",
      "\n",
      "#P_c=d*t*sigma_c #N #crushing strength\n",
      "#After substituting values and further simplifying we get\n",
      "#P_c=d*1*10**-2*212.5*10**6 #N \n",
      "\n",
      "#P_t=(p-d)*t*sigma_t #N #Strength of plate in tearing\n",
      "#After substituting values and further simplifying we get\n",
      "#P_t=(p-d)*1*10**-2*150*10**6\n",
      "\n",
      "#Now comparing strengths \n",
      "#P_s=P_c \n",
      "#pi*4**-1*d**2*94.5*10**6=d*1*10**-2*212.5*10**6\n",
      "d=1*10**-2*212.5*10**6*(pi*4**-1*94.5*10**6)**-1 #m #Diameter of rivet\n",
      "\n",
      "#Now comparing strengths \n",
      "#P_t=P_c\n",
      "#(p-d)*1*10**-2*150*10**6=d*1*10**-2*212.5*10**6\n",
      "#Afte further simplifying equation we get\n",
      "#(p-d)=1.4166*d\n",
      "p=(1.4166*d+d) #m #Pitch length of rivet\n",
      "\n",
      "P=p*sigma_t*10**6*t*10**-2 #N #Strength of solid plate #Answer for strength of solid plate is incorrect in textbook \n",
      "\n",
      "rho=(p-d)*p**-1*100 #Efficiency of the joint #Notification has been changed\n",
      "\n",
      "#Calculation (Part-2)\n",
      "\n",
      "#P_s=2*pi*4**-1*d**2*sigma_s #N #Shearing strength\n",
      "#After substituting values and further simplifying we get\n",
      "#P_s=2*pi*4**-1*d**2*94.5*10**6 #N \n",
      "\n",
      "#P_c=2*d*t*sigma_c #N #crushing strength\n",
      "#After substituting values and further simplifying we get\n",
      "#P_c=2*d*1*10**-2*212.5*10**6 #N \n",
      "\n",
      "#P_t=(p-d)*t*sigma_t #N #Strength of plate in tearing\n",
      "#After substituting values and further simplifying we get\n",
      "#P_t=(p-d)*1*10**-2*150*10**6\n",
      "\n",
      "#Now comparing strengths \n",
      "#P_s=P_c \n",
      "#2*pi*4**-1*d**2*94.5*10**6=2*d*1*10**-2*212.5*10**6\n",
      "d=1*10**-2*212.5*10**6*(pi*4**-1*94.5*10**6)**-1 #m #Diameter of rivet\n",
      "\n",
      "#Now comparing strengths \n",
      "#P_t=P_c\n",
      "#(p-d)*1*10**-2*150*10**6=2*d*1*10**-2*212.5*10**6\n",
      "#Afte further simplifying equation we get\n",
      "#(p-d)=2.833*d\n",
      "p_1=(2.833*d+d) #m #Pitch length of rivets in shearing strength of plate #Notification for pitch length has been changed\n",
      "\n",
      "rho_2=(p_1-d)*p_1**-1*100 #Efficiency of the joint #Notification has been changed\n",
      "\n",
      "#Result \n",
      "print\"The Efficiency of joint in single rivet is\",round(rho,2),\"%\"\n",
      "print\"The Efficiency of joint in double rivet is\",round(rho_2,2),\"%\""
     ],
     "language": "python",
     "metadata": {},
     "outputs": [
      {
       "output_type": "stream",
       "stream": "stdout",
       "text": [
        "The Efficiency of joint in single rivet is 58.62 %\n",
        "The Efficiency of joint in double rivet is 73.91 %\n"
       ]
      }
     ],
     "prompt_number": 29
    },
    {
     "cell_type": "heading",
     "level": 2,
     "metadata": {},
     "source": [
      "Problem 16.2,Page no.367"
     ]
    },
    {
     "cell_type": "code",
     "collapsed": false,
     "input": [
      "import math\n",
      "\n",
      "#Initilization of variables\n",
      "\n",
      "p=7.5 #cm #Pitch of rivets\n",
      "t=1.5 #cm #Thickness of plate\n",
      "d=2.5 #cm #diameter of rivets\n",
      "sigma_t=400 #MPa #Working stress\n",
      "sigma_c=640 #MPa #crushing stress\n",
      "sigma_s=320 #MPa #shearing stress\n",
      "n=2 #No. of rivets\n",
      "\n",
      "#Calculation\n",
      "\n",
      "P_t=(p-d)*t*10**-4*sigma_t*10**6*10**-3 #N #Strength of plate in tearing\n",
      "P_s=n*pi*4**-1*d**2*10**-4*sigma_s*10**6*10**-3 #N #Shearing strength\n",
      "P_c=n*d*t*10**-4*sigma_c*10**6*10**-3 #N #crushing strength\n",
      "\n",
      "#Thus Minimum force that will rapture the joint is least of P_t,P_s,P_c i.e P_t\n",
      "\n",
      "#Result\n",
      "print\"Minimum force that will rapture the joint is\",round(P_t,2),\"N\""
     ],
     "language": "python",
     "metadata": {},
     "outputs": [
      {
       "output_type": "stream",
       "stream": "stdout",
       "text": [
        "Minimum force that will rapture the joint is 300.0 N\n"
       ]
      }
     ],
     "prompt_number": 39
    },
    {
     "cell_type": "heading",
     "level": 2,
     "metadata": {},
     "source": [
      "Problem 16.3,Page no.367"
     ]
    },
    {
     "cell_type": "code",
     "collapsed": false,
     "input": [
      "import math\n",
      "\n",
      "#Initilization of variables\n",
      "\n",
      "d_1=2 #cm #Diameter of rivets\n",
      "p_1=6 #cm #Pitch of rivet\n",
      "d_2=3 #cm #Diameter of rivet\n",
      "p_2=8 #cm #Pitch of rivet\n",
      "sigma_t=120 #MPa #Working stress\n",
      "sigma_c=160 #MPa #crushing stress\n",
      "sigma_s=90 #MPa #shearing stress\n",
      "t=1.2 #cm #thickness of plate\n",
      "n=2 #No. of rivets\n",
      "\n",
      "#Calculation (part-1)\n",
      "\n",
      "P_t=(p_1-d_1)*t*10**-4*sigma_t*10**6 #N #Strength of plate in tearing\n",
      "P_s=n*pi*4**-1*d_1**2*10**-4*sigma_s*10**6 #N #Shearing strength\n",
      "P_c=n*d_1*t*10**-4*sigma_c*10**6 #N #crushing strength\n",
      "P=p_1*t*10**-4*sigma_t*10**6 #N #Strength of solid per pitch length\n",
      "\n",
      "rho_1=P_s*(P)**-1*100 #% #Efficiency of the joint\n",
      "\n",
      "#Calculation (part-2)\n",
      "\n",
      "P_t_2=(p_2-d_2)*t*10**-4*sigma_t*10**6 #N #Strength of plate in tearing\n",
      "P_s_2=n*pi*4**-1*d_2**2*10**-4*sigma_s*10**6 #N #Shearing strength\n",
      "P_c_2=n*d_2*t*10**-4*sigma_c*10**6 #N #crushing strength\n",
      "P_2=p_2*t*10**-4*sigma_t*10**6 #N #Strength of solid per pitch length\n",
      "\n",
      "rho_2=P_t_2*(P_2)**-1*100 #% #Efficiency of the joint\n",
      "\n",
      "#Result\n",
      "print\"First joint has higher Efficiency i.e\",round(rho_1,2),\"% than second joint\""
     ],
     "language": "python",
     "metadata": {},
     "outputs": [
      {
       "output_type": "stream",
       "stream": "stdout",
       "text": [
        "First joint has higher Efficiency i.e 65.45 % than second joint\n"
       ]
      }
     ],
     "prompt_number": 60
    },
    {
     "cell_type": "heading",
     "level": 2,
     "metadata": {},
     "source": [
      "Problem 16.4,Page no.368"
     ]
    },
    {
     "cell_type": "code",
     "collapsed": false,
     "input": [
      "import math\n",
      "\n",
      "#Initilization of variables\n",
      "\n",
      "t=18 #mm #thickness of plates\n",
      "sigma_t=100 #MPa #Tensile stress #Notification has been changed\n",
      "sigma_s=70 #MPa #Shearing stress #Notification has been changed\n",
      "\n",
      "#Calculations\n",
      "\n",
      "d=6*t**0.5 #mm #Diameter of rivet #Answer is in correct in textbook\n",
      "s=pi*4**-1*d**2*10**-6*sigma_s*10**6 #N #Strength of one rivet in single shear #Answer is in correct in textbook\n",
      "\n",
      "#Consider strip of joint equal to pitch p\n",
      "\n",
      "#S_1=(p-d)*t*10**-3*sigma_t*10**6 #Strength of plate against tearing along 1-1\n",
      "#After substituting values and further simplifying we get\n",
      "#S_1=1800*p-45900        (Equation 1)\n",
      " \n",
      "#S_2=(p-d)*t*10**-3*sigma_t*10**6+s #Strength of plate against tearing along 1-1\n",
      "#After substituting values and further simplifying we get\n",
      "#S_1=1800*p-56050.64     (Equation 2)\n",
      "\n",
      "#But the value of Equation 2 is smaller than Equation 1\n",
      "\n",
      "#Strength of rivets in single shear is\n",
      "S=4*s\n",
      "\n",
      "#Equating Equation 2 to shearing value\n",
      "#1800*p-56050.64=S\n",
      "p=(S+56050.64)*18000**-1 #cm #Pitch of rivet\n",
      "\n",
      "#Result\n",
      "print\"Diameter of rivets is\",round(d,2),\"mm\"\n",
      "print\"Pitch of rivet is\",round(p,2),\"cm\""
     ],
     "language": "python",
     "metadata": {},
     "outputs": [
      {
       "output_type": "stream",
       "stream": "stdout",
       "text": [
        "35625.6606917\n",
        "Diameter of rivets is 25.46 mm\n",
        "Pitch of rivet is 11.03 cm\n"
       ]
      }
     ],
     "prompt_number": 77
    },
    {
     "cell_type": "heading",
     "level": 2,
     "metadata": {},
     "source": [
      "Problem 16.5,Page no.369"
     ]
    },
    {
     "cell_type": "code",
     "collapsed": false,
     "input": [
      "import math\n",
      "\n",
      "#Initilization of variables\n",
      "\n",
      "t=12 #mm #Thickness of plate\n",
      "d=24 #mm #Diameter of rivets\n",
      "sigma_t=120 #MPa #stress in tension\n",
      "sigma_s=200 #MPa #stress in double shear\n",
      "sigma_b=200 #MPa #stress in Bearing\n",
      "n=1 #No. of rivet\n",
      "\n",
      "#Calculation\n",
      "\n",
      "#P_t=(p-d)*t*10**-4*sigma_t*10**6 #N #Strength of plate in tearing\n",
      "#After further simplifying we get\n",
      "#P_t=(p-24)*14400 #N \n",
      "\n",
      "P_s=n*pi*4**-1*d**2*10**-6*sigma_s*10**6 #N #Shearing strength of rivet in double shear\n",
      "\n",
      "P_b=n*d*10**-3*t*10**-3*sigma_b*10**6 #N #Bearing strength per pitch length\n",
      "\n",
      "#Now Equating P_t to P_s or P_b whichever is small\n",
      "#(p-24)*14400=P_b\n",
      "p=P_b*14400**-1+24*10**-1 #cm #Pitch of rivet\n",
      "p_min=2.5*d*10**-1 #cm #Minimum pitch\n",
      "\n",
      "#Now adopting 6.4 cm pitch\n",
      "\n",
      "rho=(p-d*10**-1)*p**-1*100\n",
      "\n",
      "#Result\n",
      "print\"Pitch of rivet is\",round(p,2),\"cm\"\n",
      "print\"Efficiency of joint is\",round(rho,2),\"%\""
     ],
     "language": "python",
     "metadata": {},
     "outputs": [
      {
       "output_type": "stream",
       "stream": "stdout",
       "text": [
        "Pitch of rivet is 6.4 cm\n",
        "Efficiency of joint is 62.5 %\n"
       ]
      }
     ],
     "prompt_number": 90
    },
    {
     "cell_type": "heading",
     "level": 2,
     "metadata": {},
     "source": [
      "Problem 16.6,Page no.370"
     ]
    },
    {
     "cell_type": "code",
     "collapsed": false,
     "input": [
      "import math\n",
      "\n",
      "#Initilization of variables\n",
      "\n",
      "t=12 #mm #thickness of plate\n",
      "d=18 #mm #Diameter of rivet\n",
      "p=8 #cm #pitch of rivet\n",
      "sigma_t=460 #MPa #Tensile stress\n",
      "sigma_s=320 #MPa #shearing stress\n",
      "sigma_b=640 #MPa #bearing stress\n",
      "n=2 #No. of rivet\n",
      "\n",
      "#Calculation\n",
      "\n",
      "P_t=(p-d*10**-1)*t*10**-1*10**-4*sigma_t*10**6 #N #Strength of plate in tearing\n",
      "P_s=n*2*pi*4**-1*d**2*10**-6*sigma_s*10**6 #N #Shearing strength of rivet pr pitch length\n",
      "P_b=n*d*10**-3*t*10**-3*sigma_b*10**6 #N #Bearing strength per pitch length\n",
      "\n",
      "#The joint will fail at a pull of P_b\n",
      "\n",
      "S=p*t*sigma_t*10**6*10**-5 #N #strength of solid plate\n",
      "rho=P_b*S**-1*100 #Efficiency of joint\n",
      "\n",
      "#Result\n",
      "print\"Pull per pitch length at which joint will fail is\",round(P_b,2),\"N\""
     ],
     "language": "python",
     "metadata": {},
     "outputs": [
      {
       "output_type": "stream",
       "stream": "stdout",
       "text": [
        "Pull per pitch lenght at which joint will fail is 276480.0 N\n"
       ]
      }
     ],
     "prompt_number": 102
    },
    {
     "cell_type": "heading",
     "level": 2,
     "metadata": {},
     "source": [
      "Problem 16.7,Page no.370"
     ]
    },
    {
     "cell_type": "code",
     "collapsed": false,
     "input": [
      "import math\n",
      "\n",
      "#Initilization of variables\n",
      "\n",
      "W=270 #KN #Load \n",
      "t=14 #mm #thickness of plate\n",
      "b=20 #cm #width of plate\n",
      "d=20 #mm #diameter of rivet\n",
      "sigma_s=70  #MPa #shear stress\n",
      "sigma_b=190 #MPa #stress in bearing\n",
      "sigma_t=110 #MPa #stress in tensile\n",
      "\n",
      "#Calculation\n",
      "\n",
      "S_1=1.75*pi*4**-1*b**2*10**-4*sigma_s*10**6 #strength of one rivet in double shear\n",
      "S_2=20*10**-3*t*10**-3*sigma_b*10**6\n",
      "\n",
      "n=W*10**3*S_1**-1\n",
      "\n",
      "#Adopt 7 rivets\n",
      "\n",
      "#The plates may tear along section 1-1\n",
      "W_1=(20-4)*10**-2*t*10**-3*sigma_t*10**6 #N #Permissible Load\n",
      "\n",
      "#The plates may tear along section 2-2,at the same time shearing the 4 rivets along 1-1 \n",
      "W_2=(20-2*2)*10**-2*t*10**-3*sigma_t*10**6+2*S_1 #N #Permissible Load\n",
      "\n",
      "#The plates may tear along section 3-3,at the same time shearing the rivets along 1-1 and 2-2\n",
      "W_3=(20-3*2)*10**-2*t*10**-3*sigma_t*10**6+4*S_1 #N #Permissible Load\n",
      "\n",
      "W_s=7*S_1 #N #Load to shear all the rivets \n",
      "W_c=7*S_2 #N #Load to crush all the rivets\n",
      "\n",
      "W_4=b*10**-2*t*10**-3*sigma_t*10**6 #N #Load carried by solid plate\n",
      "\n",
      "rho=W_1*W_4**-1*100 #% #Efficiency of joint\n",
      " \n",
      "#Result\n",
      "print\"Efficiency of joint is\",round(rho,2),\"%\""
     ],
     "language": "python",
     "metadata": {},
     "outputs": [
      {
       "output_type": "stream",
       "stream": "stdout",
       "text": [
        "Efficiency of joint is 80.0 %\n"
       ]
      }
     ],
     "prompt_number": 131
    },
    {
     "cell_type": "heading",
     "level": 2,
     "metadata": {},
     "source": [
      "Problem 16.8,Page no.371"
     ]
    },
    {
     "cell_type": "code",
     "collapsed": false,
     "input": [
      "import math\n",
      "\n",
      "#Initilization of variables\n",
      "\n",
      "D=1.5 #cm #Diameter of boiler\n",
      "rho=75 #% #Efficiency of joint\n",
      "sigma_t=85 #MPa #stress in tension\n",
      "sigma_s=70 #MPa #stress in shear\n",
      "P=1 #MPa #Steam Pressure #Notification has been changed\n",
      "\n",
      "#Calculation\n",
      "\n",
      "t=P*10**6*D*(2*sigma_t*10**6*rho*10**-2)**-1*100\n",
      "\n",
      "#Adopt 12 mm thickness of plate\n",
      "t_1=12 #mm \n",
      "d=6*t_1**0.5\n",
      "\n",
      "#Adopt 21 mm diameter of rivet\n",
      "d_1=21 #mm\n",
      "\n",
      "#P_t=(p-d_1*10**-1)*t*10**-1*10**-4*sigma_t*10**6 #N #Strength of plate in tearing\n",
      "#After substituting values and further simplifying we get\n",
      "#P_t=(p-2.1)*10200 #N \n",
      "\n",
      "P_s=1.875*pi*4**-1*d_1**2*10**-6*2*sigma_s*10**6\n",
      "\n",
      "#(p-d_1*10**-1)*10200=P_s\n",
      "p=P_s*10200**-1+d_1*10**-1\n",
      "\n",
      "#Result\n",
      "print\"pitch of plate is\",round(p,2),\"cm\""
     ],
     "language": "python",
     "metadata": {},
     "outputs": [
      {
       "output_type": "stream",
       "stream": "stdout",
       "text": [
        "pitch of plate is 11.01 cm\n"
       ]
      }
     ],
     "prompt_number": 111
    }
   ],
   "metadata": {}
  }
 ]
}