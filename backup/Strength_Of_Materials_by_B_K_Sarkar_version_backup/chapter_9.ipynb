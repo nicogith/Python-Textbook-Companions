{
 "metadata": {
  "name": "chapter 9 som.ipynb"
 },
 "nbformat": 3,
 "nbformat_minor": 0,
 "worksheets": [
  {
   "cells": [
    {
     "cell_type": "heading",
     "level": 2,
     "metadata": {},
     "source": [
      "Chapter No.9:Columns And Struts"
     ]
    },
    {
     "cell_type": "heading",
     "level": 2,
     "metadata": {},
     "source": [
      "Problem no 9.1,Page no.232"
     ]
    },
    {
     "cell_type": "code",
     "collapsed": false,
     "input": [
      "import math\n",
      "\n",
      "#Initilization of variables\n",
      "\n",
      "D=15 #cm #External Diameter\n",
      "t=2 #cm #Thickness\n",
      "L=6 #m #Length of cyclinder\n",
      "E=80*10**9 #Pa\n",
      "alpha=1*1600**-1 \n",
      "sigma_c=550*10**6 #Pa #compressive stress\n",
      "\n",
      "#Calculations\n",
      "\n",
      "d=D-2*t #m #Internal Diameter\n",
      "A=pi*4**-1*(D**2-d**2)*10**-4 #m**2 #Areaof Tube\n",
      "I=pi*64**-1*(D**4-d**4)*10**-4 #m**4 #M.I of tube\n",
      "k=(I*A**-1)**0.5 #m #Radius of Gyration\n",
      "\n",
      "P_e=pi**2*E*I*(L**2)**-1 #Euler's Load\n",
      "P_R=sigma_c*A*(1+alpha*(L*k**-1)**2)**-1 #According to Rankine's Formula\n",
      "\n",
      "#The Answer in Textbook is incorrect for P_R \n",
      "\n",
      "#Now again from Rankine's Formula\n",
      "#As K=I*A**-1,so substituting in below equation\n",
      "#Thus Stress calculated from Euler's Formula cannot exceed the yield stress of 550 MPa\n",
      "L=(pi**2*E*k**2*(550*10**6)**-1)**0.5*10**-2 #m #Length of cyclinder\n",
      "\n",
      "#Result\n",
      "print\"The Length of strut is\",round(L,2),\"cm\""
     ],
     "language": "python",
     "metadata": {},
     "outputs": [
      {
       "output_type": "stream",
       "stream": "stdout",
       "text": [
        "The Length of strut is 1.76 cm\n"
       ]
      }
     ],
     "prompt_number": 11
    },
    {
     "cell_type": "heading",
     "level": 2,
     "metadata": {},
     "source": [
      "Problem no 9.2,Page no.233"
     ]
    },
    {
     "cell_type": "code",
     "collapsed": false,
     "input": [
      "import math\n",
      "\n",
      "#Initilization of variables\n",
      "\n",
      "\n",
      "L=1.5 #m #Length of steelbar\n",
      "b=2 #cm #bredth of steelbar\n",
      "d=0.5 #cm #depth of steelbar\n",
      "sigma=320 #MPa #Yield point\n",
      "E=210 #GPa #modulus of Elasticity of steelbar\n",
      "\n",
      "#Calculations\n",
      "\n",
      "I_min=b*d**3*12**-1*10**-8 #m**4 #Moment of Inertia \n",
      "P=pi**2*E*10**9*I_min*(L**2)**-1 #N #N #Crippling Load\n",
      "\n",
      "#Let dell=Central Deflection\n",
      "\n",
      "#M=P*dell #Max Bending moment\n",
      "#After substituting value in above equation we get\n",
      "#M=191.9*dell\n",
      "\n",
      "A=b*d*10**-4 #m**2 #Area of steel bar\n",
      "sigma_1=P*A**-1*10**-6 #Mpa #Direct stress\n",
      "\n",
      "Z=b*d**3*10**-6  #Section modulus \n",
      "#sigma_2=M*Z**-1 #N/m**2 #Bending stress\n",
      "#After substituting value in above equation we get\n",
      "#sigma_2=dell*2302.8*10**6 #N/m**2 \n",
      "\n",
      "#sigma=sigma_1+sigma_2\n",
      "#Now substituting value of Bending stress and direct stress in above equation we get\n",
      "\n",
      "#320*10**6=1.919*10**6+2302.8*10**6*dell\n",
      "dell=((320*10**6-1.919*10**6)*(2302.8*10**6)**-1)*10**2 #cm #Central Deflection\n",
      "\n",
      "#Result\n",
      "print\"Maximum Central Deflection is\",round(dell,2),\"cm\""
     ],
     "language": "python",
     "metadata": {},
     "outputs": [
      {
       "output_type": "stream",
       "stream": "stdout",
       "text": [
        "Maximum Central Deflection is 13.81 cm\n"
       ]
      }
     ],
     "prompt_number": 9
    },
    {
     "cell_type": "heading",
     "level": 2,
     "metadata": {},
     "source": [
      "Problem no 9.3,Page no.233"
     ]
    },
    {
     "cell_type": "code",
     "collapsed": false,
     "input": [
      "import math\n",
      "\n",
      "#Initilization of variables\n",
      "\n",
      "dell=1 #cm #Deflection\n",
      "FOS=4 #Factor of safety\n",
      "E=210 #GPa #Modulus of Elasticity of steel bar\n",
      "W=40 #KN #Load \n",
      "\n",
      "#Flange Dimensions\n",
      "b=30 #cm #width of flange\n",
      "d=5 #cm #depth of flange\n",
      "\n",
      "#Web Dimensions\n",
      "d_1=100 #cm #Depth of web\n",
      "t_1=2 #cm #Thcikness of web\n",
      "\n",
      "#Calculations\n",
      "\n",
      "I_xx=(0.3*1.1**3-0.28*1**3)*12**-1 #m**4 #M.I about x-x axis\n",
      "I_yy=2*0.05*0.3**3*12**-1+1*0.02**3*12**-1 #m**4 #M.I about y-y axis\n",
      "\n",
      "#From the equation of deflection we get\n",
      "L=(dell*10**-2*384*E*10**9*I_xx*(5*40*10**3)**-1)**0.25 #m #Length of beam\n",
      "P=pi**2*210*I_yy*10**9*4*(L**2)**-1 #N #crippling Load\n",
      "S=P*4**-1 #N #Safe Load\n",
      "\n",
      "#Result\n",
      "print\"The Safe Load is\",round(S,2),\"N\""
     ],
     "language": "python",
     "metadata": {},
     "outputs": [
      {
       "output_type": "stream",
       "stream": "stdout",
       "text": [
        "The Safe Load is 2336127.78 N\n"
       ]
      }
     ],
     "prompt_number": 32
    },
    {
     "cell_type": "heading",
     "level": 2,
     "metadata": {},
     "source": [
      "Problem no 9.5,Page no.235"
     ]
    },
    {
     "cell_type": "code",
     "collapsed": false,
     "input": [
      "import math\n",
      "\n",
      "#Initilization of variables\n",
      "\n",
      "L=4 #m #Length of column\n",
      "W=250 #KN #Safe Load\n",
      "FOS=5 #Factor of safety\n",
      "#d=0.8*D #Internal diameter is 0.8 times Extarnal Diameter\n",
      "sigma_c=550 #MPa #Compressive stress\n",
      "alpha=1*1600**-1 #constant\n",
      "\n",
      "#Calculations\n",
      "\n",
      "P=W*FOS #N #Crippling Load\n",
      "\n",
      "#A=pi*4**-1(D**2-d**2) #m**2 #Area of hollow cyclinder\n",
      "#After substituting value of d we get\n",
      "\n",
      "#A=pi*0.09*D**2\n",
      "\n",
      "#I=pi*64**-1*(D**4-d**4) #m**4 #Mo,ent Of Inertia\n",
      "#After substituting value of d we get d we get\n",
      "\n",
      "#I=0.009225*pi*D**4\n",
      "\n",
      "#K=(I*A**-1)**0.5 #Radius of Gyration\n",
      "#After substituting value of I and A and further simplifying we get\n",
      "#K=0.32*D\n",
      "\n",
      "#Now using the Relation we get\n",
      "#P=sigma_c*A*(1+alpha*(l_e*k)**2)**-1 #Rankines Formula\n",
      "#Now Substituting values in above equation we get\n",
      "#125*10**4=550*10**6*pi*0.09*D**2*(1+1*1600**-1*((2*0.32)**2)**-1)**-1\n",
      "\n",
      "#Further simplifying and rearranging we get\n",
      "#D**4-0.008038*D**2-0.0001962397=0\n",
      "\n",
      "a=1\n",
      "b=-0.008038\n",
      "c=-0.0001962397\n",
      "\n",
      "X=b**2-4*a*c\n",
      "\n",
      "D_1=((-b+X**0.5)*(2*a)**-1)**0.5*10**2\n",
      "D_2=((-b-X**0.5)*(2*a)**-1)**0.5\n",
      "\n",
      "#Thus Diameter cannot be negative, discard value of D_2\n",
      "d=0.8*D_1\n",
      "\n",
      "#Result\n",
      "print\"The Minimum Diameter is\",round(d,2),\"cm\""
     ],
     "language": "python",
     "metadata": {},
     "outputs": [
      {
       "output_type": "stream",
       "stream": "stdout",
       "text": [
        "The Minimum Diameter is 10.91 cm\n"
       ]
      }
     ],
     "prompt_number": 33
    },
    {
     "cell_type": "heading",
     "level": 2,
     "metadata": {},
     "source": [
      "Problem no 9.6,Page no.236"
     ]
    },
    {
     "cell_type": "code",
     "collapsed": false,
     "input": [
      "import math\n",
      "\n",
      "#Initilization of variables\n",
      "\n",
      "d=0.04 #m #Internal Diameter of tube\n",
      "D=0.05 #m #External Diameter of tube\n",
      "P_1=240*10**3 #N #Compressive Load\n",
      "P_2=158*10**3#N #Failure Load\n",
      "L=2 #m #Length of tube\n",
      "l=3 #m #Length of strut\n",
      "\n",
      "#Calculations\n",
      "\n",
      "A=pi*4**-1*(D**2-d**2) #m**2 #Areaof Tube\n",
      "I=pi*64**-1*(D**4-d**4) #m**4 #M.I of tube\n",
      "k=(I*A**-1)**0.5 #m #Radius of Gyration\n",
      "sigma_c=P*A**-1 #Pa #Compressive stress\n",
      "\n",
      "l_e=L*2**-1 #m #According to given condition i.e Both ends fixed\n",
      "\n",
      "#Now from crippling Load Equation we get\n",
      "alpha=((sigma_c*A*P_2**-1-1)*((l_e*k**-1)**2)**-1)*10**4\n",
      "\n",
      "#Now Crippling Load when L=3 m Is used as strut\n",
      "l_e_2=l*(2**0.5)**-1\n",
      "P_3=sigma_c*A*(1+alpha*10**-4*(l_e_2*k**-1)**2)**-1 \n",
      "\n",
      "\n",
      "print\"The Value of constant value alpha is\",round(alpha,2)\n",
      "print\"The Crippling Load of Tube is\",round(P_3,2),\"N\""
     ],
     "language": "python",
     "metadata": {},
     "outputs": [
      {
       "output_type": "stream",
       "stream": "stdout",
       "text": [
        "The Value of constant value alpha is 1.33\n",
        "The Crippling Load of Tube is 71954.46 N\n"
       ]
      }
     ],
     "prompt_number": 54
    },
    {
     "cell_type": "heading",
     "level": 2,
     "metadata": {},
     "source": [
      "Problem no 9.8,Page no.239"
     ]
    },
    {
     "cell_type": "code",
     "collapsed": false,
     "input": [
      "import math\n",
      "\n",
      "#Initilization of variables\n",
      "\n",
      "D=0.038 #m #External diameter\n",
      "d=0.035 #m #Internal diameter\n",
      "P=20*10**3 #N #Load\n",
      "E=210*10**9 #Pa \n",
      "e=0.002 #m #Eccentricity\n",
      "L=1.5 #m #Lenght of tube\n",
      "\n",
      "#Calculations\n",
      "\n",
      "A=pi*4**-1*(D**2-d**2) #m**2 column\n",
      "I=pi*64**-1*(D**4-d**4) #m**4 #M.I of column\n",
      "m=(P*(E*I)**-1)**0.5 \n",
      "\n",
      "#Let X=secmL*2**-1\n",
      "X=(1*(cos(m*L*2**-1))**-1)\n",
      "M=P*e*X #N-m #MAx Bending Moment\n",
      "sigma_1=P*A**-1*10**-6 #Pa #Direct stress\n",
      "sigma_2=M*0.019*I**-1*10**-6 #Pa #Bending stress\n",
      "\n",
      "sigma_c_max=(sigma_1+sigma_2) #MPa #Max compressive stress\n",
      "\n",
      "#Result\n",
      "print\"The Max stress developed is\",round(sigma_c_max,2),\"MPa\""
     ],
     "language": "python",
     "metadata": {},
     "outputs": [
      {
       "output_type": "stream",
       "stream": "stdout",
       "text": [
        "The Max stress developed is 246.79 MPa\n"
       ]
      }
     ],
     "prompt_number": 130
    },
    {
     "cell_type": "heading",
     "level": 2,
     "metadata": {},
     "source": [
      "Problem no 9.9,Page no.239"
     ]
    },
    {
     "cell_type": "code",
     "collapsed": false,
     "input": [
      "import math\n",
      "\n",
      "#Initilization of variables\n",
      "\n",
      "L=5 #m #Length of column\n",
      "D=0.2 #m #External Diameter\n",
      "d=0.14 #m #Internal diameter\n",
      "P=200*10**3 #N #Load\n",
      "e=0.015 #m #Eccentricity\n",
      "E=95 *10**9 #Pa \n",
      "\n",
      "#Calculations\n",
      "\n",
      "L_2=L*2**-1 #m #half length of column\n",
      "A=pi*4**-1*(D**2-d**2) #m**2 column\n",
      "I=pi*64**-1*(D**4-d**4) #m**4 #M.I of column\n",
      "m=(P*(E*I)**-1)**0.5 \n",
      "\n",
      "#Let X=secmL*2**-1\n",
      "X=(1*(cos(m*L_2*2**-1))**-1)\n",
      "M=P*e*X #N-m #MAx Bending Moment\n",
      "sigma_1=P*A**-1*10**-6 #Pa #Direct stress\n",
      "sigma_2=M*0.1*I**-1*10**-6 #Pa #Bending stress\n",
      "\n",
      "sigma_c_max=(sigma_1+sigma_2) #MPa #Max compressive stress\n",
      "\n",
      "print\"The Max stress developed is\",round(sigma_c_max,2),\"MPa\""
     ],
     "language": "python",
     "metadata": {},
     "outputs": [
      {
       "output_type": "stream",
       "stream": "stdout",
       "text": [
        "The Max stress developed is 17.65 MPa\n"
       ]
      }
     ],
     "prompt_number": 125
    },
    {
     "cell_type": "heading",
     "level": 2,
     "metadata": {},
     "source": [
      "Problem no 9.10,Page no.240"
     ]
    },
    {
     "cell_type": "code",
     "collapsed": false,
     "input": [
      "import math\n",
      "\n",
      "#Initilization of variables\n",
      "\n",
      "L=3 #m #Length of strut\n",
      "b=0.04 #m #Width of rectangle\n",
      "d=0.10 #m #Depth if rectangle\n",
      "P=100*10**3 #N #Axial thrust\n",
      "w=10*10**3 #N #Uniformly Distributed Load\n",
      "E=210*10**9 #Pa \n",
      "\n",
      "#Calculations\n",
      "\n",
      "A=b*d #m**2 #Area of strut\n",
      "I=b*d**3*12**-1 #m**4 #M.I \n",
      "m=(P*(E*I)**-1)**0.5 \n",
      "\n",
      "#Let X=secmL*2**-1\n",
      "X=(1*(cos(m*L*2**-1))**-1)\n",
      "\n",
      "M=w*E*I*P**-1*(X-1)*3**-1 #N*m #Max Bending Moment\n",
      "sigma_1=P*A**-1 #Pa #Direct stress\n",
      "sigma_2=M*0.05*I**-1 #Pa #Bending stress\n",
      "\n",
      "sigma_c_max=sigma_1+sigma_2 #Max compressive stress\n",
      "\n",
      "#If the Eccentricity of thrust is neglected\n",
      "M_2=w*L**2*(3*8)**-1 #Max Bending moment\n",
      "sigma_2_2=M_2*0.05*I**-1 #Pa #Bending stress\n",
      "\n",
      "sigma_c_max_2=(sigma_1+sigma_2_2)*10**-6 #Pa\n",
      "\n",
      "#Let Y=Percentage error\n",
      "Y=((sigma_c_max-sigma_c_max_2*10**6)*sigma_c_max**-1)*100\n",
      "\n",
      "#Result\n",
      "print\"Max stress induced is\",round(sigma_c_max_2,2),\"MPa\"\n",
      "print\"The Percentage Error is\",round(Y,3),\"%\""
     ],
     "language": "python",
     "metadata": {},
     "outputs": [
      {
       "output_type": "stream",
       "stream": "stdout",
       "text": [
        "Max stress induced is 81.25 MPa\n",
        "The Percentage Error is 9.638 %\n"
       ]
      }
     ],
     "prompt_number": 98
    }
   ],
   "metadata": {}
  }
 ]
}