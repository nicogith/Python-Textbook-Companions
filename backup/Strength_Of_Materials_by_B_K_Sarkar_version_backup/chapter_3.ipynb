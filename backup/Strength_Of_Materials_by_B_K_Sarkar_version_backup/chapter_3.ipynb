{
 "metadata": {
  "name": "chapter 3 som.ipynb",
  "signature": "sha256:f204f91e23b9b059e7969e16bcc2c68fd35a3a7bdfec7a765456a9a04f17dab5"
 },
 "nbformat": 3,
 "nbformat_minor": 0,
 "worksheets": [
  {
   "cells": [
    {
     "cell_type": "heading",
     "level": 1,
     "metadata": {},
     "source": [
      "Chapter 3:Stresses And Strains"
     ]
    },
    {
     "cell_type": "heading",
     "level": 2,
     "metadata": {},
     "source": [
      "Problem 3.1,Page no.54"
     ]
    },
    {
     "cell_type": "code",
     "collapsed": false,
     "input": [
      "import math\n",
      "\n",
      "#Initilization of Variables\n",
      "\n",
      "P=40 #mm #Force applied to stretch a tape\n",
      "L=30 #m #Length of steel tape\n",
      "A=6*1 #mm #Cross section area\n",
      "E=200*10**9*10**-6 #KN/m**2 #Modulus of Elasticity\n",
      "\n",
      "#Calculations\n",
      "\n",
      "sigma_L=(P*L*10**3)*(A*E)**-1 #mm \n",
      "\n",
      "#Result\n",
      "print\"The Elongation of steel tape is\",round(sigma_L,4),\"mm\"\n"
     ],
     "language": "python",
     "metadata": {},
     "outputs": [
      {
       "output_type": "stream",
       "stream": "stdout",
       "text": [
        "The Elongation of steel tape is 1.0 mm\n"
       ]
      }
     ],
     "prompt_number": 65
    },
    {
     "cell_type": "heading",
     "level": 2,
     "metadata": {},
     "source": [
      "Problem 3.2,Page no.54"
     ]
    },
    {
     "cell_type": "code",
     "collapsed": false,
     "input": [
      "import math\n",
      "\n",
      "#Initilization of VAriables\n",
      "\n",
      "\n",
      "#D=(D_0-2) #cm #Inside Diameter of cyclinder\n",
      "#A=(pi*(D_0-1)) #cm**2 #Area of cross-section\n",
      "#L=(pi*(D_0-1)*5400) #N #Crushing load for column\n",
      "F=6 #Factor of safety\n",
      "T=1 #cm #wall thickness of cyclinder\n",
      "\n",
      "#S=L*F**-1\n",
      "#After Simplifying,we get\n",
      "S=600*10**3\n",
      "\n",
      "#Calculations\n",
      "\n",
      "D_0=(S*F)*(pi*54000)**-1+1 #cm #Outside diameter of cyclinder\n",
      "\n",
      "#Result\n",
      "print\"The outside Diameter of cyclinder is\",round(D_0,2),\"cm\""
     ],
     "language": "python",
     "metadata": {},
     "outputs": [
      {
       "output_type": "stream",
       "stream": "stdout",
       "text": [
        "The outside Diameter of cyclinder is 22.22 cm\n"
       ]
      }
     ],
     "prompt_number": 4
    },
    {
     "cell_type": "heading",
     "level": 2,
     "metadata": {},
     "source": [
      "Problem 3.3,Page no.56"
     ]
    },
    {
     "cell_type": "code",
     "collapsed": false,
     "input": [
      "import math \n",
      "\n",
      "#Initilization of variables\n",
      "\n",
      "P=800 #N #force applied to steel wire\n",
      "L=150 #m #Length of steel wire\n",
      "E=200 #GN/m**2 #Modulus of Elasticity\n",
      "d=10 #mm #Diameter of steel wire\n",
      "W=7.8*10**4 #N/m**3 #Weight Density of steel\n",
      "#A=(pi*4**-1)*(d)**2 #m**2\n",
      "\n",
      "#After simplifying Area,we get\n",
      "A=7.85*10**-5 #m**2\n",
      "\n",
      "#calculation (Part-1)\n",
      "\n",
      "#Elongation Due to 800N Load \n",
      "dell_L_1=(P*L*10**-3)*(A*E*10**9*10**-6)**-1 #mm\n",
      "\n",
      "#calculation (Part-2)\n",
      "\n",
      "#Elongation due to Weight of wire \n",
      "dell_L_2=((pi*4**-1)*150*W*L*10**-3)*(2*A*E*10**7)**-1 #mm\n",
      "\n",
      "#calculation (Part-3)\n",
      "\n",
      "#Total Elongation of wire\n",
      "dell_L_3=dell_L_1+dell_L_2\n",
      "\n",
      "\n",
      "#Result\n",
      "print\"The Elongation due to 800N Load is\",round(dell_L_1,2),\"mm\"\n",
      "print\"The Elongation due to Weight of wire is\",round(dell_L_2,2),\"mm\"\n",
      "print\"Total Elongation of wire is\",round(dell_L_3,2),\"mm\"\n"
     ],
     "language": "python",
     "metadata": {},
     "outputs": [
      {
       "output_type": "stream",
       "stream": "stdout",
       "text": [
        "The Elongation due to 800N Load is 7.64 mm\n",
        "The Elongation due to Weight of wire is 4.39 mm\n",
        "Total Elongation of wire is 12.03 mm\n"
       ]
      }
     ],
     "prompt_number": 25
    },
    {
     "cell_type": "heading",
     "level": 2,
     "metadata": {},
     "source": [
      "Problem 3.4,Page no.55"
     ]
    },
    {
     "cell_type": "code",
     "collapsed": false,
     "input": [
      "import math\n",
      "\n",
      "#Intilization of variables\n",
      "\n",
      "d=10 #mm #Diameter of Punching Hole\n",
      "t=4 #mm #Thickness of Mild Steel Plate\n",
      "tou=320 #N/mm**2 #Shear Strength of mild Steel\n",
      "\n",
      "#Calculations\n",
      "\n",
      "#Force Required for punching the hole\n",
      "P=tou*pi*d*t #N \n",
      "\n",
      "#Area of punch in contact with the plate surface\n",
      "A=(pi*4**-1*d**2) #mm*2\n",
      "\n",
      "#Compressive stress\n",
      "sigma_c=P*A**-1 #N/mm*2\n",
      "\n",
      "#Result\n",
      "print\"Force Required for punching the hole is\",round(P,2),\"N\"\n",
      "print\"Compressive stress is\",sigma_c,\"N/mm*2\""
     ],
     "language": "python",
     "metadata": {},
     "outputs": [
      {
       "output_type": "stream",
       "stream": "stdout",
       "text": [
        "Force Required for punching the hole is 40212.39 N\n",
        "Compressive stress is 512.0 N/mm*2\n"
       ]
      }
     ],
     "prompt_number": 29
    },
    {
     "cell_type": "heading",
     "level": 2,
     "metadata": {},
     "source": [
      "Problem 3.6,Page no.57"
     ]
    },
    {
     "cell_type": "code",
     "collapsed": false,
     "input": [
      "import math\n",
      "\n",
      "#Initilization of variables\n",
      "\n",
      "P=200*10**3 #N\n",
      "L_1=0.10 #mm #Length of of portin AB\n",
      "L_2=0.16 #mm #Length of of portin BC\n",
      "L_3=0.12 #mm #Length of of portin CD\n",
      "E=200*10**9 #N\n",
      "d_1=0.1 #cm\n",
      "d_2=0.08 #cm\n",
      "d_3=0.06 #cm\n",
      "A_1=(pi*4**-1)*(0.1)**2 #mm**2\n",
      "A_2=(pi*4**-1)*(0.08)**2 #mm**2\n",
      "A_3=(pi*4**-1)*(0.06)**2 #mm**2\n",
      "\n",
      "#Calculations\n",
      "\n",
      "dell_L_1=(P*L_1*10**3)*(A_1*E)**-1 #mm\n",
      "dell_L_2=(P*L_2*10**3)*(A_2*E)**-1 #mm\n",
      "dell_L_3=(P*L_3*10**3)*(A_3*E)**-1 #mm\n",
      "dell_L=dell_L_1+dell_L_2+dell_L_3 #mm\n",
      "\n",
      "#Result\n",
      "print\"Total Elongation of steel bar is\",round(dell_L,3),\"mm\""
     ],
     "language": "python",
     "metadata": {},
     "outputs": [
      {
       "output_type": "stream",
       "stream": "stdout",
       "text": [
        "Total Elongation of steel bar is 0.087 mm\n"
       ]
      }
     ],
     "prompt_number": 67
    },
    {
     "cell_type": "heading",
     "level": 2,
     "metadata": {},
     "source": [
      "Problem 3.7,Page no.57"
     ]
    },
    {
     "cell_type": "code",
     "collapsed": false,
     "input": [
      "import math\n",
      "\n",
      "#Initilization of variables\n",
      "\n",
      "#from F.B.D,we get\n",
      "P_1=50 #KN\n",
      "P_2=20 #KN\n",
      "P_3=40 #KN\n",
      "\n",
      "d=0.02 #mm #Diameter of steel bar\n",
      "L_1=0.4 #mm\n",
      "L_2=0.3 #mm\n",
      "L_3=0.2 #mm\n",
      "E=210*10**9 #N\n",
      "\n",
      "#After simplifying Area,we get\n",
      "A=pi*10**-4 #m**2 #Area of cross section\n",
      "\n",
      "#Calculations\n",
      "\n",
      "sigma_AB=P_1*1000*A #N/m**2\n",
      "sigma_BA=P_2*1000*A #N/m**2\n",
      "sigma_CD=P_3*1000*A #N/m**2\n",
      "dell_L=((P_1*L_1+P_2*L_2+P_3*L_3)*(A*E)**-1)*10**6 #mm\n",
      "\n",
      "#Result\n",
      "print\"Total Elongation of Steel bar is\",round(dell_L,3),\"mm\""
     ],
     "language": "python",
     "metadata": {},
     "outputs": [
      {
       "output_type": "stream",
       "stream": "stdout",
       "text": [
        "Total Elongation of Steel bar is 0.515 mm\n"
       ]
      }
     ],
     "prompt_number": 44
    },
    {
     "cell_type": "heading",
     "level": 2,
     "metadata": {},
     "source": [
      "Problem 3.8,Page no.58"
     ]
    },
    {
     "cell_type": "code",
     "collapsed": false,
     "input": [
      "import math\n",
      "import numpy as np\n",
      "\n",
      "#Initilization of variables\n",
      "\n",
      "#R_a+R_c=25 #KN #R_a,R_b are reactions at supports A and C respectively\n",
      "L_ab=2 #m\n",
      "L_bc=3 #m\n",
      "\n",
      "#Calculation\n",
      "\n",
      "#From F.B.D,we get\n",
      "#dell_L_AB=(R_a*L_AB)*(A*E)**-1 #Elongation of portion AB\n",
      "#dell_L_BC=(R_c*L_BC)*(A*E)**-1 #Compression of portion BC\n",
      "\n",
      "#After simplifying above equations we get,\n",
      "#R_a=(1.5)*R_c #KN\n",
      "#R_a+R_c=25 #KN\n",
      "#Solving the above simultaneous equations using matrix method\n",
      "A=np.array([[1,-1.5],[1,1]]) #Here the coefficients of the first equations of unknowns are setup\n",
      "B=np.array([0,25]) #Here the RHS of both equations are setup\n",
      "C=np.linalg.solve(A,B)\n",
      "\n",
      "#print C[0] #Prints the first element in the vector C\n",
      "#print C[1] #Prints the second element in the vector C\n",
      "\n",
      "#Result\n",
      "print\"The reaction at support A is\",round(C[0],2),\"KN\"\n",
      "print\"The reaction at support C is\",round(C[1],2),\"KN\""
     ],
     "language": "python",
     "metadata": {},
     "outputs": [
      {
       "output_type": "stream",
       "stream": "stdout",
       "text": [
        "The reaction at support A is 15.0 KN\n",
        "The reaction at support C is 10.0 KN\n"
       ]
      }
     ],
     "prompt_number": 26
    },
    {
     "cell_type": "heading",
     "level": 2,
     "metadata": {},
     "source": [
      "Problem 3.9,Page no.59"
     ]
    },
    {
     "cell_type": "code",
     "collapsed": false,
     "input": [
      "import math\n",
      "\n",
      "#Initilization of variables\n",
      "\n",
      "#P is the force acting on the bar BC compressive in nature and force on AB is (100-P) Tensile in nature\n",
      "E=200*10*9 #N\n",
      "A_1=3*10**-4 #cm**2 #Area of AB\n",
      "A_2=4*10**-4 #cm**2 #Area of BC\n",
      "L=1.5 #cm #Length of bar\n",
      "\n",
      "#Calculations\n",
      "\n",
      "#The total elongation of bar\n",
      "#(((100-P)*10**3*1.5)*(3*10**-4*E)**-1)-((P*10**3*1.5)*(4*10**-4*E)**-1)=0 \n",
      "\n",
      "#The total elongation of bar is limited to 1\n",
      "#(25-0.4375*P)*10**-4=1*10**-3\n",
      "\n",
      "#After simplifying above equation we get,\n",
      "P=-(10-25)*0.4375**-1 #KN #Total elongation of bar\n",
      "F_AB=100-P #KN #force in AB\n",
      "F_BC=P #KN #Force in BC\n",
      "sigma_AB=(((F_AB)*(3*10**-4)**-1)*10**-3) #KN #Stress in AB\n",
      "sigma_BC=((F_BC)*(4*10**-4)**-1*10**-3) #KN #Stress in Bc\n",
      "\n",
      "\n",
      "#Result\n",
      "print\"F_AB\",round(F_AB,2),\"KN\"\n",
      "print\"F_BC\",round(F_BC,2),\"KN\"\n",
      "print\"sigma_AB\",round(sigma_AB,2),\"KN\"\n",
      "print\"sigma_BC\",round(sigma_BC,2),\"KN\"\n"
     ],
     "language": "python",
     "metadata": {},
     "outputs": [
      {
       "output_type": "stream",
       "stream": "stdout",
       "text": [
        "F_AB 65.71 KN\n",
        "F_BC 34.29 KN\n",
        "sigma_AB 219.05 KN\n",
        "sigma_BC 85.71 KN\n"
       ]
      }
     ],
     "prompt_number": 17
    },
    {
     "cell_type": "heading",
     "level": 2,
     "metadata": {},
     "source": [
      "Problem 3.12,Page no.61"
     ]
    },
    {
     "cell_type": "code",
     "collapsed": false,
     "input": [
      "import math\n",
      "\n",
      "#Initilization of variables\n",
      "\n",
      "P=500 #KN #Safe Load\n",
      "d=20 #mm #steel rod diameter\n",
      "n=4 #number of steel rod\n",
      "sigma_c=4 #N/mm**2 #stress in concrete \n",
      "#E_S*E_c**-1=15\n",
      "\n",
      "\n",
      "#Calculations\n",
      "\n",
      "A_s=4*pi*4**-1*d**2 #mm**2 #Area os steel rod\n",
      "sigma_s=15*sigma_c #N/mm**2 #stress in steel\n",
      "\n",
      "#P=sigma_s*A_s+sigma_c*A_c \n",
      "\n",
      "#After substituting and simplifying above equation we get,\n",
      "\n",
      "A_c=(P*10**3-sigma_s*1256)*(sigma_c)**-1 #mm**2 #Area of the concrete\n",
      "X=(A_s+A_c)**0.5 #mm #Total cross sectional area\n",
      "P_s=A_s*sigma_s*10**-3 #KN #Load carried by steel\n",
      "\n",
      "#Result\n",
      "print\"Load carried by steel is\",round(P_s,2),\"KN\"\n",
      "print\"stress induced in steel is\",round(sigma_s,3),\"KN\"\n",
      "print\"cross sectional area of column is\",round(X,2),\"mm\""
     ],
     "language": "python",
     "metadata": {},
     "outputs": [
      {
       "output_type": "stream",
       "stream": "stdout",
       "text": [
        "Load carried by steel is 75.4 KN\n",
        "stress induced in steel is 60.0 KN\n",
        "cross sectional area of column is 327.74 mm\n"
       ]
      }
     ],
     "prompt_number": 11
    },
    {
     "cell_type": "heading",
     "level": 2,
     "metadata": {},
     "source": [
      "Problem 3.13,Page no.62"
     ]
    },
    {
     "cell_type": "code",
     "collapsed": false,
     "input": [
      "import math\n",
      "\n",
      "#Initilization of variables\n",
      "\n",
      "A_s=500 #mm**2\n",
      "E_s=200000\n",
      "E_al=80000\n",
      "A_al=1000\n",
      "\n",
      "\n",
      "#Calculations\n",
      "\n",
      "#(P_al*L_al)*(A_al*E_al)**-1+(P_s*L_s)*(A_s*E_s)**-1=1*2**-1 \n",
      "\n",
      "P=1*1000**-1*((A_s*E_s*A_al*E_al)*(A_s*E_s+A_al*E_al)**-1) #N\n",
      "P_s=P_al=P #N\n",
      "sigma_t=P_s*A_s**-1 #N/mm**2 #Tensile stress in bolt\n",
      "sigma_c=P_al*A_al**-1 #N/mm**2 #Compressive stress in Aluminium tube\n",
      "\n",
      "#result\n",
      "print\"Tensile stress in bolt is\",round(sigma_t,2),\"N/mm**2\"\n",
      "print\"Compressive stress in Aluminium tube is\",round(sigma_c,2),\"N/mm**2\""
     ],
     "language": "python",
     "metadata": {},
     "outputs": [
      {
       "output_type": "stream",
       "stream": "stdout",
       "text": [
        "Tensile stress in bolt is 88.89 N/mm**2\n",
        "Compressive stress in Aluminium tube is 44.44 N/mm**2\n"
       ]
      }
     ],
     "prompt_number": 1
    },
    {
     "cell_type": "heading",
     "level": 2,
     "metadata": {},
     "source": [
      "Problem 3.14,Page no.63"
     ]
    },
    {
     "cell_type": "code",
     "collapsed": false,
     "input": [
      "import math\n",
      "\n",
      "#Initilization of variables\n",
      "\n",
      "A=1600 #mm**2 #Area of the Bar\n",
      "P=480*10**3 #N #Load\n",
      "dell_L=0.4 #mm #Contraction of metal bar\n",
      "L=200 #mm #Length of metal bar\n",
      "sigma_t=0.04 #mm #Guage Length\n",
      "t=40\n",
      "\n",
      "#Calculations\n",
      "\n",
      "sigma_L=dell_L*L**-1\n",
      "E=((P*L)*(A*dell_L)**-1*10**-3) #N/mm**2 #Young's Modulus \n",
      "m=t*sigma_t**-1*sigma_L\n",
      "\n",
      "\n",
      "#Result\n",
      "print\"The value of Young's Modulus  is\",round(E,2),\"N/mm*2\"\n",
      "print\"The value of Poissoin's ratio is\",round(m,2)"
     ],
     "language": "python",
     "metadata": {},
     "outputs": [
      {
       "output_type": "stream",
       "stream": "stdout",
       "text": [
        "The value of Young's Modulus  is 150.0 N/mm*2\n",
        "The value of Poissoin's ratio is 2.0\n"
       ]
      }
     ],
     "prompt_number": 1
    },
    {
     "cell_type": "heading",
     "level": 2,
     "metadata": {},
     "source": [
      "Problem 3.15,Page no.63"
     ]
    },
    {
     "cell_type": "code",
     "collapsed": false,
     "input": [
      "import math\n",
      "\n",
      "#Initilization of variables\n",
      "\n",
      "A_s=0.003848 #m**2 #Area of steel bar\n",
      "A_al=0.003436 #m**2 #Area of Aluminium tube\n",
      "E=220*10*9 #N #Young's modulus of steel\n",
      "E=70*10*9 #N #Young's modulus of aluminium\n",
      "P=600*10**3 #N #Load applied to the bar\n",
      "#dell_L_al-dell_L_s=0.00015 #mm #difference between strain in aluminium bar and steel bar\n",
      "\n",
      "#Calculations\n",
      "\n",
      "\n",
      "#Let the aluminium tube be compressed by dell_L_al and steel bar by by dellL_s\n",
      "#dell_L_al=sigma_al*E_al**-1*L_al\n",
      "#dell_L_s=sigma_s*E_s**-1*L_s\n",
      "\n",
      "#After substituting and simplifying above equation we get,\n",
      "#((sigma_al*70**-1)-(sigma_s*220**-1))=300000               #(equation 1)\n",
      "\n",
      "#After simplifying above equation we get,\n",
      "#sigma_al=17462.165*10**4-1.1199*sigma_s                    #(equation 2)\n",
      "\n",
      "#Now substituting sigma_al in equation(1)\n",
      "#((17462.165*10**4-1.1199*sigma_s)*(70)**-1)-(sigma_s*220**-1)=300000\n",
      "\n",
      "#After simplifying above equation we get,\n",
      "\n",
      "sigma_s=-((300000-249.4594*10**4)*0.0205444**-1)*10**-6 #MN/m**2 #stress developed in steel bar\n",
      "#sigma_al=17462.165*10**4-1.1199*sigma_s\n",
      "sigma_al=(17462.165*10**4-1.1199*106822005.02)*10**-6\n",
      "\n",
      "\n",
      "#Result\n",
      "print\"stress developed in steel bar is\",round(sigma_s,2),\"MN/m**2\"\n",
      "print\"stress developed in aluminium bar is\",round(sigma_al,2),\"MN/m**2\""
     ],
     "language": "python",
     "metadata": {},
     "outputs": [
      {
       "output_type": "stream",
       "stream": "stdout",
       "text": [
        "stress developed in steel bar is 106.82 MN/m**2\n",
        "stress developed in aluminium bar is 54.99 MN/m**2\n"
       ]
      }
     ],
     "prompt_number": 21
    },
    {
     "cell_type": "heading",
     "level": 2,
     "metadata": {},
     "source": [
      "Problem 3.16,Page no.64"
     ]
    },
    {
     "cell_type": "code",
     "collapsed": false,
     "input": [
      "import math\n",
      "\n",
      "#Initilization of variables\n",
      "\n",
      "E=200 #GN/m**2 #Modulus of elasticity\n",
      "alpha=11*10**-6 #per degree celsius #coeffecient o flinear expansion of steel bar\n",
      "L=6 #m #Length of rod\n",
      "\n",
      "\n",
      "#Calculations \n",
      "\n",
      "#(Part-1) #IF the walls do not yield\n",
      "\n",
      "t=58 #degree celsius #Fall in temperature #(t=80-22)\n",
      "dell=alpha*t #strain\n",
      "sigma=E*10**9*dell*10**-6 #MN/m**2 #Stress\n",
      "A=pi*4**-1*6.25*10**-4 #mm**2 #Area of wall and rod\n",
      "P=sigma*10**6*A*10**-3 #KN #Pull Exerted\n",
      "\n",
      "#(Part-2) #IF the walls yield together at the two ends is 1.15 mm\n",
      "\n",
      "L_2=L*(1-alpha*t) #m #Length of rod at 22 degree celsius\n",
      "L_3=L-L_2 #m #Decrease in Length \n",
      "\n",
      "#As the walls yield by 1.5 mm, actual decrease in length is\n",
      "L_4=L_3-0.0015 #m \n",
      "dell_2=L_4*L**-1 #strain \n",
      "P_2=E*10**9*dell_2*A*10**-3 #KN\n",
      "\n",
      "#Result\n",
      "print\"Pull Exerted by the rod:when walls do not yield\",round(P,2),\"KN\"\n",
      "print\"                       :when total yield together at two ends is 1.5 mm\",round(P_2,2),\"KN\""
     ],
     "language": "python",
     "metadata": {},
     "outputs": [
      {
       "output_type": "stream",
       "stream": "stdout",
       "text": [
        "Pull Exerted by the rod:when walls do not yield 62.64 KN\n",
        "                       :when total yield together at two ends is 1.5 mm 38.09 KN\n"
       ]
      }
     ],
     "prompt_number": 43
    },
    {
     "cell_type": "heading",
     "level": 2,
     "metadata": {},
     "source": [
      "Problem 3.17,Page no.65"
     ]
    },
    {
     "cell_type": "code",
     "collapsed": false,
     "input": [
      "import math\n",
      "\n",
      "#Initilization of variables\n",
      "\n",
      "D=4.5 #cm #External Diameter of tube\n",
      "d=3 #cm #Internal diameter of tube\n",
      "t=3 #mm #thickness of tube\n",
      "t_1=30 #degree celsius\n",
      "t_2=180 #degree celsius #when metal heated\n",
      "L=30 #cm #Original LEngth\n",
      "alpha_s=1.08*10**-5 #Per degree celsius #coefficient of Linear expansion of steel tube\n",
      "alpha_c=1.7*10**-5 #Per degree celsius #coefficient of Linear expansion of copper tube\n",
      "E_s=210 #GPa #Modulus of Elasticity of steel \n",
      "E_c=110 #GPA #Modulus of Elasticity of copper\n",
      "\n",
      "#Calculation\n",
      "\n",
      "#For Equilibrium of the system, Total tension in steel=Total tension in copper\n",
      "\n",
      "#sigma_s*A_s=sigma_c*A_c (equation 1)\n",
      "\n",
      "A_c=pi*4**-1*d**2 #cm**2 #Area of copper\n",
      "A_s=pi*4**-1*(D**2-d**2) #cm**2 #Area of steel\n",
      "\n",
      "#simplifying equation 1\n",
      "#sigma_s=1.785*sigma_c\n",
      "\n",
      "T=t_2-t_1 #change in temperature\n",
      "\n",
      "#Actual expansion of steel=Actual expansion of copper\n",
      "#alpha_s*T*L+sigma_s*E_s**-1*L=alpha_c*T*L-sigma_c*E_c**-1*L\n",
      "\n",
      "#After substituting values in above equation and simplifying we get\n",
      "\n",
      "sigma_c=(930*10**5*1.7591**-1)*10**-6 #MN/m**2 #Stress in copper\n",
      "sigma_s=1.785*sigma_c #MN/m**2 #Stress in steel\n",
      "\n",
      "#Increase in Length of either component\n",
      "L_2=(alpha_s*T+sigma_s*10**6*(E_s*10**9)**-1)*L\n",
      "\n",
      "#Result\n",
      "print\"stress in copper bar is\",round(sigma_c,2),\"MN/m**2\"\n",
      "print\"stress in steel bar is\",round(sigma_s,2),\"MN/m**2\"\n",
      "print\"Increase in Length is\",round(L_2,3),\"cm\""
     ],
     "language": "python",
     "metadata": {},
     "outputs": [
      {
       "output_type": "stream",
       "stream": "stdout",
       "text": [
        "stress in copper bar is 52.87 MN/m**2\n",
        "stress in steel bar is 94.37 MN/m**2\n",
        "Increase in Length is 0.062 cm\n"
       ]
      }
     ],
     "prompt_number": 54
    },
    {
     "cell_type": "heading",
     "level": 2,
     "metadata": {},
     "source": [
      "Problem 3.18,Page no.66"
     ]
    },
    {
     "cell_type": "code",
     "collapsed": false,
     "input": [
      "import math\n",
      "\n",
      "#Initilization of variables\n",
      "\n",
      "t_1=15 #degree celsius #temperature of steel bar\n",
      "t_2=315 #degree celsius #raised temperature \n",
      "E_s=210 #GPa #Modulus of Elasticity of steel bar\n",
      "E_c=100 #GPa #Modulus of Elasticity of copper bar\n",
      "dell_L=0.15 #cm #Increase in Length of bar\n",
      "\n",
      "#Calculation\n",
      "\n",
      "#For Equilibrium of the system, Tension in steel bar = Tension in copper bar\n",
      "#sigma_s*A_s = sigma_c*2*A_c\n",
      "#sigma_S=2*sigma_c\n",
      "\n",
      "#Actual expansion of steel = Actual expansion of copper\n",
      "#L*alpha_s*T+sigma_s*E_s**-1*L = L*alpha_c*T-sigma_c*E_c**-1*L (Equation 1)\n",
      "\n",
      "T=t_2-t_1 #per degree celsius #change in temperature\n",
      "\n",
      "#After substituting values in above equation and simplifying we get\n",
      "sigma_c=(1650*10**5*1.9524**-1)*10**-6 #MN/m**2 #Stress in copper\n",
      "sigma_s=2*sigma_c #MN/m**2 #Stress in steel\n",
      "\n",
      "#Actual Expansion of steel bar \n",
      "#L*alpha_s*T+sigma_s*E_s**-1*L = L*alpha_c*T-sigma_c*E_c**-1*L \n",
      "#After substituting values in above equation and simplifying we get\n",
      "L=0.15*10**-2*0.0044048**-1 #m\n",
      "\n",
      "#Result\n",
      "print\"Stress in copper bar is\",round(sigma_c,2),\"MN/m**2\"\n",
      "print\"Stress in steel bar is\",round(sigma_s,2),\"MN/m**2\"\n",
      "print\"Original Length of bar is\",round(L,2),\"m\"\n"
     ],
     "language": "python",
     "metadata": {},
     "outputs": [
      {
       "output_type": "stream",
       "stream": "stdout",
       "text": [
        "Stress in copper bar is 84.51 MN/m**2\n",
        "Stress in steel bar is 169.02 MN/m**2\n",
        "Original Length of bar is 0.34 m\n"
       ]
      }
     ],
     "prompt_number": 60
    },
    {
     "cell_type": "heading",
     "level": 2,
     "metadata": {},
     "source": [
      "Problem 3.19,Page no.67"
     ]
    },
    {
     "cell_type": "code",
     "collapsed": false,
     "input": [
      "import math\n",
      "\n",
      "#Initilization of variables\n",
      "\n",
      "L=100 #m #Length of rod\n",
      "A=2 #cm**2 #cross sectional area\n",
      "rho=80 #KN/m**3\n",
      "\n",
      "#Calculatiom\n",
      "W=A*10**-4*L*rho #KN\n",
      "\n",
      "sigma_s=10+1.6 #KN #Rod experiencing max tensile stress when it is at top performing upstroke\n",
      "sigma_s_2=sigma_s*10**3*200**-1 #N/mm**2 #corresponding stress at this moment\n",
      "\n",
      "sigma_c=1 #KN ##Rod experiencing max compressive stress at its lower end,free from its own weight\n",
      "sigma_c_2=sigma_c*10**3*200**-1 #corresponding stress at this moment\n",
      "\n",
      "#Result\n",
      "print\"Tensile stress in bar\",round(sigma_s_2,2),\"N/mm**2\"\n",
      "print\"Compressive stress in bar\",round(sigma_c_2,2),\"N/mm**2\""
     ],
     "language": "python",
     "metadata": {},
     "outputs": [
      {
       "output_type": "stream",
       "stream": "stdout",
       "text": [
        "Tensile stress in bar 58.0 N/mm**2\n",
        "Compressive stress in bar 5.0 N/mm**2\n"
       ]
      }
     ],
     "prompt_number": 64
    },
    {
     "cell_type": "heading",
     "level": 2,
     "metadata": {},
     "source": [
      "Problem 3.20,Page no.68"
     ]
    },
    {
     "cell_type": "code",
     "collapsed": false,
     "input": [
      "import math\n",
      "\n",
      "#Initilization of variables\n",
      "\n",
      "sigma=0.012 #strain\n",
      "P=150 #KN   #Total Load on the Post\n",
      "E=1.4*10**4 #N/mm**2 #modulus of elasticity\n",
      "#b be the width of the post in mm\n",
      "#2b is the longer dimension of the post in mm\n",
      "\n",
      "#Calculations\n",
      "\n",
      "#We know,\n",
      "#sigma=(P*(A*E)**-1) \n",
      "\n",
      "#After substituting values and simplifying, we get\n",
      "b=((150*10**3)*(0.012*1.4*2*10**4)**-1)**0.5\n",
      "q=2*b #mm #Longer dimension of post\n",
      "\n",
      "#Result\n",
      "print\"Width of post is\",round(b,2),\"mm\"\n",
      "print\"Longer dimension of post is\",round(q,2),\"mm\""
     ],
     "language": "python",
     "metadata": {},
     "outputs": [
      {
       "output_type": "stream",
       "stream": "stdout",
       "text": [
        "Width of post is 21.13 mm\n",
        "Longer dimension of post is 42.26 mm\n"
       ]
      }
     ],
     "prompt_number": 6
    }
   ],
   "metadata": {}
  }
 ]
}