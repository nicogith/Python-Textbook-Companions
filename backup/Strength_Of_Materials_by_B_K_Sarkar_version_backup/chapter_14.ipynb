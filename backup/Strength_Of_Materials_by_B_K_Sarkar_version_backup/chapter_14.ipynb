{
 "metadata": {
  "name": "chapter 14 som.ipynb"
 },
 "nbformat": 3,
 "nbformat_minor": 0,
 "worksheets": [
  {
   "cells": [
    {
     "cell_type": "heading",
     "level": 1,
     "metadata": {},
     "source": [
      "Chapter 14:Dams and Retaining Walls"
     ]
    },
    {
     "cell_type": "heading",
     "level": 2,
     "metadata": {},
     "source": [
      "Problem no 14.1,Page No.325"
     ]
    },
    {
     "cell_type": "code",
     "collapsed": false,
     "input": [
      "import math\n",
      "%matplotlib  inline\n",
      "\n",
      "#Initilization of variables\n",
      "b=2 #m #width \n",
      "FOS=1.5 #Factor of safety\n",
      "#rho_mason=2.5*rho_w\n",
      "mu=0.5 #coeffeicient of friction\n",
      "\n",
      "#Calculations\n",
      "\n",
      "#Let L=1 m (length of dam)\n",
      "L=1\n",
      "#W=b*H*L*rho\n",
      "#After substituting values and Further simplifying we get\n",
      "#W=2*H*rho\n",
      "\n",
      "#Total Pressure\n",
      "#P=W*H**2*2**-1\n",
      "\n",
      "x_bar=b*2**-1 #Distance of Line of action of W from waterface\n",
      "\n",
      "#Distance of pt where resultant cuts the base measured from Line of action\n",
      "#x=P*W**-1*H*3**-1\n",
      "#After substituting values and Further simplifying we get\n",
      "#x=H**2*30**-1\n",
      "\n",
      "#x_bar+x=2*b*3**-1\n",
      "#After substituting values and Further simplifying we get\n",
      "#1+H**2*30**-1=2*b*3**-1\n",
      "H=(30*(2*b*3**-1-1))**0.5 #height of dam\n",
      "\n",
      "#Frictional Resistance offered at the base\n",
      "#F=mu*W\n",
      "#After substituting values and Further simplifying we get\n",
      "#F=3.16*rho\n",
      "\n",
      "#Total Lateral Pressure\n",
      "#P=W*H**2*2**-1\n",
      "#P=4.99*W\n",
      "\n",
      "#Factor of safety against sliding\n",
      "#FOS1=F*P**-1=3.16*4.99**-1*rho_mason*rho_w**-1\n",
      "FOS1=3.16*4.99**-1*2.5\n",
      "\n",
      "#FOS1>FOS\n",
      "\n",
      "#Result\n",
      "print\"Dam is safe against sliding\",round(FOS1,2)"
     ],
     "language": "python",
     "metadata": {},
     "outputs": [
      {
       "output_type": "stream",
       "stream": "stdout",
       "text": [
        "Dam is safe against sliding 1.58\n"
       ]
      }
     ],
     "prompt_number": 2
    },
    {
     "cell_type": "heading",
     "level": 2,
     "metadata": {},
     "source": [
      "Problem no 14.2,Page No.327"
     ]
    },
    {
     "cell_type": "code",
     "collapsed": false,
     "input": [
      "import math\n",
      "%matplotlib  inline\n",
      "\n",
      "#Initilization of variables\n",
      "D=2 #m #External Diameter\n",
      "d=1.5 #m #Internal Diameter\n",
      "P=1600 #N/m**2 #N/m**2 #Wind Pressure\n",
      "W=19200 #N/m**2 #Weight of masonry\n",
      "\n",
      "#Calculations\n",
      "\n",
      "#Let H be max height of dam\n",
      "\n",
      "#W2=pi*4**-1*(D**2-d**2)*H*W #weight of chimney\n",
      "#W2=26400*H\n",
      "\n",
      "#Eccentricrty\n",
      "x=(D**2+d**2)*(8*D)**-1\n",
      "\n",
      "#P2=H*D*P #Lateral thrust of wind on chimney\n",
      "#P2=3200*H\n",
      "\n",
      "#Now by using the relation we get P*W**-1=x*(H*2**-1)**-1\n",
      "#After substituting values and Further simplifying we get\n",
      "H=0.39*2*26400*3200**-1\n",
      "\n",
      "#result\n",
      "print\"The Height of Dam is\",round(H,2),\"m\""
     ],
     "language": "python",
     "metadata": {},
     "outputs": [
      {
       "output_type": "stream",
       "stream": "stdout",
       "text": [
        "The Height of Dam is 6.44 m\n"
       ]
      }
     ],
     "prompt_number": 3
    },
    {
     "cell_type": "heading",
     "level": 2,
     "metadata": {},
     "source": [
      "Problem no 14.3,Page No.327"
     ]
    },
    {
     "cell_type": "code",
     "collapsed": false,
     "input": [
      "import math\n",
      "%matplotlib  inline\n",
      "\n",
      "#Initilization of variables\n",
      "rho_w=10 #KN/m**3 #Density of water\n",
      "rho_mason=22.4 #KN/m**3 #Density of mason\n",
      "H=6 #m #height of dam\n",
      "a=1 #m #width of top\n",
      "b=4 #m #bottom width\n",
      "h=5.5 #m #Weight of water depth \n",
      "\n",
      "#Calculations\n",
      "\n",
      "#Let L=1 m (length of dam)\n",
      "L=1\n",
      "\n",
      "#weight of dam\n",
      "W=(a+b)*2**-1*H*a*rho_mason\n",
      "\n",
      "#Lateral thrust\n",
      "P=rho_w*h**2*a*2**-1\n",
      "\n",
      "#distance of Line of action of W measured from vertical face\n",
      "x_bar=(b**2+b*a+a**2)*(3*(b+a))**-1\n",
      "\n",
      "#distance of pt where resultant cuts the base\n",
      "x=P*W**-1*h*3**-1\n",
      "\n",
      "#Eccentricity\n",
      "e=x_bar+x-b*2**-1\n",
      "\n",
      "#Stress at Pt B\n",
      "sigma1=W*b**-1*(1-6*e*b**-1)\n",
      "\n",
      "#stress at Pt C\n",
      "sigma2=W*b**-1*(1+6*e*b**-1)\n",
      "\n",
      "#Result\n",
      "print\"Max stress intensities at the base is\",round(sigma2,2),\"KN/m**2\"\n",
      "print\"Min stress intensities at the base is\",round(sigma1,2),\"KN/m**2\"\n",
      "\n",
      "#Plotting the Shear Force Diagram\n",
      "\n",
      "X1=[0,L,L]\n",
      "Y1=[sigma2,sigma1,0]\n",
      "Z1=[0,0,0]\n",
      "plt.plot(X1,Y1,X1,Z1)\n",
      "plt.xlabel(\"Length x in m\")\n",
      "plt.ylabel(\"Shear Force in kN\")\n",
      "plt.show()\n"
     ],
     "language": "python",
     "metadata": {},
     "outputs": [
      {
       "output_type": "stream",
       "stream": "stdout",
       "text": [
        "Max stress intensities at the base is 112.38 KN/m**2\n",
        "Min stress intensities at the base is 55.62 KN/m**2\n"
       ]
      },
      {
       "metadata": {},
       "output_type": "display_data",
       "png": "[encoded data removed]",
       "text": [
        "<matplotlib.figure.Figure at 0x55942b0>"
       ]
      }
     ],
     "prompt_number": 29
    },
    {
     "cell_type": "heading",
     "level": 2,
     "metadata": {},
     "source": [
      "Problem no 14.4,Page No.329"
     ]
    },
    {
     "cell_type": "code",
     "collapsed": false,
     "input": [
      "import math\n",
      "%matplotlib  inline\n",
      "\n",
      "#Initilization of variables\n",
      "H=10 #m #height od dam\n",
      "a=2 #m #top width\n",
      "b=5 #m #bottom width\n",
      "W=25 #KN/m**3 #weight of mason\n",
      "rho_w=10 #KN/m**3 #density of water\n",
      "\n",
      "#Calculations\n",
      "\n",
      "#Let L=1 m (length of dam)\n",
      "L=1\n",
      "\n",
      "#weight of dam\n",
      "W2=(b+a)*H*L*W*2**-1\n",
      "\n",
      "##Lateral thrust\n",
      "P=rho_w*H**2*L*2**-1 \n",
      "\n",
      "#Resultant thrust\n",
      "R=(P**2+W**2)**0.5\n",
      "\n",
      "#Distance of Line of action from vertical base\n",
      "x_bar=(b**2+b*a+a**2)*(3*(b+a))**-1\n",
      "\n",
      "##distance of pt where resultant cuts the base\n",
      "x=P*W2**-1*H*3**-1\n",
      "\n",
      "#Eccentricity\n",
      "e=x_bar+x-b*2**-1\n",
      "\n",
      "#Stress at Pt B\n",
      "sigma1=W2*b**-1*(1-6*e*b**-1)\n",
      "\n",
      "#stress at Pt C\n",
      "sigma2=W2*b**-1*(1+6*e*b**-1)\n",
      "\n",
      "#Result\n",
      "print\"The Resultant Thrust on the base is\",round(R,2),\"KN\"\n",
      "\n",
      "#Plotting the Shear Force Diagram\n",
      "\n",
      "X1=[0,L,L]\n",
      "Y1=[-sigma2,-sigma1,0]\n",
      "Z1=[0,0,0]\n",
      "plt.plot(X1,Y1,X1,Z1)\n",
      "plt.xlabel(\"Length x in m\")\n",
      "plt.ylabel(\"Shear Force in kN\")\n",
      "plt.show()\n"
     ],
     "language": "python",
     "metadata": {},
     "outputs": [
      {
       "output_type": "stream",
       "stream": "stdout",
       "text": [
        "The Resultant Thrust on the base is 500.62 KN\n"
       ]
      },
      {
       "metadata": {},
       "output_type": "display_data",
       "png": "[encoded data removed]",
       "text": [
        "<matplotlib.figure.Figure at 0x5657d50>"
       ]
      }
     ],
     "prompt_number": 28
    },
    {
     "cell_type": "heading",
     "level": 2,
     "metadata": {},
     "source": [
      "Problem no 14.5,Page No.330"
     ]
    },
    {
     "cell_type": "code",
     "collapsed": false,
     "input": [
      "import math\n",
      "%matplotlib  inline\n",
      "\n",
      "#Initilization of variables\n",
      "H=30 #m #height of Dam\n",
      "h=29 #m #height of water\n",
      "rho_w=9810 #N/m**3 \n",
      "rho_mason=22560 #N/m**3\n",
      "sigma1=0 #KN/m**3\n",
      "sigma2=880 #KN/m**3\n",
      "\n",
      "#Calculations\n",
      "\n",
      "#Let L=1 m (length of dam)\n",
      "L=1\n",
      "\n",
      "#weight of dam\n",
      "#W=(a+b)*2**-1*L*H*rho_mason*10**-3\n",
      "#After substituting values and Further simplifying we get\n",
      "#W=338.4*(a+b) #equation1\n",
      "\n",
      "#Pressure at B=0, Sinc etension at base has just been avoided\n",
      "\n",
      "#Eccentricity\n",
      "e=b*6**-1  #as sigma1=0\n",
      "\n",
      "#Pressure at C\n",
      "#sigma2=W2*b**-1*(1+6*e*b**-1)\n",
      "#After substituting values and Further simplifying we get\n",
      "#W=440*b\n",
      "\n",
      "#From equation1,440*b=338*(a+b)\n",
      "#b=3.33*a\n",
      "\n",
      "#the distance of C.Gof dam\n",
      "#x_bar=(b**2+b*a+a**2)*(3*(b+a))**-1\n",
      "#After substituting values and Further simplifying we get\n",
      "#x_bar=1.187*a\n",
      "\n",
      "#distance of pt where resultant cuts the base\n",
      "#x=P*W2**-1*H*3**-1\n",
      "#After substituting values and Further simplifying we get\n",
      "#x=27.214*a**-1\n",
      "\n",
      "#Now x_bar+x=2*3**-1*b\n",
      "#After substituting values and Further simplifying we get\n",
      "a=(27.17*(2.22-1.187)**-1)**0.5\n",
      "b=3.33*a\n",
      "\n",
      "#Result\n",
      "print\"The top width dam is\",round(a,2),\"m\"\n",
      "print\"The bottom width dam is\",round(b,2),\"m\"\n",
      "\n",
      "\n",
      "#Plotting the Shear Force Diagram\n",
      "\n",
      "X1=[0,L,L]\n",
      "Y1=[sigma2,sigma1,0]\n",
      "Z1=[0,0,0]\n",
      "plt.plot(X1,Y1,X1,Z1)\n",
      "plt.xlabel(\"Length x in m\")\n",
      "plt.ylabel(\"Shear Force in kN\")\n",
      "plt.show()\n"
     ],
     "language": "python",
     "metadata": {},
     "outputs": [
      {
       "output_type": "stream",
       "stream": "stdout",
       "text": [
        "The top width dam is 5.13 m\n",
        "The bottom width dam is 17.08 m\n"
       ]
      },
      {
       "metadata": {},
       "output_type": "display_data",
       "png": "[encoded data removed]",
       "text": [
        "<matplotlib.figure.Figure at 0x5650490>"
       ]
      }
     ],
     "prompt_number": 35
    },
    {
     "cell_type": "heading",
     "level": 2,
     "metadata": {},
     "source": [
      "Problem no 14.6,Page No.332"
     ]
    },
    {
     "cell_type": "code",
     "collapsed": false,
     "input": [
      "import math\n",
      "%matplotlib  inline\n",
      "\n",
      "#Initilization of variables\n",
      "H= 4 #m #height of dam\n",
      "a=1 #m #Top width\n",
      "b=3 #m #bottom width\n",
      "rho1=9810 #N/m**3 #weight of water\n",
      "rho2=19620 #n/m**3 #Weight of mason\n",
      "\n",
      "#Calculations\n",
      "\n",
      "#Let L=1 m (length of dam)\n",
      "L=1\n",
      "\n",
      "#weight of dam\n",
      "W=(a+b)*2**-1*L*H*rho2*10**-3\n",
      "\n",
      "##Lateral thrust\n",
      "P=rho1*H**2*L*2**-1*10**-3 \n",
      "\n",
      "#Distance of Line of action from vertical base\n",
      "x_bar=(b**2+b*a+a**2)*(3*(b+a))**-1\n",
      "\n",
      "#distance of pt where resultant cuts the base\n",
      "x=P*W**-1*H*3**-1\n",
      "\n",
      "#Eccentricity\n",
      "e=x_bar+x-b*2**-1\n",
      "\n",
      "#Stress at Pt B\n",
      "sigma1=W*10**3*b**-1*(1-6*e*b**-1)\n",
      "\n",
      "#stress at Pt C\n",
      "sigma2=W*10**3*b**-1*(1+6*e*b**-1)\n",
      "\n",
      "#Stresses at the base when resorvoir is empty\n",
      "\n",
      "e2=x_bar-b*2**-1\n",
      "\n",
      "#Minus sign indicates sigma_b>sigma_c\n",
      "\n",
      "#Stress at C\n",
      "sigma2_2=W*10**3*b**-1*(1+6*round(e2,2)*b**-1)\n",
      "\n",
      "#Stress at Pt B\n",
      "sigma1_2=W*10**3*b**-1*(1-6*round(e2,2)*b**-1)\n",
      "\n",
      "#result\n",
      "print\"When the Reservoir is full :sigma1\",round(sigma1,2),\"KN/m**2\"\n",
      "print\"                           :sigma2\",round(sigma2,2),\"KN/m**2\"\n",
      "print\"When the Reservoir is empty:sigma1_2\",round(sigma1_2,2),\"KN/m**2\"\n",
      "print\"                           :sigma2_2\",round(sigma2_2,2),\"KN/m**2\""
     ],
     "language": "python",
     "metadata": {},
     "outputs": [
      {
       "output_type": "stream",
       "stream": "stdout",
       "text": [
        "When the Reservoir is full :sigma1 26160.0 KN/m**2\n",
        "                           :sigma2 78480.0 KN/m**2\n",
        "When the Reservoir is empty:sigma1_2 96268.8 KN/m**2\n",
        "                           :sigma2_2 8371.2 KN/m**2\n"
       ]
      }
     ],
     "prompt_number": 21
    },
    {
     "cell_type": "heading",
     "level": 2,
     "metadata": {},
     "source": [
      "Problem no 14.7,Page No.333"
     ]
    },
    {
     "cell_type": "code",
     "collapsed": false,
     "input": [
      "import math\n",
      "%matplotlib  inline\n",
      "\n",
      "#Initilization of variables\n",
      "H=8 #m #height of dam\n",
      "h=7.5 #m #Height of water\n",
      "a=1 #m #top width\n",
      "mu=0.6 #Coeffeicient of friction\n",
      "rho_mason=22.4 #KN/m**3 #weight of mason\n",
      "rho_w=9.81 #KN/m**3 #density of water\n",
      "\n",
      "#Calculations\n",
      "\n",
      "#weight of dam\n",
      "#W=(a+b)*2**-1*L*H*rho2*10**-3\n",
      "#After substituting values and further simplifying we get\n",
      "#W=89600*(b+1)\n",
      "\n",
      "#Distance of Line of action from vertical base\n",
      "#x_bar=(b**2+b*a+a**2)*(3*(b+a))**-1\n",
      "#After substituting values and further simplifying we get\n",
      "#x_bar=(1+b+b**2)*(3*(1+b))**-1\n",
      "\n",
      "#Lateral thrust\n",
      "P=rho_w*h**2*2**-1\n",
      "\n",
      "#Min width to avoid tension at base\n",
      "#Z=x_bar+P*W**-1*h*3**-1\n",
      "#Z=2*3**-1*b\n",
      "#After substituting values and further simplifying we get\n",
      "#b**2+b-24.09=0\n",
      "a=1\n",
      "b=1\n",
      "c=-24.09\n",
      "\n",
      "X=b**2-4*a*c\n",
      "\n",
      "b1=(-b+X**0.5)*(2*a)**-1\n",
      "b2=(-b-X**0.5)*(2*a)**-1\n",
      "\n",
      "#Thus width cannot be negative,b1 is considered\n",
      "\n",
      "#Min width to avoid sliding\n",
      "#mu*W>P\n",
      "#After substituting values and further simplifying we get\n",
      "b=P*10**3*(mu*89600)**-1-1\n",
      "\n",
      "#Result\n",
      "print\"The Min bottom width is\",round(b,2),\"m\""
     ],
     "language": "python",
     "metadata": {},
     "outputs": [
      {
       "output_type": "stream",
       "stream": "stdout",
       "text": [
        "The Min bottom width is 4.13 m\n"
       ]
      }
     ],
     "prompt_number": 30
    },
    {
     "cell_type": "heading",
     "level": 2,
     "metadata": {},
     "source": [
      "Problem no 14.8,Page No.334"
     ]
    },
    {
     "cell_type": "code",
     "collapsed": false,
     "input": [
      "import math\n",
      "%matplotlib  inline\n",
      "\n",
      "#Initilization of variables\n",
      "H=10 #m #height of dam\n",
      "a=1 #m #top width\n",
      "b=7 #m #Bottom width\n",
      "rho_mason=19620 #N/m**3 #weight of mason\n",
      "rho_w=9810 #N/m**3 #density of water\n",
      "\n",
      "#Calculations\n",
      "\n",
      "#Lateral thrust\n",
      "P=rho_w*H**2*2**-1\n",
      "\n",
      "#weight of dam\n",
      "W=(rho_w*H*2**-1*a)+(rho_mason*(a+b)*2**-1*H)\n",
      "\n",
      "#Taking Moment at B,M_B=0\n",
      "x_bar=((rho_w*H*2**-1*1*3**-1)+(rho_mason*H*2**-1*2*3**-1)+(rho_mason*H*1.5)+(rho_mason*H*5*11*2**-1*3**-1))*W**-1\n",
      "\n",
      "#Now using relation we get\n",
      "x=P*W**-1*H*3**-1\n",
      "\n",
      "#Eccentricity\n",
      "e=x_bar+x-b*2**-1\n",
      "\n",
      "#Max stress\n",
      "sigma_max=W*b**-1*(1+6*round(e,2)*b**-1)\n",
      "\n",
      "#Min stress\n",
      "sigma_min=W*b**-1*(1-6*round(e,2)*b**-1)\n",
      "\n",
      "#Result\n",
      "print\"The Max stresses on the base is\",round(sigma_max,2),\"N/m**2\"\n",
      "print\"The Min stresses on the base is\",round(sigma_min,2),\"N/m**2\""
     ],
     "language": "python",
     "metadata": {},
     "outputs": [
      {
       "output_type": "stream",
       "stream": "stdout",
       "text": [
        "The Max stresses on the base is 228372.8 N/m**2\n",
        "The Min stresses on the base is 9870.06 N/m**2\n"
       ]
      }
     ],
     "prompt_number": 47
    },
    {
     "cell_type": "heading",
     "level": 2,
     "metadata": {},
     "source": [
      "Problem no 14.10,Page No.337"
     ]
    },
    {
     "cell_type": "code",
     "collapsed": false,
     "input": [
      "import math\n",
      "%matplotlib  inline\n",
      "\n",
      "#Initilization of variables\n",
      "H=6 #m #height of dam\n",
      "a=1 #m #top width\n",
      "b=3 #m #Bottom width\n",
      "rho_mason=22 #KN/m**3 #weight of mason\n",
      "rho_earth=16 #KN/m**3 #density of water\n",
      "phi=30 #Degree #angle of repose\n",
      "mu=0.5 #Coeffecient of friction\n",
      "\n",
      "#Calculations\n",
      "\n",
      "#Let Length of dam ,L=1 m\n",
      "L=1 #m\n",
      "\n",
      "#weight of dam\n",
      "W=(a+b)*2**-1*L*H*rho_mason\n",
      "\n",
      "#Lateral thrust\n",
      "P=rho_earth*H**2*L*2**-1*((1-sin(30*pi*180**-1))*(1+sin(phi*pi*180**-1))**-1)\n",
      "\n",
      "#Distance of Line of action from vertical base\n",
      "x_bar=(b**2+b*a+a**2)*(3*(b+a))**-1\n",
      "\n",
      "#distance of pt where resultant cuts the base\n",
      "x=P*W**-1*H*3**-1\n",
      "\n",
      "#Eccentricity\n",
      "e=x_bar+x-b*2**-1\n",
      "e_max=b*6**-1\n",
      "\n",
      "#stress at toe\n",
      "sigma2=W*10**3*b**-1*(1+6*round(e,2)*b**-1)*10**-3\n",
      "\n",
      "#Safe agaainst bearing\n",
      "\n",
      "#Frictional Resistance \n",
      "F=mu*W\n",
      "\n",
      "#Hence F>P,so it is safe against sliding\n",
      "\n",
      "#Result\n",
      "print\"Safe against bearing as well as sliding\""
     ],
     "language": "python",
     "metadata": {},
     "outputs": [
      {
       "output_type": "stream",
       "stream": "stdout",
       "text": [
        "Safe against bearing as well as sliding\n"
       ]
      }
     ],
     "prompt_number": 69
    },
    {
     "cell_type": "heading",
     "level": 2,
     "metadata": {},
     "source": [
      "Problem no 14.11,Page No.338"
     ]
    },
    {
     "cell_type": "code",
     "collapsed": false,
     "input": [
      "import math\n",
      "%matplotlib  inline\n",
      "\n",
      "#Initilization of variables\n",
      "H=8 #m #height of dam\n",
      "a=1 #m #top width\n",
      "b=4.5 #m #Bottom width\n",
      "rho_mason=24 #KN/m**3 #weight of mason\n",
      "rho_earth=20 #KN/m**3 #density of water\n",
      "phi=30 #Degree #angle of repose\n",
      "mu=0.5 #Coeffecient of friction\n",
      "BC=120 #KN/m**2\n",
      "\n",
      "\n",
      "#Calculations\n",
      "\n",
      "#Let Length of dam ,L=1 m\n",
      "L=1 #m\n",
      "\n",
      "#weight of dam\n",
      "W=(a+b)*2**-1*L*H*rho_mason\n",
      "\n",
      "#Rankine's coeff earth pressure\n",
      "K=((1-sin(30*pi*180**-1))*(1+sin(phi*pi*180**-1))**-1)\n",
      "\n",
      "#Lateral thrust\n",
      "P=rho_earth*H**2*L*2**-1*round(K,2)\n",
      "\n",
      "#Distance of Line of action from vertical base\n",
      "x_bar=(b**2+b*a+a**2)*(3*(b+a))**-1\n",
      "\n",
      "#distance of pt where resultant cuts the base\n",
      "x=P*W**-1*H*3**-1\n",
      "\n",
      "#Eccentricity\n",
      "e=x_bar+x-b*2**-1\n",
      "\n",
      "#Pressure at heel B\n",
      "sigma1=W*b**-1*(1-6*round(e,2)*b**-1)\n",
      "\n",
      "#Pressure at heel C\n",
      "sigma2=W*b**-1*(1+6*round(e,2)*b**-1)\n",
      "\n",
      "#sigma2>120 #KN/m**2,so it is unsafe against bearing capacity of the soil\n",
      "\n",
      "#result\n",
      "print\"Unsafe against the bearing capacity of soil\" \n",
      "\n",
      "#Plotting the Shear Force Diagram\n",
      "\n",
      "X1=[0,L,L]\n",
      "Y1=[sigma2,sigma1,0]\n",
      "Z1=[0,0,0]\n",
      "plt.plot(X1,Y1,X1,Z1)\n",
      "plt.xlabel(\"Length x in m\")\n",
      "plt.ylabel(\"Shear Force in kN\")\n",
      "plt.show()\n"
     ],
     "language": "python",
     "metadata": {},
     "outputs": [
      {
       "output_type": "stream",
       "stream": "stdout",
       "text": [
        "Unsafe against the bearing capacity of soil\n"
       ]
      },
      {
       "metadata": {},
       "output_type": "display_data",
       "png": "[encoded data removed]",
       "text": [
        "<matplotlib.figure.Figure at 0x54faf90>"
       ]
      }
     ],
     "prompt_number": 86
    },
    {
     "cell_type": "heading",
     "level": 2,
     "metadata": {},
     "source": [
      "Problem no 14.12,Page No.340"
     ]
    },
    {
     "cell_type": "code",
     "collapsed": false,
     "input": [
      "import math\n",
      "%matplotlib  inline\n",
      "\n",
      "#Initilization of variables\n",
      "H=6 #m #height of dam\n",
      "a=1.5 #m #top width\n",
      "b=3.5 #m #Bottom width\n",
      "rho_s=16 #KN/m**3 #density of soil\n",
      "rho_mason=22.5 #KN/m**3 #density of mason\n",
      "phi=30 #Degree #angle of repose\n",
      "\n",
      "#Calculations\n",
      "\n",
      "#Let Length of dam ,L=1 m\n",
      "L=1 #m\n",
      "\n",
      "#weight of dam\n",
      "W=(a+b)*2**-1*L*H*rho_mason\n",
      "\n",
      "#Rankine's coeff earth pressure\n",
      "K=((1-sin(30*pi*180**-1))*(1+sin(phi*pi*180**-1))**-1)\n",
      "\n",
      "#Lateral thrust\n",
      "P=rho_s*H**2*L*2**-1*K\n",
      "\n",
      "#Distance of Line of action from vertical base\n",
      "x_bar=(b**2+b*a+a**2)*(3*(b+a))**-1\n",
      "\n",
      "#distance of pt where resultant cuts the base\n",
      "x=P*W**-1*H*3**-1\n",
      "\n",
      "#Eccentricity\n",
      "e=x_bar+x-b*2**-1\n",
      "\n",
      "#Pressure at heel B\n",
      "sigma1=W*b**-1*(1-6*round(e,3)*b**-1)\n",
      "\n",
      "#Pressure at heel C\n",
      "sigma2=W*b**-1*(1+6*round(e,3)*b**-1)\n",
      "\n",
      "#Result\n",
      "print\"The Max Intensities of soil at the wall is\",round(sigma2,2),\"KN/m**2\"\n",
      "print\"The Min Intensities of soil at the wall is\",round(sigma1,2),\"KN/m**2\"\n",
      "\n",
      "#Plotting the Shear Force Diagram\n",
      "\n",
      "X1=[0,L,L]\n",
      "Y1=[sigma2,sigma1,0]\n",
      "Z1=[0,0,0]\n",
      "plt.plot(X1,Y1,X1,Z1)\n",
      "plt.xlabel(\"Length x in m\")\n",
      "plt.ylabel(\"Shear Force in kN\")\n",
      "plt.show()\n"
     ],
     "language": "python",
     "metadata": {},
     "outputs": [
      {
       "output_type": "stream",
       "stream": "stdout",
       "text": [
        "The Max Intensities of soil at the wall is 118.91 KN/m**2\n",
        "The Min Intensities of soil at the wall is 73.95 KN/m**2\n"
       ]
      },
      {
       "metadata": {},
       "output_type": "display_data",
       "png": "[encoded data removed]",
       "text": [
        "<matplotlib.figure.Figure at 0x555a0f0>"
       ]
      }
     ],
     "prompt_number": 113
    },
    {
     "cell_type": "heading",
     "level": 2,
     "metadata": {},
     "source": [
      "Problem no 14.13,Page No.341"
     ]
    },
    {
     "cell_type": "code",
     "collapsed": false,
     "input": [
      "import math\n",
      "%matplotlib  inline\n",
      "\n",
      "#Initilization of variables\n",
      "H=6 #m #height of dam\n",
      "a=1 #m #top width\n",
      "b=3 #m #Bottom width\n",
      "rho_s=18 #KN/m**3 #density of soil\n",
      "rho_mason=24 #KN/m**3 #density of mason\n",
      "alpha=20\n",
      "phi=30\n",
      "\n",
      "#Calculations\n",
      "\n",
      "#Let Length of dam ,L=1 m\n",
      "L=1 #m\n",
      "\n",
      "a2=cos(alpha*pi*180**-1)\n",
      "b2=(cos(alpha*pi*180**-1)-((cos(alpha*pi*180**-1)**2-cos(phi*pi*180**-1)**2))**0.5)\n",
      "c2=(cos(alpha*pi*180**-1)+((cos(alpha*pi*180**-1)**2-cos(phi*pi*180**-1)**2)**0.5))\n",
      "\n",
      "X=a2*b2*c2**-1\n",
      "\n",
      "#Total Pressue on the wall\n",
      "P=rho_s*H**2*2**-1*X\n",
      "\n",
      "#The Horizontal component of pressure\n",
      "P_H=P*cos(20*pi*180**-1)\n",
      "\n",
      "#The Vertical component of pressure\n",
      "P_V=P*sin(20*pi*180**-1)\n",
      "\n",
      "#weight of wall\n",
      "W=(a+b)*H*rho_mason*2**-1\n",
      "\n",
      "#TotaL Weight \n",
      "W1=W+P_V\n",
      "\n",
      "#Taking moment of vertical Loads about B,M_B=0\n",
      "x_bar=(rho_mason*a*H*0.5+rho_mason*H*2)*W1**-1\n",
      "\n",
      "x=P_H*W1**-1*H*3**-1\n",
      "\n",
      "#eccentricity\n",
      "e=x_bar+x-b*2**-1\n",
      "\n",
      "#Stress at the toe at C\n",
      "sigma_max=W1*b**-1*(1+6*round(e,2)*b**-1)\n",
      "\n",
      "#Stress at the heel at B\n",
      "sigma_min=W1*b**-1*(1-6*round(e,2)*b**-1)\n",
      "\n",
      "#Result\n",
      "print\"Pressure at the base of the wall:Pressure at the heel\",round(sigma_min,2),\"KN/m**2\"\n",
      "print\"                                :Pressure at the toe\",round(sigma_max,2),\"KN/m**2\""
     ],
     "language": "python",
     "metadata": {},
     "outputs": [
      {
       "output_type": "stream",
       "stream": "stdout",
       "text": [
        "Pressure at the base of the wall:Pressure at the heel 37.84 KN/m**2\n",
        "                                :Pressure at the toe 184.76 KN/m**2\n"
       ]
      }
     ],
     "prompt_number": 155
    }
   ],
   "metadata": {}
  }
 ]
}