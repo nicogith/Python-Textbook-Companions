{
 "metadata": {
  "name": "chapter 8 som.ipynb"
 },
 "nbformat": 3,
 "nbformat_minor": 0,
 "worksheets": [
  {
   "cells": [
    {
     "cell_type": "heading",
     "level": 1,
     "metadata": {},
     "source": [
      "Chapter 8:Springs"
     ]
    },
    {
     "cell_type": "heading",
     "level": 2,
     "metadata": {},
     "source": [
      "Problem 8.1,Page no.206"
     ]
    },
    {
     "cell_type": "code",
     "collapsed": false,
     "input": [
      "import math\n",
      "\n",
      "#Initilization of variables\n",
      "\n",
      "k=1 #KN/m #stiffness of spring\n",
      "P=45 #N #Maximum Load\n",
      "sigma_s=126 #MPa #Max shear stress\n",
      "L=4.5 #cm #Lenght of spring\n",
      "G=42 #GPa #Modulus of rigidity\n",
      "\n",
      "#Calculations\n",
      "\n",
      "#sigma_s_max=16*P*R*(pi*d**3)**-1 #Max shear stress\n",
      "\n",
      "#After substituting values in above equation and simolifying we get\n",
      "#1000=42*10**9*d**4*(64*R**3*n)**-1   (#Equation 1)\n",
      "\n",
      "#R=0.175*10**6*pi*d**3 #Radius of spring (Equation 2)\n",
      "\n",
      "#L=n*d #solid length of spring\n",
      "#Thus simplifying above equation, n=L*d**-1\n",
      "\n",
      "#substituting value of n and R in (equation 1) we get,\n",
      "\n",
      "d=(42*10**9*(1000*64*4.5*10**-2*(0.175*pi)**3*(10**6)**3)**-1)**0.25*10**2 #cm #diameter of helical spring\n",
      "\n",
      "#substituting value d in (equation 2) we get,\n",
      "R=0.175*10**6*pi*(d)**3*10**-6*100 #cm #Radius of coil\n",
      "D=2*R #cm #Mean diameter of coil\n",
      "n=0.045*0.00306**-1 #Number of turns\n",
      "\n",
      "\n",
      "#Result\n",
      "print\"The Diameter of wire is\",round(d,3),\"cm\"\n",
      "print\"The Mean Diameter of coil is\",round(D,2),\"cm\""
     ],
     "language": "python",
     "metadata": {},
     "outputs": [
      {
       "output_type": "stream",
       "stream": "stdout",
       "text": [
        "The Diameter of coil is 0.306 cm\n",
        "The Mean Diameter of coil is 3.15 cm\n"
       ]
      }
     ],
     "prompt_number": 16
    },
    {
     "cell_type": "heading",
     "level": 2,
     "metadata": {},
     "source": [
      "Problem 8.2,Page no.207"
     ]
    },
    {
     "cell_type": "code",
     "collapsed": false,
     "input": [
      "import math\n",
      "import numpy as np\n",
      "\n",
      "#Initilization of variables\n",
      "\n",
      "L=15 #cm #Length of close coiled helical spring\n",
      "U=50 #N*m #Strain energy\n",
      "sigma_s=140 #MPa #Shear stress\n",
      "D=10 #cm #Mean coil diameter\n",
      "G=80 #GPa #Modulus of rigidity\n",
      "\n",
      "R=D*2**-1 #cm #Mean coil Radius\n",
      "\n",
      "#Calculations\n",
      "\n",
      "#Let dell be the deflection of the spring when fully compressed\n",
      "# 0.15-dell=n*d (Equation 1)\n",
      " \n",
      "#U=(sigma_s)**2*V*(4*G)**-1 #Strain energy\n",
      "\n",
      "#After substituting values in above equation and simolifying we get\n",
      "V=50*4*80*10**9*((140*10**6)**2)**-1 #m**3 #Volume of spring\n",
      "\n",
      "#But V=pi*4**-1*d**2*2*pi*R*n\n",
      "#After substituting values in above equation and simolifying we get\n",
      "#n=3.308*10**-3*(d**2)**-1 #Number of turns\n",
      "\n",
      "#We know, T=P*R \n",
      "#Now substituting values in T and simolifying we get\n",
      "#P=549.7787*10**6*d**3  #Load\n",
      "\n",
      "#U=P*dell*2**-1\n",
      "#After substituting values in above equation and simolifying we get\n",
      "#dell=0.18189*10**-6*d**3 #Deflection \n",
      "\n",
      "#After substituting values in above equation and simolifying we get\n",
      "\n",
      "#d**3-22.0533*10**-3*d**2-1.21261*10**-6=0\n",
      "\n",
      "coeff=[1,-22.0533*10**-3,0,-1.21261*10**-6]\n",
      "d=np.roots(coeff)  #Diameter of steel wire\n",
      "n=3.308*10**-3*((d[0])**2)**-1 #no.of coils\n",
      "\n",
      "#Result\n",
      "print\"Diameter of steel wire is\",d[0],\"m\"\n",
      "print\"number of coils\",n"
     ],
     "language": "python",
     "metadata": {},
     "outputs": [
      {
       "output_type": "stream",
       "stream": "stdout",
       "text": [
        "Diameter of steel wire is (0.0241350343273+0j) m\n",
        "number of coils (5.67897110767+0j)\n"
       ]
      }
     ],
     "prompt_number": 9
    },
    {
     "cell_type": "heading",
     "level": 2,
     "metadata": {},
     "source": [
      "Problem 8.3,Page no.208"
     ]
    },
    {
     "cell_type": "code",
     "collapsed": false,
     "input": [
      "import math\n",
      "\n",
      "#Initilization of variables\n",
      "\n",
      "k=10 #KN/m #stiffness\n",
      "L=40 #cm #Length of coil when adjascent coil touch each other\n",
      "G=80 #GPa #Modulus of rigidity\n",
      "#dell=0.002*n #Max compression\n",
      "\n",
      "#Calculation\n",
      "\n",
      "#k=G*d**4*(8*D**3*n)**-1 #Stiffness\n",
      "#After substituting values in above equation and simolifying we get\n",
      "#d**4=D**3*n*10**-6     (Equation 1)\n",
      "\n",
      "#L=n*d, #After substituting values we get\n",
      "#n=0.4*d**-1            (Equation 2)\n",
      "\n",
      "#Again, d*D**-1=1*10**-1\n",
      "#After solving above ratios we get,D=10*d\n",
      "\n",
      "#After substituting values in Equation 1 And Equation 2 we get\n",
      "d=(10**3*0.4*10**-6)**0.5*100 #cm\n",
      "D=10*d #cm #Mean Diameter \n",
      "R=D*2**-1 #cm #Mean Radius\n",
      "n=0.4*(d*10**-2)**-1 #Number of turns\n",
      "dell=0.002*n*100 #Deflection\n",
      "\n",
      "#k=P*dell**-1 \n",
      "#after solving above equation we get\n",
      "P=k*10**3*dell*10**-2 #N #Load\n",
      "\n",
      "sigma_s_max=16*P*R*10**-2*(pi*(d*10**-2)**3)**-1 #N/m**2 #Max shear stress\n",
      "\n",
      "#Result\n",
      "print\"The wire diameter is\",round(d,2),\"cm\"\n",
      "print\"The Mean diameter is\",round(D,2),\"cm\"\n",
      "print\"Max Load applied is\",round(P,2),\"N\"\n",
      "print\"Max shear stress is\",round(sigma_s_max,0),\"N/m**2\""
     ],
     "language": "python",
     "metadata": {},
     "outputs": [
      {
       "output_type": "stream",
       "stream": "stdout",
       "text": [
        "The wire diameter is 2.0 cm\n",
        "The Mean diameter is 20.0 cm\n",
        "Max Load applied is 400.0 N\n",
        "Max shear stress is 25464791.0 N/m**2\n"
       ]
      }
     ],
     "prompt_number": 39
    },
    {
     "cell_type": "heading",
     "level": 2,
     "metadata": {},
     "source": [
      "Problem 8.4,Page no.209"
     ]
    },
    {
     "cell_type": "code",
     "collapsed": false,
     "input": [
      "import math\n",
      "\n",
      "#Initilization of variables\n",
      "\n",
      "G=80 #GPa #Modulus of rigidity\n",
      "P=1 #KN #Load\n",
      "dell=10 #cm #Deflection\n",
      "sigma_s=350 #MPa #Max shear stress\n",
      "rho=78000 #N/m**3 #Density of materials\n",
      "\n",
      "#Calculations\n",
      "\n",
      "U=P*1000*dell*10**-2*2**-1 #N*m #Energy stored\n",
      "\n",
      "#Again U=sigma_s**2*V*(4*G)**-1 \n",
      "#After substituting values in above equation and further simplifying we get\n",
      "V=50*4*80*10**9*((350*10**6)**2)**-1 #m**3 #Volume\n",
      "\n",
      "W=V*rho #N #Weight\n",
      "\n",
      "#Now T=P*R=pi*d**3*sigma_s*16**-1\n",
      "#After substituting values in above equation and further simplifying\n",
      "D=(10**6*16*(2*pi*350*10**6)**-1)**0.5*10**2 #cm #Mean diameter of coil\n",
      "\n",
      "k=P*10**3*(dell*10**-2)**-1 #stiffness\n",
      "\n",
      "#Also k=D*n**-1*10**6\n",
      "#After substituting values in above equation and further simplifying\n",
      "n=10**6*D*10**-2*k**-1 #number of turns\n",
      "\n",
      "#Result\n",
      "print\"The Value of weight is\",round(W,3),\"N\"\n",
      "print\"Mean coil diameter is\",round(D,2),\"cm\"\n",
      "print\"The number of Turns is\",round(n,4)"
     ],
     "language": "python",
     "metadata": {},
     "outputs": [
      {
       "output_type": "stream",
       "stream": "stdout",
       "text": [
        "The Value of weight is 10.188 N\n",
        "Mean coil diameter is 8.53 cm\n",
        "The number of Turns is 8.5297\n"
       ]
      }
     ],
     "prompt_number": 19
    },
    {
     "cell_type": "heading",
     "level": 2,
     "metadata": {},
     "source": [
      "Problem 8.5,Page no.210"
     ]
    },
    {
     "cell_type": "code",
     "collapsed": false,
     "input": [
      "import math\n",
      "\n",
      "#Initilization of variables\n",
      "\n",
      "d=6 #mm #Diameter of steel wire\n",
      "n=50 #number of turns\n",
      "D=5 #cm #Mean Diameter\n",
      "R=D*2**-1 #cm #Radius of coil\n",
      "G=80 #GPa #Modulus of Rigidity\n",
      "P=150 #KN #Load\n",
      "\n",
      "#Calculation\n",
      "\n",
      "#Dell=64*P*R**3*n*(G*d**4)**-1 #Deflection\n",
      "#After substituting values in above equation and simplifying we get\n",
      "#P=2073.6*dell #Gradually applied equivalent Load\n",
      "\n",
      "#loss of potential Energy of the weight=Gain of strain Energy of the spring\n",
      "#150*(0.05+dell)=P*dell*2**-1\n",
      "#After substituting values in above equation we get\n",
      "\n",
      "#dell**2-0.1446*dell-0.00723=0\n",
      "#Above Equation is in the form of ax^2+bx+c=0\n",
      "\n",
      "a=1\n",
      "b=-0.1446\n",
      "c=-0.00723\n",
      "\n",
      "#First computing value of  b^2-4ac and store it in a variable say X\n",
      "X=b**2-(4*a*c)\n",
      "#now roots are given as x=(-b+X**0.5)/(2*a) and second root is negative sign before X\n",
      "\n",
      "\n",
      "dell_1=(-b+X**0.5)*(2*a)**-1*10**2\n",
      "dell_2=(-b-X**0.5)*(2*a)**-1*10**2\n",
      "\n",
      "P=2073.6*dell_1*10**-2 #N \n",
      "\n",
      "sigma=16*P*R*10**-2*(pi*(d*10**-3)**3)**-1 #N/m**2 #Max stress\n",
      "\n",
      "#Result\n",
      "print\"The Max Extension of the Spring is\",round(dell_1,2),\"cm\"\n",
      "print\"The Max stress is\",sigma,\"N/m**2\""
     ],
     "language": "python",
     "metadata": {},
     "outputs": [
      {
       "output_type": "stream",
       "stream": "stdout",
       "text": [
        "The Max Extension of the Spring is 18.39 cm\n",
        "The Max stress is 224797751.663 N/m**2\n"
       ]
      }
     ],
     "prompt_number": 46
    },
    {
     "cell_type": "heading",
     "level": 2,
     "metadata": {},
     "source": [
      "Problem 8.6,Page no.209"
     ]
    },
    {
     "cell_type": "code",
     "collapsed": false,
     "input": [
      "import math\n",
      "\n",
      "#Initilization of variables\n",
      "\n",
      "W=200 #N #weight \n",
      "v=4 #m/s #velocity of spring\n",
      "sigma=600 #MPa #max allowable stress in spring\n",
      "G=80 #GPa #Modulus of rigidity\n",
      "rho=78000 #N/m**3 #density\n",
      "d=8 #mm #diameter of spring\n",
      "D=5 #cm #Mean Diameter of coil\n",
      "\n",
      "\n",
      "#Calculation \n",
      "\n",
      "E=W*v**2*(2*9.81)**-1 #N*m #Kinetic Energy #Notification has been changed\n",
      "\n",
      "#U=sigma_s**2*V*(4*G)**-1 #Strain Energy stored inthe spring\n",
      "\n",
      "#After substituting values in above equation and simplifying we get\n",
      "V=163.1*4*80*10**9*((600*10**6)**2)**-1  #Volume \n",
      "\n",
      "W=rho*V #N #Weight of spring\n",
      "\n",
      "#Now V=pi*4**-1*d**2*pi*D*n\n",
      "#After substituting values in above equation and simplifying we get\n",
      "n=0.000145*4*(pi**2*0.008**2*0.05)**-1 #number of turns of spring\n",
      "\n",
      "#T=P*R=pi*16**-1*d**3*sigma_s #Torsion\n",
      "#After substituting values in above equation and simplifying we get\n",
      "P=pi*0.008**3*600*10**6*(0.025*16)**-1 #N\n",
      "\n",
      "#Now U=P*dell*2**-1 \n",
      "#Again,After substituting values in above equation and simplifying we get\n",
      "dell=163.1*2*(2412.743)**-1*10**2 #cm\n",
      "\n",
      "#Result\n",
      "print\"The Max Deflection Produced is\",round(dell,2),\"cm\"\n",
      "print\"Number of coil are\",round(n,2),"
     ],
     "language": "python",
     "metadata": {},
     "outputs": [
      {
       "output_type": "stream",
       "stream": "stdout",
       "text": [
        "The Max Deflection Produced is 13.52 cm\n",
        "Number of coil are 18.36\n"
       ]
      }
     ],
     "prompt_number": 28
    },
    {
     "cell_type": "heading",
     "level": 2,
     "metadata": {},
     "source": [
      "Problem 8.7,Page no.211"
     ]
    },
    {
     "cell_type": "code",
     "collapsed": false,
     "input": [
      "import math\n",
      "\n",
      "#Initilization of variables\n",
      "\n",
      "n=12 #number of coils\n",
      "d=3 #cm #mean diameter\n",
      "k=720 #N/m #stiffness of spring\n",
      "sigma_s=190 #MPa #Max shear stress\n",
      "G=80 #GPa #Modulus of rigidity\n",
      "D=3 #mm #Diameter of outer spring\n",
      "\n",
      "#Calculations\n",
      "R=D*2**-1 #mm #Radius of outer spring\n",
      "\n",
      "#Dell_1=64*P*(R*10**-3**3*n*(G*10**9*(d*10**-3)**4)**-1 #m #Extension of first spring\n",
      "#After substituting values and further simplifying we get\n",
      "#Dell_1=0.0004*P #m\n",
      "\n",
      "#Dell_2=64*P*(R*10**-3**3*n*(G*10**9*(d_1)**4)**-1 #m #Extension of first spring\n",
      "#After substituting values and further simplifying we get\n",
      "#Dell_2=3.24*10**-14*P*(d_1**4)**-1 #m #where d_1 is diameter of inner spring\n",
      "\n",
      "#Dell=Dell_1+Dell_2\n",
      "#After substituting values and further simplifying we get\n",
      "#dell=0.0004*P+3.24*10**-14*P*((d)**4)**-1\n",
      "\n",
      "#But dell=P*k**-1=P*720**-1\n",
      "\n",
      "#Now substituting value of dell in above equation we get\n",
      "d_1=(3.24*10**-14*(1*720**-1-0.0004)**-1)**0.25 #cm #diameter of inner spring\n",
      "\n",
      "#Now T=P*R=pi*d_1**3*dell_s*sigma_s*16**-1\n",
      "#simplifying above equation further \n",
      "#P=pi*d**3*sigma_s*(16*R)**-1 \n",
      "#Now substituting values and further simplifying we get\n",
      "P=pi*d_1**3*sigma_s*10**6*(16*R*10**-2)**-1 #N #Limiting Load\n",
      "\n",
      "dell=P*k**-1*10**2 #cm #Total Elongation\n",
      "\n",
      "#Result\n",
      "print\"Greatest Load that can be carried by composite spring is\",round(P,0),\"N\"\n",
      "print\"Extension in spring is\",round(dell,2),\"cm\""
     ],
     "language": "python",
     "metadata": {},
     "outputs": [
      {
       "output_type": "stream",
       "stream": "stdout",
       "text": [
        "Greatest Load that can be carried by composite spring is 34.0 N\n",
        "Extension in spring is 4.73 cm\n"
       ]
      }
     ],
     "prompt_number": 20
    },
    {
     "cell_type": "heading",
     "level": 2,
     "metadata": {},
     "source": [
      "Problem 8.8,Page no.212"
     ]
    },
    {
     "cell_type": "code",
     "collapsed": false,
     "input": [
      "import math\n",
      "\n",
      "#Initilization of variables\n",
      "\n",
      "#Outer spring\n",
      "n_1=10 #number of coils\n",
      "D_1=3 #cm #Diameter of coil\n",
      "d_1=3 #mm #diameter of wire\n",
      "dell_1=2 #cm #deflection of spring\n",
      "\n",
      "#Inner spring\n",
      "n_2=8 #number of coils\n",
      "\n",
      "G=80 #GPa #Modulus of rigidity\n",
      "\n",
      "#Calculation\n",
      "\n",
      "R_1=D_1*2**-1\n",
      "P_1=G*10**9*dell_1*10**-2*(d_1*10**-3)**4*(64*(R_1*10**-2)**3*n_1)**-1 #Load carried outer spring for compression of 2 cm\n",
      "\n",
      "P_2=100-P_1 #N #Load carried by inner spring\n",
      "k_2=P_2*0.01**-1 #N/m #stiffness of inner spring\n",
      "\n",
      "#D_2=D_1*10**-2-d_1*10**-3-2*dell_1*10**-2-d_2 #Diameter of inner spring\n",
      "#Further simplifying above equation we get\n",
      "#D_2=0.023-d_2\n",
      "\n",
      "#Now from stiffness equation of inner spring\n",
      "#k=G*d_2**4*(8*D_2**3*n_2)**-1\n",
      "#Now substituting values and further simplifying we get\n",
      "#d**4=(0.023-d)**3*312500**-1\n",
      "\n",
      "#As d is small compared with 0.023,as a first appromixation\n",
      "d_2_1=(0.023**3*312500**-1)**0.25 #m\n",
      "\n",
      "#Second Approximation\n",
      "d_2_2=((0.023-d_2_1)**3*312500**-1)**0.25 #m\n",
      "\n",
      "#Final approximation\n",
      "d_2_3=((0.023-d_2_2)**3*312500**-1)**0.25*100 #cm\n",
      "\n",
      "#Result\n",
      "print P_1\n",
      "print\"Stiffness of inner spring is\",round(k_2,2),\"N/m\"\n",
      "print\"Wire Diameter of inner spring is\",round(d_2_3,3),\"cm\""
     ],
     "language": "python",
     "metadata": {},
     "outputs": [
      {
       "output_type": "stream",
       "stream": "stdout",
       "text": [
        "60.0\n",
        "Stiffness of inner spring is 4000.0 N/m\n",
        "Wire Diameter of inner spring is 0.231 cm\n"
       ]
      }
     ],
     "prompt_number": 12
    },
    {
     "cell_type": "heading",
     "level": 2,
     "metadata": {},
     "source": [
      "Problem 8.9,Page no.212"
     ]
    },
    {
     "cell_type": "code",
     "collapsed": false,
     "input": [
      "import math\n",
      "\n",
      "#Initilization of variables\n",
      "\n",
      "L= 3 #m #Length of rod\n",
      "d_1=25*10**-3 #m #Diameter of rod\n",
      "n= 5 #no. of coils\n",
      "sigma=70*10**6 #MPa  #instantaneous stress\n",
      "E=70*10**9 #Pa \n",
      "G=80*10**9 #Pa\n",
      "D=24*10**-2 #Spring diameter\n",
      "R=d_2*2**-1 #spring radius\n",
      "d=4*10**-2 #diameter of steel\n",
      "\n",
      "#Calculations\n",
      "\n",
      "dell_1=sigma*L*(E)**-1\n",
      "\n",
      "#Let P be the equivalent applied Load which will produce same stress of 70 MPa\n",
      "P=pi*4**-1*(d_1)**2*E*10**-3 #KN\n",
      "\n",
      "#deflection of the spring is given by\n",
      "dell_2=P*64*R**3*n*(G*d**4)**-1 \n",
      "\n",
      "#Now Loss of Potential Energy of the weight=strain energy stored in the rod and the spring\n",
      "#Height measured from top of uncompressed  spring\n",
      "h=((P*dell_1*2**-1+P*dell_2*2**-1)*(5.5*10**3)**-1-(dell_1+dell_2))*10**2\n",
      "\n",
      "#Shear stress in the spring is given by\n",
      "sigma_s=16*P*R*(pi*d**3)**-1*10**-6 #MPa \n",
      "\n",
      "#Result\n",
      "print\"Height measured from top of uncompressed  spring\",round(h,2),\"cm\"\n",
      "print\"max shearing stress is\",round(sigma_s,2),\"MPa\""
     ],
     "language": "python",
     "metadata": {},
     "outputs": [
      {
       "output_type": "stream",
       "stream": "stdout",
       "text": [
        "Height measured from top of uncompressed  spring 20.34 cm\n",
        "max shearing stress is 328.13 MPa\n"
       ]
      }
     ],
     "prompt_number": 18
    },
    {
     "cell_type": "heading",
     "level": 2,
     "metadata": {},
     "source": [
      "Problem 8.10,Page no.213"
     ]
    },
    {
     "cell_type": "code",
     "collapsed": false,
     "input": [
      "import math\n",
      "\n",
      "#Initilization of variables\n",
      "\n",
      "L=75 #cm #Legth of Leaf spring\n",
      "P=8 #KN #Load\n",
      "y_c=20 #mm #Deflection\n",
      "sigma=200 #MPa #Bending stress \n",
      "E=200 #GPa #modulus of Elasticity\n",
      "#b=12*t\n",
      "\n",
      "#Calculation\n",
      "\n",
      "#y_c=sigma*L**2*(4*E*t)**-1 \n",
      "#After substituting values and further simplifying we get\n",
      "t=200*10**6*(75*10**-2)**2*(4*200*10**9*0.02)**-1*10**2 #Thickness of plate\n",
      "\n",
      "b=12*t #width of plate\n",
      "\n",
      "#Now using relation we get\n",
      "#sigma=3*P*L*(2*n*b*t**2)**-1 \n",
      "#After substituting values and further simplifying we get\n",
      "n=3*8*10**3*0.75*(2*200*10**6*0.084*0.007**2)**-1\n",
      "\n",
      "#Y_c=L**2*(8*R)**-1\n",
      "R=(L*10**-2)**2*(8*y_c*10**-3)**-1 #m #Radius of spring\n",
      "\n",
      "#Result\n",
      "print\"The thickness of plate is\",round(t,2),\"cm\"\n",
      "print\"The width of plate is\",round(b,2),\"cm\"\n",
      "print\"The number of plate is\",round(n,2)\n",
      "print\"The Radius of plate is\",round(R,2)"
     ],
     "language": "python",
     "metadata": {},
     "outputs": [
      {
       "output_type": "stream",
       "stream": "stdout",
       "text": [
        "The thickness of plate is 0.7 cm\n",
        "The width of plate is 8.44 cm\n",
        "The number of plate is 10.93\n",
        "The Radius of plate is 3.52\n"
       ]
      }
     ],
     "prompt_number": 4
    },
    {
     "cell_type": "heading",
     "level": 2,
     "metadata": {},
     "source": [
      "Problem 8.11,Page no.214"
     ]
    },
    {
     "cell_type": "code",
     "collapsed": false,
     "input": [
      "import math\n",
      "\n",
      "#Initilization of variables\n",
      "\n",
      "L=75 #cm #span of laminated steel spring\n",
      "P=7.5 #KN #Load\n",
      "y_c=5 #cm #Central Deflection\n",
      "sigma=400 #MPa #Bending stress\n",
      "E=200 #GPa #Modulus of Elasticity\n",
      "#b=12*t\n",
      "\n",
      "#Calculations\n",
      "\n",
      "#y_c=3*P*L**3*(8*E*n*b*t**3)**-1 #Deflection\n",
      "#After substituting values and further simplifying we get\n",
      "#nt**4=9.887*10**-9   (Equation 1)\n",
      "\n",
      "#We Know sigma=3*P*L*(2*n*b*t**3)**-1 #bending stress\n",
      "#Again after substituting values and further simplifying we get\n",
      "#nt**3=1.757*10**-6   (Equation 2)\n",
      "\n",
      "#After Divviding (Equation 1) by (Equation 2) we have\n",
      "t=9.887*10**-9*(1.757*10**-6)**-1*10**2 #cm \n",
      "\n",
      "#substituting value of t in Equation 2) we get\n",
      "n=1.757*10**-6*((t*10**-2)**3)**-1 #Number of plates\n",
      "R=(L*10**-2)**2*(8*y_c*10**-2)**-1 #Radius of curvature\n",
      "\n",
      "#Result\n",
      "print\"The thickness of Plates is\",round(t,2),\"cm\"\n",
      "print\"The Number of Plates is\",round(n,2)\n",
      "print\"The Radius of Curvature of Plates is\",round(R,2),\"m\""
     ],
     "language": "python",
     "metadata": {},
     "outputs": [
      {
       "output_type": "stream",
       "stream": "stdout",
       "text": [
        "The thickness of Plates is 0.56 cm\n",
        "The Number of Plates is 9.86\n",
        "The Radius of Curvature of Plates is 1.41 m\n"
       ]
      }
     ],
     "prompt_number": 2
    },
    {
     "cell_type": "heading",
     "level": 2,
     "metadata": {},
     "source": [
      "Problem 8.12,Page no.214"
     ]
    },
    {
     "cell_type": "code",
     "collapsed": false,
     "input": [
      "import math\n",
      "\n",
      "#Initilization of variables\n",
      "\n",
      "L=1.3 #m #Length of carriage spring\n",
      "b=10 #cm #width of spring\n",
      "t=12 #mm #thickness of spring\n",
      "sigma=150 #MPa #Bending stresses\n",
      "E=200 #GPa #Modulus of Elasticity\n",
      "U=120 #N*m #Strain Energy\n",
      "\n",
      "#Calculation\n",
      "\n",
      "#V=n*b*t*L #Volume of carriage spring\n",
      "#U=sigma**2*(6*E)**-1*V\n",
      "#After substituting values in above equation and further simplifying we get\n",
      "n=120*6*200*10**9*2*((150*10**6)**2*10*10**-2*12*10**-3*1.3)**-1\n",
      "\n",
      "sigma_1=(120*6*200*10**9*2*(9*0.1*0.012*1.3)**-1)**0.5*10**-6 #MPa #Actual Bending stress\n",
      "\n",
      "R=E*t*(2*sigma_1)**-1 #m \n",
      "\n",
      "#Result\n",
      "print\"The number of plates is\",round(n,2)\n",
      "print\"Radius of curvature is\",round(R,3)"
     ],
     "language": "python",
     "metadata": {},
     "outputs": [
      {
       "output_type": "stream",
       "stream": "stdout",
       "text": [
        "The number of plates is 8.21\n",
        "Radius of curvature is 8.379\n"
       ]
      }
     ],
     "prompt_number": 10
    },
    {
     "cell_type": "heading",
     "level": 2,
     "metadata": {},
     "source": [
      "Problem 8.13,Page no.215"
     ]
    },
    {
     "cell_type": "code",
     "collapsed": false,
     "input": [
      "import math\n",
      "\n",
      "#Initilization of variables\n",
      "\n",
      "P=200 #N #Load\n",
      "h=10 #cm #Height of Load dropped\n",
      "n=10 #Number of turns\n",
      "b_1=5 #cm #width of plates\n",
      "t=6 #mm #thickness of plates\n",
      "L=75 #cm #Length of plates\n",
      "E=200 #GPa #Modulus of Elasticity\n",
      "\n",
      "#Calculaion\n",
      "\n",
      "#Let P be the equivalent gradually applied load whuch would cause the same stress as is caused by the impact Load\n",
      "#200(0.1+dell)=P*dell*2**-1 (Equation 1)\n",
      "\n",
      "#dell=3*P*L**3*(8*E*n*b*t**3)**-1 #Deflection\n",
      "#After substituting values in above equation and further simplifying we get\n",
      "#P=136533.33*dell\n",
      "\n",
      "#After substituting values of P in (equation 1) and further simplifying we get\n",
      "#200(0.1+dell)=136533.33*dell**2*2**-1\n",
      "\n",
      "#simplifying above equation we get\n",
      "#dell**2-2.93*10**-3*dell-2.93*10**-4=0\n",
      "#The Above Equation is in the form of ax**2+bx+c=0\n",
      "a=1\n",
      "b=-2.93*10**-3\n",
      "c=-2.93*10**-4\n",
      "\n",
      "#First computing value of  b^2-4ac and store it in a variable say X\n",
      "X=b**2-(4*a*c)\n",
      "#now roots are given as x=(-b+X**0.5)/(2*a) and second root is negative sign before X\n",
      "\n",
      "dell_1=(-b+X**0.5)*(2*a)**-1\n",
      "dell_2=(-b-X**0.5)*(2*a)**-1\n",
      "\n",
      "#Now deflection cannot be negative so consider value of dell_1\n",
      "\n",
      "P=136533.33*dell_1\n",
      "sigma=3*P*L*10**-2*(2*n*b_1*10**-2*(t*10**-3)**2)**-1*10**-6 #MPa #Max instantaneous stress\n",
      "R=(L*10**-2)**2*(8*dell_1)**-1 #Radius of curvature\n",
      " \n",
      "#Result\n",
      "print\"Max instantaneous stress in plates is\",round(sigma,2),\"MPa\"\n",
      "print\"Radius of curvature of spring is\",round(R,2),\"m\""
     ],
     "language": "python",
     "metadata": {},
     "outputs": [
      {
       "output_type": "stream",
       "stream": "stdout",
       "text": [
        "Max instantaneous stress in plates is 159.1 MPa\n",
        "Radius of curvature of spring is 3.77 m\n"
       ]
      }
     ],
     "prompt_number": 5
    },
    {
     "cell_type": "heading",
     "level": 2,
     "metadata": {},
     "source": [
      "Problem 8.14,Page no.215"
     ]
    },
    {
     "cell_type": "code",
     "collapsed": false,
     "input": [
      "import math\n",
      "\n",
      "#Initilization of variables\n",
      "\n",
      "L=70 #cm #Length of Longest plate\n",
      "P=3.5 #KN #central Load\n",
      "y_c=1.8 #cm #central deflection\n",
      "sigma=190 #MPa #allowable bending stress\n",
      "#b=12*t\n",
      "E=200 #GPa #Modulus of Elasticity\n",
      "\n",
      "#Calculation\n",
      "\n",
      "y_c=3*P*L**3*(8*n*E*b*t**3)**-1 #Deflection (#Equation 1)\n",
      "sigma=3*P*L*(2*n*b*t**2)**-1 #stress\n",
      "#Dividing Equation 1 by Equation 2 we get\n",
      "#y_c*sigma**-1=L**2*(4*E*t)**-1\n",
      "#After substituting values in above equation and further simplifying we get\n",
      "t=190*10**6*0.7**2*(1.8*10**-2*4*200*10**9)**-1*10**3 #thickness of plate\n",
      "b=12*t #Width of plates\n",
      "\n",
      "#sigma=3*2**-1*P*L*(n*b*t**2)**-1 #stress\n",
      "#After substituting values in above equation and further simplifying we get\n",
      "n=3*3.5*10**3*0.7*(2*190*10**6*0.077583*(6.465*10**-3)**2)**-1\n",
      "\n",
      "#Now sigma*y**-1=E*R**-1 \n",
      "#simplifying above equationwe get\n",
      "R=200*10**9*6.465*10**-3*(2*190*10**6)**-1 #Radius of Curvature\n",
      "a=L*10**-2*(2*n)**-1*10**3 #Overlap\n",
      "\n",
      "#Result\n",
      "print\"size of the plate is:\",round(b,2),\"mm\"\n",
      "print\"                    :\",round(t,2),\"mm\"\n",
      "print\"Overlap of plates is\",round(a,2),\"mm\"\n",
      "print\"Number of plates is\",round(n,2)\n",
      "print\"The Radius of curvature is\",round(R,3),\"m\""
     ],
     "language": "python",
     "metadata": {},
     "outputs": [
      {
       "output_type": "stream",
       "stream": "stdout",
       "text": [
        "size of the plate is: 77.58 mm\n",
        "                    : 6.47 mm\n",
        "Overlap of plates is 58.68 mm\n",
        "Number of plates is 5.96\n",
        "The Radius of curvature is 3.403 m\n"
       ]
      }
     ],
     "prompt_number": 39
    },
    {
     "cell_type": "heading",
     "level": 2,
     "metadata": {},
     "source": [
      "Problem 8.15,Page no.216"
     ]
    },
    {
     "cell_type": "code",
     "collapsed": false,
     "input": [
      "import math\n",
      "\n",
      "#Initilization of variables\n",
      "\n",
      "alpha=30 #degree #helix angle\n",
      "dell=2.3*10**-2 #m #Vertical displacement\n",
      "W=40 #N #Axial Load\n",
      "d=6*10**-3 #steel rod diameter\n",
      "E=200*10**9 #Pa \n",
      "G=80*10**9 #Pa \n",
      "\n",
      "#Calculations\n",
      "\n",
      "#from equation of deflection of the spring under the Load we get\n",
      "#R**3*n=8.49*10**-4 \n",
      "\n",
      "#Let R**3*n=X\n",
      "X=8.49*10**-4  #Equation 1\n",
      "\n",
      "#from equation of angular rotation\n",
      "#R**2*n=8.1*10**-3\n",
      "\n",
      "#Let R**2*n=Y\n",
      "Y=8.1*10**-3   #Equation 2\n",
      "\n",
      "#After dividing equation 1 by equation 2 we get R \n",
      "#Let Z=R\n",
      "\n",
      "Z=X*Y**-1\n",
      "R=Z*10**2 #cm #Mean Radius\n",
      "\n",
      "#Result\n",
      "print\"Mean Radius of Open coiled spring of helix angle is\",round(R,2),\"cm\""
     ],
     "language": "python",
     "metadata": {},
     "outputs": [
      {
       "output_type": "stream",
       "stream": "stdout",
       "text": [
        "Mean Radius of Open coiled spring of helix angle is 10.48 cm\n"
       ]
      }
     ],
     "prompt_number": 4
    },
    {
     "cell_type": "heading",
     "level": 2,
     "metadata": {},
     "source": [
      "Problem 8.16,Page no.217"
     ]
    },
    {
     "cell_type": "code",
     "collapsed": false,
     "input": [
      "import math\n",
      "\n",
      "#Initilization of variables\n",
      "\n",
      "n=10 #Number of coils\n",
      "sigma=100 #MPa #Bending stress\n",
      "sigma_s=110 #MPa #Twisting stress\n",
      "#D=8*d\n",
      "dell=1.8 #cm #Max extension of of wire\n",
      "E=200 #GPa #Modulus of Elasticity\n",
      "G=80 #GPa #Modulus od Rigidity\n",
      "\n",
      "#Calculation\n",
      "\n",
      "#M=W*R*sin_alpha=pi*d**3*sigma_1*32**-1 #(Equation 1) #Bending moment\n",
      "#As D=8*d \n",
      "#then R=D*2**-1\n",
      "#Therefore, R=4*d\n",
      "\n",
      "#Now substituting values in equation 1 we get\n",
      "#W*sin_alpha=2454369.3*d**2  (Equation 2)\n",
      "\n",
      "#T=W*R*cos_alpha=pi*d**3*sigma_s #Torque  (Equation 3)  \n",
      "#Now substituting values in equation 3 we get\n",
      "#W*cos_alpha=5399612.4*d**2    (Equation 4)\n",
      "\n",
      "#Dividing Equation 2 by Equation 4 we get,\n",
      "#tan_alpha=0.4545\n",
      "alpha=arctan(0.4545)*180*pi**-1\n",
      "\n",
      "#From Equation 2 we get\n",
      "#W=2454369.3*d**2*(sin24.443)**-1\n",
      "#W=5931241.1*d**2   (Equation 5)\n",
      "\n",
      "#dell=64*W*R**3*n*sec_alpha*(d**4)**-1*((cos_alpha)**2*G**-1+2*sin_alpha**2*E**-1)\n",
      "#Now substituting values in above equation  we get\n",
      "#W=33140.016*d  (Equation 6)\n",
      "\n",
      "#From Equation 5 and Equation 6 we get\n",
      "#5931241.1*d**2=33140.016*d\n",
      "#After simplifying above equation we get\n",
      "d=33140.016*5931241.1**-1 #m #Diameter of wire\n",
      "W=33140.016*d #N #MAx Permissible Load\n",
      "\n",
      "#Result\n",
      "print\"The Max Permissible Load is\",round(W,2),\"N\"\n",
      "print\"Thw Wire Diameter is\",round(d,6),\"m\""
     ],
     "language": "python",
     "metadata": {},
     "outputs": [
      {
       "output_type": "stream",
       "stream": "stdout",
       "text": [
        "The Max Permissible Load is 185.17 N\n",
        "Thw Wire Diameter is 0.005587 m\n"
       ]
      }
     ],
     "prompt_number": 1
    },
    {
     "cell_type": "heading",
     "level": 2,
     "metadata": {},
     "source": [
      "Problem 8.18,Page no.218"
     ]
    },
    {
     "cell_type": "code",
     "collapsed": false,
     "input": [
      "import math\n",
      "\n",
      "#Initilization of variables\n",
      "\n",
      "#Calculation\n",
      "\n",
      "n=10 #number of coils\n",
      "d=2*10**-2 #m #Diameter of wire\n",
      "D=12*10**-2 #m #Diameter of coiled spring\n",
      "R=0.06 #m #Radius of coiled spring\n",
      "dell=0.5*10**-2 #Deflection\n",
      "E=200*10**9 #Pa \n",
      "G=80*10**9 #Pa \n",
      "alpha=30 #degree\n",
      "\n",
      "#Calculations\n",
      "\n",
      "#beta=64*W*R**2*n*sinalpha*(d**4)**-1*(1*G**-1-2*E**-1)+64*T*R*n*secalpha*(d**4)**-1*(sin**2alpha*G**-1+2*cos**2alpha*E**-1)=0\n",
      "#From above equation anf simplifying we get\n",
      "\n",
      "#T=-6.11*10**-3*W\n",
      "\n",
      "#dell=64*W*R**3*n*sec(alpha)*(d**4)**-1*[(cos(alpha))**2*G**-1+2*(sin(alpha))**2*E**-1]+64*T*R**2*n*sin(alpha)*(d**4)**-1*[1*G**-1+2*E**-1]\n",
      "\n",
      "#After substituting Values and further simplifying we get\n",
      "#1.1847*10**-5*W+1.62*10**-4*T=0.005\n",
      "\n",
      "#Now substituting value of T in above equation we get\n",
      "#1.1847*10**-5*W-9.8982*10**-7*W=0.005\n",
      "W=0.005*(1.1847*10**-5-9.8982*10**-7)**-1 #N\n",
      "T=-6.11*10**-3*W #N*m\n",
      "\n",
      "#Result\n",
      "print\"The axial Load is\",round(W,2),\"N\"\n",
      "print\"Necesscary torque is\",round(T,2),\"N*m\""
     ],
     "language": "python",
     "metadata": {},
     "outputs": [
      {
       "output_type": "stream",
       "stream": "stdout",
       "text": [
        "The axial Load is 460.52 N\n",
        "Necesscary torque is -2.81 N*m\n"
       ]
      }
     ],
     "prompt_number": 22
    },
    {
     "cell_type": "heading",
     "level": 2,
     "metadata": {},
     "source": [
      "Problem 8.19,Page no.219"
     ]
    },
    {
     "cell_type": "code",
     "collapsed": false,
     "input": [
      "import math\n",
      "\n",
      "#Initilization of variables\n",
      "\n",
      "d=6 #mm #Diameter of steel wire\n",
      "n=1 #number of turns\n",
      "D=6.5 #cm #Mean of diameter\n",
      "G=80 #GPa #modulus of rigidity\n",
      "P_1=150 #Load\n",
      "p=1.5 #cm #Pitch of coil\n",
      "\n",
      "#Calculation \n",
      "\n",
      "R=D*2**-1\n",
      "#For one turn deflection is\n",
      "dell=p-d*10**-1 #cm \n",
      "\n",
      "#dell=64*P*R**3*n*(G*d**4)**-1 \n",
      "#Now, after simplifying further we get,\n",
      "P=dell*10**-2*G*10**9*(d*10**-3)**4*(64*(R*10**-2)**3*n)**-1 #N #Axial Load\n",
      "\n",
      "dell_2=dell*8 #cm #Total Displacement #Notification has been changed\n",
      "U=P*dell_2*10**-2*2**-1 #N-m #Strain Energy\n",
      "\n",
      "#Potential Energy given by 150N Load is\n",
      "#U=150*(h+0.072)\n",
      "\n",
      "#After simplifying above equation we get\n",
      "h=(U*P_1**-1-0.072)*10**2 #cm #Height from which 150 N load falls\n",
      "\n",
      "#Result\n",
      "print\"Axial Load is\",round(P,2),\"N\"\n",
      "print\"Height from which 150 N load falls is\",round(h,2),\"cm\" "
     ],
     "language": "python",
     "metadata": {},
     "outputs": [
      {
       "output_type": "stream",
       "stream": "stdout",
       "text": [
        "Axial Load is 424.72 N\n",
        "Height from which 150 N load falls is 2.99 cm\n"
       ]
      }
     ],
     "prompt_number": 25
    },
    {
     "cell_type": "heading",
     "level": 2,
     "metadata": {},
     "source": [
      "Problem 8.20,Page no.219"
     ]
    },
    {
     "cell_type": "code",
     "collapsed": false,
     "input": [
      "import math\n",
      "\n",
      "#Initilization of variables\n",
      "\n",
      "alpha=30 #degree \n",
      "E=200*10**9 #Pa\n",
      "G=80*10**9 #pa \n",
      "\n",
      "#Calculations\n",
      "\n",
      "#For alpha=30 #Degree\n",
      "#dell=64*W*R**3*n*sec(alpha)*(d**4)**-1*(cos(alpha)**2*G**-1+2*sin(alpha)**2*E**-1)\n",
      "#Now substituting values in above equation we get\n",
      "\n",
      "#dell_1=64*W*R**3*n*(d**4)**-1*1330*(10**9)**-1  (equation 1)\n",
      "\n",
      "#For alpha=0 #Degree\n",
      "#dell=64*W*R**3*n*sec(alpha)*(d**4)**-1*(cos(alpha)**2*G**-1+2*sin(alpha)**2*E**-1)\n",
      "#Now substituting values in above equation we get\n",
      "\n",
      "#dell_2=64*W*R**3*n*(d**4)**-1*1250*(10**9)**-1  (equation 2)\n",
      "\n",
      "#subtracting equation 1 and equation 2 we get\n",
      "#Let dell_1-dell_2=X\n",
      "#X=64*W*R**3*n*(d**4)**-1*80*(10**9)\n",
      "\n",
      "#Let Y=X*dell_1**-1*100\n",
      "Y=80*1330**-1*100 #% under estimation of axial extension\n",
      "\n",
      "#Result\n",
      "print\"% under estimation of axial extension is\",round(Y,2)"
     ],
     "language": "python",
     "metadata": {},
     "outputs": [
      {
       "output_type": "stream",
       "stream": "stdout",
       "text": [
        "% under estimation of axial extension is 6.02\n"
       ]
      }
     ],
     "prompt_number": 12
    }
   ],
   "metadata": {}
  }
 ]
}