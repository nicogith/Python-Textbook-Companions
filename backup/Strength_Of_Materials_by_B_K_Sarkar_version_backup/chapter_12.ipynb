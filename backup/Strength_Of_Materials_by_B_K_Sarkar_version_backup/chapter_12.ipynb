{
 "metadata": {
  "name": "chapter 12 som.ipynb"
 },
 "nbformat": 3,
 "nbformat_minor": 0,
 "worksheets": [
  {
   "cells": [
    {
     "cell_type": "heading",
     "level": 1,
     "metadata": {},
     "source": [
      "Chapter 12:Propped Cantilever"
     ]
    },
    {
     "cell_type": "heading",
     "level": 2,
     "metadata": {},
     "source": [
      "Problem no 12.1,Page No.286"
     ]
    },
    {
     "cell_type": "code",
     "collapsed": false,
     "input": [
      "import math\n",
      "\n",
      "#Initilization of variables\n",
      "\n",
      "L=6 #m #Length of Beam\n",
      "L_1=4 #m #Length of Beam with udl Load\n",
      "w=10 #KN/m #u.d.l\n",
      "\n",
      "#Calculation\n",
      "\n",
      "#Deflection of cantileverat C due to udl on AB\n",
      "y_c=w*L_1**4*8**-1+w*L_1**3*6**-1*(L-L_1) \n",
      "\n",
      "#Deflection of cantileverat C due to prop reaction alone\n",
      "#y_c_2=R_c*L**3*3**-1\n",
      "\n",
      "#Since both Deflection are Equal\n",
      "#y_c=y_c_2\n",
      "\n",
      "R_c=y_c*(6**3)**-1*3 #Reaction at C\n",
      "\n",
      "#Result\n",
      "print\"The Reaction at End C is\",round(R_c,3),\"KN\""
     ],
     "language": "python",
     "metadata": {},
     "outputs": [
      {
       "output_type": "stream",
       "stream": "stdout",
       "text": [
        "The Reaction at End C is 7.407 KN\n"
       ]
      }
     ],
     "prompt_number": 8
    },
    {
     "cell_type": "heading",
     "level": 2,
     "metadata": {},
     "source": [
      "Problem no 12.2,Page No.286"
     ]
    },
    {
     "cell_type": "code",
     "collapsed": false,
     "input": [
      "import math\n",
      "\n",
      "#Initilization of variables\n",
      "\n",
      "L=10 #m #Length\n",
      "b=15 #cm #Width\n",
      "d=40 #cm #Depth\n",
      "y_c=1.5*10**-2 #m #Deflection\n",
      "E=120*10**9 \n",
      "y=0.2\n",
      "sigma=10*10**6 #Bending stress\n",
      "\n",
      "#Calculations\n",
      "\n",
      "I=b*d**3*12**-1*10**-8 #cm  #M.I\n",
      "\n",
      "#From Deflection at the centre of cantilever we get\n",
      "w=y_c*192*E*I*(L**4)**-1*10**-3 #udl distributed over the cantilever\n",
      "\n",
      "#From Bending Moment Equation we get\n",
      "w_2=sigma*I*y**-1*16*(L**2)**-1*10**-3    #udl distributed over the cantilever\n",
      "\n",
      "#Result\n",
      "print\"The safe uniformly Distributed Load is\",round(w_2,2),\"KN/m\""
     ],
     "language": "python",
     "metadata": {},
     "outputs": [
      {
       "output_type": "stream",
       "stream": "stdout",
       "text": [
        "The safe uniformly Distributed Load is 6.4 KN/m\n"
       ]
      }
     ],
     "prompt_number": 23
    },
    {
     "cell_type": "heading",
     "level": 2,
     "metadata": {},
     "source": [
      "Problem no 12.3,Page No.287"
     ]
    },
    {
     "cell_type": "code",
     "collapsed": false,
     "input": [
      "import math\n",
      "\n",
      "#Initilization of variables\n",
      "\n",
      "L=6 #m #span of beam\n",
      "w=30*10**3 #KN/m #u.d.l\n",
      "P=160*10**3 #N #concentrated Load\n",
      "\n",
      "#Calculations\n",
      "\n",
      "#Consider a section at a distance x from the fixed end A and B.M at x\n",
      "#M_x=R_b*(6-x)-30*2**-1*(6-x)**2-160*(3-x)\n",
      "\n",
      "#E*I*d**2y*(dx**2)**-1=-M_x=-R_b*(6-x)+15*(6-x)+160*(3-x)\n",
      "\n",
      "#Now Integrating above term we get\n",
      "#E*I*dy*(dx)**-1=R_b*2**-1*(6-x)**2-5*(6-x)**3-80*(3-x)**2+C_1  (Equation 1)\n",
      "\n",
      "#Now on Integrating we get\n",
      "#E*I*y=-R_b*6**-1*(6-x)**3+5*4**-1*(6-x)**2+80*3**-1*(3-x)**3+C_1*x+C_2  (Equation 2)\n",
      "\n",
      "#At x=0,dy*dx**-1=0\n",
      "#substituting in equation 1 we get\n",
      "#C_1=1800-R_b\n",
      "\n",
      "#At x=0,y=0\n",
      "#substituting in equation 2 we get\n",
      "#C_2=36*R_b-2340\n",
      "\n",
      "#At x=6,y=0\n",
      "R_b=72**-1*(10800-2340)\n",
      "\n",
      "#At x=0\n",
      "x=0\n",
      "M_x=R_b*(6-x)-30*2**-1*(6-x)**2-160*(3-x)\n",
      "\n",
      "#Result\n",
      "print\"Bending Moment at A is\",round(M_x,2),\"KNm\"\n",
      "print\"The Reaction at B\",round(R_b,2),\"KN\""
     ],
     "language": "python",
     "metadata": {},
     "outputs": [
      {
       "output_type": "stream",
       "stream": "stdout",
       "text": [
        "Bending Moment at A is -315.0 KNm\n",
        "The Reaction at B 117.5 KN\n"
       ]
      }
     ],
     "prompt_number": 5
    },
    {
     "cell_type": "heading",
     "level": 2,
     "metadata": {},
     "source": [
      "Problem no 12.4,Page No.288"
     ]
    },
    {
     "cell_type": "code",
     "collapsed": false,
     "input": [
      "import math\n",
      "\n",
      "#Initilization of variables\n",
      "\n",
      "L=4 #span of beam\n",
      "w_1=20*10**3 #Nm #u.d.l\n",
      "w_2=30*10**3 #Nm #u.d.l\n",
      "\n",
      "#Calculations\n",
      "\n",
      "#consider a section at a distance x from A and B.M at this section is \n",
      "#M_x=R_b*(3-x)-10*x**2+90*x-195\n",
      "\n",
      "#Now integrating above equation we get\n",
      "#E*I*dy*(dx)**-1=-R_b(3*x-x**2*2**-1)+10*x**3*3**-1-45*x**2+195*x+C_1\n",
      "\n",
      "#again on Integrating we get\n",
      "#E*I*y=-R_b*(3*x**2*2**-1-x**3*6**-1)+10*x**4*12**-1-15*x**3+195*x**2*2**-1+C_1*x+C_2\n",
      "\n",
      "#At x=0,dy*(dx)**-1=0  Therefore C_1=0\n",
      "\n",
      "#At x=0,y=0  Therefore C_2=0\n",
      "\n",
      "#At x=3m, y=0\n",
      "x=3\n",
      "C_1=0\n",
      "C_2=0\n",
      "R_b=-(-10*x**4*12**-1+15*x**3-195*x**2*2**-1-C_1*x-C_2)*(3*x**2*2**-1-x**3*6**-1)**-1\n",
      "\n",
      "#result\n",
      "print\"Load taken by prop is\",round(R_b,2),\"KN\""
     ],
     "language": "python",
     "metadata": {},
     "outputs": [
      {
       "output_type": "stream",
       "stream": "stdout",
       "text": [
        "Load taken by prop is 60.0 KN\n"
       ]
      }
     ],
     "prompt_number": 3
    },
    {
     "cell_type": "heading",
     "level": 2,
     "metadata": {},
     "source": [
      "Problem no 12.5,Page No.289"
     ]
    },
    {
     "cell_type": "code",
     "collapsed": false,
     "input": [
      "import math\n",
      "\n",
      "#Initilization of variables\n",
      "\n",
      "L=2 #m #Span of beam\n",
      "w=10 #KN/m #u.d.l\n",
      "\n",
      "#Calculations\n",
      "\n",
      "#Downward deflection at B(of Beam AB) due to u.d.l of 10 KN/m is\n",
      "Y_B_1=w*L**4*8**-1 \n",
      "\n",
      "#Upward deflection at B due to reaction at C alone is\n",
      "#Y_B_2=R_c*8*3**-1\n",
      "\n",
      "#Net downward deflection of cantilever at AB at B\n",
      "#Y_B=Y_B_1-Y_B_2\n",
      "\n",
      "#Downward Deflection of Beam CD at C due to the reaction\n",
      "#R_c=R_c*(3*E*I)**-1\n",
      "\n",
      "#since both deflection at C and B are equal\n",
      "R_c=20*(1*3**-1+8*3**-1)**-1\n",
      "\n",
      "#Result\n",
      "print\"Reaction at C is\",round(R_c,2),\"KN\""
     ],
     "language": "python",
     "metadata": {},
     "outputs": [
      {
       "output_type": "stream",
       "stream": "stdout",
       "text": [
        "Reaction at C is 6.67 KN\n"
       ]
      }
     ],
     "prompt_number": 7
    },
    {
     "cell_type": "heading",
     "level": 2,
     "metadata": {},
     "source": [
      "Problem no 12.8,Page No.292"
     ]
    },
    {
     "cell_type": "code",
     "collapsed": false,
     "input": [
      "import math\n",
      "%matplotlib  inline\n",
      "\n",
      "#Initilization of variables\n",
      "\n",
      "L=8 #m #span\n",
      "W=24*10**3 #N/m #U.D.L\n",
      "y=2*10**-2 #m #deflection\n",
      "E=20*10**9\n",
      "I=10**-5 #m**4\n",
      "\n",
      "#Calculations\n",
      "\n",
      "#The Downward deflection at C Due to u.d.l\n",
      "#Y_c=5*W*L**3*(384*E*I)**-1\n",
      "\n",
      "#The Upward Deflection at C due to prop Reaction P \n",
      "#Y_c_1=P*L**3*(48*E*I)**-1\n",
      "\n",
      "#Since the prop is at the same level as end supports\n",
      "#Y_c_1=Y_c\n",
      "P_1=5*W*8**-1*10**-3 #KN\n",
      "\n",
      "#The reaction at A and B is equal\n",
      "R_a=R_b=(24-15)*2**-1\n",
      "\n",
      "#Shear Force at B\n",
      "V_B=4.5 #KN\n",
      "\n",
      "#Shear Force at C\n",
      "V_C1=4.5-24*2**-1\n",
      "V_C2=4.5-24*2**-1+15\n",
      "\n",
      "#Shea rForce at A\n",
      "V_A=-4.5 #KN\n",
      "\n",
      "#B.M at C due to u.d.l\n",
      "M_C1=W*L*8**-1*10**-3 #KN*m\n",
      "\n",
      "#B.M due to only prop reaction P=15 KN\n",
      "P=15\n",
      "M_C2=-P*L*4**-1 #KN*m\n",
      "\n",
      "#B.M at D\n",
      "M_D=4.5*1.5-24*8**-1*1.5**2*2**-1\n",
      "\n",
      "#In second case prop sinks by 2 cm\n",
      "#Y_c-Y_c_1=2 \n",
      "\n",
      "#So Further simplifying and sunstituting values in above equation we get\n",
      "P=-(2*100**-1-(5*W*L**3*(384*E*I)**-1))*(L**3*(48*E*I)**-1)**-1\n",
      "\n",
      "#Let Each end reaction be X\n",
      "X=(24-14.625)*2**-1\n",
      "\n",
      "#Result\n",
      "print\"prop reaction is\",round(P_1,2),\"KN\"\n",
      "print\"The End Reaction is\",round(X,2),\"KN\"\n",
      "\n",
      "#Plotting the SHear Force Diagram\n",
      "\n",
      "X1=[0,4,4,8,8]\n",
      "Y1=[V_B,V_C1,V_C2,V_A,0]\n",
      "Z1=[0,0,0,0,0]\n",
      "plt.plot(X1,Y1,X1,Z1)\n",
      "plt.xlabel(\"Length x in m\")\n",
      "plt.ylabel(\"Shear Force in kN\")\n",
      "plt.show()\n",
      "\n",
      "#Plotting the Bendimg Moment Diagram\n",
      "\n",
      "X2=[0,4,4]\n",
      "Y2=[0,M_C1,0]\n",
      "Z2=[0,0,0]\n",
      "plt.plot(X2,Y2)\n",
      "plt.xlabel(\"Lenght in m\")\n",
      "plt.ylabel(\"Bending Moment in kN.m\")\n",
      "plt.show()"
     ],
     "language": "python",
     "metadata": {},
     "outputs": [
      {
       "output_type": "stream",
       "stream": "stdout",
       "text": [
        "prop reaction is 15.0 KN\n",
        "The End Reaction is 4.69 KN\n"
       ]
      },
      {
       "metadata": {},
       "output_type": "display_data",
       "png": "[encoded data removed]",
       "text": [
        "<matplotlib.figure.Figure at 0x56bdc90>"
       ]
      },
      {
       "metadata": {},
       "output_type": "display_data",
       "png": "[encoded data removed]",
       "text": [
        "<matplotlib.figure.Figure at 0x5651370>"
       ]
      }
     ],
     "prompt_number": 12
    },
    {
     "cell_type": "code",
     "collapsed": false,
     "input": [],
     "language": "python",
     "metadata": {},
     "outputs": []
    }
   ],
   "metadata": {}
  }
 ]
}