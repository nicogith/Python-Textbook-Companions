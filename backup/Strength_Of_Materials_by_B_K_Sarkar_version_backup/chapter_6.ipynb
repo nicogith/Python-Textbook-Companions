{
 "metadata": {
  "name": "chapter 6.ipynb"
 },
 "nbformat": 3,
 "nbformat_minor": 0,
 "worksheets": [
  {
   "cells": [
    {
     "cell_type": "heading",
     "level": 1,
     "metadata": {},
     "source": [
      "Chapter 6:Slope and Deflection"
     ]
    },
    {
     "cell_type": "heading",
     "level": 2,
     "metadata": {},
     "source": [
      "Problem no 6.1,Page No.154"
     ]
    },
    {
     "cell_type": "code",
     "collapsed": false,
     "input": [
      "import math\n",
      "\n",
      "#Initilization of variables\n",
      "\n",
      "b=0.12 #m #Width of beam\n",
      "d=0.2  #m #Depth of beam\n",
      "dell=0.005 #m #Deflection\n",
      "E=2*10**5*10**6 #N/m**2 \n",
      "L=2.5 #m #Length of beam\n",
      "\n",
      "#Calculations\n",
      "\n",
      "I=b*d**3*12**-1 #m**4 #M.I of rectangular section\n",
      "w=8*E*I*dell*(L**4)**-1 #N/m #U.d.l\n",
      "\n",
      "#Let slope at free end be theta\n",
      "theta=w*L**3*(6*E*I)**-1 #Radian \n",
      "\n",
      "W=dell*3*E*I*(L**3)**-1*10**-3 #kN #Concentrated Load \n",
      "\n",
      "theta_2=W*L**2*(2*E*I)**-1 #Slope at free end\n",
      "\n",
      "#Result\n",
      "print\"Uniformly distributed Load beam should carry is\",round(w,2),\"N/m\"\n",
      "print\"Concentrated Load at free end is\",round(W,2),\"KN\""
     ],
     "language": "python",
     "metadata": {},
     "outputs": [
      {
       "output_type": "stream",
       "stream": "stdout",
       "text": [
        "Uniformly distributed Load beam should carry is 16384.0 N/m\n",
        "Concentrated Load at free end is 15.36 KN\n"
       ]
      }
     ],
     "prompt_number": 73
    },
    {
     "cell_type": "heading",
     "level": 2,
     "metadata": {},
     "source": [
      "Problem no 6.2,Page No.155"
     ]
    },
    {
     "cell_type": "code",
     "collapsed": false,
     "input": [
      "import math\n",
      "\n",
      "#Initilization of variables\n",
      "\n",
      "L=6 #m #Length of beam\n",
      "y_b=1.5*10**-2 #m #Deflection\n",
      "E=2*10**7*10**4\n",
      "sigma=10*10**3*10**4\n",
      "#d=2*b\n",
      "\n",
      "#Calculations\n",
      "\n",
      "#Let w*I**-1=X    #From Deflection at the free end Equation \n",
      "X=y_b*8*E*(L**4)**-1*10**-3    #Equation 1\n",
      "\n",
      "#Let w*b*I**-1=Y     #From Max bending stress at the extreme fibre From N.A\n",
      "Y=sigma*2*(L**2)**-1           #Equation 2\n",
      "                                \n",
      "b=Y*X**-1  #width of beam #mm\n",
      "d=2*b      #depth of beam #mm\n",
      "                                \n",
      "#Result\n",
      "print\"The Dimension of Beam are:b\",round(b,2),\"mm (width)\"\n",
      "print\"                         :d\",round(d,2),\"mm (depth)\""
     ],
     "language": "python",
     "metadata": {},
     "outputs": [
      {
       "output_type": "stream",
       "stream": "stdout",
       "text": [
        "The Dimension of Beam are:b 300.0 mm (width)\n",
        "                         :d 600.0 mm (depth)\n"
       ]
      }
     ],
     "prompt_number": 25
    },
    {
     "cell_type": "heading",
     "level": 2,
     "metadata": {},
     "source": [
      "Problem no 6.3,Page No.156"
     ]
    },
    {
     "cell_type": "code",
     "collapsed": false,
     "input": [
      "import math\n",
      "\n",
      "#Initilization of variables\n",
      "\n",
      "L=3 #m #Length of beam\n",
      "L_1=1.2 #m #Distance from fixed end\n",
      "d=0.25 #m #Depth of beam\n",
      "w=15*10**3 #N #U.d.L\n",
      "W=40*10**3 #N #Point Load\n",
      "E=2*10*10**4 #N/m**2 \n",
      "I=13500*10**-4 #M.I\n",
      "\n",
      "#Calculations\n",
      "\n",
      "y_b=W*L_1**3*(3*E*I)**-1+W*L_1**2*(2*E*I)**-1*(L-L_1)+w*L**4*(8*E*I)**-1 #Deflection at free end\n",
      "\n",
      "M=W*L_1+w*L*L*2**-1 #Max Bending moment at the fixed end A #Nm\n",
      "y=d*2**-1\n",
      "sigma_max=M*y*I**-1  #N/cm**2 #Max Bending stress at extreme fibre \n",
      "\n",
      "#Result\n",
      "print\"Deflection at the free end is\",round(y_b,4),\"cm\"\n",
      "print\"Max stress due to bending is\",round(sigma_max,2),\"N/cm**2\""
     ],
     "language": "python",
     "metadata": {},
     "outputs": [
      {
       "output_type": "stream",
       "stream": "stdout",
       "text": [
        "Deflection at the free end is 0.8398 cm\n",
        "Max stress due to bending is 10694.44 N/cm**2\n"
       ]
      }
     ],
     "prompt_number": 35
    },
    {
     "cell_type": "heading",
     "level": 2,
     "metadata": {},
     "source": [
      "Problem no 6.4,Page No.156"
     ]
    },
    {
     "cell_type": "code",
     "collapsed": false,
     "input": [
      "import math\n",
      "\n",
      "#Initilization of variables\n",
      "\n",
      "M=100*10**3 #N #Moment\n",
      "L=3 #m #Length\n",
      "d=0.15 #m #Width\n",
      "b=0.1 #m #width\n",
      "E=2.1*10**7*10**4 #N/cm**2 \n",
      "\n",
      "#Calculations\n",
      "\n",
      "I=b*d**3*12**-1 #cm**4 #M.I of beam section\n",
      "B_1=M*L*(E*I)**-1 #radian #Slope at B\n",
      "B_2=M*L**2*(2*E*I)**-1*10**2 #cm #Deflection at point B\n",
      "\n",
      "#Result\n",
      "print\"The slope at Point B is\",round(B_1,2),\"radian\"\n",
      "print\"The Deflection at point B is\",round(B_2,2),\"cm\""
     ],
     "language": "python",
     "metadata": {},
     "outputs": [
      {
       "output_type": "stream",
       "stream": "stdout",
       "text": [
        "The slope at Point B is 0.05 radian\n",
        "The Deflection at point B is 7.62 cm\n"
       ]
      }
     ],
     "prompt_number": 81
    },
    {
     "cell_type": "heading",
     "level": 2,
     "metadata": {},
     "source": [
      "Problem no 6.5,Page No.157"
     ]
    },
    {
     "cell_type": "code",
     "collapsed": false,
     "input": [
      "import math\n",
      "\n",
      "#Initilization of variables\n",
      "\n",
      "b=0.1 #m #width \n",
      "d=0.2 #m #depth\n",
      "L=2 #m #Length of beam\n",
      "L_1=1 #m #Length from free end\n",
      "E=210*10**9 \n",
      "W=1*10**3 #N #Concentrated Load\n",
      "w=2*10**3 #N/m\n",
      "\n",
      "#Calculations\n",
      "\n",
      "I=b*d**3*12**-1 #m**4 #M.I of the beam section\n",
      "\n",
      "#Slope at free end\n",
      "theta=W*L**2*(2*E*I)**-1+w*L**3*(6*E*I)**-1-w*(L-L_1)**3*(6*E*I)**-1 \n",
      "\n",
      "#Deflection at free end\n",
      "y_b=(W*L**3*(3*E*I)**-1+w*L**4*(8*E*I)**-1-w*(L-L_1)**4*(8*E*I)**-1-w*(L-L_1)**3*L_1*(6*E*I)**-1)*10**3 \n",
      "\n",
      "#Result\n",
      "print\"Slope at free end is\",round(theta,5),\"radian\"\n",
      "print\"Deflection at free end is\",round(y_b,2),\"mm\""
     ],
     "language": "python",
     "metadata": {},
     "outputs": [
      {
       "output_type": "stream",
       "stream": "stdout",
       "text": [
        "Slope at free end is 0.00031 radian\n",
        "Deflection at free end is 0.43 mm\n"
       ]
      }
     ],
     "prompt_number": 59
    },
    {
     "cell_type": "heading",
     "level": 2,
     "metadata": {},
     "source": [
      "Problem no 6.6,Page No.158"
     ]
    },
    {
     "cell_type": "code",
     "collapsed": false,
     "input": [
      "import math\n",
      "\n",
      "#Initilization of variables\n",
      "\n",
      "L=10 #m #span of beam\n",
      "W=10*10**3 #N #Point Load\n",
      "a=6 #m #Distance from left end of beam to point Load\n",
      "b=4 #m ##Distance from right end of beam to point Load\n",
      "E=210*10**9 \n",
      "I=10**-4 #m #M.I of beam\n",
      "\n",
      "#Calculation \n",
      "\n",
      "#slope at left end is given by\n",
      "theta_A=W*b*(L**2-b**2)*(6*E*I*L)**-1 #radian\n",
      "\n",
      "#Deflection under Load is\n",
      "y_c=W*a*b*(L**2-a**2-b**2)*(6*E*I*L)**-1*10**3 #m\n",
      "\n",
      "#Maximum Deflection of the beam is\n",
      "y_max=W*a*(L**2-a**2)**1.5*(15.588457*E*I*L)**-1*10**3 #m\n",
      "\n",
      "#Result\n",
      "print\"slope at left end is\",round(theta_A,5),\"radian\"\n",
      "print\"Deflection under Load is\",round(y_c,2),\"m\"\n",
      "print\"#Maximum Deflection of the beam is\",round(y_max,2),\"m\""
     ],
     "language": "python",
     "metadata": {},
     "outputs": [
      {
       "output_type": "stream",
       "stream": "stdout",
       "text": [
        "slope at left end is 0.00267 radian\n",
        "Deflection under Load is 9.14 m\n",
        "#Maximum Deflection of the beam is 9.38 m\n"
       ]
      }
     ],
     "prompt_number": 72
    },
    {
     "cell_type": "heading",
     "level": 2,
     "metadata": {},
     "source": [
      "Problem no 6.7,Page No.158"
     ]
    },
    {
     "cell_type": "code",
     "collapsed": false,
     "input": [
      "import math\n",
      "\n",
      "#Initilization of variables\n",
      "\n",
      "L=5 #m #Length of beam\n",
      "w=40*10**3 #N #U.d.L \n",
      "y_max=0.01 #Deflection\n",
      "sigma_s=7*10**6 #Bending stress\n",
      "E=10.5*10**9\n",
      "\n",
      "#Calculation\n",
      "\n",
      "M=w*L*8**-1 #N*m #Max Bending moment \n",
      "\n",
      "#From equation of max deflection\n",
      "I=5*w*L**3*(y_max*384*E)**-1 #m**4 \n",
      "\n",
      "d=sigma_s*2*I*M**-1*10**2 #cm\n",
      "b=12*I*((d*10**-2)**3)**-1*10**2 #cm #Breadth\n",
      "\n",
      "#Result\n",
      "print\"Minimum value of breadth is\",round(b,2),\"cm\"\n",
      "print\"Minimum value of Depth is\",round(d,2),\"cm\""
     ],
     "language": "python",
     "metadata": {},
     "outputs": [
      {
       "output_type": "stream",
       "stream": "stdout",
       "text": [
        "Minimum value of breadth is 17.77 cm\n",
        "Minimum value of Depth is 34.72 cm\n"
       ]
      }
     ],
     "prompt_number": 94
    },
    {
     "cell_type": "heading",
     "level": 2,
     "metadata": {},
     "source": [
      "Problem no 6.8,Page No.159"
     ]
    },
    {
     "cell_type": "code",
     "collapsed": false,
     "input": [
      "import math\n",
      "\n",
      "#Initilization of variables\n",
      "\n",
      "L=6 #m #Length of beam\n",
      "d=0.15 #m #diameter\n",
      "y_max=1.035*10**-2 #m #Deflection\n",
      "E=210*10**9 \n",
      "\n",
      "#Calculations\n",
      "\n",
      "I=pi*64**-1*d**4 #M.I of Beam\n",
      "W=y_max*48*E*(L**3)**-1 #Point Load\n",
      "theta_A=3*y_max*L**-1\n",
      "theta_B=-theta_A\n",
      "\n",
      "#Result\n",
      "print\"The Heaviest central Point Load placed is\",round(W,2),\"N\"\n",
      "print\"Slope at supports are:theta_A\",round(theta_A,5),\"radian\"\n",
      "print\"                     :theta_B\",round(theta_B,5),\"radian\""
     ],
     "language": "python",
     "metadata": {},
     "outputs": [
      {
       "output_type": "stream",
       "stream": "stdout",
       "text": [
        "The Heaviest central Point Load placed is 483000000.0 N\n",
        "Slope at supports are:theta_A 0.00517 radian\n",
        "                     :theta_B -0.00517 radian\n"
       ]
      }
     ],
     "prompt_number": 103
    },
    {
     "cell_type": "heading",
     "level": 2,
     "metadata": {},
     "source": [
      "Problem no 6.9,Page No.160"
     ]
    },
    {
     "cell_type": "code",
     "collapsed": false,
     "input": [
      "import math\n",
      "\n",
      "#Initilization of variables\n",
      "\n",
      "L=14 #m #Lenth of steel girder\n",
      "E=210*10**9 #modulus of Elasticity of steel\n",
      "I=16*10**4*10**-8 #M.I of girder section\n",
      "\n",
      "#Calculations\n",
      "\n",
      "#R_a+R_b=200  #R_a & R_b are the Reactions at supports A & B respectively\n",
      "\n",
      "#After taking moment at B We get\n",
      "R_a=(120*11+80*4.5)*14**-1 #KN\n",
      "R_b=200-R_a\n",
      "\n",
      "#After considering section at X-X at a distance x from left end A and taking B.M at X-X\n",
      "#M=120*x-120(x-3)-80*(x-9.5)\n",
      "\n",
      "#After Integrating twice we get\n",
      "#EI*dy*dx**-1=-60*x**2*+60(x-3)**2+40(x-9.5)**2+C_1 #slope \n",
      "\n",
      "#Again on Integrating we get\n",
      "#EI*y=-20*x**3+20(x-3)**3+40*3**-1*(x-9.5)**3+C_1*x+C_2 #Deflection\n",
      "\n",
      "#At A deflection is zero,i.e at x=0,y=0 \n",
      "#At B deflection is zero,i.e at x=14,y=0 So C_2=0\n",
      "\n",
      "C_1=-(-20*(14)**3+20*(11)**3+40*3**-1*(14-9.5)**3)*14**-1 #constant \n",
      "\n",
      "#Now Deflection at D i.e at x=3 m\n",
      "x=3\n",
      "y_D=1*(E*I)**-1*(-20*x**3+20*(x-3)**3+C_1*x)*10**3\n",
      "\n",
      "#Now Deflection at D i.e at x=9.5 m\n",
      "x=9.5\n",
      "y_C=1*(E*I)**-1*(-20*x**3+20*(x-3)**3+40*3**-1*(x-9.5)**3+C_1*x)*10**3\n",
      "\n",
      "#Result\n",
      "print\"Deflection under points of two Loads are i.e: at pt D\",round(y_D,4),\"m\"\n",
      "print\"                                            : at pt C\",round(y_C,4),\"m\""
     ],
     "language": "python",
     "metadata": {},
     "outputs": [
      {
       "output_type": "stream",
       "stream": "stdout",
       "text": [
        "Deflection under points of two Loads are i.e: at pt D 0.0156 m\n",
        "                                            : at pt C 0.0199 m\n"
       ]
      }
     ],
     "prompt_number": 17
    },
    {
     "cell_type": "heading",
     "level": 2,
     "metadata": {},
     "source": [
      "Problem no 6.10,Page No.161"
     ]
    },
    {
     "cell_type": "code",
     "collapsed": false,
     "input": [
      "import math\n",
      "\n",
      "#Initilization of variables\n",
      "\n",
      "E=200*10**9 #Pa \n",
      "I=20000*10**-8 #m**4\n",
      "\n",
      "#Calculations\n",
      "\n",
      "#Now Taking moment at B\n",
      "R_a=(1000*3*4.5+1000*2)*6**-1 #Reaction Force at pt A\n",
      "\n",
      "#On part BC u.d.l of 1KN/m is introduced both above and below \n",
      "#consider section at distance x i.e X-X and considering moment at section X-X\n",
      "\n",
      "#M=15500*x*6**-1-1000*x**2*2**-1-1000(x-4)+1000*2**-1*(x-3)**2\n",
      "#EI*d**2y*d**x=-M=15500*x*6**-1-1000*x**2*2**-1-1000(x-4)+1000*2**-1*(x-3)**2\n",
      "\n",
      "#Now Integrating above Equation we get Equation of slope\n",
      "#EI*dy*dx**-1=-15500*x**2*12**-1+1000*x**3*6**-1+1000*(x-4)**2*2**-1+1000*6**-1*(x-3)**3+C_1\n",
      "\n",
      "#Now Integrating above Equation we get Equation of Deflection\n",
      "#EI*y=-15500*x**3*36**-1+1000*x**4*24**-1+1000*(x-4)**3*6**-1+1000*24**-1*(x-3)**3+C_1*x+C_2\n",
      "\n",
      "#At x=0,deflection is zero,i.e y=0  C_2=0\n",
      "#At x=6,deflection is zero,i.e y=0  \n",
      "x=6\n",
      "C_1=-(-15500*x**3*36**-1+1000*x**4*24**-1+1000*(x-4)**3*6**-1+1000*(x-3)**4*24**-1)*x**-1 #Constant\n",
      "\n",
      "#Answer for constant C_1 is incorrect in Book\n",
      "\n",
      "#Now Deflection at C,put x=3 m\n",
      "x=3\n",
      "y_C=1*(E*I)**-1*(-15500*x**3*36**-1+1000*x**4*24**-1+1000*(x-4)**3*6**-1+1000*24**-1*(x-3)**3+C_1*x)*10**3\n",
      "\n",
      "#Now Deflection at D,put x=4 m\n",
      "x=4\n",
      "y_D=1*(E*I)**-1*(-15500*x**3*36**-1+1000*x**4*24**-1+1000*(x-4)**3*6**-1+1000*24**-1*(x-3)**3+C_1*x)*10**3\n",
      "\n",
      "#Answers for y_C & y_D are incorrect in book\n",
      "\n",
      "#Result\n",
      "print\"Deflection at pt C is\",round(y_C,2),\"mm\"\n",
      "print\"Deflection at pt D is\",round(y_D,2),\"mm\""
     ],
     "language": "python",
     "metadata": {},
     "outputs": [
      {
       "output_type": "stream",
       "stream": "stdout",
       "text": [
        "Deflection at pt C is 0.22 mm\n",
        "Deflection at pt D is 0.15 mm\n"
       ]
      }
     ],
     "prompt_number": 29
    },
    {
     "cell_type": "heading",
     "level": 2,
     "metadata": {},
     "source": [
      "Problem no 6.11,Page No.162"
     ]
    },
    {
     "cell_type": "code",
     "collapsed": false,
     "input": [
      "import math\n",
      "\n",
      "#Initilization of variables\n",
      "\n",
      "L=2.5 #m #Length of beam\n",
      "L_1=1.5 #m #Length from Fixed end\n",
      "W=50*10**3 #N #Load\n",
      "\n",
      "#Calculations\n",
      "\n",
      "#Case-1\n",
      "y=W*L**3*3**-1 #Deflection of the cantilever at free end\n",
      "\n",
      "#Case-2\n",
      "#Deflection of cantilever at free end is\n",
      "#y_1=W_1*L**3*3**-1+W_1*L_1**3*3**-1+W_1*L_1**3*3**-1*(L-L_1)\n",
      "#After substituting values in above equation and simplifying further we get\n",
      "\n",
      "#y_1=22.375*W_1*3**-1\n",
      "\n",
      "W_1=y*3*22.375**-1*10**-3 #Magnitude of equal Loads\n",
      "M_1=W*L*10**-3\n",
      "M_2=W_1*L+W_1*L_1\n",
      "\n",
      "#Let M_1=sigma_1*z  and M_2=sigma_2*z\n",
      "#Dividing above two equations we get\n",
      "\n",
      "#Let X=sigma_1*sigma_2**-1\n",
      "X=M_2*M_1**-1*100\n",
      "\n",
      "#Result\n",
      "print\"Magnitude of equal Loads is\",round(W_1,2),\"KN\"\n",
      "print\"Max Bending stress is\",round(X,2),\"%\""
     ],
     "language": "python",
     "metadata": {},
     "outputs": [
      {
       "output_type": "stream",
       "stream": "stdout",
       "text": [
        "Magnitude of equal Loads is 34.92 N\n",
        "Max Bending stress is 111.73 %\n"
       ]
      }
     ],
     "prompt_number": 113
    },
    {
     "cell_type": "heading",
     "level": 2,
     "metadata": {},
     "source": [
      "Problem no 6.12,Page No.163"
     ]
    },
    {
     "cell_type": "code",
     "collapsed": false,
     "input": [
      "import math\n",
      "\n",
      "#Initilization of variables\n",
      "\n",
      "L=4 #m #Length of Beam\n",
      "\n",
      "#calculations\n",
      "\n",
      "#Consider a section at distance x from A and B.M at this section is\n",
      "#M=P*(3-x)-10*x**2+90*x-195 \n",
      "\n",
      "#Now #EI*d**2*y*d**2*x=-P*(3-x)+10*x**2-90*x+195\n",
      "\n",
      "#On Integrating above equation we get \n",
      "#E*I*dy*dx**-1=-P*(3*x-x**2*2**-1)+10*x**3*2**-1-45*x**2+195*x+C_1\n",
      "\n",
      "#Again On Integrating above equation we get \n",
      "#E*I*y=-P*(3*x**2*2**-1-x**3*6**-1)+10*x**4*12**-1-15*x**3+195*x**2*2**-1+C_1*x+C_2\n",
      "\n",
      "#But at x=0,dy*dx**-1=0 we get ,C_1=0\n",
      "#        x=0,y=0     we get    ,C_2=0\n",
      "#At x=3 m,y=0\n",
      "x=3\n",
      "C_1=0\n",
      "C_2=0\n",
      "P=(10*x**4*12**-1-15*x**3+195*x**2*2**-1+C_1*x+C_2)*(3*x**2*2**-1-x**3*6**-1)**-1\n",
      "\n",
      "#Result\n",
      "print\"Load taken by prop is\",round(P,2),\"KN\""
     ],
     "language": "python",
     "metadata": {},
     "outputs": [
      {
       "output_type": "stream",
       "stream": "stdout",
       "text": [
        "Load taken by prop is 60.0 KN\n"
       ]
      }
     ],
     "prompt_number": 33
    },
    {
     "cell_type": "heading",
     "level": 2,
     "metadata": {},
     "source": [
      "Problem no 6.13,Page No.163"
     ]
    },
    {
     "cell_type": "code",
     "collapsed": false,
     "input": [
      "import math\n",
      "\n",
      "#Initilization of variables\n",
      "\n",
      "L=6 #m #Span of Beam\n",
      "sigma=100*10**6 #Pa #Bending stress\n",
      "E=210*10**9\n",
      "y=0.45 #m #Depth\n",
      "\n",
      "#Calculations\n",
      "\n",
      "#Taking moment at B\n",
      "R_a=20*6*3+6*40*2*2**-1\n",
      "\n",
      "#At a section x from A the rate of Loading=20+2*3**-1*x #KN/m\n",
      "#S.F=100-20*x-x**2*3**-1\n",
      "#M=100*x-10*x**2-x**3*9**-1 \n",
      "\n",
      "#Thus B.M will be max where S.F is zero,we get equation as\n",
      "#x**2+60*x-300=0\n",
      "a=1\n",
      "b=60\n",
      "c=-300\n",
      "\n",
      "X=b**2-4*a*c\n",
      "x_1=(-b+X**0.5)*(2*a)**-1\n",
      "x_2=(-b-X**0.5)*(2*a)**-1\n",
      "\n",
      "x=4.641\n",
      "M=100*x-10*x**2-x**3*9**-1 #KN*m #Max bending moment\n",
      "I=M*sigma**-1*y*1000*2**-1 #m**4 #M.I\n",
      "\n",
      "#E*I*d**2*y*(d*x**2)**-1=-100*x+10*x**2+x**3*9**-1\n",
      "\n",
      "#AFter Integrating above EquATION WE get\n",
      "#E*I*dy*(dx)**-1=-50*x**2+10*3**-1*x**3+x**4*36**-1+C_1\n",
      "#Again Integrating above EquATION WE get\n",
      "#E*I*y=-50*x**3*3**-1+10*12**-1*x**4+x**5*180**-1+C_1*x+C_2\n",
      "\n",
      "#At x=0,y=0  ,C_2=0\n",
      "#At x=6,y=0 \n",
      "x=6\n",
      "C_2=0\n",
      "C_1=-(-50*x**3*3**-1+10*12**-1*x**4+x**5*180**-1)*x**-1\n",
      "\n",
      "x=3 #m\n",
      "y=1*(E*I)**-1*(-50*x**3*3**-1+10*12**-1*x**4+x**5*180**-1+C_1*x+C_2)*1000*100\n",
      "\n",
      "#Result\n",
      "print\"The central Deflection is\",round(y,2),\"m\""
     ],
     "language": "python",
     "metadata": {},
     "outputs": [
      {
       "output_type": "stream",
       "stream": "stdout",
       "text": [
        "The central Deflection is 0.76 m\n"
       ]
      }
     ],
     "prompt_number": 58
    },
    {
     "cell_type": "heading",
     "level": 2,
     "metadata": {},
     "source": [
      "Problem no 6.14,Page No.168"
     ]
    },
    {
     "cell_type": "code",
     "collapsed": false,
     "input": [
      "import math\n",
      "\n",
      "#Initilization of variables\n",
      "\n",
      "L=10 #m #Lenght of cantilever beam\n",
      "P_1=20*10**3 #N #Load at free end\n",
      "P_2=20*10**3 #N #Load at middle of beam\n",
      "E=200*10**9 #Pa \n",
      "I=20000*10**-8 #m**4\n",
      "\n",
      "#Calculations\n",
      "\n",
      "#Taking moment at pt B we get\n",
      "R_a=20*5*10**-1 #Force at pt A\n",
      "\n",
      "#Now B.M at b=0,at C=-100,at A=-300 KN*m\n",
      "\n",
      "#Now Area of B.M \n",
      "A_1=2**-1*5*100 #KN*m**2\n",
      "A_2=5*100       #KN*m**2\n",
      "A_3=2**-1*5*200 #KN*m**2\n",
      "\n",
      "#Total Area of B.M diagram is given by A\n",
      "A=A_1+A_2+A_3\n",
      "\n",
      "theta=A*10**3*(E*I)**-1 #radian\n",
      "\n",
      "x_1=2*3**-1*5\n",
      "x_2=3*2**-1*5\n",
      "x_3=5*3**-1*5\n",
      "M_1=A_1*x_1\n",
      "M_2=A_2*x_2\n",
      "M_3=A_3*x_3\n",
      "\n",
      "M=M_1+M_2+M_3 #Total moments of B.M about B\n",
      "\n",
      "y_B=M*10**3*(E*I)**-1 #Deflection a tfree end\n",
      "\n",
      "#REsult\n",
      "print\"Slope of cantilever at free end is\",round(theta,2),\"radian\"\n",
      "print\"Deflection of cantilever at free end is\",round(y_B,2),\"m\""
     ],
     "language": "python",
     "metadata": {},
     "outputs": [
      {
       "output_type": "stream",
       "stream": "stdout",
       "text": [
        "Slope of cantilever at free end is 0.03 radian\n",
        "Deflection of cantilever at free end is 0.22 m\n"
       ]
      }
     ],
     "prompt_number": 65
    },
    {
     "cell_type": "heading",
     "level": 2,
     "metadata": {},
     "source": [
      "Problem no.6.15,Page no.169"
     ]
    },
    {
     "cell_type": "code",
     "collapsed": false,
     "input": [
      "import math\n",
      "\n",
      "#Initilization of variables\n",
      "\n",
      "#Calculations\n",
      "\n",
      "#Slope at A is Zero and deflection at C is zero According to Mohr's second theorem\n",
      "#Let A_1*x_1=Y\n",
      "Y=1*30**-1*80*4*(3*4**-1*4+2)\n",
      "P=200*27**-1 #Reaction at ens D\n",
      "\n",
      "#Result\n",
      "print\"The reaction at end C is\",round(P,2),\"KN\""
     ],
     "language": "python",
     "metadata": {},
     "outputs": [
      {
       "output_type": "stream",
       "stream": "stdout",
       "text": [
        "The reaction at end C is 7.41 KN\n"
       ]
      }
     ],
     "prompt_number": 72
    },
    {
     "cell_type": "heading",
     "level": 2,
     "metadata": {},
     "source": [
      "Problem no 6.16,Page No.171"
     ]
    },
    {
     "cell_type": "code",
     "collapsed": false,
     "input": [
      "import math\n",
      "\n",
      "#Initilization of variables\n",
      "\n",
      "E=200*10**9 #Pa\n",
      "I=2500*10**-8 #m**4\n",
      "\n",
      "#Calculations\n",
      "\n",
      "#Taking moment about A we get\n",
      "R_a=(30*5+30*1)*6**-1 #Reaction at pt A\n",
      "R_b=60-R_a #Reaction at pt B\n",
      "\n",
      "M_c=30*1 #B.M at C\n",
      "M_d=30*1 #B.M at D\n",
      "M_a=0 #B.M at a\n",
      "M_b=0 #B.M at b\n",
      "\n",
      "#For conjugate beam taking moment about B_dash\n",
      "R_a_dash=(30*2**-1*(5+1*3**-1)+30*4*3+30*2*3**-1*2**-1)*6**-1\n",
      "R_b_dash=150-R_a_dash\n",
      "\n",
      "y_e=1*(E*I)**-1*(R_a_dash*3-30*2*1-2**-1*1*30*(2+1*3**-1))*1000\n",
      "\n",
      "#Result\n",
      "print\"Deflection at the centre is\",round(y_e,2),\"m\""
     ],
     "language": "python",
     "metadata": {},
     "outputs": [
      {
       "output_type": "stream",
       "stream": "stdout",
       "text": [
        "Deflection at the centre is 0.03 m\n"
       ]
      }
     ],
     "prompt_number": 69
    }
   ],
   "metadata": {}
  }
 ]
}