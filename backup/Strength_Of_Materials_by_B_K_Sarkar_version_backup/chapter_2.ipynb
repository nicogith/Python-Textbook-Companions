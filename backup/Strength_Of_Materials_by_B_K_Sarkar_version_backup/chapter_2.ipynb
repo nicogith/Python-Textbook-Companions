{
 "metadata": {
  "name": "chapter 2 som.ipynb"
 },
 "nbformat": 3,
 "nbformat_minor": 0,
 "worksheets": [
  {
   "cells": [
    {
     "cell_type": "heading",
     "level": 1,
     "metadata": {},
     "source": [
      "Chapter 2:Moment Of Inertia"
     ]
    },
    {
     "cell_type": "heading",
     "level": 2,
     "metadata": {},
     "source": [
      "Problem no 2.1,Page no.29"
     ]
    },
    {
     "cell_type": "code",
     "collapsed": false,
     "input": [
      "import math\n",
      "\n",
      "#Initilization of Variables\n",
      " \n",
      "#Rectangle-1\n",
      "b_1=10 #cm #width of Rectangle-1\n",
      "d_1=2 #cm #breadth of Rectangle-1\n",
      "a_1=40 #cm**2 #Area of Rectangle-1\n",
      "y_1=1 #cm #Distance of centroid-1\n",
      "\n",
      "#Rectangle-2\n",
      "b_2=2 #cm #width of Rectangle-2\n",
      "d_2=10 #cm #breadth of Rectangle-2\n",
      "a_2=20 #cm**2 #Area of rectangle-2\n",
      "y_2=7 #cm #Distance of centroid-2\n",
      "\n",
      "#Rectangle-3\n",
      "b_3=20 #cm #width of Rectangle-3\n",
      "d_3=2 #cm  #breadth of Rectangle-3\n",
      "a_3=20 #cm**2 #Area of rectangle-3\n",
      "y_3=13 #cm #Distance of centroid-3\n",
      "\n",
      "\n",
      "\n",
      "#Calculation\n",
      "Y_bar=((a_1*y_1+a_2*y_2+a_3*y_3)*(a_1+a_2+a_3)**-1) #cm #centre of gravity of section\n",
      "\n",
      "Y_1=4.5 #cm #Distance of centroid of rectangle 1 to C.G\n",
      "Y_2=1.5 #cm #Distance of centroid of rectangle 2 to C.G\n",
      "Y_3=7.5 #cm #Distance of centroid of rectangle 3 to C.G\n",
      "\n",
      "I_x_x_1=b_1*d_1**3*12**-1+a_1*Y_1**2 #moment of inertia of rectangle 1 about centroidal x-x axis of the section\n",
      "I_x_x_2=b_2*d_2**3*12**-1+a_2*Y_2**2 #moment of inertia of rectangle 2  about centroidal x-x axis of the section\n",
      "I_x_x_3=b_3*d_3**3*12**-1+a_3*Y_3**2 #moment of inertia of rectangle 3 about centroidal x-x axis of the section\n",
      "I_x_x=I_x_x_1+I_x_x_2+I_x_x_3 #cm**4 \n",
      "\n",
      "#Result\n",
      "print\"Moment of Inertia of the section is\",round(I_x_x,2),\"cm**4\""
     ],
     "language": "python",
     "metadata": {},
     "outputs": [
      {
       "output_type": "stream",
       "stream": "stdout",
       "text": [
        "Moment of Inertia of the section is 2166.67 cm**4\n"
       ]
      }
     ],
     "prompt_number": 10
    },
    {
     "cell_type": "heading",
     "level": 2,
     "metadata": {},
     "source": [
      "Problem no 2.2,Page no.31"
     ]
    },
    {
     "cell_type": "code",
     "collapsed": false,
     "input": [
      "import math\n",
      "\n",
      "#Initilization of Variables\n",
      "\n",
      "#Rectangle-1\n",
      "b_1=2 #cm #width of Rectangle-1\n",
      "d_1=12 #cm #breadth of Rectangle-1\n",
      "a_1=24 #cm**2 #Area of Rectangle-1\n",
      "y_1=6 #cm #Distance of centroid-1\n",
      "\n",
      "#Rectangle-2\n",
      "b_2=6 #cm #width of Rectangle-2\n",
      "d_2=2 #cm #breadth of Rectangle-2\n",
      "a_2=12 #cm**2 #Area of rectangle-2\n",
      "y_2=1 #cm #Distance of centroid-2\n",
      "\n",
      "#Rectangle-3\n",
      "b_3=2 #cm #width of Rectangle-3\n",
      "d_3=12 #cm  #breadth of Rectangle-3\n",
      "a_3=24 #cm**2 #Area of rectangle-3\n",
      "y_3=6 #cm #Distance of centroid-3\n",
      "\n",
      "#Calculation\n",
      "Y_bar=((a_1*y_1+a_2*y_2+a_3*y_3)*(a_1+a_2+a_3)**-1) #cm #centre of gravity of section\n",
      "\n",
      "Y_1=6 #cm #Distance of centroid of rectangle 1 to base \n",
      "Y_2=1 #cm #Distance of centroid of rectangle 2 to base\n",
      "Y_3=6 #cm #Distance of centroid of rectangle 3 to base\n",
      "\n",
      "I_x_x_1=b_1*d_1**3*12**-1+a_1*Y_1**2 #moment of inertia of rectangle 1 about centroidal x-x axis of the section\n",
      "I_x_x_2=b_2*d_2**3*12**-1+a_2*Y_2**2 #moment of inertia of rectangle 2  about centroidal x-x axis of the section\n",
      "I_x_x_3=b_3*d_3**3*12**-1+a_3*Y_3**2 #moment of inertia of rectangle 3 about centroidal x-x axis of the section\n",
      "I_x_x=I_x_x_1+I_x_x_2+I_x_x_3 #cm**4 \n",
      "\n",
      "\n",
      "#Result\n",
      "print\"Moment of Inertia of the section is\",round(I_x_x,2),\"cm**4\""
     ],
     "language": "python",
     "metadata": {},
     "outputs": [
      {
       "output_type": "stream",
       "stream": "stdout",
       "text": [
        "Moment of Inertia of the section is 2320.0 cm**4\n"
       ]
      }
     ],
     "prompt_number": 11
    },
    {
     "cell_type": "heading",
     "level": 2,
     "metadata": {},
     "source": [
      "Problem no2.3,Page no.32"
     ]
    },
    {
     "cell_type": "code",
     "collapsed": false,
     "input": [
      "import math\n",
      "\n",
      "#Initilization of Variables\n",
      "\n",
      "#Rectangle-1\n",
      "b_1=12 #cm #width of Rectangle-1\n",
      "d_1=2 #cm #breadth of Rectangle-1\n",
      "a_1=24 #cm**2 #Area of Rectangle-1\n",
      "y_1=1 #cm #Distance of centroid-1\n",
      "\n",
      "#Rectangle-2\n",
      "b_2=2 #cm #width of Rectangle-2\n",
      "d_2=6 #cm #breadthof Rectangle-2\n",
      "a_2=12 #cm**2 #Area of rectangle-2\n",
      "y_2=5 #cm #Distance of centroid-2\n",
      "\n",
      "#Rectangle-3\n",
      "b_3=5 #cm #width of Rectangle-3\n",
      "d_3=2 #cm  #breadth of Rectangle-3\n",
      "a_3=10 #cm**2 #Area of rectangle-3\n",
      "y_3=9 #cm #Distance of centroid-3\n",
      "\n",
      "#Calculation\n",
      "Y_bar=((a_1*y_1+a_2*y_2+a_3*y_3)*(a_1+a_2+a_3)**-1) #cm #centre of gravity of section\n",
      "\n",
      "Y_1=2.78 #cm #Distance of centroid of rectangle 1 to C.G \n",
      "Y_2=1.22 #cm #Distance of centroid of rectangle 2 to C.G\n",
      "Y_3=5.22 #cm #Distance of centroid of rectangle 3 to C.G \n",
      "\n",
      "I_x_x_1=b_1*d_1**3*12**-1+a_1*Y_1**2 #moment of inertia of rectangle 1 about centroidal x-x axis of the section\n",
      "I_x_x_2=b_2*d_2**3*12**-1+a_2*Y_2**2 #moment of inertia of rectangle 2  about centroidal x-x axis of the section\n",
      "I_x_x_3=b_3*d_3**3*12**-1+a_3*Y_3**2 #moment of inertia of rectangle 3 about centroidal x-x axis of the section\n",
      "I_x_x=I_x_x_1+I_x_x_2+I_x_x_3 #cm**4 \n",
      "\n",
      "\n",
      "#Result\n",
      "print\"Moment of Inertia of the section is\",round(I_x_x,2),\"cm**4\""
     ],
     "language": "python",
     "metadata": {},
     "outputs": [
      {
       "output_type": "stream",
       "stream": "stdout",
       "text": [
        "Moment of Inertia of the section is 523.16 cm**4\n"
       ]
      }
     ],
     "prompt_number": 12
    },
    {
     "cell_type": "heading",
     "level": 2,
     "metadata": {},
     "source": [
      "Problem no2.4,Page no.33"
     ]
    },
    {
     "cell_type": "code",
     "collapsed": false,
     "input": [
      "import math\n",
      "\n",
      "#Initilization of variables\n",
      "\n",
      "D=10 #cm #diameter of circle\n",
      "b=4 #cm #width of rectangle \n",
      "d=4 #cm #breadth of rectangle\n",
      "Y=1 #cm #Distance of centroid of rectangle 1 to C.G\n",
      "a=16 #cm**2 #area of rectangle\n",
      "\n",
      "#Calculations\n",
      "\n",
      "I_x_x_1=pi*64**-1*(D**4) #cm**4 #moment of inertia of circle about x-x axis\n",
      "I_x_x_2=b*d**3*12**-1+a*Y**2 #cm**4 #moment of inertia of rectangle about x-x axis\n",
      "I_x_x=I_x_x_1-I_x_x_2 #cm**4 #Total moment of inertia of the section\n",
      "\n",
      "#Result\n",
      "print\"Total moment of inertia of the section is\",round(I_x_x,2),\"cm**4\""
     ],
     "language": "python",
     "metadata": {},
     "outputs": [
      {
       "output_type": "stream",
       "stream": "stdout",
       "text": [
        "Total moment of inertia of the section is 453.54 cm**4\n"
       ]
      }
     ],
     "prompt_number": 23
    },
    {
     "cell_type": "heading",
     "level": 2,
     "metadata": {},
     "source": [
      "Problem no 2.5,Page no.33"
     ]
    },
    {
     "cell_type": "code",
     "collapsed": false,
     "input": [
      "import math\n",
      "\n",
      "#Initilization of variables\n",
      "\n",
      "b_1=10 #cm #Breadth of the triangle\n",
      "h=9 #cm #Height of triangle\n",
      "b_2=2 #cm #width of rectangle\n",
      "d=3 #cm #Depth of rectangle\n",
      "\n",
      "#Triangle ABC-1\n",
      "a_1=45 #cm**2 #Area of triangle\n",
      "y_1=3 #cm #C.G of triangle\n",
      "\n",
      "#Rectanglar hole-2\n",
      "a_2=6 #cm**2 #Area of rectangle\n",
      "y_2=4.5 #cm #C.G of rectangle\n",
      "\n",
      "#Calculations\n",
      "\n",
      "#Using relations\n",
      "Y_bar=((a_1*y_1-a_2*y_2)*(a_1-a_2)**-1) #cm\n",
      "\n",
      "I_1=b_1*h**3*36**-1+a_1*(y_1-Y_bar)**2 #cm**4 #M.I of triangle ABC about x-x passing through C.G of section\n",
      "I_2=b_2*d**3*12**-1+a_2*(y_2-Y_bar)**2 #cm**4 #M.I of rectangular hole about x-x passing through C.G of section\n",
      "I=I_1-I_2 #cm**4 #M.I of whole section about x-x passing through the C.G \n",
      "\n",
      "I_3=b_1*h**3*12**-1 #cm**4 #M.I of triangle ABC about the base BC\n",
      "I_4=b_2*d**3*12**-1+a_2*y_2**2 #cm**4 #M.I of Rectangular hole about the base BC\n",
      "\n",
      "I_5=I_3-I_4 #cm**4 #M.I of the whole section about the base BC\n",
      "\n",
      "#Result\n",
      "print\"M.I of whole section about x-x passing through the C.G\",round(I,2),\"cm**4\"\n",
      "print\"M.I of the whole section about the base BC is\",round(I_5,2),\"cm**4\""
     ],
     "language": "python",
     "metadata": {},
     "outputs": [
      {
       "output_type": "stream",
       "stream": "stdout",
       "text": [
        "M.I of whole section about x-x passing through the C.G 182.42 cm**4\n",
        "M.I of the whole section about the base BC is 481.5 cm**4\n"
       ]
      }
     ],
     "prompt_number": 39
    },
    {
     "cell_type": "heading",
     "level": 2,
     "metadata": {},
     "source": [
      "Problem no2.6,Page no.34"
     ]
    },
    {
     "cell_type": "code",
     "collapsed": false,
     "input": [
      "import math\n",
      "\n",
      "#Initilization of variables\n",
      "\n",
      "\n",
      "#Notifications has been changed as per requirement\n",
      "\n",
      "\n",
      "h=8 #cm #height of triangle\n",
      "b=8 #cm #breadth of triangle or diameter semicircle\n",
      "d=4 #cm #diameter of circle enclosed\n",
      "\n",
      "#Calculations\n",
      "\n",
      "I_1=b*h**3*12**-1 #cm #moment of inertia of the triangle ABC about the axis AB\n",
      "I_2=pi*b**4*128**-1 #cm ##moment of inertia of the semicircle about the axis AB\n",
      "I_3=pi*d**4*64**-1 #cm #moment of inertia of circle about the circle about the axis\n",
      "\n",
      "I=I_1+I_2-I_3 #cm #Moment of Inertia of the shaded area about the axia AB\n",
      "\n",
      "#Result\n",
      "print\"Moment of Inertia of the shaded area is\",round(I,2),\"cm\""
     ],
     "language": "python",
     "metadata": {},
     "outputs": [
      {
       "output_type": "stream",
       "stream": "stdout",
       "text": [
        "Moment of Inertia of the shaded area is 429.3 cm\n"
       ]
      }
     ],
     "prompt_number": 30
    },
    {
     "cell_type": "heading",
     "level": 2,
     "metadata": {},
     "source": [
      "Problem no.2.12,Page no.38"
     ]
    },
    {
     "cell_type": "code",
     "collapsed": false,
     "input": [
      "import math\n",
      "\n",
      "#Initilization of variables\n",
      "\n",
      "#Rectangle\n",
      "a_1=600 #cm**2 #Area of the Rectangle\n",
      "y_1=15 #cm #C.G of Rectangle\n",
      "b=20 #cm #width of rectangle\n",
      "d=30 #cm #depth of rectangle\n",
      "D=15 #cm #Diameter of circle\n",
      "\n",
      "#Circle\n",
      "a_2=176.7 #cm**2 #Area of the circle\n",
      "y_2=20 #cm #C.G of the circle\n",
      " \n",
      "#Calculation\n",
      "\n",
      "Y_bar=((a_1*y_1-a_2*y_2)*(a_1-a_2)**-1) #cm #Distance of C.G From the AB\n",
      "Y_bar_1=2.1 #cm\n",
      "Y_bar_2=7.1 #cm\n",
      "\n",
      "I_1=b*d**3*12**-1 #cm**4 #M.I of the rectangle about its C.G and parallel to x-x axis\n",
      "I_2=I_1+a_1*Y_bar_1**2\n",
      "I_3=pi*D**4*64**-1+a_2*Y_bar_2**2 #cm**4 #M.I of circular section about x-x axis\n",
      "\n",
      "I=I_2-I_3 #cm**4 #M.I of the section about x-x axis\n",
      "\n",
      "#Result\n",
      "print\"M.I of the section about x-x axis\",round(I,2),\"cm**4\""
     ],
     "language": "python",
     "metadata": {},
     "outputs": [
      {
       "output_type": "stream",
       "stream": "stdout",
       "text": [
        "M.I of the section about x-x axis 36253.5 cm**4\n"
       ]
      }
     ],
     "prompt_number": 50
    },
    {
     "cell_type": "heading",
     "level": 2,
     "metadata": {},
     "source": [
      "Problem no.2.13,Page no.38"
     ]
    },
    {
     "cell_type": "code",
     "collapsed": false,
     "input": [
      "import math\n",
      "\n",
      "#Initilization of variables\n",
      "\n",
      "d=90 #cm #Diameter of grindstone\n",
      "t=10 #cm #thickness of grindstone\n",
      "rho=0.0026 #Kg/cm**3 #Density\n",
      "\n",
      "#calculations\n",
      "\n",
      "#M=Mass of grindstone=Volume *Density=Area*Thickness*Density\n",
      "M=pi*4**-1*d**2*t*rho #Kg \n",
      "R=d*2**-1 #cm #radius\n",
      "I_g=M*R**2*2**-1 #Kg*m**2\n",
      "\n",
      "k=R*(2**0.5)**-1 #cm #Radius of gyration\n",
      "\n",
      "#Result\n",
      "print\"Radius of gyration is\",round(k,2),\"cm\""
     ],
     "language": "python",
     "metadata": {},
     "outputs": [
      {
       "output_type": "stream",
       "stream": "stdout",
       "text": [
        "Radius of gyration is 31.82 cm\n"
       ]
      }
     ],
     "prompt_number": 6
    }
   ],
   "metadata": {}
  }
 ]
}