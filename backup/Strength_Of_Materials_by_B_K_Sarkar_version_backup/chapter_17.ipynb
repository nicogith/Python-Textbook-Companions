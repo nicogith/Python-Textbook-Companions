{
 "metadata": {
  "name": "chapter 17 som.ipynb"
 },
 "nbformat": 3,
 "nbformat_minor": 0,
 "worksheets": [
  {
   "cells": [
    {
     "cell_type": "heading",
     "level": 1,
     "metadata": {},
     "source": [
      "Chapter 17:Welded Joints"
     ]
    },
    {
     "cell_type": "heading",
     "level": 2,
     "metadata": {},
     "source": [
      "Problem no.17.1,Page no.379"
     ]
    },
    {
     "cell_type": "code",
     "collapsed": false,
     "input": [
      "import math\n",
      "\n",
      "#Initilization of Variables\n",
      "\n",
      "b=12 #cm #width of steel plates\n",
      "t=1 #cm #thickness of steel plates\n",
      "sigma=75 #MPa #stress\n",
      "\n",
      "#Calculations\n",
      "\n",
      "#The maximum Load which the plate can carry\n",
      "P=b*t*10**-6*sigma*10**6 #N \n",
      "\n",
      "#Length of weld for static loading\n",
      "\n",
      "#size of weld is equal to thickness of plate\n",
      "S=t #cm\n",
      "\n",
      "#P=2**0.5*l*S*sigma\n",
      "\n",
      "#After substituting values and simplifying above equation, we get, \n",
      "l=((P)*(2**0.5*S*sigma)**-1) #cm\n",
      "\n",
      "#add 1.25 to allow start and stop of weld run\n",
      "L=l+1.25 #cm \n",
      "\n",
      "#Length of weld for Dynamic loading\n",
      "\n",
      "#The stress concentration factor for transverse fillet weld is 1.5\n",
      "\n",
      "sigma_2=sigma*1.5**-1 #MPa #Permissible tensile stress\n",
      "\n",
      "#P=2**0.5*l_2*S*sigma_2 \n",
      "\n",
      "#After substituting values and simplifying above equation, we get,\n",
      "l_2=((P)*(2**0.5*S*sigma_2)**-1) #cm\n",
      "\n",
      "#add 1.25 cm\n",
      "l_3=l_2+1.25 #cm \n",
      "\n",
      "#Result\n",
      "print\"Length of weld for static loading\",round(L,2),\"cm\"\n",
      "print\"Length of weld for Dynamic loading\",round(l_3,2),\"cm\"\n"
     ],
     "language": "python",
     "metadata": {},
     "outputs": [
      {
       "output_type": "stream",
       "stream": "stdout",
       "text": [
        "Length of weld for static loading 9.74 cm\n",
        "Length of weld for Dynamic loading 13.98 cm\n"
       ]
      }
     ],
     "prompt_number": 3
    },
    {
     "cell_type": "heading",
     "level": 2,
     "metadata": {},
     "source": [
      "Problem no.17.2,Page no.380"
     ]
    },
    {
     "cell_type": "code",
     "collapsed": false,
     "input": [
      "import math\n",
      "\n",
      "#Initilization of Variables\n",
      "\n",
      "d=6 #cm #diameter of rod\n",
      "L=40 #cm #Length of steel plate\n",
      "P=12 #KN #Load\n",
      "sigma=180 #MPa #Allowable stress\n",
      "\n",
      "#Calculations\n",
      "\n",
      "A=pi*4**-1*d**2 #cm**2 #Area of rod\n",
      "M=P*10**3*L #Ncm\n",
      "\n",
      "F=M*A**-1 #N/cm #Force per unit cm of weld at top and bottom\n",
      "\n",
      "V_s=P*10**3*(pi*d)**-1 #N/cm #vertical shear\n",
      "\n",
      "R=(F**2+V_s**2)**0.5 #N/cm #resultant Load\n",
      "\n",
      "S=R*(sigma)**-1*10**-2 #cm #size of weld\n",
      "\n",
      "#Result\n",
      "print\"size of weld is\",round(S,2),\"cm\"\n"
     ],
     "language": "python",
     "metadata": {},
     "outputs": [
      {
       "output_type": "stream",
       "stream": "stdout",
       "text": [
        "size of weld is 0.94 cm\n"
       ]
      }
     ],
     "prompt_number": 13
    },
    {
     "cell_type": "heading",
     "level": 2,
     "metadata": {},
     "source": [
      "Problem no.17.3,Page no.380"
     ]
    },
    {
     "cell_type": "code",
     "collapsed": false,
     "input": [
      "import math\n",
      "\n",
      "#Initilization of Variables\n",
      "\n",
      "b=12 #cm #width of plate\n",
      "S=t=1 #cm #thickness of plate\n",
      "P=50 #KN #load\n",
      "sigma_s=60 #MPa #shear stress\n",
      "\n",
      "#Calculations (part-1)\n",
      "\n",
      "#Under static Loading\n",
      "\n",
      "#P=2**0.5*l*S*sigma_s\n",
      "\n",
      "l=((P*10**3)*(2**0.5*S*sigma_s*10**-4*10**6)**-1) #cm \n",
      "\n",
      "#add 1.25 cm to start and stop weld run\n",
      "\n",
      "L=l+1.25 #cm #length of weld\n",
      "\n",
      "#Calculations (part-2)\n",
      "\n",
      "#Under Fatigue load\n",
      "\n",
      "#stress concentration factor for parallel fillet weld is 2.7\n",
      "\n",
      "sigma_s_2=sigma_s*2.7**-1 #MPa #permissible shear stress\n",
      "\n",
      "#P=2**0.5*l_2*S*sigma_s_2\n",
      "\n",
      "l_2=((P*10**3)*(2**0.5*S*sigma_s_2*10**-4*10**6)**-1) #cm\n",
      "\n",
      "#add 1.25 cm \n",
      "\n",
      "l_3=l_2+1.25 #cm #length of weld\n",
      "\n",
      "#Result\n",
      "print\"Length of weld Under static Loading is\",round(L,3),\"cm\"\n",
      "print\"Length of weld Under Ftigue Loading is\",round(l_3,3),\"cm\"\n"
     ],
     "language": "python",
     "metadata": {},
     "outputs": [
      {
       "output_type": "stream",
       "stream": "stdout",
       "text": [
        "Length of weld Under static Loading is 7.143 cm\n",
        "Length of weld Under Ftigue Loading is 17.16 cm\n"
       ]
      }
     ],
     "prompt_number": 11
    },
    {
     "cell_type": "heading",
     "level": 2,
     "metadata": {},
     "source": [
      "Problem no.17.4,Page no.381"
     ]
    },
    {
     "cell_type": "code",
     "collapsed": false,
     "input": [
      "import math\n",
      "\n",
      "#Initilization of Variables\n",
      "\n",
      "sigma_t=100 #MPa #tensile stress\n",
      "P=170 #KN #Load\n",
      "\n",
      "#Calculations\n",
      "\n",
      "#For equal stress in the welds A and B, the load shared by the fillet welds will be proportional to size of weld\n",
      "\n",
      "#t_a=0.7*s #Effective throat thickness of weld A in upper plate\n",
      "#s=size of weld \n",
      "\n",
      "#t_b=1.05*s #Effective throat thickness of weld B in lower plate\n",
      "\n",
      "#For weld A\n",
      "#P_1=l*t*sigma_t \n",
      "\n",
      "#After substituting values and simplifying above equation, we get,\n",
      "#P_1=84000*s #N     (equation 1)\n",
      "\n",
      "#P_2=l*t_2*sigma_t\n",
      "\n",
      "#After substituting values and simplifying above equation, we get,\n",
      "#P_2=126000*s #N     (equation 2)\n",
      "\n",
      "#After adding equation 1 and 2, we get,\n",
      "#P=210000*s           (equation 3)\n",
      "\n",
      "#Now equating total forces of the fillets to load on the plates\n",
      "s=P*10**3*210000**-1 #cm\n",
      "\n",
      "#Result\n",
      "print\"size of end fillet is\",round(s,2),\"cm\""
     ],
     "language": "python",
     "metadata": {},
     "outputs": [
      {
       "output_type": "stream",
       "stream": "stdout",
       "text": [
        "size of end fillet is 0.81 cm\n"
       ]
      }
     ],
     "prompt_number": 12
    },
    {
     "cell_type": "heading",
     "level": 2,
     "metadata": {},
     "source": [
      "Problem no.17.5,Page no.381"
     ]
    },
    {
     "cell_type": "code",
     "collapsed": false,
     "input": [
      "import math\n",
      "\n",
      "#Initilization of Variables\n",
      "\n",
      "L_1=30 #cm #length of longitudinal weld\n",
      "L_2=16 #cm #length of transverse weld\n",
      "#t=0.7*s #Effective thickness of weld \n",
      "sigma_t_1=100 #MPa #working stress for transverse welds\n",
      "sigma_t_2=85 #MPa #working stress for longitudinal welds\n",
      "P=150 #KN #load\n",
      "\n",
      "#Calculations\n",
      "\n",
      "#For transverse weld\n",
      "#P_1=L_1*t*10**-4*sigma_t_1*10**6 \n",
      "\n",
      "#After substituting values and simplifying above equation, we get,\n",
      "#P_1=112000*s #N\n",
      "\n",
      "#For longitudinal weld\n",
      "#P_2=L_2*t*10**-4*sigma_t_2*10**6\n",
      "\n",
      "#Total force of resistance of weld\n",
      "#P=P_1+P_2 #N\n",
      "\n",
      "#after adding we get,\n",
      "#P=290500*s #N\n",
      "\n",
      "#Now equating total forces of resistance to pull of the joint\n",
      "s=P*10**3*290500**-1 #cm\n",
      "\n",
      "#Result \n",
      "print\"size of weld is\",round(s,3),\"cm\"\n",
      "\n"
     ],
     "language": "python",
     "metadata": {},
     "outputs": [
      {
       "output_type": "stream",
       "stream": "stdout",
       "text": [
        "size of weld is 0.516 cm\n"
       ]
      }
     ],
     "prompt_number": 16
    },
    {
     "cell_type": "heading",
     "level": 2,
     "metadata": {},
     "source": [
      "Problem no.17.6,Page no.382"
     ]
    },
    {
     "cell_type": "code",
     "collapsed": false,
     "input": [
      "import math\n",
      "\n",
      "#Initilization of Variables\n",
      "\n",
      "P=200 #KN #Load carried by the angle \n",
      "S=0.6 #mm #size of weld\n",
      "b=4.46 #cm #Distance of centre of gravity of the angle from the top shorter leg\n",
      "a=10.54 #cm #Distance of centre of gravity of the angle from the top edge of the angle\n",
      "sigma_s=102.5 #MPa #shear stress\n",
      "#l_1=Length of the top weld\n",
      "#l_2=length of the bottom weld\n",
      "#L=l_1+l_2 #cm #total length weld\n",
      "\n",
      "#Using the relation\n",
      "#P=L*0.7*S*sigma_s\n",
      "\n",
      "#After substituting values and simplifying we get\n",
      "L=(P*10**3)*(0.7*S*sigma_s*10**-4*10**6)**-1 #cm  (equation 1)\n",
      "\n",
      "#Using the relation\n",
      "l_1=(L*b)*(a+b)**-1 #cm\n",
      "\n",
      "#substituting this value in equation 1 we have,\n",
      "l_2=L-l_1 #cm \n",
      "\n",
      "#Result\n",
      "print\"Distance of centre of gravity of the angle from the top edge of the angle\",round(l_2,2),\"cm\"\n"
     ],
     "language": "python",
     "metadata": {},
     "outputs": [
      {
       "output_type": "stream",
       "stream": "stdout",
       "text": [
        "Distance of centre of gravity of the angle from the top edge of the angle 32.64 cm\n"
       ]
      }
     ],
     "prompt_number": 12
    },
    {
     "cell_type": "heading",
     "level": 2,
     "metadata": {},
     "source": [
      "Problem no.17.7,Page no.383"
     ]
    },
    {
     "cell_type": "code",
     "collapsed": false,
     "input": [
      "import math\n",
      "\n",
      "#Initilization of Variables\n",
      "\n",
      "P=12 #KN #Load\n",
      "sigma_s=75 #N/mm**2 #shear stress\n",
      "e=12 #cm\n",
      "r_1=2.5 #cm\n",
      "\n",
      "#Calculations\n",
      "\n",
      "#A=(2*S*l)*(2)**0.5\n",
      "#sigma_s=P*A**-1 #MPa #shear stress\n",
      "\n",
      "#After substituting values and simplifying we get\n",
      "#sigma_s=16.97*S**-1 #MPa\n",
      "\n",
      "#I_g=S*l*(3*b**2+l**2)*(6)**-1 #cm**4 #Polar moment of Inertia of weld\n",
      "\n",
      "#After substituting values and simplifying we get\n",
      "#I_g=180.833*S #cm**4\n",
      "r_2=((8*2**-1)**2)+((5*2**-1)**2)**0.5 #cm #max radius of weld\n",
      "\n",
      "#sigma_s_2=P*e*r_2*I_g**-1 #MPa #shear stress due to bending moment\n",
      "\n",
      "cos_theta=r_1*r_2**-1\n",
      "\n",
      "#Now using the relation\n",
      "#sigma_s=(sigma_s_1**2+sigma_s_2**2+2sigma_s_1*sigma_s_2*cos_theta\n",
      "\n",
      "S=(2363.8958*5625**-1)**0.5 #cm #size of the weld\n",
      "\n",
      "#Result\n",
      "print\"size of the weld\",round(S,3),\"cm\"\n"
     ],
     "language": "python",
     "metadata": {},
     "outputs": [
      {
       "output_type": "stream",
       "stream": "stdout",
       "text": [
        "size of the weld 0.648 cm\n"
       ]
      }
     ],
     "prompt_number": 11
    }
   ],
   "metadata": {}
  }
 ]
}