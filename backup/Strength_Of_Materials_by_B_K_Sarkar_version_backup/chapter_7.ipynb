{
 "metadata": {
  "name": "chapter 7 som.ipynb"
 },
 "nbformat": 3,
 "nbformat_minor": 0,
 "worksheets": [
  {
   "cells": [
    {
     "cell_type": "heading",
     "level": 1,
     "metadata": {},
     "source": [
      "Chapter 7:Torsion"
     ]
    },
    {
     "cell_type": "heading",
     "level": 2,
     "metadata": {},
     "source": [
      "Problem no 7.1,Page no.183"
     ]
    },
    {
     "cell_type": "code",
     "collapsed": false,
     "input": [
      "import math\n",
      "\n",
      "#Initilization of variables\n",
      "\n",
      "G=84 #Gpa #Modulus of Rigidity\n",
      "N=110 #no. of revolution\n",
      "#d*D**-1=0.6 #Ratio of inner diameter to outer diameter\n",
      "sigma_s=63 #MPa #shear stress\n",
      "L=3 #m #Length of shaft\n",
      "P=590 #KW #Power\n",
      "\n",
      "#Calculation\n",
      "\n",
      "#P=2*pi*N*T_mean*60000**-1 #KW #Power\n",
      "T_mean=P*60000*(2*pi*N)**-1 #N*m #Mean Torque\n",
      "\n",
      "#I_p=p*32**-1*(D**4-d**4)\n",
      "\n",
      "#After substituting value of d in above equation we get\n",
      "#I_p=0.0272*pi*D**4 #m**4 #Polar moment of Inertia\n",
      "\n",
      "T_max=1.2*T_mean #N*m #Max torque\n",
      "\n",
      "#Using Relation\n",
      "#T_max*T_p**-1=sigma_s*R**-1=G*theta*L**-1 \n",
      "\n",
      "#After substituting values and simplifying we get\n",
      "\n",
      "D=(5.7085*10**-3)**0.3333 #m #Diameter of shaft\n",
      "\n",
      "theta=1.4*pi*180**-1 #radians\n",
      "\n",
      "#theta=((T_max*L)*(G*10**9*I_p)) #radians\n",
      "\n",
      "#After substituting values and simplifying we get\n",
      "D_1=(1.0513*10**-3)**0.25\n",
      "\n",
      "#Result\n",
      "print\"The Minimum external diameter is\",round(D_1,2),\"m\""
     ],
     "language": "python",
     "metadata": {},
     "outputs": [
      {
       "output_type": "stream",
       "stream": "stdout",
       "text": [
        "The Minimum external diameter is 0.18 m\n"
       ]
      }
     ],
     "prompt_number": 17
    },
    {
     "cell_type": "heading",
     "level": 2,
     "metadata": {},
     "source": [
      "Problem no 7.2,Page no.184"
     ]
    },
    {
     "cell_type": "code",
     "collapsed": false,
     "input": [
      "import math\n",
      "\n",
      "#Initilization of variables\n",
      "\n",
      "P=295 #KW #Power\n",
      "N=100 #R.p.m \n",
      "sigma_s=80 #MPa #shear stress\n",
      "\n",
      "\n",
      "#Calculations\n",
      "\n",
      "T_mean=((P*60000)*(2*pi*N)**-1) #N*m\n",
      "\n",
      "#T_max=T_mean=(pi*D**3*sigma_s)*16**-1\n",
      "D=((T_mean*16)*(pi*sigma_s*10**6)**-1)**0.333 #m #Diameter of solid shaft\n",
      "\n",
      "#For hollow shaft\n",
      "#I_p_h=pi*32**-1*(D_1**4-d_1**4) (equation 1)\n",
      "\n",
      "#Now d_1=0.6*D_1\n",
      "#substituting above value in equation 1,we get,\n",
      "\n",
      "#I_p_h=0.0272*pi*D_1**4\n",
      "\n",
      "#For solid shaft\n",
      "#I_p_s=pi*32**-1*D**4\n",
      "\n",
      "#T and sigma_s being the same then I_p*R**-1 will be the same for the two shafts\n",
      "#Using relation  I_p_h*R_1**-1=I_p_s*R**-1\n",
      "\n",
      "#Substituting values and simplifying we get\n",
      "\n",
      "D_1=(D**3*0.8704**-1)**0.3333333 #m #External diameter of hollow shaft\n",
      "d_1=0.6*D_1 #cm #Internal diameter of hollow shaft\n",
      "\n",
      "A_s=pi*4**-1*(D*10**2)**2 #cm**2 #Area of solid shaft\n",
      "A_h=pi*4**-1*(((D_1*10**2)**2)-((d_1*10**2)**2))\n",
      "\n",
      "W=(A_s-A_h)*A_s**-1*100 #Percentage #Percentage saving in weight\n",
      "\n",
      "\n",
      "#Result\n",
      "print\"Diameter of solid shaft is \",D,\"m\"\n",
      "print\"Percentage saving in weight is\",round(W,2),\"%\""
     ],
     "language": "python",
     "metadata": {},
     "outputs": [
      {
       "output_type": "stream",
       "stream": "stdout",
       "text": [
        "Diameter of solid shaft is  0.121751208998 m\n",
        "Percentage saving in weight is 29.8 %\n"
       ]
      }
     ],
     "prompt_number": 54
    },
    {
     "cell_type": "heading",
     "level": 2,
     "metadata": {},
     "source": [
      "Problem no 7.7,Page no.188"
     ]
    },
    {
     "cell_type": "code",
     "collapsed": false,
     "input": [
      "import math\n",
      "\n",
      "#Initilization of variables\n",
      "\n",
      "P_C=45 #KW Power aplled at C\n",
      "P_B=15 #KW Power taken off at B\n",
      "P_BA=30 #KW #Power transmitted across BA\n",
      "G=85 #GPa\n",
      "\n",
      "#Calculations (Part-1)\n",
      "\n",
      "#For BC\n",
      "P_1=45 #KW #Power across BC\n",
      "N_1=200  #r.p.m\n",
      "d_1=0.075 #m #diameter of shaft BC\n",
      "L_BC=2 #m #Length of shaft BC\n",
      "\n",
      "\n",
      "T_BC=60000*P_1*(2*pi*N_1)**-1 #N*m #Torque transmitted across BC\n",
      "sigma_s_BC=16*T_BC*((pi*(d_1)**3)**-1)*10**-6 #N/m**2 #max shear stress in BC\n",
      "I_p_BC=pi*32**-1*d_1**4 #m**4 #Polar M.I of BC\n",
      "theta_1=T_BC*L_BC*(G*10**9*I_p_BC)**-1 #Radian #Max angle of twist theta_1 in BC of B relative to C\n",
      "\n",
      "#For AB\n",
      "P_2=30 #KW #Power across AB\n",
      "N_2=200  #r.p.m\n",
      "d_2=0.05 #m #diameter of shaft AB\n",
      "L_BC=4 #m #Length of shaft AB\n",
      "\n",
      "\n",
      "T_AB=60000*P_2*(2*pi*N_2)**-1 #N*m #Torque transmitted across AB\n",
      "sigma_s_AB=16*T_AB*(pi*(d_2)**3)**-1*10**-6 #N/m**2 #max shear stress in AB\n",
      "I_p_AB=pi*32**-1*d_2**4 #m**4 #Polar M.I of AB\n",
      "theta_2=T_AB*L_BC*(G*10**9*I_p_AB)**-1 #Radian #Max angle of twist theta_1 in AB of A relative to B\n",
      "C=(theta_1+theta_2)*180*pi**-1 #radian #Angle of Twist of gear\n",
      "\n",
      "\n",
      "#Result\n",
      "print\"Angle of Twist of gear is\",round(C,2),\"Degree\"\n",
      "print\"The maximum shear stress developed in the shaft AB is\",round(sigma_s_AB,2)\n",
      "\n",
      " "
     ],
     "language": "python",
     "metadata": {},
     "outputs": [
      {
       "output_type": "stream",
       "stream": "stdout",
       "text": [
        "Angle of Twist of gear is 7.23 Degree\n",
        "The maximum shear stress developed in the shaft AB is 58.36\n"
       ]
      }
     ],
     "prompt_number": 1
    },
    {
     "cell_type": "heading",
     "level": 2,
     "metadata": {},
     "source": [
      "Problem no 7.8,Page no.189"
     ]
    },
    {
     "cell_type": "code",
     "collapsed": false,
     "input": [
      "import math\n",
      "\n",
      "#Initilization of variables\n",
      "\n",
      "L_BC=1.8 #m #Length of BC\n",
      "L_AB=1.2 #m #Length of AB\n",
      "sigma_s=70 #MPa #shear stress\n",
      "d_1=0.05 #m #diameter of BC\n",
      "d_2=0.1 #m #diameter of AB\n",
      "r_BC=0.025 #cm #Radius of BC\n",
      "\n",
      "#Calculations\n",
      "\n",
      "I_p_BC=pi*32**-1*d_1**4 #m**4 #Polar M.I of BC\n",
      "I_p_AB=pi*32**-1*d_2**4 #m**4 #Polar M.I od AB\n",
      "\n",
      "#For BC\n",
      "#theta_1=T*L_BC*(G*10**9*I_p_BC)**-1 #Angle of Twist of C relative to B\n",
      "#After substituting and simplifying value, we get\n",
      "\n",
      "#theta_1=3.4923*10**-5*T\n",
      "\n",
      "#For AB\n",
      "#theta_2=T*L_AB*(G*10**9*I_p_AB)**-1 #Angle of Twist of B relative to A\n",
      "#After substituting and simplifying value, we get\n",
      "\n",
      "#theta_2=1.45513*T\n",
      "\n",
      "#sigma_s=T*R*(I_P)**-1 #The max shear stress in BC\n",
      "\n",
      "#After substituting and simplifying value in above equation, we get\n",
      "\n",
      "T=sigma_s*10**6*I_p_BC*r_BC**-1 \n",
      "theta_1=3.4923*10**-5*T\n",
      "theta_2=1.45513*10**-6*T\n",
      "theta_c=theta_1-theta_2 #radian #total angle of twist\n",
      "\n",
      "#Result\n",
      "print\"Total angle of Twist is\",round(theta_c,3),\"radian\""
     ],
     "language": "python",
     "metadata": {},
     "outputs": [
      {
       "output_type": "stream",
       "stream": "stdout",
       "text": [
        "Total angle of Twist is 0.057 radian\n"
       ]
      }
     ],
     "prompt_number": 16
    },
    {
     "cell_type": "heading",
     "level": 2,
     "metadata": {},
     "source": [
      "Problem no 7.9,Page no.190"
     ]
    },
    {
     "cell_type": "code",
     "collapsed": false,
     "input": [
      "import math\n",
      "\n",
      "#Initilization of variables\n",
      "\n",
      "D=0.05 #m #Diameter of shaft\n",
      "sigma_s_a=55 #MPa #shear stress of alloy\n",
      "sigma_s_s=80 #MPa #shear stress of steel\n",
      "P=185 #KW #Power \n",
      "\n",
      "#Calculations\n",
      "\n",
      "#For alloy shaft,\n",
      "#theta*L**-1=T*(G_A*I_p_A)**-1\n",
      "\n",
      "#For steel shaft,\n",
      "#theta*L*-1=I*(G_S*I_p_S)**-1\n",
      "\n",
      "#After substituting and simplifying we get\n",
      "d=(246.2*10**-8)**0.25 #m #Internal diameter of steel shaft\n",
      "\n",
      "T_1=pi*16**-1*D**3*sigma_s_s*10**6 #N*m #For alloy shaft max torque\n",
      "T_2=pi*16**-1*((D**4-d**4)*D**-1)*sigma_s_s*10**6 #N*m #For steel shaft max torque\n",
      "\n",
      "#Permissible torque,T_2\n",
      "\n",
      "#P=2*pi*N*T_2*(60000)**-1 \n",
      "\n",
      "#After substituting we get\n",
      "N=P*60000*(2*pi*T_2)**-1 #r.p.m #Speed\n",
      "\n",
      "#Result\n",
      "print\"The speed at which the shafts to be driven is\",round(N,0),\"r.p.m\""
     ],
     "language": "python",
     "metadata": {},
     "outputs": [
      {
       "output_type": "stream",
       "stream": "stdout",
       "text": [
        "The speed at which the shafts to be driven is 1485.0 r.p.m\n"
       ]
      }
     ],
     "prompt_number": 6
    },
    {
     "cell_type": "heading",
     "level": 2,
     "metadata": {},
     "source": [
      "Problem no 7.10,Page no.190"
     ]
    },
    {
     "cell_type": "code",
     "collapsed": false,
     "input": [
      "import math\n",
      "\n",
      "#Initilization of variables\n",
      "\n",
      "sigma_s=90 #MPa #shear stress of steel\n",
      "sigma_d=60 #MPa #shear stress of duralumin\n",
      "G_d=28 #GPa #modulus of rigidity of duralumin\n",
      "G_s=84 #GPa #modulus of rigidity of steel\n",
      "L=1 #m #Length of shaft\n",
      "\n",
      "#Calculations\n",
      "\n",
      "#theta*L**-1=sigma_s*(G_s*R_s)**-1=sigma_d*(G_d*R_d)**-1\n",
      "\n",
      "#After substituting and simplifying,we get,\n",
      "#D=2*d\n",
      "\n",
      "#T_s=pi*16**-1*d**3*sigma_s #N*m #torque of steel\n",
      "#T_d=pi*16*(((D**4-d**4)*D**4)**-1)*sigma_d #N*m #torque of duralumin\n",
      "\n",
      "#After substituting and simplifying above two equations,we get,\n",
      "\n",
      "#T_s=17.6714*10**6*d**3 #N*m\n",
      "#T_d=88.3572*d**3 #N*m\n",
      "\n",
      "#T=T_s+T_d #Total torque\n",
      "\n",
      "#T=106.02875*10**6*d**3 \n",
      "\n",
      "d=(700*(106.02875*10**6)**-1)**0.333 #m \n",
      "D=2*d #m\n",
      "R_s=d*2**-1 #m\n",
      "\n",
      "theta=(sigma_s*10**6*L*(G_s*10**9*R_s)**-1)*180*pi**-1 #degree #Angle of twist\n",
      "\n",
      "#Result\n",
      "print\"The Angle of Twist is\",round(theta,2),\"Degree\""
     ],
     "language": "python",
     "metadata": {},
     "outputs": [
      {
       "output_type": "stream",
       "stream": "stdout",
       "text": [
        "The Angle of Twist is 6.52 Degree\n"
       ]
      }
     ],
     "prompt_number": 36
    },
    {
     "cell_type": "heading",
     "level": 2,
     "metadata": {},
     "source": [
      "Problem no 7.11,Page no.191"
     ]
    },
    {
     "cell_type": "code",
     "collapsed": false,
     "input": [
      "import math\n",
      "\n",
      "#Initilization of variables\n",
      "\n",
      "P=4415 #KW #Power transmitted\n",
      "N=110 #r.p.m\n",
      "sigma_s=75 #MPs #shear stress\n",
      "G=85 #GPa\n",
      "\n",
      "#Calculations\n",
      "\n",
      "#D=2*d \n",
      "\n",
      "T=P*60000*(2*pi*N)**-1 #N*m #Torque Transmitted\n",
      "\n",
      "#T=pi*16**-1*(D**4-d**4)*D**-1*sigma_s #N*m\n",
      "\n",
      "#After substituting and simplifying above equations,we get,\n",
      "\n",
      "D=(T*16*pi**-1*(sigma_s*10**6)**-1)**(1*3**-1)\n",
      "d=D*2**-1\n",
      "X=5*(sigma_s*10**6)**2*(16*G*10**9)**-1\n",
      "\n",
      "#U*V**-1 #Energy stored\n",
      "#X=U*V**-1 #Energy stored #Notations has been changed\n",
      "\n",
      "#Result\n",
      "print\"Diameter of shaft is:D\",round(D,2),\"cm\"\n",
      "print\"                    :d\",round(d,2),\"cm\"\n",
      "print\"Energy stored per cubic meter is\",round(X,2),\"N/m**2\""
     ],
     "language": "python",
     "metadata": {},
     "outputs": [
      {
       "output_type": "stream",
       "stream": "stdout",
       "text": [
        "Diameter of shaft is:D 0.3 cm\n",
        "                    :d 0.15 cm\n",
        "Energy stored per cubic meter is 20680.15 N/m**2\n"
       ]
      }
     ],
     "prompt_number": 65
    },
    {
     "cell_type": "heading",
     "level": 2,
     "metadata": {},
     "source": [
      "Problem no 7.12,Page no.192"
     ]
    },
    {
     "cell_type": "code",
     "collapsed": false,
     "input": [
      "import math\n",
      "\n",
      "#Initilization of variables\n",
      "\n",
      "P=3680 #KW #Power transmitted\n",
      "N=110 #r.p.m \n",
      "X=20000 #N*m #Energy stored\n",
      "G=85 #GPa\n",
      "\n",
      "#Calculations\n",
      "\n",
      "\n",
      "#U*V**-1=X #Strain Energy per unit volume #Notification has been changed\n",
      "#X=sigma_s**2*(4*G)**-1*((D**2+d**2)*(D**2)**-1)\n",
      "\n",
      "T=P*60000*(2*pi*N)**-1 #N*m #Torque transmitted by shaft\n",
      "sigma_s=(20000*3*G*10**9)**(1*2**-1) #MPa #shear stress of shaft\n",
      "\n",
      "#T=pi*16**-1*((D**4-d**4)*D**-1)*sigma_s \n",
      "\n",
      "#After substituting and simplifying above equations,we get,\n",
      "\n",
      "d=((T*16*3**0.5)*(pi*8*sigma_s)**-1)**(1*3**-1)\n",
      "D=3**0.5*d \n",
      "\n",
      "#Result\n",
      "print\"Diameter of shaft is D=\",round(D,2),\"m\"\n",
      "print\"                     d=\",round(d,2),\"m\""
     ],
     "language": "python",
     "metadata": {},
     "outputs": [
      {
       "output_type": "stream",
       "stream": "stdout",
       "text": [
        "Diameter of shaft is D= 0.29 m\n",
        "                     d= 0.17 m\n"
       ]
      }
     ],
     "prompt_number": 83
    },
    {
     "cell_type": "heading",
     "level": 2,
     "metadata": {},
     "source": [
      "Problem no 7.13,Page no.193"
     ]
    },
    {
     "cell_type": "code",
     "collapsed": false,
     "input": [
      "import math\n",
      "\n",
      "#Initilization of variables\n",
      "\n",
      "D=8 #cm #Diameter of bronze\n",
      "d=5 #cm #diameter of steel shaft\n",
      "R_b=4 #cm #Radius of bronze\n",
      "R_s=2.5 #cm #Radius of steel shaft\n",
      "sigma_b=40 #MPa #shear stress of bronze\n",
      "sigma_s=65 #MPa #shear stress of steel shaft\n",
      "N=500 #r.p.m\n",
      "G_s=85 #GPa #Modulus of rigidity of steel\n",
      "G_b=45 #GPa #Modulus of rigidity of bronze\n",
      "\n",
      "#Calculations\n",
      "\n",
      "I_p_s=pi*32**-1*(5*10**-2)**4 #m**4 #Polar M.I of Steel shaft\n",
      "I_p_b=pi*32**-1*((8*10**-2)**4-(5*10**-2)**4) #m**4 #Polar M.I of Bronze shaft\n",
      "\n",
      "#T*(G_b*I_p_b)**-1=T_s*(G_s*I_s)**-1\n",
      "\n",
      "#After substituting and simplifying above equations,we get\n",
      "\n",
      "#T_b=2.94*T_s\n",
      "\n",
      "T_b=I_p_b*sigma_b*10**6*(R_b*10**-2)**-1 #N*m #Torque carried by bronze\n",
      "T_s=I_p_s*sigma_s*10**6*(R_s*10**-2)**-1 #N*m #Torque carried by steel shaft\n",
      "T_s_1=T_b*2.94**-1 #N*m \n",
      "\n",
      "T=T_b+T_s_1 #N*m #Total Torque\n",
      "P=(2*pi*N*T*(60000)**-1) #KW #Power transmitted\n",
      "\n",
      "#Result\n",
      "print\"Power transmitted by compound shaft is\",round(P,2),\"KW\""
     ],
     "language": "python",
     "metadata": {},
     "outputs": [
      {
       "output_type": "stream",
       "stream": "stdout",
       "text": [
        "Power transmitted by compound shaft is 239.11 KW\n"
       ]
      }
     ],
     "prompt_number": 78
    },
    {
     "cell_type": "heading",
     "level": 2,
     "metadata": {},
     "source": [
      "Problem no 7.14,Page no.194"
     ]
    },
    {
     "cell_type": "code",
     "collapsed": false,
     "input": [
      "import math\n",
      "\n",
      "#Initilization of variables\n",
      "\n",
      "d=10 #cm #Diameter of shaft\n",
      "r=5 #cm #radius of shaft\n",
      "P=100 #KW #Power \n",
      "N=120 #r.p.m \n",
      "n=6 \n",
      "L_k=14 #cm #Length of key\n",
      "B_k=2.5 #cm #width of key\n",
      "n=6 \n",
      "d_b=2 #cm #Diameter of bolt\n",
      "D_b=30 #cm #Diameter of bolt circle\n",
      "R_b=15 #cm #radius \n",
      "\n",
      "#Calculations\n",
      "\n",
      "T=(P*60000*(2*pi*N)**-1)*10**2 #N*m #Torque\n",
      "I_p=pi*32**-1*d**4 #Polar M.I of shaft\n",
      "sigma_s=T*r*(I_p)**-1 #N/cm**2\n",
      "sigma_k=T*(L_k*B_k*r)**-1 #N/cm**2\n",
      "sigma_b=T*4*(n*pi*d_b**2*R_b)**-1 #N/cm**2\n",
      "\n",
      "#Result\n",
      "print\"shear stress in shaft\",round(sigma_s,2),\"N/cmm**2\"\n",
      "print\"                Key\",round(sigma_k,2),\"N/cm**2\"\n",
      "print\"              bolts\",round(sigma_b,2),\"N/cm**2\" "
     ],
     "language": "python",
     "metadata": {},
     "outputs": [
      {
       "output_type": "stream",
       "stream": "stdout",
       "text": [
        "shear stress in shaft 4052.85 N/cmm**2\n",
        "                Key 4547.28 N/cm**2\n",
        "              bolts 2814.48 N/cm**2\n"
       ]
      }
     ],
     "prompt_number": 90
    }
   ],
   "metadata": {}
  }
 ]
}