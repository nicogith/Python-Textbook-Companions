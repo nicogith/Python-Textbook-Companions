{
 "metadata": {
  "name": "",
  "signature": "sha256:e9fb88f63f2c9c2769603c77ea25313f638342259fa02ac4950a18408033aeb6"
 },
 "nbformat": 3,
 "nbformat_minor": 0,
 "worksheets": [
  {
   "cells": [
    {
     "cell_type": "heading",
     "level": 1,
     "metadata": {},
     "source": [
      "Chapter9-Oscillators"
     ]
    },
    {
     "cell_type": "heading",
     "level": 2,
     "metadata": {},
     "source": [
      "Ex1-pg173"
     ]
    },
    {
     "cell_type": "code",
     "collapsed": false,
     "input": [
      "##Ex:9.1\n",
      "import math\n",
      "C=10.*10**-9;\n",
      "R=10000.;\n",
      "f=(1./(2.*math.pi*math.sqrt (6.)*C*R));\n",
      "print'%s %.2f %s'%(\"The freq of oscillation = \",f,\" Hz\");\n"
     ],
     "language": "python",
     "metadata": {},
     "outputs": [
      {
       "output_type": "stream",
       "stream": "stdout",
       "text": [
        "The freq of oscillation =  649.75  Hz\n"
       ]
      }
     ],
     "prompt_number": 1
    },
    {
     "cell_type": "heading",
     "level": 2,
     "metadata": {},
     "source": [
      "Ex2-pg173"
     ]
    },
    {
     "cell_type": "code",
     "collapsed": false,
     "input": [
      "##Ex:9.2\n",
      "import math\n",
      "r1=1000.;\n",
      "r2=1000.;\n",
      "c=100.*10**-9;\n",
      "f=(1./(2.*math.pi*c*r1));\n",
      "print'%s %.2f %s'%(\"The freq of oscillation at 1 kohm= \",f,\" Hz\");\n",
      "R1=6000.;\n",
      "R2=6000.;\n",
      "F=(1/(2.*math.pi*c*R1));\n",
      "print'%s %.2f %s'%(\"\\nThe freq of oscillation at 6 kohm= \",F,\" Hz\");"
     ],
     "language": "python",
     "metadata": {},
     "outputs": [
      {
       "output_type": "stream",
       "stream": "stdout",
       "text": [
        "The freq of oscillation at 1 kohm=  1591.55  Hz\n",
        "\n",
        "The freq of oscillation at 6 kohm=  265.26  Hz\n"
       ]
      }
     ],
     "prompt_number": 2
    },
    {
     "cell_type": "heading",
     "level": 2,
     "metadata": {},
     "source": [
      "Ex3-pg176"
     ]
    },
    {
     "cell_type": "code",
     "collapsed": false,
     "input": [
      "##Ex:9.3\n",
      "import math\n",
      "f=1000.;\n",
      "t=1./f;\n",
      "C=10.*10**-9;\n",
      "R=t/(1.4*C);\n",
      "print'%s %.2f %s'%(\"R= \",R/1000,\" kohm\");"
     ],
     "language": "python",
     "metadata": {},
     "outputs": [
      {
       "output_type": "stream",
       "stream": "stdout",
       "text": [
        "R=  71.43  kohm\n"
       ]
      }
     ],
     "prompt_number": 3
    }
   ],
   "metadata": {}
  }
 ]
}