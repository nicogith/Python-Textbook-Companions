{
 "metadata": {
  "name": "",
  "signature": "sha256:55165db38b61e651606f5e47e79ec33dbbcd65dc316fccbc779cf43ddfeefa00"
 },
 "nbformat": 3,
 "nbformat_minor": 0,
 "worksheets": [
  {
   "cells": [
    {
     "cell_type": "heading",
     "level": 1,
     "metadata": {},
     "source": [
      "Chapter5-Semiconductors"
     ]
    },
    {
     "cell_type": "heading",
     "level": 2,
     "metadata": {},
     "source": [
      "Ex1-pg90"
     ]
    },
    {
     "cell_type": "code",
     "collapsed": false,
     "input": [
      "##Ex:5.1\n",
      "import math\n",
      "v1=0.43;##volts\n",
      "i1=2.5*10**-3;##in Amps.\n",
      "v2=0.65;##volts\n",
      "i2=7.4*10**-3;##in Amps.\n",
      "r1=v1/i1;\n",
      "r2=v2/i2;\n",
      "print'%s %.2f %s'%(\"Diode resistance for 2.5A current = \",r1,\" ohms\");\n",
      "print'%s %.2f %s'%(\"\\n Diode resistance for 0.65V = \",r2,\" ohms\");"
     ],
     "language": "python",
     "metadata": {},
     "outputs": [
      {
       "output_type": "stream",
       "stream": "stdout",
       "text": [
        "Diode resistance for 2.5A current =  172.00  ohms\n",
        "\n",
        " Diode resistance for 0.65V =  87.84  ohms\n"
       ]
      }
     ],
     "prompt_number": 2
    },
    {
     "cell_type": "heading",
     "level": 2,
     "metadata": {},
     "source": [
      "Ex2-pg95"
     ]
    },
    {
     "cell_type": "code",
     "collapsed": false,
     "input": [
      "##Ex:5.2\n",
      "import math\n",
      "i=15.*10**-3;\n",
      "R=(21.-2.2)/i;\n",
      "v=18.8;##in volts\n",
      "P=i*v*1000.;\n",
      "print'%s %.2f %s %.2f %s '%(\"Resistor \",R,\" ohms\" and \" of \",P,\" mW\");"
     ],
     "language": "python",
     "metadata": {},
     "outputs": [
      {
       "output_type": "stream",
       "stream": "stdout",
       "text": [
        "Resistor  1253.33  of  282.00  mW \n"
       ]
      }
     ],
     "prompt_number": 3
    },
    {
     "cell_type": "heading",
     "level": 2,
     "metadata": {},
     "source": [
      "Ex3-pg96"
     ]
    },
    {
     "cell_type": "code",
     "collapsed": false,
     "input": [
      "##Ex:5.3\n",
      "import math\n",
      "I_c=30.;##in mA\n",
      "I_b=0.6;\n",
      "I_e=I_c+I_b;\n",
      "hfe=I_c/I_b;\n",
      "print'%s %.2f %s %.2f %s '%(\"Emitter current = \",I_e,\" ohms\" and    \"hfe = \",hfe,\"\");"
     ],
     "language": "python",
     "metadata": {},
     "outputs": [
      {
       "output_type": "stream",
       "stream": "stdout",
       "text": [
        "Emitter current =  30.60 hfe =  50.00  \n"
       ]
      }
     ],
     "prompt_number": 4
    },
    {
     "cell_type": "heading",
     "level": 2,
     "metadata": {},
     "source": [
      "Ex4-pg100"
     ]
    },
    {
     "cell_type": "code",
     "collapsed": false,
     "input": [
      "##Ex:5.4\n",
      "import math\n",
      "I_c=30.;##in mA\n",
      "I_b=0.6;\n",
      "I_e=I_c+I_b;\n",
      "hfe=I_c/I_b;\n",
      "print'%s %.2f %s %.2f %s '%(\"Emitter current = \",I_e,\" ohms\" and    \"hfe = \",hfe,\"\");"
     ],
     "language": "python",
     "metadata": {},
     "outputs": [
      {
       "output_type": "stream",
       "stream": "stdout",
       "text": [
        "Emitter current =  30.60 hfe =  50.00  \n"
       ]
      }
     ],
     "prompt_number": 5
    },
    {
     "cell_type": "heading",
     "level": 2,
     "metadata": {},
     "source": [
      "Ex5-pg100"
     ]
    },
    {
     "cell_type": "code",
     "collapsed": false,
     "input": [
      "##Ex:5.5\n",
      "import math\n",
      "I_e=98.;##in mA\n",
      "I_c=97.;\n",
      "I_b=I_e-I_c;\n",
      "hfe=I_c/I_b;\n",
      "print'%s %.2f %s %.2f %s '%(\"Emitter current = \",I_b,\" ohms\" and    \"hfe = \",hfe,\"\");"
     ],
     "language": "python",
     "metadata": {},
     "outputs": [
      {
       "output_type": "stream",
       "stream": "stdout",
       "text": [
        "Emitter current =  1.00 hfe =  97.00  \n"
       ]
      }
     ],
     "prompt_number": 6
    },
    {
     "cell_type": "heading",
     "level": 2,
     "metadata": {},
     "source": [
      "Ex6-pg100"
     ]
    },
    {
     "cell_type": "code",
     "collapsed": false,
     "input": [
      "##Ex:5.6\n",
      "import math\n",
      "I_c=1.5;##in A\n",
      "I_b=50.*10**-3;\n",
      "V_ce=6.;##volts\n",
      "hfe=I_c/I_b;\n",
      "P=I_c*V_ce;\n",
      "print'%s %.2f %s'%(\"hfe required = \",hfe,\"\");\n",
      "print'%s %.2f %s'%(\"\\n collector power dissipation = \",P,\" W\");"
     ],
     "language": "python",
     "metadata": {},
     "outputs": [
      {
       "output_type": "stream",
       "stream": "stdout",
       "text": [
        "hfe required =  30.00 \n",
        "\n",
        " collector power dissipation =  9.00  W\n"
       ]
      }
     ],
     "prompt_number": 7
    },
    {
     "cell_type": "heading",
     "level": 2,
     "metadata": {},
     "source": [
      "Ex7-pg102"
     ]
    },
    {
     "cell_type": "code",
     "collapsed": false,
     "input": [
      "##Ex:5.7\n",
      "import math\n",
      "hfe=200.\n",
      "I_c=10.*10**-3;\n",
      "dI_b=I_c/hfe;\n",
      "dI_c=hfe*dI_b/100.;\n",
      "print'%s %.4f %s'%(\"Base current = \",dI_b,\" A \");\n",
      "print'%s %.4f %s'%(\"\\nChange in collector current = \",dI_c,\" mA\");"
     ],
     "language": "python",
     "metadata": {},
     "outputs": [
      {
       "output_type": "stream",
       "stream": "stdout",
       "text": [
        "Base current =  0.0001  A \n",
        "\n",
        "Change in collector current =  0.0001  mA\n"
       ]
      }
     ],
     "prompt_number": 8
    },
    {
     "cell_type": "heading",
     "level": 2,
     "metadata": {},
     "source": [
      "Ex8-pg104"
     ]
    },
    {
     "cell_type": "code",
     "collapsed": false,
     "input": [
      "##Ex:5.8\n",
      "import math\n",
      "dV_gs=0.025;\n",
      "g_fs=-0.5;\n",
      "dI_d=dV_gs*g_fs;##in mA\n",
      "I_d1=50.*10**-3;##in mA\n",
      "I_d2=dI_d+I_d1;\n",
      "print'%s %.2f %s'%(\"Change in drain current = \",dI_d,\" A\");\n",
      "print'%s %.2f %s'%(\"\\nNew value of drain current = \",I_d2,\" A\");"
     ],
     "language": "python",
     "metadata": {},
     "outputs": [
      {
       "output_type": "stream",
       "stream": "stdout",
       "text": [
        "Change in drain current =  -0.01  A\n",
        "\n",
        "New value of drain current =  0.04  A\n"
       ]
      }
     ],
     "prompt_number": 9
    }
   ],
   "metadata": {}
  }
 ]
}