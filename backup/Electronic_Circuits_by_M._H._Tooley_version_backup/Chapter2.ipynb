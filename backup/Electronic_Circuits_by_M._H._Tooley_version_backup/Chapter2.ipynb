{
 "metadata": {
  "name": "",
  "signature": "sha256:b5194708e2447220722c4dfa1402fc797342ce58013c4fb6e50908b3fd6172f1"
 },
 "nbformat": 3,
 "nbformat_minor": 0,
 "worksheets": [
  {
   "cells": [
    {
     "cell_type": "heading",
     "level": 1,
     "metadata": {},
     "source": [
      "Chapter2-Passive Components "
     ]
    },
    {
     "cell_type": "heading",
     "level": 2,
     "metadata": {},
     "source": [
      "Ex1-pg23"
     ]
    },
    {
     "cell_type": "code",
     "collapsed": false,
     "input": [
      "##Ex:2.1\n",
      "import math\n",
      "marked=220.;##in ohms\n",
      "measured=207.;##in ohms\n",
      "err=marked-measured;\n",
      "tol=(err/marked)*100.;\n",
      "print'%s %.2f %s'%(\"Tolerance = \",tol,\"\");\n"
     ],
     "language": "python",
     "metadata": {},
     "outputs": [
      {
       "output_type": "stream",
       "stream": "stdout",
       "text": [
        "Tolerance =  5.91 \n"
       ]
      }
     ],
     "prompt_number": 1
    },
    {
     "cell_type": "heading",
     "level": 2,
     "metadata": {},
     "source": [
      "Ex2-pg23"
     ]
    },
    {
     "cell_type": "code",
     "collapsed": false,
     "input": [
      "##Ex:2.2\n",
      "import math\n",
      "r=39.;##in ohms\n",
      "v=9.;##in volts\n",
      "i=(v/r);##in Amps\n",
      "print'%s %.2f %s'%(\"Current = \",i*1000,\" mA\");\n",
      "tol=0.1;##i.e, 10%\n",
      "r_min=r-(tol*r);\n",
      "i_max=v/r_min;\n",
      "r_max=r+(tol*r);\n",
      "i_min=v/r_max;\n",
      "print'%s %.2f %s %.2f %s '%(\"\\n  Max.Current = \",i_max*1000,\" mA \" and \"\",i_min*1000,\" Min Current\");"
     ],
     "language": "python",
     "metadata": {},
     "outputs": [
      {
       "output_type": "stream",
       "stream": "stdout",
       "text": [
        "Current =  230.77  mA\n",
        "\n",
        "  Max.Current =  256.41  209.79  Min Current \n"
       ]
      }
     ],
     "prompt_number": 3
    },
    {
     "cell_type": "heading",
     "level": 2,
     "metadata": {},
     "source": [
      "Ex3-pg23"
     ]
    },
    {
     "cell_type": "code",
     "collapsed": false,
     "input": [
      "##Ex:2.3\n",
      "import math\n",
      "v=28.;##in volts\n",
      "i=0.1;##in A\n",
      "r=v/i;\n",
      "p=v*i;\n",
      "print'%s %.2f %s %.2f %s '%(\"Resistance Value = \",r,\" ohms & Power dissipated\"\" = \",p,\" W\");\n"
     ],
     "language": "python",
     "metadata": {},
     "outputs": [
      {
       "output_type": "stream",
       "stream": "stdout",
       "text": [
        "Resistance Value =  280.00  ohms & Power dissipated =  2.80  W \n"
       ]
      }
     ],
     "prompt_number": 4
    },
    {
     "cell_type": "heading",
     "level": 2,
     "metadata": {},
     "source": [
      "Ex4-pg24"
     ]
    },
    {
     "cell_type": "code",
     "collapsed": false,
     "input": [
      "##Ex:2.4\n",
      "import math\n",
      "r=10*(10**2);\n",
      "print'%s %.2f %s'%(\"Resistor value = \",r,\" ohm\");\n",
      "print(\"\\nTolerance = 10 \");\n"
     ],
     "language": "python",
     "metadata": {},
     "outputs": [
      {
       "output_type": "stream",
       "stream": "stdout",
       "text": [
        "Resistor value =  1000.00  ohm\n",
        "\n",
        "Tolerance = 10 \n"
       ]
      }
     ],
     "prompt_number": 5
    },
    {
     "cell_type": "heading",
     "level": 2,
     "metadata": {},
     "source": [
      "Ex5-pg24"
     ]
    },
    {
     "cell_type": "code",
     "collapsed": false,
     "input": [
      "##Ex:2.5\n",
      "import math\n",
      "r=27.*(10**3);\n",
      "print'%s %.2f %s'%(\"Resistor value = \",r,\" ohm\");\n",
      "print(\"\\nTolerance = 5 \");\n"
     ],
     "language": "python",
     "metadata": {},
     "outputs": [
      {
       "output_type": "stream",
       "stream": "stdout",
       "text": [
        "Resistor value =  27000.00  ohm\n",
        "\n",
        "Tolerance = 5 \n"
       ]
      }
     ],
     "prompt_number": 6
    },
    {
     "cell_type": "heading",
     "level": 2,
     "metadata": {},
     "source": [
      "Ex6-pg24"
     ]
    },
    {
     "cell_type": "code",
     "collapsed": false,
     "input": [
      "##Ex:2.6\n",
      "import math\n",
      "r=56*(10);\n",
      "print'%s %.2f %s'%(\"Resistor value = \",r,\" ohm\");\n",
      "print(\"\\nTolerance = 5 \");\n"
     ],
     "language": "python",
     "metadata": {},
     "outputs": [
      {
       "output_type": "stream",
       "stream": "stdout",
       "text": [
        "Resistor value =  560.00  ohm\n",
        "\n",
        "Tolerance = 5 \n"
       ]
      }
     ],
     "prompt_number": 7
    },
    {
     "cell_type": "heading",
     "level": 2,
     "metadata": {},
     "source": [
      "Ex7-pg24"
     ]
    },
    {
     "cell_type": "code",
     "collapsed": false,
     "input": [
      "##Ex:2.7\n",
      "import math\n",
      "r=25.*(10**0);\n",
      "print'%s %.2f %s'%(\"Resistor value = \",r,\" ohm\");\n",
      "print(\"\\nTolerance = 20 \");\n"
     ],
     "language": "python",
     "metadata": {},
     "outputs": [
      {
       "output_type": "stream",
       "stream": "stdout",
       "text": [
        "Resistor value =  25.00  ohm\n",
        "\n",
        "Tolerance = 20 \n"
       ]
      }
     ],
     "prompt_number": 8
    },
    {
     "cell_type": "heading",
     "level": 2,
     "metadata": {},
     "source": [
      "Ex8-pg25"
     ]
    },
    {
     "cell_type": "code",
     "collapsed": false,
     "input": [
      "##Ex:2.8\n",
      "import math\n",
      "r=22.*(10**3);\n",
      "print(\"Bands are Red, Red, Red, Red\");\n",
      "\n"
     ],
     "language": "python",
     "metadata": {},
     "outputs": [
      {
       "output_type": "stream",
       "stream": "stdout",
       "text": [
        "Bands are Red, Red, Red, Red\n"
       ]
      }
     ],
     "prompt_number": 9
    },
    {
     "cell_type": "heading",
     "level": 2,
     "metadata": {},
     "source": [
      "Ex9-pg25"
     ]
    },
    {
     "cell_type": "code",
     "collapsed": false,
     "input": [
      "##Ex:2.9\n",
      "import math\n",
      "print(\"Resistance = 4.7 ohm with 10%% tolerance\");\n",
      "\n"
     ],
     "language": "python",
     "metadata": {},
     "outputs": [
      {
       "output_type": "stream",
       "stream": "stdout",
       "text": [
        "Resistance = 4.7 ohm with 10%% tolerance\n"
       ]
      }
     ],
     "prompt_number": 10
    },
    {
     "cell_type": "heading",
     "level": 2,
     "metadata": {},
     "source": [
      "Ex10-pg25"
     ]
    },
    {
     "cell_type": "code",
     "collapsed": false,
     "input": [
      "##Ex:2.10\n",
      "import math\n",
      "print(\"Resistance = 330 ohms with 2%% tolerance\");"
     ],
     "language": "python",
     "metadata": {},
     "outputs": [
      {
       "output_type": "stream",
       "stream": "stdout",
       "text": [
        "Resistance = 330 ohms with 2%% tolerance\n"
       ]
      }
     ],
     "prompt_number": 11
    },
    {
     "cell_type": "heading",
     "level": 2,
     "metadata": {},
     "source": [
      "Ex11-pg26"
     ]
    },
    {
     "cell_type": "code",
     "collapsed": false,
     "input": [
      "##Ex:2.11\n",
      "import math\n",
      "print(\"Resistance = 0.22 ohm with 20%% tolerance\");"
     ],
     "language": "python",
     "metadata": {},
     "outputs": [
      {
       "output_type": "stream",
       "stream": "stdout",
       "text": [
        "Resistance = 0.22 ohm with 20%% tolerance\n"
       ]
      }
     ],
     "prompt_number": 12
    },
    {
     "cell_type": "heading",
     "level": 2,
     "metadata": {},
     "source": [
      "Ex12-pg26"
     ]
    },
    {
     "cell_type": "code",
     "collapsed": false,
     "input": [
      "##Ex:2.12\n",
      "import math\n",
      "r1=22.;##in ohms\n",
      "r2=47.;##in ohms\n",
      "r3=33.;##in ohms\n",
      "r_ser=r1+r2+r3;\n",
      "print'%s %.2f %s'%(\"Effective resistance in series = \",r_ser,\" ohms\");\n",
      "r_parel=((1./r1)+(1./r2)+(1./r3))**-1;\n",
      "print'%s %.2f %s'%(\"\\n Effective resistance in parallel = \",r_parel,\" ohms\");\n"
     ],
     "language": "python",
     "metadata": {},
     "outputs": [
      {
       "output_type": "stream",
       "stream": "stdout",
       "text": [
        "Effective resistance in series =  102.00  ohms\n",
        "\n",
        " Effective resistance in parallel =  10.31  ohms\n"
       ]
      }
     ],
     "prompt_number": 13
    },
    {
     "cell_type": "heading",
     "level": 2,
     "metadata": {},
     "source": [
      "Ex13-pg27"
     ]
    },
    {
     "cell_type": "code",
     "collapsed": false,
     "input": [
      "##Ex:2.13\n",
      "import math\n",
      "r1=4.7;##in ohms\n",
      "r2=47.;##in ohms\n",
      "r3=12.;##in ohms\n",
      "r4=27.;##in ohms\n",
      "r5=r3+r4;\n",
      "r_parel=((1./r5)+(1./r2))**-1;\n",
      "r_eff=r_parel+r1;\n",
      "print'%s %.2f %s'%(\"Effective resistance = \",r_eff,\" ohms\");\n"
     ],
     "language": "python",
     "metadata": {},
     "outputs": [
      {
       "output_type": "stream",
       "stream": "stdout",
       "text": [
        "Effective resistance =  26.01  ohms\n"
       ]
      }
     ],
     "prompt_number": 14
    },
    {
     "cell_type": "heading",
     "level": 2,
     "metadata": {},
     "source": [
      "Ex14-pg27"
     ]
    },
    {
     "cell_type": "code",
     "collapsed": false,
     "input": [
      "##Ex:2.14\n",
      "import math\n",
      "print(\"Two 100 ohm resistor of 1 W\");\n"
     ],
     "language": "python",
     "metadata": {},
     "outputs": [
      {
       "output_type": "stream",
       "stream": "stdout",
       "text": [
        "Two 100 ohm resistor of 1 W\n"
       ]
      }
     ],
     "prompt_number": 15
    },
    {
     "cell_type": "heading",
     "level": 2,
     "metadata": {},
     "source": [
      "Ex15-pg28"
     ]
    },
    {
     "cell_type": "code",
     "collapsed": false,
     "input": [
      "##Ex:2.15\n",
      "import math\n",
      "temp_coeff=0.001;##in per degree centigrade\n",
      "r_o=1500.;##in ohm\n",
      "t=80.;##temperature diff.\n",
      "r_t=r_o*(1.+(temp_coeff)*t)\n",
      "print'%s %.2f %s'%(\"Resistance at \",r_t,\" degree = ohms\");\n"
     ],
     "language": "python",
     "metadata": {},
     "outputs": [
      {
       "output_type": "stream",
       "stream": "stdout",
       "text": [
        "Resistance at  1620.00  degree = ohms\n"
       ]
      }
     ],
     "prompt_number": 16
    },
    {
     "cell_type": "heading",
     "level": 2,
     "metadata": {},
     "source": [
      "Ex16-pg28"
     ]
    },
    {
     "cell_type": "code",
     "collapsed": false,
     "input": [
      "##Ex:2.16\n",
      "import math\n",
      "temp_coeff=0.0005;##in per degree centigrade\n",
      "r_t1=680.;##in ohm\n",
      "t1=20.;##temperature diff.\n",
      "t2=90.;\n",
      "r_o=r_t1/(1.+(temp_coeff)*t1);\n",
      "r_t2=r_o*(1.+(temp_coeff)*t2);\n",
      "print'%s %.2f %s %.2f %s '%(\"Resistance at \",t2,\" degree = \",r_t2,\" ohms\");\n"
     ],
     "language": "python",
     "metadata": {},
     "outputs": [
      {
       "output_type": "stream",
       "stream": "stdout",
       "text": [
        "Resistance at  90.00  degree =  703.56  ohms \n"
       ]
      }
     ],
     "prompt_number": 17
    },
    {
     "cell_type": "heading",
     "level": 2,
     "metadata": {},
     "source": [
      "Ex17-pg29"
     ]
    },
    {
     "cell_type": "code",
     "collapsed": false,
     "input": [
      "##Ex:2.17\n",
      "import math\n",
      "r_o=40.;##resis at 0 degree\n",
      "r_t=44.;##at 100 degree\n",
      "t=100.;##temperature diff.\n",
      "temp_coeff=(1./t)*((r_t/r_o)-1.);\n",
      "print'%s %.2e %s'%(\"Temperature Coefficient = \",temp_coeff,\" per degree centigrade\");\n"
     ],
     "language": "python",
     "metadata": {},
     "outputs": [
      {
       "output_type": "stream",
       "stream": "stdout",
       "text": [
        "Temperature Coefficient =  1.00e-03  per degree centigrade\n"
       ]
      }
     ],
     "prompt_number": 18
    },
    {
     "cell_type": "heading",
     "level": 2,
     "metadata": {},
     "source": [
      "Ex18-pg33"
     ]
    },
    {
     "cell_type": "code",
     "collapsed": false,
     "input": [
      "##Ex:2.18\n",
      "import math\n",
      "V_1=50.;\n",
      "V_2=10.;\n",
      "dV=V_1-V_2;##in volts\n",
      "dt=0.1;##in seconds\n",
      "C=22.*10**-6;\n",
      "i=C*(dV/dt)*1000.;##in mA\n",
      "print'%s %.2f %s'%(\"Current flow = \",i,\" milliAmps\");"
     ],
     "language": "python",
     "metadata": {},
     "outputs": [
      {
       "output_type": "stream",
       "stream": "stdout",
       "text": [
        "Current flow =  8.80  milliAmps\n"
       ]
      }
     ],
     "prompt_number": 19
    },
    {
     "cell_type": "heading",
     "level": 2,
     "metadata": {},
     "source": [
      "Ex19-pg33"
     ]
    },
    {
     "cell_type": "code",
     "collapsed": false,
     "input": [
      "##Ex:2.19\n",
      "import math\n",
      "C=10.*10**-6;\n",
      "V=250.;##in volts\n",
      "Q=V*C*1000.;##in millicoulomb\n",
      "print'%s %.2f %s'%(\"Charged stored =\",Q,\" mC\");"
     ],
     "language": "python",
     "metadata": {},
     "outputs": [
      {
       "output_type": "stream",
       "stream": "stdout",
       "text": [
        "Charged stored = 2.50  mC\n"
       ]
      }
     ],
     "prompt_number": 20
    },
    {
     "cell_type": "heading",
     "level": 2,
     "metadata": {},
     "source": [
      "Ex20-pg33"
     ]
    },
    {
     "cell_type": "code",
     "collapsed": false,
     "input": [
      "##Ex:2.20\n",
      "import math\n",
      "C=47.*10**-6;##in farads\n",
      "W=4.;##energy in joules\n",
      "V=math.sqrt(W/(0.5*C));\n",
      "print'%s %.2f %s'%(\"Voltage tht be applied = \",V,\" volts\");"
     ],
     "language": "python",
     "metadata": {},
     "outputs": [
      {
       "output_type": "stream",
       "stream": "stdout",
       "text": [
        "Voltage tht be applied =  412.57  volts\n"
       ]
      }
     ],
     "prompt_number": 21
    },
    {
     "cell_type": "heading",
     "level": 2,
     "metadata": {},
     "source": [
      "Ex21-pg34"
     ]
    },
    {
     "cell_type": "code",
     "collapsed": false,
     "input": [
      "##Ex:2.21\n",
      "import math\n",
      "E_o=8.85*10**-12;\n",
      "E_r=5.4;\n",
      "C=1*10**-9;\n",
      "d=0.1*10**-3;\n",
      "A=(C*d)/(E_o*E_r)*10**4;\n",
      "print'%s %.2f %s'%(\"Required plate area = \",A,\" sq. cm\");"
     ],
     "language": "python",
     "metadata": {},
     "outputs": [
      {
       "output_type": "stream",
       "stream": "stdout",
       "text": [
        "Required plate area =  20.92  sq. cm\n"
       ]
      }
     ],
     "prompt_number": 22
    },
    {
     "cell_type": "heading",
     "level": 2,
     "metadata": {},
     "source": [
      "Ex22-pg34"
     ]
    },
    {
     "cell_type": "code",
     "collapsed": false,
     "input": [
      "##Ex:2.22\n",
      "import math\n",
      "E_o=8.85*10**-12;\n",
      "E_r=4.5;\n",
      "n=6.;##no. of plates\n",
      "d=0.2*10**-3;##in meter\n",
      "A=20.*10**-4;##in sq.meter\n",
      "C=((E_o*E_r*(n-1.)*A)/d)*10**11;\n",
      "print'%s %.2f %s'%(\"Capacitance = \",C,\" pF\");"
     ],
     "language": "python",
     "metadata": {},
     "outputs": [
      {
       "output_type": "stream",
       "stream": "stdout",
       "text": [
        "Capacitance =  199.12  pF\n"
       ]
      }
     ],
     "prompt_number": 23
    },
    {
     "cell_type": "heading",
     "level": 2,
     "metadata": {},
     "source": [
      "Ex23-pg36"
     ]
    },
    {
     "cell_type": "code",
     "collapsed": false,
     "input": [
      "##Ex:2.23\n",
      "import math\n",
      "print(\"Capacitance = 10000 pF of 10%%\"); "
     ],
     "language": "python",
     "metadata": {},
     "outputs": [
      {
       "output_type": "stream",
       "stream": "stdout",
       "text": [
        "Capacitance = 10000 pF of 10%%\n"
       ]
      }
     ],
     "prompt_number": 24
    },
    {
     "cell_type": "heading",
     "level": 2,
     "metadata": {},
     "source": [
      "Ex24-pg36"
     ]
    },
    {
     "cell_type": "code",
     "collapsed": false,
     "input": [
      "##Ex:2.24\n",
      "import math\n",
      "print(\"Capacitance = 150 pF of 2%% tolerance at 100 V\");"
     ],
     "language": "python",
     "metadata": {},
     "outputs": [
      {
       "output_type": "stream",
       "stream": "stdout",
       "text": [
        "Capacitance = 150 pF of 2%% tolerance at 100 V\n"
       ]
      }
     ],
     "prompt_number": 25
    },
    {
     "cell_type": "heading",
     "level": 2,
     "metadata": {},
     "source": [
      "Ex25-pg37"
     ]
    },
    {
     "cell_type": "code",
     "collapsed": false,
     "input": [
      "##Ex:2.25\n",
      "import math\n",
      "C1=2.;##in nF\n",
      "C2=4.;##in nF\n",
      "C3=2.;\n",
      "C4=4.;\n",
      "C_a=C1+C2;\n",
      "C_b=C_a*C3/(C_a+C3);\n",
      "C_eff=C4+C_b;\n",
      "print'%s %.2f %s'%(\"Capacitance = \",C_eff,\" nF\");"
     ],
     "language": "python",
     "metadata": {},
     "outputs": [
      {
       "output_type": "stream",
       "stream": "stdout",
       "text": [
        "Capacitance =  5.50  nF\n"
       ]
      }
     ],
     "prompt_number": 26
    },
    {
     "cell_type": "heading",
     "level": 2,
     "metadata": {},
     "source": [
      "Ex26-pg37"
     ]
    },
    {
     "cell_type": "code",
     "collapsed": false,
     "input": [
      "##Ex:2.26\n",
      "import math\n",
      "C=100.;##in uF\n",
      "C_eff=C*C/(C+C);\n",
      "print'%s %.2f %s'%(\"Two capacitors of  uF be in parallel used to make \",C_eff,\" uF capacitance\");"
     ],
     "language": "python",
     "metadata": {},
     "outputs": [
      {
       "output_type": "stream",
       "stream": "stdout",
       "text": [
        "Two capacitors of  uF be in parallel used to make  50.00  uF capacitance\n"
       ]
      }
     ],
     "prompt_number": 27
    },
    {
     "cell_type": "heading",
     "level": 2,
     "metadata": {},
     "source": [
      "Ex27-pg40"
     ]
    },
    {
     "cell_type": "code",
     "collapsed": false,
     "input": [
      "##Ex:2.27\n",
      "import math\n",
      "L=600.*10**-3;##in H\n",
      "I1=6.;##in A\n",
      "I2=2.;##in A\n",
      "dI=I1-I2;\n",
      "dt=250.*10**-3;##in sec.\n",
      "E=-L*(dI/dt);\n",
      "print'%s %.2f %s'%(\"Induced voltage = \",E,\" volts\");"
     ],
     "language": "python",
     "metadata": {},
     "outputs": [
      {
       "output_type": "stream",
       "stream": "stdout",
       "text": [
        "Induced voltage =  -9.60  volts\n"
       ]
      }
     ],
     "prompt_number": 28
    },
    {
     "cell_type": "heading",
     "level": 2,
     "metadata": {},
     "source": [
      "Ex28-pg40"
     ]
    },
    {
     "cell_type": "code",
     "collapsed": false,
     "input": [
      "##Ex:2.28\n",
      "import math\n",
      "E=2.5;##energy in joules\n",
      "L=20.*10**-3;##in henry\n",
      "I=math.sqrt(E/(0.5*L));\n",
      "print'%s %.2f %s'%(\"Current = \",I,\" A\");"
     ],
     "language": "python",
     "metadata": {},
     "outputs": [
      {
       "output_type": "stream",
       "stream": "stdout",
       "text": [
        "Current =  15.81  A\n"
       ]
      }
     ],
     "prompt_number": 29
    },
    {
     "cell_type": "heading",
     "level": 2,
     "metadata": {},
     "source": [
      "Ex29-pg40"
     ]
    },
    {
     "cell_type": "code",
     "collapsed": false,
     "input": [
      "##Ex:2.29\n",
      "import math\n",
      "u_o=12.57*10**-7;\n",
      "u_r=500.;\n",
      "A=15.*10**-4;##area of cross-section in sq. meters\n",
      "l=20.*10**-2;##length\n",
      "L=100.*10**-3;##in henry\n",
      "n=math.sqrt((L*l)/(u_r*u_o*A));\n",
      "print'%s %.2f %s'%(\"Inductor requires \",n,\" turns of wire\");"
     ],
     "language": "python",
     "metadata": {},
     "outputs": [
      {
       "output_type": "stream",
       "stream": "stdout",
       "text": [
        "Inductor requires  145.65  turns of wire\n"
       ]
      }
     ],
     "prompt_number": 30
    },
    {
     "cell_type": "heading",
     "level": 2,
     "metadata": {},
     "source": [
      "Ex30-pg42"
     ]
    },
    {
     "cell_type": "code",
     "collapsed": false,
     "input": [
      "##Ex:2.30\n",
      "import math\n",
      "##L=(L1*L2)/(L1+L2)\n",
      "L_eq=5.;##in millihenry\n",
      "print'%s %.2f %s'%(\"Inductor of 10 mH wired in parallel would provide \",L_eq,\" mH\");"
     ],
     "language": "python",
     "metadata": {},
     "outputs": [
      {
       "output_type": "stream",
       "stream": "stdout",
       "text": [
        "Inductor of 10 mH wired in parallel would provide  5.00  mH\n"
       ]
      }
     ],
     "prompt_number": 31
    },
    {
     "cell_type": "heading",
     "level": 2,
     "metadata": {},
     "source": [
      "Ex31-pg42"
     ]
    },
    {
     "cell_type": "code",
     "collapsed": false,
     "input": [
      "##Ex:2.31\n",
      "import math\n",
      "L1=60.;##in mH\n",
      "L2=60.;##in mH\n",
      "L_a=L1+L2;\n",
      "L3=120.;##in mH\n",
      "L_b=L_a*L3/(L_a+L3);\n",
      "L4=50.;##in mH\n",
      "L_eq=L4+L_b;\n",
      "print'%s %.2f %s'%(\"Equivalent Inductance = \",L_eq,\" mH\");"
     ],
     "language": "python",
     "metadata": {},
     "outputs": [
      {
       "output_type": "stream",
       "stream": "stdout",
       "text": [
        "Equivalent Inductance =  110.00  mH\n"
       ]
      }
     ],
     "prompt_number": 32
    }
   ],
   "metadata": {}
  }
 ]
}