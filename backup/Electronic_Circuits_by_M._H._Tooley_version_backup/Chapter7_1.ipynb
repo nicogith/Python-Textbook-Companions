{
 "metadata": {
  "name": "",
  "signature": "sha256:2256e43b0ccc4d0255b5cf781a9c914f08adb93f8f0caa254bf09c9ef401f2ba"
 },
 "nbformat": 3,
 "nbformat_minor": 0,
 "worksheets": [
  {
   "cells": [
    {
     "cell_type": "heading",
     "level": 1,
     "metadata": {},
     "source": [
      "Chapter7-Amplifiers"
     ]
    },
    {
     "cell_type": "heading",
     "level": 2,
     "metadata": {},
     "source": [
      "Ex1-pg132"
     ]
    },
    {
     "cell_type": "code",
     "collapsed": false,
     "input": [
      "##Ex:7.1\n",
      "import math\n",
      "I_i=4.;\n",
      "V_o=2.;\n",
      "V_i=50.*10**-3;\n",
      "I_o=200.;\n",
      "A_v=V_o/V_i;\n",
      "A_i=I_o/I_i;\n",
      "print'%s %.2f %s'%(\" Volt gain =  \",A_v,\"\"); \n",
      "print'%s %.2f %s'%(\"\\n Current gain =  \",A_i,\"\"); \n",
      "print'%s %.2f %s'%(\"\\n Power gain =  \",A_i*A_v,\"\");   \n",
      "                     "
     ],
     "language": "python",
     "metadata": {},
     "outputs": [
      {
       "output_type": "stream",
       "stream": "stdout",
       "text": [
        " Volt gain =   40.00 \n",
        "\n",
        " Current gain =   50.00 \n",
        "\n",
        " Power gain =   2000.00 \n"
       ]
      }
     ],
     "prompt_number": 1
    },
    {
     "cell_type": "heading",
     "level": 2,
     "metadata": {},
     "source": [
      "Ex2-pg136"
     ]
    },
    {
     "cell_type": "code",
     "collapsed": false,
     "input": [
      "##Ex:7.2\n",
      "import math\n",
      "A_v_max=35.;\n",
      "A_v_cutoff=0.707*A_v_max;\n",
      "print'%s %.2f %s'%(\" Mid-band Volt gain =  \",A_v_cutoff,\"\"); \n",
      "print(\"\\n upper freq = 590Hz & lower freq = 57Hz\"); \n",
      "  \n",
      "                     "
     ],
     "language": "python",
     "metadata": {},
     "outputs": [
      {
       "output_type": "stream",
       "stream": "stdout",
       "text": [
        " Mid-band Volt gain =   24.74 \n",
        "\n",
        " upper freq = 590Hz & lower freq = 57Hz\n"
       ]
      }
     ],
     "prompt_number": 2
    },
    {
     "cell_type": "heading",
     "level": 2,
     "metadata": {},
     "source": [
      "Ex3-pg137"
     ]
    },
    {
     "cell_type": "code",
     "collapsed": false,
     "input": [
      "##Ex:7.3\n",
      "import math\n",
      "A=50.;\n",
      "b=0.1;\n",
      "G=A/(1.+b*A);\n",
      "print'%s %.2f %s'%(\" overall Volt gain =  \",G,\"\"); \n"
     ],
     "language": "python",
     "metadata": {},
     "outputs": [
      {
       "output_type": "stream",
       "stream": "stdout",
       "text": [
        " overall Volt gain =   8.33 \n"
       ]
      }
     ],
     "prompt_number": 3
    },
    {
     "cell_type": "heading",
     "level": 2,
     "metadata": {},
     "source": [
      "Ex4-pg138"
     ]
    },
    {
     "cell_type": "code",
     "collapsed": false,
     "input": [
      "##Ex:7.4\n",
      "import math\n",
      "A=50.;\n",
      "A_new=A+0.2*A;\n",
      "b=0.1;\n",
      "G=A_new/(1.+b*A_new);\n",
      "dG=8.33-G/8.33;\n",
      "print'%s %.2f %s'%(\" percentage change in overall volt gain = \",dG,\"\"); \n"
     ],
     "language": "python",
     "metadata": {},
     "outputs": [
      {
       "output_type": "stream",
       "stream": "stdout",
       "text": [
        " percentage change in overall volt gain =  7.30 \n"
       ]
      }
     ],
     "prompt_number": 4
    },
    {
     "cell_type": "heading",
     "level": 2,
     "metadata": {},
     "source": [
      "Ex5-pg138"
     ]
    },
    {
     "cell_type": "code",
     "collapsed": false,
     "input": [
      "##Ex:7.5\n",
      "import math\n",
      "A=100.;\n",
      "G=20.;\n",
      "b=(1./G)-(1./A);\n",
      "print'%s %.2f %s'%(\"amount of feedback required =  \",b,\"\"); \n"
     ],
     "language": "python",
     "metadata": {},
     "outputs": [
      {
       "output_type": "stream",
       "stream": "stdout",
       "text": [
        "amount of feedback required =   0.04 \n"
       ]
      }
     ],
     "prompt_number": 5
    },
    {
     "cell_type": "heading",
     "level": 2,
     "metadata": {},
     "source": [
      "Ex6-pg143"
     ]
    },
    {
     "cell_type": "code",
     "collapsed": false,
     "input": [
      "##Ex:7.6\n",
      "import math\n",
      "h_oe=80.*10**-6;\n",
      "R_l=10000.;\n",
      "I_f=320.*10**-6;\n",
      "I_c=I_f*(1./h_oe)/((1./h_oe)+R_l);\n",
      "V_out=I_c*R_l;\n",
      "print'%s %.2f %s'%(\"Output voltage = \",V_out,\" V\"); \n"
     ],
     "language": "python",
     "metadata": {},
     "outputs": [
      {
       "output_type": "stream",
       "stream": "stdout",
       "text": [
        "Output voltage =  1.78  V\n"
       ]
      }
     ],
     "prompt_number": 6
    },
    {
     "cell_type": "heading",
     "level": 2,
     "metadata": {},
     "source": [
      "Ex7-pg144"
     ]
    },
    {
     "cell_type": "code",
     "collapsed": false,
     "input": [
      "##Ex:7.7\n",
      "import math\n",
      "b=200.;\n",
      "h_ie=1.5*10**3;##in ohms\n",
      "h_fe=150.;\n",
      "R_l=b*h_ie/h_fe;\n",
      "print'%s %.2f %s'%(\"Load resistance = \",R_l,\" ohms\"); \n"
     ],
     "language": "python",
     "metadata": {},
     "outputs": [
      {
       "output_type": "stream",
       "stream": "stdout",
       "text": [
        "Load resistance =  2000.00  ohms\n"
       ]
      }
     ],
     "prompt_number": 7
    },
    {
     "cell_type": "heading",
     "level": 2,
     "metadata": {},
     "source": [
      "Ex8-pg145"
     ]
    },
    {
     "cell_type": "code",
     "collapsed": false,
     "input": [
      "##Ex:7.8\n",
      "import math\n",
      "V=9.;\n",
      "V_e=2.;\n",
      "R4=1000.;\n",
      "V_b=2.6;\n",
      "R2=33.*10**3;\n",
      "R1=68000.;\n",
      "I_r1=(V-V_b)/R1;\n",
      "R3=2.2*10**3;\n",
      "I_b=15.1*10**-6;\n",
      "I_c=2.0151*10**-3;\n",
      "V_r3=I_c*R3;\n",
      "V_c=V-V_r3;\n",
      "print'%s %.2f %s'%(\"Collector voltage = \",V_c,\" V\"); \n"
     ],
     "language": "python",
     "metadata": {},
     "outputs": [
      {
       "output_type": "stream",
       "stream": "stdout",
       "text": [
        "Collector voltage =  4.57  V\n"
       ]
      }
     ],
     "prompt_number": 8
    },
    {
     "cell_type": "heading",
     "level": 2,
     "metadata": {},
     "source": [
      "Ex9-pg147"
     ]
    },
    {
     "cell_type": "code",
     "collapsed": false,
     "input": [
      "##Ex:7.9\n",
      "import math\n",
      "V_pp=14.8-3.3;\n",
      "print(\"Collector quiescent voltage = 9.2 V\"); \n",
      "print(\"\\nCollector quiescent current = 7.3mA\"); \n",
      "print'%s %.2f %s'%(\"\\nOutput peak-peak voltage = \",V_pp,\" V\"); "
     ],
     "language": "python",
     "metadata": {},
     "outputs": [
      {
       "output_type": "stream",
       "stream": "stdout",
       "text": [
        "Collector quiescent voltage = 9.2 V\n",
        "\n",
        "Collector quiescent current = 7.3mA\n",
        "\n",
        "Output peak-peak voltage =  11.50  V\n"
       ]
      }
     ],
     "prompt_number": 9
    }
   ],
   "metadata": {}
  }
 ]
}