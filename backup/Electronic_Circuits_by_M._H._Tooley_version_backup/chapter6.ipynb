{
 "metadata": {
  "name": "",
  "signature": "sha256:208e4f11f55abacdac1b020238bf181604676d4f63a97a09e00055db476b2f63"
 },
 "nbformat": 3,
 "nbformat_minor": 0,
 "worksheets": [
  {
   "cells": [
    {
     "cell_type": "heading",
     "level": 1,
     "metadata": {},
     "source": [
      "Chapter6-Power Supplies "
     ]
    },
    {
     "cell_type": "heading",
     "level": 2,
     "metadata": {},
     "source": [
      "Ex1-pg117"
     ]
    },
    {
     "cell_type": "code",
     "collapsed": false,
     "input": [
      "##Ex:6.1\n",
      "import math\n",
      "V_p=220.;\n",
      "V_s=V_p/44.;\n",
      "V_pk=1.414*V_s;##in volts\n",
      "V_l=V_pk-0.6;\n",
      "print'%s %.2f %s'%(\"Peak voltage that appear across load = \",V_l,\" V\");"
     ],
     "language": "python",
     "metadata": {},
     "outputs": [
      {
       "output_type": "stream",
       "stream": "stdout",
       "text": [
        "Peak voltage that appear across load =  6.47  V\n"
       ]
      }
     ],
     "prompt_number": 1
    },
    {
     "cell_type": "heading",
     "level": 2,
     "metadata": {},
     "source": [
      "Ex2-pg118"
     ]
    },
    {
     "cell_type": "code",
     "collapsed": false,
     "input": [
      "##Ex:6.2\n",
      "import math\n",
      "X_c=3.18;\n",
      "R=100.;\n",
      "V_rip=1.*(X_c/math.sqrt(R**2+X_c**2));\n",
      "print'%s %.2f %s'%(\"Ripple voltage = \",V_rip,\" V\");"
     ],
     "language": "python",
     "metadata": {},
     "outputs": [
      {
       "output_type": "stream",
       "stream": "stdout",
       "text": [
        "Ripple voltage =  0.03  V\n"
       ]
      }
     ],
     "prompt_number": 2
    },
    {
     "cell_type": "heading",
     "level": 2,
     "metadata": {},
     "source": [
      "Ex3-pg118"
     ]
    },
    {
     "cell_type": "code",
     "collapsed": false,
     "input": [
      "##Ex:6.3\n",
      "import math\n",
      "f=50.;\n",
      "L=10.;\n",
      "X_l=2.*math.pi*f*L;\n",
      "X_c=3.18;\n",
      "V_rip=1.*(X_c/math.sqrt(X_l**2+X_c**2));\n",
      "print'%s %.2e %s'%(\"Ripple voltage = \",V_rip,\" V\");"
     ],
     "language": "python",
     "metadata": {},
     "outputs": [
      {
       "output_type": "stream",
       "stream": "stdout",
       "text": [
        "Ripple voltage =  1.01e-03  V\n"
       ]
      }
     ],
     "prompt_number": 3
    },
    {
     "cell_type": "heading",
     "level": 2,
     "metadata": {},
     "source": [
      "Ex4-pg122"
     ]
    },
    {
     "cell_type": "code",
     "collapsed": false,
     "input": [
      "##Ex:6.4\n",
      "import math\n",
      "R_l=400.;\n",
      "V_in=9.;\n",
      "V_z=5.;\n",
      "P_z_max=0.5;\n",
      "R_s_max=R_l*((V_in/V_z)-1.);\n",
      "R_s_min=((V_z*V_in)-V_z**2)/P_z_max;\n",
      "print'%s %.2f %s'%(\"Suitable value of resistor = \",(R_s_max+R_s_min)/2,\" ohm\");"
     ],
     "language": "python",
     "metadata": {},
     "outputs": [
      {
       "output_type": "stream",
       "stream": "stdout",
       "text": [
        "Suitable value of resistor =  180.00  ohm\n"
       ]
      }
     ],
     "prompt_number": 4
    },
    {
     "cell_type": "heading",
     "level": 2,
     "metadata": {},
     "source": [
      "Ex5-pg123"
     ]
    },
    {
     "cell_type": "code",
     "collapsed": false,
     "input": [
      "##Ex:6.5\n",
      "import math\n",
      "dI_i=20.;\n",
      "dV_o=0.5;\n",
      "dV_o_reg=0.1;\n",
      "dI_o=2.;\n",
      "R_out=dV_o/dI_o;\n",
      "Regulation=(dV_o_reg/dI_i)*100.;\n",
      "print'%s %.2f %s'%(\" output resis. = \",R_out,\" ohm\");   \n",
      "print'%s %.2f %s'%(\" \\n regulation. = \",Regulation,\"\");                      "
     ],
     "language": "python",
     "metadata": {},
     "outputs": [
      {
       "output_type": "stream",
       "stream": "stdout",
       "text": [
        " output resis. =  0.25  ohm\n",
        " \n",
        " regulation. =  0.50 \n"
       ]
      }
     ],
     "prompt_number": 5
    }
   ],
   "metadata": {}
  }
 ]
}