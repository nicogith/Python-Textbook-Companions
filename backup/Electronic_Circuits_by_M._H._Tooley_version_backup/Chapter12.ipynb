{
 "metadata": {
  "name": "",
  "signature": "sha256:611418a55a1ce6f7d6191bc684572e25d4bc1141f66c946bcb6af8a7291dd55c"
 },
 "nbformat": 3,
 "nbformat_minor": 0,
 "worksheets": [
  {
   "cells": [
    {
     "cell_type": "heading",
     "level": 1,
     "metadata": {},
     "source": [
      "Chapter12-The 555 timer"
     ]
    },
    {
     "cell_type": "heading",
     "level": 2,
     "metadata": {},
     "source": [
      "Ex1-pg220"
     ]
    },
    {
     "cell_type": "code",
     "collapsed": false,
     "input": [
      "##Ex:12.1\n",
      "import math\n",
      "C=100.*10**-9;\n",
      "t_on=10.*10**-3;\n",
      "R=(t_on/(1.1*C))/1000.;\n",
      "print'%s %.2f %s'%(\"R= \",R,\" kohm\");"
     ],
     "language": "python",
     "metadata": {},
     "outputs": [
      {
       "output_type": "stream",
       "stream": "stdout",
       "text": [
        "R=  90.91  kohm\n"
       ]
      }
     ],
     "prompt_number": 1
    },
    {
     "cell_type": "heading",
     "level": 2,
     "metadata": {},
     "source": [
      "Ex2-pg220"
     ]
    },
    {
     "cell_type": "code",
     "collapsed": false,
     "input": [
      "##Ex:12.2\n",
      "import math\n",
      "C=100.*10**-6;\n",
      "t_on=60.;\n",
      "R=(t_on/(1.1*C))/1000.;\n",
      "print'%s %.2f %s'%(\"R= \",R,\" kohm\");"
     ],
     "language": "python",
     "metadata": {},
     "outputs": []
    },
    {
     "cell_type": "heading",
     "level": 2,
     "metadata": {},
     "source": [
      "Ex3-pg223"
     ]
    },
    {
     "cell_type": "code",
     "collapsed": false,
     "input": [
      "##Ex:12.3\n",
      "import math\n",
      "##R1=R2=R\n",
      "prf=10.;\n",
      "C=1.*10**-6;\n",
      "R=0.48/(prf*C);\n",
      "print'%s %.2f %s'%(\"R= \",R,\" ohm\");"
     ],
     "language": "python",
     "metadata": {},
     "outputs": [
      {
       "output_type": "stream",
       "stream": "stdout",
       "text": [
        "R=  48000.00  ohm\n"
       ]
      }
     ],
     "prompt_number": 2
    },
    {
     "cell_type": "heading",
     "level": 2,
     "metadata": {},
     "source": [
      "Ex4-pg223"
     ]
    },
    {
     "cell_type": "code",
     "collapsed": false,
     "input": [
      "##Ex:12.4\n",
      "import math\n",
      "prf=50.;\n",
      "C=100*10**-9;\n",
      "R=0.72/(prf*C);##in ohms\n",
      "print'%s %.2f %s'%(\"R= \",R/1000,\" kohm\");"
     ],
     "language": "python",
     "metadata": {},
     "outputs": [
      {
       "output_type": "stream",
       "stream": "stdout",
       "text": [
        "R=  144.00  kohm\n"
       ]
      }
     ],
     "prompt_number": 3
    }
   ],
   "metadata": {}
  }
 ]
}