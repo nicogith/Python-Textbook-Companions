{
 "metadata": {
  "name": "",
  "signature": "sha256:d56d12390f39b518475a37bfc6bbb499a3e335e6c5fa1b48bf6416cc300a4e24"
 },
 "nbformat": 3,
 "nbformat_minor": 0,
 "worksheets": [
  {
   "cells": [
    {
     "cell_type": "heading",
     "level": 1,
     "metadata": {},
     "source": [
      "Chapter13-Radio"
     ]
    },
    {
     "cell_type": "heading",
     "level": 2,
     "metadata": {},
     "source": [
      "Ex1-pg229"
     ]
    },
    {
     "cell_type": "code",
     "collapsed": false,
     "input": [
      "##Ex:13.1\n",
      "import math\n",
      "c=3.*10**8;\n",
      "wl=15.;\n",
      "f=c/wl;\n",
      "print'%s %.2f %s'%(\"The frequency = \",f,\" Hz\");"
     ],
     "language": "python",
     "metadata": {},
     "outputs": [
      {
       "output_type": "stream",
       "stream": "stdout",
       "text": [
        "The frequency =  20000000.00  Hz\n"
       ]
      }
     ],
     "prompt_number": 1
    },
    {
     "cell_type": "heading",
     "level": 2,
     "metadata": {},
     "source": [
      "Ex2-pg229"
     ]
    },
    {
     "cell_type": "code",
     "collapsed": false,
     "input": [
      "##Ex:13.2\n",
      "import math\n",
      "c=3.*10**8;\n",
      "f=150.*10**6;\n",
      "wl=c/f;\n",
      "print'%s %.2f %s'%(\"The wavelength =\",wl,\" m\");"
     ],
     "language": "python",
     "metadata": {},
     "outputs": [
      {
       "output_type": "stream",
       "stream": "stdout",
       "text": [
        "The wavelength = 2.00  m\n"
       ]
      }
     ],
     "prompt_number": 2
    },
    {
     "cell_type": "heading",
     "level": 2,
     "metadata": {},
     "source": [
      "Ex3-pg229"
     ]
    },
    {
     "cell_type": "code",
     "collapsed": false,
     "input": [
      "##Ex:13.3\n",
      "import math\n",
      "wl=8.;\n",
      "f=30.*10**6;\n",
      "v=f*wl;\n",
      "print'%s %.2f %s'%(\"The veocity of propagation = \",v,\" m/s\");"
     ],
     "language": "python",
     "metadata": {},
     "outputs": [
      {
       "output_type": "stream",
       "stream": "stdout",
       "text": [
        "The veocity of propagation =  240000000.00  m/s\n"
       ]
      }
     ],
     "prompt_number": 4
    },
    {
     "cell_type": "heading",
     "level": 2,
     "metadata": {},
     "source": [
      "Ex4-pg230"
     ]
    },
    {
     "cell_type": "code",
     "collapsed": false,
     "input": [
      "##Ex:13.4\n",
      "import math\n",
      "f_rf=162.5;##in kHz\n",
      "f_af=1.25;##in kHz\n",
      "f_bfo_max=f_rf+f_af;\n",
      "f_bfo_min=f_rf-f_af;\n",
      "print'%s %.2f %s %.2f %s '%(\"The two possible BFO freq. = \",f_bfo_max,\" kHz\" and \"\",f_bfo_min,\"kHz\");"
     ],
     "language": "python",
     "metadata": {},
     "outputs": [
      {
       "output_type": "stream",
       "stream": "stdout",
       "text": [
        "The two possible BFO freq. =  163.75  161.25 kHz \n"
       ]
      }
     ],
     "prompt_number": 5
    },
    {
     "cell_type": "heading",
     "level": 2,
     "metadata": {},
     "source": [
      "Ex5-pg234"
     ]
    },
    {
     "cell_type": "code",
     "collapsed": false,
     "input": [
      "##Ex:13.5\n",
      "import math\n",
      "f_rf_1=88.;##in MHz\n",
      "f_rf_2=108.;##in MHz\n",
      "f_if=10.7;##in MHz\n",
      "f_lo_1=f_rf_1+f_if;\n",
      "f_lo_2=f_rf_2+f_if;\n",
      "print'%s %.2f %s %.2f %s '%(\"The range local oscillator be tuned = \",f_lo_1,\" MHz\" and  \"\",f_lo_2,\" MHz\");"
     ],
     "language": "python",
     "metadata": {},
     "outputs": [
      {
       "output_type": "stream",
       "stream": "stdout",
       "text": [
        "The range local oscillator be tuned =  98.70  118.70  MHz \n"
       ]
      }
     ],
     "prompt_number": 6
    },
    {
     "cell_type": "heading",
     "level": 2,
     "metadata": {},
     "source": [
      "Ex6-pg238"
     ]
    },
    {
     "cell_type": "code",
     "collapsed": false,
     "input": [
      "##Ex:13.6\n",
      "import math\n",
      "f_rf_1=88.;##in MHz\n",
      "f_rf_2=108.;##in MHz\n",
      "f_if=10.7;##in MHz\n",
      "f_lo_1=f_rf_1+f_if;\n",
      "f_lo_2=f_rf_2+f_if;\n",
      "print'%s %.2f %s %.2f %s '%(\"The range local oscillator be tuned = \",f_lo_1,\" MHz\" and \"\",f_lo_2,\"MHz\");"
     ],
     "language": "python",
     "metadata": {},
     "outputs": [
      {
       "output_type": "stream",
       "stream": "stdout",
       "text": [
        "The range local oscillator be tuned =  98.70  118.70 MHz \n"
       ]
      }
     ],
     "prompt_number": 7
    },
    {
     "cell_type": "heading",
     "level": 2,
     "metadata": {},
     "source": [
      "Ex7-pg239"
     ]
    },
    {
     "cell_type": "code",
     "collapsed": false,
     "input": [
      "##Ex:13.7\n",
      "import math\n",
      "r=12.;##in ohms\n",
      "i=0.5;##in amps\n",
      "P_r=i*i*r;##in W\n",
      "print'%s %.2f %s'%(\"Power radiated = \",P_r,\" W\");"
     ],
     "language": "python",
     "metadata": {},
     "outputs": [
      {
       "output_type": "stream",
       "stream": "stdout",
       "text": [
        "Power radiated =  3.00  W\n"
       ]
      }
     ],
     "prompt_number": 8
    },
    {
     "cell_type": "heading",
     "level": 2,
     "metadata": {},
     "source": [
      "Ex8-pg239"
     ]
    },
    {
     "cell_type": "code",
     "collapsed": false,
     "input": [
      "##Ex:13.8\n",
      "import math\n",
      "r=2.;##in ohms\n",
      "i=0.5;##in amps\n",
      "P_r=4.;##in W\n",
      "P_loss=i*i*r;\n",
      "P_eff=(P_r/(P_r+P_loss))*100.;\n",
      "print'%s %.2f %s'%(\"The power loss = \",P_loss,\" W\");\n",
      "print'%s %.2f %s'%(\"\\n The power loss = \",P_eff,\"\");"
     ],
     "language": "python",
     "metadata": {},
     "outputs": [
      {
       "output_type": "stream",
       "stream": "stdout",
       "text": [
        "The power loss =  0.50  W\n",
        "\n",
        " The power loss =  88.89 \n"
       ]
      }
     ],
     "prompt_number": 9
    }
   ],
   "metadata": {}
  }
 ]
}