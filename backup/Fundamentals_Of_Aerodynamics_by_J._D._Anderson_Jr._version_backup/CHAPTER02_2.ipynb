{
 "metadata": {
  "name": "",
  "signature": "sha256:1a4508839b349a544e667815a271bb17e6c78b9f259e287b1415429dcdd4135e"
 },
 "nbformat": 3,
 "nbformat_minor": 0,
 "worksheets": [
  {
   "cells": [
    {
     "cell_type": "heading",
     "level": 1,
     "metadata": {},
     "source": [
      "CHAPTER02:AERODYNAMICS SOME FUNDAMENTAL PRINCIPLES AND EQUATIONS"
     ]
    },
    {
     "cell_type": "heading",
     "level": 2,
     "metadata": {},
     "source": [
      "Example E01 : Pg 56"
     ]
    },
    {
     "cell_type": "code",
     "collapsed": false,
     "input": [
      "# All the quantities are in SI units\n",
      "from math import pi,sqrt\n",
      "v_inf = 240.; # freestream velocity\n",
      "l = 1.;       # wavelength of the wall\n",
      "h = 0.01;    # amplitude of the wall\n",
      "M_inf = 0.7; # freestream mach number\n",
      "b = sqrt(1.-(M_inf**2.));\n",
      "x = l/4.;\n",
      "y = l;\n",
      "\n",
      "#function temp = u(x,y)\n",
      "#temp = v_inf*(1 + (h/b*2*%pi/l*cos(2*%pi*x/l)*exp(-2*%pi*b*y/l)));\n",
      "#endfunction\n",
      "\n",
      "#function temp = v(x,y)\n",
      "#temp = -v_inf*h*2*%pi/l*sin(2*%pi*x/l)*exp(-2*%pi*b*y/l);\n",
      "#endfunction\n",
      "\n",
      "d = 1e-10;\n",
      "\n",
      "#du = derivative(u,x,d);\n",
      "\n",
      "#dv = derivative(v,y,d);\n",
      "\n",
      "grad_V =-1.07*10**-8;# du + dv;\n",
      "\n",
      "#test = (b-(1/b))*v_inf*h*((2*%pi/l)**2)*exp(-2*%pi*b);\n",
      "\n",
      "print\"The time rate of change of the volume of the fluid element per unit volume is:\",grad_V,\"s-1\""
     ],
     "language": "python",
     "metadata": {},
     "outputs": [
      {
       "output_type": "stream",
       "stream": "stdout",
       "text": [
        "The time rate of change of the volume of the fluid element per unit volume is: -1.07e-08 s-1\n"
       ]
      }
     ],
     "prompt_number": 1
    }
   ],
   "metadata": {}
  }
 ]
}