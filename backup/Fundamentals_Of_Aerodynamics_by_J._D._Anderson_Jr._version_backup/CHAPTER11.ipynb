{
 "metadata": {
  "name": "",
  "signature": "sha256:803218956e8d07c2bbc2005621cfab4517eff6a55bb3c468628e715c71e6bf8d"
 },
 "nbformat": 3,
 "nbformat_minor": 0,
 "worksheets": [
  {
   "cells": [
    {
     "cell_type": "heading",
     "level": 1,
     "metadata": {},
     "source": [
      "CHAPTER11:SUBSONIC COMPRESSIBLE FLOW OVER AIRFOILS LINEAR THEOREY"
     ]
    },
    {
     "cell_type": "heading",
     "level": 2,
     "metadata": {},
     "source": [
      "Example E01 : Pg 382"
     ]
    },
    {
     "cell_type": "code",
     "collapsed": false,
     "input": [
      "# All the quantities are expressed in SI units\n",
      "import math \n",
      "Cp_incompressible = -0.3;                    # Cp for incompressible flow\n",
      "M = 0.6;                                     # Mach number\n",
      "# Thus from eq.(11.52)\n",
      "Cp_compressible = Cp_incompressible/math.sqrt(1-M**2);\n",
      "print\"(a)The Cp after compressibility corrections is:\",Cp_compressible,\"Cp\""
     ],
     "language": "python",
     "metadata": {},
     "outputs": [
      {
       "output_type": "stream",
       "stream": "stdout",
       "text": [
        "(a)The Cp after compressibility corrections is: -0.375 Cp\n"
       ]
      }
     ],
     "prompt_number": 1
    },
    {
     "cell_type": "heading",
     "level": 2,
     "metadata": {},
     "source": [
      "Example E02 : Pg 383"
     ]
    },
    {
     "cell_type": "code",
     "collapsed": false,
     "input": [
      "# All the quantities are expressed in SI units\n",
      "import math \n",
      "cl_incompressible = 2*math.pi;                    # lift curve slope\n",
      "M_inf = 0.7;                                  # Mach number\n",
      "# from eq.(11.52)\n",
      "cl_compressible = cl_incompressible/math.sqrt(1-M_inf**2);        # compressible lift curve slope\n",
      "print\"(a)The cl after compressibility corrections is: cl =\",cl_compressible,\"alpha\""
     ],
     "language": "python",
     "metadata": {},
     "outputs": [
      {
       "output_type": "stream",
       "stream": "stdout",
       "text": [
        "(a)The cl after compressibility corrections is: cl = 8.7982192499 alpha\n"
       ]
      }
     ],
     "prompt_number": 2
    }
   ],
   "metadata": {}
  }
 ]
}