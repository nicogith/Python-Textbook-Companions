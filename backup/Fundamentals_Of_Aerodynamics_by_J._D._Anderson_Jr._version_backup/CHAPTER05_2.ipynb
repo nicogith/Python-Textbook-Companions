{
 "metadata": {
  "name": "",
  "signature": "sha256:ee50329b73309b1dab4dfc4486d0f2047cf249b7244e9d08d2df2237e645d436"
 },
 "nbformat": 3,
 "nbformat_minor": 0,
 "worksheets": [
  {
   "cells": [
    {
     "cell_type": "heading",
     "level": 1,
     "metadata": {},
     "source": [
      "CHAPTER05:INCOMPRESSIBLE FLOW OVER FINITE WINGS"
     ]
    },
    {
     "cell_type": "heading",
     "level": 2,
     "metadata": {},
     "source": [
      "Example E01 : Pg 182"
     ]
    },
    {
     "cell_type": "code",
     "collapsed": false,
     "input": [
      "# All the quantities are expressed in SI units\n",
      "from math import pi,sqrt\n",
      "AR = 8.;                # Aspect ratio of the wing\n",
      "alpha = 5.*pi/180.;             # Angle of attack experienced by the wing\n",
      "a0 = 2.*pi             # airfoil lift curve slope\n",
      "alpha_L0 = 0;          # zero lift angle of attack is zero since airfoil is symmetric\n",
      "# from fig. 5.20, for AR = 8 and taper ratio of 0.8\n",
      "delta = 0.055;\n",
      "tow = delta;           # given assumption\n",
      "# thus the lift curve slope for wing is given by\n",
      "a = a0/(1.+(a0/pi/AR/(1.+tow)));\n",
      "# thus C_l can be calculated as\n",
      "C_l = a*alpha;\n",
      "# from eq.(5.61)\n",
      "C_Di = C_l**2./pi/AR*(1.+delta);\n",
      "print\"Cl =\",round(C_l,2)\n",
      "print\"CDi =\",round(C_Di,2)"
     ],
     "language": "python",
     "metadata": {},
     "outputs": [
      {
       "output_type": "stream",
       "stream": "stdout",
       "text": [
        "Cl = 0.44\n",
        "CDi = 0.01\n"
       ]
      }
     ],
     "prompt_number": 1
    },
    {
     "cell_type": "heading",
     "level": 2,
     "metadata": {},
     "source": [
      "Example E02 : Pg 185"
     ]
    },
    {
     "cell_type": "code",
     "collapsed": false,
     "input": [
      "# All the quantities are expressed in SI units\n",
      "from math import sqrt,pi\n",
      "CDi1 = 0.01;                        # induced drag coefficient for first wing\n",
      "delta = 0.055;                      # induced drag factor for both wings\n",
      "tow = delta;\n",
      "alpha_L0 = -2.*pi/180.;              # zero lift angle of attack\n",
      "alpha = 3.4*pi/180.;                # angle of attack\n",
      "AR1 = 6.;                            # Aspect ratio of the first wing\n",
      "AR2 = 10.;                           # Aspect ratio of the second wing\n",
      "\n",
      "# from eq.(5.61), lift coefficient can be calculated as\n",
      "C_l1 = sqrt(pi*AR1*CDi1/(1.+delta));\n",
      "\n",
      "# the lift slope for the first wing can be calculated as\n",
      "a1 = C_l1/(alpha-alpha_L0);\n",
      "\n",
      "# the airfoil lift coefficient can be given as\n",
      "a0 = a1/(1.-(a1/pi/AR1*(1.+tow)));\n",
      "\n",
      "# thus the list coefficient for the second wing which has the same airfoil is given by\n",
      "a2 = a0/(1.+(a0/pi/AR2*(1.+tow)));\n",
      "C_l2 = a2*(alpha-alpha_L0);\n",
      "CDi2 = C_l2**2./pi/AR2*(1.+delta);\n",
      "\n",
      "print\"The induced drag coefficient of the second wing is CD,i =\",CDi2"
     ],
     "language": "python",
     "metadata": {},
     "outputs": [
      {
       "output_type": "stream",
       "stream": "stdout",
       "text": [
        "The induced drag coefficient of the second wing is CD,i = 0.00741411360464\n"
       ]
      }
     ],
     "prompt_number": 2
    },
    {
     "cell_type": "heading",
     "level": 2,
     "metadata": {},
     "source": [
      "Example E03 : Pg 189"
     ]
    },
    {
     "cell_type": "code",
     "collapsed": false,
     "input": [
      "# all the quantities are expressed in SI units\n",
      "from math import pi\n",
      "a0 = 0.1*180./pi;                    # airfoil lift curve slope\n",
      "AR = 7.96;                   # Wing aspect ratio\n",
      "alpha_L0 = -2.*pi/180.;               # zero lift angle of attack\n",
      "tow = 0.04;                  # lift efficiency factor\n",
      "C_l = 0.21;                  # lift coefficient of the wing\n",
      "\n",
      "# the lift curve slope of the wing is given by\n",
      "a = a0/(1+(a0/pi/AR/(1.+tow)));\n",
      "\n",
      "# thus angle of attack can be calculated as\n",
      "alpha = C_l/a + alpha_L0;\n",
      "\n",
      "print\"alpha =\",alpha*180./pi,\"degrees\\n\""
     ],
     "language": "python",
     "metadata": {},
     "outputs": [
      {
       "output_type": "stream",
       "stream": "stdout",
       "text": [
        "alpha = 0.562642629213 degrees\n",
        "\n"
       ]
      }
     ],
     "prompt_number": 4
    },
    {
     "cell_type": "heading",
     "level": 2,
     "metadata": {},
     "source": [
      "Example E04 : Pg 191"
     ]
    },
    {
     "cell_type": "code",
     "collapsed": false,
     "input": [
      "# All the qunatities are expressed in SI units\n",
      "from math import pi,sqrt\n",
      "alpha_L0 = -1.*pi/180.;                 # zero lift angle of attack\n",
      "alpha1 = 7.*pi/180.;                    # reference angle of attack\n",
      "C_l1 = 0.9;                            # wing lift coefficient at alpha1\n",
      "alpha2 = 4.*pi/180.;\n",
      "AR = 7.61;                             # aspect ratio of the wing\n",
      "taper = 0.45;                          # taper ratio of the wing\n",
      "delta = 0.01;                          # delta as calculated from fig. 5.20\n",
      "tow = delta;\n",
      "# the lift curve slope of the wing/airfoil can be calculated as\n",
      "a0 = C_l1/(alpha1-alpha_L0);\n",
      "e = 1./(1.+delta);\n",
      "# from eq. (5.70)\n",
      "a = a0/(1.+(a0/pi/AR/(1.+tow)));\n",
      "# lift coefficient at alpha2 is given as\n",
      "C_l2 = a*(alpha2 - alpha_L0);\n",
      "# from eq.(5.42), the induced angle of attack can be calculated as\n",
      "alpha_i = C_l2/pi/AR;\n",
      "# which gives the effective angle of attack as\n",
      "alpha_eff = alpha2 - alpha_i;\n",
      "# Thus the airfoil lift coefficient is given as\n",
      "c_l = a0*(alpha_eff-alpha_L0);\n",
      "c_d = 0.0065;                         # section drag coefficient for calculated c_l as seen from fig. 5.2b\n",
      "# Thus the wing drag coefficient can be calculated as\n",
      "C_D = c_d + ((C_l2**2.)/pi/e/AR);\n",
      "print\"The drag coefficient of the wing is C_D =\",C_D"
     ],
     "language": "python",
     "metadata": {},
     "outputs": [
      {
       "output_type": "stream",
       "stream": "stdout",
       "text": [
        "The drag coefficient of the wing is C_D = 0.014827553741\n"
       ]
      }
     ],
     "prompt_number": 5
    }
   ],
   "metadata": {}
  }
 ]
}