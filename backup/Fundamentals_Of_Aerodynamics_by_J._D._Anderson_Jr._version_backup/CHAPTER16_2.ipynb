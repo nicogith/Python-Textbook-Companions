{
 "metadata": {
  "name": "",
  "signature": "sha256:67c16377790a35dc31b3b4a75eb5638e34a5bd4be38717164d79dfa0fbaa671b"
 },
 "nbformat": 3,
 "nbformat_minor": 0,
 "worksheets": [
  {
   "cells": [
    {
     "cell_type": "heading",
     "level": 1,
     "metadata": {},
     "source": [
      "CHAPTER16:SOME SPECIAL CASES COUETTE AND POISEUILLE FLOWS"
     ]
    },
    {
     "cell_type": "heading",
     "level": 2,
     "metadata": {},
     "source": [
      "Example E01 : Pg 524"
     ]
    },
    {
     "cell_type": "code",
     "collapsed": false,
     "input": [
      "# All the quantities are expressed in SI units\n",
      "import math \n",
      "mue = 1.7894*10**5;                    # coefficient of viscosity\n",
      "ue = 60.96;                         # velocity of upper plate\n",
      "D = 2.54*10**4;                        # distance between the 2 plates\n",
      "T_w = 288.3;                        # temperature of the plates\n",
      "Pr = 0.71;                          # Prandlt number\n",
      "cp = 1004.5;                        # specific heat at constant pressure\n",
      "\n",
      "# (a)\n",
      "# from eq.(16.6)\n",
      "u = ue/2;\n",
      "\n",
      "# (b)\n",
      "# from eq.(16.9)\n",
      "tow_w = mue*ue/D;\n",
      "\n",
      "# (c)\n",
      "# from eq.(16.34)\n",
      "T = T_w + Pr*ue**2/8/cp;\n",
      "\n",
      "# (d)\n",
      "# from eq.(16.35)\n",
      "q_w_dot = mue/2*ue**2/D;\n",
      "\n",
      "# (e)\n",
      "# from eq.(16.40)\n",
      "T_aw = T_w + Pr/cp*ue**2/2;\n",
      "\n",
      "print\"(a)u =\",u,\"m/s\"\n",
      "print\"(b)tow_w =\",tow_w,\"N/m2\"\n",
      "print\"(c)T =\",T,\"K\"\n",
      "print\"(d)q_w_dot =\",q_w_dot,\"Nm-1s-1\"\n",
      "print\"(e)Taw =\",\"K\",T_aw\n"
     ],
     "language": "python",
     "metadata": {},
     "outputs": [
      {
       "output_type": "stream",
       "stream": "stdout",
       "text": [
        "(a)u = 30.48 m/s\n",
        "(b)tow_w = 429.456 N/m2\n",
        "(c)T = 288.628328315 K\n",
        "(d)q_w_dot = 13089.81888 Nm-1s-1\n",
        "(e)Taw = K 289.613313258\n"
       ]
      }
     ],
     "prompt_number": 2
    },
    {
     "cell_type": "heading",
     "level": 2,
     "metadata": {},
     "source": [
      "Example E02 : Pg 524"
     ]
    },
    {
     "cell_type": "code",
     "collapsed": false,
     "input": [
      "# All the quantities are expressed in SI units\n",
      "from math import sqrt\n",
      "mue = 1.7894*10**5;                    # coefficient of viscosity\n",
      "Me = 3.;                             # mach number of upper plate\n",
      "D = 2.54*10**4;                        # distance between the 2 plates\n",
      "pe = 101000.;                        # ambient pressure\n",
      "Te = 288.;                           # temperature of the plates\n",
      "Tw = Te;\n",
      "gam = 1.4;                          # ratio of specific heats\n",
      "R = 287;                            # specific gas constant\n",
      "Pr = 0.71;                          # Prandlt number\n",
      "cp = 1004.5;                        # specific heat at constant pressure\n",
      "tow_w = 72.;                         # shear stress on the lower wall\n",
      "# the velocity of the upper plate is given by\n",
      "ue = Me*sqrt(gam*R*Te);\n",
      "# the density at both plates is\n",
      "rho_e = pe/R/Te;\n",
      "# the coefficient of skin friction is given by\n",
      "cf = 2.*tow_w/rho_e/ue**2.;\n",
      "# from eq.(16.92)\n",
      "C_H = cf/2/Pr;\n",
      "# from eq.(16.82)\n",
      "h_aw = cp*Te + Pr*ue**2/2;\n",
      "h_w = cp*Tw;\n",
      "q_w_dot = rho_e*ue*(h_aw-h_w)*C_H;\n",
      "print\"The heat transfer is given by:q_w_dot =\",q_w_dot/1e4,\"W/m2\""
     ],
     "language": "python",
     "metadata": {},
     "outputs": [
      {
       "output_type": "stream",
       "stream": "stdout",
       "text": [
        "The heat transfer is given by:q_w_dot = 3.67387998933 W/m2\n"
       ]
      }
     ],
     "prompt_number": 3
    }
   ],
   "metadata": {}
  }
 ]
}