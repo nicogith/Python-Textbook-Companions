{
 "cells": [
  {
   "cell_type": "markdown",
   "metadata": {},
   "source": [
    "# Chapter Four : Display Devices"
   ]
  },
  {
   "cell_type": "markdown",
   "metadata": {},
   "source": [
    "##Example 4.1, Page Number 131 "
   ]
  },
  {
   "cell_type": "code",
   "execution_count": 1,
   "metadata": {
    "collapsed": false
   },
   "outputs": [
    {
     "name": "stdout",
     "output_type": "stream",
     "text": [
      "The probability of Escape per second of the trapped Electron 11.25 /s\n",
      "The Luminescence Lifetime is 0.09 seconds\n"
     ]
    }
   ],
   "source": [
    "import math\n",
    "k=0.025 #in Electron Volts\n",
    "E=0.4 #in Electron Volts (The difference between Ec & Ed)\n",
    "Q=(10**8) # A given Constant in per second\n",
    "\n",
    "j=E/k\n",
    "O=Q*math.exp(-j) #Where O is the required probability\n",
    "O=round(O,2)\n",
    "Q1=1/O\n",
    "Q1=round(Q1,2)\n",
    "print \"The probability of Escape per second of the trapped Electron \"+str(O)+\" /s\"\n",
    "print \"The Luminescence Lifetime is \"+str(Q1)+\" seconds\""
   ]
  },
  {
   "cell_type": "markdown",
   "metadata": {},
   "source": [
    "##Example 4.2, Page Number 152"
   ]
  },
  {
   "cell_type": "code",
   "execution_count": 2,
   "metadata": {
    "collapsed": false
   },
   "outputs": [
    {
     "name": "stdout",
     "output_type": "stream",
     "text": [
      "The Fractional Tranmission for Isotropic Radiation originating inside GaAs is 0.013\n",
      "The Critical Angle which might explain the Low efficiency for the interface is 16.0 Degrees\n"
     ]
    }
   ],
   "source": [
    "import math\n",
    "n1=3.6  #For a Given GaAs/Air Interface\n",
    "n2=1    #For Air\n",
    "\n",
    "#Using Equation 4.14\n",
    "n3=n1-n2\n",
    "n4=n1+n2\n",
    "n6=(n3/n4)**2\n",
    "n5=(n2/n1)**2\n",
    "\n",
    "F=0.25*(n5)*(1-n6) #Where F is the Fractional Transmission for Isotropic Radiation Originating \n",
    "F=round(F,3)\n",
    "\n",
    "theta=math.degrees(math.asin(1/n1))  #Critical Angle in Degrees\n",
    "theta=round(theta,0)\n",
    "\n",
    "print \"The Fractional Tranmission for Isotropic Radiation originating inside GaAs is \"+str(F)\n",
    "print \"The Critical Angle which might explain the Low efficiency for the interface is \"+str(theta)+\" Degrees\"\n",
    "\n"
   ]
  },
  {
   "cell_type": "markdown",
   "metadata": {},
   "source": [
    "##Example 4.3, Page Number 158"
   ]
  },
  {
   "cell_type": "code",
   "execution_count": 3,
   "metadata": {
    "collapsed": false
   },
   "outputs": [
    {
     "name": "stdout",
     "output_type": "stream",
     "text": [
      "Emitting Area subtends an angle Theta =0.0001\n",
      "Since theta is less than one, it acts as a Point Source\n",
      "The Total Radiant Power is 0.000112 W\n",
      "Observing from the below graph at 550 nm\n",
      "The Luminous Flux from the source is0.067 lm\n",
      "The Luminous Intensity is 0.0107 Candela\n"
     ]
    },
    {
     "data": {
      "text/plain": [
       "<matplotlib.text.Text at 0x3da7128>"
      ]
     },
     "execution_count": 3,
     "metadata": {},
     "output_type": "execute_result"
    },
    {
     "data": {
      "image/png": "[encoded data removed]",
      "text/plain": [
       "<matplotlib.figure.Figure at 0x3da7160>"
      ]
     },
     "metadata": {},
     "output_type": "display_data"
    }
   ],
   "source": [
    "%matplotlib inline\n",
    "import math \n",
    "from matplotlib.pyplot import plot,suptitle,xlabel,ylabel\n",
    "\n",
    "d=0.2*(10**-3) #Chip Diameter in meter\n",
    "d1=1 #Distance in Meter\n",
    "l=550*(10**-9 ) #Wavelength in Meter\n",
    "q=0.001 #External Quantam Efficiency\n",
    "i=50*(10**-3) #Operational Current\n",
    "h=6.6*(10**-34)#Plancks Constant\n",
    "c=3*(10**8)#Speed of Light\n",
    "e=1.6*(10**-19)\n",
    "\n",
    "theta=(d/2) #Whence theta is the angle emitting area subtends and is less than 1\n",
    "print \"Emitting Area subtends an angle Theta =\"+str(theta)\n",
    "print \"Since theta is less than one, it acts as a Point Source\"\n",
    "\n",
    "W=((h*c)/l)*q*(i/e) #Where W is the total Radiant Power in terms of W\n",
    "W=round(W,6)\n",
    "\n",
    "print \"The Total Radiant Power is \"+str(W)+\" W\"\n",
    "\n",
    "#From the above graph\n",
    "l1=600 #Average Luminousity \n",
    "print \"Observing from the below graph at 550 nm\"\n",
    "lf=W*l1 #Where lf is the lumnious flux from the source\n",
    "lf=round(lf,3)\n",
    "\n",
    "print \"The Luminous Flux from the source is\"+str(lf)+\" lm\"\n",
    "\n",
    "li=lf/(2*3.14)#Where li is the luminous intensity at normal incidence since flux is distributed over angle 2PI\n",
    "li=round(li,4)\n",
    "\n",
    "print \"The Luminous Intensity is \"+str(li)+\" Candela\"\n",
    "\n",
    "X = [400,500,555,600,650,700]\n",
    "V = [0.0,0.3,1.0,0.7,0.3,0.0]\n",
    "plot(X,V);\n",
    "xlabel(\"Wavelength in nm\")\n",
    "ylabel(\"V\")\n",
    "suptitle(\"Fig 1.24\")"
   ]
  }
 ],
 "metadata": {
  "kernelspec": {
   "display_name": "Python 2",
   "language": "python",
   "name": "python2"
  },
  "language_info": {
   "codemirror_mode": {
    "name": "ipython",
    "version": 2
   },
   "file_extension": ".py",
   "mimetype": "text/x-python",
   "name": "python",
   "nbconvert_exporter": "python",
   "pygments_lexer": "ipython2",
   "version": "2.7.10"
  }
 },
 "nbformat": 4,
 "nbformat_minor": 0
}
