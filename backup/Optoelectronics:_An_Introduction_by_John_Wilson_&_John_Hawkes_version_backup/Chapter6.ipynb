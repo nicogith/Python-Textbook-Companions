{
 "cells": [
  {
   "cell_type": "markdown",
   "metadata": {},
   "source": [
    "# Chapter Six : Laser II"
   ]
  },
  {
   "cell_type": "markdown",
   "metadata": {},
   "source": [
    "##Example 6.1, Page Number 252"
   ]
  },
  {
   "cell_type": "code",
   "execution_count": 1,
   "metadata": {
    "collapsed": false
   },
   "outputs": [
    {
     "name": "stdout",
     "output_type": "stream",
     "text": [
      "The Mode Seperation is 833333333.0 Hertz\n",
      "The Pulse Seperation is 1.20e-09 seconds\n",
      "The Number of Modes Oscillating is 132.0\n",
      "The Pulse Duration is 9.1e-12 seconds\n"
     ]
    }
   ],
   "source": [
    "lw=1.1*(10**11) #Fluorescent Linewidth in Hertz\n",
    "l=0.1 #length of laser rod in meter\n",
    "n=1.8 #given Refraction Index\n",
    "c=3*(10**8) #Speed of light\n",
    "\n",
    "ms=c/(2*l*n) #where ms is the mode seperation in hertz\n",
    "ms=round(ms,0)\n",
    "ps=1/ms #where ps is the Pulse seperation in seconds\n",
    "Nm=lw/ms #where Nm is the Number of modes oscillating\n",
    "Nm=round(Nm,0)\n",
    "pd=(1/Nm)*ps #where pd is the pulse duration\n",
    "\n",
    "print \"The Mode Seperation is \"+str(ms)+\" Hertz\"\n",
    "print \"The Pulse Seperation is %.2e seconds\"%(ps)\n",
    "print \"The Number of Modes Oscillating is \"+str(Nm)\n",
    "print \"The Pulse Duration is %.1e seconds\"%(pd)\n"
   ]
  },
  {
   "cell_type": "markdown",
   "metadata": {},
   "source": [
    "##Example 6.2, Page Number 256"
   ]
  },
  {
   "cell_type": "code",
   "execution_count": 2,
   "metadata": {
    "collapsed": false
   },
   "outputs": [
    {
     "name": "stdout",
     "output_type": "stream",
     "text": [
      "The Energy of the Pulse is 1.7 J\n"
     ]
    }
   ],
   "source": [
    "#In a typical Laser\n",
    "N1=10**24 #in per meter cube\n",
    "v=5*(10**14) #Frequency in hertz\n",
    "vo=(10**-5) #Volume in per meter cube\n",
    "h=6.63*(10**-34) #Plancks Constant\n",
    "\n",
    "#Assuming Nf<<<<N1\n",
    "\n",
    "E1=0.5*(h*v*N1*vo) #Where E is the Energy of the pulses\n",
    "E1=round(E1,1)\n",
    "\n",
    "print \"The Energy of the Pulse is \"+str(E1)+\" J\""
   ]
  },
  {
   "cell_type": "markdown",
   "metadata": {},
   "source": [
    "##Example 6.3, Page Number 256"
   ]
  },
  {
   "cell_type": "code",
   "execution_count": 3,
   "metadata": {
    "collapsed": false
   },
   "outputs": [
    {
     "name": "stdout",
     "output_type": "stream",
     "text": [
      "The Cavity Lifetime is 1.7e-09 seconds\n",
      "The Pulse Power is 994200000.0 W\n"
     ]
    }
   ],
   "source": [
    "#Using the Energy of the pulses from the above example\n",
    "E=1.657 #Energy of the pulses in Joules\n",
    "l=0.1 #Cavity length in meter\n",
    "r=0.8 #Mirror reflectance\n",
    "c=3*(10**8) #Speed of light\n",
    "\n",
    "tc=l/((1-r)*c) #where tc is the cavity lifetime\n",
    "\n",
    "P=E/tc #where P is the pulse power\n",
    "\n",
    "print \"The Cavity Lifetime is %.1e seconds\"%(tc)\n",
    "print \"The Pulse Power is \"+str(P)+\" W\""
   ]
  },
  {
   "cell_type": "markdown",
   "metadata": {},
   "source": [
    "##Example 6.4, Page Number 260"
   ]
  },
  {
   "cell_type": "code",
   "execution_count": 4,
   "metadata": {
    "collapsed": false
   },
   "outputs": [
    {
     "name": "stdout",
     "output_type": "stream",
     "text": [
      "The Divergence of the Beam is 0.000211 Radians\n",
      "After Collimation,The angle of Divergance is reduced to 7.03e-06 Radians\n"
     ]
    }
   ],
   "source": [
    "#Considering a He-Ne Laser\n",
    "d=3*(10**-3) #Diameter in meter\n",
    "l=633*(10**-9) #Wavelength of the laser\n",
    "\n",
    "theta=l/d #where theta is the divergence of the beam\n",
    "print \"The Divergence of the Beam is \"+str(theta)+\" Radians\"\n",
    "#After Collimation\n",
    "\n",
    "theta=theta/30 #Reduced by a factor of 30\n",
    "print \"After Collimation,The angle of Divergance is reduced to %.2e Radians\"%(theta)\n",
    "\n"
   ]
  },
  {
   "cell_type": "markdown",
   "metadata": {},
   "source": [
    "##Example 6.5, Page Number 263"
   ]
  },
  {
   "cell_type": "code",
   "execution_count": 5,
   "metadata": {
    "collapsed": false
   },
   "outputs": [
    {
     "name": "stdout",
     "output_type": "stream",
     "text": [
      "The Cavity lifetime is 2.0e-12 seconds\n",
      "The Length of the Wave Train or the Coherance Length is 0.0006 meter\n",
      "Under Multi Modes,The Linewidth is about 1500 MHz and Coherance Length is 0.2 m\n",
      "Under Single Mode,The Linewidth is about 1Mhz and the Coherance Length is 300 m\n"
     ]
    }
   ],
   "source": [
    "#Assuming all lights from a Sodium Lamp\n",
    "\n",
    "l=589*(10**-9) #Given Wavelength in meter\n",
    "lw=5.1*(10**11) #Given Linewidth in Hertz\n",
    "c=3*(10**8) #Speed of light\n",
    "\n",
    "#By equation 6.9\n",
    "\n",
    "tc=1/lw #Where tc is the cavity lifetime\n",
    "\n",
    "#By Equation 6.8\n",
    "Lc=tc*c #Where Lc is the length of the Wave Train\n",
    "Lc=round(Lc,4)\n",
    "print \"The Cavity lifetime is %.1e seconds\"%(tc)\n",
    "print \"The Length of the Wave Train or the Coherance Length is \"+str(Lc)+\" meter\"\n",
    "\n",
    "print \"Under Multi Modes,The Linewidth is about 1500 MHz and Coherance Length is 0.2 m\"\n",
    "print \"Under Single Mode,The Linewidth is about 1Mhz and the Coherance Length is 300 m\"\n"
   ]
  },
  {
   "cell_type": "markdown",
   "metadata": {},
   "source": [
    "##Example 6.6, Page Number 266"
   ]
  },
  {
   "cell_type": "code",
   "execution_count": 6,
   "metadata": {
    "collapsed": false
   },
   "outputs": [
    {
     "name": "stdout",
     "output_type": "stream",
     "text": [
      "The Radius of the Focused Spot is 4.03e-07 meter\n",
      "The Power Per unit Area is 19591254064.9 Watt per meter square\n"
     ]
    }
   ],
   "source": [
    "P=10*(10**-3) #Given Power of the He-Ne Laser\n",
    "F=1 #Given F Number\n",
    "l=633*(10**-9) #Wavelength of the laser\n",
    "PI=3.14\n",
    "#From equation 6.10a\n",
    "\n",
    "rs=(2/PI)*l*F #where rs is the radius of the focused spot\n",
    "\n",
    "P1=(P*PI)/((2*l)**2) #Where P1 is the Power per unit area\n",
    "\n",
    "print \"The Radius of the Focused Spot is %.2e meter\"%(rs)\n",
    "print \"The Power Per unit Area is \"+str(P1)+\" Watt per meter square\""
   ]
  },
  {
   "cell_type": "markdown",
   "metadata": {},
   "source": [
    "##Example 6.7, Page Number 266"
   ]
  },
  {
   "cell_type": "code",
   "execution_count": 7,
   "metadata": {
    "collapsed": false
   },
   "outputs": [
    {
     "name": "stdout",
     "output_type": "stream",
     "text": [
      "The Radius of the Focused spot is 2.70e-05 meter\n",
      "The depth of the Focus is 9.90e-05 meter\n"
     ]
    }
   ],
   "source": [
    "import math\n",
    "#Given a Carbon Dioxide Laser Beam \n",
    "l=10.6*(10**-6) #Wavelength in meter\n",
    "d=50*(10**-3) #diameter in meter\n",
    "fl=200*(10**-3) #Focal Length\n",
    "PI=3.14\n",
    "\n",
    "#Using Equation 6.10\n",
    "rs=wo=(l*fl)/(PI*(d/2)) #where rs is the radius of the focused spot\n",
    "\n",
    "#Given that spot size can be toletated by 10 percent\n",
    "dw=1.1\n",
    "w=1\n",
    "#using equation 6.11\n",
    "z=((PI*(rs**2))*math.sqrt((dw**2)-(w**2)))/l #where z is the depth of focus\n",
    "\n",
    "print \"The Radius of the Focused spot is %.2e meter\"%(rs)\n",
    "print \"The depth of the Focus is %.2e meter\"%(z)\n",
    "\n",
    "#Answer is misprinted in the book"
   ]
  }
 ],
 "metadata": {
  "kernelspec": {
   "display_name": "Python 2",
   "language": "python",
   "name": "python2"
  },
  "language_info": {
   "codemirror_mode": {
    "name": "ipython",
    "version": 2
   },
   "file_extension": ".py",
   "mimetype": "text/x-python",
   "name": "python",
   "nbconvert_exporter": "python",
   "pygments_lexer": "ipython2",
   "version": "2.7.10"
  }
 },
 "nbformat": 4,
 "nbformat_minor": 0
}
