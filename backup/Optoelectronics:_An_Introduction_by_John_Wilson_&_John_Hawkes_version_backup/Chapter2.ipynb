{
 "cells": [
  {
   "cell_type": "markdown",
   "metadata": {},
   "source": [
    "#Chapter Two : Elements Of Solid State Physics"
   ]
  },
  {
   "cell_type": "markdown",
   "metadata": {},
   "source": [
    "##Example 2.1, Page Number 51"
   ]
  },
  {
   "cell_type": "code",
   "execution_count": 2,
   "metadata": {
    "collapsed": false
   },
   "outputs": [
    {
     "name": "stdout",
     "output_type": "stream",
     "text": [
      "Free Electron Concentration is 8.43e+28 /meter cube\n",
      "Conductivity of copper and intrinsic silicon is 607138810.2 and 0.00047 respectively in per ohm meter\n"
     ]
    }
   ],
   "source": [
    "d1=8.93*(10**3) #Density of Copper in Kg/meter cube\n",
    "N=63.54 #atomic mass number of copper\n",
    "t=2.6*(10**-14)#Mean free time between collision in seconds\n",
    "m=9.1*(10**-31) #Mass of electron \n",
    "em=0.135 #Electron Mobility\n",
    "hm=0.048 #Hole Mobility\n",
    "n=p=1.6*(10**16) #Concentration per meter cube\n",
    "ac=6*(10**26)  #a given Constant\n",
    "e=1.6*(10**-19)  #Charge of electron\n",
    "\n",
    "n1=(ac*d1)/N #Free electron concentration/No. of atoms per unit volume\n",
    "\n",
    "#from equation 2.22\n",
    "rhoc=(n1*e*em)/3 #Conductivity of copper in per ohm m\n",
    "rhoc=round(rhoc,2)\n",
    "\n",
    "#from equation 2.24\n",
    "rhos=n*e*(em+hm) #Conductivity of Copperintrinsic silicon in per ohm m\n",
    "rhos=round(rhos,5)\n",
    "\n",
    "print \"Free Electron Concentration is %.2e /meter cube\"%(n1)\n",
    "\n",
    "print \"Conductivity of copper and intrinsic silicon is \"+str(rhoc)+\" and \"+str(rhos)+\" respectively in per ohm meter\""
   ]
  },
  {
   "cell_type": "markdown",
   "metadata": {},
   "source": [
    "##Example 2.2, Page Number 55"
   ]
  },
  {
   "cell_type": "code",
   "execution_count": 3,
   "metadata": {
    "collapsed": false
   },
   "outputs": [
    {
     "name": "stdout",
     "output_type": "stream",
     "text": [
      "The Excitation Energy is given by 0.0254 eV\n"
     ]
    }
   ],
   "source": [
    "r=11.8 #Relative Permaebility\n",
    "m=9.1*(10**-31) #Mass of electron\n",
    "me=0.26*m #Effective mass \n",
    "\n",
    "#From equation 2.28\n",
    "\n",
    "E=13.6*(me/m)*((1/r)**2) #where E is the excitation energy\n",
    "E=round(E,5)\n",
    "\n",
    "print \"The Excitation Energy is given by \"+str(E)+\" eV\""
   ]
  },
  {
   "cell_type": "markdown",
   "metadata": {},
   "source": [
    "##Example 2.3, Page Number 60"
   ]
  },
  {
   "cell_type": "code",
   "execution_count": 4,
   "metadata": {
    "collapsed": false
   },
   "outputs": [
    {
     "name": "stdout",
     "output_type": "stream",
     "text": [
      "The Effective Density of States in the Conduction Band is 1.03e+25 Per Meter Cube\n"
     ]
    }
   ],
   "source": [
    "import math\n",
    "PI=3.14\n",
    "m=9.1*(10**-31) #Mass of electron\n",
    "me=0.55*m #Effective mass\n",
    "T=300 #Temperature in Kelvin\n",
    "k=1.38*(10**-23) #Boltzmann Constant\n",
    "h=6.6*(10**-34) #Plancks Constant\n",
    "\n",
    "#From equation 2.33\n",
    "\n",
    "N=2*(math.pow((2*PI*me*k*T)/(h*h),1.5)) #Where N is the Effective density of states in the conduction band\n",
    "\n",
    "\n",
    "print \"The Effective Density of States in the Conduction Band is %.2e Per Meter Cube\"%(N)"
   ]
  },
  {
   "cell_type": "markdown",
   "metadata": {},
   "source": [
    "##Example 2.4, Page Number 64"
   ]
  },
  {
   "cell_type": "code",
   "execution_count": 4,
   "metadata": {
    "collapsed": false
   },
   "outputs": [
    {
     "name": "stdout",
     "output_type": "stream",
     "text": [
      "The Hole Lifetime For GaAs is 2.78e-10 seconds\n",
      "The Hole Lifetime For Si is 0.00011 seconds\n"
     ]
    }
   ],
   "source": [
    "n=5*(10**24) #Donor Concentration in per meter cube\n",
    "\n",
    "#For GaAs\n",
    "t1=1/((7.2*(10**-16))*n) #where t1 is the Hole lifetime\n",
    "\n",
    "#For Si\n",
    "t2=1/((1.8*(10**-21))*n) \n",
    "t2=round(t2,5)\n",
    "print \"The Hole Lifetime For GaAs is %.2e seconds\"%(t1)\n",
    "print \"The Hole Lifetime For Si is \"+str(t2)+\" seconds\""
   ]
  },
  {
   "cell_type": "markdown",
   "metadata": {},
   "source": [
    "##Example 2.5, Page Number 70"
   ]
  },
  {
   "cell_type": "code",
   "execution_count": 5,
   "metadata": {
    "collapsed": false
   },
   "outputs": [
    {
     "name": "stdout",
     "output_type": "stream",
     "text": [
      "The Contact Potential Difference is 0.42 Volts\n"
     ]
    }
   ],
   "source": [
    "import math\n",
    "\n",
    "nd=10**22 #Donor Impurity Level in per meter cube\n",
    "na=10**24 #Acceptor Impurity Level in per meter cube\n",
    "n=2.4*(10**19) #Intrinsic Electron Concentration in per meter cube\n",
    "T=290 #Temperature in Kelvin\n",
    "k=1.38*(10**-23) #Botlzmann Constant\n",
    "e=1.6*(10**-19) #Charge of a electron\n",
    "\n",
    "#From Equation 2.45 \n",
    "v=(k*T/e)*math.log1p((nd*na)/(n**2)) #Where v is the contact potentital difference in volts\n",
    "v=round(v,2)\n",
    "print \"The Contact Potential Difference is \"+str(v)+\" Volts\"\n"
   ]
  },
  {
   "cell_type": "markdown",
   "metadata": {},
   "source": [
    "##Example 2.6, Page Number 73"
   ]
  },
  {
   "cell_type": "code",
   "execution_count": 6,
   "metadata": {
    "collapsed": false
   },
   "outputs": [
    {
     "name": "stdout",
     "output_type": "stream",
     "text": [
      "P-N concentration is 2.56e+11 /meter cube\n",
      "N-P concentration is 25600000000.0 /meter cube\n",
      "The Saturation Current Density is 1.60e-07 A/meter square\n",
      "The Reverse Bias Saturation Current is 1.60e-13 A\n"
     ]
    }
   ],
   "source": [
    "nd=10**21 #Donor Concentration per meter cube\n",
    "na=10**22 #Acceptor Concentration per meter cube\n",
    "de=3.4*(10**-3) #Drift current-electron\n",
    "dh=1.2*(10**-3) #Drift current-holes\n",
    "le=7.1*(10**-4) #per meter\n",
    "lh=3.5*(10**-4) #per meter\n",
    "n=1.6*(10**16)  #per meter cube\n",
    "e=1.6*(10**-19)  #charge of the electron\n",
    "\n",
    "#Assuming all ions are ionized\n",
    "\n",
    "pn=(2.56*(10**32))/nd\n",
    "np=pn/10\n",
    "\n",
    "#From Equation 2.51a\n",
    "jo=e*((dh/lh)*pn+(de/le)*np) #where Jo is the saturation current density\n",
    "\n",
    "A=10**6 #Junction area\n",
    "io=jo/A #where io is the reverse bias saturation current\n",
    "\n",
    "\n",
    "print \"P-N concentration is \"+str(pn)+\" /meter cube\"\n",
    "print \"N-P concentration is \"+str(np)+\" /meter cube\"\n",
    "print \"The Saturation Current Density is %.2e A/meter square\"%(jo)\n",
    "print \"The Reverse Bias Saturation Current is %.2e A\"%(io)\n"
   ]
  },
  {
   "cell_type": "markdown",
   "metadata": {},
   "source": [
    "##Example 2.7, Page Number 78"
   ]
  },
  {
   "cell_type": "code",
   "execution_count": 7,
   "metadata": {
    "collapsed": false
   },
   "outputs": [
    {
     "name": "stdout",
     "output_type": "stream",
     "text": [
      "The Junction Capacitance is 3.34e-11 Farad\n"
     ]
    }
   ],
   "source": [
    "import math\n",
    "\n",
    "V=-4 #Reverse Bias voltage\n",
    "nd=4*(10**21) #in per meter cube\n",
    "Vo=0.8 \n",
    "A=4*(10**-7) #Junction Area\n",
    "er=11.8 #Relative permittivity\n",
    "e=1.6*(10**-19) #Charge of a Electron\n",
    "eo=8.85*(10**-12) #absolute permittivity \n",
    "\n",
    "#Since in A p+-n junction\n",
    "#By equation 2.63\n",
    "\n",
    "C=(A/2)*math.sqrt((2*eo*er*e*nd)/(Vo-V))\n",
    "\n",
    "print \"The Junction Capacitance is %.2e Farad\"%(C)\n"
   ]
  },
  {
   "cell_type": "markdown",
   "metadata": {},
   "source": [
    "##Example 2.8, Page Number 84"
   ]
  },
  {
   "cell_type": "code",
   "execution_count": 8,
   "metadata": {
    "collapsed": false
   },
   "outputs": [
    {
     "name": "stdout",
     "output_type": "stream",
     "text": [
      "The Effective Increase in the width of the Energy Gap is 0.062 eV\n"
     ]
    }
   ],
   "source": [
    "Lz=10*(10**-9) #Thickness in meter\n",
    "m=9.1*(10**-31) #Mass of Electron\n",
    "me=0.068*m #Effective mass of electron\n",
    "mh=0.56*m #Effective mass of holes\n",
    "h=6.6*(10**-34) #Plancks Constant\n",
    "e=1.6*(10**-19) #Charge of electron\n",
    "\n",
    "Eg=((h*h)/(8*(Lz*Lz)))*((1/me)+(1/mh)) #Where Eg is the effective increase in the width of the energy gap\n",
    "Eg1=Eg/e #Converting in eV\n",
    "Eg1=round(Eg1,3)\n",
    "print \"The Effective Increase in the width of the Energy Gap is \"+str(Eg1)+\" eV\""
   ]
  }
 ],
 "metadata": {
  "kernelspec": {
   "display_name": "Python 2",
   "language": "python",
   "name": "python2"
  },
  "language_info": {
   "codemirror_mode": {
    "name": "ipython",
    "version": 2
   },
   "file_extension": ".py",
   "mimetype": "text/x-python",
   "name": "python",
   "nbconvert_exporter": "python",
   "pygments_lexer": "ipython2",
   "version": "2.7.10"
  }
 },
 "nbformat": 4,
 "nbformat_minor": 0
}
