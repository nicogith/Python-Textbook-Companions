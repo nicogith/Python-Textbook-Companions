{
 "cells": [
  {
   "cell_type": "markdown",
   "metadata": {},
   "source": [
    "# Chapter Five : Lasers I"
   ]
  },
  {
   "cell_type": "markdown",
   "metadata": {},
   "source": [
    "##Example 5.1, Page Number 173"
   ]
  },
  {
   "cell_type": "code",
   "execution_count": 1,
   "metadata": {
    "collapsed": false
   },
   "outputs": [
    {
     "name": "stdout",
     "output_type": "stream",
     "text": [
      "The Ratio of rates of spontaneous & stimulated emission is 155829.12\n"
     ]
    }
   ],
   "source": [
    "import math\n",
    "T=2000 # In Kelvin\n",
    "v=5*(10**14) #Frequency In Hertz\n",
    "h=6.6*(10**-34) #Plancks Constant\n",
    "k=1.38*(10**-23) #Boltzman Constant\n",
    "\n",
    "#From Equation 5.9b\n",
    "\n",
    "R=math.exp((h*v)/(k*T))-1 \n",
    "R=round(R,2)\n",
    "print \"The Ratio of rates of spontaneous & stimulated emission is \"+str(R)\n"
   ]
  },
  {
   "cell_type": "markdown",
   "metadata": {},
   "source": [
    "##Example 5.2, Page Number 176"
   ]
  },
  {
   "cell_type": "code",
   "execution_count": 2,
   "metadata": {
    "collapsed": false
   },
   "outputs": [
    {
     "name": "stdout",
     "output_type": "stream",
     "text": [
      "The Given Energy Difference of the Two Levels is 2.25 eV\n",
      "The Relative Population of the Energy Levels is 1.72e-38\n"
     ]
    }
   ],
   "source": [
    "import math\n",
    "T=300 #Given Room Temperature in kelvin\n",
    "l=550*(10**-9) #Average Wavelength of Visible Radiation\n",
    "h=6.6*(10**-34) #Plancks Constant\n",
    "c=3*(10**8) #Speed Of light\n",
    "k=1.38*(10**-23) #Boltzman Constant\n",
    "e=1.6*(10**-19) #Charge of a Electron\n",
    "\n",
    "E=(h*c)/l #Where E is the given Energy Difference\n",
    "E1=E/e\n",
    "#From Equation 5.4 & given that g1=g2\n",
    "\n",
    "N=math.exp((-1*E)/(k*T)) #Where N is the ratio of N2 and N1\n",
    "\n",
    "print \"The Given Energy Difference of the Two Levels is \"+str(E1)+\" eV\"\n",
    "\n",
    "print \"The Relative Population of the Energy Levels is %.2e\"%(N)"
   ]
  },
  {
   "cell_type": "markdown",
   "metadata": {},
   "source": [
    "##Example 5.3, Page Number 184"
   ]
  },
  {
   "cell_type": "code",
   "execution_count": 3,
   "metadata": {
    "collapsed": false
   },
   "outputs": [
    {
     "name": "stdout",
     "output_type": "stream",
     "text": [
      "Small Signal Gain Coefficient is 5.11e+22 /meter cube\n"
     ]
    }
   ],
   "source": [
    "#For NdYAG\n",
    "t=230*(10**-6) #Spontaneous Lifetime\n",
    "l=1.06*(10**-6) #Wavelength in meter\n",
    "n=1.82 #Refractive Index\n",
    "w=3*(10**12) #Linewidth in Hertz\n",
    "h=6.6*(10**-34) #Plancks Constant\n",
    "PI=3.14\n",
    "#From equation 5.8\n",
    "\n",
    "B21=(l**3)/(8*PI*h*t*(n**3)) #Where B21 is the Einstein Coefficient\n",
    "\n",
    "#From equation 5.18\n",
    "k=1\n",
    "\n",
    "kvs=(k*l*w)/(B21*h*n) #Small Signal Gain Coefficient per meter cube\n",
    "\n",
    "print \"Small Signal Gain Coefficient is %.2e /meter cube\"%(kvs)\n"
   ]
  },
  {
   "cell_type": "markdown",
   "metadata": {},
   "source": [
    "##Example 5.4, Page Number 205"
   ]
  },
  {
   "cell_type": "code",
   "execution_count": 4,
   "metadata": {
    "collapsed": false
   },
   "outputs": [
    {
     "name": "stdout",
     "output_type": "stream",
     "text": [
      "The Reflectance at a GaAs/Air Interface is 0.32\n"
     ]
    }
   ],
   "source": [
    "n2=3.6 #Refractive Index for GaAs\n",
    "n1=1 #Refractive Index for Air\n",
    "#From Fresnels Equation\n",
    "\n",
    "R=((n2-n1)/(n2+n1))**2\n",
    "R=round(R,2)\n",
    "\n",
    "print \"The Reflectance at a GaAs/Air Interface is \"+str(R)"
   ]
  },
  {
   "cell_type": "markdown",
   "metadata": {},
   "source": [
    "##Example 5.5, Page Number 209"
   ]
  },
  {
   "cell_type": "code",
   "execution_count": 5,
   "metadata": {
    "collapsed": false
   },
   "outputs": [
    {
     "name": "stdout",
     "output_type": "stream",
     "text": [
      "The Threshold Gain is 7461.0 /m\n",
      "The Threshold Current Density is 15972801.15 A/mm square\n"
     ]
    }
   ],
   "source": [
    "import math\n",
    "\n",
    "#For GaAs Junction\n",
    "l=0.84*(10**-6) #Wavelength in meter\n",
    "w=1.45*(10**13) #Linewidth in Hertz\n",
    "y=3.5*(10**3) #Loss Coefficient per meter\n",
    "n=3.6 #Refractive Index for GaAs\n",
    "q=1 #Quantam Efficiency\n",
    "le=300*(10**-6)#length in meter\n",
    "d=2*(10**-6) \n",
    "R=0.32 #Reflectance\n",
    "c=3*(10**8) #Speed of light in m/s\n",
    "e=1.6*(10**-19) #Charge of electron\n",
    "#From Equation 5.17\n",
    "\n",
    "v=c/l #Frequency\n",
    "\n",
    "k=y+((1/(2*le))*math.log1p(1/(R*R)))#Where k is the threshold gain \n",
    "k=round(k,0)\n",
    "#From Equation 5.39\n",
    "\n",
    "J=(8*3.14*w*e*(n**2)*d*k*(v**2))/(c**2)\n",
    "J=round(J,2)\n",
    "print \"The Threshold Gain is \"+str(k)+\" /m\"\n",
    "print \"The Threshold Current Density is \"+str(J)+\" A/mm square\""
   ]
  },
  {
   "cell_type": "markdown",
   "metadata": {},
   "source": [
    "##Example 5.6, Page number 225"
   ]
  },
  {
   "cell_type": "code",
   "execution_count": 6,
   "metadata": {
    "collapsed": false
   },
   "outputs": [
    {
     "name": "stdout",
     "output_type": "stream",
     "text": [
      "The Overall Power Efficiency is 0.02 Percent\n"
     ]
    }
   ],
   "source": [
    "i=10*(10**-3) #Current in ampere\n",
    "V=2500 \n",
    "P=5*(10**-3) #optical Output\n",
    "\n",
    "E=P/(i*V) #Where E is the overall Power Efficiency\n",
    "E=E*100\n",
    "print \"The Overall Power Efficiency is \"+str(E)+\" Percent\""
   ]
  }
 ],
 "metadata": {
  "kernelspec": {
   "display_name": "Python 2",
   "language": "python",
   "name": "python2"
  },
  "language_info": {
   "codemirror_mode": {
    "name": "ipython",
    "version": 2
   },
   "file_extension": ".py",
   "mimetype": "text/x-python",
   "name": "python",
   "nbconvert_exporter": "python",
   "pygments_lexer": "ipython2",
   "version": "2.7.10"
  }
 },
 "nbformat": 4,
 "nbformat_minor": 0
}
