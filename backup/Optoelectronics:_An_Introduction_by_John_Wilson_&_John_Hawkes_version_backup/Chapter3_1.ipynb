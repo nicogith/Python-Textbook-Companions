{
 "cells": [
  {
   "cell_type": "markdown",
   "metadata": {},
   "source": [
    "#Chapter Three : Modulation Of Light"
   ]
  },
  {
   "cell_type": "markdown",
   "metadata": {},
   "source": [
    "##Example 3.1, Page Number 97"
   ]
  },
  {
   "cell_type": "code",
   "execution_count": 1,
   "metadata": {
    "collapsed": false
   },
   "outputs": [
    {
     "name": "stdout",
     "output_type": "stream",
     "text": [
      "---------------------------------------------------------------\n",
      " Material   Linear Electro Optic    n+      n-       Relative \n",
      "            Coefficient r(pm/V)                    Permittivity\n",
      "----------------------------------------------------------------\n",
      " KDP           10.6               1.51    1.47         42      \n",
      " KD*P          26.4               1.51    1.47         50      \n",
      " ADP           8.5                1.52    1.48         43   \n",
      " CdTe          6.8                2.6                  10.6\n",
      " GaAs          1.6                3.6                  11.5\n",
      " ZnS           2.1                2.32                 16\n",
      "-----------------------------------------------------------------\n",
      "                      Table 3.1\n",
      "The Change in Refraction Index due to pockels effect is 1.82e-05 \n"
     ]
    }
   ],
   "source": [
    "print \"---------------------------------------------------------------\"\n",
    "print \" Material   Linear Electro Optic    n+      n-       Relative \"\n",
    "print \"            Coefficient r(pm/V)                    Permittivity\"\n",
    "print \"----------------------------------------------------------------\"\n",
    "print \" KDP           10.6               1.51    1.47         42      \"\n",
    "print \" KD*P          26.4               1.51    1.47         50      \"\n",
    "print \" ADP           8.5                1.52    1.48         43   \"\n",
    "print \" CdTe          6.8                2.6                  10.6\"\n",
    "print \" GaAs          1.6                3.6                  11.5\"\n",
    "print \" ZnS           2.1                2.32                 16\"\n",
    "print \"-----------------------------------------------------------------\"\n",
    "print \"                      Table 3.1\"\n",
    "l=10*(10**-3) #width of crystal\n",
    "V=4000 #Applied Voltage\n",
    "\n",
    "#From equation 3.1\n",
    "\n",
    "#Using data in Table 3.1\n",
    "dn=0.5*26.4*(10**-12)*(1.51**3)*(V/(10**-2)) #where dn is the change in refraction index\n",
    "print \"The Change in Refraction Index due to pockels effect is %.2e \"%(dn)\n",
    "\n"
   ]
  },
  {
   "cell_type": "markdown",
   "metadata": {},
   "source": [
    "##Example 3.2, Page Number 101"
   ]
  },
  {
   "cell_type": "code",
   "execution_count": 2,
   "metadata": {
    "collapsed": false
   },
   "outputs": [
    {
     "name": "stdout",
     "output_type": "stream",
     "text": [
      "---------------------------------------------------------------\n",
      " Material   Linear Electro Optic    n+      n-       Relative \n",
      "            Coefficient r(pm/V)                    Permittivity\n",
      "----------------------------------------------------------------\n",
      " KDP           10.6               1.51    1.47         42      \n",
      " KD*P          26.4               1.51    1.47         50      \n",
      " ADP           8.5                1.52    1.48         43   \n",
      " CdTe          6.8                2.6                  10.6\n",
      " GaAs          1.6                3.6                  11.5\n",
      " ZnS           2.1                2.32                 16\n",
      "-----------------------------------------------------------------\n",
      "                      Table 3.1\n",
      "\n",
      "Using Data from table 3.1      \n",
      "The Half Wave Voltage for KDP is 14522.4 Volt\n"
     ]
    }
   ],
   "source": [
    "print \"---------------------------------------------------------------\"\n",
    "print \" Material   Linear Electro Optic    n+      n-       Relative \"\n",
    "print \"            Coefficient r(pm/V)                    Permittivity\"\n",
    "print \"----------------------------------------------------------------\"\n",
    "print \" KDP           10.6               1.51    1.47         42      \"\n",
    "print \" KD*P          26.4               1.51    1.47         50      \"\n",
    "print \" ADP           8.5                1.52    1.48         43   \"\n",
    "print \" CdTe          6.8                2.6                  10.6\"\n",
    "print \" GaAs          1.6                3.6                  11.5\"\n",
    "print \" ZnS           2.1                2.32                 16\"\n",
    "print \"-----------------------------------------------------------------\"\n",
    "print \"                      Table 3.1\"\n",
    "\n",
    "l=1.06*(10**-6) #Wavelength in meter\n",
    "\n",
    "#Using Data from table 3.1 below\n",
    "\n",
    "V=l/(2*10.6*(10**-12)*(1.51**3)) #Where V is the half wave voltage\n",
    "V=round(V,1)\n",
    "print \"\"\n",
    "print \"Using Data from table 3.1      \"\n",
    "print \"The Half Wave Voltage for KDP is \"+str(V)+\" Volt\"\n",
    "\n",
    "\n"
   ]
  },
  {
   "cell_type": "markdown",
   "metadata": {},
   "source": [
    "##Example 3.3, Page Number 105"
   ]
  },
  {
   "cell_type": "code",
   "execution_count": 3,
   "metadata": {
    "collapsed": false
   },
   "outputs": [
    {
     "name": "stdout",
     "output_type": "stream",
     "text": [
      "---------------------------------------------------------------\n",
      " Material   Linear Electro Optic    n+      n-       Relative \n",
      "            Coefficient r(pm/V)                    Permittivity\n",
      "----------------------------------------------------------------\n",
      " KDP           10.6               1.51    1.47         42      \n",
      " KD*P          26.4               1.51    1.47         50      \n",
      " ADP           8.5                1.52    1.48         43   \n",
      " CdTe          6.8                2.6                  10.6\n",
      " GaAs          1.6                3.6                  11.5\n",
      " ZnS           2.1                2.32                 16\n",
      "-----------------------------------------------------------------\n",
      "                      Table 3.1\n",
      "\n",
      "\n",
      "The Power Requirements for Modulation using a Pockels cell is 306.1 W\n"
     ]
    }
   ],
   "source": [
    "print \"---------------------------------------------------------------\"\n",
    "print \" Material   Linear Electro Optic    n+      n-       Relative \"\n",
    "print \"            Coefficient r(pm/V)                    Permittivity\"\n",
    "print \"----------------------------------------------------------------\"\n",
    "print \" KDP           10.6               1.51    1.47         42      \"\n",
    "print \" KD*P          26.4               1.51    1.47         50      \"\n",
    "print \" ADP           8.5                1.52    1.48         43   \"\n",
    "print \" CdTe          6.8                2.6                  10.6\"\n",
    "print \" GaAs          1.6                3.6                  11.5\"\n",
    "print \" ZnS           2.1                2.32                 16\"\n",
    "print \"-----------------------------------------------------------------\"\n",
    "print \"                      Table 3.1\"\n",
    "\n",
    "\n",
    "bw=10**9 #Frequency Bandwidth in Hertz\n",
    "d=25*(10**-3) #Diameter of circular aperture\n",
    "l=30*(10**-3) #Length\n",
    "wl=633*(10**-9) #Given Wavelength\n",
    "PI=3.14\n",
    "k=8.85*(10**-12) #Permittivty of free space\n",
    "#From equation 3.15 & data from table 3.1\n",
    "P=((PI**2)*(wl**2)*PI*((d/2)**2)*bw*k*50)/(4*PI*(30**2)*((26.4*(10**-12))**2)*(1.51**6)*l) #Where P is the power requirements\n",
    "P=round(P,1)\n",
    "\n",
    "print \"\"\n",
    "print \"\"\n",
    "print \"The Power Requirements for Modulation using a Pockels cell is \"+str(P)+\" W\"\n"
   ]
  },
  {
   "cell_type": "markdown",
   "metadata": {},
   "source": [
    "##Example 3.4, Page Number 114"
   ]
  },
  {
   "cell_type": "code",
   "execution_count": 4,
   "metadata": {
    "collapsed": false
   },
   "outputs": [
    {
     "name": "stdout",
     "output_type": "stream",
     "text": [
      "The angle of diffraction is 0.42 Degree\n",
      "The Internal Braggs Angle is 113.6 Degree\n",
      "The Maximum Change in Refraction index is 3.65e-06\n",
      "The Maximum Optical Beam Width is 0.0007 meter\n"
     ]
    }
   ],
   "source": [
    "from math import asin\n",
    "from math import degrees\n",
    "from math import cos\n",
    "from math import sqrt\n",
    "\n",
    "l=633*(10**-9) #Given Wavelength in meter\n",
    "bw=5.0*(10**6) #Bandwidth in hertz\n",
    "l1=50*(10**-3) #Modulation length\n",
    "de=0.7 #Diffraction Efficiency\n",
    "al=4.3*(10**-5) #Acoustic Wavelength in meter\n",
    "av=3500.0 #Acoustic velocity in meter per second\n",
    "\n",
    "#From equation 3.20\n",
    "\n",
    "theta=asin(l/(2*al)) #where theta is the angle of diffraction\n",
    "theta1=degrees(theta) #Converting it into degrees \n",
    "theta1=round(theta1,2)\n",
    "\n",
    "#From equation 3.21\n",
    "\n",
    "phi=2*(asin(sqrt(de))) #where phi is the internal braggs angle\n",
    "phi1=degrees(phi) #Converting it into degrees \n",
    "phi1=round(phi1,1)\n",
    "\n",
    "e=cos(theta1)\n",
    "\n",
    "dn=(phi*l*e)/(3.14*2*l1) #where dn is the maximum change in refraction index\n",
    "\n",
    "B=av/bw\n",
    "\n",
    "print \"The angle of diffraction is \"+str(theta1)+\" Degree\"\n",
    "print \"The Internal Braggs Angle is \"+str(phi1)+\" Degree\"\n",
    "print \"The Maximum Change in Refraction index is %.2e\"%(dn)\n",
    "print \"The Maximum Optical Beam Width is \"+str(B)+\" meter\"\n",
    "\n",
    "#Answer Number 3 is Misprinted in the book\n"
   ]
  },
  {
   "cell_type": "markdown",
   "metadata": {},
   "source": [
    "##Example 3.5, Page Number 123"
   ]
  },
  {
   "cell_type": "code",
   "execution_count": 5,
   "metadata": {
    "collapsed": false
   },
   "outputs": [
    {
     "name": "stdout",
     "output_type": "stream",
     "text": [
      "-----------------------------------------------\n",
      " Wavelength         no              nc          \n",
      "(Micrometer)                                    \n",
      "------------------------------------------------\n",
      " 1.06             1.4943            1.4603    \n",
      " 0.53             1.5132            1.4712\n",
      "-------------------------------------------------\n",
      "\n",
      "The Phase matching angle is 26.0 degrees\n"
     ]
    }
   ],
   "source": [
    "from math import asin\n",
    "from math import degrees\n",
    "\n",
    "print \"-----------------------------------------------\"\n",
    "print \" Wavelength         no              nc          \"\n",
    "print \"(Micrometer)                                    \"\n",
    "print \"------------------------------------------------\"\n",
    "print \" 1.06             1.4943            1.4603    \"\n",
    "print \" 0.53             1.5132            1.4712\"\n",
    "print \"-------------------------------------------------\"\n",
    "\n",
    "print \"\"\n",
    "#from problem 3.10\n",
    "t2=((1.4943**-2)-(1.5132**-2))/((1.4712**-2)-(0.4367))\n",
    "theta1=asin(t2)\n",
    "\n",
    "theta1=degrees(theta1) #Where theta is the phase matching angle\n",
    "theta1=round(theta1,1)\n",
    "print \"The Phase matching angle is \"+str(theta1)+\" degrees\"\n",
    "\n"
   ]
  },
  {
   "cell_type": "markdown",
   "metadata": {},
   "source": [
    "##Example 3.6, Page Number 124"
   ]
  },
  {
   "cell_type": "code",
   "execution_count": 6,
   "metadata": {
    "collapsed": false
   },
   "outputs": [
    {
     "name": "stdout",
     "output_type": "stream",
     "text": [
      "The Coherance Length is 9e-06 meter\n"
     ]
    }
   ],
   "source": [
    "nw=1.5019 #Refraction index at 0.8 micrometer\n",
    "n2w=1.4802 #Refraction index at 0.4 micrometer\n",
    "l=0.8*(10**-6) #Vaccum wavelength at the fundamental frequency\n",
    "\n",
    "lc=l/(4*(nw-n2w)) #Where lc is the coherance length\n",
    "\n",
    "print \"The Coherance Length is %.e meter\"%(lc) "
   ]
  }
 ],
 "metadata": {
  "kernelspec": {
   "display_name": "Python 2",
   "language": "python",
   "name": "python2"
  },
  "language_info": {
   "codemirror_mode": {
    "name": "ipython",
    "version": 2
   },
   "file_extension": ".py",
   "mimetype": "text/x-python",
   "name": "python",
   "nbconvert_exporter": "python",
   "pygments_lexer": "ipython2",
   "version": "2.7.10"
  }
 },
 "nbformat": 4,
 "nbformat_minor": 0
}
