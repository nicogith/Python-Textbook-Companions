{
 "cells": [
  {
   "cell_type": "markdown",
   "metadata": {},
   "source": [
    "# Chapter Eight : Fiber Optical Waveguides"
   ]
  },
  {
   "cell_type": "markdown",
   "metadata": {},
   "source": [
    "##Example 8.1, Page Number 364"
   ]
  },
  {
   "cell_type": "code",
   "execution_count": 1,
   "metadata": {
    "collapsed": false
   },
   "outputs": [
    {
     "name": "stdout",
     "output_type": "stream",
     "text": [
      "The Field Decay factor at 60 degrees is 0.0055\n",
      "The Field Decay factor at 42 degrees is 0.583\n"
     ]
    }
   ],
   "source": [
    "from math import sqrt\n",
    "from math import sin\n",
    "from math import exp\n",
    "from math import pi\n",
    "\n",
    "n1=1.5 #Refraction index of glass/air interface\n",
    "n2=1 #Refraction index of air\n",
    "\n",
    "c1=1*2*3.14*n2\n",
    "s1=(sin(pi/3))**2  #By equation 8.8\n",
    "s2=(n1/n2)**2\n",
    "s3=(s1*s2)-1\n",
    "s4=sqrt(s3)\n",
    "s5=s4*c1\n",
    "\n",
    "#assuming wavelength = field distance\n",
    "\n",
    "F=exp(-1*s5) #Where F is the field decay factor\n",
    "F=round(F,4) #Rounding out the value to equivalent figure\n",
    "\n",
    "#at theta1=42 degrees\n",
    "\n",
    "c1=1*2*3.14*n2\n",
    "theta1=0.733038\n",
    "#ta1=theta1*(180/math.pi)\n",
    "#heta1=round(theta1,1)\n",
    "\n",
    "s1=(sin(theta1))**2 #By equation 8.8\n",
    "s2=(n1/n2)**2\n",
    "s3=(s1*s2)-1\n",
    "s4=sqrt(s3)\n",
    "c4=s4*c1\n",
    "\n",
    "#assuming wavelength = field distance\n",
    "\n",
    "F1=exp(-1*c4)#where F1 is the field decay factor at 42 degrees\n",
    "F1=round(F1,3)\n",
    "\n",
    "print \"The Field Decay factor at 60 degrees is \"+str(F)\n",
    "print \"The Field Decay factor at 42 degrees is \"+str(F1)\n"
   ]
  },
  {
   "cell_type": "markdown",
   "metadata": {},
   "source": [
    "##Example 8.2, Page Number 369"
   ]
  },
  {
   "cell_type": "code",
   "execution_count": 2,
   "metadata": {
    "collapsed": false
   },
   "outputs": [
    {
     "name": "stdout",
     "output_type": "stream",
     "text": [
      "The Total number of possible Modes is 98.0\n"
     ]
    }
   ],
   "source": [
    "from math import sqrt\n",
    "\n",
    "w=100*(10**-6) #Thickness of the WG\n",
    "n1=1.48\n",
    "n2=1.46\n",
    "l=1*(10**-6) #Wavelength of light\n",
    "PI=3.14\n",
    "\n",
    "V=((PI*w)/l)*sqrt((n1**2)-(n2**2))\n",
    "V1=(2*V)/PI\n",
    "\n",
    "#from equation 8.15\n",
    "N=2*(1+abs(V1)) #Where N is the total number of possible modes\n",
    "N=round(N,0)\n",
    "N=N-1\n",
    "print \"The Total number of possible Modes is \"+str(N)\n"
   ]
  },
  {
   "cell_type": "markdown",
   "metadata": {},
   "source": [
    "##Example 8.3, Page Number 370"
   ]
  },
  {
   "cell_type": "code",
   "execution_count": 3,
   "metadata": {
    "collapsed": false
   },
   "outputs": [
    {
     "name": "stdout",
     "output_type": "stream",
     "text": [
      "The Waveguide core thickness must be less than 2.06e-06 meter\n"
     ]
    }
   ],
   "source": [
    "from math import sqrt\n",
    "\n",
    "n1=1.48 #Given refraction index\n",
    "n2=1.46\n",
    "l=1*(10**-6) #Wavelength\n",
    "\n",
    "#from equation 8.16\n",
    "\n",
    "d=l*(1/(2*sqrt((n1**2)-(n2**2))))\n",
    "\n",
    "print \"The Waveguide core thickness must be less than %.2e meter\"%(d)\n"
   ]
  },
  {
   "cell_type": "markdown",
   "metadata": {},
   "source": [
    "##Example 8.4, Page Number 375"
   ]
  },
  {
   "cell_type": "code",
   "execution_count": 4,
   "metadata": {
    "collapsed": false
   },
   "outputs": [
    {
     "name": "stdout",
     "output_type": "stream",
     "text": [
      "The Given V Parameter is 169.2\n",
      "The Number of Modes able to propagate in a fiber is 14314.3\n"
     ]
    }
   ],
   "source": [
    "from math import sqrt\n",
    "n1=1.48 #Given refraction index\n",
    "n2=1.46\n",
    "l=900*(10**-9) #Wavelength in meter\n",
    "r=100*(10**-6) #Core radius in meter\n",
    "PI=3.14\n",
    "\n",
    "V=(2*PI*r*sqrt((n1**2)-(n2**2)))/l #Where V is a given Parameter\n",
    "V=round(V,1)\n",
    "N=(V**2)/2 #Where N is the Number of Modes\n",
    "N=round(N,1)\n",
    "print \"The Given V Parameter is \"+str(V)\n",
    "print \"The Number of Modes able to propagate in a fiber is \"+str(N)\n"
   ]
  },
  {
   "cell_type": "markdown",
   "metadata": {},
   "source": [
    "##Example 8.5, Page Number 377"
   ]
  },
  {
   "cell_type": "code",
   "execution_count": 5,
   "metadata": {
    "collapsed": false
   },
   "outputs": [
    {
     "name": "stdout",
     "output_type": "stream",
     "text": [
      "The Delta Parameter is 0.0134 & 0.0135\n",
      "The Numerical aperture is 0.242\n",
      "The fiber acceptance angle is 14.0 degrees\n"
     ]
    }
   ],
   "source": [
    "from math import asin\n",
    "from math import degrees\n",
    "from math import sqrt\n",
    "\n",
    "n1=1.48\n",
    "n2=1.46 #Given refraction Index\n",
    "no=1\n",
    "\n",
    "theta=asin(n2/n1)\n",
    "theta1=degrees(theta)\n",
    "\n",
    "#Using equation 8.22\n",
    "delta=((n1**2)-(n2**2))/(2*(n1**2))\n",
    "delta=round(delta,4)\n",
    "\n",
    "#using expression of 8.22a\n",
    "delta1=(n1-n2)/n1\n",
    "delta1=round(delta1,4)\n",
    "\n",
    "NA=sqrt((n1**2)-(n2**2))\n",
    "NA=round(NA,3)\n",
    "\n",
    "a=asin(NA) #where a is another fiber parameter\n",
    "\n",
    "a1=degrees(a)\n",
    "a1=round(a1,2)\n",
    "\n",
    "print \"The Delta Parameter is \"+str(delta)+\" & \"+str(delta1)\n",
    "print \"The Numerical aperture is \"+str(NA)\n",
    "print \"The fiber acceptance angle is \"+str(a1)+\" degrees\""
   ]
  },
  {
   "cell_type": "markdown",
   "metadata": {},
   "source": [
    "##Example 8.6, Page Number 380"
   ]
  },
  {
   "cell_type": "code",
   "execution_count": 6,
   "metadata": {
    "collapsed": false
   },
   "outputs": [
    {
     "name": "stdout",
     "output_type": "stream",
     "text": [
      "The Time difference due to Intermodal dispersion is 6.08e-17 seconds\n"
     ]
    }
   ],
   "source": [
    "n1=1.48 #Given refractive index\n",
    "n2=1.46\n",
    "L=1*(10**3) #length of fiber\n",
    "c=3*(10**8) #speed of light\n",
    "\n",
    "#Using equation 8.24\n",
    "t=((l*n1)/(c*n2))*(n1-n2) #where t is the time difference due tp intermodal dispersion\n",
    "\n",
    "print \"The Time difference due to Intermodal dispersion is %.2e seconds\"%(t)\n"
   ]
  },
  {
   "cell_type": "markdown",
   "metadata": {},
   "source": [
    "##Example 8.7, Page Number 383"
   ]
  },
  {
   "cell_type": "code",
   "execution_count": 7,
   "metadata": {
    "collapsed": false
   },
   "outputs": [
    {
     "name": "stdout",
     "output_type": "stream",
     "text": [
      "The Delta Paramter is 0.0134\n",
      "The Minimum Pulse Broadening is 1.11e-10 seconds\n"
     ]
    }
   ],
   "source": [
    "n1=1.48 #Given refraction index\n",
    "n2=1.46\n",
    "l=10**3 #length of the fiber\n",
    "c=3*(10**8) #Speed of light\n",
    "\n",
    "delta=((n1**2)-(n2**2))/(2*(n1**2)) #Where delta is one of the fiber parameter\n",
    "delta=round(delta,4)\n",
    "t=(l*n1*(delta**2))/(c*8) #where t is the minimum pulse broadening\n",
    "\n",
    "print \"The Delta Paramter is \"+str(delta)\n",
    "print \"The Minimum Pulse Broadening is %.2e seconds\"%(t)"
   ]
  },
  {
   "cell_type": "markdown",
   "metadata": {},
   "source": [
    "##Example 8.8, Page Number 387"
   ]
  },
  {
   "cell_type": "code",
   "execution_count": 8,
   "metadata": {
    "collapsed": false
   },
   "outputs": [
    {
     "name": "stdout",
     "output_type": "stream",
     "text": [
      "The Maximum Core Radius is less than or is 2.37e-06 meter\n",
      "The Maximum Core radius is less than or is 5.74e-06 meter\n"
     ]
    }
   ],
   "source": [
    "n1=1.48 #Given refraction indices\n",
    "n2=1.46 \n",
    "NA=0.242\n",
    "l=1.5*(10**-6) #Wavelength of radiation\n",
    "\n",
    "#From equation 8.27\n",
    "a=(2.405*l)/(2*3.14*NA) #where a is the maximum core radius\n",
    "print \"The Maximum Core Radius is less than or is %.2e meter\"%(a)\n",
    "\n",
    "#With NA=0.1\n",
    "NA=0.1\n",
    "a=(2.405*l)/(2*3.14*NA) #where a is the maximum core radius\n",
    "print \"The Maximum Core radius is less than or is %.2e meter\"%(a)\n",
    "\n",
    "#At V=2 The Diameter would 9.5 micro meter"
   ]
  },
  {
   "cell_type": "markdown",
   "metadata": {},
   "source": [
    "##Example 8.9, Page Number 387"
   ]
  },
  {
   "cell_type": "code",
   "execution_count": 9,
   "metadata": {
    "collapsed": false
   },
   "outputs": [
    {
     "name": "stdout",
     "output_type": "stream",
     "text": [
      "The Mode Field Irradiance Diameter is 1.267\n"
     ]
    }
   ],
   "source": [
    "V=2\n",
    "\n",
    "#From equation 8.29a\n",
    "w=0.65+(1.619*(V**(-1.5)))+(2.879*(V**-6))\n",
    "w=round(w,3)\n",
    "print \"The Mode Field Irradiance Diameter is \"+str(w)\n",
    "\n",
    "#Answer is a bit Miscalculated here"
   ]
  },
  {
   "cell_type": "markdown",
   "metadata": {},
   "source": [
    "##Example 8.10, Page Number 390"
   ]
  },
  {
   "cell_type": "code",
   "execution_count": 10,
   "metadata": {
    "collapsed": false
   },
   "outputs": [
    {
     "name": "stdout",
     "output_type": "stream",
     "text": [
      "\n",
      "From Figure 8.26 We can calculate the dimensionless quantity \n",
      " \n",
      " (a) The Material Dispersion Effect Parameter for the LED is 4.20e-09 seconds\n",
      " (b) The Material Dispersion Effect Paramter for the Laser is 6.58e-11 seconds\n"
     ]
    },
    {
     "data": {
      "image/png": "[encoded data removed]",
      "text/plain": [
       "<matplotlib.figure.Figure at 0x3d8fac8>"
      ]
     },
     "metadata": {},
     "output_type": "display_data"
    }
   ],
   "source": [
    "%matplotlib inline\n",
    "import math\n",
    "from matplotlib.pyplot import plot,suptitle,xlabel,ylabel\n",
    "\n",
    "X = [0,0.25,0.5,0.75,1,1.25,1.5,1.55,1.75,2,2.5]\n",
    "V = [1,0.08,0.07,0.04,0.02,0.0,-0.007,-0.015,-0.03,-0.04,-0.06]\n",
    "plot(X,V);\n",
    "xlabel(\"Wavelength in micrometer\")\n",
    "ylabel(\"D (Dimensionless Quantity)\")\n",
    "suptitle(\"Fig 8.26\")\n",
    "\n",
    "l=10.0**3 #length of the fiber\n",
    "w1=850.0*(10**-9) #Given Wavelength\n",
    "lw=50.0*(10**-9) #Linewidth in meter\n",
    "w2=1550.0*(10**-9) #Given Wavelength 2\n",
    "lw2=3.0*(10**-9) #Linewidth 2 in meter\n",
    "c=3.0*(10**8) #Speed of light\n",
    "       \n",
    "print\"\"\n",
    "print \"From Figure 8.26 We can calculate the dimensionless quantity \"\n",
    "       \n",
    "d1=2.14*(10**-2) #For w1 after observation\n",
    "d2=-1.02*(10**-2) #For w2 after observation\n",
    "\n",
    "#From equation 8.34\n",
    "       \n",
    "t1=(l/c)*d1*(lw/w1) #Where t1 is the material dispersion effects for w1\n",
    "t2=(l/c)*d2*(lw2/w2) #Where t2 is the material dispersion effects for w2\n",
    "\n",
    "print \" \"\n",
    "print \" (a) The Material Dispersion Effect Parameter for the LED is %.2e seconds\"%(t1)\n",
    "print \" (b) The Material Dispersion Effect Paramter for the Laser is %.2e seconds\"%(-1*t2)"
   ]
  },
  {
   "cell_type": "markdown",
   "metadata": {},
   "source": [
    "##Example 8.11, Page Number 396"
   ]
  },
  {
   "cell_type": "code",
   "execution_count": 11,
   "metadata": {
    "collapsed": false
   },
   "outputs": [
    {
     "name": "stdout",
     "output_type": "stream",
     "text": [
      "The Attenuation due to Raleigh Scattering in a silica fiber is 0.000178 /m\n",
      "The Total loss due to Attenuation is 0.77 db/km\n",
      "The Attenuation due to Raleigh Scattering in a silica fiber is 3.1e-05 /m\n",
      "The Total loss due to Attenuation is 0.13 db/km\n"
     ]
    }
   ],
   "source": [
    "from math import exp\n",
    "from math import log10\n",
    "\n",
    "l=1*(10**-6) #Given Wavelength\n",
    "l1=10**3 #length of the fiber\n",
    "n=1.45 #Refractive Index\n",
    "p=0.286\n",
    "B=7*(10**-11) \n",
    "T=1400 #Temperature in kelvin\n",
    "PI=3.14\n",
    "k=1.38*(10**-23) #Boltzman Constant\n",
    "\n",
    "#From equation 8.38\n",
    "\n",
    "ar=((8*(PI**3))/(3*(l**4)))*((n**8)*B*T*k*(p**2))    #Where ar is the attenuation due to raleigh scattering in per meter\n",
    "ar=round(ar,6)\n",
    "print \"The Attenuation due to Raleigh Scattering in a silica fiber is \"+str(ar)+\" /m\"\n",
    "\n",
    "i1=(ar*-1*l1)\n",
    "j=exp(i1)\n",
    "Loss=-10*log10(j) #Where Loss is the given loss generated from attenuation\n",
    "Loss=round(Loss,2)\n",
    "print \"The Total loss due to Attenuation is \"+str(Loss)+\" db/km\"\n",
    "\n",
    "#at a wavelength of 1.55 micro meter we have\n",
    "l=1.55*(10**-6) #new Wavelength\n",
    "\n",
    "ar=((8*(PI**3))/(3*(l**4)))*((n**8)*B*T*k*(p**2)) #Where ar is the attenuation due to raleigh scattering in per meter\n",
    "ar=round(ar,6)\n",
    "print \"The Attenuation due to Raleigh Scattering in a silica fiber is \"+str(ar)+\" /m\"\n",
    "\n",
    "Loss=-10*log10(exp(ar*-1*l1))    #Where Loss is the given loss generated from attenuation\n",
    "Loss=round(Loss,2)\n",
    "print \"The Total loss due to Attenuation is \"+str(Loss)+\" db/km\"\n",
    "\n"
   ]
  },
  {
   "cell_type": "markdown",
   "metadata": {},
   "source": [
    "##Example 8.12, Page Number 398"
   ]
  },
  {
   "cell_type": "code",
   "execution_count": 12,
   "metadata": {
    "collapsed": false
   },
   "outputs": [
    {
     "name": "stdout",
     "output_type": "stream",
     "text": [
      "The Fraction of light reflected back at each end is 0.0375\n",
      "The Total Transmission for each face due to Fresnals Reflection is 0.9264\n",
      "The Total Transmission loss is 0.33 db\n"
     ]
    }
   ],
   "source": [
    "from math import log10\n",
    "n=1.48 #Refraction index of fiber\n",
    "n0=1  #refraction index between the fibers in air\n",
    "\n",
    "#From equation 8.39\n",
    "Rf=(((n-1)/(n+1))**2) #Where Rf is the fraction of light\n",
    "Rf=round(Rf,4)\n",
    "\n",
    "Tf=((1-Rf)**2)  #Where Tf is the total transmission for each face due to fresnals reflection\n",
    "Tf=round(Tf,4)\n",
    "\n",
    "L=-10*log10(Tf) #where L is the Transmission Loss\n",
    "L=round(L,2)\n",
    "\n",
    "print \"The Fraction of light reflected back at each end is \"+str(Rf)\n",
    "print \"The Total Transmission for each face due to Fresnals Reflection is \"+str(Tf)\n",
    "print \"The Total Transmission loss is \"+str(L)+\" db\""
   ]
  },
  {
   "cell_type": "markdown",
   "metadata": {},
   "source": [
    "##Example 8.13, Page Number 399"
   ]
  },
  {
   "cell_type": "code",
   "execution_count": 13,
   "metadata": {
    "collapsed": false
   },
   "outputs": [
    {
     "name": "stdout",
     "output_type": "stream",
     "text": [
      "The Total Transmission loss is 0.59 db\n",
      "The Total Transmission loss including Fresnels loss is 0.922 db\n"
     ]
    }
   ],
   "source": [
    "from math import acos\n",
    "from math import log10\n",
    "from math import sqrt\n",
    "\n",
    "l=0.1 #where l=D/2a and occurs due to lateral misalignment where D is the lateral displacement and a is the fiber core radius\n",
    "PI=3.14\n",
    "\n",
    "#From equation 8.40\n",
    "T=(2/PI)*(acos(l)-l*(sqrt(1-(l**2))))\n",
    "L=-10*log10(T) #Where L is the Transmission loss\n",
    "L=round(L,2)\n",
    "\n",
    "#taking tha calculation of Fresnels loss from above example also we have\n",
    "\n",
    "LT=L+0.332\n",
    "print \"The Total Transmission loss is \"+str(L)+\" db\"\n",
    "print \"The Total Transmission loss including Fresnels loss is \"+str(LT)+\" db\"\n"
   ]
  },
  {
   "cell_type": "markdown",
   "metadata": {},
   "source": [
    "##Example 8.14, Page Number 404"
   ]
  },
  {
   "cell_type": "code",
   "execution_count": 14,
   "metadata": {
    "collapsed": false
   },
   "outputs": [
    {
     "name": "stdout",
     "output_type": "stream",
     "text": [
      "The Insertion loss is 11.5 db\n",
      "The Excess Loss is 3.03 db\n"
     ]
    }
   ],
   "source": [
    "from math import log10\n",
    "\n",
    "d1=200*(10**-6) #in meter\n",
    "d2=250*(10**-6) #in meter\n",
    "# d2 & d1 where d1 is the core diameter and d2 is the core+cladding diameter\n",
    "#The Mixing rod has a diameter of 3d2\n",
    "d3=3*d2\n",
    "#Given Power Levels P1=(B*3.14*(3d2**2))/4 & P2=(B*3.14*(d1**2)/)/4 where B is a constant\n",
    "\n",
    "L=-10*log10((d1**2)/(d3**2)) #Where L is the Insertion Loss\n",
    "Le=-10*log10((7*(d1**2))/(d3**2)) #Where Le is the Excess loss\n",
    "L=round(L,1)\n",
    "Le=round(Le,2)\n",
    "print \"The Insertion loss is \"+str(L)+\" db\"\n",
    "print \"The Excess Loss is \"+str(Le)+\" db\"\n",
    "\n"
   ]
  }
 ],
 "metadata": {
  "kernelspec": {
   "display_name": "Python 2",
   "language": "python",
   "name": "python2"
  },
  "language_info": {
   "codemirror_mode": {
    "name": "ipython",
    "version": 2
   },
   "file_extension": ".py",
   "mimetype": "text/x-python",
   "name": "python",
   "nbconvert_exporter": "python",
   "pygments_lexer": "ipython2",
   "version": "2.7.10"
  }
 },
 "nbformat": 4,
 "nbformat_minor": 0
}
