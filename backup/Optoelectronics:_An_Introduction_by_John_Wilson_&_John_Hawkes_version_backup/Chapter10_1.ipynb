{
 "cells": [
  {
   "cell_type": "markdown",
   "metadata": {},
   "source": [
    "# Chapter Ten : Non-Communication Applications Of Fibers"
   ]
  },
  {
   "cell_type": "markdown",
   "metadata": {},
   "source": [
    "##Example 10.1, Page Number 497 "
   ]
  },
  {
   "cell_type": "code",
   "execution_count": 1,
   "metadata": {
    "collapsed": false
   },
   "outputs": [
    {
     "name": "stdout",
     "output_type": "stream",
     "text": [
      "The Microbending Sensor Periodicity is 0.00095 m\n"
     ]
    }
   ],
   "source": [
    "from math import sqrt\n",
    "d=50*(10**-6) #Core Diameter\n",
    "n2=1.48 #Core refractive index\n",
    "n1=1.46 #Cladding refractive index\n",
    "a=d/2\n",
    "PI=3.14\n",
    "#From Example 8.5\n",
    "\n",
    "n=(n2-n1)/n2\n",
    "\n",
    "delta=(2*PI*a)/(sqrt(2*n)) #Where delta is the microbending sensor periodicity\n",
    "delta=round(delta,5)\n",
    "print \"The Microbending Sensor Periodicity is \"+str(delta)+\" m\""
   ]
  },
  {
   "cell_type": "markdown",
   "metadata": {},
   "source": [
    "##Example 10.2, Page Number 498"
   ]
  },
  {
   "cell_type": "code",
   "execution_count": 2,
   "metadata": {
    "collapsed": false
   },
   "outputs": [
    {
     "name": "stdout",
     "output_type": "stream",
     "text": [
      "The Wavelength Sensitivity to temparature changes of the filter structure is 1.1315e-11 nm/K\n",
      "The Effective Photoelastic Coefficient is 0.22\n",
      "As far as Strain is concerned the Sensitivity is 1.21e-06 m/e\n"
     ]
    }
   ],
   "source": [
    "a=5*(10**-7) #Thermal expansion Coefficient\n",
    "b=6.8*(10**-6) #Thermal Expansion Coefficient\n",
    "l=1.55*(10**-6) #Given Wavelength\n",
    "p11=0.126\n",
    "p12=0.274  #Given Constant Coeffiecients\n",
    "u=0.17  \n",
    "n=1.46\n",
    "#By equation 10.3\n",
    "dl=l*(a+b) #where dl is the wavelength sensitivity to temp. changes\n",
    "\n",
    "print \"The Wavelength Sensitivity to temparature changes of the filter structure is \"+str(dl)+\" nm/K\"\n",
    "\n",
    "pe=((n**2)/2)*(((1-u)*p12)-(u*p11))  #where pe is the effective photoelastic coefficient\n",
    "pe=round(pe,3)\n",
    "\n",
    "print \"The Effective Photoelastic Coefficient is \"+str(pe)\n",
    "\n",
    "#By equation 10.4\n",
    "dl=l*(1-pe) \n",
    "\n",
    "print \"As far as Strain is concerned the Sensitivity is %.2e m/e\"%(dl)\n"
   ]
  },
  {
   "cell_type": "markdown",
   "metadata": {},
   "source": [
    "##Example 10.3, Page Number 502"
   ]
  },
  {
   "cell_type": "code",
   "execution_count": 3,
   "metadata": {
    "collapsed": false
   },
   "outputs": [
    {
     "name": "stdout",
     "output_type": "stream",
     "text": [
      "The Fractional Change of Temperature Sensitivity of Raman Scattering Sensor is 0.7 percent per degree celsius\n"
     ]
    }
   ],
   "source": [
    "v=1.5*(10**13) #Raman shift of silcia in terms of Hertz\n",
    "T=(273+50) #Temperature in terms of Kelvin\n",
    "d=1 #Fractional change in r in terms of per degree\n",
    "k=1.38*(10**-23) #Boltzman Constant\n",
    "h=6.6*(10**-34) #Plancks Constant\n",
    "\n",
    "#From equation 10.5\n",
    "dr=(h*v)/(k*(T**2))  #Where dr is the fractional change of temperature sensitivity of raman sensor\n",
    "dr=dr*100\n",
    "dr=round(dr,1)\n",
    "print \"The Fractional Change of Temperature Sensitivity of Raman Scattering Sensor is \"+str(dr)+\" percent per degree celsius\"\n",
    "\n"
   ]
  },
  {
   "cell_type": "markdown",
   "metadata": {},
   "source": [
    "##Example 10.4, Page Number 509"
   ]
  },
  {
   "cell_type": "code",
   "execution_count": 4,
   "metadata": {
    "collapsed": false
   },
   "outputs": [
    {
     "name": "stdout",
     "output_type": "stream",
     "text": [
      "The Phase Shift in Sagnac Gryoscope is 0.00019 radian\n"
     ]
    }
   ],
   "source": [
    "n=1000 #Turns on the Fibre\n",
    "r=0.1 #Radius in meter\n",
    "r2=15 #Earths rotation rate per hour\n",
    "PI=3.14\n",
    "c=3*(10**8) #Speed of light\n",
    "l=1*(10**-6) #Wavelength in meter\n",
    "r1=(r2*PI)/(180*3600) #Converting it into radian per second\n",
    "\n",
    "#From equation 10.12\n",
    "theta=(8*PI*n*PI*(r**2)*r1)/(l*c) #Where theta is the phase shift\n",
    "theta=round(theta,5)\n",
    "\n",
    "print \"The Phase Shift in Sagnac Gryoscope is \"+str(theta)+\" radian\""
   ]
  },
  {
   "cell_type": "markdown",
   "metadata": {},
   "source": [
    "##Example 10.5, Page Number 514"
   ]
  },
  {
   "cell_type": "code",
   "execution_count": 5,
   "metadata": {
    "collapsed": false
   },
   "outputs": [
    {
     "name": "stdout",
     "output_type": "stream",
     "text": [
      "The Amount of Polarization rotation is 0.0015 degree\n"
     ]
    }
   ],
   "source": [
    "#For Silica\n",
    "V=4 #in Radian / m T\n",
    "n=10 #No of turns\n",
    "I=30 #Current in ampere\n",
    "ur=1 #Relative permaebility\n",
    "uo=4*3.14*(10**-7) #Absolute permaebility\n",
    "PI=3.14\n",
    "#From equation 10.14\n",
    "t=PI/180\n",
    "theta=n*V*uo*ur*I #where theta is the polarization rotation\n",
    "theta=round(theta,4)\n",
    "\n",
    "print \"The Amount of Polarization rotation is \"+str(theta)+\" degree\"\n",
    "\n",
    "#Answer miscalculated in Book"
   ]
  }
 ],
 "metadata": {
  "kernelspec": {
   "display_name": "Python 2",
   "language": "python",
   "name": "python2"
  },
  "language_info": {
   "codemirror_mode": {
    "name": "ipython",
    "version": 2
   },
   "file_extension": ".py",
   "mimetype": "text/x-python",
   "name": "python",
   "nbconvert_exporter": "python",
   "pygments_lexer": "ipython2",
   "version": "2.7.10"
  }
 },
 "nbformat": 4,
 "nbformat_minor": 0
}
