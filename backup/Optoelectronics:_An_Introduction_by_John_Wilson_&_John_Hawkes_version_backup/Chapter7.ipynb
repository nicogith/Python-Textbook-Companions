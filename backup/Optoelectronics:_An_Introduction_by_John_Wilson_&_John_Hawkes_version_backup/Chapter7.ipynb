{
 "cells": [
  {
   "cell_type": "markdown",
   "metadata": {},
   "source": [
    "# Chapter Seven : Photodetectors"
   ]
  },
  {
   "cell_type": "markdown",
   "metadata": {},
   "source": [
    "##Example 7.1, Page Number 296"
   ]
  },
  {
   "cell_type": "code",
   "execution_count": 1,
   "metadata": {
    "collapsed": false
   },
   "outputs": [
    {
     "name": "stdout",
     "output_type": "stream",
     "text": [
      "The Sensitivty of the device at this wavelength is 5e-10 W\n"
     ]
    }
   ],
   "source": [
    "import math\n",
    "D=10**9 #Given D value\n",
    "l=2*(10**-6) #Wavelength in meter\n",
    "A=25*(10**-6) #Area in meter square\n",
    "db=10*(10**3) #Detection Bandwidth in hertz\n",
    "\n",
    "#From equation 7.2\n",
    "NEP=(math.sqrt(A*db))/D #Where NEP is the detector sensitivty\n",
    "\n",
    "print \"The Sensitivty of the device at this wavelength is \"+str(NEP)+\" W\""
   ]
  },
  {
   "cell_type": "markdown",
   "metadata": {},
   "source": [
    "##Example 7.2, Page Number 306"
   ]
  },
  {
   "cell_type": "code",
   "execution_count": 2,
   "metadata": {
    "collapsed": false
   },
   "outputs": [
    {
     "name": "stdout",
     "output_type": "stream",
     "text": [
      "The Vaccum Photodiode Output Current is 2.01e-07 A\n"
     ]
    }
   ],
   "source": [
    "l=500*(10**-9) #Wavelength of radiation\n",
    "P=1*(10**-6) #Given Power\n",
    "q=0.5 #Quantam Efficiency\n",
    "e=1.6*(10**-19) #Charge of a electron\n",
    "h=6.63*(10**-34) #Plancks Constant\n",
    "c=3*(10**8) #Speed of light\n",
    "\n",
    "#From equation 7.9\n",
    "i=(q*e*P*l)/(h*c) #Where i is the current generated\n",
    "\n",
    "print \"The Vaccum Photodiode Output Current is %.2e A\"%(i)"
   ]
  },
  {
   "cell_type": "markdown",
   "metadata": {},
   "source": [
    "##Example 7.3, Page Number 311"
   ]
  },
  {
   "cell_type": "code",
   "execution_count": 3,
   "metadata": {
    "collapsed": false
   },
   "outputs": [
    {
     "name": "stdout",
     "output_type": "stream",
     "text": [
      "The thermionic Emission Current is 1.43e-13 A\n",
      "The Responsivity is 0.1 A/W\n",
      "The Minimum detectable Signal Power is 2.136e-15 W\n"
     ]
    }
   ],
   "source": [
    "import math\n",
    "A=1000*(10**-6) #Cathode Area\n",
    "wf=1.25 #Work function in eV\n",
    "T=300 #Cathod temperature in Kelvin\n",
    "e=1.6*(10**-19) #Charge of the electron\n",
    "k=1.38*(10**-23) #Boltzman Constant\n",
    "a1=1.2*(10**6) #given constants \n",
    "l=0.5*(10**-6) #Wavelength\n",
    "q=0.25 #Quantam Efficiency\n",
    "h=6.63*(10**-34) #Plancks Constant\n",
    "c=3*(10**8) #Speed of light\n",
    "f=1\n",
    "\n",
    "#From equation 7.11\n",
    "e1=(k*T)/e \n",
    "e1=round(e1,3)\n",
    "c2=(-1*wf)/e1\n",
    "c2=round(c2,4)\n",
    "c3=math.exp(c2)\n",
    "it=a1*A*(T**2)*c3 #Where it is the current generated\n",
    "\n",
    "print \"The thermionic Emission Current is %.2e A\"%(it)\n",
    "\n",
    "#Using Equation 7.9\n",
    "r=(q*e*l)/(h*c) #where r is the responsivity\n",
    "r=round(r,2)\n",
    "print \"The Responsivity is \"+str(r)+\" A/W\"\n",
    "\n",
    "#Using Equation 7.13\n",
    "W=(math.sqrt(2*it*e*f))/r #Where W is the minimum detectable power\n",
    "print \"The Minimum detectable Signal Power is %.3e W\"%(W)\n",
    "\n",
    "#Answer is misprinted in the book"
   ]
  },
  {
   "cell_type": "markdown",
   "metadata": {},
   "source": [
    "##Example 7.4, Page Number 311"
   ]
  },
  {
   "cell_type": "code",
   "execution_count": 4,
   "metadata": {
    "collapsed": false
   },
   "outputs": [
    {
     "name": "stdout",
     "output_type": "stream",
     "text": [
      "The RMS Value of the Voltage is 4.07e-09 V\n",
      "The Shot Noise Current is 1.789e-15 A\n",
      "The Shot Noise Voltage across load resistance is 1.789e-05 V\n"
     ]
    }
   ],
   "source": [
    "import math\n",
    "T=300 #Temperature in kelvin\n",
    "lr=10**3 #Load resistor\n",
    "bw=10**3 #Bandwidth in hertz\n",
    "k=1.38*(10**-23) #Boltzman Constant\n",
    "i=10**-14 #Photomultiplier current\n",
    "e=1.6*(10**-19) #Charge of a electron\n",
    "g=10**7 #Photomultiplier Gain\n",
    "#From equation 7.14\n",
    "V=math.sqrt(4*k*T*bw) #where V is the shot noise voltge\n",
    "\n",
    "#From equation 7.12\n",
    "id=math.sqrt(2*i*e*bw) #where is the shot noise current\n",
    "\n",
    "V1=id*g*lr #Where V1 is the voltage observed across load resistance\n",
    "\n",
    "print \"The RMS Value of the Voltage is %.2e V\"%(V)\n",
    "print \"The Shot Noise Current is %.3e A\"%(id)\n",
    "print \"The Shot Noise Voltage across load resistance is %.3e V\"%(V1)"
   ]
  },
  {
   "cell_type": "markdown",
   "metadata": {},
   "source": [
    "##Example 7.5, Page Number 324"
   ]
  },
  {
   "cell_type": "code",
   "execution_count": 5,
   "metadata": {
    "collapsed": false
   },
   "outputs": [
    {
     "name": "stdout",
     "output_type": "stream",
     "text": [
      "The Energy Difference between the two levels is 0.17 eV\n",
      "The Optical Wavelength is 7.312e-06 meters\n"
     ]
    }
   ],
   "source": [
    "n3=1 #Given Energy Levels\n",
    "n2=2\n",
    "Lz=10*(10**-9) #Width of the well\n",
    "m=9.1*(10**-31) #Mass of a electron\n",
    "me=0.068*m\n",
    "h=6.63*(10**-34) #Plancks Constant\n",
    "c=3*(10**8) #Speed of light\n",
    "e1=1.6*(10**-19) #Charge of electron\n",
    "\n",
    "#By Equation 2.64\n",
    "\n",
    "E=((h**2)/(me*8))*(((n2/Lz)**2)-((n3/Lz)**2)) #where E is the energy difference between the levels\n",
    "E1=E/e1 #Converting it into electron volt\n",
    "E1=round(E1,2)\n",
    "l=(h*c)/E1 #where l is the optical wavelength\n",
    "l1=l/e1\n",
    "print \"The Energy Difference between the two levels is \"+str(E1)+\" eV\"\n",
    "print \"The Optical Wavelength is %.3e meters\"%(l1)"
   ]
  },
  {
   "cell_type": "markdown",
   "metadata": {
    "collapsed": true
   },
   "source": [
    "##Example 7.6, Page Number 329"
   ]
  },
  {
   "cell_type": "code",
   "execution_count": 6,
   "metadata": {
    "collapsed": false
   },
   "outputs": [
    {
     "name": "stdout",
     "output_type": "stream",
     "text": [
      "The Depletion region thickness is 5.09e-06 m\n",
      "The fraction of the incident radiation absorbed is 3.99e-01\n"
     ]
    }
   ],
   "source": [
    "import math\n",
    "from IPython.display import Image\n",
    "from IPython.display import display\n",
    "\n",
    "#Taking Silicon Diode with N-region\n",
    "V=100 #Applied Voltage\n",
    "Nd=5*(10**21) #in terms of per meter cube\n",
    "eo=8.85*(10**-12) #Absolute permittivity\n",
    "er=11.7\n",
    "e=1.6*(10**-19) #Charge of the electron\n",
    "#using equation 7.31\n",
    "xn=math.sqrt((2*eo*er*V)/(e*Nd))\n",
    "\n",
    "#from the above figure\n",
    "ac=10**5 #Absorption Coefficient in terms of per meter\n",
    "\n",
    "#ignoring fresnal reflection\n",
    "f=1-math.exp(-1*xn*ac)\n",
    "f=round(f,3)\n",
    "print \"The Depletion region thickness is %.2e m\"%(xn)\n",
    "print \"The fraction of the incident radiation absorbed is %.2e\"%(f)\n"
   ]
  },
  {
   "cell_type": "markdown",
   "metadata": {},
   "source": [
    "##Example 7.7, Page Number 334"
   ]
  },
  {
   "cell_type": "code",
   "execution_count": 7,
   "metadata": {
    "collapsed": false
   },
   "outputs": [
    {
     "name": "stdout",
     "output_type": "stream",
     "text": [
      "The Device Capacitance is 5.31e-13 Farad\n",
      "The Total response time for the detector is 3.324e-11 seconds\n"
     ]
    }
   ],
   "source": [
    "import math\n",
    "it=2*(10**-6) #I-region thickness\n",
    "A=(100*(10**-6))*(100*(10**-6)) #Given area in meter\n",
    "lr=50 #Load resistor\n",
    "v=10**5 #Saturation Velocity in Metre/second\n",
    "er=12 #Given relative permittivity\n",
    "k=8.85*(10**-12) #boltzman constant\n",
    "\n",
    "t=it/v #Transit Velocity of electrons\n",
    "\n",
    "#From equation 7.34\n",
    "c=(A*k*er)/it #Where c is the device capacitance\n",
    "\n",
    "trc=c*lr \n",
    "\n",
    "ttotal=math.sqrt((t**2)+(trc**2)) #where ttotal is the total response time\n",
    "print \"The Device Capacitance is \"+str(c)+\" Farad\"\n",
    "print \"The Total response time for the detector is %.3e seconds\"%(ttotal)"
   ]
  },
  {
   "cell_type": "markdown",
   "metadata": {},
   "source": [
    "##Example 7.8, Page Number 334"
   ]
  },
  {
   "cell_type": "code",
   "execution_count": 8,
   "metadata": {
    "collapsed": false
   },
   "outputs": [
    {
     "name": "stdout",
     "output_type": "stream",
     "text": [
      "The Time taken for the excess carriers to diffuse the given distance is 3.68e-09 seconds\n"
     ]
    }
   ],
   "source": [
    "t=5*(10**-6) #Thickness of the layer\n",
    "Dc=3.4*(10**-3) #Where Dc is the Minority diffusion coefficient\n",
    "\n",
    "#From equation 7.37\n",
    "td=(t**2)/(2*Dc) #where td is the diffusion time\n",
    "\n",
    "print \"The Time taken for the excess carriers to diffuse the given distance is %.2e seconds\"%(td)"
   ]
  }
 ],
 "metadata": {
  "kernelspec": {
   "display_name": "Python 2",
   "language": "python",
   "name": "python2"
  },
  "language_info": {
   "codemirror_mode": {
    "name": "ipython",
    "version": 2
   },
   "file_extension": ".py",
   "mimetype": "text/x-python",
   "name": "python",
   "nbconvert_exporter": "python",
   "pygments_lexer": "ipython2",
   "version": "2.7.10"
  }
 },
 "nbformat": 4,
 "nbformat_minor": 0
}
