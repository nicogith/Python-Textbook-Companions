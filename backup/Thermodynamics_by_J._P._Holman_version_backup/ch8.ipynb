{
 "metadata": {
  "name": "",
  "signature": "sha256:79ebced3b14c5bbd0f1f1f599d71ac5841752e19c3ef6de2a5a4223855b1a785"
 },
 "nbformat": 3,
 "nbformat_minor": 0,
 "worksheets": [
  {
   "cells": [
    {
     "cell_type": "heading",
     "level": 1,
     "metadata": {},
     "source": [
      "Chapter 8 :\n",
      "applications of statistical\n",
      "thermodynamics"
     ]
    },
    {
     "cell_type": "heading",
     "level": 2,
     "metadata": {},
     "source": [
      "Example 8.1 pg : 202"
     ]
    },
    {
     "cell_type": "code",
     "collapsed": false,
     "input": [
      "\t\t\t\n",
      "# Variables\n",
      "T = 70. \t\t\t#K\n",
      "Tr = 85.5 \t\t\t#K\n",
      "\t\t\t\n",
      "# Calculations\n",
      "cvrot = 1.1\n",
      "cvtra = 1.5\n",
      "cv = cvtra+cvrot\n",
      "\t\t\t\n",
      "# Results\n",
      "print \"Cv total  =  %.1f R\"%(cv)\n"
     ],
     "language": "python",
     "metadata": {},
     "outputs": [
      {
       "output_type": "stream",
       "stream": "stdout",
       "text": [
        "Cv total  =  2.6 R\n"
       ]
      }
     ],
     "prompt_number": 1
    },
    {
     "cell_type": "heading",
     "level": 2,
     "metadata": {},
     "source": [
      "Example 8.2 pg : 202"
     ]
    },
    {
     "cell_type": "code",
     "collapsed": false,
     "input": [
      "\t\t\t\n",
      "# Variables\n",
      "T = 2000. \t\t\t#K\n",
      "Tr = 3340. \t\t\t#K\n",
      "\t\t\t\n",
      "# Calculations\n",
      "print (\"From fig 8.2\")\n",
      "cvrot = 0.85\n",
      "cvtra = 1.5\n",
      "cvvib = 1.\n",
      "cv = cvtra+cvrot+cvvib\n",
      "\t\t\t\n",
      "# Results\n",
      "print \"Cv total  =  %.2f R\"%(cv)\n"
     ],
     "language": "python",
     "metadata": {},
     "outputs": [
      {
       "output_type": "stream",
       "stream": "stdout",
       "text": [
        "From fig 8.2\n",
        "Cv total  =  3.35 R\n"
       ]
      }
     ],
     "prompt_number": 2
    },
    {
     "cell_type": "heading",
     "level": 2,
     "metadata": {},
     "source": [
      "Example 8.3 pg : 208"
     ]
    },
    {
     "cell_type": "code",
     "collapsed": false,
     "input": [
      "\t\t\t\n",
      "# Variables\n",
      "T = 200. \t\t\t#K\n",
      "the = 398. \t\t\t#K\n",
      "\t\t\t\n",
      "# Calculations\n",
      "ratio = T/the\n",
      "cv = 4.9\n",
      "\t\t\t\n",
      "# Results\n",
      "print \"Specific heat of aluminium  =  %.1f cal/g mol K\"%(cv)\n"
     ],
     "language": "python",
     "metadata": {},
     "outputs": [
      {
       "output_type": "stream",
       "stream": "stdout",
       "text": [
        "Specific heat of aluminium  =  4.9 cal/g mol K\n"
       ]
      }
     ],
     "prompt_number": 3
    },
    {
     "cell_type": "heading",
     "level": 2,
     "metadata": {},
     "source": [
      "Example 8.4 pg : 208"
     ]
    },
    {
     "cell_type": "code",
     "collapsed": false,
     "input": [
      "\t\t\t\n",
      "# Variables\n",
      "T = 10. \t\t\t#K\n",
      "td = 315. \t\t\t#K\n",
      "\t\t\t\n",
      "# Calculations\n",
      "cv = 464.4 *(T/td)**3\n",
      "\t\t\t\n",
      "# Results\n",
      "print \"specific heat of copper  =  %.5f cal/g mol K\"%(cv)\n"
     ],
     "language": "python",
     "metadata": {},
     "outputs": [
      {
       "output_type": "stream",
       "stream": "stdout",
       "text": [
        "specific heat of copper  =  0.01486 cal/g mol K\n"
       ]
      }
     ],
     "prompt_number": 4
    },
    {
     "cell_type": "heading",
     "level": 2,
     "metadata": {},
     "source": [
      "Example 8.5 pg : 213"
     ]
    },
    {
     "cell_type": "code",
     "collapsed": false,
     "input": [
      "\t\t\t\n",
      "# Variables\n",
      "import math \n",
      "N0 = 6.025*10**23\n",
      "M = 63.57 \n",
      "d = 8.94 \t\t\t#g/cc\n",
      "h = 6.624*10**-27\n",
      "me = 9.1*10**-28\n",
      "\t\t\t\n",
      "# Calculations\n",
      "NbyV = N0*d/M\n",
      "mu0 = h**2 *(3*NbyV/ math.pi)**(2./3) /(8*me)\n",
      "e0 = 0.6*mu0*10**-7\n",
      "Teq = 2*e0/(3*1.38*10**-23)\n",
      "\t\t\t\n",
      "# Results\n",
      "print \"Equivalent temperature  =  %d K\"%(Teq)\n",
      "\n",
      "# check using calculator"
     ],
     "language": "python",
     "metadata": {},
     "outputs": [
      {
       "output_type": "stream",
       "stream": "stdout",
       "text": [
        "Equivalent temperature  =  32681 K\n"
       ]
      }
     ],
     "prompt_number": 6
    },
    {
     "cell_type": "heading",
     "level": 2,
     "metadata": {},
     "source": [
      "Example 8.6 pg : 214"
     ]
    },
    {
     "cell_type": "code",
     "collapsed": false,
     "input": [
      "\t\t\t\n",
      "# Variables\n",
      "import math \n",
      "T = 300.         \t\t\t#K\n",
      "mu = 1.13*10**-18\n",
      "k = 1.38*10**-23\n",
      "\t\t\t\n",
      "# Calculations\n",
      "cv = math.pi**2 *k*T/(2*mu)\n",
      "\t\t\t\n",
      "# Results\n",
      "print \"Electron contribution  =  %.4f R\"%(cv)\n"
     ],
     "language": "python",
     "metadata": {},
     "outputs": [
      {
       "output_type": "stream",
       "stream": "stdout",
       "text": [
        "Electron contribution  =  0.0181 R\n"
       ]
      }
     ],
     "prompt_number": 7
    },
    {
     "cell_type": "heading",
     "level": 2,
     "metadata": {},
     "source": [
      "Example 8.7 pg : 223"
     ]
    },
    {
     "cell_type": "code",
     "collapsed": false,
     "input": [
      "\t\t\t\n",
      "# Variables\n",
      "sig = 5.668*10**-5\n",
      "T1 = 1000. \t\t\t#K\n",
      "T2 = 2000. \t\t\t#K\n",
      "\t\t\t\n",
      "# Calculations\n",
      "Eb1 = sig*T1**4 *10**-7\n",
      "Eb2 = sig*T2**4 *10**-7\n",
      "\t\t\t\n",
      "# Results\n",
      "print \"total energy emitted in case 1  =  %.3f Watts/cm**2\"%(Eb1)\n",
      "print \" total energy emitted in case 2  =  %.3f Watts/cm**2\"%(Eb2)\n"
     ],
     "language": "python",
     "metadata": {},
     "outputs": [
      {
       "output_type": "stream",
       "stream": "stdout",
       "text": [
        "total energy emitted in case 1  =  5.668 Watts/cm**2\n",
        " total energy emitted in case 2  =  90.688 Watts/cm**2\n"
       ]
      }
     ],
     "prompt_number": 8
    }
   ],
   "metadata": {}
  }
 ]
}