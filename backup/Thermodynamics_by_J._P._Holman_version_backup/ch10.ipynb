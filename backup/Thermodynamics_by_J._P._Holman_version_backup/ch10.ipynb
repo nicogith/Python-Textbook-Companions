{
 "metadata": {
  "name": "",
  "signature": "sha256:9a6776975ca26711999c009e1ea80f5d9873f1eba4664269073ed9b23e69c74f"
 },
 "nbformat": 3,
 "nbformat_minor": 0,
 "worksheets": [
  {
   "cells": [
    {
     "cell_type": "heading",
     "level": 1,
     "metadata": {},
     "source": [
      "Chapter 10 :\n",
      "Gaseous Mixtures"
     ]
    },
    {
     "cell_type": "heading",
     "level": 2,
     "metadata": {},
     "source": [
      "Example 10.1 pg : 262"
     ]
    },
    {
     "cell_type": "code",
     "collapsed": false,
     "input": [
      "\t\t\t\n",
      "# Variables\n",
      "m = 2. \n",
      "M = 28.\n",
      "M2 = 32.\n",
      "PN = 300. \t\t\t#psia\n",
      "Pt = 400.\t\t\t#psia\n",
      "\t\t\t\n",
      "# Calculations\n",
      "nN = m/M\n",
      "PO = Pt-PN\n",
      "nO = nN*PO/PN\n",
      "mO = M2*nO\n",
      "\t\t\t\n",
      "# Results\n",
      "print \"Mass of oxygen added  =  %.3f lbm\"%(mO)\n"
     ],
     "language": "python",
     "metadata": {},
     "outputs": [
      {
       "output_type": "stream",
       "stream": "stdout",
       "text": [
        "Mass of oxygen added  =  0.762 lbm\n"
       ]
      }
     ],
     "prompt_number": 1
    },
    {
     "cell_type": "heading",
     "level": 2,
     "metadata": {},
     "source": [
      "Example 10.2 pg : 262"
     ]
    },
    {
     "cell_type": "code",
     "collapsed": false,
     "input": [
      "\t\t\t\n",
      "# Variables\n",
      "n = 0.0714\n",
      "R = 1545.\n",
      "T = 560. \t\t\t#R\n",
      "P = 400. \t\t\t#psia\n",
      "VN = n*R*T/(P*144)\n",
      "VO = (0.0238)*R*T/(P*144)\n",
      "V = VN+VO\n",
      "\t\t\t\n",
      "# Results\n",
      "print \"Total volume  =  %.3f ft**3\"%(V)\n"
     ],
     "language": "python",
     "metadata": {},
     "outputs": [
      {
       "output_type": "stream",
       "stream": "stdout",
       "text": [
        "Total volume  =  1.430 ft**3\n"
       ]
      }
     ],
     "prompt_number": 2
    },
    {
     "cell_type": "heading",
     "level": 2,
     "metadata": {},
     "source": [
      "Example 10.3 pg : 265"
     ]
    },
    {
     "cell_type": "code",
     "collapsed": false,
     "input": [
      "\t\t\t\n",
      "# Variables\n",
      "import math \n",
      "m1 = 5.\n",
      "m2 = 2.\n",
      "cp1 = 0.248\n",
      "cp2 = 0.203\n",
      "T11 = 300. \t\t\t#F\n",
      "T12 = 100. \t\t\t#F\n",
      "P = 10. \t\t\t#psia\n",
      "Pi = 20. \t\t\t#psia\n",
      "Pf = 15. \t\t\t#psia\n",
      "\t\t\t\n",
      "# Calculations\n",
      "T2 = (m1*cp1*T11 + m2*cp2*T12)/(m1*cp1+m2*cp2)\n",
      "n1 = m1/28.\n",
      "n2 = m2/44.\n",
      "n = n1+n2\n",
      "P1 = P*n1/n\n",
      "P2 = P*n2/n\n",
      "dS = m2*(cp2*math.log((T2+460)/(T12+460)) - 35.1/778 *math.log(P2/Pi)) +m2*(cp2*math.log((T2+460)/(T12+460)) - 55.2/778 *math.log(P1/Pf))\n",
      "\t\t\t\n",
      "# Results\n",
      "print \"change in enthalpy  =  %.2f B/R\"%(dS)\n"
     ],
     "language": "python",
     "metadata": {},
     "outputs": [
      {
       "output_type": "stream",
       "stream": "stdout",
       "text": [
        "change in enthalpy  =  0.49 B/R\n"
       ]
      }
     ],
     "prompt_number": 3
    },
    {
     "cell_type": "heading",
     "level": 2,
     "metadata": {},
     "source": [
      "Example 10.4 pg : 268"
     ]
    },
    {
     "cell_type": "code",
     "collapsed": false,
     "input": [
      "\t\t\t\n",
      "# Variables\n",
      "Pg = 2.8886 \t\t\t#psia\n",
      "P = 25.      \t\t\t#psia\n",
      "phi = 0.5\n",
      "\t\t\t\n",
      "# Calculations\n",
      "pv = phi*Pg\n",
      "pa = P-pv\n",
      "w = 0.622*pv/pa\n",
      "x = (w)/(1+w)\n",
      "\t\t\t\n",
      "# Results\n",
      "print \"Mass fraction of water vapor in the mixture  =  %.4f lbm vapor/ lvm mixture\"%(x)\n"
     ],
     "language": "python",
     "metadata": {},
     "outputs": [
      {
       "output_type": "stream",
       "stream": "stdout",
       "text": [
        "Mass fraction of water vapor in the mixture  =  0.0367 lbm vapor/ lvm mixture\n"
       ]
      }
     ],
     "prompt_number": 4
    },
    {
     "cell_type": "heading",
     "level": 2,
     "metadata": {},
     "source": [
      "Example 10.5 pg : 271"
     ]
    },
    {
     "cell_type": "code",
     "collapsed": false,
     "input": [
      "\t\t\t\n",
      "# Variables\n",
      "pgw = 0.5069 \t\t\t#psia\n",
      "p = 14.696   \t\t\t#psia\n",
      "Td = 100. \t    \t\t#F\n",
      "Tw = 80.     \t\t\t#F\n",
      "\t\t\t\n",
      "# Calculations\n",
      "pv =  pgw- (p-pgw)*(Td-Tw)/(2800-Tw)\n",
      "pg = 0.9492 \t\t\t#psia\n",
      "phi = pv/pg\n",
      "\t\t\t\n",
      "# Results\n",
      "print \"relative humidity of air stream  =  %.1f percent\"%(phi*100)\n"
     ],
     "language": "python",
     "metadata": {},
     "outputs": [
      {
       "output_type": "stream",
       "stream": "stdout",
       "text": [
        "relative humidity of air stream  =  42.4 percent\n"
       ]
      }
     ],
     "prompt_number": 5
    },
    {
     "cell_type": "heading",
     "level": 2,
     "metadata": {},
     "source": [
      "Example 10.6 pg : 279"
     ]
    },
    {
     "cell_type": "code",
     "collapsed": false,
     "input": [
      "\t\t\t\n",
      "# Variables\n",
      "w1 = 0.0176 \t\t\t#lbm\n",
      "w2 = 0.0093 \t\t\t#lbm\n",
      "T2d = 73.   \t\t\t#F\n",
      "T2 = 55.     \t\t\t#F\n",
      "\t\t\t\n",
      "# Calculations\n",
      "hv1 = 1061+0.445*100\n",
      "hv2 = 1061+0.445*55\n",
      "hf = 23.06\n",
      "q1 = 20.\n",
      "q2 = 4.88\n",
      "\t\t\t\n",
      "# Results\n",
      "print \"Heat removed in cooling section  =  %d Btu/lbm \"%(q1)\n",
      "print \"Heat added in heating section  =  %.2f Btu/lbm \"%(q2)\n"
     ],
     "language": "python",
     "metadata": {},
     "outputs": [
      {
       "output_type": "stream",
       "stream": "stdout",
       "text": [
        "Heat removed in cooling section  =  20 Btu/lbm \n",
        "Heat added in heating section  =  4.88 Btu/lbm \n"
       ]
      }
     ],
     "prompt_number": 6
    },
    {
     "cell_type": "heading",
     "level": 2,
     "metadata": {},
     "source": [
      "Example 10.7 pg : 280"
     ]
    },
    {
     "cell_type": "code",
     "collapsed": false,
     "input": [
      "\t\t\t\n",
      "# Variables\n",
      "Tdb = 115. \t\t\t#F\n",
      "ph = 0.05\n",
      "\n",
      "Twb = 67. \t\t\t#F\n",
      "\t\t\t\n",
      "# Results\n",
      "print (\"From steam tables, Twb = 67 F\")\n"
     ],
     "language": "python",
     "metadata": {},
     "outputs": [
      {
       "output_type": "stream",
       "stream": "stdout",
       "text": [
        "From steam tables, Twb = 67 F\n"
       ]
      }
     ],
     "prompt_number": 7
    },
    {
     "cell_type": "heading",
     "level": 2,
     "metadata": {},
     "source": [
      "Example 10.8 pg : 280"
     ]
    },
    {
     "cell_type": "code",
     "collapsed": false,
     "input": [
      "\t\t\t\n",
      "# Variables\n",
      "w1 = 206.\n",
      "w2 = 55.\n",
      "ma1 = 2.\n",
      "ma2 = 3.\n",
      "\t\t\t\n",
      "# Calculations\n",
      "w3 =  (ma1*w1 + ma2*w2)/(ma1+ma2)\n",
      "Tdb3 = 82.   \t\t\t#F\n",
      "TWb3 = 74.55 \t\t\t#F\n",
      "phi3 = 70. \t    \t\t#percent\n",
      "\t\t\t\n",
      "# Results\n",
      "print \"relative humidity  =  %d percent\"%(phi3)\n",
      "print \" Dry bulb temperature  =  %d F\"%(Tdb3)\n",
      "print \" Wet bulb temperature  =  %.2f F\"%(TWb3)\n"
     ],
     "language": "python",
     "metadata": {},
     "outputs": [
      {
       "output_type": "stream",
       "stream": "stdout",
       "text": [
        "relative humidity  =  70 percent\n",
        " Dry bulb temperature  =  82 F\n",
        " Wet bulb temperature  =  74.55 F\n"
       ]
      }
     ],
     "prompt_number": 8
    }
   ],
   "metadata": {}
  }
 ]
}