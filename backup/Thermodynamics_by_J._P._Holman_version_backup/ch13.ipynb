{
 "metadata": {
  "name": "",
  "signature": "sha256:11cb16e5df43b71fcfcbd028a413a4b4822b665e44e65d30bde344b1e73319cb"
 },
 "nbformat": 3,
 "nbformat_minor": 0,
 "worksheets": [
  {
   "cells": [
    {
     "cell_type": "heading",
     "level": 1,
     "metadata": {},
     "source": [
      "Chapter 13 :\n",
      "Thermodynamics of irreversible\n",
      "processes"
     ]
    },
    {
     "cell_type": "heading",
     "level": 2,
     "metadata": {},
     "source": [
      "Example 13.1 pg : 377"
     ]
    },
    {
     "cell_type": "code",
     "collapsed": false,
     "input": [
      "\t\t\t\n",
      "# Variables\n",
      "Eab1 = 0.\n",
      "Eab2 = 5.87 \t\t\t#mV\n",
      "T1 = 150.    \t\t\t#F\n",
      "T2 = 200. \t    \t\t#F\n",
      "\t\t\t\n",
      "# Calculations\n",
      "Eab =  -1.12+ 0.035*T1\n",
      "pi1 = 0.035*(T1+460)\n",
      "pi2 = 0.035*(T2+460)\n",
      "\t\t\t\n",
      "# Results\n",
      "print \"Thermocouple reading at %d F  =  %.2f mv\"%(T1,Eab)\n",
      "print \" Peltier coefficient at %d F  =  %.1f mv\"%(T1,pi1)\n",
      "print \" Peltier coefficient at %d F  =  %.1f mv\"%(T2,pi2)\n"
     ],
     "language": "python",
     "metadata": {},
     "outputs": [
      {
       "output_type": "stream",
       "stream": "stdout",
       "text": [
        "Thermocouple reading at 150 F  =  4.13 mv\n",
        " Peltier coefficient at 150 F  =  21.4 mv\n",
        " Peltier coefficient at 200 F  =  23.1 mv\n"
       ]
      }
     ],
     "prompt_number": 1
    },
    {
     "cell_type": "heading",
     "level": 2,
     "metadata": {},
     "source": [
      "Example 13.2 pg : 380"
     ]
    },
    {
     "cell_type": "code",
     "collapsed": false,
     "input": [
      "\t\t\t\n",
      "# Variables\n",
      "T = 0.   \t\t\t#C\n",
      "\t\t\t\n",
      "# Calculations\n",
      "de1 = -72. \t\t\t#mV/C\n",
      "de2 = 500. \t\t\t#mv/C\n",
      "alpha = de1-de2\n",
      "pi = -(T+273)*alpha\n",
      "\t\t\t\n",
      "# Results\n",
      "print \"Peltier coefficient at %d C  =  %d mv\"%(T,pi/1000)\n"
     ],
     "language": "python",
     "metadata": {},
     "outputs": [
      {
       "output_type": "stream",
       "stream": "stdout",
       "text": [
        "Peltier coefficient at 0 C  =  156 mv\n"
       ]
      }
     ],
     "prompt_number": 2
    }
   ],
   "metadata": {}
  }
 ]
}