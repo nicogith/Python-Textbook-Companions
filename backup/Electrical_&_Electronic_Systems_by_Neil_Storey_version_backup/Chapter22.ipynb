{
 "cells": [
  {
   "cell_type": "markdown",
   "metadata": {},
   "source": [
    "# Chapter 22: Power Electronics"
   ]
  },
  {
   "cell_type": "markdown",
   "metadata": {},
   "source": [
    "## Example 22.1, Page 475"
   ]
  },
  {
   "cell_type": "code",
   "execution_count": 6,
   "metadata": {
    "collapsed": false
   },
   "outputs": [
    {
     "name": "stdout",
     "output_type": "stream",
     "text": [
      " Output Voltage, V = 12.0 V\n"
     ]
    }
   ],
   "source": [
    "import math\n",
    "#Initialization\n",
    "vz=4.7                     #voltage\n",
    "r3=1.222*10**3                #resistance in ohm\n",
    "r4=10**3                  #resistance in ohm\n",
    "\n",
    "\n",
    "#Calculation\n",
    "Vo=(vz+0.7)*((r3+r4)*r4**-1)         #output voltage\n",
    "\n",
    "\n",
    "#Result\n",
    "print' Output Voltage, V = %.1f V'%Vo\n"
   ]
  },
  {
   "cell_type": "markdown",
   "metadata": {},
   "source": [
    "## Example 22.2, Page 476"
   ]
  },
  {
   "cell_type": "code",
   "execution_count": 10,
   "metadata": {
    "collapsed": false
   },
   "outputs": [
    {
     "name": "stdout",
     "output_type": "stream",
     "text": [
      "Power delivered to the load, P = 5 W\n",
      "Power dissipated in the output transistor, P = 10 W\n"
     ]
    }
   ],
   "source": [
    "import math\n",
    "#Initialization\n",
    "vo=10                     #voltage\n",
    "rl=5                      #resistance in ohm\n",
    "vi=15                      #voltage\n",
    "\n",
    "\n",
    "#Calculation\n",
    "io=vo*rl**-1                    #current in ampere\n",
    "po=vo*io**-1                      #power delivered to the load in watt\n",
    "pt=(vi-vo)*io                #power dissipated in the output transistor in watt\n",
    "\n",
    "\n",
    "\n",
    "#Result\n",
    "print'Power delivered to the load, P = %d W'%po\n",
    "print'Power dissipated in the output transistor, P = %d W'%pt\n"
   ]
  },
  {
   "cell_type": "code",
   "execution_count": null,
   "metadata": {
    "collapsed": true
   },
   "outputs": [],
   "source": []
  }
 ],
 "metadata": {
  "anaconda-cloud": {},
  "kernelspec": {
   "display_name": "Python [Root]",
   "language": "python",
   "name": "Python [Root]"
  },
  "language_info": {
   "codemirror_mode": {
    "name": "ipython",
    "version": 2
   },
   "file_extension": ".py",
   "mimetype": "text/x-python",
   "name": "python",
   "nbconvert_exporter": "python",
   "pygments_lexer": "ipython2",
   "version": "2.7.12"
  }
 },
 "nbformat": 4,
 "nbformat_minor": 0
}
