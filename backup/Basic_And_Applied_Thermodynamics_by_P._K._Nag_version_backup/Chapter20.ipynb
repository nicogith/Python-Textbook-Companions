{
 "cells": [
  {
   "cell_type": "markdown",
   "metadata": {},
   "source": [
    "# Chapter 20:Internal Combustion Engines"
   ]
  },
  {
   "cell_type": "markdown",
   "metadata": {},
   "source": [
    "## Ex20.2:pg-852"
   ]
  },
  {
   "cell_type": "code",
   "execution_count": 1,
   "metadata": {
    "collapsed": false
   },
   "outputs": [
    {
     "name": "stdout",
     "output_type": "stream",
     "text": [
      "\n",
      " Example 20.2\n",
      "\n",
      "\n",
      " Diameter of cylinder =  6.20350490899  cm\n",
      " Stroke of each cylinder =  9.30525736349  cm\n",
      " Brake specific fuel consumption =  0.292207792208  kg/kWh\n"
     ]
    }
   ],
   "source": [
    "import math\n",
    "# Given that\n",
    "# Four cylinder engine\n",
    "BP = 30.0 # Power developed by engine in kW\n",
    "N = 2500.0 # Speed in rpm\n",
    "P_m = 800.0 # Mean effective pressure for each cylinder in kN/m**2\n",
    "n_m = 0.8 # Mechanical efficiency\n",
    "r = 1.5 # Stroke to bore ratio\n",
    "n_b = 0.28 # Brake thermal efficiency\n",
    "c_v = 44.0 # Heating value of petrol in MJ/kg\n",
    "print \"\\n Example 20.2\\n\"\n",
    "IP = BP/n_m\n",
    "d = ((IP*1000*60)/(P_m*1000*r*(math.pi/4)*N*4))**(1.0/3.0)\n",
    "L = r*d\n",
    "m_f = BP/(c_v*1000*n_b)\n",
    "bsfc = m_f*3600/BP\n",
    "print \"\\n Diameter of cylinder = \",d*10**2 ,\" cm\\n Stroke of each cylinder = \",L*100 ,\" cm\\n Brake specific fuel consumption = \",bsfc ,\" kg/kWh\""
   ]
  },
  {
   "cell_type": "markdown",
   "metadata": {},
   "source": [
    "## Ex20.1:pg-851"
   ]
  },
  {
   "cell_type": "code",
   "execution_count": 3,
   "metadata": {
    "collapsed": false
   },
   "outputs": [
    {
     "name": "stdout",
     "output_type": "stream",
     "text": [
      "\n",
      " Example 20.1\n",
      "\n",
      "\n",
      " Fuel consumption of the engine =  6.73508593048  Kg/h\n",
      " BMEP= 637.807536593  kN/m**2\n"
     ]
    }
   ],
   "source": [
    "import math\n",
    "# Given that\n",
    "d = 6.5# Diametre in cm\n",
    "L = 9.5 # Stroke in cm\n",
    "T = 64.0 # Torque in Nm\n",
    "N = 3000.0 # Speed in rpm\n",
    "V_c = 63.0 # Clearance volume in cm**3\n",
    "r = 0.5 # Brake efficiency ratio\n",
    "c_v = 42.0 # Calorific value of gasoline in MJ/kg\n",
    "print \"\\n Example 20.1\\n\"\n",
    "V_s = (math.pi/4)*(d**2)*(L)\n",
    "r_k = (V_s+V_c)/V_c\n",
    "n_as = 1- (1.0/(r_k**(0.4)))\n",
    "n_b = r*n_as\n",
    "BP = (2*math.pi*T*N)/60000\n",
    "m_f = (BP*3600)/(n_b*c_v*1000)# in kg/h\n",
    "BMEP = BP*60*2/((math.pi/4)*4*(d**2)*L*N*10**(-6))\n",
    "print \"\\n Fuel consumption of the engine = \",m_f ,\" Kg/h\\n BMEP=\",BMEP ,\" kN/m**2\"\n",
    "#The answers vary due to round off error\n",
    "\n"
   ]
  },
  {
   "cell_type": "markdown",
   "metadata": {},
   "source": [
    "## Ex20.3:pg-853"
   ]
  },
  {
   "cell_type": "code",
   "execution_count": 4,
   "metadata": {
    "collapsed": false
   },
   "outputs": [
    {
     "name": "stdout",
     "output_type": "stream",
     "text": [
      "\n",
      " Example 20.3\n",
      "\n",
      "\n",
      " Indicated power =  7.59218224618  kW\n",
      " Indicate mean effective pressure =  386.666666667  kN/m**2\n",
      "  Fuel consumption per kWh on brake power output =  0.255681818182  Kg/kWh\n"
     ]
    }
   ],
   "source": [
    "import math\n",
    "# Given that\n",
    "F = 680.0 # Net brake load in N\n",
    "N = 360.0 # \n",
    "d = 10.0# Bore in cm\n",
    "L = 15.0 # Stroke in cm\n",
    "T = 58.0 # Torque in Nm\n",
    "v = 300.0 # Speed in m/min\n",
    "n_m = 0.8 # Mechanical efficiency\n",
    "n_th = 0.4 # Indicated thermal efficiency\n",
    "c_v = 44.0 # Calorific value of gasoline in MJ/kg\n",
    "print \"\\n Example 20.3\\n\"\n",
    "N = v/(2*L*(10**(-2)))\n",
    "BP = (2*math.pi*T*N)/60000\n",
    "IP = BP/n_m\n",
    "p_m = (IP*60)/(L*(math.pi/4)*(d**2)*N*10**(-6))\n",
    "m_f = (IP*3600)/(n_th*c_v*1000)\n",
    "bsfc = m_f/BP\n",
    "print \"\\n Indicated power = \",IP ,\" kW\\n Indicate mean effective pressure = \",p_m ,\" kN/m**2\\n  Fuel consumption per kWh on brake power output = \",bsfc ,\" Kg/kWh\"\n",
    "\n",
    "\n"
   ]
  },
  {
   "cell_type": "markdown",
   "metadata": {},
   "source": [
    "## Ex20.4:pg-853"
   ]
  },
  {
   "cell_type": "code",
   "execution_count": 5,
   "metadata": {
    "collapsed": false
   },
   "outputs": [
    {
     "name": "stdout",
     "output_type": "stream",
     "text": [
      "\n",
      " Example 20.4\n",
      "\n",
      "\n",
      " Indicated power =  18.080022801  kW\n",
      " Brake power =  12.8176980266  kW\n",
      "\n",
      " Energy release by combustion of fuel is  68640.0  kJ \n",
      " 1. Energy equivalent of ip is  21696.0273613  kJ ( 31.6084314704  percent)\n",
      " 2. Energy carried away by cooling water is  16748.0  kJ ( 24.3997668998  percent),\n",
      " 3. Energy carried away by exhaust gases is  19333.323828  kJ ( 28.1662643182  percent),\n",
      " 4. Unaccounted energy loss (by difference) is  10862.6488107  kJ ( 15.8255373117  percent)\n"
     ]
    }
   ],
   "source": [
    "import math\n",
    "# Given that\n",
    "T = 20.0 # Time in minute\n",
    "F = 680.0 # Net brake load in N\n",
    "N = 360.0 # Speed in rpm\n",
    "mep = 3.0 # Mean effective pressure in bar\n",
    "f = 1.56 # Fuel consumption in kg\n",
    "m_w = 160.0 # Cooling water in kg\n",
    "t = 57.0 # Water inlet temperature in degree centigrade\n",
    "r = 30.0 # Air used per kg of fuel\n",
    "t_r = 27.0 # Room temperature in degree centigrade\n",
    "t_e = 310.0 # Exhaust gas temperature in degree centigrade\n",
    "d = 210.0 # Bore in mm\n",
    "L = 290.0 # Stroke in mm\n",
    "D = 1.0 # Brake diameter in m\n",
    "cv = 44.0 # Calorific value in MJ/kg\n",
    "m_s = 1.3 # Steam formed per kg fuel in the exhaust in kg\n",
    "s = 2.093 # Specific heat of steam in the exhaust in kJ/kgK\n",
    "s_d = 1.01 # Specific heat of dry exhaust gases in kJ/kgK\n",
    "print \"\\n Example 20.4\\n\"\n",
    "i_p = mep*100*L*(10**-3)*(math.pi/4)*((d*(10**-3))**2)*N/60\n",
    "b_p = (2*math.pi*(F*(D/2))*N)/60000\n",
    "n_m = b_p / i_p\n",
    "h = f*cv*1000\n",
    "i_pe = i_p*T*60\n",
    "e_w = m_w * 4.187*(t-32)\n",
    "m_t = f*r + f\n",
    "m_s_ = m_s*f\n",
    "m_d = m_t - m_s_\n",
    "e_d = m_d * s_d * (t_e-t_r)\n",
    "e_s = m_s_*(4.187*(100-t_r) + 2257.9 +s*(t_e-100))\n",
    "e_t = e_s + e_d\n",
    "e_Un = h - (i_pe + e_w + e_t)\n",
    "print \"\\n Indicated power = \",i_p ,\" kW\\n Brake power = \",b_p ,\" kW\"\n",
    "print \"\\n Energy release by combustion of fuel is \",h ,\" kJ \\n 1. Energy equivalent of ip is \",i_pe ,\" kJ (\",(i_pe/h)*100 ,\" percent)\\n 2. Energy carried away by cooling water is \",e_w ,\" kJ (\",(e_w/h)*100 ,\" percent),\\n 3. Energy carried away by exhaust gases is \",e_t ,\" kJ (\",(e_t/h)*100 ,\" percent),\\n 4. Unaccounted energy loss (by difference) is \",e_Un ,\" kJ (\",(e_Un/h)*100 ,\" percent)\""
   ]
  },
  {
   "cell_type": "markdown",
   "metadata": {},
   "source": [
    "## Ex20.5:pg-853"
   ]
  },
  {
   "cell_type": "code",
   "execution_count": 6,
   "metadata": {
    "collapsed": false
   },
   "outputs": [
    {
     "name": "stdout",
     "output_type": "stream",
     "text": [
      "\n",
      " Example 20.5\n",
      "\n",
      "\n",
      " Indicated power =  15.1189146454  kW\n",
      " Brake power =  11.178833859  kW\n",
      " Mechanical efficiency =  73.9393939394  percent,\n",
      " Indicated thermal efficiency =  29.1059319377  percent,\n",
      " Brake thermal efficiency =  21.5207496751  percent\n"
     ]
    }
   ],
   "source": [
    "import math\n",
    "# Given that\n",
    "F = 610.0 # Net brake load in N\n",
    "N = 350.0 # Speed in rpm\n",
    "d = 20.0 # Bore in cm\n",
    "L = 30.0 # Stroke in cm\n",
    "imep = 275.0 # Mean effective pressure in kN/m**2\n",
    "D = 1.0 # Brake diameter in m\n",
    "m_o = 4.25 # Oil consumption in kg/h\n",
    "cv = 44.0 # Calorific value in MJ/kg\n",
    "print \"\\n Example 20.5\\n\"\n",
    "i_p = imep*1000*L*(10**-2)*(math.pi/4)*((d*(10**-2))**2)*N/60000\n",
    "b_p = (2*math.pi*(F*(D/2))*N)/60000\n",
    "n_m = b_p / i_p\n",
    "n_th = i_p *3600/(m_o*cv*1000)\n",
    "n_br = n_th*n_m\n",
    "print \"\\n Indicated power = \",i_p ,\" kW\\n Brake power = \",b_p ,\" kW\\n Mechanical efficiency = \",n_m*100 ,\" percent,\\n Indicated thermal efficiency = \",n_th*100 ,\" percent,\\n Brake thermal efficiency = \",n_br*100 ,\" percent\""
   ]
  },
  {
   "cell_type": "markdown",
   "metadata": {},
   "source": [
    "## Ex20.6:pg-853"
   ]
  },
  {
   "cell_type": "code",
   "execution_count": 7,
   "metadata": {
    "collapsed": false
   },
   "outputs": [
    {
     "name": "stdout",
     "output_type": "stream",
     "text": [
      "\n",
      " Example 20.6\n",
      "\n",
      "\n",
      "Avg no of misfire =  3.0\n"
     ]
    }
   ],
   "source": [
    "import math\n",
    "# Given that\n",
    "no = 6.0 # No of cylinders\n",
    "Vs = 1.75 # Stroke volume in litres\n",
    "P = 26.25 # Power developed in kW\n",
    "N = 506.0 # Speed in rpm\n",
    "mep = 600.0 # Mean effectine pressure in kN/m**2\n",
    "print \"\\n Example 20.6\\n\"\n",
    "n = P*60000/(no*mep*1000*Vs*(10**-3))\n",
    "n_e = N/2\n",
    "n_m = n_e - n\n",
    "print \"\\nAvg no of misfire = \",n_m\n",
    "\n",
    "\n",
    "\n"
   ]
  },
  {
   "cell_type": "markdown",
   "metadata": {},
   "source": [
    "## Ex20.7:pg-853"
   ]
  },
  {
   "cell_type": "code",
   "execution_count": 8,
   "metadata": {
    "collapsed": false
   },
   "outputs": [
    {
     "name": "stdout",
     "output_type": "stream",
     "text": [
      "\n",
      " Example 20.7\n",
      "\n",
      "\n",
      "Saving in fuel =  1.81818181818  kg/h\n"
     ]
    }
   ],
   "source": [
    "import math\n",
    "# Given that\n",
    "Bp = 110 # Brake power in kW\n",
    "n_m = 0.8 # Mechanical efficiency of the engine\n",
    "m_f = 50 # Fuel required for engine in kg/h\n",
    "r_f = 5 # Reduced engine friction in kW\n",
    "print \"\\n Example 20.7\\n\"\n",
    "Ip = Bp/n_m\n",
    "Fp = Ip-Bp\n",
    "Fp_n = Fp-r_f\n",
    "Ip_new = Bp + Fp_n\n",
    "m_f_new = Ip_new * m_f/ Ip\n",
    "s_f = m_f- m_f_new\n",
    "print \"\\nSaving in fuel = \",s_f ,\" kg/h\""
   ]
  },
  {
   "cell_type": "markdown",
   "metadata": {},
   "source": [
    "## Ex20.8:pg-853"
   ]
  },
  {
   "cell_type": "code",
   "execution_count": 10,
   "metadata": {
    "collapsed": false
   },
   "outputs": [
    {
     "name": "stdout",
     "output_type": "stream",
     "text": [
      "\n",
      " Example 20.8\n",
      "\n",
      "\n",
      " Mechanical efficiency =  82.6306913997  percent,\n",
      " Relative efficiency on indicated power basis =  54.0966815927  percent\n"
     ]
    }
   ],
   "source": [
    "import math\n",
    "# Given that\n",
    "Bp = 14.7 # Brake power when all cylinder operating in kW\n",
    "Bp1 = 10.14 # Brake power with cylinder no. 1 cut out in kW\n",
    "Bp2 = 10.3 # Brake power with cylinder no. 2 cut out in kW\n",
    "Bp3 = 10.36 # Brake power with cylinder no. 3 cut out in kW\n",
    "Bp4 = 10.21 # Brake power with cylinder no. 4 cut out in kW\n",
    "m_f = 5.5 # Fuel consumption in kg/h\n",
    "cv = 42 # Calorific value MJ/kg\n",
    "d = 8 # Diameter of cylinder in cm\n",
    "L = 10 # Stroke of cylinder in cm\n",
    "Vc = 0.1 # Clearance volume in litre\n",
    "print \"\\n Example 20.8\\n\"\n",
    "Ip1 = Bp-Bp1\n",
    "Ip2 = Bp-Bp2\n",
    "Ip3 = Bp-Bp3\n",
    "Ip4 = Bp-Bp4\n",
    "Ip = Ip1+Ip2+Ip3+Ip4\n",
    "n_m = Bp/Ip\n",
    "Vs = (math.pi/4)*((d*(10**-2))**2)*(L*(10**-2))\n",
    "r_k = (Vs+(Vc*(10**-3)))/(Vc*(10**-3))\n",
    "n_ase = 1- (1/(r_k**(1.4-1)))\n",
    "n_th = Ip*3600/(m_f*cv*1000)\n",
    "R_e = n_th/n_ase\n",
    "print \"\\n Mechanical efficiency = \",n_m*100,\" percent,\\n Relative efficiency on indicated power basis = \",R_e*100,\" percent\"\n",
    "#The value of  answer is different because of round off error\n"
   ]
  },
  {
   "cell_type": "markdown",
   "metadata": {},
   "source": [
    "## Ex20.9:pg-853"
   ]
  },
  {
   "cell_type": "code",
   "execution_count": 11,
   "metadata": {
    "collapsed": false
   },
   "outputs": [
    {
     "name": "stdout",
     "output_type": "stream",
     "text": [
      "\n",
      " Example 20.9\n",
      "\n",
      "\n",
      " Indicated thermal efficiency =  30.0275891939  percent,\n",
      " Brake mean effective preassure =  825.889834193  kN/m**2\n"
     ]
    }
   ],
   "source": [
    "import math\n",
    "# Given that\n",
    "Bp = 28.35 # Brake power in kW\n",
    "N = 1500.0 # Speed in rpm\n",
    "x = 20.0 # Rich percent of mixture\n",
    "t = 15.5 # Temperature in degree centrigrde\n",
    "p = 760 # Pressure in mm of mercury\n",
    "f = 0.7 # Fraction of volume of air in th cylinder relative to swept volume\n",
    "R = 14.8 # Theoratical Air fuel ratio\n",
    "d = 82.0 # Diameter of cylinder in mm\n",
    "L = 130.0 # Stroke of cylinder in mm\n",
    "cv = 44.0 # Heating value of petrol in MJ/kg\n",
    "n_m = 0.9 # Mechanical efficiency of the engine\n",
    "print \"\\n Example 20.9\\n\"\n",
    "Ip = Bp/n_m\n",
    "p_ = 101.325 # In kN/m**2 as p = 760 mm mercury\n",
    "v_a = f*(math.pi/4)*((d*(10**-3))**2)*(L*(10**-3))*(N/2)*4\n",
    "m = p_*(v_a)/(0.287*(t+273))\n",
    "m_f = (m/R)*(1+x/100)\n",
    "n_th = Ip*3600/(m_f*cv*1000*60)\n",
    "bmep = Bp*60/((math.pi/4)*((d*(10**-3))**2)*(L*10**-3)*(N/2)*4)\n",
    "print \"\\n Indicated thermal efficiency = \",n_th*100 ,\" percent,\\n Brake mean effective preassure = \",bmep ,\" kN/m**2\"\n",
    "#The value of  answer is different because of round off error"
   ]
  },
  {
   "cell_type": "markdown",
   "metadata": {},
   "source": [
    "## Ex20.10:pg-853"
   ]
  },
  {
   "cell_type": "code",
   "execution_count": 12,
   "metadata": {
    "collapsed": false
   },
   "outputs": [
    {
     "name": "stdout",
     "output_type": "stream",
     "text": [
      "\n",
      " Example 20.10\n",
      "\n",
      "\n",
      " Minimum velocity of air required to start the flow =  8.77674536488  m/s\n"
     ]
    }
   ],
   "source": [
    "import math\n",
    "# Given that\n",
    "d = 25.0 # Throat diameter in mm\n",
    "D = 1.2 # Main jet diameter in mm\n",
    "c_d = 0.85 # Cofficient of discharge for the venturi \n",
    "C_d = 0.65 # Cofficient of discharge for fuel jet\n",
    "h = 6.0 # Height of the throat from gasoline surface in mm\n",
    "p_1 = 1.0 # Ambient pressure in bar\n",
    "T = 300.0 # Ambient temperature in K\n",
    "Ro_f = 760.0 # Density in kg/m**3\n",
    "print \"\\n Example 20.10\\n\"\n",
    "delta_p = h*(10**-3)*Ro_f*9.81\n",
    "p_2 = p_1-delta_p*(10**-5)\n",
    "Ro_air = p_1*(10**5)/(287*T)\n",
    "v  = (2*delta_p/Ro_air)**(1.0/2.0)\n",
    "print \"\\n Minimum velocity of air required to start the flow = \",v ,\" m/s\"\n",
    "#The value of  answer is different because of round off error"
   ]
  },
  {
   "cell_type": "markdown",
   "metadata": {},
   "source": [
    "## Ex20.11:pg-853"
   ]
  },
  {
   "cell_type": "code",
   "execution_count": 13,
   "metadata": {
    "collapsed": false
   },
   "outputs": [
    {
     "name": "stdout",
     "output_type": "stream",
     "text": [
      "\n",
      " Example 20.11\n",
      "\n",
      "\n",
      " Mechanical efficiency =  86.0215053763  percent,\n",
      " Brake mean effective pressure =  24.4461992589  bar\n",
      " Air standard ratio =  58.4417930454  percent,\n",
      " Brake thermal efficiency is  46.5  percent,\n",
      " Relative efficiency =  79.5663472609  percent\n"
     ]
    }
   ],
   "source": [
    "import math\n",
    "# Given that\n",
    "Bp = 40.0 # Brake power when all cylinder operating in kW\n",
    "N = 2000.0 # Speed in rpm\n",
    "Bp1 = 32.2 # Brake power with cylinder no. 1 cut out in kW\n",
    "Bp2 = 32.0 # Brake power with cylinder no. 2 cut out in kW\n",
    "Bp3 = 32.5 # Brake power with cylinder no. 3 cut out in kW\n",
    "Bp4 = 32.4 # Brake power with cylinder no. 4 cut out in kW\n",
    "Bp5 = 32.1 # Brake power with cylinder no. 5 cut out in kW\n",
    "Bp6 = 32.3 # Brake power with cylinder no. 6 cut out in kW\n",
    "d = 100.0 # Diameter of cylinder in mm\n",
    "L = 125.0 # Stroke of cylinder in mm\n",
    "Vc = 0.000123 # Clearance volume in m**3\n",
    "m_f = 9.0 # Fuel consumption in kg/h\n",
    "cv = 40.0 # Heating value in MJ/kg\n",
    "print \"\\n Example 20.11\\n\"\n",
    "Ip1 = Bp-Bp1\n",
    "Ip2 = Bp-Bp2\n",
    "Ip3 = Bp-Bp3\n",
    "Ip4 = Bp-Bp4\n",
    "Ip5 = Bp-Bp5\n",
    "Ip6 = Bp-Bp6\n",
    "Ip = Ip1+Ip2+Ip3+Ip4+Ip5+Ip6\n",
    "n_m = Bp/Ip\n",
    "bmep = Bp*2*60/(L*(10**-3)*((d*(10**-3))**2)*(math.pi/4)*N)\n",
    "Vs = (math.pi/4)*((d*(10**-3))**2)*(L*(10**-3))\n",
    "r_k = (Vs+Vc)/Vc\n",
    "n_ase = 1- (1/(r_k**(1.4-1)))\n",
    "n_th = Ip*3600/(m_f*cv*1000)\n",
    "R_e = n_th/n_ase\n",
    "print \"\\n Mechanical efficiency = \",n_m*100 ,\" percent,\\n Brake mean effective pressure = \",bmep*(10**-2) ,\" bar\\n Air standard ratio = \",n_ase*100 ,\" percent,\\n Brake thermal efficiency is \",n_th*100 ,\" percent,\\n Relative efficiency = \",R_e*100 ,\" percent\"\n",
    "#The value of  answer for air standard efficiency is different because of round off error\n",
    "# Answer given in the book for bmep is 3.055 bar which is wrong.\n",
    "# Answer given in the book for brake thermal efficiency is 40 percent which is wrong.\n",
    "# Answer given in the book for relative efficiency is 68.6 percent which is wrong.\n",
    "\n",
    "\n",
    "\n"
   ]
  },
  {
   "cell_type": "markdown",
   "metadata": {},
   "source": [
    "## Ex20.12:pg-853"
   ]
  },
  {
   "cell_type": "code",
   "execution_count": 14,
   "metadata": {
    "collapsed": false
   },
   "outputs": [
    {
     "name": "stdout",
     "output_type": "stream",
     "text": [
      "\n",
      " Example 20.12\n",
      "\n",
      "\n",
      " Power lost as a percentage of the power produced by the turbine =  23.5485226573  percent\n"
     ]
    }
   ],
   "source": [
    "import math\n",
    "# Given that\n",
    "p1 = 0.95 # Pressure in bar\n",
    "t1 = 25 # Temperature in degree centigrade\n",
    "p2 = 2 # Delivery pressure in bar\n",
    "r = 18 # Air fuel ratio\n",
    "t3 = 600 # Temperature of gasses leaving the engine in degree centigrade\n",
    "p3 = 1.8 # Pressure of gasses leaving the engine in bar\n",
    "p4 = 1.04 # Pressure at the inlet of turbine in bar\n",
    "n_c = 0.75 # Efficiency of compresor\n",
    "n_t = 0.85 # Efficiency of turbine\n",
    "Cp = 1.005 # Heat capacity of air in kJ/kgK\n",
    "Cp_ = 1.15 # Heat capacity of gasses in kJ/kgK\n",
    "gama = 1.4 # Adiabatic index for air\n",
    "print \"\\n Example 20.12\\n\"\n",
    "T2_s = (t1+273)*(p2/p1)**((gama-1)/gama)\n",
    "T2 = (t1+273)+((T2_s-(t1+273))/n_c)\n",
    "Wc = Cp*(T2-(t1+273))\n",
    "T4_s = (t3+273)*((p4/p3)**((gama-1)/gama))\n",
    "T4 = (t3+273)-((t3+273)-T4_s)*n_t\n",
    "Wt = (1+(1/r))*Cp_*((t3+273)-T4)\n",
    "n = (Wt-Wc)/Wt\n",
    "print \"\\n Power lost as a percentage of the power produced by the turbine = \",n*100 ,\" percent\""
   ]
  },
  {
   "cell_type": "markdown",
   "metadata": {},
   "source": [
    "## Ex20.13:pg-853"
   ]
  },
  {
   "cell_type": "code",
   "execution_count": 16,
   "metadata": {
    "collapsed": false
   },
   "outputs": [
    {
     "name": "stdout",
     "output_type": "stream",
     "text": [
      "\n",
      " Example 20.13\n",
      "\n",
      "\n",
      " Total orifice area per injector =  0.521323450963  mm**2\n"
     ]
    }
   ],
   "source": [
    "import math\n",
    "# Given that\n",
    "Bp = 250.0 # Power developed by the engine in kW\n",
    "n = 6.0 # No of cylinders \n",
    "N = 2000.0 # Speed in rpm\n",
    "bsfc = 0.2 # Specific fuel consumption in kg/kWh\n",
    "P = 35.0 # Pressure at the begining of the injection in bar\n",
    "p_max = 55.0 # Maximum cylinder pressure in bar\n",
    "p = 180.0 # Expected pressure for injection in bar\n",
    "P_max = 520.0 # Maximum pressure at the injection in bar\n",
    "c_d = 0.78 # Cofficient of discharge\n",
    "s = 0.85 # Specific gravity of fuel oil\n",
    "p_atm = 1.0 # Atmospheric pressure in bar\n",
    "theta = 18.0 # Crank angle in degree\n",
    "print \"\\n Example 20.13\\n\"\n",
    "Bp_cy = Bp/n\n",
    "m_f = Bp_cy*bsfc/60 # in kg/min\n",
    "f_c = m_f*(2/N)\n",
    "T = theta/(360*(N/60))\n",
    "delta_p = p-P\n",
    "delta_p_ = P_max-p_max\n",
    "avg_delta_p = (delta_p+delta_p_)/2\n",
    "v = c_d*math.sqrt((2*(avg_delta_p)*(10**5))/(s*1000))\n",
    "V = m_f*(10**-3)/(s*1000)\n",
    "A = V/(v*T)\n",
    "print \"\\n Total orifice area per injector = \",A*10**6 ,\" mm**2\""
   ]
  },
  {
   "cell_type": "markdown",
   "metadata": {},
   "source": [
    "## Ex20.14:pg-853"
   ]
  },
  {
   "cell_type": "code",
   "execution_count": 17,
   "metadata": {
    "collapsed": false
   },
   "outputs": [
    {
     "name": "stdout",
     "output_type": "stream",
     "text": [
      "\n",
      " Example 20.14\n",
      "\n",
      "\n",
      " Thermal efficiency =  19.8935818353  percemt,\n",
      " Gas consumption per kWh on indicated power basis =  1.04109744938  m**3/kWh\n"
     ]
    }
   ],
   "source": [
    "import math\n",
    "# Given that\n",
    "n=1.3 # Polytropic index\n",
    "p1 = 140.0 # Pressure at point one in kN/m**2\n",
    "p2 = 360.0 # Pressure at point two in kN/m**2\n",
    "r_e = 0.4 # Relative efficiency\n",
    "cv = 18840 # Calorific value in kJ/m**2\n",
    "print \"\\n Example 20.14\\n\"\n",
    "r = (((p2/p1)**(1/n))-1)/((0.75-0.25*((p2/p1)**(1.0/n))))\n",
    "r_k  = r+1\n",
    "n_ase = 1.0-(1.0/((r_k)**(0.4)))\n",
    "n_th = r_e*n_ase\n",
    "V_f = n_th*cv/3600\n",
    "print \"\\n Thermal efficiency = \",n_th*100 ,\" percemt,\\n Gas consumption per kWh on indicated power basis = \",V_f ,\" m**3/kWh\"\n",
    "#The value of  answer is different because of round off error\n",
    "\n",
    "\n"
   ]
  },
  {
   "cell_type": "markdown",
   "metadata": {},
   "source": [
    "## Ex20.15:pg-853"
   ]
  },
  {
   "cell_type": "code",
   "execution_count": 18,
   "metadata": {
    "collapsed": false
   },
   "outputs": [
    {
     "name": "stdout",
     "output_type": "stream",
     "text": [
      "\n",
      " Example 20.15\n",
      "\n",
      "\n",
      " Mechanical efficiency =  80.2324301595  percemt\n",
      "\n",
      "                  Energy Balance\n",
      "\n",
      "                                 Input          Output\n",
      "\n",
      " Heat supplied by fuel            816.666666667  kW    -\n",
      "\n",
      " Useful work(BP)                   -             245.0  kW\n",
      "\n",
      " Heat carried by cooling water     -             251.778266667  kW\n",
      "\n",
      " Heat carried by steam             -             64.26  kW\n",
      "\n",
      " Heat carried by cooling oil       -             42.0  kW\n",
      "\n",
      " Heat carried by dry exhaust gas   -             166.946877778  kW\n",
      "\n",
      " Heat transferred to surroundings  -             46.6815222222  kW\n"
     ]
    }
   ],
   "source": [
    "import math\n",
    "# Given that\n",
    "d = 180.0 # Bore in mm\n",
    "L = 200.0 # Stroke in mm\n",
    "Bp = 245.0 # Brake power in kW\n",
    "N = 1500.0 # Speed in rpm\n",
    "mep = 8.0 # Mean effective pressure in bar\n",
    "m_f = 70.0 # Fuel consumption in kg/h\n",
    "cv = 42.0 # Heating value of fuel in MJ/kg\n",
    "m_h = 0.12 # Fraction of hydrogen content by mass\n",
    "m_a = 26.0 # Air consumption in kg/min\n",
    "m_w = 82.0 # Mass of cooling water in kg/min\n",
    "delta_t = 44 # Cooling water temperature rise in degree centigrade\n",
    "m_o = 50.0 # Cooling oil circulated through the engine in kg/min\n",
    "delta_T = 24 # Cooling oil temperature rise in degree centigrade\n",
    "s_o = 2.1 # Specific heat of cooling oil in kJ/kgK\n",
    "t = 30.0 # Room temperature in degree centigrade\n",
    "t_e = 400.0 # Exhaust gas temperature on degree centigrade\n",
    "c_p_de = 1.045 # Heat capacity of dry exhaust gas in kJ/kgK\n",
    "p = 0.035 # Partial pressure of steam in exhaust gas in bar\n",
    "print \"\\n Example 20.15\\n\"\n",
    "h = m_f*cv*1000/3600\n",
    "Ip = mep*(10**5)*L*(10**-3)*(math.pi/4)*((d*(10**-3))**2)*N*6/(2*60000)\n",
    "n_m = Bp/Ip\n",
    "h_w = (m_w/60)*(4.187*delta_t)\n",
    "h_o = (m_o/60)*(s_o*delta_T)\n",
    "m_e = m_f/60 + m_a\n",
    "m_v = m_h*9*(m_f/60)\n",
    "m_de = (m_e-m_v)/60\n",
    "H = 3060 # From the steam table the enthalpy of steam at the exhaust contion(0.035 bar) in kJ/kg\n",
    "h_s = (m_v/60)*H\n",
    "h_de = (m_de)*(c_p_de)*(t_e-t)\n",
    "h_su = h - (Bp+h_w+h_s+h_o+h_de)\n",
    "print \"\\n Mechanical efficiency = \",n_m*100 ,\" percemt\"\n",
    "print \"\\n                  Energy Balance\"\n",
    "print \"\\n                                 Input          Output\"\n",
    "print \"\\n Heat supplied by fuel           \",h ,\" kW    -\"\n",
    "print \"\\n Useful work(BP)                   -            \",Bp ,\" kW\"\n",
    "print \"\\n Heat carried by cooling water     -            \",h_w ,\" kW\"\n",
    "print \"\\n Heat carried by steam             -            \",h_s ,\" kW\"\n",
    "print \"\\n Heat carried by cooling oil       -            \",h_o ,\" kW\"\n",
    "print \"\\n Heat carried by dry exhaust gas   -            \",h_de ,\" kW\"\n",
    "print \"\\n Heat transferred to surroundings  -            \",h_su ,\" kW\"\n",
    "\n",
    "\n"
   ]
  },
  {
   "cell_type": "markdown",
   "metadata": {},
   "source": [
    "## Ex20.16:pg-853"
   ]
  },
  {
   "cell_type": "code",
   "execution_count": 19,
   "metadata": {
    "collapsed": false
   },
   "outputs": [
    {
     "name": "stdout",
     "output_type": "stream",
     "text": [
      "\n",
      " Example 20.16\n",
      "\n",
      "\n",
      " Fuel consumption =  7.13500385939  kg/h,\n",
      " Brake mean effective pressure =  29.5555555556  bar\n"
     ]
    }
   ],
   "source": [
    "import math\n",
    "# Given that\n",
    "N = 3000 # Speed in rpm\n",
    "T = 66.5 # Torque in Nm\n",
    "d = 60 # Bore in mm\n",
    "L = 100 # Stroke in mm\n",
    "Vc = 60 # Clearance volume in cc\n",
    "r_e = 0.5 # Relative efficiency\n",
    "cv = 42 # Calorific value in MJ/kg\n",
    "print \"\\n Example 20.16\\n\"\n",
    "Vs = (math.pi/4)*((60*(10**-3))**2)*(L*(10**-3))\n",
    "r_k = (Vs+(Vc*(10**-6)))/(Vc*(10**-6))\n",
    "n_ase = 1-(1/(r_k**(0.4)))\n",
    "n_br = n_ase*r_e\n",
    "Bp = (2*(math.pi)*T*N)/(60000)\n",
    "m_f = Bp*3600/(cv*1000*n_br)\n",
    "bmep = Bp*60000/(Vs*(N/2))\n",
    "print \"\\n Fuel consumption = \",m_f ,\" kg/h,\\n Brake mean effective pressure = \",bmep*(10**-5) ,\" bar\"\n",
    "#The answer given in the book for bmep has calculation error\n",
    "# The answer has round off error for fuel consumption"
   ]
  }
 ],
 "metadata": {
  "kernelspec": {
   "display_name": "Python 2",
   "language": "python",
   "name": "python2"
  },
  "language_info": {
   "codemirror_mode": {
    "name": "ipython",
    "version": 2
   },
   "file_extension": ".py",
   "mimetype": "text/x-python",
   "name": "python",
   "nbconvert_exporter": "python",
   "pygments_lexer": "ipython2",
   "version": "2.7.11"
  }
 },
 "nbformat": 4,
 "nbformat_minor": 0
}
