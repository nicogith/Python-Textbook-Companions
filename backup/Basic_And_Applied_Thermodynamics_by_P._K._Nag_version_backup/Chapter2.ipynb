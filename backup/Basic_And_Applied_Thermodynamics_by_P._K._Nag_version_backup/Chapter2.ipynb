{
 "cells": [
  {
   "cell_type": "markdown",
   "metadata": {},
   "source": [
    "# Chapter 02:Temperature"
   ]
  },
  {
   "cell_type": "markdown",
   "metadata": {},
   "source": [
    "## Ex2.1:pg-33"
   ]
  },
  {
   "cell_type": "code",
   "execution_count": 1,
   "metadata": {
    "collapsed": false
   },
   "outputs": [
    {
     "name": "stdout",
     "output_type": "stream",
     "text": [
      "\n",
      " Example 2.1\n",
      "\n",
      " The straight bore thermometer reading will be   47.62  degree Celsius.\n"
     ]
    }
   ],
   "source": [
    "import math\n",
    "d = 1 # Assumption\n",
    "l = 1 # Assumption\n",
    "A_ACDB = (math.pi/4)*(1/3.0)*((1.05*d)**2)*10.5*l - (math.pi/4)*(1/3.0)*d**2*10*l  # Area of ABCD\n",
    "A_AEFB = (math.pi/4)*(1/3.0)*((1.1*d)**2)*11*l - (math.pi/4)*(1/3.0)*d**2*10*l # Area of AEFB\n",
    "t = 100*(A_ACDB/A_AEFB)\n",
    "print \"\\n Example 2.1\"\n",
    "print \"\\n The straight bore thermometer reading will be  \",round(t,2),\" degree Celsius.\"\n",
    "#The answers vary due to round off error\n",
    "\n"
   ]
  },
  {
   "cell_type": "markdown",
   "metadata": {},
   "source": [
    "## Ex2.2:pg-35"
   ]
  },
  {
   "cell_type": "code",
   "execution_count": 13,
   "metadata": {
    "collapsed": false
   },
   "outputs": [
    {
     "name": "stdout",
     "output_type": "stream",
     "text": [
      "\n",
      " Example 2.2\n",
      "\n",
      " Reading of thermocouple at t = 50 degree Celsius will be  58.33  degree Celsius.\n"
     ]
    }
   ],
   "source": [
    "import math\n",
    "import numpy.polynomial.polynomial\n",
    "\n",
    "#t = numpy.polynomial(0,'t')\n",
    "def f1(t):\n",
    "    e=(0.2*t)-((5e-4)*t**2)\n",
    "    return e# e.m.f. as a function of temperature in mV\n",
    "e0 = f1(0)#horner(e, 0) # e.m.f. at t = 0 degree\n",
    "e100 = f1(100) # e.m.f. at t = 100 degree\n",
    "e50 = f1(50) # e.m.f. at t = 50 degree\n",
    "r = (100/e100)*e50 # Reading of thermocouple at t = 50degree\n",
    "print \"\\n Example 2.2\"\n",
    "print \"\\n Reading of thermocouple at t = 50 degree Celsius will be \",round(r,2),\" degree Celsius.\"\n",
    "#The answers vary due to round off error\n",
    "\n"
   ]
  }
 ],
 "metadata": {
  "kernelspec": {
   "display_name": "Python 2",
   "language": "python",
   "name": "python2"
  },
  "language_info": {
   "codemirror_mode": {
    "name": "ipython",
    "version": 2
   },
   "file_extension": ".py",
   "mimetype": "text/x-python",
   "name": "python",
   "nbconvert_exporter": "python",
   "pygments_lexer": "ipython2",
   "version": "2.7.11"
  }
 },
 "nbformat": 4,
 "nbformat_minor": 0
}
