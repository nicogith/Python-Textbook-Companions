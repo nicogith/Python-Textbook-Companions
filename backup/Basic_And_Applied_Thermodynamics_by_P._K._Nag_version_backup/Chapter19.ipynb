{
 "cells": [
  {
   "cell_type": "markdown",
   "metadata": {},
   "source": [
    "# Chapter 19: Gas Compressors"
   ]
  },
  {
   "cell_type": "markdown",
   "metadata": {},
   "source": [
    "## Ex19.1:pg-818"
   ]
  },
  {
   "cell_type": "code",
   "execution_count": 2,
   "metadata": {
    "collapsed": false
   },
   "outputs": [
    {
     "name": "stdout",
     "output_type": "stream",
     "text": [
      "\n",
      " Example 19.1\n",
      "\n",
      "\n",
      " Pressure ratio is  8.4764775804\n",
      "\n",
      " Indicated power is  11.2490101513  kW\n",
      "\n",
      " Shaft power is  14.0612626891  kW\n",
      "\n",
      " Mass flow rate is  0.0723071537289  kg/s\n",
      "\n",
      " Pressure ratio when second stage is added is  71.8506721711\n",
      "\n",
      " Volume derived per cycle is V2  0.000327741753347  m**3\n",
      "\n",
      " Second stage bore would be  52.7442736748  mm\n"
     ]
    }
   ],
   "source": [
    "import math\n",
    "T2 = 488.0\n",
    "T1 = 298.0 \n",
    "n = 1.3 \n",
    "R =8314.0/44.0\n",
    "rp = (T2/T1)**(n/(n-1))\n",
    "\n",
    "b = 0.12 # Bore of compressor\n",
    "L = 0.15 # Stroke of compressor\n",
    "V1 = (math.pi/4)*(b)**2*L  \n",
    "P1 = 120e03 # in kPa\n",
    "W = ((n*P1*V1)/(n-1))*(((rp)**((n-1)/n))-1)\n",
    "P = (W*1200*0.001)/60  \n",
    "\n",
    "V1_dot = V1*(1200.0/60.0)\n",
    "m_dot = (P1*V1_dot)/(R*T1)\n",
    "\n",
    "rp_1 = rp**2\n",
    "V2 = (1/rp)**(1/n)*V1\n",
    "d = math.sqrt((V2*4)/(L*math.pi))\n",
    "print \"\\n Example 19.1\\n\"\n",
    "print \"\\n Pressure ratio is \",rp\n",
    "print \"\\n Indicated power is \",P ,\" kW\"\n",
    "print \"\\n Shaft power is \",P/0.8 ,\" kW\"\n",
    "print \"\\n Mass flow rate is \",m_dot ,\" kg/s\"\n",
    "print \"\\n Pressure ratio when second stage is added is \",rp_1\n",
    "print \"\\n Volume derived per cycle is V2 \",V2 ,\" m**3\"\n",
    "print \"\\n Second stage bore would be \",d*1000 ,\" mm\"\n",
    "#The answers vary due to round off error\n"
   ]
  },
  {
   "cell_type": "markdown",
   "metadata": {},
   "source": [
    "## Ex19.2:pg-819"
   ]
  },
  {
   "cell_type": "code",
   "execution_count": 3,
   "metadata": {
    "collapsed": false
   },
   "outputs": [
    {
     "name": "stdout",
     "output_type": "stream",
     "text": [
      "\n",
      " Example 19.2 \n",
      " \n",
      "\n",
      " Volumetric efficiency of system is  73.7793963433  percent\n"
     ]
    }
   ],
   "source": [
    "import math\n",
    "c = 0.05 # Clearance volume\n",
    "p1 = 96.0 # Inlet ressure in bar\n",
    "p2 = 725.0 # Outlet pressure in bar\n",
    "pa = 101.3 # Atmospheric pressure\n",
    "Ta = 292.0 # Atmospheric temperature in kelvin\n",
    "T1 = 305.0 # Inlet temperature in Kelvin\n",
    "n = 1.3 # polytropic index\n",
    "print \"\\n Example 19.2 \\n \"\n",
    "n_v = (1+c-c*((p2/p1)**(1/n)))*(p1/pa)*(Ta/T1)\n",
    "print \"\\n Volumetric efficiency of system is \",n_v*100 ,\" percent\"\n",
    "# Answer is not mentioned in book\n"
   ]
  },
  {
   "cell_type": "markdown",
   "metadata": {},
   "source": [
    "## Ex19.3:pg-819"
   ]
  },
  {
   "cell_type": "code",
   "execution_count": 5,
   "metadata": {
    "collapsed": false
   },
   "outputs": [
    {
     "name": "stdout",
     "output_type": "stream",
     "text": [
      "\n",
      " Example 19.3\n",
      "\n",
      "\n",
      " Indicated poer is  5.47565638255  kW\n",
      "\n",
      " Volumetric efficiency is  78.6098417845  percent\n",
      "\n",
      " Mass flow rate is  1.54145895718  kg/min\n",
      "\n",
      " Free air delivery is  1.25775746855  m**3/min\n",
      "\n",
      " Isothermal efficiency is  80.6428056306  percent\n",
      "\n",
      " Input power is  6.44194868535  kW\n"
     ]
    }
   ],
   "source": [
    "import math\n",
    "P1 = 101.3e03 \n",
    "P4 = P1 # in Pa\n",
    "P2 = 8*P1  \n",
    "P3 = P2\n",
    "T1 = 288 \n",
    "Vs = 2000\n",
    "V3 = 100 \n",
    "Vc = V3\n",
    "V1 = Vs + Vc \n",
    "n = 1.25 \n",
    "R = 287\n",
    "V4 = ((P3/P4)**(1/n))*V3\n",
    "W = ((n*P1*(V1-V4)*1e-06)/(n-1))*(((P2/P1)**((n-1)/n))-1)\n",
    "P = (W*800*0.001)/60  \n",
    "\n",
    "m = (P1*(V1-V4)*1e-06)/(R*T1)\n",
    "m_dot = m*800\n",
    "\n",
    "FAD = (V1-V4)*1e-06*800\n",
    "\n",
    "Wt = P1*(V1-V4)*1e-06*math.log(P2/P1)\n",
    "n_isothermal = (Wt*800*0.001)/(P*60)\n",
    "\n",
    "Pi = P/0.85\n",
    "n_v =100*(V1-V4)/Vs\n",
    "print \"\\n Example 19.3\\n\"\n",
    "print \"\\n Indicated poer is \",P ,\" kW\"\n",
    "print \"\\n Volumetric efficiency is \",n_v ,\" percent\"\n",
    "print \"\\n Mass flow rate is \",m_dot ,\" kg/min\"\n",
    "print \"\\n Free air delivery is \",FAD ,\" m**3/min\"\n",
    "print \"\\n Isothermal efficiency is \",100*n_isothermal ,\" percent\"\n",
    "print \"\\n Input power is \",Pi ,\" kW\"\n",
    "\n",
    "#The answers vary due to round off error\n",
    "\n"
   ]
  },
  {
   "cell_type": "markdown",
   "metadata": {},
   "source": [
    "## Ex19.4:pg-819"
   ]
  },
  {
   "cell_type": "code",
   "execution_count": 6,
   "metadata": {
    "collapsed": false
   },
   "outputs": [
    {
     "name": "stdout",
     "output_type": "stream",
     "text": [
      "\n",
      " Example 19.4\n",
      "\n",
      "\n",
      " Power input is  9.55276123312  kW, \n",
      " Volumetric efficiency is  55.4657309635  percent, \n",
      " Bore of the cylinder is  0.184932327621  m, \n",
      " Stroke of the cylinder is  0.277398491431  m\n"
     ]
    }
   ],
   "source": [
    "import math\n",
    "# Given that\n",
    "m = 3.0 # Mass flow rate in kg/min\n",
    "p1 = 1.0 # Initial pressure in bar\n",
    "T1 = 300.0 # Initial temperature in K\n",
    "p3 = 6.0 # Pressure after compression in bar\n",
    "p5 = 15.0 # Maximum pressure in bar\n",
    "N = 300.0 # Rpm of compressure\n",
    "n = 1.3 # Index of compression and expansion \n",
    "r = 1.5 # Stroke to bore ratio\n",
    "R = 287.0 # Gas constant of air\n",
    "t = 15.0 # Temperature in degree centigrade\n",
    "print \"\\n Example 19.4\\n\"\n",
    "T = t+273\n",
    "Wc = (n/(n-1))*(m/60)*(R*(1e-3)*T1)*(((p3/p1)**((n-1)/n))-1)\n",
    "r1 = (p5/p1)**(1.0/n)# Where r1 = V1/Vc\n",
    "r2 = r1-1 # Where r2 = Vs/Vc\n",
    "r3 = (p3/p1)**(1.0/n)\n",
    "n_vol = (r1-r3)*(T/T1)/r2\n",
    "V = m*R*T/(2*(1e5)*N)\n",
    "Vs = V/n_vol\n",
    "d = (Vs*4/(math.pi*r))**(1.0/3.0)\n",
    "l = r*d\n",
    "print \"\\n Power input is \",Wc ,\" kW, \\n Volumetric efficiency is \",n_vol*100 ,\" percent, \\n Bore of the cylinder is \",d ,\" m, \\n Stroke of the cylinder is \",l ,\" m\"\n",
    "#The answers vary due to round off error"
   ]
  },
  {
   "cell_type": "markdown",
   "metadata": {},
   "source": [
    "## Ex19.5:pg-820"
   ]
  },
  {
   "cell_type": "code",
   "execution_count": 9,
   "metadata": {
    "collapsed": false
   },
   "outputs": [
    {
     "name": "stdout",
     "output_type": "stream",
     "text": [
      "\n",
      " Example 19.5\n",
      "\n",
      "\n",
      " Power required to drive the unit is  17.7326053799  kW,\n",
      " Isothermal efficiency is  65.8690064051  percent,\n",
      " Mechanical efficiency is  98.5144743328  percent\n"
     ]
    }
   ],
   "source": [
    "import math\n",
    "# Given that\n",
    "d = 15.0 # Diameter in cm\n",
    "l = 18.0 # Stroke in cm\n",
    "C = 0.04 # Ratio of clearance volume and sweft volume\n",
    "p1 = 1.0 # Pressure in bar\n",
    "t1 = 25.0 # Temperature in degree centigrade\n",
    "p2 = 8.0# Pressure in bar\n",
    "N = 1200.0 # Rpm of compressure \n",
    "W = 18.0 # Actual power input in kW\n",
    "m = 4.0 # Mass flow rate in kg/min\n",
    "R = 0.287\n",
    "print \"\\n Example 19.5\\n\"\n",
    "T1 = t1+273\n",
    "v = R*T1/(p1*100)\n",
    "V = m*v\n",
    "Vs = (math.pi/4)*((d*(1e-2))**2)*(l*1e-2)*N\n",
    "n_vol = V/Vs\n",
    "n = (math.log(p2/p1))/(math.log((1+C-n_vol)/C))\n",
    "# The value of n given in the example is wrong\n",
    "n = 1.573\n",
    "T2 = T1*(p2/p1)**((n-1)/n)\n",
    "Wc = (n/(n-1))*(m*R/60)*(T2-T1)\n",
    "n_mech = Wc/W\n",
    "W_isothermal = m*R*T1*math.log(p2/p1)/60\n",
    "n_iso = W_isothermal/W\n",
    "print \"\\n Power required to drive the unit is \",Wc ,\" kW,\\n Isothermal efficiency is \",n_iso*100 ,\" percent,\\n Mechanical efficiency is \",n_mech*100 ,\" percent\"\n",
    "#The answers vary due to round off error"
   ]
  },
  {
   "cell_type": "markdown",
   "metadata": {},
   "source": [
    "## Ex19.6:pg-820"
   ]
  },
  {
   "cell_type": "code",
   "execution_count": 12,
   "metadata": {
    "collapsed": false
   },
   "outputs": [
    {
     "name": "stdout",
     "output_type": "stream",
     "text": [
      "\n",
      " Example 19.6\n",
      "\n",
      "\n",
      " Power required to drive the compressure is  181.333212391  kW\n"
     ]
    }
   ],
   "source": [
    "import math\n",
    "# Given that\n",
    "d = 40.0 # Diameter in cm\n",
    "l = 50.0 # Stroke in cm\n",
    "D = 5.0 # Piston rod diameter in cm\n",
    "C = 0.04 # Ratio of clearance volume and sweft volume\n",
    "p1 = 1.0 # Pressure in bar\n",
    "t1 = 15.0 # Temperature in degree centigrade\n",
    "p2 = 7.5# Pressure in bar\n",
    "N = 300.0 # Rpm of compressure \n",
    "n_vol = 0.8 # Volumetric efficiency\n",
    "n_mech = 0.95 # Mechanical efficiency\n",
    "n_iso = .7 # Isothermal efficiency\n",
    "R = 0.287\n",
    "print \"\\n Example 19.6\\n\"\n",
    "Vs = (math.pi/4)*((d*(1e-2))**2)*(l*(1e-2))\n",
    "Vs_ = (math.pi/4)*(((d*(1e-2))**2)-(D*(1e-2))**2)*(l*1e-2)\n",
    "Vs_min = (Vs+Vs_)*2*N\n",
    "V1 = Vs_min*n_vol\n",
    "W_iso = p1*V1*(math.log(p2/p1))\n",
    "Win = W_iso/n_iso\n",
    "Wc = Win/n_mech\n",
    "print \"\\n Power required to drive the compressure is \",Wc ,\" kW\"\n",
    "#The answers vary due to round off error\n",
    "\n"
   ]
  },
  {
   "cell_type": "markdown",
   "metadata": {},
   "source": [
    "## Ex19.7:pg-820"
   ]
  },
  {
   "cell_type": "code",
   "execution_count": 14,
   "metadata": {
    "collapsed": false
   },
   "outputs": [
    {
     "name": "stdout",
     "output_type": "stream",
     "text": [
      "\n",
      " Example 19.7\n",
      "\n",
      "\n",
      " Minimum work done is  215.324046  kJ/kg,\n",
      " Heat rejected to intercooler is  87.0010719231  kJ/kg\n"
     ]
    }
   ],
   "source": [
    "import math\n",
    "# Given that\n",
    "p1 = 1.0 # Pressure in bar\n",
    "t1 = 27.0 # Temperature in degree centigrade\n",
    "n = 1.3 # Index of the compression process\n",
    "p3 = 9.0# Pressure in bar\n",
    "R = 0.287\n",
    "print \"\\n Example 19.7\\n\"\n",
    "T1 = t1+273\n",
    "p2 = math.sqrt(p1*p3)\n",
    "Wc = ((2*n*R*T1)/(n-1))*(((p2/p1)**((n-1)/n))-1)\n",
    "T2 = T1*((p2/p1)**((n-1)/n))\n",
    "H = 1.005*(T2-T1)\n",
    "print \"\\n Minimum work done is \",Wc ,\" kJ/kg,\\n Heat rejected to intercooler is \",H ,\" kJ/kg\"\n",
    "#The answers vary due to round off error"
   ]
  },
  {
   "cell_type": "markdown",
   "metadata": {},
   "source": [
    "## Ex19.8:pg-820"
   ]
  },
  {
   "cell_type": "code",
   "execution_count": 18,
   "metadata": {
    "collapsed": false
   },
   "outputs": [
    {
     "name": "stdout",
     "output_type": "stream",
     "text": [
      "\n",
      " Example 19.8\n",
      "\n",
      "\n",
      " Minimum power required by the compressure is  49.3370051888  kW,\n",
      " Bore of the compressure in low pressure side is  26.5961520268  cm,\n",
      " Bore of the compressure in high pressure side is  8.92172168806  cm,\n",
      " Stroke of the compressure is  36.0  cm\n"
     ]
    }
   ],
   "source": [
    "import math\n",
    "# Given that\n",
    "V = 4.0 # Volume flow rate in m**3/min\n",
    "p1 = 1.013 # Pressure in bar\n",
    "t1 = 15.0 # Temperature in degree centigrade\n",
    "N = 250.0 # Speed in RPM\n",
    "p4 = 80.0# Delivery pressure in bar\n",
    "v = 3.0 #Speed of piston in m/sec\n",
    "n_mech = .75 # Mechanical efficiency \n",
    "n_vol = .8 # Volumetric efficiency\n",
    "n = 1.25 # Polytropic index\n",
    "print \"\\n Example 19.8\\n\"\n",
    "T1 = t1+273\n",
    "p2 = math.sqrt(p1*p4)\n",
    "W = (2*n/(n-1))*(p1*100/n_mech)*(V/60)*((p2/p1)**((n-1)/n) - 1)\n",
    "L = v*60/(N*2)\n",
    "Vs = V/N\n",
    "D_LP = math.sqrt(Vs*V/(math.pi*L*n_vol))\n",
    "D_HP = D_LP*math.sqrt(p1/p2)\n",
    "print \"\\n Minimum power required by the compressure is \",W ,\" kW,\\n Bore of the compressure in low pressure side is \",D_LP*100 ,\" cm,\\n Bore of the compressure in high pressure side is \",D_HP*100 ,\" cm,\\n Stroke of the compressure is \",L*100 ,\" cm\"\n",
    "#The answers vary due to round off error\n",
    "\n"
   ]
  },
  {
   "cell_type": "markdown",
   "metadata": {},
   "source": [
    "## Ex19.9:pg-820"
   ]
  },
  {
   "cell_type": "code",
   "execution_count": 20,
   "metadata": {
    "collapsed": false
   },
   "outputs": [
    {
     "name": "stdout",
     "output_type": "stream",
     "text": [
      "\n",
      " Example 19.9\n",
      "\n",
      "\n",
      " Compressor work =  107.662023  kJ/kg,\n",
      " Total heat transfer to the surrounding =  125.119949539  kJ/kg\n"
     ]
    }
   ],
   "source": [
    "import math\n",
    "# Given that\n",
    "p1 = 1.0 # Pressure in bar\n",
    "T1 = 300.0 # Temperature in K\n",
    "p4 = 9.0# Compressed pressure in bar\n",
    "n = 1.3 # Polytropic index\n",
    "R = 0.287 # Gas constant in kJ/kgK\n",
    "cp = 1.042 # Heat capapcity in kJ/kgK\n",
    "print \"\\n Example 19.9\\n\"\n",
    "p2 = math.sqrt(p1*p4)\n",
    "T2 =T1*((p2/p1)**((n-1)/n))\n",
    "Wc = (2*n/(n-1))*R*1*(T2-T1)\n",
    "Wc_ = Wc/2\n",
    "Q = 1*cp*(T2-T1)\n",
    "Q_ = cp*(T1-T2)+Wc_\n",
    "H = Q+2*Q_\n",
    "print \"\\n Compressor work = \",Wc_ ,\" kJ/kg,\\n Total heat transfer to the surrounding = \",H ,\" kJ/kg\"\n",
    "#The answers given in the book contain calculation error\n",
    "\n"
   ]
  },
  {
   "cell_type": "markdown",
   "metadata": {},
   "source": [
    "## Ex19.10:pg-820"
   ]
  },
  {
   "cell_type": "code",
   "execution_count": 23,
   "metadata": {
    "collapsed": false
   },
   "outputs": [
    {
     "name": "stdout",
     "output_type": "stream",
     "text": [
      "\n",
      " Example 19.10\n",
      "\n",
      "\n",
      " Diameter of cylinder =  18.484702902 24.5391705107  cm, \n",
      " Storke of the cylinder =  24.5391705107  cm,\n",
      " Isothermal efficiency =  83.4955018622  percent\n"
     ]
    }
   ],
   "source": [
    "import math\n",
    "# Given that\n",
    "N = 300.0 # Speed in RPM\n",
    "# Intake condition of compressor\n",
    "p1 = 0.98 # Pressure in bar\n",
    "T1 = 305.0 # Temperature in K\n",
    "\n",
    "p6 = 20.0# Delivery pressure in bar\n",
    "p3 = 5.0 # Intermediate pressure in bar\n",
    "C = .04 # Ratio of clearance volume to the stroke volume\n",
    "v = 3.0 # Volume flow rate of compressure in m**3/min\n",
    "p = 1.0 # pressure in bar\n",
    "t = 25.0 # Temperautre in degree centigrade\n",
    "n = 1.3 # Polytropic index\n",
    "R = 0.287 # Gas constant in kJ/kgK\n",
    "print \"\\n Example 19.10\\n\"\n",
    "T = t+273\n",
    "r0 = 1+C # Where r0 = v1/vs\n",
    "r1 = C*(p3/p1)**(1/n)# Where r1 = v4/vs\n",
    "r2=r0-r1#Where r2 is the ratio of volume of air taken at 0.98 bar,305 k and vs\n",
    "r3 = r2*(T/T1)*p1/p # Where r3 is the ratio of volume of air taken at free air conditions and vs\n",
    "n_vol = r3\n",
    "m = p*(1e5)*(v/60)/(R*1000*T)\n",
    "T2 = T1*((p3/p1)**((n-1)/n))\n",
    "# For perfect intercooling\n",
    "T5 = T1\n",
    "p5 = p3\n",
    "T6 = T5*((p6/p5)**((n-1)/n))\n",
    "Wc = (n/(n-1))*m*R*((T2-T1)+(T6-T5))\n",
    "m_a_s = m*60/N\n",
    "v_fa_s = m_a_s *(R*1000)*T/(p*1e5)\n",
    "d = ((v_fa_s/n_vol)*(4/math.pi))**(1.0/3.0)\n",
    "l = d # As given in the question\n",
    "P_iso = m*R*T1*(math.log(p6/p1))\n",
    "n_iso = P_iso/Wc\n",
    "print \"\\n Diameter of cylinder = \",Wc,d*100 ,\" cm, \\n Storke of the cylinder = \",l*100 ,\" cm,\\n Isothermal efficiency = \",n_iso*100 ,\" percent\"\n",
    "#The answers given in the book contain calculation error\n",
    "\n"
   ]
  },
  {
   "cell_type": "markdown",
   "metadata": {},
   "source": [
    "## Ex19.11:pg-820"
   ]
  },
  {
   "cell_type": "code",
   "execution_count": 24,
   "metadata": {
    "collapsed": false
   },
   "outputs": [
    {
     "name": "stdout",
     "output_type": "stream",
     "text": [
      "\n",
      " Example 19.11\n",
      "\n",
      "\n",
      " No of stages for min power input =  1.0 ,\n",
      " Power required =  476.74544125  kW/kg air,\n",
      " The power required for a single stage compressor =  476.74544125  kW,\n",
      " Maximum temperature in any stage =  681.338601917  K\n"
     ]
    }
   ],
   "source": [
    "import math\n",
    "# Given that\n",
    "p1 = 1 # Intake pressure of compressor in bar\n",
    "T1 = 298 # Intake temperature in K\n",
    "p_d = 36 # Delivery pressure in bar\n",
    "T2 = 390 # Maximum temperature in any stage in K\n",
    "n = 1.3 # Polytropic index\n",
    "R = 0.287\n",
    "print \"\\n Example 19.11\\n\"\n",
    "r = (T2/T1)**(n/(n-1))\n",
    "N = math. ceil(r)\n",
    "p2 = (p_d/p1)**(1/N)\n",
    "p3 = (p_d/p1)**(2/N)\n",
    "p4 = (p_d/p1)**(3/N)\n",
    "Wc = (N*n*R*T1/(n-1))*((p_d/p1)**((n-1)/(N*n))-1)\n",
    "Wc_ = (n/(n-1))*(1*R*T1)*((p_d/p1)**((n-1)/n)- 1)\n",
    "T = T1*((p2/p1)**((n-1)/n))\n",
    "print \"\\n No of stages for min power input = \",N ,\",\\n Power required = \",Wc ,\" kW/kg air,\\n The power required for a single stage compressor = \",Wc_ ,\" kW,\\n Maximum temperature in any stage = \",T ,\" K\"\n",
    "#The answers given in the book contain round off error"
   ]
  },
  {
   "cell_type": "markdown",
   "metadata": {},
   "source": [
    "## Ex19.12:pg-820"
   ]
  },
  {
   "cell_type": "code",
   "execution_count": 25,
   "metadata": {
    "collapsed": false
   },
   "outputs": [
    {
     "name": "stdout",
     "output_type": "stream",
     "text": [
      "\n",
      " Example 19.12\n",
      "\n",
      "\n",
      " Indicated output =  132.877965499  kJ\n"
     ]
    }
   ],
   "source": [
    "import math\n",
    "# Given that\n",
    "p1 = 700.0 # Intake pressure of compressor in kPa\n",
    "t1 = 38.0 # Intake temperature in degree centigrade\n",
    "c = 0.4 # Ratio of cutoff volume to stroke volume\n",
    "p3 = 112.0 # Back pressure in kPa\n",
    "r = 0.85 # Ratio of area of actual indicator diagram to the outlined in the question\n",
    "n = 1.3 # Polytropic index\n",
    "R = 0.287\n",
    "m = 1.25 # Air mass in kg\n",
    "print \"\\n Example 19.12\\n\"\n",
    "T1 = t1+273\n",
    "T2 = T1/((1/c)**(n-1))\n",
    "p2 = p1*(c**n)\n",
    "V2 = m*R*T2/p2\n",
    "v2 = V2/m\n",
    "A = R*T1 + R*(T1-T2)/(n-1) - p3*v2\n",
    "Io = A*r*m\n",
    "print \"\\n Indicated output = \",Io ,\" kJ\"\n",
    "# The answer given in the book vary due to round off error\n",
    " \n"
   ]
  },
  {
   "cell_type": "markdown",
   "metadata": {},
   "source": [
    "## Ex19.13:pg-820"
   ]
  },
  {
   "cell_type": "code",
   "execution_count": 26,
   "metadata": {
    "collapsed": false
   },
   "outputs": [
    {
     "name": "stdout",
     "output_type": "stream",
     "text": [
      "\n",
      " Example 19.13\n",
      "\n",
      "\n",
      " The intermediate pressure are - \n",
      " p2 =  2.46621207433  bar,\n",
      " p3 =  6.08220199557  bar,\n",
      " The effective sweft volume =  0.0477129384264  m**3,\n",
      " Temperature of air delivered per stroke at 15 bar =  85.3946742162  degree centigrade,\n",
      " The work done per kg of air =  254.077921795  kJ\n"
     ]
    }
   ],
   "source": [
    "import math\n",
    "# Given that\n",
    "d = 450.0 # Bore of low pressure cylinder in mm\n",
    "l = 300.0 # Stroke in mm\n",
    "c = 0.05 # Ratio of clearance volume to sweft volume\n",
    "p1 = 1.0 # Intake pressure in bar\n",
    "t1 = 18.0 # Intake temperature in degree centigrade\n",
    "p4 = 15.0 # Delivery pressure in bar\n",
    "n = 1.3 # Compression and expansion index\n",
    "R = 0.29 # Gas constant in kJ/kgK\n",
    "print \"\\n Example 19.13\\n\"\n",
    "T1 = t1+273\n",
    "r = (p4/p1)**(1.0/3.0)\n",
    "p2 = p1*r\n",
    "p3 = p2*r\n",
    "Vs = (math.pi/4)*((d*1e-3)**2)*(l*1e-3)\n",
    "V11 = c*Vs\n",
    "V1 = Vs +V11\n",
    "V12 = V11*((r)**(1.0/n))\n",
    "Vs_e = V1 - V12\n",
    "T3 = T1\n",
    "T5 = T3\n",
    "T6 = T1*(r**((n-1)/n))\n",
    "t6 = T6-273\n",
    "V6_7 = (p1/p4)*(T6/T1)*(V1 - V12)\n",
    "W = (3*n*R*T1/(n-1))*((p2/p1)**((n-1)/n)-1)\n",
    "print \"\\n The intermediate pressure are - \\n p2 = \",p2 ,\" bar,\\n p3 = \",p3 ,\" bar,\\n The effective sweft volume = \",Vs ,\" m**3,\\n Temperature of air delivered per stroke at 15 bar = \",t6 ,\" degree centigrade,\\n The work done per kg of air = \",W ,\" kJ\"\n",
    "# The answers given in the book vary due to round off error"
   ]
  },
  {
   "cell_type": "markdown",
   "metadata": {},
   "source": [
    "## Ex19.14:pg-820"
   ]
  },
  {
   "cell_type": "code",
   "execution_count": 27,
   "metadata": {
    "collapsed": false
   },
   "outputs": [
    {
     "name": "stdout",
     "output_type": "stream",
     "text": [
      "\n",
      " Example 19.14\n",
      "\n",
      "\n",
      " Work input =  1.5195  kJ/rev,\n",
      " Work input for a vane-type compressor =  1.34802979062  kJ/rev\n"
     ]
    }
   ],
   "source": [
    "import math\n",
    "# Given that\n",
    "p1 = 1.013 # Inlet pressure in bar\n",
    "r = 1.5 # Pressure ratio\n",
    "Vs = 0.03 # Induce volume of air in m**3/rev\n",
    "gama = 1.4 \n",
    "print \"\\n Example 19.14\\n\"\n",
    "p2 = p1*r\n",
    "W = (p2-p1)*Vs*100\n",
    "pi = (p1+p2)/2\n",
    "A_A = (gama/(gama-1))*(p1*Vs)*((pi/p1)**((gama-1)/gama)-1)*100\n",
    "Vb = Vs *((p1/pi)**(1/gama))\n",
    "A_B = (p2-pi)*Vb*100\n",
    "Wr = A_A + A_B\n",
    "print \"\\n Work input = \",W ,\" kJ/rev,\\n Work input for a vane-type compressor = \",Wr ,\" kJ/rev\"\n",
    "# The answers given in the book vary due to round off error\n",
    " \n"
   ]
  },
  {
   "cell_type": "markdown",
   "metadata": {},
   "source": [
    "## Ex19.15:pg-820"
   ]
  },
  {
   "cell_type": "code",
   "execution_count": 28,
   "metadata": {
    "collapsed": false
   },
   "outputs": [
    {
     "name": "stdout",
     "output_type": "stream",
     "text": [
      "\n",
      " Example 19.15\n",
      "\n",
      "\n",
      " Power required to drive the blower =  99.47  kW,\n",
      " Power required =  77.9220893777  kW\n"
     ]
    }
   ],
   "source": [
    "import math\n",
    "# Given that\n",
    "m = 1.0 # Mass flow rate in kg/s\n",
    "r = 2.0 # Prssure ratio of blower \n",
    "t1 = 70.0 # Inlet temperature in degree centigrade\n",
    "p1 = 1.0 # Inlet pressure in bar\n",
    "R = 0.29 # Gas constant in kJ/kgK\n",
    "x = 0.7 # Reduction in pressure ratio and intake volume \n",
    "gama = 1.4\n",
    "print \"\\n Example 19.15\\n\"\n",
    "T1 = t1+273\n",
    "V = m*R*T1/(p1*100)\n",
    "P = V*(p1*r-p1)*100\n",
    "p2 = p1*((1/x)**(gama))\n",
    "V2 = x*V\n",
    "P_ = (gama/(gama-1))*(p1*100*V)*((p2/p1)**((gama-1)/gama)-1) + V2*(p1*r-p2)*100\n",
    "\n",
    "print \"\\n Power required to drive the blower = \",P ,\" kW,\\n Power required = \",P_ ,\" kW\"\n",
    "# The answers given in the book vary due to round off error\n",
    " \n"
   ]
  },
  {
   "cell_type": "markdown",
   "metadata": {},
   "source": [
    "## Ex19.16:pg-820"
   ]
  },
  {
   "cell_type": "code",
   "execution_count": 29,
   "metadata": {
    "collapsed": false
   },
   "outputs": [
    {
     "name": "stdout",
     "output_type": "stream",
     "text": [
      "\n",
      " Example 19.16\n",
      "\n",
      "\n",
      " Actual temperature at the end of first stage =  382.63704941  K,\n",
      " Actual temperature at the end of second stage =  425.041961043  K,\n",
      " The total compressor power =  965.01085424  kW\n"
     ]
    }
   ],
   "source": [
    "import math\n",
    "# Given that\n",
    "r1 = 2.5 # Pressure ratio of compressor for first stage\n",
    "r2 = 2.1 # Pressure ratio of compressor for second stage\n",
    "m = 5.0 # Mass flow rate of air in kg/s \n",
    "t1 = 10.0 # Inlet temperature in degree centigrade\n",
    "p1 = 1.013 # Inlet pressure in bar\n",
    "td = 50.0 # Temperature drop in intercooler in degree centigreade\n",
    "n_iso = .85 # Isentropic efficiency\n",
    "cp = 1.005 # Heat capacity of air in kJ/kgK\n",
    "x = 0.7 # Reduction in pressure ratio and intake volume \n",
    "gama = 1.4 # Ratio of heat capacities for air\n",
    "print \"\\n Example 19.16\\n\"\n",
    "T1 = t1+273\n",
    "T2s = T1*((r1)**((gama-1)/gama))\n",
    "T2 = T1 + (T2s-T1)/n_iso\n",
    "T3 = T2 - td\n",
    "T4s = T3*((r2)**((gama-1)/gama))\n",
    "T4 = T3 + (T4s-T3)/n_iso\n",
    "P = m*cp*((T2-T1)+(T4-T3))\n",
    "print \"\\n Actual temperature at the end of first stage = \",T2 ,\" K,\\n Actual temperature at the end of second stage = \",T4 ,\" K,\\n The total compressor power = \",P ,\" kW\"\n",
    "# The answers given in the book vary due to round off error"
   ]
  },
  {
   "cell_type": "markdown",
   "metadata": {},
   "source": [
    "## Ex19.17:pg-821"
   ]
  },
  {
   "cell_type": "code",
   "execution_count": 30,
   "metadata": {
    "collapsed": false
   },
   "outputs": [
    {
     "name": "stdout",
     "output_type": "stream",
     "text": [
      "\n",
      " Example 19.17\n",
      "\n",
      "\n",
      " Power required to drive the compressor =  54.6039650117  kW,\n",
      " Stagnatio temperature =  109.18614963  degree centigrade,\n",
      " Stagnation pressure =  160.465577551  kPa\n"
     ]
    }
   ],
   "source": [
    "import math\n",
    "# Given that\n",
    "r = 2.5 # Static pressure ratio of supercharger \n",
    "p1 = 0.6 # Static inlet pressure in bar\n",
    "t1 = 5 # Static inlet temperature in degree centigrade\n",
    "A_r = 13.0 # Air-fuel ratio\n",
    "m = 0.04 # The rate of fuel consumed by the engine in kg/s\n",
    "gama= 1.39 # For air-fuel mixture \n",
    "cp = 1.005 # Heat capacity for air-fuel mixture in kJ/kgk\n",
    "n_iso = .84 # Isentropic efficiency of compressor \n",
    "v = 120.0 # Exit velocity from the compressor in m/s\n",
    "print \"\\n Example 19.17\\n\"\n",
    "T1 = t1+273\n",
    "T2s = T1*((r)**((gama-1)/gama))\n",
    "T2 = T1 +(T2s-T1)/n_iso\n",
    "m_g = m*(A_r+1)\n",
    "P = m_g*cp*(T2-T1)\n",
    "T02 = T2 + (v**2)/(2*cp*1000)\n",
    "t02 = T02-273\n",
    "p02 = p1*r*((T02/T2)**(gama/(gama-1)))*100\n",
    "print \"\\n Power required to drive the compressor = \",P ,\" kW,\\n Stagnatio temperature = \",t02 ,\" degree centigrade,\\n Stagnation pressure = \",p02 ,\" kPa\"\n",
    "# The answers given in the book vary due to round off error\n",
    " \n"
   ]
  },
  {
   "cell_type": "markdown",
   "metadata": {},
   "source": [
    "## Ex19.18:pg-821"
   ]
  },
  {
   "cell_type": "code",
   "execution_count": 31,
   "metadata": {
    "collapsed": false
   },
   "outputs": [
    {
     "name": "stdout",
     "output_type": "stream",
     "text": [
      "\n",
      " Example 19.18\n",
      "\n",
      "\n",
      " The temperature of air at outlet =  233.053979565  degree centigrade,\n",
      " Power input =  300.644961473  kW,\n",
      " Diameter of impeller =  0.916122726914  m, \n",
      " Blade inlet angle =  0.245135262084  degree,\n",
      " Diffuser inlet angle =  0.138096713577  degree \n"
     ]
    }
   ],
   "source": [
    "import math\n",
    "# Given that\n",
    "N = 10000 # Speed in RPM\n",
    "V = 1.2 # Volume flow rate of free air in m**3/s\n",
    "p1 = 1.0 # Inlet pressure in bar\n",
    "t1 = 27.0 # Inlet temperature in degree centigrade\n",
    "r = 5.0 # Pressure ratio\n",
    "vf = 60.0 # Velocity flow rate in m/s\n",
    "sigma = 0.9 # Slip factor\n",
    "n_iso = 0.85 # Isentropic efficiency\n",
    "gama = 1.4\n",
    "R = 0.287\n",
    "cp = 1.005\n",
    "print \"\\n Example 19.18\\n\"\n",
    "T1 = t1+273\n",
    "T2s = T1*((r)**((gama-1)/gama))\n",
    "T2 = T1 +(T2s-T1)/n_iso\n",
    "m = p1*100*V/(R*288)\n",
    "Wc = m*cp*(T2-T1)\n",
    "Vb2 = (Wc*1000/(m*sigma))**(1.0/2.0)\n",
    "D = Vb2*60/(math.pi*N)\n",
    "Vb1 = Vb2/2\n",
    "beta1 = math.atan(vf/Vb1)\n",
    "alpha = math.atan(vf/(sigma*Vb2))\n",
    "print \"\\n The temperature of air at outlet = \",T2-273 ,\" degree centigrade,\\n Power input = \",Wc ,\" kW,\\n Diameter of impeller = \",D ,\" m, \\n Blade inlet angle = \",beta1 ,\" degree,\\n Diffuser inlet angle = \",alpha ,\" degree \"\n",
    "# The answers given in the book vary due to round off error\n",
    " \n"
   ]
  },
  {
   "cell_type": "markdown",
   "metadata": {},
   "source": [
    "## Ex19.19:pg-821"
   ]
  },
  {
   "cell_type": "code",
   "execution_count": 36,
   "metadata": {
    "collapsed": false
   },
   "outputs": [
    {
     "name": "stdout",
     "output_type": "stream",
     "text": [
      " \n",
      " Example 19.19\n",
      "\n",
      "\n",
      " Total head pressure ratio =  1.00344817308 , \n",
      " The required power at input shaft =  3.37798367776  kW,\n",
      " Inlet angle at the root =  0.0  degree and  29.8821913183  minute,\n",
      " Inlet angle at the tip =  0.0  degree and  49.6377044903  minute\n"
     ]
    }
   ],
   "source": [
    "import math\n",
    "# Given that\n",
    "N = 264 # Speed in RPS\n",
    "sigma = 0.91 # Slip factor\n",
    "d = 0.482 # Impeller diameter in m\n",
    "D = 0.306 # Impeller eye diameter\n",
    "D_ = 0.153 # Impeller root eye diameter in m\n",
    "vf = 138 # Uniform axial inlet velocity in m/s\n",
    "V = 1.2 # Volume flow rate of free air in m**3/s\n",
    "m = 9.1 # Air mass flow rate in kg/s\n",
    "T1 = 294 # Inlet air stagnation temperature in K\n",
    "n_iso = 0.8 # Total head isentropic efficiency\n",
    "n_mech = 0.98 # Mechanical efficiency\n",
    "gama = 1.4 # Ratio of heat capacities\n",
    "cp = 1.006 # Heat capacity in kJ/kgK\n",
    "print \"\\n Example 19.19\\n\"\n",
    "Wc = m*sigma*(2*math.pi*d*N/2)/1000\n",
    "P_e = Wc/n_mech\n",
    "delta_T = Wc/(m*cp)\n",
    "delta_T_ideal = delta_T*n_iso\n",
    "T2_i = delta_T_ideal + T1\n",
    "r = (T2_i/T1)**(gama/(gama-1)) # Where r = p02/p01\n",
    "Vb = 2*math.pi*N*D/2\n",
    "V_er = (2*math.pi*N*D_/2)\n",
    "beta1 = math.atan(vf/Vb)\n",
    "beta2 = math.atan(vf/V_er)\n",
    "beta1_ = (beta1 - math.floor(beta1))*60\n",
    "beta2_ = (beta2 - math.floor(beta2))*60\n",
    "print \"\\n Total head pressure ratio = \",r ,\", \\n The required power at input shaft = \",P_e ,\" kW,\\n Inlet angle at the root = \",math.floor(beta1) ,\" degree and \",beta1_ ,\" minute,\\n Inlet angle at the tip = \",math.floor(beta2) ,\" degree and \",beta2_ ,\" minute\"\n",
    "# The answers given in the book for total head pressure ratio and required power at input shaft contain calculation error\n",
    " \n"
   ]
  },
  {
   "cell_type": "markdown",
   "metadata": {},
   "source": [
    "## Ex19.20:pg-821"
   ]
  },
  {
   "cell_type": "code",
   "execution_count": 38,
   "metadata": {
    "collapsed": false
   },
   "outputs": [
    {
     "name": "stdout",
     "output_type": "stream",
     "text": [
      "\n",
      " Example 19.20\n",
      "\n",
      "\n",
      " Impeller tip diameter =  548.821948011  mm\n"
     ]
    }
   ],
   "source": [
    "import math\n",
    "# Given that\n",
    "N = 16000.0 # Speed in RPM\n",
    "t1 = 17.0 # Intake temperture of gas in degree centigrade\n",
    "rp = 4.0 # Pressure ratio\n",
    "sigma = 0.85# Slip factor\n",
    "n_iso = 0.82 # Isentropic efficiency\n",
    "alpha_wirl = 20.0 # Pre-wirl angle in degree\n",
    "d1 = 200.0 # Mean diameter of impeller eye in mm\n",
    "V1 = 120.0 #Absolute air velocity in m/s\n",
    "gama = 1.4 # Ratio of heat capacities\n",
    "cp = 1.005 # Heat capacity in kJ/kgK\n",
    "print \"\\n Example 19.20\\n\"\n",
    "T1 = t1 + 273\n",
    "T2s = T1*((rp)**((gama-1)/gama))\n",
    "delta_Ts = T2s-1\n",
    "delta_T = delta_Ts/n_iso\n",
    "Wc = 1 *cp*delta_T\n",
    "Vb1 = (math.pi*d1*(1e-3)*N)/60\n",
    "Vw1 = V1*math.sin(alpha_wirl)\n",
    "Vb2 = 459.78 # By solving quadratic equation 172.81e3=0.85*Vb2**2-167.55*41.05\n",
    "d2 = Vb2*60/(math.pi*N)\n",
    "\n",
    "print \"\\n Impeller tip diameter = \",d2*1000 ,\" mm\"\n",
    "# The answer given in the book varies due to round off error\n",
    " \n"
   ]
  },
  {
   "cell_type": "markdown",
   "metadata": {},
   "source": [
    "## Ex19.21:pg-821"
   ]
  },
  {
   "cell_type": "code",
   "execution_count": 41,
   "metadata": {
    "collapsed": false
   },
   "outputs": [
    {
     "name": "stdout",
     "output_type": "stream",
     "text": [
      "\n",
      " Example 19.21\n",
      "\n",
      "\n",
      " The delivery pressure =  6.07125291521  bar,\n",
      " The no of stages =  9.0 ,\n",
      " The internal efficiency =  0.84689822539  \n"
     ]
    }
   ],
   "source": [
    "import math\n",
    "# Given that\n",
    "m = 2.5 # Mass flow rate in kg/s\n",
    "p1 = 1.0 # Inlet pressure in bar\n",
    "T1 = 300.0 # Inlet temperature in bar\n",
    "n_s = 0.88 # Stage efficiency\n",
    "Wc = 600.0 # Power input in kW\n",
    "delta_t = 21.0 # Temperature rise in first stage in degree centigrade\n",
    "gama = 1.4 # Ratio of heat capacities \n",
    "cp = 1.005 # Heat capacity in kJ/kgK\n",
    "print \"\\n Example 19.21\\n\"\n",
    "x = n_s*gama/(gama-1)# Where x = (n/(n-1))\n",
    "T = Wc/(m*cp)+T1\n",
    "p = p1*((T/T1)**(x))\n",
    "T2 = T1 + n_s*delta_t\n",
    "r = ((T2/T1)**(gama/(gama-1)))# Where r = p2/p1\n",
    "N = math.log(p/p1)/math.log(r)\n",
    "N_ = math. ceil(N)\n",
    "Ts = T1*(p/p1)**((gama-1)/gama)\n",
    "n_inter = (Ts-T1)/(T-T1)\n",
    "print \"\\n The delivery pressure = \",p ,\" bar,\\n The no of stages = \",N_ ,\",\\n The internal efficiency = \",n_inter ,\" \""
   ]
  },
  {
   "cell_type": "markdown",
   "metadata": {},
   "source": [
    "## Ex19.22:pg-821"
   ]
  },
  {
   "cell_type": "code",
   "execution_count": 42,
   "metadata": {
    "collapsed": false
   },
   "outputs": [
    {
     "name": "stdout",
     "output_type": "stream",
     "text": [
      "\n",
      " Example 19.22\n",
      "\n",
      "\n",
      " Fluid deflection angle =  0.206163966177  degree,\n",
      " Power input =  41.8928434516  kJ/kg,\n",
      " The degree of reaction =  66.0453433333  percent\n"
     ]
    }
   ],
   "source": [
    "import math\n",
    "# Given that\n",
    "D = 0.5 # Mean diameter of impeller in m\n",
    "N = 15000.0 # Speed in RPM\n",
    "Vf = 230.0 # Velocity of flow in m/s\n",
    "p1 = 1.0  # Inlet pressure in bar\n",
    "T1 = 300.0 # Inlet temperature in K\n",
    "Vw1 = 80.0 # Velocity of whirl at inlet in m/s\n",
    "n_s = 0.88 # Stage efficiency\n",
    "rp = 1.5 # Pressure ratio\n",
    "gama = 1.4 \n",
    "cp = 1.0005\n",
    "print \"\\n Example 19.22\\n\"\n",
    "Vb = (math.pi*D*N/60)\n",
    "Ts = T1*((rp)**((gama-1)/gama))\n",
    "T = T1 + (Ts-T1)/n_s\n",
    "Wc = cp*(T-T1)\n",
    "Vw2 = Vw1 + (Wc*1000)/(Vb)\n",
    "beta1 = math.atan(Vf/(Vb-Vw1))\n",
    "beta2 =  math.atan(Vf/(Vb-Vw2))\n",
    "theta = beta2-beta1\n",
    "R = 1-((Vw1+Vw2)/(2*Vb))\n",
    "\n",
    "print \"\\n Fluid deflection angle = \",theta ,\" degree,\\n Power input = \",Wc ,\" kJ/kg,\\n The degree of reaction = \",R*100 ,\" percent\"\n",
    "# The answers given in the book vary because of round off error\n",
    " \n"
   ]
  },
  {
   "cell_type": "markdown",
   "metadata": {},
   "source": [
    "## Ex19.23:pg-821"
   ]
  },
  {
   "cell_type": "code",
   "execution_count": 43,
   "metadata": {
    "collapsed": false
   },
   "outputs": [
    {
     "name": "stdout",
     "output_type": "stream",
     "text": [
      "\n",
      " Example 19.23\n",
      "\n",
      "\n",
      " Blade angle at the tip =  1.02107077046  degree,\n",
      " Blade angle at the hub =  2.71029118833  degree\n"
     ]
    }
   ],
   "source": [
    "import math\n",
    "# Given that\n",
    "v = 5.0 #olume flow rate in m**3/s\n",
    "d = 1.0 #ean impeller diameter in m\n",
    "D = 0.6 # Hub diameter in m\n",
    "N = 600.0 #otational speed in RPM\n",
    "h = 35.0 #heoratical head in mm\n",
    "rho = 1.2 # Density of air in kg/m**3\n",
    "rho_w = 1000.0 #ensity of water in kg/m**3\n",
    "print \"\\n Example 19.23\\n\"\n",
    "Vf = v*4/(math.pi*(d**2 - D**2))\n",
    "Vb = (math.pi*d*N/60)\n",
    "Vb_ = (math.pi*D*N/60)\n",
    "H = h/rho\n",
    "Vw2 = H*9.81/(Vb)\n",
    "Vw2_ = H*9.81/(Vb_)\n",
    "beta_tip = (Vf/(Vb_-Vw2))\n",
    "beta_hub = (Vf/(Vb_-Vw2_))\n",
    "print \"\\n Blade angle at the tip = \",beta_tip ,\" degree,\\n Blade angle at the hub = \",beta_hub ,\" degree\"\n",
    "# The answers given in the book vary because of round off error\n",
    " \n"
   ]
  },
  {
   "cell_type": "markdown",
   "metadata": {},
   "source": [
    "## Ex19.24:pg-821"
   ]
  },
  {
   "cell_type": "code",
   "execution_count": 45,
   "metadata": {
    "collapsed": false
   },
   "outputs": [
    {
     "name": "stdout",
     "output_type": "stream",
     "text": [
      "\n",
      " Example 19.24\n",
      "\n",
      "\n",
      " Speed of impeller =  6456.85894335  RPM,\n",
      " Impeller width at inlet =  -73.5259022616  cm,\n",
      " Impeller width at outlet =  1.87680083777  cm,\n"
     ]
    }
   ],
   "source": [
    "import math\n",
    "# Given that\n",
    "N0 = 9000.0 # Rotational speed in RPM\n",
    "Q = 6.0 # Volume flow rate in m**3/s\n",
    "p1 = 1.0 # Initial pressure in bar\n",
    "t1 = 25.0 # Initial temperature in degree centigrade\n",
    "p2 = 2.2 # Compressed pressure in bar\n",
    "n = 1.33 # Compression index\n",
    "Vf = 75.0 # Velocity of flow in m/s\n",
    "beta1 = 30.0 # Blade angle at inlet in degree\n",
    "beta2 = 55.0 # Blade angle at outlet in degree\n",
    "d = 0.75 # Diameter of impeller in m\n",
    "cp = 1.005 \n",
    "print \"\\n Example 19.24\\n\"\n",
    "T1 = t1+273\n",
    "T2 = T1*(p2/p1)**((n-1)/n)\n",
    "Wc = cp*(T2-T1)\n",
    "x = Wc # Where x = Vw2*Vb2\n",
    "y = Vf/math.tan(beta2)# Where y = Vb2-Vw2(Equation 1)\n",
    "z = (y**2 +4*x*1000)**(0.5) # Where z = Vw2+Vb2(Equation 2)\n",
    "# By solving Equation 1 and Equation 2\n",
    "Vb2 = (y+z)/2\n",
    "Vw2 = ((z-y)/2)\n",
    "N = Vb2*60/(math.pi*d)\n",
    "Vb1 = Vf/math.tan(beta1)\n",
    "D1 = Vb1*60/(math.pi*N)\n",
    "b1 = Q/(math.pi*D1*Vf)\n",
    "Q_ = Q* (1/p2)*(T2/T1)\n",
    "b2 = Q_/(math.pi*d*Vf)\n",
    "print \"\\n Speed of impeller = \",N ,\" RPM,\\n Impeller width at inlet = \",b1*100 ,\" cm,\\n Impeller width at outlet = \",b2*100 ,\" cm,\"\n",
    "# The answers given in the book vary because of round off error\n"
   ]
  }
 ],
 "metadata": {
  "kernelspec": {
   "display_name": "Python 2",
   "language": "python",
   "name": "python2"
  },
  "language_info": {
   "codemirror_mode": {
    "name": "ipython",
    "version": 2
   },
   "file_extension": ".py",
   "mimetype": "text/x-python",
   "name": "python",
   "nbconvert_exporter": "python",
   "pygments_lexer": "ipython2",
   "version": "2.7.11"
  }
 },
 "nbformat": 4,
 "nbformat_minor": 0
}
