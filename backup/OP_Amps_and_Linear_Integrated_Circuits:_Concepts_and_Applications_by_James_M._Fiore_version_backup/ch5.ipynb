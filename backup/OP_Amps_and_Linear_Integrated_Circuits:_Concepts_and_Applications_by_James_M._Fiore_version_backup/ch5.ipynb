{
 "metadata": {
  "name": "",
  "signature": "sha256:fc8ecabd3f6a6fd0122632433657ca10c0e012d6345102406aa47b1daa1593f0"
 },
 "nbformat": 3,
 "nbformat_minor": 0,
 "worksheets": [
  {
   "cells": [
    {
     "cell_type": "heading",
     "level": 1,
     "metadata": {},
     "source": [
      "Chapter 5: Practical Limitations of Op Amp Circuits"
     ]
    },
    {
     "cell_type": "heading",
     "level": 2,
     "metadata": {},
     "source": [
      "Example 5.1, Page 135"
     ]
    },
    {
     "cell_type": "code",
     "collapsed": false,
     "input": [
      "#Variable declaration\n",
      "G=20.;       #in dB\n",
      "A=10**(G/20);        #Ordinary gain\n",
      "GBW=1*10**6;         #in Hz (from datasheet)\n",
      "\n",
      "#Calculations&Results\n",
      "f2=GBW/A/1000;\n",
      "#Result\n",
      "print \"Uper break frequency %.0f kHz\"%f2;"
     ],
     "language": "python",
     "metadata": {},
     "outputs": [
      {
       "output_type": "stream",
       "stream": "stdout",
       "text": [
        "Uper break frequency 100 kHz\n"
       ]
      }
     ],
     "prompt_number": 5
    },
    {
     "cell_type": "heading",
     "level": 2,
     "metadata": {},
     "source": [
      "Example 5.2, Page 135"
     ]
    },
    {
     "cell_type": "code",
     "collapsed": false,
     "input": [
      "import math\n",
      "\n",
      "#Variable declaration\n",
      "Rf=10000.;       #in Ohm\n",
      "Ri=2000;        #in Ohm\n",
      "\n",
      "#Calculations&Results\n",
      "Av=-Rf/Ri;\n",
      "print \"Av  = %.0f \"%Av;\n",
      "Av1=20*math.log10(-Av);\n",
      "print \"Av in %.0f bB\"%Av1;\n",
      "#for noise gain \n",
      "An=1+Rf/Ri;\n",
      "print \"Anoise =%.0f \"%An; "
     ],
     "language": "python",
     "metadata": {},
     "outputs": [
      {
       "output_type": "stream",
       "stream": "stdout",
       "text": [
        "Av  = -5 \n",
        "Av in 14 bB\n",
        "Anoise =6 \n"
       ]
      }
     ],
     "prompt_number": 6
    },
    {
     "cell_type": "heading",
     "level": 2,
     "metadata": {},
     "source": [
      "Example 5.3, Page 138"
     ]
    },
    {
     "cell_type": "code",
     "collapsed": false,
     "input": [
      "#Variable declaration\n",
      "Rf=20000.;      #in Ohms\n",
      "Ri=500;         #in Ohms\n",
      "f2=50*10**3;        #In Hz\n",
      "\n",
      "#Calculations&Results\n",
      "Anoise=1+(Rf/Ri);\n",
      "print \"Anoise = %.f\"%Anoise;\n",
      "funity=Anoise*f2*10**-6;\n",
      "print \"funity = %.2f MHz\"%funity;\n",
      "\n",
      "print \"For this application 741 would not be fast enough, therefore 411 would be fine\";"
     ],
     "language": "python",
     "metadata": {},
     "outputs": [
      {
       "output_type": "stream",
       "stream": "stdout",
       "text": [
        "Anoise = 41\n",
        "funity = 2.05 MHz\n",
        "For this application 741 would not be fast enough, therefore 411 would be fine\n"
       ]
      }
     ],
     "prompt_number": 9
    },
    {
     "cell_type": "heading",
     "level": 2,
     "metadata": {},
     "source": [
      "Example 5.4, Page 140"
     ]
    },
    {
     "cell_type": "code",
     "collapsed": false,
     "input": [
      "#Variable declaration\n",
      "#STAGE 1\n",
      "print \"Stage 1\";\n",
      "Rf1=14000.;      #in Ohms\n",
      "Ri1=2000;         #in Ohms\n",
      "Av1=1+(Rf1/Ri1);\n",
      "print \"Av = %.f\"%Av1;\n",
      "Anoise1=1+(Rf1/Ri1);\n",
      "print \"Anoise =%.f \"%Anoise1;\n",
      "GBW=1*10**6;         #in Hz (from Datasheet)\n",
      "f1=GBW/Anoise1;\n",
      "print \"f2 = %.f\"%f1;\n",
      "\n",
      "#STAGE 2\n",
      "print \"\\nStage 2\";\n",
      "Rf2=20000.;      #in Ohms\n",
      "Ri2=10000;         #in Ohms\n",
      "Av2=-(Rf2/Ri2);\n",
      "print \"Av = %.f\"%Av2;\n",
      "Anoise2=1+(Rf2/Ri2);\n",
      "print \"Anoise = %.f\"%Anoise2;\n",
      "GBW=1*10**6;         #in Hz (from Datasheet)\n",
      "f2=GBW/Anoise2;\n",
      "print \"f2 = %.f\"%f2;\n",
      "\n",
      "#STAGE 3\n",
      "print \"\\nStage 3\";\n",
      "Rf3=12000.;      #in Ohms\n",
      "Ri3=4000;         #in Ohms\n",
      "Av3=1+(Rf3/Ri3);\n",
      "print \"Av = %.f\"%Av3;\n",
      "Anoise3=1+(Rf3/Ri3);\n",
      "print \"Anoise = %.f\"%Anoise3;\n",
      "GBW=1*10**6;         #in Hz (from Datasheet)\n",
      "f3=GBW/Anoise3;\n",
      "print \"f2 = %.f\"%f3;\n",
      "\n",
      "#SYSTEM\n",
      "Av=Av1*Av2*Av3;\n",
      "print \"\\nAv = %.f\"%Av;\n",
      "\n",
      "print \"Dominant break frequency here is 125kHz\";\n",
      "GBW=f1*64;\n",
      "print \"Gain bandwidth product = %.f\"%GBW;"
     ],
     "language": "python",
     "metadata": {},
     "outputs": [
      {
       "output_type": "stream",
       "stream": "stdout",
       "text": [
        "Stage 1\n",
        "Av = 8\n",
        "Anoise =8 \n",
        "f2 = 125000\n",
        "\n",
        "Stage 2\n",
        "Av = -2\n",
        "Anoise = 3\n",
        "f2 = 333333\n",
        "\n",
        "Stage 3\n",
        "Av = 4\n",
        "Anoise = 4\n",
        "f2 = 250000\n",
        "\n",
        "Av = -64\n",
        "Dominant break frequency here is 125kHz\n",
        "Gain bandwidth product = 8000000\n"
       ]
      }
     ],
     "prompt_number": 12
    },
    {
     "cell_type": "heading",
     "level": 2,
     "metadata": {},
     "source": [
      "Example 5.5, Page 142"
     ]
    },
    {
     "cell_type": "code",
     "collapsed": false,
     "input": [
      "#Variable declaration\n",
      "Anoise=10;\n",
      "funity=4.*10**6;          #in Hz\n",
      "\n",
      "#Calculations&Results\n",
      "f2=funity/Anoise*10**-3;\n",
      "print \"f2 = %.f kHz\"%f2;\n",
      "n=3;\n",
      "f2_system=f2*(2**(1./n)-1)**0.5*10**-3;\n",
      "print \"f2_system = %.1f KHz\"%f2_system;"
     ],
     "language": "python",
     "metadata": {},
     "outputs": [
      {
       "output_type": "stream",
       "stream": "stdout",
       "text": [
        "f2 = 400 kHz\n",
        "f2_system = 0.2 KHz\n"
       ]
      }
     ],
     "prompt_number": 16
    },
    {
     "cell_type": "heading",
     "level": 2,
     "metadata": {},
     "source": [
      "Example 5.6, Page 142"
     ]
    },
    {
     "cell_type": "code",
     "collapsed": false,
     "input": [
      "#Variable declaration\n",
      "Av1=26;     #in dB\n",
      "Av=20;      #ordinary gain\n",
      "f2=500*10**3;    #in Hz\n",
      "\n",
      "#Calculations&Results\n",
      "funity=f2*Av;    #(Anoise=Av for non inverting terminal)\n",
      "print \"funity = %.f Hz\"%funity\n",
      "#411 has funity =4MHZ ,therefore atleast 2 stages would be required\n",
      "#Stage 1\n",
      "f411=4.*10**6;            #in hz\n",
      "Av1=f411/f2;\n",
      "print \"Av = %.f\"%Av1;\n",
      "#To achive gain of 20 second stage should have gain of atleast Av2=2.5\n",
      "Av2=2.5;\n",
      "f2=f411/Av2*10**-6;\n",
      "print \"f2 = %.1f MHz\"%f2;"
     ],
     "language": "python",
     "metadata": {},
     "outputs": [
      {
       "output_type": "stream",
       "stream": "stdout",
       "text": [
        "funity = 10000000 Hz\n",
        "Av = 8\n",
        "f2 = 1.6 MHz\n"
       ]
      }
     ],
     "prompt_number": 19
    },
    {
     "cell_type": "heading",
     "level": 2,
     "metadata": {},
     "source": [
      "Example 5.7, Page 148"
     ]
    },
    {
     "cell_type": "code",
     "collapsed": false,
     "input": [
      "import math\n",
      "\n",
      "#Variable declaration\n",
      "slewrate=0.5/10**-6;       # in V/S\n",
      "Vp=12;      #in Volts\n",
      "\n",
      "#Calculations\n",
      "fmax=slewrate/(2*math.pi*Vp);\n",
      "\n",
      "#Result\n",
      "print \"Fmax = %.f Hz\"%fmax;"
     ],
     "language": "python",
     "metadata": {},
     "outputs": [
      {
       "output_type": "stream",
       "stream": "stdout",
       "text": [
        "Fmax = 6631 Hz\n"
       ]
      }
     ],
     "prompt_number": 21
    },
    {
     "cell_type": "heading",
     "level": 2,
     "metadata": {},
     "source": [
      "Example 5.8, Page 149"
     ]
    },
    {
     "cell_type": "code",
     "collapsed": false,
     "input": [
      "import math\n",
      "\n",
      "#Variable declaration\n",
      "fmax=20000;     #in Hz\n",
      "Vp=10;      #in Volts\n",
      "\n",
      "#Calculations\n",
      "slewrate=fmax*(2*math.pi*Vp)*10**-6;\n",
      "\n",
      "#Result\n",
      "print \"Slew rate = %.3f V/uS\"%slewrate;"
     ],
     "language": "python",
     "metadata": {},
     "outputs": [
      {
       "output_type": "stream",
       "stream": "stdout",
       "text": [
        "Slew rate = 1.257 V/uS\n"
       ]
      }
     ],
     "prompt_number": 23
    },
    {
     "cell_type": "heading",
     "level": 2,
     "metadata": {},
     "source": [
      "Example 5.9, Page 157"
     ]
    },
    {
     "cell_type": "code",
     "collapsed": false,
     "input": [
      "#Variable declaration\n",
      "Rf=10000.;       # in Ohm\n",
      "Ri=1000;        #in ohm\n",
      "Roff=0;         #in ohm\n",
      "\n",
      "#Calculations&Results\n",
      "Anoise=1+Rf/Ri;\n",
      "print \"Anoise = %.f\"%Anoise;\n",
      "Vos=0.5*10**-3;      #in Volt\n",
      "Ios=10*10**-9;       #in Amp\n",
      "Ib=800*10**-9;       #in Amp\n",
      "Vout=(Vos*Anoise)+(Ib*Roff*Anoise+Ib*Rf);\n",
      "print \"Vout = %f V\"%Vout;\n",
      "\n",
      "Roff=Ri*Rf/(Rf+Ri);\n",
      "Vout=(Vos*Anoise)+(Ios*Rf);\n",
      "print \"Vout_offset = %f V\"%Vout;"
     ],
     "language": "python",
     "metadata": {},
     "outputs": [
      {
       "output_type": "stream",
       "stream": "stdout",
       "text": [
        "Anoise = 11\n",
        "Vout = 0.013500 V\n",
        "Vout_offset = 0.005600 V\n"
       ]
      }
     ],
     "prompt_number": 27
    },
    {
     "cell_type": "heading",
     "level": 2,
     "metadata": {},
     "source": [
      "Example 5.10, Page 158"
     ]
    },
    {
     "cell_type": "code",
     "collapsed": false,
     "input": [
      "#Variable declaration\n",
      "Rf=20000;       # in Ohm\n",
      "Ri=5000;        #in ohm\n",
      "Av=-Rf/Ri;\n",
      "Vin=3*10**-3;        #in Volt \n",
      "\n",
      "#Calculations&Results\n",
      "Vout=Av*Vin;\n",
      "print \"Vout = %f V\"%Vout;\n",
      "\n",
      "#411 typical apecs\n",
      "Vos=0.8*10**-3;      #in Volt\n",
      "Ios=25*10**-12;       #in Amp\n",
      "Ib=50*10**-12;       #in Amp\n",
      "Anoise=1+Rf/Ri;\n",
      "Roff=0;\n",
      "Vout=(Vos*Anoise)+(Ib*Roff*Anoise+Ib*Rf);\n",
      "print \"Vout = %f V\"%Vout;"
     ],
     "language": "python",
     "metadata": {},
     "outputs": [
      {
       "output_type": "stream",
       "stream": "stdout",
       "text": [
        "Vout = -0.012000 V\n",
        "Vout = 0.004001 V\n"
       ]
      }
     ],
     "prompt_number": 30
    },
    {
     "cell_type": "heading",
     "level": 2,
     "metadata": {},
     "source": [
      "Example 5.11, Page 161"
     ]
    },
    {
     "cell_type": "code",
     "collapsed": false,
     "input": [
      "#Variable declaration\n",
      "Roff=909;           #in Ohm\n",
      "Rf=10000;           #in Ohm\n",
      "Anoise=11;\n",
      "DT=55;      #degree Celsius\n",
      "DVbyDT=5*10**-6;      #    V/C\n",
      "DInoisebyDT=200*10**-12;            #  A/C\n",
      "\n",
      "#Calculations&Results\n",
      "Vdrift=(DVbyDT*DT*Anoise)+(DInoisebyDT*DT*Rf);\n",
      "print \"Vdrift = %f V\"%Vdrift;\n",
      "Av=Anoise;\n",
      "Vdriftin=Vdrift/Av;\n",
      "print \"Vdriftinput = %f V\"%Vdriftin;"
     ],
     "language": "python",
     "metadata": {},
     "outputs": [
      {
       "output_type": "stream",
       "stream": "stdout",
       "text": [
        "Vdrift = 0.003135 V\n",
        "Vdriftinput = 0.000285 V\n"
       ]
      }
     ],
     "prompt_number": 31
    },
    {
     "cell_type": "heading",
     "level": 2,
     "metadata": {},
     "source": [
      "Example 5.12, Page 163"
     ]
    },
    {
     "cell_type": "code",
     "collapsed": false,
     "input": [
      "#Variable declaration\n",
      "Av=20;          #in dB\n",
      "Vin=-60;        #in dBV\n",
      "CMRR=-90;       #in dB\n",
      "\n",
      "#Calculations&Results\n",
      "#for differential input\n",
      "Vout=Av+Vin;\n",
      "print \"Vout for differential mode input = %.f dBV\"%Vout;\n",
      "#for common mode input\n",
      "Vout1=Vout+CMRR;\n",
      "print \"Vout for common mode signal = %.f dBV\"%Vout1;\n",
      "#This signal is so small that it is overshadowed by noise"
     ],
     "language": "python",
     "metadata": {},
     "outputs": [
      {
       "output_type": "stream",
       "stream": "stdout",
       "text": [
        "Vout for differential mode input = -40 dBV\n",
        "Vout for common mode signal = -130 dBV\n"
       ]
      }
     ],
     "prompt_number": 32
    },
    {
     "cell_type": "heading",
     "level": 2,
     "metadata": {},
     "source": [
      "Example 5.13, Page 164"
     ]
    },
    {
     "cell_type": "code",
     "collapsed": false,
     "input": [
      "#Variable declaration\n",
      "PSRR=86.;        #in dB\n",
      "Vripple=0.5;       #in Volt\n",
      "\n",
      "#Calculations&Results\n",
      "Psrr=10**(PSRR/20);\n",
      "print \"PSRR ordinary value = %d\"%Psrr;\n",
      "Vout=Vripple/Psrr;\n",
      "print \"Vout_ripple = %.e Vpp\"%Vout\n",
      "#incorrect answers in textbook"
     ],
     "language": "python",
     "metadata": {},
     "outputs": [
      {
       "output_type": "stream",
       "stream": "stdout",
       "text": [
        "PSRR ordinary value = 19952\n",
        "Vout_ripple = 3e-05 Vpp\n"
       ]
      }
     ],
     "prompt_number": 37
    },
    {
     "cell_type": "heading",
     "level": 1,
     "metadata": {},
     "source": [
      "Example 5.14, Page 167"
     ]
    },
    {
     "cell_type": "code",
     "collapsed": false,
     "input": [
      "import math\n",
      "\n",
      "#Variable declaration\n",
      "Rf=99000.;       # in Ohm\n",
      "Ri=1000;        #in ohm\n",
      "Rs=100;        #in ohm\n",
      "\n",
      "#Calculations&Results\n",
      "Av=1+Rf/Ri;\n",
      "print \"Av ordinary value %.f\"%Av;\n",
      "print \"Av dB value = %.f\"%(20*math.log10(Av))\n",
      "Anoise=Av;          #for non inverting amplifier\n",
      "Rnoise=Rs+Rf*Ri/(Rf+Ri);\n",
      "print \"Rnoise =%.f ohms\"%Rnoise;\n",
      "\n",
      "T=300;      #Given in degree cel.\n",
      "K=1.38*10**-23;      #Boltzmann's constant\n",
      "Vind=4*10**-9;       #In V/Hz\n",
      "Iind=0.6*10**-12;     #in A/Sqrtof Hz\n",
      "eth=(4*K*T*Rnoise)**0.5;      #sqared the \n",
      "etot=((Vind**2)+(Iind*Rnoise)**2 +eth**2)**0.5;\n",
      "print \"V/(Hz)**0.5 = %e etotal\"%etot;\n",
      "\n",
      "funity=10*10**6;     #in Hz\n",
      "f2=funity/Anoise;\n",
      "print \"f2 = %.f Hz\"%f2;\n",
      "BWnoise=f2*1.57;\n",
      "print \"BWnoise =%.f Hz\"%BWnoise;\n",
      "\n",
      "en=etot*(BWnoise)**0.5;\n",
      "print \"en= %e V\"%en;\n",
      "\n",
      "en_out=en*Anoise;\n",
      "print \"en_out =%.e V\"%en_out;\n",
      "\n",
      "#for a nominal output signal of 1V RMS signal to noise ratio is \n",
      "signal=1;           #in V\n",
      "Noise=en_out;\n",
      "S_N=signal/Noise;\n",
      "\n",
      "print \"Signal to Noise ratio =%.f\"%S_N;           #answer in book is approxmately \n",
      "print \"S/N in dB = %.1f\"%(20*math.log10(S_N));\n"
     ],
     "language": "python",
     "metadata": {},
     "outputs": [
      {
       "output_type": "stream",
       "stream": "stdout",
       "text": [
        "Av ordinary value 100\n",
        "Av dB value = 40\n",
        "Rnoise =1090 ohms\n",
        "V/(Hz)**0.5 = 5.871807e-09 etotal\n",
        "f2 = 100000 Hz\n",
        "BWnoise =157000 Hz\n",
        "en= 2.326599e-06 V\n",
        "en_out =2e-04 V\n",
        "Signal to Noise ratio =4298\n",
        "S/N in dB = 72.7\n"
       ]
      }
     ],
     "prompt_number": 39
    }
   ],
   "metadata": {}
  }
 ]
}