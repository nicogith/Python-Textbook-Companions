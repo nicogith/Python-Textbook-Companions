{
 "metadata": {
  "name": "",
  "signature": "sha256:0f993005ae0c4a5fb6e3999f6b6123c834281e78d468813fd781bea99cd44298"
 },
 "nbformat": 3,
 "nbformat_minor": 0,
 "worksheets": [
  {
   "cells": [
    {
     "cell_type": "heading",
     "level": 1,
     "metadata": {},
     "source": [
      "Chapter 10: Integrators and Differentiators"
     ]
    },
    {
     "cell_type": "heading",
     "level": 2,
     "metadata": {},
     "source": [
      "Example 10.1, Page 354"
     ]
    },
    {
     "cell_type": "code",
     "collapsed": false,
     "input": [
      "import math\n",
      "\n",
      "#Variable declaration   \n",
      "t=0;\n",
      "Ri=10000;           #in Ohm\n",
      "C=10**-8;           #in farad\n",
      "Rf=100000;           #in Ohm\n",
      "\n",
      "#Calculations\n",
      "#Vout(t)=-1/(Ri*C)*int(Vi(t))dt\n",
      "Flow=1/(2*math.pi*Rf*C);\n",
      "\n",
      "#Result\n",
      "print \"Flow is %.0f Hz\"%Flow;"
     ],
     "language": "python",
     "metadata": {},
     "outputs": [
      {
       "output_type": "stream",
       "stream": "stdout",
       "text": [
        "Flow is 159 Hz\n"
       ]
      }
     ],
     "prompt_number": 1
    },
    {
     "cell_type": "heading",
     "level": 2,
     "metadata": {},
     "source": [
      "Example 10.2, Page 356"
     ]
    },
    {
     "cell_type": "code",
     "collapsed": false,
     "input": [
      "import sympy\n",
      "from sympy import Symbol,integrate,sin,pi\n",
      "#Variable declaration\n",
      "Ri = 10*10**3  #ohms\n",
      "C = 10*10**-9  #F\n",
      "\n",
      "#Calculations\n",
      "t = Symbol('t')\n",
      "Vout = 1/(Ri*C)*integrate(sin(2*pi*5000*t))\n",
      "\n",
      "#Result\n",
      "print \"Vout = \",Vout\n",
      "#Answer varies due to use of Sympy library\n"
     ],
     "language": "python",
     "metadata": {},
     "outputs": [
      {
       "output_type": "stream",
       "stream": "stdout",
       "text": [
        "Vout =  -1.0*cos(10000*pi*t)/pi\n"
       ]
      }
     ],
     "prompt_number": 2
    },
    {
     "cell_type": "heading",
     "level": 2,
     "metadata": {},
     "source": [
      "Example 10.4, Page 359"
     ]
    },
    {
     "cell_type": "code",
     "collapsed": false,
     "input": [
      "import math\n",
      "from scipy.integrate import quad\n",
      "\n",
      "#Variable declaration\n",
      "Rf=400000.;           #in Ohm\n",
      "C=20*10**-9;           #in farad\n",
      "\n",
      "#Calculations&Results\n",
      "flow=1./(2*math.pi*Rf*C);\n",
      "print \"Flow = %.1f Hz\"%flow\n",
      "Ri=15000;           #in Ohm\n",
      "#integration\n",
      "def integrand(t):\n",
      "    return .6\n",
      "exact=-2.5432596188;\n",
      "I,err=quad(integrand,10**-3,0)\n",
      "Vout=(-1.*I)/(Ri*C);\n",
      "print \"Vout(t) = %.1f V\"%Vout;#Result\n"
     ],
     "language": "python",
     "metadata": {},
     "outputs": [
      {
       "output_type": "stream",
       "stream": "stdout",
       "text": [
        "Flow = 19.9 Hz\n",
        "Vout(t) = 2.0 V\n"
       ]
      }
     ],
     "prompt_number": 3
    },
    {
     "cell_type": "heading",
     "level": 2,
     "metadata": {},
     "source": [
      "Example 10.5, Page 365"
     ]
    },
    {
     "cell_type": "code",
     "collapsed": false,
     "input": [
      "import numpy\n",
      "import matplotlib.pyplot as plt\n",
      "import math\n",
      "from scipy.misc import derivative\n",
      "%matplotlib inline\n",
      "\n",
      "\n",
      "#Variable declaration\n",
      "Ri=100;           #in Ohm\n",
      "Ci=10**-8;           #in farad\n",
      "Rf=5000;           #in Ohm\n",
      "Cf=10**-10;           #in farad\n",
      "\n",
      "#Calculations&Results\n",
      "fhf=1/(2*math.pi*Rf*Cf);\n",
      "fh_in=1/(2*math.pi*Ri*Ci);\n",
      "print \"Fhigh(f dbk)=%.0f Hz\"%fhf;\n",
      "print \"Fhigh(in)=%.0f Hz\"%fh_in;\n",
      "#graph is drawn taking function sin(t) \n",
      "t=numpy.linspace(0,15);\n",
      "Vi=2*numpy.sin(2*t);\n",
      "z = numpy.diff(-1.885*Vi)#,1.0,dx=1e-6)\n",
      "\n",
      "plt.plot(2*Vi)\n",
      "plt.plot(z)\n",
      "plt.title(\"Partial Differentiator of sin(t)\")\n",
      "plt.xlabel(\"t\")\n",
      "plt.ylabel(\"V\");\n",
      "plt.grid();\n",
      "plt.show()"
     ],
     "language": "python",
     "metadata": {},
     "outputs": [
      {
       "output_type": "stream",
       "stream": "stdout",
       "text": [
        "Fhigh(f dbk)=318310 Hz\n",
        "Fhigh(in)=159155 Hz\n"
       ]
      },
      {
       "metadata": {},
       "output_type": "display_data",
       "png": "[encoded data removed]",
       "text": [
        "<matplotlib.figure.Figure at 0xb069c62c>"
       ]
      }
     ],
     "prompt_number": 5
    },
    {
     "cell_type": "heading",
     "level": 2,
     "metadata": {},
     "source": [
      "Example 10.6, Page 368"
     ]
    },
    {
     "cell_type": "code",
     "collapsed": false,
     "input": [
      "import numpy as np\n",
      "from scipy import signal\n",
      "import matplotlib.pyplot as plt\n",
      "from sympy.mpmath import *\n",
      "from sympy import Symbol\n",
      "%matplotlib inline\n",
      "\n",
      "#Variable declaration\n",
      "f=4;            #in KHz\n",
      "T=1./f;         # in uS\n",
      "S=6./125*10**6;\n",
      "\n",
      "#Calculations&Results\n",
      "from sympy import Symbol\n",
      "t = Symbol('t') \n",
      "Vin = S*t\n",
      "print \"Vin(t) = \",Vin;\n",
      "Rf=5000;           #in Ohm\n",
      "C=10**-8;           #in farad\n",
      "dy = diff(lambda x:Vin*x,1.0)\n",
      "Vout=-Rf*C*dy;\n",
      "print \"Vout = \",Vout,\"V\"\n",
      "\n",
      "\n",
      "t=np.linspace(0,5*np.pi);\n",
      "plt.plot(t,signal.square(3*t));\n",
      "plt.title('Output Waveform')\n",
      "plt.xlabel('t')\n",
      "plt.ylabel('V')\n",
      "plt.show()"
     ],
     "language": "python",
     "metadata": {},
     "outputs": [
      {
       "output_type": "stream",
       "stream": "stdout",
       "text": [
        "Vin(t) =  48000.0*t\n",
        "Vout =  -2.400000000000000115012166457262310359510593*t V\n"
       ]
      },
      {
       "metadata": {},
       "output_type": "display_data",
       "png": "[encoded data removed]",
       "text": [
        "<matplotlib.figure.Figure at 0xae73258c>"
       ]
      }
     ],
     "prompt_number": 8
    },
    {
     "cell_type": "heading",
     "level": 2,
     "metadata": {},
     "source": [
      "Example 10.7, Page 370"
     ]
    },
    {
     "cell_type": "code",
     "collapsed": false,
     "input": [
      "import numpy\n",
      "import matplotlib.pyplot as plt\n",
      "from scipy import signal\n",
      "from sympy.mpmath import *\n",
      "\n",
      "#Variable declaration\n",
      "Rf=5000;           #in Ohm\n",
      "C=0.01*10**-6;     #in farad\n",
      "\n",
      "#Calculations&Results\n",
      "Vin = 5*10**6\n",
      "from sympy import Symbol\n",
      "t = Symbol('t')\n",
      "print \"Vin(t) = %.0f*t\"%Vin; \n",
      "dy = diff(lambda x:Vin*x,1.0)\n",
      "Vout=-Rf*C*dy;\n",
      "print \"Vout = %.1f V\"%Vout\n"
     ],
     "language": "python",
     "metadata": {},
     "outputs": [
      {
       "output_type": "stream",
       "stream": "stdout",
       "text": [
        "Vin(t) = 5000000*t\n",
        "Vout = -250.0 V\n"
       ]
      }
     ],
     "prompt_number": 9
    },
    {
     "cell_type": "heading",
     "level": 2,
     "metadata": {},
     "source": [
      "Example 10.8, Page 370"
     ]
    },
    {
     "cell_type": "code",
     "collapsed": false,
     "input": [
      "import math\n",
      "import numpy\n",
      "from sympy.mpmath import *\n",
      "\n",
      "\n",
      "#Variable declaration\n",
      "Ri=250;           #in Ohm\n",
      "Ci=0.5*10**-6;           #in farad\n",
      "Rf=40000;           #in Ohm\n",
      "Cf=2*10**-9;           #in farad\n",
      "\n",
      "#Calculations&Results\n",
      "fhf=1/(2*math.pi*Rf*Cf);\n",
      "fh_in=1/(2*math.pi*Ri*Ci);\n",
      "print \"Fhigh(f dbk)=%.0f Hz\"%fhf;\n",
      "print \"Fhigh(in)=%.0f Hz\"%fh_in;\n",
      "\n",
      "\n",
      "S=10;           #in V/S\n",
      "step=1;\n",
      "print \"For slope\",S\n",
      "Vin=10;\n",
      "dy = diff(lambda t:Vin*t,1.0)\n",
      "Vout=-Rf*Ci*dy;\n",
      "print \"Vout(t) = %.1f V\"%Vout;\n",
      "#\n",
      "Slope=-4/0.2;           #in V/S\n",
      "step=1;\n",
      "print \"\\nFor slope\",Slope\n",
      "Vin=20;\n",
      "dy = diff(lambda t:Vin*t,1.0)\n",
      "Vout2=-Rf*Ci*dy;\n",
      "print \"Vout(t) = %.1f V\"%Vout2;\n",
      "\n"
     ],
     "language": "python",
     "metadata": {},
     "outputs": [
      {
       "output_type": "stream",
       "stream": "stdout",
       "text": [
        "Fhigh(f dbk)=1989 Hz\n",
        "Fhigh(in)=1273 Hz\n",
        "For slope 10\n",
        "Vout(t) = -0.2 V\n",
        "\n",
        "For slope -20.0\n",
        "Vout(t) = -0.4 V\n"
       ]
      }
     ],
     "prompt_number": 10
    }
   ],
   "metadata": {}
  }
 ]
}