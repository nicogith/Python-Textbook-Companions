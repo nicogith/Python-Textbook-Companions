{
 "metadata": {
  "name": "",
  "signature": "sha256:754bc154734046666de8d1c543b3f1db534b8026afc874446ad243228c349fd9"
 },
 "nbformat": 3,
 "nbformat_minor": 0,
 "worksheets": [
  {
   "cells": [
    {
     "cell_type": "heading",
     "level": 1,
     "metadata": {},
     "source": [
      "Chapter 12: Analog-to-Digital-to-Analog Conversion"
     ]
    },
    {
     "cell_type": "heading",
     "level": 2,
     "metadata": {},
     "source": [
      "Example 12.1, Page 445"
     ]
    },
    {
     "cell_type": "code",
     "collapsed": false,
     "input": [
      "import math\n",
      "\n",
      "#Variable declaration\n",
      "V=2.;            #in V\n",
      "Bits=12;\n",
      "\n",
      "#Calculations&Results\n",
      "levels=2**Bits;       #12 bit words\n",
      "step=V/levels*10**6;\n",
      "print \"The system can resolve = %.f uV\\n\"%step;  \n",
      "Drange=20*math.log10(levels);\n",
      "print \"The Dynamic Range is = %.0f dB\\n\"%Drange;  \n",
      "\n",
      "DR=6*Bits;\n",
      "print \"The Dynamic Range is approx (6dB * no.of bits),i.e. = %.0f dB\\n\"%DR;  \n"
     ],
     "language": "python",
     "metadata": {},
     "outputs": [
      {
       "output_type": "stream",
       "stream": "stdout",
       "text": [
        "The system can resolve = 488 uV\n",
        "\n",
        "The Dynamic Range is = 72 dB\n",
        "\n",
        "The Dynamic Range is approx (6dB * no.of bits),i.e. = 72 dB\n",
        "\n"
       ]
      }
     ],
     "prompt_number": 3
    },
    {
     "cell_type": "heading",
     "level": 2,
     "metadata": {},
     "source": [
      "Example 12.2, Page 446"
     ]
    },
    {
     "cell_type": "code",
     "collapsed": false,
     "input": [
      "#Variable declaration\n",
      "Bits=16;\n",
      "V=0.775;            #in V\n",
      "Vp=1.550;            #in Vp_p\n",
      "\n",
      "#Calculations&Results\n",
      "levels=2**Bits;       #12 bit words\n",
      "DR=6*Bits;\n",
      "print \"The Dynamic Range is  = %.0f dB\\n\"%DR; # \n",
      "step=Vp/levels*10**6;\n",
      "print \"The system can resolve = %.2f uV\\n\"%step;"
     ],
     "language": "python",
     "metadata": {},
     "outputs": [
      {
       "output_type": "stream",
       "stream": "stdout",
       "text": [
        "The Dynamic Range is  = 96 dB\n",
        "\n",
        "The system can resolve = 23.65 uV\n",
        "\n"
       ]
      }
     ],
     "prompt_number": 6
    },
    {
     "cell_type": "heading",
     "level": 2,
     "metadata": {},
     "source": [
      "Example 12.3, Page 448"
     ]
    },
    {
     "cell_type": "code",
     "collapsed": false,
     "input": [
      "#Variable declaration\n",
      "DR=50.;              #in dB\n",
      "\n",
      "#Calculations\n",
      "Bits=DR/6;  \n",
      "\n",
      "#Results\n",
      "print \"The Bits required are = %.1f \\n\"%Bits; \n",
      "#we cannot  have fractional bit so,\n",
      "print \"we cannot  have fractional bit so, Bits required are = %.0f \\n\"%(Bits+1); "
     ],
     "language": "python",
     "metadata": {},
     "outputs": [
      {
       "output_type": "stream",
       "stream": "stdout",
       "text": [
        "The Bits required are = 8.3 \n",
        "\n",
        "we cannot  have fractional bit so, Bits required are = 9 \n",
        "\n"
       ]
      }
     ],
     "prompt_number": 7
    }
   ],
   "metadata": {}
  }
 ]
}