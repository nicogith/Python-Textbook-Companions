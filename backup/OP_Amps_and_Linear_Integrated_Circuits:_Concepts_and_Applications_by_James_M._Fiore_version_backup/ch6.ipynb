{
 "metadata": {
  "name": "",
  "signature": "sha256:c686a9f3dc7a8f229c90284a6e852e925f3cfd1771ad2f629e9234fdf8a2c95c"
 },
 "nbformat": 3,
 "nbformat_minor": 0,
 "worksheets": [
  {
   "cells": [
    {
     "cell_type": "heading",
     "level": 1,
     "metadata": {},
     "source": [
      "Chapter 6: Specialized Op Amps"
     ]
    },
    {
     "cell_type": "heading",
     "level": 2,
     "metadata": {},
     "source": [
      "Example 6.1, Page 176"
     ]
    },
    {
     "cell_type": "code",
     "collapsed": false,
     "input": [
      "#Variable declaration\n",
      "R1=20000.;       #in Ohm\n",
      "R2=400;         #in Ohm\n",
      "Vinp=0.006;         #in V  (Vinp=Vin+)\n",
      "Vinm=-0.006;         #in V   Vinp=Vin_)\n",
      "Vh=0.010;         #in V\n",
      "\n",
      "#Calculations&Results\n",
      "Vad=Vinm*(1+R1/R2)-Vinp*R1/R2;          #------1 equation Va=0.606mV approx\n",
      "print \"Va = %f V\"%Vad;\n",
      "#for common mode\n",
      "Vac=Vh*(1+R1/R2)-Vh*R1/R2\n",
      "print \"Va = %f V\"%Vac;\n",
      "Rf=50000;       #in Ohm\n",
      "Ri=10000;         #in Ohm\n",
      "Av=Rf/Ri;\n",
      "print \"Av = %.f\"%Av;\n",
      "Va=-0.606;       #V \n",
      "Vb=-Va;\n",
      "Voutd=Av*(Vb-Va);\n",
      "print \"Desired differential input signal is Vb-Va= %.2f V\"%Voutd;\n",
      "Vout=(Vinp-Vinm)*(Rf/Ri)*(1+2*(R1/R2));\n",
      "print \"By using equation 6.1 given in book Vout =(Vinp-Vinm)*(Rf/Ri)*(1+2*(R1/R2))= %.2f V\"%Vout;\n",
      "CMRR=10**5;\n",
      "Av=505;\n",
      "Vincm=10*10**-3;\n",
      "Voutcm=Vincm*Av/CMRR*10**6;\n",
      "print \"Vout(cm) = %.1f uV\"%Voutcm"
     ],
     "language": "python",
     "metadata": {},
     "outputs": [
      {
       "output_type": "stream",
       "stream": "stdout",
       "text": [
        "Va = -0.606000 V\n",
        "Va = 0.010000 V\n",
        "Av = 5\n",
        "Desired differential input signal is Vb-Va= 6.06 V\n",
        "By using equation 6.1 given in book Vout =(Vinp-Vinm)*(Rf/Ri)*(1+2*(R1/R2))= 6.06 V\n",
        "Vout(cm) = 50.5 uV\n"
       ]
      }
     ],
     "prompt_number": 7
    },
    {
     "cell_type": "heading",
     "level": 2,
     "metadata": {},
     "source": [
      "Example 6.2, Page 180"
     ]
    },
    {
     "cell_type": "code",
     "collapsed": false,
     "input": [
      "#Variable declaration\n",
      "Av=10;  #dB\n",
      "\n",
      "#Calculations\n",
      "Rg=(49.4*10**3)/(Av-1)*10**-3;\n",
      "\n",
      "#Result\n",
      "print \"Rg = %.3f kohms\"%Rg"
     ],
     "language": "python",
     "metadata": {},
     "outputs": [
      {
       "output_type": "stream",
       "stream": "stdout",
       "text": [
        "Rg = 5.489 kohms\n"
       ]
      }
     ],
     "prompt_number": 11
    },
    {
     "cell_type": "heading",
     "level": 2,
     "metadata": {},
     "source": [
      "Example 6.3, Page 183"
     ]
    },
    {
     "cell_type": "code",
     "collapsed": false,
     "input": [
      "import math\n",
      "\n",
      "#Variable declaration\n",
      "Vp=10;      #in V\n",
      "Vcc=15.;         #in V\n",
      "Rf=50000.;       #in Ohm\n",
      "Ri=2000;         #in Ohm\n",
      "Rset=3*10**6;           #in Ohm\n",
      "\n",
      "#Calculations&Results\n",
      "Iset=(Vcc-0.5)/Rset;\n",
      "print \"Iset = %f A\"%Iset\n",
      "Anoise=1+Rf/Ri;\n",
      "print \"Anoise = %.f\"%Anoise;\n",
      "funity=200000.;      #in Hz\n",
      "f2=funity/Anoise*10**-3;\n",
      "print \"f2 = %.2f kHz\"%f2;\n",
      "SR=0.11/10**-6;    #in V/S\n",
      "fmax=SR/(2*math.pi*Vp)*10**-3;\n",
      "print \"fmax = %.2f kHz\"%fmax"
     ],
     "language": "python",
     "metadata": {},
     "outputs": [
      {
       "output_type": "stream",
       "stream": "stdout",
       "text": [
        "Iset = 0.000005 A\n",
        "Anoise = 26\n",
        "f2 = 7.69 kHz\n",
        "fmax = 1.75 kHz\n"
       ]
      }
     ],
     "prompt_number": 14
    },
    {
     "cell_type": "heading",
     "level": 2,
     "metadata": {},
     "source": [
      "Example 6.4, Page 190"
     ]
    },
    {
     "cell_type": "code",
     "collapsed": false,
     "input": [
      "#Variable declaration\n",
      "Refresh=60.;\n",
      "Height=1024;\n",
      "Width=1024;\n",
      "\n",
      "#Calculations&Results\n",
      "Pixelrate=Refresh*Height*Width;\n",
      "print \"pixels per second =%.f Pixelrate\"%Pixelrate;\n",
      "Tr=1/Pixelrate;\n",
      "f2=0.35/(0.3*Tr)*10**-6;\n",
      "print \"f2 = %.1f MHz\"%f2;"
     ],
     "language": "python",
     "metadata": {},
     "outputs": [
      {
       "output_type": "stream",
       "stream": "stdout",
       "text": [
        "pixels per second =62914560 Pixelrate\n",
        "f2 = 73.4 MHz\n"
       ]
      }
     ],
     "prompt_number": 16
    },
    {
     "cell_type": "heading",
     "level": 2,
     "metadata": {},
     "source": [
      "Example 6.5, Page 191"
     ]
    },
    {
     "cell_type": "code",
     "collapsed": false,
     "input": [
      "#Variable declaration\n",
      "Vp=5.;           #in V\n",
      "Vm=-Vp;\n",
      "Rcontrol=22000.;     #In Ohm\n",
      "Vd=0.7;         #in V\n",
      "\n",
      "#Calculations&Results\n",
      "Iabc=(Vp-Vm-Vd)/Rcontrol*10**3;\n",
      "print \"Iabc = %.3f mA\"%Iabc;\n",
      "#Using voltage divider\n",
      "Loss=470./(33000+470);\n",
      "print \"Loss = %.3f\"%Loss;\n",
      "Vpp=0.050;          #in V\n",
      "Vinmax=Vpp/Loss;\n",
      "print \"Vinmax = %.2f V\"%Vinmax;\n",
      "gm=0.010;           #in S\n",
      "Iout=Vpp*gm*10**3;\n",
      "print \"Iout = %.1f mA\"%Iout;\n",
      "#maximum output\n",
      "Rf=22000;           #in Ohm\n",
      "Vout=Iout*Rf;\n",
      "print \"Vout = %.f V\"%Vout;"
     ],
     "language": "python",
     "metadata": {},
     "outputs": [
      {
       "output_type": "stream",
       "stream": "stdout",
       "text": [
        "Iabc = 0.423 mA\n",
        "Loss = 0.014\n",
        "Vinmax = 3.56 V\n",
        "Iout = 0.5 mA\n",
        "Vout = 11000 V\n"
       ]
      }
     ],
     "prompt_number": 18
    },
    {
     "cell_type": "heading",
     "level": 2,
     "metadata": {},
     "source": [
      "Example 6.6, Page 197"
     ]
    },
    {
     "cell_type": "code",
     "collapsed": false,
     "input": [
      "import math\n",
      "\n",
      "#Variable declaration\n",
      "Av=-20;\n",
      "Ri=50000.;       #in Ohm\n",
      "fc=100;     #in Hz\n",
      "\n",
      "#Calculations&Results\n",
      "#Av=-Rf/Ri\n",
      "Rf=-Av*Ri*10**-6;\n",
      "print \"Value of Rf = %.f Mohms\"%Rf;\n",
      "Rb=2*Rf;\n",
      "print \"Value of Rb = %.f Mohms\"%Rb;\n",
      "C=1./(2*math.pi*Ri*fc)*10**9;\n",
      "print \"Value of C = %.1f nF\"%C;"
     ],
     "language": "python",
     "metadata": {},
     "outputs": [
      {
       "output_type": "stream",
       "stream": "stdout",
       "text": [
        "Value of Rf = 1 Mohms\n",
        "Value of Rb = 2 Mohms\n",
        "Value of C = 31.8 nF\n"
       ]
      }
     ],
     "prompt_number": 33
    },
    {
     "cell_type": "heading",
     "level": 2,
     "metadata": {},
     "source": [
      "Example 6.7, Page 205"
     ]
    },
    {
     "cell_type": "code",
     "collapsed": false,
     "input": [
      "#Variable declaration\n",
      "Av=20.;          #in dB\n",
      "Av1=10**(Av/20);            #ordinary gain\n",
      "Rf=1500.;            #in Ohm (Assumption)\n",
      "\n",
      "#Calculations\n",
      "#Av=1+Rf/R  we know\n",
      "R=Rf/(Av1-1);\n",
      "\n",
      "\n",
      "print \"R =%.f ohms\"%R;"
     ],
     "language": "python",
     "metadata": {},
     "outputs": [
      {
       "output_type": "stream",
       "stream": "stdout",
       "text": [
        "R =167 ohms\n"
       ]
      }
     ],
     "prompt_number": 34
    }
   ],
   "metadata": {}
  }
 ]
}