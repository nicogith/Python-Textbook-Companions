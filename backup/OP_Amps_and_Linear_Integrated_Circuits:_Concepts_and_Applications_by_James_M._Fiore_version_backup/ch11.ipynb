{
 "metadata": {
  "name": "",
  "signature": "sha256:8f8f31c3191cfdd47d013191932801609eb5b0e814e7a668f3f0d25a5b56754d"
 },
 "nbformat": 3,
 "nbformat_minor": 0,
 "worksheets": [
  {
   "cells": [
    {
     "cell_type": "heading",
     "level": 1,
     "metadata": {},
     "source": [
      "Chapter 11: Active Filters"
     ]
    },
    {
     "cell_type": "heading",
     "level": 2,
     "metadata": {},
     "source": [
      "Example 11.1, Page 397"
     ]
    },
    {
     "cell_type": "code",
     "collapsed": false,
     "input": [
      "import math\n",
      "\n",
      "#Variable declaration\n",
      "L=1.414;            #Alpha\n",
      "Ri=1;           #in Ohm\n",
      "\n",
      "#Calculations&Results\n",
      "Rf=2-L;\n",
      "print \"The value of Rf is = %.3f Ohm\\n\"%Rf;  \n",
      "Av=1+Rf/Ri;\n",
      "print \"The pass band gain of  = %.3f \\n\"%Av;  \n",
      "fc=1000;            #in Hz\n",
      "W=2*math.pi*fc;\n",
      "print \"The critical frequency is = %.0f radians per seconds\\n\"%W;  \n",
      "R=1/W;\n",
      "print \"The Resistor required is  = %.6f Ohm\\n\"%R;  \n",
      "C1=2/L;\n",
      "print \"The capacitor1 required is  = %.3f F\\n\"%C1;  \n",
      "C2=L/2;\n",
      "print \"The capacitor2 required is  = %.3f F\\n\"%C2;  "
     ],
     "language": "python",
     "metadata": {},
     "outputs": [
      {
       "output_type": "stream",
       "stream": "stdout",
       "text": [
        "The value of Rf is = 0.586 Ohm\n",
        "\n",
        "The pass band gain of  = 1.586 \n",
        "\n",
        "The critical frequency is = 6283 radians per seconds\n",
        "\n",
        "The Resistor required is  = 0.000159 Ohm\n",
        "\n",
        "The capacitor1 required is  = 1.414 F\n",
        "\n",
        "The capacitor2 required is  = 0.707 F\n",
        "\n"
       ]
      }
     ],
     "prompt_number": 1
    },
    {
     "cell_type": "heading",
     "level": 2,
     "metadata": {},
     "source": [
      "Example 11.2, Page 404"
     ]
    },
    {
     "cell_type": "code",
     "collapsed": false,
     "input": [
      "import math\n",
      "\n",
      "#Variable declaration\n",
      "L=1.732;                # Aplha = DAMPING\n",
      "Kf=1.274;\n",
      "\n",
      "#Calculations&Results\n",
      "R1=L/2;\n",
      "print \"The Resistor required is  = %.3f Ohm\\n\"%R1;  \n",
      "R2=2/L;\n",
      "print \"The Resistor required is  = %.3f Ohm\\n\"%R2;  \n",
      "F3db=5000;              #in Hz\n",
      "Fc=F3db/Kf;\n",
      "print \"The critical frequency is = %.0f Hz\\n\"%Fc;  \n",
      "Wc=2*math.pi*Fc;\n",
      "print \"The Wc is = %.0f radians per seconds\\n\"%Wc;  \n",
      "R1n=R1/Wc;\n",
      "print \"The value of scaled Resistor R1 is  = %.7f Ohm\\n\"%R1n;  \n",
      "R2n=R2/Wc;\n",
      "print \"The value of scaled Resistor R2 is  = %.7f Ohm\\n\"%R2n;  "
     ],
     "language": "python",
     "metadata": {},
     "outputs": [
      {
       "output_type": "stream",
       "stream": "stdout",
       "text": [
        "The Resistor required is  = 0.866 Ohm\n",
        "\n",
        "The Resistor required is  = 1.155 Ohm\n",
        "\n",
        "The critical frequency is = 3925 Hz\n",
        "\n",
        "The Wc is = 24659 radians per seconds\n",
        "\n",
        "The value of scaled Resistor R1 is  = 0.0000351 Ohm\n",
        "\n",
        "The value of scaled Resistor R2 is  = 0.0000468 Ohm\n",
        "\n"
       ]
      }
     ],
     "prompt_number": 2
    },
    {
     "cell_type": "heading",
     "level": 2,
     "metadata": {},
     "source": [
      "Example 11.3, Page 406"
     ]
    },
    {
     "cell_type": "code",
     "collapsed": false,
     "input": [
      "import math\n",
      "\n",
      "#Variable declaration\n",
      "f3db=20;            #In Hz\n",
      "\n",
      "#Calculations&Results\n",
      "W3db=2*math.pi*f3db;\n",
      "print \"The desired break frequency, W3db is = %.1f radians per second\\n\"%W3db;  \n",
      "print \"Stage 1\";\n",
      "kf=1.557;\n",
      "Wc=W3db/kf;\n",
      "print \"The Wc is = %.1f radians per second\\n\"%Wc;  \n",
      "Rscaled=1/80.7;  #Rscaled value \n",
      "R=1000*Rscaled;     #Practical Value\n",
      "print \"The scaled Resistor required is  = %.3f Ohm\\n\"%R;  \n",
      "C=1*10**-6;          #Assumed Value\n",
      "print \"The assumed capacitor  is  = %.f uFarad\\n\"%(C*10**6);  \n",
      "\n",
      "print \"Stage 2\";\n",
      "Alpha=1.775;\n",
      "R1=Alpha/2;\n",
      "print \"The Resistor R1 required is  = %.4f Ohm\\n\"%R1;  \n",
      "R2=2/Alpha;\n",
      "print \"The Resistor R2 required is  = %.3f Ohm\\n\"%R2;  \n",
      "kf1=1.613;\n",
      "Wc1=W3db/kf1;\n",
      "print \"The required critical frequency ,Wc is = %.1f radians per second\\n\"%Wc1;  \n",
      "#we will scale the resistor\n",
      "R1s=R1/Wc1;\n",
      "R2s=R2/Wc1;\n",
      "print \"The scaled resistor R1 is  = %.4f Ohm\\n\"%R1s;  \n",
      "print \"The scaled resistor R2 is  = %.4f Ohm\\n\"%R2s;  \n",
      "print \"The assumed capacitor  is  = %.f uFarad\\n\"%(C*10**6);  \n",
      "#for practical values of resistor and capacitor multiplying by 10**6\n",
      "R1m=R1s*10**6;\n",
      "R2m=R2s*10**6;\n",
      "print \"The practical value of  resistor R1 is  = %.0f Ohm\\n\"%R1m;  \n",
      "print \"The practical value of  resistor R2 is  = %.0f Ohm\\n\"%R2m;  \n",
      "print \"The assumed capacitor  is  = %.f uFarad\\n\"%(C*10**6);  \n",
      "\n",
      "print \"Stage 3\"\n",
      "Alpha=1.091;\n",
      "R21=Alpha/2;\n",
      "R22=2/Alpha;\n",
      "kf2=1.819;\n",
      "Wc2=W3db/kf2;\n",
      "print \"The required critical frequency ,Wc is = %.1f radians per second\\n\"%Wc2;  \n",
      "#Scale resistor by Wc to achive tuning frequency\n",
      "R21s=R21/Wc2;\n",
      "R22s=R22/Wc2;\n",
      "print \"The scaled resistor R1 is  = %.5f Ohm\\n\"%R21s;  \n",
      "print \"The scaled resistor R2 is  = %.4f Ohm\\n\"%R22s;  \n",
      "#for practical values of resistor and capacitor multiplying by 10**6\n",
      "R21m=R21s*10**6;\n",
      "R22m=R22s*10**6;\n",
      "print \"The practical value of  resistor R1 is  = %.0f Ohm\\n\"%R21m;  \n",
      "print \"The practical value of  resistor R2 is  = %.0f Ohm\\n\"%R22m;  \n",
      "print \"The assumed capacitor  is  = %.6f Farad\\n\"%C;  \n"
     ],
     "language": "python",
     "metadata": {},
     "outputs": [
      {
       "output_type": "stream",
       "stream": "stdout",
       "text": [
        "The desired break frequency, W3db is = 125.7 radians per second\n",
        "\n",
        "Stage 1\n",
        "The Wc is = 80.7 radians per second\n",
        "\n",
        "The scaled Resistor required is  = 12.392 Ohm\n",
        "\n",
        "The assumed capacitor  is  = 1 uFarad\n",
        "\n",
        "Stage 2\n",
        "The Resistor R1 required is  = 0.8875 Ohm\n",
        "\n",
        "The Resistor R2 required is  = 1.127 Ohm\n",
        "\n",
        "The required critical frequency ,Wc is = 77.9 radians per second\n",
        "\n",
        "The scaled resistor R1 is  = 0.0114 Ohm\n",
        "\n",
        "The scaled resistor R2 is  = 0.0145 Ohm\n",
        "\n",
        "The assumed capacitor  is  = 1 uFarad\n",
        "\n",
        "The practical value of  resistor R1 is  = 11392 Ohm\n",
        "\n",
        "The practical value of  resistor R2 is  = 14463 Ohm\n",
        "\n",
        "The assumed capacitor  is  = 1 uFarad\n",
        "\n",
        "Stage 3\n",
        "The required critical frequency ,Wc is = 69.1 radians per second\n",
        "\n",
        "The scaled resistor R1 is  = 0.00790 Ohm\n",
        "\n",
        "The scaled resistor R2 is  = 0.0265 Ohm\n",
        "\n",
        "The practical value of  resistor R1 is  = 7896 Ohm\n",
        "\n",
        "The practical value of  resistor R2 is  = 26536 Ohm\n",
        "\n",
        "The assumed capacitor  is  = 0.000001 Farad\n",
        "\n"
       ]
      }
     ],
     "prompt_number": 5
    },
    {
     "cell_type": "heading",
     "level": 2,
     "metadata": {},
     "source": [
      "Example 11.4, Page 412"
     ]
    },
    {
     "cell_type": "code",
     "collapsed": false,
     "input": [
      "import math\n",
      "\n",
      "#Variable declaration\n",
      "L=1.414;            #Alpha\n",
      "fc=800;         #In Hz\n",
      "\n",
      "#Calculations&Results\n",
      "Rf=2-L;\n",
      "print \"The value of Rf is = %.3f Ohm\\n\"%Rf;  \n",
      "Wc=2*math.pi*fc;\n",
      "print \"The critical frequency is = %.0f radians per seconds\\n\"%Wc;  \n",
      "R=1/Wc;\n",
      "print \"The value of scaled Resistor R1 is  = %.3e Ohm\\n\"%(R*10**-4);  \n",
      "\n",
      "print \"The value of scaled Resistor and capacitor is  = %.0f Ohm and 10nF \\n\"%(R*10**8);  "
     ],
     "language": "python",
     "metadata": {},
     "outputs": [
      {
       "output_type": "stream",
       "stream": "stdout",
       "text": [
        "The value of Rf is = 0.586 Ohm\n",
        "\n",
        "The critical frequency is = 5027 radians per seconds\n",
        "\n",
        "The value of scaled Resistor R1 is  = 1.989e-08 Ohm\n",
        "\n",
        "The value of scaled Resistor and capacitor is  = 19894 Ohm and 10nF \n",
        "\n"
       ]
      }
     ],
     "prompt_number": 7
    },
    {
     "cell_type": "heading",
     "level": 2,
     "metadata": {},
     "source": [
      "Example 11.5, Page 419"
     ]
    },
    {
     "cell_type": "code",
     "collapsed": false,
     "input": [
      "import math\n",
      "\n",
      "#Variable declaration\n",
      "f2=1200;                #in Hz\n",
      "f1=800;                 #in Hz\n",
      "\n",
      "#Calculations&Results\n",
      "BW=f2-f1;\n",
      "print \"The Bandwidth is %.f Hz\\n\"%BW;  \n",
      "fo=(f1*f2)**0.5;\n",
      "print \" fo is %.0f Hz\\n\"%fo;  \n",
      "Q=fo/BW;\n",
      "print \" Q is %.2f \\n\"%Q;  \n",
      "Av=-2*Q*Q;\n",
      "print \"Av is %.0f \\n\"%Av;  \n",
      "fut=10*Av*fo;\n",
      "print \"funity is %.0f Hz\\n\"%fut;  \n",
      "R2=2*Q;\n",
      "print \"R2 is %.1f Ohm\\n\"%R2;  \n",
      "R1b=Q/(2*Q*Q-1);\n",
      "print \"R1b is %.4f Ohm\\n\"%R1b;  \n",
      "W=2*math.pi*fo;\n",
      "print \"The  frequency is = %.0f radians per seconds\\n\"%W;  \n",
      "C=1/W*10**6;\n",
      "print \"C is %.1f uF\\n\"%C;  \n",
      "#practical component value\n",
      "print \"R and C are %.0f Ohm and %.3f F\\n\"%(R2*10,C/10);  "
     ],
     "language": "python",
     "metadata": {},
     "outputs": [
      {
       "output_type": "stream",
       "stream": "stdout",
       "text": [
        "The Bandwidth is 400 Hz\n",
        "\n",
        " fo is 980 Hz\n",
        "\n",
        " Q is 2.45 \n",
        "\n",
        "Av is -12 \n",
        "\n",
        "funity is -117576 Hz\n",
        "\n",
        "R2 is 4.9 Ohm\n",
        "\n",
        "R1b is 0.2227 Ohm\n",
        "\n",
        "The  frequency is = 6156 radians per seconds\n",
        "\n",
        "C is 162.4 uF\n",
        "\n",
        "R and C are 49 Ohm and 16.244 F\n",
        "\n"
       ]
      }
     ],
     "prompt_number": 14
    },
    {
     "cell_type": "heading",
     "level": 2,
     "metadata": {},
     "source": [
      "Example 11.6, Page 424"
     ]
    },
    {
     "cell_type": "code",
     "collapsed": false,
     "input": [
      "import math\n",
      "\n",
      "#Variable declaration\n",
      "Q=25;\n",
      "fo=4300;            #in Hz\n",
      "\n",
      "#Calculations&Results\n",
      "Rd=3*Q-1;           #R damping\n",
      "print \"Rdamping is %.1f Ohm\\n\"%Rd;  \n",
      "W=2*math.pi*fo;\n",
      "print \"The  frequency is = %.0f radians per seconds\\n\"%W;  \n",
      "C=1./W*10**6;\n",
      "print \"C is %.f uF\\n\"%C;  \n",
      "#practical component value\n",
      "print \"Rdamping and C are %.0f Ohm and %.1f nF\\n\"%(Rd*5000,C/5000*10**3);  \n",
      "#remaining other Resistor are of 5K Ohm"
     ],
     "language": "python",
     "metadata": {},
     "outputs": [
      {
       "output_type": "stream",
       "stream": "stdout",
       "text": [
        "Rdamping is 74.0 Ohm\n",
        "\n",
        "The  frequency is = 27018 radians per seconds\n",
        "\n",
        "C is 37 uF\n",
        "\n",
        "Rdamping and C are 370000 Ohm and 7.4 nF\n",
        "\n"
       ]
      }
     ],
     "prompt_number": 26
    },
    {
     "cell_type": "heading",
     "level": 2,
     "metadata": {},
     "source": [
      "Example 11.7, Page 427"
     ]
    },
    {
     "cell_type": "code",
     "collapsed": false,
     "input": [
      "import math\n",
      "\n",
      "#Variable declaration\n",
      "Q=30;\n",
      "fo=60;            #in Hz\n",
      "\n",
      "#Calculations&Results\n",
      "Rd=3*Q-1;           #R damping\n",
      "print \"Rdamping is %.1f Ohm\\n\"%Rd;  \n",
      "W=2*math.pi*fo;\n",
      "print \"The  frequency is = %.0f radians per seconds\\n\"%W;  \n",
      "C=1/W*10**3;\n",
      "print \"C is %.2f F\\n\"%C;  "
     ],
     "language": "python",
     "metadata": {},
     "outputs": [
      {
       "output_type": "stream",
       "stream": "stdout",
       "text": [
        "Rdamping is 89.0 Ohm\n",
        "\n",
        "The  frequency is = 377 radians per seconds\n",
        "\n",
        "C is 2.65 F\n",
        "\n"
       ]
      }
     ],
     "prompt_number": 29
    }
   ],
   "metadata": {}
  }
 ]
}