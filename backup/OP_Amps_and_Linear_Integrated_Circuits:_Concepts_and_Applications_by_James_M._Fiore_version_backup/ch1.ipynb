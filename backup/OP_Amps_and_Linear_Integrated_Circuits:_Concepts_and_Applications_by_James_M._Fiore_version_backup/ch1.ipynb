{
 "metadata": {
  "name": "",
  "signature": "sha256:268ca2b3fdd8b1d325d33550dc35ad5516b36d96c3488e38a52d3ecdd1ed646f"
 },
 "nbformat": 3,
 "nbformat_minor": 0,
 "worksheets": [
  {
   "cells": [
    {
     "cell_type": "heading",
     "level": 1,
     "metadata": {},
     "source": [
      "Chapter 1: Introductory Concepts and Fundamentals"
     ]
    },
    {
     "cell_type": "heading",
     "level": 2,
     "metadata": {},
     "source": [
      "Example 1.1, Page 14"
     ]
    },
    {
     "cell_type": "code",
     "collapsed": false,
     "input": [
      "import math\n",
      "\n",
      "#Variable declaration\n",
      "G=800;      \n",
      "\n",
      "#Calculations\n",
      "G1=10*math.log10(G);\n",
      "\n",
      "#Result\n",
      "print \"The decibel power gain,G= %.2f dB\\n\"%G1; # Result\n"
     ],
     "language": "python",
     "metadata": {},
     "outputs": [
      {
       "output_type": "stream",
       "stream": "stdout",
       "text": [
        "The decibel power gain,G= 29.03 dB\n",
        "\n"
       ]
      }
     ],
     "prompt_number": 1
    },
    {
     "cell_type": "heading",
     "level": 2,
     "metadata": {},
     "source": [
      "Example 1.2, Page 14"
     ]
    },
    {
     "cell_type": "code",
     "collapsed": false,
     "input": [
      "import math\n",
      "\n",
      "#Variable declaration\n",
      "G=1./10000;      \n",
      "\n",
      "#Calculations\n",
      "G1=10*math.log10(G);\n",
      "\n",
      "#Result\n",
      "print \"The decibel power gain = %.0f dB\\n\"%G1;"
     ],
     "language": "python",
     "metadata": {},
     "outputs": [
      {
       "output_type": "stream",
       "stream": "stdout",
       "text": [
        "The decibel power gain = -40 dB\n",
        "\n"
       ]
      }
     ],
     "prompt_number": 2
    },
    {
     "cell_type": "heading",
     "level": 2,
     "metadata": {},
     "source": [
      "Example 1.3, Page 15"
     ]
    },
    {
     "cell_type": "code",
     "collapsed": false,
     "input": [
      "#Variable declaration\n",
      "G1=23.;      #in dB      \n",
      "\n",
      "#Calculations&Results\n",
      "G=10**(G1/10);\n",
      "print \"The ordinary power gain is %.1f\"%G;   \n",
      "Pin=10**-3;      #in mW\n",
      "Pout=Pin*G*10**3;\n",
      "print \"The output power is %.1f mW \\n\"%Pout;   "
     ],
     "language": "python",
     "metadata": {},
     "outputs": [
      {
       "output_type": "stream",
       "stream": "stdout",
       "text": [
        "The ordinary power gain is 199.5\n",
        "The output power is 199.5 mW \n",
        "\n"
       ]
      }
     ],
     "prompt_number": 6
    },
    {
     "cell_type": "heading",
     "level": 2,
     "metadata": {},
     "source": [
      "Example 1.4, Page 15"
     ]
    },
    {
     "cell_type": "code",
     "collapsed": false,
     "input": [
      "#Variable declaration\n",
      "G1=10;      #in dB      \n",
      "G2=16;      #in dB      \n",
      "G3=14;      #in dB      \n",
      "\n",
      "#Calculations\n",
      "Gt=G1+G2+G3;  #total gain\n",
      "\n",
      "#Result\n",
      "print \"The ordinary power gain %.0f \\n\"%Gt; "
     ],
     "language": "python",
     "metadata": {},
     "outputs": [
      {
       "output_type": "stream",
       "stream": "stdout",
       "text": [
        "The ordinary power gain 40 \n",
        "\n"
       ]
      }
     ],
     "prompt_number": 7
    },
    {
     "cell_type": "heading",
     "level": 2,
     "metadata": {},
     "source": [
      "Example 1.5, Page 16"
     ]
    },
    {
     "cell_type": "code",
     "collapsed": false,
     "input": [
      "import math\n",
      "\n",
      "#Variable declaration\n",
      "Ao=2;       #in Volt\n",
      "Ai=50;       # in milliVolt\n",
      "Ai1=0.05;       #input in Volt\n",
      "\n",
      "#Calculations&Results\n",
      "Av=Ao/Ai1;\n",
      "print \"The ordinary power gain %.0f\"%Av;\n",
      "Av1=20*math.log10(Av);\n",
      "print \"The power gain is %.2f dB\\n\"%Av1;"
     ],
     "language": "python",
     "metadata": {},
     "outputs": [
      {
       "output_type": "stream",
       "stream": "stdout",
       "text": [
        "The ordinary power gain 40\n",
        "The power gain is 32.04 dB\n",
        "\n"
       ]
      }
     ],
     "prompt_number": 8
    },
    {
     "cell_type": "heading",
     "level": 2,
     "metadata": {},
     "source": [
      "Example 1.6, Page 17"
     ]
    },
    {
     "cell_type": "code",
     "collapsed": false,
     "input": [
      "#Variable declaration\n",
      "G1=26.;      #in dB    \n",
      "Vin=0.01;  #in volt  \n",
      "\n",
      "#Calculations&Results\n",
      "G=10**(G1/20);\n",
      "print \"The ordinary power gain %.2f\"%G; \n",
      "Vout=Vin*G;\n",
      "print \"The output voltage is %.4f  V\\n\"%Vout;   "
     ],
     "language": "python",
     "metadata": {},
     "outputs": [
      {
       "output_type": "stream",
       "stream": "stdout",
       "text": [
        "The ordinary power gain 19.95\n",
        "The output voltage is 0.1995  V\n",
        "\n"
       ]
      }
     ],
     "prompt_number": 9
    },
    {
     "cell_type": "heading",
     "level": 2,
     "metadata": {},
     "source": [
      "Example 1.7, Page 17"
     ]
    },
    {
     "cell_type": "code",
     "collapsed": false,
     "input": [
      "import math\n",
      "\n",
      "#Variable declaration\n",
      "P=120;      #in Watt     \n",
      "\n",
      "#Calculations\n",
      "P1=10*math.log10(P);\n",
      "\n",
      "#Result\n",
      "print \"The ordinary power gain %.1f dBW \\n\"%P1;"
     ],
     "language": "python",
     "metadata": {},
     "outputs": [
      {
       "output_type": "stream",
       "stream": "stdout",
       "text": [
        "The ordinary power gain 20.8 dBW \n",
        "\n"
       ]
      }
     ],
     "prompt_number": 10
    },
    {
     "cell_type": "heading",
     "level": 2,
     "metadata": {},
     "source": [
      "Example 1.8, Page 18"
     ]
    },
    {
     "cell_type": "code",
     "collapsed": false,
     "input": [
      "import math\n",
      "\n",
      "#Calculations&Results\n",
      "P=0.200;      #in Watt     \n",
      "P1=10*math.log10(P/1);\n",
      "print \"The ordinary power gain %.0f dBW\"%P1;\n",
      "\n",
      "\n",
      "P=200.;      #in mW\n",
      "P1=10*math.log10(P/1);\n",
      "print \"The ordinary power gain %.0f dBm \\n\"%P1;"
     ],
     "language": "python",
     "metadata": {},
     "outputs": [
      {
       "output_type": "stream",
       "stream": "stdout",
       "text": [
        "The ordinary power gain -7 dBW\n",
        "The ordinary power gain 23 dBm \n",
        "\n"
       ]
      }
     ],
     "prompt_number": 11
    },
    {
     "cell_type": "heading",
     "level": 2,
     "metadata": {},
     "source": [
      "Example 1.9, Page 18"
     ]
    },
    {
     "cell_type": "code",
     "collapsed": false,
     "input": [
      "#Variable declaration\n",
      "P1=12;      # in dBw\n",
      "Ref=1.;   # in mW\n",
      "\n",
      "#Calculations\n",
      "P=10**(P1*Ref/10);\n",
      "\n",
      "#Result\n",
      "print \"The ordinary power gain %.1f mW \\n\"%P;    "
     ],
     "language": "python",
     "metadata": {},
     "outputs": [
      {
       "output_type": "stream",
       "stream": "stdout",
       "text": [
        "The ordinary power gain 15.8 mW \n",
        "\n"
       ]
      }
     ],
     "prompt_number": 12
    },
    {
     "cell_type": "heading",
     "level": 2,
     "metadata": {},
     "source": [
      "Example 1.10, Page 18"
     ]
    },
    {
     "cell_type": "code",
     "collapsed": false,
     "input": [
      "import math\n",
      "\n",
      "#Variable declaration\n",
      "V=2;      # in V\n",
      "Ref=1;   # in V\n",
      "\n",
      "#Calculations\n",
      "V1=20*math.log10(V/Ref);\n",
      "\n",
      "#Result\n",
      "print \"The value in dBV is %.2f dBV\\n\"%V1;"
     ],
     "language": "python",
     "metadata": {},
     "outputs": [
      {
       "output_type": "stream",
       "stream": "stdout",
       "text": [
        "The value in dBV is 6.02 dBV\n",
        "\n"
       ]
      }
     ],
     "prompt_number": 13
    },
    {
     "cell_type": "heading",
     "level": 2,
     "metadata": {},
     "source": [
      "Example 1.11, Page 19"
     ]
    },
    {
     "cell_type": "code",
     "collapsed": false,
     "input": [
      "#Variable declaration\n",
      "Vin=-42;  # in dBV \n",
      "Av=35;      #in dBV\n",
      "\n",
      "#Calculations\n",
      "Vout=Vin+Av;\n",
      "\n",
      "#Result\n",
      "print \"The output signal is %.0f dBV \\n\"%Vout;"
     ],
     "language": "python",
     "metadata": {},
     "outputs": [
      {
       "output_type": "stream",
       "stream": "stdout",
       "text": [
        "The output signal is -7 dBV \n",
        "\n"
       ]
      }
     ],
     "prompt_number": 14
    },
    {
     "cell_type": "heading",
     "level": 2,
     "metadata": {},
     "source": [
      "Example 1.12, Page 19"
     ]
    },
    {
     "cell_type": "code",
     "collapsed": false,
     "input": [
      "#Variable declaration\n",
      "Pin1=20;     #in dBm\n",
      "Pin=-10;        #in dBW\n",
      "Pout=25;        #in dBW\n",
      "\n",
      "#Calculations\n",
      "G=Pout-Pin;\n",
      "\n",
      "#Result\n",
      "print \"The gain of amplifer is %.0f dB\"%G;"
     ],
     "language": "python",
     "metadata": {},
     "outputs": [
      {
       "output_type": "stream",
       "stream": "stdout",
       "text": [
        "The gain of amplifer is 35 dB\n"
       ]
      }
     ],
     "prompt_number": 15
    },
    {
     "cell_type": "heading",
     "level": 2,
     "metadata": {},
     "source": [
      "Example 1.13, Page 23"
     ]
    },
    {
     "cell_type": "code",
     "collapsed": false,
     "input": [
      "import math\n",
      "\n",
      "#Variable declaration\n",
      "fc=40.;  #in Hz\n",
      "f=10.;   #in Hz\n",
      "\n",
      "#Calculations\n",
      "Av=-10*math.log10(1+(fc**2)/(f**2));\n",
      "\n",
      "#Result\n",
      "print \"Gain lost is %.1f dB\"%Av;"
     ],
     "language": "python",
     "metadata": {},
     "outputs": [
      {
       "output_type": "stream",
       "stream": "stdout",
       "text": [
        "Gain lost is -12.3 dB\n"
       ]
      }
     ],
     "prompt_number": 16
    },
    {
     "cell_type": "heading",
     "level": 2,
     "metadata": {},
     "source": [
      "Example 1.14, Page 24"
     ]
    },
    {
     "cell_type": "code",
     "collapsed": false,
     "input": [
      "import math\n",
      "\n",
      "#Variable declaration\n",
      "fc=120.;          # in Hz\n",
      "fc1=1200;       # in Hz\n",
      "fc2=12;         # in Hz\n",
      "\n",
      "#Calculations&Results\n",
      "w1=math.atan(fc/fc2);\n",
      "print \"W1 = %.1f degrees one decade below fc\"%(w1*180/math.pi);\n",
      "w2=math.atan(fc/fc1);\n",
      "print \"W2 = %.2f degrees one decade below fc\"%(w2*180/math.pi);"
     ],
     "language": "python",
     "metadata": {},
     "outputs": [
      {
       "output_type": "stream",
       "stream": "stdout",
       "text": [
        "W1 = 84.3 degrees one decade below fc\n",
        "W2 = 5.71 degrees one decade below fc\n"
       ]
      }
     ],
     "prompt_number": 17
    },
    {
     "cell_type": "heading",
     "level": 2,
     "metadata": {},
     "source": [
      "Example 1.15, Page 26"
     ]
    },
    {
     "cell_type": "code",
     "collapsed": false,
     "input": [
      "import math\n",
      "\n",
      "#Variable declaration\n",
      "f=1.6*10**6;        #in Hz\n",
      "fc=150*10**3;            #in Hz\n",
      "\n",
      "#Calculations&Results\n",
      "Av=-10*math.log10(1+(f**2)/(fc**2));\n",
      "print \"The Gain is %.1f dB \\n \"%Av;\n",
      "w=-(math.pi/2)+math.atan(fc/f);\n",
      "print \"Phase value is  %.1f degree\"%(w*180/math.pi);"
     ],
     "language": "python",
     "metadata": {},
     "outputs": [
      {
       "output_type": "stream",
       "stream": "stdout",
       "text": [
        "The Gain is -20.6 dB \n",
        " \n",
        "Phase value is  -84.6 degree\n"
       ]
      }
     ],
     "prompt_number": 18
    },
    {
     "cell_type": "heading",
     "level": 2,
     "metadata": {},
     "source": [
      "Example 1.16, Page 29"
     ]
    },
    {
     "cell_type": "code",
     "collapsed": false,
     "input": [
      "#Variable declaration\n",
      "#f2=0.35/Tr;\n",
      "f2=100*10**3;        #in kHz \n",
      "\n",
      "#Calculations\n",
      "Tr=0.35/f2*10**6;\n",
      "\n",
      "#Result\n",
      "print \"The rise time for 90 degree lag network is %.1f u-sec\"%Tr;"
     ],
     "language": "python",
     "metadata": {},
     "outputs": [
      {
       "output_type": "stream",
       "stream": "stdout",
       "text": [
        "The rise time for 90 degree lag network is 3.5 u-sec\n"
       ]
      }
     ],
     "prompt_number": 21
    },
    {
     "cell_type": "heading",
     "level": 2,
     "metadata": {},
     "source": [
      "Example 1.18, Page 34"
     ]
    },
    {
     "cell_type": "code",
     "collapsed": false,
     "input": [
      "#Variable declaration\n",
      "Vcc=20;     #in Volt\n",
      "Rc=3000;        #in Ohm\n",
      "Rb=5000;        #in ohm\n",
      "Rt=2000;        #in Ohm\n",
      "Vee=10;        #in Volt\n",
      "\n",
      "#Calculations&Results\n",
      "It=(Vee-0.7)/Rt;\n",
      "print \"It =%.5f Amp\"%It;# Result\n",
      "#Ie1=Ie2=It/2\n",
      "Ic=It/2;\n",
      "Vc=Vcc-Ic*Rc;\n",
      "print \"Collector voltage is %.3f V\"%Vc;\n",
      "B=100;      #Assumumption\n",
      "Ib=Ic/B*10**6;\n",
      "print \"Ib %.2f u-Amp\"%Ib;\n",
      "Vb=-Ib*Rb*10**-3;\n",
      "print \"Base Voltage %.2f mV \"%Vb;"
     ],
     "language": "python",
     "metadata": {},
     "outputs": [
      {
       "output_type": "stream",
       "stream": "stdout",
       "text": [
        "It =0.00465 Amp\n",
        "Collector voltage is 13.025 V\n",
        "Ib 23.25 u-Amp\n",
        "Base Voltage -116.25 mV \n"
       ]
      }
     ],
     "prompt_number": 27
    },
    {
     "cell_type": "heading",
     "level": 2,
     "metadata": {},
     "source": [
      "Example 1.19, Page 40"
     ]
    },
    {
     "cell_type": "code",
     "collapsed": false,
     "input": [
      "#Variable declaration\n",
      "Vcc=15;     #in Volt\n",
      "Rc=8000;        #in Ohm\n",
      "re=30;        #in ohm\n",
      "Rt=10000;        #in Ohm\n",
      "Vee=8;        #in Volt\n",
      "\n",
      "#Calculations&Results\n",
      "It=(Vee-0.7)/Rt;\n",
      "print \"It =%.5f Amp\"%It;\n",
      "Ie=It/2;\n",
      "re1=(26*10**-3)/Ie;\n",
      "print \"re1 =%.1f\"%re1;\n",
      "#for single ended output gain\n",
      "Av=Rc/(2*(re1+re));\n",
      "print \"Single output gain is %.1f\"%Av;\n",
      "print \"The diferential output gain is twice Av i.e. %.0f \"%(2*Av);"
     ],
     "language": "python",
     "metadata": {},
     "outputs": [
      {
       "output_type": "stream",
       "stream": "stdout",
       "text": [
        "It =0.00073 Amp\n",
        "re1 =71.2\n",
        "Single output gain is 39.5\n",
        "The diferential output gain is twice Av i.e. 79 \n"
       ]
      }
     ],
     "prompt_number": 28
    }
   ],
   "metadata": {}
  }
 ]
}