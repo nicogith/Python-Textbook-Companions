{
 "metadata": {
  "name": "",
  "signature": "sha256:bcaf34ed5b096f54076f442c92820f9ce52409eb54a36bd333f3ff70d8604c8c"
 },
 "nbformat": 3,
 "nbformat_minor": 0,
 "worksheets": [
  {
   "cells": [
    {
     "cell_type": "heading",
     "level": 1,
     "metadata": {},
     "source": [
      "Chapter 9: Oscillators and Frequency Generators"
     ]
    },
    {
     "cell_type": "heading",
     "level": 2,
     "metadata": {},
     "source": [
      "Example 9.1, Page 306"
     ]
    },
    {
     "cell_type": "code",
     "collapsed": false,
     "input": [
      "import math\n",
      "\n",
      "#Variable declaration\n",
      "R=50000;            #in Ohm\n",
      "C=0.01*10**-6;           #in F\n",
      "\n",
      "#Calculations\n",
      "f=1/(2*math.pi*R*C);\n",
      "\n",
      "#Result\n",
      "print \"The frequency of oscillation  = %.0f Hz\\n\"%f; "
     ],
     "language": "python",
     "metadata": {},
     "outputs": [
      {
       "output_type": "stream",
       "stream": "stdout",
       "text": [
        "The frequency of oscillation  = 318 Hz\n",
        "\n"
       ]
      }
     ],
     "prompt_number": 1
    },
    {
     "cell_type": "heading",
     "level": 2,
     "metadata": {},
     "source": [
      "Example 9.2, Page 307"
     ]
    },
    {
     "cell_type": "code",
     "collapsed": false,
     "input": [
      "import math\n",
      "\n",
      "#Calculations&Results\n",
      "# for minimium frequency\n",
      "R=11100;            #in Ohm\n",
      "C=0.1*10**-6;           #in F\n",
      "f=1/(2*math.pi*R*C);\n",
      "print \"The mimimum frequency of oscillation  = %.1f Hz\\n\"%f;  \n",
      "\n",
      "# for maximum frequency\n",
      "R=1100;            #in Ohm\n",
      "C=0.1*10**-6;           #in F\n",
      "fm=1/(2*math.pi*R*C);\n",
      "print \"The maximum frequency of oscillation  = %.0f Hz\\n\"%fm;  \n",
      "print \"For C=0.001microF, the range is from %.1f Hz to %.0f Hz\\n  \"%(f*10,fm*10);\n",
      "print \"For C=0.0001microF, the range is from %.1f Hz to %.0f Hz\\n  \"%(f*100,fm*100);\n",
      "Rf=10000.+2700;          #in ohm\n",
      "Ri=5600;                #in Ohm\n",
      "Av=1+Rf/Ri;\n",
      "print \"Gain ,Av is %.2f \\n  \"%Av;"
     ],
     "language": "python",
     "metadata": {},
     "outputs": [
      {
       "output_type": "stream",
       "stream": "stdout",
       "text": [
        "The mimimum frequency of oscillation  = 143.4 Hz\n",
        "\n",
        "The maximum frequency of oscillation  = 1447 Hz\n",
        "\n",
        "For C=0.001microF, the range is from 1433.8 Hz to 14469 Hz\n",
        "  \n",
        "For C=0.0001microF, the range is from 14338.3 Hz to 144686 Hz\n",
        "  \n",
        "Gain ,Av is 3.27 \n",
        "  \n"
       ]
      }
     ],
     "prompt_number": 3
    },
    {
     "cell_type": "heading",
     "level": 2,
     "metadata": {},
     "source": [
      "Example 9.3, Page 310"
     ]
    },
    {
     "cell_type": "code",
     "collapsed": false,
     "input": [
      "import math\n",
      "\n",
      "#Variable declaration\n",
      "R=1000;            #in Ohm\n",
      "C=0.1*10**-6;           #in F\n",
      "\n",
      "#Calculations&Results\n",
      "f=1/(2*math.pi*1.732*R*C);\n",
      "print \"The mimimum frequency of oscillation  = %.0f Hz\\n\"%f;  \n",
      "#Vo=(R+Xc)*I1-R*I2\n",
      "W=1/((6**0.5)*C*R);\n",
      "print \"The frequency = %.0f Hz\\n\"%W;  \n",
      "#Vo/V3=1+(6*Xc/R)+(5*Xc/R**2)+(Xc/R)**3;\n",
      "Vr=1-(5/((W*C*R)**2));           #Vr=Vo/V3\n",
      "print \"The Vo/V3 is = %.0f \\n\"%Vr;  \n",
      "print \"The gain of ladder network is B= V3/Vo = 1/%.0f \\n\"%Vr;  \n"
     ],
     "language": "python",
     "metadata": {},
     "outputs": [
      {
       "output_type": "stream",
       "stream": "stdout",
       "text": [
        "The mimimum frequency of oscillation  = 919 Hz\n",
        "\n",
        "The frequency = 4082 Hz\n",
        "\n",
        "The Vo/V3 is = -29 \n",
        "\n",
        "The gain of ladder network is B= V3/Vo = 1/-29 \n",
        "\n"
       ]
      }
     ],
     "prompt_number": 4
    },
    {
     "cell_type": "heading",
     "level": 2,
     "metadata": {},
     "source": [
      "Example 9.4, Page 313"
     ]
    },
    {
     "cell_type": "code",
     "collapsed": false,
     "input": [
      "import math\n",
      "\n",
      "#Variable declaration\n",
      "C=0.1*10**-6;           #in F\n",
      "R=1000;            #in Ohm\n",
      "Av=-29;\n",
      "\n",
      "#Calculations&Results\n",
      "Rf=-Av*R;\n",
      "print \"The value for Rf is = %.0f Ohm\\n\"%Rf;\n",
      "f=1/(2*math.pi*6**0.5*R*C);\n",
      "print \"The  frequency ,fo  = %.0f Hz\\n\"%f; \n"
     ],
     "language": "python",
     "metadata": {},
     "outputs": [
      {
       "output_type": "stream",
       "stream": "stdout",
       "text": [
        "The value for Rf is = 29000 Ohm\n",
        "\n",
        "The  frequency ,fo  = 650 Hz\n",
        "\n"
       ]
      }
     ],
     "prompt_number": 5
    },
    {
     "cell_type": "heading",
     "level": 2,
     "metadata": {},
     "source": [
      "Example 9.5, Page 318"
     ]
    },
    {
     "cell_type": "code",
     "collapsed": false,
     "input": [
      "#Variable declaration\n",
      "Vsat=13.;            #in V\n",
      "R2=10000.;               #in ohm\n",
      "R3=20000;               #in ohm\n",
      "R=33000;               #in ohm\n",
      "C=0.01*10**-6;            #in Farad\n",
      "\n",
      "#Calculations&Results\n",
      "Vup=Vsat*R2/R3;\n",
      "print \"Value of Vupperthreshold  is = %.1f V\\n\"%Vup;  \n",
      "#dv/dt=Vsat/RC=k\n",
      "k=Vsat/R/C;\n",
      "print \"dv/dt = %.0f V/S\\n\"%k;  \n",
      "T=Vsat/k;\n",
      "print \"T = %.5f S\\n\"%T;  \n",
      "\n",
      "f=1/T/2*10**-3;\n",
      "print \"f = %.2f KHz\\n\"%f;  "
     ],
     "language": "python",
     "metadata": {},
     "outputs": [
      {
       "output_type": "stream",
       "stream": "stdout",
       "text": [
        "Value of Vupperthreshold  is = 6.5 V\n",
        "\n",
        "dv/dt = 39394 V/S\n",
        "\n",
        "T = 0.00033 S\n",
        "\n",
        "f = 1.52 KHz\n",
        "\n"
       ]
      }
     ],
     "prompt_number": 10
    },
    {
     "cell_type": "heading",
     "level": 2,
     "metadata": {},
     "source": [
      "Example 9.6,Page 323  "
     ]
    },
    {
     "cell_type": "code",
     "collapsed": false,
     "input": [
      "#Variable declaration\n",
      "R1=10000.;               #in Ohm\n",
      "R2=R1/0.859;                #in Ohm\n",
      "fo=2000;            #in Hz\n",
      "\n",
      "#Calculations&Results\n",
      "print \"R2 is %.0f Ohm\\n\"%R2; \n",
      "C=1./(2*R1*fo)*10**11;\n",
      "print \"C is %e F\\n\"%C; "
     ],
     "language": "python",
     "metadata": {},
     "outputs": [
      {
       "output_type": "stream",
       "stream": "stdout",
       "text": [
        "R2 is 11641 Ohm\n",
        "\n",
        "C is 2e+03 F\n",
        "\n"
       ]
      }
     ],
     "prompt_number": 9
    },
    {
     "cell_type": "heading",
     "level": 2,
     "metadata": {},
     "source": [
      "Example 9.7, Page 327"
     ]
    },
    {
     "cell_type": "code",
     "collapsed": false,
     "input": [
      "#Variable declaration\n",
      "Vp=12;          #in V\n",
      "R1=4700;            #in Ohm\n",
      "R2=2000;            #in Ohm\n",
      "R3=20000.;            #in Ohm\n",
      "C=1.1*10**-9;            #in Farad\n",
      "\n",
      "#Calculations&Results\n",
      "Vc=Vp*(R3/(R2+R3));\n",
      "print \"The control Voltage is  = %.2f V\\n\"%Vc; \n",
      "fo=2*(Vp-Vc)/(Vp*R1*C)*10**-3;\n",
      "print \"Output frequency  = %.2f Hz\\n\"%fo;"
     ],
     "language": "python",
     "metadata": {},
     "outputs": [
      {
       "output_type": "stream",
       "stream": "stdout",
       "text": [
        "The control Voltage is  = 10.91 V\n",
        "\n",
        "Output frequency  = 35.17 Hz\n",
        "\n"
       ]
      }
     ],
     "prompt_number": 2
    },
    {
     "cell_type": "heading",
     "level": 2,
     "metadata": {},
     "source": [
      "Example 9.8, Page 328"
     ]
    },
    {
     "cell_type": "code",
     "collapsed": false,
     "input": [
      "#Variable declaration\n",
      "Vp=12;          #in V\n",
      "R1=4700;            #in Ohm\n",
      "R2=2000;            #in Ohm\n",
      "R3=20000.;            #in Ohm\n",
      "C=1.1*10**-9;            #in Farad\n",
      "\n",
      "#Calculations&Results\n",
      "Vc=Vp*(R3/(R2+R3));\n",
      "#for minimum Vc\n",
      "Vcmin=Vc-0.5;\n",
      "print \"The control Voltage is  = %.2f V\\n\"%Vcmin\n",
      "fo=2*(Vp-Vcmin)/(Vp*R1*C);\n",
      "print \"Output frequency  = %.0f Hz\\n\"%fo;  \n",
      "#for maximum Vc\n",
      "print \"For minimum frequency Use maximum Vc\";\n",
      "Vcmin1=Vc+0.5;\n",
      "print \"The control Voltage is  = %.2f V\\n\"%Vcmin1;  \n",
      "fo=2*(Vp-Vcmin1)/(Vp*R1*C);\n",
      "print \"Output frequency  = %.0f Hz\\n\"%fo;  "
     ],
     "language": "python",
     "metadata": {},
     "outputs": [
      {
       "output_type": "stream",
       "stream": "stdout",
       "text": [
        "The control Voltage is  = 10.41 V\n",
        "\n",
        "Output frequency  = 51287 Hz\n",
        "\n",
        "For minimum frequency Use maximum Vc\n",
        "The control Voltage is  = 11.41 V\n",
        "\n",
        "Output frequency  = 19049 Hz\n",
        "\n"
       ]
      }
     ],
     "prompt_number": 2
    },
    {
     "cell_type": "heading",
     "level": 2,
     "metadata": {},
     "source": [
      "Example 9.9, Page 333"
     ]
    },
    {
     "cell_type": "code",
     "collapsed": false,
     "input": [
      "import math\n",
      "\n",
      "#Variable declaration\n",
      "Vp=6;          #in V\n",
      "R1=4000;            #in Ohm\n",
      "C=330*10**-12;            #in Farad\n",
      "C2=270*10**-12;            #in Farad\n",
      "\n",
      "#Calculations&Results\n",
      "fo=0.3/(R1*C);\n",
      "print \"Free running  frequency  = %.1f kHz\\n\"%(fo*10**-3)\n",
      "fl=8*fo/Vp;\n",
      "print \"Lock Range  = %.f kHz\\n\"%(fl*10**-3)\n",
      "fc=math.sqrt(2*math.pi*fl/(3600*C2))/(2*math.pi)*10**-3;\n",
      "print \"Capture Range  = %.1f kHz\\n\"%fc;  "
     ],
     "language": "python",
     "metadata": {},
     "outputs": [
      {
       "output_type": "stream",
       "stream": "stdout",
       "text": [
        "Free running  frequency  = 227.3 kHz\n",
        "\n",
        "Lock Range  = 303 kHz\n",
        "\n",
        "Capture Range  = 222.8 kHz\n",
        "\n"
       ]
      }
     ],
     "prompt_number": 14
    },
    {
     "cell_type": "heading",
     "level": 2,
     "metadata": {},
     "source": [
      "Example 9.10, Page 336"
     ]
    },
    {
     "cell_type": "code",
     "collapsed": false,
     "input": [
      "#Variable declaration\n",
      "R=10000;            #in Ohm\n",
      "print \"Value of Assumed resistance is  = %.0f Ohm\\n\"%R; \n",
      "\n",
      "#Calculations\n",
      "Tout=100*10**-6;\n",
      "C=Tout/(1.1*R);\n",
      "\n",
      "#Results\n",
      "print \"Value of Capacitance is  = %.2f F\\n\"%(C*10**9); \n",
      "print \"The nearest value would be 10nF\";\n"
     ],
     "language": "python",
     "metadata": {},
     "outputs": [
      {
       "output_type": "stream",
       "stream": "stdout",
       "text": [
        "Value of Assumed resistance is  = 10000 Ohm\n",
        "\n",
        "Value of Capacitance is  = 9.09 F\n",
        "\n",
        "The nearest value would be 10nF\n"
       ]
      }
     ],
     "prompt_number": 21
    },
    {
     "cell_type": "heading",
     "level": 2,
     "metadata": {},
     "source": [
      "Example 9.11, Page 340"
     ]
    },
    {
     "cell_type": "code",
     "collapsed": false,
     "input": [
      "#Variable declaration\n",
      "f=2000;         #/in Hz\n",
      "DC=0.8;\n",
      "\n",
      "#Calculations&Results\n",
      "T=1./f;\n",
      "Thigh=DC*T;\n",
      "print \"T high is  = %.f uSec\\n\"%(Thigh*10**6);  \n",
      "Tlow=T-Thigh;\n",
      "print \"T low is  = %.f uSec\\n\"%(Tlow*10**6);  \n",
      "#assumption\n",
      "Rb=10000;            #in Ohm\n",
      "#Tlow=0.69RC\n",
      "C1=Tlow/(0.69*Rb);\n",
      "print \"Value of Capacitance C is  = %.10f F\\n\"%(C1*10**9);  \n",
      "#Thigh=0.69(Ra+Rb)\n",
      "Ra=Thigh/(0.69*C1)-Rb;\n",
      "print \"Value of resistance Ra is  = %.0f Ohm\\n\"%Ra;  "
     ],
     "language": "python",
     "metadata": {},
     "outputs": [
      {
       "output_type": "stream",
       "stream": "stdout",
       "text": [
        "T high is  = 400 uSec\n",
        "\n",
        "T low is  = 100 uSec\n",
        "\n",
        "Value of Capacitance C is  = 0.0000000145 F\n",
        "\n",
        "Value of resistance Ra is  = 30000 Ohm\n",
        "\n"
       ]
      }
     ],
     "prompt_number": 34
    },
    {
     "cell_type": "heading",
     "level": 2,
     "metadata": {},
     "source": [
      "Example 9.12, Page 343"
     ]
    },
    {
     "cell_type": "code",
     "collapsed": false,
     "input": [
      "#Variable declaration\n",
      "R=110000;            #in Ohm\n",
      "C=0.1*10**-6;            #in Farad\n",
      "\n",
      "#Calculations&Results\n",
      "print \"When C=0.1microF\"\n",
      "\n",
      "fomin=0.15/(R*C);\n",
      "print \"For low range with lowest   frequency  = %.1f Hz\\n\"%fomin;  \n",
      "#\n",
      "R1=10000;            #in Ohm\n",
      "fomax=0.15/(R1*C);\n",
      "print \"For low range with highest  frequency  = %.1f Hz\\n\"%fomax;  \n",
      "#\n",
      "print \"When C=0.01microF\"\n",
      "R=110000;            #in Ohm\n",
      "C=0.01*10**-6;            #in Farad\n",
      "fomin=0.15/(R*C);\n",
      "print \"For low range with lowest   frequency  = %.1f Hz\\n\"%fomin;  \n",
      "#\n",
      "R1=10000;            #in Ohm\n",
      "fomax=0.15/(R1*C);\n",
      "print \"For low range with highest  frequency  = %.1f Hz\\n\"%fomax;  \n",
      "#\n",
      "print \"When C=0.001microF\"\n",
      "R=110000;            #in Ohm\n",
      "C=0.001*10**-6;            #in Farad\n",
      "fomin=0.15/(R*C);\n",
      "print \"For low range with lowest   frequency  = %.1f Hz\\n\"%fomin;  \n",
      "#\n",
      "R1=10000;            #in Ohm\n",
      "fomax=0.15/(R1*C);\n",
      "print \"For low range with highest  frequency  = %.1f Hz\\n\"%fomax;  "
     ],
     "language": "python",
     "metadata": {},
     "outputs": [
      {
       "output_type": "stream",
       "stream": "stdout",
       "text": [
        "When C=0.1microF\n",
        "For low range with lowest   frequency  = 13.6 Hz\n",
        "\n",
        "For low range with highest  frequency  = 150.0 Hz\n",
        "\n",
        "When C=0.01microF\n",
        "For low range with lowest   frequency  = 136.4 Hz\n",
        "\n",
        "For low range with highest  frequency  = 1500.0 Hz\n",
        "\n",
        "When C=0.001microF\n",
        "For low range with lowest   frequency  = 1363.6 Hz\n",
        "\n",
        "For low range with highest  frequency  = 15000.0 Hz\n",
        "\n"
       ]
      }
     ],
     "prompt_number": 23
    }
   ],
   "metadata": {}
  }
 ]
}