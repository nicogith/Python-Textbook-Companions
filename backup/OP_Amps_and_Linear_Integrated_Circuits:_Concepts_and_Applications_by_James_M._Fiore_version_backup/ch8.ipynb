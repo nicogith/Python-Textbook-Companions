{
 "metadata": {
  "name": "",
  "signature": "sha256:48656cec7e2eef0a741df545866ee84cf7f9e928554d5560aa921b99521c016a"
 },
 "nbformat": 3,
 "nbformat_minor": 0,
 "worksheets": [
  {
   "cells": [
    {
     "cell_type": "heading",
     "level": 1,
     "metadata": {},
     "source": [
      "Chapter 8: Voltage Regulation"
     ]
    },
    {
     "cell_type": "heading",
     "level": 2,
     "metadata": {},
     "source": [
      "Example 8.1, Page 263"
     ]
    },
    {
     "cell_type": "code",
     "collapsed": false,
     "input": [
      "#Variable declaration\n",
      "R1=5000;           #In Ohm\n",
      "R2=20000.;           #In Ohm\n",
      "R3=10000;           #In Ohm\n",
      "Vz=3.9;         #In V\n",
      "\n",
      "#Calculations&Results\n",
      "Vl=Vz*(R2+R3)/R3;\n",
      "print \"Output Load Voltage Vl is = %.2f V\\n\"%Vl; \n",
      "Iz=(Vl-Vz)/R1*10**3;\n",
      "print \"Output Zener Current Iz is = %.2f mA \\n\"%Iz"
     ],
     "language": "python",
     "metadata": {},
     "outputs": [
      {
       "output_type": "stream",
       "stream": "stdout",
       "text": [
        "Output Load Voltage Vl is = 11.70 V\n",
        "\n",
        "Output Zener Current Iz is = 1.56 mA \n",
        "\n"
       ]
      }
     ],
     "prompt_number": 2
    },
    {
     "cell_type": "heading",
     "level": 2,
     "metadata": {},
     "source": [
      "Example 8.2, Page 264"
     ]
    },
    {
     "cell_type": "code",
     "collapsed": false,
     "input": [
      "#Variable declaration\n",
      "Vl=11.7;            #in V\n",
      "Rl=20;           #in Ohm\n",
      "\n",
      "#Calculations&Results\n",
      "Il=Vl/Rl;\n",
      "print \"Output Load Current Il is = %.3f A \\n\"%Il;  \n",
      "Vc=20; Ve=11.7;     #in V\n",
      "Vce=Vc-Ve;\n",
      "print \"Output Load Voltage Vce is = %.2f V\\n\"%Vce;  \n",
      "Pd=Il*Vce;\n",
      "print \"Power dissiption Pd is = %.2f W \\n\"%Pd;  \n",
      "Ib=0.020;                   #in Amp\n",
      "B=Il/Ib;\n",
      "print \"Beta is = %.2f  \\n\"%B;  \n",
      "Pl=Il*Vl;\n",
      "print \"Power dissiption across load ,Pl is = %.3f W \\n\"%Pl;  \n",
      "Vin=20;             #in V\n",
      "Pin=Il*Vin;         #Iin=Il\n",
      "print \"Input Power dissiption ,Pin is = %.2f W \\n\"%Pin;  \n",
      "n=Pl/Pin;\n",
      "print \"Efficiency   is = %.3f or %.1f  percent \\n\"%(n,n*100);"
     ],
     "language": "python",
     "metadata": {},
     "outputs": [
      {
       "output_type": "stream",
       "stream": "stdout",
       "text": [
        "Output Load Current Il is = 0.585 A \n",
        "\n",
        "Output Load Voltage Vce is = 8.30 V\n",
        "\n",
        "Power dissiption Pd is = 4.86 W \n",
        "\n",
        "Beta is = 29.25  \n",
        "\n",
        "Power dissiption across load ,Pl is = 6.844 W \n",
        "\n",
        "Input Power dissiption ,Pin is = 11.70 W \n",
        "\n",
        "Efficiency   is = 0.585 or 58.5  percent \n",
        "\n"
       ]
      }
     ],
     "prompt_number": 3
    },
    {
     "cell_type": "heading",
     "level": 2,
     "metadata": {},
     "source": [
      "Example 8.3, Page 272"
     ]
    },
    {
     "cell_type": "code",
     "collapsed": false,
     "input": [
      "#Variable declaration\n",
      "Vm=1.25;            #in V\n",
      "Vout=15;            #in V\n",
      "R1=240;           #in Ohm\n",
      "\n",
      "#Calculations\n",
      "R2=R1*((Vout/Vm)-1)*10**-3;\n",
      "\n",
      "#Result\n",
      "print \"Value for R2 is = %.2f kOhm\\n\"%R2\n"
     ],
     "language": "python",
     "metadata": {},
     "outputs": [
      {
       "output_type": "stream",
       "stream": "stdout",
       "text": [
        "Value for R2 is = 2.64 kOhm\n",
        "\n"
       ]
      }
     ],
     "prompt_number": 5
    },
    {
     "cell_type": "heading",
     "level": 2,
     "metadata": {},
     "source": [
      "Example 8.4, Page 279"
     ]
    },
    {
     "cell_type": "code",
     "collapsed": false,
     "input": [
      "#Variable declaration\n",
      "Vref=7.15;            #in V\n",
      "Vout=12;            #in V\n",
      "Ilimit=0.050;           #in Amp\n",
      "R2=10000;           #in Ohm\n",
      "\n",
      "#Calculations&Results\n",
      "R1=Vout*R2/Vref-R2;\n",
      "print \"Value of R1 is = %.2f Ohm\\n\"%R1;\n",
      "Vsense=0.65;            #in V\n",
      "Rsc=Vsense/Ilimit;\n",
      "print \"Value of current sense resistor is = %.f Ohm\\n\"%Rsc; # Result\n",
      "R3=R1*R2/(R1+R2);\n",
      "print \"Value of minimum drift resistor is = %.f Ohm\\n\"%R3;"
     ],
     "language": "python",
     "metadata": {},
     "outputs": [
      {
       "output_type": "stream",
       "stream": "stdout",
       "text": [
        "Value of R1 is = 6783.22 Ohm\n",
        "\n",
        "Value of current sense resistor is = 13 Ohm\n",
        "\n",
        "Value of minimum drift resistor is = 4042 Ohm\n",
        "\n"
       ]
      }
     ],
     "prompt_number": 8
    },
    {
     "cell_type": "heading",
     "level": 2,
     "metadata": {},
     "source": [
      "Example 8.5, Page 279"
     ]
    },
    {
     "cell_type": "code",
     "collapsed": false,
     "input": [
      "#Variable declaration\n",
      "Vref=7.15;            #in V\n",
      "Vout=5;            #in V\n",
      "\n",
      "#Calculations&Results\n",
      "#(R1b+R2)/R2=Vref/Vout;\n",
      "print \"For maximum case (R1b+R2)/R2 is = %.2f \\n\"%(Vref/Vout);  \n",
      "R2=1;              # In Ohm (Assumption)\n",
      "R1b=Vref/Vout-1;\n",
      "print \"For R2=1 Ohm R1b:R2 is = %.2f:%.0f \\n\"%(R1b,R2);  \n",
      "Voutm=2;           # in V\n",
      "print \"For maximum case (R1a+R1b+R2)/R2 is = %.3f \\n\"%(Vref/Voutm);  \n",
      "R1a=Vref/Voutm-1-0.43;\n",
      "print \"For R2=1 Ohm R1b:R2 is = %.3f:%.0f \\n\"%(R1a,R2);  \n",
      "R1a=10000;          #in Ohm        (Assumption)\n",
      "R2=R1a/2.145;\n",
      "print \"Value of R2 is = %.f Ohm\\n\"%R2;  \n",
      "#Similarly\n",
      "R1b=R2*0.43;\n",
      "print \"Value of R1b is = %.f Ohm\\n\"%R1b;  \n",
      "#Ilimit=Vsense/rsc;\n",
      "Vsense=0.65;            #in V\n",
      "Ilimit=1;           #in Amp\n",
      "Rsc=Vsense/Ilimit;\n",
      "print \"Value of current sense resistor is = %.f Ohm\\n\"%Rsc;  \n",
      "R1=6000;                #in Ohm\n",
      "R3=R1*R2/(R1+R2);\n",
      "print \"Value of minimum drift resistor is = %.f Ohm\\n\"%R3;  \n",
      "Ic=1;               #in Amp\n",
      "Ib=0.150;           #in Amp\n",
      "B=Ic/Ib;\n",
      "print \"Value of B minimum  = %.2f \\n\"%B;  \n"
     ],
     "language": "python",
     "metadata": {},
     "outputs": [
      {
       "output_type": "stream",
       "stream": "stdout",
       "text": [
        "For maximum case (R1b+R2)/R2 is = 1.43 \n",
        "\n",
        "For R2=1 Ohm R1b:R2 is = 0.43:1 \n",
        "\n",
        "For maximum case (R1a+R1b+R2)/R2 is = 3.575 \n",
        "\n",
        "For R2=1 Ohm R1b:R2 is = 2.145:1 \n",
        "\n",
        "Value of R2 is = 4662 Ohm\n",
        "\n",
        "Value of R1b is = 2005 Ohm\n",
        "\n",
        "Value of current sense resistor is = 1 Ohm\n",
        "\n",
        "Value of minimum drift resistor is = 2624 Ohm\n",
        "\n",
        "Value of B minimum  = 6.67 \n",
        "\n"
       ]
      }
     ],
     "prompt_number": 9
    },
    {
     "cell_type": "heading",
     "level": 2,
     "metadata": {},
     "source": [
      "Example 8.6, Page 288"
     ]
    },
    {
     "cell_type": "code",
     "collapsed": false,
     "input": [
      "#Variable declaration\n",
      "Vout=12;            #in V\n",
      "R2=10000;          #in Ohm        (Assumption)\n",
      "\n",
      "#Calculations&Results\n",
      "R1=R2*(Vout-1)*10**-3;\n",
      "print \"Value of R1 is = %.f kOhm\\n\"%R1;  \n",
      "Isw=0.75;               #in Amp\n",
      "R3=0.11/Isw;\n",
      "print \"Value of R3 is = %.2f Ohm\\n\"%R3;  \n",
      "Iout=0.200;         #in Amp\n",
      "Df=0.2;\n",
      "delI =2*Iout*Df;\n",
      "print \"Value of del I is = %.3f Amp\\n\"%delI;  \n",
      "F=50000;           #in Hz\n",
      "Vin=20;         #in V\n",
      "L1=Vout*(Vin-Vout)/(delI*Vin*F);\n",
      "print \"Value of L1 is = %.4f H\\n\"%L1;  \n",
      "Vripple=0.040;      #in V\n",
      "C2=Vout*(Vin-Vout)/(8*F**2*Vin*Vripple*L1)*10**6;\n",
      "print \"Value of C2 is = %.f uF\\n\"%C2;  \n",
      "#C2 is ste a standard of 33microF or 47microF"
     ],
     "language": "python",
     "metadata": {},
     "outputs": [
      {
       "output_type": "stream",
       "stream": "stdout",
       "text": [
        "Value of R1 is = 110 kOhm\n",
        "\n",
        "Value of R3 is = 0.15 Ohm\n",
        "\n",
        "Value of del I is = 0.080 Amp\n",
        "\n",
        "Value of L1 is = 0.0012 H\n",
        "\n",
        "Value of C2 is = 5 uF\n",
        "\n"
       ]
      }
     ],
     "prompt_number": 13
    },
    {
     "cell_type": "heading",
     "level": 2,
     "metadata": {},
     "source": [
      "Example 8.7, Page 296"
     ]
    },
    {
     "cell_type": "code",
     "collapsed": false,
     "input": [
      "#Variable declaration\n",
      "Tj=150.;           # in degree C\n",
      "Ta=40;           # in degree C\n",
      "Qjc=3.0;          # in  C/W\n",
      "Qcs=1.6;          # in  C/W\n",
      "PD=6;           #in W\n",
      "\n",
      "#Calculations\n",
      "Qsa=(Tj-Ta)/PD - Qjc-Qcs;\n",
      "\n",
      "#Result\n",
      "print \"Value of Qsa = %.2f C/W\\n\"%Qsa; "
     ],
     "language": "python",
     "metadata": {},
     "outputs": [
      {
       "output_type": "stream",
       "stream": "stdout",
       "text": [
        "Value of Qsa = 13.73 C/W\n",
        "\n"
       ]
      }
     ],
     "prompt_number": 15
    }
   ],
   "metadata": {}
  }
 ]
}