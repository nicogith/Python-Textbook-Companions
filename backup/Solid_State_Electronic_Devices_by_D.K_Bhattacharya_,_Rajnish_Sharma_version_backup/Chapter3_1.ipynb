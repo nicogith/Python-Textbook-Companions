{
 "cells": [
  {
   "cell_type": "markdown",
   "metadata": {},
   "source": [
    "#  Chapter 3 : Energy Bands and Charge Carriers in Semiconductors"
   ]
  },
  {
   "cell_type": "markdown",
   "metadata": {},
   "source": [
    "## Example number 3.1 , Page number 75"
   ]
  },
  {
   "cell_type": "code",
   "execution_count": 31,
   "metadata": {
    "collapsed": false
   },
   "outputs": [
    {
     "name": "stdout",
     "output_type": "stream",
     "text": [
      "Increase in kinetic energy of electron= 5.7*10**-8 eV\n"
     ]
    }
   ],
   "source": [
    "#importing module\n",
    "import math\n",
    "from __future__ import division\n",
    "\n",
    "#Variable declaration\n",
    "v=5*10**5 #velocity of electron in cm/s\n",
    "m=9.11*10**-31 #mass of electron in kg\n",
    "const=1.6*10**-19 #in eV\n",
    "\n",
    "#Calculations\n",
    "delv=0.02 #change in speed in cm/s\n",
    "delE=(m*v*delv)/const\n",
    "\n",
    "#Result\n",
    "print(\"Increase in kinetic energy of electron= %1.1f*10**-8 eV\" %(delE/10**-8))"
   ]
  },
  {
   "cell_type": "markdown",
   "metadata": {},
   "source": [
    "## Example number 3.2 , Page number "
   ]
  },
  {
   "cell_type": "code",
   "execution_count": 32,
   "metadata": {
    "collapsed": false
   },
   "outputs": [
    {
     "name": "stdout",
     "output_type": "stream",
     "text": [
      "Energy required to excite the donor electron= 8.34*10**-22 J\n",
      "\n",
      "Energy required to excite the donor electron= 0.0052 eV\n"
     ]
    }
   ],
   "source": [
    "#importing module\n",
    "import math\n",
    "from __future__ import division\n",
    "\n",
    "#Variable declaration\n",
    "epsilon_r=13.2 \n",
    "m0=9.11*10**-31 #in kg\n",
    "q=1.6*10**-19 #in eV\n",
    "epsilon_0=8.85*10**-12 #in F/m\n",
    "h=6.63*10**-34 #planck's constant in J/s \n",
    "\n",
    "#Calculations\n",
    "mn=0.067*m0 #in kg\n",
    "E=((mn*q**4)/(8*(epsilon_0*epsilon_r)**2*h**2))\n",
    "E1=E/q\n",
    " \n",
    "#Result\n",
    "print(\"Energy required to excite the donor electron= %.2f*10**-22 J\\n\" %(E/10**-22))\n",
    "print(\"Energy required to excite the donor electron= %.4f eV\" %E1)"
   ]
  },
  {
   "cell_type": "markdown",
   "metadata": {},
   "source": [
    "## Example number 3.3 , Page number 110"
   ]
  },
  {
   "cell_type": "code",
   "execution_count": 33,
   "metadata": {
    "collapsed": false
   },
   "outputs": [
    {
     "name": "stdout",
     "output_type": "stream",
     "text": [
      "Density of states effective mass of electrons in silicon= 1.1 m0\n"
     ]
    }
   ],
   "source": [
    "#importing module\n",
    "import math\n",
    "from __future__ import division\n",
    "\n",
    "#Variable declaration\n",
    "ml=0.98#*m0\n",
    "mt=0.19#*m0\n",
    "#rest mass m0 = 9.1*10**-31 kg            \n",
    "\n",
    "#Calculations\n",
    "mn=6**(2/3)*(ml*mt**2)**(1/3)\n",
    "\n",
    "#Result\n",
    "print(\"Density of states effective mass of electrons in silicon= %1.1f m0\" %mn)"
   ]
  },
  {
   "cell_type": "markdown",
   "metadata": {},
   "source": [
    "## Example number 3.4 , Page number 110"
   ]
  },
  {
   "cell_type": "code",
   "execution_count": 34,
   "metadata": {
    "collapsed": false
   },
   "outputs": [
    {
     "name": "stdout",
     "output_type": "stream",
     "text": [
      "Ef-Ei= 0.347 eV\n"
     ]
    }
   ],
   "source": [
    "#importing module\n",
    "import math\n",
    "from __future__ import division\n",
    "\n",
    "#Variable declaration\n",
    "n0=10**16 #doping atoms of P in atoms/cm**3\n",
    "ni=1.5*10**10 #in cm**-3 \n",
    "Const=0.0259 #constant value for kT in eV\n",
    "\n",
    "#Calculations\n",
    "p0=(ni**2)/n0 #in cm**-3\n",
    "x=(n0/ni) \n",
    "delE=Const*math.log(x) #difference between energy bands Ef-Ei\n",
    "\n",
    "#Result\n",
    "print(\"Ef-Ei= %.3f eV\" %delE)"
   ]
  },
  {
   "cell_type": "markdown",
   "metadata": {},
   "source": [
    "## Example number 3.5 , Page number 111"
   ]
  },
  {
   "cell_type": "code",
   "execution_count": 35,
   "metadata": {
    "collapsed": false
   },
   "outputs": [
    {
     "ename": "SyntaxError",
     "evalue": "invalid syntax (<ipython-input-35-754c806b687a>, line 1)",
     "output_type": "error",
     "traceback": [
      "\u001b[1;36m  File \u001b[1;32m\"<ipython-input-35-754c806b687a>\"\u001b[1;36m, line \u001b[1;32m1\u001b[0m\n\u001b[1;33m    http://localhost:8888/notebooks/Chapter3.ipynb##importing module\u001b[0m\n\u001b[1;37m        ^\u001b[0m\n\u001b[1;31mSyntaxError\u001b[0m\u001b[1;31m:\u001b[0m invalid syntax\n"
     ]
    }
   ],
   "source": [
    "http://localhost:8888/notebooks/Chapter3.ipynb##importing module\n",
    "import math\n",
    "from __future__ import division\n",
    "\n",
    "#Variable declaration\n",
    "ml=0.98#*m0\n",
    "mt=0.19#*m0\n",
    "#rest mass m0 = 9.1*10**-31 kg\n",
    "\n",
    "#Calculations\n",
    "mnc=0.33*(1/ml+2/mt)\n",
    "\n",
    "#Result\n",
    "print(\"1/mnc*= %1.2f m0\" %(1/mnc))"
   ]
  },
  {
   "cell_type": "markdown",
   "metadata": {},
   "source": [
    "## Example number 3.6 , Page number 111"
   ]
  },
  {
   "cell_type": "code",
   "execution_count": 36,
   "metadata": {
    "collapsed": false
   },
   "outputs": [
    {
     "name": "stdout",
     "output_type": "stream",
     "text": [
      "Resistivity of the sample p= 16.03 ohm-cm\n"
     ]
    }
   ],
   "source": [
    "#importing module\n",
    "import math\n",
    "from __future__ import division\n",
    "\n",
    "#Variable declaration\n",
    "Nd=10**14 #in cm**-3\n",
    "myu_n=3900 #in cm**2/V\n",
    "e=1.6*10**-19 #in J\n",
    "\n",
    "#Calculations\n",
    "p=1/(Nd*e*myu_n)\n",
    "\n",
    "#Result\n",
    "print(\"Resistivity of the sample p= %.2f ohm-cm\" %p)"
   ]
  },
  {
   "cell_type": "markdown",
   "metadata": {},
   "source": [
    "## Example number 3.7 , Page number 111"
   ]
  },
  {
   "cell_type": "code",
   "execution_count": 37,
   "metadata": {
    "collapsed": false
   },
   "outputs": [
    {
     "name": "stdout",
     "output_type": "stream",
     "text": [
      "Resistivity= 0.156 ohm-cm\n",
      "\n",
      "Hall coefficient= -125 cm**3/c\n",
      "\n",
      "Hall Voltage= -62.5*10**-5 V\n"
     ]
    }
   ],
   "source": [
    "#importing module\n",
    "import math\n",
    "from __future__ import division\n",
    "\n",
    "#Variable declaration\n",
    "n0=5*10**16 #doping level of Si with As in cm**-3\n",
    "myu_n=800 #in cm**2/Vs\n",
    "Ix=2*10**-3 #in A\n",
    "Bz=5*10**-5 #in A\n",
    "d=2*10**-2 #in cm\n",
    "e=1.6*10**-19 #in J\n",
    "\n",
    "#Calculations\n",
    "p=1/(e*myu_n*n0) \n",
    "RH=-1/(e*n0) \n",
    "VH=(Ix*Bz*RH)/(d)\n",
    "\n",
    "#Result\n",
    "print(\"Resistivity= %0.3f ohm-cm\\n\" %p)\n",
    "print(\"Hall coefficient= %i cm**3/c\\n\" %RH)\n",
    "print(\"Hall Voltage= %.1f*10**-5 V\" %(VH/10**-5))"
   ]
  },
  {
   "cell_type": "markdown",
   "metadata": {},
   "source": [
    "## Example number 3.9 , Page number 111"
   ]
  },
  {
   "cell_type": "code",
   "execution_count": 38,
   "metadata": {
    "collapsed": false
   },
   "outputs": [
    {
     "name": "stdout",
     "output_type": "stream",
     "text": [
      "Density of majority carriers(holes)= 9.2*10**17 cm**-3\n"
     ]
    }
   ],
   "source": [
    "#importing module\n",
    "import math\n",
    "from __future__ import division\n",
    "\n",
    "#Variable declaration\n",
    "Boron_impurity=10**18 #in cm**-3\n",
    "Phosphorus_impurity=10**16 #in cm**-3\n",
    "\n",
    "#Calculations\n",
    "Density=Boron_impurity-(8*Phosphorus_impurity)\n",
    "\n",
    "print(\"Density of majority carriers(holes)= %1.1f*10**17 cm**-3\" %(Density/10**17))"
   ]
  },
  {
   "cell_type": "markdown",
   "metadata": {},
   "source": [
    "## Example number 3.10 , Page number 115"
   ]
  },
  {
   "cell_type": "code",
   "execution_count": 39,
   "metadata": {
    "collapsed": false
   },
   "outputs": [
    {
     "name": "stdout",
     "output_type": "stream",
     "text": [
      "Drift velocity of remaining hole group= -11.3*10**8 cm s**-1\n"
     ]
    }
   ],
   "source": [
    "#importing module\n",
    "import math\n",
    "from __future__ import division\n",
    "\n",
    "#Variable declaration\n",
    "J=14.14*10**-14 #current density in A/cm**2\n",
    "v1=3*10**7 #hole group drift velocities in cm/s\n",
    "v2=5*10**8 #in cm/s\n",
    "v3=6*10**8 #in cm/s\n",
    "q=1.6*10**-19 #in C\n",
    "n=1000 #number of holes\n",
    "\n",
    "#Calculations\n",
    "x=((J/(n*q))-v1-v2-v3)\n",
    "\n",
    "#Result\n",
    "print(\"Drift velocity of remaining hole group= %.1f*10**8 cm s**-1\" %(x/10**8))"
   ]
  },
  {
   "cell_type": "markdown",
   "metadata": {},
   "source": [
    "## Example number 3.11 , Page number 115"
   ]
  },
  {
   "cell_type": "code",
   "execution_count": 40,
   "metadata": {
    "collapsed": false
   },
   "outputs": [
    {
     "name": "stdout",
     "output_type": "stream",
     "text": [
      "a)minimum frequency= 3.454*10**14 Hz\n",
      "\n",
      "b)wavelength= 8.7*10**-7 m\n"
     ]
    }
   ],
   "source": [
    "#importing module\n",
    "import math\n",
    "from __future__ import division\n",
    "\n",
    "#Variable declaration\n",
    "E=1.43 #in eV\n",
    "h=4.14*10**-15 #plancks constant in e*V*s\n",
    "c=3*10**8 #in m/s\n",
    "\n",
    "#Calculations\n",
    "#a)\n",
    "v=E/h\n",
    "\n",
    "#b)\n",
    "lamda=c/v\n",
    "\n",
    "#Result\n",
    "print(\"a)minimum frequency= %.3f*10**14 Hz\\n\" %(v/10**14))\n",
    "print(\"b)wavelength= %.1f*10**-7 m\" %(lamda/10**-7)) #The answers vary due to round off error"
   ]
  },
  {
   "cell_type": "markdown",
   "metadata": {},
   "source": [
    "## Example number 3.12 , Page number 116"
   ]
  },
  {
   "cell_type": "code",
   "execution_count": 41,
   "metadata": {
    "collapsed": false
   },
   "outputs": [
    {
     "name": "stdout",
     "output_type": "stream",
     "text": [
      "a)Limiting electric field= 100 V/cm\n",
      "\n",
      "b)Length of resistor= 5.0*10**-2 cm\n",
      "\n",
      "c)Area of cross-section= 1.0*10**-5 cm**2\n",
      "\n",
      "d)Acceptor doping concentration= 5.00*10**15 cm**-3\n"
     ]
    }
   ],
   "source": [
    "#importing module\n",
    "import math\n",
    "from __future__ import division\n",
    "\n",
    "#Variable declaration\n",
    "R=10*10**3 #Resistance in ohm\n",
    "V=5 #Voltage in V\n",
    "J=50 #current density in A/cm**2\n",
    "E=100 #in V/cm\n",
    "q=1.6*10**10 #in eV\n",
    "myu_p=410 #in cm**2/V*s\n",
    "Nd=5*10**15 #in cm**-3\n",
    "\n",
    "#Calculations\n",
    "I=V/R #ohms law in mA\n",
    "A=I/J #Area in cm**2\n",
    "L=V/E \n",
    "rho=(R*A)/L\n",
    "sigma=1/rho #in ohm**-1 cm**-1\n",
    "Na=(sigma/(myu_p*q))+Nd\n",
    "\n",
    "#Result\n",
    "print(\"a)Limiting electric field= %i V/cm\\n\" %E)\n",
    "print(\"b)Length of resistor= %.1f*10**-2 cm\\n\" %(L/10**-2))\n",
    "print(\"c)Area of cross-section= %.1f*10**-5 cm**2\\n\" %(A/10**-5))\n",
    "print(\"d)Acceptor doping concentration= %.2f*10**15 cm**-3\" %(Na/10**15)) #The answer provided in the textbook is wrong"
   ]
  },
  {
   "cell_type": "markdown",
   "metadata": {},
   "source": [
    "## Example number 3.13 , Page number 117"
   ]
  },
  {
   "cell_type": "code",
   "execution_count": 42,
   "metadata": {
    "collapsed": false
   },
   "outputs": [
    {
     "name": "stdout",
     "output_type": "stream",
     "text": [
      "a)Doping value= 1.109*10**16 cm**-3\n",
      "\n",
      "c)resistivity of the doped pieces of silicon= 0.4025 ohm-cm\n",
      "\n",
      "c)resistivity of the undoped pieces of silicon= 2.2*10**5 ohm-cm\n"
     ]
    }
   ],
   "source": [
    "#importing module\n",
    "import math\n",
    "from __future__ import division\n",
    "\n",
    "#Variable declaration\n",
    "E_fi=0.35 #in eV\n",
    "ni=1.5*10**10 #in cm**-3\n",
    "q=1.6*10**-19 #in eV\n",
    "myu_n=1400 #in cm**2/Vs\n",
    "myu_p=500 #in cm**2/Vs\n",
    "Const=0.0259 #constant value for kT in eV\n",
    "\n",
    "#Calculations\n",
    "#a)\n",
    "n0=ni*math.exp((E_fi)/Const)\n",
    "\n",
    "#c)\n",
    "#doped substrate\n",
    "sigma=q*(myu_n*n0) #in ohm**-1 cm**-1\n",
    "rho=1/sigma\n",
    "\n",
    "#undoped substrate\n",
    "sigma1=q*(ni*(myu_n+myu_p))\n",
    "rho1=1/sigma1\n",
    "\n",
    "#Result\n",
    "print(\"a)Doping value= %1.3f*10**16 cm**-3\\n\" %(n0/10**16))\n",
    "print(\"c)resistivity of the doped pieces of silicon= %.4f ohm-cm\\n\" %rho)\n",
    "print(\"c)resistivity of the undoped pieces of silicon= %.1f*10**5 ohm-cm\" %(rho1/10**5)) #The answers vary due to round off error"
   ]
  },
  {
   "cell_type": "markdown",
   "metadata": {},
   "source": [
    "## Example number 3.14 , Page number 119"
   ]
  },
  {
   "cell_type": "code",
   "execution_count": 43,
   "metadata": {
    "collapsed": false
   },
   "outputs": [
    {
     "name": "stdout",
     "output_type": "stream",
     "text": [
      "concentration of doping= 1.726*10**20 cm**-3\n"
     ]
    }
   ],
   "source": [
    "#importing module\n",
    "import math\n",
    "from __future__ import division\n",
    "\n",
    "#Variable declaration\n",
    "ni=1.5*10**10 #in cm**-3\n",
    "Ex=0.6 #position of energy level in eV\n",
    "Const=0.0259 #constant value for kT in eV\n",
    "\n",
    "#Calculations\n",
    "n0=ni*math.exp(Ex/Const)\n",
    "\n",
    "#Result\n",
    "print(\"concentration of doping= %.3f*10**20 cm**-3\" %(n0/10**20)) #The answers vary due to round off error"
   ]
  }
 ],
 "metadata": {
  "anaconda-cloud": {},
  "kernelspec": {
   "display_name": "Python [Root]",
   "language": "python",
   "name": "Python [Root]"
  },
  "language_info": {
   "codemirror_mode": {
    "name": "ipython",
    "version": 3
   },
   "file_extension": ".py",
   "mimetype": "text/x-python",
   "name": "python",
   "nbconvert_exporter": "python",
   "pygments_lexer": "ipython3",
   "version": "3.5.2"
  }
 },
 "nbformat": 4,
 "nbformat_minor": 0
}
