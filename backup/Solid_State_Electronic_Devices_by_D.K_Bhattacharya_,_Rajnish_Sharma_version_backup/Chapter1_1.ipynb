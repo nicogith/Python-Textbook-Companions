{
 "cells": [
  {
   "cell_type": "markdown",
   "metadata": {},
   "source": [
    "#  Chapter 1 : Electron Dynamics "
   ]
  },
  {
   "cell_type": "markdown",
   "metadata": {},
   "source": [
    "## Example number 1.1 , Page number 8"
   ]
  },
  {
   "cell_type": "code",
   "execution_count": 1,
   "metadata": {
    "collapsed": false
   },
   "outputs": [
    {
     "name": "stdout",
     "output_type": "stream",
     "text": [
      "The percentage change in mass of the electron is 4.2 %\n"
     ]
    }
   ],
   "source": [
    "#importing module\n",
    "import math\n",
    "from __future__ import division\n",
    "\n",
    "#Variable declaration\n",
    "V=20000 #potential in Volts\n",
    "e=1.602*10**-19 #electronic charge in C\n",
    "m=9.1*10**-31 #mass of electron in kg\n",
    "c=3*10**8 #speed of light in m/s\n",
    "\n",
    "#Calculations\n",
    "u=math.sqrt((2*V*e)/m) #speed u after acceleration through a potential V in m/s\n",
    "mu=1/math.sqrt(1-(u/c)**2) #mass of electron moving with velocity mu in kg\n",
    "delm=mu-1 #change in mass\n",
    "\n",
    "#Result\n",
    "print(\"The percentage change in mass of the electron is %1.1f %%\" %(delm*100)) "
   ]
  },
  {
   "cell_type": "markdown",
   "metadata": {},
   "source": [
    "## Example number 1.2 , Page number 9"
   ]
  },
  {
   "cell_type": "code",
   "execution_count": 20,
   "metadata": {
    "collapsed": false
   },
   "outputs": [
    {
     "name": "stdout",
     "output_type": "stream",
     "text": [
      "i)\n",
      "Velocity with which the electrons strikes the plate = 11.87*10**6 m/s\n",
      "ii)\n",
      "Kinetic energy acquired by electron in joules = 6.408*10**-17 J\n",
      "Kinetic energy acquired by electron in eV = 400\n",
      "iii)\n",
      "transit time in ns = 0.506\n"
     ]
    }
   ],
   "source": [
    "#importing module\n",
    "import math\n",
    "from __future__ import division\n",
    "\n",
    "#Variable declaration\n",
    "l=3*10**-3 #distance between two plate in meters\n",
    "V=400 #potential difference in Volts\n",
    "e=1.602*10**-19 #electronic charge in Joules\n",
    "m=9.1*10**-31 #mass of electron in kg\n",
    "\n",
    "#Calculations\n",
    "uB=math.sqrt((2*V*e)/m) #in m/s\n",
    "KEJ=e*V #in  Joules\n",
    "KEeV=int(e*V/(1.6*10**-19)) #in eV\n",
    "tAB=(2*l/uB) #in ns\n",
    "\n",
    "#Result\n",
    "print(\"i)\")\n",
    "print(\"Velocity with which the electrons strikes the plate = %.2f*10**6 m/s\" %(uB/10**6))\n",
    "print(\"ii)\")\n",
    "print(\"Kinetic energy acquired by electron in joules = %.3f*10**-17 J\" %(KEJ/10**-17))\n",
    "print(\"Kinetic energy acquired by electron in eV = %i\" %KEeV)\n",
    "print(\"iii)\")\n",
    "print(\"transit time in ns = %.3f\" %(tAB/10**-9))#The answers vary due to round off error"
   ]
  },
  {
   "cell_type": "markdown",
   "metadata": {},
   "source": [
    "## Example number 1.3 , Page number 26"
   ]
  },
  {
   "cell_type": "code",
   "execution_count": 4,
   "metadata": {
    "collapsed": false
   },
   "outputs": [
    {
     "name": "stdout",
     "output_type": "stream",
     "text": [
      "radius of the circular path followed by electron is = 1.42*10**-2 m\n"
     ]
    }
   ],
   "source": [
    "#importing module\n",
    "import math\n",
    "from __future__ import division\n",
    "\n",
    "#Variable declaration\n",
    "B=0.02 #flux Density in Wb/m**2\n",
    "u=5*10**7 #speed of electron in m/s\n",
    "e=1.6*10**-19 #electronic charge Joules\n",
    "m=9.1*10**-31 #mass of electron in kg                  \n",
    "\n",
    "#Calculations\n",
    "r=(m*u)/(e*B) #in m\n",
    "\n",
    "#Result\n",
    "print(\"radius of the circular path followed by electron is = %.2f*10**-2 m\" %(r/10**-2))"
   ]
  },
  {
   "cell_type": "markdown",
   "metadata": {},
   "source": [
    "## Example number 1.4 , Page number 26"
   ]
  },
  {
   "cell_type": "code",
   "execution_count": 6,
   "metadata": {
    "collapsed": false
   },
   "outputs": [
    {
     "name": "stdout",
     "output_type": "stream",
     "text": [
      "Deflection Sensitivity = 4.5*10**-4 m/V\n"
     ]
    }
   ],
   "source": [
    "#importing module\n",
    "import math\n",
    "from __future__ import division\n",
    "\n",
    "#Variable declaration\n",
    "L=3*10**-2 #length of plates in m\n",
    "d=4*10**-3 #spacing betweenn plates in m\n",
    "l=30*10**-2 #distance in m\n",
    "V1=2500 #potential in V\n",
    "\n",
    "#Calculations\n",
    "Se=(L*l)/(2*d*V1)/10**-4\n",
    "\n",
    "#Result\n",
    "print(\"Deflection Sensitivity = %1.1f*10**-4 m/V\" %Se)"
   ]
  },
  {
   "cell_type": "markdown",
   "metadata": {},
   "source": [
    "## Example number 1.5 , Page number 27"
   ]
  },
  {
   "cell_type": "code",
   "execution_count": 8,
   "metadata": {
    "collapsed": false
   },
   "outputs": [
    {
     "name": "stdout",
     "output_type": "stream",
     "text": [
      "Acceleration of the electron is = -5.3*10**15 m/s**2\n"
     ]
    }
   ],
   "source": [
    "#importing module\n",
    "import math\n",
    "from __future__ import division\n",
    "\n",
    "#Variable declaration\n",
    "Ey=3*10**4 #electric field in y-axis in N/C\n",
    "Ex=0      #electric field in x-axis in N/C\n",
    "q=1.6*10**-19 #electric charge in C\n",
    "me=9.1*10**-31 #in kg\n",
    "\n",
    "#Calculations\n",
    "#F=q*E\n",
    "Fy=-q*Ey #Force in y direction \n",
    "ay=Fy/me\n",
    "\n",
    "#Result\n",
    "print(\"Acceleration of the electron is = %.1f*10**15 m/s**2\" %(ay/10**15))\n",
    "#The negative sign tells us that the direction of this acceleration is downward "
   ]
  },
  {
   "cell_type": "markdown",
   "metadata": {},
   "source": [
    "## Example number 1.6 , Page number 28"
   ]
  },
  {
   "cell_type": "code",
   "execution_count": 10,
   "metadata": {
    "collapsed": false
   },
   "outputs": [
    {
     "name": "stdout",
     "output_type": "stream",
     "text": [
      "velocity with which electron beam will travel= 2.65*10**7 m/s\n"
     ]
    }
   ],
   "source": [
    "#importing module\n",
    "import math\n",
    "from __future__ import division\n",
    "\n",
    "#Variable declaration\n",
    "Ey=3*10**4 #electric field in y-axis in N/C\n",
    "V=2000 #potential in V\n",
    "e=1.602*10**-19 #electronic charge in eV\n",
    "m=9.1*10**-31 #mass of electron in kg\n",
    "\n",
    "#Calculations\n",
    "u=math.sqrt((2*V*e)/m)\n",
    "\n",
    "#Result\n",
    "print(\"velocity with which electron beam will travel= %.2f*10**7 m/s\" %(u/10**7))"
   ]
  },
  {
   "cell_type": "markdown",
   "metadata": {},
   "source": [
    "## Example number 1.7 , Page number 28"
   ]
  },
  {
   "cell_type": "code",
   "execution_count": 13,
   "metadata": {
    "collapsed": false
   },
   "outputs": [
    {
     "name": "stdout",
     "output_type": "stream",
     "text": [
      "Time taken= 3.8 s\n"
     ]
    }
   ],
   "source": [
    "#importing module\n",
    "import math\n",
    "from __future__ import division\n",
    "\n",
    "#Variable declaration\n",
    "l=5 #length to be covered in cm\n",
    "up=26.5*10**8 #in cm/s\n",
    "\n",
    "#Calculations\n",
    "t=(2*l/up)\n",
    "\n",
    "#Result\n",
    "print(\"Time taken= %1.1f s\" %(t/10**-9))\n",
    "#The answers vary due to round off error"
   ]
  }
 ],
 "metadata": {
  "anaconda-cloud": {},
  "kernelspec": {
   "display_name": "Python [Root]",
   "language": "python",
   "name": "Python [Root]"
  },
  "language_info": {
   "codemirror_mode": {
    "name": "ipython",
    "version": 3
   },
   "file_extension": ".py",
   "mimetype": "text/x-python",
   "name": "python",
   "nbconvert_exporter": "python",
   "pygments_lexer": "ipython3",
   "version": "3.5.2"
  }
 },
 "nbformat": 4,
 "nbformat_minor": 0
}
