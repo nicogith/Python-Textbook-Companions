{
 "cells": [
  {
   "cell_type": "markdown",
   "metadata": {},
   "source": [
    "#  Chapter 6 : P - N Junction Current"
   ]
  },
  {
   "cell_type": "markdown",
   "metadata": {},
   "source": [
    "## Example number 6.1 , Page number 226"
   ]
  },
  {
   "cell_type": "code",
   "execution_count": 4,
   "metadata": {
    "collapsed": false
   },
   "outputs": [
    {
     "name": "stdout",
     "output_type": "stream",
     "text": [
      "minority carrier concentration= 6.92*10**12 cm**-3\n"
     ]
    }
   ],
   "source": [
    "#importing module\n",
    "import math\n",
    "from __future__ import division\n",
    "\n",
    "#Variable declaration\n",
    "ni=1.5*10**10 #in cm**-3\n",
    "Nd=5*10**16 #doping density in cm**-3\n",
    "V=0.55 #in V\n",
    "Const=0.026 #constant for kT/e in V\n",
    "\n",
    "#Calculations\n",
    "Pn0=ni**2/Nd #in cm**-3\n",
    "Pn=Pn0*math.exp(V/Const)\n",
    "\n",
    "#Result\n",
    "print(\"minority carrier concentration= %1.2f*10**12 cm**-3\" %(Pn/10**12))"
   ]
  },
  {
   "cell_type": "markdown",
   "metadata": {},
   "source": [
    "## Example number 6.2 , Page number 226"
   ]
  },
  {
   "cell_type": "code",
   "execution_count": 6,
   "metadata": {
    "collapsed": false
   },
   "outputs": [
    {
     "name": "stdout",
     "output_type": "stream",
     "text": [
      "Reverse saturation current density= 4.38*10**-11 A/cm**2\n"
     ]
    }
   ],
   "source": [
    "#importing module\n",
    "import math\n",
    "from __future__ import division\n",
    "\n",
    "#Variable declaration\n",
    "ni=1.5*10**10 #in cm**-3\n",
    "e=1.6*10**-19 #in J\n",
    "Na=10**16 #doping density in cm**-3\n",
    "Nd=5*10**16 #in cm**-3\n",
    "Dn=25 #in cm**2/s\n",
    "Dp=10 #in cm**2/s\n",
    "tau_p0=4*10**-7 #in s\n",
    "tau_n0=2*10**-7 #in s\n",
    "\n",
    "#Calculations\n",
    "Js=e*ni**2*((1/Na)*math.sqrt(Dn/tau_n0)+(1/Nd)*math.sqrt(Dp/tau_p0))\n",
    "\n",
    "#Result\n",
    "print(\"Reverse saturation current density= %1.2f*10**-11 A/cm**2\" %(Js/10**-11)) #The answers vary due to round off error"
   ]
  },
  {
   "cell_type": "markdown",
   "metadata": {},
   "source": [
    "## Example number 6.3 , Page number 227"
   ]
  },
  {
   "cell_type": "code",
   "execution_count": 9,
   "metadata": {
    "collapsed": false
   },
   "outputs": [
    {
     "name": "stdout",
     "output_type": "stream",
     "text": [
      "1)\n",
      "Reverse bias stauration current density= 0.620*10**-6 A/m**2\n",
      "\n",
      "2)\n",
      "Ratio of hole to electron current= 37.69 \n",
      "\n",
      "3)\n",
      "Total current density= 2.98 A/m**2\n"
     ]
    }
   ],
   "source": [
    "#importing module\n",
    "import math\n",
    "from __future__ import division\n",
    "\n",
    "#Variable declaration\n",
    "sigma_p=1000 #conductivity of p-junction in ohm**-1*m**-1\n",
    "sigma_n=20 #conductivity of n-junction in ohm**-1*m**-1\n",
    "myu_p=0.05 #in m**2/V*s\n",
    "myu_n=0.13 #in m**2/V*s\n",
    "K=8.61*10**-5 #Boltzmann constant in eV/K\n",
    "T=300 #in K\n",
    "V=0.4 #forward bias voltage in V\n",
    "e=1.602*10**-19 #in J\n",
    "ni=1.5*10**16 #in m**-3\n",
    "tau_n=10**-6 #minority carrier lifetime in s\n",
    "tau_p=5*10**-6 #in s\n",
    "Const=0.026 #constant for kT/e in V\n",
    "hole_current=0.603*10**-6 #in A\n",
    "electron_current=0.016*10**-6 #in A                 \n",
    "\n",
    "#Calculations\n",
    "pp0=sigma_p/(e*myu_p) #majority carrier densities in m**-3\n",
    "nn0=sigma_n/(e*myu_n) #in m**-3\n",
    "np0=ni**2/pp0 #minority carrier densities in m**-3\n",
    "pn0=ni**2/nn0 #in m**-3\n",
    "Dn=myu_n*K*T #in m**2/s\n",
    "Dp=myu_p*K*T #in m**2/s\n",
    "Ln=math.sqrt(Dn*tau_n) #in m\n",
    "Lp=math.sqrt(Dp*tau_p) #in m\n",
    "Js=(((e*np0*Ln)/tau_n)+((e*pn0*Lp)/tau_p))\n",
    "Ratio=(hole_current)/(electron_current)\n",
    "J=Js*(math.exp(V/Const)-1)\n",
    "\n",
    "#Result\n",
    "print(\"1)\\nReverse bias stauration current density= %0.3f*10**-6 A/m**2\\n\" %(Js/10**-6)) #The answers vary due to round off error\n",
    "print(\"2)\\nRatio of hole to electron current= %2.2f \\n\" %Ratio)\n",
    "print(\"3)\\nTotal current density= %2.2f A/m**2\" %J) #The answers vary due to round off error"
   ]
  },
  {
   "cell_type": "markdown",
   "metadata": {},
   "source": [
    "## Example number 6.4 , Page number 242"
   ]
  },
  {
   "cell_type": "code",
   "execution_count": 16,
   "metadata": {
    "collapsed": false
   },
   "outputs": [
    {
     "name": "stdout",
     "output_type": "stream",
     "text": [
      "Diffusion Capacitance= 4*10**-9 F\n"
     ]
    }
   ],
   "source": [
    "#importing module\n",
    "import math\n",
    "from __future__ import division\n",
    "\n",
    "#Variable declaration\n",
    "Ip0=0.5*10**-3 #in A\n",
    "tau_p0=5*10**-7 #in s\n",
    "Const=0.026 #constant for kT/e in V\n",
    "\n",
    "#Calculations\n",
    "Cd0=(1/(2*Const))*tau_p0*Ip0\n",
    "\n",
    "#Result\n",
    "print(\"Diffusion Capacitance= %i*10**-9 F\" %math.floor(Cd0/10**-9))\n",
    "#The answers vary due to round off error"
   ]
  },
  {
   "cell_type": "markdown",
   "metadata": {},
   "source": [
    "## Example number 6.5 , Page number 243"
   ]
  },
  {
   "cell_type": "code",
   "execution_count": 19,
   "metadata": {
    "collapsed": false
   },
   "outputs": [
    {
     "name": "stdout",
     "output_type": "stream",
     "text": [
      "reverse-bias generation current density= 3.15*10**-7 A/cm**2\n"
     ]
    }
   ],
   "source": [
    "#importing module\n",
    "import math\n",
    "from __future__ import division\n",
    "\n",
    "#Variable declaration\n",
    "ni=1.5*10**10 #in cm**-3\n",
    "epsilon_si=11.7 #in F/cm\n",
    "epsilon_0=8.85*10**-14 #in F/cm\n",
    "e=1.6*10**-19 #in J\n",
    "Na=10**16 #in cm**-3\n",
    "Nd=5*10**16 #in cm**-3\n",
    "tau_p0=4*10**-7 #in s\n",
    "tau_n0=2*10**-7 #in s\n",
    "\n",
    "#Calculations\n",
    "W=(((2*epsilon_si*epsilon_0)*(Na+Nd)*4)/(e*Na*Nd))**0.5 #in micro-m\n",
    "tau_m=(tau_p0+tau_n0)/2 #in s\n",
    "Jgen=(e*ni*W)/(2*tau_m) \n",
    "\n",
    "#Result\n",
    "print(\"reverse-bias generation current density= %1.2f*10**-7 A/cm**2\" %(Jgen/10**-7)) #The answers vary due to round off error"
   ]
  },
  {
   "cell_type": "markdown",
   "metadata": {},
   "source": [
    "## Example number 6.6 , Page number 245"
   ]
  },
  {
   "cell_type": "code",
   "execution_count": 25,
   "metadata": {
    "collapsed": false
   },
   "outputs": [
    {
     "name": "stdout",
     "output_type": "stream",
     "text": [
      "Nd= 2.55*10**15 cm**-3\n",
      "\n",
      "Na= 1.01*10**15 cm**-3\n"
     ]
    }
   ],
   "source": [
    "#importing module\n",
    "import math\n",
    "from __future__ import division\n",
    "\n",
    "#Variable declaration\n",
    "Jn=20 #in A/cm**2\n",
    "Jp=5 #in A/cm**2\n",
    "Va=0.65 #in V\n",
    "Dn=25 #in cm**2/s\n",
    "Dp=10 #/in cm**2/s\n",
    "tau_n0=5*10**-7 #in s\n",
    "tau_p0=5*10**-7 #in s\n",
    "epsilon_r=11.8 #in F/cm\n",
    "epsilon_0=8.85*10**-14 #in F/cm\n",
    "e=1.6*10**-19 #in eV\n",
    "ni=1.5*10**10 #in cm**-3\n",
    "Const=0.0259 #constant for kT/e in V\n",
    "\n",
    "#Calculations\n",
    "Lp=math.sqrt(Dp*tau_p0) #in cm\n",
    "pn0=(Jp*Lp)/(e*Dp*(math.exp(Va/Const)-1)) #law of mass action in cm**-3\n",
    "Nd=(ni**2/pn0)\n",
    "Ln=math.sqrt(Dn*tau_n0) #in cm\n",
    "np0=(Jn*Ln)/(e*Dn*(math.exp((Va/Const))-1)) #in cm**-3\n",
    "Na=ni**2/np0 \n",
    "\n",
    "#Result\n",
    "print(\"Nd= %1.2f*10**15 cm**-3\\n\" %(Nd/10**15)) #The answers vary due to round off error\n",
    "print(\"Na= %1.2f*10**15 cm**-3\" %(Na/10**15))"
   ]
  },
  {
   "cell_type": "markdown",
   "metadata": {},
   "source": [
    "## Example number 6.7 , Page number 246"
   ]
  },
  {
   "cell_type": "code",
   "execution_count": 29,
   "metadata": {
    "collapsed": false
   },
   "outputs": [
    {
     "name": "stdout",
     "output_type": "stream",
     "text": [
      "Minority carrier hole concentration= 2.59*10**14 cm**-3\n"
     ]
    }
   ],
   "source": [
    "#importing module\n",
    "import math\n",
    "from __future__ import division\n",
    "\n",
    "#Variable declaration\n",
    "ni=1.5*10**10 #in cm**-3\n",
    "Nd=1*10**16 #n-type doping in cm**-3\n",
    "V=0.6 #forward bias current in V\n",
    "e=1.6*10**-19 #in eV\n",
    "Const=0.0259 #constant for kT/e in V\n",
    "\n",
    "#Calculations\n",
    "Pn0=ni**2/Nd #in cm**-3\n",
    "Pn=Pn0*math.exp(V/Const)\n",
    "\n",
    "#Result\n",
    "print(\"Minority carrier hole concentration= %1.2f*10**14 cm**-3\" %(Pn/10**14))"
   ]
  },
  {
   "cell_type": "markdown",
   "metadata": {},
   "source": [
    "## Example number 6.8 , Page number 247"
   ]
  },
  {
   "cell_type": "code",
   "execution_count": 39,
   "metadata": {
    "collapsed": false
   },
   "outputs": [
    {
     "name": "stdout",
     "output_type": "stream",
     "text": [
      "Current= 0.55 micro-Ampere\n"
     ]
    }
   ],
   "source": [
    "#importing module\n",
    "import math\n",
    "from __future__ import division\n",
    "\n",
    "#Variable declaration\n",
    "ni=1.5*10**10 #in cm**-3\n",
    "Nd=5*10**16 #n-type doping in cm**-3\n",
    "V=0.5 #forward bias current in V\n",
    "e=1.6*10**-19 #in eV\n",
    "tau_p=1*10**-6 #in s \n",
    "Dp=10 #in cm**2/s\n",
    "A=10**-3 #cross-sectional area in cm**2\n",
    "Const=0.0259 #constant for kT/e in V\n",
    "\n",
    "#Calculations\n",
    "pn=ni**2/Nd #in cm**-3\n",
    "Lp=math.sqrt(Dp*tau_p) #in cm\n",
    "I=e*A*(Dp/Lp)*pn*(math.exp(V/Const))\n",
    "\n",
    "#Result\n",
    "print(\"Current= %.2f micro-Ampere\" %(I/10**-6))"
   ]
  },
  {
   "cell_type": "markdown",
   "metadata": {},
   "source": [
    "## Example number 6.9 , Page number 247"
   ]
  },
  {
   "cell_type": "code",
   "execution_count": 42,
   "metadata": {
    "collapsed": false
   },
   "outputs": [
    {
     "name": "stdout",
     "output_type": "stream",
     "text": [
      "Electric field value= 2.07 V/cm\n"
     ]
    }
   ],
   "source": [
    "#importing module\n",
    "import math\n",
    "from __future__ import division\n",
    "\n",
    "#Variable declaration\n",
    "ni=1.5*10**10 #in cm**-3\n",
    "e=1.6*10**-19 #in eV\n",
    "Na=10**16 #doping density in cm**-3 \n",
    "Nd=10**16 #in cm**-3 \n",
    "tau_p0=5*10**-7 #in s \n",
    "tau_n0=5*10**-7 #in s\n",
    "Dn=25 #in cm**2/s\n",
    "Dp=10 #in cm**2/s\n",
    "epsilon_r=11.7 #in F/cm\n",
    "epsilon_0=8.85*10**-14 #in F/cm\n",
    "myu_n=1350 #in cm**2/V*s\n",
    "myu_p=450 #in cm**2/V*s \n",
    "V=0.65 #in V\n",
    "Const=0.0259 #constant for kT/e in V\n",
    "\n",
    "\n",
    "#Calculations\n",
    "pn0=ni**2/Nd #in cm**-3\n",
    "np0=ni**2/Na #in cm**-3\n",
    "Lp=math.sqrt(Dp*tau_p0) #in cm\n",
    "Ln=math.sqrt(Dn*tau_n0) #in cm\n",
    "Js=(((e*Dp*pn0)/Lp)+((e*Dn*pn0)/Lp)) #in A/cm**2\n",
    "J=Js*(math.exp(V/Const)-1) #Total current density in A/cm**2\n",
    "sigma=e*myu_n*Nd #in mho/cm\n",
    "E=J/sigma\n",
    "\n",
    "#Result\n",
    "print(\"Electric field value= %1.2f V/cm\" %E) #The answer provided in the textbook is wrong"
   ]
  },
  {
   "cell_type": "code",
   "execution_count": null,
   "metadata": {
    "collapsed": true
   },
   "outputs": [],
   "source": []
  }
 ],
 "metadata": {
  "kernelspec": {
   "display_name": "Python [Root]",
   "language": "python",
   "name": "Python [Root]"
  },
  "language_info": {
   "codemirror_mode": {
    "name": "ipython",
    "version": 3
   },
   "file_extension": ".py",
   "mimetype": "text/x-python",
   "name": "python",
   "nbconvert_exporter": "python",
   "pygments_lexer": "ipython3",
   "version": "3.5.2"
  }
 },
 "nbformat": 4,
 "nbformat_minor": 0
}
