{
 "cells": [
  {
   "cell_type": "markdown",
   "metadata": {},
   "source": [
    "#  Chapter 11 : Power Devices"
   ]
  },
  {
   "cell_type": "markdown",
   "metadata": {},
   "source": [
    "## Example number 11.1 , Page number 4420"
   ]
  },
  {
   "cell_type": "code",
   "execution_count": 1,
   "metadata": {
    "collapsed": false
   },
   "outputs": [
    {
     "name": "stdout",
     "output_type": "stream",
     "text": [
      "maximum collector current= 3.75 A\n",
      "\n",
      "Maximum collector-emiiter voltage= 30 V\n",
      "\n",
      "Maximum Power rating= 28.12 W\n"
     ]
    }
   ],
   "source": [
    "#importing module\n",
    "import math\n",
    "from __future__ import division\n",
    "\n",
    "#Variable declaration\n",
    "RL=8 #in ohm\n",
    "VCC=30 #in V\n",
    "\n",
    "#Calculations\n",
    "IC_max=VCC/RL \n",
    "VCE_max=VCC\n",
    "IC=VCC/(2*RL)\n",
    "VCE=VCC-(IC*RL)\n",
    "PT=VCE*IC\n",
    "\n",
    "#Result\n",
    "print(\"maximum collector current= %1.2f A\\n\" %IC_max)\n",
    "print(\"Maximum collector-emiiter voltage= %i V\\n\" %VCE_max)\n",
    "print(\"Maximum Power rating= %2.2f W\" %PT) "
   ]
  },
  {
   "cell_type": "markdown",
   "metadata": {},
   "source": [
    "## Example number 11.2 , Page number 421"
   ]
  },
  {
   "cell_type": "code",
   "execution_count": 3,
   "metadata": {
    "collapsed": false
   },
   "outputs": [
    {
     "name": "stdout",
     "output_type": "stream",
     "text": [
      "Drain Resistance= 6.25 ohm\n",
      "\n",
      "Drain current at maximum power ditribution point= 2 A\n",
      "\n",
      "Drain-to-source voltage at maximum power dissipation point= 12.5 V\n",
      "\n",
      "Maximum power dissipation= 25 W\n"
     ]
    }
   ],
   "source": [
    "#importing module\n",
    "import math\n",
    "from __future__ import division\n",
    "\n",
    "#Variable declaration\n",
    "VDD=25 #voltage axis intersection point in V\n",
    "ID=4 #current in A\n",
    "\n",
    "#Calculations\n",
    "RD=VDD/ID\n",
    "ID=VDD/(2*RD)\n",
    "VDS=VDD-(ID*RD)\n",
    "PT=VDS*ID\n",
    "\n",
    "#Result\n",
    "print(\"Drain Resistance= %1.2f ohm\\n\" %RD)\n",
    "print(\"Drain current at maximum power ditribution point= %i A\\n\" %ID)\n",
    "print(\"Drain-to-source voltage at maximum power dissipation point= %2.1f V\\n\" %VDS)\n",
    "print(\"Maximum power dissipation= %i W\" %PT)"
   ]
  },
  {
   "cell_type": "markdown",
   "metadata": {},
   "source": [
    "## Example number 11.3 , Page number 422"
   ]
  },
  {
   "cell_type": "code",
   "execution_count": 6,
   "metadata": {
    "collapsed": false
   },
   "outputs": [
    {
     "name": "stdout",
     "output_type": "stream",
     "text": [
      "net common-emitter current gain= 440\n"
     ]
    }
   ],
   "source": [
    "#importing module\n",
    "import math\n",
    "from __future__ import division\n",
    "\n",
    "#Variable declaration\n",
    "beta1=20 #bjt gain\n",
    "beta2=20 #bjt gain\n",
    "\n",
    "#Calculations\n",
    "beta0=beta1+beta2+(beta1*beta2)\n",
    "\n",
    "#Result\n",
    "print(\"net common-emitter current gain= %i\" %beta0) #The answer in the textbook is mathematically incorrect"
   ]
  },
  {
   "cell_type": "markdown",
   "metadata": {},
   "source": [
    "## Example number 11.4 , Page number 91"
   ]
  },
  {
   "cell_type": "code",
   "execution_count": 7,
   "metadata": {
    "collapsed": false
   },
   "outputs": [
    {
     "name": "stdout",
     "output_type": "stream",
     "text": [
      "Case(a):No heat sink used :-Maximum power distribution= 2.95 W\n",
      "\n",
      "Case(b):Heaat sink used :- Maximum power distribution= 18.36 W\n"
     ]
    }
   ],
   "source": [
    "#importing module\n",
    "import math\n",
    "from __future__ import division\n",
    "\n",
    "#Variable declaration\n",
    "TJ_max=150 #in C\n",
    "Tamb=27 #in C\n",
    "Rth_dp=1.7 #Thermal resistance in C/W\n",
    "Rth_pa=40 #in C/W\n",
    "Rth_ps=1 #in C/W\n",
    "Rth_sa=4 #in C/W\n",
    "\n",
    "#Calculations\n",
    "PD1_max=(TJ_max-Tamb)/(Rth_dp+Rth_pa)\n",
    "PD2_max=(TJ_max-Tamb)/(Rth_dp+Rth_sa+Rth_ps)\n",
    "\n",
    "#Result\n",
    "print(\"Case(a):No heat sink used :-Maximum power distribution= %1.2f W\\n\" %PD1_max)\n",
    "print(\"Case(b):Heaat sink used :- Maximum power distribution= %2.2f W\" %PD2_max)"
   ]
  },
  {
   "cell_type": "markdown",
   "metadata": {},
   "source": [
    "## Example number 11.5 , Page number 436"
   ]
  },
  {
   "cell_type": "code",
   "execution_count": 8,
   "metadata": {
    "collapsed": false
   },
   "outputs": [
    {
     "name": "stdout",
     "output_type": "stream",
     "text": [
      "Total power dissipation= 240.6 W\n",
      "The BJT is working outside the SOA\n"
     ]
    }
   ],
   "source": [
    "#importing module\n",
    "import math\n",
    "from __future__ import division\n",
    "\n",
    "#Variable declaration\n",
    "B=10 #current gain\n",
    "IB=0.6 #in A\n",
    "VBE=1 #in V\n",
    "RC=10 #in ohm\n",
    "VCC=100 #in Vs\n",
    "\n",
    "#Calculations\n",
    "IC=B*IB #in A\n",
    "VCE=VCC-(IC*RC) #in V\n",
    "VCB=VCE-VBE #in V\n",
    "PT=(VCE*IC)+(VBE*IB)\n",
    "\n",
    "#Result\n",
    "print(\"Total power dissipation= %.1f W\" %PT)\n",
    "print(\"The BJT is working outside the SOA\")"
   ]
  },
  {
   "cell_type": "markdown",
   "metadata": {},
   "source": [
    "## Example number 11.6 , Page number 437"
   ]
  },
  {
   "cell_type": "code",
   "execution_count": 9,
   "metadata": {
    "collapsed": false
   },
   "outputs": [
    {
     "name": "stdout",
     "output_type": "stream",
     "text": [
      "Emitter current= 12.55 A\n"
     ]
    }
   ],
   "source": [
    "#importing module\n",
    "import math\n",
    "from __future__ import division\n",
    "\n",
    "#Variable declaration\n",
    "Beff=250 #effective gain\n",
    "B1=25 #current gain of transistor\n",
    "B2=8.65 #effective gain of Darlington-pair\n",
    "iB=50*10**-3 #in A\n",
    "\n",
    "#Calculations\n",
    "iC2=iB*(Beff-B1)\n",
    "iE2=(1+(1/B2))*iC2\n",
    "\n",
    "#Result\n",
    "print(\"Emitter current= %2.2f A\" %iE2)"
   ]
  },
  {
   "cell_type": "markdown",
   "metadata": {},
   "source": [
    "## Example number 11.7 , Page number 438"
   ]
  },
  {
   "cell_type": "code",
   "execution_count": 11,
   "metadata": {
    "collapsed": false
   },
   "outputs": [
    {
     "name": "stdout",
     "output_type": "stream",
     "text": [
      "peak-point voltage= 9.7 V\n"
     ]
    }
   ],
   "source": [
    "#importing module\n",
    "import math\n",
    "from __future__ import division\n",
    "\n",
    "#Variable declaration\n",
    "VBB=24 #in V\n",
    "r1=3 #in k-ohm\n",
    "r2=5 #in k-ohm\n",
    "\n",
    "#Calculations\n",
    "n=r1/(r1+r2)\n",
    "VP=(n*VBB)+0.7\n",
    "\n",
    "#Result\n",
    "print(\"peak-point voltage= %1.1f V\" %VP)"
   ]
  },
  {
   "cell_type": "markdown",
   "metadata": {},
   "source": [
    "## Example number 11.8 , Page number 437"
   ]
  },
  {
   "cell_type": "code",
   "execution_count": 12,
   "metadata": {
    "collapsed": false
   },
   "outputs": [
    {
     "name": "stdout",
     "output_type": "stream",
     "text": [
      "Actual power dissipation= 12.23 W\n"
     ]
    }
   ],
   "source": [
    "#importing module\n",
    "import math\n",
    "from __future__ import division\n",
    "\n",
    "#Variable declaration\n",
    "Rth_sink=4 #resistance in C/W\n",
    "Rth_case=1.5 #in C/W\n",
    "T2=200 #Temperature in C\n",
    "T1=27 #Room temperature in C\n",
    "P=20 #power in W\n",
    "\n",
    "#Calculations\n",
    "Rth=(T2-T1)/P\n",
    "Tdev=T2\n",
    "Tamb=T1\n",
    "Rth_dp=Rth \n",
    "Rth_ps=Rth_case #case-sink resistance\n",
    "Rth_sa=Rth_sink #sink-ambient resistance\n",
    "PD=(Tdev-Tamb)/(Rth_dp+Rth_ps+Rth_sa)\n",
    "\n",
    "#Result\n",
    "print(\"Actual power dissipation= %2.2f W\" %PD) #The answers vary due to round off error"
   ]
  },
  {
   "cell_type": "code",
   "execution_count": null,
   "metadata": {
    "collapsed": true
   },
   "outputs": [],
   "source": []
  }
 ],
 "metadata": {
  "anaconda-cloud": {},
  "kernelspec": {
   "display_name": "Python [Root]",
   "language": "python",
   "name": "Python [Root]"
  },
  "language_info": {
   "codemirror_mode": {
    "name": "ipython",
    "version": 3
   },
   "file_extension": ".py",
   "mimetype": "text/x-python",
   "name": "python",
   "nbconvert_exporter": "python",
   "pygments_lexer": "ipython3",
   "version": "3.5.2"
  }
 },
 "nbformat": 4,
 "nbformat_minor": 0
}
