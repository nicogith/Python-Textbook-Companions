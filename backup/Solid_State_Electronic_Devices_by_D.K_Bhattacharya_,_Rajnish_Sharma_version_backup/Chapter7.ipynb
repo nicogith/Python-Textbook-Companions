{
 "cells": [
  {
   "cell_type": "markdown",
   "metadata": {},
   "source": [
    "#  Chapter 7 : Metal - Semiconductor Junction and Hetero - junctions "
   ]
  },
  {
   "cell_type": "markdown",
   "metadata": {},
   "source": [
    "## Example number 7.1 , Page number 266"
   ]
  },
  {
   "cell_type": "code",
   "execution_count": 18,
   "metadata": {
    "collapsed": false
   },
   "outputs": [
    {
     "name": "stdout",
     "output_type": "stream",
     "text": [
      "a) Ideal Schottky barrier height= 0.165 eV\n",
      "\n",
      "b) Built-in potential barrier= 0.925 V\n",
      "\n",
      "c) Space charge width at zero bias= 0.155*10**-4 cm\n",
      "\n",
      "d) maximum electric field= 11.96*10**4 V cm**-1\n"
     ]
    }
   ],
   "source": [
    "#importing module\n",
    "import math\n",
    "from __future__ import division\n",
    "\n",
    "#Variable declaration\n",
    "Nd=5*10**16 #Doping level of n-type silicon in cm**-3\n",
    "Nc=2.8*10**19 #in cm**-3 \n",
    "e=1.6*10**-19 #in J\n",
    "phi_B0=1.09 #in eV\n",
    "epsilon_r=11.7 #in F/cm\n",
    "epsilon_0=8.85*10**-14 #in F/cm\n",
    "Const=0.026 #constant for kT/e in V\n",
    "\n",
    "#Calculations\n",
    "phi_n=Const*math.log(Nc/Nd) #in eV\n",
    "Vbi=(phi_B0-phi_n) #in eV\n",
    "xn=((2*epsilon_r*epsilon_0*Vbi)/(e*Nd))**0.5\n",
    "Emax=(e*Nd*xn)/(epsilon_r*epsilon_0)\n",
    "\n",
    "#Result\n",
    "print(\"a) Ideal Schottky barrier height= %0.3f eV\\n\" %phi_n)\n",
    "print(\"b) Built-in potential barrier= %0.3f V\\n\" %Vbi)\n",
    "print(\"c) Space charge width at zero bias= %1.3f*10**-4 cm\\n\" %(xn/10**-4))\n",
    "print(\"d) maximum electric field= %.2f*10**4 V cm**-1\" %round(Emax/10**4,2))#answer vary due to sound-off error"
   ]
  },
  {
   "cell_type": "markdown",
   "metadata": {},
   "source": [
    "## Example number 7.2 , Page number 267"
   ]
  },
  {
   "cell_type": "code",
   "execution_count": 19,
   "metadata": {
    "collapsed": false
   },
   "outputs": [
    {
     "name": "stdout",
     "output_type": "stream",
     "text": [
      "Actual barrier height= 0.578 V\n"
     ]
    }
   ],
   "source": [
    "#importing module\n",
    "import math\n",
    "from __future__ import division\n",
    "\n",
    "#Variable declaration\n",
    "Nd=2.01*10**7 #Doping level of n-type silicon in cm**-3\n",
    "Nc=2.8*10**19 #in cm**-3\n",
    "e=1.6*10**-19 #in J\n",
    "epsilon_r=11.7 #in F/cm\n",
    "epsilon_0=8.85*10**-14 #in F/cm\n",
    "slope=6*10**13 \n",
    "Vbi=0.45 #in V\n",
    "Const=0.026 #constant for kT/e in V\n",
    "\n",
    "#Calculations\n",
    "Nd=2/(e*epsilon_r*epsilon_0*slope) #in cm**-3\n",
    "phi_n=Const*math.log(Nc/Nd) #in V\n",
    "phi_Bn=Vbi+phi_n\n",
    "\n",
    "#Result\n",
    "print(\"Actual barrier height= %0.3f V\" %phi_Bn)"
   ]
  },
  {
   "cell_type": "markdown",
   "metadata": {},
   "source": [
    "## Example number 7.3 , Page number 267"
   ]
  },
  {
   "cell_type": "code",
   "execution_count": 25,
   "metadata": {
    "collapsed": false
   },
   "outputs": [
    {
     "name": "stdout",
     "output_type": "stream",
     "text": [
      "Schottkybarrier-lowering for Si-metal contact= 0.011 V\n",
      "\n",
      "maximum barrier height= 5.54*10**-7 cm\n"
     ]
    }
   ],
   "source": [
    "#importing module\n",
    "import math\n",
    "from __future__ import division\n",
    "\n",
    "#Variable declaration\n",
    "E=10**4 #Electric field in V/cm\n",
    "e=1.6*10**-19 #in J\n",
    "epsilon_r=11.7 #in F/cm\n",
    "epsilon_0=8.85*10**-14 #in F/cm         \n",
    "\n",
    "#Calculations\n",
    "del_phi=math.sqrt((e*E)/(4*math.pi*epsilon_r*epsilon_0))\n",
    "xm=math.sqrt(e/(16*math.pi*epsilon_r*epsilon_0*E))\n",
    "\n",
    "#Result\n",
    "print(\"Schottkybarrier-lowering for Si-metal contact= %0.3f V\\n\" %del_phi)\n",
    "print(\"maximum barrier height= %1.2f*10**-7 cm\" %(xm/10**-7))"
   ]
  },
  {
   "cell_type": "markdown",
   "metadata": {},
   "source": [
    "## Example number 7.4 , Page number 268"
   ]
  },
  {
   "cell_type": "code",
   "execution_count": 28,
   "metadata": {
    "collapsed": false
   },
   "outputs": [
    {
     "name": "stdout",
     "output_type": "stream",
     "text": [
      "Reverse saturation current density= 2.06*10**-7 A/cm**2\n"
     ]
    }
   ],
   "source": [
    "#importing module\n",
    "import math\n",
    "from __future__ import division\n",
    "\n",
    "#Variable declaration\n",
    "A=114 #effective Richardson constant A/K**2*cm**2\n",
    "e=1.6*10**-19 #in J\n",
    "T=300 #in K\n",
    "phi_Bn=0.82 #in eV\n",
    "const=0.026 #value for kT/e in V\n",
    "\n",
    "#Calculations\n",
    "J0=A*T**2*math.exp(-(phi_Bn/const))\n",
    "\n",
    "#Result\n",
    "print(\"Reverse saturation current density= %1.2f*10**-7 A/cm**2\" %(J0/10**-7))"
   ]
  },
  {
   "cell_type": "markdown",
   "metadata": {},
   "source": [
    "## Example number  7.5 , Page number 272"
   ]
  },
  {
   "cell_type": "code",
   "execution_count": 29,
   "metadata": {
    "collapsed": false
   },
   "outputs": [
    {
     "name": "stdout",
     "output_type": "stream",
     "text": [
      "Conduction band= 0.06 eV\n",
      "\n",
      "Valence band= 0.69 eV\n"
     ]
    }
   ],
   "source": [
    "#importing module\n",
    "import math\n",
    "from __future__ import division\n",
    "\n",
    "#Variable declaration\n",
    "xGe=4.13  #in eV\n",
    "xGaAs=4.07 #in eV\n",
    "Eg_Ge=0.7 #in eV\n",
    "Eg_GaAs=1.45 #in eV\n",
    "\n",
    "#Calculations\n",
    "delE_c=xGe-xGaAs\n",
    "delE_v=(Eg_GaAs-Eg_Ge)-delE_c\n",
    "\n",
    "#Result\n",
    "print(\"Conduction band= %1.2f eV\\n\" %delE_c)\n",
    "print(\"Valence band= %1.2f eV\" %delE_v)"
   ]
  },
  {
   "cell_type": "markdown",
   "metadata": {},
   "source": [
    "## Example number  7.6 , Page number 272"
   ]
  },
  {
   "cell_type": "code",
   "execution_count": 35,
   "metadata": {
    "collapsed": false
   },
   "outputs": [
    {
     "name": "stdout",
     "output_type": "stream",
     "text": [
      "a)\n",
      "\n",
      "ideal schottky barrier height= 0.49 ev\n",
      "\n",
      "b)\n",
      "\n",
      "peak electric field= 6.81*10**4 V/cm\n",
      "\n",
      "c)\n",
      "\n",
      "depletion layer capacitance per unit area= 7.05*10**-9 F/cm**2\n"
     ]
    }
   ],
   "source": [
    "#importing module\n",
    "import math\n",
    "from __future__ import division\n",
    "\n",
    "#Variable declaration\n",
    "Nd=3*10**15 #Doping level of n-type silicon in cm**-3\n",
    "Nc=2.8*10**19 #in cm**-3\n",
    "e=1.6*10**-19 #in J\n",
    "phi_m=4.5 #work function for chromium in eV\n",
    "epsilon_si=11.7 #in F/cm\n",
    "epsilon_0=8.854*10**-14 #in F/cm\n",
    "xsi=4.01 #electron affinity for Si in eV\n",
    "Vbi=5 #reverse bias voltage in V\n",
    "VR=0 #in V\n",
    "\n",
    "#Calculations\n",
    "phi_B=phi_m-xsi #in eV\n",
    "xn=((2*epsilon_si*epsilon_0*(Vbi+VR))/(e*Nd))**0.5 #in cm\n",
    "Emax=(e*Nd*xn)/(epsilon_si*epsilon_0)\n",
    "CJ=((e*epsilon_si*epsilon_0*Nd)/(2*(Vbi+VR)))**0.5\n",
    "\n",
    "#Result\n",
    "print(\"a)\\n\")\n",
    "print(\"ideal schottky barrier height= %1.2f ev\\n\" %phi_B)\n",
    "print(\"b)\\n\")\n",
    "print(\"peak electric field= %1.2f*10**4 V/cm\\n\" %(Emax/10**4))\n",
    "print(\"c)\\n\")\n",
    "print(\"depletion layer capacitance per unit area= %1.2f*10**-9 F/cm**2\" %(CJ/10**-9)) #The answer provided in the textbook is wrong"
   ]
  },
  {
   "cell_type": "markdown",
   "metadata": {},
   "source": [
    "## Example number  7.9 , Page number 272"
   ]
  },
  {
   "cell_type": "code",
   "execution_count": 37,
   "metadata": {
    "collapsed": false
   },
   "outputs": [
    {
     "name": "stdout",
     "output_type": "stream",
     "text": [
      "Energy state difference= 0.407 eV\n",
      "\n",
      " a)phi_s= 4.957 eV\n",
      "\n",
      " b)Forward Bias (phi_B)= 0.3 eV\n",
      "\n",
      "   eV0= 0.657 eV\n"
     ]
    }
   ],
   "source": [
    "#importing module\n",
    "import math\n",
    "from __future__ import division\n",
    "\n",
    "#Variable declaration\n",
    "phi_m=4.3 #work function in eV\n",
    "xsi=4 #electron affinity in eV\n",
    "p0=10**17 #in cm**-3\n",
    "Na=10**17 #in cm**-3\n",
    "ni=1.5*10**10 #in cm**-3\n",
    "delE_fc=0.957 #in eV\n",
    "Const=0.0259 #constant value for kT in eV\n",
    "\n",
    "#Calculations\n",
    "delE_if=Const*math.log(p0/ni)\n",
    "\n",
    "#a) Before contact\n",
    "phi_s=xsi+delE_fc \n",
    "\n",
    "#b) After contact\n",
    "phi_B=phi_m-xsi \n",
    "eV0=phi_s-phi_m\n",
    "\n",
    "#Result\n",
    "print(\"Energy state difference= %.3f eV\\n\" %delE_if)\n",
    "print(\" a)phi_s= %.3f eV\\n\" %phi_s)\n",
    "print(\" b)Forward Bias (phi_B)= %.1f eV\\n\" %phi_B)\n",
    "print(\"   eV0= %.3f eV\" %eV0) #The answer provided in the textbook is wrong"
   ]
  },
  {
   "cell_type": "markdown",
   "metadata": {},
   "source": [
    "## Example number  7.9 , Page number 272"
   ]
  },
  {
   "cell_type": "code",
   "execution_count": 41,
   "metadata": {
    "collapsed": false
   },
   "outputs": [
    {
     "name": "stdout",
     "output_type": "stream",
     "text": [
      "electron doping concentration = 4.1*10**10 cm**-3\n",
      "\n",
      "workfuntion of the semiconductor = 4.34 eV\n",
      "\n",
      "workfuntion of the semiconductor on B side = 4.89 eV\n",
      "\n",
      "workfuntion of the semiconductor at 400K = 4.74 eV \n"
     ]
    }
   ],
   "source": [
    "#importing module\n",
    "import math\n",
    "from __future__ import division\n",
    "\n",
    "#Variable declaration\n",
    "ni=1.5*10**10 #in cm**-3\n",
    "delE_iF=0.0259 #in eV\n",
    "delE_cF=0.29 #in eV\n",
    "phi_G=4.8 #in eV\n",
    "impurity_conc=9.9*10**14 #in cm**-3\n",
    "affinity=0.55 #in eV\n",
    "Const=0.0259 #constant value for kT in eV\n",
    "x=4.05 #electron affinity for silicon in eV\n",
    "\n",
    "#Calculations\n",
    "#a)\n",
    "n0=ni*math.exp(delE_iF/Const) #in cm**-3\n",
    "phi_s=x+delE_cF \n",
    "\n",
    "#b)\n",
    "Ptype_conc=impurity_conc-n0 #net concentration of p-type on B side in cm**-3\n",
    "delE_iF_Bside=Const*math.log(Ptype_conc/ni) #in eV\n",
    "phi_s_Bside=x+delE_iF_Bside+affinity\n",
    "\n",
    "#d)\n",
    "ni1=8*10**12 #increased ni in cm**-3\n",
    "delE_iF1=Const*math.log(n0/ni1) #in eV\n",
    "phi_s1=x+(affinity-delE_iF1)\n",
    "eV0=phi_s-phi_m\n",
    "\n",
    "#Result\n",
    "print(\"electron doping concentration = %.1f*10**10 cm**-3\\n\" %(n0/10**10)) #The answer provided in the textbook is wrong\n",
    "print(\"workfuntion of the semiconductor = %.2f eV\\n\" %phi_s)\n",
    "print(\"workfuntion of the semiconductor on B side = %.2f eV\\n\" %phi_s_Bside) #The answer provided in the textbook is wrong\n",
    "print(\"workfuntion of the semiconductor at 400K = %.2f eV \" %phi_s1) #The answer provided in the textbook is wrong"
   ]
  },
  {
   "cell_type": "code",
   "execution_count": null,
   "metadata": {
    "collapsed": true
   },
   "outputs": [],
   "source": []
  }
 ],
 "metadata": {
  "kernelspec": {
   "display_name": "Python [Root]",
   "language": "python",
   "name": "Python [Root]"
  },
  "language_info": {
   "codemirror_mode": {
    "name": "ipython",
    "version": 3
   },
   "file_extension": ".py",
   "mimetype": "text/x-python",
   "name": "python",
   "nbconvert_exporter": "python",
   "pygments_lexer": "ipython3",
   "version": "3.5.2"
  }
 },
 "nbformat": 4,
 "nbformat_minor": 0
}
