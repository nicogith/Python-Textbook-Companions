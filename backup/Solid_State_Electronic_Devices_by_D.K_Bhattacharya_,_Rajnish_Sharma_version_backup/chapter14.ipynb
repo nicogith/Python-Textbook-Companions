{
 "cells": [
  {
   "cell_type": "markdown",
   "metadata": {},
   "source": [
    "# Chapter 14 : Rectifiers and Power Supplies"
   ]
  },
  {
   "cell_type": "markdown",
   "metadata": {},
   "source": [
    "## Example number 14.1, Page number 507"
   ]
  },
  {
   "cell_type": "code",
   "execution_count": 13,
   "metadata": {
    "collapsed": false
   },
   "outputs": [
    {
     "name": "stdout",
     "output_type": "stream",
     "text": [
      "(a)Maximum current Im is (A)=  20.0 mA\n",
      "(b)dc component of current Idc is (A)= 6.37*10**-3 A\n",
      "(c)rms value of current Irms (A)=  10.0 mA\n"
     ]
    }
   ],
   "source": [
    "#importing modules\n",
    "import math\n",
    "from __future__ import division\n",
    "\n",
    "#Variable declaration\n",
    "Vm=100     #voltage in V\n",
    "Rf=1*10**3 #resistance in series in ohm\n",
    "Rl=4*10**3 #load resistance in ohm\n",
    "\n",
    "#Calculatiions\n",
    "Im=Vm/(Rf+Rl)*10**3\n",
    "Idc=Im/math.pi\n",
    "Irms=Im/2\n",
    "\n",
    "#Result\n",
    "print(\"(a)Maximum current Im is (A)= \",Im,\"mA\")\n",
    "print(\"(b)dc component of current Idc is (A)= %0.2f*10**-3 A\" %Idc)\n",
    "print(\"(c)rms value of current Irms (A)= \",Irms,\"mA\")"
   ]
  },
  {
   "cell_type": "markdown",
   "metadata": {},
   "source": [
    "## Example number 14.2, Page number 508"
   ]
  },
  {
   "cell_type": "code",
   "execution_count": 7,
   "metadata": {
    "collapsed": false
   },
   "outputs": [
    {
     "name": "stdout",
     "output_type": "stream",
     "text": [
      "(a)Maximum current Im= 0.133 A\n",
      "\n",
      "(b)dc component of current Idc= 0.0849 A\n",
      "\n",
      "(c)rms value of current Irms= 0.094 A\n",
      "\n",
      "(d)Ripple Factor Y= 0.483\n"
     ]
    }
   ],
   "source": [
    "#importing modules\n",
    "import math\n",
    "from __future__ import division\n",
    "\n",
    "#Variable declaration\n",
    "Vm=200 #voltage in V\n",
    "Rf=500 #resistance in series in ohm\n",
    "Rl=1000 #load resistance in ohm\n",
    "\n",
    "#Calculatiions\n",
    "Im=Vm/(Rf+Rl) \n",
    "Idc=(2*Im)/math.pi\n",
    "Irms=Im/math.sqrt(2)\n",
    "Y=math.sqrt(((Irms/Idc)**2)-1)\n",
    "\n",
    "#Result\n",
    "print(\"(a)Maximum current Im= %0.3f A\\n\" %Im)\n",
    "print(\"(b)dc component of current Idc= %1.4f A\\n\" %Idc)\n",
    "print(\"(c)rms value of current Irms= %1.3f A\\n\" %Irms)\n",
    "print(\"(d)Ripple Factor Y= %1.3f\" %Y) #The answers vary due to round off error"
   ]
  },
  {
   "cell_type": "markdown",
   "metadata": {},
   "source": [
    "## Example number 14.3, Page number 509"
   ]
  },
  {
   "cell_type": "code",
   "execution_count": 5,
   "metadata": {
    "collapsed": false
   },
   "outputs": [
    {
     "name": "stdout",
     "output_type": "stream",
     "text": [
      "Ripple factor Y= 0.00056\n"
     ]
    }
   ],
   "source": [
    "#importing modules\n",
    "import math\n",
    "from __future__ import division\n",
    "\n",
    "#Variable declaration\n",
    "RL=500        #load resistance in ohm\n",
    "C1=100*10**-6 #capacitance in F\n",
    "C2=50*10**-6  #capacitance in F\n",
    "L=5           #in H\n",
    "f=50          #frequency in Hz\n",
    "\n",
    "#Calculatiions\n",
    "Y=0.216/(RL*C1*C2*L*(2*math.pi*f)**3)\n",
    "\n",
    "#Result\n",
    "print(\"Ripple factor Y= %0.5f\" %Y) #The answers vary due to round off error"
   ]
  },
  {
   "cell_type": "markdown",
   "metadata": {},
   "source": [
    "## Example number 14.4, Page number 517"
   ]
  },
  {
   "cell_type": "code",
   "execution_count": 14,
   "metadata": {
    "collapsed": false
   },
   "outputs": [
    {
     "name": "stdout",
     "output_type": "stream",
     "text": [
      "Minimum Power Rating p= 37.3 W\n"
     ]
    }
   ],
   "source": [
    "#importing modules\n",
    "import math\n",
    "from __future__ import division\n",
    "\n",
    "#Variable declaration\n",
    "\n",
    "Iz_min=1492.5*10**-3 #Zener diode current in Ampere\n",
    "Vz=25                #Zener diode voltage in Volt\n",
    "\n",
    "#Calculatiions\n",
    "Pmin=Vz*Iz_min\n",
    "\n",
    "#Result\n",
    "print(\"Minimum Power Rating p= %2.1f W\" %Pmin)"
   ]
  },
  {
   "cell_type": "code",
   "execution_count": null,
   "metadata": {
    "collapsed": true
   },
   "outputs": [],
   "source": []
  }
 ],
 "metadata": {
  "anaconda-cloud": {},
  "kernelspec": {
   "display_name": "Python [Root]",
   "language": "python",
   "name": "Python [Root]"
  },
  "language_info": {
   "codemirror_mode": {
    "name": "ipython",
    "version": 3
   },
   "file_extension": ".py",
   "mimetype": "text/x-python",
   "name": "python",
   "nbconvert_exporter": "python",
   "pygments_lexer": "ipython3",
   "version": "3.5.2"
  }
 },
 "nbformat": 4,
 "nbformat_minor": 0
}
