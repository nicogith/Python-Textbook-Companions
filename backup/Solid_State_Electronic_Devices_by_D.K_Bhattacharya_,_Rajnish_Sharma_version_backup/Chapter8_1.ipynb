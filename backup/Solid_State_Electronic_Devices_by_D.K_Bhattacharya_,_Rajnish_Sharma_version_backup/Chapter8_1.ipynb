{
 "cells": [
  {
   "cell_type": "markdown",
   "metadata": {},
   "source": [
    "#  Chapter 8 : Bipolar Junction Transistors"
   ]
  },
  {
   "cell_type": "markdown",
   "metadata": {},
   "source": [
    "## Example number 8.1 , Page number "
   ]
  },
  {
   "cell_type": "code",
   "execution_count": 1,
   "metadata": {
    "collapsed": false
   },
   "outputs": [
    {
     "name": "stdout",
     "output_type": "stream",
     "text": [
      "common-base current gain= 0.98\n"
     ]
    }
   ],
   "source": [
    "#importing module\n",
    "import math\n",
    "from __future__ import division\n",
    "\n",
    "#Variable declaration\n",
    "iC=21 #collector current in mA\n",
    "iE=21.4 #Emitter current in mA\n",
    "\n",
    "#Calculations\n",
    "alpha=iC/iE\n",
    "\n",
    "#Result\n",
    "print(\"common-base current gain= %1.2f\" %alpha)"
   ]
  },
  {
   "cell_type": "markdown",
   "metadata": {},
   "source": [
    "## Example number 8.2 , Page number 297"
   ]
  },
  {
   "cell_type": "code",
   "execution_count": 6,
   "metadata": {
    "collapsed": false
   },
   "outputs": [
    {
     "name": "stdout",
     "output_type": "stream",
     "text": [
      "Excess minority carrier concentration at x=WB/3 = 3.16*10**13 cm**-3\n",
      "\n",
      "Excess minority carrier concentration at x=0 = 4.74*10**13 cm**-3\n",
      "\n"
     ]
    }
   ],
   "source": [
    "#importing module\n",
    "import math\n",
    "from __future__ import division\n",
    "\n",
    "#Variable declaration\n",
    "ni=1.5*10**10 #in cm**3\n",
    "Na=5*10**16 #in cm**3\n",
    "Nd=5*10**18 #in cm**3\n",
    "VBE=0.6 #in V\n",
    "WB=3*10**-4 #in cm\n",
    "Const=0.026 #constant for kT/e in V\n",
    "\n",
    "#Calculations\n",
    "#a)\n",
    "np0=ni**2/Na #in cm**-3\n",
    "deln_x=(np0/WB)*(((math.exp(VBE/Const)-1)*(2/3*WB))-WB/3)\n",
    "\n",
    "#b)\n",
    "deln_x1=(np0/WB)*(math.exp(VBE/Const)-1)*WB\n",
    "\n",
    "#Result\n",
    "print(\"Excess minority carrier concentration at x=WB/3 = %1.2f*10**13 cm**-3\\n\" %round(deln_x/10**13,2)) #The answers vary due to round off error\n",
    "print(\"Excess minority carrier concentration at x=0 = %1.2f*10**13 cm**-3\\n\" %round(deln_x1/10**13,2)) #The answers vary due to round off error"
   ]
  },
  {
   "cell_type": "markdown",
   "metadata": {},
   "source": [
    "## Example number 8.3 , Page number 315"
   ]
  },
  {
   "cell_type": "code",
   "execution_count": 8,
   "metadata": {
    "collapsed": false
   },
   "outputs": [
    {
     "name": "stdout",
     "output_type": "stream",
     "text": [
      "Collector-emitter voltage at saturation= 0.16 V\n"
     ]
    }
   ],
   "source": [
    "#importing module\n",
    "import math\n",
    "from __future__ import division\n",
    "\n",
    "#Variable declaration\n",
    "alpha_F=0.98\n",
    "alpha_R=0.18\n",
    "IC=2 #current in mA\n",
    "IB=0.06 #current in mA\n",
    "Const=0.026 #constant for kT/e in V\n",
    "\n",
    "#Calculations\n",
    "VCE=Const*math.log((((IC*(1-alpha_R))+IB)/((alpha_F*IB)-((1-alpha_F)*IC)))*(alpha_F/alpha_R))\n",
    "\n",
    "#Result\n",
    "print(\"Collector-emitter voltage at saturation= %1.2f V\" %VCE)"
   ]
  },
  {
   "cell_type": "markdown",
   "metadata": {},
   "source": [
    "## Example number 8.4 , Page number 315"
   ]
  },
  {
   "cell_type": "code",
   "execution_count": 9,
   "metadata": {
    "collapsed": false
   },
   "outputs": [
    {
     "name": "stdout",
     "output_type": "stream",
     "text": [
      "Transconductannce= 0.025 mho\n",
      "\n",
      "Voltage gain= -75\n"
     ]
    }
   ],
   "source": [
    "#importing module\n",
    "import math\n",
    "from __future__ import division\n",
    "\n",
    "#Variable declaration\n",
    "RL=3 #load resistor in ohm\n",
    "hie=1*10**3 #in ohm\n",
    "hre=2*10**-4 #in mho\n",
    "hfe=25 #in mho\n",
    "hoe=15*10**-6 #in mho\n",
    "\n",
    "#Calculations\n",
    "gm=hfe/hie \n",
    "Ave=-gm*RL*10**3\n",
    "\n",
    "#Result\n",
    "print(\"Transconductannce= %0.3f mho\\n\" %gm)\n",
    "print(\"Voltage gain= %0.2i\" %Ave)"
   ]
  },
  {
   "cell_type": "markdown",
   "metadata": {},
   "source": [
    "## Example number 8.5 , Page number 316"
   ]
  },
  {
   "cell_type": "code",
   "execution_count": 16,
   "metadata": {
    "collapsed": false
   },
   "outputs": [
    {
     "name": "stdout",
     "output_type": "stream",
     "text": [
      "Total emitter-to-collector delay time= 84.6 ps\n",
      "\n",
      "cut-of frequency of transistor= 1.88 GHz\n"
     ]
    }
   ],
   "source": [
    "#importing module\n",
    "import math\n",
    "from __future__ import division\n",
    "\n",
    "#Variable declaration\n",
    "IE=1.5*10**-3 #in mA\n",
    "Cje=1.2*10**-12 #in F\n",
    "Dn=25 #in cm**2/s\n",
    "WB=0.4*10**-4 #in cm\n",
    "Wdc=2.5*10**-4 #in cm\n",
    "vs=10**7 #in cm/s\n",
    "Rc=25 #in ohm\n",
    "CBC=0.15*10**-12 #in F\n",
    "CS=0.12*10**-12 #in F\n",
    "Const=0.026 #constant for kT/e in V\n",
    "\n",
    "#Calculations\n",
    "Re=Const*(1/IE) #in ohm\n",
    "tau_e=Re*Cje #emitter-base junction charging in s\n",
    "tau_b=WB**2/(2*Dn) #transit time in the base in s\n",
    "tau_d=Wdc/vs #collector depletion region transit time in s\n",
    "tau_c=Rc*(CBC+CS) #collector capacitance charging time in s\n",
    "tau_D=tau_e+tau_b+tau_d+tau_c\n",
    "fT=1/(2*math.pi*(tau_D))\n",
    "\n",
    "\n",
    "#Result\n",
    "print(\"Total emitter-to-collector delay time= %0.1f ps\\n\" %round(tau_D/10**-12,1))\n",
    "print(\"cut-of frequency of transistor= %0.2f GHz\" %round(fT/10**9,2))"
   ]
  },
  {
   "cell_type": "markdown",
   "metadata": {},
   "source": [
    "## Example number 8.7 , Page number 319"
   ]
  },
  {
   "cell_type": "code",
   "execution_count": 20,
   "metadata": {
    "collapsed": false
   },
   "outputs": [
    {
     "name": "stdout",
     "output_type": "stream",
     "text": [
      "a) upper frequency limit= 1.91 GHz\n"
     ]
    }
   ],
   "source": [
    "#importing module\n",
    "import math\n",
    "from __future__ import division\n",
    "\n",
    "#Variable declaration\n",
    "Wb=0.5*10**-6 #width of base region in m\n",
    "Dp=15*10**-4 # in m**2/s\n",
    "\n",
    "#Calculations\n",
    "tau_n=Wb**2/(2*Dp) #in s\n",
    "tau_B=tau_n #in s\n",
    "fT=1/(2*math.pi*tau_B)\n",
    "\n",
    "\n",
    "#Result\n",
    "print(\"a) upper frequency limit= %1.2f GHz\" %round(fT/10**9,2))"
   ]
  }
 ],
 "metadata": {
  "kernelspec": {
   "display_name": "Python [Root]",
   "language": "python",
   "name": "Python [Root]"
  },
  "language_info": {
   "codemirror_mode": {
    "name": "ipython",
    "version": 3
   },
   "file_extension": ".py",
   "mimetype": "text/x-python",
   "name": "python",
   "nbconvert_exporter": "python",
   "pygments_lexer": "ipython3",
   "version": "3.5.2"
  }
 },
 "nbformat": 4,
 "nbformat_minor": 0
}
