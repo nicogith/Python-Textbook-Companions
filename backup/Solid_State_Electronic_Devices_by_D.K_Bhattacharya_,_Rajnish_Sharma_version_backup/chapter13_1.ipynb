{
 "cells": [
  {
   "cell_type": "markdown",
   "metadata": {},
   "source": [
    "# Chapter 13 : MICROWAVE DEVICES"
   ]
  },
  {
   "cell_type": "markdown",
   "metadata": {},
   "source": [
    "## Example number 13.1, Page number 480"
   ]
  },
  {
   "cell_type": "code",
   "execution_count": 31,
   "metadata": {
    "collapsed": false
   },
   "outputs": [
    {
     "name": "stdout",
     "output_type": "stream",
     "text": [
      "Drift velocity= 1*10**7\n",
      "current density= 320.000000 A/cm**2\n",
      "negative electron mobility= -3124 cm**2/Vs\n"
     ]
    }
   ],
   "source": [
    "#importing modules\n",
    "import math\n",
    "from __future__ import division\n",
    "\n",
    "#Variable declaration\n",
    "l=10*10**-6 #length in m\n",
    "f=10*10**9 #frequency in Hz\n",
    "n=2*10**14 # n type doping concentration in cm**-3\n",
    "e=1.6*10**-19 #in J\n",
    "E=3200 #electric field in V/cm\n",
    "\n",
    "#Calculatiions\n",
    "vd=l*f*10**2 #converting from m**2 to cm**2\n",
    "J=e*n*vd\n",
    "myu=-vd/E\n",
    "\n",
    "#Result\n",
    "print(\"Drift velocity= %.0f*10**7 cms**-1\" %round(vd/10**7,0))\n",
    "print(\"current density= %f A/cm**2\" %J) \n",
    "print(\"negative electron mobility= %d cm**2/Vs\" %myu) #The answer provided in the textbook is wrong"
   ]
  },
  {
   "cell_type": "markdown",
   "metadata": {},
   "source": [
    "# Example number 13.2, Page number 481"
   ]
  },
  {
   "cell_type": "code",
   "execution_count": 32,
   "metadata": {
    "collapsed": false
   },
   "outputs": [
    {
     "name": "stdout",
     "output_type": "stream",
     "text": [
      "Drift time= 1*10**-11 s\n",
      "Operating frequency= 50 GHz\n"
     ]
    }
   ],
   "source": [
    "#importing modules\n",
    "import math\n",
    "from __future__ import division\n",
    "\n",
    "#Variable declaration\n",
    "drift_length=2*10**-4 #in cm\n",
    "drift_velocity=2*10**7 #in cm/s\n",
    "\n",
    "#Calculatiions\n",
    "d=drift_length/drift_velocity\n",
    "f=(drift_velocity*10**-2)/(2*drift_length*10**-2)\n",
    "\n",
    "#Result\n",
    "print(\"Drift time= %.0f*10**-11 s\" %round(d*10**11,0))\n",
    "print(\"Operating frequency= %.0f GHz\" %round(f/10**9,0))"
   ]
  },
  {
   "cell_type": "markdown",
   "metadata": {},
   "source": [
    "# Example number 13.3, Page number 487"
   ]
  },
  {
   "cell_type": "code",
   "execution_count": 36,
   "metadata": {
    "collapsed": false
   },
   "outputs": [
    {
     "name": "stdout",
     "output_type": "stream",
     "text": [
      "avalanche-zone velocity is= 6.25*10**7 cm/s\n"
     ]
    }
   ],
   "source": [
    "#importing modules\n",
    "import math\n",
    "from __future__ import division\n",
    "\n",
    "#Variable declaration\n",
    "J=20*10**3 #in kA/cm**2\n",
    "e=1.6*10**-19 #in C\n",
    "Nd=2*10**15 #in cm**-3\n",
    "\n",
    "#Calculatiions\n",
    "vz=J/(e*Nd)\n",
    "\n",
    "#Result\n",
    "print(\"avalanche-zone velocity is= %.2f*10**7 cm/s\" %(vz/10**7))"
   ]
  },
  {
   "cell_type": "markdown",
   "metadata": {},
   "source": [
    "# Example number 13.4, Page number 488"
   ]
  },
  {
   "cell_type": "code",
   "execution_count": 44,
   "metadata": {
    "collapsed": false
   },
   "outputs": [
    {
     "name": "stdout",
     "output_type": "stream",
     "text": [
      "Breakdown voltage is= 154.37 V\n",
      "Breakdown electric field is=2.57*10**5 V/m\n"
     ]
    }
   ],
   "source": [
    "#importing modules\n",
    "import math\n",
    "from __future__ import division\n",
    "\n",
    "#Variable declaration\n",
    "e=1.6*10**-19 #in eV\n",
    "Nd=2.8*10**21 # donor doping concentration in m**-3\n",
    "L=6*10**-6 #length in m\n",
    "epsilon_s=8.854*10**-12*11.8 # in F/m\n",
    "\n",
    "#Calculatiions\n",
    "Vbd=(e*Nd*L**2)/epsilon_s\n",
    "Ebd=Vbd/L\n",
    "\n",
    "#Result#importing modules\n",
    "import math\n",
    "from __future__ import division\n",
    "\n",
    "#Variable declaration\n",
    "e=1.6*10**-19 #in eV\n",
    "Nd=2.8*10**21 # donor doping concentration in m**-3\n",
    "L=6*10**-6 #length in m\n",
    "epsilon_s=8.854*10**-12*11.8 # in F/m\n",
    "\n",
    "#Calculatiions\n",
    "Vbd=(e*Nd*L**2)/epsilon_s\n",
    "Ebd=Vbd/L\n",
    "\n",
    "#Result\n",
    "print(\"Breakdown voltage is= %.2f V\" %Vbd)#The answers vary due to round off error\n",
    "print(\"Breakdown electric field is=%.2f*10**5 V/m\" %round(Ebd/10**7,2))\n",
    "print(\"Breakdown voltage is= %.2f V\" %Vbd)#The answers vary due to round off error\n",
    "print(\"Breakdown electric field is=%.2f*10**5 V/m\" %round(Ebd/10**7,2))"
   ]
  },
  {
   "cell_type": "code",
   "execution_count": null,
   "metadata": {
    "collapsed": true
   },
   "outputs": [],
   "source": []
  }
 ],
 "metadata": {
  "kernelspec": {
   "display_name": "Python [Root]",
   "language": "python",
   "name": "Python [Root]"
  },
  "language_info": {
   "codemirror_mode": {
    "name": "ipython",
    "version": 3
   },
   "file_extension": ".py",
   "mimetype": "text/x-python",
   "name": "python",
   "nbconvert_exporter": "python",
   "pygments_lexer": "ipython3",
   "version": "3.5.2"
  }
 },
 "nbformat": 4,
 "nbformat_minor": 0
}
