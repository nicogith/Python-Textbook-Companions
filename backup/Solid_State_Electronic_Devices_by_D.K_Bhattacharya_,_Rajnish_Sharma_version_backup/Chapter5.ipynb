{
 "cells": [
  {
   "cell_type": "markdown",
   "metadata": {},
   "source": [
    "#  Chapter 5 : P - N Junction"
   ]
  },
  {
   "cell_type": "markdown",
   "metadata": {},
   "source": [
    "## Example number 5.1 , Page number 180"
   ]
  },
  {
   "cell_type": "code",
   "execution_count": 2,
   "metadata": {
    "collapsed": false
   },
   "outputs": [
    {
     "name": "stdout",
     "output_type": "stream",
     "text": [
      "rootD = 0.18 micro-m/h**-2\n",
      "\n",
      "Temperature at diffusion should be carried out= 1100 Celsius\n",
      "The temperature value was choosen by determing the value of T against root(D) in the figure of Diffusivity of acceptor impurities in silicon versus T\n"
     ]
    }
   ],
   "source": [
    "#importing module\n",
    "import math\n",
    "from __future__ import division\n",
    "\n",
    "#Variable declaration\n",
    "rho=10 #resistivity in ohm-cm\n",
    "myu_n=1300 #electron mobility in cm**2/V*s\n",
    "e=1.6*10**-19 #in eV\n",
    "Cs=5*10**18 #constant surface concentartion in cm**-3\n",
    "t=1 #in hour\n",
    "x=1 #depth in micro-m\n",
    "\n",
    "#Calculations\n",
    "sigma=1/rho #in (ohm-cm)**-1\n",
    "n=sigma/(myu_n*e) #in cm**-3\n",
    "n_Cs=n/Cs \n",
    "erfc1_y=n_Cs #error function\n",
    "y=2.75 #reference page 181 from fig 5.1.1. value obtained by plotting erfc1_y (Complementary error function) as a function of y\n",
    "rootD=x/(2*y*math.sqrt(t))\n",
    "T=1100 #reference page 168 from fig 5.10(b)\n",
    "\n",
    "#Result\n",
    "print(\"rootD = %.2f micro-m/h**-2\\n\" %rootD)\n",
    "print(\"Temperature at diffusion should be carried out= %i Celsius\" %T)\n",
    "print(\"The temperature value was choosen by determing the value of T against root(D) in the figure of Diffusivity of acceptor impurities in silicon versus T\")"
   ]
  },
  {
   "cell_type": "markdown",
   "metadata": {},
   "source": [
    "## Example number 5.2 , Page number 182"
   ]
  },
  {
   "cell_type": "code",
   "execution_count": 3,
   "metadata": {
    "collapsed": false
   },
   "outputs": [
    {
     "name": "stdout",
     "output_type": "stream",
     "text": [
      "built-in potential= 0.841 V\n"
     ]
    }
   ],
   "source": [
    "#importing module\n",
    "import math\n",
    "from __future__ import division\n",
    "\n",
    "#Variable declaration\n",
    "Na=5*10**18 #doping densities in cm**-3\n",
    "Nd=5*10**15 #in cm**-3\n",
    "ni=1.5*10**10 #in cm**-3\n",
    "Const=0.026#constant for kT/e in V\n",
    "\n",
    "#Calculations\n",
    "Vbi=Const*math.log((Na*Nd)/ni**2)\n",
    "\n",
    "#Result\n",
    "print(\"built-in potential= %0.3f V\" %Vbi) #The answers vary due to round off error"
   ]
  },
  {
   "cell_type": "markdown",
   "metadata": {},
   "source": [
    "## Example number 5.3 , Page number 182"
   ]
  },
  {
   "cell_type": "code",
   "execution_count": 7,
   "metadata": {
    "collapsed": false
   },
   "outputs": [
    {
     "name": "stdout",
     "output_type": "stream",
     "text": [
      "Total space-charge width= 0.466 micro-m\n"
     ]
    }
   ],
   "source": [
    "#importing module\n",
    "import math\n",
    "from __future__ import division\n",
    "\n",
    "#Variable declaration\n",
    "Na=5*10**18 #doping densities in cm**-3\n",
    "Nd=5*10**15 #in cm**-3\n",
    "ni=1.5*10**10 #in cm**-3 \n",
    "epsilon_s=11.7 #in F/cm\n",
    "epsilon_0=8.85*10**-14 #in F/cm\n",
    "Vbi=0.838 #built-in potential in V\n",
    "e=1.6*10**-19 #in J                \n",
    "\n",
    "#Calculations\n",
    "W=((2*epsilon_s*epsilon_0*Vbi*(Na+Nd))/(e*Na*Nd))**0.5\n",
    "\n",
    "#Result\n",
    "print(\"Total space-charge width= %0.3f micro-m\" %(W/10**-4))"
   ]
  },
  {
   "cell_type": "markdown",
   "metadata": {},
   "source": [
    "## Example number 5.4 , Page number 201"
   ]
  },
  {
   "cell_type": "code",
   "execution_count": 10,
   "metadata": {
    "collapsed": false
   },
   "outputs": [
    {
     "name": "stdout",
     "output_type": "stream",
     "text": [
      "Total space-charge width= 1.12 micro-m\n"
     ]
    }
   ],
   "source": [
    "#importing module\n",
    "import math\n",
    "from __future__ import division\n",
    "\n",
    "#Variable declaration\n",
    "Na=5*10**18 #doping densities in cm**-3\n",
    "Nd=5*10**15 #in cm**-3\n",
    "ni=1.5*10**10 #in cm**-3\n",
    "VR=4 #voltage in V\n",
    "epsilon_s=11.7 #in F/cm\n",
    "epsilon_0=8.85*10**-14 #in F/cm\n",
    "Vbi=0.838 #built-in potential in V\n",
    "e=1.6*10**-19 #in J\n",
    "\n",
    "#Calculations\n",
    "W=((2*epsilon_s*epsilon_0*(Vbi+VR)*(Na+Nd))/(e*Na*Nd))**0.5\n",
    "\n",
    "#Result\n",
    "print(\"Total space-charge width= %1.2f micro-m\" %(W/10**-4))"
   ]
  },
  {
   "cell_type": "markdown",
   "metadata": {},
   "source": [
    "## Example number 5.5 , Page number 143"
   ]
  },
  {
   "cell_type": "code",
   "execution_count": 12,
   "metadata": {
    "collapsed": false
   },
   "outputs": [
    {
     "name": "stdout",
     "output_type": "stream",
     "text": [
      "Junction Capacitance= 1*10**-8 F/cm**2\n",
      "\n",
      "Depletion Capacitance= 5 pF\n"
     ]
    }
   ],
   "source": [
    "#importing module\n",
    "import math\n",
    "from __future__ import division\n",
    "\n",
    "#Variable declaration\n",
    "Na=5*10**18 #doping densities in cm**-3\n",
    "Nd=5*10**15 #in cm**-3\n",
    "ni=1.5*10**10 #in cm**-3\n",
    "VR=3 #voltage in V\n",
    "epsilon_s=11.7 #in F/cm\n",
    "epsilon_0=8.85*10**-14 #in F/cm\n",
    "Vbi=0.838 #built-in potential in V\n",
    "e=1.6*10**-19 #in J\n",
    "A=5*10**-4 #Area in cm**2\n",
    "\n",
    "#Calculations\n",
    "Cdep=((e*epsilon_s*epsilon_0*Na*Nd)/(2*(Vbi+VR)*(Na+Nd)))**0.5 #junction capacitance \n",
    "Cdep1=Cdep*A\n",
    "\n",
    "#Result\n",
    "print(\"Junction Capacitance= %i*10**-8 F/cm**2\\n\" %(Cdep/10**-8))\n",
    "print(\"Depletion Capacitance= %i pF\" %(Cdep1/10**-12))"
   ]
  },
  {
   "cell_type": "markdown",
   "metadata": {},
   "source": [
    "## Example number 5.7 , Page number 205"
   ]
  },
  {
   "cell_type": "code",
   "execution_count": 14,
   "metadata": {
    "collapsed": false
   },
   "outputs": [
    {
     "name": "stdout",
     "output_type": "stream",
     "text": [
      "Breakdown voltage= 13.87 V\n"
     ]
    }
   ],
   "source": [
    "#importing module\n",
    "import math\n",
    "from __future__ import division\n",
    "\n",
    "#Variable declaration\n",
    "Na=10**17 #in cm**-3\n",
    "epsilon_0=8.85*10**-14 #in F/cm\n",
    "Emax=5*10**5 #peak electric field in V/cm\n",
    "e=1.6*10**-19 #in J\n",
    "epsilon_si=88.76*10**-14 #in F/cm\n",
    "\n",
    "#Calculations\n",
    "E=(Emax*Emax*epsilon_si)/(e*Na)\n",
    "\n",
    "#Result\n",
    "print(\"Breakdown voltage= %2.2f V\" %E) #The answers vary due to round off error"
   ]
  },
  {
   "cell_type": "markdown",
   "metadata": {},
   "source": [
    "## Example number 5.8 , Page number 206"
   ]
  },
  {
   "cell_type": "code",
   "execution_count": 18,
   "metadata": {
    "collapsed": false
   },
   "outputs": [
    {
     "name": "stdout",
     "output_type": "stream",
     "text": [
      "a)\n",
      " As 18.24 micro-m is less than the given length of the n-region i.e 22 micro-m, device will only have avalanche breakdown\n"
     ]
    }
   ],
   "source": [
    "#importing module\n",
    "import math\n",
    "from __future__ import division\n",
    "\n",
    "#Variable declaration\n",
    "Na=10**19 #doping densities in cm**-3\n",
    "Nd=10**15 #in cm**-3\n",
    "epsilon_s=88.76*10**-14 #in F/cm\n",
    "e=1.6*10**-19 #in J\n",
    "Vbi=300 #breakdown voltage in V\n",
    "\n",
    "#Calculations\n",
    "xn=((2*epsilon_s*Na*Vbi)/(e*Nd*(Na+Nd)))**0.5\n",
    "\n",
    "#Result\n",
    "print(\"a)\")\n",
    "print(\" As %.2f micro-m is less than the given length of the n-region i.e 22 micro-m, device will only have avalanche breakdown\" %(xn/10**-4))"
   ]
  },
  {
   "cell_type": "markdown",
   "metadata": {},
   "source": [
    "## Example number 5.9 , Page number 207"
   ]
  },
  {
   "cell_type": "code",
   "execution_count": 21,
   "metadata": {
    "collapsed": false
   },
   "outputs": [
    {
     "name": "stdout",
     "output_type": "stream",
     "text": [
      "a)\n",
      "\n",
      "Total concentration of holes= 5.45*10**11 cm**-3\n",
      "\n",
      "b)\n",
      "\n",
      "Additional voltage required= 0.9051 V\n"
     ]
    }
   ],
   "source": [
    "#importing module\n",
    "import math\n",
    "from __future__ import division\n",
    "\n",
    "#Variable declaration\n",
    "Na=10**15 #doping densities in cm**-3\n",
    "Nd=10**17 #in cm**-3\n",
    "V=0.5 #in V\n",
    "e=1.6*10**-19 #in J\n",
    "nn0=10**17 #in cm**-3\n",
    "ni=1.5*10**10 #in cm**-3\n",
    "Si_bandgap=1.1 #bandgap of silicon in eV\n",
    "Const=0.0259 #constant value for kT/e in J\n",
    "\n",
    "#Calculations\n",
    "#a)\n",
    "pn0=ni**2/nn0 #in cm**-3\n",
    "pn=pn0*math.exp((V)/Const) \n",
    "\n",
    "#b)\n",
    "\n",
    "Vbi=0.6949 #breakdown voltage in V\n",
    "Vp=Vbi-V #potential already present in V\n",
    "Vz=Si_bandgap-Vp #Zener breakdown voltage in V\n",
    "\n",
    "#Result\n",
    "print(\"a)\\n\")\n",
    "print(\"Total concentration of holes= %.2f*10**11 cm**-3\\n\" %(pn/10**11)) \n",
    "print(\"b)\\n\")\n",
    "print(\"Additional voltage required= %.4f V\" %Vz)"
   ]
  },
  {
   "cell_type": "markdown",
   "metadata": {},
   "source": [
    "## Example number 5.10 , Page number 208"
   ]
  },
  {
   "cell_type": "code",
   "execution_count": 23,
   "metadata": {
    "collapsed": false
   },
   "outputs": [
    {
     "name": "stdout",
     "output_type": "stream",
     "text": [
      "Donor Concentration= 3.447*10**18 cm**-3\n"
     ]
    }
   ],
   "source": [
    "#importing module\n",
    "import math\n",
    "from __future__ import division\n",
    "\n",
    "#Variable declaration\n",
    "Cj=12*10**-12 #Capacitance in F/cm**2\n",
    "A=10**-4 #junction Area in A/cm**2\n",
    "Vr=20 #in V\n",
    "e=1.6*10**-19 #in J\n",
    "epsilon_r=11.8 #in F/cm\n",
    "epsilon_0=8.85*10**-14 #in F/cm\n",
    "\n",
    "#Calculations\n",
    "Nd=((2*Cj)/A)**2*(Vr/(2*epsilon_r*epsilon_0*e))\n",
    "\n",
    "#Result\n",
    "print(\"Donor Concentration= %1.3f*10**18 cm**-3\" %(Nd/10**18))"
   ]
  },
  {
   "cell_type": "markdown",
   "metadata": {},
   "source": [
    "## Example number 5.11 , Page number 209"
   ]
  },
  {
   "cell_type": "code",
   "execution_count": 27,
   "metadata": {
    "collapsed": false
   },
   "outputs": [
    {
     "name": "stdout",
     "output_type": "stream",
     "text": [
      "Depletion capacitance per unit area= 1.804 nF/cm**2\n",
      "\n",
      "Width of depletion region= 5.74*10**-4 cm\n"
     ]
    }
   ],
   "source": [
    "#importing module\n",
    "import math\n",
    "from __future__ import division\n",
    "\n",
    "#Variable declaration\n",
    "Na=4.22*10**14 #doping densities in cm**-3\n",
    "Nd=4.22*10**16 #in cm**3\n",
    "e=1.6*10**-19 #in eV\n",
    "Vbi=0.65 #breakdown voltage in V\n",
    "ni=1.5*10**10 #in cm**-3\n",
    "epsilon_si=11.7 #in F/cm\n",
    "epsilon_0=8.85*10**-14 #in F/cm\n",
    "V=10 #applied voltage in V\n",
    "Const=0.0259 #value for kT/e in V\n",
    "\n",
    "#Calculations\n",
    "Nd=math.sqrt((math.exp(Vbi/Const)*ni**2)/100)\n",
    "Na=100*Nd\n",
    "W=(((2*epsilon_0*epsilon_si*(Vbi+V))*(Na+Nd))/(e*Na*Nd))**0.5\n",
    "Cj=(epsilon_0*epsilon_si)/W\n",
    "\n",
    "#Result\n",
    "print(\"Depletion capacitance per unit area= %1.3f nF/cm**2\\n\" %(Cj/10**-9)) #The answers vary due to round off error\n",
    "print(\"Width of depletion region= %1.2f*10**-4 cm\" %(W/10**-4)) #The answers vary due to round off error"
   ]
  }
 ],
 "metadata": {
  "kernelspec": {
   "display_name": "Python [Root]",
   "language": "python",
   "name": "Python [Root]"
  },
  "language_info": {
   "codemirror_mode": {
    "name": "ipython",
    "version": 3
   },
   "file_extension": ".py",
   "mimetype": "text/x-python",
   "name": "python",
   "nbconvert_exporter": "python",
   "pygments_lexer": "ipython3",
   "version": "3.5.2"
  }
 },
 "nbformat": 4,
 "nbformat_minor": 0
}
