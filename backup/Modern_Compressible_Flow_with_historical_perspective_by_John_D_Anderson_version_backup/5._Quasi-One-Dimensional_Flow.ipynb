{
 "cells": [
  {
   "cell_type": "markdown",
   "metadata": {},
   "source": [
    "# Chapter 5: Quasi-One-Dimensional Flow"
   ]
  },
  {
   "cell_type": "markdown",
   "metadata": {},
   "source": [
    "## Example 5.1"
   ]
  },
  {
   "cell_type": "code",
   "execution_count": 1,
   "metadata": {
    "collapsed": false
   },
   "outputs": [
    {
     "name": "stdout",
     "output_type": "stream",
     "text": [
      "Converging section\n",
      "M = 0.097\n",
      "p = 9.94 atm\n",
      "T = 299.4 K\n",
      "u = 33.64 m/s\n",
      "Divering section\n",
      "M = 3.368\n",
      "p = 0.1584 atm\n",
      "T = 91.77 K\n",
      "u = 646.74 m/s\n"
     ]
    }
   ],
   "source": [
    "# Example 5.1.py\n",
    "# Consider the subsonic-supersonic flow through a convergent-divergent nozzle. The\n",
    "# reservoir pressure and temperature are 10 atm and 300 K, repectively. There are \n",
    "# two locations in the nozzle where A/Astar = 6, one in the convergent section and\n",
    "# the other in the divergent section. At each location calculate M, p, T, u.\n",
    "\n",
    "# Variable declaration\n",
    "po = 10.0         # reservoir pressure (in atm)\n",
    "To = 300.0        # reservoir temperature (in K)\n",
    "A_by_Astar = 6.0  # area ratio\n",
    "gamma = 1.4       # ratio of specific heat\n",
    "R = 287.0         # gas constant (in J/ Kg K)\n",
    "\n",
    "# Calculations\n",
    "\n",
    "# from table A1 for subsonic flow with A/Astar = 6.0\n",
    "Msub = 0.097              # mach number in converging section\n",
    "po_by_p = 1.006           # po/p in converging section\n",
    "To_by_T = 1.002           # To/T in converging section\n",
    "\n",
    "psub = 1 / po_by_p * po       # pressure (in atm) in converging section\n",
    "Tsub = 1 / To_by_T * To       # temperature (in K) in converging section\n",
    "asub = pow(gamma*R*Tsub, 0.5) # speed of sound (in m/s) in converging section\n",
    "usub = Msub*asub              # velocity (in m/s) in converging section\n",
    "\n",
    "# from table A1 for supersonic flow with A/Astar = 6.0\n",
    "Msup = 3.368              # mach number in diverging section\n",
    "po_by_p = 63.13           # po/p in diverging section\n",
    "To_by_T = 3.269           # To/T in diverging section\n",
    "\n",
    "psup = 1 / po_by_p * po       # pressure (in atm) in diverging section\n",
    "Tsup = 1 / To_by_T * To       # temperature (in K) in diverging section\n",
    "asup = pow(gamma*R*Tsup, 0.5) # speed of sound (in m/s) in diverging section\n",
    "usup = Msup*asup              # velocity (in m/s) in diverging section\n",
    "\n",
    "\n",
    "# Results\n",
    "print \"Converging section\"\n",
    "print \"M = %.3f\" %(Msub)\n",
    "print \"p = %.2f atm\" %(psub)\n",
    "print \"T = %.1f K\" %(Tsub)\n",
    "print \"u = %.2f m/s\" %(usub)\n",
    "\n",
    "print \"Divering section\"\n",
    "print \"M = %.3f\" %(Msup)\n",
    "print \"p = %.4f atm\" %(psup)\n",
    "print \"T = %.2f K\" %(Tsup)\n",
    "print \"u = %.2f m/s\" %(usup)\n",
    "\n",
    "\n"
   ]
  },
  {
   "cell_type": "markdown",
   "metadata": {},
   "source": [
    "## Example 5.2"
   ]
  },
  {
   "cell_type": "code",
   "execution_count": 2,
   "metadata": {
    "collapsed": false
   },
   "outputs": [
    {
     "name": "stdout",
     "output_type": "stream",
     "text": [
      "Area ratio required 2.637\n",
      "Reservoir pressure required 17.09 atm\n",
      "Reservoir temperature required 648.0 K\n"
     ]
    }
   ],
   "source": [
    "# Example 5.2.py\n",
    "# A supersonic wind tunnel is designed to produce Mach 2.5 flow in the test section\n",
    "# with standard sea level conditions. Calculate the exit area ratio and reservoir\n",
    "# conditions necessary to achieve these design conditions.\n",
    "\n",
    "# Variable declaration\n",
    "Me = 2.5          # exit mach number\n",
    "pe = 1.0          # sea level pressure (in atm)\n",
    "Te = 288.0        # sea level temperature (in K) \n",
    "# Calculations\n",
    "\n",
    "# from table A1 for Me = 2.5\n",
    "Ae_by_Astar = 2.637        # Ae/Astar\n",
    "po_by_pe = 17.09           # po/p \n",
    "To_by_Te = 2.25            # To/T \n",
    "\n",
    "po = po_by_pe * pe         # reservoir pressure (in atm)\n",
    "To = To_by_Te * Te         # reservoir temperature (in K)\n",
    "\n",
    "# Results\n",
    "print \"Area ratio required %.3f\" %(Ae_by_Astar)\n",
    "print \"Reservoir pressure required %.2f atm\" %(po)\n",
    "print \"Reservoir temperature required %.1f K\" %(To)"
   ]
  },
  {
   "cell_type": "markdown",
   "metadata": {},
   "source": [
    "## Example 5.3"
   ]
  },
  {
   "cell_type": "code",
   "execution_count": 3,
   "metadata": {
    "collapsed": false
   },
   "outputs": [
    {
     "name": "stdout",
     "output_type": "stream",
     "text": [
      "Exit mach number 5.21\n",
      "Exit velocity 3925.91 m/s\n",
      "Mass flow rate 485.27 Kg/s\n",
      "Area of the exit 48.41 m^2\n"
     ]
    }
   ],
   "source": [
    "# Example 5.3.py\n",
    "# Consider a rocket engine burning hydrogen and oxygen; combustion chamber temper-\n",
    "# ature and pressure are 3571 K and 25 atm, respectively. The molecular weight of\n",
    "# the chemically reacting gas in the combustion chamber is 16.0 and gamma = 1.22.\n",
    "# The pressure at the exit of the convergent-divergent rocket nozzle is 1.174*10^-2\n",
    "# atm. The area of the throat is 0.4 m^2. Assuming a calorifically perfect gas, \n",
    "# calculate (a) the exit mach number (b) the exit velocity (c) the mass through the\n",
    "# nozzle and (d) the area of the exit.\n",
    "\n",
    "# Variable declaration\n",
    "po = 25.0           # combustion chamber pressure (in atm)\n",
    "To = 3571.0         # combustion chamber temperature (in K)\n",
    "pe = 1.174e-2       # pressure at the exit of the nozzle (in atm)\n",
    "Astar = 0.4         # throat area (in m^2)\n",
    "gamma = 1.22        # ratio of specific heats\n",
    "mol_wt = 16.0       # molecular weight (in gms)\n",
    "\n",
    "# Calculations\n",
    "\n",
    "# part (a)\n",
    "Me = pow(2/(gamma-1) *(pow(po/pe,(gamma-1)/gamma) - 1), 0.5) # Exit mach number\n",
    "\n",
    "# part (b)\n",
    "Te_by_To = pow(pe/po, (gamma-1)/gamma) # Te/To\n",
    "Te = Te_by_To * To                     # exit temperature (in K)\n",
    "\n",
    "R = 8314.0/mol_wt                      # gas constant (in J/Kg K)\n",
    "ae = pow(gamma*R*Te, 0.5)              # speed of sound at exit (in m/s)\n",
    "ve = Me * ae                           # velocity at exit (in m/s)\n",
    "\n",
    "# part (c)\n",
    "rhoo = po*101325/R/To                            # density at reservoir (in Kg/m^3) \n",
    "rhostar_by_rhoo = pow(2.0/(gamma+1),1/(gamma-1)) # rhostar/rhoo\n",
    "rhostar = rhostar_by_rhoo * rhoo                 # rhostar, throat density (in Kg/m^3)\n",
    "\n",
    "Tstar_by_To = 2.0/(gamma+1)                      # Tstar/To\n",
    "Tstar = Tstar_by_To * To                         # Tstar, throat temperature (in K)\n",
    "astar = pow(gamma*R*Tstar, 0.5)                  # speed of sound at throat (in m/s)\n",
    "mass = rhostar*Astar*astar                       # mass flow rate at throat (in Kg/s)\n",
    "\n",
    "# part (d)\n",
    "rhoe = pe*101325/R/Te   # density at exit (in Kg/m^3)                         \n",
    "Ae = mass/rhoe/ve       # exit area (in m^2)\n",
    "\n",
    "# Results \n",
    "\n",
    "print \"Exit mach number %.2f\" %(Me)\n",
    "print \"Exit velocity %.2f m/s\" %(ve)\n",
    "print \"Mass flow rate %.2f Kg/s\" %(mass)\n",
    "print \"Area of the exit %.2f m^2\" %(Ae)"
   ]
  },
  {
   "cell_type": "markdown",
   "metadata": {},
   "source": [
    "## Example 5.4"
   ]
  },
  {
   "cell_type": "code",
   "execution_count": 4,
   "metadata": {
    "collapsed": false
   },
   "outputs": [
    {
     "name": "stdout",
     "output_type": "stream",
     "text": [
      "Mach number at exit 0.28\n",
      "Mach number at throat 0.72\n"
     ]
    }
   ],
   "source": [
    "# Example 5.4.py\n",
    "# Consider the flow through a convergent-divergent duct with an exit to throat area\n",
    "# ratio of 2. The reservoir pressure is 1 atm, and the exit pressure is 0.95 atm.\n",
    "# Calculate the mach numbers at the throat and at the exit.\n",
    "\n",
    "# Variable declaration\n",
    "po = 1.0           # reservoir pressure (in atm)\n",
    "pe = 0.95          # pressure at the exit (in atm)\n",
    "Ae_by_At = 2.0  # ratio of exit to throat area\n",
    "\n",
    "# Calculations\n",
    "# from table A1 for po/pe = 1.053\n",
    "Me = 0.28           # mach number at exit\n",
    "Ae_by_Astar = 2.17  # nearest entry\n",
    "\n",
    "At_by_Astar = 1 / Ae_by_At * Ae_by_Astar # At/Astar = At/Ae * Ae/Astar\n",
    "\n",
    "# from table A1 for At/A* = 1.085\n",
    "Mt = 0.72           # mach number at throat\n",
    "\n",
    "\n",
    "# Results \n",
    "print \"Mach number at exit %.2f\" %(Me)\n",
    "print \"Mach number at throat %.2f\" %(Mt)"
   ]
  },
  {
   "cell_type": "markdown",
   "metadata": {},
   "source": [
    "## Example 5.5"
   ]
  },
  {
   "cell_type": "code",
   "execution_count": 5,
   "metadata": {
    "collapsed": false
   },
   "outputs": [
    {
     "name": "stdout",
     "output_type": "stream",
     "text": [
      "Exit to reservoir required pressure ratio is 0.9\n"
     ]
    }
   ],
   "source": [
    "# Example 5.5.py\n",
    "# Consider a convergent divergent duct with an exit to throat area ratio of 1.6. \n",
    "# Calculate the exit to reservoir pressure ratio required to achieve sonic flow\n",
    "# at the throat, but subsonic flow everywhere else.\n",
    "\n",
    "# Variable declaration\n",
    "Ae_by_At = 1.6  # ratio of exit to throat area\n",
    "\n",
    "# Calculations\n",
    "\n",
    "# since M = 1 at the throat Mt = Astar\n",
    "# Ae/At = Ae/Astar = 1.6\n",
    "\n",
    "# from table A1 for Ae/Astar = 1.6\n",
    "po_by_pe = 1.1117       # po/pe\n",
    "pe_by_po = 1/po_by_pe   # pe/po\n",
    "\n",
    "\n",
    "# Results \n",
    "print \"Exit to reservoir required pressure ratio is %.1f\" %(pe_by_po)"
   ]
  },
  {
   "cell_type": "markdown",
   "metadata": {},
   "source": [
    "## Example 5.6"
   ]
  },
  {
   "cell_type": "code",
   "execution_count": 6,
   "metadata": {
    "collapsed": false
   },
   "outputs": [
    {
     "name": "stdout",
     "output_type": "stream",
     "text": [
      "Exit to reservoir pressure ratio is 0.585\n"
     ]
    }
   ],
   "source": [
    "# Example 5.6.py\n",
    "# Consider a convergent divergent nozzle with an exit to throat area ratio of 3.\n",
    "# A normal shock wave is inside the divergent portion at a location where the local\n",
    "# area ratio is A/At = 2.0. Calculate the exit to reservoir pressure ratio.\n",
    "\n",
    "# Variable declaration\n",
    "Ae_by_At = 3.0 # ratio of exit to throat area\n",
    "\n",
    "# Calculations\n",
    "\n",
    "# from table A1 for A/At = 2.0\n",
    "M1 = 2.2             # mach number in front the shock\n",
    "\n",
    "# from table A2 for M1 = 2.2\n",
    "M2 = 0.5471          # mach number behind the shock\n",
    "po2_by_po1 = 0.6281  # stagnation pressure ratio accross the shock\n",
    "\n",
    "# from table A1 for M2 = 0.5471\n",
    "A2_by_A2star = 1.27  # A2/A2star\n",
    "At_by_A2 = 1/2.0     # At/A2\n",
    "Ae_by_A2star = Ae_by_At * At_by_A2 * A2_by_A2star #Ae/A2star = Ae/At * At/A2 * A2/A2star\n",
    "\n",
    "# from table A1 for Ae/A2star = 1.905\n",
    "Me = 0.32            # exit mach number\n",
    "poe_by_pe = 1.074    # poe/pe\n",
    "\n",
    "# po = po1 and poe = po2\n",
    "pe_by_po = 1 / poe_by_pe * po2_by_po1 # pe/po = pe/poe * poe/po2 * po2/po1 * po1/po\n",
    "\n",
    "# Results \n",
    "print \"Exit to reservoir pressure ratio is %.3f\" %(pe_by_po)"
   ]
  },
  {
   "cell_type": "markdown",
   "metadata": {},
   "source": [
    "## Example 5.7"
   ]
  },
  {
   "cell_type": "code",
   "execution_count": 7,
   "metadata": {
    "collapsed": false
   },
   "outputs": [
    {
     "name": "stdout",
     "output_type": "stream",
     "text": [
      "Ratio of diffuser throat area to nozzle throat area 2.00\n",
      "Ratio of total pressure at the diffuser exit to the reservoir pressure, 0.599\n"
     ]
    }
   ],
   "source": [
    "# Example 5.7.py\n",
    "# Consider the wind tunnel described in example 5.2. Estimate the ratio of diffuser\n",
    "# throat area to nozzle throat area required to allow the tunnel to start. Also, \n",
    "# assuming that the diffuser efficiency is 1.2 after the tunnel has started, calculate\n",
    "# the pressure ratio across the tunnel necessary for running i.e. calculate the ratio\n",
    "# of total pressure at the diffuser exit to the reservoir pressure.\n",
    "\n",
    "# Variable declaration\n",
    "\n",
    "M = 2.5      # mach number before the shock\n",
    "eta_d = 1.2  # diffuser efficiency\n",
    "\n",
    "# Calculations\n",
    "\n",
    "# from table for M = 2.5\n",
    "po2_by_po1 = 0.499              # po2/po1\n",
    "At2_by_At1 = 1 / po2_by_po1     # At2/At1 = po1/po2\n",
    " \n",
    "Pdo_by_po = eta_d * po2_by_po1  # pdo/po\n",
    "\n",
    "# Results\n",
    "print \"Ratio of diffuser throat area to nozzle throat area %.2f\" %(At2_by_At1)\n",
    "print \"Ratio of total pressure at the diffuser exit to the reservoir pressure, %.3f\"%(Pdo_by_po)"
   ]
  }
 ],
 "metadata": {
  "kernelspec": {
   "display_name": "Python 2",
   "language": "python",
   "name": "python2"
  },
  "language_info": {
   "codemirror_mode": {
    "name": "ipython",
    "version": 2
   },
   "file_extension": ".py",
   "mimetype": "text/x-python",
   "name": "python",
   "nbconvert_exporter": "python",
   "pygments_lexer": "ipython2",
   "version": "2.7.6"
  }
 },
 "nbformat": 4,
 "nbformat_minor": 0
}
