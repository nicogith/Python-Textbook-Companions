{
 "cells": [
  {
   "cell_type": "markdown",
   "metadata": {
    "collapsed": true
   },
   "source": [
    "# Chapter 1. Compressible Flow-Some History and Introductory Thoughts"
   ]
  },
  {
   "cell_type": "markdown",
   "metadata": {
    "collapsed": true
   },
   "source": [
    "## Example 1.1"
   ]
  },
  {
   "cell_type": "code",
   "execution_count": 1,
   "metadata": {
    "collapsed": false
   },
   "outputs": [
    {
     "name": "stdout",
     "output_type": "stream",
     "text": [
      "Fractional change in pressure is 0.015 or 1.5 percent\n"
     ]
    }
   ],
   "source": [
    "# Example 1.1.py\n",
    "# Consider the low-speed flow of air over an airplane wing at standard \n",
    "# sea level conditions; the free-stream velocity far ahead of the wing \n",
    "# is 100 mi/h. The flow accelerates over the wing, reaching a maximum \n",
    "# velocity of 150 mi/h at some point on the wing. What is the percentage\n",
    "# pressure change between this point and the free stream?\n",
    "\n",
    "\n",
    "# Variable declaration\n",
    "rho = 0.002377     # density at sea level (slug/ft^3)\n",
    "p_1 = 2116.0       # pressure at sea level (lb/ft^2)\n",
    "v_1 = 100.0        # velocity far ahead of the wing (mi/h)\n",
    "v_2 = 150.0        # velocity at some point on the wing (mi/h)\n",
    "\n",
    "# Calculations \n",
    "\n",
    "u_1 = v_1 * 88.0/60.0 # converting v_1 in ft/s\n",
    "u_2 = v_2 * 88.0/60.0 # converting v_2 in ft/s\n",
    "\n",
    "delP = 0.5*rho*(u_2*u_2 - u_1*u_1) # p_1 - p_2 from Bernoulli's equation\n",
    "fracP = delP/p_1 # fractional change in pressure with respect to freestream\n",
    "\n",
    "# Result \n",
    "print \"Fractional change in pressure is %.3f or %.1f percent\" %(fracP, fracP*100)\n"
   ]
  },
  {
   "cell_type": "markdown",
   "metadata": {
    "collapsed": true
   },
   "source": [
    "## Example 1.2"
   ]
  },
  {
   "cell_type": "code",
   "execution_count": 2,
   "metadata": {
    "collapsed": false
   },
   "outputs": [
    {
     "name": "stdout",
     "output_type": "stream",
     "text": [
      "Total mass stored is 234.6 Kg\n"
     ]
    }
   ],
   "source": [
    "# Example 1.2.py\n",
    "# A pressure vessel that has a volume of 10 m^3 is used to store high\n",
    "# pressure air for operating a supersonic wind tunnel. If the air pressure \n",
    "# and temperature inside the vessel are 20 atm and 300 K, respectively,\n",
    "# what is the mass of air stored in the vessel?\n",
    "\n",
    "# Variable declaration\n",
    "V = 10             # volume of vessel (m^3)\n",
    "p = 20.0           # pressure (atm)\n",
    "T = 300            # temperature (K)\n",
    "\n",
    "R = 287.0          # gas constant (J/Kg/K)\n",
    "\n",
    "# Calculations \n",
    "p = p * 101000.0   # units conversion to N/m^2\n",
    "rho = p/R/T        # from ideal gas equation of state\n",
    "m = V * rho        # total mass volume * density\n",
    "\n",
    "\n",
    "# Result \n",
    "print \"Total mass stored is %.1f Kg\" %(m)\n"
   ]
  },
  {
   "cell_type": "markdown",
   "metadata": {
    "collapsed": true
   },
   "source": [
    "## Example 1.3"
   ]
  },
  {
   "cell_type": "code",
   "execution_count": 3,
   "metadata": {
    "collapsed": false
   },
   "outputs": [
    {
     "name": "stdout",
     "output_type": "stream",
     "text": [
      "Isothermal compressibility for air at 0.5 atm is 2.00 atm^-1 or 1.97e-05 m^2/N or 9.45e-04 ft^2/lb\n"
     ]
    }
   ],
   "source": [
    "# Example 1.3.py\n",
    "# Calculate the isothermal compressibility for air at a pressure of 0.5 atm.\n",
    "\n",
    "# Variable declaration\n",
    "p = 0.5           # pressure (atm)\n",
    "p_si = 0.5*101325 # pressure (N/m^2)\n",
    "p_eng = 0.5*2116  # pressure (lb/ft^2)\n",
    "\n",
    "# Calculations \n",
    "tau_atm = 1/p       # isothermal compressibility in atm^-1\n",
    "tau_si = 1/p_si     # isothermal compressibility in m^2/N\n",
    "tau_eng = 1/p_eng   # isothermal compressibility in ft^2/lb\n",
    "\n",
    "# Result \n",
    "print \"Isothermal compressibility for air at %.1f atm is %.2f atm^-1 or %.2e m^2/N or %.2e ft^2/lb\" %(p, tau_atm, tau_si, tau_eng)\n"
   ]
  },
  {
   "cell_type": "markdown",
   "metadata": {
    "collapsed": true
   },
   "source": [
    "## Example 1.4"
   ]
  },
  {
   "cell_type": "code",
   "execution_count": 4,
   "metadata": {
    "collapsed": false
   },
   "outputs": [
    {
     "name": "stdout",
     "output_type": "stream",
     "text": [
      "Total internal energy is 5.05e+07 J\n"
     ]
    }
   ],
   "source": [
    "# Example 1.4.py\n",
    "# For thre pressure vessel in Example 1.2, calculate the total internal\n",
    "# energy of the gas stored in the vessel.\n",
    "\n",
    "# Variable declaration from example 1.2\n",
    "V = 10             # volume of vessel (m^3)\n",
    "p = 20.0           # pressure (atm)\n",
    "T = 300            # temperature (Kelvin)\n",
    "\n",
    "R = 287.0          # gas constant (J/Kg/K)\n",
    "gamma = 1.4        # ratio of specific heats for air\n",
    "\n",
    "# Calculations \n",
    "cv = R / (gamma-1) # specific heat capacity at constant volume(J/Kg K)\n",
    "e = cv * T         # internal energy per Kg (J/Kg)\n",
    "p = p * 101000.0   # units conversion to N/m^2\n",
    "rho = p/R/T        # from ideal gas equation of state (Kg/m^3)\n",
    "m = V * rho        # total mass = volume * density (Kg)\n",
    "E = m*e            # total energy in J\n",
    "\n",
    "# Result \n",
    "print \"Total internal energy is %.2e J\" %(E)\n"
   ]
  },
  {
   "cell_type": "markdown",
   "metadata": {
    "collapsed": true
   },
   "source": [
    "## Example 1.5"
   ]
  },
  {
   "cell_type": "code",
   "execution_count": 5,
   "metadata": {
    "collapsed": false
   },
   "outputs": [
    {
     "name": "stdout",
     "output_type": "stream",
     "text": [
      "Total change in entropy is 1.167e+05 J/K\n"
     ]
    }
   ],
   "source": [
    "# Example 1.5.py\n",
    "# Consider the air in the pressure vessel in Example 1.2. Let us now heat\n",
    "# the gas in the vessel. Enough heat is added to increase the temperature\n",
    "# to 600 K. Calculate the change in entropy of the air inside the vessel.\n",
    "\n",
    "# Variable declaration from example 1.2\n",
    "V = 10             # volume of vessel (m^3)\n",
    "p = 20.0           # pressure (atm)\n",
    "T = 300.0          # initial temperature (K)\n",
    "T2 = 600.0         # final temperature (Kelvin)\n",
    "R = 287.0          # gas constant (J/Kg/K)\n",
    "gamma = 1.4        # ratio of specific heats for air\n",
    "\n",
    "\n",
    "# Calculations \n",
    "p2_by_p = T2/T     # p2/p, at constant volume p/T = constant \n",
    "\n",
    "cv = R / (gamma-1) # specific heat capacity at constant volume (J/Kg K)\n",
    "cp = cv + R        # specific heat capacity at constant pressure (J/Kg K)\n",
    "\n",
    "p = p * 101000.0   # units conversion to N/m^2\n",
    "rho = p/R/T        # from ideal gas equation of state (Kg/m^3)\n",
    "m = V * rho        # total mass = volume * density (Kg)\n",
    "\n",
    "from numpy import log                 # importing log\n",
    "del_s = cp*log(T2/T) - R*log(p2_by_p) # change in entropy per unit mass (J/ Kg K)\n",
    "total_del_s = m*del_s                 # total change in entropy (J/K)\n",
    "\n",
    "# Result \n",
    "print \"Total change in entropy is %.3e J/K\" %(total_del_s)\n"
   ]
  },
  {
   "cell_type": "markdown",
   "metadata": {
    "collapsed": true
   },
   "source": [
    "## Example 1.6"
   ]
  },
  {
   "cell_type": "code",
   "execution_count": 6,
   "metadata": {
    "collapsed": false
   },
   "outputs": [
    {
     "name": "stdout",
     "output_type": "stream",
     "text": [
      "Pressure at the exit is 0.372 atm\n"
     ]
    }
   ],
   "source": [
    "# Example 1.6.py\n",
    "# Consider the flow through a rocket engine nozzle. Assume that the gas flow \n",
    "# through the nozzle in an isentropic expansion of a calorically perfect gas.\n",
    "# In the combustion chamber, the gas which results from the combustion of the \n",
    "# rocket fuel and oxidizer is at a pressure and temperature of 15 atm and \n",
    "# 2500 K, respectively, the molecular weight and specific heat at constant \n",
    "# pressure of the combustion gas are 12 and 4157 J/kg K, respectively. The gas\n",
    "# expands to supersonic speed through the nozzle, with temperature of 1350 K at\n",
    "# the nozzle exit. Calculate the pressure at the exit.\n",
    "\n",
    "\n",
    "# Variable declaration\n",
    "pc = 15.0          # pressure combustion chamber (atm)\n",
    "Tc = 2500.0        # temperature combustion chamber (K)\n",
    "mol_wt = 12.0      # molecular weight (gm)\n",
    "cp = 4157.0        # specific heat at constant pressure (J/Kg/K)\n",
    "\n",
    "Tn  = 1350.0       # temperature at nozzle exit (K)\n",
    "\n",
    "# Calculations \n",
    "R = 8314.0/mol_wt  # gas constant = R_prime/mo_wt, R_prime = 8314 J/K\n",
    "cv = cp - R        # specific heat at constant volume (J/Kg/K)\n",
    "gamma = cp/cv      # ratio of specific heat\n",
    "\n",
    "pn_by_pc = pow(Tn/Tc, gamma/(gamma-1)) # ratio of pressure for isentropic process, pn/pc\n",
    "\n",
    "pn = pc * pn_by_pc # pn = pc * pn/pc\n",
    "\n",
    "# Result \n",
    "print \"Pressure at the exit is %.3f atm\" %(pn)\n"
   ]
  },
  {
   "cell_type": "markdown",
   "metadata": {
    "collapsed": true
   },
   "source": [
    "## Example 1.7"
   ]
  },
  {
   "cell_type": "code",
   "execution_count": 7,
   "metadata": {
    "collapsed": false
   },
   "outputs": [
    {
     "name": "stdout",
     "output_type": "stream",
     "text": [
      "Total Lift per unit span = 7197 lb\n",
      "Total Drag per unit span = 1346 lb\n"
     ]
    }
   ],
   "source": [
    "# Example 1.7.py\n",
    "# A flat plate with a chord length of 3 ft and an infinite span(perpendicular to\n",
    "# the page in fig 1.5) is immersed in a Mach 2 flow at standard sea level \n",
    "# conditions at an angle of attack of 10 degrees. The pressure distribution\n",
    "# over the plate is as follows: upper surface, p2=constant=1132 lb/ft^2; lower\n",
    "# surface, p3=constant=3568 lb/ft^2. The local shear stress is given by tau_w =\n",
    "# 13/xeta^0.2, where tau_w is in pounds per square feet and xeta is the distance\n",
    "# in feet along the plate from the leading edge. Assume the distribution of \n",
    "# tau_w over the top and bottom surfaces is the same. Both the pressure and\n",
    "# shear disributions are sketched qualitatively in fig. 1.5. Calculate the lift\n",
    "# and drag per unit span on the plate.\n",
    "\n",
    "from numpy import sin, cos, pi # importing sin, cos and pi\n",
    "\n",
    "# Variable declaration\n",
    "M1 = 2.0        # mach number freestream\n",
    "p1 = 2116.0     # pressure at sea level (in lb/ft^2)\n",
    "l = 3.0         # chord of plate (in ft)\n",
    "alpha = 10.0    # angle of attack in degrees\n",
    "\n",
    "p2 = 1132.0     # pressure on the upper surface (in lb/ft^2)\n",
    "p3 = 3568.0     # pressure on the lower surface (in lb/ft^2)\n",
    "\n",
    "# Calculations\n",
    "\n",
    "# assuming unit span\n",
    "\n",
    "pds = -p2*l + p3*l   # integral p.ds from leading edge to trailing edge (in lb/ft)\n",
    "\n",
    "L = pds*cos(alpha*pi/180.0) # lift per unit span (in lb/ft), alpha is converted to radians\n",
    "\n",
    "Dw = pds*sin(alpha*pi/180.0) # pressure drag per unit span (in lb/ft), alpha is converted to radians\n",
    "\n",
    "Df = 16.25 * pow(l, 4.0/5.0) # skin friction drag per unit span (in lb/ft) \n",
    "                             # from integral tau.d(xeta)\n",
    "\n",
    "Df = 2 * Df * cos(alpha*pi/180.0) # since skin friction acts on both the side\n",
    "\n",
    "D = Df + Dw                  # total drag per unit span (in lb/ft)\n",
    "# Result \n",
    "print \"Total Lift per unit span = %.0f lb\" %(L)\n",
    "print \"Total Drag per unit span = %.0f lb\" %(D)\n"
   ]
  }
 ],
 "metadata": {
  "kernelspec": {
   "display_name": "Python 2",
   "language": "python",
   "name": "python2"
  },
  "language_info": {
   "codemirror_mode": {
    "name": "ipython",
    "version": 2
   },
   "file_extension": ".py",
   "mimetype": "text/x-python",
   "name": "python",
   "nbconvert_exporter": "python",
   "pygments_lexer": "ipython2",
   "version": "2.7.6"
  }
 },
 "nbformat": 4,
 "nbformat_minor": 0
}
