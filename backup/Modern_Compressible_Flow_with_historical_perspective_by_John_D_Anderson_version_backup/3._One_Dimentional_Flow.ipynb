{
 "cells": [
  {
   "cell_type": "markdown",
   "metadata": {},
   "source": [
    "# Chapter 3: One Dimentional Flow"
   ]
  },
  {
   "cell_type": "markdown",
   "metadata": {},
   "source": [
    "## Example 3.1"
   ]
  },
  {
   "cell_type": "code",
   "execution_count": 1,
   "metadata": {
    "collapsed": false
   },
   "outputs": [
    {
     "name": "stdout",
     "output_type": "stream",
     "text": [
      "To = 652.50 R, po = 6938.25 lb/ft^2, Tstar = 543.75 R, pstar = 3665.35 lb/ft^2\n",
      "Velocity at the required point is 1559.62 ft/s\n"
     ]
    }
   ],
   "source": [
    "# Example 3.1.py\n",
    "# At a point in the flow over an F-15 high performance fighter airplane,\n",
    "# the pressure, temperature and Mach number are 1890 lb/ft^2, 450 deg R,\n",
    "# and 1.5, respectively. At this point calculate To, po, T*, p* and the \n",
    "# flow velocity.\n",
    "\n",
    "\n",
    "# Variable declaration\n",
    "p = 1890.0         # pressure (lb/ft^2)\n",
    "T = 450.0          # temperature (R)\n",
    "M = 1.5            # Mach number\n",
    "R = 1716.0         # gas constant (ft lbf/slug/R) \n",
    "gamma = 1.4        # ratio of specific heat capacity for air\n",
    "\n",
    "\n",
    "# Calculations \n",
    "# from isentropic relations\n",
    "def temperature_ratio(M):\n",
    "    return 1 + (gamma-1)*M*M/2.0\n",
    "def pressure_ratio(M):\n",
    "    return pow(temperature_ratio(M), gamma/(gamma-1))\n",
    "\n",
    "po_by_p = pressure_ratio(M)  # ratio of stagnation pressure to actual pressure at mach 1.5\n",
    "To_by_T = temperature_ratio(M)  # ratio of stagnation temperature to actual temperature at mach 1.5\n",
    "\n",
    "po = po_by_p * p                   # stagnation pressure po = po / p * p (lb/ft^2)\n",
    "To = To_by_T * T                   # stagnation temperature To = To / T * T (R)\n",
    "\n",
    "po_by_pstar = pressure_ratio(1.0)  # ratio of stagnation pressure to actual pressure(star) at mach 1.0\n",
    "To_by_Tstar = temperature_ratio(1.0)  # ratio of stagnation temperature to actual temperature(star) at mach 1.0\n",
    "\n",
    "pstar = po_by_p / po_by_pstar * p  # pstar(lb/ft^2), pstar/po * po/p * p\n",
    "Tstar = To_by_T / To_by_Tstar * T  # Tstar(R), Tstar/To * To/T * T\n",
    "\n",
    "a = pow(gamma*R*T, 0.5)            # speed of sound(ft/s)\n",
    "\n",
    "V = M*a                            # velocity(ft/s)\n",
    "\n",
    "# Result \n",
    "print \"To = %.2f R, po = %.2f lb/ft^2, Tstar = %.2f R, pstar = %.2f lb/ft^2\" %(To,po,Tstar,pstar) \n",
    "print \"Velocity at the required point is %.2f ft/s\" %(V)\n"
   ]
  },
  {
   "cell_type": "markdown",
   "metadata": {},
   "source": [
    "## Example 3.2"
   ]
  },
  {
   "cell_type": "code",
   "execution_count": 2,
   "metadata": {
    "collapsed": false
   },
   "outputs": [
    {
     "name": "stdout",
     "output_type": "stream",
     "text": [
      "Mach number at the exit of the rocket nozzle is 2.919\n",
      "Velocity at the exit of the rocket nozzle is 3092.1 m/s\n"
     ]
    }
   ],
   "source": [
    "# Example 3.2.py\n",
    "# Return to Example 1.6, Calculate the Mach Number and velocity at the exit of the rocket\n",
    "# nozzle.\n",
    "\n",
    "# Variable declaration from example 1.6\n",
    "pc = 15.0          # pressure combustion chamber (atm)\n",
    "Tc = 2500.0        # temperature combustion chamber (K)\n",
    "mol_wt = 12.0      # molecular weight (gm)\n",
    "cp = 4157.0        # specific heat at constant pressure (J/Kg/K)\n",
    "\n",
    "Tn  = 1350.0       # temperature at nozzle exit (K)\n",
    "\n",
    "# Calculations \n",
    "R = 8314.0/mol_wt  # gas constant = R_prime/mo_wt, R_prime = 8314 J/K\n",
    "cv = cp - R        # specific heat at constant volume (J/Kg k)\n",
    "gamma = cp/cv      # ratio of specific heat\n",
    "\n",
    "pn_by_pc = pow(Tn/Tc, gamma/(gamma-1)) # ratio of pressure for isentropic process, pn/pc\n",
    "\n",
    "Mn = pow(2/(gamma-1)*(pow(1/pn_by_pc,(gamma-1)/gamma) - 1), 0.5) # Mach number at exit, from isentropic flow relation\n",
    "\n",
    "an = pow(gamma*R*Tn, 0.5)   # Speed of sound at exit (m/s)\n",
    "Vn = Mn*an                  # Velocity at exit (m/s)\n",
    "\n",
    "\n",
    "# Result \n",
    "print \"Mach number at the exit of the rocket nozzle is %.3f\"%(Mn)\n",
    "print \"Velocity at the exit of the rocket nozzle is %.1f m/s\"%(Vn)\n"
   ]
  },
  {
   "cell_type": "markdown",
   "metadata": {},
   "source": [
    "## Example 3.3"
   ]
  },
  {
   "cell_type": "code",
   "execution_count": 3,
   "metadata": {
    "collapsed": false
   },
   "outputs": [
    {
     "name": "stdout",
     "output_type": "stream",
     "text": [
      "Percentage change in density is 1.1\n"
     ]
    }
   ],
   "source": [
    "# Example 3.3.py\n",
    "# Return to Example 1.1, calculate the percentage density change between the given point\n",
    "# on the wing and the free-stream, assuming compressible flow.\n",
    "\n",
    "# Variable declaration from example 1.1\n",
    "rho_1 = 0.002377   # density at sea level (slug/ft^3)\n",
    "T_1 = 519.0        # temperature at sea level (R)\n",
    "v_1 = 100.0        # velocity far ahead of the wing (mi/h)\n",
    "v_2 = 150.0        # velocity at some point on the wing (mi/h)\n",
    "gamma = 1.4        # ratio of specific heat capacity for air\n",
    "R = 1716.0         # gas constant (ft lbf/slug/R) \n",
    "\n",
    "# Calculations \n",
    "cp = gamma*R/(gamma-1) # specific heat capacity at constant pressure (ft lb/ slug / R)\n",
    "u_1 = v_1 * 88.0/60.0  # converting v_1 in ft/s\n",
    "u_2 = v_2 * 88.0/60.0  # converting v_2 in ft/s\n",
    "\n",
    "T_2 = T_1 + (u_1*u_1 - u_2*u_2)/cp/2.0      # temperature at a point from energy equation  (R)\n",
    "\n",
    "rho_2_by_rho_1 = pow((T_2/T_1), 1/(gamma-1))# density ratio from isentropic flow relation\n",
    "\n",
    "rho_2 = rho_2_by_rho_1 * rho_1              # density at the point (slug/ ft^3)\n",
    "\n",
    "delrho = rho_1 - rho_2                      # change in density (slug/ ft^3)\n",
    "fracrho = delrho/rho_1                      # fractional change in density\n",
    "\n",
    "# Result \n",
    "print \"Percentage change in density is %.1f\"%(fracrho*100)\n"
   ]
  },
  {
   "cell_type": "markdown",
   "metadata": {},
   "source": [
    "## Example 3.4"
   ]
  },
  {
   "cell_type": "code",
   "execution_count": 4,
   "metadata": {
    "collapsed": false
   },
   "outputs": [
    {
     "name": "stdout",
     "output_type": "stream",
     "text": [
      "M2 = 0.4752\n",
      "p2 = 5.165 atm\n",
      "T2 = 535.8 K\n",
      "u2 = 220.5 m/s\n"
     ]
    }
   ],
   "source": [
    "# Example 3.4.py\n",
    "# A normal shock wave is standing in the test section of a supersonic wind tunnel.\n",
    "# Upstream of the wave, M1 = 3, p1 = 0.5 atm, and T1 = 200 K. Find M2, p2, T2 and\n",
    "# u2 downstream of the wave\n",
    "\n",
    "\n",
    "# Variable declaration from example 1.1\n",
    "M1 = 3.0         # upstream mach number\n",
    "p1 = 0.5         # upstream pressure (atm)\n",
    "T1 = 200.0       # upstream temperature (K)\n",
    "R = 287.0        # gas constant (J/Kg/K)\n",
    "gamma = 1.4      # ratio of specific heats for air\n",
    "\n",
    "# Calculations \n",
    "\n",
    "# from shock relation (Table A2) for M1 = 3.0\n",
    "# subscript 2 means downstream of the shock\n",
    "p2_by_p1 = 10.33    # p2/p1\n",
    "T2_by_T1 = 2.679    # T2/T1\n",
    "M2 = 0.4752         # M2\n",
    "\n",
    "p2 = p2_by_p1 * p1       # downstream pressure (atm)\n",
    "T2 = T2_by_T1 * T1       # downstream temperature (K)\n",
    "a2 = pow(gamma*R*T2, 0.5) # speed of sound downstream of the shock (m/s)\n",
    "u2 = M2*a2               # downstream velocity (m/s)\n",
    "\n",
    "\n",
    "# Result \n",
    "print \"M2 = %.4f\"%(M2)\n",
    "print \"p2 = %.3f atm\"%(p2)\n",
    "print \"T2 = %.1f K\"%(T2)\n",
    "print \"u2 = %.1f m/s\"%(u2)\n"
   ]
  },
  {
   "cell_type": "markdown",
   "metadata": {},
   "source": [
    "## Example 3.5"
   ]
  },
  {
   "cell_type": "code",
   "execution_count": 5,
   "metadata": {
    "collapsed": false
   },
   "outputs": [
    {
     "name": "stdout",
     "output_type": "stream",
     "text": [
      "Pressure at the nose of the missile is 11935.6 lb/ft^2\n",
      "Temperature at the nose of the missle is 934.2 deg R\n"
     ]
    }
   ],
   "source": [
    "# Example 3.5.py\n",
    "# A blunt-nosed missile is flying at Mach 2 at standard sea level. Calculate the\n",
    "# temperature and pressure at the nose of the missile.\n",
    "\n",
    "\n",
    "# Variable declaration\n",
    "M1 = 2.0         # upstream mach number\n",
    "p1 = 2116.0      # upstream pressure(sea level) (lb/ft^2)\n",
    "T1 = 519.0       # upstream temperature(sea level) (R)\n",
    "gamma = 1.4      # ratio of specific heat\n",
    "\n",
    "# Calculations \n",
    "# subscript 2 means downstream of the shock\n",
    "\n",
    "# from isentropic relations\n",
    "def temperature_ratio(M):\n",
    "    return 1 + (gamma-1)*M*M/2.0\n",
    "def pressure_ratio(M):\n",
    "    return pow(temperature_ratio(M), gamma/(gamma-1))\n",
    "\n",
    "To1_by_T1 = temperature_ratio(M1) # ratio of stagnation temperature to actual temperature at mach M1\n",
    "po1_by_p1 = pressure_ratio(M1) # ratio of stagnation pressure to actual pressure at mach M1\n",
    "\n",
    "To2 = To1 = To1_by_T1 * T1     # To2 and To1 = To1/T1 * T1 (in R)\n",
    "\n",
    "# from shock relation (Table A2) for M1 = 2.0\n",
    "po2_by_po1 = 0.7209 # po2/po1\n",
    "\n",
    "po2 = po2_by_po1 * po1_by_p1 * p1 # po2 = po2/po1 * po1/p1 * p1 (in lb/ft^2)\n",
    "\n",
    "\n",
    "# Result \n",
    "print \"Pressure at the nose of the missile is %.1f lb/ft^2\" %(po2)\n",
    "print \"Temperature at the nose of the missle is %.1f deg R\"%(To2)\n",
    "\n"
   ]
  },
  {
   "cell_type": "markdown",
   "metadata": {},
   "source": [
    "## Example 3.6"
   ]
  },
  {
   "cell_type": "code",
   "execution_count": 6,
   "metadata": {
    "collapsed": false
   },
   "outputs": [
    {
     "name": "stdout",
     "output_type": "stream",
     "text": [
      "Mach number is 2.35\n"
     ]
    }
   ],
   "source": [
    "# Example 3.6.py\n",
    "# Consider a point in a supersonic flow where the static pressure is 0.4 atm. When\n",
    "# a pitot tube is inserted in the float at this point, the pressure measured by the\n",
    "# pitot tube is 3 atm. Calculate the mach number at this point.\n",
    "\n",
    "# Variable declaration\n",
    "p1 = 0.4       # static pressure (in atm)\n",
    "po2 = 3.0      # pressure measured by the pitot tube (in atm)\n",
    "\n",
    "#Calculations\n",
    "# from table A2 for po2/p1 = 7.5\n",
    "M1 = 2.35\n",
    "\n",
    "# Results \n",
    "print \"Mach number is %.2f\"%(M1)\n",
    "\n",
    "\n",
    "\n",
    "\n",
    "\n"
   ]
  },
  {
   "cell_type": "markdown",
   "metadata": {},
   "source": [
    "## Example 3.7"
   ]
  },
  {
   "cell_type": "code",
   "execution_count": 7,
   "metadata": {
    "collapsed": false
   },
   "outputs": [
    {
     "name": "stdout",
     "output_type": "stream",
     "text": [
      "Change is entropy is 990.4 lb/slug R\n"
     ]
    }
   ],
   "source": [
    "# Example 3.7.py\n",
    "# For the normal shock that occurs in front of the pitot tube in Example 3.6, \n",
    "# calculate the entropy change across the shock. \n",
    "\n",
    "\n",
    "# Variable declaration\n",
    "M1 = 2.34          # mach number from example 3.6\n",
    "R = 1716.0         # gas constant (ft lbf/slug/R) \n",
    "\n",
    "# Calculations \n",
    "# subscript 2 means downstream of the shock\n",
    "\n",
    "po2_by_po1 = 0.5615       # from shock table A2 for mach M1\n",
    "from numpy import log     # importing log\n",
    "dels = -R*log(po2_by_po1) # s2 - s1 (in lb/slug R)\n",
    "\n",
    "# Result \n",
    "print \"Change is entropy is %.1f lb/slug R\" %(dels)\n"
   ]
  },
  {
   "cell_type": "markdown",
   "metadata": {},
   "source": [
    "## Example 3.8"
   ]
  },
  {
   "cell_type": "code",
   "execution_count": 8,
   "metadata": {
    "collapsed": false
   },
   "outputs": [
    {
     "name": "stdout",
     "output_type": "stream",
     "text": [
      "M2 = 0.58 \n",
      "p2 = 0.718 atm\n",
      "T2 = 1183.31 K\n",
      "rho2 = 0.214 Kg/m^3\n",
      "To2 = 1270.7 K\n",
      "po2 = 0.902 atm\n"
     ]
    }
   ],
   "source": [
    "# Example 3.8.py\n",
    "# Air enters a constant area duct at M1 = 0.2, p1 = 1 atm, and T1 = 273 K. \n",
    "# Inside the duct the heat is added per unit mass is q = 1.0 * 10^6 J/kg. \n",
    "# Calculate the flow properties M2, p2, T2, rho2, To2, po2 at the exit of the\n",
    "# duct.\n",
    "\n",
    "\n",
    "# Variable declaration\n",
    "M1 = 0.2          # upstream mach number \n",
    "p1 = 1.0          # upstream pressure (in atm)\n",
    "T1 = 273.0        # upstream temperature (in K)\n",
    "q = 1e6           # heat added (in J/Kg)\n",
    "R = 287.0         # gas constant (in J/Kg K)\n",
    "gamma = 1.4       # ratio of specific heats\n",
    "\n",
    "# from Table A3, for M1 = 0.2 \n",
    "T1_by_Tstar = 0.2066\n",
    "p1_by_pstar = 2.273\n",
    "po1_by_postar = 1.235\n",
    "To1_by_Tostar = 0.1736\n",
    "\n",
    "\n",
    "# Calculations \n",
    "\n",
    "# from isentropic relations\n",
    "def temperature_ratio(M):\n",
    "    return 1 + (gamma-1)*M*M/2.0\n",
    "def pressure_ratio(M):\n",
    "    return pow(temperature_ratio(M), gamma/(gamma-1))\n",
    "\n",
    "\n",
    "po1_by_p1 = pressure_ratio(M1)  # ratio of stagnation pressure to actual pressure at mach M1\n",
    "To1_by_T1 = temperature_ratio(M1)  # ratio of stagnation temperature to actual temperature at mach M1\n",
    "\n",
    "po1 = po1_by_p1 * p1  # po1 = po1/p1 * p1 (in atm)\n",
    "To1 = To1_by_T1 * T1  # To1 = To1/T1 * T1 (in K)\n",
    "\n",
    "cp = gamma * R / (gamma-1) # specific heat at constant pressure (J/ Kg K)\n",
    "\n",
    "To2 = q / cp + To1         # total temperature after heat addition (K)\n",
    "\n",
    "\n",
    "# hence \n",
    "\n",
    "To2_by_Tostar = To2/To1 * To1_by_Tostar # To2/Tostar = To2/To1 * To1/Tostar\n",
    "\n",
    "M2 = 0.58 # from table A3\n",
    "\n",
    "# from Table A3, for M2 = 0.58 \n",
    "T2_by_Tstar = 0.8955\n",
    "p2_by_pstar = 1.632\n",
    "po2_by_postar = 1.083\n",
    "\n",
    "T2 = T2_by_Tstar / T1_by_Tstar * T1 # T2 = T2/Tstar * Tstar/T1 * T1 (in  K)\n",
    "p2 = p2_by_pstar / p1_by_pstar * p1 # p2 = p2/pstar * pstar/p1 * p1 (in atm)\n",
    "po2 = po2_by_postar / po1_by_postar * po1 # po2 = po2/postar * postar/po1 * po1 (in atm)\n",
    "\n",
    "rho2 = p2*101325.0 / R / T2  # rho (in Kg/m^3) = P/(RT), where p is in N/m^2\n",
    "\n",
    "\n",
    "# Result\n",
    "# M2, p2, T2, rho2, To2, po2 at the exit\n",
    "print \"M2 = %.2f \"%(M2)\n",
    "print \"p2 = %.3f atm\"%(p2)\n",
    "print \"T2 = %.2f K\"%(T2)\n",
    "print \"rho2 = %.3f Kg/m^3\"%(rho2)\n",
    "print \"To2 = %.1f K\"%(To2)\n",
    "print \"po2 = %.3f atm\"%(po2)\n",
    "\n"
   ]
  },
  {
   "cell_type": "markdown",
   "metadata": {},
   "source": [
    "## Example 3.9"
   ]
  },
  {
   "cell_type": "code",
   "execution_count": 9,
   "metadata": {
    "collapsed": false
   },
   "outputs": [
    {
     "name": "stdout",
     "output_type": "stream",
     "text": [
      "M2 = 1.58 \n",
      "p2 = 3.025 atm\n",
      "T2 = 761.72 K\n",
      "rho2 = 1.402 Kg/m^3\n",
      "To2 = 1138.7 K\n",
      "po2 = 12.487 atm\n"
     ]
    }
   ],
   "source": [
    "# Example 3.9.py\n",
    "# Air enters a constant area duct at M1 = 3.0, p1 = 1 atm, and T1 = 300 K. \n",
    "# Inside the duct the heat is added per unit mass is q = 3.0 * 10^5 J/kg. \n",
    "# Calculate the flow properties M2, p2, T2, rho2, To2, po2 at the exit of the\n",
    "# duct.\n",
    "\n",
    "\n",
    "# Variable declaration\n",
    "M1 = 3.0          # upstream mach number \n",
    "p1 = 1.0          # upstream pressure (in atm)\n",
    "T1 = 300.0        # upstream temperature (in K)\n",
    "q = 3e5           # heat added (in J/Kg)\n",
    "R = 287.0         # gas constant (in J/Kg K)\n",
    "gamma = 1.4       # ratio of specific heats\n",
    "\n",
    "# from Table A3, for M1 = 3.0\n",
    "T1_by_Tstar = 0.2803\n",
    "p1_by_pstar = 0.1765\n",
    "To1_by_Tostar = 0.6540\n",
    "po1_by_postar = 3.424\n",
    "\n",
    "# Calculations \n",
    "\n",
    "# from isentropic relations\n",
    "def temperature_ratio(M):\n",
    "    return 1 + (gamma-1)*M*M/2.0\n",
    "def pressure_ratio(M):\n",
    "    return pow(temperature_ratio(M), gamma/(gamma-1))\n",
    "\n",
    "\n",
    "po1_by_p1 = pressure_ratio(M1)  # ratio of stagnation pressure to actual pressure at mach M1\n",
    "To1_by_T1 = temperature_ratio(M1)  # ratio of stagnation temperature to actual temperature at mach M1\n",
    "\n",
    "po1 = po1_by_p1 * p1  # po1 = po1/p1 * p1 (in atm)\n",
    "To1 = To1_by_T1 * T1  # To1 = To1/T1 * T1 (in K)\n",
    "\n",
    "cp = gamma * R / (gamma-1) # specific heat at constant pressure (J/ Kg K)\n",
    "\n",
    "To2 = q / cp + To1         # total temperature after heat addition (K)\n",
    "\n",
    "\n",
    "# hence \n",
    "\n",
    "To2_by_Tostar = To2/To1 * To1_by_Tostar # To2/Tostar = To2/To1 * To1/Tostar\n",
    "\n",
    "M2 = 1.58 # from table A3\n",
    "\n",
    "# from Table A3, for M2 = 1.58 \n",
    "T2_by_Tstar = 0.7117\n",
    "p2_by_pstar = 0.5339\n",
    "po2_by_postar = 1.164\n",
    "\n",
    "T2 = T2_by_Tstar / T1_by_Tstar * T1 # T2 = T2/Tstar * Tstar/T1 * T1 (in  K)\n",
    "p2 = p2_by_pstar / p1_by_pstar * p1 # p2 = p2/pstar * pstar/p1 * p1 (in atm)\n",
    "po2 = po2_by_postar / po1_by_postar * po1 # po2 = po2/postar * postar/po1 * po1 (in atm)\n",
    "\n",
    "rho2 = p2*101325.0 / R / T2  # rho (in Kg/m^3) = P/(RT), where p is in N/m^2\n",
    "\n",
    "\n",
    "# Result\n",
    "# M2, p2, T2, rho2, To2, po2 at the exit\n",
    "print \"M2 = %.2f \"%(M2)\n",
    "print \"p2 = %.3f atm\"%(p2)\n",
    "print \"T2 = %.2f K\"%(T2)\n",
    "print \"rho2 = %.3f Kg/m^3\"%(rho2)\n",
    "print \"To2 = %.1f K\"%(To2)\n",
    "print \"po2 = %.3f atm\"%(po2)\n",
    "\n"
   ]
  },
  {
   "cell_type": "markdown",
   "metadata": {},
   "source": [
    "## Example 3.10"
   ]
  },
  {
   "cell_type": "code",
   "execution_count": 10,
   "metadata": {
    "collapsed": false
   },
   "outputs": [
    {
     "name": "stdout",
     "output_type": "stream",
     "text": [
      "Heat require to choke the flow is 4.46e+05 J/kg\n"
     ]
    }
   ],
   "source": [
    "# Example 3.10.py\n",
    "# In example 3.9, how much heat per unit mass must be added to choke the flow?\n",
    "\n",
    "\n",
    "# Variable declaration from example 3.9\n",
    "To1 = 840              # upstream total temperature (in K)\n",
    "M1 = 3.0               # upstream mach number\n",
    "To1_by_Tostar = 0.6540 # To1/Tostar from Table A3\n",
    "cp = 1004.5            # specific heat at constant pressure for air (in J/Kg K)\n",
    "\n",
    "# Calculations \n",
    "Tostar = To1 / To1_by_Tostar # Tostar = To1 * Tostar/To1 (in K)\n",
    "\n",
    "M2 = 1.0         # for choked flow\n",
    "To2 = Tostar     # since M2 = 1.0\n",
    "\n",
    "q = cp * (To2 - To1) # required heat = cp(To2 - To1) (in J/kg)\n",
    "\n",
    "\n",
    "# Result \n",
    "print \"Heat require to choke the flow is %.2e J/kg\" %(q)\n"
   ]
  },
  {
   "cell_type": "markdown",
   "metadata": {},
   "source": [
    "## Example 3.11"
   ]
  },
  {
   "cell_type": "code",
   "execution_count": 11,
   "metadata": {
    "collapsed": false
   },
   "outputs": [
    {
     "name": "stdout",
     "output_type": "stream",
     "text": [
      "M2 = 0.475 \n",
      "p2 = 0.624 atm\n",
      "T2 = 265.82 K\n",
      "po2 = 0.728 atm\n"
     ]
    }
   ],
   "source": [
    "# Example 3.11.py\n",
    "# Consider the flow of air through a pipe of diameter = 0.15 m and length = 30 m.\n",
    "# The inlet flow conditions are M1 = 0.3, p1 = 1.0 atm and T1 = 273 K. Assuming\n",
    "# f = constant = 0.005, calculate the flow conditions at the exit, M2, p2, T2 and\n",
    "# po2.\n",
    "\n",
    "\n",
    "# Variable declaration\n",
    "M1 = 0.3          # upstream mach number \n",
    "p1 = 1.0          # upstream pressure (in atm)\n",
    "T1 = 273.0        # upstream temperature (in K)\n",
    "R = 287.0         # gas constant (in J/Kg K)\n",
    "gamma = 1.4       # ratio of specific heats\n",
    "\n",
    "D = 0.15          # diameter of pipe (in m)\n",
    "L = 30.0          # length of pipe (in m)\n",
    "f = 0.005         # friction coefficient\n",
    "# Calculations \n",
    "\n",
    "# from isentropic relations\n",
    "def temperature_ratio(M):\n",
    "    return 1 + (gamma-1)*M*M/2.0\n",
    "def pressure_ratio(M):\n",
    "    return pow(temperature_ratio(M), gamma/(gamma-1))\n",
    "\n",
    "\n",
    "po1_by_p1 = pressure_ratio(M1)        # ratio of stagnation pressure to actual pressure at mach M1\n",
    "To1_by_T1 = temperature_ratio(M1)     # ratio of stagnation temperature to actual temperature at mach M1\n",
    "\n",
    "po1 = po1_by_p1 * p1     # po1 = po1/p1 * p1 (in atm)\n",
    "To1 = To1_by_T1 * T1     # To1 = To1/T1 * T1 (in K)\n",
    "\n",
    "# from Table A4 for M1 = 0.3\n",
    "# C = 4*f*Lstar/D\n",
    "\n",
    "C1 = 5.299             \n",
    "p1_by_pstar = 3.619      # p1 / pstar\n",
    "T1_by_Tstar = 1.179      # T1 / Tstar\n",
    "po1_by_pstar = 2.035     # po1 / pstar\n",
    "\n",
    "C2 = C1 - 4*f*L/D \n",
    "\n",
    "# from Table A4 for 4*f*Lstar/D = 1.2993\n",
    "\n",
    "M2 = 0.475\n",
    "T2_by_Tstar = 1.148      # T2 / Tstar\n",
    "p2_by_pstar = 2.258      # p2 / pstar\n",
    "po2_by_postar = 1.392    # po2 / postar\n",
    " \n",
    "\n",
    "T2 = T2_by_Tstar / T1_by_Tstar * T1         # T2 = T2/Tstar * Tstar/T1 * T1 (in  K)\n",
    "p2 = p2_by_pstar / p1_by_pstar * p1         # p2 = p2/pstar * pstar/p1 * p1 (in atm)\n",
    "po2 = po2_by_postar / po1_by_pstar * po1    # po2 = po2/postar * postar/po1 * po1 (in atm)\n",
    "\n",
    "\n",
    "\n",
    "\n",
    "# Results\n",
    "print \"M2 = %.3f \"%(M2)\n",
    "print \"p2 = %.3f atm\"%(p2)\n",
    "print \"T2 = %.2f K\"%(T2)\n",
    "print \"po2 = %.3f atm\"%(po2)\n",
    "\n"
   ]
  },
  {
   "cell_type": "markdown",
   "metadata": {},
   "source": [
    "## Example 3.12"
   ]
  },
  {
   "cell_type": "code",
   "execution_count": 12,
   "metadata": {
    "collapsed": false
   },
   "outputs": [
    {
     "name": "stdout",
     "output_type": "stream",
     "text": [
      "M2 = 1.9 \n",
      "p2 = 2.014 atm\n",
      "T2 = 487.8 K\n",
      "po2 = 13.49 atm\n"
     ]
    }
   ],
   "source": [
    "# Example 3.12.py\n",
    "# Consider the flow of air through a pipe of diameter = 0.4 ft and length = 5 ft.\n",
    "# The inlet flow conditions are M1 = 3.0, p1 = 1.0 atm and T1 = 300 K. Assuming\n",
    "# f = constant = 0.005, calculate the flow conditions at the exit, M2, p2, T2 and\n",
    "# po2.\n",
    "\n",
    "\n",
    "# Variable declaration\n",
    "M1 = 3.0          # upstream mach number \n",
    "p1 = 1.0          # upstream pressure (in atm)\n",
    "T1 = 300.0        # upstream temperature (in K)\n",
    "gamma = 1.4       # ratio of specific heats\n",
    "\n",
    "D = 0.4           # diameter of pipe (in ft)\n",
    "L = 5.0           # length of pipe (in ft)\n",
    "f = 0.005         # friction coefficient\n",
    "\n",
    "# Calculations \n",
    "\n",
    "# from isentropic relations\n",
    "def temperature_ratio(M):\n",
    "    return 1 + (gamma-1)*M*M/2.0\n",
    "def pressure_ratio(M):\n",
    "    return pow(temperature_ratio(M), gamma/(gamma-1))\n",
    "\n",
    "\n",
    "po1_by_p1 = pressure_ratio(M1)        # ratio of stagnation pressure to actual pressure at mach M1\n",
    "To1_by_T1 = temperature_ratio(M1)     # ratio of stagnation temperature to actual temperature at mach M1\n",
    "\n",
    "po1 = po1_by_p1 * p1     # po1 = po1/p1 * p1 (in atm)\n",
    "To1 = To1_by_T1 * T1     # To1 = To1/T1 * T1 (in K)\n",
    "\n",
    "# from Table A4 for M1 = 3.0\n",
    "# C = 4*f*Lstar/D\n",
    "\n",
    "C1 = 0.5222\n",
    "p1_by_pstar = 0.2182      # p1 / pstar\n",
    "T1_by_Tstar = 0.4286      # T1 / Tstar\n",
    "po1_by_pstar = 4.235      # po1 / pstar\n",
    "\n",
    "C2 = C1 - 4*f*L/D \n",
    "\n",
    "# from Table A4 for 4*f*Lstar/D = 0.2722\n",
    "\n",
    "M2 = 1.9\n",
    "T2_by_Tstar = 0.6969      # T2 / Tstar\n",
    "p2_by_pstar = 0.4394      # p2 / pstar\n",
    "po2_by_postar = 1.555     # po2 / postar\n",
    " \n",
    "\n",
    "T2 = T2_by_Tstar / T1_by_Tstar * T1         # T2 = T2/Tstar * Tstar/T1 * T1 (in  K)\n",
    "p2 = p2_by_pstar / p1_by_pstar * p1         # p2 = p2/pstar * pstar/p1 * p1 (in atm)\n",
    "po2 = po2_by_postar / po1_by_pstar * po1    # po2 = po2/postar * postar/po1 * po1 (in atm)\n",
    "\n",
    "\n",
    "\n",
    "\n",
    "# Results\n",
    "print \"M2 = %.1f \"%(M2)\n",
    "print \"p2 = %.3f atm\"%(p2)\n",
    "print \"T2 = %.1f K\"%(T2)\n",
    "print \"po2 = %.2f atm\"%(po2)\n",
    "\n"
   ]
  },
  {
   "cell_type": "markdown",
   "metadata": {},
   "source": [
    "## Example 3.13"
   ]
  },
  {
   "cell_type": "code",
   "execution_count": 13,
   "metadata": {
    "collapsed": false
   },
   "outputs": [
    {
     "name": "stdout",
     "output_type": "stream",
     "text": [
      "Length required to choke the flow is 10.44 ft\n"
     ]
    }
   ],
   "source": [
    "# Example 3.13.py\n",
    "# In example 3.12, what is the length of the duct required to choke the flow?\n",
    "\n",
    "\n",
    "# Variable declaration from example 3.12\n",
    "M1 = 3.0          # mach number\n",
    "C1 = 0.5222       # C1 = 4*f*L1star/D\n",
    "f = 0.005         # friction coefficient\n",
    "D = 0.4           # diameter of pipe (in ft)\n",
    "\n",
    "# Calculations \n",
    "L1star = 0.5222 * D/4.0/f \n",
    "\n",
    "\n",
    "# Result \n",
    "print \"Length required to choke the flow is %.2f ft\" %(L1star)\n"
   ]
  }
 ],
 "metadata": {
  "kernelspec": {
   "display_name": "Python 2",
   "language": "python",
   "name": "python2"
  },
  "language_info": {
   "codemirror_mode": {
    "name": "ipython",
    "version": 2
   },
   "file_extension": ".py",
   "mimetype": "text/x-python",
   "name": "python",
   "nbconvert_exporter": "python",
   "pygments_lexer": "ipython2",
   "version": "2.7.6"
  }
 },
 "nbformat": 4,
 "nbformat_minor": 0
}
