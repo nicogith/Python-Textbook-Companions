{
 "metadata": {
  "name": "",
  "signature": "sha256:8681b8cb87a35e316321fbab8aecdb38b5b347586e7dea8acd0d04d98e829c88"
 },
 "nbformat": 3,
 "nbformat_minor": 0,
 "worksheets": [
  {
   "cells": [
    {
     "cell_type": "heading",
     "level": 1,
     "metadata": {},
     "source": [
      "Chapter09:Fracture of Metals"
     ]
    },
    {
     "cell_type": "heading",
     "level": 2,
     "metadata": {},
     "source": [
      "Ex9.1:pg-200"
     ]
    },
    {
     "cell_type": "code",
     "collapsed": false,
     "input": [
      "#Example 9.1 : difference\n",
      "import math \n",
      "#given data :\n",
      "E=200*10**9; # in N/m**2\n",
      "C=(4*10**-6)/2;# in m\n",
      "gama=1.48; # in J/m**2\n",
      "sigma=math.sqrt((2*E*gama)/(math.pi*C));\n",
      "print round(sigma*10**-6),\"= fracture strength,sigma(MN/m**2) \"\n"
     ],
     "language": "python",
     "metadata": {},
     "outputs": [
      {
       "output_type": "stream",
       "stream": "stdout",
       "text": [
        "307.0 = fracture strength,sigma(MN/m**2) \n"
       ]
      }
     ],
     "prompt_number": 2
    },
    {
     "cell_type": "heading",
     "level": 2,
     "metadata": {},
     "source": [
      "Ex9.2:pg-200"
     ]
    },
    {
     "cell_type": "code",
     "collapsed": false,
     "input": [
      "#Example 9.2 : the fracture strength and compare\n",
      " \n",
      "import math\n",
      "#given data :\n",
      "E=70*10**9; # in N/m**2\n",
      "C=(4.2*10**-6)/2;# in m\n",
      "gama=1.1; # in J/m**2\n",
      "sigma=math.sqrt((2*E*gama)/(math.pi*C));\n",
      "print sigma,\"= fracture strength,sigma(N/m**2)  \"\n"
     ],
     "language": "python",
     "metadata": {},
     "outputs": [
      {
       "output_type": "stream",
       "stream": "stdout",
       "text": [
        "152783261.475 = fracture strength,sigma(N/m**2)  \n"
       ]
      }
     ],
     "prompt_number": 3
    },
    {
     "cell_type": "heading",
     "level": 2,
     "metadata": {},
     "source": [
      "Ex9.3:pg-200"
     ]
    },
    {
     "cell_type": "code",
     "collapsed": false,
     "input": [
      "#Example 9.3 : maximum length of surface\n",
      "import math\n",
      "\n",
      "#given data :\n",
      "sigma=36;#in MN/m**2\n",
      "gama=0.27;# in J/m**2\n",
      "E=70*10**9;#in N/m**2\n",
      "C=((2*E*gama)/(sigma**2*math.pi))*10**-6;\n",
      "C2=2*C;\n",
      "print round(C2,3),\"= maximum length of surface flow,C2(micro-m)   \"\n"
     ],
     "language": "python",
     "metadata": {},
     "outputs": [
      {
       "output_type": "stream",
       "stream": "stdout",
       "text": [
        "18.568 = maximum length of surface flow,C2(micro-m)   \n"
       ]
      }
     ],
     "prompt_number": 5
    },
    {
     "cell_type": "heading",
     "level": 2,
     "metadata": {},
     "source": [
      "Ex9.4a:pg-203"
     ]
    },
    {
     "cell_type": "code",
     "collapsed": false,
     "input": [
      "# Example 9.4.a: Temperature\n",
      " \n",
      "import math\n",
      "E=350;# in GN/m**2\n",
      "Y=2;# in J/m**2\n",
      "C=2;# in micro meter\n",
      "sg=math.sqrt((2*E*10**9*Y)/(math.pi*C*10**-6));# IN mn/M**2\n",
      "e=10**-2;# per second\n",
      "T=173600/(round(sg*10**-6)-20.6-61.3*(math.log10(e)));# in kelvin\n",
      "print round(T,1),\"= temperature in kelvin for ductile to brittle transition at a strain rate of 10**-2 per second\"\n"
     ],
     "language": "python",
     "metadata": {},
     "outputs": [
      {
       "output_type": "stream",
       "stream": "stdout",
       "text": [
        "302.4 = temperature in kelvin for ductile to brittle transition at a strain rate of 10**-2 per second\n"
       ]
      }
     ],
     "prompt_number": 8
    },
    {
     "cell_type": "heading",
     "level": 2,
     "metadata": {},
     "source": [
      "Ex9.4b:pg-203"
     ]
    },
    {
     "cell_type": "code",
     "collapsed": false,
     "input": [
      "# Example 9.4.b: Temperature\n",
      "import math\n",
      "\n",
      "E=350;# in GN/m**2\n",
      "Y=2;# in J/m**2\n",
      "C=2;# in micro meter\n",
      "sg=math.sqrt((2*E*10**9*Y)/(math.pi*C*10**-6));# IN mn/M**2\n",
      "e=10**-5;# per second\n",
      "T=173600/(round(sg*10**-6)-20.6-61.3*(math.log10(e)));# in kelvin\n",
      "print round(T),\"= temperature in kelvin for ductile to brittle transition at a strain rate of 10**-5 per second\"\n"
     ],
     "language": "python",
     "metadata": {},
     "outputs": [
      {
       "output_type": "stream",
       "stream": "stdout",
       "text": [
        "229.0 = temperature in kelvin for ductile to brittle transition at a strain rate of 10**-5 per second\n"
       ]
      }
     ],
     "prompt_number": 10
    }
   ],
   "metadata": {}
  }
 ]
}