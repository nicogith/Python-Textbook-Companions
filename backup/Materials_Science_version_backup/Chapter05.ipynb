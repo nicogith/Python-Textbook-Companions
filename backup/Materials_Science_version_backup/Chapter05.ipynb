{
 "metadata": {
  "name": "",
  "signature": "sha256:ef6d9a0d23fffdb9f7c392e83ea5acb91eccb75cc2e53a11277239fd4fc34966"
 },
 "nbformat": 3,
 "nbformat_minor": 0,
 "worksheets": [
  {
   "cells": [
    {
     "cell_type": "heading",
     "level": 1,
     "metadata": {},
     "source": [
      "Chapter05:Electron Theory of Metals"
     ]
    },
    {
     "cell_type": "heading",
     "level": 2,
     "metadata": {},
     "source": [
      "Ex5.1.i:pg-110"
     ]
    },
    {
     "cell_type": "code",
     "collapsed": false,
     "input": [
      "# Example 5.1.i: probability for diamond\n",
      " \n",
      "# given :\n",
      "\n",
      "Eg=5.6; # in eV\n",
      "k=86.2*10**-6; # in eVk**-1\n",
      "T=273+25.0; # in K\n",
      "E_Ef=Eg/2;\n",
      "f_E=1/(1+math.exp(E_Ef/(k*T)));\n",
      "print f_E,\" is probability for diamond\"\n"
     ],
     "language": "python",
     "metadata": {},
     "outputs": [
      {
       "output_type": "stream",
       "stream": "stdout",
       "text": [
        "4.58172567644e-48  is probability for diamond\n"
       ]
      }
     ],
     "prompt_number": 13
    },
    {
     "cell_type": "heading",
     "level": 2,
     "metadata": {},
     "source": [
      "Ex5.1.ii:pg-110"
     ]
    },
    {
     "cell_type": "code",
     "collapsed": false,
     "input": [
      "# Example 5.1.ii: probability for silicon\n",
      " \n",
      "# given :\n",
      "Eg=1.07; # in eV\n",
      "k=86.2*10**-6; # in eVk**-1\n",
      "T=273+25.0; # in K\n",
      "E_Ef=Eg/2;\n",
      "f_E=1/(1+math.exp(E_Ef/(k*T)));\n",
      "print f_E,\"is probability for diamond \"\n",
      "# answer is wrong in book\n"
     ],
     "language": "python",
     "metadata": {},
     "outputs": [
      {
       "output_type": "stream",
       "stream": "stdout",
       "text": [
        "9.01312095705e-10 is probability for diamond \n"
       ]
      }
     ],
     "prompt_number": 12
    },
    {
     "cell_type": "heading",
     "level": 2,
     "metadata": {},
     "source": [
      "Ex5.2:pg-119"
     ]
    },
    {
     "cell_type": "code",
     "collapsed": false,
     "input": [
      "# Example 5.2: resistance\n",
      " \n",
      "# given :\n",
      "l=1; # length in m\n",
      "A=4*10**-4; # area of cross section in m**2\n",
      "p=0.01*10**-2; # resistivity in ohm-m\n",
      "R=p*(l/A);\n",
      "print R,\"is resistance of wire,R(ohm) \"\n"
     ],
     "language": "python",
     "metadata": {},
     "outputs": [
      {
       "output_type": "stream",
       "stream": "stdout",
       "text": [
        "0.25 is resistance of wire,R(ohm) \n"
       ]
      }
     ],
     "prompt_number": 14
    },
    {
     "cell_type": "heading",
     "level": 2,
     "metadata": {},
     "source": [
      "Ex5.3:pg-120"
     ]
    },
    {
     "cell_type": "code",
     "collapsed": false,
     "input": [
      "# Example 5.3: resistance\n",
      " \n",
      "# given :\n",
      "\n",
      "p=1.7*10**-8; #  resistivity i ohm-m\n",
      "d=0.0005; # diameter of the wire in m\n",
      "l=31.4; # length in m\n",
      "A=(math.pi*d**2)/4;\n",
      "R=p*(l/A);\n",
      "print round(R,2),\"is resistance of wire,R(ohm) \"\n"
     ],
     "language": "python",
     "metadata": {},
     "outputs": [
      {
       "output_type": "stream",
       "stream": "stdout",
       "text": [
        "2.72 is resistance of wire,R(ohm) \n"
       ]
      }
     ],
     "prompt_number": 16
    },
    {
     "cell_type": "heading",
     "level": 2,
     "metadata": {},
     "source": [
      "Ex5.4:pg-120"
     ]
    },
    {
     "cell_type": "code",
     "collapsed": false,
     "input": [
      "# Example 5.4: conductivity\n",
      " \n",
      "# given :\n",
      "\n",
      "V=.432; # voltage drop across the wire in volts\n",
      "I=10; # current through the wire in A\n",
      "l=1; # length in m\n",
      "d=1*10**-3; # diameter in m\n",
      "R=V/I;\n",
      "A=(math.pi*d**2)/4;\n",
      "p=(R*A)/l;\n",
      "b=1/p;\n",
      "print round(b,2),\" is conductivitty,b(ohm**-1.m**-1) \"\n"
     ],
     "language": "python",
     "metadata": {},
     "outputs": [
      {
       "output_type": "stream",
       "stream": "stdout",
       "text": [
        "29473137.61  is conductivitty,b(ohm**-1.m**-1) \n"
       ]
      }
     ],
     "prompt_number": 18
    },
    {
     "cell_type": "heading",
     "level": 2,
     "metadata": {},
     "source": [
      "Ex5.5:pg-124"
     ]
    },
    {
     "cell_type": "code",
     "collapsed": false,
     "input": [
      "# Example 5.5: drift velocity\n",
      " \n",
      "# given :\n",
      "\n",
      "n=10**19; # in m**3\n",
      "b=0.01; # conductivity in ohm**-1. m**-1\n",
      "V=0.17; # in volts\n",
      "d=.27*10**-3; # in m\n",
      "e=1.602*10**-19; # in C\n",
      "m=9.1*10**-31; # in kg\n",
      "E=V/d; # in volt/m\n",
      "v=((b*E)/(n*e));\n",
      "print round(v,2),\"is drift velocity of electron,v (m/sec) \"\n"
     ],
     "language": "python",
     "metadata": {},
     "outputs": [
      {
       "output_type": "stream",
       "stream": "stdout",
       "text": [
        "3.93 is drift velocity of electron,v (m/sec) \n"
       ]
      }
     ],
     "prompt_number": 20
    },
    {
     "cell_type": "heading",
     "level": 2,
     "metadata": {},
     "source": [
      "Ex5.6:pg-124"
     ]
    },
    {
     "cell_type": "code",
     "collapsed": false,
     "input": [
      "# Example 5.6: conductivity\n",
      " \n",
      "# given :\n",
      "e=1.6*10**-19; # in C\n",
      "T=300; # temerature in K\n",
      "t=2*10**-14; # time in sec\n",
      "c=63.54; # atomic weight of copper in a.m.u\n",
      "m=9.1*10**-31; # mass in kg\n",
      "# we know that 63.45 grams of copper contains 6.023*10**23 free electrons since one atom contributes one electron.the volume of 63.54 gram of copper is 8.9 cubic centimetre(c.c).\n",
      "n=6.023*10**23/(c/8.9); #number of electrons per unit volume(c.c)\n",
      "n1=n*10**6; # the number of electrons per m**3\n",
      "b=(e**2*n1*t)/m;\n",
      "print round(b,2),\"is conductivity,b(mho/m) \"\n"
     ],
     "language": "python",
     "metadata": {},
     "outputs": [
      {
       "output_type": "stream",
       "stream": "stdout",
       "text": [
        "47466174.12 is conductivity,b(mho/m) \n"
       ]
      }
     ],
     "prompt_number": 22
    },
    {
     "cell_type": "heading",
     "level": 2,
     "metadata": {},
     "source": [
      "Ex5.7:pg-125"
     ]
    },
    {
     "cell_type": "code",
     "collapsed": false,
     "input": [
      "# Example 5.7: mobility of electrons\n",
      " \n",
      "# given :\n",
      "\n",
      "e=1.602*10**-19; # in C\n",
      "m=9.1*10**-31; # in kg\n",
      "t=10**-14; # time in sec\n",
      "mu=(e*t)/m;\n",
      "print mu,\"is mobility of electrons,mu(m**2/volts.sec) \"\n"
     ],
     "language": "python",
     "metadata": {},
     "outputs": [
      {
       "output_type": "stream",
       "stream": "stdout",
       "text": [
        "0.00176043956044 is mobility of electrons,mu(m**2/volts.sec) \n"
       ]
      }
     ],
     "prompt_number": 25
    },
    {
     "cell_type": "heading",
     "level": 2,
     "metadata": {},
     "source": [
      "Ex5.8:pg-125"
     ]
    },
    {
     "cell_type": "code",
     "collapsed": false,
     "input": [
      "# Example 5.8: mobility \n",
      " \n",
      "# given :\n",
      "\n",
      "d=10.5; # density of silver in gm/c.c\n",
      "w=107.9; # atomic weight\n",
      "b=6.8*10**5; # conductivity in mhos/cm\n",
      "e=1.602*10**-19; # in C\n",
      "N=6.023*10**23;\n",
      "n=(N*d)/w;\n",
      "mu=b/(e*n);\n",
      "print round(mu,2),\"is mobility of electron,mu(m**2/volt-sec) \"\n"
     ],
     "language": "python",
     "metadata": {},
     "outputs": [
      {
       "output_type": "stream",
       "stream": "stdout",
       "text": [
        "72.42 is mobility of electron,mu(m**2/volt-sec) \n"
       ]
      }
     ],
     "prompt_number": 27
    },
    {
     "cell_type": "heading",
     "level": 2,
     "metadata": {},
     "source": [
      "Ex5.9:pg-126"
     ]
    },
    {
     "cell_type": "code",
     "collapsed": false,
     "input": [
      "# Example 5.9: mobility and drift velocity\n",
      " \n",
      "# given :\n",
      "b=6.5*10**7; # conductivity in ohm**-1.m**-1\n",
      "e=1.602*10**-19; # in C\n",
      "n=6*10**23; #\n",
      "E=1; # in V/m\n",
      "mu=b/(e*n);\n",
      "v=mu*E;\n",
      "print round(mu,2),\"is mobility ,mu(m**2/volt-sec) \"\n",
      "print round(v,2),\"is drift velocity,v(m/sec) \"\n",
      "# mobility and drift is calculated wrong in book\n"
     ],
     "language": "python",
     "metadata": {},
     "outputs": [
      {
       "output_type": "stream",
       "stream": "stdout",
       "text": [
        "676.24 is mobility ,mu(m**2/volt-sec) \n",
        "676.24 is drift velocity,v(m/sec) \n"
       ]
      }
     ],
     "prompt_number": 29
    },
    {
     "cell_type": "heading",
     "level": 2,
     "metadata": {},
     "source": [
      "Ex5.10:pg-126"
     ]
    },
    {
     "cell_type": "code",
     "collapsed": false,
     "input": [
      "#Example 5.10 : density and drift velocity \n",
      " \n",
      "#given data :\n",
      "\n",
      "e=1.602 *10**-19;\n",
      "b=58*10**6;# in ohm**-1 m**-1\n",
      "mu_n=3.5*10**-3;# in m**2/V s\n",
      "E=0.5; # in V/m\n",
      "n=b/(e*mu_n);\n",
      "print n,\"is density,n(m**-3) \"\n",
      "v=mu_n*E;\n",
      "print v,\"is drift velocity,v(m/s) \"\n"
     ],
     "language": "python",
     "metadata": {},
     "outputs": [
      {
       "output_type": "stream",
       "stream": "stdout",
       "text": [
        "1.03442125914e+29 is density,n(m**-3) \n",
        "0.00175 is drift velocity,v(m/s) \n"
       ]
      }
     ],
     "prompt_number": 30
    },
    {
     "cell_type": "heading",
     "level": 2,
     "metadata": {},
     "source": [
      "Ex5.11:pg-127"
     ]
    },
    {
     "cell_type": "code",
     "collapsed": false,
     "input": [
      "#Example 5.11 : velocity\n",
      "import math\n",
      "#given data :\n",
      "m=9.109*10**-31; # in kg\n",
      "e=1.602 *10**-19;\n",
      "Ef=2.1# in ev\n",
      "Wf=e*Ef;# in J\n",
      "vf=math.sqrt((2*Wf)/m);\n",
      "print vf,\"is velocity,vf(m/s) \"\n"
     ],
     "language": "python",
     "metadata": {},
     "outputs": [
      {
       "output_type": "stream",
       "stream": "stdout",
       "text": [
        "859449.869617 is velocity,vf(m/s) \n"
       ]
      }
     ],
     "prompt_number": 34
    },
    {
     "cell_type": "heading",
     "level": 2,
     "metadata": {},
     "source": [
      "Ex5.12.a:pg-127"
     ]
    },
    {
     "cell_type": "code",
     "collapsed": false,
     "input": [
      "#Example 5.12.a : velocity\n",
      " \n",
      "#given data :\n",
      "m=9.1*10**-31; # in kg\n",
      "e=1.602 *10**-19;\n",
      "Ef=3.75;# in ev\n",
      "Wf=(e*Ef);# in J\n",
      "vf=math.sqrt(((2*Wf)/m));\n",
      "print vf,\" is velocity,vf(m/s) \"\n",
      "# answer is wrong in book\n"
     ],
     "language": "python",
     "metadata": {},
     "outputs": [
      {
       "output_type": "stream",
       "stream": "stdout",
       "text": [
        "1149055.99095  is velocity,vf(m/s) \n"
       ]
      }
     ],
     "prompt_number": 35
    },
    {
     "cell_type": "heading",
     "level": 2,
     "metadata": {},
     "source": [
      "Ex5.12.b:pg-127"
     ]
    },
    {
     "cell_type": "code",
     "collapsed": false,
     "input": [
      "\n",
      "#Example 5.12.b : mobility of electron\n",
      " \n",
      "#given data :\n",
      "m=9.1*10**-31; # in kg\n",
      "e=1.602 *10**-19;\n",
      "Ef=3.75;# in ev\n",
      "t=10**-14;# in sec\n",
      "mu=(e*t)/m;\n",
      "print mu,\"is mobility,mu(m**2/V-sec) \"\n"
     ],
     "language": "python",
     "metadata": {},
     "outputs": [
      {
       "output_type": "stream",
       "stream": "stdout",
       "text": [
        "0.00176043956044 is mobility,mu(m**2/V-sec) \n"
       ]
      }
     ],
     "prompt_number": 37
    },
    {
     "cell_type": "heading",
     "level": 2,
     "metadata": {},
     "source": [
      "Ex5.13:pg-127"
     ]
    },
    {
     "cell_type": "code",
     "collapsed": false,
     "input": [
      "#Example 5.13 : the mean free path\n",
      "import math\n",
      "#given data :\n",
      "\n",
      "t=10**-9; # in sec\n",
      "m=9.109*10**-31; # in kg\n",
      "e=1.602 *10**-19;\n",
      "Ef=7# in ev\n",
      "Wf=e*Ef;# in J\n",
      "vf=math.sqrt((2*Wf)/m);\n",
      "lamda=vf*t*10**3;\n",
      "print round(lamda,2),\"is the mean free path,lamda(mm) \"\n"
     ],
     "language": "python",
     "metadata": {},
     "outputs": [
      {
       "output_type": "stream",
       "stream": "stdout",
       "text": [
        "1.57 is the mean free path,lamda(mm) \n"
       ]
      }
     ],
     "prompt_number": 39
    },
    {
     "cell_type": "heading",
     "level": 2,
     "metadata": {},
     "source": [
      "Ex5.14:pg-128"
     ]
    },
    {
     "cell_type": "code",
     "collapsed": false,
     "input": [
      "#Example 5.14 : mobility and average time\n",
      " \n",
      "#given data :\n",
      "\n",
      "m=9.109*10**-31; # in kg\n",
      "e=1.602 *10**-19;\n",
      "d=8.92*10**3;# in kg/m**3\n",
      "p=1.73*10**-8;# ohm-m\n",
      "A=63.5;#atomic weight\n",
      "N=6.023*10**22; # avogadro's number\n",
      "n=(N*d)/A;\n",
      "b=1/p;# conductivity\n",
      "mu=b/(n*e);\n",
      "print round(mu,1),\"= mobility,mu(m**2/V-s)  \"\n",
      "t=(mu*m)/e;\n",
      "print round(t*10**9,3),\"= average time,t(ns)  \"\n"
     ],
     "language": "python",
     "metadata": {},
     "outputs": [
      {
       "output_type": "stream",
       "stream": "stdout",
       "text": [
        "42.6 = mobility,mu(m**2/V-s)  \n",
        "0.242 = average time,t(ns)  \n"
       ]
      }
     ],
     "prompt_number": 42
    },
    {
     "cell_type": "heading",
     "level": 2,
     "metadata": {},
     "source": [
      "Ex5.15:pg-129"
     ]
    },
    {
     "cell_type": "code",
     "collapsed": false,
     "input": [
      "#Example 5.15 : electrical resistivity\n",
      "import math\n",
      "#given data :\n",
      "\n",
      "r=1.86*10**-10;# in m\n",
      "t=3*10**-14;# in sec\n",
      "a=2;\n",
      "m=9.1*10**-31; # in kg\n",
      "e=1.602 *10**-9;\n",
      "A=23*10**-3;#in kg/m\n",
      "N=6.023*10**23; # avogadro's number\n",
      "M=(a*A)/N;\n",
      "V=((4/math.sqrt(3))*r)**3;\n",
      "d=M/V;\n",
      "mu=((e*t)/m);\n",
      "n=(N*d)/A;\n",
      "b=1.602 *10**-19*n*mu;\n",
      "p=(1/b);\n",
      "print p,\"= resistivity,p(ohm-m) \"\n"
     ],
     "language": "python",
     "metadata": {},
     "outputs": [
      {
       "output_type": "stream",
       "stream": "stdout",
       "text": [
        "4.68383991207e-18 = resistivity,p(ohm-m) \n"
       ]
      }
     ],
     "prompt_number": 43
    }
   ],
   "metadata": {}
  }
 ]
}