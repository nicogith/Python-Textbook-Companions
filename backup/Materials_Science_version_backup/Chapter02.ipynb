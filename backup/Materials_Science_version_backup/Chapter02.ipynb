{
 "metadata": {
  "name": "",
  "signature": "sha256:dd88e5202fe8cb4f62cee212896e4620a6a485517d90fb3c0293ab4baa871eef"
 },
 "nbformat": 3,
 "nbformat_minor": 0,
 "worksheets": [
  {
   "cells": [
    {
     "cell_type": "heading",
     "level": 1,
     "metadata": {},
     "source": [
      "Chapter02: Structure of atoms"
     ]
    },
    {
     "cell_type": "heading",
     "level": 2,
     "metadata": {},
     "source": [
      "Ex2.1:pg-12"
     ]
    },
    {
     "cell_type": "code",
     "collapsed": false,
     "input": [
      "#Example 2.1 : radius of the first bohr\"s orbit \n",
      " \n",
      "#given data :\n",
      "\n",
      "ep=8.854*10**-12;#\n",
      "h=6.626*10**-34;#\n",
      "m=9.1*10**-31;#in Kg\n",
      "e=1.602*10**-19;#\n",
      "r1=((ep*(h**2))/((math.pi*m*(e**2))));#\n",
      "print round(r1*10**10,2),\"is radius,r1(in angstrom) \"\n",
      "\n"
     ],
     "language": "python",
     "metadata": {},
     "outputs": [
      {
       "output_type": "stream",
       "stream": "stdout",
       "text": [
        "0.53 is radius,r1(in angstrom) \n"
       ]
      }
     ],
     "prompt_number": 2
    },
    {
     "cell_type": "heading",
     "level": 2,
     "metadata": {},
     "source": [
      "Ex2.2:pg-12"
     ]
    },
    {
     "cell_type": "code",
     "collapsed": false,
     "input": [
      "\n",
      "#Example 2.2 : radius of the second bohr\"s orbit \n",
      " \n",
      "#given data :\n",
      "\n",
      "r1_h=0.529; # radius for hydrozen atom in Angstrum\n",
      "n1=1;# for the first bohr's orbit of electron in hydrozen atom\n",
      "Z1=1; # for the first bohr's orbit of electron in hydrozen atom\n",
      "k=(r1_h*Z1)/n1**2; # where k is constant\n",
      "n2=2; # for the second bohr orbit\n",
      "Z2=2; #for the second bohr orbit\n",
      "r2_he=k*(n2**2/Z2);\n",
      "print r2_he,\" is radius of the second bohr orbit,r2 in (Angstrom) \"\n"
     ],
     "language": "python",
     "metadata": {},
     "outputs": [
      {
       "output_type": "stream",
       "stream": "stdout",
       "text": [
        "1.058  is radius of the second bohr orbit,r2 in (Angstrom) \n"
       ]
      }
     ],
     "prompt_number": 4
    },
    {
     "cell_type": "heading",
     "level": 2,
     "metadata": {},
     "source": [
      "Ex2.3:pg-13"
     ]
    },
    {
     "cell_type": "code",
     "collapsed": false,
     "input": [
      "# Example 2.3: to prove\n",
      " \n",
      "Z=1;#assume\n",
      "n1=1;#orbit 1\n",
      "n2=2;#orbit 2\n",
      "n3=3;#orbit 3\n",
      "e1=((-13.6*Z)/(n1**2));#energy for the first orbit\n",
      "e2=((-13.6*Z)/(n2**2));#energy for the second orbit\n",
      "e3=((-13.6*Z)/(n3**2));#energy for the third orbit\n",
      "e31=e3-e1;#energy emitted by an electron jumping from orbit nuber 3 to orbit nimber 1\n",
      "e21=e2-e1;#energy emitted by an electron jumping from orbit nuber 2 to orbit nimber 1\n",
      "re=e31/e21;#ratio of energy\n",
      "print re,\" is equal to ratio of energy for an electron to jump from orbit 3 to orbit 1 and from orbit 2 to orbit 1 is 32/27 \\n hence proved\"\n"
     ],
     "language": "python",
     "metadata": {},
     "outputs": [
      {
       "output_type": "stream",
       "stream": "stdout",
       "text": [
        "1.18518518519  is equal to ratio of energy for an electron to jump from orbit 3 to orbit 1 and from orbit 2 to orbit 1 is 32/27 \n",
        " hence proved\n"
       ]
      }
     ],
     "prompt_number": 7
    },
    {
     "cell_type": "heading",
     "level": 2,
     "metadata": {},
     "source": [
      "Ex2.4:pg-13"
     ]
    },
    {
     "cell_type": "code",
     "collapsed": false,
     "input": [
      "#Example 2.4 : velocity\n",
      " \n",
      "#given data :\n",
      "\n",
      "h=6.626*10**-34;\n",
      "e=1.6*10**-19;\n",
      "epsilon_o=8.825*10**-12;\n",
      "n=1;\n",
      "Z=1;\n",
      "vn=(Z*e**2)/(2*epsilon_o*n*h);\n",
      "print vn,\" is velocity,vn in (m/s) \"\n"
     ],
     "language": "python",
     "metadata": {},
     "outputs": [
      {
       "output_type": "stream",
       "stream": "stdout",
       "text": [
        "2188990.2342  is velocity,vn in (m/s) \n"
       ]
      }
     ],
     "prompt_number": 8
    },
    {
     "cell_type": "heading",
     "level": 2,
     "metadata": {},
     "source": [
      "Ex2.5:pg-14"
     ]
    },
    {
     "cell_type": "code",
     "collapsed": false,
     "input": [
      "#Example 2.5 : velocity\n",
      " \n",
      "#given data :\n",
      "n=1;\n",
      "Z=1;\n",
      "k=6.56*10**15; # k is constant\n",
      "fn=k*(Z**2/n**3);\n",
      "print fn,\" is orbital frequency,fn in (Hz) \"\n"
     ],
     "language": "python",
     "metadata": {},
     "outputs": [
      {
       "output_type": "stream",
       "stream": "stdout",
       "text": [
        "6.56e+15  is orbital frequency,fn in (Hz) \n"
       ]
      }
     ],
     "prompt_number": 9
    },
    {
     "cell_type": "heading",
     "level": 2,
     "metadata": {},
     "source": [
      "Ex2.6.a:pg-14"
     ]
    },
    {
     "cell_type": "code",
     "collapsed": false,
     "input": [
      "#Example 2.6.a : the energy of the photon emitted\n",
      " \n",
      "#given data :\n",
      "Z=1;#for hydrozen\n",
      "n1=3;\n",
      "n2=2;\n",
      "E3=-(13.6*Z**2)/n1**2;\n",
      "E2=-(13.6*Z**2)/n2**2;\n",
      "del_E=E3-E2;\n",
      "print round(del_E,2),\" is the energy of photon emitted, del_E in (eV) \"\n"
     ],
     "language": "python",
     "metadata": {},
     "outputs": [
      {
       "output_type": "stream",
       "stream": "stdout",
       "text": [
        "1.89  is the energy of photon emitted, del_E in (eV) \n"
       ]
      }
     ],
     "prompt_number": 12
    },
    {
     "cell_type": "heading",
     "level": 2,
     "metadata": {},
     "source": [
      "Ex2.6.b:pg-14"
     ]
    },
    {
     "cell_type": "code",
     "collapsed": false,
     "input": [
      "#Example 2.6.b : frequency\n",
      " \n",
      "#given data :\n",
      "\n",
      "Z=1;#for hydrozen\n",
      "n1=3;\n",
      "n2=2;\n",
      "m=6.626*10**-34;# mass of electron in kg\n",
      "E3=-(13.6*Z**2)/n1**2;\n",
      "E2=-(13.6*Z**2)/n2**2;\n",
      "del_E=E3-E2;\n",
      "E=del_E*1.6*10**-19;# in joules\n",
      "v=(E/m);\n",
      "print round(v,2),\"frequency of the photon emitted,v(Hz) \"\n"
     ],
     "language": "python",
     "metadata": {},
     "outputs": [
      {
       "output_type": "stream",
       "stream": "stdout",
       "text": [
        "4.5611563873e+14 frequency of the photon emitted,v(Hz) \n"
       ]
      }
     ],
     "prompt_number": 9
    },
    {
     "cell_type": "heading",
     "level": 2,
     "metadata": {},
     "source": [
      "Ex2.6.c:pg-15"
     ]
    },
    {
     "cell_type": "code",
     "collapsed": false,
     "input": [
      "#Example 2.6.c : wave length of the photon emitted\n",
      " \n",
      "#given data :\n",
      "\n",
      "Z=1;#for hydrozen\n",
      "n1=3;\n",
      "n2=2;\n",
      "m=6.626*10**-34;# mass of electron in kg\n",
      "C=3*10**8;\n",
      "E3=-(13.6*Z**2)/n1**2;\n",
      "E2=-(13.6*Z**2)/n2**2;\n",
      "del_E=E3-E2;\n",
      "E=del_E*1.6*10**-19;\n",
      "v=E/m;\n",
      "lamda=C/v;\n",
      "print round(lamda,9),\" is wavelength of the photon emitted,(m) \"\n"
     ],
     "language": "python",
     "metadata": {},
     "outputs": [
      {
       "output_type": "stream",
       "stream": "stdout",
       "text": [
        "6.58e-07  is wavelength of the photon emitted,(m) \n"
       ]
      }
     ],
     "prompt_number": 4
    }
   ],
   "metadata": {}
  }
 ]
}