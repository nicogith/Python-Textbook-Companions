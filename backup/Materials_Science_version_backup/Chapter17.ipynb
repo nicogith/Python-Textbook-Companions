{
 "metadata": {
  "name": "",
  "signature": "sha256:03648571a8c8e1b4e8f8e6dad5bff5a090472aa9ccf6236105c75aa2a594a7be"
 },
 "nbformat": 3,
 "nbformat_minor": 0,
 "worksheets": [
  {
   "cells": [
    {
     "cell_type": "heading",
     "level": 1,
     "metadata": {},
     "source": [
      "Chapter17:Insulating Materials"
     ]
    },
    {
     "cell_type": "heading",
     "level": 2,
     "metadata": {},
     "source": [
      "Ex17.1:pg-333"
     ]
    },
    {
     "cell_type": "code",
     "collapsed": false,
     "input": [
      "# Example 17.1: greater chanrge\n",
      " \n",
      "\n",
      "er1=6;#\n",
      "d1=0.25;# in mm\n",
      "a=1;# assume\n",
      "er2=2.6;#\n",
      "d2=0.1;# in mm\n",
      "c1=(er1/d1);# in ampere\n",
      "c2=(er2/d2);# in amperes\n",
      "print\" C1 \",c1,\"A will hold the more charge than C2 \",c2,\"A \"\n"
     ],
     "language": "python",
     "metadata": {},
     "outputs": [
      {
       "output_type": "stream",
       "stream": "stdout",
       "text": [
        " C1  24.0 A will hold the more charge than C2  26.0 A \n"
       ]
      }
     ],
     "prompt_number": 1
    }
   ],
   "metadata": {}
  }
 ]
}