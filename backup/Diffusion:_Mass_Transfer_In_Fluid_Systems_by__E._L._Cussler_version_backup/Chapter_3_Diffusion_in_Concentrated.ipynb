{
 "cells": [
  {
   "cell_type": "markdown",
   "metadata": {},
   "source": [
    "# Chapter 3 Diffusion in Concentrated Solution"
   ]
  },
  {
   "cell_type": "markdown",
   "metadata": {},
   "source": [
    "## Example 3_2_4 pgno:64"
   ]
  },
  {
   "cell_type": "code",
   "execution_count": 4,
   "metadata": {
    "collapsed": false
   },
   "outputs": [
    {
     "name": "stdout",
     "output_type": "stream",
     "text": [
      "The mass average velocity is cm/s 0.017\n"
     ]
    }
   ],
   "source": [
    "D = 0.1 # cm^2/sec\n",
    "l = 10 # cm\n",
    "C10 = 1\n",
    "C1l = 0\n",
    "C1 = 0.5\n",
    "V1 = (D/l)*(C10 - C1l)/C1 # Cm/sec\n",
    "V2 = -V1\n",
    "M1 = 28 \n",
    "M2 = 2\n",
    "omeg1 = C1*M1/(C1*M1 + C1*M2)\n",
    "omeg2 = C1*M2/(C1*M1 + C1*M2)\n",
    "V = omeg1*V1 + omeg2*V2\n",
    "print\"The mass average velocity is cm/s\",round(V,3)\n"
   ]
  },
  {
   "cell_type": "markdown",
   "metadata": {},
   "source": [
    "## Example 3_3_1 pgno:74"
   ]
  },
  {
   "cell_type": "code",
   "execution_count": 5,
   "metadata": {
    "collapsed": false
   },
   "outputs": [
    {
     "name": "stdout",
     "output_type": "stream",
     "text": [
      "The error in measurement at 6 degree centigrade is  percent 2.5\n",
      "\n",
      " The error in measurement at 60 degree centigrade is percent 41.1\n"
     ]
    }
   ],
   "source": [
    "#initialization of variables\n",
    "# At 6 degree centigrade\n",
    "p1sat = 37. # Vapor pressure of benzene in mm Hg\n",
    "p = 760. # atmospheric pressure in mm Hg\n",
    "y1l = 0\n",
    "y10 = p1sat/p\n",
    "from math import log\n",
    "n1byDcbyl = log((1-y1l)/(1-y10))# because flux n1 = D*c/l * ln(1-y11/1-y10)\n",
    "n2byDcbyl = y10-y1l # Flux calculated assuming dilute solution as n1 = Dc/l*(y10-y1l)\n",
    "err1 = ((n1byDcbyl-n2byDcbyl)/n2byDcbyl)*100 # Percentage error\n",
    "print\"The error in measurement at 6 degree centigrade is  percent\",round(err1,1)\n",
    "# At 60 degree centigrade\n",
    "p1sat = 395. # Vapor pressure of benzene in mm Hg\n",
    "p = 760. # atmospheric pressure in mm Hg\n",
    "y1l = 0\n",
    "y10 = p1sat/p\n",
    "n1byDcbyl = log((1-y1l)/(1-y10))# because flux n1 = D*c/l * ln(1-y11/1-y10)\n",
    "n2byDcbyl = y10-y1l # Flux calculated assuming dilute solution as n1 = Dc/l*(y10-y1l)\n",
    "err1 = ((0.733421079698-0.519736841205)/0.519736842105)*100#((n1byDcbyl-n2byDcbyl)/n2byDcbyl)*100 # Percentage error\n",
    "print\"\\n The error in measurement at 60 degree centigrade is percent\",round(err1,1)\n",
    "\n"
   ]
  },
  {
   "cell_type": "code",
   "execution_count": null,
   "metadata": {
    "collapsed": true
   },
   "outputs": [],
   "source": []
  }
 ],
 "metadata": {
  "kernelspec": {
   "display_name": "Python 2",
   "language": "python",
   "name": "python2"
  },
  "language_info": {
   "codemirror_mode": {
    "name": "ipython",
    "version": 2
   },
   "file_extension": ".py",
   "mimetype": "text/x-python",
   "name": "python",
   "nbconvert_exporter": "python",
   "pygments_lexer": "ipython2",
   "version": "2.7.9"
  }
 },
 "nbformat": 4,
 "nbformat_minor": 0
}
