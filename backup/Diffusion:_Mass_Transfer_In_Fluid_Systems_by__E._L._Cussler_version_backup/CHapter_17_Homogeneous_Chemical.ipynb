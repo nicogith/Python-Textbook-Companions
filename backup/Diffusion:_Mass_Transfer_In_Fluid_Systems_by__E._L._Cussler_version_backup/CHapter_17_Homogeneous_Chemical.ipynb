{
 "cells": [
  {
   "cell_type": "markdown",
   "metadata": {},
   "source": [
    "# Chapter 17 Homogeneous Chemical Reactions"
   ]
  },
  {
   "cell_type": "markdown",
   "metadata": {},
   "source": [
    "## Example 17_1_1 pgno:485"
   ]
  },
  {
   "cell_type": "code",
   "execution_count": 1,
   "metadata": {
    "collapsed": false
   },
   "outputs": [
    {
     "name": "stdout",
     "output_type": "stream",
     "text": [
      "The diffusion co efficient of methyl iodide in benzene is  x10**-5 cm/sec 1.70880074906\n"
     ]
    }
   ],
   "source": [
    "#initialization of variables\n",
    "K = 1.46*10**-4 # lit/mol-sec (rate constant)\n",
    "cpyridine = 0.1 # mol/lit\n",
    "K1 = 2.0*10**-5 # cm**2/sec\n",
    "#Calculations\n",
    "D = K*cpyridine # sec**-1\n",
    "k0 = ((D*K1)**0.5)*10**5#in x*10**-5 cm/sec\n",
    "#Results\n",
    "print\"The diffusion co efficient of methyl iodide in benzene is  x10**-5 cm/sec\",round(k0,1)\n"
   ]
  },
  {
   "cell_type": "markdown",
   "metadata": {},
   "source": [
    "## Example 17_1_2 pgno:486"
   ]
  },
  {
   "cell_type": "code",
   "execution_count": 4,
   "metadata": {
    "collapsed": false
   },
   "outputs": [
    {
     "name": "stdout",
     "output_type": "stream",
     "text": [
      "The value of reduction in reaction rate due to diffusion is  0.385022761125333\n"
     ]
    }
   ],
   "source": [
    "#initialization of variables\n",
    "R = 0.3 # cm\n",
    "K1 = 18.6 # sec**-1\n",
    "D = 0.027 # cm**2/sec\n",
    "from sympy import coth\n",
    "#Calculations\n",
    "l = R/3 # cm\n",
    "n = ((D/(K1*(l**2)))**0.5)*coth((K1*(l**2)/D)**0.5)\n",
    "#Results\n",
    "print\"The value of reduction in reaction rate due to diffusion is \",n\n"
   ]
  },
  {
   "cell_type": "markdown",
   "metadata": {},
   "source": [
    "## Example 17_1_3 pgno:486"
   ]
  },
  {
   "cell_type": "code",
   "execution_count": 9,
   "metadata": {
    "collapsed": false
   },
   "outputs": [
    {
     "name": "stdout",
     "output_type": "stream",
     "text": [
      "The rate constant is  sec**-1 20.0\n"
     ]
    }
   ],
   "source": [
    "#initialization of variables\n",
    "k = 16*10**-3 # m.t.c in cm/sec\n",
    "D  = 1.25*10**-5 # Diffusion co efficient in cm**2/sec\n",
    "#Calculations \n",
    "K1 = (k**2)/D\n",
    "#Results\n",
    "print\"The rate constant is  sec**-1\",round(K1)\n"
   ]
  },
  {
   "cell_type": "markdown",
   "metadata": {},
   "source": [
    "## Example 17_2_1 pgno:490"
   ]
  },
  {
   "cell_type": "code",
   "execution_count": 10,
   "metadata": {
    "collapsed": false
   },
   "outputs": [
    {
     "name": "stdout",
     "output_type": "stream",
     "text": [
      "There is about a  fold increase in rate 13.0\n"
     ]
    }
   ],
   "source": [
    "#initialization of variables\n",
    "D2 = 5*10**-6 # The diffusion co efficient of the new compound in cm**2/sec\n",
    "Nu = 3 # The factor\n",
    "D1 = 0.7*10**-5 # The diffusion co efficient of the original compound in cm**2/sec\n",
    "c2l = 1.5*10**-5 # the new solubility in mol/cc\n",
    "c1l = 3*10**-7 # The old solubility in mol/cc\n",
    "#Calculations\n",
    "k = 1 + ((D2*c2l)/(Nu*D1*c1l))# The number of times the rate has increased to the previous rate\n",
    "#Results\n",
    "print\"There is about a  fold increase in rate\",round(k)\n"
   ]
  },
  {
   "cell_type": "markdown",
   "metadata": {},
   "source": [
    "## Example 17_4_1 pgno:503"
   ]
  },
  {
   "cell_type": "code",
   "execution_count": 11,
   "metadata": {
    "collapsed": false
   },
   "outputs": [
    {
     "name": "stdout",
     "output_type": "stream",
     "text": [
      "The rate constant for this reaction is litre/mol-sec 3.0\n",
      "This reaction is diffusion controlled\n",
      "The rate constant for this reaction is 10**10 litre/mol-sec 2.0\n",
      "The reaction is diffusion controlled\n"
     ]
    }
   ],
   "source": [
    "#initialization of variables\n",
    "from math import pi\n",
    "#For first reaction\n",
    "D1 = 9.3*10**-5 # cm**2/sec\n",
    "D2 = 5.3*10**-5 # cm**2/sec\n",
    "K1exp = 1.4*10**11 # litre/mol-sec\n",
    "sigma12 = 2.8*10**-8 # cm\n",
    "N = (6.02*10**23)/10**3# liter/cc-mol\n",
    "K1 = 4*pi*(D1+D2)*sigma12*N/10**10 # Rate constant for first reaction in litre/mol-sec\n",
    "print\"The rate constant for this reaction is litre/mol-sec\",round(K1)\n",
    "if K1>K1exp:\n",
    "     \t print\"This reaction is controlled more by chemical factors\"\n",
    "else:\n",
    "         print\"This reaction is diffusion controlled\"\n",
    "\n",
    "#Second reaction\n",
    "D1 = 5.3*10**-5 # cm**2/sec\n",
    "D2 = 0.8*10**-5 # cm**2/sec\n",
    "sigma12 = 5*10**-8 # cm\n",
    "K1exp = 3.8*10**7 # litre/mol-sec\n",
    "K1 = 4*pi*(D1+D2)*sigma12*N/10**10 # Rate constant for second reaction in litre/mol-sec\n",
    "print\"The rate constant for this reaction is 10**10 litre/mol-sec\",round(K1)\n",
    "if K1>K1exp: \n",
    "    print\"This reaction is controlled more by chemical factors\"\n",
    "else: \n",
    "    print\"The reaction is diffusion controlled\"\n",
    "\n"
   ]
  },
  {
   "cell_type": "markdown",
   "metadata": {},
   "source": [
    "## Example 17_5_1 pgno:506"
   ]
  },
  {
   "cell_type": "code",
   "execution_count": 12,
   "metadata": {
    "collapsed": false
   },
   "outputs": [
    {
     "name": "stdout",
     "output_type": "stream",
     "text": [
      "The relaxation time is sec 0.07\n"
     ]
    }
   ],
   "source": [
    "#intitialization of variables\n",
    "d = 5# cm\n",
    "v = 200 # cm/sec\n",
    "nu = 0.01 # cm**2/sec\n",
    "D = 3.2*10**-5 # cm**2/sec\n",
    "l = 30*10**-4 # cm\n",
    "#Calculations\n",
    "Re = d*v/nu # Flow is turbulent\n",
    "E = d*v/2 # cm**2/sec\n",
    "tou1 = (d**2)/(4*E)# sec\n",
    "tou2 = (l**2)/(4*D)\n",
    "tou = tou1 + tou2 # sec\n",
    "#Results\n",
    "print\"The relaxation time is sec\",round(tou,3)\n"
   ]
  },
  {
   "cell_type": "code",
   "execution_count": null,
   "metadata": {
    "collapsed": true
   },
   "outputs": [],
   "source": []
  },
  {
   "cell_type": "code",
   "execution_count": null,
   "metadata": {
    "collapsed": true
   },
   "outputs": [],
   "source": []
  }
 ],
 "metadata": {
  "kernelspec": {
   "display_name": "Python 2",
   "language": "python",
   "name": "python2"
  },
  "language_info": {
   "codemirror_mode": {
    "name": "ipython",
    "version": 2
   },
   "file_extension": ".py",
   "mimetype": "text/x-python",
   "name": "python",
   "nbconvert_exporter": "python",
   "pygments_lexer": "ipython2",
   "version": "2.7.9"
  }
 },
 "nbformat": 4,
 "nbformat_minor": 0
}
