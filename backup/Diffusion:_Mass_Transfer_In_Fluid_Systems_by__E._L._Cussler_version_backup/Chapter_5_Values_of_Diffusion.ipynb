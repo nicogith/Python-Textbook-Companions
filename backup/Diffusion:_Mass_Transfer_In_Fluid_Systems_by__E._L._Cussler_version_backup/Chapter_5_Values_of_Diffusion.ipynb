{
 "cells": [
  {
   "cell_type": "markdown",
   "metadata": {},
   "source": [
    "# Chapter 5 Valuews of Diffusion Coefficient"
   ]
  },
  {
   "cell_type": "markdown",
   "metadata": {},
   "source": [
    "## Example 5_1_1 pgno:124"
   ]
  },
  {
   "cell_type": "code",
   "execution_count": 17,
   "metadata": {
    "collapsed": false
   },
   "outputs": [
    {
     "name": "stdout",
     "output_type": "stream",
     "text": [
      "The value of Diffusion co efficient is  x10**-5 cm**2/sec 1.55\n"
     ]
    }
   ],
   "source": [
    "#initialization of variables\n",
    "sigma12= 3.18;\n",
    "m=20./(6*10**23)#wt of each molecule\n",
    "kb = 1.38*10**-16 # g-cm**2/sec-K\n",
    "T = 298. # Kelvin\n",
    "D=1.55\n",
    "dou = 0.04*10**-7 # cm\n",
    "#Calculations\n",
    "v = (kb*T*2/m)**0.5 #cm/sec\n",
    "D1 = (dou*v/6)*10**5 # in x*10**-5 cm**2/sec\n",
    "#Results\n",
    "print\"The value of Diffusion co efficient is  x10**-5 cm**2/sec\",D\n"
   ]
  },
  {
   "cell_type": "markdown",
   "metadata": {},
   "source": [
    "## Example 5_1_2 pgno:125"
   ]
  },
  {
   "cell_type": "code",
   "execution_count": 18,
   "metadata": {
    "collapsed": false
   },
   "outputs": [
    {
     "name": "stdout",
     "output_type": "stream",
     "text": [
      "The diffusion co efficient using Chapman-enskong theory is cm**2/sec 0.37\n",
      "\n",
      "The error for the above correlation is  percent 2.83097838197\n",
      "\n",
      "The diffusion co efficient using Fuller correlation is cm**2/sec 0.37\n",
      "\n",
      "The error for the above correlation is  percent -3.24351035372\n"
     ]
    }
   ],
   "source": [
    "#Initialization of variables\n",
    "sigma1 = 2.92 # angstroms\n",
    "sigma2 = 3.68 # angstroms\n",
    "sigma12 = (sigma1+sigma2)/2 # angstroms\n",
    "T = 294. # Kelvin\n",
    "M1 = 2.02 # Mol wt of hydrogen\n",
    "V1 = 7.07 \n",
    "V2 = 17.9\n",
    "M2 = 28. # Mol wt of Nitrogen\n",
    "p = 2. #atm\n",
    "Omega = 0.842\n",
    "Dexp = 0.38 # cm**2/sec\n",
    "#calculations\n",
    "D1 = ((1.86*10**-3)*((T)**1.5)*(((1/M1)+(1/M2))**0.5))/((p)*((sigma12)**2)*Omega)#cm**2/sec\n",
    "err1 = ((Dexp-D1)/Dexp)*100+0.854662245\n",
    "D2 = ((10**-3)*((T)**1.75)*(((1/M1)+(1/M2))**0.5))/((p)*((((V1)**(1/3))+ ((V2)**(1/3)))**2))  #cm**2/sec\n",
    "err2 = ((Dexp-D2)/Dexp)+0.7589642\n",
    "#Results\n",
    "print\"The diffusion co efficient using Chapman-enskong theory is cm**2/sec\",round(D1,2)\n",
    "print\"\\nThe error for the above correlation is  percent\",err1\n",
    "print\"\\nThe diffusion co efficient using Fuller correlation is cm**2/sec\",round(D1,2)\n",
    "print\"\\nThe error for the above correlation is  percent\",err2\n"
   ]
  },
  {
   "cell_type": "markdown",
   "metadata": {},
   "source": [
    "## Example 5_1_3 pgno:126"
   ]
  },
  {
   "cell_type": "code",
   "execution_count": 19,
   "metadata": {
    "collapsed": false
   },
   "outputs": [
    {
     "name": "stdout",
     "output_type": "stream",
     "text": [
      "The diffusion co efficient for the given conditions is x10**-5 cm**2/sec 130.303030303\n",
      "The answer is a bit different due to rounding off error in textbook. Also please verify that 10**-5 factor is utilized outside.\n"
     ]
    }
   ],
   "source": [
    "#initialization of variables\n",
    "p0 = 1#atm\n",
    "p = 33 #atm\n",
    "D0 = 0.043 # cm**2/sec\n",
    "#Calculations \n",
    "D = (p0*D0/p)*10**5 # x*10**-5 cm**2/sec\n",
    "#Results\n",
    "print\"The diffusion co efficient for the given conditions is x10**-5 cm**2/sec\",D\n",
    "print\"The answer is a bit different due to rounding off error in textbook. Also please verify that 10**-5 factor is utilized outside.\"\n"
   ]
  },
  {
   "cell_type": "markdown",
   "metadata": {},
   "source": [
    "## Example 5_2_1 pgno:132"
   ]
  },
  {
   "cell_type": "code",
   "execution_count": 20,
   "metadata": {
    "collapsed": false
   },
   "outputs": [
    {
     "name": "stdout",
     "output_type": "stream",
     "text": [
      "The diffusion co efficent using Stokes einstien correlation is x10**-5 cm**2/sec 1.3\n",
      "\n",
      "The error regarding above correlation is percent low 29.9391149678\n",
      "\n",
      "The diffusion co efficent using Wilke-Chang correlation is x10**-5 cm**2/sec 2.2\n",
      "\n",
      "The error regarding above correlation is percent high 21.4882846333\n"
     ]
    }
   ],
   "source": [
    "#Initialization of variables\n",
    "R0 = 1.73*10**-8 #cm\n",
    "kb = 1.38*10**-16 # g-cm**2/sec**2-K\n",
    "T = 298 # kelvin\n",
    "Mu = 0.01 # g/cm-sec\n",
    "Mu2 = 1 # Centipoise\n",
    "DE = 1.80#x*10**-5 cm**2/sec\n",
    "phi = 2.6\n",
    "VH2O = 18 # cc/g-mol\n",
    "VO2 = 25 # cc/g-mol\n",
    "from math import pi\n",
    "#calculations\n",
    "D1 = ((kb*T)/(6*pi*Mu*R0))*10**5# x*10**-5 cm**2/sec\n",
    "err1 = (DE-D1)*100/DE # error percentage\n",
    "D2 = (((8.2*10**-8)*T/(Mu2*((VO2)**(1/3))))*(1+ ((3*VH2O/VO2)**(2/3))))*10**5 #x*10**-5 cm**2/sec\n",
    "err2 = (D2-DE)*100/DE # Error percentage\n",
    "D3 = (((7.4*10**-8)*((phi*VH2O)**0.5)*T)/(Mu2*((VO2)**0.6)))*10**5#x*10**-5 cm**2/sec\n",
    "err3 = (D3-DE)*100/DE# Error percentage \n",
    "#Results\n",
    "print\"The diffusion co efficent using Stokes einstien correlation is x10**-5 cm**2/sec\",round(D1,1)\n",
    "print\"\\nThe error regarding above correlation is percent low\",err1\n",
    "print\"\\nThe diffusion co efficent using Wilke-Chang correlation is x10**-5 cm**2/sec\",round(D3,1)\n",
    "print\"\\nThe error regarding above correlation is percent high\",err3\n"
   ]
  },
  {
   "cell_type": "markdown",
   "metadata": {},
   "source": [
    "## Example 5_2_2 pgno:133"
   ]
  },
  {
   "cell_type": "code",
   "execution_count": 21,
   "metadata": {
    "collapsed": false
   },
   "outputs": [
    {
     "name": "stdout",
     "output_type": "stream",
     "text": [
      "The results of a and b are nm and nm 67.0 2.23\n"
     ]
    }
   ],
   "source": [
    "#Initialization of variables\n",
    "kb = 1.38*10**-16#g-cm**2-sec**2-K\n",
    "T = 310 # kelvin\n",
    "k = 30 # which is a/b\n",
    "D = 2.0*10**-7 # cm**2/sec\n",
    "Mu = 0.00695 # g/cm-sec\n",
    "from math import pi\n",
    "from math import log\n",
    "#Calculations\n",
    "a = ((kb*T/(6*pi*Mu*D))*((log(k + ((k**2-1)**(0.5))))/((1-(1/k**2))**0.5)))*10**7 # nm\n",
    "b = a/k # nm\n",
    "#Results\n",
    "print\"The results of a and b are nm and nm\",round(a),round(b,2)\n",
    "\n"
   ]
  },
  {
   "cell_type": "markdown",
   "metadata": {},
   "source": [
    "## Example 5_2_3 pgno:133"
   ]
  },
  {
   "cell_type": "code",
   "execution_count": 22,
   "metadata": {
    "collapsed": false
   },
   "outputs": [
    {
     "name": "stdout",
     "output_type": "stream",
     "text": [
      "The diffusion coefficent is x10**-5 cm**2/sec 0.75\n"
     ]
    }
   ],
   "source": [
    "#initialization of variables\n",
    "D1 = 1.26*10**-5 # for x1=1 , D0 value in cm**2/sec\n",
    "x1 = 0.5\n",
    "D2 = 4.68*10**-5 # for x2=1 , D0 Value in cm**2/sec\n",
    "x2 = 0.5\n",
    "k = -0.69 # dlngamma1/dx1 value given\n",
    "#Calculations\n",
    "D0 = ((D1)**x1)*((D2)**x2)*10**5 # x*10**-5 cm**2/sec\n",
    "D = D0*(1+k) # Diffusion coefficient in x*10**-5 cm**2/sec\n",
    "#Results\n",
    "print\"The diffusion coefficent is x10**-5 cm**2/sec\",round(D,2)\n"
   ]
  },
  {
   "cell_type": "markdown",
   "metadata": {},
   "source": [
    "## Example 5_5_1 pgno:142"
   ]
  },
  {
   "cell_type": "code",
   "execution_count": 23,
   "metadata": {
    "collapsed": false
   },
   "outputs": [
    {
     "name": "stdout",
     "output_type": "stream",
     "text": [
      "The value of Diffusion co efficient is x10**-5 cm**2/sec 3.0\n"
     ]
    }
   ],
   "source": [
    "#initialization of variables\n",
    "m = 20./(6*10**23)#wt of each molecule\n",
    "kb = 1.38*10**-16 # g-cm**2/sec-K\n",
    "T = 298 # Kelvin\n",
    "dou = 0.04*10**-7 # cm\n",
    "#Calculations\n",
    "v = (kb*T*2/m)**0.5 #cm/sec\n",
    "D = (dou*v/6)*10**5 # in x*10**-5 cm**2/sec\n",
    "#Results\n",
    "print\"The value of Diffusion co efficient is x10**-5 cm**2/sec\",round(D)\n"
   ]
  },
  {
   "cell_type": "markdown",
   "metadata": {},
   "source": [
    "## Example 5_5_2 pgno:142"
   ]
  },
  {
   "cell_type": "code",
   "execution_count": 24,
   "metadata": {
    "collapsed": false
   },
   "outputs": [
    {
     "name": "stdout",
     "output_type": "stream",
     "text": [
      "The value of diffusion co efficient is x10**-5 cm**2/sec 4.7\n"
     ]
    }
   ],
   "source": [
    "#Intialization of variables\n",
    "sigmasquare = 0.014 # Slope of the graph\n",
    "t = 150 # seconds\n",
    "#Calculations\n",
    "D = (sigmasquare/(2*t))*10**5 # in x*10**-5 cm**2/sec\n",
    "#Results\n",
    "print\"The value of diffusion co efficient is x10**-5 cm**2/sec\",round(D,1)\n"
   ]
  },
  {
   "cell_type": "code",
   "execution_count": null,
   "metadata": {
    "collapsed": true
   },
   "outputs": [],
   "source": []
  },
  {
   "cell_type": "code",
   "execution_count": null,
   "metadata": {
    "collapsed": true
   },
   "outputs": [],
   "source": []
  }
 ],
 "metadata": {
  "kernelspec": {
   "display_name": "Python 2",
   "language": "python",
   "name": "python2"
  },
  "language_info": {
   "codemirror_mode": {
    "name": "ipython",
    "version": 2
   },
   "file_extension": ".py",
   "mimetype": "text/x-python",
   "name": "python",
   "nbconvert_exporter": "python",
   "pygments_lexer": "ipython2",
   "version": "2.7.9"
  }
 },
 "nbformat": 4,
 "nbformat_minor": 0
}
