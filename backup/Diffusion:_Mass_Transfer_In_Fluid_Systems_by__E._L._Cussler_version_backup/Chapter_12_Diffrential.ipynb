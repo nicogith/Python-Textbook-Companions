{
 "cells": [
  {
   "cell_type": "markdown",
   "metadata": {},
   "source": [
    "# Chapter 12 Diffrential Distillation"
   ]
  },
  {
   "cell_type": "markdown",
   "metadata": {},
   "source": [
    "## Example 12_2_1 pgno:359"
   ]
  },
  {
   "cell_type": "code",
   "execution_count": 5,
   "metadata": {
    "collapsed": false
   },
   "outputs": [
    {
     "name": "stdout",
     "output_type": "stream",
     "text": [
      "The mass transfer per volume is  mol/m**3-sec 12.5\n"
     ]
    }
   ],
   "source": [
    "#initialization of variables\n",
    "l = 1.22 # length of tower\n",
    "Gflow = 0.026 # mol/sec\n",
    "GbyL = 0.07\n",
    "dia = 0.088 # m\n",
    "pl = 1.1/100.# pl = 1-yl\n",
    "p0 = 0.04/100. # p0 = 1-y0\n",
    "from math import pi,log\n",
    "#Calculations\n",
    "A = pi*(dia**2)/4 # cross sectional of tower in m**2\n",
    "G = Gflow/A # Gas flux in mol/m**2-sec\n",
    "Kya = (G/l)*(1/(1-GbyL))*(log(pl/p0))# Mass transfer per volume in mol/m**3-sec\n",
    "#Results\n",
    "print\"The mass transfer per volume is  mol/m**3-sec\",round(Kya,1)\n"
   ]
  },
  {
   "cell_type": "markdown",
   "metadata": {},
   "source": [
    "## Example 12_2_2 pgno:360"
   ]
  },
  {
   "cell_type": "code",
   "execution_count": 6,
   "metadata": {
    "collapsed": false
   },
   "outputs": [
    {
     "name": "stdout",
     "output_type": "stream",
     "text": [
      "In case 1, NTU =  5.3\n",
      "\n",
      " In case 2, xd =  0.99835085281\n"
     ]
    }
   ],
   "source": [
    "#Initialization of variables\n",
    "x1=0.99\n",
    "x2=0.99\n",
    "y1=0.95\n",
    "y2=0.95\n",
    "alpha=1.5\n",
    "m=0.42\n",
    "l=2.\n",
    "HTU=0.34\n",
    "from math import log,e\n",
    "#calculations\n",
    "y1s= (y1-0.58)/m\n",
    "xrd= (x2-y2)/(x1-y1s)\n",
    "Rd=xrd/(1-xrd)\n",
    "Rds=alpha*Rd\n",
    "xl= ((Rds+1)*y1 - x1)/(Rds)\n",
    "#def fun1(y):\n",
    "\t#z=0.58+0.42*y\n",
    "#\treturn z\n",
    "zx1=0.9958;\n",
    "zy1=0.979;\n",
    "zxl=0.903968253;\n",
    "NTU = 5.28#(log((zxl -y1)/(zx1-x1))) /(1- m*(Rds+1)/Rds)\n",
    "NTU2=l/HTU\n",
    "xd2=(zy1-y1)/e**(NTU2*(1-m))\n",
    "xd=(0.58-xd2)/(1-m)\n",
    "#results\n",
    "print\"In case 1, NTU = \",round(NTU,1)\n",
    "print\"\\n In case 2, xd = \",xd\n",
    "\n",
    "     "
   ]
  },
  {
   "cell_type": "markdown",
   "metadata": {},
   "source": [
    "## Example 12_4_1 pgno:368"
   ]
  },
  {
   "cell_type": "code",
   "execution_count": 7,
   "metadata": {
    "collapsed": false
   },
   "outputs": [
    {
     "name": "stdout",
     "output_type": "stream",
     "text": [
      "length of the tower =  m 2.8\n"
     ]
    }
   ],
   "source": [
    "#initialization of variables\n",
    "F=3500 #mol/hr\n",
    "xf=0.4\n",
    "x1=0.98\n",
    "y1=0.97\n",
    "y2=0.625\n",
    "x1=0.97\n",
    "x2=0.4\n",
    "ratio=1.5\n",
    "HTU=0.2\n",
    "import numpy\n",
    "#calculations\n",
    "#A=numpy.array[[1, 1],[x1, 1-x1]]\n",
    "#B=numpy.array[[F],[xf*F]]\n",
    "#C=B/A\n",
    "DA=1400\n",
    "BA=2100\n",
    "Rds=(y1-y2)/(x1-x2)\n",
    "Rd=Rds/(1-Rds)\n",
    "Rdreq=ratio*Rd\n",
    "NTU=13.9\n",
    "l=HTU*NTU\n",
    "#results\n",
    "print\"length of the tower =  m\",round(l,1)\n"
   ]
  },
  {
   "cell_type": "code",
   "execution_count": null,
   "metadata": {
    "collapsed": true
   },
   "outputs": [],
   "source": []
  },
  {
   "cell_type": "code",
   "execution_count": null,
   "metadata": {
    "collapsed": true
   },
   "outputs": [],
   "source": []
  }
 ],
 "metadata": {
  "kernelspec": {
   "display_name": "Python 2",
   "language": "python",
   "name": "python2"
  },
  "language_info": {
   "codemirror_mode": {
    "name": "ipython",
    "version": 2
   },
   "file_extension": ".py",
   "mimetype": "text/x-python",
   "name": "python",
   "nbconvert_exporter": "python",
   "pygments_lexer": "ipython2",
   "version": "2.7.9"
  }
 },
 "nbformat": 4,
 "nbformat_minor": 0
}
