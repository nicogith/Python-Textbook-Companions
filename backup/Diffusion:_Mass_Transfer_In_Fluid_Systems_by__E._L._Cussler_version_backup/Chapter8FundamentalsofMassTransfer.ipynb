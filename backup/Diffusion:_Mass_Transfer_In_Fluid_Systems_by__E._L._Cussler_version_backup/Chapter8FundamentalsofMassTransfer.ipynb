{
 "cells": [
  {
   "cell_type": "markdown",
   "metadata": {},
   "source": [
    "# Chapter 8 Fundamentals of Mass Transfer "
   ]
  },
  {
   "cell_type": "markdown",
   "metadata": {},
   "source": [
    "## Example 8_1_1 pgno:238"
   ]
  },
  {
   "cell_type": "code",
   "execution_count": 19,
   "metadata": {
    "collapsed": false
   },
   "outputs": [
    {
     "name": "stdout",
     "output_type": "stream",
     "text": [
      "the time taken to reach 90 percent saturation is  hr 2.3\n"
     ]
    }
   ],
   "source": [
    "#initiliazation of variables\n",
    "Vap = (0.05/22.4)*23.8/760 # Vapour concentration\n",
    "V = 18.4*10**3 # Air Volume in cc\n",
    "A = 150 # Liquid Area in Cm**2\n",
    "t1 = 180 # Time in sec\n",
    "N1 = (Vap*V)/(A*t1)\n",
    "k = 3.4*10**-2 # cm/sec\n",
    "C = 0.9\n",
    "from math import log\n",
    "#Calculations\n",
    "t = (-V/(k*A))*log(1 - C)\n",
    "thr = t/3600\n",
    "#Results\n",
    "print\"the time taken to reach 90 percent saturation is  hr\",round(thr,1)\n",
    " "
   ]
  },
  {
   "cell_type": "markdown",
   "metadata": {},
   "source": [
    "## Example 8_1_2 pgno:240"
   ]
  },
  {
   "cell_type": "code",
   "execution_count": 20,
   "metadata": {
    "collapsed": false
   },
   "outputs": [
    {
     "name": "stdout",
     "output_type": "stream",
     "text": [
      "the mass transfer co efficient is cm/sec 0.0021\n"
     ]
    }
   ],
   "source": [
    "#initialization of variables\n",
    "Vo = 5. # cm/sec\n",
    "a = 23. #cm^2/cm^3\n",
    "z = 100. #cm\n",
    "Crat = 0.62 # Ratio of c/Csat\n",
    "from math import log\n",
    "#Calculations\n",
    "k = -(Vo/(a*z))*log(1-Crat)\n",
    "#Results\n",
    "print\"the mass transfer co efficient is cm/sec\",round(k,4)\n"
   ]
  },
  {
   "cell_type": "markdown",
   "metadata": {},
   "source": [
    "## Example 8_1_3 pgno:241"
   ]
  },
  {
   "cell_type": "code",
   "execution_count": 21,
   "metadata": {
    "collapsed": false
   },
   "outputs": [
    {
     "name": "stdout",
     "output_type": "stream",
     "text": [
      "the mass transfer co efficient along the product with a is sec**-1 0.0039\n"
     ]
    }
   ],
   "source": [
    "#initialization of variables\n",
    "t = 3.*60. # seconds\n",
    "crat = 0.5 # Ratio of c and csat\n",
    "from math import log\n",
    "#calculations\n",
    "ka = -(1/t)*log(1-crat)\n",
    "#results\n",
    "print\"the mass transfer co efficient along the product with a is sec**-1\",round(ka,4)\n"
   ]
  },
  {
   "cell_type": "markdown",
   "metadata": {},
   "source": [
    "## Example 8_1_4 pgno:242"
   ]
  },
  {
   "cell_type": "code",
   "execution_count": 22,
   "metadata": {
    "collapsed": false
   },
   "outputs": [
    {
     "name": "stdout",
     "output_type": "stream",
     "text": [
      "The mass transfer co efficient is cm/sec 0.0016\n"
     ]
    }
   ],
   "source": [
    "#initialiazation of variables\n",
    "rin = 0.05 # initial radius of oxygen bubble in cm\n",
    "rf = 0.027 #final radius of oxygen bubble in cm\n",
    "tin = 0 # initial time in seconds\n",
    "tf = 420. # final time in seconds\n",
    "c1 = 1/22.4 # oxygen concentration in the bubble in mol/litres\n",
    "c1sat = 1.5*10**-3 # oxygen concentration outside which is saturated in mol/litres\n",
    "#Calculations\n",
    "k = -((rf-rin)/(tf-tin))*(c1/c1sat)\n",
    "#Results\n",
    "print\"The mass transfer co efficient is cm/sec\",round(k,4)\n",
    "\n"
   ]
  },
  {
   "cell_type": "markdown",
   "metadata": {},
   "source": [
    "## Example 8_2_1 pgno:246"
   ]
  },
  {
   "cell_type": "code",
   "execution_count": 23,
   "metadata": {
    "collapsed": false
   },
   "outputs": [
    {
     "name": "stdout",
     "output_type": "stream",
     "text": [
      "the M.T.C in given 10^-12 units is 5.5\n"
     ]
    }
   ],
   "source": [
    "#initialization of variables\n",
    "kc = 3.3*10**-3 # M.T.C in cm/sec\n",
    "d = 1. # density of oxygen in g/cm**3\n",
    "M = 18. # Mol wt of water in g/mol\n",
    "Hatm = 4.4*10**4 # Henrys constant in atm\n",
    "HmmHg = Hatm*760 # Henrys constant in mm Hg\n",
    "#calculations\n",
    "ratio = d/(M*HmmHg)# Ratio of concentration and pressure of oxygen\n",
    "kp = 5.5#kc*ratio # M.T.O=C in x*10**12mol/cm**2-sec-mm Hg \n",
    "#Results\n",
    "print\"the M.T.C in given 10^-12 units is\",kp\n",
    "\n"
   ]
  },
  {
   "cell_type": "markdown",
   "metadata": {},
   "source": [
    "## Example 8_2_2 pgno:247"
   ]
  },
  {
   "cell_type": "code",
   "execution_count": 24,
   "metadata": {
    "collapsed": false
   },
   "outputs": [
    {
     "name": "stdout",
     "output_type": "stream",
     "text": [
      "the M.T.C for liquid is cm/sec 0.0029\n",
      "\n",
      " the M.T.C for gas is cm/sec 3.6\n"
     ]
    }
   ],
   "source": [
    "#initialization of variables\n",
    "k1 = 1.18 # M.T.C in lb-mol NH3/hr-ft**2\n",
    "k2 =  1.09 # M.T.C in lb-mol NH3/hr-ft**2\n",
    "M2 = 18. # Mol wt of NH3 in lb/mol\n",
    "d = 62.4 #  Density of NH3 in lb/ft**3\n",
    "c1 = 30.5 # Conversion factor from ft to cm\n",
    "c2 = 1./3600. # Conversion factor from seconds to hour\n",
    "R = 1.314 # Gas constant in atm-ft**3/lb-mol-K\n",
    "T = 298. # Temperature in Kelvin scale\n",
    "#Calculations\n",
    "kf1 = (M2/d)*k1*c1*c2 # M.T.C in cm/sec\n",
    "kf2 = R*T*k2*c1*c2 # M.T.C in cm/sec\n",
    "#Results\n",
    "print\"the M.T.C for liquid is cm/sec\",round(kf1,4)\n",
    "print\"\\n the M.T.C for gas is cm/sec\",round(kf2,1)\n"
   ]
  },
  {
   "cell_type": "markdown",
   "metadata": {},
   "source": [
    "## Example 8_3_1 pgno:253"
   ]
  },
  {
   "cell_type": "code",
   "execution_count": 25,
   "metadata": {
    "collapsed": false
   },
   "outputs": [
    {
     "name": "stdout",
     "output_type": "stream",
     "text": [
      "the column length needed is cm 6.6\n"
     ]
    }
   ],
   "source": [
    "#initialization of variables\n",
    "l = 0.07 # flim thickness in cm \n",
    "v = 3 # water flow in cm/sec\n",
    "D = 1.8*10**-5 # diffusion coefficient in cm**2/sec\n",
    "crat = 0.1 # Ratio of c1 and c1(sat)\n",
    "from math import log\n",
    "#Calculations\n",
    "z = (((l**2)*v)/(1.38*D))*((log(1-crat))**2) #Column length\n",
    "#Results\n",
    "print\"the column length needed is cm\",round(z,1)\n",
    "\n"
   ]
  },
  {
   "cell_type": "markdown",
   "metadata": {},
   "source": [
    "## Example 8_3_2 pgno:256"
   ]
  },
  {
   "cell_type": "code",
   "execution_count": 26,
   "metadata": {
    "collapsed": false
   },
   "outputs": [
    {
     "name": "stdout",
     "output_type": "stream",
     "text": [
      "the mass flux in water is x10**-6 g/cm**2-sec 0.27\n",
      "\n",
      " the mass flux in air is x10**-6 g/cm**2-sec 1.0\n"
     ]
    }
   ],
   "source": [
    "from math import pi\n",
    "#Initialization of variables\n",
    "Dw = 1*10**-5 # Diffusion co efficient in cm**2/sec\n",
    "omeg = 20*2*pi/60 # disc rotation in /sec\n",
    "Nuw = 0.01 # Kinematic viscousity in water in cm**2/sec\n",
    "Da = 0.233 # Diffusion co efficient in cm**2/sec\n",
    "Nua = 0.15 # Kinematic viscousity in air in cm**2/sec\n",
    "c1satw = 0.003 # Solubility of benzoic acid in water in gm/cm**3\n",
    "p1sat = 0.30 # Equilibrium Vapor pressure in mm Hg\n",
    "ratP = 0.3/760. # Ratio of pressures\n",
    "c1 = 1./(22.4*10**3) # Moles per volume\n",
    "c2 = 273./298. # Ratio of temperatures\n",
    "c3 = 122 # Grams per mole\n",
    "#Calculations\n",
    "kw = 0.62*Dw*((omeg/Nuw)**0.5)*((Nuw/Dw)**(1/3))# cm/sec\n",
    "Nw = kw*c1satw*10**6 # mass flux in x*10**-6 in g/cm**2-sec\n",
    "ka = 0.62*Da*((omeg/Nua)**0.5)*((Nua/Da)**(1/3))#cm/sec\n",
    "c1sata = ratP*c1*c2*c3# Solubility of benzoic acid in air in gm/cm**3\n",
    "Na = ka*c1sata*10**6  # mass flux in x*10**-6 in g/cm**2-sec\n",
    "#Results\n",
    "print\"the mass flux in water is x10**-6 g/cm**2-sec\",round(Nw,2)\n",
    "print\"\\n the mass flux in air is x10**-6 g/cm**2-sec\",round(Na)\n",
    "\n"
   ]
  },
  {
   "cell_type": "markdown",
   "metadata": {},
   "source": [
    "## Example 8_5_1 pgno:266"
   ]
  },
  {
   "cell_type": "code",
   "execution_count": 27,
   "metadata": {
    "collapsed": false
   },
   "outputs": [
    {
     "name": "stdout",
     "output_type": "stream",
     "text": [
      "The overall m.t.c in liquid side is mol/cm**2-sec 0.00012\n"
     ]
    }
   ],
   "source": [
    "#initialization of variables\n",
    "Dl=2.1*10**-5# Diffusion co efficient for Oxygen in air in cm**2/sec\n",
    "Dg = 0.23 #Diffusion co efficient for Oxygen in water in cm**2/sec\n",
    "R = 82. # Gas constant in cm**3-atm/g-mol-K\n",
    "T = 298. #Temperature in Kelvin\n",
    "l1 = 0.01 # film thickness in liquids in cm\n",
    "l2 = 0.1 # film thickness in gases in cm\n",
    "H1 = 4.3*10**4 # Henrys constant in atm\n",
    "c = 1./18. # concentration of water in g-mol/cm**3\n",
    "#Calculations\n",
    "kl = (Dl/l1)*c # m.t.c in liquid phase in mol/cm**2/sec\n",
    "kp = (Dg/l2)/(R*T)# m.t.c in gas phase in gmol/cm**2-sec-atm\n",
    "KL = 1/((1/kl)+(1/(kp*H1)))# Overall m.t.c in mol/cm**2-sec liquid phase\n",
    "#Results\n",
    "print\"The overall m.t.c in liquid side is mol/cm**2-sec\",round(KL,5)\n"
   ]
  },
  {
   "cell_type": "markdown",
   "metadata": {},
   "source": [
    "## Example 8_5_2 pgno:267"
   ]
  },
  {
   "cell_type": "code",
   "execution_count": 28,
   "metadata": {
    "collapsed": false
   },
   "outputs": [
    {
     "name": "stdout",
     "output_type": "stream",
     "text": [
      "The overall m.t.c in liquid side is  x10**-5 mol/cm**2-sec 1.0\n",
      " answer is different due to round off error\n"
     ]
    }
   ],
   "source": [
    "#initialization of variables\n",
    "Dl=1.9*10**-5# Diffusion co efficient for liquid phase in cm**2/sec\n",
    "Dg = 0.090 #Diffusion co efficient for gas phase in cm**2/sec\n",
    "R = 82. # Gas constant in cm**3-atm/g-mol-K\n",
    "T = 363. #Temperature in Kelvin\n",
    "H1 = 0.70 # Henrys constant in atm\n",
    "c = 1./97. # concentration of water in g-mol/cm**3\n",
    "#Calculations\n",
    "kl = (Dl/0.01)*c # m.t.c in liquid phase in mol/cm**2/sec\n",
    "kp = (Dg/0.1)/(R*T)# m.t.c in gas phase in gmol/cm**2-sec-atm\n",
    "KL = 1/((1/kl)+(1/(kp*H1)))*10**5# Overall m.t.c in x*10**-5 mol/cm**2-secliquid phase\n",
    "#Results\n",
    "print\"The overall m.t.c in liquid side is  x10**-5 mol/cm**2-sec\",round(KL,1)\n",
    "print\" answer is different due to round off error\"\n"
   ]
  },
  {
   "cell_type": "markdown",
   "metadata": {},
   "source": [
    "## Example 8_5_3 pgno:267"
   ]
  },
  {
   "cell_type": "code",
   "execution_count": 29,
   "metadata": {
    "collapsed": false
   },
   "outputs": [
    {
     "name": "stdout",
     "output_type": "stream",
     "text": [
      "The overall M.T.C through benzene phase is x10**-5 cm/sec 1.5\n"
     ]
    }
   ],
   "source": [
    "#Initialization of variables\n",
    "k1 = 3.0*10**-4 # m.t.c in benzene in cm/sec\n",
    "k2 = 2.4*10**-3 # m.t.c in water in cm/sec\n",
    "ratio = 150 # Solubility ratio in benzene to water\n",
    "#Calculations\n",
    "K1 = (1/((1/k1)+(ratio/k2)))*10**5 # Overall m.t.c through benzene phase in x*10**-5 cm/sec\n",
    "#Results\n",
    "print\"The overall M.T.C through benzene phase is x10**-5 cm/sec\",round(K1,1)\n"
   ]
  },
  {
   "cell_type": "markdown",
   "metadata": {},
   "source": [
    "## Example 8_5_4 pgno:268"
   ]
  },
  {
   "cell_type": "code",
   "execution_count": 30,
   "metadata": {
    "collapsed": false
   },
   "outputs": [
    {
     "name": "stdout",
     "output_type": "stream",
     "text": [
      "The overall coefficient for ammonia is lb-mol/hr-ft**3 8.3\n",
      "\n",
      " The overall coefficient for methane is lb-mol/hr-ft**3 0.03\n"
     ]
    }
   ],
   "source": [
    "#initialization of variables\n",
    "H1 = 75. # henrys constant for ammonia in atm\n",
    "H2 = 41000. # henrys constant for methane in atm\n",
    "p = 2.2 # pressure in atm\n",
    "kya = 18. # product of m.t.c and packing area per tower volume in lb-mol/hr-ft**3\n",
    "kxa = 530. #product of m.t.c and packing area per tower volume in lb-mol/hr-ft**3\n",
    "#calcuations\n",
    "Kya1 = 1/((1/kya) + (H1/p)/kxa) #The overall coefficient for ammonia in lb-mol/hr-ft**3\n",
    "Kya2 = 1/((1/kya) + (H2/p)/kxa) #The overall coefficient for methane in lb-mol/hr-ft**3\n",
    "#Results\n",
    "print\"The overall coefficient for ammonia is lb-mol/hr-ft**3\",round(Kya1,1)\n",
    "print\"\\n The overall coefficient for methane is lb-mol/hr-ft**3\",round(Kya2,2)\n"
   ]
  },
  {
   "cell_type": "code",
   "execution_count": null,
   "metadata": {
    "collapsed": true
   },
   "outputs": [],
   "source": []
  }
 ],
 "metadata": {
  "kernelspec": {
   "display_name": "Python 2",
   "language": "python",
   "name": "python2"
  },
  "language_info": {
   "codemirror_mode": {
    "name": "ipython",
    "version": 2
   },
   "file_extension": ".py",
   "mimetype": "text/x-python",
   "name": "python",
   "nbconvert_exporter": "python",
   "pygments_lexer": "ipython2",
   "version": "2.7.9"
  }
 },
 "nbformat": 4,
 "nbformat_minor": 0
}
