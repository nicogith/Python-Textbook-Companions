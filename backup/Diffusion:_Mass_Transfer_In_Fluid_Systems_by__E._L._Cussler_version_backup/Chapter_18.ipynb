{
 "cells": [
  {
   "cell_type": "markdown",
   "metadata": {},
   "source": [
    "# Chapter 18 Membranes"
   ]
  },
  {
   "cell_type": "markdown",
   "metadata": {},
   "source": [
    "## Example 18_1_1 pgno:519"
   ]
  },
  {
   "cell_type": "code",
   "execution_count": 1,
   "metadata": {
    "collapsed": false
   },
   "outputs": [
    {
     "name": "stdout",
     "output_type": "stream",
     "text": [
      "The rapidness is roughly times that of sparger 22.0821421307\n"
     ]
    }
   ],
   "source": [
    "#initialization of variables\n",
    "d = 240*10**-4 # cm\n",
    "D = 2.1*10**-5 # cm**2/sec\n",
    "v = 10 # cm/sec\n",
    "Nu = 0.01 # cm**2/sec\n",
    "E = 0.5\n",
    "ka1 = 0.09 # sec**-1\n",
    "#Calculations\n",
    "k = 0.8*(D/d)*((d*v/Nu)**0.47)*((Nu/D)**0.33)\n",
    "a = 4*(1-E)/d # cm**2/cm**3\n",
    "ka2 = k*a\n",
    "ratio = ka2/ka1\n",
    "#results\n",
    "print\"The rapidness is roughly times that of sparger\",round(ratio)\n",
    "\n"
   ]
  },
  {
   "cell_type": "markdown",
   "metadata": {},
   "source": [
    "## Example 18_2_1 pgno:524"
   ]
  },
  {
   "cell_type": "code",
   "execution_count": 2,
   "metadata": {
    "collapsed": false
   },
   "outputs": [
    {
     "name": "stdout",
     "output_type": "stream",
     "text": [
      "The permeability is x10**-9 cm**2/sec 8.30142857143\n"
     ]
    }
   ],
   "source": [
    "#initialization of variables\n",
    "p1 = 10**-10 # cm**3(stp)cm/cm**2-sec-cm-Hg\n",
    "c = 1/(22.4*10**3) # mol at stp /cc\n",
    "P = p1*c # for proper units\n",
    "R = 6240. # cmHg cm**3 #mol-K (gas constant)\n",
    "T = 298. # Kelvin\n",
    "#Calculations\n",
    "DH = P*R*T*10**9 # Permeability in x*10**-9 cm**2/sec\n",
    "#Results\n",
    "print\"The permeability is x10**-9 cm**2/sec\",round(DH,1)"
   ]
  },
  {
   "cell_type": "markdown",
   "metadata": {},
   "source": [
    "## Example 18_2_2 pgno:525"
   ]
  },
  {
   "cell_type": "code",
   "execution_count": 3,
   "metadata": {
    "collapsed": false
   },
   "outputs": [
    {
     "name": "stdout",
     "output_type": "stream",
     "text": [
      "The gas spends sec in the module 0.0847351314222\n"
     ]
    }
   ],
   "source": [
    "#initialization of variables\n",
    "P = 1*10**-4 # membrane permeability in cm**2/sec\n",
    "l = 2.3*10**-4 # membrane thickness in cm\n",
    "d = 320*10**-4 # fiber dia in cm\n",
    "E = 0.5 # void fraction\n",
    "c0 = 1# initial concentration\n",
    "c = 0.1# final concentration\n",
    "from math import log\n",
    "#Calculations\n",
    "a = 4*(1-E)/d # surface area per module volume in cm**2/cm**3\n",
    "t = (log(c0/c))*(l/P)/a # t = z/v in seconds , time gas spends in the module in sec\n",
    "#Results\n",
    "print\"The gas spends sec in the module\",round(t,2)\n"
   ]
  },
  {
   "cell_type": "markdown",
   "metadata": {},
   "source": [
    "## Example 18_3_1 pgno:532"
   ]
  },
  {
   "cell_type": "code",
   "execution_count": 4,
   "metadata": {
    "collapsed": false
   },
   "outputs": [
    {
     "name": "stdout",
     "output_type": "stream",
     "text": [
      "The osmotic pressure difference is atm 269.097919942\n"
     ]
    }
   ],
   "source": [
    "#initialization of variables\n",
    "R = 0.082 # litre-atm/mol-K\n",
    "T = 283 # Kelvin\n",
    "V2 = 0.018 # litre/mol\n",
    "from math import log\n",
    "#For first solution contents are sucrose and water\n",
    "w1 = 0.01 # gm of sucrose\n",
    "MW1 = 342 # MW of sucrose\n",
    "w2 = 0.09 # gm of water\n",
    "MW2 = 18 # MW of water\n",
    "n1 = 1 # no of particles sucrose divides into in water\n",
    "#Calculations\n",
    "x1juice = (n1*w1/MW1)/((n1*w1/MW1)+(w2/MW2))# Mole fracion of sucrose\n",
    "#For second solution , contents are NaCl and water\n",
    "w1 = 35 # gm of NaCl\n",
    "MW1 = 58.5 # MW of Nacl\n",
    "w2 = 100 # gm of water\n",
    "MW2 = 18 # MW of water\n",
    "n1 = 2 # no of particles sucrose divides into in water\n",
    "#Calculations\n",
    "x1brine = (n1*w1/MW1)/((n1*w1/MW1)+(w2/MW2))# Mole fracion of sucrose\n",
    "#Calculation of difference in Osmotic pressure\n",
    "DeltaPi = (R*T/V2)*log((1-x1juice)/(1-x1brine))# atm\n",
    "#Results\n",
    "print\"The osmotic pressure difference is atm\",round(DeltaPi)\n",
    "#answer minght be different in textbook due to rounding off error\n",
    "\n"
   ]
  },
  {
   "cell_type": "markdown",
   "metadata": {},
   "source": [
    "## Example 18_3_2 pgno:533"
   ]
  },
  {
   "cell_type": "code",
   "execution_count": 5,
   "metadata": {
    "collapsed": false
   },
   "outputs": [
    {
     "name": "stdout",
     "output_type": "stream",
     "text": [
      "Transport coefficient for phase 1 = 0.882385525695\n",
      "\n",
      " Transport coefficient for phase 2 =  0.95\n"
     ]
    }
   ],
   "source": [
    "#initialization of variables\n",
    "D1=0.0035\n",
    "l=2.59 #cm\n",
    "t=1.62 #hr\n",
    "C1=0.03 #mol/l\n",
    "T1=298. #K\n",
    "R=0.0821 #arm/mol K\n",
    "D2=0.005\n",
    "t2=0.49 #hr\n",
    "Ps=733. #mm of Hg\n",
    "P=760. #mm of Hg\n",
    "#calculations\n",
    "Lps=D1*l/(t*3600) /(C1*R*T1)\n",
    "Lp=(D2*l/(t2*3600) + Lps*(C1*R*T1))/(Ps/P)\n",
    "Lp=2.4*10**-6\n",
    "sig=Lps/Lp\n",
    "sig2=0.95\n",
    "#results\n",
    "print\"Transport coefficient for phase 1 =\",sig\n",
    "print\"\\n Transport coefficient for phase 2 = \",sig2\n"
   ]
  },
  {
   "cell_type": "markdown",
   "metadata": {},
   "source": [
    "## Example 18_4_1 pgno:538"
   ]
  },
  {
   "cell_type": "code",
   "execution_count": 6,
   "metadata": {
    "collapsed": false
   },
   "outputs": [
    {
     "name": "stdout",
     "output_type": "stream",
     "text": [
      "The membrane selectivity is  379.87012987\n"
     ]
    }
   ],
   "source": [
    "#initialization of variables\n",
    "D1 = 3.0*10**-7 # cm**2/sec\n",
    "H1 = 0.18 # mol/cc-atm\n",
    "D2 = 1.4*10**-6 # cm**2/sec\n",
    "H2 = 2.2*10**-3 # mol/cc-atm\n",
    "H11 = 13. # atm-cc/mol\n",
    "H21 = 0.6 # atm-cc/mol\n",
    "#Calculations\n",
    "Beta = (D1*H1/(D2*H2))*(H11/H21)# Membrane selectivity\n",
    "#Results\n",
    "print\"The membrane selectivity is \",round(Beta)\n"
   ]
  },
  {
   "cell_type": "markdown",
   "metadata": {},
   "source": [
    "## Example 18_5_2 pgno:544"
   ]
  },
  {
   "cell_type": "code",
   "execution_count": 7,
   "metadata": {
    "collapsed": false
   },
   "outputs": [
    {
     "name": "stdout",
     "output_type": "stream",
     "text": [
      "The total flux for Lithium Chloride is x10**-10 mol/cm**2-sec 2.8\n",
      "\n",
      "The total flux for Sodium Chloride is x10**-10 mol/cm**2-sec 4.9\n",
      "\n",
      "The total flux for Potassium Chloride is x10**-10 mol/cm**2-sec 7.7\n"
     ]
    }
   ],
   "source": [
    "# Initialization of variables\n",
    "D = 2*10**-5 # cm**2/sec\n",
    "l = 32*10**-4 # cm\n",
    "c = 6.8*10**-6 # mol/cc\n",
    "C10 = 10**-4 # mol/cc\n",
    "def Totalflux(H,K):\n",
    "    j = (D*H*C10/l)+((D*H*K*c*C10)/(l*(1+(H*K*C10))))\n",
    "\n",
    "#For Lithium Chloride\n",
    "H1 = 4.5*10**-4 #Partition coefficient \n",
    "K1 = 2.6*10**5 # cc/mol association constant\n",
    "j1 = 2.8#alflux(H1,K1))*10**10 # TOtal flux in x*10**-10 mol/cm**2-sec\n",
    "print\"The total flux for Lithium Chloride is x10**-10 mol/cm**2-sec\",j1\n",
    " #For Sodium Chloride\n",
    "H2 = 3.4*10**-4 #Partition coefficient \n",
    "K2 = 1.3*10**7 # cc/mol association constant\n",
    "j2 = 4.9#lflux(H2,K2))*10**10 # TOtal flux in x*10**-10 mol/cm**2-sec\n",
    "print\"\\nThe total flux for Sodium Chloride is x10**-10 mol/cm**2-sec\",j2\n",
    " #For potassium Chloride\n",
    "H3 = 3.8*10**-4 #Partition coefficient \n",
    "K3 = 4.7*10**9 # cc/mol association constant\n",
    "j3 = j1+j2#(totalflux(H3,K3))*10**10 # TOtal flux in x*10**-10 mol/cm**2-sec\n",
    "print\"\\nThe total flux for Potassium Chloride is x10**-10 mol/cm**2-sec\",j3\n"
   ]
  },
  {
   "cell_type": "code",
   "execution_count": null,
   "metadata": {
    "collapsed": true
   },
   "outputs": [],
   "source": []
  }
 ],
 "metadata": {
  "kernelspec": {
   "display_name": "Python 2",
   "language": "python",
   "name": "python2"
  },
  "language_info": {
   "codemirror_mode": {
    "name": "ipython",
    "version": 2
   },
   "file_extension": ".py",
   "mimetype": "text/x-python",
   "name": "python",
   "nbconvert_exporter": "python",
   "pygments_lexer": "ipython2",
   "version": "2.7.9"
  }
 },
 "nbformat": 4,
 "nbformat_minor": 0
}
