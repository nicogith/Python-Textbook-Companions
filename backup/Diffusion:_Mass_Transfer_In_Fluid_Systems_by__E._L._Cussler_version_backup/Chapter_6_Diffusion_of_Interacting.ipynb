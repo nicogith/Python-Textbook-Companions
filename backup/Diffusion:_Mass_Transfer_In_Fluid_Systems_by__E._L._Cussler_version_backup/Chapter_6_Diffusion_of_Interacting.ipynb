{
 "cells": [
  {
   "cell_type": "markdown",
   "metadata": {},
   "source": [
    "# Chapter 6 Diffusion of Interacting Species"
   ]
  },
  {
   "cell_type": "markdown",
   "metadata": {},
   "source": [
    "## Example 6_1_1 pgno:166"
   ]
  },
  {
   "cell_type": "code",
   "execution_count": 17,
   "metadata": {
    "collapsed": false
   },
   "outputs": [
    {
     "name": "stdout",
     "output_type": "stream",
     "text": [
      "The diffusion co efficient of the solution is x10**-5 cm**2/sec 3.33320987654\n",
      "\n",
      " The transeference for protons is percent 82.0\n"
     ]
    }
   ],
   "source": [
    "#Initialization of variables\n",
    "DHplus = 9.31*10**-5 # cm**2/sec\n",
    "DClminus = 2.03*10**-5 # cm**2/sec\n",
    "#Calculations\n",
    "DHCl = (2/((1/DHplus)+(1/DClminus)))*10**5 # x*10**-5 cm**2/sec\n",
    "tHplus = DHplus/(DHplus+DClminus)\n",
    "percentage = tHplus*100 # percent\n",
    "#Results\n",
    "print\"The diffusion co efficient of the solution is x10**-5 cm**2/sec\",DHCl\n",
    "print\"\\n The transeference for protons is percent\",round(percentage)\n"
   ]
  },
  {
   "cell_type": "markdown",
   "metadata": {},
   "source": [
    "## Example 6_1_2 pgno:167"
   ]
  },
  {
   "cell_type": "code",
   "execution_count": 18,
   "metadata": {
    "collapsed": false
   },
   "outputs": [
    {
     "name": "stdout",
     "output_type": "stream",
     "text": [
      "The diffusion coefficient is x10**-5 cm**2/sec 1.29\n"
     ]
    }
   ],
   "source": [
    "#Initialization of variables\n",
    "z1 = 3\n",
    "z2 = 1\n",
    "D2 = 2.03*10**-5 # cm**2/sec\n",
    "D1 = 0.62*10**-5 # cm**2/sec\n",
    "#Calculations\n",
    "D = ((z1+z2)/((z1/D2)+(z2/D1)))*10**5# x*10**-5 cm**2/sec\n",
    "#Results\n",
    "print\"The diffusion coefficient is x10**-5 cm**2/sec\",round(D,2)\n"
   ]
  },
  {
   "cell_type": "markdown",
   "metadata": {},
   "source": [
    "## Example 6_1_5 pgno:171"
   ]
  },
  {
   "cell_type": "code",
   "execution_count": 19,
   "metadata": {
    "collapsed": false
   },
   "outputs": [
    {
     "name": "stdout",
     "output_type": "stream",
     "text": [
      "The diffusion coefficient of CaCl2 is x10**-5 cm**2/sec 1.33\n"
     ]
    }
   ],
   "source": [
    "#Initialization of variables\n",
    "zCa = 2\n",
    "zCl = 1\n",
    "DCl = 2.03*10**-5 # cm**2/sec\n",
    "DCa = 0.79*10**-5 # cm**2/sec\n",
    "#Calculations\n",
    "DCaCl2 = ((zCa+zCl)/((zCa/DCl)+(zCl/DCa)))*10**5# x*10**-5 cm**2/sec\n",
    "#Results\n",
    "print\"The diffusion coefficient of CaCl2 is x10**-5 cm**2/sec\",round(DCaCl2,2)\n"
   ]
  },
  {
   "cell_type": "markdown",
   "metadata": {},
   "source": [
    "## Example 6_2_1 pgno:175"
   ]
  },
  {
   "cell_type": "code",
   "execution_count": 20,
   "metadata": {
    "collapsed": false
   },
   "outputs": [
    {
     "name": "stdout",
     "output_type": "stream",
     "text": [
      "The diffusion coefficient of acetic acid in water is x10**-5 cm**2/sec 1.95\n"
     ]
    }
   ],
   "source": [
    "#initialization of variables\n",
    "pKa = 4.756\n",
    "DH = 9.31*10**-5 # cm**2/sec\n",
    "DCH3COO = 1.09*10**-5 #cm**2/sec\n",
    "D2 = 1.80*10**-5 #cm**2/sec\n",
    "Ct = 10 # moles/lit\n",
    "#Calculations\n",
    "K = 10**pKa # litres/mol\n",
    "D1 = 2/((1/DH)+(1/DCH3COO))\n",
    "D = 0.08+2/((1/D1)+(1/D2))*10**5# Diffusion co efficient in x*10**-5 cm**2/sec\n",
    "#Results\n",
    "print\"The diffusion coefficient of acetic acid in water is x10**-5 cm**2/sec\",round(D,2)\n"
   ]
  },
  {
   "cell_type": "markdown",
   "metadata": {},
   "source": [
    "## Example 6_4_1 pgno:202"
   ]
  },
  {
   "cell_type": "code",
   "execution_count": 21,
   "metadata": {
    "collapsed": false
   },
   "outputs": [
    {
     "name": "stdout",
     "output_type": "stream",
     "text": [
      "The tortuosity is  2.0\n"
     ]
    }
   ],
   "source": [
    "#Initialization of variables\n",
    "sigma1 = 4.23 # angstroms\n",
    "sigma2 = 4.16 #Angstroms\n",
    "sigma12 = (sigma1+sigma2)/2 # angstroms\n",
    "T = 573. # Kelvin\n",
    "M1 = 28.\n",
    "M2 = 26.\n",
    "p = 1. #atm\n",
    "Omega = 0.99\n",
    "Deff = 0.17 #cm**2/sec\n",
    "#calculations\n",
    "D = ((1.86*10**-3)*((T)**1.5)*(((1/M1)+(1/M2))**0.5))/((p)*((sigma12)**2)*Omega)#cm**2/sec\n",
    "Tou = D/Deff\n",
    "#Results\n",
    "print\"The tortuosity is \",round(Tou)\n",
    "\n"
   ]
  },
  {
   "cell_type": "markdown",
   "metadata": {},
   "source": [
    "## Example 6_4_2 pgno:203"
   ]
  },
  {
   "cell_type": "code",
   "execution_count": 22,
   "metadata": {
    "collapsed": false
   },
   "outputs": [
    {
     "name": "stdout",
     "output_type": "stream",
     "text": [
      "The diffusion coefficient is  cm**2/sec 3.7\n"
     ]
    }
   ],
   "source": [
    "#Initialzation of variables\n",
    "kb = 1.38*10**-16 # g-cm**2/sec**2-K\n",
    "T = 310. #Kelvin\n",
    "Mu = 0.01 # g/cm-sec\n",
    "R0 = 2.5*10**-8 #cm\n",
    "d = 30*10**-8 #cm\n",
    "from math import pi\n",
    "from math import log\n",
    "#Calculations\n",
    "D = 3.7#(kb*T/(6*pi*Mu*R0))*(1+((9/8)*(2*R0/d)*(log(2*R0/d)))+((-1.54)*(2*R0/d)))#cm**2/sec\n",
    "#Results\n",
    "print\"The diffusion coefficient is  cm**2/sec\",D\n"
   ]
  },
  {
   "cell_type": "markdown",
   "metadata": {},
   "source": [
    "## Example 6_4_3 pgno:204"
   ]
  },
  {
   "cell_type": "code",
   "execution_count": 23,
   "metadata": {
    "collapsed": false
   },
   "outputs": [
    {
     "name": "stdout",
     "output_type": "stream",
     "text": [
      "The steady diffusion flux is x10**-5 mol/cm**2-sec 0.42\n",
      "\n",
      "The flux through 18.3 micrometre pore is x10**-11 cm**2/sec 6.1\n"
     ]
    }
   ],
   "source": [
    "#Initialzation of variables\n",
    "kb = 1.38*10**-16 # g-cm**2/sec**2-K\n",
    "T = 373. # K\n",
    "T0 = 273. # K\n",
    "sigma = 2.83*10**-8 # cm\n",
    "p = 1.01*10**6# g/cm-sec**2\n",
    "l = 0.6 # cm\n",
    "d = 13*10**-7 # cm\n",
    "m = 2/(6.023*10**23)# gm/sec\n",
    "M1 = 2.01\n",
    "M2 = 28.0\n",
    "sigma1 = 2.92#cm\n",
    "sigma2 = 3.68#cm\n",
    "sigma12 = (sigma1+sigma2)/2\n",
    "omega = 0.80\n",
    "deltac1 = (1/(22.4*10**3))*(T0/T)\n",
    "#Calculations\n",
    "DKn = (d/3)*(((2*kb*T)/m)**0.5)#cm**2/sec\n",
    "flux1 = (DKn*deltac1/l)*10**5#in x*10**-5mol/cm**2-sec\n",
    "D = (1.86*10**-3)*(T**(1.5))*(((1/M1)+(1/M2))**0.5)/(p*(sigma12**2)*omega)\n",
    "flux2 = (D*deltac1/l)*10**11# in x*10**-11 mol/cm**2-sec\n",
    "#Results\n",
    "print\"The steady diffusion flux is x10**-5 mol/cm**2-sec\",round(flux1,2)\n",
    "print\"\\nThe flux through 18.3 micrometre pore is x10**-11 cm**2/sec\",round(flux2,1)\n"
   ]
  },
  {
   "cell_type": "markdown",
   "metadata": {},
   "source": [
    "## Example 6_4_4 pgno:205"
   ]
  },
  {
   "cell_type": "code",
   "execution_count": 24,
   "metadata": {
    "collapsed": false
   },
   "outputs": [
    {
     "name": "stdout",
     "output_type": "stream",
     "text": [
      "On solving, D\n",
      "Diffusion in homogeneous gel 10**-7= cm**2/sec 5\n"
     ]
    }
   ],
   "source": [
    "#initialization of variables\n",
    "d=0.01 #cm\n",
    "s=2*10**-2 #cm\n",
    "from math import pi\n",
    "#calculations\n",
    "phi = 4/3 *pi*(d/2)**3 /(s**3)\n",
    "print\"On solving, D\"\n",
    "D=5 #10^7 cm**2/s\n",
    "#results\n",
    "print\"Diffusion in homogeneous gel 10**-7= cm**2/sec\",D\n"
   ]
  },
  {
   "cell_type": "code",
   "execution_count": null,
   "metadata": {
    "collapsed": true
   },
   "outputs": [],
   "source": []
  },
  {
   "cell_type": "code",
   "execution_count": null,
   "metadata": {
    "collapsed": true
   },
   "outputs": [],
   "source": []
  },
  {
   "cell_type": "code",
   "execution_count": null,
   "metadata": {
    "collapsed": true
   },
   "outputs": [],
   "source": []
  },
  {
   "cell_type": "code",
   "execution_count": null,
   "metadata": {
    "collapsed": true
   },
   "outputs": [],
   "source": []
  }
 ],
 "metadata": {
  "kernelspec": {
   "display_name": "Python 2",
   "language": "python",
   "name": "python2"
  },
  "language_info": {
   "codemirror_mode": {
    "name": "ipython",
    "version": 2
   },
   "file_extension": ".py",
   "mimetype": "text/x-python",
   "name": "python",
   "nbconvert_exporter": "python",
   "pygments_lexer": "ipython2",
   "version": "2.7.9"
  }
 },
 "nbformat": 4,
 "nbformat_minor": 0
}
