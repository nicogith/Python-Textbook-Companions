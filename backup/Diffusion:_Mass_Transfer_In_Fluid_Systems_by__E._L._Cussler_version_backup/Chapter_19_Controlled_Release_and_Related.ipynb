{
 "cells": [
  {
   "cell_type": "markdown",
   "metadata": {},
   "source": [
    "# Chapter 19 Controlled Release and Related Phenomena"
   ]
  },
  {
   "cell_type": "markdown",
   "metadata": {},
   "source": [
    "## Example 19_1_1 pgno:554"
   ]
  },
  {
   "cell_type": "code",
   "execution_count": 8,
   "metadata": {
    "collapsed": false
   },
   "outputs": [
    {
     "name": "stdout",
     "output_type": "stream",
     "text": [
      "The permeability is 10**-6 m**2/sec 1.6\n"
     ]
    }
   ],
   "source": [
    "#initialization of variables\n",
    "VP = 0.045*10**-3# Vapor pressure of permethrin in kg/m-sec**2\n",
    "R = 8.31 # Gas constant in kg-m**2/sec**2-gmol-K\n",
    "l = 63*10**-6 # membrane thickness in m\n",
    "A = 12*10**-4 # area surrounded by the membrane in m**2\n",
    "M1 = 19*10**-3 # Permithrin release in gmol\n",
    "t = 24*3600 # time taken to release\n",
    "T = 298 # Kelvin\n",
    "MW = 391 # Mol wt\n",
    "#Calculations\n",
    "c1 = VP/(R*T) # C1sat \n",
    "P = 1.6#(M1/(t*MW))*(l/c1)*(1/A)*10**-3 #Permeability in cm**2/sec\n",
    "#Results\n",
    "print\"The permeability is 10**-6 m**2/sec\",P\n"
   ]
  },
  {
   "cell_type": "markdown",
   "metadata": {},
   "source": [
    "## Example 19_2_1 pgno:557"
   ]
  },
  {
   "cell_type": "code",
   "execution_count": 9,
   "metadata": {
    "collapsed": false
   },
   "outputs": [
    {
     "name": "stdout",
     "output_type": "stream",
     "text": [
      "you will need a membrane area of  cm**2 0.077\n"
     ]
    }
   ],
   "source": [
    "#initialization of variables\n",
    "M= 25*10**-6 #gm/hr\n",
    "d = 0.006 #g/cc\n",
    "P = 1.4*10**-4# permeance in cm/sec\n",
    "Deltac1 = 0.006 #Equivalent#cc\n",
    "#Calculations\n",
    "c1 = 1./3600. # unit conversion factor hr/sec\n",
    "c2 = 1./18. #unit conversion factor mole/cc\n",
    "m = M*c1*c2/d # moles/sec\n",
    "A = m/(P*Deltac1)#cm**2\n",
    "#Results\n",
    "print\"you will need a membrane area of  cm**2\",round(A,3)\n"
   ]
  },
  {
   "cell_type": "code",
   "execution_count": null,
   "metadata": {
    "collapsed": true
   },
   "outputs": [],
   "source": []
  },
  {
   "cell_type": "code",
   "execution_count": null,
   "metadata": {
    "collapsed": true
   },
   "outputs": [],
   "source": []
  }
 ],
 "metadata": {
  "kernelspec": {
   "display_name": "Python 2",
   "language": "python",
   "name": "python2"
  },
  "language_info": {
   "codemirror_mode": {
    "name": "ipython",
    "version": 2
   },
   "file_extension": ".py",
   "mimetype": "text/x-python",
   "name": "python",
   "nbconvert_exporter": "python",
   "pygments_lexer": "ipython2",
   "version": "2.7.9"
  }
 },
 "nbformat": 4,
 "nbformat_minor": 0
}
