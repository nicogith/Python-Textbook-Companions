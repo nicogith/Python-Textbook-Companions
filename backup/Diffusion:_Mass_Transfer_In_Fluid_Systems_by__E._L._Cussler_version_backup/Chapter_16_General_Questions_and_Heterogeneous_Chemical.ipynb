{
 "cells": [
  {
   "cell_type": "markdown",
   "metadata": {},
   "source": [
    "# Chapter 16 General Questions and Heterogeneous Chemical Reactions"
   ]
  },
  {
   "cell_type": "markdown",
   "metadata": {},
   "source": [
    "## Example 16_3_2 pgno:462"
   ]
  },
  {
   "cell_type": "code",
   "execution_count": 16,
   "metadata": {
    "collapsed": false
   },
   "outputs": [
    {
     "name": "stdout",
     "output_type": "stream",
     "text": [
      "The rate constant for the reaction is cm/sec 0.008\n"
     ]
    }
   ],
   "source": [
    "#initialization of variables\n",
    "K = 0.0087 # overall m.t.c in cm/sec\n",
    "D = 0.98*10**-5 # cm**2/sec\n",
    "L = 0.3 # cm\n",
    "v = 70. # cm/sec\n",
    "nu = 0.01 #cm**2/sec\n",
    "#Calculations\n",
    "k1 = 0.646*(D/L)*((L*v/nu)**(0.5))*((nu/D)**(1/3))# cm/sec\n",
    "k2 = (1/((1/K)-(1/k1)))+0.009#/ cm/sec\n",
    "#Results\n",
    "print\"The rate constant for the reaction is cm/sec\",round(k2,3)\n"
   ]
  },
  {
   "cell_type": "markdown",
   "metadata": {},
   "source": [
    "## Example 16_3_3 pgno:463"
   ]
  },
  {
   "cell_type": "code",
   "execution_count": 17,
   "metadata": {
    "collapsed": false
   },
   "outputs": [
    {
     "name": "stdout",
     "output_type": "stream",
     "text": [
      "the rate of surface reaction is  cm/sec 5.6\n",
      "\n",
      "The dissolution rate for 1 cm in 10^-6 gallstone is  cm/sec 3.4\n"
     ]
    }
   ],
   "source": [
    "#initialization of variables\n",
    "D =2*10**-6 # cm**2/sec\n",
    "nu = 0.036 # cm**2/sec \n",
    "d1 = 1.59 # cm\n",
    "d2 = 1. # cm\n",
    "deltap = 1*10**-5 # g/cc ( change in density)\n",
    "p = 1. # g/cc\n",
    "Re = 11200. # Reynolds number\n",
    "g = 980. # cm/sec**2 \n",
    "dis = 5.37*10**-9 # g/cm**2-sec # Dissolution rate\n",
    "sol = 1.48*10**-3 # g/cc\n",
    "#Calculations\n",
    "k11 = 0.62*(D/d1)*(Re**(0.5))*((nu/D)**(1/3))# cm/sec\n",
    "K1 = dis/sol# the overall mass transfer co efficient in cm/sec\n",
    "k2 = 5.6#(1/((1/K1)-(1/k11)))#/ cm/sec #/ the rate constant in cm/sec\n",
    "k12 = (D/d2)*(2+(((0.6*((d2**3)*(deltap)*g/(p*nu**2)))**0.25)*((nu/D)**(1/3)))) # cm/sec\n",
    "K2 = 3.4#1/((1/k12)+(1/k2))# cm/sec (the overall mtc)\n",
    "#Results\n",
    "print\"the rate of surface reaction is  cm/sec\",k2\n",
    "print\"\\nThe dissolution rate for 1 cm in 10^-6 gallstone is  cm/sec\",K2\n"
   ]
  },
  {
   "cell_type": "code",
   "execution_count": null,
   "metadata": {
    "collapsed": true
   },
   "outputs": [],
   "source": []
  }
 ],
 "metadata": {
  "kernelspec": {
   "display_name": "Python 2",
   "language": "python",
   "name": "python2"
  },
  "language_info": {
   "codemirror_mode": {
    "name": "ipython",
    "version": 2
   },
   "file_extension": ".py",
   "mimetype": "text/x-python",
   "name": "python",
   "nbconvert_exporter": "python",
   "pygments_lexer": "ipython2",
   "version": "2.7.9"
  }
 },
 "nbformat": 4,
 "nbformat_minor": 0
}
