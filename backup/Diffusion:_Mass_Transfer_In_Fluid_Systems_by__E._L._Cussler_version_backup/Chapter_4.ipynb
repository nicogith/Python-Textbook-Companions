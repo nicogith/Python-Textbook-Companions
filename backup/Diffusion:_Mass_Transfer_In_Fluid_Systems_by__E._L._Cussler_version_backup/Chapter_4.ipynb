{
 "cells": [
  {
   "cell_type": "markdown",
   "metadata": {},
   "source": [
    "# Chapter 4 Dispersion"
   ]
  },
  {
   "cell_type": "markdown",
   "metadata": {},
   "source": [
    "## Example 4_2_1 pgno:100"
   ]
  },
  {
   "cell_type": "code",
   "execution_count": 5,
   "metadata": {
    "collapsed": false
   },
   "outputs": [
    {
     "name": "stdout",
     "output_type": "stream",
     "text": [
      "The value of dispersion coefficent is  cm**2/sec 1799.9161961\n",
      "\n",
      " The value of maximum concentration  at 15 km downstream is  ppm 314.0\n"
     ]
    }
   ],
   "source": [
    "#initialization of variables\n",
    "z = 80. # metres\n",
    "c1 = 410. #ppm\n",
    "c = 860. # ppm\n",
    "d = 2. #km\n",
    "v = 0.6 #km/hr\n",
    "r = 3600. #sec/hr\n",
    "from math import log\n",
    "\n",
    "#Calculations\n",
    "t1 = (d/v)*r#sec\n",
    "E = (-((z**2)/(4*t1))/(log(410./860.)))*10**4# cm**2/sec#answer in textbook is wrong\n",
    "d2 = 15. #km\n",
    "c2 = c*((d/d2)**0.5)#ppm\n",
    "#Results\n",
    "print\"The value of dispersion coefficent is  cm**2/sec\",E\n",
    "print\"\\n The value of maximum concentration  at 15 km downstream is  ppm\",round(c2)\n",
    "\n"
   ]
  },
  {
   "cell_type": "markdown",
   "metadata": {},
   "source": [
    "## Example 4_2_2 pgno:100"
   ]
  },
  {
   "cell_type": "code",
   "execution_count": 4,
   "metadata": {
    "collapsed": false
   },
   "outputs": [
    {
     "name": "stdout",
     "output_type": "stream",
     "text": [
      "the concentration change is 24.0\n",
      " The percent of pipe containing mixed gases is  percent 0.82\n"
     ]
    }
   ],
   "source": [
    "#initialization of variables\n",
    "d = 10. #cm\n",
    "s = 3. # km\n",
    "v = 500. #cm/sec\n",
    "nu = 0.15 # cm**2/sec\n",
    "#Calculations\n",
    "E = 0.5*d*v # cm**2/s\n",
    "c1 = 1000. # m/km\n",
    "c2 = 1./100. # m/cm\n",
    "z = (4*E*c1*c2*s/v)**0.5\n",
    "percent = z*100/(s*c1)\n",
    "#Results\n",
    "print\"the concentration change is\",round(z)\n",
    "print\" The percent of pipe containing mixed gases is  percent\",round(percent,2)\n"
   ]
  },
  {
   "cell_type": "code",
   "execution_count": null,
   "metadata": {
    "collapsed": true
   },
   "outputs": [],
   "source": []
  }
 ],
 "metadata": {
  "kernelspec": {
   "display_name": "Python 2",
   "language": "python",
   "name": "python2"
  },
  "language_info": {
   "codemirror_mode": {
    "name": "ipython",
    "version": 2
   },
   "file_extension": ".py",
   "mimetype": "text/x-python",
   "name": "python",
   "nbconvert_exporter": "python",
   "pygments_lexer": "ipython2",
   "version": "2.7.9"
  }
 },
 "nbformat": 4,
 "nbformat_minor": 0
}
