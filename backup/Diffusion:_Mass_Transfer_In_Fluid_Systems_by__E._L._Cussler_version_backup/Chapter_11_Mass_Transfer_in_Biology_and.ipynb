{
 "cells": [
  {
   "cell_type": "markdown",
   "metadata": {},
   "source": [
    "# Chapter 11 Mass Transfer in Biology and Medicine"
   ]
  },
  {
   "cell_type": "markdown",
   "metadata": {},
   "source": [
    "## Example 11_1_1 pgno:334"
   ]
  },
  {
   "cell_type": "code",
   "execution_count": 7,
   "metadata": {
    "collapsed": false
   },
   "outputs": [
    {
     "name": "stdout",
     "output_type": "stream",
     "text": [
      "The mass transfer co efficient is  cm/sec 0.0006\n"
     ]
    }
   ],
   "source": [
    "#Initialization of variables\n",
    "N1 = 1.6*10**-10 # mol/cm**2-sec\n",
    "c1star = 0 # mol/cc\n",
    "c1 = 2.7*10**-4/1000 # mol/cc\n",
    "#Calculations\n",
    "K = N1/(c1-c1star)# cm/sec\n",
    "#Results\n",
    "print\"The mass transfer co efficient is  cm/sec\",round(K,4)\n"
   ]
  },
  {
   "cell_type": "markdown",
   "metadata": {},
   "source": [
    "## Example 11_2_1 pgno:335"
   ]
  },
  {
   "cell_type": "code",
   "execution_count": 8,
   "metadata": {
    "collapsed": false
   },
   "outputs": [
    {
     "name": "stdout",
     "output_type": "stream",
     "text": [
      "Mass transfer co efficient inside the hollow fibers  cm/sec 0.0\n",
      "\n",
      "Mass transfer co efficient outside the hollow fibers cm/sec 0.00038\n"
     ]
    }
   ],
   "source": [
    "#Initialization of variables\n",
    "d = 400*10**-4 # cm\n",
    "D = 10**-5 # cm**2/sec\n",
    "v = 1. # cm/sec\n",
    "l = 30. # cm\n",
    "nu = 0.01 # cm**2/sec\n",
    "#Calculations \n",
    "k1 = (D/d)*1.62*(((d**2)*v/D*l)**(1/3))+0.0003# Mass transfer co efficient inside the hollow fibers in cm/sec\n",
    "k2 = (D/d)*0.8*((d*v/nu)**0.47)*((nu/D)**(1/3))#Mass transfer co efficient outside the hollow fibers in cm/sec\n",
    "#Results\n",
    "print\"Mass transfer co efficient inside the hollow fibers  cm/sec\",round(k1,2)\n",
    "print\"\\nMass transfer co efficient outside the hollow fibers cm/sec\",round(k2,5)\n"
   ]
  },
  {
   "cell_type": "markdown",
   "metadata": {},
   "source": [
    "## Example 11_2_2 pgno:336"
   ]
  },
  {
   "cell_type": "code",
   "execution_count": 9,
   "metadata": {
    "collapsed": false
   },
   "outputs": [
    {
     "name": "stdout",
     "output_type": "stream",
     "text": [
      "The percentage of toxins removed when dialystate flow equals blood flow is  54.0\n",
      "\n",
      "The percentage of toxins removed when dialystate flow is twice the blood flow is  62.0\n",
      "\n",
      "The percentage of toxins removed when dialystate flow is very large is  70.0\n"
     ]
    }
   ],
   "source": [
    "#initialization of variables\n",
    "phi = 0.2\n",
    "d = 200*10**-4 # cm\n",
    "dia = 3.8 # cm\n",
    "Q = 4.1 # blood flow in cc/sec\n",
    "k = 3.6*10**-4 # cm/sec\n",
    "l = 30 # cm\n",
    "from math import pi\n",
    "from math import exp\n",
    "#Calculations\n",
    "a = 4*phi/d # cm**2/cm**3\n",
    "B  = Q/((pi*dia**2)/4) # cm/sec\n",
    "ratio1 = 1/(1+(k*a*l/B))# D equals B\n",
    "percent1 = (1-ratio1)*100 # percentage of toxins removed when dialystate flow equals blood flow\n",
    "D = 2*B # in second case\n",
    "ratio2 =1/(((1/(exp(-k*a*l/D)))-0.5)*2) # when D =2B\n",
    "percent2 = (1-ratio2)*100 # percentage of toxins removed when dialystate flow is twice the blood flow\n",
    "ratio3 = exp(-k*a*l/B)# when dialystate flow is very large\n",
    "percent3 = (1-ratio3)*100 # percentage of toxins removed when dialystate flow is very large\n",
    "#Results\n",
    "print\"The percentage of toxins removed when dialystate flow equals blood flow is \",round(percent1)\n",
    "print\"\\nThe percentage of toxins removed when dialystate flow is twice the blood flow is \",round(percent2)\n",
    "print\"\\nThe percentage of toxins removed when dialystate flow is very large is \",round(percent3)"
   ]
  },
  {
   "cell_type": "code",
   "execution_count": null,
   "metadata": {
    "collapsed": true
   },
   "outputs": [],
   "source": []
  },
  {
   "cell_type": "code",
   "execution_count": null,
   "metadata": {
    "collapsed": true
   },
   "outputs": [],
   "source": []
  }
 ],
 "metadata": {
  "kernelspec": {
   "display_name": "Python 2",
   "language": "python",
   "name": "python2"
  },
  "language_info": {
   "codemirror_mode": {
    "name": "ipython",
    "version": 2
   },
   "file_extension": ".py",
   "mimetype": "text/x-python",
   "name": "python",
   "nbconvert_exporter": "python",
   "pygments_lexer": "ipython2",
   "version": "2.7.9"
  }
 },
 "nbformat": 4,
 "nbformat_minor": 0
}
