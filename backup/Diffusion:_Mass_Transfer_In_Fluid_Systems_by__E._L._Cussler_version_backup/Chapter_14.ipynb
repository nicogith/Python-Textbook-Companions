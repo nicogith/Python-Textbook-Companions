{
 "cells": [
  {
   "cell_type": "markdown",
   "metadata": {},
   "source": [
    "# Chapter 14 Extraction"
   ]
  },
  {
   "cell_type": "markdown",
   "metadata": {},
   "source": [
    "## Example 14_3_1 pgno:412"
   ]
  },
  {
   "cell_type": "code",
   "execution_count": 9,
   "metadata": {
    "collapsed": false
   },
   "outputs": [
    {
     "name": "stdout",
     "output_type": "stream",
     "text": [
      "The value of Kya is   kg/m**3-sec 0.29\n",
      "\n",
      "The length for 90 percent recovery is  m 2.2\n"
     ]
    }
   ],
   "source": [
    "from math import pi,log\n",
    "#initialization of variables\n",
    "Rat1 = (6.5/3)*(1-0.47)# as Rat = x0/y0\n",
    "m = 0.14 \n",
    "H = (6.5*10**3)/3600. # Extract flow in g/sec\n",
    "L = (3*10**3)/3600.# Solvent flow in g/sec\n",
    "d= 10 # cm\n",
    "A = 0.25*pi*d**2 # cm**2\n",
    "l = 65 # cm\n",
    "#Calculations and Results\n",
    "Kya = ((H/(l*A))*(1/(1-((m*H)/L)))*(log((1-0.14*Rat1)/(0.47))))*10**3# kg/m**3-sec\n",
    "print\"The value of Kya is   kg/m**3-sec\",round(Kya,2)\n",
    "Rat2 = (6.5/3)*(1-0.1)#For case B\n",
    "l2 = l*(log(1/((1-0.14*Rat2)/(0.1))))/(log(1/((1-0.14*Rat1)/(0.47))))/100# m\n",
    "print\"\\nThe length for 90 percent recovery is  m\",round(l2,1)\n",
    "\n"
   ]
  },
  {
   "cell_type": "markdown",
   "metadata": {},
   "source": [
    "## Example 14_4_1 pgno:415"
   ]
  },
  {
   "cell_type": "code",
   "execution_count": 10,
   "metadata": {
    "collapsed": false
   },
   "outputs": [
    {
     "name": "stdout",
     "output_type": "stream",
     "text": [
      "The number of ideal stages are  2.9\n",
      "\n",
      "The number of stages required if Murphree efficiency is 60 percent is  21.0\n"
     ]
    }
   ],
   "source": [
    "#Initialization of variables\n",
    "m = 0.018 \n",
    "H = 450. # litres/hr\n",
    "L = 37. # litres/hr\n",
    "Ynplus1byY1 = 100.\n",
    "from math import log \n",
    "#Calculations\n",
    "E =m*H/L\n",
    "nplus1 = log((Ynplus1byY1*((1/E)-1))+1)/log(1/E)\n",
    "n = nplus1 -1\n",
    "print\"The number of ideal stages are \",round(n,1)\n",
    "N = 0.60#Murphree efficienct\n",
    "E1 = (m*H/L) + (1/N) - 1\n",
    "nplus1 = log((Ynplus1byY1*((1/E1)-1))+1)/log(1/E1)\n",
    "n=nplus1-1\n",
    "print\"\\nThe number of stages required if Murphree efficiency is 60 percent is \",round(n)\n",
    "\n"
   ]
  },
  {
   "cell_type": "markdown",
   "metadata": {},
   "source": [
    "## Example 14_5_1 pgno:419"
   ]
  },
  {
   "cell_type": "code",
   "execution_count": 11,
   "metadata": {
    "collapsed": false
   },
   "outputs": [
    {
     "name": "stdout",
     "output_type": "stream",
     "text": [
      "The number of stages including feed stage is  5.02588318946\n"
     ]
    }
   ],
   "source": [
    "#initialization of variables\n",
    "F = 5. #kg feed\n",
    "S = 2. # kg solvent\n",
    "E = F-S # kg extract\n",
    "W = 1 # kg waste\n",
    "EG = 80. # ppm\n",
    "y0 = (100-99)/100. # mole fraction of gold left\n",
    "y1 = y0*EG*W/S # concentration in raffinate\n",
    "from math import log\n",
    "#Calculations\n",
    "xN = (EG*W - y1*S)/E # solvent concentration\n",
    "xNminus1 = ((xN*(E+S)) - EG*W)/F#feed stage balance\n",
    "N = 1 + ((log((xN-xNminus1)/(y1))/log(F/S)))#numner of stages including feed stage\n",
    "#Results\n",
    "print\"The number of stages including feed stage is \",N\n"
   ]
  },
  {
   "cell_type": "code",
   "execution_count": null,
   "metadata": {
    "collapsed": true
   },
   "outputs": [],
   "source": []
  },
  {
   "cell_type": "code",
   "execution_count": null,
   "metadata": {
    "collapsed": true
   },
   "outputs": [],
   "source": []
  },
  {
   "cell_type": "code",
   "execution_count": null,
   "metadata": {
    "collapsed": true
   },
   "outputs": [],
   "source": []
  },
  {
   "cell_type": "code",
   "execution_count": null,
   "metadata": {
    "collapsed": true
   },
   "outputs": [],
   "source": []
  },
  {
   "cell_type": "code",
   "execution_count": null,
   "metadata": {
    "collapsed": true
   },
   "outputs": [],
   "source": []
  },
  {
   "cell_type": "code",
   "execution_count": null,
   "metadata": {
    "collapsed": true
   },
   "outputs": [],
   "source": []
  }
 ],
 "metadata": {
  "kernelspec": {
   "display_name": "Python 2",
   "language": "python",
   "name": "python2"
  },
  "language_info": {
   "codemirror_mode": {
    "name": "ipython",
    "version": 2
   },
   "file_extension": ".py",
   "mimetype": "text/x-python",
   "name": "python",
   "nbconvert_exporter": "python",
   "pygments_lexer": "ipython2",
   "version": "2.7.9"
  }
 },
 "nbformat": 4,
 "nbformat_minor": 0
}
