{
 "cells": [
  {
   "cell_type": "markdown",
   "metadata": {},
   "source": [
    "# Chapter 21 Simultaneous Heat and Mass Transfer"
   ]
  },
  {
   "cell_type": "markdown",
   "metadata": {},
   "source": [
    "## Example 21_1_2 pgno:600"
   ]
  },
  {
   "cell_type": "code",
   "execution_count": 2,
   "metadata": {
    "collapsed": false
   },
   "outputs": [
    {
     "name": "stdout",
     "output_type": "stream",
     "text": [
      "the value of thermal diffusivity is cm**2/sec 0.00118926289007\n"
     ]
    }
   ],
   "source": [
    "#initialization of variables\n",
    "from math import pi\n",
    "Tdisc = 30. # Centigrade\n",
    "T = 21. # Centigrade\n",
    "T0 = 18. # Centigrade\n",
    "R0 = 1.5 # cm\n",
    "V = 1000. # cc\n",
    "t = 3600. #seconds\n",
    "Nu = 0.082 #cm**2/sec\n",
    "omeg = 2*pi*10/60 #sec**-1\n",
    "from math import log\n",
    "#Calculations\n",
    "k = -V*(log((Tdisc-T)/(Tdisc-T0)))/(pi*(R0**2)*t)# k = h/d*cp cm/sec\n",
    "alpha = ((1/0.62)*(k)*(Nu**(1/6))*(omeg**(-0.5)))**1.5/2 # cm**2/sec\n",
    "#Results\n",
    "print\"the value of thermal diffusivity is cm**2/sec\",round(alpha,4)\n"
   ]
  },
  {
   "cell_type": "markdown",
   "metadata": {},
   "source": [
    "## Example 21_3_1 pgno:606"
   ]
  },
  {
   "cell_type": "code",
   "execution_count": 9,
   "metadata": {
    "collapsed": false
   },
   "outputs": [
    {
     "name": "stdout",
     "output_type": "stream",
     "text": [
      "The time taken for drying is hr 6.9696969697\n"
     ]
    }
   ],
   "source": [
    "#initialization of variables\n",
    "d =1000. # kg/m^3\n",
    "h = 30. # W/m^2-C-sec\n",
    "Hvap = 2300*10**3 # J/kg\n",
    "T = 75. # C\n",
    "Ti = 31. # C\n",
    "l = 0.04 # m\n",
    "epsilon = 0.36\n",
    "c = 3600 # sec/hr\n",
    "t1 = (Hvap/h)*(1/(T-Ti))*(l*epsilon*d)# sec\n",
    "t = (t1/c) # in hr\n",
    "#Results\n",
    "print\"The time taken for drying is hr\",t# answer wrong in textbook\n"
   ]
  },
  {
   "cell_type": "markdown",
   "metadata": {},
   "source": [
    "## Example 21_3_2 pgno:608"
   ]
  },
  {
   "cell_type": "code",
   "execution_count": 10,
   "metadata": {
    "collapsed": false
   },
   "outputs": [
    {
     "name": "stdout",
     "output_type": "stream",
     "text": [
      "The mass transfer coefficient is  cm/sec 0.0258547300649\n",
      "\n",
      "THe time needed to dry the particle is  sec 0.0134636400923\n"
     ]
    }
   ],
   "source": [
    "#intialization of variables\n",
    "d = 100*10**-4 # cm\n",
    "v = 10**-3# cm/sec\n",
    "nu = 0.2 # cm**2/sec\n",
    "DS = 0.3 # cm**2/sec\n",
    "DG = 3*10**-7 # cm**2/sec\n",
    "H = 4.3*10**-4 # at 60 degree centigrade\n",
    "#Calculations\n",
    "kG = (2+(0.6*((d*v/nu)**0.5)*((nu/DS)**(1/3))))*DS/d# cm/sec\n",
    "k = kG*H \n",
    "t = 30*DG/k**2\n",
    "#Results\n",
    "print\"The mass transfer coefficient is  cm/sec\",k\n",
    "print\"\\nTHe time needed to dry the particle is  sec\",t\n",
    "#Answer wrong in textbook starting from kG\n"
   ]
  },
  {
   "cell_type": "markdown",
   "metadata": {},
   "source": [
    "## Example 21_4_1 pgno:614"
   ]
  },
  {
   "cell_type": "code",
   "execution_count": 11,
   "metadata": {
    "collapsed": false
   },
   "outputs": [
    {
     "name": "stdout",
     "output_type": "stream",
     "text": [
      "The flow rate of the water per tower cross section is  gmol H2O/m^2-sec 110.4\n",
      "\n",
      "The area of tower cross section is  m^2 18.032071927\n",
      "\n",
      "The length of the tower is  m 8.1\n"
     ]
    }
   ],
   "source": [
    "#initialization of variables\n",
    "slope = 230. #J/g-mol-C\n",
    "nair = 60. # gmol/cm^2-sec\n",
    "CpH2O = 75. # J/gmol-C\n",
    "f = 0.4 # Correction factor\n",
    "F = 2150./(60*0.018)#gmol/m^2-sec\n",
    "kc= 20./3.\n",
    "a = 3 # m^2/m^3\n",
    "k = 2.7 # integral of dH/Hi-H with limits Hout and Hin\n",
    "#Calculations\n",
    "nH2Omax = slope*nair/CpH2O#gmol/m^2-sec\n",
    "nH2O = nH2Omax*(1-f) #gmol/m^2-sec\n",
    "A = F/nH2O # m^2\n",
    "l = (nair/(kc*a))*k # m\n",
    "#Results\n",
    "print\"The flow rate of the water per tower cross section is  gmol H2O/m^2-sec\",nH2O\n",
    "print\"\\nThe area of tower cross section is  m^2\",A\n",
    "print\"\\nThe length of the tower is  m\",l\n",
    "\n"
   ]
  },
  {
   "cell_type": "markdown",
   "metadata": {},
   "source": [
    "## Example 21_5_1 pgno:619"
   ]
  },
  {
   "cell_type": "code",
   "execution_count": 12,
   "metadata": {
    "collapsed": false
   },
   "outputs": [
    {
     "name": "stdout",
     "output_type": "stream",
     "text": [
      "The seperation achieved for gas is   0.0121644295302\n",
      "\n",
      "The seperation achieved for liquid is   0.0121644295302\n",
      "\n",
      "The time taken for seperation for gas will be seconds 500.0\n",
      "\n",
      "The time taken for seperation for liquid will be  year 0.475646879756\n"
     ]
    }
   ],
   "source": [
    "#initialization of variables\n",
    "A = 0.01 # cm**2\n",
    "l = 1. # cm\n",
    "VA = 3. # cc\n",
    "VB = 3. # cc\n",
    "alphagas = 0.29 \n",
    "alphaliquid = -1.3\n",
    "x1 = 0.5\n",
    "x2 = 0.5 \n",
    "deltaT = 50. # Kelvin Thot-Tcold = 50\n",
    "Tavg = 298. # kelvin\n",
    "Dgas = 0.3 # cm**2/sec\n",
    "Dliquid = 10**-5 # cm**2/sec\n",
    "#calculations\n",
    "deltaY = alphagas*x1*x2*deltaT/Tavg # Y1hot-Y1cold = DeltaY\n",
    "deltaX = alphaliquid*x1*x2*deltaT/Tavg# X1hot-X1cold = DeltaX\n",
    "Beta = (A/l)*((1/VA)+(1/VB))#cm**-2\n",
    "BetaDgasinverse = 1/(Beta*Dgas)# sec\n",
    "BetaDliquidinverse = (1/(Beta*Dliquid))/(365*24*60*60)\n",
    "#Results\n",
    "print\"The seperation achieved for gas is  \",deltaY\n",
    "print\"\\nThe seperation achieved for liquid is  \",deltaY\n",
    "print\"\\nThe time taken for seperation for gas will be seconds\",BetaDgasinverse\n",
    "print\"\\nThe time taken for seperation for liquid will be  year\",BetaDliquidinverse\n"
   ]
  },
  {
   "cell_type": "code",
   "execution_count": null,
   "metadata": {
    "collapsed": true
   },
   "outputs": [],
   "source": []
  }
 ],
 "metadata": {
  "kernelspec": {
   "display_name": "Python 2",
   "language": "python",
   "name": "python2"
  },
  "language_info": {
   "codemirror_mode": {
    "name": "ipython",
    "version": 2
   },
   "file_extension": ".py",
   "mimetype": "text/x-python",
   "name": "python",
   "nbconvert_exporter": "python",
   "pygments_lexer": "ipython2",
   "version": "2.7.9"
  }
 },
 "nbformat": 4,
 "nbformat_minor": 0
}
