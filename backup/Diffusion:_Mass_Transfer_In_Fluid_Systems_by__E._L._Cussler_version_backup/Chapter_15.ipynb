{
 "cells": [
  {
   "cell_type": "markdown",
   "metadata": {},
   "source": [
    "# Chapter 15 Adsorption"
   ]
  },
  {
   "cell_type": "markdown",
   "metadata": {},
   "source": [
    "## Example 15_3_2 pgno:438"
   ]
  },
  {
   "cell_type": "code",
   "execution_count": 7,
   "metadata": {
    "collapsed": false
   },
   "outputs": [
    {
     "name": "stdout",
     "output_type": "stream",
     "text": [
      "the length of the bed unused is  cm 24.0\n"
     ]
    }
   ],
   "source": [
    "#initialization of variables\n",
    "tE = 33 # Time taken for ferric ion to exhaust the bed in min\n",
    "tB = 23 # Time taken for nickel to break through ferric in min\n",
    "l = 120 #bed length in cm\n",
    "#Calculations\n",
    "Theta = 2*tB/(tB+tE)\n",
    "lunused = (1-Theta)*120*(0.2) # cm\n",
    "#Results\n",
    "print\"the length of the bed unused is  cm\",lunused\n"
   ]
  },
  {
   "cell_type": "markdown",
   "metadata": {},
   "source": [
    "## Example 15_3_3 pgno:439"
   ]
  },
  {
   "cell_type": "code",
   "execution_count": 8,
   "metadata": {
    "collapsed": false
   },
   "outputs": [
    {
     "name": "stdout",
     "output_type": "stream",
     "text": [
      "The volume of adsorbent needed if the bed is kept 12 cm deep is  m**3 0.1\n",
      "\n",
      "The volume of adsorbent needed if the bed length is 10 m long is  m**3 0.1002\n"
     ]
    }
   ],
   "source": [
    "#initialization of variables\n",
    "tB = 10. # min\n",
    "tE = 14. # min\n",
    "l = 0.12 #m\n",
    "l2 = 10. # m\n",
    "c = 10000\n",
    "A = 1./10000. # m**2\n",
    "from math import pi\n",
    "#Calculations\n",
    "theta = 2*tB/(tB+tE)\n",
    "l1 = l*(1-theta)# m , length of bed unused in first case\n",
    "V1 = c*A*l # m**3\n",
    "l3 = l2-l1 # length of bed unused in second case\n",
    "d = (V1*4/(l3*pi))**0.5# m\n",
    "V2 = c*(l-l1)*A*l2/l3 # volume needed for second case\n",
    "#Results\n",
    "print\"The volume of adsorbent needed if the bed is kept 12 cm deep is  m**3\",round(V1,1)\n",
    "print\"\\nThe volume of adsorbent needed if the bed length is 10 m long is  m**3\",round(V2,4)\n"
   ]
  },
  {
   "cell_type": "markdown",
   "metadata": {},
   "source": [
    "## Example 15_4_1 pgno:441"
   ]
  },
  {
   "cell_type": "code",
   "execution_count": 9,
   "metadata": {
    "collapsed": false
   },
   "outputs": [
    {
     "name": "stdout",
     "output_type": "stream",
     "text": [
      "The breakthrough time for this case is days 4.0\n"
     ]
    }
   ],
   "source": [
    "#intialization of variables\n",
    "tB1 = 38. # days , breakthrough time\n",
    "tE1 = 46. # days, exhaustion time\n",
    "c = 2. # number of times flow doubled\n",
    "#Calculations\n",
    "theta1 = 2*tB1/(tB1+tE1)# in the first case\n",
    "ratio1 = 1-theta1 # ratio of unused bed length to total bed length\n",
    "ratio2 = ratio1*c\n",
    "tB2 = ((1/c)*(tB1 + 0.5*(tE1-tB1)))*ratio2#breakthrough time for second case\n",
    "tE2 = (c-ratio2)*tB2/ratio2#exhaustion time for second case\n",
    "#Results\n",
    "#answwer slightly wrong in textbook\n",
    "print\"The breakthrough time for this case is days\",tB2\n"
   ]
  },
  {
   "cell_type": "markdown",
   "metadata": {},
   "source": [
    "## Example 15_4_2 pgno:442"
   ]
  },
  {
   "cell_type": "code",
   "execution_count": 10,
   "metadata": {
    "collapsed": false
   },
   "outputs": [
    {
     "name": "stdout",
     "output_type": "stream",
     "text": [
      "The rate constant is  sec**-1l \t0.05\n",
      "\n",
      "The rate constant of literature is  sec**-1 \t0.048\n"
     ]
    }
   ],
   "source": [
    "#initialization of variables\n",
    "slope = 0.93/3600. # sec**-1\n",
    "q0 = 300. # 300 times y0 \n",
    "E = 0.4 # void fraction\n",
    "d = 310*10**-4 #cm\n",
    "v = 1./60. #cm/sec\n",
    "Nu = 0.01 #cm**2/sec\n",
    "D = 5*10**-6 #cm**2/sec\n",
    "#Calculations\n",
    "ka1 = slope*q0*(1-E)#sec**-1\n",
    "k = (D/d)*1.17*((d*v/Nu)**0.58)*((Nu/D)**0.33)# cm/sec\n",
    "a = (6/d)*(1-E)#cm**2/cm**3\n",
    "ka2 = k*a#sec**-1\n",
    "#Results\n",
    "print\"The rate constant is  sec**-1l \\t\",round(ka1,2)\n",
    "print\"\\nThe rate constant of literature is  sec**-1 \\t\",round(ka2,3)\n"
   ]
  },
  {
   "cell_type": "code",
   "execution_count": null,
   "metadata": {
    "collapsed": true
   },
   "outputs": [],
   "source": []
  },
  {
   "cell_type": "code",
   "execution_count": null,
   "metadata": {
    "collapsed": true
   },
   "outputs": [],
   "source": []
  }
 ],
 "metadata": {
  "kernelspec": {
   "display_name": "Python 2",
   "language": "python",
   "name": "python2"
  },
  "language_info": {
   "codemirror_mode": {
    "name": "ipython",
    "version": 2
   },
   "file_extension": ".py",
   "mimetype": "text/x-python",
   "name": "python",
   "nbconvert_exporter": "python",
   "pygments_lexer": "ipython2",
   "version": "2.7.9"
  }
 },
 "nbformat": 4,
 "nbformat_minor": 0
}
