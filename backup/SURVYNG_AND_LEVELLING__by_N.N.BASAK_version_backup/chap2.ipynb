{
 "cells": [
  {
   "cell_type": "markdown",
   "metadata": {},
   "source": [
    "\n",
    "# Chapter 2: Chain Surveying"
   ]
  },
  {
   "cell_type": "markdown",
   "metadata": {},
   "source": [
    "\n",
    "\n",
    "###   pg-56, pb-1"
   ]
  },
  {
   "cell_type": "code",
   "execution_count": 1,
   "metadata": {
    "collapsed": false
   },
   "outputs": [
    {
     "name": "stdout",
     "output_type": "stream",
     "text": [
      "('max length of offset should be', 6.8842279474019135, 'meters')\n"
     ]
    }
   ],
   "source": [
    "from __future__ import division\n",
    "\n",
    "import math\n",
    "\n",
    "ag=5;\n",
    "giv=0.03;\n",
    "\n",
    "L=20;\n",
    "l=(giv*L/(math.sin(ag*math.pi/180)));\n",
    "\n",
    "\n",
    "AB=l;\n",
    "\n",
    "BC=AB*(math.sin(ag*(math.pi/180)));\n",
    "BC=BC/20;\n",
    "\n",
    "print('max length of offset should be',l,'meters');\n"
   ]
  },
  {
   "cell_type": "markdown",
   "metadata": {},
   "source": [
    "\n",
    "\n",
    "### ch-2  page-56, pb-2"
   ]
  },
  {
   "cell_type": "code",
   "execution_count": 2,
   "metadata": {
    "collapsed": false
   },
   "outputs": [
    {
     "name": "stdout",
     "output_type": "stream",
     "text": [
      "('required displacement perpendicular to chain is', 0.0020556978681392835, 'meters')\n",
      "('displacement parallel ot chain is', 0.07850393436441575, 'meters')\n"
     ]
    }
   ],
   "source": [
    "from __future__ import division\n",
    "\n",
    "import math\n",
    "\n",
    "\n",
    "AD=AB=15;\n",
    "ag=3;\n",
    "AC=15*(math.cos(ag*(math.pi/180)))\n",
    "\n",
    "CD=AB-AC\n",
    "sc=10;\n",
    "\n",
    "CD=CD/sc;\n",
    "\n",
    "print('required displacement perpendicular to chain is',CD,'meters');\n",
    "\n",
    "\n",
    "BC=AB*(math.sin(ag*(math.pi/180)));\n",
    "\n",
    "BC=BC/sc;\n",
    "print('displacement parallel ot chain is',BC,'meters');\n",
    "\n"
   ]
  }
 ],
 "metadata": {
  "kernelspec": {
   "display_name": "Python 2",
   "language": "python",
   "name": "python2"
  },
  "language_info": {
   "codemirror_mode": {
    "name": "ipython",
    "version": 2
   },
   "file_extension": ".py",
   "mimetype": "text/x-python",
   "name": "python",
   "nbconvert_exporter": "python",
   "pygments_lexer": "ipython2",
   "version": "2.7.11"
  }
 },
 "nbformat": 4,
 "nbformat_minor": 0
}
