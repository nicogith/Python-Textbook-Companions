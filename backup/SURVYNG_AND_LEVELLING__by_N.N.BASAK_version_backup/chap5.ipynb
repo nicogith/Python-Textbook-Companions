{
 "cells": [
  {
   "cell_type": "markdown",
   "metadata": {},
   "source": [
    "\n",
    "# Chapter 5: Levelling"
   ]
  },
  {
   "cell_type": "markdown",
   "metadata": {},
   "source": [
    "\n",
    "\n",
    "### ch-5 page 151, pb-1"
   ]
  },
  {
   "cell_type": "code",
   "execution_count": 1,
   "metadata": {
    "collapsed": false
   },
   "outputs": [
    {
     "name": "stdout",
     "output_type": "stream",
     "text": [
      "('correct reading on A =', 2.524965929375, 'meters')\n",
      "('correct reading of B =', 1.75499327, 'meters')\n",
      "('true difference is', 0.769972659375, 'meters')\n"
     ]
    }
   ],
   "source": [
    "from __future__ import division\n",
    "\n",
    "import math\n",
    "\n",
    "a=150;\n",
    "b=100;\n",
    "ar=2.525;\n",
    "br=1.755;\n",
    "\n",
    "sc=1000;\n",
    "d=(a*a)/(sc*sc);\n",
    "\n",
    "A=0.0673*d*d;\n",
    "\n",
    "fa=ar-A;\n",
    "\n",
    "print('correct reading on A =',fa,'meters');\n",
    "\n",
    "\n",
    "d=(b*b)/(sc*sc);\n",
    "\n",
    "B=0.0673*d*d;\n",
    "fb=br-B;\n",
    "\n",
    "print('correct reading of B =',fb,'meters');\n",
    "\n",
    "AB=fa-fb;\n",
    "print('true difference is',AB,'meters');\n",
    "\n",
    "\n",
    "\n"
   ]
  },
  {
   "cell_type": "markdown",
   "metadata": {},
   "source": [
    "\n",
    "### ch-5 page 152, pb-2"
   ]
  },
  {
   "cell_type": "code",
   "execution_count": 2,
   "metadata": {
    "collapsed": false
   },
   "outputs": [
    {
     "name": "stdout",
     "output_type": "stream",
     "text": [
      "('heigght of lighthouse is', 60.57000000000001, 'meters')\n"
     ]
    }
   ],
   "source": [
    "from __future__ import division\n",
    "\n",
    "import math\n",
    "\n",
    "\n",
    "d=30;\n",
    "sc=1000;\n",
    "\n",
    "h=0.0673*d*d;\n",
    "\n",
    "print('heigght of lighthouse is',h,'meters');\n"
   ]
  },
  {
   "cell_type": "markdown",
   "metadata": {},
   "source": [
    "\n",
    "### ch-5 page 152, pb-3"
   ]
  },
  {
   "cell_type": "code",
   "execution_count": 3,
   "metadata": {
    "collapsed": false
   },
   "outputs": [
    {
     "name": "stdout",
     "output_type": "stream",
     "text": [
      "('D=', 27.25696334003587)\n",
      "('dimp  of horizon', 0.0042789581381531975, 'degrees')\n",
      "('dimp  of horizon', 14.709974521760092, 'minutes')\n"
     ]
    }
   ],
   "source": [
    "from __future__ import division\n",
    "\n",
    "import math\n",
    "\n",
    "h=50;\n",
    "\n",
    "d=math.sqrt(h/0.0673);\n",
    "print('D=',d);\n",
    "\n",
    "r=6370;\n",
    "dip=d/r;\n",
    "print('dimp  of horizon',dip,'degrees');\n",
    "\n",
    "dip1=dip*((180*60)/math.pi)\n",
    "print('dimp  of horizon',dip1,'minutes');\n"
   ]
  },
  {
   "cell_type": "markdown",
   "metadata": {},
   "source": [
    "\n",
    "### ch-5 page 152,153, pb-4"
   ]
  },
  {
   "cell_type": "code",
   "execution_count": 4,
   "metadata": {
    "collapsed": false
   },
   "outputs": [
    {
     "name": "stdout",
     "output_type": "stream",
     "text": [
      "('distance between man and object is', 39.44664791774385, 'meters')\n"
     ]
    }
   ],
   "source": [
    "from __future__ import division\n",
    "\n",
    "import math\n",
    "\n",
    "h1=50;\n",
    "h2=10;\n",
    "c=0.0673;\n",
    "\n",
    "d1=math.sqrt(h1/c);\n",
    "\n",
    "d2=math.sqrt(h2/c);\n",
    "\n",
    "dis=d1+d2;\n",
    "\n",
    "print('distance between man and object is',dis,'meters');\n",
    "\n",
    "\n"
   ]
  },
  {
   "cell_type": "markdown",
   "metadata": {},
   "source": [
    "\n",
    "\n",
    "### ch-5 page-153, pb-5"
   ]
  },
  {
   "cell_type": "code",
   "execution_count": 5,
   "metadata": {
    "collapsed": false
   },
   "outputs": [
    {
     "name": "stdout",
     "output_type": "stream",
     "text": [
      "('height of the hill is ', 309.46147646724046, 'meters')\n"
     ]
    }
   ],
   "source": [
    "from __future__ import division\n",
    "\n",
    "import math\n",
    "\n",
    "h1=10;\n",
    "c=0.0673\n",
    "d1=math.sqrt(h1/c);\n",
    "\n",
    "d2=d1-80;               #since d1+d2=80;\n",
    "h2=c*d2*d2;\n",
    "\n",
    "print('height of the hill is ',h2,'meters');\n",
    "\n"
   ]
  },
  {
   "cell_type": "markdown",
   "metadata": {},
   "source": [
    "\n",
    "### ch-5 page-153,154   pb-6"
   ]
  },
  {
   "cell_type": "code",
   "execution_count": 6,
   "metadata": {
    "collapsed": false
   },
   "outputs": [
    {
     "name": "stdout",
     "output_type": "stream",
     "text": [
      "('distance AB =', 86.24055457549457, 'meters')\n"
     ]
    }
   ],
   "source": [
    "from __future__ import division\n",
    "\n",
    "import math\n",
    "\n",
    "h1=100;\n",
    "h2=150;\n",
    "\n",
    "r2=12880;\n",
    "c=(6/7)*(1000/r2);\n",
    "d1=math.sqrt(h1/c)\n",
    "d2=math.sqrt(h2/c)\n",
    "\n",
    "d=d1+d2;\n",
    "print('distance AB =',d,'meters');\n",
    "\n"
   ]
  },
  {
   "cell_type": "markdown",
   "metadata": {},
   "source": [
    "\n",
    "### ch-5 page-154   pb-7"
   ]
  },
  {
   "cell_type": "code",
   "execution_count": 7,
   "metadata": {
    "collapsed": false
   },
   "outputs": [
    {
     "name": "stdout",
     "output_type": "stream",
     "text": [
      "('R=', 20.00000000000007)\n",
      "('sensitiveness of bubble is ', 20.626499999999925, 'seconds')\n"
     ]
    }
   ],
   "source": [
    "from __future__ import division\n",
    "\n",
    "import math\n",
    "\n",
    "r1=2.550;\n",
    "r2=2.500;\n",
    "\n",
    "s=r1-r2;\n",
    "d=0.002;\n",
    "D=100;\n",
    "n=5;\n",
    "r=(n*d*D/s);\n",
    "\n",
    "print('R=',r);\n",
    "\n",
    "alp=(s/(n*D))*206265;\n",
    "\n",
    "print('sensitiveness of bubble is ',alp,'seconds');\n"
   ]
  },
  {
   "cell_type": "markdown",
   "metadata": {},
   "source": [
    "\n",
    "### ch-5 page-154,155   pb-8"
   ]
  },
  {
   "cell_type": "code",
   "execution_count": 8,
   "metadata": {
    "collapsed": false
   },
   "outputs": [
    {
     "name": "stdout",
     "output_type": "stream",
     "text": [
      "('error is ', 0.01939252902819189, 'meters')\n"
     ]
    }
   ],
   "source": [
    "from __future__ import division\n",
    "\n",
    "import math\n",
    "\n",
    "n=2;\n",
    "D=100;\n",
    "alp=20;\n",
    "\n",
    "\n",
    "s=(alp*n*D)/206265;\n",
    "\n",
    "print('error is ',s,'meters');\n",
    "\n"
   ]
  },
  {
   "cell_type": "markdown",
   "metadata": {},
   "source": [
    "\n",
    "### ch-5 page-156,   pb-1"
   ]
  },
  {
   "cell_type": "code",
   "execution_count": 9,
   "metadata": {
    "collapsed": false
   },
   "outputs": [
    {
     "name": "stdout",
     "output_type": "stream",
     "text": [
      "('true level of difference is', 1.115, 'meters')\n",
      "('RL of B =', 124.435, 'meters')\n"
     ]
    }
   ],
   "source": [
    "from __future__ import division\n",
    "\n",
    "import math\n",
    "\n",
    "a=2.245;\n",
    "b=3.375;\n",
    "AB=b-a;\n",
    "\n",
    "ap=1.955;\n",
    "bp=3.055;\n",
    "\n",
    "dAB=bp-ap;\n",
    "\n",
    "tl=(AB+dAB)/2;\n",
    "print('true level of difference is',tl,'meters')\n",
    "rla=125.55;\n",
    "rlb=rla-tl;\n",
    "\n",
    "\n",
    "print('RL of B =',rlb,'meters');\n",
    "\n"
   ]
  },
  {
   "cell_type": "markdown",
   "metadata": {},
   "source": [
    "\n",
    "### ch-5 page 157, pb-2"
   ]
  },
  {
   "cell_type": "code",
   "execution_count": 10,
   "metadata": {
    "collapsed": false
   },
   "outputs": [
    {
     "name": "stdout",
     "output_type": "stream",
     "text": [
      "('true RL of B', 524.065, 'meters')\n",
      "('combined corrction for 500m=', 0.016825, 'meters')\n",
      "('collimation error per 100m=', -0.0023599999999999997, 'meters')\n"
     ]
    }
   ],
   "source": [
    "from __future__ import division\n",
    "\n",
    "import math\n",
    "\n",
    "aa=1.155;\n",
    "ab=2.595;\n",
    "ba=0.985;\n",
    "bb=2.415;\n",
    "\n",
    "td=((ab-aa)+(bb-ba))/2\n",
    "\n",
    "rla=525.5;\n",
    "rlb=rla-td;\n",
    "dab=500;\n",
    "print('true RL of B',rlb,'meters');\n",
    "\n",
    "dab1=dab/1000;\n",
    "\n",
    "correct=0.0673*dab1*dab1;\n",
    "print('combined corrction for 500m=',correct,'meters');\n",
    "\n",
    "sc=100;\n",
    "a=1.155;\n",
    "e=-(0.0118*sc)/(dab);\n",
    "\n",
    "\n",
    "print('collimation error per 100m=',e,'meters')\n"
   ]
  },
  {
   "cell_type": "markdown",
   "metadata": {},
   "source": [
    "\n",
    "### ch-5 page 157,158, pb-3"
   ]
  },
  {
   "cell_type": "code",
   "execution_count": 11,
   "metadata": {
    "collapsed": false
   },
   "outputs": [
    {
     "name": "stdout",
     "output_type": "stream",
     "text": [
      "('true difference between A and B is ', 0.33999999999999997, 'meters')\n",
      "('amount of collimation error =', -0.015000000000000124, 'meters')\n"
     ]
    }
   ],
   "source": [
    "from __future__ import division\n",
    "\n",
    "import math\n",
    "\n",
    "aa=1.725;\n",
    "ab=1.370;\n",
    "ba=1.560;\n",
    "bb=1.235;\n",
    "\n",
    "A=aa-ab;\n",
    "B=ba-bb;\n",
    "\n",
    "AB=(A+B)/2;\n",
    "\n",
    "print('true difference between A and B is ',AB,'meters');\n",
    "\n",
    "CB=bb;\n",
    "CA=CB+AB;\n",
    "\n",
    "OCA=1.560;\n",
    "e=OCA-CA;\n",
    "\n",
    "print('amount of collimation error =',e,'meters');\n"
   ]
  },
  {
   "cell_type": "markdown",
   "metadata": {},
   "source": [
    "\n",
    "\n",
    "### ch-5 page 158,159, pb-4"
   ]
  },
  {
   "cell_type": "code",
   "execution_count": 12,
   "metadata": {
    "collapsed": false
   },
   "outputs": [
    {
     "name": "stdout",
     "output_type": "stream",
     "text": [
      "('apparent difference of level between A and B is', 0.52, 'meters')\n",
      "('apparent difference of level at B', 0.8999999999999999, 'meters')\n",
      "('true differece of level=', 0.71)\n",
      "('correction to be applied at A is =', -0.18999999999999995)\n",
      "('RL of B=', 449.29, 'meters')\n"
     ]
    }
   ],
   "source": [
    "from __future__ import division\n",
    "\n",
    "import math\n",
    "\n",
    "aa=1.725;\n",
    "ab=2.245;\n",
    "ba=2.145;\n",
    "bb=3.045;\n",
    "\n",
    "AB=200;\n",
    "rla=450;\n",
    "\n",
    "\n",
    "aAB=ab-aa;\n",
    "\n",
    "print('apparent difference of level between A and B is',aAB,'meters');\n",
    "\n",
    "dB=bb-ba\n",
    "\n",
    "print('apparent difference of level at B',dB,'meters')\n",
    "\n",
    "td=(aAB+dB)/2;\n",
    "\n",
    "print('true differece of level=',td);\n",
    "\n",
    "CB=bb;\n",
    "\n",
    "CA=CB-td;\n",
    "\n",
    "e=ba-CA;\n",
    "\n",
    "print('correction to be applied at A is =',e)\n",
    "\n",
    "rlb=rla-td;\n",
    "\n",
    "print('RL of B=',rlb,'meters')\n"
   ]
  },
  {
   "cell_type": "markdown",
   "metadata": {},
   "source": [
    "\n",
    "### ch-5 page 185,186  pb-1"
   ]
  },
  {
   "cell_type": "code",
   "execution_count": 13,
   "metadata": {
    "collapsed": false
   },
   "outputs": [
    {
     "name": "stdout",
     "output_type": "stream",
     "text": [
      "0.52\n",
      "('apparent difference of level =', 0.8999999999999999, 'meters')\n",
      "('true difference of level=', 0.71, 'meters')\n",
      "('true reading on A=', 2.335, 'meters')\n",
      "('collimation error =', -0.18999999999999995, 'meters')\n",
      "('RL of B=', 449.29, 'meters')\n"
     ]
    }
   ],
   "source": [
    "from __future__ import division\n",
    "\n",
    "import math\n",
    "\n",
    "aa=1.725;\n",
    "ab=2.245;\n",
    "ba=2.145;\n",
    "bb=3.045;\n",
    "dAB=200;\n",
    "rla=450.0;\n",
    "AB=ab-aa;\n",
    "print(AB)\n",
    "adif=bb-ba\n",
    "\n",
    "print('apparent difference of level =',adif,'meters');\n",
    "\n",
    "#a\n",
    "td=(AB+adif)/2;\n",
    "print('true difference of level=',td,'meters')\n",
    "#b\n",
    "\n",
    "tb=bb;\n",
    "ta=bb-td;\n",
    "\n",
    "print('true reading on A=',ta,'meters');\n",
    "\n",
    "#c\n",
    "\n",
    "e=ba-ta;\n",
    "\n",
    "print('collimation error =',e,'meters');\n",
    "\n",
    "#d\n",
    "\n",
    "rlb=rla-td;\n",
    "print('RL of B=',rlb,'meters');\n"
   ]
  },
  {
   "cell_type": "markdown",
   "metadata": {},
   "source": [
    "\n",
    "### ch-5 page 186,187  pb-2"
   ]
  },
  {
   "cell_type": "code",
   "execution_count": 14,
   "metadata": {
    "collapsed": false
   },
   "outputs": [
    {
     "name": "stdout",
     "output_type": "stream",
     "text": [
      "('correct staff reading on B should be =', 1.0650000000000002, 'meters')\n",
      "('collimation error is ', 0.08499999999999974, 'meters')\n"
     ]
    }
   ],
   "source": [
    "from __future__ import division\n",
    "import math\n",
    "\n",
    "ma=1.585;\n",
    "mb=1.225;\n",
    "aa=1.425;\n",
    "ab=1.150;\n",
    "\n",
    "dAB=100;\n",
    "\n",
    "#a\n",
    "td=ma-mb;\n",
    "B=aa-td;\n",
    "\n",
    "print('correct staff reading on B should be =',B,'meters');\n",
    "\n",
    "#c\n",
    "\n",
    "\n",
    "e=ab-B;\n",
    "print('collimation error is ',e,'meters')\n"
   ]
  },
  {
   "cell_type": "markdown",
   "metadata": {},
   "source": [
    "\n",
    "### ch-5 page 187  pb-3"
   ]
  },
  {
   "cell_type": "code",
   "execution_count": 15,
   "metadata": {
    "collapsed": false
   },
   "outputs": [
    {
     "name": "stdout",
     "output_type": "stream",
     "text": [
      "first setting\n",
      "('true difference is', 0.08499999999999996, 'meters')\n",
      "('apparent difference of level =', 0.06999999999999984, 'meters')\n",
      "second setting\n",
      "('collimation error is', 0.015000000000000124, 'meters')\n",
      "('correction at A=', 0.0015000000000000126, 'meters')\n",
      "('correction at B=', 0.01650000000000014, 'meters')\n"
     ]
    }
   ],
   "source": [
    "#ch-5 page 187  pb-3\n",
    "\n",
    "from __future__ import division\n",
    "import math\n",
    "\n",
    "dAB=100;\n",
    "\n",
    "aa=1.875;\n",
    "ab=1.790;\n",
    "\n",
    "le=10;\n",
    "\n",
    "ba=1.630;\n",
    "bb=1.560;\n",
    "\n",
    "\n",
    "td=aa-ab;\n",
    "\n",
    "apd=ba-bb;\n",
    "print('first setting')\n",
    "print('true difference is',td,'meters');\n",
    "print('apparent difference of level =',apd,'meters');\n",
    "\n",
    "print('second setting');\n",
    "\n",
    "A=ba-td;\n",
    "\n",
    "e1=bb-A\n",
    "\n",
    "cA=(le/dAB)*e1\n",
    "cB=((le+dAB)/dAB)*e1\n",
    "print('collimation error is',e1,'meters')\n",
    "print('correction at A=',cA,'meters')\n",
    "print('correction at B=',cB,'meters')\n"
   ]
  },
  {
   "cell_type": "markdown",
   "metadata": {},
   "source": [
    "\n",
    "### ch-5 page 163  pb-1"
   ]
  },
  {
   "cell_type": "code",
   "execution_count": 16,
   "metadata": {
    "collapsed": false
   },
   "outputs": [
    {
     "name": "stdout",
     "output_type": "stream",
     "text": [
      "(0.645, 1.115, 0.7650000000000001, 0.23499999999999988, 0.85, 3.6100000000000003)\n",
      "(2.835, 1.1949999999999998, 0.625, 1.375, 6.029999999999999)\n",
      "('k=', -2.4200000000000017)\n",
      "('k1=', -2.419999999999999)\n"
     ]
    }
   ],
   "source": [
    "from __future__ import division\n",
    "import math\n",
    "\n",
    "bs1=2.375;bs2=2.835;bs3=0.435;\n",
    "is1=1.730;is2=0.615;is3=2.070;is4=1.835;is5=1.630;\n",
    "is6=2.255;\n",
    "fs1=3.450;fs2=0.985;fs3=3.630;\n",
    "\n",
    "sbs=bs1+bs2+bs3;\n",
    "sis=is1+is2+is3+is4+is5+is6;\n",
    "sfs=fs1+fs2+fs3;\n",
    "\n",
    "r1=bs1-is1;\n",
    "r2=is1-is2;\n",
    "r3=bs2-is3;\n",
    "r4=is3-is4;\n",
    "r5=is4-fs2;\n",
    "sr=r1+r2+r3+r4+r5;\n",
    "print(r1,r2,r3,r4,r5,sr);\n",
    "\n",
    "\n",
    "f1=bs2;\n",
    "f2=is5-bs3;\n",
    "f3=fs3-is6;\n",
    "f4=is6-is5\n",
    "sf=f1+f2+f3+f4;\n",
    "print(f1,f2,f4,f3,sf);\n",
    "\n",
    "k=sbs-sfs\n",
    "print('k=',k);\n",
    "k1=sr-sf\n",
    "print('k1=',k1);\n"
   ]
  },
  {
   "cell_type": "markdown",
   "metadata": {},
   "source": [
    "\n",
    "### ch-5 page 163,164  pb-2"
   ]
  },
  {
   "cell_type": "code",
   "execution_count": 17,
   "metadata": {
    "collapsed": false
   },
   "outputs": [
    {
     "name": "stdout",
     "output_type": "stream",
     "text": [
      "(0.9049999999999998, 1.12, 1.7349999999999999, 1.365, 5.125)\n",
      "(1.4749999999999999, 1.465, 0.665, 1.29, 4.8950000000000005)\n",
      "('k=', 0.22999999999999954)\n",
      "('k1=', 0.22999999999999954)\n"
     ]
    }
   ],
   "source": [
    "from __future__ import division\n",
    "import math\n",
    "\n",
    "bs1=3.150;bs2=3.860;bs3=0.470;\n",
    "is1=2.245;is2=2.125;is3=0.760;is4=1.935;is5=3.225;\n",
    "fs1=1.125;fs2=2.235;fs3=3.890;\n",
    "\n",
    "sbs=bs1+bs2+bs3;\n",
    "sis=is1+is2+is3+is4+is5;\n",
    "sfs=fs1+fs2+fs3;\n",
    "\n",
    "r1=bs1-is1;\n",
    "r2=is1-fs1;\n",
    "r3=bs2-is2;\n",
    "r4=is2-is3;\n",
    "\n",
    "sr=r1+r2+r3+r4;\n",
    "print(r1,r2,r3,r4,sr);\n",
    "\n",
    "\n",
    "f1=fs2-is3;\n",
    "f2=is4-bs3;\n",
    "f3=is5-is4;\n",
    "f4=fs3-is5;\n",
    "sf=f1+f2+f3+f4;\n",
    "print(f1,f2,f4,f3,sf);\n",
    "\n",
    "k=sbs-sfs\n",
    "print('k=',k);\n",
    "k1=sr-sf\n",
    "print('k1=',k1);\n"
   ]
  }
 ],
 "metadata": {
  "kernelspec": {
   "display_name": "Python 2",
   "language": "python",
   "name": "python2"
  },
  "language_info": {
   "codemirror_mode": {
    "name": "ipython",
    "version": 2
   },
   "file_extension": ".py",
   "mimetype": "text/x-python",
   "name": "python",
   "nbconvert_exporter": "python",
   "pygments_lexer": "ipython2",
   "version": "2.7.11"
  }
 },
 "nbformat": 4,
 "nbformat_minor": 0
}
