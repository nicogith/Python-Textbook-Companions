{
 "metadata": {
  "name": "",
  "signature": "sha256:0e3515c22d434f11fe7acbd64bd5fe64fb79f6d2ae3e613426e23af4f17b487a"
 },
 "nbformat": 3,
 "nbformat_minor": 0,
 "worksheets": [
  {
   "cells": [
    {
     "cell_type": "heading",
     "level": 1,
     "metadata": {},
     "source": [
      "Chapter 7 : Comparison of SI and CI Engines"
     ]
    },
    {
     "cell_type": "heading",
     "level": 2,
     "metadata": {},
     "source": [
      "Example 7.1  Page No : 183"
     ]
    },
    {
     "cell_type": "code",
     "collapsed": false,
     "input": [
      "\n",
      "#Given:\n",
      "#For SI engine\n",
      "F_A1 = 1/13.5      #Fuel air ratio\n",
      "CV1 = 44000.      #Calorific value in kJ/kg\n",
      "eta_bt1 = 25.      #Brake thermal efficiency in percent\n",
      "m_f1 = 1.      #Fuel consumption in kg/hr\n",
      "#For CI engine\n",
      "A_F2 = 25./1      #Air fuel ratio\n",
      "CV2 = 42000.      #Calorific value in kJ/kg\n",
      "eta_bt2 = 38.      #Brake thermal efficiency in percent\n",
      "\n",
      "#Solution:\n",
      "#(a)SI engine\n",
      "bp1 = m_f1*CV1*eta_bt1/(100*3600)      #Brake power in kW\n",
      "bsfc1 = m_f1/bp1      #Brake specific fuel consumption in kg/kWh\n",
      "m_a1 = bsfc1/F_A1      #Air consumption in kg/kWh\n",
      "#(a)CI engine\n",
      "m_f2 = 1.      #Fuel consumption in kg/hr\n",
      "bp2 = m_f2*CV2*eta_bt2/(3600*100)      #Brake power in kW\n",
      "bsfc2 = m_f2/bp2      #Brake specific fuel consumption in kg/kWh\n",
      "m_a2 = bsfc2*A_F2      #Air consumption in kg/kWh\n",
      "#Comparison\n",
      "R_bp = bp1/bp2      #Ratio of brake power of SI to CI\n",
      "R_bsfc = bsfc1/bsfc2      #Ratio of brake specific fuel consumption of SI to CI\n",
      "R_m_a = m_a1/m_a2      #Ratio of fuel consumption of SI to CI\n",
      "\n",
      "#Results:\n",
      "print \" For SI engine\\tBrake output, bp  =  %.2f kW/kg of fuel\\tBrake specific fuel consumption, bsfc  =  %.3f kg/kWh\"%(bp1,bsfc1)\n",
      "print \" For CI engine\\tBrake output, bp  =  %.1f kW/kg of fuel\\tBrake specific fuel consumption, bsfc  =  %.3f kg/kWh\"%(bp2,bsfc2)\n",
      "print \" The air consumption\\tfor SI engine, m_a  =  %.2f kg/kWh\\tfor CI engine, m_a  =  %.2f kg/kWh\"%(m_a1,m_a2)\n",
      "print \" Comparison of SI to CI\\tbp  =  %.3f\\tbsfc  =  %.3f\\tair consumption  =  %.3f\"%(R_bp,R_bsfc,R_m_a)\n"
     ],
     "language": "python",
     "metadata": {},
     "outputs": [
      {
       "output_type": "stream",
       "stream": "stdout",
       "text": [
        " For SI engine\tBrake output, bp  =  3.06 kW/kg of fuel\tBrake specific fuel consumption, bsfc  =  0.327 kg/kWh\n",
        " For CI engine\tBrake output, bp  =  4.4 kW/kg of fuel\tBrake specific fuel consumption, bsfc  =  0.226 kg/kWh\n",
        " The air consumption\tfor SI engine, m_a  =  4.42 kg/kWh\tfor CI engine, m_a  =  5.64 kg/kWh\n",
        " Comparison of SI to CI\tbp  =  0.689\tbsfc  =  1.451\tair consumption  =  0.783\n"
       ]
      }
     ],
     "prompt_number": 1
    },
    {
     "cell_type": "heading",
     "level": 2,
     "metadata": {},
     "source": [
      "Example 7.2  Page No : 188"
     ]
    },
    {
     "cell_type": "code",
     "collapsed": false,
     "input": [
      "\n",
      "#Given:\n",
      "#For SI engine\n",
      "s1 = 0.72      #Specific gravity of gasoline fuel\n",
      "CV1 = 44800.      #Calorific value of gasoline fuel in kJ/kg\n",
      "eta_bt1 = 20.      #Brake thermal efficiency in percent\n",
      "A_F1 = 14.      #Air fuel ratio\n",
      "#For CI engine\n",
      "s2 = 0.87      #Specific gravity of diesel oil\n",
      "CV2 = 43100.      #Calorific value of diesel oil in kJ/kg\n",
      "eta_bt2 = 30.      #Brake thermal efficiency in percent\n",
      "A_F2 = 21.      #Air fuel ratio\n",
      "\n",
      "#Solution:\n",
      "#SI engine\n",
      "bsfc_SI = 3600*100/(eta_bt1*CV1)      #Brake specific fuel consumption in kg/kWh\n",
      "m_a_SI = A_F1*bsfc_SI      #Air consumption in kg/kWh\n",
      "#CI engine\n",
      "bsfc_CI = 3600*100/(eta_bt2*CV2)      #Brake specific fuel consumption in kg/kWh\n",
      "m_a_CI = A_F2*bsfc_CI      #Air consumption in kg/kWh\n",
      "\n",
      "#Results:\n",
      "print \" For SI engine\\tBrake specific fuel consumption, bsfc_SI  =  %.3f kg/kWh\\tAir consumption  =  %.2f kg/kWh\"%(bsfc_SI,m_a_SI)\n",
      "print \" For CI engine\\tBrake specific fuel consumption, bsfc_CI  =  %.3f kg/kWh\\tAir consumption  =  %.2f kg/kWh\"%(bsfc_CI,m_a_CI)\n"
     ],
     "language": "python",
     "metadata": {},
     "outputs": [
      {
       "output_type": "stream",
       "stream": "stdout",
       "text": [
        " For SI engine\tBrake specific fuel consumption, bsfc_SI  =  0.402 kg/kWh\tAir consumption  =  5.62 kg/kWh\n",
        " For CI engine\tBrake specific fuel consumption, bsfc_CI  =  0.278 kg/kWh\tAir consumption  =  5.85 kg/kWh\n"
       ]
      }
     ],
     "prompt_number": 2
    }
   ],
   "metadata": {}
  }
 ]
}