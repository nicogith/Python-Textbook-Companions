{
 "metadata": {
  "name": "",
  "signature": "sha256:927a2e0fe2c0cb4a8408b69386afb92e9a0f1b8a2bf0a600a62e99031298d2ae"
 },
 "nbformat": 3,
 "nbformat_minor": 0,
 "worksheets": [
  {
   "cells": [
    {
     "cell_type": "heading",
     "level": 1,
     "metadata": {},
     "source": [
      "Chapter 12 : Fuel Injection"
     ]
    },
    {
     "cell_type": "heading",
     "level": 2,
     "metadata": {},
     "source": [
      "Example 12.1  Page No : 288"
     ]
    },
    {
     "cell_type": "code",
     "collapsed": false,
     "input": [
      "\n",
      "#Given:\n",
      "n  =  6.      #Number of cylinders\n",
      "bsfc  =  245.      #Brake specific fuel consumption in gm/kWh\n",
      "bp  =  89.      #Brake power in kW\n",
      "N  =  2500.      #Engine speed in rpm\n",
      "s  =  0.84      #Specific gravity of the fuel\n",
      "\n",
      "#Solution:\n",
      "m_f  =  bsfc*bp/(1000)      #Fuel consumption in kg/hr\n",
      "m_f  =  m_f/n      #Fuel consumption per cylinder in kg/hr\n",
      "m_f  =  (m_f/3600)/(N/(2*60))      #Fuel consumption per cycle in kg\n",
      "V_f  =  m_f*1000/s      #Volume of fuel consume per cycle in cc\n",
      "\n",
      "#Results:\n",
      "print \" The quantity of fuel to be injected per cycle per cylinder, V_f   =   %.4f cc\"%(V_f)\n"
     ],
     "language": "python",
     "metadata": {},
     "outputs": [
      {
       "output_type": "stream",
       "stream": "stdout",
       "text": [
        " The quantity of fuel to be injected per cycle per cylinder, V_f   =   0.0577 cc\n"
       ]
      }
     ],
     "prompt_number": 1
    },
    {
     "cell_type": "heading",
     "level": 2,
     "metadata": {},
     "source": [
      "Example 12.2  Page No : 293"
     ]
    },
    {
     "cell_type": "code",
     "collapsed": false,
     "input": [
      "import math \n",
      "\n",
      "#Given:\n",
      "n  =  8.      #Number of cylinders\n",
      "bp  =  368.      #Brake power in kW\n",
      "N  =  800.      #Engine speed in rpm\n",
      "bsfc  =  0.238      #Brake specific fuel consumption in kg/kWh\n",
      "P1  =  35.\n",
      "P2  =  60.      #Beginning pressure and maximum pressure in cylinder in bar\n",
      "P1_i  =  210.\n",
      "P2_i  =  600.      #Expected pressure and maximum pressure at injector in bar\n",
      "theta_i  =  12.      #Period of injection in degrees\n",
      "Cd  =  0.6      #Coefficient of discharge for the injector\n",
      "s  =  0.85      #Specific gravity of the fuel\n",
      "P_atm  =  1.013      #Atmospheric pressure in bar\n",
      "\n",
      "#Solution:\n",
      "m_f  =  bsfc*bp/(n*60)      #Fuel consumption per cylinder in kg/min\n",
      "m_f  =  m_f/(N/2)      #Fuel consumption per cycle in kg\n",
      "t  =  theta_i/360*60/N      #Time for injection in s\n",
      "m_f  =  m_f/t      #Fuel consumption per cycle in kg/s\n",
      "deltaP1  =  P1_i-P1      #Pressure difference at beginning in bar\n",
      "deltaP2  =  P2_i-P2      #Pressure difference at end in bar\n",
      "deltaP_av  =  (deltaP1+deltaP2)/2      #Average pressure difference in bar\n",
      "A_f  =  m_f/(Cd*math.sqrt(2*s*1000*deltaP_av*10**5))      #Orifice area of fuel injector in m**2\n",
      "\n",
      "#Results:\n",
      "print \" The Orifice area of fuel injector, Af   =   %.5f cm**2\"%(A_f*10000)\n"
     ],
     "language": "python",
     "metadata": {},
     "outputs": [
      {
       "output_type": "stream",
       "stream": "stdout",
       "text": [
        " The Orifice area of fuel injector, Af   =   0.01234 cm**2\n"
       ]
      }
     ],
     "prompt_number": 2
    },
    {
     "cell_type": "heading",
     "level": 2,
     "metadata": {},
     "source": [
      "Example 12.3  Page No : 298"
     ]
    },
    {
     "cell_type": "code",
     "collapsed": false,
     "input": [
      "import math \n",
      "\n",
      "#Given:\n",
      "bp  =  15.      #Brake power per cylinder in kW\n",
      "N  =  2000.      #Engine speed in rpm\n",
      "bsfc  =  0.272      #Brake specific fuel consumption in kg/kWh\n",
      "API  =  32.      #American Petroleum Institute specific gravity in degreeAPI\n",
      "theta_i  =  30.      #Period of injection in degrees\n",
      "P_i  =  120.      #Fuel injection pressure in bar\n",
      "P_c  =  30.      #Combustion chamber pressure in bar\n",
      "Cd  =  0.9      #Coefficient of discharge for the injector\n",
      "def  specificgravity(API):\n",
      "    return  141.5/(131.5+API)      #Specific gravity(rho) as a function of API\n",
      "\n",
      "#Solution:\n",
      "s  =  specificgravity(API)      #Specific gravity of fuel\n",
      "m_f  =  bsfc*bp*2/(N*60)      #Fuel consumption in kg\n",
      "t  =  theta_i/360*60/N      #Time for injection in s\n",
      "m_f  =  m_f/t      #Fuel consumption per cycle in kg/s\n",
      "A_f  =  m_f/(Cd*math.sqrt(2*s*1000*(P_i-P_c)*10**5))      #Orifice area of fuel injector in m**2\n",
      "A_f  =  A_f*10**6      #Orifice area of fuel injector in mm**2\n",
      "d_f  =  math.sqrt(4*A_f/math.pi)      #Diameter of fuel orifice in mm\n",
      "\n",
      "#Results:\n",
      "print \" The diameter of the fuel orifice, d   =   %.2f mm\"%(d_f)\n"
     ],
     "language": "python",
     "metadata": {},
     "outputs": [
      {
       "output_type": "stream",
       "stream": "stdout",
       "text": [
        " The diameter of the fuel orifice, d   =   0.56 mm\n"
       ]
      }
     ],
     "prompt_number": 3
    },
    {
     "cell_type": "heading",
     "level": 2,
     "metadata": {},
     "source": [
      "Example 12.4  Page No : 303"
     ]
    },
    {
     "cell_type": "code",
     "collapsed": false,
     "input": [
      "import math \n",
      "\n",
      "#Given:\n",
      "s1  =  20.      #Dismath.tance of penetration in cm\n",
      "t1  =  16.      #Penetration time in millisec\n",
      "P_i1  =  140.      #Injection pressure in bar\n",
      "s2  =  s1      #Same dismath.tance of penetration in cm\n",
      "P_i2  =  220.      #Injection pressure in bar\n",
      "P_c  =  15.      #Combustion chamber pressure in bar\n",
      "\n",
      "#Solution:\n",
      "deltaP1  =  P_i1-P_c      #Pressure difference for 140 bar injection pressure\n",
      "deltaP2  =  P_i2-P_c      #Pressure difference for 220 bar injection pressure\n",
      "t2  =  t1*(s2/s1)*math.sqrt(deltaP1/deltaP2)      #Penetration time for 220 bar injection pressure in millisec\n",
      "\n",
      "#Results:\n",
      "print \" Penetration time for 220 bar injection pressure, t2   =   %.1f milli-seconds\"%(t2)\n",
      "#Answer in the book is wrong\n"
     ],
     "language": "python",
     "metadata": {},
     "outputs": [
      {
       "output_type": "stream",
       "stream": "stdout",
       "text": [
        " Penetration time for 220 bar injection pressure, t2   =   12.5 milli-seconds\n"
       ]
      }
     ],
     "prompt_number": 4
    },
    {
     "cell_type": "heading",
     "level": 2,
     "metadata": {},
     "source": [
      "Example 12.5  Page No : 308"
     ]
    },
    {
     "cell_type": "code",
     "collapsed": false,
     "input": [
      "import math \n",
      "\n",
      "#Given:\n",
      "V_b  =  7.      #Volume of fuel in the barrel in cc\n",
      "D_l  =  3.\n",
      "L_l  =  700.      #Diameter and length of fuel delivery line in mm\n",
      "V_iv  =  3.      #Volume of fuel in the injection valve in cc\n",
      "P2  =  200.      #Delivery pressure in bar\n",
      "P1  =  1.      #Sump pressure in bar\n",
      "V_d  =  0.15      #Volume to be delivered in cc\n",
      "C  =  78.8e-6      #Coefficient of compressibility\n",
      "d  =  8.      #Diameter of the plunger in mm\n",
      "\n",
      "#Solution:\n",
      "V_l  =  math.pi/4*D_l**2*L_l*10**-3      #Volume of fuel in delivery line in cc\n",
      "V1  =  V_b+V_l+V_iv      #Total initial fuel volume in cc\n",
      "deltaV  =  C*(P2-P1)*V1      #Change in volume due to compression in cc\n",
      "V_p  =  deltaV+V_d      #Displaced volume by plunger in cc\n",
      "A_p  =  math.pi/4*d**2*10**-2      #Area of the plunger in cm**2\n",
      "l  =  V_p/A_p      #Effective stroke of plunger in cm\n",
      "\n",
      "#Results:\n",
      "print \" The plunger print lacement   =   %.3f cc\"%(V_p)\n",
      "print \" The effective stroke of the plunger, l   =   %.2f mm\"%(l*10)\n"
     ],
     "language": "python",
     "metadata": {},
     "outputs": [
      {
       "output_type": "stream",
       "stream": "stdout",
       "text": [
        " The plunger print lacement   =   0.384 cc\n",
        " The effective stroke of the plunger, l   =   7.65 mm\n"
       ]
      }
     ],
     "prompt_number": 5
    }
   ],
   "metadata": {}
  }
 ]
}