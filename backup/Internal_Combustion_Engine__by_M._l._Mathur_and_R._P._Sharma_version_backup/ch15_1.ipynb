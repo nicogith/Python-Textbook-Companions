{
 "metadata": {
  "name": "",
  "signature": "sha256:776c6c0aeac983ed6f1b3e68c4390880a4a4841d6a8c44c8e08d2ff96eff17ed"
 },
 "nbformat": 3,
 "nbformat_minor": 0,
 "worksheets": [
  {
   "cells": [
    {
     "cell_type": "heading",
     "level": 1,
     "metadata": {},
     "source": [
      "Chapter 15 : Engine Cooling"
     ]
    },
    {
     "cell_type": "heading",
     "level": 2,
     "metadata": {},
     "source": [
      "Example 15.1  Page No : 323"
     ]
    },
    {
     "cell_type": "code",
     "collapsed": false,
     "input": [
      "\n",
      "#Given:\n",
      "bp  =  100.      #Brake power in kW\n",
      "deltaT  =  30.      #Temperature raised of water in degreeC\n",
      "p_p  =  30\n",
      "p_d  =  26.      #Percentage of energy going to coolent in petrol and diesel\n",
      "eta_p  =  26.\n",
      "eta_d  =  31.      #Efficiency of petrol and diesel engine in percent\n",
      "s  =  4.1868      #Specific heat capacity of water in J/kgK\n",
      "\n",
      "#Solution:\n",
      "#Petrol engine\n",
      "CW_p  =  bp*(p_p/100)/((eta_p/100)*deltaT*s)      #Amount of cooling water required in petrol engine in kg/s\n",
      "#Diesel engine\n",
      "CW_d  =  bp*(p_d/100)/((eta_d/100)*deltaT*s)      #Amount of cooling water required in diesel engine in kg/s\n",
      "\n",
      "#Results:\n",
      "print \" Amount of cooling water required in petrol engine   =   %d kg/hr\"%(CW_p*3600)\n",
      "print \" Amount of cooling water required in diesel engine   =   %.1f kg/hr\"%(CW_d*3600)\n"
     ],
     "language": "python",
     "metadata": {},
     "outputs": [
      {
       "output_type": "stream",
       "stream": "stdout",
       "text": [
        " Amount of cooling water required in petrol engine   =   0 kg/hr\n",
        " Amount of cooling water required in diesel engine   =   2403.9 kg/hr\n"
       ]
      }
     ],
     "prompt_number": 1
    }
   ],
   "metadata": {}
  }
 ]
}