{
 "metadata": {
  "name": "",
  "signature": "sha256:6f0d26615e80e3779bcf7364d96763c08c70aa877294b90e27c4df4ea6a8198b"
 },
 "nbformat": 3,
 "nbformat_minor": 0,
 "worksheets": [
  {
   "cells": [
    {
     "cell_type": "heading",
     "level": 1,
     "metadata": {},
     "source": [
      "Chapter 16 : Two Stroke Engines"
     ]
    },
    {
     "cell_type": "heading",
     "level": 2,
     "metadata": {},
     "source": [
      "Example 16.1  Page No : 328"
     ]
    },
    {
     "cell_type": "code",
     "collapsed": false,
     "input": [
      "import math \n",
      "\n",
      "#Given:\n",
      "n  =  2.      #Number of cylinders\n",
      "N  =  4000.      #Angular speed of engine in rpm\n",
      "eta_v  =  0.77      #Volumetric efficiency\n",
      "eta_m  =  0.75      #Mechanical efficiency\n",
      "V_f  =  10.      #Fuel consumption in l/hr\n",
      "s  =  0.73      #Specific gravity\n",
      "h  =  10500.      #Enthalpy of fuel in kcal/kg\n",
      "A_F  =  18.      #Air-fuel ratio\n",
      "v_p  =  600.      #Speed of piston in m/min\n",
      "imep  =  5.      #Indicated mean effective pressure in atm \n",
      "T  =  298.\n",
      "P  =  1.013      #Smath.radians(numpy.arcmath.tan(ard temperature and pressure in K and bar\n",
      "\n",
      "#Solution:\n",
      "R  =  0.287      #Specific gas consmath.tant in kJ/kgK\n",
      "m_f  =  V_f*s      #Fuel consumption in kg/hr\n",
      "m_a  =  A_F*m_f      #Air consumption in kg/hr\n",
      "m_c  =  m_f+m_a      #Mass of total charge in kg/hr\n",
      "m  =  round(m_c/eta_v)      #Mass of charge corresponding to the swept volume in kg/hr\n",
      "V  =  (m/2)*R*T/(P*100)      #Volume of charge consumed in m**3/hr\n",
      "V_s  =  V*10**6/(60*N)      #Swept volume by piston per stroke in cc\n",
      "L  =  v_p*100/(2*N)      #Stroke length of cylinder in cm\n",
      "d  =  math.sqrt(4*V_s/(math.pi*L))      #Bore of cylinder in cm\n",
      "IHP  =  round(imep*V_s*N*n/450000)      #Indicated horse power in metric HP\n",
      "BHP  =  IHP*eta_m      #Brake horse power in metric HP\n",
      "eta_t  =  BHP*736*3600/(V_f*s*h*4187)      #Thermal efficiency\n",
      "\n",
      "#Results:\n",
      "print \" The engine dimensions\\t Stroke length, L   =   %.1f cm\\t Bore, d   =   %.1f cm\"%(L,d)\n",
      "print \" The brake power output, BHP   =   %.1f metric HP\"%(BHP)\n",
      "print \" The thermal efficiency, eta_t   =   %.1f percent\"%(eta_t*100)\n"
     ],
     "language": "python",
     "metadata": {},
     "outputs": [
      {
       "output_type": "stream",
       "stream": "stdout",
       "text": [
        " The engine dimensions\t Stroke length, L   =   7.5 cm\t Bore, d   =   7.3 cm\n",
        " The brake power output, BHP   =   21.0 metric HP\n",
        " The thermal efficiency, eta_t   =   17.3 percent\n"
       ]
      }
     ],
     "prompt_number": 1
    }
   ],
   "metadata": {}
  }
 ]
}