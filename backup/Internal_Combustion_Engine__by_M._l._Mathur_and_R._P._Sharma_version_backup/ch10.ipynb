{
 "metadata": {
  "name": "",
  "signature": "sha256:75a09c4d71a14a2b78ad1c67800cd323aa699506b5a606581aba636b14a84807"
 },
 "nbformat": 3,
 "nbformat_minor": 0,
 "worksheets": [
  {
   "cells": [
    {
     "cell_type": "heading",
     "level": 1,
     "metadata": {},
     "source": [
      "Chapter 10 : Air Capacity of Four Stroke Engines"
     ]
    },
    {
     "cell_type": "heading",
     "level": 2,
     "metadata": {},
     "source": [
      "Example 10.1  Page No : 238"
     ]
    },
    {
     "cell_type": "code",
     "collapsed": false,
     "input": [
      "import math \n",
      "\n",
      "#Given:\n",
      "n  =  6.      #Number of cylinders\n",
      "V_d  =  700.      #Displaced volume per cylinder in cm**3\n",
      "bp  =  78.      #Brake power in kW\n",
      "N  =  3200.      #Angular speed of engine in rpm\n",
      "m_f  =  27.      #Petrol consumption in kg/hr\n",
      "CV  =  44.      #Calorific value in MJ/kg\n",
      "\n",
      "#Solution:\n",
      "#(1)\n",
      "A_F  =  12.      #Air-fuel ratio\n",
      "P1  =  0.9\n",
      "T1  =  32+273      #Intake air pressure and temperature in bar and K\n",
      "m_a  =  A_F*m_f      #Air consumption in kg/hr\n",
      "R  =  287.      #Specific gas consmath.tant in J/kgK\n",
      "rho_a  =  P1*10**5/(R*T1)      #Density of air in kg/m**3\n",
      "eta_vol  =  m_a/(60*rho_a*V_d*n*10**-6*N/2)      #Volumetric efficiency\n",
      " #(2)\n",
      "eta_bt  =  bp*3600/(m_f*CV*1000)      #Brake thermal efficiency\n",
      "#(3)\n",
      "T  =  bp*60/(2*math.pi*N)      #Brake torque in kNm\n",
      "\n",
      "#Results:\n",
      "print \" 1)The volumetric efficiency, eta_vol   =   %.2f percent\"%(eta_vol*100)\n",
      "print \" 2)The brake thermal efficiency, eta_bt   =   %.2f percent\"%(eta_bt*100)\n",
      "print \" 3)The brake torque, T   =   %.0f Nm\"%(T*1000)\n"
     ],
     "language": "python",
     "metadata": {},
     "outputs": [
      {
       "output_type": "stream",
       "stream": "stdout",
       "text": [
        " 1)The volumetric efficiency, eta_vol   =   78.16 percent\n",
        " 2)The brake thermal efficiency, eta_bt   =   23.64 percent\n",
        " 3)The brake torque, T   =   233 Nm\n"
       ]
      }
     ],
     "prompt_number": 1
    }
   ],
   "metadata": {}
  }
 ]
}