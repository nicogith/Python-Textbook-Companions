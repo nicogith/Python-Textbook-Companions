{
 "metadata": {
  "name": "",
  "signature": "sha256:8c6c7f8262f8a0e8e48f0cab464ff58177e84801608c6a7a2057a29ec402b43d"
 },
 "nbformat": 3,
 "nbformat_minor": 0,
 "worksheets": [
  {
   "cells": [
    {
     "cell_type": "heading",
     "level": 1,
     "metadata": {},
     "source": [
      "Chapter 17 :  Supercharging"
     ]
    },
    {
     "cell_type": "heading",
     "level": 2,
     "metadata": {},
     "source": [
      "Example 17.1  Page No : 333"
     ]
    },
    {
     "cell_type": "code",
     "collapsed": false,
     "input": [
      "from math import ceil\n",
      "\n",
      "#Given:\n",
      "V_s  =  3000.      #Total swept volume in cc\n",
      "ip  =  14.      #Indicated power in kW/m**3\n",
      "N  =  3500.      #Engine speed in rpm\n",
      "eta_v  =  80.      #Volumetric efficiency in percent\n",
      "T1  =  27+273.      #Atmospheric temperature in K\n",
      "P1  =  1.013      #Atmospheric pressure in bar\n",
      "r_p  =  1.7      #pressure ratio\n",
      "eta_C  =  75.      #Isentropic efficiency of blower in percent\n",
      "eta_m  =  80.      #Mechanical efficiency in percent\n",
      "g  =  1.4      #Specific heat ratio(gamma)\n",
      "\n",
      "#Solution:\n",
      "V_s  =  V_s*N/2*1e-6      #Total swept volume in m**3/min\n",
      "Vi  =  V_s*eta_v/100      #Unsupercharged induced volume in m**3/min\n",
      "P2  =  P1*r_p      #Blower delivery pressure in bar\n",
      "T21  =  T1*r_p**((g-1)/g)      #Isentropic temperature at 2 in K\n",
      "T21  =  ceil(T21)\n",
      "T2  =  (T21-T1)/(eta_C/100)+T1      #Temperature at 2 in K\n",
      "V1  =  V_s*(P2/T2)*(T1/P1)      #Volume at atmospheric conditions in m**3/min\n",
      "Vi_inc  =  V1-Vi      #Increase in induced volume in m**3/min\n",
      "ip_inc1  =  ip*Vi_inc      #Increased in ip from air induced in kW\n",
      "ip_inc2  =  (P2-P1)*100*V_s/60      #Increased in ip due to increased induction pressure in kW\n",
      "ip_inc  =  ip_inc1+ip_inc2      #Total increase in ip in kW\n",
      "bp_inc  =  eta_m/100*ip_inc      #Total increase in bp in kW\n",
      "R  =  0.287      #Specific gas consmath.tant in kJ/kgK\n",
      "cp  =  1.005      #Specific heat in kJ/kgK\n",
      "m2  =  P2*100*V_s/(R*T2*60)      #Mass of air delivered by the blower in kg/s\n",
      "Power  =  m2*cp*(T2-T1)/(eta_m/100)      #Power required by the blower in kW\n",
      "bp_inc  =  bp_inc-Power      #Net increase in brake power in kW\n",
      "\n",
      "#Results:\n",
      "print \" The net increase in the brake power   =   %.1f kW\"%(bp_inc)\n"
     ],
     "language": "python",
     "metadata": {},
     "outputs": [
      {
       "output_type": "stream",
       "stream": "stdout",
       "text": [
        " The net increase in the brake power   =   27.7 kW\n"
       ]
      }
     ],
     "prompt_number": 2
    },
    {
     "cell_type": "heading",
     "level": 2,
     "metadata": {},
     "source": [
      "Example 17.2  Page No : 338"
     ]
    },
    {
     "cell_type": "code",
     "collapsed": false,
     "input": [
      "\n",
      "\n",
      "#Given:\n",
      "T1  =  10.+273      #Temperature at sea level in K\n",
      "P1  =  1.013      #Pressure at sea level in bar\n",
      "bp  =  250.      #Brake power in kW\n",
      "eta_v  =  78.      #Volumetric efficiency in percent\n",
      "bsfc  =  0.245      #Brake specific fuel consumption in kg/kWh\n",
      "A_F  =  17.      #Air fuel ratio\n",
      "N  =  1500.      #Engine speed in rpm\n",
      "h  =  2700.      #Altitude in m\n",
      "P_a  =  0.72      #Pressure at altitude in bar\n",
      "p  =  8.      #Percentage of gross power taken by the supercharger\n",
      "T2  =  32.+273      #Temperature of air leaving the supercharger in K\n",
      "\n",
      "#Solution:\n",
      "#Unsupercharged\n",
      "m_f  =  bsfc*bp/60      #Fuel consumption in kg/min\n",
      "m_a  =  A_F*m_f      #Air consumption in kg/min\n",
      "m_a  =  m_a/(N/2)      #Air consumption per cycle in kg\n",
      "m1  =  m_a/eta_v*100      #Mass of air corresponding to swept volume\n",
      "R  =  0.287      #Specific gas consmath.tant in kJ/kgK\n",
      "V_s  =  m1*R*T1/(P1*100)      #Swept volume in m**3\n",
      "bmep  =  bp/(V_s*N/(60*2))      #Brake mean effective pressure in kN/m**2\n",
      "#Supercharged\n",
      "bp2  =  bp/(1-p/100)      #Gross power produced by the engine in kW\n",
      "m_a2  =  bp2/bp*m_a      #Mass of air required per cycle in kg\n",
      "m2  =  m_a2/eta_v*100      #Mass of air corresponding to swept volume\n",
      "P2  =  m2*R*T2/(V_s*100)      #Pressure of air leaving the supercharger in bar\n",
      "deltaP  =  P2-P_a      #Increase in pressure required in bar\n",
      "\n",
      "#Results:\n",
      "print \" The required engine capacity, V_s   =   %.4f m**3\"%(V_s)\n",
      "print \" The anticipated brake mean effective pressure, bmep   =   %.1f bar\"%(bmep/100)\n",
      "print \" The increase of air pressure required at the supercharger   =   %.3f bar\"%(deltaP)\n"
     ],
     "language": "python",
     "metadata": {},
     "outputs": [
      {
       "output_type": "stream",
       "stream": "stdout",
       "text": [
        " The required engine capacity, V_s   =   0.0238 m**3\n",
        " The anticipated brake mean effective pressure, bmep   =   8.4 bar\n",
        " The increase of air pressure required at the supercharger   =   0.467 bar\n"
       ]
      }
     ],
     "prompt_number": 3
    },
    {
     "cell_type": "heading",
     "level": 2,
     "metadata": {},
     "source": [
      "Example 17.3  Page No : 343"
     ]
    },
    {
     "cell_type": "code",
     "collapsed": false,
     "input": [
      "import math \n",
      "from hornerc import horner\n",
      "from sympy import Symbol, solve\n",
      "\n",
      "#Given:\n",
      "V_s  =  3300.      #Swept volume in cc\n",
      "#For normally aspirated\n",
      "bmep1  =  9.3      #Brake mean effective pressure in bar\n",
      "N1  =  4500.      #Engine speed in rpm\n",
      "eta_it1  =  28.5      #Indicated thermal efficiency in percent\n",
      "eta_m1  =  90.      #Mechanical efficiency in percent\n",
      "m1  =  205.      #Mass of unboosted engine in kg\n",
      "#For supercharged\n",
      "bmep2  =  12.1      #Brake mean effective pressure in bar\n",
      "N2  =  4500      #Engine speed in rpm\n",
      "eta_it2  =  24.8      #Indicated thermal efficiency in percent\n",
      "eta_m2  =  90      #Mechanical efficiency in percent\n",
      "m2  =  225      #Mass of boosted engine in kg\n",
      "h  =  Symbol('h')      #Defining the unknown h hours duration\n",
      "CV  =  44000      #Calorific value of fuel in kJ/kg\n",
      "\n",
      "#Solution:\n",
      "#For normally aspirated\n",
      "bp1  =  bmep1*100*V_s/1e+6*N1/(2*60)      #Brake power in kW\n",
      "bp1  =  round(bp1)\n",
      "ip1  =  bp1/eta_m1*100      #Indicated power in kW\n",
      "m_f1  =  ip1/(eta_it1/100*CV)      #Fuel flow in kg/s\n",
      "m_f1  =  m_f1*3600*h      #Mass of fuel flow in h hours in kg\n",
      "Mass1  =  (m1+m_f1)/bp1      #Specific mass in kg/kW\n",
      "#For supercharged\n",
      "bp2  =  bmep2*100*V_s/1e+6*N2/(2*60)      #Brake power in kW\n",
      "bp2  =  round(bp2)\n",
      "ip2  =  bp2/eta_m2*100      #Indicated power in kW\n",
      "m_f2  =  ip2/(eta_it2/100*CV)      #Fuel flow in kg/s\n",
      "m_f2  =  m_f2*3600*h      #Mass of fuel flow in h hours in kg\n",
      "Mass2  =  (m2+m_f2)/bp2      #Specific mass in kg/kW\n",
      "for h in range(0,10.01,0.01):      #Defining the range of h(hours)\n",
      "    if (horner(Mass1,h) > horner(Mass2,h)):       #Specific mass of boosted engine is always be less than unboosted\n",
      "        continue\n",
      "    else:\n",
      "        h_max  =  h\n",
      "        break\n",
      "\n",
      "#Results:\n",
      "print \" The maximum value of h hours duration, h_max   =   %.2f hours\"%(h_max)\n"
     ],
     "language": "python",
     "metadata": {},
     "outputs": [
      {
       "ename": "ImportError",
       "evalue": "No module named hornerc",
       "output_type": "pyerr",
       "traceback": [
        "\u001b[0;31m---------------------------------------------------------------------------\u001b[0m\n\u001b[0;31mImportError\u001b[0m                               Traceback (most recent call last)",
        "\u001b[0;32m<ipython-input-6-b4294f717de0>\u001b[0m in \u001b[0;36m<module>\u001b[0;34m()\u001b[0m\n\u001b[1;32m      1\u001b[0m \u001b[0;32mimport\u001b[0m \u001b[0mmath\u001b[0m\u001b[0;34m\u001b[0m\u001b[0m\n\u001b[0;32m----> 2\u001b[0;31m \u001b[0;32mfrom\u001b[0m \u001b[0mhornerc\u001b[0m \u001b[0;32mimport\u001b[0m \u001b[0mhorner\u001b[0m\u001b[0;34m\u001b[0m\u001b[0m\n\u001b[0m\u001b[1;32m      3\u001b[0m \u001b[0;32mfrom\u001b[0m \u001b[0msympy\u001b[0m \u001b[0;32mimport\u001b[0m \u001b[0mSymbol\u001b[0m\u001b[0;34m,\u001b[0m \u001b[0msolve\u001b[0m\u001b[0;34m\u001b[0m\u001b[0m\n\u001b[1;32m      4\u001b[0m \u001b[0;34m\u001b[0m\u001b[0m\n\u001b[1;32m      5\u001b[0m \u001b[0;31m#Given:\u001b[0m\u001b[0;34m\u001b[0m\u001b[0;34m\u001b[0m\u001b[0m\n",
        "\u001b[0;31mImportError\u001b[0m: No module named hornerc"
       ]
      }
     ],
     "prompt_number": 6
    },
    {
     "cell_type": "heading",
     "level": 2,
     "metadata": {},
     "source": [
      "Example 17.4  Page No : 348"
     ]
    },
    {
     "cell_type": "code",
     "collapsed": false,
     "input": [
      "from scipy.optimize import fsolve \n",
      "import math \n",
      "\n",
      "#Given:\n",
      "T1  =  20.+273      #Temperature of air enters the compressor in K\n",
      "Q1  =  1340.      #Heat added to air in kJ/min\n",
      "T3  =  60.+273      #Temperature of air leaves the cooler or enters the engine in K\n",
      "P3  =  1.72      #Pressure of air leaves the cooler or enters the engine in bar\n",
      "eta_v  =  0.70      #Volumetric efficiency of engine\n",
      "n  =  6.      #Number of cylinders\n",
      "d  =  90.\n",
      "l  =  100.      #Bore and stroke of cylinder in mm\n",
      "N  =  2000.      #Engine speed in rpm\n",
      "T  =  147.      #Output brake torque in Nm\n",
      "eta_m  =  0.75      #Mechanical efficiency\n",
      "\n",
      "#Solution:\n",
      "bp  =  2*math.pi*N/60*T*10**-3      #Brake power in kW\n",
      "ip  =  bp/eta_m      #Indicated power in kW\n",
      "ip  =  ip/n      #Indicated power per cylinder in kW\n",
      "A  =  (math.pi/4)*d**2*1e-6      #Area of cylinder in m**2\n",
      "l  =  l*1e-3      #Stroke of cylinder in m\n",
      "imep  =  ip/(l*A*N/(2*60))      #Indicated mean effective pressure in kN/m**2\n",
      "imep  =  imep/100      #Indicated mean effective pressure in bar\n",
      "V_s  =  n*A*l*N/2      #Engine swept volume in m**3/min\n",
      "Vi  =  V_s*eta_v      #Induced volume of air in m**3/min\n",
      "R  =  0.287      #Specific gas consmath.tant in kJ/kgK\n",
      "cp  =  1.005      #Specific heat in kJ/kgK\n",
      "m_e  =  P3*100*Vi/(R*T3)      #Mass of air induced into the engine in kg/min\n",
      "Q1  =  1340./60      #Heat added to air in kW\n",
      "m_c  =  1      #Assume for calculation\n",
      "def  f(T2):\n",
      "    W_c  =  m_c*cp*(T2-T1)      #Work done on air in compressor kW\n",
      "    Q_c  =  m_c*cp*(T2-T3)      #Heat given to the air passes through the cooler in kW\n",
      "    return  W_c/Q_c-bp/Q1\n",
      "\n",
      "T2  =  fsolve(f,500)\n",
      "m_c  =  bp*60/(cp*(T2-T1))      #Mass of air flow into the compressor in kg/min\n",
      "\n",
      "#Results:\n",
      "print \" a)The engine indicated mean effective pressure, imep   =   %.2f bar\"%(imep)\n",
      "print \" b)The air consumption in the engine, m_e   =   %.2f kg/min\"%(m_e)\n",
      "print \" c)The air flow into the compressor, m_c   =   %.2f kg/min\"%(m_c)\n"
     ],
     "language": "python",
     "metadata": {},
     "outputs": [
      {
       "output_type": "stream",
       "stream": "stdout",
       "text": [
        " a)The engine indicated mean effective pressure, imep   =   6.45 bar\n",
        " b)The air consumption in the engine, m_e   =   4.81 kg/min\n",
        " c)The air flow into the compressor, m_c   =   12.62 kg/min\n"
       ]
      }
     ],
     "prompt_number": 9
    }
   ],
   "metadata": {}
  }
 ]
}