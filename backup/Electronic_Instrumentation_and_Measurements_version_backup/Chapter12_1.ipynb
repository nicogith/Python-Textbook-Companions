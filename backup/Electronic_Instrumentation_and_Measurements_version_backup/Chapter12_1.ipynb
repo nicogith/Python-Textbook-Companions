{
 "metadata": {
  "name": "",
  "signature": "sha256:35a41e7b4dbc1cdc77b9a35c5ee4f207fb6b4dc38c71b3e96011895ab456b780"
 },
 "nbformat": 3,
 "nbformat_minor": 0,
 "worksheets": [
  {
   "cells": [
    {
     "cell_type": "heading",
     "level": 1,
     "metadata": {},
     "source": [
      "Chapter12 - Recorders"
     ]
    },
    {
     "cell_type": "heading",
     "level": 2,
     "metadata": {},
     "source": [
      "Example 12.5.1 - page12-7   "
     ]
    },
    {
     "cell_type": "code",
     "collapsed": false,
     "input": [
      "# chart speed\n",
      "#Given data :\n",
      "f=50.0  # frequency in Hz\n",
      "period=1/f  # in seconds\n",
      "t=5  #in mm/cycle\n",
      "chart_speed=t/period\n",
      "print \"chart speed = \", chart_speed,\" mm/s\""
     ],
     "language": "python",
     "metadata": {},
     "outputs": [
      {
       "output_type": "stream",
       "stream": "stdout",
       "text": [
        "chart speed =  250.0  mm/s\n"
       ]
      }
     ],
     "prompt_number": 2
    }
   ],
   "metadata": {}
  }
 ]
}