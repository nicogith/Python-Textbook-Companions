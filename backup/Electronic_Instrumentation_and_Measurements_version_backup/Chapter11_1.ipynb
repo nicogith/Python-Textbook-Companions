{
 "metadata": {
  "name": "",
  "signature": "sha256:ce9c4ba63f9ce316e76597a7788141e75bacb70902db486d65612d29b6d08c96"
 },
 "nbformat": 3,
 "nbformat_minor": 0,
 "worksheets": [
  {
   "cells": [
    {
     "cell_type": "heading",
     "level": 1,
     "metadata": {},
     "source": [
      "Chapter 11 - Instrument Calibration"
     ]
    },
    {
     "cell_type": "heading",
     "level": 2,
     "metadata": {},
     "source": [
      "Example 11.3.1 - page11-7"
     ]
    },
    {
     "cell_type": "code",
     "collapsed": false,
     "input": [
      "# percentage of the reading and percentage of full scale\n",
      "#Given data :\n",
      "a=10 #scale reading\n",
      "b=70 # full scale\n",
      "error1=-(0.5/10)*100  # in %\n",
      "print \"step 1\"\n",
      "print \"error of reading \", error1, \" %\"\n",
      "error2=-(0.5/100)*100 # in %\n",
      "print \"error of full scale is \", error2, \" %\"\n",
      "print \"step 2\"\n",
      "error3=(2.5/70)*100 # in %\n",
      "print \"error of reading is \", round(error3,2), \" %\"\n",
      "error4=(2.5/100)*100 # in %\n",
      "print \"error of full scale is\", error4, \" %\""
     ],
     "language": "python",
     "metadata": {},
     "outputs": [
      {
       "output_type": "stream",
       "stream": "stdout",
       "text": [
        "step 1\n",
        "error of reading  -5.0  %\n",
        "error of full scale is  -0.5  %\n",
        "step 2\n",
        "error of reading is  3.57  %\n",
        "error of full scale is 2.5  %\n"
       ]
      }
     ],
     "prompt_number": 3
    },
    {
     "cell_type": "heading",
     "level": 2,
     "metadata": {},
     "source": [
      "Example 11.3.2 - page11-9"
     ]
    },
    {
     "cell_type": "code",
     "collapsed": false,
     "input": [
      " # wattmeter error and correction figure\n",
      "#Given data :\n",
      "P1=120.0 # in W\n",
      "V=114.0 #in volts\n",
      "I=1 #in A\n",
      "P=V*I \n",
      "error1=P-P1 # in W\n",
      "print \"correction figure is \", error1, \" W\"\n",
      "error2=(error1/P1)*100  # in %\n",
      "print \"wattmeter error is \",error2,\" %\""
     ],
     "language": "python",
     "metadata": {},
     "outputs": [
      {
       "output_type": "stream",
       "stream": "stdout",
       "text": [
        "correction figure is  -6.0  W\n",
        "wattmeter error is  -5.0  %\n"
       ]
      }
     ],
     "prompt_number": 7
    }
   ],
   "metadata": {}
  }
 ]
}