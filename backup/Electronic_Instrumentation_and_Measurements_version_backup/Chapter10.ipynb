{
 "metadata": {
  "name": "",
  "signature": "sha256:c81ea1dd6c9cc1e2e41ac05c3336a82a69ef851ca3e89f18fcee6fcbfb433811"
 },
 "nbformat": 3,
 "nbformat_minor": 0,
 "worksheets": [
  {
   "cells": [
    {
     "cell_type": "heading",
     "level": 1,
     "metadata": {},
     "source": [
      "Chapter10 - Special Oscilloscopes"
     ]
    },
    {
     "cell_type": "heading",
     "level": 2,
     "metadata": {},
     "source": [
      "Example 10.11.1 - page10-18"
     ]
    },
    {
     "cell_type": "code",
     "collapsed": false,
     "input": [
      "# sampling rate\n",
      "#Given data :\n",
      "N=10.0 #number of cycles\n",
      "f1=1*10**3 #in Hz\n",
      "f2=100*10**3 # in Hz\n",
      "sampling_period1=N/f1 # in seconds\n",
      "sampling_frequency1=1/sampling_period1 # in Hz\n",
      "print \"sampling frequency of 1 kHz signal is \", sampling_frequency1, \" samples/second\"\n",
      "sampling_period2=N/f2 # in seconds\n",
      "sampling_frequency2=1/sampling_period2 # in Hz\n",
      "print \"sampling frequency of 100 kHz signal is \", sampling_frequency2,\" samples/second\""
     ],
     "language": "python",
     "metadata": {},
     "outputs": [
      {
       "output_type": "stream",
       "stream": "stdout",
       "text": [
        "sampling frequency of 1 kHz signal is  100.0  samples/second\n",
        "sampling frequency of 100 kHz signal is  10000.0  samples/second\n"
       ]
      }
     ],
     "prompt_number": 5
    },
    {
     "cell_type": "heading",
     "level": 2,
     "metadata": {},
     "source": [
      "Example10.13.1 - page10-22"
     ]
    },
    {
     "cell_type": "code",
     "collapsed": false,
     "input": [
      "# sampling rate\n",
      "#Given data :\n",
      "N=10.0 #number of cycles\n",
      "f=1*10**3 #in Hz\n",
      "sampling_period=N/f # in seconds\n",
      "sampling_rate=1/sampling_period # in Hz\n",
      "print \"sampling rate is \",sampling_rate,\" samples/second\""
     ],
     "language": "python",
     "metadata": {},
     "outputs": [
      {
       "output_type": "stream",
       "stream": "stdout",
       "text": [
        "sampling rate is  100.0  samples/second\n"
       ]
      }
     ],
     "prompt_number": 4
    }
   ],
   "metadata": {}
  }
 ]
}