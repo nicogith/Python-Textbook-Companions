{
 "metadata": {
  "name": "",
  "signature": "sha256:55d62edc09823ce69cb883c8ec8f5b8abe049583981245da7e91d5fefcb128cb"
 },
 "nbformat": 3,
 "nbformat_minor": 0,
 "worksheets": [
  {
   "cells": [
    {
     "cell_type": "heading",
     "level": 1,
     "metadata": {},
     "source": [
      "Chapter9 - Cathode Ray Oscilloscope"
     ]
    },
    {
     "cell_type": "heading",
     "level": 2,
     "metadata": {},
     "source": [
      "Example 9.14.1 - page : 9-45"
     ]
    },
    {
     "cell_type": "code",
     "collapsed": false,
     "input": [
      "# peak to peak voltage and rms voltage\n",
      "vdv=1 # V/div\n",
      "n=6.8 #no. of divisions\n",
      "Vpp=vdv*n #peak to peak voltage in V\n",
      "vrms=Vpp/(2*(2)**(1.0/2)) #rms voltage in V\n",
      "print \"Peak to peak voltage is \",Vpp,\" V\"\n",
      "print \"rms voltage is \",round(vrms,4),\" V\""
     ],
     "language": "python",
     "metadata": {},
     "outputs": [
      {
       "output_type": "stream",
       "stream": "stdout",
       "text": [
        "Peak to peak voltage is  6.8  V\n",
        "rms voltage is  2.4042  V\n"
       ]
      }
     ],
     "prompt_number": 3
    },
    {
     "cell_type": "heading",
     "level": 2,
     "metadata": {},
     "source": [
      "Example 9.14.2 - page : 9-46"
     ]
    },
    {
     "cell_type": "code",
     "collapsed": false,
     "input": [
      "#Time interval\n",
      "vdv=2 # V per division in micro seconds/div\n",
      "n=2 #no. of divisions\n",
      "Tint=vdv*n #peak to peak voltage in V\n",
      "print \"Time interval is \",Tint,\" micro seconds\""
     ],
     "language": "python",
     "metadata": {},
     "outputs": [
      {
       "output_type": "stream",
       "stream": "stdout",
       "text": [
        "Time interval is  4  micro seconds\n"
       ]
      }
     ],
     "prompt_number": 4
    },
    {
     "cell_type": "heading",
     "level": 2,
     "metadata": {},
     "source": [
      "Example 9.14.3 - page : 9-46"
     ]
    },
    {
     "cell_type": "code",
     "collapsed": false,
     "input": [
      "# period and frequency\n",
      "vdv=2 #volts per division in micro seconds/div\n",
      "n=12 #no. of divisions\n",
      "Tp=vdv*n # period in micro seconds\n",
      "f=1/(Tp*10**-3) #frequency in kHz\n",
      "print \"Period is \",Tp,\" micro seconds\"\n",
      "print \"Frequency is \",round(f,2),\" kHz\""
     ],
     "language": "python",
     "metadata": {},
     "outputs": [
      {
       "output_type": "stream",
       "stream": "stdout",
       "text": [
        "Period is  24  micro seconds\n",
        "Frequency is  41.67  kHz\n"
       ]
      }
     ],
     "prompt_number": 6
    },
    {
     "cell_type": "heading",
     "level": 2,
     "metadata": {},
     "source": [
      "Example 9.14.4 - page : 9-47"
     ]
    },
    {
     "cell_type": "code",
     "collapsed": false,
     "input": [
      "#Peak to peak voltage and frequency\n",
      "vdv1=0.5 #volts per division in V/div\n",
      "nv=3 #no. of divisions\n",
      "nh=4 #numbers of horizontal divisions\n",
      "Vpp=vdv1*nv #peak to peak voltage in V\n",
      "vdv2=2 # time division in micro seconds per divisions\n",
      "Tp=vdv2*nh # period in micro seconds\n",
      "f=1/(Tp*10**-3) #frequency in kHz\n",
      "print \"Peak to peak voltage is \",Vpp,\" V\"\n",
      "print \"Period is \",Tp,\" micro seconds\"\n",
      "print \"Frequency is \",f,\" kHz\""
     ],
     "language": "python",
     "metadata": {},
     "outputs": [
      {
       "output_type": "stream",
       "stream": "stdout",
       "text": [
        "Peak to peak voltage is  1.5  V\n",
        "Period is  8  micro seconds\n",
        "Frequency is  125.0  kHz\n"
       ]
      }
     ],
     "prompt_number": 7
    },
    {
     "cell_type": "heading",
     "level": 2,
     "metadata": {},
     "source": [
      "Example 9.17.1 - page : 9-67"
     ]
    },
    {
     "cell_type": "code",
     "collapsed": false,
     "input": [
      "#bandwidth\n",
      "#given data :\n",
      "Trs=12 #in micro sec\n",
      "Trd=15 #in micro sec\n",
      "Tro=(Trd**2-Trs**2)**(1.0/2) \n",
      "K=0.35 # constant\n",
      "BW=(K/Tro)*10**3 \n",
      "print \"Bandwidth, BW =\",round(BW,2), \" kHz\""
     ],
     "language": "python",
     "metadata": {},
     "outputs": [
      {
       "output_type": "stream",
       "stream": "stdout",
       "text": [
        "Bandwidth, BW = 38.89  kHz\n"
       ]
      }
     ],
     "prompt_number": 9
    },
    {
     "cell_type": "heading",
     "level": 2,
     "metadata": {},
     "source": [
      "Example 9.17.2 - page : 9-68"
     ]
    },
    {
     "cell_type": "code",
     "collapsed": false,
     "input": [
      "#Rise time\n",
      "#given data :\n",
      "BW=10*10**6 # in Hz\n",
      "tr=(0.35/BW)*10**9 \n",
      "print \"Rise time, tr = \",tr, \" ns\""
     ],
     "language": "python",
     "metadata": {},
     "outputs": [
      {
       "output_type": "stream",
       "stream": "stdout",
       "text": [
        "Rise time, tr =  35.0  ns\n"
       ]
      }
     ],
     "prompt_number": 10
    },
    {
     "cell_type": "heading",
     "level": 2,
     "metadata": {},
     "source": [
      "Example 9.17.3 - page : 9-68"
     ]
    },
    {
     "cell_type": "code",
     "collapsed": false,
     "input": [
      "# rise time\n",
      "#given data :\n",
      "Tro=10 #in micro sec\n",
      "Trd=13 #in micro sec\n",
      "Trs=(Trd**2-Tro**2)**(1.0/2) \n",
      "print \"Actual rise time, Trs = \",round(Trs,2),\" ns\""
     ],
     "language": "python",
     "metadata": {},
     "outputs": [
      {
       "output_type": "stream",
       "stream": "stdout",
       "text": [
        "Actual rise time, Trs =  8.31  ns\n"
       ]
      }
     ],
     "prompt_number": 12
    },
    {
     "cell_type": "heading",
     "level": 2,
     "metadata": {},
     "source": [
      "Example 9.17.4 - page : 9-68"
     ]
    },
    {
     "cell_type": "code",
     "collapsed": false,
     "input": [
      "# Rise time\n",
      "#given data :\n",
      "Tro=10 #in micro sec\n",
      "Trd=15 #in micro sec\n",
      "Trs=(Trd**2-Tro**2)**(1.0/2)\n",
      "print \"Actual rise time, Trs = \",round(Trs,2),\" ns\""
     ],
     "language": "python",
     "metadata": {},
     "outputs": [
      {
       "output_type": "stream",
       "stream": "stdout",
       "text": [
        "Actual rise time, Trs =  11.18  ns\n"
       ]
      }
     ],
     "prompt_number": 14
    },
    {
     "cell_type": "heading",
     "level": 2,
     "metadata": {},
     "source": [
      "Example 9.17.5 - page : 9-68"
     ]
    },
    {
     "cell_type": "code",
     "collapsed": false,
     "input": [
      "# Rise time\n",
      "#given data :\n",
      "Trs=12 #in micro sec\n",
      "Trd=30 #in micro sec\n",
      "BW=20*10**6 # in Hz\n",
      "K=0.35 # constant\n",
      "Tro=(K/BW)*10**9 \n",
      "Trs=(Trd**2-Tro**2)**(1.0/2)\n",
      "print \"Actual rise time, Trs = \",round(Trs,2),\" ns\""
     ],
     "language": "python",
     "metadata": {},
     "outputs": [
      {
       "output_type": "stream",
       "stream": "stdout",
       "text": [
        "Actual rise time, Trs =  24.37  ns\n"
       ]
      }
     ],
     "prompt_number": 16
    },
    {
     "cell_type": "heading",
     "level": 2,
     "metadata": {},
     "source": [
      "Example 9.17.6 - page : 9-69"
     ]
    },
    {
     "cell_type": "code",
     "collapsed": false,
     "input": [
      "# capacitance\n",
      "#given data :\n",
      "K=10 # constant\n",
      "C2=35*10**-12 \n",
      "C1=(C2/(K-1))*10**12 \n",
      "print \"Capacitance, C1 = \",round(C1,2),\" pF\""
     ],
     "language": "python",
     "metadata": {},
     "outputs": [
      {
       "output_type": "stream",
       "stream": "stdout",
       "text": [
        "Capacitance, C1 =  3.89  pF\n"
       ]
      }
     ],
     "prompt_number": 18
    },
    {
     "cell_type": "heading",
     "level": 2,
     "metadata": {},
     "source": [
      "Example 9.17.7 - page : 9-69"
     ]
    },
    {
     "cell_type": "code",
     "collapsed": false,
     "input": [
      "# impedance of CRO\n",
      "K=10 \n",
      "vin=1 #vpp \n",
      "vout=0.1 #in vpp\n",
      "c1=2 # in pF\n",
      "c2=c1*(K-1) #CAPACITANCE IN Pf\n",
      "print \"Capacitance is \",c2,\" pF\""
     ],
     "language": "python",
     "metadata": {},
     "outputs": [
      {
       "output_type": "stream",
       "stream": "stdout",
       "text": [
        "Capacitance is  18  pF\n"
       ]
      }
     ],
     "prompt_number": 19
    },
    {
     "cell_type": "heading",
     "level": 2,
     "metadata": {},
     "source": [
      "Example 9.17.8 - page : 9-70"
     ]
    },
    {
     "cell_type": "code",
     "collapsed": false,
     "input": [
      "# sensivity\n",
      "n=2 #divisions\n",
      "f=50.0 #in MHz\n",
      "t=(1/f)*10**3 #time in nanao seconds\n",
      "mdv=t/4 #in ns/div\n",
      "mtds=mdv*n # in ns/div\n",
      "print \"Minimum time/div is \",mdv,\" ns/div\"\n",
      "print \"Minimum time/div setting is \",mtds,\" ns/div\""
     ],
     "language": "python",
     "metadata": {},
     "outputs": [
      {
       "output_type": "stream",
       "stream": "stdout",
       "text": [
        "Minimum time/div is  5.0  ns/div\n",
        "Minimum time/div setting is  10.0  ns/div\n"
       ]
      }
     ],
     "prompt_number": 21
    },
    {
     "cell_type": "heading",
     "level": 2,
     "metadata": {},
     "source": [
      "Example 9.17.9 - page : 9-70"
     ]
    },
    {
     "cell_type": "code",
     "collapsed": false,
     "input": [
      "\n",
      "# rise time\n",
      "#given data :\n",
      "Trs=21 #in micro-sec\n",
      "K=0.35 # constant\n",
      "BW=50*10**6 # in Hz\n",
      "Tro=(K/BW)*10**9 \n",
      "Trd=(Trs**2+Tro**2)**(1.0/2)\n",
      "print \"Rise time, Tro = \",round(Trd,0),\" ns\""
     ],
     "language": "python",
     "metadata": {},
     "outputs": [
      {
       "output_type": "stream",
       "stream": "stdout",
       "text": [
        "Rise time, Tro =  22.0  ns\n"
       ]
      }
     ],
     "prompt_number": 24
    }
   ],
   "metadata": {}
  }
 ]
}