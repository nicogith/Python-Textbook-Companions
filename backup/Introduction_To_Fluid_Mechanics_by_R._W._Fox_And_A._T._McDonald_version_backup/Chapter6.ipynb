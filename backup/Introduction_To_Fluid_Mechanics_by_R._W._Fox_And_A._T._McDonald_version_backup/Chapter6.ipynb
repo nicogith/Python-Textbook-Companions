{
 "metadata": {
  "name": "",
  "signature": "sha256:5737ff12d4ed0bdd422df21787d32df0296a8a5c9c547863b5945ca4f44eb3a7"
 },
 "nbformat": 3,
 "nbformat_minor": 0,
 "worksheets": [
  {
   "cells": [
    {
     "cell_type": "heading",
     "level": 1,
     "metadata": {},
     "source": [
      "Chapter6-Incompressible Inviscid Flow"
     ]
    },
    {
     "cell_type": "heading",
     "level": 2,
     "metadata": {},
     "source": [
      "Ex1-pg236"
     ]
    },
    {
     "cell_type": "code",
     "collapsed": false,
     "input": [
      "import math\n",
      "#calculate volume flow rate \n",
      "##Depth of the duct(in m):\n",
      "d=0.3;\n",
      "##Width of the duct(in m):\n",
      "w=0.1;\n",
      "##Inner radius of the bend(in m):\n",
      "r=0.25;\n",
      "##Pressure difference between the taps(in mm of Hg):\n",
      "p=40.;\n",
      "##Density of water(in kg/m**3):\n",
      "dw=999.;\n",
      "##Acceleration due to gravity(in m/sec**2):\n",
      "g=9.8;\n",
      "##Density of air(in kg/m**3):\n",
      "da=1.23;\n",
      "\n",
      "##Volume flow rate##\n",
      "##Velocity of flow(in m/sec):\n",
      "V=math.sqrt(dw/math.log((r+w)/r)*g/da*p/1000.)\n",
      "##Volume flow rate(in m**3/sec):\n",
      "Q=V*(d*w)\n",
      "print(\"RESULTS\")\n",
      "print'%s %.2f %s'%(\"Volume flow rate: \",Q,\" m^3/sec\")\n"
     ],
     "language": "python",
     "metadata": {},
     "outputs": [
      {
       "output_type": "stream",
       "stream": "stdout",
       "text": [
        "RESULTS\n",
        "Volume flow rate:  0.92  m^3/sec\n"
       ]
      }
     ],
     "prompt_number": 4
    },
    {
     "cell_type": "heading",
     "level": 2,
     "metadata": {},
     "source": [
      "Ex2-pg242"
     ]
    },
    {
     "cell_type": "code",
     "collapsed": false,
     "input": [
      "import math\n",
      "#calculate Velocity of flow\n",
      "##Pressure diference(in mm of mecury):\n",
      "p=30.;\n",
      "##Density of water(in kg/m**3):\n",
      "dw=1000.;\n",
      "##Aceleration due to gravity(in m/sec**2):\n",
      "g=9.81;\n",
      "##Density of air(in kg/m**3):\n",
      "da=1.23;\n",
      "##Specific gravity of mercury:\n",
      "SG=13.6;\n",
      "##Velocity of flow##\n",
      "##Velocity of flow(in m/sec):\n",
      "V=math.sqrt(2.*dw*g*p/1000.*SG/da)\n",
      "print(\"RESULTS\")\n",
      "print'%s %.2f %s'%(\"Velocity of flow: \",V,\" m/sec\")\n"
     ],
     "language": "python",
     "metadata": {},
     "outputs": [
      {
       "output_type": "stream",
       "stream": "stdout",
       "text": [
        "RESULTS\n",
        "Velocity of flow:  80.67  m/sec\n"
       ]
      }
     ],
     "prompt_number": 5
    },
    {
     "cell_type": "heading",
     "level": 2,
     "metadata": {},
     "source": [
      "Ex3-pg243"
     ]
    },
    {
     "cell_type": "code",
     "collapsed": false,
     "input": [
      "##Area of nozzle at input(in m**2):\n",
      "#calculate Gauge prssure required at the inlet\n",
      "Ai=0.1;\n",
      "##Area of nozzle at exit(in m**2):\n",
      "Ae=0.02;\n",
      "##Outlet velocity of flow(in m/sec):\n",
      "V2=50;\n",
      "##Density of air(in kg/m**3):\n",
      "da=1.23;\n",
      "##prssure required##\n",
      "#Velocity of flwat the inlet(in m/sec):\n",
      "V1=Ae/Ai*V2\n",
      "##Gauge pressure required at the inlet(in kPa):\n",
      "p=0.5*da*(V2**2.-V1**2.)\n",
      "print(\"RESULTS\")\n",
      "print'%s %.2f %s'%(\"Gauge prssure required at the inlet: \",p/1000,\" kPa\")\n"
     ],
     "language": "python",
     "metadata": {},
     "outputs": [
      {
       "output_type": "stream",
       "stream": "stdout",
       "text": [
        "RESULTS\n",
        "Gauge prssure required at the inlet:  1.48  kPa\n"
       ]
      }
     ],
     "prompt_number": 6
    },
    {
     "cell_type": "heading",
     "level": 2,
     "metadata": {},
     "source": [
      "Ex4-pg244"
     ]
    },
    {
     "cell_type": "code",
     "collapsed": false,
     "input": [
      "#calculate Speed of water at exit:  and Pressure at point A in the flow\n",
      "import math\n",
      "##Length of tube above surface(in m):\n",
      "l=1.;\n",
      "##Depth of exit below water surface(in m):\n",
      "z=7.;\n",
      "##Acceleration due to gravity(in m/sec**2):\n",
      "g=9.81;\n",
      "##Density of water(in kg/m**3):\n",
      "d=999.;\n",
      "##Atmospheric pressure(in N/m**2):\n",
      "p1=1.01*10**5;\n",
      "\n",
      "\n",
      "##Speed and pressure##\n",
      "##Speed of water at exit(in m/sec):\n",
      "V2=math.sqrt(2.*g*z)\n",
      "##Pressure at point A in the flow(kPa):\n",
      "pA=p1+d*g*(0.-l)-0.5*d*V2**2.\n",
      "print(\"RESULTS\")\n",
      "print'%s %.2f %s'%(\"Speed of water at exit: \",V2,\" m/sec\")\n",
      "print'%s %.2f %s'%(\"Pressure at point A in the flow: \",pA/1000,\" kPa\")\n"
     ],
     "language": "python",
     "metadata": {},
     "outputs": [
      {
       "output_type": "stream",
       "stream": "stdout",
       "text": [
        "RESULTS\n",
        "Speed of water at exit:  11.72  m/sec\n",
        "Pressure at point A in the flow:  22.60  kPa\n"
       ]
      }
     ],
     "prompt_number": 7
    },
    {
     "cell_type": "heading",
     "level": 2,
     "metadata": {},
     "source": [
      "Ex5-pg246"
     ]
    },
    {
     "cell_type": "code",
     "collapsed": false,
     "input": [
      "import math\n",
      "#calculate Velocity of flow at the exit:  and Volume flow rate/width\n",
      "##Depth of water at the upstream(on feet):\n",
      "Du=1.5;\n",
      "##Depth of water at the vena contracta downstream from the gate(in inches):\n",
      "Dd=2.;\n",
      "##Acceleration due to gravity(in ft/sec**2):\n",
      "g=32.2;\n",
      "##flow##\n",
      "\n",
      "##Velocity of flow at the exit(in ft/sec):\n",
      "V2=math.sqrt(2.*g*(Du-Dd/12.))\n",
      "##Volume flow rate/width(ft**2/sec):\n",
      "Q=V2*Dd/12.\n",
      "print(\"RESULTS\")\n",
      "print'%s %.2f %s'%(\"Velocity of flow at the exit: \",V2,\" ft/sec\")\n",
      "print'%s %.2f %s'%(\"Volume flow rate/width: \",Q,\" ft^2/sec\")\n"
     ],
     "language": "python",
     "metadata": {},
     "outputs": [
      {
       "output_type": "stream",
       "stream": "stdout",
       "text": [
        "RESULTS\n",
        "Velocity of flow at the exit:  9.27  ft/sec\n",
        "Volume flow rate/width:  1.54  ft^2/sec\n"
       ]
      }
     ],
     "prompt_number": 9
    },
    {
     "cell_type": "heading",
     "level": 2,
     "metadata": {},
     "source": [
      "Ex6-pg247"
     ]
    },
    {
     "cell_type": "code",
     "collapsed": false,
     "input": [
      "##Speed of plane(in km/hr):\n",
      "#calculate Stagnation pressure at  Static pressure at B\n",
      "V=150.;\n",
      "##Speed at point B relative to the wing(in m/sec):\n",
      "Vb=60.;\n",
      "##Density of air(in kg/m**3):\n",
      "da=1.23;\n",
      "##Atmospheris pressure(in N/m**2):\n",
      "pa=1.01*10**5;\n",
      "##At 1000m, \n",
      "##p/pSL:\n",
      "P1=0.8870;\n",
      "##d/dSL:\n",
      "D1=0.9075;\n",
      "\n",
      "##pressure##\n",
      "##Pressure of air at 1000 m(in N/m**2):\n",
      "p=P1*pa\n",
      "##Density of air at 1000m(in kg/m**3):\n",
      "d=D1*da\n",
      "##Stagnation pressure at A(in kPa):\n",
      "p0A=p+0.5*d*(V*1000./3600.)**2.\n",
      "##Static pressure at B(in kPa):\n",
      "pB=p+d/2.*((V*1000./3600.)**2.-Vb**2.)\n",
      "print(\"RESULTS\")\n",
      "print'%s %.2f %s'%(\"Stagnation pressure at A:\",p0A/1000,\" kPa\")\n",
      "print'%s %.2f %s'%(\"Static pressure at B: \",pB/1000,\" kPa\")\n",
      "\n"
     ],
     "language": "python",
     "metadata": {},
     "outputs": [
      {
       "output_type": "stream",
       "stream": "stdout",
       "text": [
        "RESULTS\n",
        "Stagnation pressure at A: 90.56  kPa\n",
        "Static pressure at B:  88.55  kPa\n"
       ]
      }
     ],
     "prompt_number": 10
    },
    {
     "cell_type": "heading",
     "level": 2,
     "metadata": {},
     "source": [
      "Ex8-pg253"
     ]
    },
    {
     "cell_type": "code",
     "collapsed": false,
     "input": [
      "import math\n",
      "#calculate Rise in temperature between points 1 and 2 and Streamline flow from 1 to 2 \n",
      "##Area of cross section of the nozzle(in in**2):\n",
      "A4=0.864;\n",
      "##Capacity of heater(in kW):\n",
      "Q=10.\n",
      "##Acceleration due to gravity(in ft/sec**2):\n",
      "g=32.2;\n",
      "##Water level in reservoir above datum line(in ft):\n",
      "z3=10.;\n",
      "##Density of water(In slug/ft**3):\n",
      "d=1.94;\n",
      "##temperature##\n",
      "##Velocity of flow at exit(in ft/sec):\n",
      "V4=math.sqrt(2.*g*(z3-0.))\n",
      "##Mass flow rate of water(in slug/sec):\n",
      "m=d*V4*A4/144.\n",
      "##Rise in temperature between points 1 and 2(in R):\n",
      "T=Q*3413./3600./m/32.2\n",
      "print(\"RESULTS\")\n",
      "print'%s %.2f %s'%(\"Rise in temperature between points 1 and 2: \",T,\" R\")\n",
      "#due to rounding off error we are getting aporximately\n",
      "\n",
      "\n",
      "\n",
      "\n",
      "##Depth to which water is filled(in m):\n",
      "import math\n",
      "%matplotlib inline\n",
      "\n",
      "import warnings\n",
      "warnings.filterwarnings('ignore')\n",
      "\n",
      "import numpy\n",
      "h=3;\n",
      "##Length of pipe(in m):\n",
      "L=6;\n",
      "##Diameter of pipe (in mm):\n",
      "D=150;\n",
      "##Acceleration due to gravity(in m/sec**2):\n",
      "g=9.81;\n",
      "##Streamline flow##\n",
      "\n",
      "t=numpy.linspace(0,5,num=6)\n",
      "n=len(t)\n",
      "V2=numpy.zeros(n)\n",
      "##Value of sqrt(2gh):\n",
      "x=math.sqrt(2.*g*h)\n",
      "##Value of 1/2L*sqrt(2gh):\n",
      "y=1/2./L*x\n",
      "\n",
      "\n",
      "    \n",
      "i=numpy.linspace(1,n,num=n)\n",
      "\n",
      "j=len(i)\n",
      "print(j)\n",
      "V2=numpy.zeros(j)\n",
      "for j in range (0,6):\n",
      "    V2[j]=x*math.tanh(y*t[j]) \n",
      "\n",
      "##Velocity(in m/sec):\n",
      "\n",
      "pyplot.plot(t,V2);\n",
      "pyplot.title('Streamline flow from 1 to 2')\n"
     ],
     "language": "python",
     "metadata": {},
     "outputs": [
      {
       "output_type": "stream",
       "stream": "stdout",
       "text": [
        "RESULTS\n",
        "Rise in temperature between points 1 and 2:  1.00  R\n",
        "6\n"
       ]
      },
      {
       "metadata": {},
       "output_type": "pyout",
       "prompt_number": 17,
       "text": [
        "<matplotlib.text.Text at 0x7d36730>"
       ]
      },
      {
       "metadata": {},
       "output_type": "display_data",
       "png": "[encoded data removed]",
       "text": [
        "<matplotlib.figure.Figure at 0x78fa7f0>"
       ]
      }
     ],
     "prompt_number": 17
    }
   ],
   "metadata": {}
  }
 ]
}