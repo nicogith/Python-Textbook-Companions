{
 "metadata": {
  "name": "",
  "signature": "sha256:aa24ed5992075d64c2d8c1ddbc18f0dd70608a81293b36a3e66f69c08a24dedb"
 },
 "nbformat": 3,
 "nbformat_minor": 0,
 "worksheets": [
  {
   "cells": [
    {
     "cell_type": "heading",
     "level": 1,
     "metadata": {},
     "source": [
      "Chapter8- Internal Incompressible Viscous Flow"
     ]
    },
    {
     "cell_type": "heading",
     "level": 2,
     "metadata": {},
     "source": [
      "Ex1-pg317"
     ]
    },
    {
     "cell_type": "code",
     "collapsed": false,
     "input": [
      "import math\n",
      "##Operation pressure of hydraulic system(in kPa):\n",
      "p1=20000.;\n",
      "##Operation temperature of hydraulic system(in C):\n",
      "T=55.;\n",
      "##Piston diameter(in mm):\n",
      "D=25.;\n",
      "##Viscosity of SAE 10W at 55C(in kg/(m-s):\n",
      "u=0.018;\n",
      "##Mean radial clearance of a cylinder(in mm):\n",
      "a=0.005;\n",
      "##Gauge pressure on lower pressure side of piston(in kPa):\n",
      "p2=1000.;\n",
      "##Lenth of piston(in mm):\n",
      "L=15.;\n",
      "##Denity of water(in kg/m^3):\n",
      "dw=1000.;##Leakage flow rate##\n",
      "\n",
      "##Leakage flow rate (in mm^3/sec):\n",
      "Q=math.pi/12.*D*a**3.*(p1-p2)*10**3/u/L\n",
      "##Velocity of flow(in m/sec):\n",
      "V=Q/math.pi/D/a/1000.\n",
      "##Specific gravity of SAE 10W oil:\n",
      "SG=0.92;\n",
      "##Reynolds Number:\n",
      "Re=SG*dw*V*a/u/1000.\n",
      "##As Re<1400, flow is laminar.\n",
      "print(\"RESULTS\")\n",
      "print'%s %.2f %s'%(\"Leakage flow rate: \",Q,\" mm^3/sec\")\n"
     ],
     "language": "python",
     "metadata": {},
     "outputs": [
      {
       "output_type": "stream",
       "stream": "stdout",
       "text": [
        "RESULTS\n",
        "Leakage flow rate:  57.57  mm^3/sec\n"
       ]
      }
     ],
     "prompt_number": 1
    },
    {
     "cell_type": "heading",
     "level": 2,
     "metadata": {},
     "source": [
      "Ex2-pg320"
     ]
    },
    {
     "cell_type": "code",
     "collapsed": false,
     "input": [
      "import math\n",
      "##temperature fo operation(in F):\n",
      "T=210.;\n",
      "##Diameter of te bearing(in inches):\n",
      "D=3.;\n",
      "##Diametral clearance(in inches):\n",
      "a=0.0025;\n",
      "##Length of shaft(in inhes):\n",
      "L=1.25;\n",
      "##Speed of rotation of the shaft(in rpm):\n",
      "N=3600.;\n",
      "##Viscosity of the oil(in lbf-s/ft^2):\n",
      "u=2.01*10**-4.;\n",
      "##Specific gravity of SAE 10W:\n",
      "SG=0.92;\n",
      "##Density of water (in slug/ft^3)\n",
      "p=1.94;##Torque and power##xec(filename)\n",
      "##Shear stres .in lbf/ft^2):\n",
      "Tyx=u*N*2.*math.pi/60.*D/2./(a/2.)\n",
      "##Torqe(in inches-lbf):\n",
      "T=math.pi/2.*Tyx*D**2.*L/144.\n",
      "##Power dissipated in the bearing(in hp):\n",
      "P=T*N/60.*2.*math.pi/12./550.\n",
      "##Reynolds number:\n",
      "Re=SG*p*N*2.*math.pi/60.*1.5*a/2./u/144.\n",
      "print(\"RESULTS\")\n",
      "print'%s %.2f %s'%(\"Torque: \",T,\" inches-lbf\")\n",
      "print'%s %.2f %s'%(\"Power dissipated in the bearing: \",P,\" hp\")\n"
     ],
     "language": "python",
     "metadata": {},
     "outputs": [
      {
       "output_type": "stream",
       "stream": "stdout",
       "text": [
        "RESULTS\n",
        "Torque:  11.16  inches-lbf\n",
        "Power dissipated in the bearing:  0.64  hp\n"
       ]
      }
     ],
     "prompt_number": 2
    },
    {
     "cell_type": "heading",
     "level": 2,
     "metadata": {},
     "source": [
      "Ex4-pg328"
     ]
    },
    {
     "cell_type": "code",
     "collapsed": false,
     "input": [
      "import math\n",
      "##Flow rate through capilarry viscometer(in mm^3/sec):\n",
      "Q=880.;\n",
      "##Tube length(in m):\n",
      "L=1.;\n",
      "##Tube diameter(in mm):\n",
      "D=0.5;\n",
      "##Pressure drop(in kPa):\n",
      "p=1000.;\n",
      "##Density of oil(in kg/m^3):\n",
      "d=999.;\n",
      "##Viscosity of fluid##\n",
      "#Viscosity of the liquid(in N-s/m^2):\n",
      "u=math.pi/128.*p*1000.*D**4./Q/L/1000.\n",
      "##Velocity(in m/sec)\n",
      "V=Q/(math.pi/4.*D**2.)/1000.\n",
      "##Reynolds number:\n",
      "Re=d*V*D/u/1000.\n",
      "print(\"RESULTS\")\n",
      "print'%s %.4f %s'%(\"Viscosity of fluid \",u,\" N-s/m^2\")\n"
     ],
     "language": "python",
     "metadata": {},
     "outputs": [
      {
       "output_type": "stream",
       "stream": "stdout",
       "text": [
        "RESULTS\n",
        "Viscosity of fluid  0.0017  N-s/m^2\n"
       ]
      }
     ],
     "prompt_number": 3
    },
    {
     "cell_type": "heading",
     "level": 2,
     "metadata": {},
     "source": [
      "Ex5-pg352"
     ]
    },
    {
     "cell_type": "code",
     "collapsed": false,
     "input": [
      "import math\n",
      "##Volme flow rate of water(in m**3/sec):\n",
      "Q=0.0084;\n",
      "##Length of horizontal pipe(in m):\n",
      "L=100.;\n",
      "##Diameter of pipe(in m):\n",
      "D=0.075;\n",
      "##Density of water(in kg/m**3):\n",
      "d=999.;\n",
      "##Friction factor:\n",
      "f=0.017;\n",
      "##Minor lossses coefficient:\n",
      "K=0.5;\n",
      "##Viscosity(in kg/m-s):\n",
      "u=10**-3.;\n",
      "##Acceleration due to gravity(in /sec**2):\n",
      "g=9.8;\n",
      "##required##\n",
      "\n",
      "##Reservoir depth required to maintain flow(in m):\n",
      "D1=8.*Q**2./(math.pi)**2./D**4./g*(f*L/D+K+1.)\n",
      "##Reynolds number:\n",
      "Re=4.*d*Q/((math.pi)*u*D)\n",
      "print(\"RESULTS\")\n",
      "print'%s %.2f %s'%(\"Reservoir depth required to maintain flow: \",D1+1.6,\" m\")\n"
     ],
     "language": "python",
     "metadata": {},
     "outputs": [
      {
       "output_type": "stream",
       "stream": "stdout",
       "text": [
        "RESULTS\n",
        "Reservoir depth required to maintain flow:  6.06  m\n"
       ]
      }
     ],
     "prompt_number": 5
    },
    {
     "cell_type": "heading",
     "level": 2,
     "metadata": {},
     "source": [
      "Ex6-pg353"
     ]
    },
    {
     "cell_type": "code",
     "collapsed": false,
     "input": [
      "import math\n",
      "##Flow rate of crude oil(in bbl):\n",
      "Q=1.6*10**6.;\n",
      "##Inside diamete of pipe(i inches):\n",
      "D=48.;\n",
      "##Maximum allowable pressure(in psi):\n",
      "p2=1200.;\n",
      "##Minimum pressure required to keep gases dissolves(in psi):\n",
      "p1=50.;\n",
      "##Specific gravity of crde oil:\n",
      "SG=0.93;\n",
      "##Viscosity at 140 F(in lbf-s/ft**2):\n",
      "u=3.5*10**-4.;\n",
      "##Efficincy of pump:\n",
      "Effp=0.85;\n",
      "##Density(in slug/ft**3):\n",
      "d=1.94;\n",
      "##Viscosity (in lbf-sec):\n",
      "u=3.5*10**-4.;\n",
      "##Friction factor:\n",
      "f=0.017;\n",
      "##Maximum and power##\n",
      "\n",
      "##Velocity of flow(in ft/sec):\n",
      "V=Q/24./3600./(math.pi/4.*(D/12.)**2.)*42./7.48\n",
      "##Maximum spacing(in ft):\n",
      "L=2./f*D/12.*(p2-p1)/(SG*d)/V**2.*144.\n",
      "##Power needed at each pump(in hp):\n",
      "Win=1./Effp*V*math.pi/4.*(D/12.)**2.*(p2-p1)/550.*144.\n",
      "print(\"RESULTS\")\n",
      "print'%s %.2f %s'%(\"Maximum spacing: \",L,\" feet\")\n",
      "print'%s %.2f %s'%(\"Power needed at each pump: \",Win,\" hp\")\n"
     ],
     "language": "python",
     "metadata": {},
     "outputs": [
      {
       "output_type": "stream",
       "stream": "stdout",
       "text": [
        "RESULTS\n",
        "Maximum spacing:  630853.59  feet\n",
        "Power needed at each pump:  36832.62  hp\n"
       ]
      }
     ],
     "prompt_number": 6
    },
    {
     "cell_type": "heading",
     "level": 2,
     "metadata": {},
     "source": [
      "Ex7-pg355"
     ]
    },
    {
     "cell_type": "code",
     "collapsed": false,
     "input": [
      "import math\n",
      "##Height of standpipe(in ft):\n",
      "l=80.;\n",
      "##Length of longest pipe(in ft):\n",
      "L=600.;\n",
      "##Diameter of pipe(in inches):\n",
      "D=4.;\n",
      "##Friction factor:\n",
      "f=0.031;\n",
      "##Acceleration due to gravityin ft/sec**2):\n",
      "g=32.2;\n",
      "##Volume low##\n",
      "\n",
      "##Velocity(in ft/sec):\n",
      "V2=math.sqrt(2.*g*l/(f*((L+l)/D*12.+8.)+1.))\n",
      "##Volume flow rate(in gpm):\n",
      "Q=V2*math.pi*(D/12.)**2./4.*7.48*60.\n",
      "print(\"RESULTS\")\n",
      "print'%s %.2f %s'%(\"Volume low rate: \",Q,\"\")\n"
     ],
     "language": "python",
     "metadata": {},
     "outputs": [
      {
       "output_type": "stream",
       "stream": "stdout",
       "text": [
        "RESULTS\n",
        "Volume low rate:  350.07 \n"
       ]
      }
     ],
     "prompt_number": 7
    },
    {
     "cell_type": "heading",
     "level": 2,
     "metadata": {},
     "source": [
      "Ex8-pg357"
     ]
    },
    {
     "cell_type": "code",
     "collapsed": false,
     "input": [
      "import math\n",
      "##Length of copper wire(in ft):\n",
      "L=10.;\n",
      "##Inner diameer of pipe(in inches):\n",
      "D=1.5;\n",
      "##Dischare(in ft**3/sec):\n",
      "Q=0.566;\n",
      "##Level of reservoir above pipe centreline(inn feet):\n",
      "h=85.1;\n",
      "##Kinematic viscosity at 70 F(in ft**2/s):\n",
      "v=1.05*10**-5.;\n",
      "##Acceleration due to gravity(in ft/sec**2):\n",
      "g=32.2;\n",
      "##Loss Coefficient##\n",
      "##Average velocity (in ft/s):\n",
      "V2=4./math.pi*Q/D**2.*144.\n",
      "##Reynolds number:\n",
      "Re=V2*D/v/12.\n",
      "##For this value,\n",
      "f=0.013;\n",
      "##Power law exponent:\n",
      "n=-1.7+1.8*math.log10(Re)\n",
      "##Value of V/U:\n",
      "v_u=2.*n**2./(n+1.)/(2.*n+1.)\n",
      "##Value of alpha:\n",
      "alpha=(1./v_u)**3.*2.*n**2./(3.+n)/(3.+2.*n)\n",
      "##Loss Coefficient for a square edged entrance:\n",
      "K=2.*g*h/V2**2.-f*L/D*12.-alpha;\n",
      "print(\"RESULTS\")\n",
      "print'%s %.2f %s'%(\"Loss Coefficient for a square edged entrance: \",K,\" \")\n"
     ],
     "language": "python",
     "metadata": {},
     "outputs": [
      {
       "output_type": "stream",
       "stream": "stdout",
       "text": [
        "RESULTS\n",
        "Loss Coefficient for a square edged entrance:  0.50  \n"
       ]
      }
     ],
     "prompt_number": 8
    },
    {
     "cell_type": "heading",
     "level": 2,
     "metadata": {},
     "source": [
      "Ex9-pg359"
     ]
    },
    {
     "cell_type": "code",
     "collapsed": false,
     "input": [
      "import math\n",
      "##Length of copper wire(in ft):\n",
      "L=10.;\n",
      "##Inner diameer of pipe(in inches):\n",
      "D=1.5;\n",
      "##Dischare(in ft**3/sec):\n",
      "Q=0.566;\n",
      "##Level of reservoir above pipe centreline(inn feet):\n",
      "h=85.1;\n",
      "##Kinematic viscosity at 70 F(in ft**2/s):\n",
      "v=1.05*10**-5;\n",
      "##Acceleration due to gravity(in ft/sec**2):\n",
      "g=32.2;\n",
      "##Loss Coefficient##\n",
      "#Average velocity (in ft/s):\n",
      "V2=4./math.pi*Q/D**2*144.\n",
      "##Reynolds number:\n",
      "Re=V2*D/v/12.\n",
      "##For this value,\n",
      "f=0.013;\n",
      "##Power law exponent:\n",
      "n=-1.7+1.8*math.log10(Re)\n",
      "##Value of V/U:\n",
      "v_u=2.*n**2./(n+1.)/(2.*n+1)\n",
      "##Value of alpha:\n",
      "alpha=(1./v_u)**3.*2.*n**2./(3.+n)/(3.+2.*n)\n",
      "##Loss Coefficient for a square edged entrance:\n",
      "K=2.*g*h/V2**2.-f*L/D*12.-alpha;\n",
      "print(\"RESULTS\")\n",
      "print'%s %.2f %s'%(\"Loss Coefficient for a square edged entrance: \",K,\" \")\n"
     ],
     "language": "python",
     "metadata": {},
     "outputs": [
      {
       "output_type": "stream",
       "stream": "stdout",
       "text": [
        "RESULTS\n",
        "Loss Coefficient for a square edged entrance:  0.50  \n"
       ]
      }
     ],
     "prompt_number": 9
    },
    {
     "cell_type": "heading",
     "level": 2,
     "metadata": {},
     "source": [
      "Ex10-pg362"
     ]
    },
    {
     "cell_type": "code",
     "collapsed": false,
     "input": [
      "import math\n",
      "##Nozzle exit diameter(in mm):\n",
      "D=25.;\n",
      "##N/R1 value value:\n",
      "N_R=3.;\n",
      "##AR value:\n",
      "A_R=2.;\n",
      "##Static head available from the main(in m):\n",
      "z0=1.5;\n",
      "##Acceleration due to gravity(in m/sec**2):\n",
      "g=9.8;\n",
      "##Value of Cp:\n",
      "Cp=0.45;\n",
      "##Volume and increase##\n",
      "\n",
      "##Velocity V1(in m/s):\n",
      "V1=math.sqrt(2.*g*z0/1.04)\n",
      "##Volume flow rate(in m**3/sec):\n",
      "Q=V1*math.pi*D**2./4.\n",
      "Kdiff=1.-1./A_R**2.-Cp\n",
      "##For 2nd case:\n",
      "##Velocity(in m/s):\n",
      "V1=math.sqrt(2.*g*z0/0.59)\n",
      "##Volume flow rate(in m**3/s):\n",
      "Qd=V1*math.pi*D**2./4.\n",
      "##Increase in discharge after addition of diffuser is:\n",
      "dQ=(Qd-Q)/Q*100.\n",
      "print(\"RESULTS\")\n",
      "print'%s %.2f %s'%(\"Volume flow rate in case1: \",Q,\" m^3/sec\")\n",
      "print'%s %.2f %s'%(\"Volume flow rate in case 2: \",Qd,\" m^3/sec\")\n",
      "print'%s %.2f %s'%(\"Increase in discharge after addition of diffuser is: \",dQ,\" percent\")\n"
     ],
     "language": "python",
     "metadata": {},
     "outputs": [
      {
       "output_type": "stream",
       "stream": "stdout",
       "text": [
        "RESULTS\n",
        "Volume flow rate in case1:  2609.92  m^3/sec\n",
        "Volume flow rate in case 2:  3465.11  m^3/sec\n",
        "Increase in discharge after addition of diffuser is:  32.77  percent\n"
       ]
      }
     ],
     "prompt_number": 2
    },
    {
     "cell_type": "heading",
     "level": 2,
     "metadata": {},
     "source": [
      "Ex11-pg366"
     ]
    },
    {
     "cell_type": "code",
     "collapsed": false,
     "input": [
      "import math\n",
      "##Volume flw rate of ai(in m**3/sec):\n",
      "Q=1.;\n",
      "##Diameter of pipe(in m):\n",
      "D=0.25;\n",
      "##Density of air (in kg/m**3):\n",
      "d1=1.23;\n",
      "##Acceleration due to gravity(in m/s**2):\n",
      "g=9.8;\n",
      "##Density of water(in kg/m**3):\n",
      "d2=999.;\n",
      "##Maxmum range of manometer(in m):\n",
      "h=0.3;\n",
      "##Kinematic viscosity(in m**2/s):\n",
      "v=1.46*10**-5;\n",
      "\n",
      "##Diameter and head##\n",
      "\n",
      "##Value of K*B**2:\n",
      "K_B=Q/(math.pi/4.*D**2.)*math.sqrt(0.5*d1/g/d2/h)\n",
      "##Reynods number:\n",
      "ReD1=4./math.pi*Q/D/v\n",
      "##By trial and error method, the value of beta is fixed at:\n",
      "betta=0.66;\n",
      "##K is then:\n",
      "K=K_B/betta**2\n",
      "##Diameter of orifice plate(in m):\n",
      "Dt=betta*D\n",
      "##Value of p3-p2(in N/m**2):\n",
      "P1=d1*Q**2./(math.pi/4.*D**2.)**2.*(1./0.65/betta**2.-1.)\n",
      "##Value of p1-p2(in N/m**2):\n",
      "P2=d2*g*h\n",
      "##Head loss between sections 1 and 3(in N-m/kg):\n",
      "hLT=(P2-P1)/d1\n",
      "##Expressing the permanent pressure as a fractio of the meter differential:\n",
      "C=(P2-P1)/P2\n",
      "print(\"RESULTS\")\n",
      "print'%s %.2f %s'%(\"Diameter of the orifice: \",Dt,\" m\")\n",
      "print'%s %.2f %s'%(\"Head loss between secions 1 and 3: \",hLT,\" N-m/kg\")\n"
     ],
     "language": "python",
     "metadata": {},
     "outputs": [
      {
       "output_type": "stream",
       "stream": "stdout",
       "text": [
        "RESULTS\n",
        "Diameter of the orifice:  0.17  m\n",
        "Head loss between secions 1 and 3:  1337.12  N-m/kg\n"
       ]
      }
     ],
     "prompt_number": 10
    }
   ],
   "metadata": {}
  }
 ]
}