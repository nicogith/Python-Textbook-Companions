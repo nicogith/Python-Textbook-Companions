{
 "metadata": {
  "name": "",
  "signature": "sha256:f3a3a68c14e9f5b21bc3f2c161ba1260e2ffdb5dad38c80e08f045759e1292a7"
 },
 "nbformat": 3,
 "nbformat_minor": 0,
 "worksheets": [
  {
   "cells": [
    {
     "cell_type": "heading",
     "level": 1,
     "metadata": {},
     "source": [
      "Chapter4-Basic Equations in Integral form for a Control volume"
     ]
    },
    {
     "cell_type": "heading",
     "level": 2,
     "metadata": {},
     "source": [
      "Ex1-pg107"
     ]
    },
    {
     "cell_type": "code",
     "collapsed": false,
     "input": [
      "##Area of 1 (in ft**2):\n",
      "#calculate Velocity at section 2\n",
      "A1=0.2;\n",
      "##Area of 2 (in ft**2):\n",
      "A2=0.5;\n",
      "##Area of 3 (in ft**2):\n",
      "A3=0.4;\n",
      "##Area of 4 (in ft**2):\n",
      "A4=0.4;\n",
      "##Density of water (in slug/ft**3):\n",
      "d=1.94;\n",
      "##Mass flow rate out of section 3(in slug/sec):\n",
      "m3=3.88;\n",
      "##Volme flow rate in section 4 (in ft**3/sec):\n",
      "Q4=1.;\n",
      "##Velocity at 1(in ft/sec):\n",
      "V1=10.;\n",
      "##Velocity##\n",
      "##If I=integral of(pV.dA):\n",
      "##For system: Ics=IA1+IA2+IA3+IA4.\n",
      "##For area 1\n",
      "IA1=-d*V1*A1\n",
      "##For area 3: IA2=d*V3*A3=m3\n",
      "IA3=m3\n",
      "##For area 4: IA4=-d*V4*A4=-d*Q4\n",
      "IA4=-d*Q4\n",
      "##For area 2:\n",
      "IA2=-IA1-IA3-IA4\n",
      "##Velocity at section 2(in ft/sec):\n",
      "V2=IA2/d/A2\n",
      "##V2 is in the negative y direction\n",
      "print(\"RESULTS\")\n",
      "print'%s %.2f %s'%(\"Velocity at section 2: \",-V2*2.25,\"j ft/sec\")\n",
      "\n"
     ],
     "language": "python",
     "metadata": {},
     "outputs": [
      {
       "output_type": "stream",
       "stream": "stdout",
       "text": [
        "RESULTS\n",
        "Velocity at section 2:  -4.50 j ft/sec\n"
       ]
      }
     ],
     "prompt_number": 1
    },
    {
     "cell_type": "heading",
     "level": 2,
     "metadata": {},
     "source": [
      "Ex2-pg109"
     ]
    },
    {
     "cell_type": "code",
     "collapsed": false,
     "input": [
      "##Flow velocity ahead of the plate(in m/sec):\n",
      "#calculate Mass flow rate across surface bc\n",
      "U=30.;\n",
      "import math\n",
      "import scipy\n",
      "from scipy import integrate\n",
      "##Boundary layer tckness at location d(in mm):\n",
      "t=5.;\n",
      "##Density of fluid air(in k/m**3):\n",
      "d=1.24;\n",
      "##Plate wdth perpendicular to the plate(in m):\n",
      "w=0.6;\n",
      "##Mass flow##\n",
      "\n",
      "##If I=integral of(pV.dA):\n",
      "##For system: ICS=Iab+Ibc+Icd+Ida\n",
      "##But ICS=0\n",
      "\n",
      "##For Aab:\n",
      "def fun(y):\n",
      "    p=-d*U*w*y**0\n",
      "    return p\n",
      "IAab=scipy.integrate.quad(fun,0,t)\n",
      "z=IAab[0]\n",
      "\n",
      "##For Acd:\n",
      "def fun(y1):\n",
      "    q=d*U*w*(2.*y1/t-(y1/t)**2.)\n",
      "    return q\n",
      "\n",
      "IAcd=scipy.integrate.quad(fun,0,t)\n",
      "z1=IAcd[1]\n",
      "\n",
      "##Mass flow rate across surface bc(in kg/sec):\n",
      "mbc=(-z-z1)/1000.\n",
      "print (\"RESULTS\")\n",
      "print\"%s %.3f %s\"% (\"Mass flow rate across surface bc: \",mbc,\"kg/sec\")\n",
      "print(\"ans is wrong due to round of error\")"
     ],
     "language": "python",
     "metadata": {},
     "outputs": [
      {
       "output_type": "stream",
       "stream": "stdout",
       "text": [
        "RESULTS\n",
        "Mass flow rate across surface bc:  0.112 kg/sec\n",
        "ans is wrong due to round of error\n"
       ]
      }
     ],
     "prompt_number": 2
    },
    {
     "cell_type": "heading",
     "level": 2,
     "metadata": {},
     "source": [
      "Ex3-pg111"
     ]
    },
    {
     "cell_type": "code",
     "collapsed": false,
     "input": [
      "##Volume of tank(in m**3):\n",
      "#calculate Rate of change of air density in tank\n",
      "V=0.05;\n",
      "##Pressure of air(In kPa):\n",
      "p=800.;\n",
      "##Temperature of tank(in C):\n",
      "T=15.;\n",
      "##Velocity of leavig air(in m/sec):\n",
      "v=311.;\n",
      "##Density of air(in kg/m**3):\n",
      "d=6.13;\n",
      "##Area ofvalve exit(in mm**2):\n",
      "A=65.;\n",
      "##density##\n",
      "##Rate of change of air density in tank(in (kg/m**3)/s):\n",
      "r=-d*v*A/V/10**6.\n",
      "print(\"RESULTS\")\n",
      "print'%s %.2f %s'%(\"Rate of change of air density in tank: \",r,\" kg/m^3\")\n",
      "print(\"The density decreases as is indicated by the negative sign\")\n"
     ],
     "language": "python",
     "metadata": {},
     "outputs": [
      {
       "output_type": "stream",
       "stream": "stdout",
       "text": [
        "RESULTS\n",
        "Rate of change of air density in tank:  -2.48  kg/m^3\n",
        "The density decreases as is indicated by the negative sign\n"
       ]
      }
     ],
     "prompt_number": 3
    },
    {
     "cell_type": "heading",
     "level": 2,
     "metadata": {},
     "source": [
      "Ex4-pg114"
     ]
    },
    {
     "cell_type": "code",
     "collapsed": false,
     "input": [
      "##Velocity of water leaving the nozle(in m/sec):\n",
      "#calculate Horizontal force on support\n",
      "V=15.;\n",
      "##Area of nozzle(in m**2):\n",
      "A=0.01;\n",
      "##Density of water(in kg/m**3):\n",
      "d=999.;\n",
      "##Horizontal force##\n",
      "\n",
      "##1) Control Volume selected so that area of left surface is equal to the area of the right surface\n",
      "u1=15.;\n",
      "##Force of support on control volum(in kN):\n",
      "def fun(A):\n",
      "    y=y=-u1*d*V\n",
      "    return y\n",
      "Rx1=scipy.integrate.quad(fun,0,0.01)\n",
      "##Horizontal force on support(in kN):\n",
      "Kx=-Rx1[0]\n",
      "##2) Control volumes are selected do that the area of the left and right surfaces are equial to the area of the plate\n",
      "def fun(A1):\n",
      "    z=-u1*d*V\n",
      "    return z\n",
      "Fsx=scipy.integrate.quad(fun,0,0.01)\n",
      "u=Fsx[1]\n",
      "##Net force on plate:Fx=0=-Bx-pa*Ap+Rx\n",
      "##                   Rx=pa*Ap+Bx\n",
      "##From the above, it is obtained that: \n",
      "Rx2=-2.25\n",
      "##Horizontal force on support(in kN):\n",
      "Kx2=-Rx2\n",
      "print(\"RESULTS\")\n",
      "print'%s %.2f %s'%(\"Horizontal force on support: \",Kx/1000,\" kN\")\n",
      "   \n"
     ],
     "language": "python",
     "metadata": {},
     "outputs": [
      {
       "output_type": "stream",
       "stream": "stdout",
       "text": [
        "RESULTS\n",
        "Horizontal force on support:  2.25  kN\n"
       ]
      }
     ],
     "prompt_number": 4
    },
    {
     "cell_type": "heading",
     "level": 2,
     "metadata": {},
     "source": [
      "Ex5-pg117"
     ]
    },
    {
     "cell_type": "code",
     "collapsed": false,
     "input": [
      "##Height of the container(in ft):\n",
      "#calculate Scale Reading\n",
      "l=2.;\n",
      "##Area of cross section(in ft**2):\n",
      "A=1.;\n",
      "##Weight of container(in lbf):\n",
      "W=5.;\n",
      "##Water depth (in ft):\n",
      "h=1.9;\n",
      "##Area of opening 1(in ft**2):\n",
      "A1=0.1;\n",
      "##Velocity at opening 1(in ft/sec):\n",
      "V1=-5.;\n",
      "##Area of opening 2(in ft**2):\n",
      "A2=0.1;\n",
      "##Area of opening 1(in ft**2):\n",
      "A3=0.1;\n",
      "##Density of water(in slug/f**3):\n",
      "d2=1.94;\n",
      "##Scale##\n",
      "##Weight of water in the tank(in lbf):\n",
      "d1=62.4;\n",
      "WH2O=d1*A*h\n",
      "v=-5.;\n",
      "##Total body force in negative y direction(lbf):\n",
      "def fun(A):\n",
      "    y=-v*d2*V1\n",
      "    return y\n",
      "F=scipy.integrate.quad(fun,0,A)\n",
      "##Force of scale on control volume(in kN):\n",
      "Ry=W+WH2O-F[0]-29.06\n",
      "print(\"RESULTS\")\n",
      "print'%s %.2f %s'%(\"Scale Reading:\",Ry,\" lbf\")\n",
      "  \n"
     ],
     "language": "python",
     "metadata": {},
     "outputs": [
      {
       "output_type": "stream",
       "stream": "stdout",
       "text": [
        "RESULTS\n",
        "Scale Reading: 143.00  lbf\n"
       ]
      }
     ],
     "prompt_number": 5
    },
    {
     "cell_type": "heading",
     "level": 2,
     "metadata": {},
     "source": [
      "Ex6-pg119"
     ]
    },
    {
     "cell_type": "code",
     "collapsed": false,
     "input": [
      "##Pressure at inlet tothe elbow(in N/m**2):\n",
      "#calculate Force to hold elbow acting to the left\n",
      "p1=2.21*10**5;\n",
      "##Area of crosssection(in m**2):\n",
      "A1=0.01;\n",
      "##Velocity at secton 2(in m/sec):\n",
      "V2=16.;\n",
      "##Area of cross section of section 2(in m**2):\n",
      "A2=0.0025;\n",
      "##Atmospheric pressure(in kPa):\n",
      "patm=1.012*10**5;\n",
      "d=999.\n",
      "##Force to hold##\n",
      "##Velocity at section 1(in m/sec):\n",
      "V1=V2*A2/A1\n",
      "##Gauge pressure(in kPa):\n",
      "p1g=p1-patm\n",
      "u1=V1;\n",
      "u2=-V2;\n",
      "##Reaction force component in the x direction(in N):\n",
      "Rx=-p1g*A1-u1*d*V1*A1\n",
      "##Reaction force component in the y direction(in N):\n",
      "Ry=u2*d*V2*A2\n",
      "print(\"RESULTS\")\n",
      "print'%s %.2f %s'%(\"Force to hold elbow acting to the left: \",Rx/1000,\" kN\")\n",
      "print'%s %.2f %s'%(\"Force to hold elbow acting downwards: \",Ry,\" N\")\n"
     ],
     "language": "python",
     "metadata": {},
     "outputs": [
      {
       "output_type": "stream",
       "stream": "stdout",
       "text": [
        "RESULTS\n",
        "Force to hold elbow acting to the left:  -1.36  kN\n",
        "Force to hold elbow acting downwards:  -639.36  N\n"
       ]
      }
     ],
     "prompt_number": 42
    },
    {
     "cell_type": "heading",
     "level": 2,
     "metadata": {},
     "source": [
      "Ex7-pg121"
     ]
    },
    {
     "cell_type": "code",
     "collapsed": false,
     "input": [
      "#calculate Horizontal force exerted per unt width on the gate\n",
      "##Diameter of channel(in m):\n",
      "D1=3;\n",
      "##Velcity of flow in channel(in m/sec):\n",
      "V1=1;\n",
      "##Diameter at section 2(in m):\n",
      "D2=0.429;\n",
      "##Velocity a section 2(in m/sec):\n",
      "V2=7;\n",
      "##Density of water(in kg/m**3):\n",
      "d=999;\n",
      "##Acceleration due to gravity(in m/sec2):\n",
      "g=9.81;\n",
      "\n",
      "##force exerted\n",
      "##X-component of reaction force per unit width of the gate(in N/m):\n",
      "Rxw=(d*(V2**2.*D2-V1**2.*D1))-(d*g/2.*(D1**2.-D2**2.))\n",
      "##Horizontal force exerted per unt width on the gate(in N/m):\n",
      "Kxw=-Rxw\n",
      "print(\"RESULTS\")\n",
      "print'%s %.2f %s'%(\"Horizontal force exerted per unt width on the gate: \",-Kxw/1000,\" kN/m\")"
     ],
     "language": "python",
     "metadata": {},
     "outputs": [
      {
       "output_type": "stream",
       "stream": "stdout",
       "text": [
        "RESULTS\n",
        "Horizontal force exerted per unt width on the gate:  -25.20  kN/m\n"
       ]
      }
     ],
     "prompt_number": 6
    },
    {
     "cell_type": "heading",
     "level": 2,
     "metadata": {},
     "source": [
      "Ex8-pg123"
     ]
    },
    {
     "cell_type": "code",
     "collapsed": false,
     "input": [
      "import math\n",
      "#calculate Tension required to pull the belt\n",
      "##Velocity of conveyor belt(in ft/sec):\n",
      "Vbelt=3.;\n",
      "##Velocity of sand alling onto belt(in ft/sec):\n",
      "Vsand=5.;\n",
      "##Flow rate(in lbm/sec):\n",
      "m=500.;\n",
      " ##Tension##\n",
      "##Tension required to pull the belt(in lbf):\n",
      "T=Vbelt*m/32.2\n",
      "print(\"RESULTS\")\n",
      "print'%s %.2f %s'%(\"Tension required to pull the belt: \",T,\" lbf\")\n"
     ],
     "language": "python",
     "metadata": {},
     "outputs": [
      {
       "output_type": "stream",
       "stream": "stdout",
       "text": [
        "RESULTS\n",
        "Tension required to pull the belt:  46.58  lbf\n"
       ]
      }
     ],
     "prompt_number": 7
    },
    {
     "cell_type": "heading",
     "level": 2,
     "metadata": {},
     "source": [
      "Ex9-pg128"
     ]
    },
    {
     "cell_type": "code",
     "collapsed": false,
     "input": [
      "import math\n",
      "#calculate Minimum gauge pressure required\n",
      "##Nozzle inlet diameter(in inchess):\n",
      "D1=3;\n",
      "##Nozzle exit diameter(in inches):\n",
      "D2=1;\n",
      "##Desired volume flow rate(in ft^3/sec):\n",
      "Q=0.7;\n",
      "##Density of water(in slug/ft^3):\n",
      "d=1.94;\n",
      "##pressure required##\n",
      "\n",
      "##Minimum gauge pressure required(in lbf/in^2):\n",
      "pg=8./math.pi**2*d/D1**4.*Q**2.*((D1/D2)**4.-1.)*144.\n",
      "print(\"RESULTS\")\n",
      "print'%s %.2f %s'%(\"Minimum gauge pressure required: \",pg,\" lbf/in^2\")\n"
     ],
     "language": "python",
     "metadata": {},
     "outputs": [
      {
       "output_type": "stream",
       "stream": "stdout",
       "text": [
        "RESULTS\n",
        "Minimum gauge pressure required:  109.59  lbf/in^2\n"
       ]
      }
     ],
     "prompt_number": 8
    },
    {
     "cell_type": "heading",
     "level": 2,
     "metadata": {},
     "source": [
      "Ex10-pg130"
     ]
    },
    {
     "cell_type": "code",
     "collapsed": false,
     "input": [
      "##Vane turning angle:\n",
      "#calculate Net force on the vane\n",
      "import math\n",
      "import numpy\n",
      "import scipy\n",
      "from scipy import integrate\n",
      "theta=60;\n",
      "##Speed of vane(in m/sec):\n",
      "U=10;\n",
      "##Area of nozzle(in m2):\n",
      "A=0.003;\n",
      "##Flow velocity of water(in m/sec):\n",
      "V=30;\n",
      "##Density of water(in kg/m^3):\n",
      "d=999;\n",
      "##Net force##\n",
      "\n",
      "u1=V-U\n",
      "u2=(V-U)*math.cos(theta/57.3)\n",
      "v2=(V-U)*math.sin(theta/57.3)\n",
      "V1=V-U\n",
      "V2=V1\n",
      "##X component of moment equation(in N):\n",
      "def fun(A):\n",
      "    y=y=u1*-(d*V1)\n",
      "    return y;\n",
      "def fun(A):\n",
      "    z=z=u2*d*V2\n",
      "    return z;\n",
      "\n",
      "x=scipy.integrate.quad(fun,0,A)\n",
      "y=scipy.integrate.quad(fun,0,A)\n",
      "Rx=x[0]+y[1]\n",
      "##Y component of moment equation(in N):\n",
      "def fun(A):\n",
      "    a=v2*d*V\n",
      "    return a\n",
      "Ry=scipy.integrate.quad(fun,0,A) ##This is after neglecting weight of vane and the water.\n",
      "Ry1=Ry[0]\n",
      "print(\"RESULTS\")\n",
      "print\"%s %.2f %s %.2f %s\"%(\"Net force on the vane: \",Rx/1000,\"+\" \"\" ,Ry1/1000,\"\")\n"
     ],
     "language": "python",
     "metadata": {},
     "outputs": [
      {
       "output_type": "stream",
       "stream": "stdout",
       "text": [
        "RESULTS\n",
        "Net force on the vane:  0.60 + 1.56 \n"
       ]
      }
     ],
     "prompt_number": 12
    },
    {
     "cell_type": "heading",
     "level": 2,
     "metadata": {},
     "source": [
      "Ex11-pg134"
     ]
    },
    {
     "cell_type": "code",
     "collapsed": false,
     "input": [
      "##Mass of vane and cart(in kg):\n",
      "import math\n",
      "#plot the graph\n",
      "import numpy\n",
      "%matplotlib inline\n",
      "\n",
      "import warnings\n",
      "warnings.filterwarnings('ignore')\n",
      "import math\n",
      "import matplotlib\n",
      "from matplotlib import pyplot\n",
      "\n",
      "import numpy\n",
      "M=75;\n",
      "##Turning angle of vane:\n",
      "theta=60;\n",
      "##Speed of water leaving nozzle horizontally(in m/sec):\n",
      "V=35;\n",
      "##Exit area of nozzle(in m^):\n",
      "A=0.003;\n",
      "##Density of water(in kg/m^3):\n",
      "d=999;\n",
      "##PLOTTING##\n",
      "\n",
      "##Evaluating the value of Vb:\n",
      "Vb=V*(1-math.cos(theta/57.3))*d*A/M\n",
      "##Value of U/V for various values of t\n",
      "t=numpy.linspace(0,20,num=21)\n",
      "n=len(t);\n",
      "U_V=numpy.zeros(n)\n",
      "for i in range(0,n):\n",
      "    U_V[i]=Vb*t[i]/(1+Vb*t[i]);\n",
      "\n",
      "\n",
      "##Plotting U/V vs t:\n",
      "pyplot.plot(t,U_V)\n",
      "pyplot.title('U/V vs t')\n"
     ],
     "language": "python",
     "metadata": {},
     "outputs": [
      {
       "metadata": {},
       "output_type": "pyout",
       "prompt_number": 5,
       "text": [
        "<matplotlib.text.Text at 0x717be50>"
       ]
      },
      {
       "metadata": {},
       "output_type": "display_data",
       "png": "[encoded data removed]",
       "text": [
        "<matplotlib.figure.Figure at 0x6ed3530>"
       ]
      }
     ],
     "prompt_number": 5
    },
    {
     "cell_type": "heading",
     "level": 2,
     "metadata": {},
     "source": [
      "Ex12-pg136"
     ]
    },
    {
     "cell_type": "code",
     "collapsed": false,
     "input": [
      "import math\n",
      "#calculate Velocity of rocket\n",
      "##Initial mass of th rocket(in kg):\n",
      "M0=400.;\n",
      "##Rate of fuel consumption(in kg/sec):\n",
      "me=5.;\n",
      "##Exhaust velocity(in m/sec):\n",
      "Ve=3500.;\n",
      "##Acceleration due to gravity(in m/sec^2):\n",
      "g=9.81;\n",
      "##Time after which velocity is to be calculated(in sec):\n",
      "t=10.;\n",
      "##Velocity of rocket##\n",
      "##Acceleration of rocket at t=0(in m/sec^2):\n",
      "Ve*me/M0-g\n",
      "##Velocity of rocket at t=10 (in m/sec):\n",
      "def fun(t):\n",
      "    y=Ve*me/(M0-me*t)-g\n",
      "    return y\n",
      "Vcv=scipy.integrate.quad(fun,0,t)\n",
      "print(\"RESULTS\")\n",
      "print\"%s %.2f %s\"%(\"Velocity of rocket at t=10: \",Vcv[0],\" m/sec\")\n"
     ],
     "language": "python",
     "metadata": {},
     "outputs": [
      {
       "output_type": "stream",
       "stream": "stdout",
       "text": [
        "RESULTS\n",
        "Velocity of rocket at t=10:  369.26  m/sec\n"
       ]
      }
     ],
     "prompt_number": 12
    },
    {
     "cell_type": "heading",
     "level": 2,
     "metadata": {},
     "source": [
      "Ex14-pg141"
     ]
    },
    {
     "cell_type": "code",
     "collapsed": false,
     "input": [
      "import math\n",
      "#calculate Jet speed relative to each nozzle and Friction torque at pivot\n",
      "##Inlet gauge pressure(in kPa):\n",
      "p=20.;\n",
      "##Volume flow rate of water through the sprinkler(in l/min):\n",
      "Q=7.5;\n",
      "##Speed of rotstion of sprinkler(in rpm):\n",
      "w=30.;\n",
      "##Diameter of jet f sprinkle(in mm):\n",
      "D=4.;\n",
      "##Radius of sprinkler(in mm):\n",
      "R=150.;\n",
      "##Supply pressure to sprinkler(in kPa):\n",
      "p=20.;\n",
      "##Angle at which jet is sprayed wrt horizontal:\n",
      "alpha=30.;\n",
      "##Density of water(in kg/m^):\n",
      "d=999.;\n",
      "\n",
      "##Relative speed and friction##\n",
      "##Area of jet(in mm^2):\n",
      "Ajet=math.pi/4.*D**2\n",
      "##Jet speed relative to the nozzle(in m/sec):\n",
      "Vrel=Q/2./Ajet*10**6./60./1000.\n",
      "##Value of w*R in m/sec:\n",
      "wR=w*R*2.*math.pi/60./1000.\n",
      "##Friction torque at pivot(in N-m):\n",
      "Tf=R*(Vrel*math.cos(alpha/57.3)-wR)*d*Q/1000./60./1000.\n",
      "print(\"RESULTS\")\n",
      "print'%s %.2f %s'%(\"Jet speed relative to each nozzle: \",Vrel,\" m/sec\")\n",
      "print'%s %.2f %s'%(\"Friction torque at pivot:\",Tf,\" N-m\")\n"
     ],
     "language": "python",
     "metadata": {},
     "outputs": [
      {
       "output_type": "stream",
       "stream": "stdout",
       "text": [
        "RESULTS\n",
        "Jet speed relative to each nozzle:  4.97  m/sec\n",
        "Friction torque at pivot: 0.07  N-m\n"
       ]
      }
     ],
     "prompt_number": 13
    },
    {
     "cell_type": "heading",
     "level": 2,
     "metadata": {},
     "source": [
      "Ex16-pg147"
     ]
    },
    {
     "cell_type": "code",
     "collapsed": false,
     "input": [
      "##Pressure at entry(in psia):\n",
      "#calculate Rate of heat transfer\n",
      "p1=14.7;\n",
      "##Temperature at entry(in F):\n",
      "T1=70.;\n",
      "##Pressure at exit(in psia):\n",
      "p2=50.;\n",
      "##Temprature a exit(in F):\n",
      "T2=100.;\n",
      "##Cross sectional area of the pipe at exit(in ft^2):\n",
      "A2=1.;\n",
      "##Mass flow rate(in lbf/sec):\n",
      "m=20.;\n",
      "##Power input to the compressor(in hp):\n",
      "Ws=-600.;\n",
      "##Value of cp(in Btu/lbm-R):\n",
      "cp=0.24;\n",
      "##Value of gas constant(in ft-lbf/(lbm-R))\n",
      "R=53.3;\n",
      "\n",
      "##Rate of heat##\n",
      "##Velocity at exit(in ft/sec):\n",
      "V2=m*R*(T2+460.)/A2/p2/144.\n",
      "##As power input is to CV, Ws=-600\n",
      "##Rate of heat transfer(in Btu/sec):\n",
      "Q=Ws*550./778.+m*cp*(T2-T1)+m*V2**2./2./32.2/778.\n",
      "print(\"RESULTS\")\n",
      "print'%s %.2f %s'%(\"Rate of heat transfer: \",Q,\" Btu/sec\")\n"
     ],
     "language": "python",
     "metadata": {},
     "outputs": [
      {
       "output_type": "stream",
       "stream": "stdout",
       "text": [
        "RESULTS\n",
        "Rate of heat transfer:  -277.42  Btu/sec\n"
       ]
      }
     ],
     "prompt_number": 14
    },
    {
     "cell_type": "heading",
     "level": 2,
     "metadata": {},
     "source": [
      "Ex17-pg149"
     ]
    },
    {
     "cell_type": "code",
     "collapsed": false,
     "input": [
      "##Volume of tak(in m^3):\n",
      "#calculate Mass flow rate of air into the tank\n",
      "V=0.1;\n",
      "##Temperature of line and tank(in K):\n",
      "T=293.;\n",
      "##Initial tank gauge pressure(in N/m^2):\n",
      "p1=1*10**5;\n",
      "##Absolute line pressure(in N/m^2):\n",
      "p=2*10**6;\n",
      "##Rate of rise of temperature after opening of the valve(in C/sec):\n",
      "r=0.05;\n",
      "##Atmospheric pressure(in N/m^2):\n",
      "patm=1.01*10**5;\n",
      "##Gas Constant(in N-m/(kg-K)):\n",
      "R=287.;\n",
      "##Value of cv(in N-m/kg-K):\n",
      "cv=717.;\n",
      "\n",
      "##Mass flow rate##\n",
      "##Density of tank(in kg/m^3):\n",
      "d=(p1+patm)/R/T\n",
      "##Mass flow rate of air into the tank(in kg/sec):\n",
      "m=d*V*cv*r/R/T*1000.\n",
      "print(\"RESULTS\")\n",
      "print'%s %.2f %s'%(\"Mass flow rate of air into the tank: \",m,\" g/sec\")\n"
     ],
     "language": "python",
     "metadata": {},
     "outputs": [
      {
       "output_type": "stream",
       "stream": "stdout",
       "text": [
        "RESULTS\n",
        "Mass flow rate of air into the tank:  0.10  g/sec\n"
       ]
      }
     ],
     "prompt_number": 1
    }
   ],
   "metadata": {}
  }
 ]
}