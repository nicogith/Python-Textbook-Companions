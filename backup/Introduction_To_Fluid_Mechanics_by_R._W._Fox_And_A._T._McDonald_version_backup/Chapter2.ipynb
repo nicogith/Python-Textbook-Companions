{
 "metadata": {
  "name": "",
  "signature": "sha256:2dd92af47b1f19e65e5d38226dc5a0be851cdfe18cac41990d95bceaeb175ac1"
 },
 "nbformat": 3,
 "nbformat_minor": 0,
 "worksheets": [
  {
   "cells": [
    {
     "cell_type": "heading",
     "level": 1,
     "metadata": {},
     "source": [
      "Chapter2-Fundamental Concepts"
     ]
    },
    {
     "cell_type": "heading",
     "level": 2,
     "metadata": {},
     "source": [
      "Ex2-pg29"
     ]
    },
    {
     "cell_type": "code",
     "collapsed": false,
     "input": [
      "##Liquid Viscosity(in cp):\n",
      "#calculate Shear stres on the upeer plate and lower plate\n",
      "u=0.65;\n",
      "##Specific gravity:\n",
      "SG=0.88;\n",
      "##Density of water(in slug/ft**3):\n",
      "d=1.94;\n",
      "##Velocity with which plate is moved(in m/sec):\n",
      "U=0.3;\n",
      "##Distance between the plates(in mm):\n",
      "D=0.3;\n",
      "\n",
      "##Viscosity and stress##\n",
      "\n",
      "##Viscosity in units of lbf-s/ft**2:\n",
      "u1=u/100./454./32.2*30.5\n",
      "##Kinematic viscosity (in m/sec**2):\n",
      "v=u1/SG/d*(0.305)**2.\n",
      "##Shear stress on the upper plate(lbf/ft**2):\n",
      "tu=u1*U/D*1000.\n",
      "##Shear stress on the lower plate(in Pa)\n",
      "tl=tu*4.45/0.305**2.\n",
      "print(\"RESULTS\")\n",
      "print'%s %.5f %s'%(\"Viscosity in units of lbf-s/ft^2:\",u1,\" $lbf-s/ft^2\")\n",
      "print'%s %.7f %s'%(\"Kinematic viscosity: \",v,\" m/sec^2\")\n",
      "print'%s %.4f %s'%(\"Shear stres on the upeer plate:\",tu,\" lbf/ft^2\")\n",
      "print'%s %.2f %s'%(\"Sear stress on the lower plate: \",tl,\" Pa\")\n"
     ],
     "language": "python",
     "metadata": {},
     "outputs": [
      {
       "output_type": "stream",
       "stream": "stdout",
       "text": [
        "RESULTS\n",
        "Viscosity in units of lbf-s/ft^2: 0.00001  $lbf-s/ft^2\n",
        "Kinematic viscosity:  0.0000007  m/sec^2\n",
        "Shear stres on the upeer plate: 0.0136  lbf/ft^2\n",
        "Sear stress on the lower plate:  0.65  Pa\n"
       ]
      }
     ],
     "prompt_number": 1
    }
   ],
   "metadata": {}
  }
 ]
}