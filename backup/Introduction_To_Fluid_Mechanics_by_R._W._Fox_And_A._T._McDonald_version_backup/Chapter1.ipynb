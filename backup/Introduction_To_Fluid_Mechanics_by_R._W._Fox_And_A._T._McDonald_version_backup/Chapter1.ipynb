{
 "metadata": {
  "name": "",
  "signature": "sha256:f952f0612b0f036664970e00f0036cbbc22734fdeb275bb46b2b2ad1aea06f80"
 },
 "nbformat": 3,
 "nbformat_minor": 0,
 "worksheets": [
  {
   "cells": [
    {
     "cell_type": "heading",
     "level": 1,
     "metadata": {},
     "source": [
      "Chapter1-Introduction"
     ]
    },
    {
     "cell_type": "heading",
     "level": 2,
     "metadata": {},
     "source": [
      "Ex1-pg6"
     ]
    },
    {
     "cell_type": "code",
     "collapsed": false,
     "input": [
      "#calculate the heat added during the process\n",
      "##Mass of oxygen present(in kg):\n",
      "m=0.95;\n",
      "##Initial temperatur(in K):\n",
      "T1=300;\n",
      "##Final temperature of oxygen(in K):\n",
      "T2=900;\n",
      "##Pressure of oxygen(in kPa):\n",
      "p=150;\n",
      "##Specific heat at constant pressure(in J/kg-K):\n",
      "cp=909.4;\n",
      "##Heat added during the process(in kJ):\n",
      "Q12=m*cp*(T2-T1)\n",
      "\n",
      "print'%s %.1f %s'%(\"Heat added during the process:\",Q12/1000,\"kJ\")\n",
      "\n"
     ],
     "language": "python",
     "metadata": {},
     "outputs": [
      {
       "output_type": "stream",
       "stream": "stdout",
       "text": [
        "Heat added during the process: 518.4 kJ\n"
       ]
      }
     ],
     "prompt_number": 3
    },
    {
     "cell_type": "heading",
     "level": 2,
     "metadata": {},
     "source": [
      "Ex2-pg9"
     ]
    },
    {
     "cell_type": "code",
     "collapsed": false,
     "input": [
      "##Mass of ball(in kg):\n",
      "#calculate speed at which ball hits the ground and terminal speed\n",
      "import math\n",
      "m=0.2;\n",
      "##Height fom which ball is dropped(in m):\n",
      "y0=500.;\n",
      "##Value of k:\n",
      "k=2*10**-4;\n",
      "##Accleration due to gravity(in m/sec**2):\n",
      "g=9.81;\n",
      "##speed and actual speed##\n",
      "##Speed at which the ball hits the ground(in m/sec):\n",
      "V=math.sqrt(m*g/k*(1-math.e**(2*k/m*(-y0))))\n",
      "##Terminal speed(in m/sec):\n",
      "Vt=math.sqrt(m*g/k)\n",
      "##Ratio of actual speed to the terminal speed:\n",
      "r=V/Vt;\n",
      "print'%s %.1f %s'%(\"Speed at which the ball hits he ground:\",V,\" m/sec\")\n",
      "print'%s %.3f %s'%(\"Ratio of actual speed to the terminal speed:\",r,\"\")\n"
     ],
     "language": "python",
     "metadata": {},
     "outputs": [
      {
       "output_type": "stream",
       "stream": "stdout",
       "text": [
        "Speed at which the ball hits he ground: 78.7  m/sec\n",
        "Ratio of actual speed to the terminal speed: 0.795 \n"
       ]
      }
     ],
     "prompt_number": 4
    }
   ],
   "metadata": {}
  }
 ]
}