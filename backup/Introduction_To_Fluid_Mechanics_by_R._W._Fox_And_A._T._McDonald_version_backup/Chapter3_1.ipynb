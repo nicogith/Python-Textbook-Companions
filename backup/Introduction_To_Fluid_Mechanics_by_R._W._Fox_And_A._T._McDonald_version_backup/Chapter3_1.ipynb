{
 "metadata": {
  "name": "",
  "signature": "sha256:8786be78608010e64e9b446981eeef3f58335b91815b9d59359db7c1fb6c67a7"
 },
 "nbformat": 3,
 "nbformat_minor": 0,
 "worksheets": [
  {
   "cells": [
    {
     "cell_type": "heading",
     "level": 1,
     "metadata": {},
     "source": [
      "Chapter3-Fluid Statics"
     ]
    },
    {
     "cell_type": "heading",
     "level": 2,
     "metadata": {},
     "source": [
      "Ex1-pg58"
     ]
    },
    {
     "cell_type": "code",
     "collapsed": false,
     "input": [
      "#calculate the tube diameter and mercury meter level\n",
      "import numpy\n",
      "%matplotlib inline\n",
      "\n",
      "import warnings\n",
      "warnings.filterwarnings('ignore')\n",
      "import math\n",
      "import matplotlib\n",
      "from matplotlib import pyplot\n",
      "##Surface tension of water(in mN/m):\n",
      "STw=72.8*10**-3;\n",
      "##Surface Tension of mercury(in mN/m):\n",
      "STm=375*10**-3;\n",
      "##Contact angle for water:\n",
      "thetaw=0.;\n",
      "##COntact angle for mercury:\n",
      "thetam=140.;\n",
      "##Density of water(in kg/m**3):\n",
      "dw=1.;\n",
      "##Density of mercury(in kg/m**3):\n",
      "dm=13.6;\n",
      "##Acceleration de to gravity(in m/sec):\n",
      "g=9.81;\n",
      "##liquid level##\n",
      "\n",
      "##Tube diameter(in mm):\n",
      "D =numpy.linspace(1,25,num=24)\n",
      "D1=D/1000.\n",
      "n=len(D1)\n",
      "dhw=numpy.zeros(n)\n",
      "dhm=numpy.zeros(n)\n",
      "for i in range (0,n):\n",
      "##Change in liquid level for water(in mm):\n",
      "\tdhw[i]=4*STw*math.cos(thetaw/57.3)/dw/g/D1[i];\n",
      "##Change in liquid level for mercury(in mm):\n",
      "\tdhm[i]=4*STm*math.cos(thetam/57.3)/dm/g/D1[i];\n",
      "\n",
      "print D1\n",
      "##Plotting tube daimeter and water level:\n",
      "pyplot.plot(D1,dhw)\n",
      "##Plotting tube daimeter and mercury level:\n",
      "\n",
      "pyplot.xlabel('Liquid level(in mm)')\n",
      "pyplot.ylabel('Tube diameter(in mm)')\n",
      "pyplot.title('Liquid level vs Tube diameter')\n",
      "pyplot.show()"
     ],
     "language": "python",
     "metadata": {},
     "outputs": [
      {
       "output_type": "stream",
       "stream": "stdout",
       "text": [
        "[ 0.001       0.00204348  0.00308696  0.00413043  0.00517391  0.00621739\n",
        "  0.00726087  0.00830435  0.00934783  0.0103913   0.01143478  0.01247826\n",
        "  0.01352174  0.01456522  0.0156087   0.01665217  0.01769565  0.01873913\n",
        "  0.01978261  0.02082609  0.02186957  0.02291304  0.02395652  0.025     ]\n"
       ]
      },
      {
       "metadata": {},
       "output_type": "display_data",
       "png": "[encoded data removed]",
       "text": [
        "<matplotlib.figure.Figure at 0x6dff4f0>"
       ]
      }
     ],
     "prompt_number": 1
    },
    {
     "cell_type": "heading",
     "level": 2,
     "metadata": {},
     "source": [
      "Ex3-pg62"
     ]
    },
    {
     "cell_type": "code",
     "collapsed": false,
     "input": [
      "##Acceleration due to gravity(in ft/sec**2):\n",
      "#calculate the Pressure difference between A and B\n",
      "g=32.2;\n",
      "##Specific gravity of mercury:\n",
      "SGm=13.6;\n",
      "##Specific gravity of oil:\n",
      "SGo=0.88;\n",
      "##Specific gravity of water:\n",
      "SGw=1.;\n",
      "##Density of water(in slug/ft**3):\n",
      "d=1.94;\n",
      "##Heights of liquid in various tubes(in inches):\n",
      "d1=10.;\n",
      "d2=3.;\n",
      "d3=4.;\n",
      "d4=5.;\n",
      "d5=8.;\n",
      "##pressure difference##\n",
      "##Pressure difference(in lbf/in**2):\n",
      "dp=g*d*(-d1+SGm*d2-SGo*d3+SGm*d4+d5)/12./144.\n",
      "print(\"\\n\\nRESULTS\\n\\n\")\n",
      "print'%s %.2f %s'%(\"\\n\\nPressure difference between A and B:\",dp,\" lbf/in^2\\n\\n\")\n"
     ],
     "language": "python",
     "metadata": {},
     "outputs": [
      {
       "output_type": "stream",
       "stream": "stdout",
       "text": [
        "\n",
        "\n",
        "RESULTS\n",
        "\n",
        "\n",
        "\n",
        "\n",
        "Pressure difference between A and B: 3.73  lbf/in^2\n",
        "\n",
        "\n"
       ]
      }
     ],
     "prompt_number": 2
    },
    {
     "cell_type": "heading",
     "level": 2,
     "metadata": {},
     "source": [
      "Ex4-pg64"
     ]
    },
    {
     "cell_type": "code",
     "collapsed": false,
     "input": [
      "import math\n",
      "#calculate the If temperature varies linearly with altitude and If density is constant and For an adiabatic atmosphere\n",
      "##Elevation of Denver(in ft):\n",
      "z1=5280.;\n",
      "##Pressure at Denver(in mm of Hg):\n",
      "p1=24.8;\n",
      "##Temperature at Denver(in F):\n",
      "T1=80.;\n",
      "##Elevation at Vail Pass(in ft):\n",
      "z2=10600.;\n",
      "##Temperature at Vsil Pass(in F):\n",
      "T2=62.;\n",
      "##Value of R in ft-lbf/lbm-R):\n",
      "R=53.3;\n",
      "##Acceleration due togravity(in ft/sec**2):\n",
      "g=32.2;\n",
      "##Value of adiabatic constant:\n",
      "k=1.4;\n",
      "\n",
      "##temperature and pressure##\n",
      "\n",
      "##Assuming temperature varies linearly with altitude:\n",
      "##Temperature gradient(in F/ft):\n",
      "m=(T1-T2)/(z2-z1)\n",
      "##Value of g/(m*R):\n",
      "v=g/m/R/32.2\n",
      "##Pressure at Vail Pass(in inches of Hg):\n",
      "p12=p1*((T2+460.)/(T1+460.))**v\n",
      "##Percentage change in density:\n",
      "pc1=(p12/p1*(T1+460.)/(T2+460.)-1.)*100.\n",
      "##Assuming density is constant:\n",
      "##Pressure at Vail Pass(in inches of Hg):\n",
      "p22=p1*(1.-(g*(z2-z1)/(R*32.2)/(T1+460.)))\n",
      "##Percentage change in density:\n",
      "pc2=0.;\n",
      "##Assuming temperature is constant:\n",
      "##Pressure at Vail Pass(in inches of Hg):\n",
      "p32=p1*math.e**(-g*(z2-z1)/(R*32.2)/(T2+460.))\n",
      "##Percentage change in density:\n",
      "pc3=(p32/p1*(T1+460.)/(T1+460.)-1)*100.\n",
      "##For an adiabatic atmosphere:\n",
      "p42=p1*((62.+460.)/(80.+460.))**(k/(k-1.))\n",
      "##Percentage change in density:\n",
      "pc4=(p42/p1*(T1+460.)/(T2+460.)-1)*100.\n",
      "print (\"RESULTS\")\n",
      "print (\"1) If temperature varies linearly with altitude\")\n",
      "print'%s %.2f %s'% (\"\\tAtmospheric pressure at Vail Pass: \",p12,\" inches of Hg\")\n",
      "print'%s %.2f %s'% (\"\\tPercentage change in density wrt Denver:\",pc1,\" percent\")\n",
      "print(\"2) If density is constant\")\n",
      "print'%s %.2f %s'% (\"\\tAtmospheric pressure at Vail Pass:\",p22,\" inches of Hg\")\n",
      "print'%s %.2f %s'% (\"\\tPercentage change in density wrt Denver: \",pc2,\" percent\")\n",
      "print(\"3) If temperature is constant\")\n",
      "print'%s %.2f %s'% (\"\\tAtmospheric pressure at Vail Pass: \",p32,\" inches of Hg\")\n",
      "print'%s %.2f %s'% (\"\\tPercentage change in density wrt Denver:\",pc3,\" percent\")\n",
      "print (\"4) For an adiabatic atmosphere\")\n",
      "print'%s %.2f %s'% (\"\\tAtmospheric pressure at Vail Pass: \",p42,\" inches of Hg\")\n",
      "print'%s %.2f %s'% (\"\\tPercentage change in density wrt Denver: \",pc4,\" percent\")\n",
      "print(\"due to rounding off error answer is slightly diffeerent\")"
     ],
     "language": "python",
     "metadata": {},
     "outputs": [
      {
       "output_type": "stream",
       "stream": "stdout",
       "text": [
        "RESULTS\n",
        "1) If temperature varies linearly with altitude\n",
        "\tAtmospheric pressure at Vail Pass:  20.55  inches of Hg\n",
        "\tPercentage change in density wrt Denver: -14.28  percent\n",
        "2) If density is constant\n",
        "\tAtmospheric pressure at Vail Pass: 20.22  inches of Hg\n",
        "\tPercentage change in density wrt Denver:  0.00  percent\n",
        "3) If temperature is constant\n",
        "\tAtmospheric pressure at Vail Pass:  20.48  inches of Hg\n",
        "\tPercentage change in density wrt Denver: -17.40  percent\n",
        "4) For an adiabatic atmosphere\n",
        "\tAtmospheric pressure at Vail Pass:  22.03  inches of Hg\n",
        "\tPercentage change in density wrt Denver:  -8.13  percent\n",
        "due to rounding off error answer is slightly diffeerent\n"
       ]
      }
     ],
     "prompt_number": 3
    },
    {
     "cell_type": "heading",
     "level": 2,
     "metadata": {},
     "source": [
      "Ex5-pg70"
     ]
    },
    {
     "cell_type": "code",
     "collapsed": false,
     "input": [
      "##Length of gate(in m):\n",
      "import math\n",
      "#calculate Net force on the gate and Coordinate of centre of pressure\n",
      "L=4.;\n",
      "##Width of gate(in m):\n",
      "w=5.;\n",
      "##Depth of gate under water(in m):\n",
      "D=2.;\n",
      "##Density of water(in kg/m**3:\n",
      "d=999.;\n",
      "##Acceleration due to gravity(in m/sec**2):\n",
      "g=9.81;\n",
      "##Angle of gate with horizontal:\n",
      "theta=30.;\n",
      "##force and pressure##\n",
      "\n",
      "##Net force on the gate(in kN):\n",
      "Fr=d*g*w*(D*L+L**2./2.*math.sin(theta/57.3))\n",
      "##Centre of pressure:\n",
      "##Calculation for y coordinate:\n",
      "yc=D/math.sin(theta/57.3)+L/2. #Area(in m**2):\n",
      "A=L*w\n",
      "##Moment of inertia of rectangular gate(in m**4):\n",
      "Ixx=w*L**3./12.\n",
      "##y coordinate(in m):\n",
      "y=yc+Ixx/A/yc\n",
      "##Calculation for x coordinate:\n",
      "Ixy=0.\n",
      "xc=w/2.\n",
      "##x coordinate(in m):\n",
      "x=xc+Ixy/A/xc\n",
      "print(\"RESULTS\")\n",
      "print'%s %.2f %s'% (\"Net force on the gate: \",Fr/1000,\"kN\")\n",
      "print'%s %.2f %s %.2f %s '% (\"Coordinate of centre of pressure:\",x,\" \"and \" \",y,\"\")\n",
      "       \n",
      "      \n"
     ],
     "language": "python",
     "metadata": {},
     "outputs": [
      {
       "output_type": "stream",
       "stream": "stdout",
       "text": [
        "RESULTS\n",
        "Net force on the gate:  588.00 kN\n",
        "Coordinate of centre of pressure: 2.50   6.22  \n"
       ]
      }
     ],
     "prompt_number": 5
    },
    {
     "cell_type": "heading",
     "level": 2,
     "metadata": {},
     "source": [
      "Ex6-pg73"
     ]
    },
    {
     "cell_type": "code",
     "collapsed": false,
     "input": [
      "#Pressure apllied on the door(in psfg):\n",
      "#calculate the Force requiredto kep the door shut\n",
      "p0=100.;\n",
      "import math\n",
      "import scipy\n",
      "from scipy import integrate\n",
      "#Length of door(in feet):\n",
      "L=3.;\n",
      "#Breadth of the door(in feet):\n",
      "b=2.;\n",
      "#Density of liqiuid(in lbf/ft^3):\n",
      "d=100;\n",
      "#force//\n",
      "#Force required to keep the door shut(in lbf):\n",
      "def fun(z):\n",
      "\ty=b/L*p0*z+d*b/L*(L*z-z**2)\n",
      "\treturn y\n",
      "Ft=scipy.integrate.quad(fun,0,L)\n",
      "\n",
      "print(\"\\n\\nRESULTS\\n\\n\")\n",
      "print(\"\\n\\nForce requiredto kep the door shut: \",Ft[0],\" lbf\\n\\n\")\n",
      "\n"
     ],
     "language": "python",
     "metadata": {},
     "outputs": [
      {
       "output_type": "stream",
       "stream": "stdout",
       "text": [
        "\n",
        "\n",
        "RESULTS\n",
        "\n",
        "\n",
        "('\\n\\nForce requiredto kep the door shut: ', 600.0, ' lbf\\n\\n')\n"
       ]
      }
     ],
     "prompt_number": 4
    },
    {
     "cell_type": "heading",
     "level": 2,
     "metadata": {},
     "source": [
      "Ex7-pg76"
     ]
    },
    {
     "cell_type": "code",
     "collapsed": false,
     "input": [
      "##Width of gate(in m):\n",
      "#calculate the orce requiredto kep the door shut and Force required to keep the gate at equilibrium\n",
      "import math\n",
      "import scipy\n",
      "from scipy import integrate\n",
      "w=5.;\n",
      "##Depth of water(in m):\n",
      "D=4.;\n",
      "##Density of water(in kg/m**3);\n",
      "d=999.;\n",
      "##Accelration deto gravity(in m/sec**2):\n",
      "g=9.81;\n",
      "##Value of a (in m):\n",
      "a=4.;\n",
      "##Point where force acts(in m):\n",
      "l=5.;\n",
      "##force at equilibrium##\n",
      "##Horizontal component of resultant force(in kN):\n",
      "Frh=0.5*d*g*w*D**2.\n",
      "##Line of action of Frh(in m):\n",
      "y1=0.5*D+w*D**3./12./(0.5*D)/(w*D)\n",
      "##Vertical component of resultant force(in kN):\n",
      "def fun(x):\n",
      "\ty=d*g*w*(D-math.sqrt(a*x))\n",
      "\treturn y\n",
      "Frv=scipy.integrate.quad(fun,0,D**2/a)\n",
      "##Line of acion of Frv(in m):\n",
      "def fun(x1):\n",
      "\tk=d*g*w/Frv[0]*x1*(D-math.sqrt(a*x1))\n",
      "\treturn k \n",
      "xa=scipy.integrate.quad(fun,0,D**2/a)\n",
      "y=xa[1]\n",
      "print'%s %.2e %s'%(\"\\n\\nForce requiredto kep the door shut: \",y,\" lbf\\n\\n\")\n",
      "##Force required to keep the gate in equilibrium(in kN):\n",
      "\n",
      "Fa=1./l*(xa[1]*Frv[0]+(D-y1)*Frh)\n",
      "print(\"RESULTS\")\n",
      "print'%s %.2f %s'%(\"Force required to keep the gate at equilibrium:  \",Fa/1000,\"\")\n"
     ],
     "language": "python",
     "metadata": {},
     "outputs": [
      {
       "output_type": "stream",
       "stream": "stdout",
       "text": [
        "\n",
        "\n",
        "Force requiredto kep the door shut:  1.33e-15  lbf\n",
        "\n",
        "\n",
        "RESULTS\n",
        "Force required to keep the gate at equilibrium:   104.54 \n"
       ]
      }
     ],
     "prompt_number": 2
    }
   ],
   "metadata": {}
  }
 ]
}