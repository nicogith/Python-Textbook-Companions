{
 "metadata": {
  "name": "",
  "signature": "sha256:802ab34bb99f44cedf57e936f0e130a301139414f721ca8991b0945e3aa9675d"
 },
 "nbformat": 3,
 "nbformat_minor": 0,
 "worksheets": [
  {
   "cells": [
    {
     "cell_type": "heading",
     "level": 1,
     "metadata": {},
     "source": [
      "Chapter10- Fluid Machinery"
     ]
    },
    {
     "cell_type": "heading",
     "level": 2,
     "metadata": {},
     "source": [
      "Ex1-pg495"
     ]
    },
    {
     "cell_type": "code",
     "collapsed": false,
     "input": [
      "import math\n",
      "#calculate the impeller and torque and power\n",
      "##Volume flow rate in gpm:\n",
      "Q= 150.;\n",
      "##Value of Vrb2 in ft/sec:\n",
      "Vrb2=10.;\n",
      "##Radius of outter impeller in inches:\n",
      "R2=2.;\n",
      "##Impeller Speed in rpm:\n",
      "w=3450.; \n",
      "##Density of air in slug/ft**3\n",
      "p=1.94;\n",
      "##input and power##\n",
      "\n",
      "##Impeller exit width b2(in feet):\n",
      "b2=Q*12./(2.*math.pi*R2*Vrb2*7.48*60.)\n",
      "##Torque of the Shaft, Tshaft(in ft-lbf):\n",
      "Tshaft=w*R2**2*p*Q*2.*math.pi/3600/7.48/144.\n",
      "##Power, Wm(in hp):\n",
      "Wm=w*Tshaft*2.*math.pi/60./550.\n",
      "print (\"RESULTS\")\n",
      "print'%s %.2f %s'% (\"Impeller exit width: \",b2,\" feet\")\n",
      "print'%s %.2f %s'% (\"Torque input: \",Tshaft,\" ft-lbf\")\n",
      "print'%s %.2f %s'% (\"Power: \",Wm,\" hp\")\n"
     ],
     "language": "python",
     "metadata": {},
     "outputs": [
      {
       "output_type": "stream",
       "stream": "stdout",
       "text": [
        "RESULTS\n",
        "Impeller exit width:  0.03  feet\n",
        "Torque input:  6.51  ft-lbf\n",
        "Power:  4.27  hp\n"
       ]
      }
     ],
     "prompt_number": 4
    },
    {
     "cell_type": "heading",
     "level": 2,
     "metadata": {},
     "source": [
      "Ex2-pg497"
     ]
    },
    {
     "cell_type": "code",
     "collapsed": false,
     "input": [
      "import math\n",
      "#calculate volume flow rate  and torque and power\n",
      "##Tip Diameter in metres:\n",
      "Dt=1.1;\n",
      "##Hub Diameter in metres:\n",
      "Dh=0.8;\n",
      "##Operating Speed in rpm:\n",
      "w=1200.;\n",
      "##Absolute inlet angle in degrees:\n",
      "alpha1=30.;\n",
      "##Blade inlet angle in degrees:\n",
      "betta1=30.; \n",
      "##Blade outlet angle in degrees:\n",
      "betta2=60.;\n",
      "##Density of air in kg/m**3\n",
      "p=1.23;\n",
      "##volume and power##\n",
      "\n",
      "U=0.5*(Dh+Dt)/2.*1200.*2.*math.pi/60.\n",
      "k=math.tan(alpha1/57.3)+(1./(math.cos(betta1/57.3))/(math.sin(betta1/57.3)))\n",
      "Vn1=U/k\n",
      "V1=Vn1/math.cos(alpha1/57.3)\n",
      "Vt1=V1*math.sin(alpha1/57.3)\n",
      "Vrb1=Vn1/math.sin(betta1/57.3)\n",
      "##Volume flow rate (in m**3/sec):\n",
      "Q=math.pi/4.*Vn1*(Dt**2.-Dh**2.)\n",
      "k=(U-Vn1*(1./(math.cos(betta1/57.3))/(math.sin(betta1/57.3))))\n",
      "k1=k/Vn1\n",
      "alpha2= math.tan(k)*57.3\n",
      "V2=Vn1/math.cos(alpha2/57.3)\n",
      "Vt2=V2*math.sin(alpha2/57.3)\n",
      "##Rotor Torque (in N-m):\n",
      "Tz=p*Q*(Dh+Dt)/4.*(Vt2-Vt1)\n",
      "##Power required (in W):\n",
      "Wm=w*2*math.pi/60.*Tz\n",
      "print (\"RESULTS\")\n",
      "print'%s %.2f %s'% (\"Volume flow rate: \",Q,\" m^3/sec\")\n",
      "print'%s %.2f %s'% (\"Rotor Torque: \",Tz,\" N-m\")\n",
      "print'%s %.2f %s'% (\"Power required: \",Wm,\" W\")\n"
     ],
     "language": "python",
     "metadata": {},
     "outputs": [
      {
       "output_type": "stream",
       "stream": "stdout",
       "text": [
        "RESULTS\n",
        "Volume flow rate:  9.26  m^3/sec\n",
        "Rotor Torque:  -164.33  N-m\n",
        "Power required:  -20649.89  W\n"
       ]
      }
     ],
     "prompt_number": 9
    },
    {
     "cell_type": "heading",
     "level": 2,
     "metadata": {},
     "source": [
      "Ex3-pg504"
     ]
    },
    {
     "cell_type": "code",
     "collapsed": false,
     "input": [
      "import math\n",
      "#calculate pump charstics\n",
      "import numpy\n",
      "%matplotlib inline\n",
      "import warnings\n",
      "warnings.filterwarnings('ignore')\n",
      "#Rate of flow in gm:\n",
      "Q=numpy.array([0, 500 ,800, 1000, 1100, 1200 ,1400, 1500]);\n",
      "#Suction pressure in psig:\n",
      "ps=numpy.array([ 0.65, 0.25 ,-0.35, -0.92, -1.24, -1.62, -2.42, -2.89]);\n",
      "#Discharge pressure in psig:\n",
      "pd=numpy.array([53.3, 48.3 ,42.3, 36.9, 33 ,27.8, 15.3, 7.3]);\n",
      "#Motor Current in amps:\n",
      "I=numpy.array([18, 26.2 ,31 ,33.9, 35.2, 36.3, 38 ,39]);\n",
      "#Acceleration due to gravity in ft/s^2:\n",
      "g=32.2;\n",
      "#Value of Zs in feet\n",
      "zs=1;\n",
      "#Density of air in slug/ft^3:\n",
      "px=1.94;\n",
      "#Value of ZD in feet:\n",
      "zd=3.;\n",
      "#Density of fluid in slug/ft^3:\n",
      "py=1000.;\n",
      "#Motor Efficiency:\n",
      "Effm=0.9;\n",
      "#Motor Supply in volts:\n",
      "E=460.;\n",
      "#Power Factor:\n",
      "PF=0.875;\n",
      "#Pump Power\n",
      "Q=numpy.linspace(0,1500,num=8);\n",
      "mQ=len(Q);\n",
      "ps=numpy.linspace(-2.89,0.65,num=8);\n",
      "mps=len(ps);\n",
      "p1=numpy.zeros(mps)\n",
      "p2=numpy.zeros(mps)\n",
      "\n",
      "Hp=numpy.zeros(mps)\n",
      "Wh=numpy.zeros(mps)\n",
      "pd=numpy.linspace(7.3,53.3,num=8);\n",
      "mpd=len(pd);\n",
      "p2=numpy.zeros(mpd)\n",
      "I=numpy.linspace(18,39,num=8)\n",
      "mI=len(I);\n",
      "Pin=numpy.zeros(mI)\n",
      "Effp=numpy.zeros(mI)\n",
      "#correct measured static pressures to he pump centreline p1, p2(in psig):\n",
      "for j in  range (1,mps):\n",
      "    p1[j]=ps[j]+px*g*zs/144.\n",
      "p2=numpy.zeros(mps)\n",
      "for j in  range (mpd):\n",
      "    p2[j]=pd[j]+px*g*zd/144.\n",
      "#The value of Pump head(in feet):\n",
      "p2=numpy.zeros(mps)\n",
      "for j1 in range (1,mps):\n",
      "    Hp[j]=p2[j1]-p1[j]/(px*g)*144.\n",
      "#Values of Hydraulic Power delivered(in hp):\n",
      "for j in range (1,mps):\n",
      "    Wh[j]=Q[j]*(p2[j]-p1[j])/(7.48/60)*(144./550.)\n",
      "#Values of motor power output(in hp):\n",
      "for j in range(1,mI):\n",
      "    Pin[j]=Effm*math.sqrt(3)*PF*E*I[j]/746.\n",
      "#Values of Pump Efficiecy:\n",
      "for j in range (1,mI):\n",
      "    Effp[j]= Wh[j]/Pin[j]*100.\n",
      "#Plotting pump characteristics:\n",
      "pyplot.plot(Q,Hp)\n",
      "pyplot.title('Pump Characteristics')\n",
      "pyplot.show()\n",
      "pyplot.plot(Q,Pin)\n",
      "pyplot.title('Pump Characteristics')\n",
      "pyplot.show\n",
      "pyplot.plot(Q,Effp)\n",
      "\n",
      "pyplot.title('Pump Characteristics')\n",
      "pyplot.show()\n",
      "#,'Volume flow rate(in gpm)',['Pump Efficincy(%)    ','   Pump Head(in feet)   ','    Pump Power input(in hp)   '])\n",
      "#legend('Hp','Pin','Effp')\n",
      "\n",
      "\n",
      "\n"
     ],
     "language": "python",
     "metadata": {},
     "outputs": [
      {
       "metadata": {},
       "output_type": "display_data",
       "png": "[encoded data removed]",
       "text": [
        "<matplotlib.figure.Figure at 0x5cf0530>"
       ]
      },
      {
       "metadata": {},
       "output_type": "display_data",
       "png": "[encoded data removed]",
       "text": [
        "<matplotlib.figure.Figure at 0x5caff50>"
       ]
      }
     ],
     "prompt_number": 33
    },
    {
     "cell_type": "heading",
     "level": 2,
     "metadata": {},
     "source": [
      "Ex6-pg518"
     ]
    },
    {
     "cell_type": "code",
     "collapsed": false,
     "input": [
      "import math\n",
      "#calculate specific speed\n",
      "##Head in Us customary units:\n",
      "Hus=21.9;\n",
      "##Volume flow rate in US customary units:\n",
      "Qus=300.;\n",
      "##Working seed in rpm:\n",
      "N=1170.;\n",
      "##Aceleration due to graviy in m/s**2\n",
      "g=9.81;\n",
      "##Specific and relation##\n",
      "\n",
      "##Specific speed in Us customary units:\n",
      "Nscu=N*Qus**0.5/Hus**0.75\n",
      "##Conversion to SI units:\n",
      "w=1170.*2.*math.pi/60.;\n",
      "Qsi=Qus/7.48/60*0.305**3.;\n",
      "Hsi=Hus*0.305;\n",
      "##Energy per unit mass is:\n",
      "h=g*Hsi;\n",
      "##Specific speed in SI units:\n",
      "Nssi=w*Qsi**0.5/h**0.75\n",
      "##Conversion to hertz:\n",
      "whz=N/60.;\n",
      "##Specific speed in European units:\n",
      "Nseu=whz*Qsi**0.5/65.5**0.75\n",
      "##Relation between specific speeds in Us customary units and European units:\n",
      "Conversionfactor1=Nscu/Nseu\n",
      "##Relation between specific speeds in Us customary units and SI units:\n",
      "Conversionfactor2=Nscu/Nssi\n",
      "print(\"RESULTS\")\n",
      "print'%s %.2f %s'% (\"Specific speed in US customary units: \",Nscu,\" \")\n",
      "print'%s %.2f %s'% (\"Specific speed in SI units: \",Nssi,\" \")\n",
      "print'%s %.2f %s'% (\"Specific speedin European units: \",Nseu,\" \")\n",
      "print'%s %.2f %s'% (\"Relation between specific speeds in Us customary units and European units: \",Conversionfactor1,\" \")\n",
      "print'%s %.2f %s'% (\"Relation between specific speeds in Us customary units and SI units: \",Conversionfactor2,\" \")\n"
     ],
     "language": "python",
     "metadata": {},
     "outputs": [
      {
       "output_type": "stream",
       "stream": "stdout",
       "text": [
        "RESULTS\n",
        "Specific speed in US customary units:  2001.77  \n",
        "Specific speed in SI units:  0.73  \n",
        "Specific speedin European units:  0.12  \n",
        "Relation between specific speeds in Us customary units and European units:  17162.31  \n",
        "Relation between specific speeds in Us customary units and SI units:  2732.28  \n"
       ]
      }
     ],
     "prompt_number": 10
    },
    {
     "cell_type": "heading",
     "level": 2,
     "metadata": {},
     "source": [
      "Ex7-pg522"
     ]
    },
    {
     "cell_type": "code",
     "collapsed": false,
     "input": [
      "import numpy\n",
      "import math\n",
      "#calculate relation b/w pump and head\n",
      "%matplotlib inline\n",
      "import warnings\n",
      "warnings.filterwarnings('ignore')\n",
      "import math\n",
      "\n",
      "from math import log\n",
      "import numpy\n",
      "##Volume flow rate(in gpm) at shut off condition for N1:\n",
      "Q1so=0.;\n",
      "##Volume flow(in gpm) rate at best efficiency for N1:\n",
      "Q1be=300.;\n",
      "##Head(in feet) at shut off condition for N1:\n",
      "H1so=25.;\n",
      "##Head(in feet) at best efficiency condition for N1:\n",
      "H1be=21.9\n",
      "##Operation Speed 1:\n",
      "N1=1170.;\n",
      "##Operation speed 2:\n",
      "N2=1750.;\n",
      "##Comparison of head##\n",
      "\n",
      "##Volume flow rate(in gpm) at shut off condition for N2:\n",
      "Q2so=N2/N1*Q1so\n",
      "##Volume flow(in gpm) rate at best efficiency for N2:\n",
      "Q2be=N2/N1*Q1be\n",
      "##Relation between pump heads:\n",
      "head_relation=(N2/N1)**2\n",
      "##Head(in feet) at shut off condition for N2:\n",
      "H2so=(N2/N1)**2*H1so\n",
      "##Head(in feet) at best efficiency condition for N2:\n",
      "H2be=(N2/N1)**2*H1be\n",
      "Q1=numpy.array([Q1so, Q1be]);\n",
      "Q2=numpy.array([Q2so, Q2be]);\n",
      "H1=numpy.array([H1so, H1be]);\n",
      "H2=numpy.array([H2so, H2be]);\n",
      "pyplot.plot(Q1,H1)\n",
      "pyplot.plot(Q2,H2)\n",
      "pyplot.title('Comparison of head for both conditions') \n",
      "\n"
     ],
     "language": "python",
     "metadata": {},
     "outputs": [
      {
       "metadata": {},
       "output_type": "pyout",
       "prompt_number": 11,
       "text": [
        "<matplotlib.text.Text at 0x5a80750>"
       ]
      },
      {
       "metadata": {},
       "output_type": "display_data",
       "png": "[encoded data removed]",
       "text": [
        "<matplotlib.figure.Figure at 0x32a82b0>"
       ]
      }
     ],
     "prompt_number": 11
    },
    {
     "cell_type": "heading",
     "level": 2,
     "metadata": {},
     "source": [
      "Ex8-pg525"
     ]
    },
    {
     "cell_type": "code",
     "collapsed": false,
     "input": [
      "##For 5 inch nominal pipe line, diameter D:\n",
      "import numpy\n",
      "import math\n",
      "import matplotlib\n",
      "from matplotlib import pyplot\n",
      "%matplotlib inline\n",
      "import warnings\n",
      "warnings.filterwarnings('ignore')\n",
      "#calculate suction head vs flow rate  and plot it \n",
      "Di=5.047;\n",
      "##Length of pipeline(in feet):\n",
      "L=6.;\n",
      "##Operatng spped (in rpm):\n",
      "N=1750.;\n",
      "##Water level abovepump centreline(in feet):\n",
      "h=3.5;\n",
      "##Temperature 1 of water(in Farenheit):\n",
      "T1=80.;\n",
      "##Temperature 2 of water (in Farenheit):\n",
      "T2=180.;\n",
      "##Volume flow rate of water(in gpm):\n",
      "Q=1000.;\n",
      "##Minor loss Coefficients:\n",
      "K=0.5; SE=30; OGV=8;\n",
      "##Atmospheric pressure(in lbf/in**2):\n",
      "patm=14.7;\n",
      "##Density of air(slug/ft**3):\n",
      "p=1.93;\n",
      "##Acceleration due to gravity(in ft/sec**2):\n",
      "g=32.2;\n",
      "##Head(in feet) due to vapor pressure of water for T =80F:\n",
      "Hv1=1.17;\n",
      "##Head(in feet) due to vapor pressure of water for T =180F:\n",
      "Hv2=17.3;\n",
      "##Kinematic viscosity of water at 80F:\n",
      "v=0.927e-5;\n",
      "##Value of discharges for plotting NPSHR(in gpm):\n",
      "Qh=numpy.array([500 ,700, 900, 1100, 1300])\n",
      "##Values of NPSHR obtained from Fig. D3 of appendix D:\n",
      "NPSHRp=numpy.array([7, 8, 9.5, 12, 16])\n",
      "##NPSHA and NPSHR## \n",
      "\n",
      "##Diameter of pipe (in feet):\n",
      "Df= Di/12.\n",
      "##Area of crossection of pipe(in ft**2):\n",
      "A=math.pi/4.*Df**2.\n",
      "##Velocity of flow(in ft/sec):\n",
      "V=Q/7.48/A/60.\n",
      "##For water at T=80F,viscosity=0.927e-5 ft**2/sec, Reynolds number:\n",
      "Re=V*Df/v\n",
      "##Friction loss Coefficient for this value of Re:\n",
      "f=0.0237;\n",
      "##For cast iron, roughness(in feet):\n",
      "e=0.00085\n",
      "##e/D is:\n",
      "e/Df\n",
      "##Total head loss(in feet):\n",
      "HL=K+f*(SE+OGV)+f*(L/Df)+1.\n",
      "##The heads are(in feet):\n",
      "H1=patm*144./(p*g)\n",
      "Vh=V**2./2./g\n",
      "##Suction head(in feet):\n",
      "Hs=H1+h-HL*Vh\n",
      "##NPSHA(in feet):\n",
      "NPSHA=Hs+Vh-Hv1\n",
      "##For a flow rate of 1000 gpm,NPSHR(in feet) for water at 80 F\n",
      "NPSHR=10. \n",
      "##PLOTTING NPSHA AND NPSHR VERSUS VOLUME FLOW RATE:\n",
      "##For 80 F\n",
      "Qp=numpy.linspace(0,1500,num=16);\n",
      "mQp=len(Qp);\n",
      "Vp=numpy.zeros(mQp)\n",
      "Vhp=numpy.zeros(mQp)\n",
      "Hs=numpy.zeros(mQp)\n",
      "NPSHAp1=numpy.zeros(mQp)\n",
      "NPSHAp2=numpy.zeros(mQp)\n",
      "for j in range (1,mQp):\n",
      "    Vp[j]=Qp[j]/(7.48*A*60.);\n",
      "    Vhp[j]=(Vp[j]**2./2.)/g;\n",
      "    Hs[j]=H1+h-HL*Vhp[j];\n",
      "\n",
      "for j in range (1,mQp):\n",
      "    NPSHAp1[j]=Hs[j]+(Vhp[j])-Hv1;\n",
      "\n",
      "pyplot.plot(Qp,NPSHAp1)\n",
      "\n",
      "pyplot.title('Suction head vs Flow rate')\n",
      "pyplot.show()\n",
      "pyplot.plot(Qh,NPSHRp)\n",
      "pyplot.title('Volume flow rate(gpm)')\n",
      "print(\"\\n\\nType (Resume) to continue or (abort) to end\\n\\n\")\n",
      "pyplot.legend('NPSHA','NPSHR')\n",
      "pyplot.show() \n",
      "\n",
      "\n",
      "##For 180 F\n",
      "for j in range (1,mQp):\n",
      "  NPSHAp2[j]=Hs[j]+(Vhp[j])-Hv2;\n",
      "pyplot.plot(Qp,NPSHAp2)\n",
      "pyplot.show()\n",
      "pyplot.title('Suction head vs Flow rate')\n",
      "pyplot.plot(Qh,NPSHRp)\n",
      "pyplot.title('Volume flow rate(gpm)')\n",
      "pyplot.legend('NPSHA','NPSHR')\n",
      "pyplot.show()\n",
      "print(\"\\n\\nRESULTS\\n\\n\")\n",
      "print(\"\\n\\nNPSHA at Q=1000 gpm of water at 80 F: %.2f ft\\n\\n\",NPSHA)\n",
      "print(\"\\n\\nNPSHR at Q=1000 gpm of water at 80 F: %.1f ft\\n\\n\",NPSHR)\n"
     ],
     "language": "python",
     "metadata": {},
     "outputs": [
      {
       "metadata": {},
       "output_type": "display_data",
       "png": "[encoded data removed]",
       "text": [
        "<matplotlib.figure.Figure at 0x3176630>"
       ]
      },
      {
       "output_type": "stream",
       "stream": "stdout",
       "text": [
        "\n",
        "\n",
        "Type (Resume) to continue or (abort) to end\n",
        "\n",
        "\n"
       ]
      },
      {
       "metadata": {},
       "output_type": "display_data",
       "png": "[encoded data removed]",
       "text": [
        "<matplotlib.figure.Figure at 0x74b7d10>"
       ]
      },
      {
       "metadata": {},
       "output_type": "display_data",
       "png": "[encoded data removed]",
       "text": [
        "<matplotlib.figure.Figure at 0x743dfd0>"
       ]
      },
      {
       "metadata": {},
       "output_type": "display_data",
       "png": "[encoded data removed]",
       "text": [
        "<matplotlib.figure.Figure at 0x7d4da70>"
       ]
      },
      {
       "output_type": "stream",
       "stream": "stdout",
       "text": [
        "\n",
        "\n",
        "RESULTS\n",
        "\n",
        "\n",
        "('\\n\\nNPSHA at Q=1000 gpm of water at 80 F: %.2f ft\\n\\n', 29.447152524872912)\n",
        "('\\n\\nNPSHR at Q=1000 gpm of water at 80 F: %.1f ft\\n\\n', 10.0)\n"
       ]
      }
     ],
     "prompt_number": 5
    },
    {
     "cell_type": "heading",
     "level": 2,
     "metadata": {},
     "source": [
      "Ex11-pg546"
     ]
    },
    {
     "cell_type": "code",
     "collapsed": false,
     "input": [
      "import numpy\n",
      "\n",
      "import math\n",
      "import matplotlib\n",
      "from matplotlib import pyplot\n",
      "%matplotlib inline\n",
      "import warnings\n",
      "warnings.filterwarnings('ignore')\n",
      "#calculate performance curve for give variables and plot it\n",
      "##Diameter of fan 1 (in inches):\n",
      "D1=36;\n",
      "##Operating speed of fan 1(in rpm):\n",
      "N1=600\n",
      "##Density of air used in fan 1(in lbm/ft**3):\n",
      "d1=0.075;\n",
      "##Diameter of fan 2(in inches):\n",
      "D2=42;\n",
      "##Operating speed of fan 2(in rpm):\n",
      "N2=1150;\n",
      "##Density of aif usd in fan 2(in lbm/ft**3):\n",
      "d2= 0.045;\n",
      "##The following values are obtained from the given graph\n",
      "##Values of volume flow rate(in cfm) through fan 1:\n",
      "Q1= numpy.array([0, 10000, 20000, 30000, 40000, 50000, 60000]);\n",
      "##Values of pressure( in inches of H2O):\n",
      "p1=numpy.array([ 3.68 ,3.75 ,3.50 ,2.96 ,2.12 ,1.02 ,0]);\n",
      "##Values of power(in hp):\n",
      "P1=numpy.array([ 11.1, 15.1 ,18.6 ,21.4 ,23.1 ,23.1, 21.0]);\n",
      "##Efficiency (in %):\n",
      "Eff=numpy.array([0, 37, 59, 65, 57 ,34 ,0]);\n",
      "Q1=numpy.linspace(0,60000,num=7);\n",
      "mQ= len(Q1);\n",
      "Q2=numpy.zeros(mQ)\n",
      "p1=numpy.linspace(0,3.7,num=7);\n",
      "mp= len(p1);\n",
      "p2=numpy.zeros(mp)\n",
      "P1=numpy.linspace(11.1,23.1,num=7);\n",
      "mP= len(P1);\n",
      "P2=numpy.zeros(mP)\n",
      "#Volume flow rate for fan 2(in cfm):\n",
      "for j in range (1, mQ):\n",
      "    Q2[j]=Q1[j]*(N2/N1)*(D2/D1)**3\n",
      "#Pressure values for fan 2(in inches of H2O):\n",
      "for j in range (1,mp):\n",
      "    p2[j]=p1[j]*(d2/d1)*((N2/N1)**2.)*((D2/D1)**2.)\n",
      "#Power values for fan 2(in hp):\n",
      "for j in range (1,mP):\n",
      "    P2[j]=P1[j]*(d2/d1)*((N2/N1)**3.)*((D2/D1)**5.)\n",
      "pyplot.plot(Q2,p2)\n",
      "pyplot.title('Performance curves')\n",
      "#,'Volume flow rate(in cfm)','Pressure head(in inches of water)')\n",
      "print(\"\\n\\nType (resume) to continue or (abort) to exit\\n\\n\")\n",
      "pyplot.show()\n",
      "pyplot.plot(Q2,P2)\n",
      "pyplot.title('Performance curves')\n",
      "#,'Volume flow rate(in cfm)','Power(in hp)')\n",
      "print(\"\\n\\nType (resume) to continue or (abort) to exit\\n\\n\")\n",
      "pyplot.show()\n",
      "pyplot.plot(Q2,Eff)\n",
      "pyplot.title('Performance curves')\n",
      "#,'Volume flow rate(in cfm)','Eficiency(in percentage)')\n",
      "#Specific speed of fan(in US customary units) at operating point:\n",
      "Nscu= 1150*110000**0.50*0.045**0.75/7.4**0.75\n",
      "#Specific speed of fan (in SI units) at operating point:\n",
      "Nssi=120*3110**0.5*0.721**0.75/1.84e3**0.75\n"
     ],
     "language": "python",
     "metadata": {},
     "outputs": []
    },
    {
     "cell_type": "heading",
     "level": 2,
     "metadata": {},
     "source": [
      "Ex12-pg552"
     ]
    },
    {
     "cell_type": "code",
     "collapsed": false,
     "input": [
      "##Operation speed(in rpm):\n",
      "#calculate volumeflow rate and torque and power required\n",
      "N=2000.;\n",
      "##Volume flow rate(in gpm):\n",
      "Q=20.;\n",
      "##Pressure(in psig):\n",
      "p=1500.;\n",
      "##Actual Pump Displacement(in##3/rev):\n",
      "va=5.9;\n",
      "##Volume flow rate at operating condition(in gpm):\n",
      "Qo=46.5;\n",
      "##Volume flow rate at maximum delivery(in gpm):\n",
      "Qe=48.5;\n",
      "##Pressure at operation condition(in psi):\n",
      "po1=1500.;\n",
      "##Efficiency of pump at operating condition:\n",
      "Effp=0.84;\n",
      "##Pressure at operating condition case 2(in psig):\n",
      "po2=3000.;\n",
      "##Power required##\n",
      "\n",
      "##From given graph, for maximum delivery condition, Q=48.5gpm.\n",
      "##Volume of oil per revolution delivered by the pump(in in##3/rev):\n",
      "vc=Qe/N*231.\n",
      "##Volumetric Effciency of pump at max flow:\n",
      "Effv=vc/va\n",
      "##Operating point of the pump is found to be at 1500 psig,Q=46.5gpm\n",
      "##Power delivered by the fluid(in hp):\n",
      "Pf=Qo*po1/(7.48/60.)*(44./550.)\n",
      "##Input power(in hp):\n",
      "Pi=Pf/Effp\n",
      "##The power delivered to the load(in hp):\n",
      "Pl=Q*(po1)/(7.48/60.)*(144./550.)\n",
      "##Power dissipated by throttling(in hp):\n",
      "Pd=Pf-Pl\n",
      "##The dissipation with the variable displacement pump(in hp):\n",
      "Pvd=Q*(po2-po1)/(7.48/60.)*(144./550.)\n",
      "##Power required for te load sensing pump if pump pressure is 100psi above that required by the load(in hp):\n",
      "Pls=Q*100/(7.48/60)*(144./550.)\n",
      "print(\"RESULTS\")\n",
      "print'%s %.2f %s'% (\"Volume of oil per revolution delivered by the pump: \",vc,\" in**3/rev\")\n",
      "print'%s %.2f %s'% (\"Required pump power input: \",Pi,\" hp\")\n",
      "print'%s %.2f %s'% (\"Power deliverd to the load: \",Pl,\" hp\")\n",
      "print'%s %.2f %s'% (\"Power dissipated by throttling: \",Pd,\" hp\")\n",
      "print'%s %.2f %s'% (\"The dissipation with the variable displacement pump: \",Pvd,\" hp\")\n",
      "print'%s %.2f %s'% (\"Power required for te load sensing pump if pump pressure is 100psi above that required by the load: \",Pls,\" hp\")\n"
     ],
     "language": "python",
     "metadata": {},
     "outputs": [
      {
       "output_type": "stream",
       "stream": "stdout",
       "text": [
        "RESULTS\n",
        "Volume of oil per revolution delivered by the pump:  5.60  in**3/rev\n",
        "Required pump power input:  53284.95  hp\n",
        "Power deliverd to the load:  63004.38  hp\n",
        "Power dissipated by throttling:  -18245.02  hp\n",
        "The dissipation with the variable displacement pump:  63004.38  hp\n",
        "Power required for te load sensing pump if pump pressure is 100psi above that required by the load:  4200.29  hp\n"
       ]
      }
     ],
     "prompt_number": 3
    },
    {
     "cell_type": "heading",
     "level": 2,
     "metadata": {},
     "source": [
      "Ex14-pg558"
     ]
    },
    {
     "cell_type": "code",
     "collapsed": false,
     "input": [
      "import math\n",
      "#calculate the operating speed of propeller and single speed power propeller\n",
      "##Total propulsion power requirement(in MW):\n",
      "P=11.4;\n",
      "##From the given curves,Value of coefficients atoptimum efficiency are as follows:\n",
      "##Speed of advance coefficient:\n",
      "J=0.85;\n",
      "##Thrust Coefficient:\n",
      "Cf=0.1;\n",
      "##Torque Coefficint:\n",
      "Ct=0.02;\n",
      "##Efficiency:\n",
      "Eff=0.66;\n",
      "##Velocity of ship(in m/sec):\n",
      "V=6.69;\n",
      "##Density of water(in kg/m**3):\n",
      "p=1025.;\n",
      "##propeller##\n",
      "##Propeller Thrust(in MN) :\n",
      "Ft=P/V\n",
      "##Required power input  to the propeller(in MW):\n",
      "Pin=P/Eff\n",
      "##Calculating value of D(in m):\n",
      "nD=V/J\n",
      "D=(Ft*10**6./p/(nD)**2./Cf)**0.5\n",
      "##Operating speed (in rpm) is given by:\n",
      "n=nD/D*60.\n",
      "print (\"RESULTS\")\n",
      "print'%s %.2f %s'% (\"Diameter of the single propeller required to pwer the ship:\",D,\" m\")\n",
      "print'%s %.2f %s'% (\"Operating speed of the propeller: \",n,\" rpm\")\n"
     ],
     "language": "python",
     "metadata": {},
     "outputs": [
      {
       "output_type": "stream",
       "stream": "stdout",
       "text": [
        "RESULTS\n",
        "Diameter of the single propeller required to pwer the ship: 16.38  m\n",
        "Operating speed of the propeller:  28.83  rpm\n"
       ]
      }
     ],
     "prompt_number": 4
    },
    {
     "cell_type": "heading",
     "level": 2,
     "metadata": {},
     "source": [
      "Ex16-pg569"
     ]
    },
    {
     "cell_type": "code",
     "collapsed": false,
     "input": [
      "import math\n",
      "#calculate the Tip speed ratio of windmill and Actual Thrust\n",
      "##Diameter of windmill(in m):\n",
      "D=26.;\n",
      "##Operating speed(in rpm):\n",
      "N=20.;\n",
      "##Wind speed(in km/hr):\n",
      "V=36.;\n",
      "##Power Output(in W):\n",
      "Po=41000.;\n",
      "##Maximum efficiency occurs in following conditions:\n",
      "##Efficiency:\n",
      "Eff=0.593;\n",
      "##Inteference Factor:\n",
      "a=1./3.;\n",
      "##Density of air(in kg/m**3):\n",
      "p=1.23;\n",
      "##Actual##\n",
      "\n",
      "##Tip speed ratio of windmill:\n",
      "X=N*2.*math.pi/60.*D/2./(V*5./18.)\n",
      "##Accounting for whirl,max attainable efficiency is:\n",
      "Efw=0.53;\n",
      "##Kinetic energy flux(in W) is given by:\n",
      "KEF=0.5*p*(V*5./18.)**3.*math.pi*(D/2.)**2.\n",
      "##Actual Efficiency:\n",
      "Effa=Po/KEF\n",
      "##The maximum possible thrust occurs for an interference factor of:\n",
      "amax=0.5;\n",
      "##Thrust(in W):\n",
      "Kx=p*(V*5./18.)**2.*math.pi*(D/2.)**2.*2.*amax*(1-amax)\n",
      "print(\"RESULTS\")\n",
      "print'%s %.2f %s'% (\"Tip speed ratio of windmill:\",X,\"\")\n",
      "print'%s %.2f %s'% (\"Actual Efficiency: \",Effa,\"\")\n",
      "print'%s %.2f %s'% (\"Actual Thrust: \",Kx,\" W\")\n"
     ],
     "language": "python",
     "metadata": {},
     "outputs": [
      {
       "output_type": "stream",
       "stream": "stdout",
       "text": [
        "RESULTS\n",
        "Tip speed ratio of windmill: 2.72 \n",
        "Actual Efficiency:  0.13 \n",
        "Actual Thrust:  32652.14  W\n"
       ]
      }
     ],
     "prompt_number": 5
    }
   ],
   "metadata": {}
  }
 ]
}