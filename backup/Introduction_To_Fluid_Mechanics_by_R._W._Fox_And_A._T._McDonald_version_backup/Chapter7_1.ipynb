{
 "metadata": {
  "name": "",
  "signature": "sha256:d76c41d554ddc2db4b47ac59f43f0a2b0cd02f3411a610a04d0e60ac26258287"
 },
 "nbformat": 3,
 "nbformat_minor": 0,
 "worksheets": [
  {
   "cells": [
    {
     "cell_type": "heading",
     "level": 1,
     "metadata": {},
     "source": [
      "Chapter7-Dimensional Analysis and Simlitude"
     ]
    },
    {
     "cell_type": "heading",
     "level": 2,
     "metadata": {},
     "source": [
      "Ex4-pg288"
     ]
    },
    {
     "cell_type": "code",
     "collapsed": false,
     "input": [
      "import math\n",
      "#calculateTest speed in air: and Drag force on prototype\n",
      "##Diameter of the prototype(in ft):\n",
      "Dp=1.;\n",
      "##Speed of towing of prototype(in knots):\n",
      "Vp=5.;\n",
      "##Diameter of model(in inches):\n",
      "Dm=6.;\n",
      "##Drag for model at test condition(in lbf):\n",
      "Fm=5.58;\n",
      "##Density of seawater at 5 C  for prototype(in slug/ft**3):\n",
      "dp=1.99;\n",
      "##Kinematic viscosity at 5 C for prototype(in ft**2/sec):\n",
      "vp=1.69*10**-5;\n",
      "##Density of air at STP for model(in slug/ft**3):\n",
      "dm=0.00238;\n",
      "##Kinematic viscosity of air at STP for model(in ft**2/sec):\n",
      "vm=1.57*10**-4;\n",
      "##speed and force##\n",
      "##Velocity of prototype in ft/sec\n",
      "Vp1=Vp*6080./3600.\n",
      "##Reynolds number of prototype:\n",
      "Rep=Vp1*Dp/vp\n",
      "##Rep=Rem\n",
      "##Therefore:\n",
      "Rem=Rep;\n",
      "##Velocity of air for wind tunnel(in ft/sec):\n",
      "Vm=Rem*vm/(Dm/12.)\n",
      "##Drag force on prototype(in lbf):\n",
      "Fp=Fm*(dp/dm)*(Vp1/Vm)**2.*(Dp/(Dm/12.))**2\n",
      "print(\"RESULTS\")\n",
      "print'%s %.2f %s'%(\"Test speed in air: \",Vm,\" ft/sec\")\n",
      "print'%s %.2f %s'%(\"Drag force on prototype: \",Fp,\" lbf\")\n"
     ],
     "language": "python",
     "metadata": {},
     "outputs": [
      {
       "output_type": "stream",
       "stream": "stdout",
       "text": [
        "RESULTS\n",
        "Test speed in air:  156.90  ft/sec\n",
        "Drag force on prototype:  54.06  lbf\n"
       ]
      }
     ],
     "prompt_number": 1
    },
    {
     "cell_type": "heading",
     "level": 2,
     "metadata": {},
     "source": [
      "Ex5-pg294"
     ]
    },
    {
     "cell_type": "code",
     "collapsed": false,
     "input": [
      "import math\n",
      "#calculate Drag Force and Power required to pull prototype at 100 kmph\n",
      "import numpy\n",
      "%matplotlib inline\n",
      "\n",
      "import warnings\n",
      "warnings.filterwarnings('ignore')\n",
      "##Width of the prototype(in ft):\n",
      "wp=8.;\n",
      "##Frontal area of the prototype(in ft**2):\n",
      "Ap=84.;\n",
      "##Model Scale:\n",
      "S=1./16.;\n",
      "##Density of air(in kg/m**3):\n",
      "d=1.23;\n",
      "##Air speed in wind tunnel(in m/sec):\n",
      "V=numpy.array([18, 21.8, 26, 30.1, 35, 38.5, 40.9, 44.1, 46.7]);\n",
      "##Drag force(in N):\n",
      "Fd=numpy.array([3.1, 4.41, 6.09, 7.97, 10.7, 12.9 ,14.7, 16.9, 18.9]);\n",
      "##Kinematic viscosity(in m**2/sec):\n",
      "v=1.46*10**-5;\n",
      "##Density of air(in kg/m**3):\n",
      "d=1.23;\n",
      "##Speed of prototype(in km/hr):\\\n",
      "Vp=100.;\n",
      "##speed force and power##\n",
      "##Width of the model(in m):\n",
      "wm=S*wp*0.3048\n",
      "##Area of model (in m**2):\n",
      "Am=S**2.*Ap*(0.305)**2\n",
      "V=numpy.linspace(18.,46.7,num=9)\n",
      "n=len(V);\n",
      "Cd=numpy.zeros(n)\n",
      "Re=numpy.zeros(n)\n",
      "for i in range (1,n):\n",
      "    Cd[i]=((2.*Fd[i])/d)/((V[i]**2.)/0.0305)\n",
      "    Re[i]=(V[i]*wm)/v\n",
      "##Reynolds number:\n",
      "\n",
      "pyplot.plot(Re,Cd);\n",
      "a=gca()\n",
      "a.data_bounds=numpy.matrix([[100000,0.4],[500000,0.6]])\n",
      "pyplot.title('Aerodynamic drag coefficient vs drag force')\n",
      "##It is seen that drag coefficient becomes constant at CD=0.46above Re=4*10**5 at which speed of air is 40m/s\n",
      "CDc=0.46;\n",
      "Va=40;\n",
      "##Drag force (in N):\n",
      "FDp=CDc/2*d*(Vp*5/18)**2*Ap*0.305**2\n",
      "##Power required to pull prototype at 100 kmph(in W)\n",
      "Pp=FDp*Vp*5/18\n",
      "print(\"RESULTS\")\n",
      "print'%s %.2f %s'%(\"Speed above which Cd is constant: \",Va,\" m/sec\")\n",
      "print'%s %.2f %s'%(\"Drag Force: \",FDp/1000,\" kN\")\n",
      "print'%s %.2f %s'%(\"Power required to pull prototype at 100 kmph: \",Pp/1000,\" kWb\")\n"
     ],
     "language": "python",
     "metadata": {},
     "outputs": [
      {
       "output_type": "stream",
       "stream": "stdout",
       "text": [
        "RESULTS\n",
        "Speed above which Cd is constant:  40.00  m/sec\n",
        "Drag Force:  1.71  kN\n",
        "Power required to pull prototype at 100 kmph:  47.38  kWb\n"
       ]
      },
      {
       "metadata": {},
       "output_type": "display_data",
       "png": "[encoded data removed]",
       "text": [
        "<matplotlib.figure.Figure at 0x6b76470>"
       ]
      }
     ],
     "prompt_number": 7
    },
    {
     "cell_type": "heading",
     "level": 2,
     "metadata": {},
     "source": [
      "Ex6-pg297"
     ]
    },
    {
     "cell_type": "code",
     "collapsed": false,
     "input": [
      "import math\n",
      "#calculate Volume flow rate at condition 2 nd and Specific speed at condition 2\n",
      "##Efficinc of pump:\n",
      "Effp=0.8;\n",
      "##Design specific speed(in rpm):\n",
      "Nscu1=2000.;\n",
      "##Impeller diameter(in inches):\n",
      "D1=8.;\n",
      "##Opertion sped at esign point flow condition(in rpm):\n",
      "N1=1170.;\n",
      "##Flow rate at design point flow condition(in gpm):\n",
      "Q1=300.;\n",
      "##Density of water (in slug/ft**3):\n",
      "d1=1.94;\n",
      "##Acceleration due to gravity(in ft**2/sec):\n",
      "g=32.2;\n",
      "##Working speed 2(in rpm):\n",
      "N2=1750.;\n",
      "##power and speed##\n",
      "##The same pump is used for both the conditions.Hence:\n",
      "D2=D1;\n",
      "##The same water is used for both the conditions. Hence:\n",
      "d2=d1;\n",
      "##Flow rate at condition 2(in gpm):\n",
      "Q2=Q1*N2/N1*(D2/D1)**3.\n",
      "##Head at condition 1(in ft):\n",
      "H1=(N1*math.sqrt(Q1)/Nscu1)**(4./3.)\n",
      "##Head at condition 1(in ft):\n",
      "H2=H1*(N2/N1)**2.*(D2/D1)**2.\n",
      "##Pump output power at condition 1(in hp):\n",
      "P1=d1*g*Q1*H1/7.48/60./550.\n",
      "##Pump output power at condition 2(in hp):\n",
      "P2=P1*(d2/d1)*(N2/N1)**3.*(D2/D1)**5.\n",
      "##Required input power(in hp):\n",
      "Pin=P2/Effp\n",
      "##Specific speed at condition 2:\n",
      "Nscu2=N2*math.sqrt(Q2)/H2**(3./4.)\n",
      "print(\"RESULTS\\n\")\n",
      "print'%s %.2f %s'%(\"Volume flow rate at condition 2: \",Q2,\" gpm\\n\")\n",
      "print'%s %.2f %s'%(\"Head at condition: \",H2,\" ft\\n\")\n",
      "print'%s %.2f %s'%(\"Pump output power at condition: \",P2,\" hp\\n\")\n",
      "print'%s %.2f %s'%(\"Required input power: \",Pin,\" hp\\n\")\n",
      "print'%s %.2f %s'%(\"Specific speed at condition 2: \",Nscu2,\"\\n\")\n"
     ],
     "language": "python",
     "metadata": {},
     "outputs": [
      {
       "output_type": "stream",
       "stream": "stdout",
       "text": [
        "RESULTS\n",
        "\n",
        "Volume flow rate at condition 2:  448.72  gpm\n",
        "\n",
        "Head at condition:  49.05  ft\n",
        "\n",
        "Pump output power at condition:  5.57  hp\n",
        "\n",
        "Required input power:  6.96  hp\n",
        "\n",
        "Specific speed at condition 2:  2000.00 \n",
        "\n"
       ]
      }
     ],
     "prompt_number": 8
    }
   ],
   "metadata": {}
  }
 ]
}