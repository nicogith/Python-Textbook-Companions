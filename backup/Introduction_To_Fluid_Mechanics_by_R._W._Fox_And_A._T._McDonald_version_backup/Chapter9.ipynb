{
 "metadata": {
  "name": "",
  "signature": "sha256:2b78f76d8849b42efab192bd8eedf9fd54359222afef62761169f1dc5116a9bc"
 },
 "nbformat": 3,
 "nbformat_minor": 0,
 "worksheets": [
  {
   "cells": [
    {
     "cell_type": "heading",
     "level": 1,
     "metadata": {},
     "source": [
      "Chapter9- External Incompressible Viscous Flow"
     ]
    },
    {
     "cell_type": "heading",
     "level": 2,
     "metadata": {},
     "source": [
      "Ex1-pg414"
     ]
    },
    {
     "cell_type": "code",
     "collapsed": false,
     "input": [
      "import math\n",
      "##Lengh of side of the test section(in mm):\n",
      "L=305.;\n",
      "##Freesteam speed at section 1(in m/sec):\n",
      "U1=26.;\n",
      "##Displacement thickness at section 1(in mm):\n",
      "d1=1.5;\n",
      "##Displacment thickness at section 2(in mm):\n",
      "d2=2.1;\n",
      "##static pressure##\n",
      "#Change in static pressure between sections 1 and 2:\n",
      "C=(((L-2.*d1)/(L-2.*d2))**4.-1)*100.;\n",
      "print(\"RESULTS\")\n",
      "print'%s %.2f %s'%(\"Change in static pressure between the sections 1 and 2: \",C,\" percent \")\n"
     ],
     "language": "python",
     "metadata": {},
     "outputs": [
      {
       "output_type": "stream",
       "stream": "stdout",
       "text": [
        "RESULTS\n",
        "Change in static pressure between the sections 1 and 2:  1.61  percent \n"
       ]
      }
     ],
     "prompt_number": 1
    },
    {
     "cell_type": "heading",
     "level": 2,
     "metadata": {},
     "source": [
      "Ex4-pg428"
     ]
    },
    {
     "cell_type": "code",
     "collapsed": false,
     "input": [
      "import math\n",
      "import scipy\n",
      "from scipy import integrate\n",
      "##Veocity of flow(in m/sec):\n",
      "U=1.;\n",
      "##Length of flat plate(in m):\n",
      "L=1.;\n",
      "##Density of water(in kg/m**3):\n",
      "d=999.;\n",
      "##Kinematic viscosity of water(in m**2/sec):\n",
      "v=10**-6.;\n",
      "##Displacement thickness and stress##\n",
      "#Reynolds number:\n",
      "ReL=U*L/v\n",
      "##FOR TURBULENT FLOW\n",
      "##Disturbance thickness(in m):\n",
      "dL1=0.382/ReL**0.2*L\n",
      "##Displacement thickness(in m):\n",
      "def fun(n):\n",
      "    y=dL1*(1.-n**(1./7.))\n",
      "    return y\n",
      "dl1=scipy.integrate.quad(fun,0,1)\n",
      "\n",
      "##Skin friction coefficient:\n",
      "Cf1=0.0594/ReL**0.2\n",
      "##Wall shear stress(in N/m**2):\n",
      "tw1=Cf1*0.5*d*U**2\n",
      "##For LAMINAR FLOW:\n",
      "##Disturbance thickness(in m)\n",
      "dL2=5./math.sqrt(ReL)*L\n",
      "##Displacement thickness(in m):\n",
      "dl2=0.344*dL2\n",
      "##Skin friction coefficient:\n",
      "Cf2=0.664/math.sqrt(ReL)\n",
      "##Wall shear stress(in N/m**2):\n",
      "tw2=Cf2*0.5*d*U**2\n",
      "##COMPARISON OF VALUES WITH LAMINAR FLOW\n",
      "##Disturbance thickness\n",
      "D=dL1/dL2\n",
      "##Displacement thickness\n",
      "DS=dl1[0]/dl2\n",
      "##Wall shear stress\n",
      "WSS=tw1/tw2\n",
      "print(\"RESULTS\")\n",
      "print'%s %.2f %s'%(\"Disturbace thickness: \",dL1,\" m\")\n",
      "print'%s %.2f %s'%(\"Displacement thickness: \",dl1[0],\" m\")\n",
      "print'%s %.2f %s'%(\"Wall shear stress: \",tw1,\" N/m^2\")\n",
      "print(\"COMPARISON WIH LAMINAR FLOW\\n\")\n",
      "print'%s %.2f %s'%(\" Disturbance thicknes: \",D,\" \")\n",
      "print'%s %.2f %s'%(\"Displacement thickness: \",DS,\"\")\n",
      "print'%s %.2f %s'%(\"Wall shear stress: \",WSS,\" \")\n"
     ],
     "language": "python",
     "metadata": {},
     "outputs": [
      {
       "output_type": "stream",
       "stream": "stdout",
       "text": [
        "RESULTS\n",
        "Disturbace thickness:  0.02  m\n",
        "Displacement thickness:  0.00  m\n",
        "Wall shear stress:  1.87  N/m^2\n",
        "COMPARISON WIH LAMINAR FLOW\n",
        "\n",
        " Disturbance thicknes:  4.82  \n",
        "Displacement thickness:  1.75 \n",
        "Wall shear stress:  5.64  \n"
       ]
      }
     ],
     "prompt_number": 12
    },
    {
     "cell_type": "heading",
     "level": 2,
     "metadata": {},
     "source": [
      "Ex5-pg436"
     ]
    },
    {
     "cell_type": "code",
     "collapsed": false,
     "input": [
      "import math\n",
      "##Length of the supertanker(in m):\n",
      "L=360.;\n",
      "##Width of supertanker(in m):\n",
      "W=70.;\n",
      "##Draft of the supertanker(in m):\n",
      "D=50.;\n",
      "##Cruising speed in water(in knots):\n",
      "s=13.;\n",
      "##Kinematic viscosity at 10 C\n",
      "v=1.37*10**-6;\n",
      "##Density of sea water(in kg/m^3):\n",
      "d=1020.;\n",
      "##force and power##\n",
      "##Speed in m/s:\n",
      "U=s*6076.*0.305/3600.\n",
      "##Reynolds number:\n",
      "Re=U*L/v\n",
      "##Drag coefficient:\n",
      "Cd=0.455/math.log10(Re)**2.58-1610./Re\n",
      "##Area(in m^2):\n",
      "A=L*(W+D)\n",
      "##Drag force(in N)\n",
      "Fd=Cd*A*0.5*d*U**2\n",
      "##Power required to overcome skin friction drag(in W):\n",
      "P=Fd*U\n",
      "print(\"RESULTS\")\n",
      "print'%s %.2f %s'%(\"Drag force:\",Fd,\" N\")\n",
      "print'%s %.2f %s'%(\"Power required to overcome skin friction drag: \",P,\" W\")\n"
     ],
     "language": "python",
     "metadata": {},
     "outputs": [
      {
       "output_type": "stream",
       "stream": "stdout",
       "text": [
        "RESULTS\n",
        "Drag force: 1444953.76  N\n",
        "Power required to overcome skin friction drag:  9669686.75  W\n"
       ]
      }
     ],
     "prompt_number": 13
    },
    {
     "cell_type": "heading",
     "level": 2,
     "metadata": {},
     "source": [
      "Ex6-pg442"
     ]
    },
    {
     "cell_type": "code",
     "collapsed": false,
     "input": [
      "##Diameter of chimney(in m):\n",
      "D=1.;\n",
      "##Height of chimney(in m):\n",
      "L=25.;\n",
      "##Speed of wind(in kmph):\n",
      "s=50.;\n",
      "##Density of air(in kg/m^3):\n",
      "d=1.23;\n",
      "##Viscosity of air(in kg/(m-s)):\n",
      "u=1.79*10**-5;\n",
      "##Pressure(in kPa):\n",
      "p=101.;\n",
      "\n",
      "##Bending moment##\n",
      "##filename=pathname+filesep()+'9.06-data.sci'\n",
      "#exec(filename)\n",
      "##Velocity in m/sec:\n",
      "V=s*5./18.\n",
      "##Reynolds number:\n",
      "Re=d*V*D/u\n",
      "##Value of Cd is obtained as:\n",
      "Cd=0.35;\n",
      "##Area(in m^2):\n",
      "A=L**2;\n",
      "##Moment about the chimney base(in N-m):\n",
      "M0=Cd*A*D/4.*d*V**2\n",
      "print(\"RESULTS\")\n",
      "print'%s %.2f %s'%(\"Bending moment at the bottom of the chimney: \",M0,\" N-m\")\n",
      "\n"
     ],
     "language": "python",
     "metadata": {},
     "outputs": [
      {
       "output_type": "stream",
       "stream": "stdout",
       "text": [
        "RESULTS\n",
        "Bending moment at the bottom of the chimney:  12975.62  N-m\n"
       ]
      }
     ],
     "prompt_number": 14
    },
    {
     "cell_type": "heading",
     "level": 2,
     "metadata": {},
     "source": [
      "Ex7-pg443"
     ]
    },
    {
     "cell_type": "code",
     "collapsed": false,
     "input": [
      "##Weight of the dragster(in lbf):\n",
      "w=1600.;\n",
      "##Speed of dragster(in mph):\n",
      "s1=270.;\n",
      "##Area of drag chute(in ft^2):\n",
      "A=25.;\n",
      "##Speed of dragster after deceleraton(in mph):\n",
      "s2=100.;\n",
      "##Acceleration due to gravity(in ft/sec^2):\n",
      "g=32.2;\n",
      "##Density of air(in slug/ft^3):\n",
      "d=0.00238;\n",
      "##Value of coefficient of drag:\n",
      "Cd=1.42;\n",
      "##Time required##\n",
      "#pathname=get_absolute_file_path('9.07.sce')\n",
      "#filename=pathname+filesep()+'9.07-data.sci'\n",
      "#exec(filename)\n",
      "##Time required to decelerate to 100 mph(in seconds):\n",
      "t=(s1-s2)*2.*w/(s1*s2)/Cd/d/A/g*3600./5280.\n",
      "print(\"RESULTS\")\n",
      "print'%s %.2f %s'%(\"Time required to decelerate to 100 mph: \",t,\" seconds\")\n"
     ],
     "language": "python",
     "metadata": {},
     "outputs": [
      {
       "output_type": "stream",
       "stream": "stdout",
       "text": [
        "RESULTS\n",
        "Time required to decelerate to 100 mph:  5.05  seconds\n"
       ]
      }
     ],
     "prompt_number": 15
    },
    {
     "cell_type": "heading",
     "level": 2,
     "metadata": {},
     "source": [
      "Ex8-pg458"
     ]
    },
    {
     "cell_type": "code",
     "collapsed": false,
     "input": [
      "import numpy\n",
      "%matplotlib inline\n",
      "\n",
      "import warnings\n",
      "warnings.filterwarnings('ignore')\n",
      "import math\n",
      "import matplotlib\n",
      "from matplotlib import pyplot\n",
      "##Wing area(in ft^2):\n",
      "A=1600.;\n",
      "##Aspect ratio:\n",
      "ar=6.5;\n",
      "##Groos weight of aircraft(in lbf):\n",
      "W=150000.;\n",
      "##Coefficient of drag at zero lift :\n",
      "Cd0=0.0182;\n",
      "##Sonic speed at sea level(in mph):\n",
      "c=759.;\n",
      "##Density of air(in slug/ft^3):\n",
      "p=0.00238;\n",
      "##Srall speed at sea level(in mph):\n",
      "Vssl=175.;\n",
      "\n",
      "##Optimum cruise speed##\n",
      "#pathname=get_absolute_file_path('9.08.sce')\n",
      "#filename=pathname+filesep()+'9.08-data.sci'\n",
      "#exec(filename)\n",
      "##Plotting velocity with drag force\n",
      "V=numpy.linspace(175,455,num=12);\n",
      "\n",
      "n=len(V);\n",
      "CL=numpy.zeros(n)\n",
      "Cd=numpy.zeros(n)\n",
      "Fd=numpy.zeros(n)\n",
      "FD=numpy.zeros(n)\n",
      "for i in range(1,n):\n",
      "  CL[i]=2*W/p*(3600/V[i]/5280.)**2/A;\n",
      "  Cd[i]=Cd0+CL[i]**2/math.pi/ar;\n",
      "  Fd[i]=Cd[i]/CL[i]*W;\n",
      "  FD[i]=Fd[i]/1000;\n",
      "pyplot.plot(V,FD)\n",
      "pyplot.title('Flight speed vs thrust')\n",
      "##Optimum cuise speed at speed level is obtained to be 320 mph from the graph.\n",
      "Vosl=320.;\n",
      "##Ratio of speeds at 30000 ft and at sea level is given by:\n",
      "r=math.sqrt(1./0.375);\n",
      "##Stall speed at 30000ft is(in mph):\n",
      "Vs3=Vssl*r;\n",
      "##Optimum Cruise speed at 30000ft(in mph):\n",
      "Vo3=Vosl*r;\n",
      "print(\"RESULTS\")\n",
      "print'%s %.2f %s'%(\"Optimum cruise speed at sea level: \",Vosl,\" mph\")\n",
      "print'%s %.2f %s'%(\"Stall speed at 30000 ft: \",Vs3,\" mph\")\n",
      "print'%s %.2f %s'%(\"Optimum cruise speed at 30000 ft: \",Vo3,\"\")\n"
     ],
     "language": "python",
     "metadata": {},
     "outputs": [
      {
       "output_type": "stream",
       "stream": "stdout",
       "text": [
        "RESULTS\n",
        "Optimum cruise speed at sea level:  320.00  mph\n",
        "Stall speed at 30000 ft:  285.77  mph\n",
        "Optimum cruise speed at 30000 ft:  522.56 \n"
       ]
      },
      {
       "metadata": {},
       "output_type": "display_data",
       "png": "[encoded data removed]",
       "text": [
        "<matplotlib.figure.Figure at 0x6e66bd0>"
       ]
      }
     ],
     "prompt_number": 1
    },
    {
     "cell_type": "heading",
     "level": 2,
     "metadata": {},
     "source": [
      "Ex9-pg462"
     ]
    },
    {
     "cell_type": "code",
     "collapsed": false,
     "input": [
      "import math\n",
      "##Mass of the tennis ball(in grams):\n",
      "m=57.;\n",
      "##Diameter ofthe ball (in mm):\n",
      "D=64.;\n",
      "##Velocity with which te ball is hit(in m/s):\\\n",
      "V=25.;\n",
      "##Topspin given on the ball(in rpm):\n",
      "N=7500.;\n",
      "##Acceleration due to gravity(in m/s^2):\n",
      "g=9.81;\n",
      "##Kinematic viscosity(in m^2/s):\n",
      "v=1.46*10**-5\n",
      "##Desity of air(in kg/m^3):\n",
      "d=1.23;\n",
      "\n",
      "##Reynolds number:\n",
      "##Value of wD/2V:\n",
      "W=0.5*N*D/1000./V*2*math.pi/60.\n",
      "Red=V*D/v;\n",
      "##For this value, CL is obtained as:\n",
      "CL=0.3;\n",
      "##Aerodynamic lift(in N):\n",
      "FL=math.pi/8.*CL*(D/1000.)**2.*d*V**2;\n",
      "##Radius of curvature of the path in the vertical plane(in m) with topspin:\n",
      "Rts=V**2./(g+FL/(m/1000.));\n",
      "##Radius of curvature without topspin(in m):\n",
      "Rwts=V**2./g;\n",
      "print(\"RESULTS\")\n",
      "print'%s %.2f %s'%(\"Aerodynamic lift acting on the ball:\",FL,\" N\")\n",
      "print'%s %.2f %s'%(\"Radius of curvature of the path when ball has topspin:\",Rts,\" m\")\n",
      "print'%s %.2f %s'%(\"Radius of curvature of the path when ball has topspin: \",Rwts,\" m\")\n"
     ],
     "language": "python",
     "metadata": {},
     "outputs": [
      {
       "output_type": "stream",
       "stream": "stdout",
       "text": [
        "RESULTS\n",
        "Aerodynamic lift acting on the ball: 0.37  N\n",
        "Radius of curvature of the path when ball has topspin: 38.30  m\n",
        "Radius of curvature of the path when ball has topspin:  63.71  m\n"
       ]
      }
     ],
     "prompt_number": 17
    }
   ],
   "metadata": {}
  }
 ]
}