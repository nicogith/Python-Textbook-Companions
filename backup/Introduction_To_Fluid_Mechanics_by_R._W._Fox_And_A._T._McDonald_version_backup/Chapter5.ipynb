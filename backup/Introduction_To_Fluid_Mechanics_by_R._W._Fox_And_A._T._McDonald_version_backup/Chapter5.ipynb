{
 "metadata": {
  "name": "",
  "signature": "sha256:c6e2d196edaa8793663cc899810af049af83543670c62efe72d65cf39f90b331"
 },
 "nbformat": 3,
 "nbformat_minor": 0,
 "worksheets": [
  {
   "cells": [
    {
     "cell_type": "heading",
     "level": 1,
     "metadata": {},
     "source": [
      "Chapter5-Introducton to Di\u000b",
      "\n",
      "erential Analysis of Fluid Motion"
     ]
    },
    {
     "cell_type": "heading",
     "level": 2,
     "metadata": {},
     "source": [
      "Ex2-pg188"
     ]
    },
    {
     "cell_type": "code",
     "collapsed": false,
     "input": [
      "##Distance f piston from closed end of the cylinder at the give instant(in m):\n",
      "#calculate Rate of change of density with time\n",
      "L=0.15;\n",
      "##Density of gas(in kg/m**3):\n",
      "d=18.;\n",
      "##Velocity of piston(in m/sec):\n",
      "V=12.;\n",
      "##Rate of change##\n",
      "##Rate of change of density with time(in kg/m**3-s):\n",
      "r=-d*V/L\n",
      "print(\"RESULTS\")\n",
      "print'%s %.2f %s'%(\"Rate of change of density with time: \",r,\" kg/m^3-s\")\n"
     ],
     "language": "python",
     "metadata": {},
     "outputs": [
      {
       "output_type": "stream",
       "stream": "stdout",
       "text": [
        "RESULTS\n",
        "Rate of change of density with time:  -1440.00  kg/m^3-s\n"
       ]
      }
     ],
     "prompt_number": 2
    },
    {
     "cell_type": "heading",
     "level": 2,
     "metadata": {},
     "source": [
      "Ex7-pg209"
     ]
    },
    {
     "cell_type": "code",
     "collapsed": false,
     "input": [
      "import math\n",
      "#calculate \"Rate of angular deformation and Rate of rotation\n",
      "#Value of (in mm/sec):\n",
      "U=4.;\n",
      "##Value of h(in mm):\n",
      "h=4.;\n",
      "##Tme at which to find position(in sec):\n",
      "t=1.5;\n",
      "\n",
      "##angular and rotation##\n",
      "##At point b, u=3 mm/sec\n",
      "u=3.;\n",
      "##Displacemet of b(in mm):\n",
      "xb=u*t\n",
      "##Rate of angular deformation(in s**-1):\n",
      "D=U/h\n",
      "##Rate of rotation(in s**-1):\n",
      "rot=-0.5*U/h\n",
      "print(\"RSULTS\")\n",
      "print'%s %.2f %s'%(\"Rate of angular deformation:\",D,\" /sec\")\n",
      "print'%s %.2f %s'%(\"Rate of rotation: \",rot,\" /sec\")\n"
     ],
     "language": "python",
     "metadata": {},
     "outputs": [
      {
       "output_type": "stream",
       "stream": "stdout",
       "text": [
        "RSULTS\n",
        "Rate of angular deformation: 1.00  /sec\n",
        "Rate of rotation:  -0.50  /sec\n"
       ]
      }
     ],
     "prompt_number": 3
    },
    {
     "cell_type": "heading",
     "level": 1,
     "metadata": {},
     "source": [
      "Ex8-pg 210"
     ]
    },
    {
     "cell_type": "code",
     "collapsed": false,
     "input": [
      "##Value of A(in sec**-1):\n",
      "#calculate Rates of linear deformation in X and Y direction:  Rate of volume dilation\n",
      "A=0.3;\n",
      "import numpy\n",
      "import math\n",
      "import matplotlib\n",
      "from matplotlib import pyplot\n",
      "%matplotlib inline\n",
      "import warnings\n",
      "from math import log\n",
      "warnings.filterwarnings('ignore')\n",
      "##Rates and area##\n",
      "\n",
      "##Value of T:\n",
      "T=math.log(3./2.)/A\n",
      "x0=numpy.linspace(1,2,num=3);\n",
      "i=len(x0)\n",
      "X=numpy.zeros(i)\n",
      "\n",
      "for i in range (1,2):\n",
      "     X[i]=x0[i]*math.e**(A*T)\n",
      "y0=numpy.linspace(1,2,num=3);\n",
      "j=len(y0)\n",
      "Y=numpy.zeros(j)\n",
      "for j in range(1,2):\n",
      "    Y[i]=y0[j]*math.e**(-A*T)\n",
      "##For X coordinate:\n",
      "##For Y coordinate:\n",
      "\n",
      "pyplot.plot(X,Y)\n",
      "##Rates of linear deformation in X direction:\n",
      "Ax=0.3;\n",
      "##Rate of linear deformation in the y direction:\n",
      "Ay=-0.3;\n",
      "##Rate of volume dilation(s**-1):\n",
      "v=A-A\n",
      "##Area of abcd:\n",
      "A1=1.;\n",
      "##Area of a'b'c'd':\n",
      "A2=(3.-3./2.)*(4./3.-2./3.)\n",
      "print(\"RESULTS\")\n",
      "print\"%s %.2f %s %.2f %s \"%(\"Rates of linear deformation in X and Y direction: \",Ax,\" /s\"and \"\",Ay,\" /s\")\n",
      "print\"%s %.2f %s\"%(\"Rate of volume dilation: \",v,\" /sec\") \n",
      "print\"%s %.2f %s %.2f %s \"%(\"Area of abcd and a,b,c,d:\",A1,\" m^2\"and\" \",A2,\" m^2\")\n"
     ],
     "language": "python",
     "metadata": {},
     "outputs": [
      {
       "output_type": "stream",
       "stream": "stdout",
       "text": [
        "RESULTS\n",
        "Rates of linear deformation in X and Y direction:  0.30  -0.30  /s \n",
        "Rate of volume dilation:  0.00  /sec\n",
        "Area of abcd and a,b,c,d: 1.00   1.00  m^2 \n"
       ]
      },
      {
       "metadata": {},
       "output_type": "display_data",
       "png": "[encoded data removed]",
       "text": [
        "<matplotlib.figure.Figure at 0x707b7d0>"
       ]
      }
     ],
     "prompt_number": 6
    },
    {
     "cell_type": "heading",
     "level": 2,
     "metadata": {},
     "source": [
      "Ex9-pg215"
     ]
    },
    {
     "cell_type": "code",
     "collapsed": false,
     "input": [
      "import math\n",
      "#Volume flow rate\n",
      "##Thickness of water film(in mm):\n",
      "h=1.;\n",
      "##Width of surface(in m):\n",
      "b=1.;\n",
      "##Angle of inclination of surface:\n",
      "theta=15.;\n",
      "##Density of water(in kg/m**3):\n",
      "d=999.;\n",
      "##Acceleration du to gravity(in m/sec**2):\n",
      "g=9.81;\n",
      "##Viscosity(kg/m-s):\n",
      "u=10**-3.;##Volume flow rate##\n",
      "##Volume flow rate(in m**3/sec):\n",
      "Q=d*g*math.sin(theta/57.3)*b*(h/1000.)**3.*1000./u/3.\n",
      "print(\"RESULTS\")\n",
      "print'%s %.2f %s'%(\"Volume flow rate: \",Q,\" m^3/sec\")\n"
     ],
     "language": "python",
     "metadata": {},
     "outputs": [
      {
       "output_type": "stream",
       "stream": "stdout",
       "text": [
        "RESULTS\n",
        "Volume flow rate:  0.85  m^3/sec\n"
       ]
      }
     ],
     "prompt_number": 7
    }
   ],
   "metadata": {}
  }
 ]
}