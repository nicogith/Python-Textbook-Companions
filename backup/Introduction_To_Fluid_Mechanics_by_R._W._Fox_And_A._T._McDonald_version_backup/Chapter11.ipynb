{
 "metadata": {
  "name": "",
  "signature": "sha256:9894faf39017402b0ba9b51005fe6fc3cede8c66be5f73e0b70f2530beab3683"
 },
 "nbformat": 3,
 "nbformat_minor": 0,
 "worksheets": [
  {
   "cells": [
    {
     "cell_type": "heading",
     "level": 1,
     "metadata": {},
     "source": [
      "Chapter11-Introduction to Compressible Flow"
     ]
    },
    {
     "cell_type": "heading",
     "level": 2,
     "metadata": {},
     "source": [
      "Ex1-pg594"
     ]
    },
    {
     "cell_type": "code",
     "collapsed": false,
     "input": [
      "import math\n",
      "#calculate the Duct Area,Change in enthalpy of air,Change in entropy\n",
      "##Temperature of air entering the cold section(in K):\n",
      "T1=440.;\n",
      "##Absolute pressure of air entering the cold section(in kPa):\n",
      "p1=188.;\n",
      "##Velocity of air entering the cold section(in m/sec):\n",
      "V1=210.;\n",
      "##Temperature of air at outlet:(in K)\n",
      "T2=351.;\n",
      "##Absolute pressure of air at outlet(in kPa):\n",
      "p2=213.;\n",
      "##Rate of heat loss in the section(in kJ/sec):\n",
      "##Gas Constant(in N-m):\n",
      "R= 287.;\n",
      "##Mass flow rate of air(in kg/sec):\n",
      "m=0.15;\n",
      "##Specific heat at constant pressue(in kJ/(kg-K)):\n",
      "cp=1.;\n",
      "##Specific energy at constant volume(in kJ/(kg-K)):\n",
      "cv=0.717;\n",
      "##Change##\n",
      "\n",
      "##Density of air at entry:\n",
      "d1=p1*10**3./R/T1\n",
      "##Area(in m**2):\n",
      "A=m/d1/V1\n",
      "##Change in enthalpy of air(in kJ/kg):\n",
      "dh=cp*(T2-T1)\n",
      "##Change in internal energy of air(in kJ/kg):\n",
      "du=cv*(T2-T1)\n",
      "##Change in entropy(in kJ/(kg-K)):\n",
      "ds=cp*math.log(T2/T1)-R/1000.*math.log(p2/p1)\n",
      "print(\"RESULTS\")\n",
      "print'%s %.4f %s'%(\"Duct Area: \",A,\" m^2\")\n",
      "print'%s %.2f %s'%(\"Change in enthalpy of air: \",dh,\" kJ/kg\")\n",
      "print'%s %.2f %s'%(\"Change in internal energy of air:\",du,\" kJ/kg\")\n",
      "print'%s %.2f %s'%(\"Change in entropy: \",ds,\" kg-K\")\n"
     ],
     "language": "python",
     "metadata": {},
     "outputs": [
      {
       "output_type": "stream",
       "stream": "stdout",
       "text": [
        "RESULTS\n",
        "Duct Area:  0.0005  m^2\n",
        "Change in enthalpy of air:  -89.00  kJ/kg\n",
        "Change in internal energy of air: -63.81  kJ/kg\n",
        "Change in entropy:  -0.26  kg-K\n"
       ]
      }
     ],
     "prompt_number": 4
    },
    {
     "cell_type": "heading",
     "level": 2,
     "metadata": {},
     "source": [
      "Ex3-pg600"
     ]
    },
    {
     "cell_type": "code",
     "collapsed": false,
     "input": [
      "##Value of k:\n",
      "#calculate Variation of sound speed with altitude\n",
      "import numpy\n",
      "%matplotlib inline\n",
      "\n",
      "import warnings\n",
      "warnings.filterwarnings('ignore')\n",
      "import math\n",
      "import matplotlib\n",
      "from matplotlib import pyplot\n",
      "k=1.4;\n",
      "##Gas Constant(in Kj/(kg-K)):\n",
      "R=287.;\n",
      "##Speed of sound##\n",
      "import math\n",
      "##Values of altitude(in m):\n",
      "Al=numpy.linspace(0,15000,num=16)\n",
      "mAl=len(Al);\n",
      "##Values of temperature at given altitudes(in K):\n",
      "T=numpy.array([288.2, 281.7, 275.2, 268.7, 262.2, 255.7, 249.2, 242.7, 236.2, 229.7, 223.3 ,216.8, 216.7, 216.7, 216.7, 216.7]); \n",
      "mT=len(T);##Values of speed of sound at these altitudes(in m/sec):\n",
      "c=numpy.zeros(mT)\n",
      "C1=numpy.zeros(mT)\n",
      "for j in range (0,mT):\n",
      "    c[j]=math.sqrt(k*R*T[j]);##Speed of sound at sea level(in m/sec):\n",
      "    C1[j]=math.sqrt(k*R*T[0]);\n",
      "\n",
      "print len(c) \n",
      "pyplot.plot(c,Al)\n",
      "pyplot.title('Variation of sound speed with altitude')\n",
      "\n"
     ],
     "language": "python",
     "metadata": {},
     "outputs": [
      {
       "output_type": "stream",
       "stream": "stdout",
       "text": [
        "16\n"
       ]
      },
      {
       "metadata": {},
       "output_type": "pyout",
       "prompt_number": 5,
       "text": [
        "<matplotlib.text.Text at 0x72a9b30>"
       ]
      },
      {
       "metadata": {},
       "output_type": "display_data",
       "png": "[encoded data removed]",
       "text": [
        "<matplotlib.figure.Figure at 0x731a2f0>"
       ]
      }
     ],
     "prompt_number": 5
    },
    {
     "cell_type": "heading",
     "level": 2,
     "metadata": {},
     "source": [
      "Ex4-pg607"
     ]
    },
    {
     "cell_type": "code",
     "collapsed": false,
     "input": [
      "import math\n",
      "#calculate Stagnation pressure at entry, and exit ,Temperature at exit,Change in entropy\n",
      "##Pressure at entry(in kPa):\n",
      "p1=350.;\n",
      "##Temperature at entry(in K)\n",
      "T1=333.;\n",
      "##Velocity at entry(in m/s):\n",
      "V1=183.;\n",
      "##Mach no. at exit:\n",
      "M2=1.3;\n",
      "##Stagnation pressure at exit(in kPa):\n",
      "p02=385.;\n",
      "##Stagnation temperature at exit(in K):\n",
      "T02=350.;\n",
      "##Value of k:\n",
      "k=1.4;\n",
      "##Gas constant(in N-m/kg-K)\n",
      "R=287.;\n",
      "##Specific heat at constant pressure(kJ/(kg-K):\n",
      "cp=1.;\n",
      "##pressure and change##\n",
      "\n",
      "##Mach number at entry:\n",
      "M1=V1/math.sqrt(k*R*T1)\n",
      "##Stagnation pressure at entry(in kPa):\n",
      "p01=p1*(1.+(k-1.)/2.*M1**2.)**(k/(k-1.))\n",
      "##Stagnation temperature at entry(in K):\n",
      "T01=T1*(1.+(k-1.)/2.*M1**2.)\n",
      "##Static pressure at exit(in kPa):\n",
      "p2=p02/(1.+(k-1.)/2.*M2**2.)**(k/(k-1.))\n",
      "##Temperature at exit(in K):\n",
      "T2=T02/(1.+(k-1.)/2*M2**2.)\n",
      "##Change in entropy(in kJ/kg-K):\n",
      "ds=cp*math.log(T2/T1)-R/1000.*math.log(p2/p1)\n",
      "print(\"RESULTS\")\n",
      "print'%s %.2f %s'%(\"Stagnation pressure at entry: \",p01,\" kPa\")\n",
      "print'%s %.2f %s'%(\"Stagnation temperature at entry: \",T01,\" K\")\n",
      "print'%s %.2f %s'%(\"Static pressure at exit: \",p2,\" kPa\")\n",
      "print'%s %.2f %s'%(\"Temperature at exit: \",T2,\" K\")\n",
      "print'%s %.2f %s'%(\"Change in entropy: \",ds,\" kJ/kg-K\")\n"
     ],
     "language": "python",
     "metadata": {},
     "outputs": [
      {
       "output_type": "stream",
       "stream": "stdout",
       "text": [
        "RESULTS\n",
        "Stagnation pressure at entry:  415.26  kPa\n",
        "Stagnation temperature at entry:  349.67  K\n",
        "Static pressure at exit:  138.95  kPa\n",
        "Temperature at exit:  261.58  K\n",
        "Change in entropy:  0.02  kJ/kg-K\n"
       ]
      }
     ],
     "prompt_number": 2
    }
   ],
   "metadata": {}
  }
 ]
}