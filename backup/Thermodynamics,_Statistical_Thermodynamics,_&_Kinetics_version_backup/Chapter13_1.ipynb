{
 "metadata": {
  "name": "",
  "signature": "sha256:78db264f9210996c6e59dc097dbc6696221fac03055a9d5ba5033673d3e33c9f"
 },
 "nbformat": 3,
 "nbformat_minor": 0,
 "worksheets": [
  {
   "cells": [
    {
     "cell_type": "heading",
     "level": 1,
     "metadata": {},
     "source": [
      "Chapter 13: Boltzmann Distribution"
     ]
    },
    {
     "cell_type": "heading",
     "level": 2,
     "metadata": {},
     "source": [
      "Example Problem 13.1, Page Number 309"
     ]
    },
    {
     "cell_type": "code",
     "collapsed": false,
     "input": [
      "from math import factorial\n",
      "\n",
      "#Variable Declaration\n",
      "\n",
      "aH = 40         #Number of heads\n",
      "N = 100         #Total events\n",
      "\n",
      "#Calculations\n",
      "aT = 100 - aH\n",
      "We = factorial(N)/(factorial(aT)*factorial(aH))\n",
      "Wexpected = factorial(N)/(factorial(N/2)*factorial(N/2))\n",
      "\n",
      "#Results\n",
      "print 'The observed weight %5.2e compared to %5.2e'%(We,Wexpected)"
     ],
     "language": "python",
     "metadata": {},
     "outputs": [
      {
       "output_type": "stream",
       "stream": "stdout",
       "text": [
        "The observed weight 1.37e+28 compared to 1.01e+29\n"
       ]
      }
     ],
     "prompt_number": 2
    },
    {
     "cell_type": "heading",
     "level": 2,
     "metadata": {},
     "source": [
      "Example Problem 13.2, Page Number 310"
     ]
    },
    {
     "cell_type": "code",
     "collapsed": false,
     "input": [
      "from sympy import *\n",
      "\n",
      "#Varialbe declaration\n",
      "n = 10000       #Total number of particles\n",
      "\n",
      "\n",
      "#Calcualtions\n",
      "def ster(i):\n",
      "    return i*log(i)-i\n",
      "\n",
      "n1, n2, n3, W = symbols('n1 n2 n3 W',positive=True)\n",
      "\n",
      "n2 = 5000 - 2*n3\n",
      "n1 = 10000 - n2 -n3\n",
      "logW = ster(n) - ster(n1) - ster(n2) - ster(n3) \n",
      "fun = diff(logW, n3)\n",
      "dfun = diff(fun, n3)\n",
      "x0 = 10.0\n",
      "err = 1.0\n",
      "while err>0.001:\n",
      "    f = fun.subs(n3,x0)\n",
      "    df = dfun.subs(n3,x0)\n",
      "    xnew = x0 - f/df\n",
      "    err = abs(x0-xnew)/x0\n",
      "    x0 = xnew\n",
      "\n",
      "x0 = int(x0)\n",
      "N2 = n2.subs(n3,x0)\n",
      "N3 = x0\n",
      "n1 = n1.subs(n3,x0)\n",
      "N1 = n1.subs(n2,N2)\n",
      "lnW = logW.subs(n3,N3)\n",
      "\n",
      "#Results\n",
      "print 'At maximum value of ln(W)'\n",
      "print 'Values of N1 : %4d, N2: %4d and N3: %4d '%(N1, N2,N3)\n",
      "print 'Maximum value of ln(W)= %6d'%lnW"
     ],
     "language": "python",
     "metadata": {},
     "outputs": [
      {
       "output_type": "stream",
       "stream": "stdout",
       "text": [
        "At maximum value of ln(W)\n",
        "Values of N1 : 6162, N2: 2676 and N3: 1162 \n",
        "Maximum value of ln(W)=   9012\n"
       ]
      }
     ],
     "prompt_number": 15
    },
    {
     "cell_type": "heading",
     "level": 2,
     "metadata": {},
     "source": [
      "Example Problem 13.3, Page Number 314"
     ]
    },
    {
     "cell_type": "code",
     "collapsed": false,
     "input": [
      "#Variable Declaration\n",
      "p0 = 0.633        #Probabilities of Energy level 1,2,3 \n",
      "p1 = 0.233\n",
      "p2 = 0.086\n",
      "\n",
      "#Calculation\n",
      "p4 = 1. -(p0+p1+p2)\n",
      "\n",
      "#Results\n",
      "print 'Probability of finding an oscillator at energy level of n>3 is %4.3f i.e.%4.1f percent'%(p4,p4*100)"
     ],
     "language": "python",
     "metadata": {},
     "outputs": [
      {
       "output_type": "stream",
       "stream": "stdout",
       "text": [
        "Probability of finding an oscillator at energy level of n>3 is 0.048 i.e. 4.8 percent\n"
       ]
      }
     ],
     "prompt_number": 8
    },
    {
     "cell_type": "heading",
     "level": 2,
     "metadata": {},
     "source": [
      "Example Problem 13.4, Page Number 315"
     ]
    },
    {
     "cell_type": "code",
     "collapsed": false,
     "input": [
      "#Variable Declaration\n",
      "p0 = 0.394        #Probabilities of Energy level 1,2,3 \n",
      "p1by2 = 0.239\n",
      "p2 = 0.145\n",
      "\n",
      "#Calculation\n",
      "p4 = 1. -(p0+p1by2+p2)\n",
      "\n",
      "#Results\n",
      "print 'Probability of finding an oscillator at energy level of n>3 is %4.3f'%(p4)"
     ],
     "language": "python",
     "metadata": {},
     "outputs": [
      {
       "output_type": "stream",
       "stream": "stdout",
       "text": [
        "Probability of finding an oscillator at energy level of n>3 is 0.222\n"
       ]
      }
     ],
     "prompt_number": 10
    },
    {
     "cell_type": "heading",
     "level": 2,
     "metadata": {},
     "source": [
      "Example Problem 13.5, Page Number 321"
     ]
    },
    {
     "cell_type": "code",
     "collapsed": false,
     "input": [
      "from math import exp\n",
      "\n",
      "#Variable Declaration\n",
      "I2 = 208         #Vibrational frequency, cm-1 \n",
      "T = 298          #Molecular Temperature, K\n",
      "c = 3.00e10      #speed of light, cm/s\n",
      "h = 6.626e-34    #Planks constant, J/K\n",
      "k = 1.38e-23     #Boltzman constant, J/K\n",
      "#Calculation\n",
      "q = 1./(1.-exp(-h*c*I2/(k*T)))\n",
      "p2 = exp(-2*h*c*I2/(k*T))/q\n",
      "\n",
      "#Results\n",
      "print 'Partition function is %4.3f'%(q)\n",
      "print 'Probability of occupying the second vibrational state n=2 is %4.3f'%(p2)"
     ],
     "language": "python",
     "metadata": {},
     "outputs": [
      {
       "output_type": "stream",
       "stream": "stdout",
       "text": [
        "Partition function is 1.577\n",
        "Probability of occupying the second vibrational state n=2 is 0.085\n"
       ]
      }
     ],
     "prompt_number": 16
    },
    {
     "cell_type": "heading",
     "level": 2,
     "metadata": {},
     "source": [
      "Example Problem 13.6, Page Number 322"
     ]
    },
    {
     "cell_type": "code",
     "collapsed": false,
     "input": [
      "#Variable Declaration\n",
      "B = 1.45         #Magnetic field streangth, Teslas \n",
      "T = 298          #Molecular Temperature, K\n",
      "c = 3.00e10      #speed of light, cm/s\n",
      "h = 6.626e-34    #Planks constant, J/K\n",
      "k = 1.38e-23     #Boltzman constant, J/K \n",
      "gnbn = 2.82e-26  #J/T\n",
      "#Calculation\n",
      "ahpbyahm = exp(-gnbn*B/(k*T))\n",
      "\n",
      "#Results\n",
      "print 'Occupation Number is %7.6f'%(ahpbyahm)\n"
     ],
     "language": "python",
     "metadata": {},
     "outputs": [
      {
       "output_type": "stream",
       "stream": "stdout",
       "text": [
        "Occupation Number is 0.999990\n"
       ]
      }
     ],
     "prompt_number": 18
    }
   ],
   "metadata": {}
  }
 ]
}