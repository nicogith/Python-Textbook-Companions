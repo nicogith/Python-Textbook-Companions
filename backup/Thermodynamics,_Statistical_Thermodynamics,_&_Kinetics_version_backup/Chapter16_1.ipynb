{
 "metadata": {
  "name": "",
  "signature": "sha256:e4f3286f01de06b8e633d17405a3c84337f344a5c6fc5eb4c6bbd0b064d6eee8"
 },
 "nbformat": 3,
 "nbformat_minor": 0,
 "worksheets": [
  {
   "cells": [
    {
     "cell_type": "heading",
     "level": 1,
     "metadata": {},
     "source": [
      "Chapter 16: Kinetic Theory of Gases"
     ]
    },
    {
     "cell_type": "heading",
     "level": 2,
     "metadata": {},
     "source": [
      "Example Problem 16.2, Page Number 400"
     ]
    },
    {
     "cell_type": "code",
     "collapsed": false,
     "input": [
      "from math import sqrt\n",
      "\n",
      "#Variable Declaration\n",
      "R = 8.314         #Ideal Gas Constant, J/(mol.K)\n",
      "T = 298           #Temperatureof Gas, K\n",
      "MNe = 0.020       #Molecular wt of Ne, kg/mol\n",
      "MKr = 0.083       #Molecular wt of Kr, kg/mol\n",
      "\n",
      "#Calculations\n",
      "vmpNe = sqrt(2*R*T/MNe)\n",
      "vmpKr = sqrt(2*R*T/MKr)\n",
      "\n",
      "#Results\n",
      "print 'Most probable speed of Ne and Krypton at 298 K are %4.0f, %4.0f m/s'%(vmpNe,vmpKr)\n"
     ],
     "language": "python",
     "metadata": {},
     "outputs": [
      {
       "output_type": "stream",
       "stream": "stdout",
       "text": [
        "Most probable speed of Ne and Krypton at 298 K are  498,  244\n"
       ]
      }
     ],
     "prompt_number": 3
    },
    {
     "cell_type": "heading",
     "level": 2,
     "metadata": {},
     "source": [
      "Example Problem 16.2, Page Number 401"
     ]
    },
    {
     "cell_type": "code",
     "collapsed": false,
     "input": [
      "from math import sqrt,pi\n",
      "\n",
      "#Variable Declaration\n",
      "R = 8.314         #Ideal Gas Constant, J/(mol.K)\n",
      "T = 298           #Temperatureof Gas, K\n",
      "M = 0.040         #Molecular wt of Ar, kg/mol\n",
      "\n",
      "\n",
      "#Calculations\n",
      "vmp = sqrt(2*R*T/M)\n",
      "vave = sqrt(8*R*T/(M*pi))\n",
      "vrms = sqrt(3*R*T/M)\n",
      "\n",
      "#Results\n",
      "print 'Maximum, average, root mean square speed of Ar\\nat 298 K are %4.0f, %4.0f, %4.0f m/s'%(vmp,vave,vrms)"
     ],
     "language": "python",
     "metadata": {},
     "outputs": [
      {
       "output_type": "stream",
       "stream": "stdout",
       "text": [
        "Maximum, average, root mean square speed of Ar\n",
        "at 298 K are  352,  397,  431 m/s\n"
       ]
      }
     ],
     "prompt_number": 3
    },
    {
     "cell_type": "heading",
     "level": 2,
     "metadata": {},
     "source": [
      "Example Problem 16.4, Page Numbe 403"
     ]
    },
    {
     "cell_type": "code",
     "collapsed": false,
     "input": [
      "from math import sqrt,pi\n",
      "\n",
      "#Variable Declaration\n",
      "R = 8.314         #Ideal Gas Constant, J/(mol.K)\n",
      "T = 298           #Temperature of Gas, K\n",
      "M = 0.040         #Molecular wt of Ar, kg/mol\n",
      "P = 101325        #Pressure, N/m2\n",
      "NA = 6.022e23     #Number of particles per mol\n",
      "V = 1.0           #Volume of Container, L\n",
      "\n",
      "#Calculations\n",
      "Zc = P*NA/sqrt(2*pi*R*T*M)\n",
      "Nc = Zc*A\n",
      "#Results\n",
      "print 'Number of Collisions %4.2e  per s'%(Nc)"
     ],
     "language": "python",
     "metadata": {},
     "outputs": [
      {
       "output_type": "stream",
       "stream": "stdout",
       "text": [
        "Number of Collisions 2.45e+27  per s\n"
       ]
      }
     ],
     "prompt_number": 7
    },
    {
     "cell_type": "heading",
     "level": 2,
     "metadata": {},
     "source": [
      "Example Problem 16.5, Page Number 404"
     ]
    },
    {
     "cell_type": "code",
     "collapsed": false,
     "input": [
      "from math import sqrt, pi\n",
      "\n",
      "#Variable Declaration\n",
      "R = 8.314         #Ideal Gas Constant, J/(mol.K)\n",
      "T = 298           #Temperature of Gas, K\n",
      "M = 0.040         #Molecular wt of Ar, kg/mol\n",
      "P0 = 1013.25      #Pressure, N/m2\n",
      "NA = 6.022e23     #Number of particles per mol\n",
      "V = 1.0           #Volume of Container, L\n",
      "k = 1.38e-23      #Boltzmann constant, J/K\n",
      "t = 3600          #time of effusion, s\n",
      "A = 0.01          #Area, um2\n",
      "\n",
      "#Calculations\n",
      "A = A*1e-12\n",
      "V = V*1e-3\n",
      "expo = (A*t/V)*(k*T/(2*pi*M/NA))\n",
      "P = P0*exp(-expo)\n",
      "#Results\n",
      "print 'Pressure after 1 hr of effusion is %4.3e Pa'%(P/101325)"
     ],
     "language": "python",
     "metadata": {},
     "outputs": [
      {
       "output_type": "stream",
       "stream": "stdout",
       "text": [
        "Pressure after 1 hr of effusion is 1.00e-02 Pa\n"
       ]
      }
     ],
     "prompt_number": 12
    },
    {
     "cell_type": "heading",
     "level": 2,
     "metadata": {},
     "source": [
      "Example Problem 16.6, Page Number 407"
     ]
    },
    {
     "cell_type": "code",
     "collapsed": false,
     "input": [
      "from math import sqrt, pi\n",
      "\n",
      "#Variable Declaration\n",
      "R = 8.314         #Ideal Gas Constant, J/(mol.K)\n",
      "T = 298           #Temperature of Gas, K\n",
      "M = 0.044         #Molecular wt of CO2, kg/mol\n",
      "P  = 101325       #Pressure, N/m2\n",
      "NA = 6.022e23     #Number of particles per mol\n",
      "sigm = 5.2e-19    #m2\n",
      "\n",
      "#Calculations\n",
      "zCO2 = (P*NA/(R*T))*sigm*sqrt(2)*sqrt(8*R*T/(pi*M)) \n",
      "#Results\n",
      "print 'Single particle collisional frequency is %4.1e per s'%(zCO2)"
     ],
     "language": "python",
     "metadata": {},
     "outputs": [
      {
       "output_type": "stream",
       "stream": "stdout",
       "text": [
        "Single particle collisional frequency is 6.9e+09 per s\n"
       ]
      }
     ],
     "prompt_number": 16
    },
    {
     "cell_type": "heading",
     "level": 2,
     "metadata": {},
     "source": [
      "Example Problem 16.7, Page Number 407"
     ]
    },
    {
     "cell_type": "code",
     "collapsed": false,
     "input": [
      "from math import sqrt, pi\n",
      "\n",
      "#Variable Declaration\n",
      "R = 8.314         #Ideal Gas Constant, J/(mol.K)\n",
      "T = 298           #Temperature of Gas, K\n",
      "MAr = 0.04        #Molecular wt of Ar, kg/mol\n",
      "MKr = 0.084       #Molecular wt of Kr, kg/mol\n",
      "pAr  = 360        #Partial Pressure Ar, torr\n",
      "pKr  = 400        #Partial Pressure Kr, torr\n",
      "rAr = 0.17e-9     #Hard sphere radius of Ar, m\n",
      "rKr = 0.20e-9     #Hard sphere radius of Kr, m\n",
      "NA = 6.022e23     #Number of particles per mol\n",
      "k = 1.38e-23      #Boltzmann constant, J/K\n",
      "\n",
      "#Calculations\n",
      "pAr = pAr*101325/760\n",
      "pKr = pKr*101325/760\n",
      "p1 = pAr*NA/(R*T)\n",
      "p2 = pKr*NA/(R*T)\n",
      "sigm = pi*(rAr+rKr)**2\n",
      "mu = MAr*MKr/((MAr+MKr)*NA)\n",
      "p3 = sqrt(8*k*T/(pi*mu)) \n",
      "zArKr = p1*p2*sigm*p3\n",
      "\n",
      "#Results\n",
      "print 'Collisional frequency is %4.2e m-3s-1'%(zArKr)"
     ],
     "language": "python",
     "metadata": {},
     "outputs": [
      {
       "output_type": "stream",
       "stream": "stdout",
       "text": [
        "Collisional frequency is 3.14e+34 m-3s-1\n"
       ]
      }
     ],
     "prompt_number": 12
    }
   ],
   "metadata": {}
  }
 ]
}