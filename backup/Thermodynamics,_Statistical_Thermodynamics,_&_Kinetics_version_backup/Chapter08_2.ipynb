{
 "metadata": {
  "name": "",
  "signature": "sha256:7cd73e591684a9b750091e874ca08a72b326eee20de62e33004e879fa5300f72"
 },
 "nbformat": 3,
 "nbformat_minor": 0,
 "worksheets": [
  {
   "cells": [
    {
     "cell_type": "heading",
     "level": 1,
     "metadata": {},
     "source": [
      "Chapter 08: Phase Diagrams and the Relative Stability of Solids, Liquids, and Gases"
     ]
    },
    {
     "cell_type": "heading",
     "level": 2,
     "metadata": {},
     "source": [
      "Example Problem 8.2, Page Number 186 "
     ]
    },
    {
     "cell_type": "code",
     "collapsed": false,
     "input": [
      "from math import log, exp\n",
      "\n",
      "#Varialble Declaration\n",
      "Tn = 353.24       #normal boiling point of Benzene, K\n",
      "pi = 1.19e4       #Vapor pressure of benzene at 20\u00b0C, Pa\n",
      "DHf = 9.95        #Latent heat of fusion, kJ/mol\n",
      "pv443 = 137.      #Vapor pressure of benzene at -44.3\u00b0C, Pa\n",
      "R = 8.314         #Ideal Gas Constant, J/(mol.K)\n",
      "Pf = 101325       #Std. atmospheric pressure, Pa\n",
      "T20 = 293.15      #Temperature in K\n",
      "P0 = 1.\n",
      "Pl = 10000.\n",
      "Ts = -44.3        #Temperature of solid benzene, \u00b0C\n",
      "\n",
      "#Calculations\n",
      "Ts = Ts + 273.15\n",
      "#Part a\n",
      "\n",
      "DHv = -(R*log(Pf/pi))/(1./Tn-1./T20)\n",
      "#Part b\n",
      "\n",
      "DSv = DHv/Tn\n",
      "DHf = DHf*1e3\n",
      "#Part c\n",
      "\n",
      "Ttp = -DHf/(R*(log(Pl/P0)-log(pv443/P0)-(DHv+DHf)/(R*Ts)+DHv/(R*T20)))\n",
      "Ptp = exp(-DHv/R*(1./Ttp-1./Tn))*101325\n",
      "\n",
      "#Results\n",
      "print 'Latent heat of vaporization of benzene at 20\u00b0C %4.1f kJ/mol'%(DHv/1000)\n",
      "print 'Entropy Change of vaporization of benzene at 20\u00b0C %3.1f J/mol'%DSv\n",
      "print 'Triple point temperature = %4.1f K for benzene'%Ttp\n",
      "print 'Triple point pressure = %4.2e Pa for benzene'%Ptp"
     ],
     "language": "python",
     "metadata": {},
     "outputs": [
      {
       "output_type": "stream",
       "stream": "stdout",
       "text": [
        "Latent heat of vaporization of benzene at 20\u00b0C 30.7 kJ/mol\n",
        "Entropy Change of vaporization of benzene at 20\u00b0C 86.9 J/mol\n",
        "Triple point temperature = 267.3 K for benzene\n",
        "Triple point pressure = 3.53e+03 Pa for benzene\n"
       ]
      }
     ],
     "prompt_number": 39
    },
    {
     "cell_type": "heading",
     "level": 2,
     "metadata": {},
     "source": [
      "Example Problem 8.3, Page Number 191"
     ]
    },
    {
     "cell_type": "code",
     "collapsed": false,
     "input": [
      "from math import cos, pi\n",
      "\n",
      "#Varialble Declaration\n",
      "gama = 71.99e-3   #Surface tension of water, N/m\n",
      "r = 1.2e-4        #Radius of hemisphere, m\n",
      "theta = 0.0       #Contact angle, rad\n",
      "\n",
      "#Calculations\n",
      "DP = 2*gama*cos(theta)/r\n",
      "F = DP*pi*r**2\n",
      "\n",
      "#Results\n",
      "print 'Force exerted by one leg %5.3e N'%F"
     ],
     "language": "python",
     "metadata": {},
     "outputs": [
      {
       "output_type": "stream",
       "stream": "stdout",
       "text": [
        "Force exerted by one leg 5.428e-05 N\n"
       ]
      }
     ],
     "prompt_number": 40
    },
    {
     "cell_type": "heading",
     "level": 2,
     "metadata": {},
     "source": [
      "Example Problem 8.4, Page Number 191"
     ]
    },
    {
     "cell_type": "code",
     "collapsed": false,
     "input": [
      "from math import cos\n",
      "\n",
      "#Varialble Declaration\n",
      "gama = 71.99e-3   #Surface tension of water, N/m\n",
      "r = 2e-5          #Radius of xylem, m\n",
      "theta = 0.0       #Contact angle, rad\n",
      "rho = 997.0       #Density of water, kg/m3\n",
      "g = 9.81          #gravitational acceleration, m/s2\n",
      "H = 100           #Height at top of redwood tree, m\n",
      "\n",
      "#Calculations\n",
      "h = 2*gama/(rho*g*r*cos(theta))\n",
      "\n",
      "#Results\n",
      "print 'Height to which water can rise by capillary action is %3.2f m'%h\n",
      "print 'This is very less than %4.1f n, hence water can not reach top of tree'%H"
     ],
     "language": "python",
     "metadata": {},
     "outputs": [
      {
       "output_type": "stream",
       "stream": "stdout",
       "text": [
        "Height to which water can rise by capillary action is 0.74 m\n",
        "This is very less than 100.0 n, hence water can not reach top of tree\n"
       ]
      }
     ],
     "prompt_number": 41
    }
   ],
   "metadata": {}
  }
 ]
}