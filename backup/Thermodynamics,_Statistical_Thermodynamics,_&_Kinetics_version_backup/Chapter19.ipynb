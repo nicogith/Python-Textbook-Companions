{
 "metadata": {
  "name": "",
  "signature": "sha256:426928f27add269a4fb950a40e7b077ed56eb54390661454909c07f1497ce752"
 },
 "nbformat": 3,
 "nbformat_minor": 0,
 "worksheets": [
  {
   "cells": [
    {
     "cell_type": "heading",
     "level": 1,
     "metadata": {},
     "source": [
      "Chapter 19: Complex Reaction Mechanism "
     ]
    },
    {
     "cell_type": "heading",
     "level": 2,
     "metadata": {},
     "source": [
      "Example Problem: 19.1, Page Number 501"
     ]
    },
    {
     "cell_type": "code",
     "collapsed": false,
     "input": [
      "import numpy as np\n",
      "from numpy import arange,array,ones,linalg\n",
      "from pylab import plot,show\n",
      "#Variable declaration\n",
      "Ce = 2.3e-9        #Initial value of enzyme concentration, M\n",
      "r = array([2.78e-5,5.e-5,8.33e-5,1.67e-4])\n",
      "CCO2 = array([1.25e-3,2.5e-3,5.e-3,20.e-3])\n",
      "\n",
      "#Calculations\n",
      "rinv = 1./r\n",
      "CCO2inv = 1./CCO2\n",
      "xlim(0,850)\n",
      "ylim(0,38000)\n",
      "xi = CCO2inv\n",
      "A = array([ CCO2inv, ones(size(CCO2inv))])\n",
      "# linearly generated sequence\n",
      "w = linalg.lstsq(A.T,rinv)[0] # obtaining the parameters\n",
      "slope = w[0]\n",
      "intercept = w[1]\n",
      "\n",
      "line = w[0]*CCO2inv+w[1] # regression line\n",
      "plot(CCO2inv,line,'r-',CCO2inv,rinv,'o')\n",
      "show()\n",
      "rmax = 1./intercept\n",
      "k2 = rmax/Ce\n",
      "Km = slope*rmax\n",
      "\n",
      "#Results\n",
      "print 'Km and k2 are %4.1f mM and %3.1e s-1'%(Km*1e3,k2)"
     ],
     "language": "python",
     "metadata": {},
     "outputs": [
      {
       "metadata": {},
       "output_type": "display_data",
       "png": "[encoded data removed]",
       "text": [
        "<matplotlib.figure.Figure at 0x8d31770>"
       ]
      },
      {
       "output_type": "stream",
       "stream": "stdout",
       "text": [
        "Km and k2 are 10.0 mM and 1.1e+05 s-1\n"
       ]
      }
     ],
     "prompt_number": 13
    },
    {
     "cell_type": "heading",
     "level": 2,
     "metadata": {},
     "source": [
      "Example Problem: 19.2, Page Number 507"
     ]
    },
    {
     "cell_type": "code",
     "collapsed": false,
     "input": [
      "from numpy import arange,array,ones,linalg\n",
      "from pylab import plot,show\n",
      "\n",
      "#Variable declaration\n",
      "Vads = array([5.98,7.76,10.1,12.35,16.45,18.05,19.72,21.1])   #Adsorption data at 193.5K\n",
      "P = array([2.45,3.5,5.2,7.2,11.2,12.8,14.6,16.1])            #Pressure, torr\n",
      "\n",
      "#Calculations\n",
      "Vinv = 1./Vads\n",
      "Pinv =1./P\n",
      "xlim(0,0.5)\n",
      "ylim(0,0.2)\n",
      "A = array([ Pinv, ones(size(Pinv))])\n",
      "# linearly generated sequence\n",
      "w = linalg.lstsq(A.T,Vinv)[0] # obtaining the parameters\n",
      "m = w[0]\n",
      "c = w[1]\n",
      "line = m*Pinv+c # regression line\n",
      "plot(Pinv,line,'r-',Pinv,Vinv,'o')\n",
      "show()\n",
      "Vm = 1./c\n",
      "K = 1./(m*Vm)\n",
      "\n",
      "#Results\n",
      "print 'Slope and intercept are %5.4f torr.g/cm3 and %5.4f g/cm3'%(m,c)\n",
      "print 'K and Vm are %4.2e Torr^-1 and %3.1f cm3/g'%(K,Vm)"
     ],
     "language": "python",
     "metadata": {},
     "outputs": [
      {
       "metadata": {},
       "output_type": "display_data",
       "png": "[encoded data removed]",
       "text": [
        "<matplotlib.figure.Figure at 0x8295610>"
       ]
      },
      {
       "output_type": "stream",
       "stream": "stdout",
       "text": [
        "Slope and intercept are 0.3449 torr.g/cm3 and 0.0293 g/cm3\n",
        "K and Vm are 8.48e-02 Torr^-1 and 34.2 cm3/g\n"
       ]
      }
     ],
     "prompt_number": 11
    },
    {
     "cell_type": "heading",
     "level": 2,
     "metadata": {},
     "source": [
      "Example Problem: 19.3, Page Number 510"
     ]
    },
    {
     "cell_type": "heading",
     "level": 2,
     "metadata": {},
     "source": [
      "Example Problem: 19.4, Page Number 520"
     ]
    },
    {
     "cell_type": "code",
     "collapsed": false,
     "input": [
      "from numpy import arange,array,ones,linalg\n",
      "from pylab import plot,show\n",
      "\n",
      "#Variable declaration\n",
      "CBr = array([0.0005,0.001,0.002,0.003,0.005])                    #C6Br6 concentration, M\n",
      "tf = array([2.66e-7,1.87e-7,1.17e-7,8.50e-8,5.51e-8])            #Fluroscence life time, s\n",
      "\n",
      "#Calculations\n",
      "Tfinv = 1./tf\n",
      "xlim(0,0.006)\n",
      "ylim(0,2.e7)\n",
      "A = array([ CBr, ones(size(CBr))])\n",
      "# linearly generated sequence\n",
      "[m,c] = linalg.lstsq(A.T,Tfinv)[0] # obtaining the parameters\n",
      "\n",
      "line = m*CBr+c # regression line\n",
      "plot(CBr,line,'r-',CBr,Tfinv,'o')\n",
      "show()\n",
      "\n",
      "#Results\n",
      "print 'Slope and intercept are kq = %5.4e per s and kf = %5.4e per s'%(m,c)"
     ],
     "language": "python",
     "metadata": {},
     "outputs": [
      {
       "metadata": {},
       "output_type": "display_data",
       "png": "[encoded data removed]",
       "text": [
        "<matplotlib.figure.Figure at 0x860a730>"
       ]
      },
      {
       "output_type": "stream",
       "stream": "stdout",
       "text": [
        "Slope and intercept are kq = 3.1995e+09 per s and kf = 2.1545e+06 per s\n"
       ]
      }
     ],
     "prompt_number": 15
    },
    {
     "cell_type": "heading",
     "level": 2,
     "metadata": {},
     "source": [
      "Example Problem: 19.5, Page Number 523"
     ]
    },
    {
     "cell_type": "code",
     "collapsed": false,
     "input": [
      "from scipy.optimize import root\n",
      "\n",
      "#Variable Declaration\n",
      "r = 11.          #Distance of residue separation, \u00b0A\n",
      "r0 = 9.          #Initial Distance of residue separation, \u00b0A\n",
      "EffD = 0.2      #Fraction decrease in eff\n",
      "\n",
      "#Calculations\n",
      "Effi = r0**6/(r0**6+r**6)\n",
      "Eff = Effi*(1-EffD)\n",
      "f = lambda r: r0**6/(r0**6+r**6) - Eff\n",
      "sol = root(f, 12)\n",
      "rn = sol.x[0]\n",
      "\n",
      "#Results\n",
      "print 'Separation Distance at decreased efficiency %4.2f'%rn"
     ],
     "language": "python",
     "metadata": {},
     "outputs": [
      {
       "output_type": "stream",
       "stream": "stdout",
       "text": [
        "Separation Distance at decreased efficiency 11.53\n"
       ]
      }
     ],
     "prompt_number": 21
    },
    {
     "cell_type": "heading",
     "level": 2,
     "metadata": {},
     "source": [
      "Example Problem: 19.6, Page Number 525"
     ]
    },
    {
     "cell_type": "code",
     "collapsed": false,
     "input": [
      "#Variable Declarations\n",
      "mr = 2.5e-3        #Moles reacted, mol\n",
      "P = 100.0          #Irradiation Power, J/s\n",
      "t = 27             #Time of irradiation, s\n",
      "h = 6.626e-34      #Planks constant, Js\n",
      "c = 3.0e8          #Speed of light, m/s\n",
      "labda = 280e-9     #Wavelength of light, m\n",
      "\n",
      "#Calculation\n",
      "Eabs = P*t\n",
      "Eph = h*c/labda\n",
      "nph = Eabs/Eph     #moles of photone\n",
      "phi = mr/6.31e-3\n",
      "\n",
      "#Results\n",
      "print 'Total photon energy absorbed by sample %3.1e J'%Eabs\n",
      "print 'Photon energy absorbed at 280 nm is %3.1e J'%Eph\n",
      "print 'Total number of photon absorbed by sample %3.1e photones'%nph\n",
      "print 'Overall quantum yield %4.2f'%phi"
     ],
     "language": "python",
     "metadata": {},
     "outputs": [
      {
       "output_type": "stream",
       "stream": "stdout",
       "text": [
        "Total photon energy absorbed by sample 2.7e+03 J\n",
        "Photon energy absorbed at 280 nm is 7.1e-19 J\n",
        "Total number of photon absorbed by sample 3.8e+21 photones\n",
        "Overall quantum yield 0.40\n"
       ]
      }
     ],
     "prompt_number": 4
    },
    {
     "cell_type": "heading",
     "level": 2,
     "metadata": {},
     "source": [
      "Example Problem: 19.7, Page Number 530"
     ]
    },
    {
     "cell_type": "code",
     "collapsed": false,
     "input": [
      "from math import exp\n",
      "#Variable Declarations\n",
      "r = 2.0e9          #Rate constant for electron transfer, per s\n",
      "labda = 1.2        #Gibss energy change, eV\n",
      "DG = -1.93         #Gibss energy change for 2-naphthoquinoyl, eV\n",
      "k = 1.38e-23       #Boltzman constant, J/K\n",
      "T = 298.0          #Temeprature, K\n",
      "#Calculation\n",
      "DGS = (DG+labda)**2/(4*labda)\n",
      "k193 = r*exp(-DGS*1.6e-19/(k*T))\n",
      "#Results\n",
      "print 'DGS = %5.3f eV'%DGS\n",
      "print 'Rate constant with barrier to electron transfer %3.2e per s'%k193"
     ],
     "language": "python",
     "metadata": {},
     "outputs": [
      {
       "output_type": "stream",
       "stream": "stdout",
       "text": [
        "DGS = 0.111 eV\n",
        "Rate constant with barrier to electron transfer 2.66e+07 per s\n"
       ]
      }
     ],
     "prompt_number": 9
    }
   ],
   "metadata": {}
  }
 ]
}