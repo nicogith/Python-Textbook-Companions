{
 "metadata": {
  "name": "",
  "signature": "sha256:c2f0eb9f813e96ecfb0ebcea9c89faad6a2b8ee530cc39d385b0a4ab04407ef5"
 },
 "nbformat": 3,
 "nbformat_minor": 0,
 "worksheets": [
  {
   "cells": [
    {
     "cell_type": "heading",
     "level": 1,
     "metadata": {},
     "source": [
      "Chapter 09: Ideal and Real Solutions"
     ]
    },
    {
     "cell_type": "heading",
     "level": 2,
     "metadata": {},
     "source": [
      "Example Problem 9.2, Page Number 202"
     ]
    },
    {
     "cell_type": "code",
     "collapsed": false,
     "input": [
      "from math import log\n",
      "\n",
      "#Variable Declaration\n",
      "nb = 5.00      #Number of moles of Benzene, mol\n",
      "nt = 3.25      #Number of moles of Toluene, mol\n",
      "T = 298.15     #Temperature, K\n",
      "P = 1.0        #Pressure, bar\n",
      "R = 8.314      #Ideal Gas Constant, J/(mol.K)\n",
      "\n",
      "#Calculations\n",
      "n = nb + nt\n",
      "xb = nb/n\n",
      "xt = 1. - xb\n",
      "dGmix = n*R*T*(xb*log(xb)+xt*log(xt))\n",
      "dSmix = n*R*(xb*log(xb)+xt*log(xt))\n",
      "\n",
      "#Results\n",
      "print 'Gibbs energy change of mixing is %4.3e J'%dGmix\n",
      "print 'Gibbs energy change of mixing is < 0, hence the mixing is spontaneous'\n",
      "print 'Entropy change of mixing is %4.2f J/K'%dSmix"
     ],
     "language": "python",
     "metadata": {},
     "outputs": [
      {
       "output_type": "stream",
       "stream": "stdout",
       "text": [
        "Gibbs energy change of mixing is -1.371e+04 J\n",
        "Gibbs energy change of mixing is < 0, hence the mixing is spontaneous\n",
        "Entropy change of mixing is -45.99 J/K\n"
       ]
      }
     ],
     "prompt_number": 9
    },
    {
     "cell_type": "heading",
     "level": 2,
     "metadata": {},
     "source": [
      "Example Problem 9.3, Page Number 205"
     ]
    },
    {
     "cell_type": "code",
     "collapsed": false,
     "input": [
      "#Variable Declaration\n",
      "nb = 5.00      #Number of moles of Benzene, mol\n",
      "nt = 3.25      #Number of moles of Toluene, mol\n",
      "T = 298.15     #Temperature, K\n",
      "R = 8.314      #Ideal Gas Constant, J/(mol.K)\n",
      "P0b = 96.4     #Vapor pressure of Benzene, torr\n",
      "P0t = 28.9     #Vapor pressure of Toluene, torr\n",
      "\n",
      "#Calculations\n",
      "n = nb + nt\n",
      "xb = nb/n\n",
      "xt = 1. - xb\n",
      "P = xb*P0b + xt*P0t\n",
      "y = (P0b*P - P0t*P0b)/(P*(P0b-P0t))\n",
      "yt = 1.-yb\n",
      "\n",
      "#Results\n",
      "print 'Total pressure of the vapor is %4.1f torr'%P\n",
      "print 'Benzene fraction in vapor is %4.3f '%yb\n",
      "print 'Toulene fraction in vapor is %4.3f '%yt"
     ],
     "language": "python",
     "metadata": {},
     "outputs": [
      {
       "output_type": "stream",
       "stream": "stdout",
       "text": [
        "Total pressure of the vapor is 69.8 torr\n",
        "Benzene fraction in vapor is 0.837 \n",
        "Toulene fraction in vapor is 0.163 \n"
       ]
      }
     ],
     "prompt_number": 12
    },
    {
     "cell_type": "heading",
     "level": 2,
     "metadata": {},
     "source": [
      "Example Problem 9.4, Page Number 206"
     ]
    },
    {
     "cell_type": "code",
     "collapsed": false,
     "input": [
      "from sympy import *\n",
      "#Variable Declaration\n",
      "nb = 5.00      #Number of moles of Benzene, mol\n",
      "nt = 3.25      #Number of moles of Toluene, mol\n",
      "T = 298.15     #Temperature, K\n",
      "R = 8.314      #Ideal Gas Constant, J/(mol.K)\n",
      "P0b = 96.4     #Vapor pressure of Benzene, torr\n",
      "P0t = 28.9     #Vapor pressure of Toluene, torr\n",
      "nv = 1.5       #moles vaporized, mol\n",
      "\n",
      "#Calculations\n",
      "n = nb + nt\n",
      "nl = n - nv\n",
      "zb = nb/n\n",
      "\n",
      "x,y, P = symbols('x y P')\n",
      "e1 = nv*(y-zb)-nl*(zb-x)\n",
      "print 'Mass Balance:', e1\n",
      "e2 = P - (x*P0b + (1-x)*P0t)\n",
      "print 'Pressure and x:',e2\n",
      "e3 = y - (P0b*P - P0t*P0b)/(P*(P0b-P0t))\n",
      "print 'Pressure and y:', e3\n",
      "equations = [e1,e2,e3]\n",
      "sol = solve(equations)\n",
      "\n",
      "#Results\n",
      "for i in sol:\n",
      "    if ((i[x] > 0.0 and i[x] <1.0) and (i[P] > 0.0) and (i[y]>zb and i[y]<1.0)):\n",
      "        print 'Pressure is %4.2f torr' %i[P]\n",
      "        print 'Mole fraction of benzene in liquid phase %4.3f' %i[x]\n",
      "        print 'Mole fraction of benzene in vapor phase %4.3f' %i[y]\n"
     ],
     "language": "python",
     "metadata": {},
     "outputs": [
      {
       "output_type": "stream",
       "stream": "stdout",
       "text": [
        "Mass Balance: 6.75*x + 1.5*y - 5.0\n",
        "Pressure and x: P - 67.5*x - 28.9\n",
        "Pressure and y: y - 0.0148148148148148*(96.4*P - 2785.96)/P\n",
        "Pressure is 66.75 torr"
       ]
      },
      {
       "output_type": "stream",
       "stream": "stdout",
       "text": [
        "\n",
        "Mole fraction of benzene in liquid phase 0.561\n",
        "Mole fraction of benzene in vapor phase 0.810\n"
       ]
      }
     ],
     "prompt_number": 3
    },
    {
     "cell_type": "heading",
     "level": 2,
     "metadata": {},
     "source": [
      "Example Problem 9.6, Page Number 212"
     ]
    },
    {
     "cell_type": "code",
     "collapsed": false,
     "input": [
      "#Variable Declaration\n",
      "m = 4.50        #Mass of substance dissolved, g\n",
      "ms = 125.0      #Mass of slovent (CCl4), g\n",
      "TbE = 0.65      #Boiling point elevation, \u00b0C\n",
      "Kf, Kb = 30.0, 4.95    #Constants for freezing point elevation \n",
      "                        # and boiling point depression for CCl4, K kg/mol\n",
      "Msolvent = 153.8  #Molecualr wt of solvent, g/mol\n",
      "#Calculations\n",
      "DTf = -Kf*TbE/Kb\n",
      "Msolute = Kb*m/(ms*1e-3*TbE)\n",
      "nsolute = m/Msolute\n",
      "nsolvent = ms/Msolvent \n",
      "x = 1.0 -  nsolute/(nsolute + nsolvent)\n",
      "\n",
      "#Results\n",
      "print 'Freezing point depression %5.2f K'%DTf\n",
      "print 'Molecualr wt of solute %4.1f g/mol'%Msolute\n",
      "print 'Vapor pressure of solvent is reduced by a factor of %4.3f'%x"
     ],
     "language": "python",
     "metadata": {},
     "outputs": [
      {
       "output_type": "stream",
       "stream": "stdout",
       "text": [
        "Freezing point depression -3.94 K\n",
        "Molecualr wt of solute 274.2 g/mol\n",
        "Vapor pressure of solvent is reduced by a factor of 0.980\n"
       ]
      }
     ],
     "prompt_number": 69
    },
    {
     "cell_type": "heading",
     "level": 2,
     "metadata": {},
     "source": [
      "Example Problem 9.7, Page Number 214"
     ]
    },
    {
     "cell_type": "code",
     "collapsed": false,
     "input": [
      "#Variable Declaration\n",
      "csolute = 0.500 #Concentration of solute, g/L\n",
      "R = 8.206e-2    #Gas constant L.atm/(mol.K)\n",
      "T = 298.15      #Temperature of the solution, K\n",
      "\n",
      "#Calculations\n",
      "pii = csolute*R*T\n",
      "\n",
      "#Results\n",
      "print 'Osmotic pressure %4.2f atm'%pii\n"
     ],
     "language": "python",
     "metadata": {},
     "outputs": [
      {
       "output_type": "stream",
       "stream": "stdout",
       "text": [
        "Osmotic pressure 12.23 atm\n"
       ]
      }
     ],
     "prompt_number": 70
    },
    {
     "cell_type": "heading",
     "level": 2,
     "metadata": {},
     "source": [
      "Example Problem 9.8, Page Number 220"
     ]
    },
    {
     "cell_type": "code",
     "collapsed": false,
     "input": [
      "#Variable Declaration\n",
      "xCS2 = 0.3502   #Mol fraction of CS2, g/L\n",
      "pCS2 = 358.3    #Partial pressure of CS2, torr\n",
      "p0CS2 = 512.3   #Total pressure, torr\n",
      "\n",
      "#Calculations\n",
      "alpha = pCS2/p0CS2\n",
      "gama = alpha/xCS2\n",
      "\n",
      "#Results\n",
      "print 'Activity of CS2 %5.4f atm'%alpha\n",
      "print 'Activity coefficinet of CS2 %5.4f atm'%gama"
     ],
     "language": "python",
     "metadata": {},
     "outputs": [
      {
       "output_type": "stream",
       "stream": "stdout",
       "text": [
        "Activity of CS2 0.6994 atm\n",
        "Activity coefficinet of CS2 1.9971 atm\n"
       ]
      }
     ],
     "prompt_number": 72
    },
    {
     "cell_type": "heading",
     "level": 2,
     "metadata": {},
     "source": [
      "Example Problem 9.9, Page Number 220"
     ]
    },
    {
     "cell_type": "code",
     "collapsed": false,
     "input": [
      "#Variable Declaration\n",
      "xCS2 = 0.3502   #Mol fraction of CS2, g/L\n",
      "pCS2 = 358.3    #Partial pressure of CS2, torr\n",
      "kHCS2 = 2010.   #Total pressure, torr\n",
      "\n",
      "#Calculations\n",
      "alpha = pCS2/kHCS2\n",
      "gama = alpha/xCS2\n",
      "\n",
      "#Results\n",
      "print 'Activity of CS2 %5.4f atm'%alpha\n",
      "print 'Activity coefficinet of CS2 %5.4f atm'%gama"
     ],
     "language": "python",
     "metadata": {},
     "outputs": [
      {
       "output_type": "stream",
       "stream": "stdout",
       "text": [
        "Activity of CS2 0.1783 atm\n",
        "Activity coefficinet of CS2 0.5090 atm\n"
       ]
      }
     ],
     "prompt_number": 73
    },
    {
     "cell_type": "heading",
     "level": 2,
     "metadata": {},
     "source": [
      "Example Problem 9.10, Page Number 221"
     ]
    },
    {
     "cell_type": "code",
     "collapsed": false,
     "input": [
      "#Variable Declaration\n",
      "rho = 789.9     #Density of acetone, g/L\n",
      "n = 1.0         #moles of acetone, mol\n",
      "M = 58.08       #Molecular wt of acetone, g/mol\n",
      "kHacetone = 1950 #Henrys law constant, torr\n",
      "#Calculations\n",
      "H = n*M*kHacetone/rho\n",
      "\n",
      "#Results\n",
      "print 'Henrys constant = %5.2f torr'%H"
     ],
     "language": "python",
     "metadata": {},
     "outputs": [
      {
       "output_type": "stream",
       "stream": "stdout",
       "text": [
        "Henrys constant = 143.38 torr\n"
       ]
      }
     ],
     "prompt_number": 76
    },
    {
     "cell_type": "heading",
     "level": 2,
     "metadata": {},
     "source": [
      "Example Problem 9.11, Page Number 221"
     ]
    },
    {
     "cell_type": "code",
     "collapsed": false,
     "input": [
      "#Variable Declaration\n",
      "m = 0.5         #Mass of water, kg\n",
      "ms = 24.0       #Mass of solute, g\n",
      "Ms = 241.0      #Molecular wt of solute, g/mol\n",
      "Tfd = 0.359     #Freezinf point depression, \u00b0C or K\n",
      "kf = 1.86       #Constants for freezing point depression for water, K kg/mol\n",
      "\n",
      "#Calculations\n",
      "msolute = ms/(Ms*m)\n",
      "gama = Tfd/(kf*msolute)\n",
      "\n",
      "#Results\n",
      "print 'Activity coefficient = %4.3f'%gama"
     ],
     "language": "python",
     "metadata": {},
     "outputs": [
      {
       "output_type": "stream",
       "stream": "stdout",
       "text": [
        "Activity coefficient = 0.969\n"
       ]
      }
     ],
     "prompt_number": 81
    },
    {
     "cell_type": "heading",
     "level": 2,
     "metadata": {},
     "source": [
      "Example Problem 9.12, Page Number 223"
     ]
    },
    {
     "cell_type": "code",
     "collapsed": false,
     "input": [
      "#Variable Declaration\n",
      "m = 70.0        #Mass of human body, kg\n",
      "V = 5.00        #Volume of blood, L\n",
      "HN2 = 9.04e4    #Henry law constant for N2 solubility in blood, bar\n",
      "T = 298.0       #Temperature, K\n",
      "rho = 1.00      #density of blood, kg/L\n",
      "Mw = 18.02      #Molecualr wt of water, g/mol\n",
      "X = 80          #Percent of N2 at sea level\n",
      "p1, p2 = 1.0, 50.0  #Pressures, bar\n",
      "R = 8.314e-2       #Ideal Gas constant, L.bar/(mol.K)\n",
      "#Calculations\n",
      "nN21  = (V*rho*1e3/Mw)*(p1*X/100)/HN2\n",
      "nN22  = (V*rho*1e3/Mw)*(p2*X/100)/HN2\n",
      "V = (nN22-nN21)*R*T/p1\n",
      "#Results\n",
      "print 'Number of moles of nitrogen in blood at 1 and 50 bar are %3.2e,%3.3f mol'%(nN21,nN22)\n",
      "print 'Volume of nitrogen released from blood at reduced pressure %4.3f L'%V"
     ],
     "language": "python",
     "metadata": {},
     "outputs": [
      {
       "output_type": "stream",
       "stream": "stdout",
       "text": [
        "Number of moles of nitrogen in blood at 1 and 50 bar are 2.46e-03,0.123 mol\n",
        "Volume of nitrogen released from blood at reduced pressure 2.981 L\n"
       ]
      }
     ],
     "prompt_number": 90
    },
    {
     "cell_type": "heading",
     "level": 2,
     "metadata": {},
     "source": [
      "Example Problem 9.14, Page Number 226"
     ]
    },
    {
     "cell_type": "code",
     "collapsed": false,
     "input": [
      "from numpy import arange,array,ones,linalg, divide\n",
      "from pylab import plot,show\n",
      "\n",
      "#Variable Declaration\n",
      "cCB = array([1e-6,2e-6,3e-6,5e-6,10e-6])\n",
      "nu = array([0.006,0.012,0.018,0.028,0.052])\n",
      "y = nu/cCB\n",
      "print y\n",
      "xlim(0.0, 0.06)\n",
      "ylim(5000,6300)\n",
      "#Calculations\n",
      "A = array([ nu, ones(size(nu))])\n",
      "print A\n",
      "# linearly generated sequence\n",
      "\n",
      "w = linalg.lstsq(A.T,y)[0] # obtaining the parameters\n",
      "print 'slope %8.1f'%w[0]\n",
      "print 'Intercept %8.1f' %w[1]\n",
      "# Use w[0] and w[1] for your calculations and give good structure to this ipython notebook\n",
      "# plotting the line\n",
      "line = w[0]*nu+w[1] # regression line\n",
      "  \n",
      "#Results\n",
      "plot(nu,line,'r-',nu,y,'o')\n",
      "show()"
     ],
     "language": "python",
     "metadata": {},
     "outputs": [
      {
       "output_type": "stream",
       "stream": "stdout",
       "text": [
        "[ 6000.  6000.  6000.  5600.  5200.]\n",
        "[[ 0.006  0.012  0.018  0.028  0.052]\n",
        " [ 1.     1.     1.     1.     1.   ]]"
       ]
      },
      {
       "output_type": "stream",
       "stream": "stdout",
       "text": [
        "\n",
        "slope -19188.2\n",
        "Intercept   6205.2\n"
       ]
      },
      {
       "metadata": {},
       "output_type": "display_data",
       "png": "[encoded data removed]",
       "text": [
        "<matplotlib.figure.Figure at 0x59f38d0>"
       ]
      }
     ],
     "prompt_number": 16
    },
    {
     "cell_type": "code",
     "collapsed": false,
     "input": [],
     "language": "python",
     "metadata": {},
     "outputs": []
    }
   ],
   "metadata": {}
  }
 ]
}