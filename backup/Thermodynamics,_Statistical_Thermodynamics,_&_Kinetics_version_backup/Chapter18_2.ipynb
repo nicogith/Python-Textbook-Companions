{
 "metadata": {
  "name": "",
  "signature": "sha256:16e7490a05ae8ab95bdce6309e35e472520df00964c8812973f2cdbef573b0c0"
 },
 "nbformat": 3,
 "nbformat_minor": 0,
 "worksheets": [
  {
   "cells": [
    {
     "cell_type": "heading",
     "level": 1,
     "metadata": {},
     "source": [
      "Chapter 18: Elementary Chemical Kinetics"
     ]
    },
    {
     "cell_type": "heading",
     "level": 2,
     "metadata": {},
     "source": [
      "Example Problem 18.2, Page Number 451"
     ]
    },
    {
     "cell_type": "code",
     "collapsed": false,
     "input": [
      "from math import log\n",
      "\n",
      "#Variable Declaration\n",
      "Ca0 = [2.3e-4,4.6e-4,9.2e-4]       #Initial Concentration of A, M\n",
      "Cb0 = [3.1e-5,6.2e-5,6.2e-5]       #Initial Concentration of B, M\n",
      "Ri  = [5.25e-4,4.2e-3,1.68e-2]     #Initial rate of reaction, M\n",
      "\n",
      "#Calculations\n",
      "alp = log(Ri[1]/Ri[2])/log(Ca0[1]/Ca0[2])\n",
      "beta = (log(Ri[0]/Ri[1]) - 2*log((Ca0[0]/Ca0[1])))/(log(Cb0[0]/Cb0[1]))\n",
      "k = Ri[2]/(Ca0[2]**2*Cb0[2]**beta)\n",
      "\n",
      "#REsults\n",
      "print 'Order of reaction with respect to reactant A: %3.2f'%alp\n",
      "print 'Order of reaction with respect to reactant A: %3.2f'%beta\n",
      "print 'Rate constant of the reaction: %4.3e 1./(M.s)'%k"
     ],
     "language": "python",
     "metadata": {},
     "outputs": [
      {
       "output_type": "stream",
       "stream": "stdout",
       "text": [
        "Order of reaction with respect to reactant A: 2.00\n",
        "Order of reaction with respect to reactant A: 1.00\n",
        "Rate constant of the reaction: 3.201e+08 1./(M.s)\n"
       ]
      }
     ],
     "prompt_number": 2
    },
    {
     "cell_type": "heading",
     "level": 2,
     "metadata": {},
     "source": [
      "Example Problem 18.3, Page Number 457"
     ]
    },
    {
     "cell_type": "code",
     "collapsed": false,
     "input": [
      "from math import log\n",
      "from sympy import *\n",
      "\n",
      "#Variable Declaration\n",
      "t1by2 = 2.05e4       #Half life for first order decomposition of N2O5, s\n",
      "x = 60.              #percentage decay of N2O5\n",
      "\n",
      "#Calculations\n",
      "k = log(2)/t1by2\n",
      "t = -log(x/100)/k\n",
      "\n",
      "#REsults\n",
      "print 'Rate constant of the reaction: %4.3e 1/s'%k\n",
      "print 'Timerequire for 60 percent decay of N2O5: %4.3e s'%t"
     ],
     "language": "python",
     "metadata": {},
     "outputs": [
      {
       "output_type": "stream",
       "stream": "stdout",
       "text": [
        "Rate constant of the reaction: 3.381e-05 1/s\n",
        "Timerequire for 60 percent decay of N2O5: 1.511e+04 s\n"
       ]
      }
     ],
     "prompt_number": 5
    },
    {
     "cell_type": "heading",
     "level": 2,
     "metadata": {},
     "source": [
      "Example Problem 18.4, Page Number 457 Incomplete"
     ]
    },
    {
     "cell_type": "code",
     "collapsed": false,
     "input": [
      "from math import log\n",
      "\n",
      "#Variable Declaration\n",
      "t1by2 = 5760       #Half life for C14, years\n",
      "\n",
      "\n",
      "#Calculations\n",
      "k = log(2)/t1by2\n",
      "t = -log(x/100)/k\n",
      "\n",
      "#REsults\n",
      "print 'Rate constant of the reaction: %4.3e 1/s'%k\n",
      "print 'Timerequire for 60 percent decay of N2O5: %4.3e s'%t"
     ],
     "language": "python",
     "metadata": {},
     "outputs": []
    },
    {
     "cell_type": "heading",
     "level": 2,
     "metadata": {},
     "source": [
      "Example Problem 18.5, Page Number 463"
     ]
    },
    {
     "cell_type": "code",
     "collapsed": false,
     "input": [
      "from math import log\n",
      "\n",
      "#Variable Declaration\n",
      "kAbykI = 2.0       #Ratio of rate constants\n",
      "kA = 0.1           #First order rate constant for rxn 1, 1/s \n",
      "kI = 0.05          #First order rate constant for rxn 2, 1/s \n",
      "#Calculations\n",
      "tmax = 1/(kA-kI)*log(kA/kI)\n",
      "\n",
      "#Results\n",
      "print 'Time required for maximum concentration of A: %4.2f s'%tmax"
     ],
     "language": "python",
     "metadata": {},
     "outputs": [
      {
       "output_type": "stream",
       "stream": "stdout",
       "text": [
        "Time required for maximum concentration of A: 13.86 s\n"
       ]
      }
     ],
     "prompt_number": 1
    },
    {
     "cell_type": "heading",
     "level": 2,
     "metadata": {},
     "source": [
      "Example Problem 18.7, Page Number 467"
     ]
    },
    {
     "cell_type": "code",
     "collapsed": false,
     "input": [
      "from math import log\n",
      "\n",
      "#Variable Declaration\n",
      "T = 22.0           #Temperature of the reaction,\u00b0C\n",
      "k1 = 7.0e-4        #Rate constants for rxn 1, 1/s\n",
      "k2 = 4.1e-3        #Rate constant for rxn 2, 1/s \n",
      "k3 = 5.7e-3        #Rate constant for rxn 3, 1/s \n",
      "#Calculations\n",
      "phiP1 = k1/(k1+k2+k3)\n",
      "\n",
      "#Results\n",
      "print 'Percentage of Benzyl Penicillin that under acid catalyzed reaction by path 1: %4.2f '%(phiP1*100)"
     ],
     "language": "python",
     "metadata": {},
     "outputs": [
      {
       "output_type": "stream",
       "stream": "stdout",
       "text": [
        "Percentage of Benzyl Penicillin that under acid catalyzed reaction by path 1: 6.67 \n"
       ]
      }
     ],
     "prompt_number": 5
    },
    {
     "cell_type": "heading",
     "level": 2,
     "metadata": {},
     "source": [
      "Example Problem 18.8, Page Number 468"
     ]
    },
    {
     "cell_type": "code",
     "collapsed": false,
     "input": [
      "from numpy import arange,array,ones,linalg,log, exp\n",
      "from matplotlib.pylab import plot, show\n",
      "%matplotlib inline\n",
      "\n",
      "#Variable Declaration\n",
      "T = array([22.7,27.2,33.7,38.0])\n",
      "k1 = array([7.e-4,9.8e-4,1.6e-3,2.e-3])\n",
      "R = 8.314 \n",
      "\n",
      "#Calculations\n",
      "T = T +273.15\n",
      "x = 1./T\n",
      "y = log(k1)\n",
      "A = array([ x, ones(size(x))])\n",
      "# linearly generated sequence\n",
      "[slope, intercept] = linalg.lstsq(A.T,y)[0] # obtaining the parameters\n",
      "\n",
      "# Use w[0] and w[1] for your calculations and give good structure to this ipython notebook\n",
      "# plotting the line\n",
      "line = slope*x+intercept # regression line\n",
      "#Results\n",
      "plot(x,line,'-',x,y,'o')\n",
      "xlabel('$ 1/T, K^{-1} $')\n",
      "ylabel('$ log(k) $')\n",
      "show()\n",
      "Ea = -slope*R\n",
      "A = exp(intercept)\n",
      "print 'Slope and intercept are, %6.1f and %4.2f'%(slope, intercept)\n",
      "print 'Pre-exponential factor and Activation energy are %4.2f kJ/mol and %4.2e 1/s'%(Ea/1e3, A)"
     ],
     "language": "python",
     "metadata": {},
     "outputs": [
      {
       "metadata": {},
       "output_type": "display_data",
       "png": "[encoded data removed]",
       "text": [
        "<matplotlib.figure.Figure at 0x8fa5f10>"
       ]
      },
      {
       "output_type": "stream",
       "stream": "stdout",
       "text": [
        "Slope and intercept are, -6419.8 and 14.45\n",
        "Pre-exponential factor and Activation energy are 53.37 kJ/mol and 1.88e+06 1/s\n"
       ]
      }
     ],
     "prompt_number": 5
    },
    {
     "cell_type": "heading",
     "level": 2,
     "metadata": {},
     "source": [
      "Example Problem 18.9, Page Number 473"
     ]
    },
    {
     "cell_type": "code",
     "collapsed": false,
     "input": [
      "from math import exp\n",
      "\n",
      "#Variable Declaration\n",
      "Ea = 42.e3      #Activation energy for reaction, J/mol\n",
      "A  = 1.e12      #Pre-exponential factor for reaction, 1/s\n",
      "T = 298.0       #Temeprature, K\n",
      "Kc = 1.0e4      #Equilibrium constant for reaction\n",
      "R = 8.314       #Ideal gas constant, J/(mol.K)\n",
      "#Calculations\n",
      "kB = A*exp(-Ea/(R*T))\n",
      "kA = kB*Kc\n",
      "kApp = kA + kB\n",
      "\n",
      "#Results\n",
      "print 'Forward Rate constant is %4.2e 1/s'%kA\n",
      "print 'Backward Rate constant is %4.2e 1/s'%kB\n",
      "print 'Apperent Rate constant is %4.2e 1/s'%kApp"
     ],
     "language": "python",
     "metadata": {},
     "outputs": [
      {
       "output_type": "stream",
       "stream": "stdout",
       "text": [
        "Forward Rate constant is 4.34e+08 1/s\n",
        "Backward Rate constant is 4.34e+04 1/s\n",
        "Apperent Rate constant is 4.34e+08 1/s\n"
       ]
      }
     ],
     "prompt_number": 55
    },
    {
     "cell_type": "heading",
     "level": 2,
     "metadata": {},
     "source": [
      "Example Problem 18.10, Page Number 480"
     ]
    },
    {
     "cell_type": "code",
     "collapsed": false,
     "input": [
      "from math import pi\n",
      "#Variable Declaration\n",
      "Dh = 7.6e-7     #Diffusion coefficient of Hemoglobin, cm2/s\n",
      "Do2 = 2.2e-5    #Diffusion coefficient of oxygen, cm2/s\n",
      "rh = 35.        #Radius of Hemoglobin, \u00b0A\n",
      "ro2 = 2.0       #Radius of Oxygen, \u00b0A\n",
      "k = 4e7         #Rate constant for binding of O2 to Hemoglobin, 1/(M.s)\n",
      "NA =6.022e23    #Avagadro Number\n",
      "#Calculations\n",
      "DA = Dh + Do2\n",
      "kd = 4*pi*NA*(rh+ro2)*1e-8*DA\n",
      "\n",
      "#Results\n",
      "print 'Estimated rate %4.1e 1/(M.s) is far grater than experimental value of %4.1e 1/(M.s), \\nhence the reaction is not diffusion controlled'%(kd,k)"
     ],
     "language": "python",
     "metadata": {},
     "outputs": [
      {
       "output_type": "stream",
       "stream": "stdout",
       "text": [
        "Estimated rate 6.4e+13 1/(M.s) is far grater than experimental value of 4.0e+07 1/(M.s), \n",
        "hence the reaction is not diffusion controlled\n"
       ]
      }
     ],
     "prompt_number": 65
    },
    {
     "cell_type": "heading",
     "level": 2,
     "metadata": {},
     "source": [
      "Example Problem 18.11, Page Number 484"
     ]
    },
    {
     "cell_type": "code",
     "collapsed": false,
     "input": [
      "from math import log, e\n",
      "#Variable Declaration\n",
      "Ea = 104e3      #Activation energy for reaction, J/mol\n",
      "A  = 1.e13      #Pre-exponential factor for reaction, 1/s\n",
      "T = 300.0       #Temeprature, K\n",
      "R = 8.314       #Ideal gas constant, J/(mol.K)\n",
      "h = 6.626e-34   #Plnak constant, Js\n",
      "c = 1.0         #Std. State concentration, M\n",
      "k = 1.38e-23    #,J/K\n",
      "\n",
      "#Calculations\n",
      "dH = Ea - 2*R*T\n",
      "dS = R*log(A*h*c/(k*T*e**2))\n",
      "\n",
      "#Results\n",
      "print 'Forward Rate constant is %4.2e 1/s'%dH\n",
      "print 'Backward Rate constant is %4.2f 1/s'%dS"
     ],
     "language": "python",
     "metadata": {},
     "outputs": [
      {
       "output_type": "stream",
       "stream": "stdout",
       "text": [
        "Forward Rate constant is 9.90e+04 1/s\n",
        "Backward Rate constant is -12.72 1/s\n"
       ]
      }
     ],
     "prompt_number": 72
    }
   ],
   "metadata": {}
  }
 ]
}