{
 "metadata": {
  "name": "",
  "signature": "sha256:f7a31615b3beb83b8b17b3507af2b7505643c9385577352b3394c24d378e5d0b"
 },
 "nbformat": 3,
 "nbformat_minor": 0,
 "worksheets": [
  {
   "cells": [
    {
     "cell_type": "heading",
     "level": 1,
     "metadata": {},
     "source": [
      "Chapter 08: Phase Diagrams and the Relative Stability of Solids, Liquids, and Gases"
     ]
    },
    {
     "cell_type": "heading",
     "level": 2,
     "metadata": {},
     "source": [
      "Example Problem 8.2, Page Number 186 Check"
     ]
    },
    {
     "cell_type": "code",
     "collapsed": false,
     "input": [
      "from math import log\n",
      "\n",
      "#Varialble Declaration\n",
      "nbp = 353.24      #normal boiling point of Benzene, K\n",
      "pv20 = 1.19e4     #Vapor pressure of benzene at 20\u00b0C, Pa\n",
      "DHf = 9.95        #Latent heat of fusion, kJ/mol\n",
      "pv443 = 137       #Vapor pressure of benzene at -44.3\u00b0C, Pa\n",
      "R = 8.314         #Ideal Gas Constant, J/(mol.K)\n",
      "Pf = 101325       #Pa\n",
      "T20 = 293.15\n",
      "Po = 1\n",
      "Pl = 10000\n",
      "Ts = -44.3\n",
      "#Calculations\n",
      "Ts = Ts + 273.15\n",
      "DHf = DHf*1e3\n",
      "DHv = -R*log(Pf/pv20)/(1/nbp-1/T20)\n",
      "DSv = DHv/nbp\n",
      "Ttp = -DHf/(R*(log(Pl/Po)-log(pv443/Po)-(DHv+DHf)/(R*Ts) + DHv/(R*T20)))\n",
      "\n",
      "#Results\n",
      "print 'Latent heat of vaporization of benzene at 20\u00b0C %5.2f J/mol'%DHv\n",
      "print 'Entropy Change of vaporization of benzene at 20\u00b0C %3.1f J/mol'%DSv\n",
      "print 'Triple point of benzene %4.1f K'%Ttp"
     ],
     "language": "python",
     "metadata": {},
     "outputs": [
      {
       "output_type": "stream",
       "stream": "stdout",
       "text": [
        "Latent heat of vaporization of benzene at 20\u00b0C 30686.36 J/mol\n",
        "Entropy Change of vaporization of benzene at 20\u00b0C 86.9 J/mol\n",
        "Triple point of benzene 267.3 K\n"
       ]
      }
     ],
     "prompt_number": 17
    },
    {
     "cell_type": "heading",
     "level": 2,
     "metadata": {},
     "source": [
      "Example Problem 8.3, Page Number 191"
     ]
    },
    {
     "cell_type": "code",
     "collapsed": false,
     "input": [
      "from math import cos, pi\n",
      "\n",
      "#Varialble Declaration\n",
      "gama = 71.99e-3   #Surface tension of water, N/m\n",
      "r = 1.2e-4        #Radius of hemisphere, m\n",
      "theta = 0.0       #Contact angle, rad\n",
      "\n",
      "#Calculations\n",
      "DP = 2*gama*cos(theta)/r\n",
      "F = DP*pi*r**2\n",
      "\n",
      "#Results\n",
      "print 'Force exerted by one leg %5.3e N'%F"
     ],
     "language": "python",
     "metadata": {},
     "outputs": [
      {
       "output_type": "stream",
       "stream": "stdout",
       "text": [
        "Force exerted by one leg 5.428e-05 N\n"
       ]
      }
     ],
     "prompt_number": 7
    },
    {
     "cell_type": "heading",
     "level": 2,
     "metadata": {},
     "source": [
      "Example Problem 8.4, Page Number 191"
     ]
    },
    {
     "cell_type": "code",
     "collapsed": false,
     "input": [
      "from math import cos\n",
      "\n",
      "#Varialble Declaration\n",
      "gama = 71.99e-3   #Surface tension of water, N/m\n",
      "r = 2e-5          #Radius of xylem, m\n",
      "theta = 0.0       #Contact angle, rad\n",
      "rho = 997.0       #Density of water, kg/m3\n",
      "g = 9.81          #gravitational acceleration, m/s2\n",
      "H = 100           #Height at top of redwood tree, m\n",
      "\n",
      "#Calculations\n",
      "h = 2*gama/(rho*g*r*cos(theta))\n",
      "\n",
      "#Results\n",
      "print 'Height to which water can rise by capillary action is %3.2f m'%h\n",
      "print 'This is very less than %4.1f n, hence water can not reach top of tree'%H"
     ],
     "language": "python",
     "metadata": {},
     "outputs": [
      {
       "output_type": "stream",
       "stream": "stdout",
       "text": [
        "Height to which water can rise by capillary action is 0.74 m\n",
        "This is very less than 100.0 n, hence water can not reach top of tree\n"
       ]
      }
     ],
     "prompt_number": 1
    }
   ],
   "metadata": {}
  }
 ]
}