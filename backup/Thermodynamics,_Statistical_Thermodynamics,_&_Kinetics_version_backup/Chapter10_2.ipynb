{
 "metadata": {
  "name": "",
  "signature": "sha256:83e7e02c224bb370929cff9832918ae9c98d9e287b7f595b2c76bce75548416a"
 },
 "nbformat": 3,
 "nbformat_minor": 0,
 "worksheets": [
  {
   "cells": [
    {
     "cell_type": "heading",
     "level": 1,
     "metadata": {},
     "source": [
      "Chapter 10: Electrolyte Solutions"
     ]
    },
    {
     "cell_type": "heading",
     "level": 2,
     "metadata": {},
     "source": [
      "Example Problem 10.2, Page Number 242"
     ]
    },
    {
     "cell_type": "code",
     "collapsed": false,
     "input": [
      "#Variable Declaration\n",
      "M = 0.050       #Molarity for NaCl and Na2SO4 solution, mol/kg\n",
      "npa, zpa = 1, 1\n",
      "nma, zma = 1, 1\n",
      "npb, zpb = 2, 1\n",
      "nmb, zmb = 1, 2\n",
      "\n",
      "#Calculations\n",
      "Ia = M*(npa*zpa**2 + nma*zma**2)/2\n",
      "Ib = M*(npb*zpb**2 + nmb*zmb**2)/2\n",
      "\n",
      "#Results\n",
      "print 'Ionic streangth for NaCl solution is %4.3f and for Na2SO4 solution is %4.3f, mol/kg'%(Ia,Ib)"
     ],
     "language": "python",
     "metadata": {},
     "outputs": [
      {
       "output_type": "stream",
       "stream": "stdout",
       "text": [
        "Ionic streangth for NaCl solution is 0.050 and for Na2SO4 solution is 0.150, mol/kg\n"
       ]
      }
     ],
     "prompt_number": 4
    }
   ],
   "metadata": {}
  }
 ]
}