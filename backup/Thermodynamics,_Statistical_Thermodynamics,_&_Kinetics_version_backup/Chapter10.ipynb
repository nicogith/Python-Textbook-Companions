{
 "metadata": {
  "name": "",
  "signature": "sha256:1d42669bd8107d861c6e3eefe6f0700977fa1e9c23ddda22a03d5e75fa945558"
 },
 "nbformat": 3,
 "nbformat_minor": 0,
 "worksheets": [
  {
   "cells": [
    {
     "cell_type": "heading",
     "level": 1,
     "metadata": {},
     "source": [
      "Chapter 10: Electrolyte Solutions"
     ]
    },
    {
     "cell_type": "heading",
     "level": 2,
     "metadata": {},
     "source": [
      "Example Problem 10.2, Page Number 242"
     ]
    },
    {
     "cell_type": "code",
     "collapsed": false,
     "input": [
      "#Variable Declaration\n",
      "M = 0.050       #Molarity of NaCl solution and also forNa2SO4 solution, mol/kg\n",
      "\n",
      "\n",
      "#Calculations\n",
      "Ia = M*(1+1)/2\n",
      "Ib = M*(2+4)/2\n",
      "\n",
      "#Results\n",
      "print 'Ionic streangth for NaCl solution is %4.3f and for Na2SO4 solution is %4.3f, mol/kg'%(Ia,Ib)"
     ],
     "language": "python",
     "metadata": {},
     "outputs": [
      {
       "output_type": "stream",
       "stream": "stdout",
       "text": [
        "Ionic streangth for NaCl solution is 0.050 and for Na2SO4 solution is 0.150, mol/kg\n"
       ]
      }
     ],
     "prompt_number": 1
    }
   ],
   "metadata": {}
  }
 ]
}