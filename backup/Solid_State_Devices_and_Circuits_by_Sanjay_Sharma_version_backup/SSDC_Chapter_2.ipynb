{
 "metadata": {
  "name": ""
 },
 "nbformat": 3,
 "nbformat_minor": 0,
 "worksheets": [
  {
   "cells": [
    {
     "cell_type": "heading",
     "level": 1,
     "metadata": {},
     "source": [
      "Chapter 2 : Bipolar Junction Transistors"
     ]
    },
    {
     "cell_type": "heading",
     "level": 2,
     "metadata": {},
     "source": [
      "Example 2.1, Page No. 50"
     ]
    },
    {
     "cell_type": "code",
     "collapsed": false,
     "input": [
      "# comman base dc current gain\n",
      "\n",
      "import math\n",
      "#Variable Declaration\n",
      "Ic=2.10*10**-3             # collector current in ampere\n",
      "Ie=2.18*10**-3             # emitter current in ampere\n",
      "\n",
      "#Calculations\n",
      "alfa=Ic/Ie\n",
      "\n",
      "#Result\n",
      "print(\"comman base dc current gain = %f\"%alfa)\n",
      "#Different values used for calculations in the book"
     ],
     "language": "python",
     "metadata": {},
     "outputs": [
      {
       "output_type": "stream",
       "stream": "stdout",
       "text": [
        "comman base dc current gain = 0.963303\n"
       ]
      }
     ],
     "prompt_number": 3
    },
    {
     "cell_type": "heading",
     "level": 2,
     "metadata": {},
     "source": [
      "Example 2.2, Page No. 50"
     ]
    },
    {
     "cell_type": "code",
     "collapsed": false,
     "input": [
      "# Base Current\n",
      "\n",
      "import math\n",
      "#Variable Declaration\n",
      "alfa= 0.987               # Common base D.C. Current Gain\n",
      "Ie= 10.0                  # in Milli Ampere\n",
      "\n",
      "#Calcualtions\n",
      "Ic= alfa*Ie               # Collector Current\n",
      "Ib=Ie-Ic                  # Base Current in Mili Ampere\n",
      "\n",
      "#Result\n",
      "print(\"collector current (in mA) = %.2f\"%Ic)\n",
      "print(\"base current (in mA)      = %.2f\"%Ib)"
     ],
     "language": "python",
     "metadata": {},
     "outputs": [
      {
       "output_type": "stream",
       "stream": "stdout",
       "text": [
        "collector current (in mA) = 9.87\n",
        "base current (in mA)      = 0.13\n"
       ]
      }
     ],
     "prompt_number": 4
    },
    {
     "cell_type": "heading",
     "level": 2,
     "metadata": {},
     "source": [
      "Example 2.3, Page No. 51"
     ]
    },
    {
     "cell_type": "code",
     "collapsed": false,
     "input": [
      "# Calculate base current and collector current\n",
      "    \n",
      "import math\n",
      "#Variable Declaration\n",
      "alfa= 0.967               # Common base D.C. Current Gain\n",
      "Ie= 10.0                  # in Milli Ampere\n",
      "\n",
      "#Calculations\n",
      "Ic= alfa*Ie               # Collector Current\n",
      "Ib=Ie-Ic                  # Base Current in Mili Ampere\n",
      "\n",
      "#Result\n",
      "print(\"collector current (in mA) = %.2f\"%Ic)\n",
      "print(\"base current (in mA)      = %.2f\"%Ib)"
     ],
     "language": "python",
     "metadata": {},
     "outputs": [
      {
       "output_type": "stream",
       "stream": "stdout",
       "text": [
        "collector current (in mA) = 9.67\n",
        "base current (in mA)      = 0.33\n"
       ]
      }
     ],
     "prompt_number": 5
    },
    {
     "cell_type": "heading",
     "level": 2,
     "metadata": {},
     "source": [
      "Example 2.4, Page No. 52"
     ]
    },
    {
     "cell_type": "code",
     "collapsed": false,
     "input": [
      "# Calculate base current and collector current\n",
      "    \n",
      "import math\n",
      "#Variable Declaration\n",
      "Beta=100.0              # Common Emitter D.C. Current gain\n",
      "Ie=10.0                 # Emitter current in mili ampere\n",
      "\n",
      "#Calculations\n",
      "alfa= (Beta/(Beta+1))   # Common Base D.C. Current gain\n",
      "Ic= alfa*Ie             # Collector current in milli ampere\n",
      "Ib=Ie-Ic                # Base Current in milli ampere\n",
      "\n",
      "#Result\n",
      "print(\"collector current (in mA) = %.2f\"%Ic)\n",
      "print(\"base current (in mA)      = %.2f\"%Ib)\n",
      "# Answer in the book is wrong"
     ],
     "language": "python",
     "metadata": {},
     "outputs": [
      {
       "output_type": "stream",
       "stream": "stdout",
       "text": [
        "collector current (in mA) = 9.90\n",
        "base current (in mA)      = 0.10\n"
       ]
      }
     ],
     "prompt_number": 4
    },
    {
     "cell_type": "heading",
     "level": 2,
     "metadata": {},
     "source": [
      "Example 2.5.a, Page No. 53"
     ]
    },
    {
     "cell_type": "code",
     "collapsed": false,
     "input": [
      "# Calculate Common Emitter D.C. Current gain\n",
      "    \n",
      "import math\n",
      "#Variable Declaration\n",
      "alfa=0.950               # Common base D.C. Current gain\n",
      "\n",
      "#Calculations\n",
      "beta= (alfa/(1-alfa))\n",
      "\n",
      "#Result\n",
      "print(\"Common Emitter D.C. Current gain = %.f\"%beta)"
     ],
     "language": "python",
     "metadata": {},
     "outputs": [
      {
       "output_type": "stream",
       "stream": "stdout",
       "text": [
        "Common Emitter D.C. Current gain = 19\n"
       ]
      }
     ],
     "prompt_number": 8
    },
    {
     "cell_type": "heading",
     "level": 2,
     "metadata": {},
     "source": [
      "Example 2.5.b, Page No. 53"
     ]
    },
    {
     "cell_type": "code",
     "collapsed": false,
     "input": [
      "# Calculate Common Base D.C. Current gain\n",
      "    \n",
      "import math\n",
      "#Variable Declaration\n",
      "Beta=100.0               #Common emitter D.C. Current gain\n",
      "\n",
      "#Calculations\n",
      "alfa= (Beta/(1+Beta))\n",
      "\n",
      "#Result\n",
      "print(\"Common Base D.C. Current gain = %.2f\"%alfa)"
     ],
     "language": "python",
     "metadata": {},
     "outputs": [
      {
       "output_type": "stream",
       "stream": "stdout",
       "text": [
        "Common Base D.C. Current gain = 0.99\n"
       ]
      }
     ],
     "prompt_number": 10
    },
    {
     "cell_type": "heading",
     "level": 2,
     "metadata": {},
     "source": [
      "Example 2.6, Page No. 53"
     ]
    },
    {
     "cell_type": "code",
     "collapsed": false,
     "input": [
      "# Calculate base current and collector current\n",
      "\n",
      "import math\n",
      "#Variable Declaration\n",
      "Beta=100              # Common Emitter D.C. Current gain\n",
      "Ie=10.0               # Emitter current in mili ampere\n",
      "\n",
      "#Calculation\n",
      "Ib=(Ie/(1+Beta))      # Emitter current in mili amperen mA\n",
      "Ic= Ie-Ib             # Collector current in mili amperen mA\n",
      "\n",
      "#Result\n",
      "print(\"Base current (in mA)      = %.3f\"%Ib)\n",
      "print(\"Collector current (in mA) = %.3f\"%Ic)\n",
      "#Answer in the book is incorrect"
     ],
     "language": "python",
     "metadata": {},
     "outputs": [
      {
       "output_type": "stream",
       "stream": "stdout",
       "text": [
        "Base current (in mA)      = 0.099\n",
        "Collector current (in mA) = 9.901\n"
       ]
      }
     ],
     "prompt_number": 11
    },
    {
     "cell_type": "heading",
     "level": 2,
     "metadata": {},
     "source": [
      "Example 2.7, Page No. 64"
     ]
    },
    {
     "cell_type": "code",
     "collapsed": false,
     "input": [
      "# Calculate the collector to emitter voltage(Vce) and Collector current (Ic)\n",
      "\n",
      "import math\n",
      "#Variable Declaration\n",
      "Vcc= 12.0          # as Ic=0 so Vce=Vcc (In volts)\n",
      "Rc= 3.0            # Collector Resistance in killo oms\n",
      "\n",
      "#Calcuations\n",
      "Ic=Vcc/Rc          # Collector Current in Amperes\n",
      "Vce=Vcc\n",
      "\n",
      "#Result\n",
      "print(\"Colletor to emitter voltage (in volts) = %.f\"%Vce)\n",
      "print(\" Collector current (in mA)             = %.f\"%Ic)"
     ],
     "language": "python",
     "metadata": {},
     "outputs": [
      {
       "output_type": "stream",
       "stream": "stdout",
       "text": [
        "Colletor to emitter voltage (in volts) = 12\n",
        " Collector current (in mA)             = 4\n"
       ]
      }
     ],
     "prompt_number": 15
    },
    {
     "cell_type": "heading",
     "level": 2,
     "metadata": {},
     "source": [
      "Example 2.8.a, Page No. 73"
     ]
    },
    {
     "cell_type": "code",
     "collapsed": false,
     "input": [
      "# Calculate oerating point\n",
      "    \n",
      "import math\n",
      "#Variable Declaration\n",
      "Vcc= 6.0                # Colector voltage in volts\n",
      "Rb= 530.0               # in kilo ohms\n",
      "Beta=100.0              # Common emitter D.C. Current gain\n",
      "Rc=2.0                  # Collector resistance in killo ohms\n",
      "Vbe= 0.7                # Base to emitter voltage in volts\n",
      "\n",
      "#Calculations\n",
      "Ib= ((Vcc-Vbe)/Rb)      # in micro amperes\n",
      "Ic=Beta*Ib              # in milli ampere\n",
      "Vce= Vcc-(Ic*Rc)        # Colector to emitter voltage in volts\n",
      "\n",
      "#Result\n",
      "print(\"Operating point is (Vce,Ic):\")\n",
      "print(\"Vce = %.f V\\t Ic = %.f micro-A\"%(Vce,Ic))"
     ],
     "language": "python",
     "metadata": {},
     "outputs": [
      {
       "output_type": "stream",
       "stream": "stdout",
       "text": [
        "Operating point is (Vce,Ic):\n",
        "Vce = 4 V\t Ic = 1 micro-A\n"
       ]
      }
     ],
     "prompt_number": 12
    },
    {
     "cell_type": "heading",
     "level": 2,
     "metadata": {},
     "source": [
      "Example 2.8.b, Page No. 73"
     ]
    },
    {
     "cell_type": "code",
     "collapsed": false,
     "input": [
      "# Calculate stability factor\n",
      "    \n",
      "import math\n",
      "#Variable Declaration\n",
      "Beta=100.0               # Common emitter D.C. Current gain\n",
      "\n",
      "#Calculations\n",
      "S=1+Beta \n",
      "\n",
      "#Result\n",
      "print(\"The Stability factor = %.f\"%S)"
     ],
     "language": "python",
     "metadata": {},
     "outputs": [
      {
       "output_type": "stream",
       "stream": "stdout",
       "text": [
        "The Stability factor = 101\n"
       ]
      }
     ],
     "prompt_number": 20
    },
    {
     "cell_type": "heading",
     "level": 2,
     "metadata": {},
     "source": [
      "Example 2.9.a, Page No. 74"
     ]
    },
    {
     "cell_type": "code",
     "collapsed": false,
     "input": [
      "# Calculate base current\n",
      "    \n",
      "import math\n",
      "#Variable Declaration\n",
      "Vcc=20.0              # Colector voltage in volts\n",
      "Rb= 200.0             # in kilo ohms\n",
      "Beta=75.0             # Common emitter D.C. Current gain\n",
      "Rc=0.8                # Collector resistance in killo ohms\n",
      "Vbe= 0.0              # Base to emitter voltage in volts\n",
      "\n",
      "#Calcualtions\n",
      "Ib=Vcc/Rb\n",
      "\n",
      "#Result\n",
      "print(\"Base current in micro-A = %.1f\"%(Ib*10**3))"
     ],
     "language": "python",
     "metadata": {},
     "outputs": [
      {
       "output_type": "stream",
       "stream": "stdout",
       "text": [
        "Base current in micro-A = 100.0\n"
       ]
      }
     ],
     "prompt_number": 15
    },
    {
     "cell_type": "heading",
     "level": 2,
     "metadata": {},
     "source": [
      "Example 2.9.b, Page No. 74 "
     ]
    },
    {
     "cell_type": "code",
     "collapsed": false,
     "input": [
      "# Calculate collector current\n",
      "    \n",
      "import math\n",
      "#Variable Declaration\n",
      "Vcc=20.0                  # Colector voltage in volts\n",
      "Rb= 200.0                 # in kilo ohms\n",
      "Beta=75.0                 # Common emitter D.C. Current gain\n",
      "Rc=0.8                    # Collector resistance in killo ohms\n",
      "Vbe= 0.0                  # Base to emitter voltage in volts\n",
      "Ib=0.1                    # Base current in mA\n",
      "\n",
      "#Cacualtions\n",
      "Ic=Beta*Ib                # Collector current in mA\n",
      "\n",
      "#Result\n",
      "print(\"Collector current in mA = %.1f\"%Ic)"
     ],
     "language": "python",
     "metadata": {},
     "outputs": [
      {
       "output_type": "stream",
       "stream": "stdout",
       "text": [
        "Collector current in mA = 7.5\n"
       ]
      }
     ],
     "prompt_number": 24
    },
    {
     "cell_type": "heading",
     "level": 2,
     "metadata": {},
     "source": [
      "Example 2.9.c, Page No. 74"
     ]
    },
    {
     "cell_type": "code",
     "collapsed": false,
     "input": [
      "# Calculate collector TO emitter voltage\n",
      "    \n",
      "import math\n",
      "#Variable Declaration\n",
      "Vcc=20.0              # Colector voltage in volts\n",
      "Rb= 200.0             # in kilo ohms\n",
      "Beta=75.0             # Common emitter D.C. Current gain\n",
      "Rc=0.8                # Collector resistance in killo ohms\n",
      "Vbe= 0.0              #  Base to emitter voltage in volts\n",
      "Ib=0.1                # Base current in mA\n",
      "Ic=7.5                # Base current in mA\n",
      "\n",
      "#Calculations\n",
      "Vce=Vcc- (Ic*Rc)\n",
      "\n",
      "#Result\n",
      "print(\"Collector to emitter voltage in volts = %.f\"%Vce)"
     ],
     "language": "python",
     "metadata": {},
     "outputs": [
      {
       "output_type": "stream",
       "stream": "stdout",
       "text": [
        "Collector to emitter voltage in volts = 14\n"
       ]
      }
     ],
     "prompt_number": 26
    },
    {
     "cell_type": "heading",
     "level": 2,
     "metadata": {},
     "source": [
      "Example 2.9.d, Page No. 74"
     ]
    },
    {
     "cell_type": "code",
     "collapsed": false,
     "input": [
      "# Calculate collector TO emitter voltage\n",
      "    \n",
      "import math\n",
      "#Variable Declaration\n",
      "Vcc=20.0                   # Colector voltage in volts\n",
      "Rb= 200.0                  # in kilo ohms\n",
      "Beta=75.0                  # common emitter D.C. Current gain\n",
      "Rc=0.8                     # Collector resistance in killo ohms\n",
      "Vbe= 0.0                   # Base to emitter voltage in volts\n",
      "\n",
      "#Calculations\n",
      "S=1+Beta \n",
      "\n",
      "#Resut\n",
      "print(\"The Stability factor = %.f\"%S)"
     ],
     "language": "python",
     "metadata": {},
     "outputs": [
      {
       "output_type": "stream",
       "stream": "stdout",
       "text": [
        "The Stability factor = 76\n"
       ]
      }
     ],
     "prompt_number": 28
    },
    {
     "cell_type": "heading",
     "level": 2,
     "metadata": {},
     "source": [
      "Example 2.10, Page No. 74"
     ]
    },
    {
     "cell_type": "code",
     "collapsed": false,
     "input": [
      "# Calculate base resistance , Voltage between collector & ground and Stability factor\n",
      "    \n",
      "import math\n",
      "#Variable Declaration\n",
      "Vcc=12.0                # Colector voltage in volts\n",
      "Ib= 0.3                 # in mili ampere\n",
      "Beta=100.0              # Common emitter D.C. Current gain\n",
      "Rc=0.3                  # Collector resistance in killo ohms\n",
      "\n",
      "#Calaculations\n",
      "Rb=Vcc/Ib\n",
      "Ic= Beta*Ib\n",
      "Vce=Vcc -(Ic*Rc)\n",
      "S=1+Beta \n",
      "\n",
      "#Result\n",
      "print(\"Base resistance in killo ohms        = %.f\"%Rb)\n",
      "print(\"Collector to ground voltgae in volts = %.f\"%Vce)\n",
      "print(\"The Stability factor                 = %.f\"%S)"
     ],
     "language": "python",
     "metadata": {},
     "outputs": [
      {
       "output_type": "stream",
       "stream": "stdout",
       "text": [
        "Base resistance in killo ohms        = 40\n",
        "Collector to ground voltgae in volts = 3\n",
        "The Stability factor                 = 101\n"
       ]
      }
     ],
     "prompt_number": 32
    },
    {
     "cell_type": "heading",
     "level": 2,
     "metadata": {},
     "source": [
      "Example 2.11, Page No. 76"
     ]
    },
    {
     "cell_type": "code",
     "collapsed": false,
     "input": [
      "# Calculate base current , Collector current and Collector to emitter voltage\n",
      "    \n",
      "import math\n",
      "#Variable Declaration\n",
      "Vcc=20.0                 # Colector voltage in volts\n",
      "Rb= 400.0                # in KILLO OHMS\n",
      "Beta=100.0               # Common emitter D.C. Current gain\n",
      "Rc=2.0                   # Collector resistance in killo ohms\n",
      "Re=1.0                   # Emitter resistance in killo ohms\n",
      "\n",
      "#Calcualtions\n",
      "Ib= Vcc / (Rb + (Beta*Re))\n",
      "Ic= Beta*Ib\n",
      "Vce=Vcc -(Ic*(Rc+Re))\n",
      "\n",
      "#Result\n",
      "print(\"Base current in mA                   = %.2f\"%Ib)\n",
      "print(\"Collector current in mA              = %.f\"%Ic)\n",
      "print(\"Collector to ground voltgae in volts = %.f\"%Vce)"
     ],
     "language": "python",
     "metadata": {},
     "outputs": [
      {
       "output_type": "stream",
       "stream": "stdout",
       "text": [
        "Base current in mA                   = 0.04\n",
        "Collector current in mA              = 4\n",
        "Collector to ground voltgae in volts = 8\n"
       ]
      }
     ],
     "prompt_number": 34
    },
    {
     "cell_type": "heading",
     "level": 2,
     "metadata": {},
     "source": [
      "Example 2.12, Page No. 77"
     ]
    },
    {
     "cell_type": "code",
     "collapsed": false,
     "input": [
      "# Calculate  Collector current and Collector to emitter voltage\n",
      "    \n",
      "import math\n",
      "#Variable Declaration\n",
      "Vcc=25.0             # Colector voltage in volts\n",
      "Vbe=0.7              # Base to emitter voltage  in volts\n",
      "Rb= 180.0            # in KILLO OHMS\n",
      "Beta=80.0            # Common emitter D.C. Current gain\n",
      "Rc=0.82              # Collector resistance in killo ohms\n",
      "Re=0.2               # Emitter resistance in killo ohms\n",
      "\n",
      "#Calculations\n",
      "Ic= (Vcc-Vbe)/(Re + (Rb/Beta))\n",
      "Ic = math.floor(Ic*10)/10\n",
      "Vce=Vcc -(Ic*(Rc+Re))\n",
      "\n",
      "#Result\n",
      "print(\"Collector current in mA              = %.1f\"%Ic)\n",
      "print(\"Collector to ground voltgae in volts = %f\"%Vce)\n",
      "#Answer for Vce is incorrect in the book"
     ],
     "language": "python",
     "metadata": {},
     "outputs": [
      {
       "output_type": "stream",
       "stream": "stdout",
       "text": [
        "Collector current in mA              = 9.9\n",
        "Collector to ground voltgae in volts = 14.902000\n"
       ]
      }
     ],
     "prompt_number": 20
    },
    {
     "cell_type": "heading",
     "level": 2,
     "metadata": {},
     "source": [
      "Example 2.13, Page No. 80"
     ]
    },
    {
     "cell_type": "code",
     "collapsed": false,
     "input": [
      "# Calculate  Collector current , Collector to emitter voltage and stability factor\n",
      "    \n",
      "import math\n",
      "#Variable Declaration\n",
      "Vcc=20.0                # Colector voltage in volts\n",
      "Vbe=0.7                 # Base to emitter voltage  in volts\n",
      "Rb= 200.0               # in KILLO OHMS\n",
      "Beta=100.0              # Common emitter D.C. Current gain\n",
      "Rc=20.0                 # Collector resistance in killo ohms\n",
      "\n",
      "#Calculations\n",
      "Ic= (Vcc-Vbe)/(Rc + (Rb/Beta));\n",
      "Vce=Vcc -(Ic*Rc);\n",
      "S=(1+Beta)/(1+Beta*(Rc/(Rc+Rb)));\n",
      "\n",
      "#Result\n",
      "print(\"Collector current in mA               = %.3f\"%Ic)\n",
      "print(\"Collector to ground voltgae in volts  = %.2f\"%(math.ceil(Vce*100)/100))\n",
      "print(\"The Stability factor                  = %.3f\"%S)"
     ],
     "language": "python",
     "metadata": {},
     "outputs": [
      {
       "output_type": "stream",
       "stream": "stdout",
       "text": [
        "Collector current in mA               = 0.877\n",
        "Collector to ground voltgae in volts  = 2.46\n",
        "The Stability factor                  = 10.009\n"
       ]
      }
     ],
     "prompt_number": 25
    },
    {
     "cell_type": "heading",
     "level": 2,
     "metadata": {},
     "source": [
      "Example 2.14, Page No. 80"
     ]
    },
    {
     "cell_type": "code",
     "collapsed": false,
     "input": [
      "# Calculate  base current , Collector current  , Collector to emitter voltage and stability factor\n",
      "\n",
      "import math\n",
      "#Variable Declaration\n",
      "Vcc=10.0              # Colector voltage in volts\n",
      "Vbe=0.0               # Base to emitter voltage  in volts\n",
      "Rb= 100.0             # in KILLO OHMS\n",
      "Beta=100.0            # Common emitter D.C. Current gain\n",
      "Rc=10.0               # Collector resistance in killo ohms\n",
      "\n",
      "#Calcualtions\n",
      "Ib= (Vcc-Vbe)/(Rb+ Beta*Rc)\n",
      "Ic= Beta * Ib\n",
      "Vce=Vcc -(Ic*Rc)\n",
      "S=(1.0+Beta)/(1.0+Beta*(Rc/(Rc+Rb)))\n",
      "\n",
      "\n",
      "#Result\n",
      "print(\"base current                          = %.f micro-A\"%(Ib*1000))\n",
      "print(\"Collector current                     = %.1f mA\"%Ic)\n",
      "print(\"Collector to ground voltgae           = %.1f V\"%(math.ceil(Vce)))\n",
      "print(\"The Stability factor                  = %.3f\"%S)\n",
      "#Answer for stability is wrong in the book"
     ],
     "language": "python",
     "metadata": {},
     "outputs": [
      {
       "output_type": "stream",
       "stream": "stdout",
       "text": [
        "base current                          = 9 micro-A\n",
        "Collector current                     = 0.9 mA\n",
        "Collector to ground voltgae           = 1.0 V\n",
        "The Stability factor                  = 10.009\n"
       ]
      }
     ],
     "prompt_number": 42
    },
    {
     "cell_type": "heading",
     "level": 2,
     "metadata": {},
     "source": [
      "Example 2.15, Page No. 84"
     ]
    },
    {
     "cell_type": "code",
     "collapsed": false,
     "input": [
      "# Calculate emitter current , Collector current  and Collector to emitter voltage \n",
      "    \n",
      "import math\n",
      "#Variable Declaration\n",
      "Vcc=10.0                # Colector voltage in volts\n",
      "Vbe=0.7                 # Base to emitter voltage  in volts\n",
      "Vee=10.0                # emitter voltage  in volts\n",
      "Rb= 50.0                # in KILLO OHMS\n",
      "Beta=100.0              # Common emitter D.C. Current gain\n",
      "Rc=1.0                  # Collector resistance in killo ohms\n",
      "Re=5.0                  # Emitter resistance in killo ohms\n",
      "\n",
      "#Calculations\n",
      "Ie= (Vee-Vbe)/Re\n",
      "Ic= Ie\n",
      "Vce1=Vcc -(Ic*Rc)\n",
      "Ve=-Vbe\n",
      "Vce=Vce1-Ve\n",
      "\n",
      "#Result\n",
      "print(\"Emitter Current in mA                 = %.2f\"%Ie)\n",
      "print(\"Collector current in mA               = %.2f\"%Ic)\n",
      "print(\"Collector to ground voltgae in volts  = %.2f\"%Vce)"
     ],
     "language": "python",
     "metadata": {},
     "outputs": [
      {
       "output_type": "stream",
       "stream": "stdout",
       "text": [
        "Emitter Current in mA                 = 1.86\n",
        "Collector current in mA               = 1.86\n",
        "Collector to ground voltgae in volts  = 8.84\n"
       ]
      }
     ],
     "prompt_number": 40
    },
    {
     "cell_type": "heading",
     "level": 2,
     "metadata": {},
     "source": [
      "Example 2.16, Page No. 86"
     ]
    },
    {
     "cell_type": "code",
     "collapsed": false,
     "input": [
      "# Calculate the change in q point\n",
      "    \n",
      "import math\n",
      "#Variable Declaration\n",
      "Vcc=20.0          # Colector voltage in volts\n",
      "Vbe1=0.7          # Base to emitter voltage  in volts\n",
      "Vee=20.0          # emitter voltage  in volts\n",
      "Rb= 10.0          # in KILLO OHMS\n",
      "Beta1=50.0        # Common emitter D.C. Current gain\n",
      "Rc=5.0            # Collector resistance in killo ohms\n",
      "Re=10.0           # Emitter resistance in killo ohms\n",
      "Vbe2=0.6          # Base to emitter voltage  in volts\n",
      "Beta2=100.0        # Common emitter D.C. Current gain\n",
      "\n",
      "#Calculation\n",
      "Ie1= (Vee-Vbe1)/(Re+(Rb/Beta1))\n",
      "Ic1=Ie1\n",
      "Vce1a=Vcc -(Ic1*Rc)\n",
      "Ve=-Vbe1\n",
      "Vce1=Vce1a-Ve\n",
      "Vce1 = math.ceil(Vce1*100)/100\n",
      "Ie2= (Vee-Vbe2)*10**3/(Re*10**3+(Rb*10**3/Beta2))\n",
      "Ie2 = math.ceil(Ie2*1000)/1000\n",
      "Ic2=Ie2\n",
      "Vce2a=Vcc -(Ic2*Rc)\n",
      "Ve=-Vbe2\n",
      "Vce2=Vce2a-Ve\n",
      "detaIc= ((Ie2-Ie1)/Ie1)*100\n",
      "detaVce=((Vce1-Vce2)/Vce1)*100\n",
      "\n",
      "#Result\n",
      "print(\"Emitter Current in first case,Ie                  = %.3f mA\"%Ie1)\n",
      "print(\"Collector-to-emitter voltgae in first case,Vce    = %.2f V\"%Vce1)\n",
      "print(\"Emitter Current in second case, Ie                = %.3f mA\"%Ie2)\n",
      "print(\"Collector-to-emitter voltgae in 2nd case, Vce     = %.3f V\"%Vce2)\n",
      "print(\"Change in collector current                       = %.2f%%\"%(math.ceil(detaIc*100)/100))\n",
      "print(\"Change in collector to emitter voltage            = %.2f%%\"%detaVce)"
     ],
     "language": "python",
     "metadata": {},
     "outputs": [
      {
       "output_type": "stream",
       "stream": "stdout",
       "text": [
        "Emitter Current in first case,Ie                  = 1.892 mA\n",
        "Collector-to-emitter voltgae in first case,Vce    = 11.24 V\n",
        "Emitter Current in second case, Ie                = 1.921 mA\n",
        "Collector-to-emitter voltgae in 2nd case, Vce     = 10.995 V\n",
        "Change in collector current                       = 1.53%\n",
        "Change in collector to emitter voltage            = 2.18%\n"
       ]
      }
     ],
     "prompt_number": 22
    },
    {
     "cell_type": "heading",
     "level": 2,
     "metadata": {},
     "source": [
      "Example 2.17, Page No. 90"
     ]
    },
    {
     "cell_type": "code",
     "collapsed": false,
     "input": [
      "# Calculate dynamic input resistance\n",
      "    \n",
      "import math\n",
      "#Variable Declaration\n",
      "deltaVbe=200.0            # in milli volts\n",
      "deltaIe=5.0               # in milli ampere\n",
      "\n",
      "#Calculations\n",
      "Ri=deltaVbe/deltaIe\n",
      "\n",
      "#Result\n",
      "print(\"Dyanamic input resistance is (in ohms) = %.f\"%Ri)"
     ],
     "language": "python",
     "metadata": {},
     "outputs": [
      {
       "output_type": "stream",
       "stream": "stdout",
       "text": [
        "Dyanamic input resistance is (in ohms) = 40\n"
       ]
      }
     ],
     "prompt_number": 47
    },
    {
     "cell_type": "heading",
     "level": 2,
     "metadata": {},
     "source": [
      "Example 2.18, Page No. 90"
     ]
    },
    {
     "cell_type": "code",
     "collapsed": false,
     "input": [
      "# Transistor parameters\n",
      "\n",
      "import math\n",
      "#Variable Declaration\n",
      "Vcc=15.0                     # Colector voltage in volts\n",
      "Rb= 180.0                    # in kilo ohms\n",
      "Beta=100.0                   # Common emitter D.C. Current gain\n",
      "Rc=1.5                       # Collector resistance in killo ohms\n",
      "Vbe= 0.7                     # Base to emitter voltage in volts\n",
      "\n",
      "#Calculations\n",
      "Ib= ((Vcc-Vbe)/Rb)           # in milli amperes\n",
      "Ic=Beta*Ib                   # in milli ampere\n",
      "Vce= Vcc-(Ic*Rc)             # Colector to emitter voltage in volts\n",
      "Vc=Vce\n",
      "Vb=Vbe\n",
      "Vcb=Vc-Vb\n",
      "\n",
      "#Result\n",
      "print(\"base current                    = %.2f micro-A \"%(Ib*10**3))\n",
      "print(\"Collector current               = %.2f mA\"%Ic)\n",
      "print(\"Collector to emitter voltage    = %.1f V\"%Vce)\n",
      "print(\"Collector voltage               = %.1f V\"%Vc)\n",
      "print(\"Base voltage                    = %.1f V\"%Vb)\n",
      "print(\"Collector to base voltage       = %.1f V\"%Vcb)"
     ],
     "language": "python",
     "metadata": {},
     "outputs": [
      {
       "output_type": "stream",
       "stream": "stdout",
       "text": [
        "base current                    = 79.44 micro-A \n",
        "Collector current               = 7.94 mA\n",
        "Collector to emitter voltage    = 3.1 V\n",
        "Collector voltage               = 3.1 V\n",
        "Base voltage                    = 0.7 V\n",
        "Collector to base voltage       = 2.4 V\n"
       ]
      }
     ],
     "prompt_number": 31
    },
    {
     "cell_type": "heading",
     "level": 2,
     "metadata": {},
     "source": [
      "Example 2.19, Page No. 91"
     ]
    },
    {
     "cell_type": "code",
     "collapsed": false,
     "input": [
      "# Operating point , stability factor\n",
      "\n",
      "import math\n",
      "#Variable Declaration\n",
      "Vcc=10.0          # Colector voltage in volts\n",
      "Rb= 930.0         # in kilo ohms\n",
      "Beta=100.0        # Common emitter D.C. Current gain\n",
      "Rc=4.0            # Collector resistance in killo ohms\n",
      "Vbe= 0.7          # Base to emitter voltage in volts\n",
      "Ib= ((Vcc-Vbe)/Rb)# in milli amperes\n",
      "Ic=Beta*Ib        # in milli ampere\n",
      "Vce= Vcc-(Ic*Rc)  # Colector to emitter voltage in volts\n",
      "S=(1+Beta)\n",
      "\n",
      "#Result\n",
      "print(\"Collector to emitter voltage In Volts = %.f\"%Vce)\n",
      "print(\"Collector current in milli Ampere     = %.f\"%Ic)\n",
      "print(\"The Stability factor                  = %.f\"%S)"
     ],
     "language": "python",
     "metadata": {},
     "outputs": [
      {
       "output_type": "stream",
       "stream": "stdout",
       "text": [
        "Collector to emitter voltage In Volts = 6\n",
        "Collector current in milli Ampere     = 1\n",
        "The Stability factor                  = 101\n"
       ]
      }
     ],
     "prompt_number": 32
    },
    {
     "cell_type": "heading",
     "level": 2,
     "metadata": {},
     "source": [
      "Example 2.20, Page No. 92"
     ]
    },
    {
     "cell_type": "code",
     "collapsed": false,
     "input": [
      "# Base Resistance , stability factor\n",
      "\n",
      "import math\n",
      "#Variable Declaration\n",
      "Vcc=20.0             # Colector voltage in volts\n",
      "Beta=100.0           # Common emitter D.C. Current gain\n",
      "Rc=1.0               # Collector resistance in killo ohms\n",
      "Vce=4.0              # Collector to emitter voltage in volts\n",
      "\n",
      "#Calculations\n",
      "Ic= ((Vcc-Vce)/Rc)   # in milli amperes\n",
      "Ib=Ic/Beta           # in milli ampere\n",
      "Rb=Vce/Ib            # in Killo ohms\n",
      "x = math.floor((1+Beta*(Rc/(Rc+Rb)))*100)/100\n",
      "S=math.floor((1+Beta)*100/x)/100\n",
      "\n",
      "#Result\n",
      "print(\"Base resistance      = %.f k-ohm\"%Rb)\n",
      "print(\"The Stability factor = %.2f\"%S)"
     ],
     "language": "python",
     "metadata": {},
     "outputs": [
      {
       "output_type": "stream",
       "stream": "stdout",
       "text": [
        "Base resistance      = 25 k-ohm\n",
        "The Stability factor = 20.86\n"
       ]
      }
     ],
     "prompt_number": 38
    },
    {
     "cell_type": "heading",
     "level": 2,
     "metadata": {},
     "source": [
      "Example 2.21, Page No. 92"
     ]
    },
    {
     "cell_type": "code",
     "collapsed": false,
     "input": [
      "# Quiescent , stability factor\n",
      "\n",
      "import math\n",
      "#Variable declaration\n",
      "Vcc=10.0                      # Colector voltage in volts\n",
      "Beta=50.0                     # Common emitter D.C. Current gain\n",
      "Rc=2.0                        # Collector resistance in killo ohms\n",
      "Rb= 100.0                     # in kilo ohms\n",
      "Vbe=0.0                       # Base to emitter voltage in volts\n",
      "\n",
      "#Calculations\n",
      "Ic= (Vcc-Vbe)/(Rc+(Rb/Beta))  # in milli amperes\n",
      "Ib=Ic/Beta                    # in milli ampere\n",
      "Vce= Vcc-(Ic*Rc)              # Colector to emitter voltage in volts\n",
      "S=(1+Beta)/(1+((Beta*Rc)/(Rc+Rb)))\n",
      "\n",
      "#Result\n",
      "print(\"Operating point is (Vce,Ic): \")\n",
      "print(\"Colector to emitter voltage = %.f V\"%Vce)\n",
      "print(\"Collector current           = %.1f mA\"%Ic)\n",
      "print(\"The Stability factor        = %.2f\"%S)\n",
      "#Answer for stability factor is wrong in the book"
     ],
     "language": "python",
     "metadata": {},
     "outputs": [
      {
       "output_type": "stream",
       "stream": "stdout",
       "text": [
        "Operating point is (Vce,Ic): \n",
        "Colector to emitter voltage = 5 V\n",
        "Collector current           = 2.5 mA\n",
        "The Stability factor        = 25.75\n"
       ]
      }
     ],
     "prompt_number": 41
    },
    {
     "cell_type": "heading",
     "level": 2,
     "metadata": {},
     "source": [
      "Example 2.22, Page No. 93"
     ]
    },
    {
     "cell_type": "code",
     "collapsed": false,
     "input": [
      "# Collector to emitter bias voltage\n",
      "\n",
      "import math\n",
      "#Variable declaration\n",
      "Vcc=20.0                  # Colector voltage in volts\n",
      "Beta=100                  # Common emitter D.C. Current gain\n",
      "Rc=2.0                    # Collector resistance in killo ohms\n",
      "Rb= 100.0                 # in kilo ohms\n",
      "Vbe=0.7                   # Base to emitter voltage in volts\n",
      "Ic=10.0                   # in milli amperes\n",
      "\n",
      "#Calculations\n",
      "Ib=Ic/Beta                # in milli ampere\n",
      "Vce= Vbe+(Ib*Rb)          # Colector to emitter voltage in volts\n",
      "\n",
      "#Result\n",
      "print(\"Colector to emitter bias voltage = %.1f V\"%Vce)"
     ],
     "language": "python",
     "metadata": {},
     "outputs": [
      {
       "output_type": "stream",
       "stream": "stdout",
       "text": [
        "Colector to emitter bias voltage = 10.7 V\n"
       ]
      }
     ],
     "prompt_number": 42
    },
    {
     "cell_type": "heading",
     "level": 2,
     "metadata": {},
     "source": [
      "Example 2.23, Page No. 93"
     ]
    },
    {
     "cell_type": "code",
     "collapsed": false,
     "input": [
      "# Base Currecnt ,Collector current\n",
      "\n",
      "import math\n",
      "#Variable declaration\n",
      "Icbo=0.0                 # collecttor to base leakage current\n",
      "Vcc=9.0                  # Colector voltage in volts\n",
      "Beta=100.0               # Common emitter D.C. Current gain\n",
      "Vce=5.0                  # Collector to emitter voltage in volts\n",
      "Ic=0.2                   # in milli amperes\n",
      "Rc=(Vcc-Vce)/Ic          # Collector Reesistance in ohms\n",
      "Ib=Ic/Beta               # in milli ampere\n",
      "Rb=Vce/Ib                # Base resistance in  ohms\n",
      "\n",
      "#Result\n",
      "print(\"Collector Resistance = %.f ohm\"%Rc)\n",
      "print(\"Base Resistance       = %.1f k-ohm\"%(Rb/1000))"
     ],
     "language": "python",
     "metadata": {},
     "outputs": [
      {
       "output_type": "stream",
       "stream": "stdout",
       "text": [
        "Collector Resistance = 20 ohm\n",
        "Base Resistance       = 2.5 k-ohm\n"
       ]
      }
     ],
     "prompt_number": 46
    },
    {
     "cell_type": "heading",
     "level": 2,
     "metadata": {},
     "source": [
      "Example 2.24, Page No. 94 "
     ]
    },
    {
     "cell_type": "code",
     "collapsed": false,
     "input": [
      "# Base Resistance , stability factor\n",
      "\n",
      "import math\n",
      "#Variable declaration\n",
      "Vcc=24.0            # Colector voltage in volts\n",
      "Beta=45.0           # Common emitter D.C. Current gain\n",
      "Rl=10.0             # Collector resistance in killo ohms\n",
      "Re=0.27             # Emitter resistance in killo ohms\n",
      "Vce=5               # Collector to emitter voltage in volts\n",
      "Vbe=0.6             # Base to emitter voltage in volts\n",
      "\n",
      "#Calculations\n",
      "Ib=(Vcc-Vce)/((1+Beta)*(Rl+Re))       # in milli ampere\n",
      "Ic=Ib/Beta                            # in micro ampere\n",
      "R=(Vce-Vbe)/Ib                        # Resistance in killo ohms\n",
      "x = math.floor((1+Beta*(Re/(Re+R)))*100)/100\n",
      "S=(1+Beta)/x\n",
      "\n",
      "#Result\n",
      "print(\"Base resistance      = %.f k-ohm\"%(math.ceil(R)))\n",
      "print(\"The Stability factor = %.2f\"%S)"
     ],
     "language": "python",
     "metadata": {},
     "outputs": [
      {
       "output_type": "stream",
       "stream": "stdout",
       "text": [
        "Base resistance      = 110 k-ohm\n",
        "The Stability factor = 41.44\n"
       ]
      }
     ],
     "prompt_number": 53
    },
    {
     "cell_type": "heading",
     "level": 2,
     "metadata": {},
     "source": [
      "Example 2.25, Page No.95 "
     ]
    },
    {
     "cell_type": "code",
     "collapsed": false,
     "input": [
      "# Quiescent , stability factor\n",
      "\n",
      "import math\n",
      "#Variable declaration\n",
      "Vcc=16.0                # Colector voltage in volts\n",
      "alfa=0.985\n",
      "Rc=3.0                  # Collector resistance in killo ohms\n",
      "Re= 2.0                 # in kilo ohms\n",
      "R1= 56.0                # in kilo ohms\n",
      "R2= 20.0                # in kilo ohms\n",
      "Vbe=0.3                 # Base to emitter voltage in volts\n",
      "\n",
      "#Calculations\n",
      "Beta= round(alfa/(1-alfa))\n",
      "Vb=Vcc * (R2/(R1+R2))   # vOLTAGE AT BASE\n",
      "Vb = math.floor(Vb*100)/100\n",
      "Ic= (Vb-Vbe)/Re         # in milli amperes\n",
      "Ib=Ic/Beta              # in milli ampere\n",
      "Vce= Vcc-(Ic*(Rc+Re))   # Colector to emitter voltage in volts\n",
      "Rth=math.floor((R1*R2)*100/(R1+R2))/100\n",
      "\n",
      "S=((1+Beta)*(1+(Rth/Re)))/(1+Beta+(Rth/Re))\n",
      "\n",
      "#Result\n",
      "print(\"Operating point is (Vce,Ic): \")\n",
      "print(\"Colector to emitter voltage = %.3f V\"%Vce)\n",
      "print(\"Collector current           = %.3f mA\"%Ic)\n",
      "print(\"The Stability factor        = %.2f\"%S)\n",
      "#Answer for Ic is wrong and hence the Vce. Also answer for stability factor is wrong."
     ],
     "language": "python",
     "metadata": {},
     "outputs": [
      {
       "output_type": "stream",
       "stream": "stdout",
       "text": [
        "Operating point is (Vce,Ic): \n",
        "Colector to emitter voltage = 6.225 V\n",
        "Collector current           = 1.955 mA\n",
        "The Stability factor        = 7.54\n"
       ]
      }
     ],
     "prompt_number": 68
    },
    {
     "cell_type": "heading",
     "level": 2,
     "metadata": {},
     "source": [
      "Example 2.26, Page No. 96\n"
     ]
    },
    {
     "cell_type": "code",
     "collapsed": false,
     "input": [
      "# Find R1,R2 & Re\n",
      "\n",
      "import math\n",
      "#Variable declaration\n",
      "Vcc=10.0             # Colector voltage in volts\n",
      "Beta=50.0            # Common emitter D.C. Current gain\n",
      "Rc=2.0               # Collector resistance in killo ohms\n",
      "Vce=4.0              # Collector to emitter voltage in volts\n",
      "Vbe=0.3              # Base to emitter voltage in volts\n",
      "Ic=2.0               # Collector current in milli Ampere\n",
      "\n",
      "#Calculations\n",
      "Ib=Ic/Beta           # Base current in milli ampere\n",
      "I1=10*Ib\n",
      "Ie=Ic                # Emitter current in mili ampere\n",
      "Re=(Vcc-Ic*Rc-Vce)/Ic# Emiier Resistance\n",
      "V2=Vbe+Ic*Re         # Voltage across R2\n",
      "R2=V2/I1\n",
      "R1=25-R2\n",
      "\n",
      "#Result\n",
      "print(\"Resistance, R1         = %.2f k-ohm\"%R1)\n",
      "print(\"Resistance, R2         = %.2f k-ohm\"%R2)\n",
      "print(\"Emitter Resistance, Re = %.1f k-ohm\"%Re)\n",
      "#Answer for R2 is wrong in the book"
     ],
     "language": "python",
     "metadata": {},
     "outputs": [
      {
       "output_type": "stream",
       "stream": "stdout",
       "text": [
        "Resistance, R1         = 19.25 k-ohm\n",
        "Resistance, R2         = 5.75 k-ohm\n",
        "Emitter Resistance, Re = 1.0 k-ohm\n"
       ]
      }
     ],
     "prompt_number": 70
    },
    {
     "cell_type": "heading",
     "level": 2,
     "metadata": {},
     "source": [
      "Example 2.27, Page No. 96"
     ]
    },
    {
     "cell_type": "code",
     "collapsed": false,
     "input": [
      "# Find R\n",
      "\n",
      "import math\n",
      "#Variable declaration\n",
      "Vcc=24.0            # Colector voltage in volts\n",
      "Beta=45.0\n",
      "Rc=10.0             # Collector resistance in killo ohms\n",
      "Re= 0.27            # in kilo ohms\n",
      "Vce=5.0             # Collector to emitter voltage in volts\n",
      "Vbe=0.6             # Base to emitter voltage in volts\n",
      "\n",
      "#Calculations\n",
      "Ib=(Vcc-Vce)/((1+Beta)*(Rc+Re))\n",
      "Ic=Ib/Beta\n",
      "R=(Vce-Vbe)/Ib\n",
      "\n",
      "#Result\n",
      "print(\"Base resistance = %.f k-ohm\"%(math.ceil(R)))"
     ],
     "language": "python",
     "metadata": {},
     "outputs": [
      {
       "output_type": "stream",
       "stream": "stdout",
       "text": [
        "Base resistance = 110 k-ohm\n"
       ]
      }
     ],
     "prompt_number": 72
    },
    {
     "cell_type": "heading",
     "level": 2,
     "metadata": {},
     "source": [
      "Example 2.28, Page No.97"
     ]
    },
    {
     "cell_type": "code",
     "collapsed": false,
     "input": [
      "# Ic,Vce\n",
      "\n",
      "import math\n",
      "#Variable declaration\n",
      "Vcc=22.0           # Colector voltage in volts\n",
      "Beta=40.0\n",
      "Rc=10.0            # Collector resistance in killo ohms\n",
      "Re= 1.5            # in kilo ohms\n",
      "R1= 40.0           # in kilo ohms\n",
      "R2= 4.0            # in kilo ohms\n",
      "Vbe=0.5            # Base to emitter voltage in volts\n",
      "\n",
      "#Calculations\n",
      "Vb=Vcc * (R2/(R1+R2))      # VOLTAGE AT BASE\n",
      "Ic= (Vb-Vbe)/Re            # in milli amperes\n",
      "Ib=Ic/Beta                 # in milli ampere\n",
      "Vce= Vcc-(Ic*(Rc+Re))      # Colector to emitter voltage in volts\n",
      "\n",
      "#Result\n",
      "print(\"Colector to emitter voltage = %.1f V\"%Vce)\n",
      "print(\"Collector current           = %.f mA\"%Ic)\n",
      "#Answer for Vce is wrong in the book"
     ],
     "language": "python",
     "metadata": {},
     "outputs": [
      {
       "output_type": "stream",
       "stream": "stdout",
       "text": [
        "Colector to emitter voltage = 10.5 V\n",
        "Collector current           = 1 mA\n"
       ]
      }
     ],
     "prompt_number": 73
    },
    {
     "cell_type": "heading",
     "level": 2,
     "metadata": {},
     "source": [
      "Example 2.29, Page No. 98"
     ]
    },
    {
     "cell_type": "code",
     "collapsed": false,
     "input": [
      "# Voltage across Re\n",
      "\n",
      "import math\n",
      "#Variable declaration\n",
      "Vcc=20.0         # Colector voltage in volts\n",
      "Beta=50.0\n",
      "R1= 60.0         # in kilo ohms\n",
      "R2= 30.0         # in kilo ohms\n",
      "Vbe=0.6          # Base to emitter voltage in volts\n",
      "\n",
      "#Calculations\n",
      "Vb=Vcc * (R2/(R1+R2))\n",
      "Ve=Vb-Vbe\n",
      "\n",
      "#Result\n",
      "print(\"voltage across Re = %.2f V\"%Ve)"
     ],
     "language": "python",
     "metadata": {},
     "outputs": [
      {
       "output_type": "stream",
       "stream": "stdout",
       "text": [
        "voltage across Re = 6.07 V\n"
       ]
      }
     ],
     "prompt_number": 74
    },
    {
     "cell_type": "heading",
     "level": 2,
     "metadata": {},
     "source": [
      "Example 2.30, Page No. 99"
     ]
    },
    {
     "cell_type": "code",
     "collapsed": false,
     "input": [
      "# Voltage across Re\n",
      "\n",
      "import math\n",
      "#Variable declaration\n",
      "Vcc=10.0            # in volts\n",
      "Rb=200.0            # Base resistance in killo ohms\n",
      "Vbe=0.8             # Base to emitter voltage in volts\n",
      "Beta=100.0\n",
      "Vce=0.2             # Collector to emitter voltage in volts\n",
      "\n",
      "#Calculations\n",
      "Ib=5/Rb             # Base current in milli ampere\n",
      "Ic=Beta*Ib          # Collector current in milli ampere\n",
      "Rc= (Vcc-Vce)/Ic    # Resistance\n",
      "\n",
      "#Result\n",
      "print(\"Collector resistance = %.2f k-ohm\"%Rc) "
     ],
     "language": "python",
     "metadata": {},
     "outputs": [
      {
       "output_type": "stream",
       "stream": "stdout",
       "text": [
        "Collector resistance = 3.92 k-ohm\n"
       ]
      }
     ],
     "prompt_number": 20
    },
    {
     "cell_type": "heading",
     "level": 2,
     "metadata": {},
     "source": [
      "Example 2.31, Page No. 99"
     ]
    },
    {
     "cell_type": "code",
     "collapsed": false,
     "input": [
      "#Cut off,Vc & Re\n",
      "\n",
      "import math\n",
      "#Variable declaration\n",
      "Vcc=10.0             # in volts\n",
      "Rc=3.0               # Collector resistance in killo ohms\n",
      "Rl=0.5               # in kilo ohms\n",
      "Rb=7.0               # in kilo ohms\n",
      "Beta=100.0           # Common emitter D.C. Current gain\n",
      "Vbe=0.8              # Base to emitter voltage in volts\n",
      "Ic=2.78              # in mA Applying KVL\n",
      "Ib=0.1               # in mA Applying KVL\n",
      "\n",
      "#Calcualtions\n",
      "Ibmin=Ic/Beta\n",
      "Vc=Vbe               # in saturation region\n",
      "Vce=Vc-Rl*(Ic+Ib)\n",
      "Re=((Vcc-Vce)/Ic)-Rc\n",
      "\n",
      "#Result\n",
      "print(\"Base current         = %.1f mA\"%Ib)\n",
      "print(\"Minimum Base current = %.4f mA\"%Ibmin)\n",
      "print(\"\\nAs Base current is more than minimum base current so it is in saturation region\")\n",
      "print(\"\\nEmitter resistance   = %.f ohm\"%(Re*1000))\n"
     ],
     "language": "python",
     "metadata": {},
     "outputs": [
      {
       "output_type": "stream",
       "stream": "stdout",
       "text": [
        "Base current         = 0.1 mA\n",
        "Minimum Base current = 0.0278 mA\n",
        "\n",
        "As Base current is more than minimum base current so it is in saturation region\n",
        "\n",
        "Emitter resistance   = 827 ohm\n"
       ]
      }
     ],
     "prompt_number": 77
    },
    {
     "cell_type": "heading",
     "level": 2,
     "metadata": {},
     "source": [
      "Example 2.32, Page No. 100"
     ]
    },
    {
     "cell_type": "code",
     "collapsed": false,
     "input": [
      "# Beta ,Vcc & Rb\n",
      "\n",
      "import math\n",
      "#Variable declaration\n",
      "Rc=2.7                  # Collector resistance in killo ohms\n",
      "Re=0.68                 # Collector resistance in killo ohms\n",
      "Ib=0.02                 # Base Current in mA\n",
      "Vce=7.3                 # Collector to emitter voltage in volts\n",
      "Vbe=0.0                 # Base to emitter voltage in volts\n",
      "Ve=2.1                  # Emitter Voltage\n",
      "\n",
      "#Calculations\n",
      "Ie= Ve/Re               # Emiiter Current in mA\n",
      "Ic=Ie\n",
      "Beta=Ic/Ib              # Common emitter D.C. Current gain\n",
      "Vcc= Vce+Ic*(Rc+Re)     # Supply Voltage\n",
      "Vcc = math.floor(Vcc*10)/10\n",
      "Rb=(Vcc-Ve)/Ib          # Base resistance in Killo ohms\n",
      "\n",
      "#Result\n",
      "print(\"Common emitter D.C. Current gain (unitless) = %.f\"%Beta)\n",
      "print(\"Supply Voltage                              = %.1f V\"%Vcc)\n",
      "print(\"base resistance                             = %.f k-ohm\"%Rb)"
     ],
     "language": "python",
     "metadata": {},
     "outputs": [
      {
       "output_type": "stream",
       "stream": "stdout",
       "text": [
        "Common emitter D.C. Current gain (unitless) = 154\n",
        "Supply Voltage                              = 17.7 V\n",
        "base resistance                             = 780 k-ohm\n"
       ]
      }
     ],
     "prompt_number": 84
    },
    {
     "cell_type": "heading",
     "level": 2,
     "metadata": {},
     "source": [
      "Example 2.33, Page No. 101"
     ]
    },
    {
     "cell_type": "code",
     "collapsed": false,
     "input": [
      "# Ic & Vce\n",
      "\n",
      "import math\n",
      "#Variable declaration\n",
      "Vcc=18              # Colector voltage in volts\n",
      "Rc=2.2              # Collector resistance in killo ohms\n",
      "Rb=510.0            # Base resistance in killo ohms\n",
      "Re=1.8              # Emitter resistance in killo ohms\n",
      "Beta=90.0           # Common emitter D.C. Current gain\n",
      "\n",
      "#Calculations\n",
      "Ib=Vcc/(Rb+Beta*(Rc+Re))  # Base Current in mA\n",
      "Ib = math.floor(Ib*100)/100\n",
      "Ic=Beta*Ib                # Collector current in mA\n",
      "Beta=Ic/Ib                # Common emitter D.C. Current gain\n",
      "Vce= Ib*Rb                # Collector to emitter voltage in volts\n",
      "\n",
      "#Result\n",
      "print(\"Colector to emitter voltage, Vce = %.1f V\"%Vce)\n",
      "print(\"Collector current, Ic            = %.1f mA\"%(math.floor(Ic*10)/10)) "
     ],
     "language": "python",
     "metadata": {},
     "outputs": [
      {
       "output_type": "stream",
       "stream": "stdout",
       "text": [
        "Colector to emitter voltage, Vce = 10.2 V\n",
        "Collector current, Ic            = 1.8 mA\n"
       ]
      }
     ],
     "prompt_number": 91
    },
    {
     "cell_type": "heading",
     "level": 2,
     "metadata": {},
     "source": [
      "Example 2.34, Page No.101 "
     ]
    },
    {
     "cell_type": "code",
     "collapsed": false,
     "input": [
      "# Base current\n",
      "\n",
      "import math\n",
      "#Variable declaration\n",
      "Ie=10.0             # Emitter current in mA\n",
      "Ic=9.95             # Collector current in mA\n",
      "\n",
      "#Calcualtions\n",
      "Ib=Ie-Ic            # Base Current in mA\n",
      "\n",
      "#Result\n",
      "print(\"Base Current = %.2f mA\"%Ib)"
     ],
     "language": "python",
     "metadata": {},
     "outputs": [
      {
       "output_type": "stream",
       "stream": "stdout",
       "text": [
        "Base Current = 0.05 mA\n"
       ]
      }
     ],
     "prompt_number": 28
    },
    {
     "cell_type": "heading",
     "level": 2,
     "metadata": {},
     "source": [
      "Example 2.35, Page No. 101"
     ]
    },
    {
     "cell_type": "code",
     "collapsed": false,
     "input": [
      "# Ic,Vc,Ve & Vce\n",
      "\n",
      "import math\n",
      "#Variable declaration\n",
      "Vcc=30.0              # Colector voltage in volts\n",
      "Beta=100.0\n",
      "Rc=6.2                # Collector resistance in killo ohms\n",
      "Re=1.5                # Emitter resistance in killo ohms\n",
      "Rb=690.0              # Base resistance in killo ohms\n",
      "Vbe=0.7               # Base to emitter voltage in volts\n",
      "Ib= (Vcc-Vbe)/(Rb+(1+Beta)*Rc+(1+Beta)*Re)\n",
      "Ic=math.ceil(Ib*Beta)           # in milli ampere\n",
      "Ie=Ib*(1+Beta)        # in milli ampere\n",
      "Vce=Vcc-Ve-(Ic+Ib)*Rc\n",
      "Vce = math.ceil(Vce*100)/100\n",
      "Vc=Vce+Ve\n",
      "print(\"Collector current, Ic            = %.f mA\"%Ic)\n",
      "print(\"emitter voltage, Ve              = %.2f V\"%Ve)\n",
      "print(\"Colector to emitter voltage, Vce = %.2f V\"%Vce)\n",
      "print(\"collector voltage                = %.2f V\"%Vc)"
     ],
     "language": "python",
     "metadata": {},
     "outputs": [
      {
       "output_type": "stream",
       "stream": "stdout",
       "text": [
        "Collector current, Ic            = 2 mA\n",
        "emitter voltage, Ve              = 3.03 V\n",
        "Colector to emitter voltage, Vce = 14.45 V\n",
        "collector voltage                = 17.48 V\n"
       ]
      }
     ],
     "prompt_number": 105
    },
    {
     "cell_type": "heading",
     "level": 2,
     "metadata": {},
     "source": [
      "Example 2.36, Page No. 103"
     ]
    },
    {
     "cell_type": "code",
     "collapsed": false,
     "input": [
      "# R1,Rc & S\n",
      "\n",
      "import math\n",
      "#Variable declaration\n",
      "Vcc=16.0             # Colector voltage in volts\n",
      "alfa=0.985\n",
      "Ieq=2.0              # Emiier current in mA\n",
      "R2=30.0              # resistance in killo ohms\n",
      "Re=1.0               # Emitter resistance in killo ohms\n",
      "Vbe=0.2              # Base to emitter voltage in volts\n",
      "Vceq=6.0             # Collector to emitter voltage in volts\n",
      "\n",
      "#Calculations\n",
      "Beta= alfa/(1-alfa)\n",
      "Icq=alfa*Ieq\n",
      "Rc=(Vcc-Vceq-Ieq*Re)/Icq\n",
      "Ir1=((Ieq*Re+Vbe)/R2)+Icq/Beta\n",
      "R1=(Vcc-Vbe-(Ieq*Re))/Ir1\n",
      "Rb= (R1*R2)/(R1+R2)\n",
      "S=(1+Beta)/(1+Beta*(Re/(Re+Rb)))\n",
      "\n",
      "#Result\n",
      "print(\"Collector resistence, Rc = %.2f k-ohm\"%Rc)\n",
      "print(\"Resistance, R1           = %.2f k-ohm\"%(math.floor(R1*100)/100))\n",
      "print(\"The Stability factor     = %.2f\"%(math.floor(S*100)/100))"
     ],
     "language": "python",
     "metadata": {},
     "outputs": [
      {
       "output_type": "stream",
       "stream": "stdout",
       "text": [
        "Collector resistence, Rc = 4.06 k-ohm\n",
        "Resistance, R1           = 133.54 k-ohm\n",
        "The Stability factor     = 18.64\n"
       ]
      }
     ],
     "prompt_number": 110
    },
    {
     "cell_type": "heading",
     "level": 2,
     "metadata": {},
     "source": [
      "Example 2.37.a, Page No. 104"
     ]
    },
    {
     "cell_type": "code",
     "collapsed": false,
     "input": [
      "# baising component\n",
      "\n",
      "import math\n",
      "#Variable declaration\n",
      "Vcc=12.0              # Colector voltage in volts\n",
      "Beta=180.0\n",
      "Ieq=2.0               # Emiier current in mA\n",
      "Rc=1.0                # Collector resistance in killo ohms\n",
      "Vbe=0.6               # Base to emitter voltage in volts\n",
      "Vceq=6.0              # Collector to emitter voltage in volts\n",
      "\n",
      "#Calculations\n",
      "Ic= (Vcc-Vceq)/Rc\n",
      "Ib=Ic/Beta\n",
      "Rb=(Vcc-Vbe)/Ib\n",
      "\n",
      "#Result\n",
      "print(\"Collector current in fixed bias case = %.f mA\"%Ic)\n",
      "print(\"Base      current in fixed bias case = %.2f mA\"%(Ib*10**3))\n",
      "print(\"Base resistance   in fixed bias case   = %.f k-ohm\"%Rb)"
     ],
     "language": "python",
     "metadata": {},
     "outputs": [
      {
       "output_type": "stream",
       "stream": "stdout",
       "text": [
        "Collector current in fixed bias case = 6 mA\n",
        "Base      current in fixed bias case = 33.33 mA\n",
        "Base resistance   in fixed bias case   = 342 k-ohm\n"
       ]
      }
     ],
     "prompt_number": 115
    },
    {
     "cell_type": "heading",
     "level": 2,
     "metadata": {},
     "source": [
      "Example 2.37.b, Page No. 104"
     ]
    },
    {
     "cell_type": "code",
     "collapsed": false,
     "input": [
      "# baising component\n",
      "\n",
      "import math\n",
      "#Variable declaration\n",
      "Vb=1.6             # Base voltage\n",
      "Ve=1.0             # emitter voltage\n",
      "Vcc=12.0           # Collector voltage in volts\n",
      "Beta=180.0\n",
      "Ieq=2.0            # Emiier current in mA\n",
      "Rc=1.0             # Collector resistance in killo ohms\n",
      "Vbe=0.6            # Base to emitter voltage in volts\n",
      "Vceq=6.0           # Collector to emitter voltage in volts\n",
      "\n",
      "#Calculations\n",
      "Ic= (Vcc-Vceq-Ve)/Rc\n",
      "Ib=math.ceil(Ic*10**5/Beta)*1000/10**5\n",
      "Ie=Ic+Ib*10**-3    # emitter current in milli ampere\n",
      "Re= (Ve/(Ie*10**-3))        # emitter resistance in killo ohms\n",
      "Ir2= 10*Ib\n",
      "R2= (Ve+Vbe)/(Ir2*10**-6)\n",
      "Ir1=Ir2+Ib\n",
      "R1=((Vcc-Vb)/(Ir1*10**-3))\n",
      "\n",
      "#Result\n",
      "print(\"Emitter Current, Ie  = %.3f mA\"%(math.floor(Ie*1000)/1000))\n",
      "print(\"Resistance, Re = %.1f ohm\"%(Re))\n",
      "print(\"Resistance, R1 = %.2f k-ohm\"%(R1))\n",
      "print(\"Resistance, R2 = %.1f ohm\"%(R2))"
     ],
     "language": "python",
     "metadata": {},
     "outputs": [
      {
       "output_type": "stream",
       "stream": "stdout",
       "text": [
        "Emitter Current, Ie  = 5.027 mA\n",
        "Resistance, Re = 198.9 ohm\n",
        "Resistance, R1 = 34.03 k-ohm\n",
        "Resistance, R2 = 5759.5 ohm\n"
       ]
      }
     ],
     "prompt_number": 28
    },
    {
     "cell_type": "heading",
     "level": 2,
     "metadata": {},
     "source": [
      "Example 2.38.a, Page No. 105"
     ]
    },
    {
     "cell_type": "code",
     "collapsed": false,
     "input": [
      "# Stability factor\n",
      "\n",
      "import math\n",
      "#Variable declaration\n",
      "Beta=180.0            # Common emitter D.C. Current gain\n",
      "Re=1.0                # Collector resistance in killo ohms\n",
      "R1=5.76               # resistance in killo ohms\n",
      "R2=34.67              # resistance in killo ohms\n",
      "\n",
      "#Calculations\n",
      "S=1+Beta\n",
      "\n",
      "#Result\n",
      "print(\"Stability factor in fixed bias case is %.f\"%S)"
     ],
     "language": "python",
     "metadata": {},
     "outputs": [
      {
       "output_type": "stream",
       "stream": "stdout",
       "text": [
        "Stability factor in fixed bias case is 181\n"
       ]
      }
     ],
     "prompt_number": 40
    },
    {
     "cell_type": "heading",
     "level": 2,
     "metadata": {},
     "source": [
      "Example 2.38.b, Page No. 105"
     ]
    },
    {
     "cell_type": "code",
     "collapsed": false,
     "input": [
      "# Stability factor\n",
      "\n",
      "import math\n",
      "#Variable declaration\n",
      "Beta=180.0                # Common emitter D.C. Current gain\n",
      "Re=0.199                  # Collector resistance in killo ohms\n",
      "R1=5.76                   # resistance in killo ohms\n",
      "R2=34.67                  # resistance in killo ohms\n",
      "\n",
      "#Calculations\n",
      "Rb=math.floor((R1*R2)*100/(R1+R2))/100\n",
      "S=(1+Beta)/(1+(Beta*(Re/(Re+Rb))))\n",
      "\n",
      "#Result\n",
      "print(\"Stability factor in self bias case is %.2f\"%S)"
     ],
     "language": "python",
     "metadata": {},
     "outputs": [
      {
       "output_type": "stream",
       "stream": "stdout",
       "text": [
        "Stability factor in self bias case is 22.67\n"
       ]
      }
     ],
     "prompt_number": 33
    },
    {
     "cell_type": "heading",
     "level": 2,
     "metadata": {},
     "source": [
      "Example 2.39.a, Page No. 106"
     ]
    },
    {
     "cell_type": "code",
     "collapsed": false,
     "input": [
      "# Stability factor\n",
      "\n",
      "import math\n",
      "#Variable declaration\n",
      "R1=500.0             # Resistance in killo ohms\n",
      "Rc=500.0             # Collector resistance in killo ohms\n",
      "R2=5000.0            # Resistance in killo ohms\n",
      "Vcc=20.0             # Colector voltage in volts\n",
      "Beta=75.0\n",
      "Rc=6.2               # Collector resistance in killo ohms\n",
      "Re=90.0              # Emitter resistance in ohms\n",
      "Rb=690.0             # Base resistance in killo ohms\n",
      "Vbe=0.7              # Base to emitter voltage in volts\n",
      "\n",
      "#Calculations\n",
      "Rb=((R1*R2)/(R1+R2))\n",
      "Vb=Vcc * (R1/(R1+R2))# VOLTAGE AT BASE\n",
      "Icbo=0.02            # Collector to base leakage current in mA\n",
      "Sre= (Beta/(Rb+Re*Beta)**2)*(Icbo*10**-6*Rb-Beta*(Vb+Rb*Icbo*10**-6-Vbe))\n",
      "\n",
      "#Result\n",
      "print(\"Stability factor = %.3f * 10^-4 A/ohms\"%(Sre*10**4))"
     ],
     "language": "python",
     "metadata": {},
     "outputs": [
      {
       "output_type": "stream",
       "stream": "stdout",
       "text": [
        "Stability factor = -1.212 * 10^-4 A/ohms\n"
       ]
      }
     ],
     "prompt_number": 36
    },
    {
     "cell_type": "heading",
     "level": 2,
     "metadata": {},
     "source": [
      "Example 2.39.b, Page No. 106"
     ]
    },
    {
     "cell_type": "code",
     "collapsed": false,
     "input": [
      "# Change in Icq\n",
      "\n",
      "import math\n",
      "#Variable declaration\n",
      "R1=500.0                 # Resistance in killo ohms\n",
      "Rc=500.                  # Collector resistance in killo ohms\n",
      "R2=5000.0                # Resistance in killo ohms\n",
      "Vcc=20.0                 # Colector voltage in volts\n",
      "Beta=75.0\n",
      "Rc=6.2                   # Collector resistance in killo ohms\n",
      "Re=90.0                  # Emitter resistance in ohms\n",
      "Vbe=0.7                  # Base to emitter voltage in volts\n",
      "\n",
      "#Calculations\n",
      "Rb=((R1*R2)/(R1+R2))\n",
      "Vb=Vcc * (R1/(R1+R2))    # VOLTAGE AT BASE\n",
      "Icbo=0.02                # Collector to base leakage current in mA\n",
      "Sre= (Beta/(Rb+Re*Beta)**2)*(Icbo*10**-6*Rb-Beta*(Vb+Rb*Icbo*10**-6-Vbe))\n",
      "DeltaRe= 110-90          # Change in  ohms\n",
      "DeltaIcq= Sre*DeltaRe    # Change in Icq\n",
      "\n",
      "#Result\n",
      "print(\"Change in Icq  = %.3f mA\"%(DeltaIcq*1000))"
     ],
     "language": "python",
     "metadata": {},
     "outputs": [
      {
       "output_type": "stream",
       "stream": "stdout",
       "text": [
        "Change in Icq  = -2.424 mA\n"
       ]
      }
     ],
     "prompt_number": 40
    },
    {
     "cell_type": "heading",
     "level": 2,
     "metadata": {},
     "source": [
      "Example 2.40, Page No. 107"
     ]
    },
    {
     "cell_type": "code",
     "collapsed": false,
     "input": [
      "# R1 & R2\n",
      "\n",
      "import math\n",
      "#Variable declaration\n",
      "Vcc=5.0                # Colector voltage in volts\n",
      "Beta=100.0\n",
      "Vce=2.5               # Collector to emitter voltage in volts\n",
      "Vbe=0.6               # Base to emitter voltage in volts\n",
      "R4=0.3                # Resistance in killo ohms\n",
      "R2=10.0               # Resistance in killo ohms\n",
      "Ic=1.0                # Collector current in mA\n",
      "\n",
      "#Calculations\n",
      "Vr4=(1+(1/Beta))*Ic*R4\n",
      "Vcn= Vce-Vr4\n",
      "R3=(Vcc-Vcn)/Ic\n",
      "Rb=8.03\n",
      "R1=(Rb*R2)/(R2-Rb)\n",
      "\n",
      "#Result\n",
      "print(\"Resistance, R1  = %.f k-ohm\"%(math.floor(R1)))\n",
      "print(\"Base Resistance = %.2f k-ohm\"%Rb)"
     ],
     "language": "python",
     "metadata": {},
     "outputs": [
      {
       "output_type": "stream",
       "stream": "stdout",
       "text": [
        "Resistance, R1  = 40 k-ohm\n",
        "Base Resistance = 8.03 k-ohm\n"
       ]
      }
     ],
     "prompt_number": 45
    },
    {
     "cell_type": "heading",
     "level": 2,
     "metadata": {},
     "source": [
      "Example 2.41, Page No. 108"
     ]
    },
    {
     "cell_type": "code",
     "collapsed": false,
     "input": [
      "# Re , S\n",
      "\n",
      "import math\n",
      "#Variable declaration\n",
      "Vcc=12.0              # Colector voltage in volts\n",
      "Beta=50.0\n",
      "Vce=2.5               # Collector to emitter voltage in volts\n",
      "Vbe=0.7               #  Base to emitter voltage in volts\n",
      "Re= 2.57              # Emitter resistance in killo ohms\n",
      "Rc=4.2                # Collector resistance in killo ohms\n",
      "\n",
      "#Calculation\n",
      "Ic=14/(Rc+(1+(1/Beta)*Re))\n",
      "Ib= (6-Vbe-Ic*Re)/Re\n",
      "DeltaIb= -1           # Change in base Current\n",
      "S= (1+Beta)/(1+Beta)\n",
      "\n",
      "#Result\n",
      "print(\"Resistance, Re   = %.2f k-ohm\"%Re)\n",
      "print(\"Stability Factor = %.f\"%S)"
     ],
     "language": "python",
     "metadata": {},
     "outputs": [
      {
       "output_type": "stream",
       "stream": "stdout",
       "text": [
        "Resistance, Re   = 2.57 k-ohm\n",
        "Stability Factor = 1\n"
       ]
      }
     ],
     "prompt_number": 47
    },
    {
     "cell_type": "heading",
     "level": 2,
     "metadata": {},
     "source": [
      "Example 2.42, Page No. 109"
     ]
    },
    {
     "cell_type": "code",
     "collapsed": false,
     "input": [
      "# Icq\n",
      "\n",
      "import math\n",
      "#Variable declaration\n",
      "T2=20.0              # Temperature in degree celsius\n",
      "T1=0.0               # Temperature in degree celsius\n",
      "Vcc=15.0             # Colector voltage in volts\n",
      "Beta=75.0\n",
      "Vce=2.5              # Collector to emitter voltage in volts\n",
      "Vbe1=0.7             # Base to emitter voltage in volts\n",
      "Rb= 50.0             # Emitter resistance in killo ohms\n",
      "Rc=3.0               # Collector resistance in killo ohms\n",
      "Re=1.0               # Collector resistance in killo ohms\n",
      "\n",
      "#Calculation\n",
      "Ib= ((6-Vbe1)/(Rb+(1+Beta)*Re))*10**3   # Base Current in Micro Amperes\n",
      "Ic= Beta*Ib*10**-3                      # Colectore Current in  Milli Ampere\n",
      "Icbo1=0.5                               # Collector to base leakage current in Micrometer\n",
      "Icbo2=Icbo1*2**((T2-T1)/10)             # Collector to base leakage current in Micrometer when temperature 20 degree celsius\n",
      "Vbe2=Vbe1-2*T2*10**-3                   # base to emitter voltage when temperature is 20 degree celsius\n",
      "Ib1=((6-Vbe2)/(Rb+(1+Beta)*Re))*10**3   # Base Current in Micro Amperes at  20 degree celsius\n",
      "Ib1 = math.ceil(Ib1*10)/10\n",
      "Ic1=(Beta*(Ib*10**-3))                  # Colectore Current in  Milli Ampere\n",
      "\n",
      "\n",
      "#Result\n",
      "print(\"Base Current                                               = %.f micro-A\"%Ib)\n",
      "print(\"Collector current                                          = %.2f mA\"%Ic)\n",
      "print(\"Collector to base leakage current when T=20 degree celsius = %.f micro-A\"%Icbo2)\n",
      "print(\"Base to emitter voltage when T=20 degree celsius           = %.2f V\"%Vbe2)\n",
      "print(\"Base Current when T=20 degree celsius                      = %.1f micro-A\"%Ib1)\n",
      "print(\"Collector current when T=20 degree celsius                 = %.2f mA\"%Ic1)"
     ],
     "language": "python",
     "metadata": {},
     "outputs": [
      {
       "output_type": "stream",
       "stream": "stdout",
       "text": [
        "Base Current                                               = 42 micro-A\n",
        "Collector current                                          = 3.15 mA\n",
        "Collector to base leakage current when T=20 degree celsius = 2 micro-A\n",
        "Base to emitter voltage when T=20 degree celsius           = 0.66 V\n",
        "Base Current when T=20 degree celsius                      = 42.4 micro-A\n",
        "Collector current when T=20 degree celsius                 = 3.15 mA\n"
       ]
      }
     ],
     "prompt_number": 64
    },
    {
     "cell_type": "heading",
     "level": 2,
     "metadata": {},
     "source": [
      "Example 2.43, Page No. 110"
     ]
    },
    {
     "cell_type": "code",
     "collapsed": false,
     "input": [
      "# (a)quiescent current (b) drift in quiescent current\n",
      "\n",
      "import math\n",
      "#Variable declaration\n",
      "Beta1=50.0                # gain at 25 degree celsius temperture\n",
      "Beta2=200.0               # gain at 75 degree celsius temperture\n",
      "Rb=1.0                    # base resistance in killo ohms\n",
      "Re=0.1                    # emitter resistance in  ohms\n",
      "Ico1=0.01                 # leakage current at 25 degree celsius temperture in micro ampere\n",
      "Ico2=0.045                # leakage current at 75 degree celsius temperture in micro ampere\n",
      "Vbe1=0.7                  # base to emitter voltage  25 degree celsius temperture in micro ampere\n",
      "Vbe2=0.575                # base to emitter voltage  75 degree celsius temperture in micro ampere\n",
      "\n",
      "#Calculations\n",
      "dBeta=Beta2-Beta1                        # Change in gain\n",
      "dIco=Ico2-Ico1                           # change in leakage current\n",
      "dVbe=Vbe2-Vbe1                           # change in base to emitter voltage\n",
      "Ib= (1-Vbe1)/(Rb+(1+Beta1)*Re)           # Base current in micro ampere\n",
      "Ic=Beta1*Ib                              # Collector current in milli ampere\n",
      "S=((1+Beta1)*(1+(Rb/Re)))/(1+Beta1+(Rb/Re))\n",
      "S1=-(Beta1/Re*10**-3)/(1+Beta1+(Rb/Re))  # stability factor\n",
      "S2=(S*Ic*10**-3)/(Beta1*(1+Beta1))       # stability factor\n",
      "dIc= ((S*dIco*10**-6)+(S1*dVbe)+(S2*dBeta))*10**3\n",
      "Icn= Ic+dIc                              # new collector current in milli ampere\n",
      "\n",
      "#Result\n",
      "print(\"Quiescent current is %.2f mA\"%Ic)\n",
      "print(\"Quiescent current drift at temperature 75 degree celsius is %.3f mA\"%dIc)\n",
      "print(\"New quiescent current is %.1f mA\"%Icn)"
     ],
     "language": "python",
     "metadata": {},
     "outputs": [
      {
       "output_type": "stream",
       "stream": "stdout",
       "text": [
        "Quiescent current is 2.46 mA\n",
        "Quiescent current drift at temperature 75 degree celsius is 2.355 mA\n",
        "New quiescent current is 4.8 mA\n"
       ]
      }
     ],
     "prompt_number": 67
    },
    {
     "cell_type": "heading",
     "level": 2,
     "metadata": {},
     "source": [
      "Example 2.44.a, Page No.111 "
     ]
    },
    {
     "cell_type": "code",
     "collapsed": false,
     "input": [
      "# R1,R2  ,Re\n",
      "\n",
      "import math\n",
      "#Variable declaration\n",
      "Vbe=0.2\n",
      "Vcc=16.0             # collector voltage in volts\n",
      "Rc=1.5               # clollector resistance in killo ohms\n",
      "S=12.0               # stability factor\n",
      "Vce=8.0              # Collector to emitter voltage\n",
      "Ic=4.0               # in milli amperes\n",
      "Beta=50.0            # gain\n",
      "S1=3.0               # REDUCED STABILITY FACTOR\n",
      "\n",
      "#Calcualtions\n",
      "Ib=(Ic*10**-3)/Beta                              # Base current in micro ampere\n",
      "Re=(Vcc-Vce-(Rc*10**3*Ic*10**-3))/(Ic*10**-3+Ib) # emitter resistance in ohms\n",
      "Rb=round(((11*(1+Beta))/(Beta-11))*Re*10**-3)    # base resistance in killo ohms\n",
      "Vb= (Ib*Rb*1000)+Vbe+((Ic*10**-3)+(Ib*10**-6))*Re# voltage is R2\n",
      "R1=Vcc*Rb/2.76                        #Vb = 2.76 # resistance in killo ohms\n",
      "R1= math.ceil(R1*10)/10\n",
      "R2=R1*Rb/(R1-Rb)                                 # RESISTANCE IN KILLO OHMS\n",
      "\n",
      "#Result\n",
      "print(\"Emitter Resistance,Re = %.2f k-ohm\"%(Re*10**-3))\n",
      "print(\"Resistance, R1        = %.1f k-ohm\"%R1)\n",
      "print(\"Resistance, R2        = %.2f k-ohm\"%(math.floor(R2*100)/100))"
     ],
     "language": "python",
     "metadata": {},
     "outputs": [
      {
       "output_type": "stream",
       "stream": "stdout",
       "text": [
        "Emitter Resistance,Re = 0.49 k-ohm\n",
        "Resistance, R1        = 40.6 k-ohm\n",
        "Resistance, R2        = 8.45 k-ohm\n"
       ]
      }
     ],
     "prompt_number": 95
    },
    {
     "cell_type": "heading",
     "level": 2,
     "metadata": {},
     "source": [
      "Example 2.44.b, Page No. 111"
     ]
    },
    {
     "cell_type": "code",
     "collapsed": false,
     "input": [
      "# R1,R2  ,Re\n",
      "\n",
      "import math\n",
      "#Variable declaration\n",
      "Vbe=0.2\n",
      "Vcc=16.0               # collector voltage in volts\n",
      "Rc=1.5                 # clollector resistance in killo ohms\n",
      "S=12.0                 # stability factor\n",
      "Vce=8.0                # Collector to emitter voltage\n",
      "Ic=4.0                 # in milli amperes\n",
      "Beta=50.0              # gain\n",
      "Ib=(Ic*10**-3)/Beta    # Base current in micro ampere\n",
      "S1=3.0                 # REDUCED STABILITY FACTOR\n",
      "\n",
      "#Calcualtions\n",
      "Re=(Vcc-Vce-(Rc*10**3*Ic*10**-3))/(Ic*10**-3+Ib)   # emitter resistance in ohms\n",
      "Rb=math.floor(((2*(1+Beta))/(Beta-2))*Re*10**-3)   # base resistance in killo ohms\n",
      "Vr2= Vbe+(Ic+Ib*10**3)*Re*10**-3                   # voltage is R2\n",
      "R1=math.floor((Rb)/x)                                          # resistance in killo ohms\n",
      "R2=(Rb*R1)/(R1-Rb)                                    # RESISTANCE IN KILLO OHMS\n",
      "Rb1=((3*(1+Beta))/(Beta-3))*Re*10**-3              # EFFECT OF REDUCING STABILITY FACTOR ON BASE RESISTANCE\n",
      "\n",
      "#Result\n",
      "print(\"Emitter Resistance  = %.2f k-ohm\"%(Re*10**-3))\n",
      "print(\"Resistance, R1      = %.f k-ohm\"%R1)\n",
      "print(\"Resistance, R2      = %.2f k-ohm\"%(math.floor(R2*100)/100))"
     ],
     "language": "python",
     "metadata": {},
     "outputs": [
      {
       "output_type": "stream",
       "stream": "stdout",
       "text": [
        "Emitter Resistance  = 0.49 k-ohm\n",
        "Resistance, R1      = 7 k-ohm\n",
        "Resistance, R2      = 1.16 k-ohm\n"
       ]
      }
     ],
     "prompt_number": 109
    },
    {
     "cell_type": "heading",
     "level": 2,
     "metadata": {},
     "source": [
      "Example 2.45, Page No. 113"
     ]
    },
    {
     "cell_type": "code",
     "collapsed": false,
     "input": [
      "# R1,R2  ,Re\n",
      "\n",
      "import math\n",
      "#Variable declaration\n",
      "Vbe=0.2\n",
      "Vcc=20.0                   # collector voltage in volts\n",
      "Rc=2.0                     # clollector resistance in killo ohms\n",
      "S=10.0                     # stability factor\n",
      "Vce=10.0                   # Collector to emitter voltage\n",
      "Ic=4.0                     # in milli amperes\n",
      "Beta=50.0                  # gain\n",
      "S1=3.0                     # REDUCED STABILITY FACTOR\n",
      "\n",
      "#Calcualtions\n",
      "Ib=(Ic*10**-3)/Beta                                  # Base current in micro ampere\n",
      "Re=(Vcc-Vce-(Rc*10**3*Ic*10**-3))/(Ic*10**-3+Ib)     # emitter resistance in ohms\n",
      "Re = math.ceil(Re*10)/10\n",
      "Rb=math.ceil(((9*(1+Beta))*1000/(Beta-9))*Re*10**-3)/1000# base resistance in killo ohms\n",
      "Vr2= Vbe+(Ic+Ib*10**3)*Re*10**-3                     # voltage is R2\n",
      "x=(Vr2/Vcc)                                          # Voltage\n",
      "R1=(Rb)/x                                            # resistance in killo ohms\n",
      "R2=(x*R1)/(1-x)                                      # RESISTANCE IN KILLO OHMS\n",
      "Rb1=((3*(1+Beta))/(Beta-3))*Re*10**-3                # EFFECT OF REDUCING STABILITY FACTOR ON BASE RESISTANCE\n",
      "\n",
      "#Result\n",
      "print(\"Emitter resistance = %.1f ohm\"%Re)\n",
      "print(\"Resistance R1      = %.2f k-ohm\"%R1)\n",
      "print(\"Resistance R2      = %.2f k-ohm\"%R2)\n",
      "print(\"Base resistance effect of reducing stability factor reduces input impedence = %f k-ohm\"%Rb1)\n",
      "#Answer for R1 and base resistor do not match with the book"
     ],
     "language": "python",
     "metadata": {},
     "outputs": [
      {
       "output_type": "stream",
       "stream": "stdout",
       "text": [
        "Emitter resistance = 490.2 ohm\n",
        "Resistance R1      = 49.89 k-ohm\n",
        "Resistance R2      = 6.17 k-ohm\n",
        "Base resistance effect of reducing stability factor reduces input impedence = 1.595757 k-ohm\n"
       ]
      }
     ],
     "prompt_number": 18
    },
    {
     "cell_type": "heading",
     "level": 2,
     "metadata": {},
     "source": [
      "Example 2.46, Page No.115 "
     ]
    },
    {
     "cell_type": "code",
     "collapsed": false,
     "input": [
      "# R1,R2  ,Re\n",
      "\n",
      "import math\n",
      "#Variable declaration\n",
      "S=2.0                   # stability factor\n",
      "Vbe=0.8\n",
      "Vcc=20.0                # collector voltage in volts\n",
      "Rc=5.0                  # collector resistance in killo ohms\n",
      "Vce=11.5                # Collector to emitter voltage\n",
      "Ic=1.5                  # in milli amperes\n",
      "Beta=50.0               # gain\n",
      "\n",
      "#Calculations\n",
      "Ib=(Ic*10**-3)/Beta                   # Base current in micro ampere\n",
      "Re=(Vcc-Vce-(Rc*10**3*Ic*10**-3))/(Ic*10**-3+Ib)# emitter resistance in ohms\n",
      "Rb=(((1+Beta))/(Beta-1))*Re           # base resistance in killo ohms\n",
      "Vr2= Vbe+(Ic+Ib*10**3)*Re*10**-3      # voltage is R2\n",
      "x=(Vr2/Vcc)                           # Voltage\n",
      "R1=math.floor(((Rb)/x)*10**-3*100)/100    # resistance in killo ohms\n",
      "R2=((x*R1)/(1-x))*10**3               # RESISTANCE IN KILLO OHMS\n",
      "\n",
      "#Result\n",
      "print(\"Emitter resistance = %.1f ohm\"%(Re))\n",
      "print(\"Resistance R1      = %.2f k-ohm\"%R1)\n",
      "print(\"Resistance R2      = %.1f k-ohm\"%R2)"
     ],
     "language": "python",
     "metadata": {},
     "outputs": [
      {
       "output_type": "stream",
       "stream": "stdout",
       "text": [
        "Emitter resistance = 653.6 ohm\n",
        "Resistance R1      = 7.55 k-ohm\n",
        "Resistance R2      = 746.7 k-ohm\n"
       ]
      }
     ],
     "prompt_number": 24
    },
    {
     "cell_type": "heading",
     "level": 2,
     "metadata": {},
     "source": [
      "Example 2.47, Page No. 124"
     ]
    },
    {
     "cell_type": "code",
     "collapsed": false,
     "input": [
      "# Ai,Ri,Av\n",
      "\n",
      "import math\n",
      "#Variable declaration\n",
      "Rs=800.0                     # Internal resistance in ohms\n",
      "Rl=1000.0                    # Load resistance in ohms\n",
      "# H-paramters are\n",
      "Hie=1.0                      # in killo ohms\n",
      "Hre=2*10**-4\n",
      "Hfe=50\n",
      "Hoe=25*10**-6                # in ampere per volt\n",
      "\n",
      "#Calcualtions\n",
      "Ai= -Hfe/(1+Hoe*Rl)                    # Current gain\n",
      "Ri= Hie*10**3-((Hfe*Hre)/(Hoe+(1/Rl))) # Input resistance in ohms\n",
      "Ri = math.floor(Ri*100)/100\n",
      "Av= Ai*(Rl/Ri)                         # Voltage Gain\n",
      "\n",
      "#Result\n",
      "print(\"Current gain     = %.2f\"%Ai)\n",
      "print(\"Input resistance = %.2f ohm\"%Ri)\n",
      "print(\"Voltage gain     = %.2f\"%Av)"
     ],
     "language": "python",
     "metadata": {},
     "outputs": [
      {
       "output_type": "stream",
       "stream": "stdout",
       "text": [
        "Current gain     = -48.78\n",
        "Input resistance = 990.24 ohm\n",
        "Voltage gain     = -49.26\n"
       ]
      }
     ],
     "prompt_number": 31
    },
    {
     "cell_type": "heading",
     "level": 2,
     "metadata": {},
     "source": [
      "Example 2.48, Page No. 126"
     ]
    },
    {
     "cell_type": "code",
     "collapsed": false,
     "input": [
      "# Ai,Ri,Av,Ro\n",
      "\n",
      "import math\n",
      "#Variable declaration\n",
      "Rl=1.2*10**3               # Load resistance in ohms\n",
      "# H-paramters are\n",
      "Hib=28.0                   # in  ohms\n",
      "Hrb=5*10**-4\n",
      "Hfb=-0.98\n",
      "Hob=0.34*10**-6            # in ampere per volt\n",
      "\n",
      "#Calculations\n",
      "Ai= -Hfb/(1+Hob*Rl)        # Current gain\n",
      "Ai = math.ceil(Ai*100)/100\n",
      "Ri= Hib+(Hrb*Ai*Rl)        # Input resistance in ohms\n",
      "Av= round(Ai*(Rl/Ri))      # Voltage Gain\n",
      "dh=(Hib*Hob)-(Hrb*Hfb)\n",
      "Ro=(Hib/dh)*10**-3         # Output resistance in killo ohms\n",
      "\n",
      "#Result\n",
      "print(\"Current gain     = %.2f\"%Ai )\n",
      "print(\"Input resistance = %.1f ohm\"%Ri)\n",
      "print(\"Voltage gain     = %.f\"%Av)\n",
      "print(\"Ouput resistance = %.f k-ohm\"%Ro)"
     ],
     "language": "python",
     "metadata": {},
     "outputs": [
      {
       "output_type": "stream",
       "stream": "stdout",
       "text": [
        "Current gain     = 0.98\n",
        "Input resistance = 28.6 ohm\n",
        "Voltage gain     = 41\n",
        "Ouput resistance = 56 k-ohm\n"
       ]
      }
     ],
     "prompt_number": 37
    },
    {
     "cell_type": "heading",
     "level": 2,
     "metadata": {},
     "source": [
      "Example 2.49, Page No. 129"
     ]
    },
    {
     "cell_type": "code",
     "collapsed": false,
     "input": [
      "# Ai,Ri,Av,Avs,Ais\n",
      "\n",
      "import math\n",
      "#Variable declaration\n",
      "Rl=1000.0                # Load resistance in ohms\n",
      "Rs=1200.0                # Internal Resistance\n",
      "# H-paramters are\n",
      "Hib=22.0                 # in  ohms\n",
      "Hrb=3*10**-4\n",
      "Hfb=-0.98\n",
      "Hob=0.5*10**-6           # in ampere per volt\n",
      "\n",
      "#calculations\n",
      "Ai= -Hfb/(1+Hob*Rl)      # Current gain\n",
      "Ai = math.ceil(Ai*100)/100\n",
      "Ri= Hib+(Hrb*Ai*Rl)      # Input resistance in ohms\n",
      "Ri = math.ceil(Ri*10)/10\n",
      "Av=(Ai*(Rl/Ri))          # Voltage Gain\n",
      "dh=(Hib*Hob)-(Hrb*Hfb)\n",
      "Avs=(Av*Ri)/(Ri+Rs)      # Overall Voltage gain\n",
      "Ais=(Ai*Rs)/(Ri+Rs)      # Overall Current gain\n",
      "\n",
      "\n",
      "#Result\n",
      "print(\"Current gain         = %.2f\"%Ai)\n",
      "print(\"Input resistance     = %.1f ohm\"%Ri)\n",
      "print(\"Voltage gain         = %.3f\"%Av)\n",
      "print(\"Overall Voltage gain = %.3f\"%Avs)\n",
      "print(\"Overall Current gain = %.3f\"%Ais)"
     ],
     "language": "python",
     "metadata": {},
     "outputs": [
      {
       "output_type": "stream",
       "stream": "stdout",
       "text": [
        "Current gain         = 0.98\n",
        "Input resistance     = 22.3 ohm\n",
        "Voltage gain         = 43.946\n",
        "Overall Voltage gain = 0.802\n",
        "Overall Current gain = 0.962\n"
       ]
      }
     ],
     "prompt_number": 45
    },
    {
     "cell_type": "heading",
     "level": 2,
     "metadata": {},
     "source": [
      "Example 2.50, Page No.130 "
     ]
    },
    {
     "cell_type": "code",
     "collapsed": false,
     "input": [
      "# Ai,Ri,Av,Ro\n",
      "\n",
      "import math\n",
      "#Variable declaration\n",
      "Rl=5000.0            # Load resistance in ohms\n",
      "Rs=1000.0            # Source internal resistance\n",
      "R1=10.0              # Resistance in killo ohms\n",
      "R2=10.0              # Resistance in killo ohms\n",
      "Re=5*10**3           # Emitter resistance in  ohms\n",
      "# H-paramters are\n",
      "Hic=2000.0              # in killo ohms\n",
      "Hrc=1.0\n",
      "Hfc=-51.0\n",
      "Hoc=25*10**-6        # in ampere per volt\n",
      "\n",
      "#Calculations\n",
      "Ai= -Hfc/(1+Hoc*Rl)          # Current gain\n",
      "Ai = math.floor(Ai*10)/10\n",
      "Ri= (Hic+(Hrc*Ai*Rl)) # Input resistance in ohms\n",
      "Ri = Ri/1000                 # in Killo ohm\n",
      "Z1= (R1*R2)/(R1+R2)\n",
      "Zi=(Ri*Z1)/(Ri+Z1)           # input resistance of amplifier stage in killo ohms\n",
      "Av=round((Ai*(Rl/Ri))*10**-3)# Voltage Gain\n",
      "Ro=-(Rs+Hic)/Hfc       # Output resistance in  ohms\n",
      "Ro = math.floor(Ro*10)/10\n",
      "Zo= (Ro*Re)/(Ro+Re)          # output resistance of amplifier stage in ohms\n",
      "\n",
      "#Result\n",
      "print(\"Current gain                        = %.1f\"%Ai)\n",
      "print(\"Input resistance                    = %.f k-ohm\"%(Ri))\n",
      "print(\"Voltage gain                        = %.f\"%Av)\n",
      "print(\"input resistance of amplifier stage = %.1f k-ohm\"%Zi)\n",
      "print(\"Output resistance                   = %.1f ohm\"%Ro)\n",
      "print(\"output resistance of amplifier stage= %.1f ohm\"%Zo)\n",
      "#Answer for Zo is wrong in the book"
     ],
     "language": "python",
     "metadata": {},
     "outputs": [
      {
       "output_type": "stream",
       "stream": "stdout",
       "text": [
        "Current gain                        = 45.3\n",
        "Input resistance                    = 228 k-ohm\n",
        "Voltage gain                        = 1\n",
        "input resistance of amplifier stage = 4.9 k-ohm\n",
        "Output resistance                   = 58.8 ohm\n",
        "output resistance of amplifier stage= 58.1 ohm\n"
       ]
      }
     ],
     "prompt_number": 61
    },
    {
     "cell_type": "heading",
     "level": 2,
     "metadata": {},
     "source": [
      "Example 2.51, Page No. 131"
     ]
    },
    {
     "cell_type": "code",
     "collapsed": false,
     "input": [
      "# Ai,Ri,Av,Z0\n",
      "\n",
      "import math\n",
      "#Variable declaration\n",
      "R1=20.0              # Resistance in killo ohms\n",
      "R2=10.0              # Resistance in killo ohms\n",
      "Rc=5.0               # collector resistance in killo ohms\n",
      "R=10.0               # resistance in killo ohms\n",
      "Rs=800.0             # Internal resistance in ohms\n",
      "# H-paramters are\n",
      "Hie=1.5              # in killo ohms\n",
      "Hre=5*10**-3\n",
      "Hfe=50.0\n",
      "Hoe=2*10**-6         # in micro ampere per volt\n",
      "Ai= -Hfe             # Current gain\n",
      "Ri= Hie              # Input resistance in ohms\n",
      "\n",
      "#Calculations\n",
      "Rl=(Rc*R)/(Rc+R)     # Load resistance in killo ohms\n",
      "Rl= math.floor(Rl*10)/10\n",
      "Z1= (R1*R2)/(R1+R2)\n",
      "Zi=(Ri*Z1)/(Ri+Z1)   # input resistance of amplifier stage in killo ohms\n",
      "Av= (Ai*(Rl/Ri))# Voltage Gain\n",
      "Ro=(1/Hoe)     # output resistane in killo ohms\n",
      "Zo=(Ro*Rl)/(Ro+Rl)   # output resistance of amplifier stage in ohms\n",
      "\n",
      "#Result\n",
      "print(\"Current gain                   = %.f\"%Ai)\n",
      "print(\"input resistance of amplifier  = %.2f k-ohm\"%Zi)\n",
      "print(\"Voltage gain                   = %.f\"%Av)\n",
      "print(\"output resistance of amplifier = %.1f ohm\"%Zo)"
     ],
     "language": "python",
     "metadata": {},
     "outputs": [
      {
       "output_type": "stream",
       "stream": "stdout",
       "text": [
        "Current gain                   = -50\n",
        "input resistance of amplifier  = 1.22 k-ohm\n",
        "Voltage gain                   = -110\n",
        "output resistance of amplifier = 3.3 ohm\n"
       ]
      }
     ],
     "prompt_number": 78
    },
    {
     "cell_type": "heading",
     "level": 2,
     "metadata": {},
     "source": [
      "Example 2.52, Page No. 131"
     ]
    },
    {
     "cell_type": "code",
     "collapsed": false,
     "input": [
      "# Ai,Ri,Av\n",
      "\n",
      "import math\n",
      "#Variable declaration\n",
      "Rs=0.5                # Internal resistance in killo ohms\n",
      "Rl=5000.0             # Load resistance in ohms\n",
      "# H-paramters are\n",
      "Hie=1000.0            # in ohms\n",
      "Hfe=50.0\n",
      "Hoe=25*10**-6         # in ampere per volt\n",
      "\n",
      "#Calculations\n",
      "Ai= (1+Hfe)/(1+Hoe*Rl)# Current gain\n",
      "Ai = math.floor(Ai*100)/100\n",
      "Ri= Hie+(Ai*Rl)             # Input resistance in ohms\n",
      "Ri = math.floor(Ri/100)*100\n",
      "Av= (Ai*Rl)/Ri              # Voltage Gain\n",
      "\n",
      "\n",
      "#Result\n",
      "print(\"Current gain     = %.2f\"%Ai)\n",
      "print(\"Input resistance = %.1f k-ohm\"%(Ri/1000))\n",
      "print(\"Voltage gain     = %.4f\"%Av)"
     ],
     "language": "python",
     "metadata": {},
     "outputs": [
      {
       "output_type": "stream",
       "stream": "stdout",
       "text": [
        "Current gain     = 45.33\n",
        "Input resistance = 227.6 k-ohm\n",
        "Voltage gain     = 0.9958\n"
       ]
      }
     ],
     "prompt_number": 97
    },
    {
     "cell_type": "heading",
     "level": 2,
     "metadata": {},
     "source": [
      "Example 2.53, Page No. 131"
     ]
    },
    {
     "cell_type": "code",
     "collapsed": false,
     "input": [
      "# Ai,Ri,Av\n",
      "\n",
      "import math\n",
      "#Variable declaration\n",
      "Rs=1.0                   # Internal resistance in  ohms\n",
      "Rl=1600.0                # Load resistance in ohms\n",
      "# H-paramters are\n",
      "Hie=1100.0               # in  ohms\n",
      "Hfe=2.5*10**-4\n",
      "Hoe=25*10**-6            # in ampere per volt\n",
      "\n",
      "#Calcualtions\n",
      "Ai= -Hfe/(1+Hoe*Rl)      # Current gain\n",
      "Ri= round(Hie+(Ai*Rl))   # Input resistance in ohms\n",
      "Av= Ai*(Rl/Ri)           # Voltage Gain\n",
      "Av = math.ceil(Av*10**6)/100\n",
      "Ai = math.ceil(Ai*10**5)/10\n",
      "Pg=Ai*Av\n",
      "\n",
      "#Result\n",
      "print(\"Current gain     = %.1f * 10^-4\"%(Ai))\n",
      "print(\"Input resistance = %.f k-ohm\"%Ri)\n",
      "print(\"Voltage gain     = %.2f * 10^-4\"%Av)\n",
      "print(\"Power gain       = %.2f *10^-8\"%(math.floor(Pg*100)/100))"
     ],
     "language": "python",
     "metadata": {},
     "outputs": [
      {
       "output_type": "stream",
       "stream": "stdout",
       "text": [
        "Current gain     = -2.4 * 10^-4\n",
        "Input resistance = 1100 k-ohm\n",
        "Voltage gain     = -3.49 * 10^-4\n",
        "Power gain       = 8.37 *10^-8\n"
       ]
      }
     ],
     "prompt_number": 15
    },
    {
     "cell_type": "heading",
     "level": 2,
     "metadata": {},
     "source": [
      "Example 2.54.a, Page No. 132"
     ]
    },
    {
     "cell_type": "code",
     "collapsed": false,
     "input": [
      "# Icq,Vcq\n",
      "\n",
      "import math\n",
      "#Variable declaration\n",
      "Vbe=0.0\n",
      "Vcc=18.0                  # collector voltage in volts\n",
      "R1=510.0                  # resistance in killo ohms\n",
      "R2=510.0                  # resistance in killo ohms\n",
      "Rc=9.1                    # clollector resistance in killo ohms\n",
      "Re=7.5                    # emitter resistance in killo ohms\n",
      "Rs=1.0                    # Internal resistance in  ohms\n",
      "Rl=1600.0                 # Load resistance in ohms\n",
      "# H-paramters are\n",
      "Hie=1100.0                # in  ohms\n",
      "Hfe=2.5*10**-4\n",
      "Hoe=25*10**-6             # in ampere per volt\n",
      "\n",
      "\n",
      "#Calculations\n",
      "Vb=Vcc * (R2/(R1+R2))     # vOLTAGE AT BASE\n",
      "Ic= (Vb-Vbe)/Re           # in milli amperes\n",
      "Vce= Vcc-(Ic*(Rc+Re))     # Colector to emitter voltage in volts\n",
      "Ai= -Hfe/(1+Hoe*Rl)       # Current gain\n",
      "Ri= round(Hie+(Ai*Rl))    # Input resistance in ohms\n",
      "Av= Ai*(Rl/Ri)            # Voltage Gain\n",
      "\n",
      "#Result\n",
      "print(\"Colector to emitter voltage = %.1f V\"%Vce)\n",
      "print(\"Collector current           = %.1f mA\"%Ic) "
     ],
     "language": "python",
     "metadata": {},
     "outputs": [
      {
       "output_type": "stream",
       "stream": "stdout",
       "text": [
        "Colector to emitter voltage = -1.9 V\n",
        "Collector current           = 1.2 mA\n"
       ]
      }
     ],
     "prompt_number": 17
    },
    {
     "cell_type": "heading",
     "level": 2,
     "metadata": {},
     "source": [
      "Example 2.54.b, Page No. 132"
     ]
    },
    {
     "cell_type": "code",
     "collapsed": false,
     "input": [
      "# Av,Ri\n",
      "\n",
      "import math\n",
      "#Variable declaration\n",
      "Vbe=0.0\n",
      "Vcc=18.0                  # collector voltage in volts\n",
      "R1=510.0                  # resistance in killo ohms\n",
      "R2=510.0                  # resistance in killo ohms\n",
      "Rc=9.1                    # clollector resistance in killo ohms\n",
      "Re=7.5                    # emitter resistance in killo ohms\n",
      "Rs=1.0                    # Internal resistance in  ohms\n",
      "Rl=1600.0                 # Load resistance in ohms\n",
      "# H-paramters are\n",
      "Hie=1.0                   # in  killo ohms\n",
      "Hfe=50.0\n",
      "Hoe=0.0                   # in ampere per volt\n",
      "\n",
      "\n",
      "#Calculations\n",
      "Vb=Vcc * (R2/(R1+R2))     # VOLTAGE AT BASE\n",
      "Ic= (Vb-Vbe)/Re           # in milli amperes\n",
      "Vce= Vcc-(Ic*(Rc+Re))     # Colector to emitter voltage in volts\n",
      "Ai=-Hfe                   # current gain\n",
      "Ri=Hie                    # Input resistance in ohms\n",
      "Z1= (R1*R2)/(R1+R2)\n",
      "Zi=(Ri*Z1)/(Ri+Z1)        # input resistance of amplifier stage in killo ohms\n",
      "Av= Ai*(Rc/Ri)            # Voltage Gain\n",
      "\n",
      "#Result\n",
      "print(\"input resistance of amplifier stage = %.2f k-ohm\"%(math.floor(Zi*100)/100))\n",
      "print(\"Voltage gain is %.f\"%Av)"
     ],
     "language": "python",
     "metadata": {},
     "outputs": [
      {
       "output_type": "stream",
       "stream": "stdout",
       "text": [
        "input resistance of amplifier stage = 0.99 k-ohm\n",
        "Voltage gain is -455\n"
       ]
      }
     ],
     "prompt_number": 21
    },
    {
     "cell_type": "heading",
     "level": 2,
     "metadata": {},
     "source": [
      "Example 2.55, Page No. 140"
     ]
    },
    {
     "cell_type": "code",
     "collapsed": false,
     "input": [
      "# resitive paramters\n",
      "\n",
      "import math\n",
      "#Variable declaration\n",
      "Ic= 5.0                     # in milli amperes\n",
      "Vt=26.0                     # voltage \n",
      "# H-paramters are\n",
      "hie=1.0                     # in killo ohms\n",
      "hfe=100.0\n",
      "hoe=4*10**-5                # in ampere per volt\n",
      "hre=10**-4\n",
      "\n",
      "#Calculations\n",
      "gm=math.floor(Ic*1000/Vt)/1000# transconductance\n",
      "rbe= hfe/gm                 # in ohms\n",
      "rbb=hie*10**3-rbe           # in ohms\n",
      "rbc=(rbe/(hre)*10**-6)      # in mega ohms\n",
      "gce1=hoe-(1+hfe)*(1/(rbc*10**6))\n",
      "rce=(1/gce1)*10**-3         #in killo ohms\n",
      "\n",
      "#Result\n",
      "print(\"transconductance = %.3f mho\"%gm)\n",
      "print(\"Rbe = %.f ohm\"%rbe)\n",
      "print(\"Rbb = %.f ohm\"%rbb)\n",
      "print(\"Rbc = %.2f Mega ohm\"%rbc)\n",
      "print(\"gce1= %.2f * 10^-5 mho\"%(gce1*10**5))\n",
      "print(\"Rce = %.1f killo ohm\"%rce)\n",
      "#Answer for Rbe is wrong in the book and hence for Rbb and Rbc"
     ],
     "language": "python",
     "metadata": {},
     "outputs": [
      {
       "output_type": "stream",
       "stream": "stdout",
       "text": [
        "transconductance = 0.192 mho\n",
        "Rbe = 521 ohm\n",
        "Rbb = 479 ohm\n",
        "Rbc = 5.21 Mega ohm\n",
        "gce1= 2.06 * 10^-5 mho\n",
        "Rce = 48.5 killo ohm\n"
       ]
      }
     ],
     "prompt_number": 34
    },
    {
     "cell_type": "heading",
     "level": 2,
     "metadata": {},
     "source": [
      "Example 2.56, Page No. 140"
     ]
    },
    {
     "cell_type": "code",
     "collapsed": false,
     "input": [
      "# ressitive paramters\n",
      "\n",
      "import math\n",
      "#Variable declaration\n",
      "Ic= 1.0        # in milli amperes\n",
      "Vt=26.0        # volatge \n",
      "ft=80.0        # frequency in mega hertz\n",
      "Cbc=12         # in pico farad\n",
      "# H-paramters are\n",
      "hie=6.0        # in killo ohms\n",
      "hfe=224.0\n",
      "\n",
      "#Calculations\n",
      "gm=Ic/Vt       # transconductance\n",
      "rbe= hfe/gm    # in ohms\n",
      "rbb=hie*10**3-rbe\n",
      "Cbe= (((gm)/(2*math.pi*ft*10**6))-Cbc*10**-12)*10**12\n",
      "\n",
      "#Result\n",
      "print(\"transconductance = %.2f m-mho\"%(gm*1000))\n",
      "print(\"Rbe = %.3f k-ohm\"%(rbe/1000))\n",
      "print(\"Rbb = %.f ohm\"%rbb)\n",
      "print(\"Cbe = %.1f pF\"%Cbe)"
     ],
     "language": "python",
     "metadata": {},
     "outputs": [
      {
       "output_type": "stream",
       "stream": "stdout",
       "text": [
        "transconductance = 38.46 m-mho\n",
        "Rbe = 5.824 k-ohm\n",
        "Rbb = 176 ohm\n",
        "Cbe = 64.5 pF\n"
       ]
      }
     ],
     "prompt_number": 40
    },
    {
     "cell_type": "heading",
     "level": 2,
     "metadata": {},
     "source": [
      "Example 2.57, Page No. 145"
     ]
    },
    {
     "cell_type": "code",
     "collapsed": false,
     "input": [
      "# alpha ,beta and cut off frequencies\n",
      "\n",
      "import math\n",
      "#Variable declaration\n",
      "Cbc=12.0            # in pico farad\n",
      "# H-paramters are\n",
      "hie=6.0             # in killo ohms\n",
      "hfe=224.0\n",
      "gm=38.0             # transconductance\n",
      "rbe=5.9             # in killo ohms\n",
      "rbb=100.0           # in ohms\n",
      "Cbe= 63.0           # in pico farad\n",
      "\n",
      "#Calculations\n",
      "falpha= ((hfe)/(2*math.pi*rbe*10**3*Cbe*10**-12))*10**-6\n",
      "fbeta= ((1)/(2*math.pi*rbe*10**3*(Cbe+Cbc)*10**-12))*10**-6\n",
      "ft= ((gm*10**-3/(2*math.pi*(Cbe+Cbc)*10**-12)))*10**-6\n",
      "\n",
      "#Result\n",
      "print(\"F_alfa = %.1f MHz\"%falpha)\n",
      "print(\"F_beta = %.3f MHz\"%(math.floor(fbeta*1000)/1000))\n",
      "print(\"F_t    = %.2f MHz\"%(math.floor(ft*100)/100))"
     ],
     "language": "python",
     "metadata": {},
     "outputs": [
      {
       "output_type": "stream",
       "stream": "stdout",
       "text": [
        "F_alfa = 95.9 MHz\n",
        "F_beta = 0.359 MHz\n",
        "F_t    = 80.63 MHz\n"
       ]
      }
     ],
     "prompt_number": 44
    },
    {
     "cell_type": "heading",
     "level": 2,
     "metadata": {},
     "source": [
      "Example 2.58, Page No. 147"
     ]
    },
    {
     "cell_type": "code",
     "collapsed": false,
     "input": [
      "# ressitive paramters\n",
      "\n",
      "import math\n",
      "#Variable declaration\n",
      "Ic= 2.6                   # in milli amperes\n",
      "Vt=26.0                   # volatge \n",
      "ft=500.0                  # frequency in mega hertz\n",
      "Cbc=3.0                   # in pico farad\n",
      "rbb=100.0                 # in ohms\n",
      "rbe=1.0                   # IN KILLO OHMS\n",
      "\n",
      "#calculations\n",
      "gm=Ic/Vt                  # transconductance\n",
      "Beta= gm*rbe*10**3\n",
      "Cbe= (((gm)/(2*math.pi*ft*10**6))-Cbc*10**-12)*10**12\n",
      "\n",
      "#Result\n",
      "print(\"transconductance = %.1f mho\"%gm)\n",
      "print(\"Cbe = %.2f pF\"%Cbe)\n",
      "#Answer for Cbe is slightly different than book"
     ],
     "language": "python",
     "metadata": {},
     "outputs": [
      {
       "output_type": "stream",
       "stream": "stdout",
       "text": [
        "transconductance = 0.1 mho\n",
        "Cbe = 28.83 pF\n"
       ]
      }
     ],
     "prompt_number": 46
    },
    {
     "cell_type": "heading",
     "level": 2,
     "metadata": {},
     "source": [
      "    Example 2.59, Page No. 148"
     ]
    },
    {
     "cell_type": "code",
     "collapsed": false,
     "input": [
      "# h-parameters and hybrid parameters\n",
      "\n",
      "import math\n",
      "#Variable declaration\n",
      "# H-paramters are\n",
      "hie=1100.0               # in killo ohms\n",
      "hre=2.5*10**-4\n",
      "hfe=50.0\n",
      "hoe=2.5*10**-5           # in ampere per volt\n",
      "rbb=100.0\n",
      "\n",
      "#Calculations\n",
      "hic=hie\n",
      "hrc=1-hre\n",
      "hfc=-(1+hfe)\n",
      "hoc=hoe\n",
      "hib=(hie/(1+hfe))\n",
      "hrb= ((hie*hoe)/(1+hfe))-hre\n",
      "hob=(hoe/(1+hfe))\n",
      "rbe=(hie-rbb)*10**-3      # in killo ohms\n",
      "rbc= ((hie-rbb)/hre)*10**-6\n",
      "gm= ((hfe/(hie-rbb)))\n",
      "x=hoe-((hfe*hre)/(hie-rbb))\n",
      "rce=1/(1.25*10**-2)\n",
      "\n",
      "#Result\n",
      "print(\"\\nH-parameters for common collector configuration are:\")\n",
      "print(\"hic = %.f ohm\\nhrc = %.f\\nhfc = %.f\\nhoc = %.1f*10^-5 mho\"%(hie,hrc,hfc,hoc*10**5))\n",
      "print(\"\\nH-parameters for common collector configuration are:\")\n",
      "print(\"hib = %.2f ohm\\nhrb = %.1f*10^4\\nhob = %.1f*10^-6 mho\"%(hib,hrb*10**4,hob*10**6))\n",
      "print(\"\\nhybrid pie paramtere are:\")\n",
      "print(\"rbe(in killo ohms)   = %.f\\nrbc(mega ohms)\\t     = %.f\\ntransconductance(mho)= %.f\\nrce(in killo ohms)   = %.f\"%(rbe,rbc,gm,rce))\n"
     ],
     "language": "python",
     "metadata": {},
     "outputs": [
      {
       "output_type": "stream",
       "stream": "stdout",
       "text": [
        "\n",
        "H-parameters for common collector configuration are:\n",
        "hic = 1100 ohm\n",
        "hrc = 1\n",
        "hfc = -51\n",
        "hoc = 2.5*10^-5 mho\n",
        "\n",
        "H-parameters for common collector configuration are:\n",
        "hib = 21.57 ohm\n",
        "hrb = 2.9*10^4\n",
        "hob = 0.5*10^-6 mho\n",
        "\n",
        "hybrid pie paramtere are:\n",
        "rbe(in killo ohms)   = 1\n",
        "rbc(mega ohms)\t     = 4\n",
        "transconductance(mho)= 0\n",
        "rce(in killo ohms)   = 80\n"
       ]
      }
     ],
     "prompt_number": 72
    },
    {
     "cell_type": "heading",
     "level": 2,
     "metadata": {},
     "source": [
      "Example 2.60, Page No. 149"
     ]
    },
    {
     "cell_type": "code",
     "collapsed": false,
     "input": [
      "# hybrid parameters\n",
      "\n",
      "import math\n",
      "#Variable declaration\n",
      "Ic= 10.0              # in milli amperes\n",
      "Vt=26.0               # volatge \n",
      "ft=500.0              # frequency in mega hertz\n",
      "Cbc=3.0               # in pico farad\n",
      "gm=Ic/Vt              # transconductance\n",
      "# H-paramters are\n",
      "hie=500.0             # in killo ohms\n",
      "hfe=100.0\n",
      "hre=0.1\n",
      "hoe=4*10**-5          # in ampere per volt\n",
      "\n",
      "#Calculations\n",
      "rbe=hfe/gm            # in ohms\n",
      "rbc= ((rbe)/hre)*10**-3\n",
      "x=hoe-((hfe*10**-4)/(rbe))\n",
      "rce=(1/(x*10**-2))*10**-5\n",
      "Cbe=(((gm)/(2*math.pi*ft*10**6))*10**13-Cbc)\n",
      "\n",
      "#Result\n",
      "print(\"transconductance = %.3f mho\"%gm)\n",
      "print(\"(rbe) = %.f ohm\"%rbe)\n",
      "print(\"(rbc) = %.1f Mega-ohm\"%rbc)\n",
      "print(\"(rce) = %.f k-ohm\"%rce)\n",
      "print(\"(Cbe) = %.f pF\"%Cbe)"
     ],
     "language": "python",
     "metadata": {},
     "outputs": [
      {
       "output_type": "stream",
       "stream": "stdout",
       "text": [
        "transconductance = 0.385 mho\n",
        "(rbe) = 260 ohm\n",
        "(rbc) = 2.6 Mega-ohm\n",
        "(rce) = 650 k-ohm\n",
        "(Cbe) = 1221 pF\n"
       ]
      }
     ],
     "prompt_number": 78
    },
    {
     "cell_type": "heading",
     "level": 2,
     "metadata": {},
     "source": [
      "Example 2.61, Page No. 149"
     ]
    },
    {
     "cell_type": "code",
     "collapsed": false,
     "input": [
      "# hybrid parameters\n",
      "\n",
      "import math\n",
      "#Variable declaration\n",
      "Ai=10.0           # current gain\n",
      "Vce=10.0\n",
      "Ic= 10.0          # in milli amperes\n",
      "Vt=26.0           # volatge \n",
      "f=10.0            # frequency in mega hertz\n",
      "Cbc=3.0           # in pico farad\n",
      "gm=Ic/Vt          # transconductance\n",
      "# H-paramters are\n",
      "hie=500.0         # in ohms\n",
      "hfe=100.0\n",
      "\n",
      "#Calculations\n",
      "rbe= hfe/gm\n",
      "rbb= hie-rbe\n",
      "Ft= Ai*f\n",
      "fb= Ft/hfe\n",
      "Ce=((gm/(2*math.pi*Ft*10**6))-Cbc*10**-12)*10**12\n",
      "\n",
      "#Result\n",
      "print(\"(gm)  = %.1f mS\"%(gm*10**3))\n",
      "print(\"(rbe) = %.f ohm\"%rbe)\n",
      "print(\"(rbb) = %.f ohm\"%rbb)\n",
      "print(\"(ft)  = %.f MHz\"%Ft)\n",
      "print(\"(fb)  = %.f MHz\"%fb)\n",
      "print(\"(Ce)  = %.f p-F\"%Ce)"
     ],
     "language": "python",
     "metadata": {},
     "outputs": [
      {
       "output_type": "stream",
       "stream": "stdout",
       "text": [
        "(gm)  = 384.6 mS\n",
        "(rbe) = 260 ohm\n",
        "(rbb) = 240 ohm\n",
        "(ft)  = 100 MHz\n",
        "(fb)  = 1 MHz\n",
        "(Ce)  = 609 p-F\n"
       ]
      }
     ],
     "prompt_number": 81
    },
    {
     "cell_type": "heading",
     "level": 2,
     "metadata": {},
     "source": [
      "Example 2.62, Page No. 150"
     ]
    },
    {
     "cell_type": "code",
     "collapsed": false,
     "input": [
      "# mid band voltage gain and cut off frequency\n",
      "\n",
      "import math\n",
      "#Variable declaration\n",
      "Rs=1.0 \n",
      "ft=500.0                # frequency in mega hertz\n",
      "Cbc=5.0                 # in pico farad\n",
      "# H-paramters are\n",
      "hie=500.0\n",
      "hfe=100.0\n",
      "rbe= 900.0\n",
      "rbb= 100.0\n",
      "Rl=500.0                 # load resistance in ohms\n",
      "\n",
      "#Calculations\n",
      "gm=hfe/rbe               # in mho\n",
      "Av=((-gm*Rl))            # voltage gain\n",
      "Avs= ((Av*rbe)/(Rs*10**3+rbb+rbe))\n",
      "fb= ft/hfe\n",
      "\n",
      "#Result\n",
      "print(\"mid band voltage gain is %.f\"%Avs)\n",
      "print(\"Fb = %.f MHz\"%fb)"
     ],
     "language": "python",
     "metadata": {},
     "outputs": [
      {
       "output_type": "stream",
       "stream": "stdout",
       "text": [
        "mid band voltage gain is -25\n",
        "Fb = 5 MHz\n"
       ]
      }
     ],
     "prompt_number": 58
    },
    {
     "cell_type": "heading",
     "level": 2,
     "metadata": {},
     "source": [
      "Example 2.63, Page No. 150"
     ]
    },
    {
     "cell_type": "code",
     "collapsed": false,
     "input": [
      "# mid band voltage gain and cut off frequency\n",
      "\n",
      "import math\n",
      "#Variable declaration\n",
      "Rs=1.0\n",
      "ft=500.0         # frequency in mega hertz\n",
      "Cbc=5.0          # in pico farad\n",
      "# H-paramters are\n",
      "gm=100.0         # in mho\n",
      "hfe=100.0\n",
      "rbb= 100.0\n",
      "Rl=500.0         # load resistance in ohms\n",
      "\n",
      "\n",
      "#Calculations\n",
      "rbe=hfe/(gm*10**-3)\n",
      "Av=((-gm*10**-3*Rl))\n",
      "Avs= ((Av*rbe)/(Rs*10**3+rbb+rbe))\n",
      "fb= ft/hfe\n",
      "\n",
      "\n",
      "#Result\n",
      "print(\"mid band voltage gain is %.2f\"%Avs)\n",
      "print(\"Fb = %.f MHz\"%fb)"
     ],
     "language": "python",
     "metadata": {},
     "outputs": [
      {
       "output_type": "stream",
       "stream": "stdout",
       "text": [
        "mid band voltage gain is -23.81\n",
        "Fb = 5 MHz\n"
       ]
      }
     ],
     "prompt_number": 83
    },
    {
     "cell_type": "heading",
     "level": 2,
     "metadata": {},
     "source": [
      "Example 2.64, Page No. 156"
     ]
    },
    {
     "cell_type": "code",
     "collapsed": false,
     "input": [
      "# resonant frequency and voltage drop\n",
      "\n",
      "import math\n",
      "#Variable declaration\n",
      "L=100.0                # in micro henry\n",
      "C=253.3                # in micro farad\n",
      "R=15.7                 # in ohms\n",
      "V=0.157\n",
      "\n",
      "\n",
      "#Calculations\n",
      "fr=((1/(2*math.pi*math.sqrt(L*10**-6*C*10**-12))))*10**-6 # resonant frequency in mega hertz\n",
      "Ir=V/R\n",
      "Vr=V\n",
      "Vl=Ir*(2*math.pi*fr*10**6*L*10**-6)\n",
      "Xc= (1/(2*math.pi*fr*10**6*C*10**-12))\n",
      "Vc= Ir*Xc\n",
      "Q=((2*math.pi*fr*10**6*L*10**-6)/R)\n",
      "\n",
      "#Result\n",
      "print(\"resonant frequency             = %.f MHz\"%fr)\n",
      "print(\"Voltage drop across resitor    = %.3f V\"%Vr)\n",
      "print(\"Voltage drop across inductor   = %.3f V\"%Vl)\n",
      "print(\"Voltage drop across capacitor  = %.3f V\"%Vc)\n",
      "print(\"Quality factor of coil         = %.f\"%Q)\n"
     ],
     "language": "python",
     "metadata": {},
     "outputs": [
      {
       "output_type": "stream",
       "stream": "stdout",
       "text": [
        "resonant frequency             = 1 MHz\n",
        "Voltage drop across resitor    = 0.157 V\n",
        "Voltage drop across inductor   = 6.283 V\n",
        "Voltage drop across capacitor  = 6.283 V\n",
        "Quality factor of coil         = 40\n"
       ]
      }
     ],
     "prompt_number": 89
    },
    {
     "cell_type": "heading",
     "level": 2,
     "metadata": {},
     "source": [
      "Example 2.65, Page No. 160"
     ]
    },
    {
     "cell_type": "code",
     "collapsed": false,
     "input": [
      "# resonant frequency ,impedence,Q-factor,Bnadwidth,line current  and resonant frequency\n",
      "\n",
      "import math\n",
      "#Variable declaration\n",
      "V=10.0\n",
      "L=1.2                # in micro henry\n",
      "C=200.0              # in micro farad\n",
      "R=8.0                # in ohms\n",
      "\n",
      "#Calculations\n",
      "fr=(1/(2*math.pi))*(math.sqrt((1/(L*10**-3*C*10**-12))-(R**2/(L*10**-3)**2))*10**-3)  # resonant frequency in killo hertz\n",
      "Zr=(L*10**-3)/(C*10**-9*R)                                                            # IN KILLO OHMS\n",
      "Q=((2*math.pi*fr*10**6*L*10**-6)/R)\n",
      "BW=fr/Q\n",
      "Ir=(V/Zr)*10**3\n",
      "fr1=((1/(2*math.pi*math.sqrt(L*10**-3*C*10**-12))))*10**-3                            #resonant frequency in mega hertz\n",
      "\n",
      "#Result\n",
      "print(\"resonant frequency = %.3f kHz\"%fr)\n",
      "print(\"Impedence is %.f k-ohm\"%Zr)\n",
      "print(\"bandwidth is %.2f kHz\"%BW)\n",
      "print(\"line current is %.2f micro-A\"%Ir)\n",
      "print(\"Quality factor of coil is %.1f\"%Q)\n",
      "print(\"resonant frequency neglecting resistance = %.3f kHz\"%(math.floor(fr1*1000)/1000))"
     ],
     "language": "python",
     "metadata": {},
     "outputs": [
      {
       "output_type": "stream",
       "stream": "stdout",
       "text": [
        "resonant frequency = 324.872 kHz\n",
        "Impedence is 750 k-ohm\n",
        "bandwidth is 1.06 kHz\n",
        "line current is 13.33 micro-A\n",
        "Quality factor of coil is 306.2\n",
        "resonant frequency neglecting resistance = 324.873 kHz\n"
       ]
      }
     ],
     "prompt_number": 99
    },
    {
     "cell_type": "heading",
     "level": 2,
     "metadata": {},
     "source": [
      "Example 2.66, Page No. 161"
     ]
    },
    {
     "cell_type": "code",
     "collapsed": false,
     "input": [
      "# resonant frequency ,impedence,Q-factor,Bnadwidth\n",
      "\n",
      "import math\n",
      "#Variable declaration\n",
      "V=10.0\n",
      "L=150.0            # in micro henry\n",
      "C=100.0            # in micro farad\n",
      "R=5                # in ohms\n",
      "\n",
      "#Calculations\n",
      "fr=((1/(2*math.pi*math.sqrt(L*10**-6*C*10**-12))))*10**-3  # resonant frequency in killo hertz\n",
      "Zr=(L*10**-3)/(C*10**-9*R)                                 # IN KILLO OHMS\n",
      "Q=((2*math.pi*fr*10**6*L*10**-6)/R)*10**-3\n",
      "BW=(fr/Q)\n",
      "\n",
      "#Result\n",
      "print(\"resonant frequency = %.1f kHz\"%fr)\n",
      "print(\"Impedance is %.f k-ohm\"%(Zr*10**-3))\n",
      "print(\"Quality factor of coil is %.f\"%Q)\n",
      "print(\"bandwidth = %.1f kHz\"%BW)"
     ],
     "language": "python",
     "metadata": {},
     "outputs": [
      {
       "output_type": "stream",
       "stream": "stdout",
       "text": [
        "resonant frequency = 1299.5 kHz\n",
        "Impedance is 300 k-ohm\n",
        "Quality factor of coil is 245\n",
        "bandwidth = 5.3 kHz\n"
       ]
      }
     ],
     "prompt_number": 104
    },
    {
     "cell_type": "heading",
     "level": 2,
     "metadata": {},
     "source": [
      "Example 2.67, Page No. 162"
     ]
    },
    {
     "cell_type": "code",
     "collapsed": false,
     "input": [
      "# Q FACTOR\n",
      "\n",
      "import math\n",
      "#Variable declaration\n",
      "fr=1600.0           # resonant frequency in killo hertz\n",
      "BW=10.0             # In kill hertz\n",
      "\n",
      "#Calculations\n",
      "Qr=fr/BW\n",
      "\n",
      "#Result\n",
      "print(\"value of quality factor is %.f\"%Qr)"
     ],
     "language": "python",
     "metadata": {},
     "outputs": [
      {
       "output_type": "stream",
       "stream": "stdout",
       "text": [
        "value of quality factor is 160\n"
       ]
      }
     ],
     "prompt_number": 8
    },
    {
     "cell_type": "heading",
     "level": 2,
     "metadata": {},
     "source": [
      "Example 2.68, Page No. 163"
     ]
    },
    {
     "cell_type": "code",
     "collapsed": false,
     "input": [
      "# Q FACTOR\n",
      "\n",
      "import math\n",
      "#Variable declaration\n",
      "fr=2*10**6         # resonant frequency in hertz\n",
      "BW=50*10**3         # hertz\n",
      "\n",
      "#Calcualtions\n",
      "Qr=fr/BW\n",
      "\n",
      "#Result\n",
      "print(\"value of quality factor is %.f\"%Qr)"
     ],
     "language": "python",
     "metadata": {},
     "outputs": [
      {
       "output_type": "stream",
       "stream": "stdout",
       "text": [
        "value of quality factor is 40\n"
       ]
      }
     ],
     "prompt_number": 10
    },
    {
     "cell_type": "heading",
     "level": 2,
     "metadata": {},
     "source": [
      "Example 2.69, Page No. 163"
     ]
    },
    {
     "cell_type": "code",
     "collapsed": false,
     "input": [
      "# parallel impedence\n",
      "\n",
      "import math\n",
      "#Variable declaration\n",
      "fr=455.0*10**3              # resonant frequency in hertz\n",
      "BW=10.0*10**3               # hertz\n",
      "Xl=1255.0                 # inductive reactance in ohm\n",
      "\n",
      "#Calculations\n",
      "Qr=fr/BW\n",
      "R=Xl/Qr\n",
      "L=Xl/(2*math.pi*fr)\n",
      "C=1/(2*math.pi*fr*Xl)\n",
      "Zp=(L/(C*R))*10**-3\n",
      "\n",
      "#Result\n",
      "print(\"value of quality factor is %.1f\"%Qr)\n",
      "print(\"resisitance =  %.1f ohm\"%R)\n",
      "print(\"inductance  = %.3f * 10^-3 H\"%(L*1000))\n",
      "print(\"capacitor   = %.1f * 10^-12 F\"%(C*10**12))\n",
      "print(\"parallel impedence = %.f k-ohm\"%Zp)\n"
     ],
     "language": "python",
     "metadata": {},
     "outputs": [
      {
       "output_type": "stream",
       "stream": "stdout",
       "text": [
        "value of quality factor is 45.5\n",
        "resisitance =  27.6 ohm\n",
        "inductance  = 0.439 * 10^-3 H\n",
        "capacitor   = 278.7 * 10^-12 F\n",
        "parallel impedence = 57 k-ohm\n"
       ]
      }
     ],
     "prompt_number": 115
    }
   ],
   "metadata": {}
  }
 ]
}