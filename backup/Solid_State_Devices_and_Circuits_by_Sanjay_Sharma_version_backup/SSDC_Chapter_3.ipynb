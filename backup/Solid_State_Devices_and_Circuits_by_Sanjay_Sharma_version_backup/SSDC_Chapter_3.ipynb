{
 "metadata": {
  "name": ""
 },
 "nbformat": 3,
 "nbformat_minor": 0,
 "worksheets": [
  {
   "cells": [
    {
     "cell_type": "heading",
     "level": 1,
     "metadata": {},
     "source": [
      "Chapter 3 : Transistor  Amplifiers"
     ]
    },
    {
     "cell_type": "heading",
     "level": 2,
     "metadata": {},
     "source": [
      "Example 3.1, Page No.187"
     ]
    },
    {
     "cell_type": "code",
     "collapsed": false,
     "input": [
      "# calculate the input impedence, output impedence, voltage gain and current gain \n",
      "\n",
      "import math\n",
      "#Variable declaration\n",
      "Hie=500.0              # the h-parameters of the transistor in ohm\n",
      "Hfe=60.0               # the h-parameters of the transistor in ohm\n",
      "Ic=3*10**-3            # collector current in ampere\n",
      "Rb=220*10**3           # resistance in ohm\n",
      "Rc=5.1*10**3           # resistance in ohm\n",
      "Vcc=12.0               # voltage in volts\n",
      "Vbe=0.6                # voltage in volts\n",
      "Beta=60.0              # for transistor\n",
      "\n",
      "\n",
      "#Calculations\n",
      "zi=Hie\n",
      "zo=Rc\n",
      "Av=-Hfe*Rc/Hie\n",
      "Ai=-Hfe\n",
      "Ib=(Vcc-Vbe)/Rb\n",
      "Ie=Beta*Ib\n",
      "re=26*10**-3/Ie\n",
      "Zin=Beta*math.ceil(re*100)/100\n",
      "Zout=Rc\n",
      "Av1=-Rc/re\n",
      "Ai1=-Beta\n",
      "\n",
      "\n",
      "#Result\n",
      "print(\"part 1 - from h-parameter model:\")\n",
      "print(\"input impedence (ohm)   = %.f\"%zi)\n",
      "print(\"ouput impedence (k-ohm)   = %.1f \"%(zo/1000))\n",
      "print(\"current gain (unitless) = %.f\"%Ai)\n",
      "print(\"voltage gain (unitless) = %.f\"%Av)\n",
      "print(\"\\npart 2 - from re model:\")\n",
      "print(\"base curret (micro-A)   = %.1f\"%(Ib*10**6))\n",
      "print(\"emitter curret (mA)     = %.3f\"%(Ie*1000))\n",
      "print(\"resistance              = %.2f\"%(math.ceil(re*100)/100))\n",
      "print(\"input impedence (ohm)   = %.1f\"%Zin)\n",
      "print(\"ouput impedence (k-ohm) = %.1f\"%(Zout/1000))\n",
      "print(\"current gain (unitless) = %.f\"%Ai1)\n",
      "print(\"voltage gain (unitless) = %.f\"%(math.ceil(Av1)))"
     ],
     "language": "python",
     "metadata": {},
     "outputs": [
      {
       "output_type": "stream",
       "stream": "stdout",
       "text": [
        "part 1 - from h-parameter model:\n",
        "input impedence (ohm)   = 500\n",
        "ouput impedence (k-ohm)   = 5.1 \n",
        "current gain (unitless) = -60\n",
        "voltage gain (unitless) = -612\n",
        "\n",
        "part 2 - from re model:\n",
        "base curret (micro-A)   = 51.8\n",
        "emitter curret (mA)     = 3.109\n",
        "resistance              = 8.37\n",
        "input impedence (ohm)   = 502.2\n",
        "ouput impedence (k-ohm) = 5.1\n",
        "current gain (unitless) = -60\n",
        "voltage gain (unitless) = -609\n"
       ]
      }
     ],
     "prompt_number": 21
    },
    {
     "cell_type": "heading",
     "level": 2,
     "metadata": {},
     "source": [
      "Example 3.2, Page No. 192"
     ]
    },
    {
     "cell_type": "code",
     "collapsed": false,
     "input": [
      "# calculate the input impedence, output impedence, voltage gain and current gain \n",
      "\n",
      "import math\n",
      "#Variable declaration\n",
      "Hie=3.2                 # the h-parameters of the transistor in kilo-ohm\n",
      "Hfe=100.0               # the h-parameters of the transistor \n",
      "R1=40.0                 # resistance in kilo-ohm\n",
      "R2=4.7                  # resistance in kilo-ohm;\n",
      "Rc=4.0                  # resistance in kilo-ohm;\n",
      "Re=1.2                  # resistance in kilo-ohm;\n",
      "Vcc=16.0                # voltage in volts\n",
      "Vbe=0.6                 # voltage in volts\n",
      "Beta=100.0              # for transistor\n",
      "\n",
      "#Calcualtions\n",
      "Rb=(R1*R2)/(R1+R2)\n",
      "zi=(Rb*Hie)/(Rb+Hie)\n",
      "zo=Rc\n",
      "Av=-(Hfe*Rc)/Hie\n",
      "Ai=-(Rb*Hfe)/(Rb+Hie)\n",
      "Vb=(R2*Vcc)/(R1+R2)\n",
      "Ib=(Vb-Vbe)/(Rb+(1+Beta)*Re)\n",
      "Ic=math.floor(Beta*Ib*100)/100\n",
      "Ie=Ic\n",
      "re=26.0/Ie\n",
      "Zin=(Rb*(Beta*re*10**-3))/(Rb+(Beta*re*10**-3))\n",
      "Zout=Rc\n",
      "Av1=-(Rc*10**3)/re\n",
      "Ai1=-(Beta*(Rb*10**3))/((Rb*10**3)+(Beta*re))\n",
      "\n",
      "#Result\n",
      "print(\"part 1 -from h-parameter model:\")\n",
      "print(\"base resistance (kilo-ohm) = %.1f\"%Rb)\n",
      "print(\"input impedence (kilo-ohm) = %.2f\"%zi)\n",
      "print(\"ouput impedence (kilo-ohm) = %.f\"%zo)\n",
      "print(\"current gain (unitless)    = %.2f\"%Ai)\n",
      "print(\"voltage gain (unitless)    = %.f\"%Av)\n",
      "print(\"\\npart 2 -from re model:\")\n",
      "print(\"base voltage (V)           = %.3f\"%Vb)\n",
      "print(\"base curret (micro-A)      = %.2f\"%(Ib*1000))\n",
      "print(\"collector curret (mA)      = %.2f\"%Ic)\n",
      "print(\"emitter curret (mA)        = %.2f\"%Ie)\n",
      "print(\"resistance                 = %.2f\"%re)\n",
      "print(\"input impedence (kilo-ohm) = %.2f\"%Zin)\n",
      "print(\"ouput impedence (kilo-ohm) = %.f\"%Zout)\n",
      "print(\"current gain (unitless)    = %.2f\"%Ai1)\n",
      "print(\"voltage gain (unitless)    = %.1f\"%Av1)\n",
      "\n",
      "#Current gain values are slightly different"
     ],
     "language": "python",
     "metadata": {},
     "outputs": [
      {
       "output_type": "stream",
       "stream": "stdout",
       "text": [
        "part 1 -from h-parameter model:\n",
        "base resistance (kilo-ohm) = 4.2\n",
        "input impedence (kilo-ohm) = 1.82\n",
        "ouput impedence (kilo-ohm) = 4\n",
        "current gain (unitless)    = -56.79\n",
        "voltage gain (unitless)    = -125\n",
        "\n",
        "part 2 -from re model:\n",
        "base voltage (V)           = 1.682\n",
        "base curret (micro-A)      = 8.63\n",
        "collector curret (mA)      = 0.86\n",
        "emitter curret (mA)        = 0.86\n",
        "resistance                 = 30.23\n",
        "input impedence (kilo-ohm) = 1.76\n",
        "ouput impedence (kilo-ohm) = 4\n",
        "current gain (unitless)    = -58.18\n",
        "voltage gain (unitless)    = -132.3\n"
       ]
      }
     ],
     "prompt_number": 42
    },
    {
     "cell_type": "heading",
     "level": 2,
     "metadata": {},
     "source": [
      "Example 3.3, Page No. 194"
     ]
    },
    {
     "cell_type": "code",
     "collapsed": false,
     "input": [
      "# calculate the input impedence, output impedence, voltage gain and current gain \n",
      "\n",
      "import math\n",
      "#Variable declaration\n",
      "Re=4.0           # resistance in kilo-ohm\n",
      "Rc=3.0           # resistance in kilo-ohm\n",
      "Vcc=10.0         # collector voltage in volts\n",
      "Vee=8.0          # emitter voltage in volts\n",
      "Vbe=0.6          # base voltage in volts\n",
      "\n",
      "#Calculation\n",
      "Ie=(Vee-Vbe)/(Re*10**3)\n",
      "re=math.floor(26*10**-3*100/Ie)/100\n",
      "zi=((Re*10**3)*re)/((Re*10**3)+re);\n",
      "zo=Rc;\n",
      "Av=Rc/(re*10**-3);\n",
      "Ai=Ie/Ie\n",
      "\n",
      "#Result\n",
      "print(\"emitter current (mA)       = %.2f\"%(Ie*1000))\n",
      "print(\"input impedence (ohm)      = %.f\"%zi)\n",
      "print(\"ouput impedence (kilo-ohm) = %.f\"%zo)\n",
      "print(\"current gain (unitless)    = %.f\"%Ai)\n",
      "print(\"voltage gain (unitless)    = %.2f\"%Av)"
     ],
     "language": "python",
     "metadata": {},
     "outputs": [
      {
       "output_type": "stream",
       "stream": "stdout",
       "text": [
        "emitter current (mA)       = 1.85\n",
        "input impedence (ohm)      = 14\n",
        "ouput impedence (kilo-ohm) = 3\n",
        "current gain (unitless)    = 1\n",
        "voltage gain (unitless)    = 213.52\n"
       ]
      }
     ],
     "prompt_number": 50
    },
    {
     "cell_type": "heading",
     "level": 2,
     "metadata": {},
     "source": [
      "Example 3.3, Page No. 223"
     ]
    },
    {
     "cell_type": "code",
     "collapsed": false,
     "input": [
      "# Collector efficiency\n",
      "\n",
      "import math\n",
      "#Vaariable declaration\n",
      "P = 8.0               # zero-signal power dissipation\n",
      "Pac = 2               # AC power output\n",
      "\n",
      "\n",
      "#Calculations\n",
      "eff = (Pac/P)*100\n",
      "\n",
      "#Result\n",
      "print(\"Collector Efficiency = %.f %%\"%eff)\n",
      "#example 3.3 is twice in the book"
     ],
     "language": "python",
     "metadata": {},
     "outputs": [
      {
       "output_type": "stream",
       "stream": "stdout",
       "text": [
        "Collector Efficiency = 25 %\n"
       ]
      }
     ],
     "prompt_number": 52
    },
    {
     "cell_type": "heading",
     "level": 2,
     "metadata": {},
     "source": [
      "Example 3.4, Page No. 227"
     ]
    },
    {
     "cell_type": "code",
     "collapsed": false,
     "input": [
      "# determine collector efficiency\n",
      "\n",
      "import math\n",
      "#Variable declaration\n",
      "Vmax=25.0               # collector emitter voltag in volts\n",
      "Vmin=2.5                # collector emitter voltag in volts\n",
      "\n",
      "#Calculations\n",
      "eta= 50*((Vmax-Vmin)/(Vmax+Vmin))\n",
      "\n",
      "#Result\n",
      "print(\"collector efficiency (%%) = %.1f\"%eta)"
     ],
     "language": "python",
     "metadata": {},
     "outputs": [
      {
       "output_type": "stream",
       "stream": "stdout",
       "text": [
        "collector efficiency (%) = 40.9\n"
       ]
      }
     ],
     "prompt_number": 53
    },
    {
     "cell_type": "heading",
     "level": 2,
     "metadata": {},
     "source": [
      "Example 3.5, Page No. 228"
     ]
    },
    {
     "cell_type": "code",
     "collapsed": false,
     "input": [
      "# determine maximum output power\n",
      "\n",
      "import math\n",
      "#Variable declaration\n",
      "Rl=80.0             # load resistance in ohm\n",
      "alfa=5.0            # turn ratio\n",
      "Ic=120.0            # collector current in milli-ampere\n",
      "\n",
      "#Calculations\n",
      "Rl1=alfa**2*Rl\n",
      "Imax=2*Ic\n",
      "Imin=0\n",
      "Irms=(1/math.sqrt(2))*((Imax-Imin)/2.0)\n",
      "Pout=((Ic*10**-3)**2*Rl1)/2;\n",
      "\n",
      "#Result\n",
      "print(\"load as seen by transformer primary (ohm) = %.f\"%Rl1)\n",
      "print(\"maximum current (mA)                      = %.f\"%Imax)\n",
      "print(\"minimum current (mA)                      = %.f\"%Imin)\n",
      "print(\"rms value of current (mA)                 = %.2f\"%Irms)\n",
      "print(\"maximum power output (W)                  = %.1f\"%Pout) "
     ],
     "language": "python",
     "metadata": {},
     "outputs": [
      {
       "output_type": "stream",
       "stream": "stdout",
       "text": [
        "load as seen by transformer primary (ohm) = 2000\n",
        "maximum current (mA)                      = 240\n",
        "minimum current (mA)                      = 0\n",
        "rms value of current (mA)                 = 84.85\n",
        "maximum power output (W)                  = 14.4\n"
       ]
      }
     ],
     "prompt_number": 54
    },
    {
     "cell_type": "heading",
     "level": 2,
     "metadata": {},
     "source": [
      "Example 3.6, Page No. 228"
     ]
    },
    {
     "cell_type": "code",
     "collapsed": false,
     "input": [
      "# (i) maximum output power (ii) maximum collector efficiency (iii) power rating of the transistor\n",
      "\n",
      "import math\n",
      "#Variable declaration\n",
      "Vcc=10.0              # collector supply voltage in volts\n",
      "Icq=200.0             # zero-signal collector current in milli-ampere\n",
      "Rl=2.0                # load resistance in ohm\n",
      "alfa=5.0              # turn ratio\n",
      "\n",
      "#Calculations\n",
      "Pout=(Vcc*(Icq*10**-3))/2\n",
      "Pin=(Vcc*(Icq*10**-3))\n",
      "eta=(Pout/Pin)*100\n",
      "P=(Vcc*(Icq*10**-3)) \n",
      "Rl1=(alfa**2)*Rl\n",
      "\n",
      "#REsult\n",
      "print(\"output power for dc (w)              = %.f\"%Pout)\n",
      "print(\"input power for ac (w)               = %.f\"%Pin)\n",
      "print(\"collector efficiency (%%)             = %.f\"%eta)\n",
      "print(\"power rating of the transistor (w)   = %.f\"%P)\n",
      "print(\"load by the tranformer primary (ohm) = %.f\"%Rl1)"
     ],
     "language": "python",
     "metadata": {},
     "outputs": [
      {
       "output_type": "stream",
       "stream": "stdout",
       "text": [
        "output power for dc (w)              = 1\n",
        "input power for ac (w)               = 2\n",
        "collector efficiency (%)             = 50\n",
        "power rating of the transistor (w)   = 2\n",
        "load by the tranformer primary (ohm) = 50\n"
       ]
      }
     ],
     "prompt_number": 17
    },
    {
     "cell_type": "heading",
     "level": 2,
     "metadata": {},
     "source": [
      "Example 3.7, Page No. 228"
     ]
    },
    {
     "cell_type": "code",
     "collapsed": false,
     "input": [
      "# Various parameter calculations\n",
      "\n",
      "import math\n",
      "#Variable declaration\n",
      "alpha=3.0\n",
      "Podc=0.434         # output ac power in watts\n",
      "Icq=140.0          # current in milli ampere\n",
      "Rl=8.0             # load resistance in killo ohms\n",
      "Vcq=10.0 \n",
      "Vcemax=18.3        # maximum collector to emitter voltage in volts\n",
      "Vcemin=2.5         # minimum collector to emitter voltage in volta\n",
      "Icmax=245.0        # maximum collector current in mili ampere\n",
      "Icmin=25.0         # minimum collector current in mili ampere\n",
      "\n",
      "#Calculations\n",
      "Vcc=Vcq\n",
      "Vlrms=(Vcemax-Vcemin)/(2*math.sqrt(2))\n",
      "VLrms=(1/alpha)*Vlrms                  #rms value of load voltage\n",
      "ILrms=(VLrms/Rl)*10**3                 #rms value of load current\n",
      "Pindc=Vcc*Icq*10**-3                   #ac power developed across the load in watts\n",
      "Pd=Pindc-Podc                          #power dissipated in watts\n",
      "n=(Podc/Pindc)*100                     #efficieny\n",
      "\n",
      "#Result\n",
      "print(\"maximum collector to emitter voltage in volts  = %.1f\"%Vcemax)\n",
      "print(\"minimum collector to emitter voltage in volts  = %.1f\"%Vcemin)\n",
      "print(\"maximum collector current in mA                = %.f\"%Icmax)\n",
      "print(\"minimum collector current in mA                = %.f\"%Icmin)\n",
      "print(\"rms value of load voltage                      = %.2f\"%VLrms)\n",
      "print(\"rms value of load current in mA                = %.1f\"%ILrms)\n",
      "print(\"ac power developed across the load in watts    = %.1f\"%Pindc)\n",
      "print(\"power dissipated in watts                      = %.3f\"%Pd)\n",
      "print(\"efficiency                                     = %.f%%\"%n)\n",
      "#Value for rms voltage and current is slightly different than book"
     ],
     "language": "python",
     "metadata": {},
     "outputs": [
      {
       "output_type": "stream",
       "stream": "stdout",
       "text": [
        "maximum collector to emitter voltage in volts  = 18.3\n",
        "minimum collector to emitter voltage in volts  = 2.5\n",
        "maximum collector current in mA                = 245\n",
        "minimum collector current in mA                = 25\n",
        "rms value of load voltage                      = 1.86\n",
        "rms value of load current in mA                = 232.8\n",
        "ac power developed across the load in watts    = 1.4\n",
        "power dissipated in watts                      = 0.966\n",
        "efficiency                                     = 31%\n"
       ]
      }
     ],
     "prompt_number": 1
    },
    {
     "cell_type": "heading",
     "level": 2,
     "metadata": {},
     "source": [
      "Example 3.8, Page No. 232"
     ]
    },
    {
     "cell_type": "code",
     "collapsed": false,
     "input": [
      "# overall efficiency\n",
      "\n",
      "import math\n",
      "#Variable declaration\n",
      "Vcc=20.0             # in volts\n",
      "Vce=2.5              # in volts\n",
      "\n",
      "#Calculatins\n",
      "eta=78.5*(1-(Vce/Vcc))\n",
      "print(\" overall efficiency = %.2f %%\"%eta)"
     ],
     "language": "python",
     "metadata": {},
     "outputs": [
      {
       "output_type": "stream",
       "stream": "stdout",
       "text": [
        " overall efficiency = 68.69 %\n"
       ]
      }
     ],
     "prompt_number": 2
    },
    {
     "cell_type": "heading",
     "level": 2,
     "metadata": {},
     "source": [
      "Example 3.9.a, Page No. 234"
     ]
    },
    {
     "cell_type": "code",
     "collapsed": false,
     "input": [
      "# the percent second harmonic distortion\n",
      "\n",
      "import math\n",
      "#Variable declaration\n",
      "V1ce=22.0           # maximum voltage in volts\n",
      "V2ce=1.2            # minimum voltage in volts\n",
      "Vceq=10.0           # in volts\n",
      "\n",
      "#Calculations\n",
      "D2=(((1.0/2)*(V1ce+V2ce)-Vceq)/(V1ce-V2ce))*100;\n",
      "\n",
      "#Result\n",
      "print(\"the percent harmonic distortion  = %.1f %%\"%D2)"
     ],
     "language": "python",
     "metadata": {},
     "outputs": [
      {
       "output_type": "stream",
       "stream": "stdout",
       "text": [
        "the percent harmonic distortion (%) = 7.7\n"
       ]
      }
     ],
     "prompt_number": 3
    },
    {
     "cell_type": "heading",
     "level": 2,
     "metadata": {},
     "source": [
      "Example 3.9.b, Page No.234"
     ]
    },
    {
     "cell_type": "code",
     "collapsed": false,
     "input": [
      "# the percent second harmonic distortion\n",
      "\n",
      "import math\n",
      "#Variable declaration\n",
      "V1ce=18.0              # maximum voltage in volts\n",
      "V2ce=2.0               # minimum voltage in volts\n",
      "Vceq=10.0              # in volts\n",
      "\n",
      "#Calculations\n",
      "D2=(((1.0/2)*(V1ce+V2ce)-Vceq)/(V1ce-V2ce))*100\n",
      "\n",
      "#Result\n",
      "print(\"the percent harmonic distortion = %.f %% i.e. no distortion\"%D2)"
     ],
     "language": "python",
     "metadata": {},
     "outputs": [
      {
       "output_type": "stream",
       "stream": "stdout",
       "text": [
        "the percent harmonic distortion = 0 % i.e. no distortion\n"
       ]
      }
     ],
     "prompt_number": 4
    },
    {
     "cell_type": "heading",
     "level": 2,
     "metadata": {},
     "source": [
      "Example 3.10, Page No. 235"
     ]
    },
    {
     "cell_type": "code",
     "collapsed": false,
     "input": [
      "# Percentage Increase in powe\n",
      "\n",
      "import math\n",
      "#Variable declaration\n",
      "#Vs=1.95*sin(400*t);in volt\n",
      "#io=12*sin400*t+1.2*sin800*t+0.9*sin*1200*t+0.4*sin1600*t\n",
      "#from current we have\n",
      "V1=12.0              #in volt\n",
      "V2=1.2               #in volt\n",
      "V3=0.9               #in volt\n",
      "V4=0.4               #in volt\n",
      "#Harmonic distortion of each component is expressed as :\n",
      "D2=V2/V1             #unitless\n",
      "D3=V3/V1             #unitless\n",
      "D4=V4/V1             #unitless\n",
      "#Total distortion \n",
      "D=math.sqrt(D2**2+D3**2+D4**2)\n",
      "PowerIncrease=D**2*100\n",
      "\n",
      "print(\"Total disortion = %.4f or %.2f%%\"%(D,D*100))\n",
      "print(\"\\nTotal Power, P=(1+D2^2)*P1\")\n",
      "print(\"\\nPercentage Increase in power because of distortion=(P-P1)*100/P1\")\n",
      "print(\"\\nPercentage Increase in power = %.3f\"%PowerIncrease)"
     ],
     "language": "python",
     "metadata": {},
     "outputs": [
      {
       "output_type": "stream",
       "stream": "stdout",
       "text": [
        "Total disortion = 0.1294 or 12.94%\n",
        "\n",
        "Total Power, P=(1+D2^2)*P1\n",
        "\n",
        "Percentage Increase in power because of distortion=(P-P1)*100/P1\n",
        "\n",
        "Percentage Increase in power = 1.674\n"
       ]
      }
     ],
     "prompt_number": 8
    },
    {
     "cell_type": "heading",
     "level": 2,
     "metadata": {},
     "source": [
      "Example 3.11.i, Page No. 242"
     ]
    },
    {
     "cell_type": "code",
     "collapsed": false,
     "input": [
      "# minimum power drain on the power supply \n",
      "\n",
      "import math\n",
      "#Variable declaration\n",
      "Pl=10.0           # power delivered to load in watt\n",
      "eta1=80.0/100     # output transformer efficiency\n",
      "eta=78.5/100      # efficiency of a class B push pull amplfier under optimum condition\n",
      "Pout=Pl/eta1\n",
      "Pin=Pout/eta\n",
      "print(\"ac power output of amplifier (W)            = %.1f\"%Pout)\n",
      "print(\"minimum power drain on the power supply (W) = %.1f\"%Pin)"
     ],
     "language": "python",
     "metadata": {},
     "outputs": [
      {
       "output_type": "stream",
       "stream": "stdout",
       "text": [
        "ac power output of amplifier (W)            = 12.5\n",
        "minimum power drain on the power supply (W) = 15.9\n"
       ]
      }
     ],
     "prompt_number": 9
    },
    {
     "cell_type": "heading",
     "level": 2,
     "metadata": {},
     "source": [
      "Example 3.11.ii, Page No.242"
     ]
    },
    {
     "cell_type": "code",
     "collapsed": false,
     "input": [
      "# minimum average power dissipation\n",
      "    \n",
      "import math\n",
      "#Variable declaration\n",
      "Pl=10              # power delivered to load in watt\n",
      "eta1=80.0/100      # output transformer efficiency\n",
      "eta=78.5/100       # efficiency of a class B push pull amplfier under optimum condition\n",
      "\n",
      "#Calcualtions\n",
      "Pout=Pl/eta1\n",
      "Pin=Pout/eta\n",
      "Pd=Pin-Pout\n",
      "Pd1=Pd/2.0\n",
      "\n",
      "#Calculations\n",
      "print(\"ac power output of amplifier (W)                                          = %.1f\"%Pout)\n",
      "print(\"minimum power drain on the power supply for dc (W)                        = %.1f\"%Pin)\n",
      "print(\"minimum average power dissipation (W)                                     = %.1f\"%Pd)\n",
      "print(\"minimum average power dissipation rating required for each transistor (W) = %.1f\"%Pd1)\n"
     ],
     "language": "python",
     "metadata": {},
     "outputs": [
      {
       "output_type": "stream",
       "stream": "stdout",
       "text": [
        "ac power output of amplifier (W)                                          = 12.5\n",
        "minimum power drain on the power supply for dc (W)                        = 15.9\n",
        "minimum average power dissipation (W)                                     = 3.4\n",
        "minimum average power dissipation rating required for each transistor (W) = 1.7\n"
       ]
      }
     ],
     "prompt_number": 11
    },
    {
     "cell_type": "heading",
     "level": 2,
     "metadata": {},
     "source": [
      "Example 3.12, Page No.243"
     ]
    },
    {
     "cell_type": "code",
     "collapsed": false,
     "input": [
      "# the percent second harmonic distortion\n",
      "\n",
      "import math\n",
      "#Variable declaration\n",
      "Vcc=50.0             # voltage in volts\n",
      "Vmin=5.0             # minimum voltage in volts\n",
      "Pd=40.0              # total power dissipation in watt\n",
      "\n",
      "#Calculations\n",
      "Icmax=Pd/(((2*Vcc)/math.pi)-((Vcc-Vmin)/2));\n",
      "Pin=(2/math.pi)*(Vcc*Icmax);\n",
      "Pout=((Icmax/2)*(Vcc-Vmin));\n",
      "eta=(Pout/Pin)*100;\n",
      "\n",
      "#Result\n",
      "print(\"maximum collector current (A) = %.3f\"%Icmax)\n",
      "print(\"total power input (W)         = %.2f\"%Pin)\n",
      "print(\"ac power output (W)           = %.2f\"%Pout)\n",
      "print(\"conversion efficiency (%%)     = %.2f\"%eta)\n",
      "#Answer for AC power output and efficiency is wrong in the book"
     ],
     "language": "python",
     "metadata": {},
     "outputs": [
      {
       "output_type": "stream",
       "stream": "stdout",
       "text": [
        "maximum collector current (A) = 4.287\n",
        "total power input (W)         = 136.45\n",
        "ac power output (W)           = 96.45\n",
        "conversion efficiency (%)     = 70.69\n"
       ]
      }
     ],
     "prompt_number": 18
    }
   ],
   "metadata": {}
  }
 ]
}