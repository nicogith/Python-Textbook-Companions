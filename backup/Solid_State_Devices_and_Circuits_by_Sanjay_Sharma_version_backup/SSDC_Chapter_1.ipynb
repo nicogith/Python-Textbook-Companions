{
 "metadata": {
  "name": ""
 },
 "nbformat": 3,
 "nbformat_minor": 0,
 "worksheets": [
  {
   "cells": [
    {
     "cell_type": "heading",
     "level": 1,
     "metadata": {},
     "source": [
      "Chapter 1: Special Diodes"
     ]
    },
    {
     "cell_type": "heading",
     "level": 2,
     "metadata": {},
     "source": [
      "Example 1.1, Page No. 6"
     ]
    },
    {
     "cell_type": "code",
     "collapsed": false,
     "input": [
      "# resistance\n",
      "\n",
      "import math\n",
      "#Variable declaration\n",
      "Iz=10*10**-3              # reverse current in ampere\n",
      "Vz=0.05                   # zener voltage in volts\n",
      "\n",
      "#Calculations\n",
      "Rz=Vz/Iz                  # resistance in ohm\n",
      "\n",
      "\n",
      "#Result\n",
      "print(\"resistance (ohm) = %.f \"%Rz);"
     ],
     "language": "python",
     "metadata": {},
     "outputs": [
      {
       "output_type": "stream",
       "stream": "stdout",
       "text": [
        "resistance (ohm) = 5 \n"
       ]
      }
     ],
     "prompt_number": 2
    },
    {
     "cell_type": "heading",
     "level": 2,
     "metadata": {},
     "source": [
      "Example 1.2, Page No. 6"
     ]
    },
    {
     "cell_type": "code",
     "collapsed": false,
     "input": [
      "# terminal voltage \n",
      "\n",
      "import math\n",
      "#Variable declaration\n",
      "v=4.7                 # in volts\n",
      "r=15                  # in ohm\n",
      "i=20*10**-3           # in ampere\n",
      "\n",
      "#Calculations\n",
      "Vz=(v+(i*r))          # terminal voltage in volts\n",
      "\n",
      "#Result\n",
      "print(\"terminal voltage  =  %.f V\"%Vz)"
     ],
     "language": "python",
     "metadata": {},
     "outputs": [
      {
       "output_type": "stream",
       "stream": "stdout",
       "text": [
        "terminal voltage  =  5 V\n"
       ]
      }
     ],
     "prompt_number": 1
    },
    {
     "cell_type": "heading",
     "level": 2,
     "metadata": {},
     "source": [
      "Example 1.3, Page No.14"
     ]
    },
    {
     "cell_type": "code",
     "collapsed": false,
     "input": [
      "# tuning range of the circuit\n",
      "\n",
      "import math\n",
      "#Variable declaration\n",
      "C1=5.0*10**-12              # minimum capacitance in  farad\n",
      "C2=50.0*10**-12             # maximum capacitance in  farad\n",
      "L=10.0*10**-3               # in henry\n",
      "\n",
      "#Calculations\n",
      "CTmin= (C1/2)             # minimum total capacitance of varactor diode\n",
      "p= (math.sqrt(L*CTmin))   # calculating square root\n",
      "q= (2*math.pi*p)\n",
      "fomax= (1/q)              # maximum resonant frequency\n",
      "CTmax= ((C2*C2)/(C2+C2))  # maximum total capacitance of varactor diode\n",
      "r= (math.sqrt(L*CTmax))   # calculating square root\n",
      "s= (2*math.pi*r)\n",
      "fomin= (1/s)              # minimum resonant frequency\n",
      "\n",
      "#Result\n",
      "print(\"maximum resonant frequency = %.f MHz\"%(fomax/10**6))\n",
      "print(\"minimum resonant frequency = %.f kHz\"%(fomin/1000))"
     ],
     "language": "python",
     "metadata": {},
     "outputs": [
      {
       "output_type": "stream",
       "stream": "stdout",
       "text": [
        "maximum resonant frequency = 1 MHz\n",
        "minimum resonant frequency = 318 kHz\n"
       ]
      }
     ],
     "prompt_number": 6
    },
    {
     "cell_type": "heading",
     "level": 2,
     "metadata": {},
     "source": [
      "Example 1.4, Page No.24"
     ]
    },
    {
     "cell_type": "code",
     "collapsed": false,
     "input": [
      "# standard resistor\n",
      "\n",
      "import math\n",
      "#Variable declaration\n",
      "vf=1.8          # in volts\n",
      "If=16*10**-3    # in ampere\n",
      "vo=8            # in volts\n",
      "\n",
      "#Calculations\n",
      "rs=(vo-vf)/If   # resistor in ohm\n",
      "\n",
      "#Result\n",
      "print(\"standard resistor (ohm) = %.1f\"%rs)"
     ],
     "language": "python",
     "metadata": {},
     "outputs": [
      {
       "output_type": "stream",
       "stream": "stdout",
       "text": [
        "standard resistor (ohm) = 387.5\n"
       ]
      }
     ],
     "prompt_number": 9
    },
    {
     "cell_type": "heading",
     "level": 2,
     "metadata": {},
     "source": [
      "Example 1.5, Page No. 24"
     ]
    },
    {
     "cell_type": "code",
     "collapsed": false,
     "input": [
      "# min and max value of led current\n",
      "\n",
      "import math\n",
      "#Variable declaration\n",
      "v1=1.5         # in volts\n",
      "v2=2.3         # in volts\n",
      "vs=10.0        # in volts\n",
      "r1=470.0       # in ohm\n",
      "\n",
      "#Calculations\n",
      "I1=(vs-v1)/r1  # in ampere\n",
      "I2=(vs-v2)/r1  # in ampere\n",
      "\n",
      "#Result\n",
      "print(\"maximum current = %.1f mA\"%(I1*10**3))\n",
      "print(\"minimum current = %.1f mA\"%(I2*10**3))"
     ],
     "language": "python",
     "metadata": {},
     "outputs": [
      {
       "output_type": "stream",
       "stream": "stdout",
       "text": [
        "maximum current = 18.1 mA\n",
        "minimum current = 16.4 mA\n"
       ]
      }
     ],
     "prompt_number": 9
    },
    {
     "cell_type": "heading",
     "level": 2,
     "metadata": {},
     "source": [
      "Example 1.6, Page No. 24"
     ]
    },
    {
     "cell_type": "code",
     "collapsed": false,
     "input": [
      "# which supply voltage will keep brighness of diode constant\n",
      "\n",
      "import math\n",
      "#Variable declaration\n",
      "v1=1.8             # in volts\n",
      "v2=3.0             # in volts\n",
      "vs=24.0            # in volts\n",
      "rs=820.0           # in ohms\n",
      "vs1=5.0            # in volts\n",
      "rs1=120.0          # in ohms\n",
      "r1=470.0           # in ohmI1=(vs-v1)/r1; // in ampere\n",
      "\n",
      "#Calcualtions\n",
      "# case1\n",
      "Imin=((vs-v2)/rs)\n",
      "Imax=((vs-v1)/rs)\n",
      "# case2\n",
      "Imin1=((vs1-v2)/rs1)\n",
      "Imax1=((vs1-v1)/rs1)\n",
      "\n",
      "#Result\n",
      "print(\"maximum current in ampere in case1 = %.1f mA\"%(Imax*10**3))\n",
      "print(\"minimum current in ampere in case1 = %.1f mA\"%(Imin*10**3))\n",
      "print(\"maximum current in ampere in case2 = %.1f mA\"%(Imax1*10**3))\n",
      "print(\"minimum current in ampere in case2 = %.1f mA\"%(Imin1*10**3))\n",
      "print(\"\\nBrightness in the first case will remain constant\")\n",
      "print(\"where as in second case it will be changing,\")\n",
      "print(\"Therefore, in order to get an approximately constant\")\n",
      "print(\"brighntness we use as large a supply voltage as possible.\")"
     ],
     "language": "python",
     "metadata": {},
     "outputs": [
      {
       "output_type": "stream",
       "stream": "stdout",
       "text": [
        "maximum current in ampere in case1 = 27.1 mA\n",
        "minimum current in ampere in case1 = 25.6 mA\n",
        "maximum current in ampere in case2 = 26.7 mA\n",
        "minimum current in ampere in case2 = 16.7 mA\n",
        "\n",
        "Brightness in the first case will remain constant\n",
        "where as in second case it will be changing,\n",
        "Therefore, in order to get an approximately constant\n",
        "brighntness we use as large a supply voltage as possible.\n"
       ]
      }
     ],
     "prompt_number": 13
    },
    {
     "cell_type": "heading",
     "level": 2,
     "metadata": {},
     "source": [
      "Example 1.7.a, Page No. 33"
     ]
    },
    {
     "cell_type": "code",
     "collapsed": false,
     "input": [
      "# photocurrent\n",
      "\n",
      "import math\n",
      "#Variable declaration\n",
      "r=0.85               # reponsivity of a photodiode in apmere per watt\n",
      "p1=1.0               # incident light power in milli watt\n",
      "\n",
      "#Calculations\n",
      "Ip=r*p1\n",
      "\n",
      "#Result\n",
      "print(\"photocurrent  = %.2f mA\"%Ip)"
     ],
     "language": "python",
     "metadata": {},
     "outputs": [
      {
       "output_type": "stream",
       "stream": "stdout",
       "text": [
        "photocurrent  = 0.85 mA\n"
       ]
      }
     ],
     "prompt_number": 14
    },
    {
     "cell_type": "heading",
     "level": 2,
     "metadata": {},
     "source": [
      "Example 1.7.b, Page No. 33"
     ]
    },
    {
     "cell_type": "code",
     "collapsed": false,
     "input": [
      "# photocurrent\n",
      "\n",
      "import math\n",
      "#Variable declaration\n",
      "r=0.85               # reponsivity of a photodiode in apmere per watt\n",
      "p1=2.0               # incident light power in milli watt\n",
      "\n",
      "#Result\n",
      "print(\"Given input power saturation is 1.5mw so Ip is not proportional to Pop\")\n",
      "print(\"hence we cannot find the value of photocurrent\")"
     ],
     "language": "python",
     "metadata": {},
     "outputs": [
      {
       "output_type": "stream",
       "stream": "stdout",
       "text": [
        "Given input power saturation is 1.5mw so Ip is not proportional to Pop\n",
        "hence we cannot find the value of photocurrent\n"
       ]
      }
     ],
     "prompt_number": 20
    },
    {
     "cell_type": "heading",
     "level": 2,
     "metadata": {},
     "source": [
      "Example 1.8, Page No. 34"
     ]
    },
    {
     "cell_type": "code",
     "collapsed": false,
     "input": [
      "# quantum efficiency\n",
      "\n",
      "import math\n",
      "#Variable declaration\n",
      "EHP=5.4*10**6\n",
      "photons=6*10**6 \n",
      "\n",
      "#Calcualtions\n",
      "n=EHP/photons\n",
      "\n",
      "#Result\n",
      "print(\"Quantum efficiency = %.1f\"%n)"
     ],
     "language": "python",
     "metadata": {},
     "outputs": [
      {
       "output_type": "stream",
       "stream": "stdout",
       "text": [
        "Quantum efficiency = 0.9\n"
       ]
      }
     ],
     "prompt_number": 15
    },
    {
     "cell_type": "heading",
     "level": 2,
     "metadata": {},
     "source": [
      "Example 1.9, Page No. 34"
     ]
    },
    {
     "cell_type": "code",
     "collapsed": false,
     "input": [
      "# Responsivity\n",
      "\n",
      "import math\n",
      "#Variable declaration\n",
      "h=6.62*10**-34          # planc's constant\n",
      "c=3*10**8               # speed of light in vaccum\n",
      "e=0.70                  # efficiency \n",
      "Eg=0.75*1.6*10**-19     # Energy gap in volts\n",
      "\n",
      "#Calculations\n",
      "w=((h*c)/Eg)            # wavelength in meters (This answer is wrong in the book)\n",
      "w = 1664*10**-9         # value used in book \n",
      "R=((e/1248.0)*w)        # in ampere per watt\n",
      "\n",
      "#Result\n",
      "print(\"Responsivity = %.3f * 10^-10 AW^-1\"%(R*10**10))"
     ],
     "language": "python",
     "metadata": {},
     "outputs": [
      {
       "output_type": "stream",
       "stream": "stdout",
       "text": [
        "Responsivity = 9.333 * 10^-10 AW^-1\n"
       ]
      }
     ],
     "prompt_number": 1
    }
   ],
   "metadata": {}
  }
 ]
}