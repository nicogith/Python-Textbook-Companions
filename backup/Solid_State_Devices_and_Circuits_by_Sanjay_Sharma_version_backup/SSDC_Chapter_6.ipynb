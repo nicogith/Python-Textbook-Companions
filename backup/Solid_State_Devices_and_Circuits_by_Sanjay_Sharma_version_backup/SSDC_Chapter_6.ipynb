{
 "metadata": {
  "name": ""
 },
 "nbformat": 3,
 "nbformat_minor": 0,
 "worksheets": [
  {
   "cells": [
    {
     "cell_type": "heading",
     "level": 1,
     "metadata": {},
     "source": [
      "Chapter 6 : Feedback"
     ]
    },
    {
     "cell_type": "heading",
     "level": 2,
     "metadata": {},
     "source": [
      "Example 6.1, Page No. 409 "
     ]
    },
    {
     "cell_type": "code",
     "collapsed": false,
     "input": [
      "# Gain\n",
      "\n",
      "import math\n",
      "#Variable declaration\n",
      "a=60.0                     # OPEN LOOP VOLTAGE GAIN IN dB\n",
      "A= 10**(a/20)              # open voltage gain\n",
      "Beta= (1.0/20)             # feedback ratio\n",
      "\n",
      "#Calculations\n",
      "Af= (A/(1+(Beta*A)))       # GAIN WITH FEEDBACL\n",
      "AfdB= 20*(math.log10(Af))  # gain with feedback in dB\n",
      "\n",
      "\n",
      "#Result\n",
      "print(\"Gain with feedback is %.2f dB\"%AfdB)"
     ],
     "language": "python",
     "metadata": {},
     "outputs": [
      {
       "output_type": "stream",
       "stream": "stdout",
       "text": [
        "Gain with feedback is 25.85 dB\n"
       ]
      }
     ],
     "prompt_number": 1
    },
    {
     "cell_type": "heading",
     "level": 2,
     "metadata": {},
     "source": [
      "Example 6.2, Page No.409 "
     ]
    },
    {
     "cell_type": "code",
     "collapsed": false,
     "input": [
      "#  feedback factor\n",
      "\n",
      "import math\n",
      "#Variable declaration\n",
      "a=60.0             # OPEN LOOP VOLTAGE GAIN IN dB\n",
      "A= 10**(a/20)      # open voltage gain\n",
      "AfdB=40.0          # gain with feedback in dB\n",
      "\n",
      "#Calculations\n",
      "Af= 10**(AfdB/20)  # GAIN WITH FEEDBACK\n",
      "BetaA= (A/Af)-1    # feedback factor\n",
      "\n",
      "#Result\n",
      "print(\"feedback factor is %.f\"%BetaA)"
     ],
     "language": "python",
     "metadata": {},
     "outputs": [
      {
       "output_type": "stream",
       "stream": "stdout",
       "text": [
        "feedback factor is 9\n"
       ]
      }
     ],
     "prompt_number": 3
    },
    {
     "cell_type": "heading",
     "level": 2,
     "metadata": {},
     "source": [
      "Example 6.3, Page No.409     "
     ]
    },
    {
     "cell_type": "code",
     "collapsed": false,
     "input": [
      "# feedback output\n",
      "\n",
      "import math\n",
      "#Variable declaration\n",
      "A= 600.0           # open voltage gain\n",
      "Af=50.0\n",
      "\n",
      "#Calculations\n",
      "Beta=( (A/Af)-1)/A # feedback ratio\n",
      "fop= (Beta*100)    # percentage of output voltage which is fedback to the input is \n",
      "\n",
      "#Result\n",
      "print(\"Percentage of output voltage which is fedback to the input is %.3f%%\"%fop)"
     ],
     "language": "python",
     "metadata": {},
     "outputs": [
      {
       "output_type": "stream",
       "stream": "stdout",
       "text": [
        "Percentage of output voltage which is fedback to the input is 1.833%\n"
       ]
      }
     ],
     "prompt_number": 3
    },
    {
     "cell_type": "heading",
     "level": 2,
     "metadata": {},
     "source": [
      "Example 6.4, Page No. 410 "
     ]
    },
    {
     "cell_type": "code",
     "collapsed": false,
     "input": [
      "# feedback ratio\n",
      "\n",
      "import math\n",
      "#Variable declaration\n",
      "Vo= 5.0              # output voltage\n",
      "Vin=0.1              # input voltage without feedback\n",
      "Vin1=0.2             # input voltage with feedback\n",
      "\n",
      "#Calculations\n",
      "A= Vo/Vin            # Gain without feedback\n",
      "Af= Vo/Vin1          # Gain with feedback\n",
      "Beta=( (A/Af)-1)/A   # feedback ratio \n",
      "\n",
      "#Result\n",
      "print(\"feedback ratio = %.2f\"%Beta)"
     ],
     "language": "python",
     "metadata": {},
     "outputs": [
      {
       "output_type": "stream",
       "stream": "stdout",
       "text": [
        "feedback ratio = 0.02\n"
       ]
      }
     ],
     "prompt_number": 4
    },
    {
     "cell_type": "heading",
     "level": 2,
     "metadata": {},
     "source": [
      "Example 6.5, Page No.410 "
     ]
    },
    {
     "cell_type": "code",
     "collapsed": false,
     "input": [
      "# Change in gain\n",
      "\n",
      "import math\n",
      "#Variable declaration\n",
      "A= 1000.0               # open loop voltage gain\n",
      "Beta= 0.002             # feedback ratio\n",
      "\n",
      "#Calculations\n",
      "Af= (A/(1+(Beta*A)))    # GAIN WITH FEEDBACL\n",
      "A1= (1-0.15)*A          # new open loop voltage gain\n",
      "Af1= (A1/(1+(Beta*A1))) # GAIN WITH FEEDBACL\n",
      "dA=((Af-Af1)/Af)*100    # Change in overall gain in percentage \n",
      "\n",
      "#Result\n",
      "print(\"Change in overall gain is %.1f%%\"%dA)"
     ],
     "language": "python",
     "metadata": {},
     "outputs": [
      {
       "output_type": "stream",
       "stream": "stdout",
       "text": [
        "Change in overall gain is 5.6%\n"
       ]
      }
     ],
     "prompt_number": 6
    },
    {
     "cell_type": "heading",
     "level": 2,
     "metadata": {},
     "source": [
      "Example 6.6, Page No. 414 "
     ]
    },
    {
     "cell_type": "code",
     "collapsed": false,
     "input": [
      "# open loop voltage gain\n",
      "\n",
      "import math\n",
      "#Variable declaration\n",
      "Af= 100.0             # GAIN WITH FEEDBACK\n",
      "dAf=1.0/100           # OPEN LOOP VOLTAGE GAIN \n",
      "dA= 10.0/100          # open voltage gain\n",
      "\n",
      "#Calculations\n",
      "BetaA=(dA/dAf)-1      # feedback factor\n",
      "A=Af*(1+BetaA)        # open loop voltage gain\n",
      "\n",
      "#Result\n",
      "print(\"open loop voltage gain is %.f\"%A)"
     ],
     "language": "python",
     "metadata": {},
     "outputs": [
      {
       "output_type": "stream",
       "stream": "stdout",
       "text": [
        "open loop voltage gain is 1000\n"
       ]
      }
     ],
     "prompt_number": 10
    },
    {
     "cell_type": "heading",
     "level": 2,
     "metadata": {},
     "source": [
      "Example 6.7, Page No.415  "
     ]
    },
    {
     "cell_type": "code",
     "collapsed": false,
     "input": [
      "# open loop voltage gain & negaive feedback\n",
      "\n",
      "import math\n",
      "#Variable declaration\n",
      "Af= 100.0            # GAIN WITH FEEDBACK\n",
      "dAf=0.1/100          # OPEN LOOP VOLTAGE GAIN \n",
      "dA= 10.0/100         # open voltage gain\n",
      "\n",
      "#Calculations\n",
      "BetaA=(dA/dAf)-1     # feedback factor\n",
      "A=Af*(1+BetaA)       # open loop voltage gain\n",
      "NF= Af/A             # amount of negative feedback\n",
      "\n",
      "#Result\n",
      "print(\"open loop voltage gain is %.f\"%A)\n",
      "print(\"amount of negative feedback is %.2f\"%NF)\n"
     ],
     "language": "python",
     "metadata": {},
     "outputs": [
      {
       "output_type": "stream",
       "stream": "stdout",
       "text": [
        "open loop voltage gain is 10000\n",
        "amount of negative feedback is 0.01\n"
       ]
      }
     ],
     "prompt_number": 12
    },
    {
     "cell_type": "heading",
     "level": 2,
     "metadata": {},
     "source": [
      "Example 6.8, Page No. 416"
     ]
    },
    {
     "cell_type": "code",
     "collapsed": false,
     "input": [
      "# GAIN,INPUT VOLTAGE AND OUTPUT VOLTAGE\n",
      "\n",
      "import math\n",
      "#Variable declaration\n",
      "Vs=10.0                # output voltage in milli volts\n",
      "Vi= 0.01               # input voltage in volts\n",
      "A=200.0                # amplifier gain without feedback\n",
      "D=0.1                  # distortion without feedback\n",
      "Df=0.01                # distortion with feedback\n",
      "\n",
      "#Calculations\n",
      "Beta=( (D/Df)-1)/A     # feedback ratio\n",
      "fop= (Beta*100)        # percentage of output voltage which is fedback to the input is \n",
      "Af= (A/(1+(Beta*A)))   # GAIN WITH FEEDBACL\n",
      "Vo= Af*Vs*10**-3       # new output volate in volts\n",
      "Vin= (Vi +(-Beta*Vo))*10**3\n",
      "\n",
      "#Resut\n",
      "print(\"gain with feedback = %.f\"%Af)\n",
      "print(\"new output volate  = %.1f V\"%Vo)\n",
      "print(\"new input voltage  = %.f mV\"%Vin)\n"
     ],
     "language": "python",
     "metadata": {},
     "outputs": [
      {
       "output_type": "stream",
       "stream": "stdout",
       "text": [
        "gain with feedback = 20\n",
        "new output volate  = 0.2 V\n",
        "new input voltage  = 1 mV\n"
       ]
      }
     ],
     "prompt_number": 14
    },
    {
     "cell_type": "heading",
     "level": 2,
     "metadata": {},
     "source": [
      "Example 6.9, Page No.417  "
     ]
    },
    {
     "cell_type": "code",
     "collapsed": false,
     "input": [
      "# INPUT VOLTAGE ,distortion AND close loop gain\n",
      "\n",
      "import math\n",
      "#Variable declaration\n",
      "Vs=10.0                 # output voltage in milli volts\n",
      "A=1000.0                # amplifier gain without feedback\n",
      "D=0.1                   # distortion without feedback\n",
      "BetaAd=40.0             # FEEDBACK FACTOR IN dB\n",
      "\n",
      "#Calculations\n",
      "BetaA=10**(BetaAd/20)   # feedback ratio\n",
      "Df= ((D/(1+BetaA)))*100 # distortion in percentage with feedbck\n",
      "Af= (A/(1+(BetaA)))     # GAIN WITH FEEDBACL\n",
      "Vo= Vs*(1+BetaA)*10**-3 # new output volate in volts\n",
      "\n",
      "#Result\n",
      "print(\"input signal voltage  = %.2f V\"%Vo)\n",
      "print(\"Percentage second harmonic distortion will be %.1f%%\"%Df)\n",
      "print(\"Closed loop voltage gain will be %.1f\"%Af)"
     ],
     "language": "python",
     "metadata": {},
     "outputs": [
      {
       "output_type": "stream",
       "stream": "stdout",
       "text": [
        "input signal voltage  = 1.01 V\n",
        "Percentage second harmonic distortion will be 0.1%\n",
        "Closed loop voltage gain will be 9.9\n"
       ]
      }
     ],
     "prompt_number": 9
    },
    {
     "cell_type": "heading",
     "level": 2,
     "metadata": {},
     "source": [
      "Example 6.10, Page No. 419"
     ]
    },
    {
     "cell_type": "code",
     "collapsed": false,
     "input": [
      "# input & output impedance\n",
      "\n",
      "import math\n",
      "#Variable declaration\n",
      "A= 10000.0                 # open voltage gain\n",
      "Beta=0.02                  # feedback ratio\n",
      "Zi=1.0                     # input impedance without feedback in kiilo ohms\n",
      "Zo=10.0                    # output impedance without feedback in kiilo ohms\n",
      "\n",
      "\n",
      "#calculaltions\n",
      "Zif= (1+A*Beta)*Zi         # input impedance with feedback in kiilo ohms\n",
      "Zof=(Zo/(1+Beta*A))*10**3  # output impedance with feedback in  ohms\n",
      "\n",
      "#Result\n",
      "print(\"input impedance with feedback  = %.f k-ohm\"%Zif)\n",
      "print(\"output impedance with feedback = %.2f ohm\"%Zof)"
     ],
     "language": "python",
     "metadata": {},
     "outputs": [
      {
       "output_type": "stream",
       "stream": "stdout",
       "text": [
        "input impedance with feedback  = 201 k-ohm\n",
        "output impedance with feedback = 49.75 ohm\n"
       ]
      }
     ],
     "prompt_number": 10
    },
    {
     "cell_type": "heading",
     "level": 2,
     "metadata": {},
     "source": [
      "Example 6.11, Page No. 419"
     ]
    },
    {
     "cell_type": "code",
     "collapsed": false,
     "input": [
      "# feedback factor and Change in gain\n",
      "\n",
      "import math\n",
      "#Variable declaration\n",
      "Zi=1.0                  # input impedance without feedback in kiilo ohms\n",
      "Zo=10.0                 # output impedance without feedback in kiilo ohms\n",
      "Zof=1.0                 # output impedance with feedback in killo ohms\n",
      "A= 1000.0               # open loop voltage gain\n",
      "Af=100.0                # FEEDBACK\n",
      "\n",
      "\n",
      "#Calculations\n",
      "Beta=( (Zo/Zof)-1)/A    # feedback ratio\n",
      "BetaA= Beta*A           # feedback factor\n",
      "A1= (1-0.1)*A           # new open loop voltage gain\n",
      "Af1= (A1/(1+(Beta*A1))) # GAIN WITH FEEDBACL\n",
      "dA=((Af-Af1)/Af)*100    # Change in overall gain in percentage \n",
      "\n",
      "\n",
      "#Result\n",
      "print(\"feedback factor is %.f\"%BetaA)\n",
      "print(\"Change in overall gain in percentage is %.1f%%\"%dA)"
     ],
     "language": "python",
     "metadata": {},
     "outputs": [
      {
       "output_type": "stream",
       "stream": "stdout",
       "text": [
        "feedback factor is 9\n",
        "Change in overall gain in percentage is 1.1%\n"
       ]
      }
     ],
     "prompt_number": 12
    },
    {
     "cell_type": "heading",
     "level": 2,
     "metadata": {},
     "source": [
      "Example 6.12, Page No.421 "
     ]
    },
    {
     "cell_type": "code",
     "collapsed": false,
     "input": [
      "# Avf,Fhf,Flf\n",
      "\n",
      "import math\n",
      "#Variable declaration\n",
      "Fh=20.0                  # upper cutoff frequency in killo hertz without feedback\n",
      "Fl=30.0                  # upper cutoff frequency in hertz without feedback\n",
      "Av= 50000.0              #  open loop voltage gain\n",
      "Beta=5*10**-5            # feedback ratio\n",
      "\n",
      "#calaculations\n",
      "Avf= (Av/(1+(Beta*Av)))  # GAIN WITH FEEDBACL\n",
      "Fhf=Fh*(1+Av*Beta)       # uppor cutoff frequency with feedback in killo hertz\n",
      "Flf=Fl/(1+Av*Beta)       # lower cutoff frequency with feedback in hertz\n",
      "\n",
      "#Result\n",
      "print(\"Voltsge gain with feedback is %.1f\"%Avf)\n",
      "print(\"uppor cutoff frequency with feedback = %.f kHz\"%Fhf)\n",
      "print(\"lower cutoff frequency with feedback = %.2f Hz\"%Flf)"
     ],
     "language": "python",
     "metadata": {},
     "outputs": [
      {
       "output_type": "stream",
       "stream": "stdout",
       "text": [
        "Voltsge gain with feedback is 14285.7\n",
        "uppor cutoff frequency with feedback = 70 kHz\n",
        "lower cutoff frequency with feedback = 8.57 Hz\n"
       ]
      }
     ],
     "prompt_number": 14
    },
    {
     "cell_type": "heading",
     "level": 2,
     "metadata": {},
     "source": [
      "Example 6.13, Page No. 422"
     ]
    },
    {
     "cell_type": "code",
     "collapsed": false,
     "input": [
      "# feedback factor and bandwidth\n",
      "\n",
      "import math\n",
      "#Variable declaration\n",
      "B=4.0               # bandwidth in mega hertz without feedback\n",
      "Av= 1500.0          # open loop voltage gain\n",
      "Avf= 150.0          # GAIN WITH FEEDBACk\n",
      "\n",
      "#Calculations\n",
      "AvB= ((Av/Avf)-1)   # feedback factor\n",
      "BWf=(1+AvB)*B       # bandwidth in mega hertz with feedback\n",
      "\n",
      "\n",
      "#Result\n",
      "print(\"feedback factor is %.f\"%AvB)\n",
      "print(\"bandwidth with feedback is %.f MHz\"%BWf)"
     ],
     "language": "python",
     "metadata": {},
     "outputs": [
      {
       "output_type": "stream",
       "stream": "stdout",
       "text": [
        "feedback factor is 9\n",
        "bandwidth with feedback is 40 MHz\n"
       ]
      }
     ],
     "prompt_number": 24
    },
    {
     "cell_type": "heading",
     "level": 2,
     "metadata": {},
     "source": [
      "Example 6.14, Page No. 424"
     ]
    },
    {
     "cell_type": "code",
     "collapsed": false,
     "input": [
      "# voltage gain ,input & output resistance\n",
      "\n",
      "import math\n",
      "#Variable declaration\n",
      "A= 500.0           # open voltage gain\n",
      "Beta=0.01          # feedback ratio\n",
      "Ri=3.0             # input resistance without feedback in kiilo ohms\n",
      "Ro=20.0            # output resistance without feedback in kiilo ohms\n",
      "\n",
      "\n",
      "#Calculations\n",
      "Af=(A/(1+A*Beta))  # Voltage gain is\n",
      "Rif= (1+A*Beta)*Ri # input RESISTANCE with feedback in kiilo ohms\n",
      "Rof=(Ro/(1+Beta*A))# output resistance with feedback in killo ohms\n",
      "\n",
      "#Result\n",
      "print(\"Voltage gain is %.2f\"%Af)\n",
      "print(\"input resistance with feedback  = %.f k-ohm\"%Rif)\n",
      "print(\"output resistance with feedback = %.2f k-ohm\"%Rof)\n"
     ],
     "language": "python",
     "metadata": {},
     "outputs": [
      {
       "output_type": "stream",
       "stream": "stdout",
       "text": [
        "Voltage gain is 83.33\n",
        "input resistance with feedback  = 18 k-ohm\n",
        "output resistance with feedback = 3.33 k-ohm\n"
       ]
      }
     ],
     "prompt_number": 16
    },
    {
     "cell_type": "heading",
     "level": 2,
     "metadata": {},
     "source": [
      "Example 6.15, Page No. 428"
     ]
    },
    {
     "cell_type": "code",
     "collapsed": false,
     "input": [
      "# INPUT IMPEDANCE\n",
      "\n",
      "import math\n",
      "#Variable declaration\n",
      "Beta=100.0                  #  gain\n",
      "Rl=18.6                     # load resistance in killo ohms\n",
      "Re=9.3                      # emitter resistance in killo ohms\n",
      "Vbe=0.7 \n",
      "Vcc=10.0                    # collector voltage in volts\n",
      "R1=10.0                     # resistance in killo ohms\n",
      "R2=10.0                     # resistance in killo ohms\n",
      "\n",
      "#Calculations\n",
      "V2= Vcc*(R2/(R1+R2))        # voltage at resistor R2 \n",
      "Ve=V2-Vbe                   # volate at emitter\n",
      "Ie=Ve/Re                    # Emitter current in milli ampere\n",
      "re=(25/Ie)                  # AC emitter resistance\n",
      "Re=(Rl*Re)/(Rl+Re)          # effective emitter resistance in killo ohms\n",
      "Zib=Beta*(Re*10**3+re)*10**-3\n",
      "x=(R1*R2)/(R1+R2)           # resistance in killo ohms\n",
      "Zi=(Zib*x)/(Zib+x)          # input impedance of the emitter follower in killo ohms\n",
      "\n",
      "#Result\n",
      "print(\"input impedance of the emitter follower  = %.2f k-ohm\"%Zi)"
     ],
     "language": "python",
     "metadata": {},
     "outputs": [
      {
       "output_type": "stream",
       "stream": "stdout",
       "text": [
        "input impedance of the emitter follower  = 4.96 k-ohm\n"
       ]
      }
     ],
     "prompt_number": 17
    },
    {
     "cell_type": "heading",
     "level": 2,
     "metadata": {},
     "source": [
      "Example 6.16, Page No. 429"
     ]
    },
    {
     "cell_type": "code",
     "collapsed": false,
     "input": [
      "# gain\n",
      "\n",
      "import math\n",
      "#Variable declaration\n",
      "gm=4000.0                # gain in micro second\n",
      "Ro=10.0                  # output resistance in killo ohms\n",
      "Rd=10.0                  # resistance in killo ohms\n",
      "R1=80.0                  # resistance in killo ohms\n",
      "R2=20.0                  # resistance in killo ohms\n",
      "\n",
      "#Calculations\n",
      "Rl=(Ro*Rd)/(Ro+Rd)       # load resistance in killo ohms\n",
      "A= -(gm*10**-6*Rl*10**3) # gain without feedback\n",
      "Beta= -(R2/(R1+R2))      # feedback factor\n",
      "Af=(A/(1+A*Beta))        # gain with feedback\n",
      "\n",
      "#Result\n",
      "print(\"gain without feedback is %.f\"%A)\n",
      "print(\"gain with feedback is %.f\"%Af)\n"
     ],
     "language": "python",
     "metadata": {},
     "outputs": [
      {
       "output_type": "stream",
       "stream": "stdout",
       "text": [
        "gain without feedback is -20\n",
        "gain with feedback is -4\n"
       ]
      }
     ],
     "prompt_number": 31
    },
    {
     "cell_type": "heading",
     "level": 2,
     "metadata": {},
     "source": [
      "Example 6.17, Page No. 430"
     ]
    },
    {
     "cell_type": "code",
     "collapsed": false,
     "input": [
      "# gain\n",
      "\n",
      "import math\n",
      "#Variable declaration\n",
      "R1=1.8             # resistance in killo ohms\n",
      "R2=0.2             # resistance in killo ohms\n",
      "A=100000.0         # gain without feedback\n",
      "\n",
      "#Calculations\n",
      "Beta= (R2/(R1+R2)) # feedback factor\n",
      "Af1=(A/(1+A*Beta)) # gain with feedback\n",
      "Af=(1/Beta)        # AS A*Beta>>1\n",
      "\n",
      "#Result\n",
      "print(\"gain with feedback AS A*Beta>>1 is %.f\"%Af)"
     ],
     "language": "python",
     "metadata": {},
     "outputs": [
      {
       "output_type": "stream",
       "stream": "stdout",
       "text": [
        "gain with feedback AS A*Beta>>1 is 10\n"
       ]
      }
     ],
     "prompt_number": 34
    },
    {
     "cell_type": "heading",
     "level": 2,
     "metadata": {},
     "source": [
      "Example 6.18, Page No. 431"
     ]
    },
    {
     "cell_type": "code",
     "collapsed": false,
     "input": [
      "# Av,Rif,Avf,Rof\n",
      "\n",
      "import math\n",
      "#Variable declaration\n",
      "Rs=600.0                # Internal resistance in ohms\n",
      "Rl=2.0                  # Load resistance in killo ohms'\n",
      "Rb=40.0                 # base resistance in killo ohms\n",
      "# H-paramters are\n",
      "hie=5.0                 # in killo ohms\n",
      "hre=80.0\n",
      "hfe=80.0\n",
      "\n",
      "#Calculations\n",
      "RL1=(Rb*Rl)/(Rb+Rl)     \n",
      "Av=(-(hfe*(RL1*10**3/hie*10**3)))*10**-6\n",
      "Av = math.floor(Av*100)/100\n",
      "x=(Rb*10**3/(1-Av)) \n",
      "Rif= (hie*10**3*x)/(hie*10**3+x)\n",
      "Avf=(Av*Rif)/(Rif+Rs)\n",
      "Rof=((Rb*10**3*(Rs+hie*10**3))/(Rs*hfe))*10**-3\n",
      "Rof1=(Rof*Rl)/(Rof+Rl)\n",
      "\n",
      "\n",
      "#Result\n",
      "print(\"Voltage gain is %.2f\"%Av)\n",
      "print(\"input resistance with feedback = %.3f ohm\"%(math.ceil(Rif*1000)/1000))\n",
      "print(\"Overall Voltage gain is %.2f\"%Avf)\n",
      "print(\"output resistance with feedback = %.1f k-ohm\"%Rof1)"
     ],
     "language": "python",
     "metadata": {},
     "outputs": [
      {
       "output_type": "stream",
       "stream": "stdout",
       "text": [
        "Voltage gain is -30.48\n",
        "input resistance with feedback = 1013.172 ohm\n",
        "Overall Voltage gain is -19.14\n",
        "output resistance with feedback = 1.4 k-ohm\n"
       ]
      }
     ],
     "prompt_number": 24
    },
    {
     "cell_type": "heading",
     "level": 2,
     "metadata": {},
     "source": [
      "Example 6.19, Page No. 435"
     ]
    },
    {
     "cell_type": "code",
     "collapsed": false,
     "input": [
      "# A,Beta,Rif,Af amd loop gain\n",
      "\n",
      "import math\n",
      "#Variable declaration\n",
      "R1=1.0                              # resistance in killo ohms\n",
      "R2=20.0                             # resistance in killo ohms\n",
      "Re=100.0                            # emitter resistance in  ohms\n",
      "# H-paramters are\n",
      "hie=2.0                             # in killo ohms\n",
      "hfe=80.0\n",
      "Rl=1.0                              # load resistance in killo ohms\n",
      "\n",
      "#Calculations\n",
      "Ri=hie                              # input resistance in killo ohms\n",
      "A= -(hfe*Rl*10**3)/(hie*10**3) \n",
      "Beta=Re/(Rl*(10**3))                # GAIN\n",
      "Rif= (hie*10**3+(1+hfe)*Re)*10**-3  # input resistance with feedback in killo ohms\n",
      "Av=(-(hfe*(Rl*10**3/Rif*10**3)))*10**-6\n",
      "BetaA= Beta*A                       # loop gain\n",
      "BetaAd= 20*(math.log10(-BetaA))     # loop gain in dB\n",
      "\n",
      "#Result\n",
      "print(\"Voltage gain without feedback is %.f\"%A)\n",
      "print(\"Feedback ratio is given by %.1f\"%Beta)\n",
      "print(\"input resistance with feedback = %.1f k-ohm\"%Rif)\n",
      "print(\"Voltage gain with feedback is %.2f\"%Av)\n",
      "print(\"loop gain is %.2f dB\"%BetaAd)"
     ],
     "language": "python",
     "metadata": {},
     "outputs": [
      {
       "output_type": "stream",
       "stream": "stdout",
       "text": [
        "Voltage gain without feedback is -40\n",
        "Feedback ratio is given by 0.1\n",
        "input resistance with feedback = 10.1 k-ohm\n",
        "Voltage gain with feedback is -7.92\n",
        "loop gain is 12.04 dB\n"
       ]
      }
     ],
     "prompt_number": 29
    },
    {
     "cell_type": "heading",
     "level": 2,
     "metadata": {},
     "source": [
      "Example 6.20, Page No. 436 "
     ]
    },
    {
     "cell_type": "code",
     "collapsed": false,
     "input": [
      "# voltage gain\n",
      "\n",
      "import math\n",
      "#Variable declaration\n",
      "re=7.5             # A.C. Resistance\n",
      "R1=470.0           # resistance in  ohms\n",
      "Rc=2.2             # resistance in killo ohms\n",
      "Re=510.0           # emitter resistance in  ohms\n",
      "# H-paramters are\n",
      "hie=900.0          # in  ohms\n",
      "hfe=120.0\n",
      "\n",
      "#Calculations\n",
      "A=-(hfe)/(hie+Re)  # gain without feedback\n",
      "Beta=-Re           # gain\n",
      "GF= (1+A*Beta)     # gain factor\n",
      "Af=A/(GF)          # GAIN WITH FEEDBACK\n",
      "Avf= Af*Rc*10**3   # voltage gain with feedback\n",
      "Av= -(Rc*10**3/re) # voltage gain without feedback\n",
      "\n",
      "#Result\n",
      "print(\"voltage gain with feedback is %.1f\"%Avf)\n",
      "print(\"voltage gain without feedback is %.1f\"%Av)"
     ],
     "language": "python",
     "metadata": {},
     "outputs": [
      {
       "output_type": "stream",
       "stream": "stdout",
       "text": [
        "voltage gain with feedback is -4.2\n",
        "voltage gain without feedback is -293.3\n"
       ]
      }
     ],
     "prompt_number": 30
    },
    {
     "cell_type": "heading",
     "level": 2,
     "metadata": {},
     "source": [
      "Example 6.21, Page No. 436"
     ]
    },
    {
     "cell_type": "code",
     "collapsed": false,
     "input": [
      "# change in overall gain\n",
      "\n",
      "import math\n",
      "#Variable declaration\n",
      "Beta=0.01                # feedback\n",
      "Ad= 60.0                 # gain in dB\n",
      "dA= 11.0                 # open voltage gain\n",
      "\n",
      "\n",
      "#Calculations\n",
      "A= 10**(Ad/20)           # gain\n",
      "dAf= (1/(1+Beta*A))*dA   # GAIN WITH FEEDBACK\n",
      "\n",
      "#Result\n",
      "print(\"change in overall gain is = %.f %%\"%dAf)\n",
      "print(\"\\nThe result clearly shows that the %% change reduction in overall gain\")\n",
      "print(\"with negative feedback is reduced from 11%% to 1%%.\")\n",
      "print(\"That is why we say that amplifier with negative feedback have stable gain.\")"
     ],
     "language": "python",
     "metadata": {},
     "outputs": [
      {
       "output_type": "stream",
       "stream": "stdout",
       "text": [
        "change in overall gain is = 1 %\n",
        "\n",
        "The result clearly shows that the %% change reduction in overall gain\n",
        "with negative feedback is reduced from 11%% to 1%%.\n",
        "That is why we say that amplifier with negative feedback have stable gain.\n"
       ]
      }
     ],
     "prompt_number": 32
    },
    {
     "cell_type": "heading",
     "level": 2,
     "metadata": {},
     "source": [
      "Example 6.22, Page No. 437 "
     ]
    },
    {
     "cell_type": "code",
     "collapsed": false,
     "input": [
      "# input impedence with feedback\n",
      "\n",
      "import math\n",
      "#Variable declaration\n",
      "A= 1000.0             # open voltage gain\n",
      "Beta=0.005            # feedback ratio\n",
      "Zi=2.0                # input impedance without feedback in kiilo ohms\n",
      "\n",
      "#Calculations\n",
      "Zif= (1+A*Beta)*Zi    # input impedance with feedback in kiilo ohms\n",
      "\n",
      "#Result\n",
      "print(\"input impedance with feedback = %.f k-ohm\"%Zif)"
     ],
     "language": "python",
     "metadata": {},
     "outputs": [
      {
       "output_type": "stream",
       "stream": "stdout",
       "text": [
        "input impedance with feedback = 12 k-ohm\n"
       ]
      }
     ],
     "prompt_number": 46
    },
    {
     "cell_type": "heading",
     "level": 2,
     "metadata": {},
     "source": [
      "Example 6.23, Page No.437 "
     ]
    },
    {
     "cell_type": "code",
     "collapsed": false,
     "input": [
      "# feedback factor and change in overall gain\n",
      "\n",
      "import math\n",
      "#Variable declaration\n",
      "Zo=12.6                   # output impedance in killo ohms\n",
      "Zofb=600.0                # output impedance in ohms with feedback\n",
      "Ad= 60.0                  # gain in dB\n",
      "dA= 10.0                  # open voltage gain\n",
      "\n",
      "#Calcualtions\n",
      "A= 10**(Ad/20)            # gain\n",
      "Beta= ((Zo*10**3/Zofb)-1)/A\n",
      "dAf= (1/(1+Beta*A))*dA    # GAIN WITH FEEDBACK\n",
      "\n",
      "#Result\n",
      "print(\"feedbck factor is %.2f\"%Beta)\n",
      "print(\"change in overall gain = %.3f %%\"%dAf)"
     ],
     "language": "python",
     "metadata": {},
     "outputs": [
      {
       "output_type": "stream",
       "stream": "stdout",
       "text": [
        "feedbck factor is 0.02\n",
        "change in overall gain = 0.476 %\n"
       ]
      }
     ],
     "prompt_number": 33
    },
    {
     "cell_type": "heading",
     "level": 2,
     "metadata": {},
     "source": [
      "Example 6.24, Page No. 437 "
     ]
    },
    {
     "cell_type": "code",
     "collapsed": false,
     "input": [
      "# feedback fration ,overall voltage gain and output voltage\n",
      "\n",
      "import math\n",
      "#Variable declaration\n",
      "A=5000.0               # gain wtihout feedback\n",
      "R1=1.0                 # resistance in killo ohms\n",
      "R2=9.0                 # resistance in killo ohms\n",
      "Vs=2.0                 # input voltage without feedback in milli volts\n",
      "\n",
      "#Calcualtions\n",
      "Beta= R1/(R1+R2)       # feedback fraction\n",
      "Afb=round(A/(1+Beta*A))\n",
      "Vo= round(Afb*Vs)      # output voltage with feedback in milli volts\n",
      "\n",
      "#Result\n",
      "print(\"feedback fraction            = %.1f\"%Beta)\n",
      "print(\"overall voltage gain         = %.f\"%Afb)\n",
      "print(\"output voltage with feedback = %.f mV\"%Vo)"
     ],
     "language": "python",
     "metadata": {},
     "outputs": [
      {
       "output_type": "stream",
       "stream": "stdout",
       "text": [
        "feedback fraction            = 0.1\n",
        "overall voltage gain         = 10\n",
        "output voltage with feedback = 20 mV\n"
       ]
      }
     ],
     "prompt_number": 51
    },
    {
     "cell_type": "heading",
     "level": 2,
     "metadata": {},
     "source": [
      "Example 6.25, Page No. 438"
     ]
    },
    {
     "cell_type": "code",
     "collapsed": false,
     "input": [
      "# feedback fraction ,overall voltage gain,input impedance  ,output impedance and output volatge\n",
      "\n",
      "import math\n",
      "#Variable declaration\n",
      "Zi=5.0                            # input impedance in killo ohms\n",
      "Zo=100.0                          # input impedance in  ohms\n",
      "A=10000.0                         # gain wtihout feedback\n",
      "R1=2.0                            # resistance in killo ohms\n",
      "R2=18.0                           # resistance in killo ohms\n",
      "Vs=10.0                           # input voltage without feedback in milli volts\n",
      "\n",
      "#Calculations\n",
      "Beta= R1/(R1+R2)                  # feedback fraction\n",
      "Afb=round(A/(1+Beta*A))           # overall gain\n",
      "Zif= round((1+A*Beta)*Zi*10**-3)  # input impedance with feedback in mega ohms\n",
      "Zof= Zo/(1+Beta*A)                # OUTPUT impedance with feedback in  ohms\n",
      "Vo= round(Vs/Afb)                 # output voltage with feedback in milli volts\n",
      "\n",
      "#Result\n",
      "print(\"feedback fraction             = %.1f\"%Beta)\n",
      "print(\"overall voltage gain          = %.f\"%Afb)\n",
      "print(\"input impedance with feedback = %.f M-ohm\"%Zif)\n",
      "print(\"output impedance with feedback= %.1f ohm\"%Zof)\n",
      "print(\"output voltage with feedback  = %.f mV\"%Vo)"
     ],
     "language": "python",
     "metadata": {},
     "outputs": [
      {
       "output_type": "stream",
       "stream": "stdout",
       "text": [
        "feedback fraction             = 0.1\n",
        "overall voltage gain          = 10\n",
        "input impedance with feedback = 5 M-ohm\n",
        "output impedance with feedback= 0.1 ohm\n",
        "output voltage with feedback  = 1 mV\n"
       ]
      }
     ],
     "prompt_number": 34
    },
    {
     "cell_type": "heading",
     "level": 2,
     "metadata": {},
     "source": [
      "Example 6.26, Page No. 438"
     ]
    },
    {
     "cell_type": "code",
     "collapsed": false,
     "input": [
      "# Gain\n",
      "\n",
      "import math\n",
      "#Variable declaration\n",
      "a=60.0                  # OPEN LOOP VOLTAGE GAIN IN dB\n",
      "A= 10**(a/20)           # open voltage gain\n",
      "Beta=0.009              # feedback ratio\n",
      "\n",
      "#Calculations\n",
      "Af= (A/(1+(Beta*A)))    # GAIN WITH FEEDBACL\n",
      "AfdB= 20*(math.log10(Af))# gain with feedback in dB\n",
      "\n",
      "#Result\n",
      "print(\"gain with feedback = %.2f\"%AfdB)\n",
      "#Answer for the gain with feedback is wrong in the book"
     ],
     "language": "python",
     "metadata": {},
     "outputs": [
      {
       "output_type": "stream",
       "stream": "stdout",
       "text": [
        "gain with feedback = 40.00\n"
       ]
      }
     ],
     "prompt_number": 37
    },
    {
     "cell_type": "heading",
     "level": 2,
     "metadata": {},
     "source": [
      "Example 6.27, Page No. 439"
     ]
    },
    {
     "cell_type": "code",
     "collapsed": false,
     "input": [
      "# reduction in distortion\n",
      "\n",
      "import math\n",
      "#Variable declaration\n",
      "a=54.8                # OPEN LOOP VOLTAGE GAIN IN dB\n",
      "A= 10**(a/20)         # open voltage gain\n",
      "Beta=0.02             # feedback ratio\n",
      "\n",
      "#Calculations\n",
      "Af= (A/(1+(Beta*A)))  # GAIN WITH FEEDBACL\n",
      "dA= (1/(1+Beta*A))*100# percentage change in distortion \n",
      "\n",
      "#Result\n",
      "print(\"percentage reduction in distortion is %.2f%%\"%(math.floor(dA*100)/100))"
     ],
     "language": "python",
     "metadata": {},
     "outputs": [
      {
       "output_type": "stream",
       "stream": "stdout",
       "text": [
        "percentage reduction in distortion is 8.33%\n"
       ]
      }
     ],
     "prompt_number": 40
    },
    {
     "cell_type": "heading",
     "level": 2,
     "metadata": {},
     "source": [
      "Example 6.28, Page No. 439 "
     ]
    },
    {
     "cell_type": "code",
     "collapsed": false,
     "input": [
      "# gain with feedback ,input impedance  and output impedance \n",
      "\n",
      "import math\n",
      "#Variable declaration\n",
      "Zi=1.0               # input impedance in killo ohms\n",
      "Zo=40.0              # input impedance in killo ohms\n",
      "A=10000.0            # gain wtihout feedback\n",
      "Beta=0.05            # gain\n",
      "\n",
      "#Calculations\n",
      "Afb=(A/(1+Beta*A))\n",
      "Zif= ((1+A*Beta)*Zi)\n",
      "Zof= (Zo*10**3/(1+Beta*A))\n",
      "\n",
      "#Result\n",
      "print(\"overall voltage gain           = %.f\"%Afb)\n",
      "print(\"input impedance with feedback  = %.f M-ohm\"%Zif)\n",
      "print(\"output impedance with feedback = %.f ohms\"%Zof)\n",
      "#Answer in the book for input impedance is wrong"
     ],
     "language": "python",
     "metadata": {},
     "outputs": [
      {
       "output_type": "stream",
       "stream": "stdout",
       "text": [
        "overall voltage gain           = 20\n",
        "input impedance with feedback  = 501 M-ohm\n",
        "output impedance with feedback = 80 ohms\n"
       ]
      }
     ],
     "prompt_number": 49
    },
    {
     "cell_type": "heading",
     "level": 2,
     "metadata": {},
     "source": [
      "Example 6.29, Page No. 439"
     ]
    },
    {
     "cell_type": "code",
     "collapsed": false,
     "input": [
      "# bandwidth\n",
      "\n",
      "import math\n",
      "#Variable declaration\n",
      "F2=16.0                   # upper cutoff frequency in killo hertz without feedback\n",
      "F1=40.0                   # upper cutoff frequency in hertz without feedback\n",
      "A= 800.0                  # open loop voltage gain\n",
      "Beta=0.02                 # feedback ratio\n",
      "\n",
      "#CAlaculations\n",
      "Afb= (A/(1+(Beta*A)))     # GAIN WITH FEEDBACk\n",
      "F2f=F2*(1+A*Beta)         # uppor cutoff frequency with feedback in killo hertz\n",
      "F1f=F1/(1+A*Beta)*10**-3  # lower cutoff frequency with feedback in killo hertz\n",
      "Bw=F2-F1*10**-3           # bandwidth without feedback in killo hertz\n",
      "Bwf=round(F2f-F1f)        # bandwidth with feedback in killo hertz\n",
      "\n",
      "#Result\n",
      "print(\"bandwidth without feedback = %.2f kHz\"%Bw)\n",
      "print(\"bandwidth with feedback    = %.f\"%Bwf)"
     ],
     "language": "python",
     "metadata": {},
     "outputs": [
      {
       "output_type": "stream",
       "stream": "stdout",
       "text": [
        "bandwidth without feedback = 15.96 kHz\n",
        "bandwidth with feedback    = 272\n"
       ]
      }
     ],
     "prompt_number": 50
    },
    {
     "cell_type": "heading",
     "level": 2,
     "metadata": {},
     "source": [
      "Example 6.30, Page No. 440"
     ]
    },
    {
     "cell_type": "code",
     "collapsed": false,
     "input": [
      "# bandwidth\n",
      "\n",
      "import math\n",
      "#Variable declaration\n",
      "BW=10.0                 # bandwidth without feedback in killo hertz\n",
      "A= 100.0                # open loop voltage gain\n",
      "Beta=0.1                # feedback ratio\n",
      "\n",
      "#Calculations\n",
      "Afb= (A/(1+(Beta*A)))   # GAIN WITH FEEDBACk\n",
      "Bwf=round(BW*(1+Beta*A))# bandwidth with feedback in killo hertz\n",
      "\n",
      "#Result\n",
      "print(\"feedback gain           = %.2f\"%Afb)\n",
      "print(\"bandwidth with feedback = %.f kHz\"%Bwf)\n"
     ],
     "language": "python",
     "metadata": {},
     "outputs": [
      {
       "output_type": "stream",
       "stream": "stdout",
       "text": [
        "feedback gain           = 9.09\n",
        "bandwidth with feedback = 110 kHz\n"
       ]
      }
     ],
     "prompt_number": 51
    },
    {
     "cell_type": "heading",
     "level": 2,
     "metadata": {},
     "source": [
      "Example 6.31, Page No. 440 "
     ]
    },
    {
     "cell_type": "code",
     "collapsed": false,
     "input": [
      "# gain and harmonic distortion\n",
      "\n",
      "import math\n",
      "#Variable declaration\n",
      "A2= 200.0            # open loop voltage gain\n",
      "Beta=0.1             # feedback ratio\n",
      "D2=0.02              # first stage distortion\n",
      "\n",
      "#Calculations\n",
      "D2d= (D2/(1+Beta*A2))*100\n",
      "A2d=A2/(1+Beta*A2)\n",
      "A1=round(A2/A2d)\n",
      "\n",
      "#Result\n",
      "\n",
      "print(\"second stage harmonic distortion , A2' %.2f%%\"%(D2d*100))\n",
      "print(\"gain of first stage, A1 = %.f\"%A1)"
     ],
     "language": "python",
     "metadata": {},
     "outputs": [
      {
       "output_type": "stream",
       "stream": "stdout",
       "text": [
        "second stage harmonic distortion , A2' 9.52%\n",
        "gain of first stage, A1 = 21\n"
       ]
      }
     ],
     "prompt_number": 55
    },
    {
     "cell_type": "heading",
     "level": 2,
     "metadata": {},
     "source": [
      "Example 6.32, Page No.453 "
     ]
    },
    {
     "cell_type": "code",
     "collapsed": false,
     "input": [
      "# pole frequency \n",
      "\n",
      "import math\n",
      "#Variable declaration\n",
      "R2=2*10**5                  # effective resistance in ohms\n",
      "Av2=1000.0                  # gain of second stage\n",
      "Cf=20.0                     # feedback capacitor in pico farad\n",
      "\n",
      "#Calculations\n",
      "Cm=(1+Av2)*Cf          \n",
      "fp1= 1/(2*math.pi*R2*Cm*10**-12)\n",
      "\n",
      "#Result\n",
      "print(\"pole frequency = %.2f Hz\"%fp1)"
     ],
     "language": "python",
     "metadata": {},
     "outputs": [
      {
       "output_type": "stream",
       "stream": "stdout",
       "text": [
        "pole frequency = 39.75 Hz\n"
       ]
      }
     ],
     "prompt_number": 57
    }
   ],
   "metadata": {}
  }
 ]
}