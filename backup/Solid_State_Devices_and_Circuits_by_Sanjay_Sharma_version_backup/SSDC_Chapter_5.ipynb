{
 "metadata": {
  "name": ""
 },
 "nbformat": 3,
 "nbformat_minor": 0,
 "worksheets": [
  {
   "cells": [
    {
     "cell_type": "heading",
     "level": 1,
     "metadata": {},
     "source": [
      "Chapter 5 : Frequency Response"
     ]
    },
    {
     "cell_type": "heading",
     "level": 2,
     "metadata": {},
     "source": [
      "Example 5.1, Page No. 311"
     ]
    },
    {
     "cell_type": "code",
     "collapsed": false,
     "input": [
      "#COUPLING CAPACITOR\n",
      "\n",
      "import math\n",
      "#Variable declaration\n",
      "Rs=10.0               # series resistance in killo ohms\n",
      "Xc1= Rs/10.0          # reactance at 20Hz\n",
      "\n",
      "#Calcualtions\n",
      "C1=(1.0/(2*math.pi*20*Xc1*10**3))*10**6     # CAPACITANCE IN MICRO FARAD\n",
      "\n",
      "#Result\n",
      "print(\"Capacitance = %.3f micro Farad.\\nAs this is not a standard value will select 10 micro farad\"%(math.floor(C1*1000)/1000))\n",
      "#Answer is slightly different than in book"
     ],
     "language": "python",
     "metadata": {},
     "outputs": [
      {
       "output_type": "stream",
       "stream": "stdout",
       "text": [
        "Capacitance = 7.957 micro Farad.\n",
        "As this is not a standard value will select 10 micro farad\n"
       ]
      }
     ],
     "prompt_number": 5
    },
    {
     "cell_type": "heading",
     "level": 2,
     "metadata": {},
     "source": [
      "Example 5.2, Page No. 311"
     ]
    },
    {
     "cell_type": "code",
     "collapsed": false,
     "input": [
      "# amplifier gain\n",
      "\n",
      "import math\n",
      "#Variable declaration\n",
      "f=20.0                   # frequency in hertz\n",
      "Avm=100.0                # mid voltage gain\n",
      "fl=40.0                  # lower cut off  frequency in hertz\n",
      "fh=16.0                  # lower cut off  frequency in hertz\n",
      "\n",
      "#Calcualtions\n",
      "Avl= (Avm/(math.sqrt(1+(fl/f)**2))) # gain at lower cut off frequency\n",
      "Avh= (Avm/(math.sqrt(1+(f/fh)**2))) # gain at upper cut off frequency\n",
      "\n",
      "#Result\n",
      "print(\"gain at lower cut off frequency = %.2f\"%Avl)\n",
      "print(\"gain at upper cut off frequency = %.2f\"%Avh)\n"
     ],
     "language": "python",
     "metadata": {},
     "outputs": [
      {
       "output_type": "stream",
       "stream": "stdout",
       "text": [
        "gain at lower cut off frequency = 44.72\n",
        "gain at upper cut off frequency = 62.47\n"
       ]
      }
     ],
     "prompt_number": 6
    },
    {
     "cell_type": "heading",
     "level": 2,
     "metadata": {},
     "source": [
      "Example 5.3, Page No. 312"
     ]
    },
    {
     "cell_type": "code",
     "collapsed": false,
     "input": [
      "# amplifier gain\n",
      "\n",
      "import math\n",
      "#Variable declaration\n",
      "f=40.0          # frequency in hertz\n",
      "Avm=40.0        # mid voltage gain\n",
      "fl=40.0         # lower cut off  frequency in hertz\n",
      "\n",
      "#Calculations\n",
      "Avl= (Avm/(math.sqrt(1+(fl/f)**2))) # gain at lower cut off frequency\n",
      "\n",
      "#Result\n",
      "print(\"gain at lower cut off frequency = %.2f\"%Avl)"
     ],
     "language": "python",
     "metadata": {},
     "outputs": [
      {
       "output_type": "stream",
       "stream": "stdout",
       "text": [
        "gain at lower cut off frequency = 28.28\n"
       ]
      }
     ],
     "prompt_number": 7
    },
    {
     "cell_type": "heading",
     "level": 2,
     "metadata": {},
     "source": [
      "Example 5.4, Page No. 312"
     ]
    },
    {
     "cell_type": "code",
     "collapsed": false,
     "input": [
      "# amplifier gain\n",
      "\n",
      "import math\n",
      "#Variable declaration\n",
      "f=50.0               # frequency in hertz\n",
      "Avm=150/0.707        # mid voltage gain\n",
      "fh=20.0              # lower cut off  frequency in hertz\n",
      "\n",
      "#Calculations\n",
      "Avh= (Avm/(math.sqrt(1+(f/fh)**2))) # gain at upper cut off frequency\n",
      "\n",
      "#Result\n",
      "print(\"gain at upper cut off frequency = %.2f\"%(math.floor(Avh*100)/100))"
     ],
     "language": "python",
     "metadata": {},
     "outputs": [
      {
       "output_type": "stream",
       "stream": "stdout",
       "text": [
        "gain at upper cut off frequency = 78.79\n"
       ]
      }
     ],
     "prompt_number": 9
    },
    {
     "cell_type": "heading",
     "level": 2,
     "metadata": {},
     "source": [
      "Example 5.5, Page No. 312"
     ]
    },
    {
     "cell_type": "code",
     "collapsed": false,
     "input": [
      "# maximum voltage gain\n",
      "\n",
      "import math\n",
      "#Variable declaration\n",
      "Avl=100.0               # voltage gain\n",
      "\n",
      "#Calculations\n",
      "Avm=Avl/0.707           # MID VOLTAGE GAIN\n",
      "\n",
      "#Result\n",
      "print(\"maximum voltage gain is %.2f\"%Avm)"
     ],
     "language": "python",
     "metadata": {},
     "outputs": [
      {
       "output_type": "stream",
       "stream": "stdout",
       "text": [
        "maximum voltage gain is 141.44\n"
       ]
      }
     ],
     "prompt_number": 11
    },
    {
     "cell_type": "heading",
     "level": 2,
     "metadata": {},
     "source": [
      "Example 5.6, Page No.319"
     ]
    },
    {
     "cell_type": "code",
     "collapsed": false,
     "input": [
      "# series capacitance and transfer function\n",
      "\n",
      "import math\n",
      "#Variable declaration\n",
      "f=100.0            # frequency in hertz\n",
      "fc=25.0            # corner frequency\n",
      "rs=2.0             # series resistance in killo ohms\n",
      "rp=4.0             # PARALLEL resistance in killo ohms\n",
      "\n",
      "#Calculations\n",
      "Cs= (1/(2*math.pi*fc*(rs+rp)*10**3))*10**6 # series capacitance in micro farad\n",
      "ts= Cs*10**-6*(rs+rp)*10**3                # time constant\n",
      "Tf= ((rp/(rs+rp))*((2*math.pi*f*ts)/(math.sqrt(1+(2*math.pi*f*ts)**2)))) # transfer function\n",
      "\n",
      "#Result\n",
      "print(\"series capacitance in micro farad = %.2f\"%Cs)\n",
      "print(\"transfer function is  %.3f\"%(math.floor(Tf*1000)/1000))"
     ],
     "language": "python",
     "metadata": {},
     "outputs": [
      {
       "output_type": "stream",
       "stream": "stdout",
       "text": [
        "series capacitance in micro farad = 1.06\n",
        "transfer function is  0.646\n"
       ]
      }
     ],
     "prompt_number": 13
    },
    {
     "cell_type": "heading",
     "level": 2,
     "metadata": {},
     "source": [
      "Example 5.7, Page No. 321"
     ]
    },
    {
     "cell_type": "code",
     "collapsed": false,
     "input": [
      "# corner frequency and maximum magnitude asymptote\n",
      "\n",
      "import math\n",
      "#Variable declaration\n",
      "Cp=2.0                # PARALLEL RESISTANCE IN PICO FARAD\n",
      "rs=2.0                # series resistance in killo ohms\n",
      "rp=10.0               # PARALLEL resistance in killo ohms\n",
      "\n",
      "#Calculation\n",
      "tp= ((rs*rp)/(rs+rp)*10**3*Cp*10**-12)    # time constant\n",
      "f= (1/(2*math.pi*tp))*10**-6              # corner frequency in mega hertz\n",
      "Am= rp/(rp+rs)                            # maximum amplitude\n",
      "Amd= 20*(math.log10(Am))                  # maximum magnitude aymptote is dB\n",
      "\n",
      "#Result\n",
      "print(\"corner frequency = %.2f MHz\"%(math.floor(f*100)/100))\n",
      "print(\"maximum magnitude asymptote is %.2f dB\"%Amd)"
     ],
     "language": "python",
     "metadata": {},
     "outputs": [
      {
       "output_type": "stream",
       "stream": "stdout",
       "text": [
        "corner frequency = 47.74 MHz\n",
        "maximum magnitude asymptote is -1.58 dB\n"
       ]
      }
     ],
     "prompt_number": 16
    },
    {
     "cell_type": "heading",
     "level": 2,
     "metadata": {},
     "source": [
      "Example 5.9, Page No. 330"
     ]
    },
    {
     "cell_type": "code",
     "collapsed": false,
     "input": [
      "# 3-db frequency and bandwidth\n",
      "\n",
      "import math\n",
      "#Variable declaration\n",
      "Cp=1.0            # PARALLEL capacitance IN PICO FARAD\n",
      "Cs=2.0            # series capacitance IN micro FARAD\n",
      "rs=1.0            # series resistance in killo ohms\n",
      "rp=10.0           # PARALLEL resistance in killo ohms\n",
      "\n",
      "#Calculations\n",
      "ts= ((rs+rp)*10**3*Cp*10**-12)         # time constant\n",
      "tp= ((rs*rp)/(rs+rp)*10**3*Cp*10**-12) # time constant\n",
      "fl= (1/(2*math.pi*ts))*10**-6          # lower frequency in mega hertz\n",
      "fl= math.floor(fl*100)/100\n",
      "fh= round((1/(2*math.pi*tp))*10**-6)   # upper frequency in mega hertz\n",
      "BW=fh-fl                               # bandwidth in mega hertz\n",
      "ts= (rs+rp)*10**3*Cp*10**-12           # open circuit time constant\n",
      "tp= ((rs*rp)/(rs+rp))*10**3*Cp*10**-12 #short time constant\n",
      "Ts= (rp)/(rs+rp)                       # midband transfer function\n",
      "Tsdb= 20*(math.log10(Ts))              # midband transfer function in db\n",
      "\n",
      "#Result\n",
      "print(\"(i)  open circuit time constant is %.f * 10^-9\"%(ts*10**9))\n",
      "print(\"(ii) short circuit time constant is %.f * 10^-12\"%(tp*10**12))\n",
      "print(\"(iii)lower 3 dB frequency = %.2f MHz\"%fl)\n",
      "print(\"(iv) upper 3 dB frequency = %f MHz\"%fh)\n",
      "print(\"(v)  Bandwidth = %.2f MHz\"%BW)\n",
      "print(\"(vi) midband transfer function in db is %.3f\"%Tsdb)\n",
      "#Short circuit time constant is different in book"
     ],
     "language": "python",
     "metadata": {},
     "outputs": [
      {
       "output_type": "stream",
       "stream": "stdout",
       "text": [
        "(i)  open circuit time constant is 11 * 10^-9\n",
        "(ii) short circuit time constant is 909 * 10^-12\n",
        "(iii)lower 3 dB frequency = 14.46 MHz\n",
        "(iv) upper 3 dB frequency = 175.000000 MHz\n",
        "(v)  Bandwidth = 160.54 MHz\n",
        "(vi) midband transfer function in db is -0.828\n"
       ]
      }
     ],
     "prompt_number": 28
    },
    {
     "cell_type": "heading",
     "level": 2,
     "metadata": {},
     "source": [
      "Example 5.10, Page No. 331"
     ]
    },
    {
     "cell_type": "code",
     "collapsed": false,
     "input": [
      "# 3-db frequency and bandwidth\n",
      "\n",
      "import math\n",
      "#Variable declaration\n",
      "Cp=1.0                 # PARALLEL capacitance IN PICO FARAD\n",
      "Cs=2.0                 # series capacitance IN micro FARAD\n",
      "rs=1.0                 # series resistance in killo ohms\n",
      "rp=2.0                 # PARALLEL resistance in killo ohms\n",
      "ts= ((rs+rp)*10**3*Cs*10**-6)         # time constant\n",
      "tp= ((rs*rp)/(rs+rp)*Cp*10**-12)      # time constant\n",
      "tp1 = tp\n",
      "fl= (1/(2*math.pi*ts))                # lower frequency in  hertz\n",
      "tp= math.floor(tp*10**14)/10**14\n",
      "fh= (1/(2*math.pi*tp))                # upper frequency in  hertz\n",
      "BW=fh-fl                              # bandwidth in  hertz\n",
      "#ts= ((rs*rp)/(rs+rp))*10**-3*Cs*10**-12          # time constant\n",
      "\n",
      "#Result\n",
      "print(\"Time constant(ts) in second is %.f * 10^-3\"%(ts*1000))\n",
      "print(\"\\nTime constant(tp) in second is %.3f * 10^-12\"%(tp1*10**12))\n",
      "print(\"\\nlower 3 dB frequency = %.f Hz\"%fl)\n",
      "print(\"\\nupper 3 dB frequency = %.2f *10^9 Hz\"%(fh*10**-9))\n",
      "print(\"\\nbandwidth = %.2f*10^9 Hz\"%(BW*10**-9))"
     ],
     "language": "python",
     "metadata": {},
     "outputs": [
      {
       "output_type": "stream",
       "stream": "stdout",
       "text": [
        "Time constant(ts) in second is 6 * 10^-3\n",
        "\n",
        "Time constant(tp) in second is 0.667 * 10^-12\n",
        "\n",
        "lower 3 dB frequency = 27 Hz\n",
        "\n",
        "upper 3 dB frequency = 241.14 *10^9 Hz\n",
        "\n",
        "bandwidth = 241.14*10^9 Hz\n"
       ]
      }
     ],
     "prompt_number": 49
    },
    {
     "cell_type": "heading",
     "level": 2,
     "metadata": {},
     "source": [
      "Example 5.11, Page No. 336"
     ]
    },
    {
     "cell_type": "code",
     "collapsed": false,
     "input": [
      "# low frequecy response\n",
      "\n",
      "import math\n",
      "#Variable declaration\n",
      "Beta=100.0\n",
      "Rs=1.0           # series resistance in killo ohms\n",
      "R1=40.0          # resistance in killo ohms\n",
      "R2=10.0          # resistance in killo ohms\n",
      "hie=1.1          # in killo ohms\n",
      "C1=10.0          # capacitance in micro farad\n",
      "Ce=20.0          # emitter capacitance in micro farad\n",
      "hic=1100.0       # in ohms\n",
      "Rl_1=2.0         # resistance in killo ohms\n",
      "Rl_2=1.8         # load resistance in killo ohms\n",
      "Rc=4.0           # collector resistance in killo ohms\n",
      "C2=1.0           # capacitance in micro farad\n",
      "\n",
      "\n",
      "#Calcualtions\n",
      "x=(R1*R2)/(R1+R2)\n",
      "Y=(x*hie)/(x+hie)\n",
      "Rin= math.floor((Y+Rs)*100)/100          \n",
      "fc=(1/(2*math.pi*Rin*10**3*C1*10**-6)) \n",
      "Rth=(x*Rs)/(x+Rs)*10**3 \n",
      "Rx= (Rth+hic)/(Beta)  \n",
      "R= (Rx*Rl_1*10**3)/(Rx+Rl_1*10**3)              \n",
      "R = math.floor(R*100)/100\n",
      "fc1=(1/(2*math.floor(math.pi*100)*R*Ce*10**-6/100))  \n",
      "fc2=(1/(2*math.pi*(Rl_2+Rc)*10**3*C2*10**-6))   \n",
      "\n",
      "#Result\n",
      "print(\"CUT OFF FREQUENCY OF INPUT RC NETWORK  = %.2f Hz\"%fc)\n",
      "print(\"CUT OFF FREQUENCY OF BYPASS RC NETWORK = %.2f Hz\"%fc1)\n",
      "print(\"CUT OFF FREQUENCY OF OUTPUT RC NETWORK = %.2f Hz\"%(math.ceil(fc2*100)/100))"
     ],
     "language": "python",
     "metadata": {},
     "outputs": [
      {
       "output_type": "stream",
       "stream": "stdout",
       "text": [
        "CUT OFF FREQUENCY OF INPUT RC NETWORK  = 8.12 Hz\n",
        "CUT OFF FREQUENCY OF BYPASS RC NETWORK = 404.36 Hz\n",
        "CUT OFF FREQUENCY OF OUTPUT RC NETWORK = 27.45 Hz\n"
       ]
      }
     ],
     "prompt_number": 60
    },
    {
     "cell_type": "heading",
     "level": 2,
     "metadata": {},
     "source": [
      "Example 5.12, Page No.346"
     ]
    },
    {
     "cell_type": "code",
     "collapsed": false,
     "input": [
      "# corner frequency and maximum GAIN\n",
      "\n",
      "import math\n",
      "#Variable declaration\n",
      "Vcc=10.0              # Colector voltage in volts\n",
      "Beta= 100.0 \n",
      "Rc=1.0                # Collector resistance in killo ohms\n",
      "Rs=600.0              # SERIES RESISTANCE IN OHMS\n",
      "Re=0.2                # in kilo ohms\n",
      "R1= 50.0              # in kilo ohms\n",
      "R2= 10.0              # in kilo ohms\n",
      "Vbe=0.7               # Base to emitter voltage in volts\n",
      "C1=1.0                # capacitance in micro farad\n",
      "\n",
      "\n",
      "Vth=Vcc * (R2/(R1+R2))                           # VOLTAGE AT BASE\n",
      "Rth= (R1*R2)/(R1+R2)\n",
      "Ib=((Vcc-Vbe)/((Rth+(1+Beta)*Re)*10**3))*10**5   # in micro ampere\n",
      "Icq= Beta*Ib*10**-3                              # in milli ampere\n",
      "Vt=26.0                                          # volate at room termprature in milli volts\n",
      "gm= (Icq/Vt)*10**3                               # transconductance in milli ampere per volts\n",
      "rpi= (Beta*Vt*10**-3)/(Icq*10**-3)               # resistance\n",
      "Rb=math.floor(Rth*100)/100                       # base resistance in killo ohms\n",
      "\n",
      "x=(rpi+(1+Beta)*Re*10**3) \n",
      "y=(Rs+Rb*10**3)  \n",
      "ts=((x*y)/(x+y))*C1*10**-3                       # in milli second\n",
      "fl= (1/(2*math.pi*ts*10**-3))                    # corner frequency in hertz\n",
      "Ri=(x*Rb*10**-3)/(Rb+x*10**-3) \n",
      "Av= ((gm*10**-3*rpi*Rc*10**3)*Rb*10**3)/((Ri+Rs*10**-3)*10**3*(x*10**-3+Rb)*10**3) \n",
      "\n",
      "#Result\n",
      "print(rpi)\n",
      "print(\"corner frequency = %.2f Hz\"%fl)\n",
      "print(\"maximum gain     = %.2f\"%Av)"
     ],
     "language": "python",
     "metadata": {},
     "outputs": [
      {
       "output_type": "stream",
       "stream": "stdout",
       "text": [
        "797.70609319\n",
        "corner frequency = 25.40 Hz\n",
        "maximum gain     = 4.33\n"
       ]
      }
     ],
     "prompt_number": 68
    },
    {
     "cell_type": "heading",
     "level": 2,
     "metadata": {},
     "source": [
      "Example 5.13, Page No. 348"
     ]
    },
    {
     "cell_type": "code",
     "collapsed": false,
     "input": [
      "print(\"Theoretical example\")"
     ],
     "language": "python",
     "metadata": {},
     "outputs": [
      {
       "output_type": "stream",
       "stream": "stdout",
       "text": [
        "Theoretical example\n"
       ]
      }
     ],
     "prompt_number": 1
    },
    {
     "cell_type": "heading",
     "level": 2,
     "metadata": {},
     "source": [
      "Example 5.14, Page No. 349"
     ]
    },
    {
     "cell_type": "code",
     "collapsed": false,
     "input": [
      "print(\"Theoretical example\")"
     ],
     "language": "python",
     "metadata": {},
     "outputs": [
      {
       "output_type": "stream",
       "stream": "stdout",
       "text": [
        "Theoretical example\n"
       ]
      }
     ],
     "prompt_number": 3
    },
    {
     "cell_type": "heading",
     "level": 2,
     "metadata": {},
     "source": [
      "Example 5.15, Page No. 349"
     ]
    },
    {
     "cell_type": "code",
     "collapsed": false,
     "input": [
      "print(\"Theoretical example\")"
     ],
     "language": "python",
     "metadata": {},
     "outputs": [
      {
       "output_type": "stream",
       "stream": "stdout",
       "text": [
        "Theoretical example\n"
       ]
      }
     ],
     "prompt_number": 4
    },
    {
     "cell_type": "heading",
     "level": 2,
     "metadata": {},
     "source": [
      "Example 5.16, Page No. 350"
     ]
    },
    {
     "cell_type": "code",
     "collapsed": false,
     "input": [
      "# TIME CONSTANTS , MIDBAND VOLTAGE GAIN AND COERNER FREQUENCIES\n",
      "\n",
      "import math\n",
      "#Variable declaration\n",
      "Rl=4.0               # load resistance in killo ohms\n",
      "Rs=250.0             # SERIES RESISTANCE IN OHMS\n",
      "rpi= 2.0             # resistance IN KILLO OHMS\n",
      "Re=0.2               # in kilo ohms\n",
      "C1=2                 # capacitance in micro farad\n",
      "Cl=50.0              # capacitance in pico farad\n",
      "gm= 6.5                            # transconductance in milli ampere per volts\n",
      "\n",
      "\n",
      "#Calcualtions\n",
      "ts=(Rs*10**-3+rpi)*10**3*C1*10**-3 # open circuit time constant in milli second\n",
      "tp=Rl*Cl*10**-3                    # short circuit time constant in micro second\n",
      "Av= (((gm*10**-3*rpi*10**3*Rl*10**3))/(Rs*10**-3+rpi)*10**3)*10**-5\n",
      "fl=(1/(2*math.pi*ts*10**-3))       # lower cut off frequency in hertz\n",
      "fh=(1/(2*math.pi*tp*10**-6))*10**-6#upper cut off frequency in mega hertz\n",
      "\n",
      "#Result\n",
      "print(\"open circuit time constant = %.1f ms\"%ts)\n",
      "print(\"short circuit time constant= %.1f micro-sec\"%tp)\n",
      "print(\"maximum gain               = %.2f\"%Av)\n",
      "print(\"lower cut off frequency    = %.2f Hz\"%(math.floor(fl*100)/100))\n",
      "print(\"upper cut off frequency    = %.4f Hz\"%(math.floor(fh*10000)/10000))"
     ],
     "language": "python",
     "metadata": {},
     "outputs": [
      {
       "output_type": "stream",
       "stream": "stdout",
       "text": [
        "open circuit time constant = 4.5 ms\n",
        "short circuit time constant= 0.2 micro-sec\n",
        "maximum gain               = 231.11\n",
        "lower cut off frequency    = 35.36 Hz\n",
        "upper cut off frequency    = 0.7957 Hz\n"
       ]
      }
     ],
     "prompt_number": 10
    },
    {
     "cell_type": "heading",
     "level": 2,
     "metadata": {},
     "source": [
      "Example 5.17, Page No. 552"
     ]
    },
    {
     "cell_type": "code",
     "collapsed": false,
     "input": [
      "# frequency response\n",
      "\n",
      "import math\n",
      "#Variable declaration\n",
      "Rg=10.0                     # resistance in mega ohms\n",
      "Vgs=10.0                    # gate to soure voltage\n",
      "Igss=10.0                   # current in nano ampere\n",
      "C1=0.001                    # capacitance in micro farad\n",
      "Rd=1.8                      # drain resistance in killo ohms\n",
      "Rl=18.0                     # load resistance in killo ohms\n",
      "C2=1.0                      # Capacitance in micro farad\n",
      "\n",
      "#Calculations\n",
      "x= (Vgs/Igss)*1000.0                       # resistance in mega ohms\n",
      "Rin= ((Rg*x)/(Rg+x))                       # input resistance in mega ohms\n",
      "fc= (1/(2*math.pi*Rin*10**6*C1*10**-6))    # input critical frequency of the RC network\n",
      "fc1=(1/(2*math.pi*(Rd+Rl)*10**3*C2*10**-6))# output critical frequency of the RC network\n",
      "\n",
      "#Result\n",
      "print(\"input critical frequency of the RC network = %.2f Hz\"%(math.ceil(fc*100)/100))\n",
      "print(\"input critical frequency of the RC network = %.2f Hz\"%fc1)"
     ],
     "language": "python",
     "metadata": {},
     "outputs": [
      {
       "output_type": "stream",
       "stream": "stdout",
       "text": [
        "input critical frequency of the RC network = 16.08 Hz\n",
        "input critical frequency of the RC network = 8.04 Hz\n"
       ]
      }
     ],
     "prompt_number": 13
    },
    {
     "cell_type": "heading",
     "level": 2,
     "metadata": {},
     "source": [
      "Example 5.18, Page No. 556"
     ]
    },
    {
     "cell_type": "code",
     "collapsed": false,
     "input": [
      "# frequency\n",
      "\n",
      "import math\n",
      "#Variable declaration\n",
      "rpi=2.0                                # resistance in killo ohms\n",
      "Cpi=1.8                                # capacitance in pico farad\n",
      "Cmu=0.12                               # capacitance in pico farad\n",
      "\n",
      "#Calculations\n",
      "fb=(1/(2*math.pi*rpi*10**3*(Cpi+Cmu)*10**-6))# frequency in mega hertz\n",
      "\n",
      "#Result\n",
      "print(\"frequency = %.3f MHz\"%(math.floor(fb*1000)/1000))"
     ],
     "language": "python",
     "metadata": {},
     "outputs": [
      {
       "output_type": "stream",
       "stream": "stdout",
       "text": [
        "frequency = 41.446 MHz\n"
       ]
      }
     ],
     "prompt_number": 15
    },
    {
     "cell_type": "heading",
     "level": 2,
     "metadata": {},
     "source": [
      "Example 5.19, Page No.558"
     ]
    },
    {
     "cell_type": "code",
     "collapsed": false,
     "input": [
      "# bandwidth and capacitance\n",
      "\n",
      "import math\n",
      "#Variable declaration\n",
      "Vt=26.0                # voltage in milli volts\n",
      "ft=500.0               # frequecy in mega hertz\n",
      "Ic=1.0                 # collector current in mili ampere\n",
      "Bo=90.0\n",
      "Cmu=0.2                # capacitance in pico farad\n",
      "\n",
      "#Calculations\n",
      "fb=ft/Bo               # frequency in mega hertz\n",
      "x= ((Ic*10**-3)/(2*math.pi*Vt*10**-3*ft*10**6))*10**12\n",
      "Cpi= x-Cmu\n",
      "\n",
      "#Result\n",
      "print(\"Bandwidth  = %.2f MHz\"%(math.floor(fb*100)/100))\n",
      "print(\"Capacitance of the transistor = %.3f pF\"%(math.floor(Cpi*1000)/1000))\n",
      "#Answer for bandwidth is wrong in the book"
     ],
     "language": "python",
     "metadata": {},
     "outputs": [
      {
       "output_type": "stream",
       "stream": "stdout",
       "text": [
        "Bandwidth  = 5.55 MHz\n",
        "Capacitance of the transistor = 12.042 pF\n"
       ]
      }
     ],
     "prompt_number": 21
    },
    {
     "cell_type": "heading",
     "level": 2,
     "metadata": {},
     "source": [
      "Example 5.20, Page No.360"
     ]
    },
    {
     "cell_type": "code",
     "collapsed": false,
     "input": [
      "# corner frequency \n",
      "\n",
      "import math\n",
      "#Variable declaration\n",
      "Rs=1.0               # series resistance in killo ohms\n",
      "Rl=3.7               # load resistance in killo ohms\n",
      "Rc=3.7               # Collector resistance in killo ohms\n",
      "R1= 200.0            # in kilo ohms\n",
      "R2= 200.0            # in kilo ohms\n",
      "Vbe=0.7              # Base to emitter voltage in volts\n",
      "rpi=2.5              # resistance in killo ohms\n",
      "Cpi=0.18             # capacitance in pico farad\n",
      "gm=40.0              # transconductance in milli ampere per volts\n",
      "C1=4.0                                      # capacitance in pico farad\n",
      "\n",
      "\n",
      "#Calcualtions\n",
      "Rb= (R1*R2)/(R1+R2) \n",
      "y=(Rc*Rl)/(Rc+Rl) \n",
      "Cmu= Cpi*(1+gm*y) \n",
      "Cm2=Cmu \n",
      "z=(Rs*rpi)/(Rs+rpi) \n",
      "R=(Rb*z)/(Rb+z) \n",
      "C=Cmu+4 \n",
      "f3db= (1/(2*math.pi*R*10**3*C))*10**6       # 3-dB frequency in mega hertz\n",
      "f3db1= (1/(2*math.pi*R*10**3*C1))*10**6     # 3-dB frequency in mega hertz\n",
      "\n",
      "#Result\n",
      "print(\"3-dB frequency due to miller effect = %.3f MHz\"%f3db)\n",
      "print(\"3-dB frequency                      = %.1f MHz\"%f3db1)\n",
      "print(\"\\nDue to miller effect the capacitance gets multiplied by 75,\")\n",
      "print(\"hence due to miller effect the bandwidth is reduced.\")"
     ],
     "language": "python",
     "metadata": {},
     "outputs": [
      {
       "output_type": "stream",
       "stream": "stdout",
       "text": [
        "3-dB frequency due to miller effect = 12.823 MHz\n",
        "3-dB frequency                      = 56.1 MHz\n",
        "\n",
        "Due to miller effect the capacitance gets multiplied by 75,\n",
        "hence due to miller effect the bandwidth is reduced.\n"
       ]
      }
     ],
     "prompt_number": 23
    },
    {
     "cell_type": "heading",
     "level": 2,
     "metadata": {},
     "source": [
      "Example 5.21, Page No. 367"
     ]
    },
    {
     "cell_type": "code",
     "collapsed": false,
     "input": [
      "# mid band gain and upper 3 db frequency\n",
      "\n",
      "import math\n",
      "#Variable declaration\n",
      "Cpi=40.0           # in pico farad\n",
      "Vt=26.0            # voltage in milli volts\n",
      "Beta=150.0\n",
      "Icc=1.0            # current in milli ampere\n",
      "Icq=1.0            # current in milli ampere\n",
      "Rc=4.7             # collector resistance in killo ohms\n",
      "Rl=10.0            # load resistance in killo ohms\n",
      "Cmu=3.0            # capacitance in pico farad\n",
      "R1= 50.0           # in kilo ohms\n",
      "R2= 5.0            # in kilo ohms\n",
      "rs=1.0             # in killo ohms\n",
      "\n",
      "#Calculations\n",
      "rpi= ((Beta*Vt)/Icc)*10**-3\n",
      "gm=(Icq/Vt)*10**3  # transconductance in mili ampere per volt\n",
      "gm = math.floor(gm*100)/100\n",
      "Rld= (Rc*Rl)/(Rc+Rl) \n",
      "Rld = math.floor(Rld*1000)/1000\n",
      "Cm=round(Cmu*(1+gm*Rld)) #miller capacitance in pico farad\n",
      "Rb= (R1*R2)/(R1+R2)\n",
      "Rb = math.floor(Rb*1000)/1000\n",
      "x=(Rb*rs)/(Rb+rs) \n",
      "y=(rpi*x)/(rpi+x)\n",
      "y = math.ceil(y*10**4)/10**4\n",
      "fh=(1/(2*math.pi*y*10**3*(Cm+Cpi)*10**-12)) # 3-db upper cut off frequency in mega hertz\n",
      "z=(Rb*rpi)/(Rb+rpi) \n",
      "Avm=(gm*Rld*z)/(z+rs)\n",
      "\n",
      "#Result\n",
      "print(\"3-db upper cut off frequency = %.3f MHz\"%(fh*10**-6))\n",
      "print(\"Midband  Gain  = %.2f\"%Avm)\n",
      "#Value of Fh is wrong in the book\n",
      "#wrong value of gm is used for Avm calculation"
     ],
     "language": "python",
     "metadata": {},
     "outputs": [
      {
       "output_type": "stream",
       "stream": "stdout",
       "text": [
        "3-db upper cut off frequency = 0.570 MHz\n",
        "Midband  Gain  = 83.28\n"
       ]
      }
     ],
     "prompt_number": 64
    },
    {
     "cell_type": "heading",
     "level": 2,
     "metadata": {},
     "source": [
      "Example 5.22, Page No.370"
     ]
    },
    {
     "cell_type": "code",
     "collapsed": false,
     "input": [
      "# mid band gain and upper 3 db frequency\n",
      "\n",
      "import math\n",
      "#Variable declaration\n",
      "Cpi=40.0            # in pico farad\n",
      "Vt=26.0             # voltage in milli volts\n",
      "Beta=150.0\n",
      "Icq=1.0             # current in milli ampere\n",
      "rs=1.0              # in killo ohms\n",
      "re=0.5              # in killo ohms\n",
      "Rc=4.7              # collector resistance in killo ohms\n",
      "Rl=10.0             # load resistance in killo ohms\n",
      "Cmu=3.0             # capacitance in pico farad\n",
      "R1= 50.0            # in kilo ohms\n",
      "R2= 5.0             # in kilo ohms\n",
      "\n",
      "#Calcualtions\n",
      "rpi= ((Beta*Vt)/Icq)*10**-3 \n",
      "gm=(Icq/Vt)*10**3                                 # transconductance in mili ampere per volt\n",
      "gm = math.floor(gm*100)/100\n",
      "g=(rs*re)/(rs+re) \n",
      "m=rpi/(1+Beta) \n",
      "m = math.floor(m*10000)/10000\n",
      "tpi= ((m*g)/(m+g))*10**3*Cpi*10**-12 \n",
      "tpi = math.floor(tpi*10**14)/10**14\n",
      "fh1=(1/(2*math.pi*tpi))/10**6                     # first 3-db upper cut off frequency in mega hertz\n",
      "fh1 = (math.floor(fh1*1000)/1000)\n",
      "Rld= (Rc*Rl)/(Rc+Rl) \n",
      "Rb= (R1*R2)/(R1+R2)\n",
      "fh2=(1/(2*math.pi*Cmu*10**-8*Rld*10**3))*10**-2   # second 3-db upper cut off frequency in mega hertz\n",
      "x=(m*re)/(m+re)\n",
      "Avm=(gm*Rld*x)/(x+rs) \n",
      "\n",
      "#Result\n",
      "print(\"3-db upper cut off frequency       = %.3f MHz\"%fh1)\n",
      "print(\"second 3-db upper cut off frequency= %.4f MHz\"%fh2)\n",
      "print(\"Midband Gain                       = %.4f\"%Avm)\n",
      "# Value for fh2 and Avm slightly differs from the book"
     ],
     "language": "python",
     "metadata": {},
     "outputs": [
      {
       "output_type": "stream",
       "stream": "stdout",
       "text": [
        "3-db upper cut off frequency       = 166.156 MHz\n",
        "second 3-db upper cut off frequency= 16.5927 MHz\n",
        "Midband Gain                       = 2.9446\n"
       ]
      }
     ],
     "prompt_number": 89
    },
    {
     "cell_type": "heading",
     "level": 2,
     "metadata": {},
     "source": [
      "Example 5.23, Page No.375"
     ]
    },
    {
     "cell_type": "code",
     "collapsed": false,
     "input": [
      "# mid band gain and upper 3 db frequency\n",
      "\n",
      "import math\n",
      "#Variable declaration\n",
      "Cmu=3.0           # capacitance in pico farad\n",
      "Cpi=40.0          # in pico farad\n",
      "Vt=26.0           # voltage in milli volts\n",
      "Beta=150.0 \n",
      "Icq=1.0           # current in milli ampere\n",
      "rs=1.0            # in killo ohms\n",
      "re=4.7            # in killo ohms\n",
      "R1= 40.0          # in kilo ohms\n",
      "R2= 20.0          # in kilo ohms\n",
      "R3= 27.0          # in kilo ohms\n",
      "Rc=4.7            # collector resistance in killo ohms\n",
      "Rl=10.0           # load resistance in killo ohms\n",
      "\n",
      "\n",
      "#Calculations\n",
      "rpi= ((Beta*Vt)/Icq)*10**-3\n",
      "gm=(Icq/Vt)*10**3                    # transconductance in mili ampere per volt\n",
      "gm = math.floor(gm*100)/100\n",
      "Rb=(R2*R3)/(R2+R3)\n",
      "g=(rs*rpi)/(rs+rpi)  \n",
      "tp1=(((Rb*g)*(Cpi+2*Cmu))/(Rb+g))*10**-9 \n",
      "m=rpi/(1+Beta) \n",
      "tp2= m*(Cmu+Cpi)*10**-9 \n",
      "Rld= (Rc*Rl)/(Rc+Rl) \n",
      "tp3=Cmu*10**-12*Rld*10**3 \n",
      "fh1=(1/(2*math.pi*tp1*10**6))         # first 3-db upper cut off frequency in mega hertz\n",
      "fh2=(1/(2*math.pi*tp2*10**6))         # second 3-db upper cut off frequency in mega hertz\n",
      "fh3=(1/(2*math.pi*tp3*10**6))        # third 3-db upper cut off frequency in mega hertz\n",
      "Avm= -gm*Rld*(rpi/(rpi+1)) \n",
      "\n",
      "#Result\n",
      "print(\"3-db upper cut off frequency        = %.3f MHz\"%fh1)\n",
      "print(\"second 3-db upper cut off frequency = %.2f MHz\"%fh2)\n",
      "print(\"third 3-db upper cut off frequency  = %.3f MHz\"%fh3)\n",
      "print(\"Midband Gain                        = %.2f\"%Avm)\n",
      "# Value for fh2 and fh3 slightly differs from the book"
     ],
     "language": "python",
     "metadata": {},
     "outputs": [
      {
       "output_type": "stream",
       "stream": "stdout",
       "text": [
        "3-db upper cut off frequency        = 4.648 MHz\n",
        "second 3-db upper cut off frequency = 143.31 MHz\n",
        "third 3-db upper cut off frequency  = 16.593 MHz\n",
        "Midband Gain                        = -97.87\n"
       ]
      }
     ],
     "prompt_number": 95
    },
    {
     "cell_type": "heading",
     "level": 2,
     "metadata": {},
     "source": [
      "Example 5.24, Page No.383"
     ]
    },
    {
     "cell_type": "code",
     "collapsed": false,
     "input": [
      "# corner frequency and bandwidth\n",
      "\n",
      "import math\n",
      "#Variable declaration\n",
      "tr=16.0         # rise time in micro second\n",
      "V=100.0         # voltage in milli volts\n",
      "Vd=90.0         # voltage in milli volts\n",
      "f=5.0           # frequecny in killo hertz\n",
      "\n",
      "#Calculations\n",
      "fh= (0.35/(tr*10**-6))*10**-3   # upper cut off frequency in killo hertz\n",
      "P= ((V-Vd)/V)*100 \n",
      "fl=(P*10**3*f)/(100*math.pi)     # lower cut off frequency in hertz\n",
      "BW=(fh*10**3-fl)*10**-3          # bandwith in killo hertz\n",
      "\n",
      "#Result\n",
      "print(\"upper cut off frequency = %.3f kHz\"%fh)\n",
      "print(\"lower cut off frequency = %.2f Hz\"%fl)\n",
      "print(\"Bandwidth               = %.3f kHz\"%(math.floor(BW*1000)/1000))"
     ],
     "language": "python",
     "metadata": {},
     "outputs": [
      {
       "output_type": "stream",
       "stream": "stdout",
       "text": [
        "upper cut off frequency = 21.875 kHz\n",
        "lower cut off frequency = 159.15 Hz\n",
        "Bandwidth               = 21.715 kHz\n"
       ]
      }
     ],
     "prompt_number": 100
    },
    {
     "cell_type": "heading",
     "level": 2,
     "metadata": {},
     "source": [
      "Example 5.25, Page No.384"
     ]
    },
    {
     "cell_type": "code",
     "collapsed": false,
     "input": [
      "# PERCENTAGE TILT\n",
      "\n",
      "import math\n",
      "#Variable declaration\n",
      "Rc=4.0                # RESISTANCE IN KILLO OHMS\n",
      "Rl=2.0                # RESISTANCE IN KILLO OHMS\n",
      "C=10.0                # capacitance in micro farad\n",
      "f=200.0               # frequency in hertz\n",
      "\n",
      "#Calculations\n",
      "R1=Rc+Rl \n",
      "fl=(1/(2*math.pi*R1*10**3*C*10**-6))# LOWER CUT -OFF FREQUENCY\n",
      "P = (math.pi*fl*100)/f              # % tilt\n",
      "\n",
      "#Result\n",
      "print(\"percentage tilt = %.1f%%\"%(math.floor(P*10)/10))"
     ],
     "language": "python",
     "metadata": {},
     "outputs": [
      {
       "output_type": "stream",
       "stream": "stdout",
       "text": [
        "percentage tilt = 4.1%\n"
       ]
      }
     ],
     "prompt_number": 102
    },
    {
     "cell_type": "heading",
     "level": 2,
     "metadata": {},
     "source": [
      "Example 5.26, Page No. 385"
     ]
    },
    {
     "cell_type": "code",
     "collapsed": false,
     "input": [
      "# PERCENTAGE TILT\n",
      "\n",
      "import math\n",
      "#Variable declaration\n",
      "Rc=2.0                    # RESISTANCE IN KILLO OHMS\n",
      "Rl=10.0                   # RESISTANCE IN KILLO OHMS\n",
      "C=10.0                    # capacitance in micro farad\n",
      "f=100.0                   # frequency in hertz\n",
      "p1=0.02\n",
      "\n",
      "#Calculations\n",
      "R1=Rc+Rl\n",
      "fl=(1/(2*math.pi*R1*10**3*C*10**-6))#LOWER CUT -OFF FREQUENCY\n",
      "fl= math.floor(fl*100)/100\n",
      "P= (math.floor(math.pi*100)*fl)/(f*100) \n",
      "f=(math.floor(math.pi*100)*fl)/(p1*100) \n",
      "\n",
      "#Result\n",
      "print(\"percentage tilt = %.3f%%\"%(P*100))\n",
      "print(\"Lowest value of f for P= 2%%, will be= %.2f Hz\"%f)\n",
      "print(\"\\nConclusion:\\nAs the input frequency increases the %% tilt decreases.\")"
     ],
     "language": "python",
     "metadata": {},
     "outputs": [
      {
       "output_type": "stream",
       "stream": "stdout",
       "text": [
        "percentage tilt = 4.145%\n",
        "Lowest value of f for P= 2%, will be= 207.24 Hz\n",
        "\n",
        "Conclusion:\n",
        "As the input frequency increases the %% tilt decreases.\n"
       ]
      }
     ],
     "prompt_number": 120
    },
    {
     "cell_type": "heading",
     "level": 2,
     "metadata": {},
     "source": [
      "Example 5.27, Page No. 389"
     ]
    },
    {
     "cell_type": "code",
     "collapsed": false,
     "input": [
      "# fh,fl and bandwidth\n",
      "\n",
      "import math\n",
      "#Variable declaration\n",
      "fln=25.0                # in hertz\n",
      "fhn=16.0                # in kelo hertz\n",
      "n=3.0\n",
      "\n",
      "#Calcualtions\n",
      "x=math.sqrt(2**(1/n)-1) \n",
      "fl=x*fln                # lower cut off frequency in hertz\n",
      "fh=fhn/x                # upper cut off frequency in hertz\n",
      "BW=(fh*10**3)-fl        # bandwidth\n",
      "\n",
      "\n",
      "#Result\n",
      "print(\"lower cut off frequency = %.2f Hz\"%(math.floor(fl*100)/100))\n",
      "print(\"upper cut off frequency = %.2f kHz\"%fh)\n",
      "print(\"Bandwidth               = %.2f kHz\"%(BW/1000))\n"
     ],
     "language": "python",
     "metadata": {},
     "outputs": [
      {
       "output_type": "stream",
       "stream": "stdout",
       "text": [
        "lower cut off frequency = 12.74 Hz\n",
        "upper cut off frequency = 31.38 kHz\n",
        "Bandwidth               = 31.37 kHz\n"
       ]
      }
     ],
     "prompt_number": 123
    },
    {
     "cell_type": "heading",
     "level": 2,
     "metadata": {},
     "source": [
      "Example 5.28, Page No. 390"
     ]
    },
    {
     "cell_type": "code",
     "collapsed": false,
     "input": [
      "# bandwidth\n",
      "\n",
      "import math\n",
      "#Variable declaration\n",
      "fl=40.0              # in hertz\n",
      "fh=20.0              # in kelo hertz\n",
      "n=4.0\n",
      "\n",
      "#Calculations\n",
      "x=math.sqrt(2**(1/n)-1) \n",
      "fhn=x*fh             # lower cut off frequency in hertz\n",
      "fln=fl/x             # upper cut off frequency in hertz\n",
      "BW=fhn-fln*10**-3    # bandwidth\n",
      "\n",
      "#Result\n",
      "print(\"lower cut off frequency = %.2f Hz\"%(math.floor(fln*100)/100))\n",
      "print(\"upper cut off frequency = %.1f kHz\"%fhn)\n",
      "print(\"Bandwidth               = %.1f kHz\"%BW) "
     ],
     "language": "python",
     "metadata": {},
     "outputs": [
      {
       "output_type": "stream",
       "stream": "stdout",
       "text": [
        "lower cut off frequency = 91.95 Hz\n",
        "upper cut off frequency = 8.7 kHz\n",
        "Bandwidth               = 8.6 kHz\n"
       ]
      }
     ],
     "prompt_number": 128
    },
    {
     "cell_type": "heading",
     "level": 2,
     "metadata": {},
     "source": [
      "Example 5.29, Page No. 390"
     ]
    },
    {
     "cell_type": "code",
     "collapsed": false,
     "input": [
      "# cut off frequencies\n",
      "\n",
      "import math\n",
      "#Variable declaration\n",
      "fln = 20           # in Hz\n",
      "fhn=100.0          # in kelo hertz\n",
      "n=3.0\n",
      "\n",
      "#Calculations\n",
      "x=math.sqrt(2**(1/n)-1) \n",
      "fl=fln*x           # lower cut off frequency in hertz\n",
      "fh=fhn/x           # upper cut off frequency in hertz\n",
      "\n",
      "#Result\n",
      "print(\"lower cut off frequency = %.2f Hz\"%(math.floor(fl*100)/100))\n",
      "print(\"upper cut off frequency = %.2f KHz\"%(math.floor(fh*100)/100))"
     ],
     "language": "python",
     "metadata": {},
     "outputs": [
      {
       "output_type": "stream",
       "stream": "stdout",
       "text": [
        "lower cut off frequency = 10.19 Hz\n",
        "upper cut off frequency = 196.14 KHz\n"
       ]
      }
     ],
     "prompt_number": 145
    },
    {
     "cell_type": "heading",
     "level": 2,
     "metadata": {},
     "source": [
      "Example 5.30, Page No. 391"
     ]
    },
    {
     "cell_type": "code",
     "collapsed": false,
     "input": [
      "# Avm,Fh,Cc\n",
      "\n",
      "import math\n",
      "#Variable declaration\n",
      "mu=70.0 \n",
      "rd=44.0            # resistance in killo ohms\n",
      "Rd2=50.0           # resistance in killo ohms\n",
      "Rg=1.0             # gate resisatnce in mega ohms\n",
      "Csh=200            # capacitance in pico farad\n",
      "fl=50.0\n",
      "\n",
      "#Calculations\n",
      "gm= mu/(rd)                                      # transconductane in milli ampere per volt\n",
      "gm = math.ceil(gm*10)/10\n",
      "x=(rd*Rd2)/(rd+Rd2) \n",
      "x = math.floor(x*10)/10\n",
      "Av2m= gm*x                                       # mid frequency gain of second stage\n",
      "y= (x*Rg*10**3)/(x+Rg*10**3)\n",
      "Av1m= -gm*y                                      # mid frequency gain of first stage\n",
      "Av= Av1m*Av2m                                    # total gain\n",
      "Req=y\n",
      "fh=(1/(2*math.pi*Req*10**3*Csh*10**-9))          # upper cut off frequency in killo hertz\n",
      "Ro1=x\n",
      "Cc=(1/(2*math.pi*fl*(Ro1*10**3+Rg*10**6)))*10**9 # coupling capacitance in nano farad\n",
      "\n",
      "#Result\n",
      "print(x)\n",
      "print(\"mid frequency gain of second stage = %.2f\"%Av2m)\n",
      "print(\"upper cut off frequency            = %.2f kHz\"%(math.ceil(fh*100)/100))\n",
      "print(\"coupling capacitance               = %.2f nF\"%Cc)"
     ],
     "language": "python",
     "metadata": {},
     "outputs": [
      {
       "output_type": "stream",
       "stream": "stdout",
       "text": [
        "23.4\n",
        "mid frequency gain of second stage = 37.44\n",
        "upper cut off frequency            = 34.81 kHz\n",
        "coupling capacitance               = 3.11 nF\n"
       ]
      }
     ],
     "prompt_number": 152
    },
    {
     "cell_type": "heading",
     "level": 2,
     "metadata": {},
     "source": [
      "Example 5.31, Page No. 392"
     ]
    },
    {
     "cell_type": "code",
     "collapsed": false,
     "input": [
      "# gain\n",
      "\n",
      "import math\n",
      "#Variable declaration\n",
      "gm= 10.0                     # transconductane in milli ampere per volt\n",
      "Csh=20.0                     # capacitance in pico farad\n",
      "BW=10.0                      # bandwidth in mega hertz\n",
      "fhn=10.0                     # in mega hertz\n",
      "n=2.0\n",
      "\n",
      "#Calculations\n",
      "x=math.sqrt(2**(1/n)-1)\n",
      "fh=fhn/x                               # lower cut off frequency in mega hertz\n",
      "R=(1/(2*math.pi*Csh*10**-12*fh*10**6)) # resiatnce in ohms\n",
      "Av1=-gm*R*10**-3                       # mid frequency gain of first stage\n",
      "Av2=Av1                                # mid frequency gain of second stage\n",
      "Av= Av1*Av2                            # total gain\n",
      "Avdb=20*(math.log10(Av))                    # total gain dB\n",
      "\n",
      "#Result\n",
      "print(\"Total gain = %.2f dB\"%(math.floor(Avdb*100)/100))"
     ],
     "language": "python",
     "metadata": {},
     "outputs": [
      {
       "output_type": "stream",
       "stream": "stdout",
       "text": [
        "Total gain = 28.37 dB\n"
       ]
      }
     ],
     "prompt_number": 155
    },
    {
     "cell_type": "heading",
     "level": 2,
     "metadata": {},
     "source": [
      "Example 5.32, Page No. 393"
     ]
    },
    {
     "cell_type": "code",
     "collapsed": false,
     "input": [
      "# Avm,Fh,Fl\n",
      "\n",
      "import math\n",
      "#Variable declaration\n",
      "n=2.0\n",
      "C=50.0               # in micro farad\n",
      "Cc=0.1               # in micro farad\n",
      "rd=50.0              # resistance\n",
      "Rs=1.0               # series resistance in killo ohmstance in killo ohms\n",
      "gm= 2.0              # transconductane in milli ampere per volt\n",
      "Rd=10.0              # resistance in killo ohms\n",
      "Csh=10.0             # capacitance in pico farad\n",
      "\n",
      "#Calculations\n",
      "x=(rd*Rd)/(rd+Rd) \n",
      "                         \n",
      "Rg=1.0                                 # gate resisatnce in mega ohms\n",
      "y= (x*Rg*10**3)/(x+Rg*10**3) \n",
      "Avm= -gm*y                             # mid frequency gain of first stage\n",
      "Av2m= -gm*y                            # mid frequency gain of second stage\n",
      "Avm = math.ceil(Avm*100)/100\n",
      "Av= Avm*Av2m                           # total gain\n",
      "Avdb=20*(math.log10(Av))\n",
      "Req=y\n",
      "fh=(1/(2*math.pi*Req*10**3*Csh*10**-6))# upper cut off frequency in mega hertz\n",
      "Ro1=y\n",
      "fl=(1/(2*math.pi*Cc*10**-6*Ro1*10**3)) # lower cut off frequency in hertz\n",
      "x=math.sqrt(2**(1/n)-1)\n",
      "fhn=x*fh                               # lower cut off frequency in hertz\n",
      "fln=fl/x                               # upper cut off frequency in hertz\n",
      "\n",
      "#Result\n",
      "print(\"Total voltage gain           = %.2f dB\"%(math.floor(Avdb*100)/100))\n",
      "print(\"lower cut off frequency      = %.2f Hz\"%fl)\n",
      "print(\"upper cut off frequency      = %.4f MHz\"%fh)\n",
      "print(\"3dB lower cut off frequency  = %.2f Hz\"%fln)\n",
      "print(\"3dB upper cut off frequency  = %.2f MHz\"%fhn)\n",
      "# Values are slightly different than that of book"
     ],
     "language": "python",
     "metadata": {},
     "outputs": [
      {
       "output_type": "stream",
       "stream": "stdout",
       "text": [
        "Total voltage gain           = 48.72 dB\n",
        "lower cut off frequency      = 192.58 Hz\n",
        "upper cut off frequency      = 1.9258 MHz\n",
        "3dB lower cut off frequency  = 299.22 Hz\n",
        "3dB upper cut off frequency  = 1.24 MHz\n"
       ]
      }
     ],
     "prompt_number": 171
    },
    {
     "cell_type": "heading",
     "level": 2,
     "metadata": {},
     "source": [
      "Example 5.33, Page No.393"
     ]
    },
    {
     "cell_type": "code",
     "collapsed": false,
     "input": [
      "# Avm,Fh,Fl\n",
      "\n",
      "import math\n",
      "#Variable declaration\n",
      "n=3.0\n",
      "Cc=0.005               # in micro farad\n",
      "C=100.0                # in pico farad\n",
      "rd=7.7\n",
      "Rs=1.0                 # series resistance in killo ohmstance in killo ohms\n",
      "gm= 25.0               # transconductane in milli ampere per volt\n",
      "Rd=10.0                # resistance in killo ohms\n",
      "Rg=1.0                 # gate resisatnce in mega ohms\n",
      "Csh=100.0              # capacitance in pico farad\n",
      "\n",
      "\n",
      "#Calculations\n",
      "x=(rd*Rd)/(rd+Rd) \n",
      "Av2m= -gm*x                                       # mid frequency gain of second stage\n",
      "y= (x*Rg*10**3)/(x+Rg*10**3) \n",
      "Avm= -gm*y                                        # mid frequency gain of first stage\n",
      "Av= Avm*Avm*Avm                                   # total gain\n",
      "Avdb=20*(math.log10(-Av)) \n",
      "Req=y \n",
      "fh=(1/(2*math.pi*Req*10**3*Csh*10**-9))           # upper cut off frequency in killo hertz\n",
      "Ro1=y\n",
      "fl=(1/(2*math.pi*Cc*10**-6*(Ro1*10**3+Rg*10**6))) # lower cut off frequency in hertz\n",
      "x=math.sqrt(2**(1/n)-1)\n",
      "fhn=x*fh                                          # lower cut off frequency in hertz\n",
      "fln=fl/x                                          # upper cut off frequency in hertz\n",
      "\n",
      "#Result\n",
      "print(\"Total voltage gain          = %.f dB\"%math.ceil(Avdb))\n",
      "print(\"lower cut off frequency     = %.3f Hz\"%(math.floor(fl*1000)/1000))\n",
      "print(\"upper cut off frequency     = %.2f kHz\"%fh)\n",
      "print(\"3dB lower cut off frequency = %.3f Hz\"%(math.floor(fln*1000)/1000))\n",
      "print(\"3dB upper cut off frequency = %.1f kHz\"%fhn)\n",
      "# Some values are slightly different than that of book"
     ],
     "language": "python",
     "metadata": {},
     "outputs": [
      {
       "output_type": "stream",
       "stream": "stdout",
       "text": [
        "Total voltage gain          = 123 dB\n",
        "lower cut off frequency     = 31.693 Hz\n",
        "upper cut off frequency     = 367.44 kHz\n",
        "3dB lower cut off frequency = 62.165 Hz\n",
        "3dB upper cut off frequency = 187.3 kHz\n"
       ]
      }
     ],
     "prompt_number": 180
    }
   ],
   "metadata": {}
  }
 ]
}