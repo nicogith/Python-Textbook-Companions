{
 "metadata": {
  "name": ""
 },
 "nbformat": 3,
 "nbformat_minor": 0,
 "worksheets": [
  {
   "cells": [
    {
     "cell_type": "heading",
     "level": 1,
     "metadata": {},
     "source": [
      "Chapter 7: Oscillators"
     ]
    },
    {
     "cell_type": "heading",
     "level": 2,
     "metadata": {},
     "source": [
      "Example 7.1, Page No. 470"
     ]
    },
    {
     "cell_type": "code",
     "collapsed": false,
     "input": [
      "# oscillation frequency \n",
      "\n",
      "import math\n",
      "#Variable declaration\n",
      "c=450.0         # capacitance of tunned circuit in pico farad\n",
      "L=29.3          # INDUCTANCE of tunned circuit in micro henry\n",
      "\n",
      "#Calculations\n",
      "fo=(1/(2*math.pi*math.sqrt(L*10**-6*c*10**-12)))*10**-6\n",
      "\n",
      "#Result\n",
      "print(\"tunned frequency = %.2f MHz\"%fo)"
     ],
     "language": "python",
     "metadata": {},
     "outputs": [
      {
       "output_type": "stream",
       "stream": "stdout",
       "text": [
        "tunned frequency = 1.39 MHz\n"
       ]
      }
     ],
     "prompt_number": 42
    },
    {
     "cell_type": "heading",
     "level": 2,
     "metadata": {},
     "source": [
      "Example 7.2, Page No. 470 "
     ]
    },
    {
     "cell_type": "code",
     "collapsed": false,
     "input": [
      "# tunned capacitance range of tunned circuit\n",
      "\n",
      "import math\n",
      "#Variable declaration\n",
      "L=100.0              # INDUCTANCE of tunned circuit in micro henry\n",
      "fo1=500.0            # tunned frequency in killo hertz\n",
      "fo2=1500.0           # tunned frequency in killo hertz\n",
      "\n",
      "#Calculations\n",
      "C1= (1/(4*math.pi**2*(fo1*10**3)**2*L*10**-6))     # tunned capacitance\n",
      "C2= (1/(4*math.pi**2*(fo2*10**3)**2*L*10**-6))     # tunned capacitance\n",
      "\n",
      "#Result\n",
      "print(\"tunned capacitance range of tunned circuit in pF is %.1f - %.f\"%(C2*10**12,C1*10**12))"
     ],
     "language": "python",
     "metadata": {},
     "outputs": [
      {
       "output_type": "stream",
       "stream": "stdout",
       "text": [
        "tunned capacitance range of tunned circuit in pF is 112.6 - 1013\n"
       ]
      }
     ],
     "prompt_number": 47
    },
    {
     "cell_type": "heading",
     "level": 2,
     "metadata": {},
     "source": [
      "Example 7.3, Page No. 470"
     ]
    },
    {
     "cell_type": "code",
     "collapsed": false,
     "input": [
      "# TRANSFORMER WINDING RATIO\n",
      "\n",
      "import math\n",
      "#Variable declaration\n",
      "Vcc=12.0             # collector vltage\n",
      "Po=88.0              # power output in milli watt\n",
      "Ploss=8.0            # power losses in milli watt\n",
      "gm=10.0              # transconductance in milli ampere per volt\n",
      "\n",
      "\n",
      "#Calculations\n",
      "Pi= Po+Ploss         # input power in milli watt\n",
      "Ic= Pi/Vcc           # collector current in milli ampere\n",
      "Vb= Ic/(gm)          # base VOLTAGE \n",
      "TR=Vcc/Vb            # transfomer turn ratio\n",
      "\n",
      "#Result\n",
      "print(\"transformer winding turn-ratio is %.f\"%TR)"
     ],
     "language": "python",
     "metadata": {},
     "outputs": [
      {
       "output_type": "stream",
       "stream": "stdout",
       "text": [
        "transformer winding turn-ratio is 15\n"
       ]
      }
     ],
     "prompt_number": 3
    },
    {
     "cell_type": "heading",
     "level": 2,
     "metadata": {},
     "source": [
      "Example 7.4, Page No. 478"
     ]
    },
    {
     "cell_type": "code",
     "collapsed": false,
     "input": [
      "# oscillation frequency \n",
      "\n",
      "import math\n",
      "#Variable declaration\n",
      "C1=0.005               # capacitance of tunned circuit in micro farad\n",
      "C2=0.01                # capacitance of tunned circuit in micro farad\n",
      "L=100.0                # INDUCTANCE of tunned circuit in micro henry\n",
      "\n",
      "#Calculations\n",
      "C=(C1*C2)/(C1+C2)                                      # total capacitance in micro farad\n",
      "C = math.floor(C*10**4)/10**4\n",
      "fo=(1/(2*math.pi*math.sqrt(L*10**-6*C*10**-6)))        # tunned frequency in killo hertz\n",
      "\n",
      "#Result\n",
      "print C\n",
      "print(\"tunned frequency = %.2f kHz\"%(fo*10**-3))"
     ],
     "language": "python",
     "metadata": {},
     "outputs": [
      {
       "output_type": "stream",
       "stream": "stdout",
       "text": [
        "0.0033\n",
        "tunned frequency = 277.05 kHz\n"
       ]
      }
     ],
     "prompt_number": 8
    },
    {
     "cell_type": "heading",
     "level": 2,
     "metadata": {},
     "source": [
      "Example 7.5, Page No. 478"
     ]
    },
    {
     "cell_type": "code",
     "collapsed": false,
     "input": [
      "# oscillation frequency \n",
      "\n",
      "import math\n",
      "#Variable declaration\n",
      "C1=500.0             # capacitance of tunned circuit in PICO farad\n",
      "C2=500.0             # capacitance of tunned circuit in pico farad\n",
      "L=1.0                #INDUCTANCE of tunned circuit in milli henry\n",
      "\n",
      "#Calculations\n",
      "C=(C1*C2)/(C1+C2)                                       # total capacitance in micro farad\n",
      "fo=(1/(2*math.pi*math.sqrt(L*10**-3*C*10**-12)))*10**-3 #tunned frequency in killo hertz\n",
      "\n",
      "#Result\n",
      "print(\"tunned frequency = %.1f kHz\"%fo)"
     ],
     "language": "python",
     "metadata": {},
     "outputs": [
      {
       "output_type": "stream",
       "stream": "stdout",
       "text": [
        "tunned frequency = 318.3 kHz\n"
       ]
      }
     ],
     "prompt_number": 10
    },
    {
     "cell_type": "heading",
     "level": 2,
     "metadata": {},
     "source": [
      "Example 7.6, Page No. 478"
     ]
    },
    {
     "cell_type": "code",
     "collapsed": false,
     "input": [
      "# tunned capacitance and inductance of tunned circuit\n",
      "\n",
      "import math\n",
      "#Variable declaration\n",
      "fo=500.0              # tunned frequency in killo hertz\n",
      "L3=1.0                # assume inductance \n",
      "\n",
      "\n",
      "#Calculations\n",
      "LC= (1/(4*math.pi**2*(fo*10**-3)**2)) \n",
      "C=LC/(L3*10**-3)      # capacitance in pico farad\n",
      "C1= 2*C \n",
      "C2=C1\n",
      "\n",
      "\n",
      "#Result\n",
      "print(\"inductance                              = %.f mH\"%L3)\n",
      "print(\"tunned capacitance C1 of tunned circuit = %.1f pF\"%C1)\n",
      "print(\"tunned capacitance C2 of tunned circuit = %.1f pF\"%C2)"
     ],
     "language": "python",
     "metadata": {},
     "outputs": [
      {
       "output_type": "stream",
       "stream": "stdout",
       "text": [
        "inductance                              = 1 mH\n",
        "tunned capacitance C1 of tunned circuit = 202.6 pF\n",
        "tunned capacitance C2 of tunned circuit = 202.6 pF\n"
       ]
      }
     ],
     "prompt_number": 12
    },
    {
     "cell_type": "heading",
     "level": 2,
     "metadata": {},
     "source": [
      "Example 7.8, Page No.484"
     ]
    },
    {
     "cell_type": "code",
     "collapsed": false,
     "input": [
      "# tunned capacitance  of tunned circuit\n",
      "\n",
      "import math\n",
      "#Variable declaration\n",
      "fo1=50.0               # tunned frequency in killo hertz\n",
      "L1=100.0               # inductance in micro henry\n",
      "L2=100.0               # inductance in micro henry\n",
      "\n",
      "#Calculations\n",
      "C= (1/(4*math.pi**2*(fo1*10**-6)**2*(L1+L2)*10**-6))*10**-12\n",
      "\n",
      "#Result\n",
      "print(\"tunned capacitance  tunned circuit = %.5f micro-F\"%C)"
     ],
     "language": "python",
     "metadata": {},
     "outputs": [
      {
       "output_type": "stream",
       "stream": "stdout",
       "text": [
        "tunned capacitance  tunned circuit = 0.05066 micro-F\n"
       ]
      }
     ],
     "prompt_number": 1
    },
    {
     "cell_type": "heading",
     "level": 2,
     "metadata": {},
     "source": [
      "Example 7.9, Page No. 485 "
     ]
    },
    {
     "cell_type": "code",
     "collapsed": false,
     "input": [
      "# oscillation frequency \n",
      "\n",
      "import math\n",
      "#Variable declaration\n",
      "C=0.2           # capacitance of tunned circuit in MICRO farad\n",
      "L1=0.5          # INDUCTANCE of tunned circuit in milli henry\n",
      "L2=1.0          # INDUCTANCE of tunned circuit in milli henry\n",
      "\n",
      "#Calculaions\n",
      "fo=(1/(2*math.pi*math.sqrt((L1+L2)*10**-3*C*10**-6)))\n",
      "\n",
      "#Result\n",
      "print(\"tunned frequency = %.1f kHz\"%fo)"
     ],
     "language": "python",
     "metadata": {},
     "outputs": [
      {
       "output_type": "stream",
       "stream": "stdout",
       "text": [
        "tunned frequency = 9188.8 kHz\n"
       ]
      }
     ],
     "prompt_number": 2
    },
    {
     "cell_type": "heading",
     "level": 2,
     "metadata": {},
     "source": [
      "Example 7.10, Page No. 485"
     ]
    },
    {
     "cell_type": "code",
     "collapsed": false,
     "input": [
      "# oscillation frequency \n",
      "\n",
      "import math\n",
      "#Variable declaration\n",
      "C=100.0          # capacitance of tunned circuit in pico farad\n",
      "L1=1.0           # INDUCTANCE of tunned circuit in milli henry\n",
      "L2=0.1           # INDUCTANCE of tunned circuit in milli henry\n",
      "M = 0.05         # Mutual INDUCTANCE of tunned circuit in milli henry \n",
      "\n",
      "#Calculations\n",
      "fo=(1/(2*math.pi*math.sqrt((L1+L2+2*M)*10**-3*C*10**-12))) # tunned frequency in killo hertz\n",
      "\n",
      "\n",
      "#Result\n",
      "print(\"tunned frequency = %.f kHz\"%(fo/1000))"
     ],
     "language": "python",
     "metadata": {},
     "outputs": [
      {
       "output_type": "stream",
       "stream": "stdout",
       "text": [
        "tunned frequency = 459 kHz\n"
       ]
      }
     ],
     "prompt_number": 7
    },
    {
     "cell_type": "heading",
     "level": 2,
     "metadata": {},
     "source": [
      "Example 7.11, Page No.485"
     ]
    },
    {
     "cell_type": "code",
     "collapsed": false,
     "input": [
      "# feedback ratio\n",
      "\n",
      "import math\n",
      "#Variable declaration\n",
      "Af=40.0            # gain wtih feedback\n",
      "Vi=2.4             # input voltage\n",
      "Vif=0.1            # input voltage with feedback\n",
      "\n",
      "\n",
      "#Calculations\n",
      "A= Af*(Vi/Vif)     # gain without feedback\n",
      "Beta= (1-(A/Af))/A # feedback ratio\n",
      "\n",
      "#Result\n",
      "print(\"feedback ratio = %.3f\"%Beta)"
     ],
     "language": "python",
     "metadata": {},
     "outputs": [
      {
       "output_type": "stream",
       "stream": "stdout",
       "text": [
        "feedback ratio = -0.024\n"
       ]
      }
     ],
     "prompt_number": 8
    },
    {
     "cell_type": "heading",
     "level": 2,
     "metadata": {},
     "source": [
      "Example 7.12, Page No.488"
     ]
    },
    {
     "cell_type": "code",
     "collapsed": false,
     "input": [
      "# resonant frequency\n",
      "\n",
      "import math\n",
      "#Variable declaration\n",
      "Cs=0.08               # capacitance of tunned circuit in pico farad\n",
      "Ls=0.8                # series INDUCTANCE of tunned circuit in henry\n",
      "Cp=1.0                # parallel capacitance in pico farad\n",
      "Rs=5.0                # SERIES RESISTANCE IN KILLO OHMS\n",
      "\n",
      "#Calculations\n",
      "fs=round((1/(2*math.pi*math.sqrt(Ls*Cs*10**-12)))*10**-3)               # series tunned frequency in killo hertz\n",
      "fp=round(((1/(2*math.pi))*math.sqrt((1+Cs/Cp)/(Ls*Cs*10**-12)))*10**-3) # parralel tunned frequency in killo hertz\n",
      "\n",
      "\n",
      "#Result\n",
      "print(\"series tunned frequency   = %.f kHz\"%fs)\n",
      "print(\"parallel tunned frequency = %.f kHz\"%fp)"
     ],
     "language": "python",
     "metadata": {},
     "outputs": [
      {
       "output_type": "stream",
       "stream": "stdout",
       "text": [
        "series tunned frequency   = 629 kHz\n",
        "parallel tunned frequency = 654 kHz\n"
       ]
      }
     ],
     "prompt_number": 19
    },
    {
     "cell_type": "heading",
     "level": 2,
     "metadata": {},
     "source": [
      "Example 7.13, Page No. 488"
     ]
    },
    {
     "cell_type": "code",
     "collapsed": false,
     "input": [
      "# quality factor\n",
      "\n",
      "import math\n",
      "#Variable declaration\n",
      "f=450.0               # resonant frequency in killo hertz\n",
      "L=4.2                 # inductnace in henry\n",
      "R=600.0               # resistance in ohms\n",
      "\n",
      "#Calculations\n",
      "Q= (2*math.pi*f*10**3*L)/R\n",
      "\n",
      "#Result\n",
      "print(\"quality factor is %.f\"%Q)\n",
      "#Answer in the book is slightly different"
     ],
     "language": "python",
     "metadata": {},
     "outputs": [
      {
       "output_type": "stream",
       "stream": "stdout",
       "text": [
        "quality factor is 19792\n"
       ]
      }
     ],
     "prompt_number": 16
    },
    {
     "cell_type": "heading",
     "level": 2,
     "metadata": {},
     "source": [
      "Example 7.14, Page No.489"
     ]
    },
    {
     "cell_type": "code",
     "collapsed": false,
     "input": [
      "# resonant frequency\n",
      "\n",
      "import math\n",
      "#Variable declaration\n",
      "Cs=0.01                # capacitance of tunned circuit in pico farad\n",
      "Ls=0.8                 # series INDUCTANCE of tunned circuit in henry\n",
      "Cp=20.0                # parallel capacitance in pico farad\n",
      "Rs=5.0                 # SERIES RESISTANCE IN KILLO OHMS\n",
      "\n",
      "\n",
      "#Calculations\n",
      "fs=((1/(2*math.pi*math.sqrt(Ls*Cs*10**-12)))*10**-3)              # series tunned frequency in killo hertz\n",
      "fp=(((1/(2*math.pi))*math.sqrt((1+Cs/Cp)/(Ls*Cs*10**-12)))*10**-3)# parralel tunned frequency in killo hertz\n",
      "\n",
      "\n",
      "#Result\n",
      "print(\"Series tunned frequency   = %.2f kHz\"%(math.floor(fs*100)/100))\n",
      "print(\"Parallel tunned frequency = %.2f KHz\"%fp)"
     ],
     "language": "python",
     "metadata": {},
     "outputs": [
      {
       "output_type": "stream",
       "stream": "stdout",
       "text": [
        "Series tunned frequency   = 1779.40 kHz\n",
        "Parallel tunned frequency = 1779.85 KHz\n"
       ]
      }
     ],
     "prompt_number": 18
    },
    {
     "cell_type": "heading",
     "level": 2,
     "metadata": {},
     "source": [
      "Example 7.15, Page No.489"
     ]
    },
    {
     "cell_type": "code",
     "collapsed": false,
     "input": [
      "# resonant frequency,percentage change and quality factor\n",
      "\n",
      "import math\n",
      "#Variable declaration\n",
      "Cs=0.065               # capacitance of tunned circuit in pico farad\n",
      "Ls=0.33                # series INDUCTANCE of tunned circuit in henry\n",
      "Cp=1.0                 # parallel capacitance in pico farad\n",
      "Rs=5.5                 # SERIES RESISTANCE IN KILLO OHMS\n",
      "\n",
      "#Calculation\n",
      "fs=round((1/(2*math.pi*math.sqrt(Ls*Cs*10**-12)))*10**-3)               # series tunned frequency in killo hertz\n",
      "fp=math.ceil(((1/(2*math.pi))*math.sqrt((1+Cs/Cp)/(Ls*Cs*10**-12)))*10**-3) # parralel tunned frequency in killo hertz\n",
      "Pc= ((fp-fs)/fs)*100   # percentage by which series resonant frequency exceeds the parallel resonant frequency\n",
      "Qs= ((2*math.floor(math.pi*100)*fs*10**3*Ls/100)/(Rs*10**3))                           # quality factor with series resonant frequency\n",
      "Qp= ((2*math.floor(math.pi*100)*fp*10**3*Ls/100)/(Rs*10**3))                 # quality factor with parallled resonant frequency\n",
      "\n",
      "#Result\n",
      "print(\"series tunned frequency   = %.f kHz\"%fs)\n",
      "print(\"parallel tunned frequency = %.f kHz\"%fp)\n",
      "print(\"percentage by which series resonant frequency exceeds the parallel resonant frequency = %.1f%%\"%Pc)\n",
      "print(\"quality factor with series resonant frequency is %.2f\"%Qs)\n",
      "print(\"quality factor with paralled resonant frequency is %.2f\"%(math.floor(Qp*100)/100))"
     ],
     "language": "python",
     "metadata": {},
     "outputs": [
      {
       "output_type": "stream",
       "stream": "stdout",
       "text": [
        "series tunned frequency   = 1087 kHz\n",
        "parallel tunned frequency = 1122 kHz\n",
        "percentage by which series resonant frequency exceeds the parallel resonant frequency = 3.2%\n",
        "quality factor with series resonant frequency is 409.58\n",
        "quality factor with paralled resonant frequency is 422.76\n"
       ]
      }
     ],
     "prompt_number": 31
    },
    {
     "cell_type": "heading",
     "level": 2,
     "metadata": {},
     "source": [
      "Example 7.16, Page No.490"
     ]
    },
    {
     "cell_type": "code",
     "collapsed": false,
     "input": [
      "# oscillation frequency \n",
      "\n",
      "import math\n",
      "#Variable declaration\n",
      "C1=120.0               # capacitance of tunned circuit in PICO farad\n",
      "C2=1500.0              # capacitance of tunned circuit in pico farad\n",
      "C3=15.0                # capacitance of tunned circuit in pico farad\n",
      "L=10.0                 # INDUCTANCE of tunned circuit in micro henry\n",
      "\n",
      "\n",
      "#Calculations\n",
      "Cx=(C1*C2)/(C1+C2)     # capacitance in pico farad\n",
      "Ct=(Cx*C3)/(Cx+C3)     # total capacitance in pico farad\n",
      "fo=(1/(2*math.pi*math.sqrt(L*10**-6*Ct*10**-12)))*10**-6      # tunned frequency in mega hertz\n",
      "foa= (1/(2*math.pi*math.sqrt(L*10**-6*C3*10**-12)))*10**-6    # actual resonant frequency in mega hertz\n",
      "\n",
      "#Result\n",
      "print(\"tunned frequency          = %.2f MHz\"%fo)\n",
      "print(\"actual resonant frequency = %.2f MHz\"%foa)"
     ],
     "language": "python",
     "metadata": {},
     "outputs": [
      {
       "output_type": "stream",
       "stream": "stdout",
       "text": [
        "tunned frequency          = 13.84 MHz\n",
        "actual resonant frequency = 12.99 MHz\n"
       ]
      }
     ],
     "prompt_number": 34
    },
    {
     "cell_type": "heading",
     "level": 2,
     "metadata": {},
     "source": [
      "Example 7.17, Page No. 490"
     ]
    },
    {
     "cell_type": "code",
     "collapsed": false,
     "input": [
      "# resonant frequency \n",
      "\n",
      "import math\n",
      "#Variable declaration\n",
      "R=500.0               # resistance in ohms\n",
      "C1=0.01               # capacitance of tunned circuit in pico farad\n",
      "C2=10.0               # capacitance of tunned circuit in pico farad\n",
      "L=0.06                # INDUCTANCE of tunned circuit in  henry\n",
      "\n",
      "#Calculations\n",
      "C=(C1*C2)/(C1+C2)     # total capacitance in micro farad\n",
      "fs=((1/(2*math.pi*math.sqrt(L*C1*10**-12)))*10**-6)  # series tunned frequency in mega hertz\n",
      "C=(C1*C2)/(C1+C2)                                    # total capacitance in pico farad\n",
      "fp=(1/(2*math.pi*math.sqrt(L*C*10**-12))*10**-6)     #parralel tunned frequency in mega hertz\n",
      "\n",
      "#Result\n",
      "print(\"series tunned frequency   = %.3f MHz\"%fs)\n",
      "print(\"parallel tunned frequency = %.4f MHz\"%fp)"
     ],
     "language": "python",
     "metadata": {},
     "outputs": [
      {
       "output_type": "stream",
       "stream": "stdout",
       "text": [
        "series tunned frequency   = 6.497 MHz\n",
        "parallel tunned frequency = 6.5007 MHz\n"
       ]
      }
     ],
     "prompt_number": 35
    },
    {
     "cell_type": "heading",
     "level": 2,
     "metadata": {},
     "source": [
      "Example 7.18, Page No. 491"
     ]
    },
    {
     "cell_type": "code",
     "collapsed": false,
     "input": [
      "# oscillation frequency \n",
      "\n",
      "import math\n",
      "#Variable declaration\n",
      "C=100.0                   # capacitance of tunned circuit in pico farad\n",
      "L1=50.0                   # INDUCTANCE of tunned circuit in micro henry\n",
      "L2=50.0                   # INDUCTANCE of tunned circuit in micro henry\n",
      "\n",
      "#Calculations\n",
      "fo=(1/(2*math.pi*math.sqrt((L1+L2)*10**-6*C*10**-12)))*10**-6          # tunned frequency in mega hertz\n",
      "\n",
      "#Result\n",
      "print(\"Tunned frequency = %.2f MHz\"%fo)"
     ],
     "language": "python",
     "metadata": {},
     "outputs": [
      {
       "output_type": "stream",
       "stream": "stdout",
       "text": [
        "Tunned frequency = 1.59 MHz\n"
       ]
      }
     ],
     "prompt_number": 36
    },
    {
     "cell_type": "heading",
     "level": 2,
     "metadata": {},
     "source": [
      "Example 7.19, Page No.491"
     ]
    },
    {
     "cell_type": "code",
     "collapsed": false,
     "input": [
      "# oscillation frequency \n",
      "\n",
      "import math\n",
      "#Variable declaration\n",
      "C1=120.0             # capacitance of tunned circuit in PICO farad\n",
      "C2=1500.0            # capacitance of tunned circuit in pico farad\n",
      "L=10.0               # INDUCTANCE of tunned circuit in micro henry\n",
      "\n",
      "#Calculation\n",
      "C=(C1*C2)/(C1+C2)    # total capacitance in pico farad\n",
      "fo=(1/(2*math.pi*math.sqrt(L*10**-6*C*10**-12)))*10**-6    # tunned frequency in mega hertz\n",
      "\n",
      "#Result\n",
      "print(\"tunned frequency = %.2f MHz\"%fo)"
     ],
     "language": "python",
     "metadata": {},
     "outputs": [
      {
       "output_type": "stream",
       "stream": "stdout",
       "text": [
        "tunned frequency = 4.77 MHz\n"
       ]
      }
     ],
     "prompt_number": 37
    },
    {
     "cell_type": "heading",
     "level": 2,
     "metadata": {},
     "source": [
      "Example 7.20, Page No.491"
     ]
    },
    {
     "cell_type": "code",
     "collapsed": false,
     "input": [
      "# oscillation frequency \n",
      "\n",
      "import math\n",
      "#Variable declaration\n",
      "C1=120.0            # capacitance of tunned circuit in PICO farad\n",
      "C2=1500.0           # capacitance of tunned circuit in pico farad\n",
      "C3=15.0             # capacitance of tunned circuit in pico farad\n",
      "L=10.0              # INDUCTANCE of tunned circuit in micro henry\n",
      "\n",
      "\n",
      "#Calculations\n",
      "Cx=(C1*C2)/(C1+C2)  # capacitance in pico farad\n",
      "Ct=(Cx*C3)/(Cx+C3)  # total capacitance in pico farad\n",
      "fo=(1/(2*math.pi*math.sqrt(L*10**-6*Ct*10**-12)))*10**-6       # tunned frequency in mega hertz\n",
      "\n",
      "\n",
      "#Result\n",
      "print(\"tunned frequency = %.2f MHz\"%fo)"
     ],
     "language": "python",
     "metadata": {},
     "outputs": [
      {
       "output_type": "stream",
       "stream": "stdout",
       "text": [
        "tunned frequency = 13.84 MHz\n"
       ]
      }
     ],
     "prompt_number": 38
    },
    {
     "cell_type": "heading",
     "level": 2,
     "metadata": {},
     "source": [
      "Example 7.21, Page No.497"
     ]
    },
    {
     "cell_type": "code",
     "collapsed": false,
     "input": [
      "# oscillation frequency \n",
      "\n",
      "import math\n",
      "#Variable declaration\n",
      "C=100.0             # capacitance in pico farad\n",
      "R=800.0             # resistance in killo ohms\n",
      "\n",
      "#Calculations\n",
      "fo=round(1/(2*math.pi*R*10**3*C*10**-12*math.sqrt(6))) # RESONANT FREQUENCY IN HERTZ\n",
      "\n",
      "\n",
      "#Result\n",
      "print(\"Resonant frequency = %.f Hz\"%fo)"
     ],
     "language": "python",
     "metadata": {},
     "outputs": [
      {
       "output_type": "stream",
       "stream": "stdout",
       "text": [
        "Resonant frequency = 812 Hz\n"
       ]
      }
     ],
     "prompt_number": 6
    },
    {
     "cell_type": "heading",
     "level": 2,
     "metadata": {},
     "source": [
      "Example 7.22, Page No.498"
     ]
    },
    {
     "cell_type": "code",
     "collapsed": false,
     "input": [
      "# oscillation frequency \n",
      "\n",
      "import math\n",
      "#Variable declaration\n",
      "w=2*10**3                  # in radiand per second\n",
      "\n",
      "#Calculations\n",
      "f= round(w/(2*math.pi))    # resonant frequency\n",
      "X=(((16*10**9*4*w**2*10**3))/((4*w**2*10**3)**2))\n",
      "\n",
      "#Result\n",
      "print(\"resonant frequency         = %.f Hz\"%f)\n",
      "print(\"oscillations are sustained = %.f\"%X)"
     ],
     "language": "python",
     "metadata": {},
     "outputs": [
      {
       "output_type": "stream",
       "stream": "stdout",
       "text": [
        "resonant frequency         = 318 Hz\n",
        "oscillations are sustained = 1\n"
       ]
      }
     ],
     "prompt_number": 8
    },
    {
     "cell_type": "heading",
     "level": 2,
     "metadata": {},
     "source": [
      "Example 7.23, Page No. 502"
     ]
    },
    {
     "cell_type": "code",
     "collapsed": false,
     "input": [
      "# Design R-C phase shift oscillator\n",
      "\n",
      "import math\n",
      "#Variable declaration\n",
      "fo=1.0                        # resonant frequency in killo hertz\n",
      "Av= 29.0                      # voltage gain\n",
      "Vcc=10.0                      # collector voltage\n",
      "Ib=0.5                        # maximum base current in micro ampere\n",
      "Rf2=180.0                     # standard resistance in killo ohms\n",
      "\n",
      "\n",
      "#Calculations\n",
      "I1=100*Ib                     # assume current in micro ampere\n",
      "Vosat= 0.9*Vcc                # saturation voltage assume\n",
      "V1=Vosat/Av                   # voltage for sustained oscillations\n",
      "R1=(V1/(I1*10**-6))*10**-3    # RESISTANCE IN KILLO PHMS\n",
      "Rf1=Av*R1                     # resistance in killo ohms\n",
      "R3=Rf2 \n",
      "R=R1 \n",
      "C=(1/(2*math.pi*R*10**3*fo*10**3*math.sqrt(6)))*10**6 \n",
      "\n",
      "\n",
      "#Result\n",
      "print(\"Resistance  R1 for the R-C Phase shift oscillator  = %.1f k-ohm\"%R)\n",
      "print(\"Resistance Rf for the R-C Phase shift oscillator   = %.f k-ohm\"%R3)\n",
      "print(\"Capacitance for the R-C Phase shift oscillator     = %.2f micro-F\"%C)"
     ],
     "language": "python",
     "metadata": {},
     "outputs": [
      {
       "output_type": "stream",
       "stream": "stdout",
       "text": [
        "Resistance  R1 for the R-C Phase shift oscillator  = 6.2 k-ohm\n",
        "Resistance Rf for the R-C Phase shift oscillator   = 180 k-ohm\n",
        "Capacitance for the R-C Phase shift oscillator     = 0.01 micro-F\n"
       ]
      }
     ],
     "prompt_number": 41
    },
    {
     "cell_type": "heading",
     "level": 2,
     "metadata": {},
     "source": [
      "Example 7.24, Page No. 502"
     ]
    },
    {
     "cell_type": "code",
     "collapsed": false,
     "input": [
      "# drain resistance and Design R-C phase shift oscillator\n",
      "\n",
      "import math\n",
      "#Variable declaration\n",
      "Mu=55.0\n",
      "rd=5.5                # resistane in killo ohms\n",
      "fo=5.0                # resonant frequency in killo hertz\n",
      "A= 29.0               # voltage gain\n",
      "R=30.0                # assume Resistance in killo ohms\n",
      "\n",
      "\n",
      "#Calculations\n",
      "Rd= (29*rd)/(Mu-A)    # resistance in killo ohms\n",
      "RC=((1/(2*math.pi*fo*10**3*math.sqrt(6)))*10**6) \n",
      "C=(RC*10**-6/(30*10**3)*10**12)\n",
      "\n",
      "\n",
      "#Result\n",
      "print(\"drain resistance                               = %.2f k-ohm\"%Rd)\n",
      "print(\"R-C time constant                              = %.f pico-sec\"%(math.ceil(RC)))\n",
      "print(\"Capacitance for the R-C Phase shift oscillator = %.f pF\"%C)\n",
      "#Answer for capacitance is wrong in the book"
     ],
     "language": "python",
     "metadata": {},
     "outputs": [
      {
       "output_type": "stream",
       "stream": "stdout",
       "text": [
        "drain resistance                               = 6.13 k-ohm\n",
        "R-C time constant                              = 13 pico-sec\n",
        "Capacitance for the R-C Phase shift oscillator = 433 pF\n"
       ]
      }
     ],
     "prompt_number": 48
    },
    {
     "cell_type": "heading",
     "level": 2,
     "metadata": {},
     "source": [
      "Example 7.25, Page No.503"
     ]
    },
    {
     "cell_type": "code",
     "collapsed": false,
     "input": [
      "# Vf/Vo,frequency of oscillations and minimum gain\n",
      "\n",
      "import math\n",
      "#Variable declaration\n",
      "Beta=1.0/29\n",
      "\n",
      "\n",
      "#Calculations\n",
      "VfVo= (Beta+1)\n",
      "\n",
      "\n",
      "#Result\n",
      "print(\"Voltage gain = %f\"%VfVo)\n",
      "print(\"\\nf=1/(2*%pi*R*C*sqrt(6)) frequency of oscillations\")\n",
      "print(\"\\nAs gain is more than one oscillations will be sustained\")"
     ],
     "language": "python",
     "metadata": {},
     "outputs": [
      {
       "output_type": "stream",
       "stream": "stdout",
       "text": [
        "Voltage gain = 1.034483\n",
        "\n",
        "f=1/(2*%pi*R*C*sqrt(6)) frequency of oscillations\n",
        "\n",
        "As gain is more than one oscillations will be sustained\n"
       ]
      }
     ],
     "prompt_number": 49
    },
    {
     "cell_type": "heading",
     "level": 2,
     "metadata": {},
     "source": [
      "Example 7.26, Page No. 510"
     ]
    },
    {
     "cell_type": "code",
     "collapsed": false,
     "input": [
      "# design wein bridge oscillator\n",
      "\n",
      "import math\n",
      "#Variable declaration\n",
      "Vcc=15.0                           # collector voltage\n",
      "f=10.0                             # frequency of oscillation in killo hertz\n",
      "I=1.0                              # current in millo ampere\n",
      "\n",
      "\n",
      "#Calculations\n",
      "Vo=Vcc-1                           # maximum output voltage\n",
      "x=Vo/I                             # resistance in killo ohms\n",
      "R4=x/3                             # resistance in killo ohms\n",
      "R3= 2*R4                           # resistance in killo ohms\n",
      "R4_s = 4.7                         # Standard value\n",
      "R3_s = 10                          # Standard value \n",
      "A= (1+(R3_s/R4_s))                   # amplifier gain\n",
      "R=R4_s                               # resistance in killo ohms\n",
      "C=(1/(2*math.pi*f*10**3*R*10**3))*10**9\n",
      "\n",
      "\n",
      "#Result\n",
      "print(\"Amlifier gain   = %.2f\"%(math.floor(A*100)/100))\n",
      "print(\"resistance R4   = %.1f k-ohm (use 4.7 k-ohm standard value)\"%R)\n",
      "print(\"resistance R3   = %.1f k-ohm (use 10 k-ohm standard value)\"%(math.ceil(R3*10)/10))\n",
      "print(\"Capacitance     = %.2f nF\"%(math.floor(C*100)/100))\n",
      "#print(\"this is name as example 7.27 in the book\" )"
     ],
     "language": "python",
     "metadata": {},
     "outputs": [
      {
       "output_type": "stream",
       "stream": "stdout",
       "text": [
        "Amlifier gain   = 3.12\n",
        "resistance R4   = 4.7 k-ohm (use 4.7 k-ohm standard value)\n",
        "resistance R3   = 9.4 k-ohm (use 10 k-ohm standard value)\n",
        "Capacitance     = 3.38 nF\n"
       ]
      }
     ],
     "prompt_number": 70
    },
    {
     "cell_type": "heading",
     "level": 2,
     "metadata": {},
     "source": [
      "Example 7.27 Page No.511"
     ]
    },
    {
     "cell_type": "code",
     "collapsed": false,
     "input": [
      "# sustained oscillations and output frequency\n",
      "\n",
      "import math\n",
      "#Variable declaration\n",
      "R4=5.1                     # resistance in killo ohms\n",
      "R3=12.0                    # resistance in killo ohms\n",
      "C=1.0                      # capacitance in nano farad\n",
      "\n",
      "#Calculations\n",
      "A= (1+(R3/R4))        # amplifier gain\n",
      "R=R4                       # resistance in killo ohms\n",
      "fo= (1/(2*math.pi*C*10**-9*R*10**3))*10**-3\n",
      "\n",
      "#Result\n",
      "print(\"Amlifier gain is %.2f. It is greater than 1 so circuit will oscillate.\"%A)\n",
      "print(\"Oscillation frequency = %.1f kHz\"%fo)"
     ],
     "language": "python",
     "metadata": {},
     "outputs": [
      {
       "output_type": "stream",
       "stream": "stdout",
       "text": [
        "Amlifier gain is 3.35. It is greater than 1 so circuit will oscillate.\n",
        "Oscillation frequency = 31.2 kHz\n"
       ]
      }
     ],
     "prompt_number": 75
    },
    {
     "cell_type": "heading",
     "level": 2,
     "metadata": {},
     "source": [
      "Example 7.29, Page No.514"
     ]
    },
    {
     "cell_type": "code",
     "collapsed": false,
     "input": [
      "# design wein bridge oscillator\n",
      "\n",
      "import math\n",
      "#Variable declaration\n",
      "Vcc=10.0             # collector voltage\n",
      "f=10.0               # frequency of oscillation in killo hertz\n",
      "I=500.0              # current in micro ampere\n",
      "\n",
      "\n",
      "#Calculations\n",
      "Vo=Vcc-1             # maximum output voltage\n",
      "x=(Vo/I)*10**3       # resistance in killo ohms\n",
      "R4=x/3               # resistance in killo ohms\n",
      "Rf= 2*R4             # resistance in killo ohms\n",
      "R4_s = 5.6           # standard value\n",
      "R=R4_s               # resistance in killo ohms\n",
      "C=(1/(2*math.pi*f*10**3*R*10**3))*10**12\n",
      "\n",
      "#Resulr\n",
      "print(\"Resistance R  = R1 = %.f k-ohm(uswe 5.6k as standard value)\"%R)\n",
      "print(\"resistance Rf = %.f k-ohm\"%Rf)\n",
      "print(\"Capacitance   = %.f nF(use 2700 nF as standard value)\"%C)"
     ],
     "language": "python",
     "metadata": {},
     "outputs": [
      {
       "output_type": "stream",
       "stream": "stdout",
       "text": [
        "Resistance R  = R1 = 6 k-ohm(uswe 5.6k as standard value)\n",
        "resistance Rf = 12 k-ohm\n",
        "Capacitance   = 2842 nF(use 2700 nF as standard value)\n"
       ]
      }
     ],
     "prompt_number": 85
    },
    {
     "cell_type": "heading",
     "level": 2,
     "metadata": {},
     "source": [
      "Example 7.30, Page No.514"
     ]
    },
    {
     "cell_type": "code",
     "collapsed": false,
     "input": [
      "print(\"Theoretical example\")"
     ],
     "language": "python",
     "metadata": {},
     "outputs": [
      {
       "output_type": "stream",
       "stream": "stdout",
       "text": [
        "Theoretical example\n"
       ]
      }
     ],
     "prompt_number": 87
    },
    {
     "cell_type": "heading",
     "level": 2,
     "metadata": {},
     "source": [
      "Example 7.31, Page No.515"
     ]
    },
    {
     "cell_type": "code",
     "collapsed": false,
     "input": [
      "print(\"Theoretical example\")"
     ],
     "language": "python",
     "metadata": {},
     "outputs": []
    },
    {
     "cell_type": "heading",
     "level": 2,
     "metadata": {},
     "source": [
      "Example 7.32, Page No. 517"
     ]
    },
    {
     "cell_type": "code",
     "collapsed": false,
     "input": [
      "# Design R-C phase shift oscillator\n",
      "\n",
      "import math\n",
      "#Variable declaration\n",
      "Vce=5.0                  # in volts\n",
      "RE=1.0                   # emitter reistsance in killo ohms\n",
      "Vbe=0.7                  # in volts\n",
      "Ie=1.0                   # emitter current in mA\n",
      "Re=1.0                   # EMITTER RESISTANCE IN KILLO OHMS\n",
      "f=100.0                  # oscillaor frequency in killo hertz\n",
      "hfe=100.0\n",
      "hie=1.0                  # in killo ohms\n",
      "Vc=5.0                   # in volts\n",
      "Ic=1.0                   # current in mili ampere\n",
      "Vcc=20.0                 # in volts\n",
      "R=10.0                   # resistane in killo ohms\n",
      "\n",
      "#Calculations\n",
      "Rc=(Vcc-Vce-Ie*Re)/(Ic)  # collector resistance in killo ohms is\n",
      "k= Rc/R\n",
      "C= ((1/(2*math.pi*R*10**3*f*10**3*math.sqrt(6+(4*1.4)))))*10**12\n",
      "R3= R-hie                # resistance in kiilo ohms\n",
      "Vb= (Vbe+Ie*Re)          # voltage at base\n",
      "R2=R \n",
      "I2=Vb/R2                 # in mA\n",
      "V2=(Vcc-R2*I2)           # voltage drop across R2\n",
      "IR1= (I2+(1.0/100))      # CURRENT ACROOS R1\n",
      "R1= V2/(IR1) \n",
      "\n",
      "\n",
      "#Result\n",
      "print(\"Emitter resistance   = %.f  k-ohm\"%Re)\n",
      "print(\"collector resistance = %.f k-ohm\"%Rc)\n",
      "print(\"resistance R         = %.f k-ohm\"%R)\n",
      "print(\"Capacitance          = %.1f pF\"%C)\n",
      "print(\"resistance(R3)       = %.f k-ohm\"%R3)\n",
      "print(\"resistance(R2)       = %.f k-ohm\"%R2)\n",
      "print(\"resistance(R1)       = %.f k-ohm\"%R1)\n",
      "#Answer for Resistance (R1) is wrong in the book"
     ],
     "language": "python",
     "metadata": {},
     "outputs": [
      {
       "output_type": "stream",
       "stream": "stdout",
       "text": [
        "Emitter resistance   = 1  k-ohm\n",
        "collector resistance = 14 k-ohm\n",
        "resistance R         = 10 k-ohm\n",
        "Capacitance          = 46.7 pF\n",
        "resistance(R3)       = 9 k-ohm\n",
        "resistance(R2)       = 10 k-ohm\n",
        "resistance(R1)       = 102 k-ohm\n"
       ]
      }
     ],
     "prompt_number": 91
    },
    {
     "cell_type": "heading",
     "level": 2,
     "metadata": {},
     "source": [
      "Example 7.33, Page No.518"
     ]
    },
    {
     "cell_type": "code",
     "collapsed": false,
     "input": [
      "# Design R-C phase shift oscillator\n",
      "\n",
      "import math\n",
      "#Variable declaration\n",
      "rd=40.0                  # resistane in killo ohms\n",
      "fo=1.0                   # resonant frequency in killo hertz\n",
      "gm= 5000.0               # in killo mh\n",
      "R=10.0                   # assume Resistance in killo ohms\n",
      "Av=29.0                  # VOLTAGE GAIN\n",
      "Vdd=12.0                 # drain voltage\n",
      "\n",
      "\n",
      "#Calculations\n",
      "C=((1/(2*math.pi*fo*10**3*R*10**3*math.sqrt(6)))*10**9)# C in nano farad\n",
      "Rl= (Av/gm*10**-6)*10**9 # load resistance in killo ohms\n",
      "Rl = math.ceil(Rl)\n",
      "Rd= ((Rl*rd)/(rd-Rl))    # drain resistance in killo ohms\n",
      "\n",
      "\n",
      "#Result\n",
      "print(\"Drain Resistance                               = %.2f k-ohm\"%Rd)\n",
      "print(\"Capacitance for the R-C Phase shift oscillator = %.1f nF\"%C) "
     ],
     "language": "python",
     "metadata": {},
     "outputs": [
      {
       "output_type": "stream",
       "stream": "stdout",
       "text": [
        "Drain Resistance                               = 7.06 k-ohm\n",
        "Capacitance for the R-C Phase shift oscillator = 6.5 nF\n"
       ]
      }
     ],
     "prompt_number": 96
    },
    {
     "cell_type": "heading",
     "level": 2,
     "metadata": {},
     "source": [
      "Example 7.34, Page No.518"
     ]
    },
    {
     "cell_type": "code",
     "collapsed": false,
     "input": [
      "# design wein bridge oscillator\n",
      "\n",
      "import math\n",
      "#Variable declaration\n",
      "R=100.0                         # ASSUME RESSITANCE IN KILO OHMS\n",
      "fo1=10.0                        # tunned frequency in killo hertz\n",
      "fo2=100.0                       # tunned frequency in  hertz\n",
      "\n",
      "#Calculations\n",
      "C1= (1/(2*math.pi*R*10**3*fo1*10**3))*10**9  # tunned capacitance\n",
      "C2= (1/(2*math.pi*R*10**3*fo2))*10**9        # tunned capacitance\n",
      "\n",
      "#Result\n",
      "print(\"Tunned capacitance C1 range of tunned circuit = %.3f nF\"%C1)\n",
      "print(\"Tunned capacitance C2 range of tunned circuit = %.1f nF\"%C2)\n",
      "#Answer slightly different than book"
     ],
     "language": "python",
     "metadata": {},
     "outputs": [
      {
       "output_type": "stream",
       "stream": "stdout",
       "text": [
        "Tunned capacitance C1 range of tunned circuit = 0.159 nF\n",
        "Tunned capacitance C2 range of tunned circuit = 15.9 nF\n"
       ]
      }
     ],
     "prompt_number": 105
    },
    {
     "cell_type": "heading",
     "level": 2,
     "metadata": {},
     "source": [
      "Example 7.35, Page No. 519 "
     ]
    },
    {
     "cell_type": "code",
     "collapsed": false,
     "input": [
      "# resonant frequency and quality factor\n",
      "\n",
      "import math\n",
      "#Variable declaration\n",
      "Cs=0.06                   # capacitance of tunned circuit in pico farad\n",
      "Ls=0.5                    # series INDUCTANCE of tunned circuit in henry\n",
      "Cp=1.0                    # parallel capacitance in pico farad\n",
      "Rs=5.0                    # SERIES RESISTANCE IN KILLO OHMS\n",
      "\n",
      "#Calculations\n",
      "fs=((1/(2*math.pi*math.sqrt(Ls*Cs*10**-12)))*10**-3)               # series tunned frequency in killo hertz\n",
      "fp=(((1/(2*math.pi))*math.sqrt((1+Cs/Cp)/(Ls*Cs*10**-12)))*10**-3) # parralel tunned frequency in killo hertz\n",
      "Pc= ((fp-fs)/fs)*100      # percentage by which series resonant frequency exceeds the parallel resonant frequency\n",
      "Qs= round((2*math.pi*fs*10**3*Ls)/(Rs*10**3))                           # quality factor with series resonant frequency\n",
      "Qp= round((2*math.pi*fp*10**3*Ls)/(Rs*10**3))                           # quality factor with parallled resonant frequency\n",
      "\n",
      "#Result\n",
      "print(\"Series tunned frequency   = %.1f kHz\"%fs)\n",
      "print(\"Quality factor with series  resonant frequency is %.f\"%Qs)\n",
      "print(\"\\nParallel tunned frequency = %.f kHz\"%fp)\n",
      "print(\"Quality factor with paralled resonant frequency is %.f\"%Qp)"
     ],
     "language": "python",
     "metadata": {},
     "outputs": [
      {
       "output_type": "stream",
       "stream": "stdout",
       "text": [
        "Series tunned frequency   = 918.9 kHz\n",
        "Quality factor with series  resonant frequency is 577\n",
        "\n",
        "Parallel tunned frequency = 946 kHz\n",
        "Quality factor with paralled resonant frequency is 594\n"
       ]
      }
     ],
     "prompt_number": 111
    }
   ],
   "metadata": {}
  }
 ]
}