{
 "metadata": {
  "name": ""
 },
 "nbformat": 3,
 "nbformat_minor": 0,
 "worksheets": [
  {
   "cells": [
    {
     "cell_type": "heading",
     "level": 1,
     "metadata": {},
     "source": [
      "Chapter 4 : Field Effect Transistors and MOSFETs"
     ]
    },
    {
     "cell_type": "heading",
     "level": 2,
     "metadata": {},
     "source": [
      "Example 4.1, Page No. 257"
     ]
    },
    {
     "cell_type": "code",
     "collapsed": false,
     "input": [
      "#  find the drain current\n",
      "\n",
      "import math\n",
      "#variable declaration\n",
      "Idss=15.0            # maximum drain current in mili-ampere\n",
      "VgsOFF=-5.0          # pinch off voltage in volts\n",
      "Vgs1=0.0             # gate source voltage in volts\n",
      "Vgs2=-1.0            # gate source voltage in volts\n",
      "Vgs3=-4.0            # gate source voltage in volts\n",
      "\n",
      "#Calculations\n",
      "Id1=Idss*(1-(Vgs1/VgsOFF))**2\n",
      "Id2=Idss*(1-(Vgs2/VgsOFF))**2\n",
      "Id3=Idss*(1-(Vgs3/VgsOFF))**2\n",
      "\n",
      "#Result\n",
      "print(\"drain current (mA) = %.f\"%Id1)\n",
      "print(\"drain current (mA) = %.1f\"%Id2)\n",
      "print(\"drain current (mA) = %.1f\"%Id3)"
     ],
     "language": "python",
     "metadata": {},
     "outputs": [
      {
       "output_type": "stream",
       "stream": "stdout",
       "text": [
        "drain current (mA) = 15\n",
        "drain current (mA) = 9.6\n",
        "drain current (mA) = 0.6\n"
       ]
      }
     ],
     "prompt_number": 2
    },
    {
     "cell_type": "heading",
     "level": 2,
     "metadata": {},
     "source": [
      "Example 4.2, Page No. 257"
     ]
    },
    {
     "cell_type": "code",
     "collapsed": false,
     "input": [
      "# find the drain current\n",
      "\n",
      "import math\n",
      "#variable declaration\n",
      "Idss=12.0           # maximum drain current in mili-ampere\n",
      "VgsOFF=-20.0        # pinch off voltage in volts\n",
      "Vgs1=0.0            # gate source voltage in volts\n",
      "Vgs2=-5.0           # gate source voltage in volts\n",
      "Vgs3=-10.0          # gate source voltage in volts\n",
      "Vgs4=-15.0          # gate source voltage in volts\n",
      "Vgs5=-20.0          # gate source voltage in volts\n",
      "\n",
      "#Calculations\n",
      "Id1=Idss*(1-(Vgs1/VgsOFF))**2;\n",
      "Id2=Idss*(1-(Vgs2/VgsOFF))**2;\n",
      "Id3=Idss*(1-(Vgs3/VgsOFF))**2;\n",
      "Id4=Idss*(1-(Vgs4/VgsOFF))**2;\n",
      "Id5=Idss*(1-(Vgs5/VgsOFF))**2;\n",
      "\n",
      "#Result\n",
      "print(\"Vgs(V)\\tId(mA)\")\n",
      "print(\"   %.f\\t%.f\"%(Vgs1,Id1))\n",
      "print(\"  %.f \\t%.f\"%(Vgs2,Id2))\n",
      "print(\" %.f \\t%.f\"%(Vgs3,Id3))\n",
      "print(\" %.f \\t%.f\"%(Vgs4,Id4))\n",
      "print(\" %.f \\t%.f\"%(Vgs5,Id5))\n"
     ],
     "language": "python",
     "metadata": {},
     "outputs": [
      {
       "output_type": "stream",
       "stream": "stdout",
       "text": [
        "Vgs(V)\tId(mA)\n",
        "   0\t12\n",
        "  -5 \t7\n",
        " -10 \t3\n",
        " -15 \t1\n",
        " -20 \t0\n"
       ]
      }
     ],
     "prompt_number": 6
    },
    {
     "cell_type": "heading",
     "level": 2,
     "metadata": {},
     "source": [
      "Example 4.3.a, Page No.258"
     ]
    },
    {
     "cell_type": "code",
     "collapsed": false,
     "input": [
      "# Plot the min transconductance curve\n",
      "\n",
      "import math\n",
      "import matplotlib.pyplot as plt\n",
      "% matplotlib inline\n",
      "from array import array\n",
      "#variable declaration\n",
      "#VGS_off=-2 to -6 volt\n",
      "#IDSS=8 to 20 mA\n",
      "#Formula : ID=IDSS*[1-VGS/VGS_off]^2\n",
      "#Let take some values for plotting\n",
      "IDSS=8.0                                       # in mA\n",
      "VGS= array(\"f\", [0, -0.5, -1.0, -1.5, -2.0])   #in Volt\n",
      "VGS_off=-2        # in Volt\n",
      "ID=array(\"f\")\n",
      "print(\" Minimum Transcunductance Values:\\n Vgs \\t Id\")\n",
      "for i in range(0,5):\n",
      "    ID.append(IDSS*(1-VGS[i]/VGS_off)**2)\n",
      "    print(\"%.1f \\t%.1f\"%(VGS[i],ID[i]))\n",
      "    \n",
      "plt.plot(VGS,ID)\n",
      "plt.title(\" Minimum Transconductance Curve\")\n",
      "plt.xlabel(\"Gate to source voltage (Vgs)\")\n",
      "plt.ylabel(\"Drain current in milli ampere(Id)\")\n",
      "plt.show()"
     ],
     "language": "python",
     "metadata": {},
     "outputs": [
      {
       "output_type": "stream",
       "stream": "stdout",
       "text": [
        " Minimum Transcunductance Values:\n",
        " Vgs \t Id\n",
        "0.0 \t8.0\n",
        "-0.5 \t4.5\n",
        "-1.0 \t2.0\n",
        "-1.5 \t0.5\n",
        "-2.0 \t0.0\n"
       ]
      },
      {
       "metadata": {},
       "output_type": "display_data",
       "png": "[encoded data removed]",
       "text": [
        "<matplotlib.figure.Figure at 0x53373c8>"
       ]
      }
     ],
     "prompt_number": 7
    },
    {
     "cell_type": "heading",
     "level": 2,
     "metadata": {},
     "source": [
      "Example 4.3.b, Page No.258"
     ]
    },
    {
     "cell_type": "code",
     "collapsed": false,
     "input": [
      "# Plot the max transconductance curve\n",
      "\n",
      "import math\n",
      "import matplotlib.pyplot as plt\n",
      "% matplotlib inline\n",
      "from array import array\n",
      "#variable declaration\n",
      "#VGS_off=-2 to -6 volt\n",
      "#IDSS=8 to 20 mA\n",
      "#Formula : ID=IDSS*[1-VGS/VGS_off]^2\n",
      "#Let take some values for plotting\n",
      "IDSS=20.0                                      # in mA\n",
      "VGS= array(\"f\", [0, -2.0, -4.0, -6.0])         #in Volt\n",
      "VGS_off=-6        # in Volt\n",
      "ID=array(\"f\")\n",
      "print(\" Maximum Transcunductance Values:\\n Vgs \\t Id\")\n",
      "for i in range(0,4):\n",
      "    ID.append(IDSS*(1-VGS[i]/VGS_off)**2)\n",
      "    print(\"%.1f \\t%.1f\"%(VGS[i],ID[i]))\n",
      "    \n",
      "plt.plot(VGS,ID)\n",
      "plt.title(\" Maximum Transconductance Curve\")\n",
      "plt.xlabel(\"Gate to source voltage (Vgs)\")\n",
      "plt.ylabel(\"Drain current in milli ampere(Id)\")\n",
      "plt.show()\n",
      "#Drain current value correspond to Vgs = -4 is wrong in the book."
     ],
     "language": "python",
     "metadata": {},
     "outputs": [
      {
       "output_type": "stream",
       "stream": "stdout",
       "text": [
        " Maximum Transcunductance Values:\n",
        " Vgs \t Id\n",
        "0.0 \t20.0\n",
        "-2.0 \t8.9\n",
        "-4.0 \t2.2\n",
        "-6.0 \t0.0\n"
       ]
      },
      {
       "metadata": {},
       "output_type": "display_data",
       "png": "[encoded data removed]",
       "text": [
        "<matplotlib.figure.Figure at 0x8c9c5f8>"
       ]
      }
     ],
     "prompt_number": 10
    },
    {
     "cell_type": "heading",
     "level": 2,
     "metadata": {},
     "source": [
      "Example 4.4, Page No. 261"
     ]
    },
    {
     "cell_type": "code",
     "collapsed": false,
     "input": [
      "# drain current and transconductance\n",
      "\n",
      "import math\n",
      "#variable declaration\n",
      "Idss=20.0                   # maximum drain current in mili-ampere\n",
      "Vp=-8.0                     # pintc off voltage in volts\n",
      "gmo=5000.0                  # in micro seconds\n",
      "Vgs=-4.0                    # gate to source voltage in volts\n",
      "\n",
      "#Calculations\n",
      "Id=Idss*(1-(Vgs/Vp))**2\n",
      "gm=gmo*(1-(Vgs/Vp));\n",
      "\n",
      "#Result\n",
      "print(\"drain current (mA) = %.f\"%Id)\n",
      "print(\"transconductance (micro-second) = %.f\"%gm)"
     ],
     "language": "python",
     "metadata": {},
     "outputs": [
      {
       "output_type": "stream",
       "stream": "stdout",
       "text": [
        "drain current (mA) = 5\n",
        "transconductance (micro-second) = 2500\n"
       ]
      }
     ],
     "prompt_number": 31
    },
    {
     "cell_type": "heading",
     "level": 2,
     "metadata": {},
     "source": [
      "Example 4.5, Page No.279"
     ]
    },
    {
     "cell_type": "code",
     "collapsed": false,
     "input": [
      "# drain resisitance\n",
      "\n",
      "import math\n",
      "#variable declaration\n",
      "Id=0.4             #drain current in mili-ampere\n",
      "Vd=1.0             #drain voltage in volts\n",
      "Vs=-5.0            #dc voltage in volts\n",
      "Vss=-3.0           #dc voltage in volts\n",
      "Vdd=5.0            #dc voltage in volts\n",
      "MuCox=20.0         #in micro-ampere/volts\n",
      "W=400.0            #in micro-metre\n",
      "l=10.0             # in micro-metre\n",
      "\n",
      "#Calculations\n",
      "Id=((1.0/2)*(MuCox)*(W/l))\n",
      "Rs=(Vss-Vs)/(Id*10**-3)\n",
      "Rd=(Vdd-Vd)/(Id*10**-3)\n",
      "\n",
      "#Result\n",
      "print(\"The values of the resistances are as follows : \")\n",
      "print(\"Resistance Rs is %.f K-ohm\"%Rs)\n",
      "print(\"Resistance Rd is %.f K-ohm\"%Rd);\n"
     ],
     "language": "python",
     "metadata": {},
     "outputs": [
      {
       "output_type": "stream",
       "stream": "stdout",
       "text": [
        "The values of the resistances are as follows : \n",
        "Resistance Rs is 5 K-ohm\n",
        "Resistance Rd is 10 K-ohm\n"
       ]
      }
     ],
     "prompt_number": 11
    },
    {
     "cell_type": "heading",
     "level": 2,
     "metadata": {},
     "source": [
      "Example 4.6, Page No. 279"
     ]
    },
    {
     "cell_type": "code",
     "collapsed": false,
     "input": [
      "# drain resisitance\n",
      "\n",
      "import math\n",
      "#variable declaration\n",
      "Vdd=10.0                 # in volt\n",
      "ID=0.4                   # in mA\n",
      "mu_nCox=20.0             # in uA/V^2\n",
      "W=100.0                  # in um\n",
      "L=10.0                   # in um\n",
      "Vt=2.0                   # in Volt\n",
      "\n",
      "#Calculations\n",
      "#Formula : ID=mu_n*Cox*W*(VGS-Vt)^2/(2*L)\n",
      "VGS=math.sqrt(2*L*ID/(mu_nCox*10**-3*W))+(Vt)\n",
      "Vd=VGS\n",
      "R=(Vdd-Vd)/ID\n",
      "\n",
      "#Result\n",
      "print(\"Drain resistance is %.f k-ohm\"%R)"
     ],
     "language": "python",
     "metadata": {},
     "outputs": [
      {
       "output_type": "stream",
       "stream": "stdout",
       "text": [
        "Drain resistance is 15 k-ohm\n"
       ]
      }
     ],
     "prompt_number": 13
    },
    {
     "cell_type": "heading",
     "level": 2,
     "metadata": {},
     "source": [
      "Example 4.7, Page No. 280"
     ]
    },
    {
     "cell_type": "code",
     "collapsed": false,
     "input": [
      "# drain to source resisitance\n",
      "\n",
      "import math\n",
      "#variable declaration\n",
      "Vdd=5.0                  #in volt\n",
      "knwl=1.0                 #in mA/V^2\n",
      "Vd=0.1                   #drain voltage\n",
      "Vt=1.0                   #in Volt\n",
      "\n",
      "#Calculations\n",
      "Id=Vt*((Vdd-Vt)*Vd- (1.0/2)*0.01)   #drain current in milli ampere\n",
      "Rd=(Vdd-Vd)/Id                    #resistance in killo ohms\n",
      "Rds= Vd/Id                        #resistance in killo ohms\n",
      "\n",
      "#Result\n",
      "print(\"Effective drain to source  resistance is %.f ohm\"%(Rds*1000))"
     ],
     "language": "python",
     "metadata": {},
     "outputs": [
      {
       "output_type": "stream",
       "stream": "stdout",
       "text": [
        "Effective drain to source  resistance is 253 ohm\n"
       ]
      }
     ],
     "prompt_number": 20
    },
    {
     "cell_type": "heading",
     "level": 2,
     "metadata": {},
     "source": [
      "Example 4.8, Page No. 280"
     ]
    },
    {
     "cell_type": "code",
     "collapsed": false,
     "input": [
      "# Analyse the circuit\n",
      "\n",
      "import math\n",
      "#variable declaration\n",
      "Vdd=10.0                 #in volt\n",
      "ID=0.4                   #in mA\n",
      "knwl=1.0                 #in mA/V^2\n",
      "Vg=5.0                   #gate voltage in volys\n",
      "Vt=1.0                   #in Volt\n",
      "Rd=6.0                   #drain resistance in killo ohms\n",
      "Id=0.5                   #in mA after solving the qudratic equation\n",
      "\n",
      "#Calaculations\n",
      "Vs= Id*Rd                #source voltage in volts\n",
      "Vd= Vdd-Rd*Id            #drain voltage in volts\n",
      "Vgs= Vg-Rd*Id            #gate to source voltage in volts\n",
      "\n",
      "#Result\n",
      "print(\"source voltage         = %.f V\"%Vs)\n",
      "print(\"drain voltage          = %.f V\"%Vd)\n",
      "print(\"gate to source voltage = %.f V\"%Vgs)\n",
      "print(\"drain current          = %.1f mA\"%Id)\n",
      "print(\"\\nAs Vd>Vg-Vt, the transistor is operating at saturation as initially assumed.\")"
     ],
     "language": "python",
     "metadata": {},
     "outputs": [
      {
       "output_type": "stream",
       "stream": "stdout",
       "text": [
        "source voltage         = 3 V\n",
        "drain voltage          = 7 V\n",
        "gate to source voltage = 2 V\n",
        "drain current          = 0.5 mA\n",
        "\n",
        "As Vd>Vg-Vt, the transistor is operating at saturation as initially assumed.\n"
       ]
      }
     ],
     "prompt_number": 22
    },
    {
     "cell_type": "heading",
     "level": 2,
     "metadata": {},
     "source": [
      "Example 4.9, Page No.281"
     ]
    },
    {
     "cell_type": "code",
     "collapsed": false,
     "input": [
      "# drain resisitance\n",
      "\n",
      "import math\n",
      "#variable declaration\n",
      "Vdd=5.0                #in volt\n",
      "Id=0.5                 #in mA\n",
      "knwl=1.0               #in mA/V^2\n",
      "Vt=-1.0                #in Volt\n",
      "\n",
      "#Calcualtions\n",
      "#Formula : ID=mu_n*Cox*W*(VGS-Vt)^2/(2*L)\n",
      "VGS=math.sqrt((2*Id/knwl))+(Vt)\n",
      "Vd=3\n",
      "Rd1=Vd/Id              #drain resistance in killo ohms\n",
      "Vdm= Vd-Vt             #saturation mode operation\n",
      "Rd2=Vdm/Id             #drain resistance in killo ohms\n",
      "\n",
      "#Result\n",
      "print(\"Drain resistance is %.f k-ohm\"%Rd1)\n",
      "print(\"Largest value of drain resistance maintaining saturation-region is %.f k-ohm\"%Rd2)"
     ],
     "language": "python",
     "metadata": {},
     "outputs": [
      {
       "output_type": "stream",
       "stream": "stdout",
       "text": [
        "Drain resistance is 6 k-ohm\n",
        "Largest value of drain resistance maintaining saturation-region is 8 k-ohm\n"
       ]
      }
     ],
     "prompt_number": 26
    },
    {
     "cell_type": "heading",
     "level": 2,
     "metadata": {},
     "source": [
      "Example 4.10, Page No.282"
     ]
    },
    {
     "cell_type": "code",
     "collapsed": false,
     "input": [
      "# channel width to channel length ratio and drain resisitance\n",
      "\n",
      "import math\n",
      "#variable declaration\n",
      "Id=100.0            # drain current in micro-ampere\n",
      "kn=20.0             # in micro-ampere per volt^2\n",
      "Vt=-1.0             # in volts\n",
      "Vgs=0.0             # gate source voltage in volts\n",
      "Vdd=5.0             # dc voltage in volts\n",
      "Vd=1.0              # drain voltage in volts\n",
      "\n",
      "#Calculations\n",
      "wl=(2*Id/(kn*(Vgs-Vt)**2))\n",
      "Rd=(Vdd-Vd)/(Id*10**-3)\n",
      "\n",
      "#Result\n",
      "print(\"channel width to channel ratio (W/L) = %.f\"%wl)\n",
      "print(\"drain resistance (in k-ohm)          = %.f\"%Rd)\n",
      "print(\"\\nRd can vary in the range 0 to 40 k-ohm\")"
     ],
     "language": "python",
     "metadata": {},
     "outputs": [
      {
       "output_type": "stream",
       "stream": "stdout",
       "text": [
        "channel width to channel ratio (W/L) = 10\n",
        "drain resistance (in k-ohm)          = 40\n",
        "\n",
        "Rd can vary in the range 0 to 40 k-ohm\n"
       ]
      }
     ],
     "prompt_number": 30
    },
    {
     "cell_type": "heading",
     "level": 2,
     "metadata": {},
     "source": [
      "Example 4.11, Page No. 282"
     ]
    },
    {
     "cell_type": "code",
     "collapsed": false,
     "input": [
      "# drain to source resisitance\n",
      "\n",
      "import math\n",
      "#variable declaration\n",
      "Vdd=10.0                     # in volt\n",
      "knwl=1.0                     # in mA/V^2\n",
      "Vd=0.1                       # drain voltage\n",
      "Vt=-1.0                      # in Volt\n",
      "\n",
      "#Calculations\n",
      "Id=1*((-Vt)*Vd- (1.0/2)*0.01)# drain current in milli ampere\n",
      "Rd=(Vdd-Vd)/Id               # resistance in killo ohms\n",
      "Rds= Vd/Id                   # resistance in killo ohms\n",
      "print(\"Drain to source resistance is %.f k-ohm\"%Rds)"
     ],
     "language": "python",
     "metadata": {},
     "outputs": [
      {
       "output_type": "stream",
       "stream": "stdout",
       "text": [
        "Drain to source resistance is 1 k-ohm\n"
       ]
      }
     ],
     "prompt_number": 32
    },
    {
     "cell_type": "heading",
     "level": 2,
     "metadata": {},
     "source": [
      "Example 4.12, Page No.287"
     ]
    },
    {
     "cell_type": "code",
     "collapsed": false,
     "input": [
      "# input resistance\n",
      "\n",
      "import math\n",
      "#variable declaration\n",
      "Vdd=15.0              # in volt\n",
      "knwl=0.25             # in mA/V^2\n",
      "Va=50.0               # voltage\n",
      "Vt=1.5                # in Volt\n",
      "Id=1.06               # drain current in milli ampre\n",
      "Vd= 4.4               # drain oltage in volt\n",
      "Rd=10.0               # drain resistance in killo ohms\n",
      "Rg=10.0               # gate resistance in killo ohms\n",
      "Rl=10.0               # load resistance in killo ohms\n",
      "Ii=4.3                # input current in milli ampere\n",
      "\n",
      "#Calculations\n",
      "Vgs=Vd\n",
      "gm=knwl*(Vgs-Vt)      # transconductance in mA/V\n",
      "ro=Va/Id              # output resistance in killo ohms\n",
      "x=(Rd*Rl)/(Rd+Rl)\n",
      "Av= -gm*((x*ro)/(x+ro))\n",
      "Ri= Rg/Ii             # input resistance in mega ohms\n",
      "\n",
      "print(\"Input resistance (Rin) = %.2f Mega-ohm\"%Ri)"
     ],
     "language": "python",
     "metadata": {},
     "outputs": [
      {
       "output_type": "stream",
       "stream": "stdout",
       "text": [
        "Input resistance (Rin) = 2.33 Mega-ohm\n"
       ]
      }
     ],
     "prompt_number": 34
    }
   ],
   "metadata": {}
  }
 ]
}