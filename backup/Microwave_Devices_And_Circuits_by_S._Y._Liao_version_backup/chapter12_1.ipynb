{
 "metadata": {
  "name": "",
  "signature": "sha256:42d86d5030cb7af5167c471492c57f534a48d490cc24eff677c0d5dc87c361e3"
 },
 "nbformat": 3,
 "nbformat_minor": 0,
 "worksheets": [
  {
   "cells": [
    {
     "cell_type": "heading",
     "level": 1,
     "metadata": {},
     "source": [
      "Chapter12:MONOLITHIC MICROWAVE INTEGRATED CIRCUITS"
     ]
    },
    {
     "cell_type": "heading",
     "level": 2,
     "metadata": {},
     "source": [
      "Eg12.4.1:pg-534"
     ]
    },
    {
     "cell_type": "code",
     "collapsed": false,
     "input": [
      "#calculate the planar resistance\n",
      "l=10*(10**-3)     #resistive film length in meter\n",
      "ps=2.44*(10**-8)  #sheet resistivity of gold film in ohms-meter\n",
      "w=10*(10**-3)     #resistive film width in meter\n",
      "t=0.1*(10**-6)     #resistive fim thickness in meter\n",
      "R=(l*ps)/(w*t) \n",
      "print\"The planar resistance(in ohms/square)is =\",round(R,3),\"ohms/square\""
     ],
     "language": "python",
     "metadata": {},
     "outputs": [
      {
       "output_type": "stream",
       "stream": "stdout",
       "text": [
        "The planar resistance(in ohms/square)is = 0.244 ohms/square\n"
       ]
      }
     ],
     "prompt_number": 7
    },
    {
     "cell_type": "heading",
     "level": 2,
     "metadata": {},
     "source": [
      "Eg12.4.2:pg-536"
     ]
    },
    {
     "cell_type": "code",
     "collapsed": false,
     "input": [
      "#compute the inductance\n",
      "n=5   #number of turns\n",
      "w=50  #film width in mils\n",
      "s=100 #separation in mils\n",
      "d0=2.5*n*(w+s) \n",
      "L=0.03125*(n**2)*d0 \n",
      "print\"The inductance(in (nH/mil))is =\",round(L,2),\"nH/mil\""
     ],
     "language": "python",
     "metadata": {},
     "outputs": [
      {
       "output_type": "stream",
       "stream": "stdout",
       "text": [
        "The inductance(in (nH/mil))is = 1464.84 nH/mil\n"
       ]
      }
     ],
     "prompt_number": 6
    },
    {
     "cell_type": "heading",
     "level": 2,
     "metadata": {},
     "source": [
      "Eg12.4.3:pg=537"
     ]
    },
    {
     "cell_type": "code",
     "collapsed": false,
     "input": [
      "#compute the capacitance\n",
      "N=8         #number of fingers\n",
      "er=13.10    #relative dielectric constant of GaAs\n",
      "h=0.254     #substarte height in cm\n",
      "l=0.00254   #finger length in cm\n",
      "w=0.051     #finger base width in cm\n",
      "A1=0.089    #contribution of interior finger for h>w in pF/cm\n",
      "A2=0.1      #contribution of two external fingers for h>w in pF/cm\n",
      "C=((er+1)*l*((A1*(N-3))+A2))/w \n",
      "print\"The Capacitance(in (pF/cm)is =\",round(C,3),\"pF/cm\"  #calculation mistake in book"
     ],
     "language": "python",
     "metadata": {},
     "outputs": [
      {
       "output_type": "stream",
       "stream": "stdout",
       "text": [
        "The Capacitance(in (pF/cm)is = 0.383 pF/cm\n"
       ]
      }
     ],
     "prompt_number": 5
    }
   ],
   "metadata": {}
  }
 ]
}