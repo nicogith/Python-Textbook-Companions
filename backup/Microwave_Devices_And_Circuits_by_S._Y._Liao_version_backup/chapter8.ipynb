{
 "metadata": {
  "name": "",
  "signature": "sha256:d1145daae7a009dc147f6efee5af89bfe5d87a34b4299d2e73cdea767a001b6c"
 },
 "nbformat": 3,
 "nbformat_minor": 0,
 "worksheets": [
  {
   "cells": [
    {
     "cell_type": "heading",
     "level": 1,
     "metadata": {},
     "source": [
      "Chapter8:AVALANCHE TRANSIT-TIME DEVICES"
     ]
    },
    {
     "cell_type": "heading",
     "level": 2,
     "metadata": {},
     "source": [
      "Eg8.2.1:pg-331"
     ]
    },
    {
     "cell_type": "code",
     "collapsed": false,
     "input": [
      "#(a)Calculate the maximum CW power\n",
      "n=0.15             #efficiency\n",
      "Vomax=100          #maximum operating voltage in volt\n",
      "Iomax=200*(10**-3) #maximum operating current in ampere\n",
      "Pdc=Vomax*Iomax \n",
      "P=n*Pdc \n",
      "print\"The maximum CW power(in Watts)is =\",int(P),\"W\"\n",
      "\n",
      "#(b) Calculate the resonant frequency\n",
      "L=6*(10**-6)      #drift-region Length in meter\n",
      "vd=2*(10**5)      #carrier drift velocity in m/s\n",
      "f=vd/(2*L) \n",
      "f=f/(10**9)  #in GHz\n",
      "print\"The resonant frequency(in GHz)is =\",round(f,2),\"GHz\""
     ],
     "language": "python",
     "metadata": {},
     "outputs": [
      {
       "output_type": "stream",
       "stream": "stdout",
       "text": [
        "The maximum CW power(in Watts)is = 3 W\n",
        "The resonant frequency(in GHz)is = 16.67 GHz\n"
       ]
      }
     ],
     "prompt_number": 1
    },
    {
     "cell_type": "heading",
     "level": 2,
     "metadata": {},
     "source": [
      "Eg8.3.1:pg-334"
     ]
    },
    {
     "cell_type": "code",
     "collapsed": false,
     "input": [
      "#calculate the avalanche-zone velocity\n",
      "J=20*(10**3)     #current density in A/cm**2\n",
      "q=1.6*(10**-19)  #charge of electron in C\n",
      "NA=2*(10**15)    #Doping Concentration in /cm**3\n",
      "vs=J/(q*NA) \n",
      "print\"Avalanche-zone velocity(in cm/s)is =\",\"{:.2e}\".format(vs),\"cm/s\"\n",
      "\n",
      "print('This means that the avalanch-zone velocity is much larger than the scattering-limited velocity') "
     ],
     "language": "python",
     "metadata": {},
     "outputs": [
      {
       "output_type": "stream",
       "stream": "stdout",
       "text": [
        "Avalanche-zone velocity(in cm/s)is = 6.25e+07 cm/s\n",
        "This means that the avalanch-zone velocity is much larger than the scattering-limited velocity\n"
       ]
      }
     ],
     "prompt_number": 2
    },
    {
     "cell_type": "heading",
     "level": 2,
     "metadata": {},
     "source": [
      "Eg8.4.1:pg-338"
     ]
    },
    {
     "cell_type": "code",
     "collapsed": false,
     "input": [
      "#(a) Calculate the break down voltage\n",
      "q=1.6*(10**-19)   #charge of electron\n",
      "N=2.8*(10**21)    #Donor Concentration /m**3\n",
      "L=6*(10**-6)      #silicon length in meter\n",
      "er=11.8           #Relative dielectric constant of silicon\n",
      "es=8.854*(10**-12)*er #permittivity of silicon in F/m\n",
      "Vbd=(q*N*(L**2))/es \n",
      "print\"The break down voltage(in Volts) is =\",round(Vbd,2),\"V\" \n",
      "\n",
      "#(b)Calculate the break down electric field\n",
      "Ebd=Vbd/L \n",
      "print\"the break down electric field is =\",\"{:.3e}\".format(Ebd),\"V/m =\",\"{:.3e}\".format(Ebd/100),\"V/cm\" "
     ],
     "language": "python",
     "metadata": {},
     "outputs": [
      {
       "output_type": "stream",
       "stream": "stdout",
       "text": [
        "The break down voltage(in Volts) is = 154.37 V\n",
        "the break down electric field is = 2.573e+07 V/m = 2.573e+05 V/cm\n"
       ]
      }
     ],
     "prompt_number": 3
    },
    {
     "cell_type": "heading",
     "level": 2,
     "metadata": {},
     "source": [
      "Eg8.5.1:pg-346"
     ]
    },
    {
     "cell_type": "code",
     "collapsed": false,
     "input": [
      "import math\n",
      "#(a)Calculate the power gain in decibels\n",
      "R=25             #R=f0/fs ,ratio of output frequency over signal frequency\n",
      "yQ=10            #figure of merit\n",
      "x=((yQ)**2)/R \n",
      "PG=(R*x)/((1+sqrt(1+x))**2) \n",
      "PG=10*math.log10(PG)  #calculating in dB\n",
      "print\"The power gain (in dB)is =\",round(PG,3),\"dB\" \n",
      "\n",
      "#(b)Calculate the noise figure in decibels\n",
      "\n",
      "Td=350          #Diode temperature in degree Kelvin\n",
      "To=300          #ambient Temperature in degree Kelvin\n",
      "F=1+(((2*Td)/To)*((1.0/yQ)+(1.0/yQ**2)))\n",
      "F=10*log10(F)   #calculating in dB\n",
      "print\"The noise figure (in dB)is =\",int(round(F)),\"dB\"\n",
      "\n",
      "#(c)Calculate the band width\n",
      "y=0.4            #factor of merit figure\n",
      "BW=2*y*sqrt(R)   #R=fo/fs\n",
      "print\"The band width is =\",int(BW)"
     ],
     "language": "python",
     "metadata": {},
     "outputs": [
      {
       "output_type": "stream",
       "stream": "stdout",
       "text": [
        "The power gain (in dB)is = 9.8 dB\n",
        "The noise figure (in dB)is = 1 dB\n",
        "The band width is = 4\n"
       ]
      }
     ],
     "prompt_number": 5
    }
   ],
   "metadata": {}
  }
 ]
}