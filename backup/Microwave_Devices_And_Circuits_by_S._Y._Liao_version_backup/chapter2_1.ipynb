{
 "metadata": {
  "name": "",
  "signature": "sha256:46a30d2a44b077ff88f5e1c8bffb3b3b94d68ba590ab05a9fbab03c747f2c214"
 },
 "nbformat": 3,
 "nbformat_minor": 0,
 "worksheets": [
  {
   "cells": [
    {
     "cell_type": "heading",
     "level": 1,
     "metadata": {},
     "source": [
      "Chapter2:ELECTROMAGNETIC PLANE WAVES"
     ]
    },
    {
     "cell_type": "heading",
     "level": 2,
     "metadata": {},
     "source": [
      "Ex2.6.5:pg-69"
     ]
    },
    {
     "cell_type": "code",
     "collapsed": false,
     "input": [
      "import math                               \n",
      "#(a) Program to find gold-film surface resistance \n",
      "t=80*(10**(-10))                             #Film Thickness meter\n",
      "o=4.1*(10**7)                                #Bulk conductivity in mhos/m                                                                                                                \n",
      "p=570*(10**(-10))                            #Electron mean free path meter                                                                                                           \n",
      "of=((3*t*o)/(4*p))*(0.4228 + math.log(p/t))  #the gold-film conductivity is of=(3*t*o/4*p)*(0.4228 + ln(p/t)) \n",
      "Rs=1/(t*of)                                  #the gold-film surface resistance is given by Rs=1/(t*of) in Ohms per square\n",
      "print\"The gold film surface resistance in Ohms per square is=\",round(Rs,2),\"Ohms/square\"\n",
      "\n",
      "\n",
      "#(b) Program to find the microwave attenuation \n",
      "Attenuation=40-20*log10(Rs)                  #Microwave attenuation  \n",
      "print\"Microwave Attenuation in db is=\",int(Attenuation),\"db\"\n",
      "\n",
      "#(c)Light transmittance T\n",
      "print\"The LIGHT TRANSMITTANCE T is estimated to be 75%\"\n",
      "\n",
      "#(d)light reflection loss R\n",
      "print\"The LIGHT REFLECTION LOSS R is about 25%\"                                                             "
     ],
     "language": "python",
     "metadata": {},
     "outputs": [
      {
       "output_type": "stream",
       "stream": "stdout",
       "text": [
        "The gold film surface resistance in Ohms per square is= 12.14 Ohms/square\n",
        "Microwave Attenuation in db is= 18 db\n",
        "The LIGHT TRANSMITTANCE T is estimated to be 75%\n",
        "The LIGHT REFLECTION LOSS R is about 25%\n"
       ]
      }
     ],
     "prompt_number": 1
    },
    {
     "cell_type": "heading",
     "level": 2,
     "metadata": {},
     "source": [
      "Ex2.6.6:pg-74"
     ]
    },
    {
     "cell_type": "code",
     "collapsed": false,
     "input": [
      "              \n",
      "import math                           \n",
      "#(a) Program to find copper-film surface resistance \n",
      "t=60*(10**(-10))                             #Film Thickness meter\n",
      "o=5.8*(10**7)                                #Bulk conductivity in mhos/m                                                                                                                 \n",
      "p=420*(10**(-10))                            #Electron mean free path  in meter                                                                                                          \n",
      "of=((3*t*o)/(4*p))*(0.4228 + math.log(p/t))  #the copper-film conductivity is of=(3*t*o/4*p)*(0.4228 + ln(p/t))\n",
      "Rs=1/(t*of)                                  #the copper-film surface resistance is given by Rs=1/(t*of) in Ohms per square\n",
      "\n",
      "print\"The copper-film surface resistance in Ohms per square is=\",round(Rs,2),\"Ohms/square\"\n",
      "\n",
      "\n",
      "#(b) Program to find the microwave attenuation \n",
      "\n",
      "Attenuation=40-20*log10(Rs)                  #Microwave attenuation  \n",
      "\n",
      "print\"Microwave Attenuation in db is=\",int(round(Attenuation)),\"db\"\n",
      "\n",
      "#(c)Light transmittance T\n",
      "\n",
      "print\"The LIGHT TRANSMITTANCE T is estimated to be 82%\"\n",
      "\n",
      "#(d)light reflection loss R\n",
      "\n",
      "print\"The LIGHT REFLECTION LOSS R is about 18%\""
     ],
     "language": "python",
     "metadata": {},
     "outputs": [
      {
       "output_type": "stream",
       "stream": "stdout",
       "text": [
        "The copper-film surface resistance in Ohms per square is= 11.32 Ohms/square\n",
        "Microwave Attenuation in db is= 19 db\n",
        "The LIGHT TRANSMITTANCE T is estimated to be 82%\n",
        "The LIGHT REFLECTION LOSS R is about 18%\n"
       ]
      }
     ],
     "prompt_number": 2
    }
   ],
   "metadata": {}
  }
 ]
}