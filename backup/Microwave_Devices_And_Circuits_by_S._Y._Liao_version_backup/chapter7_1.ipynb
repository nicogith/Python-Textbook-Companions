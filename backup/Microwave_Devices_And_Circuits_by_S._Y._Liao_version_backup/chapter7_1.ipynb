{
 "metadata": {
  "name": "",
  "signature": "sha256:a04d8bca9534fb9597d80a980e2f1b54e0ff54b9697a6bc1d33eb2c967636be8"
 },
 "nbformat": 3,
 "nbformat_minor": 0,
 "worksheets": [
  {
   "cells": [
    {
     "cell_type": "heading",
     "level": 1,
     "metadata": {},
     "source": [
      "Chapter7:TRANSFERRED ELECTRON DEVICES(TEDs)"
     ]
    },
    {
     "cell_type": "heading",
     "level": 2,
     "metadata": {},
     "source": [
      "Eg7.2.1:pg-294"
     ]
    },
    {
     "cell_type": "code",
     "collapsed": false,
     "input": [
      "#Calculate the conductivity of the diode\n",
      "e=1.6*(10**-19)      #charge of electron in C\n",
      "nl=(10**10)*(10**6)  #electron density at lower valley in /m**3\n",
      "nu=(10**8)*(10**6)   #electron density at upper valley in /m**3\n",
      "ul=8000*(10**-4)     #electron mobility at lower valley in m2/V-sec\n",
      "uu=180*(10**-4)      #electron mobility at upper valley in m2/V-sec\n",
      "o=e*((nl*ul)+(nu*uu)) \n",
      "o=o*1000             #in milli mhos\n",
      "print\"The conductivity of the diode(in mmhos)is=\",round(o,2),\"mmhos\" "
     ],
     "language": "python",
     "metadata": {},
     "outputs": [
      {
       "output_type": "stream",
       "stream": "stdout",
       "text": [
        "the conductivity of the diode(in mmhos)is= 1.28 mmhos\n"
       ]
      }
     ],
     "prompt_number": 1
    },
    {
     "cell_type": "heading",
     "level": 2,
     "metadata": {},
     "source": [
      "Eg7.2.2:pg-298"
     ]
    },
    {
     "cell_type": "code",
     "collapsed": false,
     "input": [
      "#(a)Calculate the electron drift velocity\n",
      "q=1.6*(10**-19) #charge of electron in C\n",
      "f=10*(10**9)    #operating frequency in Hertz\n",
      "L=10*(10**-6)   #Device Length in meter\n",
      "vd=f*L \n",
      "print\"The electron drift velocity is =\",\"{:.0e}\".format(vd),\"m/s\",\"{:.0e}\".format(vd*100),\"cm/s\"\n",
      "\n",
      "#(b)Calculate the current density\n",
      "n=2*(10**14)*(10**6) \n",
      "J=q*n*vd \n",
      "print\"The current density is =\",\"{:.1e}\".format(J),\"A/m2 =\",int(round(J/(10**4))),\"A/cm2\"\n",
      "\n",
      "#(c)CAPTION: Calculate the negative electron mobility\n",
      "E=3200     #applied field\n",
      "vd=vd*(100) #in cm/sec\n",
      "un=-1*vd/E \n",
      "print\"Negative electron mobility(in cm**2/V*sec) is =\",int(round(un)),\"cm2/V.s\" #answer is wrong in book  "
     ],
     "language": "python",
     "metadata": {},
     "outputs": [
      {
       "output_type": "stream",
       "stream": "stdout",
       "text": [
        "The electron drift velocity is = 1e+05 m/s 1e+07 cm/s\n",
        "The current density is = 3.2e+06 A/m2 = 320 A/cm2\n",
        "Negative electron mobility(in cm**2/V*sec) is = -3125 cm2/V.s\n"
       ]
      }
     ],
     "prompt_number": 3
    },
    {
     "cell_type": "heading",
     "level": 2,
     "metadata": {},
     "source": [
      "Eg7.3.1:pg-304"
     ]
    },
    {
     "cell_type": "code",
     "collapsed": false,
     "input": [
      "#Determine the criteria for classifying the modes of operation\n",
      "er=13.1          #relative dielectric constant\n",
      "vd=2.5*(10**5)   #electron drift velocity in m/sec\n",
      "e=1.6*(10**-19)  #charge of electron in C\n",
      "E=8.854*(10**-12)*er  #permittivity of GaAs in F/m\n",
      "un=-0.015      #negative electron mobility in m**2/v.s\n",
      "un=-1*un\n",
      "a=(E*vd)/(e*un)\n",
      "print\"The criteria is=\",\"{:.3e}\".format(a),\"/m2 =\",\"{:.3e}\".format(a/10000),\"/cm2\"  #calculation mistake in book    \n",
      "print\"This means that the product of doping concentration and the device length must be\"\n",
      "print\"noL >\",\"{:.3e}\".format(a/10000),\"/cm2\""
     ],
     "language": "python",
     "metadata": {},
     "outputs": [
      {
       "output_type": "stream",
       "stream": "stdout",
       "text": [
        "The criteria is= 1.208e+16 /m2 = 1.208e+12 /cm2\n",
        "This means that the product of doping concentration and the device length must be\n",
        "noL > 1.208e+12 /cm2\n"
       ]
      }
     ],
     "prompt_number": 4
    },
    {
     "cell_type": "heading",
     "level": 2,
     "metadata": {},
     "source": [
      "Eg7.4.1:pg-311"
     ]
    },
    {
     "cell_type": "code",
     "collapsed": false,
     "input": [
      "#Calculate the output power\n",
      "n=0.06           #conversion efficiency\n",
      "M=3.5            #Multiplication factor\n",
      "Eth=320*(10**3)  #threshold field in V/m\n",
      "L=12*(10**-6)    #Device Length in m\n",
      "n0=10**21        #Donor concentration in m**3\n",
      "e=1.6*(10**-19)  #charge of electron in C\n",
      "v0=1.5*(10**5)   #Average carrier velocity in m/sec\n",
      "A=3*(10**-8)     #Area m**2\n",
      "p=n*(M*Eth*L)*(n0*e*v0*A) \n",
      "p=p*1000         # in mW\n",
      "print\"The output power(in mW)is=\",int(round(p)),\"mW\" "
     ],
     "language": "python",
     "metadata": {},
     "outputs": [
      {
       "output_type": "stream",
       "stream": "stdout",
       "text": [
        "The output power(in mW)is= 581 mW\n"
       ]
      }
     ],
     "prompt_number": 5
    }
   ],
   "metadata": {}
  }
 ]
}