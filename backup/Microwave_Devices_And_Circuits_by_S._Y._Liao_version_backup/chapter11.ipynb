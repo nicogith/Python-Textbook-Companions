{
 "metadata": {
  "name": "",
  "signature": "sha256:ad12bff96918abc5e35ecb69ed85dad3776e4014893a3bdddb23c1bfeff5820d"
 },
 "nbformat": 3,
 "nbformat_minor": 0,
 "worksheets": [
  {
   "cells": [
    {
     "cell_type": "heading",
     "level": 1,
     "metadata": {},
     "source": [
      "Chapter11:STRIP LINES"
     ]
    },
    {
     "cell_type": "heading",
     "level": 2,
     "metadata": {},
     "source": [
      "Eg11.1.1:pg-495"
     ]
    },
    {
     "cell_type": "code",
     "collapsed": false,
     "input": [
      "import math\n",
      "#calculation of characteristic impedance Z0 of the line\n",
      "er=5.23 #relative dielectric constant of the board material\n",
      "h=7     #height from microstrip line to the ground in mils\n",
      "t=2.8   #thickness of the microstrip line in mils\n",
      "w=10    #width of the microstrip line in mils\n",
      "Z0=(87*(math.log((5.98*h)/(t+(0.8*w)))))/sqrt(er+1.41) \n",
      "print\"The characteristic impedance of the line(in ohms)is =\",round(Z0,2),\"ohms\" #calculation mistake in book"
     ],
     "language": "python",
     "metadata": {},
     "outputs": [
      {
       "output_type": "stream",
       "stream": "stdout",
       "text": [
        "The characteristic impedance of the line(in ohms)is = 45.74 ohms\n"
       ]
      }
     ],
     "prompt_number": 13
    },
    {
     "cell_type": "heading",
     "level": 2,
     "metadata": {},
     "source": [
      "Eg11.2.1:pg-505"
     ]
    },
    {
     "cell_type": "code",
     "collapsed": false,
     "input": [
      "import math\n",
      "#(a) Calculate the required width w of the conducting strip in order to have a characteristic impedance of 50 ohms           \n",
      "erd=6          #relative dielectric constant of BeO\n",
      "d=4*(10**-3)   #thickness in meter\n",
      "Z0=50          #characteristic impedance in ohms\n",
      "w=(377*(d))/((sqrt(erd))*Z0) \n",
      "print\"The required width of the conducting strip(in metres)is =\",\"{:.3e}\".format(w),\"m\"\n",
      "\n",
      "#(b) Calculate the strip line capacitance\n",
      "ed=8.854*(10**-12)*erd \n",
      "d=4*(10**-3)        #thickness in meter\n",
      "C=(ed*round(w,5))/d #strip line capacitance\n",
      "C=C*(10**12)        #multiply C by 10**12 for converting it in pF/m\n",
      "print\"The strip line capacitance(in pF/m)is =\",round(C,1),\"pF/m\"\n",
      "\n",
      "#(c) Calculate the strip line inductance\n",
      "uc=4*math.pi*(10**-7) #permeability of the conductor\n",
      "d=4*(10**-3)          #thickness in meter\n",
      "L=(uc*d)/w \n",
      "L=L*(10**6)           #converting L in micro H/m\n",
      "print\"The strip line inductance(in uH/m)is =\",round(L,2),\"micro H/m\" \n",
      "\n",
      "#(d)Calculate the phase velocity of the wave in the parallel strip line\n",
      "c=3*(10**8)           #speed of light in meter/second\n",
      "vp=c/sqrt(erd) \n",
      "print\"The phase velocity of the wave in the parallel strip line(in m/s)is =\",\"{:.2e}\".format(vp),\"m/s\""
     ],
     "language": "python",
     "metadata": {},
     "outputs": [
      {
       "output_type": "stream",
       "stream": "stdout",
       "text": [
        "The required width of the conducting strip(in metres)is = 1.231e-02 m\n",
        "The strip line capacitance(in pF/m)is = 163.5 pF/m\n",
        "The strip line inductance(in uH/m)is = 0.41 micro H/m\n",
        "The phase velocity of the wave in the parallel strip line(in m/s)is = 1.22e+08 m/s\n"
       ]
      }
     ],
     "prompt_number": 16
    },
    {
     "cell_type": "heading",
     "level": 2,
     "metadata": {},
     "source": [
      "Eg11.3.1:pg-507"
     ]
    },
    {
     "cell_type": "code",
     "collapsed": false,
     "input": [
      "#Determine the characteristic impedance of the coplanar strip line\n",
      "Pavg=250*(10**-3) #average power flowing in the positive z direction in watt\n",
      "Io=100*(10**-3)   #total peak current in ampere\n",
      "Z0=(2*Pavg)/(Io**2) \n",
      "print\"The characteristic impedance of the coplanar strip line(in ohms)is =\",int(round(Z0)),\"ohms\""
     ],
     "language": "python",
     "metadata": {},
     "outputs": [
      {
       "output_type": "stream",
       "stream": "stdout",
       "text": [
        "The characteristic impedance of the coplanar strip line(in ohms)is = 50 ohms\n"
       ]
      }
     ],
     "prompt_number": 17
    },
    {
     "cell_type": "heading",
     "level": 2,
     "metadata": {},
     "source": [
      "Eg11.4.1:pg-508"
     ]
    },
    {
     "cell_type": "code",
     "collapsed": false,
     "input": [
      "import math\n",
      "#(a)Calculate the K factor\n",
      "er=2.56    #dielectric constant of the insulator(polystyrene)\n",
      "w=25.0     #strip width in mils\n",
      "t=14.0     #strip thickness in mils\n",
      "d=70       #shield depth in mils\n",
      "K=1.0/(1-(t/d)) \n",
      "print\"The K factor is =\",K\n",
      "\n",
      "#(b)Calculate the fringe capacitance\n",
      "Cf=round(((8.854*er)*(round((2*K*math.log(K+1)),3)-round(((K-1)*math.log((K**2)-1)),2))),)/round(math.pi,2)\n",
      "print\"The fringe capacitance(in pF/m)is =\",round(Cf,2),\"pF/m\" \n",
      "\n",
      "#(c) Calculate the characteristic impedance of the line\n",
      "Z0=94.15/((((w/d)*K)+(round(Cf,2)/(8.854*er)))*(sqrt(er))) \n",
      "print\"The characteristic impedance of the line(in ohms)is =\",round(Z0,3),\"ohms\"  #answer is wrong in book"
     ],
     "language": "python",
     "metadata": {},
     "outputs": [
      {
       "output_type": "stream",
       "stream": "stdout",
       "text": [
        "The K factor is = 1.25\n",
        "The fringe capacitance(in pF/m)is = 15.61 pF/m\n",
        "The characteristic impedance of the line(in ohms)is = 51.839 ohms\n"
       ]
      }
     ],
     "prompt_number": 20
    }
   ],
   "metadata": {}
  }
 ]
}