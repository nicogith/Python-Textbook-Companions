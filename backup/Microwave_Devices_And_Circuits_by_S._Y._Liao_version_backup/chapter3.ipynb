{
 "metadata": {
  "name": "",
  "signature": "sha256:ca0903b7b321ee2a23ac0825cd21e91c6e8cf908997809c9a4057350793aaf90"
 },
 "nbformat": 3,
 "nbformat_minor": 0,
 "worksheets": [
  {
   "cells": [
    {
     "cell_type": "heading",
     "level": 1,
     "metadata": {},
     "source": [
      "Chapter3:MICROWAVE TRANSMISSION LINES"
     ]
    },
    {
     "cell_type": "heading",
     "level": 2,
     "metadata": {},
     "source": [
      "Eg3.1.1:pg-84"
     ]
    },
    {
     "cell_type": "code",
     "collapsed": false,
     "input": [
      "import math\n",
      "import cmath\n",
      "#(a)Calculate the line Characteristic Impedance\n",
      "R=2            #resistance ohms/m\n",
      "L=8*(10**-9)   #inductance H/m\n",
      "C=0.23*(10**-12)#capacitance Farad\n",
      "f=1*(10**9)    #frequency hertz\n",
      "G=0.5*(10**-3)  #conductance mho/m\n",
      "w=2*math.pi*f   #angular frequency hertz\n",
      " \n",
      "Z0=sqrt((R+(1j*w*L))/(G+(1j*w*C)))\n",
      "X=round(Z0.real,2)\n",
      "Y=round(Z0.imag,2)\n",
      "Z0=complex(X,Y)\n",
      "print\"The line characteristic impedance is =\",Z0\n",
      "\n",
      "#(b)Calculate the propagation constant\n",
      " \n",
      "r=sqrt((R+(1j*w*L))*(G+(1j*w*C)))\n",
      "X=round(r.real,3)\n",
      "Y=round(r.imag,3)\n",
      "r=X+1j*Y\n",
      "print\"The propagation constant is =\",r"
     ],
     "language": "python",
     "metadata": {},
     "outputs": [
      {
       "output_type": "stream",
       "stream": "stdout",
       "text": [
        "The line characteristic impedance is = (179.43+26.51j)\n",
        "The propagation constant is = (0.051+0.273j)\n"
       ]
      }
     ],
     "prompt_number": 1
    },
    {
     "cell_type": "heading",
     "level": 2,
     "metadata": {},
     "source": [
      "Eg3.2.1:pg-89"
     ]
    },
    {
     "cell_type": "code",
     "collapsed": false,
     "input": [
      "import cmath\n",
      "import math\n",
      "#(a)Calculate the reflection coefficient\n",
      "Zl=70+(1j*50)    #load impedance ohms\n",
      "Z0=75+(1j*0.01)  #characteristic impedance ohms\n",
      "r=(Zl-Z0)/(Zl+Z0)  \n",
      "X=round(r.real,2)\n",
      "Y=round(r.imag,2)\n",
      "r=complex(X,Y)\n",
      "print\"(a) The reflection coefficient is =\",r \n",
      "\n",
      "#(b)Calculate the transmission coefficient\n",
      "T=(2*Zl)/(Zl+Z0) \n",
      "X=round(T.real,2)\n",
      "Y=round(T.imag,2)\n",
      "l=complex(X,Y)\n",
      "print\"(b) The transmission coefficient is =\",l\n",
      "\n",
      "#(c)Verify the relationship shown in Eq(3-2-21) ie. T**2=(Zl/Z0)*(1-(r**2)\n",
      "q=T**2      #where T is the transmission coefficient\n",
      "o=cmath.phase(q)   #phase of T**2 in radians\n",
      "o=round(math.degrees(o),2) \n",
      "M=round(abs(T),2)          #magintue of T**2 \n",
      "print\"(c) The value of T**2 in polar coordinates is(magnitude,phase)=\",\"(\",M,\",\",o,\"degree )\"\n",
      "p=(Zl/Z0)*(1-(r**2)) \n",
      "o=cmath.phase(p)  #phase of (Zl/Z0)*(1-(r**2) in radians\n",
      "o=round(math.degrees(o)) \n",
      "M=round(abs(T),2)          #magintue of (Zl/Z0)*(1-(r**2)\n",
      "print\"The value of (Zl/Z0)*(1-(r**2)) in polar coordinates is(magnitude,phase)=\",\"(\",M,\",\",o,\"degree )\" \n",
      "print\"Since T**2=(Zl/Z0)*(1-(r**2)) hence the relationship shown in Eq(3-2-21) is verified\" \n",
      "\n",
      "#(d)Verify the transmission coefficient equals the algebraic sum of 1 plus the reflection coefficient as shown in Eq(2-3-18)\n",
      "y=r+1\n",
      "print\"(d) T =\",l\n",
      "print\" y=r+1=\",y \n",
      "print\"Since T=r+1 hence the relationship shown in Eq(2-3-18) is verified\" "
     ],
     "language": "python",
     "metadata": {},
     "outputs": [
      {
       "output_type": "stream",
       "stream": "stdout",
       "text": [
        "(a) The reflection coefficient is = (0.08+0.32j)\n",
        "(b) The transmission coefficient is = (1.08+0.32j)\n",
        "(c) The value of T**2 in polar coordinates is(magnitude,phase)= ( 1.12 , 33.02 degree )\n",
        "The value of (Zl/Z0)*(1-(r**2)) in polar coordinates is(magnitude,phase)= ( 1.12 , 33.0 degree )\n",
        "Since T**2=(Zl/Z0)*(1-(r**2)) hence the relationship shown in Eq(3-2-21) is verified\n",
        "(d) T = (1.08+0.32j)\n",
        " y=r+1= (1.08+0.32j)\n",
        "Since T=r+1 hence the relationship shown in Eq(2-3-18) is verified\n"
       ]
      }
     ],
     "prompt_number": 13
    },
    {
     "cell_type": "heading",
     "level": 2,
     "metadata": {},
     "source": [
      "Eg3.3.1:pg-93"
     ]
    },
    {
     "cell_type": "code",
     "collapsed": false,
     "input": [
      "import cmath\n",
      "#(a)Calculate the reflection coefficient\n",
      "Zl=73-(1j*42.5)   #load impedance ohms\n",
      "Z0=50+(1j*0.01)   #characteristic impedance ohms\n",
      "r=(Zl-Z0)/(Zl+Z0) \n",
      "o=cmath.phase(r)   #in radians\n",
      "o=round(math.degrees(o),1)\n",
      "M=round(abs(r),3)\n",
      "print\"The reflection coefficient is(magnitude,phase) =\",\"(\",M,\",\",o,\"degree)\" #calculation mistake in book   \n",
      "\n",
      "#(b)Calculate the standing-wave ratio\n",
      "p=(1+M)/(1-M) \n",
      "print\"The standing-wave ratio is =\",round(p,2)  #answer is wrong in book"
     ],
     "language": "python",
     "metadata": {},
     "outputs": [
      {
       "output_type": "stream",
       "stream": "stdout",
       "text": [
        "The reflection coefficient is(magnitude,phase) = ( 0.371 , -42.5 degree)\n",
        "The standing-wave ratio is = 2.18\n"
       ]
      }
     ],
     "prompt_number": 14
    },
    {
     "cell_type": "heading",
     "level": 2,
     "metadata": {},
     "source": [
      "Eg3.4.1:pg-99"
     ]
    },
    {
     "cell_type": "code",
     "collapsed": false,
     "input": [
      "import math\n",
      "#(a)Calculate the input impedance\n",
      "Bd=(((2*math.pi)/l)*(l/4)) #from Eq(3-4-26) the line that is 2.25 wavelengths long looks like a quarter-wave line\n",
      "                           #l is the wavelength\n",
      "R0=50.0         #characteristic impedance in ohms\n",
      "Rl=75           #load resistance impedance\n",
      "Zin=(R0**2)/Rl  \n",
      "print\"The input impedance((in ohms) is =\",round(Zin ,2),\"ohms\"\n",
      "\n",
      "#(b)Calculate the magnitude of the instantaneous load voltage\n",
      "rl=(Rl-R0)/(Rl+R0) #reflection coefficient\n",
      "V=30               #open-circuit output voltage\n",
      "Vl=V*(exp(-1j*Bd))*(1+rl) \n",
      "Vl=abs(Vl) \n",
      "print\"The instantaneous voltage at the load(in V) is =\",int(Vl),\"V\" \n",
      "\n",
      "#(c) Calculate the instantaneous power delivered to the load\n",
      "Pl=(Vl**2)/Rl \n",
      "print\"The instantaneous power delivered to the load(in W)is =\",round(Pl,2),\"W\" "
     ],
     "language": "python",
     "metadata": {},
     "outputs": [
      {
       "output_type": "stream",
       "stream": "stdout",
       "text": [
        "The input impedance((in ohms) is = 33.33 ohms\n",
        "The instantaneous voltage at the load(in V) is = 36 V\n",
        "The instantaneous power delivered to the load(in W)is = 17.28 W\n"
       ]
      }
     ],
     "prompt_number": 15
    },
    {
     "cell_type": "heading",
     "level": 2,
     "metadata": {},
     "source": [
      "Eg3.5.1:pg-104"
     ]
    },
    {
     "cell_type": "code",
     "collapsed": false,
     "input": [
      "#location determination of voltage maximum and minimum from load\n",
      "\n",
      "Zl=1+1j*1 #Given normalised load impedance\n",
      "print\"1. Enter Zl=1+(j*1) on the chart.\\n\" \n",
      "print\"2. Read 0.162 lambda on the distance scale by drawing a dashed-straight line from the centre of the chart through the load point and inersecting the distance scale.\\n\" \n",
      "\n",
      "print\"3. Move a distance from the point at 0.162 lambda towards the generator and first stop at the voltage maxima on the right-hand real axis at 0.25 lambda.\" \n",
      "lamda = 5    #Given wavelength =5 cm\n",
      "d1Vmax=round((0.25-0.162)*lamda,2)\n",
      "print\"d1(Vmax) (in cm)=\",d1Vmax,\"cm\",\"\\n\"\n",
      "\n",
      "print\"4. Similarly,move a distance from the point of 0.162 lambda towards the generator and first stop at the voltage minimum on the left-hand real axis at 0.5 lambda\" \n",
      "d2Vmin=(0.5-0.162)*lamda\n",
      "print\"d2(Vmin) (in cm)=\",d2Vmin,\"cm\",\"\\n\" \n",
      "\n",
      "print\"5. Make a standing wave circle with the centre (1,0) and pass the circle through the point of 1+j1.The location intersected by the circle at the right portion of the real axis indicates the SWR.This is p=2.6\" \n"
     ],
     "language": "python",
     "metadata": {},
     "outputs": [
      {
       "output_type": "stream",
       "stream": "stdout",
       "text": [
        "1. Enter Zl=1+(j*1) on the chart.\n",
        "\n",
        "2. Read 0.162 lambda on the distance scale by drawing a dashed-straight line from the centre of the chart through the load point and inersecting the distance scale.\n",
        "\n",
        "3. Move a distance from the point at 0.162 lambda towards the generator and first stop at the voltage maxima on the right-hand real axis at 0.25 lambda.\n",
        "d1(Vmax) (in cm)= 0.44 cm \n",
        "\n",
        "4. Similarly,move a distance from the point of 0.162 lambda towards the generator and first stop at the voltage minimum on the left-hand real axis at 0.5 lambda\n",
        "d2(Vmin) (in cm)= 1.69 cm \n",
        "\n",
        "5. Make a standing wave circle with the centre (1,0) and pass the circle through the point of 1+j1.The location intersected by the circle at the right portion of the real axis indicates the SWR.This is p=2.6\n"
       ]
      }
     ],
     "prompt_number": 23
    },
    {
     "cell_type": "heading",
     "level": 2,
     "metadata": {},
     "source": [
      "Eg3.5.2:pg-106"
     ]
    },
    {
     "cell_type": "code",
     "collapsed": false,
     "input": [
      "#Impedance determination with short-circuit minima shift\n",
      "\n",
      "print\"1. When the line is shorted ,the first voltage minimum occurs at the place of the load.\",\"\\n\" \n",
      "\n",
      "print\"2. When the line is loaded ,the first voltage minimum shifts 0.15 lambda from the load. The distance between two successive minimas is one-half the wavelength.\",\"\\n\" \n",
      "\n",
      "print\"3. Plot a SWR cirle for p=2 .\",\"\\n\" \n",
      "print\"4. Move a distance of 0.15 lambda from the minimum point along the distance scale toward the load and stop at 0.15 lambda.\",\"\\n\" \n",
      "\n",
      "print\"5. Draw a line from this point to the centre of the chart.\",\"\\n\" \n",
      "print\"6. The intersection between the line and the SWR circle is Zt=1-j*0.65\",\"\\n\" \n",
      "Zt=1-(1j*0.65) \n",
      "Z0=50      #characeristic impedance of the line(ohms)\n",
      "Zl=Zt*Z0 \n",
      "print\"7. The load impedance is(in ohm)=\",Zl,\"ohms\" \n"
     ],
     "language": "python",
     "metadata": {},
     "outputs": [
      {
       "output_type": "stream",
       "stream": "stdout",
       "text": [
        "1. When the line is shorted ,the first voltage minimum occurs at the place of the load. \n",
        "\n",
        "2. When the line is loaded ,the first voltage minimum shifts 0.15 lambda from the load. The distance between two successive minimas is one-half the wavelength. \n",
        "\n",
        "3. Plot a SWR cirle for p=2 . \n",
        "\n",
        "4. Move a distance of 0.15 lambda from the minimum point along the distance scale toward the load and stop at 0.15 lambda. \n",
        "\n",
        "5. Draw a line from this point to the centre of the chart. \n",
        "\n",
        "6. The intersection between the line and the SWR circle is Zt=1-j*0.65 \n",
        "\n",
        "7. The load impedance is(in ohm)= (50-32.5j) ohms\n"
       ]
      }
     ],
     "prompt_number": 28
    },
    {
     "cell_type": "heading",
     "level": 2,
     "metadata": {},
     "source": [
      "Eg3.6.1:pg-109"
     ]
    },
    {
     "cell_type": "code",
     "collapsed": false,
     "input": [
      "#calculate the stub position(closest to the load)and length so that a match is obtained\n",
      "\n",
      "R0=50    #characteristic impedance(ohms)\n",
      "Zl=50/(2+1j*(2+sqrt(3))) \n",
      "zl=Zl/R0 #normaised load impedance\n",
      "yl=1/zl  #normaised load admittance\n",
      "yl=complex(yl.real,round(yl.imag,3))\n",
      "print\"1. Compute the normalised load admittance and enter it on the smith chart\"\n",
      "print\"   yl=(1/zl)=(R0/Zl)=\",yl,\"\\n\"\n",
      "\n",
      "print\"2.Draw a SWR circle throuh the point of yl so that he circle intersects the unity circle at the point yd.\"\n",
      "print\"   yd=\",complex(1,-2.6) \n",
      "\n",
      "print\"  Note that there are infinite number of yd.Take the one that allows the stub to be attached as closely as possible to the load\",\"\\n\"\n",
      "\n",
      "print\"3. Since the charcteristic impedance of the stub is different from that of the line ,the condition for impedance matching at the junction requires Y11=Yd + Ys ,where Ys is the susceptance that the stub will contribute.\\n\" \n",
      "print\"It is clear that the stub and the portion of the line from the load to the junction are in parallel,as seen by the main line extending to the generator.The admittances must be converted to normalised values for matching on the smith chart.Then Eq(3-6-2) becomes\" \n",
      "print\"  y11*Y0= yd*Y0 + ys*y0s\"\n",
      "y11=1 \n",
      "Y0=100     #charcteristic impedance of the stub(ohms)\n",
      "Y0s=50 \n",
      "print\"  ys=(y11-yd)*(Y0/Y0s)=\", (y11-yd)*(Y0/Y0s),\"\\n\"  \n",
      "  \n",
      "print\"4. The distance between the load and the stub position can be calculated from the distance scale as\"\n",
      "print\"  d=(0.302-0.215)*lambda=\",(0.302-0.215),\"lambda \\n\"\n",
      "  \n",
      "print\"5. Since the stub contributes a susceptance of +j5.20 ,enter +j5.20 on the chart and determine the required distance l from the short circuited end(z=0,y=infinity),which corresponds to the right side of the real axis on the chart,by transversing the chart towards the generator until the point of +j5.20 is reached. \\n\"\n",
      "print\"  Then l=(0.5 -0.031)lambda =0.469 lambda.\\n\",\" When a line is matched at the junction ,there will be no standing wave in the line from the stub to the generator\"\n",
      "  \n",
      "print\"6. If an inductive stub is required \\n\",\"  y'd = 1+j2.6\",\"\\n\",\"  and the susceptance will be \\n\",\"  y's =-j5.2\" \n",
      "  \n",
      "print\"7. The position of the stub from the load is \\n\",\"  d'=(0.5-(0.215-0.198))lambda = 0.483 lambda\" ,\"\\n\",\"  and the length of the short-circuted stub is \\n\",\"  l'=0.031 lambda\" \n",
      "  \n",
      "  \n",
      "  \n",
      "   "
     ],
     "language": "python",
     "metadata": {},
     "outputs": [
      {
       "output_type": "stream",
       "stream": "stdout",
       "text": [
        "1. Compute the normalised load admittance and enter it on the smith chart\n",
        "   yl=(1/zl)=(R0/Zl)= (2+3.732j) \n",
        "\n",
        "2.Draw a SWR circle throuh the point of yl so that he circle intersects the unity circle at the point yd.\n",
        "   yd= (1-2.6j)\n",
        "  Note that there are infinite number of yd.Take the one that allows the stub to be attached as closely as possible to the load \n",
        "\n",
        "3. Since the charcteristic impedance of the stub is different from that of the line ,the condition for impedance matching at the junction requires Y11=Yd + Ys ,where Ys is the susceptance that the stub will contribute.\n",
        "\n",
        "It is clear that the stub and the portion of the line from the load to the junction are in parallel,as seen by the main line extending to the generator.The admittances must be converted to normalised values for matching on the smith chart.Then Eq(3-6-2) becomes\n",
        "  y11*Y0= yd*Y0 + ys*y0s\n",
        "  ys=(y11-yd)*(Y0/Y0s)= 5.2j \n",
        "\n",
        "4. The distance between the load and the stub position can be calculated from the distance scale as\n",
        "  d=(0.302-0.215)*lambda= 0.087 lambda \n",
        "\n",
        "5. Since the stub contributes a susceptance of +j5.20 ,enter +j5.20 on the chart and determine the required distance l from the short circuited end(z=0,y=infinity),which corresponds to the right side of the real axis on the chart,by transversing the chart towards the generator until the point of +j5.20 is reached. \n",
        "\n",
        "  Then l=(0.5 -0.031)lambda =0.469 lambda.\n",
        " When a line is matched at the junction ,there will be no standing wave in the line from the stub to the generator\n",
        "6. If an inductive stub is required \n",
        "  y'd = 1+j2.6 \n",
        "  and the susceptance will be \n",
        "  y's =-j5.2\n",
        "7. The position of the stub from the load is \n",
        "  d'=(0.5-(0.215-0.198))lambda = 0.483 lambda \n",
        "  and the length of the short-circuted stub is \n",
        "  l'=0.031 lambda\n"
       ]
      }
     ],
     "prompt_number": 77
    },
    {
     "cell_type": "heading",
     "level": 2,
     "metadata": {},
     "source": [
      "Eg3.6.2:pg-111"
     ]
    },
    {
     "cell_type": "code",
     "collapsed": false,
     "input": [
      "#Determine the length of short-circuited stubs when the match is achieved.What terminations are forbidden for matching the line by the double-stub device\n",
      "\n",
      "Zl=100+(1j*100)  #Terminating impedance(ohms)\n",
      "R0=50 #charcteristic impedance of the stub and the line(ohms)\n",
      "zl=Zl/R0 \n",
      "print\"1. Compute the normalised load impedance and enter it on the smith chart \\n\",\"  zl=\",zl,\"\\n\"\n",
      "print\"2. Plot a SWR p circle and read the normalised load admittance 180 degree out of phase with zl on the SWR circle:\" \n",
      "yl=1/zl \n",
      "print\"  yl=\",yl,\"\\n\" \n",
      "#result is drawn on the basis of smith chart\n",
      "print\"3. Draw the spacing circle of (3/8)lambda by rotating the constant-conductance unity circle (g=1) through a phase angle of 2Bd=2B(3/8)lambda =3/2(pi)towards the load.Now y11 must be on this spacing circle ,since yd2 will be on the g=1 circle(y11 and yd2 are 3/8lambda apart). \\n\" \n",
      "print\"4. Move yl for a distance of 0.4 lambda from 0.458 to 0.358 along the SWR p circle toward the generator and read yd1 on the chart:\" \n",
      "yd1=0.55- 1j*1.08 \n",
      "print\"  yd1=0.55-1j*1.08\",\"\\n\"\n",
      "print\"5. There are two possible solutions for y11.They can be found by carrying yd1 along the constant-conducatnce (g=0.55)circle that intersects the spacing circle at two points \\n\",\"  y11=0.55-j0.11\",\"\\n\",\"  y'11=0.55-j1.88\" \n",
      "y11=0.55-(1j*0.11) \n",
      "y112=0.55-(1j*1.88) \n",
      "print\"6. At the junction 1-1 \\n\",\"  y11=yd1+ys1 \\n\",\"  ys1=\",y11-yd1,\"\\n\",\"  ys12=\",y112-yd1 \n",
      "ys12=y112-yd1 \n",
      "print(ys12,'ys12=') \n",
      "print\"7. The length of the stub 1 are found as \\n\",\"  l1=(0.25+0.123)lambda=0.373lambda \\n\",\"  l'1=(0.25-0.107)lambda=0.143 lambda \\n\" \n",
      "print\"8. The (3/8)lambda section of the line transforms y11 to yd2 and y11 to y'd2 along their constant standing-wave circles respectively .That is \\n\",\"  yd2=1-j0.61 \\n\",\"  y'd2=1+j2.60\"  \n",
      "print\"9. Then stub 2  must contribute \\n\",\"  ys2=+j0.61 \\n\",\"  y's2=-j2.6\" \n",
      "print\"10. The lengths of the stub 2 are found as \\n\",\"  l2=(0.25+0.087)lambda=0.337 lambda \\n\",\"  l'2=(0.308-0.25)lambda=0.058 lambda\" \n",
      "print\"11. It can be seen that normaised admittance yl located inside the hatched area cannot be brought to lie on the locus of y11 or y'11 for a possible match by the parallel connection of any short-circuited stub because the spacing circle and g=2 circle are mutually tangent.Thus the area of g=2 circle is called the forbidden region of the normalised load admittance for possible match.\"\n"
     ],
     "language": "python",
     "metadata": {},
     "outputs": [
      {
       "output_type": "stream",
       "stream": "stdout",
       "text": [
        "1. Compute the normalised load impedance and enter it on the smith chart \n",
        "  zl= (2+2j) \n",
        "\n",
        "2. Plot a SWR p circle and read the normalised load admittance 180 degree out of phase with zl on the SWR circle:\n",
        "  yl= (0.25-0.25j) \n",
        "\n",
        "3. Draw the spacing circle of (3/8)lambda by rotating the constant-conductance unity circle (g=1) through a phase angle of 2Bd=2B(3/8)lambda =3/2(pi)towards the load.Now y11 must be on this spacing circle ,since yd2 will be on the g=1 circle(y11 and yd2 are 3/8lambda apart). \n",
        "\n",
        "4. Move yl for a distance of 0.4 lambda from 0.458 to 0.358 along the SWR p circle toward the generator and read yd1 on the chart:\n",
        "  yd1=0.55-1j*1.08 \n",
        "\n",
        "5. There are two possible solutions for y11.They can be found by carrying yd1 along the constant-conducatnce (g=0.55)circle that intersects the spacing circle at two points \n",
        "  y11=0.55-j0.11 \n",
        "  y'11=0.55-j1.88\n",
        "6. At the junction 1-1 \n",
        "  y11=yd1+ys1 \n",
        "  ys1= 0.97j \n",
        "  ys12= -0.8j\n",
        "(-0.7999999999999998j, 'ys12=')\n",
        "7. The length of the stub 1 are found as \n",
        "  l1=(0.25+0.123)lambda=0.373lambda \n",
        "  l'1=(0.25-0.107)lambda=0.143 lambda \n",
        "\n",
        "8. The (3/8)lambda section of the line transforms y11 to yd2 and y11 to y'd2 along their constant standing-wave circles respectively .That is \n",
        "  yd2=1-j0.61 \n",
        "  y'd2=1+j2.60\n",
        "9. Then stub 2  must contribute \n",
        "  ys2=+j0.61 \n",
        "  y's2=-j2.6\n",
        "10. The lengths of the stub 2 are found as \n",
        "  l2=(0.25+0.087)lambda=0.337 lambda \n",
        "  l'2=(0.308-0.25)lambda=0.058 lambda\n",
        "11. It can be seen that normaised admittance yl located inside the hatched area cannot be brought to lie on the locus of y11 or y'11 for a possible match by the parallel connection of any short-circuited stub because the spacing circle and g=2 circle are mutually tangent.Thus the area of g=2 circle is called the forbidden region of the normalised load admittance for possible match.\n"
       ]
      }
     ],
     "prompt_number": 93
    }
   ],
   "metadata": {}
  }
 ]
}