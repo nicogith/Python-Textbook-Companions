{
 "metadata": {
  "name": "",
  "signature": "sha256:58df60b52752f2da1373bbe228598764eb4342aba17c209c22ffab14d8498063"
 },
 "nbformat": 3,
 "nbformat_minor": 0,
 "worksheets": [
  {
   "cells": [
    {
     "cell_type": "heading",
     "level": 1,
     "metadata": {},
     "source": [
      "Chapter5:MICROWAVE TRANSISTORS AND TUNNEL DIODES"
     ]
    },
    {
     "cell_type": "heading",
     "level": 2,
     "metadata": {},
     "source": [
      "Ex5.1.1:pg-195"
     ]
    },
    {
     "cell_type": "code",
     "collapsed": false,
     "input": [
      "#(a) Program to find the mutual conductance gm. \n",
      "ic=6*(10**-3)                 #Collector Current in ampere\n",
      "vt=26*(10**-3)                #vt=26mV at 300k is the voltage equivalent of temperature        \n",
      "gm=ic/vt                      #the mutual conductance is gm=(ic/vt)   \n",
      "print\"The mutual conductance is gm(in mho)=\",round(gm,2),\"mho\"                      \n",
      "\n",
      "#(b) Program to find the input conductance gb and resistance R \n",
      "hfe=120                       #hfe= common-emitter current gain factor\n",
      "gb=round(gm,2)/hfe            #input conductance in mho\n",
      "Ri=1/gb                       #Resistance in ohms\n",
      "print\"Input conductance gb(in mho)=\",\"{:.2e}\".format(gb),\"mho\"\n",
      "print\"Input resistance Ri (in ohms)=\",int(Ri),\"ohms\"\n",
      "\n",
      "#(c)Program to find the electron diffusion coefficient Dn\n",
      "un=1600                       #electron Mobility in cm2/V.s\n",
      "Dn=un*vt                      # Dn=un*kt/q=un*26*(10**-3)\n",
      "print\"Electron diffusion coefficient Dn(in cm2/s)=\",Dn,\"cm2/second\"\n",
      "\n",
      "#(d)Program to find the diffusion capacitance Cbe\n",
      "Wb=(10**-8)                   #cross sectional area in cm2 \n",
      "Cbe=(round(gm,2)*(Wb**2))/(2*Dn)\n",
      "Cbe=Cbe/(10**-19) \n",
      "print\"Diffusion capacitance Cbe(in pF)=\",round(Cbe,2),\"pF\""
     ],
     "language": "python",
     "metadata": {},
     "outputs": [
      {
       "output_type": "stream",
       "stream": "stdout",
       "text": [
        "The mutual conductance is gm(in mho)= 0.23 mho\n",
        "Input conductance gb(in mho)= 1.92e-03 mho\n",
        "Input resistance Ri (in ohms)= 521 ohms\n",
        "Electron diffusion coefficient Dn(in cm2/s)= 41.6 cm2/second\n",
        "Diffusion capacitance Cbe(in pF)= 2.76 pF\n"
       ]
      }
     ],
     "prompt_number": 1
    },
    {
     "cell_type": "heading",
     "level": 2,
     "metadata": {},
     "source": [
      "Ex5.1.2:pg-203"
     ]
    },
    {
     "cell_type": "code",
     "collapsed": false,
     "input": [
      "#(a) Program to find the impurity desities in the emitter,base and collector regions\n",
      "NdE=1*(10**19) \n",
      "NaB=1.5*(10**17)\n",
      "NdC=3*(10**14)\n",
      "print\"(a) The impurity densities (in cm-3)are :\"\n",
      "print \"NdE=\",\"{:.0e}\".format(NdE),\"cm-3 [the impurity density in the n-type emitter region]\"\n",
      "print \"NaB=\",\"{:.1e}\".format(NaB,1),\"cm-3 [the impurity density in the p-type base region]\"\n",
      "print \"NdC=\",\"{:.0e}\".format(NdC),\"cm-3 [the impurity density in the n-type collector region]\"\n",
      "\n",
      "#(b)Program_to_find_the_mobilities_in_the_emitter,base and collector_regions\n",
      "upE=80\n",
      "unE=105\n",
      "upB=400\n",
      "unC=1600\n",
      "print\"(b) The mobilities(in cm2/v*s)are :\"\n",
      "print\"upE=\",upE,\"cm2/V.s [mobility in the emitter]\"\n",
      "print\"unE\",unE,\"cm2/V.s [mobility in the emitter]\"\n",
      "print\"upB\",upB,\"cm2/V.s [mobility in the base]\"\n",
      "print\"unC\",unC,\"cm2/V.s [mobility in thecollector]\"\n",
      "\n",
      "\n",
      "#(c)Program to find the diffusion lengths in the emitter,base and collector regions\n",
      "Vt=26*(10**-3) #voltage equivalent of temperature in volt\n",
      "DpE=upE*Vt\n",
      "DnE=unE*Vt\n",
      "DpB=upB*Vt\n",
      "DnC=unC*Vt\n",
      "print\"(c) The diffusion constants are computed to be:\"\n",
      "print\"DpE=\",DpE,\"cm2/s\"\n",
      "print\"DnE=\",DnE,\"cm2/s\"\n",
      "print\"DpB=\",DpB,\"cm2/s\"\n",
      "print\"DnC=\",DnC,\"cm2/s\"\n",
      "\n",
      "#(d)Program_to_compute_the_equilibrium_densities_in the emitter,base and_collector_regions\n",
      "ni=1.5*(10**10)\n",
      "pEo=(ni**2)/NdE \n",
      "npB=(ni**2)/NaB\n",
      "pCo=(ni**2)/NdC\n",
      "print\"(d) The equlibrium densities are:\"\n",
      "print\"npB=\",\"{:.1e}\".format(npB),\"cm-3\"\n",
      "print\"pEo=\",\"{:.2e}\".format(pEo),\"cm-3\"   #answer is wrong in book\n",
      "print\"pCo=\",\"{:.1e}\".format(pCo),\"cm-3\"\n",
      "\n",
      "#(e)Program to compute the terminal currents\n",
      "print\"(e) The terminal currents are computed as follows:\" \n",
      "A=2*(10**-2)                  # cross-section_area\n",
      "q=1.6*(10**-19)\n",
      "W=(10**-5)                    #base_width\n",
      "Le=(10**-4)                   #Diffusion_length_in_emitter\n",
      "Ve=.5                         #Emitter_junction_voltage\n",
      "InE=-(A*q*DnE*(ni**2)*exp(Ve/Vt))/(NaB*W) #Ine=-(Aq*Dp*(ni**2)*(exp(Ve/Vt)-1))/(Le*Nd);\n",
      "InE=InE/(10**-3);\n",
      "print\"   the electron current in the emitter is InE(in mA)=\",round(InE,4),\"mA\"\n",
      "IpE=(A*q*DpE*(ni**2)*(exp(Ve/Vt)-1))/(Le*NdE) #Ipe=(A*q*De*peo*(exp(Ve/Vt)-1))/Le =(A*q*Dp*(ni**2)*(exp(Ve/Vt)-1))/(Le*Nd)\n",
      "IpE=IpE/(10**-6)\n",
      "print\"   the hole current in the emitter is IpE(in uA)=\",round(IpE,3),\"uA\"\n",
      "Ico=-(A*q*DnE*(ni**2)/(NaB*W))-(A*q*DpE*pEo)/Le\n",
      "Ico=Ico/(10**-12)\n",
      "print\"   the reverse saturation current in the collector is Ico(in pA)=\",round(Ico,3),\"pA\"\n",
      "InC=-(A*q*DnE*(ni**2)*exp(Ve/Vt)/(NaB*W))\n",
      "InC=InC/(10**-3)\n",
      "print\"   the electron current which reaches the collector is InC(in mA)=\",round(InC,4),\"mA\"\n",
      "IE=(-IpE*(10**-6))+(InE*(10**-3));\n",
      "IE=IE/(10**-3);\n",
      "print\"the emitter current is IE(in mA)=\",round(IE,3),\"mA\"\n",
      "IC=(-Ico*(10**-12))-(InC*(10**-3));\n",
      "IC=IC/(10**-3);\n",
      "print\"the collector current is IC(in mA)=\",round(IC,3),\"mA\"\n",
      "IB=(IpE*(10**-6))-[((InE*(10**-3)))-(InC*(10**-3))]+(Ico*(10**-12));\n",
      "IB=IB/(10**-6);\n",
      "print\"the current in the base terminal is IB(in uA)=\",round(IB,3),\"uA\"\n",
      "print\"NOTE: The recombination-generation currents in the spcae-charge regions are not counted\""
     ],
     "language": "python",
     "metadata": {},
     "outputs": [
      {
       "output_type": "stream",
       "stream": "stdout",
       "text": [
        "(a) The impurity densities (in cm-3)are :\n",
        "NdE= 1e+19 cm-3 [the impurity density in the n-type emitter region]\n",
        "NaB= 1.5e+17 cm-3 [the impurity density in the p-type base region]\n",
        "NdC= 3e+14 cm-3 [the impurity density in the n-type collector region]\n",
        "(b) The mobilities(in cm2/v*s)are :\n",
        "upE= 80 cm2/V.s [mobility in the emitter]\n",
        "unE 105 cm2/V.s [mobility in the emitter]\n",
        "upB 400 cm2/V.s [mobility in the base]\n",
        "unC 1600 cm2/V.s [mobility in thecollector]\n",
        "(c) The diffusion constants are computed to be:\n",
        "DpE= 2.08 cm2/s\n",
        "DnE= 2.73 cm2/s\n",
        "DpB= 10.4 cm2/s\n",
        "DnC= 41.6 cm2/s\n",
        "(d) The equlibrium densities are:\n",
        "npB= 1.5e+03 cm-3\n",
        "pEo= 2.25e+01 cm-3\n",
        "pCo= 7.5e+05 cm-3\n",
        "(e) The terminal currents are computed as follows:\n",
        "   the electron current in the emitter is InE(in mA)= -0.2946 mA\n",
        "   the hole current in the emitter is IpE(in uA)= 0.337 uA\n",
        "   the reverse saturation current in the collector is Ico(in pA)= -1.312 pA\n",
        "   the electron current which reaches the collector is InC(in mA)= -0.2946 mA\n",
        "the emitter current is IE(in mA)= -0.295 mA\n",
        "the collector current is IC(in mA)= 0.295 mA\n",
        "the current in the base terminal is IB(in uA)= 0.337 uA\n",
        "NOTE: The recombination-generation currents in the spcae-charge regions are not counted\n"
       ]
      }
     ],
     "prompt_number": 11
    },
    {
     "cell_type": "heading",
     "level": 2,
     "metadata": {},
     "source": [
      "Ex5.1.3:pg-206"
     ]
    },
    {
     "cell_type": "code",
     "collapsed": false,
     "input": [
      "#(a) Program to find the mobilities un and up \n",
      "un=200\n",
      "up=500\n",
      "print\"(a) The mobilities(in cm2/V.s )are read from Fig.A-2 in Appendix A as:\"\n",
      "print\"un=\",un,\"cm2/V.s [for NdE=5*(10**18) cm-3]\"\n",
      "print\"up=\",up,\"cm2/V.s [for Na=5*(10**16) cm-3]\"\n",
      "  \n",
      "#(b) Program to find the diffusion coefficients Dn and Dp \n",
      "Vt=26*(10**-3)            #Vt=kt/q=voltage equivalent of temperature in volt\n",
      "Dn=un*Vt\n",
      "Dp=up*Vt\n",
      "print\"(b) The diffusion coefficients are:\"\n",
      "print\"Dn=\",round(Dn,2),\"cm2/s\"  \n",
      "print\"Dp=\",round(Dp,1),\"cm2/s\"                \n",
      "\n",
      "#(c) Program to find the emitter efficiency factor y\n",
      "W=(10**-3)              #Base width in cm\n",
      "Le=(10**-2)             #Emitter Length in cm\n",
      "Na=5*(10**16)           #Acceptor density in base region in /cm3\n",
      "Nd=5*(10**18)           #Donor density in emitter region in /cm3\n",
      "y=1/(1+((Dp*Na*W)/(Dn*Nd*Le)))\n",
      "print\"(c) The emitter efficiency factor y=\",round(y,3)\n",
      "\n",
      "#(d) Program to find the transport factor B\n",
      "Tn=10**-6              #electron lifetime in seconds\n",
      "B=1-((W**2)/(2*Dn*Tn)) #transport factor\n",
      "print\"(d) The transport factor B=\",round(B,3)\n",
      "\n",
      "#(e) Program to find the current gain a\n",
      "a=B*y\n",
      "print\"(e) The current gain a=\",round(a,2)"
     ],
     "language": "python",
     "metadata": {},
     "outputs": [
      {
       "output_type": "stream",
       "stream": "stdout",
       "text": [
        "(a) The mobilities(in cm2/V.s )are read from Fig.A-2 in Appendix A as:\n",
        "un= 200 cm2/V.s [for NdE=5*(10**18) cm-3]\n",
        "up= 500 cm2/V.s [for Na=5*(10**16) cm-3]\n",
        "(b) The diffusion coefficients are:\n",
        "Dn= 5.2 cm2/s\n",
        "Dp= 13.0 cm2/s\n",
        "(c) The emitter efficiency factor y= 0.998\n",
        "(d) The transport factor B= 0.904\n",
        "(e) The current gain a= 0.9\n"
       ]
      }
     ],
     "prompt_number": 15
    },
    {
     "cell_type": "heading",
     "level": 2,
     "metadata": {},
     "source": [
      "Ex5.1.4:pg-211"
     ]
    },
    {
     "cell_type": "code",
     "collapsed": false,
     "input": [
      "import math                                                                     \n",
      "# Program to determine the maximum allowable power that the transisitor can carry \n",
      "    \n",
      "Xc=1            #Reactance in ohm\n",
      "ft=4*(10**9)    #Transit-time cut-off frequency in Hertz\n",
      "Em=1.6*(10**5)  #maximum electric field V/cm\n",
      "Vx=4*(10**5)    #saturation drift velocity in cm/sec\n",
      "  \n",
      "Pm=(((Em*Vx/(2*math.pi)))**2)/(Xc*(ft**2)); \n",
      "print\"The maximum allowable power(in W) that the transisitor can carry is=\",round(Pm,2),\"W\"\n"
     ],
     "language": "python",
     "metadata": {},
     "outputs": [
      {
       "output_type": "stream",
       "stream": "stdout",
       "text": [
        "The maximum allowable power(in W) that the transisitor can carry is= 6.48 W\n"
       ]
      }
     ],
     "prompt_number": 16
    },
    {
     "cell_type": "heading",
     "level": 2,
     "metadata": {},
     "source": [
      "Ex5.2.1:pg-212"
     ]
    },
    {
     "cell_type": "code",
     "collapsed": false,
     "input": [
      "#(a) Program to determine the latice match present in percent\n",
      "\n",
      "print\"The latice match present is within 1%\" \n",
      "  \n",
      "#(b) Program to find the conduction-band differential between Ge and GaAs\n",
      "X1=4     #electron affinity of Ge in eV\n",
      "X2=4.07  #electron affinity of GaAs in eV\n",
      "AE=X1-X2\n",
      "print\"The conduction-band differential is(in eV)=\",AE,\"eV\"  \n",
      "  \n",
      "#(c) Program to find the valence-band differential between Ge and GeA  \n",
      "Eg2=1.43 #energy gap in GaAs in eV\n",
      "Eg1=0.8   #energy gap in Ge in eV\n",
      "Ev=Eg2-Eg1-AE\n",
      "print\"The valence-band differential is(in eV)=\",Ev,\"eV\" \n",
      " "
     ],
     "language": "python",
     "metadata": {},
     "outputs": [
      {
       "output_type": "stream",
       "stream": "stdout",
       "text": [
        "The latice match present is within 1%\n",
        "The conduction-band differential is(in eV)= -0.07 eV\n",
        "The valence-band differential is(in eV)= 0.7 eV\n"
       ]
      }
     ],
     "prompt_number": 17
    },
    {
     "cell_type": "heading",
     "level": 2,
     "metadata": {},
     "source": [
      "Eg5.2.2:pg-215"
     ]
    },
    {
     "cell_type": "code",
     "collapsed": false,
     "input": [
      "#(a) Program to compute the built-in voltage in the p-GaAs side\n",
      "Na=6*(10**16)       #Acceptor density in p-GaAs side /cm3\n",
      "w02=-26*(10**-3)*log(Na/(1.8*(10**6)))                                                              \n",
      "print\"The built-in voltage(in V) in the p-GaAs side is=\",round(w02,2),\"V\"  \n",
      "                                                                   \n",
      "#(b) Program to compute the hole mobility\n",
      "up=400\n",
      "print\"The hole mobility is =\",up,\"cm2/V.s\"\n",
      "\n",
      "#(c) Program to compute the hole diffusion constant\n",
      "Dp=up*26*(10**-3)\n",
      "print\"The hole diffusion constant is Dp=\",Dp,\"cm2/s\"\n",
      " \n",
      "#(d) Program to compute the minority hole density in n-Ge region\n",
      "ni=1.5*(10**10)\n",
      "Nd=5*(10**18)  #Donor density in n-Ge region in /cm3\n",
      "pno=(ni**2)/Nd\n",
      "print\"The minority hole density (cm-3)in n-Ge is =\",int(pno),\"cm-3\"\n",
      "   \n",
      "#(e) Program to compute the minority electron density in p-GaAs region \n",
      "Na=6*(10**16)    #acceptor density in p-GaAs region in /cm3\n",
      "npo=((1.8*(10**6))**2)/Na\n",
      "print\"The minority electron density(in cm-3) in p-GaAs region is =\",npo,\"cm-3\"  #answer is wrong in book\n",
      "   \n",
      "#(f) Program to compute the hole diffusion length \n",
      "tp=6*(10**-6)   #hole lifetime in seconds\n",
      "Lp=sqrt(tp*Dp)\n",
      "print\"The hole diffusion length(in cm) is =\",\"{:.2e}\".format(Lp),\"cm\"\n",
      "   \n",
      "#(g) Program to compute the emitter-junction current \n",
      "   \n",
      "A=2*(10**-2)    #cross section cm2\n",
      "VE=1            #bias voltage at emitter junction in Volt\n",
      "q=1.6*(10**-19) #charge of electron in V\n",
      "l=VE/(26*(10**-3))\n",
      "I=(A*q*Dp*pno*(exp(l)-1))/(Lp)\n",
      "print\"The emitter-junction current(in A)is =\",round(I,2),\"A\"  #answer is wrong in book"
     ],
     "language": "python",
     "metadata": {},
     "outputs": [
      {
       "output_type": "stream",
       "stream": "stdout",
       "text": [
        "The built-in voltage(in V) in the p-GaAs side is= -0.63 V\n",
        "The hole mobility is = 400 cm2/V.s\n",
        "The hole diffusion constant is Dp= 10.4 cm2/s\n",
        "The minority hole density (cm-3)in n-Ge is = 45 cm-3\n",
        "The minority electron density(in cm-3) in p-GaAs region is = 5.4e-05 cm-3\n",
        "The hole diffusion length(in cm) is = 7.90e-03 cm\n",
        "The emitter-junction current(in A)is = 9.58 A\n"
       ]
      }
     ],
     "prompt_number": 18
    }
   ],
   "metadata": {}
  }
 ]
}