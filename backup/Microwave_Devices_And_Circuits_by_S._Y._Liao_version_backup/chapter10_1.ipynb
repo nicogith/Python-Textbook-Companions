{
 "metadata": {
  "name": "",
  "signature": "sha256:f6cde23ce2afec7e011f20ed56b14deeef046db9ca1319efd802d439a18d5a2d"
 },
 "nbformat": 3,
 "nbformat_minor": 0,
 "worksheets": [
  {
   "cells": [
    {
     "cell_type": "heading",
     "level": 1,
     "metadata": {},
     "source": [
      "Chapter10:MICROWAVE CROSSED-FIELD TUBES(M TYPE)"
     ]
    },
    {
     "cell_type": "heading",
     "level": 2,
     "metadata": {},
     "source": [
      "Eg10.1.1:pg-448"
     ]
    },
    {
     "cell_type": "code",
     "collapsed": false,
     "input": [
      "#(a) Calculate the cyclotron angular frequency\n",
      "em=1.759*(10**11)   #em=e/m is the charge is to mass ratio of electron\n",
      "B0=0.336            #Magnetic flux density in Wb/m**2\n",
      "wc=(em)*B0 \n",
      "print\"The cyclotron angular frequency(in rad)is =\",\"{:.2e}\".format(wc),\"rad\" \n",
      "\n",
      "#(b) Calculate the cutoff voltage for a fixed B0\n",
      "a=5*(10**-2)     #radius of cathode cylinder in meter\n",
      "b=10*(10**-2)    #radius of vane edge to center in meter\n",
      "Voc=(em*(B0**2)*(b**2)*((1-((a/b)**2))**2))/8 \n",
      "Voc=Voc/(10**5)  #converting Voc in KV\n",
      "print\"The cutoff voltage for a fixed B0(in KV)is =\",round(Voc,2),\"KV\" #calculation mistake in book\n",
      "\n",
      "#(c) Calculate the cutoff magnetic flux density for a fixed V0\n",
      "V0=26*(10**3)   #Anode voltage in volt\n",
      "Boc=sqrt((8*V0)/em)/(b*(1-((a/b)**2))) \n",
      "Boc=Boc*1000    #converting Boc in mWb/m**2\n",
      "print\"The cutoff magnetic flux density for a fixed V0(in mWb/m**2)is =\",round(Boc,3),\"mWb/m2\" "
     ],
     "language": "python",
     "metadata": {},
     "outputs": [
      {
       "output_type": "stream",
       "stream": "stdout",
       "text": [
        "The cyclotron angular frequency(in rad)is = 5.91e+10 rad\n",
        "The cutoff voltage for a fixed B0(in KV)is = 139.63 KV\n",
        "The cutoff magnetic flux density for a fixed V0(in mWb/m**2)is = 14.499 mWb/m2\n"
       ]
      }
     ],
     "prompt_number": 2
    },
    {
     "cell_type": "heading",
     "level": 2,
     "metadata": {},
     "source": [
      "Eg10.1.1A:pg-452"
     ]
    },
    {
     "cell_type": "code",
     "collapsed": false,
     "input": [
      "import math\n",
      "#(a) Calculate the angular resonant frequency\n",
      "f=9*(10**9)     #Operating frequency in Hertz\n",
      "wr=2*math.pi*f  #angular frequency\n",
      "print\"The angular resonant frequency(in rad)is =\",\"{:.3e}\".format(wr),\"rad\" \n",
      "\n",
      "#(b) Calculate the unloaded quality factor\n",
      "C=2.5*(10**-12) #vane capacitance in Farad\n",
      "Gr=2*(10**-4)   #Resonator conductance in mho\n",
      "Qun=wr*C/Gr \n",
      "print\"The unloaded quality factor is=\",int(round(Qun))\n",
      "\n",
      "#(c) Calculate the loaded quality factor\n",
      "C=2.5*(10**-12) #vane capacitance in Farad\n",
      "Gr=2*(10**-4)   #Resonator conductance in mho\n",
      "Gl=2.5*(10**-5) #loaded conductance in mho\n",
      "Ql=wr*C/(Gl+Gr) \n",
      "print\"The loaded quality factor is=\",int(Ql)\n",
      "\n",
      "#(d) Calculate the external quality factor\n",
      "C=2.5*(10**-12) #vane capacitance in Farad\n",
      "Gl=2.5*(10**-5) #loaded conductance in mho\n",
      "Qex=wr*C/Gl \n",
      "print\"The external quality factor is=\",int(round(Qex)) \n",
      "\n",
      "#(e) Calculate the circuit efficiency\n",
      "n=(1/(1+(Qex/Qun))) \n",
      "n=n*100 \n",
      "print\"The circuit efficiency(in %) is=\",round(n,2),\"%\"\n",
      "\n",
      "#(f) Calculate the electronic efficiency\n",
      "V0=5.5*(10**3)     #Anode Voltage in volt\n",
      "I0=4.5             #Beam current in Ampere\n",
      "Plost=18.5*(10**3) #power loss in Watt\n",
      "ne=((V0*I0)-(Plost))/(V0*I0) \n",
      "ne=ne*100 \n",
      "print\"The electronic efficiency(in %) is=\",round(ne,2),\"%\" "
     ],
     "language": "python",
     "metadata": {},
     "outputs": [
      {
       "output_type": "stream",
       "stream": "stdout",
       "text": [
        "The angular resonant frequency(in rad)is = 5.655e+10 rad\n",
        "The unloaded quality factor is= 707\n",
        "The loaded quality factor is= 628\n",
        "The external quality factor is= 5655\n",
        "The circuit efficiency(in %) is= 11.11 %\n",
        "The electronic efficiency(in %) is= 25.25 %\n"
       ]
      }
     ],
     "prompt_number": 3
    },
    {
     "cell_type": "heading",
     "level": 2,
     "metadata": {},
     "source": [
      "Eg10.1.2:pg-457"
     ]
    },
    {
     "cell_type": "code",
     "collapsed": false,
     "input": [
      "#(a) Calculate the Hull cutoff voltage for fixed Bo\n",
      "em=1.759*(10**11) #em=e/m is the charge to mass ratio of electron\n",
      "Bo=0.01           #Magnetic flux density in Wb/m**2\n",
      "d=5*(10**-2)      #Distance between cathode and anode in meter\n",
      "Voc=(1.0/2)*(em)*(Bo**2)*(d**2) \n",
      "Voc=Voc/1000      #converting Voc in KV\n",
      "print\"The Hull cutoff voltage for fixed Bo (in KV)is =\",round(Voc),\"KV\"\n",
      "\n",
      "#(b) Calculate the Hull cutoff magnetic field density for fixed Vo\n",
      "V0=10*(10**3)     #Anode voltage in Volt\n",
      "Boc=(1.0/d)*sqrt((2*V0)/(em)) \n",
      "Boc=Boc*1000      #in mWb/m2\n",
      "print\"The Hull cutoff magnetic field density for fixed Vo(in mWb/m**2)is =\",round(Boc,2),\"mWb/m2\" "
     ],
     "language": "python",
     "metadata": {},
     "outputs": [
      {
       "output_type": "stream",
       "stream": "stdout",
       "text": [
        "The Hull cutoff voltage for fixed Bo (in KV)is = 22.0 KV\n",
        "The Hull cutoff magnetic field density for fixed Vo(in mWb/m**2)is = 6.74 mWb/m2\n"
       ]
      }
     ],
     "prompt_number": 4
    },
    {
     "cell_type": "heading",
     "level": 2,
     "metadata": {},
     "source": [
      "Eg10.1.2a:pg-459"
     ]
    },
    {
     "cell_type": "code",
     "collapsed": false,
     "input": [
      "#(a) Calculate the electron velocity at the hub surface\n",
      "em=1.759*(10**11) #em=e/m is the charge to mass ratio of electron\n",
      "Bo=0.015          #Magnetic flux density in Wb/m**2\n",
      "d=5*(10**-2)      #Distance between cathode and anode in meter\n",
      "h=2.77*(10**-2)   #hub thickness in meter\n",
      "V=em*Bo*h \n",
      "print\"The electron velocity at the hub surface(in m/s)is =\",\"{:.1e}\".format(V),\"m/s\" #answer in book is wrong\n",
      "\n",
      "#(b) Calculate the phase velocity for synchronism\n",
      "Vph=V             #Vph=W/B and for synchronism Vph=V\n",
      "print\"The phase velocity for synchronism is Vph=w/B =\",\"{:.1e}\".format(Vph),\"m/s\" \n",
      "\n",
      "#(c) Calculate the Hartree anode voltage\n",
      "Vph=int(Vph/1000000)    #converting the Vph in to the format printed above for easy calculations\n",
      "Vph=Vph*1000000\n",
      "Voh=((Vph*Bo*d))-((1.0/2)*(1/em)*(Vph**2)) \n",
      "Voh=Voh/1000      #in KV\n",
      "print\"The Hartree anode voltage (in KV) is =\",round(Voh,2),\"KV\""
     ],
     "language": "python",
     "metadata": {},
     "outputs": [
      {
       "output_type": "stream",
       "stream": "stdout",
       "text": [
        "The electron velocity at the hub surface(in m/s)is = 7.3e+07 m/s\n",
        "The phase velocity for synchronism is Vph=w/B = 7.3e+07 m/s\n",
        "The Hartree anode voltage (in KV) is = 39.6 KV\n"
       ]
      }
     ],
     "prompt_number": 6
    },
    {
     "cell_type": "heading",
     "level": 2,
     "metadata": {},
     "source": [
      "Eg10.1.5:pg-465"
     ]
    },
    {
     "cell_type": "code",
     "collapsed": false,
     "input": [
      "#(a) Calculate the cutoff voltage for fixed Bo\n",
      "em=1.759*(10**11) #em=e/m is the charge to mass ratio of electron\n",
      "Bo=0.01           #Magnetic flux density Wb/m**2\n",
      "a=3*(10**-2)      #anode radius in meter\n",
      "b=4*(10**-2)      #Cathode radius in meter\n",
      "Voc=(1.0/8)*(em)*(Bo**2)*(a**2)*((1-((b/a)**2))**2) \n",
      "Voc=Voc/1000      # in KV\n",
      "print\"The cutoff voltage for fixed Bo(in KV)is =\",round(Voc,2),\"KV\"\n",
      "\n",
      "#(b) Calculate the cutoff magnetic flux density for fixed Vo\n",
      "V0=10*(10**3)     #Anode voltage in Volt\n",
      "Boc=(-1/(sqrt(em)))*(sqrt(8*V0))/((a)*(1-((b/a)**2))) \n",
      "print\"The cutoff magnetic flux density for fixed Vo(in Wb/m**2)is =\",round(Boc,4),\"Wb/m2\" "
     ],
     "language": "python",
     "metadata": {},
     "outputs": [
      {
       "output_type": "stream",
       "stream": "stdout",
       "text": [
        "The cutoff voltage for fixed Bo(in KV)is = 1.2 KV\n",
        "The cutoff magnetic flux density for fixed Vo(in Wb/m**2)is = 0.0289 Wb/m2\n"
       ]
      }
     ],
     "prompt_number": 7
    },
    {
     "cell_type": "heading",
     "level": 2,
     "metadata": {},
     "source": [
      "Eg10.1.6:pg-467"
     ]
    },
    {
     "cell_type": "code",
     "collapsed": false,
     "input": [
      "#(a) Calculate the agile excursion\n",
      "t=0.2*(10**-6) #pulse duration in seconds\n",
      "N=14           #pulse rate on target per scan\n",
      "AC=N/t         #agile Excursion\n",
      "AC=AC/(10**6)  #in MHz\n",
      "print\"The agile excursion(in MHz)is =\",int(AC),\"MHz\"\n",
      "\n",
      "#(b) Calculate the pulse-to-pulse frequency separation\n",
      "fp=1.0/t \n",
      "fp=fp/(10**6) #in MHz\n",
      "print\"The pulse-to-pulse frequency separation(in MHz)is =\",int(fp),\"MHz\" \n",
      "\n",
      "#(c) Calculate the signal frequency\n",
      "DC=0.001      #Duty cycle\n",
      "f=(DC/t) \n",
      "f=f/(10**3)   #in KHz\n",
      "print\"The signal frequency(in KHz)is =\",int(f),\"KHz\"\n",
      "\n",
      "#(d) Calculate the time for N pulses\n",
      "Time=N/f \n",
      "print\"The time for 14 pulses per second (in ms)is =\",Time,\"ms\" \n",
      "\n",
      "#(e) Calculate the agile rate\n",
      "Agile_rate=1/(2*Time*(10**-3)) \n",
      "print\"The agile rate(in Hz)is =\",round(Agile_rate,2),\"Hz\" "
     ],
     "language": "python",
     "metadata": {},
     "outputs": [
      {
       "output_type": "stream",
       "stream": "stdout",
       "text": [
        "The agile excursion(in MHz)is = 70 MHz\n",
        "The pulse-to-pulse frequency separation(in MHz)is = 5 MHz\n",
        "The signal frequency(in KHz)is = 5 KHz\n",
        "The time for 14 pulses per second (in ms)is = 2.8 ms\n",
        "The agile rate(in Hz)is = 178.57 Hz\n"
       ]
      }
     ],
     "prompt_number": 8
    },
    {
     "cell_type": "heading",
     "level": 2,
     "metadata": {},
     "source": [
      "Eg10.2.1:pg-473"
     ]
    },
    {
     "cell_type": "code",
     "collapsed": false,
     "input": [
      "#(a) Calculate the induced RF power\n",
      "Vao=2*(10**3) #Anode dc voltage in Volt\n",
      "Iao=1.5       #Anode dc current in ampere\n",
      "ne=0.20       #Electronic efficiency\n",
      "Pgen=Vao*Iao*ne \n",
      "print\"The induced RF power(in W)is =\",int(Pgen),\"W\" \n",
      "\n",
      "#(b) Calculate the total RF output power\n",
      "Pin=80       #RF input power in Watt\n",
      "Pout=Pin+(Pgen) \n",
      "print\"The total RF output power(in W)is =\",int(Pout),\"W\" \n",
      "\n",
      "#(c) Calculate the power gain\n",
      "g=Pout/Pin \n",
      "g=10*log10(g) #in decibels\n",
      "print\"The power gain(in dB)is =\",round(g,1),\"dB\" "
     ],
     "language": "python",
     "metadata": {},
     "outputs": [
      {
       "output_type": "stream",
       "stream": "stdout",
       "text": [
        "The induced RF power(in W)is = 600 W\n",
        "The total RF output power(in W)is = 680 W\n",
        "The power gain(in dB)is = 9.3 dB\n"
       ]
      }
     ],
     "prompt_number": 9
    },
    {
     "cell_type": "heading",
     "level": 2,
     "metadata": {},
     "source": [
      "Eg10.3.1:pg-478"
     ]
    },
    {
     "cell_type": "code",
     "collapsed": false,
     "input": [
      "import math\n",
      "#(a) Calculate the dc electron-beam velocity\n",
      "V0=15*(10**3)   #Anode voltage in Volt\n",
      "v0=0.593*(10**6)*sqrt(V0)   #v0=sqrt((2*e*V0)/m),where e is the charge on electron and m is the mass of electron   \n",
      "                            #sqrt(2*e/m)=0.593*(10**6)\n",
      "print\"The dc electron-beam velocity (in m/s)is  =\",\"{:.3e}\".format(v0),\"m/s\" #answer in book is wrong\n",
      "\n",
      "#(b) Calculate the electron-beam phase constant\n",
      "f=8*(10**9)     #operating frequency in Hertz\n",
      "w=2*math.pi*f   #angular frequency in Hertz\n",
      "v0=int(v0/100000)           #converting v0 in to the format printed above for easy calculations\n",
      "v0=v0*100000\n",
      "Be=w/v0 \n",
      "print\"The electron-beam phase constant(in rad/m)is  =\",round(Be,2),\"rad/s\" \n",
      "\n",
      "#(c) Calculate the cyclotron angular frequency\n",
      "em=1.759*(10**11) #em=e/m is the charge to mass ratio of electron\n",
      "Bo=0.2            #Magnetic flux density in Wb/m**2\n",
      "wc=(em*Bo) \n",
      "print\"The cyclotron angular frequency(in rad/s)is  =\",\"{:.3e}\".format(wc),\"rad/s\" \n",
      "\n",
      "#(d) Calculate the cyclotron phase constant\n",
      "Bm=wc/v0 \n",
      "print\"The cyclotron phase constant(in rad/m)is  =\",round(Bm,2),\"rad/s\" \n",
      "\n",
      "#(e) Calculate the gain parameter\n",
      "Z0=50    #characteristic impedance in Ohms\n",
      "I0=3.0     #Anode current in ampere\n",
      "C=((I0*Z0)/(4*V0))**(1/3.0)\n",
      "print\"The gain parameter is  =\",round(C,3) "
     ],
     "language": "python",
     "metadata": {},
     "outputs": [
      {
       "output_type": "stream",
       "stream": "stdout",
       "text": [
        "The dc electron-beam velocity (in m/s)is  = 7.263e+07 m/s\n",
        "The electron-beam phase constant(in rad/m)is  = 692.36 rad/s\n",
        "The cyclotron angular frequency(in rad/s)is  = 3.518e+10 rad/s\n",
        "The cyclotron phase constant(in rad/m)is  = 484.57 rad/s\n",
        "The gain parameter is  = 0.136\n"
       ]
      }
     ],
     "prompt_number": 10
    },
    {
     "cell_type": "heading",
     "level": 2,
     "metadata": {},
     "source": [
      "Eg10.4.1:pg-483"
     ]
    },
    {
     "cell_type": "code",
     "collapsed": false,
     "input": [
      "import math\n",
      "#(a)Calculate the dc electron velocity\n",
      "V0=20*(10**3) #Anode voltage in Volt\n",
      "v0=0.593*(10**6)*sqrt(V0)    #v0=sqrt((2*e*V0)/m),where e is the charge on electron and m is the mass of electron   \n",
      "                             #sqrt(2*e/m)=0.593*(10**6)\n",
      "print\"The dc electron velocity (in m/s)is  =\",\"{:.3e}\".format(v0),\"m/s\" \n",
      "\n",
      "#(b) Calculate the electron-beam phase constant\n",
      "f=4*(10**9)   #operating frequency in Hertz\n",
      "w=2*math.pi*f #angular frequency in Hertz\n",
      "Be=w/v0 \n",
      "print\"The electron-beam phase constant(in rad/m)is  =\",int(round(Be)),\"rad/m\" \n",
      "\n",
      "#(c) Calculate the delta differentials\n",
      "b=0.5       #b factor\n",
      "print\"The Delta differentials are:\" \n",
      "s1=(1j)*((b-sqrt((b**2)+4))/2)\n",
      "s1=round(s1.imag,2)\n",
      "s1=0+1j*s1\n",
      "print\"s1=\",s1 \n",
      "s2=(1j)*((b+sqrt((b**2)+4))/2)\n",
      "s2=round(s2.imag,2)\n",
      "s2=0+1j*s2\n",
      "print\"s2=\",s2\n",
      "\n",
      "#(d)Calculate the propagation constants\n",
      "D=0.8      #D factor\n",
      "print\"The propagation constants are:\" \n",
      "r1=((1j)*(round(Be)+b))+(b*D*s1) \n",
      "r1=round(r1.imag,1)\n",
      "r1=0+1j*r1\n",
      "print\"r1=\",r1\n",
      "r2=((1j)*(round(Be)+b))+(b*D*s2) # in book the value of s2 is used with negative sign which is wrong\n",
      "r2=round(r2.imag,2)\n",
      "r2=0+1j*r2\n",
      "print\"r2=\",r2 \n",
      "\n",
      "#(e)Calculate the oscillation condition\n",
      "print\"The oscillation occurs at  DN=1.25 for n=1\" \n",
      "N=1.25/D \n",
      "print\"then N=\",N \n",
      "l=(2*math.pi*N)/round(Be) \n",
      "l=l*100 #in cm\n",
      "print\"and l= 2*pi*N/Be(in cm) =\",round(l,2),\"cm\""
     ],
     "language": "python",
     "metadata": {},
     "outputs": [
      {
       "output_type": "stream",
       "stream": "stdout",
       "text": [
        "The dc electron velocity (in m/s)is  = 8.386e+07 m/s\n",
        "The electron-beam phase constant(in rad/m)is  = 300 rad/m\n",
        "The Delta differentials are:\n",
        "s1= -0.78j\n",
        "s2= 1.28j\n",
        "The propagation constants are:\n",
        "r1= 300.2j\n",
        "r2= 301.01j\n",
        "The oscillation occurs at  DN=1.25 for n=1\n",
        "then N= 1.5625\n",
        "and l= 2*pi*N/Be(in cm) = 3.27 cm\n"
       ]
      }
     ],
     "prompt_number": 11
    }
   ],
   "metadata": {}
  }
 ]
}