{
 "metadata": {
  "name": "",
  "signature": "sha256:0febf6654b4226cea8bd31c369bda102743b50db8084bc6251d5320576f18189"
 },
 "nbformat": 3,
 "nbformat_minor": 0,
 "worksheets": [
  {
   "cells": [
    {
     "cell_type": "heading",
     "level": 1,
     "metadata": {},
     "source": [
      "Chapter6:MICROWAVE FIELD-EFFECT TRANSISTORS"
     ]
    },
    {
     "cell_type": "heading",
     "level": 2,
     "metadata": {},
     "source": [
      "Eg6.1.1:pg-229"
     ]
    },
    {
     "cell_type": "code",
     "collapsed": false,
     "input": [
      "#calculation of pinch-off voltage\n",
      "\n",
      "a=0.1*(10**-6)           #channel height in m\n",
      "Nd=8*(10**23)            #Electron Concetration in m-3\n",
      "er=11.80                 #relative dielectric constant\n",
      "es=8.854*(10**-12)*er    #permittivity of silicon in F/m\n",
      "q=1.6*(10**-19)          #charge of electron in C\n",
      "Vp=(q*Nd*(a**2))/(2*es)  #pinch-off voltage\n",
      "\n",
      "print\"Pinch-off volatge in(Volts)is=\",round(Vp,2),\"Volts\" #answer is wrong in book \n"
     ],
     "language": "python",
     "metadata": {},
     "outputs": [
      {
       "output_type": "stream",
       "stream": "stdout",
       "text": [
        "Pinch-off volatge in(Volts)is= 6.13 Volts\n"
       ]
      }
     ],
     "prompt_number": 1
    },
    {
     "cell_type": "heading",
     "level": 2,
     "metadata": {},
     "source": [
      "Eg6.1.2:pg-233"
     ]
    },
    {
     "cell_type": "code",
     "collapsed": false,
     "input": [
      "import math\n",
      "#(a)Calculate the pinch-off Voltage in Volts\n",
      "a=0.2*(10**-4)            #channel height in cm\n",
      "Nd=1*(10**17)             #Electron density in /cm3\n",
      "er=11.80                  #relative dielectric constant\n",
      "es=8.854*(10**-14)*er     #permittivity of silicon in F/cm\n",
      "q=1.6*(10**-19)           #charge of electron in C\n",
      "Vp=(q*Nd*(a**2))/(2*es)   #pinch-off voltage\n",
      "print\"The pinch-off volatge in(Volts)is=\",round(Vp,2),\"V\"\n",
      "\n",
      "#(b)Calculate the pinch-off current\n",
      "un=800                    #electron mobility in cm2/V.s\n",
      "L=8*(10**-4)              #channel length in cm\n",
      "Z=50*(10**-4)             #channel width in cm\n",
      "a=0.2*(10**-4)            #channel height in cm\n",
      "Nd=1*(10**17)             #Electron density in /cm3\n",
      "er=11.80                  #relative dielectrin constant\n",
      "es=8.854*(10**-14)*er     #permittivity of silicon in F/cm\n",
      "q=1.6*(10**-19)           #charge of electron in C\n",
      "Ip=(un*(q**2)*(Nd**2)*Z*(a**3))/(L*es) #pinch-off voltage\n",
      "Ip=Ip*1000                # in mA\n",
      "print\"The pinch-off current in(mA)is=\",round (Ip,2),\"mA\"\n",
      "\n",
      "#(c)Calculate the built-in voltage\n",
      "Nd=1*(10**17)             #Electron density in /cm3\n",
      "Na=1*(10**19)             #hole density in /cm3\n",
      "w0=26*(10**-3)*math.log((Nd*Na)/((1.5*(10**10))**2))\n",
      "print\"Built-in voltage in(volts)is=\",round(w0,3),\"V\"\n",
      "\n",
      "#(d) Calculate the drain current\n",
      "Vd=10                     #drain voltage in volt\n",
      "Vg=-1.5                   #gate voltage in volt\n",
      "Vg=-1*Vg                  #we take only magnitude\n",
      "x=sqrt(((Vd+Vg+round(w0,3))/round(Vp,2))**3)\n",
      "x=x*2/3\n",
      "y=sqrt(((Vg+round(w0,3))/(round(Vp,2)))**3)\n",
      "y=y*2/3\n",
      "Id=(Vd/round(Vp,2))-x+y\n",
      "Id=round(Ip,2)*Id\n",
      "print\"The drain current (mA)is=\",round(Id,2),\"mA\"   #answer is wrong in book\n",
      "\n",
      "#(e) Calculate the saturation drain current at Vg=0\n",
      "Vg=-1.5                   #gate voltage in volt\n",
      "Vg=-1*Vg                  #we take only magnitude\n",
      "x=(Vg+round(w0,3))/(round(Vp,2))\n",
      "y=sqrt(((Vg+round(w0,3))/(round(Vp,2)))**3)\n",
      "y=y*2/3\n",
      "Idsat=(1.0/3)-x+y\n",
      "Idsat=round(Ip,2)*Idsat\n",
      "print\"The saturation drain current (mA)is=\",round(Idsat,3),\"mA\" #answer is wrong in book\n",
      "\n",
      "#(f) Calculate the cut-off frequency\n",
      "fc=(2*un*q*Nd*(a**2))/(math.pi*es*(L**2));\n",
      "fc=fc/(10**9)    #in GHz\n",
      "print\"The cut-off frequency(Ghz)=\",round(fc,1),\"GHz\""
     ],
     "language": "python",
     "metadata": {},
     "outputs": [
      {
       "output_type": "stream",
       "stream": "stdout",
       "text": [
        "The pinch-off volatge in(Volts)is= 3.06 V\n",
        "The pinch-off current in(mA)is= 9.8 mA\n",
        "Built-in voltage in(volts)is= 0.937 V\n",
        "The drain current (mA)is= -16.86 mA\n",
        "The saturation drain current (mA)is= 0.105 mA\n",
        "The cut-off frequency(Ghz)= 4.9 GHz\n"
       ]
      }
     ],
     "prompt_number": 41
    },
    {
     "cell_type": "heading",
     "level": 2,
     "metadata": {},
     "source": [
      "Eg6.2.1:pg-239"
     ]
    },
    {
     "cell_type": "code",
     "collapsed": false,
     "input": [
      "#calculate Pinch-Off Voltage Of a MESFET\n",
      "\n",
      "a=0.1*(10**-6)        #channel height in meter\n",
      "Nd=8*(10**23)         #Electron Concetration /m3\n",
      "er=13.10              #relative dielectric constant\n",
      "es=8.854*(10**-12)*er #permittivity of GaAs in F/m\n",
      "q=1.6*(10**-19)       #electronic charge in C\n",
      "Vp=(q*Nd*(a**2))/(2*es)#pinch-off voltage\n",
      "\n",
      "print\"Pinch-off volatge in(Volts)is=\",round(Vp),\"V\"\n"
     ],
     "language": "python",
     "metadata": {},
     "outputs": [
      {
       "output_type": "stream",
       "stream": "stdout",
       "text": [
        "Pinch-off volatge in(Volts)is= 6.0 V\n"
       ]
      }
     ],
     "prompt_number": 42
    },
    {
     "cell_type": "heading",
     "level": 2,
     "metadata": {},
     "source": [
      "Eg6.2.2:pg-244"
     ]
    },
    {
     "cell_type": "code",
     "collapsed": false,
     "input": [
      "\n",
      "#(a) Calculate the pinch-off voltage\n",
      "a=0.1*(10**-6)           #channel height in meter\n",
      "Nd=8*(10**23)            #Electron Concetration in /m3\n",
      "er=13.1                  #relative dielectric constant\n",
      "e=8.854*(10**-12)*er     #permittivity of GaAs in F/m\n",
      "q=1.6*(10**-19)          #electronic charge in C\n",
      "Vp=(q*Nd*(a**2))/(2*e)   #pinch-off voltage\n",
      "\n",
      "print\"Pinch-off volatge in(Volts)is=\",round(Vp,2),\"V\"\n",
      "\n",
      "#(b)Calculate the velocity ratio\n",
      "un=0.08                 #electron mobility in m2/V.s\n",
      "vs=2*(10**5)            #saturation drift velocity in m/s\n",
      "L=14*(10**-6)           #channel length in meter   \n",
      "n=(Vp*un)/(vs*L)\n",
      "print\"The velocity ratio is=\",round(n,3)\n",
      "\n",
      "#(c) Calculate the saturation current at Vg=0\n",
      "L=14*(10**-6)         #channel length in meter\n",
      "Z=36*(10**-6)         #channel width in meter\n",
      "Ipsat=(q*Nd*un*a*Z*round(Vp,2))/(3*L)\n",
      "Ipsat=Ipsat*1000       #in mA\n",
      "print\"The saturation current at Vg=0 is=\",round(Ipsat,3),\"mA\"\n",
      "\n",
      "#(d) Calculate the drain current\n",
      "\n",
      "Vd=5                    #drain voltage\n",
      "Vg=-2                   #gate voltage\n",
      "Vg=-1*Vg\n",
      "u=sqrt((Vd+Vg)/Vp)\n",
      "p=sqrt((Vg)/Vp)\n",
      "Id=(3*((u**2)-(p**2))-2*((u**3)-(p**3)))/(1+(n*((u**2)-(p**2))))\n",
      "Id=Id*Ipsat\n",
      "print\"The drain current (mA)is=\",round(Id,2),\"mA\""
     ],
     "language": "python",
     "metadata": {},
     "outputs": [
      {
       "output_type": "stream",
       "stream": "stdout",
       "text": [
        "Pinch-off volatge in(Volts)is= 5.52 V\n",
        "The velocity ratio is= 0.158\n",
        "The saturation current at Vg=0 is= 4.845 mA\n",
        "The drain current (mA)is= 1.26 mA\n"
       ]
      }
     ],
     "prompt_number": 44
    },
    {
     "cell_type": "heading",
     "level": 2,
     "metadata": {},
     "source": [
      "Eg6.2.3:pg-247"
     ]
    },
    {
     "cell_type": "code",
     "collapsed": false,
     "input": [
      "import math\n",
      "#(a) Calculate the cut-off frequency\n",
      "gm=0.05         #device transconductance in mho     \n",
      "Cgs=0.60*(10**-12) #gate source capacitance in Farad\n",
      "fco=(gm)/(2*math.pi*Cgs) \n",
      "fco=fco/(10**9)   #in GHz\n",
      "print\"The cut-off frequency(in GHz)is=\",round(fco,2),\"GHz\" \n",
      "\n",
      "#(b)Calculate the maximum operating frequency\n",
      "Rd=450   #drain resistance in ohms\n",
      "Rs=2.5   #source-gate resistance in ohms\n",
      "Rg=3     #gate metallization resistance in ohms\n",
      "Ri=2.5   #input resistance\n",
      "fmax=(fco/2)*sqrt(Rd/(Rs+Rg+Ri)) \n",
      "print\"The maximum operating frequency(in Ghz)is=\",round(fmax,2),\"GHz\""
     ],
     "language": "python",
     "metadata": {},
     "outputs": [
      {
       "output_type": "stream",
       "stream": "stdout",
       "text": [
        "The cut-off frequency(in GHz)is= 13.26 GHz\n",
        "The maximum operating frequency(in Ghz)is= 49.74 GHz\n"
       ]
      }
     ],
     "prompt_number": 46
    },
    {
     "cell_type": "heading",
     "level": 2,
     "metadata": {},
     "source": [
      "Eg6.3.1:pg-251"
     ]
    },
    {
     "cell_type": "code",
     "collapsed": false,
     "input": [
      "#Calculate the Drain Current\n",
      "q=1.60*(10**-19)     #charge of electron in C\n",
      "n=5.21*(10**15)      #two-dimensional electron gas density in /m2\n",
      "W=150*(10**-6)       #gate width in meter\n",
      "v=2*(10**5)          #electron velocity in m/sec\n",
      "Ids=q*n*W*v \n",
      "Ids=1000*Ids         #in mA\n",
      "print\"The drain current in(mA) is=\",int(Ids),\"mA\"\n",
      "\n"
     ],
     "language": "python",
     "metadata": {},
     "outputs": [
      {
       "output_type": "stream",
       "stream": "stdout",
       "text": [
        "The drain current in(mA) is= 25 mA\n"
       ]
      }
     ],
     "prompt_number": 47
    },
    {
     "cell_type": "heading",
     "level": 2,
     "metadata": {},
     "source": [
      "Eg6.3.2:pg-253"
     ]
    },
    {
     "cell_type": "code",
     "collapsed": false,
     "input": [
      "#(a) Calculate the conduction band-edge difference between GaAs and AlGaAs\n",
      "Ega=1.8           #AlGaAs bandgap in volt\n",
      "Egg=1.43          #GaAs bandgap in volt\n",
      "AEc=Ega-Egg \n",
      "print\"The conduction band-edge difference(in Volt) is=\",AEc,\"V\"\n",
      "\n",
      "#(b) Calculate the sesitivity of the HEMT\n",
      "q=1.6*(10**-19)    #charge of electron in C\n",
      "Nd=2*(10**24)     #donar concentration /m3\n",
      "wms=0.8           #metal-semiconductor schottky barrier potential in volt\n",
      "Vth=0.13          #threshold voltage in volt\n",
      "er=4.43           #AlGaAs dielectric constant\n",
      "e=er*(8.854*(10**-12)) \n",
      "S=-sqrt((2*q*Nd*(wms-AEc-Vth))/(e)) #sesitivity of the HEMT\n",
      "S=S/(10**6) \n",
      "S=-1*S\n",
      "print\"The sensitivity of the HEMT (mV/nm) is=\",int(round(S)),\"mV/nM\"\n"
     ],
     "language": "python",
     "metadata": {},
     "outputs": [
      {
       "output_type": "stream",
       "stream": "stdout",
       "text": [
        "The conduction band-edge difference(in Volt) is= 0.37 V\n",
        "The sensitivity of the HEMT (mV/nm) is= 70 mV/nM\n"
       ]
      }
     ],
     "prompt_number": 48
    },
    {
     "cell_type": "heading",
     "level": 2,
     "metadata": {},
     "source": [
      "Eg6.4.1:pg-260"
     ]
    },
    {
     "cell_type": "code",
     "collapsed": false,
     "input": [
      "import math\n",
      "#(a) Calculate the surface potential ws(inv) for strong inversion\n",
      "kt=26*(10**-3) \n",
      "Na=3*(10**17)       #doping concentration in /cm3\n",
      "Ni=1.5*(10**10) \n",
      "wsinv=2*kt*math.log(Na/Ni) \n",
      "print\"The strong potential w(inv) for strong inversion(in volts) is=\",round(wsinv,3),\"V\"\n",
      "\n",
      "#(b)Calculate the insulator Capacitance\n",
      "eir=4               #relative dielectric constant of SiO2\n",
      "ei=8.854*(10**-12)*eir #permittivity of SiO2 in F/m\n",
      "d=0.01*(10**-6)     #insulator depth in meter\n",
      "Ci=ei/d \n",
      "Ci=Ci*(1000)  \n",
      "print\"The insulator Capacitance(in mF/m**2) is=\",round(Ci,2),\"mF/m2\"\n",
      "\n",
      "#(c) Calculate the threshold voltage\n",
      "q=1.6*(10**-19) \n",
      "Na=3.0*(10**23) \n",
      "er=11.8 \n",
      "e=8.854*(10**-12)*er  #permittivity of SiO2 in F/m\n",
      "Vth=wsinv+((2/(Ci*(10**-3)))*sqrt(e*q*Na*(wsinv/2)))\n",
      "print\"The threshold voltage(in Volts) is=\",round(Vth,2),\"V\"\n"
     ],
     "language": "python",
     "metadata": {},
     "outputs": [
      {
       "output_type": "stream",
       "stream": "stdout",
       "text": [
        "The strong potential w(inv) for strong inversion(in volts) is= 0.874 V\n",
        "The insulator Capacitance(in mF/m**2) is= 3.54 mF/m2\n",
        "The threshold voltage(in Volts) is= 1.71 V\n"
       ]
      }
     ],
     "prompt_number": 49
    },
    {
     "cell_type": "heading",
     "level": 2,
     "metadata": {},
     "source": [
      "Eg6.4.2:pg-262"
     ]
    },
    {
     "cell_type": "code",
     "collapsed": false,
     "input": [
      "#(a)Calculate the insulator capacitance\n",
      "eir=3.9                   #constant of SiO2\n",
      "ei=8.854*(10**-12)*eir    #permittivity of SiO2 in F/m\n",
      "d=0.05*(10**-6)           #insulator thickness in meter\n",
      "Ci=ei/d \n",
      "print\"The insulator capacitance(in F/m**2) is=\",\"{:.2e}\".format(Ci),\"F/m2\"\n",
      "\n",
      "#(b)Calculate the saturation drain current\n",
      "Z=12*(10**-6)       #channel depth in meter\n",
      "Vg=5                #gate voltage in volt\n",
      "Vth=0.10            #threshold voltage in volt\n",
      "vs=1.70*(10**5)      #electron velocity in m/s\n",
      "Idsat=Z*round(Ci,6)*(Vg-Vth)*vs\n",
      "Idsat=Idsat*1000    #in mA\n",
      "print\"The saturation drain current(in mA) is=\",round(Idsat,2),\"mA\"\n",
      "\n",
      "#(c)Calculate the transconductance in the saturation region\n",
      "Z=12*(10**-6)       #channel depth in meter\n",
      "vs=1.70*(10**5)     #electron velocity in m/s\n",
      "gmsat=Z*Ci*vs \n",
      "gmsat=gmsat*10**3\n",
      "print\"the transconductance in the saturation region(in millimhos) is=\",round(gmsat,2),\"millimhos\" \n",
      "\n",
      "#(d)Calculate the maximum operating frequency in the saturation region\n",
      "vs=1.70*(10**5)     \n",
      "L=4*(10**-6)        #channel length in meter\n",
      "fm=vs/(2*math.pi*L) \n",
      "fm=fm/(10**9)     #in GHz\n",
      "print\"The maximum operating frequency in the saturation region(in GHz) is=\",round(fm,2),\"GHz\""
     ],
     "language": "python",
     "metadata": {},
     "outputs": [
      {
       "output_type": "stream",
       "stream": "stdout",
       "text": [
        "The insulator capacitance(in F/m**2) is= 6.91e-04 F/m2\n",
        "The saturation drain current(in mA) is= 6.91 mA\n",
        "the transconductance in the saturation region(in millimhos) is= 1.41 millimhos\n",
        "The maximum operating frequency in the saturation region(in GHz) is= 6.76 GHz\n"
       ]
      }
     ],
     "prompt_number": 50
    },
    {
     "cell_type": "heading",
     "level": 2,
     "metadata": {},
     "source": [
      "Eg6.6.1:pg-278"
     ]
    },
    {
     "cell_type": "code",
     "collapsed": false,
     "input": [
      "# Calculate the power dissipation per bit\n",
      "n=3          #number of phases  \n",
      "f=10*(10**6) #clock frequency in Hertz\n",
      "V=10         #applied voltage in volts\n",
      "Qmax=0.04*(10**-12) #maximum stored charges in Coulomb\n",
      "p=n*f*V*Qmax \n",
      "p=p*(10**6)  #in mW\n",
      "print\"The power dissipation per bit(micro watt)is=\",int(p),\"micro Watt\""
     ],
     "language": "python",
     "metadata": {},
     "outputs": [
      {
       "output_type": "stream",
       "stream": "stdout",
       "text": [
        "The power dissipation per bit(micro watt)is= 12 micro Watt\n"
       ]
      }
     ],
     "prompt_number": 51
    },
    {
     "cell_type": "heading",
     "level": 2,
     "metadata": {},
     "source": [
      "Eg6.6.2:pg-279"
     ]
    },
    {
     "cell_type": "code",
     "collapsed": false,
     "input": [
      "#(a)Calculate  the  insulator  capacitance\n",
      "eir=3.9  #insulator relative dielectric constant\n",
      "ei=8.854*(10**-12)*eir  #permittivity of material in F/m\n",
      "d=.15*(10**-6)    #insulator thickness in meter\n",
      "Ci=ei/d \n",
      "Ci=Ci*(10**5) \n",
      "print\"The  insulator  capacitance(in nF/cm**2) is =\",int(round(Ci)),\"nF/cm2\" \n",
      "\n",
      "#(b)Calculate  the  maximum  stored  charges  per  well\n",
      "Nmax=2*(10**12)  #electron density in /cm2\n",
      "q=1.6*(10**-19)  #charge of electron in C\n",
      "A=.5*(10**-4)     #insulator cross-section in cm2\n",
      "Qmax=Nmax*A*q \n",
      "Qmax=Qmax*(10**12)  #in pC\n",
      "print\"The  maximum  stored  charges  per  well(picocoulombs)is=\",int(Qmax),\"pC\"\n",
      "\n",
      "#(c) Calculate  the  required  applied  gate  voltage\n",
      "Nmax=2*(10**12) \n",
      "q=1.6*(10**-19) \n",
      "Vg=(Nmax*q)/(Ci*10**-9) \n",
      "print\"The  required  applied  gate  voltage(in  Volts) is=\",int(round(Vg)),\"V\"\n",
      "\n",
      "#(d)Calculate  the  clock  frequency\n",
      "P=.67*(10**-3)   #power dissipation allowable per bit in Watt\n",
      "n=3 \n",
      "f=P/(n*Vg*Qmax*(10**-12)) \n",
      "f=f/(10**6)      #in MHz\n",
      "print\"The  clock  frequency(in MHz) is=\",int(f),\"MHz\" "
     ],
     "language": "python",
     "metadata": {},
     "outputs": [
      {
       "output_type": "stream",
       "stream": "stdout",
       "text": [
        "The  insulator  capacitance(in nF/cm**2) is = 23 nF/cm2\n",
        "The  maximum  stored  charges  per  well(picocoulombs)is= 16 pC\n",
        "The  required  applied  gate  voltage(in  Volts) is= 14 V\n",
        "The  clock  frequency(in MHz) is= 1 MHz\n"
       ]
      }
     ],
     "prompt_number": 58
    }
   ],
   "metadata": {}
  }
 ]
}