{
 "cells": [
  {
   "cell_type": "markdown",
   "metadata": {},
   "source": [
    "#3: ACOUSTICS OF BUILDINGS AND SUPERCONDUCTIVITY"
   ]
  },
  {
   "cell_type": "markdown",
   "metadata": {},
   "source": [
    "##Example number 3.1, Page number 3.32"
   ]
  },
  {
   "cell_type": "code",
   "execution_count": 22,
   "metadata": {
    "collapsed": false
   },
   "outputs": [
    {
     "name": "stdout",
     "output_type": "stream",
     "text": [
      "Reverbration time = 3.9 s\n",
      "Final Reverbration time = 1.95 s\n",
      "Thus the reverbration time is reduced to one-half of its initial value\n"
     ]
    }
   ],
   "source": [
    "#importing modules\n",
    "import math\n",
    "from __future__ import division\n",
    "\n",
    "#Variable declaration\n",
    "V=2265\n",
    "A=92.9\n",
    "x=2               #The absorption become 2*A of open window\n",
    "\n",
    "#Calculation\n",
    "T=(0.16*V)/A      #Sabine's formula  \n",
    "T2=(0.16*V)/(x*A)\n",
    "\n",
    "#Result\n",
    "print\"Reverbration time =\",round(T,1),\"s\"\n",
    "print\"Final Reverbration time =\",round(T2,2),\"s\"\n",
    "print\"Thus the reverbration time is reduced to one-half of its initial value\""
   ]
  },
  {
   "cell_type": "markdown",
   "metadata": {},
   "source": [
    "##Example number 3.2, Page number 3.32"
   ]
  },
  {
   "cell_type": "code",
   "execution_count": 19,
   "metadata": {
    "collapsed": false
   },
   "outputs": [
    {
     "name": "stdout",
     "output_type": "stream",
     "text": [
      "Volume of the hall = 2160 m**3\n",
      "Total absorption = 430.7 m**2\n",
      "Reverbration time = 0.8 second\n",
      "Answer given for the Reverbration time in the text book is wrong\n"
     ]
    }
   ],
   "source": [
    "#importing modules\n",
    "import math\n",
    "from __future__ import division\n",
    "\n",
    "#Variable declaration\n",
    "a1=450    #Area of plastered wall\n",
    "a2=360    #Area of wooden floor and wooden doors\n",
    "a3=24     #Area of Glass\n",
    "a4=600    #Area of seats\n",
    "a5=500    #Area of audience when they are in seats\n",
    "c1=0.03   #Coefficient of absorption of plastered wall\n",
    "c2=0.06   #Coefficient of absorption of wooden floor and wooden doors\n",
    "c3=0.025   #Coefficient of absorption of Glass\n",
    "c4=0.3    #Coefficient of absorption of seats\n",
    "c5=0.43   #Coefficient of absorption of audience when they are in seats\n",
    "l=12\n",
    "b=30\n",
    "h=6\n",
    "\n",
    "#Calculation\n",
    "V=l*b*h        #volume of the hall\n",
    "A=(a1*c1)+(a2*c2)+(a3*c3)+(a4*c4)+(a5*c5)  #Total absorption\n",
    "T=(0.16*V)/A   #Reverbration time\n",
    "\n",
    "#Result\n",
    "print\"Volume of the hall =\",V,\"m**3\"\n",
    "print\"Total absorption =\",A,\"m**2\"\n",
    "print\"Reverbration time =\",round(T,1),\"second\"\n",
    "print\"Answer given for the Reverbration time in the text book is wrong\""
   ]
  },
  {
   "cell_type": "markdown",
   "metadata": {},
   "source": [
    "##Example number 3.3, Page number 3.33"
   ]
  },
  {
   "cell_type": "code",
   "execution_count": 21,
   "metadata": {
    "collapsed": false
   },
   "outputs": [
    {
     "name": "stdout",
     "output_type": "stream",
     "text": [
      "Total absorpttion = 1000.0  m**2 of O.W.U.\n"
     ]
    }
   ],
   "source": [
    "#importing modules\n",
    "import math\n",
    "from __future__ import division\n",
    "\n",
    "#Variable declaration\n",
    "T=1.2\n",
    "V=7500\n",
    "\n",
    "#Calculation\n",
    "A=(0.16*V)/T\n",
    "\n",
    "#Result\n",
    "print\"Total absorpttion =\",A,\" m**2 of O.W.U.\""
   ]
  },
  {
   "cell_type": "markdown",
   "metadata": {},
   "source": [
    "##Example number 3.4, Page number 3.34"
   ]
  },
  {
   "cell_type": "code",
   "execution_count": 26,
   "metadata": {
    "collapsed": false
   },
   "outputs": [
    {
     "name": "stdout",
     "output_type": "stream",
     "text": [
      "T1 = 1.45 second\n",
      "T2 = 0.73 second\n",
      "Change in Reverbration time = 0.727 second\n"
     ]
    }
   ],
   "source": [
    "#importing modules\n",
    "import math\n",
    "from __future__ import division\n",
    "\n",
    "#Variable declaration\n",
    "V=12*10**4\n",
    "A=13200\n",
    "x=2               #The absorption become 2*A of open window\n",
    "\n",
    "#Calculation\n",
    "T1=(0.16*V)/A      #Sabine's formula  \n",
    "T2=(0.16*V)/(x*A)\n",
    "Td=T1-T2\n",
    "\n",
    "#Result\n",
    "print\"T1 =\",round(T1,2),\"second\"\n",
    "print\"T2 =\",round(T2,2),\"second\"\n",
    "print\"Change in Reverbration time =\",round(Td,3),\"second\"\n"
   ]
  },
  {
   "cell_type": "markdown",
   "metadata": {},
   "source": [
    "##Example number 3.6, Page number 3.34"
   ]
  },
  {
   "cell_type": "code",
   "execution_count": 1,
   "metadata": {
    "collapsed": false
   },
   "outputs": [
    {
     "name": "stdout",
     "output_type": "stream",
     "text": [
      "critical field is 33.64 *10**3 ampere/m\n"
     ]
    }
   ],
   "source": [
    "#importing modules\n",
    "import math\n",
    "from __future__ import division\n",
    "\n",
    "#Variable declaration\n",
    "H0=64*10**3;    #initial field(ampere/m)\n",
    "T=5;    #temperature(K)\n",
    "Tc=7.26;   #transition temperature(K)\n",
    "\n",
    "#Calculation\n",
    "H=H0*(1-(T/Tc)**2);     #critical field(ampere/m)\n",
    "\n",
    "#Result\n",
    "print \"critical field is\",round(H/10**3,2),\"*10**3 ampere/m\""
   ]
  },
  {
   "cell_type": "markdown",
   "metadata": {},
   "source": [
    "##Example number 3.7, Page number 3.34"
   ]
  },
  {
   "cell_type": "code",
   "execution_count": 4,
   "metadata": {
    "collapsed": false
   },
   "outputs": [
    {
     "name": "stdout",
     "output_type": "stream",
     "text": [
      "Frequency of generated microwaves= 483.0 *10**9 Hz\n"
     ]
    }
   ],
   "source": [
    "#importing modules\n",
    "import math\n",
    "from __future__ import division\n",
    "\n",
    "#Variable declaration\n",
    "e=1.6*10**-19\n",
    "V=1*10\n",
    "h=6.625*10**-34\n",
    "\n",
    "#Calculations\n",
    "v=(2*e*V**-3)/h \n",
    "\n",
    "#Result\n",
    "print\"Frequency of generated microwaves=\",round(v/10**9),\"*10**9 Hz\"\n"
   ]
  },
  {
   "cell_type": "markdown",
   "metadata": {},
   "source": [
    "##Example number 3.8, Page number 3.34"
   ]
  },
  {
   "cell_type": "code",
   "execution_count": 2,
   "metadata": {
    "collapsed": false
   },
   "outputs": [
    {
     "name": "stdout",
     "output_type": "stream",
     "text": [
      "Number of electrons per unit volume = 3.7 *10**28/m**3\n",
      "Effective mass of electron 'm*' = 17.3 *10*-31 kg\n",
      "Penetration depth = 3.81011659367 Angstroms\n",
      "#The answer given in the text book is wrong\n"
     ]
    }
   ],
   "source": [
    "#importing modules\n",
    "import math\n",
    "from __future__ import division\n",
    "\n",
    "#Variable declaration\n",
    "d=7300                  #density in (kg/m**3)\n",
    "N=6.02*10**26           #Avagadro Number\n",
    "A=118.7                 #Atomic Weight\n",
    "E=1.9                 #Effective mass\n",
    "e=1.6*10**-19\n",
    "\n",
    "#Calculations\n",
    "n=(d*N)/A\n",
    "m=E*9.1*10**-31\n",
    "x=4*math.pi*10**-7*n*e**2\n",
    "lamda_L=math.sqrt(m/x)\n",
    "      \n",
    "#Result\n",
    "print \"Number of electrons per unit volume =\",round(n/10**28,1),\"*10**28/m**3\"\n",
    "print\"Effective mass of electron 'm*' =\",round(m*10**31,1),\"*10*-31 kg\"\n",
    "print\"Penetration depth =\",lamda_L*10**8,\"Angstroms\"\n",
    "print\"#The answer given in the text book is wrong\""
   ]
  },
  {
   "cell_type": "markdown",
   "metadata": {
    "collapsed": true
   },
   "source": [
    "##Example number 3.9, Page number 3.35"
   ]
  },
  {
   "cell_type": "code",
   "execution_count": 18,
   "metadata": {
    "collapsed": false
   },
   "outputs": [
    {
     "name": "stdout",
     "output_type": "stream",
     "text": [
      "Tc = 7.0969 K\n",
      "lamda0= 39.0 nm\n"
     ]
    }
   ],
   "source": [
    "#importing modules\n",
    "import math\n",
    "from __future__ import division\n",
    "\n",
    "#Variable declaration\n",
    "lamda_L1=39.6*10**-9\n",
    "lamda_L2=173*10**-9\n",
    "T1=7.1\n",
    "T2=3\n",
    "\n",
    "#Calculations\n",
    "x=(lamda_L1/lamda_L2)**2\n",
    "Tc4=(T1**4)-((T2**4)*x)/(1-x)\n",
    "Tc=(Tc4)**(1/4)\n",
    "print\"Tc =\",round(Tc,4),\"K\"\n",
    "print\"lamda0=\",round((math.sqrt(1-(T2/Tc)**4)*lamda_L1)*10**9),\"nm\""
   ]
  },
  {
   "cell_type": "markdown",
   "metadata": {},
   "source": [
    "##Example number 3.10, Page number 3.35"
   ]
  },
  {
   "cell_type": "code",
   "execution_count": 24,
   "metadata": {
    "collapsed": false
   },
   "outputs": [
    {
     "name": "stdout",
     "output_type": "stream",
     "text": [
      "Hc = 4.2759 *10**4\n",
      "Critical current density,Jc = 1.71 *10**8 ampere/metre**2\n"
     ]
    }
   ],
   "source": [
    "#importing modules\n",
    "import math\n",
    "from __future__ import division\n",
    "\n",
    "#Variable declaration\n",
    "H0=6.5*10**4           #(ampere/metre)\n",
    "T=4.2                  #K\n",
    "Tc=7.18                #K\n",
    "r=0.5*10**-3\n",
    "\n",
    "#Calculations\n",
    "Hc=H0*(1-(T/Tc)**2)\n",
    "Ic=(2*math.pi*r)*Hc\n",
    "A=math.pi*r**2\n",
    "Jc=Ic/A                #Critical current density\n",
    "\n",
    "#Result\n",
    "print\"Hc =\",round(Hc/10**4,4),\"*10**4\"\n",
    "print \"Critical current density,Jc =\",round(Jc/10**8,2),\"*10**8 ampere/metre**2\"\n"
   ]
  },
  {
   "cell_type": "markdown",
   "metadata": {},
   "source": [
    "##Example number 3.11, Page number 6.36"
   ]
  },
  {
   "cell_type": "code",
   "execution_count": 26,
   "metadata": {
    "collapsed": false
   },
   "outputs": [
    {
     "name": "stdout",
     "output_type": "stream",
     "text": [
      "New critical temperature for mercury = 4.145 K\n"
     ]
    }
   ],
   "source": [
    "#importing modules\n",
    "import math\n",
    "from __future__ import division\n",
    "\n",
    "#Variable declaration\n",
    "Tc1=4.185\n",
    "M1=199.5\n",
    "M2=203.4\n",
    "\n",
    "#Calculations\n",
    "Tc2=Tc1*(M1/M2)**(1/2)\n",
    "\n",
    "#Result\n",
    "print\"New critical temperature for mercury =\",round(Tc2,3),\"K\""
   ]
  }
 ],
 "metadata": {
  "kernelspec": {
   "display_name": "Python 2",
   "language": "python",
   "name": "python2"
  },
  "language_info": {
   "codemirror_mode": {
    "name": "ipython",
    "version": 2
   },
   "file_extension": ".py",
   "mimetype": "text/x-python",
   "name": "python",
   "nbconvert_exporter": "python",
   "pygments_lexer": "ipython2",
   "version": "2.7.9"
  }
 },
 "nbformat": 4,
 "nbformat_minor": 0
}
