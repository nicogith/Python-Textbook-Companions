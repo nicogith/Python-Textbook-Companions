{
 "metadata": {
  "name": "",
  "signature": "sha256:e3ffdae85ed1c10a54629e535e9e044264a512de563ad3fb48c98b93c4a65432"
 },
 "nbformat": 3,
 "nbformat_minor": 0,
 "worksheets": [
  {
   "cells": [
    {
     "cell_type": "heading",
     "level": 1,
     "metadata": {},
     "source": [
      "Chapter 2 - Fundamental Concepts"
     ]
    },
    {
     "cell_type": "heading",
     "level": 2,
     "metadata": {},
     "source": [
      "Example 1 - Pg 18"
     ]
    },
    {
     "cell_type": "code",
     "collapsed": false,
     "input": [
      "#calculate the potential energy\n",
      "#Initialization of variables\n",
      "z=100 #ft\n",
      "m=32.1739 #lbm\n",
      "#calculations\n",
      "PE=m*z\n",
      "#results\n",
      "print '%s %.2f %s' %(\"Potential energy =\",PE,\"ft-lbm\")\n"
     ],
     "language": "python",
     "metadata": {},
     "outputs": [
      {
       "output_type": "stream",
       "stream": "stdout",
       "text": [
        "Potential energy = 3217.39 ft-lbm\n"
       ]
      }
     ],
     "prompt_number": 1
    },
    {
     "cell_type": "heading",
     "level": 2,
     "metadata": {},
     "source": [
      "Example 2 - Pg 21"
     ]
    },
    {
     "cell_type": "code",
     "collapsed": false,
     "input": [
      "#calculate the absolute energy of this mixture and the change in mass\n",
      "#Initialization of variables\n",
      "m0=18.016 #lbm\n",
      "gc=32.1739 #lbm ft/lbf sec^2\n",
      "c=186000*5280\n",
      "dU=94.4*10**6 #ft-lbf\n",
      "#calculations\n",
      "U=m0/gc *c**2\n",
      "dm= -dU*gc/c**2\n",
      "#results\n",
      "print '%s %.2e %s' %(\"Absolute energy of this mixture =\",U,\" ft-lbf\")\n",
      "print '%s' %(\"\\n In case b, there is no change in mass\")\n",
      "print '%s %.2e %s' %(\"\\n Change in mass =\",dm,\" lbm\")\n",
      "print '%s' %(\"The answers are a bit different due to rounding off error in textbook.\")\n"
     ],
     "language": "python",
     "metadata": {},
     "outputs": [
      {
       "output_type": "stream",
       "stream": "stdout",
       "text": [
        "Absolute energy of this mixture = 5.40e+17  ft-lbf\n",
        "\n",
        " In case b, there is no change in mass\n",
        "\n",
        " Change in mass = -3.15e-09  lbm\n",
        "The answers are a bit different due to rounding off error in textbook.\n"
       ]
      }
     ],
     "prompt_number": 2
    }
   ],
   "metadata": {}
  }
 ]
}