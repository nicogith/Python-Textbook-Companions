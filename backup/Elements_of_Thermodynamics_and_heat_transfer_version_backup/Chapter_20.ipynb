{
 "metadata": {
  "name": "",
  "signature": "sha256:dd9802b686cdfc5d04064f27577856b20913db7526956cd0d6229f433fb9f632"
 },
 "nbformat": 3,
 "nbformat_minor": 0,
 "worksheets": [
  {
   "cells": [
    {
     "cell_type": "heading",
     "level": 1,
     "metadata": {},
     "source": [
      "Chapter 20 - Advanced topics in heat transfer"
     ]
    },
    {
     "cell_type": "heading",
     "level": 2,
     "metadata": {},
     "source": [
      "Example 1 - Pg 437"
     ]
    },
    {
     "cell_type": "code",
     "collapsed": false,
     "input": [
      "#calculate the Surface temperature of transmission line, rate of heat generation and max temperature in the line\n",
      "#Initialization of variables\n",
      "import math\n",
      "heat=54.5 #Btu/hr ft\n",
      "d=0.811 #in\n",
      "h=2.5 #Btu/hr ft**2 F\n",
      "ts=100 #F\n",
      "km=220 #Btu/hr ft F\n",
      "#calculations\n",
      "t2=heat*12/(h*math.pi*d) +ts\n",
      "w=heat*4*144/(math.pi*d**2)\n",
      "t1=w*(d/2)**2 /(4*144*km) + t2\n",
      "#results\n",
      "print '%s %.1f %s' %(\"Surface temperature of transmission line =\",t2,\" F\")\n",
      "print '%s %d %s' %(\"\\n Rate of heat generation per unit volume of wire =\",w,\"Btu/hr ft^2\")\n",
      "print '%s %.2f %s' %(\"\\n Max. temperature in the line =\",t1,\" F\")\n",
      "print '%s' %(\"The answers in the textbook are a bit different due to rounding off errors\")\n"
     ],
     "language": "python",
     "metadata": {},
     "outputs": [
      {
       "output_type": "stream",
       "stream": "stdout",
       "text": [
        "Surface temperature of transmission line = 202.7  F\n",
        "\n",
        " Rate of heat generation per unit volume of wire = 15192 Btu/hr ft^2\n",
        "\n",
        " Max. temperature in the line = 202.70  F\n",
        "The answers in the textbook are a bit different due to rounding off errors\n"
       ]
      }
     ],
     "prompt_number": 1
    },
    {
     "cell_type": "heading",
     "level": 2,
     "metadata": {},
     "source": [
      "Example 2 - Pg 442"
     ]
    },
    {
     "cell_type": "code",
     "collapsed": false,
     "input": [
      "#calculate the heat rate, total hourly loss and approx. temp of the tip of the fin and total heat loss\n",
      "#Initialization of variables\n",
      "import math\n",
      "d1=1. #in\n",
      "l=1. #ft\n",
      "r=0.5 #ft\n",
      "L=0.5 #in\n",
      "Ts=430. #F\n",
      "Ta=170. #F\n",
      "dela=0.0125 #ft\n",
      "h=10. #Btu/hr ft^2 F\n",
      "eta=0.77\n",
      "eta2=0.94\n",
      "n=60. #fins\n",
      "thick=0.025 #in\n",
      "k2=132. #Btu/hr ft F\n",
      "#calculations\n",
      "Q=h*math.pi*d1**2 *(Ts-Ta)/12\n",
      "rate=(r+L)/r\n",
      "k=26 #Btu/hr ft F\n",
      "Lt=L/12 *(h*12/(k*dela))**(1/2)\n",
      "dtm=eta*(Ts-Ta)\n",
      "As=2*math.pi*((2*d1)**2 -d1**2)/4\n",
      "Q1=h*n*As*dtm/144\n",
      "Q2=h*math.pi*d1*(12-60*thick)*(Ts-Ta)/144\n",
      "Qt=Q1+Q2\n",
      "al=0.8\n",
      "tl=Ta+(Ts-Ta)/math.cosh(al)\n",
      "al2=r/12 *(h*12*2/(k2*thick))\n",
      "dtm2=eta2*(Ts-Ta)\n",
      "Q12=h*n*As*dtm2/144\n",
      "Qt2=Q12+Q2\n",
      "#results\n",
      "print '%s %.1f %s' %(\"Heat rate per foot of bare tube =\",Q,\"Btu/hr\")\n",
      "print '%s %.1f %s' %(\"\\n Total hourly heat loss per foot of finned tube =\",Qt,\"Btu/hr\")\n",
      "print '%s %d %s' %(\"\\n Approx. temp for tip of the fin =\",tl,\"F\")\n",
      "print '%s %.1f %s' %(\"\\n In case of Al, Total beat loss =\",Qt2,\" Btu/hr\")\n",
      "print '%s' %(\"The answers in the textbook are a bit different due to rounding off errors\")\n"
     ],
     "language": "python",
     "metadata": {},
     "outputs": [
      {
       "output_type": "stream",
       "stream": "stdout",
       "text": [
        "Heat rate per foot of bare tube = 680.7 Btu/hr\n",
        "\n",
        " Total hourly heat loss per foot of finned tube = 4526.5 Btu/hr\n",
        "\n",
        " Approx. temp for tip of the fin = 364 F\n",
        "\n",
        " In case of Al, Total beat loss = 5394.4  Btu/hr\n",
        "The answers in the textbook are a bit different due to rounding off errors\n"
       ]
      }
     ],
     "prompt_number": 2
    },
    {
     "cell_type": "heading",
     "level": 2,
     "metadata": {},
     "source": [
      "Example 3 - Pg 444"
     ]
    },
    {
     "cell_type": "code",
     "collapsed": false,
     "input": [
      "#calculate the Length required\n",
      "#Initialization of variables\n",
      "import math\n",
      "tl=125. #F\n",
      "t0=80. #F\n",
      "t1=1000. #F\n",
      "d=1. #in\n",
      "k=25. #Btu/hr ft F\n",
      "k2=0.0208\n",
      "Nu=18.\n",
      "#calculations\n",
      "byal=(tl-t0)/(t1-t0)\n",
      "al=math.acosh(1/byal)\n",
      "b=math.pi*d/12.\n",
      "A=math.pi*d**2 /(4*144)\n",
      "tm=(tl+t1)/2. +460\n",
      "hr=0.79*0.1714*((tm/100)**4 - ((t0+460)/100)**4)/(tm-460-t0)\n",
      "hc=Nu*k2*12/d\n",
      "a=((hc+hr)*b/(k*A))**(0.5)\n",
      "L=al/a\n",
      "#results\n",
      "print '%s %.2f %s' %(\"Length required =\",L,\" ft\")\n"
     ],
     "language": "python",
     "metadata": {},
     "outputs": [
      {
       "output_type": "stream",
       "stream": "stdout",
       "text": [
        "Length required = 0.99  ft\n"
       ]
      }
     ],
     "prompt_number": 3
    },
    {
     "cell_type": "heading",
     "level": 2,
     "metadata": {},
     "source": [
      "Example 5 - Pg 452"
     ]
    },
    {
     "cell_type": "code",
     "collapsed": false,
     "input": [
      "#calculate the time required\n",
      "#Initialization of variables\n",
      "import math\n",
      "c=0.0947 #Btu/lbm F\n",
      "rho=0.0551 #lbm/ft**3\n",
      "mu=0.0553 #lbm/hr ft\n",
      "t1=440. #F\n",
      "ts=400. #F\n",
      "t2=80. #F\n",
      "d=0.1 #in\n",
      "k=0.0194 #Btu/hr ft**2 F\n",
      "rho2=558. #lbm/ft**3\n",
      "v=10. #ft/s\n",
      "#calculations\n",
      "Re=d*3600*v*rho/(12*mu)\n",
      "Nu=0.37*Re**0.6\n",
      "hc=k*Nu*12/d\n",
      "ex=math.log((t1-ts)/(t1-t2))\n",
      "tau=-ex*d*rho2*c/(12*6*hc)\n",
      "time=tau*3600\n",
      "#results\n",
      "print '%s %d %s' %(\"Time required =\",time,\"sec\")\n"
     ],
     "language": "python",
     "metadata": {},
     "outputs": [
      {
       "output_type": "stream",
       "stream": "stdout",
       "text": [
        "Time required = 22 sec\n"
       ]
      }
     ],
     "prompt_number": 4
    },
    {
     "cell_type": "heading",
     "level": 2,
     "metadata": {},
     "source": [
      "Example 6 - Pg 456"
     ]
    },
    {
     "cell_type": "code",
     "collapsed": false,
     "input": [
      "#calculate the Cooling time and Center temperature\n",
      "#Initialization of variables\n",
      "h=2 #Btu/hr ft**2 F\n",
      "delta=1/6.\n",
      "t=125. #F\n",
      "t0=100. #F\n",
      "ti=350. #F\n",
      "k=0.167 #Btu/hr ft F\n",
      "rho=80. #lbm/ft**3\n",
      "c=0.4 #Btu/lbm F\n",
      "#calculations\n",
      "Bi=h*delta/k\n",
      "tr=(t-t0)/(ti-t0)\n",
      "tau=1.5*delta**2 *rho*c/k\n",
      "tr2=0.21\n",
      "tc=tr2*(ti-t0) + t0\n",
      "#results\n",
      "print '%s %.2f %s' %(\"Cooling time =\",tau,\" hr\")\n",
      "print '%s %d %s' %(\"\\n Center temperature =\",tc,\" F\")\n"
     ],
     "language": "python",
     "metadata": {},
     "outputs": [
      {
       "output_type": "stream",
       "stream": "stdout",
       "text": [
        "Cooling time = 7.98  hr\n",
        "\n",
        " Center temperature = 152  F\n"
       ]
      }
     ],
     "prompt_number": 5
    },
    {
     "cell_type": "heading",
     "level": 2,
     "metadata": {},
     "source": [
      "Example 7 - Pg 458"
     ]
    },
    {
     "cell_type": "code",
     "collapsed": false,
     "input": [
      "#calculate if the thin layero f insulation would increase the heat dissipation from wire\n",
      "#Initialization of variables\n",
      "h=2.5 #Btu/hr ft^2 F\n",
      "kc=0.1 #Btu/hr ft F\n",
      "r1=0.811/2\n",
      "#calculations\n",
      "r2c=kc/h *12\n",
      "#results\n",
      "if r2c>=r1:\n",
      "    print '%s %.2f %s' %(\"Thin layer of insulation would increase the heat dissipation from wire, r2c =\",r2c,\"in\")\n",
      "else:\n",
      "    print '%s %.2f %s' %(\"Thin layer of insulation would decrease the heat dissipation from wire. r2c=\",r2c,\"in\")\n",
      "\n"
     ],
     "language": "python",
     "metadata": {},
     "outputs": [
      {
       "output_type": "stream",
       "stream": "stdout",
       "text": [
        "Thin layer of insulation would increase the heat dissipation from wire, r2c = 0.48 in\n"
       ]
      }
     ],
     "prompt_number": 6
    },
    {
     "cell_type": "heading",
     "level": 2,
     "metadata": {},
     "source": [
      "Example 8 - Pg 465"
     ]
    },
    {
     "cell_type": "code",
     "collapsed": false,
     "input": [
      "#calculate the heat transfer from surfaces 1,2,3 and Temperature of surface R\n",
      "#Initialization of variables\n",
      "F12=0.19\n",
      "F13=F12\n",
      "FR3=F13\n",
      "F2R=0.38\n",
      "J1=1714.\n",
      "Wb2=0.1714\n",
      "#calculations\n",
      "print '%s' %(\"Upon solving the simultaneous equations\")\n",
      "Q1=1774 #Btu/hr ft\n",
      "Q2=-547 #Btu/r ft\n",
      "Q3=-1227 #Btu/hr ft\n",
      "J2=548 #Btu/hr ft^2\n",
      "Tr=909 #R\n",
      "#results\n",
      "print '%s %d %s' %(\"Heat transfer rate from surface 1 =\",Q1,\" Btu/hr ft\")\n",
      "print '%s %d %s' %(\"\\n Heat transfer rate from surface 2 =\",Q2,\" Btu/hr ft\")\n",
      "print '%s %d %s' %(\"\\n Heat transfer rate from surface 3 =\",Q3,\" Btu/hr ft\")\n",
      "print '%s %d %s' %(\"\\n Temperature of surface R =\",Tr,\"R\")\n"
     ],
     "language": "python",
     "metadata": {},
     "outputs": [
      {
       "output_type": "stream",
       "stream": "stdout",
       "text": [
        "Upon solving the simultaneous equations\n",
        "Heat transfer rate from surface 1 = 1774  Btu/hr ft\n",
        "\n",
        " Heat transfer rate from surface 2 = -547  Btu/hr ft\n",
        "\n",
        " Heat transfer rate from surface 3 = -1227  Btu/hr ft\n",
        "\n",
        " Temperature of surface R = 909 R\n"
       ]
      }
     ],
     "prompt_number": 7
    }
   ],
   "metadata": {}
  }
 ]
}