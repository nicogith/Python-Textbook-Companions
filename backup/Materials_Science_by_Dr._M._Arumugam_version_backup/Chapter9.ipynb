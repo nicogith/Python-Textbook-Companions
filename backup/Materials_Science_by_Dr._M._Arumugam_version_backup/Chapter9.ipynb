{
 "cells": [
  {
   "cell_type": "markdown",
   "metadata": {},
   "source": [
    "#9: Semiconducting Materials"
   ]
  },
  {
   "cell_type": "markdown",
   "metadata": {},
   "source": [
    "##Example number 9.1, Page number 9.23"
   ]
  },
  {
   "cell_type": "code",
   "execution_count": 39,
   "metadata": {
    "collapsed": false
   },
   "outputs": [
    {
     "name": "stdout",
     "output_type": "stream",
     "text": [
      "number of electron hole pairs is 2.32 *10**16 per cubic metre\n",
      "answer varies due to rounding off errors\n"
     ]
    }
   ],
   "source": [
    "#importing modules\n",
    "import math\n",
    "from __future__ import division\n",
    "\n",
    "#Variable declaration\n",
    "ni1=2.5*10**19;    #number of electron hole pairs\n",
    "T1=300;     #temperature(K)\n",
    "Eg1=0.72*1.6*10**-19;    #energy gap(J)\n",
    "k=1.38*10**-23;     #boltzmann constant\n",
    "T2=310;    #temperature(K)\n",
    "Eg2=1.12*1.6*10**-19;    #energy gap(J)\n",
    "\n",
    "#Calculation\n",
    "x1=-Eg1/(2*k*T1);\n",
    "y1=(T1**(3/2))*math.exp(x1);\n",
    "x2=-Eg2/(2*k*T2);\n",
    "y2=(T2**(3/2))*math.exp(x2);\n",
    "ni=ni1*(y2/y1);          #number of electron hole pairs\n",
    "\n",
    "#Result\n",
    "print \"number of electron hole pairs is\",round(ni/10**16,2),\"*10**16 per cubic metre\"\n",
    "print \"answer varies due to rounding off errors\""
   ]
  },
  {
   "cell_type": "markdown",
   "metadata": {},
   "source": [
    "##Example number 9.2, Page number 9.24"
   ]
  },
  {
   "cell_type": "code",
   "execution_count": 41,
   "metadata": {
    "collapsed": false
   },
   "outputs": [
    {
     "name": "stdout",
     "output_type": "stream",
     "text": [
      "intrinsic conductivity is 1.434 *10**4 ohm-1 m-1\n",
      "intrinsic resistivity is 0.697 *10**-4 ohm m\n",
      "answer varies due to rounding off errors\n",
      "number of germanium atoms per m**3 is 4.5 *10**28\n"
     ]
    }
   ],
   "source": [
    "#importing modules\n",
    "import math\n",
    "from __future__ import division\n",
    "\n",
    "#Variable declaration\n",
    "w=72.6;    #atomic weight\n",
    "d=5400;    #density(kg/m**3)\n",
    "Na=6.025*10**26;    #avagadro number\n",
    "mew_e=0.4;    #mobility of electron(m**2/Vs)\n",
    "mew_h=0.2;    #mobility of holes(m**2/Vs)\n",
    "e=1.6*10**-19;\n",
    "m=9.108*10**-31;    #mass(kg)\n",
    "ni=2.1*10**19;      #number of electron hole pairs\n",
    "Eg=0.7;    #band gap(eV)\n",
    "k=1.38*10**-23;    #boltzmann constant\n",
    "h=6.625*10**-34;    #plancks constant\n",
    "T=300;     #temperature(K)\n",
    "\n",
    "#Calculation\n",
    "sigmab=ni*e*(mew_e+mew_h);    #intrinsic conductivity(ohm-1 m-1)\n",
    "rhob=1/sigmab;     #resistivity(ohm m)\n",
    "n=Na*d/w;     #number of germanium atoms per m**3\n",
    "p=n/10**5;   #boron density\n",
    "sigma=p*e*mew_h;\n",
    "rho=1/sigma;\n",
    "\n",
    "#Result\n",
    "print \"intrinsic conductivity is\",round(sigma/10**4,3),\"*10**4 ohm-1 m-1\"\n",
    "print \"intrinsic resistivity is\",round(rho*10**4,3),\"*10**-4 ohm m\"\n",
    "print \"answer varies due to rounding off errors\"\n",
    "print \"number of germanium atoms per m**3 is\",round(n/10**28,1),\"*10**28\""
   ]
  },
  {
   "cell_type": "markdown",
   "metadata": {},
   "source": [
    "##Example number 9.3, Page number 9.25"
   ]
  },
  {
   "cell_type": "code",
   "execution_count": 44,
   "metadata": {
    "collapsed": false
   },
   "outputs": [
    {
     "name": "stdout",
     "output_type": "stream",
     "text": [
      "charge carrier density is 2 *10**22 per m**3\n",
      "electron mobility is 0.035 m**2/Vs\n"
     ]
    }
   ],
   "source": [
    "#importing modules\n",
    "import math\n",
    "from __future__ import division\n",
    "\n",
    "#Variable declaration\n",
    "e=1.6*10**-19;\n",
    "RH=3.66*10**-4;    #hall coefficient(m**3/coulomb)\n",
    "sigma=112;      #conductivity(ohm-1 m-1)\n",
    "\n",
    "#Calculation\n",
    "ne=3*math.pi/(8*RH*e);    #charge carrier density(per m**3)\n",
    "mew_e=sigma/(e*ne);      #electron mobility(m**2/Vs)\n",
    "\n",
    "#Result\n",
    "print \"charge carrier density is\",int(ne/10**22),\"*10**22 per m**3\"\n",
    "print \"electron mobility is\",round(mew_e,3),\"m**2/Vs\""
   ]
  },
  {
   "cell_type": "markdown",
   "metadata": {},
   "source": [
    "##Example number 9.4, Page number 9.25"
   ]
  },
  {
   "cell_type": "code",
   "execution_count": 45,
   "metadata": {
    "collapsed": false
   },
   "outputs": [
    {
     "name": "stdout",
     "output_type": "stream",
     "text": [
      "intrinsic conductivity is 0.432 *10**-3 ohm-1 m-1 10.4\n",
      "conductivity during donor impurity is 10.4 ohm-1 m-1\n",
      "conductivity during acceptor impurity is 4 ohm-1 m-1\n"
     ]
    }
   ],
   "source": [
    "#importing modules\n",
    "import math\n",
    "from __future__ import division\n",
    "\n",
    "#Variable declaration\n",
    "mew_e=0.13;    #mobility of electron(m**2/Vs)\n",
    "mew_h=0.05;    #mobility of holes(m**2/Vs)\n",
    "e=1.6*10**-19;\n",
    "ni=1.5*10**16;      #number of electron hole pairs\n",
    "N=5*10**28;\n",
    "\n",
    "#Calculation\n",
    "sigma1=ni*e*(mew_e+mew_h);    #intrinsic conductivity(ohm-1 m-1)\n",
    "ND=N/10**8;\n",
    "n=ni**2/ND;\n",
    "sigma2=ND*e*mew_e;     #conductivity(ohm-1 m-1)\n",
    "sigma3=ND*e*mew_h;     #conductivity(ohm-1 m-1)\n",
    "\n",
    "#Result\n",
    "print \"intrinsic conductivity is\",round(sigma1*10**3,3),\"*10**-3 ohm-1 m-1\",sigma2\n",
    "print \"conductivity during donor impurity is\",sigma2,\"ohm-1 m-1\"\n",
    "print \"conductivity during acceptor impurity is\",int(sigma3),\"ohm-1 m-1\""
   ]
  },
  {
   "cell_type": "markdown",
   "metadata": {},
   "source": [
    "##Example number 9.5, Page number 9.26"
   ]
  },
  {
   "cell_type": "code",
   "execution_count": 50,
   "metadata": {
    "collapsed": false
   },
   "outputs": [
    {
     "name": "stdout",
     "output_type": "stream",
     "text": [
      "conductivity is 4.97 mho m-1\n"
     ]
    }
   ],
   "source": [
    "#importing modules\n",
    "import math\n",
    "from __future__ import division\n",
    "\n",
    "#Variable declaration\n",
    "e=1.6*10**-19;\n",
    "Eg=0.72;    #band gap(eV)\n",
    "k=1.38*10**-23;    #boltzmann constant\n",
    "T1=293;     #temperature(K)\n",
    "T2=313;     #temperature(K)\n",
    "sigma1=2;    #conductivity(mho m-1)\n",
    "\n",
    "#Calculation\n",
    "x=(Eg*e/(2*k))*((1/T1)-(1/T2));\n",
    "y=round(x/2.303,3);\n",
    "z=round(math.log10(sigma1),3);\n",
    "log_sigma2=y+z;\n",
    "sigma2=10**log_sigma2;     #conductivity(mho m-1)\n",
    "\n",
    "#Result\n",
    "print \"conductivity is\",round(sigma2,2),\"mho m-1\""
   ]
  }
 ],
 "metadata": {
  "kernelspec": {
   "display_name": "Python 2",
   "language": "python",
   "name": "python2"
  },
  "language_info": {
   "codemirror_mode": {
    "name": "ipython",
    "version": 2
   },
   "file_extension": ".py",
   "mimetype": "text/x-python",
   "name": "python",
   "nbconvert_exporter": "python",
   "pygments_lexer": "ipython2",
   "version": "2.7.9"
  }
 },
 "nbformat": 4,
 "nbformat_minor": 0
}
