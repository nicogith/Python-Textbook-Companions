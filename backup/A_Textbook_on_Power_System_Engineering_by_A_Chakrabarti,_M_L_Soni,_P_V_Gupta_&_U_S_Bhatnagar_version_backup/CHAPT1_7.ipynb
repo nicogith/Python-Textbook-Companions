{
 "metadata": {
  "name": ""
 },
 "nbformat": 3,
 "nbformat_minor": 0,
 "worksheets": [
  {
   "cells": [
    {
     "cell_type": "heading",
     "level": 1,
     "metadata": {},
     "source": [
      "CHAPTER 1.7: TARIFFS AND ECONOMIC ASPECTS IN POWER GENERATION"
     ]
    },
    {
     "cell_type": "heading",
     "level": 2,
     "metadata": {},
     "source": [
      "Example 1.7.1, Page number 73"
     ]
    },
    {
     "cell_type": "code",
     "collapsed": false,
     "input": [
      "#Variable declaration\n",
      "connected_load = 450.0*10**3       #Connected load(kW)\n",
      "maximum_demand = 250.0*10**3       #Maximum demand(kW)\n",
      "units_generated = 615.0*10**6      #Units generated per annum(kWh)\n",
      "\n",
      "#Calculation\n",
      "#Case(i)\n",
      "demand_factor = maximum_demand/connected_load    #Demand factor\n",
      "#Case(ii)\n",
      "hours_year = 365.0*24                            #Total hours in a year\n",
      "average_demand = units_generated/hours_year      #Average demand(kW)\n",
      "load_factor = average_demand/maximum_demand      #Load factor\n",
      "\n",
      "#Result\n",
      "print('Case(i) : Demand factor = %.3f ' %demand_factor)\n",
      "print('Case(ii): Load factor = %.3f = %.1f percent' %(load_factor,load_factor*100))"
     ],
     "language": "python",
     "metadata": {},
     "outputs": [
      {
       "output_type": "stream",
       "stream": "stdout",
       "text": [
        "Case(i) : Demand factor = 0.556 \n",
        "Case(ii): Load factor = 0.281 = 28.1 percent\n"
       ]
      }
     ],
     "prompt_number": 1
    },
    {
     "cell_type": "heading",
     "level": 2,
     "metadata": {},
     "source": [
      "Example 1.7.2, Page number 73"
     ]
    },
    {
     "cell_type": "code",
     "collapsed": false,
     "input": [
      "#Variable declaration\n",
      "maximum_demand = 480.0*10**3       #Maximum demand(kW)\n",
      "LF = 0.4                           #Annual load factor\n",
      "\n",
      "#Calculation\n",
      "hours_year = 365.0*24                            #Total hours in a year\n",
      "energy_gen = maximum_demand*LF*hours_year        #Total energy generated annually(kWh)\n",
      "\n",
      "#Result\n",
      "print('Total energy generated annually = %.5e kWh' %energy_gen)"
     ],
     "language": "python",
     "metadata": {},
     "outputs": [
      {
       "output_type": "stream",
       "stream": "stdout",
       "text": [
        "Total energy generated annually = 1.68192e+09 kWh\n"
       ]
      }
     ],
     "prompt_number": 1
    },
    {
     "cell_type": "heading",
     "level": 2,
     "metadata": {},
     "source": [
      "Example 1.7.3, Page number 73"
     ]
    },
    {
     "cell_type": "code",
     "collapsed": false,
     "input": [
      "#Variable declaration\n",
      "cap_baseload = 400.0*10**3       #Installed capacity of base load plant(kW)\n",
      "cap_standby = 50.0*10**3         #Installed capacity of standby unit(kW)\n",
      "output_baseload = 101.0*10**6    #Annual baseload station output(kWh)\n",
      "output_standby = 87.35*10**6     #Annual standby station output(kWh)\n",
      "peakload_standby = 120.0*10**3   #Peak load on standby station(kW)\n",
      "hours_use = 3000.0               #Hours of standby station use/year(hrs)\n",
      "\n",
      "#Calculation\n",
      "#Case(i)\n",
      "LF_1 = output_standby*100/(peakload_standby*hours_use)   #Annual load factor(%)\n",
      "hours_year = 365.0*24                                    #Total hours in a year\n",
      "CF_1 = output_standby*100/(cap_standby*hours_year)       #Annual capacity factor(%)\n",
      "#Case(ii)\n",
      "peakload_baseload = peakload_standby                     #Peak load on baseload station(kW)\n",
      "LF_2 = output_baseload*100/(peakload_baseload*hours_use) #Annual load factor(%)\n",
      "hours_year = 365.0*24                                    #Total hours in a year\n",
      "CF_2 = output_baseload*100/(cap_baseload*hours_year)     #Annual capacity factor(%)\n",
      "\n",
      "#Result\n",
      "print('Case(i) : Standby Station')\n",
      "print('          Annual load factor = %.2f percent' %LF_1)\n",
      "print('          Annual capacity factor = %.2f percent' %CF_1)\n",
      "print('Case(ii): Base load Station')\n",
      "print('          Annual load factor = %.2f percent' %LF_2)\n",
      "print('          Annual capacity factor = %.2f percent' %CF_2)\n",
      "print('\\nNOTE: Incomplete solution in the textbook')"
     ],
     "language": "python",
     "metadata": {},
     "outputs": [
      {
       "output_type": "stream",
       "stream": "stdout",
       "text": [
        "Case(i) : Standby Station\n",
        "          Annual load factor = 24.26 percent\n",
        "          Annual capacity factor = 19.94 percent\n",
        "Case(ii): Base load Station\n",
        "          Annual load factor = 28.06 percent\n",
        "          Annual capacity factor = 2.88 percent\n",
        "\n",
        "NOTE: Incomplete solution in the textbook\n"
       ]
      }
     ],
     "prompt_number": 2
    },
    {
     "cell_type": "heading",
     "level": 2,
     "metadata": {},
     "source": [
      "Example 1.7.4, Page number 74"
     ]
    },
    {
     "cell_type": "code",
     "collapsed": false,
     "input": [
      "#Variable declaration\n",
      "MD = 500.0          #Maximum demand(MW)\n",
      "LF = 0.5            #Annual load factor\n",
      "CF = 0.4            #Annual capacity factor\n",
      "\n",
      "#Calculation\n",
      "hours_year = 365.0*24                  #Total hours in a year\n",
      "energy_gen = MD*LF*hours_year          #Energy generated/annum(MWh)\n",
      "plant_cap = energy_gen/(CF*hours_year) #Plant capacity(MW)\n",
      "reserve_cap = plant_cap-MD             #Reserve capacity of plant(MW)\n",
      "\n",
      "#Result\n",
      "print('Reserve capacity of plant = %.f MW' %reserve_cap)"
     ],
     "language": "python",
     "metadata": {},
     "outputs": [
      {
       "output_type": "stream",
       "stream": "stdout",
       "text": [
        "Reserve capacity of plant = 125 MW\n"
       ]
      }
     ],
     "prompt_number": 1
    },
    {
     "cell_type": "heading",
     "level": 2,
     "metadata": {},
     "source": [
      "Example 1.7.5, Page number 74"
     ]
    },
    {
     "cell_type": "code",
     "collapsed": false,
     "input": [
      "#Variable declaration\n",
      "load_1 = 150.0          #Load supplied by station(MW)\n",
      "load_2 = 120.0          #Load supplied by station(MW)\n",
      "load_3 = 85.0           #Load supplied by station(MW)\n",
      "load_4 = 60.0           #Load supplied by station(MW)\n",
      "load_5 = 5.0            #Load supplied by station(MW)\n",
      "MD = 220.0              #Maximum demand(MW)\n",
      "LF = 0.48               #Annual load factor\n",
      "\n",
      "#Calculation\n",
      "#Case(a)\n",
      "hours_year = 365.0*24                             #Total hours in a year\n",
      "units = LF*MD*hours_year                          #Number of units supplied annually\n",
      "#Case(b)\n",
      "sum_demand = load_1+load_2+load_3+load_4+load_5   #Sum of max demand of individual consumers(MW)\n",
      "diversity_factor = sum_demand/MD                  #Diversity factor\n",
      "#Case(c)\n",
      "DF = MD/sum_demand                                #Demand factor\n",
      "\n",
      "#Result\n",
      "print('Case(a): Number of units supplied annually = %.2e units' %units)\n",
      "print('Case(b): Diversity factor = %.3f ' %diversity_factor)\n",
      "print('Case(c): Demand factor = %.3f = %.1f percent' %(DF,DF*100))"
     ],
     "language": "python",
     "metadata": {},
     "outputs": [
      {
       "output_type": "stream",
       "stream": "stdout",
       "text": [
        "Case(a): Number of units supplied annually = 9.25e+05 units\n",
        "Case(b): Diversity factor = 1.909 \n",
        "Case(c): Demand factor = 0.524 = 52.4 percent\n"
       ]
      }
     ],
     "prompt_number": 1
    },
    {
     "cell_type": "heading",
     "level": 2,
     "metadata": {},
     "source": [
      "Example 1.7.6, Page number 74"
     ]
    },
    {
     "cell_type": "code",
     "collapsed": false,
     "input": [
      "#Variable declaration\n",
      "power_del_1 = 1000.0    #Power delivered by station(MW)\n",
      "time_1 = 2.0            #Time for which power is delivered(hours)\n",
      "power_del_2 = 500.0     #Power delivered by station(MW)\n",
      "time_2 = 6.0            #Time for which power is delivered(hours)\n",
      "days_maint = 60.0       #Maintenance days\n",
      "max_gen_cap = 1000.0    #Max generating capacity(MW)\n",
      "\n",
      "#Calculation\n",
      "energy_sup_day = (power_del_1*time_1)+(power_del_2*time_2)   #Energy supplied for each working day(MWh)\n",
      "days_total = 365.0                                           #Total days in a year\n",
      "days_op = days_total-days_maint                              #Operating days of station in a year\n",
      "energy_sup_year = energy_sup_day*days_op                     #Energy supplied per year(MWh)\n",
      "hours_day = 24.0                                             #Total hours in a day\n",
      "working_hours = days_op*hours_day                            #Hour of working in a year\n",
      "LF = energy_sup_year*100/(max_gen_cap*working_hours)         #Annual load factor(%)\n",
      "\n",
      "#Result\n",
      "print('Annual load factor = %.1f percent' %LF)"
     ],
     "language": "python",
     "metadata": {},
     "outputs": [
      {
       "output_type": "stream",
       "stream": "stdout",
       "text": [
        "Annual load factor = 20.8 percent\n"
       ]
      }
     ],
     "prompt_number": 1
    },
    {
     "cell_type": "heading",
     "level": 2,
     "metadata": {},
     "source": [
      "Example 1.7.7, Page number 74"
     ]
    },
    {
     "cell_type": "code",
     "collapsed": false,
     "input": [
      "#Variable declaration\n",
      "load_industry = 750.0          #Industrial consumer load supplied by station(MW)\n",
      "load_commercial = 350.0        #Commercial establishment load supplied by station(MW)\n",
      "load_power = 10.0              #Domestic power load supplied by station(MW)\n",
      "load_light = 50.0              #Domestic light load supplied by station(MW)\n",
      "MD = 1000.0                    #Maximum demand(MW)\n",
      "kWh_gen = 50.0*10**5           #Number of kWh generated per year\n",
      "\n",
      "#Calculation\n",
      "#Case(i)\n",
      "sum_demand = load_industry+load_commercial+load_power+load_light   #Sum of max demand of individual consumers(MW)\n",
      "diversity_factor = sum_demand/MD                                   #Diversity factor\n",
      "#Case(ii)\n",
      "hours_year = 365.0*24                                              #Total hours in a year\n",
      "average_demand = kWh_gen/hours_year                                #Average demand(MW)\n",
      "LF = average_demand/MD                                             #Load factor\n",
      "\n",
      "#Result\n",
      "print('Case(i) : Diversity factor = %.2f ' %diversity_factor)\n",
      "print('Case(ii): Annual load factor = %.5f = %.f percent' %(LF,LF*100))"
     ],
     "language": "python",
     "metadata": {},
     "outputs": [
      {
       "output_type": "stream",
       "stream": "stdout",
       "text": [
        "Case(i) : Diversity factor = 1.16 \n",
        "Case(ii): Annual load factor = 0.57078 = 57 percent\n"
       ]
      }
     ],
     "prompt_number": 1
    },
    {
     "cell_type": "heading",
     "level": 2,
     "metadata": {},
     "source": [
      "Example 1.7.8, Page number 74-75"
     ]
    },
    {
     "cell_type": "code",
     "collapsed": false,
     "input": [
      "#Variable declaration\n",
      "load_domestic = 15000.0              #Domestic load supplied by station(kW)\n",
      "diversity_domestic = 1.25            #Diversity factor of domestic load\n",
      "DF_domestic = 0.7                    #Demand factor of domestic load\n",
      "load_commercial = 25000.0            #Commercial load supplied by station(kW)\n",
      "diversity_commercial = 1.2           #Diversity factor of commercial load\n",
      "DF_commercial = 0.9                  #Demand factor of commercial load\n",
      "load_industry = 50000.0              #Industrial load supplied by station(kW)\n",
      "diversity_industry = 1.3             #Diversity factor of industrial load\n",
      "DF_industry = 0.98                   #Demand factor of industrial load\n",
      "diversity_factor = 1.5               #Overall system diversity factor\n",
      "\n",
      "#Calculation\n",
      "#Case(a)\n",
      "sum_demand = load_domestic+load_commercial+load_industry   #Sum of max demand of individual consumers(MW)\n",
      "MD = sum_demand/diversity_factor                           #Maximum demand\n",
      "#Case(b)\n",
      "MD_domestic = load_domestic*diversity_domestic             #Maximum domestic load demand(kW)\n",
      "connected_domestic = MD_domestic/DF_domestic               #Connected domestic load(kW)\n",
      "MD_commercial = load_commercial*diversity_commercial       #Maximum commercial load demand(kW)\n",
      "connected_commercial = MD_commercial/DF_commercial         #Connected commercial load(kW)\n",
      "MD_industry = load_industry*diversity_industry             #Maximum industrial load demand(kW)\n",
      "connected_industry = MD_industry/DF_industry               #Connected industrial load(kW)\n",
      "\n",
      "#Result\n",
      "print('Case(a): Maximum demand = %.f kW' %MD)\n",
      "print('Case(b): Connected domestic load = %.1f kW' %connected_domestic)\n",
      "print('         Connected commercial load = %.1f kW' %connected_commercial)\n",
      "print('         Connected industrial load = %.1f kW' %connected_industry)"
     ],
     "language": "python",
     "metadata": {},
     "outputs": [
      {
       "output_type": "stream",
       "stream": "stdout",
       "text": [
        "Case(a): Maximum demand = 60000 kW\n",
        "Case(b): Connected domestic load = 26785.7 kW\n",
        "         Connected commercial load = 33333.3 kW\n",
        "         Connected industrial load = 66326.5 kW\n"
       ]
      }
     ],
     "prompt_number": 1
    },
    {
     "cell_type": "heading",
     "level": 2,
     "metadata": {},
     "source": [
      "Example 1.7.9, Page number 75-76"
     ]
    },
    {
     "cell_type": "code",
     "collapsed": false,
     "input": [
      "#Variable declaration\n",
      "MD = 10000.0        #Maximum demand(kW)\n",
      "load_1 = 2000.0     #Load from 11 PM-6 AM(kW)\n",
      "t_1 = 7.0           #Time from 11 PM-6 AM(hour)\n",
      "load_2 = 3500.0     #Load from 6 AM-8 AM(kW)\n",
      "t_2 = 2.0           #Time from 6 AM-8 AM(hour)\n",
      "load_3 = 8000.0     #Load from 8 AM-12 Noon(kW)\n",
      "t_3 = 4.0           #Time from 8 AM-12 Noon(hour)\n",
      "load_4 = 3000.0     #Load from 12 Noon-1 PM(kW)\n",
      "t_4 = 1.0           #Time from 12 Noon-1 PM(hour)\n",
      "load_5 = 7500.0     #Load from 1 PM-5 PM(kW)\n",
      "t_5 = 4.0           #Time from 1 PM-5 PM(hour)\n",
      "load_6 = 8500.0     #Load from 5 PM-7 PM(kW)\n",
      "t_6 = 2.0           #Time from 5 PM-7 PM(hour)\n",
      "load_7 = 10000.0    #Load from 7 PM-9 PM(kW)\n",
      "t_7 = 2.0           #Time from 7 PM-9 PM(hour)\n",
      "load_8 = 4500.0     #Load from 9 PM-11 PM(kW)\n",
      "t_8 = 2.0           #Time from 9 PM-11 PM(hour)\n",
      "\n",
      "#Calculation\n",
      "energy_gen = (load_1*t_1)+(load_2*t_2)+(load_3*t_3)+(load_4*t_4)+(load_5*t_5)+(load_6*t_6)+(load_7*t_7)+(load_8*t_8) #Energy generated during 24 hours(kWh)\n",
      "LF = energy_gen/(MD*24.0)                            #Load factor\n",
      "no_units = 3.0                                       #Number of generating set\n",
      "cap_1 = 5000.0                                       #Capacity of first generating unit(kW)\n",
      "cap_2 = 3000.0                                       #Capacity of second generating unit(kW)\n",
      "cap_3 = 2000.0                                       #Capacity of third generating unit(kW)\n",
      "cap_reserve = cap_1                                  #Reserve capacity(kW) i.e largest size of generating unit\n",
      "cap_installed = cap_1+cap_2+cap_3+cap_reserve        #Installed capacity(kW)\n",
      "cap_factor = energy_gen/(cap_installed*24.0)         #Plant capacity factor\n",
      "cap_plant = cap_3*t_1+(cap_3+cap_2)*t_2+(cap_2+cap_1)*t_3+cap_2*t_4+(cap_2+cap_1)*t_5+(cap_3+cap_2+cap_1)*t_6+(cap_3+cap_2+cap_1)*t_7+cap_1*t_8 #Capacity of plant running actually(kWh)\n",
      "use_factor = energy_gen/cap_plant                    #Plant use factor\n",
      "\n",
      "#Result\n",
      "print('Number of generator units = %.f' %no_units)\n",
      "print('Size of generator units required are %.f kW, %.f kW and %.f kW' %(cap_1,cap_2,cap_3))\n",
      "print('Reserve plant capacity = %.f kW' %cap_reserve)\n",
      "print('Load factor = %.2f = %.f percent' %(LF,LF*100))\n",
      "print('Plant capacity factor = %.4f = %.2f percent' %(cap_factor,cap_factor*100))\n",
      "print('Plant use factor = %.3f = %.1f percent' %(use_factor,use_factor*100))\n",
      "print('Operating Schedule:')\n",
      "print('-------------------------------------------------')\n",
      "print('       TIME          :    GENERATOR SET RUN')\n",
      "print('-------------------------------------------------')\n",
      "print('    11 PM  - 6  AM   : 2000 kW')\n",
      "print('    6  AM  - 8  AM   : 2000 kW & 3000 kW')\n",
      "print('    8  AM  - 12 Noon : 3000 kW & 5000 kW')\n",
      "print('    12 Noon- 1 PM    : 3000 kW')\n",
      "print('    1  PM  - 5  PM   : 3000 kW & 5000 kW')\n",
      "print('    5  PM  - 7  PM   : 2000 kW, 3000 kW & 5000 kW')\n",
      "print('    7  PM  - 9  PM   : 2000 kW, 3000 kW & 5000 kW')\n",
      "print('    9  PM  - 11  PM  : 5000 kW')"
     ],
     "language": "python",
     "metadata": {},
     "outputs": [
      {
       "output_type": "stream",
       "stream": "stdout",
       "text": [
        "Number of generator units = 3\n",
        "Size of generator units required are 5000 kW, 3000 kW and 2000 kW\n",
        "Reserve plant capacity = 5000 kW\n",
        "Load factor = 0.55 = 55 percent\n",
        "Plant capacity factor = 0.3667 = 36.67 percent\n",
        "Plant use factor = 0.936 = 93.6 percent\n",
        "Operating Schedule:\n",
        "-------------------------------------------------\n",
        "       TIME          :    GENERATOR SET RUN\n",
        "-------------------------------------------------\n",
        "    11 PM  - 6  AM   : 2000 kW\n",
        "    6  AM  - 8  AM   : 2000 kW & 3000 kW\n",
        "    8  AM  - 12 Noon : 3000 kW & 5000 kW\n",
        "    12 Noon- 1 PM    : 3000 kW\n",
        "    1  PM  - 5  PM   : 3000 kW & 5000 kW\n",
        "    5  PM  - 7  PM   : 2000 kW, 3000 kW & 5000 kW\n",
        "    7  PM  - 9  PM   : 2000 kW, 3000 kW & 5000 kW\n",
        "    9  PM  - 11  PM  : 5000 kW\n"
       ]
      }
     ],
     "prompt_number": 1
    },
    {
     "cell_type": "heading",
     "level": 2,
     "metadata": {},
     "source": [
      "Example 1.7.10, Page number 76"
     ]
    },
    {
     "cell_type": "code",
     "collapsed": false,
     "input": [
      "#Variable declaration\n",
      "cap_installed = 210.0*10**3       #Installed capacity of the station(kW)\n",
      "capital_cost_kW = 1000.0          #Capital cost of station(Rs/kW)\n",
      "fixed_cost_per = 0.13             #Fixed cost = 13% * cost of investment\n",
      "variable_cost_per = 1.3           #Variable cost = 1.3*fixed cost\n",
      "\n",
      "#Calculation\n",
      "MD = cap_installed                                          #Maximum demand(kW)\n",
      "hours_year = 365.0*24                                       #Total hours in a year\n",
      "capital_cost = capital_cost_kW*cap_installed                #Capital cost of station(Rs)\n",
      "#Case(i) At 100% load factor\n",
      "fixed_cost_1 = capital_cost*fixed_cost_per                  #Fixed cost(Rs)\n",
      "variable_cost_1 = variable_cost_per*fixed_cost_1            #Variable cost(Rs)\n",
      "operating_cost_1 = fixed_cost_1+variable_cost_1             #Operating cost per annum(Rs)\n",
      "LF_1 = 1.0                                                  #Load factor\n",
      "units_gen_1 = LF_1*MD*hours_year                            #Total units generated(kWh)\n",
      "cost_gen_1 = operating_cost_1*100/units_gen_1               #Cost of genaration per kWh(Paise)\n",
      "#Case(ii) At 50% load factor\n",
      "fixed_cost_2 = capital_cost*fixed_cost_per                  #Fixed cost(Rs)\n",
      "LF_2 = 0.5                                                  #Load factor\n",
      "units_gen_2 = LF_2*MD*hours_year                            #Total units generated(kWh)\n",
      "variable_cost_2 = variable_cost_1*units_gen_2/units_gen_1   #Variable cost(Rs)\n",
      "operating_cost_2 = fixed_cost_2+variable_cost_2             #Operating cost per annum(Rs)\n",
      "cost_gen_2 = operating_cost_2*100/units_gen_2               #Cost of generation per kWh(Paise)\n",
      "\n",
      "#Result\n",
      "print('Cost of generation per kWh at 100 percent load factor = %.2f paise' %cost_gen_1)\n",
      "print('Cost of generation per kWh at 50 percent load factor = %.1f paise' %cost_gen_2)\n",
      "print('Comment: As load factor is reduced, cost of generation is increased')\n",
      "print('\\nNOTE: ERROR: In problem statement, Capital cost of station is Rs. 1000/kW, not Rs. 1000/MW')\n",
      "print('             Calculation mistake in Total units generated in Case(i) in textbook')"
     ],
     "language": "python",
     "metadata": {},
     "outputs": [
      {
       "output_type": "stream",
       "stream": "stdout",
       "text": [
        "Cost of generation per kWh at 100 percent load factor = 3.41 paise\n",
        "Cost of generation per kWh at 50 percent load factor = 4.9 paise\n",
        "Comment: As load factor is reduced, cost of generation is increased\n",
        "\n",
        "NOTE: ERROR: In problem statement, Capital cost of station is Rs. 1000/kW, not Rs. 1000/MW\n",
        "             Calculation mistake in Total units generated in Case(i) in textbook\n"
       ]
      }
     ],
     "prompt_number": 1
    },
    {
     "cell_type": "heading",
     "level": 2,
     "metadata": {},
     "source": [
      "Example 1.7.11, Page number 76"
     ]
    },
    {
     "cell_type": "code",
     "collapsed": false,
     "input": [
      "#Variable declaration\n",
      "MD = 100.0*10**3                    #Maximum demand(kW)\n",
      "capital_cost = 200.0*10**6          #Capital cost(Rs)\n",
      "LF = 0.4                            #Annual load factor\n",
      "cost_fueloil = 15.0*10**6           #Annual cost of fuel and oil(Rs)\n",
      "cost_tax = 10.0*10**6               #Cost of taxes, wages and salaries(Rs)\n",
      "interest = 0.15                     #Interest and depreciation\n",
      "\n",
      "#Calculation\n",
      "hours_year = 365.0*24                               #Total hours in a year\n",
      "units_gen = MD*LF*hours_year                        #Units generated per annum(kWh)\n",
      "fixed_charge = interest*capital_cost                #Annual fixed charges(Rs)\n",
      "running_charge = cost_fueloil+cost_tax              #Annual running charges(Rs)\n",
      "annual_charge = fixed_charge+running_charge         #Total annual charges(Rs)\n",
      "cost_unit = annual_charge*100/units_gen             #Cost per unit(Paise)\n",
      "\n",
      "#Result\n",
      "print('Cost per unit generated = %.f paise' %cost_unit)"
     ],
     "language": "python",
     "metadata": {},
     "outputs": [
      {
       "output_type": "stream",
       "stream": "stdout",
       "text": [
        "Cost per unit generated = 16 paise\n"
       ]
      }
     ],
     "prompt_number": 1
    },
    {
     "cell_type": "heading",
     "level": 2,
     "metadata": {},
     "source": [
      "Example 1.7.12, Page number 76-77"
     ]
    },
    {
     "cell_type": "code",
     "collapsed": false,
     "input": [
      "#Variable declaration\n",
      "cap_installed = 500.0           #Installed capacity of the station(MW)\n",
      "CF = 0.45                       #Capacity factor\n",
      "LF = 0.6                        #Annual laod factor\n",
      "cost_fueloil = 10.0*10**7       #Annual cost of fuel,oil etc(Rs)\n",
      "capital_cost = 10**9            #Capital cost(Rs)\n",
      "interest = 0.15                 #Interest and depreciation\n",
      "\n",
      "#Calculation\n",
      "#Case(i)\n",
      "MD = cap_installed*CF/LF                                    #Maximum demand(MW)\n",
      "cap_reserve = cap_installed-MD                              #Reserve capacity(MW)\n",
      "#Case(ii)\n",
      "hours_year = 365.0*24                                       #Total hours in a year\n",
      "units_gen = MD*10**3*LF*hours_year                          #Units generated per annum(kWh)\n",
      "fixed_charge = interest*capital_cost                        #Annual fixed charges(Rs)\n",
      "running_charge = cost_fueloil                               #Annual running charges(Rs)\n",
      "annual_charge = fixed_charge+running_charge                 #Total annual charges(Rs)\n",
      "cost_unit = annual_charge*100/units_gen                     #Cost per kWh generated(Paise)\n",
      "\n",
      "#Result\n",
      "print('Case(i) : Minimum reserve capacity of station = %.f MW' %cap_reserve)\n",
      "print('Case(ii): Cost per kWh generated = %.f paise' %cost_unit)"
     ],
     "language": "python",
     "metadata": {},
     "outputs": [
      {
       "output_type": "stream",
       "stream": "stdout",
       "text": [
        "Case(i) : Minimum reserve capacity of station = 125 MW\n",
        "Case(ii): Cost per kWh generated = 13 paise\n"
       ]
      }
     ],
     "prompt_number": 1
    },
    {
     "cell_type": "heading",
     "level": 2,
     "metadata": {},
     "source": [
      "Example 1.7.13, Page number 77"
     ]
    },
    {
     "cell_type": "code",
     "collapsed": false,
     "input": [
      "#Variable declaration\n",
      "MD = 75.0*10**3                        #Maximum demand(kW)\n",
      "gen_expense = 850000.0                 #Annual generation expense(Rs)\n",
      "fuel_expense = 2800000.0               #Annual fuel expense(Rs)\n",
      "trans_expense = 345000.0               #Annual transmission expense(Rs)\n",
      "dist_expense = 2750000.0               #Annual distribution expense(Rs)\n",
      "repair_expense = 300000.0              #Annual repairs,etc expense(Rs)\n",
      "unit_gen = 600.0*10**6                 #Number of units generated per year(kWh)\n",
      "gen = 0.9                              #Fixed charges for generation\n",
      "fuel = 0.15                            #Fixed charges for fuel\n",
      "trans = 0.85                           #Fixed charges for transmission\n",
      "dist = 0.95                            #Fixed charges for distribution\n",
      "repair = 0.5                           #Fixed charges for repairs,etc\n",
      "loss_dist = 0.2                        #Losses in transmission and distribution\n",
      "\n",
      "#Calculation\n",
      "fixed_gen = gen_expense*gen                      #Fixed charge on generation(Rs)\n",
      "running_gen = gen_expense*(1-gen)                #Running charge on generation(Rs)\n",
      "fixed_fuel = fuel_expense*fuel                   #Fixed charge on fuel(Rs)\n",
      "running_fuel = fuel_expense*(1-fuel)             #Running charge on fuel(Rs)\n",
      "fixed_trans = trans_expense*trans                #Fixed charge on transmission(Rs)\n",
      "running_trans = trans_expense*(1-trans)          #Running charge on transmission(Rs)\n",
      "fixed_dist = dist_expense*dist                   #Fixed charge on distribution(Rs)\n",
      "running_dist = dist_expense*(1-dist)             #Running charge on distribution(Rs)\n",
      "fixed_repair = repair_expense*repair             #Fixed charge on repairs,etc(Rs)\n",
      "running_repair = repair_expense*(1-repair)       #Running charge on repairs,etc(Rs)\n",
      "fixed_charge = fixed_gen+fixed_fuel+fixed_trans+fixed_dist+fixed_repair              #Total fixed charges(Rs)\n",
      "running_charge = running_gen+running_fuel+running_trans+running_dist+running_repair  #Total running charges(Rs)\n",
      "fixed_unit = fixed_charge/MD                     #Fixed charges per unit(Rs)\n",
      "units_dist = unit_gen*(1-loss_dist)              #Total number of units distributed(kWh)\n",
      "running_unit = running_charge*100/units_dist     #Running charges per unit(Paise)\n",
      "\n",
      "#Result\n",
      "print('Two part tariff is Rs %.3f per kW of maximum demand plus %.3f paise per kWh' %(fixed_unit,running_unit))"
     ],
     "language": "python",
     "metadata": {},
     "outputs": [
      {
       "output_type": "stream",
       "stream": "stdout",
       "text": [
        "Two part tariff is Rs 56.543 per kW of maximum demand plus 0.584 paise per kWh\n"
       ]
      }
     ],
     "prompt_number": 1
    },
    {
     "cell_type": "heading",
     "level": 2,
     "metadata": {},
     "source": [
      "Example 1.7.14, Page number 77"
     ]
    },
    {
     "cell_type": "code",
     "collapsed": false,
     "input": [
      "#Variable declaration\n",
      "cap_installed = 100.0*10**3           #Installed capacity of the station(kW)\n",
      "capital_cost_kW = 1000.0              #Capital cost(Rs/kW)\n",
      "depreciation = 0.15                   #Annual depreciation charge\n",
      "royalty_kW = 2.0                      #Royalty per kW per year(Rs)\n",
      "royalty_kWh = 0.03                    #Royalty per kWh per year(Rs)\n",
      "MD = 70.0*10**3                       #Maximum demand(kW)\n",
      "LF = 0.6                              #Annual load factor\n",
      "cost_salary = 1000000.0               #Annual cost of salaries,maintenance charges etc(Rs)\n",
      "cost_salary_per = 0.2                 #Annual cost of salaries,maintenance charges etc charged as fixed charges\n",
      "\n",
      "#Calculation\n",
      "hours_year = 365.0*24                                            #Total hours in a year\n",
      "unit_gen = MD*LF*hours_year                                      #Units generated/annum(kWh)\n",
      "capital_cost = cap_installed*capital_cost_kW                     #Capital cost of plant(Rs)\n",
      "depreciation_charge = depreciation*capital_cost                  #Depreciation charges(Rs)\n",
      "salary_charge = cost_salary_per*cost_salary                      #Cost on salaries, maintenance etc(Rs)\n",
      "fixed_charge = depreciation_charge+salary_charge                 #Total annual fixed charges(Rs)\n",
      "cost_kW_fixed = (fixed_charge/MD)+royalty_kW                     #Cost per kW(Rs)\n",
      "salary_charge_running = (1-cost_salary_per)*cost_salary          #Annual running charge on salaries, maintenance etc(Rs)\n",
      "cost_kWh_running = (salary_charge_running/unit_gen)+royalty_kWh  #Cost per kWh(Rs)\n",
      "\n",
      "#Result\n",
      "print('Generation cost in two part form is given by, Rs. (%.2f*kW + %.3f*kWh) ' %(cost_kW_fixed,cost_kWh_running))"
     ],
     "language": "python",
     "metadata": {},
     "outputs": [
      {
       "output_type": "stream",
       "stream": "stdout",
       "text": [
        "Generation cost in two part form is given by, Rs. (219.14*kW + 0.032*kWh) \n"
       ]
      }
     ],
     "prompt_number": 1
    },
    {
     "cell_type": "heading",
     "level": 2,
     "metadata": {},
     "source": [
      "Example 1.7.15, Page number 78"
     ]
    },
    {
     "cell_type": "code",
     "collapsed": false,
     "input": [
      "#Variable declaration\n",
      "cap_installed = 100.0*10**3  #Installed capacity of station(kW)\n",
      "cost_gen = 30.0              #Generating cost per annum(Rs)\n",
      "cost_fixed = 4000000.0       #Fixed cost per annum(Rs)\n",
      "cost_fuel = 60.0             #Cost of fuel(Rs/tonne)\n",
      "calorific = 5700.0           #Calorific value of fuel(kcal/kg)\n",
      "rate_heat_1 = 2900.0         #Plant heat rate at 100% capacity factor(kcal/kWh)\n",
      "CF_1 = 1.0                   #Capacity factor\n",
      "rate_heat_2 = 4050.0         #Plant heat rate at 50% capacity factor(kcal/kWh)\n",
      "CF_2 = 0.5                   #Capacity factor\n",
      "\n",
      "#Calculation\n",
      "cost_fixed_kW = cost_fixed/cap_installed           #Fixed cost per kW(Rs)\n",
      "cost_fixed_total = cost_gen+cost_fixed_kW          #Fixed cost per kW capacity(Rs)\n",
      "average_demand_1 = CF_1*cap_installed              #Average demand at 100% capacity factor(kW)\n",
      "average_demand_2 = CF_2*cap_installed              #Average demand at 50% capacity factor(kW)\n",
      "hours_year = 365.0*24                              #Total hours in a year\n",
      "unit_gen_1 = 1*hours_year                          #Energy generated per annum with average demand of 1 kW(kWh)\n",
      "unit_gen_2 = 0.5*hours_year                        #Energy generated per annum with average demand of 0.5 kW(kWh)\n",
      "cost_kWh_fixed_1 = cost_fixed_total*100/unit_gen_1 #Cost per kWh due to fixed charge with 100% CF(Paise)\n",
      "cost_kWh_fixed_2 = cost_fixed_total*100/unit_gen_2 #Cost per kWh due to fixed charge with 50% CF(Paise)\n",
      "kg_kWh_1 = rate_heat_1/calorific                   #Weight(kg)\n",
      "kg_kWh_2 = rate_heat_2/calorific                   #Weight(kg)\n",
      "cost_coal_1 = kg_kWh_1*cost_fuel*100/1000.0        #Cost due to coal at 100% CF(Paise/kWh)\n",
      "cost_coal_2 = kg_kWh_2*cost_fuel*100/1000.0        #Cost due to coal at 50% CF(Paise/kWh)\n",
      "cost_total_1 = cost_kWh_fixed_1+cost_coal_1        #Total cost per unit with 100% CF(Paise)\n",
      "cost_total_2 = cost_kWh_fixed_2+cost_coal_2        #Total cost per unit with 50% CF(Paise)\n",
      "\n",
      "#Result\n",
      "print('Overall generating cost per unit at 100 percent capacity factor = %.3f paise' %cost_total_1)\n",
      "print('Overall generating cost per unit at 50 percent capacity factor = %.3f paise' %cost_total_2)\n",
      "print('\\nNOTE: Slight change in obtained answer from that of textbook answer is due to more precision')"
     ],
     "language": "python",
     "metadata": {},
     "outputs": [
      {
       "output_type": "stream",
       "stream": "stdout",
       "text": [
        "Overall generating cost per unit at 100 percent capacity factor = 3.852 paise\n",
        "Overall generating cost per unit at 50 percent capacity factor = 5.861 paise\n",
        "\n",
        "NOTE: Slight change in obtained answer from that of textbook answer is due to more precision\n"
       ]
      }
     ],
     "prompt_number": 1
    },
    {
     "cell_type": "heading",
     "level": 2,
     "metadata": {},
     "source": [
      "Example 1.7.16, Page number 78"
     ]
    },
    {
     "cell_type": "code",
     "collapsed": false,
     "input": [
      "#Variable declaration\n",
      "MD = 75.0*10**3                       #Maximum demand(kW)\n",
      "LF = 0.4                              #Yearly load factor\n",
      "cost_capital = 60.0                   #Capital cost(Rs/annum/kW)\n",
      "cost_kWh = 1.0                        #Cost per kWh transmitted(Paise)\n",
      "charge_trans = 2000000.0              #Annual capital charge for transmission(Rs)\n",
      "charge_dist = 1500000.0               #Annual capital charge for distribution(Rs)\n",
      "diversity_trans = 1.2                 #Diversity factor for transmission\n",
      "diversity_dist = 1.25                 #Diversity factor for distribution\n",
      "n_trans = 0.9                         #Efficiency of transmission system\n",
      "n_dist = 0.85                         #Efficiency of distribution system\n",
      "\n",
      "#Calculation\n",
      "#Case(a)\n",
      "capital_cost = cost_capital*MD                              #Annual capital cost(Rs)\n",
      "fixed_charge_sub = capital_cost+charge_trans                #Total fixed charges for supply to substation per annum(Rs)\n",
      "sum_MD_sub = MD*diversity_trans                             #Sum of all maximum demand of substation(kW)\n",
      "cost_kW_sub = fixed_charge_sub/sum_MD_sub                   #Yearly cost per kW demand at substation(Rs)\n",
      "running_cost_unit_sub = 1/n_trans                           #Running cost per unit supplied at substation(Paise)\n",
      "#Case(b)\n",
      "sum_MD_con = sum_MD_sub*diversity_dist                      #Sum of all maximum demand of consumer(kW)\n",
      "fixed_charge_con = capital_cost+charge_trans+charge_dist    #Total fixed charges for supply to cosnumers(Rs)\n",
      "cost_kW_con = fixed_charge_con/sum_MD_con                   #Yearly cost per kW demand on consumer premises(Rs)\n",
      "running_cost_unit_con = running_cost_unit_sub/n_dist        #Running cost per unit supplied to consumer(Paise)\n",
      "\n",
      "#Result\n",
      "print('Case(a): Yearly cost per kW demand at the substations = Rs. %.2f ' %cost_kW_sub)\n",
      "print('         Cost per kWh supplied at the substations = %.2f paise' %running_cost_unit_sub)\n",
      "print('Case(b): Yearly cost per kW demand at the consumer premises = Rs. %.2f ' %cost_kW_con)\n",
      "print('         Cost per kWh supplied at the consumer premises = %.3f paise' %running_cost_unit_con)"
     ],
     "language": "python",
     "metadata": {},
     "outputs": [
      {
       "output_type": "stream",
       "stream": "stdout",
       "text": [
        "Case(a): Yearly cost per kW demand at the substations = Rs. 72.22 \n",
        "         Cost per kWh supplied at the substations = 1.11 paise\n",
        "Case(b): Yearly cost per kW demand at the consumer premises = Rs. 71.11 \n",
        "         Cost per kWh supplied at the consumer premises = 1.307 paise\n"
       ]
      }
     ],
     "prompt_number": 1
    },
    {
     "cell_type": "heading",
     "level": 2,
     "metadata": {},
     "source": [
      "Example 1.7.17, Page number 79"
     ]
    },
    {
     "cell_type": "code",
     "collapsed": false,
     "input": [
      "from sympy import *\n",
      "\n",
      "#Variable declaration\n",
      "kVA_tariff_hv = 60.0        #HV supply per kVA per annum(Rs)\n",
      "kWh_tariff_hv = 3.0/100     #HV supply per kWh annum(Rs)\n",
      "kVA_tariff_lv = 65.0        #LV supply per kVA per annum(Rs)\n",
      "kWh_tariff_lv = 3.3/100     #LV supply per kWh annum(Rs)\n",
      "cost_equip_kVA = 50.0       #Cost of transformers and switchgear per kVA(Rs)\n",
      "loss_full_load = 0.02       #Full load transformation loss\n",
      "fixed_charge_per = 0.2      #Fixed charges per annum\n",
      "no_week = 50.0              #Number of working weeks in a year\n",
      "\n",
      "#Calculation\n",
      "rating_equip = 1000/(1-loss_full_load)          #Rating of transformer and switchgear(kVA)\n",
      "cost_equip = cost_equip_kVA*rating_equip        #Cost of transformers and switchgear(Rs)\n",
      "fixed_charge = fixed_charge_per*cost_equip      #Fixed charges per annum on HV plant(Rs)\n",
      "X = Symbol('X')                                 #Number of working hours per week\n",
      "units_cosumed = (no_week*X)*1000.0              #Yearly units consumed by load\n",
      "total_units = units_cosumed/(1-loss_full_load)  #Total units to be paid on HV supply\n",
      "#Case(a)\n",
      "annual_cost_hv = (kVA_tariff_hv*rating_equip)+(kWh_tariff_hv*cost_equip*X)+fixed_charge   #Annual cost(Rs)\n",
      "#Case(b)\n",
      "annual_cost_lv = (kVA_tariff_lv*1000.0)+(kWh_tariff_lv*units_cosumed)                     #Annual cost(Rs)\n",
      "x = solve(annual_cost_hv-annual_cost_lv)        #Finding unknown value i.e working hours\n",
      "x_sol = x[0]                                    #Working hours\n",
      "\n",
      "#Result\n",
      "print('Above %.1f working hours per week the H.V supply is cheaper ' %x_sol)"
     ],
     "language": "python",
     "metadata": {},
     "outputs": [
      {
       "output_type": "stream",
       "stream": "stdout",
       "text": [
        "Above 53.8 working hours per week the H.V supply is cheaper \n"
       ]
      }
     ],
     "prompt_number": 1
    },
    {
     "cell_type": "heading",
     "level": 2,
     "metadata": {},
     "source": [
      "Example 1.7.18, Page number 79-80"
     ]
    },
    {
     "cell_type": "code",
     "collapsed": false,
     "input": [
      "#Variable declaration\n",
      "load_1 = 10.0*10**3        #Load per annum(kVA)\n",
      "time_1 = 1800.0            #Time(hours)\n",
      "load_2 = 6.0*10**3         #Load per annum(kVA)\n",
      "time_2 = 600.0             #Time(hours)\n",
      "load_3 = 0.25*10**3        #Load per annum(kVA)\n",
      "time_3 = 400.0             #Time(hours)\n",
      "rating_trans = 10.0*10**3  #Transformer rating(kVA)\n",
      "pf = 0.8                   #Lagging power factor\n",
      "n_fl_A = 98.3/100.0        #Full load efficiency of transformer A\n",
      "n_fl_B = 98.8/100.0        #Full load efficiency of transformer B\n",
      "loss_A = 70.0              #Core loss at rated voltage of transformer A(kW)\n",
      "loss_B = 40.0              #Core loss at rated voltage of transformer B(kW)\n",
      "cost_A = 250000.0          #Cost of transformer A(Rs)\n",
      "cost_B = 280000.0          #Cost of transformer B(Rs)\n",
      "interest_per = 0.1         #Interest and depreciation charges\n",
      "cost_energy_unit = 3.0     #Energy costs per unit(Paise)\n",
      "\n",
      "#Calculation\n",
      "#Transformer A\n",
      "output_A = rating_trans*pf                             #kW output at full load(kW)\n",
      "input_A = output_A/n_fl_A                              #Input at full load(kW)\n",
      "cu_loss_fl_A = input_A-output_A-loss_A                 #Copper loss at full load(kW)\n",
      "cu_loss_2_A = (load_2/load_1)**2*cu_loss_fl_A          #Copper loss at 6 MVA output(kW)\n",
      "cu_loss_3_A = (load_3/load_1)**2*cu_loss_fl_A          #Copper loss at 0.25 MVA output(kW)\n",
      "ene_iron_loss_A = loss_A*(time_1+time_2+time_3)        #Energy consumed due to iron losses(kWh)\n",
      "ene_cu_loss_A = time_1*cu_loss_fl_A+time_2*cu_loss_2_A+time_3*cu_loss_3_A  #Energy consumed due to copper losses(kWh)\n",
      "total_loss_A = ene_iron_loss_A+ene_cu_loss_A           #Total loss per annum(kWh)\n",
      "cost_energy_A = cost_energy_unit/100*total_loss_A      #Energy cost per annum due to losses(Rs)\n",
      "#Transformer B\n",
      "output_B = rating_trans*pf                             #kW output at full load(kW)\n",
      "input_B = output_B/n_fl_B                              #Input at full load(kW)\n",
      "cu_loss_fl_B = input_B-output_B-loss_B                 #Copper loss at full load(kW)\n",
      "cu_loss_2_B = (load_2/load_1)**2*cu_loss_fl_B          #Copper loss at 6 MVA output(kW)\n",
      "cu_loss_3_B = (load_3/load_1)**2*cu_loss_fl_B          #Copper loss at 0.25 MVA output(kW)\n",
      "ene_iron_loss_B = loss_B*(time_1+time_2+time_3)        #Energy consumed due to iron losses(kWh)\n",
      "ene_cu_loss_B = time_1*cu_loss_fl_B+time_2*cu_loss_2_B+time_3*cu_loss_3_B  #Energy consumed due to copper losses(kWh)\n",
      "total_loss_B = ene_iron_loss_B+ene_cu_loss_B           #Total loss per annum(kWh)\n",
      "cost_energy_B = cost_energy_unit/100*total_loss_B      #Energy cost per annum due to losses(Rs)\n",
      "diff_capital = cost_B-cost_A                           #Difference in capital costs(Rs)\n",
      "annual_charge = interest_per*diff_capital              #Annual charge due to this amount(Rs)\n",
      "diff_cost_energy = cost_energy_A-cost_energy_B         #Difference in energy cost per annum(Rs)\n",
      "cheap = diff_cost_energy-annual_charge                 #Cheaper in cost(Rs)\n",
      "\n",
      "#Result\n",
      "print('Transformer B is cheaper by Rs. %.f per year' %cheap)\n",
      "print('\\nNOTE: ERROR: In problem statement, Full load efficiency for transformer B is 98.8 percent, not 98.3 percent as given')\n",
      "print('      Changes in obtained answer from that of textbook answer is due to more precision')"
     ],
     "language": "python",
     "metadata": {},
     "outputs": [
      {
       "output_type": "stream",
       "stream": "stdout",
       "text": [
        "Transformer B is cheaper by Rs. 197 per year\n",
        "\n",
        "NOTE: ERROR: In problem statement, Full load efficiency for transformer B is 98.8 percent, not 98.3 percent as given\n",
        "      Changes in obtained answer from that of textbook answer is due to more precision\n"
       ]
      }
     ],
     "prompt_number": 1
    },
    {
     "cell_type": "heading",
     "level": 2,
     "metadata": {},
     "source": [
      "Example 1.7.19, Page number 80-81"
     ]
    },
    {
     "cell_type": "code",
     "collapsed": false,
     "input": [
      "#Variable declaration\n",
      "fixed_cost = 4.0*10**4         #Fixed cost of plant(Rs)\n",
      "salvage_value = 4.0*10**3      #Salvage value(Rs)\n",
      "n = 20.0                       #Useful life(years)\n",
      "n_2 = n/2                      #Halfway of useful life(years)\n",
      "r = 0.06                       #Sinking fund depreciation compounded annually\n",
      "\n",
      "#Calculation\n",
      "#Case(a)\n",
      "total_dep_A = fixed_cost-salvage_value       #Total depreciation in 20 years(Rs)\n",
      "dep_10_A = total_dep_A/2                     #Depreciation in 10 years(Rs)\n",
      "value_10_A = fixed_cost-dep_10_A             #Value at the end of 10 years(Rs)\n",
      "#Case(b)\n",
      "P_B = fixed_cost                             #Capital outlay(Rs)\n",
      "q_B = (salvage_value/fixed_cost)**(1/n)      #q = (1-p)\n",
      "value_10_B = P_B*(q_B)**n_2                  #Value at the end of 10 years(Rs)\n",
      "#Case(c)\n",
      "P_C = fixed_cost                             #Capital cost of plant(Rs)\n",
      "P__C = salvage_value                         #Scrap value(Rs)\n",
      "Q_C = P_C-P__C                               #Cost of replacement(Rs)\n",
      "q_C = Q_C/(((1+r)**n-1)/r)                   #Yearly charge(Rs)\n",
      "amount_dep = q_C*((1+r)**n_2-1)/r            #Amount deposited at end of 10 years(Rs)\n",
      "value_10_C = P_C-amount_dep                  #Value at the end of 10 years(Rs)\n",
      "\n",
      "#Result\n",
      "print('Case(a): Value at the end of 10 years based on Straight line depreciation method = Rs %.1e ' %value_10_A)\n",
      "print('Case(b): Value at the end of 10 years based on Reducing balance depreciation method = Rs %.2e ' %value_10_B)\n",
      "print('Case(c): Value at the end of 10 years based on Sinking fund depreciation method = Rs %.2e ' %value_10_C)"
     ],
     "language": "python",
     "metadata": {},
     "outputs": [
      {
       "output_type": "stream",
       "stream": "stdout",
       "text": [
        "Case(a): Value at the end of 10 years based on Straight line depreciation method = Rs 2.2e+04 \n",
        "Case(b): Value at the end of 10 years based on Reducing balance depreciation method = Rs 1.26e+04 \n",
        "Case(c): Value at the end of 10 years based on Sinking fund depreciation method = Rs 2.71e+04 \n"
       ]
      }
     ],
     "prompt_number": 1
    },
    {
     "cell_type": "heading",
     "level": 2,
     "metadata": {},
     "source": [
      "Example 1.7.20, Page number 81"
     ]
    },
    {
     "cell_type": "code",
     "collapsed": false,
     "input": [
      "#Variable declaration\n",
      "h = 30.0                 #Mean head(m)\n",
      "area_catch = 250.0       #Catchment area(Square km)\n",
      "average_rain = 1.25      #Average rainfall per annum(m)\n",
      "utilized_rain = 0.7      #Rainfall utilized\n",
      "LF = 0.8                 #Expected load factor\n",
      "n_turbine = 0.9          #Mechanical efficiency of turbine\n",
      "n_gen = 0.95             #Efficiency of generator\n",
      "\n",
      "#Calculation\n",
      "water_avail = utilized_rain*area_catch*10**6*average_rain     #Water available(m^3)\n",
      "sec_year = 365.0*24*60*60                                     #Total seconds in a year\n",
      "Q = water_avail/sec_year                                      #Quantity available per second(m^3) i.e Discharge(m^3/sec)\n",
      "w = 1000.0                                                    #Density of water(kg/m^3)\n",
      "n = n_turbine*n_gen                                           #Overall efficiency\n",
      "P = 0.736/75*Q*w*h*n                                          #Average output of generator units(kW)\n",
      "rating_gen = P/LF                                             #Rating of generator(kW)\n",
      "rating_gen_each = rating_gen/2.0                              #Rating of each generator(kW)\n",
      "rating_turbine = rating_gen/2*(1/(0.736*n_gen))               #Rating of each turbine(metric hp)\n",
      "\n",
      "#Result\n",
      "print('Choice of units are:')\n",
      "print('  2 generators each having maximum rating of %.f kW ' %rating_gen_each)\n",
      "print('  2 propeller turbines each having maximum rating of %.f metric hp ' %rating_turbine)\n",
      "print('\\nNOTE: Changes in obtained answer from that of textbook answer is due to more precision')"
     ],
     "language": "python",
     "metadata": {},
     "outputs": [
      {
       "output_type": "stream",
       "stream": "stdout",
       "text": [
        "Choice of units are:\n",
        "  2 generators each having maximum rating of 1091 kW \n",
        "  2 propeller turbines each having maximum rating of 1561 metric hp \n",
        "\n",
        "NOTE: Changes in obtained answer from that of textbook answer is due to more precision\n"
       ]
      }
     ],
     "prompt_number": 1
    },
    {
     "cell_type": "heading",
     "level": 2,
     "metadata": {},
     "source": [
      "Example 1.7.21, Page number 81-82"
     ]
    },
    {
     "cell_type": "code",
     "collapsed": false,
     "input": [
      "%matplotlib inline\n",
      "from matplotlib.pyplot import plot,title,xlabel,ylabel,text,axis,show,grid\n",
      "\n",
      "#Variable declaration\n",
      "t0 = 0.0                 #Time 12 morning\n",
      "l0 = 4.0                 #Load at 12 morning(kW*1000)\n",
      "t1 = 1.0                 #Time 1 a.m\n",
      "l1 = 3.5                 #Load at 1 a.m(kW*1000)\n",
      "t2 = 2.0                 #Time 2 a.m\n",
      "l2 = 3.0                 #Load at 2 a.m(kW*1000)\n",
      "t3 = 3.0                 #Time 3 a.m\n",
      "l3 = 3.0                 #Load at 3 a.m(kW*1000)\n",
      "t4 = 4.0                 #Time 4 a.m\n",
      "l4 = 3.5                 #Load at 4 a.m(kW*1000)\n",
      "t5 = 5.0                 #Time 5 a.m\n",
      "l5 = 3.0                 #Load at 5 a.m(kW*1000)\n",
      "t6 = 6.0                 #Time 6 a.m\n",
      "l6 = 6.0                 #Load at 6 a.m(kW*1000)\n",
      "t7 = 7.0                 #Time 7 a.m\n",
      "l7 = 12.5                #Load at 7 a.m(kW*1000)\n",
      "t8 = 8.0                 #Time 8 a.m\n",
      "l8 = 14.5                #Load at 8 a.m(kW*1000)\n",
      "t9 = 9.0                 #Time 9 a.m\n",
      "l9 = 13.5                #Load at 9 a.m(kW*1000)\n",
      "t10 = 10.0               #Time 10 a.m\n",
      "l10 = 13.0               #Load at 10 a.m(kW*1000)\n",
      "t11 = 11.0               #Time 11 a.m\n",
      "l11 = 13.5               #Load at 11 a.m(kW*1000)\n",
      "t113 = 11.50             #Time 11.30 a.m\n",
      "l113 = 12.0              #Load at 11.30 am(kW*1000)\n",
      "t12 = 12.0               #Time 12 noon\n",
      "l12 = 11.0               #Load at 12 noon(kW*1000)\n",
      "t123 = 12.50             #Time 12.30 noon\n",
      "l123 = 5.0               #Load at 12.30 noon(kW*1000)\n",
      "t13 = 13.0               #Time 1 p.m\n",
      "l13 = 12.5               #Load at 1 p.m(kW*1000)\n",
      "t133 = 13.50             #Time 1.30 p.m\n",
      "l133 = 13.5              #Load at 1.30 p.m(kW*1000)\n",
      "t14 = 14.0               #Time 2 p.m\n",
      "l14 = 14.0               #Load at 2 p.m(kW*1000)\n",
      "t15 = 15.0               #Time 3 p.m\n",
      "l15 = 14.0               #Load at 3 p.m(kW*1000)\n",
      "t16 = 16.0               #Time 4 p.m\n",
      "l16 = 15.0               #Load at 4 p.m(kW*1000)\n",
      "t163 = 16.50             #Time 4.30 p.m\n",
      "l163 = 18.0              #Load at 4.30 p.m(kW*1000)\n",
      "t17 = 17.0               #Time 5 p.m\n",
      "l17 = 20.0               #Load at 5 p.m(kW*1000)\n",
      "t173 = 17.50             #Time 5.30 p.m\n",
      "l173 = 17.0              #Load at 5.30 p.m(kW*1000)\n",
      "t18 = 18.0               #Time 6 p.m\n",
      "l18 = 12.5               #Load at 6 p.m(kW*1000)\n",
      "t19 = 19.0               #Time 7 p.m\n",
      "l19 = 10.0               #Load at 7 p.m(kW*1000)\n",
      "t20 = 20.0               #Time 8 p.m\n",
      "l20 = 7.5                #Load at 8 p.m(kW*1000)\n",
      "t21 = 21.0               #Time 9 p.m\n",
      "l21 = 5.0                #Load at 9 p.m(kW*1000)\n",
      "t22 = 22.0               #Time 10 p.m\n",
      "l22 = 5.0                #Load at 10 p.m(kW*1000)\n",
      "t23 = 23.0               #Time 11 p.m\n",
      "l23 = 4.0                #Load at 11 p.m(kW*1000)\n",
      "t24 = 24.0               #Time 12 morning\n",
      "l24 = 4.0                #Load at 12 morning(kW*1000)\n",
      "\n",
      "#Calculation\n",
      "#Chronological load curve\n",
      "plot(\n",
      "     [t0,t1,t2,t3,t4,t5,t6,t7,t8,t9,t10,t11,t113,t12,t123,t13,t133,t14,t15,t16,t163,t17,t173,t18,t19,t20,t21,t22,t23,t24],\n",
      "     [l0,l1,l2,l3,l4,l5,l6,l7,l8,l9,l10,l11,l113,l12,l123,l13,l133,l14,l15,l16,l163,l17,l173,l18,l19,l20,l21,l22,l23,l24],\n",
      "     marker='o',color='b')\n",
      "text(18,l8,'Chronological load curve',color='b')\n",
      "#Load duration curve\n",
      "plot(\n",
      "         [0,0.5,1,1.5,2.5,4.5,6,7,9,9.5,10,11,12,13,15.5,18.5,20.5,23.5,24],\n",
      "         [20,18,17,15,14.5,14,13.5,13,12.5,12,11,10,7.5,6,5,4,3.5,3,3],marker='o',linestyle='--',color='g'\n",
      "         )\n",
      "text(1.5,16,'Load duration curve',color='g')         \n",
      "axis([0,24,0,20])\n",
      "title('Plot of Chronological load curve and Load duration curve')\n",
      "xlabel('Time & No. of hours')\n",
      "ylabel('Load in 10^3 kW')\n",
      "grid()\n",
      "show()\n",
      "\n",
      "#Result\n",
      "print('\\nNOTE: The time is plotted in 24 hours format')"
     ],
     "language": "python",
     "metadata": {},
     "outputs": [
      {
       "metadata": {},
       "output_type": "display_data",
       "png": "[encoded data removed]",
       "text": [
        "<matplotlib.figure.Figure at 0x77b4630>"
       ]
      },
      {
       "output_type": "stream",
       "stream": "stdout",
       "text": [
        "\n",
        "NOTE: The time is plotted in 24 hours format\n"
       ]
      }
     ],
     "prompt_number": 1
    },
    {
     "cell_type": "heading",
     "level": 2,
     "metadata": {},
     "source": [
      "Example 1.7.22, Page number 82"
     ]
    },
    {
     "cell_type": "code",
     "collapsed": false,
     "input": [
      "#Variable declaration\n",
      "MD = 20.0*10**3                       #Maximum demand(kW)\n",
      "LF = 0.6                              #Load factor\n",
      "CF = 0.48                             #Plant capacity factor\n",
      "UF = 0.8                              #Plant use factor\n",
      "\n",
      "#Calculation\n",
      "#Case(a)\n",
      "avg_demand = LF*MD                      #Average demand(kW)\n",
      "ene_daily = avg_demand*24.0             #Daily energy produced(kWh)\n",
      "#Case(b)\n",
      "cap_installed = avg_demand/CF           #Installed capacity(kW)\n",
      "cap_reserve = cap_installed-MD          #Reserve capacity(kW)\n",
      "#Case(c)\n",
      "max_ene_C = cap_installed*24.0          #Maximum energy that could be produced daily(kWh)\n",
      "#Case(d)\n",
      "max_ene_D = ene_daily/UF                #Maximum energy that could be produced daily as per schedule(kWh)\n",
      "\n",
      "#Result\n",
      "print('Case(a): Daily energy produced = %.f kWh' %ene_daily)\n",
      "print('Case(b): Reserve capacity of plant = %.f kW' %cap_reserve)\n",
      "print('Case(c): Maximum energy that could be produced daily when plant runs at all time = %.f kWh' %max_ene_C)\n",
      "print('Case(d): Maximum energy that could be produced daily when plant runs fully loaded = %.f kWh' %max_ene_D)"
     ],
     "language": "python",
     "metadata": {},
     "outputs": [
      {
       "output_type": "stream",
       "stream": "stdout",
       "text": [
        "Case(a): Daily energy produced = 288000 kWh\n",
        "Case(b): Reserve capacity of plant = 5000 kW\n",
        "Case(c): Maximum energy that could be produced daily when plant runs at all time = 600000 kWh\n",
        "Case(d): Maximum energy that could be produced daily when plant runs fully loaded = 360000 kWh\n"
       ]
      }
     ],
     "prompt_number": 1
    },
    {
     "cell_type": "heading",
     "level": 2,
     "metadata": {},
     "source": [
      "Example 1.7.23, Page number 83-84"
     ]
    },
    {
     "cell_type": "code",
     "collapsed": false,
     "input": [
      "#Variable declaration\n",
      "cap_3sets = 600.0                 #Capacity of 3 generators(kW)\n",
      "no_3 = 3.0                        #Number of sets of 600 kW\n",
      "cap_4thset = 400.0                #Capacity of 4th generator set(kW)\n",
      "no_4 = 1.0                        #Number of sets of 400 kW\n",
      "MD = 1600.0                       #Maximum demand(kW)\n",
      "LF = 0.45                         #Load factor\n",
      "cost_capital_kW = 1000.0          #Capital cost per kW installed capacity(Rs)\n",
      "cost_annual_per = 0.15            #Annual cost = 15% of capital cost\n",
      "cost_operation = 60000.0          #Annual operation cost(Rs)\n",
      "cost_maintenance = 30000.0        #Annual maintenance cost(Rs)\n",
      "fixed_maintenance = 1.0/3         #Fixed cost\n",
      "variable_maintenance = 2.0/3      #Variable cost\n",
      "cost_fuel_kg = 40.0/100           #Cost of fuel oil(Rs/kg)\n",
      "cost_oil_kg = 1.25                #Cost of lubricating oil(Rs/kg)\n",
      "calorific = 10000.0               #Calorific value of fuel(kcal/kg)\n",
      "oil_consum = 1.0/400              #Consumption of lubricating oil. 1kg for every 400kWh generated\n",
      "fuel_consum = 1.0/2               #Consumption of fuel. 1kg for every 2kWh generated\n",
      "n_gen = 0.92                      #Generator efficiency\n",
      "heat_lost = 1.0/3                 #Heat lost in the fuel to cooling water\n",
      "theta = 11.0                      #Difference of temperature between inlet and outlet(\u00b0C)\n",
      "\n",
      "#Calculation\n",
      "#Case(a)\n",
      "rating_3set_A = cap_3sets/n_gen                                                #Rating of first 3 sets(kW)\n",
      "rating_4th_A = cap_4thset/n_gen                                                #Rating of 4th set(kW)\n",
      "#Case(b)\n",
      "avg_demand_B = LF*MD                                                           #Average demand(kW)\n",
      "hours_year = 365.0*24                                                          #Total hours in a year\n",
      "energy_B = avg_demand_B*hours_year                                             #Annual energy produced(kWh)\n",
      "#Case(c)\n",
      "total_invest = (no_3*cap_3sets+cap_4thset*no_4)*cost_capital_kW                #Total investment(Rs)\n",
      "annual_cost = cost_annual_per*total_invest                                     #Annual cost(Rs)\n",
      "maintenance_cost = fixed_maintenance*cost_maintenance                          #Maintenance cost(Rs)\n",
      "fixed_cost_total = annual_cost+maintenance_cost                                #Total fixed cost per annum(Rs)\n",
      "fuel_consumption = energy_B*fuel_consum                                        #Fuel consumption(Kg)\n",
      "cost_fuel = fuel_consumption*cost_fuel_kg                                      #Cost of fuel(Rs)\n",
      "oil_consumption = energy_B*oil_consum                                          #Lubrication oil consumption(Kg)\n",
      "cost_oil = oil_consumption*cost_oil_kg                                         #Cost of Lubrication oil(Rs)\n",
      "var_maintenance_cost = variable_maintenance*cost_maintenance                   #Variable part of maintenance cost(Rs)\n",
      "variable_cost_total = cost_fuel+cost_oil+var_maintenance_cost+cost_operation   #Total variable cost per annum(Rs)\n",
      "cost_total_D = fixed_cost_total+variable_cost_total                            #Total cost per annum(Rs)\n",
      "cost_kWh_gen = cost_total_D/energy_B*100                                       #Cost per kWh generated(Paise)\n",
      "#Case(c)\n",
      "n_overall = energy_B*860/(fuel_consumption*calorific)*100                      #Overall efficiency(%)\n",
      "#Case(d)\n",
      "weight_water_hr = heat_lost*fuel_consumption/(hours_year*theta)*calorific      #Weight of cooling water required(kg/hr)\n",
      "weight_water_min = weight_water_hr/60.0                                        #Weight of cooling water required(kg/min)\n",
      "capacity_pump = weight_water_min*MD/avg_demand_B                               #Capacity of cooling water pump(kg/min)\n",
      "\n",
      "#Result\n",
      "print('Case(a): Rating of first 3 sets of diesel engine = %.f kW' %rating_3set_A)\n",
      "print('         Rating of 4th set of diesel engine = %.f kW' %rating_4th_A)\n",
      "print('Case(b): Annual energy produced = %.1e kWh' %energy_B)\n",
      "print('Case(c): Total fixed cost = Rs %.f ' %fixed_cost_total)\n",
      "print('         Total variable cost = Rs %.f ' %variable_cost_total)\n",
      "print('         Cost per kWh generated = %.f paise' %cost_kWh_gen)\n",
      "print('Case(d): Overall efficiency of the diesel plant = %.1f percent' %n_overall)\n",
      "print('Case(e): Quantity of cooling water required per round = %.1e kg/hr = %.f kg/min' %(weight_water_hr,weight_water_min))\n",
      "print('         Capacity of cooling-water pumps under maximum load = %.f kg/min' %capacity_pump)\n",
      "print('\\nNOTE: Changes in obtained answer from that of textbook answer is due to more precision')"
     ],
     "language": "python",
     "metadata": {},
     "outputs": [
      {
       "output_type": "stream",
       "stream": "stdout",
       "text": [
        "Case(a): Rating of first 3 sets of diesel engine = 652 kW\n",
        "         Rating of 4th set of diesel engine = 435 kW\n",
        "Case(b): Annual energy produced = 6.3e+06 kWh\n",
        "Case(c): Total fixed cost = Rs 340000 \n",
        "         Total variable cost = Rs 1361150 \n",
        "         Cost per kWh generated = 27 paise\n",
        "Case(d): Overall efficiency of the diesel plant = 17.2 percent\n",
        "Case(e): Quantity of cooling water required per round = 1.1e+05 kg/hr = 1818 kg/min\n",
        "         Capacity of cooling-water pumps under maximum load = 4040 kg/min\n",
        "\n",
        "NOTE: Changes in obtained answer from that of textbook answer is due to more precision\n"
       ]
      }
     ],
     "prompt_number": 1
    },
    {
     "cell_type": "heading",
     "level": 2,
     "metadata": {},
     "source": [
      "Example 1.7.24, Page number 84"
     ]
    },
    {
     "cell_type": "code",
     "collapsed": false,
     "input": [
      "#Variable declaration\n",
      "cap_installed = 30.0*10**3      #Rating of each generators(kW)\n",
      "no = 4.0                        #Number of installed generators\n",
      "MD = 100.0*10**3                #Maximum demand(kW)\n",
      "LF = 0.8                        #Load factor\n",
      "cost_capital_kW = 800.0         #Capital cost per kW installed capacity(Rs)\n",
      "depreciation_per = 0.125        #Depreciation,etc = 12.5% of capital cost\n",
      "cost_operation = 1.2*10**6      #Annual operation cost(Rs)\n",
      "cost_maintenance = 600000.0     #Annual maintenance cost(Rs)\n",
      "fixed_maintenance = 1.0/3       #Fixed cost\n",
      "variable_maintenance = 2.0/3    #Variable cost\n",
      "cost_miscellaneous = 100000.0   #Miscellaneous cost(Rs)\n",
      "cost_fuel_kg = 32.0/1000        #Cost of fuel oil(Rs/kg)\n",
      "calorific = 6400.0              #Calorific value of fuel(kcal/kg)\n",
      "n_gen = 0.96                    #Generator efficiency\n",
      "n_thermal = 0.28                #Thermal efficiency of turbine\n",
      "n_boiler = 0.75                 #Boiler efficiency\n",
      "n_overall = 0.2                #Overall thermal efficiency\n",
      "\n",
      "#Calculation\n",
      "#Case(a)\n",
      "rating_turbine = cap_installed/(n_gen*0.736)                    #Rating of each steam turbine(metric hp)\n",
      "#Case(b)\n",
      "avg_demand_B = LF*MD                                            #Average demand(kW)\n",
      "hours_year = 365.0*24                                           #Total hours in a year\n",
      "energy_B = avg_demand_B*hours_year                              #Annual energy produced(kWh)\n",
      "#Case(c)\n",
      "steam_consumption_C = (0.8+3.5*LF)/LF                           #Average steam consumption(kg/kWh)\n",
      "#Case(d)\n",
      "LF_D = 1.0                                                      #Assumption that Load factor for boiler\n",
      "steam_consumption_D = (0.8+3.5*LF_D)/LF_D                       #Steam consumption(kg/kWh)\n",
      "energy_D = cap_installed*1.0                                    #Energy output per hour per set(kWh)\n",
      "evaporation_cap = steam_consumption_D*energy_D                  #Evaporation capacity of boiler(kg/hr)\n",
      "#Case(e)\n",
      "total_invest = no*cap_installed*cost_capital_kW                 #Total investment(Rs)\n",
      "capital_cost = depreciation_per*total_invest                    #Capital cost(Rs)\n",
      "maintenance_cost = fixed_maintenance*cost_maintenance           #Maintenance cost(Rs)\n",
      "fixed_cost_total = capital_cost+maintenance_cost                #Total fixed cost per annum(Rs)\n",
      "var_maintenance_cost = variable_maintenance*cost_maintenance    #Variable part of maintenance cost(Rs)\n",
      "input_E = energy_B/n_overall                                    #Input into system per annum(kWh)\n",
      "weight_fuel = input_E*860/calorific                             #Weight of fuel(kg)\n",
      "cost_fuel = weight_fuel*cost_fuel_kg                            #Cost of fuel(Rs)\n",
      "variable_cost_total = cost_operation+var_maintenance_cost+cost_miscellaneous+cost_fuel   #Total variable cost per annum(Rs)\n",
      "cost_total_E = fixed_cost_total+variable_cost_total             #Total cost per annum(Rs)\n",
      "cost_kWh_gen = cost_total_E/energy_B*100                        #Cost per kWh generated(Paise)\n",
      "\n",
      "#Result\n",
      "print('Case(a): Rating of each steam turbine = %.f metric hp' %rating_turbine)\n",
      "print('Case(b): Energy produced per annum = %.3e kWh' %energy_B)\n",
      "print('Case(c): Average steam consumption per kWh = %.1f kg/kWh' %steam_consumption_C)\n",
      "print('Case(d): Evaporation capacity of boiler = %.f kg/hr' %evaporation_cap)\n",
      "print('Case(e): Total fixed cost = Rs %.2e ' %fixed_cost_total)\n",
      "print('         Total variable cost = Rs %.2e ' %variable_cost_total)\n",
      "print('         Cost per kWh generated = %.2f paise' %cost_kWh_gen)\n",
      "print('\\nNOTE: Changes in obtained answer from that of textbook answer is due to more precision')"
     ],
     "language": "python",
     "metadata": {},
     "outputs": [
      {
       "output_type": "stream",
       "stream": "stdout",
       "text": [
        "Case(a): Rating of each steam turbine = 42459 metric hp\n",
        "Case(b): Energy produced per annum = 7.008e+08 kWh\n",
        "Case(c): Average steam consumption per kWh = 4.5 kg/kWh\n",
        "Case(d): Evaporation capacity of boiler = 129000 kg/hr\n",
        "Case(e): Total fixed cost = Rs 1.22e+07 \n",
        "         Total variable cost = Rs 1.68e+07 \n",
        "         Cost per kWh generated = 4.13 paise\n",
        "\n",
        "NOTE: Changes in obtained answer from that of textbook answer is due to more precision\n"
       ]
      }
     ],
     "prompt_number": 1
    },
    {
     "cell_type": "heading",
     "level": 2,
     "metadata": {},
     "source": [
      "Example 1.7.25, Page number 85"
     ]
    },
    {
     "cell_type": "code",
     "collapsed": false,
     "input": [
      "%matplotlib inline\n",
      "from matplotlib.pyplot import plot,title,xlabel,ylabel,text,axis,show\n",
      "\n",
      "#Variable declaration\n",
      "w1 = 1.0       #Week 1\n",
      "Q1 = 200.0     #Discharge during week 1(m^2/sec)\n",
      "w2 = 2.0       #Week 2\n",
      "Q2 = 300.0     #Discharge during week 2(m^2/sec)\n",
      "w3 = 3.0       #Week 3\n",
      "Q3 = 1100.0    #Discharge during week 3(m^2/sec)\n",
      "w4 = 4.0       #Week 4\n",
      "Q4 = 700.0     #Discharge during week 4(m^2/sec)\n",
      "w5 = 5.0       #Week 5\n",
      "Q5 = 900.0     #Discharge during week 5(m^2/sec)\n",
      "w6 = 6.0       #Week 6\n",
      "Q6 = 800.0     #Discharge during week 6(m^2/sec)\n",
      "w7 = 7.0       #Week 7\n",
      "Q7 = 600.0     #Discharge during week 7(m^2/sec)\n",
      "w8 = 8.0       #Week 8\n",
      "Q8 = 1000.0    #Discharge during week 8(m^2/sec)\n",
      "w9 = 9.0       #Week 9\n",
      "Q9 = 500.0     #Discharge during week 9(m^2/sec)\n",
      "w10 = 10.0     #Week 10\n",
      "Q10 = 400.0    #Discharge during week 10(m^2/sec)\n",
      "w11 = 11.0     #Week 11\n",
      "Q11 = 500.0    #Discharge during week 11(m^2/sec)\n",
      "w12 = 12.0     #Week 12\n",
      "Q12 = 700.0    #Discharge during week 12(m^2/sec)\n",
      "w13 = 13.0     #Week 13\n",
      "Q13 = 100.0    #Discharge during week 13(m^2/sec)\n",
      "no_week = 13.0 #Total weeks of discharge\n",
      "\n",
      "#Calculation\n",
      "Q_average = (Q1+Q2+Q3+Q4+Q5+Q6+Q7+Q8+Q9+Q10+Q11+Q12+Q13)/no_week      #Average weekly discharge(m^3/sec)\n",
      "#Hydrograph\n",
      "plot(\n",
      "          [0,w1,w1,w2,w2,w3,w3,w4,w4,w5,w5,w6,w6,w7,w7,w8,w8,w9,w9,w10,w10,w11,w11,w12,w12,w13,w13,w13],\n",
      "          [200,Q1,Q2,Q2,Q3,Q3,Q4,Q4,Q5,Q5,Q6,Q6,Q7,Q7,Q8,Q8,Q9,Q9,Q10,Q10,Q11,Q11,Q12,Q12,Q13,Q13,Q13,0],\n",
      "          color='b',linewidth = 2\n",
      "          )                                                           #Plotting hydrograph\n",
      "text(8.2,Q6,'Hydrograph',color='b')\n",
      "Q = Q_average\n",
      "plot(\n",
      "         [0,w1,w2,w3,w4,w5,w6,w7,w8,w9,w10,w11,w12,w13,14],\n",
      "         [Q,Q,Q,Q,Q,Q,Q,Q,Q,Q,Q,Q,Q,Q,Q],\n",
      "         color='g',linestyle='--'\n",
      "         )                                                            #Plotting average weekly discharge\n",
      "text(13,Q-40,'Q_av',color='g')\n",
      "text(12.02,120,'Q_min',color='r')\n",
      "text(2.02,1120,'Q_max',color='r')\n",
      "axis([0,14,0,1200])\n",
      "title('Plot of Hydrograph')\n",
      "xlabel('Time(week)')\n",
      "ylabel('Q(m^3/sec)')\n",
      "show()\n",
      "\n",
      "#Result\n",
      "print('Average discharge available for the whole period = %.f m^3/sec' %Q_average)"
     ],
     "language": "python",
     "metadata": {},
     "outputs": [
      {
       "metadata": {},
       "output_type": "display_data",
       "png": "[encoded data removed]",
       "text": [
        "<matplotlib.figure.Figure at 0x77217b8>"
       ]
      },
      {
       "output_type": "stream",
       "stream": "stdout",
       "text": [
        "Average discharge available for the whole period = 600 m^3/sec\n"
       ]
      }
     ],
     "prompt_number": 1
    },
    {
     "cell_type": "heading",
     "level": 2,
     "metadata": {},
     "source": [
      "Example 1.7.26, Page number 85-86"
     ]
    },
    {
     "cell_type": "code",
     "collapsed": false,
     "input": [
      "%matplotlib inline\n",
      "from matplotlib.pyplot import plot,title,xlabel,ylabel,text,axis,grid,show\n",
      "\n",
      "#Variable declaration\n",
      "Q1 = 1100.0            #Discharge in descending order(m^3/sec)\n",
      "Q2 = 1000.0            #Discharge(m^3/sec)\n",
      "Q3 = 900.0             #Discharge(m^3/sec)\n",
      "Q4 = 800.0             #Discharge(m^3/sec)\n",
      "Q5 = 700.0             #Discharge(m^3/sec)\n",
      "Q6 = 600.0             #Discharge(m^3/sec)\n",
      "Q7 = 500.0             #Discharge(m^3/sec)\n",
      "Q8 = 400.0             #Discharge(m^3/sec)\n",
      "Q9 = 300.0             #Discharge(m^3/sec)\n",
      "Q10 = 200.0            #Discharge(m^3/sec)\n",
      "Q11 = 100.0            #Discharge(m^3/sec)\n",
      "no_week = 13.0         #Total weeks of discharge\n",
      "h = 200.0              #Head of installation(m)\n",
      "n_overall = 0.88       #Overall efficiency of turbine and generator\n",
      "w = 1000.0             #Density of water(kg/m^3)\n",
      "\n",
      "#Calculation\n",
      "n1 = 1.0                        #Number of weeks for 1100 discharge(m^3/sec)\n",
      "n2 = 2.0                        #Number of weeks for 1000 and above discharge(m^3/sec)\n",
      "n3 = 3.0                        #Number of weeks for 900 and above discharge(m^3/sec)\n",
      "n4 = 4.0                        #Number of weeks for 800 and above discharge(m^3/sec)\n",
      "n5 = 6.0                        #Number of weeks for 700 and above discharge(m^3/sec)\n",
      "n6 = 7.0                        #Number of weeks for 600 and above discharge(m^3/sec)\n",
      "n7 = 9.0                        #Number of weeks for 500 and above discharge(m^3/sec)\n",
      "n8 = 10.0                       #Number of weeks for 400 and above discharge(m^3/sec)\n",
      "n9 = 11.0                       #Number of weeks for 300 and above discharge(m^3/sec)\n",
      "n10 = 12.0                      #Number of weeks for 200 and above discharge(m^3/sec)\n",
      "n11 = 13.0                      #Number of weeks for 100 and above discharge(m^3/sec)\n",
      "P1 = n1/no_week*100             #Percentage of total period for n1\n",
      "P2 = n2/no_week*100             #Percentage of total period for n2\n",
      "P3 = n3/no_week*100             #Percentage of total period for n3\n",
      "P4 = n4/no_week*100             #Percentage of total period for n4\n",
      "P5 = n5/no_week*100             #Percentage of total period for n5\n",
      "P6 = n6/no_week*100             #Percentage of total period for n6\n",
      "P7 = n7/no_week*100             #Percentage of total period for n7\n",
      "P8 = n8/no_week*100             #Percentage of total period for n8\n",
      "P9 = n9/no_week*100             #Percentage of total period for n9\n",
      "P10 = n10/no_week*100           #Percentage of total period for n10\n",
      "P11 = n11/no_week*100           #Percentage of total period for n11\n",
      "plot(\n",
      "          [0,P1,P2,P3,P4,P5,P6,P7,P8,P9,P10,P11],\n",
      "          [Q1,Q1,Q2,Q3,Q4,Q5,Q6,Q7,Q8,Q9,Q10,Q11],\n",
      "          marker='o',color='b'\n",
      "          )                                                           #Plotting flow duration curve\n",
      "text(30,900,'Flow duration curve',color='b')\n",
      "axis([0,100,0,1200])\n",
      "title('Plot of Flow-duration curve')\n",
      "xlabel('Percentage of time')\n",
      "ylabel('Q(m^3/sec)')\n",
      "grid()\n",
      "show()\n",
      "Q_1 = 1.0                               #Discharge(m^3/sec)\n",
      "P_1 = 0.736/75*w*Q_1*h*n_overall        #Power developed for Q_1(kW)\n",
      "Q_av = 600.0                            #Average discharge(m^3/sec). Obtained from Example 1.7.25\n",
      "P_av = P_1*Q_av/1000.0                  #Average power developed(MW)\n",
      "Q_max = Q1                              #Maximum discharge(m^3/sec)\n",
      "P_max = P_1*Q_max/1000.0                #Maximum power developed(MW)\n",
      "Q_10 = 1070.0                           #Discharge for 10% of time(m^3/sec). Value is obtained from graph\n",
      "P_10 = P_1*Q_10/1000.0                  #Installed capacity(MW)\n",
      "\n",
      "#Result\n",
      "print('Maximum power developed = %.f MW' %P_max)\n",
      "print('Average power developed = %.f MW' %P_av)\n",
      "print('Capacity of proposed station = %.f MW' %P_10)\n",
      "print('\\nNOTE: Changes in the obtained answer from that of textbook is due to more precision here & approximation in textbook solution')"
     ],
     "language": "python",
     "metadata": {},
     "outputs": [
      {
       "metadata": {},
       "output_type": "display_data",
       "png": "[encoded data removed]",
       "text": [
        "<matplotlib.figure.Figure at 0x77c7828>"
       ]
      },
      {
       "output_type": "stream",
       "stream": "stdout",
       "text": [
        "Maximum power developed = 1900 MW\n",
        "Average power developed = 1036 MW\n",
        "Capacity of proposed station = 1848 MW\n",
        "\n",
        "NOTE: Changes in the obtained answer from that of textbook is due to more precision here & approximation in textbook solution\n"
       ]
      }
     ],
     "prompt_number": 1
    },
    {
     "cell_type": "heading",
     "level": 2,
     "metadata": {},
     "source": [
      "Example 1.7.27, Page number 86"
     ]
    },
    {
     "cell_type": "code",
     "collapsed": false,
     "input": [
      "%matplotlib inline\n",
      "from matplotlib.pyplot import plot,title,xlabel,ylabel,text,axis,show\n",
      "\n",
      "#Variable declaration\n",
      "Q1 = 700.0             #Discharge for week1(m^3/sec)\n",
      "Q2 = 700.0             #Discharge for week2(m^3/sec)\n",
      "Q3 = 700.0             #Discharge for week3(m^3/sec)\n",
      "Q4 = 600.0             #Discharge for week4(m^3/sec)\n",
      "Q5 = 400.0             #Discharge for week5(m^3/sec)\n",
      "Q6 = 300.0             #Discharge for week6(m^3/sec)\n",
      "Q7 = 400.0             #Discharge for week7(m^3/sec)\n",
      "Q8 = 600.0             #Discharge for week8(m^3/sec)\n",
      "Q9 = 1500.0            #Discharge for week9(m^3/sec)\n",
      "Q10 = 900.0            #Discharge for week10(m^3/sec)\n",
      "Q11 = 600.0            #Discharge for week11(m^3/sec)\n",
      "Q12 = 300.0            #Discharge for week12(m^3/sec)\n",
      "Q13 = 100.0            #Discharge for week13(m^3/sec)\n",
      "\n",
      "#Calculation\n",
      "Q_dsm = 60.0*60*24         #Discharge in day-sec-metres(m^3)\n",
      "V1 = 7.0*Q1                #Weekly volume for week1(day-sec-metre)\n",
      "V2 = 7.0*Q2                #Weekly volume for week2(day-sec-metre)\n",
      "V3 = 7.0*Q3                #Weekly volume for week3(day-sec-metre)\n",
      "V4 = 7.0*Q4                #Weekly volume for week4(day-sec-metre)\n",
      "V5 = 7.0*Q5                #Weekly volume for week5(day-sec-metre)\n",
      "V6 = 7.0*Q6                #Weekly volume for week6(day-sec-metre)\n",
      "V7 = 7.0*Q7                #Weekly volume for week7(day-sec-metre)\n",
      "V8 = 7.0*Q8                #Weekly volume for week8(day-sec-metre)\n",
      "V9 = 7.0*Q9                #Weekly volume for week9(day-sec-metre)\n",
      "V10 = 7.0*Q10              #Weekly volume for week10(day-sec-metre)\n",
      "V11 = 7.0*Q11              #Weekly volume for week11(day-sec-metre)\n",
      "V12 = 7.0*Q12              #Weekly volume for week12(day-sec-metre)\n",
      "V13 = 7.0*Q13              #Weekly volume for week13(day-sec-metre)\n",
      "C1 = V1                    #Cumulative flow for week1(day-sec-metre)\n",
      "C2 = V2+C1                 #Cumulative flow for week2(day-sec-metre)\n",
      "C3 = V3+C2                 #Cumulative flow for week3(day-sec-metre)\n",
      "C4 = V4+C3                 #Cumulative flow for week4(day-sec-metre)\n",
      "C5 = V5+C4                 #Cumulative flow for week5(day-sec-metre)\n",
      "C6 = V6+C5                 #Cumulative flow for week6(day-sec-metre)\n",
      "C7 = V7+C6                 #Cumulative flow for week7(day-sec-metre)\n",
      "C8 = V8+C7                 #Cumulative flow for week8(day-sec-metre)\n",
      "C9 = V9+C8                 #Cumulative flow for week9(day-sec-metre)\n",
      "C10 = V10+C9               #Cumulative flow for week10(day-sec-metre)\n",
      "C11 = V11+C10              #Cumulative flow for week11(day-sec-metre)\n",
      "C12 = V12+C11              #Cumulative flow for week12(day-sec-metre)\n",
      "C13 = V13+C12              #Cumulative flow for week13(day-sec-metre)\n",
      "plot(\n",
      "          [0,1,2,3,4,5,6,7,8,9,10,11,12,13],\n",
      "          [0,C1,C2,C3,C4,C5,C6,C7,C8,C9,C10,C11,C12,C13],\n",
      "          color='b'\n",
      "          )                                                           #Plotting mass curve\n",
      "text(7.2,25000,'Mass curve',color='b')\n",
      "plot(\n",
      "          [0,1,2,3,4,5,6,7,8,9,10,11,12,13],\n",
      "          [0,4725,4725*2.1,4725*3.1,4725*4,4725*5,4725*6,4725*7,4725*8,4725*9,4725*10.1,4725*11,4725*12,4725*13],\n",
      "          color='g'\n",
      "          )                                                           #Plotting tangent\n",
      "text(10,45000,'A',color='b')\n",
      "text(3,12000,'B',color='b')\n",
      "axis([0,13,0,66000])\n",
      "title('Plot of Mass-curve for the period')\n",
      "xlabel('Time(weeks)')\n",
      "ylabel('Flow(Day-sec-metre)')\n",
      "show()\n",
      "cap_reservoir = 7500.0                              #Reservoir capacity obtained from graph(day-sec-metre)\n",
      "reg_flow = 2.0*10**4/(4.0*7)                        #Regulated flow(m^3/sec)\n",
      "\n",
      "#Result\n",
      "print('Case(i) : Size of necessary reservoir = %.f day-sec-metres' %cap_reservoir)\n",
      "print('Case(ii): Rate at which the flow is available with the reservoir = %.f m^3/sec' %reg_flow)"
     ],
     "language": "python",
     "metadata": {},
     "outputs": [
      {
       "metadata": {},
       "output_type": "display_data",
       "png": "[encoded data removed]",
       "text": [
        "<matplotlib.figure.Figure at 0x779d3c8>"
       ]
      },
      {
       "output_type": "stream",
       "stream": "stdout",
       "text": [
        "Case(i) : Size of necessary reservoir = 7500 day-sec-metres\n",
        "Case(ii): Rate at which the flow is available with the reservoir = 714 m^3/sec\n"
       ]
      }
     ],
     "prompt_number": 1
    },
    {
     "cell_type": "heading",
     "level": 2,
     "metadata": {},
     "source": [
      "Example 1.7.28, Page number 87"
     ]
    },
    {
     "cell_type": "code",
     "collapsed": false,
     "input": [
      "#Variable declaration\n",
      "P = 50000.0        #Maximum demand(kW)\n",
      "time = 8760.0      #Time(hours)\n",
      "\n",
      "#Calculation\n",
      "H = 2500.0                                           #Time(hours). Obtained directly from textbook\n",
      "Ob = P\n",
      "Oa = time\n",
      "db = H*Ob/Oa                                         #Power(kW)\n",
      "S_B = 1/2.0*db*H                                     #Units generated by station B(kWh)\n",
      "S = 1/2.0*Ob*Oa                                      #Total units generated(kWh)\n",
      "S_A = S-S_B                                          #Units generated by station A(kWh)\n",
      "x = P-db                                             #Capacity of station A(kW)\n",
      "C = (100000+60*x+0.01*S_A)+(60000+35*db+0.02*S_B)    #Total cost(Rs)\n",
      "cost_unit = C*100/S                                  #Overall generating cost per unit(Paise)\n",
      "\n",
      "#Result\n",
      "print('Station B is used to supply peak load')\n",
      "print('   Installed capacity of station B = %.f kW' %db)\n",
      "print('   Hours per year of station B operation to give minimum total cost per unit generated = %.f hours' %H)\n",
      "print('Total cost per unit generated = %.2f paise' %cost_unit)\n",
      "print('\\nNOTE: Changes in the obtained answer from that of textbook is due to approximation in textbook solution')"
     ],
     "language": "python",
     "metadata": {},
     "outputs": [
      {
       "output_type": "stream",
       "stream": "stdout",
       "text": [
        "Station B is used to supply peak load\n",
        "   Installed capacity of station B = 14269 kW\n",
        "   Hours per year of station B operation to give minimum total cost per unit generated = 2500 hours\n",
        "Total cost per unit generated = 2.36 paise\n",
        "\n",
        "NOTE: Changes in the obtained answer from that of textbook is due to approximation in textbook solution\n"
       ]
      }
     ],
     "prompt_number": 1
    },
    {
     "cell_type": "heading",
     "level": 2,
     "metadata": {},
     "source": [
      "Example 1.7.29, Page number 87-88"
     ]
    },
    {
     "cell_type": "code",
     "collapsed": false,
     "input": [
      "from sympy import *\n",
      "\n",
      "#Variable declaration\n",
      "max_load = 30000.0        #Maximum load(kW)\n",
      "min_load = 10000.0        #Minimum load(kW)\n",
      "peak_load = 72000.0       #Peak load per day(kWh)\n",
      "n = 0.6                   #Efficiency of steam electric conversion\n",
      "\n",
      "#Calculation\n",
      "x = Symbol('x')\n",
      "y = Symbol('y')\n",
      "area_BFGA = (1.0/2*x*y)-peak_load                                  #Area of storage tank\n",
      "ED = (max_load-min_load-x)\n",
      "FE = 24-y\n",
      "area_FED = 1.0/2*ED*FE\n",
      "equ = nsolve([(area_BFGA-0.6*area_FED),24*x-(max_load-min_load)*y],[x,y],[1,1])\n",
      "X = equ[0]                                                         #Hydro-plant capacity(kW)\n",
      "cap_steam = max_load-X                                             #Capacity of steam plant(kW)\n",
      "\n",
      "#Result\n",
      "print('Capacity of hydro plant = %.f kW' %X)\n",
      "print('Capacity of steam plant = %.f kW' %cap_steam)\n",
      "print('\\nNOTE: Changes in the obtained answer from that of textbook is due to more precision here')"
     ],
     "language": "python",
     "metadata": {},
     "outputs": [
      {
       "output_type": "stream",
       "stream": "stdout",
       "text": [
        "Capacity of hydro plant = 12426 kW\n",
        "Capacity of steam plant = 17574 kW\n",
        "\n",
        "NOTE: Changes in the obtained answer from that of textbook is due to more precision here\n"
       ]
      }
     ],
     "prompt_number": 1
    }
   ],
   "metadata": {}
  }
 ]
}