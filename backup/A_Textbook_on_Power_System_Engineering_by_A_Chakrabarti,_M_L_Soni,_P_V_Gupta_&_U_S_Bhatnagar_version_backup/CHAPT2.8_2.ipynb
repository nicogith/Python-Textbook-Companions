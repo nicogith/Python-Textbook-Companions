{
 "metadata": {
  "name": ""
 },
 "nbformat": 3,
 "nbformat_minor": 0,
 "worksheets": [
  {
   "cells": [
    {
     "cell_type": "heading",
     "level": 1,
     "metadata": {},
     "source": [
      "CHAPTER 2.8: CORONA"
     ]
    },
    {
     "cell_type": "heading",
     "level": 2,
     "metadata": {},
     "source": [
      "Example 2.8.1, Page number 227"
     ]
    },
    {
     "cell_type": "code",
     "collapsed": false,
     "input": [
      "import cmath\n",
      "\n",
      "#Variable declaration\n",
      "d = 30.0/10          #Diameter of conductor(cm)\n",
      "delta = 0.95         #Air density factor\n",
      "m = 0.95             #Irregularity factor\n",
      "E = 230.0            #Line voltage(kV)\n",
      "g_0 = 30.0/2**0.5    #Breakdown strength of air(kV/cm)\n",
      "\n",
      "#Calculation\n",
      "E_0 = E/3**0.5                             #Disruptive critical voltage(kV)\n",
      "r = d/2.0                                  #Radius of conductor(cm)\n",
      "D = cmath.exp(E_0/(m*delta*g_0*r))*r/100   #Minimum spacing between conductors(m)\n",
      "\n",
      "#Result\n",
      "print('Minimum spacing between conductors, D = %.3f m' %abs(D))\n",
      "print('\\nNOTE: Changes in obtained answer from that of textbook due to precision')"
     ],
     "language": "python",
     "metadata": {},
     "outputs": [
      {
       "output_type": "stream",
       "stream": "stdout",
       "text": [
        "Minimum spacing between conductors, D = 1.529 m\n",
        "\n",
        "NOTE: Changes in obtained answer from that of textbook due to precision\n"
       ]
      }
     ],
     "prompt_number": 1
    },
    {
     "cell_type": "heading",
     "level": 2,
     "metadata": {},
     "source": [
      "Example 2.8.2, Page number 227-228"
     ]
    },
    {
     "cell_type": "code",
     "collapsed": false,
     "input": [
      "import math\n",
      "\n",
      "#Variable declaration\n",
      "V = 220.0            #Operating line voltage(kV)\n",
      "f = 50.0             #Frequency(Hz)\n",
      "d = 1.5              #Diameter of conductor(cm)\n",
      "D = 300.0            #Distance b/w conductor(cm)\n",
      "delta = 1.05         #Air density factor\n",
      "g_0 = 21.1           #Breakdown strength of air(kV/cm)\n",
      "m = 1.0              #Irregularity factor\n",
      "\n",
      "#Calculation\n",
      "E = V/3**0.5                                           #Phase voltage(kV)\n",
      "r = d/2.0                                              #Radius of conductor(cm)\n",
      "E_0 = m*g_0*delta*r*math.log(D/r)                      #Disruptive critical voltage to neutral(kV/phase)\n",
      "E_0_ll = 3**0.5*E_0                                    #Line-to-line Disruptive critical voltage(kV)\n",
      "P = 244.0*10**-5*(f+25)/delta*(r/D)**0.5*(E-E_0)**2    #Corona loss(kW/km/phase)\n",
      "P_total = P*3.0                                        #Corona loss(kW/km)\n",
      "\n",
      "#Result\n",
      "print('Critical disruptive voltage, E_0 = %.2f kV/phase = %.2f kV (line-to-line)' %(E_0,E_0_ll))\n",
      "print('Corona loss, P = %.2f kW/km' %P_total)\n",
      "print('\\nNOTE: ERROR: Calculation mistake in the final answer in textbook')"
     ],
     "language": "python",
     "metadata": {},
     "outputs": [
      {
       "output_type": "stream",
       "stream": "stdout",
       "text": [
        "Critical disruptive voltage, E_0 = 99.56 kV/phase = 172.44 kV (line-to-line)\n",
        "Corona loss, P = 19.72 kW/km\n",
        "\n",
        "NOTE: ERROR: Calculation mistake in the final answer in textbook\n"
       ]
      }
     ],
     "prompt_number": 1
    },
    {
     "cell_type": "heading",
     "level": 2,
     "metadata": {},
     "source": [
      "Example 2.8.3, Page number 228"
     ]
    },
    {
     "cell_type": "code",
     "collapsed": false,
     "input": [
      "import math\n",
      "\n",
      "#Variable declaration\n",
      "V = 132.0            #Operating line voltage(kV)\n",
      "f = 50.0             #Frequency(Hz)\n",
      "d = 1.17             #Diameter of conductor(cm)\n",
      "D = 300.0            #Distance b/w conductor(cm)\n",
      "m = 0.96             #Irregularity factor\n",
      "b = 72.0             #Barometric pressure(cm)\n",
      "t = 20.0             #Temperature(\u00b0C)\n",
      "\n",
      "#Calculation\n",
      "delta = 3.92*b/(273.0+t)                                         #Air density factor\n",
      "r = d/2.0                                                        #Radius of conductor(cm)\n",
      "E_0 = 21.1*m*delta*r*math.log(D/r)                               #Critical disruptive voltage for fair weather condition(kV/phase)\n",
      "E_0_foul = 0.8*E_0                                               #Critical disruptive voltage for foul weather(kV/phase)\n",
      "E = V/3**0.5                                                     #Phase voltage(kV)\n",
      "P_fair = 244.0*10**-5*(f+25)/delta*(r/D)**0.5*(E-E_0)**2         #Corona loss for fair weather condition(kW/km/phase)\n",
      "P_foul = 244.0*10**-5*(f+25)/delta*(r/D)**0.5*(E-E_0_foul)**2    #Corona loss for foul weather condition(kW/km/phase)\n",
      "\n",
      "#Result\n",
      "print('Corona loss in fair weather, P = %.3f kW/km/phase' %P_fair)\n",
      "print('Corona loss in foul weather, P = %.3f kW/km/phase' %P_foul)"
     ],
     "language": "python",
     "metadata": {},
     "outputs": [
      {
       "output_type": "stream",
       "stream": "stdout",
       "text": [
        "Corona loss in fair weather, P = 0.208 kW/km/phase\n",
        "Corona loss in foul weather, P = 3.102 kW/km/phase\n"
       ]
      }
     ],
     "prompt_number": 1
    },
    {
     "cell_type": "heading",
     "level": 2,
     "metadata": {},
     "source": [
      "Example 2.8.4, Page number 228-229"
     ]
    },
    {
     "cell_type": "code",
     "collapsed": false,
     "input": [
      "import math\n",
      "\n",
      "#Variable declaration\n",
      "V = 110.0            #Operating line voltage(kV)\n",
      "f = 50.0             #Frequency(Hz)\n",
      "l = 175.0            #Line length(km)\n",
      "d = 1.0              #Diameter of conductor(cm)\n",
      "D = 300.0            #Distance b/w conductor(cm)\n",
      "t = 26.0             #Temperature(\u00b0C)\n",
      "b = 74.0             #Barometric pressure(cm)\n",
      "m = 0.85             #Irregularity factor\n",
      "m_v_local = 0.72     #Roughness factor for local corona\n",
      "m_v_gen = 0.82       #Roughness factor for general corona\n",
      "\n",
      "#Calculation\n",
      "delta = 3.92*b/(273.0+t)                                                  #Air density factor\n",
      "r = d/2.0                                                                 #Radius of conductor(cm)\n",
      "E_0 = 21.1*m*delta*r*math.log(D/r)                                        #Critical disruptive voltage(kV) rms\n",
      "E_v_local = 21.1*m_v_local*delta*r*(1+(0.3/(delta*r)**0.5))*math.log(D/r) #Critical disruptive voltage for local corona(kV) rms\n",
      "E_v_gen = 21.1*m_v_gen*delta*r*(1+(0.3/(delta*r)**0.5))*math.log(D/r)     #Critical disruptive voltage for general corona(kV) rms\n",
      "E = V/3**0.5                                                              #Phase voltage(kV)\n",
      "#Case(i)\n",
      "P_c_i = 244.0*10**-5*(f+25)/delta*(r/D)**0.5*(E-E_0)**2                   #Peek's formula for fair weather condition(kW/km/phase)\n",
      "P_c_i_total = P_c_i*l*3                                                   #Total power loss(kW)\n",
      "#Case(ii)\n",
      "P_c_ii = 244.0*10**-5*(f+25)/delta*(r/D)**0.5*(E-0.8*E_0)**2              #Peek's formula for stormy condition(kW/km/phase)\n",
      "P_c_ii_total = P_c_ii*l*3                                                 #Total power loss(kW)\n",
      "#Case(iii)\n",
      "F_iii = 0.0713                                                            #From text depending on E/E_0\n",
      "P_c_iii = 21.0*10**-6*f*E**2*F_iii/(math.log10(D/r))**2                   #Peterson's formula for fair condition(kW/km/phase)\n",
      "P_c_iii_total = P_c_iii*l*3                                               #Total power loss(kW)\n",
      "#Case(iv)\n",
      "F_iv = 0.3945                                                             #From text depending on E/E_0\n",
      "P_c_iv = 21.0*10**-6*f*E**2*F_iv/(math.log10(D/r))**2                     #Peterson's formula for stormy condition(kW/km/phase)\n",
      "P_c_iv_total = P_c_iv*l*3                                                 #Total power loss(kW)\n",
      "\n",
      "#Result\n",
      "print('Case(i)  : Power loss due to corona using Peek formula for fair weather condition, P_c  = %.3f kW/km/phase' %P_c_i)\n",
      "print('           Total corona loss in fair weather condition using Peek formula = %.1f kW' %P_c_i_total)\n",
      "print('Case(ii) : Power loss due to corona using Peek formula for stormy weather condition, P_c  = %.2f kW/km/phase' %P_c_ii)\n",
      "print('           Total corona loss in stormy condition using Peek formula = %.f kW' %P_c_ii_total)\n",
      "print('Case(iii): Power loss due to corona using Peterson formula for fair weather condition, P_c  = %.4f kW/km/phase' %P_c_iii)\n",
      "print('           Total corona loss in fair condition using Peterson formula = %.2f kW' %P_c_iii_total)\n",
      "print('Case(iii): Power loss due to corona using Peterson formula for fair weather condition, P_c  = %.4f kW/km/phase' %P_c_iv)\n",
      "print('           Total corona loss in stormy condition using Peterson formula = %.1f kW' %P_c_iv_total)\n",
      "print('\\nNOTE: ERROR: Calculation mistake in the final answer in textbook')"
     ],
     "language": "python",
     "metadata": {},
     "outputs": [
      {
       "output_type": "stream",
       "stream": "stdout",
       "text": [
        "Case(i)  : Power loss due to corona using Peek formula for fair weather condition, P_c  = 0.475 kW/km/phase\n",
        "           Total corona loss in fair weather condition using Peek formula = 249.5 kW\n",
        "Case(ii) : Power loss due to corona using Peek formula for stormy weather condition, P_c  = 2.78 kW/km/phase\n",
        "           Total corona loss in stormy condition using Peek formula = 1457 kW\n",
        "Case(iii): Power loss due to corona using Peterson formula for fair weather condition, P_c  = 0.0391 kW/km/phase\n",
        "           Total corona loss in fair condition using Peterson formula = 20.54 kW\n",
        "Case(iii): Power loss due to corona using Peterson formula for fair weather condition, P_c  = 0.2165 kW/km/phase\n",
        "           Total corona loss in stormy condition using Peterson formula = 113.6 kW\n",
        "\n",
        "NOTE: ERROR: Calculation mistake in the final answer in textbook\n"
       ]
      }
     ],
     "prompt_number": 1
    },
    {
     "cell_type": "heading",
     "level": 2,
     "metadata": {},
     "source": [
      "Example 2.8.5, Page number 229"
     ]
    },
    {
     "cell_type": "code",
     "collapsed": false,
     "input": [
      "import cmath\n",
      "\n",
      "#Variable declaration\n",
      "V = 132.0            #Operating line voltage(kV)\n",
      "f = 50.0             #Frequency(Hz)\n",
      "dia = 1.956          #Diameter of conductor(cm)\n",
      "v_c = 210.0          #Disrputive voltage(kV) \n",
      "g_0 = 30.0/2**0.5    #Breakdown strength of air(kV/cm)\n",
      "\n",
      "#Calculation\n",
      "r = dia/2.0                              #Radius of conductor(cm)\n",
      "V_c = v_c/3**0.5                         #Disrputive voltage/phase(kV)\n",
      "m_0 = 1.0                                #Irregularity factor\n",
      "delta = 1.0                              #Air density factor\n",
      "d = cmath.exp(V_c/(m_0*delta*g_0*r))*r   #Spacing between conductors(cm)\n",
      "\n",
      "#Result\n",
      "print('Spacing between the conductors, d = %.f cm' %abs(d))\n",
      "print('\\nNOTE: Changes in the obtained answer from that of textbook is due to precision')"
     ],
     "language": "python",
     "metadata": {},
     "outputs": [
      {
       "output_type": "stream",
       "stream": "stdout",
       "text": [
        "Spacing between the conductors, d = 338 cm\n",
        "\n",
        "NOTE: Changes in the obtained answer from that of textbook is due to precision\n"
       ]
      }
     ],
     "prompt_number": 1
    },
    {
     "cell_type": "heading",
     "level": 2,
     "metadata": {},
     "source": [
      "Example 2.8.6, Page number 229"
     ]
    },
    {
     "cell_type": "code",
     "collapsed": false,
     "input": [
      "#Variable declaration\n",
      "P_c1 = 53.0           #Total corona loss(kW)\n",
      "V_1 = 106.0           #Operating line voltage(kV)\n",
      "P_c2 = 98.0           #Total corona loss(kW)\n",
      "V_2 = 110.9           #Operating line voltage(kV)\n",
      "V_3 = 113.0           #Operating line voltage(kV)\n",
      "\n",
      "#Calculation\n",
      "E_1 = V_1/3**0.5                        #Phase voltage(kV)\n",
      "E_2 = V_2/3**0.5                        #Phase voltage(kV)\n",
      "P_ratio = (P_c2/P_c1)**0.5\n",
      "E_0 = (P_ratio*E_1-E_2)/(P_ratio-1)     #Disruptive critical voltage(kV)\n",
      "E_3 = V_3/3**0.5                        #Phase voltage(kV)\n",
      "W = ((E_3-E_0)/(E_1-E_0))**2*P_c1       #Corona loss at 113 kV(kW)\n",
      "\n",
      "#Result\n",
      "print('Disruptive critical voltage, E_0 = %.f kV' %E_0)\n",
      "print('Corona loss at 113 kV, W = %.f kW' %W)"
     ],
     "language": "python",
     "metadata": {},
     "outputs": [
      {
       "output_type": "stream",
       "stream": "stdout",
       "text": [
        "Disruptive critical voltage, E_0 = 53 kV\n",
        "Corona loss at 113 kV, W = 121 kW\n"
       ]
      }
     ],
     "prompt_number": 1
    },
    {
     "cell_type": "heading",
     "level": 2,
     "metadata": {},
     "source": [
      "Example 2.8.7, Page number 229-230"
     ]
    },
    {
     "cell_type": "code",
     "collapsed": false,
     "input": [
      "import math\n",
      "\n",
      "#Variable declaration\n",
      "d = 3.0             #Diameter of conductor(cm)\n",
      "e_r = 4.0           #Relative permittivity\n",
      "d_1 = 3.5           #Internal diameter of porcelain bushing(cm)\n",
      "d_2 = 9.0           #External diameter of porcelain bushing(cm)\n",
      "V = 25.0            #Voltage b/w conductor and clamp(kV)\n",
      "\n",
      "#Calculation\n",
      "r = d/2.0                                                     #Radius of conductor(cm)\n",
      "r_1 = d_1/2.0                                                 #Internal radius of porcelain bushing(cm)\n",
      "r_2 = d_2/2.0                                                 #External radius of porcelain bushing(cm)\n",
      "g_2max = r/(e_r*r_1)                                          #Maximum gradient of inner side of porcelain\n",
      "g_1max = V/(r*math.log(r_1/r)+g_2max*r_1*math.log(r_2/r_1))   #Maximum gradient on surface of conductor(kV/cm)\n",
      "\n",
      "#Result\n",
      "print('Maximum gradient on surface of conductor, g_1max = %.2f kV/cm' %g_1max)\n",
      "print('Since, gradient exceeds 21.1 kV/cm, corona will be present')"
     ],
     "language": "python",
     "metadata": {},
     "outputs": [
      {
       "output_type": "stream",
       "stream": "stdout",
       "text": [
        "Maximum gradient on surface of conductor, g_1max = 42.71 kV/cm\n",
        "Since, gradient exceeds 21.1 kV/cm, corona will be present\n"
       ]
      }
     ],
     "prompt_number": 1
    },
    {
     "cell_type": "heading",
     "level": 2,
     "metadata": {},
     "source": [
      "Example 2.8.8, Page number 230"
     ]
    },
    {
     "cell_type": "code",
     "collapsed": false,
     "input": [
      "import math\n",
      "\n",
      "#Variable declaration\n",
      "d = 2.0             #Diameter of conductor(cm)\n",
      "D = 150.0           #Spacing b/w conductor(cm)\n",
      "delta = 1.0         #Air density factor\n",
      "\n",
      "#Calculation\n",
      "r = d/2.0                           #Radius of conductor(cm)\n",
      "V_d = 21.1*delta*r*math.log(D/r)    #Disruptive critical voltage(kV/phase)\n",
      "V_d_ll = 3**0.5*V_d                 #Line voltage for commencing of corona(kV)\n",
      "\n",
      "#Result\n",
      "print('Line voltage for commencing of corona = %.2f kV' %V_d_ll)\n",
      "print('\\nNOTE: Solution is incomplete in textbook')"
     ],
     "language": "python",
     "metadata": {},
     "outputs": [
      {
       "output_type": "stream",
       "stream": "stdout",
       "text": [
        "Line voltage for commencing of corona = 183.12 kV\n",
        "\n",
        "NOTE: Solution is incomplete in textbook\n"
       ]
      }
     ],
     "prompt_number": 1
    }
   ],
   "metadata": {}
  }
 ]
}