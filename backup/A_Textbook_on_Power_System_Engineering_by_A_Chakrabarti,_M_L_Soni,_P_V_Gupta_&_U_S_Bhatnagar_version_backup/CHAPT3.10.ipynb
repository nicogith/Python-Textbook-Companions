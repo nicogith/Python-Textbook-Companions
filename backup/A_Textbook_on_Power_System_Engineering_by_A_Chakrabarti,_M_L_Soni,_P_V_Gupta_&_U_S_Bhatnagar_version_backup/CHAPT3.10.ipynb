{
 "metadata": {
  "name": ""
 },
 "nbformat": 3,
 "nbformat_minor": 0,
 "worksheets": [
  {
   "cells": [
    {
     "cell_type": "heading",
     "level": 1,
     "metadata": {},
     "source": [
      "CHAPTER 3.10: PROTECTION OF TRANSMISSION LINE, SHUNT INDUCTORS AND CAPACITORS"
     ]
    },
    {
     "cell_type": "heading",
     "level": 2,
     "metadata": {},
     "source": [
      "Example 3.10.1, Page number 647-648"
     ]
    },
    {
     "cell_type": "code",
     "collapsed": false,
     "input": [
      "#Variable declaration\n",
      "G2_per = 70.0              #G2 is fed at 70% distance from A in section AB(%)\n",
      "X_T = 10.0                 #Transformer reactance(%)\n",
      "zone_1_per = 80.0          #Setting for first zone(%)\n",
      "zone_2_per = 50.0          #Setting for second zone(%)\n",
      "CT_ratio = 400.0/5         #CT ratio\n",
      "PT_ratio = 166000.0/110    #PT ratio\n",
      "Z_AB = complex(20.0,60.0)  #Section AB impedance(ohm)\n",
      "Z_BC = complex(10.0,25.0)  #Section BC impedance(ohm)\n",
      "MVA = 10.0                 #Transformer rating(MVA)\n",
      "kV_hv = 166.0              #HV side voltage(kV)\n",
      "kV_lv = 33.0               #LV side voltage(kV)\n",
      "\n",
      "#Calculation\n",
      "#Case(i) Without infeed\n",
      "Z_sec_1 = zone_1_per/100*Z_AB*CT_ratio/PT_ratio                 #First zone setting(ohm)\n",
      "Z_BC_hv = Z_BC*(kV_hv/kV_lv)**2                                 #Z_BC on 166 kV base(ohm)\n",
      "Z_T = 1j*10*X_T*kV_hv**2/(MVA*1000)                             #Transformer impedance(ohm)\n",
      "Z_sec_2 = (Z_AB+zone_2_per/100*Z_BC_hv+Z_T)*CT_ratio/PT_ratio   #Second zone setting(ohm)\n",
      "Z_sec_3 = (Z_AB+Z_BC_hv+Z_T)*CT_ratio/PT_ratio                  #Third zone setting(ohm)\n",
      "#Case(ii) With infeed\n",
      "I_AB = 2.0                                                                                           #Current ratio\n",
      "Z_zone_1 = (G2_per/100*Z_AB)+I_AB*(zone_1_per-G2_per)/100*Z_AB                                       #First zone impedance(ohm)\n",
      "Z_1 = Z_zone_1*CT_ratio/PT_ratio                                                                     #First zone setting(ohm)\n",
      "Z_zone_2 = (G2_per/100*Z_AB)+I_AB*(((zone_1_per-zone_2_per)/100*Z_AB)+(zone_2_per/100*Z_BC_hv)+Z_T)  #Second zone impedance(ohm)\n",
      "Z_2 = Z_zone_2*CT_ratio/PT_ratio                                                                     #Second zone setting(ohm)\n",
      "under_reach = Z_zone_2-(Z_AB+zone_2_per/100*Z_BC_hv+Z_T)                                             #Under-reach due to infeed(ohm)\n",
      "Z_zone_3 = (G2_per/100*Z_AB)+I_AB*(((zone_1_per-zone_2_per)/100*Z_AB)+Z_BC_hv+Z_T)                   #Third zone impedance(ohm)\n",
      "Z_3 = Z_zone_3*CT_ratio/PT_ratio                                                                     #Third zone setting(ohm)\n",
      "\n",
      "#Result\n",
      "print('Case(i)  Without infeed:')\n",
      "print('         First zone relay setting = (%.2f + %.2fj) ohm' %(Z_sec_1.real,Z_sec_1.imag))\n",
      "print('         Second zone relay setting = (%.1f + %.1fj) ohm' %(Z_sec_2.real,Z_sec_2.imag))\n",
      "print('         Third zone relay setting = (%.1f + %.1fj) ohm' %(Z_sec_3.real,Z_sec_3.imag))\n",
      "print('Case(ii) With infeed:')\n",
      "print('         First zone relay setting = (%.3f + %.2fj) ohm' %(Z_1.real,Z_1.imag))\n",
      "print('         Second zone relay setting = (%.1f + %.1fj) ohm' %(Z_2.real,Z_2.imag))\n",
      "print('         Third zone relay setting = (%.1f + %.fj) ohm' %(Z_3.real,Z_3.imag))\n",
      "print('\\nNOTE: ERROR: Calculation mistake in Z_BC. Hence, changes in the obtained answer from that of textbook')"
     ],
     "language": "python",
     "metadata": {},
     "outputs": [
      {
       "output_type": "stream",
       "stream": "stdout",
       "text": [
        "Case(i)  Without infeed:\n",
        "         First zone relay setting = (0.85 + 2.54j) ohm\n",
        "         Second zone relay setting = (7.8 + 34.6j) ohm\n",
        "         Third zone relay setting = (14.5 + 51.3j) ohm\n",
        "Case(ii) With infeed:\n",
        "         First zone relay setting = (0.954 + 2.86j) ohm\n",
        "         Second zone relay setting = (14.8 + 66.9j) ohm\n",
        "         Third zone relay setting = (28.2 + 100j) ohm\n",
        "\n",
        "NOTE: ERROR: Calculation mistake in Z_BC. Hence, changes in the obtained answer from that of textbook\n"
       ]
      }
     ],
     "prompt_number": 1
    },
    {
     "cell_type": "heading",
     "level": 2,
     "metadata": {},
     "source": [
      "Example 3.10.2, Page number 648"
     ]
    },
    {
     "cell_type": "code",
     "collapsed": false,
     "input": [
      "#Variable declaration\n",
      "CT_ratio = 300.0/5          #CT ratio\n",
      "PT_ratio = 166000.0/110     #PT ratio\n",
      "Z_AB = complex(40.0,160.0)  #Section AB impedance(ohm)\n",
      "Z_BC = complex(7.5,15.0)    #Section BC impedance(ohm)\n",
      "kV_hv = 166.0               #HV side voltage(kV)\n",
      "kV_lv = 33.0                #LV side voltage(kV)\n",
      "MVA = 5.0                   #Transformer rating(MVA)\n",
      "X_T = 6.04                  #Transformer reactance(%)\n",
      "\n",
      "#Calculation\n",
      "Z_T = 1j*10*X_T*kV_hv**2/(MVA*1000)   #Tranformer impedance(ohm)\n",
      "Z_fault = Z_AB+Z_T                 #Fault impedance(ohm)\n",
      "Z_sec = Z_fault*CT_ratio/PT_ratio  #Relay setting for primary protection(ohm)\n",
      "Z_BC_hv = Z_BC*(kV_hv/kV_lv)**2                                 #Z_BC on 166 kV base(ohm)\n",
      "Z = Z_AB+Z_T+Z_BC_hv             #For backup protection of line BC(ohm)\n",
      "Z_sec_set = Z*CT_ratio/PT_ratio  #Relay setting(ohm)\n",
      "\n",
      "#Result\n",
      "print('Impedance seen by relay = (%.f + %.fj) ohm' %(Z_fault.real,Z_fault.imag))\n",
      "print('Relay setting for high speed & backup protection = (%.1f + %.2fj) ohm' %(Z_sec_set.real,Z_sec_set.imag))"
     ],
     "language": "python",
     "metadata": {},
     "outputs": [
      {
       "output_type": "stream",
       "stream": "stdout",
       "text": [
        "Impedance seen by relay = (40 + 493j) ohm\n",
        "Relay setting for high speed & backup protection = (9.1 + 34.69j) ohm\n"
       ]
      }
     ],
     "prompt_number": 1
    }
   ],
   "metadata": {}
  }
 ]
}