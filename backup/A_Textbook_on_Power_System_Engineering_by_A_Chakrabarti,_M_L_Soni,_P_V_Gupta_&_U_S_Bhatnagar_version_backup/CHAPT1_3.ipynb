{
 "metadata": {
  "name": ""
 },
 "nbformat": 3,
 "nbformat_minor": 0,
 "worksheets": [
  {
   "cells": [
    {
     "cell_type": "heading",
     "level": 1,
     "metadata": {},
     "source": [
      "CHAPTER 1.3: HYDRO-ELECTRIC STATIONS"
     ]
    },
    {
     "cell_type": "heading",
     "level": 2,
     "metadata": {},
     "source": [
      "Example 3.1, Page number 41"
     ]
    },
    {
     "cell_type": "code",
     "collapsed": false,
     "input": [
      "#Variable declaration\n",
      "Q = 95.0       #Minimum run-off(m^3/sec)\n",
      "h = 40.0       #Head(m)\n",
      "w = 1000.0     #Density of water(kg/m^3)\n",
      "\n",
      "#Calculation\n",
      "weight = Q*w                #Weight of water per sec(kg)\n",
      "work_done = weight*h        #Work done in one second(kg-mt)\n",
      "kW_1 = 75.0/0.746           #1 kW(kg-mt/sec)\n",
      "power = work_done/kW_1      #Power production(kW)\n",
      "hours_year = 365.0*24       #Total hours in a year\n",
      "output = power*365*24.0     #Yearly gross output(kWhr)\n",
      "\n",
      "#Result\n",
      "print('Firm capacity = %.f kW' %power)\n",
      "print('Yearly gross output = %.2e kWhr' %output)"
     ],
     "language": "python",
     "metadata": {},
     "outputs": [
      {
       "output_type": "stream",
       "stream": "stdout",
       "text": [
        "Firm capacity = 37797 kW\n",
        "Yearly gross output = 3.31e+08 kWhr\n"
       ]
      }
     ],
     "prompt_number": 1
    },
    {
     "cell_type": "heading",
     "level": 2,
     "metadata": {},
     "source": [
      "Example 3.3, Page number 41"
     ]
    },
    {
     "cell_type": "code",
     "collapsed": false,
     "input": [
      "#Variable declaration\n",
      "A = 200.0       #Catchment area(Sq.km)\n",
      "F = 1000.0      #Annual rainfall(mm)\n",
      "H = 200.0       #Effective head(m)\n",
      "K = 0.5         #Yield factor\n",
      "n = 0.8         #Plant efficiency\n",
      "\n",
      "#Calculation\n",
      "P = 3.14*n*K*A*F*H*10**-4    #Available continuous power(kW)\n",
      "\n",
      "#Result\n",
      "print('Available continuous power of hydro-electric station , P = %.f kW' %P)"
     ],
     "language": "python",
     "metadata": {},
     "outputs": [
      {
       "output_type": "stream",
       "stream": "stdout",
       "text": [
        "Available continuous power of hydro-electric station , P = 5024 kW\n"
       ]
      }
     ],
     "prompt_number": 1
    },
    {
     "cell_type": "heading",
     "level": 2,
     "metadata": {},
     "source": [
      "Example 3.4, Page number 41-42"
     ]
    },
    {
     "cell_type": "code",
     "collapsed": false,
     "input": [
      "#Variable declaration\n",
      "P = 10.0*10**3        #Rated installed capacity(kW)\n",
      "H = 50.0              #Head of plant(m)\n",
      "n = 0.8               #Efficiency\n",
      "load_factor = 0.15    #Load factor\n",
      "\n",
      "#Calculation\n",
      "units_day = P*load_factor      #Total units generated daily on basis of load factor(kWhr)\n",
      "units_week = units_day*24.0*7  #Total units generated for one week(kWhr)\n",
      "Q = units_week/(9.81*H*n*24*7) #Minimum flow of water(m^3/sec)\n",
      "\n",
      "#Result\n",
      "print('Minimum flow of river water to operate , Q = %.3f cubic mt/sec' %Q)"
     ],
     "language": "python",
     "metadata": {},
     "outputs": [
      {
       "output_type": "stream",
       "stream": "stdout",
       "text": [
        "Minimum flow of river water to operate , Q = 3.823 cubic mt/sec\n"
       ]
      }
     ],
     "prompt_number": 1
    }
   ],
   "metadata": {}
  }
 ]
}