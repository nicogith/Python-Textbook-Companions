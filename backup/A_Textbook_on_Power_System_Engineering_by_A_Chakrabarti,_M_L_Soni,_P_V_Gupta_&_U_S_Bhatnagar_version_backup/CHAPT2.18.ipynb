{
 "metadata": {
  "name": ""
 },
 "nbformat": 3,
 "nbformat_minor": 0,
 "worksheets": [
  {
   "cells": [
    {
     "cell_type": "heading",
     "level": 1,
     "metadata": {},
     "source": [
      "CHAPTER 2.18: POWER DISTRIBUTION SYSTEMS"
     ]
    },
    {
     "cell_type": "heading",
     "level": 2,
     "metadata": {},
     "source": [
      "Example 2.18.1, Page number 437"
     ]
    },
    {
     "cell_type": "code",
     "collapsed": false,
     "input": [
      "#Variable declaration\n",
      "V_A = 225.0    #Potential at point A(V)\n",
      "R_A = 5.0      #Resistance of line A(ohm)\n",
      "V_B = 210.0    #Potential at point B(V)\n",
      "R_B = 1.0      #Resistance of line B(ohm)\n",
      "V_C = 230.0    #Potential at point C(V)\n",
      "R_C = 1.0      #Resistance of line C(ohm)\n",
      "V_D = 230.0    #Potential at point D(V)\n",
      "R_D = 2.0      #Resistance of line D(ohm)\n",
      "V_E = 240.0    #Potential at point E(V)\n",
      "R_E = 2.0      #Resistance of line E(ohm)\n",
      "\n",
      "#Calculation\n",
      "V_0 = ((V_A/R_A)+(V_B/R_B)+(V_C/R_C)+(V_D/R_D)+(V_E/R_E))/((1/R_A)+(1/R_B)+(1/R_C)+(1/R_D)+(1/R_E))   #Potential at point O(V)\n",
      "I_A = (V_A-V_0)/R_A        #Current leaving supply point A(A)\n",
      "I_B = (V_B-V_0)/R_B        #Current leaving supply point B(A)\n",
      "I_C = (V_C-V_0)/R_C        #Current leaving supply point C(A)\n",
      "I_D = (V_D-V_0)/R_D        #Current leaving supply point D(A)\n",
      "I_E = (V_E-V_0)/R_E        #Current leaving supply point E(A)\n",
      "\n",
      "#Result\n",
      "print('Potential of point O, V_0 = %.f V' %V_0)\n",
      "print('Current leaving supply point A, I_A = %.f A' %I_A)\n",
      "print('Current leaving supply point B, I_B = %.f A' %I_B)\n",
      "print('Current leaving supply point C, I_C = %.f A' %I_C)\n",
      "print('Current leaving supply point D, I_D = %.2f A' %I_D)\n",
      "print('Current leaving supply point E, I_E = %.2f A' %I_E)"
     ],
     "language": "python",
     "metadata": {},
     "outputs": [
      {
       "output_type": "stream",
       "stream": "stdout",
       "text": [
        "Potential of point O, V_0 = 225 V\n",
        "Current leaving supply point A, I_A = 0 A\n",
        "Current leaving supply point B, I_B = -15 A\n",
        "Current leaving supply point C, I_C = 5 A\n",
        "Current leaving supply point D, I_D = 2.50 A\n",
        "Current leaving supply point E, I_E = 7.50 A\n"
       ]
      }
     ],
     "prompt_number": 1
    },
    {
     "cell_type": "heading",
     "level": 2,
     "metadata": {},
     "source": [
      "Example 2.18.2, Page number 437-438"
     ]
    },
    {
     "cell_type": "code",
     "collapsed": false,
     "input": [
      "from sympy import *\n",
      "\n",
      "#Variable declaration\n",
      "I = 600.0         #Constant current drawn(A)\n",
      "V_A = 575.0       #Potential at point A(V)\n",
      "V_B = 590.0       #Potential at point B(V)\n",
      "R = 0.04          #Track resistance(ohm/km)\n",
      "\n",
      "#Calculation\n",
      "x = Symbol('x')                     #x(km)\n",
      "I_A = (177.0-24*x)/0.32             #Simplifying\n",
      "V_P = V_A-I_A*R*x                   #Potential at P in terms of x(V)\n",
      "dVP_dx = diff(V_P,x)                #dV_P/dx\n",
      "x_sol = solve(dVP_dx,x)             #Value of x(km)\n",
      "I_A_1 = (177.0-24*x_sol[0])/0.32    #Current drawn from end A(A)\n",
      "I_B = I-I_A_1                       #Current drawn from end B(A)\n",
      "\n",
      "#Result\n",
      "print('Point of minimum potential along the track, x = %.2f km' %x_sol[0])\n",
      "print('Current supplied by station A, I_A = %.f A' %I_A_1)\n",
      "print('Current supplied by station B, I_B = %.f A' %I_B)\n",
      "print('\\nNOTE: ERROR: Calculation mistake in the textbook solution')"
     ],
     "language": "python",
     "metadata": {},
     "outputs": [
      {
       "output_type": "stream",
       "stream": "stdout",
       "text": [
        "Point of minimum potential along the track, x = 3.69 km\n",
        "Current supplied by station A, I_A = 277 A\n",
        "Current supplied by station B, I_B = 323 A\n",
        "\n",
        "NOTE: ERROR: Calculation mistake in the textbook solution\n"
       ]
      }
     ],
     "prompt_number": 1
    },
    {
     "cell_type": "heading",
     "level": 2,
     "metadata": {},
     "source": [
      "Example 2.18.3, Page number 438-439"
     ]
    },
    {
     "cell_type": "code",
     "collapsed": false,
     "input": [
      "from sympy import *\n",
      "\n",
      "#Variable declaration\n",
      "l = 400.0          #Length of cable(m)\n",
      "i = 1.0            #Load(A/m)\n",
      "I_1 = 120.0        #Current at 40m from end A(A)\n",
      "l_1 = 40.0         #Distance from end A(A)\n",
      "I_2 = 72.0         #Current at 72m from end A(A)\n",
      "l_2 = 120.0        #Distance from end A(A)\n",
      "I_3 = 48.0         #Current at 200m from end A(A)\n",
      "l_3 = 200.0        #Distance from end A(A)\n",
      "I_4 = 120.0        #Current at 320m from end A(A)\n",
      "l_4 = 320.0        #Distance from end A(A)\n",
      "r = 0.15           #Cable resistance(ohm/km)\n",
      "V_A = 250.0        #Voltage at end A(A)\n",
      "V_B = 250.0        #Voltage at end A(A)\n",
      "\n",
      "#Calculation\n",
      "I = Symbol('I')                                                      #Current from end A(A)\n",
      "A_A1 = l_1*r*(I-(1.0/2)*i*l_1)                                       #Drop over length(V)\n",
      "I_d_1 = 40.0                                                         #Distributed tapped off current(A)\n",
      "I_A1_A2 = I-l_1-l_2                                                  #Current fed in over length(A)\n",
      "A1_A2 = (l_2-l_1)*r*(I_A1_A2-(1.0/2)*i*(l_2-l_1))                    #Drop over length(V)\n",
      "I_d_2 = 80.0                                                         #Distributed tapped off current(A)\n",
      "I_A2_A3 = I_A1_A2-(I_2+I_d_2)                                        #Current fed in over length(A)\n",
      "A2_A3 = (l_3-l_2)*r*(I_A2_A3-(1.0/2)*i*(l_3-l_2))                    #Drop over length(V)\n",
      "I_d_3 = 80.0                                                         #Distributed tapped off current(A)\n",
      "I_A3_A4 = I_A2_A3-(I_3+I_d_3)                                        #Current fed in over length(A)\n",
      "A3_A4 = (l_4-l_3)*r*(I_A3_A4-(1.0/2)*i*(l_4-l_3))                    #Drop over length(V)\n",
      "I_d_4 = 120.0                                                        #Distributed tapped off current(A)\n",
      "I_A4_B = I_A3_A4-(I_4+I_d_4)                                         #Current fed in over length(A)\n",
      "A4_B = (l-l_4)*r*(I_A4_B-(1.0/2)*i*(l-l_4))                          #Drop over length(V)\n",
      "V_drop = A_A1+A1_A2+A2_A3+A3_A4+A4_B                                 #Total voltage drop in terms of I\n",
      "I_solved = solve(V_drop)                                             #Current(A)\n",
      "I = I_solved[0] \n",
      "I_total = 760.0                                                      #Total load current(A)\n",
      "I_B = I_total-I                                                      #Current from B(A)\n",
      "A_A3 = 2.0*r/1000*(l_1*(I-20)+(l_2-l_1)*(I-200)+(l_3-l_2)*(I-352))   #Potential drop over length A_A3(V)\n",
      "V_A3 = V_A-A_A3                                                      #Voltage at the lowest run lamp(V)\n",
      "\n",
      "#Result\n",
      "print('Position of lowest-run lamp, A_3 = %.f m' %l_3)\n",
      "print('Voltage at the lowest-run lamp = %.1f V' %V_A3)"
     ],
     "language": "python",
     "metadata": {},
     "outputs": [
      {
       "output_type": "stream",
       "stream": "stdout",
       "text": [
        "Position of lowest-run lamp, A_3 = 200 m\n",
        "Voltage at the lowest-run lamp = 239.1 V\n"
       ]
      }
     ],
     "prompt_number": 1
    },
    {
     "cell_type": "heading",
     "level": 2,
     "metadata": {},
     "source": [
      "Example 2.18.4, Page number 439"
     ]
    },
    {
     "cell_type": "code",
     "collapsed": false,
     "input": [
      "from sympy import *\n",
      "\n",
      "#Variable declaration\n",
      "l = 450.0          #Length of wire(m)\n",
      "V_A = 250.0        #Voltage at end A(V)\n",
      "V_B = 250.0        #Voltage at end A(V)\n",
      "r = 0.05           #Conductor resistance(ohm/km)\n",
      "i = 1.5            #Load(A/m)\n",
      "I_C = 20.0         #Current at C(A)\n",
      "l_C = 60.0         #Distance to C from A(m)\n",
      "I_D = 40.0         #Current at D(A)\n",
      "l_D = 100.0        #Distance to D from A(m)\n",
      "l_E = 200.0        #Distance to E from A(m)\n",
      "\n",
      "#Calculation\n",
      "x = Symbol('x')                                  #Current to point D from end A(A)\n",
      "AD = (I_C+x)*r*l_C+x*r*(l_D-l_C)                 #Drop in length AD\n",
      "BD = (i*r*V_A**2/2)+(I_D-x)*r*(450-l_D)          #Drop in length BD\n",
      "x_solve = solve(AD-BD)                           #Current(A)\n",
      "x_sol = x_solve[0]                               #Current(A)\n",
      "I_F = x_sol-I_D                                  #Current supplied to load from end A(A)\n",
      "l_F = l_E+(I_F/i)                                #Point of minimum potential at F from A(m)\n",
      "V_F = V_B-(375.0-I_F)*(250-(l_F-200))*r/1000     #Potential at F from end B(V)\n",
      "\n",
      "#Result\n",
      "print('Point of minimum potential occurs at F at a distance from A = %.2f metres' %l_F)\n",
      "print('Potential at point F = %.2f V' %V_F)"
     ],
     "language": "python",
     "metadata": {},
     "outputs": [
      {
       "output_type": "stream",
       "stream": "stdout",
       "text": [
        "Point of minimum potential occurs at F at a distance from A = 261.74 metres\n",
        "Potential at point F = 247.34 V\n"
       ]
      }
     ],
     "prompt_number": 1
    },
    {
     "cell_type": "heading",
     "level": 2,
     "metadata": {},
     "source": [
      "Example 2.18.5, Page number 440"
     ]
    },
    {
     "cell_type": "code",
     "collapsed": false,
     "input": [
      "from sympy import *\n",
      "\n",
      "#Variable declaration\n",
      "V_O = 240.0            #Voltage at point O(V)\n",
      "V = 230.0              #Minimum potential(V)\n",
      "rho_cu = 1.73*10**-6   #resistivity of copper(ohm-cm)\n",
      "I_D = 40.0             #Current at D(A)\n",
      "I_C = 30.0             #Current at C(A)\n",
      "I_B = 20.0             #Current at B(A)\n",
      "I_A = 400.0            #Current at A(A)\n",
      "l_AD = 50.0            #Length between A & D(m)\n",
      "l_DC = 100.0           #Length between D & C(m)\n",
      "l_CB = 75.0            #Length between C & B(m)\n",
      "l_BA = 35.0            #Length between B & A(m)\n",
      "\n",
      "#Calculation\n",
      "x = Symbol('x')                                                     #Current in section AD(A)\n",
      "ADCBA = l_AD*x+l_DC*(x-I_D)+l_CB*(x-I_D-I_C)+l_BA*(x-I_D-I_C-I_B)   #KVL around loop ADCBA\n",
      "x_solve = solve(ADCBA)                                              #Value of current in section AD(A)\n",
      "x_sol = x_solve[0]                                                  #Current in section AD(A)\n",
      "a_d = Symbol('a_d')\n",
      "r = rho_cu*100*2/a_d                                                #Resistance of ring distributor per metre(ohm)\n",
      "V_AC = r*(x_sol*l_AD+l_DC*(x_sol-I_D))                              #Voltage drop from A to C(V)\n",
      "a_f = Symbol('a_f')\n",
      "V_OA_drop = (I_D+I_C+I_B)*I_A*rho_cu*100*2/a_f                      #Drop in feeder OA(V)\n",
      "V_diff = V_O-V\n",
      "a_d = 1.09123076923077*a_f/(V_diff*a_f-12.456)                      #a_d in terms of a_f\n",
      "volume = 260*a_d+400*a_f                                            #Total volume of copper in both ring distributor & feeder\n",
      "a_f_solve = solve(diff(volume,a_f))                                 #Value of a_f(cm^2)\n",
      "a_f_sol = a_f_solve[1]                                              #Desirable value of a_f(cm^2)\n",
      "a_d_sol = 1.09123076923077*a_f_sol/(V_diff*a_f_sol-12.456)          #a_d in terms of a_f\n",
      "ratio = a_f_sol/a_d_sol                                             #Ratio of a_f to a_d\n",
      "\n",
      "#Result\n",
      "print('Ratio, a_f/a_d = %.2f ' %ratio)\n",
      "print('\\nNOTE: ERROR: Calculation mistakes from finding total volume of copper in both ring distributor & feeder')"
     ],
     "language": "python",
     "metadata": {},
     "outputs": [
      {
       "output_type": "stream",
       "stream": "stdout",
       "text": [
        "Ratio, a_f/a_d = 2.72 \n",
        "\n",
        "NOTE: ERROR: Calculation mistakes from finding total volume of copper in both ring distributor & feeder\n"
       ]
      }
     ],
     "prompt_number": 1
    },
    {
     "cell_type": "heading",
     "level": 2,
     "metadata": {},
     "source": [
      "Example 2.18.6, Page number 440-441"
     ]
    },
    {
     "cell_type": "code",
     "collapsed": false,
     "input": [
      "from sympy import *\n",
      "\n",
      "#Variable declaration\n",
      "l_AB = 100.0         #Length between A & B(m)\n",
      "l_BC = 150.0         #Length between B & C(m)\n",
      "l_CD = 200.0         #Length between C & D(m)\n",
      "l_AD = 350.0         #Length between A & D(m)\n",
      "l_AE = 200.0         #Length between A & E(m)\n",
      "l_ED = 250.0         #Length between E & D(m)\n",
      "I_B = 10.0           #Current at B(A)\n",
      "I_C = 20.0           #Current at C(A)\n",
      "I_D = 50.0           #Current at D(A)\n",
      "I_E = 39.0           #Current at E(A)\n",
      "\n",
      "#Calculation\n",
      "x = Symbol('x')                                                     #Current in section AB(A)\n",
      "ABCDEA = x*l_AB+(x-I_B)*l_BC+(x-I_B-I_C)*l_CD+(x-I_B-I_C-I_D)*l_ED+(x-I_B-I_C-I_D-I_E)*l_AE   #KVL around loop ABCDEA\n",
      "x_solve = solve(ABCDEA)                                             #Solution for current in section AB(A)\n",
      "x_sol = x_solve[0]                                                  #Value of current in section AB(A)\n",
      "V_AD = x_sol*l_AB+(x_sol-I_B)*l_BC+(x_sol-I_B-I_C)*l_CD             #Voltage drop from A to D in terms of \u03c1/a_1(V)\n",
      "R_AD = (l_AB+l_BC+l_CD)*(l_AE+l_ED)/(l_AB+l_BC+l_CD+l_AE+l_ED)      #Resistance of n/w across terminals AD in terms of \u03c1/a\n",
      "I_AD = V_AD/(R_AD+l_AD)                                             #Current in interconnector AD(A)\n",
      "V_A_D = I_AD*l_AD                                                   #Voltage drop between A & D in terms of \u03c1/a_2\n",
      "a2_a1 = V_A_D/V_AD\n",
      "length_with = (l_AB+l_BC+l_CD+l_AE+l_ED+l_AD)                       #Length of conductor with interconnector(m)\n",
      "length_without = (l_AB+l_BC+l_CD+l_AE+l_ED)                         #Length of conductor without interconnector(m)\n",
      "volume_with = a2_a1*length_with/length_without                      #Weight of copper with interconnector\n",
      "\n",
      "#Result\n",
      "print('Ratio of weight of copper with & without interconnector = %.3f : 1 (or) 1 : %.2f' %(volume_with,1/volume_with))"
     ],
     "language": "python",
     "metadata": {},
     "outputs": [
      {
       "output_type": "stream",
       "stream": "stdout",
       "text": [
        "Ratio of weight of copper with & without interconnector = 0.845 : 1 (or) 1 : 1.18\n"
       ]
      }
     ],
     "prompt_number": 1
    },
    {
     "cell_type": "heading",
     "level": 2,
     "metadata": {},
     "source": [
      "Example 2.18.7, Page number 441-442"
     ]
    },
    {
     "cell_type": "code",
     "collapsed": false,
     "input": [
      "from sympy import *\n",
      "\n",
      "#Variable declaration\n",
      "r_out = 0.05             #Resistance of each outer per 100 metre length(ohm)\n",
      "r_neutral = 0.10         #Resistance of each neutral per 100 metre length(ohm)\n",
      "V_A = 200.0              #Potential at point A(V)\n",
      "V_B = 200.0              #Potential at point B(V)\n",
      "l_AC = 100.0             #Length between A & C(m)\n",
      "l_CD = 150.0             #Length between C & D(m)\n",
      "l_DB = 200.0             #Length between D & B(m)\n",
      "l_AF = 200.0             #Length between A & F(m)\n",
      "l_FE = 100.0             #Length between F & E(m)\n",
      "l_EB = 150.0             #Length between E & B(m)\n",
      "I_C = 20.0               #Current at point C(A)\n",
      "I_D = 30.0               #Current at point D(A)\n",
      "I_F = 60.0               #Current at point F(A)\n",
      "I_E = 40.0               #Current at point E(A)\n",
      "\n",
      "#Calculation\n",
      "x = Symbol('x')                                                   #Current in positive outer alone(A)\n",
      "equ_1 = r_out*(l_DB*(I_D-x))-r_out*(l_AC*(I_C+x)+l_CD*x)\n",
      "x_solve = solve(equ_1)\n",
      "x_sol = x_solve[0]                                                #Feasible solution of current(A)\n",
      "y = Symbol('y')                                                   #Current in negative outer alone(A)\n",
      "equ_2 = r_out*((I_E-y)*l_FE+(I_E+I_F-y)*l_AF)-r_out*(l_EB*y)\n",
      "y_solve = solve(equ_2)\n",
      "y_sol = y_solve[0]                                                #Feasible solution of current(A)\n",
      "I_pos_out = I_C+x_sol                                             #Current entering positive outer(A)\n",
      "I_neg_out = I_E+I_F-y_sol                                         #Current returning via negative outer(A)\n",
      "I_middle = I_neg_out-I_pos_out                                    #Current in the middle wire towards G(A)\n",
      "r_CD = r_out*l_CD/100.0                                           #Resistance between C & D(ohm)\n",
      "r_D = r_out*l_DB/100.0                                            #Resistance between D & B(ohm)\n",
      "r_IH = r_neutral*l_FE*0.5/100.0                                   #Resistance between I & H(ohm)\n",
      "r_IJ = r_neutral*l_FE*0.5/100.0                                   #Resistance between I & J(ohm)\n",
      "r_GH = r_neutral*l_AF*0.5/100.0                                   #Resistance between G & H(ohm)\n",
      "r_AF = r_out*l_AF/100.0                                           #Resistance between A & F(ohm)\n",
      "I_CD = x_sol                                                      #Current flowing into D from C(A)\n",
      "I_out_D = I_D-x_sol                                               #Current flowing into D from outer side(A)\n",
      "I_GH = I_C+I_middle                                               #Current flowing into H from G(A)\n",
      "I_IH = I_F-I_GH                                                   #Current flowing into H from I(A)\n",
      "I_BJ = I_E-(I_D-I_IH)                                             #Current flowing into J from B(A)\n",
      "I_FE = y_sol-I_E                                                  #Current flowing into E from F(A)\n",
      "I_IJ = I_D-I_IH                                                   #Current flowing into J from I(A)\n",
      "V_C = V_A-(I_pos_out*r_out-I_middle*r_neutral)                    #Potential at load point C(A)\n",
      "V_D = V_C-(I_CD*r_CD+I_IH*r_IH-I_GH*r_GH)                         #Potential at load point D(A)\n",
      "V_F = V_A-(I_middle*r_neutral+I_GH*r_neutral+I_neg_out*r_AF)      #Potential at load point F(A)\n",
      "V_E = V_F-(-I_IH*r_IH+I_IJ*r_IJ-I_FE*r_out)                       #Potential at load point E(A)\n",
      "\n",
      "#Result\n",
      "print('Potential difference at load point C = %.3f V' %V_C)\n",
      "print('Potential difference at load point D = %.3f V' %V_D)\n",
      "print('Potential difference at load point E = %.3f V' %V_E)\n",
      "print('Potential difference at load point F = %.3f V' %V_F)"
     ],
     "language": "python",
     "metadata": {},
     "outputs": [
      {
       "output_type": "stream",
       "stream": "stdout",
       "text": [
        "Potential difference at load point C = 200.333 V\n",
        "Potential difference at load point D = 202.333 V\n",
        "Potential difference at load point E = 191.167 V\n",
        "Potential difference at load point F = 189.778 V\n"
       ]
      }
     ],
     "prompt_number": 1
    },
    {
     "cell_type": "heading",
     "level": 2,
     "metadata": {},
     "source": [
      "Example 2.18.8, Page number 442-443"
     ]
    },
    {
     "cell_type": "code",
     "collapsed": false,
     "input": [
      "#Variable declaration\n",
      "V = 440.0            #Voltage between outer(V)\n",
      "I_pos = 210.0        #Ligting load current on positive side(A)\n",
      "I_neg = 337.0        #Ligting load current on negative side(A)\n",
      "I_power = 400.0      #Power load current(A)\n",
      "P_loss = 1.5         #Loss in each balancer machine(kW)\n",
      "\n",
      "#Calculation\n",
      "P = I_power*V/1000.0                          #Power(kW)\n",
      "load_pos = I_pos*V*0.5/1000.0                 #Load on positive side(kW)\n",
      "load_neg = I_neg*V*0.5/1000.0                 #Load on negative side(kW)\n",
      "loss_total = 2*P_loss                         #Total loss on rotary balancer set(kW)\n",
      "load_main = P+load_pos+load_neg+loss_total    #Load on main machine(kW)\n",
      "I = load_main*1000/V                          #Current(A)\n",
      "I_M = I-610.0                                 #Current through balancer machine(A)\n",
      "I_G = 127.0-I_M                               #Current through generator(A)\n",
      "output_G = I_G*V*0.5/1000.0                   #Output of generator(kW)\n",
      "input_M = I_M*V*0.5/1000.0                    #Input to balancer machine(kW)\n",
      "\n",
      "#Result\n",
      "print('Load on the main machine = %.2f kW' %load_main)\n",
      "print('Output of generator = %.2f kW' %output_G)\n",
      "print('Input to balancer machine = %.2f kW' %input_M)"
     ],
     "language": "python",
     "metadata": {},
     "outputs": [
      {
       "output_type": "stream",
       "stream": "stdout",
       "text": [
        "Load on the main machine = 299.34 kW\n",
        "Output of generator = 12.47 kW\n",
        "Input to balancer machine = 15.47 kW\n"
       ]
      }
     ],
     "prompt_number": 1
    },
    {
     "cell_type": "heading",
     "level": 2,
     "metadata": {},
     "source": [
      "Example 2.18.9, Page number 444"
     ]
    },
    {
     "cell_type": "code",
     "collapsed": false,
     "input": [
      "import math\n",
      "import cmath\n",
      "\n",
      "#Variable declaration\n",
      "V_a = 11.0*10**3             #Line voltage at A(V)\n",
      "Z_AB = complex(1.0,0.8)      #Impedance between A & B(ohm)\n",
      "Z_AC = complex(3.0,2.0)      #Impedance between A & C(ohm)\n",
      "Z_BD = complex(3.0,4.0)      #Impedance between B & D(ohm)\n",
      "Z_CD = complex(1.0,0.7)      #Impedance between C & D(ohm)\n",
      "I_B = 60.0                   #Current at B(A)\n",
      "I_C = 30.0                   #Current at C(A)\n",
      "I_D = 50.0                   #Current at D(A)\n",
      "pf_B = 0.8                   #Power factor at B\n",
      "pf_C = 0.9                   #Power factor at C\n",
      "pf_D = 0.707                 #Power factor at D\n",
      "\n",
      "#Calculation\n",
      "sin_phi_B = (1-pf_B**2)**0.5\n",
      "I_B1 = I_B*(pf_B-1j*sin_phi_B)      #Load current(A)\n",
      "sin_phi_C = (1-pf_C**2)**0.5\n",
      "I_C1 = I_C*(pf_C-1j*sin_phi_C)      #Load current(A)\n",
      "sin_phi_D = (1-pf_D**2)**0.5\n",
      "I_D1 = I_D*(pf_D-1j*sin_phi_D)      #Load current(A)\n",
      "V_A = V_a/3**0.5                    #Phase voltage at A(V)\n",
      "I_AC = I_C1                         #Current in section AC when C & D is removed(A)\n",
      "I_BD = I_D1                         #Current in section BD when C & D is removed(A)\n",
      "I_AB = I_B1+I_D1                    #Current in section AB when C & D is removed(A)\n",
      "V_AC_drop = I_AC*Z_AC               #Voltage drop at section AC(V)\n",
      "V_AB_drop = I_AB*Z_AB               #Voltage drop at section AB(V)\n",
      "V_BD_drop = I_BD*Z_BD               #Voltage drop at section BD(V)\n",
      "V_drop_D = V_BD_drop+V_AB_drop      #Total drop upto D(V)\n",
      "pd_CD = V_drop_D-V_AC_drop          #Potential difference between C & D(V)\n",
      "Z_C_D = Z_AB+Z_BD+Z_AC              #Impedance of network looking from terminal C & D(ohm)\n",
      "I_CD = pd_CD/(Z_C_D+Z_CD)           #Current flowing in section CD(A)\n",
      "I_AC = I_CD+I_C1                    #Current flowing in section AC(A)\n",
      "I_BD = I_D1-I_CD                    #Current flowing in section BD(A)\n",
      "I_AB = I_BD+I_B1                    #Current flowing in section AB(A)\n",
      "V_drop_AC = I_AC*Z_AC               #Drop caused by current flowing in section AC(V/phase)\n",
      "V_drop_AC_line = V_drop_AC*3**0.5   #Drop caused by current flowing in section AC(V)\n",
      "V_C = V_a-V_drop_AC_line            #Voltage at C(V)\n",
      "\n",
      "#Result\n",
      "print('Current in section CD, I_CD = (%.2f%.2fj) A' %(I_CD.real,I_CD.imag))\n",
      "print('Current in section AC, I_AC = (%.2f%.2fj) A' %(I_AC.real,I_AC.imag))\n",
      "print('Current in section BD, I_BD = (%.2f%.2fj) A' %(I_BD.real,I_BD.imag))\n",
      "print('Current in section AB, I_AB = (%.2f%.2fj) A' %(I_AB.real,I_AB.imag))\n",
      "print('Voltage at load point C = %.2f\u2220%.2f\u00b0 kV' %(abs(V_C)/1000,cmath.phase(V_C)*180/math.pi))"
     ],
     "language": "python",
     "metadata": {},
     "outputs": [
      {
       "output_type": "stream",
       "stream": "stdout",
       "text": [
        "Current in section CD, I_CD = (19.67-16.46j) A\n",
        "Current in section AC, I_AC = (46.67-29.53j) A\n",
        "Current in section BD, I_BD = (15.68-18.90j) A\n",
        "Current in section AB, I_AB = (63.68-54.90j) A\n",
        "Voltage at load point C = 10.66\u2220-0.04\u00b0 kV\n"
       ]
      }
     ],
     "prompt_number": 1
    }
   ],
   "metadata": {}
  }
 ]
}