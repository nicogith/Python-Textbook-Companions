{
 "metadata": {
  "name": ""
 },
 "nbformat": 3,
 "nbformat_minor": 0,
 "worksheets": [
  {
   "cells": [
    {
     "cell_type": "heading",
     "level": 1,
     "metadata": {},
     "source": [
      "CHAPTER 2.10: POWER SYSTEM STABILITY"
     ]
    },
    {
     "cell_type": "heading",
     "level": 2,
     "metadata": {},
     "source": [
      "Example 2.10.1, Page number 270"
     ]
    },
    {
     "cell_type": "code",
     "collapsed": false,
     "input": [
      "import math\n",
      "\n",
      "#Variable declaration\n",
      "Z = 0.1        #Impedance of transmission line(p.u)\n",
      "M = 0.3        #Stability margin\n",
      "X = 1.0        #Constant(p.u)\n",
      "\n",
      "#Calculation\n",
      "sin_delta_0 = 1-M                               #Sin(\u03b4_0)\n",
      "delta_0 = math.asin(sin_delta_0)*180/math.pi    #\u03b4_0(\u00b0)\n",
      "P_0 = X/Z*sin_delta_0                           #Magnitude of P_0(p.u)\n",
      "\n",
      "#Result\n",
      "print('Operating power angle, \u03b4_0 = %.2f\u00b0 ' %delta_0)\n",
      "print('P_0 = %.2f p.u' %P_0)"
     ],
     "language": "python",
     "metadata": {},
     "outputs": [
      {
       "output_type": "stream",
       "stream": "stdout",
       "text": [
        "Operating power angle, \u03b4_0 = 44.43\u00b0 \n",
        "P_0 = 7.00 p.u\n"
       ]
      }
     ],
     "prompt_number": 1
    },
    {
     "cell_type": "heading",
     "level": 2,
     "metadata": {},
     "source": [
      "Example 2.10.2, Page number 270"
     ]
    },
    {
     "cell_type": "code",
     "collapsed": false,
     "input": [
      "#Variable declaration\n",
      "x_s = 0.85     #Reactance(p.u)\n",
      "x_T1 = 0.157   #Reactance(p.u)\n",
      "x_T2 = 0.157   #Reactance(p.u)\n",
      "x_l1 = 0.35    #Reactance(p.u)\n",
      "x_l2 = 0.35    #Reactance(p.u)\n",
      "E = 1.50       #Sending end voltage(p.u)\n",
      "V_L = 1.0      #Load voltage(p.u)\n",
      "P_0 = 1.0      #Stable power output(p.u)\n",
      "\n",
      "#Calculation\n",
      "x = x_s+x_T1+x_T2+(x_l1/2)         #Total reactance(p.u)\n",
      "P_max = E*V_L/x                    #Maximum power limit(p.u)\n",
      "M = (P_max-P_0)/P_max*100          #Steady state stability margin(%)\n",
      "V_Lmin = P_0*x/E                   #Minimum value of V_L(p.u)\n",
      "E_min = P_0*x/V_L                  #Minimum value of E(p.u)\n",
      "\n",
      "#Result\n",
      "print('Minimum value of |E|, |E_min| = %.3f p.u' %E_min)\n",
      "print('Minimum value of |V_L|, |V_Lmin| = %.3f p.u' %V_Lmin)\n",
      "print('Maximum power limit, P_0 = %.2f p.u' %P_max)\n",
      "print('Steady state stability margin, M = %.1f percent' %M)"
     ],
     "language": "python",
     "metadata": {},
     "outputs": [
      {
       "output_type": "stream",
       "stream": "stdout",
       "text": [
        "Minimum value of |E|, |E_min| = 1.339 p.u\n",
        "Minimum value of |V_L|, |V_Lmin| = 0.893 p.u\n",
        "Maximum power limit, P_0 = 1.12 p.u\n",
        "Steady state stability margin, M = 10.7 percent\n"
       ]
      }
     ],
     "prompt_number": 1
    },
    {
     "cell_type": "heading",
     "level": 2,
     "metadata": {},
     "source": [
      "Example 2.10.3, Page number 270-271"
     ]
    },
    {
     "cell_type": "code",
     "collapsed": false,
     "input": [
      "#Variable declaration\n",
      "E_1 = 1.25     #Sending end voltage(p.u)\n",
      "x_d = 1.0      #Reactance(p.u)\n",
      "x_T1 = 0.2     #Reactance(p.u)\n",
      "x_l1 = 1.0     #Reactance(p.u)\n",
      "x_l2 = 1.0     #Reactance(p.u)\n",
      "x_T2 = 0.2     #Reactance(p.u)\n",
      "E_2 = 1.0      #Receiving end voltage(p.u)\n",
      "x_L = 1.0      #Shunt inductor reactance(p.u)\n",
      "x_C = 1.0      #Shunt capacitor reactance(p.u)\n",
      "\n",
      "#Calculation\n",
      "#Case(a)\n",
      "Z_1_a = x_d+x_T1+(x_l1/2.0)              #Reactance(p.u)\n",
      "Z_2_a = x_T2+x_d                         #Reactance(p.u)\n",
      "Z_3_a = x_L                              #Reactance(p.u)\n",
      "Z_a = Z_1_a+Z_2_a+(Z_1_a*Z_2_a/Z_3_a)    #Transfer reactance(p.u)\n",
      "P_max_1 = E_1*E_2/Z_a                    #Maximum power transfer if shunt inductor is connected at bus 2(p.u)\n",
      "#Case(b)\n",
      "Z_1_b = x_d+x_T1+(x_l1/2.0)              #Reactance(p.u)\n",
      "Z_2_b = x_T2+x_d                         #Reactance(p.u)\n",
      "Z_3_b = -x_C                             #Reactance(p.u)\n",
      "Z_b = Z_1_b+Z_2_b+(Z_1_b*Z_2_b/Z_3_b)    #Transfer reactance(p.u)\n",
      "P_max_2 = E_1*E_2/Z_b                    #Maximum power transfer if shunt capacitor is connected at bus 2(p.u)\n",
      "\n",
      "#Result\n",
      "print('Case(a): Maximum power transfer if shunt inductor is connected at bus 2, P_max1 = %.3f p.u' %P_max_1)\n",
      "print('Case(b): Maximum power transfer if shunt capacitor is connected at bus 2, P_max2 = %.2f p.u' %P_max_2)"
     ],
     "language": "python",
     "metadata": {},
     "outputs": [
      {
       "output_type": "stream",
       "stream": "stdout",
       "text": [
        "Case(a): Maximum power transfer if shunt inductor is connected at bus 2, P_max1 = 0.253 p.u\n",
        "Case(b): Maximum power transfer if shunt capacitor is connected at bus 2, P_max2 = 1.45 p.u\n"
       ]
      }
     ],
     "prompt_number": 1
    },
    {
     "cell_type": "heading",
     "level": 2,
     "metadata": {},
     "source": [
      "Example 2.10.4, Page number 271"
     ]
    },
    {
     "cell_type": "code",
     "collapsed": false,
     "input": [
      "import math\n",
      "\n",
      "#Variable declaration\n",
      "V = 400.0          #Voltage(kV)\n",
      "L = 220.0          #Line length(km)\n",
      "P = 0.58           #Initial real power transfer(p.u)\n",
      "PF = 0.85          #Lagging power factor\n",
      "V_L = 1.00         #Load bus voltage(p.u)\n",
      "x_d = 0.460        #Reactance(p.u)\n",
      "x_T1 = 0.200       #Reactance(p.u)\n",
      "x_T2 = 0.15        #Reactance(p.u)\n",
      "x_line = 0.7       #Reactance(p.u)\n",
      "\n",
      "#Calculation\n",
      "x = x_d+x_T1+x_T2+(x_line/2)                  #Net reactance(p.u)\n",
      "phi = math.acos(PF)*180/math.pi               #\u03a6(\u00b0)\n",
      "Q = P*math.tan(phi*math.pi/180)               #Reactive power(p.u)\n",
      "E = ((V_L+(Q*x/V_L))**2+(P*x/V_L)**2)**0.5    #Excitation voltage of generator(p.u)\n",
      "P_max = E*V_L/x                               #Maximum power transfer(p.u)\n",
      "M = (P_max-P)/P_max*100                       #Steady state stability margin(%)\n",
      "\n",
      "#Result\n",
      "print('Maximum power transfer, P_max = %.2f p.u' %P_max)\n",
      "print('Stability margin, M = %.f percent' %M)"
     ],
     "language": "python",
     "metadata": {},
     "outputs": [
      {
       "output_type": "stream",
       "stream": "stdout",
       "text": [
        "Maximum power transfer, P_max = 1.35 p.u\n",
        "Stability margin, M = 57 percent\n"
       ]
      }
     ],
     "prompt_number": 1
    },
    {
     "cell_type": "heading",
     "level": 2,
     "metadata": {},
     "source": [
      "Example 2.10.5, Page number 271-272"
     ]
    },
    {
     "cell_type": "code",
     "collapsed": false,
     "input": [
      "import math\n",
      "\n",
      "#Variable declaration\n",
      "V_A = 1.0          #Voltage at bus A(p.u)\n",
      "Z_AB = 1j*0.5      #Impedance(p.u)\n",
      "S_DA = 1.0         #p.u\n",
      "S_DB = 1.0         #p.u\n",
      "V_B = 1.0          #Voltage at bus B(p.u)\n",
      "\n",
      "#Calculation\n",
      "#Case(i) & (ii)\n",
      "X = abs(Z_AB)                                              #Reactance(p.u)\n",
      "sin_delta = 1.0*X/(V_A*V_B)                                #Sin \u03b4\n",
      "delta = math.asin(sin_delta)*180/math.pi                   #\u03b4(\u00b0)\n",
      "V_2 = V_B\n",
      "V_1 = V_A\n",
      "Q_gB = (V_2**2/X)-(V_2*V_1*math.cos(delta*math.pi/180)/X)\n",
      "#Case(iii)\n",
      "V_2_3 = 1/2.0**0.5                                         #Solving quadratic equation from textbook\n",
      "delta_3 = math.acos(V_2_3)*180/math.pi                     #\u03b4(\u00b0)\n",
      "\n",
      "#Result\n",
      "print('Case(i)  : Q_gB = %.3f' %Q_gB)\n",
      "print('Case(ii) : Phase angle of V_B, \u03b4 = %.f\u00b0 ' %delta)\n",
      "print('Case(iii): If Q_gB is equal to zero then amount of power transmitted is, V_2 = %.3f\u2220%.f\u00b0 ' %(V_2_3,delta_3))"
     ],
     "language": "python",
     "metadata": {},
     "outputs": [
      {
       "output_type": "stream",
       "stream": "stdout",
       "text": [
        "Case(i)  : Q_gB = 0.268\n",
        "Case(ii) : Phase angle of V_B, \u03b4 = 30\u00b0 \n",
        "Case(iii): If Q_gB is equal to zero then amount of power transmitted is, V_2 = 0.707\u222045\u00b0 \n"
       ]
      }
     ],
     "prompt_number": 1
    },
    {
     "cell_type": "heading",
     "level": 2,
     "metadata": {},
     "source": [
      "Example 2.10.6, Page number 272"
     ]
    },
    {
     "cell_type": "code",
     "collapsed": false,
     "input": [
      "import math\n",
      "import cmath\n",
      "\n",
      "#Variable declaration\n",
      "A = 0.98*cmath.exp(1j*0.3*math.pi/180)       #Constant\n",
      "B = 82.5*cmath.exp(1j*76.0*math.pi/180)      #Constant(ohm)\n",
      "C = 0.0005*cmath.exp(1j*90.0*math.pi/180)    #Constant(mho)\n",
      "D = A                                        #Constant\n",
      "V_S = 110.0                                  #Sending end voltage(kV)\n",
      "V_R = 110.0                                  #Receiving end voltage(kV)\n",
      "\n",
      "#Calculation\n",
      "alpha = cmath.phase(A)*180/math.pi                                                  #\u03b1(\u00b0)\n",
      "beta = cmath.phase(B)*180/math.pi                                                   #\u03b2(\u00b0)\n",
      "P_max = (V_S*V_R/abs(B))-(abs(A)*V_R**2/abs(B)*math.cos((beta-alpha)*math.pi/180))  #Maximum power transfer(MW)\n",
      "B_new = abs(B)*math.sin(beta*math.pi/180)                                           #Constant(ohm)\n",
      "beta_new = 90.0                                                                     #\u03b2(\u00b0)\n",
      "P_max_new = (V_S*V_R/B_new)-(V_R**2/B_new*math.cos(beta_new*math.pi/180))           #Maximum power transfer(MW)\n",
      "\n",
      "#Result\n",
      "print('Steady state stability limit, P_max = %.1f MW' %P_max)\n",
      "print('Steady state stability limit if shunt admittance is zero & series resistance neglected, P_max = %.2f MW' %P_max_new)\n",
      "print('\\nNOTE: Changes in the obtained answer from that of textbook is due to precision')"
     ],
     "language": "python",
     "metadata": {},
     "outputs": [
      {
       "output_type": "stream",
       "stream": "stdout",
       "text": [
        "Steady state stability limit, P_max = 111.2 MW\n",
        "Steady state stability limit if shunt admittance is zero & series resistance neglected, P_max = 151.16 MW\n",
        "\n",
        "NOTE: Changes in the obtained answer from that of textbook is due to precision\n"
       ]
      }
     ],
     "prompt_number": 1
    },
    {
     "cell_type": "heading",
     "level": 2,
     "metadata": {},
     "source": [
      "Example 2.10.8, Page number 273-275"
     ]
    },
    {
     "cell_type": "code",
     "collapsed": false,
     "input": [
      "import math\n",
      "%matplotlib inline\n",
      "from matplotlib.pyplot import plot,title,xlabel,ylabel,text,axis,grid,show\n",
      "\n",
      "#Variable declaration\n",
      "V = 33.0*10**3        #Line voltage(V)\n",
      "R = 6.0               #Resistance per phase(ohm)\n",
      "X = 15.0              #Reactance per phase(ohm)\n",
      "\n",
      "#Calculation\n",
      "V_S = V/3**0.5                                                              #Sending end phase voltage(V)\n",
      "V_R = V/3**0.5                                                              #Receiving end phase voltage(V)\n",
      "beta = math.atan(X/R)*180/math.pi                                           #\u03b2(\u00b0)\n",
      "Z = (R**2+X**2)**0.5                                                        #Impedance(ohm)\n",
      "delta_0 = 0.0                                                               #\u03b4(\u00b0)\n",
      "P_0 = (V_R/Z**2)*(V_S*Z*math.cos((delta_0-beta)*math.pi/180)-V_R*R)/10**6   #Power received(MW/phase)\n",
      "delta_1 = 30.0                                                              #\u03b4(\u00b0)\n",
      "P_1 = (V_R/Z**2)*(V_S*Z*math.cos((delta_1-beta)*math.pi/180)-V_R*R)/10**6   #Power received(MW/phase)\n",
      "delta_2 = 60.0                                                              #\u03b4(\u00b0)\n",
      "P_2 = (V_R/Z**2)*(V_S*Z*math.cos((delta_2-beta)*math.pi/180)-V_R*R)/10**6   #Power received(MW/phase)\n",
      "delta_3 = beta                                                              #\u03b4(\u00b0)\n",
      "P_3 = (V_R/Z**2)*(V_S*Z*math.cos((delta_3-beta)*math.pi/180)-V_R*R)/10**6   #Power received(MW/phase)\n",
      "delta_4 = 90.0                                                              #\u03b4(\u00b0)\n",
      "P_4 = (V_R/Z**2)*(V_S*Z*math.cos((delta_4-beta)*math.pi/180)-V_R*R)/10**6   #Power received(MW/phase)\n",
      "delta_5 = 120.0                                                             #\u03b4(\u00b0)\n",
      "P_5 = (V_R/Z**2)*(V_S*Z*math.cos((delta_5-beta)*math.pi/180)-V_R*R)/10**6   #Power received(MW/phase)\n",
      "delta_6 = (math.acos(R/Z)*180/math.pi)+beta                                 #\u03b4(\u00b0)\n",
      "P_6 = (V_R/Z**2)*(V_S*Z*math.cos((delta_6-beta)*math.pi/180)-V_R*R)/10**6   #Power received(MW/phase)\n",
      "plot(\n",
      "          [delta_0,delta_1,delta_2,delta_3,delta_4,delta_5,delta_6],\n",
      "          [P_0,P_1,P_2,P_3,P_4,P_5,P_6],\n",
      "          marker='o',color='b'\n",
      "          )\n",
      "text(70,14.12,'P_max = 14.12 MW/phase(app.)',color='b')\n",
      "axis([0,150,0,16])\n",
      "title('Plot of Power angle diagram')\n",
      "xlabel('Electrical degree')\n",
      "ylabel('Power in MW/phase')\n",
      "grid()\n",
      "show()\n",
      "P_max = V_R/Z**2*(V_S*Z-V_R*R)/10**6                                                  #Maximum power transmitted(MW/phase)\n",
      "delta_equal = 0.0                                                                     #\u03b4 With no phase shift(\u00b0)\n",
      "P_no_shift = (V_R/Z**2)*(V_S*Z*math.cos((delta_equal-beta)*math.pi/180)-V_R*R)/10**6  #Power transmitted with no phase shift(MW/phase)\n",
      "\n",
      "#Result\n",
      "print('Maximum power the line is capable of transmitting, P_max = %.2f MW/phase' %P_max)\n",
      "print('With equal voltage at both ends power transmitted = %.f MW/phase' %abs(P_no_shift))"
     ],
     "language": "python",
     "metadata": {},
     "outputs": [
      {
       "metadata": {},
       "output_type": "display_data",
       "png": "[encoded data removed]",
       "text": [
        "<matplotlib.figure.Figure at 0x7795748>"
       ]
      },
      {
       "output_type": "stream",
       "stream": "stdout",
       "text": [
        "Maximum power the line is capable of transmitting, P_max = 14.12 MW/phase\n",
        "With equal voltage at both ends power transmitted = 0 MW/phase\n"
       ]
      }
     ],
     "prompt_number": 1
    },
    {
     "cell_type": "heading",
     "level": 2,
     "metadata": {},
     "source": [
      "Example 2.10.9, Page number 275"
     ]
    },
    {
     "cell_type": "code",
     "collapsed": false,
     "input": [
      "#Variable declaration\n",
      "V = 132.0*10**3              #Sending end voltage(V)\n",
      "Z_line = complex(4,6)        #Line impedance per phase(ohm)\n",
      "\n",
      "#Calculation\n",
      "V_S = V/3**0.5                                         #Sending end phase voltage(V)\n",
      "V_R = V/3**0.5                                         #Receiving end phase voltage(V)\n",
      "Z = abs(Z_line)                                        #Impedance(ohm)\n",
      "R = Z_line.real                                        #Resistance per phase(ohm)\n",
      "P_max_phase = ((V_S*V_R/Z)-(R*V_R**2/Z**2))/10**6      #Maximum steady state power that can be transmitted over the line(MW/phase)\n",
      "P_max_total = 3.0*P_max_phase                          #Maximum steady state power that can be transmitted over the line(MW)\n",
      "\n",
      "#Result\n",
      "print('Maximum steady state power that can be transmitted over the line, P_max = %.f MW (total)' %P_max_total)"
     ],
     "language": "python",
     "metadata": {},
     "outputs": [
      {
       "output_type": "stream",
       "stream": "stdout",
       "text": [
        "Maximum steady state power that can be transmitted over the line, P_max = 1076 MW (total)\n"
       ]
      }
     ],
     "prompt_number": 1
    },
    {
     "cell_type": "heading",
     "level": 2,
     "metadata": {},
     "source": [
      "Example 2.10.10, Page number 275-276"
     ]
    },
    {
     "cell_type": "code",
     "collapsed": false,
     "input": [
      "import math\n",
      "\n",
      "#Variable declaration\n",
      "E_1 = 1.1      #Sending end voltage(p.u)\n",
      "x_d1 = 1.0     #Reactance(p.u)\n",
      "x_T1 = 0.1     #Reactance(p.u)\n",
      "x_l1 = 0.4     #Reactance(p.u)\n",
      "x_l2 = 0.4     #Reactance(p.u)\n",
      "x_T2 = 0.1     #Reactance(p.u)\n",
      "E_2 = 1.0      #Receiving end voltage(p.u)\n",
      "x_d2 = 1.0     #Reactance(p.u)\n",
      "x_L = 1.0      #Shunt inductor reactance(p.u)\n",
      "x_C = 1.0      #Static capacitor reactance(p.u)\n",
      "delta = 30.0   #\u03b4(\u00b0)\n",
      "\n",
      "#Calculation\n",
      "#Case(a)\n",
      "Z_1_a = x_d1+x_T1+(x_l1/2.0)                                           #Reactance(p.u)\n",
      "X_1_a = 1j*Z_1_a\n",
      "Z_2_a = x_T2+x_d2                                                      #Reactance(p.u)\n",
      "X_2_a = 1j*Z_2_a\n",
      "Z_3_a = -x_C                                                           #Reactance(p.u)\n",
      "X_3_a = 1j*Z_3_a\n",
      "X_a = X_1_a+X_2_a+(X_1_a*X_2_a/X_3_a)                                  #Transfer reactance(p.u)\n",
      "P_max_a = E_1*E_2/abs(X_a)                   #Maximum steady state power if static capacitor is connected(p.u)\n",
      "P_a = P_max_a*math.sin(delta*math.pi/180)                               #Value of P(p.u)\n",
      "Q_a = (E_1*E_2/abs(X_a))*math.cos(delta*math.pi/180)-(E_2**2/abs(X_a))  #Value of Q(p.u)\n",
      "#Case(b)\n",
      "Z_1_b = x_d1+x_T1+(x_l1/2.0)                                            #Reactance(p.u)\n",
      "X_1_b = 1j*Z_1_b\n",
      "Z_2_b = x_T2+x_d2                                                       #Reactance(p.u)\n",
      "X_2_b = 1j*Z_2_b\n",
      "Z_3_b = x_L                                                             #Reactance(p.u)\n",
      "X_3_b = 1j*Z_3_b\n",
      "X_b = X_1_b+X_2_b+(X_1_b*X_2_b/X_3_b)                                   #Transfer reactance(p.u)\n",
      "P_max_b = E_1*E_2/abs(X_b)                   #Maximum steady state power if static capacitor is replaced by an inductive reactor(p.u)\n",
      "P_b = P_max_b*math.sin(delta*math.pi/180)                               #Value of P(p.u)\n",
      "Q_b = (E_1*E_2/abs(X_b))*math.cos(delta*math.pi/180)-(E_2**2/abs(X_b))  #Value of Q(p.u)\n",
      "\n",
      "#Result\n",
      "print('Case(a): Maximum steady state power if static capacitor is connected, P_max = %.3f p.u' %P_max_a)\n",
      "print('         Value of P = %.3f p.u' %P_a)\n",
      "print('         Value of Q = %.3f p.u' %Q_a)\n",
      "print('Case(b): Maximum steady state power if static capacitor is replaced by an inductive reactor, P_max = %.3f p.u' %P_max_b)\n",
      "print('         Value of P = %.3f p.u' %P_b)\n",
      "print('         Value of Q = %.4f p.u' %Q_b)"
     ],
     "language": "python",
     "metadata": {},
     "outputs": [
      {
       "output_type": "stream",
       "stream": "stdout",
       "text": [
        "Case(a): Maximum steady state power if static capacitor is connected, P_max = 1.134 p.u\n",
        "         Value of P = 0.567 p.u\n",
        "         Value of Q = -0.049 p.u\n",
        "Case(b): Maximum steady state power if static capacitor is replaced by an inductive reactor, P_max = 0.287 p.u\n",
        "         Value of P = 0.144 p.u\n",
        "         Value of Q = -0.0124 p.u\n"
       ]
      }
     ],
     "prompt_number": 1
    },
    {
     "cell_type": "heading",
     "level": 2,
     "metadata": {},
     "source": [
      "Example 2.10.11, Page number 303"
     ]
    },
    {
     "cell_type": "code",
     "collapsed": false,
     "input": [
      "#Variable declaration\n",
      "f = 50.0        #Frequency(Hz)\n",
      "G = 100.0       #Rating of generator(MVA)\n",
      "H = 5.0         #Inertia constant(MJ/MVA)\n",
      "P_a = 20.0      #Acceleration power(MVA)\n",
      "\n",
      "#Calculation\n",
      "GH = G*H                #Energy stored in rotor at synchronous speed(MJ)\n",
      "M = GH/(180*f)          #Angular momentum\n",
      "acceleration = P_a/M    #Acceleration(\u00b0/sec^2)\n",
      "\n",
      "#Result\n",
      "print('Kinetic energy stored in the rotor at synchronous speed, GH = %.f MJ' %GH)\n",
      "print('Acceleration = %.f\u00b0/sec^2' %acceleration)"
     ],
     "language": "python",
     "metadata": {},
     "outputs": [
      {
       "output_type": "stream",
       "stream": "stdout",
       "text": [
        "Kinetic energy stored in the rotor at synchronous speed, GH = 500 MJ\n",
        "Acceleration = 360\u00b0/sec^2\n"
       ]
      }
     ],
     "prompt_number": 1
    },
    {
     "cell_type": "heading",
     "level": 2,
     "metadata": {},
     "source": [
      "Example 2.10.12, Page number 303-304"
     ]
    },
    {
     "cell_type": "code",
     "collapsed": false,
     "input": [
      "import math\n",
      "\n",
      "#Variable declaration\n",
      "f = 50.0          #Frequency(Hz)\n",
      "P = 4.0           #Number of poles\n",
      "G = 20.0          #Rating of generator(MVA)\n",
      "H = 9.0           #Inertia constant(kWsec/MVA)\n",
      "P_m = 26800.0     #Rotational loss(hp)\n",
      "P_e = 16000.0     #Electric power developed(kW)\n",
      "\n",
      "#Calculation\n",
      "GH = G*H                                       #Energy stored in rotor at synchronous speed(MJ)\n",
      "P_m_kW = P_m*0.746                             #Rotational loss(kW)\n",
      "P_a = P_m_kW-P_e                               #Acceleration power(kW)\n",
      "P_a1 = P_a/1000.0                              #Acceleration power(MW)\n",
      "M = GH/(180*f)                                 #Angular momentum\n",
      "acceleration = P_a1/M                          #Acceleration(\u00b0/sec^2)\n",
      "acceleration_1 = acceleration*math.pi/180.0    #Acceleration(rad/sec^2)\n",
      "\n",
      "#Result\n",
      "print('Kinetic energy stored in the rotor at synchronous speed, GH = %.f MJ' %GH)\n",
      "print('Acceleration = %.f\u00b0/sec^2 = %.2f rad/sec^2' %(acceleration,acceleration_1))\n",
      "print('\\nNOTE: ERROR: H = 9 kW-sec/MVA, not 9 kW-sec/kVA as mentioned in the textbook statement')"
     ],
     "language": "python",
     "metadata": {},
     "outputs": [
      {
       "output_type": "stream",
       "stream": "stdout",
       "text": [
        "Kinetic energy stored in the rotor at synchronous speed, GH = 180 MJ\n",
        "Acceleration = 200\u00b0/sec^2 = 3.48 rad/sec^2\n",
        "\n",
        "NOTE: ERROR: H = 9 kW-sec/MVA, not 9 kW-sec/kVA as mentioned in the textbook statement\n"
       ]
      }
     ],
     "prompt_number": 1
    },
    {
     "cell_type": "heading",
     "level": 2,
     "metadata": {},
     "source": [
      "Example 2.10.13, Page number 304"
     ]
    },
    {
     "cell_type": "code",
     "collapsed": false,
     "input": [
      "import math\n",
      "\n",
      "#Variable declaration\n",
      "f = 50.0           #Frequency(Hz)\n",
      "P = 4.0            #Number of poles\n",
      "alpha = 200.0      #Acceleration(\u00b0/sec^2)\n",
      "alpha_rad = 3.49   #Acceleration(rad/sec^2)\n",
      "n = 10.0           #Number of cycle\n",
      "\n",
      "#Calculation\n",
      "t = 1/f*n                                #Time(sec)\n",
      "delta_rel = ((alpha_rad*2)**0.5*0.5)**2  #Relation of change in rotor angle with time(rad)\n",
      "delta = delta_rel*t**2                   #Change in torque angle(rad)\n",
      "delta_deg = delta*180/math.pi            #Change in torque angle in that period(\u00b0)\n",
      "rpm_rad = (alpha_rad*2*delta)**0.5       #r.p.m(rad/sec)\n",
      "rpm = rpm_rad*60.0/(math.pi*P)           #r.p.m\n",
      "speed_rotor = (120*f/P)+rpm              #Rotor speed at the end of 10 cycles(r.p.m)\n",
      "\n",
      "#Result\n",
      "print('Change in torque angle in that period, \u03b4 = %.4f rad = %.f elect degree' %(delta,delta_deg))\n",
      "print('Rotor speed at the end of 10 cycles = %.2f r.p.m' %speed_rotor)"
     ],
     "language": "python",
     "metadata": {},
     "outputs": [
      {
       "output_type": "stream",
       "stream": "stdout",
       "text": [
        "Change in torque angle in that period, \u03b4 = 0.0698 rad = 4 elect degree\n",
        "Rotor speed at the end of 10 cycles = 1503.33 r.p.m\n"
       ]
      }
     ],
     "prompt_number": 1
    },
    {
     "cell_type": "heading",
     "level": 2,
     "metadata": {},
     "source": [
      "Example 2.10.14, Page number 304"
     ]
    },
    {
     "cell_type": "code",
     "collapsed": false,
     "input": [
      "import math\n",
      "\n",
      "#Variable declaration\n",
      "Power = 20.0*10**3       #Rating of generator(kVA)\n",
      "PF = 0.8                 #Lagging power factor\n",
      "fault = 0.5              #Reduction in output under fault\n",
      "P = 4.0                  #Number of poles\n",
      "f = 50.0                 #Frequency(Hz)\n",
      "\n",
      "#Calculation\n",
      "P_m = Power*PF           #Output power before fault(kW)\n",
      "P_e = fault*P_m          #Output after fault(kW)\n",
      "P_a = P_m-P_e            #Accelerating power(kW)\n",
      "w_s = 4.0*math.pi*f/P    #Speed\n",
      "T_a = P_a*10**3/w_s      #Accelerating torque at the time the fault occurs(N-m)\n",
      "\n",
      "#Result\n",
      "print('Accelerating torque at the time the fault occurs, T_a = %.2f N-m' %T_a)"
     ],
     "language": "python",
     "metadata": {},
     "outputs": [
      {
       "output_type": "stream",
       "stream": "stdout",
       "text": [
        "Accelerating torque at the time the fault occurs, T_a = 50929.58 N-m\n"
       ]
      }
     ],
     "prompt_number": 1
    },
    {
     "cell_type": "heading",
     "level": 2,
     "metadata": {},
     "source": [
      "Example 2.10.16, Page number 304-305"
     ]
    },
    {
     "cell_type": "code",
     "collapsed": false,
     "input": [
      "#Variable declaration\n",
      "S = 1000.0          #Rating of generator(MVA)\n",
      "N = 1500.0          #Speed of alternator(r.p.m)\n",
      "WR_sq = 5.0*10**6   #WR^2(lb.ft^2)\n",
      "\n",
      "#Calculation\n",
      "H = 2.31*10**-10*WR_sq*N**2/S      #Inertia constant(MJ/MVA)\n",
      "H_100 = H*1000.0/100               #Inertia constant on 100 MVA(MJ/MVA)\n",
      "\n",
      "#Result\n",
      "print('Value of inertia constant, H = %.1f MJ/MVA' %H)\n",
      "print('Value of inertia constant in 100 MVA base, H = %.f MJ/MVA' %H_100)"
     ],
     "language": "python",
     "metadata": {},
     "outputs": [
      {
       "output_type": "stream",
       "stream": "stdout",
       "text": [
        "Value of inertia constant, H = 2.6 MJ/MVA\n",
        "Value of inertia constant in 100 MVA base, H = 26 MJ/MVA\n"
       ]
      }
     ],
     "prompt_number": 1
    },
    {
     "cell_type": "heading",
     "level": 2,
     "metadata": {},
     "source": [
      "Example 2.10.17, Page number 305"
     ]
    },
    {
     "cell_type": "code",
     "collapsed": false,
     "input": [
      "#Variable declaration\n",
      "MVA_1 = 500.0        #Rating of generator(MVA)\n",
      "H_1 = 4.0            #Inertia constant(MJ/VA)\n",
      "MVA_2 = 1000.0       #Rating of generator(MVA)\n",
      "H_2 = 3.5            #Inertia constant(MJ/VA)\n",
      "MVA = 100.0          #Base MVA\n",
      "\n",
      "#Calculation\n",
      "KE_T = H_1*MVA_1+H_2*MVA_2     #Total KE of the system(MJ)\n",
      "H_total = KE_T/MVA             #Equivalent H for the two to common 100MVA base(MJ/MVA)\n",
      "\n",
      "#Result\n",
      "print('Equivalent H for the two to common 100 MVA base, H = %.f MJ/MVA' %H_total)"
     ],
     "language": "python",
     "metadata": {},
     "outputs": [
      {
       "output_type": "stream",
       "stream": "stdout",
       "text": [
        "Equivalent H for the two to common 100 MVA base, H = 55 MJ/MVA\n"
       ]
      }
     ],
     "prompt_number": 1
    },
    {
     "cell_type": "heading",
     "level": 2,
     "metadata": {},
     "source": [
      "Example 2.10.18, Page number 305"
     ]
    },
    {
     "cell_type": "code",
     "collapsed": false,
     "input": [
      "import math\n",
      "\n",
      "#Variable declaration\n",
      "MVA = 210.0           #Rating of generator(MVA)\n",
      "P = 2.0               #Number of poles\n",
      "f = 50.0              #Frequency(Hz)\n",
      "MI = 60.0*10**3       #Moment of inertia(kg-mt^2)\n",
      "\n",
      "#Calculation\n",
      "N = 120.0*f/P                            #Speed(r.p.m)\n",
      "KE = 1.0/2*MI*(2*math.pi*N/f)**2/10**6   #Energy stored in the rotor at rated speed(MJ)\n",
      "H = KE/MVA                               #Inertia constant(MJ/MVA)\n",
      "G = MVA\n",
      "M = G*H/(180*f)                          #Angular momentum(MJ-sec/elect.degree)\n",
      "\n",
      "#Result\n",
      "print('Energy stored in the rotor at the rated speed, KE = %.2e MJ' %KE)\n",
      "print('Value of inertia constant, H = %.2f MJ/MVA' %H)\n",
      "print('Angular momentum, M = %.3f MJ-sec/elect.degree' %M)"
     ],
     "language": "python",
     "metadata": {},
     "outputs": [
      {
       "output_type": "stream",
       "stream": "stdout",
       "text": [
        "Energy stored in the rotor at the rated speed, KE = 4.26e+03 MJ\n",
        "Value of inertia constant, H = 20.30 MJ/MVA\n",
        "Angular momentum, M = 0.474 MJ-sec/elect.degree\n"
       ]
      }
     ],
     "prompt_number": 1
    },
    {
     "cell_type": "heading",
     "level": 2,
     "metadata": {},
     "source": [
      "Example 2.10.19, Page number 305"
     ]
    },
    {
     "cell_type": "code",
     "collapsed": false,
     "input": [
      "#Variable declaration\n",
      "P_accl = 30.0         #Acceleration power(MVA)\n",
      "M = 0.474             #Angular momentum(MJ-sec/elect.degree). From Example 10.18\n",
      "\n",
      "#Calculation\n",
      "acceleration = P_accl/M      #Acceleration of the rotor(elect.degree/sec^2)\n",
      "\n",
      "#Result\n",
      "print('Acceleration of the rotor = %.2f elect.degree/sec^2' %acceleration)"
     ],
     "language": "python",
     "metadata": {},
     "outputs": [
      {
       "output_type": "stream",
       "stream": "stdout",
       "text": [
        "Acceleration of the rotor = 63.29 elect.degree/sec^2\n"
       ]
      }
     ],
     "prompt_number": 1
    },
    {
     "cell_type": "heading",
     "level": 2,
     "metadata": {},
     "source": [
      "Example 2.10.20, Page number 305"
     ]
    },
    {
     "cell_type": "code",
     "collapsed": false,
     "input": [
      "import math\n",
      "\n",
      "#Variable declaration\n",
      "MVA = 50.0           #Rating of alternator(MVA)\n",
      "P = 4.0              #Number of poles\n",
      "f = 50.0             #Frequency(Hz)\n",
      "KE = 150.0           #Kinetic energy stored in rotor(MJ)\n",
      "P_m = 25.0           #Machine input(MW)\n",
      "P_e = 22.5           #Developed power(MW)\n",
      "n = 10.0             #Number of cycles\n",
      "\n",
      "#Calculation\n",
      "P_a = P_m-P_e            #Accelerating power(MW)\n",
      "H = KE/MVA               #Inertia constant(MJ/MVA)\n",
      "G = MVA\n",
      "M_deg = G*H/(180*f)      #Angular momentum(MJ-sec/elect.degree)\n",
      "M = G*H/(math.pi*f)      #Angular momentum(MJ-sec/rad)\n",
      "acceleration = P_a/M     #Accelerating power(rad/sec^2)\n",
      "t = 1/f*n                #Time(sec)\n",
      "delta = 1.309*t**2       #Term in \u03b4\n",
      "\n",
      "#Result\n",
      "print('Accelerating power = %.3f rad/sec^2' %acceleration)\n",
      "print('New power angle after 10 cycles, \u03b4 = (%.3f + \u03b4_0) rad' %delta)"
     ],
     "language": "python",
     "metadata": {},
     "outputs": [
      {
       "output_type": "stream",
       "stream": "stdout",
       "text": [
        "Accelerating power = 2.618 rad/sec^2\n",
        "New power angle after 10 cycles, \u03b4 = (0.052 + \u03b4_0) rad\n"
       ]
      }
     ],
     "prompt_number": 1
    },
    {
     "cell_type": "heading",
     "level": 2,
     "metadata": {},
     "source": [
      "Example 2.10.21, Page number 305-306"
     ]
    },
    {
     "cell_type": "code",
     "collapsed": false,
     "input": [
      "#Variable declaration\n",
      "f = 50.0        #Frequency(Hz)\n",
      "P = 4.0         #Number of poles\n",
      "G = 20.0        #Rating of turbo-generator(MVA)\n",
      "V = 13.2        #Voltage(kV)\n",
      "H = 9.0         #Inertia constant(kW-sec/kVA)\n",
      "P_s = 20.0      #Input power less rotational loss(MW)\n",
      "P_e = 15.0      #Output power(MW)\n",
      "\n",
      "#Calculation\n",
      "KE = G*H                         #Kinetic energy stored(MJ)\n",
      "M = G*H/(180*f)                  #Angular momentum(MJ-sec/elect.degree)\n",
      "P_a = P_s-P_e                    #Accelerating power(MW)\n",
      "alpha = P_a/M                    #Acceleration(elect.degree/sec^2)\n",
      "alpha_deg = alpha/2.0            #Acceleration(degree/sec^2)\n",
      "alpha_rpm = 60.0*alpha_deg/360   #Acceleration(rpm/sec)\n",
      "\n",
      "#Result\n",
      "print('Case(a): Kinetic energy stored by rotor at synchronous speed, GH = %.f MJ' %KE)\n",
      "print('Case(b): Acceleration, \u03b1 = %.f degree/sec^2' %alpha_deg)\n",
      "print('         Acceleration, \u03b1 = %.2f rpm/sec' %alpha_rpm)"
     ],
     "language": "python",
     "metadata": {},
     "outputs": [
      {
       "output_type": "stream",
       "stream": "stdout",
       "text": [
        "Case(a): Kinetic energy stored by rotor at synchronous speed, GH = 180 MJ\n",
        "Case(b): Acceleration, \u03b1 = 125 degree/sec^2\n",
        "         Acceleration, \u03b1 = 20.83 rpm/sec\n"
       ]
      }
     ],
     "prompt_number": 1
    },
    {
     "cell_type": "heading",
     "level": 2,
     "metadata": {},
     "source": [
      "Example 2.10.22, Page number 306"
     ]
    },
    {
     "cell_type": "code",
     "collapsed": false,
     "input": [
      "#Variable declaration\n",
      "f = 50.0        #Frequency(Hz)\n",
      "P = 4.0         #Number of poles\n",
      "G = 20.0        #Rating of turbo-generator(MVA)\n",
      "V = 13.2        #Voltage(kV)\n",
      "H = 9.0         #Inertia constant(kW-sec/kVA)\n",
      "P_s = 20.0      #Input power less rotational loss(MW)\n",
      "P_e = 15.0      #Output power(MW)\n",
      "n = 10.0        #Number of cycles\n",
      "\n",
      "#Calculation\n",
      "KE = G*H                         #Kinetic energy stored(MJ)\n",
      "M = G*H/(180*f)                  #Angular momentum(MJ-sec/elect.degree)\n",
      "P_a = P_s-P_e                    #Accelerating power(MW)\n",
      "alpha = P_a/M                    #Acceleration(elect.degree/sec^2)\n",
      "alpha_deg = alpha/2.0            #Acceleration(degree/sec^2)\n",
      "alpha_rpm = 60.0*alpha_deg/360   #Acceleration(rpm/sec)\n",
      "t = 1.0/f*n                      #Time(sec)\n",
      "delta = 1.0/2*alpha*t**2         #Change in torque angle(elect.degree)\n",
      "N_s = 120*f/P                    #Synchronous speed(rpm)\n",
      "speed = N_s+alpha_rpm*t          #Speed at the end of 10 cycles(rpm)\n",
      "\n",
      "#Result\n",
      "print('Change in torque angle in that period, \u03b4 = %.f elect degrees.' %delta)\n",
      "print('Speed in rpm at the end of 10 cycles = %.2f rpm' %speed)"
     ],
     "language": "python",
     "metadata": {},
     "outputs": [
      {
       "output_type": "stream",
       "stream": "stdout",
       "text": [
        "Change in torque angle in that period, \u03b4 = 5 elect degrees.\n",
        "Speed in rpm at the end of 10 cycles = 1504.17 rpm\n"
       ]
      }
     ],
     "prompt_number": 1
    },
    {
     "cell_type": "heading",
     "level": 2,
     "metadata": {},
     "source": [
      "Example 2.10.23, Page number 306"
     ]
    },
    {
     "cell_type": "code",
     "collapsed": false,
     "input": [
      "import math\n",
      "\n",
      "#Variable declaration\n",
      "G = 20.0        #Rating of turbo-generator(MVA)\n",
      "PF = 0.75       #Lagging power factor\n",
      "fault = 0.5     #Fault reduces output power\n",
      "N_s = 1500.0    #Synchronous speed(rpm). From Example 10.22\n",
      "\n",
      "#Calculation\n",
      "P_prefault = PF*G         #Pre-fault output power(MW)\n",
      "P_a = P_prefault*fault    #Post-fault output power(MW)\n",
      "w = 2.0*math.pi*N_s/60    #\u03c9(rad/sec)\n",
      "T_a = P_a*10**6/w         #Accelerating torque at the time of fault occurrence(N-m)\n",
      "\n",
      "#Result\n",
      "print('Accelerating torque at the time of fault occurrence, T_a = %.f N-m' %T_a)"
     ],
     "language": "python",
     "metadata": {},
     "outputs": [
      {
       "output_type": "stream",
       "stream": "stdout",
       "text": [
        "Accelerating torque at the time of fault occurrence, T_a = 47746 N-m\n"
       ]
      }
     ],
     "prompt_number": 1
    },
    {
     "cell_type": "heading",
     "level": 2,
     "metadata": {},
     "source": [
      "Example 2.10.24, Page number 306-307"
     ]
    },
    {
     "cell_type": "code",
     "collapsed": false,
     "input": [
      "import math\n",
      "import cmath\n",
      "from sympy import *\n",
      "\n",
      "#Variable declaration\n",
      "x_d = 1j*0.2        #Transient reactance of generator(p.u)\n",
      "P_e = 0.8           #Power delivered(p.u)\n",
      "V_t = 1.05          #Terminal voltage(p.u)\n",
      "H = 4.0             #Inertia constant(kW-sec/kVA)\n",
      "x_t = 1j*0.1        #Transformer reactance(p.u)\n",
      "x_l = 1j*0.4        #Transmission line reactance(p.u)\n",
      "V = 1.0             #Infinite bus voltage(p.u)\n",
      "f = 50.0            #Frequency(Hz)\n",
      "\n",
      "#Calculation\n",
      "x_12 = x_d+x_t+(x_l/2)                                     #Reactance b/w bus 1 & 2(p.u)\n",
      "y_12 = 1/x_12                                              #Admittance b/w bus 1 & 2(p.u)\n",
      "y_21 = y_12                                                #Admittance b/w bus 2 & 1(p.u)\n",
      "y_10 = 0.0                                                 #Admittance b/w bus 1 & 0(p.u)\n",
      "y_20 = 0.0                                                 #Admittance b/w bus 2 & 0(p.u)\n",
      "Y_11 = y_12+y_10                                           #Admittance at bus 1(p.u)\n",
      "Y_12 = -y_12                                               #Admittance b/w bus 1 & 2(p.u)\n",
      "Y_21 = -y_12                                               #Admittance b/w bus 2 & 1(p.u)\n",
      "Y_22 = y_21+y_20                                           #Admittance at bus 2(p.u)\n",
      "x_32 = x_t+(x_l/2)                                         #Reactance b/w bus 3 & 1(p.u)\n",
      "theta_t = math.asin(P_e*abs(x_32)/V_t)*180/math.pi         #Angle(\u00b0)\n",
      "V_t1 = V_t*cmath.exp(1j*theta_t*math.pi/180)               #Terminal voltage(p.u)\n",
      "I = (V_t1-V)/x_32                                          #Current(p.u)\n",
      "E = V_t1+I*x_d                                             #Alternator voltage(p.u)\n",
      "sin = Symbol('sin \u03b4')\n",
      "P_e1 = 2.0*abs(E)*sin                                      #Developed power(p.u)\n",
      "P_m_P_e = P_e-P_e1\n",
      "M = 2*H/(2*math.pi*f)                                      #Angular momentum\n",
      "acc = (P_e-P_e1)*2*math.pi*f/(2*H)                         #Acceleration = \u03b1 (rad/sec^2)\n",
      "\n",
      "#Result\n",
      "print('Swing equation is,  %.4f*\u03b1 = ' %(M) + repr(P_m_P_e))\n",
      "print('\\nNOTE: Swing equation is simplified and represented here')\n",
      "print('      ERROR: x_d = 0.2 p.u, not 0.1 p.u as mentioned in textbook statement')"
     ],
     "language": "python",
     "metadata": {},
     "outputs": [
      {
       "output_type": "stream",
       "stream": "stdout",
       "text": [
        "Swing equation is,  0.0255*\u03b1 = -2.22295398614037*sin \u03b4 + 0.8\n",
        "\n",
        "NOTE: Swing equation is simplified and represented here\n",
        "      ERROR: x_d = 0.2 p.u, not 0.1 p.u as mentioned in textbook statement\n"
       ]
      }
     ],
     "prompt_number": 1
    },
    {
     "cell_type": "heading",
     "level": 2,
     "metadata": {},
     "source": [
      "Example 2.10.26, Page number 308-309"
     ]
    },
    {
     "cell_type": "code",
     "collapsed": false,
     "input": [
      "import math\n",
      "\n",
      "#Variable declaration\n",
      "X_d = 0.25         #Transient reactance of generator(p.u)\n",
      "X_t1 = 0.15        #Reactance of transformer(p.u)\n",
      "X_t2 = 0.15        #Reactance of transformer(p.u)\n",
      "X_t3 = 0.15        #Reactance of transformer(p.u)\n",
      "X_t4 = 0.15        #Reactance of transformer(p.u)\n",
      "X_l1 = 0.20        #Reactance of line(p.u)\n",
      "X_l2 = 0.20        #Reactance of line(p.u)\n",
      "X_tr = 0.15        #Reactance of transformer(p.u)\n",
      "P_m = 1.0          #Power delivered(p.u)\n",
      "E = 1.20           #Voltage behind transient reactance(p.u)\n",
      "V = 1.0            #Infinite bus voltage(p.u)\n",
      "\n",
      "#Calculation\n",
      "X_14 = X_d+((X_t1+X_t2+X_l1)/2)+X_tr                       #Reactance before fault(p.u)\n",
      "x_1_b = X_t1+X_t2+X_l1                                     #Reactance(p.u). From figure (b)\n",
      "x_2_b = X_l2+X_t4                                          #Reactance(p.u). From figure (b)\n",
      "x_1 = x_1_b*X_t3/(x_1_b+x_2_b+X_t3)                        #Reactance(p.u). From figure (c)\n",
      "x_2 = x_1_b*x_2_b/(x_1_b+x_2_b+X_t3)                       #Reactance(p.u). From figure (c)\n",
      "x_3 = X_t3*x_2_b/(x_1_b+x_2_b+X_t3)                        #Reactance(p.u). From figure (c)\n",
      "X_14_fault = x_1+X_d+x_2+X_tr+((x_1+X_d)*(x_2+X_tr)/x_3)   #Reactance under fault(p.u)\n",
      "X_14_after_fault = X_d+X_t1+X_l1+X_t2+X_tr                 #Reactance after fault is cleared(p.u)\n",
      "P_max = V*E/X_14                                           #Maximum power transfer(p.u)\n",
      "gamma_1 = (V*E/X_14_fault)/P_max                           #\u03b3_1\n",
      "gamma_2 = (V*E/X_14_after_fault)/P_max                     #\u03b3_2\n",
      "delta_0 = math.asin(P_m/P_max)                             #\u03b4_0(radians)\n",
      "delta_0_degree = delta_0*180/math.pi                       #\u03b4_0(\u00b0)\n",
      "delta_m = math.pi-math.asin(P_m/(gamma_2*P_max))           #\u03b4_1(radians)\n",
      "delta_m_degree = delta_m*180/math.pi                       #\u03b4_1(\u00b0)\n",
      "delta_c = math.acos((P_m/P_max*(delta_m-delta_0)+gamma_2*math.cos(delta_m)-gamma_1*math.cos(delta_0))/(gamma_2-gamma_1)) #Clearing angle(radians)\n",
      "delta_c_degree = delta_c*180/math.pi                       #Clearing angle(\u00b0)\n",
      "\n",
      "#Result\n",
      "print('Critical clearing angle, \u03b4_c = %.2f\u00b0 ' %delta_c_degree)"
     ],
     "language": "python",
     "metadata": {},
     "outputs": [
      {
       "output_type": "stream",
       "stream": "stdout",
       "text": [
        "Critical clearing angle, \u03b4_c = 58.57\u00b0 \n"
       ]
      }
     ],
     "prompt_number": 1
    },
    {
     "cell_type": "heading",
     "level": 2,
     "metadata": {},
     "source": [
      "Example 2.10.27, Page number 309-310"
     ]
    },
    {
     "cell_type": "code",
     "collapsed": false,
     "input": [
      "import math\n",
      "\n",
      "#Variable declaration\n",
      "f = 50.0               #Frequency(Hz)\n",
      "P_m = 1.0              #Power delivered(p.u)\n",
      "P_max = 1.8            #Maximum power(p.u)\n",
      "gamma_1_P_max = 0.4    #Reduced maximum power after fault(p.u)\n",
      "gamma_2_P_max = 1.30   #Maximum power after fault clearance(p.u)\n",
      "\n",
      "#Calculation\n",
      "delta_0 = math.asin(P_m/P_max)                             #\u03b4_0(radians)\n",
      "delta_0_degree = delta_0*180/math.pi                       #\u03b4_0(\u00b0)\n",
      "delta_f = math.pi-math.asin(P_m/(gamma_2_P_max))           #\u03b4_1(radians)\n",
      "delta_f_degree = delta_f*180/math.pi                       #\u03b4_1(\u00b0)\n",
      "gamma_1 = gamma_1_P_max/P_max                              #\u03b3_1\n",
      "gamma_2 = gamma_2_P_max/P_max                              #\u03b3_2\n",
      "delta_c = math.acos(1.0/(gamma_2-gamma_1)*((delta_f-delta_0)*math.sin(delta_0)+(gamma_2*math.cos(delta_f)-gamma_1*math.cos(delta_0)))) #Clearing angle(radians)\n",
      "delta_c_degree = delta_c*180/math.pi                       #Clearing angle(\u00b0)\n",
      "\n",
      "#Result\n",
      "print('Critical angle, \u03b4_c = %.2f\u00b0 ' %delta_c_degree)"
     ],
     "language": "python",
     "metadata": {},
     "outputs": [
      {
       "output_type": "stream",
       "stream": "stdout",
       "text": [
        "Critical angle, \u03b4_c = 55.35\u00b0 \n"
       ]
      }
     ],
     "prompt_number": 1
    },
    {
     "cell_type": "heading",
     "level": 2,
     "metadata": {},
     "source": [
      "Example 2.10.28, Page number 310"
     ]
    },
    {
     "cell_type": "code",
     "collapsed": false,
     "input": [
      "import math\n",
      "\n",
      "#Variable declaration\n",
      "sin_delta_0 = 0.45     #Supplying percent of peak power capacity before fault\n",
      "x = 4.0                #Reactance under fault increased\n",
      "gamma_2 = 0.7          #Peak power delivered after fault clearance\n",
      "\n",
      "#Calculation\n",
      "delta_0 = math.asin(sin_delta_0)                        #\u03b4_0(radians)\n",
      "delta_0_degree = delta_0*180/math.pi                    #\u03b4_0(\u00b0)\n",
      "gamma_1 = 1.0/x                                         #\u03b3_1\n",
      "delta_m = math.pi-math.asin(sin_delta_0/(gamma_2))      #\u03b4_m(radians)\n",
      "delta_m_degree = delta_m*180/math.pi                    #\u03b4_m(\u00b0)\n",
      "delta_c = math.acos(1.0/(gamma_2-gamma_1)*((delta_m-delta_0)*math.sin(delta_0)+(gamma_2*math.cos(delta_m)-gamma_1*math.cos(delta_0)))) #Clearing angle(radians)\n",
      "delta_c_degree = delta_c*180/math.pi                    #Clearing angle(\u00b0)\n",
      "\n",
      "#Result\n",
      "print('Critical clearing angle, \u03b4_c = %.f\u00b0 ' %delta_c_degree)"
     ],
     "language": "python",
     "metadata": {},
     "outputs": [
      {
       "output_type": "stream",
       "stream": "stdout",
       "text": [
        "Critical clearing angle, \u03b4_c = 73\u00b0 \n"
       ]
      }
     ],
     "prompt_number": 1
    },
    {
     "cell_type": "heading",
     "level": 2,
     "metadata": {},
     "source": [
      "Example 2.10.30, Page number 310-311"
     ]
    },
    {
     "cell_type": "code",
     "collapsed": false,
     "input": [
      "import math\n",
      "\n",
      "#Variable declaration\n",
      "f = 60.0          #Frequency(Hz)\n",
      "P = 6.0           #Number of poles\n",
      "H = 4.0           #Inertia constant(p.u)\n",
      "P_e = 1.0         #Power supplied by generator(p.u)\n",
      "E = 1.2           #Internal voltage(p.u)\n",
      "V = 1.0           #Infinite bus voltage(p.u)\n",
      "X = 0.3           #Line reactance(p.u)\n",
      "del_t = 0.05      #\u0394t = Interval step size(sec)\n",
      "\n",
      "#Calculation\n",
      "P_max = E*V/X                                #Maximum power(p.u)\n",
      "delta_0 = math.asin(P_e/P_max)*180/math.pi   #\u03b4_0(\u00b0)\n",
      "G = P_e\n",
      "M = G*H/(180*f)                              #Angular momentum(p.u)\n",
      "P_a_0 = 1.0/2*(P_e-0)                        #(p.u)\n",
      "alpha_0 = P_a_0/M                            #\u03b1_0(\u00b0/sec^2)\n",
      "del_w_r_1 = alpha_0*del_t                    #\u0394\u03c9_r_1(\u00b0/sec)\n",
      "w_r_1 = 0+del_w_r_1                          #\u03c9_r_1(\u00b0/sec)\n",
      "del_delta_1 = w_r_1*del_t                    #\u0394\u03b4_1(\u00b0)\n",
      "delta_1 = delta_0+del_delta_1                #\u03b4_1(\u00b0)\n",
      "P_a_1 = 1.0*(P_e-0)                          #(p.u)\n",
      "alpha_1 = P_a_1/M                            #\u03b1_1(\u00b0/sec^2)\n",
      "del_w_r_2 = alpha_1*del_t                    #\u0394\u03c9_r_2(\u00b0/sec)\n",
      "w_r_2 = del_w_r_1+del_w_r_2                  #\u03c9_r_2(\u00b0/sec)\n",
      "del_delta_2 = w_r_2*del_t                    #\u0394\u03b4_2(\u00b0)\n",
      "delta_2 = delta_1+del_delta_2                #\u03b4_2(\u00b0)\n",
      "del_w_r_3 = del_w_r_2                        #\u0394\u03c9_r_3(\u00b0/sec)\n",
      "w_r_3 = w_r_2+del_w_r_3                      #\u03c9_r_3(\u00b0/sec)\n",
      "del_delta_3 = w_r_3*del_t                    #\u0394\u03b4_3(\u00b0)\n",
      "delta_3 = delta_2+del_delta_3                #\u03b4_3(\u00b0)\n",
      "del_w_r_4 = del_w_r_2                        #\u0394\u03c9_r_4(\u00b0/sec)\n",
      "w_r_4 = w_r_3+del_w_r_4                      #\u03c9_r_4(\u00b0/sec)\n",
      "del_delta_4 = w_r_4*del_t                    #\u0394\u03b4_4(\u00b0)\n",
      "delta_4 = delta_3+del_delta_4                #\u03b4_4(\u00b0)\n",
      "del_w_r_5 = del_w_r_2                        #\u0394\u03c9_r_5(\u00b0/sec)\n",
      "w_r_5 = w_r_4+del_w_r_5                      #\u03c9_r_5(\u00b0/sec)\n",
      "del_delta_5 = w_r_5*del_t                    #\u0394\u03b4_5(\u00b0)\n",
      "delta_5 = delta_4+del_delta_5                #\u03b4_5(\u00b0)\n",
      "\n",
      "#Result\n",
      "print('Power angle, \u03b4_0 = %.2f\u00b0 ' %delta_0)\n",
      "print('Value of \u03b4 vs t are:')\n",
      "print('_________________________')\n",
      "print('  t(Sec)   :   \u03b4(degree)')\n",
      "print('_________________________')\n",
      "print('   %.1f     :    %.2f\u00b0' %(0,delta_0))\n",
      "print('   %.2f    :    %.2f\u00b0' %((del_t),delta_1))\n",
      "print('   %.2f    :    %.2f\u00b0' %((del_t+del_t),delta_2))\n",
      "print('   %.2f    :    %.2f\u00b0' %((del_t*3),delta_3))\n",
      "print('   %.2f    :    %.2f\u00b0' %((del_t*4),delta_4))\n",
      "print('   %.2f    :    %.2f\u00b0' %((del_t*5),delta_5))"
     ],
     "language": "python",
     "metadata": {},
     "outputs": [
      {
       "output_type": "stream",
       "stream": "stdout",
       "text": [
        "Power angle, \u03b4_0 = 14.48\u00b0 \n",
        "Value of \u03b4 vs t are:\n",
        "_________________________\n",
        "  t(Sec)   :   \u03b4(degree)\n",
        "_________________________\n",
        "   0.0     :    14.48\u00b0\n",
        "   0.05    :    17.85\u00b0\n",
        "   0.10    :    27.98\u00b0\n",
        "   0.15    :    44.85\u00b0\n",
        "   0.20    :    68.48\u00b0\n",
        "   0.25    :    98.85\u00b0\n"
       ]
      }
     ],
     "prompt_number": 1
    }
   ],
   "metadata": {}
  }
 ]
}