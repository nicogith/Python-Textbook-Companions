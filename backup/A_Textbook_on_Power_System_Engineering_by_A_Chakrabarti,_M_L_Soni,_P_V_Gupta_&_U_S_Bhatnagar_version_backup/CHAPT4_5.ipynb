{
 "metadata": {
  "name": ""
 },
 "nbformat": 3,
 "nbformat_minor": 0,
 "worksheets": [
  {
   "cells": [
    {
     "cell_type": "heading",
     "level": 1,
     "metadata": {},
     "source": [
      "CHAPTER 4.5: ELECTRIC TRACTION-SPEED TIME CURVES AND MECHANICS OF TRAIN MOVEMENT"
     ]
    },
    {
     "cell_type": "heading",
     "level": 2,
     "metadata": {},
     "source": [
      "Example 4.5.1, Page number 778"
     ]
    },
    {
     "cell_type": "code",
     "collapsed": false,
     "input": [
      "#Variable declaration\n",
      "speed = 45.0      #Scheduled speed(kmph)\n",
      "D = 1.5           #Distance between 2 stops(km)\n",
      "t = 20.0          #Time of stop(sec)\n",
      "alpha = 2.4       #Acceleration(km phps)\n",
      "beta = 3.2        #Retardation(km phps)\n",
      "\n",
      "#Calculation\n",
      "t_total = D*3600/speed                   #Total time(sec)\n",
      "T = t_total-t                            #Actual time for run(sec)\n",
      "k = (alpha+beta)/(alpha*beta)            #Constant\n",
      "V_m = (T/k)-((T/k)**2-(7200*D/k))**0.5   #Maximum speed over the run(kmph)\n",
      "\n",
      "#Result\n",
      "print('Maximum speed over the run, V_m = %.f kmph' %V_m)"
     ],
     "language": "python",
     "metadata": {},
     "outputs": [
      {
       "output_type": "stream",
       "stream": "stdout",
       "text": [
        "Maximum speed over the run, V_m = 74 kmph\n"
       ]
      }
     ],
     "prompt_number": 1
    },
    {
     "cell_type": "heading",
     "level": 2,
     "metadata": {},
     "source": [
      "Example 4.5.2, Page number 778"
     ]
    },
    {
     "cell_type": "code",
     "collapsed": false,
     "input": [
      "#Variable declaration\n",
      "V_m = 65.0        #Maximum speed(kmph)\n",
      "t = 30.0          #Time of stop(sec)\n",
      "speed = 43.5      #Scheduled speed(kmph)\n",
      "alpha = 1.3       #Acceleration(km phps)\n",
      "D = 3.0           #Distance between 2 stops(km)\n",
      "\n",
      "#Calculation\n",
      "t_total = D*3600/speed                                 #Total time of run including stop(sec)\n",
      "T = t_total-t                                          #Actual time for run(sec)\n",
      "V_a = D/T*3600                                         #Average speed(kmph)\n",
      "beta = 1/((7200.0*D/V_m**2*((V_m/V_a)-1))-(1/alpha))   #Value of retardation(km phps)\n",
      "\n",
      "#Result\n",
      "print('Value of retardation, \u03b2 = %.3f km phps' %beta)\n",
      "print('\\nNOTE: Changes in the obtained answer from that of textbook is due to more precision here')\n",
      "print('      ERROR: \u03b2 unit is km phps & not km phps as mentioned in textbook solution')"
     ],
     "language": "python",
     "metadata": {},
     "outputs": [
      {
       "output_type": "stream",
       "stream": "stdout",
       "text": [
        "Value of retardation, \u03b2 = 1.198 km phps\n",
        "\n",
        "NOTE: Changes in the obtained answer from that of textbook is due to more precision here\n",
        "      ERROR: \u03b2 unit is km phps & not km phps as mentioned in textbook solution\n"
       ]
      }
     ],
     "prompt_number": 1
    },
    {
     "cell_type": "heading",
     "level": 2,
     "metadata": {},
     "source": [
      "Example 4.5.3, Page number 778-779"
     ]
    },
    {
     "cell_type": "code",
     "collapsed": false,
     "input": [
      "#Variable declaration\n",
      "speed = 25.0       #Scheduled speed(kmph)\n",
      "D = 800.0/1000     #Distance between 2 stations(km)\n",
      "t = 20.0           #Time of stop(sec)\n",
      "V_m_per = 20.0     #Maximum speed higher than(%)\n",
      "beta = 3.0         #Retardation(km phps)\n",
      "\n",
      "#Calculation\n",
      "t_total = D*3600/speed                                 #Total time of run including stop(sec)\n",
      "T = t_total-t                                          #Actual time for run(sec)\n",
      "V_a = D/T*3600                                         #Average speed(kmph)\n",
      "V_m = (100+V_m_per)*V_a/100                            #Maximum speed(kmph)\n",
      "alpha = 1/((7200.0*D/V_m**2*((V_m/V_a)-1))-(1/beta))   #Value of acceleration(km phps)\n",
      "\n",
      "#Result\n",
      "print('Rate of acceleration required to operate this service, \u03b1 = %.2f km phps' %alpha)"
     ],
     "language": "python",
     "metadata": {},
     "outputs": [
      {
       "output_type": "stream",
       "stream": "stdout",
       "text": [
        "Rate of acceleration required to operate this service, \u03b1 = 1.85 km phps\n"
       ]
      }
     ],
     "prompt_number": 1
    },
    {
     "cell_type": "heading",
     "level": 2,
     "metadata": {},
     "source": [
      "Example 4.5.4, Page number 779"
     ]
    },
    {
     "cell_type": "code",
     "collapsed": false,
     "input": [
      "#Variable declaration\n",
      "D = 2.0          #Distance between 2 stations(km)\n",
      "V_a = 40.0       #Average speed(kmph)\n",
      "V_1 = 60.0       #Maximum speed limitation(kph)\n",
      "alpha = 2.0      #Acceleration(km phps)\n",
      "beta_c = 0.15    #Coasting retardation(km phps)\n",
      "beta = 3.0       #Braking retardation(km phps)\n",
      "\n",
      "#Calculation\n",
      "t_1 = V_1/alpha                                        #Time for acceleration(sec)\n",
      "T = 3600*D/V_a                                         #Actual time of run(sec)\n",
      "V_2 = (T-t_1-(V_1/beta_c))*beta*beta_c/(beta_c-beta)   #Speed at the end of coasting period(kmph)\n",
      "t_2 = (V_1-V_2)/beta_c                                 #Coasting period(sec)\n",
      "t_3 = V_2/beta                                         #Braking period(sec)\n",
      "\n",
      "#Result\n",
      "print('Duration of acceleration, t_1 = %.f sec' %t_1)\n",
      "print('Duration of coasting, t_2 = %.f sec' %t_2)\n",
      "print('Duration of braking, t_3 = %.f sec' %t_3)"
     ],
     "language": "python",
     "metadata": {},
     "outputs": [
      {
       "output_type": "stream",
       "stream": "stdout",
       "text": [
        "Duration of acceleration, t_1 = 30 sec\n",
        "Duration of coasting, t_2 = 137 sec\n",
        "Duration of braking, t_3 = 13 sec\n"
       ]
      }
     ],
     "prompt_number": 1
    },
    {
     "cell_type": "heading",
     "level": 2,
     "metadata": {},
     "source": [
      "Example 4.5.5, Page number 781-782"
     ]
    },
    {
     "cell_type": "code",
     "collapsed": false,
     "input": [
      "#Variable declaration\n",
      "r = 1.0    #Tractive resistance(N/tonne)\n",
      "\n",
      "#Calculation\n",
      "tractive_res_i = 0.278*r     #Tractive resistance(N/tonne) = Energy consumption(Wh/tonne-km)\n",
      "beta = 1/277.8               #Tractive resistance(N/tonne) = Retardation(km kmps/tonne)\n",
      "energy = 98.1*1000/3600      #1% gradient = energy(Wh per tonne km)\n",
      "\n",
      "#Result\n",
      "print('Case(i)  : Tractive resistance of 1 N per tonne = %.3f Wh per tonne-km' %tractive_res_i)\n",
      "print('Case(ii) : Tractive resistance of 1 N per tonne = %.5f km phps per tonne' %beta)\n",
      "print('Case(iii): 1 percent gradient = %.2f Wh per tonne km' %energy)\n",
      "print('\\nNOTE: Slight change in the obtained answer from that of textbook is due to more precision here')"
     ],
     "language": "python",
     "metadata": {},
     "outputs": [
      {
       "output_type": "stream",
       "stream": "stdout",
       "text": [
        "Case(i)  : Tractive resistance of 1 N per tonne = 0.278 Wh per tonne-km\n",
        "Case(ii) : Tractive resistance of 1 N per tonne = 0.00360 km phps per tonne\n",
        "Case(iii): 1 percent gradient = 27.25 Wh per tonne km\n",
        "\n",
        "NOTE: Slight change in the obtained answer from that of textbook is due to more precision here\n"
       ]
      }
     ],
     "prompt_number": 1
    },
    {
     "cell_type": "heading",
     "level": 2,
     "metadata": {},
     "source": [
      "Example 4.5.6, Page number 782"
     ]
    },
    {
     "cell_type": "code",
     "collapsed": false,
     "input": [
      "#Variable declaration\n",
      "W = 254.0      #Weight of motor-coach train(tonne)\n",
      "no = 4.0       #Number of motor\n",
      "t_1 = 20.0     #Time(sec)\n",
      "V_m = 40.25    #Maximum speed(kmph)\n",
      "G = 1.0        #Gradient(%)\n",
      "gamma = 3.5    #Gear ratio\n",
      "n = 0.95       #Gear efficiency\n",
      "D = 91.5/100   #Wheel diameter(m)\n",
      "r = 44.0       #Train resistance(N/tonne)\n",
      "I = 10.0       #Rotational inertia(%)\n",
      "\n",
      "#Calculation\n",
      "W_e = W*(100+I)/100                  #Accelerating weight of train(tonne)\n",
      "alpha = V_m/t_1                      #Acceleration(km phps)\n",
      "F_t = 277.8*W_e*alpha+W*r+98.1*W*G   #Tractive effort(N)\n",
      "T = F_t*D/(2*n*gamma)                #Torque developed(N-m)\n",
      "T_each = T/no                        #Torque developed by each motor(N-m)\n",
      "\n",
      "#Result\n",
      "print('Torque developed by each motor = %.f N-m' %T_each)\n",
      "print('\\nNOTE: Changes in the obtained answer from that of textbook is due to more precision here & more approximation in textbook')\n",
      "print('      ERROR: W = 254 tonne, not 256 tonne as mentioned in textbook problem statement')"
     ],
     "language": "python",
     "metadata": {},
     "outputs": [
      {
       "output_type": "stream",
       "stream": "stdout",
       "text": [
        "Torque developed by each motor = 6615 N-m\n",
        "\n",
        "NOTE: Changes in the obtained answer from that of textbook is due to more precision here & more approximation in textbook\n",
        "      ERROR: W = 254 tonne, not 256 tonne as mentioned in textbook problem statement\n"
       ]
      }
     ],
     "prompt_number": 1
    },
    {
     "cell_type": "heading",
     "level": 2,
     "metadata": {},
     "source": [
      "Example 4.5.7, Page number 782"
     ]
    },
    {
     "cell_type": "code",
     "collapsed": false,
     "input": [
      "#Variable declaration\n",
      "W = 203.0      #Weight of motor-coach train(tonne)\n",
      "no = 4.0       #Number of motors\n",
      "T = 5130.0     #Shaft torque(N-m)\n",
      "V_m = 42.0     #Maximum speed(kmph)\n",
      "G = 100.0/250  #Gradient\n",
      "gamma = 3.5    #Gear ratio\n",
      "n = 0.93       #Gear efficiency\n",
      "D = 91.5/100   #Wheel diameter(m)\n",
      "r = 45.0       #Train resistance(N/tonne)\n",
      "I = 10.0       #Rotational inertia(%)\n",
      "\n",
      "#Calculation\n",
      "W_e = W*(100+I)/100                     #Accelerating weight of train(tonne)\n",
      "F_t = n*4*T*2*gamma/D                   #Tractive effort(N)\n",
      "alpha = (F_t-W*r-98.1*W*G)/(277.8*W_e)  #Acceleration(km phps)\n",
      "t_1 = V_m/alpha                         #Time taken by train to attain speed(sec)\n",
      "\n",
      "#Result\n",
      "print('Time taken by train to attain speed, t_1 = %.1f sec' %t_1)"
     ],
     "language": "python",
     "metadata": {},
     "outputs": [
      {
       "output_type": "stream",
       "stream": "stdout",
       "text": [
        "Time taken by train to attain speed, t_1 = 20.2 sec\n"
       ]
      }
     ],
     "prompt_number": 1
    },
    {
     "cell_type": "heading",
     "level": 2,
     "metadata": {},
     "source": [
      "Example 4.5.8, Page number 782-783"
     ]
    },
    {
     "cell_type": "code",
     "collapsed": false,
     "input": [
      "%matplotlib inline\n",
      "from matplotlib.pyplot import plot,title,xlabel,ylabel,text,axis,show\n",
      "\n",
      "#Variable declaration\n",
      "V_a = 42.0          #Average speed of train(kmph)\n",
      "D = 1400.0/1000     #Distance(km)\n",
      "alpha = 1.7         #Acceleration(km phps)\n",
      "beta = 3.3          #Retardation(km phps)\n",
      "r = 50.0            #Tractive resistance(N/tonne)\n",
      "I = 10.0            #Rotational inertia(%)\n",
      "\n",
      "#Calculation\n",
      "T = D*3600/V_a                                       #Time for run(sec)\n",
      "k = (alpha+beta)/(alpha*beta)                        #Constant\n",
      "V_m = (T/k)-((T/k)**2-(7200*D/k))**0.5               #Maximum speed over the run(kmph)\n",
      "t_1 = V_m/alpha                                      #Time of acceleration(sec)\n",
      "t_3 = V_m/beta                                       #Time(sec)\n",
      "t_2 = T-(t_1+t_3)                                    #Time(sec)\n",
      "D_1 = D-(V_a*t_1/(2*3600))                           #Distance(km)\n",
      "We_W = (100+I)/100                                   #W_e/W\n",
      "energy = (0.0107*V_m**2*We_W/D)+(0.278*r*D_1/D)      #Energy consumption(Wh per tonne-km)\n",
      "plot(\n",
      "          [0,t_1,t_1,(t_1+t_2),(t_1+t_2),(t_1+t_2+t_3)],\n",
      "          [0,V_m,V_m,V_m,V_m,0],\n",
      "          color='b'\n",
      "          )                                           #Plotting speed-time curve\n",
      "plot(\n",
      "         [t_1,t_1],\n",
      "         [0,V_m],\n",
      "         color='r',ls='--'\n",
      "         )\n",
      "plot(\n",
      "         [t_1+t_2,t_1+t_2],\n",
      "         [0,V_m],\n",
      "         color='r',ls='--'\n",
      "         )\n",
      "axis([0,125,0,54])\n",
      "title('Speed-time curve for the run')\n",
      "xlabel('Time(seconds)')\n",
      "ylabel('Speed (km/h)')\n",
      "show()\n",
      "\n",
      "#Result\n",
      "print('Energy consumption at the axles of train = %.1f Wh per tonne-km' %energy)"
     ],
     "language": "python",
     "metadata": {},
     "outputs": [
      {
       "metadata": {},
       "output_type": "display_data",
       "png": "[encoded data removed]",
       "text": [
        "<matplotlib.figure.Figure at 0x75e1438>"
       ]
      },
      {
       "output_type": "stream",
       "stream": "stdout",
       "text": [
        "Energy consumption at the axles of train = 34.9 Wh per tonne-km\n"
       ]
      }
     ],
     "prompt_number": 1
    },
    {
     "cell_type": "heading",
     "level": 2,
     "metadata": {},
     "source": [
      "Example 4.5.9, Page number 783"
     ]
    },
    {
     "cell_type": "code",
     "collapsed": false,
     "input": [
      "#Variable declaration\n",
      "V_A = 48.0       #Speed(kmph)\n",
      "t_1 = 24.0       #Time taken to accelerate from rest to speed(sec)\n",
      "t_2 = 69.0       #Coasting time(sec)\n",
      "r = 58.0         #Constant resistance(N/tonne)\n",
      "beta = 3.3       #Retardation(km phps)\n",
      "t_3 = 11.0       #Retardation time(sec)\n",
      "t_iii_a = 20.0   #Station stop time(sec)\n",
      "t_iii_b = 15.0   #Station stop time(sec)\n",
      "I = 10.0         #Rotational inertia(%)\n",
      "\n",
      "#Calculation\n",
      "alpha = V_A/t_1                                                   #Acceleration(km phps)\n",
      "V_B = beta*t_3                                                    #Speed at B(km phps)\n",
      "beta_c = (V_A-V_B)/t_2                                            #Retardation during coasting(km phps)\n",
      "distance_acc = 1.0/2*t_1*V_A/3600                                 #Distance covered during acceleration(km)\n",
      "distance_coasting = (V_A**2-V_B**2)/(2*beta_c*3600)               #Distance covered during coasting(km)\n",
      "distance_braking = t_3*V_B/(3600*2)                               #Distance covered during braking(km)\n",
      "distance_total = distance_acc+distance_coasting+distance_braking  #Total distance(km)\n",
      "speed_iii_a = distance_total*3600/(t_1+t_2+t_3+t_iii_a)           #Scheduled speed with a stop of 20 sec(kmph)\n",
      "speed_iii_b = distance_total*3600/(t_1+t_2+t_3+t_iii_b)           #Scheduled speed with a stop of 15 sec(kmph)\n",
      "\n",
      "#Result\n",
      "print('Case(i)  : Acceleration, \u03b1 = %.f km phps' %alpha)\n",
      "print('Case(ii) : Coasting retardation, \u03b2_c = %.2f km phps' %beta_c)\n",
      "print('Case(iii): Scheduled speed with a stop of 20 seconds = %.2f kmph' %speed_iii_a)\n",
      "print('           Scheduled speed with a stop of 15 seconds = %.2f kmph' %speed_iii_b)\n",
      "print('\\nNOTE: ERROR: Calculation mistakes in the textbook solution')"
     ],
     "language": "python",
     "metadata": {},
     "outputs": [
      {
       "output_type": "stream",
       "stream": "stdout",
       "text": [
        "Case(i)  : Acceleration, \u03b1 = 2 km phps\n",
        "Case(ii) : Coasting retardation, \u03b2_c = 0.17 km phps\n",
        "Case(iii): Scheduled speed with a stop of 20 seconds = 29.71 kmph\n",
        "           Scheduled speed with a stop of 15 seconds = 30.96 kmph\n",
        "\n",
        "NOTE: ERROR: Calculation mistakes in the textbook solution\n"
       ]
      }
     ],
     "prompt_number": 1
    },
    {
     "cell_type": "heading",
     "level": 2,
     "metadata": {},
     "source": [
      "Example 4.5.10, Page number 784"
     ]
    },
    {
     "cell_type": "code",
     "collapsed": false,
     "input": [
      "#Variable declaration\n",
      "W = 350.0      #Weight of train(tonne)\n",
      "G = 1.0        #Gradient\n",
      "alpha = 0.8    #Acceleration(km phps)\n",
      "u = 0.25       #Co-efficient of adhesion\n",
      "r = 44.5       #Train resistance(N/tonne)\n",
      "I = 10.0       #Rotational inertia(%)\n",
      "\n",
      "#Calculation\n",
      "W_e = W*(100+I)/100                  #Accelerating weight of train(tonne)\n",
      "F_t = 277.8*W_e*alpha+W*r+98.1*W*G   #Tractive effort(N)\n",
      "adhesive_weight = F_t/(u*9.81*1000)  #Adhesive weight(tonnes)\n",
      "\n",
      "#Result\n",
      "print('Minimum adhesive weight of the locomotive = %.1f tonnes' %adhesive_weight)\n",
      "print('\\nNOTE: ERROR: Train resistance is 44.5 N per tonne & not 45 N per tonne as mentioned in textbook problem statement')"
     ],
     "language": "python",
     "metadata": {},
     "outputs": [
      {
       "output_type": "stream",
       "stream": "stdout",
       "text": [
        "Minimum adhesive weight of the locomotive = 55.2 tonnes\n",
        "\n",
        "NOTE: ERROR: Train resistance is 44.5 N per tonne & not 45 N per tonne as mentioned in textbook problem statement\n"
       ]
      }
     ],
     "prompt_number": 1
    },
    {
     "cell_type": "heading",
     "level": 2,
     "metadata": {},
     "source": [
      "Example 4.5.11, Page number 784"
     ]
    },
    {
     "cell_type": "code",
     "collapsed": false,
     "input": [
      "#Variable declaration\n",
      "W = 400.0       #Weight of train(tonne)\n",
      "G = 100.0/75    #Gradient\n",
      "alpha = 1.6     #Acceleration(km phps)\n",
      "r = 66.75       #Train resistance(N/tonne)\n",
      "I = 10.0        #Rotational inertia(%)\n",
      "V = 48.0        #Speed(kmph)\n",
      "n = 0.7         #Overall efficiency of equipment\n",
      "\n",
      "#Calculation\n",
      "W_e = W*(100+I)/100                  #Accelerating weight of train(tonne)\n",
      "F_t = 277.8*W_e*alpha+W*r+98.1*W*G   #Tractive effort(N)\n",
      "t = V/alpha                          #Time(sec)\n",
      "energy_a = F_t*V*t/(2*3600**2)       #Energy usefully employed(kWh)\n",
      "G_r = 98.1*G+r                       #Force(N)\n",
      "work_tonne_km = G_r*1000             #Work done per tonne per km(Nw-m)\n",
      "energy_b = work_tonne_km/(n*3600)    #Energy consumption(Wh per tonne-km)\n",
      "\n",
      "#Result\n",
      "print('Case(a): Energy usefully employed in attaining speed = %.2f kWh' %energy_a)\n",
      "print('Case(b): Specific energy consumption at steady state speed = %.1f Wh per tonne-km' %energy_b)"
     ],
     "language": "python",
     "metadata": {},
     "outputs": [
      {
       "output_type": "stream",
       "stream": "stdout",
       "text": [
        "Case(a): Energy usefully employed in attaining speed = 15.26 kWh\n",
        "Case(b): Specific energy consumption at steady state speed = 78.4 Wh per tonne-km\n"
       ]
      }
     ],
     "prompt_number": 1
    },
    {
     "cell_type": "heading",
     "level": 2,
     "metadata": {},
     "source": [
      "Example 4.5.12, Page number 784-785"
     ]
    },
    {
     "cell_type": "code",
     "collapsed": false,
     "input": [
      "#Variable declaration\n",
      "W = 200.0       #Trailing weight(tonne)\n",
      "G = 1.0         #Gradient(%)\n",
      "alpha = 1.0     #Acceleration(km phps)\n",
      "u = 0.2         #Co-efficient of adhesion\n",
      "r = 50.0        #Train resistance(N/tonne)\n",
      "I = 10.0        #Rotational inertia(%)\n",
      "\n",
      "#Calculation\n",
      "W_L = ((277.8*(100+I)/100*alpha)+98.1*G+r)*W/(u*9.81*1000-((277.8*(100+I)/100*alpha)+98.1*G+r))  #Weight of locomotive(tonnes)\n",
      "\n",
      "#Result\n",
      "print('Minimum adhesive weight of a locomotive, W_L = %.1f tonnes' %W_L)\n",
      "print('\\nNOTE: ERROR: Calculation mistake in textbook solution in calculating W_L')"
     ],
     "language": "python",
     "metadata": {},
     "outputs": [
      {
       "output_type": "stream",
       "stream": "stdout",
       "text": [
        "Minimum adhesive weight of a locomotive, W_L = 60.2 tonnes\n",
        "\n",
        "NOTE: ERROR: Calculation mistake in textbook solution in calculating W_L\n"
       ]
      }
     ],
     "prompt_number": 1
    }
   ],
   "metadata": {}
  }
 ]
}