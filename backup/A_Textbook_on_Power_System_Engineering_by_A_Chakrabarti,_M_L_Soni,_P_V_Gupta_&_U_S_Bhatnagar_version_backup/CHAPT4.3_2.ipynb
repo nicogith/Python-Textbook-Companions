{
 "metadata": {
  "name": ""
 },
 "nbformat": 3,
 "nbformat_minor": 0,
 "worksheets": [
  {
   "cells": [
    {
     "cell_type": "heading",
     "level": 1,
     "metadata": {},
     "source": [
      "CHAPTER 4.3: ELECTROLYTIC AND ELECTRO-METALLURGICAL PROCESSES"
     ]
    },
    {
     "cell_type": "heading",
     "level": 2,
     "metadata": {},
     "source": [
      "Example 4.3.1, Page number 747-748"
     ]
    },
    {
     "cell_type": "code",
     "collapsed": false,
     "input": [
      "import math\n",
      "\n",
      "#Variable declaration\n",
      "l = 20.0      #Length of shaft(cm)\n",
      "d = 10.0      #Diameter of shaft(cm)\n",
      "thick = 1.5   #Layer of nickel(mm)\n",
      "J = 195.0     #Current density(A/sq.m)\n",
      "n_I = 0.92    #Current efficiency\n",
      "g = 8.9       #Specific gravity of nickel\n",
      "\n",
      "#Calculation\n",
      "Wt = math.pi*l*d*thick/10*g*10**-3    #Weight of nickel to be deposited(kg)\n",
      "ece_nickel = 1.0954                   #Electro-chemical equivalent of nickel(kg/1000 Ah)\n",
      "Q_I = Wt*1000/(ece_nickel*n_I)        #Quantity of electricity required(Ah)\n",
      "time = Q_I/(math.pi*l*d*10**-4*J)     #Time taken(hours)\n",
      "\n",
      "#Result\n",
      "print('Quantity of electricity = %.f Ah' %Q_I)\n",
      "print('Time taken for the process = %.f hours' %time)"
     ],
     "language": "python",
     "metadata": {},
     "outputs": [
      {
       "output_type": "stream",
       "stream": "stdout",
       "text": [
        "Quantity of electricity = 832 Ah\n",
        "Time taken for the process = 68 hours\n"
       ]
      }
     ],
     "prompt_number": 1
    },
    {
     "cell_type": "heading",
     "level": 2,
     "metadata": {},
     "source": [
      "Example 4.3.2, Page number 748"
     ]
    },
    {
     "cell_type": "code",
     "collapsed": false,
     "input": [
      "#Variable declaration\n",
      "no_cells = 600.0    #Number of cells employed for copper refining\n",
      "I = 4000.0          #Current(A)\n",
      "V = 0.3             #Voltage per cell(V)\n",
      "hour = 90.0         #Time of plant operation(hours)\n",
      "ece_cu = 1.1844     #Electro-chemical equivalent of copper(kg/1000 Ah)\n",
      "\n",
      "#Calculation\n",
      "Ah_week  = I*hour                           #Ah per week per cell\n",
      "Ah_year = Ah_week*52                        #Ah per year per cell\n",
      "Wt = no_cells*ece_cu*Ah_year/(1000*10**3)   #Weight of copper refined per year(tonnes)\n",
      "energy = V*I*no_cells*hour*52/1000          #Energy consumed(kWh)\n",
      "consumption = energy/Wt                     #Consumption(kWh/tonne)\n",
      "\n",
      "#Result\n",
      "print('Annual output of refined copper = %.f tonnes' %Wt)\n",
      "print('Energy consumption = %.1f kWh/tonne' %consumption)\n",
      "print('\\nNOTE: ERROR: Substitution & calculation mistake in the textbook solution')"
     ],
     "language": "python",
     "metadata": {},
     "outputs": [
      {
       "output_type": "stream",
       "stream": "stdout",
       "text": [
        "Annual output of refined copper = 13303 tonnes\n",
        "Energy consumption = 253.3 kWh/tonne\n",
        "\n",
        "NOTE: ERROR: Substitution & calculation mistake in the textbook solution\n"
       ]
      }
     ],
     "prompt_number": 1
    },
    {
     "cell_type": "heading",
     "level": 2,
     "metadata": {},
     "source": [
      "Example 4.3.3, Page number 748"
     ]
    },
    {
     "cell_type": "code",
     "collapsed": false,
     "input": [
      "#Variable declaration\n",
      "hour = 24.0         #Time(hour)\n",
      "I = 3500.0          #Average current(A)\n",
      "n = 0.9             #Current efficiency\n",
      "valency = 3.0       #Aluminium valency\n",
      "w = 27.0            #Atomic weight of aluminium\n",
      "ece_Ag = 107.98     #Electro-chemical equivalent of silver\n",
      "Wt_dep = 0.00111    #Silver deposition by one coulomb(gm)\n",
      "\n",
      "#Calculation\n",
      "chemical_eq_Al = w/valency                    #Chemical equivalent of aluminium\n",
      "eme_Al  = Wt_dep/ece_Ag*chemical_eq_Al        #Electro-chemical equivalent of aluminium(gm/coulomb)\n",
      "Wt_Al_liberated = I*hour*3600*n*eme_Al/1000   #Weight of aluminium liberated(Kg)\n",
      "\n",
      "#Result\n",
      "print('Weight of aluminium produced from aluminium oxide = %.1f kg' %Wt_Al_liberated)"
     ],
     "language": "python",
     "metadata": {},
     "outputs": [
      {
       "output_type": "stream",
       "stream": "stdout",
       "text": [
        "Weight of aluminium produced from aluminium oxide = 25.2 kg\n"
       ]
      }
     ],
     "prompt_number": 1
    }
   ],
   "metadata": {}
  }
 ]
}