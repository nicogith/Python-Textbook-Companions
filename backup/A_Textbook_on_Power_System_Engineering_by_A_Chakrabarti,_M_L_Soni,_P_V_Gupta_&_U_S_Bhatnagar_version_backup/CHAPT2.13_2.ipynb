{
 "metadata": {
  "name": ""
 },
 "nbformat": 3,
 "nbformat_minor": 0,
 "worksheets": [
  {
   "cells": [
    {
     "cell_type": "heading",
     "level": 1,
     "metadata": {},
     "source": [
      "CHAPTER 2.13: WAVE PROPAGATION ON TRANSMISSION LINES"
     ]
    },
    {
     "cell_type": "heading",
     "level": 2,
     "metadata": {},
     "source": [
      "Example 2.13.4, Page number 366"
     ]
    },
    {
     "cell_type": "code",
     "collapsed": false,
     "input": [
      "#Variable declaration\n",
      "R_1 = 60.0     #Surge impedance of underground cable(ohm)\n",
      "R_2 = 400.0    #Surge impedance of overhead line(ohm)\n",
      "e = 100.0      #Maximum value of surge(kV)\n",
      "\n",
      "#Calculation\n",
      "i = e*1000/R_1                #Current(A)\n",
      "k = (R_2-R_1)/(R_2+R_1)\n",
      "e_ref = k*e                   #Reflected voltage(kV)\n",
      "e_trans = e+e_ref             #Transmitted voltage(kV)\n",
      "e_trans_alt = (1+k)*e         #Transmitted voltage(kV). Alternative method\n",
      "i_ref = -k*i                  #Reflected current(A)\n",
      "i_trans = e_trans*1000/R_2    #Transmitted current(A)\n",
      "i_trans_alt = (1-k)*i         #Transmitted current(A). Alternative method\n",
      "\n",
      "#Result\n",
      "print('Reflected voltage at the junction = %.f kV' %e_ref)\n",
      "print('Transmitted voltage at the junction = %.f kV' %e_trans)\n",
      "print('Reflected current at the junction = %.f A' %i_ref)\n",
      "print('Transmitted current at the junction = %.f A' %i_trans)"
     ],
     "language": "python",
     "metadata": {},
     "outputs": [
      {
       "output_type": "stream",
       "stream": "stdout",
       "text": [
        "Reflected voltage at the junction = 74 kV\n",
        "Transmitted voltage at the junction = 174 kV\n",
        "Reflected current at the junction = -1232 A\n",
        "Transmitted current at the junction = 435 A\n"
       ]
      }
     ],
     "prompt_number": 1
    },
    {
     "cell_type": "heading",
     "level": 2,
     "metadata": {},
     "source": [
      "Example 2.13.5, Page number 366"
     ]
    },
    {
     "cell_type": "code",
     "collapsed": false,
     "input": [
      "#Variable declaration\n",
      "R_A = 500.0     #Surge impedance of line A(ohm)\n",
      "R_B = 70.0      #Surge impedance of line B(ohm)\n",
      "R_C = 600.0     #Surge impedance of line C(ohm)\n",
      "e = 20.0        #Rectangular voltage wave(kV)\n",
      "\n",
      "#Calculation\n",
      "E_2 = e*(1+((R_B-R_A)/(R_B+R_A)))       #Transmitted wave(kV)\n",
      "E_4 = E_2*(1+((R_C-R_B)/(R_C+R_B)))     #First voltage impressed on C(kV)\n",
      "E_3 = E_2*(R_C-R_B)/(R_C+R_B)           #Reflected wave(kV)\n",
      "E_5 = E_3*(R_A-R_B)/(R_A+R_B)           #Reflected wave(kV)\n",
      "E_6 = E_5*(1+((R_C-R_B)/(R_C+R_B)))     #Transmitted wave(kV)\n",
      "second = E_4+E_6                        #Second voltage impressed on C(kV)\n",
      "\n",
      "#Result\n",
      "print('First voltage impressed on C = %.1f kV' %E_4)\n",
      "print('Second voltage impressed on C = %.1f kV' %second)"
     ],
     "language": "python",
     "metadata": {},
     "outputs": [
      {
       "output_type": "stream",
       "stream": "stdout",
       "text": [
        "First voltage impressed on C = 8.8 kV\n",
        "Second voltage impressed on C = 14.0 kV\n"
       ]
      }
     ],
     "prompt_number": 1
    },
    {
     "cell_type": "heading",
     "level": 2,
     "metadata": {},
     "source": [
      "Example 2.13.6, Page number 367"
     ]
    },
    {
     "cell_type": "code",
     "collapsed": false,
     "input": [
      "#Variable declaration\n",
      "Z = 100.0         #Surge impedance of cable(ohm)\n",
      "Z_1 = 600.0       #Surge impedance of open wire(ohm)\n",
      "Z_2 = 1000.0      #Surge impedance of open wire(ohm)\n",
      "e = 2.0           #Steep fronted voltage(kV)\n",
      "\n",
      "#Calculation\n",
      "Z_t = Z_1*Z_2/(Z_1+Z_2)       #Resultant surge impedance(ohm)\n",
      "E = e*(1+((Z_t-Z)/(Z_t+Z)))   #Transmitted voltage(kV)\n",
      "I_1 = E*1000/Z_1              #Current(A)\n",
      "I_2 = E*1000/Z_2              #Current(A)\n",
      "E_ref = e*(Z_t-Z)/(Z_t+Z)     #Reflected voltage(kV)\n",
      "I_ref = -E_ref*1000/Z         #Reflected current(A)\n",
      "\n",
      "#Result\n",
      "print('Voltage in the cable = %.3f kV' %E)\n",
      "print('Current in the cable, I_1 = %.2f A' %I_1)\n",
      "print('Current in the cable, I_2 = %.3f A' %I_2)\n",
      "print('Voltage in the open-wire lines i.e Reflected voltage = %.3f kV' %E_ref)\n",
      "print('Current in the open-wire lines i.e Reflected current = %.2f A' %I_ref)"
     ],
     "language": "python",
     "metadata": {},
     "outputs": [
      {
       "output_type": "stream",
       "stream": "stdout",
       "text": [
        "Voltage in the cable = 3.158 kV\n",
        "Current in the cable, I_1 = 5.26 A\n",
        "Current in the cable, I_2 = 3.158 A\n",
        "Voltage in the open-wire lines i.e Reflected voltage = 1.158 kV\n",
        "Current in the open-wire lines i.e Reflected current = -11.58 A\n"
       ]
      }
     ],
     "prompt_number": 1
    },
    {
     "cell_type": "heading",
     "level": 2,
     "metadata": {},
     "source": [
      "Example 2.13.9, Page number 369"
     ]
    },
    {
     "cell_type": "code",
     "collapsed": false,
     "input": [
      "import cmath\n",
      "from sympy import *\n",
      "\n",
      "#Variable declaration\n",
      "Z_c = 400.0                      #Characteristic impedance(ohm)\n",
      "Z = 400.0                        #Characteristic impedance of each feeder(ohm)\n",
      "Z_1 = 50.0                       #Effective characteristic impedance(ohm)\n",
      "t = Symbol('t')\n",
      "V = 600*(exp(-0.4*t)-exp(-t))    #Voltage wave\n",
      "\n",
      "#Calculation\n",
      "Z_t = Z*Z/(Z+Z)                              #Resultant surge impedance(ohm)\n",
      "E_A = 1+((Z_t-Z)/(Z_t+Z))                    #Voltage transmitted at A in terms of V\n",
      "E_B = E_A*(1+((Z_1-Z)/(Z_1+Z)))              #Voltage transmitted at B or C in terms of V\n",
      "v = diff(600*(exp(-0.4*t)-exp(-t)), t)       #Differentiating to obtain maximum voltage\n",
      "sol = solve(v,t)                             #Value of time(sec)\n",
      "time = sol[0]                                #Only one value satisfies(sec)\n",
      "V_max = E_B*600*(exp(-0.4*time)-exp(-time))  #Maximum voltage(kV)\n",
      "\n",
      "#Result\n",
      "print('Maximum voltage which appear across the feeder end of winding of each transformer = %.1f kV' %V_max)"
     ],
     "language": "python",
     "metadata": {},
     "outputs": [
      {
       "output_type": "stream",
       "stream": "stdout",
       "text": [
        "Maximum voltage which appear across the feeder end of winding of each transformer = 29.0 kV\n"
       ]
      }
     ],
     "prompt_number": 1
    }
   ],
   "metadata": {}
  }
 ]
}