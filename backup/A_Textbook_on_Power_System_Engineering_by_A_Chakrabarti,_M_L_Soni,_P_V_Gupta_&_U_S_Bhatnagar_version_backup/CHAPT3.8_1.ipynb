{
 "metadata": {
  "name": ""
 },
 "nbformat": 3,
 "nbformat_minor": 0,
 "worksheets": [
  {
   "cells": [
    {
     "cell_type": "heading",
     "level": 1,
     "metadata": {},
     "source": [
      "CHAPTER 3.8: PROTECTION OF ALTERNATORS AND AC MOTORS"
     ]
    },
    {
     "cell_type": "heading",
     "level": 2,
     "metadata": {},
     "source": [
      "Example 3.8.1, Page number 624"
     ]
    },
    {
     "cell_type": "code",
     "collapsed": false,
     "input": [
      "#Variable declaration\n",
      "V = 6600.0           #Alternator Voltage(V)\n",
      "P = 2000.0*10**3     #Rating of alternator(W)\n",
      "PF = 0.8             #Power factor of alternator\n",
      "X = 12.5             #Alternator reactance(%)\n",
      "I = 200.0            #Current protection(A)\n",
      "per = 10.0           #Percentage of winding unprotected(%)\n",
      "\n",
      "#Calculation\n",
      "I_fl = P/(3**0.5*V*PF)          #Full load current of alternator(A)\n",
      "x = X*V/(3**0.5*100*I_fl)       #Reactance per phase of alternator(ohm)\n",
      "x_per = per/100*x               #Reactance of 10% of the winding(ohm)\n",
      "NA = V/(3**0.5*per)             #Voltage induced in winding(V)\n",
      "r = ((NA/I)**2-x_per**2)**0.5   #Neutral earthing reactance(ohm)\n",
      "\n",
      "#Result\n",
      "print('Neutral earthing reactance, r = %.2f ohm' %r)"
     ],
     "language": "python",
     "metadata": {},
     "outputs": [
      {
       "output_type": "stream",
       "stream": "stdout",
       "text": [
        "Neutral earthing reactance, r = 1.89 ohm\n"
       ]
      }
     ],
     "prompt_number": 1
    },
    {
     "cell_type": "heading",
     "level": 2,
     "metadata": {},
     "source": [
      "Example 3.8.2, Page number 624-625"
     ]
    },
    {
     "cell_type": "code",
     "collapsed": false,
     "input": [
      "#Variable declaration\n",
      "MVA = 20.0            #Generator rating(MVA)\n",
      "V = 11.0*10**3        #Generator voltage(V)\n",
      "ratio_CT = 1200.0/5   #Ratio of current transformer\n",
      "I_min_op = 0.75       #Minimum operating current of relay(A)\n",
      "R = 6.0               #Neutral point earthing resistance(ohm)\n",
      "\n",
      "#Calculation\n",
      "I_max_fault = ratio_CT*I_min_op       #Maximum fault current to operate relay(A)\n",
      "x = I_max_fault*3**0.5*100*R/V        #Unprotected portion for R = 6 ohm(%)\n",
      "R_1 = 3.0                             #Neutral point earthing resistance(ohm)\n",
      "x_1 = I_max_fault*3**0.5*100*R_1/V    #Unprotected portion for R = 3 ohm(%)\n",
      "R_3 = 12.0                            #Neutral point earthing resistance(ohm)\n",
      "x_3 = I_max_fault*3**0.5*100*R_3/V    #Unprotected portion for R = 12 ohm(%)\n",
      "\n",
      "#Result\n",
      "print('Unprotected portion of each phase of the stator winding against earth fault, x = %.f percent' %x)\n",
      "print('Effect of varying neutral earthing resistance keeping relay operating current the same')\n",
      "print(' (i)   R = 3 ohms')\n",
      "print('       Unprotected portion = %.1f percent' %x_1)\n",
      "print('       Protected portion = %.1f percent' %(100-x_1))\n",
      "print(' (ii)  R = 6 ohms')\n",
      "print('       Unprotected portion = %.f percent' %x)\n",
      "print('       Protected portion = %.f percent' %(100-x))\n",
      "print(' (iii) R = 12 ohms')\n",
      "print('       Unprotected portion = %.f percent' %x_3)\n",
      "print('       Protected portion = %.f percent' %(100-x_3))"
     ],
     "language": "python",
     "metadata": {},
     "outputs": [
      {
       "output_type": "stream",
       "stream": "stdout",
       "text": [
        "Unprotected portion of each phase of the stator winding against earth fault, x = 17 percent\n",
        "Effect of varying neutral earthing resistance keeping relay operating current the same\n",
        " (i)   R = 3 ohms\n",
        "       Unprotected portion = 8.5 percent\n",
        "       Protected portion = 91.5 percent\n",
        " (ii)  R = 6 ohms\n",
        "       Unprotected portion = 17 percent\n",
        "       Protected portion = 83 percent\n",
        " (iii) R = 12 ohms\n",
        "       Unprotected portion = 34 percent\n",
        "       Protected portion = 66 percent\n"
       ]
      }
     ],
     "prompt_number": 1
    },
    {
     "cell_type": "heading",
     "level": 2,
     "metadata": {},
     "source": [
      "Example 3.8.3, Page number 625"
     ]
    },
    {
     "cell_type": "code",
     "collapsed": false,
     "input": [
      "#Variable declaration\n",
      "kVA = 5000.0      #Alternator rating(kVA)\n",
      "V = 6600.0        #Alternator voltage(V)\n",
      "X = 2.0           #Synchronous reactance per phase(ohm)\n",
      "R = 0.5           #Resistance(ohm)\n",
      "ofb = 30.0        #Out-of-balance current(%)\n",
      "R_n = 6.5         #Resistance of resistor earthed to star point(ohm)\n",
      "\n",
      "#Calculation\n",
      "I_fl = kVA*1000/(3**0.5*V)                 #Full load current(A)\n",
      "I_ofb = ofb/100*I_fl                       #Out-of-balance current(A)\n",
      "x = R_n/((V/(3**0.5*100*I_ofb))-(R/100))   #Portion of winding unprotected(%)\n",
      "\n",
      "#Result\n",
      "print('Portion of alternator winding unprotected, x = %.1f percent' %x)"
     ],
     "language": "python",
     "metadata": {},
     "outputs": [
      {
       "output_type": "stream",
       "stream": "stdout",
       "text": [
        "Portion of alternator winding unprotected, x = 22.8 percent\n"
       ]
      }
     ],
     "prompt_number": 1
    },
    {
     "cell_type": "heading",
     "level": 2,
     "metadata": {},
     "source": [
      "Example 3.8.4, Page number 625"
     ]
    },
    {
     "cell_type": "code",
     "collapsed": false,
     "input": [
      "#Variable declaration\n",
      "I_min = 0.15          #Minimum pick up current of relay(A)\n",
      "slope = 12.0          #Slope(%)\n",
      "CT_ratio = 400.0/5    #CT ratio\n",
      "I_1 = 360.0           #Current(A)\n",
      "I_2 = 300.0           #Current(A)\n",
      "\n",
      "#Calculation\n",
      "i_1 = I_1/CT_ratio                         #Current(A)\n",
      "i_2 = I_2/CT_ratio                         #Current(A)\n",
      "percentage = (i_1-i_2)/((i_1+i_2)/2)*100   #Percentage(%)\n",
      "\n",
      "#Result\n",
      "if(percentage>slope):\n",
      "    print('Relay would trip the circuit breaker, since the point lie on +ve torque regime')\n",
      "else:\n",
      "    print('Relay would not trip the circuit breaker, since the point do not lie on +ve torque regime')"
     ],
     "language": "python",
     "metadata": {},
     "outputs": [
      {
       "output_type": "stream",
       "stream": "stdout",
       "text": [
        "Relay would trip the circuit breaker, since the point lie on +ve torque regime\n"
       ]
      }
     ],
     "prompt_number": 1
    },
    {
     "cell_type": "heading",
     "level": 2,
     "metadata": {},
     "source": [
      "Example 3.8.5, Page number 625-626"
     ]
    },
    {
     "cell_type": "code",
     "collapsed": false,
     "input": [
      "#Variable declaration\n",
      "MVA = 50.0           #Alternator rating(MVA)\n",
      "V = 33.0*10**3       #Alternator voltage(V)\n",
      "CT_ratio = 2000.0/5  #CT ratio\n",
      "R = 7.5              #Resistor earthed generator neutral(ohm)\n",
      "I = 0.5              #Current above which pick up current(A)\n",
      "\n",
      "#Calculation\n",
      "I_min = CT_ratio*I           #Minimum current required to operate relay(A)\n",
      "x = I_min*R/(V/3**0.5)*100   #Winding unprotected during normal operation(%)\n",
      "\n",
      "#Result\n",
      "print('Winding of each phase unprotected against earth when machine operates at nominal voltage, x = %.2f percent' %x)"
     ],
     "language": "python",
     "metadata": {},
     "outputs": [
      {
       "output_type": "stream",
       "stream": "stdout",
       "text": [
        "Winding of each phase unprotected against earth when machine operates at nominal voltage, x = 7.87 percent\n"
       ]
      }
     ],
     "prompt_number": 1
    },
    {
     "cell_type": "heading",
     "level": 2,
     "metadata": {},
     "source": [
      "Example 3.8.6, Page number 626"
     ]
    },
    {
     "cell_type": "code",
     "collapsed": false,
     "input": [
      "#Variable declaration\n",
      "MVA = 50.0        #Alternator rating(MVA)\n",
      "kV = 11.0         #Alternator voltage(kV)\n",
      "X = 2.0           #Synchronous reactance per phase(ohm)\n",
      "R = 0.7           #Resistance per phase(ohm)\n",
      "R_n = 5.0         #Resistance through which alternator is earthed(ohm)\n",
      "ofb = 25.0        #Out-of-balance current(%)\n",
      "\n",
      "#Calculation\n",
      "I_fl = MVA*1000/(3**0.5*kV)                      #Full load current(A)\n",
      "I_ofb = ofb/100*I_fl                             #Out-of-balance current(A)\n",
      "x = R_n/((kV*1000/(3**0.5*100*I_ofb))-(R/100))   #Portion of winding unprotected(%)\n",
      "\n",
      "#Result\n",
      "print('Portion of winding unprotected, x = %.f percent' %x)"
     ],
     "language": "python",
     "metadata": {},
     "outputs": [
      {
       "output_type": "stream",
       "stream": "stdout",
       "text": [
        "Portion of winding unprotected, x = 56 percent\n"
       ]
      }
     ],
     "prompt_number": 1
    },
    {
     "cell_type": "heading",
     "level": 2,
     "metadata": {},
     "source": [
      "Example 3.8.7, Page number 626-627"
     ]
    },
    {
     "cell_type": "code",
     "collapsed": false,
     "input": [
      "#Variable declaration\n",
      "MVA = 5.0         #Alternator rating(MVA)\n",
      "kV = 11.0         #Alternator voltage(kV)\n",
      "X = 2.0           #Reactance per phase(ohm)\n",
      "ofb = 35.0        #Out-of-balance current(%)\n",
      "R_n = 5.0         #Resistance through which star point is earthed(ohm)\n",
      "\n",
      "#Calculation\n",
      "I_fl = MVA*1000/(3**0.5*kV)              #Full load current(A)\n",
      "I_ofb = ofb/100*I_fl                     #Out-of-balance current(A)\n",
      "x = I_ofb*R_n*100/(kV*1000/3**0.5)       #Portion of winding unprotected(%)\n",
      "protected = 100.0-x                      #Winding that is protected against earth faults(%)\n",
      "\n",
      "#Result\n",
      "print('Percentage of winding that is protected against earth faults = %.2f percent' %protected)"
     ],
     "language": "python",
     "metadata": {},
     "outputs": [
      {
       "output_type": "stream",
       "stream": "stdout",
       "text": [
        "Percentage of winding that is protected against earth faults = 92.77 percent\n"
       ]
      }
     ],
     "prompt_number": 1
    },
    {
     "cell_type": "heading",
     "level": 2,
     "metadata": {},
     "source": [
      "Example 3.8.8, Page number 627"
     ]
    },
    {
     "cell_type": "code",
     "collapsed": false,
     "input": [
      "#Variable declaration\n",
      "kV = 11.0         #Alternator voltage(kV)\n",
      "P = 100.0         #Alternator maximum rating(MW)\n",
      "PF = 0.8          #Power factor\n",
      "X = 0.1           #Reactance of alternator(pu)\n",
      "i = 500.0         #Current(A)\n",
      "per = 10.0        #Windings unprotected(%)\n",
      "\n",
      "#Calculation\n",
      "I = P*1000/(3**0.5*kV*PF)      #Rated current of alternator(A)\n",
      "a = i/I                        #Relay setting\n",
      "I_n = a*I*100/per              #Current through neutral(A)\n",
      "R = kV*1000/(3**0.5*I_n)       #Magnitude of neutral earthing resistance(ohm)\n",
      "\n",
      "#Result\n",
      "print('Magnitude of neutral earthing resistance, R = %.2f ohm' %R) \n",
      "print('\\nNOTE: ERROR: Unit of resistance is not mentioned in textbook solution')"
     ],
     "language": "python",
     "metadata": {},
     "outputs": [
      {
       "output_type": "stream",
       "stream": "stdout",
       "text": [
        "Magnitude of neutral earthing resistance, R = 1.27 ohm\n",
        "\n",
        "NOTE: ERROR: Unit of resistance is not mentioned in textbook solution\n"
       ]
      }
     ],
     "prompt_number": 1
    }
   ],
   "metadata": {}
  }
 ]
}