{
 "metadata": {
  "name": ""
 },
 "nbformat": 3,
 "nbformat_minor": 0,
 "worksheets": [
  {
   "cells": [
    {
     "cell_type": "heading",
     "level": 1,
     "metadata": {},
     "source": [
      "CHAPTER 4.4: ILLUMINATION"
     ]
    },
    {
     "cell_type": "heading",
     "level": 2,
     "metadata": {},
     "source": [
      "Example 4.4.2, Page number 753"
     ]
    },
    {
     "cell_type": "code",
     "collapsed": false,
     "input": [
      "import math\n",
      "\n",
      "#Variable declaration\n",
      "lumens = 800.0        #Flux emitted by a lamp(lumens)\n",
      "cp = 100.0            #cp of a lamp\n",
      "d = 2.0               #Distance b/w plane surface & lamp(m)\n",
      "theta_ii = 45.0       #Inclined surface(\u00b0)\n",
      "theta_iii = 90.0      #Parallel rays(\u00b0)\n",
      "\n",
      "#Calculation\n",
      "#Case(a)\n",
      "mscp = lumens/(4.0*math.pi)                        #mscp of lamp\n",
      "#Case(b)\n",
      "I_i = cp/d**2                                      #Illumination on the surface when it is normal(lux)\n",
      "I_ii = cp/d**2*math.cos(theta_ii*math.pi/180)      #Illumination on the surface when it is inclined to 45\u00b0(lux)\n",
      "I_iii = cp/d**2*math.cos(theta_iii*math.pi/180)    #Illumination on the surface when it is parallel to rays(lux)\n",
      "\n",
      "#Result\n",
      "print('Case(a): mscp of the lamp, mscp = %.f ' %mscp)\n",
      "print('Case(b): Case(i)  : Illumination on the surface when it is normal, I = %.f lux' %I_i)\n",
      "print('         Case(ii) : Illumination on the surface when it is inclined to 45\u00b0, I = %.3f lux' %I_ii)\n",
      "print('         Case(iii): Illumination on the surface when it is parallel to rays, I = %.f lux' %I_iii)\n",
      "print('\\nNOTE: ERROR: Calculation mistake in case(a) in textbook solution')"
     ],
     "language": "python",
     "metadata": {},
     "outputs": [
      {
       "output_type": "stream",
       "stream": "stdout",
       "text": [
        "Case(a): mscp of the lamp, mscp = 64 \n",
        "Case(b): Case(i)  : Illumination on the surface when it is normal, I = 25 lux\n",
        "         Case(ii) : Illumination on the surface when it is inclined to 45\u00b0, I = 17.678 lux\n",
        "         Case(iii): Illumination on the surface when it is parallel to rays, I = 0 lux\n",
        "\n",
        "NOTE: ERROR: Calculation mistake in case(a) in textbook solution\n"
       ]
      }
     ],
     "prompt_number": 1
    },
    {
     "cell_type": "heading",
     "level": 2,
     "metadata": {},
     "source": [
      "Example 4.4.3, Page number 753-754"
     ]
    },
    {
     "cell_type": "code",
     "collapsed": false,
     "input": [
      "import math\n",
      "\n",
      "#Variable declaration\n",
      "cp = 200.0        #cp of a lamp\n",
      "per = 0.6         #Reflector directing light\n",
      "D = 10.0          #Diameter(m)\n",
      "h = 6.0           #Height at which lamp is hung(m)\n",
      "\n",
      "#Calculation\n",
      "flux = cp*4*math.pi                                 #Flux(lumens)\n",
      "I_i = cp/h**2                                       #Illumination at the centre without reflector(lux)\n",
      "d = (h**2+(D/2)**2)**0.5                            #(m)\n",
      "I_without = (cp/h**2)*(h/d)                         #Illumination at the edge without reflector(lux)\n",
      "I_with = cp*4*math.pi*per/(25*math.pi)              #Illumination at the edge with reflector(lux)\n",
      "theta = math.acos(h/d)*180/math.pi                  #\u03b8(\u00b0)\n",
      "w = 2.0*math.pi*(1-math.cos(theta/2*math.pi/180))   #\u03c9(steradian)\n",
      "phi = cp*w                                          #\u03a6(lumens)\n",
      "I_avg = phi/(25*math.pi)                            #Average illumination over the area without reflector(lux)\n",
      "\n",
      "#Result\n",
      "print('Case(i) : Illumination at the centre without reflector = %.2f lux' %I_i)\n",
      "print('          Illumination at the centre with reflector = %.1f lux' %I_with)\n",
      "print('Case(ii): Illumination at the edge of the surface without reflector = %.2f lux' %I_without)\n",
      "print('          Illumination at the edge of the surface with reflector = %.1f lux' %I_with)\n",
      "print('Average illumination over the area without the reflector, I  = %.3f lux' %I_avg)\n",
      "print('\\nNOTE: ERROR: Slight calculation mistake & more approximation in textbook solution')"
     ],
     "language": "python",
     "metadata": {},
     "outputs": [
      {
       "output_type": "stream",
       "stream": "stdout",
       "text": [
        "Case(i) : Illumination at the centre without reflector = 5.56 lux\n",
        "          Illumination at the centre with reflector = 19.2 lux\n",
        "Case(ii): Illumination at the edge of the surface without reflector = 4.27 lux\n",
        "          Illumination at the edge of the surface with reflector = 19.2 lux\n",
        "Average illumination over the area without the reflector, I  = 0.956 lux\n",
        "\n",
        "NOTE: ERROR: Slight calculation mistake & more approximation in textbook solution\n"
       ]
      }
     ],
     "prompt_number": 1
    },
    {
     "cell_type": "heading",
     "level": 2,
     "metadata": {},
     "source": [
      "Example 4.4.4, Page number 754"
     ]
    },
    {
     "cell_type": "code",
     "collapsed": false,
     "input": [
      "from sympy import *\n",
      "\n",
      "#Variable declaration\n",
      "l = Symbol('l')          #Length\n",
      "h = Symbol('h')          #Height\n",
      "\n",
      "#Calculation\n",
      "I_B = h/(l**2+h**2)**(3.0/2)    #Illumination\n",
      "ans = diff(I_B,h)               #Differentiating to obtain maximum I_B\n",
      "equ = solve(ans,h)\n",
      "h = equ[1]                      #Feasible solution for h\n",
      "\n",
      "#Result\n",
      "print('Height at which a light having uniform spherical distribution should be placed, h = ' + repr(h) + '')"
     ],
     "language": "python",
     "metadata": {},
     "outputs": [
      {
       "output_type": "stream",
       "stream": "stdout",
       "text": [
        "Height at which a light having uniform spherical distribution should be placed, h = 0.707106781186548*l\n"
       ]
      }
     ],
     "prompt_number": 1
    },
    {
     "cell_type": "heading",
     "level": 2,
     "metadata": {},
     "source": [
      "Example 4.4.5, Page number 754"
     ]
    },
    {
     "cell_type": "code",
     "collapsed": false,
     "input": [
      "import math\n",
      "\n",
      "#Variable declaration\n",
      "flux = 900.0       #Lamp emitting light(lumens)\n",
      "D = 30.5           #Diameter of globe(cm)\n",
      "B = 250.0*10**-3   #Uniform brightness(Ambert)\n",
      "\n",
      "#Calculation\n",
      "cp = math.pi/4*D**2*(B/math.pi)    #Candle power\n",
      "flux_emit = cp*4*math.pi           #Flux emitted by globe(lumens)\n",
      "flux_abs = flux-flux_emit          #Flux absorbed by globe(lumens)\n",
      "light_abs_per = flux_abs/flux*100  #Light absorbed(%)\n",
      "\n",
      "#Result\n",
      "print('cp of the globe = %.f ' %cp)\n",
      "print('Percentage of light emitted by lamp that is absorbed by the globe = %.1f percent' %light_abs_per)\n",
      "print('\\nNOTE: Changes in the obtained answer from that of textbook is due to more precision here & approximation in textbook solution')"
     ],
     "language": "python",
     "metadata": {},
     "outputs": [
      {
       "output_type": "stream",
       "stream": "stdout",
       "text": [
        "cp of the globe = 58 \n",
        "Percentage of light emitted by lamp that is absorbed by the globe = 18.8 percent\n",
        "\n",
        "NOTE: Changes in the obtained answer from that of textbook is due to more precision here & approximation in textbook solution\n"
       ]
      }
     ],
     "prompt_number": 1
    },
    {
     "cell_type": "heading",
     "level": 2,
     "metadata": {},
     "source": [
      "Example 4.4.6, Page number 754-755"
     ]
    },
    {
     "cell_type": "code",
     "collapsed": false,
     "input": [
      "import math\n",
      "%matplotlib inline\n",
      "from matplotlib.pyplot import plot,title,xlabel,ylabel,text,axis,show\n",
      "\n",
      "#Variable declaration\n",
      "cp_0 = 500.0      #Candle power\n",
      "theta_0 = 0.0     #\u03b8(\u00b0)\n",
      "cp_1 = 560.0      #Candle power\n",
      "theta_1 = 10.0    #\u03b8(\u00b0)\n",
      "cp_2 = 600.0      #Candle power\n",
      "theta_2 = 20.0    #\u03b8(\u00b0)\n",
      "cp_3 = 520.0      #Candle power\n",
      "theta_3 = 30.0    #\u03b8(\u00b0)\n",
      "cp_4 = 400.0      #Candle power\n",
      "theta_4 = 40.0    #\u03b8(\u00b0)\n",
      "cp_5 = 300.0      #Candle power\n",
      "theta_5 = 50.0    #\u03b8(\u00b0)\n",
      "cp_6 = 150.0      #Candle power\n",
      "theta_6 = 60.0    #\u03b8(\u00b0)\n",
      "cp_7 = 50.0       #Candle power\n",
      "theta_7 = 70.0    #\u03b8(\u00b0)\n",
      "h = 6.0           #Height of lamp(m)\n",
      "\n",
      "#Calculation\n",
      "I_0 = cp_0/h**2*(math.cos(theta_0*math.pi/180))**3    #Illumination(lux)\n",
      "l_0 = h*math.tan(theta_0*math.pi/180)                 #Distance(m)\n",
      "I_1 = cp_1/h**2*(math.cos(theta_1*math.pi/180))**3    #Illumination(lux)\n",
      "l_1 = h*math.tan(theta_1*math.pi/180)                 #Distance(m)\n",
      "I_2 = cp_2/h**2*(math.cos(theta_2*math.pi/180))**3    #Illumination(lux)\n",
      "l_2 = h*math.tan(theta_2*math.pi/180)                 #Distance(m)\n",
      "I_3 = cp_3/h**2*(math.cos(theta_3*math.pi/180))**3    #Illumination(lux)\n",
      "l_3 = h*math.tan(theta_3*math.pi/180)                 #Distance(m)\n",
      "I_4 = cp_4/h**2*(math.cos(theta_4*math.pi/180))**3    #Illumination(lux)\n",
      "l_4 = h*math.tan(theta_4*math.pi/180)                 #Distance(m)\n",
      "I_5 = cp_5/h**2*(math.cos(theta_5*math.pi/180))**3    #Illumination(lux)\n",
      "l_5 = h*math.tan(theta_5*math.pi/180)                 #Distance(m)\n",
      "I_6 = cp_6/h**2*(math.cos(theta_6*math.pi/180))**3    #Illumination(lux)\n",
      "l_6 = h*math.tan(theta_6*math.pi/180)                 #Distance(m)\n",
      "I_7 = cp_7/h**2*(math.cos(theta_7*math.pi/180))**3    #Illumination(lux)\n",
      "l_7 = h*math.tan(theta_7*math.pi/180)                 #Distance(m)\n",
      "plot(\n",
      "          [-l_7,-l_6,-l_5,-l_4,-l_3,-l_2,-l_1,l_0,l_0,l_1,l_2,l_3,l_4,l_5,l_6,l_7],\n",
      "          [I_7,I_6,I_5,I_4,I_3,I_2,I_1,I_0,I_0,I_1,I_2,I_3,I_4,I_5,I_6,I_7],\n",
      "          color='b', marker = 'o'\n",
      "          )                                           #Plotting curve\n",
      "plot(\n",
      "         [0,0,0,0,0,0],\n",
      "         [0,5,10,11,14,16],\n",
      "         color='y'\n",
      "         )                                            #Representing normal \n",
      "axis([-18,18,0,16])\n",
      "title('Illumination curve')\n",
      "xlabel('Distance(metres)')\n",
      "ylabel('Illumination(flux)')\n",
      "show()\n",
      "\n",
      "#Result\n",
      "print('The curve showing illumination on a horizontal line below lamp is shown in above Figure')"
     ],
     "language": "python",
     "metadata": {},
     "outputs": [
      {
       "metadata": {},
       "output_type": "display_data",
       "png": "[encoded data removed]",
       "text": [
        "<matplotlib.figure.Figure at 0x78254a8>"
       ]
      },
      {
       "output_type": "stream",
       "stream": "stdout",
       "text": [
        "The curve showing illumination on a horizontal line below lamp is shown in above Figure\n"
       ]
      }
     ],
     "prompt_number": 1
    },
    {
     "cell_type": "heading",
     "level": 2,
     "metadata": {},
     "source": [
      "Example 4.4.7, Page number 755"
     ]
    },
    {
     "cell_type": "code",
     "collapsed": false,
     "input": [
      "import math\n",
      "\n",
      "#Variable declaration\n",
      "d = 9.15       #Lamp space(m)\n",
      "h = 4.575      #Height(m)\n",
      "P = 100.0      #Power(candle)\n",
      "\n",
      "#Calculation\n",
      "theta_3_max = 0                                                                          #\u03b8(\u00b0)\n",
      "cos_theta_3_max_cubic = math.cos(theta_3_max*math.pi/180)**3\n",
      "theta_4_max = math.atan(2)*180/math.pi                                                   #\u03b8(\u00b0)\n",
      "cos_theta_4_max_cubic = math.cos(theta_4_max*math.pi/180)**3\n",
      "theta_5_max = math.atan(4)*180/math.pi                                                   #\u03b8(\u00b0)\n",
      "cos_theta_5_max_cubic = math.cos(theta_5_max*math.pi/180)**3\n",
      "theta_6_max = math.atan(6)*180/math.pi                                                   #\u03b8(\u00b0)\n",
      "cos_theta_6_max_cubic = math.cos(theta_6_max*math.pi/180)**3\n",
      "I_max = P/h**2*(cos_theta_3_max_cubic+2*cos_theta_4_max_cubic+2*cos_theta_5_max_cubic+2*cos_theta_6_max_cubic)   #Max illumination(lux)\n",
      "theta_4_min = math.atan(1)*180/math.pi                                                   #\u03b8(\u00b0)\n",
      "cos_theta_4_min_cubic = math.cos(theta_4_min*math.pi/180)**3\n",
      "theta_5_min = math.atan(3)*180/math.pi                                                   #\u03b8(\u00b0)\n",
      "cos_theta_5_min_cubic = math.cos(theta_5_min*math.pi/180)**3\n",
      "theta_6_min = math.atan(5)*180/math.pi                                                   #\u03b8(\u00b0)\n",
      "cos_theta_6_min_cubic = math.cos(theta_6_min*math.pi/180)**3\n",
      "I_min = P/h**2*2*(cos_theta_4_min_cubic+cos_theta_5_min_cubic+cos_theta_6_min_cubic)     #Minimum illumination(lux)\n",
      "\n",
      "#Result\n",
      "print('Maximum illumination on the floor along the centre line = %.2f lux' %I_max)\n",
      "print('Minimum illumination on the floor along the centre line = %.2f lux' %I_min)"
     ],
     "language": "python",
     "metadata": {},
     "outputs": [
      {
       "output_type": "stream",
       "stream": "stdout",
       "text": [
        "Maximum illumination on the floor along the centre line = 5.81 lux\n",
        "Minimum illumination on the floor along the centre line = 3.75 lux\n"
       ]
      }
     ],
     "prompt_number": 1
    },
    {
     "cell_type": "heading",
     "level": 2,
     "metadata": {},
     "source": [
      "Example 4.4.8, Page number 758"
     ]
    },
    {
     "cell_type": "code",
     "collapsed": false,
     "input": [
      "#Variable declaration\n",
      "b = 15.25     #Breadth of workshop(m)\n",
      "l = 36.6      #Length of workshop(m)\n",
      "no = 20.0     #Number of lamps\n",
      "P = 500.0     #Power of each lamp(W)\n",
      "n = 15.0      #Luminous efficiency of each lamp(lumens/watt)\n",
      "df = 0.7      #Depreciation factor\n",
      "cou = 0.5     #Co-efficient of utilization\n",
      "\n",
      "#Calculation\n",
      "lumen_lamp = no*P*n                #Lamp lumens\n",
      "lumen_plane = lumen_lamp*df*cou    #Lumens on the working plane\n",
      "I = lumen_plane/(l*b)              #Illumination(lm/sq.m)\n",
      "\n",
      "#Result\n",
      "print('Illumination on the working plane = %.1f lm per sq.m' %I)\n",
      "print('\\nNOTE: ERROR: The breadth should be 15.25m but mentioned as 5.25m in textbook statement')"
     ],
     "language": "python",
     "metadata": {},
     "outputs": [
      {
       "output_type": "stream",
       "stream": "stdout",
       "text": [
        "Illumination on the working plane = 94.1 lm per sq.m\n",
        "\n",
        "NOTE: ERROR: The breadth should be 15.25m but mentioned as 5.25m in textbook statement\n"
       ]
      }
     ],
     "prompt_number": 1
    },
    {
     "cell_type": "heading",
     "level": 2,
     "metadata": {},
     "source": [
      "Example 4.4.9, Page number 758-759"
     ]
    },
    {
     "cell_type": "code",
     "collapsed": false,
     "input": [
      "#Variable declaration\n",
      "b = 27.45      #Breadth of hall(m)\n",
      "l = 45.75      #Length of hall(m)\n",
      "I_avg = 108.0  #Average illumination(lumens/sq.m)\n",
      "h = 0.75       #Height(m)\n",
      "cou = 0.35     #Co-efficient of utilization\n",
      "pf = 0.9       #Pereciation factor\n",
      "P_fl = 80.0    #Fluorescent lamp power(W)\n",
      "n_100 = 13.4   #Luminous efficiency for 100W filament lamp(lumens/watt)\n",
      "n_200 = 14.4   #Luminous efficiency for 200W filament lamp(lumens/watt)\n",
      "n_80 = 30.0    #Luminous efficiency for 80W fluorescent lamp(lumens/watt)\n",
      "\n",
      "#Calculation\n",
      "area = b*l                                   #Area to be illuminated(Sq.m)\n",
      "I_total = area*I_avg                         #Total illumination on working plane(lumens)\n",
      "gross_lumen = I_total/(cou*pf)               #Gross lumens required\n",
      "P_required = gross_lumen/n_200               #Power required for illumination(W)\n",
      "P_required_kW = P_required/1000              #Power required for illumination(kW)\n",
      "no_lamp = P_required/200                     #Number of lamps\n",
      "P_required_new = gross_lumen/n_80            #Power required when fluorescent lamp used(W)\n",
      "P_required_new_kW = P_required_new/1000      #Power required when fluorescent lamp used(kW)\n",
      "P_saving = P_required_kW-P_required_new_kW   #Saving in power(kW)\n",
      "\n",
      "#Result\n",
      "print('Suitable scheme: Whole area divided into %.f rectangles & 200-watt fitting is suspended at centre of each rectangle' %no_lamp)\n",
      "print('Saving in power consumption = %.f kW' %P_saving)"
     ],
     "language": "python",
     "metadata": {},
     "outputs": [
      {
       "output_type": "stream",
       "stream": "stdout",
       "text": [
        "Suitable scheme: Whole area divided into 150 rectangles & 200-watt fitting is suspended at centre of each rectangle\n",
        "Saving in power consumption = 16 kW\n"
       ]
      }
     ],
     "prompt_number": 1
    }
   ],
   "metadata": {}
  }
 ]
}