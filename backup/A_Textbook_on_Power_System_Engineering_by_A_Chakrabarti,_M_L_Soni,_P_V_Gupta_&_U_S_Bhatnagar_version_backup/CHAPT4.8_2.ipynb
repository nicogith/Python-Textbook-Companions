{
 "metadata": {
  "name": ""
 },
 "nbformat": 3,
 "nbformat_minor": 0,
 "worksheets": [
  {
   "cells": [
    {
     "cell_type": "heading",
     "level": 1,
     "metadata": {},
     "source": [
      "CHAPTER 4.8: BRAKING"
     ]
    },
    {
     "cell_type": "heading",
     "level": 2,
     "metadata": {},
     "source": [
      "Example 4.8.1, Page number 806"
     ]
    },
    {
     "cell_type": "code",
     "collapsed": false,
     "input": [
      "#Variable declaration\n",
      "V = 525.0    #Voltage of motor(V)\n",
      "I_1 = 50.0   #Current(A)\n",
      "T_1 = 216.0  #Torque(N-m)\n",
      "I_2 = 70.0   #Current(A)\n",
      "T_2 = 344.0  #Torque(N-m)\n",
      "I_3 = 80.0   #Current(A)\n",
      "T_3 = 422.0  #Torque(N-m)\n",
      "I_4 = 90.0   #Current(A)\n",
      "T_4 = 500.0  #Torque(N-m)\n",
      "V_m = 26.0   #Speed(kmph)\n",
      "R_b = 5.5    #Resistance of braking rheostat(ohm)\n",
      "R_m = 0.5    #Resistance of motor(ohm)\n",
      "\n",
      "#Calculation\n",
      "I = 75.0                #Current drawn at 26 kmph(A)\n",
      "back_emf = V-I*R_m      #Back emf of the motor(V)\n",
      "R_t = R_b+R_m           #Total resistance(ohm)\n",
      "I_del = back_emf/R_t    #Current delivered(A)\n",
      "T_b = T_3*I_del/I_3     #Braking torque(N-m)\n",
      "\n",
      "#Result\n",
      "print('Braking torque = %.f N-m' %T_b)"
     ],
     "language": "python",
     "metadata": {},
     "outputs": [
      {
       "output_type": "stream",
       "stream": "stdout",
       "text": [
        "Braking torque = 429 N-m\n"
       ]
      }
     ],
     "prompt_number": 1
    },
    {
     "cell_type": "heading",
     "level": 2,
     "metadata": {},
     "source": [
      "Example 4.8.2, Page number 806"
     ]
    },
    {
     "cell_type": "code",
     "collapsed": false,
     "input": [
      "#Variable declaration\n",
      "V = 525.0      #Voltage of motor(V)\n",
      "I_1 = 50.0     #Current(A)\n",
      "N_1 = 1200.0   #Speed(rpm)\n",
      "I_2 = 100.0    #Current(A)\n",
      "N_2 = 950.0    #Speed(rpm)\n",
      "I_3 = 150.0    #Current(A)\n",
      "N_3 = 840.0    #Speed(rpm)\n",
      "I_4 = 200.0    #Current(A)\n",
      "N_4 = 745.0    #Speed(rpm)\n",
      "N = 1000.0     #Speed opearting(rpm)\n",
      "R = 3.0        #Resistance(ohm)\n",
      "R_m = 0.5      #Resistance of motor(ohm)\n",
      "\n",
      "#Calculation\n",
      "I = 85.0                #Current drawn at 1000 rpm(A)\n",
      "back_emf = V-I*R_m      #Back emf of the motor(V)\n",
      "R_t = R+R_m             #Total resistance(ohm)\n",
      "I_del = back_emf/R_t    #Current delivered(A)\n",
      "\n",
      "#Result\n",
      "print('Current delivered when motor works as generator = %.f A' %I_del)"
     ],
     "language": "python",
     "metadata": {},
     "outputs": [
      {
       "output_type": "stream",
       "stream": "stdout",
       "text": [
        "Current delivered when motor works as generator = 138 A\n"
       ]
      }
     ],
     "prompt_number": 1
    },
    {
     "cell_type": "heading",
     "level": 2,
     "metadata": {},
     "source": [
      "Example 4.8.3, Page number 810"
     ]
    },
    {
     "cell_type": "code",
     "collapsed": false,
     "input": [
      "#Variable declaration\n",
      "W = 400.0       #Weight of train(tonne)\n",
      "G = 100.0/70    #Gradient(%)\n",
      "t = 120.0       #Time(sec)\n",
      "V_1 = 80.0      #Speed(km/hr)\n",
      "V_2 = 50.0      #Speed(km/hr)\n",
      "r_kg = 5.0      #Tractive resistance(kg/tonne)\n",
      "I = 7.5         #Rotational inertia(%)\n",
      "n = 0.75        #Overall efficiency\n",
      "\n",
      "#Calculation \n",
      "W_e = W*(100+I)/100                                      #Accelerating weight of train(tonne)\n",
      "r = r_kg*9.81                                            #Tractive resistance(N-m/tonne)\n",
      "energy_recuperation = 0.01072*W_e*(V_1**2-V_2**2)/1000   #Energy available for recuperation(kWh)\n",
      "F_t = W*(r-98.1*G)                                       #Tractive effort during retardation(N)\n",
      "distance = (V_1+V_2)*1000*t/(2*3600)                     #Distance travelled by train during retardation period(m)\n",
      "energy_train = abs(F_t)*distance/(3600*1000)             #Energy available during train movement(kWh)\n",
      "net_energy = n*(energy_recuperation+energy_train)        #Net energy returned to supply system(kWh)\n",
      "\n",
      "#Result\n",
      "print('Energy returned to lines = %.2f kWh' %net_energy)\n",
      "print('\\nNOTE: ERROR: Calculation mistakes & more approximation in textbook solution')"
     ],
     "language": "python",
     "metadata": {},
     "outputs": [
      {
       "output_type": "stream",
       "stream": "stdout",
       "text": [
        "Energy returned to lines = 29.93 kWh\n",
        "\n",
        "NOTE: ERROR: Calculation mistakes & more approximation in textbook solution\n"
       ]
      }
     ],
     "prompt_number": 1
    },
    {
     "cell_type": "heading",
     "level": 2,
     "metadata": {},
     "source": [
      "Example 4.8.4, Page number 810"
     ]
    },
    {
     "cell_type": "code",
     "collapsed": false,
     "input": [
      "#Variable declaration\n",
      "W = 355.0        #Weight of train(tonne)\n",
      "V_1 = 80.5       #Speed(km/hr)\n",
      "V_2 = 48.3       #Speed(km/hr)\n",
      "D = 1.525        #Distance(km)\n",
      "G = 100.0/90     #Gradient(%)\n",
      "I = 10.0         #Rotational inertia(%)\n",
      "r = 53.0         #Tractive resistance(N/tonne)\n",
      "n = 0.8          #Overall efficiency\n",
      "\n",
      "#Calculation \n",
      "beta = (V_1**2-V_2**2)/(2*D*3600)   #Braking retardation(km phps)\n",
      "W_e = W*(100+I)/100                 #Accelerating weight of train(tonne)\n",
      "F_t = 277.8*W_e*beta+98.1*W*G-W*r   #Tractive effort(N)\n",
      "work_done = F_t*D*1000              #Work done by this effort(N-m)\n",
      "energy = work_done*n/(1000*3600)    #Energy returned to line(kWh)\n",
      "\n",
      "#Result\n",
      "print('Energy returned to the line = %.1f kWh' %energy)"
     ],
     "language": "python",
     "metadata": {},
     "outputs": [
      {
       "output_type": "stream",
       "stream": "stdout",
       "text": [
        "Energy returned to the line = 20.6 kWh\n"
       ]
      }
     ],
     "prompt_number": 1
    },
    {
     "cell_type": "heading",
     "level": 2,
     "metadata": {},
     "source": [
      "Example 4.8.5, Page number 811-812"
     ]
    },
    {
     "cell_type": "code",
     "collapsed": false,
     "input": [
      "import math\n",
      "\n",
      "#Variable declaration\n",
      "area = 16.13       #Area of brakes(sq.cm/pole face)\n",
      "phi = 2.5*10**-3   #Flux(Wb)\n",
      "u = 0.2            #Co-efficient of friction\n",
      "W = 10.0           #Weight of car(tonnes)\n",
      "\n",
      "#Calculation \n",
      "a = area*10**-4                   #Area of brakes(sq.m/pole face)\n",
      "F = phi**2/(2*math.pi*10**-7*a)   #Force(N)\n",
      "beta = u*F/(W*1000)*100           #Beta(cm/sec^2)\n",
      "\n",
      "#Result\n",
      "print('Braking effect, \u03b2 = %.2f cm/sec^2' %beta)"
     ],
     "language": "python",
     "metadata": {},
     "outputs": [
      {
       "output_type": "stream",
       "stream": "stdout",
       "text": [
        "Braking effect, \u03b2 = 12.33 cm/sec^2\n"
       ]
      }
     ],
     "prompt_number": 1
    }
   ],
   "metadata": {}
  }
 ]
}