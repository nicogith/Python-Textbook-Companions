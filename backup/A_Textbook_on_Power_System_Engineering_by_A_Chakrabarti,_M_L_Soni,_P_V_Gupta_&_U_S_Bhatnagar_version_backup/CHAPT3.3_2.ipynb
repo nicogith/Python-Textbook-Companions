{
 "metadata": {
  "name": ""
 },
 "nbformat": 3,
 "nbformat_minor": 0,
 "worksheets": [
  {
   "cells": [
    {
     "cell_type": "heading",
     "level": 1,
     "metadata": {},
     "source": [
      "CHAPTER 3.3: SYMMETRICAL COMPONENTS' ANALYSIS"
     ]
    },
    {
     "cell_type": "heading",
     "level": 2,
     "metadata": {},
     "source": [
      "Example 3.3.1, Page number 487-488"
     ]
    },
    {
     "cell_type": "code",
     "collapsed": false,
     "input": [
      "import math\n",
      "import cmath\n",
      "\n",
      "#Variable declaration\n",
      "I_R = complex(12.0,24.0)    #Line current(A)\n",
      "I_Y = complex(16.0,-2.0)    #Line current(A)\n",
      "I_B = complex(-4.0,-6.0)    #Line current(A)\n",
      "\n",
      "#Calculation\n",
      "alpha = cmath.exp(1j*120.0*math.pi/180)      #Operator\n",
      "I_R0 = 1.0/3*(I_R+I_Y+I_B)                   #Zero sequence component(A)\n",
      "I_R1 = 1.0/3*(I_R+alpha*I_Y+alpha**2*I_B)    #Positive sequence component(A)\n",
      "I_R2 = 1.0/3*(I_R+alpha**2*I_Y+alpha*I_B)    #Negative sequence component(A)\n",
      "\n",
      "#Result\n",
      "print('Positive sequence current, I_R1 = (%.3f + %.1fj) A' %(I_R1.real,I_R1.imag))\n",
      "print('Negative sequence current, I_R2 = (%.3f + %.2fj) A' %(I_R2.real,I_R2.imag))\n",
      "print('Zero sequence current, I_R0 = (%.1f + %.2fj) A' %(I_R0.real,I_R0.imag))"
     ],
     "language": "python",
     "metadata": {},
     "outputs": [
      {
       "output_type": "stream",
       "stream": "stdout",
       "text": [
        "Positive sequence current, I_R1 = (0.845 + 15.1j) A\n",
        "Negative sequence current, I_R2 = (3.155 + 3.56j) A\n",
        "Zero sequence current, I_R0 = (8.0 + 5.33j) A\n"
       ]
      }
     ],
     "prompt_number": 1
    },
    {
     "cell_type": "heading",
     "level": 2,
     "metadata": {},
     "source": [
      "Example 3.3.4, Page number 489-490"
     ]
    },
    {
     "cell_type": "code",
     "collapsed": false,
     "input": [
      "import math\n",
      "import cmath\n",
      "\n",
      "#Variable declaration\n",
      "R_bc = 5.0    #Resistance of resistor connected b/w b & c(ohm)\n",
      "R_ca = 10.0   #Resistance of resistor connected b/w c & a(ohm)\n",
      "R_ab = 20.0   #Resistance of resistor connected b/w a & b(ohm)\n",
      "V = 100.0     #Voltage of balanced system(V)\n",
      "\n",
      "#Calculation\n",
      "E_A = -V                                     #Voltage across resistor connected b/w b & c(V)\n",
      "angle = 60.0                                 #Angle in delta system(\u00b0)\n",
      "E_B = V*cmath.exp(1j*60.0*math.pi/180)       #Voltage across resistor connected b/w c & a(V)\n",
      "E_C = V*cmath.exp(1j*-60.0*math.pi/180)      #Voltage across resistor connected b/w a & b(V)\n",
      "I_A = E_A/R_bc                               #Current flowing across resistor connected b/w b & c(A)\n",
      "I_B = E_B/R_ca                               #Current flowing across resistor connected b/w c & a(A)\n",
      "I_C = E_C/R_ab                               #Current flowing across resistor connected b/w a & b(A)\n",
      "alpha = cmath.exp(1j*120.0*math.pi/180)      #Operator\n",
      "I_A0 = 1.0/3*(I_A+I_B+I_C)                   #Zero sequence delta current(A)\n",
      "I_A1 = 1.0/3*(I_A+alpha*I_B+alpha**2*I_C)    #Positive sequence delta current(A)\n",
      "I_A2 = 1.0/3*(I_A+alpha**2*I_B+alpha*I_C)    #Negative sequence delta current(A)\n",
      "I_a0 = 0.0                                   #Zero sequence star current(A)\n",
      "I_a1 = (alpha-alpha**2)*I_A1                 #Positive sequence star current(A)\n",
      "I_a2 = (alpha**2-alpha)*I_A2                 #Negative sequence star current(A)\n",
      "\n",
      "#Result\n",
      "print('Current in the resistors are:')\n",
      "print(' I_A = (%.f+%.fj) A' %(I_A.real,I_A.imag))\n",
      "print(' I_B = (%.f+%.2fj) A' %(I_B.real,I_B.imag))\n",
      "print(' I_C = (%.1f%.2fj) A' %(I_C.real,I_C.imag))\n",
      "print('Sequence components of currents in the resistors:')\n",
      "print(' Zero-sequence current, I_A0 = (%.3f+%.2fj) A' %(I_A0.real,I_A0.imag))\n",
      "print(' Positive-sequence current, I_A1 = (%.2f+%.fj) A' %(I_A1.real,I_A1.imag))\n",
      "print(' Negative-sequence current, I_A2 = (%.2f%.2fj) A' %(I_A2.real,I_A2.imag))\n",
      "print('Sequence components of currents in the supply lines:')\n",
      "print(' Zero-sequence current, I_a0 = %.f A' %I_a0)\n",
      "print(' Positive-sequence current, I_a1 = %.1fj A' %I_a1.imag)\n",
      "print(' Negative-sequence current, I_a2 = (%.1f+%.2fj) A' %(I_a2.real,I_a2.imag))"
     ],
     "language": "python",
     "metadata": {},
     "outputs": [
      {
       "output_type": "stream",
       "stream": "stdout",
       "text": [
        "Current in the resistors are:\n",
        " I_A = (-20+0j) A\n",
        " I_B = (5+8.66j) A\n",
        " I_C = (2.5-4.33j) A\n",
        "Sequence components of currents in the resistors:\n",
        " Zero-sequence current, I_A0 = (-4.167+1.44j) A\n",
        " Positive-sequence current, I_A1 = (-11.67+0j) A\n",
        " Negative-sequence current, I_A2 = (-4.17-1.44j) A\n",
        "Sequence components of currents in the supply lines:\n",
        " Zero-sequence current, I_a0 = 0 A\n",
        " Positive-sequence current, I_a1 = -20.2j A\n",
        " Negative-sequence current, I_a2 = (-2.5+7.22j) A\n"
       ]
      }
     ],
     "prompt_number": 1
    },
    {
     "cell_type": "heading",
     "level": 2,
     "metadata": {},
     "source": [
      "Example 3.3.5, Page number 490-491"
     ]
    },
    {
     "cell_type": "code",
     "collapsed": false,
     "input": [
      "import math\n",
      "import cmath\n",
      "\n",
      "#Variable declaration\n",
      "E_a = 100.0    #Line to line voltage(V)\n",
      "E_b = 150.0    #Line to line voltage(V)\n",
      "E_c = 200.0    #Line to line voltage(V)\n",
      "\n",
      "#Calculation\n",
      "e_A = 1.0                                         #100 V = 1 unit\n",
      "e_B = 1.5                                         #150 V = 1 unit\n",
      "e_C = 2.0                                         #200 V = 1 unit\n",
      "cos_alpha = (e_C**2-e_A-e_B**2)/(2*e_B)\n",
      "alpha = math.acos(cos_alpha)*180/math.pi          #angle(\u00b0)\n",
      "cos_beta = (e_A+e_B*cos_alpha)/e_C\n",
      "beta = math.acos(cos_beta)*180/math.pi            #angle(\u00b0)\n",
      "E_A = E_a*cmath.exp(1j*180.0*math.pi/180)         #Voltage(V)\n",
      "E_B = E_b*cmath.exp(1j*(180.0-alpha)*math.pi/180) #Voltage(V)\n",
      "E_C = E_c*cmath.exp(1j*-beta*math.pi/180)         #Voltage(V)\n",
      "a = cmath.exp(1j*120.0*math.pi/180)               #Operator\n",
      "E_A0 = 1.0/3*(E_A+E_B+E_C)                        #Zero sequence voltage(V)\n",
      "E_A1 = 1.0/3*(E_A+a*E_B+a**2*E_C)                 #Positive sequence delta voltage(V)\n",
      "E_A1_mag = abs(E_A1)                              #Magnitude of positive sequence delta voltage(V)\n",
      "E_a1 = -1j/3**0.5*E_A1                            #Positive sequence star voltage(V)\n",
      "E_a1_mag = abs(E_a1)                              #Magnitude of positive sequence star voltage(V)\n",
      "E_A2 = 1.0/3*(E_A+a**2*E_B+a*E_C)                 #Negative sequence delta voltage(V)\n",
      "E_A2_mag = abs(E_A2)                              #Magnitude of negative sequence delta voltage(V)\n",
      "E_a2 = 1j/3**0.5*E_A2                             #Negative sequence star voltage(V)\n",
      "E_a2_mag = abs(E_a2)                              #Magnitude of negative sequence star voltage(V)\n",
      "\n",
      "#Result\n",
      "print('Magnitude of positive sequence delta voltage, |E_A1| = %.f V' %E_A1_mag)\n",
      "print('Magnitude of positive sequence star voltage, |E_a1| = %.1f V' %E_a1_mag)\n",
      "print('Magnitude of negative sequence delta voltage, |E_A2| = %.f V' %E_A2_mag)\n",
      "print('Magnitude of negative sequence star voltage, |E_a2| = %.f V' %E_a2_mag)"
     ],
     "language": "python",
     "metadata": {},
     "outputs": [
      {
       "output_type": "stream",
       "stream": "stdout",
       "text": [
        "Magnitude of positive sequence delta voltage, |E_A1| = 143 V\n",
        "Magnitude of positive sequence star voltage, |E_a1| = 82.6 V\n",
        "Magnitude of negative sequence delta voltage, |E_A2| = 61 V\n",
        "Magnitude of negative sequence star voltage, |E_a2| = 35 V\n"
       ]
      }
     ],
     "prompt_number": 1
    },
    {
     "cell_type": "heading",
     "level": 2,
     "metadata": {},
     "source": [
      "Example 3.3.6, Page number 491-492"
     ]
    },
    {
     "cell_type": "code",
     "collapsed": false,
     "input": [
      "import math\n",
      "import cmath\n",
      "\n",
      "#Variable declaration\n",
      "V = 2300.0                                       #Rated voltage(V)\n",
      "kVA = 500.0                                      #kVA rating\n",
      "E_A = 2760.0*cmath.exp(1j*0*math.pi/180)         #Line voltage(V)\n",
      "E_B = 2300.0*cmath.exp(1j*-138.6*math.pi/180)    #Line voltage(V)\n",
      "E_C = 1840.0*cmath.exp(1j*124.2*math.pi/180)     #Line voltage(V)\n",
      "\n",
      "#Calculation\n",
      "a = cmath.exp(1j*120.0*math.pi/180)        #Operator\n",
      "E_A1 = 1.0/3*(E_A+a*E_B+a**2*E_C)          #Positive sequence voltage(V)\n",
      "E_A2 = 1.0/3*(E_A+a**2*E_B+a*E_C)          #Negative sequence voltage(V)\n",
      "E_a1 = -1j/3**0.5*E_A1                     #Positive sequence star voltage(V)\n",
      "E_a2 = 1j/3**0.5*E_A2                      #Negative sequence star voltage(V)\n",
      "E_a0 = 0.0                                 #Zero sequence voltage(V)\n",
      "E_a = E_a1+E_a2+E_a0                       #Symmetrical voltage component(V)\n",
      "R = V**2/(kVA*1000)                        #Resistance(ohm)\n",
      "I_a = abs(E_a)/R                           #Current in line a(A)\n",
      "E_b = a**2*E_a1+a*E_a2+E_a0                #Symmetrical voltage component(V)\n",
      "I_b = abs(E_b)/R                           #Current in line b(A)\n",
      "E_c = a*E_a1+a**2*E_a2+E_a0                #Symmetrical voltage component(V)\n",
      "I_c = abs(E_c)/R                           #Current in line c(A)\n",
      "\n",
      "#Result\n",
      "print('Current in line a, I_a = %.1f A' %I_a)\n",
      "print('Current in line b, I_b = %.f A' %I_b)\n",
      "print('Current in line c, I_c = %.1f A' %I_c)\n",
      "print('\\nNOTE: Changes in the obtained answer from that of textbook is due to more precision here')"
     ],
     "language": "python",
     "metadata": {},
     "outputs": [
      {
       "output_type": "stream",
       "stream": "stdout",
       "text": [
        "Current in line a, I_a = 98.3 A\n",
        "Current in line b, I_b = 129 A\n",
        "Current in line c, I_c = 149.2 A\n",
        "\n",
        "NOTE: Changes in the obtained answer from that of textbook is due to more precision here\n"
       ]
      }
     ],
     "prompt_number": 1
    },
    {
     "cell_type": "heading",
     "level": 2,
     "metadata": {},
     "source": [
      "Example 3.3.7, Page number 492-493"
     ]
    },
    {
     "cell_type": "code",
     "collapsed": false,
     "input": [
      "import math\n",
      "import cmath\n",
      "\n",
      "#Variable declaration\n",
      "V = 2300.0                                   #Rated voltage(V)\n",
      "kVA = 500.0                                  #kVA rating\n",
      "I_1 = 100.0                                  #Line current(A)\n",
      "I_2 = 100.0*cmath.exp(1j*180*math.pi/180)    #Line current(A)\n",
      "I_3 = 0                                      #Line current(A)\n",
      "\n",
      "#Calculation\n",
      "a = cmath.exp(1j*120.0*math.pi/180)    #Operator\n",
      "I_10 = 1.0/3*(I_1+I_2+I_3)             #Symmetrical component of line current for phase 1(A)\n",
      "I_11 = 1.0/3*(I_1+a*I_2+a**2*I_3)      #Symmetrical component of line current for phase 1(A)\n",
      "I_12 = 1.0/3*(I_1+a**2*I_2+a*I_3)      #Symmetrical component of line current for phase 1(A)\n",
      "I_20 = I_10                            #Symmetrical component of line current for phase 2(A)\n",
      "I_21 = a**2*I_11                       #Symmetrical component of line current for phase 2(A)\n",
      "I_22 = a*I_12                          #Symmetrical component of line current for phase 2(A)\n",
      "I_30 = I_10                            #Symmetrical component of line current for phase 3(A)\n",
      "I_31 = a*I_11                          #Symmetrical component of line current for phase 3(A)\n",
      "I_32 = a**2*I_12                       #Symmetrical component of line current for phase 3(A)\n",
      "\n",
      "#Result\n",
      "print('Symmetrical component of line current for phase 1:')\n",
      "print(' I_10 = %.1f A' %abs(I_10))\n",
      "print(' I_11 = %.2f\u2220%.f\u00b0 A' %(abs(I_11),cmath.phase(I_11)*180/math.pi))\n",
      "print(' I_12 = %.2f\u2220%.f\u00b0 A' %(abs(I_12),cmath.phase(I_12)*180/math.pi))\n",
      "print('Symmetrical component of line current for phase 2:')\n",
      "print(' I_20 = %.1f A' %abs(I_20))\n",
      "print(' I_21 = %.2f\u2220%.f\u00b0 A' %(abs(I_21),cmath.phase(I_21)*180/math.pi))\n",
      "print(' I_22 = %.2f\u2220%.f\u00b0 A' %(abs(I_22),cmath.phase(I_22)*180/math.pi))\n",
      "print('Symmetrical component of line current for phase 3:')\n",
      "print(' I_30 = %.1f A' %abs(I_30))\n",
      "print(' I_31 = %.2f\u2220%.f\u00b0 A' %(abs(I_31),cmath.phase(I_31)*180/math.pi))\n",
      "print(' I_32 = %.2f\u2220%.f\u00b0 A' %(abs(I_32),cmath.phase(I_32)*180/math.pi))"
     ],
     "language": "python",
     "metadata": {},
     "outputs": [
      {
       "output_type": "stream",
       "stream": "stdout",
       "text": [
        "Symmetrical component of line current for phase 1:\n",
        " I_10 = 0.0 A\n",
        " I_11 = 57.74\u2220-30\u00b0 A\n",
        " I_12 = 57.74\u222030\u00b0 A\n",
        "Symmetrical component of line current for phase 2:\n",
        " I_20 = 0.0 A\n",
        " I_21 = 57.74\u2220-150\u00b0 A\n",
        " I_22 = 57.74\u2220150\u00b0 A\n",
        "Symmetrical component of line current for phase 3:\n",
        " I_30 = 0.0 A\n",
        " I_31 = 57.74\u222090\u00b0 A\n",
        " I_32 = 57.74\u2220-90\u00b0 A\n"
       ]
      }
     ],
     "prompt_number": 1
    },
    {
     "cell_type": "heading",
     "level": 2,
     "metadata": {},
     "source": [
      "Example 3.3.8, Page number 493"
     ]
    },
    {
     "cell_type": "code",
     "collapsed": false,
     "input": [
      "import math\n",
      "import cmath\n",
      "\n",
      "#Variable declaration\n",
      "I_a = 1000.0                           #Current to earth(A)\n",
      "I_b = 0                                #Current(A)\n",
      "I_c = 0                                #Current(A)\n",
      "\n",
      "#Calculation\n",
      "a = cmath.exp(1j*120.0*math.pi/180)    #Operator\n",
      "I_a0 = 1.0/3*(I_a+I_b+I_c)             #Zero sequence component of current(A)\n",
      "I_b0 = I_a0                            #Zero sequence component of current(A)\n",
      "I_c0 = I_a0                            #Zero sequence component of current(A)\n",
      "I_a1 = 1.0/3*(I_a+a*I_b+a**2*I_c)      #Positive sequence component of current(A)\n",
      "I_b1 = a**2*I_a1                       #Positive sequence component of current(A)\n",
      "I_c1 = a*I_a1                          #Positive sequence component of current(A)\n",
      "I_a2 = 1.0/3*(I_a+a**2*I_b+a*I_c)      #Negative sequence component of current(A)\n",
      "I_b2 = a*I_a2                          #Negative sequence component of current(A)\n",
      "I_c2 = a**2*I_a2                       #Negative sequence component of current(A)\n",
      "\n",
      "#Result\n",
      "print('Zero sequence component of current for all phases are')\n",
      "print(' I_a0 = %.1f\u2220%.f\u00b0 A' %(abs(I_a0),cmath.phase(I_a0)*180/math.pi))\n",
      "print(' I_b0 = %.1f\u2220%.f\u00b0 A' %(abs(I_b0),cmath.phase(I_b0)*180/math.pi))\n",
      "print(' I_c0 = %.1f\u2220%.f\u00b0 A' %(abs(I_c0),cmath.phase(I_c0)*180/math.pi))\n",
      "print('Positive sequence component of current for all phases are')\n",
      "print(' I_a1 = %.1f\u2220%.f\u00b0 A' %(abs(I_a1),cmath.phase(I_a1)*180/math.pi))\n",
      "print(' I_b1 = %.1f\u2220%.f\u00b0 A' %(abs(I_b1),360+cmath.phase(I_b1)*180/math.pi))\n",
      "print(' I_c1 = %.1f\u2220%.f\u00b0 A' %(abs(I_c1),cmath.phase(I_c1)*180/math.pi))\n",
      "print('Negative sequence component of current for all phases are')\n",
      "print(' I_a2 = %.1f\u2220%.f\u00b0 A' %(abs(I_a2),cmath.phase(I_a2)*180/math.pi))\n",
      "print(' I_b2 = %.1f\u2220%.f\u00b0 A' %(abs(I_b2),cmath.phase(I_b2)*180/math.pi))\n",
      "print(' I_c2 = %.1f\u2220%.f\u00b0 A' %(abs(I_c2),360+cmath.phase(I_c2)*180/math.pi))"
     ],
     "language": "python",
     "metadata": {},
     "outputs": [
      {
       "output_type": "stream",
       "stream": "stdout",
       "text": [
        "Zero sequence component of current for all phases are\n",
        " I_a0 = 333.3\u22200\u00b0 A\n",
        " I_b0 = 333.3\u22200\u00b0 A\n",
        " I_c0 = 333.3\u22200\u00b0 A\n",
        "Positive sequence component of current for all phases are\n",
        " I_a1 = 333.3\u22200\u00b0 A\n",
        " I_b1 = 333.3\u2220240\u00b0 A\n",
        " I_c1 = 333.3\u2220120\u00b0 A\n",
        "Negative sequence component of current for all phases are\n",
        " I_a2 = 333.3\u22200\u00b0 A\n",
        " I_b2 = 333.3\u2220120\u00b0 A\n",
        " I_c2 = 333.3\u2220240\u00b0 A\n"
       ]
      }
     ],
     "prompt_number": 1
    },
    {
     "cell_type": "heading",
     "level": 2,
     "metadata": {},
     "source": [
      "Example 3.3.9, Page number 493-494"
     ]
    },
    {
     "cell_type": "code",
     "collapsed": false,
     "input": [
      "import math\n",
      "import cmath\n",
      "\n",
      "#Variable declaration\n",
      "I_A = 1000.0                                     #Current through line A(A)\n",
      "I_C = 0                                          #Current through line C(A)\n",
      "\n",
      "#Calculation\n",
      "I_B = 1000.0*cmath.exp(1j*180.0*math.pi/180)     #Current through line B(A)\n",
      "a = cmath.exp(1j*120.0*math.pi/180)    #Operator\n",
      "I_a0 = 1.0/3*(I_A+I_B+I_C)             #Zero sequence component of current(A)\n",
      "I_b0 = I_a0                            #Zero sequence component of current(A)\n",
      "I_c0 = I_a0                            #Zero sequence component of current(A)\n",
      "I_a1 = 1.0/3*(I_A+a*I_B+a**2*I_C)      #Positive sequence component of current(A)\n",
      "I_b1 = a**2*I_a1                       #Positive sequence component of current(A)\n",
      "I_c1 = a*I_a1                          #Positive sequence component of current(A)\n",
      "I_a2 = 1.0/3*(I_A+a**2*I_B+a*I_C)      #Negative sequence component of current(A)\n",
      "I_b2 = a*I_a2                          #Negative sequence component of current(A)\n",
      "I_c2 = a**2*I_a2                       #Negative sequence component of current(A)\n",
      "\n",
      "#Result\n",
      "print('Current in line A, I_A = %.f\u2220%.f\u00b0 A' %(abs(I_A),cmath.phase(I_A)*180/math.pi))\n",
      "print('Current in line B, I_B = %.f\u2220%.f\u00b0 A' %(abs(I_B),cmath.phase(I_B)*180/math.pi))\n",
      "print('Current in line C, I_C = %.f A' %I_C)\n",
      "print('Symmetrical current components of line A are:')\n",
      "print(' I_a0 = %.f A' %abs(I_a0))\n",
      "print(' I_a1 = %.1f\u2220%.f\u00b0 A' %(abs(I_a1),cmath.phase(I_a1)*180/math.pi))\n",
      "print(' I_a2 = %.1f\u2220%.f\u00b0 A' %(abs(I_a2),cmath.phase(I_a2)*180/math.pi))\n",
      "print('Symmetrical current components of line B are:')\n",
      "print(' I_b0 = %.f A' %abs(I_b0))\n",
      "print(' I_b1 = %.1f\u2220%.f\u00b0 A' %(abs(I_b1),cmath.phase(I_b1)*180/math.pi))\n",
      "print(' I_b2 = %.1f\u2220%.f\u00b0 A' %(abs(I_b2),cmath.phase(I_b2)*180/math.pi))\n",
      "print('Symmetrical current components of line C are:')\n",
      "print(' I_c0 = %.f A' %abs(I_c0))\n",
      "print(' I_c1 = %.1f\u2220%.f\u00b0 A' %(abs(I_c1),cmath.phase(I_c1)*180/math.pi))\n",
      "print(' I_c2 = %.1f\u2220%.f\u00b0 A' %(abs(I_c2),cmath.phase(I_c2)*180/math.pi))"
     ],
     "language": "python",
     "metadata": {},
     "outputs": [
      {
       "output_type": "stream",
       "stream": "stdout",
       "text": [
        "Current in line A, I_A = 1000\u22200\u00b0 A\n",
        "Current in line B, I_B = 1000\u2220180\u00b0 A\n",
        "Current in line C, I_C = 0 A\n",
        "Symmetrical current components of line A are:\n",
        " I_a0 = 0 A\n",
        " I_a1 = 577.4\u2220-30\u00b0 A\n",
        " I_a2 = 577.4\u222030\u00b0 A\n",
        "Symmetrical current components of line B are:\n",
        " I_b0 = 0 A\n",
        " I_b1 = 577.4\u2220-150\u00b0 A\n",
        " I_b2 = 577.4\u2220150\u00b0 A\n",
        "Symmetrical current components of line C are:\n",
        " I_c0 = 0 A\n",
        " I_c1 = 577.4\u222090\u00b0 A\n",
        " I_c2 = 577.4\u2220-90\u00b0 A\n"
       ]
      }
     ],
     "prompt_number": 1
    },
    {
     "cell_type": "heading",
     "level": 2,
     "metadata": {},
     "source": [
      "Example 3.3.10, Page number 494"
     ]
    },
    {
     "cell_type": "code",
     "collapsed": false,
     "input": [
      "import math\n",
      "import cmath\n",
      "\n",
      "#Variable declaration\n",
      "R = 20000.0                                     #Resistance of voltmeter(ohm)\n",
      "E_R = 100.0                                     #Line-to-neutral voltage(A)\n",
      "E_Y = 200.0*cmath.exp(1j*270.0*math.pi/180)     #Line-to-neutral voltage(A)\n",
      "E_B = 100.0*cmath.exp(1j*120.0*math.pi/180)     #Line-to-neutral voltage(A)\n",
      "\n",
      "#Calculation\n",
      "a = cmath.exp(1j*120.0*math.pi/180)    #Operator\n",
      "V_R0 = 1.0/3*(E_R+E_Y+E_B)             #Zero sequence voltage(V)\n",
      "V_R1 = 1.0/3*(E_R+a*E_Y+a**2*E_B)      #Positive sequence voltage(V)\n",
      "V_R2 = 1.0/3*(E_R+a**2*E_Y+a*E_B)      #Negative sequence voltage(V)\n",
      "I_R1 = V_R1/R                          #Positive sequence current(A)\n",
      "I_R2 = V_R2/R                          #Negative sequence current(A)\n",
      "V_Y1 = a**2*V_R1                       #Positive sequence voltage of line Y(V)\n",
      "V_Y2 = a*V_R2                          #Negative sequence voltage of line Y(V)\n",
      "V_Y = V_Y1+V_Y2                        #Voltmeter reading connected to the yellow line(V)\n",
      "I_Y = abs(V_Y)/R*1000                  #Current through voltmeter(mA)\n",
      "\n",
      "#Result\n",
      "print('Voltmeter reading connected to the yellow line, |V_Y| = %.1f V' %abs(V_Y))\n",
      "print('Current through voltmeter, I_Y = %.3f mA' %I_Y)\n",
      "print('\\nNOTE: Changes in the obtained answer from that of textbook is due to more precision here')"
     ],
     "language": "python",
     "metadata": {},
     "outputs": [
      {
       "output_type": "stream",
       "stream": "stdout",
       "text": [
        "Voltmeter reading connected to the yellow line, |V_Y| = 163.1 V\n",
        "Current through voltmeter, I_Y = 8.153 mA\n",
        "\n",
        "NOTE: Changes in the obtained answer from that of textbook is due to more precision here\n"
       ]
      }
     ],
     "prompt_number": 1
    },
    {
     "cell_type": "heading",
     "level": 2,
     "metadata": {},
     "source": [
      "Example 3.3.11, Page number 495"
     ]
    },
    {
     "cell_type": "code",
     "collapsed": false,
     "input": [
      "import math\n",
      "import cmath\n",
      "\n",
      "#Variable declaration\n",
      "V = 400.0               #Voltage(V)\n",
      "Z_ab = 20.0             #Resistor load(ohm)\n",
      "Z_bc = -1j*40.0         #Capacitor load(ohm)\n",
      "Z_ca = 5.0+1j*10.0      #Inductor and resistance load(ohm)\n",
      "\n",
      "#Calculation\n",
      "V_ab = V                                          #Line voltage(V)\n",
      "V_bc = V*cmath.exp(1j*-120.0*math.pi/180)         #Line voltage(V)\n",
      "V_ca = V*cmath.exp(1j*120.0*math.pi/180)          #Line voltage(V)\n",
      "I_ab = V_ab/Z_ab                                  #Current(A)\n",
      "I_bc = V_bc/Z_bc                                  #Current(A)\n",
      "I_ca = V_ca/Z_ca                                  #Current(A)\n",
      "I_a = I_ab-I_ca                                   #Line current(A)\n",
      "I_b = I_bc-I_ab                                   #Line current(A)\n",
      "I_c = I_ca-I_bc                                   #Line current(A)\n",
      "phi = -120.0-cmath.phase(I_a)*180/math.pi         #\u03c6(\u00b0)\n",
      "P = abs(I_a*V_bc)*math.cos(phi*math.pi/180)/1000  #Wattmeter reading(kW)\n",
      "\n",
      "#Result\n",
      "print('Line currents are:')\n",
      "print(' I_a = %.1f\u2220%.1f\u00b0 A' %(abs(I_a),cmath.phase(I_a)*180/math.pi))\n",
      "print(' I_b = %.1f\u2220%.2f\u00b0 A' %(abs(I_b),cmath.phase(I_b)*180/math.pi))\n",
      "print(' I_c = %.2f\u2220%.f\u00b0 A' %(abs(I_c),cmath.phase(I_c)*180/math.pi))\n",
      "print('Wattmeter reading, P = %.2f kW' %P)\n",
      "print('\\nNOTE: ERROR: Calculation mistakes in the textbook solution')"
     ],
     "language": "python",
     "metadata": {},
     "outputs": [
      {
       "output_type": "stream",
       "stream": "stdout",
       "text": [
        "Line currents are:\n",
        " I_a = 29.9\u2220-89.4\u00b0 A\n",
        " I_b = 12.4\u2220-156.21\u00b0 A\n",
        " I_c = 36.57\u222072\u00b0 A\n",
        "Wattmeter reading, P = 10.29 kW\n",
        "\n",
        "NOTE: ERROR: Calculation mistakes in the textbook solution\n"
       ]
      }
     ],
     "prompt_number": 1
    }
   ],
   "metadata": {}
  }
 ]
}