{
 "metadata": {
  "name": ""
 },
 "nbformat": 3,
 "nbformat_minor": 0,
 "worksheets": [
  {
   "cells": [
    {
     "cell_type": "heading",
     "level": 1,
     "metadata": {},
     "source": [
      "CHAPTER 2.11: LOAD FREQUENCY CONTROL AND LOAD SHARING OF POWER GENERATING SOURCES"
     ]
    },
    {
     "cell_type": "heading",
     "level": 2,
     "metadata": {},
     "source": [
      "Example 2.11.1, Page number 330"
     ]
    },
    {
     "cell_type": "code",
     "collapsed": false,
     "input": [
      "#Variable declaration\n",
      "rating = 1000.0        #Rating of alternator(kW)\n",
      "load = 1600.0          #Total load(kW)\n",
      "X_fl = 100.0           #Full load speed regulation of alernator X(%)\n",
      "Y_fl = 104.0           #Full load speed regulation of alernator Y(%)\n",
      "X_nl = 100.0           #No load speed regulation of alernator X(%)\n",
      "Y_nl = 105.0           #No load speed regulation of alernator Y(%)\n",
      "\n",
      "#Calculation\n",
      "h = 400.0/450.0                  #Point obtained from graph in textbook directly\n",
      "PB = (Y_nl-X_nl)-h\n",
      "PR = rating/(Y_nl-X_nl)*PB       #Load shared by machine X(kW)\n",
      "QQ = (Y_fl-X_fl)-h\n",
      "RQ = rating/(Y_fl-X_fl)*QQ       #Load shared by machine Y(kW)\n",
      "load_cease = rating/(Y_nl-X_nl)  #Y cease supply load(kW)\n",
      "\n",
      "#Result\n",
      "print('Load shared by machine X, PR = %.f kW' %PR)\n",
      "print('Load shared by machine Y, RQ = %.f kW' %RQ)\n",
      "print('Load at which machine Y ceases to supply any portion of load = %.f kW' %load_cease)"
     ],
     "language": "python",
     "metadata": {},
     "outputs": [
      {
       "output_type": "stream",
       "stream": "stdout",
       "text": [
        "Load shared by machine X, PR = 822 kW\n",
        "Load shared by machine Y, RQ = 778 kW\n",
        "Load at which machine Y ceases to supply any portion of load = 200 kW\n"
       ]
      }
     ],
     "prompt_number": 1
    },
    {
     "cell_type": "heading",
     "level": 2,
     "metadata": {},
     "source": [
      "Example 2.11.2, Page number 330-331"
     ]
    },
    {
     "cell_type": "code",
     "collapsed": false,
     "input": [
      "import math\n",
      "\n",
      "#Variable declaration\n",
      "kVA = 5000.0        #Rating of alternator(kVA)\n",
      "N = 1500.0          #Speed(rpm)\n",
      "V = 6600.0          #Voltage(V)\n",
      "f = 50.0            #Frequency(Hz)\n",
      "PF = 0.8            #Lagging power factor\n",
      "x = 0.15            #Short circuit reactance\n",
      "\n",
      "#Calculation\n",
      "E = V/3**0.5                                                    #Phase voltage(V)\n",
      "I = kVA*1000/(3**0.5*V)                                         #Full load current of alternator(A)\n",
      "V_drop = E*x                                                    #Synchronous reactance drop(V)\n",
      "X = V_drop/I                                                    #Synchronous reactance per phase(ohm)\n",
      "P = 120*f/N                                                     #Number of poles\n",
      "n = N/60                                                        #Speed(rps)\n",
      "phi = math.acos(PF)*180/math.pi                                 #\u03a6(\u00b0)\n",
      "#Case(a)\n",
      "theta_a = 2.0                                                   #For a 4 pole m/c. 1 mech degree = 2 elect degree\n",
      "E_s_a = E*math.sin(theta_a*math.pi/180)                         #Synchronizing voltage(V)\n",
      "I_s_a = E_s_a/X                                                 #Synchronizing current(A)\n",
      "P_s_a = E*I_s_a                                                 #Synchronizing power per phase(W)\n",
      "P_s_a_total = 3.0*P_s_a                                         #Total synchronizing power(W)\n",
      "P_s_a_total_kw = P_s_a_total/1000.0                             #Total synchronizing power(kW)\n",
      "T_s_a = P_s_a_total/(2*math.pi*n)                               #Synchronizing torque(N-m)\n",
      "#Case(b)\n",
      "sin_phi = math.sin(phi*math.pi/180)\n",
      "OB = ((E*PF)**2+(E*sin_phi+V_drop)**2)**0.5                     #Voltage(V)\n",
      "E_b = OB                                                        #Voltage(V)\n",
      "alpha_phi = math.atan((E*sin_phi+V_drop)/(E*PF))*180/math.pi    #\u03b1+\u03a6(\u00b0)\n",
      "alpha = alpha_phi-phi                                           #\u03b1(\u00b0)\n",
      "E_s_b = 2.0*E_b*math.sin(2.0/2*math.pi/180)                     #Synchronizing voltage(V)\n",
      "I_s_b = E_s_b/X                                                 #Synchronizing current(A)\n",
      "P_s_b = E*I_s_b*math.cos((alpha+1.0)*math.pi/180)               #Synchronizing power per phase(W)\n",
      "P_s_b_total = 3.0*P_s_b                                         #Total synchronizing power(W)\n",
      "P_s_b_total_kw = P_s_b_total/1000.0                             #Total synchronizing power(kW)\n",
      "T_s_b = P_s_b_total/(2*math.pi*n)                               #Synchronizing torque(N-m)\n",
      "\n",
      "#Result\n",
      "print('Case(a): Synchronizing power for no-load, P_s = %.1f kW' %P_s_a_total_kw)\n",
      "print('         Synchronizing torque for no-load, T_s = %.f N-m' %T_s_a)\n",
      "print('Case(b): Synchronizing power at full-load, P_s = %.1f kW' %P_s_b_total_kw)\n",
      "print('         Synchronizing torque at full-load, T_s = %.f N-m' %T_s_b)\n",
      "print('\\nNOTE: ERROR: Calculation mistakes in textbook')"
     ],
     "language": "python",
     "metadata": {},
     "outputs": [
      {
       "output_type": "stream",
       "stream": "stdout",
       "text": [
        "Case(a): Synchronizing power for no-load, P_s = 1163.3 kW\n",
        "         Synchronizing torque for no-load, T_s = 7406 N-m\n",
        "Case(b): Synchronizing power at full-load, P_s = 1265.6 kW\n",
        "         Synchronizing torque at full-load, T_s = 8057 N-m\n",
        "\n",
        "NOTE: ERROR: Calculation mistakes in textbook\n"
       ]
      }
     ],
     "prompt_number": 1
    },
    {
     "cell_type": "heading",
     "level": 2,
     "metadata": {},
     "source": [
      "Example 2.11.3, Page number 331-332"
     ]
    },
    {
     "cell_type": "code",
     "collapsed": false,
     "input": [
      "#Variable declaration\n",
      "V = 6600.0             #Voltage(V)\n",
      "R = 0.045              #Resistance(ohm)\n",
      "X = 0.45               #Reactance(ohm)\n",
      "Load = 10000.0*10**3   #Total load(W)\n",
      "PF = 0.8               #Lagging power factor\n",
      "I_a = 437.5            #Armature current(A)\n",
      "\n",
      "#Calculation\n",
      "I = Load/(3**0.5*V*PF)                           #Load current(A)\n",
      "I_working = PF*I                                 #Working component of current(A)\n",
      "I_watless = (1-PF**2)**0.5*I                     #Watless component of current(A)\n",
      "I_second = (I_a**2+I_watless**2)**0.5            #Load current supplied by second alternator(A)\n",
      "PF_second = I_a/I_second                         #Lagging power factor of second alternator\n",
      "V_ph = V/3**0.5                                  #Terminal voltage per phase(V)\n",
      "I_R = I_second*R                                 #Voltage drop due to resistance(V)\n",
      "I_X = I_second*X                                 #Voltage drop due to reactance(V)\n",
      "sin_phi_second = (1-PF_second**2)**0.5\n",
      "E = ((V_ph+I_R*PF_second+I_X*sin_phi_second)**2+(I_X*PF_second-I_R*sin_phi_second)**2)**0.5   #EMF of the alternator(V/phase)\n",
      "E_ll = 3**0.5*E                                  #Line-to-line EMF of the alternator(V)\n",
      "\n",
      "#Result\n",
      "print('Armature current of other alternator = %.1f A' %I_second)\n",
      "print('e.m.f of other alternator = %.f V (line-to-line)' %E_ll)\n",
      "print('Power factor of other alternator = %.3f (lagging)' %PF_second)"
     ],
     "language": "python",
     "metadata": {},
     "outputs": [
      {
       "output_type": "stream",
       "stream": "stdout",
       "text": [
        "Armature current of other alternator = 788.6 A\n",
        "e.m.f of other alternator = 7151 V (line-to-line)\n",
        "Power factor of other alternator = 0.555 (lagging)\n"
       ]
      }
     ],
     "prompt_number": 1
    },
    {
     "cell_type": "heading",
     "level": 2,
     "metadata": {},
     "source": [
      "Example 2.11.4, Page number 332-333"
     ]
    },
    {
     "cell_type": "code",
     "collapsed": false,
     "input": [
      "#Variable declaration\n",
      "X = 10.0               #Reactance(ohm)\n",
      "I_a = 220.0            #Armature current(A)\n",
      "PF = 1.0               #Unity power factor\n",
      "V = 11000.0            #Phase voltage(V)\n",
      "emf_raised = 0.2       #EMF rasied by 20%\n",
      "\n",
      "#Calculation\n",
      "I_X = I_a*X                        #Reactance drop(V)\n",
      "E_0 = (V**2+I_X**2)**0.5           #EMF(V)\n",
      "E_00 = (1+emf_raised)*E_0          #New value of induced emf(V)\n",
      "U = ((E_00**2-I_X**2)**0.5-V)/X    #Current(A)\n",
      "I_1 = (I_a**2+U**2)**0.5           #Current(A)\n",
      "PF_1 = I_a/I_1                     #Lagging power factor\n",
      "I_X_2 = (E_00**2+V**2)**0.5        #Reactance drop(V)\n",
      "I_2 = I_X_2/X                      #Current corresponding to this drop(A)\n",
      "PF_2 = E_00/I_X_2                  #Leading power factor\n",
      "P_max = V*I_2*PF_2/1000            #Maximum power output(kW)\n",
      "\n",
      "#Result\n",
      "print('Power output at which alternator break from synchronism = %.f kW' %P_max)\n",
      "print('Current corresponding to maximum load = %.f A' %I_2)\n",
      "print('Power factor corresponding to maximum load = %.4f (leading)' %PF_2)\n",
      "print('\\nNOTE: ERROR: Calculation mistakes in the textbook solution')"
     ],
     "language": "python",
     "metadata": {},
     "outputs": [
      {
       "output_type": "stream",
       "stream": "stdout",
       "text": [
        "Power output at which alternator break from synchronism = 14808 kW\n",
        "Current corresponding to maximum load = 1738 A\n",
        "Power factor corresponding to maximum load = 0.7743 (leading)\n",
        "\n",
        "NOTE: ERROR: Calculation mistakes in the textbook solution\n"
       ]
      }
     ],
     "prompt_number": 1
    },
    {
     "cell_type": "heading",
     "level": 2,
     "metadata": {},
     "source": [
      "Example 2.11.5, Page number 333"
     ]
    },
    {
     "cell_type": "code",
     "collapsed": false,
     "input": [
      "import math\n",
      "\n",
      "#Variable declaration\n",
      "V = 10000.0            #Voltage(V)\n",
      "rating = 10000.0       #Full load rating(kW)\n",
      "V_drop_per = 0.2       #Voltage drop of 20% for 10000 kW\n",
      "\n",
      "#Calculation\n",
      "V_drop = V_drop_per*rating                    #Voltage drop(V)\n",
      "sin_theta_2 = (V_drop/2)/V                    #Sin(\u03b8/2)\n",
      "theta_2 = math.asin(sin_theta_2)*180/math.pi  #\u03b8/2(\u00b0)\n",
      "theta = 2.0*theta_2                           #Phase angle between busbar sections, \u03b8(\u00b0)\n",
      "\n",
      "#Result\n",
      "print('Phase angle between busbar sections, \u03b8 = %.2f\u00b0 ' %theta)\n",
      "print('\\nNOTE: ERROR: Calculation mistakes in the textbook solution')"
     ],
     "language": "python",
     "metadata": {},
     "outputs": [
      {
       "output_type": "stream",
       "stream": "stdout",
       "text": [
        "Phase angle between busbar sections, \u03b8 = 11.48\u00b0 \n",
        "\n",
        "NOTE: ERROR: Calculation mistakes in the textbook solution\n"
       ]
      }
     ],
     "prompt_number": 1
    },
    {
     "cell_type": "heading",
     "level": 2,
     "metadata": {},
     "source": [
      "Example 2.11.6, Page number 334"
     ]
    },
    {
     "cell_type": "code",
     "collapsed": false,
     "input": [
      "import math\n",
      "import cmath\n",
      "\n",
      "#Variable declaration\n",
      "load_1 = 20000.0        #Total load(kW)\n",
      "V = 11000.0             #Voltage(V)\n",
      "PF_1 = 1.0              #Unity power factor\n",
      "load_2 = 8000.0         #Load supplied(kW)\n",
      "PF_2 = 0.8              #Lagging power factor\n",
      "R = 0.5                 #Resistance(ohm/phase)\n",
      "X = 0.8                 #Reactance(ohm/phase)\n",
      "\n",
      "#Calculation\n",
      "I_1 = load_1*1000/(3**0.5*V*PF_1)                                  #Load current(A)\n",
      "I_2 = load_2*1000/(3**0.5*V*PF_2)*cmath.exp(1j*-math.acos(PF_2))   #Current supplied by local generators(A)\n",
      "I_3 = I_1-I_2                                                      #Current through interconnector(A)\n",
      "angle_I_3 = cmath.phase(I_3)*180/math.pi                           #Current through interconnector leads reference phasor by angle(\u00b0)\n",
      "V_drop = (R+1j*X)*I_3                                              #Voltage drop across interconnector(V)\n",
      "V_ph = V/3**0.5                                                    #Phase voltage(V)\n",
      "V_S = V_ph+V_drop                                                  #Sending end voltage(V/phase)\n",
      "V_S_ll = 3**0.5*V_S                                                #Sending end voltage(V)\n",
      "angle_V_S_ll = cmath.phase(V_S_ll)*180/math.pi                     #Angle of sending end voltage(\u00b0)\n",
      "PF_S = math.cos((angle_I_3-angle_V_S_ll)*math.pi/180)              #Power factor at sending station\n",
      "\n",
      "#Result\n",
      "print('Voltage at this latter station = %.f\u2220%.2f\u00b0 V (line-to-line)' %(abs(V_S_ll),angle_V_S_ll))\n",
      "print('Power factor at this latter station = %.4f (leading)' %PF_S)"
     ],
     "language": "python",
     "metadata": {},
     "outputs": [
      {
       "output_type": "stream",
       "stream": "stdout",
       "text": [
        "Voltage at this latter station = 11168\u22205.89\u00b0 V (line-to-line)\n",
        "Power factor at this latter station = 0.9356 (leading)\n"
       ]
      }
     ],
     "prompt_number": 1
    },
    {
     "cell_type": "heading",
     "level": 2,
     "metadata": {},
     "source": [
      "Example 2.11.7, Page number 334"
     ]
    },
    {
     "cell_type": "code",
     "collapsed": false,
     "input": [
      "import math\n",
      "import cmath\n",
      "\n",
      "#Variable declaration\n",
      "V = 33000.0             #Voltage(V)\n",
      "R = 0.7                 #Resistance(ohm/phase)\n",
      "X = 3.5                 #Reactance(ohm/phase)\n",
      "load_1 = 60.0           #Load on generator at station X(MW)\n",
      "PF_1 = 0.8              #Lagging power factor\n",
      "load_2 = 40.0           #Local load taken by consumer(MW)\n",
      "PF_2 = 0.707            #Lagging power factor\n",
      "\n",
      "#Calculation\n",
      "V_ph = V/3**0.5                                                     #Phase voltage(V)\n",
      "I_1 = load_1*10**6/(3**0.5*V*PF_1)*cmath.exp(1j*-math.acos(PF_1))   #Load current on generator at X(A)\n",
      "I_2 = load_2*10**6/(3**0.5*V*PF_2)*cmath.exp(1j*-math.acos(PF_2))   #Current due to local load(A)\n",
      "I_3 = I_1-I_2                                                       #Current through interconnector(A)\n",
      "angle_I_3 = cmath.phase(I_3)*180/math.pi                            #Current through interconnector leads reference phasor by angle(\u00b0)\n",
      "V_drop = (R+1j*X)*I_3                                               #Voltage drop across interconnector(V)\n",
      "V_Y = V_ph-V_drop                                                   #Voltage at Y(V)\n",
      "angle_V_Y = cmath.phase(V_Y)*180/math.pi                            #Angle of voltage at Y(\u00b0)\n",
      "phase_diff = angle_I_3-angle_V_Y                                    #Phase difference b/w Y_Y and I_3(\u00b0)\n",
      "PF_Y = math.cos(phase_diff*math.pi/180)                             #Power factor of current received by Y\n",
      "P_Y = 3*abs(V_Y*I_3)*PF_Y/1000.0                                    #Power received by station Y(kW)\n",
      "phase_XY = abs(angle_V_Y)                                           #Phase angle b/w voltages of X & Y(\u00b0)\n",
      "\n",
      "#Result\n",
      "print('Load received from station X to station Y = %.f kW' %P_Y)\n",
      "print('Power factor of load received by Y = %.4f (lagging)' %PF_Y)\n",
      "print('Phase difference between voltage of X & Y = %.2f\u00b0 (lagging)' %phase_XY)\n",
      "print('\\nNOTE: Changes in the obtained answer from that of textbook is due to more precision here')"
     ],
     "language": "python",
     "metadata": {},
     "outputs": [
      {
       "output_type": "stream",
       "stream": "stdout",
       "text": [
        "Load received from station X to station Y = 19727 kW\n",
        "Power factor of load received by Y = 0.9836 (lagging)\n",
        "Phase difference between voltage of X & Y = 3.60\u00b0 (lagging)\n",
        "\n",
        "NOTE: Changes in the obtained answer from that of textbook is due to more precision here\n"
       ]
      }
     ],
     "prompt_number": 1
    },
    {
     "cell_type": "heading",
     "level": 2,
     "metadata": {},
     "source": [
      "Example 2.11.8, Page number 335"
     ]
    },
    {
     "cell_type": "code",
     "collapsed": false,
     "input": [
      "import math\n",
      "import cmath\n",
      "\n",
      "#Variable declaration\n",
      "V_tie = 11000.0         #Tie line Voltage(V)\n",
      "Z = (3.5+1j*7.0)        #Impedance of tie line(ohm/conductor)\n",
      "V = 6600.0              #Bus bar voltage(V)\n",
      "Z_per = (2.5+1j*7.5)    #Percentage impedance on 1000kVA rating\n",
      "kVA = 2500.0            #Load receieved by other(kVA)\n",
      "\n",
      "#Calculation\n",
      "V_ph = V/3**0.5                            #Phase voltage(V)\n",
      "I_fl_LV = 100.0*V_tie/V_ph                 #LV side Full load current of each transformer(A)\n",
      "R_eq = V_ph*Z_per.real/(100*I_fl_LV)       #Equivalent resistance of transformer(ohm/phase)\n",
      "X_eq = 3.0*R_eq                            #Equivalent reactance of transformer(ohm/phase)\n",
      "R_phase = Z.real*(V/V_tie)**2              #Resistance of line per phase(ohm)\n",
      "X_phase = Z.imag*(V/V_tie)**2              #Resistance of line per phase(ohm)\n",
      "R_total = 2.0*R_eq+R_phase                 #Total resistance per phase(ohm)\n",
      "X_total = 2.0*X_eq+X_phase                 #Total resistance per phase(ohm)\n",
      "Z_total = R_total+1j*X_total               #Total impedance(ohm/phase)\n",
      "I = kVA*1000/(3**0.5*V)                    #Load current(A)\n",
      "V_drop = I*Z_total                         #Voltage drop per phase(V)\n",
      "V_A = V_ph\n",
      "V_AA = V_A+V_drop                          #Sending end voltage per phase(V)\n",
      "V_increase = abs(V_AA)-V_A                 #Increase in voltage required(V/phase)\n",
      "percentage_increase = V_increase/V_A*100   #Percentage increase required(%)\n",
      "phase_diff = cmath.phase(V_AA)*180/math.pi #Angle at which V_A & V_B are displaced(\u00b0)\n",
      "\n",
      "#Result\n",
      "print('Case(a): Percentage increase in voltage = %.2f percent' %percentage_increase)\n",
      "print('Case(b): Phase angle difference between the two busbar voltages = %.2f\u00b0 ' %phase_diff)\n",
      "print('\\nNOTE: ERROR: Several calculation mistakes in the textbook')"
     ],
     "language": "python",
     "metadata": {},
     "outputs": [
      {
       "output_type": "stream",
       "stream": "stdout",
       "text": [
        "Case(a): Percentage increase in voltage = 13.98 percent\n",
        "Case(b): Phase angle difference between the two busbar voltages = 13.10\u00b0 \n",
        "\n",
        "NOTE: ERROR: Several calculation mistakes in the textbook\n"
       ]
      }
     ],
     "prompt_number": 1
    },
    {
     "cell_type": "heading",
     "level": 2,
     "metadata": {},
     "source": [
      "Example 2.11.9, Page number 335-336"
     ]
    },
    {
     "cell_type": "code",
     "collapsed": false,
     "input": [
      "import math\n",
      "import cmath\n",
      "\n",
      "#Variable declaration\n",
      "X = 2.80             #Combined reactance(ohm/phase)\n",
      "load_1 = 7000.0      #Consumer load at station A(kW)\n",
      "PF_1 = 0.9           #Lagging power factor\n",
      "V = 11000.0          #Voltage(V)\n",
      "load_2 = 10000.0     #Load supplied by station B(kW)\n",
      "PF_2 = 0.75          #Lagging power factor\n",
      "\n",
      "#Calculation\n",
      "V_ph = V/3**0.5                                                         #Phase voltage(V)\n",
      "I_1 = load_1*10**3/(3**0.5*V*PF_1)*cmath.exp(1j*-math.acos(PF_1))       #Current at A due to local load(A)\n",
      "I_2 = load_2*10**3/(3**0.5*V*PF_2)*cmath.exp(1j*-math.acos(PF_2))       #Current at B due to local load(A)\n",
      "IA_X = 0.5*(load_1+load_2)*1000/(3**0.5*V)                              #Current(A)\n",
      "Y_1 = 220.443/V_ph                                                      #Solved manually referring textbook\n",
      "X_1 = (1-Y_1**2)**0.5\n",
      "angle_1 = math.atan(Y_1/X_1)*180/math.pi                                #Phasor lags by an angle(\u00b0)\n",
      "IA_Y = (6849.09119318-V_ph*X_1)/X                                       #Current(A)\n",
      "Y_X = IA_Y/IA_X\n",
      "angle_2 = math.atan(Y_X)*180/math.pi                                    #Angle by which I_A lags behind V_A(\u00b0)\n",
      "PF_A = math.cos(angle_2*math.pi/180)                                    #Power factor of station A\n",
      "angle_3 = (math.acos(PF_2)*180/math.pi)+angle_1                         #Angle by which I_2 lags V_A(\u00b0)\n",
      "I_22 = load_2*10**3/(3**0.5*V*PF_2)*cmath.exp(1j*-angle_3*math.pi/180)  #Current(A)\n",
      "I = 78.7295821622-1j*(IA_Y-177.942225747)                               #Current(A)\n",
      "I_B = I_22-I                                                            #Current(A)\n",
      "angle_4 = abs(cmath.phase(I_B)*180/math.pi)-angle_1                     #Angle by which I_B lags behind V_B(\u00b0)\n",
      "PF_B = math.cos(angle_4*math.pi/180)                                    #Power factor of station B\n",
      "\n",
      "#Result\n",
      "print('Power factor of station A = %.4f (lagging)' %PF_A)\n",
      "print('Power factor of station B = %.4f (lagging)' %PF_B)\n",
      "print('Phase angle between two bus bar voltages = %.f\u00b0 (V_B lagging V_A)' %angle_1)"
     ],
     "language": "python",
     "metadata": {},
     "outputs": [
      {
       "output_type": "stream",
       "stream": "stdout",
       "text": [
        "Power factor of station A = 0.9279 (lagging)\n",
        "Power factor of station B = 0.6929 (lagging)\n",
        "Phase angle between two bus bar voltages = 2\u00b0 (V_B lagging V_A)\n"
       ]
      }
     ],
     "prompt_number": 1
    },
    {
     "cell_type": "heading",
     "level": 2,
     "metadata": {},
     "source": [
      "Example 2.11.10, Page number 336"
     ]
    },
    {
     "cell_type": "code",
     "collapsed": false,
     "input": [
      "import math\n",
      "import cmath\n",
      "\n",
      "#Variable declaration\n",
      "load_1 = 10000.0      #Total balanced load(kW)\n",
      "V = 33000.0           #Voltage(V)\n",
      "PF_1 = 0.8            #Lagging power factor\n",
      "R = 1.6               #Resistance of feeder(ohm/phase)\n",
      "X = 2.5               #Reactance of feeder(ohm/phase)\n",
      "load_2 = 4460.0       #Load delivered by feeder(kW)\n",
      "PF_2 = 0.72           #Lagging power factor\n",
      "\n",
      "#Calculation\n",
      "I = load_1*1000/(3**0.5*V*PF_1)*cmath.exp(1j*-math.acos(PF_1))       #Total line current(A)\n",
      "I_1 = load_2*1000/(3**0.5*V*PF_2)*cmath.exp(1j*-math.acos(PF_2))     #Line current of first feeder(A)\n",
      "I_2 = I-I_1                                                          #Line current of first feeder(A)\n",
      "Z_1 = complex(1.6,2.5)                                               #Impedance of first feeder(ohm)\n",
      "Z_2 = I_1*Z_1/I_2                                                    #Impedance of second feeder(ohm)\n",
      "\n",
      "#Result\n",
      "print('Impedance of second feeder, Z_2 = %.2f\u2220%.1f\u00b0 ohm' %(abs(Z_2),cmath.phase(Z_2)*180/math.pi))\n",
      "print('\\nNOTE: ERROR: Changes in the obtained answer from that of textbook is due to wrong values of substitution')"
     ],
     "language": "python",
     "metadata": {},
     "outputs": [
      {
       "output_type": "stream",
       "stream": "stdout",
       "text": [
        "Impedance of second feeder, Z_2 = 2.87\u222043.5\u00b0 ohm\n",
        "\n",
        "NOTE: ERROR: Changes in the obtained answer from that of textbook is due to wrong values of substitution\n"
       ]
      }
     ],
     "prompt_number": 1
    },
    {
     "cell_type": "heading",
     "level": 2,
     "metadata": {},
     "source": [
      "Example 2.11.11, Page number 337"
     ]
    },
    {
     "cell_type": "code",
     "collapsed": false,
     "input": [
      "#Variable declaration\n",
      "P = 9.0                   #Load supplied from substation(MW)\n",
      "V = 33000.0               #Voltage(V)\n",
      "PF_1 = 1.0                #Unity power factor\n",
      "Z_A = complex(2.0,8.0)    #Impedance of circuit A(ohm)\n",
      "Z_B = complex(4.0,4.0)    #Impedance of circuit B(ohm)\n",
      "\n",
      "#Calculation\n",
      "V_ph = V/3**0.5                                 #Voltage at receiving end per phase(V)\n",
      "P_A = 1.0/3*P                                   #Power supplied by line A(MW)\n",
      "P_B = 2.0/3*P                                   #Power supplied by line B(MW)\n",
      "I_A = P_A*10**6/(3**0.5*V)                      #Current through line A(A)\n",
      "I_B = P_B*10**6/(3**0.5*V)                      #Current through line B(A)\n",
      "IA_ZA_drop = I_A*Z_A                            #I_A Z_A drop(V/phase)\n",
      "IB_ZB_drop = I_B*Z_B                            #I_B Z_B drop(V/phase)\n",
      "phase_boost = IB_ZB_drop.real-IA_ZA_drop.real   #Voltage in phase boost(V/phase)\n",
      "quad_boost = IB_ZB_drop.imag-IA_ZA_drop.imag    #Voltage in quadrature boost(V/phase)\n",
      "constant_P = V_ph+IA_ZA_drop                    #Assumed that sending end voltage at P is kept constant(V/phase)\n",
      "\n",
      "#Result\n",
      "print('Voltage in-phase boost = %.2f V/phase' %phase_boost)\n",
      "print('Voltage in quadrature boost = %.f V/phase' %quad_boost)"
     ],
     "language": "python",
     "metadata": {},
     "outputs": [
      {
       "output_type": "stream",
       "stream": "stdout",
       "text": [
        "Voltage in-phase boost = 314.92 V/phase\n",
        "Voltage in quadrature boost = 0 V/phase\n"
       ]
      }
     ],
     "prompt_number": 1
    },
    {
     "cell_type": "heading",
     "level": 2,
     "metadata": {},
     "source": [
      "Example 2.11.12, Page number 337"
     ]
    },
    {
     "cell_type": "code",
     "collapsed": false,
     "input": [
      "#Variable declaration\n",
      "cap_A = 15000.0              #Capacity of station A(kW)\n",
      "cap_B = 10000.0              #Capacity of station B(kW)\n",
      "cap_C = 2000.0               #Capacity of station C(kW)\n",
      "speed_reg_A = 2.4/100        #Speed regulation of A\n",
      "speed_reg_B = 3.2/100        #Speed regulation of B\n",
      "slip_C = 4.5/100             #Full load slip\n",
      "local_load_B_a = 10000.0     #Local load on station B(kW)\n",
      "local_load_A_a = 0           #Local load on station A(kW)\n",
      "local_load_both = 10000.0    #Local load on both station(kW)\n",
      "\n",
      "\n",
      "#Calculation\n",
      "#Case(a)\n",
      "speed_A = speed_reg_A/cap_A                                       #% of speed drop for A\n",
      "speed_C = slip_C/cap_C                                            #% of speed drop for C\n",
      "speed_B = speed_reg_B/cap_B                                       #% of speed drop for B\n",
      "X = local_load_B_a*speed_B/(speed_A+speed_B+speed_C)              #Load on C when local load of B is 10000 kW and A has no load(kW)\n",
      "#Case(b)\n",
      "Y = local_load_both*(speed_B-speed_A)/(speed_A+speed_B+speed_C)   #Load on C when both station have local loads of 10000 kW(kW)\n",
      "\n",
      "#Result\n",
      "print('Case(a): Load on C when local load of B is 10000 kW and A has no load, X = %.f kW' %X)\n",
      "print('Case(b): Load on C when both station have local loads of 10000 kW, Y = %.f kW' %Y)"
     ],
     "language": "python",
     "metadata": {},
     "outputs": [
      {
       "output_type": "stream",
       "stream": "stdout",
       "text": [
        "Case(a): Load on C when local load of B is 10000 kW and A has no load, X = 1172 kW\n",
        "Case(b): Load on C when both station have local loads of 10000 kW, Y = 586 kW\n"
       ]
      }
     ],
     "prompt_number": 1
    },
    {
     "cell_type": "heading",
     "level": 2,
     "metadata": {},
     "source": [
      "Example 2.11.13, Page number 337-338"
     ]
    },
    {
     "cell_type": "code",
     "collapsed": false,
     "input": [
      "import math\n",
      "\n",
      "#Variable declaration\n",
      "l = 20.0                 #Length of cable(km)\n",
      "r = 0.248                #Resistance(ohm/km)\n",
      "x = 0.50*10**-3          #Inductance(H/m)\n",
      "V_gen = 6600.0           #Generation voltage(V)\n",
      "f = 50.0                 #Frequency(Hz)\n",
      "V = 33000.0              #Transmission voltage(V)\n",
      "rating = 10.0            #Transformer rating(MVA)\n",
      "loss_cu = 100.0          #Copper loss at full load(kW)\n",
      "x_tr = 2.5/100           #Transformer reactance\n",
      "load = 7.5               #Load to be transmitted(MW)\n",
      "PF = 0.71                #Lagging power factor\n",
      "\n",
      "#Calculation\n",
      "R = l*r                                                         #Resistance of the cable(ohm)\n",
      "I_fl = rating*10**6/(3**0.5*V)                                  #Transformer current at full load(A)\n",
      "R_eq = loss_cu*1000/(3*I_fl**2)                                 #Equivalent resistance per phase of transformer(ohm)\n",
      "R_total_hv = R+2.0*R_eq                                         #Total resistance per conductor in terms of hv side(ohm)\n",
      "X = 2.0*math.pi*f*l*x                                           #Reactance of cable per conductor(ohm)\n",
      "per_X_tr = V/3**0.5*x_tr/I_fl                                   #% reactance of transformer(ohm)\n",
      "X_total_hv = X+2.0*per_X_tr                                     #Total reactance per conductor in terms of hv side(ohm)\n",
      "I = load*10**6/(3**0.5*V*PF)                                    #Line current at receiving end(A)\n",
      "IR = I*R_total_hv                                               #IR drop(V)\n",
      "IX = I*X_total_hv                                               #IX drop(V)\n",
      "E_r = V/3**0.5                                                  #Phase voltage at station B(V)\n",
      "cos_phi_r = PF\n",
      "sin_phi_r = (1-PF**2)**0.5\n",
      "E_s = ((E_r*cos_phi_r+IR)**2+(E_r*sin_phi_r+IX)**2)**0.5/1000   #Sending end voltage(kV)\n",
      "E_s_ll = 3**0.5*E_s                                             #Sending end line voltage(kV)\n",
      "V_booster = 3**0.5*(E_s-E_r/1000)                               #Booster voltage between lines(kV)\n",
      "tan_phi_s = (E_r*sin_phi_r+IX)/(E_r*cos_phi_r+IR)               #tan\u03a6_s\n",
      "phi_s = math.atan(tan_phi_s)*180/math.pi                        #\u03a6_s(\u00b0)\n",
      "cos_phi_s = math.cos(phi_s*math.pi/180)                         #cos\u03a6_s\n",
      "P_s = 3.0*E_s*I*cos_phi_s                                       #Power at sending end(kW)\n",
      "loss = P_s-load*1000                                            #Loss(kW)\n",
      "loss_per = loss/(load*1000)*100                                 #loss percentage\n",
      "\n",
      "#Result\n",
      "print('Loss in the interconnector as a percentage of power received = %.3f percent' %loss_per)\n",
      "print('Required voltage of the booster = %.3f kV (in terms of H.V)' %V_booster)\n",
      "print('\\nNOTE: Changes in the obtained answer from that of textbook is due to more precision here')\n",
      "print('      kVA rating of booster is not calculated in textbook and here')"
     ],
     "language": "python",
     "metadata": {},
     "outputs": [
      {
       "output_type": "stream",
       "stream": "stdout",
       "text": [
        "Loss in the interconnector as a percentage of power received = 9.752 percent\n",
        "Required voltage of the booster = 3.559 kV (in terms of H.V)\n",
        "\n",
        "NOTE: Changes in the obtained answer from that of textbook is due to more precision here\n",
        "      kVA rating of booster is not calculated in textbook and here\n"
       ]
      }
     ],
     "prompt_number": 1
    }
   ],
   "metadata": {}
  }
 ]
}