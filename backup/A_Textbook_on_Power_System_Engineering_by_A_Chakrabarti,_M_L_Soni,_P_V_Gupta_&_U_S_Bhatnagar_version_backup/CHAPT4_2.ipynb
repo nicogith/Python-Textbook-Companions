{
 "metadata": {
  "name": ""
 },
 "nbformat": 3,
 "nbformat_minor": 0,
 "worksheets": [
  {
   "cells": [
    {
     "cell_type": "heading",
     "level": 1,
     "metadata": {},
     "source": [
      "CHAPTER 4.2: HEATING AND WELDING"
     ]
    },
    {
     "cell_type": "heading",
     "level": 2,
     "metadata": {},
     "source": [
      "Example 4.2.1, Page number 724-725"
     ]
    },
    {
     "cell_type": "code",
     "collapsed": false,
     "input": [
      "import math\n",
      "\n",
      "#Variable declaration\n",
      "P = 15.0*10**3     #Power supplied(W)\n",
      "V = 220.0          #Voltage(V)\n",
      "T_w = 1000.0       #Temperature of wire(\u00b0C)\n",
      "T_c = 600.0        #Temperature of charges(\u00b0C)\n",
      "k = 0.6            #Radiatting efficiency\n",
      "e = 0.9            #Emissivity\n",
      "\n",
      "#Calculation\n",
      "rho = 1.016/10**6                                                  #Specific resistance(ohm-m)\n",
      "d_square = 4*rho*P/(math.pi*V**2)                                  #d^2 in terms of l\n",
      "T_1 = T_w+273                                                      #Absolute temperature(\u00b0C)\n",
      "T_2 = T_c+273                                                      #Absolute temperature(\u00b0C)\n",
      "H = 5.72*10**4*k*e*((T_1/1000)**4-(T_2/1000)**4)                   #Heat produced(watts/sq.m)\n",
      "dl = P/(math.pi*H)\n",
      "l = (dl**2/d_square)**(1.0/3)                                      #Length of wire(m)\n",
      "d = dl/l                                                           #Diameter of wire(m)\n",
      "T_2_cold = 20.0+273                                                #Absolute temperature at the 20\u00b0C normal temperature(\u00b0C)\n",
      "T_1_cold = (H/(5.72*10**4*k*e)+(T_2_cold/1000)**4)**(1.0/4)*1000   #Absolute temperature when charge is cold(\u00b0C)\n",
      "T_1_c = T_1_cold-273                                               #Temperature when charge is cold(\u00b0C)\n",
      "\n",
      "#Result\n",
      "print('Diameter of the wire, d = %.3f cm' %(d*100))\n",
      "print('Length of the wire, l = %.2f m' %l)\n",
      "print('Temperature of the wire when charge is cold, T_1 = %.f \u00b0C absolute = %.f \u00b0C' %(T_1_cold,T_1_c))\n",
      "print('\\nNOTE: Slight changes in the obtained answer from that of textbook is due to more precision here')"
     ],
     "language": "python",
     "metadata": {},
     "outputs": [
      {
       "output_type": "stream",
       "stream": "stdout",
       "text": [
        "Diameter of the wire, d = 0.312 cm\n",
        "Length of the wire, l = 24.24 m\n",
        "Temperature of the wire when charge is cold, T_1 = 1197 \u00b0C absolute = 924 \u00b0C\n",
        "\n",
        "NOTE: Slight changes in the obtained answer from that of textbook is due to more precision here\n"
       ]
      }
     ],
     "prompt_number": 1
    },
    {
     "cell_type": "heading",
     "level": 2,
     "metadata": {},
     "source": [
      "Example 4.2.2, Page number 725"
     ]
    },
    {
     "cell_type": "code",
     "collapsed": false,
     "input": [
      "#Variable declaration\n",
      "P = 15.0*10**3         #Power supplied(W)\n",
      "V = 220.0              #Voltage(V)\n",
      "T_w = 1000.0           #Temperature of wire(\u00b0C)\n",
      "T_c = 600.0            #Temperature of charges(\u00b0C)\n",
      "k = 0.6                #Radiatting efficiency\n",
      "e = 0.9                #Emissivity\n",
      "thick = 0.25/1000      #Thickness of nickel-chrome strip(m)\n",
      "\n",
      "#Calculation\n",
      "rho = 1.016/10**6                                     #Specific resistance(ohm-m)\n",
      "R = V**2/P                                            #Resistance(ohm)\n",
      "l_w = R*thick/rho                                     #Length of strip in terms of w\n",
      "T_1 = T_w+273                                         #Absolute temperature(\u00b0C)\n",
      "T_2 = T_c+273                                         #Absolute temperature(\u00b0C)\n",
      "H = 5.72*10**4*k*e*((T_1/1000)**4-(T_2/1000)**4)      #Heat produced(watts/sq.m)\n",
      "wl = P/(2*H)\n",
      "w = (wl/l_w)**0.5                                     #Width of nickel-chrome strip(m)\n",
      "l = w*l_w                                             #Length of nickel-chrome strip(m)\n",
      "\n",
      "#Result\n",
      "print('Width of nickel-chrome strip, w = %.3f cm' %(w*100))\n",
      "print('Length of nickel-chrome strip, l = %.1f m' %l)"
     ],
     "language": "python",
     "metadata": {},
     "outputs": [
      {
       "output_type": "stream",
       "stream": "stdout",
       "text": [
        "Width of nickel-chrome strip, w = 1.223 cm\n",
        "Length of nickel-chrome strip, l = 9.7 m\n"
       ]
      }
     ],
     "prompt_number": 1
    },
    {
     "cell_type": "heading",
     "level": 2,
     "metadata": {},
     "source": [
      "Example 4.2.3, Page number 726-727"
     ]
    },
    {
     "cell_type": "code",
     "collapsed": false,
     "input": [
      "#Variable declaration\n",
      "R = 50.0    #Resistance of each resistor in oven(ohm)\n",
      "n = 6.0     #Number of resistance\n",
      "V = 400.0   #Supply voltage(V)\n",
      "tap = 50.0  #Auto-transformer tapping(%)\n",
      "\n",
      "#Calculation\n",
      "#Case(a)(i)\n",
      "P_a_i = n*V**2/R*10**-3                       #Power consumption for 6 elements in parallel(kW)\n",
      "#Case(a)(ii)\n",
      "P_each_a_ii = V**2/(R+R)*10**-3               #Power consumption in each group of 2 resistances in series(kW)\n",
      "P_a_ii = n/2*P_each_a_ii                      #Power consumption for 3 groups(kW)\n",
      "#Case(b)(i)\n",
      "V_b_i = V/3**0.5                              #Supply voltage against each resistance(V)\n",
      "P_each_b_i = 2*V_b_i**2/R*10**-3              #Power consumption in each branch(kW)\n",
      "P_b_i = n/2*P_each_b_i                        #Power consumption for 2 elements in parallel in each phase(kW)\n",
      "#Case(b)(ii)\n",
      "V_b_ii = V/3**0.5                             #Supply voltage to any branch(V)\n",
      "P_each_b_ii = V_b_ii**2/(R+R)*10**-3          #Power consumption in each branch(kW)\n",
      "P_b_ii = n/2*P_each_b_ii                      #Power consumption for 2 elements in series in each phase(kW)\n",
      "#Case(c)(i)\n",
      "P_each_c_i = V**2/(R+R)*10**-3                #Power consumption by each branch(kW)\n",
      "P_c_i = n/2*P_each_c_i                        #Power consumption for 2 elements in series in each branch(kW)\n",
      "#Case(c)(ii)\n",
      "P_each_c_ii = 2*V**2/R*10**-3                 #Power consumption by each branch(kW)\n",
      "P_c_ii = n/2*P_each_c_ii                      #Power consumption for 2 elements in parallel in each branch(kW)\n",
      "#Case(d)\n",
      "V_d = V*tap/100                               #Voltage under tapping(V)\n",
      "ratio_V = V_d/V                               #Ratio of normal voltage to tapped voltage\n",
      "loss = ratio_V**2                             #Power loss in terms of normal power\n",
      "\n",
      "#Result\n",
      "print('Case(a): AC Single phase 400 V supply')\n",
      "print('         Case(i) :  Power consumption for 6 elements in parallel = %.1f kW' %P_a_i)\n",
      "print('         Case(ii):  Power consumption for 3 groups in parallel with 2 element in series = %.1f kW' %P_a_ii)\n",
      "print('Case(b): AC Three phase 400 V supply with star combination')\n",
      "print('         Case(i) :  Power consumption for 2 elements in parallel in each phase = %.1f kW' %P_b_i)\n",
      "print('         Case(ii):  Power consumption for 2 elements in series in each phase = %.1f kW' %P_b_ii)\n",
      "print('Case(c): AC Three phase 400 V supply with delta combination')\n",
      "print('         Case(i) :  Power consumption for 2 elements in series in each branch = %.1f kW' %P_c_i)\n",
      "print('         Case(ii):  Power consumption for 2 elements in parallel in each branch = %.1f kW' %P_c_ii)\n",
      "print('Case(d): Power loss will be %.2f of the values obtained as above with auto-transformer tapping' %loss)"
     ],
     "language": "python",
     "metadata": {},
     "outputs": [
      {
       "output_type": "stream",
       "stream": "stdout",
       "text": [
        "Case(a): AC Single phase 400 V supply\n",
        "         Case(i) :  Power consumption for 6 elements in parallel = 19.2 kW\n",
        "         Case(ii):  Power consumption for 3 groups in parallel with 2 element in series = 4.8 kW\n",
        "Case(b): AC Three phase 400 V supply with star combination\n",
        "         Case(i) :  Power consumption for 2 elements in parallel in each phase = 6.4 kW\n",
        "         Case(ii):  Power consumption for 2 elements in series in each phase = 1.6 kW\n",
        "Case(c): AC Three phase 400 V supply with delta combination\n",
        "         Case(i) :  Power consumption for 2 elements in series in each branch = 4.8 kW\n",
        "         Case(ii):  Power consumption for 2 elements in parallel in each branch = 19.2 kW\n",
        "Case(d): Power loss will be 0.25 of the values obtained as above with auto-transformer tapping\n"
       ]
      }
     ],
     "prompt_number": 1
    },
    {
     "cell_type": "heading",
     "level": 2,
     "metadata": {},
     "source": [
      "Example 4.2.4, Page number 728"
     ]
    },
    {
     "cell_type": "code",
     "collapsed": false,
     "input": [
      "#Variable declaration\n",
      "w_brass = 1000.0         #Weight of brass(kg)\n",
      "time = 1.0               #Time(hour)\n",
      "heat_sp = 0.094          #Specific heat\n",
      "fusion = 40.0            #Latent heat of fusion(kcal/kg)\n",
      "T_initial = 24.0         #Initial temperature(\u00b0C)\n",
      "melt_point = 920.0       #Melting point of brass(\u00b0C)\n",
      "n = 0.65                 #Efficiency\n",
      "\n",
      "#Calculation\n",
      "heat_req = w_brass*heat_sp*(melt_point-T_initial)     #Heat required to raise the temperature(kcal)\n",
      "heat_mel = w_brass*fusion                             #Heat required for melting(kcal)\n",
      "heat_total = heat_req+heat_mel                        #Total heat required(kcal)\n",
      "energy = heat_total*1000*4.18/(10**3*3600*n)          #Energy input(kWh)\n",
      "power = energy/time                                   #Power(kW)\n",
      "\n",
      "#Result\n",
      "print('Amount of energy required to melt brass = %.f kWh' %energy)"
     ],
     "language": "python",
     "metadata": {},
     "outputs": [
      {
       "output_type": "stream",
       "stream": "stdout",
       "text": [
        "Amount of energy required to melt brass = 222 kWh\n"
       ]
      }
     ],
     "prompt_number": 1
    },
    {
     "cell_type": "heading",
     "level": 2,
     "metadata": {},
     "source": [
      "Example 4.2.5, Page number 728-729"
     ]
    },
    {
     "cell_type": "code",
     "collapsed": false,
     "input": [
      "#Variable declaration\n",
      "V_2 = 12.0         #Secondary voltage(V)\n",
      "P = 30.0*10**3     #Power(W)\n",
      "PF = 0.5           #Power factor\n",
      "\n",
      "#Calculation\n",
      "I_2 = P/(V_2*PF)            #Secondary current(A)\n",
      "Z_2 = V_2/I_2               #Secondary impedance(ohm)\n",
      "R_2 = Z_2*PF                #Secondary resistance(ohm)\n",
      "sin_phi = (1-PF**2)**0.5\n",
      "X_2 = Z_2*sin_phi           #Secondary reactance(ohm)\n",
      "h = R_2/X_2\n",
      "H_m = h                     #Height up to which the crucible should be filled to obtain maximum heating effect in terms of H_c\n",
      "\n",
      "#Result\n",
      "print('Height up to which the crucible should be filled to obtain maximum heating effect, H_m = %.3f*H_c ' %H_m)\n",
      "print('\\nNOTE: ERROR: Calculation mistake in textbook solution and P is 30 kW not 300 kW')"
     ],
     "language": "python",
     "metadata": {},
     "outputs": [
      {
       "output_type": "stream",
       "stream": "stdout",
       "text": [
        "Height up to which the crucible should be filled to obtain maximum heating effect, H_m = 0.577*H_c \n",
        "\n",
        "NOTE: ERROR: Calculation mistake in textbook solution and P is 30 kW not 300 kW\n"
       ]
      }
     ],
     "prompt_number": 1
    },
    {
     "cell_type": "heading",
     "level": 2,
     "metadata": {},
     "source": [
      "Example 4.2.6, Page number 732"
     ]
    },
    {
     "cell_type": "code",
     "collapsed": false,
     "input": [
      "import math\n",
      "\n",
      "#Variable declaration\n",
      "l = 10.0         #Length of material(cm)\n",
      "b = 10.0         #Breadth of material(cm)\n",
      "t = 3.0          #Thickness of material(cm)\n",
      "f = 20.0*10**6   #Frequency(Hz)\n",
      "P = 400.0        #Power absorbed(W)\n",
      "e_r = 5.0        #Relative permittivity\n",
      "PF = 0.05        #Power factor\n",
      "\n",
      "#Calculation\n",
      "e_0 = 8.854*10**-12                  #Absolute permittivity\n",
      "A = l*b*10**-4                       #Area(Sq.m)\n",
      "C = e_0*e_r*A/(t/100)                #Capacitace of parallel plate condenser(F)\n",
      "X_c = 1.0/(2*math.pi*f*C)            #Reactance of condenser(ohm)\n",
      "phi = math.acos(PF)*180/math.pi      #\u03a6(\u00b0)\n",
      "R = X_c*math.tan(phi*math.pi/180)    #Resistance of condenser(ohm)\n",
      "V = (P*R)**0.5                       #Voltage necessary for heating(V)\n",
      "I_c = V/X_c                          #Current flowing in the material(A)\n",
      "\n",
      "#Result\n",
      "print('Voltage necessary for heating, V = %.f V' %V)\n",
      "print('Current flowing in the material, I_c = %.2f A' %I_c)\n",
      "print('\\nNOTE: Changes in the obtained answer from that of textbook is due to more precision here & approximation in textbook')"
     ],
     "language": "python",
     "metadata": {},
     "outputs": [
      {
       "output_type": "stream",
       "stream": "stdout",
       "text": [
        "Voltage necessary for heating, V = 2076 V\n",
        "Current flowing in the material, I_c = 3.85 A\n",
        "\n",
        "NOTE: Changes in the obtained answer from that of textbook is due to more precision here & approximation in textbook\n"
       ]
      }
     ],
     "prompt_number": 1
    },
    {
     "cell_type": "heading",
     "level": 2,
     "metadata": {},
     "source": [
      "Example 4.2.7, Page number 732-733"
     ]
    },
    {
     "cell_type": "code",
     "collapsed": false,
     "input": [
      "import math\n",
      "\n",
      "#Variable declaration\n",
      "l = 4.0          #Length of material(cm)\n",
      "b = 2.0          #Breadth of material(cm)\n",
      "t = 1.0          #Thickness of material(cm)\n",
      "l_e = 20.0       #Length of area(cm)\n",
      "b_e = 2.0        #Breadth of area(cm)\n",
      "dis = 1.6        #Distance of separation of electrode(cm)\n",
      "f = 20.0*10**6   #Frequency(Hz)\n",
      "P = 80.0         #Power absorbed(W)\n",
      "e_r1 = 5.0       #Relative permittivity\n",
      "e_r2 = 1.0       #Relative permittivity of air\n",
      "PF = 0.05        #Power factor\n",
      "\n",
      "#Calculation\n",
      "e_0 = 8.854*10**-12                                    #Absolute permittivity\n",
      "A_1 = (l_e-l)*b_e*10**-4                               #Area of one electrode(sq.m)\n",
      "A_2 = l*b*10**-4                                       #Area of material under electrode(sq.m)\n",
      "d = dis*10**-2                                         #Distance of separation of electrode(m)\n",
      "d_1 = t*10**-2                                         #(m)\n",
      "d_2 = (d-d_1)                                          #(m)\n",
      "C = e_0*((A_1*e_r2/d)+(A_2/((d_1/e_r1)+(d_2/e_r2))))   #Capacitance(F)\n",
      "X_c = 1.0/(2*math.pi*f*C)                              #Reactance(ohm)\n",
      "phi = math.acos(PF)*180/math.pi                        #\u03a6(\u00b0)\n",
      "R = X_c*math.tan(phi*math.pi/180)                      #Resistance(ohm)\n",
      "V = (P*R)**0.5                                         #Voltage applied across electrodes(V)\n",
      "I_c = V/X_c                                            #Current through the material(A)\n",
      "\n",
      "#Result\n",
      "print('Voltage applied across electrodes, V = %.f V' %V)\n",
      "print('Current through the material, I_c = %.1f A' %I_c)\n",
      "print('\\nNOTE: ERROR: Calculation mistake in the textbook solution')"
     ],
     "language": "python",
     "metadata": {},
     "outputs": [
      {
       "output_type": "stream",
       "stream": "stdout",
       "text": [
        "Voltage applied across electrodes, V = 2188 V\n",
        "Current through the material, I_c = 0.7 A\n",
        "\n",
        "NOTE: ERROR: Calculation mistake in the textbook solution\n"
       ]
      }
     ],
     "prompt_number": 1
    },
    {
     "cell_type": "heading",
     "level": 2,
     "metadata": {},
     "source": [
      "Example 4.2.8, Page number 736-737"
     ]
    },
    {
     "cell_type": "code",
     "collapsed": false,
     "input": [
      "#Variable declaration\n",
      "weight = 3000.0       #Weight of steel(kg)\n",
      "I = 5000.0            #Current(A)\n",
      "V_arc = 60.0          #Arc voltage(V)\n",
      "R_t = 0.003           #Resistance of transformer(ohm)\n",
      "X_t = 0.005           #Reactance of transformer(ohm)\n",
      "heat_sp = 0.12        #Specific heat of steel\n",
      "heat_latent = 8.89    #Latent heat of steel(kilo-cal/kg)\n",
      "t_2 = 1370.0          #Melting point of steel(\u00b0C)\n",
      "t_1 = 18.0            #Initial temperature of steel(\u00b0C)\n",
      "n = 0.6               #Overall efficiency\n",
      "\n",
      "#Calculation\n",
      "R_arc_phase = V_arc/I                           #Arc resistance per phase(ohm)\n",
      "IR_t = I*R_t                                    #Voltage drop across resistance(V)\n",
      "IX_t = I*X_t                                    #Voltage drop across reactance(V)\n",
      "V = ((V_arc+IR_t)**2+IX_t**2)**0.5              #Voltage(V)\n",
      "PF = (V_arc+IR_t)/V                             #Power factor\n",
      "heat_kg = (t_2-t_1)*heat_sp+heat_latent         #Amount of heat required per kg of steel(kcal)\n",
      "heat_total = weight*heat_kg                     #Heat for 3 tonnes(kcal)\n",
      "heat_actual_kcal = heat_total/n                 #Actual heat required(kcal)\n",
      "heat_actual = heat_actual_kcal*1.162*10**-3     #Actual heat required(kWh)\n",
      "P_input = 3*V*I*PF*10**-3                       #Power input(kW)\n",
      "time = heat_actual/P_input*60                   #Time required(min)\n",
      "n_elect = 3*V_arc*I/(P_input*1000)*100          #Electrical efficiency(%)\n",
      "\n",
      "#Result\n",
      "print('Time taken to melt 3 metric tonnes of steel = %.f minutes' %time)\n",
      "print('Power factor of the furnace = %.2f ' %PF)\n",
      "print('Electrical efficiency of the furnace = %.f percent' %n_elect)\n",
      "print('\\nNOTE: ERROR: Calculation and substitution mistake in the textbook solution')"
     ],
     "language": "python",
     "metadata": {},
     "outputs": [
      {
       "output_type": "stream",
       "stream": "stdout",
       "text": [
        "Time taken to melt 3 metric tonnes of steel = 53 minutes\n",
        "Power factor of the furnace = 0.95 \n",
        "Electrical efficiency of the furnace = 80 percent\n",
        "\n",
        "NOTE: ERROR: Calculation and substitution mistake in the textbook solution\n"
       ]
      }
     ],
     "prompt_number": 1
    }
   ],
   "metadata": {}
  }
 ]
}