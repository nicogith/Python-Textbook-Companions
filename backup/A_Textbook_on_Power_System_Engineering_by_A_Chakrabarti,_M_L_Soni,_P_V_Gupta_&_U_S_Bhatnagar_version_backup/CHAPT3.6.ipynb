{
 "metadata": {
  "name": ""
 },
 "nbformat": 3,
 "nbformat_minor": 0,
 "worksheets": [
  {
   "cells": [
    {
     "cell_type": "heading",
     "level": 1,
     "metadata": {},
     "source": [
      "CHAPTER 3.6: CIRCUIT BREAKER"
     ]
    },
    {
     "cell_type": "heading",
     "level": 2,
     "metadata": {},
     "source": [
      "Example 3.6.1, Page number 545"
     ]
    },
    {
     "cell_type": "code",
     "collapsed": false,
     "input": [
      "import math\n",
      "\n",
      "#Variable declaration\n",
      "f = 50.0          #Generator frequency(Hz)\n",
      "kV = 7.5          #emf to neutral rms voltage(kV)\n",
      "X = 4.0           #Reactance of generator & connected system(ohm)\n",
      "C = 0.01*10**-6   #Distributed capacitance(F)\n",
      "\n",
      "#Calculation\n",
      "#Case(a)\n",
      "v = 2**0.5*kV                           #Active recovery voltage i.e phase to neutral(kV)\n",
      "V_max_restrike = v*2                    #Maximum restriking voltage i.e phase to neutral(kV)\n",
      "#Case(b)\n",
      "L = X/(2.0*math.pi*f)                   #Inductance(H)\n",
      "f_n = 1/(2.0*math.pi*(L*C)**0.5*1000)   #Frequency of transient oscillation(kHZ)\n",
      "#Case(c)\n",
      "t = 1.0/(2.0*f_n*1000)                  #Time(sec)\n",
      "avg_rate = V_max_restrike/t             #Average rate of rise of voltage upto first peak of oscillation(kV/s)\n",
      "\n",
      "#Result\n",
      "print('Case(a): Maximum re-striking voltage(phase-to-neutral) = %.1f kV' %V_max_restrike)\n",
      "print('Case(b): Frequency of transient oscillation, f_n = %.1f kHz' %f_n)\n",
      "print('Case(c): Average rate of rise of voltage upto first peak of oscillation = %.f kV/s' %avg_rate)\n",
      "print('\\nNOTE: Changes in the obtained answer from that of textbook is due to more approximation in the textbook')"
     ],
     "language": "python",
     "metadata": {},
     "outputs": [
      {
       "output_type": "stream",
       "stream": "stdout",
       "text": [
        "Case(a): Maximum re-striking voltage(phase-to-neutral) = 21.2 kV\n",
        "Case(b): Frequency of transient oscillation, f_n = 14.1 kHz\n",
        "Case(c): Average rate of rise of voltage upto first peak of oscillation = 598413 kV/s\n",
        "\n",
        "NOTE: Changes in the obtained answer from that of textbook is due to more approximation in the textbook\n"
       ]
      }
     ],
     "prompt_number": 1
    },
    {
     "cell_type": "heading",
     "level": 2,
     "metadata": {},
     "source": [
      "Example 3.6.3, Page number 545-546"
     ]
    },
    {
     "cell_type": "code",
     "collapsed": false,
     "input": [
      "import math\n",
      "\n",
      "#Variable declaration\n",
      "kV = 132.0       #Voltage(kV)\n",
      "pf = 0.3         #Power factor of the fault\n",
      "K3 = 0.95        #Recovery voltage was 0.95 of full line value\n",
      "f_n = 16000.0    #Natural frequency of the restriking transient(Hz)\n",
      "\n",
      "#Calculation\n",
      "kV_phase = kV/3**0.5                    #System voltage(kV)\n",
      "sin_phi = math.sin(math.acos(pf))       #Sin\u03c6\n",
      "K2 = 1.0\n",
      "v = K2*K3*kV/3**0.5*2**0.5*sin_phi      #Active recovery voltage(kV)\n",
      "V_max_restrike = 2*v                    #Maximum restriking voltage(kV)\n",
      "t = 1.0/(2.0*f_n)                       #Time(sec)\n",
      "RRRV = V_max_restrike/(t*10**6)         #Rate of rise of restriking voltage(kV/\u00b5-sec)\n",
      "\n",
      "#Result\n",
      "print('Rate of rise of restriking voltage, R.R.R.V = %.2f kV/\u00b5-sec' %RRRV)"
     ],
     "language": "python",
     "metadata": {},
     "outputs": [
      {
       "output_type": "stream",
       "stream": "stdout",
       "text": [
        "Rate of rise of restriking voltage, R.R.R.V = 6.25 kV/\u00b5-sec\n"
       ]
      }
     ],
     "prompt_number": 1
    },
    {
     "cell_type": "heading",
     "level": 2,
     "metadata": {},
     "source": [
      "Example 3.6.5, Page number 565"
     ]
    },
    {
     "cell_type": "code",
     "collapsed": false,
     "input": [
      "#Variable declaration\n",
      "kV = 132.0        #Voltage(kV)\n",
      "C = 0.01*10**-6   #Phase to ground capacitance(F)\n",
      "L = 6.0           #Inductance(H)\n",
      "i = 5.0           #Magnetizing current(A)\n",
      "\n",
      "#Calculation\n",
      "V_pros = i*(L/C)**0.5/1000    #Prospective value of voltage(kV)\n",
      "R = 1.0/2*(L/C)**0.5/1000     #Resistance to be used across the contacts to eliminate the restriking voltage(k-ohm)\n",
      "\n",
      "#Result\n",
      "print('Voltage across the pole of a CB = %.1f kV' %V_pros)\n",
      "print('Resistance to be used across the contacts to eliminate the restriking voltage, R = %.2f k-ohm' %R)\n",
      "print('\\nNOTE: ERROR: Unit of final answer R is k-ohm, not ohm as in the textbook solution')"
     ],
     "language": "python",
     "metadata": {},
     "outputs": [
      {
       "output_type": "stream",
       "stream": "stdout",
       "text": [
        "Voltage across the pole of a CB = 122.5 kV\n",
        "Resistance to be used across the contacts to eliminate the restriking voltage, R = 12.25 k-ohm\n",
        "\n",
        "NOTE: ERROR: Unit of final answer R is k-ohm, not ohm as in the textbook solution\n"
       ]
      }
     ],
     "prompt_number": 1
    },
    {
     "cell_type": "heading",
     "level": 2,
     "metadata": {},
     "source": [
      "Example 3.6.6, Page number 567"
     ]
    },
    {
     "cell_type": "code",
     "collapsed": false,
     "input": [
      "#Variable declaration\n",
      "I = 1200.0     #Rated normal current(A)\n",
      "MVA = 1500.0   #Rated MVA\n",
      "kV = 33.0      #Voltage(kV)\n",
      "\n",
      "#Calculation\n",
      "I_breaking = MVA/(3**0.5*kV)   #Rated symmetrical breaking current(kA)\n",
      "I_making = I_breaking*2.55     #Rated making current(kA)\n",
      "I_short = I_breaking           #Short-time rating(kA)\n",
      "\n",
      "#Result\n",
      "print('Rated normal current = %.f A' %I)\n",
      "print('Breaking current = %.2f kA' %I_breaking)\n",
      "print('Making current = %.f kA' %I_making)\n",
      "print('Short-time rating = %.2f kA for 3 secs' %I_short)"
     ],
     "language": "python",
     "metadata": {},
     "outputs": [
      {
       "output_type": "stream",
       "stream": "stdout",
       "text": [
        "Rated normal current = 1200 A\n",
        "Breaking current = 26.24 kA\n",
        "Making current = 67 kA\n",
        "Short-time rating = 26.24 kA for 3 secs\n"
       ]
      }
     ],
     "prompt_number": 1
    },
    {
     "cell_type": "heading",
     "level": 2,
     "metadata": {},
     "source": [
      "Example 3.6.8, Page number 569"
     ]
    },
    {
     "cell_type": "code",
     "collapsed": false,
     "input": [
      "#Variable declaration\n",
      "kVA = 7500.0    #Rated kVA\n",
      "X_st = 9.0      #Sub-transient reactance(%)\n",
      "X_t = 15.0      #Transient reactance(%)\n",
      "X_d = 100.0     #Direct-axis reactance(%)\n",
      "kV = 13.8       #Voltage(kV). Assumption\n",
      "\n",
      "#Calculation\n",
      "kVA_base = 7500.0   #Base kVA\n",
      "kVA_sc_sustained = kVA_base/X_d*100     #Sustained S.C kVA\n",
      "I_sc_sustained = kVA_base/(3**0.5*kV)   #Sustained S.C current(A). rms\n",
      "I_st = kVA*100/(X_st*3**0.5*kV)         #Initial symmetrical rms current in the breaker(A)\n",
      "I_max_dc = 2**0.5*I_st                  #Maximum possible dc component of the short-circuit(A)\n",
      "I_moment = 1.6*I_st                     #Momentary current rating of the breaker(A)\n",
      "I_interrupt = 1.1*I_st                  #Current to be interrupted by the breaker(A)\n",
      "I_kVA = 3**0.5*I_interrupt*kV           #Interrupting kVA\n",
      "\n",
      "#Result\n",
      "print('Case(a): Sustained short circuit in the breaker = %.1f A (rms)' %I_sc_sustained)\n",
      "print('Case(b): Initial symmetrical rms current in the breaker = %.f A' %I_st)\n",
      "print('Case(c): Maximum possible dc component of the short-circuit in the breaker = %.f A' %I_max_dc)\n",
      "print('Case(d): Momentary current rating of the breaker = %.f A (rms)' %I_moment)\n",
      "print('Case(e): Current to be interrupted by the breaker = %.f A (rms)' %I_interrupt)\n",
      "print('Case(f): Interrupting kVA = %.f kVA' %I_kVA)"
     ],
     "language": "python",
     "metadata": {},
     "outputs": [
      {
       "output_type": "stream",
       "stream": "stdout",
       "text": [
        "Case(a): Sustained short circuit in the breaker = 313.8 A (rms)\n",
        "Case(b): Initial symmetrical rms current in the breaker = 3486 A\n",
        "Case(c): Maximum possible dc component of the short-circuit in the breaker = 4931 A\n",
        "Case(d): Momentary current rating of the breaker = 5578 A (rms)\n",
        "Case(e): Current to be interrupted by the breaker = 3835 A (rms)\n",
        "Case(f): Interrupting kVA = 91667 kVA\n"
       ]
      }
     ],
     "prompt_number": 1
    }
   ],
   "metadata": {}
  }
 ]
}