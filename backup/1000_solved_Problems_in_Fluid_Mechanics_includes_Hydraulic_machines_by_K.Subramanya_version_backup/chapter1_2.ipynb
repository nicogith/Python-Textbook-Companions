{
 "metadata": {
  "name": "",
  "signature": "sha256:cdd86001284b86f17980e1bc93a876da18f7be3f95052c4661d0dcf4eaefd863"
 },
 "nbformat": 3,
 "nbformat_minor": 0,
 "worksheets": [
  {
   "cells": [
    {
     "cell_type": "heading",
     "level": 1,
     "metadata": {},
     "source": [
      "Chapter 1:Properties of Fluids"
     ]
    },
    {
     "cell_type": "heading",
     "level": 2,
     "metadata": {},
     "source": [
      "Example 1.1 Page No5"
     ]
    },
    {
     "cell_type": "code",
     "collapsed": false,
     "input": [
      "#variable initialisation\n",
      "\n",
      "w=500        #mass of liquid in N\n",
      "\n",
      "g=9.806      #gravity in m/s*2\n",
      "\n",
      "g1=3.5       #gravity in m/s*2\n",
      "\n",
      "g2=18.0      #gravity in m/s*2\n",
      "\n",
      "\n",
      "#Solution\n",
      "\n",
      "m=w/g        #mass\n",
      "\n",
      "print \"a)m=\",round(m,2),\"kg\"\n",
      "\n",
      "w1=m*g1      #weight\n",
      "\n",
      "w2=m*g2\n",
      "\n",
      "print \"b)w1=\",round(w1,2),\"N\"\n",
      "\n",
      "print \"w2=\",round(w2,1),\"N\"\n"
     ],
     "language": "python",
     "metadata": {},
     "outputs": [
      {
       "output_type": "stream",
       "stream": "stdout",
       "text": [
        "a)m= 50.99 kg\n",
        "b)w1= 178.46 N\n",
        "w2= 917.8 N\n"
       ]
      }
     ],
     "prompt_number": 2
    },
    {
     "cell_type": "heading",
     "level": 2,
     "metadata": {},
     "source": [
      "Example 1.2 Page No5"
     ]
    },
    {
     "cell_type": "code",
     "collapsed": false,
     "input": [
      "#variable initialisation\n",
      "\n",
      "weight=400        # weight in N\n",
      "\n",
      "gravity= 9.806    # gravity in m/s^2\n",
      "\n",
      "F=800             # force in n\n",
      "\n",
      "g=1.6             # gravity in m/s^2\n",
      "\n",
      "#Solution\n",
      "\n",
      "m=round(weight/gravity,3)\n",
      "\n",
      "#mass is constant and does not change with location.By Newton's second law F=m*a\"\n",
      "\n",
      "a=F/m\n",
      "\n",
      "#acceleration is independent of g.Hence both on the earth ,as well as on moon\"\n",
      "\n",
      "print \"a=\",round(a,3),\"m/s^2\"\n",
      "\n",
      " \n",
      "\n",
      "\n"
     ],
     "language": "python",
     "metadata": {},
     "outputs": [
      {
       "output_type": "stream",
       "stream": "stdout",
       "text": [
        "a= 19.612 m/s^2\n"
       ]
      }
     ],
     "prompt_number": 4
    },
    {
     "cell_type": "heading",
     "level": 2,
     "metadata": {},
     "source": [
      "Example 1.3 Page No5"
     ]
    },
    {
     "cell_type": "code",
     "collapsed": false,
     "input": [
      "#variable initialisation\n",
      "\n",
      "RD=0.8          #relative density\n",
      "\n",
      "rho_w=998       #density of water at 20 degree C in kg/m^3\n",
      "\n",
      "g=9.81          #gravity\n",
      "\n",
      "v=2.3           #viscosity in centistoke\n",
      "\n",
      "#calculation\n",
      "\n",
      "UnitWeight=((rho_w*RD)*g)/1000         #Unit Weight \n",
      "\n",
      "print \"(i) gamma=\",round(UnitWeight,3),\"kN/m^3\"\n",
      "\n",
      "v=2.3/(10**6)                          #viscosity in m^2/s\n",
      "\n",
      "rho=round(rho_w*RD,1)                  #dymanic viscosity \n",
      "\n",
      "mu=v*rho\n",
      "\n",
      "print \"(ii) mu=\"'%4.3E' % mu,\"Pa.s.\"\n",
      "\n"
     ],
     "language": "python",
     "metadata": {},
     "outputs": [
      {
       "output_type": "stream",
       "stream": "stdout",
       "text": [
        "(i) gamma= 7.832 kN/m^3\n",
        "(ii) mu=1.836E-03 Pa.s.\n"
       ]
      }
     ],
     "prompt_number": 5
    },
    {
     "cell_type": "heading",
     "level": 2,
     "metadata": {},
     "source": [
      "Example 1.4 Page No5"
     ]
    },
    {
     "cell_type": "code",
     "collapsed": false,
     "input": [
      "from __future__ import division\n",
      "\n",
      "import math\n",
      "\n",
      "#variable initialisation\n",
      "\n",
      "V=1.50                #Velocity in m/s\n",
      "\n",
      "h=3                   #Height in mm\n",
      "\n",
      "mu=0.2                #Dynamic viscosity in Pa.s.\n",
      "\n",
      "#Calculation\n",
      "\n",
      "#Since the gap between the plates is very small,assume linear variation of velocity\n",
      "\n",
      "#Let us take du/dy=a\n",
      "\n",
      "a=V/(h/1000)\n",
      "\n",
      "print \"du/dy=\",a,\"(1/s)\"\n",
      "\n",
      "tow=mu*(a)            #calculating shear stress on the bottom plate\n",
      "\n",
      "print \"tow=\",int(tow),\"N/m^2\"\n"
     ],
     "language": "python",
     "metadata": {},
     "outputs": [
      {
       "output_type": "stream",
       "stream": "stdout",
       "text": [
        "du/dy= 500.0 (1/s)\n",
        "tow= 100 N/m^2\n"
       ]
      }
     ],
     "prompt_number": 7
    },
    {
     "cell_type": "heading",
     "level": 2,
     "metadata": {},
     "source": [
      "Example 1.5 Page No6"
     ]
    },
    {
     "cell_type": "code",
     "collapsed": false,
     "input": [
      "from sympy import *\n",
      "\n",
      "#Variable Initialisation\n",
      "\n",
      "mu=1.5                                 #coefficient of dynamic viscosity\n",
      "\n",
      "#Calculation\n",
      "\n",
      "y = Symbol('y')\n",
      "\n",
      "u=4*y-y**2\n",
      "\n",
      "du=diff(u,y,1)                         #differentiating u with respect to y\n",
      "\n",
      "#tau=mu*(du)                           #Shear stress\n",
      "\n",
      "y=0                                    #taking y as 0\n",
      "\n",
      "tau_0=mu*(4-2*y)\n",
      "\n",
      "print \"tau_0=\",tau_0,\"Pa.s\"\n",
      "\n",
      "y=2                                    #taking y as 2\n",
      "\n",
      "tau_2=mu*(4-2*y)\n",
      "\n",
      "print \"tau_2=\",int(tau_2)\n"
     ],
     "language": "python",
     "metadata": {},
     "outputs": [
      {
       "output_type": "stream",
       "stream": "stdout",
       "text": [
        "tau_0= 6.0 Pa.s\n",
        "tau_2= 0\n"
       ]
      }
     ],
     "prompt_number": 11
    },
    {
     "cell_type": "heading",
     "level": 2,
     "metadata": {},
     "source": [
      "Example 1.9 Page No7"
     ]
    },
    {
     "cell_type": "code",
     "collapsed": false,
     "input": [
      "from __future__ import division\n",
      "\n",
      "import math\n",
      "\n",
      "#variable initialisation\n",
      "\n",
      "N=240                         #speed in rpm\n",
      "\n",
      "D=90                          #Diameter in mm\n",
      "\n",
      "D1=95                         #internal diameter in mm\n",
      "\n",
      "mu=2                          #dynamic viscosity in poise\n",
      "\n",
      "L=50                          #length in cm\n",
      "\n",
      "#Calculation\n",
      "\n",
      "mu=mu/10                      #into Pa.s\n",
      "\n",
      "omega=2*math.pi*N/60\n",
      "\n",
      "V=omega*(D/1000)/2            #Circumferential velocity of the shaft\n",
      "\n",
      "h=(D1-D)/2\n",
      "\n",
      "#Assuming linear variation of velocity across the gap,\n",
      "\n",
      "du=V                          #Velocity gradient \n",
      "\n",
      "dr=h/1000\n",
      "\n",
      "tau=mu*(du/dr)                #Shear stress on the shaft\n",
      "\n",
      "F_s=tau*(2*math.pi*(D/1000)/2)*(L/100)  #shear force\n",
      "\n",
      "T=F_s*((D/1000)/2)\n",
      "\n",
      "P=(2*math.pi*N/60)*T          #Power required\n",
      "\n",
      "print \"P=\",round(P,1),\"W\"\n"
     ],
     "language": "python",
     "metadata": {},
     "outputs": [
      {
       "output_type": "stream",
       "stream": "stdout",
       "text": [
        "P= 14.5 W\n"
       ]
      }
     ],
     "prompt_number": 12
    },
    {
     "cell_type": "heading",
     "level": 2,
     "metadata": {},
     "source": [
      "Example 1.10 Page No7"
     ]
    },
    {
     "cell_type": "code",
     "collapsed": false,
     "input": [
      "from __future__ import division\n",
      "\n",
      "import math\n",
      "\n",
      "#variable initialisation\n",
      "\n",
      "mu=6                                #dynamic viscosity in poise\n",
      "\n",
      "h=0.02                              #radical clearence in mm\n",
      "\n",
      "D=3                                 #diameter in cm\n",
      "\n",
      "L=10                                #length in cm\n",
      "\n",
      "W_s=7.51                            #effective weight of the sleeve in N\n",
      "\n",
      "#Calculation\n",
      "\n",
      "#tau=mu*(du/dr)\n",
      "\n",
      "tau=(mu/(h/100))                   #Shear stress\n",
      "\n",
      "#shaer stress=submerged weight of the sleeve\n",
      "\n",
      "#(2*math.pi*r*L)*tau=W_s\n",
      "\n",
      "a=(2*math.pi*((D/100)/2)*(L/100)*tau)\n",
      "\n",
      "V=W_s/a                           #velocity\n",
      "\n",
      "print \"V=\",round(V*100,2),\"cm/s\"\n"
     ],
     "language": "python",
     "metadata": {},
     "outputs": [
      {
       "output_type": "stream",
       "stream": "stdout",
       "text": [
        "V= 2.66 cm/s\n"
       ]
      }
     ],
     "prompt_number": 13
    },
    {
     "cell_type": "heading",
     "level": 2,
     "metadata": {},
     "source": [
      "Example 1.11 Page No8"
     ]
    },
    {
     "cell_type": "code",
     "collapsed": false,
     "input": [
      "from __future__ import division\n",
      "\n",
      "import math\n",
      "\n",
      "#variable initialisation\n",
      "\n",
      "v=3.7E-4                       #kinematic viscosity in m^2/s\n",
      "\n",
      "rho=0.85                       #relative density in kg/m^3\n",
      "\n",
      "V=15                           #velocity in cm\n",
      "\n",
      "D=25                           #diameter in cm\n",
      "\n",
      "L=3.3                          #length in m\n",
      "\n",
      "D1=25.018                      #internal diameter in cm\n",
      "\n",
      "#Calculation\n",
      "\n",
      "mu=v*rho*998\n",
      "\n",
      "h=(D1-D)/(2E2)\n",
      "\n",
      "tau=mu*((V/100)/h)             #shear stress\n",
      "\n",
      "A=math.pi*(D/100)*L            #area\n",
      "\n",
      "F_s=A*tau                      #Frictional resistance\n",
      "\n",
      "print \"F_s=\",round(F_s/1000,3),\"kN\"\n"
     ],
     "language": "python",
     "metadata": {},
     "outputs": [
      {
       "output_type": "stream",
       "stream": "stdout",
       "text": [
        "F_s= 1.356 kN\n"
       ]
      }
     ],
     "prompt_number": 14
    },
    {
     "cell_type": "heading",
     "level": 2,
     "metadata": {},
     "source": [
      "Example 1.13 Page No8"
     ]
    },
    {
     "cell_type": "code",
     "collapsed": false,
     "input": [
      "from __future__ import division\n",
      "\n",
      "import math\n",
      "\n",
      "#variable initialisation\n",
      "\n",
      "D=10                                   #Diameter in cm\n",
      "\n",
      "N=90                                   #rotations in rpm\n",
      "\n",
      "D1=9.75                                #diameter 2 in cm\n",
      "\n",
      "Torque=1.2                             #torque in N.m\n",
      "\n",
      "H=2.5                                  #height in cm\n",
      "\n",
      "#Calculation\n",
      "\n",
      "D=D/100                                #into m\n",
      "\n",
      "D1=D1/100\n",
      "\n",
      "V=math.pi*D*N/60                       #Tangential velocity\n",
      "\n",
      "h=(D-D1)/2                             #Radical clearence\n",
      "\n",
      "tau=(V/h)                              #shear stress\n",
      "\n",
      "area=2*math.pi*(D/2)*(H/100)           #calculating area\n",
      "\n",
      "F_s=tau*area                           #shear force\n",
      "\n",
      "T=(F_s*(D/2))                          #Torque\n",
      "\n",
      "mu=1.2*100/T                           #Coefficient of viscosity\n",
      "\n",
      "print \"mu=\",round(mu/100,3),\"Pa.s\"\n"
     ],
     "language": "python",
     "metadata": {},
     "outputs": [
      {
       "output_type": "stream",
       "stream": "stdout",
       "text": [
        "mu= 8.106 Pa.s\n"
       ]
      }
     ],
     "prompt_number": 15
    },
    {
     "cell_type": "heading",
     "level": 2,
     "metadata": {},
     "source": [
      "Example 1.15 Page No9"
     ]
    },
    {
     "cell_type": "code",
     "collapsed": false,
     "input": [
      "#variable initialisation\n",
      "\n",
      "sigma=0.073           #surface Tension at air-water interface in N/m\n",
      "\n",
      "d=0.01                #diameter of air bubble in mm\n",
      "\n",
      "#calculation\n",
      "\n",
      "#air bubble has only one surface\n",
      "\n",
      "R=(d/2)/1000\n",
      "\n",
      "delta_p=(2*sigma)/R    #Pressure difference in N/m^2\n",
      "\n",
      "print \"delta_p=\",delta_p/1000,\"kPa\"\n",
      "\n"
     ],
     "language": "python",
     "metadata": {},
     "outputs": [
      {
       "output_type": "stream",
       "stream": "stdout",
       "text": [
        "delta_p= 29.2 kPa\n"
       ]
      }
     ],
     "prompt_number": 16
    },
    {
     "cell_type": "heading",
     "level": 2,
     "metadata": {},
     "source": [
      "Example 1.16 Page No9"
     ]
    },
    {
     "cell_type": "code",
     "collapsed": false,
     "input": [
      "#variable initialisation\n",
      "\n",
      "sigma=0.088           #surface Tension at soap-air interface in N/m\n",
      "\n",
      "d=3                   #diameter of air bubble in cm\n",
      "\n",
      "#Solution\n",
      "\n",
      "#soap bubble has two interfaces\n",
      "\n",
      "R=0.03/2              #in m\n",
      "\n",
      "delta_p=(4*sigma)/R   #in N/m^2\n",
      "\n",
      "print \"delta_p=\",round(delta_p,2),\"N/m^2 above atmospheric pressure\"\n",
      "\n",
      "\n"
     ],
     "language": "python",
     "metadata": {},
     "outputs": [
      {
       "output_type": "stream",
       "stream": "stdout",
       "text": [
        "delta_p= 23.47 N/m^2 above atmospheric pressure\n"
       ]
      }
     ],
     "prompt_number": 17
    },
    {
     "cell_type": "heading",
     "level": 2,
     "metadata": {},
     "source": [
      "Example 1.17 Page No9"
     ]
    },
    {
     "cell_type": "code",
     "collapsed": false,
     "input": [
      "#variable initialisation\n",
      "\n",
      "d1=6                  #diameter in mm\n",
      "\n",
      "d2=16                 #diameter in mm\n",
      "\n",
      "sigma=0.073           #surface tension of water in N/m\n",
      "\n",
      "g=9.81                #gravity\n",
      "\n",
      "rho=998               #density\n",
      "\n",
      "#Solution\n",
      "\n",
      "#assume angle of contact theta=0 degree\n",
      "\n",
      "R1=0.006/2            #radius in m\n",
      "\n",
      "R2=0.016/2            #raidus in m\n",
      "\n",
      "r=(1/R1)-(1/R2)\n",
      "\n",
      "h=(2*sigma*r)/(rho*g) #difference in water level\n",
      "\n",
      "print \"h=\",round(h,4)*1000,\"mm\"\n"
     ],
     "language": "python",
     "metadata": {},
     "outputs": [
      {
       "output_type": "stream",
       "stream": "stdout",
       "text": [
        "h= 3.1 mm\n"
       ]
      }
     ],
     "prompt_number": 18
    },
    {
     "cell_type": "heading",
     "level": 2,
     "metadata": {},
     "source": [
      "Example 1.18 Page No9"
     ]
    },
    {
     "cell_type": "code",
     "collapsed": false,
     "input": [
      "import math\n",
      "\n",
      "#variable initialisation\n",
      "\n",
      "d=3E-3         #diameter of tube\n",
      "\n",
      "sigma=0.48     #surface tension in N/m\n",
      "\n",
      "a=130          #angle of contact in degree C\n",
      "\n",
      "rho=13600      #density of liquid in kg/m^3\n",
      "\n",
      "g=9.81         #gravity\n",
      "\n",
      "#solution\n",
      "\n",
      "R=d/2\n",
      "\n",
      "gamma=rho*g\n",
      "\n",
      "e=math.radians(a) #converting degree into radians\n",
      "\n",
      "c=math.cos(e)     #cosine value\n",
      "\n",
      "h=(2*sigma*c)/(gamma*R)\n",
      "\n",
      "h1=round(h*1000,2)\n",
      "\n",
      "print \"Therefore,there is a capillary depression of\",h1,\"mm\"\n"
     ],
     "language": "python",
     "metadata": {},
     "outputs": [
      {
       "output_type": "stream",
       "stream": "stdout",
       "text": [
        "Therefore,there is a capillary depression of -3.08 mm\n"
       ]
      }
     ],
     "prompt_number": 19
    },
    {
     "cell_type": "heading",
     "level": 2,
     "metadata": {},
     "source": [
      "Example 1.19 Page No10"
     ]
    },
    {
     "cell_type": "code",
     "collapsed": false,
     "input": [
      "#variable initialisation\n",
      "\n",
      "d=0.005        #diamter of grain in mm\n",
      "\n",
      "sigma=0.073    #surface tension of air-water interface in N/m\n",
      "\n",
      "g= 9.81        #gravity in m/s^2\n",
      "\n",
      "de=998         #density\n",
      "\n",
      "#solution\n",
      "\n",
      "R=(d/2)/1000\n",
      "\n",
      "ga=g*de\n",
      "\n",
      "#by assuming theta = 0 degree\n",
      "\n",
      "del_h=(2*sigma)/(ga*R)     #height of water rise\n",
      "\n",
      "print \"Answer given in the book is wrong.It should be as,\"\n",
      "\n",
      "print \"delta_h=\",round(del_h,2),\"m\"\n"
     ],
     "language": "python",
     "metadata": {},
     "outputs": [
      {
       "output_type": "stream",
       "stream": "stdout",
       "text": [
        "delta_h= 5.97 m\n"
       ]
      }
     ],
     "prompt_number": 20
    },
    {
     "cell_type": "heading",
     "level": 2,
     "metadata": {},
     "source": [
      "Example 1.22 Page No10"
     ]
    },
    {
     "cell_type": "code",
     "collapsed": false,
     "input": [
      "from __future__ import division\n",
      "\n",
      "import math\n",
      "\n",
      "#variable initialisation\n",
      "\n",
      "M=28.97                   #molecular weight of air\n",
      "\n",
      "p=120E+3                  #in abs\n",
      "\n",
      "T=60                      #Temperature in degree C\n",
      "\n",
      "#solution\n",
      "\n",
      "R=math.ceil(8312/28.97)   #gas constant for air\n",
      "\n",
      "T=T+273                   #Temperature in K\n",
      "\n",
      "rho=round(p/(R*T),3)\n",
      "\n",
      "print \"(i)density of air=\",rho,\"kg/m^3\"\n",
      "\n",
      "M1=44\n",
      "\n",
      "R=int(math.ceil(8312/44)) # gas constant for co2\n",
      "\n",
      "a=R*T\n",
      "\n",
      "rho=p/a\n",
      "\n",
      "print \"(ii)density of co2=\",round(rho,3),\"kg/m^3\"\n"
     ],
     "language": "python",
     "metadata": {},
     "outputs": [
      {
       "output_type": "stream",
       "stream": "stdout",
       "text": [
        "(i)density of air= 1.256 kg/m^3\n",
        "(ii)density of co2= 1.907 kg/m^3\n"
       ]
      }
     ],
     "prompt_number": 21
    },
    {
     "cell_type": "heading",
     "level": 2,
     "metadata": {},
     "source": [
      "Example 1.24 Page No11"
     ]
    },
    {
     "cell_type": "code",
     "collapsed": false,
     "input": [
      "#variable initialisation\n",
      "\n",
      "p=100              #compression rate in abs\n",
      "\n",
      "p1=80              #compression rate in abs\n",
      "\n",
      "#solution\n",
      "\n",
      "#In isothermal change K=p\n",
      "\n",
      "KA=p               #bulk modulus \n",
      "\n",
      "print \"KA=\",KA,\"kPa\"\n",
      "\n",
      "#In adiabatic change K=kp\n",
      "\n",
      "k=1.4               #constant for gases\n",
      "\n",
      "KB=int(k*p1)        #bulk modulus\n",
      "\n",
      "print \"KB=\",KB,\"kPa\"\n",
      "\n",
      "print \"KA<KB,gas A is more compressible than gas B,in the notified situation\"\n",
      "\n",
      "\n"
     ],
     "language": "python",
     "metadata": {},
     "outputs": [
      {
       "output_type": "stream",
       "stream": "stdout",
       "text": [
        "KA= 100 kPa\n",
        "KB= 112 kPa\n",
        "KA<KB,gas A is more compressible than gas B,in the notified situation\n"
       ]
      }
     ],
     "prompt_number": 22
    },
    {
     "cell_type": "heading",
     "level": 2,
     "metadata": {},
     "source": [
      "Example 1.26 Page No11"
     ]
    },
    {
     "cell_type": "code",
     "collapsed": false,
     "input": [
      "import math \n",
      "\n",
      "#variable initialisation\n",
      "\n",
      "k=1.43E+9              #bulk modulus of elasticity of kerosene in Pa\n",
      "\n",
      "r=0.804                #relative density \n",
      "\n",
      "#solution\n",
      "\n",
      "rho=round(r*998,1)     #density of kerosene in kg/m^3\n",
      "\n",
      "C=math.ceil(math.sqrt(k/rho))\n",
      "\n",
      "print \"velocity of sound C=\",int(C),\"m/s\"\n"
     ],
     "language": "python",
     "metadata": {},
     "outputs": [
      {
       "output_type": "stream",
       "stream": "stdout",
       "text": [
        "velocity of sound C= 1335 m/s\n"
       ]
      }
     ],
     "prompt_number": 23
    },
    {
     "cell_type": "heading",
     "level": 2,
     "metadata": {},
     "source": [
      "Example 1.28 Page No11"
     ]
    },
    {
     "cell_type": "code",
     "collapsed": false,
     "input": [
      "import math\n",
      "\n",
      "#variable initialisation\n",
      "\n",
      "R=287             #gas constant\n",
      "\n",
      "T=80              #temperature in degree C\n",
      "\n",
      "#solution\n",
      "\n",
      "T=273+80          #temperature in K\n",
      "\n",
      "k=1.4             #for air\n",
      "\n",
      "C=round(math.sqrt(k*R*T),1) #velocity of sound at 80 degree\n",
      "\n",
      "print \"C=\",C,\"m/s\"\n"
     ],
     "language": "python",
     "metadata": {},
     "outputs": [
      {
       "output_type": "stream",
       "stream": "stdout",
       "text": [
        "C= 376.6 m/s\n"
       ]
      }
     ],
     "prompt_number": 24
    }
   ],
   "metadata": {}
  }
 ]
}