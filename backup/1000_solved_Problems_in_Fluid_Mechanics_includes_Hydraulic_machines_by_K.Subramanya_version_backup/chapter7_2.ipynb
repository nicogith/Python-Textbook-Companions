{
 "metadata": {
  "name": "",
  "signature": "sha256:ac68ac9e93ca4906686b39d1ab7585fe858e0b0b8e55c7de32d938bd00ba42a9"
 },
 "nbformat": 3,
 "nbformat_minor": 0,
 "worksheets": [
  {
   "cells": [
    {
     "cell_type": "heading",
     "level": 1,
     "metadata": {},
     "source": [
      "Chapter 7:Laminar Flow"
     ]
    },
    {
     "cell_type": "heading",
     "level": 2,
     "metadata": {},
     "source": [
      "Example 7.4 Page No162"
     ]
    },
    {
     "cell_type": "code",
     "collapsed": false,
     "input": [
      "from __future__ import division\n",
      "\n",
      "import math\n",
      "\n",
      "#variable initialisation\n",
      "\n",
      "R=0.06                              #Diamter in m\n",
      "\n",
      "r=0.02                              #radical distance\n",
      "\n",
      "u=0.6                               #velocity in m/s\n",
      "\n",
      "#Calculation\n",
      "\n",
      "#For a laminar flow,\n",
      "\n",
      "#(-ga/4*mu*()dh/ds\n",
      "\n",
      "K=(u)/(R**2-r**2)\n",
      "\n",
      "u_m=K*R**2                          #Maximum velocity\n",
      "\n",
      "print \"u_m=\",u_m,\"m/s\"\n",
      "\n",
      "M=u_m/2                             #Mean velocity\n",
      "\n",
      "print \"M=\",M,\"m/s\"\n",
      "\n",
      "Q=math.pi/4 *(R**2)*(M)             #Discharge\n",
      "\n",
      "print \"Q=\",round(Q*1000,3),\"L/s\"\n"
     ],
     "language": "python",
     "metadata": {},
     "outputs": [
      {
       "output_type": "stream",
       "stream": "stdout",
       "text": [
        "u_m= 0.675 m/s\n",
        "M= 0.3375 m/s\n",
        "Q= 0.954 L/s\n"
       ]
      }
     ],
     "prompt_number": 1
    },
    {
     "cell_type": "heading",
     "level": 2,
     "metadata": {},
     "source": [
      "Example 7.6 Page No163"
     ]
    },
    {
     "cell_type": "code",
     "collapsed": false,
     "input": [
      "from __future__ import division\n",
      "\n",
      "import math\n",
      "\n",
      "#variable initialisation\n",
      "\n",
      "mu=0.08                     #viscosity in kg/ms\n",
      "\n",
      "D=0.1                       #Diameter in m\n",
      "\n",
      "u_m=1.4                     #Maximum velocity \n",
      "\n",
      "L=1.0                       #Length in m\n",
      "\n",
      "R=0.05                      #Radius in m\n",
      "\n",
      "#Calculation\n",
      "\n",
      "#u=1.4(1-r/R**2)\n",
      "\n",
      "tau_0=2*mu*1.4*R/(R**2)     #shear stress\n",
      "\n",
      "print \"tau_0=\",tau_0,\"N/m^2\"\n",
      "\n",
      "#Maximum velocity um occurs at r=0\n",
      "\n",
      "V=u_m/2 #mean velocity\n",
      "\n",
      "delp1=(32*mu*V*L)/D**2      #Pressure drop per unit length of the pipe\n",
      "\n",
      "print \"(-delP)1=\",delp1,\"N/m^2\"\n",
      "\n",
      "#Alternate method for pressure drop\n",
      "\n",
      "Pd=4*tau_0*L/(D)\n",
      "\n",
      "print \"(-delP)1=\",Pd,\"N/m^2\"\n"
     ],
     "language": "python",
     "metadata": {},
     "outputs": [
      {
       "output_type": "stream",
       "stream": "stdout",
       "text": [
        "tau_0= 4.48 N/m^2\n",
        "(-delP)1= 179.2 N/m^2\n",
        "(-delP)1= 179.2 N/m^2\n"
       ]
      }
     ],
     "prompt_number": 2
    },
    {
     "cell_type": "heading",
     "level": 2,
     "metadata": {},
     "source": [
      "Example 7.7 Page No163"
     ]
    },
    {
     "cell_type": "code",
     "collapsed": false,
     "input": [
      "from __future__ import division\n",
      "\n",
      "import math\n",
      "\n",
      "#variable initialisation\n",
      "\n",
      "ga=9.81                        #gravity constant\n",
      "\n",
      "h_f=20                         #Head loss\n",
      "\n",
      "L=3000                         #length of pipe in m\n",
      "\n",
      "R=0.30                         #Radius in m\n",
      "\n",
      "r=0.10                         #radial distance in m\n",
      "\n",
      "mu=0.15                        #absolute viscosity in Pa.s\n",
      "\n",
      "D=0.30                         #Diameter in m\n",
      "\n",
      "rho=0.85*998                   #relative density in kg/m^3\n",
      "\n",
      "#Calculation\n",
      "\n",
      "tau_0=round((R/2)*(ga*rho*h_f/L),3)       #Wall shear stress\n",
      "\n",
      "tau=(tau_0/(R/2))*r                       #shear stress\n",
      "\n",
      "print \"tau=\",tau,\"Pa\"\n",
      "\n",
      "V=round((h_f/L)*(rho*ga*(D**2))/(32*mu),2)#Volume\n",
      "\n",
      "Re=round(V*D*rho/mu,1)                     #Reynold's number\n",
      "\n",
      "#Re is less than 2000.hence laminar flow is correct.\n",
      "\n",
      "f=64/Re                                    #friction factor\n",
      "\n",
      "print \"f=\",round(f,5)\n"
     ],
     "language": "python",
     "metadata": {},
     "outputs": [
      {
       "output_type": "stream",
       "stream": "stdout",
       "text": [
        "tau= 5.548 Pa\n",
        "f= 0.03627\n"
       ]
      }
     ],
     "prompt_number": 4
    },
    {
     "cell_type": "heading",
     "level": 2,
     "metadata": {},
     "source": [
      "Example 7.8 Page No163"
     ]
    },
    {
     "cell_type": "code",
     "collapsed": false,
     "input": [
      "from __future__ import division\n",
      "\n",
      "import math\n",
      "\n",
      "#variable initialisation\n",
      "\n",
      "mu=1.50                        #absolute viscosity\n",
      "\n",
      "rho=1260                       #relative density in kg/m^3\n",
      "\n",
      "V=5.0                          #Velocity in m/s\n",
      "\n",
      "D=0.10                         #Diameter in m\n",
      "\n",
      "ga=9.81*rho                    #density \n",
      "\n",
      "L=12                           #Length in m\n",
      "\n",
      "#Calculation\n",
      "\n",
      "Re=rho*V*D/mu                  #Reynold's number\n",
      "\n",
      "#As,Re value less than 2000,the flow is conduit\n",
      "\n",
      "tau_0=8*mu*V/D\n",
      "\n",
      "print \"tau_0=\",int(tau_0),\"Pa\"\n",
      "\n",
      "h_f=32*mu*V*L/(ga*(D**2))      #In laminar flow the head loss\n",
      "\n",
      "print \"h_f=\",round(h_f,1),\"m\"\n",
      "\n",
      "#P=ga*Q*h_f\n",
      "\n",
      "A=(math.pi*(D**2)/4)           #Area\n",
      "\n",
      "Q=A*V                          #Discharge\n",
      "\n",
      "P=ga*Q*h_f                     #Power\n",
      "\n",
      "print \"P=\",round(P/1000,2),\"kW\"\n"
     ],
     "language": "python",
     "metadata": {},
     "outputs": [
      {
       "output_type": "stream",
       "stream": "stdout",
       "text": [
        "tau_0= 600 Pa\n",
        "h_f= 23.3 m\n",
        "P= 11.31 kW\n"
       ]
      }
     ],
     "prompt_number": 3
    },
    {
     "cell_type": "heading",
     "level": 2,
     "metadata": {},
     "source": [
      "Example 7.9 Page No164"
     ]
    },
    {
     "cell_type": "code",
     "collapsed": false,
     "input": [
      "from __future__ import division\n",
      "\n",
      "import math\n",
      "\n",
      "#variable initialisation\n",
      "\n",
      "R=2000         #maximum Reynolds number\n",
      "\n",
      "rho=950        #density in kg/m^3\n",
      "\n",
      "mu=8E-2        #Viscosity in Pa.s\n",
      "\n",
      "L=200          #length in metre\n",
      "\n",
      "D=50           #diameter in cm\n",
      "\n",
      "#solution\n",
      "  \n",
      "D=15/100       #diameter in m\n",
      "\n",
      "#Re=(V*D)/v\n",
      "\n",
      "V=R*(mu/rho)/D\n",
      "\n",
      "#by,Hagen-Poiseuille equation,\n",
      "\n",
      "h_f=(32*mu*V*L)/((rho*9.81)*(D**2))  #headloss\n",
      "\n",
      "print \"Maximum difference in oil surface elevations h_f=\",round(h_f,3),\"m\"\n"
     ],
     "language": "python",
     "metadata": {},
     "outputs": [
      {
       "output_type": "stream",
       "stream": "stdout",
       "text": [
        "Maximum difference in oil surface elevations h_f= 2.742 m\n"
       ]
      }
     ],
     "prompt_number": 5
    },
    {
     "cell_type": "heading",
     "level": 2,
     "metadata": {},
     "source": [
      "Example 7.10 Page No164"
     ]
    },
    {
     "cell_type": "code",
     "collapsed": false,
     "input": [
      "from __future__ import division\n",
      "\n",
      "import math\n",
      "\n",
      "#variable initialisation\n",
      "\n",
      "D=0.075                #Diamter in m\n",
      "\n",
      "mu=0.1                 #visocity of oil in N.s/m^2\n",
      "\n",
      "P=5.4                  #power in kW\n",
      "\n",
      "rho=0.90*998           #relative density\n",
      "\n",
      "E=60                   #efficiency in %\n",
      "\n",
      "L=1000                 #length in m\n",
      "\n",
      "#solution\n",
      "\n",
      "P=P*(E/100)            #power spent in fluid friction\n",
      "\n",
      "Q=round(math.sqrt(((P*1000)*(math.pi)*(D**4))/(128*mu*L)),5) #quantity\n",
      "\n",
      "print \"Quantity of oil=\",round(Q*1000*60,3),\"L/min\"\n",
      "\n",
      "V=round((Q)/((math.pi/4)*(D**2)),3)                          #Velocity in m/s\n",
      "\n",
      "Re=(V*D*rho)/mu                                              #Reynolds number\n",
      "\n",
      "print \"Reynolds number=\",int (Re)\n"
     ],
     "language": "python",
     "metadata": {},
     "outputs": [
      {
       "output_type": "stream",
       "stream": "stdout",
       "text": [
        "Quantity of oil= 301.2 L/min\n",
        "Reynolds number= 765\n"
       ]
      }
     ],
     "prompt_number": 6
    },
    {
     "cell_type": "heading",
     "level": 2,
     "metadata": {},
     "source": [
      "Example 7.11 Page No164"
     ]
    },
    {
     "cell_type": "code",
     "collapsed": false,
     "input": [
      "from __future__ import division\n",
      "\n",
      "import math\n",
      "\n",
      "#variable initialisation\n",
      "\n",
      "mu=1.5                               #absolute viscosity\n",
      "\n",
      "rho=0.9                              #relative density in kg/m^3\n",
      "\n",
      "ga=9.81                              #gravity\n",
      "\n",
      "Pa=200                               #Pressure of guage A in kPa\n",
      "\n",
      "Za=20                                #Pressure guages in m\n",
      "\n",
      "Pb=500                               #Pressure of guage B in kPa\n",
      "\n",
      "Zb=0                                 #Pressure guages in m\n",
      "\n",
      "L=30                                 #Length in m\n",
      "\n",
      "D=0.03                               #Diameter in m\n",
      "\n",
      "#Calculation\n",
      "\n",
      "mu=mu/10                             #in Pa.s\n",
      "\n",
      "rho=rho*998                          #density in kg/m^3\n",
      "\n",
      "ga=(ga*rho)/1000                     #in kN/m^3 \n",
      "\n",
      "ha=(Pa/ga)+Za                        #piezometric head at A\n",
      "\n",
      "hb=(Pb/ga)+Zb                        #piezometric head at B\n",
      "\n",
      "print \"Since hb>ha,the flow is from B towards A.i.e.Upwards\"\n",
      "\n",
      "h_f=hb-ha\n",
      "\n",
      "V=(h_f*ga*(D**2))/(32*mu*L)*1000\n",
      "\n",
      "Re=round(V*D*rho/mu,1)               #Reynold's number\n",
      "\n",
      "#As Re<2000,the flow is laminar and our initial assumption is correct.\n",
      "\n",
      "A=(math.pi*(D**2)/4)                 #Area\n",
      "\n",
      "Q=A*V                                #Discharge\n",
      "\n",
      "print \"Q=\",round(Q*1000,4),\"L/s\"\n"
     ],
     "language": "python",
     "metadata": {},
     "outputs": [
      {
       "output_type": "stream",
       "stream": "stdout",
       "text": [
        "Since hb>ha,the flow is from B towards A.i.e.Upwards\n",
        "Q= 0.5468 L/s\n"
       ]
      }
     ],
     "prompt_number": 8
    },
    {
     "cell_type": "heading",
     "level": 2,
     "metadata": {},
     "source": [
      "Example 7.12 Page No165"
     ]
    },
    {
     "cell_type": "code",
     "collapsed": false,
     "input": [
      "from __future__ import division\n",
      "\n",
      "import math\n",
      "\n",
      "#variable initialisation\n",
      "\n",
      "mu=2.5                               #absolute viscosity\n",
      "\n",
      "rho=0.9                              #relative density in kg/m^3\n",
      "\n",
      "ga=9.81                              #gravity\n",
      "\n",
      "L=500                                #Length in m\n",
      "\n",
      "D=100                                #Diameter in m\n",
      "\n",
      "Q=2                                  #Discharge\n",
      "\n",
      "P_b=0                                #atmospheric pressure in Pa\n",
      "\n",
      "Z2=f=20                              #elevation of pump2,friction factor\n",
      "\n",
      "e=0.65                               #efficiency of pump \n",
      "\n",
      "#Calculation\n",
      "\n",
      "mu=mu/10                             #in Pa.s\n",
      "\n",
      "rho=rho*998                          #density in kg/m^3\n",
      "\n",
      "D=D/1000\n",
      "\n",
      "Q=Q/1000\n",
      "\n",
      "V=Q/((math.pi/4)*(D**2))\n",
      "\n",
      "Re=round(V*D*rho/mu,3)               #Reynold's number\n",
      "\n",
      "print \"Re=\",Re\n",
      "\n",
      "#As Re<2000,the flow is laminar.\n",
      "\n",
      "h_f=round((32*mu*V*L)/(ga*rho*(D**2)),2) #In laminar flow the head loss\n",
      "\n",
      "#If A is the pump end and B is the outlet,\n",
      "\n",
      "P_A=int((Z2+h_f)*(ga*rho))\n",
      "\n",
      "print \"P_A=\",int(P_A/1000),\"kPa\"\n",
      "\n",
      "#H=static head+friction head\n",
      "\n",
      "H=h_f+f                             #Overall Head\n",
      "\n",
      "P=int(ga*rho*Q*H)                   #Power required for pumping\n",
      "\n",
      "Pi=round(P/e,1)                     #power input required\n",
      "\n",
      "print \"Pi=\",Pi,\"W\""
     ],
     "language": "python",
     "metadata": {},
     "outputs": [
      {
       "output_type": "stream",
       "stream": "stdout",
       "text": [
        "Re= 91.49\n",
        "P_A= 278 kPa\n",
        "Pi= 855.4 W\n"
       ]
      }
     ],
     "prompt_number": 9
    },
    {
     "cell_type": "heading",
     "level": 2,
     "metadata": {},
     "source": [
      "Example 7.13 Page No165"
     ]
    },
    {
     "cell_type": "code",
     "collapsed": false,
     "input": [
      "from __future__ import division\n",
      "\n",
      "import math\n",
      "\n",
      "#variable initialisation\n",
      "\n",
      "v=1.5                                 #kinematic viscosity in stokes\n",
      "\n",
      "rho=900                               #relative density in kg/m^3\n",
      "\n",
      "L=300                                 #length in m\n",
      "\n",
      "D=8                                   #Diameter in cm\n",
      "\n",
      "e=60                                  #Overall efficiency\n",
      "\n",
      "Pi=5000                               #input power\n",
      "\n",
      "#Calculation\n",
      "\n",
      "v=v/10000                             #viscosity in m^2/s\n",
      "\n",
      "P=e/100*Pi                            #power delivered to the fluid\n",
      "\n",
      "D=D/100                               #diameter in m\n",
      "\n",
      "mu=rho*v                              #Dynamic viscosity in Pa.s\n",
      "\n",
      "Q= math.sqrt((P*math.pi*(D**4))/(128*mu*L))\n",
      "\n",
      "print \"Q=\",round(Q*1000,2),\"L/s\"      #Rate of flow\n",
      "\n",
      "V=round(Q/((math.pi/4)*(D**2)),3)     #Velocity in m/s\n",
      "\n",
      "Re=V*D/v                              #Reynolds number\n",
      "\n",
      "print \"Re=\",round(Re,1)\n",
      "\n",
      "#As Re<2000,the flow is laminar\n"
     ],
     "language": "python",
     "metadata": {},
     "outputs": [
      {
       "output_type": "stream",
       "stream": "stdout",
       "text": [
        "Q= 8.63 L/s\n",
        "Re= 915.7\n"
       ]
      }
     ],
     "prompt_number": 10
    },
    {
     "cell_type": "heading",
     "level": 2,
     "metadata": {},
     "source": [
      "Example 7.14 Page No166"
     ]
    },
    {
     "cell_type": "code",
     "collapsed": false,
     "input": [
      "from __future__ import division\n",
      "\n",
      "import math\n",
      "\n",
      "#variable initialisation\n",
      "\n",
      "Q=850                      #Discharge in L/min\n",
      "\n",
      "D=0.15                     #Diameter in cm\n",
      "\n",
      "del_P=95000                #change in pressure\n",
      "\n",
      "ga=9.81                    #gravity\n",
      "\n",
      "L=800                      #Length in m\n",
      "\n",
      "rho=917                    #density\n",
      "\n",
      "#Calculation\n",
      "\n",
      "Q=Q/(1000*60)              #Converting into m^3/s\n",
      "\n",
      "V=Q/((math.pi/4)*(D**2))  #velocity\n",
      "\n",
      "Hf=del_P/(ga*rho)          #Head loss\n",
      "\n",
      "mu=(Hf*ga*rho*(D**2))/(32*V*L)\n",
      "\n",
      "print \"mu=\",round(mu,5),\"Pa.s.\"\n",
      "\n",
      "Re=(V*D*rho)/mu            #Reynolds number\n",
      "\n",
      "print \"Re=\",int(round(Re,))\n",
      "\n",
      "print\"As this value of Re is less than 2000,the flow is laminar as assumed initially\"\n"
     ],
     "language": "python",
     "metadata": {},
     "outputs": [
      {
       "output_type": "stream",
       "stream": "stdout",
       "text": [
        "mu= 0.10415 Pa.s.\n",
        "Re= 1059\n",
        "As this value of Re is less than 2000,the flow is laminar as assumed initially\n"
       ]
      }
     ],
     "prompt_number": 15
    },
    {
     "cell_type": "heading",
     "level": 2,
     "metadata": {},
     "source": [
      "Example 7.16 Page No166"
     ]
    },
    {
     "cell_type": "code",
     "collapsed": false,
     "input": [
      "from __future__ import division\n",
      "\n",
      "import math\n",
      "\n",
      "#variable initialisation\n",
      "\n",
      "rho=0.92                                              #relative density\n",
      "\n",
      "mu=0.085                                              #dynamic viscosity\n",
      "\n",
      "Q=0.04                                                #discharge\n",
      "\n",
      "ga=9.81                                               #gravity constant\n",
      "\n",
      "#Calculation\n",
      "\n",
      "rho=rho*998#relative density in kg/m^3\n",
      "\n",
      "#Assuming laminar flow,h_f/L=0.0-4\n",
      "\n",
      "h_f=0.04\n",
      "\n",
      "D=((((128*mu*Q))/(math.pi*ga*rho))/h_f)**(1/4)        #diameter\n",
      "\n",
      "V=Q/((math.pi/4)*(D**2))                              #Velocity\n",
      "\n",
      "Re=(V*D*rho)/(mu)                                     #Reynold's number\n",
      "\n",
      "#As this value is >2000,the flow is not laminar.Hence the required diameter is controlled by critical Reynolds number\n",
      "\n",
      "Re_crit=2000\n",
      "\n",
      "D=round(((rho/mu)*(Q/(math.pi/4)))/Re_crit,3)        #Diameter\n",
      "\n",
      "h_f=(128*mu*Q)/(math.pi*rho*(D**4))                  #Headloss/L\n",
      "\n",
      "#As this is less than permissible gradient of 0.04 the diameter is acceptable.\n",
      "\n",
      "print \"Hece the least diameter =\",D*100,\"cm\"\n"
     ],
     "language": "python",
     "metadata": {},
     "outputs": [
      {
       "output_type": "stream",
       "stream": "stdout",
       "text": [
        "Hece the least diameter = 27.5 cm\n"
       ]
      }
     ],
     "prompt_number": 11
    },
    {
     "cell_type": "heading",
     "level": 2,
     "metadata": {},
     "source": [
      "Example 7.18 Page No167"
     ]
    },
    {
     "cell_type": "code",
     "collapsed": false,
     "input": [
      "from __future__ import division\n",
      "\n",
      "import math\n",
      "\n",
      "#variable initialisation\n",
      "\n",
      "Re=1200                     #Reynolds number\n",
      "\n",
      "v=1.92E-3                   #kinematic viscosity in m^2/s\n",
      "\n",
      "g=9.81                      #gravity constant\n",
      "\n",
      "#Calculation\n",
      "\n",
      "VD=Re*v                     #equation 1\n",
      "\n",
      "#Z1-Z2=L\n",
      "\n",
      "#Se=(Z1-Z2)/(Z1-Z2)=1.0\n",
      "\n",
      "Se=Sf=1.0                   #energy gradient\n",
      "\n",
      "#Sf=32*v*V/g*D**2\n",
      "\n",
      "VD2=(g*Sf)/(32*v)           #Equation 2\n",
      "\n",
      "#From VD/VD2,\n",
      "\n",
      "D=(1/(VD2/VD))**(1/3)       #solving to find D\n",
      "\n",
      "print \"D=\",round(D,3),\"m\"\n"
     ],
     "language": "python",
     "metadata": {},
     "outputs": [
      {
       "output_type": "stream",
       "stream": "stdout",
       "text": [
        "D= 0.243 m\n"
       ]
      }
     ],
     "prompt_number": 12
    },
    {
     "cell_type": "heading",
     "level": 2,
     "metadata": {},
     "source": [
      "Example 7.19 Page No168"
     ]
    },
    {
     "cell_type": "code",
     "collapsed": false,
     "input": [
      "from __future__ import division\n",
      "\n",
      "import math\n",
      "\n",
      "#variable initialisation\n",
      "\n",
      "B=0.12             #thickness in mm\n",
      "\n",
      "L=50               #length in cm\n",
      "\n",
      "h_f=5.0            #headloss in m\n",
      "\n",
      "ga=9790            #Specific weight\n",
      "\n",
      "mu=(998)*(0.01E-4) #viscosity \n",
      "\n",
      "#solution\n",
      "\n",
      "V=((h_f)*(ga)*((B/1000)**2))/(12*mu*(L/100))  #calculating V in m/s\n",
      "\n",
      "q=(1*V*(B/1000))*60*1000                      #Discharge per metre width\n",
      "\n",
      "print round(q,3),\"L/min per metre width of crack\"\n"
     ],
     "language": "python",
     "metadata": {},
     "outputs": [
      {
       "output_type": "stream",
       "stream": "stdout",
       "text": [
        "0.848 L/min per metre width of crack\n"
       ]
      }
     ],
     "prompt_number": 13
    },
    {
     "cell_type": "heading",
     "level": 2,
     "metadata": {},
     "source": [
      "Example 7.21 Page No169"
     ]
    },
    {
     "cell_type": "code",
     "collapsed": false,
     "input": [
      "from __future__ import division\n",
      "\n",
      "import math\n",
      "\n",
      "#variable initialisation\n",
      "\n",
      "V=1.40                                   #mean velocity in m/s\n",
      "\n",
      "B=1.2                                    #distance between plates in cm\n",
      "\n",
      "mu=1.05                                  #dynamic viscosity\n",
      "\n",
      "y=0.002                                  #distance in m\n",
      "\n",
      "ga=0.92*998*9.81                         #relative density\n",
      "\n",
      "L=25                                     #length in m\n",
      "\n",
      "#Calculation\n",
      "\n",
      "B=B/100                                  #Converting into m\n",
      "\n",
      "mu=mu/10                                 #Converting into Pa.s\n",
      "\n",
      "#For two dimensional laminar flow between parallel plates\n",
      "\n",
      "um=(3/2)*V                               #Maximum velocity\n",
      "\n",
      "print \"Um=\",round(um,1),\"m/s\"\n",
      "\n",
      "#Let us take (-dp/dx) as dp\n",
      "\n",
      "#V=(-dp/dx)*(B**2/12*mu)\n",
      "\n",
      "dp=12*mu*V/(B**2)\n",
      "\n",
      "tau_0=(dp)*(B/2)                         #Boundary shear stress\n",
      "\n",
      "print \"tau_0=\",tau_0,\"Pa\"\n",
      "\n",
      "#let y=0.002m\n",
      "\n",
      "tau=(dp)*(B/2-y)                         #Shear stress\n",
      "\n",
      "print \"tau=\",int(tau),\"Pa\"\n",
      "\n",
      "v=(((1/(2*mu))*dp))*(B*y-y**2)           #Velocity\n",
      "\n",
      "print \"v=\",round(v,3),\"m/s\"\n",
      "\n",
      "h_f=12*mu*V*L/(ga*(B**2))                #Head loss\n",
      "\n",
      "print \"h_f=\",round(h_f,1),\"m\"\n"
     ],
     "language": "python",
     "metadata": {},
     "outputs": [
      {
       "output_type": "stream",
       "stream": "stdout",
       "text": [
        "Um= 2.1 m/s\n",
        "tau_0= 73.5 Pa\n",
        "tau= 49 Pa\n",
        "v= 1.167 m/s\n",
        "h_f= 34.0 m\n"
       ]
      }
     ],
     "prompt_number": 14
    }
   ],
   "metadata": {}
  }
 ]
}