{
 "metadata": {
  "name": "",
  "signature": "sha256:9fb8f046854eae9d21b30aac47c32add8b7b352fc02c558db335f7a7c30f0313"
 },
 "nbformat": 3,
 "nbformat_minor": 0,
 "worksheets": [
  {
   "cells": [
    {
     "cell_type": "heading",
     "level": 1,
     "metadata": {},
     "source": [
      "Chapter 10:Turbulent Pipe Flow"
     ]
    },
    {
     "cell_type": "heading",
     "level": 2,
     "metadata": {},
     "source": [
      "Example 10.1 Page No216"
     ]
    },
    {
     "cell_type": "code",
     "collapsed": false,
     "input": [
      "from __future__ import division\n",
      "\n",
      "import math\n",
      "\n",
      "#variable initialisation\n",
      "\n",
      "D=2                   #diameter in cm\n",
      "\n",
      "v=0.0098              #viscosity of water\n",
      "\n",
      "Re=2000               #Critical Reynolds number\n",
      "\n",
      "rho=998               #density in kg/m^3\n",
      "\n",
      "#solution\n",
      "\n",
      "V=Re*v/10000/(D/100)   #Calculating V\n",
      "\n",
      "L=(math.pi/4)*((D/100)**2)*V\n",
      "\n",
      "print \"The required Largest Discharge\",round(L*1000*60,3),\"L/min\"\n",
      "\n",
      "f=64/Re\n",
      "\n",
      "u=V*(math.sqrt(f/8))   #Boundary shear stress\n",
      "\n",
      "tou=rho*(u**2)\n",
      "\n",
      "print \"tou=\",round(tou,4),\"Pa\"\n"
     ],
     "language": "python",
     "metadata": {},
     "outputs": [
      {
       "output_type": "stream",
       "stream": "stdout",
       "text": [
        "The required Largest Discharge 1.847 L/min\n",
        "tou= 0.0383 Pa\n"
       ]
      }
     ],
     "prompt_number": 1
    },
    {
     "cell_type": "heading",
     "level": 2,
     "metadata": {},
     "source": [
      "Example 10.2 Page No216"
     ]
    },
    {
     "cell_type": "code",
     "collapsed": false,
     "input": [
      "from __future__ import division\n",
      "\n",
      "import math\n",
      "\n",
      "#variable initialisation\n",
      "\n",
      "from sympy import *\n",
      "\n",
      "from __future__ import division\n",
      "\n",
      "import math\n",
      "\n",
      "#variable initialisation\n",
      "\n",
      "f=0.02                                    #Friction factor\n",
      "\n",
      "#Calculation\n",
      "\n",
      "Ut=math.sqrt(f/8)                         #Shear velocity\n",
      "\n",
      "print \"U*=\",Ut,\"V\"\n",
      "\n",
      "Um=1.43*math.sqrt(f)+1                    #Maximum velocity\n",
      "\n",
      "print \"Um=\",round(Um,5),\"V\"\n",
      "\n",
      "r0=1\n",
      "\n",
      "y=r0-0.3*r0\n",
      "\n",
      "#Let us take (u-V/U*) as U\n",
      "\n",
      "a=round(log(0.7,10),4)\n",
      "\n",
      "U=5.75*a+3.75\n",
      "\n",
      "#But,U*=0.05V\n",
      "\n",
      "#Let's take u/V as V                     #Ratio of local velcotiy to mean velocity\n",
      "\n",
      "V=U*(Ut)\n",
      "\n",
      "print \"u/V=\",round(V+1,5)\n"
     ],
     "language": "python",
     "metadata": {},
     "outputs": [
      {
       "output_type": "stream",
       "stream": "stdout",
       "text": [
        "U*= 0.05 V\n",
        "Um= 1.20223 V\n",
        "u/V= 1.14297\n"
       ]
      }
     ],
     "prompt_number": 2
    },
    {
     "cell_type": "heading",
     "level": 2,
     "metadata": {},
     "source": [
      "Example 10.5 Page No217"
     ]
    },
    {
     "cell_type": "code",
     "collapsed": false,
     "input": [
      "from __future__ import division\n",
      "\n",
      "import math\n",
      "\n",
      "#variable initialization\n",
      "\n",
      "f=0.035          #friction factor\n",
      "\n",
      "Re=1E+5          #Reynolds number\n",
      "\n",
      "d=10             #diameter in cm\n",
      "\n",
      "Es=0.80          #roughness of pipe\n",
      "\n",
      "#solution\n",
      "\n",
      "ro=(d/2)/100     #Radius in m\n",
      "\n",
      "delta=(65.6*ro)/(Re*math.sqrt(f))*1000 #Thickness of lamina sublayer\n",
      "\n",
      "print \"delta=\",round(delta,3),\"mm\"  \n",
      "\n",
      "Es_delta=Es/delta\n",
      "\n",
      "print \"Es_delta=\",round(Es_delta,2)\n",
      "\n",
      "print \"This value being less than 6.0 and greater than 0.25,the pipe flow is in transition regime\""
     ],
     "language": "python",
     "metadata": {},
     "outputs": [
      {
       "output_type": "stream",
       "stream": "stdout",
       "text": [
        "delta= 0.175 mm\n",
        "Es_delta= 4.56\n",
        "This value being less than 6.0 and greater than 0.25,the pipe flow is in transition regime\n"
       ]
      }
     ],
     "prompt_number": 3
    },
    {
     "cell_type": "heading",
     "level": 2,
     "metadata": {},
     "source": [
      "Example 10.6 Page No217"
     ]
    },
    {
     "cell_type": "code",
     "collapsed": false,
     "input": [
      "from __future__ import division\n",
      "\n",
      "import math\n",
      "\n",
      "#variable initialisation\n",
      "\n",
      "r0=0.10                                 #Constant value\n",
      "\n",
      "epsillon=0.0002                         #roughness magnitude in mm\n",
      "\n",
      "v=1E-6                                  #velocity in m**2/s\n",
      "\n",
      "D=0.2                                   #Diameter in mm\n",
      "\n",
      "#Calculation\n",
      "\n",
      "#Transition from the smooth pipe regime begins at,\n",
      "\n",
      "Ref=17*(r0/epsillon)\n",
      "\n",
      "Re=(2*(math.log(Ref,10))-0.8)*Ref      #friction factor\n",
      "\n",
      "V=(Re*v)/D\n",
      "\n",
      "print \"Velocity at the upper limit  of smooth pipe regime is\",round(V,1),\"m/s\"\n",
      "\n",
      "#Fully rough turbulent flow begins at,\n",
      "\n",
      "Ref=400*(r0/epsillon)\n",
      "\n",
      "Re=(2*(math.log((r0/epsillon),10))+1.74)*Ref\n",
      "\n",
      "V=(Re*v)/D\n",
      "\n",
      "print \"The flow will be at fully rough turbulent regime at V=\",round(V,2),\"m/s\""
     ],
     "language": "python",
     "metadata": {},
     "outputs": [
      {
       "output_type": "stream",
       "stream": "stdout",
       "text": [
        "Velocity at the upper limit  of smooth pipe regime is 0.3 m/s\n",
        "The flow will be at fully rough turbulent regime at V= 7.14 m/s\n"
       ]
      }
     ],
     "prompt_number": 6
    },
    {
     "cell_type": "heading",
     "level": 2,
     "metadata": {},
     "source": [
      "Example 10.7 Page No218"
     ]
    },
    {
     "cell_type": "code",
     "collapsed": false,
     "input": [
      "from __future__ import division\n",
      "\n",
      "import math\n",
      "\n",
      "#variable initialisation\n",
      "\n",
      "r0=0.30                       #constant value\n",
      "\n",
      "v1=4.50                       #velocity in m/s\n",
      "\n",
      "v2=4.20                       #velocity in m/s\n",
      "\n",
      "D=60                          #diameter in cm\n",
      "\n",
      "#Calculation\n",
      "\n",
      "D=D/100\n",
      "\n",
      "u=(v1-v2)/(5.75*(math.log((r0/(0.20)),10)))#For smooth and rough pipe\n",
      "\n",
      "V=(3.75*u)-v1                              #mean velocity V related to um as,\n",
      "\n",
      "Q=math.pi/4*(D**2)*V                       #Discharge\n",
      "\n",
      "print \"Q=\",round(-Q,3),\"m**3/s\"\n"
     ],
     "language": "python",
     "metadata": {},
     "outputs": [
      {
       "output_type": "stream",
       "stream": "stdout",
       "text": [
        "Q= 0.958 m**3/s\n"
       ]
      }
     ],
     "prompt_number": 4
    },
    {
     "cell_type": "heading",
     "level": 2,
     "metadata": {},
     "source": [
      "Example 10.14 Page No220"
     ]
    },
    {
     "cell_type": "code",
     "collapsed": false,
     "input": [
      "from __future__ import division\n",
      "\n",
      "import math\n",
      "\n",
      "#variable initialisation\n",
      "\n",
      "rho=804                      #Relative density in kg/m^3\n",
      "\n",
      "mu=1.92E-3                   #viscosity in Pa.s.\n",
      "\n",
      "D=20                         #Diameter in cm\n",
      "\n",
      "v=3                          #Velocity in m/s\n",
      "\n",
      "r0=0.10                      #Constant value\n",
      "\n",
      "#Calculation\n",
      "\n",
      "D=D/100#Converting into m\n",
      "\n",
      "Re=rho*v*D/mu\n",
      "\n",
      "#At the permissible height of roughness in the pipe the flow will be in smooth-turbulent regime.\n",
      "\n",
      "f=0.0032+(0.221/(Re**0.237))\n",
      "\n",
      "#Since the pipe will behave as smooth,at the limiting value\n",
      "\n",
      "epsillon=r0/((Re*math.sqrt(f))/17)\n",
      "\n",
      "print \"Permissible height of surface roughness=\",round(epsillon*1000,4),\"mm\"\n"
     ],
     "language": "python",
     "metadata": {},
     "outputs": [
      {
       "output_type": "stream",
       "stream": "stdout",
       "text": [
        "Permissible height of surface roughness= 0.0556 mm\n"
       ]
      }
     ],
     "prompt_number": 7
    },
    {
     "cell_type": "heading",
     "level": 2,
     "metadata": {},
     "source": [
      "Example 10.15 Page No220"
     ]
    },
    {
     "cell_type": "code",
     "collapsed": false,
     "input": [
      "from __future__ import division\n",
      "\n",
      "import math\n",
      "\n",
      "#variable initialisation\n",
      "\n",
      "r0=0.05                            #radius \n",
      "\n",
      "epsillon=0.0002                    #roughness magnitude in m\n",
      "\n",
      "r1=0.075                           #radius\n",
      "\n",
      "D1=10                              #Diameter in cm\n",
      "\n",
      "D2=15                              #Diameter in cm\n",
      "\n",
      "#Calculation\n",
      "\n",
      "f1=round(1/((2*(math.log((r0/epsillon),10)))+1.74)**2,4)\n",
      "\n",
      "f2=round(1/((2*(math.log((r1/epsillon),10)))+1.74)**2,4)\n",
      "\n",
      "#P1/P2 is taken as P\n",
      "\n",
      "P=(f1/f2)*((D2/D1)**5)             #Ratio of powers,\n",
      "\n",
      "#Cost of pumping is proportional to power consumed.\n",
      "\n",
      "print \"cost of pumping in 10cm pipe/cost of pumping in 15 cm=\",round(P,2)\n"
     ],
     "language": "python",
     "metadata": {},
     "outputs": [
      {
       "output_type": "stream",
       "stream": "stdout",
       "text": [
        "cost of pumping in 10cm pipe/cost of pumping in 15 cm= 8.42\n"
       ]
      }
     ],
     "prompt_number": 8
    },
    {
     "cell_type": "heading",
     "level": 2,
     "metadata": {},
     "source": [
      "Example 10.18 Page No222"
     ]
    },
    {
     "cell_type": "code",
     "collapsed": false,
     "input": [
      "from __future__ import division\n",
      "\n",
      "import math\n",
      "\n",
      "#variable initialisation\n",
      "\n",
      "v=1.0E-6                                #Velocity in m/s\n",
      "\n",
      "epsillon_s=15E-3                        #roughness in m\n",
      "\n",
      "epsillon2_s=0.2E-3                      #roughness in m\n",
      "\n",
      "Q=4.0                                   #discharge in m\n",
      "\n",
      "D1=1.5                                  #diameter in m\n",
      "\n",
      "t=0.01                                  #thickness\n",
      "\n",
      "g=9.81                                  #gravity \n",
      "\n",
      "L=1000                                  #length \n",
      "\n",
      "ga=9.79                                 #density\n",
      "\n",
      "#Calculation\n",
      "\n",
      "V1=round(Q/((math.pi/4)*(D1**2)),3)\n",
      "\n",
      "Re1=round(V1*D1/v,3)\n",
      "\n",
      "#From the emrpirical equivalent of colrebook equation,\n",
      "\n",
      "f1=round((1/(1.14-(2*(math.log(((epsillon_s/D1)+(21.25/Re1**0.9)),10)))))**2,4)\n",
      "\n",
      "#After the lining,\n",
      "\n",
      "D2=D1-2*t                             #Diameter2 calculation\n",
      "\n",
      "V2=round(Q/((math.pi/4)*(D2**2)),4)\n",
      "\n",
      "Re2=round(V2*D2/v,3)\n",
      "\n",
      "#From the emrpirical equivalent of colrebook equation,\n",
      "\n",
      "f2=round((1/(1.14-(2*(math.log(((epsillon2_s/D2)+(21.25/Re2**0.9)),10)))))**2,4)\n",
      "\n",
      "h_f1=round((f1*L*(V1**2))/(2*g*D1),3)\n",
      "\n",
      "h_f2=round((f2*L*(V2**2))/(2*g*D2),6)\n",
      "\n",
      "h_s=round(h_f1-h_f2,5)                #Saving in head\n",
      "\n",
      "Ps=ga*Q*h_s                           #Saving in power\n",
      "\n",
      "print\"answer in the book is wrong.It should be as,\"\n",
      "\n",
      "print \"Ps=\",round(Ps,1),\"kW\"\n"
     ],
     "language": "python",
     "metadata": {},
     "outputs": [
      {
       "output_type": "stream",
       "stream": "stdout",
       "text": [
        "answer in the book is wrong.It should be as,\n",
        "Ps= 162.3 kW\n"
       ]
      }
     ],
     "prompt_number": 9
    },
    {
     "cell_type": "heading",
     "level": 2,
     "metadata": {},
     "source": [
      "Example 10.19 Page No222"
     ]
    },
    {
     "cell_type": "code",
     "collapsed": false,
     "input": [
      "from __future__ import division\n",
      "\n",
      "import math\n",
      "\n",
      "#variable initialisation\n",
      "\n",
      "D=0.25                          #Diameter in m\n",
      "\n",
      "v=1E-6                          #velocity\n",
      "\n",
      "epsillon_s=0.15E-3              #roughness\n",
      "\n",
      "h_f=0.025                       #hydraulic gradient\n",
      "\n",
      "L=100                           #length in m\n",
      "\n",
      "g=9.81                          #gravity\n",
      "\n",
      "ga=9790                         #density\n",
      "\n",
      "#calculation\n",
      "\n",
      "#Re*math.sqrrt(f) is taken as Ref\n",
      "\n",
      "#Re(math.sqrt(f))=(((V*D)/v)*((2*g*h_f*D)/(V**2*L)))\n",
      "\n",
      "Ref=(((D)**(3/2))/v)*((2*g*h_f)**(1/2))\n",
      "\n",
      "#By colerbrook formula,\n",
      "\n",
      "f1=round((1/(1.14-(2*(math.log(((epsillon_s/D)+(9.35/Ref)),10)))))**2,5)\n",
      "\n",
      "Re=round(Ref/math.sqrt(f1),3)\n",
      "\n",
      "V=round((Re*v)/D,4)\n",
      "\n",
      "Q=(math.pi/4)*(D**2)*V        #Discharge\n",
      "\n",
      "print \"Q=\",round(Q*1000,1),\"L/s\"\n",
      "\n",
      "h_f=h_f*100                   #head lost in 100 m length of pipe\n",
      "\n",
      "P=ga*Q*h_f\n",
      "\n",
      "print \"P=\",round(P/1000,2),\"kW\"\n"
     ],
     "language": "python",
     "metadata": {},
     "outputs": [
      {
       "output_type": "stream",
       "stream": "stdout",
       "text": [
        "Q= 127.9 L/s\n",
        "P= 3.13 kW\n"
       ]
      }
     ],
     "prompt_number": 10
    },
    {
     "cell_type": "heading",
     "level": 2,
     "metadata": {},
     "source": [
      "Example 10.20 Page No223"
     ]
    },
    {
     "cell_type": "code",
     "collapsed": false,
     "input": [
      "from __future__ import division\n",
      "\n",
      "import math\n",
      "\n",
      "#variable initialisation\n",
      "\n",
      "L=1500                                #Length in m\n",
      "\n",
      "Q=250                                 #discharge in L/s\n",
      "\n",
      "g=9.81                                #gravity \n",
      "\n",
      "h_f=15                                #head loss\n",
      "\n",
      "epsillon_s=0.12E-3                    #roughness\n",
      "\n",
      "v=1E-6                                #viscosity in m^2/s\n",
      "\n",
      "#Calculation\n",
      "\n",
      "Q=Q/1000\n",
      "\n",
      "#hf=fLV^2/2gD=(8*L*(Q**2))/((math.pi**2)*g)\n",
      "\n",
      "D=((8*L*(Q**2))/((math.pi**2)*g))/h_f\n",
      "\n",
      "#Re=1/D)(4*Q)/(math.pi*v)\n",
      "\n",
      "#trial and error procedure is adpoted,\n",
      "\n",
      "#1 st trail,assume\n",
      "\n",
      "f=0.025\n",
      "\n",
      "D1=(D*f)**(1/5)\n",
      "\n",
      "Re=((4*Q)/(math.pi*v))/D1\n",
      "\n",
      "f=round((1/(1.14-(2*(math.log(((epsillon_s/D1)+(21.25/Re**0.9)),10)))))**2,4)\n",
      "\n",
      "#trial and error procedure is adpoted,\n",
      "\n",
      "#2 nd trail,assume\n",
      "\n",
      "f=0.0159\n",
      "\n",
      "D1=(D*f)**(1/5)\n",
      "\n",
      "Re=((4*Q)/(math.pi*v))/D1\n",
      "\n",
      "f=round((1/(1.14-(2*(math.log(((epsillon_s/D1)+(21.25/Re**0.9)),10)))))**2,4)\n",
      "\n",
      "#This value is practically same as assumbed hence no further trails are required.\n",
      "\n",
      "#In practicce,the next larger size would be used.\n",
      "\n",
      "print \"The required diameter D=\",round(D1*100,1),\"cm\"\n",
      "\n"
     ],
     "language": "python",
     "metadata": {},
     "outputs": [
      {
       "output_type": "stream",
       "stream": "stdout",
       "text": [
        "The required diameter D= 38.3 cm\n"
       ]
      }
     ],
     "prompt_number": 11
    },
    {
     "cell_type": "heading",
     "level": 2,
     "metadata": {},
     "source": [
      "Example 10.21 Page No223"
     ]
    },
    {
     "cell_type": "code",
     "collapsed": false,
     "input": [
      "from __future__ import division\n",
      "\n",
      "import math\n",
      "\n",
      "#variable initialisation\n",
      "\n",
      "v=1E-6                        #Viscosity in m^2/s\n",
      "\n",
      "V=1                           #Velcoity in m/s\n",
      "\n",
      "L=100                         #Length in m\n",
      "\n",
      "h_f=10/100                    #headloss\n",
      "\n",
      "epsillon_s=0.45E-3            #roughness\n",
      "\n",
      "g=9.81                        #gravity\n",
      "\n",
      "#Calculation\n",
      "\n",
      "#Re=V*D/v\n",
      "\n",
      "Re=(V)/v                      #Reynolds number\n",
      "\n",
      "f=0.0055*(1+(2000*epsillon_s+1)**(1/3))\n",
      "\n",
      "#h_f=f*L*V^2/2gD\n",
      "\n",
      "f1=(2*g*h_f)/(L*V**2)\n",
      "\n",
      "#Using trial and error methods,F is found to be 0.0133,\n",
      "\n",
      "f=0.0133\n",
      "\n",
      "D=f/f1\n",
      "\n",
      "print \"D=\",round(D,3),\"m\"\n",
      "\n",
      "#This value is practically same as assumbed hence no further trails are required.\n",
      "\n",
      "#In practicce,the next larger size would be used.\n"
     ],
     "language": "python",
     "metadata": {},
     "outputs": [
      {
       "output_type": "stream",
       "stream": "stdout",
       "text": [
        "D= 0.678 m\n"
       ]
      }
     ],
     "prompt_number": 12
    },
    {
     "cell_type": "heading",
     "level": 2,
     "metadata": {},
     "source": [
      "Example 10.22 Page No224"
     ]
    },
    {
     "cell_type": "code",
     "collapsed": false,
     "input": [
      "from __future__ import division\n",
      "\n",
      "import math\n",
      "\n",
      "#variable initialisation\n",
      "\n",
      "Rd=0.85                      #relative density of oil\n",
      "\n",
      "L=150                        #length in m\n",
      "\n",
      "h_f=67                       #head loss in m\n",
      "\n",
      "v=0.1                        #viscosity in cm\n",
      "\n",
      "Q=80                         #Discharge in L/s\n",
      "\n",
      "g=9.81                       #gravity\n",
      "\n",
      "#Calculation\n",
      "\n",
      "Q=Q/1000#Converting into m\n",
      "\n",
      "v=v/10000\n",
      "\n",
      "#h_f=f*L*V**2/(2*g*D)\n",
      "\n",
      "f=h_f*(math.pi**2)*g/(8*L*(Q**2))\n",
      "\n",
      "#D=f/(844.66)**(1/5)\n",
      "\n",
      "#Reynolds number,\n",
      "\n",
      "Re=(4*Q)/(math.pi*v)\n",
      "\n",
      "#Re=Re*(1/D)\n",
      "\n",
      "#A trial and error procedure is used.\n",
      "\n",
      "#1 st trial assume,\n",
      "\n",
      "f1=0.02\n",
      "\n",
      "D=(f1/f)**(1/5)\n",
      "\n",
      "Re1=Re*(1/D)\n",
      "\n",
      "#As Re<10^5,Blasius formula can be used.\n",
      "\n",
      "#2nd trial,\n",
      "\n",
      "f1=0.316/(Re1**(1/4))\n",
      "\n",
      "D=round((f1/f)**(1/5)*100,1)\n",
      "\n",
      "Re2=Re/D\n",
      "\n",
      "#3 rs trial,\n",
      "\n",
      "f1=0.316/(Re2**(1/4))\n",
      "\n",
      "print \"The required diameter is D=\",round(D,2),\"cm\"\n",
      "\n",
      "#This value is practically same as assumbed hence no further trails are required.\n",
      "\n",
      "#In practicce,the next larger size would be used."
     ],
     "language": "python",
     "metadata": {},
     "outputs": [
      {
       "output_type": "stream",
       "stream": "stdout",
       "text": [
        "The required diameter is D= 11.7 cm\n"
       ]
      }
     ],
     "prompt_number": 13
    },
    {
     "cell_type": "heading",
     "level": 2,
     "metadata": {},
     "source": [
      "Example 10.23 Page No223"
     ]
    },
    {
     "cell_type": "code",
     "collapsed": false,
     "input": [
      "from __future__ import division\n",
      "\n",
      "import math\n",
      "\n",
      "#variable initialisation\n",
      "\n",
      "rho=1.20                       #relative density\n",
      "\n",
      "l=0.4                          #length in m\n",
      "\n",
      "b=0.25                         #breadth in m\n",
      "\n",
      "V=20                           #velcity in m/s\n",
      "\n",
      "v=1.5E-5                       #viscosity\n",
      "\n",
      "epsillon_s=0.05E-3             #roughness\n",
      "\n",
      "ga=9.81*1.2                    #gravity\n",
      "\n",
      "eta=0.60                       #efficiency\n",
      "\n",
      "L=200                          #length in m\n",
      "\n",
      "g=9.81                         #gravity\n",
      "\n",
      "#Calculation\n",
      "\n",
      "area=l*b                       #Calculating area\n",
      "\n",
      "perimeter=2*(l+b)              #Calculating perimeter\n",
      "\n",
      "Dh=4*(area/perimeter)\n",
      "\n",
      "Reh=(V*Dh)/v\n",
      "\n",
      "#By empirical equivalent of colrebook formula,\n",
      "\n",
      "f=round((1/(1.14-(2*(math.log(((epsillon_s/Dh)+(21.25/Reh**0.9)),10)))))**2,4)\n",
      "\n",
      "hf=(f*L*(V**2))/(2*g*Dh)        #Head loss\n",
      "\n",
      "print \"hf=\",round(hf,1),\"m(of air column)\"\n",
      "\n",
      "del_p=int(rho*g*hf)/1000        #pressure loss\n",
      "\n",
      "print \"del_p=\",round(del_p,3),\"kPa\"\n",
      "\n",
      "Q=V*l*b\n",
      "\n",
      "P=ga*Q*hf/eta                   #Power required at 60% efficiency\n",
      "\n",
      "print \"P=\",round(P/1000,1),\"kW\""
     ],
     "language": "python",
     "metadata": {},
     "outputs": [
      {
       "output_type": "stream",
       "stream": "stdout",
       "text": [
        "hf= 204.1 m(of air column)\n",
        "del_p= 2.402 kPa\n",
        "P= 8.0 kW\n"
       ]
      }
     ],
     "prompt_number": 15
    }
   ],
   "metadata": {}
  }
 ]
}