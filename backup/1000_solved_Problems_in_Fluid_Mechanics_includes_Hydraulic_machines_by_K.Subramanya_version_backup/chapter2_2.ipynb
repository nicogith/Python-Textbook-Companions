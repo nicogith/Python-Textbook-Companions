{
 "metadata": {
  "name": "",
  "signature": "sha256:5caa8b95d9d2e8d9ac3b8ae923407e4f4753eb950ecec9bfbb143b70f619f199"
 },
 "nbformat": 3,
 "nbformat_minor": 0,
 "worksheets": [
  {
   "cells": [
    {
     "cell_type": "heading",
     "level": 1,
     "metadata": {},
     "source": [
      "Chapter 2:Fluid Statics"
     ]
    },
    {
     "cell_type": "heading",
     "level": 2,
     "metadata": {},
     "source": [
      "Example 2.1 Page No22"
     ]
    },
    {
     "cell_type": "code",
     "collapsed": false,
     "input": [
      "from __future__ import division\n",
      "\n",
      "#variable initialisation\n",
      "\n",
      "h1=10          #column water in cm\n",
      "\n",
      "h2=5           #column of oil in cm\n",
      "\n",
      "rd=0.75        #relative density of oil\n",
      "\n",
      "h3=2           #column of mercury in cm\n",
      "\n",
      "#solution\n",
      "\n",
      "ga=9790          #density in N/m^3\n",
      "\n",
      "a=h1/100\n",
      "\n",
      "p=ga*a           #pressure\n",
      "\n",
      "print \"(i)For water Column,p=\",int(p),\"N/m^2\"\n",
      "\n",
      "ga_o=rd*ga     \n",
      "\n",
      "p_o=(ga_o*h2)/100 #pressure\n",
      "\n",
      "print \"(ii)For Oil Column, p=\",round(p_o,2),\"N/m^2\"\n",
      "\n",
      "ga_m=13.6*ga\n",
      "\n",
      "p_m=ga_m*h3/100   #pressure\n",
      "\n",
      "print \"(iii)for Mercury Column,p=\",round(p_m,1),\"N/m^2\"\n"
     ],
     "language": "python",
     "metadata": {},
     "outputs": [
      {
       "output_type": "stream",
       "stream": "stdout",
       "text": [
        "(i)For water Column,p= 979 N/m^2\n",
        "(ii)For Oil Column, p= 367.13 N/m^2\n",
        "(iii)for Mercury Column,p= 2662.9 N/m^2\n"
       ]
      }
     ],
     "prompt_number": 1
    },
    {
     "cell_type": "heading",
     "level": 2,
     "metadata": {},
     "source": [
      "Example 2.2 Page No22"
     ]
    },
    {
     "cell_type": "code",
     "collapsed": false,
     "input": [
      "from __future__ import division\n",
      "\n",
      "import math\n",
      "\n",
      "#variable initialisation\n",
      "\n",
      "d=5         #depth in m\n",
      "\n",
      "rd=0.85     #relative density of liquid\n",
      "\n",
      "br=0.750    #barometer reading of mercury in m\n",
      "\n",
      "#solution\n",
      "\n",
      "ga=rd*9790            #calculating gamma\n",
      "\n",
      "p=int(br*13.6*9790)   #Atmospheric Pressure\n",
      "\n",
      "print \"atmospheric pressure=\",p ,\"N/m^2\"\n",
      "\n",
      "ap=round(((d*ga)+p),0)\n",
      "\n",
      "print \"absolute pressure in the liquid at 5.0 m depth=\",ap/1000,\"kPa\"\n",
      "\n",
      "\n"
     ],
     "language": "python",
     "metadata": {},
     "outputs": [
      {
       "output_type": "stream",
       "stream": "stdout",
       "text": [
        "atmospheric pressure= 99858 N/m^2\n",
        "absolute pressure in the liquid at 5.0 m depth= 141.466 kPa\n"
       ]
      }
     ],
     "prompt_number": 3
    },
    {
     "cell_type": "heading",
     "level": 2,
     "metadata": {},
     "source": [
      "Example 2.3 Page No22"
     ]
    },
    {
     "cell_type": "code",
     "collapsed": false,
     "input": [
      "from __future__ import division\n",
      "\n",
      "import math\n",
      "\n",
      "#variable initialisation\n",
      "\n",
      "p1=0                             #pressure\n",
      "\n",
      "rho=0.88                         #density\n",
      "\n",
      "ga_w=9790                        #relative density in N/m^3\n",
      "\n",
      "h=4                              #height of water in m\n",
      "\n",
      "h1=2                             #height of water in m\n",
      "\n",
      "#Calculation\n",
      "\n",
      "ga_0=rho*9790\n",
      "\n",
      "p2=p1+(ga_0*h1)                  #pressure at the oil-water interface\n",
      "\n",
      "p3=round(p2+(ga_w*h),1)          #pressure due to 4m of water\n",
      "\n",
      "print \"P3=\",round(p3/1000,4),\"kPa\"\n"
     ],
     "language": "python",
     "metadata": {},
     "outputs": [
      {
       "output_type": "stream",
       "stream": "stdout",
       "text": [
        "P3= 56.3904 kPa\n"
       ]
      }
     ],
     "prompt_number": 6
    },
    {
     "cell_type": "heading",
     "level": 2,
     "metadata": {},
     "source": [
      "Example 2.5 Page No23"
     ]
    },
    {
     "cell_type": "code",
     "collapsed": false,
     "input": [
      "from __future__ import division\n",
      "\n",
      "import math\n",
      "\n",
      "#variable initialisation\n",
      "\n",
      "k=1.4                          #assumed value\n",
      "\n",
      "g=9.81                         #gravity\n",
      "\n",
      "rho=1.1120                     #relative density in kg/m^3\n",
      "\n",
      "h1=3500                        #elevation above sea level in m\n",
      "\n",
      "h2=1000                        #elevation sea level in m\n",
      "\n",
      "p1=89890                       #pressue in Pa\n",
      "\n",
      "#Calculation\n",
      "\n",
      "#For an adiabatic process,\n",
      "\n",
      "a=k/(k-1)\n",
      "\n",
      "p2=int(((1-(((k-1)/k)*(((g*rho)*(h1-h2))/p1)))**a)*p1)\n",
      "\n",
      "rho2=((p2/p1)**(1/k))*rho\n",
      "\n",
      "print \"Answer given in  the book is wrong in decimal.It should be,\"\n",
      "\n",
      "print \"rho2=\",round(rho2,5),\"kg/m^3\"\n",
      "\n"
     ],
     "language": "python",
     "metadata": {},
     "outputs": [
      {
       "output_type": "stream",
       "stream": "stdout",
       "text": [
        "Answer given in  the book is wrong in decimal.It should be,\n",
        "rho2= 0.88645 kg/m^3\n"
       ]
      }
     ],
     "prompt_number": 7
    },
    {
     "cell_type": "heading",
     "level": 2,
     "metadata": {},
     "source": [
      "Example 2.6 Page No23"
     ]
    },
    {
     "cell_type": "code",
     "collapsed": false,
     "input": [
      "from __future__ import division\n",
      "\n",
      "import math\n",
      "\n",
      "#variable initialisation\n",
      "\n",
      "RD_oil=0.70                       #relative density of oil in kg/m^3\n",
      "\n",
      "RD_mercury=13.6                   #relative density of mercury in kg/m^3\n",
      "\n",
      "RD_oil2=0.8                       #relative density of oil 2 in kg/m^3\n",
      "\n",
      "W=9790                            #unit weight of water in N/m^3\n",
      "\n",
      "D1=10                             #diameter 1 in cm\n",
      "\n",
      "D2=13                             #diameter 2 in cm\n",
      "\n",
      "D3=8                              #diameter 3 in cm\n",
      "\n",
      "#Calculation\n",
      "\n",
      "D1=D1/100                         #converting into m\n",
      "\n",
      "D2=D2/100\n",
      "\n",
      "D3=D3/100\n",
      "#Equating the pressures on both the limbs at the horizontal plane.\n",
      "\n",
      "#P_A+(D1+D2+D3)*ga_A=P_B+(D2*ga_B)+(D3*ga_m)\n",
      "\n",
      "ga_A=RD_oil*W\n",
      "\n",
      "ga_B=RD_oil2*W\n",
      "\n",
      "ga_m=RD_mercury*W\n",
      "\n",
      "#P_A-P_B is taken as PD\n",
      "\n",
      "PD=((D2*ga_B)+(D3*ga_m)-(D1+D2+D3)*ga_A)/1000\n",
      "\n",
      "print \"P_A-P_B=\",round(PD,3),\"kPa\"\n"
     ],
     "language": "python",
     "metadata": {},
     "outputs": [
      {
       "output_type": "stream",
       "stream": "stdout",
       "text": [
        "P_A-P_B= 9.545 kPa\n"
       ]
      }
     ],
     "prompt_number": 8
    },
    {
     "cell_type": "heading",
     "level": 2,
     "metadata": {},
     "source": [
      "Example 2.7 Page No23"
     ]
    },
    {
     "cell_type": "code",
     "collapsed": false,
     "input": [
      "from __future__ import division\n",
      "\n",
      "import math\n",
      "\n",
      "#variable initialisation\n",
      "\n",
      "ga_w=9790                          #unit weight of water in N/m^3\n",
      "\n",
      "ga_oil=0.83                        #unit weight of oil in N/m^3\n",
      "\n",
      "D1=3.5                             #diameter 1 in cm\n",
      "\n",
      "D2=6                               #diameter 1 in cm\n",
      "\n",
      "D3=12                              #diameter 1 in cm\n",
      "\n",
      "#Calculation\n",
      "\n",
      "D1=D1/100                          #converting into m\n",
      "\n",
      "D2=D2/100\n",
      "\n",
      "D3=D3/100\n",
      "\n",
      "ga_oil=ga_oil*9790                 #unit weight\n",
      "\n",
      "#P_A+(D1+D2+D3)*ga_A=P_B+(D2*ga_B)+(D3*ga_m)\n",
      "\n",
      "PD=((ga_w*(D1+D2))-(ga_w*(D2+D3))-(ga_oil*D1))/1000\n",
      "\n",
      "print \"Pressure at N is larger thean at M by\",-round(PD,3),\"kPa\"\n"
     ],
     "language": "python",
     "metadata": {},
     "outputs": [
      {
       "output_type": "stream",
       "stream": "stdout",
       "text": [
        "Pressure at N is larger thean at M by 1.117 kPa\n"
       ]
      }
     ],
     "prompt_number": 9
    },
    {
     "cell_type": "heading",
     "level": 2,
     "metadata": {},
     "source": [
      "Example 2.8 Page No24"
     ]
    },
    {
     "cell_type": "code",
     "collapsed": false,
     "input": [
      "from __future__ import division\n",
      "\n",
      "import math\n",
      "\n",
      "#variable initialisation\n",
      "\n",
      "p1=20                         #pressure in inner tank in kPa\n",
      "\n",
      "p2=35                         #pressure in outer tank in kPa\n",
      "\n",
      "N=750                         #barometer reading in mm\n",
      "\n",
      "#Calculation\n",
      "\n",
      "#Bourdon guage records guage pressure relative to the pressure of medium\n",
      "\n",
      "#local pressure is measured by aneroid barometer\n",
      "\n",
      "pN_abs=N+((p2*1000)/(13.6*9.79))\n",
      "\n",
      "print \"pN_abs=\",round(pN_abs,1),\"mm of mercury (abs)\"\n",
      "\n",
      "pM_abs=pN_abs+((p1*1000)/(13.6*9.79))\n",
      "\n",
      "print \"pN_abs=\",round(pM_abs,1),\"mm of mercury (abs)\"\n"
     ],
     "language": "python",
     "metadata": {},
     "outputs": [
      {
       "output_type": "stream",
       "stream": "stdout",
       "text": [
        "pN_abs= 1012.9 mm of mercury (abs)\n",
        "pN_abs= 1163.1 mm of mercury (abs)\n"
       ]
      }
     ],
     "prompt_number": 10
    },
    {
     "cell_type": "heading",
     "level": 2,
     "metadata": {},
     "source": [
      "Example 2.9 Page No24"
     ]
    },
    {
     "cell_type": "code",
     "collapsed": false,
     "input": [
      "from __future__ import division\n",
      "\n",
      "import math\n",
      "\n",
      "#variable initialisation\n",
      "\n",
      "RD_oil=0.75                         #relative density of oil in kg/m^3\n",
      "\n",
      "RD_mercury=13.6                     #relative density of oil in kg/m^3\n",
      "\n",
      "D1=10                               #Diameter 1 in cm\n",
      "\n",
      "D2=150                              #Diameter 2 in cm\n",
      "\n",
      "D3=200                              #Diameter 3 in cm\n",
      "\n",
      "#calculation\n",
      "\n",
      "D1=D1/100                           #Converting into m\n",
      "\n",
      "D2=D2/100\n",
      "\n",
      "D3=D3/100\n",
      "\n",
      "#Considering the pressure at the horizontal plane,\n",
      "\n",
      "ga_o=RD_oil*9790                    #specific weight of oil in N/m^3\n",
      "\n",
      "ga_w=9790                           #specific weight of water in N/m^3\n",
      "\n",
      "ga_m=RD_mercury*9790                #specific weight of mercury in N/m^3\n",
      "\n",
      "P_A=(D1*ga_m)-(D3-D2)*ga_w-D2*ga_o-D1*ga_w\n",
      "\n",
      "print \"P_A=\",round(P_A/1000,3),\"kPa\"\n"
     ],
     "language": "python",
     "metadata": {},
     "outputs": [
      {
       "output_type": "stream",
       "stream": "stdout",
       "text": [
        "P_A= -3.573 kPa\n"
       ]
      }
     ],
     "prompt_number": 11
    },
    {
     "cell_type": "heading",
     "level": 2,
     "metadata": {},
     "source": [
      "Example 2.10 Page No24"
     ]
    },
    {
     "cell_type": "code",
     "collapsed": false,
     "input": [
      "from __future__ import division\n",
      "\n",
      "import math\n",
      "\n",
      "#variable initialisation\n",
      "\n",
      "RD_oil=0.8                                 #relative density of oil in kg/m^3\n",
      "\n",
      "RD_mercury=13.6                            #relative density of mercury in kg/m^3\n",
      "\n",
      "D1=20                                      #Diameter in cm\n",
      "\n",
      "D2=16                                      #Diameter in cm\n",
      "\n",
      "D3=12                                      #Diameter in cm\n",
      "\n",
      "D4=15                                      #Diameter in cm\n",
      "\n",
      "#Calculation\n",
      "\n",
      "D1=D1/100                                  #Converting into m\n",
      "\n",
      "D2=D2/100\n",
      "\n",
      "D3=D3/100\n",
      "\n",
      "D4=D4/100\n",
      "\n",
      "ga_o=RD_oil*9790                           #specific weight of oil in N/m^3\n",
      "\n",
      "ga_m=RD_mercury*9790                       #specific weight of water in N/m^3\n",
      "\n",
      "e=-(ga_o*(D1+D2))+((ga_o*(D4)))+(-((ga_o)*D3))+(ga_m*(D4+D3+(D1-D2)))\n",
      "\n",
      "print \"(P_M-P_N)=\",round(e/1000,4),\"kPa\"\n"
     ],
     "language": "python",
     "metadata": {},
     "outputs": [
      {
       "output_type": "stream",
       "stream": "stdout",
       "text": [
        "(P_M-P_N)= 38.6901 kPa\n"
       ]
      }
     ],
     "prompt_number": 14
    },
    {
     "cell_type": "heading",
     "level": 2,
     "metadata": {},
     "source": [
      "Example 2.17 Page No28"
     ]
    },
    {
     "cell_type": "code",
     "collapsed": false,
     "input": [
      "from __future__ import division\n",
      "\n",
      "import math\n",
      "\n",
      "#variable initialisation\n",
      "\n",
      "ga_o=0.9*9790                       #relative density of oil in kg/m^3\n",
      "\n",
      "P0=0                                #pressure at top\n",
      "\n",
      "d=0.6                               #depth in m\n",
      "\n",
      "s=1.5                               #sides of tank in m\n",
      "\n",
      "#Calculation\n",
      "\n",
      "Pi=0.9*ga_o                        #pressure at the interface in N/m^2\n",
      "\n",
      "Pb=Pi+9790*d                       #pressure on the bottom in N/m^2\n",
      "\n",
      "F1=(1/2)*Pi*(0.9*s)                #Force on the top of 0.l9 m of a side\n",
      "\n",
      "F2=Pi*s*d                          #Force on the bottom of 0.6 m of a side\n",
      "\n",
      "F3=(1/2)*(Pb-Pi)*d*s               #remaining part of force on the bottom 0.6m of a side\n",
      "\n",
      "F=F1+F2+F3                         #Total force\n",
      "\n",
      "print \"Total force F=\",round(F/1000,3),\"kN\"\n",
      "\n",
      "Y_p=((F1*d)+(F2*(0.9+(d/2)))+(F3*(0.9+(2/3)*d)))/F #centre of pressure\n",
      "\n",
      "print \"Y_p=\",round(Y_p,3),\"m\"\n",
      "\n"
     ],
     "language": "python",
     "metadata": {},
     "outputs": [
      {
       "output_type": "stream",
       "stream": "stdout",
       "text": [
        "Total force F= 15.133 kN\n",
        "Y_p= 1.005 m\n"
       ]
      }
     ],
     "prompt_number": 16
    },
    {
     "cell_type": "heading",
     "level": 2,
     "metadata": {},
     "source": [
      "Example 2.19 Page No29"
     ]
    },
    {
     "cell_type": "code",
     "collapsed": false,
     "input": [
      "from __future__ import division\n",
      "\n",
      "import math\n",
      "\n",
      "#variable initialisation\n",
      "\n",
      "h=4.5                   #height of board in m\n",
      "\n",
      "#Calculation\n",
      "\n",
      "#For critical stability,the centre of pressure must be at C\n",
      "\n",
      "#h=height of C above B\n",
      "\n",
      "Max=h/3\n",
      "\n",
      "print \"The maximum height=\",Max,\"m\"\n"
     ],
     "language": "python",
     "metadata": {},
     "outputs": [
      {
       "output_type": "stream",
       "stream": "stdout",
       "text": [
        "The maximum height= 1.5 m\n"
       ]
      }
     ],
     "prompt_number": 15
    },
    {
     "cell_type": "heading",
     "level": 2,
     "metadata": {},
     "source": [
      "Example 2.37 Page No38"
     ]
    },
    {
     "cell_type": "code",
     "collapsed": false,
     "input": [
      "#variable initialisation\n",
      "\n",
      "D=2.5       #diameter in m\n",
      "\n",
      "rd=0.25     #relative density \n",
      "\n",
      "p=1000      #pressure in kPA\n",
      "\n",
      "f_a=120     #allowable stress in MPa\n",
      "\n",
      "#solution\n",
      "\n",
      "#Hoop stress in cylinder,sigma=(p*D)/(2*t)\n",
      "\n",
      "#sigma=f_a=allowable stress\n",
      "\n",
      "t=(p*D)/(2*f_a*1000)\n",
      "\n",
      "print \"A Thickness of\",round(t*1000,2),\"mm can therefore be used\"\n",
      "\n",
      "\n"
     ],
     "language": "python",
     "metadata": {},
     "outputs": [
      {
       "output_type": "stream",
       "stream": "stdout",
       "text": [
        "A Thickness of 10.42 mm can therefore be used\n"
       ]
      }
     ],
     "prompt_number": 17
    },
    {
     "cell_type": "heading",
     "level": 2,
     "metadata": {},
     "source": [
      "Example 2.40 Page No39"
     ]
    },
    {
     "cell_type": "code",
     "collapsed": false,
     "input": [
      "#variable initialisation\n",
      "\n",
      "W_s1=10     #weight\n",
      "\n",
      "W_s2=20     #weight \n",
      "\n",
      "S1=0.8      #relative density\n",
      "\n",
      "S2=1.2      #relative density \n",
      "\n",
      "ga=9.79E+3  #gamma\n",
      "\n",
      "#solution\n",
      "\n",
      "V=(W_s2-W_s1)/(ga*(S2-S1)) \n",
      "\n",
      "print \"volume=\",round((V*1000),4),\"L\"\n",
      "\n",
      "W_s1=20     \n",
      "\n",
      "W_s=W_s1+(ga*S1*V)\n",
      "\n",
      "print \"Weight in air=\",int(W_s),\"N\"\n"
     ],
     "language": "python",
     "metadata": {},
     "outputs": [
      {
       "output_type": "stream",
       "stream": "stdout",
       "text": [
        "volume= 2.5536 L\n",
        "Weight in air= 40 N\n"
       ]
      }
     ],
     "prompt_number": 19
    },
    {
     "cell_type": "heading",
     "level": 2,
     "metadata": {},
     "source": [
      "Example 2.42 Page No40"
     ]
    },
    {
     "cell_type": "code",
     "collapsed": false,
     "input": [
      "import math\n",
      "\n",
      "#variable initialisation\n",
      "\n",
      "W=0.2   #weight in N\n",
      "\n",
      "D=5     #diameter in mm\n",
      "\n",
      "#solution\n",
      "\n",
      "#(i)distance between marking of RD of 1.0 and 0.95\n",
      "\n",
      "h1=(W/(9790*((math.pi/4)*(D*D)/(1000*1000))))*((1/0.95)-1)\n",
      "\n",
      "print \"h1=\",round(h1*1000,2),\"mm\"\n",
      "\n",
      "#(ii)distance between marking of RD of 1.0 and 1.05\n",
      "\n",
      "h2=(W/(9790*((math.pi/4)*(D*D)/(1000*1000))))*((1/1.05)-1)\n",
      "\n",
      "print \"h2=\",round(h2*1000,2),\"mm\"\n",
      "        \n",
      "print \"h2 will be below the marking corresponding to relative density of 1.0\"\n"
     ],
     "language": "python",
     "metadata": {},
     "outputs": [
      {
       "output_type": "stream",
       "stream": "stdout",
       "text": [
        "h1= 54.76 mm\n",
        "h2= -49.54 mm\n",
        "h2 will be below the marking corresponding to relative density of 1.0\n"
       ]
      }
     ],
     "prompt_number": 20
    },
    {
     "cell_type": "heading",
     "level": 2,
     "metadata": {},
     "source": [
      "Example 2.58 Page No48"
     ]
    },
    {
     "cell_type": "code",
     "collapsed": false,
     "input": [
      "from __future__ import division\n",
      "\n",
      "import math\n",
      "\n",
      "#variable initialisation\n",
      "\n",
      "\n",
      "az=2.5                     #acceleration  in m/s^2\n",
      "\n",
      "g=9.81                     #gravity\n",
      "\n",
      "ga=9.79                    #density \n",
      "\n",
      "d=1.5                      #depth in m\n",
      "\n",
      "#calculation\n",
      "\n",
      "#(a)When the acceleration is upwards\n",
      "\n",
      "h=d*(d/2)\n",
      "\n",
      "F_H=ga*h*(1+az/g)          #Pressure force on a side wall per metre width\n",
      "\n",
      "print \"F_H=\",round(F_H,2),\"kN\"\n",
      "\n",
      "#(b)When the acceleration is downwards\n",
      "\n",
      "az=-2.5                    #acceleration in m/s^2\n",
      "\n",
      "h=d*(d/2)\n",
      "\n",
      "F_H=ga*h*(1+az/g)          #Pressure force on a side wall per metre width\n",
      "\n",
      "print \"F_H=\",round(F_H,3),\"kN\"\n"
     ],
     "language": "python",
     "metadata": {},
     "outputs": [
      {
       "output_type": "stream",
       "stream": "stdout",
       "text": [
        "F_H= 13.82 kN\n",
        "F_H= 8.207 kN\n"
       ]
      }
     ],
     "prompt_number": 21
    }
   ],
   "metadata": {}
  }
 ]
}