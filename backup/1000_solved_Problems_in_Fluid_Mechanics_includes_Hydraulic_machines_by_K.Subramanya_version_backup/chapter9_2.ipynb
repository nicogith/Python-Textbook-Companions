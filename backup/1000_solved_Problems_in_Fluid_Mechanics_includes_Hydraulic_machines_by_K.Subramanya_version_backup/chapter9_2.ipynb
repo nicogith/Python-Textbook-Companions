{
 "metadata": {
  "name": "",
  "signature": "sha256:8c778708d02b2b46d4a41ece25f6ebe6a607bf5db03c87ed523f7feae47d8f6c"
 },
 "nbformat": 3,
 "nbformat_minor": 0,
 "worksheets": [
  {
   "cells": [
    {
     "cell_type": "heading",
     "level": 1,
     "metadata": {},
     "source": [
      "Chapter 9:Drag and Lift on Immersed Bodies"
     ]
    },
    {
     "cell_type": "heading",
     "level": 2,
     "metadata": {},
     "source": [
      "Example 9.2 Page No198"
     ]
    },
    {
     "cell_type": "code",
     "collapsed": false,
     "input": [
      "from __future__ import division\n",
      "\n",
      "import math\n",
      "\n",
      "#variable initialisation\n",
      "\n",
      "D=20                         #diameter in cm\n",
      "\n",
      "rho_s=2.8*998                #relative density\n",
      "\n",
      "rho_w=998                    #relative density of water in kg/m^3\n",
      "\n",
      "v=1E-6                       #velocity in m^2/s\n",
      "\n",
      "g=9.81                       #gravity constant in m/s^2\n",
      "\n",
      "rho_f=998\n",
      "\n",
      "#solution\n",
      "\n",
      "#assume Re>3*E+5.then\n",
      "\n",
      "C_D=0.20\n",
      "\n",
      "#At terminal velocity V-0t,submerged weight=Drag\n",
      "\n",
      "D=D/100                     #converting D in m\n",
      "\n",
      "V_ot=round(math.sqrt((4/3)*(D/C_D)*((g)*((rho_s/rho_f)-1))),3)\n",
      "\n",
      "print \"V_ot=\",V_ot,\"m/s\"\n",
      "\n",
      "Re=(V_ot*(D/100))/v         #calculating Re\n",
      "\n",
      "#from Re,its clear,Re>3*10^5\n",
      "\n",
      "print \"Hence the assumption is correct and V_ot=\",V_ot,\"m/s\"\n",
      "                    "
     ],
     "language": "python",
     "metadata": {},
     "outputs": [
      {
       "output_type": "stream",
       "stream": "stdout",
       "text": [
        "V_ot= 4.852 m/s\n",
        "Hence the assumption is correct and V_ot= 4.852 m/s\n"
       ]
      }
     ],
     "prompt_number": 1
    },
    {
     "cell_type": "heading",
     "level": 2,
     "metadata": {},
     "source": [
      "Example 9.3 Page No199"
     ]
    },
    {
     "cell_type": "code",
     "collapsed": false,
     "input": [
      "from __future__ import division\n",
      "\n",
      "import math\n",
      "\n",
      "#variable initialisation\n",
      "\n",
      "rho_f=998                  #density of water in kg/m^3\n",
      "\n",
      "mu=1E-3                    #coefficient of viscosity in Pa.s\n",
      "\n",
      "g=9.81                     #gravity in m/s^2\n",
      "\n",
      "ga_s=2.65*998              #particles RD\n",
      "\n",
      "ga_f=998                   #relative density in kg/m^3\n",
      "\n",
      "#solution\n",
      "\n",
      "#Stoke's law is valid upto Re=1.0\n",
      "\n",
      "#For maximum size particles that obey stoke's law,\n",
      "\n",
      "#Using fall velocity and stoke's law,\n",
      "\n",
      "V_ot=(1/18)*g*(mu/rho_f)*((ga_s/ga_f)-1)        #terminal velocity\n",
      "\n",
      "V_o=round(math.pow(V_ot,1/3)*1000,2)            #taking cube root\n",
      "\n",
      "print \"V_ot=\",V_o,\"mm/s\"\n",
      "\n",
      "D=(mu)/(rho_f*V_o/1000)                          #size\n",
      "\n",
      "print \"D=\",round(D*1000,4),\"mm\"\n"
     ],
     "language": "python",
     "metadata": {},
     "outputs": [
      {
       "output_type": "stream",
       "stream": "stdout",
       "text": [
        "V_ot= 9.66 mm/s\n",
        "D= 0.1037 mm\n"
       ]
      }
     ],
     "prompt_number": 2
    },
    {
     "cell_type": "heading",
     "level": 2,
     "metadata": {},
     "source": [
      "Example 9.4 Page No199"
     ]
    },
    {
     "cell_type": "code",
     "collapsed": false,
     "input": [
      "from __future__ import division\n",
      "\n",
      "#variable initialisation\n",
      "\n",
      "ga_s=2.60*998           #relative density of sphere\n",
      "\n",
      "D=2.0                   #Diameter in mm\n",
      "\n",
      "v=1.25                  #velocity in cm/s\n",
      "\n",
      "ga_f=917                #density of oil in kg/m^3 \n",
      "\n",
      "g=9.81                  #gravity in m/s^2\n",
      "\n",
      "#solution\n",
      "\n",
      "#Assuming validity of Stoke's law,\n",
      "\n",
      "#using Fall Velocity equation,\n",
      "\n",
      "mu=round((((D/1000)**2)*((ga_s*g)-(ga_f*g)))/(18*(v/100)),3)\n",
      "\n",
      "print \"coefficient of dynamic viscosity mu=\",mu,\"Pa.s\"\n",
      "\n",
      "#Reynold's number,\n",
      "\n",
      "Re=round((ga_f*(v/100)*(D/1000))/(mu),3)\n",
      "\n",
      "print \"Reynolds number is\",Re\n",
      "\n",
      "print Re,\" < 1.0\"\n",
      "\n",
      "print \"Hence the assumed Stoke's law is valid\"\n"
     ],
     "language": "python",
     "metadata": {},
     "outputs": [
      {
       "output_type": "stream",
       "stream": "stdout",
       "text": [
        "coefficient of dynamic viscosity mu= 0.293 Pa.s\n",
        "Reynolds number is 0.078\n",
        "0.078  < 1.0\n",
        "Hence the assumed Stoke's law is valid\n"
       ]
      }
     ],
     "prompt_number": 3
    },
    {
     "cell_type": "heading",
     "level": 2,
     "metadata": {},
     "source": [
      "Example 9.5 Page No199"
     ]
    },
    {
     "cell_type": "code",
     "collapsed": false,
     "input": [
      "from __future__ import division\n",
      "\n",
      "import math\n",
      "\n",
      "#variable initialisation\n",
      "\n",
      "D=0.2                        #diameter in mm\n",
      "\n",
      "rho_f=1.20                   #density of air in kg/m^3\n",
      "\n",
      "rho_s=998                    #density of water in kg/m^3\n",
      "\n",
      "g=9.81                       #gravity in m/s^2\n",
      "\n",
      "C_D=4.20                     #Drag coefficient\n",
      "\n",
      "D1=2.0                       #Diameter in mm\n",
      "\n",
      "C_D1=0.517                   #Drag coefficient\n",
      "\n",
      "#solution\n",
      "\n",
      "D=D/1000                     #converting D to m\n",
      "\n",
      "print \"For 0.2 mm rain drop:\"\n",
      "\n",
      "V_ot=round(math.sqrt((((4*g*D)/(3*C_D))*((rho_s/rho_f)-1))),2)\n",
      "\n",
      "print \"V_ot=\",V_ot,\"m/s\"\n",
      "\n",
      "print \"For 2.0 mm rain drop:\"\n",
      "\n",
      "D1=D1/1000                   #converting D to m\n",
      "\n",
      "V_ot=round(math.sqrt((((4*g*D1)/(3*C_D1))*((rho_s/rho_f)-1))),2)\n",
      "\n",
      "print \"V_ot=\",V_ot,\"m/s\"\n"
     ],
     "language": "python",
     "metadata": {},
     "outputs": [
      {
       "output_type": "stream",
       "stream": "stdout",
       "text": [
        "For 0.2 mm rain drop:\n",
        "V_ot= 0.72 m/s\n",
        "For 2.0 mm rain drop:\n",
        "V_ot= 6.48 m/s\n"
       ]
      }
     ],
     "prompt_number": 6
    },
    {
     "cell_type": "heading",
     "level": 2,
     "metadata": {},
     "source": [
      "Example 9.6 Page No199"
     ]
    },
    {
     "cell_type": "code",
     "collapsed": false,
     "input": [
      "from __future__ import division\n",
      "\n",
      "import math\n",
      "\n",
      "#variable initialisation\n",
      "\n",
      "V_o=60                  #velocity in Km/h\n",
      "\n",
      "C_d=0.35                #Drag coefficient\n",
      "\n",
      "C_d1=0.30               #reduced Drag coefficient \n",
      "\n",
      "A=1.6                   #area in m^2\n",
      "\n",
      "rho=1.2 \n",
      "\n",
      "#solution\n",
      "\n",
      "V_o=(V_o*1000)/(60*60)   #converting V_o into m/s\n",
      "\n",
      "#power required to overcome wind resistance by the car\n",
      "\n",
      "F_D=round(C_d * A * rho * ((V_o**2)/2),2)\n",
      "\n",
      "p=F_D*V_o                #power \n",
      "\n",
      "print \"a)power=\",round(p/1000,3),\"kW\"\n",
      "\n",
      "V_o=(p*2)/(C_d1*A*rho)   #Speed\n",
      "\n",
      "V=math.pow(V_o,1/3)*18/5 #taking cuberoot\n",
      "\n",
      "print \"b)Vo=\",round(V,2),\"Km/h\""
     ],
     "language": "python",
     "metadata": {},
     "outputs": [
      {
       "output_type": "stream",
       "stream": "stdout",
       "text": [
        "a)power= 1.556 kW\n",
        "b)Vo= 63.16 Km/h\n"
       ]
      }
     ],
     "prompt_number": 7
    },
    {
     "cell_type": "heading",
     "level": 2,
     "metadata": {},
     "source": [
      "Example 9.9 Page No200"
     ]
    },
    {
     "cell_type": "code",
     "collapsed": false,
     "input": [
      "from __future__ import division\n",
      "\n",
      "import math\n",
      "\n",
      "#variable initialisation\n",
      "\n",
      "g=9.81               #gravity in m/s^2\n",
      "\n",
      "h=2                  #height in m\n",
      "\n",
      "F_D=1000             #total load in N\n",
      "\n",
      "rho=1.2              #density in kg/m^3\n",
      "\n",
      "#solution\n",
      "\n",
      "C_d=1.33                       #for the hemisphere with concave frontal surface\n",
      "\n",
      "V_ot=round(math.sqrt(2*g*h),2) #Terminal Velocity\n",
      "\n",
      "D=F_D*(4/3.14)*(2/(C_d*rho*(V_ot**2)))#minimum size\n",
      "       \n",
      "print \"D=\",round(math.sqrt(D),2),\"m,say 6.5 m\"\n"
     ],
     "language": "python",
     "metadata": {},
     "outputs": [
      {
       "output_type": "stream",
       "stream": "stdout",
       "text": [
        "D= 6.38 m,say 6.5 m\n"
       ]
      }
     ],
     "prompt_number": 8
    },
    {
     "cell_type": "heading",
     "level": 2,
     "metadata": {},
     "source": [
      "Example 9.10 Page No201"
     ]
    },
    {
     "cell_type": "code",
     "collapsed": false,
     "input": [
      "from __future__ import division\n",
      "\n",
      "import math\n",
      "\n",
      "#variable initialisation\n",
      "\n",
      "rho_air=1.2                      #relative ddensity in kg/m^3\n",
      "\n",
      "v=1.5E-5                         #velocityin m^2/s\n",
      "\n",
      "C_D=1.20                         #drag coefficient\n",
      "\n",
      "V0=80                            #velocity in km/h\n",
      "\n",
      "D=0.05                           #Diameter in m\n",
      "\n",
      "L=1                              #length in m\n",
      "\n",
      "S=0.21                           #Strouhal number\n",
      "\n",
      "#Calculation\n",
      "\n",
      "V0=80*1000/3600                  #velcoity in m/s\n",
      "\n",
      "Re=V0*D/v                        #Reynolds number\n",
      "\n",
      "A=L*D#area\n",
      "\n",
      "F_D=C_D*A*(rho_air*(V0**2))/2    #Drag force for unit length of cable\n",
      "\n",
      "print \"F_D=\",round(F_D,2),\"N/metre length of cable\"\n",
      "\n",
      "n=S*(V0/D)                       #frequency of vortex shedding\"\n",
      "\n",
      "print \"n=\",round(n,1),\"Hz\"\n",
      "\n"
     ],
     "language": "python",
     "metadata": {},
     "outputs": [
      {
       "output_type": "stream",
       "stream": "stdout",
       "text": [
        "F_D= 17.78 N/metre length of cable\n",
        "n= 93.3 Hz\n"
       ]
      }
     ],
     "prompt_number": 9
    },
    {
     "cell_type": "heading",
     "level": 2,
     "metadata": {},
     "source": [
      "Example 9.11 Page No201"
     ]
    },
    {
     "cell_type": "code",
     "collapsed": false,
     "input": [
      "from __future__ import division\n",
      "\n",
      "import math\n",
      "\n",
      "#variable initialisation\n",
      "\n",
      "rho_air=1.2                      #relative ddensity in kg/m^3\n",
      "\n",
      "v=1.5E-5                         #velocityin m^2/s\n",
      "\n",
      "C_D=0.33                         #drag coefficient\n",
      "\n",
      "V0=80                            #velocity in km/h\n",
      "\n",
      "D=2.5                            #Diameter in m\n",
      "\n",
      "L=50                             #length in m\n",
      "\n",
      "S=0.21                           #Strouhal number\n",
      "\n",
      "#Calculation\n",
      "\n",
      "V0=80*1000/3600                  #velcoity in m/s\n",
      "\n",
      "Re=V0*D/v                        #Reynolds number\n",
      "\n",
      "A=L*D                            #area\n",
      "\n",
      "#Calculation\n",
      "\n",
      "V0=80*1000/3600                  #velcoity in m/s\n",
      "\n",
      "Re=V0*D/v                        #Reynolds number\n",
      "\n",
      "A=L*D                            #area\n",
      "\n",
      "F_D=C_D*A*(rho_air*(V0**2))/2    #Force on the chimney\n",
      "\n",
      "M0=F_D*(L/2)\n",
      "\n",
      "print \"M0=\",round(M0/1000,1),\"kN.m\"\n"
     ],
     "language": "python",
     "metadata": {},
     "outputs": [
      {
       "output_type": "stream",
       "stream": "stdout",
       "text": [
        "M0= 305.6 kN.m\n"
       ]
      }
     ],
     "prompt_number": 10
    },
    {
     "cell_type": "heading",
     "level": 2,
     "metadata": {},
     "source": [
      "Example 9.14 Page No202"
     ]
    },
    {
     "cell_type": "code",
     "collapsed": false,
     "input": [
      "from __future__ import division\n",
      "\n",
      "import math\n",
      "\n",
      "#variable initialisation\n",
      "\n",
      "l=2.0            #length in m\n",
      "\n",
      "w=1.5            #width in m\n",
      "\n",
      "C_d=0.20         #Drag coefficient\n",
      "\n",
      "C_l=0.60         #lift coefficient\n",
      "\n",
      "V_o=30           #Velocity in km/hr\n",
      "\n",
      "rho=998          #density in kg/m^3\n",
      "\n",
      "#solution\n",
      "\n",
      "V_o=(V_o*1000/3600)\n",
      "\n",
      "A=l*w                                         #Calculating area\n",
      "\n",
      "F_D=round(((C_d*A*(rho*(V_o**2))/2)/1000)-.01,2)  #Drag force\n",
      "\n",
      "F_L=round(((C_l*A*(rho*(V_o**2))/2)/1000)-.01,2)  #Lift force\n",
      "\n",
      "F=round(math.sqrt((F_D**2)+(F_L**2)),2)       #Resultant Force\n",
      "\n",
      "print \"F=\",F,\"kN\"\n",
      "\n",
      "P=F_D*V_o                                     #Power required to tow the plate\n",
      "\n",
      "print \"P=\",round(P,1),\"kW\"                    #when we roundoff,points vary"
     ],
     "language": "python",
     "metadata": {},
     "outputs": [
      {
       "output_type": "stream",
       "stream": "stdout",
       "text": [
        "F= 65.74 kN\n",
        "P= 173.2 kW\n"
       ]
      }
     ],
     "prompt_number": 19
    },
    {
     "cell_type": "heading",
     "level": 2,
     "metadata": {},
     "source": [
      "Example 9.17 Page No204"
     ]
    },
    {
     "cell_type": "code",
     "collapsed": false,
     "input": [
      "from __future__ import division\n",
      "\n",
      "import math\n",
      "\n",
      "#variable initialisation\n",
      "\n",
      "l=2 #length in m\n",
      "\n",
      "w=1.2 #width in m\n",
      "\n",
      "C_d=0.15 #Drag coefficient\n",
      "\n",
      "C_l=0.75 #lift coefficient\n",
      "\n",
      "V_o=50 #Velocity in km/hr\n",
      "\n",
      "rho=1.2  \n",
      "\n",
      "#solution\n",
      "\n",
      "V_o=round((V_o*1000)/3600,5)\n",
      "\n",
      "A=l*w                                            #Calculating area\n",
      "\n",
      "F_L=round((C_l*A)*((rho*(V_o**2))/2),1)          #Lift force\n",
      "\n",
      "print \"F_L=\",F_L,\"N\"\n",
      "\n",
      "F_D=round((C_d)*(A)*((rho*(V_o**2))/2),2)        #Drag Force\n",
      "\n",
      "print \"F_D=\",F_D,\"N\"\n",
      "\n",
      "F=math.sqrt((F_D**2)+(F_L**2))\n",
      "\n",
      "print \"F=\",round(F,2),\"N\"\n",
      "\n",
      "theta=math.atan(round((F_L/F_D),0))/0.0175       #Installation of F with free stream\n",
      "\n",
      "print \"theta=\",int(theta),\"degrees,42 minutes\"\n",
      "\n",
      "P=F_D*V_o                                        #Power Expended\n",
      "\n",
      "print \"P=\",round(P,1),\"W\""
     ],
     "language": "python",
     "metadata": {},
     "outputs": [
      {
       "output_type": "stream",
       "stream": "stdout",
       "text": [
        "F_L= 208.3 N\n",
        "F_D= 41.67 N\n",
        "F= 212.43 N\n",
        "theta= 78 degrees,42 minutes\n",
        "P= 578.8 W\n"
       ]
      }
     ],
     "prompt_number": 41
    },
    {
     "cell_type": "heading",
     "level": 2,
     "metadata": {},
     "source": [
      "Example 9.18 Page No204"
     ]
    },
    {
     "cell_type": "code",
     "collapsed": false,
     "input": [
      "from sympy import *\n",
      "\n",
      "from __future__ import division\n",
      "\n",
      "import math\n",
      "\n",
      "#variable initialisation\n",
      "\n",
      "D=1.2                                                 #Diameter in m\n",
      "\n",
      "N=210                                                 #rotations in rpm\n",
      "\n",
      "V0=10                                                 #velocity of air stream\n",
      "\n",
      "L=9                                                   #length in m\n",
      "\n",
      "rho=1.2                                               #relative density\n",
      "\n",
      "#calculation\n",
      "\n",
      "Vc=round((math.pi*D*N)/60,2)                          #Tangential velocity due to rotation\n",
      "\n",
      "T=round(2*math.pi*(D/2)*Vc,2)                         #Circulation\n",
      "\n",
      "print \"T=\",T,\"m^2/s\"\n",
      "\n",
      "F_L=L*rho*V0*T                                        #Lift force\n",
      "\n",
      "print \"F_L=\",round(F_L/1000,3),\"kN\"\n",
      "\n",
      "C_L=2*math.pi*(Vc/V0)                                 #Lift coefficient\n",
      "\n",
      "print \"C_L=\",round(C_L,2)\n",
      "\n",
      "theta=round(math.degrees(asin(-(Vc/V0)*(1/2))),2)     #Stagnation point location\n",
      "\n",
      "theta1=360+theta\n",
      "\n",
      "print \"theta=\",theta1,\"degrees,(Stagnation point S2)\"\n",
      "\n",
      "theta2=180+(-theta)\n",
      "\n",
      "print \"theta=\",theta2,\"degrees,(Stagnation point S1)\"\n"
     ],
     "language": "python",
     "metadata": {},
     "outputs": [
      {
       "output_type": "stream",
       "stream": "stdout",
       "text": [
        "T= 49.73 m^2/s\n",
        "F_L= 5.371 kN\n",
        "C_L= 8.29\n",
        "theta= 318.74 degrees,(Stagnation point S2)\n",
        "theta= 221.26 degrees,(Stagnation point S1)\n"
       ]
      }
     ],
     "prompt_number": 26
    }
   ],
   "metadata": {}
  }
 ]
}