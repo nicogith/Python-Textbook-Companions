{
 "metadata": {
  "name": "chapter2"
 },
 "nbformat": 3,
 "nbformat_minor": 0,
 "worksheets": [
  {
   "cells": [
    {
     "cell_type": "heading",
     "level": 1,
     "metadata": {},
     "source": "Chapter 2:Fluid Statics"
    },
    {
     "cell_type": "heading",
     "level": 2,
     "metadata": {},
     "source": "Example 2.1 Page No22"
    },
    {
     "cell_type": "code",
     "collapsed": false,
     "input": "from __future__ import division\n\n#variable initialisation\n\nh1=10          #column water in cm\n\nh2=5           #column of oil in cm\n\nrd=0.75        #relative density of oil\n\nh3=2           #column of mercury in cm\n\n#solution\n\nga=9790          #density in N/m^3\n\np=ga*h1/100      #pressure of water column\n\nprint \"(i)For water Column,p=\",int(p),\"N/m^2\"\n\nga_o=rd*ga     \n\np_o=(ga_o*h2)/100 #pressure of oil column\n\nprint \"(ii)For Oil Column, p=\",round(p_o,2),\"N/m^2\"\n\nga_m=13.6*ga\n\np_m=ga_m*h3/100   #pressure of mercury column\n\nprint \"(iii)for Mercury Column,p=\",round(p_m,1),\"N/m^2\"",
     "language": "python",
     "metadata": {},
     "outputs": [
      {
       "output_type": "stream",
       "stream": "stdout",
       "text": "(i)For water Column,p= 979 N/m^2\n(ii)For Oil Column, p= 367.13 N/m^2\n(iii)for Mercury Column,p= 2662.9 N/m^2\n"
      }
     ],
     "prompt_number": 4
    },
    {
     "cell_type": "heading",
     "level": 2,
     "metadata": {},
     "source": "Example 2.37 Page No38"
    },
    {
     "cell_type": "code",
     "collapsed": false,
     "input": "#variable initialisation\n\nD=2.5       #diameter in m\n\nrd=0.25     #relative density \n\np=1000      #pressure in kPA\n\nf_a=120     #allowable stress in MPa\n\n#solution\n\n#Hoop stress in cylinder,sigma=(p*D)/(2*t)\n\n#sigma=f_a=allowable stress\n\nt=(p*D)/(2*f_a*1000)\n\nprint \"A Thickness of\",round(t*1000,2),\"mm can therefore be used\"\n",
     "language": "python",
     "metadata": {},
     "outputs": [
      {
       "output_type": "stream",
       "stream": "stdout",
       "text": "A Thickness of 10.42 mm can therefore be used\n"
      }
     ],
     "prompt_number": 3
    },
    {
     "cell_type": "heading",
     "level": 2,
     "metadata": {},
     "source": "Example 2.42 Page No40"
    },
    {
     "cell_type": "code",
     "collapsed": false,
     "input": "import math\n\n#variable initialisation\n\nW=0.2   #weight in N\n\nD=5     #diameter in mm\n\n#solution\n\n#(i)distance between marking of RD of 1.0 and 0.95\n\nh1=(W/(9790*((math.pi/4)*(D*D)/(1000*1000))))*((1/0.95)-1)\n\nprint \"h1=\",round(h1*1000,2),\"mm\"\n\n#(ii)distance between marking of RD of 1.0 and 1.05\n\nh2=(W/(9790*((math.pi/4)*(D*D)/(1000*1000))))*((1/1.05)-1)\n\nprint \"h2=\",round(h2*1000,2),\"mm\"\n        \nprint \"h2 will be below the marking corresponding to relative density of 1.0\"",
     "language": "python",
     "metadata": {},
     "outputs": [
      {
       "output_type": "stream",
       "stream": "stdout",
       "text": "h1= 54.76 mm\nh2= -49.54 mm\nh2 will be below the marking corresponding to relative density of 1.0\n"
      }
     ],
     "prompt_number": 5
    }
   ],
   "metadata": {}
  }
 ]
}