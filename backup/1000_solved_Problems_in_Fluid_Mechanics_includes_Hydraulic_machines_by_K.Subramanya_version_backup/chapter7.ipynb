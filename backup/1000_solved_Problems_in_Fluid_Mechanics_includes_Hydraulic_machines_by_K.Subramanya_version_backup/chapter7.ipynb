{
 "metadata": {
  "name": "chapter7"
 },
 "nbformat": 3,
 "nbformat_minor": 0,
 "worksheets": [
  {
   "cells": [
    {
     "cell_type": "heading",
     "level": 1,
     "metadata": {},
     "source": "Chapter 7:Laminar Flow"
    },
    {
     "cell_type": "heading",
     "level": 2,
     "metadata": {},
     "source": "Example 7.9 Page No164"
    },
    {
     "cell_type": "code",
     "collapsed": false,
     "input": "from __future__ import division\n\nimport math\n\n#variable initialisation\n\nR=2000         #maximum Reynolds number\n\nrho=950        #density in kg/m^3\n\nmu=8E-2        #Viscosity in Pa.s\n\nL=200          #length in metre\n\nD=50           #diameter in cm\n\n#solution\n  \nD=15/100       #diameter in m\n\n#Re=(V*D)/v\n\nV=R*(mu/rho)/D\n\n#by,Hagen-Poiseuille equation,\n\nh_f=(32*mu*V*L)/((rho*9.81)*(D**2))  #headloss\n\nprint \"Maximum difference in oil surface elevations h_f=\",round(h_f,3),\"m\"\n",
     "language": "python",
     "metadata": {},
     "outputs": [
      {
       "output_type": "stream",
       "stream": "stdout",
       "text": "Maximum difference in oil surface elevations h_f= 2.742 m\n"
      }
     ],
     "prompt_number": 1
    },
    {
     "cell_type": "heading",
     "level": 2,
     "metadata": {},
     "source": "Example 7.10 Page No164"
    },
    {
     "cell_type": "code",
     "collapsed": false,
     "input": "from __future__ import division\n\nimport math\n\n#variable initialisation\n\nD=0.075                #Diamter in m\n\nmu=0.1                 #visocity of oil in N.s/m^2\n\nP=5.4                  #power in kW\n\nrho=0.90*998           #relative density\n\nE=60                   #efficiency in %\n\nL=1000                 #length in m\n\n#solution\n\nP=P*(E/100)            #power spent in fluid friction\n\nQ=round(math.sqrt(((P*1000)*(math.pi)*(D**4))/(128*mu*L)),5) #quantity\n\nprint \"Quantity of oil=\",round(Q*1000*60,3),\"L/min\"\n\nV=round((Q)/((math.pi/4)*(D**2)),3)                          #Velocity in m/s\n\nRe=(V*D*rho)/mu                                              #Reynolds number\n\nprint \"Reynolds number=\",int (Re)",
     "language": "python",
     "metadata": {},
     "outputs": [
      {
       "output_type": "stream",
       "stream": "stdout",
       "text": "Quantity of oil= 301.2 L/min\nReynolds number= 765\n"
      }
     ],
     "prompt_number": 2
    },
    {
     "cell_type": "heading",
     "level": 2,
     "metadata": {},
     "source": "Example 7.19 Page No168"
    },
    {
     "cell_type": "code",
     "collapsed": false,
     "input": "from __future__ import division\n\nimport math\n\n#variable initialisation\n\nB=0.12             #thickness in mm\n\nL=50               #length in cm\n\nh_f=5.0            #headloss in m\n\nga=9790            #Specific weight\n\nmu=(998)*(0.01E-4) #viscosity \n\n#solution\n\nV=((h_f)*(ga)*((B/1000)**2))/(12*mu*(L/100))  #calculating V in m/s\n\nq=(1*V*(B/1000))*60*1000                      #Discharge per metre width\n\nprint round(q,3),\"L/min per metre width of crack\"\n",
     "language": "python",
     "metadata": {},
     "outputs": [
      {
       "output_type": "stream",
       "stream": "stdout",
       "text": "0.848 L/min per metre width of crack\n"
      }
     ],
     "prompt_number": 3
    }
   ],
   "metadata": {}
  }
 ]
}