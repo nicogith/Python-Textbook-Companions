{
 "metadata": {
  "name": "",
  "signature": "sha256:c7576411fc8859039bc51685b704f5ec0b51bc813a5e78fb95df2a4cac220a89"
 },
 "nbformat": 3,
 "nbformat_minor": 0,
 "worksheets": [
  {
   "cells": [
    {
     "cell_type": "heading",
     "level": 1,
     "metadata": {},
     "source": [
      "Chapter 12:Flow in Open Channels"
     ]
    },
    {
     "cell_type": "heading",
     "level": 2,
     "metadata": {},
     "source": [
      "Example 12.1 Page No277"
     ]
    },
    {
     "cell_type": "code",
     "collapsed": false,
     "input": [
      "from __future__ import division\n",
      "\n",
      "#variable initialisation\n",
      "\n",
      "B=2.5             #width in m\n",
      "\n",
      "y=1.2             #depth in m\n",
      "\n",
      "s_o=0.0036        #Bed slope\n",
      "\n",
      "ga=998\n",
      "\n",
      "g=9.81            #gravity\n",
      "\n",
      "#solution\n",
      "\n",
      "A=B*y             #area\n",
      "\n",
      "P=B+2*y           #Wetted Perimeter\n",
      "\n",
      "R=A/P             #Hydraulic radius\n",
      "\n",
      "tou=ga*g*R*s_o    #average shear stress\n",
      "\n",
      "print \"tou=\",round(tou,2),\"Pa\"\n"
     ],
     "language": "python",
     "metadata": {},
     "outputs": [
      {
       "output_type": "stream",
       "stream": "stdout",
       "text": [
        "tou= 21.58 Pa\n"
       ]
      }
     ],
     "prompt_number": 1
    },
    {
     "cell_type": "heading",
     "level": 2,
     "metadata": {},
     "source": [
      "Example 12.3 Page No278"
     ]
    },
    {
     "cell_type": "code",
     "collapsed": false,
     "input": [
      "from __future__ import division\n",
      "\n",
      "import math\n",
      "\n",
      "#variable initialization\n",
      "\n",
      "w=10                          #width in m\n",
      "\n",
      "h=1.5                         # horizantal slope\n",
      "\n",
      "v=1                           #vertical slope\n",
      "\n",
      "d=3                           #depth in m\n",
      "\n",
      "n=0.015                       #mannings n\n",
      "\n",
      "Q=100\n",
      "\n",
      "#solution\n",
      "\n",
      "A=(w+(h*d))*d                            #Area\n",
      "\n",
      "P=round((w+(2*d)*math.sqrt((h**2)+v)),3) #wetted perimeter\n",
      "\n",
      "R=A/P                                    #hydraulic radius\n",
      "\n",
      "#By mannings formula\n",
      "\n",
      "So=((Q*n)/(A*(math.pow(R,2/3))))**2\n",
      "\n",
      "print \"So=\",'%0.3E' % So\n",
      "\n"
     ],
     "language": "python",
     "metadata": {},
     "outputs": [
      {
       "output_type": "stream",
       "stream": "stdout",
       "text": [
        "So= 4.451E-04\n"
       ]
      }
     ],
     "prompt_number": 3
    },
    {
     "cell_type": "heading",
     "level": 2,
     "metadata": {},
     "source": [
      "Example 12.4 Page No278"
     ]
    },
    {
     "cell_type": "code",
     "collapsed": false,
     "input": [
      "from __future__ import division\n",
      "\n",
      "import math\n",
      "\n",
      "#variable initialisation\n",
      "\n",
      "w=5                           #width in m\n",
      "\n",
      "d=2.3                         #depthin m\n",
      "\n",
      "f=0.02                        #friction factor\n",
      "\n",
      "g=9.81                        #gravity\n",
      "\n",
      "#solution\n",
      "\n",
      "A=w*d                         #area\n",
      "\n",
      "P=w+(2*d)                     #Wetted perimeter\n",
      "\n",
      "R=round(A/P ,3)               #Hydraulic radius\n",
      "\n",
      "C=round(math.sqrt((8*g)/f),1) #value of chezy's C\n",
      "\n",
      "print \"C=\",C\n",
      "\n",
      "n=(math.pow(R,1/6))\n",
      "\n",
      "print \"n=\",round(n/C,4)"
     ],
     "language": "python",
     "metadata": {},
     "outputs": [
      {
       "output_type": "stream",
       "stream": "stdout",
       "text": [
        "C= 62.6\n",
        "n= 0.0165\n"
       ]
      }
     ],
     "prompt_number": 2
    },
    {
     "cell_type": "heading",
     "level": 2,
     "metadata": {},
     "source": [
      "Example 12.5 Page No278"
     ]
    },
    {
     "cell_type": "code",
     "collapsed": false,
     "input": [
      "from __future__ import division\n",
      "\n",
      "import math\n",
      "\n",
      "#variable iniatialization\n",
      "\n",
      "B=3                        #width in m\n",
      "\n",
      "h=1                        #horizantal slope\n",
      "\n",
      "m=1                        #vertical slope\n",
      "\n",
      "So=0.0036                  #bottom slope of channel\n",
      "\n",
      "y=1.25                     #depth in m\n",
      "\n",
      "Q=15                       #discharge in m^3/s\n",
      "\n",
      "#solution\n",
      "\n",
      "A=(B+(h*y))*y                            #area\n",
      "\n",
      "V=round(Q/A,3)                           #velocity\n",
      "\n",
      "P=round(B+(2*y*(math.sqrt((m**2)+1))),4) #wetted perimeter\n",
      "\n",
      "R=round(A/P,4)\n",
      "                                   \n",
      "C=V/(math.sqrt(R*So))                    #By chezy formula\n",
      "\n",
      "print \"C=\",round(C,1)\n"
     ],
     "language": "python",
     "metadata": {},
     "outputs": [
      {
       "output_type": "stream",
       "stream": "stdout",
       "text": [
        "C= 52.2\n"
       ]
      }
     ],
     "prompt_number": 1
    },
    {
     "cell_type": "heading",
     "level": 2,
     "metadata": {},
     "source": [
      "Example 12.6 Page No278"
     ]
    },
    {
     "cell_type": "code",
     "collapsed": false,
     "input": [
      "from __future__ import division\n",
      "\n",
      "import math\n",
      "\n",
      "#variable initialization\n",
      "\n",
      "Q=1.10                         #Discharge in m^3/s\n",
      "\n",
      "n=0.018                        #Manning's n\n",
      "\n",
      "S0=0.0004                      #slope \n",
      "\n",
      "#Calculation\n",
      "\n",
      "#A=math.pi/8*(D**2)\n",
      "\n",
      "#Perimeter=D*math.pi/2\n",
      "\n",
      "#By Manning's formula,discharge\n",
      "\n",
      "#Q=(1/n)*AR(2/3)S(1/2)\n",
      "\n",
      "D=(Q*n*8*(4**(2/3)))/(math.pi*(S0**(1/2)))\n",
      "\n",
      "print \"D=\",round(D**(3/8),3),\"m\"\n",
      "\n"
     ],
     "language": "python",
     "metadata": {},
     "outputs": [
      {
       "output_type": "stream",
       "stream": "stdout",
       "text": [
        "D= 2.0 m\n"
       ]
      }
     ],
     "prompt_number": 4
    },
    {
     "cell_type": "heading",
     "level": 2,
     "metadata": {},
     "source": [
      "Example 12.10 Page No279"
     ]
    },
    {
     "cell_type": "code",
     "collapsed": false,
     "input": [
      "from __future__ import division\n",
      "\n",
      "import math\n",
      "\n",
      "#variable initialization\n",
      "\n",
      "m=1.0                          #side slopes\n",
      "\n",
      "Q=50                           #discharge\n",
      "\n",
      "V=2.0                          #Velocity in m/s\n",
      "\n",
      "n=0.02                         #Manning's n\n",
      "\n",
      "#Calculation\n",
      "\n",
      "A=Q/V#Area\n",
      "\n",
      "y=(A/9)**(1/2)\n",
      "\n",
      "print \"y=\",round(y,3),\"m\"\n",
      "\n",
      "B=8*y\n",
      "\n",
      "print \"B=\",round(B,2),\"m\"\n",
      "\n",
      "P=B+(2*y*math.sqrt(m**2+1))    #Wetted Perimeter\n",
      "\n",
      "R=A/P\n",
      "\n",
      "S0=V*n/((R**(2/3)))            #By Manning's formula,\n",
      "\n",
      "print \"S0=\",round(S0**2,6),\n"
     ],
     "language": "python",
     "metadata": {},
     "outputs": [
      {
       "output_type": "stream",
       "stream": "stdout",
       "text": [
        "y= 1.667 m\n",
        "B= 13.33 m\n",
        "S0= 0.001036\n"
       ]
      }
     ],
     "prompt_number": 6
    },
    {
     "cell_type": "heading",
     "level": 2,
     "metadata": {},
     "source": [
      "Example 12.17 Page No282"
     ]
    },
    {
     "cell_type": "code",
     "collapsed": false,
     "input": [
      "from __future__ import division\n",
      "\n",
      "import math\n",
      "\n",
      "#variable initialization\n",
      "\n",
      "m=2.0                            #side slopes\n",
      "\n",
      "Q=15.0                           #discharge\n",
      "\n",
      "n=0.014                          #Manning's n\n",
      "\n",
      "S0=1/5000\n",
      "\n",
      "#Calculation\n",
      "\n",
      "#R=ye/2\n",
      "\n",
      "#Dicarge by Manning's formula,\n",
      "\n",
      "#Q=(1/n)*AR(2/3)S(1/2)\n",
      "\n",
      "Be=0.4721\n",
      "\n",
      "A=Be+m\n",
      "\n",
      "ye=(Q/((1/n)*(A)*(0.5**(2/3))*(S0**(0.5))))**(3/8)\n",
      "\n",
      "print \"Ye=\",round(ye,3),\"m\"\n",
      "\n",
      "Be=ye*Be                         #Bottom width\n",
      "\n",
      "print \"Be=\",round(Be,3),\"m\"\n",
      "\n"
     ],
     "language": "python",
     "metadata": {},
     "outputs": [
      {
       "output_type": "stream",
       "stream": "stdout",
       "text": [
        "Ye= 2.329 m\n",
        "Be= 1.1 m\n"
       ]
      }
     ],
     "prompt_number": 7
    },
    {
     "cell_type": "heading",
     "level": 2,
     "metadata": {},
     "source": [
      "Example 12.18 Page No282"
     ]
    },
    {
     "cell_type": "code",
     "collapsed": false,
     "input": [
      "from __future__ import division\n",
      "\n",
      "import math\n",
      "\n",
      "#variable initialization\n",
      "\n",
      "Q=10                                      #Discharge ihn m^3/s\n",
      "\n",
      "V=1.25                                    #Velocity in m/s\n",
      "\n",
      "m=1.0                                     #Manning's n\n",
      "\n",
      "#Calculation\n",
      "\n",
      "A=Q/V                                     #Calculating area\n",
      "\n",
      "#(a)For the most efficient rectangular channel,\n",
      "\n",
      "Yem=(A/2)**(1/2)\n",
      "\n",
      "print \"(a)Yem=\",round(Yem,2),\"m\"\n",
      "\n",
      "Bem=A/Yem                                 #Bottom width\n",
      "\n",
      "print \"Bem=\",round(Bem,2),\"m\"\n",
      "\n",
      "Pem=Bem+(2*Yem)#Perimeter\n",
      "\n",
      "print \"Pem=\",round(Pem,1),\"m\"\n",
      "\n",
      "#(b)For the most efficient triangular section,\n",
      "\n",
      "Yem=math.sqrt(A)\n",
      "\n",
      "print \"(b)Yem=\",round(Yem,3),\"m\"\n",
      "\n",
      "Pem=2*math.sqrt(2)*Yem                    #Perimeter\n",
      "\n",
      "print \"Pem=\",round(Pem,1),\"m\"\n",
      "\n",
      "#(c)For the most efficient trpezoidal section,\n",
      "\n",
      "Yem=(A/math.sqrt(3))**(1/2)\n",
      "\n",
      "print \"(c)Yem=\",round(Yem,3),\"m\"\n",
      "\n",
      "Bem=2/math.sqrt(3)*Yem                    #Bottom width\n",
      "\n",
      "print \"Bem=\",round(Bem,3),\"m\"\n",
      "\n",
      "Pem=2*math.sqrt(3)*Yem                    #Perimeter\n",
      "\n",
      "print \"Pem=\",round(Pem,3),\"m\"\n",
      "\n",
      "#(d)The most efficient circular section is a semicircle.\n",
      "\n",
      "Yem=(A/(math.pi/2))**(1/2)\n",
      "\n",
      "print \"(d)Yem=\",round(Yem,3),\"m\"\n",
      "\n",
      "Pem=math.pi*Yem                           #Perimeter\n",
      "\n",
      "print \"Pem=\",round(Pem,4),\"m\"\n",
      "\n",
      "print \"The most efficient circular section has the least perimeter and maximum perimeter is 8.00m\"\n",
      "\n"
     ],
     "language": "python",
     "metadata": {},
     "outputs": [
      {
       "output_type": "stream",
       "stream": "stdout",
       "text": [
        "(a)Yem= 2.0 m\n",
        "Bem= 4.0 m\n",
        "Pem= 8.0 m\n",
        "(b)Yem= 2.828 m\n",
        "Pem= 8.0 m\n",
        "(c)Yem= 2.149 m\n",
        "Bem= 2.482 m\n",
        "Pem= 7.445 m\n",
        "(d)Yem= 2.257 m\n",
        "Pem= 7.0898 m\n",
        "The most efficient circular section has the least perimeter and maximum perimeter is 8.00m\n"
       ]
      }
     ],
     "prompt_number": 8
    },
    {
     "cell_type": "heading",
     "level": 2,
     "metadata": {},
     "source": [
      "Example 12.25 Page No285"
     ]
    },
    {
     "cell_type": "code",
     "collapsed": false,
     "input": [
      "from __future__ import division\n",
      "\n",
      "import math\n",
      "\n",
      "#variable initialization\n",
      "\n",
      "B=2                             #width in m\n",
      "\n",
      "Q=6                             #Discharge in m\n",
      "\n",
      "g=9.81                          #gravity\n",
      "\n",
      "#Calculation\n",
      "\n",
      "#At critical depth,Q**2/g=A**3/Tc\n",
      "\n",
      "q=Q/B                          #Discharge intensity\n",
      "\n",
      "yc=(q**2/g)**(1/3)\n",
      "\n",
      "print \"Yc=\",round(yc,3),\"m\"\n",
      "\n",
      "Vc=Q/(B*yc)\n",
      "\n",
      "Ec=yc+((Vc**2)/(2*g))         #Specific energy at critical depth\n",
      "\n",
      "print \"Ec=\",round(Ec,3),\"m\"\n"
     ],
     "language": "python",
     "metadata": {},
     "outputs": [
      {
       "output_type": "stream",
       "stream": "stdout",
       "text": [
        "Yc= 0.972 m\n",
        "Ec= 1.458 m\n"
       ]
      }
     ],
     "prompt_number": 9
    },
    {
     "cell_type": "heading",
     "level": 2,
     "metadata": {},
     "source": [
      "Example 12.28 Page No286"
     ]
    },
    {
     "cell_type": "code",
     "collapsed": false,
     "input": [
      "from __future__ import division\n",
      "\n",
      "import math\n",
      "\n",
      "#variable initialization\n",
      "\n",
      "B=3                             #width in m\n",
      "\n",
      "Q=6                             #Discharge in m\n",
      "\n",
      "g=9.81                          #gravity\n",
      "\n",
      "m=1.5                           #side slop in m\n",
      "\n",
      "#Calculation\n",
      "\n",
      "#(a)Rectangular channel\n",
      "\n",
      "q=Q/B                          #Discharge intensity\n",
      "\n",
      "yc1=(q**2/g)**(1/3)\n",
      "\n",
      "print \"Yc=\",round(yc1,3),\"m\"\n",
      "\n",
      "#(b)In a triangular channel of side slope m horizpntal:1 vertical\n",
      "\n",
      "Yc=((2*Q**2)/(g*m**2))**(1/5)\n",
      "\n",
      "print \"Yc=\",round(Yc,3),\"m\"\n",
      "\n",
      "#(c)Trapezoidal channel of side slope m horizontal:1 vertical\n",
      "\n",
      "yc=((q**2)/(g))*2\n",
      "\n",
      "#By trial and error method,\n",
      "\n",
      "a=0.237\n",
      "\n",
      "print \"By trial and error method,Yc=\",round(Yc+a,3),\"m\"\n",
      "\n"
     ],
     "language": "python",
     "metadata": {},
     "outputs": [
      {
       "output_type": "stream",
       "stream": "stdout",
       "text": [
        "Yc= 0.742 m\n",
        "Yc= 1.267 m\n",
        "By trial and error method,Yc= 1.504 m\n"
       ]
      }
     ],
     "prompt_number": 10
    },
    {
     "cell_type": "heading",
     "level": 2,
     "metadata": {},
     "source": [
      "Example 12.29 Page No287"
     ]
    },
    {
     "cell_type": "code",
     "collapsed": false,
     "input": [
      "from __future__ import division\n",
      "\n",
      "import math\n",
      "\n",
      "#variable initialization\n",
      "\n",
      "g=9.81                               #gravity\n",
      "\n",
      "Yc=1.2                               #critical depth\n",
      "\n",
      "B=3                                  #Width in m\n",
      "\n",
      "m=2                                  #side slop in m\n",
      "\n",
      "#Calculation\n",
      "\n",
      "#(a)Rectangular channel\n",
      "\n",
      "q=(g*Yc**3)**(1/2)\n",
      "\n",
      "Q=B*q\n",
      "\n",
      "print \"Q=\",round(Q,3),\"m^3/s\"\n",
      "\n",
      "#(B)Triangular channel\n",
      "\n",
      "Q=((g*(m**2)*Yc**5)/2)**(1/2)\n",
      "\n",
      "print \"Q=\",round(Q,3),\"m^3/s\"\n",
      "\n",
      "#(c)Trapezoidal section\n",
      "\n",
      "m=1.5\n",
      "\n",
      "B=2.5                               #Bottom width\n",
      "\n",
      "Q=(((B+(m*Yc))**3)*(Yc**3))/(B+(2*m*Yc))\n",
      "\n",
      "Q=Q*g\n",
      "\n",
      "print \"Q=\",round(Q**(1/2),3),\"m^3/s\"\n",
      "\n"
     ],
     "language": "python",
     "metadata": {},
     "outputs": [
      {
       "output_type": "stream",
       "stream": "stdout",
       "text": [
        "Q= 12.352 m^3/s\n",
        "Q= 6.987 m^3/s\n",
        "Q= 14.864 m^3/s\n"
       ]
      }
     ],
     "prompt_number": 11
    },
    {
     "cell_type": "heading",
     "level": 2,
     "metadata": {},
     "source": [
      "Example 12.30 Page No287"
     ]
    },
    {
     "cell_type": "code",
     "collapsed": false,
     "input": [
      "from __future__ import division\n",
      "\n",
      "import math\n",
      "\n",
      "#variable initialization\n",
      "\n",
      "Yc=0.90                            #Critical depth\n",
      "\n",
      "m=2                                #side slope in m\n",
      "\n",
      "B=3.5                              #Bottom width in m\n",
      "\n",
      "#Calculation\n",
      "\n",
      "#At Critical depth,Q**2/g=A**3/Tc\n",
      "\n",
      "Ec=Yc+((B+m*Yc)*Yc)/(2*(B+2*m*Yc)) #Minimum speific energy\n",
      "\n",
      "print \"Ec=\",round(Ec,3),\"m\"\n"
     ],
     "language": "python",
     "metadata": {},
     "outputs": [
      {
       "output_type": "stream",
       "stream": "stdout",
       "text": [
        "Ec= 1.236 m\n"
       ]
      }
     ],
     "prompt_number": 12
    },
    {
     "cell_type": "heading",
     "level": 2,
     "metadata": {},
     "source": [
      "Example 12.31 Page No278"
     ]
    },
    {
     "cell_type": "code",
     "collapsed": false,
     "input": [
      "from __future__ import division\n",
      "\n",
      "import math\n",
      "\n",
      "#variable initialization\n",
      "\n",
      "n=0.014                                  #Manning's  n\n",
      "\n",
      "w=Tc=3                                   #Width in m\n",
      "\n",
      "Yc=1.2                                   #Critical depth\n",
      "\n",
      "g=9.81                                   #Gravity constant\n",
      "\n",
      "#Calculation\n",
      "\n",
      "Ac=w*Yc                                  #Area\n",
      "\n",
      "Q=(g*(Ac**3/Tc))**(1/2)                  #Discharge\n",
      "\n",
      "#If this discharge is to flow at a normal depth of 1.2m,By Manning's formula\n",
      "\n",
      "P=w+2*Yc                                 #Perimeter\n",
      "\n",
      "R=Ac/P\n",
      "\n",
      "S0=((Q*n)/(Ac*R**(2/3)))**2\n",
      "\n",
      "print \"S0=\"'%4.2E' % S0\n"
     ],
     "language": "python",
     "metadata": {},
     "outputs": [
      {
       "output_type": "stream",
       "stream": "stdout",
       "text": [
        "S0=3.96E-03\n"
       ]
      }
     ],
     "prompt_number": 15
    },
    {
     "cell_type": "heading",
     "level": 2,
     "metadata": {},
     "source": [
      "Example 12.35 Page No289"
     ]
    },
    {
     "cell_type": "code",
     "collapsed": false,
     "input": [
      "from __future__ import division\n",
      "\n",
      "import math\n",
      "\n",
      "#variable initialization\n",
      "\n",
      "W=3.5                                  #Width in m\n",
      "\n",
      "d=2                                    #depth in m\n",
      "\n",
      "S0=0.0036                              #slope\n",
      "\n",
      "g=9.81                                 #gravity constant\n",
      "\n",
      "n=0.015                                #Manning's n\n",
      "\n",
      "#Calculation\n",
      "\n",
      "A1=W*d                                 #Area\n",
      "\n",
      "P1=2*d+W                               #Perimeter\n",
      "\n",
      "R1=A1/P1\n",
      "\n",
      "Q=(1/n)*A1*R1**(2/3)*S0**(1/2)         #Discharge\n",
      "\n",
      "V1=Q/A1\n",
      "\n",
      "F1=V1/(math.sqrt(2*g))                 #Hence flow is subcritical.\n",
      "\n",
      "#Case 1:LAt the maximum height of the hump del_Zm\n",
      "\n",
      "q=Q/W\n",
      "\n",
      "Yc=(q**2/g)**(1/3)\n",
      "\n",
      "#By the energy equation,assuming ni loss between sections 1 and 2,\n",
      "\n",
      "E1=d+((V1**2)/(2*g))\n",
      "\n",
      "del_Zm=E1-Yc-(Yc/2)\n",
      "\n",
      "print \"del_Zm=\",round(del_Zm,3),\"m\"\n",
      "\n",
      "#Case 2:The discharge remains at 26.74.\n",
      "\n",
      "d=2.4\n",
      "\n",
      "V2=Q/(W*d)\n",
      "\n",
      "Vc=2.718\n",
      "\n",
      "del_Zm=d+(V2**2/(2*g))-Vc\n",
      "\n",
      "print \"del_Zm=\",round(del_Zm,3),\"m\"\n"
     ],
     "language": "python",
     "metadata": {},
     "outputs": [
      {
       "output_type": "stream",
       "stream": "stdout",
       "text": [
        "del_Zm= 0.026 m\n",
        "del_Zm= 0.199 m\n"
       ]
      }
     ],
     "prompt_number": 16
    },
    {
     "cell_type": "heading",
     "level": 2,
     "metadata": {},
     "source": [
      "Example 12.37 Page No290"
     ]
    },
    {
     "cell_type": "code",
     "collapsed": false,
     "input": [
      "from __future__ import division\n",
      "\n",
      "import math\n",
      "\n",
      "#variable initialization\n",
      "\n",
      "Q=10.0                          #Discharge in m^3/s\n",
      "\n",
      "V1=1.25                         #Velocity in m/s\n",
      "\n",
      "w=5.2                           #width in m\n",
      "\n",
      "B2=3.0                          #bed width in m\n",
      "\n",
      "g=9.81                          #Gravity constant\n",
      "\n",
      "#Calculation\n",
      "\n",
      "A1=Q/V1\n",
      "\n",
      "Y1=A1/w\n",
      "\n",
      "q1=Y1*V1\n",
      "\n",
      "E1=Y1+(V1**2/(2*g))             #Specific energy\n",
      "\n",
      "F1=V1/(math.sqrt(g*Y1))         #Froude number\n",
      "\n",
      "q2=Q/B2                         #Downstream section\n",
      "\n",
      "Yc2=(q2**2/g)**(1/3)\n",
      "\n",
      "del_Z=E1-(1.5*Yc2)\n",
      "\n",
      "print \"Required height of the hump is,del_Z=\",round(del_Z,4),\"m\"\n"
     ],
     "language": "python",
     "metadata": {},
     "outputs": [
      {
       "output_type": "stream",
       "stream": "stdout",
       "text": [
        "Required height of the hump is,del_Z= 0.0545 m\n"
       ]
      }
     ],
     "prompt_number": 17
    },
    {
     "cell_type": "heading",
     "level": 2,
     "metadata": {},
     "source": [
      "Example 12.40 Page No292"
     ]
    },
    {
     "cell_type": "code",
     "collapsed": false,
     "input": [
      "from __future__ import division\n",
      "\n",
      "import math\n",
      "\n",
      "#variable initialization\n",
      "\n",
      "y1=0.20                        #initial depth\n",
      "\n",
      "y2=1.20                        #sequent depth\n",
      "\n",
      "g=9.81                         #Gravity\n",
      "\n",
      "#Calculation\n",
      "\n",
      "#y2/y1=(1/2)(-1)+math.sqrt(1+8F1**2)\n",
      "\n",
      "F1=(y2/y1)*(2)+1+8\n",
      "\n",
      "F1=(F1)**(1/2)\n",
      "\n",
      "V1=F1*math.sqrt(0.2*g)\n",
      "\n",
      "q=V1*y1                        #Discharge per unit width\n",
      "\n",
      "print \"q=\",round(q,3),\"m^3/s/m\"\n",
      "\n",
      "EL=((y2-y1)**3)/(4*y1*y2)      #Energy loss \n",
      "\n",
      "print \"EL=\",round(EL,3),\"m\"\n",
      "\n"
     ],
     "language": "python",
     "metadata": {},
     "outputs": [
      {
       "output_type": "stream",
       "stream": "stdout",
       "text": [
        "q= 1.284 m^3/s/m\n",
        "EL= 1.042 m\n"
       ]
      }
     ],
     "prompt_number": 18
    },
    {
     "cell_type": "heading",
     "level": 2,
     "metadata": {},
     "source": [
      "Example 12.41 Page No292"
     ]
    },
    {
     "cell_type": "code",
     "collapsed": false,
     "input": [
      "from __future__ import division\n",
      "\n",
      "import math\n",
      "\n",
      "#variable initialization\n",
      "\n",
      "F1=10.0                         #Froude number before jump\n",
      "\n",
      "EL=3.20                         #energy loss\n",
      "\n",
      "g=9.81                          #Gravity\n",
      "\n",
      "#Calculation\n",
      "\n",
      "#Let's take Y2/Y1 as Y\n",
      "\n",
      "Y=(1/2)*(-1+math.sqrt(1+8*F1**2))\n",
      "\n",
      "#Sequent depth ratio\n",
      "\n",
      "#EL/y1=(Y-1)**3/(4*Y)\n",
      "\n",
      "y1=round(EL/((Y-1)**3/(4*Y)),4)\n",
      "\n",
      "print \"(i)Y1=\",y1,\"m\"\n",
      "\n",
      "y2=Y*y1                           #Depthh after jump\n",
      "\n",
      "print \"Y2=\",round(y2,3),\"m\"\n",
      "\n",
      "V1=F1*(math.sqrt(g*y1))\n",
      "\n",
      "q=V1*y1                           #Discharge intensity\n",
      "\n",
      "print \"(ii)q=\",round(q,4),\"m^3/s/m\"\n",
      "\n",
      "F2=q/(y2*math.sqrt(g*y2))         #Froude number after the jump\n",
      "\n",
      "print \"(iii)F2=\",round(F2,4)"
     ],
     "language": "python",
     "metadata": {},
     "outputs": [
      {
       "output_type": "stream",
       "stream": "stdout",
       "text": [
        "(i)Y1= 0.0863 m\n",
        "Y2= 1.178 m\n",
        "(ii)q= 0.7941 m^3/s/m\n",
        "(iii)F2= 0.1983\n"
       ]
      }
     ],
     "prompt_number": 19
    },
    {
     "cell_type": "heading",
     "level": 2,
     "metadata": {},
     "source": [
      "Example 12.42 Page No292"
     ]
    },
    {
     "cell_type": "code",
     "collapsed": false,
     "input": [
      "from __future__ import division\n",
      "\n",
      "import math\n",
      "\n",
      "#variable initialization\n",
      "\n",
      "V2=0.80                        #Velocity\n",
      "\n",
      "y2=1.75                        #depth after jump\n",
      "\n",
      "ga=9790                        #density\n",
      "\n",
      "g=9.81                         #gravity\n",
      "\n",
      "#Calculation\n",
      "\n",
      "F2=V2/(math.sqrt(g*y2))        #Froude number after the jump\n",
      "\n",
      "#Let's take Y2/Y1 as Y\n",
      "\n",
      "Y=(1/2)*(-1+math.sqrt(1+8*F2**2))\n",
      "\n",
      "y1=Y*y2\n",
      "\n",
      "print \"Y1=\",round(y1,3),\"m\"\n",
      "\n",
      "#Sequent depth ratio\n",
      "\n",
      "EL=((y2-y1)**3)/(4*y1*y2)      #Energy loss\n",
      "\n",
      "print \"EL=\",round(EL,3),\"m\"\n",
      "\n",
      "Q=V2*y2\n",
      "\n",
      "P=ga*Q*EL                      #Power dissipated\n",
      "\n",
      "print \"P=\",round(P/1000,2),\"kW/metre width\"\n"
     ],
     "language": "python",
     "metadata": {},
     "outputs": [
      {
       "output_type": "stream",
       "stream": "stdout",
       "text": [
        "Y1= 0.122 m\n",
        "EL= 5.054 m\n",
        "P= 69.27 kW/metre width\n"
       ]
      }
     ],
     "prompt_number": 20
    },
    {
     "cell_type": "heading",
     "level": 2,
     "metadata": {},
     "source": [
      "Example 12.43 Page No292"
     ]
    },
    {
     "cell_type": "code",
     "collapsed": false,
     "input": [
      "from __future__ import division\n",
      "\n",
      "import math\n",
      "\n",
      "#variable initialization\n",
      "\n",
      "F2=0.12                              #Froude number after the jump\n",
      "\n",
      "EL=9.0                               #Energy loss\n",
      "\n",
      "g=9.81                               #Gravity\n",
      "\n",
      "#Calculation\n",
      "\n",
      "#Let's take Y2/Y1 as Y\n",
      "\n",
      "Y=round((1/2)*(-1+math.sqrt(1+8*F2**2)),4)    #ratio of depth\n",
      "\n",
      "y2=EL/(((1-Y)**3)/(4*Y))\n",
      "\n",
      "V2=F2*(math.sqrt(g*y2))\n",
      "\n",
      "q=V2*y2                              #Discharge intensity\n",
      "\n",
      "print \"q=\",round(q,4),\"m^3/s/m\"\n"
     ],
     "language": "python",
     "metadata": {},
     "outputs": [
      {
       "output_type": "stream",
       "stream": "stdout",
       "text": [
        "q= 0.4322 m^3/s/m\n"
       ]
      }
     ],
     "prompt_number": 22
    },
    {
     "cell_type": "heading",
     "level": 2,
     "metadata": {},
     "source": [
      "Example 12.44 Page No293"
     ]
    },
    {
     "cell_type": "code",
     "collapsed": false,
     "input": [
      "from __future__ import division\n",
      "\n",
      "import math\n",
      "\n",
      "#variable initialization\n",
      "\n",
      "F1=4.5                                       #By assumption of Froude number\n",
      "\n",
      "g=9.81                                       #Gravity\n",
      "\n",
      "q=2.0                                        #discharge per unit width\n",
      "\n",
      "#Calculation\n",
      "\n",
      "y1=(q**2/(g*F1**2))**(1/3)\n",
      "\n",
      "Y=round((1/2)*(-1+math.sqrt(1+8*F1**2)),2)    #ratio of depth\n",
      "\n",
      "EL=round(y1*((Y-1)**3/(4*Y)),3)\n",
      "\n",
      "print \"EL=\",EL,\"m.But actual EL=1.75.Hence assumed F1 is not correct\"\n",
      "\n",
      "#F1 should be higher than 4.5\n",
      "\n",
      "F1=5.10\n",
      "\n",
      "y1=round((q**2/(g*F1**2))**(1/3),3)\n",
      "\n",
      "Y=round((1/2)*(-1+math.sqrt(1+8*F1**2)),2)    #ratio of depth\n",
      "\n",
      "EL=round(y1*((Y-1)**3/(4*Y)),3)\n",
      "\n",
      "print\"Hence the assumption F1=5.10 is all right.\"\n",
      "\n",
      "print \"y1=\",y1,\"m\"\n",
      "\n",
      "y2=y1*Y\n",
      "\n",
      "print \"y2=\",round(y2,3),\"m\"\n"
     ],
     "language": "python",
     "metadata": {},
     "outputs": [
      {
       "output_type": "stream",
       "stream": "stdout",
       "text": [
        "EL= 1.344 m.But actual EL=1.75.Hence assumed F1 is not correct\n",
        "Hence the assumption F1=5.10 is all right.\n",
        "y1= 0.25 m\n",
        "y2= 1.683 m\n"
       ]
      }
     ],
     "prompt_number": 23
    },
    {
     "cell_type": "heading",
     "level": 2,
     "metadata": {},
     "source": [
      "Example 12.45 Page No293"
     ]
    },
    {
     "cell_type": "code",
     "collapsed": false,
     "input": [
      "from __future__ import division\n",
      "\n",
      "import math\n",
      "\n",
      "#variable initialization\n",
      "\n",
      "y1=0.5                      #depth of flow before jump\n",
      "\n",
      "y2=3.0                      #depth of flow after jump\n",
      "\n",
      "g=9.81                      #gravity in m/s^2\n",
      "\n",
      "ga=9790                     #specific weight\n",
      "\n",
      "#solution\n",
      "\n",
      "#sequent depths related to critical depth as,\n",
      "\n",
      "yc=((y1)*(y2)*(y1+y2))/2            #Critical depth\n",
      "\n",
      "print \"(i)yc=\",round(math.pow(yc,1/3),3),\"m\"\n",
      "\n",
      "#(q**2)/g=yc**3\n",
      "\n",
      "q=round(math.sqrt(yc*g),3)\n",
      "\n",
      "E_L=round(((y2-y1)**3)/(4*y1*y2),3) #Head loss\n",
      "\n",
      "P=ga*q*E_L                          #Power lost per metre width\n",
      "\n",
      "print \"(ii)P=\",round(P/1000,1),\"kW\"\n",
      "\n"
     ],
     "language": "python",
     "metadata": {},
     "outputs": [
      {
       "output_type": "stream",
       "stream": "stdout",
       "text": [
        "(i)yc= 1.379 m\n",
        "(ii)P= 129.4 kW\n"
       ]
      }
     ],
     "prompt_number": 24
    },
    {
     "cell_type": "heading",
     "level": 2,
     "metadata": {},
     "source": [
      "Example 12.47 Page No294"
     ]
    },
    {
     "cell_type": "code",
     "collapsed": false,
     "input": [
      "from __future__ import division\n",
      "\n",
      "import math\n",
      "\n",
      "#variable initialization\n",
      "\n",
      "F1=10                               #Froude number before jump\n",
      "\n",
      "y1=0.4                              #depth of flow in m\n",
      "\n",
      "g=9.81                              #gravity\n",
      "\n",
      "#Calculation\n",
      "\n",
      "y2=(1/2)*(-1+math.sqrt(1+8*F1**2))*y1\n",
      "\n",
      "EL=(y2-y1)**3/(4*y1*y2)            #Energy loss\n",
      "\n",
      "E1=y1*(1+F1**2/2)                  #Initial specific energy\n",
      "\n",
      "E2=E1-EL                           #Specific energy at the heel\n",
      "\n",
      "print \"E2=\",round(E2,2),\"m\"\n"
     ],
     "language": "python",
     "metadata": {},
     "outputs": [
      {
       "output_type": "stream",
       "stream": "stdout",
       "text": [
        "E2= 5.57 m\n"
       ]
      }
     ],
     "prompt_number": 25
    }
   ],
   "metadata": {}
  }
 ]
}