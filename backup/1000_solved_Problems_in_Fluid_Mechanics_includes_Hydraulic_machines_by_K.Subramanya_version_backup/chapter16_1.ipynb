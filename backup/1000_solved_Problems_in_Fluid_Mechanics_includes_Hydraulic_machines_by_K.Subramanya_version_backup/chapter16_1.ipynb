{
 "metadata": {
  "name": "chapter16"
 },
 "nbformat": 3,
 "nbformat_minor": 0,
 "worksheets": [
  {
   "cells": [
    {
     "cell_type": "heading",
     "level": 1,
     "metadata": {},
     "source": "Chapter 16:Fluid Flow Machines"
    },
    {
     "cell_type": "heading",
     "level": 2,
     "metadata": {},
     "source": "Example 16.17 Page No411"
    },
    {
     "cell_type": "code",
     "collapsed": false,
     "input": "from __future__ import division\n\nimport math\n\n#variable initialization\n\nH=500                   #Head in m\n\nCv=0.98                 #specific heat\n\ng=9.81                  #gravity in m/s^2\n\nfi=0.45                 #assumed fi value\n\neta_o=0.85              #assumed eta value\n\nd=18                    #diameter in cm\n\ngamma=9.79              #specific weight\n\nN=420 \n\n#solution\n\nV1=Cv*(math.sqrt(2*g*H)) #Velocity\n\nd=d/100                  #diameter in m\n\nQ=(math.pi/4)*(d**2)*V1  #Discharge\n\nP=eta_o*gamma*Q*H        #Power developed\n\nNs=(N*math.sqrt(P))/(math.pow(H,5/4)) #Specific speed\n\nprint \"Ns=\",int(Ns)\n",
     "language": "python",
     "metadata": {},
     "outputs": [
      {
       "output_type": "stream",
       "stream": "stdout",
       "text": "Ns= 18\n"
      }
     ],
     "prompt_number": 1
    },
    {
     "cell_type": "heading",
     "level": 2,
     "metadata": {},
     "source": "Example 16.19 Page No412"
    },
    {
     "cell_type": "code",
     "collapsed": false,
     "input": "from __future__ import division\n\nimport math\n\n#variable initialisation\n\nN1=100         #speed of turbine in rpm\n\nH1=30          #head on turbine in m\n\nH2=18          #head reduced in m\n\nP1=8000        #p in kW\n\n#solution\n\n#For geometrically similar turbines,the unit speed,Nu=N/math.sqrt(H)\n\nN2=round(N1*(math.sqrt(H2/H1)),2)  #speed \n\nprint \"N2=\",N2,\"rpm\"\n\nP2=P1*(math.pow((H2/H1),3/2))      #power developed\n\nprint \"P2=\",int(P2),\"kW\"",
     "language": "python",
     "metadata": {},
     "outputs": [
      {
       "output_type": "stream",
       "stream": "stdout",
       "text": "N2= 77.46 rpm\nP2= 3718 kW\n"
      }
     ],
     "prompt_number": 2
    },
    {
     "cell_type": "heading",
     "level": 2,
     "metadata": {},
     "source": "Example 16.20 Page No412"
    },
    {
     "cell_type": "code",
     "collapsed": false,
     "input": "from __future__ import division\n\nimport math\n\n#variable initialisation\n\nP1=6750                #p in kW\n\nN1=300                 #speed in rpm\n\nH1=45                  #net head in m\n\nH2=60                  #net head under homologus conditions in m\n\nete_o=85               #efficiency in percentage\n\nga=9.81*998            #density in kg/m^3\n\n#solution\n\n#using unit relationships,\n\neta_o=85/100\n\nQ=round(P1/((eta_o)*(ga/1000)*H1),2) \n\nN2=round(N1*(math.sqrt(H2/H1)),1)    #revolutions per minute\n\nprint \"N2=\",N2,\"rpm\"\n\nQ1=18.03                             #Q value\n\nQ2=Q1*(math.sqrt(H2/H1))             #Discharge\n\nprint \"Q2=\",round(Q2,2),\"m^3/s\"\n\nP2=P1*(math.pow((H2/H1),3/2))        #brake power\n\nprint \"P2=\",int(round(P2,5)),\"kW\"",
     "language": "python",
     "metadata": {},
     "outputs": [
      {
       "output_type": "stream",
       "stream": "stdout",
       "text": "N2= 346.4 rpm\nQ2= 20.82 m^3/s\nP2= 10392 kW\n"
      }
     ],
     "prompt_number": 3
    }
   ],
   "metadata": {}
  }
 ]
}