{
 "metadata": {
  "name": "chapter14"
 },
 "nbformat": 3,
 "nbformat_minor": 0,
 "worksheets": [
  {
   "cells": [
    {
     "cell_type": "heading",
     "level": 1,
     "metadata": {},
     "source": "Chapter 14:Unsteady Flow"
    },
    {
     "cell_type": "heading",
     "level": 2,
     "metadata": {},
     "source": "Example 14.11 Page No358"
    },
    {
     "cell_type": "code",
     "collapsed": false,
     "input": "from __future__ import division\n\nimport math\n\n#variable initialization\n\n#bulk modulus of elasticity for water in MPa\n\nk_w=2.22E+3 \n\nk_c=1.50E+3\n\nk_g=9.58E+2\n\nrho=998       #density in kg/m^3\n\nRD_c=0.8      #relative density of crude oil\n\nRD_g=0.68     #relative density of gasolene\n\n#solution\n\nC=math.sqrt((k_w*10**6)/rho)         #for water\n\nprint \"C=\",round(C,1),\"m/s\"\n\nC=math.sqrt((k_c*10**6)/(RD_c*rho))  #for crude oil\n\nprint \"C=\",round(C,1),\"m/s\"\n\nC=math.sqrt((k_g*10**6)/(RD_g*rho))  #for gasolene\n\nprint \"C=\",int(C),\"m/s\"",
     "language": "python",
     "metadata": {},
     "outputs": [
      {
       "output_type": "stream",
       "stream": "stdout",
       "text": "C= 1491.5 m/s\nC= 1370.7 m/s\nC= 1188 m/s\n"
      }
     ],
     "prompt_number": 1
    },
    {
     "cell_type": "heading",
     "level": 2,
     "metadata": {},
     "source": "Example 14.12 Page No358"
    },
    {
     "cell_type": "code",
     "collapsed": false,
     "input": "from __future__ import division\n\nimport math\n\n#variable initialization\n\nE=2.07E+5               #pressure in steel pipe\n\nK=1.43E+3               #Bulk modulus in MPa\n\nt=2                     #thickness in cm\n\nD=2.5                   #diameter in m\n\nRD=0.80                 #relative density\n\nrho=998                 #density in m/s^2\n\n#solution\n\nD=D*100                 #converting D to cm\n\nE=E*(10**6)             #converting MPa to Pa\n\nK=K*(10**6)             #converting MPa to Pa\n\n#velocity of pressure wave\n\nC=(math.sqrt(K/(rho*RD)))*(math.pow(1/(1+((D/t)*(K/E))),1/2))\n\nprint \"C=\",round(C,1),\"m/s\"",
     "language": "python",
     "metadata": {},
     "outputs": [
      {
       "output_type": "stream",
       "stream": "stdout",
       "text": "C= 980.4 m/s\n"
      }
     ],
     "prompt_number": 2
    },
    {
     "cell_type": "heading",
     "level": 2,
     "metadata": {},
     "source": "Example 14.14 Page No358"
    },
    {
     "cell_type": "code",
     "collapsed": false,
     "input": "from __future__ import division\n\nimport math\n\n#variable initialization\n\nE=1.0E+11                   #modulus of elasticity\n\nK=2.0E+9                    #Bulk modulus in Pa\n\nt=1.25                      #thickness in mm\n\nD=0.9                       #diameter in m\n\nrho=998                     #density in kg/m^3\n\nL=1000                      #length in m\n\nV=2.60                      #velocity in m/s\n\ng=9.81                      #gravity in m/s^2\n\n#solution\n\nD=D*100                     #converting D to cm\n\n#velocity of pressure wave\n\nC=(math.sqrt(K/(rho)))*(math.pow(1/(1+((D/t)*(K/E))),1/2))\n\n#with Pressure rise,\n\ndel_V=0-V                   #calculating del_V\n\nh_h=-(C*del_V)/g            #Water Wammer Head\n\nprint \"h_W=\",round(h_h,1),\"m\"",
     "language": "python",
     "metadata": {},
     "outputs": [
      {
       "output_type": "stream",
       "stream": "stdout",
       "text": "h_W= 240.2 m\n"
      }
     ],
     "prompt_number": 3
    },
    {
     "cell_type": "heading",
     "level": 2,
     "metadata": {},
     "source": "Example 14.16 Page No359"
    },
    {
     "cell_type": "code",
     "collapsed": false,
     "input": "from __future__ import division\n\nimport math\n\n#variable initialization\n\nE=2.10E+11                #modulus of elasticity\n\nK=1.43E+9                 #Bulk modulus in Pa\n\nt=80                      #thickness in mm\n\nD=80                      #diameter in cm\n\nRD=0.8                    #relative density for kerosene\n\nrho=998                   #density in m/s^2\n\nL=1000                    #length in m\n\n#solution\n\nD=D*10                    #converting D to mm\n\n#velocity of pressure wave\n\nC=(math.sqrt(K/(rho*RD)))*(math.pow(1/(1+((D/t)*(K/E))),1/2))\n\nTo=(2*L)/C\n\nprint \"Hence maximum time for a sudden closure is\",round(To,3),\"s\"",
     "language": "python",
     "metadata": {},
     "outputs": [
      {
       "output_type": "stream",
       "stream": "stdout",
       "text": "Hence maximum time for a sudden closure is 1.544 s\n"
      }
     ],
     "prompt_number": 4
    },
    {
     "cell_type": "heading",
     "level": 2,
     "metadata": {},
     "source": "Example 14.20 Page No360"
    },
    {
     "cell_type": "code",
     "collapsed": false,
     "input": "from __future__ import division\n\nimport math\n\n#variable initialization\n\nK=2.2E+3             #bulk modulus in MPa\n\nrho=998              #density in kg/m^3\n\nL=3500               #length in m\n\nVo=0.8               #velocity in m/s\n\nT=4.0                #closure in s\n\n#solution\n\nC=round(math.sqrt((K*10**6)/rho),1)   #velocity of pressure wave\n\nTo=(2*L)/C                            #critical time\n\n#T=4.0 s,the closure is rapid.\n\nPh=(rho*C*Vo)/(10**6)                #water hammer pressure\n\nprint \"Ph=\",round(Ph,3),\"MPa\"\n\n#length of the pipe affected by peak pressure\n\nXo=L-((C*T)/2)\n\nprint \"Xo=\",Xo,\"m\"",
     "language": "python",
     "metadata": {},
     "outputs": [
      {
       "output_type": "stream",
       "stream": "stdout",
       "text": "Ph= 1.185 MPa\nXo= 530.6 m\n"
      }
     ],
     "prompt_number": 5
    }
   ],
   "metadata": {}
  }
 ]
}