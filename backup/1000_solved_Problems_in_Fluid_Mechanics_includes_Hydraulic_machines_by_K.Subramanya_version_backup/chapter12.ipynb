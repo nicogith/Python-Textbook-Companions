{
 "metadata": {
  "name": "chapter12"
 },
 "nbformat": 3,
 "nbformat_minor": 0,
 "worksheets": [
  {
   "cells": [
    {
     "cell_type": "heading",
     "level": 1,
     "metadata": {},
     "source": "Chapter 12:Flow in Open Channels"
    },
    {
     "cell_type": "heading",
     "level": 2,
     "metadata": {},
     "source": "Example 12.1 Page No277"
    },
    {
     "cell_type": "code",
     "collapsed": false,
     "input": "from __future__ import division\n\n#variable initialisation\n\nB=2.5             #width in m\n\ny=1.2             #depth in m\n\ns_o=0.0036        #Bed slope\n\nga=998\n\ng=9.81            #gravity in m/s^2\n\n#solution\n\nA=B*y             #area\n\nP=B+2*y           #Wetted Perimeter\n\nR=A/P             #Hydraulic radius\n\ntou=ga*g*R*s_o    #average shear stress\n\nprint \"tou=\",round(tou,2),\"Pa\"",
     "language": "python",
     "metadata": {},
     "outputs": [
      {
       "output_type": "stream",
       "stream": "stdout",
       "text": "tou= 21.58 Pa\n"
      }
     ],
     "prompt_number": 1
    },
    {
     "cell_type": "heading",
     "level": 2,
     "metadata": {},
     "source": "Example 12.3 Page No278"
    },
    {
     "cell_type": "code",
     "collapsed": false,
     "input": "from __future__ import division\n\nimport math\n\n#variable initialization\n\nw=10                          #width in m\n\nh=1.5                         # horizantal slope\n\nv=1                           #vertical slope\n\nd=3                           #depth in m\n\nn=0.015                       #mannings n\n\nQ=100\n\n#solution\n\nA=(w+(h*d))*d                            #Area\n\nP=round((w+(2*d)*math.sqrt((h**2)+v)),3) #wetted perimeter\n\nR=A/P                                    #hydraulic radius\n\n#By mannings formula\n\nSo=((Q*n)/(A*(math.pow(R,2/3))))**2\n\nprint \"So=\",'%0.3E' % So",
     "language": "python",
     "metadata": {},
     "outputs": [
      {
       "output_type": "stream",
       "stream": "stdout",
       "text": "So= 4.451E-04\n"
      }
     ],
     "prompt_number": 1
    },
    {
     "cell_type": "heading",
     "level": 2,
     "metadata": {},
     "source": "Example 12.4 Page No278"
    },
    {
     "cell_type": "code",
     "collapsed": false,
     "input": "from __future__ import division\n\nimport math\n\n#variable initialisation\n\nw=5                           #width in m\n\nd=2.3                         #depthin m\n\nf=0.02                        #friction factor\n\ng=9.81                        #gravity in m/s^2\n\n#solution\n\nA=w*d                         #area\n\nP=w+(2*d)                     #Wetted perimeter\n\nR=round(A/P ,3)               #Hydraulic radius\n\nC=round(math.sqrt((8*g)/f),1) #value of chezy's C\n\nprint \"C=\",C\n\nn=(math.pow(R,1/6))\n\nprint \"n=\",round(n/C,4)",
     "language": "python",
     "metadata": {},
     "outputs": [
      {
       "output_type": "stream",
       "stream": "stdout",
       "text": "C= 62.6\nn= 0.0165\n"
      }
     ],
     "prompt_number": 2
    },
    {
     "cell_type": "heading",
     "level": 2,
     "metadata": {},
     "source": "Example 12.5 Page No278"
    },
    {
     "cell_type": "code",
     "collapsed": false,
     "input": "from __future__ import division\n\nimport math\n\n#variable iniatialization\n\nB=3                        #width in m\n\nh=1                        #horizantal slope\n\nm=1                        #vertical slope\n\nSo=0.0036                  #bottom slope of channel\n\ny=1.25                     #depth in m\n\nQ=15                       #discharge in m^3/s\n\n#solution\n\nA=(B+(h*y))*y                            #area\n\nV=round(Q/A,3)                           #velocity\n\nP=round(B+(2*y*(math.sqrt((m**2)+1))),4) #wetted perimeter\n\nR=round(A/P,4)\n                                   \nC=V/(math.sqrt(R*So))                    #By chezy formula\n\nprint \"C=\",round(C,1)",
     "language": "python",
     "metadata": {},
     "outputs": [
      {
       "output_type": "stream",
       "stream": "stdout",
       "text": "C= 52.2\n"
      }
     ],
     "prompt_number": 3
    },
    {
     "cell_type": "heading",
     "level": 2,
     "metadata": {},
     "source": "Example 12.45 Page No293"
    },
    {
     "cell_type": "code",
     "collapsed": false,
     "input": "from __future__ import division\n\nimport math\n\n#variable initialization\n\ny1=0.5                      #depth of flow before jump\n\ny2=3.0                      #depth of flow after jump\n\ng=9.81                      #gravity in m/s^2\n\nga=9790                     #specific weight\n\n#solution\n\n#sequent depths related to critical depth as,\n\nyc=((y1)*(y2)*(y1+y2))/2            #Critical depth\n\nprint \"(i)yc=\",round(math.pow(yc,1/3),3),\"m\"\n\n#(q**2)/g=yc**3\n\nq=round(math.sqrt(yc*g),3)\n\nE_L=round(((y2-y1)**3)/(4*y1*y2),3) #Head loss\n\nP=ga*q*E_L                          #Power lost per metre width\n\nprint \"(ii)P=\",round(P/1000,1),\"kW\"",
     "language": "python",
     "metadata": {},
     "outputs": [
      {
       "output_type": "stream",
       "stream": "stdout",
       "text": "(i)yc= 1.379 m\n(ii)P= 129.4 kW\n"
      }
     ],
     "prompt_number": 5
    }
   ],
   "metadata": {}
  }
 ]
}