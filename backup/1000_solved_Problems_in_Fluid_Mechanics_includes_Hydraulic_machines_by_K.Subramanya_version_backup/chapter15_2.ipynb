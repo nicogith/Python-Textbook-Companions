{
 "metadata": {
  "name": "",
  "signature": "sha256:b8d5e1bb880e94c85c57249a3b8dce00547989931ff13d99297de0b74b583f13"
 },
 "nbformat": 3,
 "nbformat_minor": 0,
 "worksheets": [
  {
   "cells": [
    {
     "cell_type": "heading",
     "level": 1,
     "metadata": {},
     "source": [
      "Chapter 15:Compressible Flow"
     ]
    },
    {
     "cell_type": "heading",
     "level": 2,
     "metadata": {},
     "source": [
      "Example 15.1 Page No376"
     ]
    },
    {
     "cell_type": "code",
     "collapsed": false,
     "input": [
      "from __future__ import division\n",
      "\n",
      "import math\n",
      "\n",
      "#variable initialization\n",
      "\n",
      "Mg=44                #molecular weight of carbondioxide\n",
      "\n",
      "#solution\n",
      "\n",
      "R=8314/Mg            #gas constant for carbondioxide\n",
      "\n",
      "print \"R=\",int(round(R,1)),\"N.m/(Kg.K)\"\n",
      "\n",
      "Mg=32                #molecular weight of oxygen\n",
      "\n",
      "R=8314/Mg            #gas constant for oxygen\n",
      "\n",
      "print \"R=\",int(math.ceil(round(R,1))),\"N.m/(Kg.K)\"\n"
     ],
     "language": "python",
     "metadata": {},
     "outputs": [
      {
       "output_type": "stream",
       "stream": "stdout",
       "text": [
        "R= 189 N.m/(Kg.K)\n",
        "R= 260 N.m/(Kg.K)\n"
       ]
      }
     ],
     "prompt_number": 1
    },
    {
     "cell_type": "heading",
     "level": 2,
     "metadata": {},
     "source": [
      "Example 15.2 Page No376"
     ]
    },
    {
     "cell_type": "code",
     "collapsed": false,
     "input": [
      "from __future__ import division\n",
      "\n",
      "import math\n",
      "\n",
      "#variable initialization\n",
      "\n",
      "Mg=28.96            #molecular weight of air\n",
      "\n",
      "k=1.4               #constant for air \n",
      "\n",
      "#solution\n",
      "\n",
      "R=int(8314/Mg)      #in J/(kg.K)\n",
      "\n",
      "Cp=(k/(k-1.0))*R\n",
      "\n",
      "print \"Cp=\",Cp,\"J/(Kg.K)\"\n",
      "\n",
      "Cv=R/(k-1)         #in J/(kg.K)\n",
      "\n",
      "print \"Cv=\",Cv,\"J/(Kg.K)\"\n",
      "\n",
      "#1 Kcal = 4187 J\n",
      "\n",
      "print \"In heat units\"\n",
      "\n",
      "Cp=Cp/4187\n",
      "\n",
      "print \"Cp=\",round(Cp,3),\"Kcal/(Kg.K)\" \n",
      "\n",
      "Cv=Cv/4187\n",
      "\n",
      "print \"Cv=\",round(Cv,3),\"Kcal/(Kg.K)\"\n"
     ],
     "language": "python",
     "metadata": {},
     "outputs": [
      {
       "output_type": "stream",
       "stream": "stdout",
       "text": [
        "Cp= 1004.5 J/(Kg.K)\n",
        "Cv= 717.5 J/(Kg.K)\n",
        "In heat units\n",
        "Cp= 0.24 Kcal/(Kg.K)\n",
        "Cv= 0.171 Kcal/(Kg.K)\n"
       ]
      }
     ],
     "prompt_number": 2
    },
    {
     "cell_type": "heading",
     "level": 2,
     "metadata": {},
     "source": [
      "Example 15.3 Page No376"
     ]
    },
    {
     "cell_type": "code",
     "collapsed": false,
     "input": [
      "from __future__ import division\n",
      "\n",
      "import math\n",
      "\n",
      "#variable initialization\n",
      "\n",
      "T1=15                       #temperature initially in degree\n",
      "\n",
      "T2=65                       #increased temperature in degree\n",
      "\n",
      "Cv=670                      #in j/(kg.k)\n",
      "\n",
      "E=1000                      #enthalpy\n",
      "\n",
      "Cp=858                      #in j/(kg.k)\n",
      "\n",
      "#Calculation\n",
      "\n",
      "T1=273+T1                   #temperature in kelvin\n",
      "\n",
      "T2=273+T2\n",
      "\n",
      "m=E/9.81                    #Mass of 1000N of co2\n",
      "\n",
      "del_u=Cv*(T2-T1)\n",
      "\n",
      "Tc=m*del_u                  #Total change in internal energy\n",
      "\n",
      "print \"Total change in internal energy=\",int(Tc/1000),\"kJ\"\n",
      "\n",
      "del_h=Cp*(T2-T1)\n",
      "\n",
      "Te=m*del_h\n",
      "\n",
      "print \"Total change in enthalpy=\",int(Te/1000),\"kJ\"\n"
     ],
     "language": "python",
     "metadata": {},
     "outputs": [
      {
       "output_type": "stream",
       "stream": "stdout",
       "text": [
        "Total change in internal energy= 3414 kJ\n",
        "Total change in enthalpy= 4373 kJ\n"
       ]
      }
     ],
     "prompt_number": 3
    },
    {
     "cell_type": "heading",
     "level": 2,
     "metadata": {},
     "source": [
      "Example 15.5 Page No377"
     ]
    },
    {
     "cell_type": "code",
     "collapsed": false,
     "input": [
      "from __future__ import division\n",
      "\n",
      "import math\n",
      "\n",
      "#variable initialization\n",
      "\n",
      "R=260                       #in j/(kg.k)\n",
      "\n",
      "k=1.4                       #given value\n",
      "\n",
      "T1=27                       #temperature initially in degree\n",
      "\n",
      "T2=85                       #increased temperature in degree\n",
      "\n",
      "p1=150                      #Pressure in kPa\n",
      "\n",
      "p2=450                      #pressure 2 in kPa\n",
      "\n",
      "m=7                         #kg of oxygen \n",
      "\n",
      "#Calculation\n",
      "\n",
      "Cv=R/(k-1)\n",
      "\n",
      "T1=T1+273                                         #Temperature in kelvin\n",
      "\n",
      "T2=T2+273\n",
      "\n",
      "S=Cv*math.log((((T2/T1)**k)*((p1/p2)**(k-1))))    #Change in entropy per kg\n",
      "\n",
      "T=m*S\n",
      "\n",
      "print \"Total change in entropy=\",round(T,1),\"J/K\"\n"
     ],
     "language": "python",
     "metadata": {},
     "outputs": [
      {
       "output_type": "stream",
       "stream": "stdout",
       "text": [
        "Total change in entropy= -873.6 J/K\n"
       ]
      }
     ],
     "prompt_number": 4
    },
    {
     "cell_type": "heading",
     "level": 2,
     "metadata": {},
     "source": [
      "Example 15.7 Page No378"
     ]
    },
    {
     "cell_type": "code",
     "collapsed": false,
     "input": [
      "from __future__ import division\n",
      "\n",
      "import math\n",
      "\n",
      "#variable initialization\n",
      "\n",
      "k=1.40              #constant for gases\n",
      "\n",
      "R=260               #gas constant in J/(Kg.K)\n",
      "\n",
      "T=25                #temperature in degree C\n",
      "\n",
      "#solution\n",
      "\n",
      "T=273 +T            #converting into K\n",
      "\n",
      "C=math.sqrt(k*R*T)  #Speed of sound\n",
      "\n",
      "print \"C=\",round(C,1),\"m/s\"\n"
     ],
     "language": "python",
     "metadata": {},
     "outputs": [
      {
       "output_type": "stream",
       "stream": "stdout",
       "text": [
        "C= 329.4 m/s\n"
       ]
      }
     ],
     "prompt_number": 5
    },
    {
     "cell_type": "heading",
     "level": 2,
     "metadata": {},
     "source": [
      "Example 15.8 Page No378"
     ]
    },
    {
     "cell_type": "code",
     "collapsed": false,
     "input": [
      "from __future__ import division\n",
      "\n",
      "import math\n",
      "\n",
      "#variable initialization\n",
      "\n",
      "M=1.5                    #Mach number\n",
      "\n",
      "p=89.89                  #Pressure in kPa\n",
      "\n",
      "rho=1.112                #density in kg/m^3\n",
      "\n",
      "k=1.4                    #constant for gases\n",
      "\n",
      "#solution\n",
      "\n",
      "#At 1000 m altitude,\n",
      "\n",
      "C=math.sqrt((k*(p*1000))/rho)\n",
      "\n",
      "V=C*M                   #Using Mach number\n",
      "\n",
      "V=(V*3600)/1000         #Converting V from m/s to Km/h\n",
      "\n",
      "print \"V=\",int(math.ceil(round(V,1))),\"Km/h\"\n",
      "\n",
      "#At 10,000 m altitude\n",
      "\n",
      "p=26.42                #Pressure in kPa\n",
      "\n",
      "rho=0.4125             #density in kg/m^3\n",
      "\n",
      "C=math.sqrt((k*(p*1000))/rho)\n",
      "\n",
      "V=C*M\n",
      "\n",
      "V=(V*3600)/1000       #Converting V from m/s to Km/h\n",
      "\n",
      "print \"V=\",int(V),\"Km/h\"\n",
      "\n"
     ],
     "language": "python",
     "metadata": {},
     "outputs": [
      {
       "output_type": "stream",
       "stream": "stdout",
       "text": [
        "V= 1817 Km/h\n",
        "V= 1617 Km/h\n"
       ]
      }
     ],
     "prompt_number": 6
    },
    {
     "cell_type": "heading",
     "level": 2,
     "metadata": {},
     "source": [
      "Example 15.13 Page No380"
     ]
    },
    {
     "cell_type": "code",
     "collapsed": false,
     "input": [
      "from __future__ import division\n",
      "\n",
      "import math\n",
      "\n",
      "#variable initialization\n",
      "\n",
      "k=1.28                      #given value\n",
      "\n",
      "R=188                       #in j/(kg.k)\n",
      "\n",
      "T=30                        #Temperature in degree\n",
      "\n",
      "V1=150                      #velocity in m/s\n",
      "\n",
      "P1=500                      #pressure in kPa\n",
      "\n",
      "#Calculation\n",
      "\n",
      "T=T+273                     #Converting into kelvin\n",
      "\n",
      "C=math.sqrt(k*R*T)          #Speed of sound in CO2\n",
      "\n",
      "M1=V1/C                     #Mach number\n",
      "\n",
      "T0=T*((1+((k-1)/2)*(M1**2)))\n",
      "\n",
      "print \"T0=\",int(T0-273),\"degree C\"   #In degree celsius\n",
      "\n",
      "P0=P1*((1+((k-1)/2)*(M1**2)))**(k/(k-1))\n",
      "\n",
      "print \"P0=\",round(P0,2),\"kPa(abs)\"\n"
     ],
     "language": "python",
     "metadata": {},
     "outputs": [
      {
       "output_type": "stream",
       "stream": "stdout",
       "text": [
        "T0= 43 degree C\n",
        "P0= 606.65 kPa(abs)\n"
       ]
      }
     ],
     "prompt_number": 7
    },
    {
     "cell_type": "heading",
     "level": 2,
     "metadata": {},
     "source": [
      "Example 15.15 Page No381"
     ]
    },
    {
     "cell_type": "code",
     "collapsed": false,
     "input": [
      "from __future__ import division\n",
      "\n",
      "import math\n",
      "\n",
      "#variable initialization\n",
      "\n",
      "T0=30                      #temperatuer in degree\n",
      "\n",
      "p1=50                      #Pressure in kPa\n",
      "\n",
      "p0=95                      #pressure 2 in kPa\n",
      "\n",
      "k=1.4                      #given value\n",
      "\n",
      "R=287                      #in j/(kg.k)\n",
      "\n",
      "#Calculation\n",
      "\n",
      "T0=T0+273                        #converting into kelvin\n",
      "\n",
      "T1=round(T0*(p1/p0)**((k-1)/k),1)#For isentropic flow with subscript zero denoting stagnation values\n",
      "\n",
      "V1=((2*k*R)/(k-1.0))*(T0-T1)\n",
      "\n",
      "print \"(i)V1=\",round((V1**(1/2)),1),\"m/s\"\n",
      "\n",
      "rho1=round((p0*1000)/(R*T0),3)   #When compressibility effects are ignored\n",
      "\n",
      "V1=(2*(p0-p1)*1000)/rho1\n",
      "\n",
      "print \"(ii)V1=\",round(math.sqrt(V1),1),\"m/s\"\n",
      " \n"
     ],
     "language": "python",
     "metadata": {},
     "outputs": [
      {
       "output_type": "stream",
       "stream": "stdout",
       "text": [
        "(i)V1= 319.5 m/s\n",
        "(ii)V1= 287.1 m/s\n"
       ]
      }
     ],
     "prompt_number": 8
    },
    {
     "cell_type": "heading",
     "level": 2,
     "metadata": {},
     "source": [
      "Example 15.16 Page No381"
     ]
    },
    {
     "cell_type": "code",
     "collapsed": false,
     "input": [
      "from __future__ import division\n",
      "\n",
      "import math\n",
      "\n",
      "#variable initialization\n",
      "\n",
      "To=35              #temperature in degree C\n",
      "\n",
      "R=287              #gas constant in (J/Kg.K)\n",
      "\n",
      "po=250             #pressure in kPa\n",
      "\n",
      "k=1.4              #constant for gases\n",
      "\n",
      "V1=200             #velocity in m/s\n",
      "\n",
      "#solution\n",
      "\n",
      "To=273+To          #converting into K\n",
      "\n",
      "Cp=(k*R)/(k-1)\n",
      "\n",
      "T1=int(To-((V1**2)/(2*Cp)))\n",
      "\n",
      "#The Mach number M1,at the exit is,\n",
      "\n",
      "M1=math.sqrt(((To/T1)-1)/0.2)\n",
      "\n",
      "print \"M1=\",round(M1,3)\n"
     ],
     "language": "python",
     "metadata": {},
     "outputs": [
      {
       "output_type": "stream",
       "stream": "stdout",
       "text": [
        "M1= 0.589\n"
       ]
      }
     ],
     "prompt_number": 9
    },
    {
     "cell_type": "heading",
     "level": 2,
     "metadata": {},
     "source": [
      "Example 15.21 Page No384"
     ]
    },
    {
     "cell_type": "code",
     "collapsed": false,
     "input": [
      "from __future__ import division\n",
      "\n",
      "import math\n",
      "\n",
      "#variable initialization\n",
      "\n",
      "k=1.32                         #given value \n",
      "\n",
      "M2=0.40                        #Mach number of downstream\n",
      "\n",
      "#Calculation\n",
      "\n",
      "#by using formula M2**2=(2+(k-1)M1**2)/(2*K*M!**2-(k-1))\n",
      "\n",
      "M1_s=(((M2**2)*2*k)-(k-1))\n",
      "\n",
      "M1=-((-((M2**2)*(k-1))-2.0)/M1_s)\n",
      "\n",
      "print \"M1=\",round(M1**(1/2),3)\n"
     ],
     "language": "python",
     "metadata": {},
     "outputs": [
      {
       "output_type": "stream",
       "stream": "stdout",
       "text": [
        "M1= 4.476\n"
       ]
      }
     ],
     "prompt_number": 10
    }
   ],
   "metadata": {}
  }
 ]
}